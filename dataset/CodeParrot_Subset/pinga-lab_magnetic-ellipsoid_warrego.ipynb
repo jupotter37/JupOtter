{
 "cells": [
  {
   "cell_type": "markdown",
   "metadata": {},
   "source": [
    "# Impact of neglecting the self-demagnetization"
   ]
  },
  {
   "cell_type": "markdown",
   "metadata": {},
   "source": [
    "### Import the required modules"
   ]
  },
  {
   "cell_type": "code",
   "execution_count": 1,
   "metadata": {
    "collapsed": true
   },
   "outputs": [],
   "source": [
    "%matplotlib inline\n",
    "import numpy as np\n",
    "from matplotlib.ticker import MaxNLocator\n",
    "from matplotlib import pyplot as plt\n",
    "from matplotlib.colors import BoundaryNorm\n",
    "from matplotlib.cm import get_cmap\n",
    "from fatiando import utils, gridder\n",
    "import mesher, triaxial_ellipsoid\n",
    "from plot_functions import savefig"
   ]
  },
  {
   "cell_type": "code",
   "execution_count": 2,
   "metadata": {
    "collapsed": true
   },
   "outputs": [],
   "source": [
    "# Set some plot parameters\n",
    "from matplotlib import rcParams\n",
    "rcParams['figure.dpi'] = 300.\n",
    "rcParams['font.size'] = 6\n",
    "rcParams['xtick.labelsize'] = 'medium'\n",
    "rcParams['ytick.labelsize'] = 'medium'\n",
    "rcParams['axes.labelsize'] = 'large'\n",
    "rcParams['legend.fontsize'] = 'medium'\n",
    "rcParams['savefig.dpi'] = 300."
   ]
  },
  {
   "cell_type": "markdown",
   "metadata": {},
   "source": [
    "### Warrego magnetite body"
   ]
  },
  {
   "cell_type": "code",
   "execution_count": 3,
   "metadata": {
    "collapsed": true
   },
   "outputs": [],
   "source": [
    "# semi-axes (in m)\n",
    "a = 490.7\n",
    "b = 69.7\n",
    "c = 30.\n",
    "\n",
    "# orientation angles (in degrees)\n",
    "strike = -34.\n",
    "dip = 66.1\n",
    "rake = 45."
   ]
  },
  {
   "cell_type": "code",
   "execution_count": 4,
   "metadata": {
    "collapsed": true
   },
   "outputs": [],
   "source": [
    "# isotropic susceptibility (in SI)\n",
    "chi_true = 1.690"
   ]
  },
  {
   "cell_type": "code",
   "execution_count": 5,
   "metadata": {
    "collapsed": true
   },
   "outputs": [],
   "source": [
    "warrego = mesher.TriaxialEllipsoid(0, 0, 500, a, b, c, strike, dip, rake,\n",
    "                                   props={'principal susceptibilities': [chi_true, chi_true, chi_true],\n",
    "                                          'susceptibility angles': [strike, dip, rake]})"
   ]
  },
  {
   "cell_type": "code",
   "execution_count": 6,
   "metadata": {
    "collapsed": true
   },
   "outputs": [],
   "source": [
    "# demagnetizing factors\n",
    "n11, n22, n33 = triaxial_ellipsoid.demag_factors(warrego)"
   ]
  },
  {
   "cell_type": "markdown",
   "metadata": {},
   "source": [
    "### Local-geomagnetic field (nT)"
   ]
  },
  {
   "cell_type": "markdown",
   "metadata": {},
   "source": [
    "##### Main coordinate system"
   ]
  },
  {
   "cell_type": "code",
   "execution_count": 7,
   "metadata": {
    "collapsed": true
   },
   "outputs": [],
   "source": [
    "F_xyz = np.array([32610., 0., 39450.])\n",
    "F, inc, dec = utils.vec2ang(F_xyz)"
   ]
  },
  {
   "cell_type": "code",
   "execution_count": 8,
   "metadata": {},
   "outputs": [
    {
     "name": "stdout",
     "output_type": "stream",
     "text": [
      "51183.1476172 50.4223208627 0.0\n"
     ]
    }
   ],
   "source": [
    "print F, inc, dec"
   ]
  },
  {
   "cell_type": "markdown",
   "metadata": {},
   "source": [
    "##### Local coordinate system"
   ]
  },
  {
   "cell_type": "code",
   "execution_count": 9,
   "metadata": {
    "collapsed": true
   },
   "outputs": [],
   "source": [
    "F_local = np.dot(warrego.transf_matrix.T, F_xyz)"
   ]
  },
  {
   "cell_type": "code",
   "execution_count": 10,
   "metadata": {},
   "outputs": [
    {
     "name": "stdout",
     "output_type": "stream",
     "text": [
      "[ 49844.03074679 -11610.88695533    688.8417986 ]\n"
     ]
    }
   ],
   "source": [
    "print F_local"
   ]
  },
  {
   "cell_type": "markdown",
   "metadata": {},
   "source": [
    "### Observation points (m)"
   ]
  },
  {
   "cell_type": "code",
   "execution_count": 11,
   "metadata": {
    "collapsed": true
   },
   "outputs": [],
   "source": [
    "area = [-2000., 2000., -2000., 2000.]\n",
    "shape = (100, 100)\n",
    "xp, yp, zp = gridder.regular(area, shape, z = 0.)"
   ]
  },
  {
   "cell_type": "markdown",
   "metadata": {},
   "source": [
    "### Total-field anomaly (nT)"
   ]
  },
  {
   "cell_type": "markdown",
   "metadata": {},
   "source": [
    "### $\\chi = \\chi_{true}$"
   ]
  },
  {
   "cell_type": "code",
   "execution_count": 12,
   "metadata": {},
   "outputs": [
    {
     "name": "stdout",
     "output_type": "stream",
     "text": [
      "epsilon = 8.403 percent\n"
     ]
    }
   ],
   "source": [
    "# true magnetization in the main system\n",
    "mag_true = triaxial_ellipsoid.magnetization(warrego, F, inc, dec, demag=True)\n",
    "\n",
    "# approximated magnetization\n",
    "mag_true_approx = triaxial_ellipsoid.magnetization(warrego, F, inc, dec, demag=False)\n",
    "\n",
    "# relative error\n",
    "mag_true_norm = np.linalg.norm(mag_true, ord = 2)\n",
    "mag_true_approx_norm = np.linalg.norm(mag_true_approx, ord = 2)\n",
    "delta_mag_true_norm = np.linalg.norm(mag_true - mag_true_approx, ord = 2)\n",
    "epsilon_true = delta_mag_true_norm/mag_true_norm\n",
    "\n",
    "print 'epsilon = %.3f percent' % (epsilon_true*100)"
   ]
  },
  {
   "cell_type": "code",
   "execution_count": 13,
   "metadata": {},
   "outputs": [
    {
     "name": "stdout",
     "output_type": "stream",
     "text": [
      "[ 44.36562777  -3.34636713  48.66805892] 65.9400262282\n"
     ]
    }
   ],
   "source": [
    "print mag_true, mag_true_norm"
   ]
  },
  {
   "cell_type": "code",
   "execution_count": 14,
   "metadata": {},
   "outputs": [
    {
     "name": "stdout",
     "output_type": "stream",
     "text": [
      "[  4.38558608e+01  -2.88105245e-15   5.30546982e+01] 68.834130496\n"
     ]
    }
   ],
   "source": [
    "print mag_true_approx, mag_true_approx_norm"
   ]
  },
  {
   "cell_type": "code",
   "execution_count": 15,
   "metadata": {
    "collapsed": true
   },
   "outputs": [],
   "source": [
    "tf_true = triaxial_ellipsoid.tf(xp, yp, zp, [warrego], F, inc, dec)"
   ]
  },
  {
   "cell_type": "code",
   "execution_count": 16,
   "metadata": {},
   "outputs": [
    {
     "data": {
      "image/png": "[encoded data removed]",
      "text/plain": [
       "<matplotlib.figure.Figure at 0xade0be0>"
      ]
     },
     "metadata": {},
     "output_type": "display_data"
    }
   ],
   "source": [
    "plt.figure(figsize=(3.15, 7./3))\n",
    "plt.axis('scaled')\n",
    "\n",
    "ranges = np.max(np.abs([np.min(tf_true), np.max(tf_true)]))\n",
    "levels = MaxNLocator(nbins=20).tick_values(-ranges, ranges)\n",
    "cmap = plt.get_cmap('RdBu_r')\n",
    "norm = BoundaryNorm(levels, ncolors=cmap.N, clip=True)\n",
    "\n",
    "plt.contourf(0.001*yp.reshape(shape), 0.001*xp.reshape(shape),\n",
    "             tf_true.reshape(shape), levels=levels,\n",
    "             cmap = cmap, norm=norm)\n",
    "plt.ylabel('x (km)')\n",
    "plt.xlabel('y (km)')\n",
    "plt.xlim(0.001*np.min(yp), 0.001*np.max(yp))\n",
    "plt.ylim(0.001*np.min(xp), 0.001*np.max(xp))\n",
    "cbar = plt.colorbar()\n",
    "\n",
    "plt.tight_layout()\n",
    "savefig('f05.pdf')\n",
    "\n",
    "plt.show()"
   ]
  },
  {
   "cell_type": "code",
   "execution_count": 17,
   "metadata": {},
   "outputs": [
    {
     "name": "stdout",
     "output_type": "stream",
     "text": [
      "max = 482.486\n",
      "min = -70.649\n",
      "peak-to-peak amplitude = 553.135\n"
     ]
    }
   ],
   "source": [
    "print 'max = %.3f' % (tf_true.max())\n",
    "print 'min = %.3f' % (tf_true.min())\n",
    "print 'peak-to-peak amplitude = %.3f' % (tf_true.max() - tf_true.min())"
   ]
  },
  {
   "cell_type": "code",
   "execution_count": 18,
   "metadata": {
    "collapsed": true
   },
   "outputs": [],
   "source": [
    "tf_true_approx = triaxial_ellipsoid.tf(xp, yp, zp, [warrego], F, inc, dec,\n",
    "                                       demag = False)"
   ]
  },
  {
   "cell_type": "code",
   "execution_count": 19,
   "metadata": {
    "collapsed": true
   },
   "outputs": [],
   "source": [
    "residuals_true = tf_true_approx - tf_true"
   ]
  },
  {
   "cell_type": "code",
   "execution_count": 20,
   "metadata": {},
   "outputs": [
    {
     "name": "stdout",
     "output_type": "stream",
     "text": [
      "residuals min  = -3.388\n",
      "residuals mean = 0.243\n",
      "residuals max  = 40.446\n"
     ]
    }
   ],
   "source": [
    "print 'residuals min  = %.3f' % (residuals_true.min())\n",
    "print 'residuals mean = %.3f' % (residuals_true.mean())\n",
    "print 'residuals max  = %.3f' % (residuals_true.max())"
   ]
  },
  {
   "cell_type": "code",
   "execution_count": 21,
   "metadata": {
    "collapsed": true
   },
   "outputs": [],
   "source": [
    "misfit_true = np.sum(residuals_true*residuals_true)/residuals_true.size"
   ]
  },
  {
   "cell_type": "code",
   "execution_count": 22,
   "metadata": {},
   "outputs": [
    {
     "name": "stdout",
     "output_type": "stream",
     "text": [
      "misfit = 10.371\n"
     ]
    }
   ],
   "source": [
    "print 'misfit = %.3f' % misfit_true"
   ]
  },
  {
   "cell_type": "code",
   "execution_count": 23,
   "metadata": {},
   "outputs": [
    {
     "name": "stdout",
     "output_type": "stream",
     "text": [
      "peak-to-peak field amplitude = 43.834 absolute\n"
     ]
    }
   ],
   "source": [
    "print 'peak-to-peak field amplitude = %.3f absolute' % \\\n",
    "(residuals_true.max() - residuals_true.min())"
   ]
  },
  {
   "cell_type": "code",
   "execution_count": 24,
   "metadata": {},
   "outputs": [
    {
     "name": "stdout",
     "output_type": "stream",
     "text": [
      "peak-to-peak field amplitude = 7.925 percent\n"
     ]
    }
   ],
   "source": [
    "print 'peak-to-peak field amplitude = %.3f percent' % \\\n",
    "(100*(residuals_true.max() - residuals_true.min())/(tf_true.max() - tf_true.min()))"
   ]
  },
  {
   "cell_type": "markdown",
   "metadata": {},
   "source": [
    "### $\\chi = 0.1$"
   ]
  },
  {
   "cell_type": "code",
   "execution_count": 25,
   "metadata": {
    "collapsed": true
   },
   "outputs": [],
   "source": [
    "# isotropic susceptibility commonly used as an upper limit\n",
    "# to neglect the self-demagnetization\n",
    "chi_usual = 0.1"
   ]
  },
  {
   "cell_type": "code",
   "execution_count": 26,
   "metadata": {
    "collapsed": true
   },
   "outputs": [],
   "source": [
    "warrego_usual = mesher.TriaxialEllipsoid(0, 0, 500, a, b, c, strike, dip, rake,\n",
    "                                         props={'principal susceptibilities': [chi_usual, chi_usual, chi_usual],\n",
    "                                         'susceptibility angles': [strike, dip, rake]})"
   ]
  },
  {
   "cell_type": "code",
   "execution_count": 27,
   "metadata": {},
   "outputs": [
    {
     "name": "stdout",
     "output_type": "stream",
     "text": [
      "epsilon = 0.675 percent\n"
     ]
    }
   ],
   "source": [
    "# true magnetization in the main system\n",
    "mag_usual = triaxial_ellipsoid.magnetization(warrego_usual, F, inc, dec,\n",
    "                                            demag=True)\n",
    "\n",
    "# approximated magnetization\n",
    "mag_usual_approx = triaxial_ellipsoid.magnetization(warrego_usual, F, inc, dec,\n",
    "                                                   demag=False)\n",
    "\n",
    "# relative error\n",
    "mag_usual_norm = np.linalg.norm(mag_usual, ord = 2)\n",
    "mag_usual_approx_norm = np.linalg.norm(mag_usual_approx, ord = 2)\n",
    "delta_mag_usual_norm = np.linalg.norm(mag_usual - mag_usual_approx, ord = 2)\n",
    "epsilon_usual = delta_mag_usual_norm/mag_usual_norm\n",
    "\n",
    "print 'epsilon = %.3f percent' % (epsilon_usual*100)"
   ]
  },
  {
   "cell_type": "code",
   "execution_count": 28,
   "metadata": {},
   "outputs": [
    {
     "name": "stdout",
     "output_type": "stream",
     "text": [
      "[ 2.59924155 -0.01822971  3.11927956] 4.06033175251\n"
     ]
    }
   ],
   "source": [
    "print mag_usual, mag_usual_norm"
   ]
  },
  {
   "cell_type": "code",
   "execution_count": 29,
   "metadata": {},
   "outputs": [
    {
     "name": "stdout",
     "output_type": "stream",
     "text": [
      "[  2.59502135e+00  -2.17834865e-16   3.13933125e+00] 4.07302547314\n"
     ]
    }
   ],
   "source": [
    "print mag_usual_approx, mag_usual_approx_norm"
   ]
  },
  {
   "cell_type": "code",
   "execution_count": 30,
   "metadata": {
    "collapsed": true
   },
   "outputs": [],
   "source": [
    "tf_usual = triaxial_ellipsoid.tf(xp, yp, zp, [warrego_usual], F, inc, dec)"
   ]
  },
  {
   "cell_type": "code",
   "execution_count": 31,
   "metadata": {
    "collapsed": true
   },
   "outputs": [],
   "source": [
    "tf_usual_approx = triaxial_ellipsoid.tf(xp, yp, zp, [warrego_usual], F, inc, dec,\n",
    "                                        demag = False)"
   ]
  },
  {
   "cell_type": "code",
   "execution_count": 32,
   "metadata": {
    "collapsed": true
   },
   "outputs": [],
   "source": [
    "residuals_usual = tf_usual_approx - tf_usual"
   ]
  },
  {
   "cell_type": "code",
   "execution_count": 33,
   "metadata": {},
   "outputs": [
    {
     "name": "stdout",
     "output_type": "stream",
     "text": [
      "residuals min  = -0.021\n",
      "residuals mean = 0.001\n",
      "residuals max  = 0.192\n"
     ]
    }
   ],
   "source": [
    "print 'residuals min  = %.3f' % (residuals_usual.min())\n",
    "print 'residuals mean = %.3f' % (residuals_usual.mean())\n",
    "print 'residuals max  = %.3f' % (residuals_usual.max())"
   ]
  },
  {
   "cell_type": "code",
   "execution_count": 34,
   "metadata": {
    "collapsed": true
   },
   "outputs": [],
   "source": [
    "misfit_usual = np.sum(residuals_usual*residuals_usual)/residuals_usual.size"
   ]
  },
  {
   "cell_type": "code",
   "execution_count": 35,
   "metadata": {},
   "outputs": [
    {
     "name": "stdout",
     "output_type": "stream",
     "text": [
      "misfit = 0.000\n"
     ]
    }
   ],
   "source": [
    "print 'misfit = %.3f' % misfit_usual"
   ]
  },
  {
   "cell_type": "code",
   "execution_count": 36,
   "metadata": {},
   "outputs": [
    {
     "name": "stdout",
     "output_type": "stream",
     "text": [
      "peak-to-peak field amplitude = 0.213 absolute\n"
     ]
    }
   ],
   "source": [
    "print 'peak-to-peak field amplitude = %.3f absolute' % \\\n",
    "(residuals_usual.max() - residuals_usual.min())"
   ]
  },
  {
   "cell_type": "code",
   "execution_count": 37,
   "metadata": {},
   "outputs": [
    {
     "name": "stdout",
     "output_type": "stream",
     "text": [
      "peak-to-peak field amplitude = 0.616 percent\n"
     ]
    }
   ],
   "source": [
    "print 'peak-to-peak field amplitude = %.3f percent' % \\\n",
    "(100*(residuals_usual.max() - residuals_usual.min())/(tf_usual.max() - tf_usual.min()))"
   ]
  },
  {
   "cell_type": "markdown",
   "metadata": {},
   "source": [
    "### $\\chi = \\chi_{max}$"
   ]
  },
  {
   "cell_type": "code",
   "execution_count": 38,
   "metadata": {},
   "outputs": [
    {
     "name": "stdout",
     "output_type": "stream",
     "text": [
      "chi_max = 0.116 SI\n"
     ]
    }
   ],
   "source": [
    "# proposed upper maximum isotropic susceptibility\n",
    "# to guarantee a relative error lower than or equal to epsilon\n",
    "#epsilon_max = 0.07 # this epsilon generates a misfit similar \n",
    "                   # to that obtained by using the usual chi = 0.1\n",
    "epsilon_max = 0.08\n",
    "chi_max = epsilon_max/n33\n",
    "\n",
    "print 'chi_max = %.3f SI' % chi_max"
   ]
  },
  {
   "cell_type": "code",
   "execution_count": 39,
   "metadata": {
    "collapsed": true
   },
   "outputs": [],
   "source": [
    "warrego_max = mesher.TriaxialEllipsoid(0, 0, 500, a, b, c, strike, dip, rake,\n",
    "                                       props={'principal susceptibilities': [chi_max, chi_max, chi_max],\n",
    "                                              'susceptibility angles': [strike, dip, rake]})"
   ]
  },
  {
   "cell_type": "code",
   "execution_count": 40,
   "metadata": {},
   "outputs": [
    {
     "name": "stdout",
     "output_type": "stream",
     "text": [
      "epsilon = 0.781 percent\n"
     ]
    }
   ],
   "source": [
    "# true magnetization in the main system\n",
    "mag_max = triaxial_ellipsoid.magnetization(warrego_max, F, inc, dec,\n",
    "                                           demag=True)\n",
    "\n",
    "# approximated magnetization\n",
    "mag_max_approx = triaxial_ellipsoid.magnetization(warrego_max, F, inc, dec,\n",
    "                                                  demag=False)\n",
    "\n",
    "# relative error\n",
    "mag_max_norm = np.linalg.norm(mag_max, ord = 2)\n",
    "mag_max_approx_norm = np.linalg.norm(mag_max_approx, ord = 2)\n",
    "delta_mag_max_norm = np.linalg.norm(mag_max - mag_max_approx, ord = 2)\n",
    "\n",
    "epsilon_calculated = delta_mag_max_norm/mag_max_norm\n",
    "\n",
    "print 'epsilon = %.3f percent' % (epsilon_calculated*100)"
   ]
  },
  {
   "cell_type": "code",
   "execution_count": 41,
   "metadata": {},
   "outputs": [
    {
     "name": "stdout",
     "output_type": "stream",
     "text": [
      "[ 3.01645036 -0.02440124  3.61542732] 4.70859670485\n"
     ]
    }
   ],
   "source": [
    "print mag_max, mag_max_norm"
   ]
  },
  {
   "cell_type": "code",
   "execution_count": 42,
   "metadata": {},
   "outputs": [
    {
     "name": "stdout",
     "output_type": "stream",
     "text": [
      "[  3.01081106e+00  -2.17834865e-16   3.64233353e+00] 4.72562978042\n"
     ]
    }
   ],
   "source": [
    "print mag_max_approx, mag_max_approx_norm"
   ]
  },
  {
   "cell_type": "code",
   "execution_count": 43,
   "metadata": {
    "collapsed": true
   },
   "outputs": [],
   "source": [
    "tf_max = triaxial_ellipsoid.tf(xp, yp, zp, [warrego_max], F, inc, dec)"
   ]
  },
  {
   "cell_type": "code",
   "execution_count": 44,
   "metadata": {
    "collapsed": true
   },
   "outputs": [],
   "source": [
    "tf_max_approx = triaxial_ellipsoid.tf(xp, yp, zp, [warrego_max], F, inc, dec,\n",
    "                                      demag = False)"
   ]
  },
  {
   "cell_type": "code",
   "execution_count": 45,
   "metadata": {
    "collapsed": true
   },
   "outputs": [],
   "source": [
    "residuals_max = tf_max_approx - tf_max"
   ]
  },
  {
   "cell_type": "code",
   "execution_count": 46,
   "metadata": {},
   "outputs": [
    {
     "name": "stdout",
     "output_type": "stream",
     "text": [
      "residuals min  = -0.028\n",
      "residuals mean = 0.002\n",
      "residuals max  = 0.257\n"
     ]
    }
   ],
   "source": [
    "print 'residuals min  = %.3f' % (residuals_max.min())\n",
    "print 'residuals mean = %.3f' % (residuals_max.mean())\n",
    "print 'residuals max  = %.3f' % (residuals_max.max())"
   ]
  },
  {
   "cell_type": "code",
   "execution_count": 47,
   "metadata": {
    "collapsed": true
   },
   "outputs": [],
   "source": [
    "misfit_max = np.sum(residuals_max*residuals_max)/residuals_max.size"
   ]
  },
  {
   "cell_type": "code",
   "execution_count": 48,
   "metadata": {},
   "outputs": [
    {
     "name": "stdout",
     "output_type": "stream",
     "text": [
      "misfit = 0.000\n"
     ]
    }
   ],
   "source": [
    "print 'misfit = %.3f' % misfit_max"
   ]
  },
  {
   "cell_type": "code",
   "execution_count": 49,
   "metadata": {},
   "outputs": [
    {
     "name": "stdout",
     "output_type": "stream",
     "text": [
      "peak-to-peak field amplitude = 0.285 absolute\n"
     ]
    }
   ],
   "source": [
    "print 'peak-to-peak field amplitude = %.3f absolute' % \\\n",
    "(residuals_max.max() - residuals_max.min())"
   ]
  },
  {
   "cell_type": "code",
   "execution_count": 50,
   "metadata": {},
   "outputs": [
    {
     "name": "stdout",
     "output_type": "stream",
     "text": [
      "peak-to-peak field amplitude = 0.712 percent\n"
     ]
    }
   ],
   "source": [
    "print 'peak-to-peak field amplitude = %.3f percent' % \\\n",
    "(100*(residuals_max.max() - residuals_max.min())/(tf_max.max() - tf_max.min()))"
   ]
  },
  {
   "cell_type": "markdown",
   "metadata": {},
   "source": [
    "### Comparison"
   ]
  },
  {
   "cell_type": "code",
   "execution_count": 51,
   "metadata": {
    "scrolled": false
   },
   "outputs": [
    {
     "data": {
      "image/png": "[encoded data removed]",
      "text/plain": [
       "<matplotlib.figure.Figure at 0x16c38d30>"
      ]
     },
     "metadata": {},
     "output_type": "display_data"
    }
   ],
   "source": [
    "plt.figure(figsize=(3.15, 7))\n",
    "plt.axis('scaled')\n",
    "\n",
    "ranges = np.max(np.abs([np.min(residuals_true), np.max(residuals_true)]))\n",
    "levels = MaxNLocator(nbins=20).tick_values(-ranges, ranges)\n",
    "cmap = plt.get_cmap('RdBu_r')\n",
    "norm = BoundaryNorm(levels, ncolors=cmap.N, clip=True)\n",
    "plt.subplot(3,1,1)\n",
    "plt.contourf(0.001*yp.reshape(shape), 0.001*xp.reshape(shape),\n",
    "             residuals_true.reshape(shape), levels=levels,\n",
    "             cmap = cmap, norm=norm)\n",
    "plt.ylabel('x (km)')\n",
    "plt.xlim(0.001*np.min(yp), 0.001*np.max(yp))\n",
    "plt.ylim(0.001*np.min(xp), 0.001*np.max(xp))\n",
    "cbar = plt.colorbar()\n",
    "plt.annotate(s='(a)', xy=(0.88,0.92),\n",
    "             xycoords = 'axes fraction', color='k',\n",
    "             fontsize = 10)\n",
    "\n",
    "ranges = np.max(np.abs([np.min(residuals_usual), np.max(residuals_usual)]))\n",
    "levels = MaxNLocator(nbins=20).tick_values(-ranges, ranges)\n",
    "cmap = plt.get_cmap('RdBu_r')\n",
    "norm = BoundaryNorm(levels, ncolors=cmap.N, clip=True)\n",
    "\n",
    "plt.subplot(3,1,2)\n",
    "plt.contourf(0.001*yp.reshape(shape), 0.001*xp.reshape(shape),\n",
    "             residuals_usual.reshape(shape), levels=levels,\n",
    "             cmap = cmap, norm=norm)\n",
    "plt.ylabel('x (km)')\n",
    "plt.xlim(0.001*np.min(yp), 0.001*np.max(yp))\n",
    "plt.ylim(0.001*np.min(xp), 0.001*np.max(xp))\n",
    "plt.colorbar()\n",
    "plt.annotate(s='(b)', xy=(0.88,0.92),\n",
    "             xycoords = 'axes fraction', color='k',\n",
    "             fontsize = 10)\n",
    "\n",
    "ranges = np.max(np.abs([np.min(residuals_max), np.max(residuals_max)]))\n",
    "levels = MaxNLocator(nbins=20).tick_values(-ranges, ranges)\n",
    "cmap = plt.get_cmap('RdBu_r')\n",
    "norm = BoundaryNorm(levels, ncolors=cmap.N, clip=True)\n",
    "\n",
    "plt.subplot(3,1,3)\n",
    "plt.contourf(0.001*yp.reshape(shape), 0.001*xp.reshape(shape),\n",
    "             residuals_max.reshape(shape), levels=levels,\n",
    "             cmap = cmap, norm=norm)\n",
    "plt.ylabel('x (km)')\n",
    "plt.xlabel('y (km)')\n",
    "plt.xlim(0.001*np.min(yp), 0.001*np.max(yp))\n",
    "plt.ylim(0.001*np.min(xp), 0.001*np.max(xp))\n",
    "plt.colorbar()\n",
    "plt.annotate(s='(c)', xy=(0.88,0.92), \n",
    "             xycoords = 'axes fraction', color='k',\n",
    "             fontsize = 10)\n",
    "\n",
    "plt.tight_layout()\n",
    "savefig('f06.pdf')\n",
    "\n",
    "plt.show()"
   ]
  },
  {
   "cell_type": "code",
   "execution_count": null,
   "metadata": {
    "collapsed": true
   },
   "outputs": [],
   "source": []
  }
 ],
 "metadata": {
  "anaconda-cloud": {},
  "kernelspec": {
   "display_name": "Python 2",
   "language": "python",
   "name": "python2"
  },
  "language_info": {
   "codemirror_mode": {
    "name": "ipython",
    "version": 2
   },
   "file_extension": ".py",
   "mimetype": "text/x-python",
   "name": "python",
   "nbconvert_exporter": "python",
   "pygments_lexer": "ipython2",
   "version": "2.7.13"
  }
 },
 "nbformat": 4,
 "nbformat_minor": 1
}
