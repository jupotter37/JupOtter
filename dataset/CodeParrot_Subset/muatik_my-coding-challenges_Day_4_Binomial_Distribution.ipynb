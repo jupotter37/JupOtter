{
 "cells": [
  {
   "cell_type": "markdown",
   "metadata": {},
   "source": [
    "## 10-days-of-statistics\n",
    "### Day 4: Binomial Distribution I\n",
    "https://www.hackerrank.com/challenges/s10-binomial-distribution-1"
   ]
  },
  {
   "cell_type": "markdown",
   "metadata": {},
   "source": [
    "In this challenge, we learn about binomial distributions. Check out the Tutorial tab for learning materials!\n",
    "\n",
    "#### Task \n",
    "The ratio of boys to girls for babies born in Russia is . If there is  child born per birth, what proportion of Russian families with exactly  children will have at least  boys?\n",
    "\n",
    "Write a program to compute the answer using the above parameters. Then print your result, rounded to a scale of  decimal places (i.e.,  format).\n",
    "\n",
    "#### Input Format\n",
    "\n",
    "A single line containing the following values:\n",
    "\n",
    "1.09 1\n",
    "If you do not wish to read this information from stdin, you can hard-code it into your program.\n",
    "\n",
    "#### Output Format\n",
    "\n",
    "Print a single line denoting the answer, rounded to a scale of  decimal places (i.e.,  format).\n"
   ]
  },
  {
   "cell_type": "code",
   "execution_count": 8,
   "metadata": {
    "collapsed": true
   },
   "outputs": [],
   "source": [
    "import math"
   ]
  },
  {
   "cell_type": "code",
   "execution_count": 7,
   "metadata": {
    "collapsed": false
   },
   "outputs": [
    {
     "data": {
      "text/plain": [
       "{'b': 0.521531100478469, 'g': 0.47846889952153115}"
      ]
     },
     "execution_count": 7,
     "metadata": {},
     "output_type": "execute_result"
    }
   ],
   "source": [
    "def input():\n",
    "    return \"1.09 1\"\n",
    "\n",
    "ratios = [float(i) for i in input().strip().split(\" \")]\n",
    "probs = {\"b\": ratios[0] /sum(ratios), \"g\": ratios[1] / sum(ratios)}\n",
    "probs"
   ]
  },
  {
   "cell_type": "code",
   "execution_count": 96,
   "metadata": {
    "collapsed": false
   },
   "outputs": [],
   "source": [
    "def binomial_dist(x, n, p):\n",
    "    q = 1.0 - p\n",
    "    bernoulli = p**x * q**(n-x)\n",
    "    combination = math.factorial(n) / (math.factorial(x) * math.factorial(n-x))\n",
    "    return combination * bernoulli"
   ]
  },
  {
   "cell_type": "code",
   "execution_count": 100,
   "metadata": {
    "collapsed": false
   },
   "outputs": [
    {
     "data": {
      "text/plain": [
       "[(3, 0.14185279138557705),\n",
       " (4, 0.27148922037702816),\n",
       " (5, 0.32474861818449163),\n",
       " (6, 0.3107649426854674),\n",
       " (7, 0.2602104787217523),\n",
       " (8, 0.19920465240639484),\n",
       " (9, 0.1429701750553316),\n",
       " (10, 0.09772419951246358),\n",
       " (11, 0.06429238439350161),\n",
       " (12, 0.04101596954767829),\n",
       " (13, 0.025512384234320916),\n",
       " (14, 0.015536067889485214)]"
      ]
     },
     "execution_count": 100,
     "metadata": {},
     "output_type": "execute_result"
    }
   ],
   "source": [
    "[(i, binomial_dist(4, 10, 0.5)) for i in range(3, 15)]"
   ]
  },
  {
   "cell_type": "code",
   "execution_count": 109,
   "metadata": {
    "collapsed": false
   },
   "outputs": [
    {
     "name": "stdout",
     "output_type": "stream",
     "text": [
      "0.696\n"
     ]
    }
   ],
   "source": [
    "print(\"{0:.3f}\".format(sum([binomial_dist(i, 6, probs[\"b\"]) for i in range(3, 7)])))"
   ]
  },
  {
   "cell_type": "code",
   "execution_count": null,
   "metadata": {
    "collapsed": true
   },
   "outputs": [],
   "source": []
  }
 ],
 "metadata": {
  "kernelspec": {
   "display_name": "Python 3",
   "language": "python",
   "name": "python3"
  },
  "language_info": {
   "codemirror_mode": {
    "name": "ipython",
    "version": 3
   },
   "file_extension": ".py",
   "mimetype": "text/x-python",
   "name": "python",
   "nbconvert_exporter": "python",
   "pygments_lexer": "ipython3",
   "version": "3.5.0"
  }
 },
 "nbformat": 4,
 "nbformat_minor": 1
}
