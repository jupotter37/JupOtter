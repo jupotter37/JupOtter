{
 "cells": [
  {
   "cell_type": "markdown",
   "metadata": {
    "slideshow": {
     "slide_type": "-"
    }
   },
   "source": [
    "# Python Fundamentals\n",
    "\n",
    "## Anatomy of your very simple first script\n"
   ]
  },
  {
   "cell_type": "code",
   "execution_count": 10,
   "metadata": {},
   "outputs": [
    {
     "name": "stdout",
     "output_type": "stream",
     "text": [
      "Hello World!\n"
     ]
    }
   ],
   "source": [
    "#!/usr/bin/env python\n",
    "\n",
    "def main():\n",
    "    print(\"Hello World!\")\n",
    "\n",
    "if __name__ == '__main__':\n",
    "    main()\n"
   ]
  },
  {
   "cell_type": "markdown",
   "metadata": {
    "collapsed": true
   },
   "source": [
    "1. Shebang: /usr/bin/python2 or /usr/bin/python3\n",
    "2. main function\n",
    "3. What the heck is `__name__` or `__file__` ? Snake charmers"
   ]
  },
  {
   "cell_type": "markdown",
   "metadata": {
    "collapsed": true
   },
   "source": [
    "Adding parameters to your script ...\n",
    "Your first imports and function parameters: \\*args, \\*\\*kwargs\n",
    "\n",
    "`$ python hello_montoya.py \"Hello\" \"My name is Iñigo Montoya\" \"You killed my father\" \"Prepare to Die\"`\n",
    "\n",
    "### Encoding\n",
    "\n",
    "Check out [How to unicode](https://docs.python.org/2/howto/unicode.html)\n",
    "\n",
    "*Brief history*\n",
    "\n",
    "ASCII (American Standard Code for Information Interexchange) 1968.\n",
    "English alphabet took the conversion of a letter to a digit, between 0-127.\n",
    "Mid 1980's computers -> 8-bit (0-255)\n",
    "But what happens to accents? cyrilic alphabets? French (Latin1 or ISO-8859-1) Russian (KOI8)?\n",
    "*UNICODE* Standarization with 16-bit (2^16 = 65.535 distinct values)\n",
    "\n",
    "*Definitions*\n",
    "\n",
    "> Character: smallest component of text (\"A\", \"É\")\n",
    "\n",
    "> Unicode: *code points*: integer value usually denoted in base 16\n",
    "\n",
    "> Unicode string: Serie of code points from 0 to 0x010ffff.\n",
    "\n",
    "> Unicode scapes:\n",
    "- \\xhh -> \\xf1 == ñ\n",
    "- \\uhhhh ->\n",
    "- \\Uhhhhhhhh\n",
    "\n",
    "> Encoding: translates a unicode string sequence of bytes\n",
    "\n",
    "Comment -*- X: Y -*- ([inspired by Emacs, PEP 263](https://www.python.org/dev/peps/pep-0263/#examples))\n",
    "\n",
    "`# -*- coding: latin-1 -*-`\n",
    "\n",
    "In Python 3 the default encoding: UTF-8\n",
    "\n",
    "All strings `→ python3 -c 'print(\"buenos dias\" \"hyvää huomenta\" \"\"\"おはようございます\"\"\")'` are unicode\n",
    "\n",
    "### IMPORTS\n",
    "\n",
    "*[Official Docs](https://docs.python.org/2.7/tutorial/modules.html)*\n",
    "\n",
    "**Namespace** is designed to overcome this difficulty and is used to differentiate functions, classes, variables etc. with the same name, available in different modules.\n",
    "\n",
    "\n",
    "A Python **module** is simply a Python source file, which can expose classes, functions and global variables. When imported from another Python source file, the file name is sometimes treated as a namespace.\n",
    "\n",
    "\n",
    "`__main__` is the name of the scope in which top-level code executes. \n",
    "\n",
    "A module’s `__name__` variable is set to `__main__` when read from standard input, a script, or from an interactive prompt.\n",
    "\n",
    "\n",
    "```python\n",
    "#!/usr/bin/env python\n",
    "import os\n",
    "import sys\n",
    "\n",
    "if __name__ == \"__main__\":\n",
    "\n",
    "    settings_module = \"settings.local\"\n",
    "    os.environ.setdefault(\"DJANGO_SETTINGS_MODULE\", settings_module)\n",
    "\n",
    "    from django.core.management import execute_from_command_line\n",
    "\n",
    "    execute_from_command_line(sys.argv)\n",
    "```\n",
    "\n",
    "\n",
    "A Python **package** is simply a directory of Python module(s).\n",
    "`__init__.py`.\n",
    "\n",
    "\n",
    "The `__init__.py` file is the first thing that gets executed when a package is loaded.\n",
    "\n",
    "\n",
    "```\n",
    "rocklab/ ...\n",
    "spacelab/\n",
    "    __init__.py\n",
    "    manage.py\n",
    "    utils/\n",
    "        __init__.py\n",
    "        physics.py\n",
    "        multidimensional/\n",
    "            __init__.py\n",
    "            laws.py\n",
    "    rockets/\n",
    "        __init__.py\n",
    "        engine.py  \n",
    "        base.py  # Defines a rocket model that exposes all its functionality\n",
    "```\n",
    "\n",
    "**Relative imports** specific location of the modules to be imported are relative to the current package.\n",
    "\n",
    "> laws.py\n",
    "\n",
    "```python\n",
    "from ..phsycis import gravity\n",
    "```\n",
    "\n",
    "> base.py\n",
    "\n",
    "```python\n",
    "from ..mutidimensional.laws import InterDimensionalTravel\n",
    "from .engine import (Motor, turn_on_engine, turn_off_engine,\n",
    "                     Bolt)\n",
    "# Avoid the use of \\ for linebreaks and use parenthesis. Lisp people will be happy\n",
    "from .engine import Motor, turn_on_engine, turn_off_engine, \\\n",
    "                    Bolt          \n",
    "```\n",
    "\n",
    "**Absolute imports** an import where you fully specify the location of the entities being imported.\n",
    "\n",
    "> base.py\n",
    "\n",
    "```python\n",
    "from utils.multidimensional.laws import Infinity\n",
    "from rockets.engine import Motor \n",
    "```\n",
    "\n",
    "**Circular imports** happen when you create two modules that import each other.\n",
    "\n",
    "> rockets.engine.py\n",
    "\n",
    "```python\n",
    "from .base import bad_design_decision\n",
    "# D'ouh\n",
    "\n",
    "def inside_the_function(*params):\n",
    "    # avoid circular import, or ci. Is good to mention (IMAO)\n",
    "    from rockets.base import bad_design_decision\n",
    "    bad_design_decision(params)\n",
    "\n",
    "```\n",
    "#### Here comes the future\n",
    "\n",
    "*[Official Docs](https://docs.python.org/2/library/__future__.html)*\n",
    "\n",
    "\n",
    "Note for absolute imports:\n",
    "\n",
    "`from __future__ import absolute_import`\n",
    "\n",
    "\n",
    "Keep Reading\n",
    "\n",
    "\n",
    "[About imports in Python](https://github.com/00111000/Imports-in-Python)\n",
    "\n",
    "[About future imports](http://python-future.org/imports.html)\n",
    "\n",
    "\n"
   ]
  },
  {
   "cell_type": "code",
   "execution_count": 38,
   "metadata": {},
   "outputs": [
    {
     "name": "stdout",
     "output_type": "stream",
     "text": [
      "(['/home/miguel/.virtualenvs/pcc/lib/python2.7/site-packages/ipykernel_launcher.py', '-f', '/run/user/1000/jupyter/kernel-5e33a56d-0aa6-465a-85a6-55f9c11ae881.json'],)\n",
      "{}\n"
     ]
    }
   ],
   "source": [
    "#!/usr/bin/env python\n",
    "# -*- coding: utf-8 -*-\n",
    "\n",
    "import sys\n",
    "\n",
    "def main(*args, **kwargs):\n",
    "    \"\"\"Simple main function that prints stuff\"\"\"\n",
    "    print(args)  # args is a tuple of positional params\n",
    "    print(kwargs) # kwargs is a dict with keyword params\n",
    "    ## The names are just a mere convention\n",
    "\n",
    "if __name__ == '__main__':\n",
    "    main(sys.argv)  # input params from the command line\n"
   ]
  },
  {
   "cell_type": "markdown",
   "metadata": {
    "collapsed": true
   },
   "source": [
    "## Programming Types\n",
    "\n",
    "Boolean: True, False\n",
    "\n",
    "NoneType: None\n",
    "\n",
    "Mutable / Immutable Objects\n",
    "\n",
    "Some immutable types:\n",
    "\n",
    "    int, float, long, complex\n",
    "    str\n",
    "    bytes\n",
    "    tuple\n",
    "    frozen set\n",
    "\n",
    "Some mutable types:\n",
    "\n",
    "    byte array\n",
    "    list\n",
    "    set\n",
    "    dict\n",
    "\n",
    "\n"
   ]
  },
  {
   "cell_type": "code",
   "execution_count": 11,
   "metadata": {
    "collapsed": true
   },
   "outputs": [],
   "source": [
    "# Immutable Objects\n",
    "\n",
    "age = 60 # int\n",
    "weight = 77.8  # float\n",
    "infinite = float('inf')\n",
    "name = \"Rick\" # basestring/str\n",
    "nick_names = (\"Sanchez\", \"Grandpa\") # tuple\n",
    "\n",
    "jobs = frozenset((\"scientist\", \"inventor\", \"arms salesman\", \"store owner\"))\n",
    "\n",
    "# Mutable Objects\n",
    "interests = ['interdimensional travel', 'nihilism', 'alcohol']\n",
    "info = {\n",
    "    \"name\": name,\n",
    "    \"last_names\": last_names,\n",
    "    \"age\": age\n",
    "}\n",
    "redundant = set(interests)\n"
   ]
  },
  {
   "cell_type": "code",
   "execution_count": 12,
   "metadata": {},
   "outputs": [
    {
     "data": {
      "text/plain": [
       "True"
      ]
     },
     "execution_count": 12,
     "metadata": {},
     "output_type": "execute_result"
    }
   ],
   "source": [
    "# Information from objects\n",
    "type(age) # int\n",
    "isinstance(age, int)  # True \n",
    "type(infinite)\n",
    "type(name)\n",
    "isinstance(name, basestring)\n",
    "# typve vs isinstance: type doesnt check for object subclasses\n",
    "# we will discuss the type constructor later on"
   ]
  },
  {
   "cell_type": "markdown",
   "metadata": {},
   "source": [
    "**Why immutable objects**?"
   ]
  },
  {
   "cell_type": "code",
   "execution_count": 14,
   "metadata": {},
   "outputs": [
    {
     "name": "stdout",
     "output_type": "stream",
     "text": [
      "94363336246216\n",
      "94363336245976\n",
      "94363336246216\n"
     ]
    }
   ],
   "source": [
    "# integers\n",
    "print(id(age))\n",
    "age += 10\n",
    "print(id(age))\n",
    "age -= 10\n",
    "print(id(age))"
   ]
  },
  {
   "cell_type": "code",
   "execution_count": 31,
   "metadata": {},
   "outputs": [
    {
     "name": "stdout",
     "output_type": "stream",
     "text": [
      "Rick: Wubba lubba dub-dub!!\n",
      "rick\n",
      "('RICK', 'rick')\n"
     ]
    }
   ],
   "source": [
    "\n",
    "# Strings\n",
    "print(name + \": Wubba lubba dub-dub!!\")\n",
    "print(name.replace(\"R\", \"r\"))\n",
    "print(name.upper(), name.lower())\n",
    "\n"
   ]
  },
  {
   "cell_type": "code",
   "execution_count": 33,
   "metadata": {},
   "outputs": [
    {
     "name": "stdout",
     "output_type": "stream",
     "text": [
      "140378617825616\n",
      "(('test', 'build', 'deploy'), 140378260466176)\n"
     ]
    }
   ],
   "source": [
    "# Tuples\n",
    "operations = \"test\",  # note the comma as it makes it a tuple!!! | tuple.count/index\n",
    "print(id(operations))\n",
    "operations += ('build', 'deploy')\n",
    "print(operations, id(operations))\n"
   ]
  },
  {
   "cell_type": "code",
   "execution_count": 30,
   "metadata": {},
   "outputs": [
    {
     "name": "stdout",
     "output_type": "stream",
     "text": [
      "140378334218192\n",
      "(('test', 'build', 'deploy'), 140378260466256)\n",
      "([0, 1, 2, 3, 4, 5, 6, 7],)\n",
      "('Test: ', 'Always passing')\n",
      "Build: A better world\n",
      "Deploy: Your mind\n",
      "('test', 'build', 'deploy')\n"
     ]
    }
   ],
   "source": [
    "\n",
    "## Tuple assignment\n",
    "\n",
    "def say(*args):\n",
    "    print(args)\n",
    "    \n",
    "say(range(8))\n",
    "\n",
    "# Packing \n",
    "test, build, deploy = \"Always passing\", \"A better world\", \"Your mind\"\n",
    "\n",
    "# OK but use parenthesis :)\n",
    "\n",
    "(test, build, deploy) = (\"Always passing\", \"A better world\", \"Your mind\")\n",
    "\n",
    "\n",
    "print(\"Test: \", test)\n",
    "print(\"Build: \" + build)\n",
    "print(\"Deploy: \" + deploy)\n"
   ]
  },
  {
   "cell_type": "code",
   "execution_count": null,
   "metadata": {
    "collapsed": true
   },
   "outputs": [],
   "source": [
    "\n",
    "# Unpacking\n",
    "test, build, deploy = operations\n",
    "print(test, build, deploy)\n",
    "\n",
    "# You are warned:  # ERROR -- too many values to unpack\n",
    "# https://docs.python.org/3.6/tutorial/controlflow.html#unpacking-argument-lists"
   ]
  },
  {
   "cell_type": "code",
   "execution_count": null,
   "metadata": {
    "collapsed": true
   },
   "outputs": [],
   "source": [
    "# lists\n",
    "\n"
   ]
  },
  {
   "cell_type": "markdown",
   "metadata": {},
   "source": [
    "### Operators\n",
    "\n",
    "*[Official Docs](https://docs.python.org/2/library/operator.html)*\n",
    "\n",
    "Arithmetic Operators: `+ - / // * ** %`"
   ]
  },
  {
   "cell_type": "code",
   "execution_count": 40,
   "metadata": {},
   "outputs": [
    {
     "name": "stdout",
     "output_type": "stream",
     "text": [
      "4\n",
      "1024\n",
      "2\n"
     ]
    }
   ],
   "source": [
    "print(1 + 3)\n",
    "print(2 ** 10)\n",
    "print(5 % 3)\n",
    "\n",
    "\n"
   ]
  },
  {
   "cell_type": "code",
   "execution_count": 49,
   "metadata": {},
   "outputs": [
    {
     "name": "stdout",
     "output_type": "stream",
     "text": [
      "2.5\n",
      "2.5\n"
     ]
    }
   ],
   "source": [
    "print(10 / 4) 2\n",
    "\n",
    "from __future__ import division\n",
    "\n",
    "print(10 / 4) 2.5  # float division\n",
    "\n",
    "10 // 4  # in python 3 to get integer division"
   ]
  },
  {
   "cell_type": "code",
   "execution_count": 39,
   "metadata": {},
   "outputs": [
    {
     "data": {
      "text/plain": [
       "6"
      ]
     },
     "execution_count": 39,
     "metadata": {},
     "output_type": "execute_result"
    }
   ],
   "source": [
    "import operator\n",
    "\n",
    "operator.add(2, 4)\n",
    "operator.gt(10, 5)"
   ]
  }
 ],
 "metadata": {
  "kernelspec": {
   "display_name": "Python 2",
   "language": "python",
   "name": "python2"
  },
  "language_info": {
   "codemirror_mode": {
    "name": "ipython",
    "version": 2
   },
   "file_extension": ".py",
   "mimetype": "text/x-python",
   "name": "python",
   "nbconvert_exporter": "python",
   "pygments_lexer": "ipython2",
   "version": "2.7.13"
  }
 },
 "nbformat": 4,
 "nbformat_minor": 2
}
