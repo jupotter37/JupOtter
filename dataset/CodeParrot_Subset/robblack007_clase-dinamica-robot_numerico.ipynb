{
 "cells": [
  {
   "cell_type": "markdown",
   "metadata": {},
   "source": [
    "# Práctica 2 - Cinemática directa y dinámica de manipuladores"
   ]
  },
  {
   "cell_type": "markdown",
   "metadata": {},
   "source": [
    "Una vez obtenida la dinámica del manipulador, tenemos la necesidad de construir una función ```f``` para poder simular el comportamiento del manipulador, empecemos escribiendo la ecuación:\n",
    "\n",
    "$$\n",
    "\\tau =\n",
    "\\begin{bmatrix}\n",
    "J_1 + J_2 + m_1 l_1^2 + m_2 l_1^2 + \\mu_1 + 2 \\mu_2 c_2 & J_2 + \\mu_1 + \\mu_2 c_2 \\\\\n",
    "J_2 + \\mu_1 + \\mu_2 c_2 & J_2 + \\mu_1\n",
    "\\end{bmatrix}\\ddot{q} - \\mu_2 s_2\n",
    "\\begin{bmatrix}\n",
    "2 \\dot{q}_2 & \\dot{q}_2 \\\\ -\\dot{q}_1 & 0\n",
    "\\end{bmatrix} + g\n",
    "\\begin{bmatrix}\n",
    "m_1 l_1 c_1 + m_2 l_1 c_1 + m_2 l_2 c_{12} \\\\ m_2 l_2 c_{12}\n",
    "\\end{bmatrix}\n",
    "$$\n",
    "\n",
    "en donde $\\mu_1 = m_2 l_2^2$ y $\\mu_2 = m_2 l_1 l_2$; por lo que de aqui en adelante, podemos caracterizar la dinámica de este manipulador como la siguiente ecuación:\n",
    "\n",
    "$$\n",
    "\\tau = M(q)\\ddot{q} + C(q, \\dot{q}) + G(q)\n",
    "$$"
   ]
  },
  {
   "cell_type": "markdown",
   "metadata": {},
   "source": [
    "Si ahora cambiamos nuestra atención al problema de contruir la función\n",
    "\n",
    "$$\n",
    "\\dot{x} = f(x, t)\n",
    "$$\n",
    "\n",
    "tenemos que empezar por que representa el estado $x$.\n",
    "\n",
    "En el ejercicio pasado nuestro manipulador tenía un solo grado de libertad, por lo que el estado terminaba siendo:\n",
    "\n",
    "$$\n",
    "x =\n",
    "\\begin{pmatrix}\n",
    "q_1 \\\\ \\dot{q}_1\n",
    "\\end{pmatrix}\n",
    "$$\n",
    "\n",
    "En este caso, nuestro manipulador tiene dos grados de libertad, por lo que necesitamos que el estado incluya a la posición de ambos grados de libertad, así como su velocidad:\n",
    "\n",
    "$$\n",
    "x =\n",
    "\\begin{pmatrix}\n",
    "q_1 \\\\ q_2 \\\\ \\dot{q}_1 \\\\ \\dot{q}_2\n",
    "\\end{pmatrix}\n",
    "$$"
   ]
  },
  {
   "cell_type": "markdown",
   "metadata": {},
   "source": [
    "Por lo que para construir $f(x,t)$, necesitamos calcular los siguientes terminos:\n",
    "\n",
    "$$\n",
    "\\dot{x} =\n",
    "\\begin{pmatrix}\n",
    "\\dot{q}_1 \\\\ \\dot{q}_2 \\\\ \\ddot{q}_1 \\\\ \\ddot{q}_2\n",
    "\\end{pmatrix}\n",
    "$$\n",
    "\n",
    "en donde los primeros dos terminos son triviales, ya que son los mismos que obtenemos del estado del sistema ($\\dot{q}_1$, $\\dot{q}_2$), y los segundos dos terminos los podemos obtener de la ecuación de movimiento del manipulador:\n",
    "\n",
    "$$\n",
    "\\ddot{q} = M^{-1}\\left( \\tau - C(q, \\dot{q})\\dot{q} - G(q) \\right)\n",
    "$$"
   ]
  },
  {
   "cell_type": "code",
   "execution_count": null,
   "metadata": {
    "deletable": false,
    "nbgrader": {
     "checksum": "c9de019e865123e8505f7cfcbe98751b",
     "grade": false,
     "grade_id": "cell-f34c4d5201ef0e67",
     "locked": false,
     "schema_version": 1,
     "solution": true
    }
   },
   "outputs": [],
   "source": [
    "def f(t, x):\n",
    "    # Se importan funciones matematicas necesarias\n",
    "    from numpy import matrix, sin, cos\n",
    "    # Se desenvuelven las variables que componen al estado\n",
    "    q1, q2, q̇1, q̇2 = x\n",
    "    # Se definen constantes del sistema\n",
    "    g = 9.81\n",
    "    m1, m2, J1, J2 = 0.3, 0.2, 0.0005, 0.0002\n",
    "    l1, l2 = 0.4, 0.3\n",
    "    τ1, τ2 = 0, 0\n",
    "    # Se agrupan terminos en vectores\n",
    "    q̇ = matrix([[q̇1], [q̇2]])\n",
    "    τ = matrix([[τ1], [τ2]])\n",
    "    # Se calculan terminos comúnes\n",
    "    μ1 = m2*l2**2\n",
    "    μ2 = m2*l1*l2\n",
    "    c1 = cos(q1)\n",
    "    c2 = cos(q2)\n",
    "    s2 = sin(q2)\n",
    "    c12 = cos(q1 + q2)\n",
    "    # Se calculan las matrices de la ecuación de movimiento\n",
    "    # ESCRIBE TU CODIGO AQUI\n",
    "    raise NotImplementedError\n",
    "    # Se calculan las variables a devolver por el sistema\n",
    "    # ESCRIBE TU CODIGO AQUI\n",
    "    raise NotImplementedError\n",
    "    q1pp = qpp.item(0)\n",
    "    q2pp = qpp.item(1)\n",
    "    # Se devuelve la derivada de las variables de entrada\n",
    "    return [q1p, q2p, q1pp, q2pp]"
   ]
  },
  {
   "cell_type": "code",
   "execution_count": null,
   "metadata": {
    "deletable": false,
    "editable": false,
    "nbgrader": {
     "checksum": "6a6ab5d022ba694ae431461e4abfa39a",
     "grade": true,
     "grade_id": "cell-38c4d0977442c793",
     "locked": true,
     "points": 3,
     "schema_version": 1,
     "solution": false
    }
   },
   "outputs": [],
   "source": [
    "from numpy.testing import assert_almost_equal\n",
    "assert_almost_equal(f(0, [0, 0, 0, 0]), [0,0,-1392.38, 3196.16], 2)\n",
    "assert_almost_equal(f(0, [1, 1, 0, 0]), [0,0,-53.07, 104.34], 2)\n",
    "print(\"Sin errores\")"
   ]
  },
  {
   "cell_type": "markdown",
   "metadata": {},
   "source": [
    "Mandamos llamar al simulador"
   ]
  },
  {
   "cell_type": "code",
   "execution_count": null,
   "metadata": {},
   "outputs": [],
   "source": [
    "from robots.simuladores import simulador"
   ]
  },
  {
   "cell_type": "code",
   "execution_count": null,
   "metadata": {},
   "outputs": [],
   "source": [
    "%matplotlib widget\n",
    "ts, xs = simulador(puerto_zmq=\"5551\", f=f, x0=[0, 0, 0, 0], dt=0.02)"
   ]
  },
  {
   "cell_type": "markdown",
   "metadata": {},
   "source": [
    "> El argumento ```puerto_zmq``` se refiere al puerto por el cual esta mandando datos, para el visualizador descrito a continuación."
   ]
  },
  {
   "cell_type": "markdown",
   "metadata": {},
   "source": [
    "Estos datos se estan actualizando en tiempo real, y si bien es posible ver el comportamiento general con esta gráfica, tambien es posible ver una visualización en tiempo real de este manipulador, para lo cual es necesario mantener este documento abierto, mientras se abre el documento ```visualizacion.ipynb```."
   ]
  }
 ],
 "metadata": {
  "kernelspec": {
   "display_name": "Python 3",
   "language": "python",
   "name": "python3"
  },
  "language_info": {
   "codemirror_mode": {
    "name": "ipython",
    "version": 3
   },
   "file_extension": ".py",
   "mimetype": "text/x-python",
   "name": "python",
   "nbconvert_exporter": "python",
   "pygments_lexer": "ipython3",
   "version": "3.6.6"
  }
 },
 "nbformat": 4,
 "nbformat_minor": 2
}
