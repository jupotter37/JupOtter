{
 "cells": [
  {
   "cell_type": "markdown",
   "metadata": {},
   "source": [
    "## Subject Selection Experiments disorder data - Srinivas (handle: thewickedaxe)"
   ]
  },
  {
   "cell_type": "markdown",
   "metadata": {},
   "source": [
    "### Initial Data Cleaning"
   ]
  },
  {
   "cell_type": "code",
   "execution_count": 6,
   "metadata": {
    "collapsed": false,
    "scrolled": true
   },
   "outputs": [
    {
     "name": "stdout",
     "output_type": "stream",
     "text": [
      "(4383, 141)\n"
     ]
    }
   ],
   "source": [
    "# Standard\n",
    "import pandas as pd\n",
    "import numpy as np\n",
    "%matplotlib inline\n",
    "import matplotlib.pyplot as plt\n",
    "\n",
    "# Dimensionality reduction and Clustering\n",
    "from sklearn.decomposition import PCA\n",
    "from sklearn.cluster import KMeans\n",
    "from sklearn.cluster import MeanShift, estimate_bandwidth\n",
    "from sklearn import manifold, datasets\n",
    "from itertools import cycle\n",
    "\n",
    "# Plotting tools and classifiers\n",
    "from matplotlib.colors import ListedColormap\n",
    "from sklearn.linear_model import LogisticRegression\n",
    "from sklearn.cross_validation import train_test_split\n",
    "from sklearn import preprocessing\n",
    "from sklearn.datasets import make_moons, make_circles, make_classification\n",
    "from sklearn.tree import DecisionTreeClassifier\n",
    "from sklearn.ensemble import RandomForestClassifier\n",
    "from sklearn.naive_bayes import GaussianNB\n",
    "from sklearn.discriminant_analysis import LinearDiscriminantAnalysis as LDA\n",
    "from sklearn.discriminant_analysis import QuadraticDiscriminantAnalysis as QDA\n",
    "from sklearn import cross_validation\n",
    "from sklearn.cross_validation import LeaveOneOut\n",
    "\n",
    "\n",
    "# Let's read the data in and clean it\n",
    "\n",
    "def get_NaNs(df):\n",
    "    columns = list(df.columns.get_values()) \n",
    "    row_metrics = df.isnull().sum(axis=1)\n",
    "    rows_with_na = []\n",
    "    for i, x in enumerate(row_metrics):\n",
    "        if x > 0: rows_with_na.append(i)\n",
    "    return rows_with_na\n",
    "\n",
    "def remove_NaNs(df):\n",
    "    rows_with_na = get_NaNs(df)\n",
    "    cleansed_df = df.drop(df.index[rows_with_na], inplace=False)     \n",
    "    return cleansed_df\n",
    "\n",
    "initial_data = pd.DataFrame.from_csv('Data_Adults_1_reduced_inv1.csv')\n",
    "cleansed_df = remove_NaNs(initial_data)\n",
    "\n",
    "# Let's also get rid of nominal data\n",
    "numerics = ['int16', 'int32', 'int64', 'float16', 'float32', 'float64']\n",
    "X = cleansed_df.select_dtypes(include=numerics)\n",
    "print X.shape"
   ]
  },
  {
   "cell_type": "code",
   "execution_count": 7,
   "metadata": {
    "collapsed": false
   },
   "outputs": [
    {
     "name": "stdout",
     "output_type": "stream",
     "text": [
      "(4383, 137)\n",
      "(2624, 137)\n",
      "(2981, 137)\n"
     ]
    }
   ],
   "source": [
    "# Let's now clean columns getting rid of certain columns that might not be important to our analysis\n",
    "\n",
    "cols2drop = ['GROUP_ID', 'doa', 'Baseline_header_id', 'Concentration_header_id', 'Baseline_Reading_id',\n",
    "             'Concentration_Reading_id']\n",
    "X = X.drop(cols2drop, axis=1, inplace=False)\n",
    "print X.shape\n",
    "\n",
    "# For our studies children skew the data, it would be cleaner to just analyse adults\n",
    "X = X.loc[X['Age'] >= 18]\n",
    "Y = X.loc[X['race_id'] == 1]\n",
    "X  = X.loc[X['Gender_id'] == 1]\n",
    "\n",
    "print X.shape\n",
    "print Y.shape"
   ]
  },
  {
   "cell_type": "markdown",
   "metadata": {},
   "source": [
    "### Extracting the samples we are interested in"
   ]
  },
  {
   "cell_type": "code",
   "execution_count": 8,
   "metadata": {
    "collapsed": false
   },
   "outputs": [
    {
     "name": "stdout",
     "output_type": "stream",
     "text": [
      "(1056, 137)\n",
      "(257, 137)\n",
      "(1110, 137)\n",
      "(323, 137)\n"
     ]
    }
   ],
   "source": [
    "# Let's extract ADHd and Bipolar patients (mutually exclusive)\n",
    "\n",
    "ADHD_men = X.loc[X['ADHD'] == 1]\n",
    "ADHD_men = ADHD_men.loc[ADHD_men['Bipolar'] == 0]\n",
    "\n",
    "BP_men = X.loc[X['Bipolar'] == 1]\n",
    "BP_men = BP_men.loc[BP_men['ADHD'] == 0]\n",
    "\n",
    "ADHD_cauc = Y.loc[Y['ADHD'] == 1]\n",
    "ADHD_cauc = ADHD_cauc.loc[ADHD_cauc['Bipolar'] == 0]\n",
    "\n",
    "BP_cauc = Y.loc[Y['Bipolar'] == 1]\n",
    "BP_cauc = BP_cauc.loc[BP_cauc['ADHD'] == 0]\n",
    "\n",
    "print ADHD_men.shape\n",
    "print BP_men.shape\n",
    "\n",
    "print ADHD_cauc.shape\n",
    "print BP_cauc.shape\n",
    "\n",
    "# Keeping a backup of the data frame object because numpy arrays don't play well with certain scikit functions\n",
    "ADHD_men = pd.DataFrame(ADHD_men.drop(['Patient_ID', 'Gender_id', 'ADHD', 'Bipolar'], axis = 1, inplace = False))\n",
    "BP_men = pd.DataFrame(BP_men.drop(['Patient_ID', 'Gender_id', 'ADHD', 'Bipolar'], axis = 1, inplace = False))\n",
    "\n",
    "ADHD_cauc = pd.DataFrame(ADHD_cauc.drop(['Patient_ID', 'race_id', 'ADHD', 'Bipolar'], axis = 1, inplace = False))\n",
    "BP_cauc = pd.DataFrame(BP_cauc.drop(['Patient_ID', 'race_id', 'ADHD', 'Bipolar'], axis = 1, inplace = False))"
   ]
  },
  {
   "cell_type": "markdown",
   "metadata": {},
   "source": [
    "### Dimensionality reduction"
   ]
  },
  {
   "cell_type": "markdown",
   "metadata": {},
   "source": [
    "#### Manifold Techniques"
   ]
  },
  {
   "cell_type": "markdown",
   "metadata": {},
   "source": [
    "##### ISOMAP"
   ]
  },
  {
   "cell_type": "code",
   "execution_count": 9,
   "metadata": {
    "collapsed": false
   },
   "outputs": [
    {
     "name": "stdout",
     "output_type": "stream",
     "text": [
      "(1313, 133)\n",
      "(1433, 133)\n"
     ]
    }
   ],
   "source": [
    "combined1 = pd.concat([ADHD_men, BP_men])\n",
    "combined2 = pd.concat([ADHD_cauc, BP_cauc])\n",
    "\n",
    "print combined1.shape\n",
    "print combined2.shape\n",
    "\n",
    "combined1 = preprocessing.scale(combined1)\n",
    "combined2 = preprocessing.scale(combined2)"
   ]
  },
  {
   "cell_type": "code",
   "execution_count": 10,
   "metadata": {
    "collapsed": false
   },
   "outputs": [],
   "source": [
    "combined1 = manifold.Isomap(20, 20).fit_transform(combined1)\n",
    "ADHD_men_iso = combined1[:1056]\n",
    "BP_men_iso = combined1[1056:]\n",
    "\n",
    "combined2 = manifold.Isomap(20, 20).fit_transform(combined2)\n",
    "ADHD_cauc_iso = combined2[:1110]\n",
    "BP_cauc_iso = combined2[1110:]"
   ]
  },
  {
   "cell_type": "markdown",
   "metadata": {},
   "source": [
    "### Clustering and other grouping experiments"
   ]
  },
  {
   "cell_type": "markdown",
   "metadata": {},
   "source": [
    "#### K-Means clustering - iso"
   ]
  },
  {
   "cell_type": "code",
   "execution_count": 11,
   "metadata": {
    "collapsed": false
   },
   "outputs": [
    {
     "name": "stdout",
     "output_type": "stream",
     "text": [
      "(1313, 20)\n",
      "(1433, 20)\n"
     ]
    }
   ],
   "source": [
    "data1 = pd.concat([pd.DataFrame(ADHD_men_iso), pd.DataFrame(BP_men_iso)])\n",
    "data2 = pd.concat([pd.DataFrame(ADHD_cauc_iso), pd.DataFrame(BP_cauc_iso)])\n",
    "\n",
    "print data1.shape\n",
    "print data2.shape"
   ]
  },
  {
   "cell_type": "code",
   "execution_count": 12,
   "metadata": {
    "collapsed": false
   },
   "outputs": [
    {
     "name": "stdout",
     "output_type": "stream",
     "text": [
      "Estimated number of clusters: 2\n"
     ]
    },
    {
     "data": {
      "image/png": "[encoded data removed]",
      "text/plain": [
       "<matplotlib.figure.Figure at 0x7f442843ac50>"
      ]
     },
     "metadata": {},
     "output_type": "display_data"
    }
   ],
   "source": [
    "kmeans = KMeans(n_clusters=2)\n",
    "kmeans.fit(data1.get_values())\n",
    "labels1 = kmeans.labels_\n",
    "centroids1 = kmeans.cluster_centers_\n",
    "print('Estimated number of clusters: %d' % len(centroids1))\n",
    "\n",
    "for label in [0, 1]:\n",
    "    ds = data1.get_values()[np.where(labels1 == label)]    \n",
    "    plt.plot(ds[:,0], ds[:,1], '.')    \n",
    "    lines = plt.plot(centroids1[label,0], centroids1[label,1], 'o')\n",
    "\n"
   ]
  },
  {
   "cell_type": "code",
   "execution_count": 13,
   "metadata": {
    "collapsed": false
   },
   "outputs": [
    {
     "name": "stdout",
     "output_type": "stream",
     "text": [
      "Estimated number of clusters: 2\n"
     ]
    },
    {
     "data": {
      "image/png": "[encoded data removed]",
      "text/plain": [
       "<matplotlib.figure.Figure at 0x7f4428474510>"
      ]
     },
     "metadata": {},
     "output_type": "display_data"
    }
   ],
   "source": [
    "kmeans = KMeans(n_clusters=2)\n",
    "kmeans.fit(data2.get_values())\n",
    "labels2 = kmeans.labels_\n",
    "centroids2 = kmeans.cluster_centers_\n",
    "print('Estimated number of clusters: %d' % len(centroids2))\n",
    "\n",
    "for label in [0, 1]:\n",
    "    ds2 = data2.get_values()[np.where(labels2 == label)]    \n",
    "    plt.plot(ds2[:,0], ds2[:,1], '.')    \n",
    "    lines = plt.plot(centroids2[label,0], centroids2[label,1], 'o')"
   ]
  },
  {
   "cell_type": "markdown",
   "metadata": {},
   "source": [
    "As is evident from the above 2 experiments, no clear clustering is apparent.But there is some significant overlap and there 2 clear groups"
   ]
  },
  {
   "cell_type": "markdown",
   "metadata": {},
   "source": [
    "### Classification Experiments"
   ]
  },
  {
   "cell_type": "markdown",
   "metadata": {},
   "source": [
    "Let's experiment with a bunch of classifiers"
   ]
  },
  {
   "cell_type": "code",
   "execution_count": 14,
   "metadata": {
    "collapsed": false
   },
   "outputs": [],
   "source": [
    "ADHD_men_iso = pd.DataFrame(ADHD_men_iso)\n",
    "BP_men_iso = pd.DataFrame(BP_men_iso)\n",
    "\n",
    "ADHD_cauc_iso = pd.DataFrame(ADHD_cauc_iso)\n",
    "BP_cauc_iso = pd.DataFrame(BP_cauc_iso)"
   ]
  },
  {
   "cell_type": "code",
   "execution_count": 15,
   "metadata": {
    "collapsed": false
   },
   "outputs": [],
   "source": [
    "BP_men_iso['ADHD-Bipolar'] = 0\n",
    "ADHD_men_iso['ADHD-Bipolar'] = 1\n",
    "\n",
    "BP_cauc_iso['ADHD-Bipolar'] = 0\n",
    "ADHD_cauc_iso['ADHD-Bipolar'] = 1\n",
    "\n",
    "data1 = pd.concat([ADHD_men_iso, BP_men_iso])\n",
    "data2 = pd.concat([ADHD_cauc_iso, BP_cauc_iso])\n",
    "class_labels1 = data1['ADHD-Bipolar']\n",
    "class_labels2 = data2['ADHD-Bipolar']\n",
    "data1 = data1.drop(['ADHD-Bipolar'], axis = 1, inplace = False)\n",
    "data2 = data2.drop(['ADHD-Bipolar'], axis = 1, inplace = False)\n",
    "data1 = data1.get_values()\n",
    "data2 = data2.get_values()"
   ]
  },
  {
   "cell_type": "code",
   "execution_count": 16,
   "metadata": {
    "collapsed": false
   },
   "outputs": [],
   "source": [
    "# Leave one Out cross validation\n",
    "def leave_one_out(classifier, values, labels):\n",
    "    leave_one_out_validator = LeaveOneOut(len(values))\n",
    "    classifier_metrics = cross_validation.cross_val_score(classifier, values, labels, cv=leave_one_out_validator)\n",
    "    accuracy = classifier_metrics.mean()\n",
    "    deviation = classifier_metrics.std()\n",
    "    return accuracy, deviation"
   ]
  },
  {
   "cell_type": "code",
   "execution_count": 17,
   "metadata": {
    "collapsed": false,
    "scrolled": true
   },
   "outputs": [
    {
     "name": "stdout",
     "output_type": "stream",
     "text": [
      "Random Forest accuracy is 0.7883 (+/- 0.409)\n",
      "LDA accuracy is 0.8043 (+/- 0.397)\n",
      "QDA accuracy is 0.7517 (+/- 0.432)\n",
      "Gaussian NB accuracy is 0.7890 (+/- 0.408)\n"
     ]
    }
   ],
   "source": [
    "rf = RandomForestClassifier(n_estimators = 22) \n",
    "qda = QDA()\n",
    "lda = LDA()\n",
    "gnb = GaussianNB()\n",
    "classifier_accuracy_list = []\n",
    "classifiers = [(rf, \"Random Forest\"), (lda, \"LDA\"), (qda, \"QDA\"), (gnb, \"Gaussian NB\")]\n",
    "for classifier, name in classifiers:\n",
    "    accuracy, deviation = leave_one_out(classifier, data1, class_labels1)\n",
    "    print '%s accuracy is %0.4f (+/- %0.3f)' % (name, accuracy, deviation)\n",
    "    classifier_accuracy_list.append((name, accuracy))"
   ]
  },
  {
   "cell_type": "code",
   "execution_count": 18,
   "metadata": {
    "collapsed": false,
    "scrolled": true
   },
   "outputs": [
    {
     "name": "stdout",
     "output_type": "stream",
     "text": [
      "Random Forest accuracy is 0.7565 (+/- 0.429)\n",
      "LDA accuracy is 0.7739 (+/- 0.418)\n",
      "QDA accuracy is 0.7306 (+/- 0.444)\n",
      "Gaussian NB accuracy is 0.7558 (+/- 0.430)\n"
     ]
    }
   ],
   "source": [
    "for classifier, name in classifiers:\n",
    "    accuracy, deviation = leave_one_out(classifier, data2, class_labels2)\n",
    "    print '%s accuracy is %0.4f (+/- %0.3f)' % (name, accuracy, deviation)\n",
    "    classifier_accuracy_list.append((name, accuracy))"
   ]
  }
 ],
 "metadata": {
  "kernelspec": {
   "display_name": "Python 2",
   "language": "python",
   "name": "python2"
  },
  "language_info": {
   "codemirror_mode": {
    "name": "ipython",
    "version": 2
   },
   "file_extension": ".py",
   "mimetype": "text/x-python",
   "name": "python",
   "nbconvert_exporter": "python",
   "pygments_lexer": "ipython2",
   "version": "2.7.6"
  }
 },
 "nbformat": 4,
 "nbformat_minor": 0
}
