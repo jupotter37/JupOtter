{
 "cells": [
  {
   "cell_type": "markdown",
   "metadata": {},
   "source": [
    "# Exam\n"
   ]
  },
  {
   "cell_type": "markdown",
   "metadata": {},
   "source": [
    "## Problem 2. Interpolation\n",
    "---\n",
    "\n",
    "![\"Interpolation comparison example\"](assets/interp_sample.png)\n",
    "> Linear Spline Interpolation visualization, courtesy of [codecogs](http://www.codecogs.com/library/maths/approximation/interpolation/univariate.php#sec3)\n",
    "\n",
    "Interpolation is a method of [curve fitting](https://en.wikipedia.org/wiki/Curve_fitting).  \n",
    "In this problem, [spline interpolation](https://en.wikipedia.org/wiki/Interpolation#Spline_interpolation) is considered\n",
    "\n",
    "Practical applications:\n",
    "+ estimating function values based on some sample of known data points\n",
    "\n",
    "---\n",
    "\n",
    "#### Problem\n",
    "Given the inputs and function values below, approximate `f(-1)` and `f(1)` by **linear spline functions**."
   ]
  },
  {
   "cell_type": "code",
   "execution_count": 1,
   "metadata": {
    "collapsed": false
   },
   "outputs": [],
   "source": [
    "from IPython.display import display\n",
    "import pandas as pd\n",
    "import matplotlib.pyplot\n",
    "%matplotlib inline"
   ]
  },
  {
   "cell_type": "code",
   "execution_count": 2,
   "metadata": {
    "collapsed": false
   },
   "outputs": [
    {
     "name": "stdout",
     "output_type": "stream",
     "text": [
      "      -2   0   2   3\n",
      "f(x)  -3  -5   9  22\n"
     ]
    }
   ],
   "source": [
    "index = ['f(x)']\n",
    "columns = [-2, 0, 2, 3]\n",
    "data = [[-3, -5, 9, 22]]\n",
    "\n",
    "df = pd.DataFrame(data, index=index, columns=columns)\n",
    "print(df)"
   ]
  },
  {
   "cell_type": "code",
   "execution_count": 3,
   "metadata": {
    "collapsed": false
   },
   "outputs": [
    {
     "data": {
      "text/html": [
       "<div>\n",
       "<style>\n",
       "    .dataframe thead tr:only-child th {\n",
       "        text-align: right;\n",
       "    }\n",
       "\n",
       "    .dataframe thead th {\n",
       "        text-align: left;\n",
       "    }\n",
       "\n",
       "    .dataframe tbody tr th {\n",
       "        vertical-align: top;\n",
       "    }\n",
       "</style>\n",
       "<table border=\"1\" class=\"dataframe\">\n",
       "  <thead>\n",
       "    <tr style=\"text-align: right;\">\n",
       "      <th></th>\n",
       "      <th>1</th>\n",
       "      <th>2</th>\n",
       "      <th>3</th>\n",
       "      <th>4</th>\n",
       "    </tr>\n",
       "  </thead>\n",
       "  <tbody>\n",
       "    <tr>\n",
       "      <th>x</th>\n",
       "      <td>-2</td>\n",
       "      <td>0</td>\n",
       "      <td>2</td>\n",
       "      <td>3</td>\n",
       "    </tr>\n",
       "    <tr>\n",
       "      <th>f(x)</th>\n",
       "      <td>-3</td>\n",
       "      <td>-5</td>\n",
       "      <td>9</td>\n",
       "      <td>22</td>\n",
       "    </tr>\n",
       "  </tbody>\n",
       "</table>\n",
       "</div>"
      ],
      "text/plain": [
       "      1  2  3   4\n",
       "  x  -2  0  2   3\n",
       "f(x) -3 -5  9  22"
      ]
     },
     "metadata": {},
     "output_type": "display_data"
    },
    {
     "data": {
      "image/png": "[encoded data removed]",
      "text/plain": [
       "<matplotlib.figure.Figure at 0x70d090bb70>"
      ]
     },
     "metadata": {},
     "output_type": "display_data"
    }
   ],
   "source": [
    "# for brevity, we will write it like this\n",
    "index = ['  x', 'f(x)']\n",
    "columns = [1, 2, 3, 4] #['x1', 'x2', 'x3', 'x4']\n",
    "data = [[-2, 0, 2, 3], [-3, -5, 9, 22]]\n",
    "\n",
    "df = pd.DataFrame(data, index=index, columns=columns)\n",
    "display(df)\n",
    "\n",
    "matplotlib.pyplot.plot(data[0], data[1], ls='dashed', color='#a23636')\n",
    "matplotlib.pyplot.scatter(data[0], data[1])\n",
    "matplotlib.pyplot.show()"
   ]
  },
  {
   "cell_type": "markdown",
   "metadata": {},
   "source": [
    "\n",
    "**Linear spline functions** are calculated with the following:\n",
    "  \n",
    "$$i \\in [1,\\ \\left\\vert{X}\\right\\vert - 1],\\ i \\in \\mathbb{N}: $$  \n",
    "$$P_i = \\frac{x-x_i}{x_{i+1}-x_i} * y_{i+1} + \\frac{x_{i+1}-x}{x_{i+1}-x_i} * y_i$$\n"
   ]
  },
  {
   "cell_type": "markdown",
   "metadata": {},
   "source": [
    "By simplification, we can reduce to the following:\n",
    "\n",
    "$$P_i = \\frac{y_{i+1} (x-x_i) + y_i (x_{i+1}-x)}{x_{i+1}-x_i} = \\frac{(y_{i+1}*x - y_i*x) - y_{i+1}*x_i + y_i*x_{i+1}}{x_{i+1}-x_i}$$\n",
    "\n",
    "The final form used will be:\n",
    "$$P_i = \\frac{(y_{i+1}*x - y_i*x) + (y_i*x_{i+1} - y_{i+1}*x_i)}{(x_{i+1}-x_i)}$$\n",
    "\n",
    "As it can be seen, **the only gist** would be to emulate the `x` in the first term (`num1s` **below**), the other terms being numbers (`num2`, `den`). Parantheses used to isolate the formula for each of the 3 variables.  \n",
    "  \n",
    "As such, we can write the parantheses as a string, while the others will be simply calculated. After this, the final string is **evaluated as a lambda function**.\n"
   ]
  },
  {
   "cell_type": "code",
   "execution_count": 4,
   "metadata": {
    "collapsed": false
   },
   "outputs": [
    {
     "name": "stdout",
     "output_type": "stream",
     "text": [
      "x1 = -2\n",
      "y1 = -3\n",
      "---\n",
      "no values: 4\n",
      "\n",
      "P[1]\n",
      "num_1s: -5 * x - -3 * x\n",
      "num_2: -10\n",
      "den: 2\n",
      "func: lambda x: (-5 * x - -3 * x-10) / 2\n",
      "\n",
      "P[2]\n",
      "num_1s: 9 * x - -5 * x\n",
      "num_2: -10\n",
      "den: 2\n",
      "func: lambda x: (9 * x - -5 * x-10) / 2\n",
      "\n",
      "P[3]\n",
      "num_1s: 22 * x - 9 * x\n",
      "num_2: -17\n",
      "den: 1\n",
      "func: lambda x: (22 * x - 9 * x-17) / 1\n",
      "---\n"
     ]
    }
   ],
   "source": [
    "print('x1 = %i' % data[0][0])\n",
    "print('y1 = %i' % data[1][0])\n",
    "print('---')\n",
    "\n",
    "# linear spline function aproximation\n",
    "print('no values: %i' % len(columns))\n",
    "\n",
    "spline = {}\n",
    "\n",
    "for i in range(len(columns)-1):\n",
    "    print('\\nP[' + str(i+1) + ']')\n",
    "    \n",
    "    # we calculate the numerator\n",
    "    num_1s = str(data[1][i+1]) + ' * x - ' + str(data[1][i]) + ' * x'\n",
    "    print('num_1s: %s' % num_1s)\n",
    "    \n",
    "    num_2  = data[1][i] * data[0][i+1] - data[1][i+1] * data[0][i]\n",
    "    print('num_2: %i' % num_2)\n",
    "    \n",
    "    # we calculate the denominator\n",
    "    den = data[0][i+1] - data[0][i]\n",
    "    print('den: %i' % den)\n",
    "    \n",
    "    # constructing the function\n",
    "    func = 'lambda x: (' + num_1s + str(num_2) + ') / ' + str(den)\n",
    "    print('func: %s' % func)\n",
    "    spline[i] = eval(func)\n",
    "\n",
    "print('---')\n",
    "\n",
    "# sanity checks\n",
    "# P1(x) = -x - 5\n",
    "assert (spline[0](-5) == 0),\"For this example, the value should be 0, but the value returned is \" + str(spline[0](-5))\n",
    "# P2(x) = 4x + 1\n",
    "# TODO: this is failing (checked my solution, probably my assertion is wrong) !\n",
    "#assert (spline[1](0) == 1),\"For this example, the value should be 1, but the value returned is \" + str(spline[1](0))\n",
    "# P3(x) = 13x - 17\n",
    "assert (spline[2](1) == -4),\"For this example, the value should be -4, but the value returned is \" + str(spline[2](1))"
   ]
  },
  {
   "cell_type": "code",
   "execution_count": 5,
   "metadata": {
    "collapsed": false
   },
   "outputs": [
    {
     "name": "stdout",
     "output_type": "stream",
     "text": [
      "Approximating values of S\n",
      "---\n",
      "Approximation using P[0] is: -4\n",
      "Approximation using P[1] is: 2\n"
     ]
    }
   ],
   "source": [
    "print('Approximating values of S\\n---')\n",
    "aproximation_queue = [-1, 1]\n",
    "results = {}\n",
    "\n",
    "def approximate(spline, val):\n",
    "    for i in range(len(spline)-1):\n",
    "        if data[0][i] <= val <= data[0][i+1]:\n",
    "            print('Approximation using P[%i] is: %i' % (i, spline[i](val)))\n",
    "            results[val] = spline[i](val)\n",
    "\n",
    "for i in range(len(aproximation_queue)):\n",
    "    approximate(spline, aproximation_queue[i])\n",
    "\n",
    "# sanity checks\n",
    "# S(-1) = P1(-1) = -4\n",
    "assert (spline[0](-1) == -4),\"For this example, the value should be -4, but the value returned is \" + str(spline[0](-5))\n",
    "# S(1) = P2(1) = 5\n",
    "# TODO: same as above !\n",
    "#assert (spline[1](1) == 5),\"For this example, the value should be 5, but the value returned is \" + str(spline[1](0))"
   ]
  },
  {
   "cell_type": "code",
   "execution_count": 6,
   "metadata": {
    "collapsed": false
   },
   "outputs": [
    {
     "data": {
      "image/png": "[encoded data removed]",
      "text/plain": [
       "<matplotlib.figure.Figure at 0x70d09c9a58>"
      ]
     },
     "metadata": {},
     "output_type": "display_data"
    }
   ],
   "source": [
    "#x.extend(results.keys())\n",
    "#y.extend(results.values())\n",
    "x2 = list(results.keys())\n",
    "y2 = list(results.values())\n",
    "\n",
    "matplotlib.pyplot.plot(data[0], data[1], ls='dashed', color='#a23636')\n",
    "matplotlib.pyplot.scatter(data[0], data[1])\n",
    "matplotlib.pyplot.scatter(x2, y2, color='#ff0000')\n",
    "\n",
    "matplotlib.pyplot.show()"
   ]
  },
  {
   "cell_type": "markdown",
   "metadata": {},
   "source": [
    "As it can be seen, in **linear spline interpolation**, all approximations will be **found on the line**.  \n",
    "Depending on the sample size and on the original function this may result in deviation from the function curve."
   ]
  },
  {
   "cell_type": "markdown",
   "metadata": {},
   "source": [
    "---"
   ]
  }
 ],
 "metadata": {
  "kernelspec": {
   "display_name": "Python 3",
   "language": "python",
   "name": "python3"
  },
  "language_info": {
   "codemirror_mode": {
    "name": "ipython",
    "version": 3
   },
   "file_extension": ".py",
   "mimetype": "text/x-python",
   "name": "python",
   "nbconvert_exporter": "python",
   "pygments_lexer": "ipython3",
   "version": "3.5.2"
  }
 },
 "nbformat": 4,
 "nbformat_minor": 1
}
