{
 "cells": [
  {
   "cell_type": "code",
   "execution_count": null,
   "metadata": {},
   "outputs": [],
   "source": [
    "from IPython.core.display import HTML\n",
    "with open('../style.css', 'r') as file:\n",
    "    css = file.read()\n",
    "HTML(css)"
   ]
  },
  {
   "cell_type": "markdown",
   "metadata": {},
   "source": [
    "The function `dfa2string` converts the given deterministic <span style=\"font-variant:small-caps;\">Fsm</span> into a string."
   ]
  },
  {
   "cell_type": "code",
   "execution_count": null,
   "metadata": {},
   "outputs": [],
   "source": [
    "def dfa2string(Fsm):\n",
    "    states, sigma, delta, q0, final = Fsm\n",
    "    result = ''\n",
    "    n = 0\n",
    "    statesToNames = {}\n",
    "    for q in states:\n",
    "        statesToNames[q] = f'S{n}'\n",
    "        n += 1\n",
    "    result += 'states: {S0, ..., ' + f'S{n-1}' + '}\\n\\n'   \n",
    "    result += f'start state: {statesToNames[q0]}' + '\\n\\n'\n",
    "    result += 'state encoding:\\n'\n",
    "    for q in states:\n",
    "        result += f'{statesToNames[q]} = {q}' + '\\n'\n",
    "    result += '\\ntransitions:\\n'\n",
    "    for q in states:\n",
    "        for c in sigma: \n",
    "            print(q, c, delta.get((q, c)))\n",
    "            if delta.get((q, c)) != None:\n",
    "                result += f'delta({statesToNames[q]}, {c}) = {statesToNames[delta[(q, c)]]}' + '\\n'\n",
    "    result += '\\nset of accepting states: {'\n",
    "    result += ', '.join({ statesToNames[q] for q in final })\n",
    "    result += '}\\n'\n",
    "    return result"
   ]
  },
  {
   "cell_type": "code",
   "execution_count": null,
   "metadata": {},
   "outputs": [],
   "source": [
    "import graphviz as gv"
   ]
  },
  {
   "cell_type": "markdown",
   "metadata": {},
   "source": [
    "The function `dfa2dot` converts the given deterministic <span style=\"font-variant:small-caps;\">Fsm</span> into a graph in dot-format."
   ]
  },
  {
   "cell_type": "code",
   "execution_count": null,
   "metadata": {},
   "outputs": [],
   "source": [
    "def dfa2dot(dfa):\n",
    "    states, sigma, delta, q0, final = dfa\n",
    "    dot = gv.Digraph('Deterministic FSM')\n",
    "    dot.graph_attr['rankdir'] = 'LR'\n",
    "    n = 0              # used to assign names to states\n",
    "    statesToNames = {} # assigns a name to every state\n",
    "    for q in states:\n",
    "        statesToNames[q] = f'S{n}'\n",
    "        n += 1\n",
    "    startName = statesToNames[q0]\n",
    "    dot.node('1', label='', width='0.1', height='0.1', style='filled', color='blue')\n",
    "    dot.edge('1', startName)\n",
    "    for q in states:\n",
    "        if q in final:\n",
    "            dot.node(statesToNames[q], peripheries='2')\n",
    "        else:\n",
    "            dot.node(statesToNames[q])\n",
    "    for q in states:\n",
    "        for c in sigma:\n",
    "            p = delta.get((q, c))\n",
    "            if p != None:\n",
    "                dot.edge(statesToNames[q], statesToNames[p], label = c)\n",
    "    return dot, statesToNames"
   ]
  },
  {
   "cell_type": "markdown",
   "metadata": {},
   "source": [
    "The function `nfa2string` converts a non-deterministic finite state machine `nfa` into a string."
   ]
  },
  {
   "cell_type": "code",
   "execution_count": null,
   "metadata": {},
   "outputs": [],
   "source": [
    "def nfa2string(nfa):\n",
    "    states, sigma, delta, q0, final = nfa\n",
    "    n       = 0\n",
    "    result  = ''\n",
    "    result += f'states: {states}' + '\\n\\n'   \n",
    "    result += f'start state: {q0}' + '\\n\\n'\n",
    "    result += 'transitions:\\n'\n",
    "    for q in states:\n",
    "        for c in sigma:\n",
    "            S = delta.get((q, c))\n",
    "            if S != None:\n",
    "                for p in S:\n",
    "                    result += f'[{q}, {c}] |-> {p}' + '\\n'\n",
    "        S = delta.get((q, ''))\n",
    "        if S != None:\n",
    "            for p in S:\n",
    "                result += f'[{q}, \"\"] |-> {p}' + '\\n'\n",
    "    result += '\\n' + f'set of accepting states: {final}' + '\\n'\n",
    "    return result"
   ]
  },
  {
   "cell_type": "markdown",
   "metadata": {},
   "source": [
    "The function `nfa2dot` takes a non-deterministic finite state machine and converts it \n",
    "into a a dot graph."
   ]
  },
  {
   "cell_type": "code",
   "execution_count": null,
   "metadata": {},
   "outputs": [],
   "source": [
    "def nfa2dot(nfa):\n",
    "    states, sigma, delta, q0, final = nfa\n",
    "    result = ''\n",
    "    n      = 0\n",
    "    startName = str(q0)\n",
    "    dot = gv.Digraph('Non-Deterministic FSM')\n",
    "    dot.graph_attr['rankdir'] = 'LR'\n",
    "    dot.node('0', label='', width='0.1', height='0.1', style='filled', color='blue')\n",
    "    dot.edge('0', startName)\n",
    "    for q in states:\n",
    "        if q in final:\n",
    "            dot.node(str(q), peripheries='2')\n",
    "        else:\n",
    "            dot.node(str(q))\n",
    "    for q in states:\n",
    "        S = delta.get((q, ''))\n",
    "        if S != None:\n",
    "            for p in S:\n",
    "                dot.edge(str(q), str(p), label='𝜀', weight='0.1')\n",
    "    for q in states:\n",
    "        for c in sigma:\n",
    "            S = delta.get((q, c))\n",
    "            if S != None:\n",
    "                for p in S:\n",
    "                    dot.edge(str(q), str(p), label=c, weight='10')\n",
    "    return dot"
   ]
  },
  {
   "cell_type": "code",
   "execution_count": null,
   "metadata": {},
   "outputs": [],
   "source": []
  }
 ],
 "metadata": {
  "kernelspec": {
   "display_name": "Python 3",
   "language": "python",
   "name": "python3"
  },
  "language_info": {
   "codemirror_mode": {
    "name": "ipython",
    "version": 3
   },
   "file_extension": ".py",
   "mimetype": "text/x-python",
   "name": "python",
   "nbconvert_exporter": "python",
   "pygments_lexer": "ipython3",
   "version": "3.9.0"
  },
  "varInspector": {
   "cols": {
    "lenName": 16,
    "lenType": 16,
    "lenVar": 40
   },
   "kernels_config": {
    "python": {
     "delete_cmd_postfix": "",
     "delete_cmd_prefix": "del ",
     "library": "var_list.py",
     "varRefreshCmd": "print(var_dic_list())"
    },
    "r": {
     "delete_cmd_postfix": ") ",
     "delete_cmd_prefix": "rm(",
     "library": "var_list.r",
     "varRefreshCmd": "cat(var_dic_list()) "
    }
   },
   "types_to_exclude": [
    "module",
    "function",
    "builtin_function_or_method",
    "instance",
    "_Feature"
   ],
   "window_display": false
  }
 },
 "nbformat": 4,
 "nbformat_minor": 4
}
