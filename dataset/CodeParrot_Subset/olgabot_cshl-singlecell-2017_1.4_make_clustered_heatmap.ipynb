{
 "cells": [
  {
   "cell_type": "markdown",
   "metadata": {},
   "source": [
    "# How to make a clustered heatmap\n",
    "\n",
    "Now we'll break down how to read the clustered heatmap we made in [1.3_explore_gene_dropout_via_distance_correlation_linkage_clustering](1.3_explore_gene_dropout_via_distance_correlation_linkage_clustering.ipynb)"
   ]
  },
  {
   "cell_type": "code",
   "execution_count": null,
   "metadata": {
    "collapsed": true
   },
   "outputs": [],
   "source": [
    "# Import the pandas dataframe library\n",
    "import pandas as pd\n",
    "\n",
    "# Import the seaborn library for plotting\n",
    "import seaborn as sns\n",
    "\n",
    "# Put all the plots directly into the notebook\n",
    "%matplotlib inline"
   ]
  },
  {
   "cell_type": "markdown",
   "metadata": {},
   "source": [
    "Read Expression data using pandas. Notice that pandas can read URLs (!), not just files on your computer!"
   ]
  },
  {
   "cell_type": "code",
   "execution_count": null,
   "metadata": {},
   "outputs": [],
   "source": [
    "csv = \"https://media.githubusercontent.com/media/olgabot/macosko2015/\" \\\n",
    "         \"master/data/05_make_rentina_subsets_for_teaching/big_clusters_expression.csv\"\n",
    "expression = pd.read_csv(csv, index_col=0)\n",
    "print(expression.shape)\n",
    "expression.head()"
   ]
  },
  {
   "cell_type": "markdown",
   "metadata": {},
   "source": [
    "### Exercise 1\n",
    "\n",
    "Now use `pd.read_csv` to read the csv file of the cell metadata"
   ]
  },
  {
   "cell_type": "code",
   "execution_count": null,
   "metadata": {
    "collapsed": true
   },
   "outputs": [],
   "source": [
    "csv = \"https://media.githubusercontent.com/media/olgabot/macosko2015/\" \\\n",
    "         \"master/data/05_make_rentina_subsets_for_teaching/big_clusters_cell_metadata.csv\"\n",
    "# YOUR CODE HERE"
   ]
  },
  {
   "cell_type": "markdown",
   "metadata": {},
   "source": [
    "![](figures/dont_scroll.svg)"
   ]
  },
  {
   "cell_type": "code",
   "execution_count": null,
   "metadata": {},
   "outputs": [],
   "source": [
    "csv = \"https://media.githubusercontent.com/media/olgabot/macosko2015/\" \\\n",
    "         \"master/data/05_make_rentina_subsets_for_teaching/big_clusters_cell_metadata.csv\"\n",
    "cell_metadata = pd.read_csv(csv, index_col=0)\n",
    "print(cell_metadata.shape)\n",
    "cell_metadata.head()"
   ]
  },
  {
   "cell_type": "markdown",
   "metadata": {},
   "source": [
    "To correlate columns of dataframes in pandas, you use the function `.corr`. Let's look at the documentation of `.corr`\n",
    "\n",
    "1. Is the default method Pearson or Spearman correlation? \n",
    "2. Can you correlate between rows, or only between columns?"
   ]
  },
  {
   "cell_type": "code",
   "execution_count": null,
   "metadata": {},
   "outputs": [],
   "source": [
    "expression.corr?"
   ]
  },
  {
   "cell_type": "markdown",
   "metadata": {},
   "source": [
    "![](figures/dont_scroll.svg)\n",
    "\n",
    "Since `.corr` only correlates between columns, we need to **transpose** our dataframe. Here's a little animation of [matrix transposition from Wikipedia](https://en.wikipedia.org/wiki/Transpose):\n",
    "\n",
    "![Transposing a matrix](https://upload.wikimedia.org/wikipedia/commons/e/e4/Matrix_transpose.gif)\n",
    "\n",
    "### Exercise 2\n",
    "Transpose the expression matrix so the cells are the columns, which makes it easy to calculate correlations. How do you transpose a dataframe in `pandas`? (hint: google knows everything)"
   ]
  },
  {
   "cell_type": "code",
   "execution_count": null,
   "metadata": {
    "collapsed": true,
    "scrolled": true
   },
   "outputs": [],
   "source": [
    "# YOUR CODE HERE"
   ]
  },
  {
   "cell_type": "markdown",
   "metadata": {},
   "source": [
    "![](figures/dont_scroll.svg)"
   ]
  },
  {
   "cell_type": "code",
   "execution_count": null,
   "metadata": {
    "scrolled": true
   },
   "outputs": [],
   "source": [
    "expression_t = expression.T\n",
    "print(expression_t.shape)\n",
    "expression_t.head()"
   ]
  },
  {
   "cell_type": "markdown",
   "metadata": {},
   "source": [
    "### Exercise 3\n",
    "\n",
    "Use `.corr` to calculate the **Spearman** correlation of the transposed expression dataframe. Make sure to `print` the `shape`, and show the `head` of the resulting dataframe."
   ]
  },
  {
   "cell_type": "code",
   "execution_count": null,
   "metadata": {
    "collapsed": true
   },
   "outputs": [],
   "source": [
    "# YOUR CODE HERE"
   ]
  },
  {
   "cell_type": "markdown",
   "metadata": {},
   "source": [
    "![](figures/dont_scroll.svg)"
   ]
  },
  {
   "cell_type": "code",
   "execution_count": null,
   "metadata": {},
   "outputs": [],
   "source": [
    "expression_corr = expression_t.corr(method='spearman')\n",
    "print(expression_corr.shape)\n",
    "expression_corr.head()"
   ]
  },
  {
   "cell_type": "markdown",
   "metadata": {},
   "source": [
    "### Pro tip: if your matrix is really big, here's a trick to make spearman correlations faster\n",
    "\n",
    "Remember that spearman correlation is equal to performing pearson correlation on the ranks? Well, that's exactly what's happening inside the `.corr(method='spearman')` function! Every time it's calculating spearman, it's converting each row to ranks, which means that it's double-converting to ranks since it has to do it for each pair. Let's cut the work in half by converting to ranks FIRST. Let's take a look at the options for `.rank`:"
   ]
  },
  {
   "cell_type": "code",
   "execution_count": null,
   "metadata": {
    "collapsed": true
   },
   "outputs": [],
   "source": [
    "expression_t.rank?"
   ]
  },
  {
   "cell_type": "markdown",
   "metadata": {},
   "source": [
    "Notice we can specify `axis=1` or `axis=0`, but what does that really *mean*? Was this ascending along rows, or ascending along columns?\n",
    "\n",
    "![](figures/ascending_across_rows_maybe.png)\n",
    "![](figures/ascending_across_columns_maybe.png)\n",
    "\n",
    "\n",
    "To figure this out, let's use a small, simple dataframe:"
   ]
  },
  {
   "cell_type": "code",
   "execution_count": null,
   "metadata": {},
   "outputs": [],
   "source": [
    "df = pd.DataFrame([[5, 6, 7], [5, 6, 7], [5, 6, 7]])\n",
    "df"
   ]
  },
  {
   "cell_type": "markdown",
   "metadata": {},
   "source": [
    "\n",
    "### Exercise 4\n",
    "\n",
    "Try `axis=0` when using `rank` on this `df`"
   ]
  },
  {
   "cell_type": "code",
   "execution_count": null,
   "metadata": {
    "collapsed": true
   },
   "outputs": [],
   "source": [
    "# YOUR CODE HERE"
   ]
  },
  {
   "cell_type": "markdown",
   "metadata": {},
   "source": [
    "![](figures/dont_scroll.svg)"
   ]
  },
  {
   "cell_type": "code",
   "execution_count": null,
   "metadata": {},
   "outputs": [],
   "source": [
    "df.rank(axis=0)"
   ]
  },
  {
   "cell_type": "markdown",
   "metadata": {},
   "source": [
    "Did that make ranks ascending along columns or along rows?\n",
    "\n",
    "\n",
    "### Exercise 5\n",
    "\n",
    "Now try `axis=1` when using `rank` on this `df`"
   ]
  },
  {
   "cell_type": "code",
   "execution_count": null,
   "metadata": {
    "collapsed": true
   },
   "outputs": [],
   "source": [
    "# YOUR CODE HERE"
   ]
  },
  {
   "cell_type": "markdown",
   "metadata": {},
   "source": [
    "![](figures/dont_scroll.svg)"
   ]
  },
  {
   "cell_type": "code",
   "execution_count": null,
   "metadata": {},
   "outputs": [],
   "source": [
    "df.rank(axis=1)"
   ]
  },
  {
   "cell_type": "markdown",
   "metadata": {},
   "source": [
    "Did that make ranks ascending along columns or along rows?\n",
    "\n",
    "![](figures/ascending_across_rows_axis1.png)\n",
    "\n",
    "![](figures/ascending_across_columns_axis0.png)"
   ]
  },
  {
   "cell_type": "markdown",
   "metadata": {},
   "source": [
    "### Exercise 6\n",
    "\n",
    "\n",
    "To get the gene (row) ranks for each cell (column), do we want `axis=1` or `axis=0`? Perform `.rank` on the transposed expression matrix (`expression_t`), `print` the `shape` of the resulting ranks, and show the `head()` of it."
   ]
  },
  {
   "cell_type": "code",
   "execution_count": null,
   "metadata": {
    "collapsed": true
   },
   "outputs": [],
   "source": [
    "# YOUR CODE HERE"
   ]
  },
  {
   "cell_type": "markdown",
   "metadata": {},
   "source": [
    "![](figures/dont_scroll.svg)"
   ]
  },
  {
   "cell_type": "code",
   "execution_count": null,
   "metadata": {},
   "outputs": [],
   "source": [
    "ranks = expression_t.rank(axis=0)\n",
    "print(ranks.shape)\n",
    "ranks.head()"
   ]
  },
  {
   "cell_type": "markdown",
   "metadata": {},
   "source": [
    "\n",
    "### Exercise 6\n",
    "\n",
    "Now that you're armed with all this information, we'll calculate the ranks. While you're at it, let's compare the time it takes to run (\"runtime\") of `.corr(method=\"pearson\")` on the ranks matrix vs `.corr(method=\"spearman\")` on the expression matrix.\n",
    "\n",
    "1. Perform **pearson** correlation on the ranks\n",
    "2. Check that it is equal to the expression **spearman** correlation.\n",
    "3. Use the `%timeit` magic to check the runtimes of `.corr` on the ranks and expression matrices. (Feel free to calculate the expression correlation again, below)\n",
    "    1. Note that when you use `timeit`, you cannot assign any variables -- using an equals sign doesn't work here.\n",
    "4. How much time did it take, in comparison? What's the order of magnitude difference?\n",
    "\n",
    "\n",
    "Use as many cells as you need."
   ]
  },
  {
   "cell_type": "code",
   "execution_count": null,
   "metadata": {
    "collapsed": true
   },
   "outputs": [],
   "source": [
    "# YOUR CODE HERE"
   ]
  },
  {
   "cell_type": "code",
   "execution_count": null,
   "metadata": {
    "collapsed": true
   },
   "outputs": [],
   "source": [
    "# YOUR CODE HERE"
   ]
  },
  {
   "cell_type": "code",
   "execution_count": null,
   "metadata": {
    "collapsed": true
   },
   "outputs": [],
   "source": [
    "# YOUR CODE HERE"
   ]
  },
  {
   "cell_type": "markdown",
   "metadata": {
    "collapsed": true
   },
   "source": [
    "![](figures/dont_scroll.svg)"
   ]
  },
  {
   "cell_type": "code",
   "execution_count": null,
   "metadata": {},
   "outputs": [],
   "source": [
    "%timeit expression_t.corr(method='spearman')\n",
    "%timeit ranks.corr(method='pearson')"
   ]
  },
  {
   "cell_type": "code",
   "execution_count": null,
   "metadata": {},
   "outputs": [],
   "source": [
    "ranks_corr = ranks.corr(method='pearson')\n",
    "print(ranks_corr.shape)\n",
    "ranks_corr.head()"
   ]
  },
  {
   "cell_type": "markdown",
   "metadata": {},
   "source": [
    "Use *inequality* to see if any points are not the same. If this is equal to zero, then we know that they are ALL the same."
   ]
  },
  {
   "cell_type": "code",
   "execution_count": null,
   "metadata": {},
   "outputs": [],
   "source": [
    "(ranks_corr != expression_corr).sum().sum()"
   ]
  },
  {
   "cell_type": "markdown",
   "metadata": {},
   "source": [
    "This is a flip of checking for equality, which is a little trickier because then you have to know exactly how many items are in the matrix. Since we have a 300x300 matrix, that multiplication is a little easier to do in your head and know that you got the right answer."
   ]
  },
  {
   "cell_type": "code",
   "execution_count": null,
   "metadata": {},
   "outputs": [],
   "source": [
    "(ranks_corr == expression_corr).sum().sum()"
   ]
  },
  {
   "cell_type": "markdown",
   "metadata": {},
   "source": [
    "### Make a heatmap!!\n",
    "\n",
    "Now we are ready to make a clustered heatmap! We'll use `seaborn`'s `sns.clustermap`. Let's read the documentation for `sns.clustermap`. What is the default distance metric and linkage method?"
   ]
  },
  {
   "cell_type": "code",
   "execution_count": null,
   "metadata": {
    "collapsed": true
   },
   "outputs": [],
   "source": [
    "sns.clustermap?"
   ]
  },
  {
   "cell_type": "markdown",
   "metadata": {},
   "source": [
    "\n",
    "### Exercise 7\n",
    "\n",
    "Now run `sns.clustermap` on either the ranks or expression correlation matrices, since they are equal :)"
   ]
  },
  {
   "cell_type": "code",
   "execution_count": null,
   "metadata": {
    "collapsed": true
   },
   "outputs": [],
   "source": [
    "# YOUR CODE HERE"
   ]
  },
  {
   "cell_type": "markdown",
   "metadata": {},
   "source": [
    "![](figures/dont_scroll.svg)"
   ]
  },
  {
   "cell_type": "code",
   "execution_count": null,
   "metadata": {},
   "outputs": [],
   "source": [
    "sns.clustermap(expression_corr)"
   ]
  },
  {
   "cell_type": "markdown",
   "metadata": {},
   "source": [
    "How can we add the colors labeling the rows and columns? Check the documentation for `sns.clustermap` again:\n",
    "\n",
    "### Exercise 8"
   ]
  },
  {
   "cell_type": "code",
   "execution_count": null,
   "metadata": {
    "collapsed": true
   },
   "outputs": [],
   "source": [
    "# YOUR CODE HERE"
   ]
  },
  {
   "cell_type": "markdown",
   "metadata": {},
   "source": [
    "![](figures/dont_scroll.svg)"
   ]
  },
  {
   "cell_type": "code",
   "execution_count": null,
   "metadata": {
    "collapsed": true
   },
   "outputs": [],
   "source": [
    "sns.clustermap?"
   ]
  },
  {
   "cell_type": "markdown",
   "metadata": {},
   "source": [
    "Since I am not a color design expert, I defer to color design experts in choosing my color palettes. One such expert is Cynthia Brewer, who made a [ColorBrewer](http://colorbrewer2.org/#type=sequential&scheme=BuGn&n=3) (hah!) list of color maps for both increasing quantity (shades), and for categories (differing colors).\n",
    "\n",
    "As a reference, I like using [this demo of every ColorBrewer scale](https://bl.ocks.org/mbostock/5577023). Hover over the palette to see its name.\n",
    "\n",
    "\n",
    "Thankfully, `seaborn` has the ColorBrewer color maps built-in. Let's see what this output is\n",
    "\n",
    "Remember -- we never make a variable without looking at it first!!"
   ]
  },
  {
   "cell_type": "code",
   "execution_count": null,
   "metadata": {},
   "outputs": [],
   "source": [
    "palette = sns.color_palette('Accent', n_colors=3)\n",
    "palette"
   ]
  },
  {
   "cell_type": "markdown",
   "metadata": {},
   "source": [
    "Huh that's a bunch of weird numbers. What do they mean? Turns out it's a value from 0 to 1 representing the red, green, and blue (RGB) color channels that computers understand. But I'm not a computer .... what am I supposed to do??\n",
    "\n",
    "Turns out, `seaborn` also has a very convenient function called `palplot` to plot the entire palette. This lets us look at the variable without having to convert from RGB"
   ]
  },
  {
   "cell_type": "code",
   "execution_count": null,
   "metadata": {},
   "outputs": [],
   "source": [
    "sns.palplot(palette)"
   ]
  },
  {
   "cell_type": "markdown",
   "metadata": {},
   "source": [
    "### Exercise 9\n",
    "\n",
    "* Get the color palette for the \"Set2\" colormap and specify that you want 6 colors (read the documentation of `sns.color_palette`)\n",
    "* Plot the color palette"
   ]
  },
  {
   "cell_type": "code",
   "execution_count": null,
   "metadata": {
    "collapsed": true
   },
   "outputs": [],
   "source": [
    "# YOUR CODE HERE"
   ]
  },
  {
   "cell_type": "code",
   "execution_count": null,
   "metadata": {
    "collapsed": true
   },
   "outputs": [],
   "source": [
    "# YOUR CODE HERE"
   ]
  },
  {
   "cell_type": "markdown",
   "metadata": {},
   "source": [
    "![](figures/dont_scroll.svg)"
   ]
  },
  {
   "cell_type": "code",
   "execution_count": null,
   "metadata": {},
   "outputs": [],
   "source": [
    "set2 = sns.color_palette('Set2', n_colors=6)\n",
    "sns.palplot(set2)"
   ]
  },
  {
   "cell_type": "markdown",
   "metadata": {},
   "source": [
    "If you are more advanced and want access to more colormaps, I recommend checking out [`palettable`](https://jiffyclub.github.io/palettable/).\n",
    "\n",
    "## Assign colors to clusters\n",
    "\n",
    "To set a specific color to each cluster, we'll need to see the unique clusters here. For an individual column (called a \"Series\" in pandas-speak), how can we get only the unique items?\n",
    "\n",
    "### Exercise 10\n",
    "\n",
    "Get the unique values from the column `\"cluster_celltype_with_id\"`. Remember, always look at the variable you created!"
   ]
  },
  {
   "cell_type": "code",
   "execution_count": null,
   "metadata": {
    "collapsed": true
   },
   "outputs": [],
   "source": [
    "# YOUR CODE HERE"
   ]
  },
  {
   "cell_type": "markdown",
   "metadata": {},
   "source": [
    "![](figures/dont_scroll.svg)"
   ]
  },
  {
   "cell_type": "code",
   "execution_count": null,
   "metadata": {},
   "outputs": [],
   "source": [
    "cluster_ids_unique = cell_metadata['cluster_celltype_with_id'].unique()\n",
    "cluster_ids_unique"
   ]
  },
  {
   "cell_type": "markdown",
   "metadata": {},
   "source": [
    "## Detour: `zip` and `dict`\n",
    "\n",
    "To map colors to each cluster name, we need to talk about some built-in functions in Python, called `zip` and `dict`\n",
    "\n",
    "For this next part, we'll use the built-in function `zip` which is very useful. It acts like a *zipper* (like for clothes) to glue together the pairs of items in two lists:\n"
   ]
  },
  {
   "cell_type": "code",
   "execution_count": null,
   "metadata": {},
   "outputs": [],
   "source": [
    "english = [\"hello\", \"goodbye\", \"no\", \"yes\", \"please\", \"thank you\",]\n",
    "spanish = [\"hola\", \"adios\", \"no\", \"si\", \"por favor\", \"gracias\"]\n",
    "zip(english, spanish)"
   ]
  },
  {
   "cell_type": "markdown",
   "metadata": {},
   "source": [
    "To be memory efficient, this doesn't show us what's inside right away. To look inside a `zip` object, we can use `list`:"
   ]
  },
  {
   "cell_type": "code",
   "execution_count": null,
   "metadata": {},
   "outputs": [],
   "source": [
    "list(zip(english, spanish))"
   ]
  },
  {
   "cell_type": "markdown",
   "metadata": {},
   "source": [
    "### Exercise 11\n",
    "\n",
    "What happened to  \"please\" and \"thank you\" from `english`? Make another list, called `spanish2`, that contains the Spanish words for \"please\" and \"thank you\" (again, google knows everything), then call `zip` on `english` and `spanish2`. Don't forget to use `list` on them!"
   ]
  },
  {
   "cell_type": "code",
   "execution_count": null,
   "metadata": {
    "collapsed": true
   },
   "outputs": [],
   "source": [
    "# YOUR CODE HERE"
   ]
  },
  {
   "cell_type": "markdown",
   "metadata": {},
   "source": [
    "![](figures/dont_scroll.svg)"
   ]
  },
  {
   "cell_type": "code",
   "execution_count": null,
   "metadata": {},
   "outputs": [],
   "source": [
    "english = [\"hello\", \"goodbye\", \"no\", \"yes\", \"please\", \"thank you\",]\n",
    "spanish = [\"hola\", \"adios\", \"no\", \"si\", \"por favor\", \"gracias\"]\n",
    "list(zip(english, spanish))"
   ]
  },
  {
   "cell_type": "markdown",
   "metadata": {},
   "source": [
    "Now we'll use a dictionary `dict` to make a lookup table that uses the pairing made by `zip`, using the first item as the \"key\" (what you use to look up) and the second item as the \"value\" (the result of the lookup)\n",
    "\n",
    "You can think of it as a translator -- use the word in English to look up the word in Spanish."
   ]
  },
  {
   "cell_type": "code",
   "execution_count": null,
   "metadata": {},
   "outputs": [],
   "source": [
    "english_to_spanish = dict(zip(english, spanish))\n",
    "english_to_spanish"
   ]
  },
  {
   "cell_type": "markdown",
   "metadata": {},
   "source": [
    "Now we can use English words to look up the word in Spanish! We use the square brackets and the english word we want to use, to look up the spanish word."
   ]
  },
  {
   "cell_type": "code",
   "execution_count": null,
   "metadata": {},
   "outputs": [],
   "source": [
    "english_to_spanish['hello']"
   ]
  },
  {
   "cell_type": "markdown",
   "metadata": {},
   "source": [
    "### Exercise 12\n",
    "\n",
    "Make an `spanish_to_english` dictionary and look up the English word for \"por favor\""
   ]
  },
  {
   "cell_type": "code",
   "execution_count": null,
   "metadata": {
    "collapsed": true
   },
   "outputs": [],
   "source": [
    "# YOUR CODE HERE"
   ]
  },
  {
   "cell_type": "markdown",
   "metadata": {},
   "source": [
    "![](figures/dont_scroll.svg)"
   ]
  },
  {
   "cell_type": "code",
   "execution_count": null,
   "metadata": {},
   "outputs": [],
   "source": [
    "spanish_to_english = dict(zip(spanish, english))\n",
    "spanish_to_english['por favor']"
   ]
  },
  {
   "cell_type": "markdown",
   "metadata": {},
   "source": [
    "Okay, detour over! Switching from linguistics back to biology :)\n",
    "\n",
    "### Exercise 13\n",
    "\n",
    "Use `dict` and `zip` to create a variable called `id_to_color` that assigns labels in `cluster_ids_unique` to a color in `set2`"
   ]
  },
  {
   "cell_type": "code",
   "execution_count": null,
   "metadata": {
    "collapsed": true
   },
   "outputs": [],
   "source": [
    "# YOUR CODE HERE"
   ]
  },
  {
   "cell_type": "markdown",
   "metadata": {},
   "source": [
    "![](figures/dont_scroll.svg)"
   ]
  },
  {
   "cell_type": "code",
   "execution_count": null,
   "metadata": {},
   "outputs": [],
   "source": [
    "id_to_color = dict(zip(cluster_ids_unique, set2))\n",
    "id_to_color"
   ]
  },
  {
   "cell_type": "markdown",
   "metadata": {},
   "source": [
    "Now we want to use this `id_to_color` lookup table to make a long list of colors for each cell. "
   ]
  },
  {
   "cell_type": "code",
   "execution_count": null,
   "metadata": {},
   "outputs": [],
   "source": [
    "cell_metadata.head()"
   ]
  },
  {
   "cell_type": "markdown",
   "metadata": {},
   "source": [
    "As an example, let's use the `celltypes` column to make a list of each celltype color first. Notice that we can use `cell_metadata.celltype` or `cell_metadata['celltype']` to get the column we want.\n",
    "\n",
    "We can only use the 'dot' notation because our column name has no unfriendly characters like spaces, dashes, or dots -- characters that mean something special in Python."
   ]
  },
  {
   "cell_type": "code",
   "execution_count": null,
   "metadata": {},
   "outputs": [],
   "source": [
    "celltypes = cell_metadata.celltype.unique()  # Could also use cell_metadata['celltype'].unique()\n",
    "celltypes"
   ]
  },
  {
   "cell_type": "code",
   "execution_count": null,
   "metadata": {},
   "outputs": [],
   "source": [
    "celltype_to_color = dict(zip(celltypes, sns.color_palette('Accent', n_colors=len(celltypes))))\n",
    "celltype_to_color"
   ]
  },
  {
   "cell_type": "markdown",
   "metadata": {},
   "source": [
    "Now we'll use the existing column `cell_metadata.celltype` to make a list of colors for each celltype"
   ]
  },
  {
   "cell_type": "code",
   "execution_count": null,
   "metadata": {},
   "outputs": [],
   "source": [
    "per_cell_celltype_color = [celltype_to_color[celltype] for celltype in cell_metadata.celltype]\n",
    "\n",
    "# Since this list is as long as our number of cells (300!), let's slice it and only look at the first 10\n",
    "per_cell_celltype_color[:5]"
   ]
  },
  {
   "cell_type": "markdown",
   "metadata": {},
   "source": [
    "### Exercise 14\n",
    "\n",
    "Make a variable called `per_cell_cluster_color` that uses the `id_to_color` dictionary to look up the color for each value in the `cluster_celltype_with_id` column of `cluster_metadata`"
   ]
  },
  {
   "cell_type": "code",
   "execution_count": null,
   "metadata": {
    "collapsed": true
   },
   "outputs": [],
   "source": [
    "# YOUR CODE HERE"
   ]
  },
  {
   "cell_type": "markdown",
   "metadata": {},
   "source": [
    "![](figures/dont_scroll.svg)"
   ]
  },
  {
   "cell_type": "code",
   "execution_count": null,
   "metadata": {},
   "outputs": [],
   "source": [
    "per_cell_cluster_color = [id_to_color[i] for i in cell_metadata.cluster_celltype_with_id]\n",
    "\n",
    "# Since this list is as long as our number of cells (300!), let's slice it and only look at the first 10\n",
    "per_cell_cluster_color[:10]"
   ]
  },
  {
   "cell_type": "markdown",
   "metadata": {},
   "source": [
    "### Exercise 15\n",
    "\n",
    "Now use the cluster colors to label the rows and columns in `sns.clustermap`. How can "
   ]
  },
  {
   "cell_type": "code",
   "execution_count": null,
   "metadata": {
    "collapsed": true
   },
   "outputs": [],
   "source": [
    "# YOUR CODE HERE"
   ]
  },
  {
   "cell_type": "markdown",
   "metadata": {},
   "source": [
    "![](figures/dont_scroll.svg)"
   ]
  },
  {
   "cell_type": "code",
   "execution_count": null,
   "metadata": {},
   "outputs": [],
   "source": [
    "sns.clustermap(expression_corr, row_colors=per_cell_cluster_color, col_colors=per_cell_cluster_color)"
   ]
  },
  {
   "cell_type": "markdown",
   "metadata": {},
   "source": [
    "We can also combine the celltype and cluster colors we created to create a double-layer colormap!"
   ]
  },
  {
   "cell_type": "code",
   "execution_count": null,
   "metadata": {},
   "outputs": [],
   "source": [
    "combined_colors = [per_cell_cluster_color, per_cell_celltype_color]\n",
    "len(combined_colors)"
   ]
  },
  {
   "cell_type": "code",
   "execution_count": null,
   "metadata": {},
   "outputs": [],
   "source": [
    "sns.clustermap(expression_corr, row_colors=combined_colors, col_colors=combined_colors)"
   ]
  },
  {
   "cell_type": "code",
   "execution_count": null,
   "metadata": {
    "collapsed": true
   },
   "outputs": [],
   "source": []
  }
 ],
 "metadata": {
  "kernelspec": {
   "display_name": "Python 3 (cshl-sca-2017)",
   "language": "python",
   "name": "python3"
  },
  "language_info": {
   "codemirror_mode": {
    "name": "ipython",
    "version": 3
   },
   "file_extension": ".py",
   "mimetype": "text/x-python",
   "name": "python",
   "nbconvert_exporter": "python",
   "pygments_lexer": "ipython3",
   "version": "3.6.1"
  }
 },
 "nbformat": 4,
 "nbformat_minor": 1
}
