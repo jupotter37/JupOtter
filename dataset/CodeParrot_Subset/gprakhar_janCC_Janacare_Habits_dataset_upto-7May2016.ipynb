{
 "cells": [
  {
   "cell_type": "markdown",
   "metadata": {},
   "source": [
    "Hello World!\n",
    "This notebook describes the effort filter out users to resurrect with Digital Marketing"
   ]
  },
  {
   "cell_type": "markdown",
   "metadata": {},
   "source": [
    "Clean up data\n",
    "\n",
    "de-duplicate : based on email i'd\n",
    "               \n",
    "Partitioning the Data:\n",
    "two methods - \n",
    "\n",
    "A) cluster the data  and see how many clusters are there: used **MeanShift method**\n",
    "\n",
    "\n",
    "B) Bin the data based on *age_on_platform*\n",
    "\n",
    "email capaign to Ressurrect users\n",
    "April 30th will be the cuttoff for the first_login value, for Binning"
   ]
  },
  {
   "cell_type": "markdown",
   "metadata": {},
   "source": [
    "# Looking around the data set"
   ]
  },
  {
   "cell_type": "code",
   "execution_count": 154,
   "metadata": {
    "collapsed": false
   },
   "outputs": [
    {
     "name": "stdout",
     "output_type": "stream",
     "text": [
      "Once deleted, variables cannot be recovered. Proceed (y/[n])? y\n"
     ]
    }
   ],
   "source": [
    "%reset"
   ]
  },
  {
   "cell_type": "code",
   "execution_count": 155,
   "metadata": {
    "collapsed": true
   },
   "outputs": [],
   "source": [
    "# Import the required modules\n",
    "import pandas as pd\n",
    "import numpy as np\n",
    "import scipy as sp"
   ]
  },
  {
   "cell_type": "code",
   "execution_count": 156,
   "metadata": {
    "collapsed": false
   },
   "outputs": [],
   "source": [
    "# simple function to read in the user data file.\n",
    "# the argument parse_dates takes in a list of colums, which are to be parsed as date format\n",
    "user_data_raw_csv = pd.read_csv(\"/home/eyebell/local_bin/janacare/janCC/datasets/Habits-Data_upto-7th-May.csv\",\\\n",
    "                            parse_dates = [-3, -2, -1])"
   ]
  },
  {
   "cell_type": "code",
   "execution_count": 157,
   "metadata": {
    "collapsed": false
   },
   "outputs": [],
   "source": [
    "# import the pyexcel module\n",
    "#import pyexcel as pe\n",
    "#from pyexcel.ext import xls\n",
    "\n",
    "# load the file\n",
    "#records = pe.get_records(file_name=\"/home/eyebell/local_bin/janacare/datasets/Habits-Data_upto-7th-May.xls\")\n",
    "#len(records)\n",
    "#for record in records:\n",
    "    #print record"
   ]
  },
  {
   "cell_type": "code",
   "execution_count": 158,
   "metadata": {
    "collapsed": false
   },
   "outputs": [
    {
     "data": {
      "text/plain": [
       "(53239, 9)"
      ]
     },
     "execution_count": 158,
     "metadata": {},
     "output_type": "execute_result"
    }
   ],
   "source": [
    "# data metrics\n",
    "user_data_raw_csv.shape # Rows , colums"
   ]
  },
  {
   "cell_type": "code",
   "execution_count": 159,
   "metadata": {
    "collapsed": false
   },
   "outputs": [
    {
     "data": {
      "text/plain": [
       "user_id                   int64\n",
       "first_name               object\n",
       "last_name                object\n",
       "username                 object\n",
       "email                    object\n",
       "phone_number             object\n",
       "date_joined      datetime64[ns]\n",
       "first_login      datetime64[ns]\n",
       "last_activity    datetime64[ns]\n",
       "dtype: object"
      ]
     },
     "execution_count": 159,
     "metadata": {},
     "output_type": "execute_result"
    }
   ],
   "source": [
    "# data metrics\n",
    "user_data_raw_csv.dtypes # data type of colums"
   ]
  },
  {
   "cell_type": "code",
   "execution_count": 160,
   "metadata": {
    "collapsed": true
   },
   "outputs": [],
   "source": [
    "user_data_to_clean = user_data_raw_csv.copy()"
   ]
  },
  {
   "cell_type": "code",
   "execution_count": 161,
   "metadata": {
    "collapsed": false
   },
   "outputs": [],
   "source": [
    "# Some basic statistical information on the data\n",
    "#user_data_to_clean.describe()"
   ]
  },
  {
   "cell_type": "markdown",
   "metadata": {},
   "source": [
    "# Data Clean up"
   ]
  },
  {
   "cell_type": "markdown",
   "metadata": {},
   "source": [
    "In the last section of looking around, I saw that a lot of rows do not have any values or have garbage values(see first row of the table above).\n",
    "This can cause errors when computing anything using the values in these rows, hence a clean up is required."
   ]
  },
  {
   "cell_type": "markdown",
   "metadata": {},
   "source": [
    "If a the coulums *last_activity* and *first_login* are empty then drop the corresponding row !"
   ]
  },
  {
   "cell_type": "code",
   "execution_count": 162,
   "metadata": {
    "collapsed": false,
    "scrolled": true
   },
   "outputs": [
    {
     "name": "stdout",
     "output_type": "stream",
     "text": [
      "<class 'pandas.core.frame.DataFrame'>\n",
      "RangeIndex: 53239 entries, 0 to 53238\n",
      "Data columns (total 9 columns):\n",
      "user_id          53239 non-null int64\n",
      "first_name       53108 non-null object\n",
      "last_name        5360 non-null object\n",
      "username         53239 non-null object\n",
      "email            53089 non-null object\n",
      "phone_number     53094 non-null object\n",
      "date_joined      53239 non-null datetime64[ns]\n",
      "first_login      50773 non-null datetime64[ns]\n",
      "last_activity    44903 non-null datetime64[ns]\n",
      "dtypes: datetime64[ns](3), int64(1), object(5)\n",
      "memory usage: 3.7+ MB\n"
     ]
    }
   ],
   "source": [
    "# Lets check the health of the data set\n",
    "user_data_to_clean.info()"
   ]
  },
  {
   "cell_type": "markdown",
   "metadata": {},
   "source": [
    "As is visible from the last column (*age_on_platform*) data type, Pandas is not recognising it as date type format. \n",
    "This will make things difficult, so I delete this particular column and add a new one.\n",
    "Since the data in *age_on_platform* can be recreated by doing *age_on_platform* = *last_activity* - *first_login* "
   ]
  },
  {
   "cell_type": "markdown",
   "metadata": {},
   "source": [
    "But on eyeballing I noticed some, cells of column *first_login* have greater value than corresponding cell of *last_activity*. These cells need to be swapped, since its not possible to have *first_login* > *last_activity*\n",
    "Finally the columns *first_login*, *last_activity* have missing values, as evident from above table. Since this is time data, that in my opinion should not be imputed, we will drop/delete the columns."
   ]
  },
  {
   "cell_type": "code",
   "execution_count": 163,
   "metadata": {
    "collapsed": false
   },
   "outputs": [
    {
     "name": "stdout",
     "output_type": "stream",
     "text": [
      "last_activity_count=8336\tswapped_count=922\tfirst_login_count=170\temail_count=2\tuserid_count=0\n"
     ]
    }
   ],
   "source": [
    "# Run a loop through the data frame and check each row for this anamoly, if found drop,\n",
    "# this is being done ONLY for selected columns\n",
    "\n",
    "import datetime\n",
    "\n",
    "swapped_count = 0\n",
    "first_login_count = 0\n",
    "last_activity_count = 0\n",
    "email_count = 0\n",
    "userid_count = 0\n",
    "\n",
    "for index, row in user_data_to_clean.iterrows():        \n",
    "        if row.last_activity == pd.NaT or row.last_activity != row.last_activity:\n",
    "            last_activity_count = last_activity_count + 1\n",
    "            #print row.last_activity\n",
    "            user_data_to_clean.drop(index, inplace=True)\n",
    "\n",
    "        elif row.first_login > row.last_activity:\n",
    "            user_data_to_clean.drop(index, inplace=True)\n",
    "            swapped_count = swapped_count + 1\n",
    "\n",
    "        elif row.first_login != row.first_login or row.first_login == pd.NaT:\n",
    "            user_data_to_clean.drop(index, inplace=True)\n",
    "            first_login_count = first_login_count + 1\n",
    "\n",
    "        elif row.email != row.email: #or row.email == '' or row.email == ' ':\n",
    "            user_data_to_clean.drop(index, inplace=True)\n",
    "            email_count = email_count + 1\n",
    "\n",
    "        elif row.user_id != row.user_id:\n",
    "            user_data_to_clean.drop(index, inplace=True)\n",
    "            userid_count = userid_count + 1\n",
    "\n",
    "print \"last_activity_count=%d\\tswapped_count=%d\\tfirst_login_count=%d\\temail_count=%d\\tuserid_count=%d\" \\\n",
    "% (last_activity_count, swapped_count, first_login_count, email_count, userid_count)"
   ]
  },
  {
   "cell_type": "code",
   "execution_count": 164,
   "metadata": {
    "collapsed": false
   },
   "outputs": [
    {
     "data": {
      "text/plain": [
       "(43809, 9)"
      ]
     },
     "execution_count": 164,
     "metadata": {},
     "output_type": "execute_result"
    }
   ],
   "source": [
    "user_data_to_clean.shape"
   ]
  },
  {
   "cell_type": "code",
   "execution_count": 165,
   "metadata": {
    "collapsed": false
   },
   "outputs": [],
   "source": [
    "# Create new column 'age_on_platform' which has the corresponding value in date type format\n",
    "user_data_to_clean[\"age_on_platform\"] = user_data_to_clean[\"last_activity\"] - user_data_to_clean[\"first_login\"]"
   ]
  },
  {
   "cell_type": "code",
   "execution_count": 166,
   "metadata": {
    "collapsed": false
   },
   "outputs": [
    {
     "name": "stdout",
     "output_type": "stream",
     "text": [
      "<class 'pandas.core.frame.DataFrame'>\n",
      "Int64Index: 43809 entries, 0 to 53238\n",
      "Data columns (total 10 columns):\n",
      "user_id            43809 non-null int64\n",
      "first_name         43806 non-null object\n",
      "last_name          2385 non-null object\n",
      "username           43809 non-null object\n",
      "email              43809 non-null object\n",
      "phone_number       43801 non-null object\n",
      "date_joined        43809 non-null datetime64[ns]\n",
      "first_login        43809 non-null datetime64[ns]\n",
      "last_activity      43809 non-null datetime64[ns]\n",
      "age_on_platform    43809 non-null timedelta64[ns]\n",
      "dtypes: datetime64[ns](3), int64(1), object(5), timedelta64[ns](1)\n",
      "memory usage: 3.7+ MB\n"
     ]
    }
   ],
   "source": [
    "user_data_to_clean.info()"
   ]
  },
  {
   "cell_type": "markdown",
   "metadata": {},
   "source": [
    "#### Validate if email i'd is correctly formatted and the email i'd really exists"
   ]
  },
  {
   "cell_type": "code",
   "execution_count": 167,
   "metadata": {
    "collapsed": false
   },
   "outputs": [
    {
     "name": "stdout",
     "output_type": "stream",
     "text": [
      "Number of email-id invalid: 49\n"
     ]
    }
   ],
   "source": [
    "from validate_email import validate_email\n",
    "\n",
    "email_count_invalid = 0\n",
    "for index, row in user_data_to_clean.iterrows():        \n",
    "        if not validate_email(row.email): # , verify=True)  for checking if email i'd actually exits\n",
    "            user_data_to_clean.drop(index, inplace=True)\n",
    "            email_count_invalid = email_count_invalid + 1\n",
    "            \n",
    "print \"Number of email-id invalid: %d\" % (email_count_invalid)\n"
   ]
  },
  {
   "cell_type": "code",
   "execution_count": 168,
   "metadata": {
    "collapsed": false
   },
   "outputs": [
    {
     "name": "stdout",
     "output_type": "stream",
     "text": [
      "<class 'pandas.core.frame.DataFrame'>\n",
      "Int64Index: 43760 entries, 0 to 53238\n",
      "Data columns (total 10 columns):\n",
      "user_id            43760 non-null int64\n",
      "first_name         43757 non-null object\n",
      "last_name          2381 non-null object\n",
      "username           43760 non-null object\n",
      "email              43760 non-null object\n",
      "phone_number       43752 non-null object\n",
      "date_joined        43760 non-null datetime64[ns]\n",
      "first_login        43760 non-null datetime64[ns]\n",
      "last_activity      43760 non-null datetime64[ns]\n",
      "age_on_platform    43760 non-null timedelta64[ns]\n",
      "dtypes: datetime64[ns](3), int64(1), object(5), timedelta64[ns](1)\n",
      "memory usage: 3.7+ MB\n"
     ]
    }
   ],
   "source": [
    "# Check the result of last operation \n",
    "user_data_to_clean.info()"
   ]
  },
  {
   "cell_type": "markdown",
   "metadata": {},
   "source": [
    "### Remove duplicates"
   ]
  },
  {
   "cell_type": "code",
   "execution_count": 169,
   "metadata": {
    "collapsed": true
   },
   "outputs": [],
   "source": [
    "user_data_to_deDuplicate = user_data_to_clean.copy()"
   ]
  },
  {
   "cell_type": "code",
   "execution_count": 170,
   "metadata": {
    "collapsed": false
   },
   "outputs": [
    {
     "data": {
      "text/plain": [
       "40495"
      ]
     },
     "execution_count": 170,
     "metadata": {},
     "output_type": "execute_result"
    }
   ],
   "source": [
    "user_data_deDuplicateD = user_data_to_deDuplicate.loc[~user_data_to_deDuplicate.email.str.strip().duplicated()]\n",
    "len(user_data_deDuplicateD)"
   ]
  },
  {
   "cell_type": "code",
   "execution_count": 171,
   "metadata": {
    "collapsed": false
   },
   "outputs": [
    {
     "name": "stdout",
     "output_type": "stream",
     "text": [
      "<class 'pandas.core.frame.DataFrame'>\n",
      "Int64Index: 40495 entries, 0 to 53238\n",
      "Data columns (total 10 columns):\n",
      "user_id            40495 non-null int64\n",
      "first_name         40492 non-null object\n",
      "last_name          2111 non-null object\n",
      "username           40495 non-null object\n",
      "email              40495 non-null object\n",
      "phone_number       40487 non-null object\n",
      "date_joined        40495 non-null datetime64[ns]\n",
      "first_login        40495 non-null datetime64[ns]\n",
      "last_activity      40495 non-null datetime64[ns]\n",
      "age_on_platform    40495 non-null timedelta64[ns]\n",
      "dtypes: datetime64[ns](3), int64(1), object(5), timedelta64[ns](1)\n",
      "memory usage: 3.4+ MB\n"
     ]
    }
   ],
   "source": [
    "user_data_deDuplicateD.info()"
   ]
  },
  {
   "cell_type": "code",
   "execution_count": 172,
   "metadata": {
    "collapsed": false
   },
   "outputs": [],
   "source": [
    "# Now its time to convert the timedelta64 data type column named age_on_platform to seconds\n",
    "def convert_timedelta64_to_sec(td64):\n",
    "    ts = (td64 / np.timedelta64(1, 's'))\n",
    "    return ts\n",
    "\n",
    "user_data_deDuplicateD_timedelta64_converted = user_data_deDuplicateD.copy()\n",
    "temp_copy = user_data_deDuplicateD.copy()\n",
    "user_data_deDuplicateD_timedelta64_converted.drop(\"age_on_platform\", 1)\n",
    "user_data_deDuplicateD_timedelta64_converted['age_on_platform'] = temp_copy['age_on_platform'].apply(convert_timedelta64_to_sec)\n"
   ]
  },
  {
   "cell_type": "code",
   "execution_count": 173,
   "metadata": {
    "collapsed": false
   },
   "outputs": [
    {
     "name": "stdout",
     "output_type": "stream",
     "text": [
      "<class 'pandas.core.frame.DataFrame'>\n",
      "Int64Index: 40495 entries, 0 to 53238\n",
      "Data columns (total 10 columns):\n",
      "user_id            40495 non-null int64\n",
      "first_name         40492 non-null object\n",
      "last_name          2111 non-null object\n",
      "username           40495 non-null object\n",
      "email              40495 non-null object\n",
      "phone_number       40487 non-null object\n",
      "date_joined        40495 non-null datetime64[ns]\n",
      "first_login        40495 non-null datetime64[ns]\n",
      "last_activity      40495 non-null datetime64[ns]\n",
      "age_on_platform    40495 non-null float64\n",
      "dtypes: datetime64[ns](3), float64(1), int64(1), object(5)\n",
      "memory usage: 3.4+ MB\n"
     ]
    }
   ],
   "source": [
    "user_data_deDuplicateD_timedelta64_converted.info()"
   ]
  },
  {
   "cell_type": "markdown",
   "metadata": {
    "collapsed": false
   },
   "source": [
    "# Clustering using Mean shift\n",
    "\n",
    "from sklearn.cluster import MeanShift, estimate_bandwidth\n",
    "\n",
    "#x = [1,1,5,6,1,5,10,22,23,23,50,51,51,52,100,112,130,500,512,600,12000,12230]\n",
    "x = pd.Series(user_data_deDuplicateD_timedelta64_converted['age_on_platform'])\n",
    "\n",
    "X = np.array(zip(x,np.zeros(len(x))), dtype=np.int)\n",
    "'''--\n",
    "bandwidth = estimate_bandwidth(X, quantile=0.2)\n",
    "ms = MeanShift(bandwidth=bandwidth, bin_seeding=True)\n",
    "ms.fit(X)\n",
    "labels = ms.labels_\n",
    "cluster_centers = ms.cluster_centers_\n",
    "\n",
    "labels_unique = np.unique(labels)\n",
    "n_clusters_ = len(labels_unique)\n",
    "\n",
    "for k in range(n_clusters_):\n",
    "    my_members = labels == k\n",
    "    print \"cluster {0} : lenght = {1}\".format(k, len(X[my_members, 0]))\n",
    "    #print \"cluster {0}: {1}\".format(k, X[my_members, 0])\n",
    "    cluster_sorted = sorted(X[my_members, 0])\n",
    "    print \"cluster {0} : Max = {2} days & Min {1} days\".format(k, cluster_sorted[0]*1.15741e-5, cluster_sorted[-1]*1.15741e-5)\n",
    "'''\n",
    "# The following bandwidth can be automatically detected using\n",
    "bandwidth = estimate_bandwidth(X, quantile=0.7)\n",
    "\n",
    "ms = MeanShift(bandwidth=bandwidth, bin_seeding=True)\n",
    "ms.fit(X)\n",
    "labels = ms.labels_\n",
    "cluster_centers = ms.cluster_centers_\n",
    "\n",
    "labels_unique = np.unique(labels)\n",
    "n_clusters_ = len(labels_unique)\n",
    "\n",
    "print(\"number of estimated clusters : %d\" % n_clusters_)\n",
    "for k in range(n_clusters_):\n",
    "    my_members = labels == k\n",
    "    print \"cluster {0} : lenght = {1}\".format(k, len(X[my_members, 0]))\n",
    "    cluster_sorted = sorted(X[my_members, 0])\n",
    "    print \"cluster {0} : Min = {1} days & Max {2} days\".format(k, cluster_sorted[0]*1.15741e-5, cluster_sorted[-1]*1.15741e-5)\n",
    "\n",
    "# Plot result\n",
    "import matplotlib.pyplot as plt\n",
    "from itertools import cycle\n",
    "\n",
    "%matplotlib inline\n",
    "\n",
    "plt.figure(1)\n",
    "plt.clf()\n",
    "\n",
    "colors = cycle('bgrcmykbgrcmykbgrcmykbgrcmyk')\n",
    "for k, col in zip(range(n_clusters_), colors):\n",
    "    my_members = labels == k\n",
    "    cluster_center = cluster_centers[k]\n",
    "    plt.plot(X[my_members, 0], X[my_members, 1], col + '.')\n",
    "    plt.plot(cluster_center[0], cluster_center[1], 'o', markerfacecolor=col,\n",
    "             markeredgecolor='k', markersize=14)\n",
    "plt.title('Estimated number of clusters: %d' % n_clusters_)\n",
    "plt.show()\n",
    "\n"
   ]
  },
  {
   "cell_type": "code",
   "execution_count": 174,
   "metadata": {
    "collapsed": false
   },
   "outputs": [
    {
     "data": {
      "text/plain": [
       "'\\ny = [1,1,5,6,1,5,10,22,23,23,50,51,51,52,100,112,130,500,512,600,12000,12230]\\ny_float = map(float, y)\\nx = range(len(y))\\nx_float = map(float, x)\\n\\nm = np.matrix([x_float, y_float]).transpose()\\n\\n\\nfrom scipy.cluster.vq import kmeans\\nkclust = kmeans(m, 5)\\n\\nkclust[0][:, 0]\\n\\nassigned_clusters = [abs(cluster_indices - e).argmin() for e in x]\\n'"
      ]
     },
     "execution_count": 174,
     "metadata": {},
     "output_type": "execute_result"
    }
   ],
   "source": [
    "# Clustering using Kmeans, not working\n",
    "'''\n",
    "y = [1,1,5,6,1,5,10,22,23,23,50,51,51,52,100,112,130,500,512,600,12000,12230]\n",
    "y_float = map(float, y)\n",
    "x = range(len(y))\n",
    "x_float = map(float, x)\n",
    "\n",
    "m = np.matrix([x_float, y_float]).transpose()\n",
    "\n",
    "\n",
    "from scipy.cluster.vq import kmeans\n",
    "kclust = kmeans(m, 5)\n",
    "\n",
    "kclust[0][:, 0]\n",
    "\n",
    "assigned_clusters = [abs(cluster_indices - e).argmin() for e in x]\n",
    "'''"
   ]
  },
  {
   "cell_type": "markdown",
   "metadata": {},
   "source": [
    "## Binning based on **age_on_platform** \n",
    "day 1; day 2; week 1; week 2; week 3; week 4; week 6; week 8; week 12; 3 months; 6 months; 1 year; "
   ]
  },
  {
   "cell_type": "code",
   "execution_count": 175,
   "metadata": {
    "collapsed": false
   },
   "outputs": [],
   "source": [
    "user_data_binned = user_data_deDuplicateD_timedelta64_converted.copy()\n",
    "                   \n",
    "# function to convert age_on_platform in seconds to hours\n",
    "convert_sec_to_hr = lambda x: x/3600\n",
    "user_data_binned[\"age_on_platform\"] = user_data_binned['age_on_platform'].map(convert_sec_to_hr).copy()\n",
    "\n",
    "# filter rows based on first_login value after 30th April\n",
    "user_data_binned_post30thApril = user_data_binned[user_data_binned.first_login < datetime.datetime(2016, 4, 30)]\n",
    "\n",
    "for index, row in user_data_binned_post30thApril.iterrows():\n",
    "    if row[\"age_on_platform\"] < 25:\n",
    "        user_data_binned_post30thApril.set_value(index, 'bin', 1)\n",
    "        \n",
    "    elif row[\"age_on_platform\"] >= 25 and row[\"age_on_platform\"] < 49:\n",
    "        user_data_binned_post30thApril.set_value(index, 'bin', 2)    \n",
    "        \n",
    "    elif row[\"age_on_platform\"] >= 49 and row[\"age_on_platform\"] < 169: #168 hrs = 1 week\n",
    "        user_data_binned_post30thApril.set_value(index, 'bin', 3)\n",
    "        \n",
    "    elif row[\"age_on_platform\"] >=169 and row[\"age_on_platform\"] < 337: # 336 hrs = 2 weeks\n",
    "        user_data_binned_post30thApril.set_value(index, 'bin', 4)\n",
    "        \n",
    "    elif row[\"age_on_platform\"] >=337 and row[\"age_on_platform\"] < 505: # 504 hrs = 3 weeks\n",
    "        user_data_binned_post30thApril.set_value(index, 'bin', 5)\n",
    "        \n",
    "    elif row[\"age_on_platform\"] >=505 and row[\"age_on_platform\"] < 673: # 672 hrs = 4 weeks\n",
    "        user_data_binned_post30thApril.set_value(index, 'bin', 6)\n",
    "        \n",
    "    elif row[\"age_on_platform\"] >=673 and row[\"age_on_platform\"] < 1009: # 1008 hrs = 6 weeks\n",
    "        user_data_binned_post30thApril.set_value(index, 'bin', 7)\n",
    "        \n",
    "    elif row[\"age_on_platform\"] >=1009 and row[\"age_on_platform\"] < 1345: # 1344 hrs = 8 weeks\n",
    "        user_data_binned_post30thApril.set_value(index, 'bin', 8)\n",
    "        \n",
    "    elif row[\"age_on_platform\"] >=1345 and row[\"age_on_platform\"] < 2017: # 2016 hrs = 12 weeks\n",
    "        user_data_binned_post30thApril.set_value(index, 'bin', 9)\n",
    "        \n",
    "    elif row[\"age_on_platform\"] >=2017 and row[\"age_on_platform\"] < 4381: # 4380 hrs = 6 months\n",
    "        user_data_binned_post30thApril.set_value(index, 'bin', 10)\n",
    "        \n",
    "    elif row[\"age_on_platform\"] >=4381 and row[\"age_on_platform\"] < 8761: # 8760 hrs = 12 months\n",
    "        user_data_binned_post30thApril.set_value(index, 'bin', 11)\n",
    "        \n",
    "    elif row[\"age_on_platform\"] > 8761: # Rest, ie. beyond 1 year\n",
    "        user_data_binned_post30thApril.set_value(index, 'bin', 12)\n",
    "        \n",
    "    else:\n",
    "        user_data_binned_post30thApril.set_value(index, 'bin', 0)\n",
    "    "
   ]
  },
  {
   "cell_type": "code",
   "execution_count": 176,
   "metadata": {
    "collapsed": false
   },
   "outputs": [
    {
     "name": "stdout",
     "output_type": "stream",
     "text": [
      "<class 'pandas.core.frame.DataFrame'>\n",
      "Int64Index: 39303 entries, 0 to 51465\n",
      "Data columns (total 11 columns):\n",
      "user_id            39303 non-null int64\n",
      "first_name         39300 non-null object\n",
      "last_name          2064 non-null object\n",
      "username           39303 non-null object\n",
      "email              39303 non-null object\n",
      "phone_number       39295 non-null object\n",
      "date_joined        39303 non-null datetime64[ns]\n",
      "first_login        39303 non-null datetime64[ns]\n",
      "last_activity      39303 non-null datetime64[ns]\n",
      "age_on_platform    39303 non-null float64\n",
      "bin                39303 non-null float64\n",
      "dtypes: datetime64[ns](3), float64(2), int64(1), object(5)\n",
      "memory usage: 3.6+ MB\n"
     ]
    }
   ],
   "source": [
    "user_data_binned_post30thApril.info()"
   ]
  },
  {
   "cell_type": "code",
   "execution_count": 177,
   "metadata": {
    "collapsed": false
   },
   "outputs": [
    {
     "name": "stdout",
     "output_type": "stream",
     "text": [
      "Number of users with age_on_platform equal to 1 day or less, aka 0th day = 10855\n"
     ]
    }
   ],
   "source": [
    "print \"Number of users with age_on_platform equal to 1 day or less, aka 0th day = %d\" %\\\n",
    "len(user_data_binned_post30thApril[user_data_binned_post30thApril.bin == 1])\n",
    "user_data_binned_post30thApril[user_data_binned_post30thApril.bin == 1].to_csv\\\n",
    "(\"/home/eyebell/local_bin/janacare/janCC/datasets/user_retention_email-campaign/user_data_binned_post30thApril_0day.csv\", index=False)"
   ]
  },
  {
   "cell_type": "code",
   "execution_count": 178,
   "metadata": {
    "collapsed": false
   },
   "outputs": [
    {
     "name": "stdout",
     "output_type": "stream",
     "text": [
      "Number of users with age_on_platform between 1st and 2nd days = 1552\n"
     ]
    }
   ],
   "source": [
    "print \"Number of users with age_on_platform between 1st and 2nd days = %d\" %\\\n",
    "len(user_data_binned_post30thApril[user_data_binned_post30thApril.bin == 2])\n",
    "user_data_binned_post30thApril[user_data_binned_post30thApril.bin == 2].to_csv\\\n",
    "(\"/home/eyebell/local_bin/janacare/janCC/datasets/user_retention_email-campaign/user_data_binned_post30thApril_1st-day.csv\", index=False)"
   ]
  },
  {
   "cell_type": "code",
   "execution_count": 179,
   "metadata": {
    "collapsed": false
   },
   "outputs": [
    {
     "name": "stdout",
     "output_type": "stream",
     "text": [
      "Number of users with age_on_platform greater than or equal to 2 complete days and less than 1 week = 4537\n"
     ]
    }
   ],
   "source": [
    "print \"Number of users with age_on_platform greater than or equal to 2 complete days and less than 1 week = %d\" % \\\n",
    "len(user_data_binned_post30thApril[user_data_binned_post30thApril.bin == 3])\n",
    "user_data_binned_post30thApril[user_data_binned_post30thApril.bin == 3].to_csv\\\n",
    "(\"/home/eyebell/local_bin/janacare/janCC/datasets/user_retention_email-campaign/user_data_binned_post30thApril_1st-week.csv\", index=False)"
   ]
  },
  {
   "cell_type": "code",
   "execution_count": 180,
   "metadata": {
    "collapsed": false
   },
   "outputs": [
    {
     "name": "stdout",
     "output_type": "stream",
     "text": [
      "Number of users with age_on_platform between 2nd week = 3433\n"
     ]
    }
   ],
   "source": [
    "print \"Number of users with age_on_platform between 2nd week = %d\" % \\\n",
    "len(user_data_binned_post30thApril[user_data_binned_post30thApril.bin == 4])\n",
    "user_data_binned_post30thApril[user_data_binned_post30thApril.bin == 4].to_csv\\\n",
    "(\"/home/eyebell/local_bin/janacare/janCC/datasets/user_retention_email-campaign/user_data_binned_post30thApril_2nd-week.csv\", index=False)"
   ]
  },
  {
   "cell_type": "code",
   "execution_count": 181,
   "metadata": {
    "collapsed": false
   },
   "outputs": [
    {
     "name": "stdout",
     "output_type": "stream",
     "text": [
      "Number of users with age_on_platform between 3rd weeks = 2271\n"
     ]
    }
   ],
   "source": [
    "print \"Number of users with age_on_platform between 3rd weeks = %d\" %\\\n",
    "len(user_data_binned_post30thApril[user_data_binned_post30thApril.bin == 5])\n",
    "user_data_binned_post30thApril[user_data_binned_post30thApril.bin == 5].to_csv\\\n",
    "(\"/home/eyebell/local_bin/janacare/janCC/datasets/user_retention_email-campaign/user_data_binned_post30thApril_3rd-week.csv\", index=False)"
   ]
  },
  {
   "cell_type": "code",
   "execution_count": 182,
   "metadata": {
    "collapsed": false
   },
   "outputs": [
    {
     "name": "stdout",
     "output_type": "stream",
     "text": [
      "Number of users with age_on_platform between 4th weeks = 1797\n"
     ]
    }
   ],
   "source": [
    "print \"Number of users with age_on_platform between 4th weeks = %d\" %\\\n",
    "len(user_data_binned_post30thApril[user_data_binned_post30thApril.bin == 6])\n",
    "user_data_binned_post30thApril[user_data_binned_post30thApril.bin == 6].to_csv\\\n",
    "(\"/home/eyebell/local_bin/janacare/janCC/datasets/user_retention_email-campaign/user_data_binned_post30thApril_4th-week.csv\", index=False)"
   ]
  },
  {
   "cell_type": "code",
   "execution_count": 183,
   "metadata": {
    "collapsed": false
   },
   "outputs": [
    {
     "name": "stdout",
     "output_type": "stream",
     "text": [
      "Number of users with age_on_platform greater than or equal to 4 weeks and less than 6 weeks = 3337\n"
     ]
    }
   ],
   "source": [
    "print \"Number of users with age_on_platform greater than or equal to 4 weeks and less than 6 weeks = %d\" %\\\n",
    "len(user_data_binned_post30thApril[user_data_binned_post30thApril.bin == 7])\n",
    "user_data_binned_post30thApril[user_data_binned_post30thApril.bin == 7].to_csv\\\n",
    "(\"/home/eyebell/local_bin/janacare/janCC/datasets/user_retention_email-campaign/user_data_binned_post30thApril_4th-to-6th-week.csv\", index=False)"
   ]
  },
  {
   "cell_type": "code",
   "execution_count": 184,
   "metadata": {
    "collapsed": false
   },
   "outputs": [
    {
     "name": "stdout",
     "output_type": "stream",
     "text": [
      "Number of users with age_on_platform greater than or equal to 6 weeks and less than 8 weeks = 2293\n"
     ]
    }
   ],
   "source": [
    "print \"Number of users with age_on_platform greater than or equal to 6 weeks and less than 8 weeks = %d\" %\\\n",
    "len(user_data_binned_post30thApril[user_data_binned_post30thApril.bin == 8])\n",
    "user_data_binned_post30thApril[user_data_binned_post30thApril.bin == 8].to_csv\\\n",
    "(\"/home/eyebell/local_bin/janacare/janCC/datasets/user_retention_email-campaign/user_data_binned_post30thApril_6th-to-8th-week.csv\", index=False)"
   ]
  },
  {
   "cell_type": "code",
   "execution_count": 185,
   "metadata": {
    "collapsed": false
   },
   "outputs": [
    {
     "name": "stdout",
     "output_type": "stream",
     "text": [
      "Number of users with age_on_platform greater than or equal to 8 weeks and less than 12 weeks = 2706\n"
     ]
    }
   ],
   "source": [
    "print \"Number of users with age_on_platform greater than or equal to 8 weeks and less than 12 weeks = %d\" %\\\n",
    "len(user_data_binned_post30thApril[user_data_binned_post30thApril.bin == 9])\n",
    "user_data_binned_post30thApril[user_data_binned_post30thApril.bin == 9].to_csv\\\n",
    "(\"/home/eyebell/local_bin/janacare/janCC/datasets/user_retention_email-campaign/user_data_binned_post30thApril_8th-to-12th-week.csv\", index=False)"
   ]
  },
  {
   "cell_type": "code",
   "execution_count": 186,
   "metadata": {
    "collapsed": false
   },
   "outputs": [
    {
     "name": "stdout",
     "output_type": "stream",
     "text": [
      "Number of users with age_on_platform greater than or equal to 12 weeks and less than 6 months = 5463\n"
     ]
    }
   ],
   "source": [
    "print \"Number of users with age_on_platform greater than or equal to 12 weeks and less than 6 months = %d\" %\\\n",
    "len(user_data_binned_post30thApril[user_data_binned_post30thApril.bin == 10])\n",
    "user_data_binned_post30thApril[user_data_binned_post30thApril.bin == 10].to_csv\\\n",
    "(\"/home/eyebell/local_bin/janacare/janCC/datasets/user_retention_email-campaign/user_data_binned_post30thApril_12thweek-to-6thmonth.csv\", index=False)"
   ]
  },
  {
   "cell_type": "code",
   "execution_count": 187,
   "metadata": {
    "collapsed": false
   },
   "outputs": [
    {
     "name": "stdout",
     "output_type": "stream",
     "text": [
      "Number of users with age_on_platform greater than or equal to 6 months and less than 1 year = 927\n"
     ]
    }
   ],
   "source": [
    "print \"Number of users with age_on_platform greater than or equal to 6 months and less than 1 year = %d\" %\\\n",
    "len(user_data_binned_post30thApril[user_data_binned_post30thApril.bin == 11])\n",
    "user_data_binned_post30thApril[user_data_binned_post30thApril.bin == 11].to_csv\\\n",
    "(\"/home/eyebell/local_bin/janacare/janCC/datasets/user_retention_email-campaign/user_data_binned_post30thApril_6thmonth-to-1year.csv\", index=False)"
   ]
  },
  {
   "cell_type": "code",
   "execution_count": 188,
   "metadata": {
    "collapsed": false
   },
   "outputs": [
    {
     "name": "stdout",
     "output_type": "stream",
     "text": [
      "Number of users with age_on_platform greater than 1 year = 132\n"
     ]
    }
   ],
   "source": [
    "print \"Number of users with age_on_platform greater than 1 year = %d\" %\\\n",
    "len(user_data_binned_post30thApril[user_data_binned_post30thApril.bin == 12])\n",
    "user_data_binned_post30thApril[user_data_binned_post30thApril.bin == 12].to_csv\\\n",
    "(\"/home/eyebell/local_bin/janacare/janCC/datasets/user_retention_email-campaign/user_data_binned_post30thApril_beyond-1year.csv\", index=False)"
   ]
  },
  {
   "cell_type": "code",
   "execution_count": 189,
   "metadata": {
    "collapsed": false
   },
   "outputs": [
    {
     "name": "stdout",
     "output_type": "stream",
     "text": [
      "Number of users with age_on_platform is wierd = 0\n"
     ]
    }
   ],
   "source": [
    "print \"Number of users with age_on_platform is wierd = %d\" %\\\n",
    "len(user_data_binned_post30thApril[user_data_binned_post30thApril.bin == 0])"
   ]
  },
  {
   "cell_type": "code",
   "execution_count": 190,
   "metadata": {
    "collapsed": true
   },
   "outputs": [],
   "source": [
    "# Save dataframe with binned values as CSV\n",
    "#user_data_binned_post30thApril.to_csv('user_data_binned_post30thApril.csv')"
   ]
  },
  {
   "cell_type": "code",
   "execution_count": null,
   "metadata": {
    "collapsed": true
   },
   "outputs": [],
   "source": []
  },
  {
   "cell_type": "markdown",
   "metadata": {},
   "source": [
    "\n"
   ]
  }
 ],
 "metadata": {
  "kernelspec": {
   "display_name": "Python 2",
   "language": "python",
   "name": "python2"
  },
  "language_info": {
   "codemirror_mode": {
    "name": "ipython",
    "version": 2
   },
   "file_extension": ".py",
   "mimetype": "text/x-python",
   "name": "python",
   "nbconvert_exporter": "python",
   "pygments_lexer": "ipython2",
   "version": "2.7.11"
  }
 },
 "nbformat": 4,
 "nbformat_minor": 0
}
