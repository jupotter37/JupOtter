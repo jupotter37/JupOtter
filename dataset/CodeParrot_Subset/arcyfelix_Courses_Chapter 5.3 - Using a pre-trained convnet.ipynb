{
 "cells": [
  {
   "cell_type": "markdown",
   "metadata": {},
   "source": [
    "# Chapter 5.3 - Using a pre-trained convnet"
   ]
  },
  {
   "cell_type": "code",
   "execution_count": 1,
   "metadata": {},
   "outputs": [
    {
     "name": "stderr",
     "output_type": "stream",
     "text": [
      "Using TensorFlow backend.\n"
     ]
    }
   ],
   "source": [
    "# Importing VGG16\n",
    "from keras.applications import VGG16"
   ]
  },
  {
   "cell_type": "code",
   "execution_count": 2,
   "metadata": {
    "collapsed": true
   },
   "outputs": [],
   "source": [
    "network = VGG16(weights = 'imagenet', \n",
    "                include_top = False,\n",
    "                input_shape = (150, 150, 3))"
   ]
  },
  {
   "cell_type": "code",
   "execution_count": 3,
   "metadata": {},
   "outputs": [
    {
     "name": "stdout",
     "output_type": "stream",
     "text": [
      "_________________________________________________________________\n",
      "Layer (type)                 Output Shape              Param #   \n",
      "=================================================================\n",
      "input_1 (InputLayer)         (None, 150, 150, 3)       0         \n",
      "_________________________________________________________________\n",
      "block1_conv1 (Conv2D)        (None, 150, 150, 64)      1792      \n",
      "_________________________________________________________________\n",
      "block1_conv2 (Conv2D)        (None, 150, 150, 64)      36928     \n",
      "_________________________________________________________________\n",
      "block1_pool (MaxPooling2D)   (None, 75, 75, 64)        0         \n",
      "_________________________________________________________________\n",
      "block2_conv1 (Conv2D)        (None, 75, 75, 128)       73856     \n",
      "_________________________________________________________________\n",
      "block2_conv2 (Conv2D)        (None, 75, 75, 128)       147584    \n",
      "_________________________________________________________________\n",
      "block2_pool (MaxPooling2D)   (None, 37, 37, 128)       0         \n",
      "_________________________________________________________________\n",
      "block3_conv1 (Conv2D)        (None, 37, 37, 256)       295168    \n",
      "_________________________________________________________________\n",
      "block3_conv2 (Conv2D)        (None, 37, 37, 256)       590080    \n",
      "_________________________________________________________________\n",
      "block3_conv3 (Conv2D)        (None, 37, 37, 256)       590080    \n",
      "_________________________________________________________________\n",
      "block3_pool (MaxPooling2D)   (None, 18, 18, 256)       0         \n",
      "_________________________________________________________________\n",
      "block4_conv1 (Conv2D)        (None, 18, 18, 512)       1180160   \n",
      "_________________________________________________________________\n",
      "block4_conv2 (Conv2D)        (None, 18, 18, 512)       2359808   \n",
      "_________________________________________________________________\n",
      "block4_conv3 (Conv2D)        (None, 18, 18, 512)       2359808   \n",
      "_________________________________________________________________\n",
      "block4_pool (MaxPooling2D)   (None, 9, 9, 512)         0         \n",
      "_________________________________________________________________\n",
      "block5_conv1 (Conv2D)        (None, 9, 9, 512)         2359808   \n",
      "_________________________________________________________________\n",
      "block5_conv2 (Conv2D)        (None, 9, 9, 512)         2359808   \n",
      "_________________________________________________________________\n",
      "block5_conv3 (Conv2D)        (None, 9, 9, 512)         2359808   \n",
      "_________________________________________________________________\n",
      "block5_pool (MaxPooling2D)   (None, 4, 4, 512)         0         \n",
      "=================================================================\n",
      "Total params: 14,714,688\n",
      "Trainable params: 14,714,688\n",
      "Non-trainable params: 0\n",
      "_________________________________________________________________\n"
     ]
    }
   ],
   "source": [
    "network.summary()"
   ]
  },
  {
   "cell_type": "markdown",
   "metadata": {},
   "source": [
    "## Preparing the data"
   ]
  },
  {
   "cell_type": "code",
   "execution_count": 4,
   "metadata": {
    "collapsed": true
   },
   "outputs": [],
   "source": [
    "import os\n",
    "import numpy as np\n",
    "from keras.preprocessing.image import ImageDataGenerator"
   ]
  },
  {
   "cell_type": "code",
   "execution_count": 5,
   "metadata": {
    "collapsed": true
   },
   "outputs": [],
   "source": [
    "base_dir = 'E:/1_GitHub/arcyfelix/Courses/In Progress-Deep Learning With Python by François Chollet/data/Chapter 5.2 - Using convets with small datasets'"
   ]
  },
  {
   "cell_type": "code",
   "execution_count": 6,
   "metadata": {
    "collapsed": true
   },
   "outputs": [],
   "source": [
    "train_dir = os.path.join(base_dir, 'train')\n",
    "validation_dir = os.path.join(base_dir, 'validation')\n",
    "test_dir = os.path.join(base_dir, 'test')"
   ]
  },
  {
   "cell_type": "code",
   "execution_count": 7,
   "metadata": {
    "collapsed": true
   },
   "outputs": [],
   "source": [
    "datagen = ImageDataGenerator(rescale = 1. / 255)\n",
    "batch_size = 20"
   ]
  },
  {
   "cell_type": "code",
   "execution_count": 8,
   "metadata": {
    "collapsed": true
   },
   "outputs": [],
   "source": [
    "def extract_features(directory, sample_count):\n",
    "    # Initializing empty matrixes of a given shape\n",
    "    features = np.zeros(shape = (sample_count, 4, 4, 512))\n",
    "    labels = np.zeros(shape = (sample_count))\n",
    "    \n",
    "    # Generator\n",
    "    generator = datagen.flow_from_directory(\n",
    "        directory,\n",
    "        target_size = (150, 150),\n",
    "        batch_size = batch_size,\n",
    "        class_mode = 'binary')\n",
    "    # Initializing index\n",
    "    i = 0\n",
    "    for inputs_batch, labels_batch in generator:\n",
    "        features_batch = network.predict(inputs_batch)\n",
    "        features[i * batch_size : (i + 1) * batch_size] = features_batch\n",
    "        labels[i * batch_size : (i + 1) * batch_size] = labels_batch\n",
    "        i += 1\n",
    "        if i * batch_size >= sample_count:\n",
    "            # Note that since generators yield data indefinitely in a loop,\n",
    "            # we must `break` after every image has been seen once.\n",
    "            break\n",
    "    return features, labels"
   ]
  },
  {
   "cell_type": "code",
   "execution_count": 9,
   "metadata": {},
   "outputs": [
    {
     "name": "stdout",
     "output_type": "stream",
     "text": [
      "Found 2000 images belonging to 2 classes.\n",
      "Found 1000 images belonging to 2 classes.\n",
      "Found 1000 images belonging to 2 classes.\n"
     ]
    }
   ],
   "source": [
    "train_features, train_labels = extract_features(train_dir, 2000)\n",
    "validation_features, validation_labels = extract_features(validation_dir, 1000)\n",
    "test_features, test_labels = extract_features(test_dir, 1000)"
   ]
  },
  {
   "cell_type": "code",
   "execution_count": 10,
   "metadata": {},
   "outputs": [
    {
     "data": {
      "text/plain": [
       "(2000, 4, 4, 512)"
      ]
     },
     "execution_count": 10,
     "metadata": {},
     "output_type": "execute_result"
    }
   ],
   "source": [
    "train_features.shape"
   ]
  },
  {
   "cell_type": "code",
   "execution_count": 11,
   "metadata": {},
   "outputs": [
    {
     "data": {
      "text/plain": [
       "(2000,)"
      ]
     },
     "execution_count": 11,
     "metadata": {},
     "output_type": "execute_result"
    }
   ],
   "source": [
    "train_labels.shape"
   ]
  },
  {
   "cell_type": "code",
   "execution_count": 12,
   "metadata": {
    "collapsed": true
   },
   "outputs": [],
   "source": [
    "# Flattening the features in order to feed them to a densely-connected classifier\n",
    "train_features = np.reshape(train_features, (2000, 4 * 4 * 512))\n",
    "validation_features = np.reshape(validation_features, (1000, 4 * 4 * 512))\n",
    "test_features = np.reshape(test_features, (1000, 4 * 4 * 512))"
   ]
  },
  {
   "cell_type": "markdown",
   "metadata": {},
   "source": [
    "## Building a densely-connected classifier"
   ]
  },
  {
   "cell_type": "code",
   "execution_count": 13,
   "metadata": {
    "collapsed": true
   },
   "outputs": [],
   "source": [
    "from keras.models import Sequential\n",
    "from keras.layers import Dense, Dropout\n",
    "from keras.optimizers import RMSprop"
   ]
  },
  {
   "cell_type": "code",
   "execution_count": 14,
   "metadata": {
    "collapsed": true
   },
   "outputs": [],
   "source": [
    "model = Sequential()\n",
    "model.add(Dense(units = 256, \n",
    "                activation = 'relu', \n",
    "                input_dim = 4 * 4 * 512))\n",
    "model.add(Dropout(rate = 0.5))\n",
    "model.add(Dense(units = 1, \n",
    "                activation = 'sigmoid'))\n",
    "\n",
    "model.compile(optimizer = RMSprop(lr = 2e-5),\n",
    "              loss = 'binary_crossentropy',\n",
    "              metrics = ['acc'])"
   ]
  },
  {
   "cell_type": "markdown",
   "metadata": {},
   "source": [
    "## Training"
   ]
  },
  {
   "cell_type": "code",
   "execution_count": 15,
   "metadata": {},
   "outputs": [
    {
     "name": "stdout",
     "output_type": "stream",
     "text": [
      "Train on 2000 samples, validate on 1000 samples\n",
      "Epoch 1/30\n",
      "2000/2000 [==============================] - 1s - loss: 0.5825 - acc: 0.6875 - val_loss: 0.4301 - val_acc: 0.8450\n",
      "Epoch 2/30\n",
      "2000/2000 [==============================] - 1s - loss: 0.4297 - acc: 0.8055 - val_loss: 0.3562 - val_acc: 0.8600\n",
      "Epoch 3/30\n",
      "2000/2000 [==============================] - 1s - loss: 0.3550 - acc: 0.8440 - val_loss: 0.3200 - val_acc: 0.8770\n",
      "Epoch 4/30\n",
      "2000/2000 [==============================] - 1s - loss: 0.3128 - acc: 0.8730 - val_loss: 0.2966 - val_acc: 0.8850\n",
      "Epoch 5/30\n",
      "2000/2000 [==============================] - 1s - loss: 0.2819 - acc: 0.8915 - val_loss: 0.2915 - val_acc: 0.8780\n",
      "Epoch 6/30\n",
      "2000/2000 [==============================] - 1s - loss: 0.2630 - acc: 0.8990 - val_loss: 0.2784 - val_acc: 0.8830\n",
      "Epoch 7/30\n",
      "2000/2000 [==============================] - 1s - loss: 0.2515 - acc: 0.8980 - val_loss: 0.2629 - val_acc: 0.8900\n",
      "Epoch 8/30\n",
      "2000/2000 [==============================] - 1s - loss: 0.2299 - acc: 0.9135 - val_loss: 0.2700 - val_acc: 0.8850\n",
      "Epoch 9/30\n",
      "2000/2000 [==============================] - 1s - loss: 0.2129 - acc: 0.9195 - val_loss: 0.2553 - val_acc: 0.8960\n",
      "Epoch 10/30\n",
      "2000/2000 [==============================] - 1s - loss: 0.1994 - acc: 0.9240 - val_loss: 0.2530 - val_acc: 0.8930\n",
      "Epoch 11/30\n",
      "2000/2000 [==============================] - 1s - loss: 0.1937 - acc: 0.9310 - val_loss: 0.2436 - val_acc: 0.9040\n",
      "Epoch 12/30\n",
      "2000/2000 [==============================] - 1s - loss: 0.1898 - acc: 0.9325 - val_loss: 0.2407 - val_acc: 0.9010\n",
      "Epoch 13/30\n",
      "2000/2000 [==============================] - 1s - loss: 0.1842 - acc: 0.9350 - val_loss: 0.2392 - val_acc: 0.9030\n",
      "Epoch 14/30\n",
      "2000/2000 [==============================] - 1s - loss: 0.1714 - acc: 0.9375 - val_loss: 0.2440 - val_acc: 0.9010\n",
      "Epoch 15/30\n",
      "2000/2000 [==============================] - 1s - loss: 0.1588 - acc: 0.9470 - val_loss: 0.2378 - val_acc: 0.9060\n",
      "Epoch 16/30\n",
      "2000/2000 [==============================] - 1s - loss: 0.1587 - acc: 0.9455 - val_loss: 0.2423 - val_acc: 0.9010\n",
      "Epoch 17/30\n",
      "2000/2000 [==============================] - 1s - loss: 0.1460 - acc: 0.9525 - val_loss: 0.2381 - val_acc: 0.9070\n",
      "Epoch 18/30\n",
      "2000/2000 [==============================] - 1s - loss: 0.1500 - acc: 0.9475 - val_loss: 0.2541 - val_acc: 0.8980\n",
      "Epoch 19/30\n",
      "2000/2000 [==============================] - 1s - loss: 0.1365 - acc: 0.9520 - val_loss: 0.2496 - val_acc: 0.9000\n",
      "Epoch 20/30\n",
      "2000/2000 [==============================] - 1s - loss: 0.1341 - acc: 0.9550 - val_loss: 0.2372 - val_acc: 0.9040\n",
      "Epoch 21/30\n",
      "2000/2000 [==============================] - 1s - loss: 0.1253 - acc: 0.9590 - val_loss: 0.2597 - val_acc: 0.8930\n",
      "Epoch 22/30\n",
      "2000/2000 [==============================] - 1s - loss: 0.1206 - acc: 0.9615 - val_loss: 0.2482 - val_acc: 0.9030\n",
      "Epoch 23/30\n",
      "2000/2000 [==============================] - 1s - loss: 0.1151 - acc: 0.9645 - val_loss: 0.2357 - val_acc: 0.9010\n",
      "Epoch 24/30\n",
      "2000/2000 [==============================] - 1s - loss: 0.1100 - acc: 0.9680 - val_loss: 0.2590 - val_acc: 0.8990\n",
      "Epoch 25/30\n",
      "2000/2000 [==============================] - 1s - loss: 0.1063 - acc: 0.9650 - val_loss: 0.2374 - val_acc: 0.8980\n",
      "Epoch 26/30\n",
      "2000/2000 [==============================] - 1s - loss: 0.1042 - acc: 0.9645 - val_loss: 0.2463 - val_acc: 0.9060\n",
      "Epoch 27/30\n",
      "2000/2000 [==============================] - 1s - loss: 0.0994 - acc: 0.9680 - val_loss: 0.2425 - val_acc: 0.9030\n",
      "Epoch 28/30\n",
      "2000/2000 [==============================] - 1s - loss: 0.0982 - acc: 0.9715 - val_loss: 0.2379 - val_acc: 0.8980\n",
      "Epoch 29/30\n",
      "2000/2000 [==============================] - 1s - loss: 0.0926 - acc: 0.9720 - val_loss: 0.2425 - val_acc: 0.9050\n",
      "Epoch 30/30\n",
      "2000/2000 [==============================] - 1s - loss: 0.0889 - acc: 0.9730 - val_loss: 0.2501 - val_acc: 0.9070\n"
     ]
    }
   ],
   "source": [
    "history = model.fit(train_features, \n",
    "                    train_labels,\n",
    "                    epochs = 30,\n",
    "                    batch_size = 20,\n",
    "                    validation_data = (validation_features, validation_labels))"
   ]
  },
  {
   "cell_type": "markdown",
   "metadata": {},
   "source": [
    "## Training visualization"
   ]
  },
  {
   "cell_type": "code",
   "execution_count": 16,
   "metadata": {
    "collapsed": true
   },
   "outputs": [],
   "source": [
    "import matplotlib.pyplot as plt"
   ]
  },
  {
   "cell_type": "code",
   "execution_count": 17,
   "metadata": {
    "collapsed": true
   },
   "outputs": [],
   "source": [
    "acc = history.history['acc']\n",
    "val_acc = history.history['val_acc']\n",
    "loss = history.history['loss']\n",
    "val_loss = history.history['val_loss']"
   ]
  },
  {
   "cell_type": "code",
   "execution_count": 18,
   "metadata": {
    "collapsed": true
   },
   "outputs": [],
   "source": [
    "epochs = range(len(acc))"
   ]
  },
  {
   "cell_type": "code",
   "execution_count": 19,
   "metadata": {},
   "outputs": [
    {
     "data": {
      "image/png": "[encoded data removed]",
      "text/plain": [
       "<matplotlib.figure.Figure at 0x2ad09f0d780>"
      ]
     },
     "metadata": {},
     "output_type": "display_data"
    }
   ],
   "source": [
    "plt.figure(figsize = (10, 6))\n",
    "\n",
    "plt.plot(epochs, \n",
    "         acc, \n",
    "         'bo', \n",
    "         label = 'Training acc')\n",
    "\n",
    "plt.plot(epochs, \n",
    "         val_acc, \n",
    "         'b', \n",
    "         label = 'Validation acc')\n",
    "\n",
    "plt.title('Training and validation accuracy')\n",
    "plt.legend()\n",
    "plt.show()"
   ]
  },
  {
   "cell_type": "code",
   "execution_count": 20,
   "metadata": {},
   "outputs": [
    {
     "data": {
      "image/png": "[encoded data removed]",
      "text/plain": [
       "<matplotlib.figure.Figure at 0x2ad12368208>"
      ]
     },
     "metadata": {},
     "output_type": "display_data"
    }
   ],
   "source": [
    "plt.figure(figsize = (10, 6))\n",
    "\n",
    "plt.plot(epochs, \n",
    "         loss, \n",
    "         'bo', \n",
    "         label = 'Training loss')\n",
    "\n",
    "plt.plot(epochs, \n",
    "         val_loss, \n",
    "         'b', \n",
    "         label = 'Validation loss')\n",
    "\n",
    "plt.title('Training and validation loss')\n",
    "plt.legend()\n",
    "\n",
    "plt.show()"
   ]
  },
  {
   "cell_type": "markdown",
   "metadata": {},
   "source": [
    "## Running end-to-end model"
   ]
  },
  {
   "cell_type": "code",
   "execution_count": 21,
   "metadata": {
    "collapsed": true
   },
   "outputs": [],
   "source": [
    "from keras.layers import Flatten"
   ]
  },
  {
   "cell_type": "code",
   "execution_count": 22,
   "metadata": {
    "collapsed": true
   },
   "outputs": [],
   "source": [
    "end_to_end_model = Sequential()\n",
    "end_to_end_model.add(network)\n",
    "end_to_end_model.add(Flatten())\n",
    "end_to_end_model.add(Dense(units = 256, \n",
    "                           activation = 'relu'))\n",
    "end_to_end_model.add(Dense(units = 1, \n",
    "                           activation = 'sigmoid'))"
   ]
  },
  {
   "cell_type": "code",
   "execution_count": 23,
   "metadata": {
    "scrolled": true
   },
   "outputs": [
    {
     "name": "stdout",
     "output_type": "stream",
     "text": [
      "_________________________________________________________________\n",
      "Layer (type)                 Output Shape              Param #   \n",
      "=================================================================\n",
      "vgg16 (Model)                (None, 4, 4, 512)         14714688  \n",
      "_________________________________________________________________\n",
      "flatten_1 (Flatten)          (None, 8192)              0         \n",
      "_________________________________________________________________\n",
      "dense_3 (Dense)              (None, 256)               2097408   \n",
      "_________________________________________________________________\n",
      "dense_4 (Dense)              (None, 1)                 257       \n",
      "=================================================================\n",
      "Total params: 16,812,353\n",
      "Trainable params: 16,812,353\n",
      "Non-trainable params: 0\n",
      "_________________________________________________________________\n"
     ]
    }
   ],
   "source": [
    "end_to_end_model.summary()"
   ]
  },
  {
   "cell_type": "code",
   "execution_count": 24,
   "metadata": {},
   "outputs": [
    {
     "name": "stdout",
     "output_type": "stream",
     "text": [
      "Trainable weights before freezing the VGG base: 30\n"
     ]
    }
   ],
   "source": [
    "print('Trainable weights before freezing the VGG base:', len(end_to_end_model.trainable_weights))"
   ]
  },
  {
   "cell_type": "code",
   "execution_count": 25,
   "metadata": {
    "collapsed": true
   },
   "outputs": [],
   "source": [
    "# Freezing VGG part of the network\n",
    "network.trainable = False"
   ]
  },
  {
   "cell_type": "code",
   "execution_count": 26,
   "metadata": {},
   "outputs": [
    {
     "name": "stdout",
     "output_type": "stream",
     "text": [
      "Trainable weights after freezing the VGG base: 4\n"
     ]
    }
   ],
   "source": [
    "print('Trainable weights after freezing the VGG base:', len(end_to_end_model.trainable_weights))"
   ]
  },
  {
   "cell_type": "code",
   "execution_count": 27,
   "metadata": {
    "collapsed": true
   },
   "outputs": [],
   "source": [
    "# Compiling the network\n",
    "end_to_end_model.compile(loss = 'binary_crossentropy',\n",
    "                         optimizer = RMSprop(lr = 2e-5),\n",
    "                         metrics = ['acc'])"
   ]
  },
  {
   "cell_type": "markdown",
   "metadata": {},
   "source": [
    "## Loading augmented data"
   ]
  },
  {
   "cell_type": "code",
   "execution_count": 28,
   "metadata": {
    "collapsed": true
   },
   "outputs": [],
   "source": [
    "train_datagen = ImageDataGenerator(rescale = 1./255,\n",
    "                                   rotation_range = 40,\n",
    "                                   width_shift_range = 0.2,\n",
    "                                   height_shift_range = 0.2,\n",
    "                                   shear_range = 0.2,\n",
    "                                   zoom_range = 0.2,\n",
    "                                   horizontal_flip = True,\n",
    "                                   fill_mode = 'nearest')\n",
    "\n",
    "# The validation data should not be augmented!\n",
    "test_datagen = ImageDataGenerator(rescale = 1./255)"
   ]
  },
  {
   "cell_type": "code",
   "execution_count": 29,
   "metadata": {},
   "outputs": [
    {
     "name": "stdout",
     "output_type": "stream",
     "text": [
      "Found 2000 images belonging to 2 classes.\n"
     ]
    }
   ],
   "source": [
    "train_generator = train_datagen.flow_from_directory(\n",
    "        # This is the target directory\n",
    "        train_dir,\n",
    "        # All images will be resized to 150x150\n",
    "        target_size = (150, 150),\n",
    "        batch_size = 20,\n",
    "        # Since we use binary_crossentropy loss, we need binary labels\n",
    "        class_mode = 'binary')"
   ]
  },
  {
   "cell_type": "code",
   "execution_count": 30,
   "metadata": {},
   "outputs": [
    {
     "name": "stdout",
     "output_type": "stream",
     "text": [
      "Found 1000 images belonging to 2 classes.\n"
     ]
    }
   ],
   "source": [
    "validation_generator = test_datagen.flow_from_directory(validation_dir,\n",
    "                                                        target_size = (150, 150),\n",
    "                                                        batch_size = 20,\n",
    "                                                        class_mode = 'binary')"
   ]
  },
  {
   "cell_type": "markdown",
   "metadata": {},
   "source": [
    "## Training"
   ]
  },
  {
   "cell_type": "code",
   "execution_count": 31,
   "metadata": {},
   "outputs": [
    {
     "name": "stdout",
     "output_type": "stream",
     "text": [
      "Epoch 1/30\n",
      "44s - loss: 0.5217 - acc: 0.7300 - val_loss: 0.2741 - val_acc: 0.8930\n",
      "Epoch 2/30\n",
      "41s - loss: 0.2965 - acc: 0.8675 - val_loss: 0.1732 - val_acc: 0.9270\n",
      "Epoch 3/30\n",
      "41s - loss: 0.2317 - acc: 0.8975 - val_loss: 0.2138 - val_acc: 0.9000\n",
      "Epoch 4/30\n",
      "41s - loss: 0.1805 - acc: 0.9290 - val_loss: 0.1841 - val_acc: 0.9450\n",
      "Epoch 5/30\n",
      "41s - loss: 0.1684 - acc: 0.9325 - val_loss: 0.1057 - val_acc: 0.9530\n",
      "Epoch 6/30\n",
      "41s - loss: 0.1327 - acc: 0.9445 - val_loss: 0.1000 - val_acc: 0.9680\n",
      "Epoch 7/30\n",
      "41s - loss: 0.1293 - acc: 0.9510 - val_loss: 0.0863 - val_acc: 0.9680\n",
      "Epoch 8/30\n",
      "41s - loss: 0.1072 - acc: 0.9615 - val_loss: 0.4918 - val_acc: 0.8740\n",
      "Epoch 9/30\n",
      "41s - loss: 0.1066 - acc: 0.9590 - val_loss: 0.1362 - val_acc: 0.9460\n",
      "Epoch 10/30\n",
      "41s - loss: 0.0946 - acc: 0.9630 - val_loss: 0.1202 - val_acc: 0.9640\n",
      "Epoch 11/30\n",
      "41s - loss: 0.0935 - acc: 0.9650 - val_loss: 0.0830 - val_acc: 0.9680\n",
      "Epoch 12/30\n",
      "41s - loss: 0.0946 - acc: 0.9645 - val_loss: 0.0808 - val_acc: 0.9680\n",
      "Epoch 13/30\n",
      "41s - loss: 0.0653 - acc: 0.9750 - val_loss: 0.1051 - val_acc: 0.9630\n",
      "Epoch 14/30\n",
      "41s - loss: 0.0827 - acc: 0.9685 - val_loss: 0.0798 - val_acc: 0.9650\n",
      "Epoch 15/30\n",
      "41s - loss: 0.0667 - acc: 0.9740 - val_loss: 0.0768 - val_acc: 0.9690\n",
      "Epoch 16/30\n",
      "41s - loss: 0.0536 - acc: 0.9750 - val_loss: 0.1914 - val_acc: 0.9610\n",
      "Epoch 17/30\n",
      "41s - loss: 0.0784 - acc: 0.9740 - val_loss: 0.1278 - val_acc: 0.9660\n",
      "Epoch 18/30\n",
      "40s - loss: 0.0513 - acc: 0.9795 - val_loss: 0.1097 - val_acc: 0.9610\n",
      "Epoch 19/30\n",
      "41s - loss: 0.0535 - acc: 0.9795 - val_loss: 0.1098 - val_acc: 0.9670\n",
      "Epoch 20/30\n",
      "41s - loss: 0.0442 - acc: 0.9815 - val_loss: 0.1255 - val_acc: 0.9690\n",
      "Epoch 21/30\n",
      "41s - loss: 0.0584 - acc: 0.9810 - val_loss: 0.1529 - val_acc: 0.9580\n",
      "Epoch 22/30\n",
      "41s - loss: 0.0570 - acc: 0.9780 - val_loss: 0.0951 - val_acc: 0.9740\n",
      "Epoch 23/30\n",
      "41s - loss: 0.0545 - acc: 0.9820 - val_loss: 0.2190 - val_acc: 0.9650\n",
      "Epoch 24/30\n",
      "41s - loss: 0.0515 - acc: 0.9805 - val_loss: 0.1215 - val_acc: 0.9720\n",
      "Epoch 25/30\n",
      "41s - loss: 0.0444 - acc: 0.9855 - val_loss: 0.1712 - val_acc: 0.9640\n",
      "Epoch 26/30\n",
      "41s - loss: 0.0517 - acc: 0.9790 - val_loss: 0.0748 - val_acc: 0.9750\n",
      "Epoch 27/30\n",
      "41s - loss: 0.0358 - acc: 0.9885 - val_loss: 0.1635 - val_acc: 0.9660\n",
      "Epoch 28/30\n",
      "41s - loss: 0.0397 - acc: 0.9845 - val_loss: 0.1506 - val_acc: 0.9680\n",
      "Epoch 29/30\n",
      "41s - loss: 0.0432 - acc: 0.9845 - val_loss: 0.1244 - val_acc: 0.9600\n",
      "Epoch 30/30\n",
      "40s - loss: 0.0441 - acc: 0.9830 - val_loss: 0.1151 - val_acc: 0.9680\n"
     ]
    }
   ],
   "source": [
    "history = end_to_end_model.fit_generator(train_generator,\n",
    "                              steps_per_epoch = 100,\n",
    "                              epochs = 30,\n",
    "                              validation_data = validation_generator,\n",
    "                              validation_steps = 50, \n",
    "                              verbose = 2)"
   ]
  },
  {
   "cell_type": "code",
   "execution_count": 32,
   "metadata": {
    "collapsed": true
   },
   "outputs": [],
   "source": [
    "model.save('.\\saved_checkpoints\\Chapter 5.3 - Using a pre-trained convnet\\cats_and_dogs_small_3.h5')"
   ]
  },
  {
   "cell_type": "markdown",
   "metadata": {},
   "source": [
    "## Visualization"
   ]
  },
  {
   "cell_type": "code",
   "execution_count": 33,
   "metadata": {
    "collapsed": true
   },
   "outputs": [],
   "source": [
    "acc = history.history['acc']\n",
    "val_acc = history.history['val_acc']\n",
    "loss = history.history['loss']\n",
    "val_loss = history.history['val_loss']"
   ]
  },
  {
   "cell_type": "code",
   "execution_count": 34,
   "metadata": {
    "collapsed": true
   },
   "outputs": [],
   "source": [
    "epochs = range(len(acc))"
   ]
  },
  {
   "cell_type": "code",
   "execution_count": 35,
   "metadata": {},
   "outputs": [
    {
     "data": {
      "image/png": "[encoded data removed]",
      "text/plain": [
       "<matplotlib.figure.Figure at 0x2ae20da0780>"
      ]
     },
     "metadata": {},
     "output_type": "display_data"
    }
   ],
   "source": [
    "plt.figure(figsize = (10, 6))\n",
    "plt.plot(epochs, \n",
    "         acc, \n",
    "         'bo', \n",
    "         label = 'Training acc')\n",
    "plt.plot(epochs, \n",
    "         val_acc, \n",
    "         'b', \n",
    "         label = 'Validation acc')\n",
    "plt.title('Training and validation accuracy')\n",
    "plt.legend()\n",
    "plt.show()"
   ]
  },
  {
   "cell_type": "code",
   "execution_count": 36,
   "metadata": {},
   "outputs": [
    {
     "data": {
      "image/png": "[encoded data removed]",
      "text/plain": [
       "<matplotlib.figure.Figure at 0x2ae20da04a8>"
      ]
     },
     "metadata": {},
     "output_type": "display_data"
    }
   ],
   "source": [
    "plt.figure(figsize = (10, 6))\n",
    "\n",
    "plt.plot(epochs, \n",
    "         loss, \n",
    "         'bo', \n",
    "         label = 'Training loss')\n",
    "plt.plot(epochs, \n",
    "         val_loss, \n",
    "         'b', \n",
    "         label = 'Validation loss')\n",
    "plt.title('Training and validation loss')\n",
    "plt.legend()\n",
    "\n",
    "plt.show()"
   ]
  },
  {
   "cell_type": "markdown",
   "metadata": {},
   "source": [
    "## Fine-tuning"
   ]
  },
  {
   "cell_type": "code",
   "execution_count": 37,
   "metadata": {},
   "outputs": [
    {
     "name": "stdout",
     "output_type": "stream",
     "text": [
      "_________________________________________________________________\n",
      "Layer (type)                 Output Shape              Param #   \n",
      "=================================================================\n",
      "input_1 (InputLayer)         (None, 150, 150, 3)       0         \n",
      "_________________________________________________________________\n",
      "block1_conv1 (Conv2D)        (None, 150, 150, 64)      1792      \n",
      "_________________________________________________________________\n",
      "block1_conv2 (Conv2D)        (None, 150, 150, 64)      36928     \n",
      "_________________________________________________________________\n",
      "block1_pool (MaxPooling2D)   (None, 75, 75, 64)        0         \n",
      "_________________________________________________________________\n",
      "block2_conv1 (Conv2D)        (None, 75, 75, 128)       73856     \n",
      "_________________________________________________________________\n",
      "block2_conv2 (Conv2D)        (None, 75, 75, 128)       147584    \n",
      "_________________________________________________________________\n",
      "block2_pool (MaxPooling2D)   (None, 37, 37, 128)       0         \n",
      "_________________________________________________________________\n",
      "block3_conv1 (Conv2D)        (None, 37, 37, 256)       295168    \n",
      "_________________________________________________________________\n",
      "block3_conv2 (Conv2D)        (None, 37, 37, 256)       590080    \n",
      "_________________________________________________________________\n",
      "block3_conv3 (Conv2D)        (None, 37, 37, 256)       590080    \n",
      "_________________________________________________________________\n",
      "block3_pool (MaxPooling2D)   (None, 18, 18, 256)       0         \n",
      "_________________________________________________________________\n",
      "block4_conv1 (Conv2D)        (None, 18, 18, 512)       1180160   \n",
      "_________________________________________________________________\n",
      "block4_conv2 (Conv2D)        (None, 18, 18, 512)       2359808   \n",
      "_________________________________________________________________\n",
      "block4_conv3 (Conv2D)        (None, 18, 18, 512)       2359808   \n",
      "_________________________________________________________________\n",
      "block4_pool (MaxPooling2D)   (None, 9, 9, 512)         0         \n",
      "_________________________________________________________________\n",
      "block5_conv1 (Conv2D)        (None, 9, 9, 512)         2359808   \n",
      "_________________________________________________________________\n",
      "block5_conv2 (Conv2D)        (None, 9, 9, 512)         2359808   \n",
      "_________________________________________________________________\n",
      "block5_conv3 (Conv2D)        (None, 9, 9, 512)         2359808   \n",
      "_________________________________________________________________\n",
      "block5_pool (MaxPooling2D)   (None, 4, 4, 512)         0         \n",
      "=================================================================\n",
      "Total params: 14,714,688\n",
      "Trainable params: 0\n",
      "Non-trainable params: 14,714,688\n",
      "_________________________________________________________________\n"
     ]
    }
   ],
   "source": [
    "network.summary()"
   ]
  },
  {
   "cell_type": "code",
   "execution_count": 38,
   "metadata": {
    "collapsed": true
   },
   "outputs": [],
   "source": [
    "# Fine-tuning only block5_conv1, block5_conv2 and block5_conv3\n",
    "network.trainable = True\n",
    "\n",
    "set_trainable = False\n",
    "for layer in network.layers:\n",
    "    if layer.name == 'block5_conv1':\n",
    "        set_trainable = True\n",
    "    if set_trainable:\n",
    "        layer.trainable = True\n",
    "    else:\n",
    "        layer.trainable = False"
   ]
  },
  {
   "cell_type": "code",
   "execution_count": 39,
   "metadata": {
    "collapsed": true
   },
   "outputs": [],
   "source": [
    "# Compiling the network\n",
    "end_to_end_model.compile(loss = 'binary_crossentropy',\n",
    "                         optimizer = RMSprop(lr = 1e-5),\n",
    "                         metrics = ['acc'])"
   ]
  },
  {
   "cell_type": "markdown",
   "metadata": {},
   "source": [
    "## Training"
   ]
  },
  {
   "cell_type": "code",
   "execution_count": 40,
   "metadata": {},
   "outputs": [
    {
     "name": "stdout",
     "output_type": "stream",
     "text": [
      "Epoch 1/100\n",
      "100/100 [==============================] - 26s - loss: 0.0158 - acc: 0.9950 - val_loss: 0.1306 - val_acc: 0.9710\n",
      "Epoch 2/100\n",
      "100/100 [==============================] - 24s - loss: 0.0155 - acc: 0.9965 - val_loss: 0.1559 - val_acc: 0.9700\n",
      "Epoch 3/100\n",
      "100/100 [==============================] - 24s - loss: 0.0146 - acc: 0.9950 - val_loss: 0.1165 - val_acc: 0.9740\n",
      "Epoch 4/100\n",
      "100/100 [==============================] - 23s - loss: 0.0177 - acc: 0.9935 - val_loss: 0.1547 - val_acc: 0.9690\n",
      "Epoch 5/100\n",
      "100/100 [==============================] - 24s - loss: 0.0211 - acc: 0.9945 - val_loss: 0.1068 - val_acc: 0.9730\n",
      "Epoch 6/100\n",
      "100/100 [==============================] - 23s - loss: 0.0138 - acc: 0.9930 - val_loss: 0.1402 - val_acc: 0.9720\n",
      "Epoch 7/100\n",
      "100/100 [==============================] - 27s - loss: 0.0111 - acc: 0.9965 - val_loss: 0.1485 - val_acc: 0.9720\n",
      "Epoch 8/100\n",
      "100/100 [==============================] - 23s - loss: 0.0244 - acc: 0.9920 - val_loss: 0.1409 - val_acc: 0.9680\n",
      "Epoch 9/100\n",
      "100/100 [==============================] - 23s - loss: 0.0130 - acc: 0.9960 - val_loss: 0.1592 - val_acc: 0.9700\n",
      "Epoch 10/100\n",
      "100/100 [==============================] - 23s - loss: 0.0063 - acc: 0.9970 - val_loss: 0.1143 - val_acc: 0.9760\n",
      "Epoch 11/100\n",
      "100/100 [==============================] - 25s - loss: 0.0073 - acc: 0.9970 - val_loss: 0.1337 - val_acc: 0.9730\n",
      "Epoch 12/100\n",
      "100/100 [==============================] - 22s - loss: 0.0106 - acc: 0.9940 - val_loss: 0.1444 - val_acc: 0.9720\n",
      "Epoch 13/100\n",
      "100/100 [==============================] - 21s - loss: 0.0136 - acc: 0.9965 - val_loss: 0.0990 - val_acc: 0.9760\n",
      "Epoch 14/100\n",
      "100/100 [==============================] - 21s - loss: 0.0101 - acc: 0.9970 - val_loss: 0.1012 - val_acc: 0.9790\n",
      "Epoch 15/100\n",
      "100/100 [==============================] - 23s - loss: 0.0136 - acc: 0.9960 - val_loss: 0.1850 - val_acc: 0.9630\n",
      "Epoch 16/100\n",
      "100/100 [==============================] - 21s - loss: 0.0074 - acc: 0.9970 - val_loss: 0.1282 - val_acc: 0.9770\n",
      "Epoch 17/100\n",
      "100/100 [==============================] - 21s - loss: 0.0092 - acc: 0.9960 - val_loss: 0.1457 - val_acc: 0.9730\n",
      "Epoch 18/100\n",
      "100/100 [==============================] - 22s - loss: 0.0078 - acc: 0.9970 - val_loss: 0.1549 - val_acc: 0.9700\n",
      "Epoch 19/100\n",
      "100/100 [==============================] - 21s - loss: 0.0055 - acc: 0.9985 - val_loss: 0.1333 - val_acc: 0.9800\n",
      "Epoch 20/100\n",
      "100/100 [==============================] - 21s - loss: 0.0146 - acc: 0.9970 - val_loss: 0.1762 - val_acc: 0.9710\n",
      "Epoch 21/100\n",
      "100/100 [==============================] - 21s - loss: 0.0114 - acc: 0.9960 - val_loss: 0.1187 - val_acc: 0.9760\n",
      "Epoch 22/100\n",
      "100/100 [==============================] - 20s - loss: 0.0106 - acc: 0.9960 - val_loss: 0.1252 - val_acc: 0.9750\n",
      "Epoch 23/100\n",
      "100/100 [==============================] - 20s - loss: 0.0054 - acc: 0.9970 - val_loss: 0.1358 - val_acc: 0.9770\n",
      "Epoch 24/100\n",
      "100/100 [==============================] - 20s - loss: 0.0083 - acc: 0.9985 - val_loss: 0.1595 - val_acc: 0.9690\n",
      "Epoch 25/100\n",
      "100/100 [==============================] - 21s - loss: 0.0103 - acc: 0.9965 - val_loss: 0.2109 - val_acc: 0.9660\n",
      "Epoch 26/100\n",
      "100/100 [==============================] - 21s - loss: 0.0117 - acc: 0.9960 - val_loss: 0.1521 - val_acc: 0.9740\n",
      "Epoch 27/100\n",
      "100/100 [==============================] - 20s - loss: 0.0122 - acc: 0.9960 - val_loss: 0.1307 - val_acc: 0.9750\n",
      "Epoch 28/100\n",
      "100/100 [==============================] - 20s - loss: 0.0029 - acc: 0.9985 - val_loss: 0.1506 - val_acc: 0.9750\n",
      "Epoch 29/100\n",
      "100/100 [==============================] - 20s - loss: 0.0079 - acc: 0.9975 - val_loss: 0.1498 - val_acc: 0.9750\n",
      "Epoch 30/100\n",
      "100/100 [==============================] - 21s - loss: 0.0073 - acc: 0.9965 - val_loss: 0.2401 - val_acc: 0.9640\n",
      "Epoch 31/100\n",
      "100/100 [==============================] - 20s - loss: 0.0080 - acc: 0.9990 - val_loss: 0.2144 - val_acc: 0.9700\n",
      "Epoch 32/100\n",
      "100/100 [==============================] - 20s - loss: 0.0093 - acc: 0.9960 - val_loss: 0.1988 - val_acc: 0.9680\n",
      "Epoch 33/100\n",
      "100/100 [==============================] - 20s - loss: 0.0048 - acc: 0.9980 - val_loss: 0.1489 - val_acc: 0.9770\n",
      "Epoch 34/100\n",
      "100/100 [==============================] - 21s - loss: 0.0134 - acc: 0.9945 - val_loss: 0.1489 - val_acc: 0.9720\n",
      "Epoch 35/100\n",
      "100/100 [==============================] - 20s - loss: 0.0158 - acc: 0.9960 - val_loss: 0.1413 - val_acc: 0.9770\n",
      "Epoch 36/100\n",
      "100/100 [==============================] - 21s - loss: 0.0198 - acc: 0.9965 - val_loss: 0.1447 - val_acc: 0.9710\n",
      "Epoch 37/100\n",
      "100/100 [==============================] - 20s - loss: 0.0044 - acc: 0.9975 - val_loss: 0.1390 - val_acc: 0.9760\n",
      "Epoch 38/100\n",
      "100/100 [==============================] - 20s - loss: 0.0102 - acc: 0.9965 - val_loss: 0.1505 - val_acc: 0.9690\n",
      "Epoch 39/100\n",
      "100/100 [==============================] - 20s - loss: 0.0077 - acc: 0.9970 - val_loss: 0.1133 - val_acc: 0.9750\n",
      "Epoch 40/100\n",
      "100/100 [==============================] - 20s - loss: 0.0066 - acc: 0.9970 - val_loss: 0.1966 - val_acc: 0.9650\n",
      "Epoch 41/100\n",
      "100/100 [==============================] - 20s - loss: 0.0063 - acc: 0.9965 - val_loss: 0.1431 - val_acc: 0.9730\n",
      "Epoch 42/100\n",
      "100/100 [==============================] - 20s - loss: 0.0053 - acc: 0.9990 - val_loss: 0.1926 - val_acc: 0.9740\n",
      "Epoch 43/100\n",
      "100/100 [==============================] - 20s - loss: 0.0068 - acc: 0.9980 - val_loss: 0.1495 - val_acc: 0.9720\n",
      "Epoch 44/100\n",
      "100/100 [==============================] - 20s - loss: 0.0108 - acc: 0.9975 - val_loss: 0.1227 - val_acc: 0.9750\n",
      "Epoch 45/100\n",
      "100/100 [==============================] - 20s - loss: 0.0087 - acc: 0.9970 - val_loss: 0.1412 - val_acc: 0.9750\n",
      "Epoch 46/100\n",
      "100/100 [==============================] - 20s - loss: 0.0131 - acc: 0.9965 - val_loss: 0.1745 - val_acc: 0.9720\n",
      "Epoch 47/100\n",
      "100/100 [==============================] - 20s - loss: 0.0070 - acc: 0.9970 - val_loss: 0.1620 - val_acc: 0.9720\n",
      "Epoch 48/100\n",
      "100/100 [==============================] - 20s - loss: 0.0081 - acc: 0.9980 - val_loss: 0.1315 - val_acc: 0.9780\n",
      "Epoch 49/100\n",
      "100/100 [==============================] - 21s - loss: 0.0042 - acc: 0.9980 - val_loss: 0.1715 - val_acc: 0.9760\n",
      "Epoch 50/100\n",
      "100/100 [==============================] - 20s - loss: 0.0093 - acc: 0.9960 - val_loss: 0.1698 - val_acc: 0.9730\n",
      "Epoch 51/100\n",
      "100/100 [==============================] - 20s - loss: 0.0029 - acc: 0.9990 - val_loss: 0.1624 - val_acc: 0.9750\n",
      "Epoch 52/100\n",
      "100/100 [==============================] - 20s - loss: 0.0150 - acc: 0.9975 - val_loss: 0.1449 - val_acc: 0.9770\n",
      "Epoch 53/100\n",
      "100/100 [==============================] - 20s - loss: 0.0039 - acc: 0.9990 - val_loss: 0.1681 - val_acc: 0.9750\n",
      "Epoch 54/100\n",
      "100/100 [==============================] - 21s - loss: 0.0080 - acc: 0.9975 - val_loss: 0.1490 - val_acc: 0.9770\n",
      "Epoch 55/100\n",
      "100/100 [==============================] - 20s - loss: 0.0033 - acc: 0.9985 - val_loss: 0.2197 - val_acc: 0.9710\n",
      "Epoch 56/100\n",
      "100/100 [==============================] - 20s - loss: 0.0067 - acc: 0.9980 - val_loss: 0.2803 - val_acc: 0.9650\n",
      "Epoch 57/100\n",
      "100/100 [==============================] - 21s - loss: 0.0087 - acc: 0.9980 - val_loss: 0.1229 - val_acc: 0.9780\n",
      "Epoch 58/100\n",
      "100/100 [==============================] - 20s - loss: 0.0036 - acc: 0.9985 - val_loss: 0.1452 - val_acc: 0.9760\n",
      "Epoch 59/100\n",
      "100/100 [==============================] - 20s - loss: 0.0076 - acc: 0.9970 - val_loss: 0.2287 - val_acc: 0.9670\n",
      "Epoch 60/100\n",
      "100/100 [==============================] - 20s - loss: 0.0052 - acc: 0.9980 - val_loss: 0.1008 - val_acc: 0.9800\n",
      "Epoch 61/100\n",
      "100/100 [==============================] - 20s - loss: 0.0017 - acc: 0.9995 - val_loss: 0.1652 - val_acc: 0.9760\n",
      "Epoch 62/100\n",
      "100/100 [==============================] - 20s - loss: 0.0053 - acc: 0.9990 - val_loss: 0.1518 - val_acc: 0.9750\n",
      "Epoch 63/100\n",
      "100/100 [==============================] - 20s - loss: 0.0154 - acc: 0.9975 - val_loss: 0.2092 - val_acc: 0.9720\n",
      "Epoch 64/100\n",
      "100/100 [==============================] - 20s - loss: 0.0057 - acc: 0.9985 - val_loss: 0.1373 - val_acc: 0.9780\n",
      "Epoch 65/100\n",
      "100/100 [==============================] - 20s - loss: 0.0139 - acc: 0.9965 - val_loss: 0.1620 - val_acc: 0.9730\n",
      "Epoch 66/100\n"
     ]
    },
    {
     "name": "stdout",
     "output_type": "stream",
     "text": [
      "100/100 [==============================] - 20s - loss: 0.0100 - acc: 0.9975 - val_loss: 0.1641 - val_acc: 0.9760\n",
      "Epoch 67/100\n",
      "100/100 [==============================] - 20s - loss: 0.0144 - acc: 0.9975 - val_loss: 0.1325 - val_acc: 0.9790\n",
      "Epoch 68/100\n",
      "100/100 [==============================] - 20s - loss: 0.0056 - acc: 0.9975 - val_loss: 0.1862 - val_acc: 0.9730\n",
      "Epoch 69/100\n",
      "100/100 [==============================] - 20s - loss: 0.0067 - acc: 0.9985 - val_loss: 0.2030 - val_acc: 0.9720\n",
      "Epoch 70/100\n",
      "100/100 [==============================] - 20s - loss: 0.0056 - acc: 0.9985 - val_loss: 0.1574 - val_acc: 0.9740\n",
      "Epoch 71/100\n",
      "100/100 [==============================] - 20s - loss: 0.0038 - acc: 0.9980 - val_loss: 0.1651 - val_acc: 0.9750\n",
      "Epoch 72/100\n",
      "100/100 [==============================] - 20s - loss: 0.0171 - acc: 0.9965 - val_loss: 0.1553 - val_acc: 0.9720\n",
      "Epoch 73/100\n",
      "100/100 [==============================] - 20s - loss: 0.0062 - acc: 0.9990 - val_loss: 0.1417 - val_acc: 0.9750\n",
      "Epoch 74/100\n",
      "100/100 [==============================] - 20s - loss: 0.0109 - acc: 0.9960 - val_loss: 0.1845 - val_acc: 0.9720\n",
      "Epoch 75/100\n",
      "100/100 [==============================] - 20s - loss: 0.0042 - acc: 0.9990 - val_loss: 0.1744 - val_acc: 0.9700\n",
      "Epoch 76/100\n",
      "100/100 [==============================] - 20s - loss: 0.0056 - acc: 0.9980 - val_loss: 0.1796 - val_acc: 0.9720\n",
      "Epoch 77/100\n",
      "100/100 [==============================] - 20s - loss: 0.0077 - acc: 0.9970 - val_loss: 0.1411 - val_acc: 0.9760\n",
      "Epoch 78/100\n",
      "100/100 [==============================] - 20s - loss: 0.0041 - acc: 0.9985 - val_loss: 0.1789 - val_acc: 0.9640\n",
      "Epoch 79/100\n",
      "100/100 [==============================] - 20s - loss: 0.0040 - acc: 0.9990 - val_loss: 0.3218 - val_acc: 0.9640\n",
      "Epoch 80/100\n",
      "100/100 [==============================] - 20s - loss: 0.0037 - acc: 0.9985 - val_loss: 0.1739 - val_acc: 0.9750\n",
      "Epoch 81/100\n",
      "100/100 [==============================] - 20s - loss: 0.0028 - acc: 0.9990 - val_loss: 0.1952 - val_acc: 0.9760\n",
      "Epoch 82/100\n",
      "100/100 [==============================] - 21s - loss: 0.0096 - acc: 0.9975 - val_loss: 0.1275 - val_acc: 0.9790\n",
      "Epoch 83/100\n",
      "100/100 [==============================] - 22s - loss: 0.0021 - acc: 0.9990 - val_loss: 0.1656 - val_acc: 0.9710\n",
      "Epoch 84/100\n",
      "100/100 [==============================] - 22s - loss: 0.0026 - acc: 0.9990 - val_loss: 0.2085 - val_acc: 0.9680\n",
      "Epoch 85/100\n",
      "100/100 [==============================] - 22s - loss: 0.0104 - acc: 0.9980 - val_loss: 0.1652 - val_acc: 0.9750\n",
      "Epoch 86/100\n",
      "100/100 [==============================] - 22s - loss: 0.0078 - acc: 0.9975 - val_loss: 0.2001 - val_acc: 0.9670\n",
      "Epoch 87/100\n",
      "100/100 [==============================] - 22s - loss: 0.0067 - acc: 0.9985 - val_loss: 0.1920 - val_acc: 0.9730\n",
      "Epoch 88/100\n",
      "100/100 [==============================] - 22s - loss: 0.0079 - acc: 0.9980 - val_loss: 0.2312 - val_acc: 0.9650\n",
      "Epoch 89/100\n",
      "100/100 [==============================] - 25s - loss: 0.0050 - acc: 0.9990 - val_loss: 0.1891 - val_acc: 0.9740\n",
      "Epoch 90/100\n",
      "100/100 [==============================] - 21s - loss: 0.0151 - acc: 0.9970 - val_loss: 0.2000 - val_acc: 0.9700\n",
      "Epoch 91/100\n",
      "100/100 [==============================] - 24s - loss: 0.0047 - acc: 0.9990 - val_loss: 0.2020 - val_acc: 0.9750\n",
      "Epoch 92/100\n",
      "100/100 [==============================] - 24s - loss: 0.0019 - acc: 0.9990 - val_loss: 0.2019 - val_acc: 0.9690\n",
      "Epoch 93/100\n",
      "100/100 [==============================] - 24s - loss: 0.0038 - acc: 0.9990 - val_loss: 0.1102 - val_acc: 0.9820\n",
      "Epoch 94/100\n",
      "100/100 [==============================] - 23s - loss: 0.0035 - acc: 0.9985 - val_loss: 0.2213 - val_acc: 0.9710\n",
      "Epoch 95/100\n",
      "100/100 [==============================] - 23s - loss: 0.0143 - acc: 0.9960 - val_loss: 0.1431 - val_acc: 0.9790\n",
      "Epoch 96/100\n",
      "100/100 [==============================] - 24s - loss: 0.0097 - acc: 0.9970 - val_loss: 0.1757 - val_acc: 0.9720\n",
      "Epoch 97/100\n",
      "100/100 [==============================] - 24s - loss: 5.5237e-04 - acc: 1.0000 - val_loss: 0.1758 - val_acc: 0.9740\n",
      "Epoch 98/100\n",
      "100/100 [==============================] - 23s - loss: 0.0036 - acc: 0.9980 - val_loss: 0.1880 - val_acc: 0.9750\n",
      "Epoch 99/100\n",
      "100/100 [==============================] - 24s - loss: 0.0020 - acc: 0.9995 - val_loss: 0.2572 - val_acc: 0.9720\n",
      "Epoch 100/100\n",
      "100/100 [==============================] - 24s - loss: 0.0029 - acc: 0.9990 - val_loss: 0.2028 - val_acc: 0.9680.9\n"
     ]
    }
   ],
   "source": [
    "history = end_to_end_model.fit_generator(train_generator,\n",
    "                                         steps_per_epoch = 100,\n",
    "                                         epochs = 100,\n",
    "                                         validation_data = validation_generator,\n",
    "                                         validation_steps = 50)"
   ]
  },
  {
   "cell_type": "code",
   "execution_count": 41,
   "metadata": {
    "collapsed": true
   },
   "outputs": [],
   "source": [
    "model.save('.\\saved_checkpoints\\Chapter 5.3 - Using a pre-trained convnet\\cats_and_dogs_small_4.h5')"
   ]
  },
  {
   "cell_type": "code",
   "execution_count": 42,
   "metadata": {
    "collapsed": true
   },
   "outputs": [],
   "source": [
    "acc = history.history['acc']\n",
    "val_acc = history.history['val_acc']\n",
    "loss = history.history['loss']\n",
    "val_loss = history.history['val_loss']"
   ]
  },
  {
   "cell_type": "code",
   "execution_count": 43,
   "metadata": {
    "collapsed": true
   },
   "outputs": [],
   "source": [
    "epochs = range(len(acc))"
   ]
  },
  {
   "cell_type": "code",
   "execution_count": 44,
   "metadata": {},
   "outputs": [
    {
     "data": {
      "image/png": "[encoded data removed]",
      "text/plain": [
       "<matplotlib.figure.Figure at 0x2ae203eaa58>"
      ]
     },
     "metadata": {},
     "output_type": "display_data"
    }
   ],
   "source": [
    "plt.figure(figsize = (10, 6))\n",
    "plt.plot(epochs, \n",
    "         acc, \n",
    "         'bo', \n",
    "         label = 'Training acc')\n",
    "plt.plot(epochs, \n",
    "         val_acc, \n",
    "         'b', \n",
    "         label = 'Validation acc')\n",
    "plt.title('Training and validation accuracy')\n",
    "plt.legend()\n",
    "plt.show()"
   ]
  },
  {
   "cell_type": "code",
   "execution_count": 45,
   "metadata": {},
   "outputs": [
    {
     "data": {
      "image/png": "[encoded data removed]",
      "text/plain": [
       "<matplotlib.figure.Figure at 0x2ae213c0ba8>"
      ]
     },
     "metadata": {},
     "output_type": "display_data"
    }
   ],
   "source": [
    "plt.figure(figsize = (10, 6))\n",
    "\n",
    "plt.plot(epochs, \n",
    "         loss, \n",
    "         'bo', \n",
    "         label = 'Training loss')\n",
    "plt.plot(epochs, \n",
    "         val_loss, \n",
    "         'b', \n",
    "         label = 'Validation loss')\n",
    "plt.title('Training and validation loss')\n",
    "plt.legend()\n",
    "\n",
    "plt.show()"
   ]
  },
  {
   "cell_type": "markdown",
   "metadata": {},
   "source": [
    "## Smothed curves"
   ]
  },
  {
   "cell_type": "code",
   "execution_count": 46,
   "metadata": {
    "collapsed": true
   },
   "outputs": [],
   "source": [
    "def smooth_curve(points, factor = 0.8):\n",
    "    smoothed_points = []\n",
    "    for point in points:\n",
    "        if smoothed_points:\n",
    "            previous = smoothed_points[-1]\n",
    "            smoothed_points.append(previous * factor + point * (1 - factor))\n",
    "        else:\n",
    "            smoothed_points.append(point)\n",
    "    return smoothed_points"
   ]
  },
  {
   "cell_type": "code",
   "execution_count": 47,
   "metadata": {},
   "outputs": [
    {
     "data": {
      "image/png": "[encoded data removed]",
      "text/plain": [
       "<matplotlib.figure.Figure at 0x2ae20b0cfd0>"
      ]
     },
     "metadata": {},
     "output_type": "display_data"
    }
   ],
   "source": [
    "plt.figure(figsize = (10, 6))\n",
    "plt.plot(epochs,\n",
    "         smooth_curve(acc), \n",
    "         'bo', \n",
    "         label = 'Smoothed training acc')\n",
    "\n",
    "plt.plot(epochs,\n",
    "         smooth_curve(val_acc), \n",
    "         'b', \n",
    "         label = 'Smoothed validation acc')\n",
    "\n",
    "plt.title('Training and validation accuracy')\n",
    "plt.legend()\n",
    "plt.show()"
   ]
  },
  {
   "cell_type": "code",
   "execution_count": 48,
   "metadata": {},
   "outputs": [
    {
     "data": {
      "image/png": "[encoded data removed]",
      "text/plain": [
       "<matplotlib.figure.Figure at 0x2ae205da550>"
      ]
     },
     "metadata": {},
     "output_type": "display_data"
    }
   ],
   "source": [
    "plt.figure(figsize = (10, 6))\n",
    "\n",
    "plt.plot(epochs,\n",
    "         smooth_curve(loss), \n",
    "         'bo', \n",
    "         label = 'Smoothed training loss')\n",
    "plt.plot(epochs,\n",
    "         smooth_curve(val_loss), \n",
    "         'b', \n",
    "         label = 'Smoothed validation loss')\n",
    "\n",
    "plt.title('Training and validation loss')\n",
    "plt.legend()\n",
    "\n",
    "plt.show()"
   ]
  },
  {
   "cell_type": "markdown",
   "metadata": {},
   "source": [
    "## Evaluation"
   ]
  },
  {
   "cell_type": "code",
   "execution_count": 49,
   "metadata": {},
   "outputs": [
    {
     "name": "stdout",
     "output_type": "stream",
     "text": [
      "Found 1000 images belonging to 2 classes.\n",
      "Test acc: 0.973999993801\n"
     ]
    }
   ],
   "source": [
    "test_generator = test_datagen.flow_from_directory(test_dir,\n",
    "                                                  target_size = (150, 150),\n",
    "                                                  batch_size = 20,\n",
    "                                                  class_mode = 'binary')\n",
    "\n",
    "test_loss, test_acc = end_to_end_model.evaluate_generator(test_generator, \n",
    "                                                          steps = 50)\n",
    "print('Test acc:', test_acc)"
   ]
  }
 ],
 "metadata": {
  "kernelspec": {
   "display_name": "Python 3",
   "language": "python",
   "name": "python3"
  },
  "language_info": {
   "codemirror_mode": {
    "name": "ipython",
    "version": 3
   },
   "file_extension": ".py",
   "mimetype": "text/x-python",
   "name": "python",
   "nbconvert_exporter": "python",
   "pygments_lexer": "ipython3",
   "version": "3.6.1"
  }
 },
 "nbformat": 4,
 "nbformat_minor": 2
}
