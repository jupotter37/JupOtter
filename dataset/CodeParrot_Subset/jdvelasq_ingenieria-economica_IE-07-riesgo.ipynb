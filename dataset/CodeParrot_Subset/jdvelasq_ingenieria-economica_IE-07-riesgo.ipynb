{
 "cells": [
  {
   "cell_type": "markdown",
   "metadata": {},
   "source": [
    "Análisis bajo riesgo\n",
    "==="
   ]
  },
  {
   "cell_type": "markdown",
   "metadata": {},
   "source": [
    "Notas de clase sobre ingeniería economica avanzada usando Python\n",
    "\n",
    "**Juan David Velásquez Henao**  \n",
    "jdvelasq@unal.edu.co   \n",
    "Universidad Nacional de Colombia, Sede Medellín  \n",
    "Facultad de Minas  \n",
    "Medellín, Colombia  "
   ]
  },
  {
   "cell_type": "markdown",
   "metadata": {},
   "source": [
    "**Software utilizado**\n",
    ">Este es un documento interactivo escrito como un notebook de [Jupyter](http://jupyter.org/) , en el cual se presenta un tutorial sobre finanzas corporativas usando Python. Los notebooks de Jupyter permiten incoporar simultáneamente código, texto, gráficos y ecuaciones. El código presentado en este notebook puede ejecutarse en los sistemas operativos Linux y OS X.  \n",
    "\n",
    ">Haga click [aquí](https://github.com/jdvelasq/guias-de-instalacion) para obtener instrucciones detalladas sobre como instalar Jupyter en Windows y Mac OS X.\n",
    "\n",
    ">Descargue la última versión de este documento a su disco duro; luego, carguelo y ejecutelo en línea en Try [Jupyter!](https://try.jupyter.org/)\n",
    "\n"
   ]
  },
  {
   "cell_type": "markdown",
   "metadata": {},
   "source": [
    "#### Contenido"
   ]
  },
  {
   "cell_type": "markdown",
   "metadata": {},
   "source": [
    ">"
   ]
  },
  {
   "cell_type": "markdown",
   "metadata": {},
   "source": [
    "**Bibliografía**"
   ]
  },
  {
   "cell_type": "markdown",
   "metadata": {},
   "source": [
    "> * [1] SAS/ETS 14.1 User's Guide, 2015.   \n",
    "* [2] **hp** 12c platinum financial calculator. User's guide. \n",
    "* [3] HP Business Consultant II Owner's manual.\n",
    "* [4] C.S. Park and G.P. Sharp-Bette. Advanced Engineering Economics. John Wiley & Sons, Inc., 1990."
   ]
  },
  {
   "cell_type": "code",
   "execution_count": 1,
   "metadata": {
    "collapsed": true
   },
   "outputs": [],
   "source": [
    "import numpy.random as rdn\n",
    "import cashflows as cf"
   ]
  },
  {
   "cell_type": "code",
   "execution_count": 12,
   "metadata": {
    "collapsed": true
   },
   "outputs": [],
   "source": [
    "## se construye una función que recibe la información relevante y retorn el npv\n",
    "\n",
    "def project(marr,\n",
    "            costo,\n",
    "            inversion):\n",
    "    \n",
    "    \n",
    "    precio      = rdn.triangular(  8,  10,  12, 11).tolist()\n",
    "    produccion  = rdn.triangular( 80, 100, 120, 11).tolist()\n",
    "    \n",
    "    \n",
    "    ingre = cf.cashflow(const_value = 0, nper = 11, spec = [(t, precio[t] * produccion[t]) if t > 0 else (0,0) for t in range(11)])    \n",
    "    opera = cf.cashflow(const_value = 0, nper = 11, spec = [(t, costo)                     if t > 0 else (0,0) for t in range(11)])\n",
    "    inver = cf.cashflow(const_value = 0, nper = 11, spec = (0, inversion))\n",
    "    \n",
    "    asset = cf.cashflow(const_value=0, nper=11, spec=(0, inversion))\n",
    "    life  = cf.cashflow(const_value=0, nper=11, spec=(0, 5))\n",
    "    dep   = cf.depreciation_sl(costs = asset, life=life, noprint=True)\n",
    "    \n",
    "    antes = ingre - opera - inver - dep\n",
    "    desp  = cf.after_tax_cashflow(antes, cf.nominal_rate([30] * 11))\n",
    "    \n",
    "    neto  = antes + dep\n",
    "    \n",
    "    npv   = cf.timevalue(cflo=neto, marr=marr)\n",
    "    \n",
    "    return npv"
   ]
  },
  {
   "cell_type": "code",
   "execution_count": 15,
   "metadata": {
    "collapsed": false
   },
   "outputs": [
    {
     "data": {
      "text/plain": [
       "2539.684056078263"
      ]
     },
     "execution_count": 15,
     "metadata": {},
     "output_type": "execute_result"
    }
   ],
   "source": [
    "marr = cf.nominal_rate([10] * 11)\n",
    "project(marr, 220, 2000)"
   ]
  },
  {
   "cell_type": "code",
   "execution_count": 18,
   "metadata": {
    "collapsed": true
   },
   "outputs": [],
   "source": [
    "import matplotlib.pyplot as plt\n",
    "%matplotlib inline"
   ]
  },
  {
   "cell_type": "code",
   "execution_count": 19,
   "metadata": {
    "collapsed": false
   },
   "outputs": [
    {
     "data": {
      "text/plain": [
       "[2757.341543821538,\n",
       " 2678.109448920463,\n",
       " 2808.6178968520435,\n",
       " 2581.0686672516185,\n",
       " 2816.9834536658864,\n",
       " 2587.947745823656,\n",
       " 2602.3686346163554,\n",
       " 3034.1005019383547,\n",
       " 2722.463691840809]"
      ]
     },
     "execution_count": 19,
     "metadata": {},
     "output_type": "execute_result"
    }
   ],
   "source": [
    "result = []\n",
    "\n",
    "for sim in range(1000):\n",
    "    result.append(project(marr, 220, 2000))\n",
    "result[1:10]"
   ]
  },
  {
   "cell_type": "code",
   "execution_count": 20,
   "metadata": {
    "collapsed": false,
    "scrolled": false
   },
   "outputs": [
    {
     "data": {
      "text/plain": [
       "(array([   8.,   59.,  140.,  215.,  272.,  195.,   73.,   28.,    7.,    3.]),\n",
       " array([ 2164.49619347,  2311.79194288,  2459.08769228,  2606.38344169,\n",
       "         2753.67919109,  2900.9749405 ,  3048.2706899 ,  3195.5664393 ,\n",
       "         3342.86218871,  3490.15793811,  3637.45368752]),\n",
       " <a list of 10 Patch objects>)"
      ]
     },
     "execution_count": 20,
     "metadata": {},
     "output_type": "execute_result"
    },
    {
     "data": {
      "image/png": "[encoded data removed]",
      "text/plain": [
       "<matplotlib.figure.Figure at 0x10cf642e8>"
      ]
     },
     "metadata": {},
     "output_type": "display_data"
    }
   ],
   "source": [
    "plt.hist(result)"
   ]
  },
  {
   "cell_type": "markdown",
   "metadata": {},
   "source": [
    "---"
   ]
  },
  {
   "cell_type": "markdown",
   "metadata": {},
   "source": [
    "**Ejercicio.--** Incluya en la simulación a las variables costo e inversión."
   ]
  },
  {
   "cell_type": "code",
   "execution_count": null,
   "metadata": {
    "collapsed": true
   },
   "outputs": [],
   "source": []
  },
  {
   "cell_type": "markdown",
   "metadata": {},
   "source": [
    "---"
   ]
  },
  {
   "cell_type": "markdown",
   "metadata": {},
   "source": [
    "[Contenido](#Contenido)"
   ]
  }
 ],
 "metadata": {
  "kernelspec": {
   "display_name": "Python [default]",
   "language": "python",
   "name": "python3"
  },
  "language_info": {
   "codemirror_mode": {
    "name": "ipython",
    "version": 3
   },
   "file_extension": ".py",
   "mimetype": "text/x-python",
   "name": "python",
   "nbconvert_exporter": "python",
   "pygments_lexer": "ipython3",
   "version": "3.5.2"
  }
 },
 "nbformat": 4,
 "nbformat_minor": 0
}
