{
 "cells": [
  {
   "cell_type": "code",
   "execution_count": 46,
   "metadata": {},
   "outputs": [],
   "source": [
    "import numpy as np\n",
    "import pandas as pd\n",
    "import matplotlib.pyplot as plt\n",
    "\n",
    "%matplotlib inline"
   ]
  },
  {
   "cell_type": "code",
   "execution_count": 159,
   "metadata": {},
   "outputs": [],
   "source": [
    "T2= pd.DataFrame()\n",
    "xyz= np.random.normal(20, 5, (3, 1000)).T\n",
    "T2['I']=np.random.normal(0.5, 0.5, 1000)\n",
    "T2['Z']=np.random.normal(0.5, 0.5, 1000)\n",
    "T2['W']= np.sin(T2['I']**2+ T2['Z']**2)"
   ]
  },
  {
   "cell_type": "code",
   "execution_count": 118,
   "metadata": {},
   "outputs": [],
   "source": [
    "#plt.hist(T2['Z'])"
   ]
  },
  {
   "cell_type": "code",
   "execution_count": 160,
   "metadata": {},
   "outputs": [],
   "source": [
    "def plot_annotated_heatmap(ax, data, gridpoints, columns, cmap='viridis'):\n",
    "    #plot an annotated heatmap\n",
    "    xcol, ycol, zcol= columns\n",
    "    \n",
    "    step1= np.ptp(data[xcol])/gridpoints\n",
    "    step2= np.ptp(data[ycol])/gridpoints\n",
    "    \n",
    "    xgrid= np.linspace(data[xcol].min(), data[xcol].max(), gridpoints)\n",
    "    ygrid= np.linspace(data[ycol].min(), data[ycol].max(), gridpoints)\n",
    "    \n",
    "    mask = np.zeros((len(xgrid), len(ygrid)))\n",
    "    values = np.zeros((len(xgrid), len(ygrid)))\n",
    "    \n",
    "    \n",
    "    percent1 = []\n",
    "    percent2 = []\n",
    "    mumber  = []\n",
    "    for i in range(len(xgrid)):\n",
    "        #loop over matrix\n",
    "        for j in range(len(ygrid)):\n",
    "            maskx= np.logical_and(data[xcol] >= xgrid[i], data[xcol] < xgrid[i]+step1)\n",
    "            masky=np.logical_and(data[ycol] >= ygrid[j], data[ycol] <ygrid[j]+step2)\n",
    "            zmedian= (data[zcol][np.logical_and(maskx, masky)]).mean()\n",
    "            lenz= len(data[np.logical_and.reduce([maskx, masky])])\n",
    "            \n",
    "            if lenz == 0:\n",
    "                values[j][i] = np.nan\n",
    "                mask[j][i] = 1\n",
    "            else:\n",
    "                values[j][i] = zmedian\n",
    "                plt.text(xgrid[i]+step1/2., ygrid[j]+step2/2., f'{zmedian:.2f}',\n",
    "                         ha='center', va='center', fontsize=7, color='w')\n",
    "                \n",
    "    values2 = np.ma.array(values, mask=mask)\n",
    "    cax = ax.pcolormesh(xgrid, ygrid, values2, vmin=data[zcol].min(), vmax=data[zcol].max(), cmap=cmap)\n",
    "    plt.axis('tight')\n",
    "    ymin, ymax = plt.ylim()\n",
    "\n",
    "    ax.minorticks_on()\n",
    "\n",
    "    ax.set_ylim(ymax, ymin)\n",
    "    cbar = plt.colorbar(cax)\n",
    "    cbar.set_label(r'')\n",
    "    \n",
    "    return "
   ]
  },
  {
   "cell_type": "code",
   "execution_count": 163,
   "metadata": {},
   "outputs": [
    {
     "name": "stderr",
     "output_type": "stream",
     "text": [
      "<ipython-input-160-0d18b902ec8e>:35: MatplotlibDeprecationWarning: shading='flat' when X and Y have the same dimensions as C is deprecated since 3.3.  Either specify the corners of the quadrilaterals with X and Y, or pass shading='auto', 'nearest' or 'gouraud', or set rcParams['pcolor.shading'].  This will become an error two minor releases later.\n",
      "  cax = ax.pcolormesh(xgrid, ygrid, values2, vmin=data[zcol].min(), vmax=data[zcol].max(), cmap=cmap)\n"
     ]
    },
    {
     "data": {
      "image/png": "[encoded data removed]",
      "text/plain": [
       "<Figure size 432x288 with 2 Axes>"
      ]
     },
     "metadata": {
      "needs_background": "light"
     },
     "output_type": "display_data"
    }
   ],
   "source": [
    "fig, ax=plt.subplots()\n",
    "plot_annotated_heatmap(ax, T2, 5, ['I', 'Z', 'W'], cmap='viridis')"
   ]
  },
  {
   "cell_type": "code",
   "execution_count": 113,
   "metadata": {},
   "outputs": [
    {
     "name": "stdout",
     "output_type": "stream",
     "text": [
      "[6.   3.75]\n"
     ]
    },
    {
     "ename": "KeyError",
     "evalue": "'IMAG'",
     "output_type": "error",
     "traceback": [
      "\u001b[0;31m---------------------------------------------------------------------------\u001b[0m",
      "\u001b[0;31mKeyError\u001b[0m                                  Traceback (most recent call last)",
      "\u001b[0;32m/opt/anaconda3/lib/python3.8/site-packages/pandas/core/indexes/base.py\u001b[0m in \u001b[0;36mget_loc\u001b[0;34m(self, key, method, tolerance)\u001b[0m\n\u001b[1;32m   2890\u001b[0m             \u001b[0;32mtry\u001b[0m\u001b[0;34m:\u001b[0m\u001b[0;34m\u001b[0m\u001b[0;34m\u001b[0m\u001b[0m\n\u001b[0;32m-> 2891\u001b[0;31m                 \u001b[0;32mreturn\u001b[0m \u001b[0mself\u001b[0m\u001b[0;34m.\u001b[0m\u001b[0m_engine\u001b[0m\u001b[0;34m.\u001b[0m\u001b[0mget_loc\u001b[0m\u001b[0;34m(\u001b[0m\u001b[0mcasted_key\u001b[0m\u001b[0;34m)\u001b[0m\u001b[0;34m\u001b[0m\u001b[0;34m\u001b[0m\u001b[0m\n\u001b[0m\u001b[1;32m   2892\u001b[0m             \u001b[0;32mexcept\u001b[0m \u001b[0mKeyError\u001b[0m \u001b[0;32mas\u001b[0m \u001b[0merr\u001b[0m\u001b[0;34m:\u001b[0m\u001b[0;34m\u001b[0m\u001b[0;34m\u001b[0m\u001b[0m\n",
      "\u001b[0;32mpandas/_libs/index.pyx\u001b[0m in \u001b[0;36mpandas._libs.index.IndexEngine.get_loc\u001b[0;34m()\u001b[0m\n",
      "\u001b[0;32mpandas/_libs/index.pyx\u001b[0m in \u001b[0;36mpandas._libs.index.IndexEngine.get_loc\u001b[0;34m()\u001b[0m\n",
      "\u001b[0;32mpandas/_libs/hashtable_class_helper.pxi\u001b[0m in \u001b[0;36mpandas._libs.hashtable.PyObjectHashTable.get_item\u001b[0;34m()\u001b[0m\n",
      "\u001b[0;32mpandas/_libs/hashtable_class_helper.pxi\u001b[0m in \u001b[0;36mpandas._libs.hashtable.PyObjectHashTable.get_item\u001b[0;34m()\u001b[0m\n",
      "\u001b[0;31mKeyError\u001b[0m: 'IMAG'",
      "\nThe above exception was the direct cause of the following exception:\n",
      "\u001b[0;31mKeyError\u001b[0m                                  Traceback (most recent call last)",
      "\u001b[0;32m<ipython-input-113-6e6f126f8786>\u001b[0m in \u001b[0;36m<module>\u001b[0;34m\u001b[0m\n\u001b[1;32m     22\u001b[0m \u001b[0;32mfor\u001b[0m \u001b[0mi\u001b[0m \u001b[0;32min\u001b[0m \u001b[0mrange\u001b[0m\u001b[0;34m(\u001b[0m\u001b[0mlen\u001b[0m\u001b[0;34m(\u001b[0m\u001b[0mCOLOR\u001b[0m\u001b[0;34m)\u001b[0m\u001b[0;34m)\u001b[0m\u001b[0;34m:\u001b[0m\u001b[0;34m\u001b[0m\u001b[0;34m\u001b[0m\u001b[0m\n\u001b[1;32m     23\u001b[0m         \u001b[0;32mfor\u001b[0m \u001b[0mj\u001b[0m \u001b[0;32min\u001b[0m \u001b[0mrange\u001b[0m\u001b[0;34m(\u001b[0m\u001b[0mlen\u001b[0m\u001b[0;34m(\u001b[0m\u001b[0mMAG\u001b[0m\u001b[0;34m)\u001b[0m\u001b[0;34m)\u001b[0m\u001b[0;34m:\u001b[0m\u001b[0;34m\u001b[0m\u001b[0;34m\u001b[0m\u001b[0m\n\u001b[0;32m---> 24\u001b[0;31m                 \u001b[0mlen1\u001b[0m \u001b[0;34m=\u001b[0m \u001b[0mlen\u001b[0m\u001b[0;34m(\u001b[0m\u001b[0mT2\u001b[0m\u001b[0;34m[\u001b[0m\u001b[0;34m(\u001b[0m \u001b[0;34m(\u001b[0m\u001b[0mT2\u001b[0m\u001b[0;34m[\u001b[0m\u001b[0;34m'IMAG'\u001b[0m\u001b[0;34m]\u001b[0m \u001b[0;34m-\u001b[0m \u001b[0mT2\u001b[0m\u001b[0;34m[\u001b[0m\u001b[0;34m'ZMAG'\u001b[0m\u001b[0;34m]\u001b[0m \u001b[0;34m>\u001b[0m \u001b[0mCOLOR\u001b[0m\u001b[0;34m[\u001b[0m\u001b[0mi\u001b[0m\u001b[0;34m]\u001b[0m\u001b[0;34m)\u001b[0m  \u001b[0;34m)\u001b[0m\u001b[0;34m]\u001b[0m\u001b[0;34m)\u001b[0m\u001b[0;34m\u001b[0m\u001b[0;34m\u001b[0m\u001b[0m\n\u001b[0m\u001b[1;32m     25\u001b[0m                 \u001b[0mlen2\u001b[0m \u001b[0;34m=\u001b[0m  \u001b[0mlen\u001b[0m\u001b[0;34m(\u001b[0m\u001b[0mT2\u001b[0m\u001b[0;34m[\u001b[0m\u001b[0;34m(\u001b[0m \u001b[0;34m(\u001b[0m\u001b[0mT2\u001b[0m\u001b[0;34m[\u001b[0m\u001b[0;34m'W2MPRO'\u001b[0m\u001b[0;34m]\u001b[0m \u001b[0;34m-\u001b[0m \u001b[0mT2\u001b[0m\u001b[0;34m[\u001b[0m\u001b[0;34m'ZMAG'\u001b[0m\u001b[0;34m]\u001b[0m \u001b[0;34m>\u001b[0m \u001b[0mCOLOR\u001b[0m\u001b[0;34m[\u001b[0m\u001b[0mi\u001b[0m\u001b[0;34m]\u001b[0m\u001b[0;34m)\u001b[0m  \u001b[0;34m)\u001b[0m\u001b[0;34m]\u001b[0m\u001b[0;34m)\u001b[0m\u001b[0;34m\u001b[0m\u001b[0;34m\u001b[0m\u001b[0m\n\u001b[1;32m     26\u001b[0m \u001b[0;34m\u001b[0m\u001b[0m\n",
      "\u001b[0;32m/opt/anaconda3/lib/python3.8/site-packages/pandas/core/frame.py\u001b[0m in \u001b[0;36m__getitem__\u001b[0;34m(self, key)\u001b[0m\n\u001b[1;32m   2900\u001b[0m             \u001b[0;32mif\u001b[0m \u001b[0mself\u001b[0m\u001b[0;34m.\u001b[0m\u001b[0mcolumns\u001b[0m\u001b[0;34m.\u001b[0m\u001b[0mnlevels\u001b[0m \u001b[0;34m>\u001b[0m \u001b[0;36m1\u001b[0m\u001b[0;34m:\u001b[0m\u001b[0;34m\u001b[0m\u001b[0;34m\u001b[0m\u001b[0m\n\u001b[1;32m   2901\u001b[0m                 \u001b[0;32mreturn\u001b[0m \u001b[0mself\u001b[0m\u001b[0;34m.\u001b[0m\u001b[0m_getitem_multilevel\u001b[0m\u001b[0;34m(\u001b[0m\u001b[0mkey\u001b[0m\u001b[0;34m)\u001b[0m\u001b[0;34m\u001b[0m\u001b[0;34m\u001b[0m\u001b[0m\n\u001b[0;32m-> 2902\u001b[0;31m             \u001b[0mindexer\u001b[0m \u001b[0;34m=\u001b[0m \u001b[0mself\u001b[0m\u001b[0;34m.\u001b[0m\u001b[0mcolumns\u001b[0m\u001b[0;34m.\u001b[0m\u001b[0mget_loc\u001b[0m\u001b[0;34m(\u001b[0m\u001b[0mkey\u001b[0m\u001b[0;34m)\u001b[0m\u001b[0;34m\u001b[0m\u001b[0;34m\u001b[0m\u001b[0m\n\u001b[0m\u001b[1;32m   2903\u001b[0m             \u001b[0;32mif\u001b[0m \u001b[0mis_integer\u001b[0m\u001b[0;34m(\u001b[0m\u001b[0mindexer\u001b[0m\u001b[0;34m)\u001b[0m\u001b[0;34m:\u001b[0m\u001b[0;34m\u001b[0m\u001b[0;34m\u001b[0m\u001b[0m\n\u001b[1;32m   2904\u001b[0m                 \u001b[0mindexer\u001b[0m \u001b[0;34m=\u001b[0m \u001b[0;34m[\u001b[0m\u001b[0mindexer\u001b[0m\u001b[0;34m]\u001b[0m\u001b[0;34m\u001b[0m\u001b[0;34m\u001b[0m\u001b[0m\n",
      "\u001b[0;32m/opt/anaconda3/lib/python3.8/site-packages/pandas/core/indexes/base.py\u001b[0m in \u001b[0;36mget_loc\u001b[0;34m(self, key, method, tolerance)\u001b[0m\n\u001b[1;32m   2891\u001b[0m                 \u001b[0;32mreturn\u001b[0m \u001b[0mself\u001b[0m\u001b[0;34m.\u001b[0m\u001b[0m_engine\u001b[0m\u001b[0;34m.\u001b[0m\u001b[0mget_loc\u001b[0m\u001b[0;34m(\u001b[0m\u001b[0mcasted_key\u001b[0m\u001b[0;34m)\u001b[0m\u001b[0;34m\u001b[0m\u001b[0;34m\u001b[0m\u001b[0m\n\u001b[1;32m   2892\u001b[0m             \u001b[0;32mexcept\u001b[0m \u001b[0mKeyError\u001b[0m \u001b[0;32mas\u001b[0m \u001b[0merr\u001b[0m\u001b[0;34m:\u001b[0m\u001b[0;34m\u001b[0m\u001b[0;34m\u001b[0m\u001b[0m\n\u001b[0;32m-> 2893\u001b[0;31m                 \u001b[0;32mraise\u001b[0m \u001b[0mKeyError\u001b[0m\u001b[0;34m(\u001b[0m\u001b[0mkey\u001b[0m\u001b[0;34m)\u001b[0m \u001b[0;32mfrom\u001b[0m \u001b[0merr\u001b[0m\u001b[0;34m\u001b[0m\u001b[0;34m\u001b[0m\u001b[0m\n\u001b[0m\u001b[1;32m   2894\u001b[0m \u001b[0;34m\u001b[0m\u001b[0m\n\u001b[1;32m   2895\u001b[0m         \u001b[0;32mif\u001b[0m \u001b[0mtolerance\u001b[0m \u001b[0;32mis\u001b[0m \u001b[0;32mnot\u001b[0m \u001b[0;32mNone\u001b[0m\u001b[0;34m:\u001b[0m\u001b[0;34m\u001b[0m\u001b[0;34m\u001b[0m\u001b[0m\n",
      "\u001b[0;31mKeyError\u001b[0m: 'IMAG'"
     ]
    },
    {
     "data": {
      "image/png": "[encoded data removed]",
      "text/plain": [
       "<Figure size 432x270 with 1 Axes>"
      ]
     },
     "metadata": {
      "needs_background": "light"
     },
     "output_type": "display_data"
    }
   ],
   "source": [
    "fig = plt.figure(1, figsize=(6, 5*3/4.))\n",
    "\n",
    "ax = fig.add_subplot(111)\n",
    "\n",
    "print (fig.get_size_inches())\n",
    "\n",
    "\n",
    "\n",
    "#VALUE = []\n",
    "#VALUE = np.zeros((len(COLOR), len(MAG)))\n",
    "VALUE = np.zeros((len(MAG), len(COLOR)))\n",
    "#VALUE3 = np.zeros((len(MAG), len(COLOR))) - 9999\n",
    "Mask1 = np.zeros((len(MAG), len(COLOR)))\n",
    "\n",
    "#Colors     = []\n",
    "#Magnitudes = []\n",
    "#HexVals    = []\n",
    "Percent1 = []\n",
    "Percent2 = []\n",
    "NumberT  = []\n",
    "\n",
    "for i in range(len(COLOR)):\n",
    "\tfor j in range(len(MAG)):\n",
    "\t\tlen1 = len(T2[( (T2['IMAG'] - T2['ZMAG'] > COLOR[i])  )])\n",
    "\t\tlen2 =  len(T2[( (T2['W2MPRO'] - T2['ZMAG'] > COLOR[i])  )])\n",
    "\n",
    "\t\tif len1 == 0:\n",
    "\t\t\t#VALUE.append(np.nan)\n",
    "\t\t\tVALUE[j][i] = np.nan\n",
    "\t\t\tMask1[j][i] = 1\n",
    "\t\t\t#Colors.append(COLOR[i]+step1)\n",
    "\t\t\t#Magnitudes.append(MAG[j]+step2)\n",
    "\t\t\t#HexVals.append(np.nan)\n",
    "\t\telse:\n",
    "\t\t\t#VALUE.append( float(len2) / float(len1) )\n",
    "\t\t\tVALUE[j][i] = float(len2) / float(len1)\n",
    "\t\t\t#VALUE3[j][i] = float(len2) / float(len1)\n",
    "\t\t\t#Colors.append(COLOR[i]+step1)\n",
    "\t\t\t#Magnitudes.append(MAG[j]+step2)\n",
    "\t\t\t#HexVals.append(float(len2) / float(len1))\n",
    "\t\t\t#if MAG[j] <= 20: \n",
    "\t\t\t#\tPercent1.append(float(len2) / float(len1))\n",
    "\t\t\t#\tNumberT.append(len1)\n",
    "\t\t\tif MAG[j] > 20: \n",
    "\t\t\t\tPercent2.append(float(len2) / float(len1))\n",
    "\n",
    "\t\t\t#print COLOR[i], MAG[j], len1, float(len2) / float(len1)\n",
    "\n",
    "\t\t\t#if COLOR[i] == 2.5: print i, j, COLOR[i], MAG[j], len1, len2, float(len2) / float(len1)\n",
    "\t\t\tif float(len2) / float(len1) < 0.5: plt.text(COLOR[i]+step1/2., MAG[j]+step2/2., '%s'%len1, ha='center', va='center', fontsize=7, color='w')\n",
    "\t\t\telse: plt.text(COLOR[i]+step1/2., MAG[j]+step2/2., '%s'%len1, ha='center', va='center', fontsize=7, color='k')\n",
    "\t\t\t#ax.text(COLOR[i]+step1/2., MAG[j]+step2/2., '%s'%len1, ha='center', va='center', fontsize=7, color='w')\n",
    "\t\t\t#plt.text(COLOR[i]+step1/2., MAG[j]+step2/2., '%0.3f'%(float(len2) / float(len1)), ha='center', va='center', fontsize=7, color='w')\n",
    "\n",
    "VALUE2 = np.ma.array(VALUE, mask=Mask1)\n",
    "#plt.hexbin(Colors, Magnitudes, C=HexVals)\n",
    "#cax = ax.pcolormesh(COLOR, MAG, VALUE2, vmin=0, vmax=1, cmap='copper')\n",
    "cax = ax.pcolormesh(COLOR, MAG, VALUE2, vmin=0, vmax=1, cmap='cubehelix')\n",
    "plt.axis('tight')\n",
    "#axis = plt.gca()\n",
    "#axis.set_aspect('equal')\n",
    "#plt.pcolormesh(COLOR, MAG, VALUE2, vmin=0, vmax=1, cmap='magma')\n",
    "#plt.pcolor(COLOR, MAG, VALUE3, vmin=0, vmax=1, cmap='copper')\n",
    "\n",
    "#fig.tight_layout()\n",
    "\n",
    "ymin, ymax = plt.ylim()\n",
    "\n",
    "xp = np.linspace(1, 2.9)\n",
    "m10 = 7.13 + 4.88*xp\n",
    "m100 = m10 + 5*np.log10(100) - 5\n",
    "m200 = m10 + 5*np.log10(200) - 5\n",
    "\n",
    "#plt.plot(xp, m10, 'r--')\n",
    "#plt.plot(xp, m100, 'r:')\n",
    "#plt.plot(xp, m200, 'r-.')\n",
    "\n",
    "\n",
    "#ax.plot(rz1, imags2, 'r--', lw=1)\n",
    "#ax.plot(rz1, imagsT, 'r--', lw=1)\n",
    "\n",
    "#ax.text(2.7, 21.75,'20 pc', fontsize=8, weight='extra bold', color='r')\n",
    "#ax.text(2.3, 21.75,'50 pc', fontsize=8, weight='extra bold', color='r')\n",
    "#ax.text(2.0, 21.75,'100 pc', fontsize=8, weight='extra bold', color='r')\n",
    "#ax.text(1.4, 21.75,'400 pc', fontsize=8, weight='extra bold', color='r')\n",
    "\n",
    "#plt.plot([1,3], [20,20], 'r:', lw=1)\n",
    "#plt.text(2.6, 19.9,'Gaia limit', fontsize=6, weight='extra bold', color='r')\n",
    "######\n",
    "\n",
    "ax.minorticks_on()\n",
    "\n",
    "ax.set_ylim(ymax, ymin)\n",
    "cbar = plt.colorbar(cax)\n",
    "cbar.set_label('Fraction of LaTE-MoVeRS Sources' + '\\n' + 'with Parallaxes in $Gaia$ DR2')\n",
    "#cbar.set_clim(0, 1.2)"
   ]
  },
  {
   "cell_type": "code",
   "execution_count": null,
   "metadata": {},
   "outputs": [],
   "source": []
  }
 ],
 "metadata": {
  "kernelspec": {
   "display_name": "Python 3",
   "language": "python",
   "name": "python3"
  },
  "language_info": {
   "codemirror_mode": {
    "name": "ipython",
    "version": 3
   },
   "file_extension": ".py",
   "mimetype": "text/x-python",
   "name": "python",
   "nbconvert_exporter": "python",
   "pygments_lexer": "ipython3",
   "version": "3.8.3"
  }
 },
 "nbformat": 4,
 "nbformat_minor": 4
}
