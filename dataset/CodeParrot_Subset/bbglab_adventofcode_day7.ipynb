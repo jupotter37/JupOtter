{
 "cells": [
  {
   "cell_type": "markdown",
   "metadata": {},
   "source": [
    "# Day 7"
   ]
  },
  {
   "cell_type": "markdown",
   "metadata": {
    "ExecuteTime": {
     "end_time": "2017-12-03T00:53:13.569737",
     "start_time": "2017-12-03T00:53:13.558938"
    }
   },
   "source": [
    "## Day 7.1"
   ]
  },
  {
   "cell_type": "raw",
   "metadata": {},
   "source": [
    "Each wire has an identifier (some lowercase letters) and can carry a 16-bit signal (a number from 0 to 65535). A signal is provided to each wire by a gate, another wire, or some specific value. Each wire can only get a signal from one source, but can provide its signal to multiple destinations. A gate provides no signal until all of its inputs have a signal.\n",
    "\n",
    "The included instructions booklet describes how to connect the parts together: \n",
    "x AND y -> z means to connect wires x and y to an AND gate, and then connect its output to wire z.\n",
    "\n",
    "For example:\n",
    "\n",
    "123 -> x means that the signal 123 is provided to wire x.\n",
    "\n",
    "x AND y -> z means that the bitwise AND of wire x and wire y is provided to wire z.\n",
    "\n",
    "p LSHIFT 2 -> q means that the value from wire p is left-shifted by 2 and then provided to wire q.\n",
    "\n",
    "NOT e -> f means that the bitwise complement of the value from wire e is provided to wire f.\n",
    "\n",
    "Other possible gates include OR (bitwise OR) and RSHIFT (right-shift). If, for some reason, \n",
    "you'd like to emulate the circuit instead, almost all programming languages (for example, C, \n",
    "JavaScript, or Python) provide operators for these gates.\n",
    "\n",
    "In little Bobby's kit's instructions booklet (provided as your puzzle input), \n",
    "what signal is ultimately provided to wire a?"
   ]
  },
  {
   "cell_type": "markdown",
   "metadata": {
    "ExecuteTime": {
     "end_time": "2017-12-06T17:57:41.458923",
     "start_time": "2017-12-06T17:57:41.348098"
    }
   },
   "source": [
    "## Approach 1: Create a single expression by recursive substitution, then evaluate!"
   ]
  },
  {
   "cell_type": "code",
   "execution_count": 20,
   "metadata": {
    "ExecuteTime": {
     "end_time": "2017-12-06T17:57:42.343186",
     "start_time": "2017-12-06T17:57:42.328767"
    },
    "collapsed": true
   },
   "outputs": [],
   "source": [
    "binary_command = {'NOT': '~', 'AND': '&', 'OR': '|', 'LSHIFT': '<<', 'RSHIFT': '>>'}\n",
    "operators = binary_command.values()"
   ]
  },
  {
   "cell_type": "code",
   "execution_count": 21,
   "metadata": {
    "ExecuteTime": {
     "end_time": "2017-12-06T17:57:43.030348",
     "start_time": "2017-12-06T17:57:42.963047"
    },
    "collapsed": true
   },
   "outputs": [],
   "source": [
    "import csv\n",
    "\n",
    "def translate(l):\n",
    "    return [binary_command[a] if a in binary_command else a for a in l]\n",
    "\n",
    "def display(input_file):\n",
    "\n",
    "    \"\"\"produce a dict mapping variables to expressions\"\"\"\n",
    "    \n",
    "    commands = []\n",
    "    with open(input_file, 'rt') as f_input:\n",
    "        csv_reader = csv.reader(f_input, delimiter=' ')\n",
    "        for line in csv_reader:\n",
    "            commands.append((line[-1], ' '.join(list(translate(line[:-2])))))\n",
    "    return dict(commands)"
   ]
  },
  {
   "cell_type": "code",
   "execution_count": 32,
   "metadata": {
    "ExecuteTime": {
     "end_time": "2017-12-06T18:00:38.882285",
     "start_time": "2017-12-06T18:00:38.839903"
    },
    "collapsed": true
   },
   "outputs": [],
   "source": [
    "import re\n",
    "\n",
    "def extract_variables(expr):\n",
    "    varbls = []\n",
    "    regex_pattern = '\\s|\\\\)|\\\\('\n",
    "    l = re.split(regex_pattern, expr)\n",
    "    for a in l:\n",
    "        if (a not in operators) and (not a.isnumeric()) and (a != ''):\n",
    "            varbls.append(a)\n",
    "    return set(varbls)\n",
    "\n",
    "\n",
    "def create_instance(wire):\n",
    "    exec_python = commands[wire]\n",
    "    pending = extract_variables(commands[wire])\n",
    "    count = 0\n",
    "    while pending and (count < 200):\n",
    "        s = pending.pop()\n",
    "        expr = commands[s]\n",
    "        exec_python = re.sub('({0})'.format(s), '( {0} )'.format(expr), exec_python)\n",
    "        pending = pending.union(extract_variables(exec_python))\n",
    "        count += 1\n",
    "    return wire + ' = ' + exec_python\n",
    "\n",
    "def evaluate(var):\n",
    "    instance = create_instance(var)\n",
    "    exec(instance)\n",
    "    return np.uint16(locals()[var])"
   ]
  },
  {
   "cell_type": "markdown",
   "metadata": {},
   "source": [
    "### Test"
   ]
  },
  {
   "cell_type": "raw",
   "metadata": {},
   "source": [
    "For example, here is a simple circuit:\n",
    "\n",
    "123 -> x\n",
    "456 -> y\n",
    "x AND y -> d\n",
    "x OR y -> e\n",
    "x LSHIFT 2 -> f\n",
    "y RSHIFT 2 -> g\n",
    "NOT x -> h\n",
    "NOT y -> i\n",
    "\n",
    "After it is run, these are the signals on the wires:\n",
    "\n",
    "d: 72\n",
    "e: 507\n",
    "f: 492\n",
    "g: 114\n",
    "h: 65412\n",
    "i: 65079\n",
    "x: 123\n",
    "y: 456"
   ]
  },
  {
   "cell_type": "code",
   "execution_count": 40,
   "metadata": {
    "ExecuteTime": {
     "end_time": "2017-12-06T18:06:30.935672",
     "start_time": "2017-12-06T18:06:30.923935"
    },
    "collapsed": true
   },
   "outputs": [],
   "source": [
    "commands = display('inputs/input7.test.txt')"
   ]
  },
  {
   "cell_type": "code",
   "execution_count": 41,
   "metadata": {
    "ExecuteTime": {
     "end_time": "2017-12-06T18:06:32.080710",
     "start_time": "2017-12-06T18:06:32.049500"
    },
    "collapsed": true
   },
   "outputs": [],
   "source": [
    "def test():\n",
    "    assert(evaluate('d') == 72)\n",
    "    assert(evaluate('e') == 507)\n",
    "    assert(evaluate('f') == 492)\n",
    "    assert(evaluate('g') == 114)\n",
    "    assert(evaluate('h') == 65412)\n",
    "    assert(evaluate('i') == 65079)\n",
    "    assert(evaluate('x') == 123)\n",
    "    assert(evaluate('y') == 456)"
   ]
  },
  {
   "cell_type": "code",
   "execution_count": 42,
   "metadata": {
    "ExecuteTime": {
     "end_time": "2017-12-06T18:06:33.347008",
     "start_time": "2017-12-06T18:06:33.331492"
    },
    "collapsed": true
   },
   "outputs": [],
   "source": [
    "test()"
   ]
  },
  {
   "cell_type": "markdown",
   "metadata": {},
   "source": [
    "This approach seems correct, but it creates huge expressions along the way that become harder and harder to parse. Thus the time to a final expression that wraps up all the computations is very long. Two ideas to carry on: i) concurrent evaluation of expressions; ii) define lazy variables/functions that collect all the dependencies of the circuit and start firing upon request.\n",
    "\n",
    "## Approach 2: Concurrent evaluation from known variables.\n",
    "\n",
    "The solution provided hereto owes credit to this source: https://www.reddit.com/r/adventofcode/comments/5id6w0/2015_day_7_part_1_python_wrong_answer/"
   ]
  },
  {
   "cell_type": "code",
   "execution_count": 21,
   "metadata": {
    "ExecuteTime": {
     "end_time": "2017-12-08T07:15:26.237202",
     "start_time": "2017-12-08T07:15:26.139202"
    },
    "collapsed": true
   },
   "outputs": [],
   "source": [
    "import numpy as np\n",
    "\n",
    "def RSHIFT(a, b):\n",
    "    result = np.uint16(a) >> int(b)\n",
    "    return int(result)\n",
    "\n",
    "def LSHIFT(a, b):\n",
    "    result = np.uint16(a) << int(b)\n",
    "    return int(result)\n",
    "\n",
    "def OR(a, b):\n",
    "    result = np.uint16(a) | np.uint16(b)\n",
    "    return int(result)\n",
    "\n",
    "def AND(a, b):\n",
    "    result = np.uint16(a) & np.uint16(b)\n",
    "    return int(result)\n",
    "\n",
    "def NOT(a):\n",
    "    result = ~ np.uint16(a)\n",
    "    return int(result)"
   ]
  },
  {
   "cell_type": "code",
   "execution_count": 28,
   "metadata": {
    "ExecuteTime": {
     "end_time": "2017-12-08T07:30:30.407222",
     "start_time": "2017-12-08T07:30:30.365189"
    },
    "collapsed": true
   },
   "outputs": [],
   "source": [
    "import csv\n",
    "def display(input_file):\n",
    "\n",
    "    \"\"\"produce a dict mapping variables to expressions\"\"\"\n",
    "    \n",
    "    commands = []\n",
    "    with open(input_file, 'rt') as f_input:\n",
    "        csv_reader = csv.reader(f_input, delimiter=' ')\n",
    "        for line in csv_reader:\n",
    "            commands.append((line[-1], line[:-2]))\n",
    "    return dict(commands)"
   ]
  },
  {
   "cell_type": "code",
   "execution_count": 105,
   "metadata": {
    "ExecuteTime": {
     "end_time": "2017-12-06T20:01:50.605011",
     "start_time": "2017-12-06T20:01:50.553116"
    },
    "collapsed": true
   },
   "outputs": [],
   "source": [
    "def evaluate(wire):\n",
    "    known = {}\n",
    "    while wire not in known:\n",
    "        if wire in known:\n",
    "            break\n",
    "        for k, v in commands.items():\n",
    "            if (len(v) == 1) and (v[0].isnumeric()) and (k not in known):\n",
    "                known[k] = int(v[0])\n",
    "            elif (len(v) == 1) and (v[0] in known) and (k not in known):\n",
    "                known[k] = known[v[0]]\n",
    "            elif ('AND' in v) and (v[0] in known) and (v[2] in known):\n",
    "                known[k] = AND(known[v[0]], known[v[2]])\n",
    "            elif ('AND' in v) and (v[0].isnumeric()) and (v[2] in known):\n",
    "                known[k] = AND(int(v[0]), known[v[2]])\n",
    "            elif ('AND' in v) and (v[0] in known) and (v[2].isnumeric()):\n",
    "                known[k] = AND(known[v[0]], int(v[2]))\n",
    "            elif ('OR' in v) and (v[0] in known) and (v[2] in known):\n",
    "                known[k] = OR(known[v[0]], known[v[2]])\n",
    "            elif ('OR' in v) and (v[0].isnumeric()) and (v[2] in known):\n",
    "                known[k] = OR(int(v[0]), known[v[2]])\n",
    "            elif ('OR' in v) and (v[0] in known) and (v[2].isnumeric()):\n",
    "                known[k] = OR(known[v[0]], int(v[2]))\n",
    "            elif ('LSHIFT' in v) and (v[0] in known):\n",
    "                known[k] = LSHIFT(known[v[0]], v[2])\n",
    "            elif ('RSHIFT' in v) and (v[0] in known):\n",
    "                known[k] = RSHIFT(known[v[0]], v[2])\n",
    "            elif ('NOT' in v) and (v[1] in known):\n",
    "                known[k] = NOT(known[v[1]])\n",
    "    return known[wire]"
   ]
  },
  {
   "cell_type": "markdown",
   "metadata": {},
   "source": [
    "### Test 0"
   ]
  },
  {
   "cell_type": "code",
   "execution_count": 107,
   "metadata": {
    "ExecuteTime": {
     "end_time": "2017-12-06T20:01:52.487286",
     "start_time": "2017-12-06T20:01:52.471497"
    }
   },
   "outputs": [
    {
     "data": {
      "text/plain": [
       "{'a': ['b'], 'b': ['1', 'OR', 'x'], 'x': ['12']}"
      ]
     },
     "execution_count": 107,
     "metadata": {},
     "output_type": "execute_result"
    }
   ],
   "source": [
    "commands = display('inputs/input7.test1.txt')\n",
    "commands"
   ]
  },
  {
   "cell_type": "code",
   "execution_count": 108,
   "metadata": {
    "ExecuteTime": {
     "end_time": "2017-12-06T20:01:54.197916",
     "start_time": "2017-12-06T20:01:54.180599"
    }
   },
   "outputs": [
    {
     "data": {
      "text/plain": [
       "13"
      ]
     },
     "execution_count": 108,
     "metadata": {},
     "output_type": "execute_result"
    }
   ],
   "source": [
    "evaluate('a')"
   ]
  },
  {
   "cell_type": "markdown",
   "metadata": {},
   "source": [
    "### Test 1"
   ]
  },
  {
   "cell_type": "code",
   "execution_count": 109,
   "metadata": {
    "ExecuteTime": {
     "end_time": "2017-12-06T20:02:43.369787",
     "start_time": "2017-12-06T20:02:43.353700"
    }
   },
   "outputs": [
    {
     "data": {
      "text/plain": [
       "{'d': ['x', 'AND', 'y'],\n",
       " 'e': ['x', 'OR', 'y'],\n",
       " 'f': ['x', 'LSHIFT', '2'],\n",
       " 'g': ['y', 'RSHIFT', '2'],\n",
       " 'h': ['NOT', 'x'],\n",
       " 'i': ['NOT', 'y'],\n",
       " 'x': ['123'],\n",
       " 'y': ['456']}"
      ]
     },
     "execution_count": 109,
     "metadata": {},
     "output_type": "execute_result"
    }
   ],
   "source": [
    "commands = display('inputs/input7.test2.txt')\n",
    "commands"
   ]
  },
  {
   "cell_type": "code",
   "execution_count": 110,
   "metadata": {
    "ExecuteTime": {
     "end_time": "2017-12-06T20:02:58.902949",
     "start_time": "2017-12-06T20:02:58.890052"
    },
    "collapsed": true
   },
   "outputs": [],
   "source": [
    "test()"
   ]
  },
  {
   "cell_type": "markdown",
   "metadata": {
    "ExecuteTime": {
     "end_time": "2017-12-06T19:23:28.534800",
     "start_time": "2017-12-06T19:23:28.520311"
    }
   },
   "source": [
    "### Solution"
   ]
  },
  {
   "cell_type": "code",
   "execution_count": 111,
   "metadata": {
    "ExecuteTime": {
     "end_time": "2017-12-06T20:03:21.167476",
     "start_time": "2017-12-06T20:03:21.058917"
    }
   },
   "outputs": [
    {
     "data": {
      "text/plain": [
       "16076"
      ]
     },
     "execution_count": 111,
     "metadata": {},
     "output_type": "execute_result"
    }
   ],
   "source": [
    "commands = display('inputs/input7.txt')\n",
    "evaluate('a')"
   ]
  },
  {
   "cell_type": "markdown",
   "metadata": {},
   "source": [
    "## Approach 3: With Lazy Variable Wrapper (Python)"
   ]
  },
  {
   "cell_type": "code",
   "execution_count": 3,
   "metadata": {
    "ExecuteTime": {
     "end_time": "2017-12-31T01:38:32.098882",
     "start_time": "2017-12-31T01:38:31.951622"
    },
    "collapsed": true
   },
   "outputs": [],
   "source": [
    "import csv\n",
    "import numpy as np\n",
    "\n",
    "def display(input_file):\n",
    "\n",
    "    \"\"\"produce a dict mapping variables to expressions\"\"\"\n",
    "    \n",
    "    commands = []\n",
    "    with open(input_file, 'rt') as f_input:\n",
    "        csv_reader = csv.reader(f_input, delimiter=' ')\n",
    "        for line in csv_reader:\n",
    "            commands.append((line[-1], line[:-2]))\n",
    "    return dict(commands)"
   ]
  },
  {
   "cell_type": "code",
   "execution_count": 2,
   "metadata": {
    "ExecuteTime": {
     "end_time": "2017-12-30T19:08:31.642321",
     "start_time": "2017-12-30T19:08:31.608954"
    },
    "collapsed": true
   },
   "outputs": [],
   "source": [
    "class LazyVar(object):\n",
    "    def __init__(self, func):\n",
    "        self.func = func\n",
    "        self.value = None\n",
    "    def __call__(self):\n",
    "        if self.value is None:\n",
    "            self.value = self.func()\n",
    "        return self.value"
   ]
  },
  {
   "cell_type": "code",
   "execution_count": 3,
   "metadata": {
    "ExecuteTime": {
     "end_time": "2017-12-30T19:08:32.359581",
     "start_time": "2017-12-30T19:08:32.317599"
    },
    "collapsed": true
   },
   "outputs": [],
   "source": [
    "binary_command = {'NOT': '~', 'AND': '&', 'OR': '|', 'LSHIFT': '<<', 'RSHIFT': '>>'}\n",
    "\n",
    "def translate(l):\n",
    "    translated = []\n",
    "    for a in l:\n",
    "        if a in binary_command:\n",
    "            b = binary_command[a]\n",
    "        elif a.isnumeric():\n",
    "            b = 'np.uint16({})'.format(a)\n",
    "        else:\n",
    "            b = '{}.func()'.format('var_' + a)\n",
    "        translated.append(b)\n",
    "    return translated"
   ]
  },
  {
   "cell_type": "markdown",
   "metadata": {},
   "source": [
    "### Test"
   ]
  },
  {
   "cell_type": "code",
   "execution_count": 4,
   "metadata": {
    "ExecuteTime": {
     "end_time": "2017-12-30T19:08:34.524194",
     "start_time": "2017-12-30T19:08:34.515920"
    },
    "collapsed": true
   },
   "outputs": [],
   "source": [
    "commands = display('inputs/input7.test2.txt')"
   ]
  },
  {
   "cell_type": "code",
   "execution_count": 5,
   "metadata": {
    "ExecuteTime": {
     "end_time": "2017-12-30T19:08:36.516854",
     "start_time": "2017-12-30T19:08:36.505678"
    }
   },
   "outputs": [
    {
     "name": "stdout",
     "output_type": "stream",
     "text": [
      "var_y = LazyVar(lambda: np.uint16(456))\n",
      "var_d = LazyVar(lambda: var_x.func()&var_y.func())\n",
      "var_i = LazyVar(lambda: ~var_y.func())\n",
      "var_h = LazyVar(lambda: ~var_x.func())\n",
      "var_e = LazyVar(lambda: var_x.func()|var_y.func())\n",
      "var_f = LazyVar(lambda: var_x.func()<<np.uint16(2))\n",
      "var_x = LazyVar(lambda: np.uint16(123))\n",
      "var_g = LazyVar(lambda: var_y.func()>>np.uint16(2))\n"
     ]
    }
   ],
   "source": [
    "commands = display('inputs/input7.test2.txt')\n",
    "for k, v in commands.items():\n",
    "    command_str = '{0} = LazyVar(lambda: {1})'.format('var_' + k, ''.join(translate(v)))\n",
    "    print(command_str)\n",
    "    exec(command_str)"
   ]
  },
  {
   "cell_type": "code",
   "execution_count": 6,
   "metadata": {
    "ExecuteTime": {
     "end_time": "2017-12-30T19:08:40.918078",
     "start_time": "2017-12-30T19:08:40.898021"
    },
    "collapsed": true
   },
   "outputs": [],
   "source": [
    "def test():\n",
    "    assert(var_d.func() == 72)\n",
    "    assert(var_e.func() == 507)\n",
    "    assert(var_f.func() == 492)\n",
    "    assert(var_g.func() == 114)\n",
    "    assert(var_h.func() == 65412)\n",
    "    assert(var_i.func() == 65079)\n",
    "    assert(var_x.func() == 123)\n",
    "    assert(var_y.func() == 456)"
   ]
  },
  {
   "cell_type": "code",
   "execution_count": 7,
   "metadata": {
    "ExecuteTime": {
     "end_time": "2017-12-30T19:08:42.166571",
     "start_time": "2017-12-30T19:08:42.154350"
    },
    "collapsed": true
   },
   "outputs": [],
   "source": [
    "test()"
   ]
  },
  {
   "cell_type": "markdown",
   "metadata": {
    "ExecuteTime": {
     "end_time": "2017-12-08T08:26:39.739687",
     "start_time": "2017-12-08T07:50:42.324115"
    }
   },
   "source": [
    "Although the approach passes the test, it does not end in reasonable time for the full input."
   ]
  },
  {
   "cell_type": "markdown",
   "metadata": {},
   "source": [
    "## Approach 4: With Lazy Evaluation in R\n",
    "\n",
    "The approach now is to exploit the lazy evaluation capabilities in R. So we leverage Python to create an R script that does the job."
   ]
  },
  {
   "cell_type": "code",
   "execution_count": 35,
   "metadata": {
    "ExecuteTime": {
     "end_time": "2017-12-31T01:59:24.152488",
     "start_time": "2017-12-31T01:59:24.107037"
    },
    "collapsed": true
   },
   "outputs": [],
   "source": [
    "def rscript_command(var, l):\n",
    "    vocab =  {'AND'    : 'bitwAnd', \n",
    "              'OR'     : 'bitwOr',\n",
    "              'LSHIFT' : 'bitwShiftL',\n",
    "              'RSHIFT' : 'bitwShiftR'}\n",
    "    if len(l) == 3:\n",
    "        func = vocab[l[1]]\n",
    "        arg1 = l[0] if l[0].isdigit() else 'var_' + l[0] + '()'\n",
    "        arg2 = l[2] if l[2].isdigit() else 'var_' + l[2] + '()'\n",
    "        return 'var_{0} <- function(a={1}, b={2})'.format(var, arg1, arg2) + ' {' + '{0}(a,b)'.format(func) + '}'\n",
    "    elif len(l) == 2:\n",
    "        func = 'bitwNot'\n",
    "        arg1 = l[1] if l[1].isdigit() else 'var_' + l[1] + '()'\n",
    "        return 'var_{0} <- function(a={1})'.format(var, arg1) + ' {' + '{0}(a)'.format(func) + '}'\n",
    "    else:\n",
    "        arg1 = l[0] if l[0].isdigit() else 'var_' + l[0] + '()'\n",
    "        return 'var_{0} <- function(a={1})'.format(var, arg1) + ' {' + 'a' + '}'\n",
    "\n",
    "def generate_rscript(commands, target):\n",
    "    with open('day7_commands.R', 'wt') as f:\n",
    "        for k, v in commands.items():\n",
    "            f.write(rscript_command(k, v)+'\\n')\n",
    "        f.write('var_' + target + '()')"
   ]
  },
  {
   "cell_type": "markdown",
   "metadata": {},
   "source": [
    "### Test"
   ]
  },
  {
   "cell_type": "code",
   "execution_count": 36,
   "metadata": {
    "ExecuteTime": {
     "end_time": "2017-12-31T01:59:25.144750",
     "start_time": "2017-12-31T01:59:25.131095"
    }
   },
   "outputs": [],
   "source": [
    "commands = display('inputs/input7.test2.txt')\n",
    "generate_rscript(commands, 'd')"
   ]
  },
  {
   "cell_type": "code",
   "execution_count": 37,
   "metadata": {
    "ExecuteTime": {
     "end_time": "2017-12-31T01:59:25.655145",
     "start_time": "2017-12-31T01:59:25.530878"
    }
   },
   "outputs": [
    {
     "name": "stdout",
     "output_type": "stream",
     "text": [
      "var_g <- function(a=var_y(), b=2) {bitwShiftR(a,b)}\r\n",
      "var_x <- function(a=123) {a}\r\n",
      "var_e <- function(a=var_x(), b=var_y()) {bitwOr(a,b)}\r\n",
      "var_f <- function(a=var_x(), b=2) {bitwShiftL(a,b)}\r\n",
      "var_i <- function(a=var_y()) {bitwNot(a)}\r\n",
      "var_d <- function(a=var_x(), b=var_y()) {bitwAnd(a,b)}\r\n",
      "var_y <- function(a=456) {a}\r\n",
      "var_h <- function(a=var_x()) {bitwNot(a)}\r\n",
      "var_d()"
     ]
    }
   ],
   "source": [
    "! cat day7_commands.R"
   ]
  },
  {
   "cell_type": "code",
   "execution_count": 38,
   "metadata": {
    "ExecuteTime": {
     "end_time": "2017-12-31T01:59:36.410354",
     "start_time": "2017-12-31T01:59:36.189219"
    }
   },
   "outputs": [
    {
     "name": "stdout",
     "output_type": "stream",
     "text": [
      "[1] 72\r\n"
     ]
    }
   ],
   "source": [
    "!Rscript day7_commands.R"
   ]
  },
  {
   "cell_type": "markdown",
   "metadata": {},
   "source": [
    "### Solution"
   ]
  },
  {
   "cell_type": "code",
   "execution_count": 39,
   "metadata": {
    "ExecuteTime": {
     "end_time": "2017-12-31T01:59:48.924106",
     "start_time": "2017-12-31T01:59:48.902136"
    },
    "collapsed": true
   },
   "outputs": [],
   "source": [
    "commands = display('inputs/input7.txt')\n",
    "generate_rscript(commands, 'a')"
   ]
  },
  {
   "cell_type": "code",
   "execution_count": 40,
   "metadata": {
    "ExecuteTime": {
     "end_time": "2017-12-31T02:00:10.488852",
     "start_time": "2017-12-31T02:00:10.365096"
    }
   },
   "outputs": [
    {
     "name": "stdout",
     "output_type": "stream",
     "text": [
      "var_ak <- function(a=var_x(), b=var_ai()) {bitwAnd(a,b)}\r\n",
      "var_ck <- function(a=var_ci(), b=3) {bitwShiftR(a,b)}\r\n",
      "var_ed <- function(a=var_ea(), b=var_eb()) {bitwAnd(a,b)}\r\n",
      "var_li <- function(a=var_lf(), b=5) {bitwShiftR(a,b)}\r\n",
      "var_ce <- function(a=var_bk(), b=1) {bitwShiftL(a,b)}\r\n",
      "var_co <- function(a=var_cn()) {bitwNot(a)}\r\n",
      "var_fq <- function(a=var_fo(), b=3) {bitwShiftR(a,b)}\r\n",
      "var_l <- function(a=var_d(), b=var_j()) {bitwAnd(a,b)}\r\n",
      "var_et <- function(a=var_er(), b=var_es()) {bitwOr(a,b)}\r\n",
      "var_ik <- function(a=var_ih(), b=var_ij()) {bitwAnd(a,b)}\r\n",
      "var_bi <- function(a=1, b=var_bh()) {bitwAnd(a,b)}\r\n",
      "var_bu <- function(a=var_br(), b=var_bt()) {bitwAnd(a,b)}\r\n",
      "var_kg <- function(a=var_jm(), b=1) {bitwShiftL(a,b)}\r\n",
      "var_ih <- function(a=var_ia(), b=var_ig()) {bitwOr(a,b)}\r\n",
      "var_hg <- function(a=var_he(), b=3) {bitwShiftR(a,b)}\r\n",
      "var_kx <- function(a=var_kk(), b=var_kv()) {bitwAnd(a,b)}\r\n",
      "var_ae <- function(a=var_ab(), b=var_ad()) {bitwAnd(a,b)}\r\n",
      "var_iy <- function(a=var_iw(), b=var_ix()) {bitwOr(a,b)}\r\n",
      "var_dm <- function(a=var_de(), b=var_dk()) {bitwAnd(a,b)}\r\n",
      "var_bh <- function(a=var_be(), b=var_bg()) {bitwAnd(a,b)}\r\n",
      "var_io <- function(a=var_il(), b=var_in()) {bitwAnd(a,b)}\r\n",
      "var_jn <- function(a=var_iu(), b=1) {bitwShiftR(a,b)}\r\n",
      "var_iq <- function(a=var_hw(), b=1) {bitwShiftL(a,b)}\r\n",
      "var_jq <- function(a=var_jp(), b=2) {bitwShiftR(a,b)}\r\n",
      "var_fl <- function(a=var_fk(), b=var_fj()) {bitwOr(a,b)}\r\n",
      "var_fi <- function(a=var_ff(), b=var_fh()) {bitwAnd(a,b)}\r\n",
      "var_gs <- function(a=var_gk(), b=var_gq()) {bitwAnd(a,b)}\r\n",
      "var_gj <- function(a=var_gh(), b=var_gi()) {bitwOr(a,b)}\r\n",
      "var_ld <- function(a=var_kk(), b=1) {bitwShiftR(a,b)}\r\n",
      "var_cl <- function(a=var_ci(), b=5) {bitwShiftR(a,b)}\r\n",
      "var_ei <- function(a=var_eh()) {bitwNot(a)}\r\n",
      "var_is <- function(a=var_hz(), b=1) {bitwShiftR(a,b)}\r\n",
      "var_bj <- function(a=var_ap(), b=1) {bitwShiftL(a,b)}\r\n",
      "var_ex <- function(a=var_ev(), b=var_ew()) {bitwOr(a,b)}\r\n",
      "var_ff <- function(a=var_et(), b=var_fe()) {bitwOr(a,b)}\r\n",
      "var_db <- function(a=var_ci(), b=1) {bitwShiftR(a,b)}\r\n",
      "var_kj <- function(a=var_kf(), b=15) {bitwShiftL(a,b)}\r\n",
      "var_fk <- function(a=var_eq(), b=1) {bitwShiftL(a,b)}\r\n",
      "var_ko <- function(a=var_km(), b=var_kn()) {bitwOr(a,b)}\r\n",
      "var_lp <- function(a=var_lo()) {bitwNot(a)}\r\n",
      "var_cw <- function(a=var_cv()) {bitwNot(a)}\r\n",
      "var_kc <- function(a=var_jp(), b=var_ka()) {bitwAnd(a,b)}\r\n",
      "var_kq <- function(a=var_kp()) {bitwNot(a)}\r\n",
      "var_ja <- function(a=var_iz()) {bitwNot(a)}\r\n",
      "var_hj <- function(a=var_hg(), b=var_hh()) {bitwAnd(a,b)}\r\n",
      "var_cs <- function(a=var_cr()) {bitwNot(a)}\r\n",
      "var_ag <- function(a=var_y(), b=var_ae()) {bitwAnd(a,b)}\r\n",
      "var_gl <- function(a=var_gj(), b=3) {bitwShiftR(a,b)}\r\n",
      "var_ay <- function(a=var_ax()) {bitwNot(a)}\r\n",
      "var_ii <- function(a=var_ia(), b=var_ig()) {bitwAnd(a,b)}\r\n",
      "var_gx <- function(a=var_gw()) {bitwNot(a)}\r\n",
      "var_ha <- function(a=var_gg(), b=1) {bitwShiftL(a,b)}\r\n",
      "var_jv <- function(a=var_ju()) {bitwNot(a)}\r\n",
      "var_es <- function(a=var_eo(), b=15) {bitwShiftL(a,b)}\r\n",
      "var_hd <- function(a=var_gz(), b=15) {bitwShiftL(a,b)}\r\n",
      "var_gz <- function(a=1, b=var_gy()) {bitwAnd(a,b)}\r\n",
      "var_am <- function(a=var_aj(), b=var_al()) {bitwAnd(a,b)}\r\n",
      "var_fs <- function(a=var_fq(), b=var_fr()) {bitwOr(a,b)}\r\n",
      "var_du <- function(a=var_da(), b=1) {bitwShiftL(a,b)}\r\n",
      "var_cb <- function(a=var_ca()) {bitwNot(a)}\r\n",
      "var_m <- function(a=var_l()) {bitwNot(a)}\r\n",
      "var_c <- function(a=0) {a}\r\n",
      "var_ma <- function(a=var_ly(), b=var_lz()) {bitwOr(a,b)}\r\n",
      "var_dc <- function(a=var_cy(), b=15) {bitwShiftL(a,b)}\r\n",
      "var_dg <- function(a=var_dd(), b=5) {bitwShiftR(a,b)}\r\n",
      "var_lw <- function(a=var_lc(), b=1) {bitwShiftL(a,b)}\r\n",
      "var_hh <- function(a=var_he(), b=5) {bitwShiftR(a,b)}\r\n",
      "var_ek <- function(a=var_dy(), b=var_ej()) {bitwOr(a,b)}\r\n",
      "var_bg <- function(a=var_bf()) {bitwNot(a)}\r\n",
      "var_ix <- function(a=var_iu(), b=5) {bitwShiftR(a,b)}\r\n",
      "var_kz <- function(a=var_kw(), b=var_ky()) {bitwAnd(a,b)}\r\n",
      "var_fb <- function(a=var_eu(), b=var_fa()) {bitwOr(a,b)}\r\n",
      "var_ey <- function(a=var_ev(), b=var_ew()) {bitwAnd(a,b)}\r\n",
      "var_bq <- function(a=var_bn(), b=5) {bitwShiftR(a,b)}\r\n",
      "var_jf <- function(a=var_jc(), b=var_je()) {bitwAnd(a,b)}\r\n",
      "var_fa <- function(a=var_ex(), b=var_ez()) {bitwAnd(a,b)}\r\n",
      "var_da <- function(a=var_cz(), b=var_cy()) {bitwOr(a,b)}\r\n",
      "var_u <- function(a=var_t(), b=var_s()) {bitwOr(a,b)}\r\n",
      "var_hn <- function(a=var_hf(), b=var_hl()) {bitwAnd(a,b)}\r\n",
      "var_dw <- function(a=var_dd(), b=1) {bitwShiftR(a,b)}\r\n",
      "var_gp <- function(a=var_go()) {bitwNot(a)}\r\n",
      "var_kd <- function(a=var_kc()) {bitwNot(a)}\r\n",
      "var_w <- function(a=var_s(), b=15) {bitwShiftL(a,b)}\r\n",
      "var_hk <- function(a=var_hj()) {bitwNot(a)}\r\n",
      "var_ht <- function(a=var_hq(), b=var_hs()) {bitwAnd(a,b)}\r\n",
      "var_ej <- function(a=var_eg(), b=var_ei()) {bitwAnd(a,b)}\r\n",
      "var_kh <- function(a=var_kg(), b=var_kf()) {bitwOr(a,b)}\r\n",
      "var_dx <- function(a=var_dt(), b=15) {bitwShiftL(a,b)}\r\n",
      "var_jg <- function(a=var_iu(), b=var_jf()) {bitwOr(a,b)}\r\n",
      "var_dq <- function(a=var_dd(), b=var_do()) {bitwAnd(a,b)}\r\n",
      "var_o <- function(a=var_b(), b=var_n()) {bitwOr(a,b)}\r\n",
      "var_js <- function(a=var_jp(), b=5) {bitwShiftR(a,b)}\r\n",
      "var_aq <- function(a=var_x(), b=1) {bitwShiftR(a,b)}\r\n",
      "var_cq <- function(a=var_cj(), b=var_cp()) {bitwOr(a,b)}\r\n",
      "var_dz <- function(a=var_dy(), b=2) {bitwShiftR(a,b)}\r\n",
      "var_be <- function(a=var_as(), b=var_bd()) {bitwOr(a,b)}\r\n",
      "var_lv <- function(a=1, b=var_lu()) {bitwAnd(a,b)}\r\n",
      "var_jw <- function(a=var_jt(), b=var_jv()) {bitwAnd(a,b)}\r\n",
      "var_bk <- function(a=var_bj(), b=var_bi()) {bitwOr(a,b)}\r\n",
      "var_jk <- function(a=1, b=var_jj()) {bitwAnd(a,b)}\r\n",
      "var_bw <- function(a=var_bo(), b=var_bu()) {bitwAnd(a,b)}\r\n",
      "var_jd <- function(a=var_iv(), b=var_jb()) {bitwAnd(a,b)}\r\n",
      "var_bo <- function(a=var_bn(), b=2) {bitwShiftR(a,b)}\r\n",
      "var_at <- function(a=var_as(), b=2) {bitwShiftR(a,b)}\r\n",
      "var_j <- function(a=var_g(), b=var_i()) {bitwAnd(a,b)}\r\n",
      "var_kf <- function(a=1, b=var_ke()) {bitwAnd(a,b)}\r\n",
      "var_ga <- function(a=var_fo(), b=var_fz()) {bitwOr(a,b)}\r\n",
      "var_ls <- function(a=var_lf(), b=var_lq()) {bitwAnd(a,b)}\r\n",
      "var_af <- function(a=var_y(), b=var_ae()) {bitwOr(a,b)}\r\n",
      "var_lg <- function(a=var_lf(), b=2) {bitwShiftR(a,b)}\r\n",
      "var_hc <- function(a=var_gj(), b=1) {bitwShiftR(a,b)}\r\n",
      "var_do <- function(a=var_dl(), b=var_dn()) {bitwAnd(a,b)}\r\n",
      "var_ji <- function(a=var_jh()) {bitwNot(a)}\r\n",
      "var_lc <- function(a=var_lb(), b=var_la()) {bitwOr(a,b)}\r\n",
      "var_ew <- function(a=var_et(), b=5) {bitwShiftR(a,b)}\r\n",
      "var_eo <- function(a=1, b=var_en()) {bitwAnd(a,b)}\r\n",
      "var_jz <- function(a=var_jy()) {bitwNot(a)}\r\n",
      "var_b <- function(a=19138) {a}\r\n",
      "var_aw <- function(a=var_au(), b=var_av()) {bitwOr(a,b)}\r\n",
      "var_au <- function(a=var_as(), b=3) {bitwShiftR(a,b)}\r\n",
      "var_cc <- function(a=var_bz(), b=var_cb()) {bitwAnd(a,b)}\r\n",
      "var_ju <- function(a=var_jr(), b=var_js()) {bitwAnd(a,b)}\r\n",
      "var_v <- function(a=var_b(), b=1) {bitwShiftR(a,b)}\r\n",
      "var_by <- function(a=var_bv(), b=var_bx()) {bitwAnd(a,b)}\r\n",
      "var_kk <- function(a=var_ki(), b=var_kj()) {bitwOr(a,b)}\r\n",
      "var_cn <- function(a=var_ck(), b=var_cl()) {bitwAnd(a,b)}\r\n",
      "var_ax <- function(a=var_au(), b=var_av()) {bitwAnd(a,b)}\r\n",
      "var_eu <- function(a=var_et(), b=2) {bitwShiftR(a,b)}\r\n",
      "var_fg <- function(a=var_et(), b=var_fe()) {bitwAnd(a,b)}\r\n",
      "var_el <- function(a=var_dy(), b=var_ej()) {bitwAnd(a,b)}\r\n",
      "var_bf <- function(a=var_as(), b=var_bd()) {bitwAnd(a,b)}\r\n",
      "var_lj <- function(a=var_lh(), b=var_li()) {bitwOr(a,b)}\r\n",
      "var_fw <- function(a=var_fp(), b=var_fv()) {bitwOr(a,b)}\r\n",
      "var_lh <- function(a=var_lf(), b=3) {bitwShiftR(a,b)}\r\n",
      "var_bb <- function(a=var_at(), b=var_az()) {bitwAnd(a,b)}\r\n",
      "var_in <- function(a=var_im()) {bitwNot(a)}\r\n",
      "var_jl <- function(a=var_ir(), b=1) {bitwShiftL(a,b)}\r\n",
      "var_en <- function(a=var_ek(), b=var_em()) {bitwAnd(a,b)}\r\n",
      "var_cg <- function(a=var_bn(), b=1) {bitwShiftR(a,b)}\r\n",
      "var_dd <- function(a=var_db(), b=var_dc()) {bitwOr(a,b)}\r\n",
      "var_gn <- function(a=var_gl(), b=var_gm()) {bitwOr(a,b)}\r\n",
      "var_ic <- function(a=var_hz(), b=5) {bitwShiftR(a,b)}\r\n",
      "var_bl <- function(a=var_as(), b=1) {bitwShiftR(a,b)}\r\n",
      "var_eq <- function(a=var_ep(), b=var_eo()) {bitwOr(a,b)}\r\n",
      "var_bv <- function(a=var_bo(), b=var_bu()) {bitwOr(a,b)}\r\n",
      "var_p <- function(a=var_b(), b=var_n()) {bitwAnd(a,b)}\r\n",
      "var_ab <- function(a=var_z(), b=var_aa()) {bitwOr(a,b)}\r\n",
      "var_gc <- function(a=var_gb()) {bitwNot(a)}\r\n",
      "var_eb <- function(a=var_dy(), b=5) {bitwShiftR(a,b)}\r\n",
      "var_fn <- function(a=var_fj(), b=15) {bitwShiftL(a,b)}\r\n",
      "var_g <- function(a=var_e(), b=var_f()) {bitwOr(a,b)}\r\n",
      "var_ep <- function(a=var_dv(), b=1) {bitwShiftL(a,b)}\r\n",
      "var_id <- function(a=var_ib(), b=var_ic()) {bitwOr(a,b)}\r\n",
      "var_ds <- function(a=var_dp(), b=var_dr()) {bitwAnd(a,b)}\r\n",
      "var_hu <- function(a=1, b=var_ht()) {bitwAnd(a,b)}\r\n",
      "var_le <- function(a=var_la(), b=15) {bitwShiftL(a,b)}\r\n",
      "var_df <- function(a=var_dd(), b=3) {bitwShiftR(a,b)}\r\n",
      "var_gv <- function(a=var_gj(), b=var_gu()) {bitwOr(a,b)}\r\n",
      "var_br <- function(a=var_bp(), b=var_bq()) {bitwOr(a,b)}\r\n",
      "var_jt <- function(a=var_jr(), b=var_js()) {bitwOr(a,b)}\r\n",
      "var_iw <- function(a=var_iu(), b=3) {bitwShiftR(a,b)}\r\n",
      "var_if <- function(a=var_ie()) {bitwNot(a)}\r\n",
      "var_ho <- function(a=var_hn()) {bitwNot(a)}\r\n",
      "var_ar <- function(a=var_an(), b=15) {bitwShiftL(a,b)}\r\n",
      "var_fu <- function(a=var_ft()) {bitwNot(a)}\r\n",
      "var_ef <- function(a=var_ec(), b=var_ee()) {bitwAnd(a,b)}\r\n",
      "var_hx <- function(a=var_he(), b=1) {bitwShiftR(a,b)}\r\n",
      "var_q <- function(a=var_p()) {bitwNot(a)}\r\n",
      "var_gd <- function(a=var_ga(), b=var_gc()) {bitwAnd(a,b)}\r\n",
      "var_bm <- function(a=var_bi(), b=15) {bitwShiftL(a,b)}\r\n",
      "var_im <- function(a=var_hz(), b=var_ik()) {bitwAnd(a,b)}\r\n",
      "var_cr <- function(a=var_cj(), b=var_cp()) {bitwAnd(a,b)}\r\n",
      "var_cv <- function(a=var_ci(), b=var_ct()) {bitwAnd(a,b)}\r\n",
      "var_cm <- function(a=var_ck(), b=var_cl()) {bitwOr(a,b)}\r\n",
      "var_jb <- function(a=var_iy(), b=var_ja()) {bitwAnd(a,b)}\r\n",
      "var_lf <- function(a=var_ld(), b=var_le()) {bitwOr(a,b)}\r\n",
      "var_fx <- function(a=var_fp(), b=var_fv()) {bitwAnd(a,b)}\r\n",
      "var_gf <- function(a=var_fl(), b=1) {bitwShiftL(a,b)}\r\n",
      "var_dr <- function(a=var_dq()) {bitwNot(a)}\r\n",
      "var_gg <- function(a=var_gf(), b=var_ge()) {bitwOr(a,b)}\r\n",
      "var_hr <- function(a=var_he(), b=var_hp()) {bitwAnd(a,b)}\r\n",
      "var_gm <- function(a=var_gj(), b=5) {bitwShiftR(a,b)}\r\n",
      "var_fj <- function(a=1, b=var_fi()) {bitwAnd(a,b)}\r\n",
      "var_cj <- function(a=var_ci(), b=2) {bitwShiftR(a,b)}\r\n",
      "var_f <- function(a=var_b(), b=5) {bitwShiftR(a,b)}\r\n",
      "var_an <- function(a=1, b=var_am()) {bitwAnd(a,b)}\r\n",
      "var_kr <- function(a=var_ko(), b=var_kq()) {bitwAnd(a,b)}\r\n",
      "var_fv <- function(a=var_fs(), b=var_fu()) {bitwAnd(a,b)}\r\n",
      "var_lo <- function(a=var_lg(), b=var_lm()) {bitwAnd(a,b)}\r\n",
      "var_ij <- function(a=var_ii()) {bitwNot(a)}\r\n",
      "var_kt <- function(a=var_kl(), b=var_kr()) {bitwAnd(a,b)}\r\n",
      "var_y <- function(a=var_x(), b=2) {bitwShiftR(a,b)}\r\n",
      "var_ao <- function(a=var_u(), b=1) {bitwShiftL(a,b)}\r\n",
      "var_lx <- function(a=var_lw(), b=var_lv()) {bitwOr(a,b)}\r\n",
      "var_eh <- function(a=var_dz(), b=var_ef()) {bitwAnd(a,b)}\r\n",
      "var_ks <- function(a=var_kl(), b=var_kr()) {bitwOr(a,b)}\r\n",
      "var_bd <- function(a=var_ba(), b=var_bc()) {bitwAnd(a,b)}\r\n",
      "var_fc <- function(a=var_eu(), b=var_fa()) {bitwAnd(a,b)}\r\n",
      "var_ez <- function(a=var_ey()) {bitwNot(a)}\r\n",
      "var_dl <- function(a=var_de(), b=var_dk()) {bitwOr(a,b)}\r\n",
      "var_gq <- function(a=var_gn(), b=var_gp()) {bitwAnd(a,b)}\r\n",
      "var_dh <- function(a=var_df(), b=var_dg()) {bitwOr(a,b)}\r\n",
      "var_gy <- function(a=var_gv(), b=var_gx()) {bitwAnd(a,b)}\r\n",
      "var_ge <- function(a=1, b=var_gd()) {bitwAnd(a,b)}\r\n",
      "var_gw <- function(a=var_gj(), b=var_gu()) {bitwAnd(a,b)}\r\n",
      "var_fz <- function(a=var_fw(), b=var_fy()) {bitwAnd(a,b)}\r\n",
      "var_bn <- function(a=var_bl(), b=var_bm()) {bitwOr(a,b)}\r\n",
      "var_jo <- function(a=var_jk(), b=15) {bitwShiftL(a,b)}\r\n",
      "var_gr <- function(a=var_gk(), b=var_gq()) {bitwOr(a,b)}\r\n",
      "var_hb <- function(a=var_ha(), b=var_gz()) {bitwOr(a,b)}\r\n",
      "var_dk <- function(a=var_dh(), b=var_dj()) {bitwAnd(a,b)}\r\n",
      "var_ac <- function(a=var_z(), b=var_aa()) {bitwAnd(a,b)}\r\n",
      "var_hi <- function(a=var_hg(), b=var_hh()) {bitwOr(a,b)}\r\n",
      "var_bs <- function(a=var_bp(), b=var_bq()) {bitwAnd(a,b)}\r\n",
      "var_as <- function(a=var_aq(), b=var_ar()) {bitwOr(a,b)}\r\n",
      "var_il <- function(a=var_hz(), b=var_ik()) {bitwOr(a,b)}\r\n",
      "var_dp <- function(a=var_dd(), b=var_do()) {bitwOr(a,b)}\r\n",
      "var_kp <- function(a=var_km(), b=var_kn()) {bitwAnd(a,b)}\r\n",
      "var_kv <- function(a=var_ks(), b=var_ku()) {bitwAnd(a,b)}\r\n",
      "var_bx <- function(a=var_bw()) {bitwNot(a)}\r\n",
      "var_lu <- function(a=var_lr(), b=var_lt()) {bitwAnd(a,b)}\r\n",
      "var_av <- function(a=var_as(), b=5) {bitwShiftR(a,b)}\r\n",
      "var_fr <- function(a=var_fo(), b=5) {bitwShiftR(a,b)}\r\n",
      "var_eg <- function(a=var_dz(), b=var_ef()) {bitwOr(a,b)}\r\n",
      "var_jp <- function(a=var_jn(), b=var_jo()) {bitwOr(a,b)}\r\n",
      "var_cz <- function(a=var_cf(), b=1) {bitwShiftL(a,b)}\r\n",
      "var_ip <- function(a=1, b=var_io()) {bitwAnd(a,b)}\r\n",
      "var_jh <- function(a=var_iu(), b=var_jf()) {bitwAnd(a,b)}\r\n",
      "var_h <- function(a=var_e(), b=var_f()) {bitwAnd(a,b)}\r\n",
      "var_jm <- function(a=var_jl(), b=var_jk()) {bitwOr(a,b)}\r\n",
      "var_ai <- function(a=var_af(), b=var_ah()) {bitwAnd(a,b)}\r\n",
      "var_lr <- function(a=var_lf(), b=var_lq()) {bitwOr(a,b)}\r\n",
      "var_hf <- function(a=var_he(), b=2) {bitwShiftR(a,b)}\r\n",
      "var_fh <- function(a=var_fg()) {bitwNot(a)}\r\n",
      "var_ft <- function(a=var_fq(), b=var_fr()) {bitwAnd(a,b)}\r\n",
      "var_ch <- function(a=var_cd(), b=15) {bitwShiftL(a,b)}\r\n",
      "var_s <- function(a=1, b=var_r()) {bitwAnd(a,b)}\r\n",
      "var_ea <- function(a=var_dy(), b=3) {bitwShiftR(a,b)}\r\n",
      "var_em <- function(a=var_el()) {bitwNot(a)}\r\n",
      "var_lk <- function(a=var_lh(), b=var_li()) {bitwAnd(a,b)}\r\n",
      "var_ev <- function(a=var_et(), b=3) {bitwShiftR(a,b)}\r\n",
      "var_i <- function(a=var_h()) {bitwNot(a)}\r\n",
      "var_ku <- function(a=var_kt()) {bitwNot(a)}\r\n",
      "var_ia <- function(a=var_hz(), b=2) {bitwShiftR(a,b)}\r\n",
      "var_di <- function(a=var_df(), b=var_dg()) {bitwAnd(a,b)}\r\n",
      "var_fo <- function(a=var_fm(), b=var_fn()) {bitwOr(a,b)}\r\n",
      "var_ly <- function(a=var_lf(), b=1) {bitwShiftR(a,b)}\r\n",
      "var_bp <- function(a=var_bn(), b=3) {bitwShiftR(a,b)}\r\n",
      "var_gu <- function(a=var_gr(), b=var_gt()) {bitwAnd(a,b)}\r\n",
      "var_bz <- function(a=var_bn(), b=var_by()) {bitwOr(a,b)}\r\n",
      "var_hm <- function(a=var_hf(), b=var_hl()) {bitwOr(a,b)}\r\n",
      "var_dt <- function(a=1, b=var_ds()) {bitwAnd(a,b)}\r\n",
      "var_ky <- function(a=var_kx()) {bitwNot(a)}\r\n",
      "var_dj <- function(a=var_di()) {bitwNot(a)}\r\n",
      "var_fy <- function(a=var_fx()) {bitwNot(a)}\r\n",
      "var_fe <- function(a=var_fb(), b=var_fd()) {bitwAnd(a,b)}\r\n",
      "var_ap <- function(a=var_ao(), b=var_an()) {bitwOr(a,b)}\r\n",
      "var_ll <- function(a=var_lk()) {bitwNot(a)}\r\n",
      "var_iv <- function(a=var_iu(), b=2) {bitwShiftR(a,b)}\r\n",
      "var_az <- function(a=var_aw(), b=var_ay()) {bitwAnd(a,b)}\r\n",
      "var_al <- function(a=var_ak()) {bitwNot(a)}\r\n",
      "var_kn <- function(a=var_kk(), b=5) {bitwShiftR(a,b)}\r\n",
      "var_fp <- function(a=var_fo(), b=2) {bitwShiftR(a,b)}\r\n",
      "var_ba <- function(a=var_at(), b=var_az()) {bitwOr(a,b)}\r\n",
      "var_lb <- function(a=var_kh(), b=1) {bitwShiftL(a,b)}\r\n",
      "var_lt <- function(a=var_ls()) {bitwNot(a)}\r\n",
      "var_lm <- function(a=var_lj(), b=var_ll()) {bitwAnd(a,b)}\r\n",
      "var_t <- function(a=var_c(), b=1) {bitwShiftL(a,b)}\r\n",
      "var_cu <- function(a=var_ci(), b=var_ct()) {bitwOr(a,b)}\r\n",
      "var_km <- function(a=var_kk(), b=3) {bitwShiftR(a,b)}\r\n",
      "var_hv <- function(a=var_hb(), b=1) {bitwShiftL(a,b)}\r\n",
      "var_go <- function(a=var_gl(), b=var_gm()) {bitwAnd(a,b)}\r\n",
      "var_he <- function(a=var_hc(), b=var_hd()) {bitwOr(a,b)}\r\n",
      "var_hp <- function(a=var_hm(), b=var_ho()) {bitwAnd(a,b)}\r\n",
      "var_ct <- function(a=var_cq(), b=var_cs()) {bitwAnd(a,b)}\r\n",
      "var_cy <- function(a=1, b=var_cx()) {bitwAnd(a,b)}\r\n",
      "var_jc <- function(a=var_iv(), b=var_jb()) {bitwOr(a,b)}\r\n",
      "var_cd <- function(a=1, b=var_cc()) {bitwAnd(a,b)}\r\n",
      "var_jj <- function(a=var_jg(), b=var_ji()) {bitwAnd(a,b)}\r\n",
      "var_jr <- function(a=var_jp(), b=3) {bitwShiftR(a,b)}\r\n",
      "var_ee <- function(a=var_ed()) {bitwNot(a)}\r\n",
      "var_er <- function(a=var_dy(), b=1) {bitwShiftR(a,b)}\r\n",
      "var_ka <- function(a=var_jx(), b=var_jz()) {bitwAnd(a,b)}\r\n",
      "var_n <- function(a=var_k(), b=var_m()) {bitwAnd(a,b)}\r\n",
      "var_it <- function(a=var_ip(), b=15) {bitwShiftL(a,b)}\r\n",
      "var_fd <- function(a=var_fc()) {bitwNot(a)}\r\n",
      "var_dv <- function(a=var_du(), b=var_dt()) {bitwOr(a,b)}\r\n",
      "var_k <- function(a=var_d(), b=var_j()) {bitwOr(a,b)}\r\n",
      "var_ln <- function(a=var_lg(), b=var_lm()) {bitwOr(a,b)}\r\n",
      "var_bt <- function(a=var_bs()) {bitwNot(a)}\r\n",
      "var_ir <- function(a=var_iq(), b=var_ip()) {bitwOr(a,b)}\r\n",
      "var_hl <- function(a=var_hi(), b=var_hk()) {bitwAnd(a,b)}\r\n",
      "var_fm <- function(a=var_et(), b=1) {bitwShiftR(a,b)}\r\n",
      "var_de <- function(a=var_dd(), b=2) {bitwShiftR(a,b)}\r\n",
      "var_iu <- function(a=var_is(), b=var_it()) {bitwOr(a,b)}\r\n",
      "var_ki <- function(a=var_jp(), b=1) {bitwShiftR(a,b)}\r\n",
      "var_bc <- function(a=var_bb()) {bitwNot(a)}\r\n",
      "var_ec <- function(a=var_ea(), b=var_eb()) {bitwOr(a,b)}\r\n",
      "var_cx <- function(a=var_cu(), b=var_cw()) {bitwAnd(a,b)}\r\n",
      "var_gh <- function(a=var_fo(), b=1) {bitwShiftR(a,b)}\r\n",
      "var_la <- function(a=1, b=var_kz()) {bitwAnd(a,b)}\r\n",
      "var_z <- function(a=var_x(), b=3) {bitwShiftR(a,b)}\r\n",
      "var_ah <- function(a=var_ag()) {bitwNot(a)}\r\n",
      "var_ke <- function(a=var_kb(), b=var_kd()) {bitwAnd(a,b)}\r\n",
      "var_gi <- function(a=var_ge(), b=15) {bitwShiftL(a,b)}\r\n",
      "var_aj <- function(a=var_x(), b=var_ai()) {bitwOr(a,b)}\r\n",
      "var_lz <- function(a=var_lv(), b=15) {bitwShiftL(a,b)}\r\n",
      "var_ad <- function(a=var_ac()) {bitwNot(a)}\r\n",
      "var_hw <- function(a=var_hv(), b=var_hu()) {bitwOr(a,b)}\r\n",
      "var_kl <- function(a=var_kk(), b=2) {bitwShiftR(a,b)}\r\n",
      "var_x <- function(a=var_v(), b=var_w()) {bitwOr(a,b)}\r\n",
      "var_hy <- function(a=var_hu(), b=15) {bitwShiftL(a,b)}\r\n",
      "var_gk <- function(a=var_gj(), b=2) {bitwShiftR(a,b)}\r\n",
      "var_lq <- function(a=var_ln(), b=var_lp()) {bitwAnd(a,b)}\r\n",
      "var_cp <- function(a=var_cm(), b=var_co()) {bitwAnd(a,b)}\r\n",
      "var_aa <- function(a=var_x(), b=5) {bitwShiftR(a,b)}\r\n",
      "var_dy <- function(a=var_dw(), b=var_dx()) {bitwOr(a,b)}\r\n",
      "var_hs <- function(a=var_hr()) {bitwNot(a)}\r\n",
      "var_a <- function(a=var_lx()) {a}\r\n",
      "var_kw <- function(a=var_kk(), b=var_kv()) {bitwOr(a,b)}\r\n",
      "var_gb <- function(a=var_fo(), b=var_fz()) {bitwAnd(a,b)}\r\n",
      "var_ig <- function(a=var_id(), b=var_if()) {bitwAnd(a,b)}\r\n",
      "var_r <- function(a=var_o(), b=var_q()) {bitwAnd(a,b)}\r\n",
      "var_dn <- function(a=var_dm()) {bitwNot(a)}\r\n",
      "var_ca <- function(a=var_bn(), b=var_by()) {bitwAnd(a,b)}\r\n",
      "var_gt <- function(a=var_gs()) {bitwNot(a)}\r\n",
      "var_kb <- function(a=var_jp(), b=var_ka()) {bitwOr(a,b)}\r\n",
      "var_iz <- function(a=var_iw(), b=var_ix()) {bitwAnd(a,b)}\r\n",
      "var_je <- function(a=var_jd()) {bitwNot(a)}\r\n",
      "var_jy <- function(a=var_jq(), b=var_jw()) {bitwAnd(a,b)}\r\n",
      "var_jx <- function(a=var_jq(), b=var_jw()) {bitwOr(a,b)}\r\n",
      "var_hz <- function(a=var_hx(), b=var_hy()) {bitwOr(a,b)}\r\n",
      "var_e <- function(a=var_b(), b=3) {bitwShiftR(a,b)}\r\n",
      "var_ib <- function(a=var_hz(), b=3) {bitwShiftR(a,b)}\r\n",
      "var_ie <- function(a=var_ib(), b=var_ic()) {bitwAnd(a,b)}\r\n",
      "var_hq <- function(a=var_he(), b=var_hp()) {bitwOr(a,b)}\r\n",
      "var_ci <- function(a=var_cg(), b=var_ch()) {bitwOr(a,b)}\r\n",
      "var_cf <- function(a=var_ce(), b=var_cd()) {bitwOr(a,b)}\r\n",
      "var_d <- function(a=var_b(), b=2) {bitwShiftR(a,b)}\r\n",
      "var_a()"
     ]
    }
   ],
   "source": [
    "! cat day7_commands.R "
   ]
  },
  {
   "cell_type": "code",
   "execution_count": null,
   "metadata": {
    "ExecuteTime": {
     "end_time": "2017-12-31T02:07:37.015746",
     "start_time": "2017-12-31T02:00:36.108261"
    }
   },
   "outputs": [],
   "source": [
    "!Rscript day7_commands.R"
   ]
  },
  {
   "cell_type": "markdown",
   "metadata": {},
   "source": [
    "Although this approach is more natural than defining a LazyWrapper in Python, it takes quite a lot of time to execute, so this is not a very cool solution after all."
   ]
  },
  {
   "cell_type": "markdown",
   "metadata": {},
   "source": [
    "## Day 7.2"
   ]
  },
  {
   "cell_type": "code",
   "execution_count": 114,
   "metadata": {
    "ExecuteTime": {
     "end_time": "2017-12-06T20:05:48.678340",
     "start_time": "2017-12-06T20:05:48.559478"
    }
   },
   "outputs": [
    {
     "data": {
      "text/plain": [
       "2797"
      ]
     },
     "execution_count": 114,
     "metadata": {},
     "output_type": "execute_result"
    }
   ],
   "source": [
    "commands = display('inputs/input7.txt')\n",
    "commands['b'] = ['16076']\n",
    "evaluate('a')"
   ]
  }
 ],
 "metadata": {
  "kernelspec": {
   "display_name": "Python [conda env:adventofcode]",
   "language": "python",
   "name": "conda-env-adventofcode-py"
  },
  "language_info": {
   "codemirror_mode": {
    "name": "ipython",
    "version": 3
   },
   "file_extension": ".py",
   "mimetype": "text/x-python",
   "name": "python",
   "nbconvert_exporter": "python",
   "pygments_lexer": "ipython3",
   "version": "3.5.2"
  },
  "toc": {
   "colors": {
    "hover_highlight": "#DAA520",
    "running_highlight": "#FF0000",
    "selected_highlight": "#FFD700"
   },
   "moveMenuLeft": true,
   "nav_menu": {
    "height": "66px",
    "width": "252px"
   },
   "navigate_menu": true,
   "number_sections": true,
   "sideBar": true,
   "threshold": 4,
   "toc_cell": false,
   "toc_section_display": "block",
   "toc_window_display": false
  }
 },
 "nbformat": 4,
 "nbformat_minor": 2
}
