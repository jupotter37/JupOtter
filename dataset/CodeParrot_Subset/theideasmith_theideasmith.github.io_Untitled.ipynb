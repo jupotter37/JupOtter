{
 "cells": [
  {
   "cell_type": "markdown",
   "metadata": {},
   "source": [
    "One of the big questions that remained unanswered during my childhood was how enciphered messages can be deciphered. I knew that some bit of statistics was involved to somehow *match up the frequencies of words* but had not the formal language to actually concretize this idea. \n",
    "Now I've been able to reduce the problem decryption, assuming the encryption cipher is a bijection between two sets of symbols of equal cardinality, to:\n",
    "$$\\arg\\min_\\mathbf{F} \\bigg[\\ln \\mathcal{L} \\propto \\mathbf{X}_R\\cdot \\mathbf{F}\\cdot\\ln\\mathbf{p}_R\\bigg]$$ subject to $\\mathbf{F}$ living in the symmetric group of $\\mathbf{I}$"
   ]
  },
  {
   "cell_type": "code",
   "execution_count": 4,
   "metadata": {
    "collapsed": false
   },
   "outputs": [
    {
     "data": {
      "text/plain": [
       "'abcdefghijklmnopqrstuvwxyzABCDEFGHIJKLMNOPQRSTUVWXYZ'"
      ]
     },
     "execution_count": 4,
     "metadata": {},
     "output_type": "execute_result"
    }
   ],
   "source": []
  },
  {
   "cell_type": "code",
   "execution_count": null,
   "metadata": {
    "collapsed": true
   },
   "outputs": [],
   "source": []
  }
 ],
 "metadata": {
  "kernelspec": {
   "display_name": "Python 2",
   "language": "python",
   "name": "python2"
  },
  "language_info": {
   "codemirror_mode": {
    "name": "ipython",
    "version": 2
   },
   "file_extension": ".py",
   "mimetype": "text/x-python",
   "name": "python",
   "nbconvert_exporter": "python",
   "pygments_lexer": "ipython2",
   "version": "2.7.13"
  }
 },
 "nbformat": 4,
 "nbformat_minor": 2
}
