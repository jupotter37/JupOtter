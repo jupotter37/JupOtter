{
 "cells": [
  {
   "cell_type": "code",
   "execution_count": 1,
   "metadata": {
    "collapsed": false
   },
   "outputs": [],
   "source": [
    "# show all plots inside Jupyter\n",
    "%matplotlib inline"
   ]
  },
  {
   "cell_type": "code",
   "execution_count": 2,
   "metadata": {
    "collapsed": true
   },
   "outputs": [],
   "source": [
    "import pandas as pd"
   ]
  },
  {
   "cell_type": "code",
   "execution_count": 3,
   "metadata": {
    "collapsed": false
   },
   "outputs": [],
   "source": [
    "# background on the dataset: https://en.wikipedia.org/wiki/North_Atlantic_oscillation\n",
    "NAO = pd.read_table('data/NAO.txt')"
   ]
  },
  {
   "cell_type": "code",
   "execution_count": 4,
   "metadata": {
    "collapsed": false
   },
   "outputs": [
    {
     "data": {
      "text/plain": [
       "pandas.core.frame.DataFrame"
      ]
     },
     "execution_count": 4,
     "metadata": {},
     "output_type": "execute_result"
    }
   ],
   "source": [
    "type(NAO)"
   ]
  },
  {
   "cell_type": "code",
   "execution_count": 5,
   "metadata": {
    "collapsed": false
   },
   "outputs": [
    {
     "data": {
      "text/html": [
       "<div>\n",
       "<table border=\"1\" class=\"dataframe\">\n",
       "  <thead>\n",
       "    <tr style=\"text-align: right;\">\n",
       "      <th></th>\n",
       "      <th>year</th>\n",
       "      <th>NAO</th>\n",
       "    </tr>\n",
       "  </thead>\n",
       "  <tbody>\n",
       "    <tr>\n",
       "      <th>0</th>\n",
       "      <td>1864</td>\n",
       "      <td>-1.02</td>\n",
       "    </tr>\n",
       "    <tr>\n",
       "      <th>1</th>\n",
       "      <td>1865</td>\n",
       "      <td>-1.24</td>\n",
       "    </tr>\n",
       "    <tr>\n",
       "      <th>2</th>\n",
       "      <td>1866</td>\n",
       "      <td>0.54</td>\n",
       "    </tr>\n",
       "    <tr>\n",
       "      <th>3</th>\n",
       "      <td>1867</td>\n",
       "      <td>-1.38</td>\n",
       "    </tr>\n",
       "    <tr>\n",
       "      <th>4</th>\n",
       "      <td>1868</td>\n",
       "      <td>2.81</td>\n",
       "    </tr>\n",
       "  </tbody>\n",
       "</table>\n",
       "</div>"
      ],
      "text/plain": [
       "   year   NAO\n",
       "0  1864 -1.02\n",
       "1  1865 -1.24\n",
       "2  1866  0.54\n",
       "3  1867 -1.38\n",
       "4  1868  2.81"
      ]
     },
     "execution_count": 5,
     "metadata": {},
     "output_type": "execute_result"
    }
   ],
   "source": [
    "NAO.head()"
   ]
  },
  {
   "cell_type": "code",
   "execution_count": 6,
   "metadata": {
    "collapsed": false
   },
   "outputs": [
    {
     "data": {
      "text/html": [
       "<div>\n",
       "<table border=\"1\" class=\"dataframe\">\n",
       "  <thead>\n",
       "    <tr style=\"text-align: right;\">\n",
       "      <th></th>\n",
       "      <th>year</th>\n",
       "      <th>NAO</th>\n",
       "    </tr>\n",
       "  </thead>\n",
       "  <tbody>\n",
       "    <tr>\n",
       "      <th>count</th>\n",
       "      <td>146.000000</td>\n",
       "      <td>146.000000</td>\n",
       "    </tr>\n",
       "    <tr>\n",
       "      <th>mean</th>\n",
       "      <td>1936.500000</td>\n",
       "      <td>0.193356</td>\n",
       "    </tr>\n",
       "    <tr>\n",
       "      <th>std</th>\n",
       "      <td>42.290661</td>\n",
       "      <td>1.907480</td>\n",
       "    </tr>\n",
       "    <tr>\n",
       "      <th>min</th>\n",
       "      <td>1864.000000</td>\n",
       "      <td>-4.890000</td>\n",
       "    </tr>\n",
       "    <tr>\n",
       "      <th>25%</th>\n",
       "      <td>1900.250000</td>\n",
       "      <td>-1.027500</td>\n",
       "    </tr>\n",
       "    <tr>\n",
       "      <th>50%</th>\n",
       "      <td>1936.500000</td>\n",
       "      <td>0.245000</td>\n",
       "    </tr>\n",
       "    <tr>\n",
       "      <th>75%</th>\n",
       "      <td>1972.750000</td>\n",
       "      <td>1.580000</td>\n",
       "    </tr>\n",
       "    <tr>\n",
       "      <th>max</th>\n",
       "      <td>2009.000000</td>\n",
       "      <td>5.080000</td>\n",
       "    </tr>\n",
       "  </tbody>\n",
       "</table>\n",
       "</div>"
      ],
      "text/plain": [
       "              year         NAO\n",
       "count   146.000000  146.000000\n",
       "mean   1936.500000    0.193356\n",
       "std      42.290661    1.907480\n",
       "min    1864.000000   -4.890000\n",
       "25%    1900.250000   -1.027500\n",
       "50%    1936.500000    0.245000\n",
       "75%    1972.750000    1.580000\n",
       "max    2009.000000    5.080000"
      ]
     },
     "execution_count": 6,
     "metadata": {},
     "output_type": "execute_result"
    }
   ],
   "source": [
    "NAO.describe()"
   ]
  },
  {
   "cell_type": "code",
   "execution_count": 7,
   "metadata": {
    "collapsed": false
   },
   "outputs": [
    {
     "data": {
      "text/plain": [
       "0   -1.02\n",
       "1   -1.24\n",
       "2    0.54\n",
       "3   -1.38\n",
       "4    2.81\n",
       "Name: NAO, dtype: float64"
      ]
     },
     "execution_count": 7,
     "metadata": {},
     "output_type": "execute_result"
    }
   ],
   "source": [
    "# get the first 5 values from column NAO\n",
    "NAO.NAO[:5]"
   ]
  },
  {
   "cell_type": "code",
   "execution_count": 8,
   "metadata": {
    "collapsed": false
   },
   "outputs": [
    {
     "name": "stdout",
     "output_type": "stream",
     "text": [
      "1864 2009\n"
     ]
    }
   ],
   "source": [
    "# get min / max value from a column\n",
    "print min(NAO.year), max(NAO.year)"
   ]
  },
  {
   "cell_type": "code",
   "execution_count": 9,
   "metadata": {
    "collapsed": false
   },
   "outputs": [
    {
     "data": {
      "text/plain": [
       "0   1864-01-01 00:00:00\n",
       "1   1865-01-01 00:00:00\n",
       "2   1866-01-01 00:00:00\n",
       "3   1867-01-01 00:00:00\n",
       "4   1868-01-01 00:00:00\n",
       "Name: year, dtype: datetime64[ns]"
      ]
     },
     "execution_count": 9,
     "metadata": {},
     "output_type": "execute_result"
    }
   ],
   "source": [
    "# Coerce data to a time series\n",
    "\n",
    "dates = pd.to_datetime(NAO.year, format=\"%Y\")\n",
    "dates.head()"
   ]
  },
  {
   "cell_type": "code",
   "execution_count": 10,
   "metadata": {
    "collapsed": false
   },
   "outputs": [],
   "source": [
    "# NAO.NAO.index = dates"
   ]
  },
  {
   "cell_type": "code",
   "execution_count": 15,
   "metadata": {
    "collapsed": false
   },
   "outputs": [],
   "source": [
    "# pd.Series(NAO.NAO, index=dates)"
   ]
  },
  {
   "cell_type": "code",
   "execution_count": 26,
   "metadata": {
    "collapsed": false
   },
   "outputs": [
    {
     "data": {
      "text/plain": [
       "<matplotlib.axes._subplots.AxesSubplot at 0x7f9058432650>"
      ]
     },
     "execution_count": 26,
     "metadata": {},
     "output_type": "execute_result"
    },
    {
     "data": {
      "image/png": "[encoded data removed]",
      "text/plain": [
       "<matplotlib.figure.Figure at 0x7f90585a4a10>"
      ]
     },
     "metadata": {},
     "output_type": "display_data"
    }
   ],
   "source": [
    "pd.Series(NAO.NAO.values, index=dates).plot()"
   ]
  },
  {
   "cell_type": "code",
   "execution_count": 30,
   "metadata": {
    "collapsed": false
   },
   "outputs": [
    {
     "data": {
      "text/plain": [
       "year\n",
       "1864-01-01 00:00:00   NaN\n",
       "1865-01-01 00:00:00   NaN\n",
       "1866-01-01 00:00:00   NaN\n",
       "1867-01-01 00:00:00   NaN\n",
       "1868-01-01 00:00:00   NaN\n",
       "1869-01-01 00:00:00   NaN\n",
       "1870-01-01 00:00:00   NaN\n",
       "1871-01-01 00:00:00   NaN\n",
       "1872-01-01 00:00:00   NaN\n",
       "1873-01-01 00:00:00   NaN\n",
       "1874-01-01 00:00:00   NaN\n",
       "1875-01-01 00:00:00   NaN\n",
       "1876-01-01 00:00:00   NaN\n",
       "1877-01-01 00:00:00   NaN\n",
       "1878-01-01 00:00:00   NaN\n",
       "1879-01-01 00:00:00   NaN\n",
       "1880-01-01 00:00:00   NaN\n",
       "1881-01-01 00:00:00   NaN\n",
       "1882-01-01 00:00:00   NaN\n",
       "1883-01-01 00:00:00   NaN\n",
       "1884-01-01 00:00:00   NaN\n",
       "1885-01-01 00:00:00   NaN\n",
       "1886-01-01 00:00:00   NaN\n",
       "1887-01-01 00:00:00   NaN\n",
       "1888-01-01 00:00:00   NaN\n",
       "1889-01-01 00:00:00   NaN\n",
       "1890-01-01 00:00:00   NaN\n",
       "1891-01-01 00:00:00   NaN\n",
       "1892-01-01 00:00:00   NaN\n",
       "1893-01-01 00:00:00   NaN\n",
       "                       ..\n",
       "1980-01-01            NaN\n",
       "1981-01-01            NaN\n",
       "1982-01-01            NaN\n",
       "1983-01-01            NaN\n",
       "1984-01-01            NaN\n",
       "1985-01-01            NaN\n",
       "1986-01-01            NaN\n",
       "1987-01-01            NaN\n",
       "1988-01-01            NaN\n",
       "1989-01-01            NaN\n",
       "1990-01-01            NaN\n",
       "1991-01-01            NaN\n",
       "1992-01-01            NaN\n",
       "1993-01-01            NaN\n",
       "1994-01-01            NaN\n",
       "1995-01-01            NaN\n",
       "1996-01-01            NaN\n",
       "1997-01-01            NaN\n",
       "1998-01-01            NaN\n",
       "1999-01-01            NaN\n",
       "2000-01-01            NaN\n",
       "2001-01-01            NaN\n",
       "2002-01-01            NaN\n",
       "2003-01-01            NaN\n",
       "2004-01-01            NaN\n",
       "2005-01-01            NaN\n",
       "2006-01-01            NaN\n",
       "2007-01-01            NaN\n",
       "2008-01-01            NaN\n",
       "2009-01-01            NaN\n",
       "Name: NAO, dtype: float64"
      ]
     },
     "execution_count": 30,
     "metadata": {},
     "output_type": "execute_result"
    }
   ],
   "source": [
    "NAO.NAO.reindex(dates)"
   ]
  },
  {
   "cell_type": "code",
   "execution_count": 31,
   "metadata": {
    "collapsed": false
   },
   "outputs": [
    {
     "data": {
      "text/plain": [
       "0     -1.02\n",
       "1     -1.24\n",
       "2      0.54\n",
       "3     -1.38\n",
       "4      2.81\n",
       "5      1.70\n",
       "6     -3.01\n",
       "7     -1.01\n",
       "8     -0.76\n",
       "9     -0.50\n",
       "10     2.32\n",
       "11    -1.35\n",
       "12     0.21\n",
       "13     0.05\n",
       "14     1.46\n",
       "15    -2.22\n",
       "16     0.89\n",
       "17    -3.80\n",
       "18     3.87\n",
       "19    -0.23\n",
       "20     1.44\n",
       "21    -0.89\n",
       "22    -1.12\n",
       "23     0.45\n",
       "24    -2.75\n",
       "25    -0.01\n",
       "26     1.78\n",
       "27    -0.82\n",
       "28    -2.02\n",
       "29    -1.07\n",
       "       ... \n",
       "116    0.56\n",
       "117    2.05\n",
       "118    0.80\n",
       "119    3.42\n",
       "120    1.60\n",
       "121   -0.63\n",
       "122    0.50\n",
       "123   -0.75\n",
       "124    0.72\n",
       "125    5.08\n",
       "126    3.96\n",
       "127    1.03\n",
       "128    3.28\n",
       "129    2.67\n",
       "130    3.03\n",
       "131    3.96\n",
       "132   -3.78\n",
       "133   -0.17\n",
       "134    0.72\n",
       "135    1.70\n",
       "136    2.80\n",
       "137   -1.90\n",
       "138    0.76\n",
       "139    0.20\n",
       "140   -0.07\n",
       "141    0.12\n",
       "142   -1.09\n",
       "143    2.80\n",
       "144    2.11\n",
       "145   -0.40\n",
       "Name: NAO, dtype: float64"
      ]
     },
     "execution_count": 31,
     "metadata": {},
     "output_type": "execute_result"
    }
   ],
   "source": [
    "NAO.NAO"
   ]
  },
  {
   "cell_type": "code",
   "execution_count": null,
   "metadata": {
    "collapsed": true
   },
   "outputs": [],
   "source": []
  }
 ],
 "metadata": {
  "kernelspec": {
   "display_name": "Python 2",
   "language": "python",
   "name": "python2"
  },
  "language_info": {
   "codemirror_mode": {
    "name": "ipython",
    "version": 2
   },
   "file_extension": ".py",
   "mimetype": "text/x-python",
   "name": "python",
   "nbconvert_exporter": "python",
   "pygments_lexer": "ipython2",
   "version": "2.7.6"
  }
 },
 "nbformat": 4,
 "nbformat_minor": 0
}
