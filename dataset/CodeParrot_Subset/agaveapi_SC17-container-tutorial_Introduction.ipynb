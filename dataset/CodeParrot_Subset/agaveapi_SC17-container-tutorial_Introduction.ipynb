{
 "cells": [
  {
   "cell_type": "markdown",
   "metadata": {},
   "source": [
    "# HPC via HTTP: Portable, Scalable Computing using App Containers and the Agave API"
   ]
  },
  {
   "cell_type": "markdown",
   "metadata": {},
   "source": [
    "**Date:** Monday, Nov 13th  \n",
    "**Time:** 8:30am - 12:00pm  \n",
    "**Location:** Colorado Convention Center, Room 203  \n",
    "**Registration** [Registration](http://sc17.supercomputing.org/attendees/registration/) [SC Tutorial Website](http://sc17.supercomputing.org/presentation/?id=tut178&sess=sess244)  "
   ]
  },
  {
   "cell_type": "markdown",
   "metadata": {},
   "source": [
    "# Preview"
   ]
  },
  {
   "cell_type": "markdown",
   "metadata": {},
   "source": [
    "[![Intro Video](http://img.youtube.com/vi/hVnIrjn_aBI/maxresdefault.jpg)](http://www.youtube.com/watch?v=hVnIrjn_aBI \"HPC via HTTP: Portable, Scalable Computing using App Containers and the Agave API\")"
   ]
  },
  {
   "cell_type": "markdown",
   "metadata": {},
   "source": [
    "# Abstract"
   ]
  },
  {
   "cell_type": "markdown",
   "metadata": {},
   "source": [
    "Supercomputing matters. So does user experience. Standing between the mainstream adoption of supercomputing and a new generation of users is the reality that the entry cost to using these systems, both in terms of dollars and in time spent learning the technology, has not significantly changed in the last 20 years. The rise of cloud computing only complicates the learning curve further. Over the last 6 years, the authors have been addressing this gap through the development of a Science-as-a-Service platform enabling users to go from their desktop, to their local data center, to the cloud, and back without sacrificing their existing tool chain or user experience.\n",
    "\n",
    "In this tutorial, we combine best practices and lessons learned while on-boarding the last 70k new users to TACC’s data center through the Agave Platform. Participants will walk through the process of scaling their application from a local environment to the Jetstream academic cloud and to a high performance computing system at the Texas Advanced Computing Center. They will learn to use multiple container technologies to harmonize app execution between cloud and HPC resources, and they will learn to use modern APIs to orchestrate job execution, capture provenance information, and foster collaboration."
   ]
  },
  {
   "cell_type": "markdown",
   "metadata": {},
   "source": [
    "# Schedule"
   ]
  },
  {
   "cell_type": "markdown",
   "metadata": {},
   "source": [
    "<table class=\"tg\" style=\"width: 100%\">\n",
    "  <tr>\n",
    "    <th class=\"tg-yw4l\" style=\"min-width: 150px; font-size: 1.5em; text-align:left; \">Time</th>\n",
    "    <th class=\"tg-yw4l\" style=\"min-width: 150px; font-size: 1.5em; text-align:left; \">Presenterr</th>\n",
    "    <th class=\"tg-yw4l\" style=\"min-width: 150px; font-size: 1.5em; text-align:left; \">Topic</th>\n",
    "  </tr>\n",
    "  <tr>\n",
    "    <td class=\"tg-yw4l\" style=\"min-width: 150px; font-size: 1.5em; text-align:left; \">08:30 - 08:45</td>\n",
    "    <td class=\"tg-yw4l\" style=\"min-width: 150px; font-size: 1.5em; text-align:left; \">John, Steve</td>\n",
    "    <td class=\"tg-yw4l\" style=\"min-width: 150px; font-size: 1.5em; text-align:left; \">[Introductions](01%20Introduction.ipynb)</td>\n",
    "  </tr>\n",
    "  <tr>\n",
    "    <td class=\"tg-yw4l\" style=\"min-width: 150px; font-size: 1.5em; text-align:left; \">08:45 - 09:05</td>\n",
    "    <td class=\"tg-yw4l\" style=\"min-width: 150px; font-size: 1.5em; text-align:left; \">Rion</td>\n",
    "    <td class=\"tg-yw4l\" style=\"min-width: 150px; font-size: 1.5em; text-align:left; \">[Agave Overview](02%20Agave%20Overview.pdf)</td>\n",
    "  </tr>\n",
    "  <tr>\n",
    "    <td class=\"tg-yw4l\" style=\"min-width: 150px; font-size: 1.5em; text-align:left; \">09:05 - 09:15</td>\n",
    "    <td class=\"tg-yw4l\" style=\"min-width: 150px; font-size: 1.5em; text-align:left; \">Kathy</td>\n",
    "    <td class=\"tg-yw4l\" style=\"min-width: 150px; font-size: 1.5em; text-align:left; \">[Jupyter, Sanbox, and Logging In](03%20Jupyter%2C%20Sandboxes%2C%20and%20Logging%20In.ipynb)</td>\n",
    "  </tr>\n",
    "  <tr>\n",
    "    <td class=\"tg-yw4l\" style=\"min-width: 150px; font-size: 1.5em; text-align:left; \">09:15 - 09:30</td>\n",
    "    <td class=\"tg-yw4l\" style=\"min-width: 150px; font-size: 1.5em; text-align:left; \">Steve</td>\n",
    "    <td class=\"tg-yw4l\" style=\"min-width: 150px; font-size: 1.5em; text-align:left; \">[Code, Build, and Test](04%20Code%20Build%20and%20Test.ipynb)</td>\n",
    "  </tr>\n",
    "  <tr>\n",
    "    <td class=\"tg-yw4l\" style=\"min-width: 150px; font-size: 1.5em; text-align:left; \">09:30 - 10:00</td>\n",
    "    <td class=\"tg-yw4l\" style=\"min-width: 150px; font-size: 1.5em; text-align:left; \">Rion, John</td>\n",
    "    <td class=\"tg-yw4l\" style=\"min-width: 150px; font-size: 1.5em; text-align:left; \">[Hands on with Agave](05%20Hands%20on%20with%20Agave.ipynb)</td>\n",
    "  </tr>\n",
    "  <tr>\n",
    "    <td class=\"tg-yw4l\" style=\"min-width: 150px; font-size: 1.5em; text-align:left; \">10:00 - 10:30</td>\n",
    "    <td class=\"tg-yw4l\" style=\"min-width: 150px; font-size: 1.5em; text-align:left; \">--</td>\n",
    "    <td class=\"tg-yw4l\" style=\"min-width: 150px; font-size: 1.5em; text-align:left; \">Break</td>\n",
    "  </tr>\n",
    "  <tr>\n",
    "    <td class=\"tg-yw4l\" style=\"min-width: 150px; font-size: 1.5em; text-align:left; \">10:30 - 11:00</td>\n",
    "    <td class=\"tg-yw4l\" style=\"min-width: 150px; font-size: 1.5em; text-align:left; \">Steve,John</td>\n",
    "    <td class=\"tg-yw4l\" style=\"min-width: 150px; font-size: 1.5em; text-align:left; \">[Docker and Singularity](06%20Docker%20and%Singularity.ipynb)</td>\n",
    "  </tr>\n",
    "  <tr>\n",
    "    <td class=\"tg-yw4l\" style=\"min-width: 150px; font-size: 1.5em; text-align:left; \">11:00 - 11:15</td>\n",
    "    <td class=\"tg-yw4l\" style=\"min-width: 150px; font-size: 1.5em; text-align:left; \">Rion</td>\n",
    "    <td class=\"tg-yw4l\" style=\"min-width: 150px; font-size: 1.5em; text-align:left; \">[Automation an Benchmarking](07%20Automation%20and%20Benchmarking.ipynb)</td>\n",
    "  </tr>\n",
    "  <tr>\n",
    "    <td class=\"tg-yw4l\" style=\"min-width: 150px; font-size: 1.5em; text-align:left; \">11:15 - 11:45</td>\n",
    "    <td class=\"tg-yw4l\" style=\"min-width: 150px; font-size: 1.5em; text-align:left; \">Kathy, Rion</td>\n",
    "    <td class=\"tg-yw4l\" style=\"min-width: 150px; font-size: 1.5em; text-align:left; \">[Packaging, publishing, and Portability](08%20Packaging%20publishing%20and%20Portability.ipynb)</td>\n",
    "  </tr>\n",
    "  <tr>\n",
    "    <td class=\"tg-yw4l\" style=\"min-width: 150px; font-size: 1.5em; text-align:left; \">11:45 - 12:00</td>\n",
    "    <td class=\"tg-yw4l\" style=\"min-width: 150px; font-size: 1.5em; text-align:left; \">Steve, Kathy</td>\n",
    "    <td class=\"tg-yw4l\" style=\"min-width: 150px; font-size: 1.5em; text-align:left; \">[Future Directions and Homework](09%20Future%20Directions%20and%20Homework.ipynb)</td>\n",
    "  </tr>\n",
    "</table>"
   ]
  },
  {
   "cell_type": "markdown",
   "metadata": {},
   "source": [
    "## Presenters\n",
    "\n",
    "<h3>Steven Brandt<br><span style=\"font-size: .8em\"><a href=\"https://cct.lsu.edu/\">Louisiana State University</a></span></h3>\n",
    "<div style=\"width:100% margin-top: 15px;\" class=\"biography info-section\">\n",
    "<div style=\"float:left; margin-right: 15px;\" class=\"presenter-photo\">\n",
    "    <img style=\"border-radius: 50%;border: 1px solid #ccc;\" src=\"http://sc17.supercomputing.org/wp-content/linklings_snippets/presenter_pics/wp_presenter_img_329153_steven_brandt.jpg\" scale=\"0\">\n",
    "</div>\n",
    "<div style=\"font-size: 1.6rem; line-height: 1.625;font-weight: bold;\" class=\"biography-header\">Biography</div>\n",
    "<div style=\"font-size: 1.6rem; line-height: 1.625;\" class=\"presenter-biography\">\n",
    "Steven Brandt obtained his Ph.D. from the University of Illinois at Champaign-Urbana for his research in numerical simulations of rotating black holes. He currently serves as an adjunct faulty member in the Department of Computer Science & Engineering and is involved in research into making parallel programming more effective. He works with the STEllAR team led by Dr. Hartmut Kaiser, and helps lead the Cactus Frameworks effort. He is PI on grants relating to Cactus Frameworks development and cyberinfrastructure for the Coastal Hazards Collaboratory.</div>\n",
    "</div>\n",
    "\n",
    "<h3>Kathy Traxler<br><span style=\"font-size: .8em\"><a href=\"https://cct.lsu.edu/\">Louisiana State University</a></span></h3>\n",
    "<div style=\"width:100% margin-top: 15px;\" class=\"biography info-section\">\n",
    "<div style=\"float:left; margin-right: 15px;\" class=\"presenter-photo\">\n",
    "    <img style=\"border-radius: 50%;border: 1px solid #ccc;\" src=\"http://sc17.supercomputing.org/wp-content/linklings_snippets/presenter_pics/wp_presenter_img_526643_kathy_traxler.png\" scale=\"0\">\n",
    "</div>\n",
    "<div style=\"font-size: 1.6rem; line-height: 1.625;font-weight: bold;\" class=\"biography-header\">Biography</div>\n",
    "<div style=\"font-size: 1.6rem; line-height: 1.625;\" class=\"presenter-biography\">Kathy Traxler is an Education, Outreach and Training coordinator for CCT. She now works with professors, who secured grants needing EOT programs, to develop and implement these programs. Kathy received her B.S. in Computer Science from Southeastern LA University in 1988. She then went to University of Southern MS and received a M.S. in Computer Science in 1991. She taught and was undergraduate advisor in LSU's Computer Science department from June of 1993 through May of 2003. when she moved to CCT to work with students and develop EOT activities.</div>\n",
    "</div>\n",
    "\n",
    "<h3>John Fonner<br><span style=\"font-size: .8em\"><a href=\"https://tacc.utexas.edu/\">Texas Advanced Computing Center</a></span></h3>\n",
    "<div style=\"width:100% margin-top: 15px;\" class=\"biography info-section\">\n",
    "<div style=\"float:left; margin-right: 15px;\" class=\"presenter-photo\">\n",
    "    <img style=\"border-radius: 50%;border: 1px solid #ccc;\" src=\"http://sc17.supercomputing.org/wp-content/linklings_snippets/presenter_pics/wp_presenter_img_534853_john_fonner.jpg\" scale=\"0\">\n",
    "</div>\n",
    "<div style=\"font-size: 1.6rem; line-height: 1.625;font-weight: bold;\" class=\"biography-header\">Biography</div>\n",
    "<div style=\"font-size: 1.6rem; line-height: 1.625;\" class=\"presenter-biography\">John Fonner earned a Ph.D. in Biomedical Engineering at the University of Texas at Austin, where he used a blend of experimental and computational techniques to study binding interactions between peptides and conducting polymers for implant applications in the nervous system. He joined the Life Sciences Computing group at TACC in 2011 and has served on a number of projects that help life sciences researchers leverage advanced computing resources, both through training and through the development of better tools and cyberinfrastructure.\n",
    "</div>\n",
    "</div>\n",
    "\n",
    "<h3>Rion Dooley<br><span style=\"font-size: .8em\"><a href=\"https://tacc.utexas.edu/\">Texas Advanced Computing Center</a></span></h3>\n",
    "<div style=\"width:100% margin-top: 15px;\" class=\"biography info-section\">\n",
    "<div style=\"float:left; margin-right: 15px;\" class=\"presenter-photo\">\n",
    "    <img style=\"border-radius: 50%;border: 1px solid #ccc;\" src=\"http://sc17.supercomputing.org/wp-content/linklings_snippets/presenter_pics/wp_presenter_img_735343_rion_dooley.jpg\" scale=\"0\">\n",
    "</div>\n",
    "<div style=\"font-size: 1.6rem; line-height: 1.625;font-weight: bold;\" class=\"biography-header\">Biography</div>\n",
    "<div style=\"font-size: 1.6rem; line-height: 1.625;\" class=\"presenter-biography\">Rion Dooley is principal investigator on the Agave Project a Science-as-a-Service API platform allowing researchers worldwide to manage data, run code, collaborate freely, and integrate their science anywhere. His previous projects span areas of identity management, distributed web security, full-stack application development, data management, cloud services, and high performance computing. He earned his Ph.D. in computer science from Louisiana State University. Rion actively puts his wife and two daughters at the top of his list of accomplishments. He hopes his work can someday edge out dancing teddy bears and smear-proof lipstick on their lists of favorite inventions.</div>\n",
    "</div>\n"
   ]
  },
  {
   "cell_type": "markdown",
   "metadata": {},
   "source": [
    "## Acknowledgement  \n",
    "\n",
    "This material is based upon work supported by the National Science Foundation Plant Cyberinfrastructure Program (DBI-0735191), the National Science Foundation Plant Genome Research Program (IOS-1237931 and IOS-1237931), the National Science Foundation Division of Biological Infrastructure (DBI-1262414), the National Science Foundation Division of Advanced CyberInfrastructure (1127210), the National Science Foundation Computing and Communication Foundations (1539567), and the National Institute of Allergy and Infectious Diseases (1R01A1097403).\n"
   ]
  },
  {
   "cell_type": "markdown",
   "metadata": {
    "collapsed": true
   },
   "source": [
    "## Special thanks\n",
    "\n",
    "Special thanks go out to ***Shuai Yuan*** for his help on the Jupyter GUI notebook. "
   ]
  },
  {
   "cell_type": "code",
   "execution_count": null,
   "metadata": {
    "collapsed": true
   },
   "outputs": [],
   "source": []
  }
 ],
 "metadata": {
  "kernelspec": {
   "display_name": "Python 3",
   "language": "python",
   "name": "python3"
  },
  "language_info": {
   "codemirror_mode": {
    "name": "ipython",
    "version": 3
   },
   "file_extension": ".py",
   "mimetype": "text/x-python",
   "name": "python",
   "nbconvert_exporter": "python",
   "pygments_lexer": "ipython3",
   "version": "3.6.2"
  }
 },
 "nbformat": 4,
 "nbformat_minor": 2
}
