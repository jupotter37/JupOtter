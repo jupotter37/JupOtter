{
 "cells": [
  {
   "cell_type": "markdown",
   "metadata": {
    "deletable": true,
    "editable": true
   },
   "source": [
    "# Chinese document Classification"
   ]
  },
  {
   "cell_type": "code",
   "execution_count": 1,
   "metadata": {
    "collapsed": true,
    "deletable": true,
    "editable": true
   },
   "outputs": [],
   "source": [
    "%matplotlib inline\n",
    "import matplotlib.pyplot as plt\n",
    "import seaborn as sns\n",
    "import pandas as pd\n",
    "import numpy as np\n",
    "plt.style.use('fivethirtyeight')\n",
    "plt.rcParams['figure.figsize'] = (14, 6)\n",
    "\n",
    "from local_settings import settings, datautils"
   ]
  },
  {
   "cell_type": "markdown",
   "metadata": {
    "deletable": true,
    "editable": true
   },
   "source": [
    "# Overview of Task"
   ]
  },
  {
   "cell_type": "markdown",
   "metadata": {
    "deletable": true,
    "editable": true
   },
   "source": [
    "## 1. Load data"
   ]
  },
  {
   "cell_type": "code",
   "execution_count": 2,
   "metadata": {
    "collapsed": false,
    "deletable": true,
    "editable": true
   },
   "outputs": [
    {
     "data": {
      "text/html": [
       "<div>\n",
       "<table border=\"1\" class=\"dataframe\">\n",
       "  <thead>\n",
       "    <tr style=\"text-align: right;\">\n",
       "      <th></th>\n",
       "      <th>label</th>\n",
       "      <th>title</th>\n",
       "      <th>content</th>\n",
       "    </tr>\n",
       "  </thead>\n",
       "  <tbody>\n",
       "    <tr>\n",
       "      <th>0</th>\n",
       "      <td>1</td>\n",
       "      <td>ti3 ca1o shi4 jie4 be1i : che2ng fe1i na2 pi2...</td>\n",
       "      <td>su4 du4 : ( shuo1 mi2ng : dia3n ji1 zi4 do4ng ...</td>\n",
       "    </tr>\n",
       "    <tr>\n",
       "      <th>1</th>\n",
       "      <td>4</td>\n",
       "      <td>da3o ha2ng</td>\n",
       "      <td>du2 jia1 ti2 go1ng me3i ri4 ba4o jia4 \\n  re4 ...</td>\n",
       "    </tr>\n",
       "    <tr>\n",
       "      <th>2</th>\n",
       "      <td>1</td>\n",
       "      <td>wa3ng yi4 ti3 yu4</td>\n",
       "      <td>gu3n do4ng tu2 ji2 \\n  be3n tu2 ji2 go4ng 7 zh...</td>\n",
       "    </tr>\n",
       "    <tr>\n",
       "      <th>3</th>\n",
       "      <td>3</td>\n",
       "      <td>zi1 lia4o tu2 pia4n : dia4n shi4 ju4 &lt; fu2 gu...</td>\n",
       "      <td>wa3ng ye4 \\n  bu4 zhi1 chi2 Flash\\n  xi1n la4n...</td>\n",
       "    </tr>\n",
       "    <tr>\n",
       "      <th>4</th>\n",
       "      <td>2</td>\n",
       "      <td>niu3 yua2n dui4 me3i yua2n : ku4 lu2n jia3ng ...</td>\n",
       "      <td>xi1n xi1 la2n ca2i cha2ng ku4 lu2n fa1 bia3o j...</td>\n",
       "    </tr>\n",
       "  </tbody>\n",
       "</table>\n",
       "</div>"
      ],
      "text/plain": [
       "   label                                              title  \\\n",
       "0      1   ti3 ca1o shi4 jie4 be1i : che2ng fe1i na2 pi2...   \n",
       "1      4                                        da3o ha2ng    \n",
       "2      1                                 wa3ng yi4 ti3 yu4    \n",
       "3      3   zi1 lia4o tu2 pia4n : dia4n shi4 ju4 < fu2 gu...   \n",
       "4      2   niu3 yua2n dui4 me3i yua2n : ku4 lu2n jia3ng ...   \n",
       "\n",
       "                                             content  \n",
       "0  su4 du4 : ( shuo1 mi2ng : dia3n ji1 zi4 do4ng ...  \n",
       "1  du2 jia1 ti2 go1ng me3i ri4 ba4o jia4 \\n  re4 ...  \n",
       "2  gu3n do4ng tu2 ji2 \\n  be3n tu2 ji2 go4ng 7 zh...  \n",
       "3  wa3ng ye4 \\n  bu4 zhi1 chi2 Flash\\n  xi1n la4n...  \n",
       "4  xi1n xi1 la2n ca2i cha2ng ku4 lu2n fa1 bia3o j...  "
      ]
     },
     "execution_count": 2,
     "metadata": {},
     "output_type": "execute_result"
    }
   ],
   "source": [
    "data = pd.read_csv(settings.ZHNEWS_CSV, names=['label', 'title', 'content'])\n",
    "data.head()"
   ]
  },
  {
   "cell_type": "code",
   "execution_count": 3,
   "metadata": {
    "collapsed": false,
    "deletable": true,
    "editable": true
   },
   "outputs": [
    {
     "data": {
      "text/plain": [
       "<matplotlib.axes._subplots.AxesSubplot at 0x7f8cd8ae3828>"
      ]
     },
     "execution_count": 3,
     "metadata": {},
     "output_type": "execute_result"
    },
    {
     "data": {
      "image/png": "[encoded data removed]",
      "text/plain": [
       "<matplotlib.figure.Figure at 0x7f8d0f3b5c88>"
      ]
     },
     "metadata": {},
     "output_type": "display_data"
    }
   ],
   "source": [
    "sns.countplot(data['label'])"
   ]
  },
  {
   "cell_type": "markdown",
   "metadata": {
    "deletable": true,
    "editable": true
   },
   "source": [
    "## 2. Build vocab"
   ]
  },
  {
   "cell_type": "code",
   "execution_count": 4,
   "metadata": {
    "collapsed": true,
    "deletable": true,
    "editable": true
   },
   "outputs": [],
   "source": [
    "chars = 'abcdefghijklmnopqrstuvwxyz-,;!?:\\'\\\\|_@#$%ˆ&*˜‘+-=<>()[]{} '\n",
    "char_to_index = {char:i for i, char in enumerate(chars)}\n",
    "index_to_char = {i: char for i, char in enumerate(chars)}"
   ]
  },
  {
   "cell_type": "markdown",
   "metadata": {
    "deletable": true,
    "editable": true
   },
   "source": [
    "## 3. Find max sequence length"
   ]
  },
  {
   "cell_type": "code",
   "execution_count": 5,
   "metadata": {
    "collapsed": false,
    "deletable": true,
    "editable": true
   },
   "outputs": [
    {
     "data": {
      "text/plain": [
       "207"
      ]
     },
     "execution_count": 5,
     "metadata": {},
     "output_type": "execute_result"
    }
   ],
   "source": [
    "maxlen = int(max(data['title'].apply(len)))\n",
    "maxlen"
   ]
  },
  {
   "cell_type": "markdown",
   "metadata": {
    "deletable": true,
    "editable": true
   },
   "source": [
    "## 4. Convert sequences to Tensors"
   ]
  },
  {
   "cell_type": "code",
   "execution_count": 6,
   "metadata": {
    "collapsed": true,
    "deletable": true,
    "editable": true
   },
   "outputs": [],
   "source": [
    "def encode_input(title, maxlen=207):\n",
    "    title = title.lower().strip()\n",
    "    encoding = np.zeros((len(chars), maxlen), dtype=np.int64)\n",
    "    for i, char in enumerate(title[:maxlen]):\n",
    "        index = char_to_index.get(char, 'unknown')\n",
    "        if index is not 'unknown':\n",
    "            encoding[index,i] = 1\n",
    "    return encoding"
   ]
  },
  {
   "cell_type": "code",
   "execution_count": 7,
   "metadata": {
    "collapsed": true,
    "deletable": true,
    "editable": true
   },
   "outputs": [],
   "source": [
    "import torch\n",
    "import torch.nn as nn\n",
    "from torch.autograd import Variable\n",
    "import torch.nn.functional as F"
   ]
  },
  {
   "cell_type": "code",
   "execution_count": 8,
   "metadata": {
    "collapsed": false,
    "deletable": true,
    "editable": true
   },
   "outputs": [
    {
     "data": {
      "text/plain": [
       "array([[0, 0, 0, ..., 0, 0, 0],\n",
       "       [1, 0, 0, ..., 0, 0, 0],\n",
       "       [0, 0, 0, ..., 0, 0, 0],\n",
       "       ..., \n",
       "       [0, 0, 0, ..., 0, 0, 0],\n",
       "       [0, 0, 0, ..., 0, 0, 0],\n",
       "       [0, 0, 0, ..., 0, 0, 0]])"
      ]
     },
     "execution_count": 8,
     "metadata": {},
     "output_type": "execute_result"
    }
   ],
   "source": [
    "encode_input('Brian')"
   ]
  },
  {
   "cell_type": "code",
   "execution_count": 9,
   "metadata": {
    "collapsed": false,
    "deletable": true,
    "editable": true
   },
   "outputs": [
    {
     "data": {
      "text/plain": [
       "(57, 207)"
      ]
     },
     "execution_count": 9,
     "metadata": {},
     "output_type": "execute_result"
    }
   ],
   "source": [
    "encode_input('Brian').shape"
   ]
  },
  {
   "cell_type": "markdown",
   "metadata": {
    "deletable": true,
    "editable": true
   },
   "source": [
    "## 5. Build PyTorch Dataset and DataLoader"
   ]
  },
  {
   "cell_type": "code",
   "execution_count": 10,
   "metadata": {
    "collapsed": true,
    "deletable": true,
    "editable": true
   },
   "outputs": [],
   "source": [
    "from torch.utils.data import Dataset, DataLoader"
   ]
  },
  {
   "cell_type": "code",
   "execution_count": 11,
   "metadata": {
    "collapsed": true,
    "deletable": true,
    "editable": true
   },
   "outputs": [],
   "source": [
    "class SogouNews(Dataset):\n",
    "    \"\"\"Sogou News dataset\"\"\"\n",
    "    \n",
    "    def __init__(self, data_path):\n",
    "        self.data = pd.read_csv(data_path, names=['label', 'title', 'content']).dropna()\n",
    "        del self.data['content']\n",
    "        self.X = self.data['title']\n",
    "        self.y = self.data['label']\n",
    "    \n",
    "    def __len__(self):\n",
    "        return len(self.data)\n",
    "    \n",
    "    def __getitem__(self, index):\n",
    "        content = torch.from_numpy(encode_input(self.data['title'][index])).float()\n",
    "        label = self.data['label'][index] - 1\n",
    "        sample = {'X': content, 'y': label}\n",
    "        return sample"
   ]
  },
  {
   "cell_type": "code",
   "execution_count": 12,
   "metadata": {
    "collapsed": true,
    "deletable": true,
    "editable": true
   },
   "outputs": [],
   "source": [
    "sogou_dataset = SogouNews(settings.ZHNEWS_CSV)"
   ]
  },
  {
   "cell_type": "code",
   "execution_count": 13,
   "metadata": {
    "collapsed": true,
    "deletable": true,
    "editable": true
   },
   "outputs": [],
   "source": [
    "dataloader = DataLoader(sogou_dataset, batch_size=32, shuffle=True, num_workers=0)"
   ]
  },
  {
   "cell_type": "code",
   "execution_count": 14,
   "metadata": {
    "collapsed": false,
    "deletable": true,
    "editable": true
   },
   "outputs": [
    {
     "data": {
      "text/plain": [
       "\n",
       "    0     0     0  ...      0     0     0\n",
       "    0     0     0  ...      0     0     0\n",
       "    0     0     0  ...      0     0     0\n",
       "       ...          ⋱          ...       \n",
       "    0     0     0  ...      0     0     0\n",
       "    0     0     0  ...      0     0     0\n",
       "    0     0     0  ...      0     0     0\n",
       "[torch.FloatTensor of size 57x207]"
      ]
     },
     "execution_count": 14,
     "metadata": {},
     "output_type": "execute_result"
    }
   ],
   "source": [
    "test_batch = next(iter(dataloader))\n",
    "test_batch['X'][0]"
   ]
  },
  {
   "cell_type": "markdown",
   "metadata": {
    "deletable": true,
    "editable": true
   },
   "source": [
    "# Define Model"
   ]
  },
  {
   "cell_type": "code",
   "execution_count": 15,
   "metadata": {
    "collapsed": true,
    "deletable": true,
    "editable": true
   },
   "outputs": [],
   "source": [
    "class CharCNN(nn.Module):    \n",
    "    def __init__(self, n_classes, vocab_size, max_seq_length, channel_size=128, pool_size=5):\n",
    "        \n",
    "        super(CharCNN, self).__init__()\n",
    "    \n",
    "        self.conv_stack = nn.ModuleList([nn.Conv1d(vocab_size, channel_size, 7), \n",
    "                                         nn.ReLU(),\n",
    "                                         nn.BatchNorm1d(num_features=channel_size),\n",
    "                                         nn.MaxPool1d(pool_size),\n",
    "                                         nn.Conv1d(channel_size, channel_size, 3, padding=1),\n",
    "                                         nn.ReLU(),\n",
    "                                         nn.BatchNorm1d(num_features=channel_size),\n",
    "                                         nn.MaxPool1d(pool_size)])\n",
    "        self.dropout1 = nn.Dropout(p=0.5)\n",
    "        self.output = nn.Linear(1024, n_classes)\n",
    "        \n",
    "        \n",
    "    def forward(self, x):\n",
    "        for op in self.conv_stack:\n",
    "            x = op(x)\n",
    "        \n",
    "        x = x.view(x.size(0),-1)\n",
    "        x = self.dropout1(x)\n",
    "        x = self.output(x)\n",
    "        return x"
   ]
  },
  {
   "cell_type": "markdown",
   "metadata": {
    "deletable": true,
    "editable": true
   },
   "source": [
    "## Define loss"
   ]
  },
  {
   "cell_type": "code",
   "execution_count": 16,
   "metadata": {
    "collapsed": true,
    "deletable": true,
    "editable": true
   },
   "outputs": [],
   "source": [
    "criterion = nn.CrossEntropyLoss()"
   ]
  },
  {
   "cell_type": "code",
   "execution_count": 17,
   "metadata": {
    "collapsed": true,
    "deletable": true,
    "editable": true
   },
   "outputs": [],
   "source": [
    "from tqdm import tqdm_notebook"
   ]
  },
  {
   "cell_type": "code",
   "execution_count": 18,
   "metadata": {
    "collapsed": true,
    "deletable": true,
    "editable": true
   },
   "outputs": [],
   "source": [
    "def train(model, dataloader, num_epochs, loss_history):\n",
    "    cuda = torch.cuda.is_available()\n",
    "    if cuda:\n",
    "        model.cuda()\n",
    "    optimizer = torch.optim.Adam(model.parameters())\n",
    "    bar = tqdm_notebook(total=len(dataloader))\n",
    "    for i in range(num_epochs):\n",
    "        per_epoch_losses = []\n",
    "        for batch in dataloader:\n",
    "            X = Variable(batch['X'])\n",
    "            y = Variable(batch['y'])\n",
    "            if cuda:\n",
    "                X = X.cuda()\n",
    "                y = y.cuda()\n",
    "            model.zero_grad()\n",
    "            outputs = model(X)\n",
    "            loss = criterion(outputs, y)\n",
    "            loss.backward()\n",
    "            optimizer.step()\n",
    "            per_epoch_losses.append(loss.data[0])\n",
    "            bar.set_postfix(loss=loss.data[0])\n",
    "            bar.update(1)\n",
    "        loss_history.append(np.mean(per_epoch_losses))\n",
    "        print('epoch[%d] loss: %.4f' % (i, loss.data[0]))\n",
    "    return loss_history"
   ]
  },
  {
   "cell_type": "code",
   "execution_count": 19,
   "metadata": {
    "collapsed": true,
    "deletable": true,
    "editable": true
   },
   "outputs": [],
   "source": [
    "charcnn = CharCNN(n_classes=5, vocab_size=len(chars), max_seq_length=maxlen)"
   ]
  },
  {
   "cell_type": "code",
   "execution_count": 20,
   "metadata": {
    "collapsed": true,
    "deletable": true,
    "editable": true
   },
   "outputs": [],
   "source": [
    "loss_history = []"
   ]
  },
  {
   "cell_type": "code",
   "execution_count": 21,
   "metadata": {
    "collapsed": false,
    "deletable": true,
    "editable": true
   },
   "outputs": [
    {
     "data": {
      "application/vnd.jupyter.widget-view+json": {
       "model_id": "d4893c16067043d8b6732581b4552092"
      }
     },
     "metadata": {},
     "output_type": "display_data"
    },
    {
     "name": "stdout",
     "output_type": "stream",
     "text": [
      "epoch[0] loss: 1.0125\n",
      "epoch[1] loss: 0.6316\n",
      "epoch[2] loss: 0.3102\n",
      "epoch[3] loss: 0.3798\n",
      "epoch[4] loss: 0.4475\n",
      "epoch[5] loss: 0.4318\n",
      "epoch[6] loss: 0.4616\n",
      "epoch[7] loss: 0.2947\n",
      "epoch[8] loss: 0.3853\n",
      "epoch[9] loss: 0.5907\n",
      "epoch[10] loss: 0.2385\n",
      "epoch[11] loss: 0.3859\n",
      "epoch[12] loss: 0.5880\n",
      "epoch[13] loss: 0.0821\n",
      "epoch[14] loss: 0.1574\n",
      "epoch[15] loss: 0.2979\n",
      "epoch[16] loss: 0.1919\n",
      "epoch[17] loss: 0.0421\n",
      "epoch[18] loss: 0.2789\n",
      "epoch[19] loss: 0.0759\n",
      "epoch[20] loss: 0.2457\n",
      "epoch[21] loss: 0.1539\n",
      "epoch[22] loss: 0.2495\n",
      "epoch[23] loss: 0.2738\n",
      "epoch[24] loss: 0.1787\n",
      "epoch[25] loss: 0.1818\n",
      "epoch[26] loss: 0.1908\n",
      "epoch[27] loss: 0.1909\n",
      "epoch[28] loss: 0.1800\n",
      "epoch[29] loss: 0.2165\n",
      "epoch[30] loss: 0.1303\n",
      "epoch[31] loss: 0.0821\n",
      "epoch[32] loss: 0.1988\n",
      "epoch[33] loss: 0.0734\n",
      "epoch[34] loss: 0.0995\n",
      "epoch[35] loss: 0.3799\n",
      "epoch[36] loss: 0.1245\n",
      "epoch[37] loss: 0.2139\n",
      "epoch[38] loss: 0.3832\n",
      "epoch[39] loss: 0.0434\n",
      "epoch[40] loss: 0.1631\n",
      "epoch[41] loss: 0.1988\n",
      "epoch[42] loss: 0.0680\n",
      "epoch[43] loss: 0.1036\n",
      "epoch[44] loss: 0.1608\n",
      "epoch[45] loss: 0.0424\n",
      "epoch[46] loss: 0.1204\n",
      "epoch[47] loss: 0.0638\n",
      "epoch[48] loss: 0.0178\n",
      "epoch[49] loss: 0.0133\n",
      "epoch[50] loss: 0.0336\n",
      "epoch[51] loss: 0.2700\n",
      "epoch[52] loss: 0.2089\n",
      "epoch[53] loss: 0.2930\n",
      "epoch[54] loss: 0.0989\n",
      "epoch[55] loss: 0.0273\n",
      "epoch[56] loss: 0.0835\n",
      "epoch[57] loss: 0.2447\n",
      "epoch[58] loss: 0.1637\n",
      "epoch[59] loss: 0.1404\n",
      "epoch[60] loss: 0.2227\n",
      "epoch[61] loss: 0.0680\n",
      "epoch[62] loss: 0.2013\n",
      "epoch[63] loss: 0.1672\n",
      "epoch[64] loss: 0.1086\n",
      "epoch[65] loss: 0.1863\n",
      "epoch[66] loss: 0.2671\n",
      "epoch[67] loss: 0.0799\n",
      "epoch[68] loss: 0.1660\n",
      "epoch[69] loss: 0.0298\n",
      "epoch[70] loss: 0.0633\n",
      "epoch[71] loss: 0.0100\n",
      "epoch[72] loss: 0.1455\n",
      "epoch[73] loss: 0.0962\n",
      "epoch[74] loss: 0.1906\n",
      "epoch[75] loss: 0.0872\n",
      "epoch[76] loss: 0.1409\n",
      "epoch[77] loss: 0.0295\n",
      "epoch[78] loss: 0.0506\n",
      "epoch[79] loss: 0.2864\n",
      "epoch[80] loss: 0.0231\n",
      "epoch[81] loss: 0.0760\n",
      "epoch[82] loss: 0.0249\n",
      "epoch[83] loss: 0.0694\n",
      "epoch[84] loss: 0.3208\n",
      "epoch[85] loss: 0.4952\n",
      "epoch[86] loss: 0.1414\n",
      "epoch[87] loss: 0.1518\n",
      "epoch[88] loss: 0.0397\n",
      "epoch[89] loss: 0.0941\n",
      "epoch[90] loss: 0.1205\n",
      "epoch[91] loss: 0.0815\n",
      "epoch[92] loss: 0.0767\n",
      "epoch[93] loss: 0.0212\n",
      "epoch[94] loss: 0.0082\n",
      "epoch[95] loss: 0.0798\n",
      "epoch[96] loss: 0.1038\n",
      "epoch[97] loss: 0.1353\n",
      "epoch[98] loss: 0.0666\n",
      "epoch[99] loss: 0.0283\n",
      "187500it [24:21, 150.17it/s, loss=0.0283]"
     ]
    }
   ],
   "source": [
    "try:\n",
    "    train(charcnn, dataloader, 100, loss_history)\n",
    "except KeyboardInterrupt:\n",
    "    print(\"...\")"
   ]
  },
  {
   "cell_type": "code",
   "execution_count": 22,
   "metadata": {
    "collapsed": false,
    "deletable": true,
    "editable": true
   },
   "outputs": [
    {
     "data": {
      "image/png": "[encoded data removed]",
      "text/plain": [
       "<matplotlib.figure.Figure at 0x7f8ca6ea7e10>"
      ]
     },
     "metadata": {},
     "output_type": "display_data"
    }
   ],
   "source": [
    "plt.plot(loss_history);"
   ]
  },
  {
   "cell_type": "code",
   "execution_count": null,
   "metadata": {
    "collapsed": true
   },
   "outputs": [],
   "source": []
  }
 ],
 "metadata": {
  "kernelspec": {
   "display_name": "Python 3",
   "language": "python",
   "name": "python3"
  },
  "language_info": {
   "codemirror_mode": {
    "name": "ipython",
    "version": 3
   },
   "file_extension": ".py",
   "mimetype": "text/x-python",
   "name": "python",
   "nbconvert_exporter": "python",
   "pygments_lexer": "ipython3",
   "version": "3.6.0"
  }
 },
 "nbformat": 4,
 "nbformat_minor": 2
}
