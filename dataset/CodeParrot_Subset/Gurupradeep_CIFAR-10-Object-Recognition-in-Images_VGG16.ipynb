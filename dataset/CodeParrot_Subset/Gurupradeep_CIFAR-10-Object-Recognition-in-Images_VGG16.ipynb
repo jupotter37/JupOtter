{
 "cells": [
  {
   "cell_type": "code",
   "execution_count": 1,
   "metadata": {},
   "outputs": [
    {
     "name": "stderr",
     "output_type": "stream",
     "text": [
      "Using TensorFlow backend.\n"
     ]
    }
   ],
   "source": [
    "from keras.applications.vgg16 import VGG16\n",
    "from keras.applications.vgg16 import preprocess_input\n",
    "from keras.layers import Input, Flatten, Dense,Dropout\n",
    "from keras.models import Model\n",
    "from keras.utils import np_utils\n",
    "from keras.preprocessing.image import ImageDataGenerator\n",
    "from keras import regularizers,optimizers\n",
    "import numpy as np\n",
    "import keras"
   ]
  },
  {
   "cell_type": "code",
   "execution_count": 2,
   "metadata": {
    "collapsed": true
   },
   "outputs": [],
   "source": [
    "from keras.datasets import cifar10\n"
   ]
  },
  {
   "cell_type": "code",
   "execution_count": 2,
   "metadata": {
    "collapsed": true
   },
   "outputs": [],
   "source": [
    "from keras.callbacks import ReduceLROnPlateau, CSVLogger,EarlyStopping\n",
    "from scipy.misc import toimage, imresize"
   ]
  },
  {
   "cell_type": "code",
   "execution_count": 3,
   "metadata": {
    "collapsed": true
   },
   "outputs": [],
   "source": [
    "#Defining the shape of input image\n",
    "no_of_channels = 3\n",
    "height = 64\n",
    "width = 64"
   ]
  },
  {
   "cell_type": "code",
   "execution_count": 6,
   "metadata": {
    "collapsed": true
   },
   "outputs": [],
   "source": [
    "#Resizing the dataset\n",
    "def Resize(images) :\n",
    "    X = np.zeros((images.shape[0],height,width,3))\n",
    "    for i in range(images.shape[0]):\n",
    "        X[i]= imresize(images[i], (height,width,no_of_channels), interp='bilinear', mode=None)\n",
    "    return X"
   ]
  },
  {
   "cell_type": "code",
   "execution_count": 25,
   "metadata": {},
   "outputs": [
    {
     "name": "stdout",
     "output_type": "stream",
     "text": [
      "Downloading data from http://www.cs.toronto.edu/~kriz/cifar-10-python.tar.gz\n",
      "170491904/170498071 [============================>.] - ETA: 0s"
     ]
    }
   ],
   "source": [
    "(x_train, y_train), (x_test, y_test) = cifar10.load_data()"
   ]
  },
  {
   "cell_type": "code",
   "execution_count": 34,
   "metadata": {
    "collapsed": true
   },
   "outputs": [],
   "source": [
    "np.save(\"x_train_out.npy\",x_train)\n",
    "np.save(\"y_train_out.npy\",y_train)\n",
    "np.save(\"x_test_out.npy\",x_test)\n",
    "np.save(\"y_test_out.npy\",y_test)"
   ]
  },
  {
   "cell_type": "code",
   "execution_count": 7,
   "metadata": {
    "collapsed": true
   },
   "outputs": [],
   "source": [
    "#Loading testing and training data from numpy arrays\n",
    "x_train = np.load(\"x_train_out.npy\")\n",
    "y_train = np.load(\"y_train_out.npy\")\n",
    "x_test = np.load(\"x_test_out.npy\")\n",
    "y_test = np.load(\"y_test_out.npy\")"
   ]
  },
  {
   "cell_type": "code",
   "execution_count": 8,
   "metadata": {
    "collapsed": true
   },
   "outputs": [],
   "source": [
    "x_train = x_train.astype('float32')\n",
    "x_test = x_test.astype('float32')"
   ]
  },
  {
   "cell_type": "code",
   "execution_count": 9,
   "metadata": {},
   "outputs": [
    {
     "data": {
      "text/plain": [
       "(50000, 32, 32, 3)"
      ]
     },
     "execution_count": 9,
     "metadata": {},
     "output_type": "execute_result"
    }
   ],
   "source": [
    "x_train.shape"
   ]
  },
  {
   "cell_type": "code",
   "execution_count": 11,
   "metadata": {},
   "outputs": [],
   "source": [
    "#Changing the shape of CIFAR10 dataset from 32*32*3 to 64*64*3\n",
    "x_train = Resize(x_train)\n",
    "x_test = Resize(x_test)"
   ]
  },
  {
   "cell_type": "code",
   "execution_count": 12,
   "metadata": {
    "collapsed": true
   },
   "outputs": [],
   "source": [
    "#z-score\n",
    "mean = np.mean(x_train,axis=(0,1,2,3))\n",
    "std = np.std(x_train,axis=(0,1,2,3))\n",
    "x_train = (x_train-mean)/(std+1e-7)\n",
    "x_test = (x_test-mean)/(std+1e-7)"
   ]
  },
  {
   "cell_type": "code",
   "execution_count": 13,
   "metadata": {},
   "outputs": [
    {
     "name": "stdout",
     "output_type": "stream",
     "text": [
      "(50000, 1)\n"
     ]
    }
   ],
   "source": [
    "print(y_train.shape)"
   ]
  },
  {
   "cell_type": "code",
   "execution_count": 14,
   "metadata": {},
   "outputs": [
    {
     "name": "stdout",
     "output_type": "stream",
     "text": [
      "[6]\n"
     ]
    }
   ],
   "source": [
    "print(y_train[0])"
   ]
  },
  {
   "cell_type": "code",
   "execution_count": 15,
   "metadata": {
    "collapsed": true
   },
   "outputs": [],
   "source": [
    "#one hot encoding of target labels\n",
    "num_classes = 10\n",
    "y_train = np_utils.to_categorical(y_train,num_classes)\n",
    "y_test = np_utils.to_categorical(y_test,num_classes)"
   ]
  },
  {
   "cell_type": "code",
   "execution_count": 16,
   "metadata": {},
   "outputs": [
    {
     "name": "stdout",
     "output_type": "stream",
     "text": [
      "(50000, 10)\n"
     ]
    }
   ],
   "source": [
    "print(y_train.shape)"
   ]
  },
  {
   "cell_type": "code",
   "execution_count": 17,
   "metadata": {},
   "outputs": [
    {
     "name": "stdout",
     "output_type": "stream",
     "text": [
      "[ 0.  0.  0.  0.  0.  0.  1.  0.  0.  0.]\n"
     ]
    }
   ],
   "source": [
    "print(y_train[0])"
   ]
  },
  {
   "cell_type": "code",
   "execution_count": 18,
   "metadata": {
    "collapsed": true
   },
   "outputs": [],
   "source": [
    "def PretrainedModel(num_of_classes) :\n",
    "    \n",
    "    #load vgg model from keras\n",
    "    vgg_16_model = VGG16(weights=None,include_top= False,input_shape=(height,width,no_of_channels))\n",
    "    vgg_16_model.summary()\n",
    "    \n",
    "    #get weights from pretrained model on imagenet\n",
    "    vgg_16_model.load_weights('vgg16_weights_tf_dim_ordering_tf_kernels_notop.h5')\n",
    "    \n",
    "    print(len(vgg_16_model.layers))\n",
    "    \n",
    "    #Freeze all layers\n",
    "    #for i in range(19):\n",
    "     # vgg_16_model.layers[i].trainable = False\n",
    "    \n",
    "    #change model input layer according to cifar-10 dataset\n",
    "    inputs = Input(shape = (height,width,no_of_channels), name = \"image_input\")\n",
    "    \n",
    "    #create dummy layer\n",
    "    output_vgg16_model = vgg_16_model(inputs)\n",
    "    \n",
    "    #Add the fully-connected layers \n",
    "    #Adding one fully connected layer instead of 2 to decrease overfitting\n",
    "    x = Flatten(name='flatten')(output_vgg16_model)\n",
    "    x = Dense(2048, activation='relu', name='fc1')(x)\n",
    "    x = Dropout(0.5)(x)\n",
    "    x = Dense(num_of_classes, activation='softmax', name='predictions')(x)\n",
    "\n",
    "    #Create custom model\n",
    "    cifar10_vgg = Model(inputs=inputs, outputs=x)\n",
    "\n",
    "    #In the summary, weights and layers from VGG part will be hidden, but they will be fit during the training\n",
    "    cifar10_vgg.summary()\n",
    "    \n",
    "    print(len(cifar10_vgg.layers))\n",
    "    \n",
    "    return cifar10_vgg\n",
    "\n",
    "    "
   ]
  },
  {
   "cell_type": "code",
   "execution_count": 19,
   "metadata": {},
   "outputs": [
    {
     "name": "stdout",
     "output_type": "stream",
     "text": [
      "_________________________________________________________________\n",
      "Layer (type)                 Output Shape              Param #   \n",
      "=================================================================\n",
      "input_1 (InputLayer)         (None, 64, 64, 3)         0         \n",
      "_________________________________________________________________\n",
      "block1_conv1 (Conv2D)        (None, 64, 64, 64)        1792      \n",
      "_________________________________________________________________\n",
      "block1_conv2 (Conv2D)        (None, 64, 64, 64)        36928     \n",
      "_________________________________________________________________\n",
      "block1_pool (MaxPooling2D)   (None, 32, 32, 64)        0         \n",
      "_________________________________________________________________\n",
      "block2_conv1 (Conv2D)        (None, 32, 32, 128)       73856     \n",
      "_________________________________________________________________\n",
      "block2_conv2 (Conv2D)        (None, 32, 32, 128)       147584    \n",
      "_________________________________________________________________\n",
      "block2_pool (MaxPooling2D)   (None, 16, 16, 128)       0         \n",
      "_________________________________________________________________\n",
      "block3_conv1 (Conv2D)        (None, 16, 16, 256)       295168    \n",
      "_________________________________________________________________\n",
      "block3_conv2 (Conv2D)        (None, 16, 16, 256)       590080    \n",
      "_________________________________________________________________\n",
      "block3_conv3 (Conv2D)        (None, 16, 16, 256)       590080    \n",
      "_________________________________________________________________\n",
      "block3_pool (MaxPooling2D)   (None, 8, 8, 256)         0         \n",
      "_________________________________________________________________\n",
      "block4_conv1 (Conv2D)        (None, 8, 8, 512)         1180160   \n",
      "_________________________________________________________________\n",
      "block4_conv2 (Conv2D)        (None, 8, 8, 512)         2359808   \n",
      "_________________________________________________________________\n",
      "block4_conv3 (Conv2D)        (None, 8, 8, 512)         2359808   \n",
      "_________________________________________________________________\n",
      "block4_pool (MaxPooling2D)   (None, 4, 4, 512)         0         \n",
      "_________________________________________________________________\n",
      "block5_conv1 (Conv2D)        (None, 4, 4, 512)         2359808   \n",
      "_________________________________________________________________\n",
      "block5_conv2 (Conv2D)        (None, 4, 4, 512)         2359808   \n",
      "_________________________________________________________________\n",
      "block5_conv3 (Conv2D)        (None, 4, 4, 512)         2359808   \n",
      "_________________________________________________________________\n",
      "block5_pool (MaxPooling2D)   (None, 2, 2, 512)         0         \n",
      "=================================================================\n",
      "Total params: 14,714,688.0\n",
      "Trainable params: 14,714,688.0\n",
      "Non-trainable params: 0.0\n",
      "_________________________________________________________________\n",
      "19\n",
      "_________________________________________________________________\n",
      "Layer (type)                 Output Shape              Param #   \n",
      "=================================================================\n",
      "image_input (InputLayer)     (None, 64, 64, 3)         0         \n",
      "_________________________________________________________________\n",
      "vgg16 (Model)                (None, 2, 2, 512)         14714688  \n",
      "_________________________________________________________________\n",
      "flatten (Flatten)            (None, 2048)              0         \n",
      "_________________________________________________________________\n",
      "fc1 (Dense)                  (None, 2048)              4196352   \n",
      "_________________________________________________________________\n",
      "dropout_1 (Dropout)          (None, 2048)              0         \n",
      "_________________________________________________________________\n",
      "predictions (Dense)          (None, 10)                20490     \n",
      "=================================================================\n",
      "Total params: 18,931,530.0\n",
      "Trainable params: 18,931,530.0\n",
      "Non-trainable params: 0.0\n",
      "_________________________________________________________________\n",
      "6\n"
     ]
    }
   ],
   "source": [
    "model = PretrainedModel(10)"
   ]
  },
  {
   "cell_type": "code",
   "execution_count": 26,
   "metadata": {
    "collapsed": true
   },
   "outputs": [],
   "source": [
    "data_augmentation = True"
   ]
  },
  {
   "cell_type": "code",
   "execution_count": 32,
   "metadata": {
    "collapsed": true
   },
   "outputs": [],
   "source": [
    "batch_size = 64\n",
    "epochs = 100"
   ]
  },
  {
   "cell_type": "code",
   "execution_count": 28,
   "metadata": {
    "collapsed": true
   },
   "outputs": [],
   "source": [
    "#Defining Callback functions which will be called by model during runtime when specified condition satisfies\n",
    "lr_reducer = ReduceLROnPlateau(factor=np.sqrt(0.1), cooldown=0, patience=2, min_lr=0.5e-6)\n",
    "csv_logger = CSVLogger('./vgg16imagenetpretrained_upsampleimage_cifar10_data_argumentation.csv')\n",
    "early_stopper = EarlyStopping(min_delta=0.001, patience=10)"
   ]
  },
  {
   "cell_type": "code",
   "execution_count": 29,
   "metadata": {
    "collapsed": true
   },
   "outputs": [],
   "source": [
    "opt = optimizers.rmsprop(lr=0.0001, decay=1e-6)"
   ]
  },
  {
   "cell_type": "code",
   "execution_count": 30,
   "metadata": {
    "collapsed": true
   },
   "outputs": [],
   "source": [
    "model.compile(loss = 'categorical_crossentropy',optimizer='adam',metrics = ['accuracy'])"
   ]
  },
  {
   "cell_type": "code",
   "execution_count": 33,
   "metadata": {
    "scrolled": true
   },
   "outputs": [
    {
     "name": "stdout",
     "output_type": "stream",
     "text": [
      "-------------Using Data augmentation------------\n",
      "Epoch 1/100\n",
      "781/781 [==============================] - 2070s - loss: 1.6934 - acc: 0.3396 - val_loss: 1.5510 - val_acc: 0.3817\n",
      "Epoch 2/100\n",
      "781/781 [==============================] - 2058s - loss: 1.4432 - acc: 0.4343 - val_loss: 1.4019 - val_acc: 0.4665\n",
      "Epoch 3/100\n",
      "781/781 [==============================] - 2055s - loss: 1.2544 - acc: 0.5241 - val_loss: 1.1731 - val_acc: 0.5672\n",
      "Epoch 4/100\n",
      "781/781 [==============================] - 2048s - loss: 1.0923 - acc: 0.6033 - val_loss: 1.0339 - val_acc: 0.6367\n",
      "Epoch 5/100\n",
      "781/781 [==============================] - 2047s - loss: 0.9946 - acc: 0.6427 - val_loss: 0.9119 - val_acc: 0.6775\n",
      "Epoch 6/100\n",
      "781/781 [==============================] - 2047s - loss: 0.9315 - acc: 0.6714 - val_loss: 0.9422 - val_acc: 0.6732\n",
      "Epoch 7/100\n",
      "781/781 [==============================] - 2046s - loss: 0.8698 - acc: 0.6937 - val_loss: 0.8044 - val_acc: 0.7209\n",
      "Epoch 8/100\n",
      "781/781 [==============================] - 2046s - loss: 0.8387 - acc: 0.7078 - val_loss: 0.8348 - val_acc: 0.7155\n",
      "Epoch 9/100\n",
      "781/781 [==============================] - 2046s - loss: 0.8045 - acc: 0.7207 - val_loss: 0.7550 - val_acc: 0.7378\n",
      "Epoch 10/100\n",
      "781/781 [==============================] - 2046s - loss: 0.7844 - acc: 0.7311 - val_loss: 0.7678 - val_acc: 0.7368\n",
      "Epoch 11/100\n",
      "781/781 [==============================] - 2046s - loss: 0.7538 - acc: 0.7434 - val_loss: 0.7736 - val_acc: 0.7359\n",
      "Epoch 12/100\n",
      "781/781 [==============================] - 2046s - loss: 0.7440 - acc: 0.7497 - val_loss: 0.7325 - val_acc: 0.7583\n",
      "Epoch 13/100\n",
      "781/781 [==============================] - 2046s - loss: 0.7169 - acc: 0.7568 - val_loss: 0.7336 - val_acc: 0.7509\n",
      "Epoch 14/100\n",
      "781/781 [==============================] - 2046s - loss: 0.6984 - acc: 0.7628 - val_loss: 0.7597 - val_acc: 0.7529\n",
      "Epoch 15/100\n",
      "781/781 [==============================] - 2046s - loss: 0.6926 - acc: 0.7670 - val_loss: 0.7584 - val_acc: 0.7469\n",
      "Epoch 16/100\n",
      "781/781 [==============================] - 2046s - loss: 0.5484 - acc: 0.8154 - val_loss: 0.5872 - val_acc: 0.8052\n",
      "Epoch 17/100\n",
      "781/781 [==============================] - 2046s - loss: 0.5043 - acc: 0.8295 - val_loss: 0.5592 - val_acc: 0.8164\n",
      "Epoch 18/100\n",
      "781/781 [==============================] - 2046s - loss: 0.4825 - acc: 0.8356 - val_loss: 0.5542 - val_acc: 0.8149\n",
      "Epoch 19/100\n",
      "781/781 [==============================] - 2046s - loss: 0.4689 - acc: 0.8414 - val_loss: 0.5751 - val_acc: 0.8116\n",
      "Epoch 20/100\n",
      "781/781 [==============================] - 2046s - loss: 0.4499 - acc: 0.8485 - val_loss: 0.5652 - val_acc: 0.8141\n",
      "Epoch 21/100\n",
      "781/781 [==============================] - 2046s - loss: 0.4415 - acc: 0.8503 - val_loss: 0.5494 - val_acc: 0.8214\n",
      "Epoch 22/100\n",
      "781/781 [==============================] - 2046s - loss: 0.4254 - acc: 0.8546 - val_loss: 0.5139 - val_acc: 0.8300\n",
      "Epoch 23/100\n",
      "781/781 [==============================] - 2046s - loss: 0.4152 - acc: 0.8596 - val_loss: 0.5352 - val_acc: 0.8281\n",
      "Epoch 24/100\n",
      "781/781 [==============================] - 2046s - loss: 0.4061 - acc: 0.8621 - val_loss: 0.5294 - val_acc: 0.8280\n",
      "Epoch 25/100\n",
      "781/781 [==============================] - 2046s - loss: 0.3943 - acc: 0.8653 - val_loss: 0.5326 - val_acc: 0.8268\n",
      "Epoch 26/100\n",
      "781/781 [==============================] - 2046s - loss: 0.3457 - acc: 0.8806 - val_loss: 0.4960 - val_acc: 0.8412\n",
      "Epoch 27/100\n",
      "781/781 [==============================] - 2046s - loss: 0.3349 - acc: 0.8863 - val_loss: 0.5007 - val_acc: 0.8410\n",
      "Epoch 28/100\n",
      "781/781 [==============================] - 2046s - loss: 0.3184 - acc: 0.8898 - val_loss: 0.4962 - val_acc: 0.8408\n",
      "Epoch 29/100\n",
      "781/781 [==============================] - 2046s - loss: 0.3105 - acc: 0.8931 - val_loss: 0.4995 - val_acc: 0.8454\n",
      "Epoch 30/100\n",
      "781/781 [==============================] - 2046s - loss: 0.2989 - acc: 0.8985 - val_loss: 0.4980 - val_acc: 0.8442\n",
      "Epoch 31/100\n",
      "781/781 [==============================] - 2046s - loss: 0.2895 - acc: 0.9006 - val_loss: 0.5010 - val_acc: 0.8452\n",
      "Epoch 32/100\n",
      "781/781 [==============================] - 2046s - loss: 0.2848 - acc: 0.9018 - val_loss: 0.4979 - val_acc: 0.8439\n",
      "Epoch 33/100\n",
      "781/781 [==============================] - 2046s - loss: 0.2880 - acc: 0.9010 - val_loss: 0.4945 - val_acc: 0.8456\n",
      "Epoch 34/100\n",
      "781/781 [==============================] - 2046s - loss: 0.2806 - acc: 0.9031 - val_loss: 0.4963 - val_acc: 0.8445\n",
      "Epoch 35/100\n",
      "781/781 [==============================] - 2046s - loss: 0.2814 - acc: 0.9035 - val_loss: 0.4980 - val_acc: 0.8464\n",
      "Epoch 36/100\n",
      "781/781 [==============================] - 2046s - loss: 0.2823 - acc: 0.9020 - val_loss: 0.4994 - val_acc: 0.8452\n",
      "Epoch 37/100\n",
      "781/781 [==============================] - 2046s - loss: 0.2808 - acc: 0.9036 - val_loss: 0.4988 - val_acc: 0.8454\n",
      "Epoch 38/100\n",
      "781/781 [==============================] - 2046s - loss: 0.2769 - acc: 0.9043 - val_loss: 0.4981 - val_acc: 0.8451\n",
      "Epoch 39/100\n",
      "781/781 [==============================] - 2046s - loss: 0.2771 - acc: 0.9048 - val_loss: 0.4978 - val_acc: 0.8446\n",
      "Epoch 40/100\n",
      "781/781 [==============================] - 2046s - loss: 0.2777 - acc: 0.9036 - val_loss: 0.4977 - val_acc: 0.8454\n",
      "Epoch 41/100\n",
      "781/781 [==============================] - 2046s - loss: 0.2782 - acc: 0.9042 - val_loss: 0.4976 - val_acc: 0.8455\n",
      "Epoch 42/100\n",
      "781/781 [==============================] - 2046s - loss: 0.2782 - acc: 0.9042 - val_loss: 0.4976 - val_acc: 0.8455\n",
      "Epoch 43/100\n",
      "781/781 [==============================] - 2046s - loss: 0.2790 - acc: 0.9047 - val_loss: 0.4977 - val_acc: 0.8450\n",
      "Epoch 44/100\n",
      "781/781 [==============================] - 2046s - loss: 0.2793 - acc: 0.9046 - val_loss: 0.4978 - val_acc: 0.8452\n"
     ]
    }
   ],
   "source": [
    "if data_augmentation :\n",
    "    print(\"-------------Using Data augmentation------------\")\n",
    "     # This will do preprocessing and realtime data augmentation:\n",
    "    datagen = ImageDataGenerator(\n",
    "        featurewise_center=False,  # set input mean to 0 over the dataset\n",
    "        samplewise_center=False,  # set each sample mean to 0\n",
    "        featurewise_std_normalization=False,  # divide inputs by std of the dataset\n",
    "        samplewise_std_normalization=False,  # divide each input by its std\n",
    "        zca_whitening=False,  # apply ZCA whitening\n",
    "        rotation_range=0,  # randomly rotate images in the range (degrees, 0 to 180)\n",
    "        width_shift_range=0.1,  # randomly shift images horizontally (fraction of total width)\n",
    "        height_shift_range=0.1,  # randomly shift images vertically (fraction of total height)\n",
    "        horizontal_flip=True,  # randomly flip images\n",
    "        vertical_flip=False)  # randomly flip images\n",
    "    \n",
    "    datagen.fit(x_train)\n",
    "    model.fit_generator(datagen.flow(x_train, y_train, batch_size=batch_size),\n",
    "                        steps_per_epoch=x_train.shape[0] // batch_size,\n",
    "                        epochs=epochs,verbose=1,validation_data=(x_test,y_test),callbacks=[lr_reducer, early_stopper, csv_logger])\n",
    "    \n",
    "else :\n",
    "    print(\"-----Not Using Data augmentation---------------\")\n",
    "    model.fit(x_train, y_train,\n",
    "              batch_size=batch_size*4,\n",
    "              epochs=epochs,\n",
    "              validation_data=(x_test, y_test),\n",
    "              shuffle=True,callbacks=[lr_reducer, early_stopper, csv_logger])\n",
    "    \n",
    "    \n",
    "    "
   ]
  },
  {
   "cell_type": "code",
   "execution_count": 34,
   "metadata": {
    "collapsed": true
   },
   "outputs": [],
   "source": [
    "model.save_weights(\"cifar_adam_vgg_lr_reducer.h5\")"
   ]
  },
  {
   "cell_type": "code",
   "execution_count": null,
   "metadata": {
    "collapsed": true
   },
   "outputs": [],
   "source": []
  }
 ],
 "metadata": {
  "kernelspec": {
   "display_name": "Python 2",
   "language": "python",
   "name": "python2"
  },
  "language_info": {
   "codemirror_mode": {
    "name": "ipython",
    "version": 2
   },
   "file_extension": ".py",
   "mimetype": "text/x-python",
   "name": "python",
   "nbconvert_exporter": "python",
   "pygments_lexer": "ipython2",
   "version": "2.7.12"
  }
 },
 "nbformat": 4,
 "nbformat_minor": 2
}
