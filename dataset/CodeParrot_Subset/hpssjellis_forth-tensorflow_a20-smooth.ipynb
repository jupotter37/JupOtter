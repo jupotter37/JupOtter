{
 "cells": [
  {
   "cell_type": "code",
   "execution_count": null,
   "metadata": {
    "collapsed": true
   },
   "outputs": [],
   "source": [
    "%autosave 0\n",
    "%cp RplotsOriginal.pdf Rplots.pdf \n",
    "%load r20.R"
   ]
  },
  {
   "cell_type": "code",
   "execution_count": null,
   "metadata": {
    "collapsed": true
   },
   "outputs": [],
   "source": [
    "!Rscript r20.R"
   ]
  },
  {
   "cell_type": "code",
   "execution_count": null,
   "metadata": {
    "collapsed": true
   },
   "outputs": [],
   "source": [
    "from wand.image import Image  \n",
    "\n",
    "imageFromPdf = Image(filename='Rplots.pdf')  \n",
    "pages = len(imageFromPdf.sequence)  \n",
    "\n",
    "image = Image(  \n",
    "  width=imageFromPdf.width,  \n",
    "  height=imageFromPdf.height * pages  \n",
    ")  \n",
    "for i in range(pages):  \n",
    "  image.composite(  \n",
    "  imageFromPdf.sequence[i],  \n",
    "  top=imageFromPdf.height * i,  \n",
    "  left=0  \n",
    ")  \n",
    "image.format=\"png\"  \n",
    "image "
   ]
  }
 ],
 "metadata": {
  "kernelspec": {
   "display_name": "Python 2",
   "language": "python",
   "name": "python2"
  },
  "language_info": {
   "codemirror_mode": {
    "name": "ipython",
    "version": 2
   },
   "file_extension": ".py",
   "mimetype": "text/x-python",
   "name": "python",
   "nbconvert_exporter": "python",
   "pygments_lexer": "ipython2",
   "version": "2.7.6"
  }
 },
 "nbformat": 4,
 "nbformat_minor": 0
}
