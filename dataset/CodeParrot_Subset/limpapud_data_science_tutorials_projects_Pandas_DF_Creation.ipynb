{
 "cells": [
  {
   "attachments": {},
   "cell_type": "markdown",
   "metadata": {},
   "source": [
    "![image_banner_01.jpg](https://github.com/limpapud/data_science_tutorials_projects/raw/master/DataScience_Tutorials/AZ/assets/image_banner_01.jpg)\n",
    "# Pandas: DataFreym yaratmağın müxtəlif üsulları"
   ]
  },
  {
   "cell_type": "markdown",
   "metadata": {},
   "source": [
    "İlk öncə pandas-da verilənlərin 2D əndazəli forma (sadə dil ilə \"cədvəl\") daxilində saxlanma vasitəsi və forması olan ***Dataframe*** yaratmaqdan başlayaq. Bu dərs tam olaraq müxtəlif mənbələrdən və formalarda əldə edilmiş məlumatı Datafreymə çevirmək yolları haqqında bəhs edəcək.\n",
    "\n",
    "Pandas ilə iş aparmaq üçün modulu əvvəlcə import edək:"
   ]
  },
  {
   "cell_type": "code",
   "execution_count": 1,
   "metadata": {},
   "outputs": [],
   "source": [
    "import pandas as pd"
   ]
  },
  {
   "cell_type": "markdown",
   "metadata": {},
   "source": [
    "Datafreymin əsasına yerləşəcək verilənlər mənbə üzrə üzrə daxili və xarici formalara bölünür:"
   ]
  },
  {
   "attachments": {},
   "cell_type": "markdown",
   "metadata": {},
   "source": [
    "## Python daxili mənbələr:\n",
    "\n",
    "\n",
    "### Siyahı: sətr əsaslı:\n",
    "![row_based_df_creation.PNG](https://github.com/limpapud/data_science_tutorials_projects/raw/master/DataScience_Tutorials/AZ/assets/row_based_df_creation.PNG)\n",
    "İlk misal cədvəl daxilində dəyərlərin ard-arda, sətr-bə-sətr, siyahı daxilində DataFreymə daxil edilməsidir.\n",
    "SQL ilə tanış olan oxuyuculara bu dil daxilində İNSERT əmrin yada sala bilər.\n",
    "Məsələn, eyni sorğu SQL vasitəsi ilə aşağıda qeyd olunmuş formada icra oluna bilər"
   ]
  },
  {
   "cell_type": "raw",
   "metadata": {},
   "source": [
    "INSERT INTO \n",
    "    email ('f_name','l_name','email_adrs','a_status') \n",
    "VALUES \n",
    "    ('Omar','Bayramov','omarbayramov@hotmail.com',1),\n",
    "    ('Ali','Aliyev','alialiyev@example.com',0),\n",
    "    ('Dmitry','Vladimirov','v.dmitry@koala.kl',1),\n",
    "    ('Donald','Trump','grabthat@pussycatdolls.com',1),\n",
    "    ('Rashid','Maniyev','rashid.maniyev@exponential.az',1)"
   ]
  },
  {
   "cell_type": "markdown",
   "metadata": {},
   "source": [
    "İlk öncə kortejlərdən ibarət siyahı yaradırıq və onu **email_list_lst** adlı dəyişənə təhkim edirik."
   ]
  },
  {
   "cell_type": "code",
   "execution_count": 2,
   "metadata": {},
   "outputs": [],
   "source": [
    "email_list_lst=[('Omar','Bayramov','omarbayramov@hotmail.com',1),\n",
    "                ('Ali','Aliyev','alialiyev@example.com',0),\n",
    "                ('Dmitry','Vladimirov','v.dmitry@koala.kl',1),\n",
    "                ('Donald','Trump','grabthat@pussycatdolls.com',1),\n",
    "                ('Rashid','Maniyev','rashid.maniyev@exponential.az',1),\n",
    "               ]"
   ]
  },
  {
   "cell_type": "markdown",
   "metadata": {},
   "source": [
    "Növbəti **email_list_lst_cln** dəyşəninə isə sütun adlarından ibarət siyahı təhkim edirik."
   ]
  },
  {
   "cell_type": "code",
   "execution_count": 3,
   "metadata": {},
   "outputs": [],
   "source": [
    "email_list_lst_cln=['f_name','l_name','email_adrs','a_status',]"
   ]
  },
  {
   "cell_type": "markdown",
   "metadata": {},
   "source": [
    "Nəhayət, DataFrame-nin \"from_records\" funksiyasına *email_list_lst* və *email_list_lst_cln* dəyərlərini ötürüb *email_list_lst* dəyərlərindən *email_list_lst_cln* sütunları ilə cədvəl yaradırıq və sonra cədvəli əks etdiririk. "
   ]
  },
  {
   "cell_type": "code",
   "execution_count": 4,
   "metadata": {},
   "outputs": [
    {
     "data": {
      "text/html": [
       "<div>\n",
       "<style scoped>\n",
       "    .dataframe tbody tr th:only-of-type {\n",
       "        vertical-align: middle;\n",
       "    }\n",
       "\n",
       "    .dataframe tbody tr th {\n",
       "        vertical-align: top;\n",
       "    }\n",
       "\n",
       "    .dataframe thead th {\n",
       "        text-align: right;\n",
       "    }\n",
       "</style>\n",
       "<table border=\"1\" class=\"dataframe\">\n",
       "  <thead>\n",
       "    <tr style=\"text-align: right;\">\n",
       "      <th></th>\n",
       "      <th>f_name</th>\n",
       "      <th>l_name</th>\n",
       "      <th>email_adrs</th>\n",
       "      <th>a_status</th>\n",
       "    </tr>\n",
       "  </thead>\n",
       "  <tbody>\n",
       "    <tr>\n",
       "      <th>0</th>\n",
       "      <td>Omar</td>\n",
       "      <td>Bayramov</td>\n",
       "      <td>omarbayramov@hotmail.com</td>\n",
       "      <td>1</td>\n",
       "    </tr>\n",
       "    <tr>\n",
       "      <th>1</th>\n",
       "      <td>Ali</td>\n",
       "      <td>Aliyev</td>\n",
       "      <td>alialiyev@example.com</td>\n",
       "      <td>0</td>\n",
       "    </tr>\n",
       "    <tr>\n",
       "      <th>2</th>\n",
       "      <td>Dmitry</td>\n",
       "      <td>Vladimirov</td>\n",
       "      <td>v.dmitry@koala.kl</td>\n",
       "      <td>1</td>\n",
       "    </tr>\n",
       "    <tr>\n",
       "      <th>3</th>\n",
       "      <td>Donald</td>\n",
       "      <td>Trump</td>\n",
       "      <td>grabthat@pussycatdolls.com</td>\n",
       "      <td>1</td>\n",
       "    </tr>\n",
       "    <tr>\n",
       "      <th>4</th>\n",
       "      <td>Rashid</td>\n",
       "      <td>Maniyev</td>\n",
       "      <td>rashid.maniyev@exponential.az</td>\n",
       "      <td>1</td>\n",
       "    </tr>\n",
       "  </tbody>\n",
       "</table>\n",
       "</div>"
      ],
      "text/plain": [
       "   f_name      l_name                     email_adrs  a_status\n",
       "0    Omar    Bayramov       omarbayramov@hotmail.com         1\n",
       "1     Ali      Aliyev          alialiyev@example.com         0\n",
       "2  Dmitry  Vladimirov              v.dmitry@koala.kl         1\n",
       "3  Donald       Trump     grabthat@pussycatdolls.com         1\n",
       "4  Rashid     Maniyev  rashid.maniyev@exponential.az         1"
      ]
     },
     "execution_count": 4,
     "metadata": {},
     "output_type": "execute_result"
    }
   ],
   "source": [
    "df=pd.DataFrame.from_records(email_list_lst, columns=email_list_lst_cln)\n",
    "df"
   ]
  },
  {
   "attachments": {},
   "cell_type": "markdown",
   "metadata": {},
   "source": [
    "### Siyahı: sütun əsaslı:\n",
    "\n",
    "Əvvəlki misaldan fərqli olaraq bu dəfə məlumatı sütun-sütun qəbul edib cədvələ ötürən yanaşmadan istifadə olunacaq. Bunun üçün kortej siyahısından istifadə olunacaq ki hər bir kortej özü-özlüyündə sütun adın əks edən sətrdən və həmin sətrdə yerləşən dəyərlər siyahısından ibarətdir. \n",
    "![column_based_df_creation.PNG](https://github.com/limpapud/data_science_tutorials_projects/raw/master/DataScience_Tutorials/AZ/assets/column_based_df_creation.PNG)"
   ]
  },
  {
   "cell_type": "code",
   "execution_count": 5,
   "metadata": {},
   "outputs": [
    {
     "data": {
      "text/html": [
       "<div>\n",
       "<style scoped>\n",
       "    .dataframe tbody tr th:only-of-type {\n",
       "        vertical-align: middle;\n",
       "    }\n",
       "\n",
       "    .dataframe tbody tr th {\n",
       "        vertical-align: top;\n",
       "    }\n",
       "\n",
       "    .dataframe thead th {\n",
       "        text-align: right;\n",
       "    }\n",
       "</style>\n",
       "<table border=\"1\" class=\"dataframe\">\n",
       "  <thead>\n",
       "    <tr style=\"text-align: right;\">\n",
       "      <th></th>\n",
       "      <th>f_name</th>\n",
       "      <th>l_name</th>\n",
       "      <th>email_adrs</th>\n",
       "      <th>a_status</th>\n",
       "    </tr>\n",
       "  </thead>\n",
       "  <tbody>\n",
       "    <tr>\n",
       "      <th>0</th>\n",
       "      <td>Omar</td>\n",
       "      <td>Bayramov</td>\n",
       "      <td>omarbayramov@hotmail.com</td>\n",
       "      <td>1</td>\n",
       "    </tr>\n",
       "    <tr>\n",
       "      <th>1</th>\n",
       "      <td>Ali</td>\n",
       "      <td>Aliyev</td>\n",
       "      <td>alialiyev@example.com</td>\n",
       "      <td>0</td>\n",
       "    </tr>\n",
       "    <tr>\n",
       "      <th>2</th>\n",
       "      <td>Dmitry</td>\n",
       "      <td>Vladimirov</td>\n",
       "      <td>v.dmitry@koala.kl</td>\n",
       "      <td>1</td>\n",
       "    </tr>\n",
       "    <tr>\n",
       "      <th>3</th>\n",
       "      <td>Donald</td>\n",
       "      <td>Trump</td>\n",
       "      <td>grabthat@pussycatdolls.com</td>\n",
       "      <td>1</td>\n",
       "    </tr>\n",
       "    <tr>\n",
       "      <th>4</th>\n",
       "      <td>Rashid</td>\n",
       "      <td>Maniyev</td>\n",
       "      <td>rashid.maniyev@exponential.az</td>\n",
       "      <td>1</td>\n",
       "    </tr>\n",
       "  </tbody>\n",
       "</table>\n",
       "</div>"
      ],
      "text/plain": [
       "   f_name      l_name                     email_adrs  a_status\n",
       "0    Omar    Bayramov       omarbayramov@hotmail.com         1\n",
       "1     Ali      Aliyev          alialiyev@example.com         0\n",
       "2  Dmitry  Vladimirov              v.dmitry@koala.kl         1\n",
       "3  Donald       Trump     grabthat@pussycatdolls.com         1\n",
       "4  Rashid     Maniyev  rashid.maniyev@exponential.az         1"
      ]
     },
     "execution_count": 5,
     "metadata": {},
     "output_type": "execute_result"
    }
   ],
   "source": [
    "email_list_lst=[('f_name', ['Omar', 'Ali', 'Dmitry', 'Donald', 'Rashid',]),\n",
    "                ('l_name', ['Bayramov', 'Aliyev', 'Vladimirov', 'Trump', 'Maniyev',]),\n",
    "                ('email_adrs', ['omarbayramov@hotmail.com', 'alialiyev@example.com', 'v.dmitry@koala.kl', 'grabthat@pussycatdolls.com', 'rashid.maniyev@exponential.az',]),\n",
    "                ('a_status', [1, 0, 1, 1, 1,]),\n",
    "               ]\n",
    "df = pd.DataFrame.from_items(email_list_lst)\n",
    "df"
   ]
  },
  {
   "attachments": {},
   "cell_type": "markdown",
   "metadata": {},
   "source": [
    "### Lüğət: yazı əsaslı\n",
    "\n",
    "Növbəti misal mənim ən çox tərcihə etdiyim (əlbəttə ki çox vaxt verilənlər istədiyimiz formada olmur, və bizim nəyə üstünlük verdiyimiz onları heç marağlandırmır) üsula keçirik. Bu üsula üstünlük verməyimin səbəbi çox sadədir: bundan əvvəl və bundan sonra qeyd olunmuş yollardan istifadə edərkən məlumatın əldə edilməsi zamanı və ya təmizləmə zamanı  \"NaN\" dəyəri almadan bəzi məlumatlar pozula bilər ki bu da sütunun və ya yazının sürüşməsinə gətirə bilər ki o zaman analiz ya qismən çətinləşə, və ya ümumiyyətlə verilənlərin qatışması üzündan mənasın itirə bilər. ( *Danışdığım problem ilə tanış olmaq üçün 2017/08 tarixində çalışdığım məlumat əldə edilməsi və analizi [işimə baxa bilərsiniz.](https://github.com/limpapud/data_science_tutorials_projects/blob/master/Bina_az_tutorial/AZ_Bina_az_GIT_photos_URL_131017.ipynb)*). Amma bu dəfə hər bir dəyər üzrə hansı sütuna aid olması açıq şəkildə qeyd olunur ki, qeyd olunmadığı halda avtomatik \"NaN\" olaraq qeyd olunur. Nəticədə əlavə rutin təmizləmə işi aparmağa ehtiyac olmur, olmayan dəyərləri isə araşdırmadan ya yığışdırmaq və ya digər metodlar ilə verilənlər ilə doldurmaq olur.\n",
    "![cell_based_df_creation.PNG](https://github.com/limpapud/data_science_tutorials_projects/raw/master/DataScience_Tutorials/AZ/assets/cell_based_df_creation.PNG)\n",
    "Sözügedən misala yaxından baxaq:"
   ]
  },
  {
   "cell_type": "code",
   "execution_count": 6,
   "metadata": {},
   "outputs": [],
   "source": [
    "email_list=[{\n",
    "             'f_name' : 'Omar', \n",
    "             'l_name': 'Bayramov', \n",
    "             'email_adrs' : 'omarbayramov@hotmail.com', \n",
    "             'a_status' : 1\n",
    "            },\n",
    "            {'f_name' : 'Ali', 'l_name': 'Aliyev', 'email_adrs':'alialiyev@example.com', 'a_status' : 0},\n",
    "            {'f_name': 'Dmitry', 'l_name': 'Vladimirov', 'email_adrs':'v.dmitry@koala.kl', 'a_status':1},\n",
    "            {'f_name': 'Donald', 'l_name': 'Trump', 'email_adrs':'grabthat@pussycatdolls.com', 'a_status':1},\n",
    "            {'f_name': 'Rashid', 'l_name': 'Maniyev', 'email_adrs':'rashid.maniyev@exponential.az', 'a_status':1},\n",
    "           ]"
   ]
  },
  {
   "cell_type": "code",
   "execution_count": 7,
   "metadata": {},
   "outputs": [
    {
     "data": {
      "text/html": [
       "<div>\n",
       "<style scoped>\n",
       "    .dataframe tbody tr th:only-of-type {\n",
       "        vertical-align: middle;\n",
       "    }\n",
       "\n",
       "    .dataframe tbody tr th {\n",
       "        vertical-align: top;\n",
       "    }\n",
       "\n",
       "    .dataframe thead th {\n",
       "        text-align: right;\n",
       "    }\n",
       "</style>\n",
       "<table border=\"1\" class=\"dataframe\">\n",
       "  <thead>\n",
       "    <tr style=\"text-align: right;\">\n",
       "      <th></th>\n",
       "      <th>a_status</th>\n",
       "      <th>email_adrs</th>\n",
       "      <th>f_name</th>\n",
       "      <th>l_name</th>\n",
       "    </tr>\n",
       "  </thead>\n",
       "  <tbody>\n",
       "    <tr>\n",
       "      <th>0</th>\n",
       "      <td>1</td>\n",
       "      <td>omarbayramov@hotmail.com</td>\n",
       "      <td>Omar</td>\n",
       "      <td>Bayramov</td>\n",
       "    </tr>\n",
       "    <tr>\n",
       "      <th>1</th>\n",
       "      <td>0</td>\n",
       "      <td>alialiyev@example.com</td>\n",
       "      <td>Ali</td>\n",
       "      <td>Aliyev</td>\n",
       "    </tr>\n",
       "    <tr>\n",
       "      <th>2</th>\n",
       "      <td>1</td>\n",
       "      <td>v.dmitry@koala.kl</td>\n",
       "      <td>Dmitry</td>\n",
       "      <td>Vladimirov</td>\n",
       "    </tr>\n",
       "    <tr>\n",
       "      <th>3</th>\n",
       "      <td>1</td>\n",
       "      <td>grabthat@pussycatdolls.com</td>\n",
       "      <td>Donald</td>\n",
       "      <td>Trump</td>\n",
       "    </tr>\n",
       "    <tr>\n",
       "      <th>4</th>\n",
       "      <td>1</td>\n",
       "      <td>rashid.maniyev@exponential.az</td>\n",
       "      <td>Rashid</td>\n",
       "      <td>Maniyev</td>\n",
       "    </tr>\n",
       "  </tbody>\n",
       "</table>\n",
       "</div>"
      ],
      "text/plain": [
       "   a_status                     email_adrs  f_name      l_name\n",
       "0         1       omarbayramov@hotmail.com    Omar    Bayramov\n",
       "1         0          alialiyev@example.com     Ali      Aliyev\n",
       "2         1              v.dmitry@koala.kl  Dmitry  Vladimirov\n",
       "3         1     grabthat@pussycatdolls.com  Donald       Trump\n",
       "4         1  rashid.maniyev@exponential.az  Rashid     Maniyev"
      ]
     },
     "execution_count": 7,
     "metadata": {},
     "output_type": "execute_result"
    }
   ],
   "source": [
    "df=pd.DataFrame(email_list,)\n",
    "df"
   ]
  },
  {
   "cell_type": "markdown",
   "metadata": {},
   "source": [
    "Burada gördüyünüz kimi məlumat DataFrame daxilinə keçsədə, sütunlar istədiyimiz ardıcıllıqda yox, əlifba ardıcıllığı üzrə sıralanmışdır. Bu məqamı aradan qaldırmaq üçün ya yuxarıda DataFrame yaradan zamandaki kimi əvvəlcədən *column* parametri vasitəsi ilə sütun adların və ardıcıllığın qeyd etməli, və ya sonradan aşaqda qeyd olunmuş əmr ilə sütun yerlərin dəyşməliyik."
   ]
  },
  {
   "cell_type": "code",
   "execution_count": 8,
   "metadata": {},
   "outputs": [
    {
     "data": {
      "text/html": [
       "<div>\n",
       "<style scoped>\n",
       "    .dataframe tbody tr th:only-of-type {\n",
       "        vertical-align: middle;\n",
       "    }\n",
       "\n",
       "    .dataframe tbody tr th {\n",
       "        vertical-align: top;\n",
       "    }\n",
       "\n",
       "    .dataframe thead th {\n",
       "        text-align: right;\n",
       "    }\n",
       "</style>\n",
       "<table border=\"1\" class=\"dataframe\">\n",
       "  <thead>\n",
       "    <tr style=\"text-align: right;\">\n",
       "      <th></th>\n",
       "      <th>f_name</th>\n",
       "      <th>l_name</th>\n",
       "      <th>email_adrs</th>\n",
       "      <th>a_status</th>\n",
       "    </tr>\n",
       "  </thead>\n",
       "  <tbody>\n",
       "    <tr>\n",
       "      <th>0</th>\n",
       "      <td>Omar</td>\n",
       "      <td>Bayramov</td>\n",
       "      <td>omarbayramov@hotmail.com</td>\n",
       "      <td>1</td>\n",
       "    </tr>\n",
       "    <tr>\n",
       "      <th>1</th>\n",
       "      <td>Ali</td>\n",
       "      <td>Aliyev</td>\n",
       "      <td>alialiyev@example.com</td>\n",
       "      <td>0</td>\n",
       "    </tr>\n",
       "    <tr>\n",
       "      <th>2</th>\n",
       "      <td>Dmitry</td>\n",
       "      <td>Vladimirov</td>\n",
       "      <td>v.dmitry@koala.kl</td>\n",
       "      <td>1</td>\n",
       "    </tr>\n",
       "    <tr>\n",
       "      <th>3</th>\n",
       "      <td>Donald</td>\n",
       "      <td>Trump</td>\n",
       "      <td>grabthat@pussycatdolls.com</td>\n",
       "      <td>1</td>\n",
       "    </tr>\n",
       "    <tr>\n",
       "      <th>4</th>\n",
       "      <td>Rashid</td>\n",
       "      <td>Maniyev</td>\n",
       "      <td>rashid.maniyev@exponential.az</td>\n",
       "      <td>1</td>\n",
       "    </tr>\n",
       "  </tbody>\n",
       "</table>\n",
       "</div>"
      ],
      "text/plain": [
       "   f_name      l_name                     email_adrs  a_status\n",
       "0    Omar    Bayramov       omarbayramov@hotmail.com         1\n",
       "1     Ali      Aliyev          alialiyev@example.com         0\n",
       "2  Dmitry  Vladimirov              v.dmitry@koala.kl         1\n",
       "3  Donald       Trump     grabthat@pussycatdolls.com         1\n",
       "4  Rashid     Maniyev  rashid.maniyev@exponential.az         1"
      ]
     },
     "execution_count": 8,
     "metadata": {},
     "output_type": "execute_result"
    }
   ],
   "source": [
    "df=df[['f_name','l_name','email_adrs','a_status',]]\n",
    "df"
   ]
  },
  {
   "attachments": {},
   "cell_type": "markdown",
   "metadata": {},
   "source": [
    "### Lüğət: sütun əsaslı\n",
    "\n",
    "Bu misal yuxarıda üzərindən keçdiyimiz \"Siyahı:sütun əsaslı\"-ya çox oxşayır. Fərq dəyərlərin bu dəfə siyahı şəkilində lüğət açarı olaraq qeyd olunmasıdır.\n",
    "![column_based_df_creation.PNG](https://github.com/limpapud/data_science_tutorials_projects/raw/master/DataScience_Tutorials/AZ/assets/column_based_df_creation.PNG)"
   ]
  },
  {
   "cell_type": "code",
   "execution_count": 9,
   "metadata": {},
   "outputs": [],
   "source": [
    "email_list_dct={'f_name': ['Omar', 'Ali', 'Dmitry', 'Donald', 'Rashid',],\n",
    "                'l_name': ['Bayramov', 'Aliyev', 'Vladimirov', 'Trump', 'Maniyev',],\n",
    "                'email_adrs': ['omarbayramov@hotmail.com', 'alialiyev@example.com', 'v.dmitry@koala.kl', 'grabthat@pussycatdolls.com', 'rashid.maniyev@exponential.az',],\n",
    "                'a_status': [1, 0, 1, 1, 1,],\n",
    "                }"
   ]
  },
  {
   "cell_type": "markdown",
   "metadata": {},
   "source": [
    "Cədvəli yaradaq və sütunların yerlərin dəyişək:"
   ]
  },
  {
   "cell_type": "code",
   "execution_count": 10,
   "metadata": {},
   "outputs": [
    {
     "data": {
      "text/html": [
       "<div>\n",
       "<style scoped>\n",
       "    .dataframe tbody tr th:only-of-type {\n",
       "        vertical-align: middle;\n",
       "    }\n",
       "\n",
       "    .dataframe tbody tr th {\n",
       "        vertical-align: top;\n",
       "    }\n",
       "\n",
       "    .dataframe thead th {\n",
       "        text-align: right;\n",
       "    }\n",
       "</style>\n",
       "<table border=\"1\" class=\"dataframe\">\n",
       "  <thead>\n",
       "    <tr style=\"text-align: right;\">\n",
       "      <th></th>\n",
       "      <th>f_name</th>\n",
       "      <th>l_name</th>\n",
       "      <th>email_adrs</th>\n",
       "      <th>a_status</th>\n",
       "    </tr>\n",
       "  </thead>\n",
       "  <tbody>\n",
       "    <tr>\n",
       "      <th>0</th>\n",
       "      <td>Omar</td>\n",
       "      <td>Bayramov</td>\n",
       "      <td>omarbayramov@hotmail.com</td>\n",
       "      <td>1</td>\n",
       "    </tr>\n",
       "    <tr>\n",
       "      <th>1</th>\n",
       "      <td>Ali</td>\n",
       "      <td>Aliyev</td>\n",
       "      <td>alialiyev@example.com</td>\n",
       "      <td>0</td>\n",
       "    </tr>\n",
       "    <tr>\n",
       "      <th>2</th>\n",
       "      <td>Dmitry</td>\n",
       "      <td>Vladimirov</td>\n",
       "      <td>v.dmitry@koala.kl</td>\n",
       "      <td>1</td>\n",
       "    </tr>\n",
       "    <tr>\n",
       "      <th>3</th>\n",
       "      <td>Donald</td>\n",
       "      <td>Trump</td>\n",
       "      <td>grabthat@pussycatdolls.com</td>\n",
       "      <td>1</td>\n",
       "    </tr>\n",
       "    <tr>\n",
       "      <th>4</th>\n",
       "      <td>Rashid</td>\n",
       "      <td>Maniyev</td>\n",
       "      <td>rashid.maniyev@exponential.az</td>\n",
       "      <td>1</td>\n",
       "    </tr>\n",
       "  </tbody>\n",
       "</table>\n",
       "</div>"
      ],
      "text/plain": [
       "   f_name      l_name                     email_adrs  a_status\n",
       "0    Omar    Bayramov       omarbayramov@hotmail.com         1\n",
       "1     Ali      Aliyev          alialiyev@example.com         0\n",
       "2  Dmitry  Vladimirov              v.dmitry@koala.kl         1\n",
       "3  Donald       Trump     grabthat@pussycatdolls.com         1\n",
       "4  Rashid     Maniyev  rashid.maniyev@exponential.az         1"
      ]
     },
     "execution_count": 10,
     "metadata": {},
     "output_type": "execute_result"
    }
   ],
   "source": [
    "df = pd.DataFrame.from_dict(email_list_dct)\n",
    "df=df[['f_name','l_name','email_adrs','a_status',]]\n",
    "df"
   ]
  },
  {
   "cell_type": "markdown",
   "metadata": {},
   "source": [
    "## Python xarici mənbələr:\n",
    "\n",
    "Standart, Python-un daxili verilən strukturlarından başqa Pandas fayl sistemi, Məlumat bazarı və digər mənbələrdən verilənləri əldə edib cədvəl qurmağa imkan yaradır.\n",
    "\n",
    "### Excel fayl\n",
    "Cədvəli yaratmaq üçün pandas-ın *read_excel* funksiyasına Excel faylına işarələyən fayl sistemi yolu, fayl internetdə yerləşən zaman isə URL qeyd etmək bəsdir. Əgər faylda bir neçə səhifə varsa, və ya məhz olaraq müəyyən səhifədə yerləşən məlumatı əldə etmək lazımdırsa o zaman *sheet_name* parametrinə səhifə adın ötürmək ilə məlumatı cədvələ çevirmək olur."
   ]
  },
  {
   "cell_type": "code",
   "execution_count": 11,
   "metadata": {},
   "outputs": [
    {
     "data": {
      "text/html": [
       "<div>\n",
       "<style scoped>\n",
       "    .dataframe tbody tr th:only-of-type {\n",
       "        vertical-align: middle;\n",
       "    }\n",
       "\n",
       "    .dataframe tbody tr th {\n",
       "        vertical-align: top;\n",
       "    }\n",
       "\n",
       "    .dataframe thead th {\n",
       "        text-align: right;\n",
       "    }\n",
       "</style>\n",
       "<table border=\"1\" class=\"dataframe\">\n",
       "  <thead>\n",
       "    <tr style=\"text-align: right;\">\n",
       "      <th></th>\n",
       "      <th>f_name</th>\n",
       "      <th>l_name</th>\n",
       "      <th>email_adrs</th>\n",
       "      <th>a_status</th>\n",
       "    </tr>\n",
       "  </thead>\n",
       "  <tbody>\n",
       "    <tr>\n",
       "      <th>0</th>\n",
       "      <td>Omar</td>\n",
       "      <td>Bayramov</td>\n",
       "      <td>omarbayramov@hotmail.com</td>\n",
       "      <td>1</td>\n",
       "    </tr>\n",
       "    <tr>\n",
       "      <th>1</th>\n",
       "      <td>Ali</td>\n",
       "      <td>Aliyev</td>\n",
       "      <td>alialiyev@example.com</td>\n",
       "      <td>0</td>\n",
       "    </tr>\n",
       "    <tr>\n",
       "      <th>2</th>\n",
       "      <td>Dmitry</td>\n",
       "      <td>Vladimirov</td>\n",
       "      <td>v.dmitry@koala.kl</td>\n",
       "      <td>1</td>\n",
       "    </tr>\n",
       "    <tr>\n",
       "      <th>3</th>\n",
       "      <td>Donald</td>\n",
       "      <td>Trump</td>\n",
       "      <td>grabthat@pussycatdolls.com</td>\n",
       "      <td>1</td>\n",
       "    </tr>\n",
       "    <tr>\n",
       "      <th>4</th>\n",
       "      <td>Rashid</td>\n",
       "      <td>Maniyev</td>\n",
       "      <td>rashid.maniyev@exponential.az</td>\n",
       "      <td>1</td>\n",
       "    </tr>\n",
       "  </tbody>\n",
       "</table>\n",
       "</div>"
      ],
      "text/plain": [
       "   f_name      l_name                     email_adrs  a_status\n",
       "0    Omar    Bayramov       omarbayramov@hotmail.com         1\n",
       "1     Ali      Aliyev          alialiyev@example.com         0\n",
       "2  Dmitry  Vladimirov              v.dmitry@koala.kl         1\n",
       "3  Donald       Trump     grabthat@pussycatdolls.com         1\n",
       "4  Rashid     Maniyev  rashid.maniyev@exponential.az         1"
      ]
     },
     "execution_count": 11,
     "metadata": {},
     "output_type": "execute_result"
    }
   ],
   "source": [
    "df = pd.read_excel('https://raw.githubusercontent.com/limpapud/datasets/master/Tutorial_datasets/excel_to_dataframe.xlsx',\n",
    "                   sheet_name='data_for_ttrl')\n",
    "df"
   ]
  },
  {
   "cell_type": "markdown",
   "metadata": {},
   "source": [
    "### CSV\n",
    "\n",
    "Yuxarıdaki funksiyadaki kimi ilk öncə *.csv* fayla yol, amma sonra sətr daxilində dəyərləri bir birindən ayıran işarə *delimiter* parameterinə ötürülməlidir. Ötürülmədikdə standart olaraq vergülü qəbul olunur."
   ]
  },
  {
   "cell_type": "code",
   "execution_count": 12,
   "metadata": {},
   "outputs": [
    {
     "data": {
      "text/html": [
       "<div>\n",
       "<style scoped>\n",
       "    .dataframe tbody tr th:only-of-type {\n",
       "        vertical-align: middle;\n",
       "    }\n",
       "\n",
       "    .dataframe tbody tr th {\n",
       "        vertical-align: top;\n",
       "    }\n",
       "\n",
       "    .dataframe thead th {\n",
       "        text-align: right;\n",
       "    }\n",
       "</style>\n",
       "<table border=\"1\" class=\"dataframe\">\n",
       "  <thead>\n",
       "    <tr style=\"text-align: right;\">\n",
       "      <th></th>\n",
       "      <th>f_name</th>\n",
       "      <th>l_name</th>\n",
       "      <th>email_adrs</th>\n",
       "      <th>a_status</th>\n",
       "    </tr>\n",
       "  </thead>\n",
       "  <tbody>\n",
       "    <tr>\n",
       "      <th>0</th>\n",
       "      <td>Omar</td>\n",
       "      <td>Bayramov</td>\n",
       "      <td>omarbayramov@hotmail.com</td>\n",
       "      <td>1</td>\n",
       "    </tr>\n",
       "    <tr>\n",
       "      <th>1</th>\n",
       "      <td>Ali</td>\n",
       "      <td>Aliyev</td>\n",
       "      <td>alialiyev@example.com</td>\n",
       "      <td>0</td>\n",
       "    </tr>\n",
       "    <tr>\n",
       "      <th>2</th>\n",
       "      <td>Dmitry</td>\n",
       "      <td>Vladimirov</td>\n",
       "      <td>v.dmitry@koala.kl</td>\n",
       "      <td>1</td>\n",
       "    </tr>\n",
       "    <tr>\n",
       "      <th>3</th>\n",
       "      <td>Donald</td>\n",
       "      <td>Trump</td>\n",
       "      <td>grabthat@pussycatdolls.com</td>\n",
       "      <td>1</td>\n",
       "    </tr>\n",
       "    <tr>\n",
       "      <th>4</th>\n",
       "      <td>Rashid</td>\n",
       "      <td>Maniyev</td>\n",
       "      <td>rashid.maniyev@exponential.az</td>\n",
       "      <td>1</td>\n",
       "    </tr>\n",
       "  </tbody>\n",
       "</table>\n",
       "</div>"
      ],
      "text/plain": [
       "   f_name      l_name                     email_adrs  a_status\n",
       "0    Omar    Bayramov       omarbayramov@hotmail.com         1\n",
       "1     Ali      Aliyev          alialiyev@example.com         0\n",
       "2  Dmitry  Vladimirov              v.dmitry@koala.kl         1\n",
       "3  Donald       Trump     grabthat@pussycatdolls.com         1\n",
       "4  Rashid     Maniyev  rashid.maniyev@exponential.az         1"
      ]
     },
     "execution_count": 12,
     "metadata": {},
     "output_type": "execute_result"
    }
   ],
   "source": [
    "df = pd.read_csv('https://raw.githubusercontent.com/limpapud/datasets/master/Tutorial_datasets/csv_to_dataframe.csv', \n",
    "                 delimiter=',')\n",
    "df"
   ]
  },
  {
   "cell_type": "markdown",
   "metadata": {},
   "source": [
    "### JSON\n",
    "\n",
    "Json faylından verilənləri qəbul etmək üçün URL və ya fayl sistemində fayla yol tələb olunur. Json faylı misalı aşağıda qeyd olunub."
   ]
  },
  {
   "cell_type": "raw",
   "metadata": {},
   "source": [
    "[\n",
    " {\n",
    "   \"f_name\": \"Omar\",\n",
    "   \"l_name\": \"Bayramov\",\n",
    "   \"email_adrs\": \"omarbayramov@hotmail.com\",\n",
    "   \"a_status\": 1\n",
    " }\n",
    ".....\n",
    "]"
   ]
  },
  {
   "cell_type": "markdown",
   "metadata": {},
   "source": [
    "Diqqət ilə baxdığınız halda özünüz üçün *json* faylın **Lüğət: yazı əsaslı** datafreym yaratma metodunda istifadə etdiyimiz dəyər təyinatından heç fərqi olmadığını görmüş oldunuz."
   ]
  },
  {
   "cell_type": "code",
   "execution_count": 13,
   "metadata": {},
   "outputs": [
    {
     "data": {
      "text/html": [
       "<div>\n",
       "<style scoped>\n",
       "    .dataframe tbody tr th:only-of-type {\n",
       "        vertical-align: middle;\n",
       "    }\n",
       "\n",
       "    .dataframe tbody tr th {\n",
       "        vertical-align: top;\n",
       "    }\n",
       "\n",
       "    .dataframe thead th {\n",
       "        text-align: right;\n",
       "    }\n",
       "</style>\n",
       "<table border=\"1\" class=\"dataframe\">\n",
       "  <thead>\n",
       "    <tr style=\"text-align: right;\">\n",
       "      <th></th>\n",
       "      <th>f_name</th>\n",
       "      <th>l_name</th>\n",
       "      <th>email_adrs</th>\n",
       "      <th>a_status</th>\n",
       "    </tr>\n",
       "  </thead>\n",
       "  <tbody>\n",
       "    <tr>\n",
       "      <th>0</th>\n",
       "      <td>Omar</td>\n",
       "      <td>Bayramov</td>\n",
       "      <td>omarbayramov@hotmail.com</td>\n",
       "      <td>1</td>\n",
       "    </tr>\n",
       "    <tr>\n",
       "      <th>1</th>\n",
       "      <td>Ali</td>\n",
       "      <td>Aliyev</td>\n",
       "      <td>alialiyev@example.com</td>\n",
       "      <td>0</td>\n",
       "    </tr>\n",
       "    <tr>\n",
       "      <th>2</th>\n",
       "      <td>Dmitry</td>\n",
       "      <td>Vladimirov</td>\n",
       "      <td>v.dmitry@koala.kl</td>\n",
       "      <td>1</td>\n",
       "    </tr>\n",
       "    <tr>\n",
       "      <th>3</th>\n",
       "      <td>Donald</td>\n",
       "      <td>Trump</td>\n",
       "      <td>grabthat@pussycatdolls.com</td>\n",
       "      <td>1</td>\n",
       "    </tr>\n",
       "    <tr>\n",
       "      <th>4</th>\n",
       "      <td>Rashid</td>\n",
       "      <td>Maniyev</td>\n",
       "      <td>rashid.maniyev@exponential.az</td>\n",
       "      <td>1</td>\n",
       "    </tr>\n",
       "  </tbody>\n",
       "</table>\n",
       "</div>"
      ],
      "text/plain": [
       "   f_name      l_name                     email_adrs  a_status\n",
       "0    Omar    Bayramov       omarbayramov@hotmail.com         1\n",
       "1     Ali      Aliyev          alialiyev@example.com         0\n",
       "2  Dmitry  Vladimirov              v.dmitry@koala.kl         1\n",
       "3  Donald       Trump     grabthat@pussycatdolls.com         1\n",
       "4  Rashid     Maniyev  rashid.maniyev@exponential.az         1"
      ]
     },
     "execution_count": 13,
     "metadata": {},
     "output_type": "execute_result"
    }
   ],
   "source": [
    "df = pd.read_json('https://raw.githubusercontent.com/limpapud/datasets/master/Tutorial_datasets/json_to_dataframe.json')\n",
    "df = df[['f_name','l_name','email_adrs','a_status',]]\n",
    "df"
   ]
  },
  {
   "cell_type": "markdown",
   "metadata": {},
   "source": [
    "### SQL\n",
    "\n",
    "Və son olaraq SQLite fayl məlumat bazasından məlumat sorğulayaq və datafreymə yerləşdirək. İlk öncə işimiz üçün tələb olunan modulları import edək."
   ]
  },
  {
   "cell_type": "code",
   "execution_count": 14,
   "metadata": {},
   "outputs": [],
   "source": [
    "import sqlalchemy\n",
    "from sqlalchemy import create_engine\n",
    "import sqlite3"
   ]
  },
  {
   "cell_type": "markdown",
   "metadata": {},
   "source": [
    "Sorğulama üçün *engine* yaradaq və məlumat bazası faylına yolu göstərək."
   ]
  },
  {
   "cell_type": "code",
   "execution_count": 15,
   "metadata": {},
   "outputs": [],
   "source": [
    "engine = create_engine('sqlite:///C:/Users/omarbayramov/Documents/GitHub/datasets/Tutorial_datasets/sql_to_dataframe.db')"
   ]
  },
  {
   "cell_type": "markdown",
   "metadata": {},
   "source": [
    "Qoşulma yaradıb, məlumat bazasında yerləşən **emails** cədvəlindən bütün sətrləri sorğulayaq."
   ]
  },
  {
   "cell_type": "code",
   "execution_count": 16,
   "metadata": {},
   "outputs": [],
   "source": [
    "con=engine.connect()\n",
    "a=con.execute('SELECT * FROM emails')"
   ]
  },
  {
   "cell_type": "markdown",
   "metadata": {},
   "source": [
    "Məlumat sorğulandıqdan sonra **fetchall** funksiyası vasitəsi ilə sətrləri \"oxuyub\" **data** dəyişkəninə təhkim edək və sonda MB bağlantısın bağlayaq."
   ]
  },
  {
   "cell_type": "code",
   "execution_count": 17,
   "metadata": {},
   "outputs": [
    {
     "data": {
      "text/plain": [
       "[('Omar', 'Bayramov', 'omarbayramov@hotmail.com', 1),\n",
       " ('Ali', 'Aliyev', 'alialiyev@example.com', 0),\n",
       " ('Dmitry', 'Vladimirov', 'v.dmitry@koala.kl', 1),\n",
       " ('Donald', 'Trump', 'grabthat@pussycatdolls.com', 1),\n",
       " ('Rashid', 'Maniyev', 'rashid.maniyev@exponential.az', 1)]"
      ]
     },
     "execution_count": 17,
     "metadata": {},
     "output_type": "execute_result"
    }
   ],
   "source": [
    "data=a.fetchall()\n",
    "a.close()\n",
    "data"
   ]
  },
  {
   "cell_type": "markdown",
   "metadata": {},
   "source": [
    "Əldə olunan məlumatın strukturu tanış qəlir mi? Diqqət ilə baxsanız ilk tanış olduğumuz **Siyahı: sətr əsaslı** məlumat strukturun tanıyarsınız. Artıq tanış olduğumuz proseduru icra edərək cədvəl qurmaq qaldı:"
   ]
  },
  {
   "cell_type": "code",
   "execution_count": 18,
   "metadata": {},
   "outputs": [
    {
     "data": {
      "text/html": [
       "<div>\n",
       "<style scoped>\n",
       "    .dataframe tbody tr th:only-of-type {\n",
       "        vertical-align: middle;\n",
       "    }\n",
       "\n",
       "    .dataframe tbody tr th {\n",
       "        vertical-align: top;\n",
       "    }\n",
       "\n",
       "    .dataframe thead th {\n",
       "        text-align: right;\n",
       "    }\n",
       "</style>\n",
       "<table border=\"1\" class=\"dataframe\">\n",
       "  <thead>\n",
       "    <tr style=\"text-align: right;\">\n",
       "      <th></th>\n",
       "      <th>f_name</th>\n",
       "      <th>l_name</th>\n",
       "      <th>email_adrs</th>\n",
       "      <th>a_status</th>\n",
       "    </tr>\n",
       "  </thead>\n",
       "  <tbody>\n",
       "    <tr>\n",
       "      <th>0</th>\n",
       "      <td>Omar</td>\n",
       "      <td>Bayramov</td>\n",
       "      <td>omarbayramov@hotmail.com</td>\n",
       "      <td>1</td>\n",
       "    </tr>\n",
       "    <tr>\n",
       "      <th>1</th>\n",
       "      <td>Ali</td>\n",
       "      <td>Aliyev</td>\n",
       "      <td>alialiyev@example.com</td>\n",
       "      <td>0</td>\n",
       "    </tr>\n",
       "    <tr>\n",
       "      <th>2</th>\n",
       "      <td>Dmitry</td>\n",
       "      <td>Vladimirov</td>\n",
       "      <td>v.dmitry@koala.kl</td>\n",
       "      <td>1</td>\n",
       "    </tr>\n",
       "    <tr>\n",
       "      <th>3</th>\n",
       "      <td>Donald</td>\n",
       "      <td>Trump</td>\n",
       "      <td>grabthat@pussycatdolls.com</td>\n",
       "      <td>1</td>\n",
       "    </tr>\n",
       "    <tr>\n",
       "      <th>4</th>\n",
       "      <td>Rashid</td>\n",
       "      <td>Maniyev</td>\n",
       "      <td>rashid.maniyev@exponential.az</td>\n",
       "      <td>1</td>\n",
       "    </tr>\n",
       "  </tbody>\n",
       "</table>\n",
       "</div>"
      ],
      "text/plain": [
       "   f_name      l_name                     email_adrs  a_status\n",
       "0    Omar    Bayramov       omarbayramov@hotmail.com         1\n",
       "1     Ali      Aliyev          alialiyev@example.com         0\n",
       "2  Dmitry  Vladimirov              v.dmitry@koala.kl         1\n",
       "3  Donald       Trump     grabthat@pussycatdolls.com         1\n",
       "4  Rashid     Maniyev  rashid.maniyev@exponential.az         1"
      ]
     },
     "execution_count": 18,
     "metadata": {},
     "output_type": "execute_result"
    }
   ],
   "source": [
    "df=pd.DataFrame(data, columns=['f_name','l_name','email_adrs','a_status',])\n",
    "df"
   ]
  },
  {
   "cell_type": "markdown",
   "metadata": {},
   "source": [
    "### Jurnalın sonu\n",
    "\n",
    "Jurnalın sonuna çatdınız. Oxuduğunuz üçün təşəkkürlər. Bu məqalə periodik olaraq yenilənəcək və əlavələr qəbul edəcək. Sizin əlavəniz, təklifiniz, iradınız olduğu halda GitHub vasitəsi ilə \"İssue\" yaradaraq və ya aşağıda qeyd olunmuş əlaqə vasitələri ilə fikrinizi bildirə bilərsiniz.\n",
    "\n",
    "### Əlaqə\n",
    "\n",
    "Müəllif ilə əlaqə omarbayramov@hotmail.com elektron ünvan üzərindən aparıla bilər. Əlavə olaraq sosial şəbəkə və digər saytlara linklər əlavə olunur.\n",
    "[Facebook](https://www.facebook.com/Omar.X.Bayramov)\n",
    "[Wordpress Blog](https://omarbayramov.wordpress.com/)\n",
    "[LinkedIn](https://www.linkedin.com/in/omarbayramov/)"
   ]
  }
 ],
 "metadata": {
  "kernelspec": {
   "display_name": "Python 3",
   "language": "python",
   "name": "python3"
  },
  "language_info": {
   "codemirror_mode": {
    "name": "ipython",
    "version": 3
   },
   "file_extension": ".py",
   "mimetype": "text/x-python",
   "name": "python",
   "nbconvert_exporter": "python",
   "pygments_lexer": "ipython3",
   "version": "3.6.4"
  }
 },
 "nbformat": 4,
 "nbformat_minor": 2
}
