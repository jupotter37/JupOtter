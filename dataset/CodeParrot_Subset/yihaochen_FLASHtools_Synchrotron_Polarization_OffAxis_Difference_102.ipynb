{
 "cells": [
  {
   "cell_type": "code",
   "execution_count": null,
   "metadata": {
    "collapsed": false
   },
   "outputs": [],
   "source": [
    "%matplotlib inline\n",
    "import matplotlib.pyplot as plt\n",
    "import yt\n",
    "import logging\n",
    "logging.getLogger('yt').setLevel(logging.ERROR)\n",
    "import numpy as np\n",
    "from yt import derived_field\n",
    "\n",
    "nus = [(1500, 'MHz'), (150, 'MHz')]\n",
    "proj_axis = [1,0,2]\n",
    "\n",
    "prj = {}\n",
    "frb_I, frb_Q, frb_U = {}, {}, {}\n",
    "I_bin, Q_bin, U_bin = {}, {}, {}\n",
    "psi, frac = {}, {}\n",
    "\n",
    "nu0 = nus[0]\n",
    "nu1 = nus[1]\n",
    "nus_str = ['%.1f %s' % nu0, '%.1f %s' % nu1]\n",
    "\n",
    "postfix = ('_synchrotron_gc0')\n",
    "\n",
    "dir = '/home/ychen/d9/FLASH4/2015_production_runs/0529_L45_M10_b1_h1'\n",
    "fname = dir + '/MHD_Jet_hdf5_plt_cnt_0630' + postfix\n",
    "ds = yt.load(fname)\n",
    "ptype = 'lobe'\n",
    "\n",
    "\n",
    "for nu in nus:\n",
    "    stokes = StokesFieldName(ptype, nu, proj_axis, field_type='flash')\n",
    "    north_vector = [0,0,1]\n",
    "    if proj_axis == 'x':\n",
    "        prj[nu] = yt.ProjectionPlot(ds, proj_axis, fields, width=(80, 'kpc'))\n",
    "    else:\n",
    "        prj[nu] = yt.OffAxisProjectionPlot(ds, proj_axis, fields,width=(60, 'kpc'),\n",
    "                                   north_vector=north_vector)\n",
    "    frb_I[nu] = prj[nu].frb.data[fields[0]].v\n",
    "    frb_Q[nu] = prj[nu].frb.data[fields[1]].v\n",
    "    frb_U[nu] = prj[nu].frb.data[fields[2]].v"
   ]
  },
  {
   "cell_type": "code",
   "execution_count": null,
   "metadata": {
    "collapsed": false
   },
   "outputs": [],
   "source": [
    "def plot_polarization_histogram(frac, psi, I_bin, fig=None, label=None):\n",
    "    \n",
    "    if not fig:\n",
    "        fig = plt.figure(figsize=(16,4))\n",
    "    \n",
    "    ax1 = fig.axes[0]\n",
    "    null = ax1.hist(frac[I_bin.nonzero()].flatten()*100, range=(0,80), bins=40, alpha=0.5, \\\n",
    "                    weights=I_bin[I_bin.nonzero()].flatten(), \n",
    "                    normed=True)\n",
    "    ax1.set_xlabel('Polarization fraction (%)')\n",
    "\n",
    "    ax2  = fig.axes[1]\n",
    "    null = ax2.hist(psi[I_bin.nonzero()].flatten(), bins=50, range=(-0.5*np.pi, 0.5*np.pi), alpha=0.5, \\\n",
    "                   weights=I_bin[I_bin.nonzero()].flatten(), \n",
    "                    normed=True)\n",
    "    x_tick = np.linspace(-0.5, 0.5, 5, endpoint=True)\n",
    "\n",
    "    x_label = [r\"$-\\pi/2$\", r\"$-\\pi/4$\", r\"$0$\", r\"$+\\pi/4$\", r\"$+\\pi/2$\"]\n",
    "    ax2.set_xlim(-0.5*np.pi, 0.5*np.pi)\n",
    "    ax2.set_xticks(x_tick*np.pi)\n",
    "    ax2.set_xticklabels(x_label)\n",
    "    #ax2.set_title(ds.basename + '  %.1f %s' % nu)\n",
    "\n",
    "    ax3 = fig.axes[2]\n",
    "    null = ax3.hist(np.abs(psi[I_bin.nonzero()].flatten()), bins=25, range=(0.0, 0.5*np.pi), alpha=0.5,\\\n",
    "                    label=label)\n",
    "    ax3.legend()\n",
    "    ax3.set_xlim(0.0, 0.5*np.pi)\n",
    "    ax3.set_xticks([x_tick[2:]*np.pi])\n",
    "    ax3.set_xticks(x_tick[2:]*np.pi)\n",
    "    ax3.set_xticklabels(x_label[2:])\n",
    "\n",
    "    return fig"
   ]
  },
  {
   "cell_type": "code",
   "execution_count": null,
   "metadata": {},
   "outputs": [],
   "source": [
    "# Binning\n",
    "for nu in nus:\n",
    "    factor = 1\n",
    "    nx = 800//factor\n",
    "    ny = 800//factor\n",
    "\n",
    "    I_bin[nu] = frb_I[nu].reshape(nx, factor, ny, factor).sum(3).sum(1)\n",
    "    Q_bin[nu] = frb_Q[nu].reshape(nx, factor, ny, factor).sum(3).sum(1)\n",
    "    U_bin[nu] = frb_U[nu].reshape(nx, factor, ny, factor).sum(3).sum(1)\n",
    "\n",
    "    psi[nu] = 0.5*np.arctan2(U_bin[nu], Q_bin[nu])\n",
    "    frac[nu] = np.sqrt(Q_bin[nu]**2+U_bin[nu]**2)/I_bin[nu]"
   ]
  },
  {
   "cell_type": "code",
   "execution_count": null,
   "metadata": {},
   "outputs": [],
   "source": [
    "fig = plt.figure(figsize=(16,4))\n",
    "ax1 = fig.add_subplot(131)\n",
    "ax2 = fig.add_subplot(132)\n",
    "ax3 = fig.add_subplot(133)\n",
    "\n",
    "for nu in reversed(nus):\n",
    "    nu_str = '%.0f%s' % nu\n",
    "    fig = plot_polarization_histogram(frac[nu], psi[nu], I_bin[nu], fig=fig, label=nu_str)"
   ]
  },
  {
   "cell_type": "code",
   "execution_count": null,
   "metadata": {},
   "outputs": [],
   "source": [
    "ns, bins = {}, {}\n",
    "for nu in nus:\n",
    "    frac_nu = frac[nu]\n",
    "    ns[nu], bins[nu], patches = plt.hist(frac_nu[frac_nu.nonzero()]*100, range=(0,80), bins=40, \\\n",
    "                              weights=I_bin[nu][frac_nu.nonzero()], normed=True)\n",
    "\n",
    "plt.cla()\n",
    "plt.scatter((bins[nu0][1:]+bins[nu0][:-1])/2, (ns[nu0]-ns[nu1])/(ns[nu0]+ns[nu1]))\n",
    "plt.hlines(0, 0, 80, linestyle=':')\n",
    "plt.ylim(-0.3,1)"
   ]
  },
  {
   "cell_type": "code",
   "execution_count": null,
   "metadata": {},
   "outputs": [],
   "source": [
    "fig = plt.figure(figsize=(20,8))\n",
    "ax1 = fig.add_subplot(121)\n",
    "ax1.imshow(frac[nu0], vmin=0, vmax=0.7)\n",
    "plt.title(nus_str[0])\n",
    "ax2 = fig.add_subplot(122)\n",
    "img2 = ax2.imshow(frac[nu1], vmin=0, vmax=0.7)\n",
    "plt.title(nus_str[1])\n",
    "cb = plt.colorbar(img2, pad=0)\n",
    "cb.set_label('polarization fraction')"
   ]
  },
  {
   "cell_type": "code",
   "execution_count": null,
   "metadata": {},
   "outputs": [],
   "source": [
    "fig = plt.figure(figsize=(10,8))\n",
    "ax = fig.add_subplot(111)\n",
    "img = ax.imshow((frac[nu0]-frac[nu1]), cmap='seismic', vmin=-0.5, vmax=0.5)\n",
    "cb = plt.colorbar(img, pad=0)\n",
    "\n",
    "cb.set_label('polarization fraction difference (%s - %s)' % tuple(nus_str))"
   ]
  },
  {
   "cell_type": "code",
   "execution_count": null,
   "metadata": {},
   "outputs": [],
   "source": [
    "fig = plt.figure(figsize=(22,8))\n",
    "ax1 = fig.add_subplot(121)\n",
    "ax1.imshow(psi[nu0], vmin=0, vmax=np.pi/2)\n",
    "plt.title(nus_str[0])\n",
    "ax2 = fig.add_subplot(122)\n",
    "img2 = ax2.imshow(psi[nu1], vmin=0, vmax=np.pi/2)\n",
    "plt.title(nus_str[1])\n",
    "cb = plt.colorbar(img2)\n",
    "cb.set_label('polarization angle')"
   ]
  },
  {
   "cell_type": "code",
   "execution_count": null,
   "metadata": {},
   "outputs": [],
   "source": [
    "fig = plt.figure(figsize=(10,8))\n",
    "ax = fig.add_subplot(111)\n",
    "img = plt.imshow((psi[nu0]-psi[nu1]), cmap='seismic', vmin=-1.5, vmax=1.5)\n",
    "cb = plt.colorbar(img, pad=0)\n",
    "\n",
    "cb.set_label('polarization angle difference (%s - %s)' % tuple(nus_str))"
   ]
  },
  {
   "cell_type": "code",
   "execution_count": null,
   "metadata": {
    "collapsed": false
   },
   "outputs": [],
   "source": [
    "#frb_I = proj.frb.data[fields[0]].v\n",
    "#frb_Q = proj.frb.data[fields[1]].v\n",
    "#frb_U = proj.frb.data[fields[2]].v\n",
    "\n",
    "#proj.annotate_polline(frb_I, frb_Q, frb_U, factor=16)\n",
    "#proj.show()"
   ]
  }
 ],
 "metadata": {
  "kernelspec": {
   "display_name": "Python 3",
   "language": "python",
   "name": "python3"
  },
  "language_info": {
   "codemirror_mode": {
    "name": "ipython",
    "version": 3
   },
   "file_extension": ".py",
   "mimetype": "text/x-python",
   "name": "python",
   "nbconvert_exporter": "python",
   "pygments_lexer": "ipython3",
   "version": "3.6.1"
  }
 },
 "nbformat": 4,
 "nbformat_minor": 1
}
