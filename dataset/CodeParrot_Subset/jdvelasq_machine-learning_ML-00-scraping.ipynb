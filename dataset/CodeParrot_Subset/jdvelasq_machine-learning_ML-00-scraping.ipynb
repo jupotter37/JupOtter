{
 "cells": [
  {
   "cell_type": "markdown",
   "metadata": {},
   "source": [
    "# Aprendizaje de Máquinas -- 0 -- Scraping\n",
    "Notas de clase sobre aprendizaje de máquinas"
   ]
  },
  {
   "cell_type": "markdown",
   "metadata": {},
   "source": [
    "**Juan David Velásquez Henao**   \n",
    "jdvelasq@unal.edu.co  \n",
    "Universidad Nacional de Colombia, Sede Medellín  \n",
    "Facultad de Minas  \n",
    "Medellín, Colombia  \n",
    "\n",
    "[Licencia](https://github.com/jdvelasq/machine-learning/blob/master/LICENCIA.txt)  \n",
    "[Readme](https://github.com/jdvelasq/machine-learning/blob/master/Readme.md)"
   ]
  },
  {
   "cell_type": "markdown",
   "metadata": {},
   "source": [
    "**Software utilizado**\n",
    "\n",
    "> Este es un documento interactivo escrito como un notebook de [Jupyter](http://jupyter.org), en el cual se presenta un tutorial sobre la extracción, transformación, visualización y carga de datos usando **Python** en el contexto de la ciencia de los datos. Los notebooks de Jupyter permiten incoporar simultáneamente código, texto, gráficos y ecuaciones. El código presentado en este notebook puede ejecutarse en los sistemas operativos Linux y OS X.\n",
    "\n",
    "> Haga click [aquí](https://github.com/jdvelasq/guias-de-instalacion) para obtener instrucciones detalladas sobre como instalar Jupyter en Windows y Mac OS X.\n",
    "\n",
    "> Haga clic [aquí](http://nbviewer.jupyter.org/github/jdvelasq/ETVL-IPython/blob/master/ETVL-IPy-1-uso-interactivo.ipynb) para ver la última versión de este documento en nbviewer.\n",
    "\n",
    "> Descargue la última versión de este documento a su disco duro; luego, carguelo y ejecutelo en línea en [Try Jupyter!](https://try.jupyter.org)\n"
   ]
  },
  {
   "cell_type": "markdown",
   "metadata": {},
   "source": [
    "#### Contenido"
   ]
  },
  {
   "cell_type": "markdown",
   "metadata": {},
   "source": [
    "> \n"
   ]
  },
  {
   "cell_type": "markdown",
   "metadata": {},
   "source": [
    "**Bibliografía**.\n",
    "\n",
    "> [The Python Tutorial](https://docs.python.org/3/tutorial/index.html) by Python Software Fundation\n",
    "\n",
    "> [IPython in deep](https://github.com/ipython/ipython-in-depth/blob/master/examples/Index.ipynb) at GitHub\n",
    "\n",
    "> [IPython wiki](https://github.com/ipython/ipython/wiki) at GitHub"
   ]
  },
  {
   "cell_type": "markdown",
   "metadata": {},
   "source": [
    "# Web Scraping"
   ]
  },
  {
   "cell_type": "markdown",
   "metadata": {},
   "source": [
    "### Ejemplo 1"
   ]
  },
  {
   "cell_type": "code",
   "execution_count": 6,
   "metadata": {
    "collapsed": false
   },
   "outputs": [],
   "source": [
    "# importa las librerias\n",
    "import urllib.request\n",
    "import urllib.parse\n",
    "# import urllib2"
   ]
  },
  {
   "cell_type": "code",
   "execution_count": 7,
   "metadata": {
    "collapsed": false
   },
   "outputs": [
    {
     "name": "stdout",
     "output_type": "stream",
     "text": [
      "b'<!doctype html><html itemscope=\"\" itemtype=\"http://schema.org/WebPage\" lang=\"es-419\"><head><meta content=\"text/html; charset=UTF-8\" http-equiv=\"Content-Type\"><meta content=\"/images/branding/googleg/1x'\n"
     ]
    }
   ],
   "source": [
    "google = urllib.request.urlopen('http://google.com') \n",
    "google = google.read()\n",
    "print(google[:200])"
   ]
  },
  {
   "cell_type": "code",
   "execution_count": 11,
   "metadata": {
    "collapsed": false
   },
   "outputs": [
    {
     "name": "stdout",
     "output_type": "stream",
     "text": [
      "b'<!doctype html><html itemscope=\"\" itemtype=\"http://schema.org/WebPage\" lang=\"es-419\"><head><meta content=\"text/html; charset=UTF-8\" http-equiv=\"Content-Type\"><meta content=\"/images/branding/googleg/1x/googleg_standard_color_128dp.png\" itemprop=\"image\"><title>Google</title><script>(function(){window.google={kEI:\\'xkK4WJSRG8yymwGYzZ24Dw\\',kEXPI:\\'18167,1351828,1351903,1352240,1352623,1352995,3700284,37'\n"
     ]
    }
   ],
   "source": [
    "url = 'http://google.com?q='\n",
    "url_with_query = url + urllib.parse.quote('python web scraping')\n",
    "web_search = urllib.request.urlopen(url_with_query)\n",
    "web_search = web_search.read() \n",
    "print(web_search[:400])"
   ]
  },
  {
   "cell_type": "code",
   "execution_count": 12,
   "metadata": {
    "collapsed": false
   },
   "outputs": [
    {
     "name": "stdout",
     "output_type": "stream",
     "text": [
      "200\n",
      "b'<!doctype html><html itemscope=\"\" itemtype=\"http://schema.org/WebPage\" lang=\"es-419\"><head><meta content=\"text/html; charset=UTF-8\" http-equiv=\"Content-Type\"><meta content=\"/images/branding/googleg/1x'\n",
      "{'Date': 'Thu, 02 Mar 2017 16:06:18 GMT', 'Expires': '-1', 'Cache-Control': 'private, max-age=0', 'Content-Type': 'text/html; charset=ISO-8859-1', 'P3P': 'CP=\"This is not a P3P policy! See https://www.google.com/support/accounts/answer/151657?hl=en for more info.\"', 'Content-Encoding': 'gzip', 'Server': 'gws', 'Content-Length': '4579', 'X-XSS-Protection': '1; mode=block', 'X-Frame-Options': 'SAMEORIGIN', 'Set-Cookie': 'NID=98=s6YBZCZgKy3lIWCYYXCzoa0rxmueIipaGfKsAuvBly3OKk7Sq0ncGjmi7yzZv_uvQGj0zVxvYTUTNFbAitFkjahnfytwxL3T7xW12Kf-W5g0zB8yvKQPUHaeFOkAwMxl; expires=Fri, 01-Sep-2017 16:06:18 GMT; path=/; domain=.google.com.co; HttpOnly'}\n",
      "[('NID', '98=s6YBZCZgKy3lIWCYYXCzoa0rxmueIipaGfKsAuvBly3OKk7Sq0ncGjmi7yzZv_uvQGj0zVxvYTUTNFbAitFkjahnfytwxL3T7xW12Kf-W5g0zB8yvKQPUHaeFOkAwMxl')]\n"
     ]
    }
   ],
   "source": [
    "import requests\n",
    "google = requests.get('http://google.com') \n",
    "print(google.status_code)\n",
    "print(google.content[:200])\n",
    "print(google.headers)\n",
    "print(google.cookies.items())"
   ]
  },
  {
   "cell_type": "markdown",
   "metadata": {},
   "source": [
    "## Ejemplo 2"
   ]
  },
  {
   "cell_type": "code",
   "execution_count": 40,
   "metadata": {
    "collapsed": true
   },
   "outputs": [],
   "source": [
    "from urllib.request import urlopen\n",
    "from bs4 import BeautifulSoup \n",
    "import requests"
   ]
  },
  {
   "cell_type": "code",
   "execution_count": 56,
   "metadata": {
    "collapsed": false
   },
   "outputs": [
    {
     "name": "stdout",
     "output_type": "stream",
     "text": [
      "<a href=\"http://www.allitebooks.com/code-generation-with-roslyn/\" rel=\"bookmark\">\n",
      "<img alt=\"Code Generation with Roslyn\" class=\"attachment-post-thumbnail wp-post-image\" height=\"499\" src=\"http://www.allitebooks.com/wp-content/uploads/2017/03/Code-Generation-with-Roslyn.jpg\" width=\"351\"/> </a>\n",
      " \n",
      "<a href=\"http://www.allitebooks.com/code-generation-with-roslyn/\" rel=\"bookmark\">Code Generation with Roslyn</a>\n",
      " \n",
      "<a href=\"http://www.allitebooks.com/beginning-power-bi-2nd-edition/\" rel=\"bookmark\">\n",
      "<img alt=\"Beginning Power BI\" class=\"attachment-post-thumbnail wp-post-image\" height=\"499\" src=\"http://www.allitebooks.com/wp-content/uploads/2017/03/Beginning-Power-BI.jpg\" width=\"350\"/> </a>\n",
      " \n",
      "<a href=\"http://www.allitebooks.com/beginning-power-bi-2nd-edition/\" rel=\"bookmark\">Beginning Power BI, 2nd Edition</a>\n",
      " \n",
      "<a href=\"http://www.allitebooks.com/cisco-lan-switching-configuration-handbook-2nd-edition/\" rel=\"bookmark\">\n",
      "<img alt=\"Cisco LAN Switching Configuration Handbook, 2nd Edition\" class=\"attachment-post-thumbnail wp-post-image\" height=\"499\" src=\"http://www.allitebooks.com/wp-content/uploads/2017/03/Cisco-LAN-Switching-Configuration-Handbook-2nd-Edition.jpg\" width=\"392\"/> </a>\n",
      " \n",
      "<a href=\"http://www.allitebooks.com/cisco-lan-switching-configuration-handbook-2nd-edition/\" rel=\"bookmark\">Cisco LAN Switching Configuration Handbook, 2nd Edition</a>\n",
      " \n",
      "<a href=\"http://www.allitebooks.com/data-visualisation-with-r/\" rel=\"bookmark\">\n",
      "<img alt=\"Data Visualisation with R\" class=\"attachment-post-thumbnail wp-post-image\" height=\"499\" src=\"http://www.allitebooks.com/wp-content/uploads/2017/03/Data-Visualisation-with-R.jpg\" width=\"332\"/> </a>\n",
      " \n",
      "<a href=\"http://www.allitebooks.com/data-visualisation-with-r/\" rel=\"bookmark\">Data Visualisation with R</a>\n",
      " \n",
      "<a href=\"http://www.allitebooks.com/pro-mongodb-development/\" rel=\"bookmark\">\n",
      "<img alt=\"Pro MongoDB Development\" class=\"attachment-post-thumbnail wp-post-image\" height=\"499\" src=\"http://www.allitebooks.com/wp-content/uploads/2017/03/Pro-MongoDB-Development.jpg\" width=\"350\"/> </a>\n",
      " \n",
      "<a href=\"http://www.allitebooks.com/pro-mongodb-development/\" rel=\"bookmark\">Pro MongoDB Development</a>\n",
      " \n",
      "<a href=\"http://www.allitebooks.com/html5-for-flash-developers/\" rel=\"bookmark\">\n",
      "<img alt=\"HTML5 for Flash Developers\" class=\"attachment-post-thumbnail wp-post-image\" height=\"493\" src=\"http://www.allitebooks.com/wp-content/uploads/2017/02/HTML5-for-Flash-Developers-400x493.jpg\" width=\"400\"/> </a>\n",
      " \n",
      "<a href=\"http://www.allitebooks.com/html5-for-flash-developers/\" rel=\"bookmark\">HTML5 for Flash Developers</a>\n",
      " \n",
      "<a href=\"http://www.allitebooks.com/microsoft-windows-server-2012-administration-instant-reference/\" rel=\"bookmark\">\n",
      "<img alt=\"Microsoft Windows Server 2012 Administration Instant Reference\" class=\"attachment-post-thumbnail wp-post-image\" height=\"499\" src=\"http://www.allitebooks.com/wp-content/uploads/2017/02/Microsoft-Windows-Server-2012-Administration-Instant-Reference.jpg\" width=\"332\"/> </a>\n",
      " \n",
      "<a href=\"http://www.allitebooks.com/microsoft-windows-server-2012-administration-instant-reference/\" rel=\"bookmark\">Microsoft Windows Server 2012 Administration Instant Reference</a>\n",
      " \n",
      "<a href=\"http://www.allitebooks.com/learning-concurrent-programming-in-scala-2nd-edition/\" rel=\"bookmark\">\n",
      "<img alt=\"Learning Concurrent Programming in Scala, 2nd Edition\" class=\"attachment-post-thumbnail wp-post-image\" height=\"475\" src=\"http://www.allitebooks.com/wp-content/uploads/2017/02/Learning-Concurrent-Programming-in-Scala-2nd-Edition-400x475.jpg\" width=\"400\"/> </a>\n",
      " \n",
      "<a href=\"http://www.allitebooks.com/learning-concurrent-programming-in-scala-2nd-edition/\" rel=\"bookmark\">Learning Concurrent Programming in Scala, 2nd Edition</a>\n",
      " \n",
      "<a href=\"http://www.allitebooks.com/ebay-commerce-cookbook/\" rel=\"bookmark\">\n",
      "<img alt=\"eBay Commerce Cookbook\" class=\"attachment-post-thumbnail wp-post-image\" height=\"499\" src=\"http://www.allitebooks.com/wp-content/uploads/2017/02/eBay-Commerce-Cookbook.jpg\" width=\"389\"/> </a>\n",
      " \n",
      "<a href=\"http://www.allitebooks.com/ebay-commerce-cookbook/\" rel=\"bookmark\">eBay Commerce Cookbook</a>\n",
      " \n",
      "<a href=\"http://www.allitebooks.com/beginning-c-2008-objects/\" rel=\"bookmark\">\n",
      "<img alt=\"Beginning C 2008 Objects\" class=\"attachment-post-thumbnail wp-post-image\" height=\"499\" src=\"http://www.allitebooks.com/wp-content/uploads/2017/02/Beginning-C-2008-Objects.jpg\" width=\"378\"/> </a>\n",
      " \n",
      "<a href=\"http://www.allitebooks.com/beginning-c-2008-objects/\" rel=\"bookmark\">Beginning C# 2008 Objects</a>\n",
      " \n"
     ]
    },
    {
     "name": "stderr",
     "output_type": "stream",
     "text": [
      "/Users/jdvelasq/anaconda/lib/python3.6/site-packages/bs4/__init__.py:181: UserWarning: No parser was explicitly specified, so I'm using the best available HTML parser for this system (\"lxml\"). This usually isn't a problem, but if you run this code on another system, or in a different virtual environment, it may use a different parser and behave differently.\n",
      "\n",
      "The code that caused this warning is on line 193 of the file /Users/jdvelasq/anaconda/lib/python3.6/runpy.py. To get rid of this warning, change code that looks like this:\n",
      "\n",
      " BeautifulSoup([your markup])\n",
      "\n",
      "to this:\n",
      "\n",
      " BeautifulSoup([your markup], \"lxml\")\n",
      "\n",
      "  markup_type=markup_type))\n"
     ]
    }
   ],
   "source": [
    "html = urlopen(\"http://www.allitebooks.com\") \n",
    "bsObj = BeautifulSoup(html.read())\n",
    "titles = bsObj.findAll(\"a\", {'rel':'bookmark'})\n",
    "for x in titles:\n",
    "    print(x)\n",
    "    print(' ')"
   ]
  },
  {
   "cell_type": "code",
   "execution_count": null,
   "metadata": {
    "collapsed": true
   },
   "outputs": [],
   "source": []
  },
  {
   "cell_type": "code",
   "execution_count": null,
   "metadata": {
    "collapsed": true
   },
   "outputs": [],
   "source": []
  },
  {
   "cell_type": "code",
   "execution_count": null,
   "metadata": {
    "collapsed": true
   },
   "outputs": [],
   "source": []
  },
  {
   "cell_type": "code",
   "execution_count": null,
   "metadata": {
    "collapsed": true
   },
   "outputs": [],
   "source": []
  },
  {
   "cell_type": "code",
   "execution_count": 25,
   "metadata": {
    "collapsed": false
   },
   "outputs": [
    {
     "name": "stdout",
     "output_type": "stream",
     "text": [
      "<title>All IT eBooks - Free IT eBooks Download</title>\n"
     ]
    },
    {
     "name": "stderr",
     "output_type": "stream",
     "text": [
      "/Users/jdvelasq/anaconda/lib/python3.6/site-packages/bs4/__init__.py:181: UserWarning: No parser was explicitly specified, so I'm using the best available HTML parser for this system (\"lxml\"). This usually isn't a problem, but if you run this code on another system, or in a different virtual environment, it may use a different parser and behave differently.\n",
      "\n",
      "The code that caused this warning is on line 193 of the file /Users/jdvelasq/anaconda/lib/python3.6/runpy.py. To get rid of this warning, change code that looks like this:\n",
      "\n",
      " BeautifulSoup([your markup])\n",
      "\n",
      "to this:\n",
      "\n",
      " BeautifulSoup([your markup], \"lxml\")\n",
      "\n",
      "  markup_type=markup_type))\n"
     ]
    }
   ],
   "source": [
    "page = requests.get('http://www.allitebooks.com') \n",
    "bs = BeautifulSoup(page.content)\n",
    "print(bs.title)"
   ]
  },
  {
   "cell_type": "code",
   "execution_count": 29,
   "metadata": {
    "collapsed": false,
    "scrolled": false
   },
   "outputs": [
    {
     "name": "stdout",
     "output_type": "stream",
     "text": [
      "[<a href=\"/\" title=\"All IT eBooks\">All IT eBooks</a>, <a title=\"All Categories\">Categories</a>, <a href=\"http://www.allitebooks.com/web-development/\">Web Development</a>, <a href=\"http://www.allitebooks.com/web-development/asp-net/\">ASP.NET</a>, <a href=\"http://www.allitebooks.com/web-development/cms/\">CMS</a>, <a href=\"http://www.allitebooks.com/web-development/html-html5-css/\">HTML, HTML5 &amp; CSS</a>, <a href=\"http://www.allitebooks.com/web-development/javascript/\">JavaScript</a>, <a href=\"http://www.allitebooks.com/web-development/jsp/\">JSP</a>, <a href=\"http://www.allitebooks.com/web-development/php/\">PHP</a>, <a href=\"http://www.allitebooks.com/web-development/python/\">Python</a>, <a href=\"http://www.allitebooks.com/web-development/ruby/\">Ruby</a>, <a href=\"http://www.allitebooks.com/web-development/rails/\">Rails</a>, <a href=\"http://www.allitebooks.com/web-development/xml/\">XML</a>, <a href=\"http://www.allitebooks.com/web-development/services-apis/\">Services &amp; APIs</a>, <a href=\"http://www.allitebooks.com/web-development/other-web-development/\">Other</a>, <a href=\"http://www.allitebooks.com/programming/\">Programming</a>, <a href=\"http://www.allitebooks.com/programming/c/\">C &amp; C++</a>, <a href=\"http://www.allitebooks.com/programming/c-programming/\">C#</a>, <a href=\"http://www.allitebooks.com/programming/delphi/\">Delphi</a>, <a href=\"http://www.allitebooks.com/programming/java/\">Java</a>, <a href=\"http://www.allitebooks.com/programming/net/\">.NET</a>, <a href=\"http://www.allitebooks.com/programming/objective-c/\">Objective-C</a>, <a href=\"http://www.allitebooks.com/programming/opencl/\">OpenCL</a>, <a href=\"http://www.allitebooks.com/programming/perl/\">Perl</a>, <a href=\"http://www.allitebooks.com/programming/powershell/\">PowerShell</a>, <a href=\"http://www.allitebooks.com/programming/scala/\">Scala</a>, <a href=\"http://www.allitebooks.com/programming/swift/\">Swift</a>, <a href=\"http://www.allitebooks.com/programming/visual-basic/\">Visual Basic</a>, <a href=\"http://www.allitebooks.com/datebases/\">Datebases</a>, <a href=\"http://www.allitebooks.com/datebases/big-data/\">Big Data</a>, <a href=\"http://www.allitebooks.com/datebases/data-analysis/\">Data Analysis</a>, <a href=\"http://www.allitebooks.com/datebases/mongodb/\">MongoDB</a>, <a href=\"http://www.allitebooks.com/datebases/mysql/\">MySQL</a>, <a href=\"http://www.allitebooks.com/datebases/nosql/\">NoSQL</a>, <a href=\"http://www.allitebooks.com/datebases/postgresql/\">PostgreSQL</a>, <a href=\"http://www.allitebooks.com/datebases/oracle/\">Oracle</a>, <a href=\"http://www.allitebooks.com/datebases/sql/\">SQL</a>, <a href=\"http://www.allitebooks.com/game-programming/\">Game Programming</a>, <a href=\"http://www.allitebooks.com/graphics-design/\">Graphics &amp; Design</a>, <a href=\"http://www.allitebooks.com/graphics-design/3d-max/\">3D MAX</a>, <a href=\"http://www.allitebooks.com/graphics-design/cad/\">CAD</a>, <a href=\"http://www.allitebooks.com/graphics-design/coreldraw/\">Coreldraw</a>, <a href=\"http://www.allitebooks.com/graphics-design/dreamweaver/\">Dreamweaver</a>, <a href=\"http://www.allitebooks.com/graphics-design/flash/\">Flash</a>, <a href=\"http://www.allitebooks.com/graphics-design/illustrator/\">Illustrator</a>, <a href=\"http://www.allitebooks.com/graphics-design/maya/\">Maya</a>, <a href=\"http://www.allitebooks.com/graphics-design/photoshop/\">Photoshop</a>, <a href=\"http://www.allitebooks.com/graphics-design/premiere/\">Premiere</a>, <a href=\"http://www.allitebooks.com/operating-systems/\">Operating Systems</a>, <a href=\"http://www.allitebooks.com/operating-systems/windows/\">Windows</a>, <a href=\"http://www.allitebooks.com/operating-systems/linux-unix/\">Linux &amp; Unix</a>, <a href=\"http://www.allitebooks.com/operating-systems/macintosh/\">Macintosh</a>, <a href=\"http://www.allitebooks.com/operating-systems/android/\">Android</a>, <a href=\"http://www.allitebooks.com/operating-systems/ios/\">iOS</a>, <a href=\"http://www.allitebooks.com/operating-systems/windows-phone/\">Windows Phone</a>, <a href=\"http://www.allitebooks.com/networking-cloud-computing/\">Networking &amp; Cloud Computing</a>, <a href=\"http://www.allitebooks.com/networking-cloud-computing/cloud-computing/\">Cloud Computing</a>, <a href=\"http://www.allitebooks.com/networking-cloud-computing/network-administration/\">Network Administration</a>, <a href=\"http://www.allitebooks.com/networking-cloud-computing/network-security/\">Network Security</a>, <a href=\"http://www.allitebooks.com/networking-cloud-computing/networks-protocols-apis/\">Networks, Protocols &amp; APIs</a>, <a href=\"http://www.allitebooks.com/networking-cloud-computing/wireless-networks/\">Wireless Networks</a>, <a href=\"http://www.allitebooks.com/administration/\">Administration</a>, <a href=\"http://www.allitebooks.com/administration/cloud-virtualization/\">Cloud &amp; Virtualization</a>, <a href=\"http://www.allitebooks.com/administration/infrastructure/\">Infrastructure</a>, <a href=\"http://www.allitebooks.com/administration/mail-servers/\">Mail Servers</a>, <a href=\"http://www.allitebooks.com/administration/microsoft-platform/\">Microsoft Platform</a>, <a href=\"http://www.allitebooks.com/administration/monitoring/\">Monitoring</a>, <a href=\"http://www.allitebooks.com/administration/task-automation/\">Task Automation</a>, <a href=\"http://www.allitebooks.com/administration/web-servers/\">Web Servers</a>, <a href=\"http://www.allitebooks.com/administration/other/\">Other</a>, <a href=\"http://www.allitebooks.com/computers-technology/\">Computers &amp; Technology</a>, <a href=\"http://www.allitebooks.com/computers-technology/computer-science/\">Computer Science</a>, <a href=\"http://www.allitebooks.com/certification/\">Certification</a>, <a href=\"http://www.allitebooks.com/enterprise/\">Enterprise</a>, <a href=\"http://www.allitebooks.com/enterprise/business-applications/\">Business Applications</a>, <a href=\"http://www.allitebooks.com/enterprise/communications/\">Communications</a>, <a href=\"http://www.allitebooks.com/enterprise/erp-crm/\">ERP &amp; CRM</a>, <a href=\"http://www.allitebooks.com/marketing-seo/\">Marketing &amp; SEO</a>, <a href=\"http://www.allitebooks.com/hardware/\">Hardware &amp; DIY</a>, <a href=\"http://www.allitebooks.com/security/\">Security</a>, <a href=\"http://www.allitebooks.com/software/\">Software</a>, <a href=\"http://www.allitebooks.com/software/mac/\">Mac</a>, <a href=\"http://www.allitebooks.com/software/office/\">Office</a>, <a href=\"http://www.allitebooks.com/software/windows-pc/\">Windows &amp; PC</a>, <a href=\"http://www.allitebooks.com/web-development/\">Web Development</a>, <a href=\"http://www.allitebooks.com/programming/\">Programming</a>, <a href=\"http://www.allitebooks.com/datebases/\">Datebases</a>, <a href=\"http://www.allitebooks.com/graphics-design/\">Graphics &amp; Design</a>, <a href=\"http://www.allitebooks.com/operating-systems/\">Operating Systems</a>, <a href=\"http://www.allitebooks.com/networking-cloud-computing/\">Networking &amp; Cloud Computing</a>, <a href=\"http://www.allitebooks.com/administration/\">Administration</a>, <a href=\"http://www.allitebooks.com/certification/\">Certification</a>, <a href=\"http://www.allitebooks.com/computers-technology/\">Computers &amp; Technology</a>, <a href=\"http://www.allitebooks.com/enterprise/\">Enterprise</a>, <a href=\"http://www.allitebooks.com/game-programming/\">Game Programming</a>, <a href=\"http://www.allitebooks.com/hardware/\">Hardware &amp; DIY</a>, <a href=\"http://www.allitebooks.com/marketing-seo/\">Marketing &amp; SEO</a>, <a href=\"http://www.allitebooks.com/security/\">Security</a>, <a href=\"http://www.allitebooks.com/software/\">Software</a>, <a href=\"http://www.allitebooks.com/code-generation-with-roslyn/\" rel=\"bookmark\">\n",
      "<img alt=\"Code Generation with Roslyn\" class=\"attachment-post-thumbnail wp-post-image\" height=\"499\" src=\"http://www.allitebooks.com/wp-content/uploads/2017/03/Code-Generation-with-Roslyn.jpg\" width=\"351\"/> </a>, <a href=\"http://www.allitebooks.com/code-generation-with-roslyn/\" rel=\"bookmark\">Code Generation with Roslyn</a>, <a href=\"http://www.allitebooks.com/author/nick-harrison/\" rel=\"tag\">Nick Harrison</a>, <a href=\"http://www.allitebooks.com/beginning-power-bi-2nd-edition/\" rel=\"bookmark\">\n",
      "<img alt=\"Beginning Power BI\" class=\"attachment-post-thumbnail wp-post-image\" height=\"499\" src=\"http://www.allitebooks.com/wp-content/uploads/2017/03/Beginning-Power-BI.jpg\" width=\"350\"/> </a>, <a href=\"http://www.allitebooks.com/beginning-power-bi-2nd-edition/\" rel=\"bookmark\">Beginning Power BI, 2nd Edition</a>, <a href=\"http://www.allitebooks.com/author/dan-clark/\" rel=\"tag\">Dan Clark</a>, <a href=\"http://www.allitebooks.com/cisco-lan-switching-configuration-handbook-2nd-edition/\" rel=\"bookmark\">\n",
      "<img alt=\"Cisco LAN Switching Configuration Handbook, 2nd Edition\" class=\"attachment-post-thumbnail wp-post-image\" height=\"499\" src=\"http://www.allitebooks.com/wp-content/uploads/2017/03/Cisco-LAN-Switching-Configuration-Handbook-2nd-Edition.jpg\" width=\"392\"/> </a>, <a href=\"http://www.allitebooks.com/cisco-lan-switching-configuration-handbook-2nd-edition/\" rel=\"bookmark\">Cisco LAN Switching Configuration Handbook, 2nd Edition</a>, <a href=\"http://www.allitebooks.com/author/david-hucaby/\" rel=\"tag\">David Hucaby</a>, <a href=\"http://www.allitebooks.com/author/david-jansen/\" rel=\"tag\">David Jansen</a>, <a href=\"http://www.allitebooks.com/author/steve-mcquerry/\" rel=\"tag\">Steve McQuerry</a>, <a href=\"http://www.allitebooks.com/data-visualisation-with-r/\" rel=\"bookmark\">\n",
      "<img alt=\"Data Visualisation with R\" class=\"attachment-post-thumbnail wp-post-image\" height=\"499\" src=\"http://www.allitebooks.com/wp-content/uploads/2017/03/Data-Visualisation-with-R.jpg\" width=\"332\"/> </a>, <a href=\"http://www.allitebooks.com/data-visualisation-with-r/\" rel=\"bookmark\">Data Visualisation with R</a>, <a href=\"http://www.allitebooks.com/author/thomas-rahlf/\" rel=\"tag\">Thomas Rahlf</a>, <a href=\"http://www.allitebooks.com/pro-mongodb-development/\" rel=\"bookmark\">\n",
      "<img alt=\"Pro MongoDB Development\" class=\"attachment-post-thumbnail wp-post-image\" height=\"499\" src=\"http://www.allitebooks.com/wp-content/uploads/2017/03/Pro-MongoDB-Development.jpg\" width=\"350\"/> </a>, <a href=\"http://www.allitebooks.com/pro-mongodb-development/\" rel=\"bookmark\">Pro MongoDB Development</a>, <a href=\"http://www.allitebooks.com/author/deepak-vohra/\" rel=\"tag\">Deepak Vohra</a>, <a href=\"http://www.allitebooks.com/html5-for-flash-developers/\" rel=\"bookmark\">\n",
      "<img alt=\"HTML5 for Flash Developers\" class=\"attachment-post-thumbnail wp-post-image\" height=\"493\" src=\"http://www.allitebooks.com/wp-content/uploads/2017/02/HTML5-for-Flash-Developers-400x493.jpg\" width=\"400\"/> </a>, <a href=\"http://www.allitebooks.com/html5-for-flash-developers/\" rel=\"bookmark\">HTML5 for Flash Developers</a>, <a href=\"http://www.allitebooks.com/author/matt-fisher/\" rel=\"tag\">Matt Fisher</a>, <a href=\"http://www.allitebooks.com/microsoft-windows-server-2012-administration-instant-reference/\" rel=\"bookmark\">\n",
      "<img alt=\"Microsoft Windows Server 2012 Administration Instant Reference\" class=\"attachment-post-thumbnail wp-post-image\" height=\"499\" src=\"http://www.allitebooks.com/wp-content/uploads/2017/02/Microsoft-Windows-Server-2012-Administration-Instant-Reference.jpg\" width=\"332\"/> </a>, <a href=\"http://www.allitebooks.com/microsoft-windows-server-2012-administration-instant-reference/\" rel=\"bookmark\">Microsoft Windows Server 2012 Administration Instant Reference</a>, <a href=\"http://www.allitebooks.com/author/chris-henley/\" rel=\"tag\">Chris Henley</a>, <a href=\"http://www.allitebooks.com/author/matthew-hester/\" rel=\"tag\">Matthew Hester</a>, <a href=\"http://www.allitebooks.com/learning-concurrent-programming-in-scala-2nd-edition/\" rel=\"bookmark\">\n",
      "<img alt=\"Learning Concurrent Programming in Scala, 2nd Edition\" class=\"attachment-post-thumbnail wp-post-image\" height=\"475\" src=\"http://www.allitebooks.com/wp-content/uploads/2017/02/Learning-Concurrent-Programming-in-Scala-2nd-Edition-400x475.jpg\" width=\"400\"/> </a>, <a href=\"http://www.allitebooks.com/learning-concurrent-programming-in-scala-2nd-edition/\" rel=\"bookmark\">Learning Concurrent Programming in Scala, 2nd Edition</a>, <a href=\"http://www.allitebooks.com/author/aleksandar-prokopec/\" rel=\"tag\">Aleksandar Prokopec</a>, <a href=\"http://www.allitebooks.com/ebay-commerce-cookbook/\" rel=\"bookmark\">\n",
      "<img alt=\"eBay Commerce Cookbook\" class=\"attachment-post-thumbnail wp-post-image\" height=\"499\" src=\"http://www.allitebooks.com/wp-content/uploads/2017/02/eBay-Commerce-Cookbook.jpg\" width=\"389\"/> </a>, <a href=\"http://www.allitebooks.com/ebay-commerce-cookbook/\" rel=\"bookmark\">eBay Commerce Cookbook</a>, <a href=\"http://www.allitebooks.com/author/chuck-hudson/\" rel=\"tag\">Chuck Hudson</a>, <a href=\"http://www.allitebooks.com/beginning-c-2008-objects/\" rel=\"bookmark\">\n",
      "<img alt=\"Beginning C 2008 Objects\" class=\"attachment-post-thumbnail wp-post-image\" height=\"499\" src=\"http://www.allitebooks.com/wp-content/uploads/2017/02/Beginning-C-2008-Objects.jpg\" width=\"378\"/> </a>, <a href=\"http://www.allitebooks.com/beginning-c-2008-objects/\" rel=\"bookmark\">Beginning C# 2008 Objects</a>, <a href=\"http://www.allitebooks.com/author/grant-palmer/\" rel=\"tag\">Grant Palmer</a>, <a href=\"http://www.allitebooks.com/author/william-barker/\" rel=\"tag\">William Barker</a>, <a href=\"http://www.allitebooks.com/page/2/\" title=\"2\">2</a>, <a href=\"http://www.allitebooks.com/page/3/\" title=\"3\">3</a>, <a href=\"http://www.allitebooks.com/page/4/\" title=\"4\">4</a>, <a href=\"http://www.allitebooks.com/page/5/\" title=\"5\">5</a>, <a href=\"http://www.allitebooks.com/page/692/\" title=\"Last Page →\">692</a>]\n"
     ]
    }
   ],
   "source": [
    "print(bs.find_all('a'))"
   ]
  },
  {
   "cell_type": "code",
   "execution_count": 17,
   "metadata": {
    "collapsed": false
   },
   "outputs": [
    {
     "name": "stdout",
     "output_type": "stream",
     "text": [
      "[<p class=\"rteright\"><input name=\"organization_KEY\" type=\"hidden\" value=\"51595\"/> <input name=\"chapter_KEY\" type=\"hidden\" value=\"314\"/> <input name=\"email_trigger_KEYS\" type=\"hidden\" value=\"28321\"/> <input name=\"object\" type=\"hidden\" value=\"supporter\"/> <input name=\"Receive_Email\" type=\"hidden\" value=\"1\"/> <input name=\"link\" type=\"hidden\" value=\"groups\"/> <input name=\"linkKey\" type=\"hidden\" value=\"152258\"/> <input name=\"redirect\" type=\"hidden\" value=\"http://www.enoughproject.org/eloqua/thank-you-signing\"/> <input class=\"salsainput\" id=\"Email_4\" name=\"Email\" placeholder=\"email address\" title=\"enter value\" type=\"text\" value=\"\"/> <input type=\"Submit\" value=\"Sign up\"/></p>, <p>Thank you for your committment to ending genocide and mass atrocities. We will be updating this page shortly with additional actions.</p>, <p style=\"padding:0\"><a href=\"http://www.facebook.com/enoughproj\"><img name=\"Facebook\" src=\"http://www.enoughproject.org/files/icons/facebook.png\" style=\"margin:0 10px\" title=\"Facebook\"/></a><a href=\"http://www.twitter.com/enoughproject\"><img name=\"Twitter\" src=\"http://www.enoughproject.org/files/icons/twitter.png\" style=\"margin:0 10px\" title=\"Twitter\"/></a><a href=\"http://www.youtube.com/EnoughProject\"><img name=\"YouTube\" src=\"http://www.enoughproject.org/files/icons/youtube.png\" style=\"margin:0 10px\" title=\"YouTube\"/></a><a href=\"http://www.flickr.com/photos/enoughproject/\"><img name=\"Flickr\" src=\"http://www.enoughproject.org/files/icons/flickr.png\" style=\"margin:0 10px\" title=\"Flickr\"/></a><a href=\"http://instagram.com/enoughproject\"><img name=\"Instagram\" src=\"http://www.enoughproject.org/files/icons/instagram.png\" style=\"margin:0 10px\" title=\"Instagram\"/></a></p>, <p><strong>Enough Project</strong><br/>\n",
      "1420 K St. NW, Suite 200, Washington, DC 20005<br/>\n",
      "Phone: (<span style=\"color: rgb(38, 50, 56); font-family: arial, sans-serif; line-height: 16px;\">202) 580-7690</span></p>]\n"
     ]
    }
   ],
   "source": [
    "print(bs.find_all('p'))"
   ]
  },
  {
   "cell_type": "code",
   "execution_count": 30,
   "metadata": {
    "collapsed": false
   },
   "outputs": [
    {
     "name": "stdout",
     "output_type": "stream",
     "text": [
      "['\\n', <meta charset=\"utf-8\"/>, '\\n', <title>All IT eBooks - Free IT eBooks Download</title>, '\\n', <link href=\"http://gmpg.org/xfn/11\" rel=\"profile\"/>, '\\n', <link href=\"http://www.allitebooks.com/xmlrpc.php\" rel=\"pingback\"/>, '\\n', <meta content=\"width=device-width, initial-scale=1.0\" name=\"viewport\"/>, '\\n', ' This site is optimized with the Yoast WordPress SEO plugin v2.1.1 - https://yoast.com/wordpress/plugins/seo/ ', '\\n', <meta content=\"Free IT eBooks Download\" name=\"description\"/>, '\\n', <link href=\"http://www.allitebooks.com\" rel=\"canonical\"/>, '\\n', <link href=\"http://www.allitebooks.com/page/2/\" rel=\"next\"/>, '\\n', <script type=\"application/ld+json\">{\"@context\":\"http:\\/\\/schema.org\",\"@type\":\"WebSite\",\"url\":\"http:\\/\\/www.allitebooks.com\\/\",\"name\":\"All IT eBooks\",\"potentialAction\":{\"@type\":\"SearchAction\",\"target\":\"http:\\/\\/www.allitebooks.com\\/?s={search_term}\",\"query-input\":\"required name=search_term\"}}</script>, '\\n', ' / Yoast WordPress SEO plugin. ', '\\n', <link href=\"http://www.allitebooks.com/feed/\" rel=\"alternate\" title=\"All IT eBooks » Feed\" type=\"application/rss+xml\"/>, '\\n', <link href=\"http://www.allitebooks.com/comments/feed/\" rel=\"alternate\" title=\"All IT eBooks » Comments Feed\" type=\"application/rss+xml\"/>, '\\n', <link href=\"http://www.allitebooks.com/wp-content/plugins/wp-to-twitter/css/twitter-feed.css?ver=4.1.1\" id=\"wpt-twitter-feed-css\" media=\"all\" rel=\"stylesheet\" type=\"text/css\"/>, '\\n', <link href=\"http://www.allitebooks.com/wp-content/themes/allitebooks/css/bootstrap.css?ver=4.1.1\" id=\"bootstrap-style-css\" media=\"all\" rel=\"stylesheet\" type=\"text/css\"/>, '\\n', <link href=\"http://www.allitebooks.com/wp-content/themes/allitebooks/css/font-awesome.min.css?ver=4.1.1\" id=\"fontawesome-style-css\" media=\"all\" rel=\"stylesheet\" type=\"text/css\"/>, '\\n', <link href=\"http://www.allitebooks.com/wp-content/themes/allitebooks/style.css?ver=4.1.1\" id=\"classPlus-style-css\" media=\"all\" rel=\"stylesheet\" type=\"text/css\"/>, '\\n', <link href=\"http://www.allitebooks.com/wp-content/themes/allitebooks/css/custom.css.php?ver=4.1.1\" id=\"custom-css-css\" media=\"all\" rel=\"stylesheet\" type=\"text/css\"/>, '\\n', <script src=\"http://www.allitebooks.com/wp-includes/js/jquery/jquery.js?ver=1.11.1\" type=\"text/javascript\"></script>, '\\n', <script src=\"http://www.allitebooks.com/wp-includes/js/jquery/jquery-migrate.min.js?ver=1.2.1\" type=\"text/javascript\"></script>, '\\n', <script src=\"http://www.allitebooks.com/wp-content/themes/allitebooks/js/superfish.js?ver=4.1.1\" type=\"text/javascript\"></script>, '\\n', <script src=\"http://www.allitebooks.com/wp-content/themes/allitebooks/js/bootstrap.min.js?ver=4.1.1\" type=\"text/javascript\"></script>, '\\n', <script src=\"http://www.allitebooks.com/wp-content/themes/allitebooks/js/jquery.autosize.js?ver=4.1.1\" type=\"text/javascript\"></script>, '\\n', <script type=\"text/javascript\">\n",
      "\twindow._wp_rp_static_base_url = 'https://wprp.zemanta.com/static/';\n",
      "\twindow._wp_rp_wp_ajax_url = \"http://www.allitebooks.com/wp-admin/admin-ajax.php\";\n",
      "\twindow._wp_rp_plugin_version = '3.5.4';\n",
      "\twindow._wp_rp_post_id = '26687';\n",
      "\twindow._wp_rp_num_rel_posts = '4';\n",
      "\twindow._wp_rp_thumbnails = true;\n",
      "\twindow._wp_rp_post_title = 'Code+Generation+with+Roslyn';\n",
      "\twindow._wp_rp_post_tags = ['.net', 'c+%26amp%3B+c%2B%2B', 'system', 'write', 'busi', 'learn', 'comput', 'code', 'innov', 'gener', 'softwar', 'logic', 'tree', 'tabl', 'data', 'design', 'book'];\n",
      "\twindow._wp_rp_promoted_content = true;\n",
      "</script>, '\\n', <script async=\"\" src=\"https://wprp.zemanta.com/static/js/loader.js?version=3.5.4\" type=\"text/javascript\"></script>, '\\n', <link href=\"http://www.allitebooks.com/wp-content/themes/allitebooks/images/favicon.ico\" id=\"site-favicon\" rel=\"shortcut icon\" type=\"image/x-icon\"/>, ' ', ' Mobile Specific Meta ', '\\n', <meta content=\"yes\" name=\"apple-mobile-web-app-capable\"/>, '\\n', <meta content=\"black\" name=\"apple-mobile-web-app-status-bar-style\"/>, '\\n']\n"
     ]
    }
   ],
   "source": [
    "header_children = [c for c in bs.head.children] \n",
    "print(header_children)"
   ]
  },
  {
   "cell_type": "code",
   "execution_count": 31,
   "metadata": {
    "collapsed": false,
    "scrolled": false
   },
   "outputs": [
    {
     "ename": "AttributeError",
     "evalue": "'NoneType' object has no attribute 'descendants'",
     "output_type": "error",
     "traceback": [
      "\u001b[0;31m---------------------------------------------------------------------------\u001b[0m",
      "\u001b[0;31mAttributeError\u001b[0m                            Traceback (most recent call last)",
      "\u001b[0;32m<ipython-input-31-569213ddd6da>\u001b[0m in \u001b[0;36m<module>\u001b[0;34m()\u001b[0m\n\u001b[1;32m      1\u001b[0m \u001b[0mnavigation_bar\u001b[0m \u001b[0;34m=\u001b[0m \u001b[0mbs\u001b[0m\u001b[0;34m.\u001b[0m\u001b[0mfind\u001b[0m\u001b[0;34m(\u001b[0m\u001b[0mid\u001b[0m\u001b[0;34m=\u001b[0m\u001b[0;34m\"globalNavigation\"\u001b[0m\u001b[0;34m)\u001b[0m\u001b[0;34m\u001b[0m\u001b[0m\n\u001b[0;32m----> 2\u001b[0;31m \u001b[0;32mfor\u001b[0m \u001b[0md\u001b[0m \u001b[0;32min\u001b[0m \u001b[0mnavigation_bar\u001b[0m\u001b[0;34m.\u001b[0m\u001b[0mdescendants\u001b[0m\u001b[0;34m:\u001b[0m\u001b[0;34m\u001b[0m\u001b[0m\n\u001b[0m\u001b[1;32m      3\u001b[0m     \u001b[0mprint\u001b[0m\u001b[0;34m(\u001b[0m\u001b[0md\u001b[0m\u001b[0;34m)\u001b[0m\u001b[0;34m\u001b[0m\u001b[0m\n",
      "\u001b[0;31mAttributeError\u001b[0m: 'NoneType' object has no attribute 'descendants'"
     ]
    }
   ],
   "source": [
    "navigation_bar = bs.find(id=\"globalNavigation\") \n",
    "for d in navigation_bar.descendants:\n",
    "    print(d)"
   ]
  },
  {
   "cell_type": "code",
   "execution_count": 33,
   "metadata": {
    "collapsed": false
   },
   "outputs": [
    {
     "name": "stdout",
     "output_type": "stream",
     "text": [
      "<ul>\n",
      "<li id=\"navAbout\"><a href=\"/about\" title=\"About\"><span></span>About</a></li>\n",
      "<li id=\"navBlog\"><a href=\"/blog\" title=\"Blog\"><span></span>Blog</a></li>\n",
      "<li id=\"navConflicts\"><a href=\"/conflicts\" title=\"Conflicts\"><span></span>Conflicts</a></li>\n",
      "<li id=\"navReports\"><a href=\"/reports\" title=\"Reports\"><span></span>Reports</a></li>\n",
      "<li id=\"navTakeAction\"><a class=\"selected\" href=\"/take_action\" title=\"Take Action\"><span></span>Take Action</a></li>\n",
      "<!--<li id=\"navShop\"><a href=\"/shop\" title=\"Shop\"><span></span>Shop</a></li>-->\n",
      "<li id=\"navDonate\"><a href=\"/donate\" title=\"Donate\"><span></span>Donate</a></li>\n",
      "</ul>\n",
      "\n",
      "\n"
     ]
    }
   ],
   "source": [
    "for s in d.previous_siblings:\n",
    "    print(s)"
   ]
  },
  {
   "cell_type": "code",
   "execution_count": 35,
   "metadata": {
    "collapsed": false
   },
   "outputs": [
    {
     "name": "stdout",
     "output_type": "stream",
     "text": [
      "0\n",
      "<h2><a href=\"\">Please Check Back Soon For Our Latest Actions!</a></h2> <a href=\"\">Please Check Back Soon For Our Latest Actions!</a> [<p>Thank you for your committment to ending genocide and mass atrocities. We will be updating this page shortly with additional actions.</p>]\n"
     ]
    },
    {
     "name": "stderr",
     "output_type": "stream",
     "text": [
      "/Users/jdvelasq/anaconda/lib/python3.6/site-packages/bs4/__init__.py:181: UserWarning: No parser was explicitly specified, so I'm using the best available HTML parser for this system (\"lxml\"). This usually isn't a problem, but if you run this code on another system, or in a different virtual environment, it may use a different parser and behave differently.\n",
      "\n",
      "The code that caused this warning is on line 193 of the file /Users/jdvelasq/anaconda/lib/python3.6/runpy.py. To get rid of this warning, change code that looks like this:\n",
      "\n",
      " BeautifulSoup([your markup])\n",
      "\n",
      "to this:\n",
      "\n",
      " BeautifulSoup([your markup], \"lxml\")\n",
      "\n",
      "  markup_type=markup_type))\n"
     ]
    }
   ],
   "source": [
    "from bs4 import BeautifulSoup \n",
    "import requests\n",
    "page = requests.get('http://www.allitebooks.com') \n",
    "bs = BeautifulSoup(page.content)\n",
    "ta_divs = bs.find_all(\"div\", class_=\"views-row\")\n",
    "print(len(ta_divs))\n",
    "for ta in ta_divs: title = ta.h2\n",
    "link = ta.a\n",
    "about = ta.find_all('p') \n",
    "print(title, link, about)"
   ]
  },
  {
   "cell_type": "code",
   "execution_count": null,
   "metadata": {
    "collapsed": true
   },
   "outputs": [],
   "source": []
  },
  {
   "cell_type": "code",
   "execution_count": 36,
   "metadata": {
    "collapsed": true
   },
   "outputs": [],
   "source": [
    "from lxml import html"
   ]
  },
  {
   "cell_type": "code",
   "execution_count": 37,
   "metadata": {
    "collapsed": false
   },
   "outputs": [
    {
     "ename": "ImportError",
     "evalue": "cssselect does not seem to be installed. See http://packages.python.org/cssselect/",
     "output_type": "error",
     "traceback": [
      "\u001b[0;31m---------------------------------------------------------------------------\u001b[0m",
      "\u001b[0;31mModuleNotFoundError\u001b[0m                       Traceback (most recent call last)",
      "\u001b[0;32m/Users/jdvelasq/anaconda/lib/python3.6/site-packages/lxml/cssselect.py\u001b[0m in \u001b[0;36m<module>\u001b[0;34m()\u001b[0m\n\u001b[1;32m     12\u001b[0m \u001b[0;32mtry\u001b[0m\u001b[0;34m:\u001b[0m\u001b[0;34m\u001b[0m\u001b[0m\n\u001b[0;32m---> 13\u001b[0;31m     \u001b[0;32mimport\u001b[0m \u001b[0mcssselect\u001b[0m \u001b[0;32mas\u001b[0m \u001b[0mexternal_cssselect\u001b[0m\u001b[0;34m\u001b[0m\u001b[0m\n\u001b[0m\u001b[1;32m     14\u001b[0m \u001b[0;32mexcept\u001b[0m \u001b[0mImportError\u001b[0m\u001b[0;34m:\u001b[0m\u001b[0;34m\u001b[0m\u001b[0m\n",
      "\u001b[0;31mModuleNotFoundError\u001b[0m: No module named 'cssselect'",
      "\nDuring handling of the above exception, another exception occurred:\n",
      "\u001b[0;31mImportError\u001b[0m                               Traceback (most recent call last)",
      "\u001b[0;32m<ipython-input-37-0b427fa23b52>\u001b[0m in \u001b[0;36m<module>\u001b[0;34m()\u001b[0m\n\u001b[1;32m      1\u001b[0m \u001b[0mpage\u001b[0m \u001b[0;34m=\u001b[0m \u001b[0mhtml\u001b[0m\u001b[0;34m.\u001b[0m\u001b[0mparse\u001b[0m\u001b[0;34m(\u001b[0m\u001b[0;34m'http://www.enoughproject.org/take_action'\u001b[0m\u001b[0;34m)\u001b[0m\u001b[0;34m\u001b[0m\u001b[0m\n\u001b[1;32m      2\u001b[0m \u001b[0mroot\u001b[0m \u001b[0;34m=\u001b[0m \u001b[0mpage\u001b[0m\u001b[0;34m.\u001b[0m\u001b[0mgetroot\u001b[0m\u001b[0;34m(\u001b[0m\u001b[0;34m)\u001b[0m\u001b[0;34m\u001b[0m\u001b[0m\n\u001b[0;32m----> 3\u001b[0;31m \u001b[0mta_divs\u001b[0m \u001b[0;34m=\u001b[0m \u001b[0mroot\u001b[0m\u001b[0;34m.\u001b[0m\u001b[0mcssselect\u001b[0m\u001b[0;34m(\u001b[0m\u001b[0;34m'div.views-row'\u001b[0m\u001b[0;34m)\u001b[0m\u001b[0;34m\u001b[0m\u001b[0m\n\u001b[0m",
      "\u001b[0;32m/Users/jdvelasq/anaconda/lib/python3.6/site-packages/lxml/html/__init__.py\u001b[0m in \u001b[0;36mcssselect\u001b[0;34m(self, expr, translator)\u001b[0m\n\u001b[1;32m    430\u001b[0m         \"\"\"\n\u001b[1;32m    431\u001b[0m         \u001b[0;31m# Do the import here to make the dependency optional.\u001b[0m\u001b[0;34m\u001b[0m\u001b[0;34m\u001b[0m\u001b[0m\n\u001b[0;32m--> 432\u001b[0;31m         \u001b[0;32mfrom\u001b[0m \u001b[0mlxml\u001b[0m\u001b[0;34m.\u001b[0m\u001b[0mcssselect\u001b[0m \u001b[0;32mimport\u001b[0m \u001b[0mCSSSelector\u001b[0m\u001b[0;34m\u001b[0m\u001b[0m\n\u001b[0m\u001b[1;32m    433\u001b[0m         \u001b[0;32mreturn\u001b[0m \u001b[0mCSSSelector\u001b[0m\u001b[0;34m(\u001b[0m\u001b[0mexpr\u001b[0m\u001b[0;34m,\u001b[0m \u001b[0mtranslator\u001b[0m\u001b[0;34m=\u001b[0m\u001b[0mtranslator\u001b[0m\u001b[0;34m)\u001b[0m\u001b[0;34m(\u001b[0m\u001b[0mself\u001b[0m\u001b[0;34m)\u001b[0m\u001b[0;34m\u001b[0m\u001b[0m\n\u001b[1;32m    434\u001b[0m \u001b[0;34m\u001b[0m\u001b[0m\n",
      "\u001b[0;32m/Users/jdvelasq/anaconda/lib/python3.6/site-packages/lxml/cssselect.py\u001b[0m in \u001b[0;36m<module>\u001b[0;34m()\u001b[0m\n\u001b[1;32m     14\u001b[0m \u001b[0;32mexcept\u001b[0m \u001b[0mImportError\u001b[0m\u001b[0;34m:\u001b[0m\u001b[0;34m\u001b[0m\u001b[0m\n\u001b[1;32m     15\u001b[0m     raise ImportError(\n\u001b[0;32m---> 16\u001b[0;31m         \u001b[0;34m'cssselect does not seem to be installed. '\u001b[0m\u001b[0;34m\u001b[0m\u001b[0m\n\u001b[0m\u001b[1;32m     17\u001b[0m         'See http://packages.python.org/cssselect/')\n\u001b[1;32m     18\u001b[0m \u001b[0;34m\u001b[0m\u001b[0m\n",
      "\u001b[0;31mImportError\u001b[0m: cssselect does not seem to be installed. See http://packages.python.org/cssselect/"
     ]
    }
   ],
   "source": [
    "page = html.parse('http://www.enoughproject.org/take_action')\n",
    "root = page.getroot()\n",
    "ta_divs = root.cssselect('div.views-row')"
   ]
  },
  {
   "cell_type": "code",
   "execution_count": 38,
   "metadata": {
    "collapsed": false
   },
   "outputs": [
    {
     "ename": "SyntaxError",
     "evalue": "Missing parentheses in call to 'print' (<ipython-input-38-4cc9c52e6889>, line 1)",
     "output_type": "error",
     "traceback": [
      "\u001b[0;36m  File \u001b[0;32m\"<ipython-input-38-4cc9c52e6889>\"\u001b[0;36m, line \u001b[0;32m1\u001b[0m\n\u001b[0;31m    print ta_divs\u001b[0m\n\u001b[0m                ^\u001b[0m\n\u001b[0;31mSyntaxError\u001b[0m\u001b[0;31m:\u001b[0m Missing parentheses in call to 'print'\n"
     ]
    }
   ],
   "source": [
    "print ta_divs"
   ]
  },
  {
   "cell_type": "code",
   "execution_count": null,
   "metadata": {
    "collapsed": true
   },
   "outputs": [],
   "source": []
  },
  {
   "cell_type": "code",
   "execution_count": null,
   "metadata": {
    "collapsed": true
   },
   "outputs": [],
   "source": []
  }
 ],
 "metadata": {
  "kernelspec": {
   "display_name": "Python 3",
   "language": "python",
   "name": "python3"
  },
  "language_info": {
   "codemirror_mode": {
    "name": "ipython",
    "version": 3
   },
   "file_extension": ".py",
   "mimetype": "text/x-python",
   "name": "python",
   "nbconvert_exporter": "python",
   "pygments_lexer": "ipython3",
   "version": "3.6.0"
  }
 },
 "nbformat": 4,
 "nbformat_minor": 2
}
