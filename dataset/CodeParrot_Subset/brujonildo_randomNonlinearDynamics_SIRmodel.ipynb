{
 "cells": [
  {
   "cell_type": "markdown",
   "metadata": {},
   "source": [
    "# Simple model of epidemic dynamics: SIR\n",
    "### Prof. Marco Arieli Herrera-Valdez, \n",
    "#### Facultad de Ciencias, Universidad Nacional Autónoma de México\n",
    "Created March 7, 2016\n",
    "\n",
    "\n",
    "Let $x$, $y$, and $z$ represent the fraction of susceptibles, infected, and recovered individuals within a population. Assume homogeneous mixing with a probability of infection given a contact with an infected individual given by $\\beta$ and an average removal time $\\beta^{-1}$ from the infected group, by recovery or death due to infection. The population dynamics are given by\n",
    "\\begin{eqnarray}\n",
    "\\partial_t x &=& -\\alpha xy\n",
    "\\\\\n",
    "\\partial_t y &=& \\left( \\alpha x - \\beta \\right) y\n",
    "\\\\\n",
    "\\partial_t x &=& \\beta y\n",
    "\\end{eqnarray}\n",
    "\n",
    "Notice that the population size does not matter because it is kept constant. "
   ]
  },
  {
   "cell_type": "code",
   "execution_count": 23,
   "metadata": {
    "collapsed": false
   },
   "outputs": [
    {
     "name": "stdout",
     "output_type": "stream",
     "text": [
      "Running unit tests for scipy\n",
      "NumPy version 1.10.4\n",
      "NumPy relaxed strides checking option: False\n",
      "NumPy is installed in /Library/Frameworks/Python.framework/Versions/3.5/lib/python3.5/site-packages/numpy\n",
      "SciPy version 0.17.0\n",
      "SciPy is installed in /Library/Frameworks/Python.framework/Versions/3.5/lib/python3.5/site-packages/scipy\n",
      "Python version 3.5.1 (v3.5.1:37a07cee5969, Dec  5 2015, 21:12:44) [GCC 4.2.1 (Apple Inc. build 5666) (dot 3)]\n",
      "nose version 1.3.7\n"
     ]
    },
    {
     "name": "stderr",
     "output_type": "stream",
     "text": [
      "----------------------------------------------------------------------\n",
      "Ran 1 test in 2.492s\n",
      "\n",
      "OK\n"
     ]
    }
   ],
   "source": [
    "#Import the necessary modules and perform the necessary tests\n",
    "import scipy as sc\n",
    "import pylab as gr\n",
    "sc.test(\"all\",verbose=0)\n",
    "%matplotlib inline"
   ]
  },
  {
   "cell_type": "markdown",
   "metadata": {},
   "source": [
    "Setup a python function that specifies the dynamics"
   ]
  },
  {
   "cell_type": "code",
   "execution_count": 31,
   "metadata": {
    "collapsed": true
   },
   "outputs": [],
   "source": [
    "def SIR(U,t,p):\n",
    "    x,y,z=U\n",
    "    yNew= p[\"alpha\"] * y * x\n",
    "    zNew= p[\"beta\"] * y \n",
    "    dx = -yNew\n",
    "    dy = yNew - zNew\n",
    "    dz = zNew\n",
    "    return dx, dy, dz"
   ]
  },
  {
   "cell_type": "markdown",
   "metadata": {},
   "source": [
    "The function SIR above takes three arguments, $U$, $t$, and $p$ that represent the states of the system, the time and the parameters, respectively. "
   ]
  },
  {
   "cell_type": "markdown",
   "metadata": {},
   "source": [
    "### Outbreak condition\n",
    "\n",
    "The condition \n",
    "\\begin{equation}\n",
    "\\frac{\\alpha}{\\beta}x(t)>1 , \\quad y>0\n",
    "\\end{equation}\n",
    "defines a threshold for a full epidemic outbreak. An equivalent condition is \n",
    "\\begin{equation}\n",
    "x>\\frac{\\beta}{\\alpha }, \\quad y>0\n",
    "\\end{equation}\n",
    "\n",
    "Therefore, with the parameters $(\\alpha,\\beta)$=(0.5,0.1), there will be an outbreak if the initial condition for $x(t)>1/5$ with $y>0$. \n",
    "Notice that the initial value for $z$ can be interpreted as the initial proportion of immune individuals within the population. \n",
    "\n",
    "The dynamics related to the oubreak condition can be studied by defining a variable $B(t) = x(t) \\alpha/\\beta$, called by some authors \"_effective reproductive number_\". If $x(t)\\approx 1$, the corresponding $B(t)$ is called \"_basic reproductive number_\", or $R_o$."
   ]
  },
  {
   "cell_type": "markdown",
   "metadata": {},
   "source": [
    "Let's define a python dictionary containing parameters and initial conditions to perform simulations."
   ]
  },
  {
   "cell_type": "code",
   "execution_count": 74,
   "metadata": {
    "collapsed": false
   },
   "outputs": [
    {
     "name": "stdout",
     "output_type": "stream",
     "text": [
      "N=10000 with initial conditions (S,I,R)=(9990,10,0)\n",
      "Initial conditions:  [0.999, 0.001, 0.0]\n",
      "B(0)=1.4985\n"
     ]
    }
   ],
   "source": [
    "p={\"alpha\": 0.15, \"beta\":0.1, \"timeStop\":300.0, \"timeStep\":0.01 }\n",
    "p[\"Ro\"]=p[\"alpha\"]/p[\"beta\"]\n",
    "p[\"sampTimes\"]= sc.arange(0,p[\"timeStop\"],p[\"timeStep\"])\n",
    "N= 1e4; i0= 1e1; r0=0; s0=N-i0-r0\n",
    "x0=s0/N; y0=i0/N; z0=r0/N;\n",
    "p[\"ic\"]=[x0,y0,z0]\n",
    "print(\"N=%g with initial conditions (S,I,R)=(%g,%g,%g)\"%(N,s0,i0,r0))\n",
    "print(\"Initial conditions: \", p[\"ic\"])\n",
    "print(\"B(0)=%g\"%(p[\"ic\"][0]*p[\"Ro\"]))"
   ]
  },
  {
   "cell_type": "markdown",
   "metadata": {},
   "source": [
    "Integrate numerically and plot the results"
   ]
  },
  {
   "cell_type": "code",
   "execution_count": 75,
   "metadata": {
    "collapsed": true
   },
   "outputs": [],
   "source": [
    "# Numerical integration\n",
    "xyz= sc.integrate.odeint(SIR, p[\"ic\"], p[\"sampTimes\"], args=(p,)).transpose()\n",
    "# Calculate the outbreak indicator\n",
    "B= xyz[0]*p[\"alpha\"]/p[\"beta\"]"
   ]
  },
  {
   "cell_type": "code",
   "execution_count": 76,
   "metadata": {
    "collapsed": false
   },
   "outputs": [
    {
     "data": {
      "image/png": "[encoded data removed]",
      "text/plain": [
       "<matplotlib.figure.Figure at 0x10ba399e8>"
      ]
     },
     "metadata": {},
     "output_type": "display_data"
    }
   ],
   "source": [
    "# Figure\n",
    "fig=gr.figure(figsize=(11,5))\n",
    "gr.ioff()\n",
    "rows=1; cols=2\n",
    "ax=list()\n",
    "for n in sc.arange(rows*cols):\n",
    "    ax.append(fig.add_subplot(rows,cols,n+1))\n",
    "\n",
    "ax[0].plot(p[\"sampTimes\"], xyz[0], 'k', label=r\"$(t,x(t))$\")\n",
    "ax[0].plot(p[\"sampTimes\"], xyz[1], 'g', lw=3, label=r\"$(t,y(t))$\")\n",
    "ax[0].plot(p[\"sampTimes\"], xyz[2], 'b', label=r\"$(t,z(t))$\")\n",
    "ax[0].plot(p[\"sampTimes\"], B, 'r', label=r\"$(t,B(t))$\")\n",
    "ax[0].plot([0, p[\"timeStop\"]], [1,1], 'k--', alpha=0.4)\n",
    "ax[1].plot(xyz[0], xyz[1], 'g', lw=3, label=r\"$(x(t),y(t))$\")\n",
    "ax[1].plot(xyz[0], xyz[2], 'b', label=r\"$(x(t),z(t))$\")\n",
    "ax[1].plot(xyz[0], B, 'r', label=r\"$(x(t),B(t))$\")\n",
    "ax[1].plot([0, 1], [1,1], 'k--', alpha=0.4)\n",
    "ax[0].legend(); ax[1].legend(loc=\"upper left\")\n",
    "gr.ion(); gr.draw()"
   ]
  },
  {
   "cell_type": "markdown",
   "metadata": {},
   "source": [
    "Notice that $y$ reaches its maximum when $B(t)$ crosses 1. That is, the epidemic starts to wine down when the $B(t)<1$. "
   ]
  },
  {
   "cell_type": "markdown",
   "metadata": {},
   "source": [
    "### Exercises:\n",
    "Setup two simulations for which there is no outbreak, such that:\n",
    "\n",
    "(a) The initial density of \"immune\" individuals is large enough to prevent an epidemic.\n",
    "\n",
    "(b) The initial density of \"immune\" individuals is really small but there is no epidemic outbreak."
   ]
  },
  {
   "cell_type": "code",
   "execution_count": null,
   "metadata": {
    "collapsed": true
   },
   "outputs": [],
   "source": []
  }
 ],
 "metadata": {
  "kernelspec": {
   "display_name": "Python 3",
   "language": "python",
   "name": "python3"
  },
  "language_info": {
   "codemirror_mode": {
    "name": "ipython",
    "version": 3
   },
   "file_extension": ".py",
   "mimetype": "text/x-python",
   "name": "python",
   "nbconvert_exporter": "python",
   "pygments_lexer": "ipython3",
   "version": "3.5.1"
  }
 },
 "nbformat": 4,
 "nbformat_minor": 0
}
