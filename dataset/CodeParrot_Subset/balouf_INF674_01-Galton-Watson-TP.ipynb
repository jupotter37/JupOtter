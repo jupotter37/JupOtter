{
 "cells": [
  {
   "cell_type": "markdown",
   "metadata": {},
   "source": [
    "# ACN 903 S1: Galton-Watson Process\n",
    "\n",
    "## Céline Comte & Fabien Mathieu"
   ]
  },
  {
   "cell_type": "code",
   "execution_count": null,
   "metadata": {},
   "outputs": [],
   "source": [
    "%pylab inline"
   ]
  },
  {
   "cell_type": "markdown",
   "metadata": {
    "heading_collapsed": true
   },
   "source": [
    "# Introduction"
   ]
  },
  {
   "cell_type": "markdown",
   "metadata": {
    "hidden": true
   },
   "source": [
    "For the first session, we propose to investigate the **Galton-Watson process**.\n",
    "This process was first introduced to analyse the propagation of a feature (family surname, DNA) through generations, and in particular to estimate its probability of extinction.\n",
    "\n",
    "A Galton-Watson process can be depicted as a (directed) random tree. The nodes represent individuals and the arrows family relations. The tree is built generation by generation as follows. At generation $0$, there is a single individual, the population ancestor, represented by the tree *root*. Then, each individual from a given generation $ i $ gives birth to a random number of individuals at generation $ i+1 $, represented by its direct successors in the tree.\n",
    "\n",
    "The unique parameter of the process is the distribution of the number of children per individual.\n",
    "Specifically, we assume that the numbers of children are independent between individuals and\n",
    "drawn from the same distribution $(p_k)_{k\\in \\mathbb{N}}$ (with $\\sum_{k=0}^{\\infty} p_k = 1$).\n",
    "We let $\\mu$ denote the mean number of children per individual, which we assume to be finite:\n",
    "$$\n",
    "\\mu =  \\sum_{k=0}^{\\infty} k p_k <+\\infty.\n",
    "$$\n",
    "\n",
    "Note that, in practice, there are multiple ways to explore the tree. We will consider two of them in the pratical:\n",
    "- **Generation by generation**. This is the method we described above. For each $i \\in \\mathbb{N}$, we let $ G_i $ denote the random variable that counts the number of nodes at generation $ i $.\n",
    "- **Active node by active node**. The nodes are visited one by one to decide on their number of children. We keep track of the number of nodes that are *active* in the sense that we have discovered them but we haven't drawn their number of children yet. As long as there is at least one active node, we can perform a *termination* that consists in desactivating a node, drawing its number of children according to the distribution $(p_k)_{k \\in \\mathbb{N}}$, and adding these children (if any) to the set of active nodes. For each $t \\in \\mathbb{N}$, we let $ X_t $ denote the number of nodes that are active after $ t $ terminations, with the convention that $X_0 = 1$. Observe that $(X_t)_{t \\in \\mathbb{N}}$ defines a Markov process that is similar to a birth-and-death process, except that state $0$ is absorbing.\n",
    "\n",
    "The goal of the practical is to play with these two viewpoints in order to better understand the Galton-Watson process. We will focus on two metrics: the **mean population size $\\chi$** and the **extinction probability $P_{ext}$** (i.e., the probability that the population is finite).\n",
    "\n",
    "If you want to deepen your theoretical knowledge of this process, you can read Chapter 1 from the book [Epidemics and Rumours in Complex Networks][massoulie] (which is **not** mandatory).\n",
    "\n",
    "[massoulie]: https://www.cambridge.org/core/books/epidemics-and-rumours-in-complex-networks/8C1D162F44C2C09F2B913038A7FA8BF6 \"Epidemics and Rumours in Complex Networks by Moez Draief and Laurent Massoulié\""
   ]
  },
  {
   "cell_type": "markdown",
   "metadata": {
    "heading_collapsed": true
   },
   "source": [
    "# 1. Bimodal distribution"
   ]
  },
  {
   "cell_type": "markdown",
   "metadata": {
    "hidden": true
   },
   "source": [
    "Throughout the practical, we will first gain insight into the Galton-Watson process by running simulations with a specific distribution of the number of children, and then generalize our observations to any distribution.\n",
    "\n",
    "For the simulations, we will focus on the **bimodal** distribution, in which a node can only have 0 or 2 children: $p_0 = 1-\\frac{\\mu}{2}$, $p_2 = \\frac{\\mu}{2}$, and $p_k = 0$ for $k \\notin \\{0,2\\}$. Note that the mean $\\mu$ can range from $0$ to $2$. The objective of this first exercice is to build a realization of the Galton-Watson process with the bimodal distribution, using either the *generation by generation* traversal or the *active node by active node* traversal.\n",
    "\n",
    "Note: Try to write a flexible code, as the parameters and distributions will change later."
   ]
  },
  {
   "cell_type": "markdown",
   "metadata": {
    "heading_collapsed": true,
    "hidden": true
   },
   "source": [
    "## Question 1\n",
    "\n",
    "We consider the *generation by generation* traversal.\n",
    "\n",
    "First, complete the function ``generation_growth(μ, imax)`` that returns the values of $G_i$ observed during a realization of the process, up to generation ``imax``. The function ``random.rand`` from ``numpy`` package may be handy.\n",
    "\n",
    "Second, complete the function ``display_generation_growth(μ, imax = 20, n = 20)`` using the function ``plot`` from ``matplotlib`` package. You should plot the number of nodes as a function of the generation. The additional argument ``n`` gives the number of realizations of the process to plot on the same graph."
   ]
  },
  {
   "cell_type": "markdown",
   "metadata": {
    "hidden": true
   },
   "source": [
    "#### Answer:"
   ]
  },
  {
   "cell_type": "code",
   "execution_count": null,
   "metadata": {
    "hidden": true,
    "slideshow": {
     "slide_type": "skip"
    }
   },
   "outputs": [],
   "source": [
    "def generation_growth(μ, imax):\n",
    "    g = ones(imax + 1, dtype = int)\n",
    "    # to be completed\n",
    "    return g"
   ]
  },
  {
   "cell_type": "code",
   "execution_count": null,
   "metadata": {
    "hidden": true
   },
   "outputs": [],
   "source": [
    "def display_generation_growth(μ, imax = 20, n = 20):\n",
    "    figure()\n",
    "    for i in range(n):\n",
    "        # to be completed\n",
    "    \n",
    "    # just to make the plot prettier\n",
    "    xlim([0, imax])\n",
    "    axes = gca(); yl = axes.get_ylim(); ylim([0, yl[1]])\n",
    "    xlabel('Generation'); ylabel('Number of nodes')\n",
    "    title(\"μ = %.1f\" % μ)\n",
    "    show()"
   ]
  },
  {
   "cell_type": "code",
   "execution_count": null,
   "metadata": {
    "hidden": true,
    "slideshow": {
     "slide_type": "skip"
    }
   },
   "outputs": [],
   "source": [
    "for μ in arange(.4, 1.5, .2):\n",
    "    display_generation_growth(μ)"
   ]
  },
  {
   "cell_type": "markdown",
   "metadata": {
    "heading_collapsed": true,
    "hidden": true
   },
   "source": [
    "## Question 2\n",
    "\n",
    "We now consider the *active node by active node* traversal.\n",
    "\n",
    "First, complete the function ``active_growth(μ, tmax)`` that returns the values of $X_t$ observed during a realization of the process, up to ``tmax`` terminations. Look out! Your function shouldn't return negative values.\n",
    "\n",
    "Second, complete the function ``display_active_growth(μ, tmax = 50, n = 10)`` using the function ``plot`` from ``matplotlib`` package. You should plot the number of active nodes as a function of the termination step."
   ]
  },
  {
   "cell_type": "markdown",
   "metadata": {
    "hidden": true
   },
   "source": [
    "#### Answer:"
   ]
  },
  {
   "cell_type": "code",
   "execution_count": null,
   "metadata": {
    "hidden": true,
    "slideshow": {
     "slide_type": "skip"
    }
   },
   "outputs": [],
   "source": [
    "def active_growth(μ, tmax):\n",
    "    x = zeros(tmax + 1, dtype = int)\n",
    "    # to be completed\n",
    "    return x"
   ]
  },
  {
   "cell_type": "code",
   "execution_count": null,
   "metadata": {
    "hidden": true
   },
   "outputs": [],
   "source": [
    "def display_active_growth(μ, tmax = 50, n = 10):\n",
    "    figure()\n",
    "    \n",
    "    for i in range(n):\n",
    "        # to be completed\n",
    "    \n",
    "    xlim([0, tmax])\n",
    "    axes = gca(); yl = axes.get_ylim(); ylim([0, yl[1]])\n",
    "    xlabel('Termination step'); ylabel('Number of active nodes')\n",
    "    title(\"μ = %.1f\" % μ)\n",
    "    show()"
   ]
  },
  {
   "cell_type": "code",
   "execution_count": null,
   "metadata": {
    "hidden": true,
    "slideshow": {
     "slide_type": "skip"
    }
   },
   "outputs": [],
   "source": [
    "for μ in arange(.4, 1.5, .2):\n",
    "    display_active_growth(μ)"
   ]
  },
  {
   "cell_type": "markdown",
   "metadata": {
    "heading_collapsed": true
   },
   "source": [
    "# 2. Mean population size"
   ]
  },
  {
   "cell_type": "markdown",
   "metadata": {
    "hidden": true
   },
   "source": [
    "The first quantity we evaluate is the mean population size. The results obtained by simulation under the bimodal distribution will prove representative of what we obtain under any distribution."
   ]
  },
  {
   "cell_type": "markdown",
   "metadata": {
    "heading_collapsed": true,
    "hidden": true
   },
   "source": [
    "## Question 1\n",
    "\n",
    "Complete the function ``chi_bim_generation(μ, imax, n = 1000)`` that estimates $\\mathbb{E}(G_i)$ for $i$ up to ``imax`` by averaging the results of ``generation_growth`` over ``n`` independent runs.\n",
    "\n",
    "For $\\mu = \\frac12$ and $\\mu = \\frac43$, plot the results and comment them. We advise you to start with $\\mu = \\frac43$ and  use a semi-log plot."
   ]
  },
  {
   "cell_type": "markdown",
   "metadata": {
    "hidden": true
   },
   "source": [
    "#### Code:"
   ]
  },
  {
   "cell_type": "code",
   "execution_count": null,
   "metadata": {
    "hidden": true,
    "slideshow": {
     "slide_type": "skip"
    }
   },
   "outputs": [],
   "source": [
    "def chi_bim_generation(μ, imax, n = 1000):\n",
    "    # to be completed"
   ]
  },
  {
   "cell_type": "markdown",
   "metadata": {
    "hidden": true
   },
   "source": [
    "#### Discussion:"
   ]
  },
  {
   "cell_type": "markdown",
   "metadata": {
    "hidden": true
   },
   "source": [
    "Your turn!"
   ]
  },
  {
   "cell_type": "markdown",
   "metadata": {
    "heading_collapsed": true,
    "hidden": true
   },
   "source": [
    "## Question 2\n",
    "\n",
    "Write $\\mathbb{E}(G_{i+1})$ as a function of $\\mathbb{E}(G_i)$ for each $i \\in \\mathbb{N}$. Derive an explicit expression of $\\mathbb{E}(G_i)$ for each $i \\in \\mathbb{N}$."
   ]
  },
  {
   "cell_type": "markdown",
   "metadata": {
    "hidden": true
   },
   "source": [
    "#### Answer:"
   ]
  },
  {
   "cell_type": "markdown",
   "metadata": {
    "heading_collapsed": true,
    "hidden": true
   },
   "source": [
    "## Question 3\n",
    "\n",
    "Use the result of the previous question to derive the value of the mean population size $\\chi$."
   ]
  },
  {
   "cell_type": "markdown",
   "metadata": {
    "hidden": true
   },
   "source": [
    "#### Answer:"
   ]
  },
  {
   "cell_type": "markdown",
   "metadata": {
    "heading_collapsed": true,
    "hidden": true
   },
   "source": [
    "## Question 4 (Optional)\n",
    "\n",
    "Redo Question 2.1 with the *active node by active node* traversal.\n",
    "Specifically, write a function ``chi_bim_active(μ, tmax, n = 1000)`` that estimates $\\mathbb{E}(X_t)$ for $t$ up to ``tmax``. Plot the result. What do you observe? Can you explain it?"
   ]
  },
  {
   "cell_type": "markdown",
   "metadata": {
    "hidden": true
   },
   "source": [
    "#### Answer:"
   ]
  },
  {
   "cell_type": "markdown",
   "metadata": {
    "heading_collapsed": true,
    "hidden": true
   },
   "source": [
    "## Question 5 (Optional)\n",
    "\n",
    "Write a function ``chi_bim_conditional(μ, imax, n = 1000)`` that evaluates the mean value of $G_i$ for $i$ up to ``imax``, **given that the run has lead to extinction**. Discuss the results."
   ]
  },
  {
   "cell_type": "markdown",
   "metadata": {
    "hidden": true
   },
   "source": [
    "#### Answer:"
   ]
  },
  {
   "cell_type": "markdown",
   "metadata": {
    "heading_collapsed": true
   },
   "source": [
    "# 3. Extinction probability"
   ]
  },
  {
   "cell_type": "markdown",
   "metadata": {
    "hidden": true
   },
   "source": [
    "We now focus on the extinction probability $P_{ext}$, that is, the probability that the total population is finite."
   ]
  },
  {
   "cell_type": "markdown",
   "metadata": {
    "heading_collapsed": true,
    "hidden": true
   },
   "source": [
    "## Question 1\n",
    "\n",
    "What do the results of Exercice 2 suggest about the extinction probability?"
   ]
  },
  {
   "cell_type": "markdown",
   "metadata": {
    "hidden": true
   },
   "source": [
    "#### Answer:"
   ]
  },
  {
   "cell_type": "markdown",
   "metadata": {
    "heading_collapsed": true,
    "hidden": true
   },
   "source": [
    "## Question 2\n",
    "\n",
    "Complete the function ``pext_bim_trials(range_μ, tmax, n)`` that estimates the probability that the population extincts after no more than ``tmax`` termination steps by averaging the results of ``active_growth`` over ``n`` independent runs, for several values of $\\mu$.\n",
    "\n",
    "Plot the results and comment them. Suggested values: ``range_μ = (np.)linspace(2, 0, 40, endpoint = False)``, ``tmax = 10, 100, 1000``, ``n = 1000``."
   ]
  },
  {
   "cell_type": "markdown",
   "metadata": {
    "hidden": true
   },
   "source": [
    "#### Code:"
   ]
  },
  {
   "cell_type": "code",
   "execution_count": null,
   "metadata": {
    "hidden": true,
    "slideshow": {
     "slide_type": "skip"
    }
   },
   "outputs": [],
   "source": [
    "def pext_bim_trials(range_μ, tmax, n):\n",
    "    # to be completed"
   ]
  },
  {
   "cell_type": "markdown",
   "metadata": {
    "hidden": true
   },
   "source": [
    "#### Discussion:"
   ]
  },
  {
   "cell_type": "markdown",
   "metadata": {
    "heading_collapsed": true,
    "hidden": true
   },
   "source": [
    "## Question 3\n",
    "\n",
    "Give an equality that relates the extinction probability $P_{ext}$ and the distribution $(p_k)_{k\\in \\mathbb{N}}$ of the number of children per node. In the sequel, we will admit that $P_{ext}$ is the **smallest** solution of this equation in the interval $[0,1]$."
   ]
  },
  {
   "cell_type": "markdown",
   "metadata": {
    "hidden": true
   },
   "source": [
    "#### Answer:"
   ]
  },
  {
   "cell_type": "markdown",
   "metadata": {
    "heading_collapsed": true,
    "hidden": true
   },
   "source": [
    "## Question 4\n",
    "\n",
    "In the special case of the bimodal distribution, use this equation to write $P_{ext}$ as a function of $\\mu$.\n",
    "Write a (very) small function ``pext_bim_exact(range_μ)`` that computes $P_{ext}$ for a list of values of $\\mu$ and display the results against the empirical values obtained in Question 3.2."
   ]
  },
  {
   "cell_type": "markdown",
   "metadata": {
    "hidden": true
   },
   "source": [
    "#### Answer:"
   ]
  },
  {
   "cell_type": "markdown",
   "metadata": {
    "heading_collapsed": true,
    "hidden": true
   },
   "source": [
    "## Question 5 (Optional)\n",
    "\n",
    "Evaluating the results by simulation has an inherent lack of accuracy. Write a function ``pext_bim_distrib(range_μ, tmax)`` that computes **exactly** the probability of an extinction after no more than ``tmax`` terminations. Display the results and compare them with those obtained by simulation.\n",
    "\n",
    "Hint: write a function ``pop_after_t(p, tmax)`` that computes the **distribution** of the number of active nodes after ``tmax`` termination steps as a function of $ p = (p_k)_{k \\in \\mathbb{N}}$. The function ``convolve`` from ``numpy`` package may be handy."
   ]
  },
  {
   "cell_type": "markdown",
   "metadata": {
    "hidden": true
   },
   "source": [
    "#### Answer:"
   ]
  },
  {
   "cell_type": "markdown",
   "metadata": {
    "heading_collapsed": true
   },
   "source": [
    "# 4. Other Distributions "
   ]
  },
  {
   "cell_type": "markdown",
   "metadata": {
    "hidden": true
   },
   "source": [
    "We again focus on the probability $P_{ext}$ of an extinction. For the bimodal distribution, we observed the following phase transition:\n",
    "- If $\\mu < 1$, then $P_{ext} = 1$.\n",
    "- If $\\mu > 1$, then $P_{ext} < 1$.\n",
    "\n",
    "This result is valid for any distribution of the number of children per node, as long as its mean $\\mu$ is finite. The proof will be given orally during the practical. You can also find it in [Epidemics and Rumours in Complex Networks][massoulie], along with more details (in particular, what happens when $\\mu = 1$). We now consider two other distributions of the number of children per node and look at the extinction probability when $\\mu > 1$.\n",
    "\n",
    "[massoulie]: https://www.cambridge.org/core/books/epidemics-and-rumours-in-complex-networks/8C1D162F44C2C09F2B913038A7FA8BF6 \"Epidemics and Rumours in Complex Networks by Moez Draief and Laurent Massoulié\""
   ]
  },
  {
   "cell_type": "markdown",
   "metadata": {
    "heading_collapsed": true,
    "hidden": true
   },
   "source": [
    "## Question 1\n",
    "\n",
    "We now consider a geometric distribution $p_k=(1-a)a^k$, $k \\in \\mathbb{N}$, for some $0\\leq a<1$. Relate $a$ and $\\mu$ and study the extinction probability as you did for the bimodal case. In particular,\n",
    "- Give the equation that $ P_{ext} $ should verify and write $ P_{ext} $ as a function of $ \\mu $, for $ \\mu\\in [0, 2] $.\n",
    "- Validate the results experimentally. You should, for instance:\n",
    "    - Run multiple simulations using a geometric generator. The function ``random.geometric`` from ``numpy`` package may be handy.\n",
    "    - Adapt the function ``pop_after_t`` of Question 3.5 to compute the probability of an extinction after ``tmax = 1000`` termination steps for a truncated geometric distribution."
   ]
  },
  {
   "cell_type": "markdown",
   "metadata": {
    "hidden": true
   },
   "source": [
    "#### Answer:"
   ]
  },
  {
   "cell_type": "markdown",
   "metadata": {
    "heading_collapsed": true,
    "hidden": true
   },
   "source": [
    "## Question 2\n",
    "\n",
    "We finally consider a Poisson distribution of parameter $\\mu$:\n",
    "$$\n",
    "    p_k = e^{-\\mu}\\frac{\\mu^k}{k!},\n",
    "    \\quad \\forall k \\in \\mathbb{N}.\n",
    "$$\n",
    "Study the extinction probability.\n",
    "In particular,\n",
    "- Give the equation that $ P_{ext} $ should verify and compute $ P_{ext} $ as a function of $ \\mu $ for $ \\mu\\in [0, 2] $. When there is no explicit expression of $P_{ext}$ as a function of $\\mu$, you can use the fixed-point equation to compute the solution iteratively.\n",
    "- Validate the results experimentally. You should, for instance:\n",
    "    - Run multiple simulations using a Poisson generator. The function ``random.poisson`` from ``numpy`` package may be handy.\n",
    "    - Adapt ``pop_after_t`` of Question 3.5 to compute the probability of an extinction after ``t = 1000`` termination steps for a truncated Poisson distribution."
   ]
  },
  {
   "cell_type": "markdown",
   "metadata": {
    "hidden": true
   },
   "source": [
    "#### Answer:"
   ]
  },
  {
   "cell_type": "markdown",
   "metadata": {
    "heading_collapsed": true,
    "hidden": true
   },
   "source": [
    "## Question 3\n",
    "\n",
    "Plot the three theoretical $ P_{ext} $ you obtained on the same figure, as a function of mean number $\\mu$ of children per node. Discuss the differences (informally)."
   ]
  },
  {
   "cell_type": "markdown",
   "metadata": {
    "hidden": true
   },
   "source": [
    "#### Answer:"
   ]
  },
  {
   "cell_type": "markdown",
   "metadata": {
    "heading_collapsed": true
   },
   "source": [
    "# 5. Generalization (Optional)\n",
    "\n",
    "Redo the exercices of this Notebook for a Galton-Watson process that starts with two nodes (you can re-use results from above)."
   ]
  }
 ],
 "metadata": {
  "language_info": {
   "name": "python",
   "pygments_lexer": "ipython3"
  }
 },
 "nbformat": 4,
 "nbformat_minor": 1
}
