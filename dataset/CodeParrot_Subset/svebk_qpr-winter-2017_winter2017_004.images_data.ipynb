{
 "cells": [
  {
   "cell_type": "markdown",
   "metadata": {},
   "source": [
    "# Image data\n",
    "The goal of this notebook is to detail how to interact with, and compute statistics on the images associated to the set of ads provided for the CP1 during the MEMEX Winter QPR 2017.\n",
    "\n",
    "### Data to download\n",
    "Data posted on HDFS, see Wiki page.\n",
    "\n",
    "- Training images\n",
    "- Training images info\n",
    "- Test images\n",
    "- Test images info\n",
    "\n",
    "Plus the data available on the Wiki\n",
    "\n",
    "### Info files\n",
    "1. adjusted_images.json\n",
    "2. image_url_sha1.csv\n",
    "3. faces.jl\n",
    "4. images_faces_stats.jl"
   ]
  },
  {
   "cell_type": "code",
   "execution_count": 1,
   "metadata": {
    "collapsed": true
   },
   "outputs": [],
   "source": [
    "import os\n",
    "import csv\n",
    "import json"
   ]
  },
  {
   "cell_type": "code",
   "execution_count": 2,
   "metadata": {
    "collapsed": false
   },
   "outputs": [],
   "source": [
    "# set some parameters\n",
    "data_dir = \"../data\"\n",
    "prefix = \"test\"\n",
    "if prefix==\"train\":\n",
    "    input_file = \"train_adjusted.json\"\n",
    "else:\n",
    "    input_file = \"test_adjusted_unlabelled.json\""
   ]
  },
  {
   "cell_type": "code",
   "execution_count": 3,
   "metadata": {
    "collapsed": false
   },
   "outputs": [],
   "source": [
    "images_dir = os.path.join(data_dir,prefix+\"_images\")\n",
    "url_sha1_file = os.path.join(data_dir,prefix+\"_image_url_sha1.csv\")\n",
    "faces_file = os.path.join(data_dir,prefix+\"_faces.jl\")\n",
    "stats_file = os.path.join(data_dir,prefix+\"_images_faces_stats.jl\")\n",
    "images_file = os.path.join(data_dir,prefix+\"_adjusted_images.json\")"
   ]
  },
  {
   "cell_type": "code",
   "execution_count": 4,
   "metadata": {
    "collapsed": false
   },
   "outputs": [],
   "source": [
    "# parse faces_file\n",
    "def parse_faces(faces_file):\n",
    "    faces_dict = {}\n",
    "    with open(faces_file, \"rt\") as faces:\n",
    "        for line in faces:\n",
    "            one_face_dict = json.loads(line)\n",
    "            img_sha1 = one_face_dict.keys()[0]\n",
    "            nb_faces = len(one_face_dict[img_sha1].keys())\n",
    "            #print nb_faces\n",
    "            faces_dict[img_sha1] = dict()\n",
    "            faces_dict[img_sha1]['count'] = nb_faces\n",
    "            faces_dict[img_sha1]['detections'] = one_face_dict[img_sha1]\n",
    "    return faces_dict"
   ]
  },
  {
   "cell_type": "code",
   "execution_count": 5,
   "metadata": {
    "collapsed": false
   },
   "outputs": [],
   "source": [
    "faces_dict = parse_faces(faces_file)"
   ]
  },
  {
   "cell_type": "code",
   "execution_count": 6,
   "metadata": {
    "collapsed": false
   },
   "outputs": [
    {
     "name": "stdout",
     "output_type": "stream",
     "text": [
      "20401\n",
      "3140d44a1e4f2a84f10265fb03d0472c89681ed0 {'count': 1, 'detections': {u'3140d44a1e4f2a84f10265fb03d0472c89681ed0_160-31-227-122': {u'score': u'0.997924685478', u'bbox': u'160.391361728,31.2674056292,227.213230789,122.488013085'}}}\n"
     ]
    }
   ],
   "source": [
    "print len(faces_dict)\n",
    "i = 3\n",
    "print faces_dict.keys()[i], faces_dict[faces_dict.keys()[i]]"
   ]
  },
  {
   "cell_type": "code",
   "execution_count": 7,
   "metadata": {
    "collapsed": false
   },
   "outputs": [],
   "source": [
    "# parse images_file\n",
    "def parse_images_file(images_file):\n",
    "    ads_images_dict = {}\n",
    "    with open(images_file, \"rt\") as images:\n",
    "        for line in images:\n",
    "            one_image_dict = json.loads(line)\n",
    "            ad_id_list = one_image_dict['obj_parent']\n",
    "            img_url = one_image_dict['obj_stored_url']\n",
    "            if type(ad_id_list) is not list:\n",
    "                ad_id_list = [ad_id_list]\n",
    "            for ad_id in ad_id_list:\n",
    "                if ad_id not in ads_images_dict:\n",
    "                    ads_images_dict[ad_id] = [img_url]\n",
    "                else:\n",
    "                    ads_images_dict[ad_id].append(img_url)\n",
    "    return ads_images_dict"
   ]
  },
  {
   "cell_type": "code",
   "execution_count": 8,
   "metadata": {
    "collapsed": true
   },
   "outputs": [],
   "source": [
    "ads_images_dict = parse_images_file(images_file)"
   ]
  },
  {
   "cell_type": "code",
   "execution_count": 9,
   "metadata": {
    "collapsed": false
   },
   "outputs": [
    {
     "name": "stdout",
     "output_type": "stream",
     "text": [
      "21984\n",
      "28DE96FEE11CB9182D318FC40599E579C69E99D25DB233F64C98F13081DBC018 [u'https://s3.amazonaws.com/roxyimages/e6285c42db6f7332f0e842a4d10d2c1bcaca8d58.jpg', u'https://s3.amazonaws.com/roxyimages/238cb337defb4ae99e2e357d585a0053e5072fcc.jpg', u'https://s3.amazonaws.com/roxyimages/439d654bc365f36daccff602849ba7bb3a608836.jpg', u'https://s3.amazonaws.com/roxyimages/420957839e1eb4a41ec19c283130f633006cbf56.jpg', u'https://s3.amazonaws.com/roxyimages/c86cea7543c8f855dd77c0037e146aef1fd81d1a.jpg', u'https://s3.amazonaws.com/roxyimages/32ebde5b3cabb7773346d41b333c04e0d89ff4e3.jpg', u'https://s3.amazonaws.com/roxyimages/6fea3fe79e0e2eef18a09f0daf9c998e796ce7cd.jpg', u'https://s3.amazonaws.com/roxyimages/5163ef2e476107b4c7a31d22021a6e200bc8c03e.jpg', u'https://s3.amazonaws.com/roxyimages/c9af9f955efce2533ee0df843eaba666aff7cb28.jpg', u'https://s3.amazonaws.com/roxyimages/83845b26e5a25e00dd7c5c7c8894cdddc2493285.jpg']\n"
     ]
    }
   ],
   "source": [
    "print len(ads_images_dict)\n",
    "print ads_images_dict.keys()[0],ads_images_dict[ads_images_dict.keys()[0]]"
   ]
  },
  {
   "cell_type": "code",
   "execution_count": 10,
   "metadata": {
    "collapsed": true
   },
   "outputs": [],
   "source": [
    "# parse image_url_sha1_file\n",
    "def parse_url_sha1_file(url_sha1_file):\n",
    "    url_sha1_dict = {}\n",
    "    with open(url_sha1_file,\"rt\") as img_url_sha1:\n",
    "        for line in img_url_sha1:\n",
    "            url, sha1 = line.split(',')\n",
    "            url_sha1_dict[url] = sha1\n",
    "    return url_sha1_dict"
   ]
  },
  {
   "cell_type": "code",
   "execution_count": 11,
   "metadata": {
    "collapsed": false
   },
   "outputs": [],
   "source": [
    " url_sha1_dict = parse_url_sha1_file(url_sha1_file)"
   ]
  },
  {
   "cell_type": "code",
   "execution_count": 12,
   "metadata": {
    "collapsed": false
   },
   "outputs": [
    {
     "name": "stdout",
     "output_type": "stream",
     "text": [
      "54569\n",
      "https://s3.amazonaws.com/memex-images/full/85d9a4e5f4927f22218f79f496a14757ee8b3413.jpg f912b73662a9a50e42cb5d7726beea69c4ba0b56\n",
      "\n"
     ]
    }
   ],
   "source": [
    "print len(url_sha1_dict)\n",
    "print url_sha1_dict.keys()[0],url_sha1_dict[url_sha1_dict.keys()[0]]"
   ]
  },
  {
   "cell_type": "markdown",
   "metadata": {},
   "source": [
    "## Analyze image stats"
   ]
  },
  {
   "cell_type": "code",
   "execution_count": 137,
   "metadata": {
    "collapsed": true
   },
   "outputs": [],
   "source": [
    "import matplotlib\n",
    "from numpy.random import randn\n",
    "import matplotlib.pyplot as plt\n",
    "from matplotlib.ticker import FuncFormatter\n",
    "%matplotlib inline"
   ]
  },
  {
   "cell_type": "code",
   "execution_count": 136,
   "metadata": {
    "collapsed": true
   },
   "outputs": [],
   "source": [
    "def to_percent(y, position):\n",
    "    # Ignore the passed in position. This has the effect of scaling the default\n",
    "    # tick locations.\n",
    "    s = str(100 * y)\n",
    "\n",
    "    # The percent symbol needs escaping in latex\n",
    "    if matplotlib.rcParams['text.usetex'] is True:\n",
    "        return s + r'$\\%$'\n",
    "    else:\n",
    "        return s + '%'"
   ]
  },
  {
   "cell_type": "markdown",
   "metadata": {},
   "source": [
    "### Images distribution"
   ]
  },
  {
   "cell_type": "code",
   "execution_count": 145,
   "metadata": {
    "collapsed": true
   },
   "outputs": [],
   "source": [
    "def get_ad_images(ad_id, ads_images_dict, url_sha1_dict, verbose=False):\n",
    "    images_url_list = ads_images_dict[ad_id]\n",
    "    images_sha1s = []\n",
    "    for image_url in images_url_list:\n",
    "        if image_url is None or not image_url:\n",
    "            continue\n",
    "        try:\n",
    "            images_sha1s.append(url_sha1_dict[image_url.strip()].strip())\n",
    "        except:\n",
    "            if verbose:\n",
    "                print 'Cannot find sha1 for: {}.'.format(image_url)\n",
    "    return images_sha1s"
   ]
  },
  {
   "cell_type": "code",
   "execution_count": 146,
   "metadata": {
    "collapsed": false
   },
   "outputs": [],
   "source": [
    "# Analyze distribution of images in ads_images_dict\n",
    "images_count = []\n",
    "for ad_id in ads_images_dict:\n",
    "    images_count.append(len(get_ad_images(ad_id, ads_images_dict, url_sha1_dict)))"
   ]
  },
  {
   "cell_type": "code",
   "execution_count": 151,
   "metadata": {
    "collapsed": false
   },
   "outputs": [],
   "source": [
    "def print_stats(np_img_count):\n",
    "    print np.min(np_img_count), np.mean(np_img_count), np.max(np_img_count)\n",
    "    # Normed histogram seems to be broken, \n",
    "    # using weights as suggested in http://stackoverflow.com/questions/5498008/pylab-histdata-normed-1-normalization-seems-to-work-incorrect\n",
    "    weights = np.ones_like(np_img_count)/float(len(np_img_count))\n",
    "    res = plt.hist(np_img_count, bins=100, weights=weights)\n",
    "    print np.sum(res[0])\n",
    "    # Create the formatter using the function to_percent. This multiplies all the\n",
    "    # default labels by 100, making them all percentages\n",
    "    formatter = FuncFormatter(to_percent)\n",
    "\n",
    "    # Set the formatter\n",
    "    plt.gca().yaxis.set_major_formatter(formatter)\n",
    "\n",
    "    plt.show()"
   ]
  },
  {
   "cell_type": "code",
   "execution_count": 152,
   "metadata": {
    "collapsed": false
   },
   "outputs": [
    {
     "name": "stdout",
     "output_type": "stream",
     "text": [
      "0 8.40438500728 420\n",
      "1.0\n"
     ]
    },
    {
     "data": {
      "image/png": "[encoded data removed]",
      "text/plain": [
       "<matplotlib.figure.Figure at 0x7f49774c6dd0>"
      ]
     },
     "metadata": {},
     "output_type": "display_data"
    }
   ],
   "source": [
    "print_stats(np.asarray(images_count))"
   ]
  },
  {
   "cell_type": "markdown",
   "metadata": {},
   "source": [
    "### Faces distribution"
   ]
  },
  {
   "cell_type": "code",
   "execution_count": 149,
   "metadata": {
    "collapsed": false
   },
   "outputs": [],
   "source": [
    "def get_faces_images(images_sha1s, faces_dict):\n",
    "    faces_out = {}\n",
    "    for sha1 in images_sha1s:\n",
    "        img_notfound = False\n",
    "        try:\n",
    "            tmp_faces = faces_dict[sha1]\n",
    "        except:\n",
    "            img_notfound = True\n",
    "        if img_notfound or tmp_faces['count']==0:\n",
    "            faces_out[sha1] = []\n",
    "            continue\n",
    "        bboxes = []\n",
    "        for face in tmp_faces['detections']:\n",
    "            bbox = [float(x) for x in tmp_faces['detections'][face]['bbox'].split(',')]\n",
    "            bbox.append(float(tmp_faces['detections'][face]['score']))\n",
    "            bboxes.append(bbox)\n",
    "        #print bboxes\n",
    "        faces_out[sha1] = bboxes\n",
    "    return faces_out"
   ]
  },
  {
   "cell_type": "code",
   "execution_count": 180,
   "metadata": {
    "collapsed": false
   },
   "outputs": [],
   "source": [
    "def show_faces(faces, images_dir):\n",
    "    from matplotlib.pyplot import imshow\n",
    "    from IPython.display import display\n",
    "    import numpy as np\n",
    "    %matplotlib inline\n",
    "\n",
    "    imgs = []\n",
    "    for face in faces:\n",
    "        if faces[face]:\n",
    "            img = open_image(face, images_dir)\n",
    "            draw_face_bbox(img, faces[face])\n",
    "            imgs.append(img)\n",
    "    if not imgs:\n",
    "        print 'No face images'\n",
    "    display(*imgs)"
   ]
  },
  {
   "cell_type": "code",
   "execution_count": 150,
   "metadata": {
    "collapsed": false
   },
   "outputs": [],
   "source": [
    "# get all faces ads from each ad\n",
    "faces_in_images_percent = []\n",
    "for ad_id in ads_images_dict:\n",
    "    images_sha1s = get_ad_images(ad_id, ads_images_dict, url_sha1_dict)\n",
    "    faces_images = get_faces_images(images_sha1s, faces_dict)\n",
    "    if len(faces_images)==0:\n",
    "        continue\n",
    "    nb_faces = 0\n",
    "    for face in faces_images:\n",
    "        if faces_images[face]:\n",
    "            nb_faces += 1\n",
    "            faces_in_images_percent.append(float(nb_faces)/len(faces_images))"
   ]
  },
  {
   "cell_type": "code",
   "execution_count": 154,
   "metadata": {
    "collapsed": false
   },
   "outputs": [
    {
     "name": "stdout",
     "output_type": "stream",
     "text": [
      "0.0 0.449694108153 1.0\n",
      "1.0\n"
     ]
    },
    {
     "data": {
      "image/png": "[encoded data removed]",
      "text/plain": [
       "<matplotlib.figure.Figure at 0x7f497c41aed0>"
      ]
     },
     "metadata": {},
     "output_type": "display_data"
    }
   ],
   "source": [
    "np_faces_in_images_percent = np.asarray(faces_in_images_percent)\n",
    "print_stats(np_faces_in_images_percent)"
   ]
  },
  {
   "cell_type": "code",
   "execution_count": 163,
   "metadata": {
    "collapsed": false
   },
   "outputs": [
    {
     "name": "stdout",
     "output_type": "stream",
     "text": [
      "(6583,)\n",
      "(21388,)\n",
      "0.692210585375\n"
     ]
    }
   ],
   "source": [
    "no_faces = np.where(np_faces_in_images_percent==0.0)\n",
    "print no_faces[0].shape\n",
    "print np_faces_in_images_percent.shape\n",
    "percent_noface = float(no_faces[0].shape[0])/np_faces_in_images_percent.shape[0]\n",
    "print 1-percent_noface"
   ]
  },
  {
   "cell_type": "code",
   "execution_count": 187,
   "metadata": {
    "collapsed": false
   },
   "outputs": [],
   "source": [
    "# get all faces scores from each ad\n",
    "faces_scores = []\n",
    "all_faces = []\n",
    "for ad_id in ads_images_dict:\n",
    "    images_sha1s = get_ad_images(ad_id, ads_images_dict, url_sha1_dict)\n",
    "    faces_images = get_faces_images(images_sha1s, faces_dict)\n",
    "    if len(faces_images)==0:\n",
    "        continue\n",
    "    nb_faces = 0\n",
    "    for face in faces_images:\n",
    "        if faces_images[face]:\n",
    "            for one_face in faces_images[face]:\n",
    "                all_faces.append([face, one_face])\n",
    "                faces_scores.append(float(one_face[4]))"
   ]
  },
  {
   "cell_type": "code",
   "execution_count": 188,
   "metadata": {
    "collapsed": false
   },
   "outputs": [
    {
     "name": "stdout",
     "output_type": "stream",
     "text": [
      "0.700168728828 0.970464453852 1.0\n",
      "1.0\n"
     ]
    },
    {
     "data": {
      "image/png": "[encoded data removed]",
      "text/plain": [
       "<matplotlib.figure.Figure at 0x7f49a0104050>"
      ]
     },
     "metadata": {},
     "output_type": "display_data"
    }
   ],
   "source": [
    "np_faces_scores = np.asarray(faces_scores)\n",
    "print_stats(faces_scores)"
   ]
  },
  {
   "cell_type": "code",
   "execution_count": 189,
   "metadata": {
    "collapsed": false
   },
   "outputs": [
    {
     "name": "stdout",
     "output_type": "stream",
     "text": [
      "0.112372655097\n",
      "0.0514016721703\n",
      "71165\n"
     ]
    }
   ],
   "source": [
    "low_scores_faces = np.where(np_faces_scores<0.90)[0]\n",
    "print float(len(low_scores_faces))/len(np_faces_scores)\n",
    "very_low_scores_faces = np.where(np_faces_scores<0.80)[0]\n",
    "print float(len(very_low_scores_faces))/len(np_faces_scores)\n",
    "#all_faces\n",
    "print len(np_faces_scores)"
   ]
  },
  {
   "cell_type": "code",
   "execution_count": null,
   "metadata": {
    "collapsed": false
   },
   "outputs": [],
   "source": [
    "nb_faces_to_show = 10\n",
    "np.random.shuffle(very_low_scores_faces)\n",
    "faces_to_show = [all_faces[x] for x in very_low_scores_faces[:nb_faces_to_show]]\n",
    "print faces_to_show\n",
    "for face_id, face in faces_to_show:\n",
    "    print face_id, face\n",
    "    face_dict = {}\n",
    "    face_dict[face_id] = [face]\n",
    "    show_faces(face_dict, images_dir)"
   ]
  },
  {
   "cell_type": "markdown",
   "metadata": {},
   "source": [
    "## Show images and faces of one ad"
   ]
  },
  {
   "cell_type": "code",
   "execution_count": 57,
   "metadata": {
    "collapsed": false
   },
   "outputs": [],
   "source": [
    "def get_fnt(img, txt):\n",
    "    from PIL import ImageFont\n",
    "    # portion of image width you want text width to be\n",
    "    img_fraction = 0.20\n",
    "    fontsize = 2\n",
    "    font = ImageFont.truetype(\"arial.ttf\", fontsize)\n",
    "    while font.getsize(txt)[0] < img_fraction*img.size[0]:\n",
    "        # iterate until the text size is just larger than the criteria\n",
    "        fontsize += 1\n",
    "        font = ImageFont.truetype(\"arial.ttf\", fontsize)\n",
    "    return font, font.getsize(txt)[0]"
   ]
  },
  {
   "cell_type": "code",
   "execution_count": 63,
   "metadata": {
    "collapsed": false
   },
   "outputs": [],
   "source": [
    "def draw_face_bbox(img, bboxes, width=4):\n",
    "    from PIL import ImageDraw\n",
    "    import numpy as np\n",
    "    draw = ImageDraw.Draw(img)\n",
    "    for bbox in bboxes:\n",
    "        for i in range(width):\n",
    "            rect_start = (int(np.round(bbox[0] + width/2 - i)), int(np.round(bbox[1] + width/2 - i)))\n",
    "            rect_end = (int(np.round(bbox[2] - width/2 + i)), int(np.round(bbox[3] - width/2 + i)))\n",
    "            draw.rectangle((rect_start, rect_end), outline=(0, 255, 0))\n",
    "        # print score?\n",
    "        if len(bbox)==5:\n",
    "            score = str(bbox[4])\n",
    "            fnt, text_size = get_fnt(img, score[:5])\n",
    "            draw.text((np.round((bbox[0]+bbox[2])/2-text_size/2),np.round(bbox[1])), score[:5], font=fnt, fill=(255,255,255,64))"
   ]
  },
  {
   "cell_type": "code",
   "execution_count": 64,
   "metadata": {
    "collapsed": true
   },
   "outputs": [],
   "source": [
    "def open_image(sha1, images_dir):\n",
    "    from PIL import Image\n",
    "    img = Image.open(os.path.join(images_dir, sha1[:3], sha1))\n",
    "    return img"
   ]
  },
  {
   "cell_type": "code",
   "execution_count": 240,
   "metadata": {
    "collapsed": true
   },
   "outputs": [],
   "source": [
    "#face images of ad '84FC37A4E38F7DE2B9FCAAB902332ED60A344B8DF90893A5A8BE3FC1139FCD5A' are blurred but detected\n",
    "# image '20893a926fbf50d1a5994f70ec64dbf33dd67e2a' highly pixelated\n",
    "# male strippers '20E4597A6DA11BC07BB7578FFFCE07027F885AF02265FD663C0911D2699E0A79'"
   ]
  },
  {
   "cell_type": "code",
   "execution_count": null,
   "metadata": {
    "collapsed": false
   },
   "outputs": [],
   "source": [
    "all_ads_id = range(len(ads_images_dict.keys()))\n",
    "import numpy as np\n",
    "np.random.shuffle(all_ads_id)\n",
    "ad_id = ads_images_dict.keys()[all_ads_id[0]]\n",
    "print ad_id\n",
    "images_sha1s = get_ad_images(ad_id, ads_images_dict, url_sha1_dict)\n",
    "print images_sha1s\n",
    "faces = get_faces_images(images_sha1s, faces_dict)\n",
    "print faces\n",
    "show_faces(faces, images_dir)"
   ]
  },
  {
   "cell_type": "code",
   "execution_count": null,
   "metadata": {
    "collapsed": true
   },
   "outputs": [],
   "source": []
  }
 ],
 "metadata": {
  "kernelspec": {
   "display_name": "Python 2",
   "language": "python",
   "name": "python2"
  },
  "language_info": {
   "codemirror_mode": {
    "name": "ipython",
    "version": 2
   },
   "file_extension": ".py",
   "mimetype": "text/x-python",
   "name": "python",
   "nbconvert_exporter": "python",
   "pygments_lexer": "ipython2",
   "version": "2.7.12"
  }
 },
 "nbformat": 4,
 "nbformat_minor": 1
}
