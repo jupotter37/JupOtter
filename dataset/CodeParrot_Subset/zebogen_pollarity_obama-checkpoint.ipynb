{
 "cells": [
  {
   "cell_type": "code",
   "execution_count": 457,
   "metadata": {
    "collapsed": true
   },
   "outputs": [],
   "source": [
    "import pandas as pd\n",
    "import numpy as np\n",
    "import matplotlib.pyplot as plt\n",
    "from sklearn.ensemble import RandomForestClassifier\n",
    "from sklearn.feature_extraction.text import CountVectorizer\n",
    "from sklearn.cross_validation import train_test_split\n",
    "from sklearn import metrics\n",
    "from sklearn.linear_model import SGDClassifier\n",
    "from sklearn import linear_model\n",
    "from sklearn import svm\n",
    "\n",
    "\n"
   ]
  },
  {
   "cell_type": "code",
   "execution_count": 458,
   "metadata": {
    "collapsed": false
   },
   "outputs": [],
   "source": [
    "linear = svm.SVC()\n",
    "df = pd.read_csv(\"FINALOBAMA_minus_first_six.csv\", header=0)"
   ]
  },
  {
   "cell_type": "code",
   "execution_count": 459,
   "metadata": {
    "collapsed": true
   },
   "outputs": [],
   "source": [
    "xtrain, xtest, ytrain, ytest = train_test_split(df['Close'], df['Approval'], train_size = 0.8)"
   ]
  },
  {
   "cell_type": "code",
   "execution_count": 460,
   "metadata": {
    "collapsed": false
   },
   "outputs": [
    {
     "name": "stderr",
     "output_type": "stream",
     "text": [
      "/Users/apprentice/anaconda/lib/python2.7/site-packages/sklearn/svm/base.py:472: DataConversionWarning: A column-vector y was passed when a 1d array was expected. Please change the shape of y to (n_samples, ), for example using ravel().\n",
      "  y_ = column_or_1d(y, warn=True)\n"
     ]
    },
    {
     "data": {
      "text/plain": [
       "SVC(C=1.0, cache_size=200, class_weight=None, coef0=0.0, degree=3, gamma=0.0,\n",
       "  kernel='rbf', max_iter=-1, probability=False, random_state=None,\n",
       "  shrinking=True, tol=0.001, verbose=False)"
      ]
     },
     "execution_count": 460,
     "metadata": {},
     "output_type": "execute_result"
    }
   ],
   "source": [
    "linear.fit(pd.DataFrame(xtrain), pd.DataFrame(ytrain))"
   ]
  },
  {
   "cell_type": "code",
   "execution_count": 461,
   "metadata": {
    "collapsed": false
   },
   "outputs": [],
   "source": [
    "output = linear.predict(pd.DataFrame(xtest))"
   ]
  },
  {
   "cell_type": "code",
   "execution_count": 462,
   "metadata": {
    "collapsed": false
   },
   "outputs": [],
   "source": [
    "ytest = ytest.reset_index()[\"Approval\"]"
   ]
  },
  {
   "cell_type": "code",
   "execution_count": 463,
   "metadata": {
    "collapsed": false
   },
   "outputs": [
    {
     "data": {
      "text/plain": [
       "125    1553.280029\n",
       "29     2055.469971\n",
       "196    1158.670044\n",
       "95     1761.640015\n",
       "184    1361.229980\n",
       "152    1440.670044\n",
       "169    1278.040039\n",
       "260    1104.510010\n",
       "45     1886.760010\n",
       "241    1293.239990\n",
       "98     1703.199951\n",
       "143    1416.180054\n",
       "7      2076.620117\n",
       "103    1655.170044\n",
       "93     1798.180054\n",
       "173    1369.099976\n",
       "199    1253.229980\n",
       "220    1270.979980\n",
       "148    1411.939941\n",
       "57     1978.339966\n",
       "84     1838.699951\n",
       "165    1362.160034\n",
       "108    1709.670044\n",
       "225    1340.199951\n",
       "166    1335.020020\n",
       "81     1797.020020\n",
       "217    1339.670044\n",
       "254    1176.189941\n",
       "200    1285.089966\n",
       "134    1513.170044\n",
       "39     2067.560059\n",
       "27     2110.300049\n",
       "207    1154.229980\n",
       "170    1317.819946\n",
       "100    1691.750000\n",
       "112    1631.890015\n",
       "259    1109.550049\n",
       "182    1369.630005\n",
       "124    1588.849976\n",
       "41     2039.819946\n",
       "48     1982.849976\n",
       "40     2063.500000\n",
       "179    1397.109985\n",
       "255    1165.150024\n",
       "251    1225.849976\n",
       "65     1923.569946\n",
       "244    1256.770020\n",
       "3      2077.570068\n",
       "88     1818.319946\n",
       "270    1076.760010\n",
       "121    1614.420044\n",
       "229    1328.170044\n",
       "157    1411.130005\n",
       "46     1906.130005\n",
       "47     1967.900024\n",
       "72     1815.689941\n",
       "18     2117.689941\n",
       "281    1194.369995\n",
       "268    1077.959961\n",
       "Name: Close, dtype: float64"
      ]
     },
     "execution_count": 463,
     "metadata": {},
     "output_type": "execute_result"
    }
   ],
   "source": [
    "xtest"
   ]
  },
  {
   "cell_type": "code",
   "execution_count": 464,
   "metadata": {
    "collapsed": false
   },
   "outputs": [
    {
     "name": "stdout",
     "output_type": "stream",
     "text": [
      "-2 46 48\n",
      "0 46 46\n",
      "3 46 43\n",
      "5 46 41\n",
      "1 46 45\n",
      "-2 46 48\n",
      "0 46 46\n",
      "5 50 45\n",
      "5 46 41\n",
      "-3 46 49\n",
      "4 46 42\n",
      "-5 46 51\n",
      "0 46 46\n",
      "2 46 44\n",
      "5 46 41\n",
      "-2 46 48\n",
      "3 46 43\n",
      "1 47 46\n",
      "-4 46 50\n",
      "2 43 41\n",
      "0 40 40\n",
      "-1 45 46\n",
      "-1 44 45\n",
      "-5 46 51\n",
      "0 46 46\n",
      "5 46 41\n",
      "0 46 46\n",
      "1 46 45\n",
      "3 46 43\n",
      "-7 46 53\n",
      "4 47 43\n",
      "-1 45 46\n",
      "3 46 43\n",
      "-2 46 48\n",
      "1 46 45\n",
      "0 46 46\n",
      "3 49 46\n",
      "2 47 45\n",
      "-3 46 49\n",
      "4 46 42\n",
      "4 46 42\n",
      "4 46 42\n",
      "1 47 46\n",
      "0 46 46\n",
      "1 46 45\n",
      "2 46 44\n",
      "1 48 47\n",
      "0 46 46\n",
      "6 46 40\n",
      "1 46 45\n",
      "-4 46 50\n",
      "1 46 45\n",
      "0 46 46\n",
      "5 46 41\n",
      "-1 42 43\n",
      "3 46 43\n",
      "1 46 45\n",
      "-1 46 47\n",
      "0 46 46\n"
     ]
    }
   ],
   "source": [
    "for i in range (0, len(output)):\n",
    "    difference = output[i] - ytest[i]\n",
    "    print difference, output[i], ytest[i]"
   ]
  },
  {
   "cell_type": "code",
   "execution_count": null,
   "metadata": {
    "collapsed": false
   },
   "outputs": [],
   "source": []
  },
  {
   "cell_type": "code",
   "execution_count": 484,
   "metadata": {
    "collapsed": false
   },
   "outputs": [
    {
     "data": {
      "text/plain": [
       "0.86440677966101698"
      ]
     },
     "execution_count": 484,
     "metadata": {},
     "output_type": "execute_result"
    }
   ],
   "source": [
    "linear.score(pd.DataFrame(xtrain), pd.DataFrame(ytrain))"
   ]
  },
  {
   "cell_type": "code",
   "execution_count": 485,
   "metadata": {
    "collapsed": true
   },
   "outputs": [],
   "source": [
    "predictive_data_high = [1950, 2050, 2150, 2250, 2350, 2450, 2550, 2650, 2750, 2850, 2900, 2950]"
   ]
  },
  {
   "cell_type": "code",
   "execution_count": 486,
   "metadata": {
    "collapsed": true
   },
   "outputs": [],
   "source": [
    "predictive_data_same = [1950, 1950, 1950, 1950, 1950, 1950, 1950, 1950, 1950, 1950, 1950, 1950]"
   ]
  },
  {
   "cell_type": "code",
   "execution_count": 487,
   "metadata": {
    "collapsed": true
   },
   "outputs": [],
   "source": [
    "predictive_data_low = [1950, 1850, 1750, 1650, 1550, 1450, 1350, 1250, 1150, 1050, 1000, 950]"
   ]
  },
  {
   "cell_type": "code",
   "execution_count": 488,
   "metadata": {
    "collapsed": true
   },
   "outputs": [],
   "source": [
    "output_high = linear.predict(pd.DataFrame(predictive_data_high))"
   ]
  },
  {
   "cell_type": "code",
   "execution_count": 489,
   "metadata": {
    "collapsed": false
   },
   "outputs": [
    {
     "data": {
      "text/plain": [
       "array([44, 46, 46, 46, 46, 46, 46, 46, 46, 46, 46, 46])"
      ]
     },
     "execution_count": 489,
     "metadata": {},
     "output_type": "execute_result"
    }
   ],
   "source": [
    "output_high"
   ]
  },
  {
   "cell_type": "code",
   "execution_count": 490,
   "metadata": {
    "collapsed": true
   },
   "outputs": [],
   "source": [
    "output_medium = linear.predict(pd.DataFrame(predictive_data_same))"
   ]
  },
  {
   "cell_type": "code",
   "execution_count": 491,
   "metadata": {
    "collapsed": false
   },
   "outputs": [
    {
     "data": {
      "text/plain": [
       "array([44, 44, 44, 44, 44, 44, 44, 44, 44, 44, 44, 44])"
      ]
     },
     "execution_count": 491,
     "metadata": {},
     "output_type": "execute_result"
    }
   ],
   "source": [
    "output_medium"
   ]
  },
  {
   "cell_type": "code",
   "execution_count": 492,
   "metadata": {
    "collapsed": true
   },
   "outputs": [],
   "source": [
    "output_low = linear.predict(pd.DataFrame(predictive_data_low))"
   ]
  },
  {
   "cell_type": "code",
   "execution_count": 493,
   "metadata": {
    "collapsed": false
   },
   "outputs": [
    {
     "data": {
      "text/plain": [
       "array([44, 46, 46, 49, 46, 46, 46, 46, 48, 46, 46, 46])"
      ]
     },
     "execution_count": 493,
     "metadata": {},
     "output_type": "execute_result"
    }
   ],
   "source": [
    "output_low"
   ]
  },
  {
   "cell_type": "code",
   "execution_count": null,
   "metadata": {
    "collapsed": true
   },
   "outputs": [],
   "source": []
  },
  {
   "cell_type": "code",
   "execution_count": 494,
   "metadata": {
    "collapsed": false
   },
   "outputs": [],
   "source": [
    "regression = linear_model.LinearRegression()"
   ]
  },
  {
   "cell_type": "code",
   "execution_count": 495,
   "metadata": {
    "collapsed": false
   },
   "outputs": [
    {
     "data": {
      "text/plain": [
       "LinearRegression(copy_X=True, fit_intercept=True, n_jobs=1, normalize=False)"
      ]
     },
     "execution_count": 495,
     "metadata": {},
     "output_type": "execute_result"
    }
   ],
   "source": [
    "regression.fit(pd.DataFrame(xtrain), pd.DataFrame(ytrain))"
   ]
  },
  {
   "cell_type": "code",
   "execution_count": 496,
   "metadata": {
    "collapsed": false
   },
   "outputs": [
    {
     "name": "stdout",
     "output_type": "stream",
     "text": [
      "('Coefficients: \\n', array([[-0.00219561]]))\n"
     ]
    }
   ],
   "source": [
    "print('Coefficients: \\n', regression.coef_)"
   ]
  },
  {
   "cell_type": "code",
   "execution_count": 497,
   "metadata": {
    "collapsed": false
   },
   "outputs": [
    {
     "name": "stdout",
     "output_type": "stream",
     "text": [
      "Residual sum of squares: 7.66\n"
     ]
    }
   ],
   "source": [
    "print(\"Residual sum of squares: %.2f\"\n",
    "      % np.mean((regression.predict(pd.DataFrame(xtest)) - pd.DataFrame(ytest)) ** 2))"
   ]
  },
  {
   "cell_type": "code",
   "execution_count": 498,
   "metadata": {
    "collapsed": false
   },
   "outputs": [
    {
     "data": {
      "text/plain": [
       "[<matplotlib.lines.Line2D at 0x10f76d050>]"
      ]
     },
     "execution_count": 498,
     "metadata": {},
     "output_type": "execute_result"
    }
   ],
   "source": [
    "plt.plot(pd.DataFrame(xtest), pd.DataFrame(ytest), color=\"black\")"
   ]
  },
  {
   "cell_type": "code",
   "execution_count": 499,
   "metadata": {
    "collapsed": false
   },
   "outputs": [
    {
     "data": {
      "text/plain": [
       "([], <a list of 0 Text yticklabel objects>)"
      ]
     },
     "execution_count": 499,
     "metadata": {},
     "output_type": "execute_result"
    }
   ],
   "source": [
    "plt.xticks(())\n",
    "plt.yticks(())"
   ]
  },
  {
   "cell_type": "code",
   "execution_count": 500,
   "metadata": {
    "collapsed": true
   },
   "outputs": [],
   "source": [
    "plt.show()"
   ]
  },
  {
   "cell_type": "code",
   "execution_count": 501,
   "metadata": {
    "collapsed": false
   },
   "outputs": [
    {
     "data": {
      "text/plain": [
       "<matplotlib.collections.PathCollection at 0x10fc02c10>"
      ]
     },
     "execution_count": 501,
     "metadata": {},
     "output_type": "execute_result"
    }
   ],
   "source": [
    "plt.scatter(pd.DataFrame(xtest), pd.DataFrame(ytest), color=\"black\")"
   ]
  },
  {
   "cell_type": "code",
   "execution_count": 502,
   "metadata": {
    "collapsed": true
   },
   "outputs": [],
   "source": [
    "plt.show()"
   ]
  },
  {
   "cell_type": "code",
   "execution_count": null,
   "metadata": {
    "collapsed": true
   },
   "outputs": [],
   "source": []
  },
  {
   "cell_type": "code",
   "execution_count": null,
   "metadata": {
    "collapsed": true
   },
   "outputs": [],
   "source": []
  }
 ],
 "metadata": {
  "kernelspec": {
   "display_name": "Python 2",
   "language": "python",
   "name": "python2"
  },
  "language_info": {
   "codemirror_mode": {
    "name": "ipython",
    "version": 2
   },
   "file_extension": ".py",
   "mimetype": "text/x-python",
   "name": "python",
   "nbconvert_exporter": "python",
   "pygments_lexer": "ipython2",
   "version": "2.7.10"
  }
 },
 "nbformat": 4,
 "nbformat_minor": 0
}
