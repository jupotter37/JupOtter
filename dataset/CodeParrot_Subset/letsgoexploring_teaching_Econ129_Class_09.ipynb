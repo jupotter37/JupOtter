{
 "cells": [
  {
   "cell_type": "code",
   "execution_count": null,
   "metadata": {
    "collapsed": true
   },
   "outputs": [],
   "source": [
    "import matplotlib.pyplot as plt\n",
    "import numpy as np\n",
    "import pandas as pd\n",
    "%matplotlib inline"
   ]
  },
  {
   "cell_type": "markdown",
   "metadata": {},
   "source": [
    "# Class 9: The Solow growth model\n",
    "\n",
    "The Solow growth model is at the core of modern theories of growth and business cycles. The Solow model is a model of *exogenous growth*: long-run growth arises in the model as a consequence of exogenous growth in the labor supply and total factor productivity. The Solow model, like many other macroeconomic models, is a *time series* model.\n",
    "\n",
    "## The Solow model without exogenous growth\n",
    "\n",
    "For the moment, let's disregard population and total factor productivity growth and assume that equilibrium in a closed economy is described by the following four equations:\n",
    "\n",
    "\\begin{align}\n",
    "Y_t & = A K_t^{\\alpha} \\tag{1}\\\\\n",
    "C_t & = (1-s)Y_t \\tag{2}\\\\\n",
    "Y_t & = C_t + I_t \\tag{3}\\\\\n",
    "K_{t+1} & = I_t + ( 1- \\delta)K_t \\tag{4}\\\\\n",
    "\\end{align}\n",
    "\n",
    "Equation (1) is the production function. Equation (2) is the consumption function where $s$ denotes the exogenously given saving rate. Equation (3) is the aggregate market clearing condition. Finally, Equation (4) is the capital evolution equation specifying that capital in yeat $t+1$ is the sum of newly created capital $I_t$ and the capital stock from year $t$ that has not depreciated $(1-\\delta)K_t$.\n",
    "\n",
    "Combine Equations (1) through (4) to eliminate $C_t$, $I_t$, and $Y_t$ and obtain a single-variable recurrence relation for $K_{t+1}$:\n",
    "\\begin{align}\n",
    "K_{t+1} & =  sAK_t^{\\alpha} + ( 1- \\delta)K_t \\tag{5}\n",
    "\\end{align}\n",
    "\n",
    "Given an initial value for capital $K_0 >0$, iterate on Equation (5) to compute the value of the capital stock at some future date $T$. Furthermore, the values of consumption, output, and investment at date $T$ can also be computed using Equations (1) through (3).\n",
    "\n",
    "### Simulation\n",
    "\n",
    "Simulate the Solow growth model for $t=0\\ldots 100$. For the simulation, assume the following values of the parameters:\n",
    "\n",
    "\\begin{align}\n",
    "A & = 10\\\\\n",
    "\\alpha & = 0.35\\\\\n",
    "s & = 0.15\\\\\n",
    "\\delta & = 0.1\n",
    "\\end{align}\n",
    "\n",
    "Furthermore, suppose that the initial value of capital is:\n",
    "\n",
    "\\begin{align}\n",
    "K_0 & = 20\n",
    "\\end{align}"
   ]
  },
  {
   "cell_type": "code",
   "execution_count": null,
   "metadata": {
    "collapsed": false
   },
   "outputs": [],
   "source": [
    "# Initialize parameters for the simulation (A, s, T, delta, alpha, K0)\n",
    "\n",
    "\n",
    "# Initialize a variable called capital as a (T+1)x1 array of zeros and set first value to K0\n",
    "\n",
    "\n",
    "# Compute all capital values by iterating over t from 0 through T\n",
    "    \n",
    "\n",
    "# Print the value of capital at dates 0 and T\n"
   ]
  },
  {
   "cell_type": "code",
   "execution_count": null,
   "metadata": {
    "collapsed": false
   },
   "outputs": [],
   "source": [
    "# Store the simulated capital data in a pandas DataFrame called data\n",
    "\n",
    "\n",
    "# Print the first five rows of the DataFrame\n"
   ]
  },
  {
   "cell_type": "code",
   "execution_count": null,
   "metadata": {
    "collapsed": false
   },
   "outputs": [],
   "source": [
    "# Create columns in the DataFrame to store computed values of the other endogenous variables\n",
    "\n",
    "\n",
    "# Print the first row of the DataFrame\n"
   ]
  },
  {
   "cell_type": "code",
   "execution_count": null,
   "metadata": {
    "collapsed": false
   },
   "outputs": [],
   "source": [
    "# Print the last row of the DataFrame\n"
   ]
  },
  {
   "cell_type": "code",
   "execution_count": null,
   "metadata": {
    "collapsed": false
   },
   "outputs": [],
   "source": [
    "# Create a 2x2 grid of plots of capital, output, consumption, and investment\n",
    "fig = plt.figure(figsize=(12,8))\n",
    "ax = fig.add_subplot(2,2,1)\n",
    "ax.plot(data['capital'],lw=3)\n",
    "ax.grid()\n",
    "ax.set_title('Capital')\n"
   ]
  },
  {
   "cell_type": "markdown",
   "metadata": {},
   "source": [
    "## The Solow model with exogenous population growth\n",
    "\n",
    "\n",
    "Now, let's suppose that production is a function of the supply of labor $L_t$:\n",
    "\n",
    "\\begin{align}\n",
    "Y_t & = AK_t^{\\alpha} L_t^{1-\\alpha}\\tag{6}\n",
    "\\end{align}\n",
    "\n",
    "The supply of labor grows at an exogenously determined rate $n$ and so it's value is determined recursively by a first-order difference equation:\n",
    "\n",
    "\\begin{align}\n",
    "L_{t+1} & = (1+n) L_t \\tag{7}\n",
    "\\end{align}\n",
    "\n",
    "The rest of the economy is characterized by the same equations as before:\n",
    "\n",
    "\\begin{align}\n",
    "C_t & = (1-s)Y_t \\tag{8}\\\\\n",
    "Y_t & = C_t + I_t \\tag{9}\\\\\n",
    "K_{t+1} & = I_t + ( 1- \\delta)K_t \\tag{10}\\\\\n",
    "\\end{align}\n",
    "\n",
    "Combine Equations (6), (8), (9), and (10) to eliminate $C_t$, $I_t$, and $Y_t$ and obtain a recurrence relation specifying $K_{t+1}$ as a funtion of $K_t$ and $L_t$:\n",
    "\\begin{align}\n",
    "K_{t+1} & =  sAK_t^{\\alpha}L_t^{1-\\alpha} + ( 1- \\delta)K_t \\tag{11}\n",
    "\\end{align}\n",
    "\n",
    "Given an initial values for capital and labor, Equations (7) and (11) can be iterated on to compute the values of the capital stock and labor supply at some future date $T$. Furthermore, the values of consumption, output, and investment at date $T$ can also be computed using Equations (6), (8), (9), and (10).\n",
    "\n",
    "### Simulation\n",
    "\n",
    "Simulate the Solow growth model with exogenous labor growth for $t=0\\ldots 100$. For the simulation, assume the following values of the parameters:\n",
    "\n",
    "\\begin{align}\n",
    "A & = 10\\\\\n",
    "\\alpha & = 0.35\\\\\n",
    "s & = 0.15\\\\\n",
    "\\delta & = 0.1\\\\\n",
    "n & = 0.01\n",
    "\\end{align}\n",
    "\n",
    "Furthermore, suppose that the initial values of capital and labor are:\n",
    "\n",
    "\\begin{align}\n",
    "K_0 & = 20\\\\\n",
    "L_0 & = 1\n",
    "\\end{align}"
   ]
  },
  {
   "cell_type": "code",
   "execution_count": null,
   "metadata": {
    "collapsed": false
   },
   "outputs": [],
   "source": [
    "# Initialize parameters for the simulation (A, s, T, delta, alpha, n, K0, L0)\n",
    "\n",
    "\n",
    "\n",
    "# Initialize a variable called labor as a (T+1)x1 array of zeros and set first value to L0\n",
    "\n",
    "\n",
    "# Compute all labor  values by iterating over t from 0 through T\n",
    "    \n",
    "    \n",
    "# Plot the simulated labor series\n"
   ]
  },
  {
   "cell_type": "code",
   "execution_count": null,
   "metadata": {
    "collapsed": false
   },
   "outputs": [],
   "source": [
    "# Initialize a variable called capital as a (T+1)x1 array of zeros and set first value to K0\n",
    "\n",
    "\n",
    "# Compute all capital values by iterating over t from 0 through T\n",
    "\n",
    "    \n",
    "\n",
    "# Plot the simulated capital series\n"
   ]
  },
  {
   "cell_type": "code",
   "execution_count": null,
   "metadata": {
    "collapsed": false
   },
   "outputs": [],
   "source": [
    "# Store the simulated capital data in a pandas DataFrame called data_labor\n",
    "\n",
    "\n",
    "# Print the first five rows of the data_labor\n"
   ]
  },
  {
   "cell_type": "code",
   "execution_count": null,
   "metadata": {
    "collapsed": false
   },
   "outputs": [],
   "source": [
    "# Create columns in the DataFrame to store computed values of the other endogenous variables\n",
    "\n",
    "# Print the first five rows of data_labor\n"
   ]
  },
  {
   "cell_type": "code",
   "execution_count": null,
   "metadata": {
    "collapsed": false
   },
   "outputs": [],
   "source": [
    "# Create columns in the DataFrame to store capital per worker, output per worker, consumption per worker, and investment per worker\n",
    "\n",
    "\n",
    "# Print the first five rows of data_labor\n"
   ]
  },
  {
   "cell_type": "code",
   "execution_count": null,
   "metadata": {
    "collapsed": false
   },
   "outputs": [],
   "source": [
    "# Create a 2x2 grid of plots of capital, output, consumption, and investment\n"
   ]
  },
  {
   "cell_type": "code",
   "execution_count": null,
   "metadata": {
    "collapsed": false
   },
   "outputs": [],
   "source": [
    "# Create a 2x2 grid of plots of capital per worker, outputper worker, consumption per worker, and investment per worker\n"
   ]
  },
  {
   "cell_type": "markdown",
   "metadata": {},
   "source": [
    "### An alternative approach\n",
    "\n",
    "Suppose that we wanted to simulate the Solow model with different parameter values so that we could compare the simulations. Since we'd be doing the same basic steps multiple times using different numbers, it would make sense to define a function so that we could avoid repetition.\n",
    "\n",
    "The code below defines a function called `solow_example()` that simulates the Solow model with exogenous labor growth. `solow_example()` takes as arguments the parameters of the Solow model $A$, $\\alpha$, $\\delta$, $s$, and $n$; the initial values $K_0$ and $L_0$; and the number of simulation periods $T$. `solow_example()` returns a Pandas DataFrame with computed values for aggregate and per worker quantities."
   ]
  },
  {
   "cell_type": "code",
   "execution_count": null,
   "metadata": {
    "collapsed": true
   },
   "outputs": [],
   "source": [
    "def solow_example(A,alpha,delta,s,n,K0,L0,T):\n",
    "    '''Returns DataFrame with simulated values for a Solow model with labor growth and constant TFP'''\n",
    "    \n",
    "    # Initialize a variable called capital as a (T+1)x1 array of zeros and set first value to k0\n",
    "    capital = np.zeros(T+1)\n",
    "    capital[0] = K0\n",
    "    \n",
    "    # Initialize a variable called labor as a (T+1)x1 array of zeros and set first value to l0\n",
    "    labor = np.zeros(T+1)\n",
    "    labor[0] = L0\n",
    "\n",
    "\n",
    "    # Compute all capital and labor values by iterating over t from 0 through T\n",
    "    for t in np.arange(T):\n",
    "        labor[t+1] = (1+n)*labor[t]\n",
    "        capital[t+1] = s*A*capital[t]**alpha*labor[t]**(1-alpha) + (1-delta)*capital[t]\n",
    "    \n",
    "    # Store the simulated capital df in a pandas DataFrame called data\n",
    "    df = pd.DataFrame({'capital':capital,'labor':labor})\n",
    "    \n",
    "    # Create columns in the DataFrame to store computed values of the other endogenous variables\n",
    "    df['output'] = df['capital']**alpha*df['labor']**(1-alpha)\n",
    "    df['consumption'] = (1-s)*df['output']\n",
    "    df['investment'] = df['output'] - df['consumption']\n",
    "    \n",
    "    # Create columns in the DataFrame to store capital per worker, output per worker, consumption per worker, and investment per worker\n",
    "    df['capital_pw'] = df['capital']/df['labor']\n",
    "    df['output_pw'] = df['output']/df['labor']\n",
    "    df['consumption_pw'] = df['consumption']/df['labor']\n",
    "    df['investment_pw'] = df['investment']/df['labor']\n",
    "    \n",
    "    return df"
   ]
  },
  {
   "cell_type": "markdown",
   "metadata": {},
   "source": [
    "With `solow_example()` defined, we can redo the previous exercise quickly:"
   ]
  },
  {
   "cell_type": "code",
   "execution_count": null,
   "metadata": {
    "collapsed": false
   },
   "outputs": [],
   "source": [
    "# Create the DataFrame with simulated values\n",
    "df = solow_example(A=10,alpha=0.35,delta=0.1,s=0.15,n=0.01,K0=20,L0=1,T=100)\n",
    "\n",
    "# Create a 2x2 grid of plots of the capital per worker, outputper worker, consumption per worker, and investment per worker\n",
    "fig = plt.figure(figsize=(12,8))\n",
    "ax = fig.add_subplot(2,2,1)\n",
    "ax.plot(df['capital_pw'],lw=3)\n",
    "ax.grid()\n",
    "ax.set_title('Capital per worker')\n",
    "\n",
    "ax = fig.add_subplot(2,2,2)\n",
    "ax.plot(df['output_pw'],lw=3)\n",
    "ax.grid()\n",
    "ax.set_title('Output per worker')\n",
    "\n",
    "ax = fig.add_subplot(2,2,3)\n",
    "ax.plot(df['consumption_pw'],lw=3)\n",
    "ax.grid()\n",
    "ax.set_title('Consumption per worker')\n",
    "\n",
    "ax = fig.add_subplot(2,2,4)\n",
    "ax.plot(df['investment_pw'],lw=3)\n",
    "ax.grid()\n",
    "ax.set_title('Investment per worker')"
   ]
  },
  {
   "cell_type": "markdown",
   "metadata": {},
   "source": [
    "`solow_example()` can be used to perform multiple simulations. For example, suppose we want to see the effect of having two different initial values of capital: $k_0 = 20$ and $k_0'=10$."
   ]
  },
  {
   "cell_type": "code",
   "execution_count": null,
   "metadata": {
    "collapsed": false
   },
   "outputs": [],
   "source": [
    "df1 = solow_example(A=10,alpha=0.35,delta=0.1,s=0.15,n=0.01,K0=20,L0=1,T=100)\n",
    "df2 = solow_example(A=10,alpha=0.35,delta=0.1,s=0.15,n=0.01,K0=10,L0=1,T=100)"
   ]
  },
  {
   "cell_type": "code",
   "execution_count": null,
   "metadata": {
    "collapsed": false
   },
   "outputs": [],
   "source": [
    "# Create a 2x2 grid of plots of the capital per worker, outputper worker, consumption per worker, and investment per worker\n",
    "fig = plt.figure(figsize=(12,8))\n",
    "ax = fig.add_subplot(2,2,1)\n",
    "ax.plot(df1['capital_pw'],lw=3)\n",
    "ax.plot(df2['capital_pw'],lw=3)\n",
    "ax.grid()\n",
    "ax.set_title('Capital per worker')\n",
    "\n",
    "ax = fig.add_subplot(2,2,2)\n",
    "ax.plot(df1['output_pw'],lw=3)\n",
    "ax.plot(df2['output_pw'],lw=3)\n",
    "ax.grid()\n",
    "ax.set_title('Output per worker')\n",
    "\n",
    "ax = fig.add_subplot(2,2,3)\n",
    "ax.plot(df1['consumption_pw'],lw=3)\n",
    "ax.plot(df2['consumption_pw'],lw=3)\n",
    "ax.grid()\n",
    "ax.set_title('Consumption per worker')\n",
    "\n",
    "ax = fig.add_subplot(2,2,4)\n",
    "ax.plot(df1['investment_pw'],lw=3,label='$k_0=20$')\n",
    "ax.plot(df2['investment_pw'],lw=3,label='$k_0=10$')\n",
    "ax.grid()\n",
    "ax.set_title('Investment per worker')\n",
    "ax.legend(loc='lower right')"
   ]
  }
 ],
 "metadata": {
  "anaconda-cloud": {},
  "kernelspec": {
   "display_name": "Python [default]",
   "language": "python",
   "name": "python3"
  },
  "language_info": {
   "codemirror_mode": {
    "name": "ipython",
    "version": 3
   },
   "file_extension": ".py",
   "mimetype": "text/x-python",
   "name": "python",
   "nbconvert_exporter": "python",
   "pygments_lexer": "ipython3",
   "version": "3.5.2"
  }
 },
 "nbformat": 4,
 "nbformat_minor": 1
}
