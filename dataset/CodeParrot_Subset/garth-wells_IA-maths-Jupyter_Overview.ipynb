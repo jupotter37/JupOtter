{
 "cells": [
  {
   "cell_type": "markdown",
   "metadata": {},
   "source": [
    "# Supporting notebooks for IA Paper 4 (mathematics) teaching \n",
    "\n",
    "This collection of Jupyter/Python notebooks is being produced as an experiment in supporting the teaching of mathematical methods to Part IA students at the Department of Engineering at University of Cambridge in the second half of Michaelmas Term. These notebooks are produced by Garth N. Wells (<http://www.eng.cam.ac.uk/~gnw20/>).\n",
    "\n",
    "\n",
    "## What these notebooks are \n",
    "\n",
    "The intention of these notebooks is to support the learning of and understanding of the mathematics that is taught in the course.\n",
    "\n",
    "\n",
    "## What these notebooks are not\n",
    "\n",
    "These notebooks are not complete learning material. They supplement the lecture handouts on the Moodle site <https://www.vle.cam.ac.uk/course/view.php?id=69781>.\n",
    "\n",
    "The notebooks are not intended to teach students how to use Python. It is hoped that students will modify and experiment with the notebooks.\n",
    "\n",
    "\n",
    "## This is an experiment\n",
    "\n",
    "Feedback is welcome. Send feedback to Garth N. Wells at <gnw20@cam.ac.uk>, or report error and typos on Github at <https://github.com/garth-wells/IA-maths-Jupyter/issues>.\n",
    "\n",
    "\n",
    "## Computer algebra systems (CAS)\n",
    "\n",
    "Some of these notebooks use a computer algebra systems. Computer algebra systems can perform symbolic mathematical operations and manipulations. Well known proprietary computer algebra systems are Maple and Mathematica (some Mathematica code can be executed in Wolfram Alpha). Open computer algebra systems include Maxima (<http://maxima.sourceforge.net/>) and SymPy (<http://sympy.org/>). Sage (<http://www.sagemath.org/>) is an interesting synthesis of a number of open packages.\n",
    "\n",
    "[SymPy](http://www.sympy.org/) is the CAS used in these notebooks.\n",
    "\n",
    "\n",
    "## List of lectures\n",
    "\n",
    "Each notebook corresponds to one lecture in the course.\n",
    "\n",
    "- [Lecture 1 (first-order ordinary differential equations)](Lecture01.ipynb)\n",
    "- [Lecture 2 (second-order ordinary differential equations)](Lecture02.ipynb)\n",
    "- [Lecture 3 (non-homegeneous second-order ordinary differential equations)](Lecture03.ipynb)\n",
    "- [Lecture 4 (non-homegeneous second-order ordinary differential equations (extension), balance laws)](Lecture04.ipynb)\n",
    "- [Lecture 5 (difference equations)](Lecture05.ipynb)\n",
    "- [Lecture 6 (partial derivatives and gradients)](Lecture06.ipynb) \n",
    "- [Lecture 7 (matrices and vectors)](Lecture07.ipynb)\n",
    "- [Lecture 8 (orthogonal matrices)](Lecture08.ipynb)\n",
    "- [Lecture 9 (coordinate transformations)](Lecture09.ipynb)\n",
    "- [Lecture 10 (eigenvalue problems)](Lecture10.ipynb)\n",
    "- [Lecture 11 (matrix diagonalisation)](Lecture11.ipynb)\n",
    "- [Lecture 12 (eigenproblem applications)](Lecture12.ipynb)"
   ]
  }
 ],
 "metadata": {
  "kernelspec": {
   "display_name": "Python 3",
   "language": "python",
   "name": "python3"
  },
  "language_info": {
   "codemirror_mode": {
    "name": "ipython",
    "version": 3
   },
   "file_extension": ".py",
   "mimetype": "text/x-python",
   "name": "python",
   "nbconvert_exporter": "python",
   "pygments_lexer": "ipython3",
   "version": "3.5.2"
  }
 },
 "nbformat": 4,
 "nbformat_minor": 0
}
