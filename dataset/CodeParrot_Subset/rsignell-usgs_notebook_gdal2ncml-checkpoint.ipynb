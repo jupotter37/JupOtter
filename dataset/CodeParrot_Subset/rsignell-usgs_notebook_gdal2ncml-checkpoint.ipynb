{
 "cells": [
  {
   "cell_type": "code",
   "execution_count": 1,
   "metadata": {
    "collapsed": true
   },
   "outputs": [],
   "source": [
    "from osgeo import gdal"
   ]
  },
  {
   "cell_type": "code",
   "execution_count": 2,
   "metadata": {
    "collapsed": true
   },
   "outputs": [],
   "source": [
    "raster = r'/usgs/data0/bathy/sandy/zip3/big.nc'\n",
    "ofile =  r'/usgs/data2/notebook/data/sandy3s.ncml'\n",
    "title = 'sandy3s'"
   ]
  },
  {
   "cell_type": "code",
   "execution_count": 3,
   "metadata": {
    "collapsed": false
   },
   "outputs": [
    {
     "name": "stdout",
     "output_type": "stream",
     "text": [
      "(-73.755, 0.000833333, 0.0, 39.755, 0.0, -0.000833333)\n"
     ]
    }
   ],
   "source": [
    "ds=gdal.Open(raster)\n",
    "\n",
    "gt=ds.GetGeoTransform()\n",
    "print(gt)\n"
   ]
  },
  {
   "cell_type": "code",
   "execution_count": 32,
   "metadata": {
    "collapsed": true
   },
   "outputs": [],
   "source": [
    "ncml = '''<netcdf xmlns=\"http://www.unidata.ucar.edu/namespaces/netcdf/ncml-2.2\"\n",
    "    location=\"/usgs/data0/bathy/srtm30plus_v1.nc\">\n",
    "    <dimension name=\"lon\" orgName=\"x\"/>\n",
    "    <dimension name=\"lat\" orgName=\"y\"/>\n",
    "    <variable name=\"lon\" shape=\"lon\" type=\"double\">\n",
    "     <attribute name=\"units\" value=\"degrees_east\"/>\n",
    "     <values start=\"-180.00\" increment=\"+0.008333333333333333\"/>\n",
    "    </variable>\n",
    "    <variable name=\"lat\" shape=\"lat\" type=\"double\">\n",
    "     <attribute name=\"units\" value=\"degrees_north\"/>\n",
    "     <values start=\"90.00\" increment=\"-0.008333333333333333\"/>\n",
    "    </variable>\n",
    "    <variable name=\"topo\" orgName=\"Band1\">\n",
    "     <attribute name=\"units\" value=\"meters\"/>\n",
    "     <attribute name=\"long_name\" value=\"elevation\"/>\n",
    "     <attribute name=\"standard_name\" value=\"height_above_geopotential_surface\"/>\n",
    "     <attribute name=\"grid_mapping\" value=\"crs\"/>\n",
    "    </variable>\n",
    "    <variable name=\"crs\">\n",
    "     <attribute name=\"grid_mapping_name\" value=\"latitude_longitude\"/>\n",
    "     <attribute name=\"longitude_of_prime_meridian\" type=\"float\" value=\"0.0\"/>\n",
    "     <attribute name=\"semi_major_axis\" type=\"float\" value=\"6378137.0\"/>\n",
    "     <attribute name=\"inverse_flattening\" type=\"float\" value=\"298.257223563\"/>\n",
    "     <attribute name=\"geopotential_datum_name\" value=\"NAVD88\"/>\n",
    "     <attribute name=\"crs_wkt\" value=\"COMPD_CS[\\\\\\\"NAD83 + NAVD88 height\\\\\\\",GEOGCS[\\\\\\\"NAD83\\\\\\\",DATUM[\\\\\\\"North_American_Datum_1983\\\\\\\",SPHEROID[\\\\\\\"GRS 1980\\\\\\\",6378137,298.257222101,AUTHORITY[\\\\\\\"EPSG\\\\\\\",\\\\\\\"7019\\\\\\\"]],TOWGS84[0,0,0,0,0,0,0],AUTHORITY[\\\\\\\"EPSG\\\\\\\",\\\\\\\"6269\\\\\\\"]],PRIMEM[\\\\\\\"Greenwich\\\\\\\",0,AUTHORITY[\\\\\\\"EPSG\\\\\\\",\\\\\\\"8901\\\\\\\"]],UNIT[\\\\\\\"degree\\\\\\\",0.0174532925199433,AUTHORITY[\\\\\\\"EPSG\\\\\\\",\\\\\\\"9122\\\\\\\"]],AUTHORITY[\\\\\\\"EPSG\\\\\\\",\\\\\\\"4269\\\\\\\"]],VERT_CS[\\\\\\\"NAVD88 height\\\\\\\",VERT_DATUM[\\\\\\\"North American Vertical Datum 1988\\\\\\\",2005,AUTHORITY[\\\\\\\"EPSG\\\\\\\",\\\\\\\"5103\\\\\\\"],EXTENSION[\\\\\\\"PROJ4_GRIDS\\\\\\\",\\\\\\\"g2012a_conus.gtx,g2012a_alaska.gtx,g2012a_guam.gtx,g2012a_hawaii.gtx,g2012a_puertorico.gtx,g2012a_samoa.gtx\\\\\\\"]],UNIT[\\\\\\\"metre\\\\\\\",1,AUTHORITY[\\\\\\\"EPSG\\\\\\\",\\\\\\\"9001\\\\\\\"]],AXIS[\\\\\\\"Up\\\\\\\",UP],AUTHORITY[\\\\\\\"EPSG\\\\\\\",\\\\\\\"5703\\\\\\\"]],AUTHORITY[\\\\\\\"EPSG\\\\\\\",\\\\\\\"5498\\\\\\\"]]\"/>\n",
    "    </variable>\n",
    "    <attribute name=\"Conventions\" value=\"CF-1.0\"/>\n",
    "    <attribute name=\"title\" value=\"SRTM30_v1\"/>\n",
    "   </netcdf>'''\n"
   ]
  },
  {
   "cell_type": "code",
   "execution_count": 35,
   "metadata": {
    "collapsed": true
   },
   "outputs": [],
   "source": [
    " ncml = '''<netcdf xmlns=\"http://www.unidata.ucar.edu/namespaces/netcdf/ncml-2.2\"\n",
    "    location=\"/usgs/data0/bathy/srtm30plus_v1.nc\">\n",
    "    <dimension name=\"lon\" orgName=\"x\"/>\n",
    "    <dimension name=\"lat\" orgName=\"y\"/>\n",
    "    <variable name=\"lon\" shape=\"lon\" type=\"double\">\n",
    "     <attribute name=\"units\" value=\"degrees_east\"/>\n",
    "     <values start=\"-180.00\" increment=\"+0.008333333333333333\"/>\n",
    "    </variable>\n",
    "    <variable name=\"lat\" shape=\"lat\" type=\"double\">\n",
    "     <attribute name=\"units\" value=\"degrees_north\"/>\n",
    "     <values start=\"90.00\" increment=\"-0.008333333333333333\"/>\n",
    "    </variable>\n",
    "    <variable name=\"topo\" orgName=\"Band1\">\n",
    "     <attribute name=\"units\" value=\"meters\"/>\n",
    "     <attribute name=\"long_name\" value=\"elevation\"/>\n",
    "     <attribute name=\"standard_name\" value=\"height_above_geopotential_surface\"/>\n",
    "     <attribute name=\"grid_mapping\" value=\"crs\"/>\n",
    "    </variable>\n",
    "    <variable name=\"crs\" type=\"int\">\n",
    "     <attribute name=\"grid_mapping_name\" value=\"latitude_longitude\"/>\n",
    "     <attribute name=\"longitude_of_prime_meridian\" type=\"float\" value=\"0.0\"/>\n",
    "     <attribute name=\"semi_major_axis\" type=\"float\" value=\"6378137.0\"/>\n",
    "     <attribute name=\"inverse_flattening\" type=\"float\" value=\"298.257223563\"/>\n",
    "     <attribute name=\"geopotential_datum_name\" value=\"NAVD88\"/>\n",
    "     <attribute name=\"crs_wkt\" value=\"COMPD_CS[&quot;NAD83 + NAVD88 height&quot;,GEOGCS[&quot;NAD83&quot;,DATUM[&quot;North_American_Datum_1983&quot;,SPHEROID[&quot;GRS 1980&quot;,6378137,298.257222101,AUTHORITY[&quot;EPSG&quot;,&quot;7019&quot;]],TOWGS84[0,0,0,0,0,0,0],AUTHORITY[&quot;EPSG&quot;,&quot;6269&quot;]],PRIMEM[&quot;Greenwich&quot;,0,AUTHORITY[&quot;EPSG&quot;,&quot;8901&quot;]],UNIT[&quot;degree&quot;,0.0174532925199433,AUTHORITY[&quot;EPSG&quot;,&quot;9122&quot;]],AUTHORITY[&quot;EPSG&quot;,&quot;4269&quot;]],VERT_CS[&quot;NAVD88 height&quot;,VERT_DATUM[&quot;North American Vertical Datum 1988&quot;,2005,AUTHORITY[&quot;EPSG&quot;,&quot;5103&quot;],EXTENSION[&quot;PROJ4_GRIDS&quot;,&quot;g2012a_conus.gtx,g2012a_alaska.gtx,g2012a_guam.gtx,g2012a_hawaii.gtx,g2012a_puertorico.gtx,g2012a_samoa.gtx&quot;]],UNIT[&quot;metre&quot;,1,AUTHORITY[&quot;EPSG&quot;,&quot;9001&quot;]],AXIS[&quot;Up&quot;,UP],AUTHORITY[&quot;EPSG&quot;,&quot;5703&quot;]],AUTHORITY[&quot;EPSG&quot;,&quot;5498&quot;]]\"/>\n",
    "    </variable>\n",
    "    <attribute name=\"Conventions\" value=\"CF-1.0\"/>\n",
    "    <attribute name=\"title\" value=\"SRTM30_v1\"/>\n",
    "   </netcdf>'''"
   ]
  },
  {
   "cell_type": "code",
   "execution_count": 36,
   "metadata": {
    "collapsed": false
   },
   "outputs": [
    {
     "name": "stdout",
     "output_type": "stream",
     "text": [
      "<netcdf xmlns=\"http://www.unidata.ucar.edu/namespaces/netcdf/ncml-2.2\"\n",
      "   location=\"/usgs/data0/bathy/sandy/zip3/big.nc\">\n",
      "   <dimension name=\"lon\" orgName=\"x\"/>\n",
      "   <dimension name=\"lat\" orgName=\"y\"/>\n",
      "   <variable name=\"lon\" shape=\"lon\" type=\"double\">\n",
      "    <attribute name=\"units\" value=\"degrees_east\"/>\n",
      "    <values start=\"-73.755\" increment=\"0.000833333\"/>\n",
      "   </variable>\n",
      "   <variable name=\"lat\" shape=\"lat\" type=\"double\">\n",
      "    <attribute name=\"units\" value=\"degrees_north\"/>\n",
      "    <values start=\"39.755\" increment=\"-0.000833333\"/>\n",
      "   </variable>\n",
      "   <variable name=\"topo\" orgName=\"Band1\">\n",
      "    <attribute name=\"units\" value=\"meters\"/>\n",
      "    <attribute name=\"long_name\" value=\"elevation\"/>\n",
      "    <attribute name=\"standard_name\" value=\"height_above_geopotential_surface\"/>\n",
      "    <attribute name=\"grid_mapping\" value=\"crs\"/>\n",
      "   </variable>\n",
      "   <variable name=\"crs\">\n",
      "    <attribute name=\"grid_mapping_name\" value=\"latitude_longitude\"/>\n",
      "    <attribute name=\"longitude_of_prime_meridian\" type=\"float\" value=\"0.0\"/>\n",
      "    <attribute name=\"semi_major_axis\" type=\"float\" value=\"6378137.0\"/>\n",
      "    <attribute name=\"inverse_flattening\" type=\"float\" value=\"298.257223563\"/>\n",
      "    <attribute name=\"geopotential_datum_name\" value=\"NAVD88\"/>\n",
      "    <attribute name=\"crs_wkt\" value=\"COMPD_CS[&quot;NAD83 + NAVD88 height&quot;,GEOGCS[&quot;NAD83&quot;,DATUM[&quot;North_American_Datum_1983&quot;,SPHEROID[&quot;GRS 1980&quot;,6378137,298.257222101,AUTHORITY[&quot;EPSG&quot;,&quot;7019&quot;]],TOWGS84[0,0,0,0,0,0,0],AUTHORITY[&quot;EPSG&quot;,&quot;6269&quot;]],PRIMEM[&quot;Greenwich&quot;,0,AUTHORITY[&quot;EPSG&quot;,&quot;8901&quot;]],UNIT[&quot;degree&quot;,0.0174532925199433,AUTHORITY[&quot;EPSG&quot;,&quot;9122&quot;]],AUTHORITY[&quot;EPSG&quot;,&quot;4269&quot;]],VERT_CS[&quot;NAVD88 height&quot;,VERT_DATUM[&quot;North American Vertical Datum 1988&quot;,2005,AUTHORITY[&quot;EPSG&quot;,&quot;5103&quot;],EXTENSION[&quot;PROJ4_GRIDS&quot;,&quot;g2012a_conus.gtx,g2012a_alaska.gtx,g2012a_guam.gtx,g2012a_hawaii.gtx,g2012a_puertorico.gtx,g2012a_samoa.gtx&quot;]],UNIT[&quot;metre&quot;,1,AUTHORITY[&quot;EPSG&quot;,&quot;9001&quot;]],AXIS[&quot;Up&quot;,UP],AUTHORITY[&quot;EPSG&quot;,&quot;5703&quot;]],AUTHORITY[&quot;EPSG&quot;,&quot;5498&quot;]]\"/>\n",
      "   </variable>\n",
      "   <attribute name=\"Conventions\" value=\"CF-1.0\"/>\n",
      "   <attribute name=\"title\" value=\"sandy3s\"/>\n",
      "  </netcdf>\n"
     ]
    }
   ],
   "source": [
    "#replace title\n",
    "ncml = ncml.replace('SRTM30_v1',title)\n",
    "\n",
    "#replace lon_min\n",
    "ncml = ncml.replace('-180.00',str(gt[0]))\n",
    "\n",
    "#replace lon_increment\n",
    "ncml = ncml.replace('+0.008333333333333333',str(gt[1]))\n",
    "\n",
    "#replace lat_max\n",
    "ncml = ncml.replace('90.00',str(gt[3]))\n",
    "\n",
    "#replace lat_increment\n",
    "ncml = ncml.replace('-0.008333333333333333',str(gt[5]))\n",
    "\n",
    "#replace file location\n",
    "ncml = ncml.replace(r'/usgs/data0/bathy/srtm30plus_v1.nc',raster)\n",
    "\n",
    "\n",
    "print(ncml)"
   ]
  },
  {
   "cell_type": "code",
   "execution_count": 37,
   "metadata": {
    "collapsed": true
   },
   "outputs": [],
   "source": [
    "with open(ofile, \"w\") as text_file:\n",
    "    text_file.write(\"{}\".format(ncml))"
   ]
  },
  {
   "cell_type": "raw",
   "metadata": {
    "collapsed": true
   },
   "source": [
    "netcdf big {\n",
    "dimensions:\n",
    "        x = 4212 ;\n",
    "        y = 3912 ;\n",
    "\n",
    "variables:\n",
    "        char GDAL_Geographics ;\n",
    "                GDAL_Geographics:Northernmost_Northing = 39.755 ;\n",
    "                GDAL_Geographics:Southernmost_Northing = 36.49500000000011 ;\n",
    "                GDAL_Geographics:Easternmost_Easting = -70.24500000000012 ;\n",
    "                GDAL_Geographics:Westernmost_Easting = -73.755 ;\n",
    "                GDAL_Geographics:spatial_ref = \"GEOGCS[\\\"GCS_North_American_1983\\\",DATUM[\\\"D_North_American_1983\\\",SPHEROID[\\\"GRS_1980\\\",6378137,298.257222101]],PRIMEM[\\\"Greenwich\\\",0],UNIT[\\\"Degree\\\",0.017453292519943295],VERTCS[\\\"Instantaneous Water Level height\\\",VERT_DATUM[\\\"Instantaneous Water Level\\\",2005],UNIT[\\\"Meter\\\",1]]]\" ;\n",
    "                GDAL_Geographics:GeoTransform = \"-73.755 0.000833333 0 39.755 0 -0.000833333 \" ;\n",
    "                GDAL_Geographics:grid_mapping_name = \"Geographics Coordinate System\" ;\n",
    "                GDAL_Geographics:long_name = \"Grid_latitude\" ;\n",
    "        float Band1(y, x) ;\n",
    "                Band1:_FillValue = -1.e+10f ;\n",
    "                Band1:grid_mapping = \"GDAL_Geographics\" ;\n",
    "                Band1:long_name = \"GDAL Band Number 1\" ;\n",
    "\n",
    "// global attributes:\n",
    "                :Conventions = \"CF-1.0\" ;\n"
   ]
  },
  {
   "cell_type": "code",
   "execution_count": 38,
   "metadata": {
    "collapsed": false
   },
   "outputs": [],
   "source": [
    "value=\"COMPD_CS[\\\\\\\"NAD83 + NAVD88 height\\\\\\\",GEOGCS[\\\\\\\"NAD83\\\\\\\",DATUM[\\\\\\\"North_American_Datum_1983\\\\\\\",SPHEROID[\\\\\\\"GRS 1980\\\\\\\",6378137,298.257222101,AUTHORITY[\\\\\\\"EPSG\\\\\\\",\\\\\\\"7019\\\\\\\"]],TOWGS84[0,0,0,0,0,0,0],AUTHORITY[\\\\\\\"EPSG\\\\\\\",\\\\\\\"6269\\\\\\\"]],PRIMEM[\\\\\\\"Greenwich\\\\\\\",0,AUTHORITY[\\\\\\\"EPSG\\\\\\\",\\\\\\\"8901\\\\\\\"]],UNIT[\\\\\\\"degree\\\\\\\",0.0174532925199433,AUTHORITY[\\\\\\\"EPSG\\\\\\\",\\\\\\\"9122\\\\\\\"]],AUTHORITY[\\\\\\\"EPSG\\\\\\\",\\\\\\\"4269\\\\\\\"]],VERT_CS[\\\\\\\"NAVD88 height\\\\\\\",VERT_DATUM[\\\\\\\"North American Vertical Datum 1988\\\\\\\",2005,AUTHORITY[\\\\\\\"EPSG\\\\\\\",\\\\\\\"5103\\\\\\\"],EXTENSION[\\\\\\\"PROJ4_GRIDS\\\\\\\",\\\\\\\"g2012a_conus.gtx,g2012a_alaska.gtx,g2012a_guam.gtx,g2012a_hawaii.gtx,g2012a_puertorico.gtx,g2012a_samoa.gtx\\\\\\\"]],UNIT[\\\\\\\"metre\\\\\\\",1,AUTHORITY[\\\\\\\"EPSG\\\\\\\",\\\\\\\"9001\\\\\\\"]],AXIS[\\\\\\\"Up\\\\\\\",UP],AUTHORITY[\\\\\\\"EPSG\\\\\\\",\\\\\\\"5703\\\\\\\"]],AUTHORITY[\\\\\\\"EPSG\\\\\\\",\\\\\\\"5498\\\\\\\"]]\"\n",
    "\n"
   ]
  },
  {
   "cell_type": "code",
   "execution_count": 29,
   "metadata": {
    "collapsed": false
   },
   "outputs": [
    {
     "data": {
      "text/plain": [
       "'COMPD_CS[\\\\\"NAD83 + NAVD88 height\\\\\",GEOGCS[\\\\\"NAD83\\\\\",DATUM[\\\\\"North_American_Datum_1983\\\\\",SPHEROID[\\\\\"GRS 1980\\\\\",6378137,298.257222101,AUTHORITY[\\\\\"EPSG\\\\\",\\\\\"7019\\\\\"]],TOWGS84[0,0,0,0,0,0,0],AUTHORITY[\\\\\"EPSG\\\\\",\\\\\"6269\\\\\"]],PRIMEM[\\\\\"Greenwich\\\\\",0,AUTHORITY[\\\\\"EPSG\\\\\",\\\\\"8901\\\\\"]],UNIT[\\\\\"degree\\\\\",0.0174532925199433,AUTHORITY[\\\\\"EPSG\\\\\",\\\\\"9122\\\\\"]],AUTHORITY[\\\\\"EPSG\\\\\",\\\\\"4269\\\\\"]],VERT_CS[\\\\\"NAVD88 height\\\\\",VERT_DATUM[\\\\\"North American Vertical Datum 1988\\\\\",2005,AUTHORITY[\\\\\"EPSG\\\\\",\\\\\"5103\\\\\"],EXTENSION[\\\\\"PROJ4_GRIDS\\\\\",\\\\\"g2012a_conus.gtx,g2012a_alaska.gtx,g2012a_guam.gtx,g2012a_hawaii.gtx,g2012a_puertorico.gtx,g2012a_samoa.gtx\\\\\"]],UNIT[\\\\\"metre\\\\\",1,AUTHORITY[\\\\\"EPSG\\\\\",\\\\\"9001\\\\\"]],AXIS[\\\\\"Up\\\\\",UP],AUTHORITY[\\\\\"EPSG\\\\\",\\\\\"5703\\\\\"]],AUTHORITY[\\\\\"EPSG\\\\\",\\\\\"5498\\\\\"]]'"
      ]
     },
     "execution_count": 29,
     "metadata": {},
     "output_type": "execute_result"
    }
   ],
   "source": [
    "value\n",
    "\n"
   ]
  },
  {
   "cell_type": "code",
   "execution_count": 30,
   "metadata": {
    "collapsed": true
   },
   "outputs": [],
   "source": [
    "value=\"COMPD_CS[\\\"NAD83 + NAVD88 height\\\",GEOGCS[\\\"NAD83\\\",DATUM[\\\"North_American_Datum_1983\\\",SPHEROID[\\\"GRS 1980\\\",6378137,298.257222101,AUTHORITY[\\\"EPSG\\\",\\\"7019\\\"]],TOWGS84[0,0,0,0,0,0,0],AUTHORITY[\\\"EPSG\\\",\\\"6269\\\"]],PRIMEM[\\\"Greenwich\\\",0,AUTHORITY[\\\"EPSG\\\",\\\"8901\\\"]],UNIT[\\\"degree\\\",0.0174532925199433,AUTHORITY[\\\"EPSG\\\",\\\"9122\\\"]],AUTHORITY[\\\"EPSG\\\",\\\"4269\\\"]],VERT_CS[\\\"NAVD88 height\\\",VERT_DATUM[\\\"North American Vertical Datum 1988\\\",2005,AUTHORITY[\\\"EPSG\\\",\\\"5103\\\"],EXTENSION[\\\"PROJ4_GRIDS\\\",\\\"g2012a_conus.gtx,g2012a_alaska.gtx,g2012a_guam.gtx,g2012a_hawaii.gtx,g2012a_puertorico.gtx,g2012a_samoa.gtx\\\"]],UNIT[\\\"metre\\\",1,AUTHORITY[\\\"EPSG\\\",\\\"9001\\\"]],AXIS[\\\"Up\\\",UP],AUTHORITY[\\\"EPSG\\\",\\\"5703\\\"]],AUTHORITY[\\\"EPSG\\\",\\\"5498\\\"]]\""
   ]
  },
  {
   "cell_type": "code",
   "execution_count": 31,
   "metadata": {
    "collapsed": false
   },
   "outputs": [
    {
     "data": {
      "text/plain": [
       "'COMPD_CS[\"NAD83 + NAVD88 height\",GEOGCS[\"NAD83\",DATUM[\"North_American_Datum_1983\",SPHEROID[\"GRS 1980\",6378137,298.257222101,AUTHORITY[\"EPSG\",\"7019\"]],TOWGS84[0,0,0,0,0,0,0],AUTHORITY[\"EPSG\",\"6269\"]],PRIMEM[\"Greenwich\",0,AUTHORITY[\"EPSG\",\"8901\"]],UNIT[\"degree\",0.0174532925199433,AUTHORITY[\"EPSG\",\"9122\"]],AUTHORITY[\"EPSG\",\"4269\"]],VERT_CS[\"NAVD88 height\",VERT_DATUM[\"North American Vertical Datum 1988\",2005,AUTHORITY[\"EPSG\",\"5103\"],EXTENSION[\"PROJ4_GRIDS\",\"g2012a_conus.gtx,g2012a_alaska.gtx,g2012a_guam.gtx,g2012a_hawaii.gtx,g2012a_puertorico.gtx,g2012a_samoa.gtx\"]],UNIT[\"metre\",1,AUTHORITY[\"EPSG\",\"9001\"]],AXIS[\"Up\",UP],AUTHORITY[\"EPSG\",\"5703\"]],AUTHORITY[\"EPSG\",\"5498\"]]'"
      ]
     },
     "execution_count": 31,
     "metadata": {},
     "output_type": "execute_result"
    }
   ],
   "source": [
    "value"
   ]
  },
  {
   "cell_type": "code",
   "execution_count": null,
   "metadata": {
    "collapsed": true
   },
   "outputs": [],
   "source": []
  }
 ],
 "metadata": {
  "kernelspec": {
   "display_name": "Python 2",
   "language": "python",
   "name": "python2"
  },
  "language_info": {
   "codemirror_mode": {
    "name": "ipython",
    "version": 2
   },
   "file_extension": ".py",
   "mimetype": "text/x-python",
   "name": "python",
   "nbconvert_exporter": "python",
   "pygments_lexer": "ipython2",
   "version": "2.7.11"
  }
 },
 "nbformat": 4,
 "nbformat_minor": 0
}
