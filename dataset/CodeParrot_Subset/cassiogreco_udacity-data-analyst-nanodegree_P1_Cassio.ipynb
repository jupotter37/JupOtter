{
 "cells": [
  {
   "cell_type": "markdown",
   "metadata": {},
   "source": [
    "### 1. What is our independent variable? What is our dependent variable?"
   ]
  },
  {
   "cell_type": "markdown",
   "metadata": {},
   "source": [
    "The independent and dependent variables of the experiment are: \n",
    "\n",
    "- Independent\n",
    "  - **Word/Color** congruency\n",
    "  \n",
    "- Dependent\n",
    "  - **Time to name ink**"
   ]
  },
  {
   "cell_type": "markdown",
   "metadata": {},
   "source": [
    "### 2. What is an appropriate set of hypotheses for this task? What kind of statistical test do you expect to perform? Justify your choices."
   ]
  },
  {
   "cell_type": "markdown",
   "metadata": {},
   "source": [
    "We have as starting data two samples gathered from the same test (time taken to say the name of the color a given word is printed in) applied in different conditions: one for _Congruent_ word/colors (the word and color are the same. I.e. the word \"blue\" printed in blue) and one for _Incongruent_ word/colors (the word is a different color than the printed color. I.e. The word \"blue\" is printed in red).\n",
    "\n",
    "From the sampled data, we want to infer whether or not the time taken to say a _Congruent_ word/color is less than the time taken to say an _Incongruent_ word/color.\n",
    "\n",
    "Having **Con** be the symbol of the _Congruent_ words and **Incon** be the symbol of the _Incongruent_ words, and **Diff** be the symbol of the _difference_ between **Con** and **Incon** (**Con** - **Incon**), we have:\n",
    "\n",
    "**H0** (HNULL): muCon = muIncon <=> muDiff = 0\n",
    "\n",
    "**Ha** (HALTERNATIVE): muCon != muIncon <=> muDiff != 0\n",
    "\n",
    "HNULL hypothesis: The population mean time it takes to say the correct ink color in the _Congruent_ condition is equal to the population mean time it takes to say the correct ink color in the _Incongruent_ condition, based on the sample means.\n",
    "\n",
    "HALTERNATIVE hypothesis: The population mean time it takes to say the correct ink color in the _Congruent_ is different than the population mean time it takes to say the correct ink color in the _Incongruent_ condition, based on the sample means.\n",
    "\n",
    "I will be performing a two-tailed _Dependent T-Test_ because:\n",
    "- The sample size is smaller than 30\n",
    "- The standard deviation of the entire population is unknown\n",
    "- I am measuring the results between the same test based on two different conditions on the same subject group.\n",
    "\n",
    "I will evaluate the results based on a confidence level of 99% (T-Critical value of 2.807, for 23 degrees of freedom).\n",
    "\n",
    "I expect to **reject** the _HNULL_ hypothesis that states that the mean time it takes to say the name of the ink colors in the _Congruent_ group will be equal to the mean time it takes to say the name of the ink colors in the _Incongruent_ group\n"
   ]
  },
  {
   "cell_type": "markdown",
   "metadata": {},
   "source": [
    "### 3. Report some descriptive statistics regarding this dataset. Include at least one measure of central tendency and at least one measure of variability."
   ]
  },
  {
   "cell_type": "code",
   "execution_count": 132,
   "metadata": {
    "collapsed": false
   },
   "outputs": [
    {
     "name": "stdout",
     "output_type": "stream",
     "text": [
      "Populating the interactive namespace from numpy and matplotlib\n"
     ]
    }
   ],
   "source": [
    "import pandas as pd\n",
    "import math\n",
    "%pylab inline\n",
    "import matplotlib.pyplot as plt\n",
    "CONGRUENT = 'Congruent'\n",
    "INCONGRUENT = 'Incongruent'\n",
    "TCRITICAL = 2.807 # two-tailed difference with 99% Confidence and Degree of Freedom of 23"
   ]
  },
  {
   "cell_type": "code",
   "execution_count": 155,
   "metadata": {
    "collapsed": false
   },
   "outputs": [],
   "source": [
    "path = r'~/udacity-data-analyst-nanodegree/P1/stroopdata.csv'\n",
    "\n",
    "initialData = pd.read_csv(path)\n",
    "\n",
    "dataDifference = [initialData[CONGRUENT][i] - initialData[INCONGRUENT][i] for i in range(0, len(initialData[CONGRUENT]))]\n",
    "\n",
    "congruentMean = mean(initialData[CONGRUENT])\n",
    "incongruentMean = mean(initialData[INCONGRUENT])\n",
    "differenceMean = mean(dataDifference)\n",
    "\n",
    "def mean(data):\n",
    "    return sum(data) / len(data)\n",
    "\n",
    "def valuesMinusMean(data):\n",
    "    meanOfData = mean(data)\n",
    "    return [value - meanOfData for value in data]\n",
    "\n",
    "def valuesToPower(data, power):\n",
    "    return [value ** power for value in data]\n",
    "\n",
    "def variance(data):\n",
    "    return sum(data) / (len(data) - 1)\n",
    "\n",
    "def standardDeviation(variance):\n",
    "    return math.sqrt(variance)"
   ]
  },
  {
   "cell_type": "code",
   "execution_count": 156,
   "metadata": {
    "collapsed": false,
    "scrolled": true
   },
   "outputs": [
    {
     "name": "stdout",
     "output_type": "stream",
     "text": [
      "Mean of Congruent values: 14.051125\n",
      "Mean of Incongruent values: 22.0159166667\n",
      "Mean of Difference values: -7.96479166667\n",
      "\n",
      "Range of Congruent values: 13.698\n",
      "Range of Incongruent values: 19.568\n",
      "Range of Difference values: 19.969\n",
      "\n",
      "Standard Deviation of Congruent values: 3.5593579576451955\n",
      "Standard Deviation of Incongruent values: 4.797057122469138\n",
      "Standard Deviation of Difference values: 4.864826910359056\n"
     ]
    }
   ],
   "source": [
    "print('Mean of Congruent values:', congruentMean)\n",
    "print('Mean of Incongruent values:', incongruentMean)\n",
    "print('Mean of Difference values:', differenceMean)\n",
    "print()\n",
    "print('Range of Congruent values:', max(initialData[CONGRUENT] - min(initialData[CONGRUENT])))\n",
    "print('Range of Incongruent values:', max(initialData[INCONGRUENT] - min(initialData[INCONGRUENT])))\n",
    "print('Range of Difference values:', max(dataDifference - min(dataDifference)))\n",
    "print()\n",
    "print('Standard Deviation of Congruent values:', standardDeviation(variance(valuesToPower(valuesMinusMean(initialData[CONGRUENT]), 2))))\n",
    "print('Standard Deviation of Incongruent values:', standardDeviation(variance(valuesToPower(valuesMinusMean(initialData[INCONGRUENT]), 2))))\n",
    "print('Standard Deviation of Difference values:', standardDeviation(variance(valuesToPower(valuesMinusMean(dataDifference), 2))))"
   ]
  },
  {
   "cell_type": "markdown",
   "metadata": {},
   "source": [
    "### 4. Provide one or two visualizations that show the distribution of the sample data. Write one or two sentences noting what you observe about the plot or plots."
   ]
  },
  {
   "cell_type": "code",
   "execution_count": 144,
   "metadata": {
    "collapsed": false
   },
   "outputs": [
    {
     "data": {
      "text/plain": [
       "([array([ 5.,  6.,  7.,  4.,  1.,  1.,  0.,  0.,  0.,  0.]),\n",
       "  array([ 0.,  0.,  1.,  7.,  6.,  6.,  2.,  0.,  0.,  2.])],\n",
       " array([  8.63  ,  11.2925,  13.955 ,  16.6175,  19.28  ,  21.9425,\n",
       "         24.605 ,  27.2675,  29.93  ,  32.5925,  35.255 ]),\n",
       " <a list of 2 Lists of Patches objects>)"
      ]
     },
     "execution_count": 144,
     "metadata": {},
     "output_type": "execute_result"
    },
    {
     "data": {
      "image/png": "[encoded data removed]",
      "text/plain": [
       "<matplotlib.figure.Figure at 0x10d85cb38>"
      ]
     },
     "metadata": {},
     "output_type": "display_data"
    }
   ],
   "source": [
    "plt.hist(\n",
    "    x=[initialData[CONGRUENT], initialData[INCONGRUENT]], \n",
    "    normed=False, \n",
    "    range=(min(initialData[CONGRUENT]), max(initialData[INCONGRUENT])),\n",
    "    bins=10,\n",
    "    label='Time to name'\n",
    ")"
   ]
  },
  {
   "cell_type": "code",
   "execution_count": 145,
   "metadata": {
    "collapsed": false
   },
   "outputs": [
    {
     "data": {
      "text/plain": [
       "(array([ 4.,  2.,  4.,  1.,  6.,  2.,  2.,  1.,  1.,  1.]),\n",
       " array([  8.63  ,   9.9998,  11.3696,  12.7394,  14.1092,  15.479 ,\n",
       "         16.8488,  18.2186,  19.5884,  20.9582,  22.328 ]),\n",
       " <a list of 10 Patch objects>)"
      ]
     },
     "execution_count": 145,
     "metadata": {},
     "output_type": "execute_result"
    },
    {
     "data": {
      "image/png": "[encoded data removed]",
      "text/plain": [
       "<matplotlib.figure.Figure at 0x10d989e48>"
      ]
     },
     "metadata": {},
     "output_type": "display_data"
    }
   ],
   "source": [
    "plt.hist(\n",
    "    x=initialData[CONGRUENT],\n",
    "    normed=False, \n",
    "    range=(min(initialData[CONGRUENT]), max(initialData[CONGRUENT])),\n",
    "    bins=10,\n",
    "    label='Time to name'\n",
    ")"
   ]
  },
  {
   "cell_type": "code",
   "execution_count": 146,
   "metadata": {
    "collapsed": false
   },
   "outputs": [
    {
     "data": {
      "text/plain": [
       "(array([ 4.,  4.,  6.,  3.,  4.,  1.,  0.,  0.,  0.,  2.]),\n",
       " array([ 15.687 ,  17.6438,  19.6006,  21.5574,  23.5142,  25.471 ,\n",
       "         27.4278,  29.3846,  31.3414,  33.2982,  35.255 ]),\n",
       " <a list of 10 Patch objects>)"
      ]
     },
     "execution_count": 146,
     "metadata": {},
     "output_type": "execute_result"
    },
    {
     "data": {
      "image/png": "[encoded data removed]",
      "text/plain": [
       "<matplotlib.figure.Figure at 0x10dabdc88>"
      ]
     },
     "metadata": {},
     "output_type": "display_data"
    }
   ],
   "source": [
    "plt.hist(\n",
    "    x=initialData[INCONGRUENT], \n",
    "    normed=False, \n",
    "    range=(min(initialData[INCONGRUENT]), max(initialData[INCONGRUENT])),\n",
    "    bins=10,\n",
    "    label='Time to name',\n",
    "    color='Green'\n",
    ")"
   ]
  },
  {
   "cell_type": "code",
   "execution_count": 147,
   "metadata": {
    "collapsed": false
   },
   "outputs": [
    {
     "data": {
      "text/plain": [
       "(array([ 1.,  0.,  1.,  0.,  0.,  5.,  5.,  4.,  1.,  7.]),\n",
       " array([-21.919 , -19.9221, -17.9252, -15.9283, -13.9314, -11.9345,\n",
       "         -9.9376,  -7.9407,  -5.9438,  -3.9469,  -1.95  ]),\n",
       " <a list of 10 Patch objects>)"
      ]
     },
     "execution_count": 147,
     "metadata": {},
     "output_type": "execute_result"
    },
    {
     "data": {
      "image/png": "[encoded data removed]",
      "text/plain": [
       "<matplotlib.figure.Figure at 0x10dbdb780>"
      ]
     },
     "metadata": {},
     "output_type": "display_data"
    }
   ],
   "source": [
    "plt.hist(\n",
    "    x=dataDifference, \n",
    "    normed=False, \n",
    "    range=(min(dataDifference), max(dataDifference)),\n",
    "    bins=10,\n",
    "    label='Time to name',\n",
    "    color='Red'\n",
    ")"
   ]
  },
  {
   "cell_type": "markdown",
   "metadata": {},
   "source": [
    "From analyzing the histograms of both the _Congruent_ and _Incongruent_ datasets we can visualy see that the _Incongruent_ dataset contains a greater number of higher _time-to-name_ values than the _Congruent_ datasets.\n",
    "\n",
    "This is evident from looking at the values of the mean values of both datasets, previously calculated (14.051125 and 22.0159166667 for _Congruent_ and _Incongruent_ datasets, respectively)"
   ]
  },
  {
   "cell_type": "markdown",
   "metadata": {},
   "source": [
    "### 5. Now, perform the statistical test and report your results. What is your confidence level and your critical statistic value? Do you reject the null hypothesis or fail to reject it? Come to a conclusion in terms of the experiment task. Did the results match up with your expectations?"
   ]
  },
  {
   "cell_type": "code",
   "execution_count": 159,
   "metadata": {
    "collapsed": false
   },
   "outputs": [
    {
     "name": "stdout",
     "output_type": "stream",
     "text": [
      "Degrees of Freedom: 23\n",
      "Standard Error: 0.9930286347783406\n",
      "T Value: -8.02070694411\n",
      "T Critical Regions: Less than -2.807 and Greater than 2.807\n",
      "Is the T Value inside of the critical region? True\n",
      "Is p < 0.005? True\n",
      "Confidence Interval: (-10.752223044489469, -5.1773602888438637)\n"
     ]
    }
   ],
   "source": [
    "degreesOfFreedom = len(initialData[CONGRUENT]) - 1\n",
    "\n",
    "def standardError(standardDeviation, sampleSize):\n",
    "    return standardDeviation / math.sqrt(sampleSize)\n",
    "\n",
    "def getTValue(mean, se):\n",
    "    return mean / se\n",
    "\n",
    "se = standardError(standardDeviation(variance(valuesToPower(valuesMinusMean(dataDifference), 2))), len(dataDifference))\n",
    "tValue = getTValue(differenceMean, se)\n",
    "\n",
    "def marginOfError(t, standardError):\n",
    "    return t * standardError\n",
    "\n",
    "def getConfidenceInterval(mean, t, standardError):\n",
    "    return (mean - marginOfError(t, standardError), mean + marginOfError(t, standardError))\n",
    "\n",
    "print('Degrees of Freedom:', degreesOfFreedom)\n",
    "print('Standard Error:', se)\n",
    "print('T Value:', tValue)\n",
    "print('T Critical Regions: Less than', -TCRITICAL, 'and Greater than', TCRITICAL)\n",
    "print('Is the T Value inside of the critical region?', tValue >= TCRITICAL or tValue < TCRITICAL)\n",
    "print('Is p < 0.005?', tValue >= TCRITICAL or tValue < TCRITICAL)\n",
    "print('Confidence Interval:', getConfidenceInterval(differenceMean, TCRITICAL, se))"
   ]
  },
  {
   "cell_type": "markdown",
   "metadata": {},
   "source": [
    "Based on the data calculated above, we have that the T Value of the difference of the two conditions (_Congruent_ and _Incongruent_) is inside of the critical region of 99% Confidence.\n",
    "\n",
    "With this, I **reject** the **HNULL** Hypothesis (**H0**). Since the T Value falls inside of the critical region, it is statistically significant to say that _muCon != muIncon_"
   ]
  },
  {
   "cell_type": "markdown",
   "metadata": {},
   "source": [
    "### 6. Optional: What do you think is responsible for the effects observed? Can you think of an alternative or similar task that would result in a similar effect? Some research about the problem will be helpful for thinking about these two questions!"
   ]
  },
  {
   "cell_type": "markdown",
   "metadata": {},
   "source": [
    "I think that the reason behind this effect is that the brain already has associated the name of the color with it's visual representation (the actual color). When we are shown the name of a color, but it is in a different color our brain can't process the two at the same time (as the logical and the creative side of our brain are each giving a different response as to what we are seeing).\n",
    "\n",
    "Similar tasks that will have similar results could be a _Spatial_ Stroop Effect (as described in the wikipedia article referenced at the bottom) where show words like _Big_, _Small_, _Up_, _Down_ in different sizes and positions can also trigger this effect."
   ]
  },
  {
   "cell_type": "markdown",
   "metadata": {},
   "source": [
    "#### Sources"
   ]
  },
  {
   "cell_type": "markdown",
   "metadata": {},
   "source": [
    "- Matplot documentation: http://matplotlib.org/api/pyplot_api.html\n",
    "- T-Table: https://drive.google.com/file/d/0B8LCYo988pznaUs4dDE5dkJrOEk/view?usp=sharing\n",
    "- More information on the study: https://en.wikipedia.org/wiki/Stroop_effect\n",
    "- When to use T Score vs Z Score: http://www.statisticshowto.com/when-to-use-a-t-score-vs-z-score/\n",
    "- Types of T Tests: http://support.minitab.com/en-us/minitab/17/topic-library/basic-statistics-and-graphs/hypothesis-tests/tests-of-means/types-of-t-tests/\n",
    "- About Null and Alternative Hypothesis: http://support.minitab.com/en-us/minitab/17/topic-library/basic-statistics-and-graphs/hypothesis-tests/basics/null-and-alternative-hypotheses/\n",
    "- What is a hypothesis test?: http://support.minitab.com/en-us/minitab/17/topic-library/basic-statistics-and-graphs/hypothesis-tests/basics/what-is-a-hypothesis-test/\n"
   ]
  }
 ],
 "metadata": {
  "kernelspec": {
   "display_name": "Python 3",
   "language": "python",
   "name": "python3"
  },
  "language_info": {
   "codemirror_mode": {
    "name": "ipython",
    "version": 3
   },
   "file_extension": ".py",
   "mimetype": "text/x-python",
   "name": "python",
   "nbconvert_exporter": "python",
   "pygments_lexer": "ipython3",
   "version": "3.4.2"
  }
 },
 "nbformat": 4,
 "nbformat_minor": 0
}
