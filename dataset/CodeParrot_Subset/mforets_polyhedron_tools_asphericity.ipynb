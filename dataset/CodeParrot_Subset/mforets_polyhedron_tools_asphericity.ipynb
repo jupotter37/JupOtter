{
 "cells": [
  {
   "cell_type": "markdown",
   "metadata": {},
   "source": [
    "$\\newcommand{jX}{\\mathcal{X}}$\n",
    "$\\newcommand{jE}{\\mathcal{E}}$\n",
    "$\\newcommand{R}{\\mathbb{R}}$"
   ]
  },
  {
   "cell_type": "markdown",
   "metadata": {},
   "source": [
    "### Definitions\n",
    "\n",
    "- a *convex body* is a compact convex set with non-empty interior.\n",
    "- a *convex polyhedron* is the intersection of a finite set of closed half-spaces. \n",
    "- a *convex polytope* is a bounded convex polyhedron. \n",
    "- we embed $\\R^n$ with a $p$-norm $||\\cdot||$ for some $1 \\leq p \\leq \\infty$. In `polyhedron_tools.asphericity`, the infinity norm is used.\n",
    "\n",
    "*Remark.* Although the following notions and algorithms also apply to the more general context of convex bodies, we only work with convex polytopes."
   ]
  },
  {
   "cell_type": "markdown",
   "metadata": {},
   "source": [
    "### Asphericity at an interior point\n",
    "\n",
    "Let $\\mathcal{X} \\subset \\mathbb{R}^n$ be a convex polytope.\n",
    "\n",
    "The **asphericity at $x$** is defined as the ratio of the circumradius to the inradius with common center $x$; more precisely:\n",
    "\n",
    "\n",
    "**Def.** The **asphericity at point** $x \\in \\textrm{int }\\mathcal{X}$ is:\n",
    "$$\n",
    "p_{\\mathcal{X}}(x) := \\dfrac{R(x)}{r(x)},\n",
    "$$\n",
    "where:\n",
    "\n",
    "- circumradius: $$R(x) := \\max_{y \\in \\mathcal{X}} ||x-y||$$ is the radius of the ball of center $x$ that contains $\\mathcal{X}$ of minimal volume.\n",
    "- inradius: $$r(x) := \\min_{y \\in \\overline{\\mathcal{X}^C}} ||x-y||$$\n",
    "is the radius of the ball of center $x$ that is contained in $\\mathcal{X}$ and is of maximal volume. "
   ]
  },
  {
   "cell_type": "markdown",
   "metadata": {},
   "source": [
    "### Asphericity of a convex polytope\n",
    "\n",
    "The **asphericity of a polytope** $\\mathcal{X}$ is defined as:\n",
    "$$\n",
    "p_{\\mathcal{X}} := \\min_{x \\in \\mathcal{X}} p_{\\mathcal{X}}(x).\n",
    "$$\n",
    "\n",
    "Remarks: \n",
    "\n",
    "- intuition: $p_{\\mathcal{X}}-1$ somehow measures the difference of $\\mathcal{X}$ from a ball (in the given norm).\n",
    "- complications:\n",
    "    - $R(x)$ is convex, and $r(x)$ is concave.\n",
    "    - $p_{\\mathcal{X}}$ can be non-smooth, neither convex, nor concave."
   ]
  },
  {
   "cell_type": "markdown",
   "metadata": {},
   "source": [
    "### Computation: sequence of LP problems\n",
    "\n",
    "**Theorem.** The asphericity can be approximated with arbitrary accuracy by the sequence of convex problems: \n",
    "$$\n",
    "p_{\\mathcal{X}}^{(k)}(x) := \\min_{x \\in \\mathcal{X}} R(x) - \\alpha_k r(x)\n",
    "$$\n",
    "where $\\alpha_k := p^{(k)}_{\\mathcal{X}}(x_k)$, and $x_{k+1} \\in \\mathcal{X}$ is the solution of the problem above. In the sup-norm, these reduces to a sequence of LP problems.\n",
    "\n",
    "\n",
    "\n",
    "See: [Method for Finding an Approximate Solution of the Asphericity \n",
    "Problem for a Convex Body, S. I. Dudov and E. A. Meshcheryakova](http://sci-hub.cc/10.1134/s0965542513100059)."
   ]
  },
  {
   "cell_type": "markdown",
   "metadata": {},
   "source": [
    "### Algorithm\n",
    "\n",
    "We implement the computation of the asphericity of a convex polytope in the infinity norm. See [Dudov and Meshcheryakova 2013](http://link.springer.com/article/10.1134/S0965542513100059) for further details."
   ]
  },
  {
   "cell_type": "markdown",
   "metadata": {},
   "source": [
    "### Example\n",
    "\n",
    "We created a program to compute the asphericity (in the sup-norm), given an input polytope $P$. The functions are on ``polyhedron_tools``.\n",
    "\n",
    "To illustrate it, let's consider a random polygon with $10$ vertices, and find its asphericity. Then, we plot the original set and its bounding boxes at the aspericity center that was found."
   ]
  },
  {
   "cell_type": "code",
   "execution_count": 1,
   "metadata": {
    "collapsed": true
   },
   "outputs": [],
   "source": [
    "%display typeset"
   ]
  },
  {
   "cell_type": "code",
   "execution_count": 2,
   "metadata": {
    "collapsed": true
   },
   "outputs": [],
   "source": [
    "from polyhedron_tools.polygons import random_polygon_2d\n",
    "\n",
    "from polyhedron_tools.misc import BoxInfty\n",
    "\n",
    "from polyhedron_tools.asphericity import asphericity_polytope, circumradius, inradius"
   ]
  },
  {
   "cell_type": "code",
   "execution_count": 17,
   "metadata": {
    "collapsed": true
   },
   "outputs": [],
   "source": [
    "# create a random polygon with 10 vertices\n",
    "P = random_polygon_2d(10)"
   ]
  },
  {
   "cell_type": "markdown",
   "metadata": {},
   "source": [
    "The algorithm requires an initial interior point $x_0$. We use as starting point the [Chebyshev center](https://en.wikipedia.org/wiki/Chebyshev_center) of the polytope."
   ]
  },
  {
   "cell_type": "code",
   "execution_count": 20,
   "metadata": {
    "collapsed": false
   },
   "outputs": [],
   "source": [
    "from polyhedron_tools.misc import chebyshev_center\n",
    "\n",
    "x0 = chebyshev_center(P)"
   ]
  },
  {
   "cell_type": "code",
   "execution_count": 21,
   "metadata": {
    "collapsed": false
   },
   "outputs": [
    {
     "data": {
      "image/png": "[encoded data removed]",
      "text/plain": [
       "Graphics object consisting of 13 graphics primitives"
      ]
     },
     "execution_count": 21,
     "metadata": {},
     "output_type": "execute_result"
    }
   ],
   "source": [
    "P.plot(alpha=0.2, color='green') + point(x0)"
   ]
  },
  {
   "cell_type": "markdown",
   "metadata": {},
   "source": [
    "Next, we compute the asphericity and the corresponding center:"
   ]
  },
  {
   "cell_type": "code",
   "execution_count": 22,
   "metadata": {
    "collapsed": false
   },
   "outputs": [
    {
     "name": "stdout",
     "output_type": "stream",
     "text": [
      "The asphericity of P is :  1.41264318049 , with center of asphericity  (0.02206986652707576, -0.06248306721074004)\n"
     ]
    }
   ],
   "source": [
    "# compute asphericity\n",
    "[asph, x_asph] = asphericity_polytope(P)\n",
    "print 'The asphericity of P is : ', asph, ', with center of asphericity ', x_asph"
   ]
  },
  {
   "cell_type": "markdown",
   "metadata": {},
   "source": [
    "We plot the inner and outer boxes with respect to the asphericity center."
   ]
  },
  {
   "cell_type": "code",
   "execution_count": 24,
   "metadata": {
    "collapsed": false
   },
   "outputs": [
    {
     "data": {
      "image/png": "[encoded data removed]",
      "text/plain": [
       "Graphics object consisting of 23 graphics primitives"
      ]
     },
     "execution_count": 24,
     "metadata": {},
     "output_type": "execute_result"
    }
   ],
   "source": [
    "# add the initial set P together with the optimal point\n",
    "examplePlot = P.plot(alpha=0.2,color='green') + point(x_asph, size=100,color='black',marker='x')\n",
    "\n",
    "# add smallest box with center x_asph that contains P\n",
    "examplePlot += BoxInfty(center=x_asph, radius=circumradius(P, x_asph)).plot(wireframe='red',fill=False)\n",
    "\n",
    "# add biggest box with center x_asph that is contained in P\n",
    "examplePlot += BoxInfty(center=x_asph, radius=inradius(P, x_asph)).plot(wireframe='red',fill=False)\n",
    "\n",
    "examplePlot"
   ]
  },
  {
   "cell_type": "markdown",
   "metadata": {},
   "source": [
    "#### Multi-dimensional case"
   ]
  },
  {
   "cell_type": "markdown",
   "metadata": {},
   "source": [
    "The multidimensional case can be handled similarly, here are some examples."
   ]
  },
  {
   "cell_type": "code",
   "execution_count": 47,
   "metadata": {
    "collapsed": true
   },
   "outputs": [],
   "source": [
    "P = polytopes.hypercube(6)"
   ]
  },
  {
   "cell_type": "code",
   "execution_count": 48,
   "metadata": {
    "collapsed": false
   },
   "outputs": [
    {
     "data": {
      "text/html": [
       "<html><script type=\"math/tex; mode=display\">\\newcommand{\\Bold}[1]{\\mathbf{#1}}\\left[16.3214285714, \\left(0.0,\\,0.0,\\,0.0,\\,0.0,\\,0.0,\\,0.0\\right)\\right]</script></html>"
      ],
      "text/plain": [
       "[16.321428571428573, (0.0, 0.0, 0.0, 0.0, 0.0, 0.0)]"
      ]
     },
     "execution_count": 48,
     "metadata": {},
     "output_type": "execute_result"
    }
   ],
   "source": [
    "asphericity_polytope(random_matrix(QQ, 6) * P)"
   ]
  },
  {
   "cell_type": "code",
   "execution_count": 31,
   "metadata": {
    "collapsed": true
   },
   "outputs": [],
   "source": [
    "P = polytopes.octahedron()"
   ]
  },
  {
   "cell_type": "code",
   "execution_count": 33,
   "metadata": {
    "collapsed": false
   },
   "outputs": [
    {
     "data": {
      "text/html": [
       "<html><script type=\"math/tex; mode=display\">\\newcommand{\\Bold}[1]{\\mathbf{#1}}\\left[3.0, \\left(0.0,\\,0.0,\\,0.0\\right)\\right]</script></html>"
      ],
      "text/plain": [
       "[3.0, (0.0, 0.0, 0.0)]"
      ]
     },
     "execution_count": 33,
     "metadata": {},
     "output_type": "execute_result"
    }
   ],
   "source": [
    "asphericity_polytope(P)"
   ]
  }
 ],
 "metadata": {
  "kernelspec": {
   "display_name": "SageMath 7.5.1",
   "language": "",
   "name": "sagemath"
  },
  "language_info": {
   "codemirror_mode": {
    "name": "ipython",
    "version": 2
   },
   "file_extension": ".py",
   "mimetype": "text/x-python",
   "name": "python",
   "nbconvert_exporter": "python",
   "pygments_lexer": "ipython2",
   "version": "2.7.13"
  }
 },
 "nbformat": 4,
 "nbformat_minor": 0
}
