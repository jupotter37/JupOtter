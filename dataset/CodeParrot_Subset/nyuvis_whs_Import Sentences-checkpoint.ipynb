{
 "cells": [
  {
   "cell_type": "code",
   "execution_count": 10,
   "metadata": {
    "collapsed": false
   },
   "outputs": [
    {
     "name": "stdout",
     "output_type": "stream",
     "text": [
      "done\n"
     ]
    }
   ],
   "source": [
    "import urllib.request\n",
    "import pprint\n",
    "import json\n",
    "import re\n",
    "from openpyxl import load_workbook\n",
    "from elasticsearch import Elasticsearch\n",
    "es = Elasticsearch(port=9500)\n",
    "sentenceSplit = re.compile('(Pg\\. ([0-9]{1,3})\\/([0-9]{1,3})): ((.|.\\n)*(\\n\\n|$))')\n",
    "\n",
    "data = load_workbook('WHSDATA.xlsx')['Sheet1']\n",
    "pp = pprint.PrettyPrinter(indent=4)\n",
    "skip = True\n",
    "documents = []\n",
    "count = 0;\n",
    "#target = open(\"WHS.json\", 'w')\n",
    "for cell in data.rows:\n",
    "    if(skip):\n",
    "        skip = False\n",
    "        continue\n",
    "    doc = dict()\n",
    "    doc['Name'] = urllib.request.unquote(cell[0].value)\n",
    "    \n",
    "    texts = list()\n",
    "    \n",
    "    for i in range(1, 69):\n",
    "        if len(cell[i].value) > 10:\n",
    "            texts.append({'text': cell[i].value, 'type': data.columns[i][0].value })\n",
    "    \n",
    "    for i in range(70, 148):\n",
    "        header = data.columns[i][0].value\n",
    "        field = str.split(header, \":\")\n",
    "        title = field[0]\n",
    "        if cell[i].value is not None:\n",
    "            value = True if len(field) == 1 else field[1].strip()\n",
    "            doc[title] = value\n",
    "        else:\n",
    "            if len(field) == 1:\n",
    "                value = False\n",
    "                doc[title] = value\n",
    "    for text in texts:\n",
    "        doc['text'] = text['text']\n",
    "        doc['type'] = text['type']\n",
    "        #es.index(index=\"whs2\", doc_type='document', body=doc)\n",
    "        for sent in re.findall(sentenceSplit, text['text']):\n",
    "            doc['page'] = int(sent[1])\n",
    "            doc['total'] = int(sent[2])\n",
    "            doc['text'] = sent[3]\n",
    "            es.index(index=\"whs3\", doc_type='document', body=doc)\n",
    "    print(doc[\"name\"], len(texts));\n",
    "#json.dump(documents, target)\n",
    "print(\"done\")"
   ]
  },
  {
   "cell_type": "code",
   "execution_count": null,
   "metadata": {
    "collapsed": true
   },
   "outputs": [],
   "source": []
  }
 ],
 "metadata": {
  "kernelspec": {
   "display_name": "Python 3",
   "language": "python",
   "name": "python3"
  },
  "language_info": {
   "codemirror_mode": {
    "name": "ipython",
    "version": 3
   },
   "file_extension": ".py",
   "mimetype": "text/x-python",
   "name": "python",
   "nbconvert_exporter": "python",
   "pygments_lexer": "ipython3",
   "version": "3.4.3"
  }
 },
 "nbformat": 4,
 "nbformat_minor": 0
}
