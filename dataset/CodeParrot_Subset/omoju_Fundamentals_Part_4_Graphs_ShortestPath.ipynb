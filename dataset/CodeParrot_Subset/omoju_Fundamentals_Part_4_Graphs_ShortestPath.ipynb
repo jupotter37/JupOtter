{
 "cells": [
  {
   "cell_type": "code",
   "execution_count": null,
   "metadata": {
    "collapsed": true
   },
   "outputs": [],
   "source": [
    "from IPython.display import display\n",
    "from IPython.display import HTML\n",
    "import IPython.core.display as di # Example: di.display_html('<h3>%s:</h3>' % str, raw=True)\n",
    "\n",
    "# This line will hide code by default when the notebook is exported as HTML\n",
    "di.display_html('<script>jQuery(function() {if (jQuery(\"body.notebook_app\").length == 0) { jQuery(\".input_area\").toggle(); jQuery(\".prompt\").toggle();}});</script>', raw=True)\n",
    "\n",
    "# This line will add a button to toggle visibility of code blocks, for use with the HTML export version\n",
    "di.display_html('''<button onclick=\"jQuery('.input_area').toggle(); jQuery('.prompt').toggle();\">Toggle code</button>''', raw=True)\n"
   ]
  },
  {
   "cell_type": "markdown",
   "metadata": {},
   "source": [
    "## Unique Shortest Path\n",
    "\n",
    "Shortest paths are not always unique: sometimes there are two or more different paths with the minimum possible length. Show how to solve the following problem in $O((|V| + |E|)\\log|V|)$ time.\n",
    "\n",
    "*Input*: An undirected graph $G = (V, E)$; edge lengths $l_e > 0$; starting vertex $s \\in V$.\n",
    "\n",
    "*Output*: A Boolean array `usp[.]`: for each node $u$, the entry `usp[u]` should be true if and only if there is a  *unique* shortest path from $s$ to $u$. (Note: `usp[s]` = true.)"
   ]
  },
  {
   "cell_type": "markdown",
   "metadata": {},
   "source": [
    "## Solution Explanation\n",
    "This can be done by slightly modifying Dijkstra's algorithm. The array `usp[.]` is initialized\n",
    "to true in the initialization loop. The main loop is modified as follows:\n",
    "<img src=\"hw4.png\" alt=\"img text\" width = 400/>\n",
    "\n"
   ]
  },
  {
   "cell_type": "markdown",
   "metadata": {},
   "source": [
    "This will run in the required time when the heap is implemented as a binary heap.\n",
    "\n",
    "*Correctness:* By Djikstra's proof of correctness, this algorithm will identify the shortest paths from the source $u$ to the other vertices. For uniqueness, we consider some vertex $v$. If there are multiple shortest paths, then they either all share the same final edge $(w, v)$ (for some vertex $w$), or they have different final edges. In the former case, there must be multiple shortest paths from $u$ to $w$. This will be detected in the first conditional statement when the algorithm explores from $w$ and updates the distance to $v$ by taking edge $(w, v)$. In the latter case, the algorithm will detect the existence of multiple shortest paths with the second conditional statement by testing for equality of two distances."
   ]
  },
  {
   "cell_type": "code",
   "execution_count": null,
   "metadata": {
    "collapsed": false
   },
   "outputs": [],
   "source": []
  }
 ],
 "metadata": {
  "anaconda-cloud": {},
  "kernelspec": {
   "display_name": "Python [default]",
   "language": "python",
   "name": "python2"
  },
  "language_info": {
   "codemirror_mode": {
    "name": "ipython",
    "version": 2
   },
   "file_extension": ".py",
   "mimetype": "text/x-python",
   "name": "python",
   "nbconvert_exporter": "python",
   "pygments_lexer": "ipython2",
   "version": "2.7.13"
  }
 },
 "nbformat": 4,
 "nbformat_minor": 0
}
