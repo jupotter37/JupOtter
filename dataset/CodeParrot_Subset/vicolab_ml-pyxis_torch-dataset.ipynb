{
 "cells": [
  {
   "cell_type": "markdown",
   "metadata": {},
   "source": [
    "# PyTorch dataset interface"
   ]
  },
  {
   "cell_type": "markdown",
   "metadata": {},
   "source": [
    "In this example we will look at how a `pyxis` LMDB can be used with PyTorch's `torch.utils.data.Dataset` and `torch.utils.data.DataLoader`."
   ]
  },
  {
   "cell_type": "code",
   "execution_count": 1,
   "metadata": {},
   "outputs": [],
   "source": [
    "from __future__ import print_function\n",
    "\n",
    "import numpy as np\n",
    "\n",
    "import pyxis as px"
   ]
  },
  {
   "cell_type": "markdown",
   "metadata": {},
   "source": [
    "As usual, we will begin by creating a small dataset to test with. It will consist of `10` samples, where each input observation has four features and targets are scalar values."
   ]
  },
  {
   "cell_type": "code",
   "execution_count": 2,
   "metadata": {},
   "outputs": [
    {
     "name": "stdout",
     "output_type": "stream",
     "text": [
      "Input: [1 2 3 4] -> Target: 0\n",
      "Input: [2 4 6 8] -> Target: 1\n",
      "Input: [ 3  6  9 12] -> Target: 2\n",
      "Input: [ 4  8 12 16] -> Target: 3\n",
      "Input: [ 5 10 15 20] -> Target: 4\n",
      "Input: [ 6 12 18 24] -> Target: 5\n",
      "Input: [ 7 14 21 28] -> Target: 6\n",
      "Input: [ 8 16 24 32] -> Target: 7\n",
      "Input: [ 9 18 27 36] -> Target: 8\n",
      "Input: [10 20 30 40] -> Target: 9\n"
     ]
    }
   ],
   "source": [
    "nb_samples = 10\n",
    "\n",
    "X = np.outer(np.arange(1, nb_samples + 1, dtype=np.uint8), np.arange(1, 4 + 1, dtype=np.uint8))\n",
    "y = np.arange(nb_samples, dtype=np.uint8)\n",
    "\n",
    "for i in range(nb_samples):\n",
    "    print('Input: {} -> Target: {}'.format(X[i], y[i]))"
   ]
  },
  {
   "cell_type": "markdown",
   "metadata": {},
   "source": [
    "The data is written using a `with` statement."
   ]
  },
  {
   "cell_type": "code",
   "execution_count": 3,
   "metadata": {},
   "outputs": [],
   "source": [
    "with px.Writer(dirpath='data', map_size_limit=10, ram_gb_limit=1) as db:\n",
    "    db.put_samples('input', X, 'target', y)"
   ]
  },
  {
   "cell_type": "markdown",
   "metadata": {},
   "source": [
    "To be sure the data was stored correctly, we will read the data back - again using a `with` statement."
   ]
  },
  {
   "cell_type": "code",
   "execution_count": 4,
   "metadata": {},
   "outputs": [
    {
     "name": "stdout",
     "output_type": "stream",
     "text": [
      "pyxis.Reader\n",
      "Location:\t\t'data'\n",
      "Number of samples:\t10\n",
      "Data keys (0th sample):\n",
      "\t'input' <- dtype: uint8, shape: (4,)\n",
      "\t'target' <- dtype: uint8, shape: ()\n"
     ]
    }
   ],
   "source": [
    "with px.Reader('data') as db:\n",
    "    print(db)"
   ]
  },
  {
   "cell_type": "markdown",
   "metadata": {},
   "source": [
    "## Working with PyTorch"
   ]
  },
  {
   "cell_type": "code",
   "execution_count": 5,
   "metadata": {},
   "outputs": [],
   "source": [
    "try:\n",
    "    import torch\n",
    "    import torch.utils.data\n",
    "except ImportError:\n",
    "    raise ImportError('Could not import the PyTorch library `torch` or '\n",
    "                      '`torch.utils.data`. Please refer to '\n",
    "                      'https://pytorch.org/ for installation instructions.')"
   ]
  },
  {
   "cell_type": "markdown",
   "metadata": {},
   "source": [
    "In `pyxis.torch` we have implemented a wrapper around `torch.utils.data.Dataset` called `pyxis.torch.TorchDataset`. This object is not imported into the `pyxis` name space because it relies on PyTorch being installed. As such, we first need to import `pyxis.torch`:"
   ]
  },
  {
   "cell_type": "code",
   "execution_count": 6,
   "metadata": {},
   "outputs": [],
   "source": [
    "import pyxis.torch as pxt"
   ]
  },
  {
   "cell_type": "markdown",
   "metadata": {},
   "source": [
    "`pyxis.torch.TorchDataset` has a single constructor argument: `dirpath`, i.e. the location of the `pyxis` LMDB."
   ]
  },
  {
   "cell_type": "code",
   "execution_count": 7,
   "metadata": {},
   "outputs": [],
   "source": [
    "dataset = pxt.TorchDataset('data')"
   ]
  },
  {
   "cell_type": "markdown",
   "metadata": {},
   "source": [
    "The `pyxis.torch.TorchDataset` object has only three methods: `__len__`, `__getitem__`, and `__repr__`, each of which you can see an example of below:"
   ]
  },
  {
   "cell_type": "code",
   "execution_count": 8,
   "metadata": {},
   "outputs": [
    {
     "data": {
      "text/plain": [
       "10"
      ]
     },
     "execution_count": 8,
     "metadata": {},
     "output_type": "execute_result"
    }
   ],
   "source": [
    "len(dataset)"
   ]
  },
  {
   "cell_type": "code",
   "execution_count": 9,
   "metadata": {},
   "outputs": [
    {
     "data": {
      "text/plain": [
       "{'input': tensor([ 1,  2,  3,  4], dtype=torch.uint8),\n",
       " 'target': tensor(0, dtype=torch.uint8)}"
      ]
     },
     "execution_count": 9,
     "metadata": {},
     "output_type": "execute_result"
    }
   ],
   "source": [
    "dataset[0]"
   ]
  },
  {
   "cell_type": "code",
   "execution_count": 10,
   "metadata": {},
   "outputs": [
    {
     "data": {
      "text/plain": [
       "pyxis.Reader\n",
       "Location:\t\t'data'\n",
       "Number of samples:\t10\n",
       "Data keys (0th sample):\n",
       "\t'input' <- dtype: uint8, shape: (4,)\n",
       "\t'target' <- dtype: uint8, shape: ()"
      ]
     },
     "execution_count": 10,
     "metadata": {},
     "output_type": "execute_result"
    }
   ],
   "source": [
    "dataset"
   ]
  },
  {
   "cell_type": "markdown",
   "metadata": {},
   "source": [
    "`pyxis.torch.TorchDataset` can be directly combined with `torch.utils.data.DataLoader` to create an iterator type object:"
   ]
  },
  {
   "cell_type": "code",
   "execution_count": 11,
   "metadata": {},
   "outputs": [
    {
     "name": "stdout",
     "output_type": "stream",
     "text": [
      "Batch: 0\n",
      "\t tensor([[ 1,  2,  3,  4],\n",
      "        [ 2,  4,  6,  8]], dtype=torch.uint8)\n",
      "\t tensor([ 0,  1], dtype=torch.uint8)\n",
      "Batch: 1\n",
      "\t tensor([[  3,   6,   9,  12],\n",
      "        [  4,   8,  12,  16]], dtype=torch.uint8)\n",
      "\t tensor([ 2,  3], dtype=torch.uint8)\n",
      "Batch: 2\n",
      "\t tensor([[  5,  10,  15,  20],\n",
      "        [  6,  12,  18,  24]], dtype=torch.uint8)\n",
      "\t tensor([ 4,  5], dtype=torch.uint8)\n",
      "Batch: 3\n",
      "\t tensor([[  7,  14,  21,  28],\n",
      "        [  8,  16,  24,  32]], dtype=torch.uint8)\n",
      "\t tensor([ 6,  7], dtype=torch.uint8)\n",
      "Batch: 4\n",
      "\t tensor([[  9,  18,  27,  36],\n",
      "        [ 10,  20,  30,  40]], dtype=torch.uint8)\n",
      "\t tensor([ 8,  9], dtype=torch.uint8)\n"
     ]
    }
   ],
   "source": [
    "use_cuda = True and torch.cuda.is_available()\n",
    "kwargs = {\"num_workers\": 4, \"pin_memory\": True} if use_cuda else {}\n",
    "\n",
    "loader = torch.utils.data.DataLoader(dataset, batch_size=2, shuffle=False, **kwargs)\n",
    "\n",
    "for i, d in enumerate(loader):\n",
    "    print('Batch:', i)\n",
    "    print('\\t', d['input'])\n",
    "    print('\\t', d['target'])"
   ]
  },
  {
   "cell_type": "markdown",
   "metadata": {},
   "source": [
    "As with the built-in iterators in `pyxis.iterators`, we recommend you inherit from `pyxis.torch.TorchDataset` and alter `__getitem__` to include your own data transformations."
   ]
  }
 ],
 "metadata": {
  "anaconda-cloud": {},
  "kernelspec": {
   "display_name": "Python 3",
   "language": "python",
   "name": "python3"
  },
  "language_info": {
   "codemirror_mode": {
    "name": "ipython",
    "version": 3
   },
   "file_extension": ".py",
   "mimetype": "text/x-python",
   "name": "python",
   "nbconvert_exporter": "python",
   "pygments_lexer": "ipython3",
   "version": "3.6.5"
  }
 },
 "nbformat": 4,
 "nbformat_minor": 1
}
