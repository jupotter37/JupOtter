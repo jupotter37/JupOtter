{
 "cells": [
  {
   "cell_type": "markdown",
   "metadata": {},
   "source": [
    "# Exemplo de modelagem\n",
    "\n",
    "Esse exemplo simula uma aplicação de colégio com duas coleções:\n",
    "\n",
    "1. Coleção de Alunos (cadastro básico)\n",
    "2. Coleção de Livros (alguns títulos de exemplo)\n",
    "\n",
    "O objetivo é:\n",
    "\n",
    "  * Analisar melhor modelagem para alunos que querem alugar livros\n",
    "  * Verificar quais livros foram alugados\n",
    "  * Gerar histórico de alugueis de livros\n",
    "  "
   ]
  },
  {
   "cell_type": "code",
   "execution_count": null,
   "metadata": {
    "collapsed": true
   },
   "outputs": [],
   "source": []
  }
 ],
 "metadata": {
  "kernelspec": {
   "display_name": "Python 2",
   "language": "python",
   "name": "python2"
  },
  "language_info": {
   "codemirror_mode": {
    "name": "ipython",
    "version": 2
   },
   "file_extension": ".py",
   "mimetype": "text/x-python",
   "name": "python",
   "nbconvert_exporter": "python",
   "pygments_lexer": "ipython2",
   "version": "2.7.10"
  }
 },
 "nbformat": 4,
 "nbformat_minor": 0
}
