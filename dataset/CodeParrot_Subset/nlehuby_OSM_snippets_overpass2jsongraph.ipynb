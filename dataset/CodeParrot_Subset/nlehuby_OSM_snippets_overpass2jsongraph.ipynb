{
 "cells": [
  {
   "cell_type": "markdown",
   "metadata": {},
   "source": [
    "# Extraction de parcours de bus OSM en JsonGraph"
   ]
  },
  {
   "cell_type": "code",
   "execution_count": 1,
   "metadata": {
    "collapsed": true
   },
   "outputs": [],
   "source": [
    "import requests\n",
    "import json"
   ]
  },
  {
   "cell_type": "code",
   "execution_count": 2,
   "metadata": {
    "collapsed": true
   },
   "outputs": [],
   "source": [
    "lines_metadata = {}\n",
    "stops_by_lines = {}\n",
    "stops = []"
   ]
  },
  {
   "cell_type": "code",
   "execution_count": 3,
   "metadata": {
    "collapsed": true
   },
   "outputs": [],
   "source": [
    "network = \"RTUD\"\n",
    "operator = \"RTUD\"\n",
    "overpass_base_url = \"http://overpass-api.de/api/interpreter?data=\"\n",
    "\n",
    "overpass_query_lines = \"\"\"\n",
    "    [out:json];\n",
    "    (relation[\"type\"=\"route\"][\"network\"=\"{}\"][\"operator\"=\"{}\"];)->.a;\n",
    "    relation(br)[\"type\"=\"route_master\"];\n",
    "    out meta;\"\"\".format(network, operator)\n",
    "\n",
    "get_lines = requests.get(overpass_base_url + overpass_query_lines)\n",
    "if not get_lines.status_code == 200 :\n",
    "    print (\"erreur à l'appel d'Overpass pour récupérer les lignes\")\n",
    "    exit\n",
    "    \n",
    "lines = get_lines.json()['elements']"
   ]
  },
  {
   "cell_type": "code",
   "execution_count": 4,
   "metadata": {
    "collapsed": true
   },
   "outputs": [],
   "source": [
    "routes_id = {}\n",
    "\n",
    "for a_line in lines :\n",
    "    lines_metadata[a_line['id']]=a_line['tags']\n",
    "    routes_id[a_line['id']] = a_line[\"members\"][0]['ref'] #for now, we only inspect one route of each line    "
   ]
  },
  {
   "cell_type": "code",
   "execution_count": 5,
   "metadata": {},
   "outputs": [
    {
     "name": "stdout",
     "output_type": "stream",
     "text": [
      "{6941657: [], 6932554: [4822825493, 4822825492, 4822825491, 4822825490, 4822825486, 4822825484, 4822825482, 4822825481, 4822825480, 4822825479, 4822825478, 4822825628, 4822825477, 4822825475, 4822825474, 4822825473, 4822825471, 4822825470, 4822825467, 4822825466, 2155045951, 4430659470, 4822825476, 4822825495], 6937875: [5300752876, 5300752879, 5300752877, 4822825473, 4822825626, 4822825458, 4822825508, 4822825456], 6937499: [], 7835159: [4822825456, 5300791450, 5300791451, 4822825483, 4822825485, 4822825489, 4822825454, 4822825493, 4822825490, 4822825480]}\n",
      "[{'id': 4822825456, 'tags': {'bench': 'yes', 'bus': 'yes', 'wheelchair': 'yes', 'name': 'Charles de Gaulle', 'public_transport': 'platform', 'shelter': 'yes', 'highway': 'bus_stop'}, 'lat': 44.0931619, 'lon': 6.2355234, 'type': 'node'}, {'id': 4822825458, 'tags': {'public_transport': 'platform', 'bus': 'yes', 'wheelchair': 'yes', 'highway': 'bus_stop', 'name': 'Rond-Point du 4 Septembre 1970'}, 'lat': 44.0893608, 'lon': 6.2270895, 'type': 'node'}, {'id': 4822825473, 'tags': {'wheelchair': 'yes', 'bus': 'yes', 'highway': 'bus_stop', 'public_transport': 'platform', 'survey:date': '2017-07-26', 'shelter': 'yes', 'name': 'Georges Pompidou'}, 'lat': 44.085788, 'lon': 6.215886, 'type': 'node'}, {'id': 4822825508, 'tags': {'wheelchair': 'yes', 'bus': 'yes', 'highway': 'bus_stop', 'public_transport': 'platform', 'tactile_paving': 'yes', 'shelter': 'no', 'name': 'Pierre Gassendi'}, 'lat': 44.0903636, 'lon': 6.2308899, 'type': 'node'}, {'id': 4822825626, 'tags': {'public_transport': 'platform', 'bus': 'yes', 'wheelchair': 'yes', 'highway': 'bus_stop', 'name': 'Les Arcades'}, 'lat': 44.0879891, 'lon': 6.2208534, 'type': 'node'}, {'id': 5300752876, 'tags': {'public_transport': 'platform', 'bus': 'yes', 'highway': 'bus_stop', 'name': 'Le Moulin'}, 'lat': 44.0803118, 'lon': 6.208642, 'type': 'node'}, {'id': 5300752877, 'tags': {'public_transport': 'platform', 'bus': 'yes', 'wheelchair': 'yes', 'highway': 'bus_stop', 'name': 'Chemin du Marquis'}, 'lat': 44.0819127, 'lon': 6.2153388, 'type': 'node'}, {'id': 5300752879, 'tags': {'public_transport': 'platform', 'bus': 'yes', 'wheelchair': 'yes', 'highway': 'bus_stop', 'name': 'Chemin du Moulin'}, 'lat': 44.080952, 'lon': 6.2114053, 'type': 'node'}, {'id': 2155045951, 'tags': {'wheelchair': 'yes', 'bus': 'yes', 'name': 'Lycée Pierre-Gilles de Gennes', 'public_transport': 'platform', 'survey:date': '2017-06-29', 'highway': 'bus_stop', 'network': 'TUD'}, 'lat': 44.0727314, 'lon': 6.1808373, 'type': 'node'}, {'id': 4430659470, 'tags': {'bench': 'yes', 'bus': 'yes', 'wheelchair': 'yes', 'name': 'Digne-les-Bains - Centre Hospitalier', 'public_transport': 'platform', 'shelter': 'yes', 'highway': 'bus_stop', 'network': 'TUD'}, 'lat': 44.0704794, 'lon': 6.1779864, 'type': 'node'}, {'id': 4822825466, 'tags': {'public_transport': 'platform', 'bus': 'yes', 'highway': 'bus_stop', 'network': 'TUD/LER', 'name': 'Digne-les-Bains - Centre Technique'}, 'lat': 44.0764315, 'lon': 6.1854896, 'type': 'node'}, {'id': 4822825467, 'tags': {'wheelchair': 'yes', 'bus': 'yes', 'name': 'Centre Commercial', 'public_transport': 'platform', 'highway': 'bus_stop', 'network': 'TUD'}, 'lat': 44.0765987, 'lon': 6.1882807, 'type': 'node'}, {'id': 4822825470, 'tags': {'public_transport': 'platform', 'bus': 'yes', 'wheelchair': 'yes', 'highway': 'bus_stop', 'name': 'Les Alpilles'}, 'lat': 44.0838055, 'lon': 6.2049399, 'type': 'node'}, {'id': 4822825471, 'tags': {'bench': 'yes', 'bus': 'yes', 'wheelchair': 'yes', 'name': 'Les Baumelles', 'public_transport': 'platform', 'shelter': 'yes', 'highway': 'bus_stop', 'network': 'RTUD'}, 'lat': 44.0850029, 'lon': 6.2086473, 'type': 'node'}, {'id': 4822825473, 'tags': {'wheelchair': 'yes', 'bus': 'yes', 'highway': 'bus_stop', 'public_transport': 'platform', 'survey:date': '2017-07-26', 'shelter': 'yes', 'name': 'Georges Pompidou'}, 'lat': 44.085788, 'lon': 6.215886, 'type': 'node'}, {'id': 4822825474, 'tags': {'public_transport': 'platform', 'bus': 'yes', 'wheelchair': 'yes', 'highway': 'bus_stop', 'name': 'Centre de Secours'}, 'lat': 44.0835314, 'lon': 6.217903, 'type': 'node'}, {'id': 4822825475, 'tags': {'public_transport': 'platform', 'bus': 'yes', 'wheelchair': 'yes', 'highway': 'bus_stop', 'name': 'La Sèbe'}, 'lat': 44.0862439, 'lon': 6.2233432, 'type': 'node'}, {'id': 4822825476, 'tags': {'wheelchair': 'yes', 'bus': 'yes', 'name': 'La Paix', 'public_transport': 'platform', 'highway': 'bus_stop', 'network': 'RTUD'}, 'lat': 44.0740949, 'lon': 6.1773745, 'type': 'node'}, {'id': 4822825477, 'tags': {'wheelchair': 'yes', 'bus': 'yes', 'name': 'Rond-Point du 4 Septembre 1970', 'public_transport': 'platform', 'highway': 'bus_stop', 'network': 'TUD'}, 'lat': 44.0890233, 'lon': 6.2258232, 'type': 'node'}, {'id': 4822825478, 'tags': {'bench': 'yes', 'bus': 'yes', 'name': 'Digne − Gare Routière', 'public_transport': 'platform', 'wheelchair': 'yes', 'highway': 'bus_stop'}, 'lat': 44.0915068, 'lon': 6.2310985, 'type': 'node'}, {'id': 4822825479, 'tags': {'wheelchair': 'yes', 'bus': 'yes', 'highway': 'bus_stop', 'public_transport': 'platform', 'tactile_paving': 'no', 'name': 'Tampinet'}, 'lat': 44.092178, 'lon': 6.2310304, 'type': 'node'}, {'id': 4822825480, 'tags': {'public_transport': 'platform', 'bus': 'yes', 'wheelchair': 'limited', 'highway': 'bus_stop', 'name': 'Hôtel de Ville'}, 'lat': 44.0931829, 'lon': 6.2352823, 'type': 'node'}, {'id': 4822825481, 'tags': {'public_transport': 'platform', 'bus': 'yes', 'wheelchair': 'yes', 'highway': 'bus_stop', 'name': 'Maria Borrély'}, 'lat': 44.0940213, 'lon': 6.237241, 'type': 'node'}, {'id': 4822825482, 'tags': {'public_transport': 'platform', 'bus': 'yes', 'wheelchair': 'yes', 'highway': 'bus_stop', 'name': 'Chemin du Bourg'}, 'lat': 44.0955672, 'lon': 6.2414541, 'type': 'node'}, {'id': 4822825484, 'tags': {'public_transport': 'platform', 'bus': 'yes', 'wheelchair': 'yes', 'highway': 'bus_stop', 'name': 'Notre-Dame du Bourg / Crypte'}, 'lat': 44.0967365, 'lon': 6.2422869, 'type': 'node'}, {'id': 4822825486, 'tags': {'public_transport': 'platform', 'bus': 'yes', 'highway': 'bus_stop', 'name': 'Parc Mexico'}, 'lat': 44.0960616, 'lon': 6.2377694, 'type': 'node'}, {'id': 4822825490, 'tags': {'public_transport': 'platform', 'bus': 'yes', 'wheelchair': 'yes', 'highway': 'bus_stop', 'name': 'Alphonse Richard'}, 'lat': 44.0956019, 'lon': 6.2349612, 'type': 'node'}, {'id': 4822825491, 'tags': {'public_transport': 'platform', 'bus': 'yes', 'highway': 'bus_stop', 'name': 'Victor Hugo'}, 'lat': 44.1001762, 'lon': 6.2315132, 'type': 'node'}, {'id': 4822825492, 'tags': {'bus': 'yes', 'highway': 'bus_stop', 'public_transport': 'platform'}, 'lat': 44.1021481, 'lon': 6.231131, 'type': 'node'}, {'id': 4822825493, 'tags': {'public_transport': 'platform', 'bus': 'yes', 'wheelchair': 'yes', 'highway': 'bus_stop', 'name': 'Novellini/A. David-Neel'}, 'lat': 44.1015965, 'lon': 6.2336918, 'type': 'node'}, {'id': 4822825495, 'tags': {'public_transport': 'platform', 'bus': 'yes', 'wheelchair': 'yes', 'highway': 'bus_stop', 'name': 'Les Augiers'}, 'lat': 44.0805642, 'lon': 6.17436, 'type': 'node'}, {'id': 4822825628, 'tags': {'wheelchair': 'yes', 'bus': 'yes', 'highway': 'bus_stop', 'public_transport': 'platform', 'survey:date': '2017-08-28', 'tactile_paving': 'no', 'shelter': 'no', 'name': 'La Gineste'}, 'lat': 44.0910711, 'lon': 6.2286063, 'type': 'node'}, {'id': 4822825454, 'tags': {'public_transport': 'platform', 'bus': 'yes', 'wheelchair': 'yes', 'highway': 'bus_stop', 'name': 'Novellini/A. David-Neel'}, 'lat': 44.1015455, 'lon': 6.2335912, 'type': 'node'}, {'id': 4822825456, 'tags': {'bench': 'yes', 'bus': 'yes', 'wheelchair': 'yes', 'name': 'Charles de Gaulle', 'public_transport': 'platform', 'shelter': 'yes', 'highway': 'bus_stop'}, 'lat': 44.0931619, 'lon': 6.2355234, 'type': 'node'}, {'id': 4822825480, 'tags': {'public_transport': 'platform', 'bus': 'yes', 'wheelchair': 'limited', 'highway': 'bus_stop', 'name': 'Hôtel de Ville'}, 'lat': 44.0931829, 'lon': 6.2352823, 'type': 'node'}, {'id': 4822825483, 'tags': {'public_transport': 'platform', 'bus': 'yes', 'wheelchair': 'yes', 'highway': 'bus_stop', 'name': 'Notre-Dame du Bourg / Crypte'}, 'lat': 44.0969397, 'lon': 6.2422179, 'type': 'node'}, {'id': 4822825485, 'tags': {'public_transport': 'platform', 'bus': 'yes', 'highway': 'bus_stop', 'name': 'Parc Mexico'}, 'lat': 44.0960914, 'lon': 6.2376186, 'type': 'node'}, {'id': 4822825489, 'tags': {'public_transport': 'platform', 'bus': 'yes', 'wheelchair': 'yes', 'highway': 'bus_stop', 'name': 'Alphonse Richard'}, 'lat': 44.0957743, 'lon': 6.2349819, 'type': 'node'}, {'id': 4822825490, 'tags': {'public_transport': 'platform', 'bus': 'yes', 'wheelchair': 'yes', 'highway': 'bus_stop', 'name': 'Alphonse Richard'}, 'lat': 44.0956019, 'lon': 6.2349612, 'type': 'node'}, {'id': 4822825493, 'tags': {'public_transport': 'platform', 'bus': 'yes', 'wheelchair': 'yes', 'highway': 'bus_stop', 'name': 'Novellini/A. David-Neel'}, 'lat': 44.1015965, 'lon': 6.2336918, 'type': 'node'}, {'id': 5300791450, 'tags': {'public_transport': 'platform', 'bus': 'yes', 'highway': 'bus_stop', 'name': 'Camping Tennis'}, 'lat': 44.100299, 'lon': 6.2495296, 'type': 'node'}, {'id': 5300791451, 'tags': {'bench': 'yes', 'bus': 'yes', 'wheelchair': 'yes', 'name': 'Les Truyas', 'public_transport': 'platform', 'shelter': 'yes', 'highway': 'bus_stop'}, 'lat': 44.1028367, 'lon': 6.2527958, 'type': 'node'}]\n"
     ]
    }
   ],
   "source": [
    "def get_overpass_query_for_stops(route_id):\n",
    "    return \"\"\" [out:json];relation({});(._;>;);out;\"\"\".format(route_id)\n",
    "\n",
    "\n",
    "for a_line_id, a_route_id in routes_id.items() :\n",
    "    get_route = requests.get(overpass_base_url + get_overpass_query_for_stops(a_route_id))\n",
    "    if not get_route.status_code == 200:\n",
    "        break\n",
    "    all_info = get_route.json()['elements']\n",
    "    route_info = [elem for elem in all_info if elem['type']=='relation']\n",
    "    route_members = route_info[0]['members']\n",
    "    route_stops = [elem for elem in route_members if elem['role']=='platform' and elem['type']=='node']\n",
    "    stop_list_ids = [elem['ref'] for elem in route_stops]\n",
    "    stops_by_lines[a_line_id] = stop_list_ids\n",
    "    stop_info = [elem for elem in all_info if elem[\"id\"] in stop_list_ids]\n",
    "    stops += stop_info\n",
    "    \n",
    "\n",
    "    \n",
    "print (stops_by_lines)\n",
    "print (stops)"
   ]
  },
  {
   "cell_type": "code",
   "execution_count": 6,
   "metadata": {},
   "outputs": [
    {
     "data": {
      "text/plain": [
       "[{'id': 4822825456,\n",
       "  'label': 'Charles de Gaulle',\n",
       "  'lat': 44.0931619,\n",
       "  'lon': 6.2355234},\n",
       " {'id': 4822825458,\n",
       "  'label': 'Rond-Point du 4 Septembre 1970',\n",
       "  'lat': 44.0893608,\n",
       "  'lon': 6.2270895},\n",
       " {'id': 4822825473,\n",
       "  'label': 'Georges Pompidou',\n",
       "  'lat': 44.085788,\n",
       "  'lon': 6.215886},\n",
       " {'id': 4822825508,\n",
       "  'label': 'Pierre Gassendi',\n",
       "  'lat': 44.0903636,\n",
       "  'lon': 6.2308899},\n",
       " {'id': 4822825626,\n",
       "  'label': 'Les Arcades',\n",
       "  'lat': 44.0879891,\n",
       "  'lon': 6.2208534},\n",
       " {'id': 5300752876, 'label': 'Le Moulin', 'lat': 44.0803118, 'lon': 6.208642},\n",
       " {'id': 5300752877,\n",
       "  'label': 'Chemin du Marquis',\n",
       "  'lat': 44.0819127,\n",
       "  'lon': 6.2153388},\n",
       " {'id': 5300752879,\n",
       "  'label': 'Chemin du Moulin',\n",
       "  'lat': 44.080952,\n",
       "  'lon': 6.2114053},\n",
       " {'id': 2155045951,\n",
       "  'label': 'Lycée Pierre-Gilles de Gennes',\n",
       "  'lat': 44.0727314,\n",
       "  'lon': 6.1808373},\n",
       " {'id': 4430659470,\n",
       "  'label': 'Digne-les-Bains - Centre Hospitalier',\n",
       "  'lat': 44.0704794,\n",
       "  'lon': 6.1779864},\n",
       " {'id': 4822825466,\n",
       "  'label': 'Digne-les-Bains - Centre Technique',\n",
       "  'lat': 44.0764315,\n",
       "  'lon': 6.1854896},\n",
       " {'id': 4822825467,\n",
       "  'label': 'Centre Commercial',\n",
       "  'lat': 44.0765987,\n",
       "  'lon': 6.1882807},\n",
       " {'id': 4822825470,\n",
       "  'label': 'Les Alpilles',\n",
       "  'lat': 44.0838055,\n",
       "  'lon': 6.2049399},\n",
       " {'id': 4822825471,\n",
       "  'label': 'Les Baumelles',\n",
       "  'lat': 44.0850029,\n",
       "  'lon': 6.2086473},\n",
       " {'id': 4822825473,\n",
       "  'label': 'Georges Pompidou',\n",
       "  'lat': 44.085788,\n",
       "  'lon': 6.215886},\n",
       " {'id': 4822825474,\n",
       "  'label': 'Centre de Secours',\n",
       "  'lat': 44.0835314,\n",
       "  'lon': 6.217903},\n",
       " {'id': 4822825475, 'label': 'La Sèbe', 'lat': 44.0862439, 'lon': 6.2233432},\n",
       " {'id': 4822825476, 'label': 'La Paix', 'lat': 44.0740949, 'lon': 6.1773745},\n",
       " {'id': 4822825477,\n",
       "  'label': 'Rond-Point du 4 Septembre 1970',\n",
       "  'lat': 44.0890233,\n",
       "  'lon': 6.2258232},\n",
       " {'id': 4822825478,\n",
       "  'label': 'Digne − Gare Routière',\n",
       "  'lat': 44.0915068,\n",
       "  'lon': 6.2310985},\n",
       " {'id': 4822825479, 'label': 'Tampinet', 'lat': 44.092178, 'lon': 6.2310304},\n",
       " {'id': 4822825480,\n",
       "  'label': 'Hôtel de Ville',\n",
       "  'lat': 44.0931829,\n",
       "  'lon': 6.2352823},\n",
       " {'id': 4822825481,\n",
       "  'label': 'Maria Borrély',\n",
       "  'lat': 44.0940213,\n",
       "  'lon': 6.237241},\n",
       " {'id': 4822825482,\n",
       "  'label': 'Chemin du Bourg',\n",
       "  'lat': 44.0955672,\n",
       "  'lon': 6.2414541},\n",
       " {'id': 4822825484,\n",
       "  'label': 'Notre-Dame du Bourg / Crypte',\n",
       "  'lat': 44.0967365,\n",
       "  'lon': 6.2422869},\n",
       " {'id': 4822825486,\n",
       "  'label': 'Parc Mexico',\n",
       "  'lat': 44.0960616,\n",
       "  'lon': 6.2377694},\n",
       " {'id': 4822825490,\n",
       "  'label': 'Alphonse Richard',\n",
       "  'lat': 44.0956019,\n",
       "  'lon': 6.2349612},\n",
       " {'id': 4822825491,\n",
       "  'label': 'Victor Hugo',\n",
       "  'lat': 44.1001762,\n",
       "  'lon': 6.2315132},\n",
       " {'id': 4822825492, 'label': '', 'lat': 44.1021481, 'lon': 6.231131},\n",
       " {'id': 4822825493,\n",
       "  'label': 'Novellini/A. David-Neel',\n",
       "  'lat': 44.1015965,\n",
       "  'lon': 6.2336918},\n",
       " {'id': 4822825495, 'label': 'Les Augiers', 'lat': 44.0805642, 'lon': 6.17436},\n",
       " {'id': 4822825628,\n",
       "  'label': 'La Gineste',\n",
       "  'lat': 44.0910711,\n",
       "  'lon': 6.2286063},\n",
       " {'id': 4822825454,\n",
       "  'label': 'Novellini/A. David-Neel',\n",
       "  'lat': 44.1015455,\n",
       "  'lon': 6.2335912},\n",
       " {'id': 4822825456,\n",
       "  'label': 'Charles de Gaulle',\n",
       "  'lat': 44.0931619,\n",
       "  'lon': 6.2355234},\n",
       " {'id': 4822825480,\n",
       "  'label': 'Hôtel de Ville',\n",
       "  'lat': 44.0931829,\n",
       "  'lon': 6.2352823},\n",
       " {'id': 4822825483,\n",
       "  'label': 'Notre-Dame du Bourg / Crypte',\n",
       "  'lat': 44.0969397,\n",
       "  'lon': 6.2422179},\n",
       " {'id': 4822825485,\n",
       "  'label': 'Parc Mexico',\n",
       "  'lat': 44.0960914,\n",
       "  'lon': 6.2376186},\n",
       " {'id': 4822825489,\n",
       "  'label': 'Alphonse Richard',\n",
       "  'lat': 44.0957743,\n",
       "  'lon': 6.2349819},\n",
       " {'id': 4822825490,\n",
       "  'label': 'Alphonse Richard',\n",
       "  'lat': 44.0956019,\n",
       "  'lon': 6.2349612},\n",
       " {'id': 4822825493,\n",
       "  'label': 'Novellini/A. David-Neel',\n",
       "  'lat': 44.1015965,\n",
       "  'lon': 6.2336918},\n",
       " {'id': 5300791450,\n",
       "  'label': 'Camping Tennis',\n",
       "  'lat': 44.100299,\n",
       "  'lon': 6.2495296},\n",
       " {'id': 5300791451,\n",
       "  'label': 'Les Truyas',\n",
       "  'lat': 44.1028367,\n",
       "  'lon': 6.2527958}]"
      ]
     },
     "execution_count": 6,
     "metadata": {},
     "output_type": "execute_result"
    }
   ],
   "source": [
    "nodes = []\n",
    "\n",
    "for stop in stops:\n",
    "    stop_name = \"\"\n",
    "    if 'name' in stop['tags']:\n",
    "        stop_name = stop['tags']['name']\n",
    "    nodes.append({\n",
    "        \"id\": stop['id'],\n",
    "        \"lat\" : stop['lat'],\n",
    "        \"lon\" : stop['lon'],\n",
    "        \"label\": stop_name} )\n",
    "\n",
    "nodes"
   ]
  },
  {
   "cell_type": "code",
   "execution_count": 7,
   "metadata": {},
   "outputs": [
    {
     "data": {
      "text/plain": [
       "39"
      ]
     },
     "execution_count": 7,
     "metadata": {},
     "output_type": "execute_result"
    }
   ],
   "source": [
    "edges = []\n",
    "\n",
    "for line in stops_by_lines:\n",
    "    stops = stops_by_lines[line]\n",
    "\n",
    "    for i in range(len(stops) -1 ):\n",
    "        current_edge = {\"relation\":\"bus\"}\n",
    "        current_edge[\"metadata\"] = lines_metadata[line]\n",
    "        current_edge[\"source\"] = stops[i]\n",
    "        current_edge[\"target\"] = stops[i+1]\n",
    "        edges.append(current_edge)\n",
    "\n",
    "len(edges)\n",
    "        "
   ]
  },
  {
   "cell_type": "code",
   "execution_count": 8,
   "metadata": {
    "collapsed": true
   },
   "outputs": [],
   "source": [
    "with open(\"edges.json\", \"w\") as edges_files :\n",
    "    json.dump(edges, edges_files, indent=1, sort_keys=True)\n",
    "\n",
    "with open(\"nodes.json\", \"w\") as nodes_files :\n",
    "    json.dump(nodes, nodes_files, indent=0)"
   ]
  },
  {
   "cell_type": "code",
   "execution_count": 9,
   "metadata": {},
   "outputs": [
    {
     "data": {
      "text/plain": [
       "{6932554: [4822825493,\n",
       "  4822825492,\n",
       "  4822825491,\n",
       "  4822825490,\n",
       "  4822825486,\n",
       "  4822825484,\n",
       "  4822825482,\n",
       "  4822825481,\n",
       "  4822825480,\n",
       "  4822825479,\n",
       "  4822825478,\n",
       "  4822825628,\n",
       "  4822825477,\n",
       "  4822825475,\n",
       "  4822825474,\n",
       "  4822825473,\n",
       "  4822825471,\n",
       "  4822825470,\n",
       "  4822825467,\n",
       "  4822825466,\n",
       "  2155045951,\n",
       "  4430659470,\n",
       "  4822825476,\n",
       "  4822825495],\n",
       " 6937499: [],\n",
       " 6937875: [5300752876,\n",
       "  5300752879,\n",
       "  5300752877,\n",
       "  4822825473,\n",
       "  4822825626,\n",
       "  4822825458,\n",
       "  4822825508,\n",
       "  4822825456],\n",
       " 6941657: [],\n",
       " 7835159: [4822825456,\n",
       "  5300791450,\n",
       "  5300791451,\n",
       "  4822825483,\n",
       "  4822825485,\n",
       "  4822825489,\n",
       "  4822825454,\n",
       "  4822825493,\n",
       "  4822825490,\n",
       "  4822825480]}"
      ]
     },
     "execution_count": 9,
     "metadata": {},
     "output_type": "execute_result"
    }
   ],
   "source": [
    "stops_by_lines"
   ]
  }
 ],
 "metadata": {
  "kernelspec": {
   "display_name": "Python 3",
   "language": "python",
   "name": "python3"
  },
  "language_info": {
   "codemirror_mode": {
    "name": "ipython",
    "version": 3
   },
   "file_extension": ".py",
   "mimetype": "text/x-python",
   "name": "python",
   "nbconvert_exporter": "python",
   "pygments_lexer": "ipython3",
   "version": "3.5.2"
  }
 },
 "nbformat": 4,
 "nbformat_minor": 2
}
