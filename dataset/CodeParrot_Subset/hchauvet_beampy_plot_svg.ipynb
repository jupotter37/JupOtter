{
  "nbformat_minor": 0, 
  "nbformat": 4, 
  "cells": [
    {
      "execution_count": null, 
      "cell_type": "code", 
      "source": [
        "%matplotlib inline"
      ], 
      "outputs": [], 
      "metadata": {
        "collapsed": false
      }
    }, 
    {
      "source": [
        "\nsvg\n===\n\nCreate graphical elements using svg syntax.\n\nTo make svg writing easier, shortcuts module have been created to draw (line,\nrectangle, grid)\n\n\n"
      ], 
      "cell_type": "markdown", 
      "metadata": {}
    }, 
    {
      "execution_count": null, 
      "cell_type": "code", 
      "source": [
        "from beampy import *\n\n# Remove quiet=True to get Beampy render outputs\ndoc = document(quiet=True)\n\nwith slide('Svg'):\n    svg('<rect width=\"800px\" height=\"5\" style=\"fill:grey;\"/>', y='center')\n\n    svg(\"\"\"<g transform=\"translate(-54.26034,-59.292535)\"> <path d=\"m\n    109.59577,134.50956 -20.858493,-15.04546 -24.219093,8.65323\n    7.863454,-24.48691 -15.713821,-20.359732 25.718378,-0.08828\n    14.507417,-21.236235 8.031378,24.43235 24.6799,7.235016 -20.75472,15.188303\n    z\" style=\"fill:#ff0000;stroke:#ffff00;stroke-width:2;stroke-linecap:butt;\"\n    /> </g>\"\"\", x='center', y='center')\n\n\ndisplay_matplotlib(gcs())"
      ], 
      "outputs": [], 
      "metadata": {
        "collapsed": false
      }
    }, 
    {
      "source": [
        "Module arguments\n================\n\n.. autoclass:: beampy.svg\n   :noindex:\n\n\n"
      ], 
      "cell_type": "markdown", 
      "metadata": {}
    }
  ], 
  "metadata": {
    "kernelspec": {
      "display_name": "Python 2", 
      "name": "python2", 
      "language": "python"
    }, 
    "language_info": {
      "mimetype": "text/x-python", 
      "nbconvert_exporter": "python", 
      "name": "python", 
      "file_extension": ".py", 
      "version": "2.7.16", 
      "pygments_lexer": "ipython2", 
      "codemirror_mode": {
        "version": 2, 
        "name": "ipython"
      }
    }
  }
}