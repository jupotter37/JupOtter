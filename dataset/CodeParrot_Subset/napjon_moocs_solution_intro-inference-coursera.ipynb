{
 "cells": [
  {
   "cell_type": "markdown",
   "metadata": {},
   "source": [
    "![jpeg](../galleries/coursera-statistics/1w29.jpg)"
   ]
  },
  {
   "cell_type": "markdown",
   "metadata": {},
   "source": [
    "Statistics isn't only used to describe the data, to have a better undestanding. We could also infer upcoming data based on observations.This brach is callled *Inferential Statistics*, and of the method introduced here is Hypothesis Testing..These case are taken that given personal file to 48 supervisors, identical file, with different only in gender, there's 30% winning difference of male to female accepted to be promoted. All supervisors given **random assignment** which is to be expected, a *controlled experiment*.\n",
    "\n",
    "<!-- TEASER_END -->"
   ]
  },
  {
   "cell_type": "markdown",
   "metadata": {},
   "source": [
    "The Null Hypothesis then said, there's nothing going on, two variables are independent, and that's happen due to chance. But the Alternative Hypothesis is the oppposite."
   ]
  },
  {
   "cell_type": "markdown",
   "metadata": {},
   "source": [
    "![jpeg](../galleries/coursera-statistics/1w30.jpg)"
   ]
  },
  {
   "cell_type": "markdown",
   "metadata": {},
   "source": [
    "These are the flow of **Hypothesis Testing**. Here we are taking the trial as the example. Presented with the evidence, we are questioned if the data is only due to chance. If the data is not true, that doesn't means that we prove the Defendant is innocent, it just means that the evidence is not enough to reject the null hypothesis.We're still doing it from the start under the assumption that Null Hypothesis is true. On the countrary if the data can reject the null hypothesis, then we *succeed* to prove Alternative Hypothesis. So there's two cases, first there's *not enough data* to reject the Null Hypothesis, or reject the Null Hypothesis. "
   ]
  },
  {
   "cell_type": "markdown",
   "metadata": {},
   "source": [
    "![jpeg](../galleries/coursera-statistics/1w31.jpg)"
   ]
  },
  {
   "cell_type": "markdown",
   "metadata": {},
   "source": [
    "These are the hypothesis framework overview. The assumption of the Null Hypothesis always true, until there's prove with evidence to reject the Null Hypothesis and favor to the alternative. If we observe the probability at least as extreme when rejecting the Null Hypothesis is low, much lower than the probability study, then we reject the null hypothesis."
   ]
  },
  {
   "cell_type": "markdown",
   "metadata": {},
   "source": [
    "![jpeg](../galleries/coursera-statistics/1w39.jpg)"
   ]
  },
  {
   "cell_type": "markdown",
   "metadata": {},
   "source": [
    "To simulate this, we're doing simulation cards."
   ]
  },
  {
   "cell_type": "markdown",
   "metadata": {},
   "source": [
    "![jpeg](../galleries/coursera-statistics/1w32.jpg)"
   ]
  },
  {
   "cell_type": "markdown",
   "metadata": {},
   "source": [
    "![jpeg](../galleries/coursera-statistics/1w33.jpg)"
   ]
  },
  {
   "cell_type": "markdown",
   "metadata": {},
   "source": [
    "![jpeg](../galleries/coursera-statistics/1w34.jpg)"
   ]
  },
  {
   "cell_type": "markdown",
   "metadata": {},
   "source": [
    "![jpeg](../galleries/coursera-statistics/1w35.jpg)"
   ]
  },
  {
   "cell_type": "markdown",
   "metadata": {},
   "source": [
    "In this case, the Null Hypothesis is stated there's no difference between men and women in getting promoted, and happen due to chance. By looking at the dot plot above, we've seen that at extreme condition,at least as 30%(probability observed in the data, which is p > abs(0.3)) the probability gaining 30% difference is very low. That's why we reject the null hypothesis.\n",
    "\n",
    "In other words, Hypothesis Testing is testing our Null Hypothesis of 30% difference probability. The probability is very low, and thus we reject our Null Hypothesis."
   ]
  },
  {
   "cell_type": "markdown",
   "metadata": {},
   "source": [
    "![jpeg](../galleries/coursera-statistics/1w36.jpg)"
   ]
  },
  {
   "cell_type": "markdown",
   "metadata": {},
   "source": [
    "So the p-value is one the most common when deciding two competing hypothesis.More on this later.\n",
    "\n",
    "Null Hypothesis is acting from the skeptic side, and Alternative Hypothesis on the opposing side. We use Hypothesis testing when we concern that large difference that being observed is happen whether due to chances or not. Often varibles being observe have different, not exact this all happen in a real world. Therefore we do HT to test if the difference is caused by chances, or it is dependant variables therefore attribute to the large difference.\n",
    "\n",
    "So we set our null hypothesis and alternative hypothesis, using simulation technique to see the difference whether or not it's occured by chance."
   ]
  },
  {
   "cell_type": "markdown",
   "metadata": {},
   "source": [
    "> **RESOURCES** :\n",
    "\n",
    "> * https://class.coursera.org/statistics-003"
   ]
  }
 ],
 "metadata": {
  "kernelspec": {
   "display_name": "Python 2",
   "language": "python",
   "name": "python2"
  },
  "language_info": {
   "codemirror_mode": {
    "name": "ipython",
    "version": 2
   },
   "file_extension": ".py",
   "mimetype": "text/x-python",
   "name": "python",
   "nbconvert_exporter": "python",
   "pygments_lexer": "ipython2",
   "version": "2.7.9"
  }
 },
 "nbformat": 4,
 "nbformat_minor": 0
}
