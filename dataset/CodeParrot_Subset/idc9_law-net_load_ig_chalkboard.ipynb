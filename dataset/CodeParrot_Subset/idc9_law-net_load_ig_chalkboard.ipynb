{
 "cells": [
  {
   "cell_type": "code",
   "execution_count": 24,
   "metadata": {
    "collapsed": false
   },
   "outputs": [
    {
     "name": "stdout",
     "output_type": "stream",
     "text": [
      "The autoreload extension is already loaded. To reload it, use:\n",
      "  %reload_ext autoreload\n"
     ]
    }
   ],
   "source": [
    "import sys\n",
    "\n",
    "sys.path.append('../../code/')\n",
    "import os\n",
    "import json\n",
    "from datetime import datetime\n",
    "import time\n",
    "from math import *\n",
    "\n",
    "import numpy as np\n",
    "import pandas as pd\n",
    "import matplotlib.pyplot as plt\n",
    "import scipy.stats as stats\n",
    "\n",
    "import igraph as ig\n",
    "import networkx as nx\n",
    "\n",
    "from load_data import load_citation_network, case_info\n",
    "\n",
    "%load_ext autoreload\n",
    "%autoreload 2\n",
    "%matplotlib inline\n",
    "\n",
    "data_dir = '../../data/'\n",
    "court_name = 'scotus'"
   ]
  },
  {
   "cell_type": "code",
   "execution_count": 10,
   "metadata": {
    "collapsed": true
   },
   "outputs": [],
   "source": [
    "case_metadata = pd.read_csv(data_dir + 'clean/case_metadata_master.csv')\n",
    "edgelist = pd.read_csv(data_dir + 'clean/edgelist_master.csv')"
   ]
  },
  {
   "cell_type": "code",
   "execution_count": 2,
   "metadata": {
    "collapsed": true
   },
   "outputs": [],
   "source": [
    "# net_dir = data_dir + 'clean/' + court_name + '/'\n",
    "# case_metadata = pd.read_csv(net_dir + 'case_metadata.csv')\n",
    "\n",
    "# edgelist = pd.read_csv(net_dir + 'edgelist.csv')\n",
    "# edgelist.drop('Unnamed: 0', inplace=True, axis=1)"
   ]
  },
  {
   "cell_type": "markdown",
   "metadata": {},
   "source": [
    "# Compare iterrows vs itertuples"
   ]
  },
  {
   "cell_type": "code",
   "execution_count": 3,
   "metadata": {
    "collapsed": false
   },
   "outputs": [
    {
     "name": "stdout",
     "output_type": "stream",
     "text": [
      "pandas took 29 seconds to go though 250465 edges using iterrows\n"
     ]
    }
   ],
   "source": [
    "\n",
    "start = time.time()\n",
    "# create graph and add metadata\n",
    "G = nx.DiGraph()\n",
    "G.add_nodes_from(case_metadata.index.tolist())\n",
    "nx.set_node_attributes(G, 'date', case_metadata['date'].to_dict())\n",
    "for index, edge in edgelist.iterrows():\n",
    "    ing = edge['citing']\n",
    "    ed = edge['cited']\n",
    "    G.add_edge(ing, ed)\n",
    "end = time.time()\n",
    "\n",
    "print 'pandas took %d seconds to go though %d edges using iterrows'  % (end - start, edgelist.shape[0])"
   ]
  },
  {
   "cell_type": "code",
   "execution_count": 4,
   "metadata": {
    "collapsed": false
   },
   "outputs": [
    {
     "name": "stdout",
     "output_type": "stream",
     "text": [
      "pandas took 1 seconds to go though 250465 edges using itertuples\n"
     ]
    }
   ],
   "source": [
    "# go through edglist using itertuples\n",
    "\n",
    "start = time.time()\n",
    "# create graph and add metadata\n",
    "G = nx.DiGraph()\n",
    "G.add_nodes_from(case_metadata.index.tolist())\n",
    "nx.set_node_attributes(G, 'date', case_metadata['date'].to_dict())\n",
    "for row in edgelist.itertuples():\n",
    "    ing = row[1]\n",
    "    ed = row[2]\n",
    "    G.add_edge(ing, ed)\n",
    "end = time.time()\n",
    "\n",
    "print 'pandas took %d seconds to go though %d edges using itertuples'  % (end - start, edgelist.shape[0])"
   ]
  },
  {
   "cell_type": "markdown",
   "metadata": {},
   "source": [
    "# load into igraph"
   ]
  },
  {
   "cell_type": "code",
   "execution_count": 37,
   "metadata": {
    "collapsed": false
   },
   "outputs": [],
   "source": [
    "# create a dictonary that maps court listener ids to igraph ids\n",
    "cl_to_ig_id = {}\n",
    "cl_ids = case_metadata['id'].tolist()\n",
    "for i in range(case_metadata['id'].size):\n",
    "    cl_to_ig_id[cl_ids[i]] = i"
   ]
  },
  {
   "cell_type": "code",
   "execution_count": 38,
   "metadata": {
    "collapsed": false
   },
   "outputs": [
    {
     "ename": "KeyboardInterrupt",
     "evalue": "",
     "output_type": "error",
     "traceback": [
      "\u001b[0;31m---------------------------------------------------------------------------\u001b[0m",
      "\u001b[0;31mKeyboardInterrupt\u001b[0m                         Traceback (most recent call last)",
      "\u001b[0;32m<ipython-input-38-27ebfd643a17>\u001b[0m in \u001b[0;36m<module>\u001b[0;34m()\u001b[0m\n\u001b[1;32m     18\u001b[0m     \u001b[0mcl_ed\u001b[0m \u001b[0;34m=\u001b[0m \u001b[0mrow\u001b[0m\u001b[0;34m[\u001b[0m\u001b[0;36m2\u001b[0m\u001b[0;34m]\u001b[0m\u001b[0;34m\u001b[0m\u001b[0m\n\u001b[1;32m     19\u001b[0m \u001b[0;34m\u001b[0m\u001b[0m\n\u001b[0;32m---> 20\u001b[0;31m     \u001b[0;32mif\u001b[0m \u001b[0;34m(\u001b[0m\u001b[0mcl_ing\u001b[0m \u001b[0;32min\u001b[0m \u001b[0mcl_to_ig_id\u001b[0m\u001b[0;34m.\u001b[0m\u001b[0mkeys\u001b[0m\u001b[0;34m(\u001b[0m\u001b[0;34m)\u001b[0m\u001b[0;34m)\u001b[0m \u001b[0;32mand\u001b[0m \u001b[0;34m(\u001b[0m\u001b[0mcl_ed\u001b[0m \u001b[0;32min\u001b[0m \u001b[0mcl_to_ig_id\u001b[0m\u001b[0;34m.\u001b[0m\u001b[0mkeys\u001b[0m\u001b[0;34m(\u001b[0m\u001b[0;34m)\u001b[0m\u001b[0;34m)\u001b[0m\u001b[0;34m:\u001b[0m\u001b[0;34m\u001b[0m\u001b[0m\n\u001b[0m\u001b[1;32m     21\u001b[0m         \u001b[0ming\u001b[0m \u001b[0;34m=\u001b[0m \u001b[0mcl_to_ig_id\u001b[0m\u001b[0;34m[\u001b[0m\u001b[0mcl_ing\u001b[0m\u001b[0;34m]\u001b[0m\u001b[0;34m\u001b[0m\u001b[0m\n\u001b[1;32m     22\u001b[0m         \u001b[0med\u001b[0m \u001b[0;34m=\u001b[0m \u001b[0mcl_to_ig_id\u001b[0m\u001b[0;34m[\u001b[0m\u001b[0mcl_ed\u001b[0m\u001b[0;34m]\u001b[0m\u001b[0;34m\u001b[0m\u001b[0m\n",
      "\u001b[0;31mKeyboardInterrupt\u001b[0m: "
     ]
    }
   ],
   "source": [
    "start = time.time()\n",
    "V = case_metadata.shape[0]\n",
    "\n",
    "g = ig.Graph(n=V, directed=True)\n",
    "g.vs['date'] = case_metadata['date'].tolist()\n",
    "g.vs['name'] = case_metadata['id'].tolist()\n",
    "\n",
    "ig_edgelist = []\n",
    "missing_cases = 0\n",
    "start = time.time()\n",
    "# i = 1\n",
    "for row in edgelist.itertuples():\n",
    "#     if log(i, 2) == int(log(i, 2)):\n",
    "#         print 'edge %d' % i\n",
    "#     i += 1\n",
    "\n",
    "    cl_ing = row[1]\n",
    "    cl_ed = row[2]\n",
    "\n",
    "    if (cl_ing in cl_to_ig_id.keys()) and (cl_ed in cl_to_ig_id.keys()):\n",
    "        ing = cl_to_ig_id[cl_ing]\n",
    "        ed = cl_to_ig_id[cl_ed]\n",
    "    else:\n",
    "        missing_cases += 0\n",
    "    \n",
    "    ig_edgelist.append((ing, ed))\n",
    "intermediate = time.time()\n",
    "\n",
    "g.add_edges(ig_edgelist)\n",
    "end = time.time()\n",
    "\n",
    "print 'itertuples took %d seconds to go through %d edges'  % (intermediate - start, edgelist.shape[0])\n",
    "print 'igraph took %d seconds to add %d edges'  % (end - start, edgelist.shape[0])"
   ]
  },
  {
   "cell_type": "markdown",
   "metadata": {},
   "source": [
    "# igraph find vs. select"
   ]
  },
  {
   "cell_type": "code",
   "execution_count": null,
   "metadata": {
    "collapsed": false
   },
   "outputs": [],
   "source": [
    "start = time.time()\n",
    "R = 1000\n",
    "for i in range(R):\n",
    "    g.vs.find(name='92891')\n",
    "end = time.time()\n",
    "print 'g.vs.find took %E seconds per lookup' % ((end - start)/R)"
   ]
  },
  {
   "cell_type": "code",
   "execution_count": null,
   "metadata": {
    "collapsed": false
   },
   "outputs": [],
   "source": [
    "start = time.time()\n",
    "R = 1000\n",
    "for i in range(R):\n",
    "    g.vs.select(name='92891')\n",
    "end = time.time()\n",
    "print 'g.vs.select took %E seconds per lookup' % ((end - start)/R)"
   ]
  },
  {
   "cell_type": "code",
   "execution_count": null,
   "metadata": {
    "collapsed": false
   },
   "outputs": [],
   "source": [
    "start = time.time()\n",
    "R = 1000\n",
    "for i in range(R):\n",
    "    cl_to_ig_id[92891]\n",
    "end = time.time()\n",
    "print 'pandas df lookup took %E seconds per lookup' % ((end - start)/R)"
   ]
  }
 ],
 "metadata": {
  "kernelspec": {
   "display_name": "Python 2",
   "language": "python",
   "name": "python2"
  },
  "language_info": {
   "codemirror_mode": {
    "name": "ipython",
    "version": 2
   },
   "file_extension": ".py",
   "mimetype": "text/x-python",
   "name": "python",
   "nbconvert_exporter": "python",
   "pygments_lexer": "ipython2",
   "version": "2.7.12"
  }
 },
 "nbformat": 4,
 "nbformat_minor": 0
}
