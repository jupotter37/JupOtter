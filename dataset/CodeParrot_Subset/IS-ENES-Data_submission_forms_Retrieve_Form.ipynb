{
 "cells": [
  {
   "cell_type": "markdown",
   "metadata": {},
   "source": [
    "# Retrieve your DKRZ data form \n",
    "\n",
    "\n",
    "Via this form you can retrieve previously generated data forms and make them accessible via the Web again for completion.\n",
    "\n",
    "Additionally you can get information on the data ingest process status related to your form based request.\n",
    "\n",
    "![form-retrieval](../fig/form-retrieval.png)"
   ]
  },
  {
   "cell_type": "markdown",
   "metadata": {},
   "source": [
    "### Please provide your last name\n",
    "\n",
    "please set your last name in the cell below \n",
    "`(e.g. MY_LAST_NAME = \"mueller\")`\n",
    "and evaluate the cell (Press \"Shift\"-Return in the cell)\n",
    "\n",
    "you will then be asked for the password associated to your form \n",
    "(the password was provided to you as part of your previous form generation step)"
   ]
  },
  {
   "cell_type": "code",
   "execution_count": null,
   "metadata": {
    "collapsed": true
   },
   "outputs": [],
   "source": [
    "# please provide your last name - replacing ... below e.g. MY_LAST_NAME = \"schulz\"\n",
    "MY_LAST_NAME = \"......\"   \n",
    "\n",
    "#----------------------------------------------------------\n",
    "from dkrz_forms import form_handler, form_widgets\n",
    "form_info = form_widgets.check_and_retrieve(MY_LAST_NAME)"
   ]
  },
  {
   "cell_type": "markdown",
   "metadata": {},
   "source": [
    "## Get status information related to your form based request"
   ]
  },
  {
   "cell_type": "code",
   "execution_count": null,
   "metadata": {
    "collapsed": true
   },
   "outputs": [],
   "source": [
    "# To be completed"
   ]
  },
  {
   "cell_type": "markdown",
   "metadata": {},
   "source": [
    "## Contact the DKRZ data managers for form related issues"
   ]
  },
  {
   "cell_type": "code",
   "execution_count": null,
   "metadata": {
    "collapsed": true
   },
   "outputs": [],
   "source": [
    "# tob be completed"
   ]
  }
 ],
 "metadata": {
  "anaconda-cloud": {},
  "kernelspec": {
   "display_name": "Python [conda env:forms2]",
   "language": "python",
   "name": "conda-env-forms2-py"
  },
  "language_info": {
   "codemirror_mode": {
    "name": "ipython",
    "version": 2
   },
   "file_extension": ".py",
   "mimetype": "text/x-python",
   "name": "python",
   "nbconvert_exporter": "python",
   "pygments_lexer": "ipython2",
   "version": "2.7.13"
  }
 },
 "nbformat": 4,
 "nbformat_minor": 1
}
