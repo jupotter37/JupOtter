{
 "cells": [
  {
   "cell_type": "markdown",
   "metadata": {},
   "source": [
    "### Init WPS with cfchecker proceses\n",
    "\n",
    "* hummingbird caps url: https://bovec.dkrz.de/ows/proxy/hummingbird?version=1.0.0&request=GetCapabilities&service=WPS\n",
    "* using twitcher access tokens: http://twitcher.readthedocs.io/en/latest/tutorial.html"
   ]
  },
  {
   "cell_type": "code",
   "execution_count": 51,
   "metadata": {
    "collapsed": false
   },
   "outputs": [
    {
     "name": "stderr",
     "output_type": "stream",
     "text": [
      "/home/pingu/.conda/envs/demo/lib/python2.7/site-packages/requests/packages/urllib3/connectionpool.py:821: InsecureRequestWarning: Unverified HTTPS request is being made. Adding certificate verification is strongly advised. See: https://urllib3.readthedocs.org/en/latest/security.html\n",
      "  InsecureRequestWarning)\n"
     ]
    }
   ],
   "source": [
    "from owslib.wps import WebProcessingService\n",
    "token = 'a890731658ac4f1ba93a62598d2f2645'\n",
    "headers = {'Access-Token': token}\n",
    "wps = WebProcessingService(\"https://bovec.dkrz.de/ows/proxy/hummingbird\", verify=False, headers=headers)\n"
   ]
  },
  {
   "cell_type": "markdown",
   "metadata": {},
   "source": [
    "### Show available processes"
   ]
  },
  {
   "cell_type": "code",
   "execution_count": 52,
   "metadata": {
    "collapsed": false
   },
   "outputs": [
    {
     "name": "stdout",
     "output_type": "stream",
     "text": [
      "ncmeta : NetCDF Metadata\n",
      "cdo_sinfo : CDO sinfo\n",
      "cdo_lonlatbox : CDO select lon/lat box\n",
      "cdo_operation : CDO Operation\n",
      "ensembles : CDO Ensembles Operations\n",
      "cfchecker : CF Checker by NCAS Computational Modelling Services (NCAS-CMS)\n",
      "qa_cfchecker : CF Checker by DKRZ\n",
      "qa_checker : Quality Assurance Checker by DKRZ\n",
      "ioos_cchecker : IOOS Compliance Checker\n"
     ]
    }
   ],
   "source": [
    "for process in wps.processes:\n",
    "    print process.identifier,\":\", process.title"
   ]
  },
  {
   "cell_type": "markdown",
   "metadata": {},
   "source": [
    "### Show details about qa_cfchecker process"
   ]
  },
  {
   "cell_type": "code",
   "execution_count": 53,
   "metadata": {
    "collapsed": false
   },
   "outputs": [
    {
     "name": "stderr",
     "output_type": "stream",
     "text": [
      "/home/pingu/.conda/envs/demo/lib/python2.7/site-packages/requests/packages/urllib3/connectionpool.py:821: InsecureRequestWarning: Unverified HTTPS request is being made. Adding certificate verification is strongly advised. See: https://urllib3.readthedocs.org/en/latest/security.html\n",
      "  InsecureRequestWarning)\n"
     ]
    },
    {
     "name": "stdout",
     "output_type": "stream",
     "text": [
      "dataset : URL to your NetCDF File : ComplexData\n",
      "cf_version : Check against CF version : //www.w3.org/TR/xmlschema-2/#string\n"
     ]
    }
   ],
   "source": [
    "process = wps.describeprocess(identifier='qa_cfchecker')\n",
    "for inp in process.dataInputs:\n",
    "    print inp.identifier, \":\", inp.title, \":\", inp.dataType"
   ]
  },
  {
   "cell_type": "markdown",
   "metadata": {},
   "source": [
    "### Check file available on http service"
   ]
  },
  {
   "cell_type": "code",
   "execution_count": 68,
   "metadata": {
    "collapsed": false
   },
   "outputs": [
    {
     "name": "stderr",
     "output_type": "stream",
     "text": [
      "/home/pingu/.conda/envs/demo/lib/python2.7/site-packages/requests/packages/urllib3/connectionpool.py:821: InsecureRequestWarning: Unverified HTTPS request is being made. Adding certificate verification is strongly advised. See: https://urllib3.readthedocs.org/en/latest/security.html\n",
      "  InsecureRequestWarning)\n"
     ]
    },
    {
     "name": "stdout",
     "output_type": "stream",
     "text": [
      "ProcessSucceeded\n"
     ]
    }
   ],
   "source": [
    "inputs = [('dataset', 'http://bovec.dkrz.de:8090/wpsoutputs/hummingbird/output-b9855b08-42d8-11e6-b10f-abe4891050e3.nc')]\n",
    "execution = wps.execute(identifier='qa_cfchecker', inputs=inputs, output='output', async=False)\n",
    "print execution.status\n"
   ]
  },
  {
   "cell_type": "code",
   "execution_count": 69,
   "metadata": {
    "collapsed": false
   },
   "outputs": [
    {
     "name": "stdout",
     "output_type": "stream",
     "text": [
      "CF Checker Report http://bovec.dkrz.de:8090/wpsoutputs/hummingbird/output-c050121a-42d9-11e6-b10f-abe4891050e3.txt\n"
     ]
    }
   ],
   "source": [
    "for out in execution.processOutputs:\n",
    "    print out.title, out.reference"
   ]
  },
  {
   "cell_type": "markdown",
   "metadata": {},
   "source": [
    "### Prepare local file to send to service\n",
    "\n",
    "To send a local file with the request the file needs to be base64 encoded."
   ]
  },
  {
   "cell_type": "code",
   "execution_count": 70,
   "metadata": {
    "collapsed": false
   },
   "outputs": [],
   "source": [
    "from owslib.wps import ComplexDataInput\n",
    "import base64\n",
    "fp = open(\"/home/pingu/tmp/input2.nc\", 'r')\n",
    "text = fp.read()\n",
    "fp.close()\n",
    "encoded = base64.b64encode(text)\n",
    "content = ComplexDataInput(encoded)\n",
    "inputs = [ ('dataset', content) ]"
   ]
  },
  {
   "cell_type": "code",
   "execution_count": 71,
   "metadata": {
    "collapsed": false
   },
   "outputs": [
    {
     "name": "stderr",
     "output_type": "stream",
     "text": [
      "/home/pingu/.conda/envs/demo/lib/python2.7/site-packages/requests/packages/urllib3/connectionpool.py:821: InsecureRequestWarning: Unverified HTTPS request is being made. Adding certificate verification is strongly advised. See: https://urllib3.readthedocs.org/en/latest/security.html\n",
      "  InsecureRequestWarning)\n"
     ]
    },
    {
     "name": "stdout",
     "output_type": "stream",
     "text": [
      "ProcessSucceeded\n"
     ]
    }
   ],
   "source": [
    "execution = wps.execute(identifier='qa_cfchecker', inputs=inputs, output='output', async=False)\n",
    "print execution.status"
   ]
  },
  {
   "cell_type": "code",
   "execution_count": 72,
   "metadata": {
    "collapsed": false
   },
   "outputs": [
    {
     "name": "stdout",
     "output_type": "stream",
     "text": [
      "CF Checker Report http://bovec.dkrz.de:8090/wpsoutputs/hummingbird/output-c8810a84-42d9-11e6-b10f-abe4891050e3.txt\n"
     ]
    }
   ],
   "source": [
    "for out in execution.processOutputs:\n",
    "    print out.title, out.reference"
   ]
  },
  {
   "cell_type": "code",
   "execution_count": null,
   "metadata": {
    "collapsed": true
   },
   "outputs": [],
   "source": []
  }
 ],
 "metadata": {
  "kernelspec": {
   "display_name": "Python 2",
   "language": "python",
   "name": "python2"
  },
  "language_info": {
   "codemirror_mode": {
    "name": "ipython",
    "version": 2
   },
   "file_extension": ".py",
   "mimetype": "text/x-python",
   "name": "python",
   "nbconvert_exporter": "python",
   "pygments_lexer": "ipython2",
   "version": "2.7.12"
  }
 },
 "nbformat": 4,
 "nbformat_minor": 0
}
