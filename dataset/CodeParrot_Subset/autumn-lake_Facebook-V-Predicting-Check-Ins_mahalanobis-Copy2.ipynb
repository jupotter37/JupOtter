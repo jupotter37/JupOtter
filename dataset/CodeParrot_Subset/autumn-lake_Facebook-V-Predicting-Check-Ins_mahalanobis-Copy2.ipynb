{
 "cells": [
  {
   "cell_type": "code",
   "execution_count": 1,
   "metadata": {
    "collapsed": false
   },
   "outputs": [],
   "source": [
    "import numpy as np\n",
    "import pandas as pd\n",
    "import os\n",
    "import matplotlib.pyplot as plt\n",
    "from scipy.stats import gaussian_kde\n",
    "import time\n",
    "%matplotlib inline"
   ]
  },
  {
   "cell_type": "code",
   "execution_count": 2,
   "metadata": {
    "collapsed": true
   },
   "outputs": [],
   "source": [
    "#ftypes_train = dict(x=np.float32, y=np.float32, time=np.int32, place_id=np.int64)\n",
    "ftypes_X = dict(x=np.float32, y=np.float32)\n",
    "ftypes_Y = dict(place_id=np.int64)\n",
    "X = pd.read_csv(\"maha_train.csv\", usecols=['x','y'], dtype=ftypes_X)\n",
    "Y = pd.read_csv('maha_train.csv', usecols=['place_id'], dtype=ftypes_Y)"
   ]
  },
  {
   "cell_type": "code",
   "execution_count": 3,
   "metadata": {
    "collapsed": false
   },
   "outputs": [],
   "source": [
    "split = (X.shape[0])*19/20\n",
    "X_train = X[0:split]\n",
    "Y_train = Y[0:split]\n",
    "\n",
    "X_val = X[split:]\n",
    "Y_val = Y[split:]\n",
    "\n",
    "cova = X_train.cov()"
   ]
  },
  {
   "cell_type": "code",
   "execution_count": 4,
   "metadata": {
    "collapsed": false
   },
   "outputs": [
    {
     "data": {
      "text/html": [
       "<div>\n",
       "<table border=\"1\" class=\"dataframe\">\n",
       "  <thead>\n",
       "    <tr style=\"text-align: right;\">\n",
       "      <th></th>\n",
       "      <th>x</th>\n",
       "      <th>y</th>\n",
       "    </tr>\n",
       "  </thead>\n",
       "  <tbody>\n",
       "    <tr>\n",
       "      <th>x</th>\n",
       "      <td>8.165453</td>\n",
       "      <td>-0.003034</td>\n",
       "    </tr>\n",
       "    <tr>\n",
       "      <th>y</th>\n",
       "      <td>-0.003034</td>\n",
       "      <td>8.337269</td>\n",
       "    </tr>\n",
       "  </tbody>\n",
       "</table>\n",
       "</div>"
      ],
      "text/plain": [
       "          x         y\n",
       "x  8.165453 -0.003034\n",
       "y -0.003034  8.337269"
      ]
     },
     "execution_count": 4,
     "metadata": {},
     "output_type": "execute_result"
    }
   ],
   "source": []
  },
  {
   "cell_type": "code",
   "execution_count": 5,
   "metadata": {
    "collapsed": true
   },
   "outputs": [],
   "source": [
    "from sklearn.neighbors import KNeighborsClassifier\n",
    "neigh = KNeighborsClassifier(n_neighbors=30, n_jobs=-1, \n",
    "                             algorithm='ball_tree', weights='distance', \n",
    "                             metric='mahalanobis',metric_params={'V': cova})"
   ]
  },
  {
   "cell_type": "code",
   "execution_count": 6,
   "metadata": {
    "collapsed": false
   },
   "outputs": [
    {
     "data": {
      "text/plain": [
       "<bound method KNeighborsClassifier.get_params of KNeighborsClassifier(algorithm='ball_tree', leaf_size=30,\n",
       "           metric='mahalanobis',\n",
       "           metric_params={'V':           x         y\n",
       "x  8.165453 -0.003034\n",
       "y -0.003034  8.337269},\n",
       "           n_jobs=-1, n_neighbors=30, p=2, weights='distance')>"
      ]
     },
     "execution_count": 6,
     "metadata": {},
     "output_type": "execute_result"
    }
   ],
   "source": [
    "neigh.get_params"
   ]
  },
  {
   "cell_type": "code",
   "execution_count": 7,
   "metadata": {
    "collapsed": false
   },
   "outputs": [
    {
     "data": {
      "text/plain": [
       "KNeighborsClassifier(algorithm='ball_tree', leaf_size=30,\n",
       "           metric='mahalanobis',\n",
       "           metric_params={'V':           x         y\n",
       "x  8.165453 -0.003034\n",
       "y -0.003034  8.337269},\n",
       "           n_jobs=-1, n_neighbors=30, p=2, weights='distance')"
      ]
     },
     "execution_count": 7,
     "metadata": {},
     "output_type": "execute_result"
    }
   ],
   "source": [
    "neigh.fit(X_train, Y_train.values.ravel())"
   ]
  },
  {
   "cell_type": "code",
   "execution_count": null,
   "metadata": {
    "collapsed": false
   },
   "outputs": [],
   "source": [
    "x = neigh.predict_proba(X_val)\n",
    "\n",
    "xx = pd.DataFrame(x)\n",
    "\n",
    "xx[:1].sort()"
   ]
  },
  {
   "cell_type": "code",
   "execution_count": 8,
   "metadata": {
    "collapsed": false
   },
   "outputs": [
    {
     "data": {
      "text/html": [
       "<div>\n",
       "<table border=\"1\" class=\"dataframe\">\n",
       "  <thead>\n",
       "    <tr style=\"text-align: right;\">\n",
       "      <th></th>\n",
       "      <th>x</th>\n",
       "      <th>y</th>\n",
       "    </tr>\n",
       "  </thead>\n",
       "  <tbody>\n",
       "    <tr>\n",
       "      <th>27662119</th>\n",
       "      <td>9.8218</td>\n",
       "      <td>7.9971</td>\n",
       "    </tr>\n",
       "    <tr>\n",
       "      <th>27662120</th>\n",
       "      <td>7.1145</td>\n",
       "      <td>2.6845</td>\n",
       "    </tr>\n",
       "    <tr>\n",
       "      <th>27662121</th>\n",
       "      <td>7.4073</td>\n",
       "      <td>7.0975</td>\n",
       "    </tr>\n",
       "    <tr>\n",
       "      <th>27662122</th>\n",
       "      <td>2.3742</td>\n",
       "      <td>4.3788</td>\n",
       "    </tr>\n",
       "    <tr>\n",
       "      <th>27662123</th>\n",
       "      <td>0.5573</td>\n",
       "      <td>4.0434</td>\n",
       "    </tr>\n",
       "  </tbody>\n",
       "</table>\n",
       "</div>"
      ],
      "text/plain": [
       "               x       y\n",
       "27662119  9.8218  7.9971\n",
       "27662120  7.1145  2.6845\n",
       "27662121  7.4073  7.0975\n",
       "27662122  2.3742  4.3788\n",
       "27662123  0.5573  4.0434"
      ]
     },
     "execution_count": 8,
     "metadata": {},
     "output_type": "execute_result"
    }
   ],
   "source": [
    "X_val.head()"
   ]
  },
  {
   "cell_type": "code",
   "execution_count": 9,
   "metadata": {
    "collapsed": false
   },
   "outputs": [
    {
     "data": {
      "text/html": [
       "<div>\n",
       "<table border=\"1\" class=\"dataframe\">\n",
       "  <thead>\n",
       "    <tr style=\"text-align: right;\">\n",
       "      <th></th>\n",
       "      <th>place_id</th>\n",
       "    </tr>\n",
       "  </thead>\n",
       "  <tbody>\n",
       "    <tr>\n",
       "      <th>27662119</th>\n",
       "      <td>5435982367</td>\n",
       "    </tr>\n",
       "    <tr>\n",
       "      <th>27662120</th>\n",
       "      <td>2340603043</td>\n",
       "    </tr>\n",
       "    <tr>\n",
       "      <th>27662121</th>\n",
       "      <td>6088743117</td>\n",
       "    </tr>\n",
       "    <tr>\n",
       "      <th>27662122</th>\n",
       "      <td>8288249811</td>\n",
       "    </tr>\n",
       "    <tr>\n",
       "      <th>27662123</th>\n",
       "      <td>4433667163</td>\n",
       "    </tr>\n",
       "  </tbody>\n",
       "</table>\n",
       "</div>"
      ],
      "text/plain": [
       "            place_id\n",
       "27662119  5435982367\n",
       "27662120  2340603043\n",
       "27662121  6088743117\n",
       "27662122  8288249811\n",
       "27662123  4433667163"
      ]
     },
     "execution_count": 9,
     "metadata": {},
     "output_type": "execute_result"
    }
   ],
   "source": [
    "Y_val.head()"
   ]
  },
  {
   "cell_type": "code",
   "execution_count": 32,
   "metadata": {
    "collapsed": false
   },
   "outputs": [],
   "source": [
    "X1 = np.array(X_val[1:2])"
   ]
  },
  {
   "cell_type": "code",
   "execution_count": 33,
   "metadata": {
    "collapsed": false
   },
   "outputs": [],
   "source": [
    "d,ind = neigh.kneighbors(X1,n_neighbors=30)"
   ]
  },
  {
   "cell_type": "code",
   "execution_count": 36,
   "metadata": {
    "collapsed": false
   },
   "outputs": [
    {
     "name": "stdout",
     "output_type": "stream",
     "text": [
      "4537852\n",
      "7477991\n",
      "19171625\n",
      "26558915\n",
      "2620998\n",
      "23714790\n",
      "7119539\n",
      "26918267\n",
      "12448902\n",
      "23386628\n",
      "17419227\n",
      "23722127\n",
      "10580729\n",
      "11719301\n"
     ]
    }
   ],
   "source": [
    "for loc in ind[0]:\n",
    "    if Y_train.iloc[loc].place_id==3841738458:\n",
    "        print(loc)"
   ]
  },
  {
   "cell_type": "code",
   "execution_count": null,
   "metadata": {
    "collapsed": false
   },
   "outputs": [],
   "source": [
    "ind[0]"
   ]
  },
  {
   "cell_type": "code",
   "execution_count": 20,
   "metadata": {
    "collapsed": false
   },
   "outputs": [
    {
     "data": {
      "text/plain": [
       "array([[ 7.11450005,  2.68449998]], dtype=float32)"
      ]
     },
     "execution_count": 20,
     "metadata": {},
     "output_type": "execute_result"
    }
   ],
   "source": [
    "X1"
   ]
  },
  {
   "cell_type": "code",
   "execution_count": 35,
   "metadata": {
    "collapsed": false
   },
   "outputs": [
    {
     "data": {
      "text/plain": [
       "array([3841738458])"
      ]
     },
     "execution_count": 35,
     "metadata": {},
     "output_type": "execute_result"
    }
   ],
   "source": [
    "neigh.predict(X1)"
   ]
  },
  {
   "cell_type": "code",
   "execution_count": null,
   "metadata": {
    "collapsed": false
   },
   "outputs": [],
   "source": [
    "Y_train.iloc[68297].place_id"
   ]
  },
  {
   "cell_type": "code",
   "execution_count": null,
   "metadata": {
    "collapsed": true
   },
   "outputs": [],
   "source": []
  }
 ],
 "metadata": {
  "kernelspec": {
   "display_name": "Python 2",
   "language": "python",
   "name": "python2"
  },
  "language_info": {
   "codemirror_mode": {
    "name": "ipython",
    "version": 2
   },
   "file_extension": ".py",
   "mimetype": "text/x-python",
   "name": "python",
   "nbconvert_exporter": "python",
   "pygments_lexer": "ipython2",
   "version": "2.7.11"
  }
 },
 "nbformat": 4,
 "nbformat_minor": 0
}
