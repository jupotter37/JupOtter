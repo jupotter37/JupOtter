{
 "cells": [
  {
   "cell_type": "markdown",
   "metadata": {},
   "source": [
    "# Homework 10: `SQL`\n",
    "\n",
    "## Due Date:  Thursday, November 16th at 11:59 PM\n",
    "\n",
    "You will create a database of the NASA polynomial coefficients for each specie.\n",
    "\n",
    "**Please turn in your database with your `Jupyter` notebook!**"
   ]
  },
  {
   "cell_type": "markdown",
   "metadata": {},
   "source": [
    "# Question 1: Convert XML to a SQL database"
   ]
  },
  {
   "cell_type": "markdown",
   "metadata": {},
   "source": [
    "Create two tables named `LOW` and `HIGH`, each corresponding to data given for the low and high temperature range.\n",
    "Each should have the following column names:\n",
    "\n",
    "- `SPECIES_NAME`\n",
    "- `TLOW`\n",
    "- `THIGH`\n",
    "- `COEFF_1`\n",
    "- `COEFF_2`\n",
    "- `COEFF_3`\n",
    "- `COEFF_4`\n",
    "- `COEFF_5`\n",
    "- `COEFF_6`\n",
    "- `COEFF_7`\n",
    "\n",
    "Populate the tables using the XML file you created in last assignment. If you did not complete the last assignment, you may also use the `example_thermo.xml` file.\n",
    "\n",
    "`TLOW` should refer to the temperature at the low range and `THIGH` should refer to the temperature at the high range.  For example, in the `LOW` table, $H$ would have `TLOW` at $200$ and `THIGH` at $1000$ and in the `HIGH` table, $H$ would have `TLOW` at $1000$ and `THIGH` at $3500$.\n",
    "\n",
    "For both tables, `COEFF_1` through `COEFF_7` should be populated with the corresponding coefficients for the low temperature data and high temperature data."
   ]
  },
  {
   "cell_type": "code",
   "execution_count": 2,
   "metadata": {
    "collapsed": true
   },
   "outputs": [],
   "source": [
    "import x as ET\n",
    "tree=ET.parse(\"example_thermo.xml\")\n",
    "elementroot=tree.getroot()\n",
    "import sqlite3\n",
    "import pandas as pd\n",
    "db = sqlite3.connect('thermo.sqlite')\n",
    "cursor = db.cursor()"
   ]
  },
  {
   "cell_type": "code",
   "execution_count": 4,
   "metadata": {},
   "outputs": [
    {
     "data": {
      "text/plain": [
       "<sqlite3.Cursor at 0x1169bab20>"
      ]
     },
     "execution_count": 4,
     "metadata": {},
     "output_type": "execute_result"
    }
   ],
   "source": [
    "cursor.execute(\"DROP TABLE IF EXISTS low\")\n",
    "cursor.execute(\"DROP TABLE IF EXISTS high\")\n",
    "cursor.execute(\"PRAGMA foreign_keys=1\")\n",
    "cursor.execute('''CREATE TABLE low (\n",
    "               species_name TEXT PRIMARY KEY NOT NULL, \n",
    "               tlow INT, \n",
    "               thigh INT, \n",
    "               coeff_1 FLOAT,\n",
    "               coeff_2 FLOAT,\n",
    "               coeff_3 FLOAT,\n",
    "               coeff_4 FLOAT,\n",
    "               coeff_5 FLOAT,\n",
    "               coeff_6 FLOAT,\n",
    "               coeff_7 FLOAT)''')\n",
    "\n",
    "cursor.execute('''CREATE TABLE high (\n",
    "               species_name TEXT PRIMARY KEY NOT NULL, \n",
    "               tlow INT, \n",
    "               thigh INT, \n",
    "               coeff_1 FLOAT,\n",
    "               coeff_2 FLOAT,\n",
    "               coeff_3 FLOAT,\n",
    "               coeff_4 FLOAT,\n",
    "               coeff_5 FLOAT,\n",
    "               coeff_6 FLOAT,\n",
    "               coeff_7 FLOAT)''')"
   ]
  },
  {
   "cell_type": "code",
   "execution_count": 7,
   "metadata": {},
   "outputs": [
    {
     "name": "stdout",
     "output_type": "stream",
     "text": [
      "['H', 'O', 'OH', 'H2', 'O2', 'H2O', 'HO2', 'H2O2', 'N2', 'Hp', 'Op']\n"
     ]
    }
   ],
   "source": [
    "elements=elementroot.find('phase').find(\"speciesArray\").text.strip().split(\" \")\n"
   ]
  },
  {
   "cell_type": "code",
   "execution_count": 13,
   "metadata": {},
   "outputs": [],
   "source": [
    "speciesroot=elementroot.find(\"speciesData\")\n",
    "for specie in speciesroot:\n",
    "    species_name=specie.attrib['name']\n",
    "    C=specie.find(\"thermo\").findall(\"NASA\")\n",
    "    for i,cc in enumerate(C):\n",
    "        coefficients=cc.find(\"floatArray\").text.strip().split(\" \")\n",
    "        thigh=cc.attrib['Tmax']\n",
    "        tlow=cc.attrib['Tmin']\n",
    "        coeff_1=coefficients[0]\n",
    "        coeff_2=coefficients[1] \n",
    "        coeff_3=coefficients[2]\n",
    "        coeff_4=coefficients[3]\n",
    "        coeff_5=coefficients[4]\n",
    "        coeff_6=coefficients[5]\n",
    "        coeff_7=coefficients[6]\n",
    "        \n",
    "        vals_to_insert = (species_name, tlow, thigh, \n",
    "                           coeff_1, coeff_2, coeff_3, coeff_4, coeff_5, coeff_6, coeff_7)\n",
    "\n",
    "        if i==0:\n",
    "            cursor.execute('''INSERT INTO low (species_name, tlow, thigh, \n",
    "                           coeff_1, coeff_2, coeff_3, coeff_4, coeff_5, coeff_6, coeff_7) \n",
    "                           VALUES (?, ?, ?, ?, ?, ?, ?, ?, ?, ?)''', vals_to_insert)\n",
    "        else:\n",
    "            cursor.execute('''INSERT INTO high (species_name, tlow, thigh, \n",
    "                           coeff_1, coeff_2, coeff_3, coeff_4, coeff_5, coeff_6, coeff_7) \n",
    "                           VALUES (?, ?, ?, ?, ?, ?, ?, ?, ?, ?)''', vals_to_insert)\n",
    "        "
   ]
  },
  {
   "cell_type": "code",
   "execution_count": 16,
   "metadata": {
    "collapsed": true
   },
   "outputs": [],
   "source": [
    "db.commit()"
   ]
  },
  {
   "cell_type": "code",
   "execution_count": 71,
   "metadata": {},
   "outputs": [
    {
     "data": {
      "text/html": [
       "<div>\n",
       "<style>\n",
       "    .dataframe thead tr:only-child th {\n",
       "        text-align: right;\n",
       "    }\n",
       "\n",
       "    .dataframe thead th {\n",
       "        text-align: left;\n",
       "    }\n",
       "\n",
       "    .dataframe tbody tr th {\n",
       "        vertical-align: top;\n",
       "    }\n",
       "</style>\n",
       "<table border=\"1\" class=\"dataframe\">\n",
       "  <thead>\n",
       "    <tr style=\"text-align: right;\">\n",
       "      <th></th>\n",
       "      <th>species_name</th>\n",
       "      <th>tlow</th>\n",
       "      <th>thigh</th>\n",
       "      <th>coeff_1</th>\n",
       "      <th>coeff_2</th>\n",
       "      <th>coeff_3</th>\n",
       "      <th>coeff_4</th>\n",
       "      <th>coeff_5</th>\n",
       "      <th>coeff_6</th>\n",
       "      <th>coeff_7</th>\n",
       "    </tr>\n",
       "  </thead>\n",
       "  <tbody>\n",
       "    <tr>\n",
       "      <th>0</th>\n",
       "      <td>H</td>\n",
       "      <td>1000</td>\n",
       "      <td>5000</td>\n",
       "      <td>2.50000000E+00,</td>\n",
       "      <td>0.00000000E+00,</td>\n",
       "      <td>0.00000000E+00,</td>\n",
       "      <td>0.00000000E+00,</td>\n",
       "      <td>0.00000000E+00,</td>\n",
       "      <td>2.54716270E+04,</td>\n",
       "      <td>-0.460118</td>\n",
       "    </tr>\n",
       "    <tr>\n",
       "      <th>1</th>\n",
       "      <td>O</td>\n",
       "      <td>1000</td>\n",
       "      <td>5000</td>\n",
       "      <td>2.54205966E+00,</td>\n",
       "      <td>-2.75506191E-05,</td>\n",
       "      <td>-3.10280335E-09,</td>\n",
       "      <td>4.55106742E-12,</td>\n",
       "      <td>-4.36805150E-16,</td>\n",
       "      <td>2.92308027E+04,</td>\n",
       "      <td>4.920308</td>\n",
       "    </tr>\n",
       "    <tr>\n",
       "      <th>2</th>\n",
       "      <td>OH</td>\n",
       "      <td>1000</td>\n",
       "      <td>6000</td>\n",
       "      <td>2.86472886E+00,</td>\n",
       "      <td>1.05650448E-03,</td>\n",
       "      <td>-2.59082758E-07,</td>\n",
       "      <td>3.05218674E-11,</td>\n",
       "      <td>-1.33195876E-15,</td>\n",
       "      <td>3.68362875E+03,</td>\n",
       "      <td>5.701641</td>\n",
       "    </tr>\n",
       "    <tr>\n",
       "      <th>3</th>\n",
       "      <td>H2</td>\n",
       "      <td>1000</td>\n",
       "      <td>5000</td>\n",
       "      <td>2.99142337E+00,</td>\n",
       "      <td>7.00064411E-04,</td>\n",
       "      <td>-5.63382869E-08,</td>\n",
       "      <td>-9.23157818E-12,</td>\n",
       "      <td>1.58275179E-15,</td>\n",
       "      <td>-8.35033997E+02,</td>\n",
       "      <td>-1.355110</td>\n",
       "    </tr>\n",
       "    <tr>\n",
       "      <th>4</th>\n",
       "      <td>O2</td>\n",
       "      <td>1000</td>\n",
       "      <td>5000</td>\n",
       "      <td>3.69757819E+00,</td>\n",
       "      <td>6.13519689E-04,</td>\n",
       "      <td>-1.25884199E-07,</td>\n",
       "      <td>1.77528148E-11,</td>\n",
       "      <td>-1.13643531E-15,</td>\n",
       "      <td>-1.23393018E+03,</td>\n",
       "      <td>3.189166</td>\n",
       "    </tr>\n",
       "    <tr>\n",
       "      <th>5</th>\n",
       "      <td>H2O</td>\n",
       "      <td>1000</td>\n",
       "      <td>5000</td>\n",
       "      <td>2.67214561E+00,</td>\n",
       "      <td>3.05629289E-03,</td>\n",
       "      <td>-8.73026011E-07,</td>\n",
       "      <td>1.20099639E-10,</td>\n",
       "      <td>-6.39161787E-15,</td>\n",
       "      <td>-2.98992090E+04,</td>\n",
       "      <td>6.862817</td>\n",
       "    </tr>\n",
       "    <tr>\n",
       "      <th>6</th>\n",
       "      <td>HO2</td>\n",
       "      <td>1000</td>\n",
       "      <td>3500</td>\n",
       "      <td>4.01721090E+00,</td>\n",
       "      <td>2.23982013E-03,</td>\n",
       "      <td>-6.33658150E-07,</td>\n",
       "      <td>1.14246370E-10,</td>\n",
       "      <td>-1.07908535E-14,</td>\n",
       "      <td>1.11856713E+02,</td>\n",
       "      <td>3.785102</td>\n",
       "    </tr>\n",
       "    <tr>\n",
       "      <th>7</th>\n",
       "      <td>H2O2</td>\n",
       "      <td>1000</td>\n",
       "      <td>5000</td>\n",
       "      <td>4.57316685E+00,</td>\n",
       "      <td>4.33613639E-03,</td>\n",
       "      <td>-1.47468882E-06,</td>\n",
       "      <td>2.34890357E-10,</td>\n",
       "      <td>-1.43165356E-14,</td>\n",
       "      <td>-1.80069609E+04,</td>\n",
       "      <td>0.501137</td>\n",
       "    </tr>\n",
       "    <tr>\n",
       "      <th>8</th>\n",
       "      <td>N2</td>\n",
       "      <td>1000</td>\n",
       "      <td>5000</td>\n",
       "      <td>0.02926640E+02,</td>\n",
       "      <td>0.01487977E-01,</td>\n",
       "      <td>-0.05684761E-05,</td>\n",
       "      <td>0.01009704E-08,</td>\n",
       "      <td>-0.06753351E-13,</td>\n",
       "      <td>-0.09227977E+04,</td>\n",
       "      <td>5.980528</td>\n",
       "    </tr>\n",
       "    <tr>\n",
       "      <th>9</th>\n",
       "      <td>Hp</td>\n",
       "      <td>1000</td>\n",
       "      <td>5000</td>\n",
       "      <td>1.64243522,</td>\n",
       "      <td>2.89759059E-04,</td>\n",
       "      <td>0.00000000E+00,</td>\n",
       "      <td>0.00000000E+00,</td>\n",
       "      <td>0.00000000E+00,</td>\n",
       "      <td>-4.69510297E+00,</td>\n",
       "      <td>-11.148334</td>\n",
       "    </tr>\n",
       "    <tr>\n",
       "      <th>10</th>\n",
       "      <td>Op</td>\n",
       "      <td>1000</td>\n",
       "      <td>5000</td>\n",
       "      <td>1.64243522,</td>\n",
       "      <td>2.89759059E-04,</td>\n",
       "      <td>0.00000000E+00,</td>\n",
       "      <td>0.00000000E+00,</td>\n",
       "      <td>0.00000000E+00,</td>\n",
       "      <td>-4.69510297E+00,</td>\n",
       "      <td>-14.467683</td>\n",
       "    </tr>\n",
       "  </tbody>\n",
       "</table>\n",
       "</div>"
      ],
      "text/plain": [
       "   species_name  tlow  thigh          coeff_1           coeff_2  \\\n",
       "0             H  1000   5000  2.50000000E+00,   0.00000000E+00,   \n",
       "1             O  1000   5000  2.54205966E+00,  -2.75506191E-05,   \n",
       "2            OH  1000   6000  2.86472886E+00,   1.05650448E-03,   \n",
       "3            H2  1000   5000  2.99142337E+00,   7.00064411E-04,   \n",
       "4            O2  1000   5000  3.69757819E+00,   6.13519689E-04,   \n",
       "5           H2O  1000   5000  2.67214561E+00,   3.05629289E-03,   \n",
       "6           HO2  1000   3500  4.01721090E+00,   2.23982013E-03,   \n",
       "7          H2O2  1000   5000  4.57316685E+00,   4.33613639E-03,   \n",
       "8            N2  1000   5000  0.02926640E+02,   0.01487977E-01,   \n",
       "9            Hp  1000   5000      1.64243522,   2.89759059E-04,   \n",
       "10           Op  1000   5000      1.64243522,   2.89759059E-04,   \n",
       "\n",
       "             coeff_3           coeff_4           coeff_5           coeff_6  \\\n",
       "0    0.00000000E+00,   0.00000000E+00,   0.00000000E+00,   2.54716270E+04,   \n",
       "1   -3.10280335E-09,   4.55106742E-12,  -4.36805150E-16,   2.92308027E+04,   \n",
       "2   -2.59082758E-07,   3.05218674E-11,  -1.33195876E-15,   3.68362875E+03,   \n",
       "3   -5.63382869E-08,  -9.23157818E-12,   1.58275179E-15,  -8.35033997E+02,   \n",
       "4   -1.25884199E-07,   1.77528148E-11,  -1.13643531E-15,  -1.23393018E+03,   \n",
       "5   -8.73026011E-07,   1.20099639E-10,  -6.39161787E-15,  -2.98992090E+04,   \n",
       "6   -6.33658150E-07,   1.14246370E-10,  -1.07908535E-14,   1.11856713E+02,   \n",
       "7   -1.47468882E-06,   2.34890357E-10,  -1.43165356E-14,  -1.80069609E+04,   \n",
       "8   -0.05684761E-05,   0.01009704E-08,  -0.06753351E-13,  -0.09227977E+04,   \n",
       "9    0.00000000E+00,   0.00000000E+00,   0.00000000E+00,  -4.69510297E+00,   \n",
       "10   0.00000000E+00,   0.00000000E+00,   0.00000000E+00,  -4.69510297E+00,   \n",
       "\n",
       "      coeff_7  \n",
       "0   -0.460118  \n",
       "1    4.920308  \n",
       "2    5.701641  \n",
       "3   -1.355110  \n",
       "4    3.189166  \n",
       "5    6.862817  \n",
       "6    3.785102  \n",
       "7    0.501137  \n",
       "8    5.980528  \n",
       "9  -11.148334  \n",
       "10 -14.467683  "
      ]
     },
     "execution_count": 71,
     "metadata": {},
     "output_type": "execute_result"
    }
   ],
   "source": [
    "high_cols = [col[1] for col in cursor.execute(\"PRAGMA table_info(HIGH)\")]\n",
    "query = '''SELECT * FROM HIGH'''\n",
    "viz_tables(high_cols, query)"
   ]
  },
  {
   "cell_type": "markdown",
   "metadata": {},
   "source": [
    "# Question 2: `WHERE` Statements"
   ]
  },
  {
   "cell_type": "markdown",
   "metadata": {},
   "source": [
    "1. Write a `Python` function `get_coeffs` that returns an array of 7 coefficients.  \n",
    "   \n",
    "   The function should take in two parameters: 1.) `species_name` and 2.) `temp_range`, an indicator variable ('low' or 'high') to indicate whether the coefficients should come from the low or high temperature range.  \n",
    "   The function should use `SQL` commands and `WHERE` statements on the table you just created in Question 1 (rather than taking data from the XML directly).\n",
    "```python\n",
    "def get_coeffs(species_name, temp_range):\n",
    "    ''' Fill in here'''\n",
    "    return coeffs\n",
    "```\n",
    "\n",
    "2. Write a python function `get_species` that returns all species that have a temperature range above or below a given value. The function should take in two parameters: 1.) `temp` and 2.) `temp_range`, an indicator variable ('low' or 'high').\n",
    "\n",
    "  When temp_range is 'low', we are looking for species with a temperature range lower than the given temperature, and for a 'high' temp_range, we want species with a temperature range higher than the given temperature.\n",
    "\n",
    "  This exercise may be useful if different species have different `LOW` and `HIGH` ranges.\n",
    "\n",
    "  And as before, you should accomplish this through `SQL` queries and where statements.\n",
    "\n",
    "```python\n",
    "def get_species(temp, temp_range):\n",
    "    ''' Fill in here'''\n",
    "    return coeffs\n",
    "```"
   ]
  },
  {
   "cell_type": "code",
   "execution_count": 72,
   "metadata": {},
   "outputs": [],
   "source": [
    "def get_coeffs(species_name, temp_range):\n",
    "    if temp_range==\"low\":\n",
    "        function = '''SELECT coeff_1,coeff_2,coeff_3,coeff_4,coeff_5,coeff_6,coeff_7 FROM low WHERE species_name=?'''\n",
    "        coeffs=cursor.execute(function,(species_name)).fetchone()\n",
    "  \n",
    "    else:\n",
    "        function = '''SELECT coeff_1,coeff_2,coeff_3,coeff_4,coeff_5,coeff_6,coeff_7 FROM high WHERE species_name=?'''\n",
    "        coeffs=cursor.execute(function,(species_name)).fetchone()\n",
    "\n",
    "    return coeffs"
   ]
  },
  {
   "cell_type": "code",
   "execution_count": 74,
   "metadata": {},
   "outputs": [
    {
     "data": {
      "text/plain": [
       "('2.50000000E+00,',\n",
       " '0.00000000E+00,',\n",
       " '0.00000000E+00,',\n",
       " '0.00000000E+00,',\n",
       " '0.00000000E+00,',\n",
       " '2.54716270E+04,',\n",
       " -0.460117638)"
      ]
     },
     "execution_count": 74,
     "metadata": {},
     "output_type": "execute_result"
    }
   ],
   "source": [
    "get_coeffs(\"H\",\"high\")"
   ]
  },
  {
   "cell_type": "code",
   "execution_count": 84,
   "metadata": {
    "collapsed": true
   },
   "outputs": [],
   "source": [
    "def get_species(temp, temp_range):\n",
    "    ''' Fill in here'''\n",
    "    if temp_range==\"low\":\n",
    "        \n",
    "        function = '''SELECT species_name FROM low WHERE tlow<?'''\n",
    "        species=cursor.execute(function,(temp_range,)).fetchall()\n",
    "\n",
    "    else:\n",
    "        function = '''SELECT species_name FROM high WHERE thigh>?'''\n",
    "        species=cursor.execute(function,(temp_range,)).fetchall()\n",
    "    return species"
   ]
  },
  {
   "cell_type": "code",
   "execution_count": 88,
   "metadata": {},
   "outputs": [
    {
     "data": {
      "text/plain": [
       "[('H',),\n",
       " ('O',),\n",
       " ('OH',),\n",
       " ('H2',),\n",
       " ('O2',),\n",
       " ('H2O',),\n",
       " ('HO2',),\n",
       " ('H2O2',),\n",
       " ('N2',),\n",
       " ('Hp',),\n",
       " ('Op',)]"
      ]
     },
     "execution_count": 88,
     "metadata": {},
     "output_type": "execute_result"
    }
   ],
   "source": [
    "get_species(\"low\",1)"
   ]
  },
  {
   "cell_type": "code",
   "execution_count": 99,
   "metadata": {},
   "outputs": [
    {
     "ename": "ValueError",
     "evalue": "operation parameter must be str",
     "output_type": "error",
     "traceback": [
      "\u001b[0;31m---------------------------------------------------------------------------\u001b[0m",
      "\u001b[0;31mValueError\u001b[0m                                Traceback (most recent call last)",
      "\u001b[0;32m<ipython-input-99-d008008da568>\u001b[0m in \u001b[0;36m<module>\u001b[0;34m()\u001b[0m\n\u001b[1;32m      1\u001b[0m \u001b[0mall_cols\u001b[0m \u001b[0;34m=\u001b[0m \u001b[0;34m[\u001b[0m\u001b[0mcol\u001b[0m\u001b[0;34m[\u001b[0m\u001b[0;36m1\u001b[0m\u001b[0;34m]\u001b[0m \u001b[0;32mfor\u001b[0m \u001b[0mcol\u001b[0m \u001b[0;32min\u001b[0m \u001b[0mcursor\u001b[0m\u001b[0;34m.\u001b[0m\u001b[0mexecute\u001b[0m\u001b[0;34m(\u001b[0m\u001b[0;34m\"PRAGMA table_info(ALL_TEMPS)\"\u001b[0m\u001b[0;34m)\u001b[0m\u001b[0;34m]\u001b[0m\u001b[0;34m\u001b[0m\u001b[0m\n\u001b[1;32m      2\u001b[0m \u001b[0mquery\u001b[0m \u001b[0;34m=\u001b[0m \u001b[0;34m'''SELECT species_name FROM low WHERE tlow<?'''\u001b[0m\u001b[0;34m\u001b[0m\u001b[0m\n\u001b[0;32m----> 3\u001b[0;31m \u001b[0mviz_tables\u001b[0m\u001b[0;34m(\u001b[0m\u001b[0mall_cols\u001b[0m\u001b[0;34m,\u001b[0m\u001b[0;34m(\u001b[0m\u001b[0mquery\u001b[0m\u001b[0;34m,\u001b[0m\u001b[0;34m(\u001b[0m\u001b[0;36m1\u001b[0m\u001b[0;34m,\u001b[0m\u001b[0;34m)\u001b[0m\u001b[0;34m)\u001b[0m\u001b[0;34m)\u001b[0m\u001b[0;34m\u001b[0m\u001b[0m\n\u001b[0m",
      "\u001b[0;32m<ipython-input-14-82a1f34bfc69>\u001b[0m in \u001b[0;36mviz_tables\u001b[0;34m(cols, query)\u001b[0m\n\u001b[1;32m      1\u001b[0m \u001b[0;32mdef\u001b[0m \u001b[0mviz_tables\u001b[0m\u001b[0;34m(\u001b[0m\u001b[0mcols\u001b[0m\u001b[0;34m,\u001b[0m \u001b[0mquery\u001b[0m\u001b[0;34m)\u001b[0m\u001b[0;34m:\u001b[0m\u001b[0;34m\u001b[0m\u001b[0m\n\u001b[0;32m----> 2\u001b[0;31m     \u001b[0mq\u001b[0m \u001b[0;34m=\u001b[0m \u001b[0mcursor\u001b[0m\u001b[0;34m.\u001b[0m\u001b[0mexecute\u001b[0m\u001b[0;34m(\u001b[0m\u001b[0mquery\u001b[0m\u001b[0;34m)\u001b[0m\u001b[0;34m.\u001b[0m\u001b[0mfetchall\u001b[0m\u001b[0;34m(\u001b[0m\u001b[0;34m)\u001b[0m\u001b[0;34m\u001b[0m\u001b[0m\n\u001b[0m\u001b[1;32m      3\u001b[0m     \u001b[0mframelist\u001b[0m \u001b[0;34m=\u001b[0m \u001b[0;34m[\u001b[0m\u001b[0;34m]\u001b[0m\u001b[0;34m\u001b[0m\u001b[0m\n\u001b[1;32m      4\u001b[0m     \u001b[0;32mfor\u001b[0m \u001b[0mi\u001b[0m\u001b[0;34m,\u001b[0m \u001b[0mcol_name\u001b[0m \u001b[0;32min\u001b[0m \u001b[0menumerate\u001b[0m\u001b[0;34m(\u001b[0m\u001b[0mcols\u001b[0m\u001b[0;34m)\u001b[0m\u001b[0;34m:\u001b[0m\u001b[0;34m\u001b[0m\u001b[0m\n\u001b[1;32m      5\u001b[0m         \u001b[0mframelist\u001b[0m\u001b[0;34m.\u001b[0m\u001b[0mappend\u001b[0m\u001b[0;34m(\u001b[0m\u001b[0;34m(\u001b[0m\u001b[0mcol_name\u001b[0m\u001b[0;34m,\u001b[0m \u001b[0;34m[\u001b[0m\u001b[0mcol\u001b[0m\u001b[0;34m[\u001b[0m\u001b[0mi\u001b[0m\u001b[0;34m]\u001b[0m \u001b[0;32mfor\u001b[0m \u001b[0mcol\u001b[0m \u001b[0;32min\u001b[0m \u001b[0mq\u001b[0m\u001b[0;34m]\u001b[0m\u001b[0;34m)\u001b[0m\u001b[0;34m)\u001b[0m\u001b[0;34m\u001b[0m\u001b[0m\n",
      "\u001b[0;31mValueError\u001b[0m: operation parameter must be str"
     ]
    }
   ],
   "source": [
    "all_cols = [col[1] for col in cursor.execute(\"PRAGMA table_info(ALL_TEMPS)\")]\n",
    "query = '''SELECT species_name FROM low WHERE tlow<?'''\n",
    "viz_tables(all_cols,(query,(1,)))"
   ]
  },
  {
   "cell_type": "markdown",
   "metadata": {},
   "source": [
    "# Question 3: `JOIN` STATEMENTS"
   ]
  },
  {
   "cell_type": "markdown",
   "metadata": {},
   "source": [
    "Create a table named `ALL_TEMPS` that has the following columns:\n",
    "\n",
    "- `SPECIES_NAME`\n",
    "- `TEMP_LOW`\n",
    "- `TEMP_HIGH`\n",
    "\n",
    "This table should be created by joining the tables `LOW` and `HIGH` on the value `SPECIES_NAME`."
   ]
  },
  {
   "cell_type": "markdown",
   "metadata": {},
   "source": [
    "1. Write a `Python` function `get_range` that returns the range of temperatures for a given species_name.\n",
    "\n",
    "The range should be computed within the `SQL` query (i.e. you should subtract within the `SELECT` statement in the `SQL` query).\n",
    "```python\n",
    "def get_range(species_name):\n",
    "    '''Fill in here'''\n",
    "    return range\n",
    "```\n",
    "\n",
    "Note that `TEMP_LOW` is the lowest temperature in the `LOW` range and `TEMP_HIGH` is the highest temperature in the `HIGH` range."
   ]
  },
  {
   "cell_type": "code",
   "execution_count": 90,
   "metadata": {
    "collapsed": true
   },
   "outputs": [],
   "source": [
    "def get_range(species_name):\n",
    "    function = '''SELECT tlow FROM low WHERE species_name=?'''\n",
    "    temp_low=cursor.execute(function, (species_name,)).fetchall()[0]\n",
    "\n",
    "    function = '''SELECT thigh FROM high WHERE species_name=?'''\n",
    "    temp_high=cursor.execute(function,(species_name,)).fetchall()[0]\n",
    "    \n",
    "    return (temp_low[0],temp_high[0])"
   ]
  },
  {
   "cell_type": "code",
   "execution_count": 91,
   "metadata": {},
   "outputs": [
    {
     "data": {
      "text/plain": [
       "(200, 3500)"
      ]
     },
     "execution_count": 91,
     "metadata": {},
     "output_type": "execute_result"
    }
   ],
   "source": [
    "get_range(\"HO2\")"
   ]
  },
  {
   "cell_type": "code",
   "execution_count": 96,
   "metadata": {},
   "outputs": [
    {
     "name": "stdout",
     "output_type": "stream",
     "text": [
      "('H',) 300 5000\n",
      "('H2',) 300 5000\n",
      "('H2O',) 300 5000\n",
      "('H2O2',) 300 5000\n",
      "('HO2',) 200 3500\n",
      "('Hp',) 300 5000\n",
      "('N2',) 300 5000\n",
      "('O',) 300 5000\n",
      "('O2',) 300 5000\n",
      "('OH',) 200 6000\n",
      "('Op',) 300 5000\n"
     ]
    }
   ],
   "source": [
    "cursor.execute(\"DROP TABLE IF EXISTS all_temps\")\n",
    "cursor.execute('''CREATE TABLE all_temps(\n",
    "               species_name TEXT PRIMARY KEY NOT NULL, \n",
    "               temp_low INT, \n",
    "               temp_high INT)''')\n",
    "\n",
    "function = '''SELECT species_name FROM low'''\n",
    "species=cursor.execute(function).fetchall()\n",
    "for specie in species:\n",
    "    temp_low,temp_high=get_range(specie[0])\n",
    "    print(specie,temp_low,temp_high)\n",
    "    cursor.execute('''INSERT INTO all_temps(species_name, temp_low, temp_high) \n",
    "                    VALUES(?, ?, ?)''',(specie[0],temp_low,temp_high))\n",
    "    \n",
    "    "
   ]
  },
  {
   "cell_type": "code",
   "execution_count": 97,
   "metadata": {
    "collapsed": true
   },
   "outputs": [],
   "source": [
    "cursor.execute(\"DROP TABLE IF EXISTS ALL_TEMPS\")\n",
    "cursor.execute('''\n",
    "CREATE TABLE ALL_TEMPS AS\n",
    "    SELECT HIGH.SPECIES_NAME, HIGH.THIGH AS TEMP_HIGH, LOW.TLOW AS TEMP_LOW\n",
    "    FROM HIGH\n",
    "        JOIN LOW\n",
    "            ON HIGH.SPECIES_NAME = LOW.SPECIES_NAME''')\n",
    "db.commit()"
   ]
  },
  {
   "cell_type": "code",
   "execution_count": 98,
   "metadata": {},
   "outputs": [
    {
     "data": {
      "text/html": [
       "<div>\n",
       "<style>\n",
       "    .dataframe thead tr:only-child th {\n",
       "        text-align: right;\n",
       "    }\n",
       "\n",
       "    .dataframe thead th {\n",
       "        text-align: left;\n",
       "    }\n",
       "\n",
       "    .dataframe tbody tr th {\n",
       "        vertical-align: top;\n",
       "    }\n",
       "</style>\n",
       "<table border=\"1\" class=\"dataframe\">\n",
       "  <thead>\n",
       "    <tr style=\"text-align: right;\">\n",
       "      <th></th>\n",
       "      <th>species_name</th>\n",
       "      <th>TEMP_HIGH</th>\n",
       "      <th>TEMP_LOW</th>\n",
       "    </tr>\n",
       "  </thead>\n",
       "  <tbody>\n",
       "    <tr>\n",
       "      <th>0</th>\n",
       "      <td>H</td>\n",
       "      <td>5000</td>\n",
       "      <td>300</td>\n",
       "    </tr>\n",
       "    <tr>\n",
       "      <th>1</th>\n",
       "      <td>O</td>\n",
       "      <td>5000</td>\n",
       "      <td>300</td>\n",
       "    </tr>\n",
       "    <tr>\n",
       "      <th>2</th>\n",
       "      <td>OH</td>\n",
       "      <td>6000</td>\n",
       "      <td>200</td>\n",
       "    </tr>\n",
       "    <tr>\n",
       "      <th>3</th>\n",
       "      <td>H2</td>\n",
       "      <td>5000</td>\n",
       "      <td>300</td>\n",
       "    </tr>\n",
       "    <tr>\n",
       "      <th>4</th>\n",
       "      <td>O2</td>\n",
       "      <td>5000</td>\n",
       "      <td>300</td>\n",
       "    </tr>\n",
       "    <tr>\n",
       "      <th>5</th>\n",
       "      <td>H2O</td>\n",
       "      <td>5000</td>\n",
       "      <td>300</td>\n",
       "    </tr>\n",
       "    <tr>\n",
       "      <th>6</th>\n",
       "      <td>HO2</td>\n",
       "      <td>3500</td>\n",
       "      <td>200</td>\n",
       "    </tr>\n",
       "    <tr>\n",
       "      <th>7</th>\n",
       "      <td>H2O2</td>\n",
       "      <td>5000</td>\n",
       "      <td>300</td>\n",
       "    </tr>\n",
       "    <tr>\n",
       "      <th>8</th>\n",
       "      <td>N2</td>\n",
       "      <td>5000</td>\n",
       "      <td>300</td>\n",
       "    </tr>\n",
       "    <tr>\n",
       "      <th>9</th>\n",
       "      <td>Hp</td>\n",
       "      <td>5000</td>\n",
       "      <td>300</td>\n",
       "    </tr>\n",
       "    <tr>\n",
       "      <th>10</th>\n",
       "      <td>Op</td>\n",
       "      <td>5000</td>\n",
       "      <td>300</td>\n",
       "    </tr>\n",
       "  </tbody>\n",
       "</table>\n",
       "</div>"
      ],
      "text/plain": [
       "   species_name  TEMP_HIGH  TEMP_LOW\n",
       "0             H       5000       300\n",
       "1             O       5000       300\n",
       "2            OH       6000       200\n",
       "3            H2       5000       300\n",
       "4            O2       5000       300\n",
       "5           H2O       5000       300\n",
       "6           HO2       3500       200\n",
       "7          H2O2       5000       300\n",
       "8            N2       5000       300\n",
       "9            Hp       5000       300\n",
       "10           Op       5000       300"
      ]
     },
     "execution_count": 98,
     "metadata": {},
     "output_type": "execute_result"
    }
   ],
   "source": [
    "all_cols = [col[1] for col in cursor.execute(\"PRAGMA table_info(ALL_TEMPS)\")]\n",
    "query = '''SELECT * FROM ALL_TEMPS'''\n",
    "viz_tables(all_cols, query)"
   ]
  },
  {
   "cell_type": "code",
   "execution_count": null,
   "metadata": {
    "collapsed": true
   },
   "outputs": [],
   "source": []
  }
 ],
 "metadata": {
  "kernelspec": {
   "display_name": "Python 3",
   "language": "python",
   "name": "python3"
  },
  "language_info": {
   "codemirror_mode": {
    "name": "ipython",
    "version": 3
   },
   "file_extension": ".py",
   "mimetype": "text/x-python",
   "name": "python",
   "nbconvert_exporter": "python",
   "pygments_lexer": "ipython3",
   "version": "3.6.1"
  }
 },
 "nbformat": 4,
 "nbformat_minor": 2
}
