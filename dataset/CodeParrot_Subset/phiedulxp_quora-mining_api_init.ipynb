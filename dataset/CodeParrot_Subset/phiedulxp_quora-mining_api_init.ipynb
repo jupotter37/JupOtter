{
 "cells": [
  {
   "cell_type": "code",
   "execution_count": 48,
   "metadata": {
    "collapsed": true
   },
   "outputs": [],
   "source": [
    "import requests"
   ]
  },
  {
   "cell_type": "raw",
   "metadata": {},
   "source": [
    "curl -i -X POST http://localhost:8001/apis/ -d \"name=test\" -d \"request_path=/apis\" -d \"upstream_url=http://localhost:8001/\" -d \"strip_request_path=true\"\n"
   ]
  },
  {
   "cell_type": "raw",
   "metadata": {},
   "source": [
    "curl -i -X GET  --url http://localhost:8000/ "
   ]
  },
  {
   "cell_type": "code",
   "execution_count": 61,
   "metadata": {
    "collapsed": false
   },
   "outputs": [
    {
     "data": {
      "text/plain": [
       "{u'configuration': {u'admin_access_log': u'logs/admin_access.log',\n",
       "  u'admin_error_log': u'logs/error.log',\n",
       "  u'admin_ip': u'0.0.0.0',\n",
       "  u'admin_listen': u'0.0.0.0:8001',\n",
       "  u'admin_listen_ssl': u'0.0.0.0:8444',\n",
       "  u'admin_port': 8001,\n",
       "  u'admin_ssl': True,\n",
       "  u'admin_ssl_cert': u'/usr/local/kong/ssl/admin-kong-default.crt',\n",
       "  u'admin_ssl_cert_csr_default': u'/usr/local/kong/ssl/admin-kong-default.csr',\n",
       "  u'admin_ssl_cert_default': u'/usr/local/kong/ssl/admin-kong-default.crt',\n",
       "  u'admin_ssl_cert_key': u'/usr/local/kong/ssl/admin-kong-default.key',\n",
       "  u'admin_ssl_cert_key_default': u'/usr/local/kong/ssl/admin-kong-default.key',\n",
       "  u'admin_ssl_ip': u'0.0.0.0',\n",
       "  u'admin_ssl_port': 8444,\n",
       "  u'anonymous_reports': True,\n",
       "  u'cassandra_consistency': u'ONE',\n",
       "  u'cassandra_contact_points': [u'127.0.0.1'],\n",
       "  u'cassandra_data_centers': [u'dc1:2', u'dc2:3'],\n",
       "  u'cassandra_keyspace': u'kong',\n",
       "  u'cassandra_lb_policy': u'RoundRobin',\n",
       "  u'cassandra_port': 9042,\n",
       "  u'cassandra_repl_factor': 1,\n",
       "  u'cassandra_repl_strategy': u'SimpleStrategy',\n",
       "  u'cassandra_schema_consensus_timeout': 10000,\n",
       "  u'cassandra_ssl': False,\n",
       "  u'cassandra_ssl_verify': False,\n",
       "  u'cassandra_timeout': 5000,\n",
       "  u'cassandra_username': u'kong',\n",
       "  u'client_ssl': False,\n",
       "  u'client_ssl_cert_csr_default': u'/usr/local/kong/ssl/kong-default.csr',\n",
       "  u'client_ssl_cert_default': u'/usr/local/kong/ssl/kong-default.crt',\n",
       "  u'client_ssl_cert_key_default': u'/usr/local/kong/ssl/kong-default.key',\n",
       "  u'cluster_listen': u'0.0.0.0:7946',\n",
       "  u'cluster_listen_rpc': u'127.0.0.1:7373',\n",
       "  u'cluster_profile': u'wan',\n",
       "  u'cluster_ttl_on_failure': 3600,\n",
       "  u'custom_plugins': {},\n",
       "  u'database': u'postgres',\n",
       "  u'dns_hostsfile': u'/etc/hosts',\n",
       "  u'dns_resolver': {},\n",
       "  u'kong_env': u'/usr/local/kong/.kong_env',\n",
       "  u'latency_tokens': True,\n",
       "  u'log_level': u'notice',\n",
       "  u'lua_code_cache': u'on',\n",
       "  u'lua_package_cpath': u'',\n",
       "  u'lua_package_path': u'?/init.lua;./kong/?.lua',\n",
       "  u'lua_socket_pool_size': 30,\n",
       "  u'lua_ssl_verify_depth': 1,\n",
       "  u'mem_cache_size': u'128m',\n",
       "  u'nginx_acc_logs': u'/usr/local/kong/logs/access.log',\n",
       "  u'nginx_admin_acc_logs': u'/usr/local/kong/logs/admin_access.log',\n",
       "  u'nginx_conf': u'/usr/local/kong/nginx.conf',\n",
       "  u'nginx_daemon': u'off',\n",
       "  u'nginx_err_logs': u'/usr/local/kong/logs/error.log',\n",
       "  u'nginx_kong_conf': u'/usr/local/kong/nginx-kong.conf',\n",
       "  u'nginx_optimizations': True,\n",
       "  u'nginx_pid': u'/usr/local/kong/pids/nginx.pid',\n",
       "  u'nginx_worker_processes': u'auto',\n",
       "  u'pg_database': u'kong',\n",
       "  u'pg_host': u'kong-database',\n",
       "  u'pg_port': 5432,\n",
       "  u'pg_ssl': False,\n",
       "  u'pg_ssl_verify': False,\n",
       "  u'pg_user': u'kong',\n",
       "  u'plugins': {u'acl': True,\n",
       "   u'aws-lambda': True,\n",
       "   u'basic-auth': True,\n",
       "   u'bot-detection': True,\n",
       "   u'correlation-id': True,\n",
       "   u'cors': True,\n",
       "   u'datadog': True,\n",
       "   u'file-log': True,\n",
       "   u'galileo': True,\n",
       "   u'hmac-auth': True,\n",
       "   u'http-log': True,\n",
       "   u'ip-restriction': True,\n",
       "   u'jwt': True,\n",
       "   u'key-auth': True,\n",
       "   u'ldap-auth': True,\n",
       "   u'loggly': True,\n",
       "   u'oauth2': True,\n",
       "   u'rate-limiting': True,\n",
       "   u'request-size-limiting': True,\n",
       "   u'request-termination': True,\n",
       "   u'request-transformer': True,\n",
       "   u'response-ratelimiting': True,\n",
       "   u'response-transformer': True,\n",
       "   u'runscope': True,\n",
       "   u'statsd': True,\n",
       "   u'syslog': True,\n",
       "   u'tcp-log': True,\n",
       "   u'udp-log': True},\n",
       "  u'prefix': u'/usr/local/kong',\n",
       "  u'proxy_access_log': u'logs/access.log',\n",
       "  u'proxy_error_log': u'logs/error.log',\n",
       "  u'proxy_ip': u'0.0.0.0',\n",
       "  u'proxy_listen': u'0.0.0.0:8000',\n",
       "  u'proxy_listen_ssl': u'0.0.0.0:8443',\n",
       "  u'proxy_port': 8000,\n",
       "  u'proxy_ssl_ip': u'0.0.0.0',\n",
       "  u'proxy_ssl_port': 8443,\n",
       "  u'serf_event': u'/usr/local/kong/serf/serf_event.sh',\n",
       "  u'serf_log': u'/usr/local/kong/logs/serf.log',\n",
       "  u'serf_node_id': u'/usr/local/kong/serf/serf.id',\n",
       "  u'serf_path': u'serf',\n",
       "  u'serf_pid': u'/usr/local/kong/pids/serf.pid',\n",
       "  u'server_tokens': True,\n",
       "  u'ssl': True,\n",
       "  u'ssl_cert': u'/usr/local/kong/ssl/kong-default.crt',\n",
       "  u'ssl_cert_csr_default': u'/usr/local/kong/ssl/kong-default.csr',\n",
       "  u'ssl_cert_default': u'/usr/local/kong/ssl/kong-default.crt',\n",
       "  u'ssl_cert_key': u'/usr/local/kong/ssl/kong-default.key',\n",
       "  u'ssl_cert_key_default': u'/usr/local/kong/ssl/kong-default.key',\n",
       "  u'ssl_cipher_suite': u'modern',\n",
       "  u'ssl_ciphers': u'ECDHE-ECDSA-AES256-GCM-SHA384:ECDHE-RSA-AES256-GCM-SHA384:ECDHE-ECDSA-CHACHA20-POLY1305:ECDHE-RSA-CHACHA20-POLY1305:ECDHE-ECDSA-AES128-GCM-SHA256:ECDHE-RSA-AES128-GCM-SHA256:ECDHE-ECDSA-AES256-SHA384:ECDHE-RSA-AES256-SHA384:ECDHE-ECDSA-AES128-SHA256:ECDHE-RSA-AES128-SHA256',\n",
       "  u'upstream_keepalive': 60},\n",
       " u'hostname': u'f4880259ac0a',\n",
       " u'lua_version': u'LuaJIT 2.1.0-beta2',\n",
       " u'plugins': {u'available_on_server': {u'acl': True,\n",
       "   u'aws-lambda': True,\n",
       "   u'basic-auth': True,\n",
       "   u'bot-detection': True,\n",
       "   u'correlation-id': True,\n",
       "   u'cors': True,\n",
       "   u'datadog': True,\n",
       "   u'file-log': True,\n",
       "   u'galileo': True,\n",
       "   u'hmac-auth': True,\n",
       "   u'http-log': True,\n",
       "   u'ip-restriction': True,\n",
       "   u'jwt': True,\n",
       "   u'key-auth': True,\n",
       "   u'ldap-auth': True,\n",
       "   u'loggly': True,\n",
       "   u'oauth2': True,\n",
       "   u'rate-limiting': True,\n",
       "   u'request-size-limiting': True,\n",
       "   u'request-termination': True,\n",
       "   u'request-transformer': True,\n",
       "   u'response-ratelimiting': True,\n",
       "   u'response-transformer': True,\n",
       "   u'runscope': True,\n",
       "   u'statsd': True,\n",
       "   u'syslog': True,\n",
       "   u'tcp-log': True,\n",
       "   u'udp-log': True},\n",
       "  u'enabled_in_cluster': [u'key-auth']},\n",
       " u'prng_seeds': {u'pid: 110': 181698020522L,\n",
       "  u'pid: 111': 149370691682L,\n",
       "  u'pid: 112': 619118914216L,\n",
       "  u'pid: 113': 179819918616L},\n",
       " u'tagline': u'Welcome to kong',\n",
       " u'timers': {u'pending': 5, u'running': -1820},\n",
       " u'version': u'0.10.3'}"
      ]
     },
     "execution_count": 61,
     "metadata": {},
     "output_type": "execute_result"
    }
   ],
   "source": [
    "r = requests.get('http://127.0.0.1:8001')\n",
    "r.json()"
   ]
  },
  {
   "cell_type": "raw",
   "metadata": {},
   "source": [
    "curl -i -X POST  --url http://localhost:8001/apis/  --data 'name=example-api'  --data 'hosts=example.com' --data 'upstream_url=http://httpbin.org'"
   ]
  },
  {
   "cell_type": "code",
   "execution_count": 49,
   "metadata": {
    "collapsed": false
   },
   "outputs": [
    {
     "data": {
      "text/plain": [
       "{u'created_at': 1497859604000L,\n",
       " u'http_if_terminated': True,\n",
       " u'https_only': False,\n",
       " u'id': u'4d9eb3b2-db4a-46ee-ada9-936c50fbc952',\n",
       " u'methods': [u'GET'],\n",
       " u'name': u'keyword',\n",
       " u'preserve_host': False,\n",
       " u'retries': 5,\n",
       " u'strip_uri': True,\n",
       " u'upstream_connect_timeout': 60000,\n",
       " u'upstream_read_timeout': 60000,\n",
       " u'upstream_send_timeout': 60000,\n",
       " u'upstream_url': u'http://localhost:5001'}"
      ]
     },
     "execution_count": 49,
     "metadata": {},
     "output_type": "execute_result"
    }
   ],
   "source": [
    "url = 'http://127.0.0.1:8001/apis/'\n",
    "data = {\n",
    "    'name':'keyword',\\\n",
    "    'methods':'GET',\\\n",
    "    'upstream_url':'http://localhost:5001'\n",
    "}\n",
    "r = requests.post(url,data=data)\n",
    "r.json()"
   ]
  },
  {
   "cell_type": "raw",
   "metadata": {},
   "source": [
    "curl -i -X GET  --url http://localhost:8000/  --header 'Host: example.com'"
   ]
  },
  {
   "cell_type": "code",
   "execution_count": 50,
   "metadata": {
    "collapsed": false
   },
   "outputs": [
    {
     "data": {
      "text/plain": [
       "u'{\"message\":\"no API found with those values\"}\\n'"
      ]
     },
     "execution_count": 50,
     "metadata": {},
     "output_type": "execute_result"
    }
   ],
   "source": [
    "r = requests.get('http://127.0.0.1:8000/keyword')\n",
    "r.text"
   ]
  },
  {
   "cell_type": "raw",
   "metadata": {
    "collapsed": true
   },
   "source": [
    "curl -i -X POST \\\n",
    "  --url http://localhost:8001/apis/example-api/plugins/ \\\n",
    "  --data 'name=key-auth'"
   ]
  },
  {
   "cell_type": "code",
   "execution_count": 51,
   "metadata": {
    "collapsed": false
   },
   "outputs": [
    {
     "data": {
      "text/plain": [
       "{u'api_id': u'4d9eb3b2-db4a-46ee-ada9-936c50fbc952',\n",
       " u'config': {u'anonymous': u'',\n",
       "  u'hide_credentials': False,\n",
       "  u'key_in_body': False,\n",
       "  u'key_names': [u'apikey']},\n",
       " u'created_at': 1497859604000L,\n",
       " u'enabled': True,\n",
       " u'id': u'b521032d-8914-4411-96bd-1a49db498cf5',\n",
       " u'name': u'key-auth'}"
      ]
     },
     "execution_count": 51,
     "metadata": {},
     "output_type": "execute_result"
    }
   ],
   "source": [
    "url = 'http://localhost:8001/apis/keyword/plugins/'\n",
    "data = {'name':'key-auth'}\n",
    "r = requests.post(url,data=data)\n",
    "r.json()"
   ]
  },
  {
   "cell_type": "code",
   "execution_count": 52,
   "metadata": {
    "collapsed": false
   },
   "outputs": [
    {
     "data": {
      "text/plain": [
       "u'{\"message\":\"No API key found in request\"}\\n'"
      ]
     },
     "execution_count": 52,
     "metadata": {},
     "output_type": "execute_result"
    }
   ],
   "source": [
    "r = requests.get('http://127.0.0.1:8000')\n",
    "r.text"
   ]
  },
  {
   "cell_type": "raw",
   "metadata": {},
   "source": [
    " curl -i -X POST \\\n",
    "  --url http://localhost:8001/consumers/ \\\n",
    "  --data \"username=Jason\""
   ]
  },
  {
   "cell_type": "code",
   "execution_count": 53,
   "metadata": {
    "collapsed": false
   },
   "outputs": [
    {
     "data": {
      "text/plain": [
       "{u'created_at': 1497859604000L,\n",
       " u'id': u'7dc53132-5f0e-4ef7-a717-672028d56fd4',\n",
       " u'username': u'lxp'}"
      ]
     },
     "execution_count": 53,
     "metadata": {},
     "output_type": "execute_result"
    }
   ],
   "source": [
    "url = 'http://localhost:8001/consumers/'\n",
    "data = {'username':'lxp'}\n",
    "r = requests.post(url,data=data)\n",
    "r.json()"
   ]
  },
  {
   "cell_type": "raw",
   "metadata": {},
   "source": [
    "curl -i -X POST \\\n",
    "  --url http://localhost:8001/consumers/Jason/key-auth/ \\\n",
    "  --data 'key=ENTER_KEY_HERE'"
   ]
  },
  {
   "cell_type": "code",
   "execution_count": 54,
   "metadata": {
    "collapsed": false
   },
   "outputs": [
    {
     "data": {
      "text/plain": [
       "{u'consumer_id': u'7dc53132-5f0e-4ef7-a717-672028d56fd4',\n",
       " u'created_at': 1497859604000L,\n",
       " u'id': u'f4e8f607-462e-4f3d-9d6d-2d532df04b04',\n",
       " u'key': u'123456'}"
      ]
     },
     "execution_count": 54,
     "metadata": {},
     "output_type": "execute_result"
    }
   ],
   "source": [
    "url = 'http://localhost:8001/consumers/lxp/key-auth'\n",
    "data = {'key':'123456'}\n",
    "r = requests.post(url,data=data)\n",
    "r.json()"
   ]
  },
  {
   "cell_type": "raw",
   "metadata": {},
   "source": [
    "curl -i -X GET \\\n",
    "  --url http://localhost:8000 \\\n",
    "  --header \"Host: example.com\" \\\n",
    "  --header \"apikey: ENTER_KEY_HERE\""
   ]
  },
  {
   "cell_type": "code",
   "execution_count": 62,
   "metadata": {
    "collapsed": false
   },
   "outputs": [
    {
     "data": {
      "text/plain": [
       "u'{\"message\":\"Invalid authentication credentials\"}\\n'"
      ]
     },
     "execution_count": 62,
     "metadata": {},
     "output_type": "execute_result"
    }
   ],
   "source": [
    "r = requests.get('http://localhost:8000',headers={'apikey':'123456'})\n",
    "r.text"
   ]
  },
  {
   "cell_type": "code",
   "execution_count": null,
   "metadata": {
    "collapsed": true
   },
   "outputs": [],
   "source": []
  }
 ],
 "metadata": {
  "anaconda-cloud": {},
  "kernelspec": {
   "display_name": "Python [default]",
   "language": "python",
   "name": "python2"
  },
  "language_info": {
   "codemirror_mode": {
    "name": "ipython",
    "version": 2
   },
   "file_extension": ".py",
   "mimetype": "text/x-python",
   "name": "python",
   "nbconvert_exporter": "python",
   "pygments_lexer": "ipython2",
   "version": "2.7.12"
  }
 },
 "nbformat": 4,
 "nbformat_minor": 1
}
