{
 "cells": [
  {
   "cell_type": "markdown",
   "metadata": {},
   "source": [
    "#### Import all needed"
   ]
  },
  {
   "cell_type": "code",
   "execution_count": 26,
   "metadata": {
    "collapsed": true
   },
   "outputs": [],
   "source": [
    "import json\n",
    "import csv\n",
    "from datetime import datetime"
   ]
  },
  {
   "cell_type": "markdown",
   "metadata": {},
   "source": [
    "#### Get Interchange Info"
   ]
  },
  {
   "cell_type": "code",
   "execution_count": 27,
   "metadata": {
    "collapsed": false
   },
   "outputs": [],
   "source": [
    "with open('/Users/ramz.sivagurunathan/hacks/hackathon/repos/transport-analyser/data/interchangeInfo.json', 'rb') as fp:\n",
    "    interchangeInfo = json.load(fp)"
   ]
  },
  {
   "cell_type": "markdown",
   "metadata": {},
   "source": [
    "#### Get Buses List"
   ]
  },
  {
   "cell_type": "code",
   "execution_count": 28,
   "metadata": {
    "collapsed": false
   },
   "outputs": [],
   "source": [
    "buses_list = []\n",
    "for k,v in interchangeInfo.iteritems():\n",
    "    buses_list.extend(v['buses'])\n",
    "buses_list = set(buses_list)"
   ]
  },
  {
   "cell_type": "markdown",
   "metadata": {},
   "source": [
    "#### Get Service Details "
   ]
  },
  {
   "cell_type": "code",
   "execution_count": 29,
   "metadata": {
    "collapsed": true
   },
   "outputs": [],
   "source": [
    "calendar_details = {}\n",
    "with open('/Users/ramz.sivagurunathan/hacks/hackathon/datasets/routes/calendar.txt', 'r') as fp:\n",
    "    reader = csv.reader(fp)\n",
    "    for row in reader:\n",
    "        if reader.line_num > 1:\n",
    "            calendar_details[row[0]] = {'operating_days': [row[1], row[2], row[3], row[4], row[5], row[6], row[7]],\n",
    "                                        'start_date': row[8], 'end_date': row[9]\n",
    "                                       }\n",
    "            "
   ]
  },
  {
   "cell_type": "markdown",
   "metadata": {},
   "source": [
    "#### Get Stop Info "
   ]
  },
  {
   "cell_type": "code",
   "execution_count": 30,
   "metadata": {
    "collapsed": true
   },
   "outputs": [],
   "source": [
    "stop_details = {}\n",
    "with open('/Users/ramz.sivagurunathan/hacks/hackathon/datasets/routes/stops.txt', 'r') as fp:\n",
    "    reader = csv.reader(fp)\n",
    "    for row in reader:\n",
    "        if reader.line_num > 1:\n",
    "            stop_details[row[0]] = { 'name' : row[2], 'lat' : row[3], 'lon' : row[4], 'wheelchair' : row[7] }"
   ]
  },
  {
   "cell_type": "markdown",
   "metadata": {},
   "source": [
    "#### Get Trip Stop List"
   ]
  },
  {
   "cell_type": "code",
   "execution_count": 35,
   "metadata": {
    "collapsed": false
   },
   "outputs": [],
   "source": [
    "trip_stop_info = {}\n",
    "trip_start_end_time = {}\n",
    "with open('/Users/ramz.sivagurunathan/hacks/hackathon/datasets/routes/stop_times.txt','r') as fp:\n",
    "        reader = csv.reader(fp)\n",
    "        for row in reader:\n",
    "            if reader.line_num > 1:\n",
    "                trip_stop_info[row[0]] = trip_stop_info.get(row[0], [])\n",
    "                trip_stop_info[row[0]].append({'id' : row[3], 'arrival' : row[1], 'departure' : row[2], \n",
    "                                               'distance' : row[8],\n",
    "                                               'name' : stop_details[row[3]]['name'], \n",
    "                                               'lat' : stop_details[row[3]]['lat'],\n",
    "                                               'lon' : stop_details[row[3]]['lon'], \n",
    "                                               'wheelchair' : stop_details[row[3]]['wheelchair']})\n",
    "                if row[4] == \"1\":\n",
    "                    trip_start_end_time[row[0]] = {'start_time' : row[1]}\n",
    "                else:\n",
    "                    trip_start_end_time[row[0]]['end_time'] = row[2]"
   ]
  },
  {
   "cell_type": "markdown",
   "metadata": {},
   "source": [
    "#### Get Route Name"
   ]
  },
  {
   "cell_type": "code",
   "execution_count": 36,
   "metadata": {
    "collapsed": false
   },
   "outputs": [],
   "source": [
    "route_info = {}\n",
    "with open('/Users/ramz.sivagurunathan/hacks/hackathon/datasets/routes/routes.txt','r') as fp:\n",
    "    reader = csv.reader(fp)\n",
    "    for row in reader:\n",
    "        route_info[row[0]] = row[3]"
   ]
  },
  {
   "cell_type": "markdown",
   "metadata": {},
   "source": [
    "#### buses = {trips: [{route_id: xxx, route_name: xxx, service_id: xxx, start_date: xxx, end_date: xxx , operating_days: [], time_start: xxx , time_end: xxx, total_time: xxx, stops: [id: xxx, lat: xxx, lon: xxx, dist: xxx]}] }"
   ]
  },
  {
   "cell_type": "code",
   "execution_count": 38,
   "metadata": {
    "collapsed": false
   },
   "outputs": [],
   "source": [
    "bus_trips = {}\n",
    "route_id_list = set({})\n",
    "trip_id_list = set({})\n",
    "for bus in buses_list:\n",
    "    bus_trips[bus] = {'trips': []}\n",
    "    \n",
    "\n",
    "with open('/Users/ramz.sivagurunathan/hacks/hackathon/datasets/routes/trips.txt','r') as fp:\n",
    "    reader = csv.reader(fp)\n",
    "    for row in reader:\n",
    "        if reader.line_num > 1:\n",
    "            bus = row[2].split('-')[1]\n",
    "            trip_id = row[2]\n",
    "            route_id = row[0]\n",
    "            service_id = row[1]\n",
    "            direction = row[5]\n",
    "            head_sign = row[4]\n",
    "            wheelchair = row[7]\n",
    "            if bus in buses_list:\n",
    "                trip_ids = map(lambda x: x['id'], bus_trips[bus]['trips'])\n",
    "                if trip_id not in trip_ids:\n",
    "                    bus_trips[bus]['trips'].append({'id' : trip_id, \n",
    "                                                    'route_id': route_id, \n",
    "                                                    'route_name' : route_info[route_id],\n",
    "                                                    'service_id': service_id, \n",
    "                                                    'direction' : direction, \n",
    "                                                    'head_sign' : head_sign, \n",
    "                                                    'wheelchair': wheelchair,\n",
    "                                                    'operating_days': calendar_details[service_id]['operating_days'],\n",
    "                                                    'start_date' : datetime.strptime(calendar_details[service_id]['start_date'], '%Y%m%d').isoformat(),                                \n",
    "                                                    'end_date' : datetime.strptime(calendar_details[service_id]['end_date'], '%Y%m%d').isoformat(),\n",
    "                                                    'start_time' : trip_start_end_time[trip_id]['start_time'],\n",
    "                                                    'end_time' : trip_start_end_time[trip_id]['end_time'],\n",
    "                                                    'stops' : trip_stop_info[trip_id]\n",
    "                                                   })\n",
    "                    route_id_list.add(route_id)\n",
    "                    trip_id_list.add(trip_id)"
   ]
  },
  {
   "cell_type": "markdown",
   "metadata": {},
   "source": [
    "#### Write Bus Info to files"
   ]
  },
  {
   "cell_type": "code",
   "execution_count": 39,
   "metadata": {
    "collapsed": true
   },
   "outputs": [],
   "source": [
    "for bus, bus_info in bus_trips.iteritems():\n",
    "    with open(\"/Users/ramz.sivagurunathan/hacks/hackathon/repos/transport-analyser/data/buses/{0}.json\".format(bus), 'w') as fp:\n",
    "        json.dump(bus_info, fp, indent=4)"
   ]
  },
  {
   "cell_type": "code",
   "execution_count": null,
   "metadata": {
    "collapsed": true
   },
   "outputs": [],
   "source": []
  }
 ],
 "metadata": {
  "kernelspec": {
   "display_name": "Python 2",
   "language": "python",
   "name": "python2"
  },
  "language_info": {
   "codemirror_mode": {
    "name": "ipython",
    "version": 2
   },
   "file_extension": ".py",
   "mimetype": "text/x-python",
   "name": "python",
   "nbconvert_exporter": "python",
   "pygments_lexer": "ipython2",
   "version": "2.7.6"
  }
 },
 "nbformat": 4,
 "nbformat_minor": 0
}
