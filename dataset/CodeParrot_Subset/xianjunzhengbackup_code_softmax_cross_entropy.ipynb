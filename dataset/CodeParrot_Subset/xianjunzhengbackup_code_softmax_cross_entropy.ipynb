{
 "cells": [
  {
   "cell_type": "code",
   "execution_count": 2,
   "metadata": {
    "collapsed": true
   },
   "outputs": [],
   "source": [
    "import tensorflow as tf\n",
    "import math"
   ]
  },
  {
   "cell_type": "code",
   "execution_count": 3,
   "metadata": {
    "collapsed": true
   },
   "outputs": [],
   "source": [
    "interactive_sesssion=tf.InteractiveSession()"
   ]
  },
  {
   "cell_type": "code",
   "execution_count": 21,
   "metadata": {
    "collapsed": true
   },
   "outputs": [],
   "source": [
    "y=[[5.,4.,1.],[1.,9.,20.],[3.,4.,3.]]"
   ]
  },
  {
   "cell_type": "code",
   "execution_count": 22,
   "metadata": {
    "collapsed": true
   },
   "outputs": [],
   "source": [
    "y_=[[1,0,0],[1,0,0],[1,0,0]]"
   ]
  },
  {
   "cell_type": "code",
   "execution_count": 23,
   "metadata": {
    "collapsed": false
   },
   "outputs": [],
   "source": [
    "cross_entropy=tf.nn.softmax_cross_entropy_with_logits(y,y_)"
   ]
  },
  {
   "cell_type": "code",
   "execution_count": 24,
   "metadata": {
    "collapsed": false
   },
   "outputs": [
    {
     "data": {
      "text/plain": [
       "array([  0.32656264,  19.00001717,   1.55144465], dtype=float32)"
      ]
     },
     "execution_count": 24,
     "metadata": {},
     "output_type": "execute_result"
    }
   ],
   "source": [
    "interactive_sesssion.run(cross_entropy)"
   ]
  },
  {
   "cell_type": "code",
   "execution_count": 35,
   "metadata": {
    "collapsed": true
   },
   "outputs": [],
   "source": [
    "softmax=tf.nn.softmax(y)"
   ]
  },
  {
   "cell_type": "code",
   "execution_count": 36,
   "metadata": {
    "collapsed": false
   },
   "outputs": [
    {
     "data": {
      "text/plain": [
       "array([[  7.21399188e-01,   2.65387923e-01,   1.32128876e-02],\n",
       "       [  5.60270275e-09,   1.67014223e-05,   9.99983311e-01],\n",
       "       [  2.11941570e-01,   5.76116920e-01,   2.11941570e-01]], dtype=float32)"
      ]
     },
     "execution_count": 36,
     "metadata": {},
     "output_type": "execute_result"
    }
   ],
   "source": [
    "interactive_sesssion.run(softmax)"
   ]
  },
  {
   "cell_type": "code",
   "execution_count": 38,
   "metadata": {
    "collapsed": false
   },
   "outputs": [
    {
     "data": {
      "text/plain": [
       "0.3265626361024641"
      ]
     },
     "execution_count": 38,
     "metadata": {},
     "output_type": "execute_result"
    }
   ],
   "source": [
    "-1*math.log(0.721399188)"
   ]
  },
  {
   "cell_type": "markdown",
   "metadata": {},
   "source": [
    "following is to make a deep learning model using softmax, it looks like optim don't action\n",
    "The reason why optim don't take action, it is because loss_function. It is a regression problem using softmax method."
   ]
  },
  {
   "cell_type": "code",
   "execution_count": 4,
   "metadata": {
    "collapsed": false
   },
   "outputs": [],
   "source": [
    "x=tf.constant([[3.0,4.0,5.0]])"
   ]
  },
  {
   "cell_type": "code",
   "execution_count": 5,
   "metadata": {
    "collapsed": true
   },
   "outputs": [],
   "source": [
    "#weight=tf.Variable(tf.random_normal([3,1],stddev=1,seed=1))\n",
    "weight=tf.Variable([[0.6],[0.5],[0.3]])"
   ]
  },
  {
   "cell_type": "code",
   "execution_count": 6,
   "metadata": {
    "collapsed": true
   },
   "outputs": [],
   "source": [
    "y_=tf.constant([1.0])"
   ]
  },
  {
   "cell_type": "code",
   "execution_count": 7,
   "metadata": {
    "collapsed": false
   },
   "outputs": [],
   "source": [
    "y=tf.matmul(x,weight)"
   ]
  },
  {
   "cell_type": "code",
   "execution_count": 8,
   "metadata": {
    "collapsed": true
   },
   "outputs": [],
   "source": [
    "y_softmax=tf.nn.softmax(y)"
   ]
  },
  {
   "cell_type": "code",
   "execution_count": 14,
   "metadata": {
    "collapsed": false
   },
   "outputs": [],
   "source": [
    "#loss_function=tf.reduce_mean(tf.nn.softmax_cross_entropy_with_logits(model,y_))\n",
    "#loss_function=-tf.reduce_mean(y_*tf.log(tf.clip_by_value(y_softmax,1e-10,1.0)))\n",
    "loss_function=tf.reduce_mean(tf.square(y_-y))"
   ]
  },
  {
   "cell_type": "code",
   "execution_count": 15,
   "metadata": {
    "collapsed": true
   },
   "outputs": [],
   "source": [
    "optim = tf.train.AdamOptimizer(0.001)"
   ]
  },
  {
   "cell_type": "code",
   "execution_count": 16,
   "metadata": {
    "collapsed": false
   },
   "outputs": [],
   "source": [
    "train_step=optim.minimize(loss_function)"
   ]
  },
  {
   "cell_type": "code",
   "execution_count": 17,
   "metadata": {
    "collapsed": false
   },
   "outputs": [
    {
     "name": "stdout",
     "output_type": "stream",
     "text": [
      "WARNING:tensorflow:From <ipython-input-17-beca12014393>:1: initialize_all_variables (from tensorflow.python.ops.variables) is deprecated and will be removed after 2017-03-02.\n",
      "Instructions for updating:\n",
      "Use `tf.global_variables_initializer` instead.\n"
     ]
    }
   ],
   "source": [
    "init_op=tf.initialize_all_variables()"
   ]
  },
  {
   "cell_type": "code",
   "execution_count": 18,
   "metadata": {
    "collapsed": true
   },
   "outputs": [],
   "source": [
    "interactive_sesssion.run(init_op)"
   ]
  },
  {
   "cell_type": "code",
   "execution_count": 20,
   "metadata": {
    "collapsed": false
   },
   "outputs": [
    {
     "name": "stdout",
     "output_type": "stream",
     "text": [
      "[[ 0.50426698]\n",
      " [ 0.40426725]\n",
      " [ 0.20426714]]\n",
      "9.9301\n",
      "[[ 0.4249652 ]\n",
      " [ 0.32496548]\n",
      " [ 0.12496553]]\n",
      "4.83817\n",
      "[[ 0.362335  ]\n",
      " [ 0.26233527]\n",
      " [ 0.06233538]]\n",
      "2.09677\n",
      "[[ 0.3160443 ]\n",
      " [ 0.21604462]\n",
      " [ 0.01604476]]\n",
      "0.796619\n",
      "[[ 0.28435239]\n",
      " [ 0.18435271]\n",
      " [-0.01564718]]\n",
      "0.262382\n",
      "[[ 0.26438984]\n",
      " [ 0.16439024]\n",
      " [-0.03560972]]\n",
      "0.0743554\n",
      "[[ 0.25285834]\n",
      " [ 0.15285876]\n",
      " [-0.04714119]]\n",
      "0.0180376\n",
      "[[ 0.24675588]\n",
      " [ 0.14675631]\n",
      " [-0.05324365]]\n",
      "0.00373012\n",
      "[[ 0.2437984 ]\n",
      " [ 0.14379883]\n",
      " [-0.05620107]]\n",
      "0.000654601\n",
      "[[ 0.24248682]\n",
      " [ 0.14248724]\n",
      " [-0.05751257]]\n",
      "9.69549e-05\n"
     ]
    }
   ],
   "source": [
    "for i in range(1000):\n",
    "    interactive_sesssion.run(train_step)\n",
    "    loss=interactive_sesssion.run(loss_function)\n",
    "    w=interactive_sesssion.run(weight)\n",
    "    if i%100 == 0:\n",
    "        print(w)\n",
    "        print(loss)"
   ]
  },
  {
   "cell_type": "code",
   "execution_count": null,
   "metadata": {
    "collapsed": true
   },
   "outputs": [],
   "source": []
  }
 ],
 "metadata": {
  "anaconda-cloud": {},
  "kernelspec": {
   "display_name": "Python 3",
   "language": "python",
   "name": "python3"
  },
  "language_info": {
   "codemirror_mode": {
    "name": "ipython",
    "version": 3
   },
   "file_extension": ".py",
   "mimetype": "text/x-python",
   "name": "python",
   "nbconvert_exporter": "python",
   "pygments_lexer": "ipython3",
   "version": "3.6.0"
  }
 },
 "nbformat": 4,
 "nbformat_minor": 1
}
