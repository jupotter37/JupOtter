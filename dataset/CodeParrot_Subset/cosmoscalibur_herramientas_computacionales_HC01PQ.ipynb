{
 "cells": [
  {
   "cell_type": "markdown",
   "metadata": {},
   "source": [
    "# Parcial\n",
    "\n",
    "El examen posee duración de 2 horas máximo, de 10:00 A.M. a 12 M.  \n",
    "Puede usar sus notas de clase si estas son en formato Notebook `ipynb`, o cualquier material disponible en el repositorio del curso. Tenga en cuenta que elementos no vistos pueden evaluarse si estos son posibles de realizar con las instrucciones de ayuda o con las notas existentes en el material del repositorio.  \n",
    "Use las celdas `markdown` y `code` corresponda para la solución de cada punto.  \n",
    "\n",
    "Para la solución, conserve las celdas de los enunciados, y comience en una celda inmediatamente debajo de las celdas finales del bloque conceptual y del bloque práctico. De manera manual indique en cada solución el punto y literal que corresponde en el caso práctico (no existe continuidad de listas entre celdas). Para el caso conceptual use una única celda y siga el mismo esquema de lista que reproduzca adecuadamente los numerales y literales.  \n",
    "\n",
    "Para la entrega del examen, en caso de contar con internet, debe adjuntar el archivo en este [enlace](https://www.dropbox.com/request/39AOM7WT7EvVc5NHjpMc), de lo contrario solicite la USB al docente para almacenar su entrega.  "
   ]
  },
  {
   "cell_type": "markdown",
   "metadata": {},
   "source": [
    "## Conceptual\n",
    "1. __Linux__. En un _script_ bash:  \n",
    "    1. ($0{,}3$) ¿A que se refieren las variables `$0` y `$2`?  \n",
    "    1. ($0{,}2$) Explique como se invoca el _script_ desde la consola para que reconozca argumentos y como se separan los argumentos.  \n",
    "1. __LaTeX__.  \n",
    "    1. ($0{,}2$) Si se desea que la expresión de LaTeX `$5.2x^2$` muestre en el pdf el separador decimal coma, indique la línea que debe existir en el preámbulo del documento LaTeX.  \n",
    "    1. ($0{,}3$) Si usamos `\\usepackage[utf8]{inputenc}` pero no usamos el paquete fontenc, ¿Puede digitarse el caracter ‘p’ y obtener la correcta visualización en el pdf del carácter? Explique.  \n",
    "1. __Git__.  \n",
    "    1. ($0{,}3$) Si se desea un resumen de los `commits` con visualización de uno por linea, ¿Cual es la instrucción que se debe ejecutar?.  \n",
    "    1. ($0{,}2$) La clonación del repositorio para obtener el parcial otorga este puntaje.  \n",
    "1. __Algebra computacional__.  \n",
    "    1. ($0{,}5$) Indique en forma de ecuación markdown/LaTeX las expresiones matematicas para los siguientes arboles:\n",
    "![Arboles parcial](http://www.math.wpi.edu/IQP/BVCalcHist/Image170.gif)  \n",
    "    1. ($0{,}5$) Sabemos de las identidades trigonométricas que $1 - sen^2(a)-cos^2(a) = 0$. Sin embargo al usar la biblioteca `math` para su verificación en un ángulo de $\\frac{\\pi}{6}$, presentamos el error ilustrado en la celda siguiente. Explique en detalle las posibles causas del error y como se solventa con el algebra computacional (sea igualmente claro y detallado)."
   ]
  },
  {
   "cell_type": "code",
   "execution_count": 1,
   "metadata": {
    "collapsed": false
   },
   "outputs": [
    {
     "data": {
      "text/plain": [
       "'-0.00000000000000006'"
      ]
     },
     "execution_count": 1,
     "metadata": {},
     "output_type": "execute_result"
    }
   ],
   "source": [
    "from math import sin, cos, pi\n",
    "uno = 1- cos(pi/6)**2 - sin(pi/6)**2\n",
    "format(uno, '.17f')"
   ]
  },
  {
   "cell_type": "markdown",
   "metadata": {},
   "source": [
    "## Práctico  \n",
    "\n",
    "1. ($0{,}7$) En una casilla de código, consulte a que corresponden las opciones de `git` que se mencionan a continuación.Cree en una celda de código seguida manualmente una variable que almacene una lista de listas, en la cual la primera columna tiene como titulo `Opción de git` y la segunda columna tiene como titulo `Descripción` (en su primera fila) y las siguientes filas son los textos correspondientes, y realice en la misma celda un código para que visualice dicha lista de listas, como una tabla markdown en este notebook. Realice el `import` que requiera para esto.  \n",
    "    + git clone  \n",
    "    + git rebase  \n",
    "    + git log  \n",
    "    + git branch  \n",
    "1. ($0{,}7$) Cree un pdf con LaTeX que reproduzca este documento fielmente en su estilo de sus primeras dos celdas con sus respectivos equivalentes. Compile el archivo desde una celda de código (el archivo en si mismo puede editarlo externamente). Para la imagen usada, debe realizar su descarga tambien desde una celda de código.  \n",
    "1. ($0{,}6$) En una celda de código construya una función bash de nombre `concatenar` que reciba dos argumentos e imprima como salida la concatenación (unión de caracteres) de estos finalizando en `_parcial.zip`. En la misma celda, comprima con `zip` este archivo (previo guardado de cambios), el pdf, imagen y tex del punto anterior y asigne el nombre del comprimido haciendo uso de la invocación de la función concatenar con primer argumento su documento de identidad y segundo argumento su primer apellido. Puede usar asignación de variables si lo requiere.  \n",
    "1. ($0{,}5$) El correcto uso de markdown y celdas de código ponderara este punto.  "
   ]
  }
 ],
 "metadata": {
  "kernelspec": {
   "display_name": "Python 3",
   "language": "python",
   "name": "python3"
  },
  "language_info": {
   "codemirror_mode": {
    "name": "ipython",
    "version": 3
   },
   "file_extension": ".py",
   "mimetype": "text/x-python",
   "name": "python",
   "nbconvert_exporter": "python",
   "pygments_lexer": "ipython3",
   "version": "3.5.2"
  }
 },
 "nbformat": 4,
 "nbformat_minor": 1
}
