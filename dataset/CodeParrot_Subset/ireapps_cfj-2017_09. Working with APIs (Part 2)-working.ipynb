{
 "cells": [
  {
   "cell_type": "markdown",
   "metadata": {},
   "source": [
    "# Working with data from an API\n",
    "\n",
    "Web APIs are now a common way to interact with data, and many governments now have open data portals that offer access via API. Socrata is a common vendor.\n",
    "\n",
    "Here, we're going to tap into the API feed of a [dataset of vacant buildings in St. Paul](https://information.stpaul.gov/Buildings-Housing-Economic-Development/Vacant-Buildings-Dataset/fgbn-288b)."
   ]
  },
  {
   "cell_type": "markdown",
   "metadata": {},
   "source": [
    "### Import the modules we need"
   ]
  },
  {
   "cell_type": "code",
   "execution_count": null,
   "metadata": {
    "collapsed": true
   },
   "outputs": [],
   "source": []
  },
  {
   "cell_type": "markdown",
   "metadata": {},
   "source": [
    "### Fetch the page and get the JSON"
   ]
  },
  {
   "cell_type": "code",
   "execution_count": null,
   "metadata": {
    "collapsed": true
   },
   "outputs": [],
   "source": [
    "# URL\n",
    "\n",
    "\n",
    "# use the json() method, which converts the json into Python objects\n",
    "\n",
    "\n",
    "# print to see what we're working with\n"
   ]
  },
  {
   "cell_type": "markdown",
   "metadata": {},
   "source": [
    "### Filter the data\n",
    "\n",
    "Looks like we're dealing with a list of dictionaries. Maybe our goal here is to filter out everything except the vacant single-family residences.\n",
    "\n",
    "Let's use a new thing called a [`list comprehension`](https://docs.python.org/3/tutorial/datastructures.html#list-comprehensions) -- really handy when you want to filter a group of things and store the result in a variable."
   ]
  },
  {
   "cell_type": "code",
   "execution_count": null,
   "metadata": {
    "collapsed": true
   },
   "outputs": [],
   "source": []
  },
  {
   "cell_type": "markdown",
   "metadata": {},
   "source": [
    "### _Exercise_\n",
    "\n",
    "From the original data set, filter out everything except vacant buildings that were vacant as of (`vacant_as_of`) 2013 or later. Select whatever elements of the data are interesting to you and write out to a CSV file.\n",
    "\n",
    "Breaking down the problem:\n",
    "\n",
    "- Filter the data to include only buildings vacant as of 2013 or later\n",
    "    - Use slicing to isolate the year from the vacancy date\n",
    "    - Coerce that year string to an integer\n",
    "    - In a list comprehension, use an if statement to compare whether the year is greater than or equal to 2013\n",
    "- Open a file to write to\n",
    "- Loop over that filtered list of data\n",
    "- Select the elements of the data that you think belong in your CSV and write them out"
   ]
  },
  {
   "cell_type": "code",
   "execution_count": null,
   "metadata": {
    "collapsed": true
   },
   "outputs": [],
   "source": []
  }
 ],
 "metadata": {
  "kernelspec": {
   "display_name": "Python 3",
   "language": "python",
   "name": "python3"
  },
  "language_info": {
   "codemirror_mode": {
    "name": "ipython",
    "version": 3
   },
   "file_extension": ".py",
   "mimetype": "text/x-python",
   "name": "python",
   "nbconvert_exporter": "python",
   "pygments_lexer": "ipython3",
   "version": "3.6.2"
  }
 },
 "nbformat": 4,
 "nbformat_minor": 2
}
