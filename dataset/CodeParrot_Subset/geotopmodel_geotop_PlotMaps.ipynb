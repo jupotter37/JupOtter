{
 "cells": [
  {
   "cell_type": "markdown",
   "metadata": {},
   "source": [
    "# Analyse GEOtop maps\n",
    "---\n",
    "Author: Elisa Bortoli (elisa.bortoli3@gmail.com) \n",
    "\n",
    "Date: 28/03/2019"
   ]
  },
  {
   "cell_type": "markdown",
   "metadata": {},
   "source": [
    "## Load DEM"
   ]
  },
  {
   "cell_type": "code",
   "execution_count": 1,
   "metadata": {
    "collapsed": true
   },
   "outputs": [],
   "source": [
    "import rasterio as rio\n",
    "from rasterio.plot import show\n",
    "\n",
    "import matplotlib.pyplot as plt\n",
    "\n",
    "import os\n",
    "plt.ion()\n",
    "\n",
    "from shapely.geometry import Polygon, mapping\n",
    "from rasterio.mask import mask\n",
    "\n",
    "# set standard plot parameters for uniform plotting\n",
    "plt.rcParams['figure.figsize'] = (8, 8)\n"
   ]
  },
  {
   "cell_type": "code",
   "execution_count": 2,
   "metadata": {},
   "outputs": [
    {
     "data": {
      "text/plain": [
       "array([[[-9999., -9999., -9999., -9999.,  1500., -9999., -9999., -9999.],\n",
       "        [-9999.,  1300.,  1350.,  1450.,  1480.,  1450.,  1480.,  1490.],\n",
       "        [-9999.,  1280.,  1320.,  1400.,  1430.,  1450.,  1460., -9999.],\n",
       "        [-9999.,  1250.,  1300.,  1350.,  1380.,  1410.,  1450., -9999.],\n",
       "        [ 1230.,  1220.,  1210.,  1250.,  1330.,  1380.,  1400., -9999.],\n",
       "        [ 1210.,  1200.,  1200.,  1220.,  1300.,  1340.,  1350., -9999.],\n",
       "        [ 1200.,  1170.,  1150.,  1200.,  1210.,  1220.,  1250., -9999.],\n",
       "        [ 1160.,  1150.,  1140.,  1110.,  1120.,  1130.,  1150., -9999.],\n",
       "        [ 1100.,  1080.,  1070.,   980.,   990.,  1000.,  1050., -9999.],\n",
       "        [ 1070.,  1050.,  1010.,   950.,   960.,   980.,   990., -9999.],\n",
       "        [-9999., -9999., -9999.,   910.,   920.,   940.,   945., -9999.]]],\n",
       "      dtype=float32)"
      ]
     },
     "execution_count": 2,
     "metadata": {},
     "output_type": "execute_result"
    }
   ],
   "source": [
    "# open DEM map\n",
    "test_path = \"/home/elisa/Scrivania/MHPC/geotop_3.0/tests/3D/small_example/\"\n",
    "file_path = test_path + \"input_maps/pit.asc\"\n",
    "\n",
    "with rio.open(file_path) as src:\n",
    "    \n",
    "    # convert/read the data into a numpy array\n",
    "    example_dem_in = src.read()\n",
    "    \n",
    "    # create a spatial extent object using rio.plot.plotting\n",
    "    spatial_extent = rio.plot.plotting_extent(src)\n",
    "    \n",
    "    # get bounds of object\n",
    "    bounds = src.bounds\n",
    "\n",
    "# print\n",
    "example_dem_in"
   ]
  },
  {
   "cell_type": "markdown",
   "metadata": {},
   "source": [
    "## Analyze  DEM"
   ]
  },
  {
   "cell_type": "code",
   "execution_count": 3,
   "metadata": {},
   "outputs": [
    {
     "name": "stdout",
     "output_type": "stream",
     "text": [
      "(xll, xur, yll, yur) = \t\t\t (641250.0, 645250.0, 5005750.0, 5011250.0)\n",
      "(xll, yll, xur, yur) =  BoundingBox(left=641250.0, bottom=5005750.0, right=645250.0, top=5011250.0)\n"
     ]
    }
   ],
   "source": [
    "# print Spatial Extents (format wanted by matplotlib)\n",
    "print('(xll, xur, yll, yur) = \\t\\t\\t', spatial_extent)\n",
    "\n",
    "# print Bounds (format provided by rasterio)\n",
    "print('(xll, yll, xur, yur) = ', bounds)"
   ]
  },
  {
   "cell_type": "code",
   "execution_count": 4,
   "metadata": {},
   "outputs": [
    {
     "data": {
      "text/plain": [
       "masked_array(\n",
       "  data=[[--, --, --, --, 1500.0, --, --, --],\n",
       "        [--, 1300.0, 1350.0, 1450.0, 1480.0, 1450.0, 1480.0, 1490.0],\n",
       "        [--, 1280.0, 1320.0, 1400.0, 1430.0, 1450.0, 1460.0, --],\n",
       "        [--, 1250.0, 1300.0, 1350.0, 1380.0, 1410.0, 1450.0, --],\n",
       "        [1230.0, 1220.0, 1210.0, 1250.0, 1330.0, 1380.0, 1400.0, --],\n",
       "        [1210.0, 1200.0, 1200.0, 1220.0, 1300.0, 1340.0, 1350.0, --],\n",
       "        [1200.0, 1170.0, 1150.0, 1200.0, 1210.0, 1220.0, 1250.0, --],\n",
       "        [1160.0, 1150.0, 1140.0, 1110.0, 1120.0, 1130.0, 1150.0, --],\n",
       "        [1100.0, 1080.0, 1070.0, 980.0, 990.0, 1000.0, 1050.0, --],\n",
       "        [1070.0, 1050.0, 1010.0, 950.0, 960.0, 980.0, 990.0, --],\n",
       "        [--, --, --, 910.0, 920.0, 940.0, 945.0, --]],\n",
       "  mask=[[ True,  True,  True,  True, False,  True,  True,  True],\n",
       "        [ True, False, False, False, False, False, False, False],\n",
       "        [ True, False, False, False, False, False, False,  True],\n",
       "        [ True, False, False, False, False, False, False,  True],\n",
       "        [False, False, False, False, False, False, False,  True],\n",
       "        [False, False, False, False, False, False, False,  True],\n",
       "        [False, False, False, False, False, False, False,  True],\n",
       "        [False, False, False, False, False, False, False,  True],\n",
       "        [False, False, False, False, False, False, False,  True],\n",
       "        [False, False, False, False, False, False, False,  True],\n",
       "        [ True,  True,  True, False, False, False, False,  True]],\n",
       "  fill_value=-9999.0,\n",
       "  dtype=float32)"
      ]
     },
     "execution_count": 4,
     "metadata": {},
     "output_type": "execute_result"
    }
   ],
   "source": [
    "with rio.open('/home/elisa/Scrivania/MHPC/geotop_3.0/tests/3D/small_example/input_maps/pit.asc') as src:\n",
    "    \n",
    "    # convert/read the data into a numpy array: masked=True turns \"nodata\" values to nan\n",
    "    example_dem_in = src.read(1, masked=True)\n",
    "    \n",
    "example_dem_in"
   ]
  },
  {
   "cell_type": "code",
   "execution_count": 5,
   "metadata": {},
   "outputs": [
    {
     "name": "stdout",
     "output_type": "stream",
     "text": [
      "(rows, cols) =  (11, 8)\n",
      "object type =  <class 'numpy.ma.core.MaskedArray'>\n"
     ]
    }
   ],
   "source": [
    "# print DEM infos\n",
    "print(\"(rows, cols) = \", example_dem_in.shape)\n",
    "print(\"object type = \", type(example_dem_in))\n"
   ]
  },
  {
   "cell_type": "markdown",
   "metadata": {},
   "source": [
    "## Plot DEM"
   ]
  },
  {
   "cell_type": "code",
   "execution_count": 6,
   "metadata": {},
   "outputs": [
    {
     "data": {
      "image/png": "[encoded data removed]",
      "text/plain": [
       "<Figure size 576x288 with 2 Axes>"
      ]
     },
     "metadata": {},
     "output_type": "display_data"
    }
   ],
   "source": [
    "fig, ax = plt.subplots(figsize = (8,4))\n",
    "example_dem_plot = ax.imshow(example_dem_in, \n",
    "                       cmap='Greys', \n",
    "                       extent=spatial_extent)\n",
    "ax.set_title(\"DEM of small_example\\n\", fontsize = 20)\n",
    "fig.colorbar(example_dem_plot)\n",
    "\n",
    "# turn off the x and y axes for prettier plotting\n",
    "ax.set_axis_off()\n",
    "plt.show()\n"
   ]
  },
  {
   "cell_type": "markdown",
   "metadata": {},
   "source": [
    "### Explore DEM Values with Histograms"
   ]
  },
  {
   "cell_type": "code",
   "execution_count": 7,
   "metadata": {
    "collapsed": true
   },
   "outputs": [],
   "source": [
    "# Prettier plotting with seaborn\n",
    "import seaborn as sns; \n",
    "sns.set(font_scale=1.5)\n",
    "sns.set_style(\"white\")"
   ]
  },
  {
   "cell_type": "code",
   "execution_count": 8,
   "metadata": {},
   "outputs": [
    {
     "data": {
      "image/png": "[encoded data removed]",
      "text/plain": [
       "<Figure size 576x288 with 1 Axes>"
      ]
     },
     "metadata": {},
     "output_type": "display_data"
    }
   ],
   "source": [
    "# use seaborn styles\n",
    "sns.set_style(\"whitegrid\")\n",
    "\n",
    "# Plot histogram\n",
    "fig, ax = plt.subplots(figsize = (8,4))\n",
    "ax.hist(example_dem_in.ravel(),\n",
    "        bins=100, \n",
    "        color='purple')\n",
    "ax.set_title(\"DEM\", fontsize = 20);"
   ]
  },
  {
   "cell_type": "markdown",
   "metadata": {},
   "source": [
    "## Adjust Plot Extent to “Zoom in” "
   ]
  },
  {
   "cell_type": "code",
   "execution_count": 9,
   "metadata": {},
   "outputs": [
    {
     "name": "stdout",
     "output_type": "stream",
     "text": [
      "(xll, xur, yll, yur)full =  (641250.0, 645250.0, 5005750.0, 5011250.0)\n",
      "(xll, xur, yll, yur)zoom = [643000, 644000, 5006000, 5008000]\n"
     ]
    }
   ],
   "source": [
    "# full spatial extent \n",
    "print(\"(xll, xur, yll, yur)full = \", spatial_extent)\n",
    "\n",
    "# smaller spatial extent\n",
    "zoomed_extent = [643000, 644000, 5006000, 5008000]\n",
    "print(\"(xll, xur, yll, yur)zoom =\", zoomed_extent)\n"
   ]
  },
  {
   "cell_type": "code",
   "execution_count": 10,
   "metadata": {},
   "outputs": [
    {
     "data": {
      "image/png": "[encoded data removed]",
      "text/plain": [
       "<Figure size 576x288 with 2 Axes>"
      ]
     },
     "metadata": {},
     "output_type": "display_data"
    }
   ],
   "source": [
    "# plot the original data with the boundary box\n",
    "fig, ax = plt.subplots(figsize = (8,4))\n",
    "example_dem_plot = ax.imshow(example_dem_in, \n",
    "                             extent=spatial_extent)\n",
    "ax.set_title(\"DEM - Full Spatial Extent\\n\", fontsize = 20)\n",
    "fig.colorbar(example_dem_plot)\n",
    "ax.set_axis_off()\n"
   ]
  },
  {
   "cell_type": "code",
   "execution_count": 11,
   "metadata": {},
   "outputs": [
    {
     "name": "stdout",
     "output_type": "stream",
     "text": [
      "(xlimits)zoom =  [643000, 644000]\n",
      "(ylimits)zoom =  [5006000, 5008000]\n"
     ]
    }
   ],
   "source": [
    "print(\"(xlimits)zoom = \" , zoomed_extent[:2]) # 0 <= x < 2\n",
    "print(\"(ylimits)zoom = \" , zoomed_extent[2:4]) # 2 <= x < 4"
   ]
  },
  {
   "cell_type": "code",
   "execution_count": 12,
   "metadata": {},
   "outputs": [
    {
     "data": {
      "image/png": "[encoded data removed]",
      "text/plain": [
       "<Figure size 576x288 with 1 Axes>"
      ]
     },
     "metadata": {},
     "output_type": "display_data"
    }
   ],
   "source": [
    "# plot the data but set the x and y lim\n",
    "fig, ax = plt.subplots(figsize = (8,4))\n",
    "ax.imshow(example_dem_in,\n",
    "          extent=spatial_extent)\n",
    "ax.set_title(\"DEM- Zoomed Spatial Extent\\n\")\n",
    "\n",
    "# set x and y limits of the plot\n",
    "ax.set_xlim(zoomed_extent[:2])\n",
    "ax.set_ylim(zoomed_extent[2:4])\n",
    "\n",
    "ax.set_axis_off()"
   ]
  }
 ],
 "metadata": {
  "kernelspec": {
   "display_name": "Python 3",
   "language": "python",
   "name": "python3"
  },
  "language_info": {
   "codemirror_mode": {
    "name": "ipython",
    "version": 3
   },
   "file_extension": ".py",
   "mimetype": "text/x-python",
   "name": "python",
   "nbconvert_exporter": "python",
   "pygments_lexer": "ipython3",
   "version": "3.6.2"
  }
 },
 "nbformat": 4,
 "nbformat_minor": 2
}
