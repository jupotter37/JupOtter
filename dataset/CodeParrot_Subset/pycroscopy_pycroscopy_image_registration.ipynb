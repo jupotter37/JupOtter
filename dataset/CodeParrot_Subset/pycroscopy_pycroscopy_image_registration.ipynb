{
 "cells": [
  {
   "cell_type": "markdown",
   "metadata": {
    "hideCode": false,
    "hideOutput": true,
    "hidePrompt": false
   },
   "source": [
    "<font size = \"5\"> **[Image Registration](image_registration.ipynb)** </font>\n",
    "\n",
    "<hr style=\"height:1px;border-top:4px solid #FF8200\" />\n",
    "\n",
    "by \n",
    "        \n",
    "Gerd Duscher and Matthew. F. Chisholm\n",
    "\n",
    "Materials Science & Engineering<br>\n",
    "Joint Institute of Advanced Materials<br>\n",
    "The University of Tennessee, Knoxville\n",
    "\n",
    "\n",
    "# Registration of a Stack of Images \n",
    "\n",
    "We us this notebook **only** for a stack of images."
   ]
  },
  {
   "cell_type": "markdown",
   "metadata": {},
   "source": [
    "\n",
    "## Prerequesites\n",
    "\n",
    "### Install pycroscopy \n"
   ]
  },
  {
   "cell_type": "code",
   "execution_count": null,
   "metadata": {
    "scrolled": true
   },
   "outputs": [],
   "source": [
    "import sys\n",
    "from pkg_resources import get_distribution, DistributionNotFound\n",
    "\n",
    "def test_package(package_name):\n",
    "    \"\"\"Test if package exists and returns version or -1\"\"\"\n",
    "    try:\n",
    "        version = (get_distribution(package_name).version)\n",
    "    except (DistributionNotFound, ImportError) as err:\n",
    "        version = '-1'\n",
    "    return version\n",
    "\n",
    "# Colab setup ------------------\n",
    "if 'google.colab' in sys.modules:\n",
    "    !pip install git+https://github.com/pycroscopy/pyTEMlib/ -q\n",
    "\n",
    "# pyTEMlib setup ------------------\n",
    "else:\n",
    "    if test_package('sidpy') < '0.0.4':\n",
    "        print('installing sidpy')\n",
    "        !{sys.executable} -m pip install  --upgrade sidpy -q     \n",
    "    if test_package('pyNSID') < '0.0.2':\n",
    "        print('installing pyNSID')\n",
    "        !{sys.executable} -m pip install  --upgrade pyNSID -q \n",
    "    if test_package('pycroscopy') < '0':\n",
    "        print('installing pyTEMlib')\n",
    "        !{sys.executable} -m pip install  --upgrade pyTEMlib -q\n",
    "# ------------------------------\n",
    "print('done')"
   ]
  },
  {
   "cell_type": "markdown",
   "metadata": {
    "hideCode": false,
    "hidePrompt": false
   },
   "source": [
    "### Import the usual libraries\n",
    "\n",
    "You can load that library with the code cell above:"
   ]
  },
  {
   "cell_type": "code",
   "execution_count": 8,
   "metadata": {
    "hideCode": false,
    "hidePrompt": false,
    "scrolled": true
   },
   "outputs": [
    {
     "name": "stdout",
     "output_type": "stream",
     "text": [
      "Populating the interactive namespace from numpy and matplotlib\n",
      "The autoreload extension is already loaded. To reload it, use:\n",
      "  %reload_ext autoreload\n"
     ]
    }
   ],
   "source": [
    "# import matplotlib and numpy\n",
    "#                       use \"inline\" instead of \"notebook\" for non-interactive\n",
    "#                       use widget for jupyterlab needs ipympl to be installed\n",
    "import sys\n",
    "if 'google.colab' in sys.modules:\n",
    "    %pylab --no-import-all notebook\n",
    "else:    \n",
    "    %pylab --no-import-all widget\n",
    "\n",
    "from sidpy.io.interface_utils import open_file_dialog\n",
    "\n",
    "from SciFiReaders import DM3Reader\n",
    "import SciFiReaders\n",
    "\n",
    "%load_ext autoreload\n",
    "%autoreload 2\n",
    "\n",
    "sys.path.insert(0, '../')\n",
    "import pycroscopy as px\n",
    "\n",
    "__notebook__ = 'Image_Registration'\n",
    "__notebook_version__ = '2021_10_04'"
   ]
  },
  {
   "cell_type": "markdown",
   "metadata": {
    "hideCode": false,
    "hidePrompt": false
   },
   "source": [
    "## Load an image stack :\n",
    "\n",
    "Please, load an image stack. <br>\n",
    "\n",
    "A stack of images is used to reduce noise, but for an added image the images have to be aligned to compensate for drift and other microscope instabilities.\n",
    "\n",
    "You select here (with the ``open_file_dialog`` parameter), whether an **open file dialog** apears in the code cell below the next one or whether you want to get a list of files (Nion has a weird way of dealing with file names)."
   ]
  },
  {
   "cell_type": "code",
   "execution_count": 5,
   "metadata": {},
   "outputs": [
    {
     "data": {
      "application/vnd.jupyter.widget-view+json": {
       "model_id": "3db76f26919446f5ba497a06f440c888",
       "version_major": 2,
       "version_minor": 0
      },
      "text/plain": [
       "FileChooser(path='.', filename='', title='HTML(value='', layout=Layout(display='none'))', show_hidden='False',…"
      ]
     },
     "metadata": {},
     "output_type": "display_data"
    }
   ],
   "source": [
    "if 'google.colab' in sys.modules:\n",
    "    from google.colab import drive\n",
    "    drive.mount(\"/content/drive\")\n",
    "    drive_directory = 'drive/MyDrive/'\n",
    "else:\n",
    "    drive_directory = '.'\n",
    "\n",
    "file_widget = open_file_dialog(drive_directory)\n",
    "file_widget"
   ]
  },
  {
   "cell_type": "markdown",
   "metadata": {},
   "source": [
    "### Plot Image Stack\n",
    "Either we load the selected file in hte widget above above or a file dialog window appears.\n",
    "\n",
    "This is the point the notebook can be repeated with a new file. Either select a file above again (without running the code cell above) or open a file dialog here\n",
    "\n",
    "Note that the **open file dialog** might not apear in the foreground!"
   ]
  },
  {
   "cell_type": "code",
   "execution_count": 22,
   "metadata": {},
   "outputs": [
    {
     "name": "stdout",
     "output_type": "stream",
     "text": [
      "sidpy.Dataset of type IMAGE_STACK with:\n",
      " dask.array<array, shape=(512, 512, 20), dtype=float32, chunksize=(512, 512, 20), chunktype=numpy.ndarray>\n",
      " data contains: intensity (counts)\n",
      " and Dimensions: \n",
      "x:  distance (counts) of size (512,)\n",
      "y:  distance (counts) of size (512,)\n",
      "z:  distance (counts) of size (20,)\n"
     ]
    },
    {
     "data": {
      "application/vnd.jupyter.widget-view+json": {
       "model_id": "9eec2a83025248ecba978ddadbd9afb6",
       "version_major": 2,
       "version_minor": 0
      },
      "text/plain": [
       "Canvas(toolbar=Toolbar(toolitems=[('Home', 'Reset original view', 'home', 'home'), ('Back', 'Back to previous …"
      ]
     },
     "metadata": {},
     "output_type": "display_data"
    },
    {
     "data": {
      "application/vnd.jupyter.widget-view+json": {
       "model_id": "0718fe47a1334c62a3eaccd1a7f9c029",
       "version_major": 2,
       "version_minor": 0
      },
      "text/plain": [
       "HBox(children=(Play(value=0, description='Press play', interval=500, max=20), IntSlider(value=0, continuous_up…"
      ]
     },
     "metadata": {},
     "output_type": "display_data"
    }
   ],
   "source": [
    "try: \n",
    "    main_dataset.h5_dataset.file.close()\n",
    "except:\n",
    "    pass\n",
    "dm3_reader = DM3Reader(file_widget.selected)\n",
    "main_dataset = dm3_reader.read()\n",
    "\n",
    "if main_dataset.data_type.name != 'IMAGE_STACK':\n",
    "    print(f\"Please load an image stack for this notebook, this is an {main_dataset.data_type}\")\n",
    "print(main_dataset)    \n",
    "main_dataset.dim_0.dimension_type = 'spatial'\n",
    "main_dataset.dim_1.dimension_type = 'spatial'\n",
    "main_dataset.z.dimension_type = 'temporal'\n",
    "main_dataset.plot()  # note this needs a view reference for interaction"
   ]
  },
  {
   "cell_type": "code",
   "execution_count": 30,
   "metadata": {},
   "outputs": [],
   "source": [
    "main_dataset._axes\n",
    "frame_dim = []\n",
    "spatial_dim = []\n",
    "for i, axis in main_dataset._axes.items():\n",
    "    if axis.dimension_type.name == 'SPATIAL':\n",
    "        spatial_dim.append(i)\n",
    "    else:\n",
    "        frame_dim.append(i)\n",
    "        \n",
    "if len(spatial_dim) != 2:\n",
    "    print('need two spatial dimensions')\n",
    "if len(frame_dim) != 1:\n",
    "    print('need one frame dimensions')\n"
   ]
  },
  {
   "cell_type": "markdown",
   "metadata": {},
   "source": [
    "## Complete Registration \n",
    "\n",
    "Takes a while, depending on your computer between 1 and 10 minutes."
   ]
  },
  {
   "cell_type": "code",
   "execution_count": 53,
   "metadata": {},
   "outputs": [
    {
     "name": "stdout",
     "output_type": "stream",
     "text": [
      "Rigid_Registration\n",
      "Stack contains  20  images, each with 512  pixels in x-direction and  512  pixels in y-direction\n"
     ]
    },
    {
     "data": {
      "application/vnd.jupyter.widget-view+json": {
       "model_id": "a93afdca35b046f2b999ddcac4329783",
       "version_major": 2,
       "version_minor": 0
      },
      "text/plain": [
       "  0%|          | 0/20 [00:00<?, ?it/s]"
      ]
     },
     "metadata": {},
     "output_type": "display_data"
    },
    {
     "name": "stdout",
     "output_type": "stream",
     "text": [
      "Non-Rigid_Registration\n"
     ]
    },
    {
     "data": {
      "application/vnd.jupyter.widget-view+json": {
       "model_id": "e7538be9e7db43ef87ba108502734ab6",
       "version_major": 2,
       "version_minor": 0
      },
      "text/plain": [
       "  0%|          | 0/20 [00:00<?, ?it/s]"
      ]
     },
     "metadata": {},
     "output_type": "display_data"
    },
    {
     "name": "stdout",
     "output_type": "stream",
     "text": [
      ":-)\n",
      "You have successfully completed Diffeomorphic Demons Registration\n"
     ]
    },
    {
     "data": {
      "application/vnd.jupyter.widget-view+json": {
       "model_id": "15e613a3040f4d358b25b5d2c642bc7b",
       "version_major": 2,
       "version_minor": 0
      },
      "text/plain": [
       "Canvas(toolbar=Toolbar(toolitems=[('Home', 'Reset original view', 'home', 'home'), ('Back', 'Back to previous …"
      ]
     },
     "metadata": {},
     "output_type": "display_data"
    },
    {
     "data": {
      "application/vnd.jupyter.widget-view+json": {
       "model_id": "76a5ba9fcf3141e7830c48138d30f831",
       "version_major": 2,
       "version_minor": 0
      },
      "text/plain": [
       "HBox(children=(Play(value=0, description='Press play', interval=500, max=20), IntSlider(value=0, continuous_up…"
      ]
     },
     "metadata": {},
     "output_type": "display_data"
    },
    {
     "data": {
      "text/html": [
       "<table>\n",
       "    <tr>\n",
       "        <td>\n",
       "            <table>\n",
       "                <thead>\n",
       "                    <tr>\n",
       "                        <td> </td>\n",
       "                        <th> Array </th>\n",
       "                        <th> Chunk </th>\n",
       "                    </tr>\n",
       "                </thead>\n",
       "                <tbody>\n",
       "                    \n",
       "                    <tr>\n",
       "                        <th> Bytes </th>\n",
       "                        <td> 34.01 MiB </td>\n",
       "                        <td> 34.01 MiB </td>\n",
       "                    </tr>\n",
       "                    \n",
       "                    <tr>\n",
       "                        <th> Shape </th>\n",
       "                        <td> (20, 453, 492) </td>\n",
       "                        <td> (20, 453, 492) </td>\n",
       "                    </tr>\n",
       "                    <tr>\n",
       "                        <th> Count </th>\n",
       "                        <td> 1 Tasks </td>\n",
       "                        <td> 1 Chunks </td>\n",
       "                    </tr>\n",
       "                    <tr>\n",
       "                    <th> Type </th>\n",
       "                    <td> float64 </td>\n",
       "                    <td> numpy.ndarray </td>\n",
       "                    </tr>\n",
       "                </tbody>\n",
       "            </table>\n",
       "        </td>\n",
       "        <td>\n",
       "        <svg width=\"199\" height=\"180\" style=\"stroke:rgb(0,0,0);stroke-width:1\" >\n",
       "\n",
       "  <!-- Horizontal lines -->\n",
       "  <line x1=\"10\" y1=\"0\" x2=\"29\" y2=\"19\" style=\"stroke-width:2\" />\n",
       "  <line x1=\"10\" y1=\"110\" x2=\"29\" y2=\"130\" style=\"stroke-width:2\" />\n",
       "\n",
       "  <!-- Vertical lines -->\n",
       "  <line x1=\"10\" y1=\"0\" x2=\"10\" y2=\"110\" style=\"stroke-width:2\" />\n",
       "  <line x1=\"29\" y1=\"19\" x2=\"29\" y2=\"130\" style=\"stroke-width:2\" />\n",
       "\n",
       "  <!-- Colored Rectangle -->\n",
       "  <polygon points=\"10.0,0.0 29.548557181801698,19.548557181801698 29.548557181801698,130.0363620598505 10.0,110.48780487804878\" style=\"fill:#ECB172A0;stroke-width:0\"/>\n",
       "\n",
       "  <!-- Horizontal lines -->\n",
       "  <line x1=\"10\" y1=\"0\" x2=\"130\" y2=\"0\" style=\"stroke-width:2\" />\n",
       "  <line x1=\"29\" y1=\"19\" x2=\"149\" y2=\"19\" style=\"stroke-width:2\" />\n",
       "\n",
       "  <!-- Vertical lines -->\n",
       "  <line x1=\"10\" y1=\"0\" x2=\"29\" y2=\"19\" style=\"stroke-width:2\" />\n",
       "  <line x1=\"130\" y1=\"0\" x2=\"149\" y2=\"19\" style=\"stroke-width:2\" />\n",
       "\n",
       "  <!-- Colored Rectangle -->\n",
       "  <polygon points=\"10.0,0.0 130.0,0.0 149.5485571818017,19.548557181801698 29.548557181801698,19.548557181801698\" style=\"fill:#ECB172A0;stroke-width:0\"/>\n",
       "\n",
       "  <!-- Horizontal lines -->\n",
       "  <line x1=\"29\" y1=\"19\" x2=\"149\" y2=\"19\" style=\"stroke-width:2\" />\n",
       "  <line x1=\"29\" y1=\"130\" x2=\"149\" y2=\"130\" style=\"stroke-width:2\" />\n",
       "\n",
       "  <!-- Vertical lines -->\n",
       "  <line x1=\"29\" y1=\"19\" x2=\"29\" y2=\"130\" style=\"stroke-width:2\" />\n",
       "  <line x1=\"149\" y1=\"19\" x2=\"149\" y2=\"130\" style=\"stroke-width:2\" />\n",
       "\n",
       "  <!-- Colored Rectangle -->\n",
       "  <polygon points=\"29.548557181801698,19.548557181801698 149.5485571818017,19.548557181801698 149.5485571818017,130.0363620598505 29.548557181801698,130.0363620598505\" style=\"fill:#ECB172A0;stroke-width:0\"/>\n",
       "\n",
       "  <!-- Text -->\n",
       "  <text x=\"89.548557\" y=\"150.036362\" font-size=\"1.0rem\" font-weight=\"100\" text-anchor=\"middle\" >492</text>\n",
       "  <text x=\"169.548557\" y=\"74.792460\" font-size=\"1.0rem\" font-weight=\"100\" text-anchor=\"middle\" transform=\"rotate(-90,169.548557,74.792460)\">453</text>\n",
       "  <text x=\"9.774279\" y=\"140.262083\" font-size=\"1.0rem\" font-weight=\"100\" text-anchor=\"middle\" transform=\"rotate(45,9.774279,140.262083)\">20</text>\n",
       "</svg>\n",
       "        </td>\n",
       "    </tr>\n",
       "</table>"
      ],
      "text/plain": [
       "sidpy.Dataset of type IMAGE_STACK with:\n",
       " dask.array<array, shape=(20, 453, 492), dtype=float64, chunksize=(20, 453, 492), chunktype=numpy.ndarray>\n",
       " data contains: intensity (counts)\n",
       " and Dimensions: \n",
       "z:  distance (counts) of size (20,)\n",
       "x:  distance (counts) of size (453,)\n",
       "y:  distance (counts) of size (492,)\n",
       " with metadata: ['analysis', 'input_crop', 'input_shape']"
      ]
     },
     "execution_count": 53,
     "metadata": {},
     "output_type": "execute_result"
    }
   ],
   "source": [
    "## Do all of registration\n",
    "notebook_tags ={'notebook': __notebook__, 'notebook_version': __notebook_version__}\n",
    "\n",
    "non_rigid_registered, rigid_registered_dataset = px.image.complete_registration(main_dataset)\n",
    "    \n",
    "non_rigid_registered.plot()\n",
    "non_rigid_registered"
   ]
  },
  {
   "cell_type": "markdown",
   "metadata": {},
   "source": [
    "### Check Drift"
   ]
  },
  {
   "cell_type": "code",
   "execution_count": 54,
   "metadata": {},
   "outputs": [
    {
     "data": {
      "application/vnd.jupyter.widget-view+json": {
       "model_id": "22c9608a9f884158955866d43235ebc3",
       "version_major": 2,
       "version_minor": 0
      },
      "text/plain": [
       "Canvas(toolbar=Toolbar(toolitems=[('Home', 'Reset original view', 'home', 'home'), ('Back', 'Back to previous …"
      ]
     },
     "metadata": {},
     "output_type": "display_data"
    }
   ],
   "source": [
    "scale_x = (rigid_registered_dataset.x[1]-rigid_registered_dataset.x[0])*1.\n",
    "drift = rigid_registered_dataset.metadata['drift']\n",
    "x = np.linspace(0,drift.shape[0]-1,drift.shape[0])\n",
    "\n",
    "polynom_degree = 2 # 1 is linear fit, 2 is parabolic fit, ...\n",
    "line_fit_x = np.polyfit(x, drift[:,0], polynom_degree)\n",
    "poly_x = np.poly1d(line_fit_x)\n",
    "line_fit_y = np.polyfit(x, drift[:,1], polynom_degree)\n",
    "poly_y = np.poly1d(line_fit_y)\n",
    "\n",
    "\n",
    "plt.figure()\n",
    "# plot drift and fit of drift\n",
    "plt.axhline(color = 'gray')\n",
    "plt.plot(x, drift[:,0], label = 'drift x')\n",
    "plt.plot(x, drift[:,1], label = 'drift y')\n",
    "plt.plot(x, poly_x(x),  label = 'fit_drift_x')\n",
    "plt.plot(x, poly_y(x),  label = 'fit_drift_y')\n",
    "plt.legend();\n",
    "\n",
    "# set second axis in pico meter\n",
    "ax_pixels = plt.gca()\n",
    "ax_pixels.step(1, 1)\n",
    "ax_pm = ax_pixels.twinx()\n",
    "x_1, x_2 = ax_pixels.get_ylim()\n",
    "ax_pm.set_ylim(x_1*scale_x, x_2*scale_x)\n",
    "\n",
    "# add labels\n",
    "ax_pixels.set_ylabel('drift [pixels]')\n",
    "ax_pm.set_ylabel('drift [nm]')\n",
    "ax_pixels.set_xlabel('image number');\n",
    "plt.tight_layout()\n"
   ]
  },
  {
   "cell_type": "markdown",
   "metadata": {},
   "source": [
    "## Appendix"
   ]
  },
  {
   "cell_type": "markdown",
   "metadata": {},
   "source": [
    "### Demon Registration\n",
    "\n",
    "Here we use the **Diffeomorphic Demon Non-Rigid Registration** as provided by **simpleITK**.  \n",
    "\n",
    "Please Cite: \n",
    "* [simpleITK](http://www.simpleitk.org/SimpleITK/project/parti.html)\n",
    "    \n",
    "    and\n",
    "    \n",
    "* [T. Vercauteren, X. Pennec, A. Perchant and N. Ayache *Diffeomorphic Demons Using ITK\\'s Finite Difference Solver Hierarchy* The Insight Journal, 2007](http://hdl.handle.net/1926/510)"
   ]
  },
  {
   "cell_type": "markdown",
   "metadata": {},
   "source": [
    "This Non-Rigid Registration consists of the following steps:\n",
    "\n",
    "- determine ``reference`` image\n",
    "    - For this we use the average of the rigid registered stack\n",
    "    - this averaged stack is then smeared with a Gaussian of sigma 2 pixel to reduce noise\n",
    "    - under the assumption that high frequency scan distortions cancel out over several images, we, therefore, obtained the center of mass of the atoms. \n",
    "\n",
    "- perform the ``demon registration`` filter to determine a distortion matrix\n",
    "    - each single image of a stack is first smeared with a Gaussian of sigma of 2pixels\n",
    "    - then the deformation matrix is determined for these images\n",
    "    - the deformation matrix is a matrix where each pixel has a vector ( x, and y value) for the relative shift of this pixel.\n",
    "    \n",
    "- This deformation matrix is used to ``transform`` the image\n",
    "\t- The transformation is performed on the original image.\n",
    "\t- Important, here, is to set the interpolator method, (the image needs to be interpolated because the new pixels are not on an integer grid.)\n",
    "    \n",
    "    \n",
    "Let's see what the different interpolators do.\n",
    "\n",
    "|Method\t| RMS contrast |\tStandard |\tMean |\n",
    "|-------|:--------------|:-------------|:-------|\n",
    "|original   |0.1965806\t|0.07764114\t|0.3949583\n",
    "|Linear\t    |0.20159315\t|0.079470366\t|0.39421165\n",
    "|BSpline\t|0.20162606\t|0.0794831 \t|0.39421043\n",
    "|Gaussian\t|0.14310582\t|0.056414302 \t|0.39421389\n",
    "|Hamming\t|0.20163293\t|0.07948672 \t|0.39421496\n",
    "\n",
    "The Gaussian interpolator is the only one seems to smear the signal.\n",
    "\n",
    "We will use the ``Bspline`` method a fast and simple method that does not introduce spurious features and does not smear the signal.\n"
   ]
  },
  {
   "cell_type": "markdown",
   "metadata": {},
   "source": [
    "#### Full Code of Demon registration "
   ]
  },
  {
   "cell_type": "code",
   "execution_count": null,
   "metadata": {},
   "outputs": [],
   "source": [
    "import simpleITK as sitk\n",
    "\n",
    "def DemonReg(cube, verbose = False):\n",
    "    \"\"\"\n",
    "    Diffeomorphic Demon Non-Rigid Registration \n",
    "    Usage:\n",
    "    \n",
    "    DemReg = DemonReg(cube, verbose = False)\n",
    "\n",
    "    Input:\n",
    "        cube: stack of image after rigid registration and cropping\n",
    "    Output:\n",
    "        DemReg: stack of images with non-rigid registration\n",
    "\n",
    "    Dempends on:\n",
    "        simpleITK and numpy\n",
    "    \n",
    "    Please Cite: http://www.simpleitk.org/SimpleITK/project/parti.html\n",
    "    and T. Vercauteren, X. Pennec, A. Perchant and N. Ayache\n",
    "    Diffeomorphic Demons Using ITK\\'s Finite Difference Solver Hierarchy\n",
    "    The Insight Journal, http://hdl.handle.net/1926/510 2007\n",
    "    \"\"\"\n",
    "    \n",
    "    DemReg =  np.zeros_like(cube)\n",
    "    nimages = cube.shape[0]\n",
    "    print(nimages)\n",
    "    # create fixed image by summing over rigid registration\n",
    "\n",
    "    fixed_np = np.average(current_dataset, axis=0)\n",
    "\n",
    "    fixed = sitk.GetImageFromArray(fixed_np)\n",
    "    fixed = sitk.DiscreteGaussian(fixed, 2.0)\n",
    "\n",
    "    #demons = sitk.SymmetricForcesDemonsRegistrationFilter()\n",
    "    demons = sitk.DiffeomorphicDemonsRegistrationFilter()\n",
    "\n",
    "    demons.SetNumberOfIterations(200)\n",
    "    demons.SetStandardDeviations(1.0)\n",
    "\n",
    "    resampler = sitk.ResampleImageFilter()\n",
    "    resampler.SetReferenceImage(fixed);\n",
    "    resampler.SetInterpolator(sitk.sitkBspline)\n",
    "    resampler.SetDefaultPixelValue(0)\n",
    "\n",
    "    done = 0\n",
    "        \n",
    "    for i in range(nimages):\n",
    "        if done < int((i+1)/nimages*50):\n",
    "            done = int((i+1)/nimages*50)\n",
    "            sys.stdout.write('\\r')\n",
    "            # progress output :\n",
    "            sys.stdout.write(\"[%-50s] %d%%\" % ('*'*done, 2*done))\n",
    "            sys.stdout.flush()\n",
    "        \n",
    "        moving = sitk.GetImageFromArray(cube[i])\n",
    "        movingf = sitk.DiscreteGaussian(moving, 2.0)\n",
    "        displacementField = demons.Execute(fixed,movingf)\n",
    "        outTx = sitk.DisplacementFieldTransform( displacementField )\n",
    "        resampler.SetTransform(outTx)\n",
    "        out = resampler.Execute(moving)\n",
    "        DemReg[i,:,:] = sitk.GetArrayFromImage(out)\n",
    "        #print('image ', i)\n",
    "        \n",
    "    \n",
    "    print(':-)')\n",
    "    print('You have succesfully completed Diffeomorphic Demons Registration')\n",
    "    \n",
    "    return DemReg\n"
   ]
  },
  {
   "cell_type": "code",
   "execution_count": null,
   "metadata": {},
   "outputs": [],
   "source": []
  }
 ],
 "metadata": {
  "hide_code_all_hidden": false,
  "kernelspec": {
   "display_name": "Python 3 (ipykernel)",
   "language": "python",
   "name": "python3"
  },
  "language_info": {
   "codemirror_mode": {
    "name": "ipython",
    "version": 3
   },
   "file_extension": ".py",
   "mimetype": "text/x-python",
   "name": "python",
   "nbconvert_exporter": "python",
   "pygments_lexer": "ipython3",
   "version": "3.9.7"
  },
  "toc": {
   "base_numbering": "2",
   "nav_menu": {},
   "number_sections": true,
   "sideBar": true,
   "skip_h1_title": false,
   "title_cell": "Table of Contents",
   "title_sidebar": "Contents",
   "toc_cell": false,
   "toc_position": {
    "height": "calc(100% - 180px)",
    "left": "10px",
    "top": "150px",
    "width": "174px"
   },
   "toc_section_display": true,
   "toc_window_display": true
  },
  "varInspector": {
   "cols": {
    "lenName": 16,
    "lenType": 16,
    "lenVar": 40
   },
   "kernels_config": {
    "python": {
     "delete_cmd_postfix": "",
     "delete_cmd_prefix": "del ",
     "library": "var_list.py",
     "varRefreshCmd": "print(var_dic_list())"
    },
    "r": {
     "delete_cmd_postfix": ") ",
     "delete_cmd_prefix": "rm(",
     "library": "var_list.r",
     "varRefreshCmd": "cat(var_dic_list()) "
    }
   },
   "types_to_exclude": [
    "module",
    "function",
    "builtin_function_or_method",
    "instance",
    "_Feature"
   ],
   "window_display": false
  }
 },
 "nbformat": 4,
 "nbformat_minor": 4
}
