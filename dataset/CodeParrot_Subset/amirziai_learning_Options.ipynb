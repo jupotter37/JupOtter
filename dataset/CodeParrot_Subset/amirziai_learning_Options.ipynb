{
 "cells": [
  {
   "cell_type": "markdown",
   "metadata": {},
   "source": [
    "# Options"
   ]
  },
  {
   "cell_type": "markdown",
   "metadata": {},
   "source": [
    "* Standard RL assumes flat states and action spaces with no hierarchy\n",
    "* Represent sequences of **primitive actions** to achieve subgoals\n",
    "* \n",
    "\n",
    "> Sequence of actions that can be treated as a whole are called macro-operators. Once a problem is solved, the learning component takes the computed plan and stores it as a macro-operator. The preconditions are the initial conditions of the problem just solved, and its post conditions correspond to the goal just achieved. The problem solver efficiently uses the knowledge base it gained from its previous experiences. By generalizing macro-operators the problem solver can even solve different problems. Generalization is done by replacing all the constants in the macro-operators with variables.The STRIPS, for example, is a planning algorithm that employed macro-operators in it’s learning phase. It builds a macro operator MACROP, that contains preconditions, post-conditions and the sequence of actions. The macro operator will be used in the future operation.\n",
    "\n"
   ]
  },
  {
   "cell_type": "code",
   "execution_count": null,
   "metadata": {
    "collapsed": true
   },
   "outputs": [],
   "source": [
    "\n"
   ]
  },
  {
   "cell_type": "markdown",
   "metadata": {},
   "source": [
    "### References\n",
    "- http://www.cs.utexas.edu/~pstone/Courses/394Rspring13/resources/week8a-nick.pdf\n",
    "- http://intelligence.worldofcomputing.net/machine-learning/learning-with-macro-operators.html#.WgNlfxNSzUI"
   ]
  }
 ],
 "metadata": {
  "anaconda-cloud": {},
  "kernelspec": {
   "display_name": "Python [default]",
   "language": "python",
   "name": "python3"
  },
  "language_info": {
   "codemirror_mode": {
    "name": "ipython",
    "version": 3
   },
   "file_extension": ".py",
   "mimetype": "text/x-python",
   "name": "python",
   "nbconvert_exporter": "python",
   "pygments_lexer": "ipython3",
   "version": "3.5.4"
  }
 },
 "nbformat": 4,
 "nbformat_minor": 2
}
