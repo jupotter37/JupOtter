{
 "cells": [
  {
   "cell_type": "markdown",
   "metadata": {},
   "source": [
    "# Swirl\n",
    "\n",
    "---\n",
    "\n",
    "Scalar advection problem with swirling velocity field.\n",
    "\n",
    "---"
   ]
  },
  {
   "cell_type": "markdown",
   "metadata": {},
   "source": [
    "Run code in **serial mode** (will work, even if code is compiled with MPI)"
   ]
  },
  {
   "cell_type": "code",
   "execution_count": null,
   "metadata": {
    "collapsed": true
   },
   "outputs": [],
   "source": [
    "!swirl   "
   ]
  },
  {
   "cell_type": "markdown",
   "metadata": {},
   "source": [
    "---\n",
    "Or, run code in **parallel mode** (command may need to be customized, depending your on MPI installation.)"
   ]
  },
  {
   "cell_type": "code",
   "execution_count": null,
   "metadata": {
    "collapsed": false
   },
   "outputs": [],
   "source": [
    "!mpirun -n 4 swirl"
   ]
  },
  {
   "cell_type": "markdown",
   "metadata": {},
   "source": [
    "---\n",
    "Create PNG files for web-browser viewing, or animation."
   ]
  },
  {
   "cell_type": "code",
   "execution_count": null,
   "metadata": {
    "collapsed": false
   },
   "outputs": [],
   "source": [
    "%run make_plots.py"
   ]
  },
  {
   "cell_type": "markdown",
   "metadata": {},
   "source": [
    "---\n",
    "View PNG files in browser, using URL above, or create an animation of all PNG files, using code below. "
   ]
  },
  {
   "cell_type": "code",
   "execution_count": null,
   "metadata": {
    "collapsed": false,
    "scrolled": false
   },
   "outputs": [],
   "source": [
    "%pylab inline"
   ]
  },
  {
   "cell_type": "code",
   "execution_count": null,
   "metadata": {
    "collapsed": false
   },
   "outputs": [],
   "source": [
    "import glob\n",
    "from matplotlib import image\n",
    "from clawpack.visclaw.JSAnimation import IPython_display\n",
    "from matplotlib import animation\n",
    "\n",
    "figno = 0\n",
    "fname = '_plots/*fig' + str(figno) + '.png'\n",
    "filenames=sorted(glob.glob(fname))\n",
    "\n",
    "fig = plt.figure()\n",
    "im = plt.imshow(image.imread(filenames[0]))\n",
    "def init():\n",
    "    im.set_data(image.imread(filenames[0]))\n",
    "    return im,\n",
    "\n",
    "def animate(i):\n",
    "    image_i=image.imread(filenames[i])\n",
    "    im.set_data(image_i)\n",
    "    return im,\n",
    "\n",
    "animation.FuncAnimation(fig, animate, init_func=init,\n",
    "                              frames=len(filenames), interval=500, blit=True)"
   ]
  },
  {
   "cell_type": "markdown",
   "metadata": {
    "collapsed": true
   },
   "source": [
    "---"
   ]
  }
 ],
 "metadata": {
  "kernelspec": {
   "display_name": "Python 2",
   "language": "python",
   "name": "python2"
  },
  "language_info": {
   "codemirror_mode": {
    "name": "ipython",
    "version": 2
   },
   "file_extension": ".py",
   "mimetype": "text/x-python",
   "name": "python",
   "nbconvert_exporter": "python",
   "pygments_lexer": "ipython2",
   "version": "2.7.11"
  }
 },
 "nbformat": 4,
 "nbformat_minor": 0
}
