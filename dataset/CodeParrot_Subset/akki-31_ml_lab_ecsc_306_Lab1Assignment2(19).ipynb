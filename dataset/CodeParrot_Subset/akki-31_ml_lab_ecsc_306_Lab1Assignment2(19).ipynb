{
 "cells": [
  {
   "cell_type": "markdown",
   "metadata": {},
   "source": [
    "### Assignment 2"
   ]
  },
  {
   "cell_type": "code",
   "execution_count": 31,
   "metadata": {},
   "outputs": [
    {
     "name": "stdout",
     "output_type": "stream",
     "text": [
      "Mean of x is : 4.343\n",
      "Mean of y is : 3.05\n",
      "Variance of x is : 7.324141\n",
      "Covariance is : -0.10500000000000204\n",
      "Value of m is : -0.014336152184945926\n",
      "Value of c is : 3.11226190893922\n"
     ]
    }
   ],
   "source": [
    "x = [1.1,4.3,7.4,3.45,2.54,3.3,9.7,6.77,0.65,4.22]\n",
    "y = [3.2,6.66,3.43,0.06,3.44,2.2,3.43,2.32,4.11,1.65]\n",
    "sumofx = sum(x)\n",
    "sumofy = sum(y)\n",
    "\n",
    "#Mean\n",
    "meanx = (sumofx/len(x))\n",
    "meany = (sumofy/len(y))\n",
    "print(\"Mean of x is :\",meanx)\n",
    "print(\"Mean of y is :\",meany)\n",
    "\n",
    "#Variance\n",
    "varofx = sum([(xi - meanx)**2 for xi in x])/len(x)\n",
    "print(\"Variance of x is :\",varofx)\n",
    "\n",
    "#Covariance\n",
    "cov = 0\n",
    "for i in range(0, len(x)):\n",
    "    cov += ((x[i] - meanx)*(y[i] - meany))\n",
    "\n",
    "print(\"Covariance is :\", cov)\n",
    "\n",
    "#Value of m\n",
    "valm = cov/varofx\n",
    "print(\"Value of m is :\",valm)\n",
    "\n",
    "#Value of c\n",
    "valc = (meany - valm * meanx)\n",
    "print(\"Value of c is :\",valc)"
   ]
  },
  {
   "cell_type": "code",
   "execution_count": null,
   "metadata": {
    "collapsed": true
   },
   "outputs": [],
   "source": []
  }
 ],
 "metadata": {
  "kernelspec": {
   "display_name": "Python 3",
   "language": "python",
   "name": "python3"
  },
  "language_info": {
   "codemirror_mode": {
    "name": "ipython",
    "version": 3
   },
   "file_extension": ".py",
   "mimetype": "text/x-python",
   "name": "python",
   "nbconvert_exporter": "python",
   "pygments_lexer": "ipython3",
   "version": "3.6.1"
  }
 },
 "nbformat": 4,
 "nbformat_minor": 2
}
