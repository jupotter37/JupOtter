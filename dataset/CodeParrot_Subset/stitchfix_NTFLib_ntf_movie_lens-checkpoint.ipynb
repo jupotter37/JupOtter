{
 "cells": [
  {
   "cell_type": "code",
   "execution_count": 1,
   "metadata": {
    "collapsed": false
   },
   "outputs": [],
   "source": [
    "import datetime\n",
    "import numpy as np\n",
    "import pandas as pd\n",
    "import seaborn as sns\n",
    "import matplotlib.pyplot as plt\n",
    "from sklearn.cross_validation import train_test_split\n",
    "from ntflib import betantf\n",
    "\n",
    "%matplotlib inline\n",
    "sns.set(style=\"white\")"
   ]
  },
  {
   "cell_type": "markdown",
   "metadata": {},
   "source": [
    "## Defining functions for mapping and error"
   ]
  },
  {
   "cell_type": "code",
   "execution_count": 2,
   "metadata": {
    "collapsed": true
   },
   "outputs": [],
   "source": [
    "def mapper(array):\n",
    "    array = np.sort(array)\n",
    "    int_map = np.arange(len(np.unique(array))).astype(int)\n",
    "    dict_map = dict(zip(np.sort(np.unique(array)), int_map))\n",
    "    tmp = pd.Series(array)\n",
    "    res = tmp.map(lambda x: dict_map[x])\n",
    "    \n",
    "    inv_dict_map = {v: k for k, v in dict_map.items()}\n",
    "    return res.values, inv_dict_map\n",
    "\n",
    "def rmse(x, y):\n",
    "    return np.sqrt((x - y)**2.0).sum()"
   ]
  },
  {
   "cell_type": "markdown",
   "metadata": {},
   "source": [
    "## Grabbing Movie Lens data"
   ]
  },
  {
   "cell_type": "code",
   "execution_count": 2,
   "metadata": {
    "collapsed": false
   },
   "outputs": [
    {
     "name": "stdout",
     "output_type": "stream",
     "text": [
      "--2015-06-25 10:25:08--  http://files.grouplens.org/datasets/movielens/ml-1m.zip\n",
      "Resolving files.grouplens.org... 128.101.34.146\n",
      "Connecting to files.grouplens.org|128.101.34.146|:80... connected.\n",
      "HTTP request sent, awaiting response... 200 OK\n",
      "Length: 5917392 (5.6M) [application/zip]\n",
      "Saving to: 'ml-1m.zip'\n",
      "\n",
      "ml-1m.zip           100%[=====================>]   5.64M   668KB/s   in 13s    \n",
      "\n",
      "2015-06-25 10:25:22 (437 KB/s) - 'ml-1m.zip' saved [5917392/5917392]\n",
      "\n"
     ]
    }
   ],
   "source": [
    "!wget http://files.grouplens.org/datasets/movielens/ml-1m.zip\n",
    "!unzip ml-1m.zip"
   ]
  },
  {
   "cell_type": "markdown",
   "metadata": {},
   "source": [
    "## Parsing data and cleaning it up for NTFLib"
   ]
  },
  {
   "cell_type": "code",
   "execution_count": 3,
   "metadata": {
    "collapsed": false
   },
   "outputs": [
    {
     "name": "stderr",
     "output_type": "stream",
     "text": [
      "/Users/eli/anaconda/lib/python2.7/site-packages/pandas/io/parsers.py:648: ParserWarning: Falling back to the 'python' engine because the 'c' engine does not support regex separators; you can avoid this warning by specifying engine='python'.\n",
      "  ParserWarning)\n"
     ]
    }
   ],
   "source": [
    "ratings = pd.read_table('ml-1m/ratings.dat', sep='::', names=['UserID', 'MovieID', 'Rating', 'Timestamp'])\n",
    "ratings.Timestamp = ratings.Timestamp.map(lambda x: datetime.datetime.fromtimestamp(x).strftime('%Y-%m'))\n",
    "# movies = pd.read_table('ml-1m/movies.dat', sep='::', names=['MovieID', 'Title', 'Genres'])\n",
    "# users = pd.read_table('ml-1m/users.dat', sep='::', names=['UserID' ,'Gender', 'Age', 'Occupation::Zip-code'])"
   ]
  },
  {
   "cell_type": "code",
   "execution_count": 4,
   "metadata": {
    "collapsed": false
   },
   "outputs": [],
   "source": [
    "# Converting dates to integers\n",
    "ratings['UserID'], inv_uid_dict = mapper(ratings['UserID'])\n",
    "ratings['MovieID'], inv_mid_dict = mapper(ratings['MovieID'])\n",
    "ratings['Timestamp'], inv_ts_dict = mapper(ratings['Timestamp'])"
   ]
  },
  {
   "cell_type": "code",
   "execution_count": 5,
   "metadata": {
    "collapsed": false
   },
   "outputs": [
    {
     "name": "stdout",
     "output_type": "stream",
     "text": [
      "UserID       0\n",
      "MovieID      0\n",
      "Timestamp    0\n",
      "dtype: int64\n"
     ]
    }
   ],
   "source": [
    "x_indices = ratings[['UserID', 'MovieID', 'Timestamp']].copy()\n",
    "x_indices['UserID'] = x_indices['UserID'] - x_indices['UserID'].min() \n",
    "x_indices['MovieID'] = x_indices['MovieID'] - x_indices['MovieID'].min()\n",
    "x_indices['Timestamp'] = x_indices['Timestamp'] - x_indices['Timestamp'].min() \n",
    "\n",
    "print x_indices.min()\n",
    "x_indices = x_indices.values\n",
    "x_vals = ratings['Rating'].values"
   ]
  },
  {
   "cell_type": "code",
   "execution_count": 6,
   "metadata": {
    "collapsed": false
   },
   "outputs": [
    {
     "name": "stdout",
     "output_type": "stream",
     "text": [
      "Number of unique movie IDs: 3706\n",
      "Max movie ID: 3705\n"
     ]
    }
   ],
   "source": [
    "print 'Number of unique movie IDs: {0}'.format(len(ratings['MovieID'].unique()))\n",
    "print 'Max movie ID: {0}'.format(ratings['MovieID'].max())"
   ]
  },
  {
   "cell_type": "code",
   "execution_count": 7,
   "metadata": {
    "collapsed": false
   },
   "outputs": [
    {
     "data": {
      "text/plain": [
       "[6040, 3706, 35]"
      ]
     },
     "execution_count": 7,
     "metadata": {},
     "output_type": "execute_result"
    }
   ],
   "source": [
    "indices_train, indices_test, val_train, val_test = train_test_split(\n",
    "    x_indices, x_vals, test_size=0.40, random_state=42)\n",
    "\n",
    "shape_uid = len(np.unique(x_indices[:,0]))\n",
    "shape_mid = len(np.unique(x_indices[:,1]))\n",
    "shape_ts = len(np.unique(x_indices[:,2]))\n",
    "shape = [shape_uid, shape_mid, shape_ts]\n",
    "shape"
   ]
  },
  {
   "cell_type": "code",
   "execution_count": 8,
   "metadata": {
    "collapsed": false
   },
   "outputs": [
    {
     "data": {
      "text/plain": [
       "array([[6022, 3683,   33],\n",
       "       [5529, 3261,    9],\n",
       "       [2908, 1544,    6],\n",
       "       ..., \n",
       "       [ 853,  467,    2],\n",
       "       [4032, 2268,    7],\n",
       "       [ 785,  440,    2]])"
      ]
     },
     "execution_count": 8,
     "metadata": {},
     "output_type": "execute_result"
    }
   ],
   "source": [
    "indices_train"
   ]
  },
  {
   "cell_type": "code",
   "execution_count": 9,
   "metadata": {
    "collapsed": false
   },
   "outputs": [
    {
     "ename": "TypeError",
     "evalue": "not all arguments converted during string formatting",
     "output_type": "error",
     "traceback": [
      "\u001b[0;31m---------------------------------------------------------------------------\u001b[0m",
      "\u001b[0;31mTypeError\u001b[0m                                 Traceback (most recent call last)",
      "\u001b[0;32m<ipython-input-9-64ff1eab406a>\u001b[0m in \u001b[0;36m<module>\u001b[0;34m()\u001b[0m\n\u001b[1;32m      3\u001b[0m \u001b[0mbefore\u001b[0m \u001b[0;34m=\u001b[0m \u001b[0mbnf\u001b[0m\u001b[0;34m.\u001b[0m\u001b[0mscore\u001b[0m\u001b[0;34m(\u001b[0m\u001b[0mindices_train\u001b[0m\u001b[0;34m,\u001b[0m \u001b[0mval_train\u001b[0m\u001b[0;34m)\u001b[0m\u001b[0;34m\u001b[0m\u001b[0m\n\u001b[1;32m      4\u001b[0m \u001b[0minitial\u001b[0m \u001b[0;34m=\u001b[0m \u001b[0mbnf\u001b[0m\u001b[0;34m.\u001b[0m\u001b[0mimpute\u001b[0m\u001b[0;34m(\u001b[0m\u001b[0mx_indices\u001b[0m\u001b[0;34m)\u001b[0m\u001b[0;34m\u001b[0m\u001b[0m\n\u001b[0;32m----> 5\u001b[0;31m \u001b[0mreconstructed\u001b[0m \u001b[0;34m=\u001b[0m \u001b[0mbnf\u001b[0m\u001b[0;34m.\u001b[0m\u001b[0mfit\u001b[0m\u001b[0;34m(\u001b[0m\u001b[0mindices_train\u001b[0m\u001b[0;34m,\u001b[0m \u001b[0mval_train\u001b[0m\u001b[0;34m)\u001b[0m\u001b[0;34m\u001b[0m\u001b[0m\n\u001b[0m\u001b[1;32m      6\u001b[0m \u001b[0mafter\u001b[0m \u001b[0;34m=\u001b[0m \u001b[0mbnf\u001b[0m\u001b[0;34m.\u001b[0m\u001b[0mscore\u001b[0m\u001b[0;34m(\u001b[0m\u001b[0;34m)\u001b[0m\u001b[0;34m\u001b[0m\u001b[0m\n\u001b[1;32m      7\u001b[0m \u001b[0;32massert\u001b[0m\u001b[0;34m(\u001b[0m\u001b[0mafter\u001b[0m \u001b[0;34m<\u001b[0m \u001b[0mbefore\u001b[0m\u001b[0;34m)\u001b[0m\u001b[0;34m\u001b[0m\u001b[0m\n",
      "\u001b[0;32m/Users/eli/github/NTFLib/ntflib/betantf.pyc\u001b[0m in \u001b[0;36mfit\u001b[0;34m(self, x_indices, x_vals)\u001b[0m\n\u001b[1;32m     91\u001b[0m         \u001b[0mself\u001b[0m\u001b[0;34m.\u001b[0m\u001b[0mx_indices\u001b[0m \u001b[0;34m=\u001b[0m \u001b[0mx_indices\u001b[0m\u001b[0;34m\u001b[0m\u001b[0m\n\u001b[1;32m     92\u001b[0m         \u001b[0mself\u001b[0m\u001b[0;34m.\u001b[0m\u001b[0mx_vals\u001b[0m \u001b[0;34m=\u001b[0m \u001b[0mx_vals\u001b[0m\u001b[0;34m\u001b[0m\u001b[0m\n\u001b[0;32m---> 93\u001b[0;31m         \u001b[0mself\u001b[0m\u001b[0;34m.\u001b[0m\u001b[0m_check_input\u001b[0m\u001b[0;34m(\u001b[0m\u001b[0mx_indices\u001b[0m\u001b[0;34m,\u001b[0m \u001b[0mx_vals\u001b[0m\u001b[0;34m)\u001b[0m\u001b[0;34m\u001b[0m\u001b[0m\n\u001b[0m\u001b[1;32m     94\u001b[0m         \u001b[0;32mfor\u001b[0m \u001b[0mit\u001b[0m \u001b[0;32min\u001b[0m \u001b[0mrange\u001b[0m\u001b[0;34m(\u001b[0m\u001b[0mself\u001b[0m\u001b[0;34m.\u001b[0m\u001b[0mn_iters\u001b[0m\u001b[0;34m)\u001b[0m\u001b[0;34m:\u001b[0m\u001b[0;34m\u001b[0m\u001b[0m\n\u001b[1;32m     95\u001b[0m             \u001b[0;31m# Update each factor individually\u001b[0m\u001b[0;34m\u001b[0m\u001b[0;34m\u001b[0m\u001b[0m\n",
      "\u001b[0;32m/Users/eli/github/NTFLib/ntflib/betantf.pyc\u001b[0m in \u001b[0;36m_check_input\u001b[0;34m(self, x_indices, x_vals)\u001b[0m\n\u001b[1;32m     50\u001b[0m         \u001b[0;32mfor\u001b[0m \u001b[0mcol\u001b[0m \u001b[0;32min\u001b[0m \u001b[0mrange\u001b[0m\u001b[0;34m(\u001b[0m\u001b[0mx_indices\u001b[0m\u001b[0;34m.\u001b[0m\u001b[0mshape\u001b[0m\u001b[0;34m[\u001b[0m\u001b[0;36m1\u001b[0m\u001b[0;34m]\u001b[0m\u001b[0;34m)\u001b[0m\u001b[0;34m:\u001b[0m\u001b[0;34m\u001b[0m\u001b[0m\n\u001b[1;32m     51\u001b[0m             \u001b[0mrank\u001b[0m \u001b[0;34m=\u001b[0m \u001b[0mx_indices\u001b[0m\u001b[0;34m[\u001b[0m\u001b[0;34m:\u001b[0m\u001b[0;34m,\u001b[0m \u001b[0mcol\u001b[0m\u001b[0;34m]\u001b[0m\u001b[0;34m\u001b[0m\u001b[0m\n\u001b[0;32m---> 52\u001b[0;31m             \u001b[0mmsg\u001b[0m \u001b[0;34m=\u001b[0m \u001b[0mmsg\u001b[0m \u001b[0;34m%\u001b[0m \u001b[0mcol\u001b[0m\u001b[0;34m\u001b[0m\u001b[0m\n\u001b[0m\u001b[1;32m     53\u001b[0m             \u001b[0;32mif\u001b[0m \u001b[0mrank\u001b[0m\u001b[0;34m.\u001b[0m\u001b[0mmax\u001b[0m\u001b[0;34m(\u001b[0m\u001b[0;34m)\u001b[0m \u001b[0;34m+\u001b[0m \u001b[0;36m1\u001b[0m \u001b[0;34m!=\u001b[0m \u001b[0mnp\u001b[0m\u001b[0;34m.\u001b[0m\u001b[0munique\u001b[0m\u001b[0;34m(\u001b[0m\u001b[0mrank\u001b[0m\u001b[0;34m)\u001b[0m\u001b[0;34m.\u001b[0m\u001b[0mshape\u001b[0m\u001b[0;34m[\u001b[0m\u001b[0;36m0\u001b[0m\u001b[0;34m]\u001b[0m\u001b[0;34m:\u001b[0m\u001b[0;34m\u001b[0m\u001b[0m\n\u001b[1;32m     54\u001b[0m                 \u001b[0mwarnings\u001b[0m\u001b[0;34m.\u001b[0m\u001b[0mwarn\u001b[0m\u001b[0;34m(\u001b[0m\u001b[0mmsg\u001b[0m\u001b[0;34m)\u001b[0m\u001b[0;34m\u001b[0m\u001b[0m\n",
      "\u001b[0;31mTypeError\u001b[0m: not all arguments converted during string formatting"
     ]
    }
   ],
   "source": [
    "# shape = [len(np.unique(ratings[x])) for x in ['UserID', 'MovieID', 'Timestamp']]\n",
    "bnf = betantf.BetaNTF(shape, n_components=5, n_iters=10)\n",
    "before = bnf.score(indices_train, val_train)\n",
    "initial = bnf.impute(x_indices)\n",
    "reconstructed = bnf.fit(indices_train, val_train)\n",
    "after = bnf.score()\n",
    "assert(after < before)"
   ]
  },
  {
   "cell_type": "code",
   "execution_count": null,
   "metadata": {
    "collapsed": false
   },
   "outputs": [
    {
     "name": "stdout",
     "output_type": "stream",
     "text": [
      "> \u001b[0;32m/Users/eli/github/NTFLib/ntflib/betantf.py\u001b[0m(52)\u001b[0;36m_check_input\u001b[0;34m()\u001b[0m\n",
      "\u001b[0;32m     51 \u001b[0;31m            \u001b[0mrank\u001b[0m \u001b[0;34m=\u001b[0m \u001b[0mx_indices\u001b[0m\u001b[0;34m[\u001b[0m\u001b[0;34m:\u001b[0m\u001b[0;34m,\u001b[0m \u001b[0mcol\u001b[0m\u001b[0;34m]\u001b[0m\u001b[0;34m\u001b[0m\u001b[0m\n",
      "\u001b[0m\u001b[0;32m---> 52 \u001b[0;31m            \u001b[0mmsg\u001b[0m \u001b[0;34m=\u001b[0m \u001b[0mmsg\u001b[0m \u001b[0;34m%\u001b[0m \u001b[0mcol\u001b[0m\u001b[0;34m\u001b[0m\u001b[0m\n",
      "\u001b[0m\u001b[0;32m     53 \u001b[0;31m            \u001b[0;32mif\u001b[0m \u001b[0mrank\u001b[0m\u001b[0;34m.\u001b[0m\u001b[0mmax\u001b[0m\u001b[0;34m(\u001b[0m\u001b[0;34m)\u001b[0m \u001b[0;34m+\u001b[0m \u001b[0;36m1\u001b[0m \u001b[0;34m!=\u001b[0m \u001b[0mnp\u001b[0m\u001b[0;34m.\u001b[0m\u001b[0munique\u001b[0m\u001b[0;34m(\u001b[0m\u001b[0mrank\u001b[0m\u001b[0;34m)\u001b[0m\u001b[0;34m.\u001b[0m\u001b[0mshape\u001b[0m\u001b[0;34m[\u001b[0m\u001b[0;36m0\u001b[0m\u001b[0;34m]\u001b[0m\u001b[0;34m:\u001b[0m\u001b[0;34m\u001b[0m\u001b[0m\n",
      "\u001b[0m\n",
      "ipdb> p col\n",
      "1\n",
      "ipdb> p msg\n",
      "'Rank did not match shape; is column 0 starting with zero and strictly contiguous integers?'\n",
      "ipdb> l\n",
      "\u001b[1;32m     47 \u001b[0m        we cannot tolerate a whole dimension with no data.\"\"\"\n",
      "\u001b[1;32m     48 \u001b[0m        \u001b[0mmsg\u001b[0m \u001b[0;34m=\u001b[0m \u001b[0;34m\"Rank did not match shape; is column %i \"\u001b[0m\u001b[0;34m\u001b[0m\u001b[0m\n",
      "\u001b[1;32m     49 \u001b[0m        \u001b[0mmsg\u001b[0m \u001b[0;34m+=\u001b[0m \u001b[0;34m\"starting with zero and strictly contiguous integers?\"\u001b[0m\u001b[0;34m\u001b[0m\u001b[0m\n",
      "\u001b[1;32m     50 \u001b[0m        \u001b[0;32mfor\u001b[0m \u001b[0mcol\u001b[0m \u001b[0;32min\u001b[0m \u001b[0mrange\u001b[0m\u001b[0;34m(\u001b[0m\u001b[0mx_indices\u001b[0m\u001b[0;34m.\u001b[0m\u001b[0mshape\u001b[0m\u001b[0;34m[\u001b[0m\u001b[0;36m1\u001b[0m\u001b[0;34m]\u001b[0m\u001b[0;34m)\u001b[0m\u001b[0;34m:\u001b[0m\u001b[0;34m\u001b[0m\u001b[0m\n",
      "\u001b[1;32m     51 \u001b[0m            \u001b[0mrank\u001b[0m \u001b[0;34m=\u001b[0m \u001b[0mx_indices\u001b[0m\u001b[0;34m[\u001b[0m\u001b[0;34m:\u001b[0m\u001b[0;34m,\u001b[0m \u001b[0mcol\u001b[0m\u001b[0;34m]\u001b[0m\u001b[0;34m\u001b[0m\u001b[0m\n",
      "\u001b[0;32m---> 52 \u001b[0;31m            \u001b[0mmsg\u001b[0m \u001b[0;34m=\u001b[0m \u001b[0mmsg\u001b[0m \u001b[0;34m%\u001b[0m \u001b[0mcol\u001b[0m\u001b[0;34m\u001b[0m\u001b[0m\n",
      "\u001b[0m\u001b[1;32m     53 \u001b[0m            \u001b[0;32mif\u001b[0m \u001b[0mrank\u001b[0m\u001b[0;34m.\u001b[0m\u001b[0mmax\u001b[0m\u001b[0;34m(\u001b[0m\u001b[0;34m)\u001b[0m \u001b[0;34m+\u001b[0m \u001b[0;36m1\u001b[0m \u001b[0;34m!=\u001b[0m \u001b[0mnp\u001b[0m\u001b[0;34m.\u001b[0m\u001b[0munique\u001b[0m\u001b[0;34m(\u001b[0m\u001b[0mrank\u001b[0m\u001b[0;34m)\u001b[0m\u001b[0;34m.\u001b[0m\u001b[0mshape\u001b[0m\u001b[0;34m[\u001b[0m\u001b[0;36m0\u001b[0m\u001b[0;34m]\u001b[0m\u001b[0;34m:\u001b[0m\u001b[0;34m\u001b[0m\u001b[0m\n",
      "\u001b[1;32m     54 \u001b[0m                \u001b[0mwarnings\u001b[0m\u001b[0;34m.\u001b[0m\u001b[0mwarn\u001b[0m\u001b[0;34m(\u001b[0m\u001b[0mmsg\u001b[0m\u001b[0;34m)\u001b[0m\u001b[0;34m\u001b[0m\u001b[0m\n",
      "\u001b[1;32m     55 \u001b[0m        \u001b[0;32massert\u001b[0m \u001b[0mlen\u001b[0m\u001b[0;34m(\u001b[0m\u001b[0mx_vals\u001b[0m\u001b[0;34m)\u001b[0m \u001b[0;34m==\u001b[0m \u001b[0mlen\u001b[0m\u001b[0;34m(\u001b[0m\u001b[0mx_indices\u001b[0m\u001b[0;34m)\u001b[0m\u001b[0;34m\u001b[0m\u001b[0m\n",
      "\u001b[1;32m     56 \u001b[0m        \u001b[0;32massert\u001b[0m \u001b[0mnp\u001b[0m\u001b[0;34m.\u001b[0m\u001b[0mall\u001b[0m\u001b[0;34m(\u001b[0m\u001b[0mnp\u001b[0m\u001b[0;34m.\u001b[0m\u001b[0misfinite\u001b[0m\u001b[0;34m(\u001b[0m\u001b[0mx_vals\u001b[0m\u001b[0;34m)\u001b[0m\u001b[0;34m)\u001b[0m\u001b[0;34m\u001b[0m\u001b[0m\n",
      "\u001b[1;32m     57 \u001b[0m        \u001b[0;32massert\u001b[0m \u001b[0mnp\u001b[0m\u001b[0;34m.\u001b[0m\u001b[0mall\u001b[0m\u001b[0;34m(\u001b[0m\u001b[0mx_vals\u001b[0m \u001b[0;34m>=\u001b[0m \u001b[0;36m0\u001b[0m\u001b[0;34m)\u001b[0m\u001b[0;34m\u001b[0m\u001b[0m\n",
      "\n"
     ]
    }
   ],
   "source": [
    "debug"
   ]
  },
  {
   "cell_type": "code",
   "execution_count": 83,
   "metadata": {
    "collapsed": false
   },
   "outputs": [],
   "source": [
    "prediction = bnf.impute(indices_test)"
   ]
  },
  {
   "cell_type": "code",
   "execution_count": 85,
   "metadata": {
    "collapsed": false
   },
   "outputs": [
    {
     "data": {
      "text/plain": [
       "0.82303123616696161"
      ]
     },
     "execution_count": 85,
     "metadata": {},
     "output_type": "execute_result"
    }
   ],
   "source": [
    "rmse(prediction, val_test) / float(prediction.shape[0])"
   ]
  },
  {
   "cell_type": "code",
   "execution_count": 11,
   "metadata": {
    "collapsed": false,
    "scrolled": false
   },
   "outputs": [
    {
     "name": "stdout",
     "output_type": "stream",
     "text": [
      "SUMMARY\r\n",
      "================================================================================\r\n",
      "\r\n",
      "These files contain 1,000,209 anonymous ratings of approximately 3,900 movies \r\n",
      "made by 6,040 MovieLens users who joined MovieLens in 2000.\r\n",
      "\r\n",
      "USAGE LICENSE\r\n",
      "================================================================================\r\n",
      "\r\n",
      "Neither the University of Minnesota nor any of the researchers\r\n",
      "involved can guarantee the correctness of the data, its suitability\r\n",
      "for any particular purpose, or the validity of results based on the\r\n",
      "use of the data set.  The data set may be used for any research\r\n",
      "purposes under the following conditions:\r\n",
      "\r\n",
      "     * The user may not state or imply any endorsement from the\r\n",
      "       University of Minnesota or the GroupLens Research Group.\r\n",
      "\r\n",
      "     * The user must acknowledge the use of the data set in\r\n",
      "       publications resulting from the use of the data set, and must\r\n",
      "       send us an electronic or paper copy of those publications.\r\n",
      "\r\n",
      "     * The user may not redistribute the data without separate\r\n",
      "       permission.\r\n",
      "\r\n",
      "     * The user may not use this information for any commercial or\r\n",
      "       revenue-bearing purposes without first obtaining permission\r\n",
      "       from a faculty member of the GroupLens Research Project at the\r\n",
      "       University of Minnesota.\r\n",
      "\r\n",
      "If you have any further questions or comments, please contact GroupLens\r\n",
      "<grouplens-info@cs.umn.edu>. \r\n",
      "\r\n",
      "ACKNOWLEDGEMENTS\r\n",
      "================================================================================\r\n",
      "\r\n",
      "Thanks to Shyong Lam and Jon Herlocker for cleaning up and generating the data\r\n",
      "set.\r\n",
      "\r\n",
      "FURTHER INFORMATION ABOUT THE GROUPLENS RESEARCH PROJECT\r\n",
      "================================================================================\r\n",
      "\r\n",
      "The GroupLens Research Project is a research group in the Department of \r\n",
      "Computer Science and Engineering at the University of Minnesota. Members of \r\n",
      "the GroupLens Research Project are involved in many research projects related \r\n",
      "to the fields of information filtering, collaborative filtering, and \r\n",
      "recommender systems. The project is lead by professors John Riedl and Joseph \r\n",
      "Konstan. The project began to explore automated collaborative filtering in \r\n",
      "1992, but is most well known for its world wide trial of an automated \r\n",
      "collaborative filtering system for Usenet news in 1996. Since then the project \r\n",
      "has expanded its scope to research overall information filtering solutions, \r\n",
      "integrating in content-based methods as well as improving current collaborative \r\n",
      "filtering technology.\r\n",
      "\r\n",
      "Further information on the GroupLens Research project, including research \r\n",
      "publications, can be found at the following web site:\r\n",
      "        \r\n",
      "        http://www.grouplens.org/\r\n",
      "\r\n",
      "GroupLens Research currently operates a movie recommender based on \r\n",
      "collaborative filtering:\r\n",
      "\r\n",
      "        http://www.movielens.org/\r\n",
      "\r\n",
      "RATINGS FILE DESCRIPTION\r\n",
      "================================================================================\r\n",
      "\r\n",
      "All ratings are contained in the file \"ratings.dat\" and are in the\r\n",
      "following format:\r\n",
      "\r\n",
      "UserID::MovieID::Rating::Timestamp\r\n",
      "\r\n",
      "- UserIDs range between 1 and 6040 \r\n",
      "- MovieIDs range between 1 and 3952\r\n",
      "- Ratings are made on a 5-star scale (whole-star ratings only)\r\n",
      "- Timestamp is represented in seconds since the epoch as returned by time(2)\r\n",
      "- Each user has at least 20 ratings\r\n",
      "\r\n",
      "USERS FILE DESCRIPTION\r\n",
      "================================================================================\r\n",
      "\r\n",
      "User information is in the file \"users.dat\" and is in the following\r\n",
      "format:\r\n",
      "\r\n",
      "UserID::Gender::Age::Occupation::Zip-code\r\n",
      "\r\n",
      "All demographic information is provided voluntarily by the users and is\r\n",
      "not checked for accuracy.  Only users who have provided some demographic\r\n",
      "information are included in this data set.\r\n",
      "\r\n",
      "- Gender is denoted by a \"M\" for male and \"F\" for female\r\n",
      "- Age is chosen from the following ranges:\r\n",
      "\r\n",
      "\t*  1:  \"Under 18\"\r\n",
      "\t* 18:  \"18-24\"\r\n",
      "\t* 25:  \"25-34\"\r\n",
      "\t* 35:  \"35-44\"\r\n",
      "\t* 45:  \"45-49\"\r\n",
      "\t* 50:  \"50-55\"\r\n",
      "\t* 56:  \"56+\"\r\n",
      "\r\n",
      "- Occupation is chosen from the following choices:\r\n",
      "\r\n",
      "\t*  0:  \"other\" or not specified\r\n",
      "\t*  1:  \"academic/educator\"\r\n",
      "\t*  2:  \"artist\"\r\n",
      "\t*  3:  \"clerical/admin\"\r\n",
      "\t*  4:  \"college/grad student\"\r\n",
      "\t*  5:  \"customer service\"\r\n",
      "\t*  6:  \"doctor/health care\"\r\n",
      "\t*  7:  \"executive/managerial\"\r\n",
      "\t*  8:  \"farmer\"\r\n",
      "\t*  9:  \"homemaker\"\r\n",
      "\t* 10:  \"K-12 student\"\r\n",
      "\t* 11:  \"lawyer\"\r\n",
      "\t* 12:  \"programmer\"\r\n",
      "\t* 13:  \"retired\"\r\n",
      "\t* 14:  \"sales/marketing\"\r\n",
      "\t* 15:  \"scientist\"\r\n",
      "\t* 16:  \"self-employed\"\r\n",
      "\t* 17:  \"technician/engineer\"\r\n",
      "\t* 18:  \"tradesman/craftsman\"\r\n",
      "\t* 19:  \"unemployed\"\r\n",
      "\t* 20:  \"writer\"\r\n",
      "\r\n",
      "MOVIES FILE DESCRIPTION\r\n",
      "================================================================================\r\n",
      "\r\n",
      "Movie information is in the file \"movies.dat\" and is in the following\r\n",
      "format:\r\n",
      "\r\n",
      "MovieID::Title::Genres\r\n",
      "\r\n",
      "- Titles are identical to titles provided by the IMDB (including\r\n",
      "year of release)\r\n",
      "- Genres are pipe-separated and are selected from the following genres:\r\n",
      "\r\n",
      "\t* Action\r\n",
      "\t* Adventure\r\n",
      "\t* Animation\r\n",
      "\t* Children's\r\n",
      "\t* Comedy\r\n",
      "\t* Crime\r\n",
      "\t* Documentary\r\n",
      "\t* Drama\r\n",
      "\t* Fantasy\r\n",
      "\t* Film-Noir\r\n",
      "\t* Horror\r\n",
      "\t* Musical\r\n",
      "\t* Mystery\r\n",
      "\t* Romance\r\n",
      "\t* Sci-Fi\r\n",
      "\t* Thriller\r\n",
      "\t* War\r\n",
      "\t* Western\r\n",
      "\r\n",
      "- Some MovieIDs do not correspond to a movie due to accidental duplicate\r\n",
      "entries and/or test entries\r\n",
      "- Movies are mostly entered by hand, so errors and inconsistencies may exist\r\n"
     ]
    }
   ],
   "source": [
    "!cat ml-1m/README"
   ]
  },
  {
   "cell_type": "code",
   "execution_count": null,
   "metadata": {
    "collapsed": true
   },
   "outputs": [],
   "source": []
  },
  {
   "cell_type": "code",
   "execution_count": null,
   "metadata": {
    "collapsed": true
   },
   "outputs": [],
   "source": []
  }
 ],
 "metadata": {
  "kernelspec": {
   "display_name": "Python 2",
   "language": "python",
   "name": "python2"
  },
  "language_info": {
   "codemirror_mode": {
    "name": "ipython",
    "version": 2
   },
   "file_extension": ".py",
   "mimetype": "text/x-python",
   "name": "python",
   "nbconvert_exporter": "python",
   "pygments_lexer": "ipython2",
   "version": "2.7.10"
  }
 },
 "nbformat": 4,
 "nbformat_minor": 0
}
