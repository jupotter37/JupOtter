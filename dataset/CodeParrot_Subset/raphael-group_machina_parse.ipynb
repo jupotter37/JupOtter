{
 "cells": [
  {
   "cell_type": "code",
   "execution_count": 62,
   "metadata": {
    "collapsed": true
   },
   "outputs": [],
   "source": [
    "import sys\n",
    "import pandas as pd"
   ]
  },
  {
   "cell_type": "code",
   "execution_count": 63,
   "metadata": {
    "collapsed": true
   },
   "outputs": [],
   "source": [
    "filenames_patients = [\"raw/patient_A.csv\", \"raw/patient_B.csv\", \"raw/patient_C.csv\", \"raw/patient_D.csv\",\n",
    "                      \"raw/patient_E.csv\", \"raw/patient_F.csv\", \"raw/patient_G.csv\"]#, \"raw/patient_H.csv\"]\n",
    "filenames_samples = [\"raw/samples_A.txt\", \"raw/samples_B.txt\", \"raw/samples_C.txt\", \"raw/samples_D.txt\",\n",
    "                     \"raw/samples_E.txt\", \"raw/samples_F.txt\", \"raw/samples_G.txt\"]#, \"raw/samples_H.txt\"]\n",
    "filenames_out = [\"reads_A.tsv\", \"reads_B.tsv\", \"reads_C.tsv\", \"reads_D.tsv\",\n",
    "                 \"reads_E.tsv\", \"reads_F.tsv\", \"reads_G.tsv\"]#, \"reads_H.tsv\"]"
   ]
  },
  {
   "cell_type": "code",
   "execution_count": 64,
   "metadata": {
    "collapsed": true
   },
   "outputs": [],
   "source": [
    "def parse_samples(filename):\n",
    "    samples = []\n",
    "    with open(filename) as f:\n",
    "        for line in f:\n",
    "            s = line.rstrip(\"\\n\").split(\" \")\n",
    "            samples.append(s[0])\n",
    "\n",
    "    return samples"
   ]
  },
  {
   "cell_type": "code",
   "execution_count": 65,
   "metadata": {
    "collapsed": true
   },
   "outputs": [],
   "source": [
    "def process(patient_filename, samples_filename, output_filename):\n",
    "    samples = parse_samples(samples_filename)\n",
    "    print patient_filename, samples\n",
    "    df = pd.read_csv(patient_filename)\n",
    "\n",
    "    # filter out SNVs affected by CNAs\n",
    "    df = df[df['cna_primary'] == '(1,1)']\n",
    "    for i in range(1, len(samples)):\n",
    "        df = df[df['cna_met%d' % i] == '(1,1)']\n",
    "    \n",
    "    # filter out SNVs that were filtered out by Sanborn\n",
    "    df = df[df['class'] != \"N.A.\"]\n",
    "        \n",
    "    with open(output_filename, \"w\") as f:\n",
    "        f.write(\"%d #anatomical sites\\n\" % len(samples))\n",
    "        f.write(\"%d #samples\\n\" % len(samples))\n",
    "        f.write(\"%d #mutations\\n\" % len(df))\n",
    "        f.write(\"\\t\".join([\"#sample_index\", \"sample_label\", \"anatomical_site_index\", \n",
    "                           \"anatomical_site_label\", \"character_index\", \"character_label\", \n",
    "                           \"ref\", \"var\"]) + \"\\n\")\n",
    "        i = 0\n",
    "        for index, row in df.iterrows():\n",
    "            for p, sample in enumerate(samples):\n",
    "                machina_row = []\n",
    "                machina_row.append(str(p))\n",
    "                machina_row.append(sample)\n",
    "                machina_row.append(str(p))\n",
    "                machina_row.append(sample)\n",
    "                machina_row.append(str(i))\n",
    "                machina_row.append(row['gene'] + \":\" + str(row['chromosome']) + \":\" + str(row['start']))\n",
    "                \n",
    "                if p == 0:\n",
    "                    total = row['tot_primary']\n",
    "                    alt = row['alt_primary']\n",
    "                else:\n",
    "                    total = row['tot_met%d' % p]\n",
    "                    alt = row['alt_met%d' % p]\n",
    "                \n",
    "                machina_row.append(str(total - alt))\n",
    "                machina_row.append(str(alt))\n",
    "                \n",
    "                f.write(\"\\t\".join(machina_row) + \"\\n\")\n",
    "                \n",
    "            i += 1\n",
    "        \n",
    "    return df"
   ]
  },
  {
   "cell_type": "code",
   "execution_count": 66,
   "metadata": {
    "collapsed": false
   },
   "outputs": [
    {
     "name": "stdout",
     "output_type": "stream",
     "text": [
      "raw/patient_A.csv ['primary', 'parotid_gland', 'locoregional_1', 'locoregional_2']\n",
      "raw/patient_B.csv ['primary', 'lymph_node', 'locoregional_1', 'locoregional_2']\n",
      "raw/patient_C.csv ['primary', 'locoregional_1', 'locoregional_2']\n",
      "raw/patient_D.csv ['primary', 'lymph_node', 'locoregional_1', 'locoregional_2']\n",
      "raw/patient_E.csv ['primary', 'locoregional_1', 'locoregional_2', 'lymph_node', 'locoregional_3']\n",
      "raw/patient_F.csv ['primary', 'lymph_node', 'locoregional', 'distant']\n",
      "raw/patient_G.csv ['primary', 'lung', 'locoregional']\n"
     ]
    }
   ],
   "source": [
    "for i in range(len(filenames_patients)):\n",
    "    process(filenames_patients[i], filenames_samples[i], filenames_out[i])"
   ]
  },
  {
   "cell_type": "code",
   "execution_count": null,
   "metadata": {
    "collapsed": true
   },
   "outputs": [],
   "source": []
  }
 ],
 "metadata": {
  "kernelspec": {
   "display_name": "Python 2",
   "language": "python",
   "name": "python2"
  },
  "language_info": {
   "codemirror_mode": {
    "name": "ipython",
    "version": 2
   },
   "file_extension": ".py",
   "mimetype": "text/x-python",
   "name": "python",
   "nbconvert_exporter": "python",
   "pygments_lexer": "ipython2",
   "version": "2.7.12"
  }
 },
 "nbformat": 4,
 "nbformat_minor": 0
}
