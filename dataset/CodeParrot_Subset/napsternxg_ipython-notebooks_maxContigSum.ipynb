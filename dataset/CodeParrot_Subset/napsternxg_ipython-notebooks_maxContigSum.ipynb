{
 "cells": [
  {
   "cell_type": "code",
   "execution_count": 33,
   "metadata": {
    "collapsed": false
   },
   "outputs": [
    {
     "name": "stdout",
     "output_type": "stream",
     "text": [
      "Max contiguous sum in  [5, 15, -30, 10, -5, 40, 10, -20] is 55 :  [10, -5, 40, 10]\n",
      "is 55\n",
      "is 55\n",
      "is 55\n",
      "is 55 :  [10, -5, 40, 10]\n"
     ]
    }
   ],
   "source": [
    "''' A collection of approaches to the maximum contiguous sequence sum problem.\n",
    "Ends up recursive, but no multiple reuse, so not really dynamic programming.\n",
    "'''\n",
    "def maxContigSum1(x):\n",
    "    '''Basic idea first, storing intermediate results in an array.'''\n",
    "    n = len(x) \n",
    "    endingHere = [0]*n # endingHere[i] = best sum ending at i:my be length 0.\n",
    "    maxSoFar = endingHere[0] = max(0, x[0])\n",
    "    for i in range (1, n): # 1..n-1\n",
    "        endingHere[i] = max(endingHere[i-1] + x[i], 0)\n",
    "        maxSoFar = max(maxSoFar, endingHere[i])\n",
    "    return maxSoFar\n",
    "\n",
    "def maxContigSum(x):\n",
    "    '''Don't need the second array since only use previous value!'''\n",
    "    n = len(x) \n",
    "    endingHere = 0\n",
    "    maxSoFar = 0\n",
    "    for i in range (0, n): # 1..n-1\n",
    "        endingHere = max(endingHere + x[i], 0)\n",
    "        maxSoFar = max(maxSoFar, endingHere)\n",
    "    return maxSoFar\n",
    "\n",
    "def maxContigSumWithLocation(x):\n",
    "    '''Return (maxSum, startI, endI): value and location in sequence.'''\n",
    "    n = len(x) \n",
    "    endingHere = 0\n",
    "    maxSoFar = 0\n",
    "    bestStartI = 0  # start of optimal seq so far\n",
    "    bestEndI = -1 #end of optimal seq so far - initially empty\n",
    "    curStartI = 0  # start of best seq ending at current position\n",
    "    for i in range (0, n): # 1..n-1\n",
    "        endingHere = max(endingHere + x[i], 0)\n",
    "        if endingHere == 0:\n",
    "           curStartI = i+1\n",
    "        elif maxSoFar < endingHere:\n",
    "           bestStartI = curStartI\n",
    "           bestEndI = i\n",
    "           maxSoFar = endingHere    \n",
    "    return (maxSoFar, bestStartI, bestEndI)\n",
    "\n",
    "def maxContigSumNeg(x):\n",
    "    # Handles case with negative number.\n",
    "    # Taken from https://en.wikipedia.org/wiki/Maximum_subarray_problem\n",
    "    endingHere = x[0]\n",
    "    maxSoFar = x[0]\n",
    "    for i in x[1:]:\n",
    "        endingHere = max(endingHere + i, i)\n",
    "        maxSoFar = max(endingHere, maxSoFar)\n",
    "    return maxSoFar\n",
    "\n",
    "def maxContigSumNegWithLoc(x):\n",
    "    # Handles case with negative number.\n",
    "    # Modified version of the functions above\n",
    "    endingHere = x[0]\n",
    "    maxSoFar = x[0]\n",
    "    bestStartI = 0\n",
    "    bestEndI = 0\n",
    "    curStartI = 0\n",
    "    for i in range(1,len(x)):\n",
    "        endingHere = max(endingHere + x[i], x[i])\n",
    "        if endingHere == x[i]:\n",
    "            curStartI = i\n",
    "        if maxSoFar < endingHere:\n",
    "            bestStartI = curStartI\n",
    "            bestEndI = i\n",
    "            maxSoFar = endingHere\n",
    "    return (maxSoFar, bestStartI, bestEndI)\n",
    "\n",
    "#### Rest is for displaying results ############################\n",
    "def showMaxSum(nums):\n",
    "    '''Display starting data and results.'''\n",
    "    (maxSum, startI, endI) = maxContigSumWithLocation(nums)\n",
    "    print \"Max contiguous sum in \", nums, \n",
    "    print \"is\", maxSum, \": \", nums[startI : endI +1]\n",
    "    print \"is\", maxContigSum(nums)\n",
    "    print \"is\", maxContigSum1(nums)\n",
    "    print \"is\", maxContigSumNeg(nums)\n",
    "    (maxSum, startI, endI) = maxContigSumNegWithLoc(nums)\n",
    "    print \"is\", maxSum, \": \", nums[startI : endI +1]\n",
    "    \n",
    "    \n",
    "showMaxSum([5, 15, -30, 10, -5, 40, 10, -20])"
   ]
  },
  {
   "cell_type": "code",
   "execution_count": 34,
   "metadata": {
    "collapsed": false
   },
   "outputs": [
    {
     "name": "stdout",
     "output_type": "stream",
     "text": [
      "Max contiguous sum in  [-5, -15, -30, -10, -5, -40, -10, -20] is 0 :  []\n",
      "is 0\n",
      "is 0\n",
      "is -5\n",
      "is -5 :  [-5]\n"
     ]
    }
   ],
   "source": [
    "showMaxSum([-5, -15, -30, -10, -5, -40, -10, -20])"
   ]
  },
  {
   "cell_type": "code",
   "execution_count": 35,
   "metadata": {
    "collapsed": false
   },
   "outputs": [
    {
     "name": "stdout",
     "output_type": "stream",
     "text": [
      "Max contiguous sum in  [-50, -15, -30, -10, -5, -40, -10, -20] is 0 :  []\n",
      "is 0\n",
      "is 0\n",
      "is -5\n",
      "is -5 :  [-5]\n"
     ]
    }
   ],
   "source": [
    "showMaxSum([-50, -15, -30, -10, -5, -40, -10, -20])"
   ]
  },
  {
   "cell_type": "code",
   "execution_count": null,
   "metadata": {
    "collapsed": true
   },
   "outputs": [],
   "source": []
  },
  {
   "cell_type": "code",
   "execution_count": null,
   "metadata": {
    "collapsed": true
   },
   "outputs": [],
   "source": []
  }
 ],
 "metadata": {
  "kernelspec": {
   "display_name": "Python 2",
   "language": "python",
   "name": "python2"
  },
  "language_info": {
   "codemirror_mode": {
    "name": "ipython",
    "version": 2
   },
   "file_extension": ".py",
   "mimetype": "text/x-python",
   "name": "python",
   "nbconvert_exporter": "python",
   "pygments_lexer": "ipython2",
   "version": "2.7.9"
  }
 },
 "nbformat": 4,
 "nbformat_minor": 0
}
