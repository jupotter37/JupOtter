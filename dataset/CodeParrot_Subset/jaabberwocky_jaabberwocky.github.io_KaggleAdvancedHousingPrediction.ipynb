{
  "cells": [
    {
      "metadata": {
        "_uuid": "8f2839f25d086af736a60e9eeb907d3b93b6e0e5",
        "_cell_guid": "b1076dfc-b9ad-4769-8c92-a6c4dae69d19",
        "trusted": false,
        "collapsed": true
      },
      "cell_type": "code",
      "source": "# load libraries\n\nimport numpy as np # linear algebra\nimport pandas as pd # data processing, CSV file I/O (e.g. pd.read_csv)\nimport matplotlib.pyplot as plt\nimport seaborn as sns\n\n%matplotlib inline\n\nimport os\nprint(os.listdir(\"../input\"))",
      "execution_count": null,
      "outputs": []
    },
    {
      "metadata": {
        "_uuid": "d629ff2d2480ee46fbb7e2d37f6b5fab8052498a",
        "_cell_guid": "79c7e3d0-c299-4dcb-8224-4455121ee9b0",
        "trusted": false,
        "collapsed": true
      },
      "cell_type": "code",
      "source": "# load the datasets in\ntrain = pd.read_csv('../input/train.csv')\ntest = pd.read_csv('../input/test.csv')\nsample_sub = pd.read_csv('../input/sample_submission.csv')",
      "execution_count": null,
      "outputs": []
    },
    {
      "metadata": {
        "_cell_guid": "7580f3df-5e10-4cf4-b116-8c50379965ee",
        "_uuid": "e469a8f7cd5838fb233cc42b3d98d0cf90c3f162",
        "trusted": false,
        "collapsed": true
      },
      "cell_type": "code",
      "source": "# look at train dataset\ntrain.head()",
      "execution_count": null,
      "outputs": []
    },
    {
      "metadata": {
        "_cell_guid": "23ad339c-a384-4111-b109-7d45b1523840",
        "_uuid": "813397039a9633f37138be1075897bd207893f0f",
        "trusted": false,
        "collapsed": true
      },
      "cell_type": "code",
      "source": "print(train.shape)\nprint(train.info())",
      "execution_count": null,
      "outputs": []
    },
    {
      "metadata": {
        "_uuid": "1ea55baeb4096326655ebf3510b3c54df40d13eb",
        "_cell_guid": "1ad82823-e9be-4804-a521-dde67e8c16dd"
      },
      "cell_type": "markdown",
      "source": "We have 1460 observations, and 81 columns.  There quite a few strings too, which we would have to encode later on. \n\nLet's have a look at the number of missing values."
    },
    {
      "metadata": {
        "_cell_guid": "35138df2-178c-4351-a3d0-6766a221cda8",
        "_uuid": "db4c88204bfc51ef58a22868e802f6a546df4e74",
        "trusted": false,
        "collapsed": true
      },
      "cell_type": "code",
      "source": "tmp = train.isnull().sum()",
      "execution_count": null,
      "outputs": []
    },
    {
      "metadata": {
        "_cell_guid": "74e4420c-0de4-4336-8385-02616c448195",
        "_uuid": "aff0860cf50704e019c2b3e8f87fd9bd630982a0",
        "trusted": false,
        "collapsed": true
      },
      "cell_type": "code",
      "source": "# get top 10 results\ntmp.sort_values(ascending=False).head(10).plot(kind='bar', figsize=(8,8))",
      "execution_count": null,
      "outputs": []
    },
    {
      "metadata": {
        "_uuid": "565ddafcb87d2b2cce4efb0fcbcaf01757549d08",
        "_cell_guid": "abcc8338-97b6-468c-aaee-0878dfef56a0"
      },
      "cell_type": "markdown",
      "source": "1. One way to handle this is to drop the first 4, given that almost all observations are missing."
    },
    {
      "metadata": {
        "_cell_guid": "fdffcdab-000a-4691-9e1a-b558ba80d438",
        "collapsed": true,
        "_uuid": "5d8b2dacc7530c00fb1db4450b393324c6ea22f6",
        "trusted": false
      },
      "cell_type": "code",
      "source": "drop_cols = ['PoolQC','MiscFeature','Alley','Fence']",
      "execution_count": null,
      "outputs": []
    },
    {
      "metadata": {
        "_cell_guid": "423b5539-0839-4852-a617-b10f3a6581ab",
        "collapsed": true,
        "_uuid": "0e087b3be2703abee3fa35b29bdbeb6231e072c2",
        "trusted": false
      },
      "cell_type": "code",
      "source": "# write custom transformer to drop these 4 cols for use in Pipeline later\nfrom sklearn.base import BaseEstimator, TransformerMixin\n\ndef DropColumnsTransform(BaseEstimator, TransformerMixin):\n    def __init__(self, attribs_drop):\n        self.attribs_drop = attribs_drop\n    def fit(self, X):\n        return self\n    def transform(self, X):\n        return X.drop(self.attribs_drop, axis=1).values",
      "execution_count": null,
      "outputs": []
    },
    {
      "metadata": {
        "_cell_guid": "766c187e-e6fc-4ac7-9e49-83c8a00c6f96",
        "_uuid": "05cb1b803f8a420b653cb8ec77cce5d83aafe0a6",
        "trusted": false,
        "collapsed": true
      },
      "cell_type": "code",
      "source": "# look at categorical data\ntrain_cat = train.select_dtypes(include=['object'])\ntrain_cat.shape\n# use this to impute missing values as \"?\"\ntrain_cat = train_cat.fillna(\"?\")",
      "execution_count": null,
      "outputs": []
    },
    {
      "metadata": {
        "_cell_guid": "947687c3-63de-485f-a198-32726f499c61",
        "_uuid": "c8053e1e9517c9c1140080ee69e859422fcd1e92",
        "trusted": false,
        "collapsed": true
      },
      "cell_type": "code",
      "source": "print(\"43/%d or %.2f%% of columns are categorical\" % (train.shape[1], 43/train.shape[1]*100))",
      "execution_count": null,
      "outputs": []
    },
    {
      "metadata": {
        "_cell_guid": "f8968f8d-a048-462a-a345-cc0705db9731",
        "_uuid": "4fe5b4151502022f73a9f48c62f59ec07f8b7edf",
        "trusted": false,
        "collapsed": true
      },
      "cell_type": "code",
      "source": "from sklearn.preprocessing import LabelBinarizer, Imputer\n\nLabelBinarizer = LabelBinarizer()\n# loop to apply LB to each column individually, then combine them back together\nlist_cols = []\nfor col in list(train_cat.columns):\n    x = train_cat[col].values\n    x_trans = LabelBinarizer.fit_transform(x)\n    list_cols.append(x_trans)\ntrain_cat_transformed = np.concatenate(list_cols,axis=1)\ntrain_cat_transformed",
      "execution_count": null,
      "outputs": []
    },
    {
      "metadata": {
        "_cell_guid": "c0414895-6901-427c-96a6-c584c9f31a47",
        "_uuid": "331073c236bed5427cb8bb15b5611eff9dd294da",
        "trusted": false,
        "collapsed": true
      },
      "cell_type": "code",
      "source": "# numerical data now\n\nImp = Imputer(strategy=\"median\")\ntrain_num = train.select_dtypes(include=['number'])\ntrain_num.shape",
      "execution_count": null,
      "outputs": []
    },
    {
      "metadata": {
        "_cell_guid": "025e9f06-9806-413d-9a21-b75c07bf928a",
        "_uuid": "a2bd404e6ebb8732ff63039adbd889ec3914ed1a",
        "trusted": false,
        "collapsed": true
      },
      "cell_type": "code",
      "source": "# look at correlation\ncor = train_num.corr()\nf = plt.figure(figsize=(15,15))\nsns.heatmap(cor, cmap='plasma')",
      "execution_count": null,
      "outputs": []
    },
    {
      "metadata": {
        "_uuid": "2722a2b4f9d05153148ede24e472be9366446b8c",
        "_cell_guid": "ec46f2f2-1a98-4da1-899c-c64e4b1f6065"
      },
      "cell_type": "markdown",
      "source": "Many features (e.g. LotArea, GarageCars) are indeed correlated highly with SalePrice."
    },
    {
      "metadata": {
        "_cell_guid": "74ae3819-be89-48dc-b9ac-c65cf6be52cb",
        "_uuid": "1a32860980fc7b41b8144dc9594908bbd604e80d",
        "trusted": false,
        "collapsed": true
      },
      "cell_type": "code",
      "source": "tmp = cor['SalePrice'].sort_values(ascending=False)\ntmp[1:11].plot(kind='bar', figsize=(8,8))",
      "execution_count": null,
      "outputs": []
    },
    {
      "metadata": {
        "_cell_guid": "311dda92-4b2b-46fc-ba09-858ad84a09fe",
        "_uuid": "b9c74b0c2731155c1e6a23a318fb8c2544324a16",
        "trusted": false,
        "collapsed": true
      },
      "cell_type": "code",
      "source": "# we will have to remove SalePrice before imputing\ntrain_num_wsp = train_num.drop('SalePrice',axis=1)\ntrain_num_tr = Imp.fit_transform(train_num_wsp)\ntrain_num_tr",
      "execution_count": null,
      "outputs": []
    },
    {
      "metadata": {
        "_cell_guid": "adca451b-6bea-485c-a48c-3bf6a48a4bb9",
        "_uuid": "f4c645f0988c0b542a7bcec6eabf544e9b1f4c39",
        "trusted": false,
        "collapsed": true
      },
      "cell_type": "code",
      "source": "X = np.concatenate([train_num_tr, train_cat_transformed],axis=1)\ny = train_num['SalePrice'].values\nprint(\"Shape of X:\", X.shape)\nprint(\"Shape of y:\", y.shape)",
      "execution_count": null,
      "outputs": []
    },
    {
      "metadata": {
        "_uuid": "d64d780f080f8f5d439aa07538ef6b5dc901d6bf",
        "_cell_guid": "c9d9acf9-251b-4d9c-971d-a3ae26f8c531"
      },
      "cell_type": "markdown",
      "source": "# Fit Models\n\n1. Linear Regression\n2. RandomForest"
    },
    {
      "metadata": {
        "_cell_guid": "0e81bb1f-c4d1-4abb-8b27-02c8035d4e45",
        "collapsed": true,
        "_uuid": "38d4cef5c3b50e26eec0a7830f1fbc4dce5acb15",
        "trusted": false
      },
      "cell_type": "code",
      "source": "from sklearn.model_selection import train_test_split\n# split into 10% for validation at end\nX_train, X_test, y_train, y_test = train_test_split(X,y, test_size=0.1)",
      "execution_count": null,
      "outputs": []
    },
    {
      "metadata": {
        "_cell_guid": "f6885942-0f7f-4a99-94f3-d99494b4a941",
        "_uuid": "ded5bb1b377c4bac0bec4d0df296d1747d91c856",
        "trusted": false,
        "collapsed": true
      },
      "cell_type": "code",
      "source": "# Linear Regression\nfrom sklearn.linear_model import LinearRegression\nfrom sklearn.model_selection import cross_val_score\nfrom sklearn.metrics import mean_squared_error as mse\n\nlinreg = LinearRegression()\nscores = cross_val_score(linreg, X_train, y_train, scoring=\"neg_mean_squared_error\", cv=10, verbose=1)\n\ndef printscorespretty(scores):\n    sc = np.sqrt(-scores)\n    print(\"Scores:\", sc)\n    print(\"Mean:\", np.mean(sc))\n    print(\"SD:\", np.sqrt(np.var(sc)))\n\nprintscorespretty(scores)",
      "execution_count": null,
      "outputs": []
    },
    {
      "metadata": {
        "_cell_guid": "8085ec85-5f2f-4c63-99af-d2c899cdeb2a",
        "_uuid": "cc3ff0e233ee8490a93dab096d9df7b66b40119b",
        "trusted": false,
        "collapsed": true
      },
      "cell_type": "code",
      "source": "#Decision Tree Regressor\nfrom sklearn.tree import DecisionTreeRegressor\n\ndtr = DecisionTreeRegressor()\nscores = cross_val_score(dtr, X_train, y_train, scoring=\"neg_mean_squared_error\", cv=10, verbose=1)\nprintscorespretty(scores)",
      "execution_count": null,
      "outputs": []
    },
    {
      "metadata": {
        "_uuid": "7764d54876c9cdde6c086a153c20287fb3e507b9",
        "_cell_guid": "4a9767df-b1e2-43ae-bf79-19f838e32647"
      },
      "cell_type": "markdown",
      "source": "DecisionTree Regressor is performing much better than Linear Regression here, perhaps capturing some non-linearity in data."
    },
    {
      "metadata": {
        "_cell_guid": "3e9595c9-2fee-4189-8cbe-afb8c92f7a17",
        "_uuid": "3a0ba40382ba3be207c555f1345ebee7bd178b3a",
        "trusted": false,
        "collapsed": true
      },
      "cell_type": "code",
      "source": "from sklearn.ensemble import RandomForestRegressor\n\nrf = RandomForestRegressor()\nscores = cross_val_score(rf, X_train, y_train, scoring=\"neg_mean_squared_error\", cv=10, verbose=1)\nprintscorespretty(scores)",
      "execution_count": null,
      "outputs": []
    },
    {
      "metadata": {
        "_uuid": "9c72fc3bc80261cc65aefd88a83c9435cb56fafb",
        "_cell_guid": "ef783c3a-e050-4d1d-bb61-5ceb31a11c2d"
      },
      "cell_type": "markdown",
      "source": "Best performance thus far is from RF."
    },
    {
      "metadata": {
        "_cell_guid": "ac4211d7-9362-4677-98d9-e7e5ec638bfd",
        "_uuid": "10edf441c86ff1c55f05d20dd97408646fd6b347",
        "trusted": false,
        "collapsed": true
      },
      "cell_type": "code",
      "source": "# XGBoost\nfrom xgboost import XGBRegressor\n\nXGB = XGBRegressor()\nscores = cross_val_score(XGB, X_train, y_train, scoring=\"neg_mean_squared_error\", cv=10, verbose=1)\nprintscorespretty(scores)",
      "execution_count": null,
      "outputs": []
    },
    {
      "metadata": {
        "_cell_guid": "a02b312f-dd59-4175-9c51-dbf495df4747",
        "collapsed": true,
        "_uuid": "02d36316b5c04ac31246f73ffe933853efc333d1",
        "trusted": false
      },
      "cell_type": "code",
      "source": "",
      "execution_count": null,
      "outputs": []
    }
  ],
  "metadata": {
    "language_info": {
      "name": "python",
      "version": "3.6.4",
      "mimetype": "text/x-python",
      "codemirror_mode": {
        "name": "ipython",
        "version": 3
      },
      "pygments_lexer": "ipython3",
      "nbconvert_exporter": "python",
      "file_extension": ".py"
    },
    "kernelspec": {
      "display_name": "Python 3",
      "language": "python",
      "name": "python3"
    }
  },
  "nbformat": 4,
  "nbformat_minor": 1
}