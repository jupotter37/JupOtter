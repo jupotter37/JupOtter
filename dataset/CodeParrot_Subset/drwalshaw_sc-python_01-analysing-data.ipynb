{
 "cells": [
  {
   "cell_type": "markdown",
   "metadata": {},
   "source": [
    "## analysing tabular data"
   ]
  },
  {
   "cell_type": "code",
   "execution_count": null,
   "metadata": {
    "collapsed": true
   },
   "outputs": [],
   "source": [
    "import numpy"
   ]
  },
  {
   "cell_type": "code",
   "execution_count": null,
   "metadata": {
    "collapsed": false
   },
   "outputs": [],
   "source": [
    "numpy.loadtxt"
   ]
  },
  {
   "cell_type": "code",
   "execution_count": null,
   "metadata": {
    "collapsed": false
   },
   "outputs": [],
   "source": [
    "numpy.loadtxt(fname='data/weather-01.csv' delimiter = ',')"
   ]
  },
  {
   "cell_type": "code",
   "execution_count": null,
   "metadata": {
    "collapsed": false
   },
   "outputs": [],
   "source": [
    "numpy.loadtxt(fname='data/weather-01.csv'delimiter=',')"
   ]
  },
  {
   "cell_type": "code",
   "execution_count": null,
   "metadata": {
    "collapsed": false
   },
   "outputs": [],
   "source": [
    "numpy.loadtxt(fname='data/weather-01.csv',delimiter=',')"
   ]
  },
  {
   "cell_type": "markdown",
   "metadata": {},
   "source": [
    "# variables"
   ]
  },
  {
   "cell_type": "code",
   "execution_count": null,
   "metadata": {
    "collapsed": true
   },
   "outputs": [],
   "source": [
    "weight_kg=55"
   ]
  },
  {
   "cell_type": "code",
   "execution_count": null,
   "metadata": {
    "collapsed": false
   },
   "outputs": [],
   "source": [
    "print (weight_kg)"
   ]
  },
  {
   "cell_type": "code",
   "execution_count": null,
   "metadata": {
    "collapsed": false
   },
   "outputs": [],
   "source": [
    "print('weight in pounds:',weight_kg*2.2)"
   ]
  },
  {
   "cell_type": "code",
   "execution_count": null,
   "metadata": {
    "collapsed": false
   },
   "outputs": [],
   "source": [
    "numpy.loadtxt(fname='data/weather-01.csv',delimiter=',')"
   ]
  },
  {
   "cell_type": "code",
   "execution_count": null,
   "metadata": {
    "collapsed": false
   },
   "outputs": [],
   "source": [
    "numpy.loadtxt(fname='data/weather-01.csv',delimiter=',')"
   ]
  },
  {
   "cell_type": "code",
   "execution_count": null,
   "metadata": {
    "collapsed": false
   },
   "outputs": [],
   "source": [
    "numpy.loadtxt(fname='data/weather-01.csv',delimiter=',')"
   ]
  },
  {
   "cell_type": "code",
   "execution_count": null,
   "metadata": {
    "collapsed": false
   },
   "outputs": [],
   "source": [
    "%whos"
   ]
  },
  {
   "cell_type": "code",
   "execution_count": null,
   "metadata": {
    "collapsed": false
   },
   "outputs": [],
   "source": [
    "data=numpy.loadtxt(fname='data/weather-01.csv',delimiter=',')"
   ]
  },
  {
   "cell_type": "code",
   "execution_count": null,
   "metadata": {
    "collapsed": false
   },
   "outputs": [],
   "source": [
    "%whos"
   ]
  },
  {
   "cell_type": "code",
   "execution_count": null,
   "metadata": {
    "collapsed": false
   },
   "outputs": [],
   "source": [
    "%whos"
   ]
  },
  {
   "cell_type": "code",
   "execution_count": null,
   "metadata": {
    "collapsed": false
   },
   "outputs": [],
   "source": [
    "print(data.dtype)"
   ]
  },
  {
   "cell_type": "code",
   "execution_count": null,
   "metadata": {
    "collapsed": false
   },
   "outputs": [],
   "source": [
    "print(data.shape)"
   ]
  },
  {
   "cell_type": "markdown",
   "metadata": {},
   "source": [
    "# this is 60 by 40\n"
   ]
  },
  {
   "cell_type": "code",
   "execution_count": null,
   "metadata": {
    "collapsed": false
   },
   "outputs": [],
   "source": [
    "print (\"first value in data:\",data [0,0])"
   ]
  },
  {
   "cell_type": "code",
   "execution_count": null,
   "metadata": {
    "collapsed": false
   },
   "outputs": [],
   "source": [
    "print ('A middle value:',data[30,20])"
   ]
  },
  {
   "cell_type": "markdown",
   "metadata": {},
   "source": [
    "# lets get the first 10 columns for the firsst 4 rows\n"
   ]
  },
  {
   "cell_type": "markdown",
   "metadata": {},
   "source": [
    "print(data[0:4, 0:10])\n",
    "# start at index 0 and go up to but not including index 4"
   ]
  },
  {
   "cell_type": "code",
   "execution_count": null,
   "metadata": {
    "collapsed": false
   },
   "outputs": [],
   "source": [
    "print (data[0:4, 0:10])"
   ]
  },
  {
   "cell_type": "markdown",
   "metadata": {},
   "source": [
    "#we dont need to start slicng at 0"
   ]
  },
  {
   "cell_type": "code",
   "execution_count": null,
   "metadata": {
    "collapsed": false
   },
   "outputs": [],
   "source": [
    "print (data[5:10,7:15])"
   ]
  },
  {
   "cell_type": "markdown",
   "metadata": {},
   "source": [
    "#we dont even need to inc upper and lower limits"
   ]
  },
  {
   "cell_type": "code",
   "execution_count": null,
   "metadata": {
    "collapsed": false
   },
   "outputs": [],
   "source": [
    "smallchunk=data[:3,36:]\n",
    "print(smallchunk)"
   ]
  },
  {
   "cell_type": "markdown",
   "metadata": {},
   "source": [
    "#arithmetic on arrays"
   ]
  },
  {
   "cell_type": "code",
   "execution_count": null,
   "metadata": {
    "collapsed": true
   },
   "outputs": [],
   "source": [
    "doublesmallchunk=smallchunk*2.0"
   ]
  },
  {
   "cell_type": "code",
   "execution_count": null,
   "metadata": {
    "collapsed": false
   },
   "outputs": [],
   "source": [
    "print(doublesmallchunk)"
   ]
  },
  {
   "cell_type": "code",
   "execution_count": null,
   "metadata": {
    "collapsed": true
   },
   "outputs": [],
   "source": [
    "triplesmallchunk=smallchunk+doublesmallchunk"
   ]
  },
  {
   "cell_type": "code",
   "execution_count": null,
   "metadata": {
    "collapsed": false
   },
   "outputs": [],
   "source": [
    "print(triplesmallchunk)"
   ]
  },
  {
   "cell_type": "code",
   "execution_count": null,
   "metadata": {
    "collapsed": false
   },
   "outputs": [],
   "source": [
    "print(numpy.mean(data))"
   ]
  },
  {
   "cell_type": "code",
   "execution_count": null,
   "metadata": {
    "collapsed": false
   },
   "outputs": [],
   "source": [
    "print (numpy.max(data))"
   ]
  },
  {
   "cell_type": "code",
   "execution_count": null,
   "metadata": {
    "collapsed": false
   },
   "outputs": [],
   "source": [
    "print (numpy.min(data))"
   ]
  },
  {
   "cell_type": "markdown",
   "metadata": {},
   "source": [
    "#get a set of data for the first station\n",
    "#this is shorthand for \"all the columns\""
   ]
  },
  {
   "cell_type": "code",
   "execution_count": null,
   "metadata": {
    "collapsed": true
   },
   "outputs": [],
   "source": [
    "station_0=data[0,:]"
   ]
  },
  {
   "cell_type": "code",
   "execution_count": null,
   "metadata": {
    "collapsed": false
   },
   "outputs": [],
   "source": [
    "print(numpy.max(station_0))"
   ]
  },
  {
   "cell_type": "markdown",
   "metadata": {},
   "source": [
    "#we dont need to create @temporary@ array slices\n",
    "#we can refer to what we call array axes"
   ]
  },
  {
   "cell_type": "code",
   "execution_count": null,
   "metadata": {
    "collapsed": false
   },
   "outputs": [],
   "source": [
    "print(numpy.mean(data, axis=0))"
   ]
  },
  {
   "cell_type": "code",
   "execution_count": null,
   "metadata": {
    "collapsed": false
   },
   "outputs": [],
   "source": [
    "print(numpy.mean(data, axis=1))"
   ]
  },
  {
   "cell_type": "markdown",
   "metadata": {},
   "source": [
    "#axis = 0 gets mean down eaach column\n",
    "#axis=1 gets the mean across each row so the mean temp\n",
    "#for each station for all periods\n",
    "#see above"
   ]
  },
  {
   "cell_type": "markdown",
   "metadata": {},
   "source": [
    "#do some simple vissualisations"
   ]
  },
  {
   "cell_type": "code",
   "execution_count": null,
   "metadata": {
    "collapsed": true
   },
   "outputs": [],
   "source": [
    "import matplotlib.pyplot"
   ]
  },
  {
   "cell_type": "code",
   "execution_count": null,
   "metadata": {
    "collapsed": true
   },
   "outputs": [],
   "source": [
    "%matplotlib inline"
   ]
  },
  {
   "cell_type": "code",
   "execution_count": null,
   "metadata": {
    "collapsed": false
   },
   "outputs": [],
   "source": [
    "image=matplotlib.pyplot.imshow(data)"
   ]
  },
  {
   "cell_type": "markdown",
   "metadata": {},
   "source": [
    "#lets look at the average tempp over time"
   ]
  },
  {
   "cell_type": "code",
   "execution_count": null,
   "metadata": {
    "collapsed": true
   },
   "outputs": [],
   "source": [
    "avg_temperature=numpy.mean(data,axis=0)"
   ]
  },
  {
   "cell_type": "code",
   "execution_count": null,
   "metadata": {
    "collapsed": false
   },
   "outputs": [],
   "source": [
    "avg_plot=matplotlib.pyplot.plot(avg_temperature)"
   ]
  },
  {
   "cell_type": "code",
   "execution_count": null,
   "metadata": {
    "collapsed": true
   },
   "outputs": [],
   "source": [
    "import numpy"
   ]
  },
  {
   "cell_type": "code",
   "execution_count": null,
   "metadata": {
    "collapsed": true
   },
   "outputs": [],
   "source": [
    "import matplotlib.pyplot"
   ]
  },
  {
   "cell_type": "code",
   "execution_count": null,
   "metadata": {
    "collapsed": true
   },
   "outputs": [],
   "source": [
    "%matplotlib inline"
   ]
  },
  {
   "cell_type": "code",
   "execution_count": null,
   "metadata": {
    "collapsed": true
   },
   "outputs": [],
   "source": [
    "data=numpy.loadtxt(fname='data/weather-01.csv',delimiter=',')"
   ]
  },
  {
   "cell_type": "markdown",
   "metadata": {},
   "source": [
    "#create a wide figure to hold sub plots"
   ]
  },
  {
   "cell_type": "code",
   "execution_count": null,
   "metadata": {
    "collapsed": false
   },
   "outputs": [],
   "source": [
    "fig=matplotlib.pyplot.figure (figsize=(10.0,3.0))"
   ]
  },
  {
   "cell_type": "markdown",
   "metadata": {},
   "source": [
    "#create placeholders for plots"
   ]
  },
  {
   "cell_type": "code",
   "execution_count": null,
   "metadata": {
    "collapsed": true
   },
   "outputs": [],
   "source": []
  },
  {
   "cell_type": "raw",
   "metadata": {},
   "source": []
  },
  {
   "cell_type": "code",
   "execution_count": null,
   "metadata": {
    "collapsed": false
   },
   "outputs": [],
   "source": [
    "fig=matplotlib.pyplot.figure (figsize=(10.0,3.0))\n",
    "subplot1=fig.add_subplot (1,3,1)\n",
    "subplot2=fig.add_subplot (1,3,2)\n",
    "subplot3=fig.add_subplot (1,3,3)\n",
    "\n",
    "subplot1.set_ylabel('average')\n",
    "subplot1.plot(numpy.mean(data, axis=0))\n",
    "\n",
    "subplot2.set_ylabel('minimum')\n",
    "subplot2.plot(numpy.min(data, axis=0))\n",
    "\n",
    "subplot3.set_ylabel('maximum')\n",
    "subplot3.plot(numpy.max(data, axis=0))"
   ]
  },
  {
   "cell_type": "markdown",
   "metadata": {},
   "source": [
    "# this is fine for small numbers of datasets, what if wwe have hundreds or thousands?  we need more automaation"
   ]
  },
  {
   "cell_type": "markdown",
   "metadata": {},
   "source": [
    "#loops"
   ]
  },
  {
   "cell_type": "code",
   "execution_count": null,
   "metadata": {
    "collapsed": false
   },
   "outputs": [],
   "source": [
    "word='notebook'\n",
    "print (word[4])"
   ]
  },
  {
   "cell_type": "markdown",
   "metadata": {},
   "source": [
    "#see aabove note diff between squaare and normaal brackets"
   ]
  },
  {
   "cell_type": "code",
   "execution_count": null,
   "metadata": {
    "collapsed": false
   },
   "outputs": [],
   "source": [
    "for char in word:\n",
    "    # colon before word or indentation v imporetaant\n",
    "    #indent is 4 spaces\n",
    "    "
   ]
  },
  {
   "cell_type": "code",
   "execution_count": null,
   "metadata": {
    "collapsed": false
   },
   "outputs": [],
   "source": [
    "for char in word:\n",
    "    print (char)"
   ]
  },
  {
   "cell_type": "markdown",
   "metadata": {},
   "source": [
    "#reading filenames\n",
    "# get a list of all the filenames from disk"
   ]
  },
  {
   "cell_type": "code",
   "execution_count": null,
   "metadata": {
    "collapsed": true
   },
   "outputs": [],
   "source": [
    "import glob"
   ]
  },
  {
   "cell_type": "markdown",
   "metadata": {},
   "source": [
    "#global..something~"
   ]
  },
  {
   "cell_type": "code",
   "execution_count": null,
   "metadata": {
    "collapsed": false
   },
   "outputs": [],
   "source": [
    "print(glob.glob('data/weather*.csv'))"
   ]
  },
  {
   "cell_type": "markdown",
   "metadata": {},
   "source": [
    "#putting it all together"
   ]
  },
  {
   "cell_type": "code",
   "execution_count": null,
   "metadata": {
    "collapsed": false
   },
   "outputs": [],
   "source": [
    "filenames=sorted(glob.glob('data/weather*.csv'))\n",
    "filenames=filenames[0:3]\n",
    "\n",
    "for f in filenames:\n",
    "    print (f)\n",
    "    data=numpy.loadtxt(fname=f, delimiter=',')\n",
    "    \n",
    "#next bits need indenting\n",
    "\n",
    "\n",
    "    fig=matplotlib.pyplot.figure (figsize=(10.0,3.0))\n",
    "    subplot1=fig.add_subplot (1,3,1)\n",
    "    subplot2=fig.add_subplot (1,3,2)\n",
    "    subplot3=fig.add_subplot (1,3,3)\n",
    "\n",
    "    subplot1.set_ylabel('average')\n",
    "    subplot1.plot(numpy.mean(data, axis=0))\n",
    "\n",
    "    subplot2.set_ylabel('minimum')\n",
    "    subplot2.plot(numpy.min(data, axis=0))\n",
    "\n",
    "    subplot3.set_ylabel('maximum')\n",
    "    subplot3.plot(numpy.max(data, axis=0))\n",
    "    \n",
    "    fig.tight_layout()\n",
    "    matplotlib.pyplot.show"
   ]
  },
  {
   "cell_type": "code",
   "execution_count": null,
   "metadata": {
    "collapsed": true
   },
   "outputs": [],
   "source": []
  },
  {
   "cell_type": "code",
   "execution_count": null,
   "metadata": {
    "collapsed": false
   },
   "outputs": [],
   "source": [
    "num=37\n",
    "if num>100:\n",
    "    print('greater')\n",
    "else:\n",
    "    print('not greater')\n",
    "    print ('done')"
   ]
  },
  {
   "cell_type": "code",
   "execution_count": null,
   "metadata": {
    "collapsed": false
   },
   "outputs": [],
   "source": [
    "num=107\n",
    "if num>100:\n",
    "    print('greater')\n",
    "else:\n",
    "    print('not greater')\n",
    "    print ('done')"
   ]
  },
  {
   "cell_type": "markdown",
   "metadata": {},
   "source": [
    "# didnt print \"done\" due to break in indentation sequence"
   ]
  },
  {
   "cell_type": "code",
   "execution_count": null,
   "metadata": {
    "collapsed": false
   },
   "outputs": [],
   "source": [
    "num=-3\n",
    "\n",
    "if num>0:\n",
    "    print (num, \"is positive\")\n",
    "elif num ==0:\n",
    "    print (num, \"is zero\")\n",
    "else:\n",
    "    print (num, \"is negative\")"
   ]
  },
  {
   "cell_type": "markdown",
   "metadata": {},
   "source": [
    "# elif eqauls else if, always good to finish a chain with an else"
   ]
  },
  {
   "cell_type": "code",
   "execution_count": null,
   "metadata": {
    "collapsed": true
   },
   "outputs": [],
   "source": [
    "filenames=sorted(glob.glob('data/weather*.csv'))\n"
   ]
  },
  {
   "cell_type": "code",
   "execution_count": null,
   "metadata": {
    "collapsed": false
   },
   "outputs": [],
   "source": [
    "filenames=sorted(glob.glob('data/weather*.csv'))\n",
    "filenames=filenames[0:3]\n",
    "\n",
    "for f in filenames:\n",
    "    print (f)\n",
    "    data=numpy.loadtxt(fname=f, delimiter=',') == 0 \n",
    "    if numpy.max (data, axis=0)[0] ==0 and numpy.max (data, axis=0)[20] ==20:\n",
    "        print ('suspicious looking maxima')\n",
    "    elif numpy.sum(numpy.min(data, axis=0)) ==0:\n",
    "        print ('minimum adds to zero')\n",
    "    else:\n",
    "        print ('data looks ok')\n",
    "    \n",
    "   \n",
    "    \n",
    "#next bits need indenting\n",
    "\n",
    "\n",
    "    fig=matplotlib.pyplot.figure (figsize=(10.0,3.0))\n",
    "    subplot1=fig.add_subplot (1,3,1)\n",
    "    subplot2=fig.add_subplot (1,3,2)\n",
    "    subplot3=fig.add_subplot (1,3,3)\n",
    "\n",
    "    subplot1.set_ylabel('average')\n",
    "    subplot1.plot(numpy.mean(data, axis=0))\n",
    "\n",
    "    subplot2.set_ylabel('minimum')\n",
    "    subplot2.plot(numpy.min(data, axis=0))\n",
    "\n",
    "    subplot3.set_ylabel('maximum')\n",
    "    subplot3.plot(numpy.max(data, axis=0))\n",
    "    \n",
    "    fig.tight_layout()\n",
    "    matplotlib.pyplot.show"
   ]
  },
  {
   "cell_type": "markdown",
   "metadata": {},
   "source": [
    "#something went wrong with the above"
   ]
  },
  {
   "cell_type": "code",
   "execution_count": null,
   "metadata": {
    "collapsed": true
   },
   "outputs": [],
   "source": [
    "def fahr_to_kelvin(temp):\n",
    "    return((temp-32)*(5/9)+ 273.15)"
   ]
  },
  {
   "cell_type": "code",
   "execution_count": null,
   "metadata": {
    "collapsed": false
   },
   "outputs": [],
   "source": [
    "print ('freezing point of water:', fahr_to_kelvin(32))"
   ]
  },
  {
   "cell_type": "code",
   "execution_count": null,
   "metadata": {
    "collapsed": false
   },
   "outputs": [],
   "source": [
    "print ('boiling point of water:', fahr_to_kelvin(212))"
   ]
  },
  {
   "cell_type": "markdown",
   "metadata": {},
   "source": [
    "#using functions"
   ]
  },
  {
   "cell_type": "code",
   "execution_count": null,
   "metadata": {
    "collapsed": false
   },
   "outputs": [],
   "source": [
    "def analyse (filename):\n",
    "    data=numpy.loadtxt(fname=filename,)......"
   ]
  },
  {
   "cell_type": "markdown",
   "metadata": {},
   "source": [
    "#unfinsinshed"
   ]
  },
  {
   "cell_type": "code",
   "execution_count": null,
   "metadata": {
    "collapsed": true
   },
   "outputs": [],
   "source": [
    "def detect_problems (filename):\n",
    "    data=numpy.loadtxt(fname=filename, delimiter=',')\n",
    "    \n",
    "    if numpy.max (data, axis=0)[0] ==0 and numpy.max (data, axis=0)[20] ==20:\n",
    "        print ('suspicious looking maxima')\n",
    "    elif numpy.sum(numpy.min(data, axis=0)) ==0:\n",
    "        print ('minimum adds to zero')\n",
    "    else:\n",
    "        print ('data looks ok')\n",
    "    \n",
    "    "
   ]
  },
  {
   "cell_type": "code",
   "execution_count": null,
   "metadata": {
    "collapsed": false
   },
   "outputs": [],
   "source": [
    "for f in filenames [0:5]:\n",
    "    print (f)\n",
    "    analyse (f)\n",
    "    detect_problems (f)\n",
    "    "
   ]
  },
  {
   "cell_type": "code",
   "execution_count": null,
   "metadata": {
    "collapsed": true
   },
   "outputs": [],
   "source": [
    "def analyse (filename):\n",
    "    data=numpy.loadtxt(fname=filename,delimiter=',')\n",
    "    \n",
    "    fig=matplotlib.pyplot.figure (figsize=(10.0,3.0))\n",
    "    subplot1=fig.add_subplot (1,3,1)\n",
    "    subplot2=fig.add_subplot (1,3,2)\n",
    "    subplot3=fig.add_subplot (1,3,3)\n",
    "\n",
    "    subplot1.set_ylabel('average')\n",
    "    subplot1.plot(numpy.mean(data, axis=0))\n",
    "\n",
    "    subplot2.set_ylabel('minimum')\n",
    "    subplot2.plot(numpy.min(data, axis=0))\n",
    "\n",
    "    subplot3.set_ylabel('maximum')\n",
    "    subplot3.plot(numpy.max(data, axis=0))\n",
    "    \n",
    "    fig.tight_layout()\n",
    "    matplotlib.pyplot.show\n",
    "    \n",
    "    "
   ]
  },
  {
   "cell_type": "code",
   "execution_count": null,
   "metadata": {
    "collapsed": false
   },
   "outputs": [],
   "source": [
    "for f in filenames [0:5]:\n",
    "    print (f)\n",
    "    analyse (f)\n",
    "    detect_problems (f)\n",
    "    "
   ]
  },
  {
   "cell_type": "code",
   "execution_count": null,
   "metadata": {
    "collapsed": true
   },
   "outputs": [],
   "source": []
  },
  {
   "cell_type": "code",
   "execution_count": null,
   "metadata": {
    "collapsed": true
   },
   "outputs": [],
   "source": []
  },
  {
   "cell_type": "code",
   "execution_count": null,
   "metadata": {
    "collapsed": true
   },
   "outputs": [],
   "source": []
  },
  {
   "cell_type": "code",
   "execution_count": null,
   "metadata": {
    "collapsed": false
   },
   "outputs": [],
   "source": [
    "help(numpy.loadtxt)"
   ]
  },
  {
   "cell_type": "code",
   "execution_count": null,
   "metadata": {
    "collapsed": false
   },
   "outputs": [],
   "source": [
    "help(detect_problems)"
   ]
  },
  {
   "cell_type": "code",
   "execution_count": null,
   "metadata": {
    "collapsed": false
   },
   "outputs": [],
   "source": [
    "\n",
    "\"\"\"some of our temperature files haave problems, check for these\n",
    "\n",
    "this function reads a file and reports on odd looking maxima and minimia that add to zero\n",
    "the function does not return any data\n",
    "\"\"\"\n",
    "\n",
    "def detect_problems (filename):\n",
    "    data=numpy.loadtxt(fname=filename, delimiter=',')\n",
    "    \n",
    "    if numpy.max (data, axis=0)[0] ==0 and numpy.max (data, axis=0)[20] ==20:\n",
    "        print ('suspicious looking maxima')\n",
    "    elif numpy.sum(numpy.min(data, axis=0)) ==0:\n",
    "        print ('minimum adds to zero')\n",
    "    else:\n",
    "        print ('data looks ok')\n",
    "    "
   ]
  },
  {
   "cell_type": "code",
   "execution_count": null,
   "metadata": {
    "collapsed": true
   },
   "outputs": [],
   "source": [
    "def analyse (filename):\n",
    "    data=numpy.loadtxt(fname=filename,delimiter=',')\n",
    "    \n",
    "    \"\"\" this function analyses a dataset and outputs plots for maax min and ave\n",
    "    \"\"\"\n",
    "    \n",
    "    fig=matplotlib.pyplot.figure (figsize=(10.0,3.0))\n",
    "    subplot1=fig.add_subplot (1,3,1)\n",
    "    subplot2=fig.add_subplot (1,3,2)\n",
    "    subplot3=fig.add_subplot (1,3,3)\n",
    "\n",
    "    subplot1.set_ylabel('average')\n",
    "    subplot1.plot(numpy.mean(data, axis=0))\n",
    "\n",
    "    subplot2.set_ylabel('minimum')\n",
    "    subplot2.plot(numpy.min(data, axis=0))\n",
    "\n",
    "    subplot3.set_ylabel('maximum')\n",
    "    subplot3.plot(numpy.max(data, axis=0))\n",
    "    \n",
    "    fig.tight_layout()\n",
    "    matplotlib.pyplot.show"
   ]
  },
  {
   "cell_type": "code",
   "execution_count": null,
   "metadata": {
    "collapsed": true
   },
   "outputs": [],
   "source": []
  }
 ],
 "metadata": {
  "anaconda-cloud": {},
  "kernelspec": {
   "display_name": "Python [default]",
   "language": "python",
   "name": "python3"
  },
  "language_info": {
   "codemirror_mode": {
    "name": "ipython",
    "version": 3
   },
   "file_extension": ".py",
   "mimetype": "text/x-python",
   "name": "python",
   "nbconvert_exporter": "python",
   "pygments_lexer": "ipython3",
   "version": "3.5.2"
  }
 },
 "nbformat": 4,
 "nbformat_minor": 1
}
