{
 "cells": [
  {
   "cell_type": "markdown",
   "metadata": {
    "slideshow": {
     "slide_type": "slide"
    }
   },
   "source": [
    "# Data Science in Finance"
   ]
  },
  {
   "cell_type": "markdown",
   "metadata": {
    "slideshow": {
     "slide_type": "fragment"
    }
   },
   "source": [
    "## Lousy models are great!"
   ]
  },
  {
   "cell_type": "markdown",
   "metadata": {
    "slideshow": {
     "slide_type": "skip"
    }
   },
   "source": [
    "We often hear that in the world of hedge funds and seeking alpha (a term we'll go over in a bit), extremely poor models are used and hailed as great achievements. A model with an $R^2$ of 0.1 is great! A model with an $R^2$ of 0.3 is unheard of.\n",
    "\n",
    "Is it because the data scientists working in the field are not as good as the Physicists working at the LHC, or the engineers working on Google's search prediction algorithms?"
   ]
  },
  {
   "cell_type": "markdown",
   "metadata": {
    "slideshow": {
     "slide_type": "fragment"
    }
   },
   "source": [
    "#### The answer might surprise you!"
   ]
  },
  {
   "cell_type": "markdown",
   "metadata": {
    "slideshow": {
     "slide_type": "slide"
    }
   },
   "source": [
    "# Hungry for coin flips?"
   ]
  },
  {
   "cell_type": "markdown",
   "metadata": {
    "slideshow": {
     "slide_type": "skip"
    }
   },
   "source": [
    "Let's imagine that you happen to have some inside source at the mint who told you that a common quarter is actually not a fair coin. This information is only known to you and your friend. Let's pretend like the probability of getting \"heads\" is actually 0.55. So not anything you'd expect to notice on a short scale, but enough to where if you bet on coin flips enough, you might actually be able to make lots of money.\n",
    "\n",
    "Would you bet on those coin flips? Would you consider yourself very lucky for having such privileged information?"
   ]
  },
  {
   "cell_type": "markdown",
   "metadata": {
    "slideshow": {
     "slide_type": "fragment"
    }
   },
   "source": [
    "### What's your $R^2$?"
   ]
  },
  {
   "cell_type": "markdown",
   "metadata": {
    "slideshow": {
     "slide_type": "fragment"
    }
   },
   "source": [
    "### Our model:\n",
    "\n",
    "$$\n",
    "\\begin{align*}\n",
    "Y =& \\begin{cases}\n",
    "1 & \\text{ if \"heads\"} \\\\\n",
    "0 & \\text{ if \"tails\"}\n",
    "\\end{cases} \\\\\n",
    "P(Y=1) =& w \\\\\n",
    "\\hat Y \\equiv& 1\n",
    "\\end{align*}\n",
    "$$"
   ]
  },
  {
   "cell_type": "markdown",
   "metadata": {
    "slideshow": {
     "slide_type": "skip"
    }
   },
   "source": [
    "First we need to figure out what our model is! It's not entirely clear that we're using a predictive model, but we are. Our model happens to be very simple: always pick \"heads\".\n",
    "\n",
    "Formally, we define a random variable $Y$ such that $Y=0$ if the coin flip results in \"tails\" and $Y=1$ if the coin flip results in \"heads\". Our model is very simple: it takes no input data (so no features), and always returns 1.\n",
    "\n",
    "So let's calculate our $R^2$ value. To do this, we should first calculate SSE and SST. Let $w$ be the probability of getting \"heads\" (just for generality). In our particular case, $w=0.55$.\n",
    "\n",
    "Note that the mean we use for this the commonly excepted mean (not the mean your model predicts)!"
   ]
  },
  {
   "cell_type": "markdown",
   "metadata": {
    "slideshow": {
     "slide_type": "subslide"
    }
   },
   "source": [
    "$$\n",
    "\\begin{align*}\n",
    "\\text{SSE} =& \\sum\\limits_{i=0}^{n-1}\\left(y_i - \\hat y_i\\right)^2 & \\text{SST} =& \\sum\\limits_{i=0}^{n-1}\\left(y_i - \\bar y\\right)^2 \\\\\n",
    "=& \\sum\\limits_{i=0}^{n-1}\\left(y_i - 1\\right)^2 & =& \\sum\\limits_{i=0}^{n-1}\\left(y_i - 0.5\\right)^2 \\\\\n",
    "=& \\sum\\limits_{i=0}^{n-1}\\left(y_i^2 -2y_i + 1^2\\right) & =& \\sum\\limits_{i=0}^{n-1}\\left(y_i^2 - 2(0.5)y_i + 0.5^2\\right) \\\\\n",
    "=& \\sum\\limits_{i=0}^{n-1}\\left(-y_i + 1\\right) & =& \\sum\\limits_{i=0}^{n-1}\\left(0.25\\right) \\\\\n",
    "=& -nw + n & =& 0.5n \\\\\n",
    "=& n(1-w) & =& 0.5n \\\\\n",
    "\\end{align*}\n",
    "$$"
   ]
  },
  {
   "cell_type": "markdown",
   "metadata": {
    "slideshow": {
     "slide_type": "subslide"
    }
   },
   "source": [
    "So, our $R^2$ is:\n",
    "\n",
    "$$\n",
    "\\begin{align*}\n",
    "R^2 =& 1 - \\frac{\\text{SSE}}{\\text{SST}} \\\\\n",
    "=& 1 - \\frac{n(1-w)}{0.5n} \\\\\n",
    "=& 2w - 1 = 1.1 - 1 = 0.1\n",
    "\\end{align*}\n",
    "$$"
   ]
  },
  {
   "cell_type": "markdown",
   "metadata": {
    "slideshow": {
     "slide_type": "skip"
    }
   },
   "source": [
    "So we can see that one reason models with such low predictive power succeed so well in finance: it's trade-off between quality and quantity. It's also true that financial data is extremely noisy and there is very little stationarity due to an ever changing landscape of laws and company leaderships, etc."
   ]
  },
  {
   "cell_type": "markdown",
   "metadata": {
    "slideshow": {
     "slide_type": "fragment"
    }
   },
   "source": [
    "### Not necessarily bad Data Scientists"
   ]
  },
  {
   "cell_type": "markdown",
   "metadata": {
    "slideshow": {
     "slide_type": "fragment"
    }
   },
   "source": [
    "### So what are the bets we're making?"
   ]
  },
  {
   "cell_type": "markdown",
   "metadata": {
    "slideshow": {
     "slide_type": "slide"
    }
   },
   "source": [
    "# Not just making money"
   ]
  },
  {
   "cell_type": "markdown",
   "metadata": {
    "slideshow": {
     "slide_type": "notes"
    }
   },
   "source": [
    "Finding which stocks will go up is pretty much a solved problem. Most \"secure\" stocks will rise in price on a long enough time-line. But just because the total price of stocks in your account has risen doesn't mean the value has risen. You have to account for the value of money (which is constantly dropping -- inflation).\n",
    "\n",
    "To illustrate this: we could make money by investing in General Electric in 2010 and holding our stock."
   ]
  },
  {
   "cell_type": "code",
   "execution_count": 1,
   "metadata": {
    "ExecuteTime": {
     "end_time": "2017-10-08T15:44:52.620831Z",
     "start_time": "2017-10-08T15:44:48.298788Z"
    },
    "slideshow": {
     "slide_type": "skip"
    }
   },
   "outputs": [],
   "source": [
    "import numpy as np\n",
    "import pandas as pd\n",
    "import matplotlib.pyplot as plt\n",
    "%matplotlib inline\n",
    "\n",
    "from pandas_datareader import DataReader\n",
    "\n",
    "reader = DataReader([\"AAPL\", \"SPY\", \"GOOG\", \"GE\"], data_source=\"yahoo\")"
   ]
  },
  {
   "cell_type": "code",
   "execution_count": 4,
   "metadata": {
    "ExecuteTime": {
     "end_time": "2017-10-08T15:50:34.702550Z",
     "start_time": "2017-10-08T15:50:34.436856Z"
    },
    "slideshow": {
     "slide_type": "skip"
    }
   },
   "outputs": [
    {
     "data": {
      "image/png": "[encoded data removed]",
      "text/plain": [
       "<matplotlib.figure.Figure at 0x7f38b59d66d8>"
      ]
     },
     "metadata": {},
     "output_type": "display_data"
    }
   ],
   "source": [
    "fig = plt.figure()\n",
    "ax = reader[\"Adj Close\", :, \"GE\"].plot(label=\"GE\")\n",
    "ax.legend()\n",
    "ax.set_title(\"Stock Adjusted Closing Price\")\n",
    "plt.savefig(\"img/close_price_GE.png\")"
   ]
  },
  {
   "cell_type": "code",
   "execution_count": 28,
   "metadata": {
    "ExecuteTime": {
     "end_time": "2017-10-08T16:00:24.218312Z",
     "start_time": "2017-10-08T16:00:24.211696Z"
    },
    "slideshow": {
     "slide_type": "skip"
    }
   },
   "outputs": [
    {
     "name": "stdout",
     "output_type": "stream",
     "text": [
      "24.389999 11.955239\n",
      "1.04010969584\n",
      "0.0669653602488\n"
     ]
    }
   ],
   "source": [
    "tmp = reader[\"Adj Close\", :, \"GE\"]\n",
    "a,b = tmp.iloc[0], tmp.iloc[-1]\n",
    "print(a,b)\n",
    "\n",
    "c = (a - b) / b\n",
    "print(c)\n",
    "\n",
    "print((1+c)**(1.0/11) - 1)"
   ]
  },
  {
   "cell_type": "markdown",
   "metadata": {
    "slideshow": {
     "slide_type": "fragment"
    }
   },
   "source": [
    "![](img/close_price_GE.png)"
   ]
  },
  {
   "cell_type": "markdown",
   "metadata": {
    "slideshow": {
     "slide_type": "notes"
    }
   },
   "source": [
    "If we'd done that, we would have seen on average about 6% return per year! That's over the average inflation of somewhere between 3-5 percent, so we're looking pretty good, right?"
   ]
  },
  {
   "cell_type": "markdown",
   "metadata": {
    "slideshow": {
     "slide_type": "subslide"
    }
   },
   "source": [
    "# Looking good?"
   ]
  },
  {
   "cell_type": "markdown",
   "metadata": {
    "slideshow": {
     "slide_type": "notes"
    }
   },
   "source": [
    "Well, yes and no. On the one hand, we did make money (at the expense of some risk, of course). But what if we'd chosen a better company to invest in like Apple? Or what if we'd invested instead in an index fund like Spyder?"
   ]
  },
  {
   "cell_type": "code",
   "execution_count": 3,
   "metadata": {
    "ExecuteTime": {
     "end_time": "2017-10-08T15:44:55.081553Z",
     "start_time": "2017-10-08T15:44:54.712109Z"
    },
    "slideshow": {
     "slide_type": "skip"
    }
   },
   "outputs": [
    {
     "data": {
      "image/png": "[encoded data removed]",
      "text/plain": [
       "<matplotlib.figure.Figure at 0x7f38b59d6828>"
      ]
     },
     "metadata": {},
     "output_type": "display_data"
    }
   ],
   "source": [
    "fig = plt.figure()\n",
    "ax = reader[\"Adj Close\", :, \"SPY\"].plot(label=\"SPY\")\n",
    "ax = reader[\"Adj Close\", :, \"AAPL\"].plot(label=\"AAPL\", ax=ax)\n",
    "ax = reader[\"Adj Close\", :, \"GE\"].plot(label=\"GE\", ax=ax)\n",
    "ax.legend()\n",
    "ax.set_title(\"Stock Adjusted Closing Price\")\n",
    "plt.savefig(\"img/close_price_3.png\")"
   ]
  },
  {
   "cell_type": "markdown",
   "metadata": {
    "slideshow": {
     "slide_type": "fragment"
    }
   },
   "source": [
    "![](img/close_price_3.png)"
   ]
  },
  {
   "cell_type": "markdown",
   "metadata": {
    "slideshow": {
     "slide_type": "subslide"
    }
   },
   "source": [
    "# Better yet!"
   ]
  },
  {
   "cell_type": "markdown",
   "metadata": {
    "slideshow": {
     "slide_type": "notes"
    }
   },
   "source": [
    "We can continue this thought process ad infinitum. For instance, we could've invested in Google. Or done something even crazier (a plot I won't show for simplicity reasons) -- volatility trading."
   ]
  },
  {
   "cell_type": "code",
   "execution_count": 2,
   "metadata": {
    "ExecuteTime": {
     "end_time": "2017-10-08T15:44:53.666390Z",
     "start_time": "2017-10-08T15:44:53.273529Z"
    },
    "slideshow": {
     "slide_type": "skip"
    }
   },
   "outputs": [
    {
     "data": {
      "image/png": "[encoded data removed]",
      "text/plain": [
       "<matplotlib.figure.Figure at 0x7f38b5a3d160>"
      ]
     },
     "metadata": {},
     "output_type": "display_data"
    }
   ],
   "source": [
    "fig = plt.figure()\n",
    "ax = reader[\"Adj Close\", :, \"SPY\"].plot(label=\"SPY\")\n",
    "ax = reader[\"Adj Close\", :, \"AAPL\"].plot(label=\"AAPL\", ax=ax)\n",
    "ax = reader[\"Adj Close\", :, \"GOOG\"].plot(label=\"GOOG\", ax=ax)\n",
    "ax = reader[\"Adj Close\", :, \"GE\"].plot(label=\"GE\", ax=ax)\n",
    "ax.legend()\n",
    "ax.set_title(\"Stock Adjusted Closing Price\")\n",
    "plt.savefig(\"img/close_price_all_4.png\")"
   ]
  },
  {
   "cell_type": "markdown",
   "metadata": {
    "slideshow": {
     "slide_type": "fragment"
    }
   },
   "source": [
    "![](img/close_price_all_4.png)"
   ]
  },
  {
   "cell_type": "markdown",
   "metadata": {
    "slideshow": {
     "slide_type": "slide"
    }
   },
   "source": [
    "# So what's the game?"
   ]
  },
  {
   "cell_type": "markdown",
   "metadata": {
    "slideshow": {
     "slide_type": "slide"
    }
   },
   "source": [
    "# Active Portfolio Management\n",
    "Richard C. Grinold, Ronald N. Kahn"
   ]
  },
  {
   "cell_type": "markdown",
   "metadata": {
    "slideshow": {
     "slide_type": "slide"
    }
   },
   "source": [
    "# The CAPM"
   ]
  },
  {
   "cell_type": "markdown",
   "metadata": {
    "slideshow": {
     "slide_type": "fragment"
    }
   },
   "source": [
    "## The Capital Asset Pricing Model"
   ]
  },
  {
   "cell_type": "markdown",
   "metadata": {
    "slideshow": {
     "slide_type": "fragment"
    }
   },
   "source": [
    "$$ r_i = \\alpha_i + \\beta_i r_m $$\n",
    "\n",
    "$$ E[\\alpha_i] = 0 $$"
   ]
  },
  {
   "cell_type": "markdown",
   "metadata": {
    "slideshow": {
     "slide_type": "fragment"
    }
   },
   "source": [
    "$$ r_p = \\alpha_p + \\beta_p r_m $$"
   ]
  },
  {
   "cell_type": "markdown",
   "metadata": {
    "slideshow": {
     "slide_type": "notes"
    }
   },
   "source": [
    "Roughly speaking, this is the $\\alpha$ we've all heard so much about. One problem is that a linear model is not the best model for predicting stock returns."
   ]
  },
  {
   "cell_type": "markdown",
   "metadata": {
    "slideshow": {
     "slide_type": "slide"
    }
   },
   "source": [
    "# The Hedge Fund Mission"
   ]
  },
  {
   "cell_type": "markdown",
   "metadata": {
    "slideshow": {
     "slide_type": "fragment"
    }
   },
   "source": [
    "## Make money"
   ]
  },
  {
   "cell_type": "markdown",
   "metadata": {
    "slideshow": {
     "slide_type": "fragment"
    }
   },
   "source": [
    "### Like Roulette"
   ]
  },
  {
   "cell_type": "markdown",
   "metadata": {
    "ExecuteTime": {
     "end_time": "2017-10-08T14:00:35.454639Z",
     "start_time": "2017-10-08T14:00:35.341988Z"
    },
    "slideshow": {
     "slide_type": "fragment"
    }
   },
   "source": [
    "![](img/americanroulette.png \"hey\")"
   ]
  },
  {
   "cell_type": "markdown",
   "metadata": {
    "slideshow": {
     "slide_type": "fragment"
    }
   },
   "source": [
    "## A paraphrasing"
   ]
  },
  {
   "cell_type": "markdown",
   "metadata": {
    "slideshow": {
     "slide_type": "slide"
    }
   },
   "source": [
    "# Risk"
   ]
  },
  {
   "cell_type": "markdown",
   "metadata": {
    "slideshow": {
     "slide_type": "fragment"
    }
   },
   "source": [
    "## What is it?"
   ]
  },
  {
   "cell_type": "markdown",
   "metadata": {
    "slideshow": {
     "slide_type": "fragment"
    }
   },
   "source": [
    "### Variance?"
   ]
  },
  {
   "cell_type": "markdown",
   "metadata": {
    "slideshow": {
     "slide_type": "slide"
    }
   },
   "source": [
    "# Exceptional Returns"
   ]
  }
 ],
 "metadata": {
  "celltoolbar": "Slideshow",
  "kernelspec": {
   "display_name": "Python 3",
   "language": "python",
   "name": "python3"
  },
  "language_info": {
   "codemirror_mode": {
    "name": "ipython",
    "version": 3
   },
   "file_extension": ".py",
   "mimetype": "text/x-python",
   "name": "python",
   "nbconvert_exporter": "python",
   "pygments_lexer": "ipython3",
   "version": "3.6.2"
  },
  "toc": {
   "nav_menu": {},
   "number_sections": false,
   "sideBar": true,
   "skip_h1_title": false,
   "toc_cell": false,
   "toc_position": {
    "height": "797px",
    "left": "0px",
    "right": "747px",
    "top": "134px",
    "width": "212px"
   },
   "toc_section_display": "block",
   "toc_window_display": true
  }
 },
 "nbformat": 4,
 "nbformat_minor": 2
}
