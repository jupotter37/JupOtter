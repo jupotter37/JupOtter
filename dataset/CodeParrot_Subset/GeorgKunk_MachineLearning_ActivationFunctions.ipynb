{
 "cells": [
  {
   "cell_type": "code",
   "execution_count": 2,
   "metadata": {},
   "outputs": [
    {
     "name": "stdout",
     "output_type": "stream",
     "text": [
      "Populating the interactive namespace from numpy and matplotlib\n"
     ]
    },
    {
     "data": {
      "text/plain": [
       "<matplotlib.lines.Line2D at 0x7f4d15b444e0>"
      ]
     },
     "execution_count": 2,
     "metadata": {},
     "output_type": "execute_result"
    },
    {
     "data": {
      "image/png": "[encoded data removed]",
      "text/plain": [
       "<matplotlib.figure.Figure at 0x7f4d193a3be0>"
      ]
     },
     "metadata": {},
     "output_type": "display_data"
    },
    {
     "data": {
      "image/png": "[encoded data removed]",
      "text/plain": [
       "<matplotlib.figure.Figure at 0x7f4d15d4e208>"
      ]
     },
     "metadata": {},
     "output_type": "display_data"
    }
   ],
   "source": [
    "%pylab inline\n",
    "pylab.rcParams['figure.figsize'] = (3, 2)\n",
    "\n",
    "import math\n",
    "import matplotlib.pyplot as plt\n",
    "import numpy as np\n",
    "\n",
    "X=[i/10 for i in range(-100,101)]\n",
    "Y=[1/(1+math.exp(-x)) for x in X]\n",
    "\n",
    "fig, ax = plt.subplots()\n",
    "ax.plot(X,Y)\n",
    "ax.axhline(y=0.5, ls='dotted', color='k')\n",
    "ax.axhline(y=0.0, ls='dotted', color='k')\n",
    "ax.axhline(y=1.0, ls='dotted', color='k')\n",
    "ax.axvline(0.0, color='k')\n",
    "\n",
    "\n",
    "def heaviside(x):\n",
    "    return 0.5*(np.sign(x) + 1)\n",
    "\n",
    "Y_step=[heaviside(x) for x in X]\n",
    "fig, ax = plt.subplots()\n",
    "ax.plot(X,Y_step)\n",
    "ax.axhline(y=0.5, ls='dotted', color='k')\n",
    "ax.axhline(y=0.0, ls='dotted', color='k')\n",
    "ax.axhline(y=1.0, ls='dotted', color='k')\n"
   ]
  }
 ],
 "metadata": {
  "kernelspec": {
   "display_name": "Python 3",
   "language": "python",
   "name": "python3"
  },
  "language_info": {
   "codemirror_mode": {
    "name": "ipython",
    "version": 3
   },
   "file_extension": ".py",
   "mimetype": "text/x-python",
   "name": "python",
   "nbconvert_exporter": "python",
   "pygments_lexer": "ipython3",
   "version": "3.6.1"
  }
 },
 "nbformat": 4,
 "nbformat_minor": 2
}
