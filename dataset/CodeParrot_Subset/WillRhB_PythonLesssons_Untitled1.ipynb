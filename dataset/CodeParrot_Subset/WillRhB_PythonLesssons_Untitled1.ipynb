{
 "cells": [
  {
   "cell_type": "markdown",
   "metadata": {},
   "source": [
    "### Getting Data from the Web"
   ]
  },
  {
   "cell_type": "markdown",
   "metadata": {},
   "source": [
    "http://climatedataapi.worldbank.org/climateweb/rest/v1/country/cru/var/year/iso3.ext"
   ]
  },
  {
   "cell_type": "markdown",
   "metadata": {},
   "source": [
    "var is either tas or pr ext is usually CSV iso3 is the ISO standard 3 letter code for the country of interest (capitals) \n",
    "look up country codes online "
   ]
  },
  {
   "cell_type": "markdown",
   "metadata": {},
   "source": [
    "e.g. http://climatedataapi.worldbank.org/climateweb/rest/v1/country/cru/tas/year/GBR.csv\n",
    "Use (https://datahelpdesk.worldbank.org/knowledgebase/articles/902061-climate-data-api and http://www.nationsonline.org/oneworld/country_code_list.htm)"
   ]
  },
  {
   "cell_type": "code",
   "execution_count": 2,
   "metadata": {
    "collapsed": true
   },
   "outputs": [],
   "source": [
    "# Python request library lets us get data straight from a URL \n",
    "import requests "
   ]
  },
  {
   "cell_type": "code",
   "execution_count": 9,
   "metadata": {
    "collapsed": false
   },
   "outputs": [
    {
     "name": "stdout",
     "output_type": "stream",
     "text": [
      "First 100 charecters of data are: \n",
      "year,data\n",
      "1901,8.16360092163086\n",
      "1902,7.798388481140137\n",
      "1903,8.02857780456543\n",
      "1904,8.073899269104004\n",
      "\n"
     ]
    }
   ],
   "source": [
    "url = \"http://climatedataapi.worldbank.org/climateweb/rest/v1/country/cru/tas/year/GBR.csv\"\n",
    "response = requests.get(url ) # gets the get function from the request library to find the url and put it in a loop etc \n",
    "\n",
    "if response.status_code != 200:\n",
    "    print ('Failed to get data: ', response.status_code)\n",
    "else: \n",
    "    print ('First 100 charecters of data are: ')\n",
    "    print (response.text[:100])"
   ]
  },
  {
   "cell_type": "markdown",
   "metadata": {},
   "source": [
    "### To do: \n",
    "### Get temperature for Guatemala \n",
    "#### Fetch rainfall for Afghanistan between 1980 and 1999 "
   ]
  },
  {
   "cell_type": "code",
   "execution_count": 8,
   "metadata": {
    "collapsed": false
   },
   "outputs": [
    {
     "name": "stdout",
     "output_type": "stream",
     "text": [
      "First 100 charecters of data are: \n",
      "year,data\n",
      "1901,23.428869247436523\n",
      "1902,23.555654525756836\n",
      "1903,23.56220245361328\n",
      "1904,23.44627952575\n"
     ]
    }
   ],
   "source": [
    "url = 'http://climatedataapi.worldbank.org/climateweb/rest/v1/country/cru/tas/GTM.csv'\n",
    "response = requests.get(url ) # gets the get function from the request library to find the url and put it in a loop etc \n",
    "\n",
    "if response.status_code != 200:\n",
    "    print ('Failed to get data: ', response.status_code)\n",
    "else: \n",
    "    print ('First 100 charecters of data are: ')\n",
    "    print (response.text[:100])"
   ]
  },
  {
   "cell_type": "code",
   "execution_count": 13,
   "metadata": {
    "collapsed": false
   },
   "outputs": [
    {
     "name": "stdout",
     "output_type": "stream",
     "text": [
      "First 100 charecters of data are: \n",
      "GCM,var,from_year,to_year,annual\n",
      "bccr_bcm2_0,pr,1980,1999,429.92613067639326\n",
      "cccma_cgcm3_1,pr,1980,1\n"
     ]
    }
   ],
   "source": [
    "url = 'http://climatedataapi.worldbank.org/climateweb/rest/v1/country/annualavg/pr/1980/1999/AFG.csv'\n",
    "response = requests.get(url ) # gets the get function from the request library to find the url and put it in a loop etc \n",
    "\n",
    "if response.status_code != 200:\n",
    "    print ('Failed to get data: ', response.status_code)\n",
    "else: \n",
    "    print ('First 100 charecters of data are: ')\n",
    "    print (response.text[:100])"
   ]
  },
  {
   "cell_type": "code",
   "execution_count": 14,
   "metadata": {
    "collapsed": true
   },
   "outputs": [],
   "source": [
    "# Create a csv file: test01.csv\n",
    "\n",
    "1901, 12.3\n",
    "1902, 45.6\n",
    "1903, 78.9"
   ]
  },
  {
   "cell_type": "code",
   "execution_count": 15,
   "metadata": {
    "collapsed": false
   },
   "outputs": [
    {
     "name": "stdout",
     "output_type": "stream",
     "text": [
      "11\n",
      "11\n",
      "10\n"
     ]
    }
   ],
   "source": [
    "with open('test01.csv', 'r') as reader: \n",
    "    for line in reader: \n",
    "        print (len(line))"
   ]
  },
  {
   "cell_type": "code",
   "execution_count": 17,
   "metadata": {
    "collapsed": false
   },
   "outputs": [
    {
     "name": "stdout",
     "output_type": "stream",
     "text": [
      "['1901', ' 12.3\\n']\n",
      "['1902', ' 45.6\\n']\n",
      "['1903', ' 78.9']\n"
     ]
    }
   ],
   "source": [
    "with open ('test01.csv', 'r') as reader: \n",
    "    for line in reader: \n",
    "        fields = line.split (',')\n",
    "        print (fields)"
   ]
  },
  {
   "cell_type": "code",
   "execution_count": 18,
   "metadata": {
    "collapsed": false
   },
   "outputs": [
    {
     "name": "stdout",
     "output_type": "stream",
     "text": [
      "['1901', ' 12.3']\n",
      "['1902', ' 45.6']\n",
      "['1903', ' 78.9']\n"
     ]
    }
   ],
   "source": [
    "# We need to get rid of the hidden newline \\n\n",
    "with open ('test01.csv', 'r') as reader: \n",
    "    for line in reader: \n",
    "        fields = line.strip().split (',')\n",
    "        print (fields)"
   ]
  },
  {
   "cell_type": "markdown",
   "metadata": {},
   "source": [
    "## Using the csv library instead "
   ]
  },
  {
   "cell_type": "code",
   "execution_count": 19,
   "metadata": {
    "collapsed": true
   },
   "outputs": [],
   "source": [
    "import csv"
   ]
  },
  {
   "cell_type": "code",
   "execution_count": 23,
   "metadata": {
    "collapsed": false,
    "scrolled": true
   },
   "outputs": [
    {
     "name": "stdout",
     "output_type": "stream",
     "text": [
      "['1901', ' 12.3']\n",
      "['1902', ' 45.6']\n",
      "['1903', ' 78.9']\n"
     ]
    }
   ],
   "source": [
    "with open ('test01.csv', 'r') as rawdata: \n",
    "    csvdata = csv.reader(rawdata)\n",
    "    for record in csvdata: \n",
    "            print (record)"
   ]
  },
  {
   "cell_type": "code",
   "execution_count": 31,
   "metadata": {
    "collapsed": false
   },
   "outputs": [
    {
     "name": "stdout",
     "output_type": "stream",
     "text": [
      "1901 23.428869247436523\n",
      "1902 23.555654525756836\n",
      "1903 23.56220245361328\n",
      "1904 23.446279525756836\n",
      "1905 23.513988494873047\n",
      "1906 23.24672508239746\n",
      "1907 23.337797164916992\n",
      "1908 23.33348274230957\n",
      "1909 23.466964721679688\n",
      "1910 22.739879608154297\n",
      "1911 23.36443519592285\n",
      "1912 23.389881134033203\n",
      "1913 23.087499618530273\n",
      "1914 23.094493865966797\n",
      "1915 23.254465103149414\n",
      "1916 23.149404525756836\n",
      "1917 23.135862350463867\n",
      "1918 23.501785278320312\n",
      "1919 23.32782745361328\n",
      "1920 23.355655670166016\n",
      "1921 23.19746971130371\n",
      "1922 23.65372085571289\n",
      "1923 23.454910278320312\n",
      "1924 23.340625762939453\n",
      "1925 23.29895782470703\n",
      "1926 23.459524154663086\n",
      "1927 23.64389991760254\n",
      "1928 23.569196701049805\n",
      "1929 23.687053680419922\n",
      "1930 23.259374618530273\n",
      "1931 23.489582061767578\n",
      "1932 23.52336311340332\n",
      "1933 23.42202377319336\n",
      "1934 23.356548309326172\n",
      "1935 23.28928565979004\n",
      "1936 23.855953216552734\n",
      "1937 23.561161041259766\n",
      "1938 22.84910774230957\n",
      "1939 23.209224700927734\n",
      "1940 23.152530670166016\n",
      "1941 23.23169708251953\n",
      "1942 23.082887649536133\n",
      "1943 22.462053298950195\n",
      "1944 22.91979217529297\n",
      "1945 23.282737731933594\n",
      "1946 23.284822463989258\n",
      "1947 23.362350463867188\n",
      "1948 23.163244247436523\n",
      "1949 22.975446701049805\n",
      "1950 22.568599700927734\n",
      "1951 23.19851303100586\n",
      "1952 23.199405670166016\n",
      "1953 23.68764877319336\n",
      "1954 22.980060577392578\n",
      "1955 23.047321319580078\n",
      "1956 22.873214721679688\n",
      "1957 23.506250381469727\n",
      "1958 23.937053680419922\n",
      "1959 23.73675537109375\n",
      "1960 23.483482360839844\n",
      "1961 23.428274154663086\n",
      "1962 23.12172508239746\n",
      "1963 23.147768020629883\n",
      "1964 23.33839225769043\n",
      "1965 23.23675537109375\n",
      "1966 23.100297927856445\n",
      "1967 23.074108123779297\n",
      "1968 22.9449405670166\n",
      "1969 23.83616065979004\n",
      "1970 23.637052536010742\n",
      "1971 23.55253028869629\n",
      "1972 23.98705291748047\n",
      "1973 23.762798309326172\n",
      "1974 23.228572845458984\n",
      "1975 23.59702491760254\n",
      "1976 23.209524154663086\n",
      "1977 23.620237350463867\n",
      "1978 23.48660659790039\n",
      "1979 23.438392639160156\n",
      "1980 23.73110008239746\n",
      "1981 23.444643020629883\n",
      "1982 23.705059051513672\n",
      "1983 23.909076690673828\n",
      "1984 23.17693519592285\n",
      "1985 23.457590103149414\n",
      "1986 23.511159896850586\n",
      "1987 23.860267639160156\n",
      "1988 23.779762268066406\n",
      "1989 23.601041793823242\n",
      "1990 23.645387649536133\n",
      "1991 23.99776840209961\n",
      "1992 23.934673309326172\n",
      "1993 23.94240951538086\n",
      "1994 24.121578216552734\n",
      "1995 23.937053680419922\n",
      "1996 23.544940948486328\n",
      "1997 24.376041412353516\n",
      "1998 24.522619247436523\n",
      "1999 23.534822463989258\n",
      "2000 23.979167938232422\n",
      "2001 24.295833587646484\n",
      "2002 24.442262649536133\n",
      "2003 24.412202835083008\n",
      "2004 24.534671783447266\n",
      "2005 24.540922164916992\n",
      "2006 24.38273811340332\n",
      "2007 24.204612731933594\n",
      "2008 24.20639991760254\n",
      "2009 24.54940414428711\n",
      "2010 24.18541717529297\n",
      "2011 24.21080780029297\n",
      "2012 24.315753936767578\n"
     ]
    }
   ],
   "source": [
    "url = 'http://climatedataapi.worldbank.org/climateweb/rest/v1/country/cru/tas/year/GTM.csv'\n",
    "response = requests.get(url ) # gets the get function from the request library to find the url and put it in a loop etc \n",
    "\n",
    "if response.status_code != 200:\n",
    "    print ('Failed to get data: ', response.status_code)\n",
    "else: \n",
    "    wrapper = csv.reader(response.text.strip().split('\\n'))\n",
    "    for record in wrapper: \n",
    "        if record[0] != 'year' : \n",
    "            year = int(record[0])\n",
    "            value = float(record[1])\n",
    "            print (year, value)"
   ]
  },
  {
   "cell_type": "code",
   "execution_count": null,
   "metadata": {
    "collapsed": true
   },
   "outputs": [],
   "source": []
  }
 ],
 "metadata": {
  "anaconda-cloud": {},
  "kernelspec": {
   "display_name": "Python [default]",
   "language": "python",
   "name": "python3"
  },
  "language_info": {
   "codemirror_mode": {
    "name": "ipython",
    "version": 3
   },
   "file_extension": ".py",
   "mimetype": "text/x-python",
   "name": "python",
   "nbconvert_exporter": "python",
   "pygments_lexer": "ipython3",
   "version": "3.5.2"
  }
 },
 "nbformat": 4,
 "nbformat_minor": 1
}
