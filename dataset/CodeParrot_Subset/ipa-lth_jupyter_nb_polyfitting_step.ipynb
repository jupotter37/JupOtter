{
 "cells": [
  {
   "cell_type": "code",
   "execution_count": null,
   "metadata": {
    "collapsed": false
   },
   "outputs": [],
   "source": [
    "import numpy as np\n",
    "import matplotlib.pyplot as plt\n",
    "from scipy.optimize import curve_fit\n",
    "%pylab inline"
   ]
  },
  {
   "cell_type": "code",
   "execution_count": null,
   "metadata": {
    "collapsed": false
   },
   "outputs": [],
   "source": [
    "def func(x, a, b, c, d):\n",
    "    res=np.array([])\n",
    "    for x_single in x:\n",
    "        if x_single <= d:\n",
    "            res= np.append(res, [c])\n",
    "        else:\n",
    "            res = np.append(res, [a *(1 - np.exp(-b * (x_single-d))) + c])\n",
    "    return res"
   ]
  },
  {
   "cell_type": "code",
   "execution_count": null,
   "metadata": {
    "collapsed": false
   },
   "outputs": [],
   "source": [
    "#Wikipedia\n",
    "def tn_pt2(xdata, td, k, w0, d):\n",
    "    raise(NotImplementedError('This function does not work as expected, some mathematical error occures! use pt2 instead'))\n",
    "    def _a1_2(w0, d):\n",
    "        #print 'd_w0:',d,w0\n",
    "        return (-d * w0 + w0 * np.sqrt(np.abs(d**2 - 1)), \n",
    "                -d * w0 - w0 * np.sqrt(np.abs(d**2 - 1)))\n",
    "    def _T1_2(a1_2):\n",
    "        #print a1_2\n",
    "        a1, a2 = a1_2\n",
    "        return (-1.0/a1, -1.0/a2)\n",
    "    def T1_2(w0, d):\n",
    "        return _T1_2(_a1_2(w0, d))\n",
    "\n",
    "    res = np.array([])\n",
    "    for t, x in xdata:\n",
    "        if t < td:\n",
    "            res = np.append(res, [0.0])  \n",
    "        else:\n",
    "            t = t - td\n",
    "            #print 'x,td,t,d:',x, td, t,d\n",
    "            T1, T2 = T1_2(w0, d)\n",
    "            #print 'T1, T2:',T1, T2\n",
    "            if d > 1: # Kriechfall\n",
    "                val = k * (1 - (T1 / (T1 - T2)) * np.exp(-t / T1) + (T2 / (T1 - T2)) * np.exp(-t / T2)) * x\n",
    "                res = np.append(res, [val])  \n",
    "            elif d == 1: #aperiodischer Grenzfall\n",
    "                #print \"aperio\"\n",
    "                #print 1.0/T1, np.exp(-t/T1)\n",
    "                val = k * ((1 - (1 + 1.0/T1 ) * np.exp(-t/T1))) * x\n",
    "                res = np.append(res, [val])\n",
    "            elif d <= -1: # instabiler Kriechfall\n",
    "                val = k * (1 - (T1 / (T1 - T2)) * np.exp(t / T1) + (T2 / (T1 - T2)) * np.exp(t / T2)) * x\n",
    "                res = np.append(res, [val])\n",
    "            else: #Schwingfall\n",
    "                #we = wo * np.sqrt(1-d**2)\n",
    "                val = k * (1 - 1/(np.sqrt(1-d**2)) * np.exp(-d*w0*t) * np.sin(w0*np.sqrt(1-d**2) * t + np.arccos(d))) * x\n",
    "                res = np.append(res, [val])\n",
    "    return res"
   ]
  },
  {
   "cell_type": "code",
   "execution_count": null,
   "metadata": {
    "collapsed": false
   },
   "outputs": [],
   "source": [
    "#t = np.arange(0, 10, 0.1)\n",
    "#x = np.ones(len(t))\n",
    "#tn_pt2(zip(t, x), td=0, k=2, w0=1, d=0.5)"
   ]
  },
  {
   "cell_type": "code",
   "execution_count": null,
   "metadata": {
    "collapsed": false
   },
   "outputs": [],
   "source": [
    "#t = np.arange(0, 70, 0.1)\n",
    "#x = np.ones(len(t))\n",
    "#xdata = zip(t, x)\n",
    "#y = tn_pt2(xdata, td=1, k=2, w0=2, d=0.9)\n",
    "#y = func(xdata, 10, 5, 0, 1)\n",
    "#print len(y), len(xdata)\n",
    "#y_noise = 0.1 * np.random.normal(size=xdata.size)\n",
    "#ydata = y + y_noise\n",
    "#ydata = tn_pt2(xdata, 0, 2, 1, 5)\n",
    "#plt.plot(xdata, y, 'g-', label='data')\n",
    "#plt.plot(xdata, ydata, 'b-', label='data_noise')\n",
    "#tn_pt2(zip([0, 1],[0, 0.3]), td=0, k=2, w0=1, d=1) ##TODO CORRECT !!= 0 -> https://de.wikipedia.org/wiki/Datei:Step-PT2.svg\n",
    "#plt.plot(xdata, tn_pt2(xdata, td=0, k=2, w0=1, d=0.2), 'b-', label='data')\n",
    "#plt.plot(xdata, tn_pt2(xdata, td=0, k=2, w0=1, d=1), 'g-', label='data')\n",
    "#plt.plot(xdata, tn_pt2(xdata, td=0, k=2, w0=1, d=5), 'r-', label='data')\n",
    "#tn_pt2(xdata, td=0, k=2, w0=1, d=1)"
   ]
  },
  {
   "cell_type": "code",
   "execution_count": null,
   "metadata": {
    "collapsed": false
   },
   "outputs": [],
   "source": [
    "#http://www.eit.hs-karlsruhe.de/mesysto/teil-a-zeitkontinuierliche-signale-und-systeme/uebertragungsglieder-der-regelungstechnik/zusammengesetzte-uebertragungsglieder/pt2-glied.html\n",
    "#xt is zip (xdata, tdata) \n",
    "def pt2(xt, K, d, T, delay=0):\n",
    "    y = np.array([])\n",
    "    for x, tx in xt:\n",
    "        #For now no delay:\n",
    "        if tx < delay:\n",
    "            y = np.append(y, [0.0])\n",
    "        else:\n",
    "            t = tx - delay\n",
    "\n",
    "            if d > 1: #aperiodischer Fall\n",
    "                T1, T2 = (T/(d+np.sqrt(d**2-1)), T/(d-np.sqrt(d**2-1)))\n",
    "                #print 'T1, T2: ', T1, T2\n",
    "                h = K * (1.0 - 1.0/(T1-T2) * (T1*np.exp(-t/T1)-T2*np.exp(-t/T2)))\n",
    "                y = np.append(y, [h*x])\n",
    "            elif d == 1: #aperiodischer Grenzfall\n",
    "                h = K * (1.0  - (1.0 + t/T)*np.exp(-t/T))\n",
    "                y = np.append(y, [h*x])\n",
    "            else: #periodischer Fall d<1 \n",
    "                h = K * (1.0 + 1.0/(np.sqrt(1-d**2)) * np.exp(-d*t/T) * np.cos(np.sqrt(1-d**2)/T * t - np.pi - np.arctan(-d/np.sqrt(1-d**2))))\n",
    "                y = np.append(y, [h*x])\n",
    "    return y"
   ]
  },
  {
   "cell_type": "code",
   "execution_count": null,
   "metadata": {
    "collapsed": false
   },
   "outputs": [],
   "source": [
    "t = np.arange(0, 10, 1)\n",
    "x = np.ones(len(t))\n",
    "pt2(xt=zip(x, t), K=2, d=5, T=1)"
   ]
  },
  {
   "cell_type": "code",
   "execution_count": null,
   "metadata": {
    "collapsed": false
   },
   "outputs": [],
   "source": [
    "t = np.arange(0, 70, 0.1)\n",
    "x = np.ones(len(t))\n",
    "xdata = zip(t, x)\n",
    "#y = tn_pt2(xdata, td=1, k=2, w0=2, d=0.9)\n",
    "#y = func(xdata, 10, 5, 0, 1)\n",
    "#print len(y), len(xdata)\n",
    "#y_noise = 0.1 * np.random.normal(size=xdata.size)\n",
    "#ydata = y + y_noise\n",
    "#ydata = tn_pt2(xdata, 0, 2, 1, 5)\n",
    "\n",
    "plt.plot(t, x, 'g:', label='data')\n",
    "plt.plot(t, pt2(xt=zip(x, t), K=1, d=2, T=1, delay=10), 'b-', label='d=2')\n",
    "plt.plot(t, pt2(xt=zip(x, t), K=1, d=1.0, T=1, delay=10), 'g-', label='d=1')\n",
    "plt.plot(t, pt2(xt=zip(x, t), K=1, d=3, T=1, delay=10), 'r-', label='d=3')\n",
    "\n",
    "plt.plot(t, pt2(xt=zip(x, t), K=2, d=0.25, T=1), 'b-', label='d=0.25')\n",
    "plt.plot(t, pt2(xt=zip(x, t), K=2, d=1, T=1, delay=20), 'g-', label='d=1')\n",
    "plt.plot(t, pt2(xt=zip(x, t), K=2, d=0.5, T=1), 'r-', label='d=0.5')\n",
    "\n",
    "plt.plot(t, pt2(xt=zip(x, t), K=0.2, d=0, T=1, delay=10), 'r:', label='d=0.2')\n",
    "#plt.plot(xdata, ydata, 'b-', label='data_noise')"
   ]
  },
  {
   "cell_type": "code",
   "execution_count": null,
   "metadata": {
    "collapsed": true
   },
   "outputs": [],
   "source": [
    "#http://www.eit.hs-karlsruhe.de/mesysto/teil-a-zeitkontinuierliche-signale-und-systeme/uebertragungsglieder-der-regelungstechnik/zusammengesetzte-uebertragungsglieder/pt2-glied.html\n",
    "#xdata is normalized for x per delta-time-step \n",
    "def pt2_func(soll, K, d, T, delay=0):\n",
    "    y = np.array([])\n",
    "    xt = zip(soll, np.arange(0, len(soll), 1))\n",
    "    for x, tx in xt:\n",
    "        #For now no delay:\n",
    "        if tx < delay:\n",
    "            y = np.append(y, [0.0]) # This can actually be not zero but the last value\n",
    "        else:\n",
    "            t = tx - delay\n",
    "\n",
    "            if d > 1: #aperiodischer Fall\n",
    "                T1, T2 = (T/(d+np.sqrt(d**2-1)), T/(d-np.sqrt(d**2-1)))\n",
    "                #print 'T1, T2: ', T1, T2\n",
    "                h = K * (1.0 - 1.0/(T1-T2) * (T1*np.exp(-t/T1)-T2*np.exp(-t/T2)))\n",
    "                y = np.append(y, [h*x])\n",
    "            elif d == 1: #aperiodischer Grenzfall\n",
    "                h = K * (1.0  - (1.0 + t/T)*np.exp(-t/T))\n",
    "                y = np.append(y, [h*x])\n",
    "            else: #periodischer Fall d<1 \n",
    "                h = K * (1.0 + 1.0/(np.sqrt(1-d**2)) * np.exp(-d*t/T) * np.cos(np.sqrt(1-d**2)/T * t - np.pi - np.arctan(-d/np.sqrt(1-d**2))))\n",
    "                y = np.append(y, [h*x])\n",
    "    return y"
   ]
  },
  {
   "cell_type": "code",
   "execution_count": null,
   "metadata": {
    "collapsed": false
   },
   "outputs": [],
   "source": [
    "def fit(soll, ist, maxfev=1000):\n",
    "    #popt, pcov = curve_fit(pt2_func, xdata, ydata, method='dogbox')\n",
    "    try:\n",
    "        popt_damp, pcov_damp = curve_fit(pt2_func, soll, ist, \n",
    "                                         method='dogbox', \n",
    "                                         bounds=([-10, 0, 1.0, 0], [100, 5, 10, 80]))\n",
    "        #plt.plot(np.arange(0, len(xdata), 1), pt2_func(xdata, *popt), 'g-', label='fit')\n",
    "        print 'd>1:', np.sum(np.sqrt(np.diag(pcov_damp))), popt_damp\n",
    "    except RuntimeError as e:\n",
    "        print e\n",
    "        popt_damp = None\n",
    "        pcov_damp = None\n",
    "    \n",
    "    try:\n",
    "        popt_swing, pcov_swing = curve_fit(pt2_func, soll, ist, \n",
    "                                           method='dogbox', \n",
    "                                           bounds=([-10, 0, 0., 0], [100., 1.001, 10, 80]))\n",
    "        #plt.plot(np.arange(0, len(xdata), 1), pt2_func(xdata, *popt), 'r-', label='fit')\n",
    "        print 'd<1:', np.sum(np.sqrt(np.diag(pcov_swing))), popt_swing\n",
    "    except RuntimeError as e:\n",
    "        print e\n",
    "        popt_swing = None\n",
    "        pcov_swing = None\n",
    "    return popt_damp, pcov_damp, popt_swing, pcov_swing\n"
   ]
  },
  {
   "cell_type": "code",
   "execution_count": null,
   "metadata": {
    "collapsed": false
   },
   "outputs": [],
   "source": [
    "test_soll = np.ones(1000)\n",
    "test_ist = pt2_func(test_soll, K=20, d=0.8, T=10, delay=10)\n",
    "test_noise = 0.01 * np.random.normal(size=test_ist.size)\n",
    "\n",
    "test_ist_noise = test_ist + test_noise\n",
    "      \n",
    "popt, pcov, popt2, pcov2 = fit(test_soll, test_ist_noise)\n",
    "plt.plot(np.arange(0, len(test_soll), 1), pt2_func(test_soll, *popt), 'b-', label='d>1')\n",
    "plt.plot(np.arange(0, len(test_soll), 1), pt2_func(test_soll, *popt2), 'g-', label='d<1')\n",
    "plt.plot(np.arange(0, len(test_soll), 1), test_ist, 'r:', label='ist')\n",
    "plt.plot(np.arange(0, len(test_soll), 1), test_soll, 'y-', label='soll')\n",
    "plt.legend()"
   ]
  },
  {
   "cell_type": "code",
   "execution_count": null,
   "metadata": {
    "collapsed": false
   },
   "outputs": [],
   "source": [
    "\n"
   ]
  },
  {
   "cell_type": "code",
   "execution_count": null,
   "metadata": {
    "collapsed": false
   },
   "outputs": [],
   "source": [
    "import pandas as pd\n",
    "import numpy as np\n",
    "from pandas import Series, DataFrame, Panel\n",
    "#%pylab inline\n",
    "#plt.rcParams['figure.figsize'] = (15, 15)\n",
    "\n",
    "### get soll ###\n",
    "df_soll = pd.read_csv('~/catkin_ws/src/pitasc/applications/sysident/step_log/2017-05-18/2017-05-18_11-45-37_control_output.log',\n",
    "                 header=0,\n",
    "                 names=['time', 'x_soll'])\n",
    "\n",
    "#remove trailing [\n",
    "#df_soll['x_soll'] = df_soll['x_soll'].str[2:].astype(float)\n",
    "df_soll = df_soll.set_index('time')\n",
    "\n",
    "### get ist ###\n",
    "df_ist = pd.read_csv('~/catkin_ws/src/pitasc/applications/sysident/step_log/2017-05-18/2017-05-18_11-45-37_task_vel.log',\n",
    "                 header=0,\n",
    "                 names=['time', 'x_ist'])\n",
    "#remove trailing [\n",
    "#df_ist['x_ist'] = df_ist['x_ist'].str[2:].astype(float)\n",
    "df_ist = df_ist.set_index('time')\n",
    "\n",
    "### make one df with ist and soll; indexed by time\n",
    "# Concates both series to one and fills (unknown) data with last valid one\n",
    "df_ist_soll = pd.concat([df_soll.x_soll, df_ist.x_ist], axis=1).fillna(method='pad')\n",
    "# Fills first value with 0 (there is no valid before that one)\n",
    "df_ist_soll = df_ist_soll.fillna(0)\n",
    "df_ist_soll.plot(ylim=[-0.05, 0.21], style='.-', drawstyle=\"steps\")"
   ]
  },
  {
   "cell_type": "code",
   "execution_count": null,
   "metadata": {
    "collapsed": false
   },
   "outputs": [],
   "source": [
    "# Make Timeseries and resample\n",
    "\n",
    "ts_ist_soll = df_ist_soll.set_index(pd.to_datetime(df_ist_soll.index, unit='s')) # TODO make start date usefull\n",
    "ts_ist_soll_4ms = ts_ist_soll.resample('4ms').pad().fillna(0).astype(float)\n",
    "ts_ist_soll_4ms.plot(ylim=[-0.05, 0.21], style='.-', drawstyle=\"steps\")"
   ]
  },
  {
   "cell_type": "code",
   "execution_count": null,
   "metadata": {
    "collapsed": true
   },
   "outputs": [],
   "source": [
    "## Collect all results\n",
    "frames = []"
   ]
  },
  {
   "cell_type": "code",
   "execution_count": null,
   "metadata": {
    "collapsed": false
   },
   "outputs": [],
   "source": [
    "ts_ist_soll_4ms.plot(ylim=[-0.05, 0.21], style='.-', drawstyle=\"steps\")\n",
    "# curvefit\n",
    "ts_soll = ts_ist_soll_4ms.x_soll.as_matrix()\n",
    "ts_ist = ts_ist_soll_4ms.x_ist.as_matrix()\n",
    "popt_damp, pcov_damp, popt_swing, pcov_swing = fit(ts_soll, ts_ist)\n",
    "\n",
    "t = np.arange(0, len(ts_ist)*0.004, 0.004)\n",
    "if popt_damp is not None:\n",
    "    ist_est_damp = pt2_func(ts_soll, *popt_damp)\n",
    "    ts_ist_curvefit1 = pd.Series(ist_est_damp, index=ts_ist_soll_4ms.index, name='x_ist_curvefit_damp')\n",
    "    ts_ist_curvefit1.plot()\n",
    "    frames.append(ts_ist_curvefit1.to_frame())\n",
    "    \n",
    "if popt_swing is not None:\n",
    "    ist_est_swing = pt2_func(ts_soll, *popt_swing)\n",
    "    ts_ist_curvefit2 = pd.Series(ist_est_swing, index=ts_ist_soll_4ms.index, name='x_ist_curvefit_swing')\n",
    "    ts_ist_curvefit2.plot()\n",
    "    frames.append(ts_ist_curvefit2.to_frame())\n",
    "\n",
    "#plt.plot(t, ist_est_damp, 'b-', label='d>1')\n",
    "#plt.plot(t, ist_est_swing, 'g-', label='d<1')\n",
    "#plt.legend()\n"
   ]
  },
  {
   "cell_type": "code",
   "execution_count": null,
   "metadata": {
    "collapsed": false
   },
   "outputs": [],
   "source": []
  },
  {
   "cell_type": "code",
   "execution_count": null,
   "metadata": {
    "collapsed": false
   },
   "outputs": [],
   "source": [
    "#polyfit\n",
    "z = np.polyfit(t, ts_ist, 5)\n",
    "p = np.poly1d(z)\n",
    "#print 'resampled p'\n",
    "#print p\n",
    "\n",
    "ts_ist_soll_4ms.plot(ylim=[-0.05, 0.21], style='.-', drawstyle=\"steps\")\n",
    "\n",
    "ts_ist_polyfit1 = pd.Series(p(t), index=ts_ist_soll_4ms.index, name='x_ist_ployfit_5')\n",
    "ts_ist_polyfit1.plot()\n",
    "\n",
    "frames.append(ts_ist_polyfit1.to_frame())"
   ]
  },
  {
   "cell_type": "code",
   "execution_count": null,
   "metadata": {
    "collapsed": false
   },
   "outputs": [],
   "source": [
    "#polyfit on nonresampled data\n",
    "z2 = np.polyfit(df_ist_soll.index, df_ist_soll.x_ist.as_matrix(), 5)\n",
    "p2 = np.poly1d(z2)\n",
    "#print 'nonresampled p'\n",
    "#print p\n",
    "\n",
    "ts_ist_polyfit2 = pd.Series(p2(t), index=ts_ist_soll_4ms.index, name='x_ist_ployfit2_5')\n",
    "\n",
    "#ts_ist_polyfit2= ts_ist_polyfit2.resample('4ms').pad().fillna(0)\n",
    "#s3 = pd.concat([s_4ms, pl2], axis=1).fillna(method='pad').fillna(0)\n",
    "#y_data_raw.time.as_matrix()\n",
    "#plt.figure()\n",
    "ts_ist_soll_4ms.plot(ylim=[-0.05, 0.21], style='.-', drawstyle=\"steps\")\n",
    "ts_ist_polyfit2.plot()\n",
    "\n",
    "frames.append(ts_ist_polyfit2.to_frame())"
   ]
  },
  {
   "cell_type": "code",
   "execution_count": null,
   "metadata": {
    "collapsed": true
   },
   "outputs": [],
   "source": [
    "## Merge all series together to one showable dataframe\n",
    "\n",
    "frames.append(ts_ist_soll_4ms)\n",
    "all_results = pd.concat(frames, axis=1)"
   ]
  },
  {
   "cell_type": "code",
   "execution_count": null,
   "metadata": {
    "collapsed": false,
    "scrolled": false
   },
   "outputs": [],
   "source": [
    "all_results.plot(ylim=[-0.05, 0.21], style='', drawstyle=\"steps\")"
   ]
  },
  {
   "cell_type": "code",
   "execution_count": null,
   "metadata": {
    "collapsed": true
   },
   "outputs": [],
   "source": []
  }
 ],
 "metadata": {
  "kernelspec": {
   "display_name": "Python 2",
   "language": "python",
   "name": "python2"
  },
  "language_info": {
   "codemirror_mode": {
    "name": "ipython",
    "version": 2
   },
   "file_extension": ".py",
   "mimetype": "text/x-python",
   "name": "python",
   "nbconvert_exporter": "python",
   "pygments_lexer": "ipython2",
   "version": "2.7.12"
  }
 },
 "nbformat": 4,
 "nbformat_minor": 2
}
