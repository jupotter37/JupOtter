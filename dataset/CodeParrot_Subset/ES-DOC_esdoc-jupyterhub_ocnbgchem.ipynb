{
    "nbformat_minor": 0, 
    "nbformat": 4, 
    "cells": [
        {
            "source": [
                "# ES-DOC CMIP6 Model Properties - Ocnbgchem \n", 
                "**MIP Era**: CMIP6  \n", 
                "**Institute**: TEST-INSTITUTE-1  \n", 
                "**Source ID**: SANDBOX-3  \n", 
                "**Topic**: Ocnbgchem  \n", 
                "**Sub-Topics**: Tracers.   \n", 
                "**Properties**: 65 (37 required)  \n", 
                "**Model descriptions**: [Model description details](https://specializations.es-doc.org/cmip6/ocnbgchem?client=jupyter-notebook)  \n", 
                "**Initialized From**: --  \n", 
                "\n", 
                "**Notebook Help**: [Goto notebook help page](https://es-doc.org/cmip6-models-documenting-with-ipython)  \n", 
                "**Notebook Initialised**: 2018-02-15 16:54:43"
            ], 
            "cell_type": "markdown", 
            "metadata": {}
        }, 
        {
            "source": [
                "### Document Setup  \n", 
                "**IMPORTANT: to be executed each time you run the notebook**  "
            ], 
            "cell_type": "markdown", 
            "metadata": {}
        }, 
        {
            "execution_count": null, 
            "cell_type": "code", 
            "source": [
                "# DO NOT EDIT !  \n", 
                "from pyesdoc.ipython.model_topic import NotebookOutput  \n", 
                "\n", 
                "# DO NOT EDIT !  \n", 
                "DOC = NotebookOutput('cmip6', 'test-institute-1', 'sandbox-3', 'ocnbgchem')"
            ], 
            "outputs": [], 
            "metadata": {}
        }, 
        {
            "source": [
                "### Document Authors  \n", 
                "*Set document authors*"
            ], 
            "cell_type": "markdown", 
            "metadata": {}
        }, 
        {
            "execution_count": null, 
            "cell_type": "code", 
            "source": [
                "# Set as follows: DOC.set_author(\"name\", \"email\")  \n", 
                "# TODO - please enter value(s)"
            ], 
            "outputs": [], 
            "metadata": {}
        }, 
        {
            "source": [
                "### Document Contributors  \n", 
                "*Specify document contributors*  "
            ], 
            "cell_type": "markdown", 
            "metadata": {}
        }, 
        {
            "execution_count": null, 
            "cell_type": "code", 
            "source": [
                "# Set as follows: DOC.set_contributor(\"name\", \"email\")  \n", 
                "# TODO - please enter value(s)"
            ], 
            "outputs": [], 
            "metadata": {}
        }, 
        {
            "source": [
                "### Document Publication  \n", 
                "*Specify document publication status*  "
            ], 
            "cell_type": "markdown", 
            "metadata": {}
        }, 
        {
            "execution_count": null, 
            "cell_type": "code", 
            "source": [
                "# Set publication status:  \n", 
                "# 0=do not publish, 1=publish.   \n", 
                "DOC.set_publication_status(0)"
            ], 
            "outputs": [], 
            "metadata": {}
        }, 
        {
            "source": [
                "### Document Table of Contents  \n", 
                "[1. Key Properties](#1.-Key-Properties)  \n", 
                "[2. Key Properties --&gt; Time Stepping Framework --&gt; Passive Tracers Transport](#2.-Key-Properties---&gt;-Time-Stepping-Framework---&gt;-Passive-Tracers-Transport)  \n", 
                "[3. Key Properties --&gt; Time Stepping Framework --&gt; Biology Sources Sinks](#3.-Key-Properties---&gt;-Time-Stepping-Framework---&gt;-Biology-Sources-Sinks)  \n", 
                "[4. Key Properties --&gt; Transport Scheme](#4.-Key-Properties---&gt;-Transport-Scheme)  \n", 
                "[5. Key Properties --&gt; Boundary Forcing](#5.-Key-Properties---&gt;-Boundary-Forcing)  \n", 
                "[6. Key Properties --&gt; Gas Exchange](#6.-Key-Properties---&gt;-Gas-Exchange)  \n", 
                "[7. Key Properties --&gt; Carbon Chemistry](#7.-Key-Properties---&gt;-Carbon-Chemistry)  \n", 
                "[8. Tracers](#8.-Tracers)  \n", 
                "[9. Tracers --&gt; Ecosystem](#9.-Tracers---&gt;-Ecosystem)  \n", 
                "[10. Tracers --&gt; Ecosystem --&gt; Phytoplankton](#10.-Tracers---&gt;-Ecosystem---&gt;-Phytoplankton)  \n", 
                "[11. Tracers --&gt; Ecosystem --&gt; Zooplankton](#11.-Tracers---&gt;-Ecosystem---&gt;-Zooplankton)  \n", 
                "[12. Tracers --&gt; Disolved Organic Matter](#12.-Tracers---&gt;-Disolved-Organic-Matter)  \n", 
                "[13. Tracers --&gt; Particules](#13.-Tracers---&gt;-Particules)  \n", 
                "[14. Tracers --&gt; Dic Alkalinity](#14.-Tracers---&gt;-Dic-Alkalinity)  \n", 
                "\n"
            ], 
            "cell_type": "markdown", 
            "metadata": {}
        }, 
        {
            "source": [
                "# 1. Key Properties  \n", 
                "*Ocean Biogeochemistry key properties*"
            ], 
            "cell_type": "markdown", 
            "metadata": {}
        }, 
        {
            "source": [
                "### 1.1. Model Overview\n", 
                "**Is Required:** TRUE&nbsp;&nbsp;&nbsp;&nbsp;**Type:** STRING&nbsp;&nbsp;&nbsp;&nbsp;**Cardinality:** 1.1\n", 
                "### *Overview of ocean biogeochemistry model*"
            ], 
            "cell_type": "markdown", 
            "metadata": {}
        }, 
        {
            "execution_count": null, 
            "cell_type": "code", 
            "source": [
                "# PROPERTY ID - DO NOT EDIT !  \n", 
                "DOC.set_id('cmip6.ocnbgchem.key_properties.model_overview')  \n", 
                "\n", 
                "# PROPERTY VALUE: \n", 
                "# Set as follows: DOC.set_value(\"value\")  \n", 
                "# TODO - please enter value(s)", 
                "\n"
            ], 
            "outputs": [], 
            "metadata": {
                "collapsed": true
            }
        }, 
        {
            "source": [
                "### 1.2. Model Name\n", 
                "**Is Required:** TRUE&nbsp;&nbsp;&nbsp;&nbsp;**Type:** STRING&nbsp;&nbsp;&nbsp;&nbsp;**Cardinality:** 1.1\n", 
                "### *Name of ocean biogeochemistry model code (PISCES 2.0,...)*"
            ], 
            "cell_type": "markdown", 
            "metadata": {}
        }, 
        {
            "execution_count": null, 
            "cell_type": "code", 
            "source": [
                "# PROPERTY ID - DO NOT EDIT !  \n", 
                "DOC.set_id('cmip6.ocnbgchem.key_properties.model_name')  \n", 
                "\n", 
                "# PROPERTY VALUE: \n", 
                "# Set as follows: DOC.set_value(\"value\")  \n", 
                "# TODO - please enter value(s)", 
                "\n"
            ], 
            "outputs": [], 
            "metadata": {
                "collapsed": true
            }
        }, 
        {
            "source": [
                "### 1.3. Model Type\n", 
                "**Is Required:** TRUE&nbsp;&nbsp;&nbsp;&nbsp;**Type:** ENUM&nbsp;&nbsp;&nbsp;&nbsp;**Cardinality:** 1.1\n", 
                "### *Type of ocean biogeochemistry model*"
            ], 
            "cell_type": "markdown", 
            "metadata": {}
        }, 
        {
            "execution_count": null, 
            "cell_type": "code", 
            "source": [
                "# PROPERTY ID - DO NOT EDIT !  \n", 
                "DOC.set_id('cmip6.ocnbgchem.key_properties.model_type')  \n", 
                "\n", 
                "# PROPERTY VALUE: \n", 
                "# Set as follows: DOC.set_value(\"value\")  \n", 
                "# Valid Choices: \n", 
                "#      \"Geochemical\"  \n", 
                "#      \"NPZD\"  \n", 
                "#      \"PFT\"  \n", 
                "#      \"Other: [Please specify]\"  \n", 
                "# TODO - please enter value(s)", 
                "\n"
            ], 
            "outputs": [], 
            "metadata": {
                "collapsed": true
            }
        }, 
        {
            "source": [
                "### 1.4. Elemental Stoichiometry\n", 
                "**Is Required:** TRUE&nbsp;&nbsp;&nbsp;&nbsp;**Type:** ENUM&nbsp;&nbsp;&nbsp;&nbsp;**Cardinality:** 1.1\n", 
                "### *Describe elemental stoichiometry (fixed, variable, mix of the two)*"
            ], 
            "cell_type": "markdown", 
            "metadata": {}
        }, 
        {
            "execution_count": null, 
            "cell_type": "code", 
            "source": [
                "# PROPERTY ID - DO NOT EDIT !  \n", 
                "DOC.set_id('cmip6.ocnbgchem.key_properties.elemental_stoichiometry')  \n", 
                "\n", 
                "# PROPERTY VALUE: \n", 
                "# Set as follows: DOC.set_value(\"value\")  \n", 
                "# Valid Choices: \n", 
                "#      \"Fixed\"  \n", 
                "#      \"Variable\"  \n", 
                "#      \"Mix of both\"  \n", 
                "# TODO - please enter value(s)", 
                "\n"
            ], 
            "outputs": [], 
            "metadata": {
                "collapsed": true
            }
        }, 
        {
            "source": [
                "### 1.5. Elemental Stoichiometry Details\n", 
                "**Is Required:** TRUE&nbsp;&nbsp;&nbsp;&nbsp;**Type:** STRING&nbsp;&nbsp;&nbsp;&nbsp;**Cardinality:** 1.1\n", 
                "### *Describe which elements have fixed/variable stoichiometry*"
            ], 
            "cell_type": "markdown", 
            "metadata": {}
        }, 
        {
            "execution_count": null, 
            "cell_type": "code", 
            "source": [
                "# PROPERTY ID - DO NOT EDIT !  \n", 
                "DOC.set_id('cmip6.ocnbgchem.key_properties.elemental_stoichiometry_details')  \n", 
                "\n", 
                "# PROPERTY VALUE: \n", 
                "# Set as follows: DOC.set_value(\"value\")  \n", 
                "# TODO - please enter value(s)", 
                "\n"
            ], 
            "outputs": [], 
            "metadata": {
                "collapsed": true
            }
        }, 
        {
            "source": [
                "### 1.6. Prognostic Variables\n", 
                "**Is Required:** TRUE&nbsp;&nbsp;&nbsp;&nbsp;**Type:** STRING&nbsp;&nbsp;&nbsp;&nbsp;**Cardinality:** 1.N\n", 
                "### *List of all prognostic tracer variables in the ocean biogeochemistry component*"
            ], 
            "cell_type": "markdown", 
            "metadata": {}
        }, 
        {
            "execution_count": null, 
            "cell_type": "code", 
            "source": [
                "# PROPERTY ID - DO NOT EDIT !  \n", 
                "DOC.set_id('cmip6.ocnbgchem.key_properties.prognostic_variables')  \n", 
                "\n", 
                "# PROPERTY VALUE(S): \n", 
                "# Set as follows: DOC.set_value(\"value\")  \n", 
                "# TODO - please enter value(s)", 
                "\n"
            ], 
            "outputs": [], 
            "metadata": {
                "collapsed": true
            }
        }, 
        {
            "source": [
                "### 1.7. Diagnostic Variables\n", 
                "**Is Required:** TRUE&nbsp;&nbsp;&nbsp;&nbsp;**Type:** STRING&nbsp;&nbsp;&nbsp;&nbsp;**Cardinality:** 1.N\n", 
                "### *List of all diagnotic tracer variables in the ocean biogeochemistry component*"
            ], 
            "cell_type": "markdown", 
            "metadata": {}
        }, 
        {
            "execution_count": null, 
            "cell_type": "code", 
            "source": [
                "# PROPERTY ID - DO NOT EDIT !  \n", 
                "DOC.set_id('cmip6.ocnbgchem.key_properties.diagnostic_variables')  \n", 
                "\n", 
                "# PROPERTY VALUE(S): \n", 
                "# Set as follows: DOC.set_value(\"value\")  \n", 
                "# TODO - please enter value(s)", 
                "\n"
            ], 
            "outputs": [], 
            "metadata": {
                "collapsed": true
            }
        }, 
        {
            "source": [
                "### 1.8. Damping\n", 
                "**Is Required:** FALSE&nbsp;&nbsp;&nbsp;&nbsp;**Type:** STRING&nbsp;&nbsp;&nbsp;&nbsp;**Cardinality:** 0.1\n", 
                "### *Describe any tracer damping used (such as artificial correction or relaxation to climatology,...)*"
            ], 
            "cell_type": "markdown", 
            "metadata": {}
        }, 
        {
            "execution_count": null, 
            "cell_type": "code", 
            "source": [
                "# PROPERTY ID - DO NOT EDIT !  \n", 
                "DOC.set_id('cmip6.ocnbgchem.key_properties.damping')  \n", 
                "\n", 
                "# PROPERTY VALUE: \n", 
                "# Set as follows: DOC.set_value(\"value\")  \n", 
                "# TODO - please enter value(s)", 
                "\n"
            ], 
            "outputs": [], 
            "metadata": {
                "collapsed": true
            }
        }, 
        {
            "source": [
                "# 2. Key Properties --&gt; Time Stepping Framework --&gt; Passive Tracers Transport  \n", 
                "*Time stepping method for passive tracers transport in ocean biogeochemistry*"
            ], 
            "cell_type": "markdown", 
            "metadata": {}
        }, 
        {
            "source": [
                "### 2.1. Method\n", 
                "**Is Required:** TRUE&nbsp;&nbsp;&nbsp;&nbsp;**Type:** ENUM&nbsp;&nbsp;&nbsp;&nbsp;**Cardinality:** 1.1\n", 
                "### *Time stepping framework for passive tracers*"
            ], 
            "cell_type": "markdown", 
            "metadata": {}
        }, 
        {
            "execution_count": null, 
            "cell_type": "code", 
            "source": [
                "# PROPERTY ID - DO NOT EDIT !  \n", 
                "DOC.set_id('cmip6.ocnbgchem.key_properties.time_stepping_framework.passive_tracers_transport.method')  \n", 
                "\n", 
                "# PROPERTY VALUE: \n", 
                "# Set as follows: DOC.set_value(\"value\")  \n", 
                "# Valid Choices: \n", 
                "#      \"use ocean model transport time step\"  \n", 
                "#      \"use specific time step\"  \n", 
                "# TODO - please enter value(s)", 
                "\n"
            ], 
            "outputs": [], 
            "metadata": {
                "collapsed": true
            }
        }, 
        {
            "source": [
                "### 2.2. Timestep If Not From Ocean\n", 
                "**Is Required:** FALSE&nbsp;&nbsp;&nbsp;&nbsp;**Type:** INTEGER&nbsp;&nbsp;&nbsp;&nbsp;**Cardinality:** 0.1\n", 
                "### *Time step for passive tracers (if different from ocean)*"
            ], 
            "cell_type": "markdown", 
            "metadata": {}
        }, 
        {
            "execution_count": null, 
            "cell_type": "code", 
            "source": [
                "# PROPERTY ID - DO NOT EDIT !  \n", 
                "DOC.set_id('cmip6.ocnbgchem.key_properties.time_stepping_framework.passive_tracers_transport.timestep_if_not_from_ocean')  \n", 
                "\n", 
                "# PROPERTY VALUE: \n", 
                "# Set as follows: DOC.set_value(value)  \n", 
                "# TODO - please enter value(s)", 
                "\n"
            ], 
            "outputs": [], 
            "metadata": {
                "collapsed": true
            }
        }, 
        {
            "source": [
                "# 3. Key Properties --&gt; Time Stepping Framework --&gt; Biology Sources Sinks  \n", 
                "*Time stepping framework for biology sources and sinks in ocean biogeochemistry*"
            ], 
            "cell_type": "markdown", 
            "metadata": {}
        }, 
        {
            "source": [
                "### 3.1. Method\n", 
                "**Is Required:** TRUE&nbsp;&nbsp;&nbsp;&nbsp;**Type:** ENUM&nbsp;&nbsp;&nbsp;&nbsp;**Cardinality:** 1.1\n", 
                "### *Time stepping framework for biology sources and sinks*"
            ], 
            "cell_type": "markdown", 
            "metadata": {}
        }, 
        {
            "execution_count": null, 
            "cell_type": "code", 
            "source": [
                "# PROPERTY ID - DO NOT EDIT !  \n", 
                "DOC.set_id('cmip6.ocnbgchem.key_properties.time_stepping_framework.biology_sources_sinks.method')  \n", 
                "\n", 
                "# PROPERTY VALUE: \n", 
                "# Set as follows: DOC.set_value(\"value\")  \n", 
                "# Valid Choices: \n", 
                "#      \"use ocean model transport time step\"  \n", 
                "#      \"use specific time step\"  \n", 
                "# TODO - please enter value(s)", 
                "\n"
            ], 
            "outputs": [], 
            "metadata": {
                "collapsed": true
            }
        }, 
        {
            "source": [
                "### 3.2. Timestep If Not From Ocean\n", 
                "**Is Required:** FALSE&nbsp;&nbsp;&nbsp;&nbsp;**Type:** INTEGER&nbsp;&nbsp;&nbsp;&nbsp;**Cardinality:** 0.1\n", 
                "### *Time step for biology sources and sinks (if different from ocean)*"
            ], 
            "cell_type": "markdown", 
            "metadata": {}
        }, 
        {
            "execution_count": null, 
            "cell_type": "code", 
            "source": [
                "# PROPERTY ID - DO NOT EDIT !  \n", 
                "DOC.set_id('cmip6.ocnbgchem.key_properties.time_stepping_framework.biology_sources_sinks.timestep_if_not_from_ocean')  \n", 
                "\n", 
                "# PROPERTY VALUE: \n", 
                "# Set as follows: DOC.set_value(value)  \n", 
                "# TODO - please enter value(s)", 
                "\n"
            ], 
            "outputs": [], 
            "metadata": {
                "collapsed": true
            }
        }, 
        {
            "source": [
                "# 4. Key Properties --&gt; Transport Scheme  \n", 
                "*Transport scheme in ocean biogeochemistry*"
            ], 
            "cell_type": "markdown", 
            "metadata": {}
        }, 
        {
            "source": [
                "### 4.1. Type\n", 
                "**Is Required:** TRUE&nbsp;&nbsp;&nbsp;&nbsp;**Type:** ENUM&nbsp;&nbsp;&nbsp;&nbsp;**Cardinality:** 1.1\n", 
                "### *Type of transport scheme*"
            ], 
            "cell_type": "markdown", 
            "metadata": {}
        }, 
        {
            "execution_count": null, 
            "cell_type": "code", 
            "source": [
                "# PROPERTY ID - DO NOT EDIT !  \n", 
                "DOC.set_id('cmip6.ocnbgchem.key_properties.transport_scheme.type')  \n", 
                "\n", 
                "# PROPERTY VALUE: \n", 
                "# Set as follows: DOC.set_value(\"value\")  \n", 
                "# Valid Choices: \n", 
                "#      \"Offline\"  \n", 
                "#      \"Online\"  \n", 
                "# TODO - please enter value(s)", 
                "\n"
            ], 
            "outputs": [], 
            "metadata": {
                "collapsed": true
            }
        }, 
        {
            "source": [
                "### 4.2. Scheme\n", 
                "**Is Required:** TRUE&nbsp;&nbsp;&nbsp;&nbsp;**Type:** ENUM&nbsp;&nbsp;&nbsp;&nbsp;**Cardinality:** 1.1\n", 
                "### *Transport scheme used*"
            ], 
            "cell_type": "markdown", 
            "metadata": {}
        }, 
        {
            "execution_count": null, 
            "cell_type": "code", 
            "source": [
                "# PROPERTY ID - DO NOT EDIT !  \n", 
                "DOC.set_id('cmip6.ocnbgchem.key_properties.transport_scheme.scheme')  \n", 
                "\n", 
                "# PROPERTY VALUE: \n", 
                "# Set as follows: DOC.set_value(\"value\")  \n", 
                "# Valid Choices: \n", 
                "#      \"Use that of ocean model\"  \n", 
                "#      \"Other: [Please specify]\"  \n", 
                "# TODO - please enter value(s)", 
                "\n"
            ], 
            "outputs": [], 
            "metadata": {
                "collapsed": true
            }
        }, 
        {
            "source": [
                "### 4.3. Use Different Scheme\n", 
                "**Is Required:** FALSE&nbsp;&nbsp;&nbsp;&nbsp;**Type:** STRING&nbsp;&nbsp;&nbsp;&nbsp;**Cardinality:** 0.1\n", 
                "### *Decribe transport scheme if different than that of ocean model*"
            ], 
            "cell_type": "markdown", 
            "metadata": {}
        }, 
        {
            "execution_count": null, 
            "cell_type": "code", 
            "source": [
                "# PROPERTY ID - DO NOT EDIT !  \n", 
                "DOC.set_id('cmip6.ocnbgchem.key_properties.transport_scheme.use_different_scheme')  \n", 
                "\n", 
                "# PROPERTY VALUE: \n", 
                "# Set as follows: DOC.set_value(\"value\")  \n", 
                "# TODO - please enter value(s)", 
                "\n"
            ], 
            "outputs": [], 
            "metadata": {
                "collapsed": true
            }
        }, 
        {
            "source": [
                "# 5. Key Properties --&gt; Boundary Forcing  \n", 
                "*Properties of biogeochemistry boundary forcing*"
            ], 
            "cell_type": "markdown", 
            "metadata": {}
        }, 
        {
            "source": [
                "### 5.1. Atmospheric Deposition\n", 
                "**Is Required:** TRUE&nbsp;&nbsp;&nbsp;&nbsp;**Type:** ENUM&nbsp;&nbsp;&nbsp;&nbsp;**Cardinality:** 1.1\n", 
                "### *Describe how atmospheric deposition is modeled*"
            ], 
            "cell_type": "markdown", 
            "metadata": {}
        }, 
        {
            "execution_count": null, 
            "cell_type": "code", 
            "source": [
                "# PROPERTY ID - DO NOT EDIT !  \n", 
                "DOC.set_id('cmip6.ocnbgchem.key_properties.boundary_forcing.atmospheric_deposition')  \n", 
                "\n", 
                "# PROPERTY VALUE: \n", 
                "# Set as follows: DOC.set_value(\"value\")  \n", 
                "# Valid Choices: \n", 
                "#      \"from file (climatology)\"  \n", 
                "#      \"from file (interannual variations)\"  \n", 
                "#      \"from Atmospheric Chemistry model\"  \n", 
                "# TODO - please enter value(s)", 
                "\n"
            ], 
            "outputs": [], 
            "metadata": {
                "collapsed": true
            }
        }, 
        {
            "source": [
                "### 5.2. River Input\n", 
                "**Is Required:** TRUE&nbsp;&nbsp;&nbsp;&nbsp;**Type:** ENUM&nbsp;&nbsp;&nbsp;&nbsp;**Cardinality:** 1.1\n", 
                "### *Describe how river input is modeled*"
            ], 
            "cell_type": "markdown", 
            "metadata": {}
        }, 
        {
            "execution_count": null, 
            "cell_type": "code", 
            "source": [
                "# PROPERTY ID - DO NOT EDIT !  \n", 
                "DOC.set_id('cmip6.ocnbgchem.key_properties.boundary_forcing.river_input')  \n", 
                "\n", 
                "# PROPERTY VALUE: \n", 
                "# Set as follows: DOC.set_value(\"value\")  \n", 
                "# Valid Choices: \n", 
                "#      \"from file (climatology)\"  \n", 
                "#      \"from file (interannual variations)\"  \n", 
                "#      \"from Land Surface model\"  \n", 
                "# TODO - please enter value(s)", 
                "\n"
            ], 
            "outputs": [], 
            "metadata": {
                "collapsed": true
            }
        }, 
        {
            "source": [
                "### 5.3. Sediments From Boundary Conditions\n", 
                "**Is Required:** FALSE&nbsp;&nbsp;&nbsp;&nbsp;**Type:** STRING&nbsp;&nbsp;&nbsp;&nbsp;**Cardinality:** 0.1\n", 
                "### *List which sediments are speficied from boundary condition*"
            ], 
            "cell_type": "markdown", 
            "metadata": {}
        }, 
        {
            "execution_count": null, 
            "cell_type": "code", 
            "source": [
                "# PROPERTY ID - DO NOT EDIT !  \n", 
                "DOC.set_id('cmip6.ocnbgchem.key_properties.boundary_forcing.sediments_from_boundary_conditions')  \n", 
                "\n", 
                "# PROPERTY VALUE: \n", 
                "# Set as follows: DOC.set_value(\"value\")  \n", 
                "# TODO - please enter value(s)", 
                "\n"
            ], 
            "outputs": [], 
            "metadata": {
                "collapsed": true
            }
        }, 
        {
            "source": [
                "### 5.4. Sediments From Explicit Model\n", 
                "**Is Required:** FALSE&nbsp;&nbsp;&nbsp;&nbsp;**Type:** STRING&nbsp;&nbsp;&nbsp;&nbsp;**Cardinality:** 0.1\n", 
                "### *List which sediments are speficied from explicit sediment model*"
            ], 
            "cell_type": "markdown", 
            "metadata": {}
        }, 
        {
            "execution_count": null, 
            "cell_type": "code", 
            "source": [
                "# PROPERTY ID - DO NOT EDIT !  \n", 
                "DOC.set_id('cmip6.ocnbgchem.key_properties.boundary_forcing.sediments_from_explicit_model')  \n", 
                "\n", 
                "# PROPERTY VALUE: \n", 
                "# Set as follows: DOC.set_value(\"value\")  \n", 
                "# TODO - please enter value(s)", 
                "\n"
            ], 
            "outputs": [], 
            "metadata": {
                "collapsed": true
            }
        }, 
        {
            "source": [
                "# 6. Key Properties --&gt; Gas Exchange  \n", 
                "*Properties of gas exchange in ocean biogeochemistry *"
            ], 
            "cell_type": "markdown", 
            "metadata": {}
        }, 
        {
            "source": [
                "### 6.1. CO2 Exchange Present\n", 
                "**Is Required:** TRUE&nbsp;&nbsp;&nbsp;&nbsp;**Type:** BOOLEAN&nbsp;&nbsp;&nbsp;&nbsp;**Cardinality:** 1.1\n", 
                "### *Is CO2 gas exchange modeled ?*"
            ], 
            "cell_type": "markdown", 
            "metadata": {}
        }, 
        {
            "execution_count": null, 
            "cell_type": "code", 
            "source": [
                "# PROPERTY ID - DO NOT EDIT !  \n", 
                "DOC.set_id('cmip6.ocnbgchem.key_properties.gas_exchange.CO2_exchange_present')  \n", 
                "\n", 
                "# PROPERTY VALUE: \n", 
                "# Set as follows: DOC.set_value(value)  \n", 
                "# Valid Choices: \n", 
                "#     True  \n", 
                "#     False  \n", 
                "# TODO - please enter value(s)", 
                "\n"
            ], 
            "outputs": [], 
            "metadata": {
                "collapsed": true
            }
        }, 
        {
            "source": [
                "### 6.2. CO2 Exchange Type\n", 
                "**Is Required:** FALSE&nbsp;&nbsp;&nbsp;&nbsp;**Type:** ENUM&nbsp;&nbsp;&nbsp;&nbsp;**Cardinality:** 0.1\n", 
                "### *Describe CO2 gas exchange*"
            ], 
            "cell_type": "markdown", 
            "metadata": {}
        }, 
        {
            "execution_count": null, 
            "cell_type": "code", 
            "source": [
                "# PROPERTY ID - DO NOT EDIT !  \n", 
                "DOC.set_id('cmip6.ocnbgchem.key_properties.gas_exchange.CO2_exchange_type')  \n", 
                "\n", 
                "# PROPERTY VALUE: \n", 
                "# Set as follows: DOC.set_value(\"value\")  \n", 
                "# Valid Choices: \n", 
                "#      \"OMIP protocol\"  \n", 
                "#      \"Other: [Please specify]\"  \n", 
                "# TODO - please enter value(s)", 
                "\n"
            ], 
            "outputs": [], 
            "metadata": {
                "collapsed": true
            }
        }, 
        {
            "source": [
                "### 6.3. O2 Exchange Present\n", 
                "**Is Required:** TRUE&nbsp;&nbsp;&nbsp;&nbsp;**Type:** BOOLEAN&nbsp;&nbsp;&nbsp;&nbsp;**Cardinality:** 1.1\n", 
                "### *Is O2 gas exchange modeled ?*"
            ], 
            "cell_type": "markdown", 
            "metadata": {}
        }, 
        {
            "execution_count": null, 
            "cell_type": "code", 
            "source": [
                "# PROPERTY ID - DO NOT EDIT !  \n", 
                "DOC.set_id('cmip6.ocnbgchem.key_properties.gas_exchange.O2_exchange_present')  \n", 
                "\n", 
                "# PROPERTY VALUE: \n", 
                "# Set as follows: DOC.set_value(value)  \n", 
                "# Valid Choices: \n", 
                "#     True  \n", 
                "#     False  \n", 
                "# TODO - please enter value(s)", 
                "\n"
            ], 
            "outputs": [], 
            "metadata": {
                "collapsed": true
            }
        }, 
        {
            "source": [
                "### 6.4. O2 Exchange Type\n", 
                "**Is Required:** FALSE&nbsp;&nbsp;&nbsp;&nbsp;**Type:** ENUM&nbsp;&nbsp;&nbsp;&nbsp;**Cardinality:** 0.1\n", 
                "### *Describe O2 gas exchange*"
            ], 
            "cell_type": "markdown", 
            "metadata": {}
        }, 
        {
            "execution_count": null, 
            "cell_type": "code", 
            "source": [
                "# PROPERTY ID - DO NOT EDIT !  \n", 
                "DOC.set_id('cmip6.ocnbgchem.key_properties.gas_exchange.O2_exchange_type')  \n", 
                "\n", 
                "# PROPERTY VALUE: \n", 
                "# Set as follows: DOC.set_value(\"value\")  \n", 
                "# Valid Choices: \n", 
                "#      \"OMIP protocol\"  \n", 
                "#      \"Other: [Please specify]\"  \n", 
                "# TODO - please enter value(s)", 
                "\n"
            ], 
            "outputs": [], 
            "metadata": {
                "collapsed": true
            }
        }, 
        {
            "source": [
                "### 6.5. DMS Exchange Present\n", 
                "**Is Required:** TRUE&nbsp;&nbsp;&nbsp;&nbsp;**Type:** BOOLEAN&nbsp;&nbsp;&nbsp;&nbsp;**Cardinality:** 1.1\n", 
                "### *Is DMS gas exchange modeled ?*"
            ], 
            "cell_type": "markdown", 
            "metadata": {}
        }, 
        {
            "execution_count": null, 
            "cell_type": "code", 
            "source": [
                "# PROPERTY ID - DO NOT EDIT !  \n", 
                "DOC.set_id('cmip6.ocnbgchem.key_properties.gas_exchange.DMS_exchange_present')  \n", 
                "\n", 
                "# PROPERTY VALUE: \n", 
                "# Set as follows: DOC.set_value(value)  \n", 
                "# Valid Choices: \n", 
                "#     True  \n", 
                "#     False  \n", 
                "# TODO - please enter value(s)", 
                "\n"
            ], 
            "outputs": [], 
            "metadata": {
                "collapsed": true
            }
        }, 
        {
            "source": [
                "### 6.6. DMS Exchange Type\n", 
                "**Is Required:** FALSE&nbsp;&nbsp;&nbsp;&nbsp;**Type:** STRING&nbsp;&nbsp;&nbsp;&nbsp;**Cardinality:** 0.1\n", 
                "### *Specify DMS gas exchange scheme type*"
            ], 
            "cell_type": "markdown", 
            "metadata": {}
        }, 
        {
            "execution_count": null, 
            "cell_type": "code", 
            "source": [
                "# PROPERTY ID - DO NOT EDIT !  \n", 
                "DOC.set_id('cmip6.ocnbgchem.key_properties.gas_exchange.DMS_exchange_type')  \n", 
                "\n", 
                "# PROPERTY VALUE: \n", 
                "# Set as follows: DOC.set_value(\"value\")  \n", 
                "# TODO - please enter value(s)", 
                "\n"
            ], 
            "outputs": [], 
            "metadata": {
                "collapsed": true
            }
        }, 
        {
            "source": [
                "### 6.7. N2 Exchange Present\n", 
                "**Is Required:** TRUE&nbsp;&nbsp;&nbsp;&nbsp;**Type:** BOOLEAN&nbsp;&nbsp;&nbsp;&nbsp;**Cardinality:** 1.1\n", 
                "### *Is N2 gas exchange modeled ?*"
            ], 
            "cell_type": "markdown", 
            "metadata": {}
        }, 
        {
            "execution_count": null, 
            "cell_type": "code", 
            "source": [
                "# PROPERTY ID - DO NOT EDIT !  \n", 
                "DOC.set_id('cmip6.ocnbgchem.key_properties.gas_exchange.N2_exchange_present')  \n", 
                "\n", 
                "# PROPERTY VALUE: \n", 
                "# Set as follows: DOC.set_value(value)  \n", 
                "# Valid Choices: \n", 
                "#     True  \n", 
                "#     False  \n", 
                "# TODO - please enter value(s)", 
                "\n"
            ], 
            "outputs": [], 
            "metadata": {
                "collapsed": true
            }
        }, 
        {
            "source": [
                "### 6.8. N2 Exchange Type\n", 
                "**Is Required:** FALSE&nbsp;&nbsp;&nbsp;&nbsp;**Type:** STRING&nbsp;&nbsp;&nbsp;&nbsp;**Cardinality:** 0.1\n", 
                "### *Specify N2 gas exchange scheme type*"
            ], 
            "cell_type": "markdown", 
            "metadata": {}
        }, 
        {
            "execution_count": null, 
            "cell_type": "code", 
            "source": [
                "# PROPERTY ID - DO NOT EDIT !  \n", 
                "DOC.set_id('cmip6.ocnbgchem.key_properties.gas_exchange.N2_exchange_type')  \n", 
                "\n", 
                "# PROPERTY VALUE: \n", 
                "# Set as follows: DOC.set_value(\"value\")  \n", 
                "# TODO - please enter value(s)", 
                "\n"
            ], 
            "outputs": [], 
            "metadata": {
                "collapsed": true
            }
        }, 
        {
            "source": [
                "### 6.9. N2O Exchange Present\n", 
                "**Is Required:** TRUE&nbsp;&nbsp;&nbsp;&nbsp;**Type:** BOOLEAN&nbsp;&nbsp;&nbsp;&nbsp;**Cardinality:** 1.1\n", 
                "### *Is N2O gas exchange modeled ?*"
            ], 
            "cell_type": "markdown", 
            "metadata": {}
        }, 
        {
            "execution_count": null, 
            "cell_type": "code", 
            "source": [
                "# PROPERTY ID - DO NOT EDIT !  \n", 
                "DOC.set_id('cmip6.ocnbgchem.key_properties.gas_exchange.N2O_exchange_present')  \n", 
                "\n", 
                "# PROPERTY VALUE: \n", 
                "# Set as follows: DOC.set_value(value)  \n", 
                "# Valid Choices: \n", 
                "#     True  \n", 
                "#     False  \n", 
                "# TODO - please enter value(s)", 
                "\n"
            ], 
            "outputs": [], 
            "metadata": {
                "collapsed": true
            }
        }, 
        {
            "source": [
                "### 6.10. N2O Exchange Type\n", 
                "**Is Required:** FALSE&nbsp;&nbsp;&nbsp;&nbsp;**Type:** STRING&nbsp;&nbsp;&nbsp;&nbsp;**Cardinality:** 0.1\n", 
                "### *Specify N2O gas exchange scheme type*"
            ], 
            "cell_type": "markdown", 
            "metadata": {}
        }, 
        {
            "execution_count": null, 
            "cell_type": "code", 
            "source": [
                "# PROPERTY ID - DO NOT EDIT !  \n", 
                "DOC.set_id('cmip6.ocnbgchem.key_properties.gas_exchange.N2O_exchange_type')  \n", 
                "\n", 
                "# PROPERTY VALUE: \n", 
                "# Set as follows: DOC.set_value(\"value\")  \n", 
                "# TODO - please enter value(s)", 
                "\n"
            ], 
            "outputs": [], 
            "metadata": {
                "collapsed": true
            }
        }, 
        {
            "source": [
                "### 6.11. CFC11 Exchange Present\n", 
                "**Is Required:** TRUE&nbsp;&nbsp;&nbsp;&nbsp;**Type:** BOOLEAN&nbsp;&nbsp;&nbsp;&nbsp;**Cardinality:** 1.1\n", 
                "### *Is CFC11 gas exchange modeled ?*"
            ], 
            "cell_type": "markdown", 
            "metadata": {}
        }, 
        {
            "execution_count": null, 
            "cell_type": "code", 
            "source": [
                "# PROPERTY ID - DO NOT EDIT !  \n", 
                "DOC.set_id('cmip6.ocnbgchem.key_properties.gas_exchange.CFC11_exchange_present')  \n", 
                "\n", 
                "# PROPERTY VALUE: \n", 
                "# Set as follows: DOC.set_value(value)  \n", 
                "# Valid Choices: \n", 
                "#     True  \n", 
                "#     False  \n", 
                "# TODO - please enter value(s)", 
                "\n"
            ], 
            "outputs": [], 
            "metadata": {
                "collapsed": true
            }
        }, 
        {
            "source": [
                "### 6.12. CFC11 Exchange Type\n", 
                "**Is Required:** FALSE&nbsp;&nbsp;&nbsp;&nbsp;**Type:** STRING&nbsp;&nbsp;&nbsp;&nbsp;**Cardinality:** 0.1\n", 
                "### *Specify CFC11 gas exchange scheme type*"
            ], 
            "cell_type": "markdown", 
            "metadata": {}
        }, 
        {
            "execution_count": null, 
            "cell_type": "code", 
            "source": [
                "# PROPERTY ID - DO NOT EDIT !  \n", 
                "DOC.set_id('cmip6.ocnbgchem.key_properties.gas_exchange.CFC11_exchange_type')  \n", 
                "\n", 
                "# PROPERTY VALUE: \n", 
                "# Set as follows: DOC.set_value(\"value\")  \n", 
                "# TODO - please enter value(s)", 
                "\n"
            ], 
            "outputs": [], 
            "metadata": {
                "collapsed": true
            }
        }, 
        {
            "source": [
                "### 6.13. CFC12 Exchange Present\n", 
                "**Is Required:** TRUE&nbsp;&nbsp;&nbsp;&nbsp;**Type:** BOOLEAN&nbsp;&nbsp;&nbsp;&nbsp;**Cardinality:** 1.1\n", 
                "### *Is CFC12 gas exchange modeled ?*"
            ], 
            "cell_type": "markdown", 
            "metadata": {}
        }, 
        {
            "execution_count": null, 
            "cell_type": "code", 
            "source": [
                "# PROPERTY ID - DO NOT EDIT !  \n", 
                "DOC.set_id('cmip6.ocnbgchem.key_properties.gas_exchange.CFC12_exchange_present')  \n", 
                "\n", 
                "# PROPERTY VALUE: \n", 
                "# Set as follows: DOC.set_value(value)  \n", 
                "# Valid Choices: \n", 
                "#     True  \n", 
                "#     False  \n", 
                "# TODO - please enter value(s)", 
                "\n"
            ], 
            "outputs": [], 
            "metadata": {
                "collapsed": true
            }
        }, 
        {
            "source": [
                "### 6.14. CFC12 Exchange Type\n", 
                "**Is Required:** FALSE&nbsp;&nbsp;&nbsp;&nbsp;**Type:** STRING&nbsp;&nbsp;&nbsp;&nbsp;**Cardinality:** 0.1\n", 
                "### *Specify CFC12 gas exchange scheme type*"
            ], 
            "cell_type": "markdown", 
            "metadata": {}
        }, 
        {
            "execution_count": null, 
            "cell_type": "code", 
            "source": [
                "# PROPERTY ID - DO NOT EDIT !  \n", 
                "DOC.set_id('cmip6.ocnbgchem.key_properties.gas_exchange.CFC12_exchange_type')  \n", 
                "\n", 
                "# PROPERTY VALUE: \n", 
                "# Set as follows: DOC.set_value(\"value\")  \n", 
                "# TODO - please enter value(s)", 
                "\n"
            ], 
            "outputs": [], 
            "metadata": {
                "collapsed": true
            }
        }, 
        {
            "source": [
                "### 6.15. SF6 Exchange Present\n", 
                "**Is Required:** TRUE&nbsp;&nbsp;&nbsp;&nbsp;**Type:** BOOLEAN&nbsp;&nbsp;&nbsp;&nbsp;**Cardinality:** 1.1\n", 
                "### *Is SF6 gas exchange modeled ?*"
            ], 
            "cell_type": "markdown", 
            "metadata": {}
        }, 
        {
            "execution_count": null, 
            "cell_type": "code", 
            "source": [
                "# PROPERTY ID - DO NOT EDIT !  \n", 
                "DOC.set_id('cmip6.ocnbgchem.key_properties.gas_exchange.SF6_exchange_present')  \n", 
                "\n", 
                "# PROPERTY VALUE: \n", 
                "# Set as follows: DOC.set_value(value)  \n", 
                "# Valid Choices: \n", 
                "#     True  \n", 
                "#     False  \n", 
                "# TODO - please enter value(s)", 
                "\n"
            ], 
            "outputs": [], 
            "metadata": {
                "collapsed": true
            }
        }, 
        {
            "source": [
                "### 6.16. SF6 Exchange Type\n", 
                "**Is Required:** FALSE&nbsp;&nbsp;&nbsp;&nbsp;**Type:** STRING&nbsp;&nbsp;&nbsp;&nbsp;**Cardinality:** 0.1\n", 
                "### *Specify SF6 gas exchange scheme type*"
            ], 
            "cell_type": "markdown", 
            "metadata": {}
        }, 
        {
            "execution_count": null, 
            "cell_type": "code", 
            "source": [
                "# PROPERTY ID - DO NOT EDIT !  \n", 
                "DOC.set_id('cmip6.ocnbgchem.key_properties.gas_exchange.SF6_exchange_type')  \n", 
                "\n", 
                "# PROPERTY VALUE: \n", 
                "# Set as follows: DOC.set_value(\"value\")  \n", 
                "# TODO - please enter value(s)", 
                "\n"
            ], 
            "outputs": [], 
            "metadata": {
                "collapsed": true
            }
        }, 
        {
            "source": [
                "### 6.17. 13CO2 Exchange Present\n", 
                "**Is Required:** TRUE&nbsp;&nbsp;&nbsp;&nbsp;**Type:** BOOLEAN&nbsp;&nbsp;&nbsp;&nbsp;**Cardinality:** 1.1\n", 
                "### *Is 13CO2 gas exchange modeled ?*"
            ], 
            "cell_type": "markdown", 
            "metadata": {}
        }, 
        {
            "execution_count": null, 
            "cell_type": "code", 
            "source": [
                "# PROPERTY ID - DO NOT EDIT !  \n", 
                "DOC.set_id('cmip6.ocnbgchem.key_properties.gas_exchange.13CO2_exchange_present')  \n", 
                "\n", 
                "# PROPERTY VALUE: \n", 
                "# Set as follows: DOC.set_value(value)  \n", 
                "# Valid Choices: \n", 
                "#     True  \n", 
                "#     False  \n", 
                "# TODO - please enter value(s)", 
                "\n"
            ], 
            "outputs": [], 
            "metadata": {
                "collapsed": true
            }
        }, 
        {
            "source": [
                "### 6.18. 13CO2 Exchange Type\n", 
                "**Is Required:** FALSE&nbsp;&nbsp;&nbsp;&nbsp;**Type:** STRING&nbsp;&nbsp;&nbsp;&nbsp;**Cardinality:** 0.1\n", 
                "### *Specify 13CO2 gas exchange scheme type*"
            ], 
            "cell_type": "markdown", 
            "metadata": {}
        }, 
        {
            "execution_count": null, 
            "cell_type": "code", 
            "source": [
                "# PROPERTY ID - DO NOT EDIT !  \n", 
                "DOC.set_id('cmip6.ocnbgchem.key_properties.gas_exchange.13CO2_exchange_type')  \n", 
                "\n", 
                "# PROPERTY VALUE: \n", 
                "# Set as follows: DOC.set_value(\"value\")  \n", 
                "# TODO - please enter value(s)", 
                "\n"
            ], 
            "outputs": [], 
            "metadata": {
                "collapsed": true
            }
        }, 
        {
            "source": [
                "### 6.19. 14CO2 Exchange Present\n", 
                "**Is Required:** TRUE&nbsp;&nbsp;&nbsp;&nbsp;**Type:** BOOLEAN&nbsp;&nbsp;&nbsp;&nbsp;**Cardinality:** 1.1\n", 
                "### *Is 14CO2 gas exchange modeled ?*"
            ], 
            "cell_type": "markdown", 
            "metadata": {}
        }, 
        {
            "execution_count": null, 
            "cell_type": "code", 
            "source": [
                "# PROPERTY ID - DO NOT EDIT !  \n", 
                "DOC.set_id('cmip6.ocnbgchem.key_properties.gas_exchange.14CO2_exchange_present')  \n", 
                "\n", 
                "# PROPERTY VALUE: \n", 
                "# Set as follows: DOC.set_value(value)  \n", 
                "# Valid Choices: \n", 
                "#     True  \n", 
                "#     False  \n", 
                "# TODO - please enter value(s)", 
                "\n"
            ], 
            "outputs": [], 
            "metadata": {
                "collapsed": true
            }
        }, 
        {
            "source": [
                "### 6.20. 14CO2 Exchange Type\n", 
                "**Is Required:** FALSE&nbsp;&nbsp;&nbsp;&nbsp;**Type:** STRING&nbsp;&nbsp;&nbsp;&nbsp;**Cardinality:** 0.1\n", 
                "### *Specify 14CO2 gas exchange scheme type*"
            ], 
            "cell_type": "markdown", 
            "metadata": {}
        }, 
        {
            "execution_count": null, 
            "cell_type": "code", 
            "source": [
                "# PROPERTY ID - DO NOT EDIT !  \n", 
                "DOC.set_id('cmip6.ocnbgchem.key_properties.gas_exchange.14CO2_exchange_type')  \n", 
                "\n", 
                "# PROPERTY VALUE: \n", 
                "# Set as follows: DOC.set_value(\"value\")  \n", 
                "# TODO - please enter value(s)", 
                "\n"
            ], 
            "outputs": [], 
            "metadata": {
                "collapsed": true
            }
        }, 
        {
            "source": [
                "### 6.21. Other Gases\n", 
                "**Is Required:** FALSE&nbsp;&nbsp;&nbsp;&nbsp;**Type:** STRING&nbsp;&nbsp;&nbsp;&nbsp;**Cardinality:** 0.1\n", 
                "### *Specify any other gas exchange*"
            ], 
            "cell_type": "markdown", 
            "metadata": {}
        }, 
        {
            "execution_count": null, 
            "cell_type": "code", 
            "source": [
                "# PROPERTY ID - DO NOT EDIT !  \n", 
                "DOC.set_id('cmip6.ocnbgchem.key_properties.gas_exchange.other_gases')  \n", 
                "\n", 
                "# PROPERTY VALUE: \n", 
                "# Set as follows: DOC.set_value(\"value\")  \n", 
                "# TODO - please enter value(s)", 
                "\n"
            ], 
            "outputs": [], 
            "metadata": {
                "collapsed": true
            }
        }, 
        {
            "source": [
                "# 7. Key Properties --&gt; Carbon Chemistry  \n", 
                "*Properties of carbon chemistry biogeochemistry*"
            ], 
            "cell_type": "markdown", 
            "metadata": {}
        }, 
        {
            "source": [
                "### 7.1. Type\n", 
                "**Is Required:** TRUE&nbsp;&nbsp;&nbsp;&nbsp;**Type:** ENUM&nbsp;&nbsp;&nbsp;&nbsp;**Cardinality:** 1.1\n", 
                "### *Describe how carbon chemistry is modeled*"
            ], 
            "cell_type": "markdown", 
            "metadata": {}
        }, 
        {
            "execution_count": null, 
            "cell_type": "code", 
            "source": [
                "# PROPERTY ID - DO NOT EDIT !  \n", 
                "DOC.set_id('cmip6.ocnbgchem.key_properties.carbon_chemistry.type')  \n", 
                "\n", 
                "# PROPERTY VALUE: \n", 
                "# Set as follows: DOC.set_value(\"value\")  \n", 
                "# Valid Choices: \n", 
                "#      \"OMIP protocol\"  \n", 
                "#      \"Other protocol\"  \n", 
                "# TODO - please enter value(s)", 
                "\n"
            ], 
            "outputs": [], 
            "metadata": {
                "collapsed": true
            }
        }, 
        {
            "source": [
                "### 7.2. PH Scale\n", 
                "**Is Required:** FALSE&nbsp;&nbsp;&nbsp;&nbsp;**Type:** ENUM&nbsp;&nbsp;&nbsp;&nbsp;**Cardinality:** 0.1\n", 
                "### *If NOT OMIP protocol, describe pH scale.*"
            ], 
            "cell_type": "markdown", 
            "metadata": {}
        }, 
        {
            "execution_count": null, 
            "cell_type": "code", 
            "source": [
                "# PROPERTY ID - DO NOT EDIT !  \n", 
                "DOC.set_id('cmip6.ocnbgchem.key_properties.carbon_chemistry.pH_scale')  \n", 
                "\n", 
                "# PROPERTY VALUE: \n", 
                "# Set as follows: DOC.set_value(\"value\")  \n", 
                "# Valid Choices: \n", 
                "#      \"Sea water\"  \n", 
                "#      \"Free\"  \n", 
                "#      \"Other: [Please specify]\"  \n", 
                "# TODO - please enter value(s)", 
                "\n"
            ], 
            "outputs": [], 
            "metadata": {
                "collapsed": true
            }
        }, 
        {
            "source": [
                "### 7.3. Constants If Not OMIP\n", 
                "**Is Required:** FALSE&nbsp;&nbsp;&nbsp;&nbsp;**Type:** STRING&nbsp;&nbsp;&nbsp;&nbsp;**Cardinality:** 0.1\n", 
                "### *If NOT OMIP protocol, list carbon chemistry constants.*"
            ], 
            "cell_type": "markdown", 
            "metadata": {}
        }, 
        {
            "execution_count": null, 
            "cell_type": "code", 
            "source": [
                "# PROPERTY ID - DO NOT EDIT !  \n", 
                "DOC.set_id('cmip6.ocnbgchem.key_properties.carbon_chemistry.constants_if_not_OMIP')  \n", 
                "\n", 
                "# PROPERTY VALUE: \n", 
                "# Set as follows: DOC.set_value(\"value\")  \n", 
                "# TODO - please enter value(s)", 
                "\n"
            ], 
            "outputs": [], 
            "metadata": {
                "collapsed": true
            }
        }, 
        {
            "source": [
                "# 8. Tracers  \n", 
                "*Ocean biogeochemistry tracers*"
            ], 
            "cell_type": "markdown", 
            "metadata": {}
        }, 
        {
            "source": [
                "### 8.1. Overview\n", 
                "**Is Required:** TRUE&nbsp;&nbsp;&nbsp;&nbsp;**Type:** STRING&nbsp;&nbsp;&nbsp;&nbsp;**Cardinality:** 1.1\n", 
                "### *Overview of tracers in ocean biogeochemistry*"
            ], 
            "cell_type": "markdown", 
            "metadata": {}
        }, 
        {
            "execution_count": null, 
            "cell_type": "code", 
            "source": [
                "# PROPERTY ID - DO NOT EDIT !  \n", 
                "DOC.set_id('cmip6.ocnbgchem.tracers.overview')  \n", 
                "\n", 
                "# PROPERTY VALUE: \n", 
                "# Set as follows: DOC.set_value(\"value\")  \n", 
                "# TODO - please enter value(s)", 
                "\n"
            ], 
            "outputs": [], 
            "metadata": {
                "collapsed": true
            }
        }, 
        {
            "source": [
                "### 8.2. Sulfur Cycle Present\n", 
                "**Is Required:** TRUE&nbsp;&nbsp;&nbsp;&nbsp;**Type:** BOOLEAN&nbsp;&nbsp;&nbsp;&nbsp;**Cardinality:** 1.1\n", 
                "### *Is sulfur cycle modeled ?*"
            ], 
            "cell_type": "markdown", 
            "metadata": {}
        }, 
        {
            "execution_count": null, 
            "cell_type": "code", 
            "source": [
                "# PROPERTY ID - DO NOT EDIT !  \n", 
                "DOC.set_id('cmip6.ocnbgchem.tracers.sulfur_cycle_present')  \n", 
                "\n", 
                "# PROPERTY VALUE: \n", 
                "# Set as follows: DOC.set_value(value)  \n", 
                "# Valid Choices: \n", 
                "#     True  \n", 
                "#     False  \n", 
                "# TODO - please enter value(s)", 
                "\n"
            ], 
            "outputs": [], 
            "metadata": {
                "collapsed": true
            }
        }, 
        {
            "source": [
                "### 8.3. Nutrients Present\n", 
                "**Is Required:** TRUE&nbsp;&nbsp;&nbsp;&nbsp;**Type:** ENUM&nbsp;&nbsp;&nbsp;&nbsp;**Cardinality:** 1.N\n", 
                "### *List nutrient species present in ocean biogeochemistry model*"
            ], 
            "cell_type": "markdown", 
            "metadata": {}
        }, 
        {
            "execution_count": null, 
            "cell_type": "code", 
            "source": [
                "# PROPERTY ID - DO NOT EDIT !  \n", 
                "DOC.set_id('cmip6.ocnbgchem.tracers.nutrients_present')  \n", 
                "\n", 
                "# PROPERTY VALUE(S): \n", 
                "# Set as follows: DOC.set_value(\"value\")  \n", 
                "# Valid Choices: \n", 
                "#      \"Nitrogen (N)\"  \n", 
                "#      \"Phosphorous (P)\"  \n", 
                "#      \"Silicium (S)\"  \n", 
                "#      \"Iron (Fe)\"  \n", 
                "#      \"Other: [Please specify]\"  \n", 
                "# TODO - please enter value(s)", 
                "\n"
            ], 
            "outputs": [], 
            "metadata": {
                "collapsed": true
            }
        }, 
        {
            "source": [
                "### 8.4. Nitrous Species If N\n", 
                "**Is Required:** FALSE&nbsp;&nbsp;&nbsp;&nbsp;**Type:** ENUM&nbsp;&nbsp;&nbsp;&nbsp;**Cardinality:** 0.N\n", 
                "### *If nitrogen present, list nitrous species.*"
            ], 
            "cell_type": "markdown", 
            "metadata": {}
        }, 
        {
            "execution_count": null, 
            "cell_type": "code", 
            "source": [
                "# PROPERTY ID - DO NOT EDIT !  \n", 
                "DOC.set_id('cmip6.ocnbgchem.tracers.nitrous_species_if_N')  \n", 
                "\n", 
                "# PROPERTY VALUE(S): \n", 
                "# Set as follows: DOC.set_value(\"value\")  \n", 
                "# Valid Choices: \n", 
                "#      \"Nitrates (NO3)\"  \n", 
                "#      \"Amonium (NH4)\"  \n", 
                "#      \"Other: [Please specify]\"  \n", 
                "# TODO - please enter value(s)", 
                "\n"
            ], 
            "outputs": [], 
            "metadata": {
                "collapsed": true
            }
        }, 
        {
            "source": [
                "### 8.5. Nitrous Processes If N\n", 
                "**Is Required:** FALSE&nbsp;&nbsp;&nbsp;&nbsp;**Type:** ENUM&nbsp;&nbsp;&nbsp;&nbsp;**Cardinality:** 0.N\n", 
                "### *If nitrogen present, list nitrous processes.*"
            ], 
            "cell_type": "markdown", 
            "metadata": {}
        }, 
        {
            "execution_count": null, 
            "cell_type": "code", 
            "source": [
                "# PROPERTY ID - DO NOT EDIT !  \n", 
                "DOC.set_id('cmip6.ocnbgchem.tracers.nitrous_processes_if_N')  \n", 
                "\n", 
                "# PROPERTY VALUE(S): \n", 
                "# Set as follows: DOC.set_value(\"value\")  \n", 
                "# Valid Choices: \n", 
                "#      \"Dentrification\"  \n", 
                "#      \"N fixation\"  \n", 
                "#      \"Other: [Please specify]\"  \n", 
                "# TODO - please enter value(s)", 
                "\n"
            ], 
            "outputs": [], 
            "metadata": {
                "collapsed": true
            }
        }, 
        {
            "source": [
                "# 9. Tracers --&gt; Ecosystem  \n", 
                "*Ecosystem properties in ocean biogeochemistry*"
            ], 
            "cell_type": "markdown", 
            "metadata": {}
        }, 
        {
            "source": [
                "### 9.1. Upper Trophic Levels Definition\n", 
                "**Is Required:** TRUE&nbsp;&nbsp;&nbsp;&nbsp;**Type:** STRING&nbsp;&nbsp;&nbsp;&nbsp;**Cardinality:** 1.1\n", 
                "### *Definition of upper trophic level (e.g. based on size) ?*"
            ], 
            "cell_type": "markdown", 
            "metadata": {}
        }, 
        {
            "execution_count": null, 
            "cell_type": "code", 
            "source": [
                "# PROPERTY ID - DO NOT EDIT !  \n", 
                "DOC.set_id('cmip6.ocnbgchem.tracers.ecosystem.upper_trophic_levels_definition')  \n", 
                "\n", 
                "# PROPERTY VALUE: \n", 
                "# Set as follows: DOC.set_value(\"value\")  \n", 
                "# TODO - please enter value(s)", 
                "\n"
            ], 
            "outputs": [], 
            "metadata": {
                "collapsed": true
            }
        }, 
        {
            "source": [
                "### 9.2. Upper Trophic Levels Treatment\n", 
                "**Is Required:** TRUE&nbsp;&nbsp;&nbsp;&nbsp;**Type:** STRING&nbsp;&nbsp;&nbsp;&nbsp;**Cardinality:** 1.1\n", 
                "### *Define how upper trophic level are treated*"
            ], 
            "cell_type": "markdown", 
            "metadata": {}
        }, 
        {
            "execution_count": null, 
            "cell_type": "code", 
            "source": [
                "# PROPERTY ID - DO NOT EDIT !  \n", 
                "DOC.set_id('cmip6.ocnbgchem.tracers.ecosystem.upper_trophic_levels_treatment')  \n", 
                "\n", 
                "# PROPERTY VALUE: \n", 
                "# Set as follows: DOC.set_value(\"value\")  \n", 
                "# TODO - please enter value(s)", 
                "\n"
            ], 
            "outputs": [], 
            "metadata": {
                "collapsed": true
            }
        }, 
        {
            "source": [
                "# 10. Tracers --&gt; Ecosystem --&gt; Phytoplankton  \n", 
                "*Phytoplankton properties in ocean biogeochemistry*"
            ], 
            "cell_type": "markdown", 
            "metadata": {}
        }, 
        {
            "source": [
                "### 10.1. Type\n", 
                "**Is Required:** TRUE&nbsp;&nbsp;&nbsp;&nbsp;**Type:** ENUM&nbsp;&nbsp;&nbsp;&nbsp;**Cardinality:** 1.1\n", 
                "### *Type of phytoplankton*"
            ], 
            "cell_type": "markdown", 
            "metadata": {}
        }, 
        {
            "execution_count": null, 
            "cell_type": "code", 
            "source": [
                "# PROPERTY ID - DO NOT EDIT !  \n", 
                "DOC.set_id('cmip6.ocnbgchem.tracers.ecosystem.phytoplankton.type')  \n", 
                "\n", 
                "# PROPERTY VALUE: \n", 
                "# Set as follows: DOC.set_value(\"value\")  \n", 
                "# Valid Choices: \n", 
                "#      \"None\"  \n", 
                "#      \"Generic\"  \n", 
                "#      \"PFT including size based (specify both below)\"  \n", 
                "#      \"Size based only (specify below)\"  \n", 
                "#      \"PFT only (specify below)\"  \n", 
                "# TODO - please enter value(s)", 
                "\n"
            ], 
            "outputs": [], 
            "metadata": {
                "collapsed": true
            }
        }, 
        {
            "source": [
                "### 10.2. Pft\n", 
                "**Is Required:** FALSE&nbsp;&nbsp;&nbsp;&nbsp;**Type:** ENUM&nbsp;&nbsp;&nbsp;&nbsp;**Cardinality:** 0.N\n", 
                "### *Phytoplankton functional types (PFT) (if applicable)*"
            ], 
            "cell_type": "markdown", 
            "metadata": {}
        }, 
        {
            "execution_count": null, 
            "cell_type": "code", 
            "source": [
                "# PROPERTY ID - DO NOT EDIT !  \n", 
                "DOC.set_id('cmip6.ocnbgchem.tracers.ecosystem.phytoplankton.pft')  \n", 
                "\n", 
                "# PROPERTY VALUE(S): \n", 
                "# Set as follows: DOC.set_value(\"value\")  \n", 
                "# Valid Choices: \n", 
                "#      \"Diatoms\"  \n", 
                "#      \"Nfixers\"  \n", 
                "#      \"Calcifiers\"  \n", 
                "#      \"Other: [Please specify]\"  \n", 
                "# TODO - please enter value(s)", 
                "\n"
            ], 
            "outputs": [], 
            "metadata": {
                "collapsed": true
            }
        }, 
        {
            "source": [
                "### 10.3. Size Classes\n", 
                "**Is Required:** FALSE&nbsp;&nbsp;&nbsp;&nbsp;**Type:** ENUM&nbsp;&nbsp;&nbsp;&nbsp;**Cardinality:** 0.N\n", 
                "### *Phytoplankton size classes (if applicable)*"
            ], 
            "cell_type": "markdown", 
            "metadata": {}
        }, 
        {
            "execution_count": null, 
            "cell_type": "code", 
            "source": [
                "# PROPERTY ID - DO NOT EDIT !  \n", 
                "DOC.set_id('cmip6.ocnbgchem.tracers.ecosystem.phytoplankton.size_classes')  \n", 
                "\n", 
                "# PROPERTY VALUE(S): \n", 
                "# Set as follows: DOC.set_value(\"value\")  \n", 
                "# Valid Choices: \n", 
                "#      \"Microphytoplankton\"  \n", 
                "#      \"Nanophytoplankton\"  \n", 
                "#      \"Picophytoplankton\"  \n", 
                "#      \"Other: [Please specify]\"  \n", 
                "# TODO - please enter value(s)", 
                "\n"
            ], 
            "outputs": [], 
            "metadata": {
                "collapsed": true
            }
        }, 
        {
            "source": [
                "# 11. Tracers --&gt; Ecosystem --&gt; Zooplankton  \n", 
                "*Zooplankton properties in ocean biogeochemistry*"
            ], 
            "cell_type": "markdown", 
            "metadata": {}
        }, 
        {
            "source": [
                "### 11.1. Type\n", 
                "**Is Required:** TRUE&nbsp;&nbsp;&nbsp;&nbsp;**Type:** ENUM&nbsp;&nbsp;&nbsp;&nbsp;**Cardinality:** 1.1\n", 
                "### *Type of zooplankton*"
            ], 
            "cell_type": "markdown", 
            "metadata": {}
        }, 
        {
            "execution_count": null, 
            "cell_type": "code", 
            "source": [
                "# PROPERTY ID - DO NOT EDIT !  \n", 
                "DOC.set_id('cmip6.ocnbgchem.tracers.ecosystem.zooplankton.type')  \n", 
                "\n", 
                "# PROPERTY VALUE: \n", 
                "# Set as follows: DOC.set_value(\"value\")  \n", 
                "# Valid Choices: \n", 
                "#      \"None\"  \n", 
                "#      \"Generic\"  \n", 
                "#      \"Size based (specify below)\"  \n", 
                "#      \"Other: [Please specify]\"  \n", 
                "# TODO - please enter value(s)", 
                "\n"
            ], 
            "outputs": [], 
            "metadata": {
                "collapsed": true
            }
        }, 
        {
            "source": [
                "### 11.2. Size Classes\n", 
                "**Is Required:** FALSE&nbsp;&nbsp;&nbsp;&nbsp;**Type:** ENUM&nbsp;&nbsp;&nbsp;&nbsp;**Cardinality:** 0.N\n", 
                "### *Zooplankton size classes (if applicable)*"
            ], 
            "cell_type": "markdown", 
            "metadata": {}
        }, 
        {
            "execution_count": null, 
            "cell_type": "code", 
            "source": [
                "# PROPERTY ID - DO NOT EDIT !  \n", 
                "DOC.set_id('cmip6.ocnbgchem.tracers.ecosystem.zooplankton.size_classes')  \n", 
                "\n", 
                "# PROPERTY VALUE(S): \n", 
                "# Set as follows: DOC.set_value(\"value\")  \n", 
                "# Valid Choices: \n", 
                "#      \"Microzooplankton\"  \n", 
                "#      \"Mesozooplankton\"  \n", 
                "#      \"Other: [Please specify]\"  \n", 
                "# TODO - please enter value(s)", 
                "\n"
            ], 
            "outputs": [], 
            "metadata": {
                "collapsed": true
            }
        }, 
        {
            "source": [
                "# 12. Tracers --&gt; Disolved Organic Matter  \n", 
                "*Disolved organic matter properties in ocean biogeochemistry*"
            ], 
            "cell_type": "markdown", 
            "metadata": {}
        }, 
        {
            "source": [
                "### 12.1. Bacteria Present\n", 
                "**Is Required:** TRUE&nbsp;&nbsp;&nbsp;&nbsp;**Type:** BOOLEAN&nbsp;&nbsp;&nbsp;&nbsp;**Cardinality:** 1.1\n", 
                "### *Is there bacteria representation ?*"
            ], 
            "cell_type": "markdown", 
            "metadata": {}
        }, 
        {
            "execution_count": null, 
            "cell_type": "code", 
            "source": [
                "# PROPERTY ID - DO NOT EDIT !  \n", 
                "DOC.set_id('cmip6.ocnbgchem.tracers.disolved_organic_matter.bacteria_present')  \n", 
                "\n", 
                "# PROPERTY VALUE: \n", 
                "# Set as follows: DOC.set_value(value)  \n", 
                "# Valid Choices: \n", 
                "#     True  \n", 
                "#     False  \n", 
                "# TODO - please enter value(s)", 
                "\n"
            ], 
            "outputs": [], 
            "metadata": {
                "collapsed": true
            }
        }, 
        {
            "source": [
                "### 12.2. Lability\n", 
                "**Is Required:** TRUE&nbsp;&nbsp;&nbsp;&nbsp;**Type:** ENUM&nbsp;&nbsp;&nbsp;&nbsp;**Cardinality:** 1.1\n", 
                "### *Describe treatment of lability in dissolved organic matter*"
            ], 
            "cell_type": "markdown", 
            "metadata": {}
        }, 
        {
            "execution_count": null, 
            "cell_type": "code", 
            "source": [
                "# PROPERTY ID - DO NOT EDIT !  \n", 
                "DOC.set_id('cmip6.ocnbgchem.tracers.disolved_organic_matter.lability')  \n", 
                "\n", 
                "# PROPERTY VALUE: \n", 
                "# Set as follows: DOC.set_value(\"value\")  \n", 
                "# Valid Choices: \n", 
                "#      \"None\"  \n", 
                "#      \"Labile\"  \n", 
                "#      \"Semi-labile\"  \n", 
                "#      \"Refractory\"  \n", 
                "#      \"Other: [Please specify]\"  \n", 
                "# TODO - please enter value(s)", 
                "\n"
            ], 
            "outputs": [], 
            "metadata": {
                "collapsed": true
            }
        }, 
        {
            "source": [
                "# 13. Tracers --&gt; Particules  \n", 
                "*Particulate carbon properties in ocean biogeochemistry*"
            ], 
            "cell_type": "markdown", 
            "metadata": {}
        }, 
        {
            "source": [
                "### 13.1. Method\n", 
                "**Is Required:** TRUE&nbsp;&nbsp;&nbsp;&nbsp;**Type:** ENUM&nbsp;&nbsp;&nbsp;&nbsp;**Cardinality:** 1.1\n", 
                "### *How is particulate carbon represented in ocean biogeochemistry?*"
            ], 
            "cell_type": "markdown", 
            "metadata": {}
        }, 
        {
            "execution_count": null, 
            "cell_type": "code", 
            "source": [
                "# PROPERTY ID - DO NOT EDIT !  \n", 
                "DOC.set_id('cmip6.ocnbgchem.tracers.particules.method')  \n", 
                "\n", 
                "# PROPERTY VALUE: \n", 
                "# Set as follows: DOC.set_value(\"value\")  \n", 
                "# Valid Choices: \n", 
                "#      \"Diagnostic\"  \n", 
                "#      \"Diagnostic (Martin profile)\"  \n", 
                "#      \"Diagnostic (Balast)\"  \n", 
                "#      \"Prognostic\"  \n", 
                "#      \"Other: [Please specify]\"  \n", 
                "# TODO - please enter value(s)", 
                "\n"
            ], 
            "outputs": [], 
            "metadata": {
                "collapsed": true
            }
        }, 
        {
            "source": [
                "### 13.2. Types If Prognostic\n", 
                "**Is Required:** FALSE&nbsp;&nbsp;&nbsp;&nbsp;**Type:** ENUM&nbsp;&nbsp;&nbsp;&nbsp;**Cardinality:** 0.N\n", 
                "### *If prognostic, type(s) of particulate matter taken into account*"
            ], 
            "cell_type": "markdown", 
            "metadata": {}
        }, 
        {
            "execution_count": null, 
            "cell_type": "code", 
            "source": [
                "# PROPERTY ID - DO NOT EDIT !  \n", 
                "DOC.set_id('cmip6.ocnbgchem.tracers.particules.types_if_prognostic')  \n", 
                "\n", 
                "# PROPERTY VALUE(S): \n", 
                "# Set as follows: DOC.set_value(\"value\")  \n", 
                "# Valid Choices: \n", 
                "#      \"POC\"  \n", 
                "#      \"PIC (calcite)\"  \n", 
                "#      \"PIC (aragonite\"  \n", 
                "#      \"BSi\"  \n", 
                "#      \"Other: [Please specify]\"  \n", 
                "# TODO - please enter value(s)", 
                "\n"
            ], 
            "outputs": [], 
            "metadata": {
                "collapsed": true
            }
        }, 
        {
            "source": [
                "### 13.3. Size If Prognostic\n", 
                "**Is Required:** FALSE&nbsp;&nbsp;&nbsp;&nbsp;**Type:** ENUM&nbsp;&nbsp;&nbsp;&nbsp;**Cardinality:** 0.1\n", 
                "### *If prognostic, describe if a particule size spectrum is used to represent distribution of particules in water volume*"
            ], 
            "cell_type": "markdown", 
            "metadata": {}
        }, 
        {
            "execution_count": null, 
            "cell_type": "code", 
            "source": [
                "# PROPERTY ID - DO NOT EDIT !  \n", 
                "DOC.set_id('cmip6.ocnbgchem.tracers.particules.size_if_prognostic')  \n", 
                "\n", 
                "# PROPERTY VALUE: \n", 
                "# Set as follows: DOC.set_value(\"value\")  \n", 
                "# Valid Choices: \n", 
                "#      \"No size spectrum used\"  \n", 
                "#      \"Full size spectrum\"  \n", 
                "#      \"Discrete size classes (specify which below)\"  \n", 
                "# TODO - please enter value(s)", 
                "\n"
            ], 
            "outputs": [], 
            "metadata": {
                "collapsed": true
            }
        }, 
        {
            "source": [
                "### 13.4. Size If Discrete\n", 
                "**Is Required:** FALSE&nbsp;&nbsp;&nbsp;&nbsp;**Type:** STRING&nbsp;&nbsp;&nbsp;&nbsp;**Cardinality:** 0.1\n", 
                "### *If prognostic and discrete size, describe which size classes are used*"
            ], 
            "cell_type": "markdown", 
            "metadata": {}
        }, 
        {
            "execution_count": null, 
            "cell_type": "code", 
            "source": [
                "# PROPERTY ID - DO NOT EDIT !  \n", 
                "DOC.set_id('cmip6.ocnbgchem.tracers.particules.size_if_discrete')  \n", 
                "\n", 
                "# PROPERTY VALUE: \n", 
                "# Set as follows: DOC.set_value(\"value\")  \n", 
                "# TODO - please enter value(s)", 
                "\n"
            ], 
            "outputs": [], 
            "metadata": {
                "collapsed": true
            }
        }, 
        {
            "source": [
                "### 13.5. Sinking Speed If Prognostic\n", 
                "**Is Required:** FALSE&nbsp;&nbsp;&nbsp;&nbsp;**Type:** ENUM&nbsp;&nbsp;&nbsp;&nbsp;**Cardinality:** 0.1\n", 
                "### *If prognostic, method for calculation of sinking speed of particules*"
            ], 
            "cell_type": "markdown", 
            "metadata": {}
        }, 
        {
            "execution_count": null, 
            "cell_type": "code", 
            "source": [
                "# PROPERTY ID - DO NOT EDIT !  \n", 
                "DOC.set_id('cmip6.ocnbgchem.tracers.particules.sinking_speed_if_prognostic')  \n", 
                "\n", 
                "# PROPERTY VALUE: \n", 
                "# Set as follows: DOC.set_value(\"value\")  \n", 
                "# Valid Choices: \n", 
                "#      \"Constant\"  \n", 
                "#      \"Function of particule size\"  \n", 
                "#      \"Function of particule type (balast)\"  \n", 
                "#      \"Other: [Please specify]\"  \n", 
                "# TODO - please enter value(s)", 
                "\n"
            ], 
            "outputs": [], 
            "metadata": {
                "collapsed": true
            }
        }, 
        {
            "source": [
                "# 14. Tracers --&gt; Dic Alkalinity  \n", 
                "*DIC and alkalinity properties in ocean biogeochemistry*"
            ], 
            "cell_type": "markdown", 
            "metadata": {}
        }, 
        {
            "source": [
                "### 14.1. Carbon Isotopes\n", 
                "**Is Required:** TRUE&nbsp;&nbsp;&nbsp;&nbsp;**Type:** ENUM&nbsp;&nbsp;&nbsp;&nbsp;**Cardinality:** 1.N\n", 
                "### *Which carbon isotopes are modelled (C13, C14)?*"
            ], 
            "cell_type": "markdown", 
            "metadata": {}
        }, 
        {
            "execution_count": null, 
            "cell_type": "code", 
            "source": [
                "# PROPERTY ID - DO NOT EDIT !  \n", 
                "DOC.set_id('cmip6.ocnbgchem.tracers.dic_alkalinity.carbon_isotopes')  \n", 
                "\n", 
                "# PROPERTY VALUE(S): \n", 
                "# Set as follows: DOC.set_value(\"value\")  \n", 
                "# Valid Choices: \n", 
                "#      \"C13\"  \n", 
                "#      \"C14)\"  \n", 
                "# TODO - please enter value(s)", 
                "\n"
            ], 
            "outputs": [], 
            "metadata": {
                "collapsed": true
            }
        }, 
        {
            "source": [
                "### 14.2. Abiotic Carbon\n", 
                "**Is Required:** TRUE&nbsp;&nbsp;&nbsp;&nbsp;**Type:** BOOLEAN&nbsp;&nbsp;&nbsp;&nbsp;**Cardinality:** 1.1\n", 
                "### *Is abiotic carbon modelled ?*"
            ], 
            "cell_type": "markdown", 
            "metadata": {}
        }, 
        {
            "execution_count": null, 
            "cell_type": "code", 
            "source": [
                "# PROPERTY ID - DO NOT EDIT !  \n", 
                "DOC.set_id('cmip6.ocnbgchem.tracers.dic_alkalinity.abiotic_carbon')  \n", 
                "\n", 
                "# PROPERTY VALUE: \n", 
                "# Set as follows: DOC.set_value(value)  \n", 
                "# Valid Choices: \n", 
                "#     True  \n", 
                "#     False  \n", 
                "# TODO - please enter value(s)", 
                "\n"
            ], 
            "outputs": [], 
            "metadata": {
                "collapsed": true
            }
        }, 
        {
            "source": [
                "### 14.3. Alkalinity\n", 
                "**Is Required:** TRUE&nbsp;&nbsp;&nbsp;&nbsp;**Type:** ENUM&nbsp;&nbsp;&nbsp;&nbsp;**Cardinality:** 1.1\n", 
                "### *How is alkalinity modelled ?*"
            ], 
            "cell_type": "markdown", 
            "metadata": {}
        }, 
        {
            "execution_count": null, 
            "cell_type": "code", 
            "source": [
                "# PROPERTY ID - DO NOT EDIT !  \n", 
                "DOC.set_id('cmip6.ocnbgchem.tracers.dic_alkalinity.alkalinity')  \n", 
                "\n", 
                "# PROPERTY VALUE: \n", 
                "# Set as follows: DOC.set_value(\"value\")  \n", 
                "# Valid Choices: \n", 
                "#      \"Prognostic\"  \n", 
                "#      \"Diagnostic)\"  \n", 
                "# TODO - please enter value(s)", 
                "\n"
            ], 
            "outputs": [], 
            "metadata": {
                "collapsed": true
            }
        }, 
        {
            "source": [
                "### \u00a92017 [ES-DOC](https://es-doc.org)  \n"
            ], 
            "cell_type": "markdown", 
            "metadata": {}
        }
    ], 
    "metadata": {
        "kernelspec": {
            "display_name": "Python 2", 
            "name": "python2", 
            "language": "python"
        }, 
        "language_info": {
            "mimetype": "text/x-python", 
            "nbconvert_exporter": "python", 
            "name": "python", 
            "file_extension": ".py", 
            "version": "2.7.10", 
            "pygments_lexer": "ipython2", 
            "codemirror_mode": {
                "version": 2, 
                "name": "ipython"
            }
        }
    }
}