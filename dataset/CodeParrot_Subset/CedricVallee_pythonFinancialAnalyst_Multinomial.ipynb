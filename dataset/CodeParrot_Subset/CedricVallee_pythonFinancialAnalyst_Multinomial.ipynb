{
 "cells": [
  {
   "cell_type": "code",
   "execution_count": 28,
   "metadata": {
    "collapsed": true
   },
   "outputs": [],
   "source": [
    "# Load packages\n",
    "import pandas as pd\n",
    "from sklearn.cross_validation import train_test_split\n",
    "from sklearn.feature_extraction.text import CountVectorizer\n",
    "from sklearn.naive_bayes import MultinomialNB"
   ]
  },
  {
   "cell_type": "code",
   "execution_count": 29,
   "metadata": {
    "collapsed": false
   },
   "outputs": [
    {
     "name": "stdout",
     "output_type": "stream",
     "text": [
      "      ggroup                                           Filename  \\\n",
      "0       2030  1994_Q1_100885_UNION PACIFIC CORP_10-K_1994-03-29   \n",
      "1       2010  1994_Q1_101829_UNITED TECHNOLOGIES CORP -DE-_1...   \n",
      "2       2010            1994_Q1_12927_BOEING CO_10-K_1994-03-17   \n",
      "3       2010  1994_Q1_15840_BUTLER MANUFACTURING CO_10-K_199...   \n",
      "4       2010      1994_Q1_18230_CATERPILLAR INC_10-K_1994-03-02   \n",
      "5       2010         1994_Q1_217346_TEXTRON INC_10-K_1994-03-30   \n",
      "6       2010  1994_Q1_26172_CUMMINS ENGINE CO INC_10-K_1994-...   \n",
      "7       2010    1994_Q1_277135_GRAINGER W W INC_10-K_1994-03-28   \n",
      "8       2010  1994_Q1_277509_FEDERAL SIGNAL CORP -DE-_10-K_1...   \n",
      "9       2030  1994_Q1_278041_INTERNATIONAL SHIPHOLDING CORP_...   \n",
      "10      2020          1994_Q1_27996_DELUXE CORP_10-K_1994-03-31   \n",
      "11      2020  1994_Q1_310431_CBI INDUSTRIES INC -DE-_10-K_19...   \n",
      "12      2020  1994_Q1_315213_HALF ROBERT INTERNATIONAL INC -...   \n",
      "13      2010  1994_Q1_33619_ESTERLINE TECHNOLOGIES CORP_10-K...   \n",
      "14      2010  1994_Q1_40533_GENERAL DYNAMICS CORP_10-K_1994-...   \n",
      "15      2010  1994_Q1_40545_GENERAL ELECTRIC CO_10-K_1994-03-11   \n",
      "16      2020    1994_Q1_45599_HARLAND JOHN H CO_10-K_1994-03-30   \n",
      "17      2010          1994_Q1_45876_HARSCO CORP_10-K_1994-03-29   \n",
      "18      2010        1994_Q1_48305_HONEYWELL INC_10-K_1994-03-08   \n",
      "19      2010          1994_Q1_48898_HUBBELL INC_10-K_1994-03-25   \n",
      "20      2010  1994_Q1_49826_ILLINOIS TOOL WORKS INC_10-K_199...   \n",
      "21      2020           1994_Q1_52466_IONICS INC_10-K_1994-03-29   \n",
      "22      2010           1994_Q1_54381_KAMAN CORP_10-K_1994-03-11   \n",
      "23      2020   1994_Q1_55135_KELLY SERVICES INC_10-K_1994-03-14   \n",
      "24      2030           1994_Q1_56047_KIRBY CORP_10-K_1994-03-15   \n",
      "25      2010      1994_Q1_62996_MASCO CORP -DE-_10-K_1994-03-25   \n",
      "26      2030  1994_Q1_700674_AIR EXPRESS INTERNATIONAL CORP ...   \n",
      "27      2030  1994_Q1_702165_NORFOLK SOUTHERN CORP_10-K_1994...   \n",
      "28      2020  1994_Q1_714278_INFORMATION RESOURCES INC_10-K_...   \n",
      "29      2010         1994_Q1_72331_NORDSON CORP_10-K_1994-01-28   \n",
      "...      ...                                                ...   \n",
      "5277    2010  2014_Q4_1423221_Quanex Building Products CORP_...   \n",
      "5278    2020           2014_Q4_1546640_ADT Corp_10-K_2014-11-12   \n",
      "5279    2020         2014_Q4_25212_COURIER Corp_10-K_2014-12-01   \n",
      "5280    2010      2014_Q4_26076_CUBIC CORP -DE-_10-K_2014-11-26   \n",
      "5281    2010  2014_Q4_32604_EMERSON ELECTRIC CO_10-K_2014-11-19   \n",
      "5282    2010  2014_Q4_33619_ESTERLINE TECHNOLOGIES CORP_10-K...   \n",
      "5283    2010           2014_Q4_46619_HEICO CORP_10-K_2014-12-18   \n",
      "5284    2010         2014_Q4_50725_GRIFFON CORP_10-K_2014-11-13   \n",
      "5285    2010  2014_Q4_52988_JACOBS ENGINEERING GROUP INC -DE...   \n",
      "5286    2020  2014_Q4_63296_MATTHEWS INTERNATIONAL CORP_10-K...   \n",
      "5287    2010  2014_Q4_64472_GENCOR INDUSTRIES INC_10-K_2014-...   \n",
      "5288    2010            2014_Q4_67887_MOOG INC._10-K_2014-11-10   \n",
      "5289    2010          2014_Q4_6955_ACTUANT CORP_10-K_2014-10-27   \n",
      "5290    2020       2014_Q4_717954_UNIFIRST CORP_10-K_2014-10-29   \n",
      "5291    2010         2014_Q4_72331_NORDSON CORP_10-K_2014-12-15   \n",
      "5292    2010             2014_Q4_737758_TORO CO_10-K_2014-12-22   \n",
      "5293    2010  2014_Q4_764401_INSTEEL INDUSTRIES INC_10-K_201...   \n",
      "5294    2020  2014_Q4_771497_ABM INDUSTRIES INC -DE-_10-K_20...   \n",
      "5295    2010        2014_Q4_775158_OSHKOSH CORP_10-K_2014-11-13   \n",
      "5296    2010      2014_Q4_801898_JOY GLOBAL INC_10-K_2014-12-19   \n",
      "5297    2010  2014_Q4_80420_POWELL INDUSTRIES INC_10-K_2014-...   \n",
      "5298    2010  2014_Q4_808450_NAVISTAR INTERNATIONAL CORP_10-...   \n",
      "5299    2020      2014_Q4_831641_TETRA TECH INC_10-K_2014-11-19   \n",
      "5300    2020  2014_Q4_833444_TYCO INTERNATIONAL LTD_10-K_201...   \n",
      "5301    2010  2014_Q4_866706_ESCO TECHNOLOGIES INC_10-K_2014...   \n",
      "5302    2010  2014_Q4_868857_AECOM TECHNOLOGY CORP_10-K_2014...   \n",
      "5303    2010  2014_Q4_883902_NCI BUILDING SYSTEMS INC_10-K_2...   \n",
      "5304    2020   2014_Q4_886206_FRANKLIN COVEY CO_10-K_2014-11-14   \n",
      "5305    2010  2014_Q4_906193_KEY TECHNOLOGY INC_10-K_2014-12-12   \n",
      "5306    2010  2014_Q4_923120_GREENBRIER COMPANIES INC_10-K_2...   \n",
      "\n",
      "                                                    MDA  \n",
      "0     Item Management s Discussion and Analysis of F...  \n",
      "1     Item Management s Discussion and Analysis of R...  \n",
      "2     Item Management s Discussion and Analysis of F...  \n",
      "3     Item Management s Discussion and Analysis of F...  \n",
      "4     ITEM MANAGEMENT S DISCUSSION AND ANALYSIS OF F...  \n",
      "5     ITEM MANAGEMENT S DISCUSSION AND ANALYSIS OF F...  \n",
      "6     ITEM MANAGEMENT S DISCUSSION AND ANALYSIS OF R...  \n",
      "7     Item Management s Discussion and Analysis of F...  \n",
      "8     Item Management s Discussion and Analysis of F...  \n",
      "9     ITEM MANAGEMENT S DISCUSSION AND ANALYSIS OF F...  \n",
      "10    Item Management s Discussion and Analysis of F...  \n",
      "11    Item Management s Discussion and Analysis of F...  \n",
      "12    ITEM MANAGEMENT S DISCUSSION AND ANALYSIS OF F...  \n",
      "13    ITEM MANAGEMENT S DISCUSSION AND ANALYSIS OF F...  \n",
      "14    ITEM MANAGEMENT S DISCUSSION AND ANALYSIS OF F...  \n",
      "15    Item Management s Discussion and Analysis of F...  \n",
      "16    ITEM MANAGEMENT S DISCUSSION AND ANALYSIS OF F...  \n",
      "17    Item Management s Discussion of Financial Cond...  \n",
      "18    ITEM MANAGEMENT S DISCUSSION AND ANALYSIS OF F...  \n",
      "19    Item Management s Discussion and Analysis of F...  \n",
      "20    ITEM MANAGEMENT S DISCUSSION AND ANALYSIS OF F...  \n",
      "21    Item MANAGEMENT S DISCUSSION AND ANALYSIS OF F...  \n",
      "22    Item Management s Discussion and Analysis of F...  \n",
      "23    ITEM MANAGEMENT S DISCUSSION AND ANALYSIS OF F...  \n",
      "24    ITEM MANAGEMENT S DISCUSSION AND ANALYSIS OF F...  \n",
      "25    ITEM MANAGEMENT S DISCUSSION AND ANALYSIS OF F...  \n",
      "26    Item Management s Discussion and Analysis of F...  \n",
      "27    Item Management s Discussion and Analysis of F...  \n",
      "28    ITEM MANAGEMENT S DISCUSSION AND ANALYSIS OF F...  \n",
      "29    Item Management s Discussion and Analysis of F...  \n",
      "...                                                 ...  \n",
      "5277  Item Management s Discussion and Analysis of F...  \n",
      "5278   Table of Contents Item Management s Discussio...  \n",
      "5279  Item Management s Discussion and Analysis of F...  \n",
      "5280  Item MANAGEMENT S DISCUSSION AND ANALYSIS OF F...  \n",
      "5281  ITEM MANAGEMENT S DISCUSSION AND ANALYSIS OF F...  \n",
      "5282  Item Management s Discussion and Analysis of F...  \n",
      "5283   Index Item MANAGEMENT S DISCUSSION AND ANALYS...  \n",
      "5284  Item Management s Discussion and Analysis of F...  \n",
      "5285   Table of Contents Item MANAGEMENT S DISCUSSIO...  \n",
      "5286  ITEM MANAGEMENT S DISCUSSION AND ANALYSIS cont...  \n",
      "5287  ITEM MANAGEMENT S DISCUSSION AND ANALYSIS OF F...  \n",
      "5288  Item Management s Discussion and Analysis of F...  \n",
      "5289   Table of Contents Item Management s Discussio...  \n",
      "5290   ITEM MANAGEMENT S DISCUSSION AND ANALYSIS OF ...  \n",
      "5291   Management s Discussion and Analysis of Finan...  \n",
      "5292  ITEM MANAGEMENT S DISCUSSION AND ANALYSIS OF F...  \n",
      "5293  Item Management s Discussion and Analysis of F...  \n",
      "5294  ITEM MANAGEMENT S DISCUSSION AND ANALYSIS OF F...  \n",
      "5295  ITEM MANAGEMENT S DISCUSSION AND ANALYSIS OF F...  \n",
      "5296   Item Management s Discussion and Analysis of ...  \n",
      "5297   Payments Due by Period Payments Due by Period...  \n",
      "5298   Item Management s Discussion and Analysis of ...  \n",
      "5299  Item Management s Discussion and Analysis of F...  \n",
      "5300   Table of Contents Item Management s Discussio...  \n",
      "5301   Filtration PTI Technologies Inc PTI VACCO Ind...  \n",
      "5302  ITEM MANAGEMENT S DISCUSSION AND ANALYSIS OF F...  \n",
      "5303  Item Management s Discussion and Analysis of F...  \n",
      "5304  ITEM MANAGEMENT S DISCUSSION AND ANALYSIS OF F...  \n",
      "5305  ITEM MANAGEMENT S DISCUSSION AND ANALYSIS OF F...  \n",
      "5306  Item MANAGEMENT S DISCUSSION AND ANALYSIS OF F...  \n",
      "\n",
      "[5307 rows x 3 columns]\n"
     ]
    }
   ],
   "source": [
    "# Load MS Excel file\n",
    "dataset=pd.read_excel('matrix.xlsx')\n",
    "dataset=dataset[['ggroup','Filename','MDA']]\n",
    "print(dataset)"
   ]
  },
  {
   "cell_type": "code",
   "execution_count": 30,
   "metadata": {
    "collapsed": false
   },
   "outputs": [],
   "source": [
    "# Split the dataset in train/test ratio: 0.20\n",
    "train_set, test_set = train_test_split(dataset, test_size = 0.20)"
   ]
  },
  {
   "cell_type": "code",
   "execution_count": 31,
   "metadata": {
    "collapsed": true
   },
   "outputs": [],
   "source": [
    "# Create the classifier\n",
    "vectorizer = CountVectorizer(stop_words=\"english\")\n",
    "counts = vectorizer.fit_transform(train_set.MDA.values)\n",
    "classifier = MultinomialNB(fit_prior=\"False\")"
   ]
  },
  {
   "cell_type": "code",
   "execution_count": 32,
   "metadata": {
    "collapsed": false
   },
   "outputs": [
    {
     "data": {
      "text/plain": [
       "MultinomialNB(alpha=1.0, class_prior=None, fit_prior='False')"
      ]
     },
     "execution_count": 32,
     "metadata": {},
     "output_type": "execute_result"
    }
   ],
   "source": [
    "# Train the classifier\n",
    "classifier.fit(counts, train_set.ggroup)"
   ]
  },
  {
   "cell_type": "code",
   "execution_count": 33,
   "metadata": {
    "collapsed": false
   },
   "outputs": [
    {
     "name": "stdout",
     "output_type": "stream",
     "text": [
      "Predicted  2010  2020  2030   All\n",
      "Actual                           \n",
      "2010        607    55     5   667\n",
      "2020         19   213     1   233\n",
      "2030         15     9   138   162\n",
      "All         641   277   144  1062\n"
     ]
    }
   ],
   "source": [
    "# Test the classifier\n",
    "predictions = classifier.predict(vectorizer.transform(test_set.MDA.values)) \n",
    "test_set_pred = pd.Series(predictions, index=test_set.index)\n",
    "\n",
    "tab = pd.crosstab(test_set.ggroup, test_set_pred, rownames=['Actual'], colnames=['Predicted'], margins=True) # Print confusion matrix\n",
    "print(tab)"
   ]
  },
  {
   "cell_type": "code",
   "execution_count": null,
   "metadata": {
    "collapsed": true
   },
   "outputs": [],
   "source": []
  }
 ],
 "metadata": {
  "kernelspec": {
   "display_name": "Python 2",
   "language": "python",
   "name": "python2"
  },
  "language_info": {
   "codemirror_mode": {
    "name": "ipython",
    "version": 2
   },
   "file_extension": ".py",
   "mimetype": "text/x-python",
   "name": "python",
   "nbconvert_exporter": "python",
   "pygments_lexer": "ipython2",
   "version": "2.7.11"
  }
 },
 "nbformat": 4,
 "nbformat_minor": 0
}
