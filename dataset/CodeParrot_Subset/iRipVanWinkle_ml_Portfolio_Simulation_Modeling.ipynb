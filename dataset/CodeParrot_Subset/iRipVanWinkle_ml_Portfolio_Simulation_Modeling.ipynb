{
 "cells": [
  {
   "cell_type": "markdown",
   "metadata": {},
   "source": [
    "# Portfolio Simulation Modeling"
   ]
  },
  {
   "cell_type": "markdown",
   "metadata": {},
   "source": [
    "## Download Data\n",
    "#### Download S&P 500 index data from Yahoo Finance"
   ]
  },
  {
   "cell_type": "code",
   "execution_count": 78,
   "metadata": {
    "collapsed": false,
    "scrolled": true
   },
   "outputs": [],
   "source": [
    "import pandas as pd\n",
    "import pandas.io.data as web\n",
    "import matplotlib.pyplot as plt\n",
    "import datetime as datetime\n",
    "from numpy import *\n",
    "%matplotlib inline"
   ]
  },
  {
   "cell_type": "markdown",
   "metadata": {},
   "source": [
    "Set start date, end date and data source ('Yahoo Finance', 'Google Finance', etc.). Download S&P 500 index data from Yahoo Finance."
   ]
  },
  {
   "cell_type": "code",
   "execution_count": 79,
   "metadata": {
    "collapsed": false,
    "scrolled": true
   },
   "outputs": [
    {
     "data": {
      "text/html": [
       "<div>\n",
       "<table border=\"1\" class=\"dataframe\">\n",
       "  <thead>\n",
       "    <tr style=\"text-align: right;\">\n",
       "      <th></th>\n",
       "      <th>Date</th>\n",
       "      <th>Open</th>\n",
       "      <th>High</th>\n",
       "      <th>Low</th>\n",
       "      <th>Close</th>\n",
       "      <th>Adj Close</th>\n",
       "      <th>Volume</th>\n",
       "    </tr>\n",
       "    <tr>\n",
       "      <th>Date</th>\n",
       "      <th></th>\n",
       "      <th></th>\n",
       "      <th></th>\n",
       "      <th></th>\n",
       "      <th></th>\n",
       "      <th></th>\n",
       "      <th></th>\n",
       "    </tr>\n",
       "  </thead>\n",
       "  <tbody>\n",
       "    <tr>\n",
       "      <th>1976-01-02</th>\n",
       "      <td>1976-01-02</td>\n",
       "      <td>90.190002</td>\n",
       "      <td>91.180000</td>\n",
       "      <td>89.809998</td>\n",
       "      <td>90.900002</td>\n",
       "      <td>90.900002</td>\n",
       "      <td>10300000</td>\n",
       "    </tr>\n",
       "    <tr>\n",
       "      <th>1976-01-05</th>\n",
       "      <td>1976-01-05</td>\n",
       "      <td>90.900002</td>\n",
       "      <td>92.839996</td>\n",
       "      <td>90.849998</td>\n",
       "      <td>92.580002</td>\n",
       "      <td>92.580002</td>\n",
       "      <td>21960000</td>\n",
       "    </tr>\n",
       "    <tr>\n",
       "      <th>1976-01-06</th>\n",
       "      <td>1976-01-06</td>\n",
       "      <td>92.580002</td>\n",
       "      <td>94.180000</td>\n",
       "      <td>92.370003</td>\n",
       "      <td>93.529999</td>\n",
       "      <td>93.529999</td>\n",
       "      <td>31270000</td>\n",
       "    </tr>\n",
       "    <tr>\n",
       "      <th>1976-01-07</th>\n",
       "      <td>1976-01-07</td>\n",
       "      <td>93.529999</td>\n",
       "      <td>95.150002</td>\n",
       "      <td>92.910004</td>\n",
       "      <td>93.949997</td>\n",
       "      <td>93.949997</td>\n",
       "      <td>33170000</td>\n",
       "    </tr>\n",
       "    <tr>\n",
       "      <th>1976-01-08</th>\n",
       "      <td>1976-01-08</td>\n",
       "      <td>93.949997</td>\n",
       "      <td>95.470001</td>\n",
       "      <td>93.410004</td>\n",
       "      <td>94.580002</td>\n",
       "      <td>94.580002</td>\n",
       "      <td>29030000</td>\n",
       "    </tr>\n",
       "  </tbody>\n",
       "</table>\n",
       "</div>"
      ],
      "text/plain": [
       "                  Date       Open       High        Low      Close  Adj Close  \\\n",
       "Date                                                                            \n",
       "1976-01-02  1976-01-02  90.190002  91.180000  89.809998  90.900002  90.900002   \n",
       "1976-01-05  1976-01-05  90.900002  92.839996  90.849998  92.580002  92.580002   \n",
       "1976-01-06  1976-01-06  92.580002  94.180000  92.370003  93.529999  93.529999   \n",
       "1976-01-07  1976-01-07  93.529999  95.150002  92.910004  93.949997  93.949997   \n",
       "1976-01-08  1976-01-08  93.949997  95.470001  93.410004  94.580002  94.580002   \n",
       "\n",
       "              Volume  \n",
       "Date                  \n",
       "1976-01-02  10300000  \n",
       "1976-01-05  21960000  \n",
       "1976-01-06  31270000  \n",
       "1976-01-07  33170000  \n",
       "1976-01-08  29030000  "
      ]
     },
     "execution_count": 79,
     "metadata": {},
     "output_type": "execute_result"
    }
   ],
   "source": [
    "start_date = datetime.date(1976,1,1)\n",
    "end_date = datetime.date(2017,1,1)\n",
    "# Download S&P 500 index data\n",
    "try:\n",
    "    SnP500_Ddata = web.DataReader('^GSPC','yahoo',start_date,end_date)\n",
    "except:\n",
    "    SnP500_Ddata = pd.read_csv(\"http://analytics.romanko.ca/data/SP500_hist.csv\")\n",
    "    SnP500_Ddata.index = pd.to_datetime(SnP500_Ddata.Date)\n",
    "SnP500_Ddata.head()"
   ]
  },
  {
   "cell_type": "markdown",
   "metadata": {},
   "source": [
    "#### Transform daily data into annual data:"
   ]
  },
  {
   "cell_type": "code",
   "execution_count": 80,
   "metadata": {
    "collapsed": false,
    "scrolled": true
   },
   "outputs": [
    {
     "data": {
      "text/html": [
       "<div>\n",
       "<table border=\"1\" class=\"dataframe\">\n",
       "  <thead>\n",
       "    <tr style=\"text-align: right;\">\n",
       "      <th></th>\n",
       "      <th>Volume</th>\n",
       "      <th>Adj Close</th>\n",
       "    </tr>\n",
       "    <tr>\n",
       "      <th>Date</th>\n",
       "      <th></th>\n",
       "      <th></th>\n",
       "    </tr>\n",
       "  </thead>\n",
       "  <tbody>\n",
       "    <tr>\n",
       "      <th>2012-12-31</th>\n",
       "      <td>3204330000</td>\n",
       "      <td>1426.189941</td>\n",
       "    </tr>\n",
       "    <tr>\n",
       "      <th>2013-12-31</th>\n",
       "      <td>2312840000</td>\n",
       "      <td>1848.359985</td>\n",
       "    </tr>\n",
       "    <tr>\n",
       "      <th>2014-12-31</th>\n",
       "      <td>2606070000</td>\n",
       "      <td>2058.899902</td>\n",
       "    </tr>\n",
       "    <tr>\n",
       "      <th>2015-12-31</th>\n",
       "      <td>2655330000</td>\n",
       "      <td>2043.939941</td>\n",
       "    </tr>\n",
       "    <tr>\n",
       "      <th>2016-12-31</th>\n",
       "      <td>2670900000</td>\n",
       "      <td>2238.830078</td>\n",
       "    </tr>\n",
       "  </tbody>\n",
       "</table>\n",
       "</div>"
      ],
      "text/plain": [
       "                Volume    Adj Close\n",
       "Date                               \n",
       "2012-12-31  3204330000  1426.189941\n",
       "2013-12-31  2312840000  1848.359985\n",
       "2014-12-31  2606070000  2058.899902\n",
       "2015-12-31  2655330000  2043.939941\n",
       "2016-12-31  2670900000  2238.830078"
      ]
     },
     "execution_count": 80,
     "metadata": {},
     "output_type": "execute_result"
    }
   ],
   "source": [
    "# Create a time-series of annual data points from daily data\n",
    "SnP500_Adata = SnP500_Ddata.resample('A').last()\n",
    "SnP500_Adata[['Volume','Adj Close']].tail()"
   ]
  },
  {
   "cell_type": "markdown",
   "metadata": {},
   "source": [
    "#### Compute annual return of S&P 500 index:"
   ]
  },
  {
   "cell_type": "code",
   "execution_count": 81,
   "metadata": {
    "collapsed": false,
    "scrolled": true
   },
   "outputs": [
    {
     "name": "stdout",
     "output_type": "stream",
     "text": [
      "Date\n",
      "1977-12-31   -0.115020\n",
      "1978-12-31    0.010620\n",
      "1979-12-31    0.123088\n",
      "1980-12-31    0.257736\n",
      "1981-12-31   -0.097304\n",
      "1982-12-31    0.147613\n",
      "1983-12-31    0.172710\n",
      "1984-12-31    0.014006\n",
      "1985-12-31    0.263334\n",
      "1986-12-31    0.146204\n",
      "1987-12-31    0.020275\n",
      "1988-12-31    0.124008\n",
      "1989-12-31    0.272505\n",
      "1990-12-31   -0.065591\n",
      "1991-12-31    0.263067\n",
      "1992-12-31    0.044643\n",
      "1993-12-31    0.070552\n",
      "1994-12-31   -0.015393\n",
      "1995-12-31    0.341107\n",
      "1996-12-31    0.202637\n",
      "1997-12-31    0.310082\n",
      "1998-12-31    0.266686\n",
      "1999-12-31    0.195260\n",
      "2000-12-31   -0.101392\n",
      "2001-12-31   -0.130427\n",
      "2002-12-31   -0.233660\n",
      "2003-12-31    0.263804\n",
      "2004-12-31    0.089935\n",
      "2005-12-31    0.030010\n",
      "2006-12-31    0.136194\n",
      "2007-12-31    0.035296\n",
      "2008-12-31   -0.384858\n",
      "2009-12-31    0.234542\n",
      "2010-12-31    0.127827\n",
      "2011-12-31   -0.000032\n",
      "2012-12-31    0.134057\n",
      "2013-12-31    0.296012\n",
      "2014-12-31    0.113906\n",
      "2015-12-31   -0.007266\n",
      "2016-12-31    0.095350\n",
      "Freq: A-DEC, Name: returns, dtype: float64\n"
     ]
    }
   ],
   "source": [
    "SnP500_Adata[['Adj Close']] = SnP500_Adata[['Adj Close']].apply(pd.to_numeric, errors='ignore')\n",
    "SnP500_Adata['returns'] = SnP500_Adata['Adj Close'] / SnP500_Adata['Adj Close'].shift(1) -1\n",
    "SnP500_Adata = SnP500_Adata.dropna()\n",
    "print SnP500_Adata['returns']"
   ]
  },
  {
   "cell_type": "markdown",
   "metadata": {},
   "source": [
    "#### Compute average annual return and standard deviation of return for S&P 500 index:"
   ]
  },
  {
   "cell_type": "code",
   "execution_count": 82,
   "metadata": {
    "collapsed": false
   },
   "outputs": [
    {
     "name": "stdout",
     "output_type": "stream",
     "text": [
      "S&P 500 average return = 9.13031%, st. dev  = 15.8073%\n"
     ]
    }
   ],
   "source": [
    "SnP500_mean_ret = float(SnP500_Adata[['returns']].mean())\n",
    "SnP500_std_ret = float(SnP500_Adata[['returns']].std())\n",
    "print (\"S&P 500 average return = %g%%, st. dev  = %g%%\") % (100*SnP500_mean_ret, 100*SnP500_std_ret)"
   ]
  },
  {
   "cell_type": "markdown",
   "metadata": {},
   "source": [
    "## Simulation Example 1"
   ]
  },
  {
   "cell_type": "markdown",
   "metadata": {},
   "source": [
    "We want to invest \\$1000 in the US stock market for 1 year: $v_0 = 1000$"
   ]
  },
  {
   "cell_type": "code",
   "execution_count": 83,
   "metadata": {
    "collapsed": true
   },
   "outputs": [],
   "source": [
    "v0 = 1000 # Initial capital"
   ]
  },
  {
   "cell_type": "markdown",
   "metadata": {},
   "source": [
    "In our example we assume that the return of the market over the next year follow Normal distribution.\n",
    "\n",
    "Between 1977 and 2014, S&P 500 returned 9.38% per year on average with a standard deviation of 16.15%.\n",
    "\n",
    "Generate 100 scenarios for the market return over the next year (draw 100 random numbers from a Normal distribution with mean 9.38% and standard deviation of 16.15%):"
   ]
  },
  {
   "cell_type": "code",
   "execution_count": 84,
   "metadata": {
    "collapsed": false
   },
   "outputs": [
    {
     "data": {
      "text/plain": [
       "array([-0.01238517,  0.26551319,  0.12050935, -0.14274842, -0.04177976,\n",
       "        0.39895354, -0.03824214, -0.22761098,  0.11755653,  0.08573296,\n",
       "        0.19937247, -0.00171866,  0.04072682, -0.01189156,  0.3362564 ,\n",
       "       -0.21669386, -0.38799112,  0.18485995,  0.04754443,  0.11693826,\n",
       "        0.07614133, -0.1062223 , -0.07852525,  0.14853333,  0.33711094,\n",
       "        0.10422203,  0.14578936, -0.14485968, -0.00211176,  0.39213514,\n",
       "        0.12256484, -0.08522198,  0.16713441,  0.18741692, -0.00061099,\n",
       "        0.15956528, -0.11670832, -0.02210576,  0.11262091,  0.00328012,\n",
       "        0.06576472,  0.13523109,  0.29724132, -0.12922588, -0.01354248,\n",
       "        0.17589712, -0.04148897, -0.23096135,  0.16538584, -0.3160094 ,\n",
       "        0.33628253, -0.10127971,  0.08717314, -0.20843334,  0.24726468,\n",
       "        0.01839252,  0.13707443, -0.08166534,  0.13717431,  0.34053443,\n",
       "       -0.06250905, -0.08706011,  0.19035904,  0.25749463,  0.07955175,\n",
       "        0.19434696,  0.06719778, -0.00841847,  0.15456418, -0.12648744,\n",
       "        0.08077283,  0.33980726, -0.05637986,  0.20951367,  0.30166443,\n",
       "        0.032435  ,  0.22411126,  0.16199499, -0.03617882,  0.16548387,\n",
       "        0.09362067, -0.1357435 ,  0.16220185,  0.1383636 , -0.02506051,\n",
       "        0.36854717, -0.05416744,  0.13716198,  0.31453671,  0.24717374,\n",
       "       -0.09648866,  0.10130499,  0.27721024, -0.10564058, -0.01471735,\n",
       "        0.23465512, -0.02991651,  0.01113203,  0.00540451, -0.17196068])"
      ]
     },
     "execution_count": 84,
     "metadata": {},
     "output_type": "execute_result"
    }
   ],
   "source": [
    "Ns = 100 # Number of scenarios\n",
    "r01 = random.normal(SnP500_mean_ret, SnP500_std_ret, Ns)\n",
    "r01"
   ]
  },
  {
   "cell_type": "markdown",
   "metadata": {},
   "source": [
    "Value of investment at the end of year 1:\n",
    "$v_1 = v_0 + r_{0,1}\\cdot v_0 = (1 + r_{0,1})\\cdot v_0$"
   ]
  },
  {
   "cell_type": "code",
   "execution_count": 85,
   "metadata": {
    "collapsed": false
   },
   "outputs": [
    {
     "data": {
      "text/plain": [
       "array([  987.61482528,  1265.51318878,  1120.50934834,   857.25157777,\n",
       "         958.22024362,  1398.95353975,   961.75785649,   772.38901654,\n",
       "        1117.55653085,  1085.73295589,  1199.37246505,   998.28134396,\n",
       "        1040.72682365,   988.10844466,  1336.25639969,   783.30614099,\n",
       "         612.00887912,  1184.85995012,  1047.54443287,  1116.93826371,\n",
       "        1076.14132752,   893.77770311,   921.47475209,  1148.53333485,\n",
       "        1337.11093821,  1104.22202826,  1145.78936276,   855.14032225,\n",
       "         997.88824334,  1392.13513616,  1122.56484447,   914.77802253,\n",
       "        1167.13441442,  1187.41691736,   999.38901008,  1159.56528341,\n",
       "         883.29167977,   977.89424069,  1112.62090557,  1003.28011909,\n",
       "        1065.76472251,  1135.23108898,  1297.24132031,   870.77412167,\n",
       "         986.45751643,  1175.89711637,   958.5110295 ,   769.03865222,\n",
       "        1165.38583865,   683.99060244,  1336.28253363,   898.72028598,\n",
       "        1087.17313836,   791.56666208,  1247.26468432,  1018.39251755,\n",
       "        1137.07442819,   918.33465719,  1137.1743069 ,  1340.534432  ,\n",
       "         937.49094981,   912.93989015,  1190.35904151,  1257.4946254 ,\n",
       "        1079.55174622,  1194.34696311,  1067.19778023,   991.58153197,\n",
       "        1154.5641834 ,   873.51256292,  1080.77282554,  1339.80726245,\n",
       "         943.62014017,  1209.51367391,  1301.66442695,  1032.43500447,\n",
       "        1224.11125943,  1161.99499245,   963.82118088,  1165.48386619,\n",
       "        1093.62067447,   864.25649811,  1162.20184993,  1138.36360412,\n",
       "         974.93949394,  1368.54716733,   945.83255726,  1137.1619761 ,\n",
       "        1314.53671406,  1247.1737412 ,   903.51133691,  1101.30499341,\n",
       "        1277.21023968,   894.35941561,   985.28264519,  1234.65511713,\n",
       "         970.08349118,  1011.13203092,  1005.40450597,   828.03931612])"
      ]
     },
     "execution_count": 85,
     "metadata": {},
     "output_type": "execute_result"
    }
   ],
   "source": [
    "# Distribution of value at the end of year 1\n",
    "v1 = (r01 + 1) * v0\n",
    "v1"
   ]
  },
  {
   "cell_type": "markdown",
   "metadata": {},
   "source": [
    "Mean:"
   ]
  },
  {
   "cell_type": "code",
   "execution_count": 86,
   "metadata": {
    "collapsed": false
   },
   "outputs": [
    {
     "data": {
      "text/plain": [
       "1067.9374174412631"
      ]
     },
     "execution_count": 86,
     "metadata": {},
     "output_type": "execute_result"
    }
   ],
   "source": [
    "mean(v1)"
   ]
  },
  {
   "cell_type": "markdown",
   "metadata": {},
   "source": [
    "Standard deviation: "
   ]
  },
  {
   "cell_type": "code",
   "execution_count": 87,
   "metadata": {
    "collapsed": false
   },
   "outputs": [
    {
     "data": {
      "text/plain": [
       "163.56702482311968"
      ]
     },
     "execution_count": 87,
     "metadata": {},
     "output_type": "execute_result"
    }
   ],
   "source": [
    "std(v1)"
   ]
  },
  {
   "cell_type": "markdown",
   "metadata": {},
   "source": [
    "Minimum, maximum: "
   ]
  },
  {
   "cell_type": "code",
   "execution_count": 88,
   "metadata": {
    "collapsed": false
   },
   "outputs": [
    {
     "data": {
      "text/plain": [
       "(612.00887912029145, 1398.9535397528282)"
      ]
     },
     "execution_count": 88,
     "metadata": {},
     "output_type": "execute_result"
    }
   ],
   "source": [
    "min(v1), max(v1)"
   ]
  },
  {
   "cell_type": "markdown",
   "metadata": {},
   "source": [
    "Persentiles\n",
    "\n",
    "5th percentile, median, 95th percentile:"
   ]
  },
  {
   "cell_type": "code",
   "execution_count": 89,
   "metadata": {
    "collapsed": false
   },
   "outputs": [
    {
     "data": {
      "text/plain": [
       "array([  791.15363603,  1080.16228588,  1337.24575442])"
      ]
     },
     "execution_count": 89,
     "metadata": {},
     "output_type": "execute_result"
    }
   ],
   "source": [
    "percentile(v1, [5, 50,95])"
   ]
  },
  {
   "cell_type": "markdown",
   "metadata": {},
   "source": [
    "Alternative way to compute percentiles\n",
    "\n",
    "5th percentile, median, 95th percentile:"
   ]
  },
  {
   "cell_type": "code",
   "execution_count": 90,
   "metadata": {
    "collapsed": false
   },
   "outputs": [
    {
     "data": {
      "text/plain": [
       "(783.30614098874196, 1079.5517462159646, 1337.1109382129714)"
      ]
     },
     "execution_count": 90,
     "metadata": {},
     "output_type": "execute_result"
    }
   ],
   "source": [
    "sortedScen = sorted(v1)   # Sort scenarios\n",
    "sortedScen[5-1], sortedScen[50-1], sortedScen[95-1]"
   ]
  },
  {
   "cell_type": "markdown",
   "metadata": {},
   "source": [
    "Plot a histogram of the distribution of outcomes for v1:"
   ]
  },
  {
   "cell_type": "code",
   "execution_count": 91,
   "metadata": {
    "collapsed": false,
    "scrolled": true
   },
   "outputs": [
    {
     "data": {
      "image/png": "[encoded data removed]",
      "text/plain": [
       "<matplotlib.figure.Figure at 0x7f6c5c0ebb10>"
      ]
     },
     "metadata": {},
     "output_type": "display_data"
    }
   ],
   "source": [
    "hist, bins = histogram(v1)\n",
    "positions = (bins[:-1] + bins[1:]) / 2\n",
    "plt.bar(positions, hist, width=60)\n",
    "plt.xlabel('portfolio value after 1 year')\n",
    "plt.ylabel('frequency')\n",
    "plt.show()"
   ]
  },
  {
   "cell_type": "markdown",
   "metadata": {},
   "source": [
    "Simulated paths over time:"
   ]
  },
  {
   "cell_type": "code",
   "execution_count": 92,
   "metadata": {
    "collapsed": false
   },
   "outputs": [
    {
     "data": {
      "image/png": "[encoded data removed]",
      "text/plain": [
       "<matplotlib.figure.Figure at 0x7f6c4d4a0650>"
      ]
     },
     "metadata": {},
     "output_type": "display_data"
    }
   ],
   "source": [
    "# Plot simulated paths over time\n",
    "for res in v1:\n",
    "    plt.plot((0,1), (v0, res))\n",
    "plt.xlabel('time step')\n",
    "plt.ylabel('portfolio value')\n",
    "plt.show()"
   ]
  },
  {
   "cell_type": "markdown",
   "metadata": {
    "collapsed": true
   },
   "source": [
    "# Simulation Example 2"
   ]
  },
  {
   "cell_type": "markdown",
   "metadata": {
    "collapsed": true
   },
   "source": [
    "You are planning for retirement and decide to invest in the market for the next 30 years (instead of only the next year as in example 1).\n",
    "\n",
    "Assume that every year your investment returns from investing into the        S&P 500 will follow a Normal distribution with the mean and standard deviation as in example 1.\n",
    "\n",
    "Your initial capital is still \\$1000"
   ]
  },
  {
   "cell_type": "code",
   "execution_count": 93,
   "metadata": {
    "collapsed": true
   },
   "outputs": [],
   "source": [
    "v0 = 1000 # Initial capital"
   ]
  },
  {
   "cell_type": "markdown",
   "metadata": {},
   "source": [
    "Between 1977 and 2014, S&P 500 returned 9.38% per year on average with a standard deviation of 16.15%\n",
    "Simulate 30 columns of 100 observations each of single period returns:"
   ]
  },
  {
   "cell_type": "code",
   "execution_count": 94,
   "metadata": {
    "collapsed": false
   },
   "outputs": [
    {
     "data": {
      "text/plain": [
       "array([[-0.27285485, -0.006935  , -0.0101025 , ...,  0.03304577,\n",
       "         0.187185  ,  0.22997199],\n",
       "       [ 0.13763737,  0.01706496,  0.38933684, ...,  0.40079969,\n",
       "         0.08947382,  0.02410985],\n",
       "       [ 0.06776747,  0.26355395,  0.21173347, ...,  0.03464522,\n",
       "         0.06159513,  0.04127322],\n",
       "       ..., \n",
       "       [ 0.47489008, -0.18459152,  0.14817538, ...,  0.14354497,\n",
       "         0.07564415,  0.24085406],\n",
       "       [-0.02221353,  0.3444806 ,  0.07884434, ...,  0.25827233,\n",
       "        -0.06371246,  0.09849279],\n",
       "       [-0.04462351,  0.05422174,  0.23578598, ...,  0.33485102,\n",
       "         0.1285475 ,  0.1702835 ]])"
      ]
     },
     "execution_count": 94,
     "metadata": {},
     "output_type": "execute_result"
    }
   ],
   "source": [
    "r_speriod30  = random.normal(SnP500_mean_ret, SnP500_std_ret, (Ns, 30))\n",
    "r_speriod30"
   ]
  },
  {
   "cell_type": "markdown",
   "metadata": {},
   "source": [
    "Compute and plot $v_{30}$\n"
   ]
  },
  {
   "cell_type": "code",
   "execution_count": 95,
   "metadata": {
    "collapsed": false
   },
   "outputs": [
    {
     "data": {
      "image/png": "[encoded data removed]",
      "text/plain": [
       "<matplotlib.figure.Figure at 0x7f6c5c3a2190>"
      ]
     },
     "metadata": {},
     "output_type": "display_data"
    }
   ],
   "source": [
    "v30 = prod(1 + r_speriod30 , 1) * v0\n",
    "\n",
    "hist, bins = histogram(v30)\n",
    "positions = (bins[:-1] + bins[1:]) / 2\n",
    "width = (bins[1] - bins[0]) * 0.8\n",
    "plt.bar(positions, hist, width=width)\n",
    "plt.xlabel('portfolio value after 30 years')\n",
    "plt.ylabel('frequency')\n",
    "plt.show()"
   ]
  },
  {
   "cell_type": "markdown",
   "metadata": {},
   "source": [
    "Simulated paths over time:"
   ]
  },
  {
   "cell_type": "code",
   "execution_count": 96,
   "metadata": {
    "collapsed": false
   },
   "outputs": [
    {
     "data": {
      "image/png": "[encoded data removed]",
      "text/plain": [
       "<matplotlib.figure.Figure at 0x7f6c5cfc00d0>"
      ]
     },
     "metadata": {},
     "output_type": "display_data"
    }
   ],
   "source": [
    "for scenario in r_speriod30:\n",
    "    y = [prod(1 + scenario[0:i]) * v0 for i in range(0,31)]\n",
    "    plt.plot(range(0,31), y)\n",
    "plt.xlabel('time step')\n",
    "plt.ylabel('portfolio value')\n",
    "plt.show()"
   ]
  },
  {
   "cell_type": "markdown",
   "metadata": {},
   "source": [
    "## Simulation Example 3\n",
    "#### Download US Treasury bill data from Federal Reserve:"
   ]
  },
  {
   "cell_type": "code",
   "execution_count": 97,
   "metadata": {
    "collapsed": false,
    "scrolled": true
   },
   "outputs": [
    {
     "data": {
      "text/html": [
       "<div>\n",
       "<table border=\"1\" class=\"dataframe\">\n",
       "  <thead>\n",
       "    <tr style=\"text-align: right;\">\n",
       "      <th></th>\n",
       "      <th>DTB3</th>\n",
       "    </tr>\n",
       "    <tr>\n",
       "      <th>DATE</th>\n",
       "      <th></th>\n",
       "    </tr>\n",
       "  </thead>\n",
       "  <tbody>\n",
       "    <tr>\n",
       "      <th>1977-01-03</th>\n",
       "      <td>4.39</td>\n",
       "    </tr>\n",
       "    <tr>\n",
       "      <th>1977-01-04</th>\n",
       "      <td>4.49</td>\n",
       "    </tr>\n",
       "    <tr>\n",
       "      <th>1977-01-05</th>\n",
       "      <td>4.47</td>\n",
       "    </tr>\n",
       "    <tr>\n",
       "      <th>1977-01-06</th>\n",
       "      <td>4.50</td>\n",
       "    </tr>\n",
       "    <tr>\n",
       "      <th>1977-01-07</th>\n",
       "      <td>4.62</td>\n",
       "    </tr>\n",
       "  </tbody>\n",
       "</table>\n",
       "</div>"
      ],
      "text/plain": [
       "            DTB3\n",
       "DATE            \n",
       "1977-01-03  4.39\n",
       "1977-01-04  4.49\n",
       "1977-01-05  4.47\n",
       "1977-01-06  4.50\n",
       "1977-01-07  4.62"
      ]
     },
     "execution_count": 97,
     "metadata": {},
     "output_type": "execute_result"
    }
   ],
   "source": [
    "# Download 3-month T-bill rates from Federal Reserve\n",
    "start_date_b = datetime.date(1977,1,1)\n",
    "end_date_b = datetime.date(2017,1,1)\n",
    "TBill_Ddata = web.DataReader('DTB3','fred',start_date_b,end_date_b)\n",
    "TBill_Ddata.head()"
   ]
  },
  {
   "cell_type": "markdown",
   "metadata": {},
   "source": [
    "#### Transform daily data into annual data:"
   ]
  },
  {
   "cell_type": "code",
   "execution_count": 98,
   "metadata": {
    "collapsed": false,
    "scrolled": true
   },
   "outputs": [
    {
     "data": {
      "text/html": [
       "<div>\n",
       "<table border=\"1\" class=\"dataframe\">\n",
       "  <thead>\n",
       "    <tr style=\"text-align: right;\">\n",
       "      <th></th>\n",
       "      <th>DTB3</th>\n",
       "    </tr>\n",
       "    <tr>\n",
       "      <th>DATE</th>\n",
       "      <th></th>\n",
       "    </tr>\n",
       "  </thead>\n",
       "  <tbody>\n",
       "    <tr>\n",
       "      <th>2012-12-31</th>\n",
       "      <td>0.05</td>\n",
       "    </tr>\n",
       "    <tr>\n",
       "      <th>2013-12-31</th>\n",
       "      <td>0.07</td>\n",
       "    </tr>\n",
       "    <tr>\n",
       "      <th>2014-12-31</th>\n",
       "      <td>0.04</td>\n",
       "    </tr>\n",
       "    <tr>\n",
       "      <th>2015-12-31</th>\n",
       "      <td>0.16</td>\n",
       "    </tr>\n",
       "    <tr>\n",
       "      <th>2016-12-31</th>\n",
       "      <td>0.50</td>\n",
       "    </tr>\n",
       "  </tbody>\n",
       "</table>\n",
       "</div>"
      ],
      "text/plain": [
       "            DTB3\n",
       "DATE            \n",
       "2012-12-31  0.05\n",
       "2013-12-31  0.07\n",
       "2014-12-31  0.04\n",
       "2015-12-31  0.16\n",
       "2016-12-31  0.50"
      ]
     },
     "execution_count": 98,
     "metadata": {},
     "output_type": "execute_result"
    }
   ],
   "source": [
    "# Create a time-series of annual data points from daily data\n",
    "TBill_Adata = TBill_Ddata.resample('A').last()\n",
    "TBill_Adata[['DTB3']].tail()"
   ]
  },
  {
   "cell_type": "markdown",
   "metadata": {},
   "source": [
    "#### Compute annual return for bonds:"
   ]
  },
  {
   "cell_type": "code",
   "execution_count": 99,
   "metadata": {
    "collapsed": false,
    "scrolled": true
   },
   "outputs": [
    {
     "name": "stdout",
     "output_type": "stream",
     "text": [
      "DATE\n",
      "1977-12-31    0.0613\n",
      "1978-12-31    0.0926\n",
      "1979-12-31    0.1204\n",
      "1980-12-31    0.1430\n",
      "1981-12-31    0.1108\n",
      "1982-12-31    0.0792\n",
      "1983-12-31    0.0897\n",
      "1984-12-31    0.0785\n",
      "1985-12-31    0.0705\n",
      "1986-12-31    0.0567\n",
      "1987-12-31    0.0568\n",
      "1988-12-31    0.0810\n",
      "1989-12-31    0.0755\n",
      "1990-12-31    0.0644\n",
      "1991-12-31    0.0388\n",
      "1992-12-31    0.0308\n",
      "1993-12-31    0.0301\n",
      "1994-12-31    0.0553\n",
      "1995-12-31    0.0496\n",
      "1996-12-31    0.0507\n",
      "1997-12-31    0.0522\n",
      "1998-12-31    0.0437\n",
      "1999-12-31    0.0517\n",
      "2000-12-31    0.0573\n",
      "2001-12-31    0.0171\n",
      "2002-12-31    0.0120\n",
      "2003-12-31    0.0093\n",
      "2004-12-31    0.0218\n",
      "2005-12-31    0.0399\n",
      "2006-12-31    0.0489\n",
      "2007-12-31    0.0329\n",
      "2008-12-31    0.0011\n",
      "2009-12-31    0.0006\n",
      "2010-12-31    0.0012\n",
      "2011-12-31    0.0002\n",
      "2012-12-31    0.0005\n",
      "2013-12-31    0.0007\n",
      "2014-12-31    0.0004\n",
      "2015-12-31    0.0016\n",
      "2016-12-31    0.0050\n",
      "Freq: A-DEC, Name: returns, dtype: float64\n"
     ]
    }
   ],
   "source": [
    "TBill_Adata['returns'] = TBill_Adata['DTB3'] / 100\n",
    "TBill_Adata = TBill_Adata.dropna()\n",
    "print TBill_Adata['returns']"
   ]
  },
  {
   "cell_type": "markdown",
   "metadata": {},
   "source": [
    "#### Compute average annual return and standard deviation of return for bonds:"
   ]
  },
  {
   "cell_type": "code",
   "execution_count": 100,
   "metadata": {
    "collapsed": false
   },
   "outputs": [
    {
     "name": "stdout",
     "output_type": "stream",
     "text": [
      "T-bill average return = 4.5845%, st. dev  = 3.64866%\n"
     ]
    }
   ],
   "source": [
    "TBill_mean_ret = float(TBill_Adata[['returns']].mean())\n",
    "TBill_std_ret = float(TBill_Adata[['returns']].std())\n",
    "print (\"T-bill average return = %g%%, st. dev  = %g%%\") % (100*TBill_mean_ret, 100*TBill_std_ret)"
   ]
  },
  {
   "cell_type": "markdown",
   "metadata": {},
   "source": [
    "#### Compute covariance matrix:"
   ]
  },
  {
   "cell_type": "code",
   "execution_count": 101,
   "metadata": {
    "collapsed": false
   },
   "outputs": [
    {
     "data": {
      "text/plain": [
       "array([[ 0.024987  ,  0.00080272],\n",
       "       [ 0.00080272,  0.00133127]])"
      ]
     },
     "execution_count": 101,
     "metadata": {},
     "output_type": "execute_result"
    }
   ],
   "source": [
    "covMat = cov(array(SnP500_Adata[['returns']]),array(TBill_Adata[['returns']]),rowvar=0)\n",
    "covMat"
   ]
  },
  {
   "cell_type": "markdown",
   "metadata": {},
   "source": [
    "#### Simulate portfolio:"
   ]
  },
  {
   "cell_type": "code",
   "execution_count": 102,
   "metadata": {
    "collapsed": false,
    "scrolled": true
   },
   "outputs": [],
   "source": [
    "v0 = 1000 # Initial capital\n",
    "Ns = 5000 # Number of scenarios"
   ]
  },
  {
   "cell_type": "code",
   "execution_count": 103,
   "metadata": {
    "collapsed": false
   },
   "outputs": [
    {
     "data": {
      "text/plain": [
       "[0.09130311413356892, 0.045845000000000004]"
      ]
     },
     "execution_count": 103,
     "metadata": {},
     "output_type": "execute_result"
    }
   ],
   "source": [
    "mu = [SnP500_mean_ret, TBill_mean_ret] # Expected return\n",
    "mu"
   ]
  },
  {
   "cell_type": "code",
   "execution_count": 104,
   "metadata": {
    "collapsed": false
   },
   "outputs": [],
   "source": [
    "stockRet = ones(Ns)\n",
    "bondsRet = ones(Ns)"
   ]
  },
  {
   "cell_type": "code",
   "execution_count": 105,
   "metadata": {
    "collapsed": true
   },
   "outputs": [],
   "source": [
    "scenarios = random.multivariate_normal(mu, covMat, Ns)\n",
    "for year in range(1, 31):\n",
    "    scenarios = random.multivariate_normal(mu, covMat, Ns)\n",
    "    stockRet *= (1 + scenarios[:,0])\n",
    "    bondsRet *= (1 + scenarios[:,1])"
   ]
  },
  {
   "cell_type": "code",
   "execution_count": 106,
   "metadata": {
    "collapsed": true
   },
   "outputs": [],
   "source": [
    "v30 = 0.5 * v0 * stockRet + 0.5 * v0 * bondsRet"
   ]
  },
  {
   "cell_type": "code",
   "execution_count": 107,
   "metadata": {
    "collapsed": false
   },
   "outputs": [
    {
     "data": {
      "image/png": "[encoded data removed]",
      "text/plain": [
       "<matplotlib.figure.Figure at 0x7f6c5c3acc50>"
      ]
     },
     "metadata": {},
     "output_type": "display_data"
    }
   ],
   "source": [
    "hist, bins = histogram(v30, bins = 100)\n",
    "positions = (bins[:-1] + bins[1:]) / 2\n",
    "width = (bins[1] - bins[0]) * 0.8\n",
    "plt.bar(positions, hist, width=width)\n",
    "plt.xlabel('portfolio value after 30 years')\n",
    "plt.ylabel('frequency')\n",
    "plt.show()"
   ]
  },
  {
   "cell_type": "markdown",
   "metadata": {
    "collapsed": true
   },
   "source": [
    "# Simulation Example 4\n",
    "\n",
    "Compare two portfolios"
   ]
  },
  {
   "cell_type": "code",
   "execution_count": 108,
   "metadata": {
    "collapsed": false
   },
   "outputs": [],
   "source": [
    "# Compute portfolios by iterating through different combinations of weights\n",
    "v30comp = []\n",
    "for w in arange(0.2, 1.01, 0.2):\n",
    "    v30comp += [w * v0 * stockRet + (1 - w) * v0 * bondsRet]"
   ]
  },
  {
   "cell_type": "code",
   "execution_count": 109,
   "metadata": {
    "collapsed": false
   },
   "outputs": [],
   "source": [
    "# Plot a histogram of the distribution of\n",
    "# differences in outcomes for v30\n",
    "# (Stratery 4 - Strategy 2)\n",
    "v30d = v30comp[3] - v30comp[1]"
   ]
  },
  {
   "cell_type": "code",
   "execution_count": 110,
   "metadata": {
    "collapsed": false
   },
   "outputs": [
    {
     "data": {
      "image/png": "[encoded data removed]",
      "text/plain": [
       "<matplotlib.figure.Figure at 0x7f6c5c4a3c90>"
      ]
     },
     "metadata": {},
     "output_type": "display_data"
    }
   ],
   "source": [
    "hist, bins = histogram(v30d, bins = 50)\n",
    "positions = (bins[:-1] + bins[1:]) / 2\n",
    "width = (bins[1] - bins[0]) * 0.8\n",
    "plt.bar(positions, hist, width=width)\n",
    "plt.show()"
   ]
  },
  {
   "cell_type": "code",
   "execution_count": 111,
   "metadata": {
    "collapsed": false
   },
   "outputs": [
    {
     "name": "stdout",
     "output_type": "stream",
     "text": [
      "Strategy 4 was better in 4406 cases \n",
      "Strategy 2 was better in 594 cases\n",
      "Difference = 3812\n"
     ]
    }
   ],
   "source": [
    "# Compute number of elements in v30d that are > 0 and < 0 and compare\n",
    "pos_count = (v30d > 0).sum()\n",
    "neg_count = (v30d <= 0).sum()\n",
    "\n",
    "print u\"\"\"Strategy 4 was better in %d cases \n",
    "Strategy 2 was better in %d cases\n",
    "Difference = %d\"\"\" % (pos_count, neg_count, pos_count - neg_count)"
   ]
  }
 ],
 "metadata": {
  "kernelspec": {
   "display_name": "Python 2",
   "language": "python",
   "name": "python2"
  },
  "language_info": {
   "codemirror_mode": {
    "name": "ipython",
    "version": 2
   },
   "file_extension": ".py",
   "mimetype": "text/x-python",
   "name": "python",
   "nbconvert_exporter": "python",
   "pygments_lexer": "ipython2",
   "version": "2.7.12"
  },
  "widgets": {
   "state": {},
   "version": "1.1.2"
  }
 },
 "nbformat": 4,
 "nbformat_minor": 0
}
