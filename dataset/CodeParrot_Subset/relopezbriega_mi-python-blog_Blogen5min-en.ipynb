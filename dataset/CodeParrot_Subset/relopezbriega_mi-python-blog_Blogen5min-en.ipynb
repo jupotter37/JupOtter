{
 "cells": [
  {
   "cell_type": "markdown",
   "metadata": {
    "slideshow": {
     "slide_type": "slide"
    }
   },
   "source": [
    "<center><h1>A Blog in 5 minutes</h1></center>\n",
    "</br>\n",
    "<center><h2>using Pelican and Github Pages</h2></center>\n",
    "</br>\n",
    "</br>\n",
    "<center><img alt=\"SciPyLA\" title=\"SciPyLA\" src=\"https://conf.scipyla.org/scipyla2016/site_media/static/img/logo2-scipyla-path.svg\" width=\"200px\" height=\"120px\"></center> \n"
   ]
  },
  {
   "cell_type": "markdown",
   "metadata": {
    "slideshow": {
     "slide_type": "slide"
    }
   },
   "source": [
    "# What is Pelican?\n",
    "\n",
    "\n",
    "[Pelican](https://docs.getpelican.com/en/3.6.3/) is a static web site generator, written in  [Python](https://www.python.org/),  that requires no database or server-side logic. Some of the features include:\n",
    "\n",
    "* Write your content in [reStructuredText](https://docutils.sourceforge.net/rst.html), [Markdown](https://daringfireball.net/projects/markdown/), or [AsciiDoc](https://www.methods.co.nz/asciidoc/) formats.\n",
    "* it has [Themes](https://github.com/getpelican/pelican-themes) that can be customized via [Jinja](https://jinja.pocoo.org/) templates.\n",
    "* We can publish our content in multiple languages. \n",
    "* Supports <a href=\"https://es.wikipedia.org/wiki/Atom_(formato_de_redifusi%C3%B3n)\">Atom</a> / [RSS](https://es.wikipedia.org/wiki/RSS) feeds.\n",
    "* Completely static output is easy to host anywhere-\n",
    "\n",
    "Install [Pelican]([Pelican](https://docs.getpelican.com/en/3.6.3/)) is very easy, just run the following command:\n",
    "\n",
    "```sudo pip install pelican```"
   ]
  },
  {
   "cell_type": "markdown",
   "metadata": {
    "slideshow": {
     "slide_type": "slide"
    }
   },
   "source": [
    "# What are Github Pages?\n",
    "\n",
    "\n",
    "[Github Pages](https://pages.github.com/) is designed to host your web sites directly from a [Github](https://github.com/) repository. They have an [URL](https://es.wikipedia.org/wiki/Localizador_de_recursos_uniforme) **username.github.io**, where *username* is your username on [Github](https://github.com/).\n",
    "\n",
    "<center><img src=\"https://moduslaborandi.net/wp-content/uploads/2015/05/github.pages.jpg\" title=\"github pages\" width=\"400px\" height=\"320px\"></center>\n"
   ]
  },
  {
   "cell_type": "markdown",
   "metadata": {
    "slideshow": {
     "slide_type": "slide"
    }
   },
   "source": [
    "# Creating the repository\n",
    "\n",
    "In order to use [Github Pages](https://pages.github.com/), we have to create a new repository with the name ***username*`.github.io`** in [Github](https://github.com/). (This will be our site internet address).\n",
    "\n",
    "<img src=\"https://relopezbriega.com.ar/wp-content/uploads/2015/10/Selection_216.png\" title=\"Creando repositorio github pages\">"
   ]
  },
  {
   "cell_type": "markdown",
   "metadata": {
    "slideshow": {
     "slide_type": "slide"
    }
   },
   "source": [
    "# Cloning Github Pages and blog_template repositories\n",
    "\n",
    "Once we have the repository created, we can clone it.\n",
    "\n",
    "`git clone https://github.com/usuarioGithub/usuarioGithub.github.io.git`\n",
    "\n",
    "Additionally, we can clone the blog_template repository, this repository has the initial setup to make it easier to create the site. \n",
    "\n",
    "`git clone https://github.com/blogen5minutos/blog_template.git`\n",
    "\n",
    "If you prefer not to use the blog_template, you can start your own [Pelican](https://docs.getpelican.com/en/3.6.3/) project with the command:\n",
    "\n",
    "`pelican-quickstart`"
   ]
  },
  {
   "cell_type": "markdown",
   "metadata": {
    "slideshow": {
     "slide_type": "slide"
    }
   },
   "source": [
    "# Editing pelicanconf.py and publishconf.py files\n",
    "\n",
    "The main files with the [Pelican](https://docs.getpelican.com/en/3.6.3/) configurations are ***pelicanconf.py*** and ***publishconf.py***, in the last one we should include the configurations for the final publishing of the site.\n",
    "\n",
    "If you are using the `blog_template` repository; you should change the variables SITENAME and SITESUBTITLE in the *pelicanconf.py* file and the variable SITEURL in the *publishconf.py* file."
   ]
  },
  {
   "cell_type": "markdown",
   "metadata": {
    "slideshow": {
     "slide_type": "slide"
    }
   },
   "source": [
    "# Creating the content with Markdown\n",
    "\n",
    "To create the site articles, we should create a [Markdown](https://daringfireball.net/projects/markdown/) or  [reStructuredText](https://docutils.sourceforge.net/rst.html) file in the content folder. For example, using [Markdown](https://daringfireball.net/projects/markdown/), we can create the following file:\n",
    "\n",
    "`Title: My Blog`\n",
    "\n",
    "`Date: 2016-05-18`\n",
    "\n",
    "`Category: Python`\n",
    "\n",
    "`Tags: python`\n",
    "\n",
    "`Author: Raul E. Lopez Briega`\n",
    "\n",
    "`Test article to show how easy is to create a blog in internet with [github pages](https://pages.github.com/).`\n",
    "\n",
    "\n",
    "For more information, visit the [Pelican documentation](https://docs.getpelican.com/en/3.6.3/content.html). "
   ]
  },
  {
   "cell_type": "markdown",
   "metadata": {
    "slideshow": {
     "slide_type": "slide"
    }
   },
   "source": [
    "# Creating articles with Jupyter notebooks\n",
    "\n",
    "Other way to create articles, is using [Jupyter notebooks](https://jupyter.org/). We will need to install the plugin [liquid_tags](https://github.com/getpelican/pelican-plugins/tree/master/liquid_tags).\n",
    "\n",
    "Once the plugin is enable in the *pelicanconf.py* file; we should save ours *notebooks* in the subfolder `notebooks` inside the `content` folder and then write a new [Markdown](https://daringfireball.net/projects/markdown/) file, using the following syntax in the end:\n",
    "\n",
    "`{% notebook filename.ipynb [ cells[start:end] ]%}`\n",
    "\n",
    "For example:\n",
    "\n",
    "`Title: Batman, ecuaciones y python`\n",
    "\n",
    "`Date: 2016-05-19`\n",
    "\n",
    "`Category: Python`\n",
    "\n",
    "`Tags: python, matematica, programacion, batman`\n",
    "\n",
    "`Author: Raul E. Lopez Briega`\n",
    "\n",
    "`{% notebook Batman.ipynb cells[2:] %}`\n"
   ]
  },
  {
   "cell_type": "markdown",
   "metadata": {
    "slideshow": {
     "slide_type": "slide"
    }
   },
   "source": [
    "# Creating the site\n",
    "\n",
    "Once we have configurated the [Pelican](https://docs.getpelican.com/en/3.6.3/) project and the articles are ready; we can create the site with the following command:\n",
    "\n",
    "`make html`\n",
    "\n",
    "This command will create a new folder named **output** with all the content for running our site. We can test the results with the command:\n",
    "\n",
    "`make serve`\n",
    "\n",
    "and then going to [localhost:8000](https://localhost:8000/) to see the site.\n",
    "\n",
    "If everything is fine, we can create the final version with the command:\n",
    "\n",
    "`make publish`"
   ]
  },
  {
   "cell_type": "markdown",
   "metadata": {
    "slideshow": {
     "slide_type": "slide"
    }
   },
   "source": [
    "# Publishing the site\n",
    "\n",
    "To publish our site, we have to copy the content of **output** folder into the ***username*`.github.io`** folder and then committing and pushing the changes.\n",
    "\n",
    "`git add --all`\n",
    "\n",
    "`git commit -m \"publicando blog\"`\n",
    "\n",
    "`git push -u origin master`\n",
    "\n",
    "Congratulations, the site is ready! we can visit the site at https://username.github.io."
   ]
  },
  {
   "cell_type": "markdown",
   "metadata": {
    "slideshow": {
     "slide_type": "slide"
    }
   },
   "source": [
    "<center><h1>Thanks!</h1></center>\n",
    "<center><h3>Raul E. Lopez Briega</h3></center>\n",
    "\n",
    "\n",
    "[https://relopezbriega.github.io/](https://relopezbriega.github.io/)\n",
    "\n",
    "\n",
    "\n",
    "Twitter: [@relopezbriega](https://twitter.com/relopezbriega)\n",
    "\n",
    "Slides: [https://relopezbriega.github.io/blogen5min-en.html](https://relopezbriega.github.io/blogen5min-en.html])\n",
    "\n",
    "Demo: [https://blogen5minutos.github.io/](https://blogen5minutos.github.io/)\n",
    "\n"
   ]
  }
 ],
 "metadata": {
  "celltoolbar": "Slideshow",
  "kernelspec": {
   "display_name": "Python 3",
   "language": "python",
   "name": "python3"
  },
  "language_info": {
   "codemirror_mode": {
    "name": "ipython",
    "version": 3
   },
   "file_extension": ".py",
   "mimetype": "text/x-python",
   "name": "python",
   "nbconvert_exporter": "python",
   "pygments_lexer": "ipython3",
   "version": "3.5.1+"
  }
 },
 "nbformat": 4,
 "nbformat_minor": 0
}
