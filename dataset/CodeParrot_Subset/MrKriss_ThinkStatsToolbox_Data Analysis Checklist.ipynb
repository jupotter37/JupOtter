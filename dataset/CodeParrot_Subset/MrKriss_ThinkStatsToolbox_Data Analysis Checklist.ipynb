{
 "cells": [
  {
   "cell_type": "markdown",
   "metadata": {},
   "source": [
    "# Investigating variables "
   ]
  },
  {
   "cell_type": "markdown",
   "metadata": {},
   "source": [
    "Some of the characteristics we might want to report are:\n",
    "\n",
    "* central tendency: Do the values tend to cluster around a particular point?\n",
    "* modes: Is there more than one cluster?\n",
    "* spread: How much variability is there in the values?\n",
    "* tails: How quickly do the probabilities dropoff as we move away from the modes?\n",
    "* outliers: Are there extreme values far from the modes?"
   ]
  },
  {
   "cell_type": "code",
   "execution_count": null,
   "metadata": {
    "collapsed": true
   },
   "outputs": [],
   "source": [
    "Think about cohens effect size, measures differnce in mean over pooled standard deviation. "
   ]
  },
  {
   "cell_type": "markdown",
   "metadata": {},
   "source": [
    "#The data analysis checklist \n",
    "\n",
    "This checklist provides a condensed look at the information in this book. It can be used as a guide during the process of a data analysis, as a rubric for grading data analysis projects, or as a way to evaluate the quality of a reported data analysis. \n",
    "\n",
    "##I Answering the question\n",
    "1. Did you specify the type of data analytic question (e.g. exploration, association causality) before touching the data?\n",
    "2. Did you define the metric for success before beginning?\n",
    "3. Did you understand the context for the question and the scientific or business application? \n",
    "4. Did you record the experimental design?\n",
    "5. Did you consider whether the question could be answered with the available data?\n",
    "\n",
    "##II Checking the data \n",
    "1. Did you plot univariate and multivariate summaries of the data?\n",
    "2. Did you check for outliers?\n",
    "3. Did you identify the missing data code?\n",
    "\n",
    "##III Tidying the data \n",
    "1. Is each variable one column?\n",
    "2. Is each observation one row?\n",
    "3. Do different data types appear in each table?\n",
    "4. Did you record the recipe for moving from raw to tidy data?\n",
    "5. Did you create a code book?\n",
    "6. Did you record all parameters, units, and functions applied to the data?\n",
    "\n",
    "##IV Exploratory analysis \n",
    "1. Did you identify missing values?\n",
    "2. Did you make univariate plots (histograms, density plots, boxplots)?\n",
    "3. Did you consider correlations between variables (scatterplots)?\n",
    "4. Did you check the units of all data points to make sure they are in the right range?\n",
    "5. Did you try to identify any errors or miscoding of variables? 6. Did you consider plotting on a log scale?\n",
    "7. Would a scatterplot be more informative?\n",
    "\n",
    "##V Inference \n",
    "1. Did you identify what large population you are trying to describe?\n",
    "2. Did you clearly identify the quantities of interest in your model?\n",
    "3. Did you consider potential confounders?\n",
    "4. Did you identify and model potential sources of correlation such as measurements over time or space?\n",
    "5. Did you calculate a measure of uncertainty for each estimate on the scientific scale?\n",
    "\n",
    "##VI Prediction \n",
    "1. Did you identify in advance your error measure?\n",
    "2. Did you immediately split your data into training and validation?\n",
    "3. Did you use cross validation, resampling, or bootstrapping only on the training data?\n",
    "4. Did you create features using only the training data?\n",
    "5. Did you estimate parameters only on the training data?\n",
    "6. Did you fix all features, parameters, and models before applying to the validation data?\n",
    "7. Did you apply only one final model to the validation data and report the error rate?\n",
    "\n",
    "##VII Causality \n",
    "1. Did you identify whether your study was randomized?\n",
    "2. Did you identify potential reasons that causality may not be appropriate such as confounders, missing data, non-ignorable dropout, or unblinded experiments?\n",
    "2. If not, did you avoid using language that would imply cause and effect?\n",
    "\n",
    "##VIII Written analyses \n",
    "1. Did you describe the question of interest?\n",
    "2. Did you describe the data set, experimental design, and question you are answering?\n",
    "3. Did you specify the type of data analytic question you are answering?\n",
    "4. Did you specify in clear notation the exact model you are fitting?\n",
    "5. Did you explain on the scale of interest what each estimate and measure of uncertainty means?\n",
    "6. Did you report a measure of uncertainty for each estimate on the scientific scale?\n",
    "\n",
    "##IX Figures \n",
    "1. Does each figure communicate an important piece of information or address a question of interest?\n",
    "2. Do all your figures include plain language axis labels?\n",
    "3. Is the font size large enough to read?\n",
    "4. Does every figure have a detailed caption that explains all axes, legends, and trends in the figure?\n",
    "\n",
    "##X Presentations \n",
    "1. Did you lead with a brief, understandable to everyone statement of your problem?\n",
    "2. Did you explain the data, measurement technology, and experimental design before you explained your model?\n",
    "3. Did you explain the features you will use to model data before you explain the model?\n",
    "4. Did you make sure all legends and axes were legible from the back of the room?\n",
    "\n",
    "##XI Reproducibility \n",
    "1. Did you avoid doing calculations manually?\n",
    "2. Did you create a script that reproduces all your analyses?\n",
    "3. Did you save the raw and processed versions of your data?\n",
    "4. Did you record all versions of the software you used to process the data?\n",
    "5. Did you try to have someone else run your analysis code to confirm they got the same answers?\n",
    "\n",
    "##XI R packages \n",
    "1. Did you make your package name \"Googleable\"\n",
    "2. Did you write unit tests for your functions?\n",
    "3. Did you write help files for all functions?\n",
    "4. Did you write a vignette?\n",
    "5. Did you try to reduce dependencies to actively maintained packages?\n",
    "6. Have you eliminated all errors and warnings from R CMD CHECK? \n"
   ]
  },
  {
   "cell_type": "markdown",
   "metadata": {},
   "source": []
  }
 ],
 "metadata": {
  "kernelspec": {
   "display_name": "Python 3",
   "language": "python",
   "name": "python3"
  },
  "language_info": {
   "codemirror_mode": {
    "name": "ipython",
    "version": 3
   },
   "file_extension": ".py",
   "mimetype": "text/x-python",
   "name": "python",
   "nbconvert_exporter": "python",
   "pygments_lexer": "ipython3",
   "version": "3.4.3"
  }
 },
 "nbformat": 4,
 "nbformat_minor": 0
}
