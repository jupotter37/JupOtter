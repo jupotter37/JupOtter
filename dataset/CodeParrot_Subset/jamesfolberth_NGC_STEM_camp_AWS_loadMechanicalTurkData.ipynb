{
 "cells": [
  {
   "cell_type": "markdown",
   "metadata": {},
   "source": [
    "# Loads the mechanical Turk data\n",
    "Run this script to load the data. Your job after loading the data is to make a 20 questions style game (see www.20q.net )"
   ]
  },
  {
   "cell_type": "markdown",
   "metadata": {},
   "source": [
    "## Read in the list of movies\n",
    "There were 250 movies in the list, but we only used the 149 movies that were made in 1980 or later"
   ]
  },
  {
   "cell_type": "code",
   "execution_count": null,
   "metadata": {},
   "outputs": [],
   "source": [
    "# Read in the list of 250 movies, making sure to remove commas from their names\n",
    "# (actually, if it has commas, it will be read in as different fields)\n",
    "import csv\n",
    "movies = []\n",
    "with open('movies.csv','r') as csvfile:\n",
    "    myreader = csv.reader(csvfile)\n",
    "    for index, row in enumerate(myreader):\n",
    "        movies.append( ' '.join(row) ) # the join() call merges all fields\n",
    "# We might like to split this into two tasks, one for movies pre-1980 and one for post-1980, \n",
    "import re  # used for \"regular-expressions\", a method of searching strings\n",
    "cutoffYear = 1980\n",
    "oldMovies = []\n",
    "newMovies = []\n",
    "for mv in movies:\n",
    "    sp = re.split(r'[()]',mv)\n",
    "    #print sp  # output looks like: ['Kill Bill: Vol. 2 ', '2004', '']\n",
    "    year = int(sp[1])\n",
    "    if year < cutoffYear:\n",
    "        oldMovies.append( mv )\n",
    "    else:\n",
    "        newMovies.append( mv )\n",
    "print(\"Found\", len(newMovies), \"new movies (after 1980) and\", len(oldMovies), \"old movies\")\n",
    "# and for simplicity, let's just rename \"newMovies\" to \"movies\"\n",
    "movies = newMovies"
   ]
  },
  {
   "cell_type": "code",
   "execution_count": null,
   "metadata": {},
   "outputs": [],
   "source": [
    "# Make a dictionary that will help us convert movie titles to numbers\n",
    "Movie2index = {}\n",
    "for ind, mv in enumerate(movies):\n",
    "    Movie2index[mv] = ind\n",
    "# sample usage:\n",
    "print('The movie  ', movies[3],'  has index', Movie2index[movies[3]])"
   ]
  },
  {
   "cell_type": "markdown",
   "metadata": {},
   "source": [
    "## Read in the list of questions\n",
    "There were 60 questions but due to a copy-paste error, there were some duplicates, so we only have 44 unique questions"
   ]
  },
  {
   "cell_type": "code",
   "execution_count": null,
   "metadata": {},
   "outputs": [],
   "source": [
    "# Read in the list of 60 questions\n",
    "AllQuestions = []\n",
    "with open('questions60.csv', 'r') as csvfile:\n",
    "    myreader = csv.reader(csvfile)\n",
    "    for row in myreader:\n",
    "        # the rstrip() removes blanks\n",
    "        AllQuestions.append( row[0].rstrip() )\n",
    "print('Found', len(AllQuestions), 'questions')\n",
    "questions = list(set(AllQuestions))\n",
    "print('Found', len(questions), 'unique questions')"
   ]
  },
  {
   "cell_type": "code",
   "execution_count": null,
   "metadata": {},
   "outputs": [],
   "source": [
    "# As we did for movies, make a dictionary to convert questions to numbers\n",
    "Question2index = {}\n",
    "for index,quest in enumerate( questions ):\n",
    "    Question2index[quest] = index\n",
    "# sample usage:\n",
    "print('The question  ', questions[40],'  has index', Question2index[questions[40]])"
   ]
  },
  {
   "cell_type": "markdown",
   "metadata": {},
   "source": [
    "## Read in the training data\n",
    "The columns of `X` correspond to questions, and rows correspond to more data.  The rows of `y` are the movie indices. The values of `X` are 1, -1 or 0 (see `YesNoDict` for encoding)"
   ]
  },
  {
   "cell_type": "code",
   "execution_count": null,
   "metadata": {},
   "outputs": [],
   "source": [
    "YesNoDict = { \"Yes\": 1, \"No\": -1, \"Unsure\": 0, \"\": 0 }\n",
    "# load from csv files\n",
    "X = []\n",
    "y = []\n",
    "with open('MechanicalTurkResults_149movies_X.csv','r') as csvfile:\n",
    "    myreader = csv.reader(csvfile)\n",
    "    for row in myreader:\n",
    "        X.append( list(map(int,row)) )\n",
    "with open('MechanicalTurkResults_149movies_y.csv','r') as csvfile:\n",
    "    myreader = csv.reader(csvfile)\n",
    "    for row in myreader:\n",
    "        y = list(map(int,row))"
   ]
  },
  {
   "cell_type": "markdown",
   "metadata": {},
   "source": [
    "# Your turn: train a decision tree classifier"
   ]
  },
  {
   "cell_type": "code",
   "execution_count": null,
   "metadata": {},
   "outputs": [],
   "source": [
    "from sklearn import tree\n",
    "# the rest is up to you"
   ]
  },
  {
   "cell_type": "markdown",
   "metadata": {},
   "source": [
    "# Use the trained classifier to play a 20 questions game"
   ]
  },
  {
   "cell_type": "markdown",
   "metadata": {},
   "source": [
    "You can see the list of movies we trained on here: https://docs.google.com/spreadsheets/d/1-849aPzi8Su_c5HwwDFERrogXjvSaZFfp_y9MHeO1IA/edit?usp=sharing\n",
    "\n",
    "You may want to use `from sklearn.tree import _tree` and 'tree.DecisionTreeClassifier' with commands like `tree_.children_left[node]`, `tree_.value[node]`, `tree_.feature[node]`, and `tree_.threshold[node]'."
   ]
  },
  {
   "cell_type": "code",
   "execution_count": null,
   "metadata": {},
   "outputs": [],
   "source": [
    "# up to you"
   ]
  }
 ],
 "metadata": {
  "kernelspec": {
   "display_name": "Python 3",
   "language": "python",
   "name": "python3"
  },
  "language_info": {
   "codemirror_mode": {
    "name": "ipython",
    "version": 3
   },
   "file_extension": ".py",
   "mimetype": "text/x-python",
   "name": "python",
   "nbconvert_exporter": "python",
   "pygments_lexer": "ipython3",
   "version": "3.6.5"
  }
 },
 "nbformat": 4,
 "nbformat_minor": 1
}
