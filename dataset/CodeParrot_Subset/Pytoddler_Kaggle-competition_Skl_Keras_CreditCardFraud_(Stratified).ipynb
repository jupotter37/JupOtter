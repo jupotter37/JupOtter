{
 "cells": [
  {
   "cell_type": "code",
   "execution_count": 171,
   "metadata": {
    "collapsed": true
   },
   "outputs": [],
   "source": [
    "import numpy as np\n",
    "import pandas as pd\n",
    "import matplotlib.pyplot as plt\n",
    "import seaborn as sns\n",
    "\n",
    "from sklearn.preprocessing import MinMaxScaler\n",
    "\n",
    "from sklearn.metrics import accuracy_score,precision_score,recall_score,f1_score\\\n",
    "    ,fbeta_score,classification_report,confusion_matrix,precision_recall_curve,roc_auc_score\\\n",
    "    ,roc_curve"
   ]
  },
  {
   "cell_type": "markdown",
   "metadata": {},
   "source": [
    "# 資料預處理"
   ]
  },
  {
   "cell_type": "code",
   "execution_count": 132,
   "metadata": {
    "collapsed": false
   },
   "outputs": [],
   "source": [
    "import numpy as np\n",
    "import pandas as pd\n",
    "import os\n",
    "\n",
    "filepath = '/Users/mac/Desktop/Kaggle_datasets/Creditcardfraud/'\n",
    "filename01 = 'creditcard.csv'\n",
    "\n",
    "df_full = pd.read_csv(os.path.join(filepath, filename01))"
   ]
  },
  {
   "cell_type": "code",
   "execution_count": 133,
   "metadata": {
    "collapsed": false
   },
   "outputs": [
    {
     "data": {
      "text/html": [
       "<div>\n",
       "<table border=\"1\" class=\"dataframe\">\n",
       "  <thead>\n",
       "    <tr style=\"text-align: right;\">\n",
       "      <th></th>\n",
       "      <th>Time</th>\n",
       "      <th>V1</th>\n",
       "      <th>V2</th>\n",
       "      <th>V3</th>\n",
       "      <th>V4</th>\n",
       "      <th>V5</th>\n",
       "      <th>V6</th>\n",
       "      <th>V7</th>\n",
       "      <th>V8</th>\n",
       "      <th>V9</th>\n",
       "      <th>...</th>\n",
       "      <th>V21</th>\n",
       "      <th>V22</th>\n",
       "      <th>V23</th>\n",
       "      <th>V24</th>\n",
       "      <th>V25</th>\n",
       "      <th>V26</th>\n",
       "      <th>V27</th>\n",
       "      <th>V28</th>\n",
       "      <th>Amount</th>\n",
       "      <th>Class</th>\n",
       "    </tr>\n",
       "  </thead>\n",
       "  <tbody>\n",
       "    <tr>\n",
       "      <th>0</th>\n",
       "      <td>0.0</td>\n",
       "      <td>-1.359807</td>\n",
       "      <td>-0.072781</td>\n",
       "      <td>2.536347</td>\n",
       "      <td>1.378155</td>\n",
       "      <td>-0.338321</td>\n",
       "      <td>0.462388</td>\n",
       "      <td>0.239599</td>\n",
       "      <td>0.098698</td>\n",
       "      <td>0.363787</td>\n",
       "      <td>...</td>\n",
       "      <td>-0.018307</td>\n",
       "      <td>0.277838</td>\n",
       "      <td>-0.110474</td>\n",
       "      <td>0.066928</td>\n",
       "      <td>0.128539</td>\n",
       "      <td>-0.189115</td>\n",
       "      <td>0.133558</td>\n",
       "      <td>-0.021053</td>\n",
       "      <td>149.62</td>\n",
       "      <td>0</td>\n",
       "    </tr>\n",
       "    <tr>\n",
       "      <th>1</th>\n",
       "      <td>0.0</td>\n",
       "      <td>1.191857</td>\n",
       "      <td>0.266151</td>\n",
       "      <td>0.166480</td>\n",
       "      <td>0.448154</td>\n",
       "      <td>0.060018</td>\n",
       "      <td>-0.082361</td>\n",
       "      <td>-0.078803</td>\n",
       "      <td>0.085102</td>\n",
       "      <td>-0.255425</td>\n",
       "      <td>...</td>\n",
       "      <td>-0.225775</td>\n",
       "      <td>-0.638672</td>\n",
       "      <td>0.101288</td>\n",
       "      <td>-0.339846</td>\n",
       "      <td>0.167170</td>\n",
       "      <td>0.125895</td>\n",
       "      <td>-0.008983</td>\n",
       "      <td>0.014724</td>\n",
       "      <td>2.69</td>\n",
       "      <td>0</td>\n",
       "    </tr>\n",
       "    <tr>\n",
       "      <th>2</th>\n",
       "      <td>1.0</td>\n",
       "      <td>-1.358354</td>\n",
       "      <td>-1.340163</td>\n",
       "      <td>1.773209</td>\n",
       "      <td>0.379780</td>\n",
       "      <td>-0.503198</td>\n",
       "      <td>1.800499</td>\n",
       "      <td>0.791461</td>\n",
       "      <td>0.247676</td>\n",
       "      <td>-1.514654</td>\n",
       "      <td>...</td>\n",
       "      <td>0.247998</td>\n",
       "      <td>0.771679</td>\n",
       "      <td>0.909412</td>\n",
       "      <td>-0.689281</td>\n",
       "      <td>-0.327642</td>\n",
       "      <td>-0.139097</td>\n",
       "      <td>-0.055353</td>\n",
       "      <td>-0.059752</td>\n",
       "      <td>378.66</td>\n",
       "      <td>0</td>\n",
       "    </tr>\n",
       "    <tr>\n",
       "      <th>3</th>\n",
       "      <td>1.0</td>\n",
       "      <td>-0.966272</td>\n",
       "      <td>-0.185226</td>\n",
       "      <td>1.792993</td>\n",
       "      <td>-0.863291</td>\n",
       "      <td>-0.010309</td>\n",
       "      <td>1.247203</td>\n",
       "      <td>0.237609</td>\n",
       "      <td>0.377436</td>\n",
       "      <td>-1.387024</td>\n",
       "      <td>...</td>\n",
       "      <td>-0.108300</td>\n",
       "      <td>0.005274</td>\n",
       "      <td>-0.190321</td>\n",
       "      <td>-1.175575</td>\n",
       "      <td>0.647376</td>\n",
       "      <td>-0.221929</td>\n",
       "      <td>0.062723</td>\n",
       "      <td>0.061458</td>\n",
       "      <td>123.50</td>\n",
       "      <td>0</td>\n",
       "    </tr>\n",
       "    <tr>\n",
       "      <th>4</th>\n",
       "      <td>2.0</td>\n",
       "      <td>-1.158233</td>\n",
       "      <td>0.877737</td>\n",
       "      <td>1.548718</td>\n",
       "      <td>0.403034</td>\n",
       "      <td>-0.407193</td>\n",
       "      <td>0.095921</td>\n",
       "      <td>0.592941</td>\n",
       "      <td>-0.270533</td>\n",
       "      <td>0.817739</td>\n",
       "      <td>...</td>\n",
       "      <td>-0.009431</td>\n",
       "      <td>0.798278</td>\n",
       "      <td>-0.137458</td>\n",
       "      <td>0.141267</td>\n",
       "      <td>-0.206010</td>\n",
       "      <td>0.502292</td>\n",
       "      <td>0.219422</td>\n",
       "      <td>0.215153</td>\n",
       "      <td>69.99</td>\n",
       "      <td>0</td>\n",
       "    </tr>\n",
       "  </tbody>\n",
       "</table>\n",
       "<p>5 rows × 31 columns</p>\n",
       "</div>"
      ],
      "text/plain": [
       "   Time        V1        V2        V3        V4        V5        V6        V7  \\\n",
       "0   0.0 -1.359807 -0.072781  2.536347  1.378155 -0.338321  0.462388  0.239599   \n",
       "1   0.0  1.191857  0.266151  0.166480  0.448154  0.060018 -0.082361 -0.078803   \n",
       "2   1.0 -1.358354 -1.340163  1.773209  0.379780 -0.503198  1.800499  0.791461   \n",
       "3   1.0 -0.966272 -0.185226  1.792993 -0.863291 -0.010309  1.247203  0.237609   \n",
       "4   2.0 -1.158233  0.877737  1.548718  0.403034 -0.407193  0.095921  0.592941   \n",
       "\n",
       "         V8        V9  ...         V21       V22       V23       V24  \\\n",
       "0  0.098698  0.363787  ...   -0.018307  0.277838 -0.110474  0.066928   \n",
       "1  0.085102 -0.255425  ...   -0.225775 -0.638672  0.101288 -0.339846   \n",
       "2  0.247676 -1.514654  ...    0.247998  0.771679  0.909412 -0.689281   \n",
       "3  0.377436 -1.387024  ...   -0.108300  0.005274 -0.190321 -1.175575   \n",
       "4 -0.270533  0.817739  ...   -0.009431  0.798278 -0.137458  0.141267   \n",
       "\n",
       "        V25       V26       V27       V28  Amount  Class  \n",
       "0  0.128539 -0.189115  0.133558 -0.021053  149.62      0  \n",
       "1  0.167170  0.125895 -0.008983  0.014724    2.69      0  \n",
       "2 -0.327642 -0.139097 -0.055353 -0.059752  378.66      0  \n",
       "3  0.647376 -0.221929  0.062723  0.061458  123.50      0  \n",
       "4 -0.206010  0.502292  0.219422  0.215153   69.99      0  \n",
       "\n",
       "[5 rows x 31 columns]"
      ]
     },
     "execution_count": 133,
     "metadata": {},
     "output_type": "execute_result"
    }
   ],
   "source": [
    "df_full.head()"
   ]
  },
  {
   "cell_type": "code",
   "execution_count": 134,
   "metadata": {
    "collapsed": false
   },
   "outputs": [
    {
     "name": "stdout",
     "output_type": "stream",
     "text": [
      "<class 'pandas.core.frame.DataFrame'>\n",
      "RangeIndex: 284807 entries, 0 to 284806\n",
      "Data columns (total 31 columns):\n",
      "Time      284807 non-null float64\n",
      "V1        284807 non-null float64\n",
      "V2        284807 non-null float64\n",
      "V3        284807 non-null float64\n",
      "V4        284807 non-null float64\n",
      "V5        284807 non-null float64\n",
      "V6        284807 non-null float64\n",
      "V7        284807 non-null float64\n",
      "V8        284807 non-null float64\n",
      "V9        284807 non-null float64\n",
      "V10       284807 non-null float64\n",
      "V11       284807 non-null float64\n",
      "V12       284807 non-null float64\n",
      "V13       284807 non-null float64\n",
      "V14       284807 non-null float64\n",
      "V15       284807 non-null float64\n",
      "V16       284807 non-null float64\n",
      "V17       284807 non-null float64\n",
      "V18       284807 non-null float64\n",
      "V19       284807 non-null float64\n",
      "V20       284807 non-null float64\n",
      "V21       284807 non-null float64\n",
      "V22       284807 non-null float64\n",
      "V23       284807 non-null float64\n",
      "V24       284807 non-null float64\n",
      "V25       284807 non-null float64\n",
      "V26       284807 non-null float64\n",
      "V27       284807 non-null float64\n",
      "V28       284807 non-null float64\n",
      "Amount    284807 non-null float64\n",
      "Class     284807 non-null int64\n",
      "dtypes: float64(30), int64(1)\n",
      "memory usage: 67.4 MB\n"
     ]
    }
   ],
   "source": [
    "df_full.info()"
   ]
  },
  {
   "cell_type": "code",
   "execution_count": 135,
   "metadata": {
    "collapsed": false
   },
   "outputs": [
    {
     "data": {
      "text/plain": [
       "0    284315\n",
       "1       492\n",
       "Name: Class, dtype: int64"
      ]
     },
     "execution_count": 135,
     "metadata": {},
     "output_type": "execute_result"
    }
   ],
   "source": [
    "df_full.Class.value_counts() ##可以看到positive比例超級低約莫0.2%，直接跑DL會有偵測不到positive全部猜negative的危險"
   ]
  },
  {
   "cell_type": "code",
   "execution_count": 136,
   "metadata": {
    "collapsed": false
   },
   "outputs": [],
   "source": [
    "df_full.sort_values(by='Class', ascending=False, inplace=True)\n",
    "df_full.drop('Time', axis=1,  inplace = True)"
   ]
  },
  {
   "cell_type": "code",
   "execution_count": 137,
   "metadata": {
    "collapsed": false
   },
   "outputs": [
    {
     "data": {
      "text/html": [
       "<div>\n",
       "<table border=\"1\" class=\"dataframe\">\n",
       "  <thead>\n",
       "    <tr style=\"text-align: right;\">\n",
       "      <th></th>\n",
       "      <th>V1</th>\n",
       "      <th>V2</th>\n",
       "      <th>V3</th>\n",
       "      <th>V4</th>\n",
       "      <th>V5</th>\n",
       "      <th>V6</th>\n",
       "      <th>V7</th>\n",
       "      <th>V8</th>\n",
       "      <th>V9</th>\n",
       "      <th>V10</th>\n",
       "      <th>...</th>\n",
       "      <th>V21</th>\n",
       "      <th>V22</th>\n",
       "      <th>V23</th>\n",
       "      <th>V24</th>\n",
       "      <th>V25</th>\n",
       "      <th>V26</th>\n",
       "      <th>V27</th>\n",
       "      <th>V28</th>\n",
       "      <th>Amount</th>\n",
       "      <th>Class</th>\n",
       "    </tr>\n",
       "  </thead>\n",
       "  <tbody>\n",
       "    <tr>\n",
       "      <th>42635</th>\n",
       "      <td>-7.334341</td>\n",
       "      <td>4.960892</td>\n",
       "      <td>-8.451410</td>\n",
       "      <td>8.174825</td>\n",
       "      <td>-7.237464</td>\n",
       "      <td>-2.382711</td>\n",
       "      <td>-11.508842</td>\n",
       "      <td>4.635798</td>\n",
       "      <td>-6.557760</td>\n",
       "      <td>-11.519861</td>\n",
       "      <td>...</td>\n",
       "      <td>2.153755</td>\n",
       "      <td>0.033922</td>\n",
       "      <td>-0.014095</td>\n",
       "      <td>0.625250</td>\n",
       "      <td>-0.053390</td>\n",
       "      <td>0.164709</td>\n",
       "      <td>1.411047</td>\n",
       "      <td>0.315645</td>\n",
       "      <td>11.38</td>\n",
       "      <td>1</td>\n",
       "    </tr>\n",
       "    <tr>\n",
       "      <th>135718</th>\n",
       "      <td>-0.885254</td>\n",
       "      <td>1.790649</td>\n",
       "      <td>-0.945149</td>\n",
       "      <td>3.853433</td>\n",
       "      <td>-1.543510</td>\n",
       "      <td>0.188582</td>\n",
       "      <td>-2.988383</td>\n",
       "      <td>1.344059</td>\n",
       "      <td>-2.294535</td>\n",
       "      <td>-1.886176</td>\n",
       "      <td>...</td>\n",
       "      <td>0.746160</td>\n",
       "      <td>0.550802</td>\n",
       "      <td>-0.034882</td>\n",
       "      <td>-0.567608</td>\n",
       "      <td>-0.528318</td>\n",
       "      <td>0.258782</td>\n",
       "      <td>0.506893</td>\n",
       "      <td>0.176736</td>\n",
       "      <td>7.57</td>\n",
       "      <td>1</td>\n",
       "    </tr>\n",
       "    <tr>\n",
       "      <th>10568</th>\n",
       "      <td>-5.268053</td>\n",
       "      <td>9.067613</td>\n",
       "      <td>-15.960728</td>\n",
       "      <td>10.296603</td>\n",
       "      <td>-4.708241</td>\n",
       "      <td>-3.395375</td>\n",
       "      <td>-11.161057</td>\n",
       "      <td>5.499963</td>\n",
       "      <td>-5.667376</td>\n",
       "      <td>-11.627194</td>\n",
       "      <td>...</td>\n",
       "      <td>2.004110</td>\n",
       "      <td>0.191058</td>\n",
       "      <td>0.622928</td>\n",
       "      <td>-1.209264</td>\n",
       "      <td>-0.374799</td>\n",
       "      <td>0.648798</td>\n",
       "      <td>1.584697</td>\n",
       "      <td>0.720056</td>\n",
       "      <td>1.00</td>\n",
       "      <td>1</td>\n",
       "    </tr>\n",
       "    <tr>\n",
       "      <th>215132</th>\n",
       "      <td>-2.921944</td>\n",
       "      <td>-0.228062</td>\n",
       "      <td>-5.877289</td>\n",
       "      <td>2.201884</td>\n",
       "      <td>-1.935440</td>\n",
       "      <td>0.631141</td>\n",
       "      <td>-1.245106</td>\n",
       "      <td>1.511348</td>\n",
       "      <td>-1.899987</td>\n",
       "      <td>-6.428231</td>\n",
       "      <td>...</td>\n",
       "      <td>1.441622</td>\n",
       "      <td>0.895528</td>\n",
       "      <td>1.385511</td>\n",
       "      <td>-2.028024</td>\n",
       "      <td>0.509131</td>\n",
       "      <td>0.172643</td>\n",
       "      <td>0.726781</td>\n",
       "      <td>0.234514</td>\n",
       "      <td>723.21</td>\n",
       "      <td>1</td>\n",
       "    </tr>\n",
       "    <tr>\n",
       "      <th>144104</th>\n",
       "      <td>-3.365265</td>\n",
       "      <td>2.928541</td>\n",
       "      <td>-5.660999</td>\n",
       "      <td>3.891160</td>\n",
       "      <td>-1.840375</td>\n",
       "      <td>-1.800887</td>\n",
       "      <td>-5.558679</td>\n",
       "      <td>2.402322</td>\n",
       "      <td>-2.848923</td>\n",
       "      <td>-5.995676</td>\n",
       "      <td>...</td>\n",
       "      <td>0.875260</td>\n",
       "      <td>-0.102501</td>\n",
       "      <td>-0.606283</td>\n",
       "      <td>-0.743165</td>\n",
       "      <td>0.096319</td>\n",
       "      <td>-0.135060</td>\n",
       "      <td>1.238695</td>\n",
       "      <td>0.099824</td>\n",
       "      <td>1.00</td>\n",
       "      <td>1</td>\n",
       "    </tr>\n",
       "  </tbody>\n",
       "</table>\n",
       "<p>5 rows × 30 columns</p>\n",
       "</div>"
      ],
      "text/plain": [
       "              V1        V2         V3         V4        V5        V6  \\\n",
       "42635  -7.334341  4.960892  -8.451410   8.174825 -7.237464 -2.382711   \n",
       "135718 -0.885254  1.790649  -0.945149   3.853433 -1.543510  0.188582   \n",
       "10568  -5.268053  9.067613 -15.960728  10.296603 -4.708241 -3.395375   \n",
       "215132 -2.921944 -0.228062  -5.877289   2.201884 -1.935440  0.631141   \n",
       "144104 -3.365265  2.928541  -5.660999   3.891160 -1.840375 -1.800887   \n",
       "\n",
       "               V7        V8        V9        V10  ...         V21       V22  \\\n",
       "42635  -11.508842  4.635798 -6.557760 -11.519861  ...    2.153755  0.033922   \n",
       "135718  -2.988383  1.344059 -2.294535  -1.886176  ...    0.746160  0.550802   \n",
       "10568  -11.161057  5.499963 -5.667376 -11.627194  ...    2.004110  0.191058   \n",
       "215132  -1.245106  1.511348 -1.899987  -6.428231  ...    1.441622  0.895528   \n",
       "144104  -5.558679  2.402322 -2.848923  -5.995676  ...    0.875260 -0.102501   \n",
       "\n",
       "             V23       V24       V25       V26       V27       V28  Amount  \\\n",
       "42635  -0.014095  0.625250 -0.053390  0.164709  1.411047  0.315645   11.38   \n",
       "135718 -0.034882 -0.567608 -0.528318  0.258782  0.506893  0.176736    7.57   \n",
       "10568   0.622928 -1.209264 -0.374799  0.648798  1.584697  0.720056    1.00   \n",
       "215132  1.385511 -2.028024  0.509131  0.172643  0.726781  0.234514  723.21   \n",
       "144104 -0.606283 -0.743165  0.096319 -0.135060  1.238695  0.099824    1.00   \n",
       "\n",
       "        Class  \n",
       "42635       1  \n",
       "135718      1  \n",
       "10568       1  \n",
       "215132      1  \n",
       "144104      1  \n",
       "\n",
       "[5 rows x 30 columns]"
      ]
     },
     "execution_count": 137,
     "metadata": {},
     "output_type": "execute_result"
    }
   ],
   "source": [
    "df_full.head() ##記住，第index值492以後都是false，方便我們分層抽樣"
   ]
  },
  {
   "cell_type": "markdown",
   "metadata": {},
   "source": [
    "### Stratified sampling: 盡量讓0和1平衡"
   ]
  },
  {
   "cell_type": "code",
   "execution_count": 138,
   "metadata": {
    "collapsed": false
   },
   "outputs": [
    {
     "data": {
      "text/plain": [
       "0    2508\n",
       "1     492\n",
       "Name: Class, dtype: int64"
      ]
     },
     "execution_count": 138,
     "metadata": {},
     "output_type": "execute_result"
    }
   ],
   "source": [
    "df_sample = df_full.iloc[:3000,:]\n",
    "df_sample.Class.value_counts()"
   ]
  },
  {
   "cell_type": "code",
   "execution_count": 139,
   "metadata": {
    "collapsed": true
   },
   "outputs": [],
   "source": [
    "feature = np.array(df_sample.values[:,0:29])\n",
    "label = np.array(df_sample.values[:,-1])"
   ]
  },
  {
   "cell_type": "markdown",
   "metadata": {},
   "source": [
    "### Shuffle"
   ]
  },
  {
   "cell_type": "code",
   "execution_count": 140,
   "metadata": {
    "collapsed": false
   },
   "outputs": [],
   "source": [
    "from sklearn.utils import shuffle\n",
    "\n",
    "shuffle_df = shuffle(df_sample, random_state=42)\n",
    "\n",
    "df_train = shuffle_df[0:2400]\n",
    "df_test = shuffle_df[2400:]"
   ]
  },
  {
   "cell_type": "code",
   "execution_count": 141,
   "metadata": {
    "collapsed": false
   },
   "outputs": [],
   "source": [
    "train_feature = np.array(df_train.values[:,0:29])\n",
    "train_label = np.array(df_train.values[:,-1])\n",
    "test_feature = np.array(df_test.values[:,0:29])\n",
    "test_label = np.array(df_test.values[:,-1])"
   ]
  },
  {
   "cell_type": "code",
   "execution_count": 142,
   "metadata": {
    "collapsed": false
   },
   "outputs": [
    {
     "data": {
      "text/plain": [
       "array([  1.78539895e+00,  -4.99110872e-01,  -1.10643579e+00,\n",
       "         8.10469959e-01,  -2.54238744e-01,  -8.65974408e-01,\n",
       "         2.86934018e-01,  -3.86715309e-01,   6.36815005e-01,\n",
       "        -5.72996844e-02,  -8.51014437e-01,   1.19107437e+00,\n",
       "         1.35199869e+00,  -2.35543199e-01,  -7.53558239e-01,\n",
       "        -4.95546835e-01,  -1.67350853e-01,  -6.77521994e-01,\n",
       "         1.90872945e-02,   1.12078176e-01,   1.63670598e-01,\n",
       "         5.52143372e-01,  -7.45725294e-02,   1.58891016e-01,\n",
       "         1.27665160e-01,   4.35472647e-01,  -6.26011145e-02,\n",
       "        -3.88373004e-02,   1.34900000e+02])"
      ]
     },
     "execution_count": 142,
     "metadata": {},
     "output_type": "execute_result"
    }
   ],
   "source": [
    "train_feature[0]"
   ]
  },
  {
   "cell_type": "code",
   "execution_count": 143,
   "metadata": {
    "collapsed": false
   },
   "outputs": [
    {
     "data": {
      "text/plain": [
       "(2400, 29)"
      ]
     },
     "execution_count": 143,
     "metadata": {},
     "output_type": "execute_result"
    }
   ],
   "source": [
    "train_feature.shape"
   ]
  },
  {
   "cell_type": "code",
   "execution_count": 144,
   "metadata": {
    "collapsed": false
   },
   "outputs": [
    {
     "data": {
      "text/plain": [
       "array([ 0.,  0.,  0., ...,  0.,  0.,  0.])"
      ]
     },
     "execution_count": 144,
     "metadata": {},
     "output_type": "execute_result"
    }
   ],
   "source": [
    "train_label"
   ]
  },
  {
   "cell_type": "code",
   "execution_count": 145,
   "metadata": {
    "collapsed": false
   },
   "outputs": [
    {
     "data": {
      "text/plain": [
       "(2400,)"
      ]
     },
     "execution_count": 145,
     "metadata": {},
     "output_type": "execute_result"
    }
   ],
   "source": [
    "train_label.shape"
   ]
  },
  {
   "cell_type": "code",
   "execution_count": 146,
   "metadata": {
    "collapsed": false
   },
   "outputs": [
    {
     "data": {
      "text/plain": [
       "(600, 29)"
      ]
     },
     "execution_count": 146,
     "metadata": {},
     "output_type": "execute_result"
    }
   ],
   "source": [
    "test_feature.shape"
   ]
  },
  {
   "cell_type": "code",
   "execution_count": 147,
   "metadata": {
    "collapsed": false
   },
   "outputs": [
    {
     "data": {
      "text/plain": [
       "(600,)"
      ]
     },
     "execution_count": 147,
     "metadata": {},
     "output_type": "execute_result"
    }
   ],
   "source": [
    "test_label.shape"
   ]
  },
  {
   "cell_type": "markdown",
   "metadata": {},
   "source": [
    "### MinMaxScaler，整個data數據的Scaler要統一！！"
   ]
  },
  {
   "cell_type": "code",
   "execution_count": 148,
   "metadata": {
    "collapsed": true
   },
   "outputs": [],
   "source": [
    "from sklearn.preprocessing import MinMaxScaler\n",
    "\n",
    "scaler = MinMaxScaler()\n",
    "\n",
    "scaler.fit(train_feature)\n",
    "train_feature_trans = scaler.transform(train_feature)\n",
    "test_feature_trans = scaler.transform(test_feature)"
   ]
  },
  {
   "cell_type": "code",
   "execution_count": 149,
   "metadata": {
    "collapsed": false
   },
   "outputs": [
    {
     "data": {
      "text/plain": [
       "array([[  9.82156380e-01,   5.27321914e-01,   8.69444108e-01, ...,\n",
       "          5.48411387e-01,   7.30875746e-01,   2.02769022e-02],\n",
       "       [  9.89959437e-01,   5.34773829e-01,   8.15873450e-01, ...,\n",
       "          5.50208556e-01,   7.30399414e-01,   1.33776449e-04],\n",
       "       [  9.91705562e-01,   5.19128748e-01,   8.19855663e-01, ...,\n",
       "          5.47815341e-01,   7.21721505e-01,   7.21490961e-03],\n",
       "       ..., \n",
       "       [  9.10379993e-01,   5.76097489e-01,   8.74847636e-01, ...,\n",
       "          6.04493673e-01,   7.58840205e-01,   2.54926806e-03],\n",
       "       [  8.86087957e-01,   5.82359750e-01,   8.84877892e-01, ...,\n",
       "          5.98549630e-01,   7.75156119e-01,   2.97615021e-04],\n",
       "       [  8.59561549e-01,   5.03816662e-01,   9.52710972e-01, ...,\n",
       "          5.51849296e-01,   7.64848793e-01,   6.04774767e-02]])"
      ]
     },
     "execution_count": 149,
     "metadata": {},
     "output_type": "execute_result"
    }
   ],
   "source": [
    "train_feature_trans"
   ]
  },
  {
   "cell_type": "markdown",
   "metadata": {},
   "source": [
    "# 跑模型"
   ]
  },
  {
   "cell_type": "code",
   "execution_count": 150,
   "metadata": {
    "collapsed": false
   },
   "outputs": [
    {
     "name": "stdout",
     "output_type": "stream",
     "text": [
      "_________________________________________________________________\n",
      "Layer (type)                 Output Shape              Param #   \n",
      "=================================================================\n",
      "dense_16 (Dense)             (None, 200)               6000      \n",
      "_________________________________________________________________\n",
      "dropout_11 (Dropout)         (None, 200)               0         \n",
      "_________________________________________________________________\n",
      "dense_17 (Dense)             (None, 200)               40200     \n",
      "_________________________________________________________________\n",
      "dropout_12 (Dropout)         (None, 200)               0         \n",
      "_________________________________________________________________\n",
      "dense_18 (Dense)             (None, 1)                 201       \n",
      "=================================================================\n",
      "Total params: 46,401\n",
      "Trainable params: 46,401\n",
      "Non-trainable params: 0\n",
      "_________________________________________________________________\n",
      "None\n",
      "Train on 479 samples, validate on 1921 samples\n",
      "Epoch 1/200\n",
      "0s - loss: 0.6926 - acc: 0.5261 - val_loss: 0.6834 - val_acc: 0.8360\n",
      "Epoch 2/200\n",
      "0s - loss: 0.6847 - acc: 0.7975 - val_loss: 0.6712 - val_acc: 0.8360\n",
      "Epoch 3/200\n",
      "0s - loss: 0.6738 - acc: 0.7996 - val_loss: 0.6594 - val_acc: 0.8360\n",
      "Epoch 4/200\n",
      "0s - loss: 0.6624 - acc: 0.7996 - val_loss: 0.6452 - val_acc: 0.8360\n",
      "Epoch 5/200\n",
      "0s - loss: 0.6495 - acc: 0.7996 - val_loss: 0.6295 - val_acc: 0.8360\n",
      "Epoch 6/200\n",
      "0s - loss: 0.6350 - acc: 0.7996 - val_loss: 0.6116 - val_acc: 0.8360\n",
      "Epoch 7/200\n",
      "0s - loss: 0.6190 - acc: 0.7996 - val_loss: 0.5914 - val_acc: 0.8360\n",
      "Epoch 8/200\n",
      "0s - loss: 0.6034 - acc: 0.7996 - val_loss: 0.5684 - val_acc: 0.8360\n",
      "Epoch 9/200\n",
      "0s - loss: 0.5807 - acc: 0.7996 - val_loss: 0.5440 - val_acc: 0.8360\n",
      "Epoch 10/200\n",
      "0s - loss: 0.5611 - acc: 0.7996 - val_loss: 0.5184 - val_acc: 0.8360\n",
      "Epoch 11/200\n",
      "0s - loss: 0.5415 - acc: 0.7996 - val_loss: 0.4931 - val_acc: 0.8360\n",
      "Epoch 12/200\n",
      "0s - loss: 0.5204 - acc: 0.7996 - val_loss: 0.4694 - val_acc: 0.8360\n",
      "Epoch 13/200\n",
      "0s - loss: 0.4975 - acc: 0.7996 - val_loss: 0.4489 - val_acc: 0.8360\n",
      "Epoch 14/200\n",
      "0s - loss: 0.4859 - acc: 0.7996 - val_loss: 0.4329 - val_acc: 0.8360\n",
      "Epoch 15/200\n",
      "0s - loss: 0.4818 - acc: 0.7996 - val_loss: 0.4227 - val_acc: 0.8360\n",
      "Epoch 16/200\n",
      "0s - loss: 0.4745 - acc: 0.7996 - val_loss: 0.4179 - val_acc: 0.8360\n",
      "Epoch 17/200\n",
      "0s - loss: 0.4793 - acc: 0.7996 - val_loss: 0.4170 - val_acc: 0.8360\n",
      "Epoch 18/200\n",
      "0s - loss: 0.4824 - acc: 0.7996 - val_loss: 0.4177 - val_acc: 0.8360\n",
      "Epoch 19/200\n",
      "0s - loss: 0.4788 - acc: 0.7996 - val_loss: 0.4177 - val_acc: 0.8360\n",
      "Epoch 20/200\n",
      "0s - loss: 0.4807 - acc: 0.7996 - val_loss: 0.4161 - val_acc: 0.8360\n",
      "Epoch 21/200\n",
      "0s - loss: 0.4858 - acc: 0.7996 - val_loss: 0.4130 - val_acc: 0.8360\n",
      "Epoch 22/200\n",
      "0s - loss: 0.4716 - acc: 0.7996 - val_loss: 0.4090 - val_acc: 0.8360\n",
      "Epoch 23/200\n",
      "0s - loss: 0.4770 - acc: 0.7996 - val_loss: 0.4052 - val_acc: 0.8360\n",
      "Epoch 24/200\n",
      "0s - loss: 0.4665 - acc: 0.7996 - val_loss: 0.4027 - val_acc: 0.8360\n",
      "Epoch 25/200\n",
      "0s - loss: 0.4604 - acc: 0.7996 - val_loss: 0.4019 - val_acc: 0.8360\n",
      "Epoch 26/200\n",
      "0s - loss: 0.4588 - acc: 0.7996 - val_loss: 0.4030 - val_acc: 0.8360\n",
      "Epoch 27/200\n",
      "0s - loss: 0.4547 - acc: 0.7996 - val_loss: 0.4053 - val_acc: 0.8360\n",
      "Epoch 28/200\n",
      "0s - loss: 0.4473 - acc: 0.7996 - val_loss: 0.4074 - val_acc: 0.8360\n",
      "Epoch 29/200\n",
      "0s - loss: 0.4455 - acc: 0.7996 - val_loss: 0.4085 - val_acc: 0.8360\n",
      "Epoch 30/200\n",
      "0s - loss: 0.4529 - acc: 0.7996 - val_loss: 0.4076 - val_acc: 0.8360\n",
      "Epoch 31/200\n",
      "0s - loss: 0.4500 - acc: 0.7996 - val_loss: 0.4046 - val_acc: 0.8360\n",
      "Epoch 32/200\n",
      "0s - loss: 0.4433 - acc: 0.8017 - val_loss: 0.3995 - val_acc: 0.8360\n",
      "Epoch 33/200\n",
      "0s - loss: 0.4363 - acc: 0.7996 - val_loss: 0.3931 - val_acc: 0.8360\n",
      "Epoch 34/200\n",
      "0s - loss: 0.4344 - acc: 0.7996 - val_loss: 0.3861 - val_acc: 0.8360\n",
      "Epoch 35/200\n",
      "0s - loss: 0.4275 - acc: 0.7996 - val_loss: 0.3793 - val_acc: 0.8360\n",
      "Epoch 36/200\n",
      "0s - loss: 0.4230 - acc: 0.7996 - val_loss: 0.3732 - val_acc: 0.8360\n",
      "Epoch 37/200\n",
      "0s - loss: 0.4164 - acc: 0.7996 - val_loss: 0.3680 - val_acc: 0.8360\n",
      "Epoch 38/200\n",
      "0s - loss: 0.4142 - acc: 0.7996 - val_loss: 0.3636 - val_acc: 0.8360\n",
      "Epoch 39/200\n",
      "0s - loss: 0.3981 - acc: 0.8038 - val_loss: 0.3593 - val_acc: 0.8360\n",
      "Epoch 40/200\n",
      "0s - loss: 0.3989 - acc: 0.8017 - val_loss: 0.3549 - val_acc: 0.8360\n",
      "Epoch 41/200\n",
      "0s - loss: 0.4018 - acc: 0.8079 - val_loss: 0.3505 - val_acc: 0.8371\n",
      "Epoch 42/200\n",
      "0s - loss: 0.3949 - acc: 0.8184 - val_loss: 0.3461 - val_acc: 0.8511\n",
      "Epoch 43/200\n",
      "0s - loss: 0.3815 - acc: 0.8142 - val_loss: 0.3418 - val_acc: 0.8605\n",
      "Epoch 44/200\n",
      "0s - loss: 0.3803 - acc: 0.8246 - val_loss: 0.3379 - val_acc: 0.8631\n",
      "Epoch 45/200\n",
      "0s - loss: 0.3724 - acc: 0.8309 - val_loss: 0.3342 - val_acc: 0.8688\n",
      "Epoch 46/200\n",
      "0s - loss: 0.3732 - acc: 0.8330 - val_loss: 0.3304 - val_acc: 0.8699\n",
      "Epoch 47/200\n",
      "0s - loss: 0.3659 - acc: 0.8434 - val_loss: 0.3258 - val_acc: 0.8719\n",
      "Epoch 48/200\n",
      "0s - loss: 0.3596 - acc: 0.8497 - val_loss: 0.3207 - val_acc: 0.8766\n",
      "Epoch 49/200\n",
      "0s - loss: 0.3582 - acc: 0.8580 - val_loss: 0.3144 - val_acc: 0.8782\n",
      "Epoch 50/200\n",
      "0s - loss: 0.3575 - acc: 0.8622 - val_loss: 0.3077 - val_acc: 0.8787\n",
      "Epoch 51/200\n",
      "0s - loss: 0.3436 - acc: 0.8580 - val_loss: 0.3013 - val_acc: 0.8792\n",
      "Epoch 52/200\n",
      "0s - loss: 0.3373 - acc: 0.8580 - val_loss: 0.2956 - val_acc: 0.8798\n",
      "Epoch 53/200\n",
      "0s - loss: 0.3242 - acc: 0.8580 - val_loss: 0.2904 - val_acc: 0.8813\n",
      "Epoch 54/200\n",
      "0s - loss: 0.3257 - acc: 0.8706 - val_loss: 0.2853 - val_acc: 0.8818\n",
      "Epoch 55/200\n",
      "0s - loss: 0.3267 - acc: 0.8706 - val_loss: 0.2799 - val_acc: 0.8860\n",
      "Epoch 56/200\n",
      "0s - loss: 0.3092 - acc: 0.8747 - val_loss: 0.2745 - val_acc: 0.8912\n",
      "Epoch 57/200\n",
      "0s - loss: 0.3070 - acc: 0.8789 - val_loss: 0.2695 - val_acc: 0.8954\n",
      "Epoch 58/200\n",
      "0s - loss: 0.3039 - acc: 0.8852 - val_loss: 0.2649 - val_acc: 0.9027\n",
      "Epoch 59/200\n",
      "0s - loss: 0.2841 - acc: 0.8914 - val_loss: 0.2601 - val_acc: 0.9063\n",
      "Epoch 60/200\n",
      "0s - loss: 0.2828 - acc: 0.9040 - val_loss: 0.2542 - val_acc: 0.9110\n",
      "Epoch 61/200\n",
      "0s - loss: 0.2859 - acc: 0.8914 - val_loss: 0.2477 - val_acc: 0.9131\n",
      "Epoch 62/200\n",
      "0s - loss: 0.2762 - acc: 0.9102 - val_loss: 0.2414 - val_acc: 0.9136\n",
      "Epoch 63/200\n",
      "0s - loss: 0.2703 - acc: 0.9019 - val_loss: 0.2360 - val_acc: 0.9146\n",
      "Epoch 64/200\n",
      "0s - loss: 0.2606 - acc: 0.9061 - val_loss: 0.2309 - val_acc: 0.9167\n",
      "Epoch 65/200\n",
      "0s - loss: 0.2610 - acc: 0.9081 - val_loss: 0.2255 - val_acc: 0.9193\n",
      "Epoch 66/200\n",
      "0s - loss: 0.2547 - acc: 0.9144 - val_loss: 0.2200 - val_acc: 0.9235\n",
      "Epoch 67/200\n",
      "0s - loss: 0.2485 - acc: 0.9144 - val_loss: 0.2148 - val_acc: 0.9266\n",
      "Epoch 68/200\n",
      "0s - loss: 0.2384 - acc: 0.9228 - val_loss: 0.2104 - val_acc: 0.9328\n",
      "Epoch 69/200\n",
      "0s - loss: 0.2356 - acc: 0.9290 - val_loss: 0.2059 - val_acc: 0.9365\n",
      "Epoch 70/200\n",
      "0s - loss: 0.2351 - acc: 0.9269 - val_loss: 0.2010 - val_acc: 0.9375\n",
      "Epoch 71/200\n",
      "0s - loss: 0.2212 - acc: 0.9353 - val_loss: 0.1962 - val_acc: 0.9370\n",
      "Epoch 72/200\n",
      "0s - loss: 0.2163 - acc: 0.9353 - val_loss: 0.1923 - val_acc: 0.9365\n",
      "Epoch 73/200\n",
      "0s - loss: 0.2106 - acc: 0.9374 - val_loss: 0.1891 - val_acc: 0.9365\n",
      "Epoch 74/200\n",
      "0s - loss: 0.2027 - acc: 0.9353 - val_loss: 0.1858 - val_acc: 0.9386\n",
      "Epoch 75/200\n",
      "0s - loss: 0.2004 - acc: 0.9290 - val_loss: 0.1808 - val_acc: 0.9422\n",
      "Epoch 76/200\n",
      "0s - loss: 0.1953 - acc: 0.9374 - val_loss: 0.1764 - val_acc: 0.9479\n",
      "Epoch 77/200\n",
      "0s - loss: 0.1982 - acc: 0.9353 - val_loss: 0.1731 - val_acc: 0.9526\n",
      "Epoch 78/200\n",
      "0s - loss: 0.1924 - acc: 0.9562 - val_loss: 0.1699 - val_acc: 0.9542\n",
      "Epoch 79/200\n",
      "0s - loss: 0.1828 - acc: 0.9478 - val_loss: 0.1664 - val_acc: 0.9531\n",
      "Epoch 80/200\n",
      "0s - loss: 0.1749 - acc: 0.9478 - val_loss: 0.1641 - val_acc: 0.9521\n",
      "Epoch 81/200\n",
      "0s - loss: 0.1770 - acc: 0.9478 - val_loss: 0.1625 - val_acc: 0.9521\n",
      "Epoch 82/200\n",
      "0s - loss: 0.1729 - acc: 0.9499 - val_loss: 0.1602 - val_acc: 0.9521\n",
      "Epoch 83/200\n",
      "0s - loss: 0.1642 - acc: 0.9562 - val_loss: 0.1565 - val_acc: 0.9547\n",
      "Epoch 84/200\n",
      "0s - loss: 0.1602 - acc: 0.9520 - val_loss: 0.1530 - val_acc: 0.9558\n",
      "Epoch 85/200\n",
      "0s - loss: 0.1563 - acc: 0.9541 - val_loss: 0.1504 - val_acc: 0.9578\n",
      "Epoch 86/200\n",
      "0s - loss: 0.1625 - acc: 0.9541 - val_loss: 0.1488 - val_acc: 0.9599\n",
      "Epoch 87/200\n",
      "0s - loss: 0.1642 - acc: 0.9603 - val_loss: 0.1465 - val_acc: 0.9604\n",
      "Epoch 88/200\n",
      "0s - loss: 0.1524 - acc: 0.9603 - val_loss: 0.1441 - val_acc: 0.9589\n",
      "Epoch 89/200\n",
      "0s - loss: 0.1490 - acc: 0.9645 - val_loss: 0.1440 - val_acc: 0.9578\n",
      "Epoch 90/200\n",
      "0s - loss: 0.1537 - acc: 0.9603 - val_loss: 0.1441 - val_acc: 0.9568\n",
      "Epoch 91/200\n",
      "0s - loss: 0.1476 - acc: 0.9582 - val_loss: 0.1422 - val_acc: 0.9584\n",
      "Epoch 92/200\n",
      "0s - loss: 0.1407 - acc: 0.9624 - val_loss: 0.1386 - val_acc: 0.9599\n",
      "Epoch 93/200\n",
      "0s - loss: 0.1345 - acc: 0.9645 - val_loss: 0.1359 - val_acc: 0.9615\n",
      "Epoch 94/200\n",
      "0s - loss: 0.1345 - acc: 0.9624 - val_loss: 0.1347 - val_acc: 0.9625\n",
      "Epoch 95/200\n",
      "0s - loss: 0.1279 - acc: 0.9687 - val_loss: 0.1336 - val_acc: 0.9630\n",
      "Epoch 96/200\n",
      "0s - loss: 0.1347 - acc: 0.9645 - val_loss: 0.1327 - val_acc: 0.9620\n",
      "Epoch 97/200\n",
      "0s - loss: 0.1363 - acc: 0.9666 - val_loss: 0.1326 - val_acc: 0.9615\n",
      "Epoch 98/200\n",
      "0s - loss: 0.1273 - acc: 0.9687 - val_loss: 0.1324 - val_acc: 0.9615\n",
      "Epoch 99/200\n",
      "0s - loss: 0.1334 - acc: 0.9603 - val_loss: 0.1311 - val_acc: 0.9615\n",
      "Epoch 100/200\n",
      "0s - loss: 0.1269 - acc: 0.9624 - val_loss: 0.1289 - val_acc: 0.9625\n",
      "Epoch 101/200\n",
      "0s - loss: 0.1258 - acc: 0.9666 - val_loss: 0.1269 - val_acc: 0.9620\n",
      "Epoch 102/200\n",
      "0s - loss: 0.1253 - acc: 0.9645 - val_loss: 0.1256 - val_acc: 0.9630\n",
      "Epoch 103/200\n",
      "0s - loss: 0.1201 - acc: 0.9687 - val_loss: 0.1247 - val_acc: 0.9625\n",
      "Epoch 104/200\n",
      "0s - loss: 0.1219 - acc: 0.9687 - val_loss: 0.1243 - val_acc: 0.9620\n",
      "Epoch 105/200\n",
      "0s - loss: 0.1252 - acc: 0.9666 - val_loss: 0.1241 - val_acc: 0.9620\n",
      "Epoch 106/200\n",
      "0s - loss: 0.1060 - acc: 0.9729 - val_loss: 0.1235 - val_acc: 0.9620\n",
      "Epoch 107/200\n",
      "0s - loss: 0.1077 - acc: 0.9687 - val_loss: 0.1223 - val_acc: 0.9625\n",
      "Epoch 108/200\n",
      "0s - loss: 0.1145 - acc: 0.9687 - val_loss: 0.1211 - val_acc: 0.9630\n",
      "Epoch 109/200\n",
      "0s - loss: 0.1222 - acc: 0.9666 - val_loss: 0.1198 - val_acc: 0.9646\n",
      "Epoch 110/200\n",
      "0s - loss: 0.1081 - acc: 0.9708 - val_loss: 0.1189 - val_acc: 0.9646\n",
      "Epoch 111/200\n",
      "0s - loss: 0.1039 - acc: 0.9770 - val_loss: 0.1191 - val_acc: 0.9646\n",
      "Epoch 112/200\n",
      "0s - loss: 0.1023 - acc: 0.9708 - val_loss: 0.1202 - val_acc: 0.9636\n",
      "Epoch 113/200\n",
      "0s - loss: 0.1129 - acc: 0.9749 - val_loss: 0.1207 - val_acc: 0.9636\n",
      "Epoch 114/200\n",
      "0s - loss: 0.1194 - acc: 0.9708 - val_loss: 0.1187 - val_acc: 0.9641\n",
      "Epoch 115/200\n",
      "0s - loss: 0.1049 - acc: 0.9666 - val_loss: 0.1162 - val_acc: 0.9641\n",
      "Epoch 116/200\n",
      "0s - loss: 0.1015 - acc: 0.9749 - val_loss: 0.1154 - val_acc: 0.9641\n",
      "Epoch 117/200\n",
      "0s - loss: 0.1026 - acc: 0.9729 - val_loss: 0.1149 - val_acc: 0.9641\n",
      "Epoch 118/200\n",
      "0s - loss: 0.1047 - acc: 0.9749 - val_loss: 0.1148 - val_acc: 0.9641\n",
      "Epoch 119/200\n",
      "0s - loss: 0.1041 - acc: 0.9708 - val_loss: 0.1155 - val_acc: 0.9636\n",
      "Epoch 120/200\n",
      "0s - loss: 0.1004 - acc: 0.9729 - val_loss: 0.1170 - val_acc: 0.9641\n",
      "Epoch 121/200\n",
      "0s - loss: 0.0956 - acc: 0.9729 - val_loss: 0.1176 - val_acc: 0.9641\n",
      "Epoch 122/200\n",
      "0s - loss: 0.1013 - acc: 0.9749 - val_loss: 0.1168 - val_acc: 0.9636\n",
      "Epoch 123/200\n",
      "0s - loss: 0.0935 - acc: 0.9729 - val_loss: 0.1144 - val_acc: 0.9646\n",
      "Epoch 124/200\n",
      "0s - loss: 0.1004 - acc: 0.9708 - val_loss: 0.1124 - val_acc: 0.9672\n",
      "Epoch 125/200\n",
      "0s - loss: 0.0972 - acc: 0.9749 - val_loss: 0.1121 - val_acc: 0.9677\n",
      "Epoch 126/200\n",
      "0s - loss: 0.0977 - acc: 0.9749 - val_loss: 0.1119 - val_acc: 0.9677\n",
      "Epoch 127/200\n",
      "0s - loss: 0.0945 - acc: 0.9687 - val_loss: 0.1122 - val_acc: 0.9672\n",
      "Epoch 128/200\n",
      "0s - loss: 0.0860 - acc: 0.9770 - val_loss: 0.1134 - val_acc: 0.9651\n",
      "Epoch 129/200\n",
      "0s - loss: 0.0864 - acc: 0.9729 - val_loss: 0.1146 - val_acc: 0.9636\n",
      "Epoch 130/200\n",
      "0s - loss: 0.0923 - acc: 0.9749 - val_loss: 0.1141 - val_acc: 0.9641\n",
      "Epoch 131/200\n",
      "0s - loss: 0.0867 - acc: 0.9729 - val_loss: 0.1131 - val_acc: 0.9662\n",
      "Epoch 132/200\n",
      "0s - loss: 0.0862 - acc: 0.9749 - val_loss: 0.1116 - val_acc: 0.9682\n",
      "Epoch 133/200\n",
      "0s - loss: 0.0824 - acc: 0.9729 - val_loss: 0.1107 - val_acc: 0.9682\n",
      "Epoch 134/200\n",
      "0s - loss: 0.0951 - acc: 0.9770 - val_loss: 0.1105 - val_acc: 0.9688\n",
      "Epoch 135/200\n",
      "0s - loss: 0.0817 - acc: 0.9791 - val_loss: 0.1113 - val_acc: 0.9688\n",
      "Epoch 136/200\n",
      "0s - loss: 0.0859 - acc: 0.9729 - val_loss: 0.1120 - val_acc: 0.9682\n",
      "Epoch 137/200\n",
      "0s - loss: 0.0922 - acc: 0.9729 - val_loss: 0.1125 - val_acc: 0.9682\n",
      "Epoch 138/200\n",
      "0s - loss: 0.0831 - acc: 0.9770 - val_loss: 0.1129 - val_acc: 0.9677\n",
      "Epoch 139/200\n",
      "0s - loss: 0.0826 - acc: 0.9749 - val_loss: 0.1116 - val_acc: 0.9688\n",
      "Epoch 140/200\n",
      "0s - loss: 0.0832 - acc: 0.9791 - val_loss: 0.1105 - val_acc: 0.9693\n",
      "Epoch 141/200\n",
      "0s - loss: 0.0866 - acc: 0.9791 - val_loss: 0.1100 - val_acc: 0.9682\n",
      "Epoch 142/200\n",
      "0s - loss: 0.0896 - acc: 0.9770 - val_loss: 0.1104 - val_acc: 0.9688\n",
      "Epoch 143/200\n",
      "0s - loss: 0.0848 - acc: 0.9791 - val_loss: 0.1122 - val_acc: 0.9682\n",
      "Epoch 144/200\n",
      "0s - loss: 0.0859 - acc: 0.9749 - val_loss: 0.1144 - val_acc: 0.9672\n",
      "Epoch 145/200\n",
      "0s - loss: 0.0864 - acc: 0.9770 - val_loss: 0.1140 - val_acc: 0.9672\n",
      "Epoch 146/200\n",
      "0s - loss: 0.0872 - acc: 0.9749 - val_loss: 0.1116 - val_acc: 0.9688\n",
      "Epoch 147/200\n",
      "0s - loss: 0.0851 - acc: 0.9812 - val_loss: 0.1101 - val_acc: 0.9698\n",
      "Epoch 148/200\n",
      "0s - loss: 0.0875 - acc: 0.9770 - val_loss: 0.1098 - val_acc: 0.9698\n",
      "Epoch 149/200\n",
      "0s - loss: 0.0833 - acc: 0.9791 - val_loss: 0.1097 - val_acc: 0.9698\n",
      "Epoch 150/200\n",
      "0s - loss: 0.0775 - acc: 0.9833 - val_loss: 0.1104 - val_acc: 0.9698\n",
      "Epoch 151/200\n",
      "0s - loss: 0.0792 - acc: 0.9854 - val_loss: 0.1133 - val_acc: 0.9682\n",
      "Epoch 152/200\n",
      "0s - loss: 0.0781 - acc: 0.9791 - val_loss: 0.1152 - val_acc: 0.9677\n",
      "Epoch 153/200\n",
      "0s - loss: 0.0834 - acc: 0.9770 - val_loss: 0.1133 - val_acc: 0.9688\n",
      "Epoch 154/200\n",
      "0s - loss: 0.0831 - acc: 0.9749 - val_loss: 0.1103 - val_acc: 0.9708\n",
      "Epoch 155/200\n",
      "0s - loss: 0.0811 - acc: 0.9833 - val_loss: 0.1107 - val_acc: 0.9719\n",
      "Epoch 156/200\n",
      "0s - loss: 0.0849 - acc: 0.9833 - val_loss: 0.1102 - val_acc: 0.9708\n",
      "Epoch 157/200\n",
      "0s - loss: 0.0817 - acc: 0.9812 - val_loss: 0.1112 - val_acc: 0.9698\n",
      "Epoch 158/200\n",
      "0s - loss: 0.0760 - acc: 0.9812 - val_loss: 0.1148 - val_acc: 0.9688\n",
      "Epoch 159/200\n",
      "0s - loss: 0.0817 - acc: 0.9749 - val_loss: 0.1153 - val_acc: 0.9688\n",
      "Epoch 160/200\n",
      "0s - loss: 0.0723 - acc: 0.9833 - val_loss: 0.1132 - val_acc: 0.9688\n",
      "Epoch 161/200\n",
      "0s - loss: 0.0815 - acc: 0.9791 - val_loss: 0.1107 - val_acc: 0.9703\n",
      "Epoch 162/200\n",
      "0s - loss: 0.0774 - acc: 0.9791 - val_loss: 0.1101 - val_acc: 0.9714\n",
      "Epoch 163/200\n",
      "0s - loss: 0.0754 - acc: 0.9833 - val_loss: 0.1102 - val_acc: 0.9719\n",
      "Epoch 164/200\n",
      "0s - loss: 0.0694 - acc: 0.9854 - val_loss: 0.1105 - val_acc: 0.9714\n",
      "Epoch 165/200\n",
      "0s - loss: 0.0761 - acc: 0.9770 - val_loss: 0.1123 - val_acc: 0.9708\n",
      "Epoch 166/200\n",
      "0s - loss: 0.0780 - acc: 0.9812 - val_loss: 0.1149 - val_acc: 0.9688\n",
      "Epoch 167/200\n",
      "0s - loss: 0.0774 - acc: 0.9833 - val_loss: 0.1151 - val_acc: 0.9688\n",
      "Epoch 168/200\n",
      "0s - loss: 0.0718 - acc: 0.9833 - val_loss: 0.1137 - val_acc: 0.9708\n",
      "Epoch 169/200\n",
      "0s - loss: 0.0691 - acc: 0.9770 - val_loss: 0.1117 - val_acc: 0.9714\n",
      "Epoch 170/200\n",
      "0s - loss: 0.0787 - acc: 0.9833 - val_loss: 0.1111 - val_acc: 0.9719\n",
      "Epoch 171/200\n",
      "0s - loss: 0.0642 - acc: 0.9833 - val_loss: 0.1112 - val_acc: 0.9719\n",
      "Epoch 172/200\n",
      "0s - loss: 0.0710 - acc: 0.9833 - val_loss: 0.1114 - val_acc: 0.9719\n",
      "Epoch 173/200\n",
      "0s - loss: 0.0678 - acc: 0.9854 - val_loss: 0.1125 - val_acc: 0.9714\n",
      "Epoch 174/200\n",
      "0s - loss: 0.0708 - acc: 0.9833 - val_loss: 0.1144 - val_acc: 0.9703\n",
      "Epoch 175/200\n",
      "0s - loss: 0.0618 - acc: 0.9833 - val_loss: 0.1149 - val_acc: 0.9703\n",
      "Epoch 176/200\n",
      "0s - loss: 0.0664 - acc: 0.9833 - val_loss: 0.1139 - val_acc: 0.9714\n",
      "Epoch 177/200\n",
      "0s - loss: 0.0719 - acc: 0.9812 - val_loss: 0.1123 - val_acc: 0.9714\n",
      "Epoch 178/200\n",
      "0s - loss: 0.0674 - acc: 0.9812 - val_loss: 0.1120 - val_acc: 0.9719\n",
      "Epoch 179/200\n",
      "0s - loss: 0.0766 - acc: 0.9770 - val_loss: 0.1121 - val_acc: 0.9719\n",
      "Epoch 180/200\n",
      "0s - loss: 0.0718 - acc: 0.9854 - val_loss: 0.1125 - val_acc: 0.9719\n",
      "Epoch 181/200\n",
      "0s - loss: 0.0686 - acc: 0.9833 - val_loss: 0.1139 - val_acc: 0.9714\n",
      "Epoch 182/200\n",
      "0s - loss: 0.0762 - acc: 0.9791 - val_loss: 0.1163 - val_acc: 0.9714\n",
      "Epoch 183/200\n",
      "0s - loss: 0.0702 - acc: 0.9833 - val_loss: 0.1183 - val_acc: 0.9708\n",
      "Epoch 184/200\n",
      "0s - loss: 0.0770 - acc: 0.9791 - val_loss: 0.1167 - val_acc: 0.9708\n",
      "Epoch 185/200\n",
      "0s - loss: 0.0656 - acc: 0.9854 - val_loss: 0.1145 - val_acc: 0.9719\n",
      "Epoch 186/200\n",
      "0s - loss: 0.0706 - acc: 0.9812 - val_loss: 0.1134 - val_acc: 0.9714\n",
      "Epoch 187/200\n",
      "0s - loss: 0.0717 - acc: 0.9833 - val_loss: 0.1132 - val_acc: 0.9724\n",
      "Epoch 188/200\n",
      "0s - loss: 0.0770 - acc: 0.9812 - val_loss: 0.1133 - val_acc: 0.9724\n",
      "Epoch 189/200\n",
      "0s - loss: 0.0706 - acc: 0.9854 - val_loss: 0.1138 - val_acc: 0.9714\n",
      "Epoch 190/200\n",
      "0s - loss: 0.0617 - acc: 0.9854 - val_loss: 0.1144 - val_acc: 0.9719\n",
      "Epoch 191/200\n",
      "0s - loss: 0.0682 - acc: 0.9854 - val_loss: 0.1147 - val_acc: 0.9719\n",
      "Epoch 192/200\n",
      "0s - loss: 0.0644 - acc: 0.9854 - val_loss: 0.1147 - val_acc: 0.9719\n",
      "Epoch 193/200\n",
      "0s - loss: 0.0717 - acc: 0.9833 - val_loss: 0.1143 - val_acc: 0.9714\n",
      "Epoch 194/200\n",
      "0s - loss: 0.0591 - acc: 0.9833 - val_loss: 0.1140 - val_acc: 0.9719\n",
      "Epoch 195/200\n",
      "0s - loss: 0.0662 - acc: 0.9854 - val_loss: 0.1141 - val_acc: 0.9719\n",
      "Epoch 196/200\n",
      "0s - loss: 0.0636 - acc: 0.9833 - val_loss: 0.1145 - val_acc: 0.9719\n",
      "Epoch 197/200\n",
      "0s - loss: 0.0656 - acc: 0.9854 - val_loss: 0.1150 - val_acc: 0.9714\n",
      "Epoch 198/200\n",
      "0s - loss: 0.0642 - acc: 0.9833 - val_loss: 0.1156 - val_acc: 0.9714\n",
      "Epoch 199/200\n",
      "0s - loss: 0.0657 - acc: 0.9833 - val_loss: 0.1156 - val_acc: 0.9714\n",
      "Epoch 200/200\n",
      "0s - loss: 0.0700 - acc: 0.9812 - val_loss: 0.1145 - val_acc: 0.9719\n"
     ]
    },
    {
     "data": {
      "image/png": "[encoded data removed]",
      "text/plain": [
       "<matplotlib.figure.Figure at 0x10df21a58>"
      ]
     },
     "metadata": {},
     "output_type": "display_data"
    },
    {
     "data": {
      "image/png": "[encoded data removed]",
      "text/plain": [
       "<matplotlib.figure.Figure at 0x10c4a6940>"
      ]
     },
     "metadata": {},
     "output_type": "display_data"
    },
    {
     "name": "stdout",
     "output_type": "stream",
     "text": [
      " 32/600 [>.............................] - ETA: 0s\n",
      "\n",
      "accuracy= 0.98\n",
      " 32/600 [>.............................] - ETA: 2s"
     ]
    }
   ],
   "source": [
    "######################### 建立模型\n",
    "from keras.models import Sequential\n",
    "from keras.layers import Dense\n",
    "from keras.layers import Dropout\n",
    "\n",
    "import matplotlib.pyplot as plt \n",
    "def show_train_history(train_history,train,validation):\n",
    "    plt.plot(train_history.history[train])\n",
    "    plt.plot(train_history.history[validation])\n",
    "    plt.title('Train History')\n",
    "    plt.ylabel(train)\n",
    "    plt.xlabel('Epoch')\n",
    "    plt.legend(['train', 'validation'], loc='best')\n",
    "    plt.show()\n",
    "\n",
    "model = Sequential() #一層一層到底，按順序\n",
    "\n",
    "#輸入層（隱藏層1）\n",
    "model.add(Dense(units=200, \n",
    "                input_dim=29, \n",
    "                kernel_initializer='uniform', \n",
    "                activation='relu'))\n",
    "model.add(Dropout(0.5))\n",
    "\n",
    "#隱藏層2，不用寫input_dim，因為就是前一層的units\n",
    "model.add(Dense(units=200,  \n",
    "                kernel_initializer='uniform', \n",
    "                activation='relu'))\n",
    "model.add(Dropout(0.5))\n",
    "\n",
    "#輸出層\n",
    "model.add(Dense(units=1, #輸出一個數字 \n",
    "                kernel_initializer='uniform',\n",
    "                activation='sigmoid'))\n",
    "\n",
    "print(model.summary()) #可以清楚看到model還有參數數量\n",
    "\n",
    "model.compile(loss='binary_crossentropy',   #二元用binary\n",
    "              optimizer='adam', metrics=['accuracy'])\n",
    "\n",
    "train_history = model.fit(x=train_feature_trans, y=train_label,  #上面多分割一步在keras是內建的\n",
    "                          validation_split=0.8, epochs=200, \n",
    "                          batch_size=500, verbose=2) #verbose=2表示顯示訓練過程\n",
    "\n",
    "######################### 訓練過程視覺化\n",
    "show_train_history(train_history,'acc','val_acc')\n",
    "show_train_history(train_history,'loss','val_loss')\n",
    "\n",
    "\n",
    "######################### 實際測驗得分\n",
    "scores = model.evaluate(test_feature_trans, test_label)\n",
    "print('\\n')\n",
    "print('accuracy=',scores[1])\n",
    "\n",
    "######################### 紀錄模型預測情形（答案卷）\n",
    "prediction = model.predict_classes(test_feature_trans)\n",
    "\n",
    "#儲存訓練結果\n",
    "#model.save_weights(\"Keras_CreditCardFraud_MLP.h5\")\n",
    "#print('model saved to disk')"
   ]
  },
  {
   "cell_type": "markdown",
   "metadata": {},
   "source": [
    "# Train/Test Score"
   ]
  },
  {
   "cell_type": "code",
   "execution_count": 151,
   "metadata": {
    "collapsed": true
   },
   "outputs": [],
   "source": [
    "df_ans = pd.DataFrame({'Real Class' :test_label})\n",
    "df_ans['Prediction'] = prediction"
   ]
  },
  {
   "cell_type": "code",
   "execution_count": 152,
   "metadata": {
    "collapsed": false
   },
   "outputs": [
    {
     "data": {
      "text/html": [
       "<div>\n",
       "<table border=\"1\" class=\"dataframe\">\n",
       "  <thead>\n",
       "    <tr style=\"text-align: right;\">\n",
       "      <th></th>\n",
       "      <th>Real Class</th>\n",
       "      <th>Prediction</th>\n",
       "    </tr>\n",
       "  </thead>\n",
       "  <tbody>\n",
       "    <tr>\n",
       "      <th>110</th>\n",
       "      <td>1.0</td>\n",
       "      <td>0</td>\n",
       "    </tr>\n",
       "    <tr>\n",
       "      <th>163</th>\n",
       "      <td>0.0</td>\n",
       "      <td>1</td>\n",
       "    </tr>\n",
       "    <tr>\n",
       "      <th>224</th>\n",
       "      <td>1.0</td>\n",
       "      <td>0</td>\n",
       "    </tr>\n",
       "    <tr>\n",
       "      <th>265</th>\n",
       "      <td>0.0</td>\n",
       "      <td>1</td>\n",
       "    </tr>\n",
       "    <tr>\n",
       "      <th>283</th>\n",
       "      <td>0.0</td>\n",
       "      <td>1</td>\n",
       "    </tr>\n",
       "    <tr>\n",
       "      <th>308</th>\n",
       "      <td>1.0</td>\n",
       "      <td>0</td>\n",
       "    </tr>\n",
       "    <tr>\n",
       "      <th>345</th>\n",
       "      <td>1.0</td>\n",
       "      <td>0</td>\n",
       "    </tr>\n",
       "    <tr>\n",
       "      <th>357</th>\n",
       "      <td>1.0</td>\n",
       "      <td>0</td>\n",
       "    </tr>\n",
       "    <tr>\n",
       "      <th>378</th>\n",
       "      <td>1.0</td>\n",
       "      <td>0</td>\n",
       "    </tr>\n",
       "    <tr>\n",
       "      <th>484</th>\n",
       "      <td>0.0</td>\n",
       "      <td>1</td>\n",
       "    </tr>\n",
       "    <tr>\n",
       "      <th>494</th>\n",
       "      <td>1.0</td>\n",
       "      <td>0</td>\n",
       "    </tr>\n",
       "    <tr>\n",
       "      <th>518</th>\n",
       "      <td>0.0</td>\n",
       "      <td>1</td>\n",
       "    </tr>\n",
       "  </tbody>\n",
       "</table>\n",
       "</div>"
      ],
      "text/plain": [
       "     Real Class  Prediction\n",
       "110         1.0           0\n",
       "163         0.0           1\n",
       "224         1.0           0\n",
       "265         0.0           1\n",
       "283         0.0           1\n",
       "308         1.0           0\n",
       "345         1.0           0\n",
       "357         1.0           0\n",
       "378         1.0           0\n",
       "484         0.0           1\n",
       "494         1.0           0\n",
       "518         0.0           1"
      ]
     },
     "execution_count": 152,
     "metadata": {},
     "output_type": "execute_result"
    }
   ],
   "source": [
    "df_ans[ df_ans['Real Class'] != df_ans['Prediction'] ]"
   ]
  },
  {
   "cell_type": "code",
   "execution_count": 153,
   "metadata": {
    "collapsed": false
   },
   "outputs": [
    {
     "data": {
      "text/plain": [
       "0    521\n",
       "1     79\n",
       "Name: Prediction, dtype: int64"
      ]
     },
     "execution_count": 153,
     "metadata": {},
     "output_type": "execute_result"
    }
   ],
   "source": [
    "df_ans['Prediction'].value_counts() #分層之後，0和1參半，是好現象"
   ]
  },
  {
   "cell_type": "code",
   "execution_count": 154,
   "metadata": {
    "collapsed": false
   },
   "outputs": [
    {
     "data": {
      "text/plain": [
       "0.0    519\n",
       "1.0     81\n",
       "Name: Real Class, dtype: int64"
      ]
     },
     "execution_count": 154,
     "metadata": {},
     "output_type": "execute_result"
    }
   ],
   "source": [
    "df_ans['Real Class'].value_counts()"
   ]
  },
  {
   "cell_type": "code",
   "execution_count": 155,
   "metadata": {
    "collapsed": false
   },
   "outputs": [
    {
     "name": "stdout",
     "output_type": "stream",
     "text": [
      "1376/2400 [================>.............] - ETA: 0s"
     ]
    }
   ],
   "source": [
    "prediction_train = model.predict_classes(train_feature_trans)"
   ]
  },
  {
   "cell_type": "code",
   "execution_count": 156,
   "metadata": {
    "collapsed": true
   },
   "outputs": [],
   "source": [
    "df_train_ans = pd.DataFrame({'Real Class' :train_label})\n",
    "df_train_ans['Prediction'] = prediction_train"
   ]
  },
  {
   "cell_type": "code",
   "execution_count": 157,
   "metadata": {
    "collapsed": false
   },
   "outputs": [
    {
     "data": {
      "text/html": [
       "<div>\n",
       "<table border=\"1\" class=\"dataframe\">\n",
       "  <thead>\n",
       "    <tr style=\"text-align: right;\">\n",
       "      <th></th>\n",
       "      <th>Real Class</th>\n",
       "      <th>Prediction</th>\n",
       "    </tr>\n",
       "  </thead>\n",
       "  <tbody>\n",
       "    <tr>\n",
       "      <th>54</th>\n",
       "      <td>1.0</td>\n",
       "      <td>0</td>\n",
       "    </tr>\n",
       "    <tr>\n",
       "      <th>117</th>\n",
       "      <td>1.0</td>\n",
       "      <td>0</td>\n",
       "    </tr>\n",
       "    <tr>\n",
       "      <th>252</th>\n",
       "      <td>1.0</td>\n",
       "      <td>0</td>\n",
       "    </tr>\n",
       "    <tr>\n",
       "      <th>286</th>\n",
       "      <td>1.0</td>\n",
       "      <td>0</td>\n",
       "    </tr>\n",
       "    <tr>\n",
       "      <th>431</th>\n",
       "      <td>1.0</td>\n",
       "      <td>0</td>\n",
       "    </tr>\n",
       "    <tr>\n",
       "      <th>448</th>\n",
       "      <td>1.0</td>\n",
       "      <td>0</td>\n",
       "    </tr>\n",
       "    <tr>\n",
       "      <th>458</th>\n",
       "      <td>1.0</td>\n",
       "      <td>0</td>\n",
       "    </tr>\n",
       "    <tr>\n",
       "      <th>704</th>\n",
       "      <td>1.0</td>\n",
       "      <td>0</td>\n",
       "    </tr>\n",
       "    <tr>\n",
       "      <th>707</th>\n",
       "      <td>1.0</td>\n",
       "      <td>0</td>\n",
       "    </tr>\n",
       "    <tr>\n",
       "      <th>718</th>\n",
       "      <td>0.0</td>\n",
       "      <td>1</td>\n",
       "    </tr>\n",
       "    <tr>\n",
       "      <th>726</th>\n",
       "      <td>1.0</td>\n",
       "      <td>0</td>\n",
       "    </tr>\n",
       "    <tr>\n",
       "      <th>730</th>\n",
       "      <td>0.0</td>\n",
       "      <td>1</td>\n",
       "    </tr>\n",
       "    <tr>\n",
       "      <th>733</th>\n",
       "      <td>0.0</td>\n",
       "      <td>1</td>\n",
       "    </tr>\n",
       "    <tr>\n",
       "      <th>823</th>\n",
       "      <td>1.0</td>\n",
       "      <td>0</td>\n",
       "    </tr>\n",
       "    <tr>\n",
       "      <th>836</th>\n",
       "      <td>1.0</td>\n",
       "      <td>0</td>\n",
       "    </tr>\n",
       "    <tr>\n",
       "      <th>870</th>\n",
       "      <td>1.0</td>\n",
       "      <td>0</td>\n",
       "    </tr>\n",
       "    <tr>\n",
       "      <th>893</th>\n",
       "      <td>1.0</td>\n",
       "      <td>0</td>\n",
       "    </tr>\n",
       "    <tr>\n",
       "      <th>901</th>\n",
       "      <td>0.0</td>\n",
       "      <td>1</td>\n",
       "    </tr>\n",
       "    <tr>\n",
       "      <th>944</th>\n",
       "      <td>1.0</td>\n",
       "      <td>0</td>\n",
       "    </tr>\n",
       "    <tr>\n",
       "      <th>1025</th>\n",
       "      <td>1.0</td>\n",
       "      <td>0</td>\n",
       "    </tr>\n",
       "    <tr>\n",
       "      <th>1062</th>\n",
       "      <td>1.0</td>\n",
       "      <td>0</td>\n",
       "    </tr>\n",
       "    <tr>\n",
       "      <th>1123</th>\n",
       "      <td>1.0</td>\n",
       "      <td>0</td>\n",
       "    </tr>\n",
       "    <tr>\n",
       "      <th>1126</th>\n",
       "      <td>1.0</td>\n",
       "      <td>0</td>\n",
       "    </tr>\n",
       "    <tr>\n",
       "      <th>1171</th>\n",
       "      <td>1.0</td>\n",
       "      <td>0</td>\n",
       "    </tr>\n",
       "    <tr>\n",
       "      <th>1178</th>\n",
       "      <td>1.0</td>\n",
       "      <td>0</td>\n",
       "    </tr>\n",
       "    <tr>\n",
       "      <th>1185</th>\n",
       "      <td>1.0</td>\n",
       "      <td>0</td>\n",
       "    </tr>\n",
       "    <tr>\n",
       "      <th>1238</th>\n",
       "      <td>1.0</td>\n",
       "      <td>0</td>\n",
       "    </tr>\n",
       "    <tr>\n",
       "      <th>1239</th>\n",
       "      <td>1.0</td>\n",
       "      <td>0</td>\n",
       "    </tr>\n",
       "    <tr>\n",
       "      <th>1294</th>\n",
       "      <td>1.0</td>\n",
       "      <td>0</td>\n",
       "    </tr>\n",
       "    <tr>\n",
       "      <th>1320</th>\n",
       "      <td>1.0</td>\n",
       "      <td>0</td>\n",
       "    </tr>\n",
       "    <tr>\n",
       "      <th>...</th>\n",
       "      <td>...</td>\n",
       "      <td>...</td>\n",
       "    </tr>\n",
       "    <tr>\n",
       "      <th>1362</th>\n",
       "      <td>0.0</td>\n",
       "      <td>1</td>\n",
       "    </tr>\n",
       "    <tr>\n",
       "      <th>1457</th>\n",
       "      <td>0.0</td>\n",
       "      <td>1</td>\n",
       "    </tr>\n",
       "    <tr>\n",
       "      <th>1482</th>\n",
       "      <td>1.0</td>\n",
       "      <td>0</td>\n",
       "    </tr>\n",
       "    <tr>\n",
       "      <th>1500</th>\n",
       "      <td>1.0</td>\n",
       "      <td>0</td>\n",
       "    </tr>\n",
       "    <tr>\n",
       "      <th>1501</th>\n",
       "      <td>1.0</td>\n",
       "      <td>0</td>\n",
       "    </tr>\n",
       "    <tr>\n",
       "      <th>1534</th>\n",
       "      <td>1.0</td>\n",
       "      <td>0</td>\n",
       "    </tr>\n",
       "    <tr>\n",
       "      <th>1541</th>\n",
       "      <td>1.0</td>\n",
       "      <td>0</td>\n",
       "    </tr>\n",
       "    <tr>\n",
       "      <th>1570</th>\n",
       "      <td>1.0</td>\n",
       "      <td>0</td>\n",
       "    </tr>\n",
       "    <tr>\n",
       "      <th>1643</th>\n",
       "      <td>1.0</td>\n",
       "      <td>0</td>\n",
       "    </tr>\n",
       "    <tr>\n",
       "      <th>1672</th>\n",
       "      <td>1.0</td>\n",
       "      <td>0</td>\n",
       "    </tr>\n",
       "    <tr>\n",
       "      <th>1783</th>\n",
       "      <td>1.0</td>\n",
       "      <td>0</td>\n",
       "    </tr>\n",
       "    <tr>\n",
       "      <th>1836</th>\n",
       "      <td>1.0</td>\n",
       "      <td>0</td>\n",
       "    </tr>\n",
       "    <tr>\n",
       "      <th>1844</th>\n",
       "      <td>1.0</td>\n",
       "      <td>0</td>\n",
       "    </tr>\n",
       "    <tr>\n",
       "      <th>1847</th>\n",
       "      <td>1.0</td>\n",
       "      <td>0</td>\n",
       "    </tr>\n",
       "    <tr>\n",
       "      <th>1885</th>\n",
       "      <td>0.0</td>\n",
       "      <td>1</td>\n",
       "    </tr>\n",
       "    <tr>\n",
       "      <th>1932</th>\n",
       "      <td>1.0</td>\n",
       "      <td>0</td>\n",
       "    </tr>\n",
       "    <tr>\n",
       "      <th>1934</th>\n",
       "      <td>1.0</td>\n",
       "      <td>0</td>\n",
       "    </tr>\n",
       "    <tr>\n",
       "      <th>2028</th>\n",
       "      <td>1.0</td>\n",
       "      <td>0</td>\n",
       "    </tr>\n",
       "    <tr>\n",
       "      <th>2043</th>\n",
       "      <td>1.0</td>\n",
       "      <td>0</td>\n",
       "    </tr>\n",
       "    <tr>\n",
       "      <th>2068</th>\n",
       "      <td>1.0</td>\n",
       "      <td>0</td>\n",
       "    </tr>\n",
       "    <tr>\n",
       "      <th>2089</th>\n",
       "      <td>0.0</td>\n",
       "      <td>1</td>\n",
       "    </tr>\n",
       "    <tr>\n",
       "      <th>2126</th>\n",
       "      <td>1.0</td>\n",
       "      <td>0</td>\n",
       "    </tr>\n",
       "    <tr>\n",
       "      <th>2152</th>\n",
       "      <td>1.0</td>\n",
       "      <td>0</td>\n",
       "    </tr>\n",
       "    <tr>\n",
       "      <th>2169</th>\n",
       "      <td>1.0</td>\n",
       "      <td>0</td>\n",
       "    </tr>\n",
       "    <tr>\n",
       "      <th>2191</th>\n",
       "      <td>1.0</td>\n",
       "      <td>0</td>\n",
       "    </tr>\n",
       "    <tr>\n",
       "      <th>2205</th>\n",
       "      <td>1.0</td>\n",
       "      <td>0</td>\n",
       "    </tr>\n",
       "    <tr>\n",
       "      <th>2256</th>\n",
       "      <td>1.0</td>\n",
       "      <td>0</td>\n",
       "    </tr>\n",
       "    <tr>\n",
       "      <th>2293</th>\n",
       "      <td>1.0</td>\n",
       "      <td>0</td>\n",
       "    </tr>\n",
       "    <tr>\n",
       "      <th>2309</th>\n",
       "      <td>1.0</td>\n",
       "      <td>0</td>\n",
       "    </tr>\n",
       "    <tr>\n",
       "      <th>2331</th>\n",
       "      <td>1.0</td>\n",
       "      <td>0</td>\n",
       "    </tr>\n",
       "  </tbody>\n",
       "</table>\n",
       "<p>61 rows × 2 columns</p>\n",
       "</div>"
      ],
      "text/plain": [
       "      Real Class  Prediction\n",
       "54           1.0           0\n",
       "117          1.0           0\n",
       "252          1.0           0\n",
       "286          1.0           0\n",
       "431          1.0           0\n",
       "448          1.0           0\n",
       "458          1.0           0\n",
       "704          1.0           0\n",
       "707          1.0           0\n",
       "718          0.0           1\n",
       "726          1.0           0\n",
       "730          0.0           1\n",
       "733          0.0           1\n",
       "823          1.0           0\n",
       "836          1.0           0\n",
       "870          1.0           0\n",
       "893          1.0           0\n",
       "901          0.0           1\n",
       "944          1.0           0\n",
       "1025         1.0           0\n",
       "1062         1.0           0\n",
       "1123         1.0           0\n",
       "1126         1.0           0\n",
       "1171         1.0           0\n",
       "1178         1.0           0\n",
       "1185         1.0           0\n",
       "1238         1.0           0\n",
       "1239         1.0           0\n",
       "1294         1.0           0\n",
       "1320         1.0           0\n",
       "...          ...         ...\n",
       "1362         0.0           1\n",
       "1457         0.0           1\n",
       "1482         1.0           0\n",
       "1500         1.0           0\n",
       "1501         1.0           0\n",
       "1534         1.0           0\n",
       "1541         1.0           0\n",
       "1570         1.0           0\n",
       "1643         1.0           0\n",
       "1672         1.0           0\n",
       "1783         1.0           0\n",
       "1836         1.0           0\n",
       "1844         1.0           0\n",
       "1847         1.0           0\n",
       "1885         0.0           1\n",
       "1932         1.0           0\n",
       "1934         1.0           0\n",
       "2028         1.0           0\n",
       "2043         1.0           0\n",
       "2068         1.0           0\n",
       "2089         0.0           1\n",
       "2126         1.0           0\n",
       "2152         1.0           0\n",
       "2169         1.0           0\n",
       "2191         1.0           0\n",
       "2205         1.0           0\n",
       "2256         1.0           0\n",
       "2293         1.0           0\n",
       "2309         1.0           0\n",
       "2331         1.0           0\n",
       "\n",
       "[61 rows x 2 columns]"
      ]
     },
     "execution_count": 157,
     "metadata": {},
     "output_type": "execute_result"
    }
   ],
   "source": [
    "df_train_ans[ df_train_ans['Real Class'] != df_train_ans['Prediction'] ]"
   ]
  },
  {
   "cell_type": "code",
   "execution_count": 158,
   "metadata": {
    "collapsed": false
   },
   "outputs": [
    {
     "data": {
      "text/plain": [
       "0    2034\n",
       "1     366\n",
       "Name: Prediction, dtype: int64"
      ]
     },
     "execution_count": 158,
     "metadata": {},
     "output_type": "execute_result"
    }
   ],
   "source": [
    "df_train_ans['Prediction'].value_counts()"
   ]
  },
  {
   "cell_type": "code",
   "execution_count": 159,
   "metadata": {
    "collapsed": false
   },
   "outputs": [
    {
     "data": {
      "text/plain": [
       "0.0    1989\n",
       "1.0     411\n",
       "Name: Real Class, dtype: int64"
      ]
     },
     "execution_count": 159,
     "metadata": {},
     "output_type": "execute_result"
    }
   ],
   "source": [
    "df_train_ans['Real Class'].value_counts()"
   ]
  },
  {
   "cell_type": "markdown",
   "metadata": {},
   "source": [
    "# Confusion Matrix"
   ]
  },
  {
   "cell_type": "code",
   "execution_count": 160,
   "metadata": {
    "collapsed": false
   },
   "outputs": [
    {
     "name": "stdout",
     "output_type": "stream",
     "text": [
      "total test case number:  600\n"
     ]
    },
    {
     "data": {
      "image/png": "[encoded data removed]",
      "text/plain": [
       "<matplotlib.figure.Figure at 0x11ed7b048>"
      ]
     },
     "metadata": {},
     "output_type": "display_data"
    }
   ],
   "source": [
    "import seaborn as sns\n",
    "%matplotlib inline\n",
    "\n",
    "cols = ['Real_Class_1','Real_Class_0']  #Gold standard\n",
    "rows = ['Prediction_1','Prediction_0'] #diagnostic tool (our prediction)\n",
    "\n",
    "B1P1 = len(df_ans[(df_ans['Prediction'] == df_ans['Real Class']) & (df_ans['Real Class'] == 1)])\n",
    "B1P0 = len(df_ans[(df_ans['Prediction'] != df_ans['Real Class']) & (df_ans['Real Class'] == 1)])\n",
    "B0P1 = len(df_ans[(df_ans['Prediction'] != df_ans['Real Class']) & (df_ans['Real Class'] == 0)])\n",
    "B0P0 = len(df_ans[(df_ans['Prediction'] == df_ans['Real Class']) & (df_ans['Real Class'] == 0)])\n",
    "\n",
    "conf = np.array([[B1P1,B0P1],[B1P0,B0P0]])\n",
    "df_cm = pd.DataFrame(conf, columns = [i for i in cols], index = [i for i in rows])\n",
    "\n",
    "f, ax= plt.subplots(figsize = (5, 5))\n",
    "sns.heatmap(df_cm, annot=True, ax=ax, fmt='d') \n",
    "ax.xaxis.set_ticks_position('top') #Making x label be on top is common in textbooks.\n",
    "\n",
    "print('total test case number: ', np.sum(conf))"
   ]
  },
  {
   "cell_type": "code",
   "execution_count": 161,
   "metadata": {
    "collapsed": false
   },
   "outputs": [
    {
     "name": "stdout",
     "output_type": "stream",
     "text": [
      "total_num:  600\n",
      "G1P1:  74\n",
      "G0P1:  5\n",
      "G1P0:  7\n",
      "G0P0:  514\n",
      "##########################\n",
      "sensitivity:  0.913580246914\n",
      "specificity:  0.986564299424\n",
      "false_positive_rate:  0.00963391136802\n",
      "false_negative_rate:  0.0864197530864\n"
     ]
    },
    {
     "data": {
      "text/plain": [
       "(600,\n",
       " 0.9135802469135802,\n",
       " 0.98656429942418422,\n",
       " 0.0096339113680154135,\n",
       " 0.086419753086419748)"
      ]
     },
     "execution_count": 161,
     "metadata": {},
     "output_type": "execute_result"
    }
   ],
   "source": [
    "def model_efficacy(conf):\n",
    "    total_num = np.sum(conf)\n",
    "    sen = conf[0][0]/(conf[0][0]+conf[1][0])\n",
    "    spe = conf[1][1]/(conf[1][0]+conf[1][1])\n",
    "    false_positive_rate = conf[0][1]/(conf[0][1]+conf[1][1])\n",
    "    false_negative_rate = conf[1][0]/(conf[0][0]+conf[1][0])\n",
    "    \n",
    "    print('total_num: ',total_num)\n",
    "    print('G1P1: ',conf[0][0]) #G = gold standard; P = prediction\n",
    "    print('G0P1: ',conf[0][1])\n",
    "    print('G1P0: ',conf[1][0])\n",
    "    print('G0P0: ',conf[1][1])\n",
    "    print('##########################')\n",
    "    print('sensitivity: ',sen)\n",
    "    print('specificity: ',spe)\n",
    "    print('false_positive_rate: ',false_positive_rate)\n",
    "    print('false_negative_rate: ',false_negative_rate)\n",
    "    \n",
    "    return total_num, sen, spe, false_positive_rate, false_negative_rate\n",
    "\n",
    "model_efficacy(conf)"
   ]
  },
  {
   "cell_type": "markdown",
   "metadata": {},
   "source": [
    "# 分層抽樣才有可能達到好的預測效果?"
   ]
  },
  {
   "cell_type": "markdown",
   "metadata": {
    "collapsed": true
   },
   "source": [
    "## 以下實驗拿這個分層做出來的模型去預測大部分為0的數據，預設是false positive rate高"
   ]
  },
  {
   "cell_type": "code",
   "execution_count": 220,
   "metadata": {
    "collapsed": false
   },
   "outputs": [
    {
     "name": "stdout",
     "output_type": "stream",
     "text": [
      "284640/284807 [============================>.] - ETA: 0s\n",
      "\n",
      "accuracy= 0.988318405095\n",
      "284352/284807 [============================>.] - ETA: 0s"
     ]
    }
   ],
   "source": [
    "df_sample2 = df_full.iloc[:,:] #由於都是label=0，就不shuffle了\n",
    "\n",
    "feature2 = np.array(df_sample2.values[:,0:29])\n",
    "label2 = np.array(df_sample2.values[:,-1])\n",
    "\n",
    "feature2_trans = scaler.transform(feature2)\n",
    "\n",
    "######################### 實際測驗得分\n",
    "scores = model.evaluate(feature2_trans, label2)\n",
    "print('\\n')\n",
    "print('accuracy=',scores[1])\n",
    "\n",
    "######################### 紀錄模型預測情形（答案卷）\n",
    "prediction2 = model.predict_classes(feature2_trans)"
   ]
  },
  {
   "cell_type": "code",
   "execution_count": 221,
   "metadata": {
    "collapsed": false
   },
   "outputs": [],
   "source": [
    "unique, counts = np.unique(prediction2, return_counts=True)"
   ]
  },
  {
   "cell_type": "code",
   "execution_count": 222,
   "metadata": {
    "collapsed": false
   },
   "outputs": [
    {
     "data": {
      "text/plain": [
       "(array([0, 1], dtype=int32), array([281108,   3699]))"
      ]
     },
     "execution_count": 222,
     "metadata": {},
     "output_type": "execute_result"
    }
   ],
   "source": [
    "unique, counts ##結果相當不錯！！"
   ]
  },
  {
   "cell_type": "code",
   "execution_count": 223,
   "metadata": {
    "collapsed": false
   },
   "outputs": [],
   "source": [
    "prediction2_list = prediction2.reshape(-1).astype(int)"
   ]
  },
  {
   "cell_type": "code",
   "execution_count": 224,
   "metadata": {
    "collapsed": false
   },
   "outputs": [],
   "source": [
    "label2_list = label2.astype(int)"
   ]
  },
  {
   "cell_type": "code",
   "execution_count": 225,
   "metadata": {
    "collapsed": false
   },
   "outputs": [
    {
     "name": "stdout",
     "output_type": "stream",
     "text": [
      "             precision    recall  f1-score   support\n",
      "\n",
      "          0       1.00      0.99      0.99    284315\n",
      "          1       0.12      0.88      0.21       492\n",
      "\n",
      "avg / total       1.00      0.99      0.99    284807\n",
      "\n",
      "[[281048   3267]\n",
      " [    60    432]]\n"
     ]
    }
   ],
   "source": [
    "print(classification_report(label2_list, prediction2_list))\n",
    "print(confusion_matrix(label2_list, prediction2_list))"
   ]
  },
  {
   "cell_type": "code",
   "execution_count": 226,
   "metadata": {
    "collapsed": false
   },
   "outputs": [
    {
     "data": {
      "image/png": "[encoded data removed]",
      "text/plain": [
       "<matplotlib.figure.Figure at 0x133c62e48>"
      ]
     },
     "metadata": {},
     "output_type": "display_data"
    }
   ],
   "source": [
    "conf = confusion_matrix(label2_list, prediction2_list)\n",
    "f, ax= plt.subplots(figsize = (5, 5))\n",
    "sns.heatmap(conf, annot=True, ax=ax, fmt='d') \n",
    "ax.xaxis.set_ticks_position('top') #Making x label be on top is common in textbooks."
   ]
  },
  {
   "cell_type": "code",
   "execution_count": 227,
   "metadata": {
    "collapsed": false
   },
   "outputs": [
    {
     "name": "stdout",
     "output_type": "stream",
     "text": [
      "total_num:  284807\n",
      "G1P1:  281048\n",
      "G0P1:  3267\n",
      "G1P0:  60\n",
      "G0P0:  432\n",
      "##########################\n",
      "sensitivity:  0.999786558903\n",
      "specificity:  0.878048780488\n",
      "false_positive_rate:  0.883211678832\n",
      "false_negative_rate:  0.000213441097372\n"
     ]
    },
    {
     "data": {
      "text/plain": [
       "(284807,\n",
       " 0.99978655890262813,\n",
       " 0.87804878048780488,\n",
       " 0.88321167883211682,\n",
       " 0.00021344109737182862)"
      ]
     },
     "execution_count": 227,
     "metadata": {},
     "output_type": "execute_result"
    }
   ],
   "source": [
    "def model_efficacy(conf):\n",
    "    total_num = np.sum(conf)\n",
    "    sen = conf[0][0]/(conf[0][0]+conf[1][0])\n",
    "    spe = conf[1][1]/(conf[1][0]+conf[1][1])\n",
    "    false_positive_rate = conf[0][1]/(conf[0][1]+conf[1][1])\n",
    "    false_negative_rate = conf[1][0]/(conf[0][0]+conf[1][0])\n",
    "    \n",
    "    print('total_num: ',total_num)\n",
    "    print('G1P1: ',conf[0][0]) #G = gold standard; P = prediction\n",
    "    print('G0P1: ',conf[0][1])\n",
    "    print('G1P0: ',conf[1][0])\n",
    "    print('G0P0: ',conf[1][1])\n",
    "    print('##########################')\n",
    "    print('sensitivity: ',sen)\n",
    "    print('specificity: ',spe)\n",
    "    print('false_positive_rate: ',false_positive_rate)\n",
    "    print('false_negative_rate: ',false_negative_rate)\n",
    "    \n",
    "    return total_num, sen, spe, false_positive_rate, false_negative_rate\n",
    "\n",
    "model_efficacy(conf)"
   ]
  },
  {
   "cell_type": "markdown",
   "metadata": {},
   "source": [
    "# 分層抽樣在小樣本數有效，加大樣本時false positive也並沒有很誇張的跑出來！！"
   ]
  },
  {
   "cell_type": "markdown",
   "metadata": {},
   "source": [
    "## 總樣本28萬筆約有500筆詐騙，我們的模型可以揪出候選的3500筆資料，是個不錯的權衡！"
   ]
  }
 ],
 "metadata": {
  "anaconda-cloud": {},
  "kernelspec": {
   "display_name": "Python [default]",
   "language": "python",
   "name": "python3"
  },
  "language_info": {
   "codemirror_mode": {
    "name": "ipython",
    "version": 3
   },
   "file_extension": ".py",
   "mimetype": "text/x-python",
   "name": "python",
   "nbconvert_exporter": "python",
   "pygments_lexer": "ipython3",
   "version": "3.5.2"
  }
 },
 "nbformat": 4,
 "nbformat_minor": 2
}
