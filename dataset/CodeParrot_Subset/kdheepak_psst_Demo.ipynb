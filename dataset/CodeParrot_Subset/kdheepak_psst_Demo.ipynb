{
 "cells": [
  {
   "cell_type": "markdown",
   "metadata": {},
   "source": [
    "# How `NetworkModel` Works"
   ]
  },
  {
   "cell_type": "code",
   "execution_count": 1,
   "metadata": {
    "collapsed": true
   },
   "outputs": [],
   "source": [
    "import pandas as pd\n",
    "import numpy as np\n",
    "\n",
    "from psst.network.graph import (\n",
    "    NetworkModel, NetworkViewBase, NetworkView\n",
    ")\n",
    "\n",
    "from psst.case import read_matpower\n",
    "case = read_matpower('../cases/case118.m')"
   ]
  },
  {
   "cell_type": "markdown",
   "metadata": {},
   "source": [
    "## I. Creating a `NetworkModel`"
   ]
  },
  {
   "cell_type": "code",
   "execution_count": 2,
   "metadata": {},
   "outputs": [],
   "source": [
    "# Create the model from a PSSTCase, optionally passing a sel_bus\n",
    "m = NetworkModel(case, sel_bus='Bus1')"
   ]
  },
  {
   "cell_type": "markdown",
   "metadata": {},
   "source": [
    "### In the `__init__`, the `NetworkModel`..."
   ]
  },
  {
   "cell_type": "code",
   "execution_count": 3,
   "metadata": {},
   "outputs": [
    {
     "data": {
      "text/plain": [
       "<psst.case.PSSTCase(name=case118, Generators=54, Buses=118, Branches=186)>"
      ]
     },
     "metadata": {},
     "output_type": "display_data"
    },
    {
     "data": {
      "text/plain": [
       "<psst.network.PSSTNetwork(nodes=290, edges=351)>"
      ]
     },
     "metadata": {},
     "output_type": "display_data"
    },
    {
     "data": {
      "text/plain": [
       "<networkx.classes.graph.Graph at 0x7f223c0ec630>"
      ]
     },
     "metadata": {},
     "output_type": "display_data"
    },
    {
     "data": {
      "text/plain": [
       "<psst.model.PSSTModel(status=solved)>"
      ]
     },
     "metadata": {},
     "output_type": "display_data"
    }
   ],
   "source": [
    "display(m.case)     # saves the case\n",
    "display(m.network)  # creates a PSSTNetwork\n",
    "display(m.G)        # stores the networkX graph (an attribute of the PSSTNetwork)\n",
    "display(m.model)    # builds/solves the model"
   ]
  },
  {
   "cell_type": "code",
   "execution_count": 4,
   "metadata": {
    "scrolled": false
   },
   "outputs": [
    {
     "data": {
      "text/html": [
       "<div>\n",
       "<style>\n",
       "    .dataframe thead tr:only-child th {\n",
       "        text-align: right;\n",
       "    }\n",
       "\n",
       "    .dataframe thead th {\n",
       "        text-align: left;\n",
       "    }\n",
       "\n",
       "    .dataframe tbody tr th {\n",
       "        vertical-align: top;\n",
       "    }\n",
       "</style>\n",
       "<table border=\"1\" class=\"dataframe\">\n",
       "  <thead>\n",
       "    <tr style=\"text-align: right;\">\n",
       "      <th></th>\n",
       "      <th>x</th>\n",
       "      <th>y</th>\n",
       "    </tr>\n",
       "  </thead>\n",
       "  <tbody>\n",
       "    <tr>\n",
       "      <th>Bus1</th>\n",
       "      <td>1256.40</td>\n",
       "      <td>309.10</td>\n",
       "    </tr>\n",
       "    <tr>\n",
       "      <th>Bus10</th>\n",
       "      <td>1160.10</td>\n",
       "      <td>125.97</td>\n",
       "    </tr>\n",
       "    <tr>\n",
       "      <th>Bus100</th>\n",
       "      <td>302.49</td>\n",
       "      <td>229.74</td>\n",
       "    </tr>\n",
       "    <tr>\n",
       "      <th>Bus101</th>\n",
       "      <td>264.54</td>\n",
       "      <td>249.43</td>\n",
       "    </tr>\n",
       "    <tr>\n",
       "      <th>Bus102</th>\n",
       "      <td>244.91</td>\n",
       "      <td>278.67</td>\n",
       "    </tr>\n",
       "    <tr>\n",
       "      <th>Bus103</th>\n",
       "      <td>223.94</td>\n",
       "      <td>180.12</td>\n",
       "    </tr>\n",
       "    <tr>\n",
       "      <th>Bus104</th>\n",
       "      <td>254.56</td>\n",
       "      <td>190.97</td>\n",
       "    </tr>\n",
       "    <tr>\n",
       "      <th>Bus105</th>\n",
       "      <td>239.27</td>\n",
       "      <td>146.20</td>\n",
       "    </tr>\n",
       "    <tr>\n",
       "      <th>Bus106</th>\n",
       "      <td>278.94</td>\n",
       "      <td>166.79</td>\n",
       "    </tr>\n",
       "    <tr>\n",
       "      <th>Bus107</th>\n",
       "      <td>266.64</td>\n",
       "      <td>122.28</td>\n",
       "    </tr>\n",
       "  </tbody>\n",
       "</table>\n",
       "</div>"
      ],
      "text/plain": [
       "              x       y\n",
       "Bus1    1256.40  309.10\n",
       "Bus10   1160.10  125.97\n",
       "Bus100   302.49  229.74\n",
       "Bus101   264.54  249.43\n",
       "Bus102   244.91  278.67\n",
       "Bus103   223.94  180.12\n",
       "Bus104   254.56  190.97\n",
       "Bus105   239.27  146.20\n",
       "Bus106   278.94  166.79\n",
       "Bus107   266.64  122.28"
      ]
     },
     "execution_count": 4,
     "metadata": {},
     "output_type": "execute_result"
    }
   ],
   "source": [
    "# Creates df of x,y positions for each node (bus, load, gen), based off self.network.positions\n",
    "m.all_pos.head(n=10)"
   ]
  },
  {
   "cell_type": "code",
   "execution_count": 5,
   "metadata": {},
   "outputs": [
    {
     "data": {
      "text/html": [
       "<div>\n",
       "<style>\n",
       "    .dataframe thead tr:only-child th {\n",
       "        text-align: right;\n",
       "    }\n",
       "\n",
       "    .dataframe thead th {\n",
       "        text-align: left;\n",
       "    }\n",
       "\n",
       "    .dataframe tbody tr th {\n",
       "        vertical-align: top;\n",
       "    }\n",
       "</style>\n",
       "<table border=\"1\" class=\"dataframe\">\n",
       "  <thead>\n",
       "    <tr style=\"text-align: right;\">\n",
       "      <th></th>\n",
       "      <th></th>\n",
       "      <th>start_x</th>\n",
       "      <th>end_x</th>\n",
       "      <th>start_y</th>\n",
       "      <th>end_y</th>\n",
       "    </tr>\n",
       "    <tr>\n",
       "      <th>start</th>\n",
       "      <th>end</th>\n",
       "      <th></th>\n",
       "      <th></th>\n",
       "      <th></th>\n",
       "      <th></th>\n",
       "    </tr>\n",
       "  </thead>\n",
       "  <tbody>\n",
       "    <tr>\n",
       "      <th rowspan=\"4\" valign=\"top\">Bus1</th>\n",
       "      <th>GenCo0</th>\n",
       "      <td>1256.4</td>\n",
       "      <td>1293.9</td>\n",
       "      <td>309.10</td>\n",
       "      <td>304.33</td>\n",
       "    </tr>\n",
       "    <tr>\n",
       "      <th>Bus2</th>\n",
       "      <td>1256.4</td>\n",
       "      <td>1224.4</td>\n",
       "      <td>309.10</td>\n",
       "      <td>320.97</td>\n",
       "    </tr>\n",
       "    <tr>\n",
       "      <th>Bus3</th>\n",
       "      <td>1256.4</td>\n",
       "      <td>1208.9</td>\n",
       "      <td>309.10</td>\n",
       "      <td>284.35</td>\n",
       "    </tr>\n",
       "    <tr>\n",
       "      <th>Load_Bus1</th>\n",
       "      <td>1256.4</td>\n",
       "      <td>1288.0</td>\n",
       "      <td>309.10</td>\n",
       "      <td>329.57</td>\n",
       "    </tr>\n",
       "    <tr>\n",
       "      <th rowspan=\"2\" valign=\"top\">Bus2</th>\n",
       "      <th>Bus12</th>\n",
       "      <td>1224.4</td>\n",
       "      <td>1171.4</td>\n",
       "      <td>320.97</td>\n",
       "      <td>301.64</td>\n",
       "    </tr>\n",
       "    <tr>\n",
       "      <th>Load_Bus2</th>\n",
       "      <td>1224.4</td>\n",
       "      <td>1251.0</td>\n",
       "      <td>320.97</td>\n",
       "      <td>346.28</td>\n",
       "    </tr>\n",
       "    <tr>\n",
       "      <th rowspan=\"3\" valign=\"top\">Bus3</th>\n",
       "      <th>Bus5</th>\n",
       "      <td>1208.9</td>\n",
       "      <td>1164.1</td>\n",
       "      <td>284.35</td>\n",
       "      <td>239.66</td>\n",
       "    </tr>\n",
       "    <tr>\n",
       "      <th>Bus12</th>\n",
       "      <td>1208.9</td>\n",
       "      <td>1171.4</td>\n",
       "      <td>284.35</td>\n",
       "      <td>301.64</td>\n",
       "    </tr>\n",
       "    <tr>\n",
       "      <th>Load_Bus3</th>\n",
       "      <td>1208.9</td>\n",
       "      <td>1242.1</td>\n",
       "      <td>284.35</td>\n",
       "      <td>286.85</td>\n",
       "    </tr>\n",
       "    <tr>\n",
       "      <th>Bus4</th>\n",
       "      <th>GenCo1</th>\n",
       "      <td>1187.6</td>\n",
       "      <td>1200.6</td>\n",
       "      <td>226.31</td>\n",
       "      <td>190.94</td>\n",
       "    </tr>\n",
       "  </tbody>\n",
       "</table>\n",
       "</div>"
      ],
      "text/plain": [
       "                 start_x   end_x  start_y   end_y\n",
       "start end                                        \n",
       "Bus1  GenCo0      1256.4  1293.9   309.10  304.33\n",
       "      Bus2        1256.4  1224.4   309.10  320.97\n",
       "      Bus3        1256.4  1208.9   309.10  284.35\n",
       "      Load_Bus1   1256.4  1288.0   309.10  329.57\n",
       "Bus2  Bus12       1224.4  1171.4   320.97  301.64\n",
       "      Load_Bus2   1224.4  1251.0   320.97  346.28\n",
       "Bus3  Bus5        1208.9  1164.1   284.35  239.66\n",
       "      Bus12       1208.9  1171.4   284.35  301.64\n",
       "      Load_Bus3   1208.9  1242.1   284.35  286.85\n",
       "Bus4  GenCo1      1187.6  1200.6   226.31  190.94"
      ]
     },
     "execution_count": 5,
     "metadata": {},
     "output_type": "execute_result"
    }
   ],
   "source": [
    "# Creates a df of start and end x,y positions for each edge, based off self.G.edges()\n",
    "m.all_edges.head(n=10)"
   ]
  },
  {
   "cell_type": "markdown",
   "metadata": {},
   "source": [
    "### The `sel_bus` and `view_buses` attributes"
   ]
  },
  {
   "cell_type": "code",
   "execution_count": 6,
   "metadata": {},
   "outputs": [
    {
     "data": {
      "text/plain": [
       "'Bus1'"
      ]
     },
     "execution_count": 6,
     "metadata": {},
     "output_type": "execute_result"
    }
   ],
   "source": [
    "# `sel_bus` is a single bus, upon which the visualization is initially centered.\n",
    "# It can be changed programatically, or via the dropdown menu.\n",
    "\n",
    "m.sel_bus"
   ]
  },
  {
   "cell_type": "code",
   "execution_count": 7,
   "metadata": {},
   "outputs": [
    {
     "data": {
      "text/plain": [
       "['Bus1']"
      ]
     },
     "execution_count": 7,
     "metadata": {},
     "output_type": "execute_result"
    }
   ],
   "source": [
    "# At first, it is the only bus in view_buses.\n",
    "# More buses get added to view_buses as they are clicked.\n",
    "\n",
    "m.view_buses"
   ]
  },
  {
   "cell_type": "markdown",
   "metadata": {},
   "source": [
    "## II. Creating a `NetworkView` from the model"
   ]
  },
  {
   "cell_type": "code",
   "execution_count": 8,
   "metadata": {
    "collapsed": true
   },
   "outputs": [],
   "source": [
    "# Create the view from the model\n",
    "# (It can, alternatively, be created from a case.)\n",
    "\n",
    "v = NetworkView(model=m)"
   ]
  },
  {
   "cell_type": "code",
   "execution_count": 9,
   "metadata": {},
   "outputs": [
    {
     "data": {
      "application/vnd.jupyter.widget-view+json": {
       "model_id": "8565c2b76bea412a9133bdcf81a4837b",
       "version_major": 2,
       "version_minor": 0
      },
      "text/plain": [
       "A Jupyter Widget"
      ]
     },
     "metadata": {},
     "output_type": "display_data"
    }
   ],
   "source": [
    "v"
   ]
  },
  {
   "cell_type": "markdown",
   "metadata": {},
   "source": [
    "## III. Generating the x,y data for the view"
   ]
  },
  {
   "cell_type": "markdown",
   "metadata": {},
   "source": [
    "* Whenever the `view_buses` list get changed, it triggers the callback `_callback_view_change`\n",
    "    * This function first calls `subset_positions` and `subset_edges`\n",
    "    * Then, the subsetted DataFrames get segregated into seperate ones for `bus`, `gen`, and `load`\n",
    "    * Finally, the x,y coordinates are extracted into a format the `NetworkView` can use."
   ]
  },
  {
   "cell_type": "code",
   "execution_count": 10,
   "metadata": {},
   "outputs": [
    {
     "data": {
      "text/plain": [
       "['Bus1']"
      ]
     },
     "execution_count": 10,
     "metadata": {},
     "output_type": "execute_result"
    }
   ],
   "source": [
    "# The subsetting that occurs is all based on `view_buses`\n",
    "m.view_buses"
   ]
  },
  {
   "cell_type": "markdown",
   "metadata": {},
   "source": [
    "### The `subset_positions()` call"
   ]
  },
  {
   "cell_type": "code",
   "execution_count": 11,
   "metadata": {},
   "outputs": [
    {
     "data": {
      "text/html": [
       "<div>\n",
       "<style>\n",
       "    .dataframe thead tr:only-child th {\n",
       "        text-align: right;\n",
       "    }\n",
       "\n",
       "    .dataframe thead th {\n",
       "        text-align: left;\n",
       "    }\n",
       "\n",
       "    .dataframe tbody tr th {\n",
       "        vertical-align: top;\n",
       "    }\n",
       "</style>\n",
       "<table border=\"1\" class=\"dataframe\">\n",
       "  <thead>\n",
       "    <tr style=\"text-align: right;\">\n",
       "      <th></th>\n",
       "      <th>x</th>\n",
       "      <th>y</th>\n",
       "    </tr>\n",
       "  </thead>\n",
       "  <tbody>\n",
       "    <tr>\n",
       "      <th>GenCo0</th>\n",
       "      <td>1293.9</td>\n",
       "      <td>304.33</td>\n",
       "    </tr>\n",
       "    <tr>\n",
       "      <th>Bus2</th>\n",
       "      <td>1224.4</td>\n",
       "      <td>320.97</td>\n",
       "    </tr>\n",
       "    <tr>\n",
       "      <th>Bus3</th>\n",
       "      <td>1208.9</td>\n",
       "      <td>284.35</td>\n",
       "    </tr>\n",
       "    <tr>\n",
       "      <th>Bus1</th>\n",
       "      <td>1256.4</td>\n",
       "      <td>309.10</td>\n",
       "    </tr>\n",
       "    <tr>\n",
       "      <th>Load_Bus1</th>\n",
       "      <td>1288.0</td>\n",
       "      <td>329.57</td>\n",
       "    </tr>\n",
       "  </tbody>\n",
       "</table>\n",
       "</div>"
      ],
      "text/plain": [
       "                x       y\n",
       "GenCo0     1293.9  304.33\n",
       "Bus2       1224.4  320.97\n",
       "Bus3       1208.9  284.35\n",
       "Bus1       1256.4  309.10\n",
       "Load_Bus1  1288.0  329.57"
      ]
     },
     "execution_count": 11,
     "metadata": {},
     "output_type": "execute_result"
    }
   ],
   "source": [
    "# Subset positions creates self.pos\n",
    "m.pos"
   ]
  },
  {
   "cell_type": "markdown",
   "metadata": {},
   "source": [
    "The function looks like this:\n",
    "\n",
    "```python\n",
    "def subset_positions(self):\n",
    "    \"\"\"Subset self.all_pos to include only nodes adjacent to those in view_buses list.\"\"\"\n",
    "    nodes = [list(self.G.adj[item].keys()) for item in self.view_buses]  # get list of nodes adj to selected buses\n",
    "    nodes = set(itertools.chain.from_iterable(nodes))  # chain lists together, eliminate duplicates w/ set\n",
    "    nodes.update(self.view_buses)  # Add the view_buses themselves to the set\n",
    "    return self.all_pos.loc[nodes]  # Subset df of all positions to include only desired nodes.\n",
    "```"
   ]
  },
  {
   "cell_type": "markdown",
   "metadata": {},
   "source": [
    "### The `subset_edges()` call"
   ]
  },
  {
   "cell_type": "code",
   "execution_count": 12,
   "metadata": {},
   "outputs": [
    {
     "data": {
      "text/html": [
       "<div>\n",
       "<style>\n",
       "    .dataframe thead tr:only-child th {\n",
       "        text-align: right;\n",
       "    }\n",
       "\n",
       "    .dataframe thead th {\n",
       "        text-align: left;\n",
       "    }\n",
       "\n",
       "    .dataframe tbody tr th {\n",
       "        vertical-align: top;\n",
       "    }\n",
       "</style>\n",
       "<table border=\"1\" class=\"dataframe\">\n",
       "  <thead>\n",
       "    <tr style=\"text-align: right;\">\n",
       "      <th></th>\n",
       "      <th></th>\n",
       "      <th>start_x</th>\n",
       "      <th>end_x</th>\n",
       "      <th>start_y</th>\n",
       "      <th>end_y</th>\n",
       "    </tr>\n",
       "    <tr>\n",
       "      <th>start</th>\n",
       "      <th>end</th>\n",
       "      <th></th>\n",
       "      <th></th>\n",
       "      <th></th>\n",
       "      <th></th>\n",
       "    </tr>\n",
       "  </thead>\n",
       "  <tbody>\n",
       "    <tr>\n",
       "      <th rowspan=\"4\" valign=\"top\">Bus1</th>\n",
       "      <th>GenCo0</th>\n",
       "      <td>1256.4</td>\n",
       "      <td>1293.9</td>\n",
       "      <td>309.1</td>\n",
       "      <td>304.33</td>\n",
       "    </tr>\n",
       "    <tr>\n",
       "      <th>Bus2</th>\n",
       "      <td>1256.4</td>\n",
       "      <td>1224.4</td>\n",
       "      <td>309.1</td>\n",
       "      <td>320.97</td>\n",
       "    </tr>\n",
       "    <tr>\n",
       "      <th>Bus3</th>\n",
       "      <td>1256.4</td>\n",
       "      <td>1208.9</td>\n",
       "      <td>309.1</td>\n",
       "      <td>284.35</td>\n",
       "    </tr>\n",
       "    <tr>\n",
       "      <th>Load_Bus1</th>\n",
       "      <td>1256.4</td>\n",
       "      <td>1288.0</td>\n",
       "      <td>309.1</td>\n",
       "      <td>329.57</td>\n",
       "    </tr>\n",
       "  </tbody>\n",
       "</table>\n",
       "</div>"
      ],
      "text/plain": [
       "                 start_x   end_x  start_y   end_y\n",
       "start end                                        \n",
       "Bus1  GenCo0      1256.4  1293.9    309.1  304.33\n",
       "      Bus2        1256.4  1224.4    309.1  320.97\n",
       "      Bus3        1256.4  1208.9    309.1  284.35\n",
       "      Load_Bus1   1256.4  1288.0    309.1  329.57"
      ]
     },
     "execution_count": 12,
     "metadata": {},
     "output_type": "execute_result"
    }
   ],
   "source": [
    "# Subset edges creates self.edges\n",
    "m.edges"
   ]
  },
  {
   "cell_type": "markdown",
   "metadata": {},
   "source": [
    "The function looks like this:\n",
    "\n",
    "```python\n",
    "def subset_edges(self):\n",
    "    \"\"\"Subset all_edges, with G.edges() info, based on view_buses list.\"\"\"\n",
    "    edge_list = self.G.edges(nbunch=self.view_buses)  # get edges of view_buses as list of tuples\n",
    "    edges_fwd = self.all_edges.loc[edge_list]  # query all_pos with edge_list\n",
    "    edge_list_rev = [tuple(reversed(tup)) for tup in edge_list]  # reverse order of each tuple\n",
    "    edges_rev = self.all_edges.loc[edge_list_rev]  # query all_pos again, with reversed edge_list\n",
    "    edges = edges_fwd.append(edges_rev).dropna(subset=['start_x'])  # combine results, dropping false hits\n",
    "    return edges\n",
    "```"
   ]
  },
  {
   "cell_type": "markdown",
   "metadata": {},
   "source": [
    "** If you want a closer look...**"
   ]
  },
  {
   "cell_type": "code",
   "execution_count": 13,
   "metadata": {
    "collapsed": true
   },
   "outputs": [],
   "source": [
    "m.view_buses = ['Bus2','Bus3']"
   ]
  },
  {
   "cell_type": "code",
   "execution_count": 14,
   "metadata": {},
   "outputs": [
    {
     "data": {
      "text/plain": [
       "[('Bus2', 'Bus1'),\n",
       " ('Bus2', 'Bus12'),\n",
       " ('Bus2', 'Load_Bus2'),\n",
       " ('Bus3', 'Bus1'),\n",
       " ('Bus3', 'Bus5'),\n",
       " ('Bus3', 'Bus12'),\n",
       " ('Bus3', 'Load_Bus3')]"
      ]
     },
     "execution_count": 14,
     "metadata": {},
     "output_type": "execute_result"
    }
   ],
   "source": [
    "edge_list = m.G.edges(nbunch=m.view_buses)  # get edges of view_buses as list of tuples\n",
    "edge_list"
   ]
  },
  {
   "cell_type": "code",
   "execution_count": 15,
   "metadata": {},
   "outputs": [
    {
     "data": {
      "text/html": [
       "<div>\n",
       "<style>\n",
       "    .dataframe thead tr:only-child th {\n",
       "        text-align: right;\n",
       "    }\n",
       "\n",
       "    .dataframe thead th {\n",
       "        text-align: left;\n",
       "    }\n",
       "\n",
       "    .dataframe tbody tr th {\n",
       "        vertical-align: top;\n",
       "    }\n",
       "</style>\n",
       "<table border=\"1\" class=\"dataframe\">\n",
       "  <thead>\n",
       "    <tr style=\"text-align: right;\">\n",
       "      <th></th>\n",
       "      <th></th>\n",
       "      <th>start_x</th>\n",
       "      <th>end_x</th>\n",
       "      <th>start_y</th>\n",
       "      <th>end_y</th>\n",
       "    </tr>\n",
       "    <tr>\n",
       "      <th>start</th>\n",
       "      <th>end</th>\n",
       "      <th></th>\n",
       "      <th></th>\n",
       "      <th></th>\n",
       "      <th></th>\n",
       "    </tr>\n",
       "  </thead>\n",
       "  <tbody>\n",
       "    <tr>\n",
       "      <th rowspan=\"3\" valign=\"top\">Bus2</th>\n",
       "      <th>Bus1</th>\n",
       "      <td>NaN</td>\n",
       "      <td>NaN</td>\n",
       "      <td>NaN</td>\n",
       "      <td>NaN</td>\n",
       "    </tr>\n",
       "    <tr>\n",
       "      <th>Bus12</th>\n",
       "      <td>1224.4</td>\n",
       "      <td>1171.4</td>\n",
       "      <td>320.97</td>\n",
       "      <td>301.64</td>\n",
       "    </tr>\n",
       "    <tr>\n",
       "      <th>Load_Bus2</th>\n",
       "      <td>1224.4</td>\n",
       "      <td>1251.0</td>\n",
       "      <td>320.97</td>\n",
       "      <td>346.28</td>\n",
       "    </tr>\n",
       "    <tr>\n",
       "      <th rowspan=\"4\" valign=\"top\">Bus3</th>\n",
       "      <th>Bus1</th>\n",
       "      <td>NaN</td>\n",
       "      <td>NaN</td>\n",
       "      <td>NaN</td>\n",
       "      <td>NaN</td>\n",
       "    </tr>\n",
       "    <tr>\n",
       "      <th>Bus5</th>\n",
       "      <td>1208.9</td>\n",
       "      <td>1164.1</td>\n",
       "      <td>284.35</td>\n",
       "      <td>239.66</td>\n",
       "    </tr>\n",
       "    <tr>\n",
       "      <th>Bus12</th>\n",
       "      <td>1208.9</td>\n",
       "      <td>1171.4</td>\n",
       "      <td>284.35</td>\n",
       "      <td>301.64</td>\n",
       "    </tr>\n",
       "    <tr>\n",
       "      <th>Load_Bus3</th>\n",
       "      <td>1208.9</td>\n",
       "      <td>1242.1</td>\n",
       "      <td>284.35</td>\n",
       "      <td>286.85</td>\n",
       "    </tr>\n",
       "  </tbody>\n",
       "</table>\n",
       "</div>"
      ],
      "text/plain": [
       "                 start_x   end_x  start_y   end_y\n",
       "start end                                        \n",
       "Bus2  Bus1           NaN     NaN      NaN     NaN\n",
       "      Bus12       1224.4  1171.4   320.97  301.64\n",
       "      Load_Bus2   1224.4  1251.0   320.97  346.28\n",
       "Bus3  Bus1           NaN     NaN      NaN     NaN\n",
       "      Bus5        1208.9  1164.1   284.35  239.66\n",
       "      Bus12       1208.9  1171.4   284.35  301.64\n",
       "      Load_Bus3   1208.9  1242.1   284.35  286.85"
      ]
     },
     "execution_count": 15,
     "metadata": {},
     "output_type": "execute_result"
    }
   ],
   "source": [
    "edges_fwd = m.all_edges.loc[edge_list]  # query all_pos with edge_list\n",
    "edges_fwd"
   ]
  },
  {
   "cell_type": "code",
   "execution_count": 16,
   "metadata": {},
   "outputs": [
    {
     "data": {
      "text/plain": [
       "[('Bus1', 'Bus2'),\n",
       " ('Bus12', 'Bus2'),\n",
       " ('Load_Bus2', 'Bus2'),\n",
       " ('Bus1', 'Bus3'),\n",
       " ('Bus5', 'Bus3'),\n",
       " ('Bus12', 'Bus3'),\n",
       " ('Load_Bus3', 'Bus3')]"
      ]
     },
     "execution_count": 16,
     "metadata": {},
     "output_type": "execute_result"
    }
   ],
   "source": [
    "edge_list_rev = [tuple(reversed(tup)) for tup in edge_list]  # reverse order of each tuple\n",
    "edge_list_rev"
   ]
  },
  {
   "cell_type": "code",
   "execution_count": 17,
   "metadata": {},
   "outputs": [
    {
     "data": {
      "text/html": [
       "<div>\n",
       "<style>\n",
       "    .dataframe thead tr:only-child th {\n",
       "        text-align: right;\n",
       "    }\n",
       "\n",
       "    .dataframe thead th {\n",
       "        text-align: left;\n",
       "    }\n",
       "\n",
       "    .dataframe tbody tr th {\n",
       "        vertical-align: top;\n",
       "    }\n",
       "</style>\n",
       "<table border=\"1\" class=\"dataframe\">\n",
       "  <thead>\n",
       "    <tr style=\"text-align: right;\">\n",
       "      <th></th>\n",
       "      <th></th>\n",
       "      <th>start_x</th>\n",
       "      <th>end_x</th>\n",
       "      <th>start_y</th>\n",
       "      <th>end_y</th>\n",
       "    </tr>\n",
       "    <tr>\n",
       "      <th>start</th>\n",
       "      <th>end</th>\n",
       "      <th></th>\n",
       "      <th></th>\n",
       "      <th></th>\n",
       "      <th></th>\n",
       "    </tr>\n",
       "  </thead>\n",
       "  <tbody>\n",
       "    <tr>\n",
       "      <th>Bus1</th>\n",
       "      <th>Bus2</th>\n",
       "      <td>1256.4</td>\n",
       "      <td>1224.4</td>\n",
       "      <td>309.1</td>\n",
       "      <td>320.97</td>\n",
       "    </tr>\n",
       "    <tr>\n",
       "      <th>Bus12</th>\n",
       "      <th>Bus2</th>\n",
       "      <td>NaN</td>\n",
       "      <td>NaN</td>\n",
       "      <td>NaN</td>\n",
       "      <td>NaN</td>\n",
       "    </tr>\n",
       "    <tr>\n",
       "      <th>Load_Bus2</th>\n",
       "      <th>Bus2</th>\n",
       "      <td>NaN</td>\n",
       "      <td>NaN</td>\n",
       "      <td>NaN</td>\n",
       "      <td>NaN</td>\n",
       "    </tr>\n",
       "    <tr>\n",
       "      <th>Bus1</th>\n",
       "      <th>Bus3</th>\n",
       "      <td>1256.4</td>\n",
       "      <td>1208.9</td>\n",
       "      <td>309.1</td>\n",
       "      <td>284.35</td>\n",
       "    </tr>\n",
       "    <tr>\n",
       "      <th>Bus5</th>\n",
       "      <th>Bus3</th>\n",
       "      <td>NaN</td>\n",
       "      <td>NaN</td>\n",
       "      <td>NaN</td>\n",
       "      <td>NaN</td>\n",
       "    </tr>\n",
       "    <tr>\n",
       "      <th>Bus12</th>\n",
       "      <th>Bus3</th>\n",
       "      <td>NaN</td>\n",
       "      <td>NaN</td>\n",
       "      <td>NaN</td>\n",
       "      <td>NaN</td>\n",
       "    </tr>\n",
       "    <tr>\n",
       "      <th>Load_Bus3</th>\n",
       "      <th>Bus3</th>\n",
       "      <td>NaN</td>\n",
       "      <td>NaN</td>\n",
       "      <td>NaN</td>\n",
       "      <td>NaN</td>\n",
       "    </tr>\n",
       "  </tbody>\n",
       "</table>\n",
       "</div>"
      ],
      "text/plain": [
       "                start_x   end_x  start_y   end_y\n",
       "start     end                                   \n",
       "Bus1      Bus2   1256.4  1224.4    309.1  320.97\n",
       "Bus12     Bus2      NaN     NaN      NaN     NaN\n",
       "Load_Bus2 Bus2      NaN     NaN      NaN     NaN\n",
       "Bus1      Bus3   1256.4  1208.9    309.1  284.35\n",
       "Bus5      Bus3      NaN     NaN      NaN     NaN\n",
       "Bus12     Bus3      NaN     NaN      NaN     NaN\n",
       "Load_Bus3 Bus3      NaN     NaN      NaN     NaN"
      ]
     },
     "execution_count": 17,
     "metadata": {},
     "output_type": "execute_result"
    }
   ],
   "source": [
    "edges_rev = m.all_edges.loc[edge_list_rev]  # query all_pos again, with reversed edge_list\n",
    "edges_rev"
   ]
  },
  {
   "cell_type": "code",
   "execution_count": 18,
   "metadata": {},
   "outputs": [
    {
     "data": {
      "text/html": [
       "<div>\n",
       "<style>\n",
       "    .dataframe thead tr:only-child th {\n",
       "        text-align: right;\n",
       "    }\n",
       "\n",
       "    .dataframe thead th {\n",
       "        text-align: left;\n",
       "    }\n",
       "\n",
       "    .dataframe tbody tr th {\n",
       "        vertical-align: top;\n",
       "    }\n",
       "</style>\n",
       "<table border=\"1\" class=\"dataframe\">\n",
       "  <thead>\n",
       "    <tr style=\"text-align: right;\">\n",
       "      <th></th>\n",
       "      <th></th>\n",
       "      <th>start_x</th>\n",
       "      <th>end_x</th>\n",
       "      <th>start_y</th>\n",
       "      <th>end_y</th>\n",
       "    </tr>\n",
       "    <tr>\n",
       "      <th>start</th>\n",
       "      <th>end</th>\n",
       "      <th></th>\n",
       "      <th></th>\n",
       "      <th></th>\n",
       "      <th></th>\n",
       "    </tr>\n",
       "  </thead>\n",
       "  <tbody>\n",
       "    <tr>\n",
       "      <th rowspan=\"2\" valign=\"top\">Bus2</th>\n",
       "      <th>Bus12</th>\n",
       "      <td>1224.4</td>\n",
       "      <td>1171.4</td>\n",
       "      <td>320.97</td>\n",
       "      <td>301.64</td>\n",
       "    </tr>\n",
       "    <tr>\n",
       "      <th>Load_Bus2</th>\n",
       "      <td>1224.4</td>\n",
       "      <td>1251.0</td>\n",
       "      <td>320.97</td>\n",
       "      <td>346.28</td>\n",
       "    </tr>\n",
       "    <tr>\n",
       "      <th rowspan=\"3\" valign=\"top\">Bus3</th>\n",
       "      <th>Bus5</th>\n",
       "      <td>1208.9</td>\n",
       "      <td>1164.1</td>\n",
       "      <td>284.35</td>\n",
       "      <td>239.66</td>\n",
       "    </tr>\n",
       "    <tr>\n",
       "      <th>Bus12</th>\n",
       "      <td>1208.9</td>\n",
       "      <td>1171.4</td>\n",
       "      <td>284.35</td>\n",
       "      <td>301.64</td>\n",
       "    </tr>\n",
       "    <tr>\n",
       "      <th>Load_Bus3</th>\n",
       "      <td>1208.9</td>\n",
       "      <td>1242.1</td>\n",
       "      <td>284.35</td>\n",
       "      <td>286.85</td>\n",
       "    </tr>\n",
       "    <tr>\n",
       "      <th rowspan=\"2\" valign=\"top\">Bus1</th>\n",
       "      <th>Bus2</th>\n",
       "      <td>1256.4</td>\n",
       "      <td>1224.4</td>\n",
       "      <td>309.10</td>\n",
       "      <td>320.97</td>\n",
       "    </tr>\n",
       "    <tr>\n",
       "      <th>Bus3</th>\n",
       "      <td>1256.4</td>\n",
       "      <td>1208.9</td>\n",
       "      <td>309.10</td>\n",
       "      <td>284.35</td>\n",
       "    </tr>\n",
       "  </tbody>\n",
       "</table>\n",
       "</div>"
      ],
      "text/plain": [
       "                 start_x   end_x  start_y   end_y\n",
       "start end                                        \n",
       "Bus2  Bus12       1224.4  1171.4   320.97  301.64\n",
       "      Load_Bus2   1224.4  1251.0   320.97  346.28\n",
       "Bus3  Bus5        1208.9  1164.1   284.35  239.66\n",
       "      Bus12       1208.9  1171.4   284.35  301.64\n",
       "      Load_Bus3   1208.9  1242.1   284.35  286.85\n",
       "Bus1  Bus2        1256.4  1224.4   309.10  320.97\n",
       "      Bus3        1256.4  1208.9   309.10  284.35"
      ]
     },
     "execution_count": 18,
     "metadata": {},
     "output_type": "execute_result"
    }
   ],
   "source": [
    "edges = edges_fwd.append(edges_rev).dropna(subset=['start_x'])  # combine results, dropping false hits\n",
    "edges"
   ]
  },
  {
   "cell_type": "markdown",
   "metadata": {},
   "source": [
    "### Segregating DataFrames and extracting data"
   ]
  },
  {
   "cell_type": "markdown",
   "metadata": {},
   "source": [
    "* The DataFrames are segregated into `bus`, `case`, and `load`, using the names in `case.bus`, `case.gen`, and `case.load`\n",
    "* x,y data is extracted, ready to be plotted by `NetworkView`"
   ]
  },
  {
   "cell_type": "markdown",
   "metadata": {},
   "source": [
    "---\n",
    "Extracting bus data looks like this:\n",
    "\n",
    "```python\n",
    "bus_pos = self.pos[self.pos.index.isin(self.case.bus_name)]\n",
    "self.bus_x_vals = bus_pos['x']\n",
    "self.bus_y_vals = bus_pos['y']\n",
    "self.bus_names = list(bus_pos.index)\n",
    "```\n",
    "\n",
    "(Similar for the other nodes)"
   ]
  },
  {
   "cell_type": "code",
   "execution_count": 19,
   "metadata": {},
   "outputs": [
    {
     "name": "stdout",
     "output_type": "stream",
     "text": [
      "x_vals:  [ 1171.4  1224.4  1208.9  1164.1  1256.4]\n",
      "y_vals:  [ 301.64  320.97  284.35  239.66  309.1 ]\n",
      "names:   ['Bus12', 'Bus2', 'Bus3', 'Bus5', 'Bus1']\n"
     ]
    }
   ],
   "source": [
    "print(\"x_vals: \", m.bus_x_vals)\n",
    "print(\"y_vals: \", m.bus_y_vals)\n",
    "print(\"names:  \", m.bus_names)"
   ]
  },
  {
   "cell_type": "markdown",
   "metadata": {},
   "source": [
    "---\n",
    "Extracting branch data looks like this:\n",
    "\n",
    "```python\n",
    "edges = self.edges.reset_index()\n",
    "\n",
    "_df = edges.loc[edges.start.isin(self.case.bus_name) & edges.end.isin(self.case.bus_name)]\n",
    "self.bus_x_edges = [tuple(edge) for edge in _df[['start_x', 'end_x']].values]\n",
    "self.bus_y_edges = [tuple(edge) for edge in _df[['start_y', 'end_y']].values]\n",
    "```\n",
    "\n",
    "(Similar for the other edges)"
   ]
  },
  {
   "cell_type": "code",
   "execution_count": 20,
   "metadata": {},
   "outputs": [
    {
     "name": "stdout",
     "output_type": "stream",
     "text": [
      "bus_x_edges:\n",
      "[[ 1224.4  1171.4]\n",
      " [ 1208.9  1164.1]\n",
      " [ 1208.9  1171.4]\n",
      " [ 1256.4  1224.4]\n",
      " [ 1256.4  1208.9]]\n",
      "\n",
      "bus_y_edges:\n",
      "[[ 320.97  301.64]\n",
      " [ 284.35  239.66]\n",
      " [ 284.35  301.64]\n",
      " [ 309.1   320.97]\n",
      " [ 309.1   284.35]]\n"
     ]
    }
   ],
   "source": [
    "print(\"bus_x_edges:\")\n",
    "print(m.bus_x_edges)\n",
    "\n",
    "print(\"\\nbus_y_edges:\")\n",
    "print(m.bus_y_edges)"
   ]
  }
 ],
 "metadata": {
  "kernelspec": {
   "display_name": "Python 3",
   "language": "python",
   "name": "python3"
  },
  "language_info": {
   "codemirror_mode": {
    "name": "ipython",
    "version": 3
   },
   "file_extension": ".py",
   "mimetype": "text/x-python",
   "name": "python",
   "nbconvert_exporter": "python",
   "pygments_lexer": "ipython3",
   "version": "3.6.2"
  }
 },
 "nbformat": 4,
 "nbformat_minor": 2
}
