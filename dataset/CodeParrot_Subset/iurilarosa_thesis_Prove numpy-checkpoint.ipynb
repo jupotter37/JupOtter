{
 "cells": [
  {
   "cell_type": "code",
   "execution_count": 1,
   "metadata": {
    "collapsed": true,
    "deletable": true,
    "editable": true
   },
   "outputs": [],
   "source": [
    "import numpy\n",
    "from scipy import sparse"
   ]
  },
  {
   "cell_type": "markdown",
   "metadata": {
    "deletable": true,
    "editable": true
   },
   "source": [
    "## Prove manipolazioni array"
   ]
  },
  {
   "cell_type": "code",
   "execution_count": 240,
   "metadata": {
    "collapsed": false,
    "deletable": true,
    "editable": true
   },
   "outputs": [],
   "source": [
    "unimatr = numpy.ones((10,10))\n",
    "#unimatr\n",
    "duimatr = unimatr*2\n",
    "#duimatr\n",
    "\n",
    "uniarray = numpy.ones((10,1))\n",
    "#uniarray\n",
    "\n",
    "triarray = uniarray*3\n",
    "\n",
    "scalarray = numpy.arange(10)\n",
    "scalarray = scalarray.reshape(10,1)\n",
    "\n",
    "#NB fare il reshape da orizzontale a verticale è come se aggiungesse\n",
    "#una dimensione all'array facendolo diventare un ndarray\n",
    "#(prima era un array semplice, poi diventa un array (x,1), quindi puoi fare trasposto)\n",
    "#NB NUMPY NON FA TRASPOSTO DI ARRAY SEMPLICE!\n",
    "#scalarray\n",
    "scalarray.T\n",
    "\n",
    "ramatricia = numpy.random.randint(2, size=36).reshape((6,6))\n",
    "ramatricia2 = numpy.random.randint(2, size=36).reshape((6,6))"
   ]
  },
  {
   "cell_type": "code",
   "execution_count": 241,
   "metadata": {
    "collapsed": false,
    "deletable": true,
    "editable": true
   },
   "outputs": [
    {
     "data": {
      "text/plain": [
       "array([[3, 2, 1, 0, 1, 2],\n",
       "       [3, 2, 2, 0, 2, 3],\n",
       "       [2, 0, 1, 0, 2, 1],\n",
       "       [3, 2, 3, 0, 3, 2],\n",
       "       [2, 2, 2, 0, 2, 2],\n",
       "       [1, 1, 0, 0, 0, 1]])"
      ]
     },
     "execution_count": 241,
     "metadata": {},
     "output_type": "execute_result"
    }
   ],
   "source": [
    "#WARNING questa operazione moltiplica elemento per elemento\n",
    "#se l'oggetto è di dimensione inferiore moltiplica ogni riga/colonna\n",
    "# o matrice verticale/orizzontale a seconda della forma dell'oggetto\n",
    "\n",
    "duimatr*scalarray\n",
    "#duimatr*scalarray.T\n",
    "#duimatr*duimatr\n",
    "ramatricia*ramatricia2\n",
    "\n",
    "#numpy dot invece fa prodotto matriciale righe per colonne\n",
    "\n",
    "numpy.dot(duimatr,scalarray)\n",
    "#numpy.dot(duimatr,duimatr)\n",
    "numpy.dot(ramatricia2,ramatricia)"
   ]
  },
  {
   "cell_type": "code",
   "execution_count": 6,
   "metadata": {
    "collapsed": false,
    "deletable": true,
    "editable": true
   },
   "outputs": [
    {
     "data": {
      "text/plain": [
       "array([[  2.,   2.,   2.,   2.,   2.,   2.,   2.,   2.,   2.,   2.],\n",
       "       [  3.,   3.,   3.,   3.,   3.,   3.,   3.,   3.,   3.,   3.],\n",
       "       [  4.,   4.,   4.,   4.,   4.,   4.,   4.,   4.,   4.,   4.],\n",
       "       [  5.,   5.,   5.,   5.,   5.,   5.,   5.,   5.,   5.,   5.],\n",
       "       [  6.,   6.,   6.,   6.,   6.,   6.,   6.,   6.,   6.,   6.],\n",
       "       [  7.,   7.,   7.,   7.,   7.,   7.,   7.,   7.,   7.,   7.],\n",
       "       [  8.,   8.,   8.,   8.,   8.,   8.,   8.,   8.,   8.,   8.],\n",
       "       [  9.,   9.,   9.,   9.,   9.,   9.,   9.,   9.,   9.,   9.],\n",
       "       [ 10.,  10.,  10.,  10.,  10.,  10.,  10.,  10.,  10.,  10.],\n",
       "       [ 11.,  11.,  11.,  11.,  11.,  11.,  11.,  11.,  11.,  11.]])"
      ]
     },
     "execution_count": 6,
     "metadata": {},
     "output_type": "execute_result"
    }
   ],
   "source": [
    "duimatr + scalarray"
   ]
  },
  {
   "cell_type": "markdown",
   "metadata": {
    "deletable": true,
    "editable": true
   },
   "source": [
    "## Prove creazione matrice 3D con prodotti esterni"
   ]
  },
  {
   "cell_type": "code",
   "execution_count": 242,
   "metadata": {
    "collapsed": false,
    "deletable": true,
    "editable": true
   },
   "outputs": [
    {
     "data": {
      "text/plain": [
       "array([[ 0.,  0.,  0.,  0.,  0.,  0.,  0.,  0.,  0.,  0.],\n",
       "       [ 1.,  1.,  1.,  1.,  1.,  1.,  1.,  1.,  1.,  1.],\n",
       "       [ 2.,  2.,  2.,  2.,  2.,  2.,  2.,  2.,  2.,  2.],\n",
       "       [ 3.,  3.,  3.,  3.,  3.,  3.,  3.,  3.,  3.,  3.],\n",
       "       [ 4.,  4.,  4.,  4.,  4.,  4.,  4.,  4.,  4.,  4.],\n",
       "       [ 5.,  5.,  5.,  5.,  5.,  5.,  5.,  5.,  5.,  5.],\n",
       "       [ 6.,  6.,  6.,  6.,  6.,  6.,  6.,  6.,  6.,  6.],\n",
       "       [ 7.,  7.,  7.,  7.,  7.,  7.,  7.,  7.,  7.,  7.],\n",
       "       [ 8.,  8.,  8.,  8.,  8.,  8.,  8.,  8.,  8.,  8.],\n",
       "       [ 9.,  9.,  9.,  9.,  9.,  9.,  9.,  9.,  9.,  9.]])"
      ]
     },
     "execution_count": 242,
     "metadata": {},
     "output_type": "execute_result"
    }
   ],
   "source": [
    "scalarray = numpy.arange(10)\n",
    "uniarray = numpy.ones(10)\n",
    "\n",
    "matricia = numpy.outer(scalarray, uniarray)\n",
    "matricia"
   ]
  },
  {
   "cell_type": "code",
   "execution_count": 243,
   "metadata": {
    "collapsed": false,
    "deletable": true,
    "editable": true
   },
   "outputs": [
    {
     "data": {
      "text/plain": [
       "array([[[  0.,   0.,   0.,   0.,   0.,   0.,   0.,   0.,   0.,   0.],\n",
       "        [  0.,   0.,   0.,   0.,   0.,   0.,   0.,   0.,   0.,   0.],\n",
       "        [  0.,   0.,   0.,   0.,   0.,   0.,   0.,   0.,   0.,   0.],\n",
       "        [  0.,   0.,   0.,   0.,   0.,   0.,   0.,   0.,   0.,   0.],\n",
       "        [  0.,   0.,   0.,   0.,   0.,   0.,   0.,   0.,   0.,   0.],\n",
       "        [  0.,   0.,   0.,   0.,   0.,   0.,   0.,   0.,   0.,   0.],\n",
       "        [  0.,   0.,   0.,   0.,   0.,   0.,   0.,   0.,   0.,   0.],\n",
       "        [  0.,   0.,   0.,   0.,   0.,   0.,   0.,   0.,   0.,   0.],\n",
       "        [  0.,   0.,   0.,   0.,   0.,   0.,   0.,   0.,   0.,   0.],\n",
       "        [  0.,   0.,   0.,   0.,   0.,   0.,   0.,   0.,   0.,   0.]],\n",
       "\n",
       "       [[  0.,   1.,   2.,   3.,   4.,   5.,   6.,   7.,   8.,   9.],\n",
       "        [  0.,   1.,   2.,   3.,   4.,   5.,   6.,   7.,   8.,   9.],\n",
       "        [  0.,   1.,   2.,   3.,   4.,   5.,   6.,   7.,   8.,   9.],\n",
       "        [  0.,   1.,   2.,   3.,   4.,   5.,   6.,   7.,   8.,   9.],\n",
       "        [  0.,   1.,   2.,   3.,   4.,   5.,   6.,   7.,   8.,   9.],\n",
       "        [  0.,   1.,   2.,   3.,   4.,   5.,   6.,   7.,   8.,   9.],\n",
       "        [  0.,   1.,   2.,   3.,   4.,   5.,   6.,   7.,   8.,   9.],\n",
       "        [  0.,   1.,   2.,   3.,   4.,   5.,   6.,   7.,   8.,   9.],\n",
       "        [  0.,   1.,   2.,   3.,   4.,   5.,   6.,   7.,   8.,   9.],\n",
       "        [  0.,   1.,   2.,   3.,   4.,   5.,   6.,   7.,   8.,   9.]],\n",
       "\n",
       "       [[  0.,   2.,   4.,   6.,   8.,  10.,  12.,  14.,  16.,  18.],\n",
       "        [  0.,   2.,   4.,   6.,   8.,  10.,  12.,  14.,  16.,  18.],\n",
       "        [  0.,   2.,   4.,   6.,   8.,  10.,  12.,  14.,  16.,  18.],\n",
       "        [  0.,   2.,   4.,   6.,   8.,  10.,  12.,  14.,  16.,  18.],\n",
       "        [  0.,   2.,   4.,   6.,   8.,  10.,  12.,  14.,  16.,  18.],\n",
       "        [  0.,   2.,   4.,   6.,   8.,  10.,  12.,  14.,  16.,  18.],\n",
       "        [  0.,   2.,   4.,   6.,   8.,  10.,  12.,  14.,  16.,  18.],\n",
       "        [  0.,   2.,   4.,   6.,   8.,  10.,  12.,  14.,  16.,  18.],\n",
       "        [  0.,   2.,   4.,   6.,   8.,  10.,  12.,  14.,  16.,  18.],\n",
       "        [  0.,   2.,   4.,   6.,   8.,  10.,  12.,  14.,  16.,  18.]],\n",
       "\n",
       "       [[  0.,   3.,   6.,   9.,  12.,  15.,  18.,  21.,  24.,  27.],\n",
       "        [  0.,   3.,   6.,   9.,  12.,  15.,  18.,  21.,  24.,  27.],\n",
       "        [  0.,   3.,   6.,   9.,  12.,  15.,  18.,  21.,  24.,  27.],\n",
       "        [  0.,   3.,   6.,   9.,  12.,  15.,  18.,  21.,  24.,  27.],\n",
       "        [  0.,   3.,   6.,   9.,  12.,  15.,  18.,  21.,  24.,  27.],\n",
       "        [  0.,   3.,   6.,   9.,  12.,  15.,  18.,  21.,  24.,  27.],\n",
       "        [  0.,   3.,   6.,   9.,  12.,  15.,  18.,  21.,  24.,  27.],\n",
       "        [  0.,   3.,   6.,   9.,  12.,  15.,  18.,  21.,  24.,  27.],\n",
       "        [  0.,   3.,   6.,   9.,  12.,  15.,  18.,  21.,  24.,  27.],\n",
       "        [  0.,   3.,   6.,   9.,  12.,  15.,  18.,  21.,  24.,  27.]],\n",
       "\n",
       "       [[  0.,   4.,   8.,  12.,  16.,  20.,  24.,  28.,  32.,  36.],\n",
       "        [  0.,   4.,   8.,  12.,  16.,  20.,  24.,  28.,  32.,  36.],\n",
       "        [  0.,   4.,   8.,  12.,  16.,  20.,  24.,  28.,  32.,  36.],\n",
       "        [  0.,   4.,   8.,  12.,  16.,  20.,  24.,  28.,  32.,  36.],\n",
       "        [  0.,   4.,   8.,  12.,  16.,  20.,  24.,  28.,  32.,  36.],\n",
       "        [  0.,   4.,   8.,  12.,  16.,  20.,  24.,  28.,  32.,  36.],\n",
       "        [  0.,   4.,   8.,  12.,  16.,  20.,  24.,  28.,  32.,  36.],\n",
       "        [  0.,   4.,   8.,  12.,  16.,  20.,  24.,  28.,  32.,  36.],\n",
       "        [  0.,   4.,   8.,  12.,  16.,  20.,  24.,  28.,  32.,  36.],\n",
       "        [  0.,   4.,   8.,  12.,  16.,  20.,  24.,  28.,  32.,  36.]],\n",
       "\n",
       "       [[  0.,   5.,  10.,  15.,  20.,  25.,  30.,  35.,  40.,  45.],\n",
       "        [  0.,   5.,  10.,  15.,  20.,  25.,  30.,  35.,  40.,  45.],\n",
       "        [  0.,   5.,  10.,  15.,  20.,  25.,  30.,  35.,  40.,  45.],\n",
       "        [  0.,   5.,  10.,  15.,  20.,  25.,  30.,  35.,  40.,  45.],\n",
       "        [  0.,   5.,  10.,  15.,  20.,  25.,  30.,  35.,  40.,  45.],\n",
       "        [  0.,   5.,  10.,  15.,  20.,  25.,  30.,  35.,  40.,  45.],\n",
       "        [  0.,   5.,  10.,  15.,  20.,  25.,  30.,  35.,  40.,  45.],\n",
       "        [  0.,   5.,  10.,  15.,  20.,  25.,  30.,  35.,  40.,  45.],\n",
       "        [  0.,   5.,  10.,  15.,  20.,  25.,  30.,  35.,  40.,  45.],\n",
       "        [  0.,   5.,  10.,  15.,  20.,  25.,  30.,  35.,  40.,  45.]],\n",
       "\n",
       "       [[  0.,   6.,  12.,  18.,  24.,  30.,  36.,  42.,  48.,  54.],\n",
       "        [  0.,   6.,  12.,  18.,  24.,  30.,  36.,  42.,  48.,  54.],\n",
       "        [  0.,   6.,  12.,  18.,  24.,  30.,  36.,  42.,  48.,  54.],\n",
       "        [  0.,   6.,  12.,  18.,  24.,  30.,  36.,  42.,  48.,  54.],\n",
       "        [  0.,   6.,  12.,  18.,  24.,  30.,  36.,  42.,  48.,  54.],\n",
       "        [  0.,   6.,  12.,  18.,  24.,  30.,  36.,  42.,  48.,  54.],\n",
       "        [  0.,   6.,  12.,  18.,  24.,  30.,  36.,  42.,  48.,  54.],\n",
       "        [  0.,   6.,  12.,  18.,  24.,  30.,  36.,  42.,  48.,  54.],\n",
       "        [  0.,   6.,  12.,  18.,  24.,  30.,  36.,  42.,  48.,  54.],\n",
       "        [  0.,   6.,  12.,  18.,  24.,  30.,  36.,  42.,  48.,  54.]],\n",
       "\n",
       "       [[  0.,   7.,  14.,  21.,  28.,  35.,  42.,  49.,  56.,  63.],\n",
       "        [  0.,   7.,  14.,  21.,  28.,  35.,  42.,  49.,  56.,  63.],\n",
       "        [  0.,   7.,  14.,  21.,  28.,  35.,  42.,  49.,  56.,  63.],\n",
       "        [  0.,   7.,  14.,  21.,  28.,  35.,  42.,  49.,  56.,  63.],\n",
       "        [  0.,   7.,  14.,  21.,  28.,  35.,  42.,  49.,  56.,  63.],\n",
       "        [  0.,   7.,  14.,  21.,  28.,  35.,  42.,  49.,  56.,  63.],\n",
       "        [  0.,   7.,  14.,  21.,  28.,  35.,  42.,  49.,  56.,  63.],\n",
       "        [  0.,   7.,  14.,  21.,  28.,  35.,  42.,  49.,  56.,  63.],\n",
       "        [  0.,   7.,  14.,  21.,  28.,  35.,  42.,  49.,  56.,  63.],\n",
       "        [  0.,   7.,  14.,  21.,  28.,  35.,  42.,  49.,  56.,  63.]],\n",
       "\n",
       "       [[  0.,   8.,  16.,  24.,  32.,  40.,  48.,  56.,  64.,  72.],\n",
       "        [  0.,   8.,  16.,  24.,  32.,  40.,  48.,  56.,  64.,  72.],\n",
       "        [  0.,   8.,  16.,  24.,  32.,  40.,  48.,  56.,  64.,  72.],\n",
       "        [  0.,   8.,  16.,  24.,  32.,  40.,  48.,  56.,  64.,  72.],\n",
       "        [  0.,   8.,  16.,  24.,  32.,  40.,  48.,  56.,  64.,  72.],\n",
       "        [  0.,   8.,  16.,  24.,  32.,  40.,  48.,  56.,  64.,  72.],\n",
       "        [  0.,   8.,  16.,  24.,  32.,  40.,  48.,  56.,  64.,  72.],\n",
       "        [  0.,   8.,  16.,  24.,  32.,  40.,  48.,  56.,  64.,  72.],\n",
       "        [  0.,   8.,  16.,  24.,  32.,  40.,  48.,  56.,  64.,  72.],\n",
       "        [  0.,   8.,  16.,  24.,  32.,  40.,  48.,  56.,  64.,  72.]],\n",
       "\n",
       "       [[  0.,   9.,  18.,  27.,  36.,  45.,  54.,  63.,  72.,  81.],\n",
       "        [  0.,   9.,  18.,  27.,  36.,  45.,  54.,  63.,  72.,  81.],\n",
       "        [  0.,   9.,  18.,  27.,  36.,  45.,  54.,  63.,  72.,  81.],\n",
       "        [  0.,   9.,  18.,  27.,  36.,  45.,  54.,  63.,  72.,  81.],\n",
       "        [  0.,   9.,  18.,  27.,  36.,  45.,  54.,  63.,  72.,  81.],\n",
       "        [  0.,   9.,  18.,  27.,  36.,  45.,  54.,  63.,  72.,  81.],\n",
       "        [  0.,   9.,  18.,  27.,  36.,  45.,  54.,  63.,  72.,  81.],\n",
       "        [  0.,   9.,  18.,  27.,  36.,  45.,  54.,  63.,  72.,  81.],\n",
       "        [  0.,   9.,  18.,  27.,  36.,  45.,  54.,  63.,  72.,  81.],\n",
       "        [  0.,   9.,  18.,  27.,  36.,  45.,  54.,  63.,  72.,  81.]]])"
      ]
     },
     "execution_count": 243,
     "metadata": {},
     "output_type": "execute_result"
    }
   ],
   "source": [
    "tensorio = numpy.outer(matricia,scalarray).reshape(10,10,10)\n",
    "tensorio\n",
    "# metodo di creazione array nd (numpy.ndarray)"
   ]
  },
  {
   "cell_type": "markdown",
   "metadata": {
    "deletable": true,
    "editable": true
   },
   "source": [
    "## Prove manipolazione matrici 3D numpy"
   ]
  },
  {
   "cell_type": "code",
   "execution_count": 244,
   "metadata": {
    "collapsed": false,
    "deletable": true,
    "editable": true
   },
   "outputs": [],
   "source": [
    "tensorio = numpy.ones(1000).reshape(10,10,10)\n",
    "tensorio\n",
    "# metodo di creazione array nd (numpy.ndarray)\n",
    "#altro metodo è con comando diretto\n",
    "#tensorio = numpy.ndarray((3,3,3), dtype = int, buffer=numpy.arange(30))\n",
    "#potrebbe essere utile con la matrice sparsa della peakmap, anche se difficilmente è maneggiabile come matrice densa\n",
    "#oppure\n",
    "\n",
    "# HO FINALMENTE SCOPERTO COME SI METTE IL DTYPE COME SI DEVE!! con \"numpy.float32\"!\n",
    "#tensorio = numpy.zeros((3,3,3), dtype = numpy.float32)\n",
    "#tensorio.dtype\n",
    "#tensorio\n",
    "\n",
    "\n",
    "scalarray = numpy.arange(10)\n",
    "uniarray = numpy.ones(10)\n",
    "scalamatricia = numpy.outer(scalarray,scalarray)\n",
    "#scalamatricia\n"
   ]
  },
  {
   "cell_type": "code",
   "execution_count": 245,
   "metadata": {
    "collapsed": false,
    "deletable": true,
    "editable": true
   },
   "outputs": [
    {
     "name": "stdout",
     "output_type": "stream",
     "text": [
      "CPU times: user 0 ns, sys: 0 ns, total: 0 ns\n",
      "Wall time: 37.4 µs\n",
      "CPU times: user 0 ns, sys: 0 ns, total: 0 ns\n",
      "Wall time: 22.2 µs\n"
     ]
    },
    {
     "data": {
      "text/plain": [
       "array([[[  1.,   2.,   3.,   4.,   5.,   6.,   7.,   8.,   9.,  10.],\n",
       "        [  1.,   2.,   3.,   4.,   5.,   6.,   7.,   8.,   9.,  10.],\n",
       "        [  1.,   2.,   3.,   4.,   5.,   6.,   7.,   8.,   9.,  10.],\n",
       "        [  1.,   2.,   3.,   4.,   5.,   6.,   7.,   8.,   9.,  10.],\n",
       "        [  1.,   2.,   3.,   4.,   5.,   6.,   7.,   8.,   9.,  10.],\n",
       "        [  1.,   2.,   3.,   4.,   5.,   6.,   7.,   8.,   9.,  10.],\n",
       "        [  1.,   2.,   3.,   4.,   5.,   6.,   7.,   8.,   9.,  10.],\n",
       "        [  1.,   2.,   3.,   4.,   5.,   6.,   7.,   8.,   9.,  10.],\n",
       "        [  1.,   2.,   3.,   4.,   5.,   6.,   7.,   8.,   9.,  10.],\n",
       "        [  1.,   2.,   3.,   4.,   5.,   6.,   7.,   8.,   9.,  10.]],\n",
       "\n",
       "       [[  1.,   2.,   3.,   4.,   5.,   6.,   7.,   8.,   9.,  10.],\n",
       "        [  1.,   2.,   3.,   4.,   5.,   6.,   7.,   8.,   9.,  10.],\n",
       "        [  1.,   2.,   3.,   4.,   5.,   6.,   7.,   8.,   9.,  10.],\n",
       "        [  1.,   2.,   3.,   4.,   5.,   6.,   7.,   8.,   9.,  10.],\n",
       "        [  1.,   2.,   3.,   4.,   5.,   6.,   7.,   8.,   9.,  10.],\n",
       "        [  1.,   2.,   3.,   4.,   5.,   6.,   7.,   8.,   9.,  10.],\n",
       "        [  1.,   2.,   3.,   4.,   5.,   6.,   7.,   8.,   9.,  10.],\n",
       "        [  1.,   2.,   3.,   4.,   5.,   6.,   7.,   8.,   9.,  10.],\n",
       "        [  1.,   2.,   3.,   4.,   5.,   6.,   7.,   8.,   9.,  10.],\n",
       "        [  1.,   2.,   3.,   4.,   5.,   6.,   7.,   8.,   9.,  10.]],\n",
       "\n",
       "       [[  1.,   2.,   3.,   4.,   5.,   6.,   7.,   8.,   9.,  10.],\n",
       "        [  1.,   2.,   3.,   4.,   5.,   6.,   7.,   8.,   9.,  10.],\n",
       "        [  1.,   2.,   3.,   4.,   5.,   6.,   7.,   8.,   9.,  10.],\n",
       "        [  1.,   2.,   3.,   4.,   5.,   6.,   7.,   8.,   9.,  10.],\n",
       "        [  1.,   2.,   3.,   4.,   5.,   6.,   7.,   8.,   9.,  10.],\n",
       "        [  1.,   2.,   3.,   4.,   5.,   6.,   7.,   8.,   9.,  10.],\n",
       "        [  1.,   2.,   3.,   4.,   5.,   6.,   7.,   8.,   9.,  10.],\n",
       "        [  1.,   2.,   3.,   4.,   5.,   6.,   7.,   8.,   9.,  10.],\n",
       "        [  1.,   2.,   3.,   4.,   5.,   6.,   7.,   8.,   9.,  10.],\n",
       "        [  1.,   2.,   3.,   4.,   5.,   6.,   7.,   8.,   9.,  10.]],\n",
       "\n",
       "       [[  1.,   2.,   3.,   4.,   5.,   6.,   7.,   8.,   9.,  10.],\n",
       "        [  1.,   2.,   3.,   4.,   5.,   6.,   7.,   8.,   9.,  10.],\n",
       "        [  1.,   2.,   3.,   4.,   5.,   6.,   7.,   8.,   9.,  10.],\n",
       "        [  1.,   2.,   3.,   4.,   5.,   6.,   7.,   8.,   9.,  10.],\n",
       "        [  1.,   2.,   3.,   4.,   5.,   6.,   7.,   8.,   9.,  10.],\n",
       "        [  1.,   2.,   3.,   4.,   5.,   6.,   7.,   8.,   9.,  10.],\n",
       "        [  1.,   2.,   3.,   4.,   5.,   6.,   7.,   8.,   9.,  10.],\n",
       "        [  1.,   2.,   3.,   4.,   5.,   6.,   7.,   8.,   9.,  10.],\n",
       "        [  1.,   2.,   3.,   4.,   5.,   6.,   7.,   8.,   9.,  10.],\n",
       "        [  1.,   2.,   3.,   4.,   5.,   6.,   7.,   8.,   9.,  10.]],\n",
       "\n",
       "       [[  1.,   2.,   3.,   4.,   5.,   6.,   7.,   8.,   9.,  10.],\n",
       "        [  1.,   2.,   3.,   4.,   5.,   6.,   7.,   8.,   9.,  10.],\n",
       "        [  1.,   2.,   3.,   4.,   5.,   6.,   7.,   8.,   9.,  10.],\n",
       "        [  1.,   2.,   3.,   4.,   5.,   6.,   7.,   8.,   9.,  10.],\n",
       "        [  1.,   2.,   3.,   4.,   5.,   6.,   7.,   8.,   9.,  10.],\n",
       "        [  1.,   2.,   3.,   4.,   5.,   6.,   7.,   8.,   9.,  10.],\n",
       "        [  1.,   2.,   3.,   4.,   5.,   6.,   7.,   8.,   9.,  10.],\n",
       "        [  1.,   2.,   3.,   4.,   5.,   6.,   7.,   8.,   9.,  10.],\n",
       "        [  1.,   2.,   3.,   4.,   5.,   6.,   7.,   8.,   9.,  10.],\n",
       "        [  1.,   2.,   3.,   4.,   5.,   6.,   7.,   8.,   9.,  10.]],\n",
       "\n",
       "       [[  1.,   2.,   3.,   4.,   5.,   6.,   7.,   8.,   9.,  10.],\n",
       "        [  1.,   2.,   3.,   4.,   5.,   6.,   7.,   8.,   9.,  10.],\n",
       "        [  1.,   2.,   3.,   4.,   5.,   6.,   7.,   8.,   9.,  10.],\n",
       "        [  1.,   2.,   3.,   4.,   5.,   6.,   7.,   8.,   9.,  10.],\n",
       "        [  1.,   2.,   3.,   4.,   5.,   6.,   7.,   8.,   9.,  10.],\n",
       "        [  1.,   2.,   3.,   4.,   5.,   6.,   7.,   8.,   9.,  10.],\n",
       "        [  1.,   2.,   3.,   4.,   5.,   6.,   7.,   8.,   9.,  10.],\n",
       "        [  1.,   2.,   3.,   4.,   5.,   6.,   7.,   8.,   9.,  10.],\n",
       "        [  1.,   2.,   3.,   4.,   5.,   6.,   7.,   8.,   9.,  10.],\n",
       "        [  1.,   2.,   3.,   4.,   5.,   6.,   7.,   8.,   9.,  10.]],\n",
       "\n",
       "       [[  1.,   2.,   3.,   4.,   5.,   6.,   7.,   8.,   9.,  10.],\n",
       "        [  1.,   2.,   3.,   4.,   5.,   6.,   7.,   8.,   9.,  10.],\n",
       "        [  1.,   2.,   3.,   4.,   5.,   6.,   7.,   8.,   9.,  10.],\n",
       "        [  1.,   2.,   3.,   4.,   5.,   6.,   7.,   8.,   9.,  10.],\n",
       "        [  1.,   2.,   3.,   4.,   5.,   6.,   7.,   8.,   9.,  10.],\n",
       "        [  1.,   2.,   3.,   4.,   5.,   6.,   7.,   8.,   9.,  10.],\n",
       "        [  1.,   2.,   3.,   4.,   5.,   6.,   7.,   8.,   9.,  10.],\n",
       "        [  1.,   2.,   3.,   4.,   5.,   6.,   7.,   8.,   9.,  10.],\n",
       "        [  1.,   2.,   3.,   4.,   5.,   6.,   7.,   8.,   9.,  10.],\n",
       "        [  1.,   2.,   3.,   4.,   5.,   6.,   7.,   8.,   9.,  10.]],\n",
       "\n",
       "       [[  1.,   2.,   3.,   4.,   5.,   6.,   7.,   8.,   9.,  10.],\n",
       "        [  1.,   2.,   3.,   4.,   5.,   6.,   7.,   8.,   9.,  10.],\n",
       "        [  1.,   2.,   3.,   4.,   5.,   6.,   7.,   8.,   9.,  10.],\n",
       "        [  1.,   2.,   3.,   4.,   5.,   6.,   7.,   8.,   9.,  10.],\n",
       "        [  1.,   2.,   3.,   4.,   5.,   6.,   7.,   8.,   9.,  10.],\n",
       "        [  1.,   2.,   3.,   4.,   5.,   6.,   7.,   8.,   9.,  10.],\n",
       "        [  1.,   2.,   3.,   4.,   5.,   6.,   7.,   8.,   9.,  10.],\n",
       "        [  1.,   2.,   3.,   4.,   5.,   6.,   7.,   8.,   9.,  10.],\n",
       "        [  1.,   2.,   3.,   4.,   5.,   6.,   7.,   8.,   9.,  10.],\n",
       "        [  1.,   2.,   3.,   4.,   5.,   6.,   7.,   8.,   9.,  10.]],\n",
       "\n",
       "       [[  1.,   2.,   3.,   4.,   5.,   6.,   7.,   8.,   9.,  10.],\n",
       "        [  1.,   2.,   3.,   4.,   5.,   6.,   7.,   8.,   9.,  10.],\n",
       "        [  1.,   2.,   3.,   4.,   5.,   6.,   7.,   8.,   9.,  10.],\n",
       "        [  1.,   2.,   3.,   4.,   5.,   6.,   7.,   8.,   9.,  10.],\n",
       "        [  1.,   2.,   3.,   4.,   5.,   6.,   7.,   8.,   9.,  10.],\n",
       "        [  1.,   2.,   3.,   4.,   5.,   6.,   7.,   8.,   9.,  10.],\n",
       "        [  1.,   2.,   3.,   4.,   5.,   6.,   7.,   8.,   9.,  10.],\n",
       "        [  1.,   2.,   3.,   4.,   5.,   6.,   7.,   8.,   9.,  10.],\n",
       "        [  1.,   2.,   3.,   4.,   5.,   6.,   7.,   8.,   9.,  10.],\n",
       "        [  1.,   2.,   3.,   4.,   5.,   6.,   7.,   8.,   9.,  10.]],\n",
       "\n",
       "       [[  1.,   2.,   3.,   4.,   5.,   6.,   7.,   8.,   9.,  10.],\n",
       "        [  1.,   2.,   3.,   4.,   5.,   6.,   7.,   8.,   9.,  10.],\n",
       "        [  1.,   2.,   3.,   4.,   5.,   6.,   7.,   8.,   9.,  10.],\n",
       "        [  1.,   2.,   3.,   4.,   5.,   6.,   7.,   8.,   9.,  10.],\n",
       "        [  1.,   2.,   3.,   4.,   5.,   6.,   7.,   8.,   9.,  10.],\n",
       "        [  1.,   2.,   3.,   4.,   5.,   6.,   7.,   8.,   9.,  10.],\n",
       "        [  1.,   2.,   3.,   4.,   5.,   6.,   7.,   8.,   9.,  10.],\n",
       "        [  1.,   2.,   3.,   4.,   5.,   6.,   7.,   8.,   9.,  10.],\n",
       "        [  1.,   2.,   3.,   4.,   5.,   6.,   7.,   8.,   9.,  10.],\n",
       "        [  1.,   2.,   3.,   4.,   5.,   6.,   7.,   8.,   9.,  10.]]])"
      ]
     },
     "execution_count": 245,
     "metadata": {},
     "output_type": "execute_result"
    }
   ],
   "source": [
    "tensorio * 2\n",
    "tensorio + 2\n",
    "tensorio + scalamatricia\n",
    "%time tensorio + scalarray\n",
    "%time tensorio.__add__(scalarray)\n",
    "#danno stesso risultato con tempi paragonabili\n"
   ]
  },
  {
   "cell_type": "markdown",
   "metadata": {
    "deletable": true,
    "editable": true
   },
   "source": [
    "## Prove matrici sparse"
   ]
  },
  {
   "cell_type": "code",
   "execution_count": 2,
   "metadata": {
    "collapsed": true,
    "deletable": true,
    "editable": true
   },
   "outputs": [],
   "source": [
    "from scipy import sparse\n"
   ]
  },
  {
   "cell_type": "code",
   "execution_count": 3,
   "metadata": {
    "collapsed": false,
    "deletable": true,
    "editable": true
   },
   "outputs": [
    {
     "data": {
      "text/plain": [
       "array([[1, 1, 0, 1, 0],\n",
       "       [1, 0, 0, 1, 1],\n",
       "       [0, 0, 1, 0, 0],\n",
       "       [1, 0, 0, 1, 0],\n",
       "       [0, 0, 1, 0, 0]])"
      ]
     },
     "execution_count": 3,
     "metadata": {},
     "output_type": "execute_result"
    }
   ],
   "source": [
    "ramatricia = numpy.random.randint(2, size=25).reshape((5,5))\n",
    "ramatricia"
   ]
  },
  {
   "cell_type": "code",
   "execution_count": 4,
   "metadata": {
    "collapsed": false,
    "deletable": true,
    "editable": true
   },
   "outputs": [
    {
     "name": "stdout",
     "output_type": "stream",
     "text": [
      "  (0, 0)\t1\n",
      "  (0, 1)\t1\n",
      "  (0, 3)\t1\n",
      "  (1, 0)\t1\n",
      "  (1, 3)\t1\n",
      "  (1, 4)\t1\n",
      "  (2, 2)\t1\n",
      "  (3, 0)\t1\n",
      "  (3, 3)\t1\n",
      "  (4, 2)\t1\n"
     ]
    }
   ],
   "source": [
    "#efficiente per colonne\n",
    "#sparsamatricia = sparse.csc_matrix(ramatricia)\n",
    "#print(sparsamatricia)\n",
    "\n",
    "#per righe\n",
    "sparsamatricia = sparse.csr_matrix(ramatricia)\n",
    "print(sparsamatricia)"
   ]
  },
  {
   "cell_type": "code",
   "execution_count": 7,
   "metadata": {
    "collapsed": false,
    "deletable": true,
    "editable": true
   },
   "outputs": [
    {
     "data": {
      "text/plain": [
       "array([[1, 1, 0, 1, 0],\n",
       "       [1, 0, 0, 1, 1],\n",
       "       [0, 0, 1, 0, 0],\n",
       "       [1, 0, 0, 1, 0],\n",
       "       [0, 0, 1, 0, 0]], dtype=int64)"
      ]
     },
     "execution_count": 7,
     "metadata": {},
     "output_type": "execute_result"
    }
   ],
   "source": [
    "sparsamatricia.toarray()"
   ]
  },
  {
   "cell_type": "code",
   "execution_count": 28,
   "metadata": {
    "collapsed": false,
    "deletable": true,
    "editable": true
   },
   "outputs": [],
   "source": [
    "righe = numpy.array([0,0,0,1,2,3,3,4])\n",
    "colonne = numpy.array([0,0,4,2,1,4,3,0])\n",
    "valori = numpy.ones(righe.size)\n",
    "sparsamatricia = sparse.coo_matrix((valori, (righe,colonne)))"
   ]
  },
  {
   "cell_type": "code",
   "execution_count": 29,
   "metadata": {
    "collapsed": false,
    "deletable": true,
    "editable": true
   },
   "outputs": [
    {
     "name": "stdout",
     "output_type": "stream",
     "text": [
      "  (0, 0)\t1.0\n",
      "  (0, 0)\t1.0\n",
      "  (0, 4)\t1.0\n",
      "  (1, 2)\t1.0\n",
      "  (2, 1)\t1.0\n",
      "  (3, 4)\t1.0\n",
      "  (3, 3)\t1.0\n",
      "  (4, 0)\t1.0\n"
     ]
    }
   ],
   "source": [
    "print(sparsamatricia)"
   ]
  },
  {
   "cell_type": "code",
   "execution_count": 30,
   "metadata": {
    "collapsed": false,
    "deletable": true,
    "editable": true
   },
   "outputs": [
    {
     "data": {
      "text/plain": [
       "array([[ 2.,  0.,  0.,  0.,  1.],\n",
       "       [ 0.,  0.,  1.,  0.,  0.],\n",
       "       [ 0.,  1.,  0.,  0.,  0.],\n",
       "       [ 0.,  0.,  0.,  1.,  1.],\n",
       "       [ 1.,  0.,  0.,  0.,  0.]])"
      ]
     },
     "execution_count": 30,
     "metadata": {},
     "output_type": "execute_result"
    }
   ],
   "source": [
    "sparsamatricia.toarray()"
   ]
  },
  {
   "cell_type": "markdown",
   "metadata": {
    "deletable": true,
    "editable": true
   },
   "source": [
    "## Prodotto di matrici\n",
    "### Prodotti interni\n",
    "Considera di avere 2 matrici, ```a``` e ```b```, in forma numpy array:\n",
    "\n",
    "1. ```a*b``` fa il prodotto elemento per elemento (solo se ```a``` e ```b``` hanno stessa dimensione)\n",
    "2. ```numpy.dot(a,b)``` fa il prodotto matriciale righe per colonne\n",
    "\n",
    "Ora considera di avere 2 matrici, ```a``` e ```b```, in forma di scipy.sparse:\n",
    "\n",
    "1. ```a*b``` fa il prodotto matriciale righe per colonne\n",
    "2. ```numpy.dot(a,b)``` non funziona per nulla\n",
    "3. ```a.dot(b)``` fa il prodotto matriciale righe per colonne"
   ]
  },
  {
   "cell_type": "code",
   "execution_count": 249,
   "metadata": {
    "collapsed": false,
    "deletable": true,
    "editable": true
   },
   "outputs": [],
   "source": [
    "#vari modi per fare prodotti di matrici (con somma con operatore + è lo stesso)\n",
    "densamatricia = sparsamatricia.toarray()\n",
    "\n",
    "#densa-densa\n",
    "prodottoPerElementiDD = densamatricia*densamatricia\n",
    "prodottoMatricialeDD = numpy.dot(densamatricia, densamatricia)\n",
    "\n",
    "#sparsa-densa\n",
    "prodottoMatricialeSD = sparsamatricia*densamatricia\n",
    "prodottoMatricialeSD2 = sparsamatricia.dot(densamatricia)\n",
    "\n",
    "#sparsa-sparsa\n",
    "prodottoMatricialeSS = sparsamatricia*sparsamatricia\n",
    "prodottoMatricialeSS2 = sparsamatricia.dot(sparsamatricia)\n",
    "\n",
    "# \"SPARSA\".dot(\"SPARSA O DENSA\") FA PRODOTTO MATRICIALE\n",
    "# \"SPARSA * SPARSA\" FA PRODOTTO MATRICIALE\n"
   ]
  },
  {
   "cell_type": "code",
   "execution_count": 250,
   "metadata": {
    "collapsed": false,
    "deletable": true,
    "editable": true
   },
   "outputs": [
    {
     "data": {
      "text/plain": [
       "matrix([[0, 0, 0, 0, 0],\n",
       "        [0, 0, 0, 0, 0],\n",
       "        [0, 0, 0, 0, 0],\n",
       "        [0, 0, 0, 0, 0],\n",
       "        [0, 0, 0, 0, 0]], dtype=int64)"
      ]
     },
     "execution_count": 250,
     "metadata": {},
     "output_type": "execute_result"
    }
   ],
   "source": [
    "prodottoMatricialeDD - prodottoMatricialeSS\n",
    "#nb somme e sottrazioni tra matrici sparse e dense sono ok\n",
    "# prodotto matriciale tra densa e sparsa funziona come sparsa e sparsa"
   ]
  },
  {
   "cell_type": "markdown",
   "metadata": {
    "deletable": true,
    "editable": true
   },
   "source": [
    "### Prodotti esterni"
   ]
  },
  {
   "cell_type": "code",
   "execution_count": 251,
   "metadata": {
    "collapsed": false,
    "deletable": true,
    "editable": true
   },
   "outputs": [
    {
     "data": {
      "text/plain": [
       "array([[['a', 'aa'],\n",
       "        ['aaa', 'aaaa']],\n",
       "\n",
       "       [['b', 'bb'],\n",
       "        ['bbb', 'bbbb']],\n",
       "\n",
       "       [['c', 'cc'],\n",
       "        ['ccc', 'cccc']],\n",
       "\n",
       "       [['d', 'dd'],\n",
       "        ['ddd', 'dddd']]], dtype=object)"
      ]
     },
     "execution_count": 251,
     "metadata": {},
     "output_type": "execute_result"
    }
   ],
   "source": [
    "densarray = numpy.array([\"a\",\"b\"],dtype = object)\n",
    "densarray2 = numpy.array([\"c\",\"d\"],dtype = object)\n",
    "\n",
    "numpy.outer(densarray,[1,2])\n",
    "\n",
    "densamatricia = numpy.array([[1,2],[3,4]])\n",
    "densamatricia2 = numpy.array([[\"a\",\"b\"],[\"c\",\"d\"]], dtype = object)\n",
    "numpy.outer(densamatricia2,densamatricia).reshape(4,2,2)"
   ]
  },
  {
   "cell_type": "code",
   "execution_count": 252,
   "metadata": {
    "collapsed": false,
    "deletable": true,
    "editable": true
   },
   "outputs": [
    {
     "data": {
      "text/plain": [
       "array([[[ 0,  2],\n",
       "        [ 5,  0]],\n",
       "\n",
       "       [[ 0,  4],\n",
       "        [10,  0]],\n",
       "\n",
       "       [[ 0,  6],\n",
       "        [15,  0]],\n",
       "\n",
       "       [[ 0,  8],\n",
       "        [20,  0]]])"
      ]
     },
     "execution_count": 252,
     "metadata": {},
     "output_type": "execute_result"
    }
   ],
   "source": [
    "densarray1 = numpy.array([0,2])\n",
    "densarray2 = numpy.array([5,0])\n",
    "densamatricia = numpy.array([[1,2],[3,4]])\n",
    "densamatricia2 = numpy.array([[0,2],[5,0]])\n",
    "\n",
    "nrighe = 2\n",
    "ncolonne = 2\n",
    "npiani = 4\n",
    "prodottoEstDD = numpy.outer(densamatricia,densamatricia2).reshape(npiani,ncolonne,nrighe)\n",
    "#prodottoEstDD\n",
    "#prodottoEstDD = numpy.dstack((prodottoEstDD[0,:],prodottoEstDD[1,:]))\n",
    "\n",
    "prodottoEstDD"
   ]
  },
  {
   "cell_type": "code",
   "execution_count": 253,
   "metadata": {
    "collapsed": false,
    "deletable": true,
    "editable": true
   },
   "outputs": [
    {
     "data": {
      "text/plain": [
       "array([[ 0,  2,  0,  4],\n",
       "       [ 5,  0, 10,  0],\n",
       "       [ 0,  6,  0,  8],\n",
       "       [15,  0, 20,  0]], dtype=int64)"
      ]
     },
     "execution_count": 253,
     "metadata": {},
     "output_type": "execute_result"
    }
   ],
   "source": [
    "\n",
    "sparsarray1 = sparse.csr_matrix(densarray1)\n",
    "sparsarray2 = sparse.csr_matrix(densarray2)\n",
    "sparsamatricia = sparse.csr_matrix(densamatricia)\n",
    "sparsamatricia2 = sparse.csr_matrix(densamatricia2)\n",
    "\n",
    "prodottoEstSS = sparse.kron(sparsamatricia,sparsamatricia2).toarray()\n",
    "\n",
    "prodottoEstSD = sparse.kron(sparsamatricia,densamatricia2).toarray()\n",
    "prodottoEstSD\n",
    "\n",
    "\n"
   ]
  },
  {
   "cell_type": "code",
   "execution_count": 254,
   "metadata": {
    "collapsed": true,
    "deletable": true,
    "editable": true
   },
   "outputs": [],
   "source": [
    "#prove prodotti esterni\n",
    "# numpy.outer\n",
    "# scipy.sparse.kron\n",
    "\n",
    "#densa-densa\n",
    "prodottoEsternoDD = numpy.outer(densamatricia,densamatricia)\n",
    "\n",
    "#sparsa-densa\n",
    "prodottoEsternoSD = sparse.kron(sparsamatricia,densamatricia)\n",
    "\n",
    "#sparsa-sparsa\n",
    "prodottoEsternoSS = sparse.kron(sparsamatricia,sparsamatricia)\n"
   ]
  },
  {
   "cell_type": "code",
   "execution_count": 255,
   "metadata": {
    "collapsed": false,
    "deletable": true,
    "editable": true
   },
   "outputs": [
    {
     "data": {
      "text/plain": [
       "matrix([[ 0,  0,  1,  0],\n",
       "        [-1,  0,  0,  0],\n",
       "        [ 0,  0,  5,  4],\n",
       "        [-5, -4,  0,  0]], dtype=int64)"
      ]
     },
     "execution_count": 255,
     "metadata": {},
     "output_type": "execute_result"
    }
   ],
   "source": [
    "prodottoEsternoDD-prodottoEsternoSS"
   ]
  },
  {
   "cell_type": "code",
   "execution_count": 256,
   "metadata": {
    "collapsed": false,
    "deletable": true,
    "editable": true
   },
   "outputs": [
    {
     "name": "stdout",
     "output_type": "stream",
     "text": [
      "[1 1 0 1] [1 0 0 0]\n",
      "[[1 0 0 0]\n",
      " [1 0 0 0]\n",
      " [0 0 0 0]\n",
      " [1 0 0 0]] [[1 1 1 1]\n",
      " [1 1 1 1]\n",
      " [1 1 1 1]\n",
      " [1 1 1 1]]\n"
     ]
    }
   ],
   "source": [
    "# altre prove di prodotti esterni\n",
    "rarray1 = numpy.random.randint(2, size=4)\n",
    "rarray2 = numpy.random.randint(2, size=4)\n",
    "print(rarray1,rarray2)\n",
    "ramatricia = numpy.outer(rarray1,rarray2)\n",
    "unimatricia = numpy.ones((4,4)).astype(int)\n",
    "#ramatricia2 = rarray1 * rarray2.T\n",
    "print(ramatricia,unimatricia)\n",
    "#print(ramatricia)\n",
    "#print(\"eppoi\")\n",
    "#print(ramatricia2)\n",
    "\n",
    "#sparsarray = sparse.csr_matrix(rarray1)\n",
    "#print(sparsarray)\n",
    "\n",
    "#ramatricia2 = "
   ]
  },
  {
   "cell_type": "code",
   "execution_count": 257,
   "metadata": {
    "collapsed": false,
    "deletable": true,
    "editable": true
   },
   "outputs": [
    {
     "name": "stdout",
     "output_type": "stream",
     "text": [
      "(10, 9)\n"
     ]
    },
    {
     "data": {
      "text/plain": [
       "array([[0, 1, 1, 1, 1, 0, 0, 0, 1],\n",
       "       [1, 1, 0, 0, 0, 1, 1, 1, 0],\n",
       "       [0, 1, 1, 1, 1, 0, 0, 1, 1],\n",
       "       [0, 0, 0, 1, 1, 1, 0, 1, 0],\n",
       "       [0, 0, 0, 0, 1, 0, 0, 0, 1],\n",
       "       [0, 1, 1, 1, 1, 1, 0, 0, 0],\n",
       "       [1, 0, 1, 0, 1, 1, 0, 0, 0],\n",
       "       [0, 0, 1, 0, 0, 0, 1, 0, 0],\n",
       "       [0, 1, 1, 1, 1, 0, 0, 0, 1],\n",
       "       [0, 1, 0, 0, 0, 1, 1, 0, 1]])"
      ]
     },
     "execution_count": 257,
     "metadata": {},
     "output_type": "execute_result"
    }
   ],
   "source": [
    "#il mio caso problematico è che ho una matrice di cui so tutti gli elementi non zero,\n",
    "#so quante righe ho (i tempi), ma non so quante colonne di freq ho\n",
    "randomcolonne = numpy.random.randint(10)+1\n",
    "ramatricia = numpy.random.randint(2, size=10*randomcolonne).reshape((10,randomcolonne))\n",
    "print(ramatricia.shape)\n",
    "#ramatricia\n",
    "nonzeri = numpy.nonzero(ramatricia)\n",
    "ndati = len(nonzeri[0])\n",
    "ndati\n",
    "ramatricia"
   ]
  },
  {
   "cell_type": "code",
   "execution_count": 260,
   "metadata": {
    "collapsed": false,
    "deletable": true,
    "editable": true
   },
   "outputs": [
    {
     "name": "stdout",
     "output_type": "stream",
     "text": [
      "42\n"
     ]
    },
    {
     "ename": "ValueError",
     "evalue": "row, column, and data arrays must be 1-D",
     "output_type": "error",
     "traceback": [
      "\u001b[0;31m---------------------------------------------------------------------------\u001b[0m",
      "\u001b[0;31mValueError\u001b[0m                                Traceback (most recent call last)",
      "\u001b[0;32m<ipython-input-260-b593495b1cc3>\u001b[0m in \u001b[0;36m<module>\u001b[0;34m()\u001b[0m\n\u001b[1;32m      5\u001b[0m \u001b[0mcoordinateRighe\u001b[0m \u001b[0;34m=\u001b[0m \u001b[0mnonzeri\u001b[0m\u001b[0;34m[\u001b[0m\u001b[0;36m0\u001b[0m\u001b[0;34m]\u001b[0m\u001b[0;34m\u001b[0m\u001b[0m\n\u001b[1;32m      6\u001b[0m \u001b[0mcoordinateColonne\u001b[0m \u001b[0;34m=\u001b[0m \u001b[0mnonzeri\u001b[0m\u001b[0;34m[\u001b[0m\u001b[0;36m1\u001b[0m\u001b[0;34m]\u001b[0m\u001b[0;34m\u001b[0m\u001b[0m\n\u001b[0;32m----> 7\u001b[0;31m \u001b[0msparsamatricia\u001b[0m \u001b[0;34m=\u001b[0m \u001b[0msparse\u001b[0m\u001b[0;34m.\u001b[0m\u001b[0mcoo_matrix\u001b[0m\u001b[0;34m(\u001b[0m\u001b[0;34m(\u001b[0m\u001b[0mdati\u001b[0m\u001b[0;34m,\u001b[0m\u001b[0;34m(\u001b[0m\u001b[0mcoordinateRighe\u001b[0m\u001b[0;34m,\u001b[0m\u001b[0mcoordinateColonne\u001b[0m\u001b[0;34m)\u001b[0m\u001b[0;34m)\u001b[0m\u001b[0;34m)\u001b[0m\u001b[0;34m\u001b[0m\u001b[0m\n\u001b[0m\u001b[1;32m      8\u001b[0m \u001b[0mdensamatricia\u001b[0m \u001b[0;34m=\u001b[0m \u001b[0msparsamatricia\u001b[0m\u001b[0;34m.\u001b[0m\u001b[0mtoarray\u001b[0m\u001b[0;34m(\u001b[0m\u001b[0;34m)\u001b[0m\u001b[0;34m\u001b[0m\u001b[0m\n\u001b[1;32m      9\u001b[0m \u001b[0mdensamatricia\u001b[0m\u001b[0;34m\u001b[0m\u001b[0m\n",
      "\u001b[0;32m/home/protoss/.local/lib/python3.5/site-packages/scipy/sparse/coo.py\u001b[0m in \u001b[0;36m__init__\u001b[0;34m(self, arg1, shape, dtype, copy)\u001b[0m\n\u001b[1;32m    182\u001b[0m             \u001b[0mself\u001b[0m\u001b[0;34m.\u001b[0m\u001b[0mdata\u001b[0m \u001b[0;34m=\u001b[0m \u001b[0mself\u001b[0m\u001b[0;34m.\u001b[0m\u001b[0mdata\u001b[0m\u001b[0;34m.\u001b[0m\u001b[0mastype\u001b[0m\u001b[0;34m(\u001b[0m\u001b[0mdtype\u001b[0m\u001b[0;34m,\u001b[0m \u001b[0mcopy\u001b[0m\u001b[0;34m=\u001b[0m\u001b[0;32mFalse\u001b[0m\u001b[0;34m)\u001b[0m\u001b[0;34m\u001b[0m\u001b[0m\n\u001b[1;32m    183\u001b[0m \u001b[0;34m\u001b[0m\u001b[0m\n\u001b[0;32m--> 184\u001b[0;31m         \u001b[0mself\u001b[0m\u001b[0;34m.\u001b[0m\u001b[0m_check\u001b[0m\u001b[0;34m(\u001b[0m\u001b[0;34m)\u001b[0m\u001b[0;34m\u001b[0m\u001b[0m\n\u001b[0m\u001b[1;32m    185\u001b[0m \u001b[0;34m\u001b[0m\u001b[0m\n\u001b[1;32m    186\u001b[0m     \u001b[0;32mdef\u001b[0m \u001b[0mgetnnz\u001b[0m\u001b[0;34m(\u001b[0m\u001b[0mself\u001b[0m\u001b[0;34m,\u001b[0m \u001b[0maxis\u001b[0m\u001b[0;34m=\u001b[0m\u001b[0;32mNone\u001b[0m\u001b[0;34m)\u001b[0m\u001b[0;34m:\u001b[0m\u001b[0;34m\u001b[0m\u001b[0m\n",
      "\u001b[0;32m/home/protoss/.local/lib/python3.5/site-packages/scipy/sparse/coo.py\u001b[0m in \u001b[0;36m_check\u001b[0;34m(self)\u001b[0m\n\u001b[1;32m    226\u001b[0m         \u001b[0mself\u001b[0m\u001b[0;34m.\u001b[0m\u001b[0mdata\u001b[0m \u001b[0;34m=\u001b[0m \u001b[0mto_native\u001b[0m\u001b[0;34m(\u001b[0m\u001b[0mself\u001b[0m\u001b[0;34m.\u001b[0m\u001b[0mdata\u001b[0m\u001b[0;34m)\u001b[0m\u001b[0;34m\u001b[0m\u001b[0m\n\u001b[1;32m    227\u001b[0m \u001b[0;34m\u001b[0m\u001b[0m\n\u001b[0;32m--> 228\u001b[0;31m         \u001b[0;32mif\u001b[0m \u001b[0mself\u001b[0m\u001b[0;34m.\u001b[0m\u001b[0mnnz\u001b[0m \u001b[0;34m>\u001b[0m \u001b[0;36m0\u001b[0m\u001b[0;34m:\u001b[0m\u001b[0;34m\u001b[0m\u001b[0m\n\u001b[0m\u001b[1;32m    229\u001b[0m             \u001b[0;32mif\u001b[0m \u001b[0mself\u001b[0m\u001b[0;34m.\u001b[0m\u001b[0mrow\u001b[0m\u001b[0;34m.\u001b[0m\u001b[0mmax\u001b[0m\u001b[0;34m(\u001b[0m\u001b[0;34m)\u001b[0m \u001b[0;34m>=\u001b[0m \u001b[0mself\u001b[0m\u001b[0;34m.\u001b[0m\u001b[0mshape\u001b[0m\u001b[0;34m[\u001b[0m\u001b[0;36m0\u001b[0m\u001b[0;34m]\u001b[0m\u001b[0;34m:\u001b[0m\u001b[0;34m\u001b[0m\u001b[0m\n\u001b[1;32m    230\u001b[0m                 \u001b[0;32mraise\u001b[0m \u001b[0mValueError\u001b[0m\u001b[0;34m(\u001b[0m\u001b[0;34m'row index exceeds matrix dimensions'\u001b[0m\u001b[0;34m)\u001b[0m\u001b[0;34m\u001b[0m\u001b[0m\n",
      "\u001b[0;32m/home/protoss/.local/lib/python3.5/site-packages/scipy/sparse/base.py\u001b[0m in \u001b[0;36mnnz\u001b[0;34m(self)\u001b[0m\n\u001b[1;32m    199\u001b[0m         \u001b[0mcount_nonzero\u001b[0m \u001b[0;34m:\u001b[0m \u001b[0mNumber\u001b[0m \u001b[0mof\u001b[0m \u001b[0mnon\u001b[0m\u001b[0;34m-\u001b[0m\u001b[0mzero\u001b[0m \u001b[0mentries\u001b[0m\u001b[0;34m\u001b[0m\u001b[0m\n\u001b[1;32m    200\u001b[0m         \"\"\"\n\u001b[0;32m--> 201\u001b[0;31m         \u001b[0;32mreturn\u001b[0m \u001b[0mself\u001b[0m\u001b[0;34m.\u001b[0m\u001b[0mgetnnz\u001b[0m\u001b[0;34m(\u001b[0m\u001b[0;34m)\u001b[0m\u001b[0;34m\u001b[0m\u001b[0m\n\u001b[0m\u001b[1;32m    202\u001b[0m \u001b[0;34m\u001b[0m\u001b[0m\n\u001b[1;32m    203\u001b[0m     \u001b[0;32mdef\u001b[0m \u001b[0mgetformat\u001b[0m\u001b[0;34m(\u001b[0m\u001b[0mself\u001b[0m\u001b[0;34m)\u001b[0m\u001b[0;34m:\u001b[0m\u001b[0;34m\u001b[0m\u001b[0m\n",
      "\u001b[0;32m/home/protoss/.local/lib/python3.5/site-packages/scipy/sparse/coo.py\u001b[0m in \u001b[0;36mgetnnz\u001b[0;34m(self, axis)\u001b[0m\n\u001b[1;32m    193\u001b[0m             \u001b[0;32mif\u001b[0m \u001b[0mself\u001b[0m\u001b[0;34m.\u001b[0m\u001b[0mdata\u001b[0m\u001b[0;34m.\u001b[0m\u001b[0mndim\u001b[0m \u001b[0;34m!=\u001b[0m \u001b[0;36m1\u001b[0m \u001b[0;32mor\u001b[0m \u001b[0mself\u001b[0m\u001b[0;34m.\u001b[0m\u001b[0mrow\u001b[0m\u001b[0;34m.\u001b[0m\u001b[0mndim\u001b[0m \u001b[0;34m!=\u001b[0m \u001b[0;36m1\u001b[0m \u001b[0;32mor\u001b[0m\u001b[0;31m \u001b[0m\u001b[0;31m\\\u001b[0m\u001b[0;34m\u001b[0m\u001b[0m\n\u001b[1;32m    194\u001b[0m                     \u001b[0mself\u001b[0m\u001b[0;34m.\u001b[0m\u001b[0mcol\u001b[0m\u001b[0;34m.\u001b[0m\u001b[0mndim\u001b[0m \u001b[0;34m!=\u001b[0m \u001b[0;36m1\u001b[0m\u001b[0;34m:\u001b[0m\u001b[0;34m\u001b[0m\u001b[0m\n\u001b[0;32m--> 195\u001b[0;31m                 \u001b[0;32mraise\u001b[0m \u001b[0mValueError\u001b[0m\u001b[0;34m(\u001b[0m\u001b[0;34m'row, column, and data arrays must be 1-D'\u001b[0m\u001b[0;34m)\u001b[0m\u001b[0;34m\u001b[0m\u001b[0m\n\u001b[0m\u001b[1;32m    196\u001b[0m \u001b[0;34m\u001b[0m\u001b[0m\n\u001b[1;32m    197\u001b[0m             \u001b[0;32mreturn\u001b[0m \u001b[0mint\u001b[0m\u001b[0;34m(\u001b[0m\u001b[0mnnz\u001b[0m\u001b[0;34m)\u001b[0m\u001b[0;34m\u001b[0m\u001b[0m\n",
      "\u001b[0;31mValueError\u001b[0m: row, column, and data arrays must be 1-D"
     ]
    }
   ],
   "source": [
    "#ora cerco di fare la matrice sparsa\n",
    "print(ndati)\n",
    "dati = numpy.ones(2*ndati).reshape(ndati,2)\n",
    "dati\n",
    "coordinateRighe = nonzeri[0]\n",
    "coordinateColonne = nonzeri[1]\n",
    "sparsamatricia = sparse.coo_matrix((dati,(coordinateRighe,coordinateColonne)))\n",
    "densamatricia = sparsamatricia.toarray()\n",
    "densamatricia"
   ]
  },
  {
   "cell_type": "markdown",
   "metadata": {
    "deletable": true,
    "editable": true
   },
   "source": [
    "## Provo a passare operazioni a array con array di coordinate"
   ]
  },
  {
   "cell_type": "code",
   "execution_count": 83,
   "metadata": {
    "collapsed": false,
    "deletable": true,
    "editable": true
   },
   "outputs": [
    {
     "data": {
      "text/plain": [
       "array([[ 0,  1,  2],\n",
       "       [ 3,  4,  5],\n",
       "       [ 6,  7,  8],\n",
       "       [ 9, 10, 11],\n",
       "       [12, 13, 14],\n",
       "       [15, 16, 17],\n",
       "       [18, 19, 20],\n",
       "       [21, 22, 23],\n",
       "       [24, 25, 26],\n",
       "       [27, 28, 29]])"
      ]
     },
     "execution_count": 83,
     "metadata": {},
     "output_type": "execute_result"
    }
   ],
   "source": [
    "matrice = numpy.arange(30).reshape(10,3)\n",
    "matrice"
   ]
  },
  {
   "cell_type": "code",
   "execution_count": 78,
   "metadata": {
    "collapsed": false,
    "deletable": true,
    "editable": true
   },
   "outputs": [
    {
     "name": "stdout",
     "output_type": "stream",
     "text": [
      "[1 0 1 1] [2 0 2 2]\n"
     ]
    }
   ],
   "source": [
    "righe = numpy.array([1,0,1,1])\n",
    "colonne = numpy.array([2,0,2,2])\n",
    "pesi = numpy.array([100,200,300,10])\n",
    "print(righe,colonne)"
   ]
  },
  {
   "cell_type": "code",
   "execution_count": 22,
   "metadata": {
    "collapsed": false,
    "deletable": true,
    "editable": true
   },
   "outputs": [
    {
     "data": {
      "text/plain": [
       "array([5, 0, 5, 5])"
      ]
     },
     "execution_count": 22,
     "metadata": {},
     "output_type": "execute_result"
    }
   ],
   "source": [
    "matrice[righe,colonne]\n"
   ]
  },
  {
   "cell_type": "code",
   "execution_count": 79,
   "metadata": {
    "collapsed": false,
    "deletable": true,
    "editable": true
   },
   "outputs": [
    {
     "data": {
      "text/plain": [
       "array([[200,   1,   2],\n",
       "       [  3,   4,  15],\n",
       "       [  6,   7,   8],\n",
       "       [  9,  10,  11],\n",
       "       [ 12,  13,  14],\n",
       "       [ 15,  16,  17],\n",
       "       [ 18,  19,  20],\n",
       "       [ 21,  22,  23],\n",
       "       [ 24,  25,  26],\n",
       "       [ 27,  28,  29]])"
      ]
     },
     "execution_count": 79,
     "metadata": {},
     "output_type": "execute_result"
    }
   ],
   "source": [
    "matrice[righe,colonne] = (matrice[righe,colonne] + numpy.array([100,200,300,10]))\n",
    "matrice"
   ]
  },
  {
   "cell_type": "code",
   "execution_count": 76,
   "metadata": {
    "collapsed": false,
    "deletable": true,
    "editable": true
   },
   "outputs": [
    {
     "data": {
      "image/png": "[encoded data removed]",
      "text/plain": [
       "<matplotlib.figure.Figure at 0x7f789d0fd7f0>"
      ]
     },
     "metadata": {},
     "output_type": "display_data"
    }
   ],
   "source": [
    "%matplotlib inline\n",
    "a = pyplot.imshow(matrice)"
   ]
  },
  {
   "cell_type": "code",
   "execution_count": 81,
   "metadata": {
    "collapsed": false,
    "deletable": true,
    "editable": true
   },
   "outputs": [
    {
     "data": {
      "text/plain": [
       "array([[200,   1,   2],\n",
       "       [  3,   4, 415],\n",
       "       [  6,   7,   8],\n",
       "       [  9,  10,  11],\n",
       "       [ 12,  13,  14],\n",
       "       [ 15,  16,  17],\n",
       "       [ 18,  19,  20],\n",
       "       [ 21,  22,  23],\n",
       "       [ 24,  25,  26],\n",
       "       [ 27,  28,  29]])"
      ]
     },
     "execution_count": 81,
     "metadata": {},
     "output_type": "execute_result"
    }
   ],
   "source": [
    "numpy.add.at(matrice, [righe,colonne],pesi)\n",
    "matrice"
   ]
  },
  {
   "cell_type": "code",
   "execution_count": 82,
   "metadata": {
    "collapsed": false,
    "deletable": true,
    "editable": true
   },
   "outputs": [
    {
     "data": {
      "image/png": "[encoded data removed]",
      "text/plain": [
       "<matplotlib.figure.Figure at 0x7f789ccc3240>"
      ]
     },
     "metadata": {},
     "output_type": "display_data"
    }
   ],
   "source": [
    "%matplotlib inline\n",
    "a = pyplot.imshow(matrice)"
   ]
  },
  {
   "cell_type": "code",
   "execution_count": null,
   "metadata": {
    "collapsed": true,
    "deletable": true,
    "editable": true
   },
   "outputs": [],
   "source": [
    "matr"
   ]
  },
  {
   "cell_type": "markdown",
   "metadata": {
    "deletable": true,
    "editable": true
   },
   "source": [
    "## Prove plots"
   ]
  },
  {
   "cell_type": "code",
   "execution_count": 33,
   "metadata": {
    "collapsed": true,
    "deletable": true,
    "editable": true
   },
   "outputs": [],
   "source": [
    "from matplotlib import pyplot\n",
    "%matplotlib inline\n"
   ]
  },
  {
   "cell_type": "code",
   "execution_count": 156,
   "metadata": {
    "collapsed": false,
    "deletable": true,
    "editable": true
   },
   "outputs": [
    {
     "data": {
      "text/plain": [
       "<matplotlib.collections.PathCollection at 0x7faca7884f28>"
      ]
     },
     "execution_count": 156,
     "metadata": {},
     "output_type": "execute_result"
    },
    {
     "data": {
      "image/png": "[encoded data removed]",
      "text/plain": [
       "<matplotlib.figure.Figure at 0x7faca7f6e3c8>"
      ]
     },
     "metadata": {},
     "output_type": "display_data"
    }
   ],
   "source": [
    "##AL MOMENTO INUTILE, NON COMPILARE\n",
    "x = numpy.random.randint(10,size = 10)\n",
    "y = numpy.random.randint(10,size = 10)\n",
    "pyplot.scatter(x,y, s = 5)\n",
    "#nb imshow si può fare solo con un 2d array"
   ]
  },
  {
   "cell_type": "code",
   "execution_count": 27,
   "metadata": {
    "collapsed": false,
    "deletable": true,
    "editable": true
   },
   "outputs": [
    {
     "data": {
      "image/png": "[encoded data removed]",
      "text/plain": [
       "<matplotlib.figure.Figure at 0x7fcff70ef2e8>"
      ]
     },
     "metadata": {},
     "output_type": "display_data"
    }
   ],
   "source": [
    "#visualizzazione di una matrice, solo matrici dense a quanto pare\n",
    "a = pyplot.imshow(densamatricia)\n",
    "#a = pyplot.imshow(sparsamatricia)\n",
    "#c = pyplot.matshow(densamatricia)\n"
   ]
  },
  {
   "cell_type": "code",
   "execution_count": null,
   "metadata": {
    "collapsed": false,
    "deletable": true,
    "editable": true
   },
   "outputs": [],
   "source": [
    "#spy invece funziona anche per le sparse!\n",
    "pyplot.spy(sparsamatricia,precision=0.01, marker = \".\", markersize=10)"
   ]
  },
  {
   "cell_type": "code",
   "execution_count": 171,
   "metadata": {
    "collapsed": false,
    "deletable": true,
    "editable": true
   },
   "outputs": [
    {
     "data": {
      "image/png": "[encoded data removed]",
      "text/plain": [
       "<matplotlib.figure.Figure at 0x7fb214ff1c18>"
      ]
     },
     "metadata": {},
     "output_type": "display_data"
    }
   ],
   "source": [
    "#in alternativa, scatterplot delle coordinate dal dataframe\n",
    "b = pyplot.scatter(coordinateColonne,coordinateRighe, s = 2)"
   ]
  },
  {
   "cell_type": "code",
   "execution_count": 122,
   "metadata": {
    "collapsed": false,
    "deletable": true,
    "editable": true
   },
   "outputs": [
    {
     "data": {
      "image/png": "[encoded data removed]",
      "text/plain": [
       "<matplotlib.figure.Figure at 0x7faca7e41a20>"
      ]
     },
     "metadata": {},
     "output_type": "display_data"
    }
   ],
   "source": [
    "import seaborn\n",
    "%matplotlib inline\n",
    "\n",
    "\n",
    "sbRegplot = seaborn.regplot(x=coordinateRighe, y=coordinateColonne, color=\"g\", fit_reg=False)"
   ]
  },
  {
   "cell_type": "code",
   "execution_count": 113,
   "metadata": {
    "collapsed": false,
    "deletable": true,
    "editable": true
   },
   "outputs": [],
   "source": [
    "import pandas\n",
    "\n",
    "coordinateRighe = coordinateRighe.reshape(len(coordinateRighe),1)\n",
    "coordinateColonne = coordinateColonne.reshape(len(coordinateColonne),1)\n",
    "#print([coordinateRighe,coordinateColonne])\n",
    "coordinate = numpy.concatenate((coordinateRighe,coordinateColonne),axis = 1)\n",
    "coordinate"
   ]
  },
  {
   "cell_type": "code",
   "execution_count": 118,
   "metadata": {
    "collapsed": false,
    "deletable": true,
    "editable": true
   },
   "outputs": [],
   "source": [
    "\n",
    "tabella = pandas.DataFrame(coordinate)\n",
    "tabella.columns = [\"righe\", \"colonne\"]\n"
   ]
  },
  {
   "cell_type": "code",
   "execution_count": 121,
   "metadata": {
    "collapsed": false,
    "deletable": true,
    "editable": true
   },
   "outputs": [
    {
     "data": {
      "image/png": "[encoded data removed]",
      "text/plain": [
       "<matplotlib.figure.Figure at 0x7faca7c25828>"
      ]
     },
     "metadata": {},
     "output_type": "display_data"
    }
   ],
   "source": [
    "sbPlmplot = seaborn.lmplot(x = \"righe\", y = \"colonne\", data = tabella, fit_reg=False)\n",
    "\n"
   ]
  },
  {
   "cell_type": "markdown",
   "metadata": {
    "deletable": true,
    "editable": true
   },
   "source": [
    "## Un esempio semplice del mio problema"
   ]
  },
  {
   "cell_type": "code",
   "execution_count": 26,
   "metadata": {
    "collapsed": true,
    "deletable": true,
    "editable": true
   },
   "outputs": [],
   "source": [
    "import numpy\n",
    "from scipy import sparse\n",
    "import multiprocessing\n",
    "from matplotlib import pyplot\n",
    "\n",
    "#first i build a matrix of some x positions vs time datas in a sparse format\n",
    "matrix = numpy.random.randint(2, size = 100).astype(float).reshape(10,10)\n",
    "x = numpy.nonzero(matrix)[0]\n",
    "times = numpy.nonzero(matrix)[1]\n",
    "weights = numpy.random.rand(x.size)\n",
    "\n"
   ]
  },
  {
   "cell_type": "code",
   "execution_count": 27,
   "metadata": {
    "collapsed": false,
    "deletable": true,
    "editable": true
   },
   "outputs": [],
   "source": [
    "import scipy.io\n",
    "\n",
    "mint = numpy.amin(times)\n",
    "maxt = numpy.amax(times)\n",
    "\n",
    "scipy.io.savemat('debugExamples/numpy.mat',{\n",
    "    'matrix':matrix, \n",
    "    'x':x, \n",
    "    'times':times, \n",
    "    'weights':weights,\n",
    "    'mint':mint,\n",
    "    'maxt':maxt,\n",
    "    \n",
    "})"
   ]
  },
  {
   "cell_type": "code",
   "execution_count": 28,
   "metadata": {
    "collapsed": false,
    "deletable": true,
    "editable": true
   },
   "outputs": [
    {
     "data": {
      "text/plain": [
       "array([0, 1, 2, 3, 4, 6, 7, 8, 9, 0, 1, 2, 3, 4, 7, 8, 9, 0, 1, 2, 4, 5, 8,\n",
       "       0, 2, 5, 6, 9, 0, 3, 5, 7, 8, 2, 3, 4, 6, 7, 8, 9, 4, 6, 0, 3, 5, 6,\n",
       "       9, 1, 5, 6, 0, 1, 4, 5, 6])"
      ]
     },
     "execution_count": 28,
     "metadata": {},
     "output_type": "execute_result"
    }
   ],
   "source": [
    "times"
   ]
  },
  {
   "cell_type": "code",
   "execution_count": 29,
   "metadata": {
    "collapsed": true,
    "deletable": true,
    "editable": true
   },
   "outputs": [],
   "source": [
    "#then i define an array of y positions\n",
    "nStepsY = 5\n",
    "y = numpy.arange(1,nStepsY+1)"
   ]
  },
  {
   "cell_type": "code",
   "execution_count": 30,
   "metadata": {
    "collapsed": false,
    "deletable": true,
    "editable": true
   },
   "outputs": [
    {
     "data": {
      "image/png": "[encoded data removed]",
      "text/plain": [
       "<matplotlib.figure.Figure at 0x7fddb7c7e358>"
      ]
     },
     "metadata": {},
     "output_type": "display_data"
    }
   ],
   "source": [
    "# provo a iterare\n",
    "# VERSIONE CON HACK CON SPARSE verificato viene uguale a tutti gli altri metodi più semplici che ho provato\n",
    "# ma ha problemi con parallelizzazione\n",
    "\n",
    "nRows = nStepsY\n",
    "nColumns = 80\n",
    "y = numpy.arange(1,nStepsY+1)\n",
    "image = numpy.zeros((nRows, nColumns))\n",
    "def itermatrix(ithStep):\n",
    "    yTimed = y[ithStep]*times\n",
    "    positions = (numpy.round(x-yTimed)+50).astype(int)\n",
    "\n",
    "    fakeRow = numpy.zeros(positions.size)\n",
    "    matrix = sparse.coo_matrix((weights, (fakeRow, positions))).todense()\n",
    "    matrix = numpy.ravel(matrix)\n",
    "    missColumns = (nColumns-matrix.size)\n",
    "    zeros = numpy.zeros(missColumns)\n",
    "    matrix = numpy.concatenate((matrix, zeros))\n",
    "    return matrix\n",
    "\n",
    "#for i in numpy.arange(nStepsY):\n",
    "#    image[i] = itermatrix(i)\n",
    "\n",
    "#or\n",
    "imageSparsed = list(map(itermatrix, range(nStepsY)))\n",
    "imageSparsed = numpy.array(imageSparsed)\n",
    "scipy.io.savemat('debugExamples/numpyResult.mat', {'imageSparsed':imageSparsed})    \n",
    "a = pyplot.imshow(imageSparsed, aspect = 10)\n",
    "pyplot.show()"
   ]
  },
  {
   "cell_type": "code",
   "execution_count": 4,
   "metadata": {
    "collapsed": false,
    "deletable": true,
    "editable": true
   },
   "outputs": [
    {
     "name": "stdout",
     "output_type": "stream",
     "text": [
      "CPU times: user 0 ns, sys: 0 ns, total: 0 ns\n",
      "Wall time: 330 µs\n"
     ]
    },
    {
     "data": {
      "image/png": "[encoded data removed]",
      "text/plain": [
       "<matplotlib.figure.Figure at 0x7f1bf1db3cf8>"
      ]
     },
     "metadata": {},
     "output_type": "display_data"
    }
   ],
   "source": [
    "import numpy\n",
    "from scipy import sparse\n",
    "import multiprocessing\n",
    "from matplotlib import pyplot\n",
    "\n",
    "#first i build a matrix of some x positions vs time datas in a sparse format\n",
    "matrix = numpy.random.randint(2, size = 100).astype(float).reshape(10,10)\n",
    "times = numpy.nonzero(matrix)[0]\n",
    "freqs = numpy.nonzero(matrix)[1]\n",
    "weights = numpy.random.rand(times.size)\n",
    "\n",
    "#then i define an array of y positions\n",
    "nStepsSpindowns = 5\n",
    "spindowns = numpy.arange(1,nStepsSpindowns+1)\n",
    "\n",
    "\n",
    "#PROVA CON BINCOUNT\n",
    "\n",
    "def mapIt(ithStep):\n",
    "    ncolumns = 80\n",
    "    image = numpy.zeros(ncolumns)\n",
    "\n",
    "    sdTimed = spindowns[ithStep]*times\n",
    "    positions = (numpy.round(freqs-sdTimed)+50).astype(int)\n",
    "\n",
    "    values = numpy.bincount(positions,weights)\n",
    "    values = values[numpy.nonzero(values)]\n",
    "    positions = numpy.unique(positions)\n",
    "    image[positions] = values\n",
    "    return image\n",
    "\n",
    "\n",
    "%time    imageMapped = list(map(mapIt, range(nStepsSpindowns)))\n",
    "imageMapped = numpy.array(imageMapped)\n",
    "\n",
    "%matplotlib inline\n",
    "a = pyplot.imshow(imageMapped, aspect = 10)"
   ]
  },
  {
   "cell_type": "code",
   "execution_count": 6,
   "metadata": {
    "collapsed": false
   },
   "outputs": [
    {
     "name": "stdout",
     "output_type": "stream",
     "text": [
      "CPU times: user 0 ns, sys: 0 ns, total: 0 ns\n",
      "Wall time: 366 µs\n"
     ]
    },
    {
     "data": {
      "image/png": "[encoded data removed]",
      "text/plain": [
       "<matplotlib.figure.Figure at 0x7f1c0c095198>"
      ]
     },
     "metadata": {},
     "output_type": "display_data"
    }
   ],
   "source": [
    "# qui provo fully vectorial\n",
    "def fullmatrix(nRows, nColumns):\n",
    "    spindowns = numpy.arange(1,nStepsSpindowns+1)\n",
    "    image = numpy.zeros((nRows, nColumns))\n",
    "\n",
    "    sdTimed = numpy.outer(spindowns,times)\n",
    "    freqs3d = numpy.outer(numpy.ones(nStepsSpindowns),freqs)\n",
    "    weights3d = numpy.outer(numpy.ones(nStepsSpindowns),weights)\n",
    "    spindowns3d = numpy.outer(spindowns,numpy.ones(times.size))\n",
    "    positions = (numpy.round(freqs3d-sdTimed)+50).astype(int)\n",
    "\n",
    "    matrix = sparse.coo_matrix((numpy.ravel(weights3d), (numpy.ravel(spindowns3d), numpy.ravel(positions)))).todense()\n",
    "    return matrix\n",
    "\n",
    "%time image = fullmatrix(nStepsSpindowns, 80)\n",
    "a = pyplot.imshow(image, aspect = 10)\n",
    "pyplot.show()"
   ]
  },
  {
   "cell_type": "markdown",
   "metadata": {
    "deletable": true,
    "editable": true
   },
   "source": [
    "# Confronti Debug!"
   ]
  },
  {
   "cell_type": "code",
   "execution_count": 34,
   "metadata": {
    "collapsed": false,
    "deletable": true,
    "editable": true
   },
   "outputs": [
    {
     "data": {
      "image/png": "[encoded data removed]",
      "text/plain": [
       "<matplotlib.figure.Figure at 0x7fddb7900550>"
      ]
     },
     "metadata": {},
     "output_type": "display_data"
    }
   ],
   "source": [
    "#confronto con codice ORIGINALE in matlab\n",
    "immagineOrig = scipy.io.loadmat('debugExamples/dbOrigResult.mat')['binh_df0']\n",
    "a = pyplot.imshow(immagineOrig[:,0:80], aspect = 10)\n",
    "pyplot.show()"
   ]
  },
  {
   "cell_type": "code",
   "execution_count": 16,
   "metadata": {
    "collapsed": false,
    "deletable": true,
    "editable": true
   },
   "outputs": [
    {
     "name": "stdout",
     "output_type": "stream",
     "text": [
      "CPU times: user 0 ns, sys: 0 ns, total: 0 ns\n",
      "Wall time: 528 µs\n"
     ]
    },
    {
     "data": {
      "image/png": "[encoded data removed]",
      "text/plain": [
       "<matplotlib.figure.Figure at 0x7fddb7d746d8>"
      ]
     },
     "metadata": {},
     "output_type": "display_data"
    }
   ],
   "source": [
    "#PROVA CON BINCOUNT\n",
    "\n",
    "def mapIt(ithStep):\n",
    "    ncolumns = 80\n",
    "    image = numpy.zeros(ncolumns)\n",
    "\n",
    "    yTimed = y[ithStep]*times\n",
    "    positions = (numpy.round(x-yTimed)+50).astype(int)\n",
    "\n",
    "    values = numpy.bincount(positions,weights)\n",
    "    values = values[numpy.nonzero(values)]\n",
    "    positions = numpy.unique(positions)\n",
    "    image[positions] = values\n",
    "    return image\n",
    "\n",
    "\n",
    "%time    imageMapped = list(map(mapIt, range(nStepsY)))\n",
    "imageMapped = numpy.array(imageMapped)\n",
    "\n",
    "%matplotlib inline\n",
    "a = pyplot.imshow(imageMapped, aspect = 10)"
   ]
  },
  {
   "cell_type": "code",
   "execution_count": 12,
   "metadata": {
    "collapsed": false,
    "deletable": true,
    "editable": true
   },
   "outputs": [
    {
     "data": {
      "image/png": "[encoded data removed]",
      "text/plain": [
       "<matplotlib.figure.Figure at 0x7fddb7cf95f8>"
      ]
     },
     "metadata": {},
     "output_type": "display_data"
    }
   ],
   "source": [
    "# qui provo con vettorializzazione di numpy (apply along axis)\n",
    "nrows = nStepsY\n",
    "ncolumns = 80\n",
    "matrix = numpy.zeros(nrows*ncolumns).reshape(nrows,ncolumns)\n",
    "\n",
    "def applyIt(image):\n",
    "    ithStep = 1\n",
    "    image = numpy.zeros(ncolumns)\n",
    "\n",
    "    yTimed = y[ithStep]*times\n",
    "    positions = (numpy.round(x-yTimed)+50).astype(int)\n",
    "    #print(positions)\n",
    "    values = numpy.bincount(positions,weights)\n",
    "    values = values[numpy.nonzero(values)]\n",
    "    positions = numpy.unique(positions)\n",
    "    image[positions] = values\n",
    "    \n",
    "    return image\n",
    "\n",
    "\n",
    "imageApplied = numpy.apply_along_axis(applyIt,1,matrix)\n",
    "a = pyplot.imshow(imageApplied, aspect = 10)"
   ]
  },
  {
   "cell_type": "code",
   "execution_count": 13,
   "metadata": {
    "collapsed": false,
    "deletable": true,
    "editable": true
   },
   "outputs": [
    {
     "name": "stdout",
     "output_type": "stream",
     "text": [
      "CPU times: user 0 ns, sys: 0 ns, total: 0 ns\n",
      "Wall time: 309 µs\n"
     ]
    },
    {
     "data": {
      "image/png": "[encoded data removed]",
      "text/plain": [
       "<matplotlib.figure.Figure at 0x7fddb7c5d320>"
      ]
     },
     "metadata": {},
     "output_type": "display_data"
    }
   ],
   "source": [
    "# qui provo fully vectorial\n",
    "def fullmatrix(nRows, nColumns):\n",
    "    y = numpy.arange(1,nStepsY+1)\n",
    "    image = numpy.zeros((nRows, nColumns))\n",
    "\n",
    "    yTimed = numpy.outer(y,times)\n",
    "    x3d = numpy.outer(numpy.ones(nStepsY),x)\n",
    "    weights3d = numpy.outer(numpy.ones(nStepsY),weights)\n",
    "    y3d = numpy.outer(y,numpy.ones(x.size))\n",
    "    positions = (numpy.round(x3d-yTimed)+50).astype(int)\n",
    "\n",
    "    matrix = sparse.coo_matrix((numpy.ravel(weights3d), (numpy.ravel(y3d), numpy.ravel(positions)))).todense()\n",
    "    return matrix\n",
    "\n",
    "%time image = fullmatrix(nStepsY, 80)\n",
    "a = pyplot.imshow(image, aspect = 10)\n",
    "pyplot.show()"
   ]
  },
  {
   "cell_type": "code",
   "execution_count": 47,
   "metadata": {
    "collapsed": false,
    "deletable": true,
    "editable": true
   },
   "outputs": [
    {
     "data": {
      "image/png": "[encoded data removed]",
      "text/plain": [
       "<matplotlib.figure.Figure at 0x7faa28f13048>"
      ]
     },
     "metadata": {},
     "output_type": "display_data"
    }
   ],
   "source": [
    "imageMapped = list(map(itermatrix, range(nStepsY)))\n",
    "imageMapped = numpy.array(imageMapped)\n",
    "a = pyplot.imshow(imageMapped, aspect = 10)\n",
    "pyplot.show()"
   ]
  },
  {
   "cell_type": "code",
   "execution_count": 10,
   "metadata": {
    "collapsed": false,
    "deletable": true,
    "editable": true
   },
   "outputs": [
    {
     "name": "stdout",
     "output_type": "stream",
     "text": [
      "CPU times: user 0 ns, sys: 0 ns, total: 0 ns\n",
      "Wall time: 541 µs\n"
     ]
    },
    {
     "data": {
      "image/png": "[encoded data removed]",
      "text/plain": [
       "<matplotlib.figure.Figure at 0x7faa2b3fbb00>"
      ]
     },
     "metadata": {},
     "output_type": "display_data"
    }
   ],
   "source": [
    "# prova con numpy.put\n",
    "\n",
    "nStepsY = 5\n",
    "\n",
    "def mapIt(ithStep):\n",
    "    ncolumns = 80\n",
    "    image = numpy.zeros(ncolumns)\n",
    "\n",
    "    yTimed = y[ithStep]*times\n",
    "    positions = (numpy.round(x-yTimed)+50).astype(int)\n",
    "\n",
    "    values = numpy.bincount(positions,weights)\n",
    "    values = values[numpy.nonzero(values)]\n",
    "    positions = numpy.unique(positions)\n",
    "    image[positions] = values\n",
    "    return image\n",
    "\n",
    "\n",
    "%time    imagePutted = list(map(mapIt, range(nStepsY)))\n",
    "imagePutted = numpy.array(imagePutted)\n",
    "\n",
    "%matplotlib inline\n",
    "a = pyplot.imshow(image, aspect = 10)\n",
    "pyplot.show()"
   ]
  },
  {
   "cell_type": "markdown",
   "metadata": {
    "deletable": true,
    "editable": true
   },
   "source": [
    "## Documentazione\n",
    "\n",
    ">Roba di array vari di numpy\n",
    "\n",
    "1. [Domanda interessante su creazione matrici (stackoverflow)](http://stackoverflow.com/questions/1696135/how-to-create-3-dimensions-matrix-in-numpy-like-matlab-a)\n",
    "2. [Creazione array ND](https://docs.scipy.org/doc/numpy-1.10.0/reference/arrays.ndarray.html)\n",
    "3. [Operatore **add** equivalente ad a+b per array ND](https://docs.scipy.org/doc/numpy-1.10.0/reference/generated/numpy.ndarray.__add__.html#numpy.ndarray.__add__)\n",
    "3. [Data types](https://docs.scipy.org/doc/numpy-1.10.0/reference/arrays.dtypes.html)\n",
    "3. [Prodotto tensore](https://docs.scipy.org/doc/numpy/reference/generated/numpy.tensordot.html) (da vedere ancora)\n",
    "4. [Generazione array ND random](https://docs.scipy.org/doc/numpy/reference/generated/numpy.random.rand.html)\n",
    "5. [Generazione array 1D random intero (eg binario)](https://docs.scipy.org/doc/numpy/reference/generated/numpy.random.randint.html#numpy.random.randint)\n",
    "8. [Dà le coordinate di tutti gli elementi nonzero](https://docs.scipy.org/doc/numpy/reference/generated/numpy.nonzero.html)\n",
    "9. [Concatenate: unisce due array in un solo array (mette il secondo dopo il primo nello stesso array, poi eventualmenete va reshapato se si vuole fare una matrice da più arrays)](https://docs.scipy.org/doc/numpy/reference/generated/numpy.concatenate.html)\n",
    "10. [Stack: unisce due array, forse migliore di concatenate, forse li aggiunge facendo una matrice](https://docs.scipy.org/doc/numpy/reference/generated/numpy.stack.html#numpy.stack)\n",
    "\n",
    "\n",
    ">Roba di matrici sparse\n",
    "\n",
    "1. [Creazione sparse (nb vedi esempio finale per mio caso)](https://docs.scipy.org/doc/scipy/reference/sparse.html)\n",
    "2. [Creazione sparsa random](https://docs.scipy.org/doc/scipy-0.14.0/reference/generated/scipy.sparse.rand.html)\n",
    "3. [Forma in cui fa prodotto esterno](https://en.wikipedia.org/wiki/Kronecker_product)\n",
    "\n",
    ">Roba scatterplot et similia\n",
    "\n",
    "1. [Scatterplot (nb attenti alle coordinate)](http://matplotlib.org/api/pyplot_api.html#matplotlib.pyplot.scatter)\n",
    "2. [Plot di matrici (imshow)](https://gist.github.com/fasiha/eff0763ca25777ec849ffead370dc907)\n",
    "3. [Tutorial per imshow](http://matplotlib.org/users/image_tutorial.html)\n",
    "3. [Spy FA PLOT DI MATRICI SPARSE!](http://matplotlib.org/devdocs/api/pyplot_api.html#matplotlib.pyplot.spy)\n",
    "4. Plots con seaborn: [regplot)](http://seaborn.pydata.org/generated/seaborn.regplot.html) (più semplice, come pyplot vuole solo due array delle coordinate),[lmplot](http://seaborn.pydata.org/generated/seaborn.lmplot.html) (vuole dataframe),[pairplot](http://seaborn.pydata.org/generated/seaborn.pairplot.html) (non mi dovrebbe servire)\n",
    "5. [Esempio scatterplot con lmplot (v anche siscomp)](https://chrisalbon.com/python/seaborn_scatterplot.html)\n"
   ]
  },
  {
   "cell_type": "code",
   "execution_count": null,
   "metadata": {
    "collapsed": true,
    "deletable": true,
    "editable": true
   },
   "outputs": [],
   "source": []
  },
  {
   "cell_type": "code",
   "execution_count": null,
   "metadata": {
    "collapsed": true,
    "deletable": true,
    "editable": true
   },
   "outputs": [],
   "source": []
  }
 ],
 "metadata": {
  "kernelspec": {
   "display_name": "Python 3",
   "language": "python",
   "name": "python3"
  },
  "language_info": {
   "codemirror_mode": {
    "name": "ipython",
    "version": 3
   },
   "file_extension": ".py",
   "mimetype": "text/x-python",
   "name": "python",
   "nbconvert_exporter": "python",
   "pygments_lexer": "ipython3",
   "version": "3.5.2"
  }
 },
 "nbformat": 4,
 "nbformat_minor": 2
}
