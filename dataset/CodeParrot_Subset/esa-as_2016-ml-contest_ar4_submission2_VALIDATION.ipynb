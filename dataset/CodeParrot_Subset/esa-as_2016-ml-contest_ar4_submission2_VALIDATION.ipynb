{
 "cells": [
  {
   "cell_type": "markdown",
   "metadata": {},
   "source": [
    "# Facies classification using machine learning techniques\n",
    "Copy of <a href=\"https://home.deib.polimi.it/bestagini/\">Paolo Bestagini's</a> \"Try 2\", augmented, by Alan Richardson (Ausar Geophysical), with an ML estimator for PE in the wells where it is missing (rather than just using the mean).\n",
    "\n",
    "In the following, we provide a possible solution to the facies classification problem described at https://github.com/seg/2016-ml-contest.\n",
    "\n",
    "The proposed algorithm is based on the use of random forests combined in one-vs-one multiclass strategy. In particular, we would like to study the effect of:\n",
    "- Robust feature normalization.\n",
    "- Feature imputation for missing feature values.\n",
    "- Well-based cross-validation routines.\n",
    "- Feature augmentation strategies.\n",
    "\n",
    "## Script initialization\n",
    "Let us import the used packages and define some parameters (e.g., colors, labels, etc.)."
   ]
  },
  {
   "cell_type": "code",
   "execution_count": 1,
   "metadata": {
    "collapsed": false
   },
   "outputs": [],
   "source": [
    "# Import\n",
    "from __future__ import division\n",
    "%matplotlib inline\n",
    "import matplotlib as mpl\n",
    "import matplotlib.pyplot as plt\n",
    "mpl.rcParams['figure.figsize'] = (20.0, 10.0)\n",
    "inline_rc = dict(mpl.rcParams)\n",
    "from classification_utilities import make_facies_log_plot\n",
    "\n",
    "import pandas as pd\n",
    "import numpy as np\n",
    "#import seaborn as sns\n",
    "\n",
    "from sklearn import preprocessing\n",
    "from sklearn.model_selection import LeavePGroupsOut\n",
    "from sklearn.metrics import f1_score\n",
    "from sklearn.multiclass import OneVsOneClassifier\n",
    "from sklearn.ensemble import RandomForestClassifier, RandomForestRegressor\n",
    "\n",
    "from scipy.signal import medfilt"
   ]
  },
  {
   "cell_type": "code",
   "execution_count": 2,
   "metadata": {
    "collapsed": false
   },
   "outputs": [
    {
     "name": "stdout",
     "output_type": "stream",
     "text": [
      "Python:  3.5.2 |Continuum Analytics, Inc.| (default, Jul  2 2016, 17:52:12) \n",
      "         [GCC 4.2.1 Compatible Apple LLVM 4.2 (clang-425.0.28)]\n",
      "Pandas:  0.18.1\n",
      "Numpy:   1.11.2\n",
      "Scipy:   0.18.1\n",
      "Sklearn: 0.18\n"
     ]
    }
   ],
   "source": [
    "import sys, scipy, sklearn\n",
    "print('Python:  ' + sys.version.split('\\n')[0])\n",
    "print('         ' + sys.version.split('\\n')[1])\n",
    "print('Pandas:  ' + pd.__version__)\n",
    "print('Numpy:   ' + np.__version__)\n",
    "print('Scipy:   ' + scipy.__version__)\n",
    "print('Sklearn: ' + sklearn.__version__)"
   ]
  },
  {
   "cell_type": "code",
   "execution_count": 3,
   "metadata": {
    "collapsed": false
   },
   "outputs": [],
   "source": [
    "# Parameters\n",
    "feature_names = ['GR', 'ILD_log10', 'DeltaPHI', 'PHIND', 'PE', 'NM_M', 'RELPOS']\n",
    "facies_names = ['SS', 'CSiS', 'FSiS', 'SiSh', 'MS', 'WS', 'D', 'PS', 'BS']\n",
    "facies_colors = ['#F4D03F', '#F5B041','#DC7633','#6E2C00', '#1B4F72','#2E86C1', '#AED6F1', '#A569BD', '#196F3D']"
   ]
  },
  {
   "cell_type": "markdown",
   "metadata": {},
   "source": [
    "## Load data\n",
    "Let us load training data and store features, labels and other data into numpy arrays."
   ]
  },
  {
   "cell_type": "code",
   "execution_count": 49,
   "metadata": {
    "collapsed": true
   },
   "outputs": [],
   "source": [
    "# Load data from file\n",
    "data = pd.read_csv('../facies_vectors.csv')"
   ]
  },
  {
   "cell_type": "code",
   "execution_count": 50,
   "metadata": {
    "collapsed": true
   },
   "outputs": [],
   "source": [
    "# Store features and labels\n",
    "X = data[feature_names].values  # features\n",
    "y = data['Facies'].values  # labels"
   ]
  },
  {
   "cell_type": "code",
   "execution_count": 51,
   "metadata": {
    "collapsed": true
   },
   "outputs": [],
   "source": [
    "# Store well labels and depths\n",
    "well = data['Well Name'].values\n",
    "depth = data['Depth'].values"
   ]
  },
  {
   "cell_type": "markdown",
   "metadata": {},
   "source": [
    "## Data inspection\n",
    "Let us inspect the features we are working with. This step is useful to understand how to normalize them and how to devise a correct cross-validation strategy. Specifically, it is possible to observe that:\n",
    "- Some features seem to be affected by a few outlier measurements.\n",
    "- Only a few wells contain samples from all classes.\n",
    "- PE measurements are available only for some wells."
   ]
  },
  {
   "cell_type": "code",
   "execution_count": 52,
   "metadata": {
    "collapsed": false
   },
   "outputs": [],
   "source": [
    "# Define function for plotting feature statistics\n",
    "def plot_feature_stats(X, y, feature_names, facies_colors, facies_names):\n",
    "    \n",
    "    # Remove NaN\n",
    "    nan_idx = np.any(np.isnan(X), axis=1)\n",
    "    X = X[np.logical_not(nan_idx), :]\n",
    "    y = y[np.logical_not(nan_idx)]\n",
    "    \n",
    "    # Merge features and labels into a single DataFrame\n",
    "    features = pd.DataFrame(X, columns=feature_names)\n",
    "    labels = pd.DataFrame(y, columns=['Facies'])\n",
    "    for f_idx, facies in enumerate(facies_names):\n",
    "        labels[labels[:] == f_idx] = facies\n",
    "    data = pd.concat((labels, features), axis=1)\n",
    "\n",
    "    # Plot features statistics\n",
    "    facies_color_map = {}\n",
    "    for ind, label in enumerate(facies_names):\n",
    "        facies_color_map[label] = facies_colors[ind]\n",
    "\n",
    "    sns.pairplot(data, hue='Facies', palette=facies_color_map, hue_order=list(reversed(facies_names)))"
   ]
  },
  {
   "cell_type": "code",
   "execution_count": 69,
   "metadata": {
    "collapsed": false
   },
   "outputs": [],
   "source": [
    "# Feature distribution\n",
    "# plot_feature_stats(X, y, feature_names, facies_colors, facies_names)\n",
    "# mpl.rcParams.update(inline_rc)"
   ]
  },
  {
   "cell_type": "code",
   "execution_count": 54,
   "metadata": {
    "collapsed": false
   },
   "outputs": [
    {
     "data": {
      "image/png": "[encoded data removed]",
      "text/plain": [
       "<matplotlib.figure.Figure at 0x1125169b0>"
      ]
     },
     "metadata": {},
     "output_type": "display_data"
    }
   ],
   "source": [
    "# Facies per well\n",
    "for w_idx, w in enumerate(np.unique(well)):\n",
    "    ax = plt.subplot(3, 4, w_idx+1)\n",
    "    hist = np.histogram(y[well == w], bins=np.arange(len(facies_names)+1)+.5)\n",
    "    plt.bar(np.arange(len(hist[0])), hist[0], color=facies_colors, align='center')\n",
    "    ax.set_xticks(np.arange(len(hist[0])))\n",
    "    ax.set_xticklabels(facies_names)\n",
    "    ax.set_title(w)"
   ]
  },
  {
   "cell_type": "code",
   "execution_count": 55,
   "metadata": {
    "collapsed": false
   },
   "outputs": [
    {
     "data": {
      "image/png": "[encoded data removed]",
      "text/plain": [
       "<matplotlib.figure.Figure at 0x114b1d7f0>"
      ]
     },
     "metadata": {},
     "output_type": "display_data"
    }
   ],
   "source": [
    "# Features per well\n",
    "for w_idx, w in enumerate(np.unique(well)):\n",
    "    ax = plt.subplot(3, 4, w_idx+1)\n",
    "    hist = np.logical_not(np.any(np.isnan(X[well == w, :]), axis=0))\n",
    "    plt.bar(np.arange(len(hist)), hist, color=facies_colors, align='center')\n",
    "    ax.set_xticks(np.arange(len(hist)))\n",
    "    ax.set_xticklabels(feature_names)\n",
    "    ax.set_yticks([0, 1])\n",
    "    ax.set_yticklabels(['miss', 'hit'])\n",
    "    ax.set_title(w)"
   ]
  },
  {
   "cell_type": "markdown",
   "metadata": {},
   "source": [
    "## Feature imputation\n",
    "Let us fill missing PE values. This is the only cell that differs from the approach of Paolo Bestagini. Currently no feature engineering is used, but this should be explored in the future."
   ]
  },
  {
   "cell_type": "code",
   "execution_count": 56,
   "metadata": {
    "collapsed": true
   },
   "outputs": [],
   "source": [
    "def make_pe(X, seed):\n",
    "    reg = RandomForestRegressor(max_features='sqrt', n_estimators=50, random_state=seed)\n",
    "    DataImpAll = data[feature_names].copy()\n",
    "    DataImp = DataImpAll.dropna(axis = 0, inplace=False)\n",
    "    Ximp=DataImp.loc[:, DataImp.columns != 'PE']\n",
    "    Yimp=DataImp.loc[:, 'PE']\n",
    "    reg.fit(Ximp, Yimp)\n",
    "    X[np.array(DataImpAll.PE.isnull()),4] = reg.predict(DataImpAll.loc[DataImpAll.PE.isnull(),:].drop('PE',axis=1,inplace=False))\n",
    "    return X"
   ]
  },
  {
   "cell_type": "markdown",
   "metadata": {},
   "source": [
    "## Feature augmentation\n",
    "Our guess is that facies do not abrutly change from a given depth layer to the next one. Therefore, we consider features at neighboring layers to be somehow correlated. To possibly exploit this fact, let us perform feature augmentation by:\n",
    "- Aggregating features at neighboring depths.\n",
    "- Computing feature spatial gradient."
   ]
  },
  {
   "cell_type": "code",
   "execution_count": 57,
   "metadata": {
    "collapsed": false
   },
   "outputs": [],
   "source": [
    "# Feature windows concatenation function\n",
    "def augment_features_window(X, N_neig):\n",
    "    \n",
    "    # Parameters\n",
    "    N_row = X.shape[0]\n",
    "    N_feat = X.shape[1]\n",
    "\n",
    "    # Zero padding\n",
    "    X = np.vstack((np.zeros((N_neig, N_feat)), X, (np.zeros((N_neig, N_feat)))))\n",
    "\n",
    "    # Loop over windows\n",
    "    X_aug = np.zeros((N_row, N_feat*(2*N_neig+1)))\n",
    "    for r in np.arange(N_row)+N_neig:\n",
    "        this_row = []\n",
    "        for c in np.arange(-N_neig,N_neig+1):\n",
    "            this_row = np.hstack((this_row, X[r+c]))\n",
    "        X_aug[r-N_neig] = this_row\n",
    "\n",
    "    return X_aug"
   ]
  },
  {
   "cell_type": "code",
   "execution_count": 58,
   "metadata": {
    "collapsed": true
   },
   "outputs": [],
   "source": [
    "# Feature gradient computation function\n",
    "def augment_features_gradient(X, depth):\n",
    "    \n",
    "    # Compute features gradient\n",
    "    d_diff = np.diff(depth).reshape((-1, 1))\n",
    "    d_diff[d_diff==0] = 0.001\n",
    "    X_diff = np.diff(X, axis=0)\n",
    "    X_grad = X_diff / d_diff\n",
    "        \n",
    "    # Compensate for last missing value\n",
    "    X_grad = np.concatenate((X_grad, np.zeros((1, X_grad.shape[1]))))\n",
    "    \n",
    "    return X_grad"
   ]
  },
  {
   "cell_type": "code",
   "execution_count": 59,
   "metadata": {
    "collapsed": false
   },
   "outputs": [],
   "source": [
    "# Feature augmentation function\n",
    "def augment_features(X, well, depth, seed=None, pe=True, N_neig=1):\n",
    "    seed = seed or None\n",
    "    \n",
    "    if pe:\n",
    "        X = make_pe(X, seed)\n",
    "    # Augment features\n",
    "    X_aug = np.zeros((X.shape[0], X.shape[1]*(N_neig*2+2)))\n",
    "    for w in np.unique(well):\n",
    "        w_idx = np.where(well == w)[0]\n",
    "        X_aug_win = augment_features_window(X[w_idx, :], N_neig)\n",
    "        X_aug_grad = augment_features_gradient(X[w_idx, :], depth[w_idx])\n",
    "        X_aug[w_idx, :] = np.concatenate((X_aug_win, X_aug_grad), axis=1)\n",
    "    \n",
    "    # Find padded rows\n",
    "    padded_rows = np.unique(np.where(X_aug[:, 0:7] == np.zeros((1, 7)))[0])\n",
    "    \n",
    "    return X_aug, padded_rows"
   ]
  },
  {
   "cell_type": "code",
   "execution_count": 60,
   "metadata": {
    "collapsed": false
   },
   "outputs": [],
   "source": [
    "# Augment features\n",
    "X_aug, padded_rows = augment_features(X, well, depth)"
   ]
  },
  {
   "cell_type": "markdown",
   "metadata": {},
   "source": [
    "## Generate training, validation and test data splits\n",
    "The choice of training and validation data is paramount in order to avoid overfitting and find a solution that generalizes well on new data. For this reason, we generate a set of training-validation splits so that:\n",
    "- Features from each well belongs to training or validation set.\n",
    "- Training and validation sets contain at least one sample for each class."
   ]
  },
  {
   "cell_type": "code",
   "execution_count": 61,
   "metadata": {
    "collapsed": false
   },
   "outputs": [
    {
     "name": "stdout",
     "output_type": "stream",
     "text": [
      "Split 0\n",
      "    training:   ['SHRIMPLIN' 'SHANKLE' 'LUKE G U' 'KIMZEY A' 'CROSS H CATTLE' 'NOLAN'\n",
      " 'Recruit F9' 'NEWBY']\n",
      "    validation: ['ALEXANDER D' 'CHURCHMAN BIBLE']\n",
      "Split 1\n",
      "    training:   ['SHRIMPLIN' 'SHANKLE' 'LUKE G U' 'KIMZEY A' 'NOLAN' 'Recruit F9' 'NEWBY'\n",
      " 'CHURCHMAN BIBLE']\n",
      "    validation: ['ALEXANDER D' 'CROSS H CATTLE']\n",
      "Split 2\n",
      "    training:   ['SHRIMPLIN' 'SHANKLE' 'LUKE G U' 'CROSS H CATTLE' 'NOLAN' 'Recruit F9'\n",
      " 'NEWBY' 'CHURCHMAN BIBLE']\n",
      "    validation: ['ALEXANDER D' 'KIMZEY A']\n",
      "Split 3\n",
      "    training:   ['SHRIMPLIN' 'SHANKLE' 'LUKE G U' 'KIMZEY A' 'CROSS H CATTLE' 'Recruit F9'\n",
      " 'NEWBY' 'CHURCHMAN BIBLE']\n",
      "    validation: ['ALEXANDER D' 'NOLAN']\n",
      "Split 4\n",
      "    training:   ['SHRIMPLIN' 'LUKE G U' 'KIMZEY A' 'CROSS H CATTLE' 'NOLAN' 'Recruit F9'\n",
      " 'NEWBY' 'CHURCHMAN BIBLE']\n",
      "    validation: ['ALEXANDER D' 'SHANKLE']\n",
      "Split 5\n",
      "    training:   ['SHRIMPLIN' 'ALEXANDER D' 'SHANKLE' 'LUKE G U' 'KIMZEY A' 'NOLAN'\n",
      " 'Recruit F9' 'NEWBY']\n",
      "    validation: ['CROSS H CATTLE' 'CHURCHMAN BIBLE']\n",
      "Split 6\n",
      "    training:   ['SHRIMPLIN' 'ALEXANDER D' 'SHANKLE' 'LUKE G U' 'CROSS H CATTLE' 'NOLAN'\n",
      " 'Recruit F9' 'NEWBY']\n",
      "    validation: ['KIMZEY A' 'CHURCHMAN BIBLE']\n",
      "Split 7\n",
      "    training:   ['SHRIMPLIN' 'ALEXANDER D' 'SHANKLE' 'KIMZEY A' 'CROSS H CATTLE' 'NOLAN'\n",
      " 'Recruit F9' 'NEWBY']\n",
      "    validation: ['LUKE G U' 'CHURCHMAN BIBLE']\n",
      "Split 8\n",
      "    training:   ['SHRIMPLIN' 'ALEXANDER D' 'SHANKLE' 'LUKE G U' 'KIMZEY A' 'CROSS H CATTLE'\n",
      " 'NOLAN' 'Recruit F9']\n",
      "    validation: ['NEWBY' 'CHURCHMAN BIBLE']\n",
      "Split 9\n",
      "    training:   ['SHRIMPLIN' 'ALEXANDER D' 'SHANKLE' 'LUKE G U' 'KIMZEY A' 'CROSS H CATTLE'\n",
      " 'Recruit F9' 'NEWBY']\n",
      "    validation: ['NOLAN' 'CHURCHMAN BIBLE']\n",
      "Split 10\n",
      "    training:   ['SHRIMPLIN' 'ALEXANDER D' 'SHANKLE' 'LUKE G U' 'KIMZEY A' 'CROSS H CATTLE'\n",
      " 'NOLAN' 'NEWBY']\n",
      "    validation: ['Recruit F9' 'CHURCHMAN BIBLE']\n",
      "Split 11\n",
      "    training:   ['SHRIMPLIN' 'ALEXANDER D' 'LUKE G U' 'KIMZEY A' 'CROSS H CATTLE' 'NOLAN'\n",
      " 'Recruit F9' 'NEWBY']\n",
      "    validation: ['SHANKLE' 'CHURCHMAN BIBLE']\n",
      "Split 12\n",
      "    training:   ['ALEXANDER D' 'SHANKLE' 'LUKE G U' 'KIMZEY A' 'CROSS H CATTLE' 'NOLAN'\n",
      " 'Recruit F9' 'NEWBY']\n",
      "    validation: ['SHRIMPLIN' 'CHURCHMAN BIBLE']\n",
      "Split 13\n",
      "    training:   ['SHRIMPLIN' 'ALEXANDER D' 'SHANKLE' 'LUKE G U' 'NOLAN' 'Recruit F9'\n",
      " 'NEWBY' 'CHURCHMAN BIBLE']\n",
      "    validation: ['KIMZEY A' 'CROSS H CATTLE']\n",
      "Split 14\n",
      "    training:   ['SHRIMPLIN' 'ALEXANDER D' 'SHANKLE' 'LUKE G U' 'KIMZEY A' 'NOLAN'\n",
      " 'Recruit F9' 'CHURCHMAN BIBLE']\n",
      "    validation: ['CROSS H CATTLE' 'NEWBY']\n",
      "Split 15\n",
      "    training:   ['SHRIMPLIN' 'ALEXANDER D' 'SHANKLE' 'LUKE G U' 'KIMZEY A' 'NOLAN' 'NEWBY'\n",
      " 'CHURCHMAN BIBLE']\n",
      "    validation: ['CROSS H CATTLE' 'Recruit F9']\n",
      "Split 16\n",
      "    training:   ['ALEXANDER D' 'SHANKLE' 'LUKE G U' 'KIMZEY A' 'NOLAN' 'Recruit F9' 'NEWBY'\n",
      " 'CHURCHMAN BIBLE']\n",
      "    validation: ['SHRIMPLIN' 'CROSS H CATTLE']\n",
      "Split 17\n",
      "    training:   ['SHRIMPLIN' 'ALEXANDER D' 'SHANKLE' 'CROSS H CATTLE' 'NOLAN' 'Recruit F9'\n",
      " 'NEWBY' 'CHURCHMAN BIBLE']\n",
      "    validation: ['LUKE G U' 'KIMZEY A']\n",
      "Split 18\n",
      "    training:   ['SHRIMPLIN' 'ALEXANDER D' 'SHANKLE' 'LUKE G U' 'CROSS H CATTLE' 'NOLAN'\n",
      " 'Recruit F9' 'CHURCHMAN BIBLE']\n",
      "    validation: ['KIMZEY A' 'NEWBY']\n",
      "Split 19\n",
      "    training:   ['SHRIMPLIN' 'ALEXANDER D' 'SHANKLE' 'LUKE G U' 'CROSS H CATTLE'\n",
      " 'Recruit F9' 'NEWBY' 'CHURCHMAN BIBLE']\n",
      "    validation: ['KIMZEY A' 'NOLAN']\n",
      "Split 20\n",
      "    training:   ['SHRIMPLIN' 'ALEXANDER D' 'SHANKLE' 'LUKE G U' 'CROSS H CATTLE' 'NOLAN'\n",
      " 'NEWBY' 'CHURCHMAN BIBLE']\n",
      "    validation: ['KIMZEY A' 'Recruit F9']\n",
      "Split 21\n",
      "    training:   ['SHRIMPLIN' 'ALEXANDER D' 'LUKE G U' 'CROSS H CATTLE' 'NOLAN' 'Recruit F9'\n",
      " 'NEWBY' 'CHURCHMAN BIBLE']\n",
      "    validation: ['SHANKLE' 'KIMZEY A']\n",
      "Split 22\n",
      "    training:   ['ALEXANDER D' 'SHANKLE' 'LUKE G U' 'CROSS H CATTLE' 'NOLAN' 'Recruit F9'\n",
      " 'NEWBY' 'CHURCHMAN BIBLE']\n",
      "    validation: ['SHRIMPLIN' 'KIMZEY A']\n",
      "Split 23\n",
      "    training:   ['SHRIMPLIN' 'ALEXANDER D' 'SHANKLE' 'LUKE G U' 'KIMZEY A' 'CROSS H CATTLE'\n",
      " 'Recruit F9' 'CHURCHMAN BIBLE']\n",
      "    validation: ['NOLAN' 'NEWBY']\n",
      "Split 24\n",
      "    training:   ['SHRIMPLIN' 'ALEXANDER D' 'LUKE G U' 'KIMZEY A' 'CROSS H CATTLE' 'NOLAN'\n",
      " 'Recruit F9' 'CHURCHMAN BIBLE']\n",
      "    validation: ['SHANKLE' 'NEWBY']\n",
      "Split 25\n",
      "    training:   ['SHRIMPLIN' 'ALEXANDER D' 'SHANKLE' 'LUKE G U' 'KIMZEY A' 'CROSS H CATTLE'\n",
      " 'NEWBY' 'CHURCHMAN BIBLE']\n",
      "    validation: ['NOLAN' 'Recruit F9']\n",
      "Split 26\n",
      "    training:   ['ALEXANDER D' 'SHANKLE' 'LUKE G U' 'KIMZEY A' 'CROSS H CATTLE'\n",
      " 'Recruit F9' 'NEWBY' 'CHURCHMAN BIBLE']\n",
      "    validation: ['SHRIMPLIN' 'NOLAN']\n",
      "Split 27\n",
      "    training:   ['SHRIMPLIN' 'ALEXANDER D' 'LUKE G U' 'KIMZEY A' 'CROSS H CATTLE' 'NOLAN'\n",
      " 'NEWBY' 'CHURCHMAN BIBLE']\n",
      "    validation: ['SHANKLE' 'Recruit F9']\n",
      "Split 28\n",
      "    training:   ['ALEXANDER D' 'LUKE G U' 'KIMZEY A' 'CROSS H CATTLE' 'NOLAN' 'Recruit F9'\n",
      " 'NEWBY' 'CHURCHMAN BIBLE']\n",
      "    validation: ['SHRIMPLIN' 'SHANKLE']\n"
     ]
    }
   ],
   "source": [
    "# Initialize model selection methods\n",
    "lpgo = LeavePGroupsOut(2)\n",
    "\n",
    "# Generate splits\n",
    "split_list = []\n",
    "for train, val in lpgo.split(X, y, groups=data['Well Name']):\n",
    "    hist_tr = np.histogram(y[train], bins=np.arange(len(facies_names)+1)+.5)\n",
    "    hist_val = np.histogram(y[val], bins=np.arange(len(facies_names)+1)+.5)\n",
    "    if np.all(hist_tr[0] != 0) & np.all(hist_val[0] != 0):\n",
    "        split_list.append({'train':train, 'val':val})\n",
    "            \n",
    "# Print splits\n",
    "for s, split in enumerate(split_list):\n",
    "    print('Split %d' % s)\n",
    "    print('    training:   %s' % (data['Well Name'][split['train']].unique()))\n",
    "    print('    validation: %s' % (data['Well Name'][split['val']].unique()))"
   ]
  },
  {
   "cell_type": "markdown",
   "metadata": {},
   "source": [
    "## Classification parameters optimization\n",
    "Let us perform the following steps for each set of parameters:\n",
    "- Select a data split.\n",
    "- Normalize features using a robust scaler.\n",
    "- Train the classifier on training data.\n",
    "- Test the trained classifier on validation data.\n",
    "- Repeat for all splits and average the F1 scores.\n",
    "\n",
    "At the end of the loop, we select the classifier that maximizes the average F1 score on the validation set. Hopefully, this classifier should be able to generalize well on new data."
   ]
  },
  {
   "cell_type": "code",
   "execution_count": 62,
   "metadata": {
    "collapsed": true
   },
   "outputs": [],
   "source": [
    "# Parameters search grid (uncomment parameters for full grid search... may take a lot of time)\n",
    "N_grid = [100]  # [50, 100, 150]\n",
    "M_grid = [10]  # [5, 10, 15]\n",
    "S_grid = [25]  # [10, 25, 50, 75]\n",
    "L_grid = [5] # [2, 3, 4, 5, 10, 25]\n",
    "param_grid = []\n",
    "for N in N_grid:\n",
    "    for M in M_grid:\n",
    "        for S in S_grid:\n",
    "            for L in L_grid:\n",
    "                param_grid.append({'N':N, 'M':M, 'S':S, 'L':L})"
   ]
  },
  {
   "cell_type": "code",
   "execution_count": 63,
   "metadata": {
    "collapsed": false
   },
   "outputs": [],
   "source": [
    "# Train and test a classifier\n",
    "def train_and_test(X_tr, y_tr, X_v, well_v, clf):\n",
    "    \n",
    "    # Feature normalization\n",
    "    scaler = preprocessing.RobustScaler(quantile_range=(25.0, 75.0)).fit(X_tr)\n",
    "    X_tr = scaler.transform(X_tr)\n",
    "    X_v = scaler.transform(X_v)\n",
    "    \n",
    "    # Train classifier\n",
    "    clf.fit(X_tr, y_tr)\n",
    "    \n",
    "    # Test classifier\n",
    "    y_v_hat = clf.predict(X_v)\n",
    "    \n",
    "    # Clean isolated facies for each well\n",
    "    for w in np.unique(well_v):\n",
    "        y_v_hat[well_v==w] = medfilt(y_v_hat[well_v==w], kernel_size=5)\n",
    "    \n",
    "    return y_v_hat"
   ]
  },
  {
   "cell_type": "code",
   "execution_count": 30,
   "metadata": {
    "collapsed": false
   },
   "outputs": [
    {
     "name": "stdout",
     "output_type": "stream",
     "text": [
      "F1 score = 0.565 {'S': 25, 'M': 10, 'L': 5, 'N': 100}\n",
      "\n",
      "Best F1 score = 0.565 {'S': 25, 'M': 10, 'L': 5, 'N': 100}\n"
     ]
    }
   ],
   "source": [
    "# For each set of parameters\n",
    "# score_param = []\n",
    "# for param in param_grid:\n",
    "\n",
    "#     # For each data split\n",
    "#     score_split = []\n",
    "#     for split in split_list:\n",
    "\n",
    "#         # Remove padded rows\n",
    "#         split_train_no_pad = np.setdiff1d(split['train'], padded_rows)\n",
    "\n",
    "#         # Select training and validation data from current split\n",
    "#         X_tr = X_aug[split_train_no_pad, :]\n",
    "#         X_v = X_aug[split['val'], :]\n",
    "#         y_tr = y[split_train_no_pad]\n",
    "#         y_v = y[split['val']]\n",
    "\n",
    "#         # Select well labels for validation data\n",
    "#         well_v = well[split['val']]\n",
    "\n",
    "#         # Train and test\n",
    "#         y_v_hat = train_and_test(X_tr, y_tr, X_v, well_v, param)\n",
    "\n",
    "#         # Score\n",
    "#         score = f1_score(y_v, y_v_hat, average='micro')\n",
    "#         score_split.append(score)\n",
    "\n",
    "#     # Average score for this param\n",
    "#     score_param.append(np.mean(score_split))\n",
    "#     print('F1 score = %.3f %s' % (score_param[-1], param))\n",
    "\n",
    "# # Best set of parameters\n",
    "# best_idx = np.argmax(score_param)\n",
    "# param_best = param_grid[best_idx]\n",
    "# score_best = score_param[best_idx]\n",
    "# print('\\nBest F1 score = %.3f %s' % (score_best, param_best))"
   ]
  },
  {
   "cell_type": "markdown",
   "metadata": {
    "collapsed": true
   },
   "source": [
    "## Predict labels on test data\n",
    "Let us now apply the selected classification technique to test data."
   ]
  },
  {
   "cell_type": "code",
   "execution_count": 64,
   "metadata": {
    "collapsed": true
   },
   "outputs": [],
   "source": [
    "param_best = {'S': 25, 'M': 10, 'L': 5, 'N': 100}"
   ]
  },
  {
   "cell_type": "code",
   "execution_count": 65,
   "metadata": {
    "collapsed": true
   },
   "outputs": [],
   "source": [
    "# Load data from file\n",
    "test_data = pd.read_csv('../validation_data_nofacies.csv')"
   ]
  },
  {
   "cell_type": "code",
   "execution_count": 66,
   "metadata": {
    "collapsed": false
   },
   "outputs": [],
   "source": [
    "# Prepare test data\n",
    "well_ts = test_data['Well Name'].values\n",
    "depth_ts = test_data['Depth'].values\n",
    "X_ts = test_data[feature_names].values"
   ]
  },
  {
   "cell_type": "code",
   "execution_count": 68,
   "metadata": {
    "collapsed": false
   },
   "outputs": [
    {
     "name": "stdout",
     "output_type": "stream",
     "text": [
      "...................................................................................................."
     ]
    }
   ],
   "source": [
    "y_pred = []\n",
    "print('o' * 100)\n",
    "for seed in range(100):\n",
    "    np.random.seed(seed)\n",
    "\n",
    "    # Make training data.\n",
    "    X_train, padded_rows = augment_features(X, well, depth, seed=seed)\n",
    "    y_train = y\n",
    "    X_train = np.delete(X_train, padded_rows, axis=0)\n",
    "    y_train = np.delete(y_train, padded_rows, axis=0) \n",
    "    param = param_best\n",
    "    clf = OneVsOneClassifier(RandomForestClassifier(n_estimators=param['N'], criterion='entropy',\n",
    "                             max_features=param['M'], min_samples_split=param['S'], min_samples_leaf=param['L'],\n",
    "                             class_weight='balanced', random_state=seed), n_jobs=-1)\n",
    "    \n",
    "    # Make blind data.\n",
    "    X_test, _ = augment_features(X_ts, well_ts, depth_ts, seed=seed, pe=False)\n",
    "\n",
    "    # Train and test.\n",
    "    y_ts_hat = train_and_test(X_train, y_train, X_test, well_ts, clf)\n",
    "    \n",
    "    # Collect result.\n",
    "    y_pred.append(y_ts_hat)\n",
    "    print('.', end='')\n",
    "    \n",
    "np.save('100_realizations.npy', y_pred)"
   ]
  }
 ],
 "metadata": {
  "anaconda-cloud": {},
  "kernelspec": {
   "display_name": "Python [conda env:python3]",
   "language": "python",
   "name": "conda-env-python3-py"
  },
  "language_info": {
   "codemirror_mode": {
    "name": "ipython",
    "version": 3
   },
   "file_extension": ".py",
   "mimetype": "text/x-python",
   "name": "python",
   "nbconvert_exporter": "python",
   "pygments_lexer": "ipython3",
   "version": "3.5.2"
  }
 },
 "nbformat": 4,
 "nbformat_minor": 0
}
