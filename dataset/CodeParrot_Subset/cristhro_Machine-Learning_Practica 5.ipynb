{
 "cells": [
  {
   "cell_type": "markdown",
   "metadata": {},
   "source": [
    "# Sacar la lista de 250 Pelis"
   ]
  },
  {
   "cell_type": "code",
   "execution_count": 7,
   "metadata": {
    "collapsed": false
   },
   "outputs": [
    {
     "data": {
      "text/plain": [
       "[<Movie id:0111161[http] title:_The Shawshank Redemption (1994)_>,\n",
       " <Movie id:0068646[http] title:_The Godfather (1972)_>,\n",
       " <Movie id:0071562[http] title:_The Godfather: Part II (1974)_>,\n",
       " <Movie id:0468569[http] title:_The Dark Knight (2008)_>,\n",
       " <Movie id:0050083[http] title:_12 Angry Men (1957)_>,\n",
       " <Movie id:0108052[http] title:_Schindler's List (1993)_>,\n",
       " <Movie id:0110912[http] title:_Pulp Fiction (1994)_>,\n",
       " <Movie id:0167260[http] title:_The Lord of the Rings: The Return of the King (2003)_>,\n",
       " <Movie id:0060196[http] title:_The Good, the Bad and the Ugly (1966)_>,\n",
       " <Movie id:0137523[http] title:_Fight Club (1999)_>,\n",
       " <Movie id:0120737[http] title:_The Lord of the Rings: The Fellowship of the Ring (2001)_>,\n",
       " <Movie id:0080684[http] title:_Star Wars: Episode V - The Empire Strikes Back (1980)_>,\n",
       " <Movie id:0109830[http] title:_Forrest Gump (1994)_>,\n",
       " <Movie id:1375666[http] title:_Inception (2010)_>,\n",
       " <Movie id:0167261[http] title:_The Lord of the Rings: The Two Towers (2002)_>,\n",
       " <Movie id:0073486[http] title:_One Flew Over the Cuckoo's Nest (1975)_>,\n",
       " <Movie id:0099685[http] title:_Goodfellas (1990)_>,\n",
       " <Movie id:0133093[http] title:_The Matrix (1999)_>,\n",
       " <Movie id:0047478[http] title:_Seven Samurai (1954)_>,\n",
       " <Movie id:0076759[http] title:_Star Wars: Episode IV - A New Hope (1977)_>,\n",
       " <Movie id:0317248[http] title:_City of God (2002)_>,\n",
       " <Movie id:0114369[http] title:_Se7en (1995)_>,\n",
       " <Movie id:0102926[http] title:_The Silence of the Lambs (1991)_>,\n",
       " <Movie id:0038650[http] title:_It's a Wonderful Life (1946)_>,\n",
       " <Movie id:0118799[http] title:_Life Is Beautiful (1997)_>,\n",
       " <Movie id:0114814[http] title:_The Usual Suspects (1995)_>,\n",
       " <Movie id:0110413[http] title:_Léon: The Professional (1994)_>,\n",
       " <Movie id:0245429[http] title:_Spirited Away (2001)_>,\n",
       " <Movie id:0120815[http] title:_Saving Private Ryan (1998)_>,\n",
       " <Movie id:0064116[http] title:_Once Upon a Time in the West (1968)_>,\n",
       " <Movie id:0120586[http] title:_American History X (1998)_>,\n",
       " <Movie id:0816692[http] title:_Interstellar (2014)_>,\n",
       " <Movie id:0034583[http] title:_Casablanca (1942)_>,\n",
       " <Movie id:0054215[http] title:_Psycho (1960)_>,\n",
       " <Movie id:0021749[http] title:_City Lights (1931)_>,\n",
       " <Movie id:0120689[http] title:_The Green Mile (1999)_>,\n",
       " <Movie id:1675434[http] title:_The Intouchables (2011)_>,\n",
       " <Movie id:0027977[http] title:_Modern Times (1936)_>,\n",
       " <Movie id:0082971[http] title:_Raiders of the Lost Ark (1981)_>,\n",
       " <Movie id:0047396[http] title:_Rear Window (1954)_>,\n",
       " <Movie id:0253474[http] title:_The Pianist (2002)_>,\n",
       " <Movie id:0407887[http] title:_The Departed (2006)_>,\n",
       " <Movie id:0103064[http] title:_Terminator 2: Judgment Day (1991)_>,\n",
       " <Movie id:0088763[http] title:_Back to the Future (1985)_>,\n",
       " <Movie id:2582802[http] title:_Whiplash (2014)_>,\n",
       " <Movie id:0172495[http] title:_Gladiator (2000)_>,\n",
       " <Movie id:0209144[http] title:_Memento (2000)_>,\n",
       " <Movie id:0482571[http] title:_The Prestige (2006)_>,\n",
       " <Movie id:0110357[http] title:_The Lion King (1994)_>,\n",
       " <Movie id:0078788[http] title:_Apocalypse Now (1979)_>,\n",
       " <Movie id:0078748[http] title:_Alien (1979)_>,\n",
       " <Movie id:0043014[http] title:_Sunset Boulevard (1950)_>,\n",
       " <Movie id:0057012[http] title:_Dr. Strangelove or: How I Learned to Stop Worrying and Love the Bomb (1964)_>,\n",
       " <Movie id:0032553[http] title:_The Great Dictator (1940)_>,\n",
       " <Movie id:0095765[http] title:_Cinema Paradiso (1988)_>,\n",
       " <Movie id:0405094[http] title:_The Lives of Others (2006)_>,\n",
       " <Movie id:0095327[http] title:_Grave of the Fireflies (1988)_>,\n",
       " <Movie id:0050825[http] title:_Paths of Glory (1957)_>,\n",
       " <Movie id:1853728[http] title:_Django Unchained (2012)_>,\n",
       " <Movie id:0081505[http] title:_The Shining (1980)_>,\n",
       " <Movie id:0910970[http] title:_WALL·E (2008)_>,\n",
       " <Movie id:0169547[http] title:_American Beauty (1999)_>,\n",
       " <Movie id:1345836[http] title:_The Dark Knight Rises (2012)_>,\n",
       " <Movie id:0119698[http] title:_Princess Mononoke (1997)_>,\n",
       " <Movie id:0090605[http] title:_Aliens (1986)_>,\n",
       " <Movie id:0364569[http] title:_Old Boy (2003)_>,\n",
       " <Movie id:0087843[http] title:_Once Upon a Time in America (1984)_>,\n",
       " <Movie id:0051201[http] title:_Witness for the Prosecution (1957)_>,\n",
       " <Movie id:0082096[http] title:_Das Boot (1981)_>,\n",
       " <Movie id:0033467[http] title:_Citizen Kane (1941)_>,\n",
       " <Movie id:0053125[http] title:_North by Northwest (1959)_>,\n",
       " <Movie id:0052357[http] title:_Vertigo (1958)_>,\n",
       " <Movie id:0086190[http] title:_Star Wars: Episode VI - Return of the Jedi (1983)_>,\n",
       " <Movie id:0105236[http] title:_Reservoir Dogs (1992)_>,\n",
       " <Movie id:0112573[http] title:_Braveheart (1995)_>,\n",
       " <Movie id:0022100[http] title:_M (1931)_>,\n",
       " <Movie id:0180093[http] title:_Requiem for a Dream (2000)_>,\n",
       " <Movie id:5074352[http] title:_Dangal (2016)_>,\n",
       " <Movie id:0211915[http] title:_Amélie (2001)_>,\n",
       " <Movie id:0066921[http] title:_A Clockwork Orange (1971)_>,\n",
       " <Movie id:0986264[http] title:_Like Stars on Earth (2007)_>,\n",
       " <Movie id:0056172[http] title:_Lawrence of Arabia (1962)_>,\n",
       " <Movie id:0075314[http] title:_Taxi Driver (1976)_>,\n",
       " <Movie id:0036775[http] title:_Double Indemnity (1944)_>,\n",
       " <Movie id:0338013[http] title:_Eternal Sunshine of the Spotless Mind (2004)_>,\n",
       " <Movie id:0086879[http] title:_Amadeus (1984)_>,\n",
       " <Movie id:0056592[http] title:_To Kill a Mockingbird (1962)_>,\n",
       " <Movie id:0435761[http] title:_Toy Story 3 (2010)_>,\n",
       " <Movie id:0093058[http] title:_Full Metal Jacket (1987)_>,\n",
       " <Movie id:0062622[http] title:_2001: A Space Odyssey (1968)_>,\n",
       " <Movie id:0045152[http] title:_Singin' in the Rain (1952)_>,\n",
       " <Movie id:0070735[http] title:_The Sting (1973)_>,\n",
       " <Movie id:0114709[http] title:_Toy Story (1995)_>,\n",
       " <Movie id:0040522[http] title:_Bicycle Thieves (1948)_>,\n",
       " <Movie id:0012349[http] title:_The Kid (1921)_>,\n",
       " <Movie id:0361748[http] title:_Inglourious Basterds (2009)_>,\n",
       " <Movie id:0208092[http] title:_Snatch (2000)_>,\n",
       " <Movie id:1187043[http] title:_3 Idiots (2009)_>,\n",
       " <Movie id:5311514[http] title:_Your name (2016)_>,\n",
       " <Movie id:0071853[http] title:_Monty Python and the Holy Grail (1975)_>,\n",
       " <Movie id:0119488[http] title:_L.A. Confidential (1997)_>,\n",
       " <Movie id:0476735[http] title:_Mi padre y mi hijo (2005)_>,\n",
       " <Movie id:0059578[http] title:_For a Few Dollars More (1965)_>,\n",
       " <Movie id:0086250[http] title:_Scarface (1983)_>,\n",
       " <Movie id:2106476[http] title:_The Hunt (2012)_>,\n",
       " <Movie id:0119217[http] title:_Good Will Hunting (1997)_>,\n",
       " <Movie id:0053604[http] title:_The Apartment (1960)_>,\n",
       " <Movie id:0042876[http] title:_Rashomon (1950)_>,\n",
       " <Movie id:1832382[http] title:_A Separation (2011)_>,\n",
       " <Movie id:0017136[http] title:_Metrópolis (1927)_>,\n",
       " <Movie id:0097576[http] title:_Indiana Jones and the Last Crusade (1989)_>,\n",
       " <Movie id:0042192[http] title:_All About Eve (1950)_>,\n",
       " <Movie id:0055630[http] title:_Yojimbo (1961)_>,\n",
       " <Movie id:0372784[http] title:_Batman Begins (2005)_>,\n",
       " <Movie id:1049413[http] title:_Up (2009)_>,\n",
       " <Movie id:0053291[http] title:_Some Like It Hot (1959)_>,\n",
       " <Movie id:3315342[http] title:_Logan (2017)_>,\n",
       " <Movie id:0040897[http] title:_The Treasure of the Sierra Madre (1948)_>,\n",
       " <Movie id:0105695[http] title:_Unforgiven (1992)_>,\n",
       " <Movie id:0363163[http] title:_Downfall (2004)_>,\n",
       " <Movie id:0081398[http] title:_Raging Bull (1980)_>,\n",
       " <Movie id:0095016[http] title:_Die Hard (1988)_>,\n",
       " <Movie id:3783958[http] title:_La La Land (2016)_>,\n",
       " <Movie id:0041959[http] title:_The Third Man (1949)_>,\n",
       " <Movie id:0118849[http] title:_Children of Heaven (1997)_>,\n",
       " <Movie id:0113277[http] title:_Heat (1995)_>,\n",
       " <Movie id:0057115[http] title:_The Great Escape (1963)_>,\n",
       " <Movie id:0071315[http] title:_Chinatown (1974)_>,\n",
       " <Movie id:0044741[http] title:_Ikiru (1952)_>,\n",
       " <Movie id:0457430[http] title:_Pan's Labyrinth (2006)_>,\n",
       " <Movie id:0096283[http] title:_My Neighbor Totoro (1988)_>,\n",
       " <Movie id:2096673[http] title:_Inside Out (2015)_>,\n",
       " <Movie id:0089881[http] title:_Ran (1985)_>,\n",
       " <Movie id:0015864[http] title:_The Gold Rush (1925)_>,\n",
       " <Movie id:0047296[http] title:_On the Waterfront (1954)_>,\n",
       " <Movie id:1305806[http] title:_The Secret in Their Eyes (2009)_>,\n",
       " <Movie id:3170832[http] title:_La habitación (2015)_>,\n",
       " <Movie id:0050212[http] title:_The Bridge on the River Kwai (1957)_>,\n",
       " <Movie id:0083658[http] title:_Blade Runner (1982)_>,\n",
       " <Movie id:0347149[http] title:_Howl's Moving Castle (2004)_>,\n",
       " <Movie id:1255953[http] title:_Incendies (2010)_>,\n",
       " <Movie id:0055031[http] title:_Judgment at Nuremberg (1961)_>,\n",
       " <Movie id:0050976[http] title:_The Seventh Seal (1957)_>,\n",
       " <Movie id:0120735[http] title:_Lock, Stock and Two Smoking Barrels (1998)_>,\n",
       " <Movie id:0031679[http] title:_Mr. Smith Goes to Washington (1939)_>,\n",
       " <Movie id:0112641[http] title:_Casino (1995)_>,\n",
       " <Movie id:0060107[http] title:_Andrei Rublev (1966)_>,\n",
       " <Movie id:0268978[http] title:_A Beautiful Mind (2001)_>,\n",
       " <Movie id:0080678[http] title:_The Elephant Man (1980)_>,\n",
       " <Movie id:0050986[http] title:_Wild Strawberries (1957)_>,\n",
       " <Movie id:0434409[http] title:_V for Vendetta (2005)_>,\n",
       " <Movie id:0993846[http] title:_The Wolf of Wall Street (2013)_>,\n",
       " <Movie id:0017925[http] title:_The General (1926)_>,\n",
       " <Movie id:1291584[http] title:_Warrior (2011)_>,\n",
       " <Movie id:0116231[http] title:_The Bandit (1996)_>,\n",
       " <Movie id:0117951[http] title:_Trainspotting (1996)_>,\n",
       " <Movie id:0018455[http] title:_Sunrise (1927)_>,\n",
       " <Movie id:1205489[http] title:_Gran Torino (2008)_>,\n",
       " <Movie id:0046912[http] title:_Dial M for Murder (1954)_>,\n",
       " <Movie id:2119532[http] title:_Hasta el último hombre (2016)_>,\n",
       " <Movie id:0077416[http] title:_The Deer Hunter (1978)_>,\n",
       " <Movie id:0118715[http] title:_The Big Lebowski (1998)_>,\n",
       " <Movie id:0116282[http] title:_Fargo (1996)_>,\n",
       " <Movie id:0031381[http] title:_Gone with the Wind (1939)_>,\n",
       " <Movie id:0167404[http] title:_The Sixth Sense (1999)_>,\n",
       " <Movie id:0084787[http] title:_The Thing (1982)_>,\n",
       " <Movie id:0046438[http] title:_Tokyo Story (1953)_>,\n",
       " <Movie id:0266543[http] title:_Finding Nemo (2003)_>,\n",
       " <Movie id:0405508[http] title:_Rang De Basanti (2006)_>,\n",
       " <Movie id:0477348[http] title:_No Country for Old Men (2007)_>,\n",
       " <Movie id:0019254[http] title:_The Passion of Joan of Arc (1928)_>,\n",
       " <Movie id:1280558[http] title:_A Wednesday (2008)_>,\n",
       " <Movie id:0061512[http] title:_Cool Hand Luke (1967)_>,\n",
       " <Movie id:0032976[http] title:_Rebecca (1940)_>,\n",
       " <Movie id:0892769[http] title:_How to Train Your Dragon (2010)_>,\n",
       " <Movie id:0469494[http] title:_There Will Be Blood (2007)_>,\n",
       " <Movie id:0266697[http] title:_Kill Bill: Vol. 1 (2003)_>,\n",
       " <Movie id:0091251[http] title:_Come and See (1985)_>,\n",
       " <Movie id:0978762[http] title:_Mary and Max (2009)_>,\n",
       " <Movie id:0758758[http] title:_Into the Wild (2007)_>,\n",
       " <Movie id:2267998[http] title:_Gone Girl (2014)_>,\n",
       " <Movie id:0079470[http] title:_Life of Brian (1979)_>,\n",
       " <Movie id:0025316[http] title:_It Happened One Night (1934)_>,\n",
       " <Movie id:1130884[http] title:_Shutter Island (2010)_>,\n",
       " <Movie id:0091763[http] title:_Platoon (1986)_>,\n",
       " <Movie id:0395169[http] title:_Hotel Rwanda (2004)_>,\n",
       " <Movie id:1979320[http] title:_Rush (2013)_>,\n",
       " <Movie id:3011894[http] title:_Relatos salvajes (2014)_>,\n",
       " <Movie id:0074958[http] title:_Network (1976)_>,\n",
       " <Movie id:0046268[http] title:_The Wages of Fear (1953)_>,\n",
       " <Movie id:0107207[http] title:_En el nombre del padre (1993)_>,\n",
       " <Movie id:0092005[http] title:_Stand by Me (1986)_>,\n",
       " <Movie id:0053198[http] title:_The 400 Blows (1959)_>,\n",
       " <Movie id:1895587[http] title:_Spotlight (2015)_>,\n",
       " <Movie id:2278388[http] title:_The Grand Budapest Hotel (2014)_>,\n",
       " <Movie id:1392190[http] title:_Mad Max: Fury Road (2015)_>,\n",
       " <Movie id:2024544[http] title:_12 Years a Slave (2013)_>,\n",
       " <Movie id:0374887[http] title:_Munna Bhai M.B.B.S. (2003)_>,\n",
       " <Movie id:0052618[http] title:_Ben-Hur (1959)_>,\n",
       " <Movie id:0060827[http] title:_Persona (1966)_>,\n",
       " <Movie id:0064115[http] title:_Butch Cassidy and the Sundance Kid (1969)_>,\n",
       " <Movie id:0405159[http] title:_Million Dollar Baby (2004)_>,\n",
       " <Movie id:0245712[http] title:_Amores Perros (2000)_>,\n",
       " <Movie id:0107290[http] title:_Jurassic Park (1993)_>,\n",
       " <Movie id:0353969[http] title:_Memories of Murder (2003)_>,\n",
       " <Movie id:0033870[http] title:_The Maltese Falcon (1941)_>,\n",
       " <Movie id:0050783[http] title:_The Nights of Cabiria (1957)_>,\n",
       " <Movie id:0079944[http] title:_Stalker (1979)_>,\n",
       " <Movie id:0093779[http] title:_The Princess Bride (1987)_>,\n",
       " <Movie id:0120382[http] title:_The Truman Show (1998)_>,\n",
       " <Movie id:1028532[http] title:_Hachi: A Dog's Tale (2009)_>,\n",
       " <Movie id:0087544[http] title:_Nausicaä of the Valley of the Wind (1984)_>,\n",
       " <Movie id:0073707[http] title:_Sholay (1975)_>,\n",
       " <Movie id:2488496[http] title:_Star Wars: The Force Awakens (2015)_>,\n",
       " <Movie id:0112471[http] title:_Before Sunrise (1995)_>,\n",
       " <Movie id:0242519[http] title:_Hera Pheri (2000)_>,\n",
       " <Movie id:0032551[http] title:_The Grapes of Wrath (1940)_>,\n",
       " <Movie id:1201607[http] title:_Harry Potter and the Deathly Hallows: Part 2 (2011)_>,\n",
       " <Movie id:0075148[http] title:_Rocky (1976)_>,\n",
       " <Movie id:0052311[http] title:_Touch of Evil (1958)_>,\n",
       " <Movie id:1392214[http] title:_Prisoners (2013)_>,\n",
       " <Movie id:0083987[http] title:_Gandhi (1982)_>,\n",
       " <Movie id:0075686[http] title:_Annie Hall (1977)_>,\n",
       " <Movie id:0046911[http] title:_Diabolique (1955)_>,\n",
       " <Movie id:0246578[http] title:_Donnie Darko (2001)_>,\n",
       " <Movie id:0198781[http] title:_Monsters, Inc. (2001)_>,\n",
       " <Movie id:0264464[http] title:_Catch Me If You Can (2002)_>,\n",
       " <Movie id:0440963[http] title:_The Bourne Ultimatum (2007)_>,\n",
       " <Movie id:0088247[http] title:_The Terminator (1984)_>,\n",
       " <Movie id:0032138[http] title:_The Wizard of Oz (1939)_>,\n",
       " <Movie id:0056801[http] title:_8½ (1963)_>,\n",
       " <Movie id:0107048[http] title:_Groundhog Day (1993)_>,\n",
       " <Movie id:3896198[http] title:_Guardians of the Galaxy Vol. 2 (2017)_>,\n",
       " <Movie id:0072684[http] title:_Barry Lyndon (1975)_>,\n",
       " <Movie id:0113247[http] title:_La Haine (1995)_>,\n",
       " <Movie id:0114746[http] title:_Twelve Monkeys (1995)_>,\n",
       " <Movie id:0073195[http] title:_Jaws (1975)_>,\n",
       " <Movie id:0338564[http] title:_Infernal Affairs (2002)_>,\n",
       " <Movie id:0036868[http] title:_The Best Years of Our Lives (1946)_>,\n",
       " <Movie id:0109117[http] title:_Andaz Apna Apna (1994)_>,\n",
       " <Movie id:0072890[http] title:_Dog Day Afternoon (1975)_>,\n",
       " <Movie id:0058946[http] title:_The Battle of Algiers (1966)_>,\n",
       " <Movie id:1454029[http] title:_The Help (2011)_>,\n",
       " <Movie id:1954470[http] title:_Gangs of Wasseypur (2012)_>,\n",
       " <Movie id:0101414[http] title:_Beauty and the Beast (1991)_>,\n",
       " <Movie id:0056687[http] title:_What Ever Happened to Baby Jane? (1962)_>,\n",
       " <Movie id:0118694[http] title:_In the Mood for Love (2000)_>,\n",
       " <Movie id:0325980[http] title:_Pirates of the Caribbean: The Curse of the Black Pearl (2003)_>,\n",
       " <Movie id:2948356[http] title:_Zootopia (2016)_>,\n",
       " <Movie id:0169102[http] title:_Lagaan: Érase una vez en la India (2001)_>]"
      ]
     },
     "execution_count": 7,
     "metadata": {},
     "output_type": "execute_result"
    }
   ],
   "source": [
    "from imdb import IMDb\n",
    "from datetime import datetime\n",
    "from elasticsearch import Elasticsearch\n",
    "es = Elasticsearch()\n",
    "\n",
    "ia = IMDb()\n",
    "listaPelis = ia.get_top250_movies()\n",
    "listaPelis"
   ]
  },
  {
   "cell_type": "markdown",
   "metadata": {},
   "source": [
    "# Sacar toda la info de una peli para poder meterla en un diccionario y usarla en ElasticSearch, indexandola (metodo todo en 1)\n",
    "Tarda bastante en ejecutarse (5 a 15 min), mete 250 peliculas en elastic\n",
    "\n",
    "quitado parametro de es.index (, id=i)\n",
    "\n",
    "## Coge el sumario de cada peli de la lista, y guarda la info en elasticSearch"
   ]
  },
  {
   "cell_type": "code",
   "execution_count": 8,
   "metadata": {
    "collapsed": false
   },
   "outputs": [],
   "source": [
    "for i in range(10,250):\n",
    "    peli = listaPelis[i]\n",
    "    peli2 = ia.get_movie(peli.movieID)\n",
    "    string = peli2.summary()\n",
    "    separado = string.split('\\n')\n",
    "    solucion = {}\n",
    "    for i in range(2,len(separado)):\n",
    "        sep2 = separado[i].split(':')\n",
    "        #Forma de evitar que haya fallo al pasar el split a diccionario\n",
    "        #Caso del fallo en los 2 cuadros de abajo\n",
    "        sep2[1:len(sep2)] = [''.join(sep2[1:len(sep2)])]\n",
    "        solucion.update(dict([sep2]))\n",
    "    es.index(index='prueba-index', doc_type='text', body=solucion)"
   ]
  },
  {
   "cell_type": "code",
   "execution_count": 12,
   "metadata": {
    "collapsed": false
   },
   "outputs": [
    {
     "data": {
      "text/plain": [
       "[u'Movie',\n",
       " u'=====',\n",
       " u'Title: Lagaan: Once Upon a Time in India (2001)',\n",
       " u'Genres: Adventure, Drama, Musical, Romance, Sport.',\n",
       " u'Director: Ashutosh Gowariker.',\n",
       " u'Writer: Ashutosh Gowariker, Ashutosh Gowariker, Kumar Dave, Sanjay Dayma, K.P. Saxena.',\n",
       " u'Cast: Aamir Khan (Bhuvan), Gracy Singh (Gauri), Rachel Shelley (Elizabeth Russell), Paul Blackthorne (Captain Andrew Russell), Suhasini Mulay (Yashodamai).',\n",
       " u'Runtime: 224.',\n",
       " u'Country: India.',\n",
       " u'Language: Hindi, English, Awadhi, Urdu.',\n",
       " u'Rating: 8.2 (80051 votes).',\n",
       " u\"Plot: This is the story about the resilience shown by the Indians when they were under the British Rule. They are already taxed to the bone by the British and their cronies, but when Jack Russell announces that he will double the Lagaan (tax) from all villagers, they decide to oppose it. Leading the villagers is a handsome young man named Bhuvan, who challenges them to a game of cricket, a game that is to be played by veteran British cricket players, versus villagers, including Bhuvan himself, who have never played this game before, and do not even know a bat from a piece of wood. As the challenge is accepted, the interest grows and attracts Indians from all over the region, as well as the British from all over the country - as everyone gathers to see the 'fair play' that the British will display against their counter-parts, who are aided by none other than the sister, Elizabeth, of Captain Rusell.\"]"
      ]
     },
     "execution_count": 12,
     "metadata": {},
     "output_type": "execute_result"
    }
   ],
   "source": [
    "separado"
   ]
  },
  {
   "cell_type": "code",
   "execution_count": 9,
   "metadata": {
    "collapsed": false
   },
   "outputs": [
    {
     "data": {
      "text/plain": [
       "u\" This is the story about the resilience shown by the Indians when they were under the British Rule. They are already taxed to the bone by the British and their cronies, but when Jack Russell announces that he will double the Lagaan (tax) from all villagers, they decide to oppose it. Leading the villagers is a handsome young man named Bhuvan, who challenges them to a game of cricket, a game that is to be played by veteran British cricket players, versus villagers, including Bhuvan himself, who have never played this game before, and do not even know a bat from a piece of wood. As the challenge is accepted, the interest grows and attracts Indians from all over the region, as well as the British from all over the country - as everyone gathers to see the 'fair play' that the British will display against their counter-parts, who are aided by none other than the sister, Elizabeth, of Captain Rusell.\""
      ]
     },
     "execution_count": 9,
     "metadata": {},
     "output_type": "execute_result"
    }
   ],
   "source": [
    "sep2[1]"
   ]
  },
  {
   "cell_type": "markdown",
   "metadata": {},
   "source": [
    "# Pruebas"
   ]
  },
  {
   "cell_type": "code",
   "execution_count": 21,
   "metadata": {
    "collapsed": false
   },
   "outputs": [
    {
     "name": "stdout",
     "output_type": "stream",
     "text": [
      "[[ u'Movie\\n=====\\nTitle: Tonto Kid, The (1934)\\nGenres: Action, Adventure, Crime, Drama, Romance, Western.\\nDirector: Harry L. Fraser.\\nWriter: Christopher Booth, Harry L. Fraser.\\nCast: Rex Bell (Skeets Slawson aka The Tonto Kid), Ruth Mix (Nancy Cahill), Buzz Barton (Wesley Fritch), Theodore Lorch (Lawyer Sam Creech), Joseph W. Girard (Rance Cartwright).\\nRuntime: 61.\\nCountry: USA.\\nLanguage: English.\\nRating: 5.8 (24 votes).\\nPlot: Lawyer Creech is after the ranch of the dying Cartwright. First he brings in Cahill to pose as the only living relative. Then when the Tonto Kid finds platinum on the ranch, Creech frames him for murder.']\n",
      " [ u'Movie\\n=====\\nTitle: Torres Vedras (1933)\\nGenres: Documentary.\\nCountry: Portugal.\\n']\n",
      " [ u'Movie\\n=====\\nTitle: Torres Vedras e o Carnaval de 1933 (1933)\\nGenres: Documentary.\\nCountry: Portugal.\\n']\n",
      " [ u'Movie\\n=====\\nTitle: Tractores Citroen no Ex\\xe9rcito Portugu\\xeas (1933)\\nGenres: Documentary.\\nDirector: Mota da Costa.\\nCountry: Portugal.\\nLanguage: Portuguese.\\n']\n",
      " [ u'Movie\\n=====\\nTitle: Hapax Legomena IV: Travelling Matte (1971)\\nDirector: Hollis Frampton.\\nCountry: USA.\\nRating: 6.7 (18 votes).\\n']\n",
      " [ u'Movie\\n=====\\nTitle: tribunal de las Aguas, El (1960)\\nGenres: Documentary, Short.\\nDirector: Alberto Carles Blat.\\nWriter: Alberto Carles Blat.\\nCast: Juan Mart\\xedn Navas.\\nRuntime: 10.\\nCountry: Spain.\\n']\n",
      " [ u'Movie\\n=====\\nTitle: True Story of Eskimo Nell, The (1975)\\nGenres: Comedy, Western.\\nDirector: Richard Franklin.\\nWriter: Richard Franklin, Alan Hopgood.\\nCast: Max Gillies (Deadeye Dick), Serge Lazareff (Mexico Pete), Butcher Vachon (The Alaskan Kid), Jerry Thomas (The Sprunker), Kurt Beimel (Waldo the Great).\\nRuntime: 103.\\nCountry: Australia.\\nLanguage: English.\\nRating: 4.9 (58 votes).\\n']\n",
      " [ u'Movie\\n=====\\nTitle: Two Idiots in Hollywood (1988)\\nGenres: Musical, Comedy.\\nDirector: Stephen Tobolowsky.\\nWriter: Stephen Tobolowsky, Stephen Tobolowsky.\\nCast: Jim McGrath (Murphy Wegg), Jeff Doucette (Taylor Dup), Cheryl Anderson (Marianne Plambo), Kat Sawyer, Lisa Robins (NBA Casting Secretary).\\nRuntime: 85.\\nCountry: USA.\\nLanguage: English.\\nRating: 6.6 (92 votes).\\nPlot: Idiots Taylor Dupp and Murphy Wegg flee their humdrum existence in Dayton, Ohio for the glamour of Hollywood. Murphy turns his complete lack of talent into a career as a television producer (\"The Pac-Man Show\"), while Taylor is unjustly accused of murder.']]\n"
     ]
    }
   ],
   "source": [
    "import pandas as pd\n",
    "lista=[]\n",
    "\n",
    "for i in range(0400000,0400010,1):\n",
    "    peli = ia.get_movie(i)\n",
    "    lista.append(peli.summary())\n",
    "\n",
    "    \n",
    "datos = pd.DataFrame(lista)\n",
    "print datos.values\n"
   ]
  },
  {
   "cell_type": "code",
   "execution_count": 22,
   "metadata": {
    "collapsed": false
   },
   "outputs": [
    {
     "name": "stdout",
     "output_type": "stream",
     "text": [
      "[[<Movie id:0002560[http] title:_The Vicissitudes of a Top Hat (1912)_>]\n",
      " [ {'titlesRefs': {}, 'data': {'plot': [u'A man throws away an old top hat and a tramp uses it to sole his boots.']}, 'charactersRefs': {}, 'namesRefs': {}}]\n",
      " [<Movie id:0002560[http] title:_The Vicissitudes of a Top Hat (1912)_>]\n",
      " [ {'titlesRefs': {}, 'data': {'plot': [u'A man throws away an old top hat and a tramp uses it to sole his boots.']}, 'charactersRefs': {}, 'namesRefs': {}}]\n",
      " [<Movie id:0002561[http] title:_Victim of Circumstances (1912)_>]\n",
      " [ {'titlesRefs': {}, 'data': {'plot': [u'Richard Worthington on the way to work sees a thug knock a man down and apparently rob him. Rushing to the aid of the victim he is arrested for the crime. He is tried before a jury, found guilty, and sentenced to the convict camp. While working in the turpentine woods, under charge of a keeper, he is seen by Meg of the Everglades, who shows sympathy for the poor convict. The following Sunday morning word is passed around between the convicts that an attempt will be made to escape. At the opportune time one of the keepers at the gate is assaulted and fifteen of the convicts, Worthington among the lot, escape to the Everglades. Worthington is successful in eluding the bloodhounds and reaches a lonely hut in the Everglades, which proves to be the home of Meg and her father, where he successfully hides for two weeks, resulting in a strong friendship springing up between the convict and Meg. Becoming careless, Worthington goes outside of the hut to enjoy a smoke. He is seen by some of the guards from the convict camp and is arrested. A few weeks later Red Lopers, for whose crime Worthington is arrested, confesses. Worthington is immediately discharged and exonerated from all blame. Although his good name is restored and he is back with his mother, Worthington finds something is missing. His happiness is not complete, and he soon realizes that unconsciously he has fallen in love with the girl of the Everglades, who showed such practical sympathy for the poor unfortunate. Leaving his home, he goes to the little cabin in the woods, where he tells Meg of his love, and they agree to start a new life together.']}, 'charactersRefs': {}, 'namesRefs': {}}]\n",
      " [<Movie id:0002560[http] title:_The Vicissitudes of a Top Hat (1912)_>]\n",
      " [ {'titlesRefs': {}, 'data': {'plot': [u'A man throws away an old top hat and a tramp uses it to sole his boots.']}, 'charactersRefs': {}, 'namesRefs': {}}]\n",
      " [<Movie id:0002561[http] title:_Victim of Circumstances (1912)_>]\n",
      " [ {'titlesRefs': {}, 'data': {'plot': [u'Richard Worthington on the way to work sees a thug knock a man down and apparently rob him. Rushing to the aid of the victim he is arrested for the crime. He is tried before a jury, found guilty, and sentenced to the convict camp. While working in the turpentine woods, under charge of a keeper, he is seen by Meg of the Everglades, who shows sympathy for the poor convict. The following Sunday morning word is passed around between the convicts that an attempt will be made to escape. At the opportune time one of the keepers at the gate is assaulted and fifteen of the convicts, Worthington among the lot, escape to the Everglades. Worthington is successful in eluding the bloodhounds and reaches a lonely hut in the Everglades, which proves to be the home of Meg and her father, where he successfully hides for two weeks, resulting in a strong friendship springing up between the convict and Meg. Becoming careless, Worthington goes outside of the hut to enjoy a smoke. He is seen by some of the guards from the convict camp and is arrested. A few weeks later Red Lopers, for whose crime Worthington is arrested, confesses. Worthington is immediately discharged and exonerated from all blame. Although his good name is restored and he is back with his mother, Worthington finds something is missing. His happiness is not complete, and he soon realizes that unconsciously he has fallen in love with the girl of the Everglades, who showed such practical sympathy for the poor unfortunate. Leaving his home, he goes to the little cabin in the woods, where he tells Meg of his love, and they agree to start a new life together.']}, 'charactersRefs': {}, 'namesRefs': {}}]\n",
      " [<Movie id:0002562[http] title:_The Victoria Cross (1912)_>]\n",
      " [ {'titlesRefs': {}, 'data': {'plot': [u'Just previous to the Charge of the Light Brigade, made famous by Tennyson, in the fall of 1854, young Lieutenant Cholmondeley, of the English Army, asks Colonel Carson for the hand of his daughter Ellen. The Colonel replies: \"When you have won your spurs, I will give my consent.\" Russia declares war against England and France and the Light Brigade is ordered to the front. After the departure of the Lieutenant and her father, Ellen decides to become a nurse under Florence Nightingale. She offers her services and though somewhat young, is accepted by Miss Nightingale. At her father\\'s encampment he recognizes Ellen as the nurses pass before him in review. At first he is displeased, but upon second thought is justly proud of her. She is first upon the battlefield to aid and comfort the wounded and it is there that her sweetheart, the Lieutenant, learns of her presence at the seat of action. During the charge of the Six Hundred, Lieutenant Cholmondeley saves the life of his Colonel, defending him against the combined attacks of three Cossacks, lifting one bodily above his head and casting him maimed and helpless to the ground. Ellen watches through her father\\'s field-glasses with palpitating heart the deeds of her sweetheart and the progress of the battle. After the war what is left of the few survivors of the Light Brigade are mustered before Queen Victoria and the young Lieutenant receives the Victoria Cross as a special mark of distinction for services rendered. The Colonel gives him his daughter Ellen, saying, \"He has fairly won her and his spurs.\"', u'Ellen Carson volunteers to serve with Florence Nightingale in the Crimean war and witnesses the charge of the Light Brigade.']}, 'charactersRefs': {}, 'namesRefs': {}}]]\n"
     ]
    }
   ],
   "source": [
    "import pandas as pd\n",
    "lista=[]\n",
    "datos = pd.DataFrame([])\n",
    "for i in range(0005000,0005003):\n",
    "        lista.append(ia.get_movie(i))\n",
    "        lista.append(ia.get_movie_plot(i))\n",
    "\n",
    "        datos = datos.append(lista)\n",
    "\n",
    "print datos.values"
   ]
  },
  {
   "cell_type": "markdown",
   "metadata": {},
   "source": [
    "# Elastic Seach (cabezera de ejemplo)"
   ]
  },
  {
   "cell_type": "code",
   "execution_count": 23,
   "metadata": {
    "collapsed": false
   },
   "outputs": [
    {
     "ename": "NotFoundError",
     "evalue": "TransportError(404, u'index_not_found_exception', u'no such index')",
     "output_type": "error",
     "traceback": [
      "\u001b[0;31m---------------------------------------------------------------------------\u001b[0m",
      "\u001b[0;31mNotFoundError\u001b[0m                             Traceback (most recent call last)",
      "\u001b[0;32m<ipython-input-23-b426fb989a9c>\u001b[0m in \u001b[0;36m<module>\u001b[0;34m()\u001b[0m\n\u001b[1;32m     11\u001b[0m '''\n\u001b[1;32m     12\u001b[0m \u001b[1;33m\u001b[0m\u001b[0m\n\u001b[0;32m---> 13\u001b[0;31m \u001b[0mres\u001b[0m \u001b[1;33m=\u001b[0m \u001b[0mes\u001b[0m\u001b[1;33m.\u001b[0m\u001b[0mget\u001b[0m\u001b[1;33m(\u001b[0m\u001b[0mindex\u001b[0m\u001b[1;33m=\u001b[0m\u001b[1;34m\"movies-index\"\u001b[0m\u001b[1;33m,\u001b[0m \u001b[0mdoc_type\u001b[0m\u001b[1;33m=\u001b[0m\u001b[1;34m'text'\u001b[0m\u001b[1;33m,\u001b[0m \u001b[0mid\u001b[0m\u001b[1;33m=\u001b[0m\u001b[1;36m6\u001b[0m\u001b[1;33m)\u001b[0m\u001b[1;33m\u001b[0m\u001b[0m\n\u001b[0m\u001b[1;32m     14\u001b[0m \u001b[1;32mprint\u001b[0m\u001b[1;33m(\u001b[0m\u001b[0mres\u001b[0m\u001b[1;33m[\u001b[0m\u001b[1;34m'_source'\u001b[0m\u001b[1;33m]\u001b[0m\u001b[1;33m)\u001b[0m\u001b[1;33m\u001b[0m\u001b[0m\n\u001b[1;32m     15\u001b[0m \u001b[1;33m\u001b[0m\u001b[0m\n",
      "\u001b[0;32mC:\\Users\\cr\\Anaconda2\\lib\\site-packages\\elasticsearch\\client\\utils.pyc\u001b[0m in \u001b[0;36m_wrapped\u001b[0;34m(*args, **kwargs)\u001b[0m\n\u001b[1;32m     71\u001b[0m                 \u001b[1;32mif\u001b[0m \u001b[0mp\u001b[0m \u001b[1;32min\u001b[0m \u001b[0mkwargs\u001b[0m\u001b[1;33m:\u001b[0m\u001b[1;33m\u001b[0m\u001b[0m\n\u001b[1;32m     72\u001b[0m                     \u001b[0mparams\u001b[0m\u001b[1;33m[\u001b[0m\u001b[0mp\u001b[0m\u001b[1;33m]\u001b[0m \u001b[1;33m=\u001b[0m \u001b[0mkwargs\u001b[0m\u001b[1;33m.\u001b[0m\u001b[0mpop\u001b[0m\u001b[1;33m(\u001b[0m\u001b[0mp\u001b[0m\u001b[1;33m)\u001b[0m\u001b[1;33m\u001b[0m\u001b[0m\n\u001b[0;32m---> 73\u001b[0;31m             \u001b[1;32mreturn\u001b[0m \u001b[0mfunc\u001b[0m\u001b[1;33m(\u001b[0m\u001b[1;33m*\u001b[0m\u001b[0margs\u001b[0m\u001b[1;33m,\u001b[0m \u001b[0mparams\u001b[0m\u001b[1;33m=\u001b[0m\u001b[0mparams\u001b[0m\u001b[1;33m,\u001b[0m \u001b[1;33m**\u001b[0m\u001b[0mkwargs\u001b[0m\u001b[1;33m)\u001b[0m\u001b[1;33m\u001b[0m\u001b[0m\n\u001b[0m\u001b[1;32m     74\u001b[0m         \u001b[1;32mreturn\u001b[0m \u001b[0m_wrapped\u001b[0m\u001b[1;33m\u001b[0m\u001b[0m\n\u001b[1;32m     75\u001b[0m     \u001b[1;32mreturn\u001b[0m \u001b[0m_wrapper\u001b[0m\u001b[1;33m\u001b[0m\u001b[0m\n",
      "\u001b[0;32mC:\\Users\\cr\\Anaconda2\\lib\\site-packages\\elasticsearch\\client\\__init__.pyc\u001b[0m in \u001b[0;36mget\u001b[0;34m(self, index, id, doc_type, params)\u001b[0m\n\u001b[1;32m    407\u001b[0m                 \u001b[1;32mraise\u001b[0m \u001b[0mValueError\u001b[0m\u001b[1;33m(\u001b[0m\u001b[1;34m\"Empty value passed for a required argument.\"\u001b[0m\u001b[1;33m)\u001b[0m\u001b[1;33m\u001b[0m\u001b[0m\n\u001b[1;32m    408\u001b[0m         return self.transport.perform_request('GET', _make_path(index,\n\u001b[0;32m--> 409\u001b[0;31m             doc_type, id), params=params)\n\u001b[0m\u001b[1;32m    410\u001b[0m \u001b[1;33m\u001b[0m\u001b[0m\n\u001b[1;32m    411\u001b[0m     @query_params('_source', '_source_exclude', '_source_include', 'parent',\n",
      "\u001b[0;32mC:\\Users\\cr\\Anaconda2\\lib\\site-packages\\elasticsearch\\transport.pyc\u001b[0m in \u001b[0;36mperform_request\u001b[0;34m(self, method, url, params, body)\u001b[0m\n\u001b[1;32m    310\u001b[0m \u001b[1;33m\u001b[0m\u001b[0m\n\u001b[1;32m    311\u001b[0m             \u001b[1;32mtry\u001b[0m\u001b[1;33m:\u001b[0m\u001b[1;33m\u001b[0m\u001b[0m\n\u001b[0;32m--> 312\u001b[0;31m                 \u001b[0mstatus\u001b[0m\u001b[1;33m,\u001b[0m \u001b[0mheaders\u001b[0m\u001b[1;33m,\u001b[0m \u001b[0mdata\u001b[0m \u001b[1;33m=\u001b[0m \u001b[0mconnection\u001b[0m\u001b[1;33m.\u001b[0m\u001b[0mperform_request\u001b[0m\u001b[1;33m(\u001b[0m\u001b[0mmethod\u001b[0m\u001b[1;33m,\u001b[0m \u001b[0murl\u001b[0m\u001b[1;33m,\u001b[0m \u001b[0mparams\u001b[0m\u001b[1;33m,\u001b[0m \u001b[0mbody\u001b[0m\u001b[1;33m,\u001b[0m \u001b[0mignore\u001b[0m\u001b[1;33m=\u001b[0m\u001b[0mignore\u001b[0m\u001b[1;33m,\u001b[0m \u001b[0mtimeout\u001b[0m\u001b[1;33m=\u001b[0m\u001b[0mtimeout\u001b[0m\u001b[1;33m)\u001b[0m\u001b[1;33m\u001b[0m\u001b[0m\n\u001b[0m\u001b[1;32m    313\u001b[0m \u001b[1;33m\u001b[0m\u001b[0m\n\u001b[1;32m    314\u001b[0m             \u001b[1;32mexcept\u001b[0m \u001b[0mTransportError\u001b[0m \u001b[1;32mas\u001b[0m \u001b[0me\u001b[0m\u001b[1;33m:\u001b[0m\u001b[1;33m\u001b[0m\u001b[0m\n",
      "\u001b[0;32mC:\\Users\\cr\\Anaconda2\\lib\\site-packages\\elasticsearch\\connection\\http_urllib3.pyc\u001b[0m in \u001b[0;36mperform_request\u001b[0;34m(self, method, url, params, body, timeout, ignore)\u001b[0m\n\u001b[1;32m    126\u001b[0m         \u001b[1;32mif\u001b[0m \u001b[1;32mnot\u001b[0m \u001b[1;33m(\u001b[0m\u001b[1;36m200\u001b[0m \u001b[1;33m<=\u001b[0m \u001b[0mresponse\u001b[0m\u001b[1;33m.\u001b[0m\u001b[0mstatus\u001b[0m \u001b[1;33m<\u001b[0m \u001b[1;36m300\u001b[0m\u001b[1;33m)\u001b[0m \u001b[1;32mand\u001b[0m \u001b[0mresponse\u001b[0m\u001b[1;33m.\u001b[0m\u001b[0mstatus\u001b[0m \u001b[1;32mnot\u001b[0m \u001b[1;32min\u001b[0m \u001b[0mignore\u001b[0m\u001b[1;33m:\u001b[0m\u001b[1;33m\u001b[0m\u001b[0m\n\u001b[1;32m    127\u001b[0m             \u001b[0mself\u001b[0m\u001b[1;33m.\u001b[0m\u001b[0mlog_request_fail\u001b[0m\u001b[1;33m(\u001b[0m\u001b[0mmethod\u001b[0m\u001b[1;33m,\u001b[0m \u001b[0mfull_url\u001b[0m\u001b[1;33m,\u001b[0m \u001b[0murl\u001b[0m\u001b[1;33m,\u001b[0m \u001b[0mbody\u001b[0m\u001b[1;33m,\u001b[0m \u001b[0mduration\u001b[0m\u001b[1;33m,\u001b[0m \u001b[0mresponse\u001b[0m\u001b[1;33m.\u001b[0m\u001b[0mstatus\u001b[0m\u001b[1;33m,\u001b[0m \u001b[0mraw_data\u001b[0m\u001b[1;33m)\u001b[0m\u001b[1;33m\u001b[0m\u001b[0m\n\u001b[0;32m--> 128\u001b[0;31m             \u001b[0mself\u001b[0m\u001b[1;33m.\u001b[0m\u001b[0m_raise_error\u001b[0m\u001b[1;33m(\u001b[0m\u001b[0mresponse\u001b[0m\u001b[1;33m.\u001b[0m\u001b[0mstatus\u001b[0m\u001b[1;33m,\u001b[0m \u001b[0mraw_data\u001b[0m\u001b[1;33m)\u001b[0m\u001b[1;33m\u001b[0m\u001b[0m\n\u001b[0m\u001b[1;32m    129\u001b[0m \u001b[1;33m\u001b[0m\u001b[0m\n\u001b[1;32m    130\u001b[0m         self.log_request_success(method, full_url, url, body, response.status,\n",
      "\u001b[0;32mC:\\Users\\cr\\Anaconda2\\lib\\site-packages\\elasticsearch\\connection\\base.pyc\u001b[0m in \u001b[0;36m_raise_error\u001b[0;34m(self, status_code, raw_data)\u001b[0m\n\u001b[1;32m    123\u001b[0m             \u001b[0mlogger\u001b[0m\u001b[1;33m.\u001b[0m\u001b[0mwarning\u001b[0m\u001b[1;33m(\u001b[0m\u001b[1;34m'Undecodable raw error response from server: %s'\u001b[0m\u001b[1;33m,\u001b[0m \u001b[0merr\u001b[0m\u001b[1;33m)\u001b[0m\u001b[1;33m\u001b[0m\u001b[0m\n\u001b[1;32m    124\u001b[0m \u001b[1;33m\u001b[0m\u001b[0m\n\u001b[0;32m--> 125\u001b[0;31m         \u001b[1;32mraise\u001b[0m \u001b[0mHTTP_EXCEPTIONS\u001b[0m\u001b[1;33m.\u001b[0m\u001b[0mget\u001b[0m\u001b[1;33m(\u001b[0m\u001b[0mstatus_code\u001b[0m\u001b[1;33m,\u001b[0m \u001b[0mTransportError\u001b[0m\u001b[1;33m)\u001b[0m\u001b[1;33m(\u001b[0m\u001b[0mstatus_code\u001b[0m\u001b[1;33m,\u001b[0m \u001b[0merror_message\u001b[0m\u001b[1;33m,\u001b[0m \u001b[0madditional_info\u001b[0m\u001b[1;33m)\u001b[0m\u001b[1;33m\u001b[0m\u001b[0m\n\u001b[0m\u001b[1;32m    126\u001b[0m \u001b[1;33m\u001b[0m\u001b[0m\n\u001b[1;32m    127\u001b[0m \u001b[1;33m\u001b[0m\u001b[0m\n",
      "\u001b[0;31mNotFoundError\u001b[0m: TransportError(404, u'index_not_found_exception', u'no such index')"
     ]
    }
   ],
   "source": [
    "from datetime import datetime\n",
    "from elasticsearch import Elasticsearch\n",
    "es = Elasticsearch()\n",
    "'''\n",
    "doc = {\n",
    "    'prueba': 'Holi',\n",
    "    'text': 'A man throws away an old top hat and a tramp uses it to sole his boots.',\n",
    "}\n",
    "res = es.index(index=\"movies-index\", doc_type='text', id=1, body=doc)\n",
    "print(res['created'])\n",
    "'''\n",
    "\n",
    "res = es.get(index=\"movies-index\", doc_type='text', id=6)\n",
    "print(res['_source'])\n",
    "\n",
    "es.indices.refresh(index=\"movies-index\")\n",
    "\n",
    "res = es.search(index=\"movies-index\", body={\"query\": {\"match_all\": {}}})\n",
    "print(\"Got %d Hits:\" % res['hits']['total'])\n",
    "for hit in res['hits']['hits']:\n",
    "    print(\"%(text)s\" % hit[\"_source\"])"
   ]
  },
  {
   "cell_type": "markdown",
   "metadata": {},
   "source": [
    "# Inicializacion real de Elastic Search (ejecutar)"
   ]
  },
  {
   "cell_type": "code",
   "execution_count": 7,
   "metadata": {
    "collapsed": false
   },
   "outputs": [
    {
     "name": "stdout",
     "output_type": "stream",
     "text": [
      "{\n",
      "  \"name\" : \"olxdfU7\",\n",
      "  \"cluster_name\" : \"elasticsearch\",\n",
      "  \"cluster_uuid\" : \"DQylXrS0QwCriq9AQDxkSQ\",\n",
      "  \"version\" : {\n",
      "    \"number\" : \"5.4.0\",\n",
      "    \"build_hash\" : \"780f8c4\",\n",
      "    \"build_date\" : \"2017-04-28T17:43:27.229Z\",\n",
      "    \"build_snapshot\" : false,\n",
      "    \"lucene_version\" : \"6.5.0\"\n",
      "  },\n",
      "  \"tagline\" : \"You Know, for Search\"\n",
      "}\n",
      "\n"
     ]
    }
   ],
   "source": [
    "# make sure ES is up and running\n",
    "import requests\n",
    "res = requests.get('http://localhost:9200')\n",
    "print(res.content)\n",
    "\n",
    "from elasticsearch import Elasticsearch\n",
    "es = Elasticsearch([{'host': 'localhost', 'port': 9200}])"
   ]
  },
  {
   "cell_type": "markdown",
   "metadata": {},
   "source": [
    "# Guardamos el top 250 dentro de elastic search (antiguo)"
   ]
  },
  {
   "cell_type": "code",
   "execution_count": 281,
   "metadata": {
    "collapsed": false
   },
   "outputs": [],
   "source": [
    "#Lista con el top 250 de peliculas\n",
    "top = ia.get_top250_movies()\n",
    "#Recorro la lista y saco los datos para indexarlos en elastic search, el id es el orden en la lista\n",
    "for i in range(0,250):\n",
    "    es.index(index='films-index', doc_type='text', id=i, body=top[i].data)\n"
   ]
  },
  {
   "cell_type": "markdown",
   "metadata": {},
   "source": [
    "# Buscamos los datos guardados (antiguo)"
   ]
  },
  {
   "cell_type": "code",
   "execution_count": 24,
   "metadata": {
    "collapsed": false
   },
   "outputs": [
    {
     "ename": "NotFoundError",
     "evalue": "TransportError(404, u'index_not_found_exception', u'no such index')",
     "output_type": "error",
     "traceback": [
      "\u001b[0;31m---------------------------------------------------------------------------\u001b[0m",
      "\u001b[0;31mNotFoundError\u001b[0m                             Traceback (most recent call last)",
      "\u001b[0;32m<ipython-input-24-716e325fcaba>\u001b[0m in \u001b[0;36m<module>\u001b[0;34m()\u001b[0m\n\u001b[0;32m----> 1\u001b[0;31m \u001b[0mres\u001b[0m \u001b[1;33m=\u001b[0m \u001b[0mes\u001b[0m\u001b[1;33m.\u001b[0m\u001b[0msearch\u001b[0m\u001b[1;33m(\u001b[0m\u001b[0mindex\u001b[0m\u001b[1;33m=\u001b[0m\u001b[1;34m\"films-index\"\u001b[0m\u001b[1;33m,\u001b[0m \u001b[0mbody\u001b[0m\u001b[1;33m=\u001b[0m\u001b[1;33m{\u001b[0m\u001b[1;34m\"query\"\u001b[0m\u001b[1;33m:\u001b[0m \u001b[1;33m{\u001b[0m\u001b[1;34m\"match_all\"\u001b[0m\u001b[1;33m:\u001b[0m \u001b[1;33m{\u001b[0m\u001b[1;33m}\u001b[0m\u001b[1;33m}\u001b[0m\u001b[1;33m}\u001b[0m\u001b[1;33m)\u001b[0m\u001b[1;33m\u001b[0m\u001b[0m\n\u001b[0m\u001b[1;32m      2\u001b[0m \u001b[1;32mprint\u001b[0m\u001b[1;33m(\u001b[0m\u001b[1;34m\"Got %d Hits:\"\u001b[0m \u001b[1;33m%\u001b[0m \u001b[0mres\u001b[0m\u001b[1;33m[\u001b[0m\u001b[1;34m'hits'\u001b[0m\u001b[1;33m]\u001b[0m\u001b[1;33m[\u001b[0m\u001b[1;34m'total'\u001b[0m\u001b[1;33m]\u001b[0m\u001b[1;33m)\u001b[0m\u001b[1;33m\u001b[0m\u001b[0m\n\u001b[1;32m      3\u001b[0m \u001b[1;31m#Modificar para que funcione\u001b[0m\u001b[1;33m\u001b[0m\u001b[1;33m\u001b[0m\u001b[0m\n\u001b[1;32m      4\u001b[0m \u001b[1;32mfor\u001b[0m \u001b[0mhit\u001b[0m \u001b[1;32min\u001b[0m \u001b[0mres\u001b[0m\u001b[1;33m[\u001b[0m\u001b[1;34m'hits'\u001b[0m\u001b[1;33m]\u001b[0m\u001b[1;33m[\u001b[0m\u001b[1;34m'hits'\u001b[0m\u001b[1;33m]\u001b[0m\u001b[1;33m:\u001b[0m\u001b[1;33m\u001b[0m\u001b[0m\n\u001b[1;32m      5\u001b[0m     \u001b[1;32mprint\u001b[0m\u001b[1;33m(\u001b[0m\u001b[1;34m\"%(kind)s %(title)s %(year)s %(rating)s\"\u001b[0m \u001b[1;33m%\u001b[0m \u001b[0mhit\u001b[0m\u001b[1;33m[\u001b[0m\u001b[1;34m\"_source\"\u001b[0m\u001b[1;33m]\u001b[0m\u001b[1;33m)\u001b[0m\u001b[1;33m\u001b[0m\u001b[0m\n",
      "\u001b[0;32mC:\\Users\\cr\\Anaconda2\\lib\\site-packages\\elasticsearch\\client\\utils.pyc\u001b[0m in \u001b[0;36m_wrapped\u001b[0;34m(*args, **kwargs)\u001b[0m\n\u001b[1;32m     71\u001b[0m                 \u001b[1;32mif\u001b[0m \u001b[0mp\u001b[0m \u001b[1;32min\u001b[0m \u001b[0mkwargs\u001b[0m\u001b[1;33m:\u001b[0m\u001b[1;33m\u001b[0m\u001b[0m\n\u001b[1;32m     72\u001b[0m                     \u001b[0mparams\u001b[0m\u001b[1;33m[\u001b[0m\u001b[0mp\u001b[0m\u001b[1;33m]\u001b[0m \u001b[1;33m=\u001b[0m \u001b[0mkwargs\u001b[0m\u001b[1;33m.\u001b[0m\u001b[0mpop\u001b[0m\u001b[1;33m(\u001b[0m\u001b[0mp\u001b[0m\u001b[1;33m)\u001b[0m\u001b[1;33m\u001b[0m\u001b[0m\n\u001b[0;32m---> 73\u001b[0;31m             \u001b[1;32mreturn\u001b[0m \u001b[0mfunc\u001b[0m\u001b[1;33m(\u001b[0m\u001b[1;33m*\u001b[0m\u001b[0margs\u001b[0m\u001b[1;33m,\u001b[0m \u001b[0mparams\u001b[0m\u001b[1;33m=\u001b[0m\u001b[0mparams\u001b[0m\u001b[1;33m,\u001b[0m \u001b[1;33m**\u001b[0m\u001b[0mkwargs\u001b[0m\u001b[1;33m)\u001b[0m\u001b[1;33m\u001b[0m\u001b[0m\n\u001b[0m\u001b[1;32m     74\u001b[0m         \u001b[1;32mreturn\u001b[0m \u001b[0m_wrapped\u001b[0m\u001b[1;33m\u001b[0m\u001b[0m\n\u001b[1;32m     75\u001b[0m     \u001b[1;32mreturn\u001b[0m \u001b[0m_wrapper\u001b[0m\u001b[1;33m\u001b[0m\u001b[0m\n",
      "\u001b[0;32mC:\\Users\\cr\\Anaconda2\\lib\\site-packages\\elasticsearch\\client\\__init__.pyc\u001b[0m in \u001b[0;36msearch\u001b[0;34m(self, index, doc_type, body, params)\u001b[0m\n\u001b[1;32m    621\u001b[0m             \u001b[0mindex\u001b[0m \u001b[1;33m=\u001b[0m \u001b[1;34m'_all'\u001b[0m\u001b[1;33m\u001b[0m\u001b[0m\n\u001b[1;32m    622\u001b[0m         return self.transport.perform_request('GET', _make_path(index,\n\u001b[0;32m--> 623\u001b[0;31m             doc_type, '_search'), params=params, body=body)\n\u001b[0m\u001b[1;32m    624\u001b[0m \u001b[1;33m\u001b[0m\u001b[0m\n\u001b[1;32m    625\u001b[0m     @query_params('_source', '_source_exclude', '_source_include',\n",
      "\u001b[0;32mC:\\Users\\cr\\Anaconda2\\lib\\site-packages\\elasticsearch\\transport.pyc\u001b[0m in \u001b[0;36mperform_request\u001b[0;34m(self, method, url, params, body)\u001b[0m\n\u001b[1;32m    310\u001b[0m \u001b[1;33m\u001b[0m\u001b[0m\n\u001b[1;32m    311\u001b[0m             \u001b[1;32mtry\u001b[0m\u001b[1;33m:\u001b[0m\u001b[1;33m\u001b[0m\u001b[0m\n\u001b[0;32m--> 312\u001b[0;31m                 \u001b[0mstatus\u001b[0m\u001b[1;33m,\u001b[0m \u001b[0mheaders\u001b[0m\u001b[1;33m,\u001b[0m \u001b[0mdata\u001b[0m \u001b[1;33m=\u001b[0m \u001b[0mconnection\u001b[0m\u001b[1;33m.\u001b[0m\u001b[0mperform_request\u001b[0m\u001b[1;33m(\u001b[0m\u001b[0mmethod\u001b[0m\u001b[1;33m,\u001b[0m \u001b[0murl\u001b[0m\u001b[1;33m,\u001b[0m \u001b[0mparams\u001b[0m\u001b[1;33m,\u001b[0m \u001b[0mbody\u001b[0m\u001b[1;33m,\u001b[0m \u001b[0mignore\u001b[0m\u001b[1;33m=\u001b[0m\u001b[0mignore\u001b[0m\u001b[1;33m,\u001b[0m \u001b[0mtimeout\u001b[0m\u001b[1;33m=\u001b[0m\u001b[0mtimeout\u001b[0m\u001b[1;33m)\u001b[0m\u001b[1;33m\u001b[0m\u001b[0m\n\u001b[0m\u001b[1;32m    313\u001b[0m \u001b[1;33m\u001b[0m\u001b[0m\n\u001b[1;32m    314\u001b[0m             \u001b[1;32mexcept\u001b[0m \u001b[0mTransportError\u001b[0m \u001b[1;32mas\u001b[0m \u001b[0me\u001b[0m\u001b[1;33m:\u001b[0m\u001b[1;33m\u001b[0m\u001b[0m\n",
      "\u001b[0;32mC:\\Users\\cr\\Anaconda2\\lib\\site-packages\\elasticsearch\\connection\\http_urllib3.pyc\u001b[0m in \u001b[0;36mperform_request\u001b[0;34m(self, method, url, params, body, timeout, ignore)\u001b[0m\n\u001b[1;32m    126\u001b[0m         \u001b[1;32mif\u001b[0m \u001b[1;32mnot\u001b[0m \u001b[1;33m(\u001b[0m\u001b[1;36m200\u001b[0m \u001b[1;33m<=\u001b[0m \u001b[0mresponse\u001b[0m\u001b[1;33m.\u001b[0m\u001b[0mstatus\u001b[0m \u001b[1;33m<\u001b[0m \u001b[1;36m300\u001b[0m\u001b[1;33m)\u001b[0m \u001b[1;32mand\u001b[0m \u001b[0mresponse\u001b[0m\u001b[1;33m.\u001b[0m\u001b[0mstatus\u001b[0m \u001b[1;32mnot\u001b[0m \u001b[1;32min\u001b[0m \u001b[0mignore\u001b[0m\u001b[1;33m:\u001b[0m\u001b[1;33m\u001b[0m\u001b[0m\n\u001b[1;32m    127\u001b[0m             \u001b[0mself\u001b[0m\u001b[1;33m.\u001b[0m\u001b[0mlog_request_fail\u001b[0m\u001b[1;33m(\u001b[0m\u001b[0mmethod\u001b[0m\u001b[1;33m,\u001b[0m \u001b[0mfull_url\u001b[0m\u001b[1;33m,\u001b[0m \u001b[0murl\u001b[0m\u001b[1;33m,\u001b[0m \u001b[0mbody\u001b[0m\u001b[1;33m,\u001b[0m \u001b[0mduration\u001b[0m\u001b[1;33m,\u001b[0m \u001b[0mresponse\u001b[0m\u001b[1;33m.\u001b[0m\u001b[0mstatus\u001b[0m\u001b[1;33m,\u001b[0m \u001b[0mraw_data\u001b[0m\u001b[1;33m)\u001b[0m\u001b[1;33m\u001b[0m\u001b[0m\n\u001b[0;32m--> 128\u001b[0;31m             \u001b[0mself\u001b[0m\u001b[1;33m.\u001b[0m\u001b[0m_raise_error\u001b[0m\u001b[1;33m(\u001b[0m\u001b[0mresponse\u001b[0m\u001b[1;33m.\u001b[0m\u001b[0mstatus\u001b[0m\u001b[1;33m,\u001b[0m \u001b[0mraw_data\u001b[0m\u001b[1;33m)\u001b[0m\u001b[1;33m\u001b[0m\u001b[0m\n\u001b[0m\u001b[1;32m    129\u001b[0m \u001b[1;33m\u001b[0m\u001b[0m\n\u001b[1;32m    130\u001b[0m         self.log_request_success(method, full_url, url, body, response.status,\n",
      "\u001b[0;32mC:\\Users\\cr\\Anaconda2\\lib\\site-packages\\elasticsearch\\connection\\base.pyc\u001b[0m in \u001b[0;36m_raise_error\u001b[0;34m(self, status_code, raw_data)\u001b[0m\n\u001b[1;32m    123\u001b[0m             \u001b[0mlogger\u001b[0m\u001b[1;33m.\u001b[0m\u001b[0mwarning\u001b[0m\u001b[1;33m(\u001b[0m\u001b[1;34m'Undecodable raw error response from server: %s'\u001b[0m\u001b[1;33m,\u001b[0m \u001b[0merr\u001b[0m\u001b[1;33m)\u001b[0m\u001b[1;33m\u001b[0m\u001b[0m\n\u001b[1;32m    124\u001b[0m \u001b[1;33m\u001b[0m\u001b[0m\n\u001b[0;32m--> 125\u001b[0;31m         \u001b[1;32mraise\u001b[0m \u001b[0mHTTP_EXCEPTIONS\u001b[0m\u001b[1;33m.\u001b[0m\u001b[0mget\u001b[0m\u001b[1;33m(\u001b[0m\u001b[0mstatus_code\u001b[0m\u001b[1;33m,\u001b[0m \u001b[0mTransportError\u001b[0m\u001b[1;33m)\u001b[0m\u001b[1;33m(\u001b[0m\u001b[0mstatus_code\u001b[0m\u001b[1;33m,\u001b[0m \u001b[0merror_message\u001b[0m\u001b[1;33m,\u001b[0m \u001b[0madditional_info\u001b[0m\u001b[1;33m)\u001b[0m\u001b[1;33m\u001b[0m\u001b[0m\n\u001b[0m\u001b[1;32m    126\u001b[0m \u001b[1;33m\u001b[0m\u001b[0m\n\u001b[1;32m    127\u001b[0m \u001b[1;33m\u001b[0m\u001b[0m\n",
      "\u001b[0;31mNotFoundError\u001b[0m: TransportError(404, u'index_not_found_exception', u'no such index')"
     ]
    }
   ],
   "source": [
    "res = es.search(index=\"films-index\", body={\"query\": {\"match_all\": {}}})\n",
    "print(\"Got %d Hits:\" % res['hits']['total'])\n",
    "#Modificar para que funcione\n",
    "for hit in res['hits']['hits']:\n",
    "    print(\"%(kind)s %(title)s %(year)s %(rating)s\" % hit[\"_source\"])"
   ]
  },
  {
   "cell_type": "markdown",
   "metadata": {},
   "source": [
    "# Sacar los hits e info de unos cuantos de ellos"
   ]
  },
  {
   "cell_type": "code",
   "execution_count": 28,
   "metadata": {
    "collapsed": false
   },
   "outputs": [
    {
     "name": "stdout",
     "output_type": "stream",
     "text": [
      "Got 250 Hits:\n",
      " Leben der Anderen, Das (2006)  Drama, Thriller.  Florian Henckel von Donnersmarck.  Martina Gedeck (Christa-Maria Sieland), Ulrich Mühe (Hauptmann Gerd Wiesler), Sebastian Koch (Georg Dreyman), Ulrich Tukur (Oberstleutnant Anton Grubitz), Thomas Thieme (Minister Bruno Hempf).  Florian Henckel von Donnersmarck.  Germany.  German.  8.5 (278124 votes).  Gerd Wiesler is an officer with the Stasi, the East German secret police. The film begins in 1984 when Wiesler attends a play written by Georg Dreyman, who is considered by many to be the ultimate example of the loyal citizen. Wiesler has a gut feeling that Dreyman can't be as ideal as he seems, and believes surveillance is called for. The Minister of Culture agrees but only later does Wiesler learn that the Minister sees Dreyman as a rival and lusts after his partner Christa-Maria. The more time he spends listening in on them, the more he comes to care about them. The once rigid Stasi officer begins to intervene in their lives, in a positive way, protecting them whenever possible. Eventually, Wiesler's activities catch up to him and while there is no proof of wrongdoing, he finds himself in menial jobs - until the unbelievable happens.\n",
      " Nuovo Cinema Paradiso (1988)  Drama.  Giuseppe Tornatore.  Antonella Attili (Maria Di Vita - Younger), Enzo Cannavale (Spaccafico), Isa Danieli (Anna), Leo Gullotta (Usher), Marco Leonardi (Salvatore 'Totò' Di Vita - Teenager).  Giuseppe Tornatore, Giuseppe Tornatore, Vanna Paoli, Richard Epcar.  Italy, France.  Italian.  8.5 (165897 votes).  A boy who grew up in a native Sicilian Village returns home as a famous director after receiving news about the death of an old friend. Told in a flashback, Salvatore reminiscences about his childhood and his relationship with Alfredo, a projectionist at Cinema Paradiso. Under the fatherly influence of Alfredo, Salvatore fell in love with film making, with the duo spending many hours discussing about films and Alfredo painstakingly teaching Salvatore the skills that became a stepping stone for the young boy into the world of film making. The film brings the audience through the changes in cinema and the dying trade of traditional film making, editing and screening. It also explores a young boy's dream of leaving his little town to foray into the world outside.\n",
      " Shichinin no samurai (1954)  Adventure, Drama.  Akira Kurosawa.  Toshirô Mifune (Kikuchiyo), Takashi Shimura (Kambei Shimada), Keiko Tsushima (Shino), Yukiko Shimazaki (Wife), Kamatari Fujiwara (Farmer Manzo).  Akira Kurosawa, Shinobu Hashimoto, Hideo Oguni.  Japan.  Japanese.  8.7 (244938 votes).  A veteran samurai, who has fallen on hard times, answers a village's request for protection from bandits. He gathers 6 other samurai to help him, and they teach the townspeople how to defend themselves, and they supply the samurai with three small meals a day. The film culminates in a giant battle when 40 bandits attack the village.\n",
      " Se7en (1995)  Crime, Drama, Mystery, Thriller.  David Fincher.  Morgan Freeman (Somerset), Andrew Kevin Walker (Dead Man at 1st Crime Scene), Kevin Spacey (John Doe), Daniel Zacapa (Detective Taylor), Brad Pitt (Mills).  Andrew Kevin Walker.  USA.  English.  8.6 (1103064 votes).  A film about two homicide detectives' (Morgan Freeman and (Brad Pitt desperate hunt for a serial killer who justifies his crimes as absolution for the world's ignorance of the Seven Deadly Sins. The movie takes us from the tortured remains of one victim to the next as the sociopathic \"John Doe\" (Kevin Spacey) sermonizes to Detectives Somerset and Mills -- one sin at a time. The sin of Gluttony comes first and the murderer's terrible capacity is graphically demonstrated in the dark and subdued tones characteristic of film noir. The seasoned and cultured but jaded Somerset researches the Seven Deadly Sins in an effort to understand the killer's modus operandi while the bright but green and impulsive Detective Mills (Pitt) scoffs at his efforts to get inside the mind of a killer...\n",
      " Paths of Glory (1957)  Drama, War.  Stanley Kubrick.  Kirk Douglas (Col. Dax), Ralph Meeker (Cpl. Philippe Paris), Adolphe Menjou (Gen. George Broulard), George Macready (Gen. Paul Mireau), Wayne Morris (Lt. Roget).  Stanley Kubrick, Calder Willingham, Jim Thompson, Humphrey Cobb.  USA.  English, German, Latin.  8.5 (130703 votes).  The futility and irony of the war in the trenches in WWI is shown as a unit commander in the French army must deal with the mutiny of his men and a glory-seeking general after part of his force falls back under fire in an impossible attack.\n",
      " Pulp Fiction (1994)  Crime, Drama.  Quentin Tarantino.  Tim Roth (Pumpkin), Amanda Plummer (Honey Bunny), Laura Lovelace (Waitress), John Travolta (Vincent Vega), Samuel L. Jackson (Jules Winnfield).  Quentin Tarantino, Roger Avary, Quentin Tarantino.  USA.  English, Spanish, French.  8.9 (1418706 votes).  Jules Winnfield (Samuel L. Jackson) and Vincent Vega (John Travolta) are two hit men who are out to retrieve a suitcase stolen from their employer, mob boss Marsellus Wallace (Ving Rhames). Wallace has also asked Vincent to take his wife Mia (Uma Thurman) out a few days later when Wallace himself will be out of town. Butch Coolidge (Bruce Willis) is an aging boxer who is paid by Wallace to lose his fight. The lives of these seemingly unrelated people are woven together comprising of a series of funny, bizarre and uncalled-for incidents.\n",
      " Django Unchained (2012)  Drama, Western.  Quentin Tarantino.  Jamie Foxx (Django), Christoph Waltz (Dr. King Schultz), Leonardo DiCaprio (Calvin Candie), Kerry Washington (Broomhilda von Shaft), Samuel L. Jackson (Stephen).  Quentin Tarantino.  USA.  English, German, French, Italian.  8.4 (1039218 votes).  A German dentist buys the freedom of a slave and trains him with the intent to make him his deputy bounty hunter. Instead, he is led to the site of the slave's wife who belongs to a ruthless plantation owner.\n",
      " Pianist, The (2002)  Biography, Drama, War.  Roman Polanski.  Adrien Brody (Wladyslaw Szpilman), Emilia Fox (Dorota), Michal Zebrowski (Jurek), Ed Stoppard (Henryk), Maureen Lipman (Mother).  Ronald Harwood, Wladyslaw Szpilman.  France, Poland, Germany, UK.  English, German, Russian.  8.5 (541568 votes).  In this adaptation of the autobiography \"The Pianist The Extraordinary True Story of One Man's Survival in Warsaw, 1939-1945,\" Wladyslaw Szpilman, a Polish Jewish radio station pianist, sees Warsaw change gradually as World War II begins. Szpilman is forced into the Warsaw Ghetto, but is later separated from his family during Operation Reinhard. From this time until the concentration camp prisoners are released, Szpilman hides in various locations among the ruins of Warsaw.\n",
      " Star Wars (1977)  Action, Adventure, Fantasy, Sci-Fi.  George Lucas.  Mark Hamill (Luke Skywalker), Harrison Ford (Han Solo), Carrie Fisher (Princess Leia Organa), Peter Cushing (Grand Moff Tarkin), Alec Guinness (Ben Obi-Wan Kenobi).  George Lucas.  USA.  English.  8.7 (978421 votes).  The Imperial Forces, under orders from cruel Darth Vader, hold Princess Leia hostage in their efforts to quell the rebellion against the Galactic Empire. Luke Skywalker and Han Solo, captain of the Millennium Falcon, work together with the companionable droid duo R2-D2 and C-3PO to rescue the beautiful princess, help the Rebel Alliance and restore freedom and justice to the Galaxy.\n",
      " Back to the Future (1985)  Adventure, Comedy, Sci-Fi.  Robert Zemeckis.  Michael J. Fox (Marty McFly), Christopher Lloyd (Dr. Emmett Brown), Lea Thompson (Lorraine Baines), Crispin Glover (George McFly), Thomas F. Wilson (Biff Tannen).  Robert Zemeckis, Bob Gale.  USA.  English.  8.5 (792473 votes).  Marty McFly, a typical American teenager of the Eighties, is accidentally sent back to 1955 in a plutonium-powered DeLorean \"time machine\" invented by a slightly mad scientist. During his often hysterical, always amazing trip back in time, Marty must make certain his teenage parents-to-be meet and fall in love - so he can get back to the future.\n"
     ]
    }
   ],
   "source": [
    "res = es.search(index=\"prueba-index\", body={\"query\": {\"match_all\": {}}})\n",
    "print(\"Got %d Hits:\" % res['hits']['total'])\n",
    "\n",
    "for hit in res['hits']['hits']:\n",
    "    print(\"%(Title)s %(Genres)s %(Director)s %(Cast)s %(Writer)s %(Country)s %(Language)s %(Rating)s %(Plot)s\" % hit[\"_source\"])"
   ]
  },
  {
   "cell_type": "code",
   "execution_count": 27,
   "metadata": {
    "collapsed": false
   },
   "outputs": [
    {
     "name": "stdout",
     "output_type": "stream",
     "text": [
      "Got 250 Hits:\n",
      " Leben der Anderen, Das (2006)\n",
      " Nuovo Cinema Paradiso (1988)\n",
      " Shichinin no samurai (1954)\n",
      " Se7en (1995)\n",
      " Paths of Glory (1957)\n",
      " Pulp Fiction (1994)\n",
      " Django Unchained (2012)\n",
      " Pianist, The (2002)\n",
      " Star Wars (1977)\n",
      " Back to the Future (1985)\n"
     ]
    }
   ],
   "source": [
    "res = es.search(index=\"prueba-index\", body={\"query\": {\"match_all\": {}}})\n",
    "print(\"Got %d Hits:\" % res['hits']['total'])\n",
    "\n",
    "for hit in res['hits']['hits']:\n",
    "    print(\"%(Title)s\" % hit[\"_source\"])"
   ]
  },
  {
   "cell_type": "code",
   "execution_count": 26,
   "metadata": {
    "collapsed": false
   },
   "outputs": [
    {
     "data": {
      "text/plain": [
       "{u'_shards': {u'failed': 0, u'successful': 5, u'total': 5},\n",
       " u'hits': {u'hits': [{u'_id': u'AVxB2MAL6RBRcVMNlbJ2',\n",
       "    u'_index': u'prueba-index',\n",
       "    u'_score': 1.0,\n",
       "    u'_source': {u'Cast': u' Martina Gedeck (Christa-Maria Sieland), Ulrich M\\xfche (Hauptmann Gerd Wiesler), Sebastian Koch (Georg Dreyman), Ulrich Tukur (Oberstleutnant Anton Grubitz), Thomas Thieme (Minister Bruno Hempf).',\n",
       "     u'Country': u' Germany.',\n",
       "     u'Director': u' Florian Henckel von Donnersmarck.',\n",
       "     u'Genres': u' Drama, Thriller.',\n",
       "     u'Language': u' German.',\n",
       "     u'Plot': u\" Gerd Wiesler is an officer with the Stasi, the East German secret police. The film begins in 1984 when Wiesler attends a play written by Georg Dreyman, who is considered by many to be the ultimate example of the loyal citizen. Wiesler has a gut feeling that Dreyman can't be as ideal as he seems, and believes surveillance is called for. The Minister of Culture agrees but only later does Wiesler learn that the Minister sees Dreyman as a rival and lusts after his partner Christa-Maria. The more time he spends listening in on them, the more he comes to care about them. The once rigid Stasi officer begins to intervene in their lives, in a positive way, protecting them whenever possible. Eventually, Wiesler's activities catch up to him and while there is no proof of wrongdoing, he finds himself in menial jobs - until the unbelievable happens.\",\n",
       "     u'Rating': u' 8.5 (278124 votes).',\n",
       "     u'Runtime': u' 137.',\n",
       "     u'Title': u' Leben der Anderen, Das (2006)',\n",
       "     u'Writer': u' Florian Henckel von Donnersmarck.'},\n",
       "    u'_type': u'text'},\n",
       "   {u'_id': u'AVxB2Lcr6RBRcVMNlbJ1',\n",
       "    u'_index': u'prueba-index',\n",
       "    u'_score': 1.0,\n",
       "    u'_source': {u'Cast': u\" Antonella Attili (Maria Di Vita - Younger), Enzo Cannavale (Spaccafico), Isa Danieli (Anna), Leo Gullotta (Usher), Marco Leonardi (Salvatore 'Tot\\xf2' Di Vita - Teenager).\",\n",
       "     u'Country': u' Italy, France.',\n",
       "     u'Director': u' Giuseppe Tornatore.',\n",
       "     u'Genres': u' Drama.',\n",
       "     u'Language': u' Italian.',\n",
       "     u'Plot': u\" A boy who grew up in a native Sicilian Village returns home as a famous director after receiving news about the death of an old friend. Told in a flashback, Salvatore reminiscences about his childhood and his relationship with Alfredo, a projectionist at Cinema Paradiso. Under the fatherly influence of Alfredo, Salvatore fell in love with film making, with the duo spending many hours discussing about films and Alfredo painstakingly teaching Salvatore the skills that became a stepping stone for the young boy into the world of film making. The film brings the audience through the changes in cinema and the dying trade of traditional film making, editing and screening. It also explores a young boy's dream of leaving his little town to foray into the world outside.\",\n",
       "     u'Rating': u' 8.5 (165897 votes).',\n",
       "     u'Runtime': u' 155, Italy173(Europa Cinema Festival), 124(cut theatrical version).',\n",
       "     u'Title': u' Nuovo Cinema Paradiso (1988)',\n",
       "     u'Writer': u' Giuseppe Tornatore, Giuseppe Tornatore, Vanna Paoli, Richard Epcar.'},\n",
       "    u'_type': u'text'},\n",
       "   {u'_id': u'AVxB1wNE6RBRcVMNlbJR',\n",
       "    u'_index': u'prueba-index',\n",
       "    u'_score': 1.0,\n",
       "    u'_source': {u'Cast': u' Toshir\\xf4 Mifune (Kikuchiyo), Takashi Shimura (Kambei Shimada), Keiko Tsushima (Shino), Yukiko Shimazaki (Wife), Kamatari Fujiwara (Farmer Manzo).',\n",
       "     u'Country': u' Japan.',\n",
       "     u'Director': u' Akira Kurosawa.',\n",
       "     u'Genres': u' Adventure, Drama.',\n",
       "     u'Language': u' Japanese.',\n",
       "     u'Plot': u\" A veteran samurai, who has fallen on hard times, answers a village's request for protection from bandits. He gathers 6 other samurai to help him, and they teach the townspeople how to defend themselves, and they supply the samurai with three small meals a day. The film culminates in a giant battle when 40 bandits attack the village.\",\n",
       "     u'Rating': u' 8.7 (244938 votes).',\n",
       "     u'Runtime': u' 207, 160(international version), Argentina163, Sweden202(2002 re-release), UK150(original version), UK190(1991 re-release), USA158(original version) (cut), USA203(re-release), USA207(restored version), Spain202(DVD edition).',\n",
       "     u'Title': u' Shichinin no samurai (1954)',\n",
       "     u'Writer': u' Akira Kurosawa, Shinobu Hashimoto, Hideo Oguni.'},\n",
       "    u'_type': u'text'},\n",
       "   {u'_id': u'AVxB1yad6RBRcVMNlbJU',\n",
       "    u'_index': u'prueba-index',\n",
       "    u'_score': 1.0,\n",
       "    u'_source': {u'Cast': u' Morgan Freeman (Somerset), Andrew Kevin Walker (Dead Man at 1st Crime Scene), Kevin Spacey (John Doe), Daniel Zacapa (Detective Taylor), Brad Pitt (Mills).',\n",
       "     u'Country': u' USA.',\n",
       "     u'Director': u' David Fincher.',\n",
       "     u'Genres': u' Crime, Drama, Mystery, Thriller.',\n",
       "     u'Language': u' English.',\n",
       "     u'Plot': u' A film about two homicide detectives\\' (Morgan Freeman and (Brad Pitt desperate hunt for a serial killer who justifies his crimes as absolution for the world\\'s ignorance of the Seven Deadly Sins. The movie takes us from the tortured remains of one victim to the next as the sociopathic \"John Doe\" (Kevin Spacey) sermonizes to Detectives Somerset and Mills -- one sin at a time. The sin of Gluttony comes first and the murderer\\'s terrible capacity is graphically demonstrated in the dark and subdued tones characteristic of film noir. The seasoned and cultured but jaded Somerset researches the Seven Deadly Sins in an effort to understand the killer\\'s modus operandi while the bright but green and impulsive Detective Mills (Pitt) scoffs at his efforts to get inside the mind of a killer...',\n",
       "     u'Rating': u' 8.6 (1103064 votes).',\n",
       "     u'Runtime': u' 127.',\n",
       "     u'Title': u' Se7en (1995)',\n",
       "     u'Writer': u' Andrew Kevin Walker.'},\n",
       "    u'_type': u'text'},\n",
       "   {u'_id': u'AVxB2PyN6RBRcVMNlbJ4',\n",
       "    u'_index': u'prueba-index',\n",
       "    u'_score': 1.0,\n",
       "    u'_source': {u'Cast': u' Kirk Douglas (Col. Dax), Ralph Meeker (Cpl. Philippe Paris), Adolphe Menjou (Gen. George Broulard), George Macready (Gen. Paul Mireau), Wayne Morris (Lt. Roget).',\n",
       "     u'Country': u' USA.',\n",
       "     u'Director': u' Stanley Kubrick.',\n",
       "     u'Genres': u' Drama, War.',\n",
       "     u'Language': u' English, German, Latin.',\n",
       "     u'Plot': u' The futility and irony of the war in the trenches in WWI is shown as a unit commander in the French army must deal with the mutiny of his men and a glory-seeking general after part of his force falls back under fire in an impossible attack.',\n",
       "     u'Rating': u' 8.5 (130703 votes).',\n",
       "     u'Runtime': u' 88.',\n",
       "     u'Title': u' Paths of Glory (1957)',\n",
       "     u'Writer': u' Stanley Kubrick, Calder Willingham, Jim Thompson, Humphrey Cobb.'},\n",
       "    u'_type': u'text'},\n",
       "   {u'_id': u'AVxB1YlE6RBRcVMNlbJF',\n",
       "    u'_index': u'prueba-index',\n",
       "    u'_score': 1.0,\n",
       "    u'_source': {u'Cast': u' Tim Roth (Pumpkin), Amanda Plummer (Honey Bunny), Laura Lovelace (Waitress), John Travolta (Vincent Vega), Samuel L. Jackson (Jules Winnfield).',\n",
       "     u'Country': u' USA.',\n",
       "     u'Director': u' Quentin Tarantino.',\n",
       "     u'Genres': u' Crime, Drama.',\n",
       "     u'Language': u' English, Spanish, French.',\n",
       "     u'Plot': u' Jules Winnfield (Samuel L. Jackson) and Vincent Vega (John Travolta) are two hit men who are out to retrieve a suitcase stolen from their employer, mob boss Marsellus Wallace (Ving Rhames). Wallace has also asked Vincent to take his wife Mia (Uma Thurman) out a few days later when Wallace himself will be out of town. Butch Coolidge (Bruce Willis) is an aging boxer who is paid by Wallace to lose his fight. The lives of these seemingly unrelated people are woven together comprising of a series of funny, bizarre and uncalled-for incidents.',\n",
       "     u'Rating': u' 8.9 (1418706 votes).',\n",
       "     u'Runtime': u' 154, 178(original cut).',\n",
       "     u'Title': u' Pulp Fiction (1994)',\n",
       "     u'Writer': u' Quentin Tarantino, Roger Avary, Quentin Tarantino.'},\n",
       "    u'_type': u'text'},\n",
       "   {u'_id': u'AVxB2QwF6RBRcVMNlbJ5',\n",
       "    u'_index': u'prueba-index',\n",
       "    u'_score': 1.0,\n",
       "    u'_source': {u'Cast': u' Jamie Foxx (Django), Christoph Waltz (Dr. King Schultz), Leonardo DiCaprio (Calvin Candie), Kerry Washington (Broomhilda von Shaft), Samuel L. Jackson (Stephen).',\n",
       "     u'Country': u' USA.',\n",
       "     u'Director': u' Quentin Tarantino.',\n",
       "     u'Genres': u' Drama, Western.',\n",
       "     u'Language': u' English, German, French, Italian.',\n",
       "     u'Plot': u\" A German dentist buys the freedom of a slave and trains him with the intent to make him his deputy bounty hunter. Instead, he is led to the site of the slave's wife who belongs to a ruthless plantation owner.\",\n",
       "     u'Rating': u' 8.4 (1039218 votes).',\n",
       "     u'Runtime': u' 165.',\n",
       "     u'Title': u' Django Unchained (2012)',\n",
       "     u'Writer': u' Quentin Tarantino.'},\n",
       "    u'_type': u'text'},\n",
       "   {u'_id': u'AVxB2APi6RBRcVMNlbJn',\n",
       "    u'_index': u'prueba-index',\n",
       "    u'_score': 1.0,\n",
       "    u'_source': {u'Cast': u' Adrien Brody (Wladyslaw Szpilman), Emilia Fox (Dorota), Michal Zebrowski (Jurek), Ed Stoppard (Henryk), Maureen Lipman (Mother).',\n",
       "     u'Country': u' France, Poland, Germany, UK.',\n",
       "     u'Director': u' Roman Polanski.',\n",
       "     u'Genres': u' Biography, Drama, War.',\n",
       "     u'Language': u' English, German, Russian.',\n",
       "     u'Plot': u' In this adaptation of the autobiography \"The Pianist The Extraordinary True Story of One Man\\'s Survival in Warsaw, 1939-1945,\" Wladyslaw Szpilman, a Polish Jewish radio station pianist, sees Warsaw change gradually as World War II begins. Szpilman is forced into the Warsaw Ghetto, but is later separated from his family during Operation Reinhard. From this time until the concentration camp prisoners are released, Szpilman hides in various locations among the ruins of Warsaw.',\n",
       "     u'Rating': u' 8.5 (541568 votes).',\n",
       "     u'Runtime': u' 150.',\n",
       "     u'Title': u' Pianist, The (2002)',\n",
       "     u'Writer': u' Ronald Harwood, Wladyslaw Szpilman.'},\n",
       "    u'_type': u'text'},\n",
       "   {u'_id': u'AVxB1xNo6RBRcVMNlbJS',\n",
       "    u'_index': u'prueba-index',\n",
       "    u'_score': 1.0,\n",
       "    u'_source': {u'Cast': u' Mark Hamill (Luke Skywalker), Harrison Ford (Han Solo), Carrie Fisher (Princess Leia Organa), Peter Cushing (Grand Moff Tarkin), Alec Guinness (Ben Obi-Wan Kenobi).',\n",
       "     u'Country': u' USA.',\n",
       "     u'Director': u' George Lucas.',\n",
       "     u'Genres': u' Action, Adventure, Fantasy, Sci-Fi.',\n",
       "     u'Language': u' English.',\n",
       "     u'Plot': u' The Imperial Forces, under orders from cruel Darth Vader, hold Princess Leia hostage in their efforts to quell the rebellion against the Galactic Empire. Luke Skywalker and Han Solo, captain of the Millennium Falcon, work together with the companionable droid duo R2-D2 and C-3PO to rescue the beautiful princess, help the Rebel Alliance and restore freedom and justice to the Galaxy.',\n",
       "     u'Rating': u' 8.7 (978421 votes).',\n",
       "     u'Runtime': u' 121, 125(special edition).',\n",
       "     u'Title': u' Star Wars (1977)',\n",
       "     u'Writer': u' George Lucas.'},\n",
       "    u'_type': u'text'},\n",
       "   {u'_id': u'AVxB2DIf6RBRcVMNlbJq',\n",
       "    u'_index': u'prueba-index',\n",
       "    u'_score': 1.0,\n",
       "    u'_source': {u'Cast': u' Michael J. Fox (Marty McFly), Christopher Lloyd (Dr. Emmett Brown), Lea Thompson (Lorraine Baines), Crispin Glover (George McFly), Thomas F. Wilson (Biff Tannen).',\n",
       "     u'Country': u' USA.',\n",
       "     u'Director': u' Robert Zemeckis.',\n",
       "     u'Genres': u' Adventure, Comedy, Sci-Fi.',\n",
       "     u'Language': u' English.',\n",
       "     u'Plot': u' Marty McFly, a typical American teenager of the Eighties, is accidentally sent back to 1955 in a plutonium-powered DeLorean \"time machine\" invented by a slightly mad scientist. During his often hysterical, always amazing trip back in time, Marty must make certain his teenage parents-to-be meet and fall in love - so he can get back to the future.',\n",
       "     u'Rating': u' 8.5 (792473 votes).',\n",
       "     u'Runtime': u' 116.',\n",
       "     u'Title': u' Back to the Future (1985)',\n",
       "     u'Writer': u' Robert Zemeckis, Bob Gale.'},\n",
       "    u'_type': u'text'}],\n",
       "  u'max_score': 1.0,\n",
       "  u'total': 250},\n",
       " u'timed_out': False,\n",
       " u'took': 399}"
      ]
     },
     "execution_count": 26,
     "metadata": {},
     "output_type": "execute_result"
    }
   ],
   "source": [
    "res = es.search(index=\"prueba-index\", body={\"query\": {\"match_all\": {}}})\n",
    "res"
   ]
  },
  {
   "cell_type": "code",
   "execution_count": 56,
   "metadata": {
    "collapsed": false
   },
   "outputs": [
    {
     "ename": "SyntaxError",
     "evalue": "invalid syntax (<ipython-input-56-6969bc6a6e45>, line 12)",
     "output_type": "error",
     "traceback": [
      "\u001b[0;36m  File \u001b[0;32m\"<ipython-input-56-6969bc6a6e45>\"\u001b[0;36m, line \u001b[0;32m12\u001b[0m\n\u001b[0;31m    })\u001b[0m\n\u001b[0m    ^\u001b[0m\n\u001b[0;31mSyntaxError\u001b[0m\u001b[0;31m:\u001b[0m invalid syntax\n"
     ]
    }
   ],
   "source": [
    "res = es.search(index=\"prueba-index\", body={\n",
    "    \"query\": \n",
    "        {\"match\" : {'Director': 'Christopher Nolan'}\n",
    "    },\n",
    "    {\n",
    "        \"highlight\" : {\n",
    "            \"fields\" : {\n",
    "                \"Language\" : {}\n",
    "            }\n",
    "        }\n",
    "    }\n",
    "})\n",
    "res"
   ]
  },
  {
   "cell_type": "markdown",
   "metadata": {},
   "source": [
    "# Query sin fuzziness\n",
    "**No funciona si le quitas una letra, la query de abajo si al ser fuzzy**"
   ]
  },
  {
   "cell_type": "code",
   "execution_count": 57,
   "metadata": {
    "collapsed": false
   },
   "outputs": [
    {
     "name": "stdout",
     "output_type": "stream",
     "text": [
      "Got 0 Hits:\n"
     ]
    }
   ],
   "source": [
    "res = es.search(index=\"prueba-index\", body={\"query\": {\"match\" : {'Director': 'Christophe Nola'}}})\n",
    "print(\"Got %d Hits:\" % res['hits']['total'])\n",
    "for hit in res['hits']['hits']:\n",
    "    print(\"%(Title)s\" % hit[\"_source\"])"
   ]
  },
  {
   "cell_type": "markdown",
   "metadata": {},
   "source": [
    "# Query con fuzziness añadida"
   ]
  },
  {
   "cell_type": "code",
   "execution_count": 104,
   "metadata": {
    "collapsed": false
   },
   "outputs": [
    {
     "name": "stdout",
     "output_type": "stream",
     "text": [
      " Monsters, Inc. (2001)\n",
      " Into the Wild (2007)\n",
      " Some Like It Hot (1959)\n",
      " It Happened One Night (1934)\n",
      " Mou gaan dou (2002)\n",
      " Dr. Strangelove or How I Learned to Stop Worrying and Love the Bomb (1964)\n",
      " Per qualche dollaro in più (1965)\n",
      " Lion King, The (1994)\n",
      " sjunde inseglet, Det (1957)\n",
      " Faa yeung nin wa (2000)\n"
     ]
    }
   ],
   "source": [
    "bodyQuery = {\n",
    "    \"query\": {\n",
    "       \"multi_match\" : {\n",
    "            \"query\" : \"Int\",\n",
    "            \"fields\": [\"Plot\", \"Title\"],\n",
    "            \"fuzziness\": \"2\"\n",
    "        }\n",
    "    }\n",
    "}\n",
    "res = es.search(index=\"prueba-index\", body=bodyQuery)\n",
    "#print res\n",
    "#print(\"Got %d Hits:\" % res['hits']['total'])\n",
    "for hit in res['hits']['hits']:\n",
    "    print(\"%(Title)s\" % hit[\"_source\"])"
   ]
  },
  {
   "cell_type": "code",
   "execution_count": 102,
   "metadata": {
    "collapsed": false
   },
   "outputs": [
    {
     "name": "stdout",
     "output_type": "stream",
     "text": [
      " It's a Wonderful Life (1946)\n"
     ]
    }
   ],
   "source": [
    "bodyQuery = {\n",
    "    \"query\": {\n",
    "       \"regexp\":{\n",
    "            \"Title\": \"wonder.*\"\n",
    "        }\n",
    "    }\n",
    "}\n",
    "res = es.search(index=\"prueba-index\", body=bodyQuery)\n",
    "#print res\n",
    "#print(\"Got %d Hits:\" % res['hits']['total'])\n",
    "for hit in res['hits']['hits']:\n",
    "    print(\"%(Title)s\" % hit[\"_source\"])"
   ]
  },
  {
   "cell_type": "markdown",
   "metadata": {},
   "source": [
    "# Query 2 con highlight de distintos campos y la forma de mostrarlo"
   ]
  },
  {
   "cell_type": "code",
   "execution_count": 93,
   "metadata": {
    "collapsed": false
   },
   "outputs": [
    {
     "name": "stdout",
     "output_type": "stream",
     "text": [
      "Got 0 Hits:\n"
     ]
    }
   ],
   "source": [
    "bodyQuery2 = {\n",
    "    \"query\": {\n",
    "        \"match\" : {\n",
    "            \"Title\" : {\n",
    "                \n",
    "                \"query\" : \"wond\",\n",
    "                \"operator\" : \"and\",\n",
    "                \"zero_terms_query\": \"all\"\n",
    "            }\n",
    "        }\n",
    "    },\n",
    "    \"highlight\" : {\n",
    "        \"fields\" : {\n",
    "            \"Title\" : {},\n",
    "            \"Plot\" : {\"fragment_size\" : 150, \"number_of_fragments\" : 3}\n",
    "        },\n",
    "        #Permite el hightlight sobre campos que no se han hecho query\n",
    "        #como Plot en este ejemplo\n",
    "        \"require_field_match\" : False\n",
    "    }\n",
    "}\n",
    "res = es.search(index=\"prueba-index\", body=bodyQuery2)\n",
    "print(\"Got %d Hits:\" % res['hits']['total'])\n",
    "# Uso el [0] porque solo hay 1 hit, si hubiese mas, pues habria mas campos\n",
    "# de la lista, habria que usar el for de arriba para sacar el highlight de\n",
    "# cada uno de la lista\n",
    "#print res['hits']['hits'][0]['highlight']\n",
    "for hit in res['hits']['hits']:\n",
    "    print(hit)\n"
   ]
  },
  {
   "cell_type": "code",
   "execution_count": 114,
   "metadata": {
    "collapsed": false
   },
   "outputs": [
    {
     "name": "stdout",
     "output_type": "stream",
     "text": [
      "Got 18 Hits:\n"
     ]
    },
    {
     "ename": "IndexError",
     "evalue": "list index out of range",
     "output_type": "error",
     "traceback": [
      "\u001b[0;31m\u001b[0m",
      "\u001b[0;31mIndexError\u001b[0mTraceback (most recent call last)",
      "\u001b[0;32m<ipython-input-114-334dd3e62403>\u001b[0m in \u001b[0;36m<module>\u001b[0;34m()\u001b[0m\n\u001b[1;32m    136\u001b[0m \u001b[0;32mfor\u001b[0m \u001b[0mhit\u001b[0m \u001b[0;32min\u001b[0m \u001b[0mres\u001b[0m\u001b[0;34m[\u001b[0m\u001b[0;34m'hits'\u001b[0m\u001b[0;34m]\u001b[0m\u001b[0;34m[\u001b[0m\u001b[0;34m'hits'\u001b[0m\u001b[0;34m]\u001b[0m\u001b[0;34m:\u001b[0m\u001b[0;34m\u001b[0m\u001b[0m\n\u001b[1;32m    137\u001b[0m     \u001b[0mresultado\u001b[0m\u001b[0;34m.\u001b[0m\u001b[0mappend\u001b[0m\u001b[0;34m(\u001b[0m\u001b[0mhit\u001b[0m\u001b[0;34m)\u001b[0m\u001b[0;34m\u001b[0m\u001b[0m\n\u001b[0;32m--> 138\u001b[0;31m \u001b[0;32mprint\u001b[0m \u001b[0mresultado\u001b[0m\u001b[0;34m[\u001b[0m\u001b[0;36m10\u001b[0m\u001b[0;34m]\u001b[0m\u001b[0;34m[\u001b[0m\u001b[0;34m'_source'\u001b[0m\u001b[0;34m]\u001b[0m\u001b[0;34m[\u001b[0m\u001b[0;34m'Title'\u001b[0m\u001b[0;34m]\u001b[0m\u001b[0;34m\u001b[0m\u001b[0m\n\u001b[0m",
      "\u001b[0;31mIndexError\u001b[0m: list index out of range"
     ]
    }
   ],
   "source": [
    "\n",
    "bodyQuery2 = {\n",
    "    \"query\": {\n",
    "    \"bool\": {\n",
    "  \"should\": [\n",
    "     {   \"match\": {\n",
    "            \"Title\": {\n",
    "                \"query\": \"wonder\" + \".*\",\n",
    "                \"fuzziness\": \"AUTO\",\n",
    "                \"prefix_length\" : 1,\n",
    "                \"operator\": \"and\"\n",
    "\n",
    "            }\n",
    "        }},\n",
    "     {   \"match\": {\n",
    "            \"Plot\": {\n",
    "                    \"query\": \"wonder\" + \".*\",\n",
    "                    \"fuzziness\": 2,\n",
    "                    \"prefix_length\" : 1,\n",
    "                    \"operator\": \"and\"\n",
    "                }\n",
    "        }\n",
    "     },\n",
    "     {   \"match\": {\n",
    "            \"Genres\": {\n",
    "                \"query\": \"wonder\" + \".*\",\n",
    "                \"fuzziness\": \"AUTO\",\n",
    "                \"prefix_length\" : 1,\n",
    "                \"operator\": \"and\"\n",
    "\n",
    "            }\n",
    "        }},\n",
    "      {   \"match\": {\n",
    "            \"Director\": {\n",
    "                \"query\": \"wonder\" + \".*\",\n",
    "                \"fuzziness\": \"AUTO\",\n",
    "                \"prefix_length\" : 1,\n",
    "                \"operator\": \"and\"\n",
    "\n",
    "            }\n",
    "        }},\n",
    "       {   \"match\": {\n",
    "            \"Writer\": {\n",
    "                \"query\": \"wonder\" + \".*\",\n",
    "                \"fuzziness\": \"AUTO\",\n",
    "                \"prefix_length\" : 1,\n",
    "                \"operator\": \"and\"\n",
    "\n",
    "            }\n",
    "        }},\n",
    "       {   \"match\": {\n",
    "            \"Cast\": {\n",
    "                \"query\": \"wonder\" + \".*\",\n",
    "                \"fuzziness\": \"AUTO\",\n",
    "                \"prefix_length\" : 1,\n",
    "                \"operator\": \"and\"\n",
    "\n",
    "            }\n",
    "        }},\n",
    "        {   \"match\": {\n",
    "            \"Country\": {\n",
    "                \"query\": \"wonder\" + \".*\",\n",
    "                \"fuzziness\": \"AUTO\",\n",
    "                \"prefix_length\" : 1,\n",
    "                \"operator\": \"and\"\n",
    "\n",
    "            }\n",
    "        }},\n",
    "        {   \"match\": {\n",
    "            \"Language\": {\n",
    "                \"query\": \"wonder\" + \".*\",\n",
    "                \"fuzziness\": \"AUTO\",\n",
    "                \"prefix_length\" : 1,\n",
    "                \"operator\": \"and\"\n",
    "\n",
    "            }\n",
    "        }},\n",
    "        {   \"match\": {\n",
    "            \"Rating\": {\n",
    "                \"query\": \"wonder\" + \".*\",\n",
    "                \"fuzziness\": \"AUTO\",\n",
    "                \"prefix_length\" : 1,\n",
    "                \"operator\": \"and\"\n",
    "\n",
    "            }\n",
    "        }},\n",
    "\n",
    "     ]\n",
    "    }\n",
    "},\n",
    " \"highlight\": {\n",
    "        \"fields\": {\n",
    "            \"Title\": {},\n",
    "            \"Plot\": {},\n",
    "            \"Director\": {}\n",
    "        },\n",
    "        # Permite el hightlight sobre campos que no se han hecho query\n",
    "        # como Plot en este ejemplo\n",
    "        \"require_field_match\": False\n",
    "}\n",
    "}\n",
    "'''\n",
    "    \"query\": {\n",
    "        \"match\": {\n",
    "            \"Title\": {\n",
    "                \"query\": buscado,\n",
    "                \"fuzziness\": \"AUTO\",\n",
    "                \"boost\" :         2.0,\n",
    "                \"prefix_length\" : 1,\n",
    "                \"max_expansions\": 100,\n",
    "                #\"minimum_should_match\" : 10,\n",
    "\n",
    "                \"operator\": \"and\"\n",
    "            }\n",
    "\n",
    "        }\n",
    "    },\n",
    "    \"highlight\": {\n",
    "        \"fields\": {\n",
    "            \"Title\": {},\n",
    "            \"Plot\": {\"fragment_size\": 300, \"number_of_fragments\": 3}\n",
    "        },\n",
    "        # Permite el hightlight sobre campos que no se han hecho query\n",
    "        # como Plot en este ejemplo\n",
    "        \"require_field_match\": False\n",
    "    }\n",
    "'''\n",
    "res = es.search(index=\"prueba-index\", body= bodyQuery2)\n",
    "print(\"Got %d Hits:\" % res['hits']['total'])\n",
    "# Uso el [0] porque solo hay 1 hit, si hubiese mas, pues habria mas campos\n",
    "# de la lista, habria que usar el for de arriba para sacar el highlight de\n",
    "# cada uno de la lista\n",
    "# print res['hits']['hits'][0]['highlight']\n",
    "\n",
    "resultado = []\n",
    "for hit in res['hits']['hits']:\n",
    "    resultado.append(hit)\n",
    "print resultado[10]['_source']['Title']"
   ]
  },
  {
   "cell_type": "markdown",
   "metadata": {},
   "source": [
    "# Borrar datos"
   ]
  },
  {
   "cell_type": "code",
   "execution_count": 25,
   "metadata": {
    "collapsed": false
   },
   "outputs": [
    {
     "ename": "NotFoundError",
     "evalue": "TransportError(404, u'{\"found\":false,\"_index\":\"prueba-index\",\"_type\":\"text\",\"_id\":\"1\",\"_version\":1,\"result\":\"not_found\",\"_shards\":{\"total\":2,\"successful\":1,\"failed\":0}}')",
     "output_type": "error",
     "traceback": [
      "\u001b[0;31m---------------------------------------------------------------------------\u001b[0m",
      "\u001b[0;31mNotFoundError\u001b[0m                             Traceback (most recent call last)",
      "\u001b[0;32m<ipython-input-25-9a812aed628e>\u001b[0m in \u001b[0;36m<module>\u001b[0;34m()\u001b[0m\n\u001b[0;32m----> 1\u001b[0;31m \u001b[0mes\u001b[0m\u001b[1;33m.\u001b[0m\u001b[0mdelete\u001b[0m\u001b[1;33m(\u001b[0m\u001b[0mindex\u001b[0m\u001b[1;33m=\u001b[0m\u001b[1;34m'prueba-index'\u001b[0m\u001b[1;33m,\u001b[0m \u001b[0mdoc_type\u001b[0m\u001b[1;33m=\u001b[0m\u001b[1;34m'text'\u001b[0m\u001b[1;33m,\u001b[0m \u001b[0mid\u001b[0m\u001b[1;33m=\u001b[0m\u001b[1;36m1\u001b[0m\u001b[1;33m)\u001b[0m\u001b[1;33m\u001b[0m\u001b[0m\n\u001b[0m",
      "\u001b[0;32mC:\\Users\\cr\\Anaconda2\\lib\\site-packages\\elasticsearch\\client\\utils.pyc\u001b[0m in \u001b[0;36m_wrapped\u001b[0;34m(*args, **kwargs)\u001b[0m\n\u001b[1;32m     71\u001b[0m                 \u001b[1;32mif\u001b[0m \u001b[0mp\u001b[0m \u001b[1;32min\u001b[0m \u001b[0mkwargs\u001b[0m\u001b[1;33m:\u001b[0m\u001b[1;33m\u001b[0m\u001b[0m\n\u001b[1;32m     72\u001b[0m                     \u001b[0mparams\u001b[0m\u001b[1;33m[\u001b[0m\u001b[0mp\u001b[0m\u001b[1;33m]\u001b[0m \u001b[1;33m=\u001b[0m \u001b[0mkwargs\u001b[0m\u001b[1;33m.\u001b[0m\u001b[0mpop\u001b[0m\u001b[1;33m(\u001b[0m\u001b[0mp\u001b[0m\u001b[1;33m)\u001b[0m\u001b[1;33m\u001b[0m\u001b[0m\n\u001b[0;32m---> 73\u001b[0;31m             \u001b[1;32mreturn\u001b[0m \u001b[0mfunc\u001b[0m\u001b[1;33m(\u001b[0m\u001b[1;33m*\u001b[0m\u001b[0margs\u001b[0m\u001b[1;33m,\u001b[0m \u001b[0mparams\u001b[0m\u001b[1;33m=\u001b[0m\u001b[0mparams\u001b[0m\u001b[1;33m,\u001b[0m \u001b[1;33m**\u001b[0m\u001b[0mkwargs\u001b[0m\u001b[1;33m)\u001b[0m\u001b[1;33m\u001b[0m\u001b[0m\n\u001b[0m\u001b[1;32m     74\u001b[0m         \u001b[1;32mreturn\u001b[0m \u001b[0m_wrapped\u001b[0m\u001b[1;33m\u001b[0m\u001b[0m\n\u001b[1;32m     75\u001b[0m     \u001b[1;32mreturn\u001b[0m \u001b[0m_wrapper\u001b[0m\u001b[1;33m\u001b[0m\u001b[0m\n",
      "\u001b[0;32mC:\\Users\\cr\\Anaconda2\\lib\\site-packages\\elasticsearch\\client\\__init__.pyc\u001b[0m in \u001b[0;36mdelete\u001b[0;34m(self, index, doc_type, id, params)\u001b[0m\n\u001b[1;32m   1076\u001b[0m                 \u001b[1;32mraise\u001b[0m \u001b[0mValueError\u001b[0m\u001b[1;33m(\u001b[0m\u001b[1;34m\"Empty value passed for a required argument.\"\u001b[0m\u001b[1;33m)\u001b[0m\u001b[1;33m\u001b[0m\u001b[0m\n\u001b[1;32m   1077\u001b[0m         return self.transport.perform_request('DELETE', _make_path(index,\n\u001b[0;32m-> 1078\u001b[0;31m             doc_type, id), params=params)\n\u001b[0m\u001b[1;32m   1079\u001b[0m \u001b[1;33m\u001b[0m\u001b[0m\n\u001b[1;32m   1080\u001b[0m     @query_params('allow_no_indices', 'analyze_wildcard', 'analyzer',\n",
      "\u001b[0;32mC:\\Users\\cr\\Anaconda2\\lib\\site-packages\\elasticsearch\\transport.pyc\u001b[0m in \u001b[0;36mperform_request\u001b[0;34m(self, method, url, params, body)\u001b[0m\n\u001b[1;32m    310\u001b[0m \u001b[1;33m\u001b[0m\u001b[0m\n\u001b[1;32m    311\u001b[0m             \u001b[1;32mtry\u001b[0m\u001b[1;33m:\u001b[0m\u001b[1;33m\u001b[0m\u001b[0m\n\u001b[0;32m--> 312\u001b[0;31m                 \u001b[0mstatus\u001b[0m\u001b[1;33m,\u001b[0m \u001b[0mheaders\u001b[0m\u001b[1;33m,\u001b[0m \u001b[0mdata\u001b[0m \u001b[1;33m=\u001b[0m \u001b[0mconnection\u001b[0m\u001b[1;33m.\u001b[0m\u001b[0mperform_request\u001b[0m\u001b[1;33m(\u001b[0m\u001b[0mmethod\u001b[0m\u001b[1;33m,\u001b[0m \u001b[0murl\u001b[0m\u001b[1;33m,\u001b[0m \u001b[0mparams\u001b[0m\u001b[1;33m,\u001b[0m \u001b[0mbody\u001b[0m\u001b[1;33m,\u001b[0m \u001b[0mignore\u001b[0m\u001b[1;33m=\u001b[0m\u001b[0mignore\u001b[0m\u001b[1;33m,\u001b[0m \u001b[0mtimeout\u001b[0m\u001b[1;33m=\u001b[0m\u001b[0mtimeout\u001b[0m\u001b[1;33m)\u001b[0m\u001b[1;33m\u001b[0m\u001b[0m\n\u001b[0m\u001b[1;32m    313\u001b[0m \u001b[1;33m\u001b[0m\u001b[0m\n\u001b[1;32m    314\u001b[0m             \u001b[1;32mexcept\u001b[0m \u001b[0mTransportError\u001b[0m \u001b[1;32mas\u001b[0m \u001b[0me\u001b[0m\u001b[1;33m:\u001b[0m\u001b[1;33m\u001b[0m\u001b[0m\n",
      "\u001b[0;32mC:\\Users\\cr\\Anaconda2\\lib\\site-packages\\elasticsearch\\connection\\http_urllib3.pyc\u001b[0m in \u001b[0;36mperform_request\u001b[0;34m(self, method, url, params, body, timeout, ignore)\u001b[0m\n\u001b[1;32m    126\u001b[0m         \u001b[1;32mif\u001b[0m \u001b[1;32mnot\u001b[0m \u001b[1;33m(\u001b[0m\u001b[1;36m200\u001b[0m \u001b[1;33m<=\u001b[0m \u001b[0mresponse\u001b[0m\u001b[1;33m.\u001b[0m\u001b[0mstatus\u001b[0m \u001b[1;33m<\u001b[0m \u001b[1;36m300\u001b[0m\u001b[1;33m)\u001b[0m \u001b[1;32mand\u001b[0m \u001b[0mresponse\u001b[0m\u001b[1;33m.\u001b[0m\u001b[0mstatus\u001b[0m \u001b[1;32mnot\u001b[0m \u001b[1;32min\u001b[0m \u001b[0mignore\u001b[0m\u001b[1;33m:\u001b[0m\u001b[1;33m\u001b[0m\u001b[0m\n\u001b[1;32m    127\u001b[0m             \u001b[0mself\u001b[0m\u001b[1;33m.\u001b[0m\u001b[0mlog_request_fail\u001b[0m\u001b[1;33m(\u001b[0m\u001b[0mmethod\u001b[0m\u001b[1;33m,\u001b[0m \u001b[0mfull_url\u001b[0m\u001b[1;33m,\u001b[0m \u001b[0murl\u001b[0m\u001b[1;33m,\u001b[0m \u001b[0mbody\u001b[0m\u001b[1;33m,\u001b[0m \u001b[0mduration\u001b[0m\u001b[1;33m,\u001b[0m \u001b[0mresponse\u001b[0m\u001b[1;33m.\u001b[0m\u001b[0mstatus\u001b[0m\u001b[1;33m,\u001b[0m \u001b[0mraw_data\u001b[0m\u001b[1;33m)\u001b[0m\u001b[1;33m\u001b[0m\u001b[0m\n\u001b[0;32m--> 128\u001b[0;31m             \u001b[0mself\u001b[0m\u001b[1;33m.\u001b[0m\u001b[0m_raise_error\u001b[0m\u001b[1;33m(\u001b[0m\u001b[0mresponse\u001b[0m\u001b[1;33m.\u001b[0m\u001b[0mstatus\u001b[0m\u001b[1;33m,\u001b[0m \u001b[0mraw_data\u001b[0m\u001b[1;33m)\u001b[0m\u001b[1;33m\u001b[0m\u001b[0m\n\u001b[0m\u001b[1;32m    129\u001b[0m \u001b[1;33m\u001b[0m\u001b[0m\n\u001b[1;32m    130\u001b[0m         self.log_request_success(method, full_url, url, body, response.status,\n",
      "\u001b[0;32mC:\\Users\\cr\\Anaconda2\\lib\\site-packages\\elasticsearch\\connection\\base.pyc\u001b[0m in \u001b[0;36m_raise_error\u001b[0;34m(self, status_code, raw_data)\u001b[0m\n\u001b[1;32m    123\u001b[0m             \u001b[0mlogger\u001b[0m\u001b[1;33m.\u001b[0m\u001b[0mwarning\u001b[0m\u001b[1;33m(\u001b[0m\u001b[1;34m'Undecodable raw error response from server: %s'\u001b[0m\u001b[1;33m,\u001b[0m \u001b[0merr\u001b[0m\u001b[1;33m)\u001b[0m\u001b[1;33m\u001b[0m\u001b[0m\n\u001b[1;32m    124\u001b[0m \u001b[1;33m\u001b[0m\u001b[0m\n\u001b[0;32m--> 125\u001b[0;31m         \u001b[1;32mraise\u001b[0m \u001b[0mHTTP_EXCEPTIONS\u001b[0m\u001b[1;33m.\u001b[0m\u001b[0mget\u001b[0m\u001b[1;33m(\u001b[0m\u001b[0mstatus_code\u001b[0m\u001b[1;33m,\u001b[0m \u001b[0mTransportError\u001b[0m\u001b[1;33m)\u001b[0m\u001b[1;33m(\u001b[0m\u001b[0mstatus_code\u001b[0m\u001b[1;33m,\u001b[0m \u001b[0merror_message\u001b[0m\u001b[1;33m,\u001b[0m \u001b[0madditional_info\u001b[0m\u001b[1;33m)\u001b[0m\u001b[1;33m\u001b[0m\u001b[0m\n\u001b[0m\u001b[1;32m    126\u001b[0m \u001b[1;33m\u001b[0m\u001b[0m\n\u001b[1;32m    127\u001b[0m \u001b[1;33m\u001b[0m\u001b[0m\n",
      "\u001b[0;31mNotFoundError\u001b[0m: TransportError(404, u'{\"found\":false,\"_index\":\"prueba-index\",\"_type\":\"text\",\"_id\":\"1\",\"_version\":1,\"result\":\"not_found\",\"_shards\":{\"total\":2,\"successful\":1,\"failed\":0}}')"
     ]
    }
   ],
   "source": [
    "es.delete(index='prueba-index', doc_type='text', id=1)"
   ]
  }
 ],
 "metadata": {
  "kernelspec": {
   "display_name": "Python 2",
   "language": "python",
   "name": "python2"
  },
  "language_info": {
   "codemirror_mode": {
    "name": "ipython",
    "version": 2
   },
   "file_extension": ".py",
   "mimetype": "text/x-python",
   "name": "python",
   "nbconvert_exporter": "python",
   "pygments_lexer": "ipython2",
   "version": "2.7.13"
  }
 },
 "nbformat": 4,
 "nbformat_minor": 2
}
