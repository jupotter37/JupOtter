{
 "cells": [
  {
   "cell_type": "markdown",
   "metadata": {
    "nbpresent": {
     "id": "e40ee276-0e47-446d-9cb5-a2726ab4d808"
    }
   },
   "source": [
    "<br/><br/>\n",
    "![h2o-sklearn](../../images/h2o-sklearn.png)\n",
    "\n",
    "\n",
    "# `skutil`\n",
    "\n",
    "*Skutil brings the best of both worlds to H2O and sklearn, delivering an easy transition into the world of distributed computing that H2O offers, while providing the same, familiar interface that sklearn users have come to know and love. This notebook will give an example of how to use *`skutil`* preprocessors with *`H2OEstimator`*s and *`H2OFrame`*s.*\n",
    "\n",
    "Author: *Taylor G Smith*\n",
    "\n",
    "Contact: *tgsmith61591@gmail.com*\n",
    "\n",
    "\n",
    "__Python packages you will need__:\n",
    "  - `python` 2.7\n",
    "  - `numpy` >= 1.6\n",
    "  - `scipy` >= 0.17\n",
    "  - `scikit-learn` >= 0.16\n",
    "  - `pandas` >= 0.18\n",
    "  - `cython` >= 0.22\n",
    "  - `h2o` >= 3.8.2.9\n",
    "  \n",
    " \n",
    "__Misc. requirements__ (for compiling Fortran a la `f2py`):\n",
    "  - `gfortran`\n",
    "  - `gcc`\n",
    "    - Note that the El Capitan Apple Developer tool upgrade necessitates upgrading this! Use:\n",
    "    \n",
    "        brew upgrade gcc\n",
    "\n",
    "\n",
    "This notebook is intended for an audience with a working understanding of machine learning principles and a background in Python development, ideally `sklearn` or `H2O` users. Note that this notebook is *not* designed to teach machine learning, but to demonstrate use of the `skutil` package.\n",
    "\n",
    "\n",
    "### Procession of events:\n",
    "  - Data split&mdash;*always the first step!*\n",
    "  - Preprocessing:\n",
    "    - Balance response classes in train set\n",
    "    - Remove near-zero variance features\n",
    "    - Remove multicollinear features\n",
    "  - Modeling\n",
    "    - Formulate pipeline\n",
    "    - Grid search\n",
    "  - Model selection\n",
    "    - ... (not shown here, but other models built)\n",
    "    - All models finally evaluated against holdout\n",
    "  - Model persistence"
   ]
  },
  {
   "cell_type": "code",
   "execution_count": 5,
   "metadata": {
    "collapsed": false,
    "nbpresent": {
     "id": "7ae2e9fe-7296-45d1-bee2-44ae2bcc958a"
    }
   },
   "outputs": [
    {
     "name": "stdout",
     "output_type": "stream",
     "text": [
      "Skutil version:  0.0.57\n",
      "H2O version:     3.10.0.7\n",
      "Numpy version:   1.11.1\n",
      "Sklearn version: 0.18\n",
      "Pandas version:  0.19.0\n"
     ]
    }
   ],
   "source": [
    "from __future__ import print_function, division, absolute_import\n",
    "import warnings\n",
    "import skutil\n",
    "import sklearn\n",
    "import h2o\n",
    "import pandas as pd\n",
    "import numpy as np\n",
    "\n",
    "# we'll be plotting inline...\n",
    "%matplotlib inline\n",
    "\n",
    "print('Skutil version:  %s' % skutil.__version__)\n",
    "print('H2O version:     %s' % h2o.__version__)\n",
    "print('Numpy version:   %s' % np.__version__)\n",
    "print('Sklearn version: %s' % sklearn.__version__)\n",
    "print('Pandas version:  %s' % pd.__version__)"
   ]
  },
  {
   "cell_type": "markdown",
   "metadata": {
    "nbpresent": {
     "id": "a65177dc-6b8b-4a0a-8476-889d40a8b61a"
    }
   },
   "source": [
    "### Initialize H2O\n",
    "\n",
    "First, we'll start our H2O cluster..."
   ]
  },
  {
   "cell_type": "code",
   "execution_count": 7,
   "metadata": {
    "collapsed": false,
    "nbpresent": {
     "id": "00cc48f1-fde8-42de-bc83-de2531b98085"
    }
   },
   "outputs": [
    {
     "name": "stdout",
     "output_type": "stream",
     "text": [
      "Warning: if you don't want to start local H2O server, then use of `h2o.connect()` is preferred.\n",
      "Checking whether there is an H2O instance running at http://10.7.187.84:54321. connected.\n"
     ]
    },
    {
     "data": {
      "text/html": [
       "<div style=\"overflow:auto\"><table style=\"width:50%\"><tr><td>H2O cluster uptime:</td>\n",
       "<td>16 secs</td></tr>\n",
       "<tr><td>H2O cluster version:</td>\n",
       "<td>3.10.0.7</td></tr>\n",
       "<tr><td>H2O cluster version age:</td>\n",
       "<td>15 days </td></tr>\n",
       "<tr><td>H2O cluster name:</td>\n",
       "<td>fp7y</td></tr>\n",
       "<tr><td>H2O cluster total nodes:</td>\n",
       "<td>1</td></tr>\n",
       "<tr><td>H2O cluster free memory:</td>\n",
       "<td>3.556 Gb</td></tr>\n",
       "<tr><td>H2O cluster total cores:</td>\n",
       "<td>8</td></tr>\n",
       "<tr><td>H2O cluster allowed cores:</td>\n",
       "<td>8</td></tr>\n",
       "<tr><td>H2O cluster status:</td>\n",
       "<td>accepting new members, healthy</td></tr>\n",
       "<tr><td>H2O connection url:</td>\n",
       "<td>http://10.7.187.84:54321</td></tr>\n",
       "<tr><td>H2O connection proxy:</td>\n",
       "<td>None</td></tr>\n",
       "<tr><td>Python version:</td>\n",
       "<td>2.7.12 final</td></tr></table></div>"
      ],
      "text/plain": [
       "--------------------------  ------------------------------\n",
       "H2O cluster uptime:         16 secs\n",
       "H2O cluster version:        3.10.0.7\n",
       "H2O cluster version age:    15 days\n",
       "H2O cluster name:           fp7y\n",
       "H2O cluster total nodes:    1\n",
       "H2O cluster free memory:    3.556 Gb\n",
       "H2O cluster total cores:    8\n",
       "H2O cluster allowed cores:  8\n",
       "H2O cluster status:         accepting new members, healthy\n",
       "H2O connection url:         http://10.7.187.84:54321\n",
       "H2O connection proxy:\n",
       "Python version:             2.7.12 final\n",
       "--------------------------  ------------------------------"
      ]
     },
     "metadata": {},
     "output_type": "display_data"
    }
   ],
   "source": [
    "with warnings.catch_warnings():\n",
    "    warnings.simplefilter('ignore')\n",
    "    \n",
    "    # I started this cluster up via CLI with:\n",
    "    #     $ java -Xmx2g -jar /anaconda/h2o_jar/h2o.jar\n",
    "    h2o.init(ip='10.7.187.84', port=54321, start_h2o=False)"
   ]
  },
  {
   "cell_type": "markdown",
   "metadata": {
    "nbpresent": {
     "id": "27364216-1b49-4397-8b3d-702c5bb25f55"
    }
   },
   "source": [
    "### Load data\n",
    "\n",
    "We'll load sklearn's breast cancer data. Using skutil's `from_pandas` method, we can upload a Pandas frame to the H2O cloud"
   ]
  },
  {
   "cell_type": "code",
   "execution_count": 8,
   "metadata": {
    "collapsed": false,
    "nbpresent": {
     "id": "702f94b5-f9a8-4b1e-a1fd-8c3ae09c1499"
    }
   },
   "outputs": [
    {
     "name": "stdout",
     "output_type": "stream",
     "text": [
      "Parse progress: |█████████████████████████████████████████████████████████████████████████████| 100%\n",
      "(568, 31)\n"
     ]
    },
    {
     "data": {
      "text/html": [
       "<table>\n",
       "<tr><th style=\"text-align: right;\">  mean radius</th><th style=\"text-align: right;\">  mean texture</th><th style=\"text-align: right;\">  mean perimeter</th><th style=\"text-align: right;\">  mean area</th><th style=\"text-align: right;\">  mean smoothness</th><th style=\"text-align: right;\">  mean compactness</th><th style=\"text-align: right;\">  mean concavity</th><th style=\"text-align: right;\">  mean concave points</th><th style=\"text-align: right;\">  mean symmetry</th><th style=\"text-align: right;\">  mean fractal dimension</th><th style=\"text-align: right;\">  radius error</th><th style=\"text-align: right;\">  texture error</th><th style=\"text-align: right;\">  perimeter error</th><th style=\"text-align: right;\">  area error</th><th style=\"text-align: right;\">  smoothness error</th><th style=\"text-align: right;\">  compactness error</th><th style=\"text-align: right;\">  concavity error</th><th style=\"text-align: right;\">  concave points error</th><th style=\"text-align: right;\">  symmetry error</th><th style=\"text-align: right;\">  fractal dimension error</th><th style=\"text-align: right;\">  worst radius</th><th style=\"text-align: right;\">  worst texture</th><th style=\"text-align: right;\">  worst perimeter</th><th style=\"text-align: right;\">  worst area</th><th style=\"text-align: right;\">  worst smoothness</th><th style=\"text-align: right;\">  worst compactness</th><th style=\"text-align: right;\">  worst concavity</th><th style=\"text-align: right;\">  worst concave points</th><th style=\"text-align: right;\">  worst symmetry</th><th style=\"text-align: right;\">  worst fractal dimension</th><th style=\"text-align: right;\">  target</th></tr>\n",
       "<tr><td style=\"text-align: right;\">        20.57</td><td style=\"text-align: right;\">         17.77</td><td style=\"text-align: right;\">          132.9 </td><td style=\"text-align: right;\">     1326  </td><td style=\"text-align: right;\">          0.08474</td><td style=\"text-align: right;\">           0.07864</td><td style=\"text-align: right;\">         0.0869 </td><td style=\"text-align: right;\">              0.07017</td><td style=\"text-align: right;\">         0.1812</td><td style=\"text-align: right;\">                 0.05667</td><td style=\"text-align: right;\">        0.5435</td><td style=\"text-align: right;\">         0.7339</td><td style=\"text-align: right;\">            3.398</td><td style=\"text-align: right;\">       74.08</td><td style=\"text-align: right;\">          0.005225</td><td style=\"text-align: right;\">           0.01308 </td><td style=\"text-align: right;\">          0.0186 </td><td style=\"text-align: right;\">              0.0134  </td><td style=\"text-align: right;\">         0.01389</td><td style=\"text-align: right;\">                 0.003532</td><td style=\"text-align: right;\">         24.99</td><td style=\"text-align: right;\">          23.41</td><td style=\"text-align: right;\">           158.8 </td><td style=\"text-align: right;\">      1956  </td><td style=\"text-align: right;\">            0.1238</td><td style=\"text-align: right;\">             0.1866</td><td style=\"text-align: right;\">           0.2416</td><td style=\"text-align: right;\">               0.186  </td><td style=\"text-align: right;\">          0.275 </td><td style=\"text-align: right;\">                  0.08902</td><td style=\"text-align: right;\">       0</td></tr>\n",
       "<tr><td style=\"text-align: right;\">        19.69</td><td style=\"text-align: right;\">         21.25</td><td style=\"text-align: right;\">          130   </td><td style=\"text-align: right;\">     1203  </td><td style=\"text-align: right;\">          0.1096 </td><td style=\"text-align: right;\">           0.1599 </td><td style=\"text-align: right;\">         0.1974 </td><td style=\"text-align: right;\">              0.1279 </td><td style=\"text-align: right;\">         0.2069</td><td style=\"text-align: right;\">                 0.05999</td><td style=\"text-align: right;\">        0.7456</td><td style=\"text-align: right;\">         0.7869</td><td style=\"text-align: right;\">            4.585</td><td style=\"text-align: right;\">       94.03</td><td style=\"text-align: right;\">          0.00615 </td><td style=\"text-align: right;\">           0.04006 </td><td style=\"text-align: right;\">          0.03832</td><td style=\"text-align: right;\">              0.02058 </td><td style=\"text-align: right;\">         0.0225 </td><td style=\"text-align: right;\">                 0.004571</td><td style=\"text-align: right;\">         23.57</td><td style=\"text-align: right;\">          25.53</td><td style=\"text-align: right;\">           152.5 </td><td style=\"text-align: right;\">      1709  </td><td style=\"text-align: right;\">            0.1444</td><td style=\"text-align: right;\">             0.4245</td><td style=\"text-align: right;\">           0.4504</td><td style=\"text-align: right;\">               0.243  </td><td style=\"text-align: right;\">          0.3613</td><td style=\"text-align: right;\">                  0.08758</td><td style=\"text-align: right;\">       0</td></tr>\n",
       "<tr><td style=\"text-align: right;\">        11.42</td><td style=\"text-align: right;\">         20.38</td><td style=\"text-align: right;\">           77.58</td><td style=\"text-align: right;\">      386.1</td><td style=\"text-align: right;\">          0.1425 </td><td style=\"text-align: right;\">           0.2839 </td><td style=\"text-align: right;\">         0.2414 </td><td style=\"text-align: right;\">              0.1052 </td><td style=\"text-align: right;\">         0.2597</td><td style=\"text-align: right;\">                 0.09744</td><td style=\"text-align: right;\">        0.4956</td><td style=\"text-align: right;\">         1.156 </td><td style=\"text-align: right;\">            3.445</td><td style=\"text-align: right;\">       27.23</td><td style=\"text-align: right;\">          0.00911 </td><td style=\"text-align: right;\">           0.07458 </td><td style=\"text-align: right;\">          0.05661</td><td style=\"text-align: right;\">              0.01867 </td><td style=\"text-align: right;\">         0.05963</td><td style=\"text-align: right;\">                 0.009208</td><td style=\"text-align: right;\">         14.91</td><td style=\"text-align: right;\">          26.5 </td><td style=\"text-align: right;\">            98.87</td><td style=\"text-align: right;\">       567.7</td><td style=\"text-align: right;\">            0.2098</td><td style=\"text-align: right;\">             0.8663</td><td style=\"text-align: right;\">           0.6869</td><td style=\"text-align: right;\">               0.2575 </td><td style=\"text-align: right;\">          0.6638</td><td style=\"text-align: right;\">                  0.173  </td><td style=\"text-align: right;\">       0</td></tr>\n",
       "<tr><td style=\"text-align: right;\">        20.29</td><td style=\"text-align: right;\">         14.34</td><td style=\"text-align: right;\">          135.1 </td><td style=\"text-align: right;\">     1297  </td><td style=\"text-align: right;\">          0.1003 </td><td style=\"text-align: right;\">           0.1328 </td><td style=\"text-align: right;\">         0.198  </td><td style=\"text-align: right;\">              0.1043 </td><td style=\"text-align: right;\">         0.1809</td><td style=\"text-align: right;\">                 0.05883</td><td style=\"text-align: right;\">        0.7572</td><td style=\"text-align: right;\">         0.7813</td><td style=\"text-align: right;\">            5.438</td><td style=\"text-align: right;\">       94.44</td><td style=\"text-align: right;\">          0.01149 </td><td style=\"text-align: right;\">           0.02461 </td><td style=\"text-align: right;\">          0.05688</td><td style=\"text-align: right;\">              0.01885 </td><td style=\"text-align: right;\">         0.01756</td><td style=\"text-align: right;\">                 0.005115</td><td style=\"text-align: right;\">         22.54</td><td style=\"text-align: right;\">          16.67</td><td style=\"text-align: right;\">           152.2 </td><td style=\"text-align: right;\">      1575  </td><td style=\"text-align: right;\">            0.1374</td><td style=\"text-align: right;\">             0.205 </td><td style=\"text-align: right;\">           0.4   </td><td style=\"text-align: right;\">               0.1625 </td><td style=\"text-align: right;\">          0.2364</td><td style=\"text-align: right;\">                  0.07678</td><td style=\"text-align: right;\">       0</td></tr>\n",
       "<tr><td style=\"text-align: right;\">        12.45</td><td style=\"text-align: right;\">         15.7 </td><td style=\"text-align: right;\">           82.57</td><td style=\"text-align: right;\">      477.1</td><td style=\"text-align: right;\">          0.1278 </td><td style=\"text-align: right;\">           0.17   </td><td style=\"text-align: right;\">         0.1578 </td><td style=\"text-align: right;\">              0.08089</td><td style=\"text-align: right;\">         0.2087</td><td style=\"text-align: right;\">                 0.07613</td><td style=\"text-align: right;\">        0.3345</td><td style=\"text-align: right;\">         0.8902</td><td style=\"text-align: right;\">            2.217</td><td style=\"text-align: right;\">       27.19</td><td style=\"text-align: right;\">          0.00751 </td><td style=\"text-align: right;\">           0.03345 </td><td style=\"text-align: right;\">          0.03672</td><td style=\"text-align: right;\">              0.01137 </td><td style=\"text-align: right;\">         0.02165</td><td style=\"text-align: right;\">                 0.005082</td><td style=\"text-align: right;\">         15.47</td><td style=\"text-align: right;\">          23.75</td><td style=\"text-align: right;\">           103.4 </td><td style=\"text-align: right;\">       741.6</td><td style=\"text-align: right;\">            0.1791</td><td style=\"text-align: right;\">             0.5249</td><td style=\"text-align: right;\">           0.5355</td><td style=\"text-align: right;\">               0.1741 </td><td style=\"text-align: right;\">          0.3985</td><td style=\"text-align: right;\">                  0.1244 </td><td style=\"text-align: right;\">       0</td></tr>\n",
       "<tr><td style=\"text-align: right;\">        18.25</td><td style=\"text-align: right;\">         19.98</td><td style=\"text-align: right;\">          119.6 </td><td style=\"text-align: right;\">     1040  </td><td style=\"text-align: right;\">          0.09463</td><td style=\"text-align: right;\">           0.109  </td><td style=\"text-align: right;\">         0.1127 </td><td style=\"text-align: right;\">              0.074  </td><td style=\"text-align: right;\">         0.1794</td><td style=\"text-align: right;\">                 0.05742</td><td style=\"text-align: right;\">        0.4467</td><td style=\"text-align: right;\">         0.7732</td><td style=\"text-align: right;\">            3.18 </td><td style=\"text-align: right;\">       53.91</td><td style=\"text-align: right;\">          0.004314</td><td style=\"text-align: right;\">           0.01382 </td><td style=\"text-align: right;\">          0.02254</td><td style=\"text-align: right;\">              0.01039 </td><td style=\"text-align: right;\">         0.01369</td><td style=\"text-align: right;\">                 0.002179</td><td style=\"text-align: right;\">         22.88</td><td style=\"text-align: right;\">          27.66</td><td style=\"text-align: right;\">           153.2 </td><td style=\"text-align: right;\">      1606  </td><td style=\"text-align: right;\">            0.1442</td><td style=\"text-align: right;\">             0.2576</td><td style=\"text-align: right;\">           0.3784</td><td style=\"text-align: right;\">               0.1932 </td><td style=\"text-align: right;\">          0.3063</td><td style=\"text-align: right;\">                  0.08368</td><td style=\"text-align: right;\">       0</td></tr>\n",
       "<tr><td style=\"text-align: right;\">        13.71</td><td style=\"text-align: right;\">         20.83</td><td style=\"text-align: right;\">           90.2 </td><td style=\"text-align: right;\">      577.9</td><td style=\"text-align: right;\">          0.1189 </td><td style=\"text-align: right;\">           0.1645 </td><td style=\"text-align: right;\">         0.09366</td><td style=\"text-align: right;\">              0.05985</td><td style=\"text-align: right;\">         0.2196</td><td style=\"text-align: right;\">                 0.07451</td><td style=\"text-align: right;\">        0.5835</td><td style=\"text-align: right;\">         1.377 </td><td style=\"text-align: right;\">            3.856</td><td style=\"text-align: right;\">       50.96</td><td style=\"text-align: right;\">          0.008805</td><td style=\"text-align: right;\">           0.03029 </td><td style=\"text-align: right;\">          0.02488</td><td style=\"text-align: right;\">              0.01448 </td><td style=\"text-align: right;\">         0.01486</td><td style=\"text-align: right;\">                 0.005412</td><td style=\"text-align: right;\">         17.06</td><td style=\"text-align: right;\">          28.14</td><td style=\"text-align: right;\">           110.6 </td><td style=\"text-align: right;\">       897  </td><td style=\"text-align: right;\">            0.1654</td><td style=\"text-align: right;\">             0.3682</td><td style=\"text-align: right;\">           0.2678</td><td style=\"text-align: right;\">               0.1556 </td><td style=\"text-align: right;\">          0.3196</td><td style=\"text-align: right;\">                  0.1151 </td><td style=\"text-align: right;\">       0</td></tr>\n",
       "<tr><td style=\"text-align: right;\">        13   </td><td style=\"text-align: right;\">         21.82</td><td style=\"text-align: right;\">           87.5 </td><td style=\"text-align: right;\">      519.8</td><td style=\"text-align: right;\">          0.1273 </td><td style=\"text-align: right;\">           0.1932 </td><td style=\"text-align: right;\">         0.1859 </td><td style=\"text-align: right;\">              0.09353</td><td style=\"text-align: right;\">         0.235 </td><td style=\"text-align: right;\">                 0.07389</td><td style=\"text-align: right;\">        0.3063</td><td style=\"text-align: right;\">         1.002 </td><td style=\"text-align: right;\">            2.406</td><td style=\"text-align: right;\">       24.32</td><td style=\"text-align: right;\">          0.005731</td><td style=\"text-align: right;\">           0.03502 </td><td style=\"text-align: right;\">          0.03553</td><td style=\"text-align: right;\">              0.01226 </td><td style=\"text-align: right;\">         0.02143</td><td style=\"text-align: right;\">                 0.003749</td><td style=\"text-align: right;\">         15.49</td><td style=\"text-align: right;\">          30.73</td><td style=\"text-align: right;\">           106.2 </td><td style=\"text-align: right;\">       739.3</td><td style=\"text-align: right;\">            0.1703</td><td style=\"text-align: right;\">             0.5401</td><td style=\"text-align: right;\">           0.539 </td><td style=\"text-align: right;\">               0.206  </td><td style=\"text-align: right;\">          0.4378</td><td style=\"text-align: right;\">                  0.1072 </td><td style=\"text-align: right;\">       0</td></tr>\n",
       "<tr><td style=\"text-align: right;\">        12.46</td><td style=\"text-align: right;\">         24.04</td><td style=\"text-align: right;\">           83.97</td><td style=\"text-align: right;\">      475.9</td><td style=\"text-align: right;\">          0.1186 </td><td style=\"text-align: right;\">           0.2396 </td><td style=\"text-align: right;\">         0.2273 </td><td style=\"text-align: right;\">              0.08543</td><td style=\"text-align: right;\">         0.203 </td><td style=\"text-align: right;\">                 0.08243</td><td style=\"text-align: right;\">        0.2976</td><td style=\"text-align: right;\">         1.599 </td><td style=\"text-align: right;\">            2.039</td><td style=\"text-align: right;\">       23.94</td><td style=\"text-align: right;\">          0.007149</td><td style=\"text-align: right;\">           0.07217 </td><td style=\"text-align: right;\">          0.07743</td><td style=\"text-align: right;\">              0.01432 </td><td style=\"text-align: right;\">         0.01789</td><td style=\"text-align: right;\">                 0.01008 </td><td style=\"text-align: right;\">         15.09</td><td style=\"text-align: right;\">          40.68</td><td style=\"text-align: right;\">            97.65</td><td style=\"text-align: right;\">       711.4</td><td style=\"text-align: right;\">            0.1853</td><td style=\"text-align: right;\">             1.058 </td><td style=\"text-align: right;\">           1.105 </td><td style=\"text-align: right;\">               0.221  </td><td style=\"text-align: right;\">          0.4366</td><td style=\"text-align: right;\">                  0.2075 </td><td style=\"text-align: right;\">       0</td></tr>\n",
       "<tr><td style=\"text-align: right;\">        16.02</td><td style=\"text-align: right;\">         23.24</td><td style=\"text-align: right;\">          102.7 </td><td style=\"text-align: right;\">      797.8</td><td style=\"text-align: right;\">          0.08206</td><td style=\"text-align: right;\">           0.06669</td><td style=\"text-align: right;\">         0.03299</td><td style=\"text-align: right;\">              0.03323</td><td style=\"text-align: right;\">         0.1528</td><td style=\"text-align: right;\">                 0.05697</td><td style=\"text-align: right;\">        0.3795</td><td style=\"text-align: right;\">         1.187 </td><td style=\"text-align: right;\">            2.466</td><td style=\"text-align: right;\">       40.51</td><td style=\"text-align: right;\">          0.004029</td><td style=\"text-align: right;\">           0.009269</td><td style=\"text-align: right;\">          0.01101</td><td style=\"text-align: right;\">              0.007591</td><td style=\"text-align: right;\">         0.0146 </td><td style=\"text-align: right;\">                 0.003042</td><td style=\"text-align: right;\">         19.19</td><td style=\"text-align: right;\">          33.88</td><td style=\"text-align: right;\">           123.8 </td><td style=\"text-align: right;\">      1150  </td><td style=\"text-align: right;\">            0.1181</td><td style=\"text-align: right;\">             0.1551</td><td style=\"text-align: right;\">           0.1459</td><td style=\"text-align: right;\">               0.09975</td><td style=\"text-align: right;\">          0.2948</td><td style=\"text-align: right;\">                  0.08452</td><td style=\"text-align: right;\">       0</td></tr>\n",
       "</table>"
      ]
     },
     "metadata": {},
     "output_type": "display_data"
    },
    {
     "data": {
      "text/plain": []
     },
     "execution_count": 8,
     "metadata": {},
     "output_type": "execute_result"
    }
   ],
   "source": [
    "from sklearn.datasets import load_breast_cancer\n",
    "from skutil.h2o.util import from_pandas\n",
    "\n",
    "# import data, load into pandas\n",
    "bc = load_breast_cancer()\n",
    "X = pd.DataFrame.from_records(data=bc.data, columns=bc.feature_names)\n",
    "X['target'] = bc.target\n",
    "\n",
    "# push to h2o cloud\n",
    "X = from_pandas(X)\n",
    "print(X.shape)\n",
    "X.head()"
   ]
  },
  {
   "cell_type": "code",
   "execution_count": 9,
   "metadata": {
    "collapsed": true,
    "nbpresent": {
     "id": "064bf24e-45b0-43d3-b527-00d488987068"
    }
   },
   "outputs": [],
   "source": [
    "# Here are our feature names:\n",
    "x = list(bc.feature_names)\n",
    "y = 'target'"
   ]
  },
  {
   "cell_type": "markdown",
   "metadata": {
    "nbpresent": {
     "id": "3ebdb793-a221-478f-94a9-0b29c6b39545"
    }
   },
   "source": [
    "## train/test split\n",
    "\n",
    "Sklearn provides a great mechanism for splitting data into a train and validation set. Skutil provides the same mechanism for h2o frames. This cell does the following:\n",
    "\n",
    "  - Makes the response variable an enum\n",
    "  - Creates two splits:\n",
    "    - `X_train`: 75%\n",
    "    - `X_val`: 25%"
   ]
  },
  {
   "cell_type": "code",
   "execution_count": 11,
   "metadata": {
    "collapsed": true,
    "nbpresent": {
     "id": "be95967e-06b3-4517-af63-9044c91353fe"
    }
   },
   "outputs": [],
   "source": [
    "from skutil.h2o import h2o_train_test_split\n",
    "\n",
    "# first, let's make sure our target is a factor\n",
    "X[y] = X[y].asfactor()\n",
    "\n",
    "# we'll use 75% of the data for training, 25%\n",
    "X_train, X_val = h2o_train_test_split(X, train_size=0.75, random_state=42)\n",
    "\n",
    "# make sure we did it right...\n",
    "# assert X.shape[0] == (X_train.shape[0] + X_val.shape[0])"
   ]
  },
  {
   "cell_type": "markdown",
   "metadata": {
    "nbpresent": {
     "id": "8fc9f36a-d7e7-4c2c-ab6f-6b52fddb37d6"
    }
   },
   "source": [
    "## preprocessing with `skutil.h2o`\n",
    "\n",
    "Skutil provides an `h2o` module which delivers some skutil `feature_selection` classes that can operate on an H2OFrame. Each `BaseH2OTransformer` has the following `__init__` signature:\n",
    "\n",
    "    BaseH2OTransformer(self, feature_names=None, target_feature=None)\n",
    "    \n",
    "The selector will only operate on the `feature_names` (if provided&mdash;else it will operate on all features) and will always exclude the `target_feature`.\n",
    "\n",
    "The first step would be to ensure our data is balanced, as we don't want imbalanced minority/majority classes. The problem of class imbalance is [well-documented](http://www3.nd.edu/~dial/publications/chawla2005data.pdf), and many solutions have been proposed. Skutil provides a mechanism by which we could over-sample the minority class using the `H2OOversamplingClassBalancer`, or under-sample the majority class using the `H2OUndersamplingClassBalancer`.\n",
    "\n",
    "Fortunately for us, the classes in this dataset are fairly balanced, so we can move on to the next piece."
   ]
  },
  {
   "cell_type": "markdown",
   "metadata": {
    "nbpresent": {
     "id": "946fb68c-4d40-44b7-915d-8c611f5a7252"
    }
   },
   "source": [
    "### Handling near-zero variance\n",
    "\n",
    "Some predictors contain few unique values and are considered \"near-zero variance\" predictors. For parametric many models, this may cause the fit to be unstable.  Skutil's `NearZeroVarianceFilterer` and `H2ONearZeroVarianceFilterer` drop features with variance below a given threshold (based on [caret's](https://topepo.github.io/caret/pre-processing.html#nzv) preprocessor).\n",
    "\n",
    "__Note__: sklearn added this in 0.18 (released last week) under [VarianceThreshold](http://scikit-learn.org/stable/modules/generated/sklearn.feature_selection.VarianceThreshold.html)"
   ]
  },
  {
   "cell_type": "code",
   "execution_count": 12,
   "metadata": {
    "collapsed": false,
    "nbpresent": {
     "id": "3bdfe795-fae0-4f39-af1d-3c93e15d008b"
    }
   },
   "outputs": [
    {
     "name": "stderr",
     "output_type": "stream",
     "text": [
      "//anaconda/lib/python2.7/site-packages/h2o/expr.py:155: UnicodeWarning: Unicode equal comparison failed to convert both arguments to Unicode - interpreting them as being unequal\n",
      "  return \"[%s]\" % \" \".join(\"NaN\" if i == 'NaN' or math.isnan(i) else str(i) for i in arg)\n"
     ]
    },
    {
     "data": {
      "text/plain": [
       "['mean fractal dimension',\n",
       " 'smoothness error',\n",
       " 'concave points error',\n",
       " 'symmetry error',\n",
       " 'fractal dimension error']"
      ]
     },
     "execution_count": 12,
     "metadata": {},
     "output_type": "execute_result"
    }
   ],
   "source": [
    "from skutil.h2o import H2ONearZeroVarianceFilterer\n",
    "\n",
    "# Let's determine whether we're at risk for any near-zero variance\n",
    "nzv = H2ONearZeroVarianceFilterer(feature_names=x, target_feature=y, threshold=1e-4)\n",
    "nzv.fit(X_train)\n",
    "\n",
    "# let's see if anything was dropped...\n",
    "nzv.drop_"
   ]
  },
  {
   "cell_type": "code",
   "execution_count": 13,
   "metadata": {
    "collapsed": false
   },
   "outputs": [
    {
     "data": {
      "text/plain": [
       "{'concave points error': 3.919765736972106e-05,\n",
       " 'fractal dimension error': 7.2987315370012753e-06,\n",
       " 'mean fractal dimension': 4.7861604014360665e-05,\n",
       " 'smoothness error': 9.1291519333222874e-06,\n",
       " 'symmetry error': 5.859936021815521e-05}"
      ]
     },
     "execution_count": 13,
     "metadata": {},
     "output_type": "execute_result"
    }
   ],
   "source": [
    "nzv.var_"
   ]
  },
  {
   "cell_type": "markdown",
   "metadata": {
    "nbpresent": {
     "id": "f54124a4-dd65-4fe7-8ab2-ccb8c6e2841e"
    }
   },
   "source": [
    "### Multicollinearity\n",
    "\n",
    "Multicollinearity (MC) can be detrimental to the fit of parametric models (for our example, we're going to use a tree-based model, which is non-parametric, but the demo is still useful), and can cause confounding results in some models' variable importances. With `skutil`, we can filter out features that are correlated beyond a certain absolute threshold.  When a violating correlation is identified, the feature with the highest mean absolute correlation is removed ([see also](http://blog.minitab.com/blog/adventures-in-statistics/what-are-the-effects-of-multicollinearity-and-when-can-i-ignore-them)).\n",
    "\n",
    "Before filtering out collinear features, let's take a look at the correlation matrix."
   ]
  },
  {
   "cell_type": "code",
   "execution_count": 14,
   "metadata": {
    "collapsed": false,
    "nbpresent": {
     "id": "3ab23ca3-6296-462c-8123-c06dc6a1dc1d"
    }
   },
   "outputs": [
    {
     "data": {
      "image/png": "[encoded data removed]",
      "text/plain": [
       "<matplotlib.figure.Figure at 0x11b072e90>"
      ]
     },
     "metadata": {},
     "output_type": "display_data"
    }
   ],
   "source": [
    "from skutil.h2o import h2o_corr_plot\n",
    "\n",
    "# note that we want to exclude the target!!\n",
    "h2o_corr_plot(X_train[x], xticklabels=x, yticklabels=x)"
   ]
  },
  {
   "cell_type": "code",
   "execution_count": 15,
   "metadata": {
    "collapsed": false,
    "nbpresent": {
     "id": "dbec16ef-6c3a-4776-99df-9a90e8f84c92"
    }
   },
   "outputs": [
    {
     "data": {
      "text/plain": [
       "[Dropped: mean perimeter, Corr_feature: mean radius, abs_corr: 0.99822, MAC: 0.47980,\n",
       " Dropped: mean radius, Corr_feature: mean area, abs_corr: 0.98854, MAC: 0.44724,\n",
       " Dropped: worst texture, Corr_feature: mean texture, abs_corr: 0.91160, MAC: 0.26108,\n",
       " Dropped: worst radius, Corr_feature: mean area, abs_corr: 0.96228, MAC: 0.45561,\n",
       " Dropped: worst perimeter, Corr_feature: mean area, abs_corr: 0.95864, MAC: 0.44955,\n",
       " Dropped: worst area, Corr_feature: mean area, abs_corr: 0.95625, MAC: 0.39923,\n",
       " Dropped: mean concavity, Corr_feature: mean concave points, abs_corr: 0.91567, MAC: 0.54588,\n",
       " Dropped: worst concave points, Corr_feature: mean concave points, abs_corr: 0.91019, MAC: 0.48403,\n",
       " Dropped: perimeter error, Corr_feature: radius error, abs_corr: 0.97511, MAC: 0.36587,\n",
       " Dropped: radius error, Corr_feature: area error, abs_corr: 0.95979, MAC: 0.32329]"
      ]
     },
     "execution_count": 15,
     "metadata": {},
     "output_type": "execute_result"
    }
   ],
   "source": [
    "from skutil.h2o import H2OMulticollinearityFilterer\n",
    "\n",
    "# Are we at risk of any multicollinearity?\n",
    "mcf = H2OMulticollinearityFilterer(feature_names=x, target_feature=y, threshold=0.90)\n",
    "mcf.fit(X_train)\n",
    "\n",
    "# we can look at the dropped features\n",
    "mcf.correlations_"
   ]
  },
  {
   "cell_type": "markdown",
   "metadata": {
    "nbpresent": {
     "id": "5c875288-51d0-4f4b-b496-7f10f6bc40f7"
    }
   },
   "source": [
    "### Dropping features\n",
    "\n",
    "As you'll see in the next section (Pipelines), where certain preprocessing steps take place matters. If there are a subset of features on which you don't want to model or process, you can drop them out. Sometimes this is more effective than creating a list of potentially thousands of feature names to pass as the `feature_names` parameter."
   ]
  },
  {
   "cell_type": "code",
   "execution_count": 10,
   "metadata": {
    "collapsed": true,
    "nbpresent": {
     "id": "7d2929a6-a95d-4138-a961-b8af9935cc00"
    }
   },
   "outputs": [],
   "source": [
    "from skutil.h2o import H2OFeatureDropper\n",
    "\n",
    "# maybe I don't like 'mean fractal dimension'\n",
    "dropper = H2OFeatureDropper(feature_names=['mean fractal dimension'], target_feature=y)\n",
    "transformed = dropper.fit_transform(X_train)\n",
    "\n",
    "# we can ensure it's not there\n",
    "assert not 'mean fractal dimension' in transformed.columns"
   ]
  },
  {
   "cell_type": "markdown",
   "metadata": {
    "nbpresent": {
     "id": "f268dc15-df8f-4c66-9c25-1bc4f4975bd8"
    }
   },
   "source": [
    "### `skutil.h2o` modeling\n",
    "\n",
    "Skutil's `h2o` module allows us to form the `Pipeline` objects we're familiar with from sklearn.  This permits us to string a series of preprocessors together, with an optional `H2OEstimator` as the last step.  Like sklearn `Pipeline`s, the first argument is a single list of length-two tuples (where the first arg is the name of the step, and the second is the Estimator/Transformer), however the `H2OPipeline` takes two more arguments: `feature_names` and `target_feature`.\n",
    "\n",
    "__Note__ that the `feature_names` arg is the names the *first* preprocessor will operate on; after that, all remaining feature names (i.e., not the target) will be passed to the next processor."
   ]
  },
  {
   "cell_type": "code",
   "execution_count": 16,
   "metadata": {
    "collapsed": false,
    "nbpresent": {
     "id": "e9304a3e-cc32-47cf-bce4-9077bcd27cec"
    },
    "scrolled": false
   },
   "outputs": [
    {
     "name": "stdout",
     "output_type": "stream",
     "text": [
      "drf Model Build progress: |███████████████████████████████████████████████████████████████████| 100%\n",
      "drf prediction progress: |████████████████████████████████████████████████████████████████████| 100%\n",
      "Validation accuracy: 0.90141\n"
     ]
    }
   ],
   "source": [
    "from skutil.h2o import H2OPipeline\n",
    "from h2o.estimators import H2ORandomForestEstimator\n",
    "from skutil.h2o.metrics import h2o_accuracy_score # same as sklearn's, but with H2OFrames\n",
    "\n",
    "# let's fit a pipeline with our estimator...\n",
    "pipe = H2OPipeline([\n",
    "        ('nzv', H2ONearZeroVarianceFilterer(threshold=1e-1)),\n",
    "        ('mcf', H2OMulticollinearityFilterer(threshold=0.95)),\n",
    "        ('rf' , H2ORandomForestEstimator(ntrees=50, max_depth=8, min_rows=5))\n",
    "    ], \n",
    "    \n",
    "    # feature_names is the set of features the first transformer\n",
    "    # will operate on. The remaining features will be passed\n",
    "    # to the next step\n",
    "    feature_names=x, \n",
    "    target_feature=y)\n",
    "\n",
    "\n",
    "# fit...\n",
    "pipe = pipe.fit(X_train)\n",
    "\n",
    "\n",
    "# eval accuracy on validation set\n",
    "pred = pipe.predict(X_val)\n",
    "actual = X_val[y]\n",
    "pred = pred['predict']\n",
    "print('Validation accuracy: %.5f' % h2o_accuracy_score(actual, pred))"
   ]
  },
  {
   "cell_type": "markdown",
   "metadata": {
    "nbpresent": {
     "id": "1ddcd5b3-1dbc-406d-bb21-2939c392dbf0"
    }
   },
   "source": [
    "### Which features were retained?\n",
    "\n",
    "We can see which features were modeled on with the `training_cols_` attribute of the fitted pipe."
   ]
  },
  {
   "cell_type": "code",
   "execution_count": 17,
   "metadata": {
    "collapsed": false,
    "nbpresent": {
     "id": "4f321235-91a0-42da-b8af-103d82a39985"
    }
   },
   "outputs": [
    {
     "data": {
      "text/plain": [
       "['mean radius',\n",
       " 'mean texture',\n",
       " 'texture error',\n",
       " 'perimeter error',\n",
       " 'area error',\n",
       " 'worst texture',\n",
       " 'worst area']"
      ]
     },
     "execution_count": 17,
     "metadata": {},
     "output_type": "execute_result"
    }
   ],
   "source": [
    "pipe.training_cols_"
   ]
  },
  {
   "cell_type": "markdown",
   "metadata": {
    "nbpresent": {
     "id": "2211201a-f874-4e4b-b27d-b19c5972faad"
    }
   },
   "source": [
    "### Hyperparameter optimization\n",
    "\n",
    "With relatively little effort, we got > 93% accuracy on our validation set! Can we improve that? We can use `sklearn`-esque grid searches, which also allow us to search over preprocessor objects to optimize a set of hyperparameters."
   ]
  },
  {
   "cell_type": "code",
   "execution_count": 18,
   "metadata": {
    "collapsed": false,
    "nbpresent": {
     "id": "29a17836-e787-4a0c-a3a9-34aec370fc27"
    },
    "scrolled": false
   },
   "outputs": [
    {
     "name": "stdout",
     "output_type": "stream",
     "text": [
      "[CV (iter 0, fold 0)] Target: target; rf__ntrees=84, rf__min_rows=32, mcf__threshold=0.960044553383, rf__max_depth=11, nzv__threshold=0.0731239214356 \n",
      "drf Model Build progress: |███████████████████████████████████████████████████████████████████| 100%\n",
      "drf prediction progress: |████████████████████████████████████████████████████████████████████| 100%\n",
      "\n",
      "[CV (iter 0, fold 0)]  Target: target; rf__ntrees=84, rf__min_rows=32, mcf__threshold=0.960044553383, rf__max_depth=11, nzv__threshold=0.0731239214356, score=0.915493 -   6.2s\n",
      "\n",
      "\n",
      "[CV (iter 0, fold 1)] Target: target; rf__ntrees=84, rf__min_rows=32, mcf__threshold=0.960044553383, rf__max_depth=11, nzv__threshold=0.0731239214356 \n",
      "drf Model Build progress: |███████████████████████████████████████████████████████████████████| 100%\n",
      "drf prediction progress: |████████████████████████████████████████████████████████████████████| 100%\n",
      "\n",
      "[CV (iter 0, fold 1)]  Target: target; rf__ntrees=84, rf__min_rows=32, mcf__threshold=0.960044553383, rf__max_depth=11, nzv__threshold=0.0731239214356, score=0.971831 -   5.3s\n",
      "\n",
      "\n",
      "[CV (iter 0, fold 2)] Target: target; rf__ntrees=84, rf__min_rows=32, mcf__threshold=0.960044553383, rf__max_depth=11, nzv__threshold=0.0731239214356 \n",
      "drf Model Build progress: |███████████████████████████████████████████████████████████████████| 100%\n",
      "drf prediction progress: |████████████████████████████████████████████████████████████████████| 100%\n",
      "\n",
      "[CV (iter 0, fold 2)]  Target: target; rf__ntrees=84, rf__min_rows=32, mcf__threshold=0.960044553383, rf__max_depth=11, nzv__threshold=0.0731239214356, score=0.880282 -   5.6s\n",
      "\n",
      "\n",
      "[CV (iter 1, fold 0)] Target: target; rf__ntrees=61, rf__min_rows=45, mcf__threshold=0.834006244292, rf__max_depth=10, nzv__threshold=0.0643565129722 \n",
      "drf Model Build progress: |███████████████████████████████████████████████████████████████████| 100%\n",
      "drf prediction progress: |████████████████████████████████████████████████████████████████████| 100%\n",
      "\n",
      "[CV (iter 1, fold 0)]  Target: target; rf__ntrees=61, rf__min_rows=45, mcf__threshold=0.834006244292, rf__max_depth=10, nzv__threshold=0.0643565129722, score=0.880282 -   5.0s\n",
      "\n",
      "\n",
      "[CV (iter 1, fold 1)] Target: target; rf__ntrees=61, rf__min_rows=45, mcf__threshold=0.834006244292, rf__max_depth=10, nzv__threshold=0.0643565129722 \n",
      "drf Model Build progress: |███████████████████████████████████████████████████████████████████| 100%\n",
      "drf prediction progress: |████████████████████████████████████████████████████████████████████| 100%\n",
      "\n",
      "[CV (iter 1, fold 1)]  Target: target; rf__ntrees=61, rf__min_rows=45, mcf__threshold=0.834006244292, rf__max_depth=10, nzv__threshold=0.0643565129722, score=0.957746 -   5.9s\n",
      "\n",
      "\n",
      "[CV (iter 1, fold 2)] Target: target; rf__ntrees=61, rf__min_rows=45, mcf__threshold=0.834006244292, rf__max_depth=10, nzv__threshold=0.0643565129722 \n",
      "drf Model Build progress: |███████████████████████████████████████████████████████████████████| 100%\n",
      "drf prediction progress: |████████████████████████████████████████████████████████████████████| 100%\n",
      "\n",
      "[CV (iter 1, fold 2)]  Target: target; rf__ntrees=61, rf__min_rows=45, mcf__threshold=0.834006244292, rf__max_depth=10, nzv__threshold=0.0643565129722, score=0.887324 -   5.3s\n",
      "\n",
      "\n",
      "\n",
      "Fitting best hyperparameters across all folds\n",
      "[BEST] Target: target; rf__ntrees=84, rf__min_rows=32, mcf__threshold=0.960044553383, rf__max_depth=11, nzv__threshold=0.0731239214356 \n",
      "drf Model Build progress: |███████████████████████████████████████████████████████████████████| 100%\n"
     ]
    },
    {
     "data": {
      "text/plain": [
       "H2ORandomizedSearchCV(cv=H2OKFold(n_folds=3, random_state=2016, shuffle=True),\n",
       "           estimator=None,\n",
       "           feature_names=['mean radius', 'mean texture', 'mean perimeter', 'mean area', 'mean smoothness', 'mean compactness', 'mean concavity', 'mean concave points', 'mean symmetry', 'mean fractal dimension', 'radius error', 'texture error', 'perimeter error', 'area error', 'smoothness error', 'compactness e...ompactness', 'worst concavity', 'worst concave points', 'worst symmetry', 'worst fractal dimension'],\n",
       "           iid=True, minimize='bias', n_iter=2, n_jobs=1,\n",
       "           param_grid={'rf__ntrees': <scipy.stats._distn_infrastructure.rv_frozen object at 0x11e74b050>, 'rf__min_rows': <scipy.stats._distn_infrastructure.rv_frozen object at 0x11e74b590>, 'mcf__threshold': <scipy.stats._distn_infrastructure.rv_frozen object at 0x11e4d1450>, 'rf__max_depth': <scipy.stats._distn_infrastructure.rv_frozen object at 0x11e74be50>, 'nzv__threshold': <scipy.stats._distn_infrastructure.rv_frozen object at 0x11e72aad0>},\n",
       "           random_state=2016, scoring='accuracy_score', scoring_params={},\n",
       "           target_feature='target', validation_frame=None, verbose=3)"
      ]
     },
     "execution_count": 18,
     "metadata": {},
     "output_type": "execute_result"
    }
   ],
   "source": [
    "from skutil.h2o import H2ORandomizedSearchCV\n",
    "from skutil.h2o import H2OKFold\n",
    "from scipy.stats import uniform, randint\n",
    "\n",
    "# define our random state\n",
    "rand_state = 2016\n",
    "\n",
    "# we have the option to choose the model that maximizes CV scores,\n",
    "# or the model that minimizes std deviations between CV scores.\n",
    "# let's choose the former for this example\n",
    "minimize = 'bias'\n",
    "\n",
    "# let's redefine our pipeline\n",
    "pipe = H2OPipeline([\n",
    "        ('nzv', H2ONearZeroVarianceFilterer()),\n",
    "        ('mcf', H2OMulticollinearityFilterer()),\n",
    "        ('rf' , H2ORandomForestEstimator(seed=rand_state))\n",
    "    ])\n",
    "\n",
    "# our hyperparameters over which to search...\n",
    "hyper = {\n",
    "    'nzv__threshold'    : uniform(1e-4,1e-1),  # see scipy.stats.uniform:\n",
    "    'mcf__threshold'    : uniform(0.7, 0.29),  # uniform in range (0.7 + 0.29)\n",
    "    'rf__ntrees'        : randint(50, 100),\n",
    "    'rf__max_depth'     : randint(10, 12),\n",
    "    'rf__min_rows'      : randint(25, 50)\n",
    "}\n",
    "\n",
    "# define our grid search\n",
    "search = H2ORandomizedSearchCV(\n",
    "        estimator=pipe,\n",
    "        param_grid=hyper,\n",
    "        feature_names=x,\n",
    "        target_feature=y,\n",
    "        n_iter=2, # keep it small for our demo...\n",
    "        random_state=rand_state,\n",
    "        scoring='accuracy_score',\n",
    "        cv=H2OKFold(n_folds=3, shuffle=True, random_state=rand_state),\n",
    "        verbose=3,\n",
    "        minimize=minimize\n",
    "    )\n",
    "\n",
    "# fit\n",
    "search.fit(X_train)"
   ]
  },
  {
   "cell_type": "markdown",
   "metadata": {
    "nbpresent": {
     "id": "c321b4ec-a4cf-4f8a-9b58-98122aacba21"
    }
   },
   "source": [
    "### Model evaluation\n",
    "\n",
    "Beyond merely observing our validation set score, we can dig into the cross validation scores of each model in our H2O grid search, and select the model that has not only the best mean score, but the model that minimizes variability in the CV scores."
   ]
  },
  {
   "cell_type": "code",
   "execution_count": 19,
   "metadata": {
    "collapsed": false,
    "nbpresent": {
     "id": "5a7125c4-0536-4dc1-8a97-98370310863f"
    }
   },
   "outputs": [
    {
     "data": {
      "image/png": "[encoded data removed]",
      "text/plain": [
       "<matplotlib.figure.Figure at 0x11e734e90>"
      ]
     },
     "metadata": {},
     "output_type": "display_data"
    },
    {
     "data": {
      "image/png": "[encoded data removed]",
      "text/plain": [
       "<matplotlib.figure.Figure at 0x11eabeb90>"
      ]
     },
     "metadata": {},
     "output_type": "display_data"
    },
    {
     "data": {
      "image/png": "[encoded data removed]",
      "text/plain": [
       "<matplotlib.figure.Figure at 0x11ec0c350>"
      ]
     },
     "metadata": {},
     "output_type": "display_data"
    },
    {
     "data": {
      "image/png": "[encoded data removed]",
      "text/plain": [
       "<matplotlib.figure.Figure at 0x11ee49750>"
      ]
     },
     "metadata": {},
     "output_type": "display_data"
    },
    {
     "data": {
      "image/png": "[encoded data removed]",
      "text/plain": [
       "<matplotlib.figure.Figure at 0x11ef9d790>"
      ]
     },
     "metadata": {},
     "output_type": "display_data"
    },
    {
     "data": {
      "text/html": [
       "<div>\n",
       "<table border=\"1\" class=\"dataframe\">\n",
       "  <thead>\n",
       "    <tr style=\"text-align: right;\">\n",
       "      <th></th>\n",
       "      <th>mcf__threshold</th>\n",
       "      <th>nzv__threshold</th>\n",
       "      <th>rf__max_depth</th>\n",
       "      <th>rf__min_rows</th>\n",
       "      <th>rf__ntrees</th>\n",
       "      <th>score</th>\n",
       "      <th>std</th>\n",
       "    </tr>\n",
       "  </thead>\n",
       "  <tbody>\n",
       "    <tr>\n",
       "      <th>0</th>\n",
       "      <td>0.960045</td>\n",
       "      <td>0.073124</td>\n",
       "      <td>11</td>\n",
       "      <td>32</td>\n",
       "      <td>84</td>\n",
       "      <td>0.922535</td>\n",
       "      <td>0.073901</td>\n",
       "    </tr>\n",
       "    <tr>\n",
       "      <th>1</th>\n",
       "      <td>0.834006</td>\n",
       "      <td>0.064357</td>\n",
       "      <td>10</td>\n",
       "      <td>45</td>\n",
       "      <td>61</td>\n",
       "      <td>0.908451</td>\n",
       "      <td>0.068551</td>\n",
       "    </tr>\n",
       "  </tbody>\n",
       "</table>\n",
       "</div>"
      ],
      "text/plain": [
       "   mcf__threshold  nzv__threshold  rf__max_depth  rf__min_rows  rf__ntrees  \\\n",
       "0        0.960045        0.073124             11            32          84   \n",
       "1        0.834006        0.064357             10            45          61   \n",
       "\n",
       "      score       std  \n",
       "0  0.922535  0.073901  \n",
       "1  0.908451  0.068551  "
      ]
     },
     "execution_count": 19,
     "metadata": {},
     "output_type": "execute_result"
    }
   ],
   "source": [
    "from skutil.utils import report_grid_score_detail\n",
    "\n",
    "# now let's look deeper...\n",
    "sort_by = 'std' if minimize == 'variance' else 'score'\n",
    "report_grid_score_detail(search, charts=True, sort_results=True, \n",
    "                         ascending=minimize=='variance',\n",
    "                         sort_by=sort_by)"
   ]
  },
  {
   "cell_type": "markdown",
   "metadata": {
    "nbpresent": {
     "id": "72d725d4-a1aa-487a-8df5-05e2fd13400c"
    }
   },
   "source": [
    "### Variable importance\n",
    "\n",
    "We can easily extract the best model's variable importances like so:"
   ]
  },
  {
   "cell_type": "code",
   "execution_count": 20,
   "metadata": {
    "collapsed": false,
    "nbpresent": {
     "id": "f936ced4-e9b8-4789-8dd7-00110dfabc07"
    }
   },
   "outputs": [
    {
     "data": {
      "text/html": [
       "<div>\n",
       "<table border=\"1\" class=\"dataframe\">\n",
       "  <thead>\n",
       "    <tr style=\"text-align: right;\">\n",
       "      <th></th>\n",
       "      <th>variable</th>\n",
       "      <th>relative_importance</th>\n",
       "      <th>scaled_importance</th>\n",
       "      <th>percentage</th>\n",
       "    </tr>\n",
       "  </thead>\n",
       "  <tbody>\n",
       "    <tr>\n",
       "      <th>0</th>\n",
       "      <td>worst area</td>\n",
       "      <td>2023.382446</td>\n",
       "      <td>1.000000</td>\n",
       "      <td>0.375825</td>\n",
       "    </tr>\n",
       "    <tr>\n",
       "      <th>1</th>\n",
       "      <td>mean radius</td>\n",
       "      <td>1680.709229</td>\n",
       "      <td>0.830643</td>\n",
       "      <td>0.312177</td>\n",
       "    </tr>\n",
       "    <tr>\n",
       "      <th>2</th>\n",
       "      <td>area error</td>\n",
       "      <td>1002.707581</td>\n",
       "      <td>0.495560</td>\n",
       "      <td>0.186244</td>\n",
       "    </tr>\n",
       "    <tr>\n",
       "      <th>3</th>\n",
       "      <td>mean texture</td>\n",
       "      <td>350.455719</td>\n",
       "      <td>0.173203</td>\n",
       "      <td>0.065094</td>\n",
       "    </tr>\n",
       "    <tr>\n",
       "      <th>4</th>\n",
       "      <td>worst texture</td>\n",
       "      <td>175.689484</td>\n",
       "      <td>0.086830</td>\n",
       "      <td>0.032633</td>\n",
       "    </tr>\n",
       "    <tr>\n",
       "      <th>5</th>\n",
       "      <td>perimeter error</td>\n",
       "      <td>145.774796</td>\n",
       "      <td>0.072045</td>\n",
       "      <td>0.027076</td>\n",
       "    </tr>\n",
       "    <tr>\n",
       "      <th>6</th>\n",
       "      <td>texture error</td>\n",
       "      <td>5.121491</td>\n",
       "      <td>0.002531</td>\n",
       "      <td>0.000951</td>\n",
       "    </tr>\n",
       "  </tbody>\n",
       "</table>\n",
       "</div>"
      ],
      "text/plain": [
       "          variable  relative_importance  scaled_importance  percentage\n",
       "0       worst area          2023.382446           1.000000    0.375825\n",
       "1      mean radius          1680.709229           0.830643    0.312177\n",
       "2       area error          1002.707581           0.495560    0.186244\n",
       "3     mean texture           350.455719           0.173203    0.065094\n",
       "4    worst texture           175.689484           0.086830    0.032633\n",
       "5  perimeter error           145.774796           0.072045    0.027076\n",
       "6    texture error             5.121491           0.002531    0.000951"
      ]
     },
     "execution_count": 20,
     "metadata": {},
     "output_type": "execute_result"
    }
   ],
   "source": [
    "search.varimp()"
   ]
  },
  {
   "cell_type": "markdown",
   "metadata": {
    "nbpresent": {
     "id": "5ed31b93-4403-439a-a631-85b290e2b4c4"
    }
   },
   "source": [
    "### Model evaluation&mdash;introduce the *validation* set\n",
    "\n",
    "So our best estimator achieves a mean cross validation accuracy of 93%! We can predict on our best estimator as follows:"
   ]
  },
  {
   "cell_type": "code",
   "execution_count": 21,
   "metadata": {
    "collapsed": false,
    "nbpresent": {
     "id": "fdae0e3f-a70b-4278-88d0-de6d5a7480af"
    }
   },
   "outputs": [
    {
     "name": "stdout",
     "output_type": "stream",
     "text": [
      "drf prediction progress: |████████████████████████████████████████████████████████████████████| 100%\n",
      "Validation accuracy: 0.89437\n"
     ]
    },
    {
     "data": {
      "text/html": [
       "<table>\n",
       "<tr><th style=\"text-align: right;\">  predict</th><th style=\"text-align: right;\">      p0</th><th style=\"text-align: right;\">        p1</th></tr>\n",
       "<tr><td style=\"text-align: right;\">        0</td><td style=\"text-align: right;\">0.841681</td><td style=\"text-align: right;\">0.158319  </td></tr>\n",
       "<tr><td style=\"text-align: right;\">        1</td><td style=\"text-align: right;\">0.122403</td><td style=\"text-align: right;\">0.877597  </td></tr>\n",
       "<tr><td style=\"text-align: right;\">        0</td><td style=\"text-align: right;\">0.639047</td><td style=\"text-align: right;\">0.360953  </td></tr>\n",
       "<tr><td style=\"text-align: right;\">        0</td><td style=\"text-align: right;\">0.85755 </td><td style=\"text-align: right;\">0.14245   </td></tr>\n",
       "<tr><td style=\"text-align: right;\">        0</td><td style=\"text-align: right;\">0.825957</td><td style=\"text-align: right;\">0.174043  </td></tr>\n",
       "<tr><td style=\"text-align: right;\">        0</td><td style=\"text-align: right;\">0.984232</td><td style=\"text-align: right;\">0.0157683 </td></tr>\n",
       "<tr><td style=\"text-align: right;\">        0</td><td style=\"text-align: right;\">0.706336</td><td style=\"text-align: right;\">0.293664  </td></tr>\n",
       "<tr><td style=\"text-align: right;\">        1</td><td style=\"text-align: right;\">0.120702</td><td style=\"text-align: right;\">0.879298  </td></tr>\n",
       "<tr><td style=\"text-align: right;\">        0</td><td style=\"text-align: right;\">0.994637</td><td style=\"text-align: right;\">0.00536294</td></tr>\n",
       "<tr><td style=\"text-align: right;\">        0</td><td style=\"text-align: right;\">0.365147</td><td style=\"text-align: right;\">0.634853  </td></tr>\n",
       "</table>"
      ]
     },
     "metadata": {},
     "output_type": "display_data"
    },
    {
     "data": {
      "text/plain": []
     },
     "execution_count": 21,
     "metadata": {},
     "output_type": "execute_result"
    }
   ],
   "source": [
    "val_preds = search.predict(X_val)\n",
    "\n",
    "# print accuracy\n",
    "print('Validation accuracy: %.5f' % h2o_accuracy_score(actual, val_preds['predict']))\n",
    "val_preds.head()"
   ]
  },
  {
   "cell_type": "markdown",
   "metadata": {
    "nbpresent": {
     "id": "9e751268-1c5e-4881-b6cd-0199eb11f5a9"
    }
   },
   "source": [
    "### Model selection\n",
    "\n",
    "(__Not shown:__ other models we built and evaluated against the validation set (once!)&mdash;we only introduce the holdout set at the __*very*__ end)\n",
    "\n",
    "In a real situation, you probably will have a holdout set, and will have built several models. After you have a collection of models and you'd like to select one, you introduce the holdout set only *once*!"
   ]
  },
  {
   "cell_type": "markdown",
   "metadata": {
    "collapsed": true,
    "nbpresent": {
     "id": "4c4c48c6-1d76-4f79-9252-a36d663894db"
    }
   },
   "source": [
    "## Model persistence\n",
    "\n",
    "When we find a model that performs well, we can save it to disk for later use:"
   ]
  },
  {
   "cell_type": "code",
   "execution_count": 22,
   "metadata": {
    "collapsed": false,
    "nbpresent": {
     "id": "0488b871-c665-493b-ae64-1b2ff302f643"
    }
   },
   "outputs": [],
   "source": [
    "import os\n",
    "\n",
    "# get absolute path\n",
    "cwd = os.getcwd()\n",
    "model_path = os.path.join(cwd, 'grid.pkl')\n",
    "\n",
    "# save -- it's that easy!!!\n",
    "search.save(location=model_path, warn_if_exists=False)"
   ]
  },
  {
   "cell_type": "markdown",
   "metadata": {
    "nbpresent": {
     "id": "2be88e37-c3fd-4a7e-bf1b-4f80ff1f84ee"
    }
   },
   "source": [
    "### Loading and making predictions"
   ]
  },
  {
   "cell_type": "code",
   "execution_count": 23,
   "metadata": {
    "collapsed": false,
    "nbpresent": {
     "id": "4873ec98-24ce-41ee-b7cf-2355059d4cdd"
    }
   },
   "outputs": [
    {
     "name": "stdout",
     "output_type": "stream",
     "text": [
      "drf prediction progress: |████████████████████████████████████████████████████████████████████| 100%\n"
     ]
    },
    {
     "data": {
      "text/html": [
       "<table>\n",
       "<tr><th style=\"text-align: right;\">  predict</th><th style=\"text-align: right;\">      p0</th><th style=\"text-align: right;\">        p1</th></tr>\n",
       "<tr><td style=\"text-align: right;\">        0</td><td style=\"text-align: right;\">0.841681</td><td style=\"text-align: right;\">0.158319  </td></tr>\n",
       "<tr><td style=\"text-align: right;\">        1</td><td style=\"text-align: right;\">0.122403</td><td style=\"text-align: right;\">0.877597  </td></tr>\n",
       "<tr><td style=\"text-align: right;\">        0</td><td style=\"text-align: right;\">0.639047</td><td style=\"text-align: right;\">0.360953  </td></tr>\n",
       "<tr><td style=\"text-align: right;\">        0</td><td style=\"text-align: right;\">0.85755 </td><td style=\"text-align: right;\">0.14245   </td></tr>\n",
       "<tr><td style=\"text-align: right;\">        0</td><td style=\"text-align: right;\">0.825957</td><td style=\"text-align: right;\">0.174043  </td></tr>\n",
       "<tr><td style=\"text-align: right;\">        0</td><td style=\"text-align: right;\">0.984232</td><td style=\"text-align: right;\">0.0157683 </td></tr>\n",
       "<tr><td style=\"text-align: right;\">        0</td><td style=\"text-align: right;\">0.706336</td><td style=\"text-align: right;\">0.293664  </td></tr>\n",
       "<tr><td style=\"text-align: right;\">        1</td><td style=\"text-align: right;\">0.120702</td><td style=\"text-align: right;\">0.879298  </td></tr>\n",
       "<tr><td style=\"text-align: right;\">        0</td><td style=\"text-align: right;\">0.994637</td><td style=\"text-align: right;\">0.00536294</td></tr>\n",
       "<tr><td style=\"text-align: right;\">        0</td><td style=\"text-align: right;\">0.365147</td><td style=\"text-align: right;\">0.634853  </td></tr>\n",
       "</table>"
      ]
     },
     "metadata": {},
     "output_type": "display_data"
    },
    {
     "data": {
      "text/plain": []
     },
     "execution_count": 23,
     "metadata": {},
     "output_type": "execute_result"
    }
   ],
   "source": [
    "search = H2ORandomizedSearchCV.load(model_path)\n",
    "new_predictions = search.predict(X_val)\n",
    "new_predictions.head()"
   ]
  },
  {
   "cell_type": "markdown",
   "metadata": {
    "nbpresent": {
     "id": "3ff573c1-b25d-418c-bc02-3582026037dc"
    }
   },
   "source": [
    "# Cleanup\n",
    "\n",
    "Always make sure to shut down your cluster..."
   ]
  },
  {
   "cell_type": "code",
   "execution_count": 24,
   "metadata": {
    "collapsed": false,
    "nbpresent": {
     "id": "ea438417-be19-454a-881c-865b1cfa868e"
    }
   },
   "outputs": [
    {
     "name": "stdout",
     "output_type": "stream",
     "text": [
      "H2O session _sid_a050 closed.\n"
     ]
    }
   ],
   "source": [
    "h2o.shutdown(prompt=False) # shutdown cluster\n",
    "os.unlink(model_path) # remove the pickle file..."
   ]
  },
  {
   "cell_type": "code",
   "execution_count": null,
   "metadata": {
    "collapsed": true
   },
   "outputs": [],
   "source": []
  }
 ],
 "metadata": {
  "anaconda-cloud": {},
  "kernelspec": {
   "display_name": "Python [Root]",
   "language": "python",
   "name": "Python [Root]"
  },
  "language_info": {
   "codemirror_mode": {
    "name": "ipython",
    "version": 2
   },
   "file_extension": ".py",
   "mimetype": "text/x-python",
   "name": "python",
   "nbconvert_exporter": "python",
   "pygments_lexer": "ipython2",
   "version": "2.7.12"
  },
  "nbpresent": {
   "slides": {
    "03a9ae53-9782-4236-bdc9-a4837962a962": {
     "id": "03a9ae53-9782-4236-bdc9-a4837962a962",
     "prev": "c5d939ec-2cd5-4c4b-aa33-5baf38152c56",
     "regions": {
      "ca256e0a-2fa1-4994-8e73-83c7089bae6a": {
       "attrs": {
        "height": 0.8,
        "width": 0.8,
        "x": 0.1,
        "y": 0.1
       },
       "content": {
        "cell": "1ddcd5b3-1dbc-406d-bb21-2939c392dbf0",
        "part": "whole"
       },
       "id": "ca256e0a-2fa1-4994-8e73-83c7089bae6a"
      }
     }
    },
    "07d173e4-c4f4-415e-9548-a700cf839a0c": {
     "id": "07d173e4-c4f4-415e-9548-a700cf839a0c",
     "prev": "a1e797b2-b189-4dc2-bc05-7a500fd3634b",
     "regions": {
      "77617134-885a-4401-b7bf-d08c8ecfa94c": {
       "attrs": {
        "height": 0.8,
        "width": 0.8,
        "x": 0.1,
        "y": 0.1
       },
       "content": {
        "cell": "c321b4ec-a4cf-4f8a-9b58-98122aacba21",
        "part": "whole"
       },
       "id": "77617134-885a-4401-b7bf-d08c8ecfa94c"
      }
     }
    },
    "0d74ac6d-acd7-496a-9a87-444a664651d6": {
     "id": "0d74ac6d-acd7-496a-9a87-444a664651d6",
     "prev": "23eb3a87-9803-45f6-87f0-47dce91e3acf",
     "regions": {
      "5c502312-7f34-4568-9bf9-ad1aeabe1dd3": {
       "attrs": {
        "height": 0.8,
        "width": 0.8,
        "x": 0.1,
        "y": 0.1
       },
       "content": {
        "cell": "f268dc15-df8f-4c66-9c25-1bc4f4975bd8",
        "part": "whole"
       },
       "id": "5c502312-7f34-4568-9bf9-ad1aeabe1dd3"
      }
     }
    },
    "0ddc475d-af23-41bd-9d46-649f131e8566": {
     "id": "0ddc475d-af23-41bd-9d46-649f131e8566",
     "prev": "74966f12-b222-4853-9e27-18de1dbded99",
     "regions": {
      "32e698d3-a82b-422f-bf30-dc05a5e143dd": {
       "attrs": {
        "height": 0.8,
        "width": 0.8,
        "x": 0.1,
        "y": 0.1
       },
       "content": {
        "cell": "702f94b5-f9a8-4b1e-a1fd-8c3ae09c1499",
        "part": "whole"
       },
       "id": "32e698d3-a82b-422f-bf30-dc05a5e143dd"
      }
     }
    },
    "0e54e5be-82f8-403b-9548-667246ce57c1": {
     "id": "0e54e5be-82f8-403b-9548-667246ce57c1",
     "prev": null,
     "regions": {
      "be93b079-1211-4f53-af17-0d3a91e51ea7": {
       "attrs": {
        "height": 0.8,
        "width": 0.8,
        "x": 0.1,
        "y": 0.1
       },
       "content": {
        "cell": "e40ee276-0e47-446d-9cb5-a2726ab4d808",
        "part": "whole"
       },
       "id": "be93b079-1211-4f53-af17-0d3a91e51ea7"
      }
     }
    },
    "1d9a9a0c-0bfd-4fb5-b397-c11e3852ebfa": {
     "id": "1d9a9a0c-0bfd-4fb5-b397-c11e3852ebfa",
     "prev": "7da8e7da-f9ec-49e3-b37d-13b354f1607c",
     "regions": {
      "f14e60c4-5e2a-4d93-b596-50aff7de2884": {
       "attrs": {
        "height": 0.8,
        "width": 0.8,
        "x": 0.1,
        "y": 0.1
       },
       "content": {
        "cell": "5ed31b93-4403-439a-a631-85b290e2b4c4",
        "part": "whole"
       },
       "id": "f14e60c4-5e2a-4d93-b596-50aff7de2884"
      }
     }
    },
    "1fd2f8a5-bf25-4670-b14f-d8c52417fcb9": {
     "id": "1fd2f8a5-bf25-4670-b14f-d8c52417fcb9",
     "prev": "7f0c5f6b-907e-46d0-939d-a9ca2f1d8671",
     "regions": {
      "ee36ded7-72a6-4601-9d16-34b70cb968ba": {
       "attrs": {
        "height": 0.8,
        "width": 0.8,
        "x": 0.1,
        "y": 0.1
       },
       "content": {
        "cell": "f54124a4-dd65-4fe7-8ab2-ccb8c6e2841e",
        "part": "whole"
       },
       "id": "ee36ded7-72a6-4601-9d16-34b70cb968ba"
      }
     }
    },
    "2202ba39-c4fb-45d7-b216-fa6161484b7c": {
     "id": "2202ba39-c4fb-45d7-b216-fa6161484b7c",
     "prev": "24b70c01-685a-4e49-b2ad-52c11d4c95c6",
     "regions": {
      "4ce57692-b3c0-48c2-a5b3-e9f6183f5dce": {
       "attrs": {
        "height": 0.8,
        "width": 0.8,
        "x": 0.1,
        "y": 0.1
       },
       "content": {
        "cell": "be95967e-06b3-4517-af63-9044c91353fe",
        "part": "whole"
       },
       "id": "4ce57692-b3c0-48c2-a5b3-e9f6183f5dce"
      }
     }
    },
    "23eb3a87-9803-45f6-87f0-47dce91e3acf": {
     "id": "23eb3a87-9803-45f6-87f0-47dce91e3acf",
     "prev": "ce613ad2-59ad-4d2e-a778-8e7ddad0132c",
     "regions": {
      "31ee560a-6af4-46f7-92da-41e201f700f0": {
       "attrs": {
        "height": 0.8,
        "width": 0.8,
        "x": 0.1,
        "y": 0.1
       },
       "content": {
        "cell": "7d2929a6-a95d-4138-a961-b8af9935cc00",
        "part": "whole"
       },
       "id": "31ee560a-6af4-46f7-92da-41e201f700f0"
      }
     }
    },
    "24b70c01-685a-4e49-b2ad-52c11d4c95c6": {
     "id": "24b70c01-685a-4e49-b2ad-52c11d4c95c6",
     "prev": "6d614423-f6bb-4f4f-aeb1-f346285740bb",
     "regions": {
      "4b74b883-3253-4a17-a7a7-a393993f0daf": {
       "attrs": {
        "height": 0.8,
        "width": 0.8,
        "x": 0.1,
        "y": 0.1
       },
       "content": {
        "cell": "3ebdb793-a221-478f-94a9-0b29c6b39545",
        "part": "whole"
       },
       "id": "4b74b883-3253-4a17-a7a7-a393993f0daf"
      }
     }
    },
    "4c8d01a2-b29b-4052-a5ce-c80e0db7b97f": {
     "id": "4c8d01a2-b29b-4052-a5ce-c80e0db7b97f",
     "prev": "7b2c6868-11f2-4aa5-adfd-b2521ec23e93",
     "regions": {
      "2f6d1935-51c4-498b-a4a8-f6ab34507cab": {
       "attrs": {
        "height": 0.8,
        "width": 0.8,
        "x": 0.1,
        "y": 0.1
       },
       "content": {
        "cell": "9e751268-1c5e-4881-b6cd-0199eb11f5a9",
        "part": "whole"
       },
       "id": "2f6d1935-51c4-498b-a4a8-f6ab34507cab"
      }
     }
    },
    "4d83aa1e-a6c8-4290-84a3-9cc440fb7f37": {
     "id": "4d83aa1e-a6c8-4290-84a3-9cc440fb7f37",
     "prev": "90b7fca1-1608-4135-9c68-68f1fe2c0dc0",
     "regions": {
      "57063146-2b07-4369-a61e-8e6052c330b0": {
       "attrs": {
        "height": 0.8,
        "width": 0.8,
        "x": 0.1,
        "y": 0.1
       },
       "content": {
        "cell": "4873ec98-24ce-41ee-b7cf-2355059d4cdd",
        "part": "whole"
       },
       "id": "57063146-2b07-4369-a61e-8e6052c330b0"
      }
     }
    },
    "4fe9de30-d9a2-4a37-94dc-67c4f06dd8be": {
     "id": "4fe9de30-d9a2-4a37-94dc-67c4f06dd8be",
     "prev": "e6a59638-043b-4c6c-9d6c-175021efe0ee",
     "regions": {
      "61f1a5f8-b5e0-4366-880c-5ef3c218a18c": {
       "attrs": {
        "height": 0.8,
        "width": 0.8,
        "x": 0.1,
        "y": 0.1
       },
       "content": {
        "cell": "946fb68c-4d40-44b7-915d-8c611f5a7252",
        "part": "whole"
       },
       "id": "61f1a5f8-b5e0-4366-880c-5ef3c218a18c"
      }
     }
    },
    "5238ac1b-9d38-4f72-a313-e1decdbb81a4": {
     "id": "5238ac1b-9d38-4f72-a313-e1decdbb81a4",
     "prev": "07d173e4-c4f4-415e-9548-a700cf839a0c",
     "regions": {
      "80f4a666-dcea-4645-969d-d69e9f9aee03": {
       "attrs": {
        "height": 0.8,
        "width": 0.8,
        "x": 0.1,
        "y": 0.1
       },
       "content": {
        "cell": "5a7125c4-0536-4dc1-8a97-98370310863f",
        "part": "whole"
       },
       "id": "80f4a666-dcea-4645-969d-d69e9f9aee03"
      }
     }
    },
    "6d614423-f6bb-4f4f-aeb1-f346285740bb": {
     "id": "6d614423-f6bb-4f4f-aeb1-f346285740bb",
     "prev": "0ddc475d-af23-41bd-9d46-649f131e8566",
     "regions": {
      "4cbc734a-6056-414e-b82a-7df4f936e463": {
       "attrs": {
        "height": 0.8,
        "width": 0.8,
        "x": 0.1,
        "y": 0.1
       },
       "content": {
        "cell": "064bf24e-45b0-43d3-b527-00d488987068",
        "part": "whole"
       },
       "id": "4cbc734a-6056-414e-b82a-7df4f936e463"
      }
     }
    },
    "7361b218-63de-41e2-b9b8-54fa714713f2": {
     "id": "7361b218-63de-41e2-b9b8-54fa714713f2",
     "prev": "03a9ae53-9782-4236-bdc9-a4837962a962",
     "regions": {
      "bfe15be8-84a6-4823-b522-9206ae90ee91": {
       "attrs": {
        "height": 0.8,
        "width": 0.8,
        "x": 0.1,
        "y": 0.1
       },
       "content": {
        "cell": "4f321235-91a0-42da-b8af-103d82a39985",
        "part": "whole"
       },
       "id": "bfe15be8-84a6-4823-b522-9206ae90ee91"
      }
     }
    },
    "74966f12-b222-4853-9e27-18de1dbded99": {
     "id": "74966f12-b222-4853-9e27-18de1dbded99",
     "prev": "c59ea7ae-84fc-47db-98eb-0a29e2804a7b",
     "regions": {
      "09ad1557-4c02-4949-8bb4-fa7931a18a08": {
       "attrs": {
        "height": 0.8,
        "width": 0.8,
        "x": 0.1,
        "y": 0.1
       },
       "content": {
        "cell": "27364216-1b49-4397-8b3d-702c5bb25f55",
        "part": "whole"
       },
       "id": "09ad1557-4c02-4949-8bb4-fa7931a18a08"
      }
     }
    },
    "789168c2-fda6-45da-8867-6dec22570da0": {
     "id": "789168c2-fda6-45da-8867-6dec22570da0",
     "prev": "1fd2f8a5-bf25-4670-b14f-d8c52417fcb9",
     "regions": {
      "04ecb422-12e6-4af9-a0e2-01449afdeab5": {
       "attrs": {
        "height": 0.8,
        "width": 0.8,
        "x": 0.1,
        "y": 0.1
       },
       "content": {
        "cell": "3ab23ca3-6296-462c-8123-c06dc6a1dc1d",
        "part": "whole"
       },
       "id": "04ecb422-12e6-4af9-a0e2-01449afdeab5"
      }
     }
    },
    "7b2c6868-11f2-4aa5-adfd-b2521ec23e93": {
     "id": "7b2c6868-11f2-4aa5-adfd-b2521ec23e93",
     "prev": "1d9a9a0c-0bfd-4fb5-b397-c11e3852ebfa",
     "regions": {
      "79919c22-09b9-4ad0-be91-49c90fc62924": {
       "attrs": {
        "height": 0.8,
        "width": 0.8,
        "x": 0.1,
        "y": 0.1
       },
       "content": {
        "cell": "fdae0e3f-a70b-4278-88d0-de6d5a7480af",
        "part": "whole"
       },
       "id": "79919c22-09b9-4ad0-be91-49c90fc62924"
      }
     }
    },
    "7da8e7da-f9ec-49e3-b37d-13b354f1607c": {
     "id": "7da8e7da-f9ec-49e3-b37d-13b354f1607c",
     "prev": "e87c1065-7fa5-4ecb-b420-495e784ecf54",
     "regions": {
      "14242f8d-aa1f-465e-bb63-f379d3d457a6": {
       "attrs": {
        "height": 0.8,
        "width": 0.8,
        "x": 0.1,
        "y": 0.1
       },
       "content": {
        "cell": "f936ced4-e9b8-4789-8dd7-00110dfabc07",
        "part": "whole"
       },
       "id": "14242f8d-aa1f-465e-bb63-f379d3d457a6"
      }
     }
    },
    "7f0c5f6b-907e-46d0-939d-a9ca2f1d8671": {
     "id": "7f0c5f6b-907e-46d0-939d-a9ca2f1d8671",
     "prev": "4fe9de30-d9a2-4a37-94dc-67c4f06dd8be",
     "regions": {
      "24a0a76c-0e1f-42b2-bbc9-e70aca56574b": {
       "attrs": {
        "height": 0.8,
        "width": 0.8,
        "x": 0.1,
        "y": 0.1
       },
       "content": {
        "cell": "3bdfe795-fae0-4f39-af1d-3c93e15d008b",
        "part": "whole"
       },
       "id": "24a0a76c-0e1f-42b2-bbc9-e70aca56574b"
      }
     }
    },
    "81a10c59-cadd-4381-b8ff-fe7e0d0dd94c": {
     "id": "81a10c59-cadd-4381-b8ff-fe7e0d0dd94c",
     "prev": "4c8d01a2-b29b-4052-a5ce-c80e0db7b97f",
     "regions": {
      "5b3c1418-b13c-4db8-942a-8b22f5775af9": {
       "attrs": {
        "height": 0.8,
        "width": 0.8,
        "x": 0.1,
        "y": 0.1
       },
       "content": {
        "cell": "4c4c48c6-1d76-4f79-9252-a36d663894db",
        "part": "whole"
       },
       "id": "5b3c1418-b13c-4db8-942a-8b22f5775af9"
      }
     }
    },
    "85fc3d71-4c6e-472a-ba2c-4532d870de5b": {
     "id": "85fc3d71-4c6e-472a-ba2c-4532d870de5b",
     "prev": "4d83aa1e-a6c8-4290-84a3-9cc440fb7f37",
     "regions": {
      "8a4cf449-0e69-40cf-9efa-f3f508b491e8": {
       "attrs": {
        "height": 0.8,
        "width": 0.8,
        "x": 0.1,
        "y": 0.1
       },
       "content": {
        "cell": "3ff573c1-b25d-418c-bc02-3582026037dc",
        "part": "whole"
       },
       "id": "8a4cf449-0e69-40cf-9efa-f3f508b491e8"
      }
     }
    },
    "90b7fca1-1608-4135-9c68-68f1fe2c0dc0": {
     "id": "90b7fca1-1608-4135-9c68-68f1fe2c0dc0",
     "prev": "c2e3adce-4b3f-411d-a0e9-e2ed0efc77e0",
     "regions": {
      "e9d10e81-4633-482d-a37c-bb5f6534e89c": {
       "attrs": {
        "height": 0.8,
        "width": 0.8,
        "x": 0.1,
        "y": 0.1
       },
       "content": {
        "cell": "2be88e37-c3fd-4a7e-bf1b-4f80ff1f84ee",
        "part": "whole"
       },
       "id": "e9d10e81-4633-482d-a37c-bb5f6534e89c"
      }
     }
    },
    "a1e797b2-b189-4dc2-bc05-7a500fd3634b": {
     "id": "a1e797b2-b189-4dc2-bc05-7a500fd3634b",
     "prev": "f1978111-3b26-4336-a4d0-3b773a2d636c",
     "regions": {
      "e5557784-b6eb-4bed-9969-1effef0c048a": {
       "attrs": {
        "height": 0.8,
        "width": 0.8,
        "x": 0.1,
        "y": 0.1
       },
       "content": {
        "cell": "29a17836-e787-4a0c-a3a9-34aec370fc27",
        "part": "whole"
       },
       "id": "e5557784-b6eb-4bed-9969-1effef0c048a"
      }
     }
    },
    "c2e3adce-4b3f-411d-a0e9-e2ed0efc77e0": {
     "id": "c2e3adce-4b3f-411d-a0e9-e2ed0efc77e0",
     "prev": "81a10c59-cadd-4381-b8ff-fe7e0d0dd94c",
     "regions": {
      "4f3c0bdc-8f9c-4660-b50c-445ed4c5f321": {
       "attrs": {
        "height": 0.8,
        "width": 0.8,
        "x": 0.1,
        "y": 0.1
       },
       "content": {
        "cell": "0488b871-c665-493b-ae64-1b2ff302f643",
        "part": "whole"
       },
       "id": "4f3c0bdc-8f9c-4660-b50c-445ed4c5f321"
      }
     }
    },
    "c59ea7ae-84fc-47db-98eb-0a29e2804a7b": {
     "id": "c59ea7ae-84fc-47db-98eb-0a29e2804a7b",
     "prev": "cd30cdd7-3986-4779-bfe9-59b430ea7e5d",
     "regions": {
      "0cf12ffb-1869-437f-b9de-dfb4a89092a1": {
       "attrs": {
        "height": 0.8,
        "width": 0.8,
        "x": 0.1,
        "y": 0.1
       },
       "content": {
        "cell": "00cc48f1-fde8-42de-bc83-de2531b98085",
        "part": "whole"
       },
       "id": "0cf12ffb-1869-437f-b9de-dfb4a89092a1"
      }
     }
    },
    "c5d939ec-2cd5-4c4b-aa33-5baf38152c56": {
     "id": "c5d939ec-2cd5-4c4b-aa33-5baf38152c56",
     "prev": "0d74ac6d-acd7-496a-9a87-444a664651d6",
     "regions": {
      "571e2ce4-5559-4c82-98f4-39921d3b5909": {
       "attrs": {
        "height": 0.8,
        "width": 0.8,
        "x": 0.1,
        "y": 0.1
       },
       "content": {
        "cell": "e9304a3e-cc32-47cf-bce4-9077bcd27cec",
        "part": "whole"
       },
       "id": "571e2ce4-5559-4c82-98f4-39921d3b5909"
      }
     }
    },
    "cd30cdd7-3986-4779-bfe9-59b430ea7e5d": {
     "id": "cd30cdd7-3986-4779-bfe9-59b430ea7e5d",
     "prev": "fa618125-b4d3-463e-b735-3c3f4d3fb6cc",
     "regions": {
      "f60485dc-cb0b-4886-bdd4-2d901153eb62": {
       "attrs": {
        "height": 0.8,
        "width": 0.8,
        "x": 0.1,
        "y": 0.1
       },
       "content": {
        "cell": "a65177dc-6b8b-4a0a-8476-889d40a8b61a",
        "part": "whole"
       },
       "id": "f60485dc-cb0b-4886-bdd4-2d901153eb62"
      }
     }
    },
    "ce613ad2-59ad-4d2e-a778-8e7ddad0132c": {
     "id": "ce613ad2-59ad-4d2e-a778-8e7ddad0132c",
     "prev": "fa109675-ece7-4110-b6ab-c9f75c77a9a4",
     "regions": {
      "9740ddc0-f74c-480b-85e4-007330286594": {
       "attrs": {
        "height": 0.8,
        "width": 0.8,
        "x": 0.1,
        "y": 0.1
       },
       "content": {
        "cell": "5c875288-51d0-4f4b-b496-7f10f6bc40f7",
        "part": "whole"
       },
       "id": "9740ddc0-f74c-480b-85e4-007330286594"
      }
     }
    },
    "e6a59638-043b-4c6c-9d6c-175021efe0ee": {
     "id": "e6a59638-043b-4c6c-9d6c-175021efe0ee",
     "prev": "2202ba39-c4fb-45d7-b216-fa6161484b7c",
     "regions": {
      "333596f2-5ab7-4630-bce0-f690d96eeb41": {
       "attrs": {
        "height": 0.8,
        "width": 0.8,
        "x": 0.1,
        "y": 0.1
       },
       "content": {
        "cell": "8fc9f36a-d7e7-4c2c-ab6f-6b52fddb37d6",
        "part": "whole"
       },
       "id": "333596f2-5ab7-4630-bce0-f690d96eeb41"
      }
     }
    },
    "e833bc03-660c-48b9-9635-f4350cdaeadc": {
     "id": "e833bc03-660c-48b9-9635-f4350cdaeadc",
     "prev": "85fc3d71-4c6e-472a-ba2c-4532d870de5b",
     "regions": {
      "be1da838-379d-4738-82c6-134b4c39e8ed": {
       "attrs": {
        "height": 0.8,
        "width": 0.8,
        "x": 0.1,
        "y": 0.1
       },
       "content": {
        "cell": "ea438417-be19-454a-881c-865b1cfa868e",
        "part": "whole"
       },
       "id": "be1da838-379d-4738-82c6-134b4c39e8ed"
      }
     }
    },
    "e87c1065-7fa5-4ecb-b420-495e784ecf54": {
     "id": "e87c1065-7fa5-4ecb-b420-495e784ecf54",
     "prev": "5238ac1b-9d38-4f72-a313-e1decdbb81a4",
     "regions": {
      "b2f817b3-5e92-4c46-9486-21691ad18cbd": {
       "attrs": {
        "height": 0.8,
        "width": 0.8,
        "x": 0.1,
        "y": 0.1
       },
       "content": {
        "cell": "72d725d4-a1aa-487a-8df5-05e2fd13400c",
        "part": "whole"
       },
       "id": "b2f817b3-5e92-4c46-9486-21691ad18cbd"
      }
     }
    },
    "f1978111-3b26-4336-a4d0-3b773a2d636c": {
     "id": "f1978111-3b26-4336-a4d0-3b773a2d636c",
     "prev": "7361b218-63de-41e2-b9b8-54fa714713f2",
     "regions": {
      "bfd1484a-38b1-4e3f-b957-6c5ab5cb0618": {
       "attrs": {
        "height": 0.8,
        "width": 0.8,
        "x": 0.1,
        "y": 0.1
       },
       "content": {
        "cell": "2211201a-f874-4e4b-b27d-b19c5972faad",
        "part": "whole"
       },
       "id": "bfd1484a-38b1-4e3f-b957-6c5ab5cb0618"
      }
     }
    },
    "fa109675-ece7-4110-b6ab-c9f75c77a9a4": {
     "id": "fa109675-ece7-4110-b6ab-c9f75c77a9a4",
     "prev": "789168c2-fda6-45da-8867-6dec22570da0",
     "regions": {
      "428089fb-1e91-4760-8c2c-1aec6bec5cf1": {
       "attrs": {
        "height": 0.8,
        "width": 0.8,
        "x": 0.1,
        "y": 0.1
       },
       "content": {
        "cell": "dbec16ef-6c3a-4776-99df-9a90e8f84c92",
        "part": "whole"
       },
       "id": "428089fb-1e91-4760-8c2c-1aec6bec5cf1"
      }
     }
    },
    "fa618125-b4d3-463e-b735-3c3f4d3fb6cc": {
     "id": "fa618125-b4d3-463e-b735-3c3f4d3fb6cc",
     "prev": "0e54e5be-82f8-403b-9548-667246ce57c1",
     "regions": {
      "64188d1f-41a5-4237-8230-148f4c2fd3f0": {
       "attrs": {
        "height": 0.8,
        "width": 0.8,
        "x": 0.1,
        "y": 0.1
       },
       "content": {
        "cell": "7ae2e9fe-7296-45d1-bee2-44ae2bcc958a",
        "part": "whole"
       },
       "id": "64188d1f-41a5-4237-8230-148f4c2fd3f0"
      }
     }
    }
   },
   "themes": {}
  }
 },
 "nbformat": 4,
 "nbformat_minor": 0
}
