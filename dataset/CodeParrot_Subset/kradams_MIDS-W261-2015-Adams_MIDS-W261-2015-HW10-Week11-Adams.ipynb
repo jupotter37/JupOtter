{
 "cells": [
  {
   "cell_type": "markdown",
   "metadata": {},
   "source": [
    "#DATASCI W261: Machine Learning at Scale \n",
    "## Week 11, Homework 10\n",
    "##Katrina Adams  \n",
    "__kradams@ischool.berkeley.edu__  \n",
    "__17 November 2015__"
   ]
  },
  {
   "cell_type": "markdown",
   "metadata": {},
   "source": [
    "---"
   ]
  },
  {
   "cell_type": "markdown",
   "metadata": {},
   "source": [
    "__Start Spark__"
   ]
  },
  {
   "cell_type": "code",
   "execution_count": 1,
   "metadata": {
    "collapsed": false
   },
   "outputs": [
    {
     "name": "stdout",
     "output_type": "stream",
     "text": [
      "/Users/davidadams/Documents/W261/hw10\n"
     ]
    }
   ],
   "source": [
    "%cd ~/Documents/W261/hw10/"
   ]
  },
  {
   "cell_type": "code",
   "execution_count": 3,
   "metadata": {
    "collapsed": false
   },
   "outputs": [
    {
     "name": "stdout",
     "output_type": "stream",
     "text": [
      "Welcome to\n",
      "      ____              __\n",
      "     / __/__  ___ _____/ /__\n",
      "    _\\ \\/ _ \\/ _ `/ __/  '_/\n",
      "   /__ / .__/\\_,_/_/ /_/\\_\\   version 1.5.1\n",
      "      /_/\n",
      "\n",
      "Using Python version 2.7.6 (default, Sep  9 2014 15:04:36)\n",
      "SparkContext available as sc, HiveContext available as sqlContext.\n"
     ]
    }
   ],
   "source": [
    "import os\n",
    "import sys\n",
    "\n",
    "spark_home = os.environ['SPARK_HOME'] = \\\n",
    "   '/Users/davidadams/packages/spark-1.5.1-bin-hadoop2.6/'\n",
    "\n",
    "if not spark_home:\n",
    "    raise ValueError('SPARK_HOME enviroment variable is not set')\n",
    "sys.path.insert(0,os.path.join(spark_home,'python'))\n",
    "sys.path.insert(0,os.path.join(spark_home,'python/lib/py4j-0.8.2.1-src.zip'))\n",
    "execfile(os.path.join(spark_home,'python/pyspark/shell.py'))"
   ]
  },
  {
   "cell_type": "markdown",
   "metadata": {},
   "source": [
    "--------"
   ]
  },
  {
   "cell_type": "markdown",
   "metadata": {},
   "source": [
    "__HW 10.0: Short answer questions__\n",
    "\n",
    "What is Apache Spark and how is it different to Apache Hadoop? \n",
    "\n",
    "Fill in the blanks:\n",
    "Spark API consists of interfaces to develop applications based on it in Java, ...... languages (list languages). \n",
    "\n",
    "Using Spark, resource management can be done either in a single server instance or using a framework such as Mesos or ????? in a distributed manner.\n",
    "\n",
    "What is an RDD and show a fun example of creating one and bringing the first element back to the driver program.\n",
    "\n",
    "What is lazy evaluation and give an intuitoive example of lazy evaluation and comment on the massive computational savings to be had from lazy evaluation."
   ]
  },
  {
   "cell_type": "markdown",
   "metadata": {
    "collapsed": true
   },
   "source": [
    "__Answers__  \n",
    "Apache Spark is a framework for parallel computations over big data with optimized genaral execution graphs over RDDs. It differs from Apache Hadoop by storing data in-memory instead of writing to disk so it is much faster. Spark also required 2-5 time less code than Hadoop. With Spark you can do read-eval-print loop, while Hadoop cannot.  \n",
    "\n",
    "Spark API consists of interfaces to develop applications based on it in Java, <font color='green'>Scala, Python, and R</font> languages.  \n",
    "\n",
    "Using Spark, resource management can be done either in a single server instance or using a framework such as Mesos or <font color='green'>YARN</font> in a distributed manner.  \n",
    "\n",
    "A Resilient distributed data set (RDD) is a distributed collection of elements, which are automatically distributed across the cluster for parallel computations. RDDs can also be recomputed from the execution graph providing fault tolerance.  \n",
    "\n",
    "Lazy evaluation means that transformations are not computed immediately, but only when an action is performed on the trandformed RDD. An example of lazy evaluation is reading the first line of a file. If creation of an RDD from a text file were not computed lazily, then the entire file would be read when the RDD was created. However, with laxy evaluation, if we then perform an action of examining the first line, only the first line needs to be read. Lazy evaluation means that values are only computed if they are required, potentially resulting in significant computational savings."
   ]
  },
  {
   "cell_type": "code",
   "execution_count": 110,
   "metadata": {
    "collapsed": false
   },
   "outputs": [
    {
     "name": "stdout",
     "output_type": "stream",
     "text": [
      "[1.3881815116646858]\n"
     ]
    }
   ],
   "source": [
    "''' Example of creating an RDD and bringing the first element back to the driver'''\n",
    "import numpy as np\n",
    "\n",
    "dataRDD = sc.parallelize(np.random.random_sample(1000))   \n",
    "data2X= dataRDD.map(lambda x: x*2)\n",
    "dataGreaterThan1 = data2X.filter(lambda x: x > 1.0)\n",
    "print dataGreaterThan1.take(1)\n"
   ]
  },
  {
   "cell_type": "markdown",
   "metadata": {},
   "source": [
    "---"
   ]
  },
  {
   "cell_type": "markdown",
   "metadata": {},
   "source": [
    "__HW 10.1: __\n",
    "In Spark write the code to count how often each word appears in a text document (or set of documents). Please use this homework document as a the example document to run an experiment.  \n",
    "Report the following: provide a sorted list of tokens in decreasing order of frequency of occurence.\n"
   ]
  },
  {
   "cell_type": "code",
   "execution_count": 154,
   "metadata": {
    "collapsed": false
   },
   "outputs": [
    {
     "name": "stdout",
     "output_type": "stream",
     "text": [
      "(89, u'')\n",
      "(44, u'the')\n",
      "(23, u'and')\n",
      "(17, u'of')\n",
      "(17, u'in')\n",
      "(11, u'a')\n",
      "(9, u'code')\n",
      "(9, u'to')\n",
      "(8, u'=')\n",
      "(8, u'data')\n",
      "(7, u'for')\n",
      "(7, u'with')\n",
      "(7, u'is')\n",
      "(7, u'Using')\n",
      "(7, u'on')\n",
      "(6, u'#')\n",
      "(6, u'===')\n",
      "(6, u'your')\n",
      "(6, u'KMeans')\n",
      "(5, u'from')\n",
      "(5, u'this')\n",
      "(5, u'as')\n",
      "(4, u'What')\n",
      "(4, u'Sum')\n",
      "(4, u'Comment')\n",
      "(4, u'Squared')\n",
      "(4, u'each')\n",
      "(4, u'linear')\n",
      "(4, u'HW')\n",
      "(4, u'Set')\n",
      "(4, u'==HW')\n",
      "(4, u'example')\n",
      "(4, u'clusters')\n",
      "(3, u'report')\n",
      "(3, u'words')\n",
      "(3, u'Spark')\n",
      "(3, u'+')\n",
      "(3, u'lazy')\n",
      "(3, u'100')\n",
      "(3, u'training')\n",
      "(3, u'count')\n",
      "(3, u'following')\n",
      "(3, u'model')\n",
      "(3, u'Errors')\n",
      "(3, u'results')\n",
      "(3, u'using')\n",
      "(3, u'Within')\n",
      "(3, u'===HW')\n",
      "(3, u'import')\n",
      "(3, u'after')\n",
      "(3, u'plot')\n",
      "(3, u'it')\n",
      "(3, u'an')\n",
      "(3, u'regression')\n",
      "(3, u'document')\n",
      "(3, u'provided')\n",
      "(3, u'x')\n",
      "(2, u'-----------------------')\n",
      "(2, u'notebook:')\n",
      "(2, u'plots.')\n",
      "(2, u'--')\n",
      "(2, u'iterations')\n",
      "(2, u'list')\n",
      "(2, u'run')\n",
      "(2, u'regression.')\n",
      "(2, u'Report')\n",
      "(2, u'evaluation')\n",
      "(2, u'available')\n",
      "(2, u'https://www.dropbox.com/s/q85t0ytb9apggnh/kmeans_data.txt?dl=0')\n",
      "(2, u'here')\n",
      "(2, u'RIDGE')\n",
      "(2, u'10.6.1')\n",
      "(2, u'Apache')\n",
      "(2, u'word')\n",
      "(2, u'LASS0')\n",
      "(2, u'set.')\n",
      "(2, u'HW10.3.')\n",
      "(2, u'clusters.')\n",
      "(2, u'NOTE')\n",
      "(2, u'set')\n",
      "(2, u'testing')\n",
      "(2, u'iterations,')\n",
      "(2, u'between')\n",
      "(2, u'be')\n",
      "(2, u'found')\n",
      "(2, u'points')\n",
      "(2, u'how')\n",
      "(2, u'(OPTIONAL)')\n",
      "(2, u'or')\n",
      "(2, u'findings.')\n",
      "(2, u'one')\n",
      "(2, u'Explain.')\n",
      "(2, u'that')\n",
      "(2, u'differences')\n",
      "(2, u'\"myModelPath\")')\n",
      "(2, u'up')\n",
      "(2, u'Generate')\n",
      "(2, u'HW10.3')\n",
      "(2, u'vector')\n",
      "(2, u'any')\n",
      "(2, u'kmeans_data.txt')\n",
      "(2, u'In')\n",
      "(2, u'repeat')\n",
      "(2, u'decreasing')\n",
      "(2, u'order')\n",
      "(2, u'Fill')\n",
      "(1, u'y)')\n",
      "(1, u'weight(X)=')\n",
      "(1, u'10.2:')\n",
      "(1, u'intuitoive')\n",
      "(1, u'(cluster')\n",
      "(1, u'consists')\n",
      "(1, u'based')\n",
      "(1, u'parameters')\n",
      "(1, u'error(point):')\n",
      "(1, u'(Euclidean')\n",
      "(1, u'Modify')\n",
      "(1, u'3')\n",
      "(1, u'Here')\n",
      "(1, u'languages')\n",
      "(1, u'snippet')\n",
      "(1, u'SQRT(X.X)=')\n",
      "(1, u'2,')\n",
      "(1, u'homework')\n",
      "(1, u'Load')\n",
      "(1, u'return')\n",
      "(1, u'runs=10,')\n",
      "(1, u'KMeans,')\n",
      "(1, u'runs')\n",
      "(1, u'experiment.')\n",
      "(1, u'Berkeley,')\n",
      "(1, u'compute')\n",
      "(1, u'sc.textFile(\"kmeans_data.txt\")')\n",
      "(1, u'bringing')\n",
      "(1, u'program.')\n",
      "(1, u'===========================================================================')\n",
      "(1, u'resource')\n",
      "(1, u'questions===')\n",
      "(1, u'array([float(x)')\n",
      "(1, u'frequency.')\n",
      "(1, u'(point')\n",
      "(1, u'1/||X||,')\n",
      "(1, u'(or')\n",
      "(1, u'Learning')\n",
      "(1, u'KMeansModel.load(sc,')\n",
      "(1, u'where')\n",
      "(1, u'initializationMode=\"random\")')\n",
      "(1, u'generation')\n",
      "(1, u'begin')\n",
      "(1, u'(homegrown')\n",
      "(1, u'provided).')\n",
      "(1, u'10.4:')\n",
      "(1, u'sqrt(sum([x**2')\n",
      "(1, u'please')\n",
      "(1, u'per')\n",
      "(1, u'cell')\n",
      "(1, u'blanks:')\n",
      "(1, u'above')\n",
      "(1, u'math')\n",
      "(1, u'HW10')\n",
      "(1, u'sameModel')\n",
      "(1, u'driver')\n",
      "(1, u'interfaces')\n",
      "(1, u'modify')\n",
      "(1, u'20')\n",
      "(1, u'fun')\n",
      "(1, u'error(point)).reduce(lambda')\n",
      "(1, u'Weight')\n",
      "(1, u'comment')\n",
      "(1, u'implementation')\n",
      "(1, u'length')\n",
      "(1, u'resulting')\n",
      "(1, u'follows:')\n",
      "(1, u'UC')\n",
      "(1, u'load')\n",
      "(1, u'letters')\n",
      "(1, u'?????')\n",
      "(1, u'==================')\n",
      "(1, u'distributed')\n",
      "(1, u'Please')\n",
      "(1, u'done')\n",
      "(1, u'10.6:')\n",
      "(1, u'DATSCI')\n",
      "(1, u'array')\n",
      "(1, u'==================END')\n",
      "(1, u'https://www.dropbox.com/s/3nsthvp8g2rrrdh/EM-Kmeans.ipynb?dl=0')\n",
      "(1, u'clustering')\n",
      "(1, u'use')\n",
      "(1, u'findings')\n",
      "(1, u'HW10.5.')\n",
      "(1, u'(a-z)')\n",
      "(1, u'numpy')\n",
      "(1, u'X2^2)')\n",
      "(1, u'sort')\n",
      "(1, u'x,')\n",
      "(1, u'manner.')\n",
      "(1, u'(using')\n",
      "(1, u'had')\n",
      "(1, u'case')\n",
      "(1, u'10.0:')\n",
      "(1, u'Run')\n",
      "(1, u'MLlib-centric')\n",
      "(1, u'single')\n",
      "(1, u'============================================')\n",
      "(1, u'labeled')\n",
      "(1, u\"')]))\")\n",
      "(1, u'def')\n",
      "(1, u'model?')\n",
      "(1, u'parse')\n",
      "(1, u'Call')\n",
      "(1, u'KMeans.train(parsedData,')\n",
      "(1, u'WSSSE')\n",
      "(1, u'different')\n",
      "(1, u'data)')\n",
      "(1, u'provide')\n",
      "(1, u'(one')\n",
      "(1, u'-')\n",
      "(1, u'sqrt')\n",
      "(1, u'write')\n",
      "(1, u'answer')\n",
      "(1, u'point:')\n",
      "(1, u'Machine')\n",
      "(1, u'W261')\n",
      "(1, u'Download')\n",
      "(1, u'SQRT(X1^2')\n",
      "(1, u'develop')\n",
      "(1, u'data.map(lambda')\n",
      "(1, u'tune')\n",
      "(1, u'documents).')\n",
      "(1, u'tokens')\n",
      "(1, u'lower')\n",
      "(1, u'Mesos')\n",
      "(1, u'......')\n",
      "(1, u'savings')\n",
      "(1, u'1')\n",
      "(1, u'algorithms')\n",
      "(1, u'pyspark.mllib.clustering')\n",
      "(1, u'hyper')\n",
      "(1, u'show')\n",
      "(1, u'text')\n",
      "(1, u'\"Gradient')\n",
      "(1, u'Final')\n",
      "(1, u\"line.split('\")\n",
      "(1, u'inverse')\n",
      "(1, u'number')\n",
      "(1, u'Linear')\n",
      "(1, u'la')\n",
      "(1, u\"MLlib's\")\n",
      "(1, u'#10===')\n",
      "(1, u'X2.')\n",
      "(1, u'do')\n",
      "(1, u'good')\n",
      "(1, u'get')\n",
      "(1, u'evaluate')\n",
      "(1, u'Kmean')\n",
      "(1, u'framework')\n",
      "(1, u'made')\n",
      "(1, u'progress')\n",
      "(1, u'sorted')\n",
      "(1, u'dataset')\n",
      "(1, u'10.5:')\n",
      "(1, u'evaluation.')\n",
      "(1, u'follows')\n",
      "(1, u'https://www.dropbox.com/s/atzqkc0p1eajuz6/LinearRegression-Notebook-Challenge.ipynb?dl=0')\n",
      "(1, u'server')\n",
      "(1, u'10.1.1')\n",
      "(1, u'API')\n",
      "(1, u'either')\n",
      "(1, u'output')\n",
      "(1, u'hundred)')\n",
      "(1, u'Again')\n",
      "(1, u'often')\n",
      "(1, u'ASSIGNMENT')\n",
      "(1, u'back')\n",
      "(1, u'experiments')\n",
      "(1, u'clusters.save(sc,')\n",
      "(1, u'frequency')\n",
      "(1, u'Build')\n",
      "(1, u'X')\n",
      "(1, u'center)]))')\n",
      "(1, u'MLLib')\n",
      "(1, u'experiements')\n",
      "(1, u'Save')\n",
      "(1, u'NOTE:')\n",
      "(1, u'parsedData')\n",
      "(1, u'following:')\n",
      "(1, u'Evaluate')\n",
      "(1, u'separate')\n",
      "(1, u'find')\n",
      "(1, u'weighted')\n",
      "(1, u'Regression')\n",
      "(1, u'Short')\n",
      "(1, u'creating')\n",
      "(1, u'provide,')\n",
      "(1, u'occurence.')\n",
      "(1, u'Spark,')\n",
      "(1, u'Hadoop?')\n",
      "(1, u'10.6.2')\n",
      "(1, u'by')\n",
      "(1, u'Justify')\n",
      "(1, u'clusters.centers[clusters.predict(point)]')\n",
      "(1, u'languages).')\n",
      "(1, u'str(WSSSE))')\n",
      "(1, u'KMEans')\n",
      "(1, u'massive')\n",
      "(1, u'maxIterations=10,')\n",
      "(1, u'first')\n",
      "(1, u'computational')\n",
      "(1, u'Plot')\n",
      "(1, u'snippet:')\n",
      "(1, u'Scale')\n",
      "(1, u'plots')\n",
      "(1, u'11/05/2015')\n",
      "(1, u'LinearRegressionWithSGD')\n",
      "(1, u'management')\n",
      "(1, u'computing')\n",
      "(1, u'appears')\n",
      "(1, u'2')\n",
      "(1, u'parsedData.map(lambda')\n",
      "(1, u'X1')\n",
      "(1, u'more')\n",
      "(1, u'iteration,')\n",
      "(1, u'||X||')\n",
      "(1, u'RDD')\n",
      "(1, u'norm):')\n",
      "(1, u'10.1:')\n",
      "(1, u'===MIDS')\n",
      "(1, u'Error')\n",
      "(1, u'10')\n",
      "(1, u'cluster')\n",
      "(1, u'can')\n",
      "(1, u'KMeansModel')\n",
      "(1, u'(list')\n",
      "(1, u'iterations.')\n",
      "(1, u'give')\n",
      "(1, u\"MLLib's\")\n",
      "(1, u'print(\"Within')\n",
      "(1, u'measure')\n",
      "(1, u'V1.0')\n",
      "(1, u'at')\n",
      "(1, u'work')\n",
      "(1, u'Then')\n",
      "(1, u'data.')\n",
      "(1, u'line:')\n",
      "(1, u'Java,')\n",
      "(1, u'instance')\n",
      "(1, u'other')\n",
      "(1, u'\"')\n",
      "(1, u'(regularization)\".')\n",
      "(1, u'blanks')\n",
      "(1, u'10.3:')\n",
      "(1, u'y:')\n",
      "(1, u'applications')\n",
      "(1, u'notebook')\n",
      "(1, u'such')\n",
      "(1, u'words.')\n",
      "(1, u'descent')\n",
      "(1, u'center')\n",
      "(1, u'sets')\n",
      "(1, u'element')\n",
      "(1, u'train')\n",
      "(1, u'code)')\n",
      "(1, u'HW10.4.')\n"
     ]
    }
   ],
   "source": [
    "def hw10_1():\n",
    "    # create RDD from text file and split at spaces to get words\n",
    "    rdd = sc.textFile(\"HW10-Public/MIDS-MLS-HW-10.txt\")\n",
    "    words = rdd.flatMap(lambda x: x.strip().split(\" \"))\n",
    "    # count words and sort\n",
    "    sortedcounts = words.map(lambda x: (x, 1)) \\\n",
    "        .reduceByKey(lambda x, y: x + y) \\\n",
    "        .map(lambda (x,y): (y, x)) \\\n",
    "        .sortByKey(False) \\\n",
    "        .map(lambda (x,y): (y, x))\n",
    "\n",
    "    for line in mysorted.collect():\n",
    "        print line\n",
    "        \n",
    "    return None\n",
    "\n",
    "hw10_1()"
   ]
  },
  {
   "cell_type": "markdown",
   "metadata": {},
   "source": [
    "__HW 10.1.1__\n",
    "Modify the above word count code to count words that begin with lower case letters (a-z) and report your findings. Again sort the output words in decreasing order of frequency."
   ]
  },
  {
   "cell_type": "code",
   "execution_count": 155,
   "metadata": {
    "collapsed": false
   },
   "outputs": [
    {
     "name": "stdout",
     "output_type": "stream",
     "text": [
      "(u'the', 44)\n",
      "(u'and', 23)\n",
      "(u'of', 17)\n",
      "(u'in', 17)\n",
      "(u'a', 11)\n",
      "(u'code', 9)\n",
      "(u'to', 9)\n",
      "(u'data', 8)\n",
      "(u'for', 7)\n",
      "(u'with', 7)\n",
      "(u'is', 7)\n",
      "(u'on', 7)\n",
      "(u'your', 6)\n",
      "(u'from', 5)\n",
      "(u'this', 5)\n",
      "(u'as', 5)\n",
      "(u'clusters', 4)\n",
      "(u'each', 4)\n",
      "(u'linear', 4)\n",
      "(u'example', 4)\n",
      "(u'count', 3)\n",
      "(u'words', 3)\n",
      "(u'report', 3)\n",
      "(u'lazy', 3)\n",
      "(u'following', 3)\n",
      "(u'training', 3)\n",
      "(u'model', 3)\n",
      "(u'results', 3)\n",
      "(u'using', 3)\n",
      "(u'import', 3)\n",
      "(u'plot', 3)\n",
      "(u'it', 3)\n",
      "(u'an', 3)\n",
      "(u'regression', 3)\n",
      "(u'document', 3)\n",
      "(u'provided', 3)\n",
      "(u'after', 3)\n",
      "(u'x', 3)\n",
      "(u'notebook:', 2)\n",
      "(u'list', 2)\n",
      "(u'run', 2)\n",
      "(u'regression.', 2)\n",
      "(u'evaluation', 2)\n",
      "(u'available', 2)\n",
      "(u'https://www.dropbox.com/s/q85t0ytb9apggnh/kmeans_data.txt?dl=0', 2)\n",
      "(u'here', 2)\n",
      "(u'iterations', 2)\n",
      "(u'word', 2)\n",
      "(u'set.', 2)\n",
      "(u'clusters.', 2)\n",
      "(u'plots.', 2)\n",
      "(u'findings.', 2)\n",
      "(u'found', 2)\n",
      "(u'set', 2)\n",
      "(u'testing', 2)\n",
      "(u'iterations,', 2)\n",
      "(u'between', 2)\n",
      "(u'be', 2)\n",
      "(u'or', 2)\n",
      "(u'one', 2)\n",
      "(u'that', 2)\n",
      "(u'differences', 2)\n",
      "(u'up', 2)\n",
      "(u'vector', 2)\n",
      "(u'kmeans_data.txt', 2)\n",
      "(u'any', 2)\n",
      "(u'how', 2)\n",
      "(u'repeat', 2)\n",
      "(u'points', 2)\n",
      "(u'decreasing', 2)\n",
      "(u'order', 2)\n",
      "(u'y)', 1)\n",
      "(u'sameModel', 1)\n",
      "(u'intuitoive', 1)\n",
      "(u'consists', 1)\n",
      "(u'snippet', 1)\n",
      "(u'based', 1)\n",
      "(u'parameters', 1)\n",
      "(u'error(point):', 1)\n",
      "(u'distributed', 1)\n",
      "(u'languages', 1)\n",
      "(u'homework', 1)\n",
      "(u'return', 1)\n",
      "(u'runs=10,', 1)\n",
      "(u'experiment.', 1)\n",
      "(u'compute', 1)\n",
      "(u'sc.textFile(\"kmeans_data.txt\")', 1)\n",
      "(u'bringing', 1)\n",
      "(u'program.', 1)\n",
      "(u'runs', 1)\n",
      "(u'resource', 1)\n",
      "(u'questions===', 1)\n",
      "(u'array([float(x)', 1)\n",
      "(u'frequency.', 1)\n",
      "(u'where', 1)\n",
      "(u'initializationMode=\"random\")', 1)\n",
      "(u'generation', 1)\n",
      "(u'provided).', 1)\n",
      "(u'sqrt(sum([x**2', 1)\n",
      "(u'please', 1)\n",
      "(u'per', 1)\n",
      "(u'cell', 1)\n",
      "(u'blanks:', 1)\n",
      "(u'above', 1)\n",
      "(u'math', 1)\n",
      "(u'interfaces', 1)\n",
      "(u'modify', 1)\n",
      "(u'error(point)).reduce(lambda', 1)\n",
      "(u'comment', 1)\n",
      "(u'implementation', 1)\n",
      "(u'length', 1)\n",
      "(u'resulting', 1)\n",
      "(u'follows:', 1)\n",
      "(u'pyspark.mllib.clustering', 1)\n",
      "(u'load', 1)\n",
      "(u'letters', 1)\n",
      "(u'had', 1)\n",
      "(u'done', 1)\n",
      "(u'array', 1)\n",
      "(u'https://www.dropbox.com/s/3nsthvp8g2rrrdh/EM-Kmeans.ipynb?dl=0', 1)\n",
      "(u'clustering', 1)\n",
      "(u'use', 1)\n",
      "(u'findings', 1)\n",
      "(u'numpy', 1)\n",
      "(u'sort', 1)\n",
      "(u'x,', 1)\n",
      "(u'manner.', 1)\n",
      "(u'case', 1)\n",
      "(u'single', 1)\n",
      "(u'labeled', 1)\n",
      "(u'fun', 1)\n",
      "(u'def', 1)\n",
      "(u'model?', 1)\n",
      "(u'parse', 1)\n",
      "(u'different', 1)\n",
      "(u'develop', 1)\n",
      "(u'provide', 1)\n",
      "(u'weight(X)=', 1)\n",
      "(u'sqrt', 1)\n",
      "(u'write', 1)\n",
      "(u'answer', 1)\n",
      "(u'point:', 1)\n",
      "(u'begin', 1)\n",
      "(u'driver', 1)\n",
      "(u'data)', 1)\n",
      "(u'data.map(lambda', 1)\n",
      "(u'tune', 1)\n",
      "(u'documents).', 1)\n",
      "(u'tokens', 1)\n",
      "(u'lower', 1)\n",
      "(u'savings', 1)\n",
      "(u'algorithms', 1)\n",
      "(u'hyper', 1)\n",
      "(u'show', 1)\n",
      "(u'text', 1)\n",
      "(u'sorted', 1)\n",
      "(u'find', 1)\n",
      "(u\"line.split('\", 1)\n",
      "(u'inverse', 1)\n",
      "(u'instance', 1)\n",
      "(u'do', 1)\n",
      "(u'good', 1)\n",
      "(u'get', 1)\n",
      "(u'evaluate', 1)\n",
      "(u'framework', 1)\n",
      "(u'progress', 1)\n",
      "(u'dataset', 1)\n",
      "(u'evaluation.', 1)\n",
      "(u'follows', 1)\n",
      "(u'https://www.dropbox.com/s/atzqkc0p1eajuz6/LinearRegression-Notebook-Challenge.ipynb?dl=0', 1)\n",
      "(u'server', 1)\n",
      "(u'iterations.', 1)\n",
      "(u'y:', 1)\n",
      "(u'either', 1)\n",
      "(u'often', 1)\n",
      "(u'parsedData.map(lambda', 1)\n",
      "(u'back', 1)\n",
      "(u'experiments', 1)\n",
      "(u'clusters.save(sc,', 1)\n",
      "(u'frequency', 1)\n",
      "(u'hundred)', 1)\n",
      "(u'measure', 1)\n",
      "(u'experiements', 1)\n",
      "(u'norm):', 1)\n",
      "(u'parsedData', 1)\n",
      "(u'following:', 1)\n",
      "(u'separate', 1)\n",
      "(u'creating', 1)\n",
      "(u'provide,', 1)\n",
      "(u'occurence.', 1)\n",
      "(u'snippet:', 1)\n",
      "(u'plots', 1)\n",
      "(u'by', 1)\n",
      "(u'languages).', 1)\n",
      "(u'str(WSSSE))', 1)\n",
      "(u'la', 1)\n",
      "(u'massive', 1)\n",
      "(u'maxIterations=10,', 1)\n",
      "(u'first', 1)\n",
      "(u'computational', 1)\n",
      "(u'number', 1)\n",
      "(u'weighted', 1)\n",
      "(u'center)]))', 1)\n",
      "(u'management', 1)\n",
      "(u'print(\"Within', 1)\n",
      "(u'appears', 1)\n",
      "(u'more', 1)\n",
      "(u'iteration,', 1)\n",
      "(u'train', 1)\n",
      "(u'made', 1)\n",
      "(u'cluster', 1)\n",
      "(u'work', 1)\n",
      "(u'can', 1)\n",
      "(u'clusters.centers[clusters.predict(point)]', 1)\n",
      "(u'computing', 1)\n",
      "(u'words.', 1)\n",
      "(u'at', 1)\n",
      "(u'data.', 1)\n",
      "(u'line:', 1)\n",
      "(u'output', 1)\n",
      "(u'other', 1)\n",
      "(u'blanks', 1)\n",
      "(u'applications', 1)\n",
      "(u'notebook', 1)\n",
      "(u'such', 1)\n",
      "(u'descent', 1)\n",
      "(u'give', 1)\n",
      "(u'center', 1)\n",
      "(u'sets', 1)\n",
      "(u'element', 1)\n",
      "(u'code)', 1)\n"
     ]
    }
   ],
   "source": [
    "def hw10_1_1():\n",
    "    \n",
    "    def isloweraz(word):\n",
    "        '''\n",
    "            check if the word starts with a lower case letter\n",
    "        '''\n",
    "        lowercase = 'abcdefghijklmnopqrstuvwxyz'\n",
    "        try:\n",
    "            return word[0] in lowercase\n",
    "        except IndexError:\n",
    "            return False\n",
    "\n",
    "    \n",
    "    # create RDD from text file\n",
    "    rdd = sc.textFile(\"HW10-Public/MIDS-MLS-HW-10.txt\")\n",
    "    \n",
    "    # get words and filter for those that start with a lowercase letter\n",
    "    words = rdd.flatMap(lambda x: x.strip().split(\" \")) \\\n",
    "        .filter(isloweraz)\n",
    "\n",
    "    # count words and sort\n",
    "    sortedcounts = words.map(lambda x: (x, 1)) \\\n",
    "        .reduceByKey(lambda x, y: x + y) \\\n",
    "        .map(lambda (x,y): (y, x)) \\\n",
    "        .sortByKey(False) \\\n",
    "        .map(lambda (x,y): (y, x))\n",
    "\n",
    "    for line in sortedcounts.collect():\n",
    "        print line\n",
    "        \n",
    "    return None\n",
    "\n",
    "hw10_1_1()\n"
   ]
  },
  {
   "cell_type": "markdown",
   "metadata": {},
   "source": [
    "---------------------------------------------------------------"
   ]
  },
  {
   "cell_type": "markdown",
   "metadata": {},
   "source": [
    "__HW 10.2: KMeans a la MLLib__  \n",
    "Using the MLlib-centric KMeans code snippet below\n",
    "\n",
    "NOTE: kmeans_data.txt is available here https://www.dropbox.com/s/q85t0ytb9apggnh/kmeans_data.txt?dl=0 \n",
    "\n",
    "Run this code snippet and list the clusters that your find and compute the Within Set Sum of Squared Errors for the found clusters. Comment on your findings."
   ]
  },
  {
   "cell_type": "code",
   "execution_count": 75,
   "metadata": {
    "collapsed": false
   },
   "outputs": [
    {
     "name": "stdout",
     "output_type": "stream",
     "text": [
      "Within Set Sum of Squared Error = 0.692820323028\n"
     ]
    }
   ],
   "source": [
    "from pyspark.mllib.clustering import KMeans, KMeansModel\n",
    "from numpy import array\n",
    "from math import sqrt\n",
    "\n",
    "# Load and parse the data\n",
    "# NOTE  kmeans_data.txt is available here https://www.dropbox.com/s/q85t0ytb9apggnh/kmeans_data.txt?dl=0 \n",
    "data = sc.textFile(\"HW10-Public/kmeans_data.txt\")\n",
    "parsedData = data.map(lambda line: array([float(x) for x in line.split(' ')]))\n",
    "\n",
    "\n",
    "\n",
    "# Build the model (cluster the data)\n",
    "clusters = KMeans.train(parsedData, 2, maxIterations=10,\n",
    "        runs=10, initializationMode=\"random\")\n",
    "\n",
    "# Evaluate clustering by computing Within Set Sum of Squared Errors\n",
    "def error(point):\n",
    "    center = clusters.centers[clusters.predict(point)]\n",
    "    return sqrt(sum([x**2 for x in (point - center)]))\n",
    "\n",
    "WSSSE = parsedData.map(lambda point: error(point)).reduce(lambda x, y: x + y)\n",
    "print(\"Within Set Sum of Squared Error = \" + str(WSSSE))\n",
    "\n",
    "# Save and load model\n",
    "clusters.save(sc, \"myModelPath\")\n",
    "sameModel = KMeansModel.load(sc, \"myModelPath\")\n",
    "\n"
   ]
  },
  {
   "cell_type": "code",
   "execution_count": 58,
   "metadata": {
    "collapsed": false
   },
   "outputs": [
    {
     "name": "stdout",
     "output_type": "stream",
     "text": [
      "Cluster 0: 0.1, 0.1, 0.1\n",
      "Cluster 1: 9.1, 9.1, 9.1\n",
      "Within Set Sum of Squared Error = 0.692820323028\n"
     ]
    }
   ],
   "source": [
    "for i,ctr in enumerate(clusters.centers):\n",
    "    print(\"Cluster %i: %.1f, %.1f, %.1f\" % (i, ctr[0],ctr[1],ctr[2]))\n",
    "\n",
    "WSSSE = parsedData.map(lambda point: error(point)).reduce(lambda x, y: x + y)\n",
    "print(\"Within Set Sum of Squared Error = \" + str(WSSSE))"
   ]
  },
  {
   "cell_type": "markdown",
   "metadata": {},
   "source": [
    "---"
   ]
  },
  {
   "cell_type": "markdown",
   "metadata": {},
   "source": [
    "__HW 10.3:__  \n",
    "Download the following KMeans notebook:  \n",
    "https://www.dropbox.com/s/3nsthvp8g2rrrdh/EM-Kmeans.ipynb?dl=0  \n",
    "\n",
    "Generate 3 clusters with 100 (one hundred) data points per cluster (using the code provided). Plot the data.  \n",
    "Then run MLlib's Kmean implementation on this data and report your results as follows:  \n",
    "\n",
    "  -- plot the resulting clusters after 1 iteration, 10 iterations, after 20 iterations, after 100 iterations.  \n",
    "  -- in each plot please report the Within Set Sum of Squared Errors for the found clusters. Comment on the progress of this measure as the KMEans algorithms runs for more iterations"
   ]
  },
  {
   "cell_type": "code",
   "execution_count": 59,
   "metadata": {
    "collapsed": false
   },
   "outputs": [
    {
     "data": {
      "image/png": "[encoded data removed]",
      "text/plain": [
       "<matplotlib.figure.Figure at 0x1097a8290>"
      ]
     },
     "metadata": {},
     "output_type": "display_data"
    }
   ],
   "source": [
    "%matplotlib inline\n",
    "import numpy as np\n",
    "import pylab \n",
    "import json\n",
    "size1 = size2 = size3 = 100\n",
    "samples1 = np.random.multivariate_normal([4, 0], [[1, 0],[0, 1]], size1)\n",
    "data = samples1\n",
    "samples2 = np.random.multivariate_normal([6, 6], [[1, 0],[0, 1]], size2)\n",
    "data = np.append(data,samples2, axis=0)\n",
    "samples3 = np.random.multivariate_normal([0, 4], [[1, 0],[0, 1]], size3)\n",
    "data = np.append(data,samples3, axis=0)\n",
    "# Randomlize data\n",
    "data = data[np.random.permutation(size1+size2+size3),]\n",
    "np.savetxt('data.csv',data,delimiter = ',')\n",
    "\n",
    "pylab.plot(samples1[:, 0], samples1[:, 1],'*', color = 'red')\n",
    "pylab.plot(samples2[:, 0], samples2[:, 1],'o',color = 'blue')\n",
    "pylab.plot(samples3[:, 0], samples3[:, 1],'+',color = 'green')\n",
    "pylab.show()"
   ]
  },
  {
   "cell_type": "code",
   "execution_count": 91,
   "metadata": {
    "collapsed": true
   },
   "outputs": [],
   "source": [
    "'''\n",
    "Then run MLlib's Kmean implementation on this data \n",
    "and report your results as follows:\n",
    "-- plot the resulting clusters after 1, 10, 20, and 100 iterations\n",
    "-- in each plot please report the Within Set Sum of Squared Errors \n",
    "for the found clusters. Comment on the progress of this measure as \n",
    "the KMeans algorithms runs for more iterations\n",
    "'''\n",
    "\n",
    "\n",
    "from pyspark.mllib.clustering import KMeans, KMeansModel\n",
    "from numpy import array\n",
    "from math import sqrt\n",
    "\n",
    "# Load and parse the data\n",
    "data = sc.textFile(\"data.csv\")\n",
    "parsedData = data.map(lambda line: array([float(x) for x in line.split(',')]))\n"
   ]
  },
  {
   "cell_type": "code",
   "execution_count": 97,
   "metadata": {
    "collapsed": true
   },
   "outputs": [],
   "source": [
    "import numpy as np\n",
    "\n",
    "#Calculate which class each data point belongs to\n",
    "def nearest_centroid(line):\n",
    "    x = np.array([float(f) for f in line.split(',')])\n",
    "    closest_centroid_idx = np.sum((x - centroids)**2, axis=1).argmin()\n",
    "    return (closest_centroid_idx,(x,1))\n",
    "\n",
    "#plot centroids and data points for each iteration\n",
    "def plot_iteration(means):\n",
    "    pylab.plot(samples1[:, 0], samples1[:, 1], '.', color = 'blue')\n",
    "    pylab.plot(samples2[:, 0], samples2[:, 1], '.', color = 'blue')\n",
    "    pylab.plot(samples3[:, 0], samples3[:, 1],'.', color = 'blue')\n",
    "    pylab.plot(means[0][0], means[0][1],'*',markersize =10,color = 'red')\n",
    "    pylab.plot(means[1][0], means[1][1],'*',markersize =10,color = 'red')\n",
    "    pylab.plot(means[2][0], means[2][1],'*',markersize =10,color = 'red')\n",
    "    pylab.show()"
   ]
  },
  {
   "cell_type": "code",
   "execution_count": 112,
   "metadata": {
    "collapsed": false
   },
   "outputs": [
    {
     "name": "stdout",
     "output_type": "stream",
     "text": [
      "Centroids after 1 iteration:\n",
      "[ 5.01971659 -0.44755959]\n",
      "[ 1.73271973  2.29390467]\n",
      "[ 5.92760705  5.7966386 ]\n",
      "Within Set Sum of Squared Error = 525.673523269\n"
     ]
    },
    {
     "data": {
      "image/png": "[encoded data removed]",
      "text/plain": [
       "<matplotlib.figure.Figure at 0x109967c10>"
      ]
     },
     "metadata": {},
     "output_type": "display_data"
    },
    {
     "name": "stdout",
     "output_type": "stream",
     "text": [
      "Centroids after 10 iterations:\n",
      "[ 6.41257066  5.05983697]\n",
      "[ 2.09780762  2.01964046]\n",
      "[ 5.51496769  6.73541106]\n",
      "Within Set Sum of Squared Error = 665.263827732\n"
     ]
    },
    {
     "data": {
      "image/png": "[encoded data removed]",
      "text/plain": [
       "<matplotlib.figure.Figure at 0x1097b0150>"
      ]
     },
     "metadata": {},
     "output_type": "display_data"
    },
    {
     "name": "stdout",
     "output_type": "stream",
     "text": [
      "Centroids after 20 iterations:\n",
      "[ 4.019853    0.15172955]\n",
      "[ 0.2435185   3.92614601]\n",
      "[ 6.04647796  5.89393637]\n",
      "Within Set Sum of Squared Error = 365.942488955\n"
     ]
    },
    {
     "data": {
      "image/png": "[encoded data removed]",
      "text/plain": [
       "<matplotlib.figure.Figure at 0x109862bd0>"
      ]
     },
     "metadata": {},
     "output_type": "display_data"
    },
    {
     "name": "stdout",
     "output_type": "stream",
     "text": [
      "Centroids after 100 iterations:\n",
      "[ 6.04647796  5.89393637]\n",
      "[ 0.2435185   3.92614601]\n",
      "[ 4.019853    0.15172955]\n",
      "Within Set Sum of Squared Error = 365.942488955\n"
     ]
    },
    {
     "data": {
      "image/png": "[encoded data removed]",
      "text/plain": [
       "<matplotlib.figure.Figure at 0x109943d10>"
      ]
     },
     "metadata": {},
     "output_type": "display_data"
    }
   ],
   "source": [
    "from time import time\n",
    "\n",
    "numIters = [1, 10, 20, 100]\n",
    "\n",
    "for i in numIters:\n",
    "    clusters = KMeans.train(parsedData, k=3, maxIterations=i,\n",
    "                        initializationMode = \"random\")\n",
    "    if i==1:\n",
    "        print(\"Centroids after %d iteration:\" % i)\n",
    "    else:\n",
    "        print(\"Centroids after %d iterations:\" % i)\n",
    "    for centroid in clusters.centers:\n",
    "        print centroid\n",
    "    WSSSE = parsedData.map(lambda point: error(point)).reduce(lambda x, y: x + y)\n",
    "    print(\"Within Set Sum of Squared Error = \" + str(WSSSE))\n",
    "    plot_iteration(clusters.centers)\n",
    "    \n"
   ]
  },
  {
   "cell_type": "markdown",
   "metadata": {},
   "source": [
    "The WSSE decreases with the number of iterations from 1 to 20 iterations. After 20 iterations, the centroids converge and the WSSE is stable."
   ]
  },
  {
   "cell_type": "markdown",
   "metadata": {},
   "source": [
    "---"
   ]
  },
  {
   "cell_type": "markdown",
   "metadata": {},
   "source": [
    "__HW 10.4:__\n",
    "Using the KMeans code (homegrown code) provided repeat the experiments in HW10.3. Comment on any differences between the results in HW10.3 and HW10.4. Explain.\n"
   ]
  },
  {
   "cell_type": "code",
   "execution_count": 153,
   "metadata": {
    "collapsed": false
   },
   "outputs": [
    {
     "name": "stdout",
     "output_type": "stream",
     "text": [
      "Centroids after 1 iteration:\n",
      "[[ 0.38440545  4.4110655 ]\n",
      " [ 6.01586934  5.63927381]\n",
      " [ 2.99833688  0.6767298 ]]\n",
      "Within Set Sum of Squared Error = 408.002683254\n"
     ]
    },
    {
     "data": {
      "image/png": "[encoded data removed]",
      "text/plain": [
       "<matplotlib.figure.Figure at 0x10982ea90>"
      ]
     },
     "metadata": {},
     "output_type": "display_data"
    },
    {
     "name": "stdout",
     "output_type": "stream",
     "text": [
      "Centroids after 10 iterations:\n",
      "[[ 0.2435185   3.92614601]\n",
      " [ 6.04647796  5.89393637]\n",
      " [ 4.019853    0.15172955]]\n",
      "Within Set Sum of Squared Error = 365.942488955\n"
     ]
    },
    {
     "data": {
      "image/png": "[encoded data removed]",
      "text/plain": [
       "<matplotlib.figure.Figure at 0x10996d750>"
      ]
     },
     "metadata": {},
     "output_type": "display_data"
    },
    {
     "name": "stdout",
     "output_type": "stream",
     "text": [
      "Centroids after 20 iterations:\n",
      "[[ 4.019853    0.15172955]\n",
      " [ 6.04647796  5.89393637]\n",
      " [ 0.2435185   3.92614601]]\n",
      "Within Set Sum of Squared Error = 365.942488955\n"
     ]
    },
    {
     "data": {
      "image/png": "[encoded data removed]",
      "text/plain": [
       "<matplotlib.figure.Figure at 0x109835ad0>"
      ]
     },
     "metadata": {},
     "output_type": "display_data"
    },
    {
     "name": "stdout",
     "output_type": "stream",
     "text": [
      "Centroids after 100 iterations:\n",
      "[[ 4.019853    0.15172955]\n",
      " [ 0.2435185   3.92614601]\n",
      " [ 6.04647796  5.89393637]]\n",
      "Within Set Sum of Squared Error = 365.942488955\n"
     ]
    },
    {
     "data": {
      "image/png": "[encoded data removed]",
      "text/plain": [
       "<matplotlib.figure.Figure at 0x10997f050>"
      ]
     },
     "metadata": {},
     "output_type": "display_data"
    }
   ],
   "source": [
    "from numpy.random import rand\n",
    "\n",
    "#Calculate which class each data point belongs to\n",
    "def nearest_centroid(line):\n",
    "    x = np.array([float(f) for f in line.split(',')])\n",
    "    closest_centroid_idx = np.sum((x - centroids)**2, axis=1).argmin()\n",
    "    return (closest_centroid_idx,(x,1))\n",
    "\n",
    "\n",
    "def error_p4(line, centroids):\n",
    "    point = np.array([float(f) for f in line.split(',')])\n",
    "    closest_centroid_idx = np.sum((point - centroids)**2, axis=1).argmin()\n",
    "    center = centroids[closest_centroid_idx]\n",
    "    return sqrt(sum([x**2 for x in (point - center)]))\n",
    "\n",
    "K = 3\n",
    "\n",
    "D = sc.textFile(\"./data.csv\").cache()\n",
    "\n",
    "numIters = [1, 10, 20, 100]\n",
    "\n",
    "for n in numIters:\n",
    "    # randomly initialize centroids\n",
    "    centroids = rand(3,2)*5\n",
    "    iter_num = 0\n",
    "    for i in range(n):  \n",
    "        res = D.map(nearest_centroid).reduceByKey(lambda x,y : (x[0]+y[0],x[1]+y[1])).collect()\n",
    "        res = sorted(res,key = lambda x : x[0])  #sort based on cluster ID\n",
    "        centroids_new = np.array([x[1][0]/x[1][1] for x in res])  #divide by cluster size\n",
    "        if np.sum(np.absolute(centroids_new-centroids))<0.01:\n",
    "            break\n",
    "        iter_num = iter_num + 1 \n",
    "        centroids = centroids_new\n",
    "    \n",
    "    if n==1:\n",
    "        print(\"Centroids after %d iteration:\" % n)\n",
    "    else:\n",
    "        print(\"Centroids after %d iterations:\" % n)\n",
    "    print centroids\n",
    "    \n",
    "    WSSSE = D.map(lambda line: error_p4(line, centroids)).reduce(lambda x, y: x + y)\n",
    "    print(\"Within Set Sum of Squared Error = \" + str(WSSSE))\n",
    "    \n",
    "    plot_iteration(centroids)\n",
    "    \n"
   ]
  },
  {
   "cell_type": "markdown",
   "metadata": {},
   "source": [
    "These results are very similar to those for problem 10.3 with centroids converging after about 10 iterations to a WSSE of 365.94"
   ]
  }
 ],
 "metadata": {
  "kernelspec": {
   "display_name": "Python 2",
   "language": "python",
   "name": "python2"
  },
  "language_info": {
   "codemirror_mode": {
    "name": "ipython",
    "version": 2
   },
   "file_extension": ".py",
   "mimetype": "text/x-python",
   "name": "python",
   "nbconvert_exporter": "python",
   "pygments_lexer": "ipython2",
   "version": "2.7.6"
  }
 },
 "nbformat": 4,
 "nbformat_minor": 0
}
