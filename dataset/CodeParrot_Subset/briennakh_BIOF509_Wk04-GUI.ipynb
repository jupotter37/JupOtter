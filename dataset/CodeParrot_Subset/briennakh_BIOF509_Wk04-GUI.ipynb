{
 "cells": [
  {
   "cell_type": "markdown",
   "metadata": {},
   "source": [
    "# Graphical User Interfaces\n",
    "\n",
    "Object oriented programming and particularly inheritance is commonly used for creating GUIs. There are [a large number](https://wiki.python.org/moin/GuiProgramming) of different frameworks supporting building GUIs. The following are particularly relevant:\n",
    "\n",
    "* [TkInter](https://docs.python.org/3.5/library/tkinter.html) - This is the official/default GUI framework\n",
    "* [guidata](https://pythonhosted.org/guidata/) - A GUI framework for dataset display and editing\n",
    "* [VTK](http://www.vtk.org/) - A GUI framework for data visualization\n",
    "* [pyqtgraph](http://www.pyqtgraph.org/documentation/index.html) - A GUI framework for data visualization, easily installed with `conda install pyqtgraph`\n",
    "* [matplotlib](http://matplotlib.org/) - As well as creating plots matplotlib can support interaction"
   ]
  },
  {
   "cell_type": "markdown",
   "metadata": {},
   "source": [
    "## TkInter\n",
    "\n",
    "TkInter is widely used with plenty of documentation available but may prove somewhat limited for more data intensive applications.\n",
    "\n",
    "* [Documentation from the standard library](https://docs.python.org/3/library/tk.html)\n",
    "* [Further documentation from python.org](https://docs.python.org/3.5/library/tkinter.html)\n",
    "* [TkDocs](http://www.tkdocs.com/index.html)\n",
    "\n",
    "Let's look at a simple example from the documentation"
   ]
  },
  {
   "cell_type": "code",
   "execution_count": 37,
   "metadata": {
    "collapsed": true
   },
   "outputs": [],
   "source": [
    "import tkinter as tk\n",
    "\n",
    "class Application(tk.Frame):\n",
    "    def __init__(self, master=None):\n",
    "        tk.Frame.__init__(self, master)\n",
    "        self.pack()\n",
    "        self.createWidgets()\n",
    "\n",
    "    def createWidgets(self):\n",
    "        self.hi_there = tk.Button(self)\n",
    "        self.hi_there[\"text\"] = \"Hello World\\n(click me)\"\n",
    "        self.hi_there[\"command\"] = self.say_hi\n",
    "        self.hi_there.pack(side=\"top\")\n",
    "\n",
    "        self.QUIT = tk.Button(self, text=\"QUIT\", fg=\"red\",\n",
    "                                            command=root.destroy)\n",
    "        self.QUIT.pack(side=\"bottom\")\n",
    "\n",
    "    def say_hi(self):\n",
    "        print(\"hi there, everyone!\")\n",
    "\n",
    "root = tk.Tk()\n",
    "app = Application(master=root)\n",
    "app.mainloop()"
   ]
  },
  {
   "cell_type": "markdown",
   "metadata": {},
   "source": [
    "Although this works, it is visually unappealing. We can improve on this using styles and themes."
   ]
  },
  {
   "cell_type": "code",
   "execution_count": 48,
   "metadata": {
    "collapsed": false
   },
   "outputs": [],
   "source": [
    "import tkinter as tk\n",
    "from tkinter import ttk\n",
    "\n",
    "\n",
    "class Application(ttk.Frame):\n",
    "    def __init__(self, master=None):\n",
    "        super().__init__(master, padding=\"3 3 12 12\")\n",
    "        self.grid(column=0, row=0, )\n",
    "        self.createWidgets()\n",
    "        self.master.title('Test')\n",
    "\n",
    "    def createWidgets(self):\n",
    "        self.hi_there = ttk.Button(self)\n",
    "        self.hi_there[\"text\"] = \"Hello World\\n(click me)\"\n",
    "        self.hi_there[\"command\"] = self.say_hi\n",
    "\n",
    "        self.QUIT = ttk.Button(self, text=\"QUIT\", style='Alert.TButton', command=root.destroy)\n",
    "\n",
    "        for child in self.winfo_children(): \n",
    "            child.grid_configure(padx=10, pady=10)\n",
    "\n",
    "    def say_hi(self):\n",
    "        print(\"hi there, everyone!\")\n",
    "\n",
    "        \n",
    "\n",
    "root = tk.Tk()\n",
    "app = Application(master=root)\n",
    "s = ttk.Style()\n",
    "s.configure('TButton', font='helvetica 24')\n",
    "s.configure('Alert.TButton', foreground='red')\n",
    "root.mainloop()"
   ]
  },
  {
   "cell_type": "markdown",
   "metadata": {},
   "source": [
    "As our applications get more complicated we must give greater thought to the layout. The following example comes from the [TkDocs site](http://www.tkdocs.com/tutorial/firstexample.html)."
   ]
  },
  {
   "cell_type": "code",
   "execution_count": 28,
   "metadata": {
    "collapsed": false
   },
   "outputs": [],
   "source": [
    "from tkinter import *\n",
    "from tkinter import ttk\n",
    "\n",
    "def calculate(*args):\n",
    "    try:\n",
    "        value = float(feet.get())\n",
    "        meters.set((0.3048 * value * 10000.0 + 0.5)/10000.0)\n",
    "    except ValueError:\n",
    "        pass\n",
    "    \n",
    "root = Tk()\n",
    "root.title(\"Feet to Meters\")\n",
    "\n",
    "mainframe = ttk.Frame(root, padding=\"3 3 12 12\")\n",
    "mainframe.grid(column=0, row=0, sticky=(N, W, E, S))\n",
    "mainframe.columnconfigure(0, weight=1)\n",
    "mainframe.rowconfigure(0, weight=1)\n",
    "\n",
    "feet = StringVar()\n",
    "meters = StringVar()\n",
    "\n",
    "feet_entry = ttk.Entry(mainframe, width=7, textvariable=feet)\n",
    "feet_entry.grid(column=2, row=1, sticky=(W, E))\n",
    "\n",
    "ttk.Label(mainframe, textvariable=meters).grid(column=2, row=2, sticky=(W, E))\n",
    "ttk.Button(mainframe, text=\"Calculate\", command=calculate).grid(column=3, row=3, sticky=W)\n",
    "\n",
    "ttk.Label(mainframe, text=\"feet\").grid(column=3, row=1, sticky=W)\n",
    "ttk.Label(mainframe, text=\"is equivalent to\").grid(column=1, row=2, sticky=E)\n",
    "ttk.Label(mainframe, text=\"meters\").grid(column=3, row=2, sticky=W)\n",
    "\n",
    "for child in mainframe.winfo_children(): child.grid_configure(padx=5, pady=5)\n",
    "\n",
    "feet_entry.focus()\n",
    "root.bind('<Return>', calculate)\n",
    "\n",
    "root.mainloop()"
   ]
  },
  {
   "cell_type": "markdown",
   "metadata": {},
   "source": [
    "## Matplotlib\n",
    "\n",
    "For simple programs, displaying data and taking basic input, often a command line application will be much faster to implement than a GUI. The times when I have moved away from the command line it has been to interact with image data and plots. Here, matplotlib often works very well. Either it can be embedded in a larger application or it can be used directly.\n",
    "\n",
    "There are a number of examples on the [matplotlib site](http://matplotlib.org/examples/index.html).\n",
    "\n",
    "Here is one stripped down example of one recent GUI I have used."
   ]
  },
  {
   "cell_type": "code",
   "execution_count": null,
   "metadata": {
    "collapsed": false
   },
   "outputs": [],
   "source": [
    "\"\"\"\n",
    "Do a mouseclick somewhere, move the mouse to some destination, release\n",
    "the button.  This class gives click- and release-events and also draws\n",
    "a line or a box from the click-point to the actual mouseposition\n",
    "(within the same axes) until the button is released.  Within the\n",
    "method 'self.ignore()' it is checked wether the button from eventpress\n",
    "and eventrelease are the same.\n",
    "\n",
    "\"\"\"\n",
    "from matplotlib.widgets import RectangleSelector\n",
    "import matplotlib.pyplot as plt\n",
    "import matplotlib.cbook as cbook\n",
    "\n",
    "\n",
    "def line_select_callback(eclick, erelease):\n",
    "    'eclick and erelease are the press and release events'\n",
    "    x1, y1 = eclick.xdata, eclick.ydata\n",
    "    x2, y2 = erelease.xdata, erelease.ydata\n",
    "    print (\"(%3.2f, %3.2f) --> (%3.2f, %3.2f)\" % (x1, y1, x2, y2))\n",
    "    print (\" The button you used were: %s %s\" % (eclick.button, erelease.button))\n",
    "\n",
    "    \n",
    "def toggle_selector(event):\n",
    "    print (' Key pressed.')\n",
    "    if event.key in ['Q', 'q'] and toggle_selector.RS.active:\n",
    "        print (' RectangleSelector deactivated.')\n",
    "        toggle_selector.RS.set_active(False)\n",
    "    if event.key in ['A', 'a'] and not toggle_selector.RS.active:\n",
    "        print (' RectangleSelector activated.')\n",
    "        toggle_selector.RS.set_active(True)\n",
    "\n",
    "\n",
    "        \n",
    "image_file = cbook.get_sample_data('grace_hopper.png')\n",
    "image = plt.imread(image_file)\n",
    "fig, current_ax = plt.subplots()\n",
    "plt.imshow(image)\n",
    "toggle_selector.RS = RectangleSelector(current_ax, \n",
    "        line_select_callback,\n",
    "        drawtype='box', useblit=True,\n",
    "        button=[1,3], # don't use middle button\n",
    "        minspanx=5, minspany=5,\n",
    "        spancoords='pixels')\n",
    "plt.connect('key_press_event', toggle_selector)\n",
    "plt.show()\n"
   ]
  },
  {
   "cell_type": "code",
   "execution_count": null,
   "metadata": {
    "collapsed": true
   },
   "outputs": [],
   "source": []
  }
 ],
 "metadata": {
  "kernelspec": {
   "display_name": "Python 3",
   "language": "python",
   "name": "python3"
  },
  "language_info": {
   "codemirror_mode": {
    "name": "ipython",
    "version": 3
   },
   "file_extension": ".py",
   "mimetype": "text/x-python",
   "name": "python",
   "nbconvert_exporter": "python",
   "pygments_lexer": "ipython3",
   "version": "3.4.3"
  }
 },
 "nbformat": 4,
 "nbformat_minor": 0
}
