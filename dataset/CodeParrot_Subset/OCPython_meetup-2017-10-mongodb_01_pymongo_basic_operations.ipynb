{
 "cells": [
  {
   "cell_type": "markdown",
   "metadata": {},
   "source": [
    "# Basic CRUD Operations (via pymongo)"
   ]
  },
  {
   "cell_type": "code",
   "execution_count": null,
   "metadata": {
    "collapsed": true
   },
   "outputs": [],
   "source": [
    "# import pymongo\n",
    "from pymongo import MongoClient"
   ]
  },
  {
   "cell_type": "code",
   "execution_count": null,
   "metadata": {
    "collapsed": true
   },
   "outputs": [],
   "source": [
    "# Create client\n",
    "client = MongoClient('mongodb://localhost:32768')"
   ]
  },
  {
   "cell_type": "code",
   "execution_count": null,
   "metadata": {
    "collapsed": true
   },
   "outputs": [],
   "source": [
    "# Connect to database\n",
    "db = client['mongo_meetup']"
   ]
  },
  {
   "cell_type": "code",
   "execution_count": null,
   "metadata": {
    "collapsed": false
   },
   "outputs": [],
   "source": [
    "# Get collection\n",
    "my_collection = db['users']"
   ]
  },
  {
   "cell_type": "markdown",
   "metadata": {},
   "source": [
    "## Helper Functions"
   ]
  },
  {
   "cell_type": "code",
   "execution_count": null,
   "metadata": {
    "collapsed": true
   },
   "outputs": [],
   "source": [
    "def print_users(users):\n",
    "    \"\"\"Print 0-N mongo documents\"\"\"\n",
    "    for idx, user in enumerate(users):\n",
    "        print(f'{idx}: {user}')"
   ]
  },
  {
   "cell_type": "code",
   "execution_count": null,
   "metadata": {
    "collapsed": true
   },
   "outputs": [],
   "source": [
    "def print_all_users(my_collection):\n",
    "    \"\"\"Print all the users in the 'users' collection\"\"\"\n",
    "    users = my_collection.find({})\n",
    "    print('--- All Users ---')\n",
    "    print_users(users)"
   ]
  },
  {
   "cell_type": "markdown",
   "metadata": {},
   "source": [
    "# CREATE\n",
    "\"INSERT\" in SQL"
   ]
  },
  {
   "cell_type": "code",
   "execution_count": null,
   "metadata": {
    "collapsed": false
   },
   "outputs": [],
   "source": [
    "# Note syntax change: All keys now wrapped in quotes (name goes to python \"name\")\n",
    "\n",
    "doc = {\n",
    "    \"name\": \"Sue\",             # \"field\": value\n",
    "    \"email\": \"sue@gmail.com\",  # \"field\": value\n",
    "    \"age\": 26,                 # \"field\": value\n",
    "    \"status\": \"pending\"        # \"field\": value\n",
    "}\n",
    "\n",
    "result = my_collection.insert_one(doc)\n",
    "\n",
    "print(f'result: {result}')"
   ]
  },
  {
   "cell_type": "code",
   "execution_count": null,
   "metadata": {
    "collapsed": false
   },
   "outputs": [],
   "source": [
    "# Insert a second user\n",
    "doc = {\n",
    "    \"name\": \"Johnny\",\n",
    "    \"email\": \"johnny@gmail.com\",    \n",
    "    \"age\": 13,\n",
    "    \"status\": \"pending\"\n",
    "}\n",
    "user_2_id = my_collection.insert_one(doc).inserted_id\n",
    "print(f'user_2_id: {user_2_id}')"
   ]
  },
  {
   "cell_type": "markdown",
   "metadata": {},
   "source": [
    "### Print All Users"
   ]
  },
  {
   "cell_type": "code",
   "execution_count": null,
   "metadata": {
    "collapsed": false
   },
   "outputs": [],
   "source": [
    "print_all_users(my_collection)"
   ]
  },
  {
   "cell_type": "markdown",
   "metadata": {},
   "source": [
    "# READ\n",
    "(\"SELECT\" in SQL)\n"
   ]
  },
  {
   "cell_type": "code",
   "execution_count": null,
   "metadata": {
    "collapsed": false
   },
   "outputs": [],
   "source": [
    "# Note syntax change: \"true\" goes to python \"True\" (Can use 1 instead of true/True)\n",
    "# Note syntax change: \"$gte\" wrapped in quotes\n",
    "\n",
    "users = my_collection.find(\n",
    "    { \"age\": { \"$gte\": 18 } },                        # query criteria\n",
    "    { \"_id\":False, \"name\": True, \"address\": True }    # projection\n",
    ").limit(5)                                            # cursor modifier"
   ]
  },
  {
   "cell_type": "code",
   "execution_count": null,
   "metadata": {
    "collapsed": false,
    "slideshow": {
     "slide_type": "-"
    }
   },
   "outputs": [],
   "source": [
    "print(f'Type: {type(users)}')"
   ]
  },
  {
   "cell_type": "code",
   "execution_count": null,
   "metadata": {
    "collapsed": false
   },
   "outputs": [],
   "source": [
    "print_users(users)"
   ]
  },
  {
   "cell_type": "markdown",
   "metadata": {},
   "source": [
    "# UPDATE \n",
    "(\"UPDATE\" in SQL)"
   ]
  },
  {
   "cell_type": "code",
   "execution_count": null,
   "metadata": {
    "collapsed": false
   },
   "outputs": [],
   "source": [
    "# Note syntax change: method \"updateMany\" renamed to \"update_many\" (more pythonic)\n",
    "\n",
    "my_collection.update_many(\n",
    "    { \"age\": { \"$lt\": 18 } },\n",
    "    { \"$set\": { \"status\": \"reject\" } }    \n",
    ")"
   ]
  },
  {
   "cell_type": "markdown",
   "metadata": {},
   "source": [
    "# DELETE \n",
    "(\"DELETE\" in SQL)"
   ]
  },
  {
   "cell_type": "code",
   "execution_count": null,
   "metadata": {
    "collapsed": false
   },
   "outputs": [],
   "source": [
    "# Note syntax change: method \"deleteMany\" renamed to \"delete_many\" (more pythonic)\n",
    "\n",
    "db.users.delete_many(\n",
    "    { \"status\": \"reject\" }\n",
    ")"
   ]
  },
  {
   "cell_type": "markdown",
   "metadata": {
    "collapsed": true
   },
   "source": [
    "### Print All Users"
   ]
  },
  {
   "cell_type": "code",
   "execution_count": null,
   "metadata": {
    "collapsed": false
   },
   "outputs": [],
   "source": [
    "print_all_users(my_collection)"
   ]
  },
  {
   "cell_type": "markdown",
   "metadata": {},
   "source": [
    "### DELETE/DROP 'Users'\n"
   ]
  },
  {
   "cell_type": "code",
   "execution_count": null,
   "metadata": {
    "collapsed": false
   },
   "outputs": [],
   "source": [
    "# DANGER!!! (\"DELETE FROM users\" in SQL)\n",
    "db.users.delete_many({});\n",
    "\n",
    "# DANGER!!! (\"DROP TABLE users\" in SQL)\n",
    "db.users.drop();\n"
   ]
  }
 ],
 "metadata": {
  "kernelspec": {
   "display_name": "mongodb-kernel",
   "language": "python",
   "name": "mongodb-kernel"
  },
  "language_info": {
   "codemirror_mode": {
    "name": "ipython",
    "version": 3
   },
   "file_extension": ".py",
   "mimetype": "text/x-python",
   "name": "python",
   "nbconvert_exporter": "python",
   "pygments_lexer": "ipython3",
   "version": "3.6.1"
  }
 },
 "nbformat": 4,
 "nbformat_minor": 2
}
