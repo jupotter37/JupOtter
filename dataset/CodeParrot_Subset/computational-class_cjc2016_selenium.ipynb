{
 "cells": [
  {
   "cell_type": "code",
   "execution_count": 1,
   "metadata": {
    "ExecuteTime": {
     "end_time": "2017-05-20T14:58:07.401040",
     "start_time": "2017-05-20T14:58:07.332376"
    },
    "collapsed": true
   },
   "outputs": [],
   "source": [
    "from selenium import webdriver\n",
    "import selenium.webdriver.support.ui as ui\n"
   ]
  },
  {
   "cell_type": "code",
   "execution_count": 2,
   "metadata": {
    "ExecuteTime": {
     "end_time": "2017-05-20T14:58:22.971511",
     "start_time": "2017-05-20T14:58:20.826559"
    },
    "collapsed": true
   },
   "outputs": [],
   "source": [
    "browser = webdriver.Firefox() # 打开Firefox浏览器\n"
   ]
  },
  {
   "cell_type": "code",
   "execution_count": 3,
   "metadata": {
    "ExecuteTime": {
     "end_time": "2017-05-20T14:58:53.289422",
     "start_time": "2017-05-20T14:58:52.792826"
    },
    "collapsed": true
   },
   "outputs": [],
   "source": [
    "browser.get(\"http://xwb100.cn/login/login.php\") \n",
    "#打开网址手工登陆 #新微榜加入了用户注册界面，包含验证码 \n"
   ]
  },
  {
   "cell_type": "code",
   "execution_count": null,
   "metadata": {
    "collapsed": true
   },
   "outputs": [],
   "source": []
  }
 ],
 "metadata": {
  "kernelspec": {
   "display_name": "Python 2",
   "language": "python",
   "name": "python2"
  },
  "language_info": {
   "codemirror_mode": {
    "name": "ipython",
    "version": 2
   },
   "file_extension": ".py",
   "mimetype": "text/x-python",
   "name": "python",
   "nbconvert_exporter": "python",
   "pygments_lexer": "ipython2",
   "version": "2.7.12"
  },
  "latex_envs": {
   "bibliofile": "biblio.bib",
   "cite_by": "apalike",
   "current_citInitial": 1,
   "eqLabelWithNumbers": true,
   "eqNumInitial": 0
  },
  "toc": {
   "toc_cell": false,
   "toc_number_sections": true,
   "toc_threshold": 6,
   "toc_window_display": false
  }
 },
 "nbformat": 4,
 "nbformat_minor": 0
}
