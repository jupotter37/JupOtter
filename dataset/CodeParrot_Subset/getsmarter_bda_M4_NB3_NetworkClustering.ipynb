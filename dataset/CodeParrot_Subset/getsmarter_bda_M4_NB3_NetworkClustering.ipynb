{
 "cells": [
  {
   "cell_type": "markdown",
   "metadata": {},
   "source": [
    "<div align=\"right\">Python 3.6 Jupyter Notebook</div>\n",
    "\n",
    "# Finding connected components using  clustering\n",
    "\n",
    "<br><div class=\"alert alert-warning\">\n",
    "<b>Note that this notebook contains advanced exercises applicable only to students who wish to deepen their understanding and qualify for bonus marks on the course.</b> You will be able to achieve 100% for this notebook by only completing Exercise 1. Optional, additional exercises can be completed to qualify for bonus marks.\n",
    "</div>\n",
    "\n",
    "\n",
    "### Your completion of the notebook exercises will be graded based on your ability to do the following:\n",
    "\n",
    "> **Understand**: Do your pseudo-code and comments show evidence that you recall and understand technical concepts?\n",
    "\n",
    "> **Apply**: Are you able to execute code (using the supplied examples) that performs the required functionality on supplied or generated data sets? \n",
    "\n",
    "> **Analyze**: Are you able to pick the relevant method or  library to resolve specific stated questions?\n",
    "\n",
    "> **Evaluate**: Are you able to interpret the results and justify your interpretation based on the observed data?"
   ]
  },
  {
   "cell_type": "markdown",
   "metadata": {},
   "source": [
    "#### Notebook objectives\n",
    "By the end of this notebook, you will be expected to:\n",
    "> \n",
    "  - Find connected components in networks (using the techniques of hierarchical clustering, modularity maximization, and spectral graph partitioning); and\n",
    "  - Interpret clustering results.\n",
    "  \n",
    "####  List of exercises\n",
    "> - **Exercise 1**: Understanding hierarchical clustering.\n",
    "- **Exercise 2 [Advanced]**: Interpreting the results of hierarchical clustering.\n",
    "- **Exercise 3 [Advanced]**: Summarizing clustering results based on modularity maximization and spectral graph partitioning."
   ]
  },
  {
   "cell_type": "markdown",
   "metadata": {},
   "source": [
    "# Notebook introduction"
   ]
  },
  {
   "cell_type": "markdown",
   "metadata": {},
   "source": [
    "Community detection is an important task in social network analysis. The idea behind it is to identify groups of people that share a common interest, based on the assumption that these people tend to link to each other more than to the rest of the network. Specifically, real-world networks exhibit clustering behavior that can be observed in the graph representation of these networks by the formation of clusters or partitions. These groups of nodes on a graph (clusters) correspond to communities that share common properties, or have a common role in the system under study.\n",
    "\n",
    "Intuitively, it is expected that such clusters are associated with a high concentration of nodes. In the following examples, you will explore the identification of these clusters using the following approaches, as discussed in the video content:\n",
    "\n",
    "- Hierarchical clustering (using a distance matrix)\n",
    "- The Louvain Algorithm (using modularity maximization)\n",
    "- Spectral graph partitioning"
   ]
  },
  {
   "cell_type": "markdown",
   "metadata": {},
   "source": [
    "#### Import required modules"
   ]
  },
  {
   "cell_type": "code",
   "execution_count": null,
   "metadata": {},
   "outputs": [],
   "source": [
    "import networkx as nx\n",
    "import pandas as pd\n",
    "import numpy as np\n",
    "\n",
    "%matplotlib inline\n",
    "import matplotlib.pylab as plt\n",
    "from networkx.drawing.nx_agraph import graphviz_layout\n",
    "\n",
    "from collections import defaultdict, Counter\n",
    "import operator\n",
    "\n",
    "## For hierarchical clustering.\n",
    "from scipy.cluster import hierarchy\n",
    "from scipy.spatial import distance\n",
    "\n",
    "## For spectral graph partitioning.\n",
    "from sklearn.cluster import spectral_clustering as spc\n",
    "\n",
    "## For Community Detection (Louvain Method).\n",
    "import community\n",
    "\n",
    "\n",
    "import sys\n",
    "sys.path.append('..')\n",
    "from utils import draw_partitioned_graph\n",
    "from utils import fancy_dendrogram\n",
    "\n",
    "plt.rcParams['figure.figsize'] = (15, 9)\n",
    "plt.rcParams['axes.titlesize'] = 'large'"
   ]
  },
  {
   "cell_type": "markdown",
   "metadata": {},
   "source": [
    "## 1. Data preparation"
   ]
  },
  {
   "cell_type": "markdown",
   "metadata": {},
   "source": [
    "You are going to read the graph from an adjacency list saved in earlier exercises."
   ]
  },
  {
   "cell_type": "code",
   "execution_count": null,
   "metadata": {},
   "outputs": [],
   "source": [
    "call_adjmatrix = pd.read_csv('./call.adjmatrix', index_col=0)\n",
    "call_graph     = nx.from_numpy_matrix(call_adjmatrix.as_matrix())"
   ]
  },
  {
   "cell_type": "code",
   "execution_count": null,
   "metadata": {},
   "outputs": [],
   "source": [
    "# Display call graph object.\n",
    "plt.figure(figsize=(10,10))\n",
    "plt.axis('off')\n",
    "\n",
    "pos = graphviz_layout(call_graph, prog='dot')\n",
    "nx.draw_networkx(call_graph, pos=pos, node_color='#11DD11', with_labels=False)\n",
    "_ = plt.axis('off')"
   ]
  },
  {
   "cell_type": "markdown",
   "metadata": {},
   "source": [
    "## 2. Hierarchical clustering"
   ]
  },
  {
   "cell_type": "markdown",
   "metadata": {},
   "source": [
    "This notebook makes use of a hierarchical clustering algorithm, as implemented in [Scipy](http://docs.scipy.org/doc/scipy/reference/). The following example uses the average distance measure. Since the graph is weighted, you can also use the single linkage inter-cluster distance measure (see exercises)."
   ]
  },
  {
   "cell_type": "code",
   "execution_count": null,
   "metadata": {},
   "outputs": [],
   "source": [
    "def create_hc(G, linkage='average'):\n",
    "    \"\"\"\n",
    "    Creates hierarchical cluster of graph G from distance matrix\n",
    "    \"\"\" \n",
    "    \n",
    "    path_length=nx.all_pairs_shortest_path_length(G)\n",
    "    distances=np.zeros((G.order(),G.order())) \n",
    "    \n",
    "    for u,p in dict(path_length).items():\n",
    "        for v,d in p.items():\n",
    "            distances[list(G.nodes)[u]][list(G.nodes)[v]] = d\n",
    "            distances[list(G.nodes)[v]][list(G.nodes)[u]] = d\n",
    "            if u==v: \n",
    "                distances[list(G.nodes)[u]][list(G.nodes)[u]]=0\n",
    "    # Create hierarchical cluster (HC).\n",
    "    Y=distance.squareform(distances)\n",
    "    if linkage == 'max':\n",
    "        # Creates HC using farthest point linkage.\n",
    "        Z=hierarchy.complete(Y)  \n",
    "    if linkage == 'single':\n",
    "        # Creates HC using closest point linkage.\n",
    "        Z=hierarchy.single(Y)  \n",
    "    if linkage == 'average':\n",
    "        # Creates HC using average point linkage.\n",
    "        Z=hierarchy.average(Y)\n",
    "        \n",
    "    return Z\n",
    "\n",
    "def get_cluster_membership(Z, maxclust):\n",
    "    '''\n",
    "    Assigns cluster membership by specifying cluster size.\n",
    "    '''\n",
    "    hc_out=list(hierarchy.fcluster(Z,maxclust, criterion='maxclust'))\n",
    "    \n",
    "    # Map cluster values to a dictionary variable.\n",
    "    cluster_membership = {}\n",
    "    i = 0\n",
    "    for i in range(len(hc_out)):\n",
    "        cluster_membership[i]=hc_out[i]\n",
    "    \n",
    "    return cluster_membership"
   ]
  },
  {
   "cell_type": "markdown",
   "metadata": {},
   "source": [
    "Below is a demonstration of hierarchical clustering when applied to the call graph."
   ]
  },
  {
   "cell_type": "code",
   "execution_count": null,
   "metadata": {},
   "outputs": [],
   "source": [
    "# Perform hierarchical clustering using 'average' linkage. \n",
    "Z = create_hc(call_graph, linkage='average') "
   ]
  },
  {
   "cell_type": "markdown",
   "metadata": {},
   "source": [
    "The dendrogram corresponding to the partitioned graph is obtained as follows:"
   ]
  },
  {
   "cell_type": "code",
   "execution_count": null,
   "metadata": {},
   "outputs": [],
   "source": [
    "hierarchy.dendrogram(Z)\n",
    "plt.show()"
   ]
  },
  {
   "cell_type": "markdown",
   "metadata": {},
   "source": [
    "You will notice that the full dendrogram is unwieldy, and difficult to use or read. Fortunately, the `dendrogram` method has a feature that allows one to only show the `lastp` merged clusters, where $p$ is the desired number of last `p` merged clusters."
   ]
  },
  {
   "cell_type": "code",
   "execution_count": null,
   "metadata": {},
   "outputs": [],
   "source": [
    "plt.title('Hierarchical Clustering Dendrogram (pruned)')\n",
    "plt.xlabel('sample index (or leaf size)')\n",
    "plt.ylabel('distance')\n",
    "hierarchy.dendrogram(\n",
    "    Z,\n",
    "    truncate_mode='lastp',  # show only the last p merged clusters\n",
    "    p=10,                   # show only the last p merged clusters\n",
    "    show_leaf_counts=True,  # numbers in brackets are counts for each leaf\n",
    "    leaf_rotation=90,\n",
    "    leaf_font_size=12)\n",
    "plt.show()"
   ]
  },
  {
   "cell_type": "markdown",
   "metadata": {},
   "source": [
    "This dendrogram can help explain what happens as a result of the agglomerative method of hierarchical clustering. Starting at the bottom-most level, each node is assigned its own cluster. The closest pair of nodes (according to a distance function) are then merged into a new cluster. The distance matrix is recomputed, treating the merged cluster as an individual node. This process is repeated until the entire network has been merged into a single, large cluster, which the top level in the dendrogram above represents. You can now understand why this method is agglomerative.\n",
    "\n",
    "The linkage function is used to determine the distance between a cluster and a node, or between two clusters, using the following possibilities:\n",
    "\n",
    "- **Single:** Merge two clusters with the smallest minimum pairwise distance.\n",
    "- **Average:** Merge two clusters with the smallest average pairwise distance.\n",
    "- **Maximum or complete:** Merge the two clusters with the smallest maximum pairwise distance."
   ]
  },
  {
   "cell_type": "markdown",
   "metadata": {},
   "source": [
    "Now, you can finally retrieve the clusters, based on the analysis of the dendrogram. In this post-processing, there are different ways of determining $k$, the number of clusters to partition the data into. Scipy's hierarchical flat clustering function - \"``hierarchy.fcluster()``\" - is used to assign cluster membership by specifying a distance threshold, or the number of clusters required. In the function definition (above), you have been provided with a utility function, \"``get_cluster_membership()``\", which does the latter.\n",
    "\n",
    "Selecting the number of clusters $k$ is, in general, an ill-posed problem. Different interpretations are possible, depending on the nature of the problem, the scale of the distribution of points in a data set, and the required clustering resolution. In agglomerative clustering, as used in the example above, you can get zero error for the objective function by considering each data point as its own cluster. Hence, the selection of $k$ invariably involves a trade-off maximum compression of the data (using a single cluster), and maximum accuracy by assigning each data point to its own cluster. The selection of an optimal $k$ can be done using automated techniques or manually."
   ]
  },
  {
   "cell_type": "markdown",
   "metadata": {},
   "source": [
    "Here, identification of an appropriate cluster is ideally done manually as this has the advantages of gaining some insights into your data as well as providing an opportunity to [perform sanity checks](https://joernhees.de/blog/2015/08/26/scipy-hierarchical-clustering-and-dendrogram-tutorial). To select the cluster size, look for a large shift in the distance metric. In our example with dendrograms plots shown above, say a case has been made for an ideal cutoff of 3.5. The number of clusters is then simply the number of intersections of a horizontal line (with height of 3.5) with the vertical lines of the dendrogram. Therefore, 3 clusters would be obtained in this case as shown below."
   ]
  },
  {
   "cell_type": "code",
   "execution_count": null,
   "metadata": {},
   "outputs": [],
   "source": [
    "fancy_dendrogram( Z, truncate_mode='lastp', p=12, leaf_rotation=90.,\n",
    "    leaf_font_size=12.0,\n",
    "    show_contracted=False,\n",
    "    annotate_above=10,\n",
    "    max_d=3.5)\n",
    "plt.show()"
   ]
  },
  {
   "cell_type": "code",
   "execution_count": null,
   "metadata": {},
   "outputs": [],
   "source": [
    "opt_clust = 3\n",
    "opt_clust"
   ]
  },
  {
   "cell_type": "markdown",
   "metadata": {},
   "source": [
    "You can now assign the data to these \"``opt_clust``\" clusters."
   ]
  },
  {
   "cell_type": "code",
   "execution_count": null,
   "metadata": {},
   "outputs": [],
   "source": [
    "cluster_assignments = get_cluster_membership(Z, maxclust=opt_clust)"
   ]
  },
  {
   "cell_type": "markdown",
   "metadata": {},
   "source": [
    "The partitioned graph, corresponding to the dendrogram above, can now be visualized."
   ]
  },
  {
   "cell_type": "code",
   "execution_count": null,
   "metadata": {},
   "outputs": [],
   "source": [
    "clust = list(set(cluster_assignments.values()))\n",
    "clust"
   ]
  },
  {
   "cell_type": "code",
   "execution_count": null,
   "metadata": {},
   "outputs": [],
   "source": [
    "cluster_centers = sorted(set(cluster_assignments.values()))\n",
    "freq = [list(cluster_assignments.values()).count(x) for x in cluster_centers]"
   ]
  },
  {
   "cell_type": "code",
   "execution_count": null,
   "metadata": {},
   "outputs": [],
   "source": [
    "# Creata a DataFrame object containing list of cluster centers and number of objects in each cluster\n",
    "df = pd.DataFrame({'cluster_centres':cluster_centers, 'number_of_objects':freq})\n",
    "df.head(10)"
   ]
  },
  {
   "cell_type": "markdown",
   "metadata": {},
   "source": [
    "<br>\n",
    "<div class=\"alert alert-info\">\n",
    "<b>Exercise 1 Start.</b>\n",
    "</div>\n",
    "\n",
    "### Instructions\n",
    "\n",
    "> 1. How many clusters are obtained after the final step of a generic agglomerative clustering algorithm (before post-processing)?\n",
    ">> **Note:** Post-processing involves determining the optimal clusters for the problem at hand.\n",
    "> 2. Based on your answer above, would you consider agglomerative clustering a top-down approach, or a bottom-up approach?\n",
    "> 3. Which of the three linkage functions (i.e. single, average, or maximum or complete) do you think is likely to be most sensitive to outliers? \n",
    ">>**Hint**: Look at this [single-link and complete-link clustering](http://nlp.stanford.edu/IR-book/html/htmledition/single-link-and-complete-link-clustering-1.html) resource."
   ]
  },
  {
   "cell_type": "markdown",
   "metadata": {},
   "source": [
    "Your markdown answer here.\n",
    "\n",
    "1. \n",
    "2. \n",
    "3. \n"
   ]
  },
  {
   "cell_type": "markdown",
   "metadata": {},
   "source": [
    "<br>\n",
    "\n",
    "<div class=\"alert alert-info\">\n",
    "<b>Exercise 1 End.</b>\n",
    "</div>\n",
    "\n",
    "> **Exercise complete**:"
   ]
  },
  {
   "cell_type": "markdown",
   "metadata": {},
   "source": [
    "<br>\n",
    "<div class=\"alert alert-info\">\n",
    "<b>Exercise 2 [Advanced] Start.</b>\n",
    "</div>\n",
    "\n",
    "### Instructions\n",
    "\n",
    "> In this exercise, you will investigate the structural properties of the clusters generated from above.\n",
    "\n",
    "> 1. Assign the values from your \"cluster_assignments\" to a Pandas DataFrame named \"df1\", with the column name \"cluster_label\".\n",
    ">> **Hint**: The variable \"``cluster_assignments``\" is of type ``dict``. You will need to get the values component of this dict, **not** the keys.\n",
    "> 2. Add a field called \"participantID\" to \"df1\", and assign to this the index values from the previously-loaded \"``call_adjmatrix``\" DataFrame.\n",
    "> 3. Load the DataFrame containing the centrality measures that you saved in Notebook 1 of this module, into \"df2\".\n",
    "> 4. Perform an inner join by merging \"df1\" and \"df2\" on the field \"participantID\". Assign the result of this join to variable \"df3\".\n",
    "> 5. Perform a groupby on \"df3\" (using \"cluster_label\" field), and then evaluate the mean of the four centrality measures (using the \"`agg()`\" method). Assign the aggregation result to \"df4\".\n",
    "> 6. Review \"df4\", and plot its barplot. \n",
    "> 7. Merge clusters which share the same mean values for a centrality measure into a single cluster. Assign the smallest value of the labels in the set to the merged cluster.\n",
    ">> **Note**:<br>\n",
    "Combine clusters such that, given a  cluster with centrality measures $[x1, x2, x3, x4]$, and another cluster with centrality measures $[z1, z2, z3, z4]$, the following holds true:<br>\n",
    "$x1 = z1$ <br> $x2 = z2$ <br> $x3 = z3$ <br> $x4 = z4$<br>\n",
    "> 8. Print the size of each cluster, in descending order,  after performing the cluster merging in the preceding step."
   ]
  },
  {
   "cell_type": "code",
   "execution_count": null,
   "metadata": {},
   "outputs": [],
   "source": [
    "# Your code here.\n"
   ]
  },
  {
   "cell_type": "markdown",
   "metadata": {},
   "source": [
    "<br>\n",
    "\n",
    "<div class=\"alert alert-info\">\n",
    "<b>Exercise 2 [Advanced] End.</b>\n",
    "</div>\n",
    "\n",
    "> **Exercise complete**:    \n",
    "> This is a good time to \"Save and Checkpoint\"."
   ]
  },
  {
   "cell_type": "markdown",
   "metadata": {},
   "source": [
    "## 3. Community detection\n",
    "Community detection is an important component in the analysis of large and complex networks. Identifying these subgraph structures helps in understanding organizational and functional characteristics of the underlying physical networks. In this section, you will study a few  approaches that are widely used in community detection using graph representations."
   ]
  },
  {
   "cell_type": "markdown",
   "metadata": {},
   "source": [
    "### 3.1 The Louvain modularity-maximization approach"
   ]
  },
  {
   "cell_type": "markdown",
   "metadata": {},
   "source": [
    "The Louvain method is one of the most widely-used methods for detecting communities in large networks. It was developed by a team of researchers at the Université catholique de Louvain. The method can unveil hierarchies of communities, and allows you to zoom within communities in order to discover sub-communities, sub-sub-communities, and so forth. The modularity QQ quantifies how good a \"community\" or partition is, and is defined as follows:\n",
    "\n",
    "$$Q_c =\\frac{1}{2m}\\sum _{(ij)} \\left [ A_{ij}-\\frac{k_ik_j}{2m} \\right] \\delta(c_i, c_j)$$\n",
    "\n",
    "The higher the $Q_c$ of a community is, the better the partition is.\n",
    "\n",
    "The Louvain method is a greedy optimization method that attempts to optimize the \"modularity\" of a partition of the network via two steps:\n",
    "\n",
    "1. Locally optimize the modularity to identify \"small\" communities.\n",
    "2. Aggregate nodes belonging to the same community, and create a new network with aggregated nodes as individual nodes.\n",
    "\n",
    "Steps 1 and 2 are then repeated until a maximum of modularity produces a hierarchy of communities."
   ]
  },
  {
   "cell_type": "markdown",
   "metadata": {},
   "source": [
    "### 3.2 Spectral graph partitioning"
   ]
  },
  {
   "cell_type": "markdown",
   "metadata": {},
   "source": [
    "Spectral graph partitioning and clustering is based on the spectrum — the eigenvalues and associated eigenvectors — of the Laplacian matrix that corresponds to a given graph. The approach is mathematically complex, but involves performing a $k$-means clustering, on a spectral projection of the graph, with $k$=2 (using an adjacency matrix as the affinity). A schematic illustration of the process is depicted in the figure below.\n",
    "\n",
    "**Optional**: You can read more about [spectral graph processing](https://devblogs.nvidia.com/parallelforall/fast-spectral-graph-partitioning-gpus/)."
   ]
  },
  {
   "cell_type": "markdown",
   "metadata": {},
   "source": [
    "![Spectral graph](img\\spectral_graph_part.png)"
   ]
  },
  {
   "cell_type": "markdown",
   "metadata": {},
   "source": [
    "Now, apply spectral graph partitioning to your call graph, and visualize the resulting community structure. You can read more about [Scikit-Learn](http://scikit-learn.org/stable/index.html), and the [Spectral Clustering](http://scikit-learn.org/stable/modules/generated/sklearn.cluster.SpectralClustering.html) function utilized in this section. Spectral graph partitioning needs input in the form of the number of clusters sought (default setting is 8). There are various approaches one can take to optimize the final number of clusters, depending on problem domain knowledge. Below you will use a value of $k=9$."
   ]
  },
  {
   "cell_type": "code",
   "execution_count": null,
   "metadata": {},
   "outputs": [],
   "source": [
    "# Create the spectral partition using the spectral clustering function from Scikit-Learn.\n",
    "spectral_partition = spc(call_adjmatrix.as_matrix(), 9, assign_labels='discretize')"
   ]
  },
  {
   "cell_type": "code",
   "execution_count": null,
   "metadata": {},
   "outputs": [],
   "source": [
    "pos = graphviz_layout(call_graph, prog='dot')\n",
    "nx.draw_networkx_nodes(call_graph, pos, cmap=plt.cm.RdYlBu, node_color=spectral_partition)\n",
    "nx.draw_networkx_edges(call_graph, pos, alpha=0.5)\n",
    "plt.axis('off')\n",
    "plt.show()"
   ]
  },
  {
   "cell_type": "code",
   "execution_count": null,
   "metadata": {},
   "outputs": [],
   "source": [
    "print(spectral_partition)"
   ]
  },
  {
   "cell_type": "markdown",
   "metadata": {},
   "source": [
    "<br>\n",
    "<div class=\"alert alert-info\">\n",
    "<b>Exercise 3 [Advanced] Start.</b>\n",
    "</div>\n",
    "\n",
    "### Instructions\n",
    "Compute the size of each the clusters obtained using the spectral graph partitioning method.\n",
    "    "
   ]
  },
  {
   "cell_type": "code",
   "execution_count": null,
   "metadata": {},
   "outputs": [],
   "source": [
    "# Your code here."
   ]
  },
  {
   "cell_type": "markdown",
   "metadata": {},
   "source": [
    "<br>\n",
    "\n",
    "<div class=\"alert alert-info\">\n",
    "<b>Exercise 3 [Advanced] End.</b>\n",
    "</div>\n",
    "\n",
    "> **Exercise complete**:  \n",
    "> This is a good time to \"Save and Checkpoint\"."
   ]
  },
  {
   "cell_type": "markdown",
   "metadata": {},
   "source": [
    "## 4. Submit your notebook\n",
    "\n",
    "Please make sure that you:\n",
    "- Perform a final \"Save and Checkpoint\";\n",
    "- Download a copy of the notebook in \".ipynb\" format to your local machine using \"File\", \"Download as\", and \"IPython Notebook (.ipynb)\"; and\n",
    "- Submit a copy of this file to the Online Campus."
   ]
  }
 ],
 "metadata": {
  "anaconda-cloud": {},
  "kernelspec": {
   "display_name": "Python 3",
   "language": "python",
   "name": "python3"
  },
  "language_info": {
   "codemirror_mode": {
    "name": "ipython",
    "version": 3
   },
   "file_extension": ".py",
   "mimetype": "text/x-python",
   "name": "python",
   "nbconvert_exporter": "python",
   "pygments_lexer": "ipython3",
   "version": "3.6.6"
  }
 },
 "nbformat": 4,
 "nbformat_minor": 2
}
