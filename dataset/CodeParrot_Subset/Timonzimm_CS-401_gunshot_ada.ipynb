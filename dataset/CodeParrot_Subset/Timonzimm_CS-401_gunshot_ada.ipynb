{
 "cells": [
  {
   "cell_type": "code",
   "execution_count": null,
   "metadata": {
    "collapsed": true
   },
   "outputs": [],
   "source": [
    "from pandas import DataFrame\n",
    "import pandas as pd\n",
    "import numpy as np\n",
    "import matplotlib.pyplot as plt "
   ]
  },
  {
   "cell_type": "code",
   "execution_count": null,
   "metadata": {
    "collapsed": false
   },
   "outputs": [],
   "source": [
    "data = pd.read_csv(\"full_data.csv\")"
   ]
  },
  {
   "cell_type": "code",
   "execution_count": null,
   "metadata": {
    "collapsed": false
   },
   "outputs": [],
   "source": [
    "frame = DataFrame(data)\n",
    "frame"
   ]
  },
  {
   "cell_type": "code",
   "execution_count": null,
   "metadata": {
    "collapsed": false
   },
   "outputs": [],
   "source": [
    "frame.groupby('year').size()"
   ]
  },
  {
   "cell_type": "code",
   "execution_count": null,
   "metadata": {
    "collapsed": false
   },
   "outputs": [],
   "source": [
    "intent_year = frame.groupby(['intent', 'year']).size()\n",
    "intent_year.unstack('year').plot(kind='bar')\n",
    "plt.show()"
   ]
  },
  {
   "cell_type": "code",
   "execution_count": null,
   "metadata": {
    "collapsed": false
   },
   "outputs": [],
   "source": [
    "intent_avYear = frame.groupby(['intent','year']).size()\n",
    "intent_avYear.unstack('intent').mean().plot(kind='bar')\n",
    "plt.show()"
   ]
  },
  {
   "cell_type": "code",
   "execution_count": null,
   "metadata": {
    "collapsed": false
   },
   "outputs": [],
   "source": [
    "intent_MvsF = frame.groupby(['intent', 'sex']).size()\n",
    "intent_MvsF = intent_MvsF.unstack('sex')\n",
    "intent_MvsF"
   ]
  },
  {
   "cell_type": "code",
   "execution_count": null,
   "metadata": {
    "collapsed": false
   },
   "outputs": [],
   "source": [
    "intent_MvsF.plot(kind='barh')\n",
    "plt.show()"
   ]
  },
  {
   "cell_type": "code",
   "execution_count": null,
   "metadata": {
    "collapsed": false
   },
   "outputs": [],
   "source": [
    "intent_MvsF_normed = intent_MvsF.div(intent_MvsF.sum(1), axis=0)\n",
    "intent_MvsF_normed.plot(kind='barh', stacked=True)\n",
    "plt.show()"
   ]
  },
  {
   "cell_type": "code",
   "execution_count": null,
   "metadata": {
    "collapsed": false
   },
   "outputs": [],
   "source": [
    "intent_race=frame.groupby(['intent', 'race']).size()\n",
    "intent_race.unstack('race')"
   ]
  },
  {
   "cell_type": "code",
   "execution_count": null,
   "metadata": {
    "collapsed": false
   },
   "outputs": [],
   "source": [
    "intent_race.unstack('race').plot(kind='bar')\n",
    "plt.show()"
   ]
  },
  {
   "cell_type": "code",
   "execution_count": null,
   "metadata": {
    "collapsed": false
   },
   "outputs": [],
   "source": [
    "homicides_idx = frame['intent'] == \"Homicide\"\n",
    "homicides = frame[homicides_idx]\n",
    "young_idx = (15 < frame['age']) & (frame['age'] < 34) \n",
    "h_y_f = frame[young_idx & homicides_idx]\n",
    "print(\"Pourcentage of young men in homicides : \", len(h_y_f)/len(homicides)*100)\n"
   ]
  },
  {
   "cell_type": "code",
   "execution_count": null,
   "metadata": {
    "collapsed": false
   },
   "outputs": [],
   "source": [
    "t = frame.groupby(['intent', 'age', 'year']).size()\n",
    "t_mean = t.unstack(['intent', 'age']).mean()\n",
    "t_mean_homicide = t_mean.loc['Homicide']\n",
    "num_y_h = t_mean_homicide[15:34].sum()\n",
    "num_h = t_mean_homicide.sum()\n",
    "print(\"Pourcentage of young men in homicides (mean) : \", num_y_h/num_h*100)"
   ]
  }
 ],
 "metadata": {
  "kernelspec": {
   "display_name": "Python 3",
   "language": "python",
   "name": "python3"
  },
  "language_info": {
   "codemirror_mode": {
    "name": "ipython",
    "version": 3
   },
   "file_extension": ".py",
   "mimetype": "text/x-python",
   "name": "python",
   "nbconvert_exporter": "python",
   "pygments_lexer": "ipython3",
   "version": "3.5.4"
  }
 },
 "nbformat": 4,
 "nbformat_minor": 0
}
