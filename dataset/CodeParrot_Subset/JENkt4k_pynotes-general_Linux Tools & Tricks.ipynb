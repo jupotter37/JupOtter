{
 "cells": [
  {
   "cell_type": "markdown",
   "metadata": {
    "deletable": true,
    "editable": true
   },
   "source": [
    "Python magic\n",
    "https://ipython.org/ipython-doc/3/interactive/magics.html\n"
   ]
  },
  {
   "cell_type": "code",
   "execution_count": 4,
   "metadata": {
    "collapsed": false,
    "deletable": true,
    "editable": true
   },
   "outputs": [],
   "source": [
    "%colors Linux"
   ]
  },
  {
   "cell_type": "code",
   "execution_count": 7,
   "metadata": {
    "collapsed": false,
    "deletable": true,
    "editable": true
   },
   "outputs": [
    {
     "name": "stdout",
     "output_type": "stream",
     "text": [
      "print \"this is a test of the emergency broadcast system\"\n",
      "%colors black\n",
      "%colors u'Linux'\n",
      "%colors Linux\n",
      "print \"this is a test of the emergency broadcast system\"\n",
      "%dirs\n",
      "%history\n"
     ]
    }
   ],
   "source": [
    "%history"
   ]
  },
  {
   "cell_type": "code",
   "execution_count": 6,
   "metadata": {
    "collapsed": false,
    "deletable": true,
    "editable": true
   },
   "outputs": [
    {
     "data": {
      "text/plain": [
       "[]"
      ]
     },
     "execution_count": 6,
     "metadata": {},
     "output_type": "execute_result"
    }
   ],
   "source": [
    "%dirs"
   ]
  },
  {
   "cell_type": "code",
   "execution_count": 8,
   "metadata": {
    "collapsed": true,
    "deletable": true,
    "editable": true
   },
   "outputs": [],
   "source": [
    "%magic"
   ]
  },
  {
   "cell_type": "code",
   "execution_count": 9,
   "metadata": {
    "collapsed": false,
    "deletable": true,
    "editable": true
   },
   "outputs": [
    {
     "data": {
      "text/plain": [
       "u'/home/james/Documents/Git/MyGitHub/pynotes-general'"
      ]
     },
     "execution_count": 9,
     "metadata": {},
     "output_type": "execute_result"
    }
   ],
   "source": [
    "%pwd"
   ]
  },
  {
   "cell_type": "code",
   "execution_count": 10,
   "metadata": {
    "collapsed": true,
    "deletable": true,
    "editable": true
   },
   "outputs": [],
   "source": [
    "%quickref"
   ]
  },
  {
   "cell_type": "markdown",
   "metadata": {
    "deletable": true,
    "editable": true
   },
   "source": [
    "# Sticky keys causing issues? Need Password feedback?\n",
    "\n",
    "Had an issue with my keyboard where a few keys were sticking, worn, and they weren't detected or showed up twice. Constant password auth failures so a quick Google search returned the following results:\n",
    "\n",
    "\n",
    "  1) [Change Password Entry To Show * (asterix) instead of no feed back - less secure!](http://lifehacker.com/make-password-asterisks-visible-in-your-linux-terminal-1183533223)\n",
    "\n",
    "  ```bash \n",
    "  #run command\n",
    "  sudo visudo\n",
    "  ```\n",
    "    \n",
    "  ```bash\n",
    "  #change\n",
    "  Defaults        env_reset\n",
    "  #to\n",
    "  Defaults        env_reset,pwfeedback\n",
    "  ```\n",
    "\n",
    "  2) [Change from VI to Nano or Emacs etc..](https://www.garron.me/en/linux/visudo-command-sudoers-file-sudo-default-editor.html)\n",
    "\n",
    "\n",
    "  ```bash \n",
    "  export VISUAL=nano; visudo\n",
    "  ```\n",
    "\n",
    "[Notes * use spaces not tabs](https://gist.github.com/clintel/1155906)"
   ]
  },
  {
   "cell_type": "markdown",
   "metadata": {
    "deletable": true,
    "editable": true
   },
   "source": [
    "# Changing Git author info\n",
    "\n",
    "[source](https://help.github.com/articles/changing-author-info/)\n",
    "\n",
    "Check out clean repo:\n",
    "\n",
    "```bash \n",
    "git clone --bare https://github.com/[user]/[repo].git\n",
    "cd [repo].git\n",
    "```\n",
    "\n",
    "create git-author-rewrite.sh file:\n",
    "\n",
    "```bash\n",
    "#!/bin/sh\n",
    "\n",
    "git filter-branch --env-filter '\n",
    "OLD_EMAIL=\"your-old-email@example.com\"\n",
    "CORRECT_NAME=\"Your Correct Name\"\n",
    "CORRECT_EMAIL=\"your-correct-email@example.com\"\n",
    "if [ \"$GIT_COMMITTER_EMAIL\" = \"$OLD_EMAIL\" ]\n",
    "then\n",
    "    export GIT_COMMITTER_NAME=\"$CORRECT_NAME\"\n",
    "    export GIT_COMMITTER_EMAIL=\"$CORRECT_EMAIL\"\n",
    "fi\n",
    "if [ \"$GIT_AUTHOR_EMAIL\" = \"$OLD_EMAIL\" ]\n",
    "then\n",
    "    export GIT_AUTHOR_NAME=\"$CORRECT_NAME\"\n",
    "    export GIT_AUTHOR_EMAIL=\"$CORRECT_EMAIL\"\n",
    "fi\n",
    "' --tag-name-filter cat -- --branches --tags\n",
    "```\n",
    "\n",
    "\n",
    "make executable:\n",
    "```bash \n",
    "chmod +x create git-author-rewrite.sh\n",
    "```\n",
    "\n",
    "review changes:\n",
    "```bash\n",
    "git log\n",
    "```\n",
    "\n",
    "push changes:\n",
    "```bash\n",
    "git push --force --tags origin 'refs/heads/*'\n",
    "```\n",
    "\n",
    "cleanup:\n",
    "```bash\n",
    "cd ..\n",
    "rm -rf [repo].git\n",
    "```\n",
    "\n"
   ]
  },
  {
   "cell_type": "markdown",
   "metadata": {
    "deletable": true,
    "editable": true
   },
   "source": [
    "### Managing Remotes\n",
    "\n",
    "(Managing Remotes Documentation)[https://git-scm.com/book/ch2-5.html]\n",
    "\n",
    "(Multiple push remotes)[http://stackoverflow.com/questions/14290113/git-pushing-code-to-two-remotes]\n",
    "\n",
    "Show current remotes:\n",
    "```bash\n",
    "git remote -v\n",
    "```\n",
    "\n",
    "Add a \"all\" remote\n",
    "```bash\n",
    "git remote add all git://original/repo.git\n",
    "git remote -v\n",
    "```\n",
    "\n",
    "Add another repo to the remote\n",
    "```bash\n",
    "git remote set-url --add --push all git://another/repo.git\n",
    "```\n",
    "\n",
    "This will replace you orignal push, so simply add it back in\n",
    "```bash\n",
    "git remote set-url --add --push all git://original/repo.git\n",
    "```\n",
    "\n",
    "Now you should see both pushes\n",
    "```bash\n",
    "git remote -v\n",
    "```"
   ]
  },
  {
   "cell_type": "markdown",
   "metadata": {
    "deletable": true,
    "editable": true
   },
   "source": [
    "# Git general\n",
    "\n",
    "[Quick Refference](http://rogerdudler.github.io/git-guide/)"
   ]
  },
  {
   "cell_type": "markdown",
   "metadata": {
    "deletable": true,
    "editable": true
   },
   "source": [
    "# Whats my name?\n",
    "\n",
    "Linux Kernel Version\n",
    "```bash\n",
    "uname -r\n",
    "```\n",
    "\n",
    "Ubuntu version\n",
    "```bash\n",
    "lsb_release -sc\n",
    "```\n",
    "\n"
   ]
  },
  {
   "cell_type": "code",
   "execution_count": 5,
   "metadata": {
    "collapsed": false,
    "deletable": true,
    "editable": true
   },
   "outputs": [
    {
     "name": "stdout",
     "output_type": "stream",
     "text": [
      "this is a test of the emergency broadcast system\n"
     ]
    }
   ],
   "source": [
    "print \"this is a test of the emergency broadcast system\""
   ]
  },
  {
   "cell_type": "code",
   "execution_count": 11,
   "metadata": {
    "collapsed": false,
    "deletable": true,
    "editable": true
   },
   "outputs": [
    {
     "data": {
      "text/html": [
       "\n",
       "<style>\n",
       "\n",
       "html {\n",
       "  font-size: 62.5% !important; }\n",
       "body {\n",
       "  font-size: 1.5em !important; /* currently ems cause chrome bug misinterpreting rems on body element */\n",
       "  line-height: 1.6 !important;\n",
       "  font-weight: 400 !important;\n",
       "  font-family: \"Raleway\", \"HelveticaNeue\", \"Helvetica Neue\", Helvetica, Arial, sans-serif !important;\n",
       "  color: #222 !important; }\n",
       "\n",
       "div{ border-radius: 0px !important;  }\n",
       "div.CodeMirror-sizer{ background: rgb(244, 244, 248) !important; }\n",
       "div.input_area{ background: rgb(244, 244, 248) !important; }\n",
       "\n",
       "div.out_prompt_overlay:hover{ background: rgb(244, 244, 248) !important; }\n",
       "div.input_prompt:hover{ background: rgb(244, 244, 248) !important; }\n",
       "\n",
       "h1, h2, h3, h4, h5, h6 {\n",
       "  color: #333 !important;\n",
       "  margin-top: 0 !important;\n",
       "  margin-bottom: 2rem !important;\n",
       "  font-weight: 300 !important; }\n",
       "h1 { font-size: 4.0rem !important; line-height: 1.2 !important;  letter-spacing: -.1rem !important;}\n",
       "h2 { font-size: 3.6rem !important; line-height: 1.25 !important; letter-spacing: -.1rem !important; }\n",
       "h3 { font-size: 3.0rem !important; line-height: 1.3 !important;  letter-spacing: -.1rem !important; }\n",
       "h4 { font-size: 2.4rem !important; line-height: 1.35 !important; letter-spacing: -.08rem !important; }\n",
       "h5 { font-size: 1.8rem !important; line-height: 1.5 !important;  letter-spacing: -.05rem !important; }\n",
       "h6 { font-size: 1.5rem !important; line-height: 1.6 !important;  letter-spacing: 0 !important; }\n",
       "\n",
       "@media (min-width: 550px) {\n",
       "  h1 { font-size: 5.0rem !important; }\n",
       "  h2 { font-size: 4.2rem !important; }\n",
       "  h3 { font-size: 3.6rem !important; }\n",
       "  h4 { font-size: 3.0rem !important; }\n",
       "  h5 { font-size: 2.4rem !important; }\n",
       "  h6 { font-size: 1.5rem !important; }\n",
       "}\n",
       "\n",
       "p {\n",
       "  margin-top: 0 !important; }\n",
       "  \n",
       "a {\n",
       "  color: #1EAEDB !important; }\n",
       "a:hover {\n",
       "  color: #0FA0CE !important; }\n",
       "  \n",
       "code {\n",
       "  padding: .2rem .5rem !important;\n",
       "  margin: 0 .2rem !important;\n",
       "  font-size: 90% !important;\n",
       "  white-space: nowrap !important;\n",
       "  background: #F1F1F1 !important;\n",
       "  border: 1px solid #E1E1E1 !important;\n",
       "  border-radius: 4px !important; }\n",
       "pre > code {\n",
       "  display: block !important;\n",
       "  padding: 1rem 1.5rem !important;\n",
       "  white-space: pre !important; }\n",
       "  \n",
       "button{ border-radius: 0px !important; }\n",
       ".navbar-inner{ background-image: none !important;  }\n",
       "select, textarea{ border-radius: 0px !important; }\n",
       "\n",
       "</style>"
      ],
      "text/plain": [
       "<IPython.core.display.HTML object>"
      ]
     },
     "metadata": {},
     "output_type": "display_data"
    }
   ],
   "source": [
    "%%html\n",
    "\n",
    "<style>\n",
    "\n",
    "html {\n",
    "  font-size: 62.5% !important; }\n",
    "body {\n",
    "  font-size: 1.5em !important; /* currently ems cause chrome bug misinterpreting rems on body element */\n",
    "  line-height: 1.6 !important;\n",
    "  font-weight: 400 !important;\n",
    "  font-family: \"Raleway\", \"HelveticaNeue\", \"Helvetica Neue\", Helvetica, Arial, sans-serif !important;\n",
    "  color: #222 !important; }\n",
    "\n",
    "div{ border-radius: 0px !important;  }\n",
    "div.CodeMirror-sizer{ background: rgb(244, 244, 248) !important; }\n",
    "div.input_area{ background: rgb(244, 244, 248) !important; }\n",
    "\n",
    "div.out_prompt_overlay:hover{ background: rgb(244, 244, 248) !important; }\n",
    "div.input_prompt:hover{ background: rgb(244, 244, 248) !important; }\n",
    "\n",
    "h1, h2, h3, h4, h5, h6 {\n",
    "  color: #333 !important;\n",
    "  margin-top: 0 !important;\n",
    "  margin-bottom: 2rem !important;\n",
    "  font-weight: 300 !important; }\n",
    "h1 { font-size: 4.0rem !important; line-height: 1.2 !important;  letter-spacing: -.1rem !important;}\n",
    "h2 { font-size: 3.6rem !important; line-height: 1.25 !important; letter-spacing: -.1rem !important; }\n",
    "h3 { font-size: 3.0rem !important; line-height: 1.3 !important;  letter-spacing: -.1rem !important; }\n",
    "h4 { font-size: 2.4rem !important; line-height: 1.35 !important; letter-spacing: -.08rem !important; }\n",
    "h5 { font-size: 1.8rem !important; line-height: 1.5 !important;  letter-spacing: -.05rem !important; }\n",
    "h6 { font-size: 1.5rem !important; line-height: 1.6 !important;  letter-spacing: 0 !important; }\n",
    "\n",
    "@media (min-width: 550px) {\n",
    "  h1 { font-size: 5.0rem !important; }\n",
    "  h2 { font-size: 4.2rem !important; }\n",
    "  h3 { font-size: 3.6rem !important; }\n",
    "  h4 { font-size: 3.0rem !important; }\n",
    "  h5 { font-size: 2.4rem !important; }\n",
    "  h6 { font-size: 1.5rem !important; }\n",
    "}\n",
    "\n",
    "p {\n",
    "  margin-top: 0 !important; }\n",
    "  \n",
    "a {\n",
    "  color: #1EAEDB !important; }\n",
    "a:hover {\n",
    "  color: #0FA0CE !important; }\n",
    "  \n",
    "code {\n",
    "  padding: .2rem .5rem !important;\n",
    "  margin: 0 .2rem !important;\n",
    "  font-size: 90% !important;\n",
    "  white-space: nowrap !important;\n",
    "  background: #F1F1F1 !important;\n",
    "  border: 1px solid #E1E1E1 !important;\n",
    "  border-radius: 4px !important; }\n",
    "pre > code {\n",
    "  display: block !important;\n",
    "  padding: 1rem 1.5rem !important;\n",
    "  white-space: pre !important; }\n",
    "  \n",
    "button{ border-radius: 0px !important; }\n",
    ".navbar-inner{ background-image: none !important;  }\n",
    "select, textarea{ border-radius: 0px !important; }\n",
    "\n",
    "</style>"
   ]
  },
  {
   "cell_type": "markdown",
   "metadata": {},
   "source": [
    "# Get the Active Window on Linux\n",
    "\n",
    "[Get active window title in X](http://stackoverflow.com/questions/3983946/get-active-window-title-in-x)\n",
    "- Original Code had the following error: [TypeError: can't use a string pattern  on a bytes-like object](http://stackoverflow.com/questions/5184483/python-typeerror-on-regex)\n",
    "\n",
    "<br/>\n",
    "\n",
    "[Obtain Active window using Python](http://stackoverflow.com/questions/10266281/obtain-active-window-using-python/42404044#42404044)\n",
    "\n",
    "- Corected code is now here\n",
    "\n",
    "- \"import wnck\" only works with python 2.x, using python3.x pypie and wx were the only options I found so far  \n"
   ]
  },
  {
   "cell_type": "code",
   "execution_count": 18,
   "metadata": {
    "collapsed": false,
    "deletable": true,
    "editable": true
   },
   "outputs": [],
   "source": [
    "import sys\n",
    "import os\n",
    "from subprocess import PIPE, Popen\n",
    "import re\n",
    "\n",
    "def get_active_window_title():\n",
    "    root = Popen(['xprop', '-root', '_NET_ACTIVE_WINDOW'], stdout=PIPE)\n",
    "\n",
    "    for line in root.stdout:\n",
    "        m = re.search(b'^_NET_ACTIVE_WINDOW.* ([\\w]+)$', line)\n",
    "        if m != None:\n",
    "            id_ = m.group(1)\n",
    "            id_w = Popen(['xprop', '-id', id_, 'WM_NAME'], stdout=PIPE)\n",
    "            break\n",
    "\n",
    "    if id_w != None:\n",
    "        for line in id_w.stdout:\n",
    "            match = re.match(b\"WM_NAME\\(\\w+\\) = (?P<name>.+)$\", line)\n",
    "            if match != None:\n",
    "                return match.group(\"name\")\n",
    "\n",
    "    return \"Active window not found\""
   ]
  },
  {
   "cell_type": "code",
   "execution_count": 19,
   "metadata": {
    "collapsed": false
   },
   "outputs": [
    {
     "data": {
      "text/plain": [
       "b'\"Linux Tools & Tricks - Google Chrome\"'"
      ]
     },
     "execution_count": 19,
     "metadata": {},
     "output_type": "execute_result"
    }
   ],
   "source": [
    "get_active_window_title()"
   ]
  },
  {
   "cell_type": "code",
   "execution_count": 23,
   "metadata": {
    "collapsed": false
   },
   "outputs": [
    {
     "data": {
      "text/plain": [
       "b'\"Cura\"'"
      ]
     },
     "execution_count": 23,
     "metadata": {},
     "output_type": "execute_result"
    }
   ],
   "source": [
    "import time\n",
    "time.sleep(2)\n",
    "get_active_window_title()"
   ]
  },
  {
   "cell_type": "code",
   "execution_count": null,
   "metadata": {
    "collapsed": true
   },
   "outputs": [],
   "source": []
  }
 ],
 "metadata": {
  "kernelspec": {
   "display_name": "Python 3",
   "language": "python",
   "name": "python3"
  },
  "language_info": {
   "codemirror_mode": {
    "name": "ipython",
    "version": 3
   },
   "file_extension": ".py",
   "mimetype": "text/x-python",
   "name": "python",
   "nbconvert_exporter": "python",
   "pygments_lexer": "ipython3",
   "version": "3.4.3"
  }
 },
 "nbformat": 4,
 "nbformat_minor": 0
}
