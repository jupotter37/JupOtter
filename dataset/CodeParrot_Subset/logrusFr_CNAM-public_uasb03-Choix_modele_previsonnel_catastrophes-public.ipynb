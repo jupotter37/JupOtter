{
 "cells": [
  {
   "cell_type": "markdown",
   "metadata": {},
   "source": [
    "# Projet CNAM-UASB03 - \"Prévision\" des catastrophes naturelles en France\n",
    "\n",
    "## Partie : Choix parmi les modeles conçus\n",
    "\n",
    "\n",
    "\n",
    "Dépôt du projet :\n",
    "\n",
    "* https://gitlab.com/logrus_fr/CNAM-UASB03\n",
    "\n",
    "Auteur : \n",
    "\n",
    "* Fabrice DUNAN <fabrice.dunan@laposte.net>\n",
    "\n",
    "Tuteurs CNAM : \n",
    "\n",
    "* N.Niang, M.Crucianu, P.Rigaux"
   ]
  },
  {
   "cell_type": "markdown",
   "metadata": {},
   "source": [
    "## ATTENTION\n",
    "\n",
    "Ce notebook est un véritable cahier de brouillon. Il a vocation de donner des résultats \"techniques\" sans tout expliquer. Se référer au rapport pour plus d'explications."
   ]
  },
  {
   "cell_type": "markdown",
   "metadata": {},
   "source": [
    "## Initialisation des outils Python\n",
    "Cette section initialise les outils, bibliothèques et parametres necessaires pour l'étude."
   ]
  },
  {
   "cell_type": "markdown",
   "metadata": {},
   "source": [
    "##### imports"
   ]
  },
  {
   "cell_type": "code",
   "execution_count": 1,
   "metadata": {},
   "outputs": [],
   "source": [
    "import sys #only needed to determine Python version number\n",
    "import os\n",
    "import glob\n",
    "import re"
   ]
  },
  {
   "cell_type": "code",
   "execution_count": 279,
   "metadata": {},
   "outputs": [],
   "source": [
    "import pandas as pd\n",
    "import numpy as np\n",
    "import sklearn as sk\n",
    "from sklearn.utils import resample\n",
    "from sklearn.model_selection import train_test_split"
   ]
  },
  {
   "cell_type": "markdown",
   "metadata": {},
   "source": [
    "IMPORTS SERIALISATION"
   ]
  },
  {
   "cell_type": "code",
   "execution_count": 3,
   "metadata": {},
   "outputs": [],
   "source": [
    "import pickle as pk"
   ]
  },
  {
   "cell_type": "markdown",
   "metadata": {},
   "source": [
    "##### IMPORTS ESTIMATION QUALITE"
   ]
  },
  {
   "cell_type": "code",
   "execution_count": 4,
   "metadata": {},
   "outputs": [],
   "source": [
    "from sklearn.metrics import confusion_matrix, recall_score, precision_score,accuracy_score\n",
    "from sklearn.metrics import roc_auc_score\n",
    "from sklearn.metrics import roc_curve\n",
    "#http://scikit-learn.org/0.19/modules/generated/sklearn.metrics.precision_recall_fscore_support.html#sklearn.metrics.precision_recall_fscore_support\n",
    "from sklearn.metrics import precision_recall_fscore_support\n",
    "from sklearn.model_selection import cross_val_score,cross_val_predict\n",
    "from sklearn.metrics import precision_recall_curve,average_precision_score"
   ]
  },
  {
   "cell_type": "code",
   "execution_count": 5,
   "metadata": {},
   "outputs": [],
   "source": [
    "import matplotlib\n",
    "from matplotlib import pyplot as plt#only needed to determine Matplotlib version number\n",
    "# Enable inline plotting\n",
    "%matplotlib inline"
   ]
  },
  {
   "cell_type": "markdown",
   "metadata": {},
   "source": [
    "##### options pandas"
   ]
  },
  {
   "cell_type": "code",
   "execution_count": 6,
   "metadata": {},
   "outputs": [],
   "source": [
    "#https://stackoverflow.com/questions/11707586/python-pandas-how-to-widen-output-display-to-see-more-columns\n",
    "#pd.set_option('display.height', 1000)\n",
    "pd.set_option('display.max_rows', 500)\n",
    "pd.set_option('display.max_columns', 500)\n",
    "pd.set_option('display.width', 1000)"
   ]
  },
  {
   "cell_type": "markdown",
   "metadata": {},
   "source": [
    "##### versions bibliotheques"
   ]
  },
  {
   "cell_type": "code",
   "execution_count": 280,
   "metadata": {},
   "outputs": [
    {
     "name": "stdout",
     "output_type": "stream",
     "text": [
      "Python version 3.6.6 |Anaconda custom (64-bit)| (default, Jun 28 2018, 17:14:51) \n",
      "[GCC 7.2.0]\n",
      "Pandas version 0.23.3\n",
      "Matplotlib version 2.1.1\n",
      "Sklearn version0.19.1\n"
     ]
    }
   ],
   "source": [
    "print('Python version ' + sys.version)\n",
    "print('Pandas version ' + pd.__version__)\n",
    "print('Matplotlib version ' + matplotlib.__version__)print('Sklearn version' + sk.__version__ )"
   ]
  },
  {
   "cell_type": "markdown",
   "metadata": {},
   "source": [
    "##### Reglages OS dependants"
   ]
  },
  {
   "cell_type": "code",
   "execution_count": 8,
   "metadata": {},
   "outputs": [
    {
     "name": "stdout",
     "output_type": "stream",
     "text": [
      "posix\n"
     ]
    }
   ],
   "source": [
    "print (os.name)"
   ]
  },
  {
   "cell_type": "code",
   "execution_count": 9,
   "metadata": {},
   "outputs": [],
   "source": [
    "windows_path = 'C:\\\\PFD\\\\Data\\\\git\\\\_PRV\\\\CNAM-UASB03\\\\donnees'\n",
    "linux_path= '/home/user/Bureau/CNAM/git/CNAM-UASB03/donnees'"
   ]
  },
  {
   "cell_type": "code",
   "execution_count": 10,
   "metadata": {},
   "outputs": [],
   "source": [
    "if(os.name == 'nt'):\n",
    "    os.chdir(windows_path)\n",
    "    intermediaires_path = os.path.join(windows_path,'intermediaires\\\\')\n",
    "else :\n",
    "    os.chdir(linux_path)\n",
    "    intermediaires_path = os.path.join(linux_path,'intermediaires/')"
   ]
  },
  {
   "cell_type": "code",
   "execution_count": 11,
   "metadata": {},
   "outputs": [
    {
     "name": "stdout",
     "output_type": "stream",
     "text": [
      "/home/user/Bureau/CNAM/git/CNAM-UASB03/donnees/intermediaires/\n"
     ]
    }
   ],
   "source": [
    "print(intermediaires_path)"
   ]
  },
  {
   "cell_type": "code",
   "execution_count": 12,
   "metadata": {},
   "outputs": [],
   "source": [
    "import warnings\n",
    "warnings.filterwarnings('ignore')"
   ]
  },
  {
   "cell_type": "code",
   "execution_count": 13,
   "metadata": {},
   "outputs": [
    {
     "name": "stdout",
     "output_type": "stream",
     "text": [
      "/home/user/.local/share/jupyter\n"
     ]
    }
   ],
   "source": [
    "from jupyter_core.paths import jupyter_data_dir\n",
    "print(jupyter_data_dir())"
   ]
  },
  {
   "cell_type": "markdown",
   "metadata": {},
   "source": [
    "## Import et exploration des données\n",
    "\n",
    "Cette section permet d'importer le fichier de données initial dans les outils informatiques choisis(python et ses bibliothèques)"
   ]
  },
  {
   "cell_type": "code",
   "execution_count": 14,
   "metadata": {},
   "outputs": [
    {
     "name": "stdout",
     "output_type": "stream",
     "text": [
      "CPU times: user 1.03 s, sys: 112 ms, total: 1.14 s\n",
      "Wall time: 1.14 s\n"
     ]
    }
   ],
   "source": [
    "%%time\n",
    "#CPU times: user 5.41 s, sys: 500 ms, total: 5.91 s\n",
    "#Wall time: 7.13 s\n",
    "#index_col=0,\n",
    "meteo_cata_DF=pd.read_csv(os.path.join(intermediaires_path,\"meteo_stations_catastrophes_alt.csv\"),encoding='UTF-8',sep=',',skip_blank_lines=True, header=0,skipinitialspace=True,parse_dates=[1],infer_datetime_format=True,dayfirst=False)"
   ]
  },
  {
   "cell_type": "code",
   "execution_count": 15,
   "metadata": {},
   "outputs": [
    {
     "name": "stdout",
     "output_type": "stream",
     "text": [
      "<class 'pandas.core.frame.DataFrame'>\n",
      "RangeIndex: 453643 entries, 0 to 453642\n",
      "Data columns (total 16 columns):\n",
      "numer_sta        453643 non-null int64\n",
      "date             453643 non-null datetime64[ns]\n",
      "t                453643 non-null float64\n",
      "tn12             453564 non-null float64\n",
      "tx12             453564 non-null float64\n",
      "n                453643 non-null float64\n",
      "raf10            453643 non-null float64\n",
      "ff               453643 non-null float64\n",
      "pres             453643 non-null float64\n",
      "tend             453643 non-null float64\n",
      "rr3              453643 non-null float64\n",
      "u                453643 non-null float64\n",
      "geop             453643 non-null float64\n",
      "vv               453643 non-null float64\n",
      "ht_neige         453643 non-null float64\n",
      "iscatastrophe    453643 non-null bool\n",
      "dtypes: bool(1), datetime64[ns](1), float64(13), int64(1)\n",
      "memory usage: 52.3 MB\n"
     ]
    }
   ],
   "source": [
    "meteo_cata_DF.info()"
   ]
  },
  {
   "cell_type": "code",
   "execution_count": 16,
   "metadata": {},
   "outputs": [
    {
     "data": {
      "text/plain": [
       "0   2006-12-06\n",
       "1   2006-12-06\n",
       "2   2006-12-06\n",
       "3   2006-12-06\n",
       "4   2006-12-06\n",
       "Name: date, dtype: datetime64[ns]"
      ]
     },
     "execution_count": 16,
     "metadata": {},
     "output_type": "execute_result"
    }
   ],
   "source": [
    "meteo_cata_DF.date.head()"
   ]
  },
  {
   "cell_type": "code",
   "execution_count": 17,
   "metadata": {},
   "outputs": [
    {
     "data": {
      "text/html": [
       "<div>\n",
       "<style scoped>\n",
       "    .dataframe tbody tr th:only-of-type {\n",
       "        vertical-align: middle;\n",
       "    }\n",
       "\n",
       "    .dataframe tbody tr th {\n",
       "        vertical-align: top;\n",
       "    }\n",
       "\n",
       "    .dataframe thead th {\n",
       "        text-align: right;\n",
       "    }\n",
       "</style>\n",
       "<table border=\"1\" class=\"dataframe\">\n",
       "  <thead>\n",
       "    <tr style=\"text-align: right;\">\n",
       "      <th></th>\n",
       "      <th>numer_sta</th>\n",
       "      <th>date</th>\n",
       "      <th>t</th>\n",
       "      <th>tn12</th>\n",
       "      <th>tx12</th>\n",
       "      <th>n</th>\n",
       "      <th>raf10</th>\n",
       "      <th>ff</th>\n",
       "      <th>pres</th>\n",
       "      <th>tend</th>\n",
       "      <th>rr3</th>\n",
       "      <th>u</th>\n",
       "      <th>geop</th>\n",
       "      <th>vv</th>\n",
       "      <th>ht_neige</th>\n",
       "      <th>iscatastrophe</th>\n",
       "    </tr>\n",
       "  </thead>\n",
       "  <tbody>\n",
       "    <tr>\n",
       "      <th>0</th>\n",
       "      <td>7005</td>\n",
       "      <td>2006-12-06</td>\n",
       "      <td>289.85</td>\n",
       "      <td>291.85</td>\n",
       "      <td>297.55</td>\n",
       "      <td>63.560525</td>\n",
       "      <td>0.0</td>\n",
       "      <td>3.1</td>\n",
       "      <td>101250.0</td>\n",
       "      <td>-50.0</td>\n",
       "      <td>0.0</td>\n",
       "      <td>90.0</td>\n",
       "      <td>0.0</td>\n",
       "      <td>20866.014525</td>\n",
       "      <td>0.0</td>\n",
       "      <td>False</td>\n",
       "    </tr>\n",
       "    <tr>\n",
       "      <th>1</th>\n",
       "      <td>7015</td>\n",
       "      <td>2006-12-06</td>\n",
       "      <td>293.45</td>\n",
       "      <td>291.85</td>\n",
       "      <td>297.55</td>\n",
       "      <td>50.000000</td>\n",
       "      <td>0.0</td>\n",
       "      <td>3.1</td>\n",
       "      <td>101690.0</td>\n",
       "      <td>40.0</td>\n",
       "      <td>0.0</td>\n",
       "      <td>61.0</td>\n",
       "      <td>0.0</td>\n",
       "      <td>20000.000000</td>\n",
       "      <td>0.0</td>\n",
       "      <td>False</td>\n",
       "    </tr>\n",
       "    <tr>\n",
       "      <th>2</th>\n",
       "      <td>7020</td>\n",
       "      <td>2006-12-06</td>\n",
       "      <td>289.05</td>\n",
       "      <td>291.85</td>\n",
       "      <td>297.55</td>\n",
       "      <td>63.560525</td>\n",
       "      <td>0.0</td>\n",
       "      <td>6.2</td>\n",
       "      <td>101850.0</td>\n",
       "      <td>-130.0</td>\n",
       "      <td>0.0</td>\n",
       "      <td>88.0</td>\n",
       "      <td>0.0</td>\n",
       "      <td>20866.014525</td>\n",
       "      <td>0.0</td>\n",
       "      <td>False</td>\n",
       "    </tr>\n",
       "    <tr>\n",
       "      <th>3</th>\n",
       "      <td>7027</td>\n",
       "      <td>2006-12-06</td>\n",
       "      <td>286.85</td>\n",
       "      <td>291.85</td>\n",
       "      <td>297.55</td>\n",
       "      <td>63.560525</td>\n",
       "      <td>0.0</td>\n",
       "      <td>1.0</td>\n",
       "      <td>101240.0</td>\n",
       "      <td>-100.0</td>\n",
       "      <td>0.0</td>\n",
       "      <td>93.0</td>\n",
       "      <td>0.0</td>\n",
       "      <td>11000.000000</td>\n",
       "      <td>0.0</td>\n",
       "      <td>False</td>\n",
       "    </tr>\n",
       "    <tr>\n",
       "      <th>4</th>\n",
       "      <td>7037</td>\n",
       "      <td>2006-12-06</td>\n",
       "      <td>290.45</td>\n",
       "      <td>291.85</td>\n",
       "      <td>297.55</td>\n",
       "      <td>63.560525</td>\n",
       "      <td>0.0</td>\n",
       "      <td>2.1</td>\n",
       "      <td>100340.0</td>\n",
       "      <td>-20.0</td>\n",
       "      <td>0.0</td>\n",
       "      <td>81.0</td>\n",
       "      <td>0.0</td>\n",
       "      <td>35000.000000</td>\n",
       "      <td>0.0</td>\n",
       "      <td>False</td>\n",
       "    </tr>\n",
       "  </tbody>\n",
       "</table>\n",
       "</div>"
      ],
      "text/plain": [
       "   numer_sta       date       t    tn12    tx12          n  raf10   ff      pres   tend  rr3     u  geop            vv  ht_neige  iscatastrophe\n",
       "0       7005 2006-12-06  289.85  291.85  297.55  63.560525    0.0  3.1  101250.0  -50.0  0.0  90.0   0.0  20866.014525       0.0          False\n",
       "1       7015 2006-12-06  293.45  291.85  297.55  50.000000    0.0  3.1  101690.0   40.0  0.0  61.0   0.0  20000.000000       0.0          False\n",
       "2       7020 2006-12-06  289.05  291.85  297.55  63.560525    0.0  6.2  101850.0 -130.0  0.0  88.0   0.0  20866.014525       0.0          False\n",
       "3       7027 2006-12-06  286.85  291.85  297.55  63.560525    0.0  1.0  101240.0 -100.0  0.0  93.0   0.0  11000.000000       0.0          False\n",
       "4       7037 2006-12-06  290.45  291.85  297.55  63.560525    0.0  2.1  100340.0  -20.0  0.0  81.0   0.0  35000.000000       0.0          False"
      ]
     },
     "execution_count": 17,
     "metadata": {},
     "output_type": "execute_result"
    }
   ],
   "source": [
    "meteo_cata_DF.head()"
   ]
  },
  {
   "cell_type": "markdown",
   "metadata": {},
   "source": [
    "#### DISTRIBUTION VARIABLE A PREDIRE"
   ]
  },
  {
   "cell_type": "code",
   "execution_count": 18,
   "metadata": {},
   "outputs": [
    {
     "data": {
      "text/plain": [
       "<matplotlib.axes._subplots.AxesSubplot at 0x7f692524e208>"
      ]
     },
     "execution_count": 18,
     "metadata": {},
     "output_type": "execute_result"
    },
    {
     "data": {
      "image/png": "[encoded data removed]",
      "text/plain": [
       "<matplotlib.figure.Figure at 0x7f692522add8>"
      ]
     },
     "metadata": {},
     "output_type": "display_data"
    }
   ],
   "source": [
    "meteo_cata_DF.iscatastrophe.value_counts().plot(kind='bar')"
   ]
  },
  {
   "cell_type": "code",
   "execution_count": 19,
   "metadata": {},
   "outputs": [
    {
     "name": "stdout",
     "output_type": "stream",
     "text": [
      "neg: 53502 11.793855520750899\n",
      "pos: 400141 88.2061444792491\n"
     ]
    }
   ],
   "source": [
    "meteo_cata_ko_DF=meteo_cata_DF[meteo_cata_DF.iscatastrophe==False]\n",
    "meteo_cata_ok_DF=meteo_cata_DF[meteo_cata_DF.iscatastrophe==True]\n",
    "row_nb_pos,_=meteo_cata_ok_DF.shape\n",
    "row_nb_neg,_=meteo_cata_ko_DF.shape\n",
    "print(\"neg:\",row_nb_neg, row_nb_neg/(row_nb_pos+row_nb_neg)*100)\n",
    "print(\"pos:\",row_nb_pos,row_nb_pos/(row_nb_pos+row_nb_neg)*100)"
   ]
  },
  {
   "cell_type": "markdown",
   "metadata": {},
   "source": [
    "## REDUCTION INDIVIDUS"
   ]
  },
  {
   "cell_type": "markdown",
   "metadata": {},
   "source": [
    "Choix:\n",
    "* classification (kmeans ou CAH)\n",
    "* PCA individus\n",
    "* **selection sur la nature de la catastrophe**\n",
    "* **downsampling**"
   ]
  },
  {
   "cell_type": "markdown",
   "metadata": {},
   "source": [
    "#### DOWNSAMPLING VARIABLE MAJORITAIRE"
   ]
  },
  {
   "cell_type": "code",
   "execution_count": 20,
   "metadata": {},
   "outputs": [],
   "source": [
    "meteo_cata_dwn_pos_DF= resample(meteo_cata_ok_DF, \n",
    "                                 replace=True,     # sample with replacement\n",
    "                                 n_samples=row_nb_neg,    # to match majority class\n",
    "                                 random_state=123) # reproducible results"
   ]
  },
  {
   "cell_type": "code",
   "execution_count": 21,
   "metadata": {},
   "outputs": [],
   "source": [
    "meteo_cata_eq_DF=pd.concat([meteo_cata_ko_DF,meteo_cata_dwn_pos_DF])"
   ]
  },
  {
   "cell_type": "code",
   "execution_count": 22,
   "metadata": {},
   "outputs": [
    {
     "name": "stdout",
     "output_type": "stream",
     "text": [
      "<class 'pandas.core.frame.DataFrame'>\n",
      "Int64Index: 107004 entries, 0 to 268418\n",
      "Data columns (total 16 columns):\n",
      "numer_sta        107004 non-null int64\n",
      "date             107004 non-null datetime64[ns]\n",
      "t                107004 non-null float64\n",
      "tn12             106996 non-null float64\n",
      "tx12             106996 non-null float64\n",
      "n                107004 non-null float64\n",
      "raf10            107004 non-null float64\n",
      "ff               107004 non-null float64\n",
      "pres             107004 non-null float64\n",
      "tend             107004 non-null float64\n",
      "rr3              107004 non-null float64\n",
      "u                107004 non-null float64\n",
      "geop             107004 non-null float64\n",
      "vv               107004 non-null float64\n",
      "ht_neige         107004 non-null float64\n",
      "iscatastrophe    107004 non-null bool\n",
      "dtypes: bool(1), datetime64[ns](1), float64(13), int64(1)\n",
      "memory usage: 13.2 MB\n"
     ]
    }
   ],
   "source": [
    "meteo_cata_eq_DF.info()"
   ]
  },
  {
   "cell_type": "code",
   "execution_count": 23,
   "metadata": {},
   "outputs": [
    {
     "data": {
      "text/plain": [
       "True     53502\n",
       "False    53502\n",
       "Name: iscatastrophe, dtype: int64"
      ]
     },
     "execution_count": 23,
     "metadata": {},
     "output_type": "execute_result"
    }
   ],
   "source": [
    "meteo_cata_eq_DF.iscatastrophe.value_counts()"
   ]
  },
  {
   "cell_type": "markdown",
   "metadata": {},
   "source": [
    "#### UPSAMPLING VARIABLE MINORITAIRE (non utilise)"
   ]
  },
  {
   "cell_type": "raw",
   "metadata": {},
   "source": [
    "meteo_cata_up_neg_DF= resample(meteo_cata_ko_DF, \n",
    "                                 replace=True,     # sample with replacement\n",
    "                                 n_samples=row_nb_pos,    # to match majority class\n",
    "                                 random_state=123) # reproducible results"
   ]
  },
  {
   "cell_type": "raw",
   "metadata": {},
   "source": [
    "meteo_cata_eq_DF=pd.concat([meteo_cata_ok_DF,meteo_cata_up_neg_DF])"
   ]
  },
  {
   "cell_type": "raw",
   "metadata": {},
   "source": [
    "meteo_cata_eq_DF.info()"
   ]
  },
  {
   "cell_type": "raw",
   "metadata": {},
   "source": [
    "meteo_cata_eq_DF.iscatastrophe.value_counts()"
   ]
  },
  {
   "cell_type": "markdown",
   "metadata": {},
   "source": [
    "### JEU DONNEES FINAL\n",
    "constitution des predictives et de la variable à prédire"
   ]
  },
  {
   "cell_type": "code",
   "execution_count": 24,
   "metadata": {},
   "outputs": [],
   "source": [
    "Y=meteo_cata_eq_DF.iscatastrophe\n",
    "X=meteo_cata_eq_DF.drop(['iscatastrophe','date','numer_sta'],1)"
   ]
  },
  {
   "cell_type": "code",
   "execution_count": 25,
   "metadata": {},
   "outputs": [
    {
     "data": {
      "text/plain": [
       "0"
      ]
     },
     "execution_count": 25,
     "metadata": {},
     "output_type": "execute_result"
    }
   ],
   "source": [
    "Y.isna().sum()"
   ]
  },
  {
   "cell_type": "code",
   "execution_count": 26,
   "metadata": {},
   "outputs": [
    {
     "data": {
      "text/plain": [
       "t           0\n",
       "tn12        8\n",
       "tx12        8\n",
       "n           0\n",
       "raf10       0\n",
       "ff          0\n",
       "pres        0\n",
       "tend        0\n",
       "rr3         0\n",
       "u           0\n",
       "geop        0\n",
       "vv          0\n",
       "ht_neige    0\n",
       "dtype: int64"
      ]
     },
     "execution_count": 26,
     "metadata": {},
     "output_type": "execute_result"
    }
   ],
   "source": [
    "X.isna().sum()"
   ]
  },
  {
   "cell_type": "code",
   "execution_count": 258,
   "metadata": {},
   "outputs": [],
   "source": [
    "#on complete les 8 valeurs manquantes ....\n",
    "X.fillna(inplace=True,method=\"bfill\")"
   ]
  },
  {
   "cell_type": "code",
   "execution_count": 28,
   "metadata": {},
   "outputs": [],
   "source": [
    "X_train,X_test,Y_train,Y_test = train_test_split(X,Y,test_size=0.2, random_state=42)"
   ]
  },
  {
   "cell_type": "markdown",
   "metadata": {},
   "source": [
    "## CHOIX DES ALGORITHMES PREDICTIFS"
   ]
  },
  {
   "cell_type": "markdown",
   "metadata": {},
   "source": [
    "##### FONCTION AUXILIAIRES"
   ]
  },
  {
   "cell_type": "code",
   "execution_count": 29,
   "metadata": {},
   "outputs": [],
   "source": [
    "def plot_roc_curve(fpr, tpr, label=None):\n",
    "    plt.plot(fpr, tpr, linewidth=2, label=label)\n",
    "    plt.plot([0, 1], [0, 1], 'k--')\n",
    "    plt.axis([0, 1, 0, 1])\n",
    "    plt.xlabel('False Positive Rate', fontsize=16)\n",
    "    plt.ylabel('True Positive Rate', fontsize=16)"
   ]
  },
  {
   "cell_type": "code",
   "execution_count": 30,
   "metadata": {},
   "outputs": [],
   "source": [
    "def display_scores(scores):\n",
    "    print(\"Scores:\", scores)\n",
    "    print(\"Mean:\", scores.mean())\n",
    "    print(\"Standard deviation:\", scores.std())"
   ]
  },
  {
   "cell_type": "code",
   "execution_count": 31,
   "metadata": {},
   "outputs": [],
   "source": [
    "def plot_precision_recall_vs_threshold(precisions, recalls, thresholds):\n",
    "    plt.plot(thresholds, precisions[:-1], \"b--\", label=\"Precision\", linewidth=2)\n",
    "    plt.plot(thresholds, recalls[:-1], \"g-\", label=\"Recall\", linewidth=2)\n",
    "    plt.xlabel(\"Threshold\", fontsize=16)\n",
    "    plt.legend(loc=\"upper left\", fontsize=16)\n",
    "    plt.ylim([0, 1])"
   ]
  },
  {
   "cell_type": "code",
   "execution_count": 32,
   "metadata": {},
   "outputs": [],
   "source": [
    "def plot_precision_vs_recall(precisions, recalls):\n",
    "    plt.plot(recalls, precisions, \"b-\", linewidth=2)\n",
    "    plt.xlabel(\"Recall\", fontsize=16)\n",
    "    plt.ylabel(\"Precision\", fontsize=16)\n",
    "    plt.axis([0, 1, 0, 1])"
   ]
  },
  {
   "cell_type": "code",
   "execution_count": 33,
   "metadata": {},
   "outputs": [],
   "source": [
    "#precision_recall_curve(modele_ada,probas_pred=1)"
   ]
  },
  {
   "cell_type": "markdown",
   "metadata": {},
   "source": [
    "### **RF ET BOOSTING RF**"
   ]
  },
  {
   "cell_type": "code",
   "execution_count": 34,
   "metadata": {},
   "outputs": [],
   "source": [
    "from sklearn.ensemble import RandomForestClassifier,AdaBoostClassifier,GradientBoostingClassifier"
   ]
  },
  {
   "cell_type": "code",
   "execution_count": 35,
   "metadata": {},
   "outputs": [],
   "source": [
    "# forets aléatoires \n",
    "modele_rf=RandomForestClassifier(n_estimators=100, random_state=42)\n",
    "#methodes ensemble\n",
    "modele_ada=AdaBoostClassifier(n_estimators=100, random_state=42)\n",
    "modele_gbm=GradientBoostingClassifier(n_estimators=100, random_state=42)"
   ]
  },
  {
   "cell_type": "markdown",
   "metadata": {},
   "source": [
    "##### APPRENTISSAGE"
   ]
  },
  {
   "cell_type": "code",
   "execution_count": 36,
   "metadata": {},
   "outputs": [
    {
     "name": "stdout",
     "output_type": "stream",
     "text": [
      "CPU times: user 13.3 s, sys: 71.6 ms, total: 13.4 s\n",
      "Wall time: 13.4 s\n"
     ]
    },
    {
     "data": {
      "text/plain": [
       "RandomForestClassifier(bootstrap=True, class_weight=None, criterion='gini',\n",
       "            max_depth=None, max_features='auto', max_leaf_nodes=None,\n",
       "            min_impurity_decrease=0.0, min_impurity_split=None,\n",
       "            min_samples_leaf=1, min_samples_split=2,\n",
       "            min_weight_fraction_leaf=0.0, n_estimators=100, n_jobs=1,\n",
       "            oob_score=False, random_state=42, verbose=0, warm_start=False)"
      ]
     },
     "execution_count": 36,
     "metadata": {},
     "output_type": "execute_result"
    }
   ],
   "source": [
    "%%time\n",
    "#en upsampling\n",
    "#CPU times: user 37min 9s, sys: 6.21 s, total: 37min 15s\n",
    "#Wall time: 37min 16s\n",
    "modele_rf.fit(X_train, Y_train)"
   ]
  },
  {
   "cell_type": "code",
   "execution_count": 37,
   "metadata": {},
   "outputs": [
    {
     "name": "stdout",
     "output_type": "stream",
     "text": [
      "CPU times: user 6.67 s, sys: 12.1 ms, total: 6.69 s\n",
      "Wall time: 6.69 s\n"
     ]
    },
    {
     "data": {
      "text/plain": [
       "AdaBoostClassifier(algorithm='SAMME.R', base_estimator=None,\n",
       "          learning_rate=1.0, n_estimators=100, random_state=42)"
      ]
     },
     "execution_count": 37,
     "metadata": {},
     "output_type": "execute_result"
    }
   ],
   "source": [
    "%%time\n",
    "modele_ada.fit(X_train, Y_train)"
   ]
  },
  {
   "cell_type": "code",
   "execution_count": 38,
   "metadata": {},
   "outputs": [
    {
     "name": "stdout",
     "output_type": "stream",
     "text": [
      "CPU times: user 9.22 s, sys: 12.3 ms, total: 9.23 s\n",
      "Wall time: 9.24 s\n"
     ]
    },
    {
     "data": {
      "text/plain": [
       "GradientBoostingClassifier(criterion='friedman_mse', init=None,\n",
       "              learning_rate=0.1, loss='deviance', max_depth=3,\n",
       "              max_features=None, max_leaf_nodes=None,\n",
       "              min_impurity_decrease=0.0, min_impurity_split=None,\n",
       "              min_samples_leaf=1, min_samples_split=2,\n",
       "              min_weight_fraction_leaf=0.0, n_estimators=100,\n",
       "              presort='auto', random_state=42, subsample=1.0, verbose=0,\n",
       "              warm_start=False)"
      ]
     },
     "execution_count": 38,
     "metadata": {},
     "output_type": "execute_result"
    }
   ],
   "source": [
    "%%time\n",
    "modele_gbm.fit(X_train, Y_train)"
   ]
  },
  {
   "cell_type": "markdown",
   "metadata": {},
   "source": [
    "##### PREDICTIONS"
   ]
  },
  {
   "cell_type": "code",
   "execution_count": 39,
   "metadata": {},
   "outputs": [],
   "source": [
    "modele_rf_pred=modele_rf.predict(X_test)"
   ]
  },
  {
   "cell_type": "code",
   "execution_count": 40,
   "metadata": {},
   "outputs": [],
   "source": [
    "modele_ada_pred=modele_ada.predict(X_test)"
   ]
  },
  {
   "cell_type": "code",
   "execution_count": 41,
   "metadata": {},
   "outputs": [],
   "source": [
    "modele_gbm_pred=modele_gbm.predict(X_test)"
   ]
  },
  {
   "cell_type": "markdown",
   "metadata": {},
   "source": [
    "##### **ESTIMATION QUALITE MODELE RF**"
   ]
  },
  {
   "cell_type": "code",
   "execution_count": 42,
   "metadata": {},
   "outputs": [],
   "source": [
    "modele_pred = modele_rf_pred\n",
    "modele = modele_rf"
   ]
  },
  {
   "cell_type": "markdown",
   "metadata": {},
   "source": [
    "##### Matrice confusion"
   ]
  },
  {
   "cell_type": "code",
   "execution_count": 43,
   "metadata": {},
   "outputs": [
    {
     "data": {
      "text/plain": [
       "array([[10013,   791],\n",
       "       [  373, 10224]])"
      ]
     },
     "execution_count": 43,
     "metadata": {},
     "output_type": "execute_result"
    }
   ],
   "source": [
    "confusion_matrix(Y_test,modele_pred)"
   ]
  },
  {
   "cell_type": "markdown",
   "metadata": {},
   "source": [
    "##### ROC"
   ]
  },
  {
   "cell_type": "code",
   "execution_count": 44,
   "metadata": {},
   "outputs": [
    {
     "data": {
      "text/plain": [
       "0.9457938671458329"
      ]
     },
     "execution_count": 44,
     "metadata": {},
     "output_type": "execute_result"
    }
   ],
   "source": [
    "roc_auc_score(Y_test, modele_pred)"
   ]
  },
  {
   "cell_type": "markdown",
   "metadata": {},
   "source": [
    "##### ROC CURVE"
   ]
  },
  {
   "cell_type": "code",
   "execution_count": 45,
   "metadata": {},
   "outputs": [
    {
     "data": {
      "image/png": "[encoded data removed]",
      "text/plain": [
       "<matplotlib.figure.Figure at 0x7f69124f98d0>"
      ]
     },
     "metadata": {},
     "output_type": "display_data"
    }
   ],
   "source": [
    "fpr, tpr, thresholds = roc_curve(Y_test, modele_pred)\n",
    "plt.figure(figsize=(8, 6))\n",
    "plot_roc_curve(fpr, tpr)\n",
    "plt.show()"
   ]
  },
  {
   "cell_type": "markdown",
   "metadata": {},
   "source": [
    "##### PRECISION, RAPPEL, F1-SCORE, SUPPORT"
   ]
  },
  {
   "cell_type": "code",
   "execution_count": 46,
   "metadata": {},
   "outputs": [
    {
     "data": {
      "text/plain": [
       "(0.9281888334089877, 0.9648013588751534, 0.946141032759578, None)"
      ]
     },
     "execution_count": 46,
     "metadata": {},
     "output_type": "execute_result"
    }
   ],
   "source": [
    "precision_recall_fscore_support(Y_test, modele_pred,average='binary')"
   ]
  },
  {
   "cell_type": "markdown",
   "metadata": {},
   "source": [
    "##### SCORE EN K-FOLD CROSS VALIDATION (validation croisee en K passes) "
   ]
  },
  {
   "cell_type": "code",
   "execution_count": 47,
   "metadata": {},
   "outputs": [
    {
     "name": "stdout",
     "output_type": "stream",
     "text": [
      "Scores: [0.52806122 0.59209027 0.99186362 0.98184598 0.97869913 0.98901099\n",
      " 0.98415123 0.96913232 0.95390335 0.90700547]\n",
      "Mean: 0.8875763566114621\n",
      "Standard deviation: 0.16603401419701555\n",
      "CPU times: user 378 ms, sys: 68.2 ms, total: 447 ms\n",
      "Wall time: 1min\n"
     ]
    }
   ],
   "source": [
    "%%time\n",
    "modele_score_acc=cross_val_score(modele, X, Y, cv=10, scoring=\"precision\",n_jobs=-1)\n",
    "display_scores(modele_score_acc)"
   ]
  },
  {
   "cell_type": "code",
   "execution_count": 48,
   "metadata": {},
   "outputs": [
    {
     "name": "stdout",
     "output_type": "stream",
     "text": [
      "Scores: [0.96710895 0.97084657 0.95700935 0.96037383 0.96186916 0.9588785\n",
      " 0.96336449 0.96242991 0.95925234 0.96074766]\n",
      "Mean: 0.9621880755977135\n",
      "Standard deviation: 0.0039049458902022404\n",
      "CPU times: user 371 ms, sys: 76.1 ms, total: 447 ms\n",
      "Wall time: 1min\n"
     ]
    }
   ],
   "source": [
    "%%time\n",
    "modele_score_acc=cross_val_score(modele, X, Y, cv=10, scoring=\"recall\",n_jobs=-1)\n",
    "display_scores(modele_score_acc)"
   ]
  },
  {
   "cell_type": "code",
   "execution_count": 49,
   "metadata": {},
   "outputs": [
    {
     "name": "stdout",
     "output_type": "stream",
     "text": [
      "Scores: [0.68312323 0.73557522 0.97412481 0.97099121 0.97021116 0.97371168\n",
      " 0.97364693 0.96576948 0.95657036 0.93310339]\n",
      "Mean: 0.913682747139938\n",
      "Standard deviation: 0.10350925606418922\n",
      "CPU times: user 346 ms, sys: 104 ms, total: 451 ms\n",
      "Wall time: 1min\n"
     ]
    }
   ],
   "source": [
    "%%time\n",
    "modele_score_acc=cross_val_score(modele, X, Y, cv=10, scoring=\"f1\",n_jobs=-1)\n",
    "display_scores(modele_score_acc)"
   ]
  },
  {
   "cell_type": "code",
   "execution_count": 50,
   "metadata": {},
   "outputs": [
    {
     "name": "stdout",
     "output_type": "stream",
     "text": [
      "Scores: [0.69320837 0.80238174 0.99718674 0.99546884 0.99507157 0.99596574\n",
      " 0.99644652 0.99165931 0.99138267 0.98061771]\n",
      "Mean: 0.9439389210946635\n",
      "Standard deviation: 0.10116658312273903\n",
      "CPU times: user 382 ms, sys: 72.6 ms, total: 455 ms\n",
      "Wall time: 1min\n"
     ]
    }
   ],
   "source": [
    "%%time\n",
    "modele_score_roc=cross_val_score(modele, X, Y, cv=10, scoring=\"roc_auc\",n_jobs=-1)\n",
    "display_scores(modele_score_roc)"
   ]
  },
  {
   "cell_type": "markdown",
   "metadata": {},
   "source": [
    "##### **ESTIMATION QUALITE MODELE ADA**"
   ]
  },
  {
   "cell_type": "code",
   "execution_count": 51,
   "metadata": {},
   "outputs": [],
   "source": [
    "modele_pred = modele_ada_pred\n",
    "modele=modele_ada"
   ]
  },
  {
   "cell_type": "markdown",
   "metadata": {},
   "source": [
    "##### Matrice confusion"
   ]
  },
  {
   "cell_type": "code",
   "execution_count": 52,
   "metadata": {},
   "outputs": [
    {
     "data": {
      "text/plain": [
       "array([[9231, 1573],\n",
       "       [ 639, 9958]])"
      ]
     },
     "execution_count": 52,
     "metadata": {},
     "output_type": "execute_result"
    }
   ],
   "source": [
    "confusion_matrix(Y_test,modele_pred)"
   ]
  },
  {
   "cell_type": "markdown",
   "metadata": {},
   "source": [
    "##### ROC"
   ]
  },
  {
   "cell_type": "code",
   "execution_count": 53,
   "metadata": {},
   "outputs": [
    {
     "data": {
      "text/plain": [
       "0.8970528453544777"
      ]
     },
     "execution_count": 53,
     "metadata": {},
     "output_type": "execute_result"
    }
   ],
   "source": [
    "roc_auc_score(Y_test, modele_pred)"
   ]
  },
  {
   "cell_type": "markdown",
   "metadata": {},
   "source": [
    "##### ROC CURVE"
   ]
  },
  {
   "cell_type": "code",
   "execution_count": 54,
   "metadata": {},
   "outputs": [
    {
     "data": {
      "image/png": "[encoded data removed]",
      "text/plain": [
       "<matplotlib.figure.Figure at 0x7f691250bd30>"
      ]
     },
     "metadata": {},
     "output_type": "display_data"
    }
   ],
   "source": [
    "fpr, tpr, thresholds = roc_curve(Y_test, modele_pred)\n",
    "plt.figure(figsize=(8, 6))\n",
    "plot_roc_curve(fpr, tpr)\n",
    "plt.show()"
   ]
  },
  {
   "cell_type": "markdown",
   "metadata": {},
   "source": [
    "##### PRECISION, RAPPEL, F1-SCORE, SUPPORT"
   ]
  },
  {
   "cell_type": "code",
   "execution_count": 55,
   "metadata": {},
   "outputs": [
    {
     "data": {
      "text/plain": [
       "(0.8635851183765502, 0.9396999150703029, 0.9000361532899495, None)"
      ]
     },
     "execution_count": 55,
     "metadata": {},
     "output_type": "execute_result"
    }
   ],
   "source": [
    "precision_recall_fscore_support(Y_test, modele_pred,average='binary')"
   ]
  },
  {
   "cell_type": "markdown",
   "metadata": {},
   "source": [
    "##### SCORE EN K-FOLD CROSS VALIDATION (validation croisee en K passes) "
   ]
  },
  {
   "cell_type": "code",
   "execution_count": 56,
   "metadata": {},
   "outputs": [
    {
     "name": "stdout",
     "output_type": "stream",
     "text": [
      "Scores: [0.52097221 0.59593706 0.97970043 0.98112837 0.95954537 0.96506889\n",
      " 0.95477194 0.94409584 0.94439154 0.92791783]\n",
      "Mean: 0.877352948377862\n",
      "Standard deviation: 0.16105758438579176\n",
      "CPU times: user 337 ms, sys: 116 ms, total: 453 ms\n",
      "Wall time: 32.8 s\n"
     ]
    }
   ],
   "source": [
    "%%time\n",
    "modele_score_acc=cross_val_score(modele,X, Y, cv=10, scoring=\"precision\",n_jobs=-1)\n",
    "display_scores(modele_score_acc)"
   ]
  },
  {
   "cell_type": "code",
   "execution_count": 57,
   "metadata": {},
   "outputs": [
    {
     "name": "stdout",
     "output_type": "stream",
     "text": [
      "Scores: [0.94935526 0.94842086 0.92915888 0.9328972  0.93102804 0.92953271\n",
      " 0.93121495 0.92803738 0.92691589 0.92878505]\n",
      "Mean: 0.9335346210071662\n",
      "Standard deviation: 0.0078467246686113\n",
      "CPU times: user 359 ms, sys: 83.2 ms, total: 442 ms\n",
      "Wall time: 32.2 s\n"
     ]
    }
   ],
   "source": [
    "%%time\n",
    "modele_score_acc=cross_val_score(modele, X, Y, cv=10, scoring=\"recall\",n_jobs=-1)\n",
    "display_scores(modele_score_acc)"
   ]
  },
  {
   "cell_type": "code",
   "execution_count": 58,
   "metadata": {},
   "outputs": [
    {
     "name": "stdout",
     "output_type": "stream",
     "text": [
      "Scores: [0.67275858 0.73195356 0.95376055 0.9564051  0.94507163 0.94696753\n",
      " 0.94284633 0.93599774 0.93557212 0.92835124]\n",
      "Mean: 0.8949684361708116\n",
      "Standard deviation: 0.09753719851297267\n",
      "CPU times: user 355 ms, sys: 72.3 ms, total: 428 ms\n",
      "Wall time: 32.6 s\n"
     ]
    }
   ],
   "source": [
    "%%time\n",
    "modele_score_acc=cross_val_score(modele, X, Y,cv=10, scoring=\"f1\",n_jobs=-1)\n",
    "display_scores(modele_score_acc)"
   ]
  },
  {
   "cell_type": "code",
   "execution_count": 59,
   "metadata": {},
   "outputs": [
    {
     "name": "stdout",
     "output_type": "stream",
     "text": [
      "Scores: [0.65381581 0.76402286 0.99316508 0.9931764  0.98676906 0.9895862\n",
      " 0.9890175  0.98266781 0.98413086 0.98085759]\n",
      "Mean: 0.931720917838898\n",
      "Standard deviation: 0.11415972989866363\n",
      "CPU times: user 338 ms, sys: 87.9 ms, total: 426 ms\n",
      "Wall time: 32 s\n"
     ]
    }
   ],
   "source": [
    "%%time\n",
    "modele_score_roc=cross_val_score(modele,X, Y, cv=10, scoring=\"roc_auc\",n_jobs=-1)\n",
    "display_scores(modele_score_roc)"
   ]
  },
  {
   "cell_type": "markdown",
   "metadata": {},
   "source": [
    "##### **ESTIMATION QUALITE MODELE GBM**"
   ]
  },
  {
   "cell_type": "code",
   "execution_count": 60,
   "metadata": {},
   "outputs": [],
   "source": [
    "modele_pred = modele_gbm_pred\n",
    "modele=modele_gbm"
   ]
  },
  {
   "cell_type": "markdown",
   "metadata": {},
   "source": [
    "##### Matrice confusion"
   ]
  },
  {
   "cell_type": "code",
   "execution_count": 61,
   "metadata": {},
   "outputs": [
    {
     "data": {
      "text/plain": [
       "array([[ 9358,  1446],\n",
       "       [  581, 10016]])"
      ]
     },
     "execution_count": 61,
     "metadata": {},
     "output_type": "execute_result"
    }
   ],
   "source": [
    "confusion_matrix(Y_test,modele_pred)"
   ]
  },
  {
   "cell_type": "markdown",
   "metadata": {},
   "source": [
    "##### ROC"
   ]
  },
  {
   "cell_type": "code",
   "execution_count": 62,
   "metadata": {},
   "outputs": [
    {
     "data": {
      "text/plain": [
       "0.9056669217224479"
      ]
     },
     "execution_count": 62,
     "metadata": {},
     "output_type": "execute_result"
    }
   ],
   "source": [
    "roc_auc_score(Y_test, modele_pred)"
   ]
  },
  {
   "cell_type": "markdown",
   "metadata": {},
   "source": [
    "##### ROC CURVE"
   ]
  },
  {
   "cell_type": "code",
   "execution_count": 63,
   "metadata": {},
   "outputs": [
    {
     "data": {
      "image/png": "[encoded data removed]",
      "text/plain": [
       "<matplotlib.figure.Figure at 0x7f69124cb7f0>"
      ]
     },
     "metadata": {},
     "output_type": "display_data"
    }
   ],
   "source": [
    "fpr, tpr, thresholds = roc_curve(Y_test, modele_pred)\n",
    "plt.figure(figsize=(8, 6))\n",
    "plot_roc_curve(fpr, tpr)\n",
    "plt.show()"
   ]
  },
  {
   "cell_type": "markdown",
   "metadata": {},
   "source": [
    "##### PRECISION, RAPPEL, F1-SCORE, SUPPORT"
   ]
  },
  {
   "cell_type": "code",
   "execution_count": 64,
   "metadata": {},
   "outputs": [
    {
     "data": {
      "text/plain": [
       "(0.8738440062816263, 0.9451731622157215, 0.9081100684527857, None)"
      ]
     },
     "execution_count": 64,
     "metadata": {},
     "output_type": "execute_result"
    }
   ],
   "source": [
    "precision_recall_fscore_support(Y_test, modele_pred,average='binary')"
   ]
  },
  {
   "cell_type": "markdown",
   "metadata": {},
   "source": [
    "##### SCORE EN K-FOLD CROSS VALIDATION (validation croisee en K passes) "
   ]
  },
  {
   "cell_type": "code",
   "execution_count": 65,
   "metadata": {},
   "outputs": [
    {
     "name": "stdout",
     "output_type": "stream",
     "text": [
      "Scores: [0.5191659  0.57664151 0.98838583 0.98554688 0.97589425 0.97547684\n",
      " 0.97359736 0.95694604 0.95623925 0.91869621]\n",
      "Mean: 0.8826590059611231\n",
      "Standard deviation: 0.16892218857648453\n",
      "CPU times: user 411 ms, sys: 92.4 ms, total: 503 ms\n",
      "Wall time: 59.1 s\n"
     ]
    }
   ],
   "source": [
    "%%time\n",
    "modele_score_acc=cross_val_score(modele, X, Y, cv=10, scoring=\"precision\",n_jobs=-1)\n",
    "display_scores(modele_score_acc)"
   ]
  },
  {
   "cell_type": "code",
   "execution_count": 66,
   "metadata": {},
   "outputs": [
    {
     "name": "stdout",
     "output_type": "stream",
     "text": [
      "Scores: [0.94916838 0.9568305  0.93850467 0.94317757 0.93831776 0.93682243\n",
      " 0.93738318 0.93476636 0.9353271  0.93775701]\n",
      "Mean: 0.9408054953480616\n",
      "Standard deviation: 0.0066873184210212416\n",
      "CPU times: user 393 ms, sys: 72.6 ms, total: 465 ms\n",
      "Wall time: 59.4 s\n"
     ]
    }
   ],
   "source": [
    "%%time\n",
    "modele_score_acc=cross_val_score(modele, X, Y, cv=10, scoring=\"recall\",n_jobs=-1)\n",
    "display_scores(modele_score_acc)"
   ]
  },
  {
   "cell_type": "code",
   "execution_count": 67,
   "metadata": {},
   "outputs": [
    {
     "name": "stdout",
     "output_type": "stream",
     "text": [
      "Scores: [0.67120391 0.71960647 0.96279962 0.96389685 0.95673718 0.95575896\n",
      " 0.95514713 0.94572617 0.94566758 0.92812876]\n",
      "Mean: 0.9004672626479777\n",
      "Standard deviation: 0.10356201355194058\n",
      "CPU times: user 387 ms, sys: 81.2 ms, total: 468 ms\n",
      "Wall time: 59.6 s\n"
     ]
    }
   ],
   "source": [
    "%%time\n",
    "modele_score_acc=cross_val_score(modele, X, Y, cv=10, scoring=\"f1\",n_jobs=-1)\n",
    "display_scores(modele_score_acc)"
   ]
  },
  {
   "cell_type": "code",
   "execution_count": 68,
   "metadata": {},
   "outputs": [
    {
     "name": "stdout",
     "output_type": "stream",
     "text": [
      "Scores: [0.67375455 0.77056851 0.99526332 0.99434319 0.9916656  0.99217879\n",
      " 0.99247068 0.98691868 0.98790231 0.98151926]\n",
      "Mean: 0.9366584899953871\n",
      "Standard deviation: 0.10947794539933293\n",
      "CPU times: user 377 ms, sys: 80.6 ms, total: 458 ms\n",
      "Wall time: 59.1 s\n"
     ]
    }
   ],
   "source": [
    "%%time\n",
    "modele_score_roc=cross_val_score(modele, X, Y, cv=10, scoring=\"roc_auc\",n_jobs=-1)\n",
    "display_scores(modele_score_roc)"
   ]
  },
  {
   "cell_type": "markdown",
   "metadata": {},
   "source": [
    "#### *Importance des variables dans le modele*"
   ]
  },
  {
   "cell_type": "code",
   "execution_count": 69,
   "metadata": {},
   "outputs": [
    {
     "data": {
      "text/plain": [
       "array([0.07201836, 0.10600016, 0.11498856, 0.06354506, 0.35909978,\n",
       "       0.03830383, 0.09052431, 0.03374793, 0.02425722, 0.03686312,\n",
       "       0.00648497, 0.05340613, 0.00076057])"
      ]
     },
     "execution_count": 69,
     "metadata": {},
     "output_type": "execute_result"
    }
   ],
   "source": [
    "modele_rf.feature_importances_"
   ]
  },
  {
   "cell_type": "code",
   "execution_count": 70,
   "metadata": {
    "scrolled": true
   },
   "outputs": [
    {
     "data": {
      "text/html": [
       "<div>\n",
       "<style scoped>\n",
       "    .dataframe tbody tr th:only-of-type {\n",
       "        vertical-align: middle;\n",
       "    }\n",
       "\n",
       "    .dataframe tbody tr th {\n",
       "        vertical-align: top;\n",
       "    }\n",
       "\n",
       "    .dataframe thead th {\n",
       "        text-align: right;\n",
       "    }\n",
       "</style>\n",
       "<table border=\"1\" class=\"dataframe\">\n",
       "  <thead>\n",
       "    <tr style=\"text-align: right;\">\n",
       "      <th></th>\n",
       "      <th>Importance</th>\n",
       "    </tr>\n",
       "  </thead>\n",
       "  <tbody>\n",
       "    <tr>\n",
       "      <th>t</th>\n",
       "      <td>0.072018</td>\n",
       "    </tr>\n",
       "    <tr>\n",
       "      <th>tn12</th>\n",
       "      <td>0.106000</td>\n",
       "    </tr>\n",
       "    <tr>\n",
       "      <th>tx12</th>\n",
       "      <td>0.114989</td>\n",
       "    </tr>\n",
       "    <tr>\n",
       "      <th>n</th>\n",
       "      <td>0.063545</td>\n",
       "    </tr>\n",
       "    <tr>\n",
       "      <th>raf10</th>\n",
       "      <td>0.359100</td>\n",
       "    </tr>\n",
       "  </tbody>\n",
       "</table>\n",
       "</div>"
      ],
      "text/plain": [
       "       Importance\n",
       "t        0.072018\n",
       "tn12     0.106000\n",
       "tx12     0.114989\n",
       "n        0.063545\n",
       "raf10    0.359100"
      ]
     },
     "execution_count": 70,
     "metadata": {},
     "output_type": "execute_result"
    }
   ],
   "source": [
    "pd.DataFrame(modele_rf.feature_importances_,index=X_train.columns,columns=[\"Importance\"]).head()"
   ]
  },
  {
   "cell_type": "code",
   "execution_count": 71,
   "metadata": {
    "scrolled": true
   },
   "outputs": [
    {
     "data": {
      "text/html": [
       "<div>\n",
       "<style scoped>\n",
       "    .dataframe tbody tr th:only-of-type {\n",
       "        vertical-align: middle;\n",
       "    }\n",
       "\n",
       "    .dataframe tbody tr th {\n",
       "        vertical-align: top;\n",
       "    }\n",
       "\n",
       "    .dataframe thead th {\n",
       "        text-align: right;\n",
       "    }\n",
       "</style>\n",
       "<table border=\"1\" class=\"dataframe\">\n",
       "  <thead>\n",
       "    <tr style=\"text-align: right;\">\n",
       "      <th></th>\n",
       "      <th>Importance</th>\n",
       "    </tr>\n",
       "  </thead>\n",
       "  <tbody>\n",
       "    <tr>\n",
       "      <th>t</th>\n",
       "      <td>0.048091</td>\n",
       "    </tr>\n",
       "    <tr>\n",
       "      <th>tn12</th>\n",
       "      <td>0.138567</td>\n",
       "    </tr>\n",
       "    <tr>\n",
       "      <th>tx12</th>\n",
       "      <td>0.153798</td>\n",
       "    </tr>\n",
       "    <tr>\n",
       "      <th>n</th>\n",
       "      <td>0.145986</td>\n",
       "    </tr>\n",
       "    <tr>\n",
       "      <th>raf10</th>\n",
       "      <td>0.223895</td>\n",
       "    </tr>\n",
       "  </tbody>\n",
       "</table>\n",
       "</div>"
      ],
      "text/plain": [
       "       Importance\n",
       "t        0.048091\n",
       "tn12     0.138567\n",
       "tx12     0.153798\n",
       "n        0.145986\n",
       "raf10    0.223895"
      ]
     },
     "execution_count": 71,
     "metadata": {},
     "output_type": "execute_result"
    }
   ],
   "source": [
    "pd.DataFrame(modele_gbm.feature_importances_,index=X_train.columns,columns=[\"Importance\"]).head()"
   ]
  },
  {
   "cell_type": "code",
   "execution_count": 72,
   "metadata": {
    "scrolled": true
   },
   "outputs": [
    {
     "data": {
      "text/html": [
       "<div>\n",
       "<style scoped>\n",
       "    .dataframe tbody tr th:only-of-type {\n",
       "        vertical-align: middle;\n",
       "    }\n",
       "\n",
       "    .dataframe tbody tr th {\n",
       "        vertical-align: top;\n",
       "    }\n",
       "\n",
       "    .dataframe thead th {\n",
       "        text-align: right;\n",
       "    }\n",
       "</style>\n",
       "<table border=\"1\" class=\"dataframe\">\n",
       "  <thead>\n",
       "    <tr style=\"text-align: right;\">\n",
       "      <th></th>\n",
       "      <th>Importance</th>\n",
       "    </tr>\n",
       "  </thead>\n",
       "  <tbody>\n",
       "    <tr>\n",
       "      <th>t</th>\n",
       "      <td>0.05</td>\n",
       "    </tr>\n",
       "    <tr>\n",
       "      <th>tn12</th>\n",
       "      <td>0.22</td>\n",
       "    </tr>\n",
       "    <tr>\n",
       "      <th>tx12</th>\n",
       "      <td>0.26</td>\n",
       "    </tr>\n",
       "    <tr>\n",
       "      <th>n</th>\n",
       "      <td>0.08</td>\n",
       "    </tr>\n",
       "    <tr>\n",
       "      <th>raf10</th>\n",
       "      <td>0.06</td>\n",
       "    </tr>\n",
       "  </tbody>\n",
       "</table>\n",
       "</div>"
      ],
      "text/plain": [
       "       Importance\n",
       "t            0.05\n",
       "tn12         0.22\n",
       "tx12         0.26\n",
       "n            0.08\n",
       "raf10        0.06"
      ]
     },
     "execution_count": 72,
     "metadata": {},
     "output_type": "execute_result"
    }
   ],
   "source": [
    "pd.DataFrame(modele_ada.feature_importances_,index=X_train.columns,columns=[\"Importance\"]).head()"
   ]
  },
  {
   "cell_type": "markdown",
   "metadata": {},
   "source": [
    "### **NAIF BAYESIEN**"
   ]
  },
  {
   "cell_type": "code",
   "execution_count": 73,
   "metadata": {},
   "outputs": [],
   "source": [
    "from sklearn.naive_bayes import GaussianNB\n",
    "modele_gnb = GaussianNB()"
   ]
  },
  {
   "cell_type": "code",
   "execution_count": 74,
   "metadata": {},
   "outputs": [],
   "source": [
    "gmodel = modele_gnb.fit(X_train,Y_train)\n",
    "modeleNB_pred = gmodel.predict(X_test)"
   ]
  },
  {
   "cell_type": "code",
   "execution_count": 75,
   "metadata": {},
   "outputs": [
    {
     "data": {
      "text/plain": [
       "21401"
      ]
     },
     "execution_count": 75,
     "metadata": {},
     "output_type": "execute_result"
    }
   ],
   "source": [
    "X_test.shape[0]"
   ]
  },
  {
   "cell_type": "code",
   "execution_count": 76,
   "metadata": {},
   "outputs": [
    {
     "data": {
      "text/plain": [
       "array([False, False,  True, ...,  True, False,  True])"
      ]
     },
     "execution_count": 76,
     "metadata": {},
     "output_type": "execute_result"
    }
   ],
   "source": [
    "Y_test_v=Y_test.values\n",
    "Y_test_v=Y_test_v.ravel()\n",
    "Y_test_v"
   ]
  },
  {
   "cell_type": "code",
   "execution_count": 77,
   "metadata": {},
   "outputs": [
    {
     "data": {
      "text/plain": [
       "array([False, False,  True, ...,  True, False, False])"
      ]
     },
     "execution_count": 77,
     "metadata": {},
     "output_type": "execute_result"
    }
   ],
   "source": [
    "modeleNB_pred"
   ]
  },
  {
   "cell_type": "code",
   "execution_count": 78,
   "metadata": {},
   "outputs": [
    {
     "name": "stdout",
     "output_type": "stream",
     "text": [
      "Number of mislabeled points out of a total 21401 points : 5514, performance 74.23%\n"
     ]
    }
   ],
   "source": [
    "print(\"Number of mislabeled points out of a total {} points : {}, performance {:05.2f}%\"\n",
    "      .format(\n",
    "          X_test.shape[0],\n",
    "          (Y_test_v != modeleNB_pred).sum(),\n",
    "          100*(1-(Y_test_v != modeleNB_pred).sum()/X_test.shape[0])))"
   ]
  },
  {
   "cell_type": "markdown",
   "metadata": {},
   "source": [
    "##### **ESTIMATION QUALITE MODELE NAIF BAYESIEN**"
   ]
  },
  {
   "cell_type": "code",
   "execution_count": 79,
   "metadata": {},
   "outputs": [],
   "source": [
    "modele_pred = modeleNB_pred\n",
    "modele = modele_gnb"
   ]
  },
  {
   "cell_type": "markdown",
   "metadata": {},
   "source": [
    "##### Matrice confusion"
   ]
  },
  {
   "cell_type": "code",
   "execution_count": 80,
   "metadata": {},
   "outputs": [
    {
     "data": {
      "text/plain": [
       "array([[9706, 1098],\n",
       "       [4416, 6181]])"
      ]
     },
     "execution_count": 80,
     "metadata": {},
     "output_type": "execute_result"
    }
   ],
   "source": [
    "confusion_matrix(Y_test,modele_pred)"
   ]
  },
  {
   "cell_type": "markdown",
   "metadata": {},
   "source": [
    "##### ROC"
   ]
  },
  {
   "cell_type": "code",
   "execution_count": 81,
   "metadata": {},
   "outputs": [
    {
     "data": {
      "text/plain": [
       "0.7408246300104424"
      ]
     },
     "execution_count": 81,
     "metadata": {},
     "output_type": "execute_result"
    }
   ],
   "source": [
    "roc_auc_score(Y_test, modele_pred)"
   ]
  },
  {
   "cell_type": "markdown",
   "metadata": {},
   "source": [
    "##### ROC CURVE"
   ]
  },
  {
   "cell_type": "code",
   "execution_count": 82,
   "metadata": {},
   "outputs": [
    {
     "data": {
      "image/png": "[encoded data removed]",
      "text/plain": [
       "<matplotlib.figure.Figure at 0x7f69124b1f28>"
      ]
     },
     "metadata": {},
     "output_type": "display_data"
    }
   ],
   "source": [
    "fpr, tpr, thresholds = roc_curve(Y_test, modele_pred)\n",
    "plt.figure(figsize=(8, 6))\n",
    "plot_roc_curve(fpr, tpr)\n",
    "plt.show()"
   ]
  },
  {
   "cell_type": "markdown",
   "metadata": {},
   "source": [
    "##### PRECISION, RAPPEL, F1-SCORE, SUPPORT"
   ]
  },
  {
   "cell_type": "code",
   "execution_count": 83,
   "metadata": {},
   "outputs": [
    {
     "data": {
      "text/plain": [
       "(0.8491551037230389, 0.5832782863074455, 0.6915417319310808, None)"
      ]
     },
     "execution_count": 83,
     "metadata": {},
     "output_type": "execute_result"
    }
   ],
   "source": [
    "precision_recall_fscore_support(Y_test, modele_pred,average='binary')"
   ]
  },
  {
   "cell_type": "markdown",
   "metadata": {},
   "source": [
    "##### SCORE EN K-FOLD CROSS VALIDATION (validation croisee en K passes) "
   ]
  },
  {
   "cell_type": "code",
   "execution_count": 84,
   "metadata": {},
   "outputs": [
    {
     "name": "stdout",
     "output_type": "stream",
     "text": [
      "Scores: [0.61744138 0.69470828 0.9785394  0.97581425 0.95939566 0.97977162\n",
      " 0.97151088 0.96404425 0.84770742 0.67586934]\n",
      "Mean: 0.8664802477954898\n",
      "Standard deviation: 0.13954943916107906\n",
      "CPU times: user 313 ms, sys: 60.6 ms, total: 374 ms\n",
      "Wall time: 510 ms\n"
     ]
    }
   ],
   "source": [
    "%%time\n",
    "modele_score_acc=cross_val_score(modele, X, Y, cv=10, scoring=\"precision\",n_jobs=-1)\n",
    "display_scores(modele_score_acc)"
   ]
  },
  {
   "cell_type": "code",
   "execution_count": 85,
   "metadata": {},
   "outputs": [
    {
     "name": "stdout",
     "output_type": "stream",
     "text": [
      "Scores: [0.56101663 0.5740983  0.57102804 0.56560748 0.56971963 0.56130841\n",
      " 0.56728972 0.58635514 0.58056075 0.59943925]\n",
      "Mean: 0.5736423343003405\n",
      "Standard deviation: 0.011462284269150745\n",
      "CPU times: user 295 ms, sys: 68.4 ms, total: 363 ms\n",
      "Wall time: 516 ms\n"
     ]
    }
   ],
   "source": [
    "%%time\n",
    "modele_score_acc=cross_val_score(modele, X, Y,cv=10, scoring=\"recall\",n_jobs=-1)\n",
    "display_scores(modele_score_acc)"
   ]
  },
  {
   "cell_type": "code",
   "execution_count": 86,
   "metadata": {},
   "outputs": [
    {
     "name": "stdout",
     "output_type": "stream",
     "text": [
      "Scores: [0.58787819 0.62867083 0.72119924 0.71612827 0.71490559 0.71372549\n",
      " 0.71630871 0.72919572 0.68915021 0.63536404]\n",
      "Mean: 0.6852526304154557\n",
      "Standard deviation: 0.04692364553042146\n",
      "CPU times: user 324 ms, sys: 56.6 ms, total: 380 ms\n",
      "Wall time: 511 ms\n"
     ]
    }
   ],
   "source": [
    "%%time\n",
    "modele_score_acc=cross_val_score(modele, X, Y, cv=10, scoring=\"f1\",n_jobs=-1)\n",
    "display_scores(modele_score_acc)"
   ]
  },
  {
   "cell_type": "code",
   "execution_count": 87,
   "metadata": {},
   "outputs": [
    {
     "name": "stdout",
     "output_type": "stream",
     "text": [
      "Scores: [0.59974573 0.72785046 0.92345298 0.92822917 0.93643357 0.94320543\n",
      " 0.92028942 0.88698816 0.84256538 0.74523707]\n",
      "Mean: 0.8453997375952185\n",
      "Standard deviation: 0.11061126443525086\n",
      "CPU times: user 308 ms, sys: 60.3 ms, total: 369 ms\n",
      "Wall time: 512 ms\n"
     ]
    }
   ],
   "source": [
    "%%time\n",
    "modele_score_roc=cross_val_score(modele, X, Y, cv=10, scoring=\"roc_auc\",n_jobs=-1)\n",
    "display_scores(modele_score_roc)"
   ]
  },
  {
   "cell_type": "markdown",
   "metadata": {},
   "source": [
    "### **REGRESSION LOGISTIQUE**"
   ]
  },
  {
   "cell_type": "code",
   "execution_count": 88,
   "metadata": {},
   "outputs": [],
   "source": [
    "from sklearn.linear_model import LogisticRegression"
   ]
  },
  {
   "cell_type": "code",
   "execution_count": 89,
   "metadata": {},
   "outputs": [
    {
     "name": "stdout",
     "output_type": "stream",
     "text": [
      "C=100.00\n",
      "Sparsity with L1 penalty: 0.00%\n",
      "score with L1 penalty: 0.8285\n",
      "Sparsity with L2 penalty: 0.00%\n",
      "score with L2 penalty: 0.7428\n",
      "C=1.00\n",
      "Sparsity with L1 penalty: 0.00%\n",
      "score with L1 penalty: 0.8285\n",
      "Sparsity with L2 penalty: 0.00%\n",
      "score with L2 penalty: 0.7263\n",
      "C=0.01\n",
      "Sparsity with L1 penalty: 7.69%\n",
      "score with L1 penalty: 0.8273\n",
      "Sparsity with L2 penalty: 0.00%\n",
      "score with L2 penalty: 0.7422\n"
     ]
    }
   ],
   "source": [
    "# Set regularization parameter\n",
    "for _, C in enumerate((100, 1, 0.01)):\n",
    "    # turn down tolerance for short training time\n",
    "    modele_l1_LR = LogisticRegression(C=C, penalty='l1', tol=0.01)\n",
    "    modele_l2_LR = LogisticRegression(C=C, penalty='l2', tol=0.01)\n",
    "    modele_l1_LR.fit(X_train, Y_train)\n",
    "    modele_l2_LR.fit(X_train, Y_train)\n",
    "\n",
    "    coef_l1_LR = modele_l1_LR.coef_.ravel()\n",
    "    coef_l2_LR = modele_l2_LR.coef_.ravel()\n",
    "\n",
    "    # coef_l1_LR contains zeros due to the\n",
    "    # L1 sparsity inducing norm\n",
    "\n",
    "    sparsity_l1_LR = np.mean(coef_l1_LR == 0) * 100\n",
    "    sparsity_l2_LR = np.mean(coef_l2_LR == 0) * 100\n",
    "\n",
    "    print(\"C=%.2f\" % C)\n",
    "    print(\"Sparsity with L1 penalty: %.2f%%\" % sparsity_l1_LR)\n",
    "    print(\"score with L1 penalty: %.4f\" % modele_l1_LR.score(X_test, Y_test))\n",
    "    print(\"Sparsity with L2 penalty: %.2f%%\" % sparsity_l2_LR)\n",
    "    print(\"score with L2 penalty: %.4f\" % modele_l2_LR.score(X_test, Y_test))"
   ]
  },
  {
   "cell_type": "code",
   "execution_count": 90,
   "metadata": {},
   "outputs": [],
   "source": [
    "modele_l1_LR_pred = modele_l1_LR.predict(X_test)\n",
    "modele_l2_LR_pred= modele_l2_LR.predict(X_test)"
   ]
  },
  {
   "cell_type": "markdown",
   "metadata": {},
   "source": [
    "##### **ESTIMATION QUALITE MODELE REGRESSION LOGISTIQUE**"
   ]
  },
  {
   "cell_type": "code",
   "execution_count": 91,
   "metadata": {},
   "outputs": [],
   "source": [
    "modele_pred = modele_l1_LR_pred\n",
    "#modele_pred = modele_l2_LR_pred\n",
    "modele = modele_l1_LR\n",
    "#modele = modele_l2_LR"
   ]
  },
  {
   "cell_type": "markdown",
   "metadata": {},
   "source": [
    "##### Matrice confusion"
   ]
  },
  {
   "cell_type": "code",
   "execution_count": 92,
   "metadata": {},
   "outputs": [
    {
     "data": {
      "text/plain": [
       "array([[8464, 2340],\n",
       "       [1355, 9242]])"
      ]
     },
     "execution_count": 92,
     "metadata": {},
     "output_type": "execute_result"
    }
   ],
   "source": [
    "confusion_matrix(Y_test,modele_pred)"
   ]
  },
  {
   "cell_type": "markdown",
   "metadata": {},
   "source": [
    "##### ROC"
   ]
  },
  {
   "cell_type": "code",
   "execution_count": 93,
   "metadata": {},
   "outputs": [
    {
     "data": {
      "text/plain": [
       "0.8277735866301252"
      ]
     },
     "execution_count": 93,
     "metadata": {},
     "output_type": "execute_result"
    }
   ],
   "source": [
    "roc_auc_score(Y_test, modele_pred)"
   ]
  },
  {
   "cell_type": "markdown",
   "metadata": {},
   "source": [
    "##### ROC CURVE"
   ]
  },
  {
   "cell_type": "code",
   "execution_count": 94,
   "metadata": {},
   "outputs": [
    {
     "data": {
      "image/png": "[encoded data removed]",
      "text/plain": [
       "<matplotlib.figure.Figure at 0x7f69100fb550>"
      ]
     },
     "metadata": {},
     "output_type": "display_data"
    }
   ],
   "source": [
    "fpr, tpr, thresholds = roc_curve(Y_test, modele_pred)\n",
    "plt.figure(figsize=(8, 6))\n",
    "plot_roc_curve(fpr, tpr)\n",
    "plt.show()"
   ]
  },
  {
   "cell_type": "markdown",
   "metadata": {},
   "source": [
    "##### PRECISION, RAPPEL, F1-SCORE, SUPPORT"
   ]
  },
  {
   "cell_type": "code",
   "execution_count": 95,
   "metadata": {},
   "outputs": [
    {
     "data": {
      "text/plain": [
       "(0.7979623553790365, 0.8721336227234123, 0.8334009648766854, None)"
      ]
     },
     "execution_count": 95,
     "metadata": {},
     "output_type": "execute_result"
    }
   ],
   "source": [
    "precision_recall_fscore_support(Y_test, modele_pred,average='binary')"
   ]
  },
  {
   "cell_type": "markdown",
   "metadata": {},
   "source": [
    "##### SCORE EN K-FOLD CROSS VALIDATION (validation croisee en K passes) "
   ]
  },
  {
   "cell_type": "code",
   "execution_count": 96,
   "metadata": {},
   "outputs": [
    {
     "name": "stdout",
     "output_type": "stream",
     "text": [
      "Scores: [0.53538774 0.63614554 0.88172249 0.91777031 0.88083491 0.9122145\n",
      " 0.88966049 0.82904609 0.87528824 0.79014879]\n",
      "Mean: 0.8148219110345745\n",
      "Standard deviation: 0.12206304653896215\n",
      "CPU times: user 541 ms, sys: 111 ms, total: 652 ms\n",
      "Wall time: 2min 49s\n"
     ]
    }
   ],
   "source": [
    "%%time\n",
    "modele_score_acc=cross_val_score(modele, X, Y, cv=10, scoring=\"precision\",n_jobs=-1)\n",
    "display_scores(modele_score_acc)"
   ]
  },
  {
   "cell_type": "code",
   "execution_count": 97,
   "metadata": {},
   "outputs": [
    {
     "name": "stdout",
     "output_type": "stream",
     "text": [
      "Scores: [0.88637638 0.89198281 0.8611215  0.86785047 0.86766355 0.85850467\n",
      " 0.86205607 0.86747664 0.85140187 0.8635514 ]\n",
      "Mean: 0.8677985353423328\n",
      "Standard deviation: 0.01175143896730753\n",
      "CPU times: user 546 ms, sys: 106 ms, total: 651 ms\n",
      "Wall time: 2min 49s\n"
     ]
    }
   ],
   "source": [
    "%%time\n",
    "modele_score_acc=cross_val_score(modele, X, Y, cv=10, scoring=\"recall\",n_jobs=-1)\n",
    "display_scores(modele_score_acc)"
   ]
  },
  {
   "cell_type": "code",
   "execution_count": 98,
   "metadata": {},
   "outputs": [
    {
     "name": "stdout",
     "output_type": "stream",
     "text": [
      "Scores: [0.66755806 0.7426482  0.87130024 0.89211259 0.87419962 0.88454502\n",
      " 0.87564078 0.84782609 0.86317984 0.82522104]\n",
      "Mean: 0.834423147964419\n",
      "Standard deviation: 0.06916582873134833\n",
      "CPU times: user 556 ms, sys: 121 ms, total: 678 ms\n",
      "Wall time: 2min 48s\n"
     ]
    }
   ],
   "source": [
    "%%time\n",
    "modele_score_acc=cross_val_score(modele, X, Y, cv=10, scoring=\"f1\",n_jobs=-1)\n",
    "display_scores(modele_score_acc)"
   ]
  },
  {
   "cell_type": "code",
   "execution_count": 99,
   "metadata": {},
   "outputs": [
    {
     "name": "stdout",
     "output_type": "stream",
     "text": [
      "Scores: [0.64783022 0.74865915 0.93904687 0.95078368 0.93304425 0.94799986\n",
      " 0.9366446  0.91212057 0.92329989 0.8897589 ]\n",
      "Mean: 0.8829187987324184\n",
      "Standard deviation: 0.09654689175372212\n",
      "CPU times: user 550 ms, sys: 136 ms, total: 687 ms\n",
      "Wall time: 2min 48s\n"
     ]
    }
   ],
   "source": [
    "%%time\n",
    "modele_score_roc=cross_val_score(modele, X, Y, cv=10, scoring=\"roc_auc\",n_jobs=-1)\n",
    "display_scores(modele_score_roc)"
   ]
  },
  {
   "cell_type": "markdown",
   "metadata": {},
   "source": [
    "###  **KNN**"
   ]
  },
  {
   "cell_type": "code",
   "execution_count": 100,
   "metadata": {},
   "outputs": [],
   "source": [
    "from sklearn.neighbors import KNeighborsClassifier\n",
    "modele_knn=KNeighborsClassifier()\n",
    "modele_knn.fit(X_train, Y_train)\n",
    "modeleKnn_pred=modele_knn.predict(X_test)"
   ]
  },
  {
   "cell_type": "markdown",
   "metadata": {},
   "source": [
    "##### **ESTIMATION QUALITE MODELE KNN**"
   ]
  },
  {
   "cell_type": "code",
   "execution_count": 101,
   "metadata": {},
   "outputs": [],
   "source": [
    "modele=modele_knn\n",
    "modele_pred = modeleKnn_pred"
   ]
  },
  {
   "cell_type": "markdown",
   "metadata": {},
   "source": [
    "##### Matrice confusion"
   ]
  },
  {
   "cell_type": "code",
   "execution_count": 102,
   "metadata": {},
   "outputs": [
    {
     "data": {
      "text/plain": [
       "array([[7212, 3592],\n",
       "       [2572, 8025]])"
      ]
     },
     "execution_count": 102,
     "metadata": {},
     "output_type": "execute_result"
    }
   ],
   "source": [
    "confusion_matrix(Y_test,modele_pred)"
   ]
  },
  {
   "cell_type": "markdown",
   "metadata": {},
   "source": [
    "##### ROC"
   ]
  },
  {
   "cell_type": "code",
   "execution_count": 103,
   "metadata": {},
   "outputs": [
    {
     "data": {
      "text/plain": [
       "0.7124101716212949"
      ]
     },
     "execution_count": 103,
     "metadata": {},
     "output_type": "execute_result"
    }
   ],
   "source": [
    "roc_auc_score(Y_test, modele_pred)"
   ]
  },
  {
   "cell_type": "markdown",
   "metadata": {},
   "source": [
    "##### ROC CURVE"
   ]
  },
  {
   "cell_type": "code",
   "execution_count": 104,
   "metadata": {},
   "outputs": [
    {
     "data": {
      "image/png": "[encoded data removed]",
      "text/plain": [
       "<matplotlib.figure.Figure at 0x7f69101058d0>"
      ]
     },
     "metadata": {},
     "output_type": "display_data"
    }
   ],
   "source": [
    "fpr, tpr, thresholds = roc_curve(Y_test, modele_pred)\n",
    "plt.figure(figsize=(8, 6))\n",
    "plot_roc_curve(fpr, tpr)\n",
    "plt.show()"
   ]
  },
  {
   "cell_type": "markdown",
   "metadata": {},
   "source": [
    "##### PRECISION, RAPPEL, F1-SCORE, SUPPORT"
   ]
  },
  {
   "cell_type": "code",
   "execution_count": 105,
   "metadata": {},
   "outputs": [
    {
     "data": {
      "text/plain": [
       "(0.6907979684944477, 0.7572897989997169, 0.7225173314126226, None)"
      ]
     },
     "execution_count": 105,
     "metadata": {},
     "output_type": "execute_result"
    }
   ],
   "source": [
    "precision_recall_fscore_support(Y_test, modele_pred,average='binary')"
   ]
  },
  {
   "cell_type": "markdown",
   "metadata": {},
   "source": [
    "##### SCORE EN K-FOLD CROSS VALIDATION (validation croisee en K passes) "
   ]
  },
  {
   "cell_type": "code",
   "execution_count": 106,
   "metadata": {},
   "outputs": [
    {
     "name": "stdout",
     "output_type": "stream",
     "text": [
      "Scores: [0.56614705 0.61450097 0.74907613 0.77323349 0.67779993 0.71510379\n",
      " 0.71170698 0.68592241 0.72382508 0.6586577 ]\n",
      "Mean: 0.6875973527111319\n",
      "Standard deviation: 0.05898564912084765\n",
      "CPU times: user 362 ms, sys: 80 ms, total: 442 ms\n",
      "Wall time: 29.6 s\n"
     ]
    }
   ],
   "source": [
    "%%time\n",
    "modele_score_acc=cross_val_score(modele, X, Y, cv=10, scoring=\"precision\",n_jobs=-1)\n",
    "display_scores(modele_score_acc)"
   ]
  },
  {
   "cell_type": "code",
   "execution_count": 107,
   "metadata": {},
   "outputs": [
    {
     "name": "stdout",
     "output_type": "stream",
     "text": [
      "Scores: [0.76695945 0.76976266 0.75775701 0.75271028 0.76242991 0.74691589\n",
      " 0.75906542 0.75682243 0.74560748 0.76859813]\n",
      "Mean: 0.7586628650073268\n",
      "Standard deviation: 0.00808193406783947\n",
      "CPU times: user 358 ms, sys: 67.9 ms, total: 426 ms\n",
      "Wall time: 29.8 s\n"
     ]
    }
   ],
   "source": [
    "%%time\n",
    "modele_score_acc=cross_val_score(modele, X, Y, cv=10, scoring=\"recall\",n_jobs=-1)\n",
    "display_scores(modele_score_acc)"
   ]
  },
  {
   "cell_type": "code",
   "execution_count": 108,
   "metadata": {},
   "outputs": [
    {
     "name": "stdout",
     "output_type": "stream",
     "text": [
      "Scores: [0.65142857 0.68342459 0.75339156 0.76283387 0.71762843 0.73066374\n",
      " 0.73462373 0.71963032 0.73455483 0.7093936 ]\n",
      "Mean: 0.7197573248816875\n",
      "Standard deviation: 0.03105900547986481\n",
      "CPU times: user 350 ms, sys: 100 ms, total: 450 ms\n",
      "Wall time: 30.7 s\n"
     ]
    }
   ],
   "source": [
    "%%time\n",
    "modele_score_acc=cross_val_score(modele, X, Y, cv=10, scoring=\"f1\",n_jobs=-1)\n",
    "display_scores(modele_score_acc)"
   ]
  },
  {
   "cell_type": "code",
   "execution_count": 109,
   "metadata": {},
   "outputs": [
    {
     "name": "stdout",
     "output_type": "stream",
     "text": [
      "Scores: [0.61863541 0.69153529 0.82828151 0.84115261 0.76584816 0.79912543\n",
      " 0.80227281 0.77246724 0.80830686 0.75427587]\n",
      "Mean: 0.768190117436766\n",
      "Standard deviation: 0.06412677633183099\n",
      "CPU times: user 353 ms, sys: 76.8 ms, total: 430 ms\n",
      "Wall time: 31.2 s\n"
     ]
    }
   ],
   "source": [
    "%%time\n",
    "modele_score_roc=cross_val_score(modele, X, Y, cv=10, scoring=\"roc_auc\",n_jobs=-1)\n",
    "display_scores(modele_score_roc)"
   ]
  },
  {
   "cell_type": "markdown",
   "metadata": {},
   "source": [
    "### **SVM**"
   ]
  },
  {
   "cell_type": "code",
   "execution_count": 140,
   "metadata": {
    "scrolled": true
   },
   "outputs": [],
   "source": [
    "# algorithme de classification\n",
    "from sklearn.svm import SVC"
   ]
  },
  {
   "cell_type": "code",
   "execution_count": 141,
   "metadata": {},
   "outputs": [],
   "source": [
    "modele_SVM = SVC()"
   ]
  },
  {
   "cell_type": "code",
   "execution_count": 142,
   "metadata": {},
   "outputs": [
    {
     "name": "stdout",
     "output_type": "stream",
     "text": [
      "CPU times: user 16min 11s, sys: 77.2 ms, total: 16min 11s\n",
      "Wall time: 16min 11s\n"
     ]
    },
    {
     "data": {
      "text/plain": [
       "SVC(C=1.0, cache_size=200, class_weight=None, coef0=0.0,\n",
       "  decision_function_shape='ovr', degree=3, gamma='auto', kernel='rbf',\n",
       "  max_iter=-1, probability=False, random_state=None, shrinking=True,\n",
       "  tol=0.001, verbose=False)"
      ]
     },
     "execution_count": 142,
     "metadata": {},
     "output_type": "execute_result"
    }
   ],
   "source": [
    "%%time\n",
    "#CPU times: user 20h 57min 44s, sys: 12.1 s, total: 20h 57min 56s\n",
    "#Wall time: 21h 35min 25s\n",
    "modele_SVM.fit(X_train, Y_train)"
   ]
  },
  {
   "cell_type": "code",
   "execution_count": 146,
   "metadata": {},
   "outputs": [],
   "source": [
    "with open(\"SVM_model.pk\", 'wb') as pickle_file:\n",
    "    pk.dump(all, pickle_file)"
   ]
  },
  {
   "cell_type": "code",
   "execution_count": 147,
   "metadata": {},
   "outputs": [],
   "source": [
    "modele_SVM_test=modele_SVM.predict(X_test)"
   ]
  },
  {
   "cell_type": "markdown",
   "metadata": {},
   "source": [
    "##### **ESTIMATION QUALITE MODELE SVM**"
   ]
  },
  {
   "cell_type": "code",
   "execution_count": 148,
   "metadata": {},
   "outputs": [],
   "source": [
    "modele_pred = modele_SVM_test\n",
    "modele = modele_SVM"
   ]
  },
  {
   "cell_type": "markdown",
   "metadata": {},
   "source": [
    "##### Matrice confusion"
   ]
  },
  {
   "cell_type": "code",
   "execution_count": 149,
   "metadata": {},
   "outputs": [
    {
     "data": {
      "text/plain": [
       "array([[10804,     0],\n",
       "       [ 9528,  1069]])"
      ]
     },
     "execution_count": 149,
     "metadata": {},
     "output_type": "execute_result"
    }
   ],
   "source": [
    "confusion_matrix(Y_test,modele_pred)"
   ]
  },
  {
   "cell_type": "markdown",
   "metadata": {},
   "source": [
    "##### ROC"
   ]
  },
  {
   "cell_type": "code",
   "execution_count": 150,
   "metadata": {},
   "outputs": [
    {
     "data": {
      "text/plain": [
       "0.5504388034349345"
      ]
     },
     "execution_count": 150,
     "metadata": {},
     "output_type": "execute_result"
    }
   ],
   "source": [
    "roc_auc_score(Y_test, modele_pred)"
   ]
  },
  {
   "cell_type": "markdown",
   "metadata": {},
   "source": [
    "##### ROC CURVE"
   ]
  },
  {
   "cell_type": "code",
   "execution_count": 151,
   "metadata": {},
   "outputs": [
    {
     "data": {
      "image/png": "[encoded data removed]",
      "text/plain": [
       "<matplotlib.figure.Figure at 0x7f6902dbc3c8>"
      ]
     },
     "metadata": {},
     "output_type": "display_data"
    }
   ],
   "source": [
    "fpr, tpr, thresholds = roc_curve(Y_test, modele_pred)\n",
    "plt.figure(figsize=(8, 6))\n",
    "plot_roc_curve(fpr, tpr)\n",
    "plt.show()"
   ]
  },
  {
   "cell_type": "markdown",
   "metadata": {},
   "source": [
    "##### PRECISION, RAPPEL, F1-SCORE, SUPPORT"
   ]
  },
  {
   "cell_type": "code",
   "execution_count": 152,
   "metadata": {},
   "outputs": [
    {
     "data": {
      "text/plain": [
       "(1.0, 0.10087760686986882, 0.1832676152923024, None)"
      ]
     },
     "execution_count": 152,
     "metadata": {},
     "output_type": "execute_result"
    }
   ],
   "source": [
    "precision_recall_fscore_support(Y_test, modele_pred,average='binary')"
   ]
  },
  {
   "cell_type": "markdown",
   "metadata": {},
   "source": [
    "##### SCORE EN K-FOLD CROSS VALIDATION (validation croisee en K passes) "
   ]
  },
  {
   "cell_type": "code",
   "execution_count": 153,
   "metadata": {},
   "outputs": [
    {
     "name": "stdout",
     "output_type": "stream",
     "text": [
      "Scores: [0.99607458 0.99804878 0.99898785]\n",
      "Mean: 0.9977037392210842\n",
      "Standard deviation: 0.0012141053118430185\n",
      "CPU times: user 683 ms, sys: 228 ms, total: 911 ms\n",
      "Wall time: 11min 10s\n"
     ]
    }
   ],
   "source": [
    "%%time\n",
    "modele_score_acc=cross_val_score(modele, X_train, Y_train, cv=3, scoring=\"precision\",n_jobs=-1)\n",
    "display_scores(modele_score_acc)"
   ]
  },
  {
   "cell_type": "code",
   "execution_count": 154,
   "metadata": {},
   "outputs": [
    {
     "name": "stdout",
     "output_type": "stream",
     "text": [
      "Scores: [0.08680049 0.0853426  0.0865762 ]\n",
      "Mean: 0.08623976673769206\n",
      "Standard deviation: 0.000640964008802741\n",
      "CPU times: user 787 ms, sys: 300 ms, total: 1.09 s\n",
      "Wall time: 16min 37s\n"
     ]
    }
   ],
   "source": [
    "%%time\n",
    "modele_score_acc=cross_val_score(modele, X, Y, cv=3, scoring=\"recall\",n_jobs=-1)\n",
    "display_scores(modele_score_acc)"
   ]
  },
  {
   "cell_type": "code",
   "execution_count": 155,
   "metadata": {},
   "outputs": [
    {
     "name": "stdout",
     "output_type": "stream",
     "text": [
      "Scores: [0.15969464 0.1572639  0.1593313 ]\n",
      "Mean: 0.158763280697471\n",
      "Standard deviation: 0.001070549984412297\n",
      "CPU times: user 731 ms, sys: 347 ms, total: 1.08 s\n",
      "Wall time: 17min 20s\n"
     ]
    }
   ],
   "source": [
    "%%time\n",
    "modele_score_acc=cross_val_score(modele, X, Y, cv=3, scoring=\"f1\",n_jobs=-1)\n",
    "display_scores(modele_score_acc)"
   ]
  },
  {
   "cell_type": "code",
   "execution_count": 156,
   "metadata": {},
   "outputs": [
    {
     "name": "stdout",
     "output_type": "stream",
     "text": [
      "Scores: [0.58775037 0.59047879 0.58920838]\n",
      "Mean: 0.5891458469498364\n",
      "Standard deviation: 0.0011147530639906667\n",
      "CPU times: user 767 ms, sys: 276 ms, total: 1.04 s\n",
      "Wall time: 16min 53s\n"
     ]
    }
   ],
   "source": [
    "%%time\n",
    "modele_score_roc=cross_val_score(modele, X, Y, cv=3, scoring=\"roc_auc\",n_jobs=-1)\n",
    "display_scores(modele_score_roc)"
   ]
  },
  {
   "cell_type": "markdown",
   "metadata": {},
   "source": [
    "##### Autres Tests à reporter"
   ]
  },
  {
   "cell_type": "code",
   "execution_count": 157,
   "metadata": {},
   "outputs": [
    {
     "data": {
      "text/plain": [
       "0.5547871594785291"
      ]
     },
     "execution_count": 157,
     "metadata": {},
     "output_type": "execute_result"
    }
   ],
   "source": [
    "# % de bien classes\n",
    "# attention trompeur\n",
    "accuracy_score(Y_test,modele_SVM_test)"
   ]
  },
  {
   "cell_type": "code",
   "execution_count": 158,
   "metadata": {},
   "outputs": [
    {
     "data": {
      "text/plain": [
       "1.0"
      ]
     },
     "execution_count": 158,
     "metadata": {},
     "output_type": "execute_result"
    }
   ],
   "source": [
    "precision_score(Y_test,modele_SVM_test)"
   ]
  },
  {
   "cell_type": "markdown",
   "metadata": {},
   "source": [
    "### **LE MEILLEUR: Random forest**"
   ]
  },
  {
   "cell_type": "code",
   "execution_count": 232,
   "metadata": {},
   "outputs": [],
   "source": [
    "from sklearn.model_selection import GridSearchCV"
   ]
  },
  {
   "cell_type": "markdown",
   "metadata": {},
   "source": [
    "http://scikit-learn.org/stable/modules/generated/sklearn.ensemble.RandomForestClassifier.html"
   ]
  },
  {
   "cell_type": "code",
   "execution_count": 285,
   "metadata": {},
   "outputs": [],
   "source": [
    "parameters = { \n",
    "            'n_estimators':[1,500], \n",
    "            'criterion' :['gini', 'entropy']\n",
    "              }"
   ]
  },
  {
   "cell_type": "raw",
   "metadata": {
    "collapsed": true
   },
   "source": [
    "parameters = { \n",
    "            'n_estimators':[10,100,200], \n",
    "            'max_features':['sqrt',\"log2\",None],\n",
    "            'warm_start':(False, True),\n",
    "            'max_depth' : [5,10,None],\n",
    "            'criterion' :['gini', 'entropy']\n",
    "              }"
   ]
  },
  {
   "cell_type": "raw",
   "metadata": {},
   "source": [
    "fit_params={ \n",
    "            'n_estimators' : 500\n",
    "              }"
   ]
  },
  {
   "cell_type": "code",
   "execution_count": 234,
   "metadata": {},
   "outputs": [],
   "source": [
    "#nb de jeux en CV\n",
    "nb_cv=5"
   ]
  },
  {
   "cell_type": "code",
   "execution_count": 286,
   "metadata": {},
   "outputs": [],
   "source": [
    "modele_RF_GSCV = GridSearchCV(modele_rf, parameters,cv=nb_cv,n_jobs=-1)"
   ]
  },
  {
   "cell_type": "code",
   "execution_count": 287,
   "metadata": {},
   "outputs": [
    {
     "name": "stdout",
     "output_type": "stream",
     "text": [
      "CPU times: user 1min 28s, sys: 343 ms, total: 1min 28s\n",
      "Wall time: 6min 36s\n"
     ]
    },
    {
     "data": {
      "text/plain": [
       "GridSearchCV(cv=5, error_score='raise',\n",
       "       estimator=RandomForestClassifier(bootstrap=True, class_weight=None, criterion='gini',\n",
       "            max_depth=None, max_features='auto', max_leaf_nodes=None,\n",
       "            min_impurity_decrease=0.0, min_impurity_split=None,\n",
       "            min_samples_leaf=1, min_samples_split=2,\n",
       "            min_weight_fraction_leaf=0.0, n_estimators=100, n_jobs=1,\n",
       "            oob_score=False, random_state=42, verbose=0, warm_start=False),\n",
       "       fit_params=None, iid=True, n_jobs=-1,\n",
       "       param_grid={'n_estimators': [1, 500], 'criterion': ['gini', 'entropy']},\n",
       "       pre_dispatch='2*n_jobs', refit=True, return_train_score='warn',\n",
       "       scoring=None, verbose=0)"
      ]
     },
     "execution_count": 287,
     "metadata": {},
     "output_type": "execute_result"
    }
   ],
   "source": [
    "%%time\n",
    "modele_RF_GSCV.fit(X_train,Y_train)"
   ]
  },
  {
   "cell_type": "code",
   "execution_count": 288,
   "metadata": {},
   "outputs": [
    {
     "data": {
      "text/plain": [
       "RandomForestClassifier(bootstrap=True, class_weight=None, criterion='entropy',\n",
       "            max_depth=None, max_features='auto', max_leaf_nodes=None,\n",
       "            min_impurity_decrease=0.0, min_impurity_split=None,\n",
       "            min_samples_leaf=1, min_samples_split=2,\n",
       "            min_weight_fraction_leaf=0.0, n_estimators=500, n_jobs=1,\n",
       "            oob_score=False, random_state=42, verbose=0, warm_start=False)"
      ]
     },
     "execution_count": 288,
     "metadata": {},
     "output_type": "execute_result"
    }
   ],
   "source": [
    "modele_RF_GSCV.best_estimator_"
   ]
  },
  {
   "cell_type": "markdown",
   "metadata": {},
   "source": [
    "##### Estimation de l'erreur de prévision sur l'échantillon test"
   ]
  },
  {
   "cell_type": "code",
   "execution_count": 289,
   "metadata": {},
   "outputs": [
    {
     "data": {
      "text/plain": [
       "0.9465912807812719"
      ]
     },
     "execution_count": 289,
     "metadata": {},
     "output_type": "execute_result"
    }
   ],
   "source": [
    "modele_RF_GSCV.score(X_test,Y_test)"
   ]
  },
  {
   "cell_type": "code",
   "execution_count": 290,
   "metadata": {},
   "outputs": [],
   "source": [
    "modele_RF_GSCV_pred=modele_RF_GSCV.predict(X_test)"
   ]
  },
  {
   "cell_type": "markdown",
   "metadata": {},
   "source": [
    "##### **ESTIMATION QUALITE MODELE RF GRIDSEARCH**"
   ]
  },
  {
   "cell_type": "code",
   "execution_count": 291,
   "metadata": {},
   "outputs": [],
   "source": [
    "modele_pred = modele_RF_GSCV_pred\n",
    "modele=modele_RF_GSCV"
   ]
  },
  {
   "cell_type": "markdown",
   "metadata": {},
   "source": [
    "##### Matrice confusion"
   ]
  },
  {
   "cell_type": "code",
   "execution_count": 292,
   "metadata": {},
   "outputs": [
    {
     "data": {
      "text/plain": [
       "array([[10040,   764],\n",
       "       [  379, 10218]])"
      ]
     },
     "execution_count": 292,
     "metadata": {},
     "output_type": "execute_result"
    }
   ],
   "source": [
    "confusion_matrix(Y_test,modele_pred)"
   ]
  },
  {
   "cell_type": "markdown",
   "metadata": {},
   "source": [
    "##### ROC"
   ]
  },
  {
   "cell_type": "code",
   "execution_count": 293,
   "metadata": {},
   "outputs": [
    {
     "data": {
      "text/plain": [
       "0.9467603053639938"
      ]
     },
     "execution_count": 293,
     "metadata": {},
     "output_type": "execute_result"
    }
   ],
   "source": [
    "roc_auc_score(Y_test, modele_pred)"
   ]
  },
  {
   "cell_type": "markdown",
   "metadata": {},
   "source": [
    "##### ROC CURVE"
   ]
  },
  {
   "cell_type": "code",
   "execution_count": 294,
   "metadata": {},
   "outputs": [
    {
     "data": {
      "image/png": "[encoded data removed]",
      "text/plain": [
       "<matplotlib.figure.Figure at 0x7f6902d4fba8>"
      ]
     },
     "metadata": {},
     "output_type": "display_data"
    }
   ],
   "source": [
    "fpr, tpr, thresholds = roc_curve(Y_test, modele_pred)\n",
    "plt.figure(figsize=(8, 6))\n",
    "plot_roc_curve(fpr, tpr)\n",
    "plt.show()"
   ]
  },
  {
   "cell_type": "markdown",
   "metadata": {},
   "source": [
    "##### PRECISION, RAPPEL, F1-SCORE, SUPPORT"
   ]
  },
  {
   "cell_type": "code",
   "execution_count": 295,
   "metadata": {},
   "outputs": [
    {
     "data": {
      "text/plain": [
       "(0.9304316153706065, 0.9642351608945928, 0.9470318365077159, None)"
      ]
     },
     "execution_count": 295,
     "metadata": {},
     "output_type": "execute_result"
    }
   ],
   "source": [
    "precision_recall_fscore_support(Y_test, modele_pred,average='binary')"
   ]
  },
  {
   "cell_type": "markdown",
   "metadata": {},
   "source": [
    "##### SCORE EN K-FOLD CROSS VALIDATION (validation croisee en K passes) \n",
    "INUTILE DEJA FAIT LORS DE LA GENERATION DU MODELE ! => resultat sous optimal"
   ]
  },
  {
   "cell_type": "code",
   "execution_count": 296,
   "metadata": {},
   "outputs": [
    {
     "name": "stdout",
     "output_type": "stream",
     "text": [
      "Scores: [0.5286025  0.98738079 0.97614749 0.97413793 0.90340759]\n",
      "Mean: 0.87393525959312\n",
      "Standard deviation: 0.1752033889740129\n",
      "CPU times: user 1.6 s, sys: 543 ms, total: 2.14 s\n",
      "Wall time: 30min 30s\n"
     ]
    }
   ],
   "source": [
    "%%time\n",
    "#CPU times: user 1.6 s, sys: 543 ms, total: 2.14 s\n",
    "#Wall time: 30min 30s\n",
    "modele_score_acc=cross_val_score(modele, X, Y, cv=nb_cv, scoring=\"precision\",n_jobs=-1)\n",
    "display_scores(modele_score_acc)"
   ]
  },
  {
   "cell_type": "code",
   "execution_count": 271,
   "metadata": {},
   "outputs": [
    {
     "name": "stdout",
     "output_type": "stream",
     "text": [
      "Scores: [0.9766377  0.95785441 0.96       0.96102804 0.9588785 ]\n",
      "Mean: 0.96287972911956\n",
      "Standard deviation: 0.006960847101161565\n",
      "CPU times: user 1.17 s, sys: 390 ms, total: 1.56 s\n",
      "Wall time: 25min 32s\n"
     ]
    }
   ],
   "source": [
    "%%time\n",
    "modele_score_acc=cross_val_score(modele, X, Y, cv=nb_cv, scoring=\"recall\",n_jobs=-1)\n",
    "display_scores(modele_score_acc)"
   ]
  },
  {
   "cell_type": "code",
   "execution_count": 272,
   "metadata": {},
   "outputs": [
    {
     "name": "stdout",
     "output_type": "stream",
     "text": [
      "Scores: [0.68594119 0.97239351 0.96800641 0.96753858 0.93031691]\n",
      "Mean: 0.9048393189297055\n",
      "Standard deviation: 0.1104991805421745\n",
      "CPU times: user 1.21 s, sys: 372 ms, total: 1.59 s\n",
      "Wall time: 25min 28s\n"
     ]
    }
   ],
   "source": [
    "%%time\n",
    "modele_score_acc=cross_val_score(modele, X, Y, cv=nb_cv, scoring=\"f1\",n_jobs=-1)\n",
    "display_scores(modele_score_acc)"
   ]
  },
  {
   "cell_type": "code",
   "execution_count": 273,
   "metadata": {},
   "outputs": [
    {
     "name": "stdout",
     "output_type": "stream",
     "text": [
      "Scores: [0.68827536 0.99628681 0.99445123 0.99379531 0.97491813]\n",
      "Mean: 0.9295453667307703\n",
      "Standard deviation: 0.12088436685366487\n",
      "CPU times: user 1.21 s, sys: 386 ms, total: 1.59 s\n",
      "Wall time: 25min 29s\n"
     ]
    }
   ],
   "source": [
    "%%time\n",
    "modele_score_roc=cross_val_score(modele, X, Y, cv=nb_cv, scoring=\"roc_auc\",n_jobs=-1)\n",
    "display_scores(modele_score_roc)"
   ]
  }
 ],
 "metadata": {
  "kernelspec": {
   "display_name": "Python 3",
   "language": "python",
   "name": "python3"
  },
  "language_info": {
   "codemirror_mode": {
    "name": "ipython",
    "version": 3
   },
   "file_extension": ".py",
   "mimetype": "text/x-python",
   "name": "python",
   "nbconvert_exporter": "python",
   "pygments_lexer": "ipython3",
   "version": "3.6.6"
  }
 },
 "nbformat": 4,
 "nbformat_minor": 2
}
