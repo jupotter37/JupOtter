{
 "cells": [
  {
   "cell_type": "code",
   "execution_count": null,
   "metadata": {
    "collapsed": true
   },
   "outputs": [],
   "source": []
  },
  {
   "cell_type": "code",
   "execution_count": null,
   "metadata": {
    "collapsed": true
   },
   "outputs": [],
   "source": []
  },
  {
   "cell_type": "code",
   "execution_count": null,
   "metadata": {
    "collapsed": true
   },
   "outputs": [],
   "source": []
  },
  {
   "cell_type": "raw",
   "metadata": {},
   "source": []
  },
  {
   "cell_type": "markdown",
   "metadata": {},
   "source": [
    "# iPython notebook - Daryna analysis - Conversions by website pages\n",
    "\n",
    "\n",
    "## 1. Import libraries"
   ]
  },
  {
   "cell_type": "code",
   "execution_count": 9,
   "metadata": {
    "collapsed": true
   },
   "outputs": [],
   "source": [
    "%matplotlib inline \n",
    "\n",
    "import numpy as np\n",
    "import scipy as sp\n",
    "import matplotlib as mpl\n",
    "import matplotlib.cm as cm\n",
    "import matplotlib.pyplot as plt\n",
    "import pandas as pd\n",
    "\n",
    "pd.set_option('display.width', 500)\n",
    "pd.set_option('display.max_columns', 100)\n",
    "pd.set_option('display.notebook_repr_html', True)\n",
    "import seaborn as sns #sets up styles and gives us more plotting options\n"
   ]
  },
  {
   "cell_type": "markdown",
   "metadata": {},
   "source": [
    " 2. Settings"
   ]
  },
  {
   "cell_type": "code",
   "execution_count": 10,
   "metadata": {
    "collapsed": true
   },
   "outputs": [],
   "source": [
    "# Time period 24th Jan - 24th April (arbitrary )\n",
    "\n",
    "# API credentials\n",
    "# Email address 705762800217-compute@developer.gserviceaccount.com\n",
    "# Key IDs 948ee8e2a420ef14a5d5a29bd35104fe2f1e6ed4\n",
    " "
   ]
  },
  {
   "cell_type": "code",
   "execution_count": 11,
   "metadata": {
    "collapsed": true
   },
   "outputs": [],
   "source": [
    "# open file. It is requested via API explorer using request parameters:\n",
    "\n",
    "#Account: TMRW Tech Hub\n",
    "#Property: TMRW\n",
    "#View: All Web Site Data\n",
    "#ids: ga:123303369\n",
    "#start-date: 2017-01-24\n",
    "#end-date: 2017-04-24\n",
    "\n",
    "#metrics\n",
    "#ga:sessions\n",
    "#ga:sessionsWithEvent\n",
    "\n",
    "#dimensions\n",
    "#ga:pagePath\n",
    "\n",
    "#sort\n",
    "#-ga:sessionsWithEvent\n",
    "\n",
    "#filter\n",
    "#ga:sessions>10\n",
    "\n",
    "\n"
   ]
  },
  {
   "cell_type": "code",
   "execution_count": 14,
   "metadata": {
    "collapsed": false,
    "scrolled": true
   },
   "outputs": [
    {
     "data": {
      "text/html": [
       "<div>\n",
       "<table border=\"1\" class=\"dataframe\">\n",
       "  <thead>\n",
       "    <tr style=\"text-align: right;\">\n",
       "      <th></th>\n",
       "      <th>ga:pagePath</th>\n",
       "      <th>ga:sessions</th>\n",
       "      <th>ga:sessionsWithEvent</th>\n",
       "      <th>cr</th>\n",
       "    </tr>\n",
       "  </thead>\n",
       "  <tbody>\n",
       "    <tr>\n",
       "      <th>0</th>\n",
       "      <td>'/</td>\n",
       "      <td>4436</td>\n",
       "      <td>82</td>\n",
       "      <td>0.018485</td>\n",
       "    </tr>\n",
       "    <tr>\n",
       "      <th>1</th>\n",
       "      <td>'/TMRW_FAQs.php</td>\n",
       "      <td>100</td>\n",
       "      <td>26</td>\n",
       "      <td>0.260000</td>\n",
       "    </tr>\n",
       "    <tr>\n",
       "      <th>2</th>\n",
       "      <td>'/TMRW_Byte_Cafe.php</td>\n",
       "      <td>218</td>\n",
       "      <td>23</td>\n",
       "      <td>0.105505</td>\n",
       "    </tr>\n",
       "    <tr>\n",
       "      <th>3</th>\n",
       "      <td>'/TMRW_the_team.php</td>\n",
       "      <td>99</td>\n",
       "      <td>10</td>\n",
       "      <td>0.101010</td>\n",
       "    </tr>\n",
       "    <tr>\n",
       "      <th>4</th>\n",
       "      <td>'/trainstrikes.php</td>\n",
       "      <td>13</td>\n",
       "      <td>0</td>\n",
       "      <td>0.000000</td>\n",
       "    </tr>\n",
       "    <tr>\n",
       "      <th>5</th>\n",
       "      <td>'/voteforbyte.php</td>\n",
       "      <td>31</td>\n",
       "      <td>0</td>\n",
       "      <td>0.000000</td>\n",
       "    </tr>\n",
       "  </tbody>\n",
       "</table>\n",
       "</div>"
      ],
      "text/plain": [
       "            ga:pagePath  ga:sessions  ga:sessionsWithEvent        cr\n",
       "0                    '/         4436                    82  0.018485\n",
       "1       '/TMRW_FAQs.php          100                    26  0.260000\n",
       "2  '/TMRW_Byte_Cafe.php          218                    23  0.105505\n",
       "3   '/TMRW_the_team.php           99                    10  0.101010\n",
       "4    '/trainstrikes.php           13                     0  0.000000\n",
       "5     '/voteforbyte.php           31                     0  0.000000"
      ]
     },
     "execution_count": 14,
     "metadata": {},
     "output_type": "execute_result"
    }
   ],
   "source": [
    "# Open file\n",
    "# original file exported from GA includes ga:pagePath,ga:sessions,ga:sessionsWithEvent\n",
    "# Calculate \"rate\" as \"Sessions with event\"/\"Sessions\" for each page.\n",
    "\n",
    "TMRW_events= pd.read_csv(\"files/TMRW_events.csv\")\n",
    "TMRW_events\n",
    "\n"
   ]
  },
  {
   "cell_type": "code",
   "execution_count": 17,
   "metadata": {
    "collapsed": false
   },
   "outputs": [
    {
     "data": {
      "text/html": [
       "<div>\n",
       "<table border=\"1\" class=\"dataframe\">\n",
       "  <thead>\n",
       "    <tr style=\"text-align: right;\">\n",
       "      <th></th>\n",
       "      <th>page</th>\n",
       "      <th>sessions</th>\n",
       "      <th>events</th>\n",
       "      <th>rate</th>\n",
       "    </tr>\n",
       "  </thead>\n",
       "  <tbody>\n",
       "    <tr>\n",
       "      <th>0</th>\n",
       "      <td>'/</td>\n",
       "      <td>4436</td>\n",
       "      <td>82</td>\n",
       "      <td>0.018485</td>\n",
       "    </tr>\n",
       "    <tr>\n",
       "      <th>1</th>\n",
       "      <td>'/TMRW_FAQs.php</td>\n",
       "      <td>100</td>\n",
       "      <td>26</td>\n",
       "      <td>0.260000</td>\n",
       "    </tr>\n",
       "    <tr>\n",
       "      <th>2</th>\n",
       "      <td>'/TMRW_Byte_Cafe.php</td>\n",
       "      <td>218</td>\n",
       "      <td>23</td>\n",
       "      <td>0.105505</td>\n",
       "    </tr>\n",
       "    <tr>\n",
       "      <th>3</th>\n",
       "      <td>'/TMRW_the_team.php</td>\n",
       "      <td>99</td>\n",
       "      <td>10</td>\n",
       "      <td>0.101010</td>\n",
       "    </tr>\n",
       "    <tr>\n",
       "      <th>4</th>\n",
       "      <td>'/trainstrikes.php</td>\n",
       "      <td>13</td>\n",
       "      <td>0</td>\n",
       "      <td>0.000000</td>\n",
       "    </tr>\n",
       "    <tr>\n",
       "      <th>5</th>\n",
       "      <td>'/voteforbyte.php</td>\n",
       "      <td>31</td>\n",
       "      <td>0</td>\n",
       "      <td>0.000000</td>\n",
       "    </tr>\n",
       "  </tbody>\n",
       "</table>\n",
       "</div>"
      ],
      "text/plain": [
       "                   page  sessions  events      rate\n",
       "0                    '/      4436      82  0.018485\n",
       "1       '/TMRW_FAQs.php       100      26  0.260000\n",
       "2  '/TMRW_Byte_Cafe.php       218      23  0.105505\n",
       "3   '/TMRW_the_team.php        99      10  0.101010\n",
       "4    '/trainstrikes.php        13       0  0.000000\n",
       "5     '/voteforbyte.php        31       0  0.000000"
      ]
     },
     "execution_count": 17,
     "metadata": {},
     "output_type": "execute_result"
    }
   ],
   "source": [
    "TMRW_events.columns=[\"page\",\"sessions\",\"events\",\"rate\"]\n",
    "TMRW_events"
   ]
  },
  {
   "cell_type": "code",
   "execution_count": 18,
   "metadata": {
    "collapsed": false
   },
   "outputs": [
    {
     "data": {
      "text/html": [
       "<div>\n",
       "<table border=\"1\" class=\"dataframe\">\n",
       "  <thead>\n",
       "    <tr style=\"text-align: right;\">\n",
       "      <th></th>\n",
       "      <th>page</th>\n",
       "      <th>sessions</th>\n",
       "      <th>events</th>\n",
       "      <th>rate</th>\n",
       "    </tr>\n",
       "  </thead>\n",
       "  <tbody>\n",
       "    <tr>\n",
       "      <th>0</th>\n",
       "      <td>'/</td>\n",
       "      <td>4436</td>\n",
       "      <td>82</td>\n",
       "      <td>0.018485</td>\n",
       "    </tr>\n",
       "    <tr>\n",
       "      <th>1</th>\n",
       "      <td>'/TMRW_FAQs.php</td>\n",
       "      <td>100</td>\n",
       "      <td>26</td>\n",
       "      <td>0.260000</td>\n",
       "    </tr>\n",
       "    <tr>\n",
       "      <th>2</th>\n",
       "      <td>'/TMRW_Byte_Cafe.php</td>\n",
       "      <td>218</td>\n",
       "      <td>23</td>\n",
       "      <td>0.105505</td>\n",
       "    </tr>\n",
       "    <tr>\n",
       "      <th>3</th>\n",
       "      <td>'/TMRW_the_team.php</td>\n",
       "      <td>99</td>\n",
       "      <td>10</td>\n",
       "      <td>0.101010</td>\n",
       "    </tr>\n",
       "  </tbody>\n",
       "</table>\n",
       "</div>"
      ],
      "text/plain": [
       "                   page  sessions  events      rate\n",
       "0                    '/      4436      82  0.018485\n",
       "1       '/TMRW_FAQs.php       100      26  0.260000\n",
       "2  '/TMRW_Byte_Cafe.php       218      23  0.105505\n",
       "3   '/TMRW_the_team.php        99      10  0.101010"
      ]
     },
     "execution_count": 18,
     "metadata": {},
     "output_type": "execute_result"
    }
   ],
   "source": [
    "TMRW_events_filter = TMRW_events[TMRW_events.rate > 0]\n",
    "TMRW_events_filter"
   ]
  },
  {
   "cell_type": "code",
   "execution_count": 19,
   "metadata": {
    "collapsed": false
   },
   "outputs": [
    {
     "data": {
      "text/html": [
       "<div>\n",
       "<table border=\"1\" class=\"dataframe\">\n",
       "  <thead>\n",
       "    <tr style=\"text-align: right;\">\n",
       "      <th></th>\n",
       "      <th>sessions</th>\n",
       "      <th>events</th>\n",
       "      <th>rate</th>\n",
       "    </tr>\n",
       "  </thead>\n",
       "  <tbody>\n",
       "    <tr>\n",
       "      <th>count</th>\n",
       "      <td>4.00000</td>\n",
       "      <td>4.000000</td>\n",
       "      <td>4.000000</td>\n",
       "    </tr>\n",
       "    <tr>\n",
       "      <th>mean</th>\n",
       "      <td>1213.25000</td>\n",
       "      <td>35.250000</td>\n",
       "      <td>0.121250</td>\n",
       "    </tr>\n",
       "    <tr>\n",
       "      <th>std</th>\n",
       "      <td>2149.22612</td>\n",
       "      <td>31.930915</td>\n",
       "      <td>0.100780</td>\n",
       "    </tr>\n",
       "    <tr>\n",
       "      <th>min</th>\n",
       "      <td>99.00000</td>\n",
       "      <td>10.000000</td>\n",
       "      <td>0.018485</td>\n",
       "    </tr>\n",
       "    <tr>\n",
       "      <th>25%</th>\n",
       "      <td>99.75000</td>\n",
       "      <td>19.750000</td>\n",
       "      <td>0.080379</td>\n",
       "    </tr>\n",
       "    <tr>\n",
       "      <th>50%</th>\n",
       "      <td>159.00000</td>\n",
       "      <td>24.500000</td>\n",
       "      <td>0.103257</td>\n",
       "    </tr>\n",
       "    <tr>\n",
       "      <th>75%</th>\n",
       "      <td>1272.50000</td>\n",
       "      <td>40.000000</td>\n",
       "      <td>0.144128</td>\n",
       "    </tr>\n",
       "    <tr>\n",
       "      <th>max</th>\n",
       "      <td>4436.00000</td>\n",
       "      <td>82.000000</td>\n",
       "      <td>0.260000</td>\n",
       "    </tr>\n",
       "  </tbody>\n",
       "</table>\n",
       "</div>"
      ],
      "text/plain": [
       "         sessions     events      rate\n",
       "count     4.00000   4.000000  4.000000\n",
       "mean   1213.25000  35.250000  0.121250\n",
       "std    2149.22612  31.930915  0.100780\n",
       "min      99.00000  10.000000  0.018485\n",
       "25%      99.75000  19.750000  0.080379\n",
       "50%     159.00000  24.500000  0.103257\n",
       "75%    1272.50000  40.000000  0.144128\n",
       "max    4436.00000  82.000000  0.260000"
      ]
     },
     "execution_count": 19,
     "metadata": {},
     "output_type": "execute_result"
    }
   ],
   "source": [
    "TMRW_events_filter.describe()"
   ]
  },
  {
   "cell_type": "code",
   "execution_count": 20,
   "metadata": {
    "collapsed": false,
    "scrolled": false
   },
   "outputs": [
    {
     "data": {
      "text/html": [
       "\n",
       "    <div class=\"bk-root\">\n",
       "        <a href=\"http://bokeh.pydata.org\" target=\"_blank\" class=\"bk-logo bk-logo-small bk-logo-notebook\"></a>\n",
       "        <span id=\"a7d3d35a-3d19-4ca5-b273-4a3f3975b79f\">Loading BokehJS ...</span>\n",
       "    </div>"
      ]
     },
     "metadata": {},
     "output_type": "display_data"
    },
    {
     "data": {
      "application/javascript": [
       "\n",
       "(function(global) {\n",
       "  function now() {\n",
       "    return new Date();\n",
       "  }\n",
       "\n",
       "  var force = \"1\";\n",
       "\n",
       "  if (typeof (window._bokeh_onload_callbacks) === \"undefined\" || force !== \"\") {\n",
       "    window._bokeh_onload_callbacks = [];\n",
       "    window._bokeh_is_loading = undefined;\n",
       "  }\n",
       "\n",
       "\n",
       "  \n",
       "  if (typeof (window._bokeh_timeout) === \"undefined\" || force !== \"\") {\n",
       "    window._bokeh_timeout = Date.now() + 5000;\n",
       "    window._bokeh_failed_load = false;\n",
       "  }\n",
       "\n",
       "  var NB_LOAD_WARNING = {'data': {'text/html':\n",
       "     \"<div style='background-color: #fdd'>\\n\"+\n",
       "     \"<p>\\n\"+\n",
       "     \"BokehJS does not appear to have successfully loaded. If loading BokehJS from CDN, this \\n\"+\n",
       "     \"may be due to a slow or bad network connection. Possible fixes:\\n\"+\n",
       "     \"</p>\\n\"+\n",
       "     \"<ul>\\n\"+\n",
       "     \"<li>re-rerun `output_notebook()` to attempt to load from CDN again, or</li>\\n\"+\n",
       "     \"<li>use INLINE resources instead, as so:</li>\\n\"+\n",
       "     \"</ul>\\n\"+\n",
       "     \"<code>\\n\"+\n",
       "     \"from bokeh.resources import INLINE\\n\"+\n",
       "     \"output_notebook(resources=INLINE)\\n\"+\n",
       "     \"</code>\\n\"+\n",
       "     \"</div>\"}};\n",
       "\n",
       "  function display_loaded() {\n",
       "    if (window.Bokeh !== undefined) {\n",
       "      Bokeh.$(\"#a7d3d35a-3d19-4ca5-b273-4a3f3975b79f\").text(\"BokehJS successfully loaded.\");\n",
       "    } else if (Date.now() < window._bokeh_timeout) {\n",
       "      setTimeout(display_loaded, 100)\n",
       "    }\n",
       "  }\n",
       "\n",
       "  function run_callbacks() {\n",
       "    window._bokeh_onload_callbacks.forEach(function(callback) { callback() });\n",
       "    delete window._bokeh_onload_callbacks\n",
       "    console.info(\"Bokeh: all callbacks have finished\");\n",
       "  }\n",
       "\n",
       "  function load_libs(js_urls, callback) {\n",
       "    window._bokeh_onload_callbacks.push(callback);\n",
       "    if (window._bokeh_is_loading > 0) {\n",
       "      console.log(\"Bokeh: BokehJS is being loaded, scheduling callback at\", now());\n",
       "      return null;\n",
       "    }\n",
       "    if (js_urls == null || js_urls.length === 0) {\n",
       "      run_callbacks();\n",
       "      return null;\n",
       "    }\n",
       "    console.log(\"Bokeh: BokehJS not loaded, scheduling load and callback at\", now());\n",
       "    window._bokeh_is_loading = js_urls.length;\n",
       "    for (var i = 0; i < js_urls.length; i++) {\n",
       "      var url = js_urls[i];\n",
       "      var s = document.createElement('script');\n",
       "      s.src = url;\n",
       "      s.async = false;\n",
       "      s.onreadystatechange = s.onload = function() {\n",
       "        window._bokeh_is_loading--;\n",
       "        if (window._bokeh_is_loading === 0) {\n",
       "          console.log(\"Bokeh: all BokehJS libraries loaded\");\n",
       "          run_callbacks()\n",
       "        }\n",
       "      };\n",
       "      s.onerror = function() {\n",
       "        console.warn(\"failed to load library \" + url);\n",
       "      };\n",
       "      console.log(\"Bokeh: injecting script tag for BokehJS library: \", url);\n",
       "      document.getElementsByTagName(\"head\")[0].appendChild(s);\n",
       "    }\n",
       "  };var element = document.getElementById(\"a7d3d35a-3d19-4ca5-b273-4a3f3975b79f\");\n",
       "  if (element == null) {\n",
       "    console.log(\"Bokeh: ERROR: autoload.js configured with elementid 'a7d3d35a-3d19-4ca5-b273-4a3f3975b79f' but no matching script tag was found. \")\n",
       "    return false;\n",
       "  }\n",
       "\n",
       "  var js_urls = ['https://cdn.pydata.org/bokeh/release/bokeh-0.12.3.min.js', 'https://cdn.pydata.org/bokeh/release/bokeh-widgets-0.12.3.min.js'];\n",
       "\n",
       "  var inline_js = [\n",
       "    function(Bokeh) {\n",
       "      Bokeh.set_log_level(\"info\");\n",
       "    },\n",
       "    \n",
       "    function(Bokeh) {\n",
       "      \n",
       "      Bokeh.$(\"#a7d3d35a-3d19-4ca5-b273-4a3f3975b79f\").text(\"BokehJS is loading...\");\n",
       "    },\n",
       "    function(Bokeh) {\n",
       "      console.log(\"Bokeh: injecting CSS: https://cdn.pydata.org/bokeh/release/bokeh-0.12.3.min.css\");\n",
       "      Bokeh.embed.inject_css(\"https://cdn.pydata.org/bokeh/release/bokeh-0.12.3.min.css\");\n",
       "      console.log(\"Bokeh: injecting CSS: https://cdn.pydata.org/bokeh/release/bokeh-widgets-0.12.3.min.css\");\n",
       "      Bokeh.embed.inject_css(\"https://cdn.pydata.org/bokeh/release/bokeh-widgets-0.12.3.min.css\");\n",
       "    }\n",
       "  ];\n",
       "\n",
       "  function run_inline_js() {\n",
       "    \n",
       "    if ((window.Bokeh !== undefined) || (force === \"1\")) {\n",
       "      for (var i = 0; i < inline_js.length; i++) {\n",
       "        inline_js[i](window.Bokeh);\n",
       "      }if (force === \"1\") {\n",
       "        display_loaded();\n",
       "      }} else if (Date.now() < window._bokeh_timeout) {\n",
       "      setTimeout(run_inline_js, 100);\n",
       "    } else if (!window._bokeh_failed_load) {\n",
       "      console.log(\"Bokeh: BokehJS failed to load within specified timeout.\");\n",
       "      window._bokeh_failed_load = true;\n",
       "    } else if (!force) {\n",
       "      var cell = $(\"#a7d3d35a-3d19-4ca5-b273-4a3f3975b79f\").parents('.cell').data().cell;\n",
       "      cell.output_area.append_execute_result(NB_LOAD_WARNING)\n",
       "    }\n",
       "\n",
       "  }\n",
       "\n",
       "  if (window._bokeh_is_loading === 0) {\n",
       "    console.log(\"Bokeh: BokehJS loaded, going straight to plotting\");\n",
       "    run_inline_js();\n",
       "  } else {\n",
       "    load_libs(js_urls, function() {\n",
       "      console.log(\"Bokeh: BokehJS plotting callback run at\", now());\n",
       "      run_inline_js();\n",
       "    });\n",
       "  }\n",
       "}(this));"
      ]
     },
     "metadata": {},
     "output_type": "display_data"
    },
    {
     "data": {
      "text/html": [
       "\n",
       "\n",
       "    <div class=\"bk-root\">\n",
       "        <div class=\"plotdiv\" id=\"61b76fa9-8ce1-4e61-807d-8ee2c8350e26\"></div>\n",
       "    </div>\n",
       "<script type=\"text/javascript\">\n",
       "  \n",
       "  (function(global) {\n",
       "    function now() {\n",
       "      return new Date();\n",
       "    }\n",
       "  \n",
       "    var force = \"\";\n",
       "  \n",
       "    if (typeof (window._bokeh_onload_callbacks) === \"undefined\" || force !== \"\") {\n",
       "      window._bokeh_onload_callbacks = [];\n",
       "      window._bokeh_is_loading = undefined;\n",
       "    }\n",
       "  \n",
       "  \n",
       "    \n",
       "    if (typeof (window._bokeh_timeout) === \"undefined\" || force !== \"\") {\n",
       "      window._bokeh_timeout = Date.now() + 0;\n",
       "      window._bokeh_failed_load = false;\n",
       "    }\n",
       "  \n",
       "    var NB_LOAD_WARNING = {'data': {'text/html':\n",
       "       \"<div style='background-color: #fdd'>\\n\"+\n",
       "       \"<p>\\n\"+\n",
       "       \"BokehJS does not appear to have successfully loaded. If loading BokehJS from CDN, this \\n\"+\n",
       "       \"may be due to a slow or bad network connection. Possible fixes:\\n\"+\n",
       "       \"</p>\\n\"+\n",
       "       \"<ul>\\n\"+\n",
       "       \"<li>re-rerun `output_notebook()` to attempt to load from CDN again, or</li>\\n\"+\n",
       "       \"<li>use INLINE resources instead, as so:</li>\\n\"+\n",
       "       \"</ul>\\n\"+\n",
       "       \"<code>\\n\"+\n",
       "       \"from bokeh.resources import INLINE\\n\"+\n",
       "       \"output_notebook(resources=INLINE)\\n\"+\n",
       "       \"</code>\\n\"+\n",
       "       \"</div>\"}};\n",
       "  \n",
       "    function display_loaded() {\n",
       "      if (window.Bokeh !== undefined) {\n",
       "        Bokeh.$(\"#61b76fa9-8ce1-4e61-807d-8ee2c8350e26\").text(\"BokehJS successfully loaded.\");\n",
       "      } else if (Date.now() < window._bokeh_timeout) {\n",
       "        setTimeout(display_loaded, 100)\n",
       "      }\n",
       "    }\n",
       "  \n",
       "    function run_callbacks() {\n",
       "      window._bokeh_onload_callbacks.forEach(function(callback) { callback() });\n",
       "      delete window._bokeh_onload_callbacks\n",
       "      console.info(\"Bokeh: all callbacks have finished\");\n",
       "    }\n",
       "  \n",
       "    function load_libs(js_urls, callback) {\n",
       "      window._bokeh_onload_callbacks.push(callback);\n",
       "      if (window._bokeh_is_loading > 0) {\n",
       "        console.log(\"Bokeh: BokehJS is being loaded, scheduling callback at\", now());\n",
       "        return null;\n",
       "      }\n",
       "      if (js_urls == null || js_urls.length === 0) {\n",
       "        run_callbacks();\n",
       "        return null;\n",
       "      }\n",
       "      console.log(\"Bokeh: BokehJS not loaded, scheduling load and callback at\", now());\n",
       "      window._bokeh_is_loading = js_urls.length;\n",
       "      for (var i = 0; i < js_urls.length; i++) {\n",
       "        var url = js_urls[i];\n",
       "        var s = document.createElement('script');\n",
       "        s.src = url;\n",
       "        s.async = false;\n",
       "        s.onreadystatechange = s.onload = function() {\n",
       "          window._bokeh_is_loading--;\n",
       "          if (window._bokeh_is_loading === 0) {\n",
       "            console.log(\"Bokeh: all BokehJS libraries loaded\");\n",
       "            run_callbacks()\n",
       "          }\n",
       "        };\n",
       "        s.onerror = function() {\n",
       "          console.warn(\"failed to load library \" + url);\n",
       "        };\n",
       "        console.log(\"Bokeh: injecting script tag for BokehJS library: \", url);\n",
       "        document.getElementsByTagName(\"head\")[0].appendChild(s);\n",
       "      }\n",
       "    };var element = document.getElementById(\"61b76fa9-8ce1-4e61-807d-8ee2c8350e26\");\n",
       "    if (element == null) {\n",
       "      console.log(\"Bokeh: ERROR: autoload.js configured with elementid '61b76fa9-8ce1-4e61-807d-8ee2c8350e26' but no matching script tag was found. \")\n",
       "      return false;\n",
       "    }\n",
       "  \n",
       "    var js_urls = [];\n",
       "  \n",
       "    var inline_js = [\n",
       "      function(Bokeh) {\n",
       "        Bokeh.$(function() {\n",
       "            var docs_json = {\"e58a95fa-664f-40ec-bc3f-9a20ef72a0b0\":{\"roots\":{\"references\":[{\"attributes\":{\"plot\":{\"id\":\"704e4640-6ce5-4078-9d59-94a123d08a59\",\"subtype\":\"Chart\",\"type\":\"Plot\"}},\"id\":\"2deb6b2f-a641-4b4c-b979-c83829c39eb9\",\"type\":\"HelpTool\"},{\"attributes\":{\"label\":{\"value\":\"'/TMRW_Byte_Cafe.php\"},\"renderers\":[{\"id\":\"d989c262-4a31-4605-bebf-28b32e20dfaf\",\"type\":\"GlyphRenderer\"}]},\"id\":\"3d0c9995-c1fb-4c7b-9bdf-582a30fec870\",\"type\":\"LegendItem\"},{\"attributes\":{\"data_source\":{\"id\":\"325087ae-6718-4c17-9920-47b44ae716ab\",\"type\":\"ColumnDataSource\"},\"glyph\":{\"id\":\"46ac779c-56d7-4978-8a17-8310df64f6a7\",\"type\":\"Rect\"},\"hover_glyph\":null,\"nonselection_glyph\":null,\"selection_glyph\":null},\"id\":\"f3fcf0b7-559e-4ca6-98c3-58a62b92e65b\",\"type\":\"GlyphRenderer\"},{\"attributes\":{\"fill_alpha\":{\"field\":\"fill_alpha\"},\"fill_color\":{\"field\":\"color\"},\"height\":{\"field\":\"height\",\"units\":\"data\"},\"line_color\":{\"field\":\"line_color\"},\"width\":{\"field\":\"width\",\"units\":\"data\"},\"x\":{\"field\":\"x\"},\"y\":{\"field\":\"y\"}},\"id\":\"7602ff97-d4f6-4482-8659-910eb95fc70b\",\"type\":\"Rect\"},{\"attributes\":{\"fill_alpha\":{\"field\":\"fill_alpha\"},\"fill_color\":{\"field\":\"color\"},\"height\":{\"field\":\"height\",\"units\":\"data\"},\"line_color\":{\"field\":\"line_color\"},\"width\":{\"field\":\"width\",\"units\":\"data\"},\"x\":{\"field\":\"x\"},\"y\":{\"field\":\"y\"}},\"id\":\"0ce8caec-7ef5-42f9-b67f-39e7cb5cff39\",\"type\":\"Rect\"},{\"attributes\":{\"items\":[{\"id\":\"e4bb7365-d853-4bed-9915-34aeb8ed0d0e\",\"type\":\"LegendItem\"},{\"id\":\"4e8aa00f-b489-4ea3-8dc8-9c786bbd316b\",\"type\":\"LegendItem\"},{\"id\":\"3d0c9995-c1fb-4c7b-9bdf-582a30fec870\",\"type\":\"LegendItem\"},{\"id\":\"5c27e36a-6364-49ca-940e-1f74cc1c9fc5\",\"type\":\"LegendItem\"}],\"location\":\"top_left\",\"plot\":{\"id\":\"704e4640-6ce5-4078-9d59-94a123d08a59\",\"subtype\":\"Chart\",\"type\":\"Plot\"}},\"id\":\"a554fb23-7c60-4db4-807c-9f3ba9b811cc\",\"type\":\"Legend\"},{\"attributes\":{\"plot\":null,\"text\":\"Events per page\"},\"id\":\"694a769c-b961-46e7-9887-78b4348eeec8\",\"type\":\"Title\"},{\"attributes\":{},\"id\":\"8c4d97e2-32d3-4c76-8357-afc4a2864acf\",\"type\":\"BasicTickFormatter\"},{\"attributes\":{},\"id\":\"781a8802-e26e-44de-bbb2-6d51e94f0620\",\"type\":\"CategoricalTickFormatter\"},{\"attributes\":{\"plot\":{\"id\":\"704e4640-6ce5-4078-9d59-94a123d08a59\",\"subtype\":\"Chart\",\"type\":\"Plot\"}},\"id\":\"59ff5f5c-ac2b-4fd1-8b68-ba22c5380e78\",\"type\":\"PanTool\"},{\"attributes\":{\"fill_alpha\":{\"field\":\"fill_alpha\"},\"fill_color\":{\"field\":\"color\"},\"height\":{\"field\":\"height\",\"units\":\"data\"},\"line_color\":{\"field\":\"line_color\"},\"width\":{\"field\":\"width\",\"units\":\"data\"},\"x\":{\"field\":\"x\"},\"y\":{\"field\":\"y\"}},\"id\":\"46ac779c-56d7-4978-8a17-8310df64f6a7\",\"type\":\"Rect\"},{\"attributes\":{\"below\":[{\"id\":\"2c5ef4b8-d04e-45d3-acbb-4c82b391aabb\",\"type\":\"CategoricalAxis\"}],\"left\":[{\"id\":\"7b86efb2-e9e0-448d-b2b8-4ab22fe47ed0\",\"type\":\"LinearAxis\"}],\"renderers\":[{\"id\":\"5e378db2-8903-4c9a-ba89-a5ae49dd2d40\",\"type\":\"BoxAnnotation\"},{\"id\":\"aadc5362-8fa0-41c3-b8e7-83de20fab571\",\"type\":\"GlyphRenderer\"},{\"id\":\"f3fcf0b7-559e-4ca6-98c3-58a62b92e65b\",\"type\":\"GlyphRenderer\"},{\"id\":\"d989c262-4a31-4605-bebf-28b32e20dfaf\",\"type\":\"GlyphRenderer\"},{\"id\":\"0e2f2252-ebb9-4925-bb1d-d224abbb3ce6\",\"type\":\"GlyphRenderer\"},{\"id\":\"a554fb23-7c60-4db4-807c-9f3ba9b811cc\",\"type\":\"Legend\"},{\"id\":\"2c5ef4b8-d04e-45d3-acbb-4c82b391aabb\",\"type\":\"CategoricalAxis\"},{\"id\":\"7b86efb2-e9e0-448d-b2b8-4ab22fe47ed0\",\"type\":\"LinearAxis\"},{\"id\":\"5c3d0b2c-d75a-4cac-b527-3b5cfa0a1770\",\"type\":\"Grid\"}],\"title\":{\"id\":\"694a769c-b961-46e7-9887-78b4348eeec8\",\"type\":\"Title\"},\"tool_events\":{\"id\":\"e881a549-9676-4a93-b885-1abf56f147cc\",\"type\":\"ToolEvents\"},\"toolbar\":{\"id\":\"a8c626a6-9d1f-441d-9fc3-b1c6a8828e9b\",\"type\":\"Toolbar\"},\"x_mapper_type\":\"auto\",\"x_range\":{\"id\":\"aa3193bb-83b1-458c-b336-8246d4c4b1ee\",\"type\":\"FactorRange\"},\"y_mapper_type\":\"auto\",\"y_range\":{\"id\":\"13a096bc-6c67-4db3-8f91-66024de6c67f\",\"type\":\"Range1d\"}},\"id\":\"704e4640-6ce5-4078-9d59-94a123d08a59\",\"subtype\":\"Chart\",\"type\":\"Plot\"},{\"attributes\":{\"dimension\":1,\"plot\":{\"id\":\"704e4640-6ce5-4078-9d59-94a123d08a59\",\"subtype\":\"Chart\",\"type\":\"Plot\"},\"ticker\":{\"id\":\"b3109cc6-cdb6-4837-b544-bfa00a3050ad\",\"type\":\"BasicTicker\"}},\"id\":\"5c3d0b2c-d75a-4cac-b527-3b5cfa0a1770\",\"type\":\"Grid\"},{\"attributes\":{\"callback\":null,\"column_names\":[\"x\",\"y\",\"width\",\"height\",\"color\",\"fill_alpha\",\"line_color\",\"line_alpha\",\"label\"],\"data\":{\"chart_index\":[{\"page\":\"'/TMRW_Byte_Cafe.php\"}],\"color\":[\"#f22c40\"],\"fill_alpha\":[0.8],\"height\":[0.105504587],\"label\":[{\"page\":\"'/TMRW_Byte_Cafe.php\"}],\"line_alpha\":[1.0],\"line_color\":[\"white\"],\"page\":[\"'/TMRW_Byte_Cafe.php\"],\"width\":[0.8],\"x\":[\"'/TMRW_Byte_Cafe.php\"],\"y\":[0.0527522935]}},\"id\":\"420ede7a-1429-4acc-845c-6bd6011849e6\",\"type\":\"ColumnDataSource\"},{\"attributes\":{\"label\":{\"value\":\"'/\"},\"renderers\":[{\"id\":\"aadc5362-8fa0-41c3-b8e7-83de20fab571\",\"type\":\"GlyphRenderer\"}]},\"id\":\"e4bb7365-d853-4bed-9915-34aeb8ed0d0e\",\"type\":\"LegendItem\"},{\"attributes\":{\"label\":{\"value\":\"'/TMRW_the_team.php\"},\"renderers\":[{\"id\":\"0e2f2252-ebb9-4925-bb1d-d224abbb3ce6\",\"type\":\"GlyphRenderer\"}]},\"id\":\"5c27e36a-6364-49ca-940e-1f74cc1c9fc5\",\"type\":\"LegendItem\"},{\"attributes\":{\"bottom_units\":\"screen\",\"fill_alpha\":{\"value\":0.5},\"fill_color\":{\"value\":\"lightgrey\"},\"left_units\":\"screen\",\"level\":\"overlay\",\"line_alpha\":{\"value\":1.0},\"line_color\":{\"value\":\"black\"},\"line_dash\":[4,4],\"line_width\":{\"value\":2},\"plot\":null,\"render_mode\":\"css\",\"right_units\":\"screen\",\"top_units\":\"screen\"},\"id\":\"5e378db2-8903-4c9a-ba89-a5ae49dd2d40\",\"type\":\"BoxAnnotation\"},{\"attributes\":{\"plot\":{\"id\":\"704e4640-6ce5-4078-9d59-94a123d08a59\",\"subtype\":\"Chart\",\"type\":\"Plot\"}},\"id\":\"bce6443d-b562-490d-b7ff-baeca63e0edb\",\"type\":\"SaveTool\"},{\"attributes\":{\"data_source\":{\"id\":\"420ede7a-1429-4acc-845c-6bd6011849e6\",\"type\":\"ColumnDataSource\"},\"glyph\":{\"id\":\"0ce8caec-7ef5-42f9-b67f-39e7cb5cff39\",\"type\":\"Rect\"},\"hover_glyph\":null,\"nonselection_glyph\":null,\"selection_glyph\":null},\"id\":\"d989c262-4a31-4605-bebf-28b32e20dfaf\",\"type\":\"GlyphRenderer\"},{\"attributes\":{},\"id\":\"b3109cc6-cdb6-4837-b544-bfa00a3050ad\",\"type\":\"BasicTicker\"},{\"attributes\":{\"axis_label\":\"Sum( Rate )\",\"formatter\":{\"id\":\"8c4d97e2-32d3-4c76-8357-afc4a2864acf\",\"type\":\"BasicTickFormatter\"},\"plot\":{\"id\":\"704e4640-6ce5-4078-9d59-94a123d08a59\",\"subtype\":\"Chart\",\"type\":\"Plot\"},\"ticker\":{\"id\":\"b3109cc6-cdb6-4837-b544-bfa00a3050ad\",\"type\":\"BasicTicker\"}},\"id\":\"7b86efb2-e9e0-448d-b2b8-4ab22fe47ed0\",\"type\":\"LinearAxis\"},{\"attributes\":{\"label\":{\"value\":\"'/TMRW_FAQs.php\"},\"renderers\":[{\"id\":\"f3fcf0b7-559e-4ca6-98c3-58a62b92e65b\",\"type\":\"GlyphRenderer\"}]},\"id\":\"4e8aa00f-b489-4ea3-8dc8-9c786bbd316b\",\"type\":\"LegendItem\"},{\"attributes\":{\"plot\":{\"id\":\"704e4640-6ce5-4078-9d59-94a123d08a59\",\"subtype\":\"Chart\",\"type\":\"Plot\"}},\"id\":\"f3bdaca8-35c8-4bd7-ad54-dc9ad31d4e65\",\"type\":\"WheelZoomTool\"},{\"attributes\":{},\"id\":\"dbe22b89-8714-4621-8f3e-eb9c726c7035\",\"type\":\"CategoricalTicker\"},{\"attributes\":{\"plot\":{\"id\":\"704e4640-6ce5-4078-9d59-94a123d08a59\",\"subtype\":\"Chart\",\"type\":\"Plot\"}},\"id\":\"a863a791-5f63-4fac-88d9-6ae1100cb26a\",\"type\":\"ResetTool\"},{\"attributes\":{\"callback\":null,\"factors\":[\"'/\",\"'/TMRW_Byte_Cafe.php\",\"'/TMRW_FAQs.php\",\"'/TMRW_the_team.php\"]},\"id\":\"aa3193bb-83b1-458c-b336-8246d4c4b1ee\",\"type\":\"FactorRange\"},{\"attributes\":{\"callback\":null,\"end\":0.273},\"id\":\"13a096bc-6c67-4db3-8f91-66024de6c67f\",\"type\":\"Range1d\"},{\"attributes\":{\"callback\":null,\"column_names\":[\"x\",\"y\",\"width\",\"height\",\"color\",\"fill_alpha\",\"line_color\",\"line_alpha\",\"label\"],\"data\":{\"chart_index\":[{\"page\":\"'/TMRW_the_team.php\"}],\"color\":[\"#f22c40\"],\"fill_alpha\":[0.8],\"height\":[0.10101010099999999],\"label\":[{\"page\":\"'/TMRW_the_team.php\"}],\"line_alpha\":[1.0],\"line_color\":[\"white\"],\"page\":[\"'/TMRW_the_team.php\"],\"width\":[0.8],\"x\":[\"'/TMRW_the_team.php\"],\"y\":[0.050505050499999996]}},\"id\":\"fd9cdbc2-4728-4f58-b306-b5ddb471a488\",\"type\":\"ColumnDataSource\"},{\"attributes\":{\"active_drag\":\"auto\",\"active_scroll\":\"auto\",\"active_tap\":\"auto\",\"tools\":[{\"id\":\"59ff5f5c-ac2b-4fd1-8b68-ba22c5380e78\",\"type\":\"PanTool\"},{\"id\":\"f3bdaca8-35c8-4bd7-ad54-dc9ad31d4e65\",\"type\":\"WheelZoomTool\"},{\"id\":\"e07b358e-a9a2-4a02-99d0-2ffe7183145b\",\"type\":\"BoxZoomTool\"},{\"id\":\"bce6443d-b562-490d-b7ff-baeca63e0edb\",\"type\":\"SaveTool\"},{\"id\":\"a863a791-5f63-4fac-88d9-6ae1100cb26a\",\"type\":\"ResetTool\"},{\"id\":\"2deb6b2f-a641-4b4c-b979-c83829c39eb9\",\"type\":\"HelpTool\"}]},\"id\":\"a8c626a6-9d1f-441d-9fc3-b1c6a8828e9b\",\"type\":\"Toolbar\"},{\"attributes\":{\"callback\":null,\"column_names\":[\"x\",\"y\",\"width\",\"height\",\"color\",\"fill_alpha\",\"line_color\",\"line_alpha\",\"label\"],\"data\":{\"chart_index\":[{\"page\":\"'/TMRW_FAQs.php\"}],\"color\":[\"#f22c40\"],\"fill_alpha\":[0.8],\"height\":[0.26],\"label\":[{\"page\":\"'/TMRW_FAQs.php\"}],\"line_alpha\":[1.0],\"line_color\":[\"white\"],\"page\":[\"'/TMRW_FAQs.php\"],\"width\":[0.8],\"x\":[\"'/TMRW_FAQs.php\"],\"y\":[0.13]}},\"id\":\"325087ae-6718-4c17-9920-47b44ae716ab\",\"type\":\"ColumnDataSource\"},{\"attributes\":{\"axis_label\":\"Page\",\"formatter\":{\"id\":\"781a8802-e26e-44de-bbb2-6d51e94f0620\",\"type\":\"CategoricalTickFormatter\"},\"major_label_orientation\":0.7853981633974483,\"plot\":{\"id\":\"704e4640-6ce5-4078-9d59-94a123d08a59\",\"subtype\":\"Chart\",\"type\":\"Plot\"},\"ticker\":{\"id\":\"dbe22b89-8714-4621-8f3e-eb9c726c7035\",\"type\":\"CategoricalTicker\"}},\"id\":\"2c5ef4b8-d04e-45d3-acbb-4c82b391aabb\",\"type\":\"CategoricalAxis\"},{\"attributes\":{\"data_source\":{\"id\":\"fd9cdbc2-4728-4f58-b306-b5ddb471a488\",\"type\":\"ColumnDataSource\"},\"glyph\":{\"id\":\"314a3ce5-c963-428b-9bea-4f692381b47b\",\"type\":\"Rect\"},\"hover_glyph\":null,\"nonselection_glyph\":null,\"selection_glyph\":null},\"id\":\"0e2f2252-ebb9-4925-bb1d-d224abbb3ce6\",\"type\":\"GlyphRenderer\"},{\"attributes\":{\"fill_alpha\":{\"field\":\"fill_alpha\"},\"fill_color\":{\"field\":\"color\"},\"height\":{\"field\":\"height\",\"units\":\"data\"},\"line_color\":{\"field\":\"line_color\"},\"width\":{\"field\":\"width\",\"units\":\"data\"},\"x\":{\"field\":\"x\"},\"y\":{\"field\":\"y\"}},\"id\":\"314a3ce5-c963-428b-9bea-4f692381b47b\",\"type\":\"Rect\"},{\"attributes\":{\"data_source\":{\"id\":\"c7d4edde-a350-4ab7-aaa7-c9b057befd06\",\"type\":\"ColumnDataSource\"},\"glyph\":{\"id\":\"7602ff97-d4f6-4482-8659-910eb95fc70b\",\"type\":\"Rect\"},\"hover_glyph\":null,\"nonselection_glyph\":null,\"selection_glyph\":null},\"id\":\"aadc5362-8fa0-41c3-b8e7-83de20fab571\",\"type\":\"GlyphRenderer\"},{\"attributes\":{},\"id\":\"e881a549-9676-4a93-b885-1abf56f147cc\",\"type\":\"ToolEvents\"},{\"attributes\":{\"overlay\":{\"id\":\"5e378db2-8903-4c9a-ba89-a5ae49dd2d40\",\"type\":\"BoxAnnotation\"},\"plot\":{\"id\":\"704e4640-6ce5-4078-9d59-94a123d08a59\",\"subtype\":\"Chart\",\"type\":\"Plot\"}},\"id\":\"e07b358e-a9a2-4a02-99d0-2ffe7183145b\",\"type\":\"BoxZoomTool\"},{\"attributes\":{\"callback\":null,\"column_names\":[\"x\",\"y\",\"width\",\"height\",\"color\",\"fill_alpha\",\"line_color\",\"line_alpha\",\"label\"],\"data\":{\"chart_index\":[{\"page\":\"'/\"}],\"color\":[\"#f22c40\"],\"fill_alpha\":[0.8],\"height\":[0.018485122],\"label\":[{\"page\":\"'/\"}],\"line_alpha\":[1.0],\"line_color\":[\"white\"],\"page\":[\"'/\"],\"width\":[0.8],\"x\":[\"'/\"],\"y\":[0.009242561]}},\"id\":\"c7d4edde-a350-4ab7-aaa7-c9b057befd06\",\"type\":\"ColumnDataSource\"}],\"root_ids\":[\"704e4640-6ce5-4078-9d59-94a123d08a59\"]},\"title\":\"Bokeh Application\",\"version\":\"0.12.3\"}};\n",
       "            var render_items = [{\"docid\":\"e58a95fa-664f-40ec-bc3f-9a20ef72a0b0\",\"elementid\":\"61b76fa9-8ce1-4e61-807d-8ee2c8350e26\",\"modelid\":\"704e4640-6ce5-4078-9d59-94a123d08a59\"}];\n",
       "            \n",
       "            Bokeh.embed.embed_items(docs_json, render_items);\n",
       "        });\n",
       "      },\n",
       "      function(Bokeh) {\n",
       "      }\n",
       "    ];\n",
       "  \n",
       "    function run_inline_js() {\n",
       "      \n",
       "      if ((window.Bokeh !== undefined) || (force === \"1\")) {\n",
       "        for (var i = 0; i < inline_js.length; i++) {\n",
       "          inline_js[i](window.Bokeh);\n",
       "        }if (force === \"1\") {\n",
       "          display_loaded();\n",
       "        }} else if (Date.now() < window._bokeh_timeout) {\n",
       "        setTimeout(run_inline_js, 100);\n",
       "      } else if (!window._bokeh_failed_load) {\n",
       "        console.log(\"Bokeh: BokehJS failed to load within specified timeout.\");\n",
       "        window._bokeh_failed_load = true;\n",
       "      } else if (!force) {\n",
       "        var cell = $(\"#61b76fa9-8ce1-4e61-807d-8ee2c8350e26\").parents('.cell').data().cell;\n",
       "        cell.output_area.append_execute_result(NB_LOAD_WARNING)\n",
       "      }\n",
       "  \n",
       "    }\n",
       "  \n",
       "    if (window._bokeh_is_loading === 0) {\n",
       "      console.log(\"Bokeh: BokehJS loaded, going straight to plotting\");\n",
       "      run_inline_js();\n",
       "    } else {\n",
       "      load_libs(js_urls, function() {\n",
       "        console.log(\"Bokeh: BokehJS plotting callback run at\", now());\n",
       "        run_inline_js();\n",
       "      });\n",
       "    }\n",
       "  }(this));\n",
       "</script>"
      ]
     },
     "metadata": {},
     "output_type": "display_data"
    }
   ],
   "source": [
    "#import numpy as np\n",
    "from bokeh.io import output_notebook\n",
    "from bokeh.charts import Bar, show\n",
    "\n",
    "output_notebook()\n",
    "p = Bar(TMRW_events_filter, 'page', values='rate', title=\"Events per page\")\n",
    "show(p)"
   ]
  },
  {
   "cell_type": "code",
   "execution_count": 65,
   "metadata": {
    "collapsed": false
   },
   "outputs": [
    {
     "data": {
      "text/html": [
       "<div>\n",
       "<table border=\"1\" class=\"dataframe\">\n",
       "  <thead>\n",
       "    <tr style=\"text-align: right;\">\n",
       "      <th></th>\n",
       "      <th>rate</th>\n",
       "    </tr>\n",
       "    <tr>\n",
       "      <th>page</th>\n",
       "      <th></th>\n",
       "    </tr>\n",
       "  </thead>\n",
       "  <tbody>\n",
       "    <tr>\n",
       "      <th>'/</th>\n",
       "      <td>0.0185</td>\n",
       "    </tr>\n",
       "    <tr>\n",
       "      <th>'/TMRW_Byte_Cafe.php</th>\n",
       "      <td>0.1055</td>\n",
       "    </tr>\n",
       "    <tr>\n",
       "      <th>'/TMRW_FAQs.php</th>\n",
       "      <td>0.2600</td>\n",
       "    </tr>\n",
       "    <tr>\n",
       "      <th>'/TMRW_the_team.php</th>\n",
       "      <td>0.1010</td>\n",
       "    </tr>\n",
       "  </tbody>\n",
       "</table>\n",
       "</div>"
      ],
      "text/plain": [
       "                        rate\n",
       "page                        \n",
       "'/                    0.0185\n",
       "'/TMRW_Byte_Cafe.php  0.1055\n",
       "'/TMRW_FAQs.php       0.2600\n",
       "'/TMRW_the_team.php   0.1010"
      ]
     },
     "execution_count": 65,
     "metadata": {},
     "output_type": "execute_result"
    }
   ],
   "source": [
    "TMRW_events_data = TMRW_events_filter.groupby(['page']).mean()\n",
    "TMRW_events_data"
   ]
  },
  {
   "cell_type": "code",
   "execution_count": 67,
   "metadata": {
    "collapsed": false
   },
   "outputs": [
    {
     "data": {
      "text/plain": [
       "page\n",
       "'/                      0.0185\n",
       "'/TMRW_Byte_Cafe.php    0.1055\n",
       "'/TMRW_FAQs.php         0.2600\n",
       "'/TMRW_the_team.php     0.1010\n",
       "Name: rate, dtype: float64"
      ]
     },
     "execution_count": 67,
     "metadata": {},
     "output_type": "execute_result"
    }
   ],
   "source": [
    "selected=TMRW_events_data.loc[:,\"rate\"]\n",
    "selected"
   ]
  },
  {
   "cell_type": "code",
   "execution_count": 68,
   "metadata": {
    "collapsed": false
   },
   "outputs": [
    {
     "data": {
      "image/png": "[encoded data removed]",
      "text/plain": [
       "<matplotlib.figure.Figure at 0xe588510>"
      ]
     },
     "metadata": {},
     "output_type": "display_data"
    }
   ],
   "source": [
    "labels = selected.index\n",
    "sizes = TMRW_events_filter['rate']\n",
    "colors = ['green','yellow', 'red', 'lightskyblue']\n",
    "explode = (0, 0, 0,0)\n",
    "plt.pie(sizes, explode=explode, labels=labels, colors=colors,\n",
    "        autopct='%1.1f%%', shadow=False, startangle=90)\n",
    "plt.legend(patches, labels, loc=\"best\")\n",
    "plt.axis('equal')\n",
    "plt.title('Conversions by pages                                    ')\n",
    "plt.tight_layout()\n",
    "plt.show()"
   ]
  },
  {
   "cell_type": "code",
   "execution_count": null,
   "metadata": {
    "collapsed": true
   },
   "outputs": [],
   "source": []
  },
  {
   "cell_type": "code",
   "execution_count": null,
   "metadata": {
    "collapsed": true
   },
   "outputs": [],
   "source": []
  }
 ],
 "metadata": {
  "anaconda-cloud": {},
  "kernelspec": {
   "display_name": "Python 3",
   "language": "python",
   "name": "python3"
  },
  "language_info": {
   "codemirror_mode": {
    "name": "ipython",
    "version": 3
   },
   "file_extension": ".py",
   "mimetype": "text/x-python",
   "name": "python",
   "nbconvert_exporter": "python",
   "pygments_lexer": "ipython3",
   "version": "3.6.0"
  }
 },
 "nbformat": 4,
 "nbformat_minor": 1
}
