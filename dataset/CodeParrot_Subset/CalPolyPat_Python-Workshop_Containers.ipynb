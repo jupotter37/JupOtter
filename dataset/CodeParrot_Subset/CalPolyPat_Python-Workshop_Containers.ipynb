{
 "cells": [
  {
   "cell_type": "markdown",
   "metadata": {},
   "source": [
    "##Containers\n",
    "Containers are set of objects including **lists**, **sets**, **tuples**, and **dictionaries**. They hold other variables in various different ways following different rules. These are arguably the most used, and most useful, objects you will encounter in today's course."
   ]
  },
  {
   "cell_type": "markdown",
   "metadata": {},
   "source": [
    "##Lists\n",
    "Lists are objects that hold variables in a particular order that you choose. They can hold any variable you wish, in fact, one list can hold more than one type of variable. Recall that our \"basic\" types are int, float, str, and bool. Let's see some examples of lists.\n"
   ]
  },
  {
   "cell_type": "code",
   "execution_count": 4,
   "metadata": {
    "collapsed": false
   },
   "outputs": [
    {
     "name": "stdout",
     "output_type": "stream",
     "text": [
      "[1, 2, 3, 4]\n",
      "['a', 'b', 'c', 'd']\n",
      "[True, False, True]\n",
      "[1, 2, 'c', 'd']\n",
      "[False, 2, 4, True]\n"
     ]
    }
   ],
   "source": [
    "list1=[1,2,3,4]\n",
    "print(list1)\n",
    "list2=[\"a\",\"b\",\"c\",\"d\"]\n",
    "print(list2)\n",
    "list3=[True, False, True]\n",
    "print(list3)\n",
    "list3=[1,2,\"c\",\"d\"]\n",
    "print(list3)\n",
    "list4=[2>3, 2, 4, 3>2]\n",
    "print(list4)"
   ]
  },
  {
   "cell_type": "markdown",
   "metadata": {},
   "source": [
    "Let's notice a few key things:\n",
    "1. To make a list we use []\n",
    "2. We separate individual elements with commas\n",
    "3. The **elements** of a list can be any type\n",
    "4. The **elements** need not be explicitly written"
   ]
  },
  {
   "cell_type": "markdown",
   "metadata": {},
   "source": [
    "##Other Properties of Lists\n",
    "1. You can add two lists to create a new list.\n",
    "2. You can **append** an element to the end of a list by using the append function.\n",
    "3. You can **append** a list to the end of another list by using the += operator.\n",
    "4. You can access a single element with something called **slicing**"
   ]
  },
  {
   "cell_type": "code",
   "execution_count": 9,
   "metadata": {
    "collapsed": false
   },
   "outputs": [
    {
     "name": "stdout",
     "output_type": "stream",
     "text": [
      "[1, 2, 3, '1', '2', '3']\n",
      "[1, 2, 3, 4]\n",
      "['1', '2', '3', 1, 2, 3, 4]\n"
     ]
    }
   ],
   "source": [
    "la=[1,2,3]\n",
    "lb=[\"1\",\"2\",\"3\"]\n",
    "print(la+lb)\n",
    "la.append(4)\n",
    "print(la)\n",
    "lb+=la\n",
    "print(lb)"
   ]
  },
  {
   "cell_type": "markdown",
   "metadata": {},
   "source": [
    "##Slicing\n",
    "At one point, you will want to access certain elements of a list, this is done by slicing. There are a couple of ways to do this.\n",
    "1. la[0] will give the first element of the list la. Note that lists are **indexed** starting at zero, not one.\n",
    "2. la[n] will give the (n+1)th element of the list la.\n",
    "3. la[-1] will give the last element of the list la.\n",
    "4. la[-n] will give the nth to last element of the list la.\n",
    "5. la[p:q:k] will give you every kth element starting at p and ending at q of the list la. Ex/la[1:7:2] will give you every second element starting at 1 and ending at 7.\n",
    "5b. If p is omitted, it is assumed to be 0. If k is omitted, it is assumed to be 1, if q is omitted, it is assumed to be the last **index** or -1, which is really the same thing as we see above."
   ]
  },
  {
   "cell_type": "code",
   "execution_count": 11,
   "metadata": {
    "collapsed": false
   },
   "outputs": [
    {
     "name": "stdout",
     "output_type": "stream",
     "text": [
      "1\n",
      "4\n",
      "10\n",
      "8\n",
      "[1, 3, 5, 7, 9]\n",
      "[4, 6, 8, 10]\n",
      "[3, 4]\n",
      "[3, 4]\n"
     ]
    }
   ],
   "source": [
    "la=[1,2,3,4,5,6,7,8,9,10]\n",
    "print(la[0])\n",
    "print(la[3])\n",
    "print(la[-1])\n",
    "print(la[-3])\n",
    "print(la[0:10:2])\n",
    "print(la[3::2])\n",
    "print(la[2:4:])\n",
    "print(la[2:4])"
   ]
  },
  {
   "cell_type": "markdown",
   "metadata": {},
   "source": [
    "##Exercises\n",
    "\n",
    "1. Make 2 lists and add them together.\n",
    "\n",
    "2. Take your list from 1., append the list [\"I\", \"Love\", \"Python\"] to it without using the append command, then print every second element.\n",
    "\n",
    "3. Can you make a list of lists? Try it.\n",
    "    \n",
    "    Consider the list x=[3,5,7,8,\"Pi\"].\n",
    "    \n",
    "4a. Type out what you would expect python to print along with the type of object printed would be for the following slices:\n",
    "    \n",
    "    x[2]\n",
    "    \n",
    "    x[0]\n",
    "    \n",
    "    x[-2]\n",
    "    \n",
    "    x[1::2]\n",
    "    \n",
    "    x[1::]\n",
    "    \n",
    "    x[::-4]\n",
    "\n",
    "4b. Check your answer by creating that list and printing out the corresponding slices."
   ]
  },
  {
   "cell_type": "markdown",
   "metadata": {},
   "source": [
    "##Sets\n",
    "Sets are a special type of list that adhere to certain rules. If you have taken any higher level or proof-based math classes, you will recognize that sets in Python are exactly the same as those in mathematics. Instead of using [], {} are used to create a set. Sets have the following properties:\n",
    "\n",
    "1. Sets will not contain duplicates. If you make a set with duplicates, it will only retain one of them.\n",
    "2. Sets are not ordered. This means no slicing.\n",
    "3. Sets have the familiar set operations from math. These are outlined below.\n",
    "4. You can convert a list to a set in the following manner: Let t be a list, then set(t) is now a set containing the elements of t."
   ]
  },
  {
   "cell_type": "markdown",
   "metadata": {},
   "source": [
    "###Set Operations\n",
    "\n",
    "Consider sets s={1,2,3} and t={1,2,3,4,5};\n",
    "\n",
    "| Operation | Meaning | Example |\n",
    "|:----------:|:-------:|:-------:|\n",
    "| s&#124;t | Union | {1,2,3,4,5} |\n",
    "| s&t | Intersection | {1,2,3} |\n",
    "| s-t | Difference | {} |\n",
    "| s^t | Symmetric Difference | {4,5} |\n",
    "| s<t | Strict Subset | True |\n",
    "| s<=t | Subset | True |\n",
    "| s>t | Strict Superset | False |\n",
    "| s>= | Superset | False |\n"
   ]
  },
  {
   "cell_type": "code",
   "execution_count": 17,
   "metadata": {
    "collapsed": false
   },
   "outputs": [
    {
     "name": "stdout",
     "output_type": "stream",
     "text": [
      "{1, 2, 3, 4, 5}\n",
      "{2, 3}\n",
      "{8, 7}\n",
      "{2, 3, 7, 8}\n",
      "{8, 2, 3, 7}\n",
      "True\n"
     ]
    }
   ],
   "source": [
    "t = {1,2,3,3,3,3,3,3,3,3,3,3,3,3,3,4,5}\n",
    "print(t)\n",
    "s = {1,4,5,7,8}\n",
    "print(t-s)\n",
    "print(s-t)\n",
    "print(t^s)\n",
    "print(t-s|s-t)\n",
    "print(t^s==t-s|s-t)"
   ]
  },
  {
   "cell_type": "markdown",
   "metadata": {},
   "source": [
    "##Exercises\n",
    "1. Write a set containing the letters of the word \"dog\".\n",
    "2. Find the difference between the set in 1. and the set {\"d\", 5, \"g\"}\n",
    "3. Remove all the duplicates in the list [1,2,4,3,3,3,5,2,3,4,5,6,3,5,7] and print the resulting object in two lines."
   ]
  },
  {
   "cell_type": "markdown",
   "metadata": {
    "collapsed": true
   },
   "source": [
    "##Tuples\n",
    "Tuples are just like lists except that you cannot append elements to a tuple. You may, however, combine two tuples. To create a tuple, one uses ()."
   ]
  },
  {
   "cell_type": "code",
   "execution_count": 18,
   "metadata": {
    "collapsed": false
   },
   "outputs": [
    {
     "name": "stdout",
     "output_type": "stream",
     "text": [
      "(1, 2, 3, 4, 5)\n",
      "('a', 'b', 'c')\n",
      "(1, 2, 3, 4, 5, 'a', 'b', 'c')\n"
     ]
    }
   ],
   "source": [
    "a = (1,2,3,4,5)\n",
    "b = ('a', 'b', 'c')\n",
    "print(a)\n",
    "print(b)\n",
    "print(a+b)"
   ]
  },
  {
   "cell_type": "markdown",
   "metadata": {},
   "source": [
    "##Dictionaries\n",
    "Dictionaries are quite different from any container we have seen so far. A dictionary is a bunch of unordered key/value pairs. That is, each element of a dictionary has a key and a value and the elements are in no particular order. It is good to keep this unorderedness in mind later on, for now, let's look at some examples. To create a dictionary we use the following syntax, { key:value}."
   ]
  },
  {
   "cell_type": "code",
   "execution_count": 57,
   "metadata": {
    "collapsed": false
   },
   "outputs": [
    {
     "name": "stdout",
     "output_type": "stream",
     "text": [
      "{'Sally': 89, 'Jeff': 45, 'Lucy': 75, 'Jose': 96}\n",
      "{'Jake': 75, 'John': 23, 'Devin': 64}\n"
     ]
    },
    {
     "ename": "TypeError",
     "evalue": "unsupported operand type(s) for +: 'dict' and 'dict'",
     "output_type": "error",
     "traceback": [
      "\u001b[1;31m---------------------------------------------------------------------------\u001b[0m",
      "\u001b[1;31mTypeError\u001b[0m                                 Traceback (most recent call last)",
      "\u001b[1;32m<ipython-input-57-07c4638eecae>\u001b[0m in \u001b[0;36m<module>\u001b[1;34m()\u001b[0m\n\u001b[0;32m      5\u001b[0m \u001b[0mscores2\u001b[0m \u001b[1;33m=\u001b[0m \u001b[1;33m{\u001b[0m\u001b[1;34m'Devin'\u001b[0m\u001b[1;33m:\u001b[0m\u001b[1;36m64\u001b[0m\u001b[1;33m,\u001b[0m \u001b[1;34m'John'\u001b[0m\u001b[1;33m:\u001b[0m\u001b[1;36m23\u001b[0m\u001b[1;33m,\u001b[0m \u001b[1;34m'Jake'\u001b[0m\u001b[1;33m:\u001b[0m\u001b[1;36m75\u001b[0m\u001b[1;33m}\u001b[0m\u001b[1;33m\u001b[0m\u001b[0m\n\u001b[0;32m      6\u001b[0m \u001b[0mprint\u001b[0m\u001b[1;33m(\u001b[0m\u001b[0mscores2\u001b[0m\u001b[1;33m)\u001b[0m\u001b[1;33m\u001b[0m\u001b[0m\n\u001b[1;32m----> 7\u001b[1;33m \u001b[0mprint\u001b[0m\u001b[1;33m(\u001b[0m\u001b[0mscores\u001b[0m\u001b[1;33m+\u001b[0m\u001b[0mscores2\u001b[0m\u001b[1;33m)\u001b[0m\u001b[1;33m\u001b[0m\u001b[0m\n\u001b[0m",
      "\u001b[1;31mTypeError\u001b[0m: unsupported operand type(s) for +: 'dict' and 'dict'"
     ]
    }
   ],
   "source": [
    "#Let's say we have some students take a test and we want to store their scores\n",
    "scores = {'Sally':89, 'Lucy':75, 'Jeff':45, 'Jose':96}\n",
    "print(scores)\n",
    "#We can, however, not combine two different dictionaries\n",
    "scores2 = {'Devin':64, 'John':23, 'Jake':75}\n",
    "print(scores2)\n",
    "print(scores+scores2)"
   ]
  },
  {
   "cell_type": "markdown",
   "metadata": {},
   "source": [
    "Unlike with lists, we cannot access elements of the dictionary with slicing. We must instead use the keys. Let's see how to do this."
   ]
  },
  {
   "cell_type": "code",
   "execution_count": 58,
   "metadata": {
    "collapsed": false
   },
   "outputs": [
    {
     "name": "stdout",
     "output_type": "stream",
     "text": [
      "89\n",
      "23\n"
     ]
    }
   ],
   "source": [
    "print(scores['Sally'])\n",
    "print(scores2['John'])"
   ]
  },
  {
   "cell_type": "markdown",
   "metadata": {},
   "source": [
    "As we can see, the key returns us the value. This can be useful if you have a bunch of items that need to be paired together."
   ]
  },
  {
   "cell_type": "markdown",
   "metadata": {},
   "source": [
    "##Accessing Just the Keys or Values\n",
    "Want to get a list of the keys in a dictionary? How about the values? Fret not, there is a way!"
   ]
  },
  {
   "cell_type": "code",
   "execution_count": 68,
   "metadata": {
    "collapsed": false
   },
   "outputs": [
    {
     "name": "stdout",
     "output_type": "stream",
     "text": [
      "dict_keys(['Sally', 'Jeff', 'Lucy', 'Jose'])\n",
      "dict_values([89, 45, 75, 96])\n"
     ]
    }
   ],
   "source": [
    "print(scores.keys())\n",
    "print(scores.values())"
   ]
  },
  {
   "cell_type": "markdown",
   "metadata": {},
   "source": [
    "##Exercises\n",
    "1. Build a dictionary of some constants in physics and math. Print out at least two of these values.\n",
    "2. Give an example of something that would be best represented by a dictionary, think pairs."
   ]
  },
  {
   "cell_type": "markdown",
   "metadata": {},
   "source": [
    "##In and Not In\n",
    "No, this section isn't about fashion. It is about the **in** and **not in** operators. They return a boolean value based on whether or not a value is **in** or **not in** a container. Note that for dictionaries, this refers to the keys, no the values."
   ]
  },
  {
   "cell_type": "code",
   "execution_count": 62,
   "metadata": {
    "collapsed": false
   },
   "outputs": [
    {
     "name": "stdout",
     "output_type": "stream",
     "text": [
      "True\n",
      "True\n",
      "True\n"
     ]
    }
   ],
   "source": [
    "print('Devin' in scores2)\n",
    "print(2 in a)\n",
    "print('Hello World' not in scores)"
   ]
  },
  {
   "cell_type": "markdown",
   "metadata": {},
   "source": [
    "##Converting Between Containers\n",
    "But what if I want my set to be a list or my tuple to be a set? To convert between types of containers, you can use any of the following functions:\n",
    "\n",
    "list() : Converts any container type into a list, for dictionaries it will be the list of keys.\n",
    "\n",
    "tuple() : Converts any container type into a tuple, for dictionaries it will be the tuple of keys.\n",
    "\n",
    "set() : Converts any container type into a set, for dictionaries it will be the set of keys. Note that as above, this will remove all duplicates."
   ]
  },
  {
   "cell_type": "code",
   "execution_count": 77,
   "metadata": {
    "collapsed": false
   },
   "outputs": [
    {
     "name": "stdout",
     "output_type": "stream",
     "text": [
      "[1, 2, 3]\n",
      "[1, 2, 3]\n",
      "[1, 3]\n",
      "(1, 2, 3)\n",
      "(1, 2, 3)\n",
      "(1, 3)\n",
      "{1, 2, 3}\n",
      "{1, 2, 3}\n",
      "{1, 3}\n"
     ]
    }
   ],
   "source": [
    "a = [1,2,3]\n",
    "b = (1,2,3)\n",
    "c = {1,2,3}\n",
    "d = {1:2,3:4}\n",
    "\n",
    "print(list(b))\n",
    "print(list(c))\n",
    "print(list(d))\n",
    "\n",
    "print(tuple(a))\n",
    "print(tuple(c))\n",
    "print(tuple(d))\n",
    "\n",
    "print(set(a))\n",
    "print(set(b))\n",
    "print(set(d))"
   ]
  },
  {
   "cell_type": "markdown",
   "metadata": {},
   "source": [
    "##Exercises\n",
    "1. Take the tuple (1,1,1,1,3,4,3,5,57,6,4,4,4,6,5,6) and remove its duplicates. Then turn it into a list.\n",
    "2. Earlier we saw that you could retrieve the keys and values of a dictionary individually, but they weren't lists yet. Using the dictionary d = {'tall':624, 'short':234, 'Feynman':'diagrams', 'dead':'cat', 'alive':'cat'}, try converting the keys and values into lists and print them out.\n",
    "3. Consider a = [1,2,3,4,5] and b = ['a','b','c','p'] is 'p' in a+b? Is 34 in a+b? Write a boolean statement the is true involving 34 and a+b."
   ]
  },
  {
   "cell_type": "code",
   "execution_count": null,
   "metadata": {
    "collapsed": true
   },
   "outputs": [],
   "source": []
  }
 ],
 "metadata": {
  "kernelspec": {
   "display_name": "Python 3",
   "language": "python",
   "name": "python3"
  },
  "language_info": {
   "codemirror_mode": {
    "name": "ipython",
    "version": 3
   },
   "file_extension": ".py",
   "mimetype": "text/x-python",
   "name": "python",
   "nbconvert_exporter": "python",
   "pygments_lexer": "ipython3",
   "version": "3.4.0"
  }
 },
 "nbformat": 4,
 "nbformat_minor": 0
}
