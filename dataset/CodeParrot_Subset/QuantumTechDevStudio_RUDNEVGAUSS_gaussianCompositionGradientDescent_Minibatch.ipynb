{
 "cells": [
  {
   "cell_type": "code",
   "execution_count": 1,
   "metadata": {
    "collapsed": false
   },
   "outputs": [
    {
     "data": {
      "text/plain": [
       "[<matplotlib.lines.Line2D at 0x5ab3e90>]"
      ]
     },
     "execution_count": 1,
     "metadata": {},
     "output_type": "execute_result"
    },
    {
     "data": {
      "image/png": "[encoded data removed]",
      "text/plain": [
       "<matplotlib.figure.Figure at 0x374cf10>"
      ]
     },
     "metadata": {},
     "output_type": "display_data"
    }
   ],
   "source": [
    "import math\n",
    "import random\n",
    "import numpy as np\n",
    "from matplotlib import mlab\n",
    "from matplotlib import pylab as plt\n",
    "%matplotlib inline\n",
    "\n",
    "# Построение графика композиции гауссианов с заданными параметрами и определение функции вычисления её значения: \n",
    "\n",
    "def gaussian(omg,sgm,omg0):\n",
    "    return (1/(sgm*math.sqrt(2*math.pi)))*math.exp(-(omg-omg0)**2/(2*sgm**2))\n",
    "\n",
    "def gaussComp(omg, sgm, omg0):\n",
    "    r = 0\n",
    "    for i in range(len(sgm)):\n",
    "        r = r + gaussian(omg, sgm[i], omg0[i])\n",
    "    return r\n",
    "\n",
    "sigma = [1.5, 1.5]\n",
    "omega_0 = [0, 30]\n",
    "\n",
    "dOmega = 0.01\n",
    "omegaMin = -10\n",
    "omegaMax = 50\n",
    "\n",
    "omegaList = mlab.frange (omegaMin, omegaMax, dOmega)\n",
    "gaussList = [gaussComp(omega, sigma, omega_0) for omega in omegaList]\n",
    "\n",
    "plt.plot (omegaList, gaussList,'green')"
   ]
  },
  {
   "cell_type": "code",
   "execution_count": 2,
   "metadata": {
    "collapsed": false
   },
   "outputs": [
    {
     "data": {
      "image/png": "[encoded data removed]",
      "text/plain": [
       "<matplotlib.figure.Figure at 0x374cbd0>"
      ]
     },
     "metadata": {},
     "output_type": "display_data"
    }
   ],
   "source": [
    "# выборка из \"непрерывной\" композиции гауссианов с заданными параметрами тренировочного набора данных:\n",
    "dOmegaTrain = 0.3\n",
    "\n",
    "omegaTrain = mlab.frange(omegaMin, omegaMax, dOmegaTrain)\n",
    "gaussTrain = [gaussComp(omega, sigma, omega_0) for omega in omegaTrain]\n",
    "\n",
    "plt.plot (omegaTrain, gaussTrain,'x')\n",
    "\n",
    "#Учебный набор в виде списка списков:\n",
    "trainData = [[omega] for omega in omegaTrain]\n",
    "m = len(omegaTrain)\n",
    "for i in range(m):\n",
    "    trainData[i].append(gaussTrain[i])\n",
    "\n",
    "#Пусть так же известно и колическо гауссианов в комбинации, так уже легко можно будет построить гипотезу:\n",
    "gaussN = len(sigma)\n",
    "\n",
    "#Запишем в отдельную переменную длину учебного набора:\n",
    "m = len(omegaTrain)\n",
    "#Параметр определяющий количество последовательных узлов для формирования mini-batch набора\n",
    "L = 4"
   ]
  },
  {
   "cell_type": "code",
   "execution_count": 3,
   "metadata": {
    "collapsed": false
   },
   "outputs": [],
   "source": [
    "def J(sgm, omg0): #Весовая функция, в виде суммы квадратов разности значений гипотезы и заданной функции в узлах. Пакетная.\n",
    "    cost = 0\n",
    "    for i in range(m):\n",
    "        omg = trainData[i][0]\n",
    "        y = trainData[i][1]\n",
    "        cost = cost + (1/(2*m))*(gaussComp(omg, sgm, omg0)-y)**2\n",
    "    return cost\n",
    "\n",
    "#Функции вычисления частных производных. К счастью, переменные каждого отдельного гауссиана встречаются только в них, поэтому \n",
    "#производные не отличаются от производных для одного единственного гауссиана.\n",
    "\n",
    "def JSmg_Der(k, sgm, omg0): # Частная производная функции J по sigma\n",
    "    der  = 0\n",
    "    for i in range(L):\n",
    "        omg = trainData[k+i][0]\n",
    "        y = trainData[k+i][1]\n",
    "        der = der + (1/L)*(gaussian(omg, sgm, omg0)-y)*((-1/(math.sqrt(2*math.pi)*sgm**2))*math.exp(-(omg-omg0)**2/(2*sgm**2)) + gaussian(omg, sgm, omg0)*((omg-omg0)**2/sgm**3))\n",
    "    return der\n",
    "    \n",
    "    \n",
    "\n",
    "def Jomg0_Der(k, sgm, omg0): # Частная производная функции J по omega0\n",
    "    der = 0\n",
    "    for i in range(L):\n",
    "        omg = trainData[k+i][0]\n",
    "        y = trainData[k+i][1]\n",
    "        der = der + (1/L)*(gaussian(omg, sgm, omg0)-y)*gaussian(omg, sgm, omg0)*(omg-omg0)*(1/(sgm**2))\n",
    "    return der\n",
    "\n"
   ]
  },
  {
   "cell_type": "code",
   "execution_count": null,
   "metadata": {
    "collapsed": false
   },
   "outputs": [],
   "source": []
  },
  {
   "cell_type": "code",
   "execution_count": 4,
   "metadata": {
    "collapsed": false
   },
   "outputs": [],
   "source": [
    "alpha = 0.5 #скорость обучения\n",
    "\n",
    "# Стартовый набор коэффицентов проинициализируем единицами(нулями нельзя, т.к. сигма встречается в знаменателе, и получим ошибку)\n",
    "# А так же костыль для временного набора параметров, нулями\n",
    "#prm = []\n",
    "#prmTemp0 = []\n",
    "#for i in range(gaussN):\n",
    "#    prm.append([1, 1])\n",
    "#    prmTemp0.append([0, 0])\n",
    "\n",
    "prm = [[1, 2], [5, 35]]\n",
    "\n",
    "prmTemp0 = [[0,0],[0,0]]    \n",
    "    \n",
    "\n",
    "\n",
    "prmTemp = prmTemp0\n",
    "for i in range(100000): # основной цикл реализации градиентного спуска\n",
    "    k = random.randint(0,m-L-1)\n",
    "    for j in range(gaussN):  \n",
    "        prmTemp[j][0] = prm[j][0] - alpha * JSmg_Der(k, prm[j][0], prm[j][1])\n",
    "        prmTemp[j][1] = prm[j][1] - alpha * Jomg0_Der(k, prm[j][0], prm[j][1])\n",
    "    prm = prmTemp\n",
    "    prmTemp = prmTemp0\n",
    "\n",
    "\n",
    "    \n",
    "#Разделим лист параметров на отдельные листы для сигма и омега_0. \n",
    "#Удобно из-за копирования кода рассчитанного на единственный гауссиан(чтобы не переписывать производные заново)\n",
    "apprSigma = []\n",
    "apprOmega_0 = []\n",
    "for i in range(gaussN):\n",
    "    apprSigma.append(prm[i][0])\n",
    "    apprOmega_0.append(prm[i][1])\n"
   ]
  },
  {
   "cell_type": "code",
   "execution_count": 5,
   "metadata": {
    "collapsed": false
   },
   "outputs": [
    {
     "data": {
      "text/plain": [
       "[<matplotlib.lines.Line2D at 0x6bd46f0>]"
      ]
     },
     "execution_count": 5,
     "metadata": {},
     "output_type": "execute_result"
    },
    {
     "data": {
      "image/png": "[encoded data removed]",
      "text/plain": [
       "<matplotlib.figure.Figure at 0x5b80d50>"
      ]
     },
     "metadata": {},
     "output_type": "display_data"
    }
   ],
   "source": [
    "apprGauss = [gaussComp(omega, apprSigma, apprOmega_0) for omega in omegaList]\n",
    "plt.plot(omegaList, apprGauss)"
   ]
  },
  {
   "cell_type": "code",
   "execution_count": 8,
   "metadata": {
    "collapsed": false
   },
   "outputs": [
    {
     "data": {
      "text/plain": [
       "5"
      ]
     },
     "execution_count": 8,
     "metadata": {},
     "output_type": "execute_result"
    }
   ],
   "source": [
    "J(apprSigma, apprOmega_0)\n",
    "prm\n",
    "2+3"
   ]
  },
  {
   "cell_type": "code",
   "execution_count": 7,
   "metadata": {
    "collapsed": false
   },
   "outputs": [
    {
     "data": {
      "text/plain": [
       "[<matplotlib.lines.Line2D at 0x6c457b0>]"
      ]
     },
     "execution_count": 7,
     "metadata": {},
     "output_type": "execute_result"
    },
    {
     "data": {
      "image/png": "[encoded data removed]",
      "text/plain": [
       "<matplotlib.figure.Figure at 0x5bb68d0>"
      ]
     },
     "metadata": {},
     "output_type": "display_data"
    }
   ],
   "source": [
    "error = []\n",
    "for i in range(len(omegaList)):\n",
    "    error.append(gaussList[i] - apprGauss[i])\n",
    "plt.plot(omegaList, error)"
   ]
  }
 ],
 "metadata": {
  "kernelspec": {
   "display_name": "Python 3",
   "language": "python",
   "name": "python3"
  },
  "language_info": {
   "codemirror_mode": {
    "name": "ipython",
    "version": 3
   },
   "file_extension": ".py",
   "mimetype": "text/x-python",
   "name": "python",
   "nbconvert_exporter": "python",
   "pygments_lexer": "ipython3",
   "version": "3.6.0"
  }
 },
 "nbformat": 4,
 "nbformat_minor": 2
}
