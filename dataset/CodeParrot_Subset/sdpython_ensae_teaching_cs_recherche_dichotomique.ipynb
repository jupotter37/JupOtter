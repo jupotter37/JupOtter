{
  "cells": [
    {
      "cell_type": "markdown",
      "metadata": {},
      "source": [
        "# 1A.algo - Recherche dichotomique\n",
        "\n",
        "Recherche dichotomique illustr\u00e9e. Extrait de [Recherche dichotomique, r\u00e9cursive, it\u00e9rative et le logarithme](http://www.xavierdupre.fr/blog/2013-12-01_nojs.html)."
      ]
    },
    {
      "cell_type": "code",
      "execution_count": 1,
      "metadata": {},
      "outputs": [
        {
          "data": {
            "text/html": [
              "<div id=\"my_id_menu_nb\">run previous cell, wait for 2 seconds</div>\n",
              "<script>\n",
              "function repeat_indent_string(n){\n",
              "    var a = \"\" ;\n",
              "    for ( ; n > 0 ; --n)\n",
              "        a += \"    \";\n",
              "    return a;\n",
              "}\n",
              "var update_menu_string = function(begin, lfirst, llast, sformat, send, keep_item, begin_format, end_format) {\n",
              "    var anchors = document.getElementsByClassName(\"section\");\n",
              "    if (anchors.length == 0) {\n",
              "        anchors = document.getElementsByClassName(\"text_cell_render rendered_html\");\n",
              "    }\n",
              "    var i,t;\n",
              "    var text_menu = begin;\n",
              "    var text_memo = \"<pre>\\nlength:\" + anchors.length + \"\\n\";\n",
              "    var ind = \"\";\n",
              "    var memo_level = 1;\n",
              "    var href;\n",
              "    var tags = [];\n",
              "    var main_item = 0;\n",
              "    var format_open = 0;\n",
              "    for (i = 0; i <= llast; i++)\n",
              "        tags.push(\"h\" + i);\n",
              "\n",
              "    for (i = 0; i < anchors.length; i++) {\n",
              "        text_memo += \"**\" + anchors[i].id + \"--\\n\";\n",
              "\n",
              "        var child = null;\n",
              "        for(t = 0; t < tags.length; t++) {\n",
              "            var r = anchors[i].getElementsByTagName(tags[t]);\n",
              "            if (r.length > 0) {\n",
              "child = r[0];\n",
              "break;\n",
              "            }\n",
              "        }\n",
              "        if (child == null) {\n",
              "            text_memo += \"null\\n\";\n",
              "            continue;\n",
              "        }\n",
              "        if (anchors[i].hasAttribute(\"id\")) {\n",
              "            // when converted in RST\n",
              "            href = anchors[i].id;\n",
              "            text_memo += \"#1-\" + href;\n",
              "            // passer \u00e0 child suivant (le chercher)\n",
              "        }\n",
              "        else if (child.hasAttribute(\"id\")) {\n",
              "            // in a notebook\n",
              "            href = child.id;\n",
              "            text_memo += \"#2-\" + href;\n",
              "        }\n",
              "        else {\n",
              "            text_memo += \"#3-\" + \"*\" + \"\\n\";\n",
              "            continue;\n",
              "        }\n",
              "        var title = child.textContent;\n",
              "        var level = parseInt(child.tagName.substring(1,2));\n",
              "\n",
              "        text_memo += \"--\" + level + \"?\" + lfirst + \"--\" + title + \"\\n\";\n",
              "\n",
              "        if ((level < lfirst) || (level > llast)) {\n",
              "            continue ;\n",
              "        }\n",
              "        if (title.endsWith('\u00b6')) {\n",
              "            title = title.substring(0,title.length-1).replace(\"<\", \"&lt;\")\n",
              "         .replace(\">\", \"&gt;\").replace(\"&\", \"&amp;\");\n",
              "        }\n",
              "        if (title.length == 0) {\n",
              "            continue;\n",
              "        }\n",
              "\n",
              "        while (level < memo_level) {\n",
              "            text_menu += end_format + \"</ul>\\n\";\n",
              "            format_open -= 1;\n",
              "            memo_level -= 1;\n",
              "        }\n",
              "        if (level == lfirst) {\n",
              "            main_item += 1;\n",
              "        }\n",
              "        if (keep_item != -1 && main_item != keep_item + 1) {\n",
              "            // alert(main_item + \" - \" + level + \" - \" + keep_item);\n",
              "            continue;\n",
              "        }\n",
              "        while (level > memo_level) {\n",
              "            text_menu += \"<ul>\\n\";\n",
              "            memo_level += 1;\n",
              "        }\n",
              "        text_menu += repeat_indent_string(level-2);\n",
              "        text_menu += begin_format + sformat.replace(\"__HREF__\", href).replace(\"__TITLE__\", title);\n",
              "        format_open += 1;\n",
              "    }\n",
              "    while (1 < memo_level) {\n",
              "        text_menu += end_format + \"</ul>\\n\";\n",
              "        memo_level -= 1;\n",
              "        format_open -= 1;\n",
              "    }\n",
              "    text_menu += send;\n",
              "    //text_menu += \"\\n\" + text_memo;\n",
              "\n",
              "    while (format_open > 0) {\n",
              "        text_menu += end_format;\n",
              "        format_open -= 1;\n",
              "    }\n",
              "    return text_menu;\n",
              "};\n",
              "var update_menu = function() {\n",
              "    var sbegin = \"\";\n",
              "    var sformat = '<a href=\"#__HREF__\">__TITLE__</a>';\n",
              "    var send = \"\";\n",
              "    var begin_format = '<li>';\n",
              "    var end_format = '</li>';\n",
              "    var keep_item = -1;\n",
              "    var text_menu = update_menu_string(sbegin, 2, 4, sformat, send, keep_item,\n",
              "       begin_format, end_format);\n",
              "    var menu = document.getElementById(\"my_id_menu_nb\");\n",
              "    menu.innerHTML=text_menu;\n",
              "};\n",
              "window.setTimeout(update_menu,2000);\n",
              "            </script>"
            ],
            "text/plain": [
              "<IPython.core.display.HTML object>"
            ]
          },
          "execution_count": 2,
          "metadata": {},
          "output_type": "execute_result"
        }
      ],
      "source": [
        "from jyquickhelper import add_notebook_menu\n",
        "add_notebook_menu()"
      ]
    },
    {
      "cell_type": "markdown",
      "metadata": {},
      "source": [
        "Lorsqu'on d\u00e9crit n'importe quel algorithme, on \u00e9voque toujours son co\u00fbt, souvent une formule de ce style :\n",
        "\n",
        "$$O(n^u(\\ln_2 n)^v)$$\n",
        "\n",
        "$u$ et $v$ sont des entiers. $v$ est souvent soit 0, soit 1. Mais d'o\u00f9 vient ce logarithme ? Le premier algorithme auquel on pense et dont le co\u00fbt correspond au cas $u=0$ et $v=1$ est la recherche dichotomique. Il consiste \u00e0 chercher un \u00e9l\u00e9ment dans une liste tri\u00e9e. Le logarithme vient du fait qu'on r\u00e9duit l'espace de recherche par deux \u00e0 chaque it\u00e9ration. Fatalement, on trouve tr\u00e8s vite l'\u00e9l\u00e9ment \u00e0 chercher. Et le logarithme, dans la plupart des algorithmes, vient du fait qu'on divise la dimension du probl\u00e8me par un nombre entier \u00e0 chaque it\u00e9ration, ici 2.\n",
        "\n",
        "La recherche dichotomique est assez simple : on part d'une liste tri\u00e9e ``T`` et on cherche l'\u00e9l\u00e9ment ``v`` (on suppose qu'il s'y trouve). On proc\u00e8de comme suit :\n",
        "\n",
        "* On compare ``v`` \u00e0 l'\u00e9l\u00e9ment du milieu de la liste.\n",
        "* S'il est \u00e9gal \u00e0 ``v``, on a fini.\n",
        "* Sinon, s'il est inf\u00e9rieur, il faut chercher dans la premi\u00e8re moiti\u00e9 de la liste. On retourne \u00e0 l'\u00e9tape 1 avec la liste r\u00e9duite.\n",
        "* S'il est sup\u00e9rieur, on fait de m\u00eame avec la seconde moiti\u00e9 de la liste.\n",
        "\n",
        "C'est ce qu'illustre la figure suivante o\u00f9 ``a`` d\u00e9signe le d\u00e9but de la liste, ``b`` la fin, ``m`` le milieu. A chaque it\u00e9ration, on d\u00e9place ces trois positions."
      ]
    },
    {
      "cell_type": "code",
      "execution_count": 2,
      "metadata": {},
      "outputs": [
        {
          "data": {
            "image/png": "[encoded data removed]",
            "text/plain": [
              "<IPython.core.display.Image object>"
            ]
          },
          "execution_count": 3,
          "metadata": {},
          "output_type": "execute_result"
        }
      ],
      "source": [
        "from pyquickhelper.helpgen import NbImage\n",
        "NbImage(\"images/dicho.png\")"
      ]
    },
    {
      "cell_type": "markdown",
      "metadata": {},
      "source": [
        "## Version it\u00e9rative"
      ]
    },
    {
      "cell_type": "code",
      "execution_count": 3,
      "metadata": {
        "collapsed": true
      },
      "outputs": [],
      "source": [
        "def recherche_dichotomique(element, liste_triee):\n",
        "    a = 0\n",
        "    b = len(liste_triee)-1\n",
        "    m = (a+b)//2\n",
        "    while a < b :\n",
        "        if liste_triee[m] == element:\n",
        "            return m\n",
        "        elif liste_triee[m] > element:\n",
        "            b = m-1\n",
        "        else :\n",
        "            a = m+1\n",
        "        m = (a+b)//2\n",
        "    return a"
      ]
    },
    {
      "cell_type": "code",
      "execution_count": 4,
      "metadata": {},
      "outputs": [
        {
          "data": {
            "text/plain": [
              "2"
            ]
          },
          "execution_count": 5,
          "metadata": {},
          "output_type": "execute_result"
        }
      ],
      "source": [
        "li = [0, 4, 5, 19, 100, 200, 450, 999]\n",
        "recherche_dichotomique(5, li)"
      ]
    },
    {
      "cell_type": "markdown",
      "metadata": {},
      "source": [
        "## Version r\u00e9cursive"
      ]
    },
    {
      "cell_type": "code",
      "execution_count": 5,
      "metadata": {
        "collapsed": true
      },
      "outputs": [],
      "source": [
        "def recherche_dichotomique_recursive( element, liste_triee, a = 0, b = -1 ):\n",
        "    if a == b : \n",
        "        return a\n",
        "    if b == -1 : \n",
        "        b = len(liste_triee)-1\n",
        "    m = (a+b)//2\n",
        "    if liste_triee[m] == element:\n",
        "        return m\n",
        "    elif liste_triee[m] > element:\n",
        "        return recherche_dichotomique_recursive(element, liste_triee, a, m-1)\n",
        "    else :\n",
        "        return recherche_dichotomique_recursive(element, liste_triee, m+1, b)"
      ]
    },
    {
      "cell_type": "code",
      "execution_count": 6,
      "metadata": {},
      "outputs": [
        {
          "data": {
            "text/plain": [
              "2"
            ]
          },
          "execution_count": 7,
          "metadata": {},
          "output_type": "execute_result"
        }
      ],
      "source": [
        "recherche_dichotomique(5, li)"
      ]
    },
    {
      "cell_type": "markdown",
      "metadata": {},
      "source": [
        "## Version r\u00e9cursive 2\n",
        "\n",
        "L'ajout des parametr\u00e8s ``a`` et ``b`` peut para\u00eetre un peu lourd. Voici une troisi\u00e8me impl\u00e9mentation en Python (toujours r\u00e9cursive) :"
      ]
    },
    {
      "cell_type": "code",
      "execution_count": 7,
      "metadata": {
        "collapsed": true
      },
      "outputs": [],
      "source": [
        "def recherche_dichotomique_recursive2(element, liste_triee):\n",
        "    if len(liste_triee)==1 :\n",
        "        return 0\n",
        "    m = len(liste_triee)//2\n",
        "    if liste_triee[m] == element:\n",
        "        return m\n",
        "    elif liste_triee[m] > element:\n",
        "        return recherche_dichotomique_recursive2(element, liste_triee[:m])\n",
        "    else :\n",
        "        return m + recherche_dichotomique_recursive2(element, liste_triee[m:])"
      ]
    },
    {
      "cell_type": "code",
      "execution_count": 8,
      "metadata": {},
      "outputs": [
        {
          "data": {
            "text/plain": [
              "2"
            ]
          },
          "execution_count": 9,
          "metadata": {},
          "output_type": "execute_result"
        }
      ],
      "source": [
        "recherche_dichotomique(5, li)"
      ]
    },
    {
      "cell_type": "markdown",
      "metadata": {},
      "source": [
        "Il ne faut pas oublier ``m +`` sinon le r\u00e9sultat peut \u00eatre d\u00e9cal\u00e9 dans certains cas. Ensuite, cette version sera un peu moins rapide du fait de la recopie d'une partie de la liste."
      ]
    },
    {
      "cell_type": "code",
      "execution_count": 9,
      "metadata": {
        "collapsed": true
      },
      "outputs": [],
      "source": []
    }
  ],
  "metadata": {
    "kernelspec": {
      "display_name": "Python 3",
      "language": "python",
      "name": "python3"
    },
    "language_info": {
      "codemirror_mode": {
        "name": "ipython",
        "version": 3
      },
      "file_extension": ".py",
      "mimetype": "text/x-python",
      "name": "python",
      "nbconvert_exporter": "python",
      "pygments_lexer": "ipython3",
      "version": "3.6.1"
    }
  },
  "nbformat": 4,
  "nbformat_minor": 2
}