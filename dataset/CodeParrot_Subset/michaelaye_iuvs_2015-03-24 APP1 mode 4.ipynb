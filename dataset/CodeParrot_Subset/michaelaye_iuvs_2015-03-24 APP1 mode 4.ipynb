{
 "cells": [
  {
   "cell_type": "code",
   "execution_count": 1,
   "metadata": {
    "collapsed": false
   },
   "outputs": [],
   "source": [
    "from iuvs import io\n",
    "from iuvs import io, scaling, plotting"
   ]
  },
  {
   "cell_type": "code",
   "execution_count": 3,
   "metadata": {
    "collapsed": false
   },
   "outputs": [],
   "source": [
    "df = pd.DataFrame(io.l1b_filenames('APP1*mode14', iterator=False), columns=['fname'])"
   ]
  },
  {
   "cell_type": "code",
   "execution_count": 4,
   "metadata": {
    "collapsed": false
   },
   "outputs": [],
   "source": [
    "df['mode'] = df.fname.map(lambda x: io.Filename(x).mode)"
   ]
  },
  {
   "cell_type": "code",
   "execution_count": 5,
   "metadata": {
    "collapsed": false
   },
   "outputs": [
    {
     "data": {
      "text/plain": [
       "mode1444    14\n",
       "mode1442    14\n",
       "mode1443    14\n",
       "mode1441    14\n",
       "dtype: int64"
      ]
     },
     "execution_count": 5,
     "metadata": {},
     "output_type": "execute_result"
    }
   ],
   "source": [
    "df['mode'].value_counts()"
   ]
  },
  {
   "cell_type": "code",
   "execution_count": 6,
   "metadata": {
    "collapsed": false
   },
   "outputs": [
    {
     "data": {
      "text/html": [
       "<div style=\"max-height:1000px;max-width:1500px;overflow:auto;\">\n",
       "<table border=\"1\" class=\"dataframe\">\n",
       "  <thead>\n",
       "    <tr style=\"text-align: right;\">\n",
       "      <th></th>\n",
       "      <th>fname</th>\n",
       "      <th>mode</th>\n",
       "    </tr>\n",
       "  </thead>\n",
       "  <tbody>\n",
       "    <tr>\n",
       "      <th>0</th>\n",
       "      <td>/maven_iuvs/stage/products/level1b/mvn_iuv_l1b...</td>\n",
       "      <td>mode1441</td>\n",
       "    </tr>\n",
       "    <tr>\n",
       "      <th>1</th>\n",
       "      <td>/maven_iuvs/stage/products/level1b/mvn_iuv_l1b...</td>\n",
       "      <td>mode1441</td>\n",
       "    </tr>\n",
       "    <tr>\n",
       "      <th>2</th>\n",
       "      <td>/maven_iuvs/stage/products/level1b/mvn_iuv_l1b...</td>\n",
       "      <td>mode1443</td>\n",
       "    </tr>\n",
       "    <tr>\n",
       "      <th>3</th>\n",
       "      <td>/maven_iuvs/stage/products/level1b/mvn_iuv_l1b...</td>\n",
       "      <td>mode1442</td>\n",
       "    </tr>\n",
       "    <tr>\n",
       "      <th>4</th>\n",
       "      <td>/maven_iuvs/stage/products/level1b/mvn_iuv_l1b...</td>\n",
       "      <td>mode1442</td>\n",
       "    </tr>\n",
       "  </tbody>\n",
       "</table>\n",
       "</div>"
      ],
      "text/plain": [
       "                                               fname      mode\n",
       "0  /maven_iuvs/stage/products/level1b/mvn_iuv_l1b...  mode1441\n",
       "1  /maven_iuvs/stage/products/level1b/mvn_iuv_l1b...  mode1441\n",
       "2  /maven_iuvs/stage/products/level1b/mvn_iuv_l1b...  mode1443\n",
       "3  /maven_iuvs/stage/products/level1b/mvn_iuv_l1b...  mode1442\n",
       "4  /maven_iuvs/stage/products/level1b/mvn_iuv_l1b...  mode1442"
      ]
     },
     "execution_count": 6,
     "metadata": {},
     "output_type": "execute_result"
    }
   ],
   "source": [
    "df.head()"
   ]
  },
  {
   "cell_type": "code",
   "execution_count": 7,
   "metadata": {
    "collapsed": true
   },
   "outputs": [],
   "source": [
    "def calc_4_to_3(width):\n",
    "    height = width * 3 / 4\n",
    "    return (width, height)"
   ]
  },
  {
   "cell_type": "code",
   "execution_count": 8,
   "metadata": {
    "collapsed": false
   },
   "outputs": [],
   "source": [
    "plt.style.use('bmh')\n",
    "plt.rcParams['figure.figsize']= calc_4_to_3(9)\n",
    "plt.rcParams['image.aspect'] = 'auto'\n",
    "plt.rcParams['image.interpolation'] = 'none'\n",
    "plt.rcParams['lines.linewidth'] = 1\n",
    "plt.ioff()"
   ]
  },
  {
   "cell_type": "code",
   "execution_count": 9,
   "metadata": {
    "collapsed": false,
    "scrolled": false
   },
   "outputs": [],
   "source": [
    "def process_fname(fname):\n",
    "    import os\n",
    "    l1b = io.L1BReader(fname)\n",
    "    fig = l1b.plot_raw_overview(-1, save_token='1', imglog=True, \n",
    "                                proflog=False, prof_plot_hist=True)\n",
    "    scaling.do_all(l1b, -1, log=False)\n",
    "    plt.close('all')\n",
    "    return \"{} done.\".format(os.path.basename(fname))"
   ]
  },
  {
   "cell_type": "code",
   "execution_count": 10,
   "metadata": {
    "collapsed": false
   },
   "outputs": [],
   "source": [
    "from IPython.parallel import Client\n",
    "c = Client()\n",
    "dview = c.direct_view()\n",
    "lbview = c.load_balanced_view()"
   ]
  },
  {
   "cell_type": "code",
   "execution_count": 11,
   "metadata": {
    "collapsed": false
   },
   "outputs": [],
   "source": [
    "%%px\n",
    "def calc_4_to_3(width):\n",
    "    height = width * 3 / 4\n",
    "    return (width, height)\n",
    "from iuvs import io, scaling, plotting\n",
    "import matplotlib.pyplot as plt\n",
    "%matplotlib inline\n",
    "plt.style.use('bmh')\n",
    "plt.rcParams['figure.figsize']= calc_4_to_3(9)\n",
    "plt.rcParams['image.aspect'] = 'auto'\n",
    "plt.rcParams['image.interpolation'] = 'none'\n",
    "plt.rcParams['lines.linewidth'] = 1\n",
    "plt.ioff()"
   ]
  },
  {
   "cell_type": "code",
   "execution_count": 12,
   "metadata": {
    "collapsed": false
   },
   "outputs": [],
   "source": [
    "ret = lbview.map_async(process_fname, df.fname)"
   ]
  },
  {
   "cell_type": "code",
   "execution_count": 16,
   "metadata": {
    "collapsed": false
   },
   "outputs": [
    {
     "name": "stdout",
     "output_type": "stream",
     "text": [
      "mvn_iuv_l1b_APP1-orbit00087-mode1441-fuv_20141014T141802_v01_r01.fits.gz done.\n",
      "mvn_iuv_l1b_APP1-orbit00087-mode1441-muv_20141014T141914_v01_r01.fits.gz done.\n",
      "mvn_iuv_l1b_APP1-orbit00087-mode1443-muv_20141014T142730_v01_r01.fits.gz done.\n",
      "mvn_iuv_l1b_APP1-orbit00087-mode1442-muv_20141014T142258_v01_r01.fits.gz done.\n",
      "mvn_iuv_l1b_APP1-orbit00087-mode1442-fuv_20141014T142522_v01_r01.fits.gz done.\n",
      "mvn_iuv_l1b_APP1-orbit00087-mode1442-muv_20141014T142446_v01_r01.fits.gz done.\n",
      "mvn_iuv_l1b_APP1-orbit00087-mode1441-muv_20141014T141838_v01_r01.fits.gz done.\n",
      "mvn_iuv_l1b_APP1-orbit00087-mode1443-fuv_20141014T142654_v01_r01.fits.gz done.\n",
      "mvn_iuv_l1b_APP1-orbit00087-mode1444-fuv_20141014T142804_v01_r01.fits.gz done.\n",
      "mvn_iuv_l1b_APP1-orbit00087-mode1441-fuv_20141014T141726_v01_r01.fits.gz done.\n",
      "mvn_iuv_l1b_APP1-orbit00087-mode1444-muv_20141014T142758_v01_r01.fits.gz done.\n",
      "mvn_iuv_l1b_APP1-orbit00087-mode1442-fuv_20141014T142410_v01_r01.fits.gz done.\n",
      "mvn_iuv_l1b_APP1-orbit00087-mode1444-muv_20141014T142832_v01_r01.fits.gz done.\n",
      "mvn_iuv_l1b_APP1-orbit00087-mode1441-muv_20141014T141650_v01_r01.fits.gz done.\n",
      "mvn_iuv_l1b_APP1-orbit00087-mode1441-muv_20141014T142026_v01_r01.fits.gz done.\n",
      "mvn_iuv_l1b_APP1-orbit00087-mode1441-fuv_20141014T141950_v01_r01.fits.gz done.\n",
      "mvn_iuv_l1b_APP1-orbit00087-mode1444-fuv_20141014T142826_v01_r01.fits.gz done.\n",
      "mvn_iuv_l1b_APP1-orbit00087-mode1443-muv_20141014T142722_v01_r01.fits.gz done.\n",
      "mvn_iuv_l1b_APP1-orbit00087-mode1442-muv_20141014T142334_v01_r01.fits.gz done.\n",
      "mvn_iuv_l1b_APP1-orbit00087-mode1443-fuv_20141014T142716_v01_r01.fits.gz done.\n",
      "mvn_iuv_l1b_APP1-orbit00087-mode1443-fuv_20141014T142708_v01_r01.fits.gz done.\n",
      "mvn_iuv_l1b_APP1-orbit00087-mode1442-fuv_20141014T142222_v01_r01.fits.gz done.\n",
      "mvn_iuv_l1b_APP1-orbit00087-mode1444-muv_20141014T142812_v01_r01.fits.gz done.\n",
      "mvn_iuv_l1b_APP1-orbit00087-mode1442-fuv_20141014T142146_v01_r01.fits.gz done.\n",
      "mvn_iuv_l1b_APP1-orbit00087-mode1444-fuv_20141014T142750_v01_r01.fits.gz done.\n",
      "mvn_iuv_l1b_APP1-orbit00087-mode1443-muv_20141014T142702_v01_r01.fits.gz done.\n",
      "mvn_iuv_l1b_APP1-orbit00087-mode1443-fuv_20141014T142648_v01_r01.fits.gz done.\n",
      "mvn_iuv_l1b_APP1-orbit00087-mode1444-fuv_20141014T142818_v01_r01.fits.gz done.\n",
      "mvn_iuv_l1b_APP1-orbit00087-mode1442-muv_20141014T142410_v01_r01.fits.gz done.\n",
      "mvn_iuv_l1b_APP1-orbit00087-mode1444-fuv_20141014T142758_v01_r01.fits.gz done.\n",
      "mvn_iuv_l1b_APP1-orbit00087-mode1441-muv_20141014T141726_v01_r01.fits.gz done.\n",
      "mvn_iuv_l1b_APP1-orbit00087-mode1443-muv_20141014T142654_v01_r01.fits.gz done.\n",
      "mvn_iuv_l1b_APP1-orbit00087-mode1444-muv_20141014T142804_v01_r01.fits.gz done.\n",
      "mvn_iuv_l1b_APP1-orbit00087-mode1441-fuv_20141014T141838_v01_r01.fits.gz done.\n",
      "mvn_iuv_l1b_APP1-orbit00087-mode1442-fuv_20141014T142446_v01_r01.fits.gz done.\n",
      "mvn_iuv_l1b_APP1-orbit00087-mode1442-fuv_20141014T142258_v01_r01.fits.gz done.\n",
      "mvn_iuv_l1b_APP1-orbit00087-mode1442-muv_20141014T142522_v01_r01.fits.gz done.\n",
      "mvn_iuv_l1b_APP1-orbit00087-mode1443-fuv_20141014T142730_v01_r01.fits.gz done.\n",
      "mvn_iuv_l1b_APP1-orbit00087-mode1441-fuv_20141014T141914_v01_r01.fits.gz done.\n",
      "mvn_iuv_l1b_APP1-orbit00087-mode1441-muv_20141014T141802_v01_r01.fits.gz done.\n",
      "mvn_iuv_l1b_APP1-orbit00087-mode1443-muv_20141014T142648_v01_r01.fits.gz done.\n",
      "mvn_iuv_l1b_APP1-orbit00087-mode1444-muv_20141014T142818_v01_r01.fits.gz done.\n",
      "mvn_iuv_l1b_APP1-orbit00087-mode1443-fuv_20141014T142702_v01_r01.fits.gz done.\n",
      "mvn_iuv_l1b_APP1-orbit00087-mode1442-muv_20141014T142146_v01_r01.fits.gz done.\n",
      "mvn_iuv_l1b_APP1-orbit00087-mode1444-muv_20141014T142750_v01_r01.fits.gz done.\n",
      "mvn_iuv_l1b_APP1-orbit00087-mode1444-fuv_20141014T142812_v01_r01.fits.gz done.\n",
      "mvn_iuv_l1b_APP1-orbit00087-mode1442-muv_20141014T142222_v01_r01.fits.gz done.\n",
      "mvn_iuv_l1b_APP1-orbit00087-mode1443-muv_20141014T142708_v01_r01.fits.gz done.\n",
      "mvn_iuv_l1b_APP1-orbit00087-mode1443-muv_20141014T142716_v01_r01.fits.gz done.\n",
      "mvn_iuv_l1b_APP1-orbit00087-mode1442-fuv_20141014T142334_v01_r01.fits.gz done.\n",
      "mvn_iuv_l1b_APP1-orbit00087-mode1443-fuv_20141014T142722_v01_r01.fits.gz done.\n",
      "mvn_iuv_l1b_APP1-orbit00087-mode1444-muv_20141014T142826_v01_r01.fits.gz done.\n",
      "mvn_iuv_l1b_APP1-orbit00087-mode1441-muv_20141014T141950_v01_r01.fits.gz done.\n",
      "mvn_iuv_l1b_APP1-orbit00087-mode1441-fuv_20141014T142026_v01_r01.fits.gz done.\n",
      "mvn_iuv_l1b_APP1-orbit00087-mode1441-fuv_20141014T141650_v01_r01.fits.gz done.\n",
      "mvn_iuv_l1b_APP1-orbit00087-mode1444-fuv_20141014T142832_v01_r01.fits.gz done.\n"
     ]
    }
   ],
   "source": [
    "for res in ret:\n",
    "    print(res)"
   ]
  },
  {
   "cell_type": "code",
   "execution_count": 14,
   "metadata": {
    "collapsed": false
   },
   "outputs": [],
   "source": [
    "from iuvs.multitools import progress_display"
   ]
  },
  {
   "cell_type": "code",
   "execution_count": 15,
   "metadata": {
    "collapsed": true
   },
   "outputs": [],
   "source": [
    "progress_display(ret, df.fname, sleep=20)"
   ]
  },
  {
   "cell_type": "code",
   "execution_count": null,
   "metadata": {
    "collapsed": true
   },
   "outputs": [],
   "source": []
  }
 ],
 "metadata": {
  "kernelspec": {
   "display_name": "Python 3",
   "language": "python",
   "name": "python3"
  },
  "language_info": {
   "codemirror_mode": {
    "name": "ipython",
    "version": 3
   },
   "file_extension": ".py",
   "mimetype": "text/x-python",
   "name": "python",
   "nbconvert_exporter": "python",
   "pygments_lexer": "ipython3",
   "version": "3.4.3"
  }
 },
 "nbformat": 4,
 "nbformat_minor": 0
}
