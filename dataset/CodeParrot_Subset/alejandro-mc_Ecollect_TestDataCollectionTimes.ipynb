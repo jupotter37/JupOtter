{
 "cells": [
  {
   "cell_type": "code",
   "execution_count": 11,
   "metadata": {
    "collapsed": true
   },
   "outputs": [],
   "source": [
    "#test measurements\n",
    "import datetime as dt"
   ]
  },
  {
   "cell_type": "code",
   "execution_count": 4,
   "metadata": {
    "collapsed": true
   },
   "outputs": [],
   "source": [
    "raw = []\n",
    "\n",
    "with open('sensordata','r') as sd:\n",
    "    raw = sd.readlines()"
   ]
  },
  {
   "cell_type": "code",
   "execution_count": 5,
   "metadata": {
    "collapsed": false
   },
   "outputs": [
    {
     "name": "stdout",
     "output_type": "stream",
     "text": [
      "2017-07-06 21:56:54 T23.19P1009.15H50.10\n",
      "\n",
      "2017-07-06 22:12:12 T22.75P1009.00H50.31\n",
      "\n",
      "2017-07-06 22:27:44 T22.33P1009.09H50.35\n",
      "\n",
      "2017-07-06 22:43:08 T22.10P1009.19H49.88\n",
      "\n",
      "2017-07-06 22:58:55 T21.93P1009.01H49.48\n",
      "\n",
      "2017-07-06 23:14:55 T21.81P1008.79H49.65\n",
      "\n",
      "2017-07-06 23:31:08 T21.66P1008.89H50.92\n",
      "\n",
      "2017-07-06 23:46:28 T21.58P1008.71H52.08\n",
      "\n",
      "2017-07-07 00:02:05 T21.49P1008.56H53.97\n",
      "\n",
      "2017-07-07 00:17:34 T21.41P1008.75H55.06\n",
      "\n"
     ]
    }
   ],
   "source": [
    "for i in range(10):\n",
    "    print(raw[i])"
   ]
  },
  {
   "cell_type": "code",
   "execution_count": 9,
   "metadata": {
    "collapsed": true
   },
   "outputs": [],
   "source": [
    "#split data\n",
    "split = list(map(lambda x: x.split(' '),raw))"
   ]
  },
  {
   "cell_type": "code",
   "execution_count": 10,
   "metadata": {
    "collapsed": false
   },
   "outputs": [
    {
     "name": "stdout",
     "output_type": "stream",
     "text": [
      "['2017-07-06', '21:56:54', 'T23.19P1009.15H50.10\\n']\n",
      "['2017-07-06', '22:12:12', 'T22.75P1009.00H50.31\\n']\n",
      "['2017-07-06', '22:27:44', 'T22.33P1009.09H50.35\\n']\n",
      "['2017-07-06', '22:43:08', 'T22.10P1009.19H49.88\\n']\n",
      "['2017-07-06', '22:58:55', 'T21.93P1009.01H49.48\\n']\n",
      "['2017-07-06', '23:14:55', 'T21.81P1008.79H49.65\\n']\n",
      "['2017-07-06', '23:31:08', 'T21.66P1008.89H50.92\\n']\n",
      "['2017-07-06', '23:46:28', 'T21.58P1008.71H52.08\\n']\n",
      "['2017-07-07', '00:02:05', 'T21.49P1008.56H53.97\\n']\n",
      "['2017-07-07', '00:17:34', 'T21.41P1008.75H55.06\\n']\n"
     ]
    }
   ],
   "source": [
    "for i in range(10):\n",
    "    print(split[i])"
   ]
  },
  {
   "cell_type": "code",
   "execution_count": 37,
   "metadata": {
    "collapsed": false
   },
   "outputs": [],
   "source": [
    "mtimes = map(lambda x: x[0] + ' ' + x[1],split)#measurement times\n",
    "mdtimes = map(lambda x: dt.datetime.strptime(x,'%Y-%m-%d %H:%M:%S'),mtimes)#times as datetime objects"
   ]
  },
  {
   "cell_type": "code",
   "execution_count": 38,
   "metadata": {
    "collapsed": false
   },
   "outputs": [
    {
     "name": "stdout",
     "output_type": "stream",
     "text": [
      "15.3\n",
      "15.533333333333333\n",
      "15.4\n",
      "15.783333333333333\n",
      "16.0\n",
      "16.216666666666665\n",
      "15.333333333333334\n",
      "15.616666666666667\n",
      "15.483333333333333\n",
      "15.533333333333333\n",
      "15.583333333333334\n",
      "15.95\n",
      "15.5\n",
      "15.6\n",
      "15.883333333333333\n",
      "15.533333333333333\n",
      "15.483333333333333\n",
      "15.966666666666667\n",
      "15.916666666666666\n",
      "15.95\n",
      "16.0\n",
      "15.9\n",
      "15.983333333333333\n",
      "15.45\n",
      "15.55\n",
      "15.55\n",
      "15.95\n",
      "15.983333333333333\n",
      "15.516666666666667\n",
      "15.616666666666667\n",
      "15.6\n",
      "15.966666666666667\n",
      "16.383333333333333\n",
      "15.5\n",
      "15.533333333333333\n",
      "15.6\n",
      "15.95\n",
      "15.55\n",
      "15.466666666666667\n",
      "15.983333333333333\n",
      "15.966666666666667\n",
      "15.5\n",
      "15.533333333333333\n",
      "15.95\n",
      "15.933333333333334\n",
      "15.916666666666666\n",
      "15.583333333333334\n",
      "16.35\n",
      "15.516666666666667\n",
      "15.533333333333333\n",
      "15.533333333333333\n",
      "15.933333333333334\n",
      "15.6\n",
      "15.516666666666667\n",
      "15.916666666666666\n",
      "15.533333333333333\n",
      "16.083333333333332\n",
      "15.516666666666667\n",
      "15.966666666666667\n",
      "15.533333333333333\n"
     ]
    }
   ],
   "source": [
    "prev = next(mdtimes)\n",
    "for current in mdtimes:\n",
    "    print((current - prev).total_seconds() / 60)\n",
    "    prev = current\n"
   ]
  },
  {
   "cell_type": "code",
   "execution_count": null,
   "metadata": {
    "collapsed": true
   },
   "outputs": [],
   "source": []
  }
 ],
 "metadata": {
  "kernelspec": {
   "display_name": "Python 3",
   "language": "python",
   "name": "python3"
  },
  "language_info": {
   "codemirror_mode": {
    "name": "ipython",
    "version": 3
   },
   "file_extension": ".py",
   "mimetype": "text/x-python",
   "name": "python",
   "nbconvert_exporter": "python",
   "pygments_lexer": "ipython3",
   "version": "3.5.2"
  }
 },
 "nbformat": 4,
 "nbformat_minor": 0
}
