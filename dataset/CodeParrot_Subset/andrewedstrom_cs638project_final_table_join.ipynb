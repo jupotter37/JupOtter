{
 "cells": [
  {
   "cell_type": "code",
   "execution_count": 1,
   "metadata": {
    "collapsed": true
   },
   "outputs": [],
   "source": [
    "#Ignore scikit learn deprication warnings\n",
    "def warn(*args, **kwargs):\n",
    "    pass\n",
    "import warnings\n",
    "warnings.warn = warn\n"
   ]
  },
  {
   "cell_type": "code",
   "execution_count": 2,
   "metadata": {
    "collapsed": false
   },
   "outputs": [
    {
     "name": "stdout",
     "output_type": "stream",
     "text": [
      "C:\\Users\\aparn\\Desktop\\cs638project\\analysis\n"
     ]
    }
   ],
   "source": [
    "import os\n",
    "print(os.getcwd())\n",
    "#os.chdir('../blocking/')\n",
    "import pandas as pd\n",
    "import py_entitymatching as em\n",
    "import math\n",
    "import matplotlib.pyplot as plt\n",
    "import numpy as np\n",
    "from matplotlib import style\n",
    "import re\n",
    "from numpy import genfromtxt"
   ]
  },
  {
   "cell_type": "code",
   "execution_count": 3,
   "metadata": {
    "collapsed": false
   },
   "outputs": [],
   "source": [
    "from sklearn.cross_validation import cross_val_score\n",
    "from sklearn.linear_model import LogisticRegression\n",
    "from sklearn.tree import DecisionTreeClassifier\n",
    "from sklearn.ensemble import RandomForestClassifier\n",
    "from sklearn.svm import *\n",
    "from sklearn.naive_bayes import GaussianNB\n",
    "from sklearn.neighbors import KNeighborsClassifier\n",
    "from sklearn.neural_network import MLPClassifier\n",
    "from sklearn.metrics import *"
   ]
  },
  {
   "cell_type": "code",
   "execution_count": 4,
   "metadata": {
    "collapsed": true
   },
   "outputs": [],
   "source": [
    "t = pd.read_csv(\"../learning/test.csv\", encoding=\"ISO-8859-1\", index_col='_id')\n",
    "#Automatically label the testing data\n",
    "matches = 0;\n",
    "nonmatches = 0;\n",
    "labels = []\n",
    "for index, row in t.iterrows():\n",
    "    if row['rtable_scientific_name'].strip().lower() == row['ltable_scientific_name'].strip().lower():\n",
    "        labels.append(1)\n",
    "        matches = matches + 1\n",
    "    else:\n",
    "        labels.append(0)\n",
    "        nonmatches = nonmatches + 1\n",
    "        \n",
    "t['label'] = labels\n",
    "\n",
    "#cols_to_keep version 2\n",
    "cols_to_keep = ['name_name_jac_qgm_3_qgm_3',\n",
    "                'name_name_jac_dlm_dc0_dlm_dc0', \n",
    "                'countries_countries_jac_qgm_3_qgm_3',\n",
    "                'countries_countries_cos_dlm_dc0_dlm_dc0',\n",
    "                'countries_countries_jac_dlm_dc0_dlm_dc0', \n",
    "                'countries_countries_mel',\n",
    "                'countries_countries_lev_dist', \n",
    "                'countries_countries_lev_sim',\n",
    "                'countries_countries_nmw', \n",
    "                'countries_countries_sw',\n",
    "                'country_count_country_count_exm', \n",
    "                'country_count_country_count_anm',\n",
    "                'country_count_country_count_lev_dist',\n",
    "                'country_count_country_count_lev_sim', \n",
    "                'status_match',\n",
    "                'country_overlap', \n",
    "                'country_count_sim']\n",
    "\n",
    "tr = t[cols_to_keep + ['label']]\n",
    "tr.to_csv('../learning/test_reduced.csv')"
   ]
  },
  {
   "cell_type": "code",
   "execution_count": 5,
   "metadata": {
    "collapsed": false
   },
   "outputs": [
    {
     "name": "stdout",
     "output_type": "stream",
     "text": [
      "train (279, 19)\n",
      "test (120, 19)\n",
      "unlabeled (2179, 18)\n",
      "test (59, 19)\n",
      "[  9.06326700e+06   1.79487179e-01   3.33333333e-01   0.00000000e+00\n",
      "   0.00000000e+00   0.00000000e+00   3.53131313e-01   2.30000000e+01\n",
      "   8.00000000e-02  -1.20000000e+01   2.00000000e+00   0.00000000e+00\n",
      "   5.00000000e-01   1.00000000e+00   0.00000000e+00   0.00000000e+00\n",
      "   0.00000000e+00   1.00000000e+00   0.00000000e+00]\n",
      "(59,)\n",
      "0.0\n",
      "(59, 17)\n",
      "[  0.17948718   0.33333333   0.           0.           0.           0.35313131\n",
      "  23.           0.08       -12.           2.           0.           0.5\n",
      "   1.           0.           0.           0.           1.        ]\n"
     ]
    }
   ],
   "source": [
    "# Awesome sauce.  Now let's fill in missing values rather than dropping them\n",
    "# reload train\n",
    "train = genfromtxt('../learning/train_reduced.csv',delimiter=',')\n",
    "test = genfromtxt('../learning/test_reduced.csv',delimiter=',')\n",
    "unlabeled_r = genfromtxt('../learning/unlabeled_reduced.csv',delimiter=',')\n",
    "\n",
    "\n",
    "# get rid of first row (I think this is just column labels)\n",
    "train = train[1:,:]\n",
    "print('train', train.shape)\n",
    "\n",
    "test = test[1:,:]\n",
    "print('test', test.shape)\n",
    "\n",
    "\n",
    "unlabeled_r = unlabeled_r[1:,:]\n",
    "print('unlabeled', unlabeled_r.shape)\n",
    "\n",
    "\n",
    "\n",
    "##Drop all nans:\n",
    "train = train[~np.isnan(train).any(axis=1)]\n",
    "test = test[~np.isnan(test).any(axis=1)]\n",
    "unlabeled_r = unlabeled_r[~np.isnan(unlabeled_r).any(axis=1)]\n",
    "\n",
    "print('test', test.shape)\n",
    "print(test[6,:])\n",
    "\n",
    "\n",
    "yTrue = test[:,test.shape[1]-1] # label\n",
    "print(yTrue.shape)\n",
    "print(yTrue[6])\n",
    "\n",
    "Xtest = test[:,1:test.shape[1]-1]  # data\n",
    "print(Xtest.shape)\n",
    "print(Xtest[6])\n",
    "\n",
    "y = train[:,train.shape[1]-1] # label\n",
    "X = train[:,1:train.shape[1]-1]  # data\n",
    "\n",
    "unlabeled_X = unlabeled_r[:,1:unlabeled_r.shape[1]]\n"
   ]
  },
  {
   "cell_type": "code",
   "execution_count": 6,
   "metadata": {
    "collapsed": false
   },
   "outputs": [
    {
     "name": "stdout",
     "output_type": "stream",
     "text": [
      "prec 0.894292632307\n",
      "rec 0.898305084746\n",
      "f1 0.894741910632\n"
     ]
    }
   ],
   "source": [
    "# Double check that model is good\n",
    "from sklearn.grid_search import GridSearchCV\n",
    "\n",
    "\n",
    "# SVC tuning\n",
    "#tuned_parameters = [{'kernel': ['rbf'], 'gamma': [1e-3, 1e-4],\n",
    "#                      'C': [1, 10, 100, 1000]},\n",
    "#                     {'kernel': ['linear'], 'C': [1, 10, 100, 1000]}]\n",
    "#clf = GridSearchCV(SVC(C=1), tuned_parameters, cv=10,\n",
    "#                       scoring='f1')\n",
    "clf = SVC(C=1000, cache_size=200, class_weight=None, coef0=0.0, decision_function_shape=None, degree=3, gamma=0.001, kernel='rbf', max_iter=-1, probability=False, random_state=None, shrinking=True, tol=0.001, verbose=False)\n",
    "clf.fit(X,y)\n",
    "\n",
    "# Get parameters from model\n",
    "#params = clf.get_params()\n",
    "#sv = clf.support_vectors\n",
    "#nv = clf.n_support_\n",
    "#a  = clf.dual_coef_\n",
    "#b  = clf._intercept_\n",
    "#cs = clf.classes_\n",
    "\n",
    "\n",
    "\n",
    "yPred = clf.predict(Xtest)\n",
    "prec, rec, f1, whatever = precision_recall_fscore_support(yTrue, yPred,average='weighted')\n",
    "print('prec', prec)\n",
    "print('rec', rec)\n",
    "print('f1', f1)\n"
   ]
  },
  {
   "cell_type": "code",
   "execution_count": 7,
   "metadata": {
    "collapsed": false
   },
   "outputs": [],
   "source": [
    "#import gold reduced and train the classifier on the full thing\n",
    "gold = genfromtxt('../learning/gold_reduced.csv',delimiter=',')\n",
    "\n",
    "\n",
    "# get rid of first row (I think this is just column labels)\n",
    "gold = gold[1:,:]\n",
    "\n",
    "##Drop all nans:\n",
    "gold = gold[~np.isnan(gold).any(axis=1)]\n",
    "\n",
    "gold_y = gold[:,gold.shape[1]-1] # label\n",
    "gold_X = gold[:,1:gold.shape[1]-1]  # data\n"
   ]
  },
  {
   "cell_type": "code",
   "execution_count": 8,
   "metadata": {
    "collapsed": false,
    "scrolled": true
   },
   "outputs": [
    {
     "name": "stderr",
     "output_type": "stream",
     "text": [
      "Metadata file is not present in the given path; proceeding to read the csv file.\n"
     ]
    }
   ],
   "source": [
    "unlabeled = em.read_csv_metadata(\"../learning/unlabeled.csv\", encoding=\"ISO-8859-1\", key='_id')\n",
    "df = unlabeled.dropna(subset = ['_id', 'name_name_jac_qgm_3_qgm_3', 'name_name_jac_dlm_dc0_dlm_dc0',\n",
    "       'countries_countries_jac_qgm_3_qgm_3',\n",
    "       'countries_countries_cos_dlm_dc0_dlm_dc0',\n",
    "       'countries_countries_jac_dlm_dc0_dlm_dc0', 'countries_countries_mel',\n",
    "       'countries_countries_lev_dist', 'countries_countries_lev_sim',\n",
    "       'countries_countries_nmw', 'countries_countries_sw',\n",
    "       'country_count_country_count_exm', 'country_count_country_count_anm',\n",
    "       'country_count_country_count_lev_dist',\n",
    "       'country_count_country_count_lev_sim', 'status_match',\n",
    "       'country_overlap', 'country_count_sim'])\n",
    "\n",
    "#labeled.head()\n",
    "#print(test[2])\n",
    "#labeled_r.columns"
   ]
  },
  {
   "cell_type": "code",
   "execution_count": 9,
   "metadata": {
    "collapsed": false
   },
   "outputs": [],
   "source": [
    "#train model on gold\n",
    "SVC(C=100, cache_size=200, class_weight=None, coef0=0.0,decision_function_shape=None, degree=3, gamma='auto', kernel='linear', max_iter=-1, probability=False, random_state=None, shrinking=True, tol=0.001, verbose=False)\n",
    "clf.fit(gold_X,gold_y)\n",
    "\n",
    "prediction = clf.predict(unlabeled_X)"
   ]
  },
  {
   "cell_type": "code",
   "execution_count": 10,
   "metadata": {
    "collapsed": false,
    "scrolled": true
   },
   "outputs": [],
   "source": [
    "#unlabeled['label'] = prediction\n",
    "#unlabeled\n",
    "#len(dropped)"
   ]
  },
  {
   "cell_type": "code",
   "execution_count": 11,
   "metadata": {
    "collapsed": false
   },
   "outputs": [],
   "source": [
    "add = pd.DataFrame(prediction, columns=['label'])\n",
    "df['label'] = add\n",
    "df = df[df.label != 0]"
   ]
  },
  {
   "cell_type": "code",
   "execution_count": 12,
   "metadata": {
    "collapsed": false
   },
   "outputs": [
    {
     "data": {
      "text/plain": [
       "603"
      ]
     },
     "execution_count": 12,
     "metadata": {},
     "output_type": "execute_result"
    }
   ],
   "source": [
    "len(df)"
   ]
  },
  {
   "cell_type": "code",
   "execution_count": 13,
   "metadata": {
    "collapsed": false
   },
   "outputs": [
    {
     "name": "stderr",
     "output_type": "stream",
     "text": [
      "Metadata file is not present in the given path; proceeding to read the csv file.\n",
      "Metadata file is not present in the given path; proceeding to read the csv file.\n"
     ]
    }
   ],
   "source": [
    "# Read in csv as dataframe\n",
    "rl = em.read_csv_metadata(\"../finalRedlist.csv\", encoding=\"ISO-8859-1\", key='id')\n",
    "# glance at first few rows\n",
    "\n",
    "ar = em.read_csv_metadata(\"../finalArkives.csv\", encoding=\"ISO-8859-1\", key='id')"
   ]
  },
  {
   "cell_type": "code",
   "execution_count": 14,
   "metadata": {
    "collapsed": false
   },
   "outputs": [],
   "source": [
    "C = pd.read_csv('../learning/gold.csv', encoding=\"ISO-8859-1\")"
   ]
  },
  {
   "cell_type": "code",
   "execution_count": 15,
   "metadata": {
    "collapsed": false
   },
   "outputs": [],
   "source": [
    "df = df.append(C, ignore_index=True)"
   ]
  },
  {
   "cell_type": "code",
   "execution_count": 16,
   "metadata": {
    "collapsed": false
   },
   "outputs": [],
   "source": [
    "df = df[df.label != 0]"
   ]
  },
  {
   "cell_type": "code",
   "execution_count": 17,
   "metadata": {
    "collapsed": false
   },
   "outputs": [
    {
     "data": {
      "text/plain": [
       "664"
      ]
     },
     "execution_count": 17,
     "metadata": {},
     "output_type": "execute_result"
    }
   ],
   "source": [
    "len(df)\n"
   ]
  },
  {
   "cell_type": "code",
   "execution_count": 18,
   "metadata": {
    "collapsed": false
   },
   "outputs": [
    {
     "data": {
      "text/plain": [
       "Index(['_id', 'ltable_id', 'rtable_id', 'ltable_name', 'ltable_genus',\n",
       "       'ltable_family', 'ltable_ecology', 'ltable_countries',\n",
       "       'ltable_threat_paragraph', 'ltable_conservation_paragraph',\n",
       "       'ltable_pop_trend', 'ltable_status', 'ltable_country_count',\n",
       "       'ltable_scientific_name', 'rtable_scientific_name', 'rtable_name',\n",
       "       'rtable_kingdom', 'rtable_phylum', 'rtable_class', 'rtable_order',\n",
       "       'rtable_family', 'rtable_genus', 'rtable_size', 'rtable_threats',\n",
       "       'rtable_conservation', 'rtable_threat_keywords',\n",
       "       'rtable_conservation_keywords', 'rtable_status', 'rtable_countries',\n",
       "       'rtable_country_count', 'rtable_tCount', 'label'],\n",
       "      dtype='object')"
      ]
     },
     "execution_count": 18,
     "metadata": {},
     "output_type": "execute_result"
    }
   ],
   "source": [
    "cols_to_drop = ['id.1', \n",
    "                'Unnamed',\n",
    "                'name_name_jac_qgm_3_qgm_3',\n",
    "                'name_name_jac_dlm_dc0_dlm_dc0', \n",
    "                'countries_countries_jac_qgm_3_qgm_3',\n",
    "                'countries_countries_cos_dlm_dc0_dlm_dc0',\n",
    "                'countries_countries_jac_dlm_dc0_dlm_dc0', \n",
    "                'countries_countries_mel',\n",
    "                'countries_countries_lev_dist', \n",
    "                'countries_countries_lev_sim',\n",
    "                'countries_countries_nmw', \n",
    "                'countries_countries_sw',\n",
    "                'country_count_country_count_exm', \n",
    "                'country_count_country_count_anm',\n",
    "                'country_count_country_count_lev_dist',\n",
    "                'country_count_country_count_lev_sim', \n",
    "                'status_match',\n",
    "                'country_overlap', \n",
    "                'country_count_sim'\n",
    "               ]\n",
    "\n",
    "for n in df.columns:\n",
    "    for c in cols_to_drop:\n",
    "        if c in n:\n",
    "            df = df.drop(n,1)\n",
    "df.columns"
   ]
  },
  {
   "cell_type": "code",
   "execution_count": 19,
   "metadata": {
    "collapsed": false,
    "scrolled": true
   },
   "outputs": [
    {
     "data": {
      "text/plain": [
       "Index(['_id', 'ltable_id', 'rtable_id', 'ltable_name', 'ltable_genus',\n",
       "       'ltable_family', 'ltable_ecology', 'ltable_countries',\n",
       "       'ltable_threat_paragraph', 'ltable_conservation_paragraph',\n",
       "       'ltable_pop_trend', 'ltable_status', 'ltable_country_count',\n",
       "       'ltable_scientific_name', 'rtable_scientific_name', 'rtable_name',\n",
       "       'rtable_kingdom', 'rtable_phylum', 'rtable_class', 'rtable_order',\n",
       "       'rtable_family', 'rtable_genus', 'rtable_size', 'rtable_threats',\n",
       "       'rtable_conservation', 'rtable_threat_keywords',\n",
       "       'rtable_conservation_keywords', 'rtable_status', 'rtable_countries',\n",
       "       'rtable_country_count', 'rtable_tCount', 'label'],\n",
       "      dtype='object')"
      ]
     },
     "execution_count": 19,
     "metadata": {},
     "output_type": "execute_result"
    }
   ],
   "source": [
    "df.columns"
   ]
  },
  {
   "cell_type": "code",
   "execution_count": 20,
   "metadata": {
    "collapsed": false
   },
   "outputs": [
    {
     "data": {
      "text/plain": [
       "148"
      ]
     },
     "execution_count": 20,
     "metadata": {},
     "output_type": "execute_result"
    }
   ],
   "source": [
    "count = 0\n",
    "for index, row in df.iterrows():\n",
    "    ltable = str(row['ltable_scientific_name']).lower().strip()\n",
    "    rtable = str(row['rtable_scientific_name']).lower().strip()\n",
    "\n",
    "    if ltable == rtable:\n",
    "        count = count + 1\n",
    "    \n",
    "    else:\n",
    "        df = df.drop(index)\n",
    "len(df)"
   ]
  },
  {
   "cell_type": "code",
   "execution_count": 21,
   "metadata": {
    "collapsed": false
   },
   "outputs": [],
   "source": [
    "df.drop('ltable_scientific_name', axis=1, inplace=True)\n",
    "#df.rename(columns={'ltable_scientific_name':'scientific_name'}, inplace=True)"
   ]
  },
  {
   "cell_type": "code",
   "execution_count": 22,
   "metadata": {
    "collapsed": false
   },
   "outputs": [
    {
     "data": {
      "text/html": [
       "<div>\n",
       "<table border=\"1\" class=\"dataframe\">\n",
       "  <thead>\n",
       "    <tr style=\"text-align: right;\">\n",
       "      <th></th>\n",
       "      <th>_id</th>\n",
       "      <th>ltable_id</th>\n",
       "      <th>rtable_id</th>\n",
       "      <th>ltable_name</th>\n",
       "      <th>ltable_genus</th>\n",
       "      <th>ltable_family</th>\n",
       "      <th>ltable_ecology</th>\n",
       "      <th>ltable_countries</th>\n",
       "      <th>ltable_threat_paragraph</th>\n",
       "      <th>ltable_conservation_paragraph</th>\n",
       "      <th>...</th>\n",
       "      <th>rtable_size</th>\n",
       "      <th>rtable_threats</th>\n",
       "      <th>rtable_conservation</th>\n",
       "      <th>rtable_threat_keywords</th>\n",
       "      <th>rtable_conservation_keywords</th>\n",
       "      <th>rtable_status</th>\n",
       "      <th>rtable_countries</th>\n",
       "      <th>rtable_country_count</th>\n",
       "      <th>rtable_tCount</th>\n",
       "      <th>label</th>\n",
       "    </tr>\n",
       "  </thead>\n",
       "  <tbody>\n",
       "    <tr>\n",
       "      <th>7</th>\n",
       "      <td>1522478</td>\n",
       "      <td>2798</td>\n",
       "      <td>192</td>\n",
       "      <td>caterpillar slug</td>\n",
       "      <td>Laevicaulis</td>\n",
       "      <td>Veronicellidae</td>\n",
       "      <td>NaN</td>\n",
       "      <td>South Africa (KwaZulu-Natal);</td>\n",
       "      <td>NaN</td>\n",
       "      <td>NaN</td>\n",
       "      <td>...</td>\n",
       "      <td>Extended length: up to 90 mm (2)</td>\n",
       "      <td>The caterpillar slug is threatened by habitat loss and degradation as a result of ongoing urbani...</td>\n",
       "      <td>Although there are currently no conservation measures directly targeting the caterpillar slug in...</td>\n",
       "      <td>loss;environment;</td>\n",
       "      <td></td>\n",
       "      <td>Endangered</td>\n",
       "      <td>['India', 'Russia', 'Malaysia', 'China', 'Indonesia']</td>\n",
       "      <td>5</td>\n",
       "      <td>2</td>\n",
       "      <td>1.0</td>\n",
       "    </tr>\n",
       "    <tr>\n",
       "      <th>17</th>\n",
       "      <td>8689373</td>\n",
       "      <td>6618</td>\n",
       "      <td>1097</td>\n",
       "      <td>catalina mahogany</td>\n",
       "      <td>Cercocarpus</td>\n",
       "      <td>Rosaceae</td>\n",
       "      <td>NaN</td>\n",
       "      <td>United States (California);</td>\n",
       "      <td>NaN</td>\n",
       "      <td>NaN</td>\n",
       "      <td>...</td>\n",
       "      <td>Height: 3 - 7 m (2)Trunk diameter: c. 20 cm (2)</td>\n",
       "      <td>Historically a major threat to the Catalina mahogany was the introduction of &lt;strong&gt;herbivores&lt;...</td>\n",
       "      <td>Conservation efforts began in the 1970s with a detailed inventory of the remaining Catalina maho...</td>\n",
       "      <td>loss;invasive;</td>\n",
       "      <td></td>\n",
       "      <td>Critically Endangered</td>\n",
       "      <td>['Ukraine', 'Morocco', 'Russia', 'Hungary']</td>\n",
       "      <td>4</td>\n",
       "      <td>2</td>\n",
       "      <td>1.0</td>\n",
       "    </tr>\n",
       "    <tr>\n",
       "      <th>21</th>\n",
       "      <td>7512846</td>\n",
       "      <td>1511</td>\n",
       "      <td>949</td>\n",
       "      <td>lorenz von liburnaus woolly lemur, western avahi, western woolly lemur</td>\n",
       "      <td>Avahi</td>\n",
       "      <td>Indriidae</td>\n",
       "      <td>Terrestrial</td>\n",
       "      <td>Madagascar;</td>\n",
       "      <td>\\r\\r\\r\\r\\n    The major threat is forest destruction due to annual burning that creates new catt...</td>\n",
       "      <td>['\\n    This species is listed on Appendix I of CITES. ', &lt;span lang=\"EN-CA\"&gt;This species is kno...</td>\n",
       "      <td>...</td>\n",
       "      <td>700 Ã¢?? 900 g (2)</td>\n",
       "      <td>15 species of lemur have become extinct since sea-faring humans arrived on MadagascarÃ¢??s shore...</td>\n",
       "      <td>The western woolly lemur is confirmed in only two protected areas Ankarafantsika Nature Reserve ...</td>\n",
       "      <td>hunting;</td>\n",
       "      <td>protected;</td>\n",
       "      <td>Critically Endangered</td>\n",
       "      <td>['Australia']</td>\n",
       "      <td>1</td>\n",
       "      <td>1</td>\n",
       "      <td>1.0</td>\n",
       "    </tr>\n",
       "    <tr>\n",
       "      <th>23</th>\n",
       "      <td>1191527</td>\n",
       "      <td>4277</td>\n",
       "      <td>150</td>\n",
       "      <td>bluelegged mantella, tular golden frog, tular mantella, tulear golden frog</td>\n",
       "      <td>Mantella</td>\n",
       "      <td>Mantellidae</td>\n",
       "      <td>Terrestrial; Freshwater</td>\n",
       "      <td>Madagascar;</td>\n",
       "      <td>\\r\\r\\r\\r\\n    The main threat to this species is habitat loss due to grazing and fire, and in so...</td>\n",
       "      <td>['\\n    It occurs in Parque Nacional de Isalo. Trade in this species needs to be very carefully ...</td>\n",
       "      <td>...</td>\n",
       "      <td>1 Ã¢?? 3 g (3)</td>\n",
       "      <td>Several thousand blue-legged mantellas are thought to be collected every year from some regions ...</td>\n",
       "      <td>Listing on Appendix II of the Convention on International Trade in Endangered Species provides t...</td>\n",
       "      <td>loss;</td>\n",
       "      <td></td>\n",
       "      <td>Endangered</td>\n",
       "      <td>['Taiwan', 'China', 'Vietnam']</td>\n",
       "      <td>3</td>\n",
       "      <td>1</td>\n",
       "      <td>1.0</td>\n",
       "    </tr>\n",
       "    <tr>\n",
       "      <th>25</th>\n",
       "      <td>4646125</td>\n",
       "      <td>20</td>\n",
       "      <td>587</td>\n",
       "      <td>malagasy giant jumping rat, malagasy giant rat</td>\n",
       "      <td>Hypogeomys</td>\n",
       "      <td>Nesomyidae</td>\n",
       "      <td>Terrestrial</td>\n",
       "      <td>Madagascar;</td>\n",
       "      <td>\\r\\r\\r\\r\\n    The historical decline of this species has been partly through climatic change lea...</td>\n",
       "      <td>['\\n    The new Menabe-Antimena protected area has temporary protection order and covers the ent...</td>\n",
       "      <td>...</td>\n",
       "      <td>1 Ã¢?? 1.5 kg (2)</td>\n",
       "      <td>Like many of MadagascarÃ¢??s unique species the Malagasy giant rat is thought to have become hig...</td>\n",
       "      <td>This large rodent is in urgent need of conservation and its future remains highly uncertain. The...</td>\n",
       "      <td>loss;pet;</td>\n",
       "      <td>captive breeding;protected;</td>\n",
       "      <td>Endangered</td>\n",
       "      <td>['Canada']</td>\n",
       "      <td>1</td>\n",
       "      <td>2</td>\n",
       "      <td>1.0</td>\n",
       "    </tr>\n",
       "  </tbody>\n",
       "</table>\n",
       "<p>5 rows × 31 columns</p>\n",
       "</div>"
      ],
      "text/plain": [
       "        _id  ltable_id  rtable_id  \\\n",
       "7   1522478       2798        192   \n",
       "17  8689373       6618       1097   \n",
       "21  7512846       1511        949   \n",
       "23  1191527       4277        150   \n",
       "25  4646125         20        587   \n",
       "\n",
       "                                                                   ltable_name  \\\n",
       "7                                                             caterpillar slug   \n",
       "17                                                           catalina mahogany   \n",
       "21      lorenz von liburnaus woolly lemur, western avahi, western woolly lemur   \n",
       "23  bluelegged mantella, tular golden frog, tular mantella, tulear golden frog   \n",
       "25                              malagasy giant jumping rat, malagasy giant rat   \n",
       "\n",
       "   ltable_genus   ltable_family           ltable_ecology  \\\n",
       "7   Laevicaulis  Veronicellidae                      NaN   \n",
       "17  Cercocarpus        Rosaceae                      NaN   \n",
       "21        Avahi       Indriidae              Terrestrial   \n",
       "23     Mantella     Mantellidae  Terrestrial; Freshwater   \n",
       "25   Hypogeomys      Nesomyidae              Terrestrial   \n",
       "\n",
       "                  ltable_countries  \\\n",
       "7   South Africa (KwaZulu-Natal);    \n",
       "17    United States (California);    \n",
       "21                    Madagascar;    \n",
       "23                    Madagascar;    \n",
       "25                    Madagascar;    \n",
       "\n",
       "                                                                                ltable_threat_paragraph  \\\n",
       "7                                                                                                   NaN   \n",
       "17                                                                                                  NaN   \n",
       "21  \\r\\r\\r\\r\\n    The major threat is forest destruction due to annual burning that creates new catt...   \n",
       "23  \\r\\r\\r\\r\\n    The main threat to this species is habitat loss due to grazing and fire, and in so...   \n",
       "25  \\r\\r\\r\\r\\n    The historical decline of this species has been partly through climatic change lea...   \n",
       "\n",
       "                                                                          ltable_conservation_paragraph  \\\n",
       "7                                                                                                   NaN   \n",
       "17                                                                                                  NaN   \n",
       "21  ['\\n    This species is listed on Appendix I of CITES. ', <span lang=\"EN-CA\">This species is kno...   \n",
       "23  ['\\n    It occurs in Parque Nacional de Isalo. Trade in this species needs to be very carefully ...   \n",
       "25  ['\\n    The new Menabe-Antimena protected area has temporary protection order and covers the ent...   \n",
       "\n",
       "    ...                                       rtable_size  \\\n",
       "7   ...                  Extended length: up to 90 mm (2)   \n",
       "17  ...   Height: 3 - 7 m (2)Trunk diameter: c. 20 cm (2)   \n",
       "21  ...                                700 Ã¢?? 900 g (2)   \n",
       "23  ...                                    1 Ã¢?? 3 g (3)   \n",
       "25  ...                                 1 Ã¢?? 1.5 kg (2)   \n",
       "\n",
       "                                                                                         rtable_threats  \\\n",
       "7   The caterpillar slug is threatened by habitat loss and degradation as a result of ongoing urbani...   \n",
       "17  Historically a major threat to the Catalina mahogany was the introduction of <strong>herbivores<...   \n",
       "21  15 species of lemur have become extinct since sea-faring humans arrived on MadagascarÃ¢??s shore...   \n",
       "23  Several thousand blue-legged mantellas are thought to be collected every year from some regions ...   \n",
       "25  Like many of MadagascarÃ¢??s unique species the Malagasy giant rat is thought to have become hig...   \n",
       "\n",
       "                                                                                    rtable_conservation  \\\n",
       "7   Although there are currently no conservation measures directly targeting the caterpillar slug in...   \n",
       "17  Conservation efforts began in the 1970s with a detailed inventory of the remaining Catalina maho...   \n",
       "21  The western woolly lemur is confirmed in only two protected areas Ankarafantsika Nature Reserve ...   \n",
       "23  Listing on Appendix II of the Convention on International Trade in Endangered Species provides t...   \n",
       "25  This large rodent is in urgent need of conservation and its future remains highly uncertain. The...   \n",
       "\n",
       "   rtable_threat_keywords  rtable_conservation_keywords  \\\n",
       "7      loss;environment;                                  \n",
       "17        loss;invasive;                                  \n",
       "21              hunting;                    protected;    \n",
       "23                 loss;                                  \n",
       "25             loss;pet;   captive breeding;protected;    \n",
       "\n",
       "            rtable_status  \\\n",
       "7              Endangered   \n",
       "17  Critically Endangered   \n",
       "21  Critically Endangered   \n",
       "23             Endangered   \n",
       "25             Endangered   \n",
       "\n",
       "                                         rtable_countries  \\\n",
       "7   ['India', 'Russia', 'Malaysia', 'China', 'Indonesia']   \n",
       "17            ['Ukraine', 'Morocco', 'Russia', 'Hungary']   \n",
       "21                                          ['Australia']   \n",
       "23                         ['Taiwan', 'China', 'Vietnam']   \n",
       "25                                             ['Canada']   \n",
       "\n",
       "   rtable_country_count rtable_tCount label  \n",
       "7                     5             2   1.0  \n",
       "17                    4             2   1.0  \n",
       "21                    1             1   1.0  \n",
       "23                    3             1   1.0  \n",
       "25                    1             2   1.0  \n",
       "\n",
       "[5 rows x 31 columns]"
      ]
     },
     "execution_count": 22,
     "metadata": {},
     "output_type": "execute_result"
    }
   ],
   "source": [
    "df.head()"
   ]
  },
  {
   "cell_type": "code",
   "execution_count": 23,
   "metadata": {
    "collapsed": false
   },
   "outputs": [],
   "source": [
    "df.rename(columns={'rtable_scientific_name':'scientific_name'}, inplace=True)"
   ]
  },
  {
   "cell_type": "code",
   "execution_count": null,
   "metadata": {
    "collapsed": false
   },
   "outputs": [],
   "source": []
  },
  {
   "cell_type": "code",
   "execution_count": 24,
   "metadata": {
    "collapsed": false
   },
   "outputs": [
    {
     "name": "stdout",
     "output_type": "stream",
     "text": [
      "148\n"
     ]
    }
   ],
   "source": [
    "\n",
    "#sanity check to make sure genus matches in all instances. Looking for 148\n",
    "count = 0\n",
    "for index, row in df.iterrows():\n",
    "    ltable = str(row['ltable_genus']).lower().strip()\n",
    "    rtable = str(row['rtable_genus']).lower().strip()\n",
    "    \n",
    "    if ltable == rtable:\n",
    "        count = count + 1\n",
    "    \n",
    "    #else:\n",
    "        #df = df.drop(index)\n",
    "print(count)"
   ]
  },
  {
   "cell_type": "code",
   "execution_count": 25,
   "metadata": {
    "collapsed": false
   },
   "outputs": [],
   "source": [
    "#yay. lets drop stuff\n",
    "df.drop('ltable_genus', axis=1, inplace=True)\n",
    "df.rename(columns={'rtable_genus':'genus'}, inplace=True)\n",
    "df.drop('ltable_id', axis=1, inplace=True)\n",
    "df.drop('rtable_id', axis=1, inplace=True)"
   ]
  },
  {
   "cell_type": "code",
   "execution_count": 26,
   "metadata": {
    "collapsed": false,
    "scrolled": true
   },
   "outputs": [
    {
     "data": {
      "text/plain": [
       "Index(['_id', 'ltable_name', 'ltable_family', 'ltable_ecology',\n",
       "       'ltable_countries', 'ltable_threat_paragraph',\n",
       "       'ltable_conservation_paragraph', 'ltable_pop_trend', 'ltable_status',\n",
       "       'ltable_country_count', 'scientific_name', 'rtable_name',\n",
       "       'rtable_kingdom', 'rtable_phylum', 'rtable_class', 'rtable_order',\n",
       "       'rtable_family', 'genus', 'rtable_size', 'rtable_threats',\n",
       "       'rtable_conservation', 'rtable_threat_keywords',\n",
       "       'rtable_conservation_keywords', 'rtable_status', 'rtable_countries',\n",
       "       'rtable_country_count', 'rtable_tCount', 'label'],\n",
       "      dtype='object')"
      ]
     },
     "execution_count": 26,
     "metadata": {},
     "output_type": "execute_result"
    }
   ],
   "source": [
    "df.columns"
   ]
  },
  {
   "cell_type": "code",
   "execution_count": 27,
   "metadata": {
    "collapsed": false
   },
   "outputs": [],
   "source": [
    "df.to_csv('labeled.csv')"
   ]
  },
  {
   "cell_type": "code",
   "execution_count": null,
   "metadata": {
    "collapsed": true
   },
   "outputs": [],
   "source": []
  }
 ],
 "metadata": {
  "anaconda-cloud": {},
  "kernelspec": {
   "display_name": "Python 3",
   "language": "python",
   "name": "python3"
  },
  "language_info": {
   "codemirror_mode": {
    "name": "ipython",
    "version": 3
   },
   "file_extension": ".py",
   "mimetype": "text/x-python",
   "name": "python",
   "nbconvert_exporter": "python",
   "pygments_lexer": "ipython3",
   "version": "3.5.2"
  }
 },
 "nbformat": 4,
 "nbformat_minor": 1
}
