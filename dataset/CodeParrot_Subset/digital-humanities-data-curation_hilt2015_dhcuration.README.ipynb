{
 "cells": [
  {
   "cell_type": "markdown",
   "metadata": {},
   "source": [
    "#README\n",
    "\n",
    "This is our readme file about Data Curation. We are the Masters of the Universe (and you can, too...)\n",
    "\n",
    "[IMAGE HERE: show in browser.]\n",
    "[4 tabs: directory of files, json, open refine, and notebook with commands.] \n",
    "[Then end in image.]\n",
    "\n",
    "When is a toy not a toy? (When it is a record...: SHOW record here.)\n",
    "\n",
    "* First, you have to have a file structure...\n",
    "\n",
    "###Exploration\n",
    "\n",
    "* \"Mattel\" at the V&A?: 2 commands plus json\n",
    "* This stage shows how to use a structured set of results from the V&A Museum that we obtained by using the V&A API to query the word \"Mattel.\" Doing this returned this record structure as a json file. \n",
    "\n",
    "[show file]\n",
    "\n",
    "* code example: using the API\n",
    "\n",
    "Here, we're reading the json file with shell command \"cat,\" then piping it into several instances of the tool \"jq.\" \n",
    "\n",
    "The first command lists all the values of the object key records; the second command grabs all the keys.\n",
    "\n",
    "* record structure\n",
    "\n",
    "The value of \"records\" is an array. From there, we grab each item of the array, and each item of the array is an object. We want all the keys of the \"fields\" object, as well as the values of the \"title\" and \"object.\"\n",
    "\n",
    "\n",
    "###Evaluation\n",
    "\n",
    "* Open (formerly Google) Refine\n",
    "(plug json into Open Refine)\n",
    "\n",
    "* What this helps you do: get data organized (cluster and edit [on the \"Artist\" field], plus facet, filter, etc...)\n",
    "\n",
    "###Design\n",
    "\n",
    "* Which fields don't you need? (Museum-specific ones: \"Last checked,\" etc...)\n",
    "* This data comes from the V&A: when you import other people's data, you get more than you need. (Usually.)\n",
    "* What do you -- or your users -- care about? (Who's your data audience?)\n",
    "\n",
    "###Transformation\n",
    "\n",
    "* Obtained as json files\n",
    "* Linking (values of) entities to authority files (is Battle Cat in VIAF? Probably not, but you can look elsewhere...)\n",
    "* linking \"Mattel\"\n",
    "* \"title\" + \"object\": make a google query to make a large, merged image group\n",
    "* explaining how we did this is important: not just a Google search\n",
    "\n",
    "###Documentation\n",
    "\n",
    "* Do this. Often. Redundantly. Again.\n",
    "* README.txt files\n",
    "* \"data dictionaries\": why you want them\n",
    "\n",
    "###Sharing (yes, you want to...)\n",
    "\n",
    "* GenCon! \n"
   ]
  },
  {
   "cell_type": "code",
   "execution_count": null,
   "metadata": {
    "collapsed": true
   },
   "outputs": [],
   "source": []
  }
 ],
 "metadata": {
  "kernelspec": {
   "display_name": "Python 3",
   "language": "python",
   "name": "python3"
  },
  "language_info": {
   "codemirror_mode": {
    "name": "ipython",
    "version": 3
   },
   "file_extension": ".py",
   "mimetype": "text/x-python",
   "name": "python",
   "nbconvert_exporter": "python",
   "pygments_lexer": "ipython3",
   "version": "3.4.3"
  }
 },
 "nbformat": 4,
 "nbformat_minor": 0
}
