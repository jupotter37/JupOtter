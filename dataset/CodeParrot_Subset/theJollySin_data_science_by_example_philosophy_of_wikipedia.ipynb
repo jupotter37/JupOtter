{
 "cells": [
  {
   "cell_type": "code",
   "execution_count": 8,
   "metadata": {
    "collapsed": false
   },
   "outputs": [],
   "source": [
    "from time import sleep\n",
    "from bs4 import BeautifulSoup\n",
    "import requests\n",
    "\n",
    "\n",
    "def find_next_wikipedia_link(url):\n",
    "    '''Given a Wikipedia URL, find the first Wikipedia URL\n",
    "    on the page, not including disambiguation or pronunciation.\n",
    "    '''\n",
    "    # Be polite to Wikipedia. It gives us so much.\n",
    "    sleep(30)\n",
    "    \n",
    "    # pull the HTML text and parse it as XML  https://en.wikipedia.org/wiki/Help:IPA_for_English\n",
    "    html = requests.get(url).text\n",
    "    soup = BeautifulSoup(html)\n",
    "    if soup.find('table'):\n",
    "        soup.find('table').decompose()\n",
    "    if soup.find('table'):\n",
    "        soup.find('table').decompose()\n",
    "    \n",
    "    # open up each paragraph and look for attribute links\n",
    "    for paragraph in soup.find_all('p'):\n",
    "        attrs = paragraph.find_all('a')\n",
    "        for attr in attrs:\n",
    "            link = attr.get('href')\n",
    "            if not link: continue\n",
    "            if not link.startswith('/wiki/'): continue\n",
    "            if link.startswith('/wiki/Help'): continue\n",
    "            if 'cite_note' in link: continue\n",
    "            if link.endswith('.ogg'): continue\n",
    "            return link\n",
    "    \n",
    "    return None\n"
   ]
  },
  {
   "cell_type": "code",
   "execution_count": 9,
   "metadata": {
    "collapsed": false
   },
   "outputs": [
    {
     "name": "stdout",
     "output_type": "stream",
     "text": [
      "/wiki/Ancient_Greek\n",
      "/wiki/Metalsmith\n",
      "/wiki/M%C4%81ori_language\n",
      "/wiki/Physical_body\n"
     ]
    }
   ],
   "source": [
    "print(find_next_wikipedia_link('https://en.wikipedia.org/wiki/Mathematics'))\n",
    "print(find_next_wikipedia_link('https://en.wikipedia.org/wiki/Blacksmith'))\n",
    "print(find_next_wikipedia_link('https://en.wikipedia.org/wiki/Kakapo'))\n",
    "print(find_next_wikipedia_link('https://en.wikipedia.org/wiki/Life'))"
   ]
  },
  {
   "cell_type": "code",
   "execution_count": 10,
   "metadata": {
    "collapsed": true
   },
   "outputs": [],
   "source": [
    "def find_philosophy(url):\n",
    "    '''The theory goes that if you follow the first link on\n",
    "    any Wikipedia article, you will always find your way back\n",
    "    to the main Philosophy article. This function will test that\n",
    "    theory, given a particular starting link.\n",
    "    It will also trap the case of an infinite loop.'''\n",
    "    # This is a partial URL, to support all languages.\n",
    "    PHILOSOPHY_URL = 'wikipedia.org/wiki/Philosophy'\n",
    "    BASE_URL = 'https://en.wikipedia.org'\n",
    "    pages = [url]\n",
    "    current_url = url\n",
    "    while not current_url.endswith(PHILOSOPHY_URL):\n",
    "        current_url = BASE_URL + find_next_wikipedia_link(current_url)\n",
    "        if current_url in pages:\n",
    "            pages.append(current_url)\n",
    "            return pages\n",
    "        pages.append(current_url)\n",
    "    \n",
    "    return pages"
   ]
  },
  {
   "cell_type": "code",
   "execution_count": 11,
   "metadata": {
    "collapsed": false
   },
   "outputs": [
    {
     "name": "stdout",
     "output_type": "stream",
     "text": [
      "\n",
      "Philosophy found!\n",
      "\n",
      "23 steps:\n",
      "Kakapo\n",
      "M%C4%81ori_language\n",
      "Eastern_Polynesian_languages\n",
      "Language_family\n",
      "Language\n",
      "Communication\n",
      "Latin\n",
      "Classical_language\n",
      "Literature\n",
      "Sense\n",
      "Physiological\n",
      "Ancient_Greek_language\n",
      "Greek_language\n",
      "Modern_Greek\n",
      "Colloquialism\n",
      "Word\n",
      "Linguistics\n",
      "Science\n",
      "Knowledge\n",
      "Awareness\n",
      "Conscious\n",
      "Quality_(philosophy)\n",
      "Philosophy\n"
     ]
    }
   ],
   "source": [
    "def print_philosophy(link_list):\n",
    "    '''Just a pretty-print helper method.'''\n",
    "    if link_list[-1].endswith('/Philosophy'):\n",
    "        print('\\nPhilosophy found!\\n')\n",
    "    else:\n",
    "        print('\\nPhilosophy not found!\\n')\n",
    "    print(str(len(link_list)) + ' steps:')\n",
    "    for link in link_list:\n",
    "        print(link.split('/')[-1])\n",
    "\n",
    "\n",
    "pages = find_philosophy('https://en.wikipedia.org/wiki/Kakapo')\n",
    "print_philosophy(pages)"
   ]
  },
  {
   "cell_type": "code",
   "execution_count": 91,
   "metadata": {
    "collapsed": false
   },
   "outputs": [
    {
     "name": "stdout",
     "output_type": "stream",
     "text": [
      "\n",
      "Philosophy found!\n",
      "\n",
      "21 steps:\n",
      "Doctor_Who\n",
      "British_television_science_fiction\n",
      "BBC\n",
      "United_Kingdom\n",
      "Sovereign_state\n",
      "International_law\n",
      "State_(polity)\n",
      "Political_division\n",
      "Region\n",
      "Geography\n",
      "Greek_language\n",
      "Modern_Greek\n",
      "Colloquialism\n",
      "Word\n",
      "Linguistics\n",
      "Science\n",
      "Knowledge\n",
      "Awareness\n",
      "Conscious\n",
      "Quality_(philosophy)\n",
      "Philosophy\n"
     ]
    }
   ],
   "source": [
    "pages = find_philosophy('https://en.wikipedia.org/wiki/Doctor_Who')\n",
    "print_philosophy(pages)"
   ]
  },
  {
   "cell_type": "code",
   "execution_count": 93,
   "metadata": {
    "collapsed": false
   },
   "outputs": [
    {
     "name": "stdout",
     "output_type": "stream",
     "text": [
      "\n",
      "Philosophy found!\n",
      "\n",
      "8 steps:\n",
      "Norman_Borlaug\n",
      "Biologist\n",
      "Scientist\n",
      "Knowledge\n",
      "Awareness\n",
      "Conscious\n",
      "Quality_(philosophy)\n",
      "Philosophy\n"
     ]
    }
   ],
   "source": [
    "pages = find_philosophy('https://en.wikipedia.org/wiki/Norman_Borlaug')\n",
    "print_philosophy(pages)"
   ]
  },
  {
   "cell_type": "code",
   "execution_count": 94,
   "metadata": {
    "collapsed": false
   },
   "outputs": [
    {
     "name": "stdout",
     "output_type": "stream",
     "text": [
      "\n",
      "Philosophy found!\n",
      "\n",
      "22 steps:\n",
      "Arya_Stark\n",
      "Fictional_character\n",
      "Person\n",
      "Human\n",
      "Homo_sapiens\n",
      "Latin\n",
      "Classical_language\n",
      "Literature\n",
      "Sense\n",
      "Physiological\n",
      "Ancient_Greek_language\n",
      "Greek_language\n",
      "Modern_Greek\n",
      "Colloquialism\n",
      "Word\n",
      "Linguistics\n",
      "Science\n",
      "Knowledge\n",
      "Awareness\n",
      "Conscious\n",
      "Quality_(philosophy)\n",
      "Philosophy\n"
     ]
    }
   ],
   "source": [
    "pages = find_philosophy('https://en.wikipedia.org/wiki/Arya_Stark')\n",
    "print_philosophy(pages)"
   ]
  },
  {
   "cell_type": "code",
   "execution_count": 13,
   "metadata": {
    "collapsed": false
   },
   "outputs": [
    {
     "name": "stdout",
     "output_type": "stream",
     "text": [
      "\n",
      "Philosophy found!\n",
      "\n",
      "24 steps:\n",
      "Dune_%28novel%29\n",
      "Epic_(genre)\n",
      "Genre\n",
      "French_language\n",
      "Romance_languages\n",
      "Vulgar_Latin\n",
      "Classical_Latin\n",
      "Latin\n",
      "Classical_language\n",
      "Literature\n",
      "Sense\n",
      "Physiological\n",
      "Ancient_Greek_language\n",
      "Greek_language\n",
      "Modern_Greek\n",
      "Colloquialism\n",
      "Word\n",
      "Linguistics\n",
      "Science\n",
      "Knowledge\n",
      "Awareness\n",
      "Conscious\n",
      "Quality_(philosophy)\n",
      "Philosophy\n"
     ]
    }
   ],
   "source": [
    "pages = find_philosophy('https://en.wikipedia.org/wiki/Dune_%28novel%29')\n",
    "print_philosophy(pages)"
   ]
  },
  {
   "cell_type": "code",
   "execution_count": null,
   "metadata": {
    "collapsed": true
   },
   "outputs": [],
   "source": []
  }
 ],
 "metadata": {
  "kernelspec": {
   "display_name": "Python 3",
   "language": "python",
   "name": "python3"
  },
  "language_info": {
   "codemirror_mode": {
    "name": "ipython",
    "version": 3
   },
   "file_extension": ".py",
   "mimetype": "text/x-python",
   "name": "python",
   "nbconvert_exporter": "python",
   "pygments_lexer": "ipython3",
   "version": "3.4.3"
  }
 },
 "nbformat": 4,
 "nbformat_minor": 0
}
