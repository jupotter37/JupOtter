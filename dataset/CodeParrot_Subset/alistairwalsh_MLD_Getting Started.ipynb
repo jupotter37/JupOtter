{
 "cells": [
  {
   "cell_type": "code",
   "execution_count": 2,
   "metadata": {
    "collapsed": false
   },
   "outputs": [],
   "source": [
    "from IPython.display import Image, HTML, IFrame"
   ]
  },
  {
   "cell_type": "markdown",
   "metadata": {},
   "source": [
    "# Machine Learning with OpenCV for computer vision\n",
    "These lessons have been written with a certain type of learner in mind. They assume you are comfortable with writing and using Python code. They also assume a general understanding of statistical concepts. Nothing too esoteric but you should have a working knowledge of regression and significance. \n",
    "\n",
    "![opencvlogo](images/OpenCV_logo.png)"
   ]
  },
  {
   "cell_type": "markdown",
   "metadata": {},
   "source": [
    "These lessons have been written with a certain type of learner in mind. They assume you are comfortable with writing and using Python code. They also assume a general understanding of statistical concepts. Nothing too esoteric but you should have a working knowledge of regression and significance. "
   ]
  },
  {
   "cell_type": "code",
   "execution_count": 1,
   "metadata": {
    "collapsed": false
   },
   "outputs": [
    {
     "ename": "NameError",
     "evalue": "name 'Image' is not defined",
     "output_type": "error",
     "traceback": [
      "\u001b[0;31m---------------------------------------------------------------------------\u001b[0m",
      "\u001b[0;31mNameError\u001b[0m                                 Traceback (most recent call last)",
      "\u001b[0;32m<ipython-input-1-84423cf22012>\u001b[0m in \u001b[0;36m<module>\u001b[0;34m()\u001b[0m\n\u001b[0;32m----> 1\u001b[0;31m \u001b[0mImage\u001b[0m\u001b[0;34m(\u001b[0m\u001b[0;34m'images/OpenCV_logo.png'\u001b[0m\u001b[0;34m)\u001b[0m\u001b[0;34m\u001b[0m\u001b[0m\n\u001b[0m",
      "\u001b[0;31mNameError\u001b[0m: name 'Image' is not defined"
     ]
    }
   ],
   "source": [
    "Image('images/OpenCV_logo.png')"
   ]
  },
  {
   "cell_type": "markdown",
   "metadata": {},
   "source": [
    "OpenCV (Open Source Computer Vision) is an open-source BSD-licensed library that includes hundreds of computer vision algorithms. It is:\n",
    "\n",
    "* Cross-platform: Windows, Mac, Linux (even Raspberry Pi)\n",
    "* Languages: C++, C, Python & Java\n",
    "* Wrappers: MATLAB/OCTAVE, C#, Ruby, etc\n",
    "* Fast - utilizing threading, CUDA & OpenCL\n",
    "* Python interface uses NumPy matrices for images\n",
    "* Able to be integrated into iPhone and Android apps\n",
    "* Includes machine learning algorithms (although we'll be using scikit-learn)\n",
    "\n",
    "It can be downloaded for free from their [website](http://opencv.org) or installed via a package manager like homebrew on Macs."
   ]
  },
  {
   "cell_type": "markdown",
   "metadata": {},
   "source": [
    "What is an image?"
   ]
  },
  {
   "cell_type": "markdown",
   "metadata": {
    "collapsed": true
   },
   "source": [
    "## What is OpenCV?\n",
    "\n",
    "OpenCV (Open Source Computer Vision) is an open-source BSD-licensed library that includes hundreds of computer vision algorithms. It is:\n",
    "\n",
    "* Cross-platform: Windows, Mac, Linux (even Raspberry Pi)\n",
    "* Languages: C++, C, Python & Java\n",
    "* Wrappers: MATLAB/OCTAVE, C#, Ruby, etc\n",
    "* Fast - utilizing threading, CUDA & OpenCL\n",
    "* Python interface uses NumPy matrices for images\n",
    "* Able to be integrated into iPhone and Android apps\n",
    "* Includes machine learning algorithms (although we'll be using scikit-learn)\n",
    "\n",
    "It can be downloaded for free from their [website](http://opencv.org) or installed via a package manager like homebrew on Macs.\n",
    "\n",
    "What is machine learning?\n",
    "Quick intro: statistics, training, un/supervised\n",
    "\n",
    "\n",
    "What is an image?\n",
    "Images, pixels, grayscale, colour, show pic of image matrix."
   ]
  },
  {
   "cell_type": "code",
   "execution_count": null,
   "metadata": {
    "collapsed": true
   },
   "outputs": [],
   "source": []
  }
 ],
 "metadata": {
  "kernelspec": {
   "display_name": "Python 3",
   "language": "python",
   "name": "python3"
  },
  "language_info": {
   "codemirror_mode": {
    "name": "ipython",
    "version": 3
   },
   "file_extension": ".py",
   "mimetype": "text/x-python",
   "name": "python",
   "nbconvert_exporter": "python",
   "pygments_lexer": "ipython3",
   "version": "3.5.0"
  }
 },
 "nbformat": 4,
 "nbformat_minor": 0
}
