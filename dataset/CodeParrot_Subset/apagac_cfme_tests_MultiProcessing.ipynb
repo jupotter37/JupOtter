{
 "cells": [
  {
   "cell_type": "markdown",
   "metadata": {},
   "source": [
    "## Multiprocessing in Python 3\n",
    "\n",
    "   ### Threads vs Processes\n",
    "   ### Thread/Process execution, timing\n",
    "   ### Direct Thread/Process Instantiation\n",
    "   ### Thread/Process Pools\n",
    "   ### Iteration with complex function signatures\n",
    "   ### Storing/Fetching data with Queues"
   ]
  },
  {
   "cell_type": "markdown",
   "metadata": {},
   "source": [
    "## Threads vs Processes\n",
    "\n",
    "* Thread\n",
    "  * Is bound to processor that python process running on\n",
    "  * Is controlled by Global Interpreter Lock (GIL)\n",
    "    * Single python bytecode executed at a time by any thread\n",
    "    \n",
    "* Process\n",
    "  * Uses multiple processors\n",
    "  * Concurrency between threads and processes (local and remote)\n",
    "  * Ignores GIL\n"
   ]
  },
  {
   "cell_type": "code",
   "execution_count": 1,
   "metadata": {},
   "outputs": [],
   "source": [
    "from os import getpid, getppid\n",
    "from time import sleep\n",
    "\n",
    "def printer(val, wait=0):\n",
    "    sleep(wait)\n",
    "    print('Pid: {}, PPid: {}, Value: {}'\n",
    "          .format(getpid(), getppid(), val))\n",
    "\n",
    "\n"
   ]
  },
  {
   "cell_type": "markdown",
   "metadata": {},
   "source": [
    "## Process Instantiation\n",
    "\n",
    "Let's start with most basic example of spawning new process to run a function"
   ]
  },
  {
   "cell_type": "code",
   "execution_count": 2,
   "metadata": {},
   "outputs": [
    {
     "name": "stdout",
     "output_type": "stream",
     "text": [
      "Starting demo...\n",
      "Pid: 18625, PPid: 18613, Value: hello demo\n"
     ]
    }
   ],
   "source": [
    "from multiprocessing import Process\n",
    "\n",
    "print('Starting demo...')\n",
    "p = Process(target=printer, args=('hello demo',))\n",
    "p.start()"
   ]
  },
  {
   "cell_type": "markdown",
   "metadata": {},
   "source": [
    "### Process timing\n",
    "\n",
    "- Use printer's delay to see process timing\n",
    "- Track multiple process objects\n",
    "- Execute code in main process while chile process is running\n",
    "- Use Process.join() to wait for processes to finish"
   ]
  },
  {
   "cell_type": "code",
   "execution_count": 3,
   "metadata": {},
   "outputs": [
    {
     "name": "stdout",
     "output_type": "stream",
     "text": [
      "Pid: 18628, PPid: 18613, Value: immediate\n",
      "Not waiting for proccesses to finish...\n",
      "Pid: 18629, PPid: 18613, Value: delayed\n",
      "Pid: 18632, PPid: 18613, Value: eternity\n",
      "After processes...\n"
     ]
    }
   ],
   "source": [
    "proc_list = []\n",
    "for values in [('immediate', 0), ('delayed', 2), ('eternity', 5)]:\n",
    "    p = Process(target=printer, args=values)\n",
    "    proc_list.append(p)\n",
    "    p.start()  # start execution of printer\n",
    "\n",
    "print('Not waiting for proccesses to finish...')\n",
    "    \n",
    "[p.join() for p in proc_list]\n",
    "\n",
    "print('After processes...')"
   ]
  },
  {
   "cell_type": "markdown",
   "metadata": {},
   "source": [
    "## Process Pool\n",
    "\n",
    "- Worker processes instead of direct instantiation\n",
    "- Context manager to handle starting/joining child processes\n",
    "- Pool.map() works like default python `map(f, args)` function\n",
    "- Pool.map() Does not unpack args"
   ]
  },
  {
   "cell_type": "code",
   "execution_count": 4,
   "metadata": {},
   "outputs": [
    {
     "name": "stdout",
     "output_type": "stream",
     "text": [
      "Pid: 18640, PPid: 18613, Value: Its\n",
      "Pid: 18641, PPid: 18613, Value: ('A', 5)\n",
      "Pid: 18642, PPid: 18613, Value: Race\n"
     ]
    }
   ],
   "source": [
    "from multiprocessing.pool import Pool\n",
    "\n",
    "with Pool(3) as pool:\n",
    "    pool.map(printer, ['Its', ('A', 5), 'Race'])\n",
    "    # each worker process executes one function"
   ]
  },
  {
   "cell_type": "markdown",
   "metadata": {},
   "source": [
    "## Process + args/kwargs iteration with starmap"
   ]
  },
  {
   "cell_type": "code",
   "execution_count": 5,
   "metadata": {},
   "outputs": [
    {
     "name": "stdout",
     "output_type": "stream",
     "text": [
      "Pid: 18652, PPid: 18613, Value: Its\n",
      "Pid: 18652, PPid: 18613, Value: Race\n",
      "Pid: 18653, PPid: 18613, Value: A\n"
     ]
    }
   ],
   "source": [
    "with Pool(2) as pool:\n",
    "    pool.starmap(printer, [('Its',), ('A', 2), ('Race',)])\n",
    "    # one worker will execute 2 functions, one worker will execute the 'slow' function"
   ]
  },
  {
   "cell_type": "markdown",
   "metadata": {},
   "source": [
    "### Starmap is the bomb"
   ]
  },
  {
   "cell_type": "code",
   "execution_count": 6,
   "metadata": {},
   "outputs": [],
   "source": [
    "def pretend_delete_method(provider, vm_name):\n",
    "    print('Pretend delete: {} on {}. (Pid: {})'\n",
    "          .format(vm_name, provider, getpid()))    \n",
    "    \n",
    "# Assuming we fetched a list of vm names on providers we want to cleanup...\n",
    "example_provider_vm_lists = dict(\n",
    "    vmware=['test_vm_1', 'test_vm_2'],\n",
    "    rhv=['test_vm_3', 'test_vm_4'],\n",
    "    osp=['test_vm_5', 'test_vm_6'],\n",
    ")"
   ]
  },
  {
   "cell_type": "code",
   "execution_count": 7,
   "metadata": {},
   "outputs": [
    {
     "name": "stdout",
     "output_type": "stream",
     "text": [
      "Pretend delete: test_vm_1 on vmware. (Pid: 18613)Pretend delete: test_vm_2 on vmware. (Pid: 18613)\n",
      "Pretend delete: test_vm_3 on rhv. (Pid: 18613)\n",
      "Pretend delete: test_vm_4 on rhv. (Pid: 18613)\n",
      "Pretend delete: test_vm_5 on osp. (Pid: 18613)\n",
      "Pretend delete: test_vm_6 on osp. (Pid: 18613)\n",
      "\n"
     ]
    }
   ],
   "source": [
    "# don't hate me for nested comprehension here - building tuples of provider+name\n",
    "from multiprocessing.pool import ThreadPool\n",
    "\n",
    "# Threadpool instead of process pool, same interface\n",
    "with ThreadPool(6) as pool:\n",
    "    pool.starmap(\n",
    "        pretend_delete_method, \n",
    "        [(key, vm) \n",
    "         for key, vms \n",
    "         in example_provider_vm_lists.items() \n",
    "         for vm in vms]\n",
    "    )"
   ]
  },
  {
   "cell_type": "markdown",
   "metadata": {},
   "source": [
    "## Locking\n",
    "\n",
    "- semaphore-type object that can be acquired and released\n",
    "- When acquired, only thread that has the lock can run\n",
    "- Necessary when using shared objects"
   ]
  },
  {
   "cell_type": "code",
   "execution_count": 8,
   "metadata": {},
   "outputs": [],
   "source": [
    "# Printing is thread safe, but will sometimes print separate messages on the same line (above)\n",
    "# Use a lock around print\n",
    "from multiprocessing import Lock\n",
    "\n",
    "lock = Lock()\n",
    "def safe_printing_method(provider, vm_name):\n",
    "    with lock:\n",
    "        print('Pretend delete: {} on {}. (Pid: {})'\n",
    "              .format(vm_name, provider, getpid()))"
   ]
  },
  {
   "cell_type": "code",
   "execution_count": 9,
   "metadata": {},
   "outputs": [
    {
     "name": "stdout",
     "output_type": "stream",
     "text": [
      "Pretend delete: test_vm_1 on vmware. (Pid: 18613)\n",
      "Pretend delete: test_vm_2 on vmware. (Pid: 18613)\n",
      "Pretend delete: test_vm_3 on rhv. (Pid: 18613)\n",
      "Pretend delete: test_vm_4 on rhv. (Pid: 18613)\n",
      "Pretend delete: test_vm_5 on osp. (Pid: 18613)\n",
      "Pretend delete: test_vm_6 on osp. (Pid: 18613)\n"
     ]
    }
   ],
   "source": [
    "with ThreadPool(6) as pool:\n",
    "    pool.starmap(\n",
    "        safe_printing_method, \n",
    "        [(key, vm) for key, vms in example_provider_vm_lists.items() for vm in vms])"
   ]
  },
  {
   "cell_type": "markdown",
   "metadata": {},
   "source": [
    "## Queues\n",
    "\n",
    "- Store data/objects in child thread/processes and retrieve in parent\n",
    "- FIFO stack with put, get, and empty methods\n",
    "\n",
    "- multiprocessing.Queue\n",
    "  - cannot be pickled and thus can't be passed to Pool methods\n",
    "  - can deadlock with improper join use\n",
    "- multiprocessing.Manager.Queue\n",
    "  - is proxy, can be pickled\n",
    "  - can be shared between processes"
   ]
  },
  {
   "cell_type": "code",
   "execution_count": 10,
   "metadata": {},
   "outputs": [
    {
     "name": "stdout",
     "output_type": "stream",
     "text": [
      "Results are in: [None, True, None, None, None, True]\n",
      "Failures are in: ['test_vm_1', 'test_vm_4', 'test_vm_3', 'test_vm_5']\n"
     ]
    }
   ],
   "source": [
    "from multiprocessing import Manager\n",
    "from random import randint\n",
    "\n",
    "# Create instance of manager\n",
    "manager = Manager()\n",
    "\n",
    "def multiple_output_method(provider, vm_name, fail_queue):\n",
    "    # random success of called method\n",
    "    if randint(0, 1):\n",
    "        return True\n",
    "    else:\n",
    "        # Store our failure vm on the queue\n",
    "        fail_queue.put(vm_name)\n",
    "        return None\n",
    "\n",
    "# Create queue object to give to child processes\n",
    "queue_for_failures = manager.Queue()\n",
    "with Pool(2) as pool:\n",
    "    results = pool.starmap(\n",
    "        multiple_output_method, \n",
    "        [(key, vm, queue_for_failures)\n",
    "         for key, vms\n",
    "         in example_provider_vm_lists.items()\n",
    "         for vm in vms]\n",
    "    )\n",
    "\n",
    "print('Results are in: {}'.format(results))\n",
    "\n",
    "failed_vms = []\n",
    "# get items from the queue while its not empty\n",
    "while not queue_for_failures.empty():\n",
    "    failed_vms.append(queue_for_failures.get())\n",
    "    \n",
    "print('Failures are in: {}'.format(failed_vms))"
   ]
  }
 ],
 "metadata": {
  "kernelspec": {
   "display_name": "Python 3",
   "language": "python",
   "name": "python3"
  },
  "language_info": {
   "codemirror_mode": {
    "name": "ipython",
    "version": 3
   },
   "file_extension": ".py",
   "mimetype": "text/x-python",
   "name": "python",
   "nbconvert_exporter": "python",
   "pygments_lexer": "ipython3",
   "version": "3.6.8"
  }
 },
 "nbformat": 4,
 "nbformat_minor": 2
}
