{
 "cells": [
  {
   "cell_type": "code",
   "execution_count": 1,
   "metadata": {
    "code_folding": [
     5
    ],
    "collapsed": false,
    "slideshow": {
     "slide_type": "skip"
    }
   },
   "outputs": [
    {
     "name": "stderr",
     "output_type": "stream",
     "text": [
      "/Users/ivan/anaconda/lib/python2.7/site-packages/IPython/html.py:14: ShimWarning: The `IPython.html` package has been deprecated. You should import from `notebook` instead. `IPython.html.widgets` has moved to `ipywidgets`.\n",
      "  \"`IPython.html.widgets` has moved to `ipywidgets`.\", ShimWarning)\n",
      "/Users/ivan/anaconda/lib/python2.7/site-packages/IPython/utils/path.py:282: UserWarning: locate_profile has moved to the IPython.paths module\n",
      "  warn(\"locate_profile has moved to the IPython.paths module\")\n"
     ]
    }
   ],
   "source": [
    "from IPython.html.services.config import ConfigManager\n",
    "from IPython.utils.path import locate_profile\n",
    "cm = ConfigManager(profile_dir=locate_profile(get_ipython().profile))\n",
    "cm.update('livereveal', {\n",
    "              'theme': 'sky',\n",
    "              'transition': 'zoom',\n",
    "              'start_slideshow_at': 'selected',\n",
    "})\n",
    "%load_ext tikzmagic"
   ]
  },
  {
   "cell_type": "markdown",
   "metadata": {
    "slideshow": {
     "slide_type": "slide"
    }
   },
   "source": [
    "# Low-rank and time integration\n",
    "##### Ivan Oseledets\n",
    "##### Skolkovo Institute of Science and Technology\n",
    "##### Based on joint work with C. Lubich, B. Vandereycken, D. Kolesnikov\n",
    "\n",
    "\n",
    "\n"
   ]
  },
  {
   "cell_type": "markdown",
   "metadata": {
    "slideshow": {
     "slide_type": "slide"
    }
   },
   "source": [
    "## Outline of the talk\n",
    "\n",
    "I would like to talk about three results: \n",
    "- A new method for the **low-rank solution of the Lyapunov equation**\n",
    "- **Time integration of tensor trains** (dynamical low-rank approximation, projector-splitting scheme)\n",
    "- Curvature-independent convergence on low-rank manifolds (we need to rethink our understanding of topology of low-rank manifolds!)"
   ]
  },
  {
   "cell_type": "markdown",
   "metadata": {
    "slideshow": {
     "slide_type": "slide"
    }
   },
   "source": [
    "## Lyapunov equation\n",
    "\n",
    "Consider continious-time Lyapunov equation\n",
    "\n",
    "$$AX + XA^{\\top} = -y_0 y^{\\top}_0$$.\n",
    "\n",
    "We want to compute low-rank approximation to the solution:\n",
    "\n",
    "$$X \\approx U Z U^{\\top}, \\quad U \\in \\mathbb{R}^{n \\times r}, \\quad U^{\\top} U = I.$$"
   ]
  },
  {
   "cell_type": "markdown",
   "metadata": {
    "slideshow": {
     "slide_type": "slide"
    }
   },
   "source": [
    "## Lyapunov equation as a minimization problem\n",
    "$\n",
    "\\def\\vec{\\mathop{\\mathrm{vec}}\\nolimits}\n",
    "\\def\\trace{\\mathop{\\mathrm{tr}}\\nolimits}\n",
    "\\def\\rk{\\mathop{\\mathrm{rank}}\\nolimits}\n",
    "\\def\\Span{\\mathop{\\mathrm{span}}\\nolimits}\n",
    "$\n",
    "<font size=6.0>\n",
    "A typical way to define ``best'' rank-$r$ approximation is to formulate as a minimization problem\n",
    "\n",
    "$$R(X) \\rightarrow \\min,$$\n",
    "\n",
    "where typically \n",
    "\n",
    "$$\n",
    "   T_1(X) = \\Vert AX + XA^{\\top} - y_0 y^{\\top}_0 \\Vert_F.\n",
    "$$\n",
    "For $A = A^{\\top} > 0$ we can use the energy functional\n",
    "\n",
    "$$\n",
    "   T_2(X) = \\trace X A X + \\trace X y_0 y^{\\top}_0.\n",
    "$$\n",
    "\n",
    "<font color='red'> For $A$ being a discrete differential operators, these can be ``ill-conditioned'' functionals!"
   ]
  },
  {
   "cell_type": "markdown",
   "metadata": {
    "slideshow": {
     "slide_type": "slide"
    }
   },
   "source": [
    "## Our approach\n",
    "[In Kolesnikov, Oseledets, arxiv 1410.3335](http://arxiv.org/abs/1410.3335)\n",
    "\n",
    "Motivated by the seminal paper by Y. Saad, we propose to use the following functional:\n",
    "\n",
    "$$F(U) = \\int_{0}^{\\infty} \\Vert y - \\widehat{y} \\Vert^2 dt,$$\n",
    "\n",
    "where $y = e^{At} y_0, \\widehat{y} = U e^{Bt} U^{\\top} y_0, B = U^{\\top} A U$"
   ]
  },
  {
   "cell_type": "markdown",
   "metadata": {
    "slideshow": {
     "slide_type": "slide"
    }
   },
   "source": [
    "## Connection to the Lyapunov equation\n",
    "Well-known in model order reduction (however for this particular case we still miss the exact reference). Consider an ODE \n",
    "$$\\frac{dy}{dt} = Ay, \\quad y(0) = y_0.$$\n",
    "And look for the **optimal subspace** $$y(t) \\approx \\widetilde{y} =  U c(t)$$. \n",
    "The error measure:\n",
    "$$F_0(U) = \\int^{\\infty}_0 \\Vert y - \\widetilde{y} \\Vert^2 dt,$$\n",
    "best $U$ can be obtained from $r$ leading eigenvectors of $X$\n",
    "$$AX + XA^{\\top} = -y_0 y^{\\top}_0, \\quad F_0(U) = \\Vert X - X_r \\Vert.$$"
   ]
  },
  {
   "cell_type": "markdown",
   "metadata": {
    "slideshow": {
     "slide_type": "slide"
    }
   },
   "source": [
    "## Our functional\n",
    "Given $U$, the optimal $c(t) = U^{\\top} y(t)$ is **not computable**.\n",
    "\n",
    "We replace it with the Galerkin projection:\n",
    "\n",
    "$$\\frac{dc}{dt} = B c, \\quad c(0) = c_0, \\quad B = U^{\\top} A U, \\quad c_0 = U^{\\top} y_0.$$\n",
    "\n",
    "And introduce the **final functional**\n",
    "\n",
    "$$F(U) = \\int_{0}^{\\infty} \\Vert y - \\widehat{y} \\Vert^2 dt,$$\n",
    "\n",
    "where $y = e^{At} y_0, \\widehat{y} = U e^{Bt} U^{\\top} y_0, B = U^{\\top} A U$"
   ]
  },
  {
   "cell_type": "markdown",
   "metadata": {
    "slideshow": {
     "slide_type": "slide"
    }
   },
   "source": [
    "## It can be computed!\n",
    "\n",
    "This functional can be computed\n",
    "\n",
    "$$ F(U) = \\mathrm{tr}(X) - 2 \\mathrm{tr}(U^{\\top}(P - UZ)) - \\mathrm{tr}(Z)$$\n",
    "\n",
    "where\n",
    "$$B Z + Z B^{\\top} = c_0 c^{\\top}_0, \\quad A P + P B^{\\top} = y_0 c^{\\top}_0, \\quad  c_0 = U^{\\top} y_0.$$\n",
    "\n",
    "In principle, we can **use optimization over Stiefel manifold** now, but we do not know the rank."
   ]
  },
  {
   "cell_type": "markdown",
   "metadata": {
    "slideshow": {
     "slide_type": "slide"
    }
   },
   "source": [
    "## Solution accuracy\n",
    "If $F(U)$ is small, we get the approximation to the solution ($P$ is the solution of the Sylvester equation).  \n",
    "\n",
    "$$\\Vert X - UP^{\\top} - PU^{\\top} - UZU^{\\top} \\Vert_F \\leq F(U).$$"
   ]
  },
  {
   "cell_type": "markdown",
   "metadata": {
    "slideshow": {
     "slide_type": "slide"
    }
   },
   "source": [
    "## ``Doubling'' method\n",
    "\n",
    "To adapt the rank, we can ``fix-point'' iteration:\n",
    "\n",
    "Solve for $$A P + P B^{\\top} = -y_0 c^{\\top}_0$$\n",
    "\n",
    "Add $P$ to the basis:\n",
    "\n",
    "$$U := \\mathrm{orth}[U, P]$$\n",
    "(Similar to IRKA, Sorensen...);\n",
    "\n",
    "A rational Krylov method in disguise, **Too many linear solvers ($r$ at step)**"
   ]
  },
  {
   "cell_type": "markdown",
   "metadata": {
    "slideshow": {
     "slide_type": "slide"
    }
   },
   "source": [
    "## Useful residual theorems\n",
    "$$T_1(U) = \\Vert A UZU^{\\top} + UZU^{\\top} A^{\\top} - y_0 y^{\\top}_0 \\Vert$$\n",
    "\n",
    "$$T_2(U) = \\Vert A UZ + UZ B^{\\top} - y_0 c^{\\top}_0 \\Vert$$.\n",
    "\n",
    "**Theorem**  \n",
    "If $UU^{\\top} y_0 = y_0$, then\n",
    "\n",
    "$$T_1(U) = \\sqrt{2} T_2(U) = \\sqrt{2} \\Vert (AU - UB) Z \\Vert.$$\n",
    "\n",
    "Based on this theorem, it is a good idea to add Krylov & Rational Krylov vector at each step."
   ]
  },
  {
   "cell_type": "markdown",
   "metadata": {
    "slideshow": {
     "slide_type": "slide"
    }
   },
   "source": [
    "## Additing Krylov & Rat. Krylov \n",
    "**Theorem**  \n",
    "If we add a rational Krylov vector and a Rational Krylov vector at each step to $U$, the residual \n",
    "of the Sylvester equation stays rank-$1$:\n",
    "\n",
    "$$A P_1 + P_1 B^{\\top} = w q^{\\top},$$\n",
    "\n",
    "where $P_1 = P - UZ$."
   ]
  },
  {
   "cell_type": "markdown",
   "metadata": {
    "slideshow": {
     "slide_type": "slide"
    }
   },
   "source": [
    "## Alternating low-rank (ALR) method\n",
    "\n",
    "Assume rank-$1$ approximation to $P_1$, with $P_1 \\approx v q^{\\top}$, $q = \\frac{z}{\\Vert z \\Vert}$.\n",
    "\n",
    "It leads to the following equation for $v$:\n",
    "\n",
    "$$(A + (q^{\\top} B^{\\top} q) I) v = w.$$\n",
    "\n",
    "**Note the remarkably simple formula for the new shift!**\n",
    "\n",
    "We only need to solve the small Lyapunov equation ($\\mathcal{O}(r)^3$ cost) \n",
    "$$BZ + ZB^{\\top} = c_0 c^{\\top}_0$$ and take the last column of $Z$ (and normalize it)."
   ]
  },
  {
   "cell_type": "markdown",
   "metadata": {
    "slideshow": {
     "slide_type": "slide"
    }
   },
   "source": [
    "## Comparison with other methods\n",
    "- RKSM/ERKSM method  (Druskin, Simoncini), adapt the shifts globally\n",
    "- KPIK / extended Krylov (Knizhnermann, Druskin, Simoncini), take $A$, $A^{-1}$ spaces\n",
    "\n",
    "The shifts produced by ALR lies in the range of $B = U^{\\top} A U$, thus are much less spread than those for RKSM;  \n",
    "we can reuse the AMG hierarchy for the shifted system."
   ]
  },
  {
   "cell_type": "markdown",
   "metadata": {
    "slideshow": {
     "slide_type": "slide"
    }
   },
   "source": [
    "## Numerical example\n",
    "$$ Lu = u_{xx} + u_{yy} + u_{zz} - 10x u_{x} - 1000y u_{y} - u_{z}$$ with Dirichlet boundary conditions on the unit cube using 7-point stencil operator."
   ]
  },
  {
   "cell_type": "markdown",
   "metadata": {
    "slideshow": {
     "slide_type": "fragment"
    }
   },
   "source": [
    "<font size=2.5>\n",
    "$$\n",
    "\\begin{array}{lllllr}\n",
    "\\textrm{grid} &\\textrm{method} &\\textrm{precomp.} &\\textrm{1 solver time} &\\textrm{final time} &\\textrm{it-s/rank}\\\\\n",
    "                       &ALR         & --         &0.6424      &3.2881      &6/13        \\\\\n",
    "                       &ALR(AMG)    &0.2231      &0.0466      &\\bf{0.5020} &6/13        \\\\\n",
    "                       &KPIK(LU)    &0.6687      &\\bf{0.0086} &0.8351      &9/19        \\\\\n",
    "                       &KPIK(AMG)   &0.2231      &0.0436      &0.6787      &9/19        \\\\\n",
    "20\\times 20 \\times 20 &KPIK        & --         &0.8533      &7.0838      &9/19        \\\\\n",
    "                       &RKSM        &\\bf{0.0265} &0.6610      &5.5919      &9/10        \\\\\n",
    "                       &RKSM(AMG)   &0.2496      &0.0491      &0.9061      &9/10        \\\\\n",
    "                       &ERKSM       &\\bf{0.0265} &0.7303      &4.8876      &7/15        \\\\\n",
    "                       &ERKSM(AMG)  &0.2496      &0.0541      &0.9108      &6/13        \\\\\n",
    "\\hline\n",
    "                    &ALR         & --         &9.2135      &53.2061     &7/15        \\\\\n",
    "                       &ALR(AMG)    &0.9827      &0.1987      &\\bf{2.3924} &7/15        \\\\\n",
    "                       &KPIK(LU)    &10.1743     &\\bf{0.0497} &11.0392     &9/19        \\\\\n",
    "                       &KPIK(AMG)   &0.9827      &0.2055      &3.0282      &9/19        \\\\\n",
    "30\\times 30\\times 30 &KPIK        & --         &12.7750     &105.1641    &9/19        \\\\\n",
    "                       &RKSM        &\\bf{0.1215} &9.3640      &85.8903     &10/11       \\\\\n",
    "                       &RKSM(AMG)   &1.1042      &0.1792      &3.2822      &10/11       \\\\\n",
    "                       &ERKSM       &\\bf{0.1215} &9.5372      &58.2637     &7/15        \\\\\n",
    "                       &ERKSM(AMG)  &1.1042      &0.1609      &3.2703      &8/17        \\\\\n",
    "\\end{array}\n",
    "$$\n",
    "</font>"
   ]
  },
  {
   "cell_type": "markdown",
   "metadata": {
    "slideshow": {
     "slide_type": "slide"
    }
   },
   "source": [
    "## Shifts distribution\n",
    "<font size=8.0>\n",
    "The shifts are much less spread!\n",
    "\n",
    "<img width=150% src=\"test.jpg\">"
   ]
  },
  {
   "cell_type": "markdown",
   "metadata": {
    "slideshow": {
     "slide_type": "slide"
    }
   },
   "source": [
    "## Summary and part-2\n",
    "\n",
    "- We have a new functional for the Lyapunov equation, and we have a very simple shift-generating procedure (parameter-free).\n",
    "- Now we go from **low-rank in \"space-time\"** to **low-rank in the space variables** (dynamical low-rank approximation)"
   ]
  },
  {
   "cell_type": "markdown",
   "metadata": {
    "slideshow": {
     "slide_type": "slide"
    }
   },
   "source": [
    "## Dynamical low-rank approximation\n",
    "Dynamical low-rank rank approximation is a **low-rank approximation** of time-varying matrix:  \n",
    "\n",
    "$$A(t) \\approx Y(t) = U(t) S(t) V^{\\top}(t), $$\n",
    "\n",
    "where $U(t) \\in \\mathbb{R}^{n \\times r}, V(t) \\in \\mathbb{R}^{m \\times r}, S(t) \\in \\mathbb{R}^{r \\times r}$"
   ]
  },
  {
   "cell_type": "markdown",
   "metadata": {
    "slideshow": {
     "slide_type": "slide"
    }
   },
   "source": [
    "## Simple DLR\n",
    "You can use point-wise SVD:\n",
    "\n",
    "$$\\min_{\\mathrm{rank}(X(t)) = r}\\Vert A(t) - X(t) \\Vert $$\n",
    "\n",
    "but this has some **drawbacks**:\n",
    "\n",
    "- The dependence is non-smooth in time\n",
    "- The energy is not conserved\n",
    "- No history $A(t)$ is taken into account!"
   ]
  },
  {
   "cell_type": "markdown",
   "metadata": {
    "slideshow": {
     "slide_type": "slide"
    }
   },
   "source": [
    "## Instead, use Dirac-Frenkel principle\n",
    "\n",
    "**Dirac-Frenkel principle** can be used instead:\n",
    "\n",
    "$$ \\langle \\frac{dA}{dt} - \\frac{dX}{dt}, Z \\rangle_F = 0, $$\n",
    "\n",
    "for all $Z$ in the **tangent space** of the manifold $\\mathcal{M}_r$ of all matrices of rank $r$,  \n",
    "and tangent space is defined as\n",
    "\n",
    "$$\n",
    "     Z = \\delta U S V^{\\top} + U \\delta S V^{\\top} + U S \\delta V^{\\top}\n",
    "$$"
   ]
  },
  {
   "cell_type": "markdown",
   "metadata": {
    "slideshow": {
     "slide_type": "slide"
    }
   },
   "source": [
    "## Equations of motion in 2D case\n",
    "(Lubich, Koch, Meyer,...)  \n",
    "\n",
    "$$\\begin{split}\n",
    "&\\frac{dU}{dt} S = \\frac{dA}{dt} V,\\\\\n",
    "&\\frac{dV}{dt} S^{\\top} = \\frac{dA^{\\top}}{dt} U, \\\\\n",
    "&\\frac{dS}{dt} = U^{\\top} \\frac{dA}{dt} V.\n",
    "\\end{split}$$\n",
    "\n",
    "Suppose, you start from rank-$1$ and evolve into rank-$10$ case: the matrix $S$ **will be singular**!"
   ]
  },
  {
   "cell_type": "markdown",
   "metadata": {
    "slideshow": {
     "slide_type": "slide"
    }
   },
   "source": [
    "## Equations of motion, 2D case (2)\n",
    "The equations of motion can be rewritten for the full matrix  \n",
    "\n",
    "$$\n",
    "   \\frac{dX}{dt} = P_X(\\frac{dA}{dt}),\n",
    "$$\n",
    "\n",
    "where $P_X$ is the **projector onto the tangent space**"
   ]
  },
  {
   "cell_type": "markdown",
   "metadata": {
    "slideshow": {
     "slide_type": "fragment"
    }
   },
   "source": [
    "## Projector-splitting\n",
    "**Theorem:** $P_X$ can be represented as\n",
    "\n",
    "$$P_X(Z) = Z - (I - UU^{\\top}) Z (I - VV^{\\top}) = UU^{\\top} Z + Z VV^{\\top} - UU^{\\top} Z VV^{\\top},$$\n",
    "\n",
    "\n",
    "$$P_X(Z) = P_1 + P_2 - P_3$$"
   ]
  },
  {
   "cell_type": "markdown",
   "metadata": {
    "slideshow": {
     "slide_type": "slide"
    }
   },
   "source": [
    "## Integration of the substeps\n",
    "**Theorem** (O., Lubich, 2014): The equations with $P_1$, $P_2$, $P_3$ can be efficiently integrated\n",
    "<font size=5.0>\n",
    "- **Step \"L\":** $$\\frac{dX}{dt} = UU^{\\top}\\frac{dA}{dt} \\rightarrow \\frac{d(VS^{\\top})}{dt} = \\frac{dA^{\\top}}{dt} U, \\frac{dU}{dt}=0,$$\n",
    "\n",
    "  Thus $L_1 = L_0 + (A_1 - A_0)^{\\top} U_0, U_1 = U_0$.\n",
    "  \n",
    "- **Step \"K\":** $$\\frac{dX}{dt} = \\frac{dA}{dt} VV^{\\top} \\rightarrow \\frac{d(US)}{dt} = \\frac{dA}{dt} V, \\frac{dV}{dt}=0,$$\n",
    "\n",
    "  Thus $K_1 = K_0 + (A_1 - A_0) V_0, V_1 = V_0$\n",
    "\n",
    "- **Step \"S\":** $$\\frac{dX}{dt} = UU^{\\top}\\frac{dA}{dt} VV^{\\top} \\rightarrow \\frac{d(S)}{dt} = U\\frac{dA}{dt} V, \\frac{dV}{dt}=0, \\frac{dU}{dt} = 0,$$\n",
    "\n",
    "  Thus $S_1 = S_0 \\mathbf{-} U^{\\top}_0(A_1 - A_0) V_0, V_1 = V_0, U_1 = U_0$  \n",
    "  Here $A_0 = A(t), A_1 = A(t + \\tau)$"
   ]
  },
  {
   "cell_type": "markdown",
   "metadata": {
    "slideshow": {
     "slide_type": "slide"
    }
   },
   "source": [
    "## Splitting integrator\n",
    "The final splitting steps are\n",
    "<font size=6.0>\n",
    "- **Step \"L\":**  $$\\begin{split}L_0 = V_0 S^{\\top}_0 \\\\ L_1 = L_0 + (A_1 - A_0)^{\\top} U_0 \\\\ \n",
    "       [V_1, S^{\\top}_1] = QR(L_1)\\end{split}$$\n",
    "- **Step \"K\":** $$\\begin{split} K_0 = U_0 S^{\\top}_0 \\\\ K_1 = K_0 + (A_1 - A_0) V_0 \\\\ \n",
    "       [U_1, S_1] = QR(K_1)\\end{split}$$\n",
    "\n",
    "- **Step \"L\":** $$S_1 = S_0 - U^{\\top}_0 (A_1 - A_0) V_0$$ (note the minus!)\n",
    "The order of the steps matters"
   ]
  },
  {
   "cell_type": "markdown",
   "metadata": {
    "slideshow": {
     "slide_type": "slide"
    }
   },
   "source": [
    "## A note on minus\n",
    "(O.,  Lubich, Tubingen 2012)  \n",
    "\n",
    "<img src=lubich2.jpg width=40%>"
   ]
  },
  {
   "cell_type": "markdown",
   "metadata": {
    "slideshow": {
     "slide_type": "slide"
    }
   },
   "source": [
    "## Exactness result\n",
    "If $A_0 = U_0 S_0 V^{\\top}_0$ and $A_1$ is of rank $r$, the projector-splitting scheme in the **KSL** order is **exact**."
   ]
  },
  {
   "cell_type": "markdown",
   "metadata": {
    "slideshow": {
     "slide_type": "slide"
    }
   },
   "source": [
    "## Generalizing to dD\n",
    "- How to generalize to many dimensions?  \n",
    "\n",
    "- Then we have to replace \"low-rank approximation\" by something.  \n",
    "\n",
    "- High-dimensional problems are actually **the main application** of DLR"
   ]
  },
  {
   "cell_type": "markdown",
   "metadata": {
    "slideshow": {
     "slide_type": "slide"
    }
   },
   "source": [
    "## Canonical format: bad idea\n",
    "A simplest (but naive) way to generalize low-rank to many dimensions is to use **sum-of-products** defintion of the matrix rank:\n",
    "\n",
    "$$\n",
    "  A(i_1, \\ldots, i_d) \\approx \\sum_{\\alpha=1}^r U_1(i_1, \\alpha) \\ldots U_d(i_d, \\alpha)\n",
    "$$\n",
    "\n",
    "This is called **canonical format** and canonical rank  \n",
    "\n",
    "The canonical format can be unstable and in general can not be efficiently computed!"
   ]
  },
  {
   "cell_type": "markdown",
   "metadata": {
    "slideshow": {
     "slide_type": "slide"
    }
   },
   "source": [
    "## SVD-based formats: good idea\n",
    "In 2009 active development of **stable tensor formats** began.  \n",
    "\n",
    "Two \"similar\" formats we proposed\n",
    "- Tree Tucker (O., Tyrtyshnikov) -> Tensor Train (O.),  \n",
    "  later found as Matrix Product States (MPS) in physics  \n",
    "  (White, Schwollwock, Vidal, Verstraete)\n",
    "- Hierarchical Tucker (Hackbusch, Grasedyck), later found as ML-MCTDH (Meyer, Manthe) in chemistry"
   ]
  },
  {
   "cell_type": "markdown",
   "metadata": {
    "slideshow": {
     "slide_type": "slide"
    }
   },
   "source": [
    "## Tensor-train format\n",
    "A tensor is said to be in the TT-format, if\n",
    "\n",
    "$$X(i_1, \\ldots, i_d) = C_1(i_1) \\ldots C_d(i_d),$$\n",
    "\n",
    "where $C_k(i_k)$ is an $r_{k-1} \\times r_k$ matrix for each fixed $i_k$ and $r_0 = r_d = 1$."
   ]
  },
  {
   "cell_type": "markdown",
   "metadata": {
    "slideshow": {
     "slide_type": "slide"
    }
   },
   "source": [
    "## Some notations for the TT-format\n",
    "$\\def\\matX          {{\\boldsymbol{\\mathrm{X}}}}\n",
    "\\def\\matY          {{\\boldsymbol{\\mathrm{Y}}}}\n",
    "\\def\\matZ          {{\\boldsymbol{\\mathrm{Z}}}}\n",
    "\\def\\matC          {{\\boldsymbol{\\mathrm{X}}}}\n",
    "$\n",
    "\n",
    "Notation is hard; we use one from (Lubich, Vandreycken, O., 2014).  \n",
    "\n",
    "We can introduce left product of cores and right product of cores\n",
    "\n",
    "$$\n",
    "\\matX_{\\le k} (i_1,\\dots,i_k,:) = \\matC_1(i_1) \\cdots \\matC_k(i_k)\n",
    "$$\n",
    "\n",
    "and the right partial product $\\matX_{\\ge k+1} \\in \\mathbb{R}^{n_{k+1} \\times \\cdots \\times n_d \\times r_k}$ as\n",
    "\n",
    "$$\n",
    "\\matX_{\\ge k+1} (i_{k+1},\\dots,i_d,:) = \\matC_{k+1}(i_{k+1} \\cdots \\matC_d(i_d). \n",
    "$$\n"
   ]
  },
  {
   "cell_type": "markdown",
   "metadata": {
    "slideshow": {
     "slide_type": "slide"
    }
   },
   "source": [
    "## Some notations (2)\n",
    "The k-th **unfolding** satisfies  \n",
    "\n",
    "$$\\mathrm{Ten}_k(X) = \\matX_{\\leq k} \\matX_{\\geq k+1}^{\\top}$$\n",
    "\n",
    "and there is a recursive connection \n",
    "\n",
    "$$\\matX_{\\ge k} = (  \\matX_{\\ge k+1} \\otimes \\matI_{n_k} ) \\matC_K^>$$\n",
    "\n",
    "This forms the basis for the **orthogonalization**:  \n",
    "\n",
    "Given QR decomposition of $\\matX_{\\ge k}$ it is very simple  \n",
    "to orthogonalize $\\matX_{\\ge k+1}$ just by orthogonalizing the next core **from left to right**."
   ]
  },
  {
   "cell_type": "markdown",
   "metadata": {
    "slideshow": {
     "slide_type": "slide"
    }
   },
   "source": [
    "## Dynamical low-rank in the TT-format\n",
    "The DLR problem for the TT-format is formulated in the same way!"
   ]
  },
  {
   "cell_type": "markdown",
   "metadata": {
    "slideshow": {
     "slide_type": "fragment"
    }
   },
   "source": [
    "## Projector-splitting in the dD-case\n",
    "$$\n",
    "     \\frac{Y(t)}{dt} = P_{Y(t)}(\\frac{dA(t)}{dt}), \\qquad Y(t_0)=Y_0\\in \\mathcal{M},\n",
    "$$\n",
    "$$\n",
    "    P_X =\\sum_{k=1}^{d-1}  (P_{\\le k-1} P_{\\ge k+1} - P_{\\le k} P_{\\ge k+1})  + P_{\\le d-1} P_{\\ge d+1},\n",
    "$$\n",
    "$$\n",
    "\\begin{split}\n",
    "&P_{\\le k}\\colon \\R^{n_1 \\times \\cdots \\times n_d} \\to T_X \\mathcal{M}, \\  Z \\mapsto \\mathrm{Ten}_k (  \\matP_{\\le k} \\matZ^{\\langle k \\rangle})\\\\\n",
    " &P_{\\ge i}\\colon \\R^{n_1 \\times \\cdots \\times n_d} \\to T_X \\mathcal{M}, \\  Z \\mapsto \\mathrm{Ten}_{k-1} (  \\matZ^{\\langle k-1 \\rangle}  \\matP_{\\ge k} )  .\n",
    " \\end{split}\n",
    "$$\n",
    "\n",
    "$\n",
    "\\matP_{\\le k} = \\matQ_{\\le k}\\matQ_{\\le k}^\\top, \\qquad\\hbox{and}\\qquad\n",
    "\\matP_{\\ge k} = \\matQ_{\\ge k}\\matQ_{\\ge k}^\\top,\n",
    "$"
   ]
  },
  {
   "cell_type": "markdown",
   "metadata": {
    "slideshow": {
     "slide_type": "slide"
    }
   },
   "source": [
    "## The scheme of the algorithm\n",
    "The algorithm is organized through **sweeps**\n",
    "<img src=\"sweep_2.png\" width=45%>"
   ]
  },
  {
   "cell_type": "markdown",
   "metadata": {
    "slideshow": {
     "slide_type": "slide"
    }
   },
   "source": [
    "## Solving equations\n",
    "It is very easy to use KSL for solving equations!\n",
    "\n",
    "$$\n",
    "   \\frac{dY}{dt} = F(Y),\n",
    "$$\n",
    "\n",
    "you just replace $\\frac{dA}{dt}$ by $F(Y)$.  \n",
    "\n",
    "In the case of **linear** $F(Y)$, the local system for the cores will be also **linear**,    \n",
    "which is a huge advantage over other methods!"
   ]
  },
  {
   "cell_type": "markdown",
   "metadata": {
    "slideshow": {
     "slide_type": "slide"
    }
   },
   "source": [
    "## Numerical experiments\n",
    "Now we can go to numerical experiments"
   ]
  },
  {
   "cell_type": "markdown",
   "metadata": {
    "slideshow": {
     "slide_type": "slide"
    }
   },
   "source": [
    "## Application: Vibrational spectra\n",
    "We compare the TT-KSL scheme with the [MCTDH package](http://www.pci.uni-heidelberg.de/cms/mctdh.html) for the benchmark problem with [Henon-Heiles potential](http://dx.doi.org/10.1063/1.1521129) \n",
    "\\begin{equation}\n",
    "    \\frac{d\\psi}{dt} = i H \\psi, \\quad \\psi(0) = \\psi_0,\n",
    "\\end{equation}\n",
    "where $H$ has the form\n",
    "\\begin{equation}\n",
    "  \\def\\Hlap{-\\frac12 \\Delta}\n",
    "  \\def\\Hhar{\\frac12 \\sum_{k=1}^f q^2_k}\n",
    "  \\def\\Hanh{\\sum_{k=1}^{f-1}\\left(q^2_k q_{k+1} - \\frac13 q^3_{k+1} \\right)}\n",
    "   H = \\Hlap + \\underbrace{\\Hhar + \\overbrace{\\lambda \\Hanh}^{\\textrm{anharmonic part}}}_{\\textrm{Henon-Heiles potential}~V(q_1,\\ldots,q_f)}.\n",
    "\\end{equation}"
   ]
  },
  {
   "cell_type": "markdown",
   "metadata": {
    "slideshow": {
     "slide_type": "slide"
    }
   },
   "source": [
    "## Spectra comparison\n",
    "<div style=\"float: left; width: 40%; margin-right: 5%; margin-bottom: 0.5em;\">\n",
    "<p style=\"text-align:left\"> Spectra for a 10D problem </p>\n",
    "<img src=\"ksl_mctdh_plot.png\" >\n",
    "</div>\n",
    "<div style=\"float: left; width: 40%; margin-right: 5%; margin-bottom: 0.5em;\">\n",
    "<p style=\"text-align:left\"> Zoomed spectra </p>\n",
    "<img src=\"ksl_mctdh_plot_zoom.png\" >\n",
    "</div>\n",
    "<p style=\"clear: both;\">\n",
    "Computational time: **54354 sec** (MCTDH) vs **4425 sec** (TT-KSL)"
   ]
  },
  {
   "cell_type": "markdown",
   "metadata": {
    "slideshow": {
     "slide_type": "slide"
    }
   },
   "source": [
    "## Conclusions\n",
    "- A stable explicit scheme for DLR based on QR-decomposition with very cheap step\n",
    "- Direct applications (quantum spin systems, chemical master equation)\n",
    "- Indirect applications (projection of the update, optimization, ...)"
   ]
  },
  {
   "cell_type": "markdown",
   "metadata": {
    "slideshow": {
     "slide_type": "slide"
    }
   },
   "source": [
    "## Projector-splitting for optimization\n",
    "\n",
    "The projector-splitting scheme has high potential for optimization, since it is **discrete**.\n",
    "\n",
    "Given a process $x_{k+1} = x_k + F_k$, we create a **manifold version**\n",
    "\n",
    "$$x_{k+1} = I(x_k, F_k).$$\n",
    "\n",
    "What about the convergence?  \n",
    "**Typical estimates** use the **curvature** of the manifold; for low-rank matrices the curvature is given by the condition number,\n",
    "\n",
    "I.e. can be arbitrary high. In practice, **it makes no difference**."
   ]
  },
  {
   "cell_type": "markdown",
   "metadata": {
    "slideshow": {
     "slide_type": "slide"
    }
   },
   "source": [
    "## Manifold iteration is  better\n",
    "<font size=5.0>\n",
    "$$x = Qx + f, \\quad \\Vert Q \\Vert \\leq \\delta, $$\n",
    "Solution $x^*$ has rank $5$ with $3$ large singular values, one $10^{-3}$ of the largest, one $10^{-6}$ of the largest.  \n",
    "<font color='blue'> Blue </font>: original gradient method, <font color='green'> Green </font>: Manifold-projected gradient, <font color='cyan'> Cyan </font>: The normal component of the error\n",
    "<img src=\"levels.png\" width=60%>\n"
   ]
  },
  {
   "cell_type": "markdown",
   "metadata": {
    "slideshow": {
     "slide_type": "slide"
    }
   },
   "source": [
    "## Papers and software\n",
    "**Software**\n",
    "- TT-Toolbox: https://github.com/oseledets/ttpy (Python)\n",
    "- https://github.com/oseledets/TT-Toolbox (MATLAB)\n",
    "<font size=5.0>\n",
    "**Papers**\n",
    "- Christian Lubich and Ivan V. Oseledets. A projector-splitting integrator for dynamical low-rank approximation. BIT, 54(1):171–188, 2014\n",
    "- [Christian Lubich, Ivan Oseledets, and Bart Vandereycken. Time integration of tensor trains. arXiv preprint 1407.2042, 2014.](http://arxiv.org/abs/1407.2042), published in SINUM\n",
    "- [Jutho Haegeman, Christian Lubich, Ivan Oseledets, Bart Vandereycken, and Frank Verstraete. Unifying time evolution and optimization with matrix product states. arXiv preprint 1408.5056, 2014.](http://arxiv.org/abs/1408.5056)"
   ]
  },
  {
   "cell_type": "code",
   "execution_count": 2,
   "metadata": {
    "collapsed": false,
    "slideshow": {
     "slide_type": "skip"
    }
   },
   "outputs": [
    {
     "data": {
      "text/html": [
       "<link href='http://fonts.googleapis.com/css?family=Fenix' rel='stylesheet' type='text/css'>\n",
       "<link href='http://fonts.googleapis.com/css?family=Alegreya+Sans:100,300,400,500,700,800,900,100italic,300italic,400italic,500italic,700italic,800italic,900italic' rel='stylesheet' type='text/css'>\n",
       "<link href='http://fonts.googleapis.com/css?family=Source+Code+Pro:300,400' rel='stylesheet' type='text/css'>\n",
       "<style>\n",
       "    @font-face {\n",
       "        font-family: \"Computer Modern\";\n",
       "        src: url('http://mirrors.ctan.org/fonts/cm-unicode/fonts/otf/cmunss.otf');\n",
       "    }\n",
       "    div.cell{\n",
       "        /*width:80%;*/\n",
       "        /*margin-left:auto !important;\n",
       "        margin-right:auto;*/\n",
       "    }\n",
       "    h1 {\n",
       "        font-family: 'Alegreya Sans', sans-serif;\n",
       "    }\n",
       "    h2 {\n",
       "        font-family: 'Fenix', serif;\n",
       "    }\n",
       "    h3{\n",
       "\t\tfont-family: 'Fenix', serif;\n",
       "        margin-top:12px;\n",
       "        margin-bottom: 3px;\n",
       "       }\n",
       "\th4{\n",
       "\t\tfont-family: 'Fenix', serif;\n",
       "       }\n",
       "    h5 {\n",
       "        font-family: 'Alegreya Sans', sans-serif;\n",
       "    }\t   \n",
       "    div.text_cell_render{\n",
       "        font-family: 'Alegreya Sans',Computer Modern, \"Helvetica Neue\", Arial, Helvetica, Geneva, sans-serif;\n",
       "        line-height: 1.2;\n",
       "        font-size: 120%;\n",
       "        /*width:70%;*/\n",
       "        /*margin-left:auto;*/\n",
       "        margin-right:auto;\n",
       "    }\n",
       "    .CodeMirror{\n",
       "            font-family: \"Source Code Pro\";\n",
       "\t\t\tfont-size: 90%;\n",
       "    }\n",
       "/*    .prompt{\n",
       "        display: None;\n",
       "    }*/\n",
       "    .text_cell_render h1 {\n",
       "        font-weight: 200;\n",
       "        font-size: 50pt;\n",
       "\t\tline-height: 110%;\n",
       "        color:#CD2305;\n",
       "        margin-bottom: 0.5em;\n",
       "        margin-top: 0.5em;\n",
       "        display: block;\n",
       "    }\t\n",
       "    .text_cell_render h5 {\n",
       "        font-weight: 300;\n",
       "        font-size: 16pt;\n",
       "        color: #CD2305;\n",
       "        font-style: italic;\n",
       "        margin-bottom: .5em;\n",
       "        margin-top: 0.5em;\n",
       "        display: block;\n",
       "    }\n",
       "    \n",
       "    li {\n",
       "        line-height: 110%;\n",
       "    }\n",
       "    .warning{\n",
       "        color: rgb( 240, 20, 20 )\n",
       "        }  \n",
       "</style>\n",
       "<script>\n",
       "    MathJax.Hub.Config({\n",
       "                        TeX: {\n",
       "                           extensions: [\"AMSmath.js\"]\n",
       "                           },\n",
       "                tex2jax: {\n",
       "                    inlineMath: [ ['$','$'], [\"\\\\(\",\"\\\\)\"] ],\n",
       "                    displayMath: [ ['$$','$$'], [\"\\\\[\",\"\\\\]\"] ]\n",
       "                },\n",
       "                displayAlign: 'center', // Change this to 'center' to center equations.\n",
       "                \"HTML-CSS\": {\n",
       "                    styles: {'.MathJax_Display': {\"margin\": 4}}\n",
       "                }\n",
       "        });\n",
       "</script>\n"
      ],
      "text/plain": [
       "<IPython.core.display.HTML object>"
      ]
     },
     "execution_count": 2,
     "metadata": {},
     "output_type": "execute_result"
    }
   ],
   "source": [
    "from IPython.core.display import HTML\n",
    "def css_styling():\n",
    "    styles = open(\"custom.css\", \"r\").read()\n",
    "    return HTML(styles)\n",
    "css_styling()"
   ]
  },
  {
   "cell_type": "code",
   "execution_count": null,
   "metadata": {
    "collapsed": true
   },
   "outputs": [],
   "source": []
  }
 ],
 "metadata": {
  "celltoolbar": "Slideshow",
  "kernelspec": {
   "display_name": "Python 2",
   "language": "python",
   "name": "python2"
  },
  "language_info": {
   "codemirror_mode": {
    "name": "ipython",
    "version": 2
   },
   "file_extension": ".py",
   "mimetype": "text/x-python",
   "name": "python",
   "nbconvert_exporter": "python",
   "pygments_lexer": "ipython2",
   "version": "2.7.10"
  }
 },
 "nbformat": 4,
 "nbformat_minor": 0
}
