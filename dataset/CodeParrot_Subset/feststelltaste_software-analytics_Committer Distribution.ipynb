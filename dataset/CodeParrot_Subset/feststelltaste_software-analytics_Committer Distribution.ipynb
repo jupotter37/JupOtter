{
 "cells": [
  {
   "cell_type": "markdown",
   "metadata": {},
   "source": [
    "# Introduction\n",
    "In the last notebook, I showed you how easy it is to connect jQAssistant/neo4j with Python Pandas/py2neo. In this notebook, I show you a (at first glance) simple analysis of the Git repository https://github.com/feststelltaste/spring-petclinic. This repository is a fork of the demo repository for jQAssistant (https://github.com/feststelltaste/spring-petclinic) therefore it integrates jQAssistant already.\n",
    "\n",
    "As analysis task, we want to know who are the Top 10 committers and how the distribution of the commits is. This could be handy if you want to identify your main contributors of a project e. g. to send them a gift at Christmas ;-) .\n",
    "\n",
    "But first, you might ask yourself: \"Why do I need a fully fledged data analysis framework like Pandas for such a simple task? Are there no standard tools out there?\" Well, I'll show you why (OK, and you got me there: I needed another reason to go deeper with Python, Pandas, jQAssistant and Neo4j to get some serious software data analysis started) \n",
    "\n",
    "So let's go!"
   ]
  },
  {
   "cell_type": "markdown",
   "metadata": {},
   "source": [
    "# Preparation"
   ]
  },
  {
   "cell_type": "markdown",
   "metadata": {},
   "source": [
    "This notebook assumes that \n",
    "- there is a running Neo4j server with the default configuration. \n",
    "- the graph database is filled with the scan results of jQAssistant (happens for the repository above automatically with an <tt>mvn clean install</tt>)\n",
    "- you use a standard Anaconda installation with Python 3+\n",
    "- you installed the py2neo connector"
   ]
  },
  {
   "cell_type": "markdown",
   "metadata": {},
   "source": [
    "If everything is set up, we just import the usual suspects: py2neo for connecting to Neo4j and Pandas for data analysis. We also want to plot some graphics later on, so we import matplotlib accordingly as the convention suggests."
   ]
  },
  {
   "cell_type": "code",
   "execution_count": 1,
   "metadata": {
    "collapsed": false
   },
   "outputs": [],
   "source": [
    "import py2neo\n",
    "import pandas as pd\n",
    "import matplotlib.pyplot as plt\n",
    "# display graphics directly in the notebook\n",
    "%matplotlib inline"
   ]
  },
  {
   "cell_type": "markdown",
   "metadata": {},
   "source": [
    "# Data input"
   ]
  },
  {
   "cell_type": "markdown",
   "metadata": {},
   "source": [
    "We need some data to get started. Luckily, we have jQAssistant at our hand. It's integrated into the build process of Spring PetClinic repository above and scanned the Git repository information automatically with every executed build. \n",
    "\n",
    "So let's query our almighty Neo4j graph database that holds all the structural data about the software project. "
   ]
  },
  {
   "cell_type": "code",
   "execution_count": 2,
   "metadata": {
    "collapsed": false
   },
   "outputs": [
    {
     "data": {
      "text/plain": [
       "[{'email': 'feststelltaste@googlemail.com', 'name': 'Markus Harrer'},\n",
       " {'email': 'feststelltaste@googlemail.com', 'name': 'feststelltaste'},\n",
       " {'email': 'feststelltaste@googlemail.com', 'name': 'feststelltaste'}]"
      ]
     },
     "execution_count": 2,
     "metadata": {},
     "output_type": "execute_result"
    }
   ],
   "source": [
    "graph = py2neo.Graph()\n",
    "query = \"\"\"\n",
    "MATCH (author:Author)-[:COMMITED]-> (commit:Commit)\n",
    "RETURN author.name as name, author.email as email\n",
    "\"\"\"\n",
    "result = graph.data(query)\n",
    "# just how first three entries\n",
    "result[0:3]"
   ]
  },
  {
   "cell_type": "markdown",
   "metadata": {},
   "source": [
    "The query returns all commits with their authors and the author's email addresses. We get some nice, tabular data that we put into Pandas's DataFrame."
   ]
  },
  {
   "cell_type": "code",
   "execution_count": 3,
   "metadata": {
    "collapsed": false
   },
   "outputs": [
    {
     "data": {
      "text/html": [
       "<div>\n",
       "<table border=\"1\" class=\"dataframe\">\n",
       "  <thead>\n",
       "    <tr style=\"text-align: right;\">\n",
       "      <th></th>\n",
       "      <th>email</th>\n",
       "      <th>name</th>\n",
       "    </tr>\n",
       "  </thead>\n",
       "  <tbody>\n",
       "    <tr>\n",
       "      <th>0</th>\n",
       "      <td>feststelltaste@googlemail.com</td>\n",
       "      <td>Markus Harrer</td>\n",
       "    </tr>\n",
       "    <tr>\n",
       "      <th>1</th>\n",
       "      <td>feststelltaste@googlemail.com</td>\n",
       "      <td>feststelltaste</td>\n",
       "    </tr>\n",
       "    <tr>\n",
       "      <th>2</th>\n",
       "      <td>feststelltaste@googlemail.com</td>\n",
       "      <td>feststelltaste</td>\n",
       "    </tr>\n",
       "    <tr>\n",
       "      <th>3</th>\n",
       "      <td>feststelltaste@googlemail.com</td>\n",
       "      <td>feststelltaste</td>\n",
       "    </tr>\n",
       "    <tr>\n",
       "      <th>4</th>\n",
       "      <td>feststelltaste@googlemail.com</td>\n",
       "      <td>feststelltaste</td>\n",
       "    </tr>\n",
       "  </tbody>\n",
       "</table>\n",
       "</div>"
      ],
      "text/plain": [
       "                           email            name\n",
       "0  feststelltaste@googlemail.com   Markus Harrer\n",
       "1  feststelltaste@googlemail.com  feststelltaste\n",
       "2  feststelltaste@googlemail.com  feststelltaste\n",
       "3  feststelltaste@googlemail.com  feststelltaste\n",
       "4  feststelltaste@googlemail.com  feststelltaste"
      ]
     },
     "execution_count": 3,
     "metadata": {},
     "output_type": "execute_result"
    }
   ],
   "source": [
    "commits = pd.DataFrame(result)\n",
    "commits.head()"
   ]
  },
  {
   "cell_type": "markdown",
   "metadata": {},
   "source": [
    "# Familiarization"
   ]
  },
  {
   "cell_type": "markdown",
   "metadata": {},
   "source": [
    "First, I like to check the raw data a little bit. I often do this by first having a look at the data types the data source is returning. It's a good starting point to check that Pandas recognizes the data types accordingly. You can also use this approach to check for skewed data columns very quickly (especially necessary when reading CSV or Excel files): If there should be a column with a specific data type (e. g. because the documentation of the dataset said so), the data type should  be recognized automatically as specified. If not, there is a high probability that the imported data source isn't correct (and we have a data quality problem)."
   ]
  },
  {
   "cell_type": "code",
   "execution_count": 4,
   "metadata": {
    "collapsed": false
   },
   "outputs": [
    {
     "data": {
      "text/plain": [
       "email    object\n",
       "name     object\n",
       "dtype: object"
      ]
     },
     "execution_count": 4,
     "metadata": {},
     "output_type": "execute_result"
    }
   ],
   "source": [
    "commits.dtypes"
   ]
  },
  {
   "cell_type": "markdown",
   "metadata": {},
   "source": [
    "That's OK for our simple scenario. The two columns with texts are objects &ndash; nothing spectacular.\n",
    "\n",
    "In the next step, I always like to get a \"feeling\" of all the data. Primarily, I want to get a quick impression of the data quality again. It could always be that there is \"dirty data\" in the dataset or that there are outliers that would screw up the analysis. With such a small amount of data we have, we can simply list all unique values that occur in the columns. I just list the top 10's for both columns."
   ]
  },
  {
   "cell_type": "code",
   "execution_count": 5,
   "metadata": {
    "collapsed": false
   },
   "outputs": [
    {
     "data": {
      "text/plain": [
       "Mic                   211\n",
       "Antoine Rey           112\n",
       "michaelisvy            87\n",
       "Dirk Mahler            50\n",
       "Keith Donald           35\n",
       "Costin Leau            28\n",
       "feststelltaste         26\n",
       "Cyrille Le Clerc        5\n",
       "Thibault Duchateau      5\n",
       "Dapeng                  5\n",
       "Name: name, dtype: int64"
      ]
     },
     "execution_count": 5,
     "metadata": {},
     "output_type": "execute_result"
    }
   ],
   "source": [
    "commits['name'].value_counts()[0:10]"
   ]
  },
  {
   "cell_type": "markdown",
   "metadata": {},
   "source": [
    "OK, at first glance, something seems awkward. Let's have a look at the email addresses."
   ]
  },
  {
   "cell_type": "code",
   "execution_count": 6,
   "metadata": {
    "collapsed": false
   },
   "outputs": [
    {
     "data": {
      "text/plain": [
       "misvy@vmware.com                 224\n",
       "misvy@gopivotal,com               63\n",
       "antoine.rey@gmail.com             59\n",
       "antoine.rey@free.fr               53\n",
       "dirk.mahler@buschmais.com         46\n",
       "kdonald@vmware.com                35\n",
       "cleau@vmware.com                  28\n",
       "feststelltaste@googlemail.com     27\n",
       "misvy@gopivotal.com               11\n",
       "verydapeng@gmail.com               5\n",
       "Name: email, dtype: int64"
      ]
     },
     "execution_count": 6,
     "metadata": {},
     "output_type": "execute_result"
    }
   ],
   "source": [
    "commits['email'].value_counts()[0:10]"
   ]
  },
  {
   "cell_type": "markdown",
   "metadata": {},
   "source": [
    "OK, the bad feeling is strengthening. We might have a problem with multiple authors having multiple email addresses. Let me show you the problem by better representing the problem."
   ]
  },
  {
   "cell_type": "markdown",
   "metadata": {},
   "source": [
    "## Interlude - begin\n",
    "_In the interlude section, I take you to a short, mostly undocumented excursion with probably messy code (don't do this at home!) to make a point. If you like, you can skip that section._\n",
    "\n",
    "**Goal: Create a diagram that shows the relationship between the authors and the emails addresses.**\n",
    "\n",
    "(Note to myself: It's probably better to solve that directly in Neo4j the next time ;-) )"
   ]
  },
  {
   "cell_type": "markdown",
   "metadata": {},
   "source": [
    "I need a unique index for each name and I have to calculate the number of different email addresses per author."
   ]
  },
  {
   "cell_type": "code",
   "execution_count": 7,
   "metadata": {
    "collapsed": false
   },
   "outputs": [
    {
     "data": {
      "text/html": [
       "<div>\n",
       "<table border=\"1\" class=\"dataframe\">\n",
       "  <thead>\n",
       "    <tr style=\"text-align: right;\">\n",
       "      <th></th>\n",
       "      <th>index</th>\n",
       "      <th>name</th>\n",
       "      <th>email</th>\n",
       "    </tr>\n",
       "  </thead>\n",
       "  <tbody>\n",
       "    <tr>\n",
       "      <th>0</th>\n",
       "      <td>0</td>\n",
       "      <td>michaelisvy</td>\n",
       "      <td>3</td>\n",
       "    </tr>\n",
       "    <tr>\n",
       "      <th>1</th>\n",
       "      <td>1</td>\n",
       "      <td>Ameya Pandilwar</td>\n",
       "      <td>2</td>\n",
       "    </tr>\n",
       "    <tr>\n",
       "      <th>2</th>\n",
       "      <td>2</td>\n",
       "      <td>Dirk Mahler</td>\n",
       "      <td>2</td>\n",
       "    </tr>\n",
       "    <tr>\n",
       "      <th>3</th>\n",
       "      <td>3</td>\n",
       "      <td>Antoine Rey</td>\n",
       "      <td>2</td>\n",
       "    </tr>\n",
       "    <tr>\n",
       "      <th>4</th>\n",
       "      <td>4</td>\n",
       "      <td>Rossen Stoyanchev</td>\n",
       "      <td>1</td>\n",
       "    </tr>\n",
       "  </tbody>\n",
       "</table>\n",
       "</div>"
      ],
      "text/plain": [
       "   index               name  email\n",
       "0      0        michaelisvy      3\n",
       "1      1    Ameya Pandilwar      2\n",
       "2      2        Dirk Mahler      2\n",
       "3      3        Antoine Rey      2\n",
       "4      4  Rossen Stoyanchev      1"
      ]
     },
     "execution_count": 7,
     "metadata": {},
     "output_type": "execute_result"
    }
   ],
   "source": [
    "grouped_by_authors = commits[['name', 'email']]\\\n",
    "   .drop_duplicates().groupby('name').count()\\\n",
    "    .sort_values('email', ascending=False).reset_index().reset_index()\n",
    "grouped_by_authors.head()"
   ]
  },
  {
   "cell_type": "markdown",
   "metadata": {},
   "source": [
    "Same procedure for the email addresses."
   ]
  },
  {
   "cell_type": "code",
   "execution_count": 8,
   "metadata": {
    "collapsed": false
   },
   "outputs": [
    {
     "data": {
      "text/html": [
       "<div>\n",
       "<table border=\"1\" class=\"dataframe\">\n",
       "  <thead>\n",
       "    <tr style=\"text-align: right;\">\n",
       "      <th></th>\n",
       "      <th>index</th>\n",
       "      <th>email</th>\n",
       "      <th>name</th>\n",
       "    </tr>\n",
       "  </thead>\n",
       "  <tbody>\n",
       "    <tr>\n",
       "      <th>0</th>\n",
       "      <td>0</td>\n",
       "      <td>feststelltaste@googlemail.com</td>\n",
       "      <td>2</td>\n",
       "    </tr>\n",
       "    <tr>\n",
       "      <th>1</th>\n",
       "      <td>1</td>\n",
       "      <td>misvy@vmware.com</td>\n",
       "      <td>2</td>\n",
       "    </tr>\n",
       "    <tr>\n",
       "      <th>2</th>\n",
       "      <td>2</td>\n",
       "      <td>Andrej1</td>\n",
       "      <td>1</td>\n",
       "    </tr>\n",
       "    <tr>\n",
       "      <th>3</th>\n",
       "      <td>3</td>\n",
       "      <td>jdubois@ippon.fr</td>\n",
       "      <td>1</td>\n",
       "    </tr>\n",
       "    <tr>\n",
       "      <th>4</th>\n",
       "      <td>4</td>\n",
       "      <td>kdonald@vmware.com</td>\n",
       "      <td>1</td>\n",
       "    </tr>\n",
       "  </tbody>\n",
       "</table>\n",
       "</div>"
      ],
      "text/plain": [
       "   index                          email  name\n",
       "0      0  feststelltaste@googlemail.com     2\n",
       "1      1               misvy@vmware.com     2\n",
       "2      2                        Andrej1     1\n",
       "3      3               jdubois@ippon.fr     1\n",
       "4      4             kdonald@vmware.com     1"
      ]
     },
     "execution_count": 8,
     "metadata": {},
     "output_type": "execute_result"
    }
   ],
   "source": [
    "grouped_by_email = commits[['name', 'email']]\\\n",
    "   .drop_duplicates().groupby('email').count()\\\n",
    "    .sort_values('name', ascending=False).reset_index().reset_index()\n",
    "grouped_by_email.head()"
   ]
  },
  {
   "cell_type": "markdown",
   "metadata": {},
   "source": [
    "Then I merge the two DataFrames with a subset of the original data. I get each author and email index as well as the number of occurrences for author respectively emails. I only need the ones that are occurring multiple times, so I check for > 2."
   ]
  },
  {
   "cell_type": "code",
   "execution_count": 9,
   "metadata": {
    "collapsed": false
   },
   "outputs": [
    {
     "data": {
      "text/html": [
       "<div>\n",
       "<table border=\"1\" class=\"dataframe\">\n",
       "  <thead>\n",
       "    <tr style=\"text-align: right;\">\n",
       "      <th></th>\n",
       "      <th>email</th>\n",
       "      <th>name</th>\n",
       "      <th>index</th>\n",
       "      <th>email_from_authors</th>\n",
       "      <th>index_from_emails</th>\n",
       "      <th>name_from_emails</th>\n",
       "    </tr>\n",
       "  </thead>\n",
       "  <tbody>\n",
       "    <tr>\n",
       "      <th>0</th>\n",
       "      <td>feststelltaste@googlemail.com</td>\n",
       "      <td>Markus Harrer</td>\n",
       "      <td>21</td>\n",
       "      <td>1</td>\n",
       "      <td>0</td>\n",
       "      <td>2</td>\n",
       "    </tr>\n",
       "    <tr>\n",
       "      <th>1</th>\n",
       "      <td>feststelltaste@googlemail.com</td>\n",
       "      <td>feststelltaste</td>\n",
       "      <td>14</td>\n",
       "      <td>1</td>\n",
       "      <td>0</td>\n",
       "      <td>2</td>\n",
       "    </tr>\n",
       "    <tr>\n",
       "      <th>3</th>\n",
       "      <td>dirk.mahler@buschmais.com</td>\n",
       "      <td>Dirk Mahler</td>\n",
       "      <td>2</td>\n",
       "      <td>2</td>\n",
       "      <td>39</td>\n",
       "      <td>1</td>\n",
       "    </tr>\n",
       "    <tr>\n",
       "      <th>4</th>\n",
       "      <td>dirk.mahler@asml.com</td>\n",
       "      <td>Dirk Mahler</td>\n",
       "      <td>2</td>\n",
       "      <td>2</td>\n",
       "      <td>38</td>\n",
       "      <td>1</td>\n",
       "    </tr>\n",
       "    <tr>\n",
       "      <th>7</th>\n",
       "      <td>antoine.rey@gmail.com</td>\n",
       "      <td>Antoine Rey</td>\n",
       "      <td>3</td>\n",
       "      <td>2</td>\n",
       "      <td>28</td>\n",
       "      <td>1</td>\n",
       "    </tr>\n",
       "    <tr>\n",
       "      <th>8</th>\n",
       "      <td>antoine.rey@free.fr</td>\n",
       "      <td>Antoine Rey</td>\n",
       "      <td>3</td>\n",
       "      <td>2</td>\n",
       "      <td>27</td>\n",
       "      <td>1</td>\n",
       "    </tr>\n",
       "    <tr>\n",
       "      <th>13</th>\n",
       "      <td>ameya@pandilwar.com</td>\n",
       "      <td>Ameya Pandilwar</td>\n",
       "      <td>1</td>\n",
       "      <td>2</td>\n",
       "      <td>25</td>\n",
       "      <td>1</td>\n",
       "    </tr>\n",
       "    <tr>\n",
       "      <th>14</th>\n",
       "      <td>ameya@ccs.neu.edu</td>\n",
       "      <td>Ameya Pandilwar</td>\n",
       "      <td>1</td>\n",
       "      <td>2</td>\n",
       "      <td>23</td>\n",
       "      <td>1</td>\n",
       "    </tr>\n",
       "    <tr>\n",
       "      <th>22</th>\n",
       "      <td>misvy@gopivotal,com</td>\n",
       "      <td>michaelisvy</td>\n",
       "      <td>0</td>\n",
       "      <td>3</td>\n",
       "      <td>9</td>\n",
       "      <td>1</td>\n",
       "    </tr>\n",
       "    <tr>\n",
       "      <th>23</th>\n",
       "      <td>misvy@gopivotal.com</td>\n",
       "      <td>michaelisvy</td>\n",
       "      <td>0</td>\n",
       "      <td>3</td>\n",
       "      <td>10</td>\n",
       "      <td>1</td>\n",
       "    </tr>\n",
       "    <tr>\n",
       "      <th>24</th>\n",
       "      <td>misvy@vmware.com</td>\n",
       "      <td>michaelisvy</td>\n",
       "      <td>0</td>\n",
       "      <td>3</td>\n",
       "      <td>1</td>\n",
       "      <td>2</td>\n",
       "    </tr>\n",
       "    <tr>\n",
       "      <th>25</th>\n",
       "      <td>misvy@vmware.com</td>\n",
       "      <td>Mic</td>\n",
       "      <td>22</td>\n",
       "      <td>1</td>\n",
       "      <td>1</td>\n",
       "      <td>2</td>\n",
       "    </tr>\n",
       "  </tbody>\n",
       "</table>\n",
       "</div>"
      ],
      "text/plain": [
       "                            email             name  index  email_from_authors  \\\n",
       "0   feststelltaste@googlemail.com    Markus Harrer     21                   1   \n",
       "1   feststelltaste@googlemail.com   feststelltaste     14                   1   \n",
       "3       dirk.mahler@buschmais.com      Dirk Mahler      2                   2   \n",
       "4            dirk.mahler@asml.com      Dirk Mahler      2                   2   \n",
       "7           antoine.rey@gmail.com      Antoine Rey      3                   2   \n",
       "8             antoine.rey@free.fr      Antoine Rey      3                   2   \n",
       "13            ameya@pandilwar.com  Ameya Pandilwar      1                   2   \n",
       "14              ameya@ccs.neu.edu  Ameya Pandilwar      1                   2   \n",
       "22            misvy@gopivotal,com      michaelisvy      0                   3   \n",
       "23            misvy@gopivotal.com      michaelisvy      0                   3   \n",
       "24               misvy@vmware.com      michaelisvy      0                   3   \n",
       "25               misvy@vmware.com              Mic     22                   1   \n",
       "\n",
       "    index_from_emails  name_from_emails  \n",
       "0                   0                 2  \n",
       "1                   0                 2  \n",
       "3                  39                 1  \n",
       "4                  38                 1  \n",
       "7                  28                 1  \n",
       "8                  27                 1  \n",
       "13                 25                 1  \n",
       "14                 23                 1  \n",
       "22                  9                 1  \n",
       "23                 10                 1  \n",
       "24                  1                 2  \n",
       "25                  1                 2  "
      ]
     },
     "execution_count": 9,
     "metadata": {},
     "output_type": "execute_result"
    }
   ],
   "source": [
    "plot_data = commits.drop_duplicates()\\\n",
    "   .merge(grouped_by_authors, left_on='name', right_on=\"name\", suffixes=[\"\", \"_from_authors\"], how=\"outer\")\\\n",
    "    .merge(grouped_by_email, left_on='email', right_on=\"email\", suffixes=[\"\", \"_from_emails\"], how=\"outer\")\n",
    "plot_data = plot_data[\\\n",
    "                        (plot_data['email_from_authors'] > 1) | \\\n",
    "                        (plot_data['name_from_emails'] > 1)]\n",
    "plot_data"
   ]
  },
  {
   "cell_type": "markdown",
   "metadata": {},
   "source": [
    "I just add some nicely normalized indexes for plotting (note: there might be a method that's easier)"
   ]
  },
  {
   "cell_type": "code",
   "execution_count": 10,
   "metadata": {
    "collapsed": false
   },
   "outputs": [
    {
     "data": {
      "text/html": [
       "<div>\n",
       "<table border=\"1\" class=\"dataframe\">\n",
       "  <thead>\n",
       "    <tr style=\"text-align: right;\">\n",
       "      <th></th>\n",
       "      <th>email</th>\n",
       "      <th>name</th>\n",
       "      <th>index</th>\n",
       "      <th>email_from_authors</th>\n",
       "      <th>index_from_emails</th>\n",
       "      <th>name_from_emails</th>\n",
       "      <th>normalized_index_name</th>\n",
       "      <th>normalized_index_email</th>\n",
       "    </tr>\n",
       "  </thead>\n",
       "  <tbody>\n",
       "    <tr>\n",
       "      <th>0</th>\n",
       "      <td>feststelltaste@googlemail.com</td>\n",
       "      <td>Markus Harrer</td>\n",
       "      <td>21</td>\n",
       "      <td>1</td>\n",
       "      <td>0</td>\n",
       "      <td>2</td>\n",
       "      <td>50</td>\n",
       "      <td>0</td>\n",
       "    </tr>\n",
       "    <tr>\n",
       "      <th>1</th>\n",
       "      <td>feststelltaste@googlemail.com</td>\n",
       "      <td>feststelltaste</td>\n",
       "      <td>14</td>\n",
       "      <td>1</td>\n",
       "      <td>0</td>\n",
       "      <td>2</td>\n",
       "      <td>40</td>\n",
       "      <td>0</td>\n",
       "    </tr>\n",
       "    <tr>\n",
       "      <th>3</th>\n",
       "      <td>dirk.mahler@buschmais.com</td>\n",
       "      <td>Dirk Mahler</td>\n",
       "      <td>2</td>\n",
       "      <td>2</td>\n",
       "      <td>39</td>\n",
       "      <td>1</td>\n",
       "      <td>20</td>\n",
       "      <td>90</td>\n",
       "    </tr>\n",
       "    <tr>\n",
       "      <th>4</th>\n",
       "      <td>dirk.mahler@asml.com</td>\n",
       "      <td>Dirk Mahler</td>\n",
       "      <td>2</td>\n",
       "      <td>2</td>\n",
       "      <td>38</td>\n",
       "      <td>1</td>\n",
       "      <td>20</td>\n",
       "      <td>80</td>\n",
       "    </tr>\n",
       "    <tr>\n",
       "      <th>7</th>\n",
       "      <td>antoine.rey@gmail.com</td>\n",
       "      <td>Antoine Rey</td>\n",
       "      <td>3</td>\n",
       "      <td>2</td>\n",
       "      <td>28</td>\n",
       "      <td>1</td>\n",
       "      <td>30</td>\n",
       "      <td>70</td>\n",
       "    </tr>\n",
       "  </tbody>\n",
       "</table>\n",
       "</div>"
      ],
      "text/plain": [
       "                           email            name  index  email_from_authors  \\\n",
       "0  feststelltaste@googlemail.com   Markus Harrer     21                   1   \n",
       "1  feststelltaste@googlemail.com  feststelltaste     14                   1   \n",
       "3      dirk.mahler@buschmais.com     Dirk Mahler      2                   2   \n",
       "4           dirk.mahler@asml.com     Dirk Mahler      2                   2   \n",
       "7          antoine.rey@gmail.com     Antoine Rey      3                   2   \n",
       "\n",
       "   index_from_emails  name_from_emails  normalized_index_name  \\\n",
       "0                  0                 2                     50   \n",
       "1                  0                 2                     40   \n",
       "3                 39                 1                     20   \n",
       "4                 38                 1                     20   \n",
       "7                 28                 1                     30   \n",
       "\n",
       "   normalized_index_email  \n",
       "0                       0  \n",
       "1                       0  \n",
       "3                      90  \n",
       "4                      80  \n",
       "7                      70  "
      ]
     },
     "execution_count": 10,
     "metadata": {},
     "output_type": "execute_result"
    }
   ],
   "source": [
    "from sklearn import preprocessing\n",
    "le = preprocessing.LabelEncoder()\n",
    "le.fit(plot_data['index'])\n",
    "plot_data['normalized_index_name'] = le.transform(plot_data['index']) * 10\n",
    "le.fit(plot_data['index_from_emails'])\n",
    "plot_data['normalized_index_email'] = le.transform(plot_data['index_from_emails']) * 10\n",
    "plot_data.head()"
   ]
  },
  {
   "cell_type": "markdown",
   "metadata": {},
   "source": [
    "Plot an assignment table with the relationships between authors and email addresses."
   ]
  },
  {
   "cell_type": "code",
   "execution_count": 11,
   "metadata": {
    "collapsed": false
   },
   "outputs": [
    {
     "data": {
      "image/png": "[encoded data removed]",
      "text/plain": [
       "<matplotlib.figure.Figure at 0x24319c29a58>"
      ]
     },
     "metadata": {},
     "output_type": "display_data"
    }
   ],
   "source": [
    "fig1 = plt.figure(facecolor='white')\n",
    "ax1 = plt.axes(frameon=False)\n",
    "ax1.set_frame_on(False)\n",
    "ax1.get_xaxis().tick_bottom()\n",
    "ax1.axes.get_yaxis().set_visible(False)\n",
    "ax1.axes.get_xaxis().set_visible(False)\n",
    "\n",
    "# simply plot all the data (imperfection: duplicated will be displayed in bold font)\n",
    "for data in plot_data.iterrows():\n",
    "    row = data[1]\n",
    "    plt.text(0, row['normalized_index_name'], row['name'], fontsize=15, horizontalalignment=\"right\")\n",
    "    plt.text(1, row['normalized_index_email'], row['email'], fontsize=15, horizontalalignment=\"left\")\n",
    "    plt.plot([0,1],[row['normalized_index_name'],row['normalized_index_email']],'grey', linewidth=1.0)"
   ]
  },
  {
   "cell_type": "markdown",
   "metadata": {},
   "source": [
    "Alright! Here we are! We see that multiple authors use multiple email addresses. And I see a pattern that could be used to get better data. Do you, too? \n",
    "\n",
    "## Interlude - end"
   ]
  },
  {
   "cell_type": "markdown",
   "metadata": {},
   "source": [
    "If you skipped the interlude section: I just visualized / demonstrated that there are different email addresses per author (and vise versa). Some authors choose to use another email address and some choose a different name for committing to the repositories (and a few did both things)."
   ]
  },
  {
   "cell_type": "markdown",
   "metadata": {},
   "source": [
    "## Data Wrangling"
   ]
  },
  {
   "cell_type": "markdown",
   "metadata": {},
   "source": [
    "The situation above is a typical case of a little data messiness and &ndash; to demotivate you &ndash; absolutely normal. So we have to do some data correction before we start our analysis. Otherwise, we would ignore reality completely and deliver wrong results. This could damage our reputation as a data analyst and is something we have to avoid at all costs!\n",
    "\n",
    "We want to fix the problem with the multiple authors having multiple email addresses (but are the same persons). We need a mapping between them. Should we do it manually? That would be kind of crazy. As mentioned above, there is a pattern in the data to fix that. We simply use the name of the email address as an identifier for a person.\n",
    "\n",
    "Let's give it a try by extracting the name part from the email address with a simple split."
   ]
  },
  {
   "cell_type": "code",
   "execution_count": 12,
   "metadata": {
    "collapsed": false
   },
   "outputs": [
    {
     "data": {
      "text/html": [
       "<div>\n",
       "<table border=\"1\" class=\"dataframe\">\n",
       "  <thead>\n",
       "    <tr style=\"text-align: right;\">\n",
       "      <th></th>\n",
       "      <th>email</th>\n",
       "      <th>name</th>\n",
       "      <th>nickname</th>\n",
       "    </tr>\n",
       "  </thead>\n",
       "  <tbody>\n",
       "    <tr>\n",
       "      <th>0</th>\n",
       "      <td>feststelltaste@googlemail.com</td>\n",
       "      <td>Markus Harrer</td>\n",
       "      <td>feststelltaste</td>\n",
       "    </tr>\n",
       "    <tr>\n",
       "      <th>1</th>\n",
       "      <td>feststelltaste@googlemail.com</td>\n",
       "      <td>feststelltaste</td>\n",
       "      <td>feststelltaste</td>\n",
       "    </tr>\n",
       "    <tr>\n",
       "      <th>2</th>\n",
       "      <td>feststelltaste@googlemail.com</td>\n",
       "      <td>feststelltaste</td>\n",
       "      <td>feststelltaste</td>\n",
       "    </tr>\n",
       "    <tr>\n",
       "      <th>3</th>\n",
       "      <td>feststelltaste@googlemail.com</td>\n",
       "      <td>feststelltaste</td>\n",
       "      <td>feststelltaste</td>\n",
       "    </tr>\n",
       "    <tr>\n",
       "      <th>4</th>\n",
       "      <td>feststelltaste@googlemail.com</td>\n",
       "      <td>feststelltaste</td>\n",
       "      <td>feststelltaste</td>\n",
       "    </tr>\n",
       "  </tbody>\n",
       "</table>\n",
       "</div>"
      ],
      "text/plain": [
       "                           email            name        nickname\n",
       "0  feststelltaste@googlemail.com   Markus Harrer  feststelltaste\n",
       "1  feststelltaste@googlemail.com  feststelltaste  feststelltaste\n",
       "2  feststelltaste@googlemail.com  feststelltaste  feststelltaste\n",
       "3  feststelltaste@googlemail.com  feststelltaste  feststelltaste\n",
       "4  feststelltaste@googlemail.com  feststelltaste  feststelltaste"
      ]
     },
     "execution_count": 12,
     "metadata": {},
     "output_type": "execute_result"
    }
   ],
   "source": [
    "commits['nickname'] = commits['email'].apply(lambda x : x.split(\"@\")[0])\n",
    "commits.head()"
   ]
  },
  {
   "cell_type": "markdown",
   "metadata": {},
   "source": [
    "That looks pretty good. Now we want to get only the person's real name instead of the nickname. We use a little heuristic to determine the \"best fitting\" real name and replace all the others. For this, we need group by nicknames and determine the real names."
   ]
  },
  {
   "cell_type": "code",
   "execution_count": 13,
   "metadata": {
    "collapsed": false
   },
   "outputs": [
    {
     "data": {
      "text/html": [
       "<div>\n",
       "<table border=\"1\" class=\"dataframe\">\n",
       "  <thead>\n",
       "    <tr style=\"text-align: right;\">\n",
       "      <th></th>\n",
       "      <th>real_name</th>\n",
       "    </tr>\n",
       "    <tr>\n",
       "      <th>nickname</th>\n",
       "      <th></th>\n",
       "    </tr>\n",
       "  </thead>\n",
       "  <tbody>\n",
       "    <tr>\n",
       "      <th>Andrej1</th>\n",
       "      <td>AndrejGajdos</td>\n",
       "    </tr>\n",
       "    <tr>\n",
       "      <th>ameya</th>\n",
       "      <td>Ameya Pandilwar</td>\n",
       "    </tr>\n",
       "    <tr>\n",
       "      <th>angel.aguilera</th>\n",
       "      <td>Angel Aguilera</td>\n",
       "    </tr>\n",
       "    <tr>\n",
       "      <th>antoine.rey</th>\n",
       "      <td>Antoine Rey</td>\n",
       "    </tr>\n",
       "    <tr>\n",
       "      <th>armagan.ersoz</th>\n",
       "      <td>kadinyazilimci</td>\n",
       "    </tr>\n",
       "  </tbody>\n",
       "</table>\n",
       "</div>"
      ],
      "text/plain": [
       "                      real_name\n",
       "nickname                       \n",
       "Andrej1            AndrejGajdos\n",
       "ameya           Ameya Pandilwar\n",
       "angel.aguilera   Angel Aguilera\n",
       "antoine.rey         Antoine Rey\n",
       "armagan.ersoz    kadinyazilimci"
      ]
     },
     "execution_count": 13,
     "metadata": {},
     "output_type": "execute_result"
    }
   ],
   "source": [
    "def determine_real_name(names):\n",
    "    \n",
    "    real_name = \"\"\n",
    "    \n",
    "    for name in names:\n",
    "        # assumption: if there is a whitespace in the name, \n",
    "        # someone thought about it to be first name and surname\n",
    "        if \" \" in name:\n",
    "            return name\n",
    "        # else take the longest name\n",
    "        elif len(name) > len(real_name):\n",
    "            real_name = name\n",
    "            \n",
    "    return real_name\n",
    "        \n",
    "commits_grouped = commits[['nickname', 'name']].groupby(['nickname']).agg(determine_real_name)\n",
    "commits_grouped = commits_grouped.rename(columns={'name' : 'real_name'})\n",
    "commits_grouped.head()"
   ]
  },
  {
   "cell_type": "markdown",
   "metadata": {},
   "source": [
    "That looks great! Now we switch back to our previous DataFrame by joining in the new information."
   ]
  },
  {
   "cell_type": "code",
   "execution_count": 14,
   "metadata": {
    "collapsed": false
   },
   "outputs": [
    {
     "data": {
      "text/html": [
       "<div>\n",
       "<table border=\"1\" class=\"dataframe\">\n",
       "  <thead>\n",
       "    <tr style=\"text-align: right;\">\n",
       "      <th></th>\n",
       "      <th>email</th>\n",
       "      <th>name</th>\n",
       "      <th>nickname</th>\n",
       "      <th>real_name</th>\n",
       "    </tr>\n",
       "  </thead>\n",
       "  <tbody>\n",
       "    <tr>\n",
       "      <th>0</th>\n",
       "      <td>feststelltaste@googlemail.com</td>\n",
       "      <td>Markus Harrer</td>\n",
       "      <td>feststelltaste</td>\n",
       "      <td>Markus Harrer</td>\n",
       "    </tr>\n",
       "    <tr>\n",
       "      <th>1</th>\n",
       "      <td>feststelltaste@googlemail.com</td>\n",
       "      <td>feststelltaste</td>\n",
       "      <td>feststelltaste</td>\n",
       "      <td>Markus Harrer</td>\n",
       "    </tr>\n",
       "    <tr>\n",
       "      <th>27</th>\n",
       "      <td>feststelltaste@users.noreply.github.com</td>\n",
       "      <td>Markus</td>\n",
       "      <td>feststelltaste</td>\n",
       "      <td>Markus Harrer</td>\n",
       "    </tr>\n",
       "    <tr>\n",
       "      <th>29</th>\n",
       "      <td>dirk.mahler@buschmais.com</td>\n",
       "      <td>Dirk Mahler</td>\n",
       "      <td>dirk.mahler</td>\n",
       "      <td>Dirk Mahler</td>\n",
       "    </tr>\n",
       "    <tr>\n",
       "      <th>75</th>\n",
       "      <td>dirk.mahler@globalfoundries.com</td>\n",
       "      <td>dmahler</td>\n",
       "      <td>dirk.mahler</td>\n",
       "      <td>Dirk Mahler</td>\n",
       "    </tr>\n",
       "  </tbody>\n",
       "</table>\n",
       "</div>"
      ],
      "text/plain": [
       "                                      email            name        nickname  \\\n",
       "0             feststelltaste@googlemail.com   Markus Harrer  feststelltaste   \n",
       "1             feststelltaste@googlemail.com  feststelltaste  feststelltaste   \n",
       "27  feststelltaste@users.noreply.github.com          Markus  feststelltaste   \n",
       "29                dirk.mahler@buschmais.com     Dirk Mahler     dirk.mahler   \n",
       "75          dirk.mahler@globalfoundries.com         dmahler     dirk.mahler   \n",
       "\n",
       "        real_name  \n",
       "0   Markus Harrer  \n",
       "1   Markus Harrer  \n",
       "27  Markus Harrer  \n",
       "29    Dirk Mahler  \n",
       "75    Dirk Mahler  "
      ]
     },
     "execution_count": 14,
     "metadata": {},
     "output_type": "execute_result"
    }
   ],
   "source": [
    "commits = commits.merge(commits_grouped, left_on='nickname', right_index=True)\n",
    "# drop duplicated for better displaying\n",
    "commits.drop_duplicates().head()"
   ]
  },
  {
   "cell_type": "markdown",
   "metadata": {},
   "source": [
    "That should be enough data cleansing for today!"
   ]
  },
  {
   "cell_type": "markdown",
   "metadata": {},
   "source": [
    "# Analysis\n",
    "Now that we have valid data, we can produce some new insights."
   ]
  },
  {
   "cell_type": "markdown",
   "metadata": {},
   "source": [
    "## Top 10 committers\n",
    "Easy tasks first: We simply produce a table with the Top 10 committers. We group by the real name and count every commit by using a subset (only the <tt>email</tt> column) of the DataFrame to only get on column returned. We rename the returned columns to <tt>commits</tt> for displaying reasons (would otherwise be <tt>email</tt>). Then we just list the top 10 entries after sorting appropriately."
   ]
  },
  {
   "cell_type": "code",
   "execution_count": 15,
   "metadata": {
    "collapsed": false
   },
   "outputs": [
    {
     "data": {
      "text/html": [
       "<div>\n",
       "<table border=\"1\" class=\"dataframe\">\n",
       "  <thead>\n",
       "    <tr style=\"text-align: right;\">\n",
       "      <th></th>\n",
       "      <th>commits</th>\n",
       "    </tr>\n",
       "    <tr>\n",
       "      <th>real_name</th>\n",
       "      <th></th>\n",
       "    </tr>\n",
       "  </thead>\n",
       "  <tbody>\n",
       "    <tr>\n",
       "      <th>michaelisvy</th>\n",
       "      <td>298</td>\n",
       "    </tr>\n",
       "    <tr>\n",
       "      <th>Antoine Rey</th>\n",
       "      <td>112</td>\n",
       "    </tr>\n",
       "    <tr>\n",
       "      <th>Dirk Mahler</th>\n",
       "      <td>51</td>\n",
       "    </tr>\n",
       "    <tr>\n",
       "      <th>Keith Donald</th>\n",
       "      <td>35</td>\n",
       "    </tr>\n",
       "    <tr>\n",
       "      <th>Markus Harrer</th>\n",
       "      <td>29</td>\n",
       "    </tr>\n",
       "    <tr>\n",
       "      <th>Costin Leau</th>\n",
       "      <td>28</td>\n",
       "    </tr>\n",
       "    <tr>\n",
       "      <th>Tomas Repel</th>\n",
       "      <td>5</td>\n",
       "    </tr>\n",
       "    <tr>\n",
       "      <th>Thibault Duchateau</th>\n",
       "      <td>5</td>\n",
       "    </tr>\n",
       "    <tr>\n",
       "      <th>Cyrille Le Clerc</th>\n",
       "      <td>5</td>\n",
       "    </tr>\n",
       "    <tr>\n",
       "      <th>Dapeng</th>\n",
       "      <td>5</td>\n",
       "    </tr>\n",
       "  </tbody>\n",
       "</table>\n",
       "</div>"
      ],
      "text/plain": [
       "                    commits\n",
       "real_name                  \n",
       "michaelisvy             298\n",
       "Antoine Rey             112\n",
       "Dirk Mahler              51\n",
       "Keith Donald             35\n",
       "Markus Harrer            29\n",
       "Costin Leau              28\n",
       "Tomas Repel               5\n",
       "Thibault Duchateau        5\n",
       "Cyrille Le Clerc          5\n",
       "Dapeng                    5"
      ]
     },
     "execution_count": 15,
     "metadata": {},
     "output_type": "execute_result"
    }
   ],
   "source": [
    "committers = commits.groupby('real_name')[['email']]\\\n",
    "  .count().rename(columns={'email' : 'commits'})\\\n",
    "    .sort_values('commits', ascending=False)\n",
    "committers.head(10)"
   ]
  },
  {
   "cell_type": "code",
   "execution_count": 16,
   "metadata": {
    "collapsed": false
   },
   "outputs": [
    {
     "data": {
      "text/html": [
       "<div>\n",
       "<table border=\"1\" class=\"dataframe\">\n",
       "  <thead>\n",
       "    <tr style=\"text-align: right;\">\n",
       "      <th></th>\n",
       "      <th>commits</th>\n",
       "    </tr>\n",
       "    <tr>\n",
       "      <th>real_name</th>\n",
       "      <th></th>\n",
       "    </tr>\n",
       "  </thead>\n",
       "  <tbody>\n",
       "    <tr>\n",
       "      <th>michaelisvy</th>\n",
       "      <td>298</td>\n",
       "    </tr>\n",
       "    <tr>\n",
       "      <th>Antoine Rey</th>\n",
       "      <td>112</td>\n",
       "    </tr>\n",
       "    <tr>\n",
       "      <th>Dirk Mahler</th>\n",
       "      <td>51</td>\n",
       "    </tr>\n",
       "    <tr>\n",
       "      <th>Keith Donald</th>\n",
       "      <td>35</td>\n",
       "    </tr>\n",
       "    <tr>\n",
       "      <th>Markus Harrer</th>\n",
       "      <td>29</td>\n",
       "    </tr>\n",
       "    <tr>\n",
       "      <th>Costin Leau</th>\n",
       "      <td>28</td>\n",
       "    </tr>\n",
       "    <tr>\n",
       "      <th>Tomas Repel</th>\n",
       "      <td>5</td>\n",
       "    </tr>\n",
       "    <tr>\n",
       "      <th>Thibault Duchateau</th>\n",
       "      <td>5</td>\n",
       "    </tr>\n",
       "    <tr>\n",
       "      <th>Cyrille Le Clerc</th>\n",
       "      <td>5</td>\n",
       "    </tr>\n",
       "    <tr>\n",
       "      <th>Dapeng</th>\n",
       "      <td>5</td>\n",
       "    </tr>\n",
       "  </tbody>\n",
       "</table>\n",
       "</div>"
      ],
      "text/plain": [
       "                    commits\n",
       "real_name                  \n",
       "michaelisvy             298\n",
       "Antoine Rey             112\n",
       "Dirk Mahler              51\n",
       "Keith Donald             35\n",
       "Markus Harrer            29\n",
       "Costin Leau              28\n",
       "Tomas Repel               5\n",
       "Thibault Duchateau        5\n",
       "Cyrille Le Clerc          5\n",
       "Dapeng                    5"
      ]
     },
     "execution_count": 16,
     "metadata": {},
     "output_type": "execute_result"
    }
   ],
   "source": [
    "committers.head(10)"
   ]
  },
  {
   "cell_type": "markdown",
   "metadata": {},
   "source": [
    "## Committer Distribution\n",
    "Next, we create a pie chart to get a good impression of the committers."
   ]
  },
  {
   "cell_type": "code",
   "execution_count": 17,
   "metadata": {
    "collapsed": false
   },
   "outputs": [
    {
     "data": {
      "text/plain": [
       "<matplotlib.axes._subplots.AxesSubplot at 0x24319d65d30>"
      ]
     },
     "execution_count": 17,
     "metadata": {},
     "output_type": "execute_result"
    },
    {
     "data": {
      "image/png": "[encoded data removed]",
      "text/plain": [
       "<matplotlib.figure.Figure at 0x24319d69e80>"
      ]
     },
     "metadata": {},
     "output_type": "display_data"
    }
   ],
   "source": [
    "committers['commits'].plot(kind='pie')"
   ]
  },
  {
   "cell_type": "markdown",
   "metadata": {},
   "source": [
    "Uhh...that looks ugly and kind of weird. Let's first try to fix the mess on the right side that shows all authors with minor changes by summing up their number of commits. We will use a threshold value that makes sense with our data (e. g. the committers that contribute more than 3/4 to the code) to identify them. A nice start is the description of the current data set."
   ]
  },
  {
   "cell_type": "code",
   "execution_count": 18,
   "metadata": {
    "collapsed": false
   },
   "outputs": [
    {
     "data": {
      "text/html": [
       "<div>\n",
       "<table border=\"1\" class=\"dataframe\">\n",
       "  <thead>\n",
       "    <tr style=\"text-align: right;\">\n",
       "      <th></th>\n",
       "      <th>commits</th>\n",
       "    </tr>\n",
       "  </thead>\n",
       "  <tbody>\n",
       "    <tr>\n",
       "      <th>count</th>\n",
       "      <td>37.000000</td>\n",
       "    </tr>\n",
       "    <tr>\n",
       "      <th>mean</th>\n",
       "      <td>16.540541</td>\n",
       "    </tr>\n",
       "    <tr>\n",
       "      <th>std</th>\n",
       "      <td>51.868742</td>\n",
       "    </tr>\n",
       "    <tr>\n",
       "      <th>min</th>\n",
       "      <td>1.000000</td>\n",
       "    </tr>\n",
       "    <tr>\n",
       "      <th>25%</th>\n",
       "      <td>1.000000</td>\n",
       "    </tr>\n",
       "    <tr>\n",
       "      <th>50%</th>\n",
       "      <td>1.000000</td>\n",
       "    </tr>\n",
       "    <tr>\n",
       "      <th>75%</th>\n",
       "      <td>5.000000</td>\n",
       "    </tr>\n",
       "    <tr>\n",
       "      <th>max</th>\n",
       "      <td>298.000000</td>\n",
       "    </tr>\n",
       "  </tbody>\n",
       "</table>\n",
       "</div>"
      ],
      "text/plain": [
       "          commits\n",
       "count   37.000000\n",
       "mean    16.540541\n",
       "std     51.868742\n",
       "min      1.000000\n",
       "25%      1.000000\n",
       "50%      1.000000\n",
       "75%      5.000000\n",
       "max    298.000000"
      ]
     },
     "execution_count": 18,
     "metadata": {},
     "output_type": "execute_result"
    }
   ],
   "source": [
    "committers_description = committers.describe()\n",
    "committers_description"
   ]
  },
  {
   "cell_type": "markdown",
   "metadata": {},
   "source": [
    "OK, we want the 3/4 main contributors..."
   ]
  },
  {
   "cell_type": "code",
   "execution_count": 19,
   "metadata": {
    "collapsed": false
   },
   "outputs": [
    {
     "data": {
      "text/plain": [
       "5.0"
      ]
     },
     "execution_count": 19,
     "metadata": {},
     "output_type": "execute_result"
    }
   ],
   "source": [
    "threshold = committers_description.loc['75%'].values[0]\n",
    "threshold"
   ]
  },
  {
   "cell_type": "markdown",
   "metadata": {},
   "source": [
    "...that is > 75% of the commits of all contributors."
   ]
  },
  {
   "cell_type": "code",
   "execution_count": 20,
   "metadata": {
    "collapsed": false
   },
   "outputs": [
    {
     "data": {
      "text/html": [
       "<div>\n",
       "<table border=\"1\" class=\"dataframe\">\n",
       "  <thead>\n",
       "    <tr style=\"text-align: right;\">\n",
       "      <th></th>\n",
       "      <th>commits</th>\n",
       "    </tr>\n",
       "    <tr>\n",
       "      <th>real_name</th>\n",
       "      <th></th>\n",
       "    </tr>\n",
       "  </thead>\n",
       "  <tbody>\n",
       "    <tr>\n",
       "      <th>Tomas Repel</th>\n",
       "      <td>5</td>\n",
       "    </tr>\n",
       "    <tr>\n",
       "      <th>Thibault Duchateau</th>\n",
       "      <td>5</td>\n",
       "    </tr>\n",
       "    <tr>\n",
       "      <th>Cyrille Le Clerc</th>\n",
       "      <td>5</td>\n",
       "    </tr>\n",
       "    <tr>\n",
       "      <th>Dapeng</th>\n",
       "      <td>5</td>\n",
       "    </tr>\n",
       "    <tr>\n",
       "      <th>Gordon Dickens</th>\n",
       "      <td>5</td>\n",
       "    </tr>\n",
       "  </tbody>\n",
       "</table>\n",
       "</div>"
      ],
      "text/plain": [
       "                    commits\n",
       "real_name                  \n",
       "Tomas Repel               5\n",
       "Thibault Duchateau        5\n",
       "Cyrille Le Clerc          5\n",
       "Dapeng                    5\n",
       "Gordon Dickens            5"
      ]
     },
     "execution_count": 20,
     "metadata": {},
     "output_type": "execute_result"
    }
   ],
   "source": [
    "minor_committers = committers[committers['commits'] <= threshold]\n",
    "minor_committers.head()"
   ]
  },
  {
   "cell_type": "markdown",
   "metadata": {},
   "source": [
    "These are the entries we want to combine to our new \"Others\" section. But we don't want to loose the number of changes, so we store them for later usage."
   ]
  },
  {
   "cell_type": "code",
   "execution_count": 21,
   "metadata": {
    "collapsed": false
   },
   "outputs": [
    {
     "data": {
      "text/plain": [
       "commits    59\n",
       "dtype: int64"
      ]
     },
     "execution_count": 21,
     "metadata": {},
     "output_type": "execute_result"
    }
   ],
   "source": [
    "others_number_of_changes = minor_committers.sum()\n",
    "others_number_of_changes"
   ]
  },
  {
   "cell_type": "markdown",
   "metadata": {},
   "source": [
    "Now we are deleting all authors that are in the <tt>author_minor_changes</tt>'s DataFrame. To not check on the threshold value from above again, we reuse the already calculated DataFrame."
   ]
  },
  {
   "cell_type": "code",
   "execution_count": 22,
   "metadata": {
    "collapsed": false
   },
   "outputs": [
    {
     "data": {
      "text/html": [
       "<div>\n",
       "<table border=\"1\" class=\"dataframe\">\n",
       "  <thead>\n",
       "    <tr style=\"text-align: right;\">\n",
       "      <th></th>\n",
       "      <th>commits</th>\n",
       "    </tr>\n",
       "    <tr>\n",
       "      <th>real_name</th>\n",
       "      <th></th>\n",
       "    </tr>\n",
       "  </thead>\n",
       "  <tbody>\n",
       "    <tr>\n",
       "      <th>Colin But</th>\n",
       "      <td>NaN</td>\n",
       "    </tr>\n",
       "    <tr>\n",
       "      <th>Craig Dennis</th>\n",
       "      <td>NaN</td>\n",
       "    </tr>\n",
       "    <tr>\n",
       "      <th>Mike Eltsufin</th>\n",
       "      <td>NaN</td>\n",
       "    </tr>\n",
       "    <tr>\n",
       "      <th>Faisal Hameed</th>\n",
       "      <td>NaN</td>\n",
       "    </tr>\n",
       "    <tr>\n",
       "      <th>thinksh</th>\n",
       "      <td>NaN</td>\n",
       "    </tr>\n",
       "  </tbody>\n",
       "</table>\n",
       "</div>"
      ],
      "text/plain": [
       "               commits\n",
       "real_name             \n",
       "Colin But          NaN\n",
       "Craig Dennis       NaN\n",
       "Mike Eltsufin      NaN\n",
       "Faisal Hameed      NaN\n",
       "thinksh            NaN"
      ]
     },
     "execution_count": 22,
     "metadata": {},
     "output_type": "execute_result"
    }
   ],
   "source": [
    "main_committers = committers[~committers.isin(minor_committers)]\n",
    "main_committers.tail()"
   ]
  },
  {
   "cell_type": "markdown",
   "metadata": {},
   "source": [
    "This gives us for the contributors with just a few commits missing values for the <tt>changes</tt> column, because these values were in the <tt>author_minor_changes</tt> DataFrame. We drop all Nan values to get only the major contributors."
   ]
  },
  {
   "cell_type": "code",
   "execution_count": 23,
   "metadata": {
    "collapsed": false
   },
   "outputs": [
    {
     "data": {
      "text/html": [
       "<div>\n",
       "<table border=\"1\" class=\"dataframe\">\n",
       "  <thead>\n",
       "    <tr style=\"text-align: right;\">\n",
       "      <th></th>\n",
       "      <th>commits</th>\n",
       "    </tr>\n",
       "    <tr>\n",
       "      <th>real_name</th>\n",
       "      <th></th>\n",
       "    </tr>\n",
       "  </thead>\n",
       "  <tbody>\n",
       "    <tr>\n",
       "      <th>michaelisvy</th>\n",
       "      <td>298.0</td>\n",
       "    </tr>\n",
       "    <tr>\n",
       "      <th>Antoine Rey</th>\n",
       "      <td>112.0</td>\n",
       "    </tr>\n",
       "    <tr>\n",
       "      <th>Dirk Mahler</th>\n",
       "      <td>51.0</td>\n",
       "    </tr>\n",
       "    <tr>\n",
       "      <th>Keith Donald</th>\n",
       "      <td>35.0</td>\n",
       "    </tr>\n",
       "    <tr>\n",
       "      <th>Markus Harrer</th>\n",
       "      <td>29.0</td>\n",
       "    </tr>\n",
       "    <tr>\n",
       "      <th>Costin Leau</th>\n",
       "      <td>28.0</td>\n",
       "    </tr>\n",
       "  </tbody>\n",
       "</table>\n",
       "</div>"
      ],
      "text/plain": [
       "               commits\n",
       "real_name             \n",
       "michaelisvy      298.0\n",
       "Antoine Rey      112.0\n",
       "Dirk Mahler       51.0\n",
       "Keith Donald      35.0\n",
       "Markus Harrer     29.0\n",
       "Costin Leau       28.0"
      ]
     },
     "execution_count": 23,
     "metadata": {},
     "output_type": "execute_result"
    }
   ],
   "source": [
    "main_committers = main_committers.dropna()\n",
    "main_committers"
   ]
  },
  {
   "cell_type": "markdown",
   "metadata": {},
   "source": [
    "We add the \"Others\" row by appending to the DataFrame"
   ]
  },
  {
   "cell_type": "code",
   "execution_count": 24,
   "metadata": {
    "collapsed": false
   },
   "outputs": [
    {
     "data": {
      "text/html": [
       "<div>\n",
       "<table border=\"1\" class=\"dataframe\">\n",
       "  <thead>\n",
       "    <tr style=\"text-align: right;\">\n",
       "      <th></th>\n",
       "      <th>commits</th>\n",
       "    </tr>\n",
       "    <tr>\n",
       "      <th>real_name</th>\n",
       "      <th></th>\n",
       "    </tr>\n",
       "  </thead>\n",
       "  <tbody>\n",
       "    <tr>\n",
       "      <th>michaelisvy</th>\n",
       "      <td>298.0</td>\n",
       "    </tr>\n",
       "    <tr>\n",
       "      <th>Antoine Rey</th>\n",
       "      <td>112.0</td>\n",
       "    </tr>\n",
       "    <tr>\n",
       "      <th>Dirk Mahler</th>\n",
       "      <td>51.0</td>\n",
       "    </tr>\n",
       "    <tr>\n",
       "      <th>Keith Donald</th>\n",
       "      <td>35.0</td>\n",
       "    </tr>\n",
       "    <tr>\n",
       "      <th>Markus Harrer</th>\n",
       "      <td>29.0</td>\n",
       "    </tr>\n",
       "    <tr>\n",
       "      <th>Costin Leau</th>\n",
       "      <td>28.0</td>\n",
       "    </tr>\n",
       "    <tr>\n",
       "      <th>Others</th>\n",
       "      <td>59.0</td>\n",
       "    </tr>\n",
       "  </tbody>\n",
       "</table>\n",
       "</div>"
      ],
      "text/plain": [
       "               commits\n",
       "real_name             \n",
       "michaelisvy      298.0\n",
       "Antoine Rey      112.0\n",
       "Dirk Mahler       51.0\n",
       "Keith Donald      35.0\n",
       "Markus Harrer     29.0\n",
       "Costin Leau       28.0\n",
       "Others            59.0"
      ]
     },
     "execution_count": 24,
     "metadata": {},
     "output_type": "execute_result"
    }
   ],
   "source": [
    "main_committers.loc[\"Others\"] = others_number_of_changes\n",
    "main_committers"
   ]
  },
  {
   "cell_type": "markdown",
   "metadata": {},
   "source": [
    "Almost there, you redraw with some styling and minor adjustments."
   ]
  },
  {
   "cell_type": "code",
   "execution_count": 25,
   "metadata": {
    "collapsed": false
   },
   "outputs": [
    {
     "data": {
      "text/plain": [
       "<matplotlib.text.Text at 0x2431ae79c18>"
      ]
     },
     "execution_count": 25,
     "metadata": {},
     "output_type": "execute_result"
    },
    {
     "data": {
      "image/png": "[encoded data removed]",
      "text/plain": [
       "<matplotlib.figure.Figure at 0x243193aa518>"
      ]
     },
     "metadata": {},
     "output_type": "display_data"
    }
   ],
   "source": [
    "# some configuration for displaying nice diagrams\n",
    "plt.style.use('fivethirtyeight')\n",
    "plt.figure(facecolor='white')\n",
    "\n",
    "ax = main_committers['commits'].plot(\n",
    "    kind='pie', figsize=(6,6), title=\"Main committers\", \n",
    "    autopct='%.2f', fontsize=12)\n",
    "# get rid of the distracting label for the y-axis\n",
    "ax.set_ylabel(\"\")"
   ]
  },
  {
   "cell_type": "markdown",
   "metadata": {},
   "source": [
    "# Summary\n",
    "I hope you saw that there are some minor difficulties in working with data. We got the big problem with the authors and email addresses that we solved by correcting the names. We also transformed an ugly pie chart into a management-grade one.\n",
    "\n",
    "This analysis also gives you some handy lines of code for some common data analysis tasks."
   ]
  }
 ],
 "metadata": {
  "anaconda-cloud": {},
  "kernelspec": {
   "display_name": "Python [Root]",
   "language": "python",
   "name": "Python [Root]"
  },
  "language_info": {
   "codemirror_mode": {
    "name": "ipython",
    "version": 3
   },
   "file_extension": ".py",
   "mimetype": "text/x-python",
   "name": "python",
   "nbconvert_exporter": "python",
   "pygments_lexer": "ipython3",
   "version": "3.5.2"
  }
 },
 "nbformat": 4,
 "nbformat_minor": 0
}
