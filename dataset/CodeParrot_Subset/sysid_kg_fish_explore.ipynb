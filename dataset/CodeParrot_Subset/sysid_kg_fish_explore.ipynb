{
 "cells": [
  {
   "cell_type": "markdown",
   "metadata": {
    "_cell_guid": "cb85f668-a2e4-871b-cca0-487d142fdb9a"
   },
   "source": [
    "A simple exploration notebook to get some insights about the data.\n",
    "\n",
    "As per NDA, sample photos are confidential and also it says you cannot disclose confidential information without written consent from the Sponsors. More about NDA on this forum post. Thank you Alan for pointing it out to me.\n",
    "\n",
    "So here is the revised version of the exploration notebook where the animation part is commented. \n",
    "\n",
    "**Please uncomment the Animation part of the notebook and then run it in the local for animation**\n",
    "\n",
    "**Objective:**\n",
    "\n",
    "In this competition, The Nature Conservancy asks you to help them detect which species of fish appears on a fishing boat, based on images captured from boat cameras of various angles.  \n",
    "\n",
    "Your goal is to predict the likelihood of fish species in each picture.\n",
    "\n",
    "As mentioned in the data page, there are eight target categories available in the dataset.\n",
    "\n",
    " 1. Albacore tuna\n",
    " 2. Bigeye tuna\n",
    " 3. Yellowfin tuna\n",
    " 4. Mahi Mahi\n",
    " 5. Opah\n",
    " 6. Sharks\n",
    " 7. Other (meaning that there are fish present but not in the above categories)\n",
    " 8. No Fish (meaning that no fish is in the picture)\n",
    "\n",
    "**Important points to note:**\n",
    "\n",
    " 1. Pre-trained models and external data are allowed in the competition, but need to be posted on this [official forum thread][1]\n",
    " 2. The competition comprises of two stages. Test data for second stage will be released in the last week.   \n",
    "\n",
    "First let us see the number of image files present for each of the species\n",
    "\n",
    "\n",
    "  [1]: https://www.kaggle.com/c/the-nature-conservancy-fisheries-monitoring/forums/t/25428/official-pre-trained-model-and-data-thread/144487#post144487"
   ]
  },
  {
   "cell_type": "code",
   "execution_count": 1,
   "metadata": {
    "_cell_guid": "d829654d-7ead-ba09-892a-53b26a2f2f98"
   },
   "outputs": [
    {
     "name": "stdout",
     "output_type": "stream",
     "text": [
      "ALB\n",
      "BET\n",
      "DOL\n",
      "LAG\n",
      "NoF\n",
      "OTHER\n",
      "SHARK\n",
      "YFT\n",
      "\n"
     ]
    }
   ],
   "source": [
    "# This Python 3 environment comes with many helpful analytics libraries installed\n",
    "# It is defined by the kaggle/python docker image: https://github.com/kaggle/docker-python\n",
    "# For example, here's several helpful packages to load in \n",
    "\n",
    "import numpy as np # linear algebra\n",
    "import pandas as pd # data processing, CSV file I/O (e.g. pd.read_csv)\n",
    "from scipy.misc import imread\n",
    "import matplotlib.pyplot as plt\n",
    "import seaborn as sns\n",
    "%matplotlib inline\n",
    "\n",
    "from subprocess import check_output\n",
    "print(check_output([\"ls\", \"../input/train/\"]).decode(\"utf8\"))"
   ]
  },
  {
   "cell_type": "markdown",
   "metadata": {
    "_cell_guid": "6856e6c4-86f0-d052-4350-5965dffead5f"
   },
   "source": [
    "So there are 8 folders present inside the train folder, one for each species.\n",
    "\n",
    "Now let us check the number of files present in each of these sub folders. "
   ]
  },
  {
   "cell_type": "code",
   "execution_count": 2,
   "metadata": {
    "_cell_guid": "5582fb99-08dc-e37c-a8d9-65c1a8696c28"
   },
   "outputs": [
    {
     "name": "stdout",
     "output_type": "stream",
     "text": [
      "Number of files for the species ALB : 1719\n",
      "Number of files for the species BET : 200\n",
      "Number of files for the species DOL : 117\n",
      "Number of files for the species LAG : 67\n",
      "Number of files for the species NoF : 465\n",
      "Number of files for the species OTHER : 299\n",
      "Number of files for the species SHARK : 176\n",
      "Number of files for the species YFT : 734\n"
     ]
    },
    {
     "data": {
      "image/png": "[encoded data removed]",
      "text/plain": [
       "<matplotlib.figure.Figure at 0x7f247a105208>"
      ]
     },
     "metadata": {},
     "output_type": "display_data"
    }
   ],
   "source": [
    "sub_folders = check_output([\"ls\", \"../input/train/\"]).decode(\"utf8\").strip().split('\\n')\n",
    "count_dict = {}\n",
    "for sub_folder in sub_folders:\n",
    "    num_of_files = len(check_output([\"ls\", \"../input/train/\"+sub_folder]).decode(\"utf8\").strip().split('\\n'))\n",
    "    print(\"Number of files for the species\",sub_folder,\":\",num_of_files)\n",
    "    count_dict[sub_folder] = num_of_files\n",
    "    \n",
    "plt.figure(figsize=(12,4))\n",
    "sns.barplot(list(count_dict.keys()), list(count_dict.values()), alpha=0.8)\n",
    "plt.xlabel('Fish Species', fontsize=12)\n",
    "plt.ylabel('Number of Images', fontsize=12)\n",
    "plt.show()\n",
    "    "
   ]
  },
  {
   "cell_type": "markdown",
   "metadata": {
    "_cell_guid": "b88effc2-3d5b-2429-858d-960a21e880b3"
   },
   "source": [
    "So the number of files for species ALB (Albacore tuna) is much higher than other species. \n",
    "\n",
    "Let us look at the number of files present in the test folder."
   ]
  },
  {
   "cell_type": "code",
   "execution_count": 3,
   "metadata": {
    "_cell_guid": "87e55c70-4948-37d6-c01e-d1ab47d99112"
   },
   "outputs": [
    {
     "name": "stdout",
     "output_type": "stream",
     "text": [
      "Number of test files present : 1000\n"
     ]
    }
   ],
   "source": [
    "num_test_files = len(check_output([\"ls\", \"../input/test_stg1/\"]).decode(\"utf8\").strip().split('\\n'))\n",
    "print(\"Number of test files present :\", num_test_files)"
   ]
  },
  {
   "cell_type": "markdown",
   "metadata": {
    "_cell_guid": "de6eb5be-4045-4a6a-f143-c09905dd301c"
   },
   "source": [
    "**Image Size:**\n",
    "\n",
    "Now let us look at the image size of each of the files and see what different sizes are available."
   ]
  },
  {
   "cell_type": "code",
   "execution_count": 4,
   "metadata": {
    "_cell_guid": "337279fa-dee0-8b0c-6c43-6618c318a968"
   },
   "outputs": [
    {
     "data": {
      "image/png": "[encoded data removed]",
      "text/plain": [
       "<matplotlib.figure.Figure at 0x7f247a8ea550>"
      ]
     },
     "metadata": {},
     "output_type": "display_data"
    }
   ],
   "source": [
    "train_path = \"../input/train/\"\n",
    "sub_folders = check_output([\"ls\", train_path]).decode(\"utf8\").strip().split('\\n')\n",
    "different_file_sizes = {}\n",
    "for sub_folder in sub_folders:\n",
    "    file_names = check_output([\"ls\", train_path+sub_folder]).decode(\"utf8\").strip().split('\\n')\n",
    "    for file_name in file_names:\n",
    "        im_array = imread(train_path+sub_folder+\"/\"+file_name)\n",
    "        size = \"_\".join(map(str,list(im_array.shape)))\n",
    "        different_file_sizes[size] = different_file_sizes.get(size,0) + 1\n",
    "\n",
    "plt.figure(figsize=(12,4))\n",
    "sns.barplot(list(different_file_sizes.keys()), list(different_file_sizes.values()), alpha=0.8)\n",
    "plt.xlabel('Image size', fontsize=12)\n",
    "plt.ylabel('Number of Images', fontsize=12)\n",
    "plt.title(\"Image size present in train dataset\")\n",
    "plt.xticks(rotation='vertical')\n",
    "plt.show()"
   ]
  },
  {
   "cell_type": "markdown",
   "metadata": {
    "_cell_guid": "76d1700a-8d55-00fa-b3ca-4a51de863c0d"
   },
   "source": [
    "So 720_1280_3 is the most common image size available in the train data and 10 different sizes are available. \n",
    "\n",
    "720_1244_3 is the smallest size of the available images in train set and 974_1732_3 is the largest one.\n",
    "\n",
    "Now let us look at the distribution in test dataset as well."
   ]
  },
  {
   "cell_type": "code",
   "execution_count": 5,
   "metadata": {
    "_cell_guid": "6cab4900-7f3d-9060-9d30-c10047e9f3ac"
   },
   "outputs": [
    {
     "data": {
      "image/png": "[encoded data removed]",
      "text/plain": [
       "<matplotlib.figure.Figure at 0x7f247a0f1fd0>"
      ]
     },
     "metadata": {},
     "output_type": "display_data"
    }
   ],
   "source": [
    "test_path = \"../input/test_stg1/\"\n",
    "file_names = check_output([\"ls\", test_path]).decode(\"utf8\").strip().split('\\n')\n",
    "different_file_sizes = {}\n",
    "for file_name in file_names:\n",
    "        size = \"_\".join(map(str,list(imread(test_path+file_name).shape)))\n",
    "        different_file_sizes[size] = different_file_sizes.get(size,0) + 1\n",
    "\n",
    "plt.figure(figsize=(12,4))\n",
    "sns.barplot(list(different_file_sizes.keys()), list(different_file_sizes.values()), alpha=0.8)\n",
    "plt.xlabel('File size', fontsize=12)\n",
    "plt.ylabel('Number of Images', fontsize=12)\n",
    "plt.xticks(rotation='vertical')\n",
    "plt.title(\"Image size present in test dataset\")\n",
    "plt.show()"
   ]
  },
  {
   "cell_type": "markdown",
   "metadata": {
    "_cell_guid": "ba9108f2-8197-1cb1-2ab7-9f6fd3d959af"
   },
   "source": [
    "Test set also has a very similar distribution.\n",
    "\n",
    "**Animation:**\n",
    "\n",
    "Let us try to have some animation on the available images.  Not able to embed the video in the notebook.\n",
    "\n",
    "**Please uncomment the following part of the code and run it in local for animation**"
   ]
  },
  {
   "cell_type": "code",
   "execution_count": 6,
   "metadata": {
    "_cell_guid": "98c6d5e7-3d38-a7d1-c814-d48638af7f99"
   },
   "outputs": [
    {
     "data": {
      "text/plain": [
       "'\\nimport random\\nimport matplotlib.animation as animation\\nfrom matplotlib import animation, rc\\nfrom IPython.display import HTML\\n\\nrandom.seed(12345)\\ntrain_path = \"../input/train/\"\\nsub_folders = check_output([\"ls\", train_path]).decode(\"utf8\").strip().split(\\'\\n\\')\\ndifferent_file_sizes = {}\\nall_files = []\\nfor sub_folder in sub_folders:\\n    file_names = check_output([\"ls\", train_path+sub_folder]).decode(\"utf8\").strip().split(\\'\\n\\')\\n    selected_files = random.sample(file_names, 10)\\n    for file_name in selected_files:\\n        all_files.append([sub_folder,file_name])\\n\\nfig = plt.figure()\\nsns.set_style(\"whitegrid\", {\\'axes.grid\\' : False})\\nimg_file = \"\".join([train_path, sub_folder, \"/\", file_name])\\nim = plt.imshow(imread(img_file), vmin=0, vmax=255)\\n\\ndef updatefig(ind):\\n    sub_folder = all_files[ind][0]\\n    file_name = all_files[ind][1]\\n    img_file = \"\".join([train_path, sub_folder, \"/\", file_name])\\n    im.set_array(imread(img_file))\\n    plt.title(\"Species : \"+sub_folder, fontsize=15)\\n    return im,\\n\\nani = animation.FuncAnimation(fig, updatefig, frames=len(all_files))\\nani.save(\\'lb.gif\\', fps=1, writer=\\'imagemagick\\')\\n#rc(\\'animation\\', html=\\'html5\\')\\n#HTML(ani.to_html5_video())\\nplt.show()\\n'"
      ]
     },
     "execution_count": 6,
     "metadata": {},
     "output_type": "execute_result"
    }
   ],
   "source": [
    "\"\"\"\n",
    "import random\n",
    "import matplotlib.animation as animation\n",
    "from matplotlib import animation, rc\n",
    "from IPython.display import HTML\n",
    "\n",
    "random.seed(12345)\n",
    "train_path = \"../input/train/\"\n",
    "sub_folders = check_output([\"ls\", train_path]).decode(\"utf8\").strip().split('\\n')\n",
    "different_file_sizes = {}\n",
    "all_files = []\n",
    "for sub_folder in sub_folders:\n",
    "    file_names = check_output([\"ls\", train_path+sub_folder]).decode(\"utf8\").strip().split('\\n')\n",
    "    selected_files = random.sample(file_names, 10)\n",
    "    for file_name in selected_files:\n",
    "        all_files.append([sub_folder,file_name])\n",
    "\n",
    "fig = plt.figure()\n",
    "sns.set_style(\"whitegrid\", {'axes.grid' : False})\n",
    "img_file = \"\".join([train_path, sub_folder, \"/\", file_name])\n",
    "im = plt.imshow(imread(img_file), vmin=0, vmax=255)\n",
    "\n",
    "def updatefig(ind):\n",
    "    sub_folder = all_files[ind][0]\n",
    "    file_name = all_files[ind][1]\n",
    "    img_file = \"\".join([train_path, sub_folder, \"/\", file_name])\n",
    "    im.set_array(imread(img_file))\n",
    "    plt.title(\"Species : \"+sub_folder, fontsize=15)\n",
    "    return im,\n",
    "\n",
    "ani = animation.FuncAnimation(fig, updatefig, frames=len(all_files))\n",
    "ani.save('lb.gif', fps=1, writer='imagemagick')\n",
    "#rc('animation', html='html5')\n",
    "#HTML(ani.to_html5_video())\n",
    "plt.show()\n",
    "\"\"\""
   ]
  },
  {
   "cell_type": "markdown",
   "metadata": {
    "_cell_guid": "e8a321c9-6e33-a025-b8af-55dc8498e4a5"
   },
   "source": [
    "**Basic CNN Model using Keras:**\n",
    "\n",
    "Now let us try to build a CNN model on the dataset. Due to the memory constraints of the kernels, let us take only (500,500,3) array from top left corner of each image and then try to classify based on that portion.\n",
    "\n",
    "Kindly note that running it offline with the full image will give much better results. This is just a started script I tried and I am a newbie for image classification problems. "
   ]
  },
  {
   "cell_type": "code",
   "execution_count": 7,
   "metadata": {
    "_cell_guid": "a7203b5e-ecbe-935b-2bb9-38f7282902b7"
   },
   "outputs": [
    {
     "name": "stderr",
     "output_type": "stream",
     "text": [
      "Using TensorFlow backend.\n"
     ]
    },
    {
     "name": "stdout",
     "output_type": "stream",
     "text": [
      "Epoch 1/1\n",
      "../input/train/OTHER/img_02942.jpg\n",
      "(1, 500, 500, 3)\n",
      "../input/train/LAG/img_00784.jpg\n",
      "(1, 500, 500, 3)\n",
      "../input/train/NoF/img_00008.jpg\n",
      "(1, 500, 500, 3)\n",
      "../input/train/ALB/img_06979.jpg\n",
      "(1, 500, 500, 3)\n",
      "../input/train/ALB/img_00356.jpg\n",
      "(1, 500, 500, 3)\n",
      "../input/train/ALB/img_02174.jpg\n",
      "(1, 500, 500, 3)\n",
      "../input/train/ALB/img_03188.jpg\n",
      "(1, 500, 500, 3)\n",
      "../input/train/ALB/img_05648.jpg\n",
      "(1, 500, 500, 3)\n",
      "../input/train/ALB/img_05163.jpg\n",
      "(1, 500, 500, 3)\n",
      "../input/train/ALB/img_06563.jpg\n",
      "(1, 500, 500, 3)\n",
      "../input/train/ALB/img_04140.jpg\n",
      "(1, 500, 500, 3)\n",
      "  1/100 [..............................] - ETA: 194s - loss: 2.4752../input/train/ALB/img_06749.jpg\n",
      "(1, 500, 500, 3)\n",
      "  2/100 [..............................] - ETA: 146s - loss: 2.2721../input/train/ALB/img_02555.jpg\n",
      "(1, 500, 500, 3)\n",
      "  3/100 [..............................] - ETA: 131s - loss: 3.5473../input/train/DOL/img_06579.jpg\n",
      "(1, 500, 500, 3)\n",
      "  4/100 [>.............................] - ETA: 121s - loss: 4.3629../input/train/ALB/img_00466.jpg\n",
      "(1, 500, 500, 3)\n",
      "  5/100 [>.............................] - ETA: 117s - loss: 3.5295../input/train/BET/img_07311.jpg\n",
      "(1, 500, 500, 3)\n",
      "  6/100 [>.............................] - ETA: 112s - loss: 2.9605../input/train/YFT/img_04817.jpg\n",
      "(1, 500, 500, 3)\n",
      "  7/100 [=>............................] - ETA: 109s - loss: 2.5376../input/train/NoF/img_03174.jpg\n",
      "(1, 500, 500, 3)\n",
      "  8/100 [=>............................] - ETA: 106s - loss: 2.2204../input/train/LAG/img_02042.jpg\n",
      "(1, 500, 500, 3)\n",
      "  9/100 [=>............................] - ETA: 105s - loss: 1.9737../input/train/YFT/img_03947.jpg\n",
      "(1, 500, 500, 3)\n",
      " 10/100 [==>...........................] - ETA: 103s - loss: 1.7764../input/train/OTHER/img_00359.jpg\n",
      "(1, 500, 500, 3)\n",
      " 11/100 [==>...........................] - ETA: 101s - loss: 1.6149../input/train/DOL/img_02341.jpg\n",
      "(1, 500, 500, 3)\n",
      " 12/100 [==>...........................] - ETA: 99s - loss: 1.4803 ../input/train/ALB/img_00337.jpg\n",
      "(1, 500, 500, 3)\n",
      " 13/100 [==>...........................] - ETA: 97s - loss: 1.3665../input/train/DOL/img_00352.jpg\n",
      "(1, 500, 500, 3)\n",
      " 14/100 [===>..........................] - ETA: 96s - loss: 2.4201../input/train/YFT/img_03543.jpg\n",
      "(1, 500, 500, 3)\n",
      " 15/100 [===>..........................] - ETA: 94s - loss: 2.2588../input/train/SHARK/img_03351.jpg\n",
      "(1, 500, 500, 3)\n",
      " 16/100 [===>..........................] - ETA: 92s - loss: 3.1250../input/train/ALB/img_03424.jpg\n",
      "(1, 500, 500, 3)\n",
      " 17/100 [====>.........................] - ETA: 91s - loss: 3.8893../input/train/ALB/img_06553.jpg\n",
      "(1, 500, 500, 3)\n",
      " 18/100 [====>.........................] - ETA: 90s - loss: 4.5672../input/train/ALB/img_02452.jpg\n",
      "(1, 500, 500, 3)\n",
      " 19/100 [====>.........................] - ETA: 89s - loss: 4.4502../input/train/BET/img_04033.jpg\n",
      "(1, 500, 500, 3)\n",
      " 20/100 [=====>........................] - ETA: 88s - loss: 5.0336../input/train/OTHER/img_00359.jpg\n",
      "(1, 500, 500, 3)\n",
      " 21/100 [=====>........................] - ETA: 87s - loss: 5.0614../input/train/ALB/img_00482.jpg\n",
      "(1, 500, 500, 3)\n",
      " 22/100 [=====>........................] - ETA: 86s - loss: 5.0466../input/train/YFT/img_01199.jpg\n",
      "(1, 500, 500, 3)\n",
      " 23/100 [=====>........................] - ETA: 85s - loss: 4.9823../input/train/YFT/img_05655.jpg\n",
      "(1, 500, 500, 3)\n",
      " 24/100 [======>.......................] - ETA: 84s - loss: 5.2903../input/train/ALB/img_01225.jpg\n",
      "(1, 500, 500, 3)\n",
      " 25/100 [======>.......................] - ETA: 83s - loss: 5.6580../input/train/ALB/img_02036.jpg\n",
      "(1, 500, 500, 3)\n",
      " 26/100 [======>.......................] - ETA: 82s - loss: 5.4475../input/train/ALB/img_06726.jpg\n",
      "(1, 500, 500, 3)\n",
      " 27/100 [=======>......................] - ETA: 80s - loss: 5.4224../input/train/DOL/img_06671.jpg\n",
      "(1, 500, 500, 3)\n",
      " 28/100 [=======>......................] - ETA: 79s - loss: 5.2936../input/train/ALB/img_04899.jpg\n",
      "(1, 500, 500, 3)\n",
      " 29/100 [=======>......................] - ETA: 78s - loss: 5.1888../input/train/OTHER/img_00814.jpg\n",
      "(1, 500, 500, 3)\n",
      " 30/100 [========>.....................] - ETA: 77s - loss: 5.3194../input/train/ALB/img_07858.jpg\n",
      "(1, 500, 500, 3)\n",
      " 31/100 [========>.....................] - ETA: 76s - loss: 5.2152../input/train/DOL/img_00733.jpg\n",
      "(1, 500, 500, 3)\n",
      " 32/100 [========>.....................] - ETA: 75s - loss: 5.1686../input/train/NoF/img_01588.jpg\n",
      "(1, 500, 500, 3)\n",
      " 33/100 [========>.....................] - ETA: 74s - loss: 5.5004../input/train/SHARK/img_01182.jpg\n",
      "(1, 500, 500, 3)\n",
      " 34/100 [=========>....................] - ETA: 72s - loss: 5.7783../input/train/ALB/img_06383.jpg\n",
      "(1, 500, 500, 3)\n",
      " 35/100 [=========>....................] - ETA: 71s - loss: 5.6196../input/train/ALB/img_04965.jpg\n",
      "(1, 500, 500, 3)\n",
      " 36/100 [=========>....................] - ETA: 70s - loss: 5.5217../input/train/ALB/img_03800.jpg\n",
      "(1, 500, 500, 3)\n",
      " 37/100 [==========>...................] - ETA: 69s - loss: 5.4136../input/train/ALB/img_01160.jpg\n",
      "(1, 500, 500, 3)\n",
      " 38/100 [==========>...................] - ETA: 68s - loss: 5.3604../input/train/ALB/img_03411.jpg\n",
      "(1, 500, 500, 3)\n",
      " 39/100 [==========>...................] - ETA: 67s - loss: 5.2689../input/train/LAG/img_02694.jpg\n",
      "(1, 500, 500, 3)\n",
      " 40/100 [===========>..................] - ETA: 66s - loss: 5.2695../input/train/YFT/img_06763.jpg\n",
      "(1, 500, 500, 3)\n",
      " 41/100 [===========>..................] - ETA: 65s - loss: 5.1486../input/train/YFT/img_06841.jpg\n",
      "(1, 500, 500, 3)\n",
      " 42/100 [===========>..................] - ETA: 63s - loss: 5.1417../input/train/YFT/img_00047.jpg\n",
      "(1, 500, 500, 3)\n",
      " 43/100 [===========>..................] - ETA: 62s - loss: 5.0457../input/train/OTHER/img_01356.jpg\n",
      "(1, 500, 500, 3)\n",
      " 44/100 [============>.................] - ETA: 61s - loss: 5.1796../input/train/ALB/img_07741.jpg\n",
      "(1, 500, 500, 3)\n",
      " 45/100 [============>.................] - ETA: 60s - loss: 5.0949../input/train/SHARK/img_00409.jpg\n",
      "(1, 500, 500, 3)\n",
      " 46/100 [============>.................] - ETA: 59s - loss: 5.0313../input/train/ALB/img_03879.jpg\n",
      "(1, 500, 500, 3)\n",
      " 47/100 [=============>................] - ETA: 58s - loss: 4.9303../input/train/LAG/img_04741.jpg\n",
      "(1, 500, 500, 3)\n",
      " 48/100 [=============>................] - ETA: 57s - loss: 4.8684../input/train/NoF/img_00553.jpg\n",
      "(1, 500, 500, 3)\n",
      " 49/100 [=============>................] - ETA: 56s - loss: 4.7713../input/train/ALB/img_06022.jpg\n",
      "(1, 500, 500, 3)\n",
      " 50/100 [==============>...............] - ETA: 54s - loss: 4.7566../input/train/LAG/img_01952.jpg\n",
      "(1, 500, 500, 3)\n",
      " 51/100 [==============>...............] - ETA: 53s - loss: 4.8281../input/train/SHARK/img_03131.jpg\n",
      "(1, 500, 500, 3)\n",
      " 52/100 [==============>...............] - ETA: 52s - loss: 4.8215../input/train/BET/img_04938.jpg\n",
      "(1, 500, 500, 3)\n",
      " 53/100 [==============>...............] - ETA: 51s - loss: 4.7703../input/train/ALB/img_00275.jpg\n",
      "(1, 500, 500, 3)\n",
      " 54/100 [===============>..............] - ETA: 50s - loss: 4.7179../input/train/SHARK/img_02259.jpg\n",
      "(1, 500, 500, 3)\n",
      " 55/100 [===============>..............] - ETA: 49s - loss: 4.6595../input/train/ALB/img_05818.jpg\n",
      "(1, 500, 500, 3)\n",
      " 56/100 [===============>..............] - ETA: 48s - loss: 4.6045../input/train/YFT/img_07742.jpg\n",
      "(1, 500, 500, 3)\n",
      " 57/100 [================>.............] - ETA: 47s - loss: 4.5640../input/train/OTHER/img_07536.jpg\n",
      "(1, 500, 500, 3)\n",
      " 58/100 [================>.............] - ETA: 46s - loss: 4.5527../input/train/NoF/img_04071.jpg\n",
      "(1, 500, 500, 3)\n",
      " 59/100 [================>.............] - ETA: 44s - loss: 4.5142../input/train/OTHER/img_01175.jpg\n",
      "(1, 500, 500, 3)\n",
      " 60/100 [=================>............] - ETA: 43s - loss: 4.4461../input/train/BET/img_07059.jpg\n",
      "(1, 500, 500, 3)\n",
      " 61/100 [=================>............] - ETA: 42s - loss: 4.4773../input/train/ALB/img_06711.jpg\n",
      "(1, 500, 500, 3)\n",
      " 62/100 [=================>............] - ETA: 41s - loss: 4.4244../input/train/ALB/img_03335.jpg\n",
      "(1, 500, 500, 3)\n",
      " 63/100 [=================>............] - ETA: 40s - loss: 4.3974../input/train/OTHER/img_01697.jpg\n",
      "(1, 500, 500, 3)\n",
      " 64/100 [==================>...........] - ETA: 39s - loss: 4.3548../input/train/BET/img_06453.jpg\n",
      "(1, 500, 500, 3)\n",
      " 65/100 [==================>...........] - ETA: 38s - loss: 4.3411../input/train/NoF/img_01219.jpg\n",
      "(1, 500, 500, 3)\n",
      " 66/100 [==================>...........] - ETA: 37s - loss: 4.2956../input/train/OTHER/img_07922.jpg\n",
      "(1, 500, 500, 3)\n",
      " 67/100 [===================>..........] - ETA: 36s - loss: 4.2712../input/train/NoF/img_00553.jpg\n",
      "(1, 500, 500, 3)\n",
      " 68/100 [===================>..........] - ETA: 35s - loss: 4.2386../input/train/DOL/img_06299.jpg\n",
      "(1, 500, 500, 3)\n",
      " 69/100 [===================>..........] - ETA: 34s - loss: 4.2061../input/train/DOL/img_00165.jpg\n",
      "(1, 500, 500, 3)\n",
      " 70/100 [====================>.........] - ETA: 33s - loss: 4.1770../input/train/ALB/img_07291.jpg\n",
      "(1, 500, 500, 3)\n",
      " 71/100 [====================>.........] - ETA: 31s - loss: 4.1516../input/train/ALB/img_01265.jpg\n",
      "(1, 500, 500, 3)\n",
      " 72/100 [====================>.........] - ETA: 30s - loss: 4.1084../input/train/ALB/img_03842.jpg\n",
      "(1, 500, 500, 3)\n",
      " 73/100 [====================>.........] - ETA: 29s - loss: 4.0751../input/train/YFT/img_04208.jpg\n",
      "(1, 500, 500, 3)\n",
      " 74/100 [=====================>........] - ETA: 28s - loss: 4.0541../input/train/ALB/img_02719.jpg\n",
      "(1, 500, 500, 3)\n",
      " 75/100 [=====================>........] - ETA: 27s - loss: 4.0327../input/train/ALB/img_00713.jpg\n",
      "(1, 500, 500, 3)\n",
      " 76/100 [=====================>........] - ETA: 26s - loss: 4.0053../input/train/OTHER/img_07279.jpg\n",
      "(1, 500, 500, 3)\n",
      " 77/100 [======================>.......] - ETA: 25s - loss: 3.9787../input/train/ALB/img_00957.jpg\n",
      "(1, 500, 500, 3)\n",
      " 78/100 [======================>.......] - ETA: 24s - loss: 3.9550../input/train/YFT/img_02351.jpg\n",
      "(1, 500, 500, 3)\n",
      " 79/100 [======================>.......] - ETA: 23s - loss: 3.9388../input/train/ALB/img_06868.jpg\n",
      "(1, 500, 500, 3)\n",
      " 80/100 [=======================>......] - ETA: 22s - loss: 3.9268../input/train/ALB/img_03089.jpg\n",
      "(1, 500, 500, 3)\n",
      " 81/100 [=======================>......] - ETA: 20s - loss: 3.8998../input/train/ALB/img_03694.jpg\n",
      "(1, 500, 500, 3)\n",
      " 82/100 [=======================>......] - ETA: 19s - loss: 3.8700../input/train/NoF/img_00673.jpg\n",
      "(1, 500, 500, 3)\n",
      " 83/100 [=======================>......] - ETA: 18s - loss: 3.8371../input/train/ALB/img_00956.jpg\n",
      "(1, 500, 500, 3)\n",
      " 84/100 [========================>.....] - ETA: 17s - loss: 3.8457../input/train/ALB/img_06075.jpg\n",
      "(1, 500, 500, 3)\n",
      " 85/100 [========================>.....] - ETA: 16s - loss: 3.8245../input/train/ALB/img_01485.jpg\n",
      "(1, 500, 500, 3)\n",
      " 86/100 [========================>.....] - ETA: 15s - loss: 3.7952../input/train/ALB/img_06344.jpg\n",
      "(1, 500, 500, 3)\n",
      " 87/100 [=========================>....] - ETA: 14s - loss: 3.7860../input/train/ALB/img_07890.jpg\n",
      "(1, 500, 500, 3)\n",
      " 88/100 [=========================>....] - ETA: 13s - loss: 3.7549../input/train/BET/img_04931.jpg\n",
      "(1, 500, 500, 3)\n",
      " 89/100 [=========================>....] - ETA: 12s - loss: 3.7615../input/train/ALB/img_06143.jpg\n",
      "(1, 500, 500, 3)\n",
      " 90/100 [==========================>...] - ETA: 11s - loss: 3.7412../input/train/ALB/img_02436.jpg\n",
      "(1, 500, 500, 3)\n",
      " 91/100 [==========================>...] - ETA: 9s - loss: 3.7225 ../input/train/ALB/img_05350.jpg\n",
      "(1, 500, 500, 3)\n",
      " 92/100 [==========================>...] - ETA: 8s - loss: 3.7029../input/train/OTHER/img_03530.jpg\n",
      "(1, 500, 500, 3)\n",
      " 93/100 [==========================>...] - ETA: 7s - loss: 3.6942../input/train/DOL/img_04743.jpg\n",
      "(1, 500, 500, 3)\n",
      " 94/100 [===========================>..] - ETA: 6s - loss: 3.6660../input/train/ALB/img_05135.jpg\n",
      "(1, 500, 500, 3)\n",
      " 95/100 [===========================>..] - ETA: 5s - loss: 3.6372../input/train/ALB/img_07822.jpg\n",
      "(1, 500, 500, 3)\n",
      " 96/100 [===========================>..] - ETA: 4s - loss: 3.6193../input/train/YFT/img_04558.jpg\n",
      "(1, 500, 500, 3)\n",
      " 97/100 [============================>.] - ETA: 3s - loss: 3.5880../input/train/YFT/img_00477.jpg\n",
      "(1, 500, 500, 3)\n",
      " 98/100 [============================>.] - ETA: 2s - loss: 3.5576../input/train/ALB/img_03323.jpg\n",
      "(1, 500, 500, 3)\n",
      " 99/100 [============================>.] - ETA: 1s - loss: 3.5525../input/train/OTHER/img_03191.jpg\n",
      "(1, 500, 500, 3)\n",
      "100/100 [==============================] - 110s - loss: 3.5291   \n"
     ]
    }
   ],
   "source": [
    "import random\n",
    "from subprocess import check_output\n",
    "from scipy.misc import imread\n",
    "import numpy as np\n",
    "np.random.seed(2016)\n",
    "from keras.datasets import mnist\n",
    "from keras.models import Sequential\n",
    "from keras.layers import Dense, Dropout, Activation, Flatten\n",
    "from keras.layers import Convolution2D, MaxPooling2D\n",
    "from keras.utils import np_utils\n",
    "from keras import backend as K\n",
    "\n",
    "batch_size = 1\n",
    "nb_classes = 8\n",
    "nb_epoch = 1\n",
    "\n",
    "img_rows, img_cols, img_rgb = 500, 500, 3\n",
    "nb_filters = 4\n",
    "pool_size = (2, 2)\n",
    "kernel_size = (3, 3)\n",
    "input_shape = (img_rows, img_cols, 3)\n",
    "\n",
    "species_map_dict = {\n",
    "'ALB':0,\n",
    "'BET':1,\n",
    "'DOL':2,\n",
    "'LAG':3,\n",
    "'NoF':4,\n",
    "'OTHER':5,\n",
    "'SHARK':6,\n",
    "'YFT':7\n",
    "}\n",
    "\n",
    "def batch_generator_train(sample_size):\n",
    "\ttrain_path = \"../input/train/\"\n",
    "\tall_files = []\n",
    "\ty_values = []\n",
    "\tsub_folders = check_output([\"ls\", train_path]).decode(\"utf8\").strip().split('\\n')\n",
    "\tfor sub_folder in sub_folders:\n",
    "\t\tfile_names = check_output([\"ls\", train_path+sub_folder]).decode(\"utf8\").strip().split('\\n')\n",
    "\t\tfor file_name in file_names:\n",
    "\t\t\tall_files.append([sub_folder, '/', file_name])\n",
    "\t\t\ty_values.append(species_map_dict[sub_folder])\n",
    "\tnumber_of_images = range(len(all_files))\n",
    "\n",
    "\tcounter = 0\n",
    "\twhile True:\n",
    "\t\timage_index = random.choice(number_of_images)\n",
    "\t\tfile_name = \"\".join([train_path] + all_files[image_index])\n",
    "\t\tprint(file_name)\n",
    "\t\ty = [0]*8\n",
    "\t\ty[y_values[image_index]] = 1\n",
    "\t\ty = np.array(y).reshape(1,8)\n",
    "\t\t\n",
    "\t\tim_array = imread(file_name)\n",
    "\t\tX = np.zeros([1, img_rows, img_cols, img_rgb])\n",
    "\t\t#X[:im_array.shape[0], :im_array.shape[1], 3] = im_array.copy().astype('float32')\n",
    "\t\tX[0, :, :, :] = im_array[:500,:500,:].astype('float32')\n",
    "\t\tX /= 255.\n",
    "        \n",
    "\t\tprint(X.shape)\n",
    "\t\tyield X,y\n",
    "\t\t\n",
    "\t\tcounter += 1\n",
    "\t\t#if counter == sample_size:\n",
    "\t\t#\tbreak\n",
    "\n",
    "def batch_generator_test(all_files):\n",
    "\tfor file_name in all_files:\n",
    "\t\tfile_name = test_path + file_name\n",
    "\t\t\n",
    "\t\tim_array = imread(file_name)\n",
    "\t\tX = np.zeros([1, img_rows, img_cols, img_rgb])\n",
    "\t\tX[0,:, :, :] = im_array[:500,:500,:].astype('float32')\n",
    "\t\tX /= 255.\n",
    "\n",
    "\t\tyield X\n",
    "\n",
    "\n",
    "def keras_cnn_model():\n",
    "\tmodel = Sequential()\n",
    "\tmodel.add(Convolution2D(nb_filters, kernel_size[0], kernel_size[1],\n",
    "                        border_mode='valid',\n",
    "                        input_shape=input_shape))\n",
    "\tmodel.add(Activation('relu'))\n",
    "\tmodel.add(Convolution2D(nb_filters, kernel_size[0], kernel_size[1]))\n",
    "\tmodel.add(Activation('relu'))\n",
    "\tmodel.add(MaxPooling2D(pool_size=pool_size))\n",
    "\tmodel.add(Dropout(0.25))\t\n",
    "\tmodel.add(Flatten())\n",
    "\tmodel.add(Dense(128))\n",
    "\tmodel.add(Activation('relu'))\n",
    "\tmodel.add(Dropout(0.5))\n",
    "\tmodel.add(Dense(nb_classes))\n",
    "\tmodel.add(Activation('softmax'))\n",
    "\tmodel.compile(loss='categorical_crossentropy', optimizer='adadelta')\n",
    "\treturn model\n",
    "\n",
    "model = keras_cnn_model()\n",
    "fit= model.fit_generator(\n",
    "\tgenerator = batch_generator_train(100),\n",
    "\tnb_epoch = 1,\n",
    "\tsamples_per_epoch = 100\n",
    ")\n",
    "\n",
    "test_path = \"../input/test_stg1/\"\n",
    "all_files = []\n",
    "file_names = check_output([\"ls\", test_path]).decode(\"utf8\").strip().split('\\n')\n",
    "for file_name in file_names:\n",
    "\tall_files.append(file_name)\n",
    "#preds = model.predict_generator(generator=batch_generator_test(all_files), val_samples=len(all_files))\n",
    "\n",
    "#out_df = pd.DataFrame(preds)\n",
    "#out_df.columns = ['ALB', 'BET', 'DOL', 'LAG', 'NoF', 'OTHER', 'SHARK', 'YFT']\n",
    "#out_df['image'] = all_files\n",
    "#out_df.to_csv(\"sample_sub_keras.csv\", index=False)"
   ]
  }
 ],
 "metadata": {
  "_change_revision": 2,
  "_is_fork": false,
  "kernelspec": {
   "display_name": "Python 3",
   "language": "python",
   "name": "python3"
  },
  "language_info": {
   "codemirror_mode": {
    "name": "ipython",
    "version": 3
   },
   "file_extension": ".py",
   "mimetype": "text/x-python",
   "name": "python",
   "nbconvert_exporter": "python",
   "pygments_lexer": "ipython3",
   "version": "3.5.2"
  }
 },
 "nbformat": 4,
 "nbformat_minor": 0
}
