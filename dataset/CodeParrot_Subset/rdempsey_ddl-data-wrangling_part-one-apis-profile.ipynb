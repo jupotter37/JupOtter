{
 "cells": [
  {
   "cell_type": "markdown",
   "metadata": {},
   "source": [
    "# Part One - APIs - Create a Combined Profile\n",
    "\n",
    "* Use of this notebook assumes that you have already retrieved data from your LinkedIn and Twitter networks"
   ]
  },
  {
   "cell_type": "code",
   "execution_count": null,
   "metadata": {
    "collapsed": true
   },
   "outputs": [],
   "source": [
    "# Import everything we need\n",
    "import pandas as pd\n",
    "from titlecase import titlecase"
   ]
  },
  {
   "cell_type": "code",
   "execution_count": null,
   "metadata": {
    "collapsed": false
   },
   "outputs": [],
   "source": [
    "# Import the LinkedIn and Twitter data into individual pandas dataframes\n",
    "\n",
    "# Define the paths to the files\n",
    "# If you named your files differently, change the names\n",
    "linkedin_data_file = 'linkedin_connection_data.csv'\n",
    "twitter_data_file = 'twitter_user_data.csv'\n",
    "\n",
    "# Create the dataframes by reading from the CSV files\n",
    "ldf = pd.read_csv(linkedin_data_file)\n",
    "tdf = pd.read_csv(twitter_data_file)"
   ]
  },
  {
   "cell_type": "code",
   "execution_count": null,
   "metadata": {
    "collapsed": false
   },
   "outputs": [],
   "source": [
    "print(ldf)"
   ]
  },
  {
   "cell_type": "code",
   "execution_count": null,
   "metadata": {
    "collapsed": false
   },
   "outputs": [],
   "source": [
    "print(tdf)"
   ]
  },
  {
   "cell_type": "code",
   "execution_count": null,
   "metadata": {
    "collapsed": false
   },
   "outputs": [],
   "source": [
    "# Do some minor formatting of the data so we can join the dataframes together\n",
    "\n",
    "# Titlecase anything\n",
    "def titlecase_anything(thing):\n",
    "    try:\n",
    "        thing = titlecase(thing)\n",
    "    except:\n",
    "        pass\n",
    "    return thing\n",
    "\n",
    "# Create a full name from the first and last\n",
    "def create_full_name(first_name, last_name):\n",
    "    return (first_name + \" \" + last_name)\n",
    "\n",
    "# Here's why we're using pandas - to apply our functions to the entire dataframe at once\n",
    "\n",
    "# First we'll titlecase the first_name and last_name columns that came from LinkedIn\n",
    "# Note that we don't have to pass in the variable that the method requires - it happens automatically\n",
    "ldf.first_name = ldf.first_name.apply(titlecase_anything)\n",
    "ldf.last_name = ldf.last_name.apply(titlecase_anything)\n",
    "\n",
    "# Second, because Twitter provides us a full name, if the user provided it, we'll create a full_name in our LI data\n",
    "ldf['name'] = ldf.first_name + \" \" + ldf.last_name"
   ]
  },
  {
   "cell_type": "code",
   "execution_count": null,
   "metadata": {
    "collapsed": false
   },
   "outputs": [],
   "source": [
    "print(tdf)"
   ]
  },
  {
   "cell_type": "code",
   "execution_count": null,
   "metadata": {
    "collapsed": false
   },
   "outputs": [],
   "source": [
    "print(ldf)"
   ]
  },
  {
   "cell_type": "code",
   "execution_count": null,
   "metadata": {
    "collapsed": false
   },
   "outputs": [],
   "source": [
    "# Perform a database-style left join on our dataframes using the merge function from pandas\n",
    "# Because we're doing a left join only matching records will be merged. All others are filled in with NaN\n",
    "mdf = tdf.merge(ldf, on='name', how='left')\n",
    "mdf # Fooled you here. In iPython Notebook we don't have to call the print function to see our variables"
   ]
  },
  {
   "cell_type": "code",
   "execution_count": null,
   "metadata": {
    "collapsed": false
   },
   "outputs": [],
   "source": [
    "# Let's turn our new dataset into a CSV file. One liners FTW!\n",
    "# Note that we're keeping even the \"unmatched\" data so that perhaps we can fill it in later.\n",
    "\n",
    "mdf.to_csv('twitter_and_linkedin_merged_data.csv', sep=',', encoding='utf-8')\n",
    "print(\"CSV creation complete\")"
   ]
  },
  {
   "cell_type": "code",
   "execution_count": null,
   "metadata": {
    "collapsed": false
   },
   "outputs": [],
   "source": []
  }
 ],
 "metadata": {
  "kernelspec": {
   "display_name": "Python 2",
   "language": "python",
   "name": "python2"
  },
  "language_info": {
   "codemirror_mode": {
    "name": "ipython",
    "version": 2
   },
   "file_extension": ".py",
   "mimetype": "text/x-python",
   "name": "python",
   "nbconvert_exporter": "python",
   "pygments_lexer": "ipython2",
   "version": "2.7.9"
  }
 },
 "nbformat": 4,
 "nbformat_minor": 0
}
