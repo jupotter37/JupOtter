{
 "metadata": {
  "kernelspec": {
   "display_name": "Python 3",
   "language": "python",
   "name": "python3"
  },
  "language_info": {
   "codemirror_mode": {
    "name": "ipython",
    "version": 3
   },
   "file_extension": ".py",
   "mimetype": "text/x-python",
   "name": "python",
   "nbconvert_exporter": "python",
   "pygments_lexer": "ipython3",
   "version": "3.4.3"
  },
  "name": ""
 },
 "nbformat": 3,
 "nbformat_minor": 0,
 "worksheets": [
  {
   "cells": [
    {
     "cell_type": "markdown",
     "metadata": {},
     "source": [
      "# Image segmentation: extracting objects from images\n",
      "\n",
      "During this part of the tutorial, we will illustrate a task of image processing frequently encountered in natural or material science, that is the extraction and labeling of pixels belonging to objects of interest. Such an operation is called *image segmentation*.\n",
      "\n",
      "Image segmentation typically requires to perform a succession of different operations on the image of interest, therefore this second part of the tutorial will bring the opportunity to use concepts introduced during the first part of the tutorial, such as the manipulation of numpy arrays, or the filtering of images.\n",
      "\n",
      "As an example, we will use a scanning electron microscopy image of a multiphase glass. Let us start by opening the image."
     ]
    },
    {
     "cell_type": "code",
     "collapsed": false,
     "input": [
      "from __future__ import division, print_function\n",
      "%matplotlib inline\n",
      "import numpy as np\n",
      "from matplotlib import pyplot as plt, cm"
     ],
     "language": "python",
     "metadata": {},
     "outputs": [],
     "prompt_number": null
    },
    {
     "cell_type": "code",
     "collapsed": false,
     "input": [
      "from skimage import io\n",
      "from skimage import img_as_float"
     ],
     "language": "python",
     "metadata": {},
     "outputs": [],
     "prompt_number": null
    },
    {
     "cell_type": "code",
     "collapsed": false,
     "input": [
      "im = io.imread('../images/phase_separation.png')"
     ],
     "language": "python",
     "metadata": {},
     "outputs": [],
     "prompt_number": null
    },
    {
     "cell_type": "code",
     "collapsed": false,
     "input": [
      "plt.imshow(im, cmap='gray')"
     ],
     "language": "python",
     "metadata": {},
     "outputs": [],
     "prompt_number": null
    },
    {
     "cell_type": "code",
     "collapsed": false,
     "input": [
      "im.dtype, im.shape"
     ],
     "language": "python",
     "metadata": {},
     "outputs": [],
     "prompt_number": null
    },
    {
     "cell_type": "markdown",
     "metadata": {},
     "source": [
      "For the sake of convenience, one first removes the information bar at the bottom, in order to retain only the region of the image with the blobs of interest. This operation is just an array slicing removing the last rows, for which we can leverage the nice syntax of NumPy's slicing. \n",
      "\n",
      "In order to determine how many rows to remove, it is possible to use either visual inspection, or a more advanced and robust way relying on NumPy machinery in order to determine the first completely dark row."
     ]
    },
    {
     "cell_type": "code",
     "collapsed": false,
     "input": [
      "phase_separation = im[:947]\n",
      "plt.imshow(phase_separation, cmap='gray')"
     ],
     "language": "python",
     "metadata": {},
     "outputs": [],
     "prompt_number": null
    },
    {
     "cell_type": "code",
     "collapsed": false,
     "input": [
      "np.nonzero(np.all(im < 0.1 * im.max(), axis=1))[0][0]"
     ],
     "language": "python",
     "metadata": {},
     "outputs": [],
     "prompt_number": null
    },
    {
     "cell_type": "markdown",
     "metadata": {},
     "source": [
      "##Image contrast, histogram and thresholding\n",
      "\n",
      "In order to separate blobs from the background, a simple idea is to use the gray values of pixels: blobs are typically darker than the background. \n",
      "\n",
      "In order to check this impression, let us look at the histogram of pixel values of the image."
     ]
    },
    {
     "cell_type": "code",
     "collapsed": false,
     "input": [
      "from skimage import exposure"
     ],
     "language": "python",
     "metadata": {},
     "outputs": [],
     "prompt_number": null
    },
    {
     "cell_type": "code",
     "collapsed": false,
     "input": [
      "histogram = exposure.histogram(phase_separation)\n",
      "plt.plot(histogram[1], histogram[0])\n",
      "plt.xlabel('gray value')\n",
      "plt.ylabel('number of pixels')\n",
      "plt.title('Histogram of gray values')"
     ],
     "language": "python",
     "metadata": {},
     "outputs": [],
     "prompt_number": null
    },
    {
     "cell_type": "markdown",
     "metadata": {},
     "source": [
      "Two peaks are clearly visible in the histogram, but they have a strong overlap. What happens if we try to threshold the image at a value that separates the two peaks?\n",
      "\n",
      "For an automatic computation of the thresholding values, we use Otsu's thresholding, an operation that chooses the threshold in order to have a good separation between gray values of background and foreground."
     ]
    },
    {
     "cell_type": "code",
     "collapsed": false,
     "input": [
      "from skimage import filters"
     ],
     "language": "python",
     "metadata": {},
     "outputs": [],
     "prompt_number": null
    },
    {
     "cell_type": "code",
     "collapsed": false,
     "input": [
      "threshold = filters.threshold_otsu(phase_separation)\n",
      "print(threshold)"
     ],
     "language": "python",
     "metadata": {},
     "outputs": [],
     "prompt_number": null
    },
    {
     "cell_type": "code",
     "collapsed": false,
     "input": [
      "fig, ax = plt.subplots(ncols=2, figsize=(12, 8))\n",
      "ax[0].imshow(phase_separation, cmap='gray')\n",
      "ax[0].contour(phase_separation, [threshold])\n",
      "ax[1].imshow(phase_separation < threshold, cmap='gray')"
     ],
     "language": "python",
     "metadata": {},
     "outputs": [],
     "prompt_number": null
    },
    {
     "cell_type": "markdown",
     "metadata": {},
     "source": [
      "## Image denoising\n",
      "\n",
      "In order to improve the thresholding, we will try first to filter the image so that gray values are more uniform inside the two phases, and more separated. Filters used to this aim are called *denoising filters*, since their action amounts to reducing the intensity of the noise on the image.\n",
      "\n",
      "Zooming on a part of the image that should be uniform illustrates well the concept of [noise](https://en.wikipedia.org/wiki/Image_noise): the image has random variations of gray levels that originate from the imaging process. Noise can be due to low photon-counting, or to electronic noise on the sensor, although other sources of noise are possible as well."
     ]
    },
    {
     "cell_type": "code",
     "collapsed": false,
     "input": [
      "plt.imshow(phase_separation[390:410, 820:840], cmap='gray', \n",
      "           interpolation='nearest')\n",
      "plt.colorbar()\n",
      "print(phase_separation[390:410, 820:840].std())"
     ],
     "language": "python",
     "metadata": {
      "scrolled": true
     },
     "outputs": [],
     "prompt_number": null
    },
    {
     "cell_type": "markdown",
     "metadata": {},
     "source": [
      "Several denoising filters average together pixels that are close to each other. If the noise is not spatially correlated, random noise fluctuations will be strongly attenuated by this averaging. \n",
      "\n",
      "One of the most common denoising filters is called the *median filter*: it replaces the value of a pixel by the median gray value inside a neighbourhood of the pixel. Taking the median gray value preserves edges much better than taking the mean gray value.\n",
      "\n",
      "Here we use a square neighbourhood of size 7x7: the larger the window size, the larger the attenuation of the noise, but this may come at the expense of precision for the location of boundaries. Choosing a window size therefore represents a trade-off between denoising and accuracy."
     ]
    },
    {
     "cell_type": "code",
     "collapsed": false,
     "input": [
      "from skimage import restoration\n",
      "from skimage import filters"
     ],
     "language": "python",
     "metadata": {},
     "outputs": [],
     "prompt_number": null
    },
    {
     "cell_type": "code",
     "collapsed": false,
     "input": [
      "median_filtered = filters.median(phase_separation, np.ones((7, 7)))"
     ],
     "language": "python",
     "metadata": {},
     "outputs": [],
     "prompt_number": null
    },
    {
     "cell_type": "code",
     "collapsed": false,
     "input": [
      "plt.imshow(median_filtered, cmap='gray')"
     ],
     "language": "python",
     "metadata": {},
     "outputs": [],
     "prompt_number": null
    },
    {
     "cell_type": "code",
     "collapsed": false,
     "input": [
      "plt.imshow(median_filtered[390:410, 820:840], cmap='gray', \n",
      "           interpolation='nearest')\n",
      "plt.colorbar()\n",
      "print(median_filtered[390:410, 820:840].std())"
     ],
     "language": "python",
     "metadata": {},
     "outputs": [],
     "prompt_number": null
    },
    {
     "cell_type": "markdown",
     "metadata": {},
     "source": [
      "Variations of gray levels inside zones that should be uniform are now smaller in range, and also spatially smoother.\n",
      "\n",
      "Plotting the histogram of the denoised image shows that the gray levels of the two phases are now better separated."
     ]
    },
    {
     "cell_type": "code",
     "collapsed": false,
     "input": [
      "histo_median = exposure.histogram(median_filtered)\n",
      "plt.plot(histo_median[1], histo_median[0])"
     ],
     "language": "python",
     "metadata": {
      "scrolled": true
     },
     "outputs": [],
     "prompt_number": null
    },
    {
     "cell_type": "markdown",
     "metadata": {},
     "source": [
      "As a consequence, Otsu thresholding now results in a much better segmentation."
     ]
    },
    {
     "cell_type": "code",
     "collapsed": false,
     "input": [
      "plt.imshow(phase_separation[:300, :300], cmap='gray')\n",
      "plt.contour(median_filtered[:300, :300], \n",
      "            [filters.threshold_otsu(median_filtered)])"
     ],
     "language": "python",
     "metadata": {},
     "outputs": [],
     "prompt_number": null
    },
    {
     "cell_type": "markdown",
     "metadata": {},
     "source": [
      "Going further: [Otsu thresholding with adaptative threshold](http://scikit-image.org/docs/dev/auto_examples/plot_threshold_adaptive.html#example-plot-threshold-adaptive-py). For images with non-uniform illumination, it is possible to extend Otsu's method to the case for which different thresholds are used in different regions of space. "
     ]
    },
    {
     "cell_type": "code",
     "collapsed": false,
     "input": [
      "binary_image = median_filtered < filters.threshold_otsu(median_filtered)"
     ],
     "language": "python",
     "metadata": {},
     "outputs": [],
     "prompt_number": null
    },
    {
     "cell_type": "code",
     "collapsed": false,
     "input": [
      "plt.imshow(binary_image, cmap='gray')"
     ],
     "language": "python",
     "metadata": {},
     "outputs": [],
     "prompt_number": null
    },
    {
     "cell_type": "markdown",
     "metadata": {},
     "source": [
      "**Exercise**: try other denoising filters\n",
      "\n",
      "Several other denoising filters are available in scikit-image.\n",
      "\n",
      "* The [bilateral filter](https://en.wikipedia.org/wiki/Bilateral_filter) uses similar ideas as for the median filter or the average filter: it averages a pixel with other pixels in a neighbourhood, but gives more weight to pixels for which the gray value is close to the one of the central pixel. The bilateral filter is very efficient at preserving edges.\n",
      "\n",
      "* The [total variation](https://en.wikipedia.org/wiki/Total_variation_denoising) filter results in images that are piecewise-constant. This filter optimizes a trade-off between the closeness to the original image, and the (L1) norm of the gradient, the latter part resulting in picewise-constant regions. \n",
      "\n",
      "Going further: in addition to trying different denoising filters on the phase separation image, do the same on a synthetic image of a square, corrupted by artificial noise.\n",
      "\n",
      "Further reading on denoising with scikit-image: see the [Gallery example on denoising](http://scikit-image.org/docs/dev/auto_examples/plot_denoise.html)"
     ]
    },
    {
     "cell_type": "markdown",
     "metadata": {},
     "source": [
      "## An another approach: more advanced segmentation algorithms\n",
      "\n",
      "Our approach above consisted in filtering the image so that it was as binary as possible, and then to threshold it. Other methods are possible, that do not threshold the image according only to gray values, but also use spatial information: they tend to attribute the same label to neighbouring pixels. A famous algorithm in order to segment binary images is called the [graph cuts](https://en.wikipedia.org/wiki/Graph_cuts_in_computer_vision) algorithm. Although graph cut is not available yet in scikit-image, other algorithms using spatial information are available as well, such as the [watershed](https://en.wikipedia.org/wiki/Watershed_(image_processing)) algorithm, or the random walker algorithm."
     ]
    },
    {
     "cell_type": "code",
     "collapsed": false,
     "input": [
      "blob_markers = median_filtered < 110\n",
      "bg_markers = median_filtered > 160\n",
      "markers = np.zeros_like(phase_separation)\n",
      "markers[blob_markers] = 2\n",
      "markers[bg_markers] = 1\n",
      "from skimage import morphology\n",
      "watershed = morphology.watershed(filters.sobel(median_filtered), markers)\n",
      "plt.imshow(watershed, cmap='gray')"
     ],
     "language": "python",
     "metadata": {},
     "outputs": [],
     "prompt_number": null
    },
    {
     "cell_type": "markdown",
     "metadata": {},
     "source": [
      "## Image cleaning\n",
      "\n",
      "If we use the denoising + thresholding approach, the result of the thresholding is not completely what we want: small objects are detected, and small holes exist in the objects. Such defects of the segmentation can be amended, using the knowledge that no small holes should exist, and that blobs have a minimal size.\n",
      "\n",
      "Utility functions to modify binary images are found in the ``morphology`` submodule. Although mathematical morphology encompasses a large set of possible operations, we will only see here how to remove small objects."
     ]
    },
    {
     "cell_type": "code",
     "collapsed": false,
     "input": [
      "from skimage import morphology"
     ],
     "language": "python",
     "metadata": {},
     "outputs": [],
     "prompt_number": null
    },
    {
     "cell_type": "code",
     "collapsed": false,
     "input": [
      "only_large_blobs = morphology.remove_small_objects(binary_image, \n",
      "                                                   min_size=300)\n",
      "plt.imshow(only_large_blobs, cmap='gray')"
     ],
     "language": "python",
     "metadata": {},
     "outputs": [],
     "prompt_number": null
    },
    {
     "cell_type": "code",
     "collapsed": false,
     "input": [
      "only_large = np.logical_not(morphology.remove_small_objects(\n",
      "                                    np.logical_not(only_large_blobs), \n",
      "                                                   min_size=300))\n",
      "plt.imshow(only_large, cmap='gray')"
     ],
     "language": "python",
     "metadata": {},
     "outputs": [],
     "prompt_number": null
    },
    {
     "cell_type": "markdown",
     "metadata": {},
     "source": [
      "## Measuring region properties\n",
      "\n",
      "The segmentation of foreground (objects) and background results in a binary image. In order to measure the properties of the different blobs, one must first attribute a different label to each blob (identified as a connected component of the foreground phase). Then, the utility function ``measure.regionprops`` can be used to compute several properties of the labeled regions.\n",
      "\n",
      "Properties of the regions can be used for classifying the objects, for example with ``scikit-learn``."
     ]
    },
    {
     "cell_type": "code",
     "collapsed": false,
     "input": [
      "from skimage import measure"
     ],
     "language": "python",
     "metadata": {},
     "outputs": [],
     "prompt_number": null
    },
    {
     "cell_type": "code",
     "collapsed": false,
     "input": [
      "labels = measure.label(only_large)\n",
      "plt.imshow(labels, cmap='spectral')"
     ],
     "language": "python",
     "metadata": {},
     "outputs": [],
     "prompt_number": null
    },
    {
     "cell_type": "code",
     "collapsed": false,
     "input": [
      "props = measure.regionprops(labels, phase_separation)"
     ],
     "language": "python",
     "metadata": {},
     "outputs": [],
     "prompt_number": null
    },
    {
     "cell_type": "code",
     "collapsed": false,
     "input": [
      "areas = np.array([prop.area for prop in props])\n",
      "perimeters = np.array([prop.perimeter for prop in props])"
     ],
     "language": "python",
     "metadata": {},
     "outputs": [],
     "prompt_number": null
    },
    {
     "cell_type": "code",
     "collapsed": false,
     "input": [
      "plt.plot(np.sort(perimeters**2./areas), 'o')"
     ],
     "language": "python",
     "metadata": {},
     "outputs": [],
     "prompt_number": null
    },
    {
     "cell_type": "markdown",
     "metadata": {},
     "source": [
      "Other examples\n",
      "\n",
      "[Plotting labels on an image](http://scikit-image.org/docs/dev/auto_examples/plot_label.html)\n",
      "\n",
      "[Measuring region properties](http://scikit-image.org/docs/dev/auto_examples/plot_regionprops.html)\n",
      "\n",
      "**Exercise**: visualize an image where the color of a blob encodes its size (blobs of similar size have a similar color). \n",
      "\n",
      "**Exercise**: visualize an image where only the most circular blobs are represented. Hint: this involves some manipulations of NumPy arrays."
     ]
    },
    {
     "cell_type": "markdown",
     "metadata": {},
     "source": [
      "##\u00a0Processing batches of images\n",
      "\n",
      "If one wishes to process a single image, a lot of trial and error is possible, using interactive sessions and intermediate visualizations. Such workflow typically allows to optimize over parameter values, such as the size of the filtering window for denoising the image, or the area of small spurious objects to be removed.\n",
      "\n",
      "In a time of cheap CCD sensors, it is also frequent to deal with collections of images, for which one cannot afford to process each image individually. In such a case, the workflow has to be adapted.\n",
      "\n",
      "* function parameters need to be set in a more robust manner, using statistical information like the typical noise of the image, or the typical size of objects in the image.\n",
      "\n",
      "* it is a good practice to divide the different array manipulations into several functions. Outside an Ipython notebook, such functions would typically be found in a dedicated module, that could be imported from a script.\n",
      "\n",
      "* applying the same operations to a collection of (independent) images is a typical example of embarassingly parallel workflow, that calls for multiprocessing computation. The [``joblib``](https://pythonhosted.org/joblib/) module provides a simple helper function for using multiprocessing on embarassingly parallel ``for`` loops. \n",
      "\n",
      "Let us first define two functions with a more robust handling of parameters."
     ]
    },
    {
     "cell_type": "code",
     "collapsed": false,
     "input": [
      "def remove_information_bar(image, value=0.1):\n",
      "    value *= image.max()\n",
      "    row_index = np.nonzero(np.all(image < value, axis=1))[0][0]\n",
      "    return image[:row_index]"
     ],
     "language": "python",
     "metadata": {},
     "outputs": [],
     "prompt_number": null
    },
    {
     "cell_type": "code",
     "collapsed": false,
     "input": [
      "from scipy import stats\n",
      "def clean_image(binary_image):\n",
      "    labels = measure.label(binary_image)\n",
      "    props = measure.regionprops(labels)\n",
      "    areas = np.array([prop.area for prop in props])\n",
      "    large_area = stats.scoreatpercentile(areas, 90)\n",
      "    remove_small = morphology.remove_small_objects(binary_image, \n",
      "                                                   large_area / 20)\n",
      "    remove_holes = np.logical_not(morphology.remove_small_objects(\n",
      "                                  np.logical_not(remove_small), \n",
      "                                  large_area / 20))\n",
      "    return remove_holes"
     ],
     "language": "python",
     "metadata": {},
     "outputs": [],
     "prompt_number": null
    },
    {
     "cell_type": "code",
     "collapsed": false,
     "input": [
      "def process_blob_image(image):\n",
      "    image = remove_information_bar(image)\n",
      "    image = filters.median(image, np.ones((7, 7)))\n",
      "    binary_im = image < filters.threshold_otsu(image)\n",
      "    binary_im = clean_image(binary_im)\n",
      "    return binary_im"
     ],
     "language": "python",
     "metadata": {},
     "outputs": [],
     "prompt_number": null
    },
    {
     "cell_type": "markdown",
     "metadata": {},
     "source": [
      "The ``glob`` module is very handy to retrieve lists of image file names using wildcard patterns."
     ]
    },
    {
     "cell_type": "code",
     "collapsed": false,
     "input": [
      "from glob import glob\n",
      "filelist = glob('../images/phase_separation*.png')\n",
      "filelist.sort()\n",
      "print(filelist)"
     ],
     "language": "python",
     "metadata": {},
     "outputs": [],
     "prompt_number": null
    },
    {
     "cell_type": "code",
     "collapsed": false,
     "input": [
      "fig, ax = plt.subplots(nrows=2, ncols=2, figsize=(12, 8))\n",
      "for index, filename in enumerate(filelist[1:]):\n",
      "    print(filename)\n",
      "    im = io.imread(filename)\n",
      "    binary_im = process_blob_image(im)\n",
      "    i, j = np.unravel_index(index, (2, 2))\n",
      "    ax[i, j].imshow(binary_im, cmap='gray')\n",
      "    ax[i, j].axis('off')"
     ],
     "language": "python",
     "metadata": {},
     "outputs": [],
     "prompt_number": null
    },
    {
     "cell_type": "markdown",
     "metadata": {},
     "source": [
      "## Pipeline approach and order of operations\n",
      "\n",
      "It is quite uncommon to perform a successful segmentation in only one or two operations: typical image require some pre- and post-processing. However, a large number of image processing steps, each using some hand-tuning of parameters, can result in disasters, since the processing pipeline will not work as well for a different image.\n",
      "\n",
      "Also, the order in which the operations are performed is important."
     ]
    },
    {
     "cell_type": "code",
     "collapsed": false,
     "input": [
      "crude_segmentation = phase_separation < filters.threshold_otsu(phase_separation)"
     ],
     "language": "python",
     "metadata": {},
     "outputs": [],
     "prompt_number": null
    },
    {
     "cell_type": "code",
     "collapsed": false,
     "input": [
      "clean_crude = morphology.remove_small_objects(crude_segmentation, 300)\n",
      "clean_crude = np.logical_not(morphology.remove_small_objects(\n",
      "                             np.logical_not(clean_crude), 300))\n",
      "plt.imshow(clean_crude[:200, :200], cmap='gray')"
     ],
     "language": "python",
     "metadata": {},
     "outputs": [],
     "prompt_number": null
    },
    {
     "cell_type": "markdown",
     "metadata": {},
     "source": [
      "It would be possible to filter the image to smoothen the boundary, and then threshold again. However, it is more satisfying to first filter the image so that it is as binary as possible (which corresponds better to our prior information on the materials), and then to threshold the image."
     ]
    },
    {
     "cell_type": "markdown",
     "metadata": {},
     "source": [
      "**Going further**: want to know more about image segmentation with scikit-image, or see different examples?\n",
      "\n",
      "\n",
      "* [the tutorial on image segmentation](http://scikit-image.org/docs/dev/auto_examples/applications/plot_coins_segmentation.html#example-applications-plot-coins-segmentation-py) in the user documentation \n",
      "* the [chapter on scikit-image](http://scipy-lectures.github.io/packages/scikit-image/index.html) of the [SciPy lecture notes](http://scipy-lectures.github.io/index.html).\n",
      "* a tutorial on [chromosome segmentation with uneven illumination](adv0_chromosomes.ipynb)"
     ]
    },
    {
     "cell_type": "code",
     "collapsed": true,
     "input": [],
     "language": "python",
     "metadata": {},
     "outputs": [],
     "prompt_number": null
    }
   ],
   "metadata": {}
  }
 ]
}