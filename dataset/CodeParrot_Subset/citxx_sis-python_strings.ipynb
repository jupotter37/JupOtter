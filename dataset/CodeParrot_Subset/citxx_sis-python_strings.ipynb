{
 "cells": [
  {
   "cell_type": "markdown",
   "metadata": {
    "toc": true
   },
   "source": [
    "<h1>Содержание<span class=\"tocSkip\"></span></h1>\n",
    "<div class=\"toc\"><ul class=\"toc-item\"><li><span><a href=\"#Спецсимволы\" data-toc-modified-id=\"Спецсимволы-1\">Спецсимволы</a></span></li><li><span><a href=\"#Операции-со-строками\" data-toc-modified-id=\"Операции-со-строками-2\">Операции со строками</a></span><ul class=\"toc-item\"><li><span><a href=\"#Сложение\" data-toc-modified-id=\"Сложение-2.1\">Сложение</a></span></li><li><span><a href=\"#Повторение\" data-toc-modified-id=\"Повторение-2.2\">Повторение</a></span></li><li><span><a href=\"#Индексация\" data-toc-modified-id=\"Индексация-2.3\">Индексация</a></span></li><li><span><a href=\"#Длина-строки\" data-toc-modified-id=\"Длина-строки-2.4\">Длина строки</a></span></li><li><span><a href=\"#Проверка-наличия-подстроки\" data-toc-modified-id=\"Проверка-наличия-подстроки-2.5\">Проверка наличия подстроки</a></span></li></ul></li><li><span><a href=\"#Кодировка-символов\" data-toc-modified-id=\"Кодировка-символов-3\">Кодировка символов</a></span><ul class=\"toc-item\"><li><span><a href=\"#Код-по-символу\" data-toc-modified-id=\"Код-по-символу-3.1\">Код по символу</a></span></li><li><span><a href=\"#Символ-по-коду\" data-toc-modified-id=\"Символ-по-коду-3.2\">Символ по коду</a></span></li><li><span><a href=\"#ASCII\" data-toc-modified-id=\"ASCII-3.3\">ASCII</a></span></li></ul></li></ul></div>"
   ]
  },
  {
   "cell_type": "markdown",
   "metadata": {},
   "source": [
    "# Строки"
   ]
  },
  {
   "cell_type": "markdown",
   "metadata": {},
   "source": [
    "Для представления строк в Python используется тип `str` (аналог `std::string` в С++ или `String` в Pascal)."
   ]
  },
  {
   "cell_type": "code",
   "execution_count": 2,
   "metadata": {
    "collapsed": false
   },
   "outputs": [
    {
     "name": "stdout",
     "output_type": "stream",
     "text": [
      "Строки можно задавать в двойных кавычках <class 'str'>\n",
      "А можно в одинарных <class 'str'>\n"
     ]
    }
   ],
   "source": [
    "s1 = \"Строки можно задавать в двойных кавычках\"\n",
    "s2 = 'А можно в одинарных'\n",
    "print(s1, type(s1))\n",
    "print(s2, type(s2))"
   ]
  },
  {
   "cell_type": "markdown",
   "metadata": {},
   "source": [
    "## Спецсимволы"
   ]
  },
  {
   "cell_type": "markdown",
   "metadata": {},
   "source": [
    "Для задания в строке особых символов (например переводов строк или табуляций) в Python используются специальный последовательности, вроде `\\n` для перевода строки или `\\t` для символа табуляции:"
   ]
  },
  {
   "cell_type": "code",
   "execution_count": 3,
   "metadata": {
    "collapsed": false
   },
   "outputs": [
    {
     "name": "stdout",
     "output_type": "stream",
     "text": [
      "Эта строка\n",
      "состоит из двух строк\n"
     ]
    }
   ],
   "source": [
    "s = \"Эта строка\\nсостоит из двух строк\"\n",
    "print(s)"
   ]
  },
  {
   "cell_type": "code",
   "execution_count": 6,
   "metadata": {
    "collapsed": false
   },
   "outputs": [
    {
     "name": "stdout",
     "output_type": "stream",
     "text": [
      "А в этой\tстроке\n",
      "используются\tсимволы табуляции\n"
     ]
    }
   ],
   "source": [
    "s = \"А в этой\\tстроке\\nиспользуются\\tсимволы табуляции\"\n",
    "print(s)"
   ]
  },
  {
   "cell_type": "markdown",
   "metadata": {},
   "source": [
    "Такой же синтаксис используетя для задания кавычек в строке:"
   ]
  },
  {
   "cell_type": "code",
   "execution_count": 7,
   "metadata": {
    "collapsed": false
   },
   "outputs": [
    {
     "name": "stdout",
     "output_type": "stream",
     "text": [
      "Это \"строка\" с кавычками. И \"это\" тоже. С одинарными Кавычками '' всё работает также.\n"
     ]
    }
   ],
   "source": [
    "s1 = \"Это \\\"строка\\\" с кавычками.\"\n",
    "s2 = 'И \"это\" тоже.'\n",
    "s3 = 'С одинарными Кавычками \\'\\' всё работает также.'\n",
    "print(s1, s2, s3)"
   ]
  },
  {
   "cell_type": "code",
   "execution_count": 8,
   "metadata": {
    "collapsed": false
   },
   "outputs": [
    {
     "name": "stdout",
     "output_type": "stream",
     "text": [
      "Если надо задать обратный слэш \\, то его надо просто удвоить: '\\\\'\n"
     ]
    }
   ],
   "source": [
    "print(\"Если надо задать обратный слэш \\\\, то его надо просто удвоить: '\\\\\\\\'\")"
   ]
  },
  {
   "cell_type": "markdown",
   "metadata": {},
   "source": [
    "## Операции со строками"
   ]
  },
  {
   "cell_type": "markdown",
   "metadata": {},
   "source": [
    "### Сложение"
   ]
  },
  {
   "cell_type": "markdown",
   "metadata": {},
   "source": [
    "Строки можно **складывать**. В этом случае они просто припишутся друг к другу. По-умному это называется *конкатенацией*."
   ]
  },
  {
   "cell_type": "code",
   "execution_count": 9,
   "metadata": {
    "collapsed": false
   },
   "outputs": [
    {
     "name": "stdout",
     "output_type": "stream",
     "text": [
      "Привет!!!\n"
     ]
    }
   ],
   "source": [
    "greeting = \"Привет\"\n",
    "exclamation = \"!!!\"\n",
    "print(greeting + exclamation)"
   ]
  },
  {
   "cell_type": "markdown",
   "metadata": {},
   "source": [
    "### Повторение"
   ]
  },
  {
   "cell_type": "markdown",
   "metadata": {},
   "source": [
    "Можно **умножать на целое число**, чтобы повторить строку нужное число раз."
   ]
  },
  {
   "cell_type": "code",
   "execution_count": 11,
   "metadata": {
    "collapsed": false
   },
   "outputs": [
    {
     "name": "stdout",
     "output_type": "stream",
     "text": [
      "I will write in Python with style!\n",
      "I will write in Python with style!\n",
      "I will write in Python with style!\n",
      "I will write in Python with style!\n",
      "I will write in Python with style!\n",
      "I will write in Python with style!\n",
      "I will write in Python with style!\n",
      "I will write in Python with style!\n",
      "I will write in Python with style!\n",
      "I will write in Python with style!\n",
      "\n",
      "Really\n",
      "Really\n",
      "Really\n",
      "\n"
     ]
    }
   ],
   "source": [
    "print(\"I will write in Python with style!\\n\" * 10)\n",
    "print(3 * \"Really\\n\")"
   ]
  },
  {
   "cell_type": "markdown",
   "metadata": {},
   "source": [
    "### Индексация"
   ]
  },
  {
   "cell_type": "markdown",
   "metadata": {},
   "source": [
    "Получить символ на заданной позиции можно также, как и в C++ или Pascal. Индекасация начинается с 0."
   ]
  },
  {
   "cell_type": "code",
   "execution_count": 13,
   "metadata": {
    "collapsed": false
   },
   "outputs": [
    {
     "name": "stdout",
     "output_type": "stream",
     "text": [
      "Э т о\n"
     ]
    }
   ],
   "source": [
    "s = \"Это моя строка\"\n",
    "print(s[0], s[1], s[2])"
   ]
  },
  {
   "cell_type": "markdown",
   "metadata": {},
   "source": [
    "Но нельзя поменять отдельный символ. Это сделано для того, чтобы более логично и эффективно реализовать некоторые возможности Python."
   ]
  },
  {
   "cell_type": "code",
   "execution_count": 14,
   "metadata": {
    "collapsed": false
   },
   "outputs": [
    {
     "ename": "TypeError",
     "evalue": "'str' object does not support item assignment",
     "output_type": "error",
     "traceback": [
      "\u001b[0;31m---------------------------------------------------------------------------\u001b[0m",
      "\u001b[0;31mTypeError\u001b[0m                                 Traceback (most recent call last)",
      "\u001b[0;32m<ipython-input-14-90c2df1ce1de>\u001b[0m in \u001b[0;36m<module>\u001b[0;34m()\u001b[0m\n\u001b[1;32m      1\u001b[0m \u001b[0ms\u001b[0m \u001b[0;34m=\u001b[0m \u001b[0;34m\"Вы не можете изменить символы этой строки\"\u001b[0m\u001b[0;34m\u001b[0m\u001b[0m\n\u001b[0;32m----> 2\u001b[0;31m \u001b[0ms\u001b[0m\u001b[0;34m[\u001b[0m\u001b[0;36m0\u001b[0m\u001b[0;34m]\u001b[0m \u001b[0;34m=\u001b[0m \u001b[0;34m\"Т\"\u001b[0m\u001b[0;34m\u001b[0m\u001b[0m\n\u001b[0m",
      "\u001b[0;31mTypeError\u001b[0m: 'str' object does not support item assignment"
     ]
    }
   ],
   "source": [
    "s = \"Вы не можете изменить символы этой строки\"\n",
    "s[0] = \"Т\""
   ]
  },
  {
   "cell_type": "markdown",
   "metadata": {},
   "source": [
    "> Перевод: `ОшибкаТипа: объект 'str' не поддерживает присваивание элементов`"
   ]
  },
  {
   "cell_type": "markdown",
   "metadata": {},
   "source": [
    "Можно указывать отрицательные индексы, тогда нумерация происходит с конца."
   ]
  },
  {
   "cell_type": "code",
   "execution_count": 16,
   "metadata": {
    "collapsed": false
   },
   "outputs": [
    {
     "name": "stdout",
     "output_type": "stream",
     "text": [
      "а = а\n",
      "к = к\n",
      "о = о\n",
      "р = р\n",
      "т = т\n",
      "С = С\n"
     ]
    }
   ],
   "source": [
    "s = \"Строка\"\n",
    "print(s[-1], \"=\", s[5])\n",
    "print(s[-2], \"=\", s[4])\n",
    "print(s[-3], \"=\", s[3])\n",
    "print(s[-4], \"=\", s[2])\n",
    "print(s[-5], \"=\", s[1])\n",
    "print(s[-6], \"=\", s[0])"
   ]
  },
  {
   "cell_type": "markdown",
   "metadata": {},
   "source": [
    "### Длина строки"
   ]
  },
  {
   "cell_type": "code",
   "execution_count": 17,
   "metadata": {
    "collapsed": false
   },
   "outputs": [
    {
     "name": "stdout",
     "output_type": "stream",
     "text": [
      "44\n"
     ]
    }
   ],
   "source": [
    "s = \"Для получения длины используется функция len\"\n",
    "print(len(s))"
   ]
  },
  {
   "cell_type": "markdown",
   "metadata": {},
   "source": [
    "### Проверка наличия подстроки"
   ]
  },
  {
   "cell_type": "markdown",
   "metadata": {},
   "source": [
    "Проверить наличие или отсутствие в строке подстроки или символа можно с помощью операций `in` и `not in`."
   ]
  },
  {
   "cell_type": "code",
   "execution_count": 18,
   "metadata": {
    "collapsed": false
   },
   "outputs": [
    {
     "name": "stdout",
     "output_type": "stream",
     "text": [
      "ы - гласная\n"
     ]
    }
   ],
   "source": [
    "vowels = \"аеёиоуыэюя\"\n",
    "c = \"ы\"\n",
    "if c in vowels:\n",
    "    print(c, \"- гласная\")\n",
    "else:\n",
    "    print(c, \"- согласная\")"
   ]
  },
  {
   "cell_type": "code",
   "execution_count": 20,
   "metadata": {
    "collapsed": false
   },
   "outputs": [
    {
     "name": "stdout",
     "output_type": "stream",
     "text": [
      "True\n",
      "False\n"
     ]
    }
   ],
   "source": [
    "s = \"Python - лучший из неторопливых языков :)\"\n",
    "print(\"Python\" in s)\n",
    "print(\"C++\" in s)"
   ]
  },
  {
   "cell_type": "markdown",
   "metadata": {},
   "source": [
    "## Кодировка символов"
   ]
  },
  {
   "cell_type": "markdown",
   "metadata": {},
   "source": [
    "В памяти компьютера каждый символ хранится как число. Соответствие между символом и числом называется *кодировкой*.\n",
    "\n",
    "Самая простая кодировка для латинских букв, цифр и часто используемых символов — ASCII. Она задаёт коды (числа) для 128 символов и используется в Python для представления этих символов."
   ]
  },
  {
   "cell_type": "markdown",
   "metadata": {},
   "source": [
    "### Код по символу"
   ]
  },
  {
   "cell_type": "code",
   "execution_count": 23,
   "metadata": {
    "collapsed": false
   },
   "outputs": [
    {
     "name": "stdout",
     "output_type": "stream",
     "text": [
      "97\n"
     ]
    }
   ],
   "source": [
    "# Код любого символа можно получить с помощью функции ord\n",
    "print(ord(\"a\"))"
   ]
  },
  {
   "cell_type": "code",
   "execution_count": 24,
   "metadata": {
    "collapsed": false
   },
   "outputs": [
    {
     "name": "stdout",
     "output_type": "stream",
     "text": [
      "Цифры: 48 49 50 51 ... 56 57\n",
      "Маленькие буквы: 97 98 99 100 ... 121 122\n",
      "Большие буквы: 65 66 67 68 ... 89 90\n"
     ]
    }
   ],
   "source": [
    "# Можно пользоваться тем, что коды чисел, маленьких латинских букв и больших латинских букв идут подряд.\n",
    "print(\"Цифры:\", ord(\"0\"), ord(\"1\"), ord(\"2\"), ord(\"3\"), \"...\", ord(\"8\"), ord(\"9\"))\n",
    "print(\"Маленькие буквы:\", ord(\"a\"), ord(\"b\"), ord(\"c\"), ord(\"d\"), \"...\", ord(\"y\"), ord(\"z\"))\n",
    "print(\"Большие буквы:\", ord(\"A\"), ord(\"B\"), ord(\"C\"), ord(\"D\"), \"...\", ord(\"Y\"), ord(\"Z\"))"
   ]
  },
  {
   "cell_type": "code",
   "execution_count": 25,
   "metadata": {
    "collapsed": false
   },
   "outputs": [
    {
     "name": "stdout",
     "output_type": "stream",
     "text": [
      "6\n"
     ]
    }
   ],
   "source": [
    "# Например, так можно получить номер буквы в алфавите\n",
    "c = \"g\"\n",
    "print(ord(c) - ord('a'))"
   ]
  },
  {
   "cell_type": "markdown",
   "metadata": {},
   "source": [
    "### Символ по коду"
   ]
  },
  {
   "cell_type": "code",
   "execution_count": 27,
   "metadata": {
    "collapsed": false
   },
   "outputs": [
    {
     "name": "stdout",
     "output_type": "stream",
     "text": [
      "d\n"
     ]
    }
   ],
   "source": [
    "# Для получение символа по коду используется функция chr\n",
    "print(chr(100))"
   ]
  },
  {
   "cell_type": "markdown",
   "metadata": {},
   "source": [
    "### ASCII"
   ]
  },
  {
   "cell_type": "code",
   "execution_count": 32,
   "metadata": {
    "collapsed": false
   },
   "outputs": [
    {
     "name": "stdout",
     "output_type": "stream",
     "text": [
      "chr(0) = '\\x00'\n",
      "chr(1) = '\\x01'\n",
      "chr(2) = '\\x02'\n",
      "chr(3) = '\\x03'\n",
      "chr(4) = '\\x04'\n",
      "chr(5) = '\\x05'\n",
      "chr(6) = '\\x06'\n",
      "chr(7) = '\\x07'\n",
      "chr(8) = '\\x08'\n",
      "chr(9) = '\\t'\n",
      "chr(10) = '\\n'\n",
      "chr(11) = '\\x0b'\n",
      "chr(12) = '\\x0c'\n",
      "chr(13) = '\\r'\n",
      "chr(14) = '\\x0e'\n",
      "chr(15) = '\\x0f'\n",
      "chr(16) = '\\x10'\n",
      "chr(17) = '\\x11'\n",
      "chr(18) = '\\x12'\n",
      "chr(19) = '\\x13'\n",
      "chr(20) = '\\x14'\n",
      "chr(21) = '\\x15'\n",
      "chr(22) = '\\x16'\n",
      "chr(23) = '\\x17'\n",
      "chr(24) = '\\x18'\n",
      "chr(25) = '\\x19'\n",
      "chr(26) = '\\x1a'\n",
      "chr(27) = '\\x1b'\n",
      "chr(28) = '\\x1c'\n",
      "chr(29) = '\\x1d'\n",
      "chr(30) = '\\x1e'\n",
      "chr(31) = '\\x1f'\n",
      "chr(32) = ' '\n",
      "chr(33) = '!'\n",
      "chr(34) = '\"'\n",
      "chr(35) = '#'\n",
      "chr(36) = '$'\n",
      "chr(37) = '%'\n",
      "chr(38) = '&'\n",
      "chr(39) = \"'\"\n",
      "chr(40) = '('\n",
      "chr(41) = ')'\n",
      "chr(42) = '*'\n",
      "chr(43) = '+'\n",
      "chr(44) = ','\n",
      "chr(45) = '-'\n",
      "chr(46) = '.'\n",
      "chr(47) = '/'\n",
      "chr(48) = '0'\n",
      "chr(49) = '1'\n",
      "chr(50) = '2'\n",
      "chr(51) = '3'\n",
      "chr(52) = '4'\n",
      "chr(53) = '5'\n",
      "chr(54) = '6'\n",
      "chr(55) = '7'\n",
      "chr(56) = '8'\n",
      "chr(57) = '9'\n",
      "chr(58) = ':'\n",
      "chr(59) = ';'\n",
      "chr(60) = '<'\n",
      "chr(61) = '='\n",
      "chr(62) = '>'\n",
      "chr(63) = '?'\n",
      "chr(64) = '@'\n",
      "chr(65) = 'A'\n",
      "chr(66) = 'B'\n",
      "chr(67) = 'C'\n",
      "chr(68) = 'D'\n",
      "chr(69) = 'E'\n",
      "chr(70) = 'F'\n",
      "chr(71) = 'G'\n",
      "chr(72) = 'H'\n",
      "chr(73) = 'I'\n",
      "chr(74) = 'J'\n",
      "chr(75) = 'K'\n",
      "chr(76) = 'L'\n",
      "chr(77) = 'M'\n",
      "chr(78) = 'N'\n",
      "chr(79) = 'O'\n",
      "chr(80) = 'P'\n",
      "chr(81) = 'Q'\n",
      "chr(82) = 'R'\n",
      "chr(83) = 'S'\n",
      "chr(84) = 'T'\n",
      "chr(85) = 'U'\n",
      "chr(86) = 'V'\n",
      "chr(87) = 'W'\n",
      "chr(88) = 'X'\n",
      "chr(89) = 'Y'\n",
      "chr(90) = 'Z'\n",
      "chr(91) = '['\n",
      "chr(92) = '\\\\'\n",
      "chr(93) = ']'\n",
      "chr(94) = '^'\n",
      "chr(95) = '_'\n",
      "chr(96) = '`'\n",
      "chr(97) = 'a'\n",
      "chr(98) = 'b'\n",
      "chr(99) = 'c'\n",
      "chr(100) = 'd'\n",
      "chr(101) = 'e'\n",
      "chr(102) = 'f'\n",
      "chr(103) = 'g'\n",
      "chr(104) = 'h'\n",
      "chr(105) = 'i'\n",
      "chr(106) = 'j'\n",
      "chr(107) = 'k'\n",
      "chr(108) = 'l'\n",
      "chr(109) = 'm'\n",
      "chr(110) = 'n'\n",
      "chr(111) = 'o'\n",
      "chr(112) = 'p'\n",
      "chr(113) = 'q'\n",
      "chr(114) = 'r'\n",
      "chr(115) = 's'\n",
      "chr(116) = 't'\n",
      "chr(117) = 'u'\n",
      "chr(118) = 'v'\n",
      "chr(119) = 'w'\n",
      "chr(120) = 'x'\n",
      "chr(121) = 'y'\n",
      "chr(122) = 'z'\n",
      "chr(123) = '{'\n",
      "chr(124) = '|'\n",
      "chr(125) = '}'\n",
      "chr(126) = '~'\n",
      "chr(127) = '\\x7f'\n"
     ]
    }
   ],
   "source": [
    "# Этот код выводит всю таблицу ASCII\n",
    "for code in range(128):\n",
    "    print('chr(' + str(code) + ') =', repr(chr(code)))"
   ]
  }
 ],
 "metadata": {
  "kernelspec": {
   "display_name": "Python 3",
   "language": "python",
   "name": "python3"
  },
  "language_info": {
   "codemirror_mode": {
    "name": "ipython",
    "version": 3
   },
   "file_extension": ".py",
   "mimetype": "text/x-python",
   "name": "python",
   "nbconvert_exporter": "python",
   "pygments_lexer": "ipython3",
   "version": "3.5.2"
  },
  "toc": {
   "base_numbering": 1,
   "nav_menu": {},
   "number_sections": false,
   "sideBar": false,
   "skip_h1_title": true,
   "title_cell": "Содержание",
   "title_sidebar": "Содержание",
   "toc_cell": true,
   "toc_position": {},
   "toc_section_display": true,
   "toc_window_display": false
  }
 },
 "nbformat": 4,
 "nbformat_minor": 1
}
