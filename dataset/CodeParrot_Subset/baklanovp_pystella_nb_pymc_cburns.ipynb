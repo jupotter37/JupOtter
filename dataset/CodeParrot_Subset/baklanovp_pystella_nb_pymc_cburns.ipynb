{
 "cells": [
  {
   "cell_type": "code",
   "execution_count": null,
   "metadata": {
    "collapsed": true
   },
   "outputs": [],
   "source": [
    "# PyMC https://users.obs.carnegiescience.edu/cburns/ipynbs/PyMC.html"
   ]
  },
  {
   "cell_type": "code",
   "execution_count": null,
   "metadata": {
    "collapsed": true
   },
   "outputs": [],
   "source": [
    "from numpy import *\n",
    "Nobs = 20\n",
    "x_true = random.uniform(0,10, size=Nobs)\n",
    "y_true = random.uniform(-1,1, size=Nobs)\n",
    "alpha_true = 0.5\n",
    "beta_x_true = 1.0\n",
    "beta_y_true = 10.0\n",
    "eps_true = 0.5\n",
    "z_true = alpha_true + beta_x_true*x_true + beta_y_true*y_true\n",
    "z_obs = z_true + random.normal(0, eps_true, size=Nobs)"
   ]
  },
  {
   "cell_type": "code",
   "execution_count": null,
   "metadata": {
    "collapsed": false
   },
   "outputs": [],
   "source": [
    "%matplotlib inline\n",
    "from matplotlib import pyplot as plt\n",
    "plt.figure(figsize=(12,6))\n",
    "plt.subplot(1,2,1)\n",
    "plt.scatter(x_true, z_obs, c=y_true, marker='o')\n",
    "plt.colorbar()\n",
    "plt.xlabel('X')\n",
    "plt.ylabel('Z')\n",
    "plt.subplot(1,2,2)\n",
    "plt.scatter(y_true, z_obs, c=x_true, marker='o')\n",
    "plt.colorbar()\n",
    "plt.xlabel('Y')\n",
    "plt.ylabel('Z')"
   ]
  },
  {
   "cell_type": "code",
   "execution_count": null,
   "metadata": {
    "collapsed": true
   },
   "outputs": [],
   "source": [
    "import pymc\n",
    "# define the parameters with their associated priors\n",
    "alpha = pymc.Uniform('alpha', -100,100, value=median(z_obs))\n",
    "betax = pymc.Uniform('betax', -100,100, value=std(z_obs)/std(x_true))\n",
    "betay = pymc.Uniform('betay', -100,100, value=std(z_obs)/std(y_true))\n",
    "eps = pymc.Uniform('eps', 0, 100, value=0.01)\n",
    "\n",
    "# Now define the model\n",
    "@pymc.deterministic\n",
    "def model(alpha=alpha, betax=betax, betay=betay, x=x_true, y=y_true):\n",
    "    return alpha + betax*x + betay*y\n",
    "\n",
    "# pymc parametrizes the width of the normal distribution by tau=1/sigma**2\n",
    "@pymc.deterministic\n",
    "def tau(eps=eps):\n",
    "    return power(eps, -2)\n",
    "\n",
    "# Lastly relate the model/parameters to the data\n",
    "data = pymc.Normal('data', mu=model, tau=tau, value=z_obs, observed=True)"
   ]
  },
  {
   "cell_type": "code",
   "execution_count": null,
   "metadata": {
    "collapsed": false
   },
   "outputs": [],
   "source": [
    "sampler = pymc.MCMC([alpha,betax,betay,eps,model,tau,z_obs,x_true,y_true])\n",
    "sampler.use_step_method(pymc.AdaptiveMetropolis, [alpha,betax,betay,eps],\n",
    "                        scales={alpha:0.1, betax:0.1, betay:1.0, eps:0.1})\n",
    "sampler.sample(iter=10000)"
   ]
  },
  {
   "cell_type": "code",
   "execution_count": null,
   "metadata": {
    "collapsed": false
   },
   "outputs": [],
   "source": [
    "pymc.Matplot.plot(sampler)"
   ]
  },
  {
   "cell_type": "code",
   "execution_count": null,
   "metadata": {
    "collapsed": false
   },
   "outputs": [],
   "source": [
    "sampler.sample(iter=10000)"
   ]
  },
  {
   "cell_type": "code",
   "execution_count": null,
   "metadata": {
    "collapsed": false
   },
   "outputs": [],
   "source": [
    "alpha.summary()"
   ]
  },
  {
   "cell_type": "code",
   "execution_count": null,
   "metadata": {
    "collapsed": true
   },
   "outputs": [],
   "source": [
    "m_alpha = median(alpha.trace())\n",
    "m_betax = median(betax.trace())\n",
    "m_betay = median(betay.trace())\n",
    "m_eps = median(eps.trace())"
   ]
  },
  {
   "cell_type": "code",
   "execution_count": null,
   "metadata": {
    "collapsed": false
   },
   "outputs": [],
   "source": [
    "plt.figure(figsize=(12,6))\n",
    "plt.subplot(1,2,1)\n",
    "plt.plot(x_true, z_obs-m_alpha-m_betay*y_true, 'o')\n",
    "plt.xlabel('X')\n",
    "plt.ylabel('Z - alpha - beta_y y')\n",
    "# Now plot the model\n",
    "xx = array([x_true.min(), x_true.max()])\n",
    "plt.plot(xx, xx*m_betax)\n",
    "plt.plot(xx, xx*m_betax + m_eps, '--', color='k')\n",
    "plt.plot(xx, xx*m_betax - m_eps, '--', color='k')\n",
    "plt.subplot(1,2,2)\n",
    "plt.plot(y_true, z_obs-m_alpha-m_betax*x_true, 'o')\n",
    "plt.xlabel('Y')\n",
    "plt.ylabel('Z - alpha - beta_x x')\n",
    "yy = array([y_true.min(), y_true.max()])\n",
    "plt.plot(yy, yy*m_betay)\n",
    "plt.plot(yy, yy*m_betay + m_eps, '--', color='k')\n",
    "plt.plot(yy, yy*m_betay - m_eps, '--', color='k')"
   ]
  },
  {
   "cell_type": "code",
   "execution_count": null,
   "metadata": {
    "collapsed": false
   },
   "outputs": [],
   "source": [
    "samples = array([alpha.trace(),betax.trace(),betay.trace(),eps.trace()]).T\n",
    "samples = samples[0]\n",
    "import corner\n",
    "tmp = corner.corner(samples[:,:], labels=['alpha','betax','betay','eps'], \n",
    "                truths=[alpha_true, beta_x_true, beta_y_true, eps_true])"
   ]
  },
  {
   "cell_type": "code",
   "execution_count": null,
   "metadata": {
    "collapsed": true
   },
   "outputs": [],
   "source": []
  }
 ],
 "metadata": {
  "kernelspec": {
   "display_name": "Python 2",
   "language": "python",
   "name": "python2"
  },
  "language_info": {
   "codemirror_mode": {
    "name": "ipython",
    "version": 2
   },
   "file_extension": ".py",
   "mimetype": "text/x-python",
   "name": "python",
   "nbconvert_exporter": "python",
   "pygments_lexer": "ipython2",
   "version": "2.7.6"
  }
 },
 "nbformat": 4,
 "nbformat_minor": 0
}
