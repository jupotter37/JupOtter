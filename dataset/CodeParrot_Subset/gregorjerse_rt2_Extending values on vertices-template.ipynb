{
 "cells": [
  {
   "cell_type": "markdown",
   "metadata": {},
   "source": [
    "## Extending values on vertices to a discrete gradient vector field\n",
    "During extension algorithm one has to compute lover_link for every vertex in the complex. So let us implement search for the lower link first. It requires quite a lot of code: first we find a star, then link and finally lower link for the given simplex."
   ]
  },
  {
   "cell_type": "code",
   "execution_count": 90,
   "metadata": {
    "collapsed": false
   },
   "outputs": [],
   "source": [
    "from itertools import combinations, chain\n",
    "\n",
    "def simplex_closure(a):    \n",
    "    \"\"\"Returns the generator that iterating over all subsimplices (of all dimensions) in the closure\n",
    "    of the simplex a. The simplex a is also included.\n",
    "    \"\"\"\n",
    "    return chain.from_iterable([combinations(a, l) for l in range(1, len(a) + 1)])\n",
    "        \n",
    "def closure(K):\n",
    "    \"\"\"Add all missing subsimplices to K in order to make it a simplicial complex.\"\"\"\n",
    "    return list({s for a in K for s in simplex_closure(a)})\n",
    "\n",
    "def contained(a, b):\n",
    "    \"\"\"Returns True is a is a subsimplex of b, False otherwise.\"\"\"\n",
    "    return all((v in b for v in a))\n",
    "\n",
    "def star(s, cx):\n",
    "    \"\"\"Return the set of all simplices in the cx that contais simplex s.\n",
    "    \"\"\"\n",
    "    return {p for p in cx if contained(s, p)}\n",
    "\n",
    "def intersection(s1, s2):\n",
    "    \"\"\"Return the intersection of s1 and s2.\"\"\"\n",
    "    return list(set(s1).intersection(s2))\n",
    "\n",
    "def link(s, cx):\n",
    "    \"\"\"Returns link of the simplex s in the complex cx.\n",
    "    \"\"\"\n",
    "    # Link consists of all simplices from the closed star that have \n",
    "    # empty intersection with s.\n",
    "    return [c for c in closure(star(s, cx)) if not intersection(s, c)]\n",
    "\n",
    "def simplex_value(s, f, aggregate):\n",
    "    \"\"\"Return the value of f on vertices of s\n",
    "    aggregated by the aggregate function.\n",
    "    \"\"\"\n",
    "    return aggregate([f[v] for v in s])\n",
    "\n",
    "def lower_link(s, cx, f):\n",
    "    \"\"\"Return the lower link of the simplex s in the complex cx.\n",
    "    The dictionary f is the mapping from vertices (integers)\n",
    "    to the values on vertices.\n",
    "    \"\"\"\n",
    "    sval = simplex_value(s, f, min)\n",
    "    return [s for s in link(s, cx) \n",
    "            if simplex_value(s, f, max) < sval]"
   ]
  },
  {
   "cell_type": "markdown",
   "metadata": {},
   "source": [
    "Let us test the above function on the simple example: full triangle with values `0`, `1` and `2` on the vertices labeled with `1`, `2` and `3`."
   ]
  },
  {
   "cell_type": "code",
   "execution_count": 87,
   "metadata": {
    "collapsed": false
   },
   "outputs": [
    {
     "name": "stdout",
     "output_type": "stream",
     "text": [
      "(1,): []\n",
      "(2,): [(1,)]\n",
      "(3,): [(1, 2), (1,), (2,)]\n"
     ]
    }
   ],
   "source": [
    "K = closure([(1, 2, 3)])\n",
    "f = {1: 0, 2: 1, 3: 2}\n",
    "for v in (1, 2, 3):\n",
    "    print\"{0}: {1}\".format((v,), lower_link((v,), K, f))"
   ]
  },
  {
   "cell_type": "markdown",
   "metadata": {},
   "source": [
    "Now let us implement an extension algorithm. We are leaving out the cancelling step for clarity."
   ]
  },
  {
   "cell_type": "code",
   "execution_count": 91,
   "metadata": {
    "collapsed": false
   },
   "outputs": [],
   "source": [
    "def join(a, b):\n",
    "    \"\"\"Return the join of 2 simplices a and b.\"\"\"\n",
    "    return tuple(sorted(set(a).union(b)))\n",
    "\n",
    "def extend(K, f):\n",
    "    \"\"\"Extend the field to the complex K.\n",
    "    Function on vertices is given in f.\n",
    "    Returns the pair V, C, where V is the dictionary containing discrete gradient vector field\n",
    "    and C is the list of all critical cells.\n",
    "    \"\"\"\n",
    "    V = dict()\n",
    "    C = []\n",
    "    for v in (s for s in K if len(s)==1):\n",
    "        # Add your own code\n",
    "        pass\n",
    "    return V, C"
   ]
  },
  {
   "cell_type": "markdown",
   "metadata": {},
   "source": [
    "Let us test the algorithm on the example from the previous step (full triangle)."
   ]
  },
  {
   "cell_type": "code",
   "execution_count": 92,
   "metadata": {
    "collapsed": false
   },
   "outputs": [
    {
     "data": {
      "text/plain": [
       "({(2,): (1, 2), (2, 3): (1, 2, 3), (3,): (1, 3)}, [(1,)])"
      ]
     },
     "execution_count": 92,
     "metadata": {},
     "output_type": "execute_result"
    }
   ],
   "source": [
    "K = closure([(1, 2, 3)])\n",
    "f = {1: 0, 2: 1, 3: 2}\n",
    "extend(K, f)"
   ]
  },
  {
   "cell_type": "code",
   "execution_count": 100,
   "metadata": {
    "collapsed": false
   },
   "outputs": [
    {
     "data": {
      "text/plain": [
       "({(2,): (1, 2), (2, 3): (1, 2, 3), (3,): (1, 3)},\n",
       " [(1,), (2, 4), (2, 3, 4), (3, 4), (4,)])"
      ]
     },
     "execution_count": 100,
     "metadata": {},
     "output_type": "execute_result"
    }
   ],
   "source": [
    "K = closure([(1, 2, 3), (2, 3, 4)])\n",
    "f = {1: 0, 2: 1, 3: 2, 4: 0}\n",
    "extend(K, f)"
   ]
  },
  {
   "cell_type": "code",
   "execution_count": 101,
   "metadata": {
    "collapsed": false
   },
   "outputs": [
    {
     "data": {
      "text/plain": [
       "({(2,): (1, 2),\n",
       "  (2, 3): (1, 2, 3),\n",
       "  (3,): (1, 3),\n",
       "  (3, 4): (2, 3, 4),\n",
       "  (4,): (2, 4)},\n",
       " [(1,)])"
      ]
     },
     "execution_count": 101,
     "metadata": {},
     "output_type": "execute_result"
    }
   ],
   "source": [
    "K = closure([(1, 2, 3), (2, 3, 4)])\n",
    "f = {1: 0, 2: 1, 3: 2, 4: 3}\n",
    "extend(K, f)"
   ]
  },
  {
   "cell_type": "code",
   "execution_count": null,
   "metadata": {
    "collapsed": true
   },
   "outputs": [],
   "source": []
  }
 ],
 "metadata": {
  "kernelspec": {
   "display_name": "Python 2",
   "language": "python",
   "name": "python2"
  },
  "language_info": {
   "codemirror_mode": {
    "name": "ipython",
    "version": 2
   },
   "file_extension": ".py",
   "mimetype": "text/x-python",
   "name": "python",
   "nbconvert_exporter": "python",
   "pygments_lexer": "ipython2",
   "version": "2.7.11"
  }
 },
 "nbformat": 4,
 "nbformat_minor": 0
}
