{
 "cells": [
  {
   "cell_type": "code",
   "execution_count": null,
   "metadata": {
    "collapsed": true
   },
   "outputs": [],
   "source": [
    "import h2o\n",
    "import time\n",
    "import numpy as np"
   ]
  },
  {
   "cell_type": "code",
   "execution_count": null,
   "metadata": {
    "collapsed": false
   },
   "outputs": [],
   "source": [
    "h2o.init()"
   ]
  },
  {
   "cell_type": "code",
   "execution_count": null,
   "metadata": {
    "collapsed": false
   },
   "outputs": [],
   "source": [
    "# Import and parse ACS 2013 5-year DP02 demographic data\n",
    "acs_orig = h2o.upload_file(path=h2o.locate(\"bigdata/laptop/census/ACS_13_5YR_DP02_cleaned.zip\"), col_types = ([\"enum\"] + [\"numeric\"]*149))\n",
    "acs_orig.describe()\n",
    "acs_zcta_col = acs_orig[\"ZCTA5\"]\n",
    "acs_full = acs_orig.drop(\"ZCTA5\")"
   ]
  },
  {
   "cell_type": "code",
   "execution_count": null,
   "metadata": {
    "collapsed": false
   },
   "outputs": [],
   "source": [
    "# Import and parse WHD 2014-2015 labor violations data\n",
    "whd_zcta = h2o.upload_file(path=h2o.locate(\"bigdata/laptop/census/whd_zcta_cleaned.zip\"), col_types = ([\"enum\"]*7 + [\"numeric\"]*97))\n",
    "whd_zcta.describe()"
   ]
  },
  {
   "cell_type": "code",
   "execution_count": null,
   "metadata": {
    "collapsed": false
   },
   "outputs": [],
   "source": [
    "# Create validation data with 20% missing entries\n",
    "# acs_miss = h2o.upload_file(path=h2o.locate(\"bigdata/laptop/census/ACS_13_5YR_DP02_cleaned.zip\"), col_types = ([\"enum\"] + [\"numeric\"]*149))\n",
    "# acs_miss = acs_miss.drop(\"ZCTA5\")\n",
    "# acs_miss = acs_miss.insert_missing_values(fraction=0.2)\n",
    "# acs_miss.describe()"
   ]
  },
  {
   "cell_type": "code",
   "execution_count": null,
   "metadata": {
    "collapsed": false
   },
   "outputs": [],
   "source": [
    "# Run GLRM to reduce ZCTA demographics to 15 archetypes\n",
    "acs_model = h2o.glrm(x = acs_full, \n",
    "                     k = 5,\n",
    "                     transform = \"STANDARDIZE\",\n",
    "                     init = \"PlusPlus\",\n",
    "                     loss = \"Quadratic\",\n",
    "                     max_iterations = 100,\n",
    "                     regularization_x = \"Quadratic\",\n",
    "                     regularization_y = \"L1\",\n",
    "                     gamma_x = 0.25,\n",
    "                     gamma_y = 0.5)\n",
    "print acs_model"
   ]
  },
  {
   "cell_type": "code",
   "execution_count": null,
   "metadata": {
    "collapsed": false
   },
   "outputs": [],
   "source": [
    "# Embedding of ZCTAs into archetypes (X)\n",
    "zcta_arch_x = h2o.get_frame(acs_model._model_json[\"output\"][\"loading_key\"][\"name\"])\n",
    "arch_x_head = zcta_arch_x.head(show = True)"
   ]
  },
  {
   "cell_type": "code",
   "execution_count": null,
   "metadata": {
    "collapsed": false
   },
   "outputs": [],
   "source": [
    "# Archetypes to full feature mapping (Y)\n",
    "arch_feat_y = acs_model._model_json[\"output\"][\"archetypes\"]\n",
    "print arch_feat_y"
   ]
  },
  {
   "cell_type": "code",
   "execution_count": null,
   "metadata": {
    "collapsed": false
   },
   "outputs": [],
   "source": [
    "# Split WHD data into test/train with 20/80 ratio\n",
    "split = whd_zcta[\"flsa_repeat_violator\"].runif()\n",
    "train = whd_zcta[split <= 0.8]\n",
    "test = whd_zcta[split > 0.8]\n",
    "\n",
    "# Build a GBM model to predict repeat violators and score\n",
    "s = time.time()\n",
    "gbm_orig = h2o.gbm(x = train.drop(\"flsa_repeat_violator\"),\n",
    "                   y = train[\"flsa_repeat_violator\"],\n",
    "                   validation_x = test.drop(\"flsa_repeat_violator\"),\n",
    "                   validation_y = test[\"flsa_repeat_violator\"],\n",
    "                   ntrees = 10, \n",
    "                   max_depth = 6, \n",
    "                   distribution = \"multinomial\")\n",
    "orig_elapsed = time.time() - s"
   ]
  },
  {
   "cell_type": "code",
   "execution_count": null,
   "metadata": {
    "collapsed": false
   },
   "outputs": [],
   "source": [
    "# Replace zcta5_cd column in WHD data with GLRM archetypes\n",
    "zcta_arch_x[\"zcta5_cd\"] = acs_zcta_col\n",
    "whd_arch = whd_zcta.merge(zcta_arch_x, allLeft = True, allRite = False)\n",
    "whd_arch = whd_arch.drop(\"zcta5_cd\")\n",
    "whd_arch.describe()"
   ]
  },
  {
   "cell_type": "code",
   "execution_count": null,
   "metadata": {
    "collapsed": false
   },
   "outputs": [],
   "source": [
    "# Split WHD data into test/train with 20/80 ratio\n",
    "train_mod = whd_arch[split <= 0.8]\n",
    "test_mod = whd_arch[split > 0.8]\n",
    "\n",
    "# Build a GBM model to predict repeat violators and score\n",
    "s = time.time()\n",
    "gbm_mod = h2o.gbm(x = train_mod.drop(\"flsa_repeat_violator\"),\n",
    "                   y = train_mod[\"flsa_repeat_violator\"],\n",
    "                   validation_x = test_mod.drop(\"flsa_repeat_violator\"),\n",
    "                   validation_y = test_mod[\"flsa_repeat_violator\"],\n",
    "                   ntrees = 10, \n",
    "                   max_depth = 6, \n",
    "                   distribution = \"multinomial\")\n",
    "mod_elapsed = time.time() - s"
   ]
  },
  {
   "cell_type": "code",
   "execution_count": null,
   "metadata": {
    "collapsed": false
   },
   "outputs": [],
   "source": [
    "# Model performance comparison\n",
    "train_mse_orig = gbm_orig.model_performance(train).mse()\n",
    "test_mse_orig  = gbm_orig.model_performance(test ).mse()\n",
    "train_mse_mod  = gbm_mod .model_performance(train).mse()\n",
    "test_mse_mod   = gbm_orig.model_performance(test ).mse()\n",
    "\n",
    "# Print results in pretty HTML table\n",
    "header = [\"Metric\"   , \"Original\"    , \"Reduced\"    ]\n",
    "table = [\n",
    "         [\"Runtime\"  , orig_elapsed  , mod_elapsed  ],\n",
    "         [\"Train MSE\", train_mse_orig, train_mse_mod],\n",
    "         [\"Test MSE\" , test_mse_orig , test_mse_mod ],\n",
    "        ]\n",
    "h2o.H2ODisplay(table,header)"
   ]
  },
  {
   "cell_type": "code",
   "execution_count": null,
   "metadata": {
    "collapsed": true
   },
   "outputs": [],
   "source": []
  }
 ],
 "metadata": {
  "kernelspec": {
   "display_name": "Python 2",
   "language": "python",
   "name": "python2"
  },
  "language_info": {
   "codemirror_mode": {
    "name": "ipython",
    "version": 2
   },
   "file_extension": ".py",
   "mimetype": "text/x-python",
   "name": "python",
   "nbconvert_exporter": "python",
   "pygments_lexer": "ipython2",
   "version": "2.7.10"
  }
 },
 "nbformat": 4,
 "nbformat_minor": 0
}
