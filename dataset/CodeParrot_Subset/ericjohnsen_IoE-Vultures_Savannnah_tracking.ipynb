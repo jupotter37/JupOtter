{
 "cells": [
  {
   "cell_type": "markdown",
   "metadata": {},
   "source": [
    "# Savannah Tracking"
   ]
  },
  {
   "cell_type": "code",
   "execution_count": 15,
   "metadata": {
    "collapsed": false
   },
   "outputs": [],
   "source": [
    "from astropy.io import ascii\n",
    "from astropy.table import Table,Column"
   ]
  },
  {
   "cell_type": "code",
   "execution_count": 79,
   "metadata": {
    "collapsed": false
   },
   "outputs": [],
   "source": [
    "zebra = ascii.read('data/ST2010-3506 Grey Zebra Kalama.csv')"
   ]
  },
  {
   "cell_type": "code",
   "execution_count": 53,
   "metadata": {
    "collapsed": false
   },
   "outputs": [
    {
     "data": {
      "text/html": [
       "&lt;Table masked=False length=2242&gt;\n",
       "<table id=\"table185482824\">\n",
       "<thead><tr><th>collarid</th><th>DATETIME</th><th>LATITUDE</th><th>LONGITUDE</th><th>HEADING</th><th>SPEED</th><th>ALTITUDE</th></tr></thead>\n",
       "<thead><tr><th>string88</th><th>string128</th><th>float64</th><th>float64</th><th>int32</th><th>float64</th><th>int32</th></tr></thead>\n",
       "<tr><td>st2010-3502</td><td>01/01/2015 00:00</td><td>0.242147</td><td>37.391762</td><td>0</td><td>0.0</td><td>1730</td></tr>\n",
       "<tr><td>st2010-3502</td><td>01/01/2015 01:00</td><td>0.226135</td><td>37.399556</td><td>0</td><td>0.0</td><td>1730</td></tr>\n",
       "<tr><td>st2010-3502</td><td>01/01/2015 02:00</td><td>0.226114</td><td>37.399466</td><td>137</td><td>0.0</td><td>1724</td></tr>\n",
       "<tr><td>st2010-3502</td><td>01/01/2015 03:00</td><td>0.232846</td><td>37.406688</td><td>0</td><td>0.0</td><td>1716</td></tr>\n",
       "<tr><td>st2010-3502</td><td>01/01/2015 04:00</td><td>0.233425</td><td>37.406788</td><td>27</td><td>0.0</td><td>1711</td></tr>\n",
       "<tr><td>st2010-3502</td><td>01/01/2015 05:00</td><td>0.233468</td><td>37.406757</td><td>0</td><td>0.0</td><td>1709</td></tr>\n",
       "<tr><td>st2010-3502</td><td>01/01/2015 06:00</td><td>0.233441</td><td>37.406736</td><td>50</td><td>0.0</td><td>1709</td></tr>\n",
       "<tr><td>st2010-3502</td><td>01/01/2015 07:00</td><td>0.233762</td><td>37.406741</td><td>5</td><td>3.4</td><td>1707</td></tr>\n",
       "<tr><td>st2010-3502</td><td>01/01/2015 08:00</td><td>0.234677</td><td>37.408781</td><td>217</td><td>0.0</td><td>1705</td></tr>\n",
       "<tr><td>st2010-3502</td><td>01/01/2015 09:00</td><td>0.2349</td><td>37.409152</td><td>0</td><td>0.0</td><td>1714</td></tr>\n",
       "<tr><td>...</td><td>...</td><td>...</td><td>...</td><td>...</td><td>...</td><td>...</td></tr>\n",
       "<tr><td>st2010-3502</td><td>05/04/2015 00:00</td><td>0.228745</td><td>37.431195</td><td>88</td><td>0.0</td><td>1693</td></tr>\n",
       "<tr><td>st2010-3502</td><td>05/04/2015 01:00</td><td>0.224031</td><td>37.437575</td><td>118</td><td>0.0</td><td>1693</td></tr>\n",
       "<tr><td>st2010-3502</td><td>05/04/2015 02:00</td><td>0.233496</td><td>37.440473</td><td>166</td><td>0.0</td><td>1693</td></tr>\n",
       "<tr><td>st2010-3502</td><td>05/04/2015 03:00</td><td>0.242358</td><td>37.466329</td><td>133</td><td>0.0</td><td>1700</td></tr>\n",
       "<tr><td>st2010-3502</td><td>05/04/2015 10:00</td><td>0.241404</td><td>37.47209</td><td>318</td><td>0.0</td><td>1661</td></tr>\n",
       "<tr><td>st2010-3502</td><td>05/04/2015 11:00</td><td>0.241371</td><td>37.472378</td><td>139</td><td>0.0</td><td>1679</td></tr>\n",
       "<tr><td>st2010-3502</td><td>05/04/2015 12:00</td><td>0.241255</td><td>37.472431</td><td>169</td><td>0.0</td><td>1674</td></tr>\n",
       "<tr><td>st2010-3502</td><td>05/04/2015 13:00</td><td>0.241345</td><td>37.472357</td><td>249</td><td>0.0</td><td>1672</td></tr>\n",
       "<tr><td>st2010-3502</td><td>05/04/2015 14:00</td><td>0.241373</td><td>37.472306</td><td>92</td><td>0.0</td><td>1668</td></tr>\n",
       "<tr><td>st2010-3502</td><td>05/04/2015 15:00</td><td>0.241339</td><td>37.472282</td><td>65</td><td>0.0</td><td>1680</td></tr>\n",
       "</table>"
      ],
      "text/plain": [
       "<Table masked=False length=2242>\n",
       "  collarid      DATETIME     LATITUDE LONGITUDE HEADING  SPEED  ALTITUDE\n",
       "  string88     string128     float64   float64   int32  float64  int32  \n",
       "----------- ---------------- -------- --------- ------- ------- --------\n",
       "st2010-3502 01/01/2015 00:00 0.242147 37.391762       0     0.0     1730\n",
       "st2010-3502 01/01/2015 01:00 0.226135 37.399556       0     0.0     1730\n",
       "st2010-3502 01/01/2015 02:00 0.226114 37.399466     137     0.0     1724\n",
       "st2010-3502 01/01/2015 03:00 0.232846 37.406688       0     0.0     1716\n",
       "st2010-3502 01/01/2015 04:00 0.233425 37.406788      27     0.0     1711\n",
       "st2010-3502 01/01/2015 05:00 0.233468 37.406757       0     0.0     1709\n",
       "st2010-3502 01/01/2015 06:00 0.233441 37.406736      50     0.0     1709\n",
       "st2010-3502 01/01/2015 07:00 0.233762 37.406741       5     3.4     1707\n",
       "st2010-3502 01/01/2015 08:00 0.234677 37.408781     217     0.0     1705\n",
       "st2010-3502 01/01/2015 09:00   0.2349 37.409152       0     0.0     1714\n",
       "        ...              ...      ...       ...     ...     ...      ...\n",
       "st2010-3502 05/04/2015 00:00 0.228745 37.431195      88     0.0     1693\n",
       "st2010-3502 05/04/2015 01:00 0.224031 37.437575     118     0.0     1693\n",
       "st2010-3502 05/04/2015 02:00 0.233496 37.440473     166     0.0     1693\n",
       "st2010-3502 05/04/2015 03:00 0.242358 37.466329     133     0.0     1700\n",
       "st2010-3502 05/04/2015 10:00 0.241404  37.47209     318     0.0     1661\n",
       "st2010-3502 05/04/2015 11:00 0.241371 37.472378     139     0.0     1679\n",
       "st2010-3502 05/04/2015 12:00 0.241255 37.472431     169     0.0     1674\n",
       "st2010-3502 05/04/2015 13:00 0.241345 37.472357     249     0.0     1672\n",
       "st2010-3502 05/04/2015 14:00 0.241373 37.472306      92     0.0     1668\n",
       "st2010-3502 05/04/2015 15:00 0.241339 37.472282      65     0.0     1680"
      ]
     },
     "execution_count": 53,
     "metadata": {},
     "output_type": "execute_result"
    }
   ],
   "source": [
    "animal"
   ]
  },
  {
   "cell_type": "code",
   "execution_count": 55,
   "metadata": {
    "collapsed": false
   },
   "outputs": [
    {
     "data": {
      "text/html": [
       "&lt;Table masked=False length=2242&gt;\n",
       "<table id=\"table190262688\">\n",
       "<thead><tr><th>collarid</th><th>DATETIME</th><th>LATITUDE</th><th>LONGITUDE</th><th>HEADING</th><th>SPEED</th><th>ALTITUDE</th></tr></thead>\n",
       "<thead><tr><th>string88</th><th>string128</th><th>float64</th><th>float64</th><th>int32</th><th>float64</th><th>int32</th></tr></thead>\n",
       "<tr><td>st2010-3502</td><td>01/01/2015 00:00</td><td>0.242147</td><td>37.391762</td><td>0</td><td>0.0</td><td>1730</td></tr>\n",
       "<tr><td>st2010-3502</td><td>01/01/2015 01:00</td><td>0.226135</td><td>37.399556</td><td>0</td><td>0.0</td><td>1730</td></tr>\n",
       "<tr><td>st2010-3502</td><td>01/01/2015 02:00</td><td>0.226114</td><td>37.399466</td><td>137</td><td>0.0</td><td>1724</td></tr>\n",
       "<tr><td>st2010-3502</td><td>01/01/2015 03:00</td><td>0.232846</td><td>37.406688</td><td>0</td><td>0.0</td><td>1716</td></tr>\n",
       "<tr><td>st2010-3502</td><td>01/01/2015 04:00</td><td>0.233425</td><td>37.406788</td><td>27</td><td>0.0</td><td>1711</td></tr>\n",
       "<tr><td>st2010-3502</td><td>01/01/2015 05:00</td><td>0.233468</td><td>37.406757</td><td>0</td><td>0.0</td><td>1709</td></tr>\n",
       "<tr><td>st2010-3502</td><td>01/01/2015 06:00</td><td>0.233441</td><td>37.406736</td><td>50</td><td>0.0</td><td>1709</td></tr>\n",
       "<tr><td>st2010-3502</td><td>01/01/2015 07:00</td><td>0.233762</td><td>37.406741</td><td>5</td><td>3.4</td><td>1707</td></tr>\n",
       "<tr><td>st2010-3502</td><td>01/01/2015 08:00</td><td>0.234677</td><td>37.408781</td><td>217</td><td>0.0</td><td>1705</td></tr>\n",
       "<tr><td>st2010-3502</td><td>01/01/2015 09:00</td><td>0.2349</td><td>37.409152</td><td>0</td><td>0.0</td><td>1714</td></tr>\n",
       "<tr><td>...</td><td>...</td><td>...</td><td>...</td><td>...</td><td>...</td><td>...</td></tr>\n",
       "<tr><td>st2010-3502</td><td>05/04/2015 00:00</td><td>0.228745</td><td>37.431195</td><td>88</td><td>0.0</td><td>1693</td></tr>\n",
       "<tr><td>st2010-3502</td><td>05/04/2015 01:00</td><td>0.224031</td><td>37.437575</td><td>118</td><td>0.0</td><td>1693</td></tr>\n",
       "<tr><td>st2010-3502</td><td>05/04/2015 02:00</td><td>0.233496</td><td>37.440473</td><td>166</td><td>0.0</td><td>1693</td></tr>\n",
       "<tr><td>st2010-3502</td><td>05/04/2015 03:00</td><td>0.242358</td><td>37.466329</td><td>133</td><td>0.0</td><td>1700</td></tr>\n",
       "<tr><td>st2010-3502</td><td>05/04/2015 10:00</td><td>0.241404</td><td>37.47209</td><td>318</td><td>0.0</td><td>1661</td></tr>\n",
       "<tr><td>st2010-3502</td><td>05/04/2015 11:00</td><td>0.241371</td><td>37.472378</td><td>139</td><td>0.0</td><td>1679</td></tr>\n",
       "<tr><td>st2010-3502</td><td>05/04/2015 12:00</td><td>0.241255</td><td>37.472431</td><td>169</td><td>0.0</td><td>1674</td></tr>\n",
       "<tr><td>st2010-3502</td><td>05/04/2015 13:00</td><td>0.241345</td><td>37.472357</td><td>249</td><td>0.0</td><td>1672</td></tr>\n",
       "<tr><td>st2010-3502</td><td>05/04/2015 14:00</td><td>0.241373</td><td>37.472306</td><td>92</td><td>0.0</td><td>1668</td></tr>\n",
       "<tr><td>st2010-3502</td><td>05/04/2015 15:00</td><td>0.241339</td><td>37.472282</td><td>65</td><td>0.0</td><td>1680</td></tr>\n",
       "</table>"
      ],
      "text/plain": [
       "<Table masked=False length=2242>\n",
       "  collarid      DATETIME     LATITUDE LONGITUDE HEADING  SPEED  ALTITUDE\n",
       "  string88     string128     float64   float64   int32  float64  int32  \n",
       "----------- ---------------- -------- --------- ------- ------- --------\n",
       "st2010-3502 01/01/2015 00:00 0.242147 37.391762       0     0.0     1730\n",
       "st2010-3502 01/01/2015 01:00 0.226135 37.399556       0     0.0     1730\n",
       "st2010-3502 01/01/2015 02:00 0.226114 37.399466     137     0.0     1724\n",
       "st2010-3502 01/01/2015 03:00 0.232846 37.406688       0     0.0     1716\n",
       "st2010-3502 01/01/2015 04:00 0.233425 37.406788      27     0.0     1711\n",
       "st2010-3502 01/01/2015 05:00 0.233468 37.406757       0     0.0     1709\n",
       "st2010-3502 01/01/2015 06:00 0.233441 37.406736      50     0.0     1709\n",
       "st2010-3502 01/01/2015 07:00 0.233762 37.406741       5     3.4     1707\n",
       "st2010-3502 01/01/2015 08:00 0.234677 37.408781     217     0.0     1705\n",
       "st2010-3502 01/01/2015 09:00   0.2349 37.409152       0     0.0     1714\n",
       "        ...              ...      ...       ...     ...     ...      ...\n",
       "st2010-3502 05/04/2015 00:00 0.228745 37.431195      88     0.0     1693\n",
       "st2010-3502 05/04/2015 01:00 0.224031 37.437575     118     0.0     1693\n",
       "st2010-3502 05/04/2015 02:00 0.233496 37.440473     166     0.0     1693\n",
       "st2010-3502 05/04/2015 03:00 0.242358 37.466329     133     0.0     1700\n",
       "st2010-3502 05/04/2015 10:00 0.241404  37.47209     318     0.0     1661\n",
       "st2010-3502 05/04/2015 11:00 0.241371 37.472378     139     0.0     1679\n",
       "st2010-3502 05/04/2015 12:00 0.241255 37.472431     169     0.0     1674\n",
       "st2010-3502 05/04/2015 13:00 0.241345 37.472357     249     0.0     1672\n",
       "st2010-3502 05/04/2015 14:00 0.241373 37.472306      92     0.0     1668\n",
       "st2010-3502 05/04/2015 15:00 0.241339 37.472282      65     0.0     1680"
      ]
     },
     "execution_count": 55,
     "metadata": {},
     "output_type": "execute_result"
    }
   ],
   "source": [
    "count = 0\n",
    "for row in animal:\n",
    "    if (row[2] !='--'):\n",
    "        if (count==0):\n",
    "            animal_filtered=Table(row)\n",
    "        else:\n",
    "            animal_filtered.add_row(row)\n",
    "        count=count+1\n",
    "animal_filtered"
   ]
  },
  {
   "cell_type": "code",
   "execution_count": 56,
   "metadata": {
    "collapsed": true
   },
   "outputs": [],
   "source": [
    "from pywwt.mods import *"
   ]
  },
  {
   "cell_type": "code",
   "execution_count": 57,
   "metadata": {
    "collapsed": false
   },
   "outputs": [
    {
     "name": "stdout",
     "output_type": "stream",
     "text": [
      "Connecting to WWT on host 127.0.0.1.\n"
     ]
    }
   ],
   "source": [
    "#Connect to WWT\n",
    "wwt = WWTClient(host=\"127.0.0.1\") #Can pass a IP address here if WWT is running on a remote machine\n"
   ]
  },
  {
   "cell_type": "code",
   "execution_count": 26,
   "metadata": {
    "collapsed": true
   },
   "outputs": [],
   "source": [
    "wwt.new_layer_group(\"Earth\",\"Savannah\")"
   ]
  },
  {
   "cell_type": "code",
   "execution_count": 58,
   "metadata": {
    "collapsed": false
   },
   "outputs": [],
   "source": [
    "#Set up WWT layer\n",
    "savannah_layer = wwt.new_layer(\"Earth\", \"Lion Scar\", animal_filtered.colnames)\n",
    "#Set visualization parameters in WWT\n",
    "props_dict = {\"CoordinatesType\":\"Spherical\",\\\n",
    "              \"MarkerScale\":\"Screen\",\\\n",
    "              \"PointScaleType\":\"Constant\",\\\n",
    "              \"ScaleFactor\":\"8\",\\\n",
    "              \"ShowFarSide\":\"True\",\\\n",
    "              \"RaUnits\":\"Degrees\",\\\n",
    "              \"PlotType\":\"Circle\",\\\n",
    "              \"ColorValue\":\"ARGBColor:255:255:255:255\",\\\n",
    "              \"TimeSeries\":\"False\"}\n",
    "savannah_layer.set_properties(props_dict)\n",
    "#Send data to WWT client\n",
    "savannah_layer.update(data=animal_filtered, purge_all=True, no_purge=False, show=True)"
   ]
  },
  {
   "cell_type": "code",
   "execution_count": 59,
   "metadata": {
    "collapsed": true
   },
   "outputs": [],
   "source": [
    "%config InlineBackend.rc = {}\n",
    "import matplotlib\n",
    "import matplotlib.pyplot as plt\n",
    "%matplotlib inline\n",
    "import seaborn"
   ]
  },
  {
   "cell_type": "markdown",
   "metadata": {},
   "source": [
    "## Lions are Lazy, zebras too, elephants not so much"
   ]
  },
  {
   "cell_type": "code",
   "execution_count": 85,
   "metadata": {
    "collapsed": false,
    "scrolled": true
   },
   "outputs": [
    {
     "data": {
      "text/plain": [
       "<matplotlib.text.Text at 0x234ccf60>"
      ]
     },
     "execution_count": 85,
     "metadata": {},
     "output_type": "execute_result"
    },
    {
     "data": {
      "image/png": "[encoded data removed]",
      "text/plain": [
       "<matplotlib.figure.Figure at 0x23d58208>"
      ]
     },
     "metadata": {},
     "output_type": "display_data"
    }
   ],
   "source": [
    "fig = plt.figure (figsize=(8,8))\n",
    "p1 = fig.add_subplot(311)\n",
    "p1.hist(animal_filtered['SPEED'],bins=100,range=[0, 15])\n",
    "p2 = fig.add_subplot(312)\n",
    "p2.hist(elephant['SPEED'],bins=100,range=[0, 15])\n",
    "p3 = fig.add_subplot(313)\n",
    "p3.hist(zebra['SPEED'],bins=100,range=[0, 15])\n",
    "p1.set_ylabel(\"Lion\")\n",
    "p2.set_ylabel(\"Elephant\")\n",
    "p3.set_ylabel(\"Zebra\")\n",
    "plt.xlabel(\"SPEED (km/hr)\")"
   ]
  },
  {
   "cell_type": "code",
   "execution_count": null,
   "metadata": {
    "collapsed": true
   },
   "outputs": [],
   "source": []
  }
 ],
 "metadata": {
  "kernelspec": {
   "display_name": "Python 2",
   "language": "python",
   "name": "python2"
  },
  "language_info": {
   "codemirror_mode": {
    "name": "ipython",
    "version": 2
   },
   "file_extension": ".py",
   "mimetype": "text/x-python",
   "name": "python",
   "nbconvert_exporter": "python",
   "pygments_lexer": "ipython2",
   "version": "2.7.6"
  }
 },
 "nbformat": 4,
 "nbformat_minor": 0
}
