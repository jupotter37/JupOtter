{
 "cells": [
  {
   "cell_type": "code",
   "execution_count": 1,
   "metadata": {
    "collapsed": false
   },
   "outputs": [
    {
     "name": "stderr",
     "output_type": "stream",
     "text": [
      ":0: FutureWarning: IPython widgets are experimental and may change in the future.\n"
     ]
    }
   ],
   "source": [
    "%matplotlib inline\n",
    "import matplotlib.pyplot as plt\n",
    "from matplotlib.pylab import *\n",
    "from IPython.html.widgets import interact\n",
    "from scipy.interpolate import griddata\n",
    "import numpy as np"
   ]
  },
  {
   "cell_type": "code",
   "execution_count": 2,
   "metadata": {
    "collapsed": false
   },
   "outputs": [
    {
     "name": "stdout",
     "output_type": "stream",
     "text": [
      "(1797, 64)\n"
     ]
    }
   ],
   "source": [
    "from sklearn.datasets import load_digits\n",
    "digits = load_digits()\n",
    "print(digits.data.shape)"
   ]
  },
  {
   "cell_type": "code",
   "execution_count": 3,
   "metadata": {
    "collapsed": false
   },
   "outputs": [],
   "source": [
    "\"\"\"Initialize\n",
    "Creates the random weights that connect the input to the output\"\"\"\n",
    "#ni = number of inputs\n",
    "#nh = hidden nodes\n",
    "#no = output nodes\n",
    "\n",
    "ni = 144\n",
    "nh = 144\n",
    "no = 10\n",
    "\n",
    "w = [np.random.rand(ni,nh),np.random.rand(nh,no)]\n",
    "bias = [np.zeros(nh),np.zeros(no)]\n",
    "\n",
    "f = open('x_files', 'r')\n",
    "r = np.load(f)\n",
    "f.close()\n",
    "\n",
    "f = open('y_files', 'r')\n",
    "s = np.load(f)\n",
    "f.close()"
   ]
  },
  {
   "cell_type": "code",
   "execution_count": 4,
   "metadata": {
    "collapsed": true
   },
   "outputs": [],
   "source": [
    "def feed_forward(n,w):\n",
    "    out = [0,0]\n",
    "    out[0] = np.dot(n,w[0])\n",
    "    out[1] = np.dot(out[0],w[1])\n",
    "    return out"
   ]
  },
  {
   "cell_type": "code",
   "execution_count": 5,
   "metadata": {
    "collapsed": true
   },
   "outputs": [],
   "source": [
    "def activation(z):\n",
    "    num = np.argmax(z)\n",
    "    return [z,num]"
   ]
  },
  {
   "cell_type": "code",
   "execution_count": 6,
   "metadata": {
    "collapsed": false
   },
   "outputs": [],
   "source": [
    "def update_batch(n,w,bias,batch,c,r,s):\n",
    "    \n",
    "    c = c + 1\n",
    "    error = 0\n",
    "    \n",
    "    x = np.matrix(r[n])\n",
    "    x = x/(np.matrix.sum(x)*5)\n",
    "    x = np.reshape(x,(1,144))\n",
    "    \n",
    "    p = int(s[n])\n",
    "    \n",
    "    ideal = np.zeros((1,10))\n",
    "    ideal[0,p] = 1 \n",
    "    \n",
    "    out = feed_forward(x,w)\n",
    "    err1 = (ideal - out[1])\n",
    "    modw1 = np.dot(np.reshape(out[0],(nh,1)),np.reshape(err1,(1,no)))\n",
    "    err0 = np.dot(err1,np.transpose(w[1]))\n",
    "    modw0 = np.dot(np.reshape(np.transpose(x),(ni,1)),np.reshape(err0,(1,nh)))\n",
    "    \n",
    "    if batch == 0:\n",
    "        batch = [err0,modw0,err1,modw1]\n",
    "    else:\n",
    "        batch = batch + [err0,modw0,err1,modw1]\n",
    "    #batch = batch + [err0,modw0,err1,modw1]\n",
    "    \n",
    "    if c > 10:\n",
    "        back = backprop(w,bias,batch)\n",
    "        w = back[0]\n",
    "        bias = back[1]\n",
    "        batch = 0\n",
    "        c = 0\n",
    "        \n",
    "    if p != np.argmax(out[1]):\n",
    "        error =  1\n",
    "    \n",
    "    return [w,bias,error,batch,c]"
   ]
  },
  {
   "cell_type": "code",
   "execution_count": 7,
   "metadata": {
    "collapsed": false
   },
   "outputs": [],
   "source": [
    "def backprop(w,bias,batch):\n",
    "    LC = .01\n",
    "    err0 = batch[0]\n",
    "    modw0 = batch[1]\n",
    "    err1 = batch[2]\n",
    "    modw1 = batch[3]\n",
    "    w[1] = w[1] + LC*modw1\n",
    "    w[0] = w[0] + LC*modw0\n",
    "    #bias[0] = bias[0] + LC*err0\n",
    "    #bias[1] = bias[1] + LC*err1\n",
    "    return [w,bias]"
   ]
  },
  {
   "cell_type": "code",
   "execution_count": 8,
   "metadata": {
    "collapsed": true
   },
   "outputs": [],
   "source": [
    "x = np.random.permutation(1700)\n",
    "x1 = x[0:1000]\n",
    "x2 = x[1000:1700]"
   ]
  },
  {
   "cell_type": "code",
   "execution_count": 11,
   "metadata": {
    "collapsed": false
   },
   "outputs": [
    {
     "name": "stdout",
     "output_type": "stream",
     "text": [
      "228\n"
     ]
    }
   ],
   "source": [
    "h = 0\n",
    "error = 0\n",
    "c = 0\n",
    "batch = 0\n",
    "while h < 10:\n",
    "    error = 0\n",
    "    for n in x1:\n",
    "        bat = update_batch(n,w,bias,batch,c,r,s)\n",
    "        w = bat[0]\n",
    "        bias = bat[1]\n",
    "        error = error + bat[2]\n",
    "        batch = bat[3]\n",
    "        c = bat[4]\n",
    "    h = h + 1\n",
    "print (error)"
   ]
  },
  {
   "cell_type": "code",
   "execution_count": 12,
   "metadata": {
    "collapsed": false
   },
   "outputs": [
    {
     "name": "stdout",
     "output_type": "stream",
     "text": [
      "174\n"
     ]
    }
   ],
   "source": [
    "error = 0\n",
    "for n in x2:\n",
    "\n",
    "    bat = update_batch(n,w,bias,batch,c,r,s)\n",
    "    bias = bat[1]\n",
    "    error = error + bat[2]\n",
    "    batch = bat[3]\n",
    "    c = bat[4]\n",
    "    n = n + 1\n",
    "print (error)"
   ]
  },
  {
   "cell_type": "code",
   "execution_count": 89,
   "metadata": {
    "collapsed": false
   },
   "outputs": [],
   "source": [
    "def guess(n,w,r,s):\n",
    "    x = np.matrix(r[n])\n",
    "    x = np.reshape(x,(1,144))\n",
    "    x = x/(np.sum(x)*5)\n",
    "    print(\"Guess: \",np.argmax(feed_forward(x,w)[1]), \"Actual: \", int(s[n]))"
   ]
  },
  {
   "cell_type": "code",
   "execution_count": 97,
   "metadata": {
    "collapsed": true
   },
   "outputs": [],
   "source": [
    "b = 2000"
   ]
  },
  {
   "cell_type": "code",
   "execution_count": 178,
   "metadata": {
    "collapsed": false
   },
   "outputs": [
    {
     "name": "stdout",
     "output_type": "stream",
     "text": [
      "('Guess: ', 3, 'Actual: ', 5)\n"
     ]
    }
   ],
   "source": [
    "guess(b,w,r,s)\n",
    "b = b + 1"
   ]
  },
  {
   "cell_type": "code",
   "execution_count": null,
   "metadata": {
    "collapsed": true
   },
   "outputs": [],
   "source": []
  }
 ],
 "metadata": {
  "kernelspec": {
   "display_name": "Python 2",
   "language": "python",
   "name": "python2"
  },
  "language_info": {
   "codemirror_mode": {
    "name": "ipython",
    "version": 2
   },
   "file_extension": ".py",
   "mimetype": "text/x-python",
   "name": "python",
   "nbconvert_exporter": "python",
   "pygments_lexer": "ipython2",
   "version": "2.7.6"
  }
 },
 "nbformat": 4,
 "nbformat_minor": 0
}
