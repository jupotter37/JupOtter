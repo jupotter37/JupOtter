{
 "cells": [
  {
   "cell_type": "code",
   "execution_count": 11,
   "metadata": {
    "collapsed": true
   },
   "outputs": [],
   "source": [
    "def findMaximum(a, k, n):\n",
    "    maximum = [0 for i in range(k+1)]\n",
    "    for i in range(1, k+1):\n",
    "        for j in range(n):\n",
    "            if a[j] <= i and maximum[i-a[j]] + a[j] > maximum[i]:\n",
    "                maximum[i] = maximum[i-a[j]] + a[j]\n",
    "    return maximum[k]"
   ]
  },
  {
   "cell_type": "code",
   "execution_count": 12,
   "metadata": {
    "collapsed": false
   },
   "outputs": [
    {
     "name": "stdout",
     "output_type": "stream",
     "text": [
      "[3, 10, 4] 13 13 13 True\n"
     ]
    }
   ],
   "source": [
    "numberOfTestCases = 7\n",
    "testCases = {1:[[3,9],[3,2,4]],2:[[3, 12],[3, 10, 4]],3:[[3,13],[3,10,4]],4:[[3,16],[3,10,4]],5:[[3,2000],[2000,2000,2000]],6:[[3,9],[9,9,9]],7:[[3,8],[9,9,9]]}\n",
    "expected = {1:9,2:12,3:13,4:16,5:2000,6:9,7:0}\n",
    "\n",
    "#for i in range(1, numberOfTestCases+1):\n",
    "z = 3\n",
    "for i in range(z, z+1):\n",
    "    testCase = testCases[i]\n",
    "    k = testCase[0][1]\n",
    "    a = testCase[1]\n",
    "    expectedResult = expected[i]\n",
    "    #print(\"k=\", k, \" expected=\", expectedResult, \" a=\", a, sep=\"\")\n",
    "    result = findMaximum(a, k, len(a))\n",
    "    print(a, k, expectedResult, result, expectedResult == result)"
   ]
  },
  {
   "cell_type": "code",
   "execution_count": null,
   "metadata": {
    "collapsed": true
   },
   "outputs": [],
   "source": []
  }
 ],
 "metadata": {
  "kernelspec": {
   "display_name": "Python 3",
   "language": "python",
   "name": "python3"
  },
  "language_info": {
   "codemirror_mode": {
    "name": "ipython",
    "version": 3
   },
   "file_extension": ".py",
   "mimetype": "text/x-python",
   "name": "python",
   "nbconvert_exporter": "python",
   "pygments_lexer": "ipython3",
   "version": "3.6.1"
  }
 },
 "nbformat": 4,
 "nbformat_minor": 2
}
