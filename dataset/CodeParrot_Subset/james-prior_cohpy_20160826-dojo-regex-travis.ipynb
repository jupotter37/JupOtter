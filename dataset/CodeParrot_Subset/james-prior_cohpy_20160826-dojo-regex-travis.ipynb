{
 "cells": [
  {
   "cell_type": "code",
   "execution_count": 1,
   "metadata": {
    "collapsed": true
   },
   "outputs": [],
   "source": [
    "from __future__ import print_function\n",
    "import re"
   ]
  },
  {
   "cell_type": "markdown",
   "metadata": {},
   "source": [
    "Let's start with the original regular expression and\n",
    "string to search from Travis'\n",
    "[regex problem](https://github.com/deeppunster/regex_problem/blob/master/regex%20problem)."
   ]
  },
  {
   "cell_type": "code",
   "execution_count": 2,
   "metadata": {
    "collapsed": true
   },
   "outputs": [],
   "source": [
    "pattern = re.compile(r\"\"\"\n",
    "        (?P<any>any4?)                                       # \"any\"\n",
    "                                                             #   association\n",
    "        |                                                    # or\n",
    "        (?P<object_eq>object ([\\w-]+) eq (\\d+))             # object\n",
    "        alone\n",
    "                                                             #   association\n",
    "        |                                                    # or\n",
    "        (?P<object_range>object ([a-z0-9A-Z-]+) range (\\d+) (\\d+)) # object range\n",
    "                                                             #   association\n",
    "        |                                                    # or\n",
    "        (?P<object_group>object-group ([a-z0-9A-Z-]+))             # object group\n",
    "                                                             #   association\n",
    "        |                                                    # or\n",
    "        (?P<object_alone>object ([[a-z0-9A-Z-]+))                   # object alone\n",
    "                                                             #   association\n",
    "\"\"\", re.VERBOSE)\n",
    "\n",
    "s = '''    object-group jfi-ip-ranges object DA-TD-WEB01 eq 8850\n",
    "'''"
   ]
  },
  {
   "cell_type": "markdown",
   "metadata": {},
   "source": [
    "The regex had two bugs.\n",
    "- Two [[ near the end of the pattern string.\n",
    "- The significant spaces in the pattern (such as after object-group) were being ignored because of re.VERBOSE.\n",
    "\n",
    "So those bugs are fixed in the pattern below."
   ]
  },
  {
   "cell_type": "code",
   "execution_count": 3,
   "metadata": {
    "collapsed": true
   },
   "outputs": [],
   "source": [
    "pattern = re.compile(r\"\"\"\n",
    "        (?P<any>any4?)                                       # \"any\"\n",
    "                                                             #   association\n",
    "        |                                                    # or\n",
    "        (?P<object_eq>object\\ ([\\w-]+)\\ eq\\ (\\d+))             # object\n",
    "        alone\n",
    "                                                             #   association\n",
    "        |                                                    # or\n",
    "        (?P<object_range>object\\ ([a-z0-9A-Z-]+)\\ range\\ (\\d+)\\ (\\d+)) # object range\n",
    "                                                             #   association\n",
    "        |                                                    # or\n",
    "        (?P<object_group>object-group\\ ([a-z0-9A-Z-]+))             # object group\n",
    "                                                             #   association\n",
    "        |                                                    # or\n",
    "        (?P<object_alone>object\\ ([a-z0-9A-Z-]+))                   # object alone\n",
    "                                                             #   association\n",
    "\"\"\", re.VERBOSE)"
   ]
  },
  {
   "cell_type": "code",
   "execution_count": 4,
   "metadata": {
    "collapsed": false
   },
   "outputs": [
    {
     "data": {
      "text/plain": [
       "[('',\n",
       "  '',\n",
       "  '',\n",
       "  '',\n",
       "  '',\n",
       "  '',\n",
       "  '',\n",
       "  '',\n",
       "  'object-group jfi-ip-ranges',\n",
       "  'jfi-ip-ranges',\n",
       "  '',\n",
       "  ''),\n",
       " ('', '', '', '', '', '', '', '', '', '', 'object DA-TD-WEB01', 'DA-TD-WEB01')]"
      ]
     },
     "execution_count": 4,
     "metadata": {},
     "output_type": "execute_result"
    }
   ],
   "source": [
    "re.findall(pattern, s)"
   ]
  },
  {
   "cell_type": "code",
   "execution_count": 5,
   "metadata": {
    "collapsed": false
   },
   "outputs": [
    {
     "name": "stdout",
     "output_type": "stream",
     "text": [
      "<_sre.SRE_Match object; span=(4, 30), match='object-group jfi-ip-ranges'>\n",
      "groups (None, None, None, None, None, None, None, None, 'object-group jfi-ip-ranges', 'jfi-ip-ranges', None, None)\n",
      "groupdict {'object_group': 'object-group jfi-ip-ranges', 'object_eq': None, 'any': None, 'object_alone': None, 'object_range': None}\n",
      "<_sre.SRE_Match object; span=(31, 49), match='object DA-TD-WEB01'>\n",
      "groups (None, None, None, None, None, None, None, None, None, None, 'object DA-TD-WEB01', 'DA-TD-WEB01')\n",
      "groupdict {'object_group': None, 'object_eq': None, 'any': None, 'object_alone': 'object DA-TD-WEB01', 'object_range': None}\n"
     ]
    }
   ],
   "source": [
    "for m in re.finditer(pattern, s):\n",
    "    print(repr(m))\n",
    "    print('groups', m.groups())\n",
    "    print('groupdict', m.groupdict())"
   ]
  },
  {
   "cell_type": "markdown",
   "metadata": {},
   "source": [
    "The above works, but keeping track of the indexes of the unnamed groups drives me crazy. So I add names for all groups."
   ]
  },
  {
   "cell_type": "code",
   "execution_count": 6,
   "metadata": {
    "collapsed": true
   },
   "outputs": [],
   "source": [
    "pattern = re.compile(r\"\"\"\n",
    "        (?P<any>any4?)                                       # \"any\"\n",
    "                                                             #   association\n",
    "        |                                                    # or\n",
    "        (?P<object_eq>object\\ (?P<oe_name>[\\w-]+)\\ eq\\ (?P<oe_i>\\d+))             # object\n",
    "        alone\n",
    "                                                             #   association\n",
    "        |                                                    # or\n",
    "        (?P<object_range>object\\ (?P<or_name>[a-z0-9A-Z-]+)\n",
    "        \\ range\\ (?P<oe_r_start>\\d+)\\ (?P<oe_r_end>\\d+)) # object range\n",
    "                                                             #   association\n",
    "        |                                                    # or\n",
    "        (?P<object_group>object-group\\ (?P<og_name>[a-z0-9A-Z-]+))             # object group\n",
    "                                                             #   association\n",
    "        |                                                    # or\n",
    "        (?P<object_alone>object\\ (?P<oa_name>[a-z0-9A-Z-]+))                   # object alone\n",
    "                                                             #   association\n",
    "\"\"\", re.VERBOSE)"
   ]
  },
  {
   "cell_type": "code",
   "execution_count": 7,
   "metadata": {
    "collapsed": false
   },
   "outputs": [
    {
     "name": "stdout",
     "output_type": "stream",
     "text": [
      "<_sre.SRE_Match object; span=(4, 30), match='object-group jfi-ip-ranges'>\n",
      "groups (None, None, None, None, None, None, None, None, 'object-group jfi-ip-ranges', 'jfi-ip-ranges', None, None)\n",
      "groupdict {'og_name': 'jfi-ip-ranges', 'object_range': None, 'object_group': 'object-group jfi-ip-ranges', 'oe_r_start': None, 'oe_i': None, 'oa_name': None, 'or_name': None, 'oe_name': None, 'oe_r_end': None, 'any': None, 'object_alone': None, 'object_eq': None}\n",
      "<_sre.SRE_Match object; span=(31, 49), match='object DA-TD-WEB01'>\n",
      "groups (None, None, None, None, None, None, None, None, None, None, 'object DA-TD-WEB01', 'DA-TD-WEB01')\n",
      "groupdict {'og_name': None, 'object_range': None, 'object_group': None, 'oe_r_start': None, 'oe_i': None, 'oa_name': 'DA-TD-WEB01', 'or_name': None, 'oe_name': None, 'oe_r_end': None, 'any': None, 'object_alone': 'object DA-TD-WEB01', 'object_eq': None}\n"
     ]
    }
   ],
   "source": [
    "for m in re.finditer(pattern, s):\n",
    "    print(repr(m))\n",
    "    print('groups', m.groups())\n",
    "    print('groupdict', m.groupdict())"
   ]
  },
  {
   "cell_type": "markdown",
   "metadata": {},
   "source": [
    "The following shows me just the groups that matched."
   ]
  },
  {
   "cell_type": "code",
   "execution_count": 8,
   "metadata": {
    "collapsed": false
   },
   "outputs": [
    {
     "name": "stdout",
     "output_type": "stream",
     "text": [
      "og_name 'jfi-ip-ranges'\n",
      "object_group 'object-group jfi-ip-ranges'\n",
      "\n",
      "oa_name 'DA-TD-WEB01'\n",
      "object_alone 'object DA-TD-WEB01'\n",
      "\n"
     ]
    }
   ],
   "source": [
    "for m in re.finditer(pattern, s):\n",
    "    for key, value in m.groupdict().items():\n",
    "        if value is not None:\n",
    "            print(key, repr(value))\n",
    "    print()"
   ]
  },
  {
   "cell_type": "markdown",
   "metadata": {},
   "source": [
    "Looking at the above,\n",
    "I see that I probably don't care about the big groups,\n",
    "just the parameters,\n",
    "so I remove the big groups (except for \"any\")\n",
    "from the regular expression."
   ]
  },
  {
   "cell_type": "code",
   "execution_count": 9,
   "metadata": {
    "collapsed": true
   },
   "outputs": [],
   "source": [
    "pattern = re.compile(r\"\"\"\n",
    "        (?P<any>any4?)                                       # \"any\"\n",
    "                                                             #   association\n",
    "        |                                                    # or\n",
    "        (object\\ (?P<oe_name>[\\w-]+)\\ eq\\ (?P<oe_i>\\d+))             # object\n",
    "        alone\n",
    "                                                             #   association\n",
    "        |                                                    # or\n",
    "        (object\\ (?P<or_name>[a-z0-9A-Z-]+)\n",
    "        \\ range\\ (?P<oe_r_start>\\d+)\\ (?P<oe_r_end>\\d+)) # object range\n",
    "                                                             #   association\n",
    "        |                                                    # or\n",
    "        (object-group\\ (?P<og_name>[a-z0-9A-Z-]+))             # object group\n",
    "                                                             #   association\n",
    "        |                                                    # or\n",
    "        (object\\ (?P<oa_name>[a-z0-9A-Z-]+))                   # object alone\n",
    "                                                             #   association\n",
    "\"\"\", re.VERBOSE)"
   ]
  },
  {
   "cell_type": "markdown",
   "metadata": {},
   "source": [
    "Now it tells me just the meat of what I want to know."
   ]
  },
  {
   "cell_type": "code",
   "execution_count": 10,
   "metadata": {
    "collapsed": false
   },
   "outputs": [
    {
     "name": "stdout",
     "output_type": "stream",
     "text": [
      "og_name 'jfi-ip-ranges'\n",
      "\n",
      "oa_name 'DA-TD-WEB01'\n",
      "\n"
     ]
    }
   ],
   "source": [
    "for m in re.finditer(pattern, s):\n",
    "    for key, value in m.groupdict().items():\n",
    "        if value is not None:\n",
    "            print(key, repr(value))\n",
    "    print()"
   ]
  }
 ],
 "metadata": {
  "kernelspec": {
   "display_name": "Python 3",
   "language": "python",
   "name": "python3"
  },
  "language_info": {
   "codemirror_mode": {
    "name": "ipython",
    "version": 3
   },
   "file_extension": ".py",
   "mimetype": "text/x-python",
   "name": "python",
   "nbconvert_exporter": "python",
   "pygments_lexer": "ipython3",
   "version": "3.4.3"
  }
 },
 "nbformat": 4,
 "nbformat_minor": 0
}
