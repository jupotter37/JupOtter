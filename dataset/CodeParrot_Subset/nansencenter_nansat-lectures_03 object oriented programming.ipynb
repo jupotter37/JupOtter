{
 "cells": [
  {
   "cell_type": "markdown",
   "metadata": {},
   "source": [
    "# Intorduction to Object Oriented Programming in Python"
   ]
  },
  {
   "cell_type": "markdown",
   "metadata": {},
   "source": [
    "### Definition of the minimal class in two lines"
   ]
  },
  {
   "cell_type": "markdown",
   "metadata": {},
   "source": [
    "#### Define class"
   ]
  },
  {
   "cell_type": "code",
   "execution_count": null,
   "metadata": {
    "scrolled": true
   },
   "outputs": [],
   "source": [
    "class A():\n",
    "    pass"
   ]
  },
  {
   "cell_type": "markdown",
   "metadata": {},
   "source": [
    "#### Use class"
   ]
  },
  {
   "cell_type": "code",
   "execution_count": null,
   "metadata": {
    "scrolled": true
   },
   "outputs": [],
   "source": [
    "a = A()    # create an instance of class A\n",
    "print (a)\n",
    "print (type(a))"
   ]
  },
  {
   "cell_type": "markdown",
   "metadata": {},
   "source": [
    "********************"
   ]
  },
  {
   "cell_type": "markdown",
   "metadata": {},
   "source": [
    "###        Definition of a class with attributes (properties)"
   ]
  },
  {
   "cell_type": "code",
   "execution_count": null,
   "metadata": {
    "scrolled": true
   },
   "outputs": [],
   "source": [
    "class Human(object):\n",
    "    name = ''\n",
    "    age = 0"
   ]
  },
  {
   "cell_type": "code",
   "execution_count": null,
   "metadata": {
    "scrolled": true
   },
   "outputs": [],
   "source": [
    "human1 = Human()          # create instance of Human\n",
    "human1.name = 'Anton'     # name him    (add data to this object)\n",
    "human1.age = 39           # set the age (add data to this object)\n",
    "\n",
    "print (type(human1))\n",
    "print (human1.name)\n",
    "print (human1.age)"
   ]
  },
  {
   "cell_type": "markdown",
   "metadata": {},
   "source": [
    "*******************"
   ]
  },
  {
   "cell_type": "markdown",
   "metadata": {},
   "source": [
    "### Definition of a class with constructor"
   ]
  },
  {
   "cell_type": "code",
   "execution_count": null,
   "metadata": {
    "scrolled": true
   },
   "outputs": [],
   "source": [
    "class Human(object):\n",
    "    name = ''\n",
    "    age = 0\n",
    "    \n",
    "    def __init__(self, name):\n",
    "        self.name = name"
   ]
  },
  {
   "cell_type": "markdown",
   "metadata": {},
   "source": [
    "#### Create a Human instance and give him a name instantly"
   ]
  },
  {
   "cell_type": "code",
   "execution_count": null,
   "metadata": {
    "scrolled": true
   },
   "outputs": [],
   "source": [
    "h1 = Human('Anton')\n",
    "print (h1.name)\n",
    "print (h1.age)"
   ]
  },
  {
   "cell_type": "markdown",
   "metadata": {},
   "source": [
    "********************"
   ]
  },
  {
   "cell_type": "markdown",
   "metadata": {},
   "source": [
    "### Definition of a class with several methods"
   ]
  },
  {
   "cell_type": "code",
   "execution_count": null,
   "metadata": {
    "scrolled": true
   },
   "outputs": [],
   "source": [
    "class Human(object):\n",
    "    ''' Human being '''\n",
    "    name = ''\n",
    "    age = 0\n",
    "    \n",
    "    def __init__(self, name):\n",
    "        ''' Create a Human '''\n",
    "        self.name = name\n",
    "    \n",
    "    def grow(self):\n",
    "        ''' Grow a Human by one year (in-place) '''\n",
    "        self.age += 1"
   ]
  },
  {
   "cell_type": "markdown",
   "metadata": {},
   "source": [
    "#### Create a Human, give him a name, grow by one year (in-place)"
   ]
  },
  {
   "cell_type": "code",
   "execution_count": null,
   "metadata": {
    "scrolled": true
   },
   "outputs": [],
   "source": [
    "human1 = Human('Adam')\n",
    "human1.grow()\n",
    "\n",
    "print (human1.name)\n",
    "print (human1.age)"
   ]
  },
  {
   "cell_type": "markdown",
   "metadata": {},
   "source": [
    "****************"
   ]
  },
  {
   "cell_type": "markdown",
   "metadata": {},
   "source": [
    "### Add get_ methods to the class"
   ]
  },
  {
   "cell_type": "code",
   "execution_count": null,
   "metadata": {
    "scrolled": true
   },
   "outputs": [],
   "source": [
    "class Human(object):\n",
    "    ''' Human being '''\n",
    "    name = ''\n",
    "    age = 0\n",
    "    \n",
    "    def __init__(self, name):\n",
    "        ''' Create a Human '''\n",
    "        self.name = name\n",
    "    \n",
    "    def grow(self):\n",
    "        ''' Grow a Human by one year (in-place) '''\n",
    "        self.age += 1\n",
    "    \n",
    "    def get_name(self):\n",
    "        ''' Return name of a Human '''\n",
    "        return self.name\n",
    "\n",
    "    def get_age(self):\n",
    "        ''' Return name of a Human '''\n",
    "        return self.age"
   ]
  },
  {
   "cell_type": "code",
   "execution_count": null,
   "metadata": {
    "scrolled": true
   },
   "outputs": [],
   "source": [
    "h1 = Human('Eva')\n",
    "print (h1.get_name())"
   ]
  },
  {
   "cell_type": "markdown",
   "metadata": {},
   "source": [
    "*******************************"
   ]
  },
  {
   "cell_type": "markdown",
   "metadata": {},
   "source": [
    "### Create a class with Inheritance"
   ]
  },
  {
   "cell_type": "code",
   "execution_count": null,
   "metadata": {
    "scrolled": true
   },
   "outputs": [],
   "source": [
    "class Teacher(Human):\n",
    "    ''' Teacher of Python '''\n",
    "\n",
    "    def give_lecture(self):\n",
    "        ''' Print lecture on the screen ''' \n",
    "        \n",
    "        print ('bla bla bla')"
   ]
  },
  {
   "cell_type": "markdown",
   "metadata": {},
   "source": [
    "#### Create an Teacher with name, grow him sufficiently, use him."
   ]
  },
  {
   "cell_type": "code",
   "execution_count": null,
   "metadata": {
    "scrolled": true
   },
   "outputs": [],
   "source": [
    "t1 = Teacher('Anton')\n",
    "\n",
    "while t1.get_age() < 50:\n",
    "    t1.grow()\n",
    "\n",
    "print (t1.get_name())\n",
    "print (t1.get_age())\n",
    "t1.give_lecture()"
   ]
  },
  {
   "cell_type": "markdown",
   "metadata": {},
   "source": [
    "*******"
   ]
  },
  {
   "cell_type": "markdown",
   "metadata": {},
   "source": [
    "## Import class definition from a module "
   ]
  },
  {
   "cell_type": "markdown",
   "metadata": {},
   "source": [
    "Store class definition in a separate file. E.g.:\n",
    "\n",
    "https://github.com/nansencenter/nansat-lectures/blob/master/human_teacher.py"
   ]
  },
  {
   "cell_type": "code",
   "execution_count": 1,
   "metadata": {
    "scrolled": true
   },
   "outputs": [],
   "source": [
    "# add directory scripts to PYTHONPATH (searchable path)\n",
    "import sys\n",
    "sys.path.append('scripts')"
   ]
  },
  {
   "cell_type": "code",
   "execution_count": 2,
   "metadata": {
    "scrolled": true
   },
   "outputs": [
    {
     "name": "stdout",
     "output_type": "stream",
     "text": [
      "bla bla bla\n"
     ]
    }
   ],
   "source": [
    "from human_teacher import Teacher\n",
    "\n",
    "t1 = Teacher('Morten')\n",
    "t1.give_lecture()"
   ]
  },
  {
   "cell_type": "markdown",
   "metadata": {},
   "source": [
    "## Practical example"
   ]
  },
  {
   "cell_type": "code",
   "execution_count": 3,
   "metadata": {
    "scrolled": true
   },
   "outputs": [
    {
     "name": "stdout",
     "output_type": "stream",
     "text": [
      "(24.6049260667, 35.3978824361)\n",
      "(18.2284575833, 35.9177127349)\n",
      "40.0\n"
     ]
    }
   ],
   "source": [
    "## add scripts to the list of searchable directories\n",
    "import sys\n",
    "sys.path.append('scripts')\n",
    "\n",
    "# import class definiton our module\n",
    "from ts_profile import Profile\n",
    "\n",
    "# load data\n",
    "p = Profile('data/tsprofile.txt')\n",
    "\n",
    "# work with the object\n",
    "print (p.get_ts_at_level(5))\n",
    "print (p.get_ts_at_depth(200))\n",
    "print (p.get_mixed_layer_depth(.1))"
   ]
  },
  {
   "cell_type": "markdown",
   "metadata": {},
   "source": [
    "***************"
   ]
  },
  {
   "cell_type": "markdown",
   "metadata": {},
   "source": [
    "## How would it look without OOP?\n",
    "#### 1. A lot of functions to import"
   ]
  },
  {
   "cell_type": "code",
   "execution_count": null,
   "metadata": {
    "scrolled": true
   },
   "outputs": [],
   "source": [
    "from st_profile import load_profile, get_ts_at_level, get_ts_at_depth\n",
    "from st_profile import get_mixed_layer_depth, plot_ts"
   ]
  },
  {
   "cell_type": "markdown",
   "metadata": {},
   "source": [
    "#### 2. A lot of data to unpack and to pass between functions"
   ]
  },
  {
   "cell_type": "code",
   "execution_count": null,
   "metadata": {
    "scrolled": true
   },
   "outputs": [],
   "source": [
    "depth, temp, sal =  load_profile('tsprofile.txt')\n",
    "print (get_ts_at_level(depth, temp, sal))"
   ]
  },
  {
   "cell_type": "markdown",
   "metadata": {},
   "source": [
    "#### 3. And imagine now we open a satellite image which has:\n",
    "* many matrices with data\n",
    "* georeference information (e.g. lon, lat of corners)\n",
    "* description of data (metadata)\n",
    "* and so on...\n",
    "\n",
    "## And here comes OOP:"
   ]
  },
  {
   "cell_type": "code",
   "execution_count": null,
   "metadata": {
    "scrolled": true
   },
   "outputs": [],
   "source": [
    "from nansat import Nansat\n",
    "n = Nansat('satellite_filename.hdf')"
   ]
  },
  {
   "cell_type": "markdown",
   "metadata": {},
   "source": [
    "## Exercise\n",
    "### Create a class for managing data from T/S profile\n",
    "\n",
    "\n",
    "#### The class should: \n",
    "1. Load a D/T/S profile from tsprofile.txt\n",
    "1. Print D/T/S values of all measurements\n",
    "1. Print D/T/S values and depth of measurement a from given point\n",
    "1. Print T/S values for a given depth (linear interpolation)\n",
    "1. Find a mixed layer depth\n",
    "\n",
    "#### Input data\n",
    "'tsprofile.txt' contains three columns of synthetic values: depth (H), temperature (T), salinity (S)\n",
    "\n",
    "http://192.168.33.10:8888/edit/data/tsprofile.txt\n",
    "\n",
    "#### Example usage\n",
    "\n",
    "* profile = Profile(fileName)\n",
    "* allTemperatures = profile.get_all_temperature_values()\n",
    "* t1 = profile.get_temperature_at_point(pointNumber)\n",
    "* t2 = profile.get_temperature_at_depth(depth)\n",
    "* mld = profile.get_mixed_layer_depth(threshold)\n",
    "\n",
    "\n",
    "#### Hints\n",
    "* Add attributes `temperature`, `salinity`, `depth` of type `list`\n",
    "\n",
    "* Use `f = open(fileName)` and `lines = f.readlines()` to read data from file\n",
    "\n",
    "* If you have two measurements of e.g. temperature (t1 and t1) at two depths (d1 and d2) you can linearly interpolate between these values and calculate a temperature (t) at depth (d):\n",
    "\n",
    "`t = t1 + (d - d1) * (t2 - t1) / (d2 - d1)`\n",
    "\n",
    "* Mixed layer can be defined as a layer, where temperature variability do not exceed a predefined threshold (water is relatively homogenous). Therefore to find a mixed layer depth, we need to loop through values of T and identify when the difference beween the value of T at one depth and at the next depth is above a threshold. "
   ]
  },
  {
   "cell_type": "markdown",
   "metadata": {},
   "source": [
    "Get the nansat-lectures course material at Github: 'git clone https://github.com/nansencenter/nansat-lectures'\n",
    "To get stay updated: 'git pull'"
   ]
  },
  {
   "cell_type": "code",
   "execution_count": null,
   "metadata": {
    "scrolled": true
   },
   "outputs": [],
   "source": []
  }
 ],
 "metadata": {
  "kernelspec": {
   "display_name": "Python 3",
   "language": "python",
   "name": "python3"
  },
  "language_info": {
   "codemirror_mode": {
    "name": "ipython",
    "version": 3
   },
   "file_extension": ".py",
   "mimetype": "text/x-python",
   "name": "python",
   "nbconvert_exporter": "python",
   "pygments_lexer": "ipython3",
   "version": "3.7.3"
  },
  "widgets": {
   "state": {},
   "version": "1.1.2"
  }
 },
 "nbformat": 4,
 "nbformat_minor": 1
}
