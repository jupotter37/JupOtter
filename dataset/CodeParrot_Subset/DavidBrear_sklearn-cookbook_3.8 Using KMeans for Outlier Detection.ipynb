{
 "cells": [
  {
   "cell_type": "code",
   "execution_count": 1,
   "metadata": {
    "collapsed": true
   },
   "outputs": [],
   "source": [
    "%matplotlib inline"
   ]
  },
  {
   "cell_type": "code",
   "execution_count": 2,
   "metadata": {
    "collapsed": true
   },
   "outputs": [],
   "source": [
    "# Using KMeans to find outliers in a cluster of points.\n",
    "# Finding outliers means finding the centroids and then looking\n",
    "# for elements by their distance from the centroids"
   ]
  },
  {
   "cell_type": "code",
   "execution_count": 9,
   "metadata": {
    "collapsed": true
   },
   "outputs": [],
   "source": [
    "from sklearn.datasets import make_blobs\n",
    "import matplotlib.pyplot as plt\n",
    "X, label = make_blobs(100, centers = 1)"
   ]
  },
  {
   "cell_type": "code",
   "execution_count": 10,
   "metadata": {
    "collapsed": true
   },
   "outputs": [],
   "source": [
    "import numpy as np"
   ]
  },
  {
   "cell_type": "code",
   "execution_count": 11,
   "metadata": {
    "collapsed": true
   },
   "outputs": [],
   "source": [
    "# a cluster with one center is similar to an SVM with one class."
   ]
  },
  {
   "cell_type": "code",
   "execution_count": 12,
   "metadata": {
    "collapsed": true
   },
   "outputs": [],
   "source": [
    "from sklearn.cluster import KMeans"
   ]
  },
  {
   "cell_type": "code",
   "execution_count": 13,
   "metadata": {
    "collapsed": true
   },
   "outputs": [],
   "source": [
    "kmeans = KMeans(n_clusters=1)"
   ]
  },
  {
   "cell_type": "code",
   "execution_count": 14,
   "metadata": {
    "collapsed": false
   },
   "outputs": [
    {
     "data": {
      "text/plain": [
       "KMeans(copy_x=True, init='k-means++', max_iter=300, n_clusters=1, n_init=10,\n",
       "    n_jobs=1, precompute_distances='auto', random_state=None, tol=0.0001,\n",
       "    verbose=0)"
      ]
     },
     "execution_count": 14,
     "metadata": {},
     "output_type": "execute_result"
    }
   ],
   "source": [
    "kmeans.fit(X)"
   ]
  },
  {
   "cell_type": "code",
   "execution_count": 17,
   "metadata": {
    "collapsed": false
   },
   "outputs": [
    {
     "data": {
      "text/plain": [
       "<matplotlib.legend.Legend at 0x108b4cb10>"
      ]
     },
     "execution_count": 17,
     "metadata": {},
     "output_type": "execute_result"
    },
    {
     "data": {
      "image/png": "[encoded data removed]",
      "text/plain": [
       "<matplotlib.figure.Figure at 0x108ac0790>"
      ]
     },
     "metadata": {},
     "output_type": "display_data"
    }
   ],
   "source": [
    "# looking at the plot\n",
    "f, ax = plt.subplots(figsize=(7,5))\n",
    "ax.set_title('Blob')\n",
    "ax.scatter(X[:, 0], X[:, 1], label='Points')\n",
    "ax.scatter(kmeans.cluster_centers_[:, 0],\n",
    "           kmeans.cluster_centers_[:, 1], label='Centroid',\n",
    "           color='r')\n",
    "ax.legend(loc='best')"
   ]
  },
  {
   "cell_type": "code",
   "execution_count": 20,
   "metadata": {
    "collapsed": true
   },
   "outputs": [],
   "source": [
    "# identify the 5 closest points\n",
    "distances = kmeans.transform(X)"
   ]
  },
  {
   "cell_type": "code",
   "execution_count": 21,
   "metadata": {
    "collapsed": false
   },
   "outputs": [],
   "source": [
    "# argsort returns an array of indexes which will sort the array\n",
    "# in ascending order. Reverse it with [::-1]\n",
    "sorted_idx = np.argsort(distances.ravel())[::-1][:5]"
   ]
  },
  {
   "cell_type": "code",
   "execution_count": 22,
   "metadata": {
    "collapsed": false
   },
   "outputs": [
    {
     "data": {
      "text/plain": [
       "<matplotlib.legend.Legend at 0x108d3da10>"
      ]
     },
     "execution_count": 22,
     "metadata": {},
     "output_type": "execute_result"
    },
    {
     "data": {
      "image/png": "[encoded data removed]",
      "text/plain": [
       "<matplotlib.figure.Figure at 0x108d11790>"
      ]
     },
     "metadata": {},
     "output_type": "display_data"
    }
   ],
   "source": [
    "f, ax = plt.subplots(figsize=(7,5))\n",
    "ax.set_title('Single Cluster')\n",
    "ax.scatter(X[:, 0], X[:, 1], label='Points')\n",
    "ax.scatter(kmeans.cluster_centers_[:, 0],\n",
    "           kmeans.cluster_centers_[:, 1],\n",
    "           label='Centroid', color='r')\n",
    "ax.scatter(X[sorted_idx][:, 0],\n",
    "           X[sorted_idx][:, 1],\n",
    "           label='Extreme Value', edgecolors='g',\n",
    "           facecolors='none', s=100)\n",
    "ax.legend(loc='best')"
   ]
  },
  {
   "cell_type": "code",
   "execution_count": 23,
   "metadata": {
    "collapsed": true
   },
   "outputs": [],
   "source": [
    "# simulating removing these outliers\n",
    "new_X = np.delete(X, sorted_idx, axis=0)"
   ]
  },
  {
   "cell_type": "code",
   "execution_count": 24,
   "metadata": {
    "collapsed": false
   },
   "outputs": [
    {
     "data": {
      "text/plain": [
       "KMeans(copy_x=True, init='k-means++', max_iter=300, n_clusters=1, n_init=10,\n",
       "    n_jobs=1, precompute_distances='auto', random_state=None, tol=0.0001,\n",
       "    verbose=0)"
      ]
     },
     "execution_count": 24,
     "metadata": {},
     "output_type": "execute_result"
    }
   ],
   "source": [
    "# this causes the centroids to move slightly\n",
    "new_kmeans = KMeans(n_clusters=1)\n",
    "new_kmeans.fit(new_X)"
   ]
  },
  {
   "cell_type": "code",
   "execution_count": 26,
   "metadata": {
    "collapsed": false
   },
   "outputs": [
    {
     "data": {
      "text/plain": [
       "<matplotlib.legend.Legend at 0x108fce790>"
      ]
     },
     "execution_count": 26,
     "metadata": {},
     "output_type": "execute_result"
    },
    {
     "data": {
      "image/png": "[encoded data removed]",
      "text/plain": [
       "<matplotlib.figure.Figure at 0x108e42210>"
      ]
     },
     "metadata": {},
     "output_type": "display_data"
    }
   ],
   "source": [
    "f, ax = plt.subplots(figsize=(7,5))\n",
    "ax.set_title(\"Extreme Values Removed\")\n",
    "ax.scatter(new_X[:, 0], new_X[:, 1], label='Pruned Points')\n",
    "ax.scatter(kmeans.cluster_centers_[:, 0],\n",
    "           kmeans.cluster_centers_[:, 1],\n",
    "           label='Old Centroid',\n",
    "           color='r', s=80, alpha=.5)\n",
    "ax.scatter(new_kmeans.cluster_centers_[:, 0],\n",
    "           new_kmeans.cluster_centers_[:, 1],\n",
    "           label='New Centroid',\n",
    "           color='m', s=80, alpha=.5)\n",
    "ax.legend(loc='best')"
   ]
  },
  {
   "cell_type": "code",
   "execution_count": 27,
   "metadata": {
    "collapsed": true
   },
   "outputs": [],
   "source": [
    "# There is a fundamental connection between Gaussian distribution\n",
    "# and the KMeans clustering. Let's create an empirical Gaussian\n",
    "# based off the centroid and sample covariance matrix and look\n",
    "# at the probability of each point that we removed.\n",
    "# this will show that the points we removed were the least likely\n",
    "# to occur."
   ]
  },
  {
   "cell_type": "code",
   "execution_count": 28,
   "metadata": {
    "collapsed": false
   },
   "outputs": [
    {
     "data": {
      "text/plain": [
       "True"
      ]
     },
     "execution_count": 28,
     "metadata": {},
     "output_type": "execute_result"
    }
   ],
   "source": [
    "from scipy import stats\n",
    "emp_dist = stats.multivariate_normal(kmeans.cluster_centers_.ravel())\n",
    "lowest_prob_idx = np.argsort(emp_dist.pdf(X))[:5]\n",
    "np.all(X[sorted_idx] == X[lowest_prob_idx])"
   ]
  },
  {
   "cell_type": "code",
   "execution_count": 31,
   "metadata": {
    "collapsed": false
   },
   "outputs": [
    {
     "name": "stdout",
     "output_type": "stream",
     "text": [
      "[[ 5.92830283  6.32759144]]\n",
      "[ 5.92830283  6.32759144]\n"
     ]
    }
   ],
   "source": [
    "print kmeans.cluster_centers_\n",
    "print kmeans.cluster_centers_.ravel()"
   ]
  },
  {
   "cell_type": "code",
   "execution_count": 32,
   "metadata": {
    "collapsed": false
   },
   "outputs": [
    {
     "name": "stdout",
     "output_type": "stream",
     "text": [
      "Help on multivariate_normal_gen in module scipy.stats._multivariate object:\n",
      "\n",
      "class multivariate_normal_gen(__builtin__.object)\n",
      " |  A multivariate normal random variable.\n",
      " |  \n",
      " |  The `mean` keyword specifies the mean. The `cov` keyword specifies the\n",
      " |  covariance matrix.\n",
      " |  \n",
      " |  Methods\n",
      " |  -------\n",
      " |  pdf(x, mean=None, cov=1, allow_singular=False)\n",
      " |      Probability density function.\n",
      " |  logpdf(x, mean=None, cov=1, allow_singular=False)\n",
      " |      Log of the probability density function.\n",
      " |  rvs(mean=None, cov=1, allow_singular=False, size=1)\n",
      " |      Draw random samples from a multivariate normal distribution.\n",
      " |  entropy()\n",
      " |      Compute the differential entropy of the multivariate normal.\n",
      " |  \n",
      " |  Parameters\n",
      " |  ----------\n",
      " |  x : array_like\n",
      " |      Quantiles, with the last axis of `x` denoting the components.\n",
      " |  %(_doc_default_callparams)s\n",
      " |  \n",
      " |  Alternatively, the object may be called (as a function) to fix the mean\n",
      " |  and covariance parameters, returning a \"frozen\" multivariate normal\n",
      " |  random variable:\n",
      " |  \n",
      " |  rv = multivariate_normal(mean=None, cov=1, allow_singular=False)\n",
      " |      - Frozen object with the same methods but holding the given\n",
      " |        mean and covariance fixed.\n",
      " |  \n",
      " |  Notes\n",
      " |  -----\n",
      " |  %(_doc_callparams_note)s\n",
      " |  \n",
      " |  The covariance matrix `cov` must be a (symmetric) positive\n",
      " |  semi-definite matrix. The determinant and inverse of `cov` are computed\n",
      " |  as the pseudo-determinant and pseudo-inverse, respectively, so\n",
      " |  that `cov` does not need to have full rank.\n",
      " |  \n",
      " |  The probability density function for `multivariate_normal` is\n",
      " |  \n",
      " |  .. math::\n",
      " |  \n",
      " |      f(x) = \\frac{1}{\\sqrt{(2 \\pi)^k \\det \\Sigma}} \\exp\\left( -\\frac{1}{2} (x - \\mu)^T \\Sigma^{-1} (x - \\mu) \\right),\n",
      " |  \n",
      " |  where :math:`\\mu` is the mean, :math:`\\Sigma` the covariance matrix,\n",
      " |  and :math:`k` is the dimension of the space where :math:`x` takes values.\n",
      " |  \n",
      " |  .. versionadded:: 0.14.0\n",
      " |  \n",
      " |  Examples\n",
      " |  --------\n",
      " |  >>> import matplotlib.pyplot as plt\n",
      " |  >>> from scipy.stats import multivariate_normal\n",
      " |  >>> x = np.linspace(0, 5, 10, endpoint=False)\n",
      " |  >>> y = multivariate_normal.pdf(x, mean=2.5, cov=0.5); y\n",
      " |  array([ 0.00108914,  0.01033349,  0.05946514,  0.20755375,  0.43939129,\n",
      " |          0.56418958,  0.43939129,  0.20755375,  0.05946514,  0.01033349])\n",
      " |  >>> plt.plot(x, y)\n",
      " |  \n",
      " |  The input quantiles can be any shape of array, as long as the last\n",
      " |  axis labels the components.  This allows us for instance to\n",
      " |  display the frozen pdf for a non-isotropic random variable in 2D as\n",
      " |  follows:\n",
      " |  \n",
      " |  >>> x, y = np.mgrid[-1:1:.01, -1:1:.01]\n",
      " |  >>> pos = np.empty(x.shape + (2,))\n",
      " |  >>> pos[:, :, 0] = x; pos[:, :, 1] = y\n",
      " |  >>> rv = multivariate_normal([0.5, -0.2], [[2.0, 0.3], [0.3, 0.5]])\n",
      " |  >>> plt.contourf(x, y, rv.pdf(pos))\n",
      " |  \n",
      " |  Methods defined here:\n",
      " |  \n",
      " |  __call__(self, mean=None, cov=1, allow_singular=False)\n",
      " |      Create a frozen multivariate normal distribution.\n",
      " |      \n",
      " |      See `multivariate_normal_frozen` for more information.\n",
      " |  \n",
      " |  __init__(self)\n",
      " |  \n",
      " |  entropy(self, mean=None, cov=1)\n",
      " |      Compute the differential entropy of the multivariate normal.\n",
      " |      \n",
      " |      Parameters\n",
      " |      ----------\n",
      " |      %(_doc_default_callparams)s\n",
      " |      \n",
      " |      Notes\n",
      " |      -----\n",
      " |      %(_doc_callparams_note)s\n",
      " |      \n",
      " |      Returns\n",
      " |      -------\n",
      " |      h : scalar\n",
      " |          Entropy of the multivariate normal distribution\n",
      " |  \n",
      " |  logpdf(self, x, mean, cov, allow_singular=False)\n",
      " |      Log of the multivariate normal probability density function.\n",
      " |      \n",
      " |      Parameters\n",
      " |      ----------\n",
      " |      x : array_like\n",
      " |          Quantiles, with the last axis of `x` denoting the components.\n",
      " |      mean : array_like, optional\n",
      " |          Mean of the distribution (default zero)\n",
      " |      cov : array_like, optional\n",
      " |          Covariance matrix of the distribution (default one)\n",
      " |      allow_singular : bool, optional\n",
      " |          Whether to allow a singular covariance matrix.  (Default: False)\n",
      " |      \n",
      " |      Notes\n",
      " |      -----\n",
      " |      Setting the parameter `mean` to `None` is equivalent to having `mean`\n",
      " |          be the zero-vector. The parameter `cov` can be a scalar, in which case\n",
      " |          the covariance matrix is the identity times that value, a vector of\n",
      " |          diagonal entries for the covariance matrix, or a two-dimensional\n",
      " |          array_like.\n",
      " |          \n",
      " |      \n",
      " |      Returns\n",
      " |      -------\n",
      " |      pdf : ndarray\n",
      " |          Log of the probability density function evaluated at `x`\n",
      " |  \n",
      " |  pdf(self, x, mean, cov, allow_singular=False)\n",
      " |      Multivariate normal probability density function.\n",
      " |      \n",
      " |      Parameters\n",
      " |      ----------\n",
      " |      x : array_like\n",
      " |          Quantiles, with the last axis of `x` denoting the components.\n",
      " |      mean : array_like, optional\n",
      " |          Mean of the distribution (default zero)\n",
      " |      cov : array_like, optional\n",
      " |          Covariance matrix of the distribution (default one)\n",
      " |      allow_singular : bool, optional\n",
      " |          Whether to allow a singular covariance matrix.  (Default: False)\n",
      " |      \n",
      " |      Notes\n",
      " |      -----\n",
      " |      Setting the parameter `mean` to `None` is equivalent to having `mean`\n",
      " |          be the zero-vector. The parameter `cov` can be a scalar, in which case\n",
      " |          the covariance matrix is the identity times that value, a vector of\n",
      " |          diagonal entries for the covariance matrix, or a two-dimensional\n",
      " |          array_like.\n",
      " |          \n",
      " |      \n",
      " |      Returns\n",
      " |      -------\n",
      " |      pdf : ndarray\n",
      " |          Probability density function evaluated at `x`\n",
      " |  \n",
      " |  rvs(self, mean=None, cov=1, size=1)\n",
      " |      Draw random samples from a multivariate normal distribution.\n",
      " |      \n",
      " |      Parameters\n",
      " |      ----------\n",
      " |      mean : array_like, optional\n",
      " |          Mean of the distribution (default zero)\n",
      " |      cov : array_like, optional\n",
      " |          Covariance matrix of the distribution (default one)\n",
      " |      allow_singular : bool, optional\n",
      " |          Whether to allow a singular covariance matrix.  (Default: False)\n",
      " |      size : integer, optional\n",
      " |          Number of samples to draw (default 1).\n",
      " |      \n",
      " |      Notes\n",
      " |      -----\n",
      " |      Setting the parameter `mean` to `None` is equivalent to having `mean`\n",
      " |          be the zero-vector. The parameter `cov` can be a scalar, in which case\n",
      " |          the covariance matrix is the identity times that value, a vector of\n",
      " |          diagonal entries for the covariance matrix, or a two-dimensional\n",
      " |          array_like.\n",
      " |          \n",
      " |      \n",
      " |      Returns\n",
      " |      -------\n",
      " |      rvs : ndarray or scalar\n",
      " |          Random variates of size (`size`, `N`), where `N` is the\n",
      " |          dimension of the random variable.\n",
      " |  \n",
      " |  ----------------------------------------------------------------------\n",
      " |  Data descriptors defined here:\n",
      " |  \n",
      " |  __dict__\n",
      " |      dictionary for instance variables (if defined)\n",
      " |  \n",
      " |  __weakref__\n",
      " |      list of weak references to the object (if defined)\n",
      "\n"
     ]
    }
   ],
   "source": [
    "help(stats.multivariate_normal)"
   ]
  },
  {
   "cell_type": "code",
   "execution_count": null,
   "metadata": {
    "collapsed": true
   },
   "outputs": [],
   "source": []
  }
 ],
 "metadata": {
  "kernelspec": {
   "display_name": "Python 2",
   "language": "python",
   "name": "python2"
  },
  "language_info": {
   "codemirror_mode": {
    "name": "ipython",
    "version": 2
   },
   "file_extension": ".py",
   "mimetype": "text/x-python",
   "name": "python",
   "nbconvert_exporter": "python",
   "pygments_lexer": "ipython2",
   "version": "2.7.8"
  }
 },
 "nbformat": 4,
 "nbformat_minor": 0
}
