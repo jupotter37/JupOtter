{
 "cells": [
  {
   "cell_type": "markdown",
   "metadata": {},
   "source": [
    "<div align=\"center\"><h1>Vector Add on GPU</h1></div>"
   ]
  },
  {
   "cell_type": "markdown",
   "metadata": {},
   "source": [
    "---\n",
    "## Vector Add\n",
    "\n",
    "In the world of computing, the addition of two vectors is the standard \"Hello World\". \n",
    "\n",
    "![vector add](./images/vector_add.png \"Vector Addition\")\n",
    "\n",
    "Given two sets of scalar data, such as the image above, we want to compute the sum, element by element. \n",
    "\n",
    "We start by implementing the algorithm in plain C#. \n",
    "\n",
    "Edit the file [01-vector-add.cs](../../edit/02_VectorAdd/01-vector-add/01-vector-add.cs) and implement this algorithm in plain C# until it displays `OK`\n",
    "\n",
    "If you get stuck, you can refer to the [solution](../../edit/02_VectorAdd/01-vector-add/solutions/01-vector-add.cs)."
   ]
  },
  {
   "cell_type": "code",
   "execution_count": null,
   "metadata": {},
   "outputs": [],
   "source": [
    "!hybridizer-cuda ./01-vector-add/01-vector-add.cs -o ./01-vector-add/vectoradd.exe -run"
   ]
  },
  {
   "cell_type": "markdown",
   "metadata": {},
   "source": [
    "---\n",
    "## Introduce Parallelism\n",
    "\n",
    "As we can see in the [solution](../edit/01-vector-add/solutions/01-vector-add.cs), a plain scalar iterative approach only uses one thread, while modern CPUs have typically 4 cores and 8 threads. \n",
    "\n",
    "Fortunately, .Net and C# provide an intuitive construct to leverage parallelism : [Parallel.For](https://msdn.microsoft.com/en-us/library/dd783539.aspx). \n",
    "\n",
    "Modify [01-vector-add.cs](../../edit/02_VectorAdd/01-vector-add/01-vector-add.cs) to distribute the work among multiple threads. \n",
    "\n",
    "If you get stuck, you can refer to the [solution](../../edit/02_VectorAdd/01-vector-add/solutions/02-parallel-vector-add.cs)."
   ]
  },
  {
   "cell_type": "code",
   "execution_count": null,
   "metadata": {},
   "outputs": [],
   "source": [
    "!hybridizer-cuda ./01-vector-add/01-vector-add.cs -o ./01-vector-add/parallel-vectoradd.exe -run"
   ]
  },
  {
   "cell_type": "markdown",
   "metadata": {},
   "source": [
    "## Run Code on the GPU\n",
    "\n",
    "Using Hybridizer to run the above code on a GPU is quite straightforward. We need to\n",
    "- Decorate methods we want to run on the GPU  \n",
    "This is done by adding `[EntryPoint]` attribute on methods of interest. \n",
    "- \"Wrap\" current object into a dynamic object able to dispatch code on the GPU\n",
    "This is done by the following boilerplate code:  \n",
    "```csharp\n",
    "dynamic wrapped = HybRunner.Cuda().Wrap(new Program());\n",
    "wrapped.mymethod(...)\n",
    "```\n",
    "`wrapped` object has the same methods signatures (static or instance) as the current object, but dispatches calls to GPU.\n",
    "\n",
    "Modify the [02-vector-add.cs](../../edit/02_VectorAdd/02-gpu-vector-add/02-gpu-vector-add.cs) so the `Add` method runs on a GPU. \n",
    "\n",
    "If you get stuck, you can refer to the [solution](../../edit/02_VectorAdd/02-gpu-vector-add/solutions/02-gpu-vector-add.cs)."
   ]
  },
  {
   "cell_type": "code",
   "execution_count": null,
   "metadata": {},
   "outputs": [],
   "source": [
    "!hybridizer-cuda ./02-gpu-vector-add/02-gpu-vector-add.cs -o ./02-gpu-vector-add/gpu-vectoradd.exe -run"
   ]
  }
 ],
 "metadata": {
  "kernelspec": {
   "display_name": "Python 3",
   "language": "python",
   "name": "python3"
  },
  "language_info": {
   "codemirror_mode": {
    "name": "ipython",
    "version": 3
   },
   "file_extension": ".py",
   "mimetype": "text/x-python",
   "name": "python",
   "nbconvert_exporter": "python",
   "pygments_lexer": "ipython3",
   "version": "3.6.5"
  }
 },
 "nbformat": 4,
 "nbformat_minor": 2
}
