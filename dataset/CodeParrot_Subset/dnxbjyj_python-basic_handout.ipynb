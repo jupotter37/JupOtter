{
 "cells": [
  {
   "cell_type": "markdown",
   "metadata": {},
   "source": [
    "# 用ConfigParser模块读写conf配置文件"
   ]
  },
  {
   "cell_type": "markdown",
   "metadata": {},
   "source": [
    "ConfigParser是Python内置的一个读取配置文件的模块，用它来读取和修改配置文件非常方便，本文介绍一下它的基本用法。"
   ]
  },
  {
   "cell_type": "markdown",
   "metadata": {},
   "source": [
    "## 数据准备"
   ]
  },
  {
   "cell_type": "markdown",
   "metadata": {},
   "source": [
    "假设当前目录下有一个名为`sys.conf`的配置文件，其内容如下："
   ]
  },
  {
   "cell_type": "markdown",
   "metadata": {},
   "source": [
    "```bash\n",
    "[db]\n",
    "db_host=127.0.0.1\n",
    "db_port=22\n",
    "db_user=root\n",
    "db_pass=root123\n",
    "\n",
    "[concurrent]\n",
    "thread  =    10\n",
    "processor =    20\n",
    "```"
   ]
  },
  {
   "cell_type": "markdown",
   "metadata": {},
   "source": [
    "注：配置文件中，各个配置项其实是用等号'='隔开的键值对，这个等号两边如果有空白符，在处理的时候都会被自动去掉。但是key之前不能存在空白符，否则会报错。"
   ]
  },
  {
   "cell_type": "markdown",
   "metadata": {},
   "source": [
    "## 配置文件介绍"
   ]
  },
  {
   "cell_type": "markdown",
   "metadata": {},
   "source": [
    "配置文件即conf文件，其文件结构多为键值对的文件结构，比如上面的sys.conf文件。"
   ]
  },
  {
   "cell_type": "markdown",
   "metadata": {},
   "source": [
    "conf文件有2个层次结构，`[]`中的文本是section的名称，下面的键值对列表是item，代表每个配置项的键和值。"
   ]
  },
  {
   "cell_type": "markdown",
   "metadata": {},
   "source": [
    "## 初始化ConfigParser实例"
   ]
  },
  {
   "cell_type": "code",
   "execution_count": 19,
   "metadata": {
    "collapsed": true
   },
   "outputs": [],
   "source": [
    "import ConfigParser"
   ]
  },
  {
   "cell_type": "code",
   "execution_count": null,
   "metadata": {
    "scrolled": true
   },
   "outputs": [],
   "source": [
    "cf = ConfigParser.ConfigParser()\n",
    "cf.read('./sys.conf')"
   ]
  },
  {
   "cell_type": "markdown",
   "metadata": {},
   "source": [
    "## 读取所有的section列表"
   ]
  },
  {
   "cell_type": "markdown",
   "metadata": {},
   "source": [
    "section即`[]`中的内容。"
   ]
  },
  {
   "cell_type": "code",
   "execution_count": 10,
   "metadata": {},
   "outputs": [
    {
     "name": "stdout",
     "output_type": "stream",
     "text": [
      "【Output】\n",
      "['db', 'concurrent']\n"
     ]
    }
   ],
   "source": [
    "s = cf.sections()\n",
    "print '【Output】'\n",
    "print s"
   ]
  },
  {
   "cell_type": "markdown",
   "metadata": {},
   "source": [
    "## 读取指定section下options key列表"
   ]
  },
  {
   "cell_type": "markdown",
   "metadata": {},
   "source": [
    "options即某个section下的每个键值对的key."
   ]
  },
  {
   "cell_type": "code",
   "execution_count": 11,
   "metadata": {},
   "outputs": [
    {
     "name": "stdout",
     "output_type": "stream",
     "text": [
      "【Output】\n",
      "['thread', 'processor']\n"
     ]
    }
   ],
   "source": [
    "opt = cf.options('concurrent')\n",
    "print '【Output】'\n",
    "print opt"
   ]
  },
  {
   "cell_type": "markdown",
   "metadata": {},
   "source": [
    "## 获取指定section下的键值对字典列表"
   ]
  },
  {
   "cell_type": "code",
   "execution_count": 12,
   "metadata": {},
   "outputs": [
    {
     "name": "stdout",
     "output_type": "stream",
     "text": [
      "【Output】\n",
      "[('thread', '10'), ('processor', '20')]\n"
     ]
    }
   ],
   "source": [
    "items = cf.items('concurrent')\n",
    "print '【Output】'\n",
    "print items"
   ]
  },
  {
   "cell_type": "markdown",
   "metadata": {},
   "source": [
    "## 按照指定数据类型读取配置值"
   ]
  },
  {
   "cell_type": "markdown",
   "metadata": {},
   "source": [
    "cf对象有get()、getint()、getboolean()、getfloat()四种方法来读取不同数据类型的配置项的值。"
   ]
  },
  {
   "cell_type": "code",
   "execution_count": 13,
   "metadata": {},
   "outputs": [
    {
     "name": "stdout",
     "output_type": "stream",
     "text": [
      "【Output】\n",
      "127.0.0.1 22 10\n"
     ]
    }
   ],
   "source": [
    "db_host = cf.get('db','db_host')\n",
    "db_port = cf.getint('db','db_port')\n",
    "thread = cf.getint('concurrent','thread')\n",
    "\n",
    "print '【Output】'\n",
    "print db_host,db_port,thread"
   ]
  },
  {
   "cell_type": "markdown",
   "metadata": {},
   "source": [
    "## 修改某个配置项的值"
   ]
  },
  {
   "cell_type": "markdown",
   "metadata": {},
   "source": [
    "比如要修改一下数据库的密码，可以这样修改："
   ]
  },
  {
   "cell_type": "code",
   "execution_count": 15,
   "metadata": {
    "collapsed": true
   },
   "outputs": [],
   "source": [
    "cf.set('db','db_pass','newpass')\n",
    "# 修改完了要写入才能生效\n",
    "with open('sys.conf','w') as f:\n",
    "    cf.write(f)"
   ]
  },
  {
   "cell_type": "markdown",
   "metadata": {},
   "source": [
    "## 添加一个section"
   ]
  },
  {
   "cell_type": "code",
   "execution_count": 21,
   "metadata": {},
   "outputs": [],
   "source": [
    "cf.add_section('log')\n",
    "cf.set('log','name','mylog.log')\n",
    "cf.set('log','num',100)\n",
    "cf.set('log','size',10.55)\n",
    "cf.set('log','auto_save',True)\n",
    "cf.set('log','info','%(bar)s is %(baz)s!')\n",
    "\n",
    "# 同样的，要写入才能生效\n",
    "with open('sys.conf','w') as f:\n",
    "    cf.write(f)"
   ]
  },
  {
   "cell_type": "markdown",
   "metadata": {
    "collapsed": true
   },
   "source": [
    "执行上面代码后，sys.conf文件多了一个section，内容如下："
   ]
  },
  {
   "cell_type": "markdown",
   "metadata": {},
   "source": [
    "```bash\n",
    "[log]\n",
    "name = mylog.log\n",
    "num = 100\n",
    "size = 10.55\n",
    "auto_save = True\n",
    "info = %(bar)s is %(baz)s!\n",
    "```"
   ]
  },
  {
   "cell_type": "markdown",
   "metadata": {},
   "source": [
    "## 移除某个section"
   ]
  },
  {
   "cell_type": "code",
   "execution_count": 22,
   "metadata": {
    "collapsed": true
   },
   "outputs": [],
   "source": [
    "cf.remove_section('log')\n",
    "\n",
    "# 同样的，要写入才能生效\n",
    "with open('sys.conf','w') as f:\n",
    "    cf.write(f)"
   ]
  },
  {
   "cell_type": "markdown",
   "metadata": {},
   "source": [
    "## 移除某个option"
   ]
  },
  {
   "cell_type": "code",
   "execution_count": 23,
   "metadata": {
    "collapsed": true
   },
   "outputs": [],
   "source": [
    "cf.remove_option('db','db_pass')\n",
    "\n",
    "# 同样的，要写入才能生效\n",
    "with open('sys.conf','w') as f:\n",
    "    cf.write(f)"
   ]
  }
 ],
 "metadata": {
  "kernelspec": {
   "display_name": "Python 2",
   "language": "python",
   "name": "python2"
  },
  "language_info": {
   "codemirror_mode": {
    "name": "ipython",
    "version": 2
   },
   "file_extension": ".py",
   "mimetype": "text/x-python",
   "name": "python",
   "nbconvert_exporter": "python",
   "pygments_lexer": "ipython2",
   "version": "2.7.13"
  }
 },
 "nbformat": 4,
 "nbformat_minor": 2
}
