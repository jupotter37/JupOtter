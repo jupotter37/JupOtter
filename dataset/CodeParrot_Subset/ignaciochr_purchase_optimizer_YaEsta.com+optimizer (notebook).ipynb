{
 "cells": [
  {
   "cell_type": "markdown",
   "metadata": {},
   "source": [
    "## YaEsta.com purchase optimizer"
   ]
  },
  {
   "cell_type": "code",
   "execution_count": 155,
   "metadata": {
    "collapsed": true
   },
   "outputs": [],
   "source": [
    "import requests\n",
    "import bs4\n",
    "Soup = bs4.BeautifulSoup\n",
    "import csv\n",
    "import re\n",
    "import pandas as pd\n",
    "import numpy as np\n",
    "import math\n",
    "from itertools import combinations"
   ]
  },
  {
   "cell_type": "markdown",
   "metadata": {},
   "source": [
    "**Importing website HTML data to be parsed**"
   ]
  },
  {
   "cell_type": "code",
   "execution_count": 156,
   "metadata": {
    "collapsed": true
   },
   "outputs": [],
   "source": [
    "#To parse local HTML files\n",
    "with open(r'C:/Users/ignacio.chavarria/Desktop/Scraping/aaa.html', \"r\") as f:\n",
    "    content = f.read()\n",
    "\n",
    "#To parse from web\n",
    "#response = requests.get(\"http://dataquestio.github.io/web-scraping-pages/2014_super_bowl.html\")\n",
    "#content = response.content"
   ]
  },
  {
   "cell_type": "code",
   "execution_count": 157,
   "metadata": {
    "collapsed": false
   },
   "outputs": [],
   "source": [
    "with open(r\"C:\\Users\\ignacio.chavarria\\Desktop\\Scraping\\YaEsta\\drinks.html\", encoding=\"utf8\") as f:\n",
    "    content_d = f.read()\n",
    "    \n",
    "with open(r\"C:\\Users\\ignacio.chavarria\\Desktop\\Scraping\\YaEsta\\snacks.html\", \"r\", encoding=\"utf8\") as f:\n",
    "    content_s = f.read()\n",
    "\n",
    "with open(r\"C:\\Users\\ignacio.chavarria\\Desktop\\Scraping\\YaEsta\\chocolates.html\", \"r\", encoding=\"utf8\") as f:\n",
    "    content_c = f.read()"
   ]
  },
  {
   "cell_type": "code",
   "execution_count": 158,
   "metadata": {
    "collapsed": true
   },
   "outputs": [],
   "source": [
    "p_d = Soup(content_d, 'html.parser')\n",
    "p_s = Soup(content_s, 'html.parser')\n",
    "p_c = Soup(content_c, 'html.parser')"
   ]
  },
  {
   "cell_type": "markdown",
   "metadata": {},
   "source": [
    "**Parsing titles and prices:**"
   ]
  },
  {
   "cell_type": "code",
   "execution_count": 159,
   "metadata": {
    "collapsed": true
   },
   "outputs": [],
   "source": [
    "parsers = [p_d, p_s, p_c]"
   ]
  },
  {
   "cell_type": "code",
   "execution_count": 160,
   "metadata": {
    "collapsed": false
   },
   "outputs": [],
   "source": [
    "def cat_name(n):\n",
    "    if n == 0:\n",
    "        return \"drink\"\n",
    "    elif n == 1:\n",
    "        return \"snack\"\n",
    "    elif n == 2:\n",
    "        return \"chocolate\"\n",
    "\n",
    "names = []\n",
    "prices = []\n",
    "categories = []\n",
    "ct = 0\n",
    "\n",
    "for parser in parsers:\n",
    "    #Get product names\n",
    "    names_raw = parser.select(\".productName\")\n",
    "    for i in names_raw:\n",
    "        names.append(i.text)\n",
    "\n",
    "    #Get product prices\n",
    "    prices_raw = parser.select(\".prices\")\n",
    "    for i in prices_raw:\n",
    "        if len(i) == 3:\n",
    "            prices.append(float((i.text)[3:]))\n",
    "        elif len(i) == 5:\n",
    "            prices.append(float((i.find_all(\"span\")[1].text)[1:]))\n",
    "\n",
    "    #Get product categories\n",
    "    cats = [ cat_name(ct) for i in range((len(categories)), len(prices))]\n",
    "    for i in cats:\n",
    "        categories.append(i)\n",
    "    ct += 1"
   ]
  },
  {
   "cell_type": "code",
   "execution_count": 161,
   "metadata": {
    "collapsed": false
   },
   "outputs": [],
   "source": [
    "#Create dataframe\n",
    "df = pd.DataFrame(\n",
    "    {'name': names[:-9],\n",
    "     'category': categories,\n",
    "     'price': prices\n",
    "    })"
   ]
  },
  {
   "cell_type": "code",
   "execution_count": 162,
   "metadata": {
    "collapsed": false
   },
   "outputs": [],
   "source": [
    "def amount(i):\n",
    "    if re.findall('[ ]([0-9\\,\\.]+)(?=\\s*[mMgG]([ lLrR\\.]|\\Z)([ \\.]|\\Z))', i):\n",
    "        test2 = re.findall('[ ]([0-9\\,\\.]+)(?=\\s*[mMgG]([ lLrR\\.]|\\Z)([ \\.]|\\Z))', i)\n",
    "    else:\n",
    "        test2 = re.findall('[ ]([0-9\\,\\.]+)(?=\\s*[mMgG]([ lLrR\\.]|\\Z))', i)\n",
    "\n",
    "    if test2:\n",
    "        return float(test2[0][0].replace(\",\", \".\"))\n",
    "    else:\n",
    "        return math.nan\n",
    "\n",
    "df['amount'] = df['name'].apply(lambda x: amount(x))"
   ]
  },
  {
   "cell_type": "code",
   "execution_count": 163,
   "metadata": {
    "collapsed": false
   },
   "outputs": [],
   "source": [
    "df = df.dropna(subset=['amount']).reset_index(drop=True)"
   ]
  },
  {
   "cell_type": "code",
   "execution_count": 164,
   "metadata": {
    "collapsed": false
   },
   "outputs": [],
   "source": [
    "#df['category'].value_counts()"
   ]
  },
  {
   "cell_type": "code",
   "execution_count": 165,
   "metadata": {
    "collapsed": false
   },
   "outputs": [
    {
     "data": {
      "text/plain": [
       "(245, 4)"
      ]
     },
     "execution_count": 165,
     "metadata": {},
     "output_type": "execute_result"
    }
   ],
   "source": [
    "df.shape"
   ]
  },
  {
   "cell_type": "code",
   "execution_count": 166,
   "metadata": {
    "collapsed": false
   },
   "outputs": [],
   "source": [
    "df['amount_per_dollar'] =  df['amount'] / df['price']"
   ]
  },
  {
   "cell_type": "code",
   "execution_count": 167,
   "metadata": {
    "collapsed": false
   },
   "outputs": [],
   "source": [
    "df['idx'] = df.index"
   ]
  },
  {
   "cell_type": "code",
   "execution_count": 168,
   "metadata": {
    "collapsed": true
   },
   "outputs": [],
   "source": [
    "gc = 5"
   ]
  },
  {
   "cell_type": "code",
   "execution_count": 169,
   "metadata": {
    "collapsed": false
   },
   "outputs": [],
   "source": [
    "#df.shape"
   ]
  },
  {
   "cell_type": "code",
   "execution_count": 170,
   "metadata": {
    "collapsed": false
   },
   "outputs": [
    {
     "data": {
      "text/plain": [
       "(175, 6)"
      ]
     },
     "execution_count": 170,
     "metadata": {},
     "output_type": "execute_result"
    }
   ],
   "source": [
    "df = df[df['price'] <= gc]\n",
    "df.shape"
   ]
  },
  {
   "cell_type": "code",
   "execution_count": 171,
   "metadata": {
    "collapsed": false
   },
   "outputs": [],
   "source": [
    "#df['category'].value_counts()"
   ]
  },
  {
   "cell_type": "code",
   "execution_count": 172,
   "metadata": {
    "collapsed": false
   },
   "outputs": [],
   "source": [
    "df_c = df.loc[df['category'] == 'chocolate', :].sort_values('amount_per_dollar', ascending=[False])\n",
    "df_d = df.loc[df['category'] == 'drink', :].sort_values('amount_per_dollar', ascending=[False])\n",
    "df_s = df.loc[df['category'] == 'snack', :].sort_values('amount_per_dollar', ascending=[False])\n",
    "#df_d = df.loc[lambda df: df.category == 'drink', :].sort_values('amount_per_dollar', ascending=[False])\n",
    "#df_s = df[df['category'] == 'snack'].sort_values('amount_per_dollar', ascending=[False])"
   ]
  },
  {
   "cell_type": "code",
   "execution_count": 173,
   "metadata": {
    "collapsed": false
   },
   "outputs": [],
   "source": [
    "df_s1 = df_s.iloc[:10].sort_values('price', ascending=True)\n",
    "df_d1 = df_d.iloc[:10].sort_values('price', ascending=True)\n",
    "df_c1 = df_c.iloc[:10].sort_values('price', ascending=True)"
   ]
  },
  {
   "cell_type": "code",
   "execution_count": 174,
   "metadata": {
    "collapsed": false
   },
   "outputs": [],
   "source": [
    "dfs = [df_s1, df_d1, df_c1]\n",
    "\n",
    "#Create dictionary with K values for computing combinations per df\n",
    "d = {}\n",
    "for n in range(len(dfs)):\n",
    "    products = 0\n",
    "    total = 0\n",
    "    for i in range(dfs[n].shape[0]):\n",
    "        if dfs[n].price.iloc[i] <= gc:\n",
    "            total += dfs[n].price.iloc[i]\n",
    "            if total >= gc:\n",
    "                break\n",
    "            products += 1\n",
    "        else:\n",
    "            break\n",
    "    d[n] = int(products)"
   ]
  },
  {
   "cell_type": "code",
   "execution_count": 175,
   "metadata": {
    "collapsed": false
   },
   "outputs": [],
   "source": [
    "#Find top combinations per segment\n",
    "top = {}\n",
    "\n",
    "for y in range(len(dfs)):    \n",
    "    combination_id = {}\n",
    "    ti, tp, ta = [],[],[]\n",
    "\n",
    "    for k in range(1, d[y] + 1):\n",
    "        ti += list(combinations(dfs[y].idx, k))\n",
    "        tp += list(combinations(dfs[y].price, k))\n",
    "        ta += list(combinations(dfs[y].amount, k))\n",
    "\n",
    "    for i in range(len(ti)):\n",
    "        if sum(tp[i]) <= gc:\n",
    "            combination_id[i] = []\n",
    "            combination_id[i].append(list(ti[i]))\n",
    "            combination_id[i].append(sum(tp[i]))\n",
    "            combination_id[i].append(sum(ta[i]))\n",
    "\n",
    "    top[y] = sorted(combination_id.items(), key=lambda x: x[1][2], reverse=True)[0][1:]"
   ]
  },
  {
   "cell_type": "code",
   "execution_count": 176,
   "metadata": {
    "collapsed": false
   },
   "outputs": [
    {
     "data": {
      "text/plain": [
       "{0: ([[71, 81], 4.8799999999999999, 500.0],),\n",
       " 1: ([[42, 15, 14, 16, 2], 4.7200000000000006, 2737.0],),\n",
       " 2: ([[190], 4.5800000000000001, 250.0],)}"
      ]
     },
     "execution_count": 176,
     "metadata": {},
     "output_type": "execute_result"
    }
   ],
   "source": [
    "top"
   ]
  },
  {
   "cell_type": "code",
   "execution_count": 177,
   "metadata": {
    "collapsed": false
   },
   "outputs": [
    {
     "name": "stdout",
     "output_type": "stream",
     "text": [
      "Basket: 'snack'\n",
      "  CRIS MANI FAMILIAR 100 G\n",
      "  CRIS MANI CLÁSICO TARRO 400 G\n",
      "Total cost: $ 4.88\n",
      "Total grams: 500.0\n",
      "\n",
      "\n",
      "Basket: 'drink'\n",
      "  Sunny Jugo 237 ml. Guayaba\n",
      "  TONI Té Adelgazante Toronja 500ml.\n",
      "  TONI Té Energizante Mora 500ml.\n",
      "  TONI Té Adelgazante Limón 500ml.\n",
      "  Sunny Jugo 1000 ml. Durazno\n",
      "Total cost: $ 4.72\n",
      "Total milliliters: 2737.0\n",
      "\n",
      "\n",
      "Basket: 'candy'\n",
      "  Hoja Verde Choco Avellana 250gr\n",
      "Total cost: $ 4.58\n",
      "Total grams: 250.0\n",
      "\n",
      "\n"
     ]
    }
   ],
   "source": [
    "labels = [\"'snack'\", \"'drink'\", \"'candy'\"]\n",
    "\n",
    "def gr_or_ml(category):\n",
    "    if category == \"'drink'\":\n",
    "        return \"Total milliliters:\"\n",
    "    else:\n",
    "        return \"Total grams:\"\n",
    "\n",
    "for i in top:\n",
    "    print('Basket:', labels[i])\n",
    "    for x in top[i][0][0]:\n",
    "        print(\" \", df.loc[lambda df: df.idx == x, 'name'].item())\n",
    "    print('Total cost: $', top[i][0][1])\n",
    "    print(gr_or_ml(labels[i]), top[i][0][2])\n",
    "    print(\"\\n\")"
   ]
  },
  {
   "cell_type": "code",
   "execution_count": 226,
   "metadata": {
    "collapsed": false
   },
   "outputs": [],
   "source": [
    "from sklearn.utils import shuffle\n",
    "\n",
    "original_dfs = [df_s, df_d, df_c]\n",
    "results_dict = {}\n",
    "random_baskets = 100000\n",
    "\n",
    "for df_no in range(len(original_dfs)):\n",
    "    random_results = []\n",
    "    min_price = original_dfs[df_no].sort_values('price', ascending=True)['price'].iloc[0]\n",
    "    for i in range(random_baskets):\n",
    "        random_df = shuffle(original_dfs[df_no])#.sample(frac=1)\n",
    "        random_basket = []\n",
    "        balance = gc\n",
    "        amount = 0\n",
    "\n",
    "        for n in range(random_df.shape[0]):\n",
    "            if balance - random_df.price.iloc[n] >= 0:\n",
    "                balance -= random_df.price.iloc[n]\n",
    "                amount += random_df.amount.iloc[n]\n",
    "                random_basket.append(random_df.name.iloc[n])\n",
    "            elif balance < min_price:\n",
    "                break\n",
    "            else:\n",
    "                pass\n",
    "\n",
    "        random_results.append(amount)\n",
    "    results_dict[df_no] = random_results"
   ]
  },
  {
   "cell_type": "code",
   "execution_count": 230,
   "metadata": {
    "collapsed": false
   },
   "outputs": [
    {
     "name": "stdout",
     "output_type": "stream",
     "text": [
      "2800.0\n",
      "2737.0\n",
      "20\n"
     ]
    }
   ],
   "source": [
    "print(max(results_dict[1]))\n",
    "print(top[1][0][2])\n",
    "print(len([x for x in results_dict[1] if x >= top[1][0][2]]))"
   ]
  },
  {
   "cell_type": "code",
   "execution_count": 231,
   "metadata": {
    "collapsed": false
   },
   "outputs": [
    {
     "name": "stdout",
     "output_type": "stream",
     "text": [
      "Random 'snack' baskets tie or beat the optimized basket 0.19% of the time.\n",
      "Random 'drink' baskets tie or beat the optimized basket 0.02% of the time.\n",
      "Random 'candy' baskets tie or beat the optimized basket 3.07% of the time.\n"
     ]
    }
   ],
   "source": [
    "for i in range(len(labels)):\n",
    "    print(\"Random\", labels[i], \"baskets tie or beat the optimized basket\", \"%.2f%%\" % (100 * \n",
    "          len([x for x in results_dict[i] if x >= top[i][0][2]]) / random_baskets), \"of the time.\")"
   ]
  },
  {
   "cell_type": "code",
   "execution_count": 232,
   "metadata": {
    "collapsed": false
   },
   "outputs": [
    {
     "name": "stdout",
     "output_type": "stream",
     "text": [
      "The optimized 'snack' basket is over 3 standard deviations away from the random basket mean\n",
      "The optimized 'drink' basket is over 2 standard deviations away from the random basket mean\n",
      "The optimized 'candy' basket is over 1 standard deviations away from the random basket mean\n"
     ]
    }
   ],
   "source": [
    "optimized_amount_snack = top[0][0][2]\n",
    "optimized_amount_drink = top[1][0][2]\n",
    "optimized_amount_candy = top[2][0][2]\n",
    "\n",
    "opt_baskets = [optimized_amount_snack, optimized_amount_drink, optimized_amount_candy]\n",
    "\n",
    "for i in range(len(opt_baskets)):\n",
    "    print(\"The optimized\", labels[i], \"basket is over\", \n",
    "          math.floor((opt_baskets[i] - np.mean(results_dict[i])) / np.std(results_dict[i])), \n",
    "          \"standard deviations away from the random basket mean\")\n",
    "    #print(np.mean(results_dict[i]) + (np.std(results_dict[i]) * 3))"
   ]
  },
  {
   "cell_type": "code",
   "execution_count": 221,
   "metadata": {
    "collapsed": false
   },
   "outputs": [
    {
     "name": "stdout",
     "output_type": "stream",
     "text": [
      "500.0 232.7705 81.0998213916\n"
     ]
    }
   ],
   "source": [
    "print(opt_baskets[0], np.mean(results_dict[0]), np.std(results_dict[0]))"
   ]
  },
  {
   "cell_type": "code",
   "execution_count": 237,
   "metadata": {
    "collapsed": false
   },
   "outputs": [
    {
     "data": {
      "image/png": "[encoded data removed]",
      "text/plain": [
       "<matplotlib.figure.Figure at 0xb401150>"
      ]
     },
     "metadata": {},
     "output_type": "display_data"
    }
   ],
   "source": [
    "import seaborn as sns\n",
    "import matplotlib.pyplot as plt\n",
    "\n",
    "plt.rcParams.update({'font.size': 8})\n",
    "\n",
    "fig, ax = plt.subplots(figsize=(6.2,5))\n",
    "sns.set_style(\"white\")\n",
    "\n",
    "plt.subplot(2,2,1)\n",
    "plt.title('Snacks')\n",
    "plt.hist(results_dict[0], color='#F04824')\n",
    "plt.axvline(np.mean(results_dict[0]), color='y', linewidth=2)\n",
    "plt.axvline(optimized_amount_snack-4, color='y', linestyle='dashed', linewidth=2)\n",
    "sns.despine(right=True)\n",
    "\n",
    "plt.subplot(2,2,2)\n",
    "plt.title('Drinks')\n",
    "plt.hist(results_dict[1], color='#F04824')\n",
    "plt.axvline(np.mean(results_dict[1]), color='y', linewidth=2)\n",
    "plt.axvline(optimized_amount_drink, color='y', linestyle='dashed', linewidth=2)\n",
    "sns.despine(right=True)\n",
    "\n",
    "plt.subplot(2,2,3)\n",
    "plt.title('Candy')\n",
    "plt.hist(results_dict[2], color='#F04824')\n",
    "plt.axvline(np.mean(results_dict[2]), color='y', linewidth=2)\n",
    "plt.axvline(optimized_amount_candy-2, color='y', linestyle='dashed', linewidth=2)\n",
    "sns.despine(right=True)\n",
    "\n",
    "plt.tight_layout()\n",
    "plt.show()"
   ]
  },
  {
   "cell_type": "code",
   "execution_count": 239,
   "metadata": {
    "collapsed": false
   },
   "outputs": [
    {
     "name": "stdout",
     "output_type": "stream",
     "text": [
      "There are 43 total items in the 'drink' category with 6096454 million combinations at k = 6 .\n"
     ]
    }
   ],
   "source": [
    "k = 6\n",
    "drink_items = df.loc[df['category'] == 'drink', 'name']\n",
    "print(\"There are\", drink_items.shape[0], \"total items in the 'drink' category with\", \n",
    "      (len(list(combinations(drink_items, k)))), \"million combinations at k =\", k, \".\")"
   ]
  }
 ],
 "metadata": {
  "anaconda-cloud": {},
  "kernelspec": {
   "display_name": "Python [default]",
   "language": "python",
   "name": "python3"
  },
  "language_info": {
   "codemirror_mode": {
    "name": "ipython",
    "version": 3
   },
   "file_extension": ".py",
   "mimetype": "text/x-python",
   "name": "python",
   "nbconvert_exporter": "python",
   "pygments_lexer": "ipython3",
   "version": "3.5.2"
  }
 },
 "nbformat": 4,
 "nbformat_minor": 1
}
