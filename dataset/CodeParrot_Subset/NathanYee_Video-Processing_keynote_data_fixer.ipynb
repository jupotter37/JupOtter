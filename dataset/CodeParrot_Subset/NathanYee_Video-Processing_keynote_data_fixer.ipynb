{
 "cells": [
  {
   "cell_type": "markdown",
   "metadata": {},
   "source": [
    "This is a one time use notebook to count an process result data to make nice graphs of my results"
   ]
  },
  {
   "cell_type": "code",
   "execution_count": 1,
   "metadata": {
    "ExecuteTime": {
     "end_time": "2017-08-02T18:19:55.918631Z",
     "start_time": "2017-08-02T18:19:55.893827Z"
    },
    "collapsed": true
   },
   "outputs": [],
   "source": [
    "test_imgs ={'BENTHOCODON': 286,\n",
    " 'CYSTECHINUS_LOVENI': 40,\n",
    " 'ECHINOCREPIS': 26,\n",
    " 'ELPIDIA': 13,\n",
    " 'FUNGIACYATHUS_MARENZELLERI': 13,\n",
    " 'LONG_WHITE': 3,\n",
    " 'ONEIROPHANTA_MUTABILIS_COMPLEX': 3,\n",
    " 'PENIAGONE_PAPILLATA': 10,\n",
    " 'PENIAGONE_SP_1': 2,\n",
    " 'PENIAGONE_SP_2': 1,\n",
    " 'PENIAGONE_SP_A': 453,\n",
    " 'PENIAGONE_VITRAE': 93,\n",
    " 'SCOTOPLANES_GLOBOSA': 63,\n",
    " 'SYNALLACTIDAE': 5,\n",
    " 'TJALFIELLA': 66,\n",
    " 'bg': 0}"
   ]
  },
  {
   "cell_type": "code",
   "execution_count": 2,
   "metadata": {
    "ExecuteTime": {
     "end_time": "2017-08-02T18:19:55.949438Z",
     "start_time": "2017-08-02T18:19:55.921286Z"
    },
    "collapsed": true
   },
   "outputs": [],
   "source": [
    "train_imgs = {'BENTHOCODON': 569,\n",
    " 'CYSTECHINUS_LOVENI': 174,\n",
    " 'ECHINOCREPIS': 82,\n",
    " 'ELPIDIA': 493,\n",
    " 'FISH': 8,\n",
    " 'FUNGIACYATHUS_MARENZELLERI': 64,\n",
    " 'LONG_WHITE': 8,\n",
    " 'ONEIROPHANTA_MUTABILIS_COMPLEX': 6,\n",
    " 'PENIAGONE_PAPILLATA': 14,\n",
    " 'PENIAGONE_SP_1': 111,\n",
    " 'PENIAGONE_SP_2': 12,\n",
    " 'PENIAGONE_SP_A': 1108,\n",
    " 'PENIAGONE_VITRAE': 360,\n",
    " 'SCOTOPLANES_GLOBOSA': 365,\n",
    " 'SYNALLACTIDAE': 30,\n",
    " 'TJALFIELLA': 230,\n",
    " 'bg': 0}"
   ]
  },
  {
   "cell_type": "code",
   "execution_count": 13,
   "metadata": {
    "ExecuteTime": {
     "end_time": "2017-08-02T20:55:52.627350Z",
     "start_time": "2017-08-02T20:55:52.622688Z"
    }
   },
   "outputs": [
    {
     "data": {
      "text/plain": [
       "3634"
      ]
     },
     "execution_count": 13,
     "metadata": {},
     "output_type": "execute_result"
    }
   ],
   "source": [
    "sum([train_imgs[key] for key in train_imgs.keys()])"
   ]
  },
  {
   "cell_type": "code",
   "execution_count": 3,
   "metadata": {
    "ExecuteTime": {
     "end_time": "2017-08-02T18:19:56.027504Z",
     "start_time": "2017-08-02T18:19:55.982261Z"
    },
    "collapsed": true
   },
   "outputs": [],
   "source": [
    "imagenet_ap = {'BENTHOCODON': 0.805137016516,\n",
    "'ONEIROPHANTA_MUTABILIS_COMPLEX': 0.458815192744,\n",
    "'SCOTOPLANES_GLOBOSA': 0.899604662246,\n",
    "'PENIAGONE_PAPILLATA': 0.7725,\n",
    "'PENIAGONE_SP_1': 0.0206598918637,\n",
    "'ELPIDIA': 0.0442176870748,\n",
    "'ECHINOCREPIS': 0.42133689736,\n",
    "'LONG_WHITE': 0.2,\n",
    "'CYSTECHINUS_LOVENI': 0.590778912159,\n",
    "'TJALFIELLA': 0.494639502854,\n",
    "'PENIAGONE_VITRAE': 0.292665667963,\n",
    "'PENIAGONE_SP_2': 0.166666666667,\n",
    "'SYNALLACTIDAE': 0.821111111111,\n",
    "'PENIAGONE_SP_A': 0.978279800281,\n",
    "'FUNGIACYATHUS_MARENZELLERI': 0.386287047543}"
   ]
  },
  {
   "cell_type": "code",
   "execution_count": 4,
   "metadata": {
    "ExecuteTime": {
     "end_time": "2017-08-02T18:19:56.087021Z",
     "start_time": "2017-08-02T18:19:56.044382Z"
    },
    "collapsed": true
   },
   "outputs": [],
   "source": [
    "most_epoch_ap = {'CYSTECHINUS_LOVENI': 0.643499906799,\n",
    "'ONEIROPHANTA_MUTABILIS_COMPLEX': 0.248599910394,\n",
    "'SCOTOPLANES_GLOBOSA': 0.948805921186,\n",
    "'PENIAGONE_PAPILLATA': 1.0,\n",
    "'PENIAGONE_SP_1': 0.0500641025641,\n",
    "'ELPIDIA': 0.102745995423,\n",
    "'ECHINOCREPIS': 0.786982162631,\n",
    "'LONG_WHITE': 0.183501683502,\n",
    "'BENTHOCODON': 0.757451612353,\n",
    "'TJALFIELLA': 0.389716451493,\n",
    "'FUNGIACYATHUS_MARENZELLERI': 0.424597600764,\n",
    "'PENIAGONE_SP_2': 0.166666666667,\n",
    "'SYNALLACTIDAE': 0.627380952381,\n",
    "'PENIAGONE_SP_A': 0.987186066252,\n",
    "'PENIAGONE_VITRAE': 0.376280487988}"
   ]
  },
  {
   "cell_type": "code",
   "execution_count": 5,
   "metadata": {
    "ExecuteTime": {
     "end_time": "2017-08-02T18:19:56.100827Z",
     "start_time": "2017-08-02T18:19:56.089953Z"
    },
    "collapsed": true
   },
   "outputs": [],
   "source": [
    "keys = set(most_epoch_ap.keys()) & set(imagenet_ap.keys()) & set(test_imgs.keys()) & set(train_imgs.keys())"
   ]
  },
  {
   "cell_type": "code",
   "execution_count": 6,
   "metadata": {
    "ExecuteTime": {
     "end_time": "2017-08-02T18:19:56.157245Z",
     "start_time": "2017-08-02T18:19:56.115750Z"
    },
    "scrolled": true
   },
   "outputs": [
    {
     "name": "stdout",
     "output_type": "stream",
     "text": [
      " ,Number of Training Images, Number of Testing Images, Imagenet AP, Most Epoch AP\n",
      "SCOTOPLANES_GLOBOSA,365,63,0.899604662246,0.948805921186\n",
      "ONEIROPHANTA_MUTABILIS_COMPLEX,6,3,0.458815192744,0.248599910394\n",
      "PENIAGONE_SP_A,1108,453,0.978279800281,0.987186066252\n",
      "PENIAGONE_SP_2,12,1,0.166666666667,0.166666666667\n",
      "TJALFIELLA,230,66,0.494639502854,0.389716451493\n",
      "PENIAGONE_SP_1,111,2,0.0206598918637,0.0500641025641\n",
      "BENTHOCODON,569,286,0.805137016516,0.757451612353\n",
      "LONG_WHITE,8,3,0.2,0.183501683502\n",
      "PENIAGONE_PAPILLATA,14,10,0.7725,1.0\n",
      "ELPIDIA,493,13,0.0442176870748,0.102745995423\n",
      "PENIAGONE_VITRAE,360,93,0.292665667963,0.376280487988\n",
      "FUNGIACYATHUS_MARENZELLERI,64,13,0.386287047543,0.424597600764\n",
      "CYSTECHINUS_LOVENI,174,40,0.590778912159,0.643499906799\n",
      "ECHINOCREPIS,82,26,0.42133689736,0.786982162631\n",
      "SYNALLACTIDAE,30,5,0.821111111111,0.627380952381\n"
     ]
    }
   ],
   "source": [
    "print(\" ,Number of Training Images, Number of Testing Images, Imagenet AP, Most Epoch AP\")\n",
    "for key in keys:\n",
    "    num_train = train_imgs[key]\n",
    "    num_test  = test_imgs[key]\n",
    "    imgnet_ap = imagenet_ap[key]\n",
    "    max_epch_ap = most_epoch_ap[key]\n",
    "    print(\"{},{},{},{},{}\".format(key, num_train, num_test, imgnet_ap, max_epch_ap))"
   ]
  },
  {
   "cell_type": "code",
   "execution_count": 7,
   "metadata": {
    "ExecuteTime": {
     "end_time": "2017-08-02T18:19:56.183934Z",
     "start_time": "2017-08-02T18:19:56.170798Z"
    },
    "collapsed": true
   },
   "outputs": [],
   "source": [
    "all_keys = set(most_epoch_ap.keys()) | set(imagenet_ap.keys()) | set(test_imgs.keys()) | set(train_imgs.keys())"
   ]
  },
  {
   "cell_type": "code",
   "execution_count": 8,
   "metadata": {
    "ExecuteTime": {
     "end_time": "2017-08-02T18:19:56.193619Z",
     "start_time": "2017-08-02T18:19:56.187680Z"
    },
    "collapsed": true
   },
   "outputs": [],
   "source": [
    "all_keys.remove('bg')"
   ]
  },
  {
   "cell_type": "code",
   "execution_count": 9,
   "metadata": {
    "ExecuteTime": {
     "end_time": "2017-08-02T18:19:56.218503Z",
     "start_time": "2017-08-02T18:19:56.196041Z"
    }
   },
   "outputs": [
    {
     "data": {
      "text/plain": [
       "['PENIAGONE_PAPILLATA',\n",
       " 'PENIAGONE_VITRAE',\n",
       " 'FISH',\n",
       " 'FUNGIACYATHUS_MARENZELLERI',\n",
       " 'ECHINOCREPIS',\n",
       " 'ONEIROPHANTA_MUTABILIS_COMPLEX',\n",
       " 'ELPIDIA',\n",
       " 'TJALFIELLA',\n",
       " 'SCOTOPLANES_GLOBOSA',\n",
       " 'LONG_WHITE',\n",
       " 'CYSTECHINUS_LOVENI',\n",
       " 'SYNALLACTIDAE',\n",
       " 'PENIAGONE_SP_A',\n",
       " 'PENIAGONE_SP_2',\n",
       " 'PENIAGONE_SP_1',\n",
       " 'BENTHOCODON']"
      ]
     },
     "execution_count": 9,
     "metadata": {},
     "output_type": "execute_result"
    }
   ],
   "source": [
    "list(all_keys)"
   ]
  },
  {
   "cell_type": "code",
   "execution_count": null,
   "metadata": {
    "collapsed": true
   },
   "outputs": [],
   "source": []
  }
 ],
 "metadata": {
  "kernelspec": {
   "display_name": "Environment (conda_video-processing)",
   "language": "python",
   "name": "conda_video-processing"
  },
  "language_info": {
   "codemirror_mode": {
    "name": "ipython",
    "version": 3
   },
   "file_extension": ".py",
   "mimetype": "text/x-python",
   "name": "python",
   "nbconvert_exporter": "python",
   "pygments_lexer": "ipython3",
   "version": "3.6.1"
  }
 },
 "nbformat": 4,
 "nbformat_minor": 2
}
