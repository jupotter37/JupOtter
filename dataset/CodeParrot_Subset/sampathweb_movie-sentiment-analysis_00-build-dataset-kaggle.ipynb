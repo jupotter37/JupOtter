{
 "cells": [
  {
   "cell_type": "markdown",
   "metadata": {},
   "source": [
    "## Create the Movie Reviews Dataset to Host Competition\n",
    "\n",
    "\n",
    "* **Competition**: https://www.kaggle.com/c/movie-sentiment-analysis\n",
    "\n",
    "I built this tutorial and kaggle InClass competition to help participants learn and also practice building a sentiment classifier.\n",
    "\n",
    "\n",
    "* **SF Project Night**: https://www.meetup.com/sfpython/events/234956048/ \n",
    "\n",
    "* **Date**: Oct'18th 2017"
   ]
  },
  {
   "cell_type": "markdown",
   "metadata": {},
   "source": [
    "### Dataset\n",
    "\n",
    "This dataset of Movie Reviews is from Stanford AI group ( http://ai.stanford.edu/~amaas/data/sentiment/)\n",
    "\n",
    "This is a dataset for binary sentiment classification containing substantially more data than previous benchmark datasets. We provide a set of 25,000 highly polar movie reviews for training, and 25,000 for testing."
   ]
  },
  {
   "cell_type": "code",
   "execution_count": 2,
   "metadata": {
    "collapsed": true,
    "deletable": true,
    "editable": true
   },
   "outputs": [],
   "source": [
    "import os.path\n",
    "from glob import glob\n",
    "\n",
    "import numpy as np\n",
    "import pandas as pd\n",
    "from sklearn.utils import shuffle"
   ]
  },
  {
   "cell_type": "code",
   "execution_count": 2,
   "metadata": {
    "collapsed": true,
    "deletable": true,
    "editable": true
   },
   "outputs": [],
   "source": [
    "def extract_reviews_data(file_pattern):\n",
    "    \"\"\"Returns the extracted review texts from all files that match the pattern\"\"\"\n",
    "    data = []\n",
    "    for filename in glob(file_pattern):\n",
    "        with open(filename, \"rb\") as f:\n",
    "            review = f.read().decode(\"utf-8\")\n",
    "            doc_id = filename.split(\"/\")[-1].split(\".\")[0]\n",
    "            data.append({\n",
    "                \"review\": review\n",
    "            })\n",
    "    return data"
   ]
  },
  {
   "cell_type": "code",
   "execution_count": 3,
   "metadata": {
    "collapsed": false,
    "deletable": true,
    "editable": true
   },
   "outputs": [],
   "source": [
    "# Get the Train Data of Positive and Negative Reviews\n",
    "train_pos_dir = os.path.expanduser(\"~/datasets/movie-sentiment-analysis/aclImdb/train/pos/*.txt\")\n",
    "train_neg_dir = os.path.expanduser(\"~/datasets/movie-sentiment-analysis/aclImdb/train/neg/*.txt\")\n",
    "\n",
    "train_pos_data = extract_reviews_data(train_pos_dir)\n",
    "train_neg_data = extract_reviews_data(train_neg_dir)"
   ]
  },
  {
   "cell_type": "code",
   "execution_count": 4,
   "metadata": {
    "collapsed": false,
    "deletable": true,
    "editable": true
   },
   "outputs": [],
   "source": [
    "# Get the Test Data of Positive and Negative Reviews\n",
    "test_pos_dir = os.path.expanduser(\"~/datasets/movie-sentiment-analysis/aclImdb/test/pos/*.txt\")\n",
    "test_neg_dir = os.path.expanduser(\"~/datasets/movie-sentiment-analysis/aclImdb/test/neg/*.txt\")\n",
    "\n",
    "test_pos_data = extract_reviews_data(test_pos_dir)\n",
    "test_neg_data = extract_reviews_data(test_neg_dir)"
   ]
  },
  {
   "cell_type": "code",
   "execution_count": 7,
   "metadata": {
    "collapsed": false,
    "deletable": true,
    "editable": true
   },
   "outputs": [],
   "source": [
    "# Build the train.tsv file.  Positive Reviews are marked as 1 and Negative as 0\n",
    "# Data is shuffled before saving to file\n",
    "\n",
    "train_pos_df = pd.DataFrame(train_pos_data)\n",
    "train_pos_df[\"sentiment\"] = 1\n",
    "train_neg_df = pd.DataFrame(train_neg_data)\n",
    "train_neg_df[\"sentiment\"] = 0\n",
    "\n",
    "train_df = pd.concat([train_pos_df, train_neg_df], axis=0)\n",
    "train_df = shuffle(train_df)\n",
    "train_df[\"document_id\"] = np.arange(len(train_df))\n",
    "\n",
    "train_df[[\"document_id\", \"sentiment\", \"review\"]].to_csv(\"data/train.tsv\", sep=\"\\t\", index=False)"
   ]
  },
  {
   "cell_type": "code",
   "execution_count": 8,
   "metadata": {
    "collapsed": false,
    "deletable": true,
    "editable": true
   },
   "outputs": [],
   "source": [
    "# Build the test.tsv file.  Positive Reviews are marked as 1 and Negative as 0\n",
    "# Data is shuffled before saving to file\n",
    "\n",
    "test_pos_df = pd.DataFrame(test_pos_data)\n",
    "test_pos_df[\"sentiment\"] = 1\n",
    "test_neg_df = pd.DataFrame(test_neg_data)\n",
    "test_neg_df[\"sentiment\"] = 0\n",
    "\n",
    "test_df = pd.concat([test_pos_df, test_neg_df], axis=0)\n",
    "\n",
    "test_df = shuffle(test_df)\n",
    "test_df[\"document_id\"] = np.arange(len(test_df))\n",
    "\n",
    "test_df[[\"document_id\", \"review\"]].to_csv(\"data/test.tsv\", sep=\"\\t\", index=False)"
   ]
  },
  {
   "cell_type": "code",
   "execution_count": null,
   "metadata": {
    "collapsed": true
   },
   "outputs": [],
   "source": [
    "# Build the Solutions File to upload to Kaggle Competition\n",
    "test_df[[\"document_id\", \"sentiment\"]].to_csv(\"data/solutions_submission.csv\", index=False)"
   ]
  },
  {
   "cell_type": "code",
   "execution_count": null,
   "metadata": {
    "collapsed": true
   },
   "outputs": [],
   "source": [
    "# Create a Sample Submission File based on Random Guess (All Even reviews are Positive)\n",
    "#\n",
    "sample_submission_df = pd.DataFrame({\n",
    "    \"document_id\": np.arange(len(test_df))\n",
    "})\n",
    "\n",
    "sample_submission_df[\"sentiment\"] = sample_submission_df.index % 2\n",
    "sample_submission_df[[\"document_id\", \"sentiment\"]].to_csv(\"data/sample_submission.csv\", index=False)"
   ]
  },
  {
   "cell_type": "code",
   "execution_count": 15,
   "metadata": {
    "collapsed": false,
    "deletable": true,
    "editable": true
   },
   "outputs": [
    {
     "name": "stdout",
     "output_type": "stream",
     "text": [
      "document_id,sentiment\r\n",
      "0,0\r\n",
      "1,1\r\n",
      "2,0\r\n",
      "3,1\r\n",
      "4,0\r\n",
      "5,1\r\n",
      "6,0\r\n",
      "7,1\r\n",
      "8,0\r\n"
     ]
    }
   ],
   "source": [
    "!head data/sample_submission.csv"
   ]
  }
 ],
 "metadata": {
  "kernelspec": {
   "display_name": "Python 3",
   "language": "python",
   "name": "python3"
  },
  "language_info": {
   "codemirror_mode": {
    "name": "ipython",
    "version": 3
   },
   "file_extension": ".py",
   "mimetype": "text/x-python",
   "name": "python",
   "nbconvert_exporter": "python",
   "pygments_lexer": "ipython3",
   "version": "3.5.3"
  }
 },
 "nbformat": 4,
 "nbformat_minor": 2
}
