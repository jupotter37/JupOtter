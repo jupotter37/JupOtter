{
 "cells": [
  {
   "cell_type": "markdown",
   "metadata": {},
   "source": [
    "# Comparing `rust-fc` To Simulation Output\n",
    "\n",
    "The simulator proccessing code adds realisic noise to the IMU input before sending it to `rust-fc`.\n",
    "\n",
    "We'll compare the clean \"ideal\" simulator numbers to what was actually received by `rust-fc`"
   ]
  },
  {
   "cell_type": "code",
   "execution_count": null,
   "metadata": {
    "collapsed": false
   },
   "outputs": [],
   "source": [
    "import psas_packet\n",
    "from psas_packet.io import BinFile\n",
    "import csv\n",
    "import matplotlib.pyplot as plt\n",
    "from matplotlib import gridspec\n",
    "%matplotlib inline\n",
    "\n",
    "FPS2M = 0.3048\n",
    "LBF2N = 4.44822\n",
    "LBS2KG = 0.453592\n",
    "\n",
    "# Extend PSAS Packet to include our state message\n",
    "psas_packet.messages.MESSAGES[\"STAT\"] = psas_packet.messages.Message({\n",
    "    'name': \"State Vector\",\n",
    "    'fourcc': b'STAT',\n",
    "    'size': \"Fixed\",\n",
    "    'endianness': '!',\n",
    "    'members': [\n",
    "        {'key': \"time\",      'stype': \"Q\"},\n",
    "        {'key': \"accel\",     'stype': \"d\"},\n",
    "        {'key': \"vel\",       'stype': \"d\"},\n",
    "        {'key': \"alt\",       'stype': \"d\"},\n",
    "            {'key': \"roll_rate\",       'stype': \"d\"},\n",
    "            {'key': \"roll_angle\",       'stype': \"d\"},\n",
    "    ]\n",
    "})\n",
    "\n",
    "\n",
    "# Read data from rust-fc\n",
    "logfile = BinFile('../logfile-000')\n",
    "max_acc = 0\n",
    "rust_time = []\n",
    "rust_accel_x = []\n",
    "rust_accel_y = []\n",
    "rust_accel_z = []\n",
    "rust_state_time = []\n",
    "rust_vel = []\n",
    "rust_alt = []\n",
    "for fourcc, data in logfile.read():\n",
    "    if fourcc == 'ADIS':\n",
    "        if data['Acc_X'] > max_acc:\n",
    "            max_acc = data['Acc_X']\n",
    "            rust_t = data['timestamp']/1.0e9\n",
    "        rust_time.append(data['timestamp']/1.0e9)\n",
    "        rust_accel_x.append(data['Acc_X'])\n",
    "        rust_accel_y.append(data['Acc_Y'])\n",
    "        rust_accel_z.append(data['Acc_Z'])\n",
    "    if fourcc == 'STAT':\n",
    "        rust_state_time.append(data['timestamp']/1.0e9)\n",
    "        rust_vel.append(data['vel'])\n",
    "        rust_alt.append(data['alt'])\n",
    "\n",
    "# Read data from JSBSim\n",
    "max_accel = 0\n",
    "sim_time = []\n",
    "measured_accel_x = []\n",
    "sim_vel_up = []\n",
    "sim_alt = []\n",
    "with open('../simulation/data.csv') as datafile:\n",
    "    reader = csv.reader(datafile, delimiter=',')\n",
    "    for row in reader:\n",
    "        # ignore first line\n",
    "        if row[0][0] == 'T':\n",
    "            continue\n",
    "        sim_time.append(float(row[0]))\n",
    "        force_x = float(row[18]) * LBF2N\n",
    "        weight = float(row[6]) * LBS2KG\n",
    "        measured_accel_x.append(force_x/weight)\n",
    "        if (force_x/weight) > max_accel:\n",
    "            max_accel = force_x/weight\n",
    "            sim_t = sim_time[-1]\n",
    "        sim_vel_up.append(-float(row[10]) * FPS2M)\n",
    "        sim_alt.append(float(row[2]))\n",
    "\n",
    "# line up time\n",
    "sim_offset = rust_t - sim_t\n",
    "sim_time = [t + sim_offset for t in sim_time]"
   ]
  },
  {
   "cell_type": "markdown",
   "metadata": {},
   "source": [
    "## Message Receive Time\n",
    "\n",
    "In JSBSim the IMU messages are requested to be sent at the real IMU rate of 819.2 Hz:\n",
    "\n",
    "    <output name=\"localhost\" type=\"SOCKET\" protocol=\"UDP\" port=\"5123\" rate=\"819.2\">\n",
    "\n",
    "But there they are then processed in python for noise and binary packing. Then it's sent as UDP packets which may get lost. Let's see how they appear in the flight comptuer."
   ]
  },
  {
   "cell_type": "code",
   "execution_count": null,
   "metadata": {
    "collapsed": false
   },
   "outputs": [],
   "source": [
    "# Get the time difference between each ADIS message\n",
    "diff = [(rust_time[i+1] - t)*1000 for i, t in enumerate(rust_time[:-1])]\n",
    "\n",
    "fig, ax1 = plt.subplots(figsize=(18,7))\n",
    "plt.title(r\"rust-fc ADIS Message Interval\")\n",
    "plt.ylabel(r\"Time Since Last Sample [ms]\")\n",
    "plt.xlabel(r\"Sample Number [#]\")\n",
    "\n",
    "plt.plot(range(len(diff)), diff, 'r.', alpha=1.0, ms=0.3, label=\"rust-fc Sample Interval\")\n",
    "plt.plot((0, len(diff)), (1.2207, 1.2207), 'k-', lw=0.6, alpha=0.7, label=\"Expected Sample Interval\")\n",
    "\n",
    "ax1.set_yscale(\"log\", nonposy='clip')\n",
    "plt.ylim([0.1,100])\n",
    "#plt.xlim()\n",
    "ax1.legend(loc=1)\n",
    "plt.show()"
   ]
  },
  {
   "cell_type": "code",
   "execution_count": null,
   "metadata": {
    "collapsed": false
   },
   "outputs": [],
   "source": [
    "fig, ax1 = plt.subplots(figsize=(18,7))\n",
    "plt.title(r\"rust-fc ADIS Message Interval\")\n",
    "plt.ylabel(r\"Number of Samples [#]\")\n",
    "plt.xlabel(r\"Time Since Last Sample [ms]\")\n",
    "\n",
    "n, bins, patches = plt.hist(diff, 1000, histtype='step', normed=1, alpha=0.8, linewidth=1, fill=True)\n",
    "plt.plot((1.2207, 1.2207), (0, 1000), 'k-', lw=0.6, alpha=0.7, label=\"Expected Sample Interval\")\n",
    "\n",
    "plt.ylim([0, 35])\n",
    "#plt.xlim()\n",
    "ax1.legend(loc=1)\n",
    "plt.show()"
   ]
  },
  {
   "cell_type": "markdown",
   "metadata": {},
   "source": [
    "## IMU Noisy Acceleration\n",
    "\n",
    "Here we see the noise put into the IMU data and the true acceleration."
   ]
  },
  {
   "cell_type": "code",
   "execution_count": null,
   "metadata": {
    "collapsed": false
   },
   "outputs": [],
   "source": [
    "fig, ax1 = plt.subplots(figsize=(18,7))\n",
    "plt.title(r\"rust-fc Recorded IMU Acceleration\")\n",
    "plt.ylabel(r\"Acceleration [m/s${}^2$]\")\n",
    "plt.xlabel(r\"Run Time [s]\")\n",
    "\n",
    "plt.plot(rust_time, rust_accel_x, alpha=0.8, lw=0.5, label=\"rust-fc IMU 'Up'\")\n",
    "plt.plot(rust_time, rust_accel_y, alpha=0.8, lw=0.5, label=\"rust-fc IMU 'Y'\")\n",
    "plt.plot(rust_time, rust_accel_z, alpha=0.6, lw=0.5, label=\"rust-fc IMU 'Z'\")\n",
    "\n",
    "plt.plot(sim_time, measured_accel_x, 'k-', lw=1.3, alpha=0.6, label=\"JSBSim True Acceleration\")\n",
    "\n",
    "#plt.ylim()\n",
    "#plt.xlim()\n",
    "ax1.legend(loc=1)\n",
    "plt.show()"
   ]
  },
  {
   "cell_type": "markdown",
   "metadata": {},
   "source": [
    "## State Tracking\n",
    "\n",
    "The flight comptuer only knows the Inertial state (acceleration). It keeps track of velocity and altitude by integrating this signal. Here we compare `rust-fc` internal state to the exact numbers from the simulator."
   ]
  },
  {
   "cell_type": "code",
   "execution_count": null,
   "metadata": {
    "collapsed": false
   },
   "outputs": [],
   "source": [
    "# Computer difference from FC State and simulation \"real\" numbers\n",
    "\n",
    "sim_idx = 0\n",
    "vel = 0\n",
    "alt = 0\n",
    "i_count = 0\n",
    "sim_matched_vel = []\n",
    "vel_diff = []\n",
    "alt_diff = []\n",
    "for i, t in enumerate(rust_state_time):\n",
    "    vel += rust_vel[i]\n",
    "    alt += rust_alt[i]\n",
    "    i_count += 1\n",
    "    if sim_time[sim_idx] < t:\n",
    "        sim_matched_vel.append(vel/float(i_count))\n",
    "        vel_diff.append(sim_vel_up[sim_idx] - (vel/float(i_count)))\n",
    "        alt_diff.append(sim_alt[sim_idx] - (alt/float(i_count)))\n",
    "        vel = 0\n",
    "        alt = 0\n",
    "        i_count = 0\n",
    "        sim_idx += 1\n",
    "        if sim_idx > len(sim_time)-1:\n",
    "            break\n"
   ]
  },
  {
   "cell_type": "code",
   "execution_count": null,
   "metadata": {
    "collapsed": false
   },
   "outputs": [],
   "source": [
    "fig = plt.figure(figsize=(18,9))\n",
    "plt.subplots_adjust(hspace=0.001)   # no space between vertical charts\n",
    "gs = gridspec.GridSpec(2, 1, height_ratios=[2, 1]) # stretch main chart to be most of the width\n",
    "\n",
    "ax1 = plt.subplot(gs[0])\n",
    "plt.title(r\"rust-fc State Tracking: Velocity And Velocity Integration Error\")\n",
    "plt.ylabel(r\"Velocity [m/s]\")\n",
    "\n",
    "plt.plot(rust_state_time, rust_vel, alpha=0.8, lw=1.5, label=\"rust-fc State Vector Velocity\")\n",
    "plt.plot(sim_time, sim_vel_up, 'k-', lw=1.3, alpha=0.6, label=\"JSBSim True Velocity\")\n",
    "\n",
    "plt.ylim([-60,400])\n",
    "ticklabels = ax1.get_xticklabels()\n",
    "plt.setp(ticklabels, visible=False)\n",
    "\n",
    "ax2 = plt.subplot(gs[1])\n",
    "plt.xlabel(r\"Run Time [s]\")\n",
    "plt.ylabel(r\"Integration Drift Error [m/s]\")\n",
    "\n",
    "plt.plot(sim_time, vel_diff)\n",
    "\n",
    "ax1.legend(loc=1)\n",
    "plt.show()"
   ]
  },
  {
   "cell_type": "code",
   "execution_count": null,
   "metadata": {
    "collapsed": false
   },
   "outputs": [],
   "source": [
    "fig = plt.figure(figsize=(18,9))\n",
    "plt.subplots_adjust(hspace=0.001)   # no space between vertical charts\n",
    "gs = gridspec.GridSpec(2, 1, height_ratios=[2, 1]) # stretch main chart to be most of the width\n",
    "\n",
    "ax1 = plt.subplot(gs[0])\n",
    "plt.title(r\"rust-fc State Tracking: Altitude And ALtitude Integration Error\")\n",
    "plt.ylabel(r\"Altitude MSL [m]\")\n",
    "\n",
    "plt.plot(rust_state_time, rust_alt, alpha=0.8, lw=1.5, label=\"rust-fc State Vector Altitude\")\n",
    "plt.plot(sim_time, sim_alt, 'k-', lw=1.3, alpha=0.6, label=\"JSBSim True Velocity\")\n",
    "\n",
    "plt.ylim([1390, 7500])\n",
    "ticklabels = ax1.get_xticklabels()\n",
    "plt.setp(ticklabels, visible=False)\n",
    "\n",
    "ax2 = plt.subplot(gs[1])\n",
    "plt.xlabel(r\"Run Time [s]\")\n",
    "plt.ylabel(r\"Integration Drift Error [m]\")\n",
    "\n",
    "plt.plot(sim_time, alt_diff)\n",
    "\n",
    "#plt.xlim()\n",
    "ax1.legend(loc=1)\n",
    "plt.show()"
   ]
  },
  {
   "cell_type": "markdown",
   "metadata": {},
   "source": []
  }
 ],
 "metadata": {
  "kernelspec": {
   "display_name": "Python 3",
   "language": "python",
   "name": "python3"
  },
  "language_info": {
   "codemirror_mode": {
    "name": "ipython",
    "version": 3
   },
   "file_extension": ".py",
   "mimetype": "text/x-python",
   "name": "python",
   "nbconvert_exporter": "python",
   "pygments_lexer": "ipython3",
   "version": "3.5.1+"
  }
 },
 "nbformat": 4,
 "nbformat_minor": 0
}
