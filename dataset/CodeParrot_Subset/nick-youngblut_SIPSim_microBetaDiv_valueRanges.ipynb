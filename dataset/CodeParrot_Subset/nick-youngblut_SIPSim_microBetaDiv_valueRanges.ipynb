{
 "cells": [
  {
   "cell_type": "markdown",
   "metadata": {},
   "source": [
    "# Goal\n",
    "\n",
    "* Get values ranges for microBetaDiv simulation run\n",
    "  * values for MS"
   ]
  },
  {
   "cell_type": "markdown",
   "metadata": {},
   "source": [
    "# Setting paths"
   ]
  },
  {
   "cell_type": "code",
   "execution_count": 1,
   "metadata": {
    "collapsed": false
   },
   "outputs": [],
   "source": [
    "import os\n",
    "\n",
    "# paths\n",
    "workDir = '/home/nick/notebook/SIPSim/dev/bac_genome1147/'\n",
    "buildDir = os.path.join(workDir, 'microBetaDiv')\n",
    "R_dir = '/home/nick/notebook/SIPSim/lib/R/'\n",
    "\n",
    "fragFile = '/home/nick/notebook/SIPSim/dev/bac_genome1147/validation/ampFrags_kde.pkl'\n",
    "genome_index = '/var/seq_data/ncbi_db/genome/Jan2016/bac_complete_spec-rep1_rn/genome_index.txt'"
   ]
  },
  {
   "cell_type": "markdown",
   "metadata": {},
   "source": [
    "## Init"
   ]
  },
  {
   "cell_type": "code",
   "execution_count": 2,
   "metadata": {
    "collapsed": false
   },
   "outputs": [],
   "source": [
    "import glob\n",
    "import itertools\n",
    "import nestly"
   ]
  },
  {
   "cell_type": "code",
   "execution_count": 3,
   "metadata": {
    "collapsed": false
   },
   "outputs": [],
   "source": [
    "%load_ext rpy2.ipython\n",
    "%load_ext pushnote"
   ]
  },
  {
   "cell_type": "code",
   "execution_count": 4,
   "metadata": {
    "collapsed": false
   },
   "outputs": [
    {
     "name": "stderr",
     "output_type": "stream",
     "text": [
      "/opt/anaconda/lib/python2.7/site-packages/rpy2/robjects/functions.py:106: UserWarning: \n",
      "Attaching package: ‘dplyr’\n",
      "\n",
      "\n",
      "  res = super(Function, self).__call__(*new_args, **new_kwargs)\n",
      "/opt/anaconda/lib/python2.7/site-packages/rpy2/robjects/functions.py:106: UserWarning: The following objects are masked from ‘package:stats’:\n",
      "\n",
      "    filter, lag\n",
      "\n",
      "\n",
      "  res = super(Function, self).__call__(*new_args, **new_kwargs)\n",
      "/opt/anaconda/lib/python2.7/site-packages/rpy2/robjects/functions.py:106: UserWarning: The following objects are masked from ‘package:base’:\n",
      "\n",
      "    intersect, setdiff, setequal, union\n",
      "\n",
      "\n",
      "  res = super(Function, self).__call__(*new_args, **new_kwargs)\n",
      "/opt/anaconda/lib/python2.7/site-packages/rpy2/robjects/functions.py:106: UserWarning: \n",
      "Attaching package: ‘gridExtra’\n",
      "\n",
      "\n",
      "  res = super(Function, self).__call__(*new_args, **new_kwargs)\n",
      "/opt/anaconda/lib/python2.7/site-packages/rpy2/robjects/functions.py:106: UserWarning: The following object is masked from ‘package:dplyr’:\n",
      "\n",
      "    combine\n",
      "\n",
      "\n",
      "  res = super(Function, self).__call__(*new_args, **new_kwargs)\n"
     ]
    }
   ],
   "source": [
    "%%R\n",
    "library(ggplot2)\n",
    "library(dplyr)\n",
    "library(tidyr)\n",
    "library(gridExtra)"
   ]
  },
  {
   "cell_type": "markdown",
   "metadata": {},
   "source": [
    "# Getting results"
   ]
  },
  {
   "cell_type": "code",
   "execution_count": 5,
   "metadata": {
    "collapsed": false
   },
   "outputs": [
    {
     "data": {
      "text/plain": [
       "['/home/nick/notebook/SIPSim/dev/bac_genome1147/microBetaDiv/DESeq2-cMtx_byClass.txt',\n",
       " '/home/nick/notebook/SIPSim/dev/bac_genome1147/microBetaDiv/DESeq2_l2fcCut0.5-multi-cMtx_byClass.txt',\n",
       " '/home/nick/notebook/SIPSim/dev/bac_genome1147/microBetaDiv/qSIP-cMtx_byClass.txt',\n",
       " '/home/nick/notebook/SIPSim/dev/bac_genome1147/microBetaDiv/heavy-cMtx_byClass.txt',\n",
       " '/home/nick/notebook/SIPSim/dev/bac_genome1147/microBetaDiv/DESeq2_multi-cMtx_byClass.txt']"
      ]
     },
     "execution_count": 5,
     "metadata": {},
     "output_type": "execute_result"
    }
   ],
   "source": [
    "F = os.path.join(buildDir, '*-cMtx_byClass.txt')\n",
    "files = glob.glob(F)\n",
    "files"
   ]
  },
  {
   "cell_type": "code",
   "execution_count": 6,
   "metadata": {
    "collapsed": false
   },
   "outputs": [
    {
     "data": {
      "text/plain": [
       "  library      variables    values shared_perc perm_perc rep\n",
       "1       2    Sensitivity 0.5940594          80        20   7\n",
       "2       2    Specificity 0.9168421          80        20   7\n",
       "3       2 Pos Pred Value 0.4316547          80        20   7\n",
       "                     file method\n",
       "1 DESeq2-cMtx_byClass.txt DESeq2\n",
       "2 DESeq2-cMtx_byClass.txt DESeq2\n",
       "3 DESeq2-cMtx_byClass.txt DESeq2\n"
      ]
     },
     "metadata": {},
     "output_type": "display_data"
    }
   ],
   "source": [
    "%%R -i files\n",
    "\n",
    "df_byClass = list()\n",
    "for (f in files){\n",
    "    ff = strsplit(f, '/') %>% unlist\n",
    "    fff = ff[length(ff)]\n",
    "    df_byClass[[fff]] = read.delim(f, sep='\\t')\n",
    "}\n",
    "\n",
    "df_byClass = do.call(rbind, df_byClass)\n",
    "df_byClass$file = gsub('\\\\.[0-9]+$', '', rownames(df_byClass))\n",
    "df_byClass$method = gsub('-.+', '', df_byClass$file)\n",
    "rownames(df_byClass) = 1:nrow(df_byClass)\n",
    "df_byClass = filter(df_byClass, perm_perc <= 20)\n",
    "\n",
    "df_byClass %>% head(n=3)"
   ]
  },
  {
   "cell_type": "markdown",
   "metadata": {},
   "source": [
    "# min/max"
   ]
  },
  {
   "cell_type": "code",
   "execution_count": 7,
   "metadata": {
    "collapsed": false
   },
   "outputs": [
    {
     "data": {
      "text/plain": [
       "Source: local data frame [5 x 4]\n",
       "Groups: method [?]\n",
       "\n",
       "             method   variables   min_val   max_val\n",
       "              <chr>      <fctr>     <dbl>     <dbl>\n",
       "1            DESeq2 Specificity 0.8761805 1.0000000\n",
       "2 DESeq2_l2fcCut0.5 Specificity 0.8547190 1.0000000\n",
       "3      DESeq2_multi Specificity 0.8380567 1.0000000\n",
       "4             heavy Specificity 0.2867470 0.6331658\n",
       "5              qSIP Specificity 0.6984318 0.9818731\n"
      ]
     },
     "metadata": {},
     "output_type": "display_data"
    }
   ],
   "source": [
    "%%R\n",
    "df_byClass %>%\n",
    "    filter(variables == 'Specificity') %>%\n",
    "    group_by(method, variables) %>%\n",
    "    summarize(min_val = min(values, na.rm=TRUE),\n",
    "              max_val = max(values, na.rm=TRUE))"
   ]
  },
  {
   "cell_type": "code",
   "execution_count": 8,
   "metadata": {
    "collapsed": false
   },
   "outputs": [
    {
     "data": {
      "text/plain": [
       "Source: local data frame [5 x 4]\n",
       "Groups: method [?]\n",
       "\n",
       "             method   variables   min_val   max_val\n",
       "              <chr>      <fctr>     <dbl>     <dbl>\n",
       "1            DESeq2 Sensitivity 0.4368932 0.9036145\n",
       "2 DESeq2_l2fcCut0.5 Sensitivity 0.7169811 1.0000000\n",
       "3      DESeq2_multi Sensitivity 0.7373737 1.0000000\n",
       "4             heavy Sensitivity 0.7619048 1.0000000\n",
       "5              qSIP Sensitivity 0.5377358 1.0000000\n"
      ]
     },
     "metadata": {},
     "output_type": "display_data"
    }
   ],
   "source": [
    "%%R\n",
    "df_byClass %>%\n",
    "    filter(variables == 'Sensitivity') %>%\n",
    "    group_by(method, variables) %>%\n",
    "    summarize(min_val = min(values, na.rm=TRUE),\n",
    "              max_val = max(values, na.rm=TRUE))"
   ]
  },
  {
   "cell_type": "markdown",
   "metadata": {},
   "source": [
    "# mean +/- s.d."
   ]
  },
  {
   "cell_type": "code",
   "execution_count": 9,
   "metadata": {
    "collapsed": false
   },
   "outputs": [
    {
     "data": {
      "text/plain": [
       "Source: local data frame [5 x 4]\n",
       "Groups: method [?]\n",
       "\n",
       "             method   variables  mean_val     sd_val\n",
       "              <chr>      <fctr>     <dbl>      <dbl>\n",
       "1            DESeq2 Specificity 0.9436168 0.02409554\n",
       "2 DESeq2_l2fcCut0.5 Specificity 0.9376568 0.03057763\n",
       "3      DESeq2_multi Specificity 0.9283780 0.03370445\n",
       "4             heavy Specificity 0.4829208 0.05901246\n",
       "5              qSIP Specificity 0.9002039 0.05484518\n"
      ]
     },
     "metadata": {},
     "output_type": "display_data"
    }
   ],
   "source": [
    "%%R\n",
    "df_byClass %>%\n",
    "    filter(variables == 'Specificity') %>%\n",
    "    group_by(method, variables) %>%\n",
    "    summarize(mean_val = mean(values, na.rm=TRUE),\n",
    "              sd_val = sd(values, na.rm=TRUE))"
   ]
  },
  {
   "cell_type": "code",
   "execution_count": 10,
   "metadata": {
    "collapsed": false
   },
   "outputs": [
    {
     "data": {
      "text/plain": [
       "Source: local data frame [5 x 4]\n",
       "Groups: method [?]\n",
       "\n",
       "             method   variables  mean_val     sd_val\n",
       "              <chr>      <fctr>     <dbl>      <dbl>\n",
       "1            DESeq2 Sensitivity 0.6444863 0.08562299\n",
       "2 DESeq2_l2fcCut0.5 Sensitivity 0.8623038 0.07178682\n",
       "3      DESeq2_multi Sensitivity 0.8670507 0.06916366\n",
       "4             heavy Sensitivity 0.8843186 0.06473706\n",
       "5              qSIP Sensitivity 0.7374046 0.11817601\n"
      ]
     },
     "metadata": {},
     "output_type": "display_data"
    }
   ],
   "source": [
    "%%R\n",
    "df_byClass %>%\n",
    "    filter(variables == 'Sensitivity') %>%\n",
    "    group_by(method, variables) %>%\n",
    "    summarize(mean_val = mean(values, na.rm=TRUE),\n",
    "              sd_val = sd(values, na.rm=TRUE))"
   ]
  },
  {
   "cell_type": "markdown",
   "metadata": {},
   "source": [
    "# mean +/- s.d. (by params)"
   ]
  },
  {
   "cell_type": "code",
   "execution_count": 8,
   "metadata": {
    "collapsed": false
   },
   "outputs": [
    {
     "data": {
      "text/plain": [
       "   method   variables shared_perc perm_perc  mean_val     sd_val\n",
       "1    qSIP Specificity         100        15 0.8578252 0.05452097\n",
       "2    qSIP Specificity         100        10 0.8610767 0.07027121\n",
       "3    qSIP Specificity         100        20 0.8696673 0.04016473\n",
       "4    qSIP Specificity          95        10 0.8750393 0.05087529\n",
       "5    qSIP Specificity          90        20 0.8864501 0.04312228\n",
       "6    qSIP Specificity         100         5 0.8870155 0.07076713\n",
       "7    qSIP Specificity          95        15 0.8899009 0.04000713\n",
       "8    qSIP Specificity          85        10 0.8921552 0.05463595\n",
       "9    qSIP Specificity          80        10 0.8933374 0.06100142\n",
       "10   qSIP Specificity          90         5 0.8945461 0.05550165\n",
       "11   qSIP Specificity          95         5 0.8952365 0.07230950\n",
       "12   qSIP Specificity          85        20 0.8961290 0.05672697\n",
       "13   qSIP Specificity          90        15 0.8980968 0.06084383\n",
       "14   qSIP Specificity          80         5 0.9054185 0.04751081\n",
       "15   qSIP Specificity          85        15 0.9072644 0.04392689\n",
       "16   qSIP Specificity          95        20 0.9078017 0.06382407\n",
       "17   qSIP Specificity          80        20 0.9119918 0.04781756\n",
       "18   qSIP Specificity          95         0 0.9121775 0.03901323\n",
       "19   qSIP Specificity         100         0 0.9152231 0.04975427\n",
       "20   qSIP Specificity          90         0 0.9202989 0.04838376\n",
       "21   qSIP Specificity          80        15 0.9217062 0.04433629\n",
       "22   qSIP Specificity          90        10 0.9246495 0.04682681\n",
       "23   qSIP Specificity          85         5 0.9251176 0.03179668\n",
       "24   qSIP Specificity          80         0 0.9276176 0.03548019\n",
       "25   qSIP Specificity          85         0 0.9293541 0.04049040\n"
      ]
     },
     "metadata": {},
     "output_type": "display_data"
    }
   ],
   "source": [
    "%%R\n",
    "df_byClass %>%\n",
    "    filter(variables == 'Specificity',\n",
    "           method=='qSIP') %>%\n",
    "    group_by(method, variables, shared_perc, perm_perc) %>%\n",
    "    summarize(mean_val = mean(values, na.rm=TRUE),\n",
    "              sd_val = sd(values, na.rm=TRUE)) %>%\n",
    "    arrange(mean_val) %>%\n",
    "    as.data.frame"
   ]
  },
  {
   "cell_type": "code",
   "execution_count": 9,
   "metadata": {
    "collapsed": false
   },
   "outputs": [
    {
     "data": {
      "text/plain": [
       "   method   variables shared_perc perm_perc  mean_val     sd_val\n",
       "1    qSIP Sensitivity          80        15 0.6179407 0.02374451\n",
       "2    qSIP Sensitivity          80        20 0.6331728 0.04369966\n",
       "3    qSIP Sensitivity          80        10 0.6348964 0.03625015\n",
       "4    qSIP Sensitivity          85         0 0.6457721 0.03598500\n",
       "5    qSIP Sensitivity          85        10 0.6459374 0.05489723\n",
       "6    qSIP Sensitivity          80         5 0.6486920 0.04008792\n",
       "7    qSIP Sensitivity          80         0 0.6503242 0.04281886\n",
       "8    qSIP Sensitivity          85         5 0.6569599 0.04067362\n",
       "9    qSIP Sensitivity          85        15 0.6651051 0.02761506\n",
       "10   qSIP Sensitivity          85        20 0.6666168 0.04769413\n",
       "11   qSIP Sensitivity          90         5 0.6947537 0.01960167\n",
       "12   qSIP Sensitivity          90        15 0.7030872 0.02989937\n",
       "13   qSIP Sensitivity          90        20 0.7080290 0.03330200\n",
       "14   qSIP Sensitivity          90         0 0.7103585 0.03044823\n",
       "15   qSIP Sensitivity          90        10 0.7140962 0.05075187\n",
       "16   qSIP Sensitivity          95         5 0.7173819 0.03749605\n",
       "17   qSIP Sensitivity          95        15 0.7238655 0.04690307\n",
       "18   qSIP Sensitivity          95        20 0.7348206 0.02857758\n",
       "19   qSIP Sensitivity          95         0 0.7556593 0.04552502\n",
       "20   qSIP Sensitivity          95        10 0.7597457 0.03589931\n",
       "21   qSIP Sensitivity         100         5 0.9406894 0.02736742\n",
       "22   qSIP Sensitivity         100        15 0.9442823 0.03504697\n",
       "23   qSIP Sensitivity         100        10 0.9474809 0.01864351\n",
       "24   qSIP Sensitivity         100        20 0.9506753 0.02259105\n",
       "25   qSIP Sensitivity         100         0 0.9647720 0.02194082\n"
      ]
     },
     "metadata": {},
     "output_type": "display_data"
    }
   ],
   "source": [
    "%%R\n",
    "df_byClass %>%\n",
    "    filter(variables == 'Sensitivity',\n",
    "           method=='qSIP') %>%\n",
    "    group_by(method, variables, shared_perc, perm_perc) %>%\n",
    "    summarize(mean_val = mean(values, na.rm=TRUE),\n",
    "              sd_val = sd(values, na.rm=TRUE)) %>%\n",
    "    arrange(mean_val) %>%\n",
    "    as.data.frame"
   ]
  },
  {
   "cell_type": "markdown",
   "metadata": {},
   "source": [
    "# Difference between qSIP and MW-HR-SIP"
   ]
  },
  {
   "cell_type": "code",
   "execution_count": 12,
   "metadata": {
    "collapsed": false
   },
   "outputs": [
    {
     "data": {
      "text/plain": [
       "   mean_diff\n",
       "1 0.04341295\n"
      ]
     },
     "metadata": {},
     "output_type": "display_data"
    }
   ],
   "source": [
    "%%R\n",
    "df_byClass %>%\n",
    "    dplyr::select(-file) %>%\n",
    "    group_by(method, variables, shared_perc, perm_perc) %>%\n",
    "    summarize(mean_val = mean(values, na.rm=TRUE)) %>%\n",
    "    ungroup() %>%\n",
    "    filter(variables %in% c('Specificity'),\n",
    "           method %in% c('qSIP', 'DESeq2')) %>%\n",
    "    spread(method, mean_val) %>% \n",
    "    mutate(diff = DESeq2 - qSIP) %>%\n",
    "    arrange(diff) %>%\n",
    "    summarize(mean_diff = mean(diff)) %>%\n",
    "    as.data.frame"
   ]
  },
  {
   "cell_type": "code",
   "execution_count": null,
   "metadata": {
    "collapsed": true
   },
   "outputs": [],
   "source": []
  }
 ],
 "metadata": {
  "hide_input": true,
  "kernelspec": {
   "display_name": "Python 2",
   "language": "python",
   "name": "python2"
  },
  "language_info": {
   "codemirror_mode": {
    "name": "ipython",
    "version": 2
   },
   "file_extension": ".py",
   "mimetype": "text/x-python",
   "name": "python",
   "nbconvert_exporter": "python",
   "pygments_lexer": "ipython2",
   "version": "2.7.11"
  }
 },
 "nbformat": 4,
 "nbformat_minor": 0
}
