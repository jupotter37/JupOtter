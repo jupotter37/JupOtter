{
 "cells": [
  {
   "cell_type": "markdown",
   "metadata": {},
   "source": [
    "# Evaluating Parameter Interdependence"
   ]
  },
  {
   "cell_type": "markdown",
   "metadata": {},
   "source": [
    "##### Test run on 10/29/15 by Ed Bokhour. \n",
    "\n",
    "Using SD PCB Interface Board serial number 002, SD PCB Driver Board serial number 002, and SD PCB Video Board serial number 001.  Running with new wrapper (FPE_Wrapper_6.1.2, for San Diego PCBs, dated 10/19/15."
   ]
  },
  {
   "cell_type": "markdown",
   "metadata": {},
   "source": [
    "### Set up the FPE"
   ]
  },
  {
   "cell_type": "markdown",
   "metadata": {},
   "source": [
    "Remember that whenever you power-cycle the Observatory Simulator, you should set preload=True below.\n",
    "\n",
    "When you are running this notbook and it has not been power cycled, you should set preload=False."
   ]
  },
  {
   "cell_type": "code",
   "execution_count": null,
   "metadata": {
    "collapsed": false
   },
   "outputs": [],
   "source": [
    "from tessfpe.dhu.fpe import FPE\n",
    "from tessfpe.dhu.unit_tests import check_house_keeping_voltages\n",
    "import time\n",
    "fpe1 = FPE(1, debug=False, preload=False, FPE_Wrapper_version='6.1.2')\n",
    "print fpe1.version\n",
    "time.sleep(.01)\n",
    "if check_house_keeping_voltages(fpe1):\n",
    "    print \"Wrapper load complete. Interface voltages OK.\""
   ]
  },
  {
   "cell_type": "markdown",
   "metadata": {},
   "source": [
    "Set the operating parameters to the default values:"
   ]
  },
  {
   "cell_type": "code",
   "execution_count": null,
   "metadata": {
    "collapsed": false
   },
   "outputs": [],
   "source": [
    "def set_fpe_defaults(fpe):\n",
    "    \"Set the FPE to the default operating parameters, and outputs a table of the default values\"\n",
    "    defaults = {}\n",
    "    for k in range(len(fpe.ops.address)):\n",
    "        if fpe.ops.address[k] is None:\n",
    "            continue\n",
    "        fpe.ops.address[k].value = fpe.ops.address[k].default\n",
    "        defaults[fpe.ops.address[k].name] = fpe.ops.address[k].default\n",
    "    return defaults"
   ]
  },
  {
   "cell_type": "markdown",
   "metadata": {},
   "source": [
    "Get, sort, and print the default operating parameters:"
   ]
  },
  {
   "cell_type": "code",
   "execution_count": null,
   "metadata": {
    "collapsed": false
   },
   "outputs": [],
   "source": [
    "from tessfpe.data.operating_parameters import operating_parameters"
   ]
  },
  {
   "cell_type": "code",
   "execution_count": null,
   "metadata": {
    "collapsed": false,
    "scrolled": true
   },
   "outputs": [],
   "source": [
    "for k in sorted(operating_parameters.keys()):\n",
    "    v = operating_parameters[k]\n",
    "    print k, \":\", v[\"default\"], v[\"unit\"]"
   ]
  },
  {
   "cell_type": "markdown",
   "metadata": {},
   "source": [
    "Take a number of sets of housekeeping data, with one operating parameter varying across it's control range, then repeat for every operating parameter:"
   ]
  },
  {
   "cell_type": "code",
   "execution_count": null,
   "metadata": {
    "collapsed": true
   },
   "outputs": [],
   "source": [
    "def get_base_name(name):\n",
    "    import re\n",
    "    if '_offset' not in name:\n",
    "        return None\n",
    "    offset_name = name\n",
    "    derived_parameter_name = name.replace('_offset', '')\n",
    "    base_name = None\n",
    "    if 'low' in derived_parameter_name:\n",
    "        base_name = derived_parameter_name.replace('low', 'high')            \n",
    "    if 'high' in derived_parameter_name:\n",
    "        base_name = derived_parameter_name.replace('high', 'low')\n",
    "    if 'output_drain' in derived_parameter_name:\n",
    "            base_name = re.sub(r'output_drain_._offset$', 'reset_drain', offset_name)\n",
    "    return base_name"
   ]
  },
  {
   "cell_type": "code",
   "execution_count": null,
   "metadata": {
    "collapsed": true
   },
   "outputs": [],
   "source": [
    "def get_derived_parameter_name(name):\n",
    "    if '_offset' not in name:\n",
    "        return None\n",
    "    offset_name = name\n",
    "    return name.replace('_offset', '')"
   ]
  },
  {
   "cell_type": "code",
   "execution_count": null,
   "metadata": {
    "collapsed": false
   },
   "outputs": [],
   "source": [
    "data = {}\n",
    "\n",
    "base_steps = 15\n",
    "\n",
    "offset_steps = 5\n",
    "\n",
    "set_fpe_defaults(fpe1)\n",
    "for i in range(base_steps,0,-1):\n",
    "    for j in range(offset_steps, 0, -1):\n",
    "        for k in range(len(fpe1.ops.address)):\n",
    "            # If there's no operating parameter to set, go on to the next one\n",
    "            if fpe1.ops.address[k] is None:\n",
    "                continue\n",
    "            name = fpe1.ops.address[k].name\n",
    "            base_name = get_base_name(name)\n",
    "            derived_parameter_name = get_derived_parameter_name(name)\n",
    "            # If there's no derived parameter reflecting this parameter, go on to the next one\n",
    "            if derived_parameter_name is None:\n",
    "                continue\n",
    "            offset_name = name\n",
    "            base_low = fpe1.ops[base_name].low\n",
    "            base_high = fpe1.ops[base_name].high\n",
    "            offset_low = fpe1.ops[offset_name].low\n",
    "            offset_high = fpe1.ops[offset_name].high\n",
    "            base_value = base_low + i / float(base_steps) * (base_high - base_low)\n",
    "            fpe1.ops[base_name].value = base_value\n",
    "            fpe1.ops[offset_name].value = offset_low + j / float(offset_steps) * (offset_high - offset_low)\n",
    "        fpe1.ops.send()\n",
    "        analogue_house_keeping = fpe1.house_keeping[\"analogue\"]\n",
    "        for k in range(len(fpe1.ops.address)):\n",
    "            # If there's no operating parameter to set, go on to the next one\n",
    "            if fpe1.ops.address[k] is None:\n",
    "                continue\n",
    "            name = fpe1.ops.address[k].name\n",
    "            base_name = get_base_name(name)\n",
    "            derived_parameter_name = get_derived_parameter_name(name)\n",
    "            if derived_parameter_name is None:\n",
    "                continue\n",
    "            if derived_parameter_name not in data:\n",
    "                data[derived_parameter_name] = {}\n",
    "            offset_name = name\n",
    "            base_low = fpe1.ops[base_name].low\n",
    "            base_high = fpe1.ops[base_name].high\n",
    "            offset_low = fpe1.ops[offset_name].low\n",
    "            offset_high = fpe1.ops[offset_name].high\n",
    "            base_value = base_low + i / float(base_steps) * (base_high - base_low)\n",
    "            if base_value not in data[derived_parameter_name]:\n",
    "                data[derived_parameter_name][base_value] = {\"X\": [], \"Y\": []}\n",
    "            data[derived_parameter_name][base_value][\"X\"].append(fpe1.ops[base_name].value + \n",
    "                                                                 fpe1.ops[offset_name].value)\n",
    "            data[derived_parameter_name][base_value][\"Y\"].append(analogue_house_keeping[derived_parameter_name])"
   ]
  },
  {
   "cell_type": "markdown",
   "metadata": {},
   "source": [
    "### Set up to plot:"
   ]
  },
  {
   "cell_type": "code",
   "execution_count": null,
   "metadata": {
    "collapsed": true
   },
   "outputs": [],
   "source": [
    "%matplotlib inline\n",
    "%config InlineBackend.figure_format = 'svg'\n",
    "import numpy as np\n",
    "import matplotlib.pyplot as plt\n",
    "import pylab"
   ]
  },
  {
   "cell_type": "markdown",
   "metadata": {},
   "source": [
    "### Plot selected data:"
   ]
  },
  {
   "cell_type": "code",
   "execution_count": null,
   "metadata": {
    "collapsed": true
   },
   "outputs": [],
   "source": [
    "def get_range_square(X,Y):\n",
    "    return [min(X + Y)-1, max(X + Y)+1]"
   ]
  },
  {
   "cell_type": "code",
   "execution_count": null,
   "metadata": {
    "collapsed": false
   },
   "outputs": [],
   "source": [
    "# Plot the set vs. measured values of selected channels:\n",
    "for nom in sorted(data.keys()):\n",
    "    print nom\n",
    "    for base_value in sorted(data[nom].keys()):\n",
    "        print base_value\n",
    "        X = data[nom][base_value][\"X\"]\n",
    "        Y = data[nom][base_value][\"Y\"]\n",
    "        ran = get_range_square(X,Y)\n",
    "        pylab.ylim(ran)\n",
    "        pylab.xlim(ran)\n",
    "        pylab.grid(True)\n",
    "        plt.axes().set_aspect(1)\n",
    "        plt.title(\"{derived_param} with base {base}\".format(\n",
    "                derived_param=nom,\n",
    "                base=base_value\n",
    "            ))\n",
    "        plt.scatter(X,Y,color='red')\n",
    "        plt.plot(X,Y,color='blue')\n",
    "        plt.show()"
   ]
  },
  {
   "cell_type": "code",
   "execution_count": null,
   "metadata": {
    "collapsed": true
   },
   "outputs": [],
   "source": []
  }
 ],
 "metadata": {
  "kernelspec": {
   "display_name": "Python 2",
   "language": "python",
   "name": "python2"
  },
  "language_info": {
   "codemirror_mode": {
    "name": "ipython",
    "version": 2
   },
   "file_extension": ".py",
   "mimetype": "text/x-python",
   "name": "python",
   "nbconvert_exporter": "python",
   "pygments_lexer": "ipython2",
   "version": "2.7.10"
  }
 },
 "nbformat": 4,
 "nbformat_minor": 0
}
