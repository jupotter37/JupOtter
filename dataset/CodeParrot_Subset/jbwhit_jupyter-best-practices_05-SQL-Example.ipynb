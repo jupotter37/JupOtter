{
 "cells": [
  {
   "cell_type": "markdown",
   "metadata": {},
   "source": [
    "# SQL\n",
    "\n",
    "Accessing data stored in databases is a routine exercise. I demonstrate a few helpful methods in the Jupyter Notebook."
   ]
  },
  {
   "cell_type": "code",
   "execution_count": null,
   "metadata": {
    "ExecuteTime": {
     "end_time": "2020-09-18T00:26:51.405716Z",
     "start_time": "2020-09-18T00:26:50.925113Z"
    },
    "execution_event_id": "2ec79e0e-71ba-43d0-8d0c-ff263de2ec98",
    "last_executed_text": "%load_ext sql_magic",
    "persistent_id": "36ba17ea-27a3-46d6-9cd2-5b3148ce5778"
   },
   "outputs": [],
   "source": [
    "%load_ext sql_magic"
   ]
  },
  {
   "cell_type": "code",
   "execution_count": null,
   "metadata": {
    "ExecuteTime": {
     "end_time": "2020-09-18T00:26:51.414545Z",
     "start_time": "2020-09-18T00:26:51.407304Z"
    },
    "execution_event_id": "43202f23-5cc8-4e02-8140-efee681b2eb8",
    "last_executed_text": "import sqlalchemy\nimport pandas as pd\nimport sqlite3\nfrom sqlalchemy import create_engine\nsqlite_engine = create_engine('sqlite://')",
    "persistent_id": "d22c6ac4-f6d4-497e-897e-6cc6fac1be75"
   },
   "outputs": [],
   "source": [
    "import sqlalchemy\n",
    "import pandas as pd\n",
    "import sqlite3\n",
    "from sqlalchemy import create_engine\n",
    "sqlite_engine = create_engine('sqlite://')"
   ]
  },
  {
   "cell_type": "code",
   "execution_count": null,
   "metadata": {
    "ExecuteTime": {
     "end_time": "2020-09-18T00:26:51.492310Z",
     "start_time": "2020-09-18T00:26:51.485923Z"
    },
    "execution_event_id": "572835ca-e405-4259-89f6-b40d6d543a44",
    "last_executed_text": "%config SQL.conn_name = \"sqlite_engine\"",
    "persistent_id": "1066823e-b404-4b0f-91d7-ea6f69361caf"
   },
   "outputs": [],
   "source": [
    "%config SQL.conn_name = \"sqlite_engine\""
   ]
  },
  {
   "cell_type": "code",
   "execution_count": null,
   "metadata": {
    "ExecuteTime": {
     "end_time": "2020-09-18T00:26:51.783232Z",
     "start_time": "2020-09-18T00:26:51.778292Z"
    },
    "execution_event_id": "6fd35a9b-661d-4abf-8254-16402bca3337",
    "last_executed_text": "%config SQL",
    "persistent_id": "8e73eda9-863a-4869-87fc-86f1c0f90054"
   },
   "outputs": [],
   "source": [
    "%config SQL"
   ]
  },
  {
   "cell_type": "code",
   "execution_count": null,
   "metadata": {
    "ExecuteTime": {
     "end_time": "2020-09-18T00:26:52.076008Z",
     "start_time": "2020-09-18T00:26:52.069939Z"
    },
    "execution_event_id": "eb41e676-5710-4044-b298-2d5c62fb2ee0",
    "last_executed_text": "%config SQL.output_result = False",
    "persistent_id": "7dab401a-31a6-42f1-9dbe-58b3da420e58"
   },
   "outputs": [],
   "source": [
    "%config SQL.output_result = False"
   ]
  },
  {
   "cell_type": "markdown",
   "metadata": {},
   "source": [
    "```SQL\n",
    "CREATE TABLE presidents (first_name, last_name, year_of_birth);\n",
    "INSERT INTO presidents VALUES ('George', 'Washington', 1732);\n",
    "INSERT INTO presidents VALUES ('John', 'Adams', 1735);\n",
    "INSERT INTO presidents VALUES ('Thomas', 'Jefferson', 1743);\n",
    "INSERT INTO presidents VALUES ('James', 'Madison', 1751);\n",
    "INSERT INTO presidents VALUES ('James', 'Monroe', 1758);\n",
    "INSERT INTO presidents VALUES ('Zachary', 'Taylor', 1784);\n",
    "INSERT INTO presidents VALUES ('Abraham', 'Lincoln', 1809);\n",
    "INSERT INTO presidents VALUES ('Theodore', 'Roosevelt', 1858);\n",
    "INSERT INTO presidents VALUES ('Richard', 'Nixon', 1913);\n",
    "INSERT INTO presidents VALUES ('Barack', 'Obama', 1961);\n",
    "```"
   ]
  },
  {
   "cell_type": "code",
   "execution_count": null,
   "metadata": {
    "ExecuteTime": {
     "end_time": "2020-09-18T00:26:52.944903Z",
     "start_time": "2020-09-18T00:26:52.902112Z"
    },
    "execution_event_id": "7159cdd3-1e6c-4f9d-8018-2fcdd8cc3e0f",
    "last_executed_text": "%%read_sql temp\nCREATE TABLE presidents (first_name, last_name, year_of_birth);\nINSERT INTO presidents VALUES ('George', 'Washington', 1732);\nINSERT INTO presidents VALUES ('John', 'Adams', 1735);\nINSERT INTO presidents VALUES ('Thomas', 'Jefferson', 1743);\nINSERT INTO presidents VALUES ('James', 'Madison', 1751);\nINSERT INTO presidents VALUES ('James', 'Monroe', 1758);\nINSERT INTO presidents VALUES ('Zachary', 'Taylor', 1784);\nINSERT INTO presidents VALUES ('Abraham', 'Lincoln', 1809);\nINSERT INTO presidents VALUES ('Theodore', 'Roosevelt', 1858);\nINSERT INTO presidents VALUES ('Richard', 'Nixon', 1913);\nINSERT INTO presidents VALUES ('Barack', 'Obama', 1961);",
    "persistent_id": "ed983a67-487c-466b-9a1e-d9aef7211709"
   },
   "outputs": [],
   "source": [
    "%%read_sql temp\n",
    "CREATE TABLE presidents (first_name, last_name, year_of_birth);\n",
    "INSERT INTO presidents VALUES ('George', 'Washington', 1732);\n",
    "INSERT INTO presidents VALUES ('John', 'Adams', 1735);\n",
    "INSERT INTO presidents VALUES ('Thomas', 'Jefferson', 1743);\n",
    "INSERT INTO presidents VALUES ('James', 'Madison', 1751);\n",
    "INSERT INTO presidents VALUES ('James', 'Monroe', 1758);\n",
    "INSERT INTO presidents VALUES ('Zachary', 'Taylor', 1784);\n",
    "INSERT INTO presidents VALUES ('Abraham', 'Lincoln', 1809);\n",
    "INSERT INTO presidents VALUES ('Theodore', 'Roosevelt', 1858);\n",
    "INSERT INTO presidents VALUES ('Richard', 'Nixon', 1913);\n",
    "INSERT INTO presidents VALUES ('Barack', 'Obama', 1961);"
   ]
  },
  {
   "cell_type": "code",
   "execution_count": null,
   "metadata": {
    "ExecuteTime": {
     "end_time": "2020-09-18T00:27:39.718558Z",
     "start_time": "2020-09-18T00:27:39.711930Z"
    },
    "execution_event_id": "0af5869c-f0c7-4412-a095-ece90115b14a",
    "last_executed_text": "%%read_sql df\nSELECT * FROM presidents",
    "persistent_id": "e85fa811-00eb-4681-8de7-013f84ea8ab1"
   },
   "outputs": [],
   "source": [
    "%%read_sql df\n",
    "SELECT * FROM presidents"
   ]
  },
  {
   "cell_type": "code",
   "execution_count": null,
   "metadata": {
    "ExecuteTime": {
     "end_time": "2020-09-18T00:27:41.269197Z",
     "start_time": "2020-09-18T00:27:41.263700Z"
    },
    "execution_event_id": "58a86eb5-5158-4f26-9e53-3dc07d2ebc08",
    "last_executed_text": "df",
    "persistent_id": "48ebccc7-11e8-4b48-a87a-6b52cd39c065"
   },
   "outputs": [],
   "source": [
    "df"
   ]
  },
  {
   "cell_type": "markdown",
   "metadata": {},
   "source": [
    "## Inline magic"
   ]
  },
  {
   "cell_type": "code",
   "execution_count": null,
   "metadata": {
    "ExecuteTime": {
     "end_time": "2020-09-18T00:26:54.768023Z",
     "start_time": "2020-09-18T00:26:54.759113Z"
    },
    "execution_event_id": "be82f8b1-a764-4db5-b2c8-8d2ac0a46299",
    "last_executed_text": "later_presidents = %read_sql SELECT * FROM presidents WHERE year_of_birth > 1825\nlater_presidents",
    "persistent_id": "86729aac-9308-4f2e-afb8-4affad126628"
   },
   "outputs": [],
   "source": [
    "later_presidents = %read_sql SELECT * FROM presidents WHERE year_of_birth > 1825\n",
    "later_presidents"
   ]
  },
  {
   "cell_type": "code",
   "execution_count": null,
   "metadata": {
    "ExecuteTime": {
     "end_time": "2020-09-18T00:26:55.202071Z",
     "start_time": "2020-09-18T00:26:55.195683Z"
    },
    "execution_event_id": "be82f8b1-a764-4db5-b2c8-8d2ac0a46299",
    "last_executed_text": "later_presidents = %read_sql SELECT * FROM presidents WHERE year_of_birth > 1825\nlater_presidents",
    "persistent_id": "86729aac-9308-4f2e-afb8-4affad126628"
   },
   "outputs": [],
   "source": [
    "%%read_sql later_presidents\n",
    "SELECT * FROM presidents WHERE year_of_birth > 1825"
   ]
  },
  {
   "cell_type": "markdown",
   "metadata": {},
   "source": [
    "## Through pandas directly"
   ]
  },
  {
   "cell_type": "code",
   "execution_count": null,
   "metadata": {
    "ExecuteTime": {
     "end_time": "2020-09-18T00:26:56.583339Z",
     "start_time": "2020-09-18T00:26:56.581591Z"
    },
    "execution_event_id": "69e08433-4088-49d8-9761-637e40df3f51",
    "last_executed_text": "birthyear = 1800",
    "persistent_id": "242e6d6a-d650-4692-a51b-b19f6386fefc"
   },
   "outputs": [],
   "source": [
    "birthyear = 1800"
   ]
  },
  {
   "cell_type": "code",
   "execution_count": null,
   "metadata": {
    "ExecuteTime": {
     "end_time": "2020-09-18T00:26:56.960752Z",
     "start_time": "2020-09-18T00:26:56.952814Z"
    },
    "execution_event_id": "015637b2-27b7-40f6-9163-053a1e7430cd",
    "last_executed_text": "%%read_sql df1\nSELECT first_name,\n       last_name,\n       year_of_birth\nFROM presidents\nWHERE year_of_birth > {birthyear}",
    "persistent_id": "20ba6580-1a68-49dd-abdb-f9e5f0accee4"
   },
   "outputs": [],
   "source": [
    "%%read_sql df1\n",
    "SELECT first_name,\n",
    "       last_name,\n",
    "       year_of_birth\n",
    "FROM presidents\n",
    "WHERE year_of_birth > {birthyear}"
   ]
  },
  {
   "cell_type": "code",
   "execution_count": null,
   "metadata": {
    "ExecuteTime": {
     "end_time": "2020-09-18T00:26:57.507609Z",
     "start_time": "2020-09-18T00:26:57.501717Z"
    },
    "execution_event_id": "dc3a005f-e387-41d7-8384-17025ceea76a",
    "last_executed_text": "df1",
    "persistent_id": "8909d264-40c4-4d72-b993-d50404f375f2"
   },
   "outputs": [],
   "source": [
    "df1"
   ]
  },
  {
   "cell_type": "code",
   "execution_count": null,
   "metadata": {
    "persistent_id": "960e646d-8d98-4a49-ad25-891b8491c2ef"
   },
   "outputs": [],
   "source": []
  },
  {
   "cell_type": "code",
   "execution_count": null,
   "metadata": {
    "persistent_id": "f8bd8532-925f-4886-9ec6-458ad2377692"
   },
   "outputs": [],
   "source": []
  },
  {
   "cell_type": "code",
   "execution_count": null,
   "metadata": {
    "persistent_id": "493fa4e6-2be3-4a9c-a8d2-f9c1f59b2a80"
   },
   "outputs": [],
   "source": []
  },
  {
   "cell_type": "code",
   "execution_count": null,
   "metadata": {
    "persistent_id": "b4f62d9a-e672-496a-984d-37d16da41e2c"
   },
   "outputs": [],
   "source": []
  },
  {
   "cell_type": "code",
   "execution_count": null,
   "metadata": {
    "persistent_id": "ed67ebef-7f00-47d2-aca7-77921865877a"
   },
   "outputs": [],
   "source": []
  },
  {
   "cell_type": "code",
   "execution_count": null,
   "metadata": {
    "persistent_id": "2cd149ed-1acd-4df7-be99-cb96d4303f9d"
   },
   "outputs": [],
   "source": []
  },
  {
   "cell_type": "code",
   "execution_count": null,
   "metadata": {
    "ExecuteTime": {
     "end_time": "2020-09-18T00:27:54.951745Z",
     "start_time": "2020-09-18T00:27:54.920325Z"
    },
    "execution_event_id": "3a0a620f-417d-45c7-874c-2ca79687d49a",
    "last_executed_text": "coal = pd.read_csv(\"../data/coal_prod_cleaned.csv\")\ncoal.head()",
    "persistent_id": "b4aaadfb-7087-4e77-99d9-fcc47eeeac70"
   },
   "outputs": [],
   "source": [
    "coal = pd.read_csv(\"../data/coal_prod_cleaned.csv\")\n",
    "coal.head()"
   ]
  },
  {
   "cell_type": "code",
   "execution_count": null,
   "metadata": {
    "ExecuteTime": {
     "end_time": "2020-09-18T00:28:01.756081Z",
     "start_time": "2020-09-18T00:28:01.647688Z"
    },
    "execution_event_id": "c1273a6e-69d4-4f44-a73f-3603f82bba59",
    "last_executed_text": "coal.to_sql('coal', con=sqlite_engine, if_exists='append', index=False)",
    "persistent_id": "e40acfe4-1ee0-49b3-88ec-516da30b1cd1"
   },
   "outputs": [],
   "source": [
    "coal.to_sql('coal', con=sqlite_engine, if_exists='append', index=False)"
   ]
  },
  {
   "cell_type": "code",
   "execution_count": null,
   "metadata": {
    "ExecuteTime": {
     "end_time": "2020-09-18T00:28:03.260184Z",
     "start_time": "2020-09-18T00:28:03.210804Z"
    },
    "execution_event_id": "f01f4746-e8b3-4a77-987b-0a204afd8c35",
    "last_executed_text": "%%read_sql example\nSELECT * FROM coal",
    "persistent_id": "ed983a67-487c-466b-9a1e-d9aef7211709"
   },
   "outputs": [],
   "source": [
    "%%read_sql example\n",
    "SELECT * FROM coal"
   ]
  },
  {
   "cell_type": "code",
   "execution_count": null,
   "metadata": {
    "ExecuteTime": {
     "end_time": "2020-09-18T00:28:04.460647Z",
     "start_time": "2020-09-18T00:28:04.449054Z"
    },
    "execution_event_id": "a4647ebc-a20b-4651-962c-e2fd3a0a25f8",
    "last_executed_text": "example.head()",
    "persistent_id": "8b91570d-9bbe-4c58-8137-2e43581bd5b0"
   },
   "outputs": [],
   "source": [
    "example.head()"
   ]
  },
  {
   "cell_type": "code",
   "execution_count": null,
   "metadata": {
    "ExecuteTime": {
     "end_time": "2020-09-18T00:28:36.219220Z",
     "start_time": "2020-09-18T00:28:36.216426Z"
    },
    "execution_event_id": "64a0cc72-3cf8-43e5-941f-0f53713b01d9",
    "last_executed_text": "example.columns",
    "persistent_id": "4a8f6ef6-1356-419e-94de-a171b32c5090"
   },
   "outputs": [],
   "source": [
    "example.columns"
   ]
  },
  {
   "cell_type": "code",
   "execution_count": null,
   "metadata": {},
   "outputs": [],
   "source": []
  }
 ],
 "metadata": {
  "anaconda-cloud": {},
  "hide_input": false,
  "history": [
   {
    "cell": {
     "executionCount": 1,
     "executionEventId": "41bd7b19-14c5-434e-9422-668ad6f3420a",
     "hasError": false,
     "id": "9791fefc-d144-43ae-92ec-34b4cfe3cdbd",
     "outputs": [
      {
       "data": {
        "application/javascript": "\n    require(['notebook/js/codecell'], function(codecell) {\n      // https://github.com/jupyter/notebook/issues/2453\n      codecell.CodeCell.options_default.highlight_modes['magic_text/x-sql'] = {'reg':[/^%read_sql/, /.*=\\s*%read_sql/,\n                                                                                      /^%%read_sql/]};\n      Jupyter.notebook.events.one('kernel_ready.Kernel', function(){\n          console.log('BBBBB');\n          Jupyter.notebook.get_cells().map(function(cell){\n              if (cell.cell_type == 'code'){ cell.auto_highlight(); } }) ;\n      });\n    });\n    "
       },
       "metadata": {},
       "output_type": "display_data"
      }
     ],
     "persistentId": "36ba17ea-27a3-46d6-9cd2-5b3148ce5778",
     "text": "%load_ext sql_magic"
    },
    "executionTime": "2019-09-06T19:06:10.198Z"
   },
   {
    "cell": {
     "executionCount": 2,
     "executionEventId": "703306f2-35ec-4c87-bba7-ff2021776330",
     "hasError": false,
     "id": "9317f7b1-4030-4ae3-84b6-78ab545250ad",
     "outputs": [],
     "persistentId": "d22c6ac4-f6d4-497e-897e-6cc6fac1be75",
     "text": "import sqlalchemy\nimport pandas as pd\nimport sqlite3\nfrom sqlalchemy import create_engine\nsqlite_engine = create_engine('sqlite://')"
    },
    "executionTime": "2019-09-06T19:06:14.119Z"
   },
   {
    "cell": {
     "executionCount": 3,
     "executionEventId": "bc272a58-6a07-458d-87c1-a56edbf23a7e",
     "hasError": false,
     "id": "ec506f2a-0cdc-4603-b842-d49dbe45027d",
     "outputs": [],
     "persistentId": "1066823e-b404-4b0f-91d7-ea6f69361caf",
     "text": "%config SQL.conn_name = \"sqlite_engine\""
    },
    "executionTime": "2019-09-06T19:06:15.097Z"
   },
   {
    "cell": {
     "executionCount": 4,
     "executionEventId": "6fd35a9b-661d-4abf-8254-16402bca3337",
     "hasError": false,
     "id": "a7960d11-8dbf-4e44-99aa-b3d1dd31d6d4",
     "outputs": [
      {
       "name": "stdout",
       "output_type": "stream",
       "text": "SQL options\n---------\nSQL.conn_name=<Unicode>\n    Current: 'sqlite_engine'\n    Object name for accessing computing resource environment\nSQL.notify_result=<Bool>\n    Current: True\n    Notify query result to stdout\nSQL.output_result=<Bool>\n    Current: True\n    Output query result to stdout\n"
      }
     ],
     "persistentId": "8e73eda9-863a-4869-87fc-86f1c0f90054",
     "text": "%config SQL"
    },
    "executionTime": "2019-09-06T19:06:15.630Z"
   },
   {
    "cell": {
     "executionCount": 5,
     "executionEventId": "eb41e676-5710-4044-b298-2d5c62fb2ee0",
     "hasError": false,
     "id": "853d9e97-6f8e-4dc6-b38d-396f5e644eb9",
     "outputs": [],
     "persistentId": "7dab401a-31a6-42f1-9dbe-58b3da420e58",
     "text": "%config SQL.output_result = False"
    },
    "executionTime": "2019-09-06T19:06:17.311Z"
   },
   {
    "cell": {
     "executionCount": 6,
     "executionEventId": "7159cdd3-1e6c-4f9d-8018-2fcdd8cc3e0f",
     "hasError": false,
     "id": "bb18e377-874e-46c4-b2d0-1fae8def3126",
     "outputs": [
      {
       "name": "stdout",
       "output_type": "stream",
       "text": "Query started at 12:06:21 PM PDT; Query executed in 0.00 m"
      }
     ],
     "persistentId": "ed983a67-487c-466b-9a1e-d9aef7211709",
     "text": "%%read_sql temp\nCREATE TABLE presidents (first_name, last_name, year_of_birth);\nINSERT INTO presidents VALUES ('George', 'Washington', 1732);\nINSERT INTO presidents VALUES ('John', 'Adams', 1735);\nINSERT INTO presidents VALUES ('Thomas', 'Jefferson', 1743);\nINSERT INTO presidents VALUES ('James', 'Madison', 1751);\nINSERT INTO presidents VALUES ('James', 'Monroe', 1758);\nINSERT INTO presidents VALUES ('Zachary', 'Taylor', 1784);\nINSERT INTO presidents VALUES ('Abraham', 'Lincoln', 1809);\nINSERT INTO presidents VALUES ('Theodore', 'Roosevelt', 1858);\nINSERT INTO presidents VALUES ('Richard', 'Nixon', 1913);\nINSERT INTO presidents VALUES ('Barack', 'Obama', 1961);"
    },
    "executionTime": "2019-09-06T19:06:22.030Z"
   },
   {
    "cell": {
     "executionCount": 7,
     "executionEventId": "0af5869c-f0c7-4412-a095-ece90115b14a",
     "hasError": false,
     "id": "d1c932fa-26cb-4466-bf83-91ac04eb84cb",
     "outputs": [
      {
       "name": "stdout",
       "output_type": "stream",
       "text": "Query started at 12:06:26 PM PDT; Query executed in 0.00 m"
      }
     ],
     "persistentId": "e85fa811-00eb-4681-8de7-013f84ea8ab1",
     "text": "%%read_sql df\nSELECT * FROM presidents"
    },
    "executionTime": "2019-09-06T19:06:26.791Z"
   },
   {
    "cell": {
     "executionCount": 8,
     "executionEventId": "58a86eb5-5158-4f26-9e53-3dc07d2ebc08",
     "hasError": false,
     "id": "2b44a15c-154b-46e5-a7a5-367935e3ad38",
     "outputs": [
      {
       "data": {
        "text/html": "<div>\n<style scoped>\n    .dataframe tbody tr th:only-of-type {\n        vertical-align: middle;\n    }\n\n    .dataframe tbody tr th {\n        vertical-align: top;\n    }\n\n    .dataframe thead th {\n        text-align: right;\n    }\n</style>\n<table border=\"1\" class=\"dataframe\">\n  <thead>\n    <tr style=\"text-align: right;\">\n      <th></th>\n      <th>first_name</th>\n      <th>last_name</th>\n      <th>year_of_birth</th>\n    </tr>\n  </thead>\n  <tbody>\n    <tr>\n      <th>0</th>\n      <td>George</td>\n      <td>Washington</td>\n      <td>1732</td>\n    </tr>\n    <tr>\n      <th>1</th>\n      <td>John</td>\n      <td>Adams</td>\n      <td>1735</td>\n    </tr>\n    <tr>\n      <th>2</th>\n      <td>Thomas</td>\n      <td>Jefferson</td>\n      <td>1743</td>\n    </tr>\n    <tr>\n      <th>3</th>\n      <td>James</td>\n      <td>Madison</td>\n      <td>1751</td>\n    </tr>\n    <tr>\n      <th>4</th>\n      <td>James</td>\n      <td>Monroe</td>\n      <td>1758</td>\n    </tr>\n    <tr>\n      <th>5</th>\n      <td>Zachary</td>\n      <td>Taylor</td>\n      <td>1784</td>\n    </tr>\n    <tr>\n      <th>6</th>\n      <td>Abraham</td>\n      <td>Lincoln</td>\n      <td>1809</td>\n    </tr>\n    <tr>\n      <th>7</th>\n      <td>Theodore</td>\n      <td>Roosevelt</td>\n      <td>1858</td>\n    </tr>\n    <tr>\n      <th>8</th>\n      <td>Richard</td>\n      <td>Nixon</td>\n      <td>1913</td>\n    </tr>\n    <tr>\n      <th>9</th>\n      <td>Barack</td>\n      <td>Obama</td>\n      <td>1961</td>\n    </tr>\n  </tbody>\n</table>\n</div>",
        "text/plain": "  first_name   last_name  year_of_birth\n0     George  Washington           1732\n1       John       Adams           1735\n2     Thomas   Jefferson           1743\n3      James     Madison           1751\n4      James      Monroe           1758\n5    Zachary      Taylor           1784\n6    Abraham     Lincoln           1809\n7   Theodore   Roosevelt           1858\n8    Richard       Nixon           1913\n9     Barack       Obama           1961"
       },
       "execution_count": 8,
       "metadata": {},
       "output_type": "execute_result"
      }
     ],
     "persistentId": "48ebccc7-11e8-4b48-a87a-6b52cd39c065",
     "text": "df"
    },
    "executionTime": "2019-09-06T19:06:27.968Z"
   },
   {
    "cell": {
     "executionCount": 9,
     "executionEventId": "be82f8b1-a764-4db5-b2c8-8d2ac0a46299",
     "hasError": false,
     "id": "c1209cc7-7312-43f0-8abc-f207464fe86b",
     "outputs": [
      {
       "name": "stdout",
       "output_type": "stream",
       "text": "Query started at 12:06:29 PM PDT; Query executed in 0.00 m"
      },
      {
       "data": {
        "text/html": "<div>\n<style scoped>\n    .dataframe tbody tr th:only-of-type {\n        vertical-align: middle;\n    }\n\n    .dataframe tbody tr th {\n        vertical-align: top;\n    }\n\n    .dataframe thead th {\n        text-align: right;\n    }\n</style>\n<table border=\"1\" class=\"dataframe\">\n  <thead>\n    <tr style=\"text-align: right;\">\n      <th></th>\n      <th>first_name</th>\n      <th>last_name</th>\n      <th>year_of_birth</th>\n    </tr>\n  </thead>\n  <tbody>\n    <tr>\n      <th>0</th>\n      <td>Theodore</td>\n      <td>Roosevelt</td>\n      <td>1858</td>\n    </tr>\n    <tr>\n      <th>1</th>\n      <td>Richard</td>\n      <td>Nixon</td>\n      <td>1913</td>\n    </tr>\n    <tr>\n      <th>2</th>\n      <td>Barack</td>\n      <td>Obama</td>\n      <td>1961</td>\n    </tr>\n  </tbody>\n</table>\n</div>",
        "text/plain": "  first_name  last_name  year_of_birth\n0   Theodore  Roosevelt           1858\n1    Richard      Nixon           1913\n2     Barack      Obama           1961"
       },
       "execution_count": 9,
       "metadata": {},
       "output_type": "execute_result"
      }
     ],
     "persistentId": "86729aac-9308-4f2e-afb8-4affad126628",
     "text": "later_presidents = %read_sql SELECT * FROM presidents WHERE year_of_birth > 1825\nlater_presidents"
    },
    "executionTime": "2019-09-06T19:06:30.026Z"
   },
   {
    "cell": {
     "executionCount": 10,
     "executionEventId": "69e08433-4088-49d8-9761-637e40df3f51",
     "hasError": false,
     "id": "530f32b8-fbb3-4607-948b-eb240340c13b",
     "outputs": [],
     "persistentId": "242e6d6a-d650-4692-a51b-b19f6386fefc",
     "text": "birthyear = 1800"
    },
    "executionTime": "2019-09-06T19:06:32.203Z"
   },
   {
    "cell": {
     "executionCount": 11,
     "executionEventId": "f177ecea-10a4-45c9-b982-41db9546e7ea",
     "hasError": false,
     "id": "f2e2e2ff-9f6f-4168-8512-e0af466ed46b",
     "outputs": [
      {
       "name": "stdout",
       "output_type": "stream",
       "text": "Query started at 12:06:34 PM PDT; Query executed in 0.00 m"
      }
     ],
     "persistentId": "20ba6580-1a68-49dd-abdb-f9e5f0accee4",
     "text": "%%read_sql df1\nSELECT first_name,\n       last_name,\n       year_of_birth\nFROM presidents\nWHERE year_of_birth > {birthyear}"
    },
    "executionTime": "2019-09-06T19:06:34.787Z"
   },
   {
    "cell": {
     "executionCount": 12,
     "executionEventId": "4bb49e43-ca8d-4ed9-b779-275c5345b1e2",
     "hasError": false,
     "id": "55255a72-892b-409e-a6b0-54e87860237c",
     "outputs": [
      {
       "data": {
        "text/html": "<div>\n<style scoped>\n    .dataframe tbody tr th:only-of-type {\n        vertical-align: middle;\n    }\n\n    .dataframe tbody tr th {\n        vertical-align: top;\n    }\n\n    .dataframe thead th {\n        text-align: right;\n    }\n</style>\n<table border=\"1\" class=\"dataframe\">\n  <thead>\n    <tr style=\"text-align: right;\">\n      <th></th>\n      <th>first_name</th>\n      <th>last_name</th>\n      <th>year_of_birth</th>\n    </tr>\n  </thead>\n  <tbody>\n    <tr>\n      <th>0</th>\n      <td>Abraham</td>\n      <td>Lincoln</td>\n      <td>1809</td>\n    </tr>\n    <tr>\n      <th>1</th>\n      <td>Theodore</td>\n      <td>Roosevelt</td>\n      <td>1858</td>\n    </tr>\n    <tr>\n      <th>2</th>\n      <td>Richard</td>\n      <td>Nixon</td>\n      <td>1913</td>\n    </tr>\n    <tr>\n      <th>3</th>\n      <td>Barack</td>\n      <td>Obama</td>\n      <td>1961</td>\n    </tr>\n  </tbody>\n</table>\n</div>",
        "text/plain": "  first_name  last_name  year_of_birth\n0    Abraham    Lincoln           1809\n1   Theodore  Roosevelt           1858\n2    Richard      Nixon           1913\n3     Barack      Obama           1961"
       },
       "execution_count": 12,
       "metadata": {},
       "output_type": "execute_result"
      }
     ],
     "persistentId": "8909d264-40c4-4d72-b993-d50404f375f2",
     "text": "df1"
    },
    "executionTime": "2019-09-06T19:06:36.318Z"
   },
   {
    "cell": {
     "executionCount": 13,
     "executionEventId": "7eb51c2c-70fc-4842-a214-4a76e51801c9",
     "hasError": false,
     "id": "504d194e-1f32-416a-b69f-1bd45f0ce799",
     "outputs": [],
     "persistentId": "70063623-2c49-4d71-812d-42ea36c8968f",
     "text": "con = sqlite3.connect(\"presidents.sqlite\")\n# cur = con.cursor()\n\nnew_dataframe = pd.read_sql(f\"\"\"SELECT first_name, last_name, year_of_birth\n                               FROM presidents\n                               WHERE year_of_birth > {birthyear}\n                               \"\"\", \n                            con=con)\n\ncon.close()"
    },
    "executionTime": "2019-09-09T21:57:42.182Z"
   },
   {
    "cell": {
     "executionCount": 14,
     "executionEventId": "03018b37-bca5-4b5d-a577-9f8e7161046a",
     "hasError": false,
     "id": "2974e957-0899-46e9-8413-9736cc327c79",
     "outputs": [
      {
       "data": {
        "text/html": "<div>\n<style scoped>\n    .dataframe tbody tr th:only-of-type {\n        vertical-align: middle;\n    }\n\n    .dataframe tbody tr th {\n        vertical-align: top;\n    }\n\n    .dataframe thead th {\n        text-align: right;\n    }\n</style>\n<table border=\"1\" class=\"dataframe\">\n  <thead>\n    <tr style=\"text-align: right;\">\n      <th></th>\n      <th>first_name</th>\n      <th>last_name</th>\n      <th>year_of_birth</th>\n    </tr>\n  </thead>\n  <tbody>\n    <tr>\n      <th>0</th>\n      <td>Theodore</td>\n      <td>Roosevelt</td>\n      <td>1858</td>\n    </tr>\n    <tr>\n      <th>1</th>\n      <td>Richard</td>\n      <td>Nixon</td>\n      <td>1913</td>\n    </tr>\n    <tr>\n      <th>2</th>\n      <td>Barack</td>\n      <td>Obama</td>\n      <td>1961</td>\n    </tr>\n  </tbody>\n</table>\n</div>",
        "text/plain": "  first_name  last_name  year_of_birth\n0   Theodore  Roosevelt           1858\n1    Richard      Nixon           1913\n2     Barack      Obama           1961"
       },
       "execution_count": 14,
       "metadata": {},
       "output_type": "execute_result"
      }
     ],
     "persistentId": "20ba3456-6860-4ee2-8391-d523587976ae",
     "text": "new_dataframe"
    },
    "executionTime": "2019-09-09T21:57:46.015Z"
   },
   {
    "cell": {
     "executionCount": 15,
     "executionEventId": "d47708e1-ec8f-4fd6-aae3-a79bd6229985",
     "hasError": false,
     "id": "e2959a21-0a61-4fce-9385-b7caf3cedda3",
     "outputs": [
      {
       "data": {
        "text/html": "<div>\n<style scoped>\n    .dataframe tbody tr th:only-of-type {\n        vertical-align: middle;\n    }\n\n    .dataframe tbody tr th {\n        vertical-align: top;\n    }\n\n    .dataframe thead th {\n        text-align: right;\n    }\n</style>\n<table border=\"1\" class=\"dataframe\">\n  <thead>\n    <tr style=\"text-align: right;\">\n      <th></th>\n      <th>first_name</th>\n      <th>last_name</th>\n      <th>year_of_birth</th>\n    </tr>\n  </thead>\n  <tbody>\n    <tr>\n      <th>0</th>\n      <td>George</td>\n      <td>Washington</td>\n      <td>1732</td>\n    </tr>\n    <tr>\n      <th>1</th>\n      <td>John</td>\n      <td>Adams</td>\n      <td>1735</td>\n    </tr>\n    <tr>\n      <th>2</th>\n      <td>Thomas</td>\n      <td>Jefferson</td>\n      <td>1743</td>\n    </tr>\n    <tr>\n      <th>3</th>\n      <td>James</td>\n      <td>Madison</td>\n      <td>1751</td>\n    </tr>\n    <tr>\n      <th>4</th>\n      <td>James</td>\n      <td>Monroe</td>\n      <td>1758</td>\n    </tr>\n  </tbody>\n</table>\n</div>",
        "text/plain": "  first_name   last_name  year_of_birth\n0     George  Washington           1732\n1       John       Adams           1735\n2     Thomas   Jefferson           1743\n3      James     Madison           1751\n4      James      Monroe           1758"
       },
       "execution_count": 15,
       "metadata": {},
       "output_type": "execute_result"
      }
     ],
     "persistentId": "b788e6bb-ef94-4bc7-b4c1-e9071719044e",
     "text": "df.head()"
    },
    "executionTime": "2019-09-09T22:01:33.075Z"
   },
   {
    "cell": {
     "executionCount": 16,
     "executionEventId": "3a0a620f-417d-45c7-874c-2ca79687d49a",
     "hasError": false,
     "id": "7a001c40-bbd3-400d-ae65-9bc22bff51f9",
     "outputs": [
      {
       "data": {
        "text/html": "<div>\n<style scoped>\n    .dataframe tbody tr th:only-of-type {\n        vertical-align: middle;\n    }\n\n    .dataframe tbody tr th {\n        vertical-align: top;\n    }\n\n    .dataframe thead th {\n        text-align: right;\n    }\n</style>\n<table border=\"1\" class=\"dataframe\">\n  <thead>\n    <tr style=\"text-align: right;\">\n      <th></th>\n      <th>MSHA_ID</th>\n      <th>Average_Employees</th>\n      <th>Company_Type</th>\n      <th>Labor_Hours</th>\n      <th>Mine_Basin</th>\n      <th>Mine_County</th>\n      <th>Mine_Name</th>\n      <th>Mine_State</th>\n      <th>Mine_Status</th>\n      <th>Mine_Type</th>\n      <th>Operating_Company</th>\n      <th>Operating_Company_Address</th>\n      <th>Operation_Type</th>\n      <th>Production_short_tons</th>\n      <th>Union_Code</th>\n      <th>Year</th>\n    </tr>\n  </thead>\n  <tbody>\n    <tr>\n      <th>0</th>\n      <td>103295</td>\n      <td>18.0</td>\n      <td>Independent Producer Operator</td>\n      <td>39175.0</td>\n      <td>Appalachia Southern</td>\n      <td>Bibb</td>\n      <td>Seymour Mine</td>\n      <td>Alabama</td>\n      <td>Active</td>\n      <td>Surface</td>\n      <td>Hope Coal Company Inc</td>\n      <td>P.O. Box 249, Maylene, AL 35114</td>\n      <td>Mine only</td>\n      <td>105082.0</td>\n      <td>NaN</td>\n      <td>2008</td>\n    </tr>\n    <tr>\n      <th>1</th>\n      <td>103117</td>\n      <td>19.0</td>\n      <td>Operating Subsidiary</td>\n      <td>29926.0</td>\n      <td>Appalachia Southern</td>\n      <td>Cullman</td>\n      <td>Mine #2, #3, #4</td>\n      <td>Alabama</td>\n      <td>Active, men working, not producing</td>\n      <td>Surface</td>\n      <td>Twin Pines Coal Company Inc</td>\n      <td>1874 County Road 15, Bremen, AL 35033</td>\n      <td>Mine only</td>\n      <td>10419.0</td>\n      <td>NaN</td>\n      <td>2008</td>\n    </tr>\n    <tr>\n      <th>2</th>\n      <td>103361</td>\n      <td>20.0</td>\n      <td>Operating Subsidiary</td>\n      <td>42542.0</td>\n      <td>Appalachia Southern</td>\n      <td>Cullman</td>\n      <td>Cold Springs West Mine</td>\n      <td>Alabama</td>\n      <td>Active</td>\n      <td>Surface</td>\n      <td>Twin Pines Coal Company</td>\n      <td>74 Industrial Parkway, Jasper, AL 35502</td>\n      <td>Mine only</td>\n      <td>143208.0</td>\n      <td>NaN</td>\n      <td>2008</td>\n    </tr>\n    <tr>\n      <th>3</th>\n      <td>100759</td>\n      <td>395.0</td>\n      <td>Operating Subsidiary</td>\n      <td>890710.0</td>\n      <td>Appalachia Southern</td>\n      <td>Fayette</td>\n      <td>North River # 1 Underground Mi</td>\n      <td>Alabama</td>\n      <td>Active</td>\n      <td>Underground</td>\n      <td>Chevron Mining Inc</td>\n      <td>3114 County Road 63 S, Berry, AL 35546</td>\n      <td>Mine and Preparation Plant</td>\n      <td>2923261.0</td>\n      <td>United Mine Workers of America</td>\n      <td>2008</td>\n    </tr>\n    <tr>\n      <th>4</th>\n      <td>103246</td>\n      <td>22.0</td>\n      <td>Independent Producer Operator</td>\n      <td>55403.0</td>\n      <td>Appalachia Southern</td>\n      <td>Franklin</td>\n      <td>Bear Creek</td>\n      <td>Alabama</td>\n      <td>Active</td>\n      <td>Surface</td>\n      <td>Birmingham Coal &amp; Coke Co., In</td>\n      <td>912 Edenton Street, Birmingham, AL 35242</td>\n      <td>Mine only</td>\n      <td>183137.0</td>\n      <td>NaN</td>\n      <td>2008</td>\n    </tr>\n  </tbody>\n</table>\n</div>",
        "text/plain": "   MSHA_ID  Average_Employees                   Company_Type  Labor_Hours  \\\n0   103295               18.0  Independent Producer Operator      39175.0   \n1   103117               19.0           Operating Subsidiary      29926.0   \n2   103361               20.0           Operating Subsidiary      42542.0   \n3   100759              395.0           Operating Subsidiary     890710.0   \n4   103246               22.0  Independent Producer Operator      55403.0   \n\n            Mine_Basin Mine_County                       Mine_Name Mine_State  \\\n0  Appalachia Southern        Bibb                    Seymour Mine    Alabama   \n1  Appalachia Southern     Cullman                 Mine #2, #3, #4    Alabama   \n2  Appalachia Southern     Cullman          Cold Springs West Mine    Alabama   \n3  Appalachia Southern     Fayette  North River # 1 Underground Mi    Alabama   \n4  Appalachia Southern    Franklin                      Bear Creek    Alabama   \n\n                          Mine_Status    Mine_Type  \\\n0                              Active      Surface   \n1  Active, men working, not producing      Surface   \n2                              Active      Surface   \n3                              Active  Underground   \n4                              Active      Surface   \n\n                Operating_Company                 Operating_Company_Address  \\\n0           Hope Coal Company Inc           P.O. Box 249, Maylene, AL 35114   \n1     Twin Pines Coal Company Inc     1874 County Road 15, Bremen, AL 35033   \n2         Twin Pines Coal Company   74 Industrial Parkway, Jasper, AL 35502   \n3              Chevron Mining Inc    3114 County Road 63 S, Berry, AL 35546   \n4  Birmingham Coal & Coke Co., In  912 Edenton Street, Birmingham, AL 35242   \n\n               Operation_Type  Production_short_tons  \\\n0                   Mine only               105082.0   \n1                   Mine only                10419.0   \n2                   Mine only               143208.0   \n3  Mine and Preparation Plant              2923261.0   \n4                   Mine only               183137.0   \n\n                       Union_Code  Year  \n0                             NaN  2008  \n1                             NaN  2008  \n2                             NaN  2008  \n3  United Mine Workers of America  2008  \n4                             NaN  2008  "
       },
       "execution_count": 16,
       "metadata": {},
       "output_type": "execute_result"
      }
     ],
     "persistentId": "b4aaadfb-7087-4e77-99d9-fcc47eeeac70",
     "text": "coal = pd.read_csv(\"../data/coal_prod_cleaned.csv\")\ncoal.head()"
    },
    "executionTime": "2019-09-09T22:01:38.699Z"
   },
   {
    "cell": {
     "executionCount": 17,
     "executionEventId": "ec7d3072-93aa-42f5-88b2-64020dd2045d",
     "hasError": true,
     "id": "d190f0fb-43ac-4c61-8f47-6aa5d543b35e",
     "outputs": [
      {
       "ename": "ProgrammingError",
       "evalue": "Cannot operate on a closed database.",
       "output_type": "error",
       "traceback": [
        "\u001b[0;31m-----------------------------------------------------------------------\u001b[0m",
        "\u001b[0;31mProgrammingError\u001b[0m                      Traceback (most recent call last)",
        "\u001b[0;32m<ipython-input-17-1e1d0e6aa435>\u001b[0m in \u001b[0;36m<module>\u001b[0;34m\u001b[0m\n\u001b[0;32m----> 1\u001b[0;31m \u001b[0mpd\u001b[0m\u001b[0;34m.\u001b[0m\u001b[0mread_sql_query\u001b[0m\u001b[0;34m(\u001b[0m\u001b[0;34m\"\"\"INSERT INTO presidents VALUES ('Jonathan', 'Whitmore', 1982)\"\"\"\u001b[0m\u001b[0;34m,\u001b[0m \u001b[0mcon\u001b[0m\u001b[0;34m=\u001b[0m\u001b[0mcon\u001b[0m\u001b[0;34m)\u001b[0m\u001b[0;34m\u001b[0m\u001b[0;34m\u001b[0m\u001b[0m\n\u001b[0m",
        "\u001b[0;32m~/miniconda3/envs/dspy3/lib/python3.6/site-packages/pandas/io/sql.py\u001b[0m in \u001b[0;36mread_sql_query\u001b[0;34m(sql, con, index_col, coerce_float, params, parse_dates, chunksize)\u001b[0m\n\u001b[1;32m    312\u001b[0m     return pandas_sql.read_query(\n\u001b[1;32m    313\u001b[0m         \u001b[0msql\u001b[0m\u001b[0;34m,\u001b[0m \u001b[0mindex_col\u001b[0m\u001b[0;34m=\u001b[0m\u001b[0mindex_col\u001b[0m\u001b[0;34m,\u001b[0m \u001b[0mparams\u001b[0m\u001b[0;34m=\u001b[0m\u001b[0mparams\u001b[0m\u001b[0;34m,\u001b[0m \u001b[0mcoerce_float\u001b[0m\u001b[0;34m=\u001b[0m\u001b[0mcoerce_float\u001b[0m\u001b[0;34m,\u001b[0m\u001b[0;34m\u001b[0m\u001b[0;34m\u001b[0m\u001b[0m\n\u001b[0;32m--> 314\u001b[0;31m         parse_dates=parse_dates, chunksize=chunksize)\n\u001b[0m\u001b[1;32m    315\u001b[0m \u001b[0;34m\u001b[0m\u001b[0m\n\u001b[1;32m    316\u001b[0m \u001b[0;34m\u001b[0m\u001b[0m\n",
        "\u001b[0;32m~/miniconda3/envs/dspy3/lib/python3.6/site-packages/pandas/io/sql.py\u001b[0m in \u001b[0;36mread_query\u001b[0;34m(self, sql, index_col, coerce_float, params, parse_dates, chunksize)\u001b[0m\n\u001b[1;32m   1466\u001b[0m \u001b[0;34m\u001b[0m\u001b[0m\n\u001b[1;32m   1467\u001b[0m         \u001b[0margs\u001b[0m \u001b[0;34m=\u001b[0m \u001b[0m_convert_params\u001b[0m\u001b[0;34m(\u001b[0m\u001b[0msql\u001b[0m\u001b[0;34m,\u001b[0m \u001b[0mparams\u001b[0m\u001b[0;34m)\u001b[0m\u001b[0;34m\u001b[0m\u001b[0;34m\u001b[0m\u001b[0m\n\u001b[0;32m-> 1468\u001b[0;31m         \u001b[0mcursor\u001b[0m \u001b[0;34m=\u001b[0m \u001b[0mself\u001b[0m\u001b[0;34m.\u001b[0m\u001b[0mexecute\u001b[0m\u001b[0;34m(\u001b[0m\u001b[0;34m*\u001b[0m\u001b[0margs\u001b[0m\u001b[0;34m)\u001b[0m\u001b[0;34m\u001b[0m\u001b[0;34m\u001b[0m\u001b[0m\n\u001b[0m\u001b[1;32m   1469\u001b[0m         \u001b[0mcolumns\u001b[0m \u001b[0;34m=\u001b[0m \u001b[0;34m[\u001b[0m\u001b[0mcol_desc\u001b[0m\u001b[0;34m[\u001b[0m\u001b[0;36m0\u001b[0m\u001b[0;34m]\u001b[0m \u001b[0;32mfor\u001b[0m \u001b[0mcol_desc\u001b[0m \u001b[0;32min\u001b[0m \u001b[0mcursor\u001b[0m\u001b[0;34m.\u001b[0m\u001b[0mdescription\u001b[0m\u001b[0;34m]\u001b[0m\u001b[0;34m\u001b[0m\u001b[0;34m\u001b[0m\u001b[0m\n\u001b[1;32m   1470\u001b[0m \u001b[0;34m\u001b[0m\u001b[0m\n",
        "\u001b[0;32m~/miniconda3/envs/dspy3/lib/python3.6/site-packages/pandas/io/sql.py\u001b[0m in \u001b[0;36mexecute\u001b[0;34m(self, *args, **kwargs)\u001b[0m\n\u001b[1;32m   1424\u001b[0m             \u001b[0mcur\u001b[0m \u001b[0;34m=\u001b[0m \u001b[0mself\u001b[0m\u001b[0;34m.\u001b[0m\u001b[0mcon\u001b[0m\u001b[0;34m\u001b[0m\u001b[0;34m\u001b[0m\u001b[0m\n\u001b[1;32m   1425\u001b[0m         \u001b[0;32melse\u001b[0m\u001b[0;34m:\u001b[0m\u001b[0;34m\u001b[0m\u001b[0;34m\u001b[0m\u001b[0m\n\u001b[0;32m-> 1426\u001b[0;31m             \u001b[0mcur\u001b[0m \u001b[0;34m=\u001b[0m \u001b[0mself\u001b[0m\u001b[0;34m.\u001b[0m\u001b[0mcon\u001b[0m\u001b[0;34m.\u001b[0m\u001b[0mcursor\u001b[0m\u001b[0;34m(\u001b[0m\u001b[0;34m)\u001b[0m\u001b[0;34m\u001b[0m\u001b[0;34m\u001b[0m\u001b[0m\n\u001b[0m\u001b[1;32m   1427\u001b[0m         \u001b[0;32mtry\u001b[0m\u001b[0;34m:\u001b[0m\u001b[0;34m\u001b[0m\u001b[0;34m\u001b[0m\u001b[0m\n\u001b[1;32m   1428\u001b[0m             \u001b[0;32mif\u001b[0m \u001b[0mkwargs\u001b[0m\u001b[0;34m:\u001b[0m\u001b[0;34m\u001b[0m\u001b[0;34m\u001b[0m\u001b[0m\n",
        "\u001b[0;31mProgrammingError\u001b[0m: Cannot operate on a closed database."
       ]
      }
     ],
     "persistentId": "dba5f09b-94c0-45fb-b561-60a8a6fc7af4",
     "text": "pd.read_sql_query(\"\"\"INSERT INTO presidents VALUES ('Jonathan', 'Whitmore', 1982)\"\"\", con=con)"
    },
    "executionTime": "2019-09-09T22:05:30.554Z"
   },
   {
    "cell": {
     "executionCount": 18,
     "executionEventId": "a3f5d5b3-cd7f-48dd-97b4-a7f85a732672",
     "hasError": true,
     "id": "508431f2-1ca3-4762-b09a-c6d55633a3a2",
     "outputs": [
      {
       "ename": "NameError",
       "evalue": "name 'engine' is not defined",
       "output_type": "error",
       "traceback": [
        "\u001b[0;31m-----------------------------------------------------------------------\u001b[0m",
        "\u001b[0;31mNameError\u001b[0m                             Traceback (most recent call last)",
        "\u001b[0;32m<ipython-input-18-2f26aa0ee5eb>\u001b[0m in \u001b[0;36m<module>\u001b[0;34m\u001b[0m\n\u001b[0;32m----> 1\u001b[0;31m \u001b[0mnew_dataframe\u001b[0m\u001b[0;34m.\u001b[0m\u001b[0mto_sql\u001b[0m\u001b[0;34m(\u001b[0m\u001b[0;34m'presidents'\u001b[0m\u001b[0;34m,\u001b[0m \u001b[0mcon\u001b[0m\u001b[0;34m=\u001b[0m\u001b[0mengine\u001b[0m\u001b[0;34m,\u001b[0m \u001b[0mif_exists\u001b[0m\u001b[0;34m=\u001b[0m\u001b[0;34m'append'\u001b[0m\u001b[0;34m)\u001b[0m\u001b[0;34m\u001b[0m\u001b[0;34m\u001b[0m\u001b[0m\n\u001b[0m",
        "\u001b[0;31mNameError\u001b[0m: name 'engine' is not defined"
       ]
      }
     ],
     "persistentId": "3cf6e8a2-69f1-45a9-9037-327a6d8045f0",
     "text": "new_dataframe.to_sql('presidents', con=engine, if_exists='append')"
    },
    "executionTime": "2019-09-10T15:33:04.596Z"
   },
   {
    "cell": {
     "executionCount": 19,
     "executionEventId": "3d7b5571-8046-41e4-9ce8-e302ac86de07",
     "hasError": true,
     "id": "508431f2-1ca3-4762-b09a-c6d55633a3a2",
     "outputs": [
      {
       "ename": "OperationalError",
       "evalue": "(sqlite3.OperationalError) table presidents has no column named index\n[SQL: INSERT INTO presidents (\"index\", first_name, last_name, year_of_birth) VALUES (?, ?, ?, ?)]\n[parameters: ((0, 'Theodore', 'Roosevelt', 1858), (1, 'Richard', 'Nixon', 1913), (2, 'Barack', 'Obama', 1961))]\n(Background on this error at: http://sqlalche.me/e/e3q8)",
       "output_type": "error",
       "traceback": [
        "\u001b[0;31m-----------------------------------------------------------------------\u001b[0m",
        "\u001b[0;31mOperationalError\u001b[0m                      Traceback (most recent call last)",
        "\u001b[0;32m~/miniconda3/envs/dspy3/lib/python3.6/site-packages/sqlalchemy/engine/base.py\u001b[0m in \u001b[0;36m_execute_context\u001b[0;34m(self, dialect, constructor, statement, parameters, *args)\u001b[0m\n\u001b[1;32m   1223\u001b[0m                     self.dialect.do_executemany(\n\u001b[0;32m-> 1224\u001b[0;31m                         \u001b[0mcursor\u001b[0m\u001b[0;34m,\u001b[0m \u001b[0mstatement\u001b[0m\u001b[0;34m,\u001b[0m \u001b[0mparameters\u001b[0m\u001b[0;34m,\u001b[0m \u001b[0mcontext\u001b[0m\u001b[0;34m\u001b[0m\u001b[0;34m\u001b[0m\u001b[0m\n\u001b[0m\u001b[1;32m   1225\u001b[0m                     )\n",
        "\u001b[0;32m~/miniconda3/envs/dspy3/lib/python3.6/site-packages/sqlalchemy/engine/default.py\u001b[0m in \u001b[0;36mdo_executemany\u001b[0;34m(self, cursor, statement, parameters, context)\u001b[0m\n\u001b[1;32m    546\u001b[0m     \u001b[0;32mdef\u001b[0m \u001b[0mdo_executemany\u001b[0m\u001b[0;34m(\u001b[0m\u001b[0mself\u001b[0m\u001b[0;34m,\u001b[0m \u001b[0mcursor\u001b[0m\u001b[0;34m,\u001b[0m \u001b[0mstatement\u001b[0m\u001b[0;34m,\u001b[0m \u001b[0mparameters\u001b[0m\u001b[0;34m,\u001b[0m \u001b[0mcontext\u001b[0m\u001b[0;34m=\u001b[0m\u001b[0;32mNone\u001b[0m\u001b[0;34m)\u001b[0m\u001b[0;34m:\u001b[0m\u001b[0;34m\u001b[0m\u001b[0;34m\u001b[0m\u001b[0m\n\u001b[0;32m--> 547\u001b[0;31m         \u001b[0mcursor\u001b[0m\u001b[0;34m.\u001b[0m\u001b[0mexecutemany\u001b[0m\u001b[0;34m(\u001b[0m\u001b[0mstatement\u001b[0m\u001b[0;34m,\u001b[0m \u001b[0mparameters\u001b[0m\u001b[0;34m)\u001b[0m\u001b[0;34m\u001b[0m\u001b[0;34m\u001b[0m\u001b[0m\n\u001b[0m\u001b[1;32m    548\u001b[0m \u001b[0;34m\u001b[0m\u001b[0m\n",
        "\u001b[0;31mOperationalError\u001b[0m: table presidents has no column named index",
        "\nThe above exception was the direct cause of the following exception:\n",
        "\u001b[0;31mOperationalError\u001b[0m                      Traceback (most recent call last)",
        "\u001b[0;32m<ipython-input-19-1c903775c4f7>\u001b[0m in \u001b[0;36m<module>\u001b[0;34m\u001b[0m\n\u001b[0;32m----> 1\u001b[0;31m \u001b[0mnew_dataframe\u001b[0m\u001b[0;34m.\u001b[0m\u001b[0mto_sql\u001b[0m\u001b[0;34m(\u001b[0m\u001b[0;34m'presidents'\u001b[0m\u001b[0;34m,\u001b[0m \u001b[0mcon\u001b[0m\u001b[0;34m=\u001b[0m\u001b[0msqlite_engine\u001b[0m\u001b[0;34m,\u001b[0m \u001b[0mif_exists\u001b[0m\u001b[0;34m=\u001b[0m\u001b[0;34m'append'\u001b[0m\u001b[0;34m)\u001b[0m\u001b[0;34m\u001b[0m\u001b[0;34m\u001b[0m\u001b[0m\n\u001b[0m",
        "\u001b[0;32m~/miniconda3/envs/dspy3/lib/python3.6/site-packages/pandas/core/generic.py\u001b[0m in \u001b[0;36mto_sql\u001b[0;34m(self, name, con, schema, if_exists, index, index_label, chunksize, dtype, method)\u001b[0m\n\u001b[1;32m   2529\u001b[0m         sql.to_sql(self, name, con, schema=schema, if_exists=if_exists,\n\u001b[1;32m   2530\u001b[0m                    \u001b[0mindex\u001b[0m\u001b[0;34m=\u001b[0m\u001b[0mindex\u001b[0m\u001b[0;34m,\u001b[0m \u001b[0mindex_label\u001b[0m\u001b[0;34m=\u001b[0m\u001b[0mindex_label\u001b[0m\u001b[0;34m,\u001b[0m \u001b[0mchunksize\u001b[0m\u001b[0;34m=\u001b[0m\u001b[0mchunksize\u001b[0m\u001b[0;34m,\u001b[0m\u001b[0;34m\u001b[0m\u001b[0;34m\u001b[0m\u001b[0m\n\u001b[0;32m-> 2531\u001b[0;31m                    dtype=dtype, method=method)\n\u001b[0m\u001b[1;32m   2532\u001b[0m \u001b[0;34m\u001b[0m\u001b[0m\n\u001b[1;32m   2533\u001b[0m     def to_pickle(self, path, compression='infer',\n",
        "\u001b[0;32m~/miniconda3/envs/dspy3/lib/python3.6/site-packages/pandas/io/sql.py\u001b[0m in \u001b[0;36mto_sql\u001b[0;34m(frame, name, con, schema, if_exists, index, index_label, chunksize, dtype, method)\u001b[0m\n\u001b[1;32m    458\u001b[0m     pandas_sql.to_sql(frame, name, if_exists=if_exists, index=index,\n\u001b[1;32m    459\u001b[0m                       \u001b[0mindex_label\u001b[0m\u001b[0;34m=\u001b[0m\u001b[0mindex_label\u001b[0m\u001b[0;34m,\u001b[0m \u001b[0mschema\u001b[0m\u001b[0;34m=\u001b[0m\u001b[0mschema\u001b[0m\u001b[0;34m,\u001b[0m\u001b[0;34m\u001b[0m\u001b[0;34m\u001b[0m\u001b[0m\n\u001b[0;32m--> 460\u001b[0;31m                       chunksize=chunksize, dtype=dtype, method=method)\n\u001b[0m\u001b[1;32m    461\u001b[0m \u001b[0;34m\u001b[0m\u001b[0m\n\u001b[1;32m    462\u001b[0m \u001b[0;34m\u001b[0m\u001b[0m\n",
        "\u001b[0;32m~/miniconda3/envs/dspy3/lib/python3.6/site-packages/pandas/io/sql.py\u001b[0m in \u001b[0;36mto_sql\u001b[0;34m(self, frame, name, if_exists, index, index_label, schema, chunksize, dtype, method)\u001b[0m\n\u001b[1;32m   1172\u001b[0m                          schema=schema, dtype=dtype)\n\u001b[1;32m   1173\u001b[0m         \u001b[0mtable\u001b[0m\u001b[0;34m.\u001b[0m\u001b[0mcreate\u001b[0m\u001b[0;34m(\u001b[0m\u001b[0;34m)\u001b[0m\u001b[0;34m\u001b[0m\u001b[0;34m\u001b[0m\u001b[0m\n\u001b[0;32m-> 1174\u001b[0;31m         \u001b[0mtable\u001b[0m\u001b[0;34m.\u001b[0m\u001b[0minsert\u001b[0m\u001b[0;34m(\u001b[0m\u001b[0mchunksize\u001b[0m\u001b[0;34m,\u001b[0m \u001b[0mmethod\u001b[0m\u001b[0;34m=\u001b[0m\u001b[0mmethod\u001b[0m\u001b[0;34m)\u001b[0m\u001b[0;34m\u001b[0m\u001b[0;34m\u001b[0m\u001b[0m\n\u001b[0m\u001b[1;32m   1175\u001b[0m         \u001b[0;32mif\u001b[0m \u001b[0;34m(\u001b[0m\u001b[0;32mnot\u001b[0m \u001b[0mname\u001b[0m\u001b[0;34m.\u001b[0m\u001b[0misdigit\u001b[0m\u001b[0;34m(\u001b[0m\u001b[0;34m)\u001b[0m \u001b[0;32mand\u001b[0m \u001b[0;32mnot\u001b[0m \u001b[0mname\u001b[0m\u001b[0;34m.\u001b[0m\u001b[0mislower\u001b[0m\u001b[0;34m(\u001b[0m\u001b[0;34m)\u001b[0m\u001b[0;34m)\u001b[0m\u001b[0;34m:\u001b[0m\u001b[0;34m\u001b[0m\u001b[0;34m\u001b[0m\u001b[0m\n\u001b[1;32m   1176\u001b[0m             \u001b[0;31m# check for potentially case sensitivity issues (GH7815)\u001b[0m\u001b[0;34m\u001b[0m\u001b[0;34m\u001b[0m\u001b[0;34m\u001b[0m\u001b[0m\n",
        "\u001b[0;32m~/miniconda3/envs/dspy3/lib/python3.6/site-packages/pandas/io/sql.py\u001b[0m in \u001b[0;36minsert\u001b[0;34m(self, chunksize, method)\u001b[0m\n\u001b[1;32m    684\u001b[0m \u001b[0;34m\u001b[0m\u001b[0m\n\u001b[1;32m    685\u001b[0m                 \u001b[0mchunk_iter\u001b[0m \u001b[0;34m=\u001b[0m \u001b[0mzip\u001b[0m\u001b[0;34m(\u001b[0m\u001b[0;34m*\u001b[0m\u001b[0;34m[\u001b[0m\u001b[0marr\u001b[0m\u001b[0;34m[\u001b[0m\u001b[0mstart_i\u001b[0m\u001b[0;34m:\u001b[0m\u001b[0mend_i\u001b[0m\u001b[0;34m]\u001b[0m \u001b[0;32mfor\u001b[0m \u001b[0marr\u001b[0m \u001b[0;32min\u001b[0m \u001b[0mdata_list\u001b[0m\u001b[0;34m]\u001b[0m\u001b[0;34m)\u001b[0m\u001b[0;34m\u001b[0m\u001b[0;34m\u001b[0m\u001b[0m\n\u001b[0;32m--> 686\u001b[0;31m                 \u001b[0mexec_insert\u001b[0m\u001b[0;34m(\u001b[0m\u001b[0mconn\u001b[0m\u001b[0;34m,\u001b[0m \u001b[0mkeys\u001b[0m\u001b[0;34m,\u001b[0m \u001b[0mchunk_iter\u001b[0m\u001b[0;34m)\u001b[0m\u001b[0;34m\u001b[0m\u001b[0;34m\u001b[0m\u001b[0m\n\u001b[0m\u001b[1;32m    687\u001b[0m \u001b[0;34m\u001b[0m\u001b[0m\n\u001b[1;32m    688\u001b[0m     def _query_iterator(self, result, chunksize, columns, coerce_float=True,\n",
        "\u001b[0;32m~/miniconda3/envs/dspy3/lib/python3.6/site-packages/pandas/io/sql.py\u001b[0m in \u001b[0;36m_execute_insert\u001b[0;34m(self, conn, keys, data_iter)\u001b[0m\n\u001b[1;32m    597\u001b[0m         \"\"\"\n\u001b[1;32m    598\u001b[0m         \u001b[0mdata\u001b[0m \u001b[0;34m=\u001b[0m \u001b[0;34m[\u001b[0m\u001b[0mdict\u001b[0m\u001b[0;34m(\u001b[0m\u001b[0mzip\u001b[0m\u001b[0;34m(\u001b[0m\u001b[0mkeys\u001b[0m\u001b[0;34m,\u001b[0m \u001b[0mrow\u001b[0m\u001b[0;34m)\u001b[0m\u001b[0;34m)\u001b[0m \u001b[0;32mfor\u001b[0m \u001b[0mrow\u001b[0m \u001b[0;32min\u001b[0m \u001b[0mdata_iter\u001b[0m\u001b[0;34m]\u001b[0m\u001b[0;34m\u001b[0m\u001b[0;34m\u001b[0m\u001b[0m\n\u001b[0;32m--> 599\u001b[0;31m         \u001b[0mconn\u001b[0m\u001b[0;34m.\u001b[0m\u001b[0mexecute\u001b[0m\u001b[0;34m(\u001b[0m\u001b[0mself\u001b[0m\u001b[0;34m.\u001b[0m\u001b[0mtable\u001b[0m\u001b[0;34m.\u001b[0m\u001b[0minsert\u001b[0m\u001b[0;34m(\u001b[0m\u001b[0;34m)\u001b[0m\u001b[0;34m,\u001b[0m \u001b[0mdata\u001b[0m\u001b[0;34m)\u001b[0m\u001b[0;34m\u001b[0m\u001b[0;34m\u001b[0m\u001b[0m\n\u001b[0m\u001b[1;32m    600\u001b[0m \u001b[0;34m\u001b[0m\u001b[0m\n\u001b[1;32m    601\u001b[0m     \u001b[0;32mdef\u001b[0m \u001b[0m_execute_insert_multi\u001b[0m\u001b[0;34m(\u001b[0m\u001b[0mself\u001b[0m\u001b[0;34m,\u001b[0m \u001b[0mconn\u001b[0m\u001b[0;34m,\u001b[0m \u001b[0mkeys\u001b[0m\u001b[0;34m,\u001b[0m \u001b[0mdata_iter\u001b[0m\u001b[0;34m)\u001b[0m\u001b[0;34m:\u001b[0m\u001b[0;34m\u001b[0m\u001b[0;34m\u001b[0m\u001b[0m\n",
        "\u001b[0;32m~/miniconda3/envs/dspy3/lib/python3.6/site-packages/sqlalchemy/engine/base.py\u001b[0m in \u001b[0;36mexecute\u001b[0;34m(self, object_, *multiparams, **params)\u001b[0m\n\u001b[1;32m    986\u001b[0m             \u001b[0;32mraise\u001b[0m \u001b[0mexc\u001b[0m\u001b[0;34m.\u001b[0m\u001b[0mObjectNotExecutableError\u001b[0m\u001b[0;34m(\u001b[0m\u001b[0mobject_\u001b[0m\u001b[0;34m)\u001b[0m\u001b[0;34m\u001b[0m\u001b[0;34m\u001b[0m\u001b[0m\n\u001b[1;32m    987\u001b[0m         \u001b[0;32melse\u001b[0m\u001b[0;34m:\u001b[0m\u001b[0;34m\u001b[0m\u001b[0;34m\u001b[0m\u001b[0m\n\u001b[0;32m--> 988\u001b[0;31m             \u001b[0;32mreturn\u001b[0m \u001b[0mmeth\u001b[0m\u001b[0;34m(\u001b[0m\u001b[0mself\u001b[0m\u001b[0;34m,\u001b[0m \u001b[0mmultiparams\u001b[0m\u001b[0;34m,\u001b[0m \u001b[0mparams\u001b[0m\u001b[0;34m)\u001b[0m\u001b[0;34m\u001b[0m\u001b[0;34m\u001b[0m\u001b[0m\n\u001b[0m\u001b[1;32m    989\u001b[0m \u001b[0;34m\u001b[0m\u001b[0m\n\u001b[1;32m    990\u001b[0m     \u001b[0;32mdef\u001b[0m \u001b[0m_execute_function\u001b[0m\u001b[0;34m(\u001b[0m\u001b[0mself\u001b[0m\u001b[0;34m,\u001b[0m \u001b[0mfunc\u001b[0m\u001b[0;34m,\u001b[0m \u001b[0mmultiparams\u001b[0m\u001b[0;34m,\u001b[0m \u001b[0mparams\u001b[0m\u001b[0;34m)\u001b[0m\u001b[0;34m:\u001b[0m\u001b[0;34m\u001b[0m\u001b[0;34m\u001b[0m\u001b[0m\n",
        "\u001b[0;32m~/miniconda3/envs/dspy3/lib/python3.6/site-packages/sqlalchemy/sql/elements.py\u001b[0m in \u001b[0;36m_execute_on_connection\u001b[0;34m(self, connection, multiparams, params)\u001b[0m\n\u001b[1;32m    285\u001b[0m     \u001b[0;32mdef\u001b[0m \u001b[0m_execute_on_connection\u001b[0m\u001b[0;34m(\u001b[0m\u001b[0mself\u001b[0m\u001b[0;34m,\u001b[0m \u001b[0mconnection\u001b[0m\u001b[0;34m,\u001b[0m \u001b[0mmultiparams\u001b[0m\u001b[0;34m,\u001b[0m \u001b[0mparams\u001b[0m\u001b[0;34m)\u001b[0m\u001b[0;34m:\u001b[0m\u001b[0;34m\u001b[0m\u001b[0;34m\u001b[0m\u001b[0m\n\u001b[1;32m    286\u001b[0m         \u001b[0;32mif\u001b[0m \u001b[0mself\u001b[0m\u001b[0;34m.\u001b[0m\u001b[0msupports_execution\u001b[0m\u001b[0;34m:\u001b[0m\u001b[0;34m\u001b[0m\u001b[0;34m\u001b[0m\u001b[0m\n\u001b[0;32m--> 287\u001b[0;31m             \u001b[0;32mreturn\u001b[0m \u001b[0mconnection\u001b[0m\u001b[0;34m.\u001b[0m\u001b[0m_execute_clauseelement\u001b[0m\u001b[0;34m(\u001b[0m\u001b[0mself\u001b[0m\u001b[0;34m,\u001b[0m \u001b[0mmultiparams\u001b[0m\u001b[0;34m,\u001b[0m \u001b[0mparams\u001b[0m\u001b[0;34m)\u001b[0m\u001b[0;34m\u001b[0m\u001b[0;34m\u001b[0m\u001b[0m\n\u001b[0m\u001b[1;32m    288\u001b[0m         \u001b[0;32melse\u001b[0m\u001b[0;34m:\u001b[0m\u001b[0;34m\u001b[0m\u001b[0;34m\u001b[0m\u001b[0m\n\u001b[1;32m    289\u001b[0m             \u001b[0;32mraise\u001b[0m \u001b[0mexc\u001b[0m\u001b[0;34m.\u001b[0m\u001b[0mObjectNotExecutableError\u001b[0m\u001b[0;34m(\u001b[0m\u001b[0mself\u001b[0m\u001b[0;34m)\u001b[0m\u001b[0;34m\u001b[0m\u001b[0;34m\u001b[0m\u001b[0m\n",
        "\u001b[0;32m~/miniconda3/envs/dspy3/lib/python3.6/site-packages/sqlalchemy/engine/base.py\u001b[0m in \u001b[0;36m_execute_clauseelement\u001b[0;34m(self, elem, multiparams, params)\u001b[0m\n\u001b[1;32m   1105\u001b[0m             \u001b[0mdistilled_params\u001b[0m\u001b[0;34m,\u001b[0m\u001b[0;34m\u001b[0m\u001b[0;34m\u001b[0m\u001b[0m\n\u001b[1;32m   1106\u001b[0m             \u001b[0mcompiled_sql\u001b[0m\u001b[0;34m,\u001b[0m\u001b[0;34m\u001b[0m\u001b[0;34m\u001b[0m\u001b[0m\n\u001b[0;32m-> 1107\u001b[0;31m             \u001b[0mdistilled_params\u001b[0m\u001b[0;34m,\u001b[0m\u001b[0;34m\u001b[0m\u001b[0;34m\u001b[0m\u001b[0m\n\u001b[0m\u001b[1;32m   1108\u001b[0m         )\n\u001b[1;32m   1109\u001b[0m         \u001b[0;32mif\u001b[0m \u001b[0mself\u001b[0m\u001b[0;34m.\u001b[0m\u001b[0m_has_events\u001b[0m \u001b[0;32mor\u001b[0m \u001b[0mself\u001b[0m\u001b[0;34m.\u001b[0m\u001b[0mengine\u001b[0m\u001b[0;34m.\u001b[0m\u001b[0m_has_events\u001b[0m\u001b[0;34m:\u001b[0m\u001b[0;34m\u001b[0m\u001b[0;34m\u001b[0m\u001b[0m\n",
        "\u001b[0;32m~/miniconda3/envs/dspy3/lib/python3.6/site-packages/sqlalchemy/engine/base.py\u001b[0m in \u001b[0;36m_execute_context\u001b[0;34m(self, dialect, constructor, statement, parameters, *args)\u001b[0m\n\u001b[1;32m   1246\u001b[0m         \u001b[0;32mexcept\u001b[0m \u001b[0mBaseException\u001b[0m \u001b[0;32mas\u001b[0m \u001b[0me\u001b[0m\u001b[0;34m:\u001b[0m\u001b[0;34m\u001b[0m\u001b[0;34m\u001b[0m\u001b[0m\n\u001b[1;32m   1247\u001b[0m             self._handle_dbapi_exception(\n\u001b[0;32m-> 1248\u001b[0;31m                 \u001b[0me\u001b[0m\u001b[0;34m,\u001b[0m \u001b[0mstatement\u001b[0m\u001b[0;34m,\u001b[0m \u001b[0mparameters\u001b[0m\u001b[0;34m,\u001b[0m \u001b[0mcursor\u001b[0m\u001b[0;34m,\u001b[0m \u001b[0mcontext\u001b[0m\u001b[0;34m\u001b[0m\u001b[0;34m\u001b[0m\u001b[0m\n\u001b[0m\u001b[1;32m   1249\u001b[0m             )\n\u001b[1;32m   1250\u001b[0m \u001b[0;34m\u001b[0m\u001b[0m\n",
        "\u001b[0;32m~/miniconda3/envs/dspy3/lib/python3.6/site-packages/sqlalchemy/engine/base.py\u001b[0m in \u001b[0;36m_handle_dbapi_exception\u001b[0;34m(self, e, statement, parameters, cursor, context)\u001b[0m\n\u001b[1;32m   1464\u001b[0m                 \u001b[0mutil\u001b[0m\u001b[0;34m.\u001b[0m\u001b[0mraise_from_cause\u001b[0m\u001b[0;34m(\u001b[0m\u001b[0mnewraise\u001b[0m\u001b[0;34m,\u001b[0m \u001b[0mexc_info\u001b[0m\u001b[0;34m)\u001b[0m\u001b[0;34m\u001b[0m\u001b[0;34m\u001b[0m\u001b[0m\n\u001b[1;32m   1465\u001b[0m             \u001b[0;32melif\u001b[0m \u001b[0mshould_wrap\u001b[0m\u001b[0;34m:\u001b[0m\u001b[0;34m\u001b[0m\u001b[0;34m\u001b[0m\u001b[0m\n\u001b[0;32m-> 1466\u001b[0;31m                 \u001b[0mutil\u001b[0m\u001b[0;34m.\u001b[0m\u001b[0mraise_from_cause\u001b[0m\u001b[0;34m(\u001b[0m\u001b[0msqlalchemy_exception\u001b[0m\u001b[0;34m,\u001b[0m \u001b[0mexc_info\u001b[0m\u001b[0;34m)\u001b[0m\u001b[0;34m\u001b[0m\u001b[0;34m\u001b[0m\u001b[0m\n\u001b[0m\u001b[1;32m   1467\u001b[0m             \u001b[0;32melse\u001b[0m\u001b[0;34m:\u001b[0m\u001b[0;34m\u001b[0m\u001b[0;34m\u001b[0m\u001b[0m\n\u001b[1;32m   1468\u001b[0m                 \u001b[0mutil\u001b[0m\u001b[0;34m.\u001b[0m\u001b[0mreraise\u001b[0m\u001b[0;34m(\u001b[0m\u001b[0;34m*\u001b[0m\u001b[0mexc_info\u001b[0m\u001b[0;34m)\u001b[0m\u001b[0;34m\u001b[0m\u001b[0;34m\u001b[0m\u001b[0m\n",
        "\u001b[0;32m~/miniconda3/envs/dspy3/lib/python3.6/site-packages/sqlalchemy/util/compat.py\u001b[0m in \u001b[0;36mraise_from_cause\u001b[0;34m(exception, exc_info)\u001b[0m\n\u001b[1;32m    381\u001b[0m     \u001b[0mexc_type\u001b[0m\u001b[0;34m,\u001b[0m \u001b[0mexc_value\u001b[0m\u001b[0;34m,\u001b[0m \u001b[0mexc_tb\u001b[0m \u001b[0;34m=\u001b[0m \u001b[0mexc_info\u001b[0m\u001b[0;34m\u001b[0m\u001b[0;34m\u001b[0m\u001b[0m\n\u001b[1;32m    382\u001b[0m     \u001b[0mcause\u001b[0m \u001b[0;34m=\u001b[0m \u001b[0mexc_value\u001b[0m \u001b[0;32mif\u001b[0m \u001b[0mexc_value\u001b[0m \u001b[0;32mis\u001b[0m \u001b[0;32mnot\u001b[0m \u001b[0mexception\u001b[0m \u001b[0;32melse\u001b[0m \u001b[0;32mNone\u001b[0m\u001b[0;34m\u001b[0m\u001b[0;34m\u001b[0m\u001b[0m\n\u001b[0;32m--> 383\u001b[0;31m     \u001b[0mreraise\u001b[0m\u001b[0;34m(\u001b[0m\u001b[0mtype\u001b[0m\u001b[0;34m(\u001b[0m\u001b[0mexception\u001b[0m\u001b[0;34m)\u001b[0m\u001b[0;34m,\u001b[0m \u001b[0mexception\u001b[0m\u001b[0;34m,\u001b[0m \u001b[0mtb\u001b[0m\u001b[0;34m=\u001b[0m\u001b[0mexc_tb\u001b[0m\u001b[0;34m,\u001b[0m \u001b[0mcause\u001b[0m\u001b[0;34m=\u001b[0m\u001b[0mcause\u001b[0m\u001b[0;34m)\u001b[0m\u001b[0;34m\u001b[0m\u001b[0;34m\u001b[0m\u001b[0m\n\u001b[0m\u001b[1;32m    384\u001b[0m \u001b[0;34m\u001b[0m\u001b[0m\n\u001b[1;32m    385\u001b[0m \u001b[0;34m\u001b[0m\u001b[0m\n",
        "\u001b[0;32m~/miniconda3/envs/dspy3/lib/python3.6/site-packages/sqlalchemy/util/compat.py\u001b[0m in \u001b[0;36mreraise\u001b[0;34m(tp, value, tb, cause)\u001b[0m\n\u001b[1;32m    126\u001b[0m             \u001b[0mvalue\u001b[0m\u001b[0;34m.\u001b[0m\u001b[0m__cause__\u001b[0m \u001b[0;34m=\u001b[0m \u001b[0mcause\u001b[0m\u001b[0;34m\u001b[0m\u001b[0;34m\u001b[0m\u001b[0m\n\u001b[1;32m    127\u001b[0m         \u001b[0;32mif\u001b[0m \u001b[0mvalue\u001b[0m\u001b[0;34m.\u001b[0m\u001b[0m__traceback__\u001b[0m \u001b[0;32mis\u001b[0m \u001b[0;32mnot\u001b[0m \u001b[0mtb\u001b[0m\u001b[0;34m:\u001b[0m\u001b[0;34m\u001b[0m\u001b[0;34m\u001b[0m\u001b[0m\n\u001b[0;32m--> 128\u001b[0;31m             \u001b[0;32mraise\u001b[0m \u001b[0mvalue\u001b[0m\u001b[0;34m.\u001b[0m\u001b[0mwith_traceback\u001b[0m\u001b[0;34m(\u001b[0m\u001b[0mtb\u001b[0m\u001b[0;34m)\u001b[0m\u001b[0;34m\u001b[0m\u001b[0;34m\u001b[0m\u001b[0m\n\u001b[0m\u001b[1;32m    129\u001b[0m         \u001b[0;32mraise\u001b[0m \u001b[0mvalue\u001b[0m\u001b[0;34m\u001b[0m\u001b[0;34m\u001b[0m\u001b[0m\n\u001b[1;32m    130\u001b[0m \u001b[0;34m\u001b[0m\u001b[0m\n",
        "\u001b[0;32m~/miniconda3/envs/dspy3/lib/python3.6/site-packages/sqlalchemy/engine/base.py\u001b[0m in \u001b[0;36m_execute_context\u001b[0;34m(self, dialect, constructor, statement, parameters, *args)\u001b[0m\n\u001b[1;32m   1222\u001b[0m                 \u001b[0;32mif\u001b[0m \u001b[0;32mnot\u001b[0m \u001b[0mevt_handled\u001b[0m\u001b[0;34m:\u001b[0m\u001b[0;34m\u001b[0m\u001b[0;34m\u001b[0m\u001b[0m\n\u001b[1;32m   1223\u001b[0m                     self.dialect.do_executemany(\n\u001b[0;32m-> 1224\u001b[0;31m                         \u001b[0mcursor\u001b[0m\u001b[0;34m,\u001b[0m \u001b[0mstatement\u001b[0m\u001b[0;34m,\u001b[0m \u001b[0mparameters\u001b[0m\u001b[0;34m,\u001b[0m \u001b[0mcontext\u001b[0m\u001b[0;34m\u001b[0m\u001b[0;34m\u001b[0m\u001b[0m\n\u001b[0m\u001b[1;32m   1225\u001b[0m                     )\n\u001b[1;32m   1226\u001b[0m             \u001b[0;32melif\u001b[0m \u001b[0;32mnot\u001b[0m \u001b[0mparameters\u001b[0m \u001b[0;32mand\u001b[0m \u001b[0mcontext\u001b[0m\u001b[0;34m.\u001b[0m\u001b[0mno_parameters\u001b[0m\u001b[0;34m:\u001b[0m\u001b[0;34m\u001b[0m\u001b[0;34m\u001b[0m\u001b[0m\n",
        "\u001b[0;32m~/miniconda3/envs/dspy3/lib/python3.6/site-packages/sqlalchemy/engine/default.py\u001b[0m in \u001b[0;36mdo_executemany\u001b[0;34m(self, cursor, statement, parameters, context)\u001b[0m\n\u001b[1;32m    545\u001b[0m \u001b[0;34m\u001b[0m\u001b[0m\n\u001b[1;32m    546\u001b[0m     \u001b[0;32mdef\u001b[0m \u001b[0mdo_executemany\u001b[0m\u001b[0;34m(\u001b[0m\u001b[0mself\u001b[0m\u001b[0;34m,\u001b[0m \u001b[0mcursor\u001b[0m\u001b[0;34m,\u001b[0m \u001b[0mstatement\u001b[0m\u001b[0;34m,\u001b[0m \u001b[0mparameters\u001b[0m\u001b[0;34m,\u001b[0m \u001b[0mcontext\u001b[0m\u001b[0;34m=\u001b[0m\u001b[0;32mNone\u001b[0m\u001b[0;34m)\u001b[0m\u001b[0;34m:\u001b[0m\u001b[0;34m\u001b[0m\u001b[0;34m\u001b[0m\u001b[0m\n\u001b[0;32m--> 547\u001b[0;31m         \u001b[0mcursor\u001b[0m\u001b[0;34m.\u001b[0m\u001b[0mexecutemany\u001b[0m\u001b[0;34m(\u001b[0m\u001b[0mstatement\u001b[0m\u001b[0;34m,\u001b[0m \u001b[0mparameters\u001b[0m\u001b[0;34m)\u001b[0m\u001b[0;34m\u001b[0m\u001b[0;34m\u001b[0m\u001b[0m\n\u001b[0m\u001b[1;32m    548\u001b[0m \u001b[0;34m\u001b[0m\u001b[0m\n\u001b[1;32m    549\u001b[0m     \u001b[0;32mdef\u001b[0m \u001b[0mdo_execute\u001b[0m\u001b[0;34m(\u001b[0m\u001b[0mself\u001b[0m\u001b[0;34m,\u001b[0m \u001b[0mcursor\u001b[0m\u001b[0;34m,\u001b[0m \u001b[0mstatement\u001b[0m\u001b[0;34m,\u001b[0m \u001b[0mparameters\u001b[0m\u001b[0;34m,\u001b[0m \u001b[0mcontext\u001b[0m\u001b[0;34m=\u001b[0m\u001b[0;32mNone\u001b[0m\u001b[0;34m)\u001b[0m\u001b[0;34m:\u001b[0m\u001b[0;34m\u001b[0m\u001b[0;34m\u001b[0m\u001b[0m\n",
        "\u001b[0;31mOperationalError\u001b[0m: (sqlite3.OperationalError) table presidents has no column named index\n[SQL: INSERT INTO presidents (\"index\", first_name, last_name, year_of_birth) VALUES (?, ?, ?, ?)]\n[parameters: ((0, 'Theodore', 'Roosevelt', 1858), (1, 'Richard', 'Nixon', 1913), (2, 'Barack', 'Obama', 1961))]\n(Background on this error at: http://sqlalche.me/e/e3q8)"
       ]
      }
     ],
     "persistentId": "3cf6e8a2-69f1-45a9-9037-327a6d8045f0",
     "text": "new_dataframe.to_sql('presidents', con=sqlite_engine, if_exists='append')"
    },
    "executionTime": "2019-09-10T15:33:41.134Z"
   },
   {
    "cell": {
     "executionCount": 20,
     "executionEventId": "d0ef0e53-60bb-4712-921d-6260f8661b93",
     "hasError": false,
     "id": "508431f2-1ca3-4762-b09a-c6d55633a3a2",
     "outputs": [],
     "persistentId": "3cf6e8a2-69f1-45a9-9037-327a6d8045f0",
     "text": "new_dataframe.to_sql('presidents', con=sqlite_engine, if_exists='append', index=False)"
    },
    "executionTime": "2019-09-10T15:35:16.010Z"
   },
   {
    "cell": {
     "executionCount": 21,
     "executionEventId": "015637b2-27b7-40f6-9163-053a1e7430cd",
     "hasError": false,
     "id": "f2e2e2ff-9f6f-4168-8512-e0af466ed46b",
     "outputs": [
      {
       "name": "stdout",
       "output_type": "stream",
       "text": "Query started at 08:35:30 AM PDT; Query executed in 0.00 m"
      }
     ],
     "persistentId": "20ba6580-1a68-49dd-abdb-f9e5f0accee4",
     "text": "%%read_sql df1\nSELECT first_name,\n       last_name,\n       year_of_birth\nFROM presidents\nWHERE year_of_birth > {birthyear}"
    },
    "executionTime": "2019-09-10T15:35:30.554Z"
   },
   {
    "cell": {
     "executionCount": 22,
     "executionEventId": "dc3a005f-e387-41d7-8384-17025ceea76a",
     "hasError": false,
     "id": "55255a72-892b-409e-a6b0-54e87860237c",
     "outputs": [
      {
       "data": {
        "text/html": "<div>\n<style scoped>\n    .dataframe tbody tr th:only-of-type {\n        vertical-align: middle;\n    }\n\n    .dataframe tbody tr th {\n        vertical-align: top;\n    }\n\n    .dataframe thead th {\n        text-align: right;\n    }\n</style>\n<table border=\"1\" class=\"dataframe\">\n  <thead>\n    <tr style=\"text-align: right;\">\n      <th></th>\n      <th>first_name</th>\n      <th>last_name</th>\n      <th>year_of_birth</th>\n    </tr>\n  </thead>\n  <tbody>\n    <tr>\n      <th>0</th>\n      <td>Abraham</td>\n      <td>Lincoln</td>\n      <td>1809</td>\n    </tr>\n    <tr>\n      <th>1</th>\n      <td>Theodore</td>\n      <td>Roosevelt</td>\n      <td>1858</td>\n    </tr>\n    <tr>\n      <th>2</th>\n      <td>Richard</td>\n      <td>Nixon</td>\n      <td>1913</td>\n    </tr>\n    <tr>\n      <th>3</th>\n      <td>Barack</td>\n      <td>Obama</td>\n      <td>1961</td>\n    </tr>\n    <tr>\n      <th>4</th>\n      <td>Theodore</td>\n      <td>Roosevelt</td>\n      <td>1858</td>\n    </tr>\n    <tr>\n      <th>5</th>\n      <td>Richard</td>\n      <td>Nixon</td>\n      <td>1913</td>\n    </tr>\n    <tr>\n      <th>6</th>\n      <td>Barack</td>\n      <td>Obama</td>\n      <td>1961</td>\n    </tr>\n  </tbody>\n</table>\n</div>",
        "text/plain": "  first_name  last_name  year_of_birth\n0    Abraham    Lincoln           1809\n1   Theodore  Roosevelt           1858\n2    Richard      Nixon           1913\n3     Barack      Obama           1961\n4   Theodore  Roosevelt           1858\n5    Richard      Nixon           1913\n6     Barack      Obama           1961"
       },
       "execution_count": 22,
       "metadata": {},
       "output_type": "execute_result"
      }
     ],
     "persistentId": "8909d264-40c4-4d72-b993-d50404f375f2",
     "text": "df1"
    },
    "executionTime": "2019-09-10T15:35:30.735Z"
   },
   {
    "cell": {
     "executionCount": 23,
     "executionEventId": "c1273a6e-69d4-4f44-a73f-3603f82bba59",
     "hasError": false,
     "id": "165d390e-99f1-4ea6-bb2a-7d0438983a43",
     "outputs": [],
     "persistentId": "e40acfe4-1ee0-49b3-88ec-516da30b1cd1",
     "text": "coal.to_sql('coal', con=sqlite_engine, if_exists='append', index=False)"
    },
    "executionTime": "2019-09-11T03:54:41.507Z"
   },
   {
    "cell": {
     "executionCount": 24,
     "executionEventId": "f01f4746-e8b3-4a77-987b-0a204afd8c35",
     "hasError": false,
     "id": "0ca20368-c81d-4f4d-9545-5d4290602567",
     "outputs": [
      {
       "name": "stdout",
       "output_type": "stream",
       "text": "Query started at 08:54:52 PM PDT; Query executed in 0.00 m"
      }
     ],
     "persistentId": "ed983a67-487c-466b-9a1e-d9aef7211709",
     "text": "%%read_sql example\nSELECT * FROM coal"
    },
    "executionTime": "2019-09-11T03:54:52.656Z"
   },
   {
    "cell": {
     "executionCount": 25,
     "executionEventId": "a4647ebc-a20b-4651-962c-e2fd3a0a25f8",
     "hasError": false,
     "id": "184e0d7b-01a3-4254-8f97-eae9c43366b7",
     "outputs": [
      {
       "data": {
        "text/html": "<div>\n<style scoped>\n    .dataframe tbody tr th:only-of-type {\n        vertical-align: middle;\n    }\n\n    .dataframe tbody tr th {\n        vertical-align: top;\n    }\n\n    .dataframe thead th {\n        text-align: right;\n    }\n</style>\n<table border=\"1\" class=\"dataframe\">\n  <thead>\n    <tr style=\"text-align: right;\">\n      <th></th>\n      <th>MSHA_ID</th>\n      <th>Average_Employees</th>\n      <th>Company_Type</th>\n      <th>Labor_Hours</th>\n      <th>Mine_Basin</th>\n      <th>Mine_County</th>\n      <th>Mine_Name</th>\n      <th>Mine_State</th>\n      <th>Mine_Status</th>\n      <th>Mine_Type</th>\n      <th>Operating_Company</th>\n      <th>Operating_Company_Address</th>\n      <th>Operation_Type</th>\n      <th>Production_short_tons</th>\n      <th>Union_Code</th>\n      <th>Year</th>\n    </tr>\n  </thead>\n  <tbody>\n    <tr>\n      <th>0</th>\n      <td>103295</td>\n      <td>18.0</td>\n      <td>Independent Producer Operator</td>\n      <td>39175.0</td>\n      <td>Appalachia Southern</td>\n      <td>Bibb</td>\n      <td>Seymour Mine</td>\n      <td>Alabama</td>\n      <td>Active</td>\n      <td>Surface</td>\n      <td>Hope Coal Company Inc</td>\n      <td>P.O. Box 249, Maylene, AL 35114</td>\n      <td>Mine only</td>\n      <td>105082.0</td>\n      <td>None</td>\n      <td>2008</td>\n    </tr>\n    <tr>\n      <th>1</th>\n      <td>103117</td>\n      <td>19.0</td>\n      <td>Operating Subsidiary</td>\n      <td>29926.0</td>\n      <td>Appalachia Southern</td>\n      <td>Cullman</td>\n      <td>Mine #2, #3, #4</td>\n      <td>Alabama</td>\n      <td>Active, men working, not producing</td>\n      <td>Surface</td>\n      <td>Twin Pines Coal Company Inc</td>\n      <td>1874 County Road 15, Bremen, AL 35033</td>\n      <td>Mine only</td>\n      <td>10419.0</td>\n      <td>None</td>\n      <td>2008</td>\n    </tr>\n    <tr>\n      <th>2</th>\n      <td>103361</td>\n      <td>20.0</td>\n      <td>Operating Subsidiary</td>\n      <td>42542.0</td>\n      <td>Appalachia Southern</td>\n      <td>Cullman</td>\n      <td>Cold Springs West Mine</td>\n      <td>Alabama</td>\n      <td>Active</td>\n      <td>Surface</td>\n      <td>Twin Pines Coal Company</td>\n      <td>74 Industrial Parkway, Jasper, AL 35502</td>\n      <td>Mine only</td>\n      <td>143208.0</td>\n      <td>None</td>\n      <td>2008</td>\n    </tr>\n    <tr>\n      <th>3</th>\n      <td>100759</td>\n      <td>395.0</td>\n      <td>Operating Subsidiary</td>\n      <td>890710.0</td>\n      <td>Appalachia Southern</td>\n      <td>Fayette</td>\n      <td>North River # 1 Underground Mi</td>\n      <td>Alabama</td>\n      <td>Active</td>\n      <td>Underground</td>\n      <td>Chevron Mining Inc</td>\n      <td>3114 County Road 63 S, Berry, AL 35546</td>\n      <td>Mine and Preparation Plant</td>\n      <td>2923261.0</td>\n      <td>United Mine Workers of America</td>\n      <td>2008</td>\n    </tr>\n    <tr>\n      <th>4</th>\n      <td>103246</td>\n      <td>22.0</td>\n      <td>Independent Producer Operator</td>\n      <td>55403.0</td>\n      <td>Appalachia Southern</td>\n      <td>Franklin</td>\n      <td>Bear Creek</td>\n      <td>Alabama</td>\n      <td>Active</td>\n      <td>Surface</td>\n      <td>Birmingham Coal &amp; Coke Co., In</td>\n      <td>912 Edenton Street, Birmingham, AL 35242</td>\n      <td>Mine only</td>\n      <td>183137.0</td>\n      <td>None</td>\n      <td>2008</td>\n    </tr>\n  </tbody>\n</table>\n</div>",
        "text/plain": "   MSHA_ID  Average_Employees                   Company_Type  Labor_Hours  \\\n0   103295               18.0  Independent Producer Operator      39175.0   \n1   103117               19.0           Operating Subsidiary      29926.0   \n2   103361               20.0           Operating Subsidiary      42542.0   \n3   100759              395.0           Operating Subsidiary     890710.0   \n4   103246               22.0  Independent Producer Operator      55403.0   \n\n            Mine_Basin Mine_County                       Mine_Name Mine_State  \\\n0  Appalachia Southern        Bibb                    Seymour Mine    Alabama   \n1  Appalachia Southern     Cullman                 Mine #2, #3, #4    Alabama   \n2  Appalachia Southern     Cullman          Cold Springs West Mine    Alabama   \n3  Appalachia Southern     Fayette  North River # 1 Underground Mi    Alabama   \n4  Appalachia Southern    Franklin                      Bear Creek    Alabama   \n\n                          Mine_Status    Mine_Type  \\\n0                              Active      Surface   \n1  Active, men working, not producing      Surface   \n2                              Active      Surface   \n3                              Active  Underground   \n4                              Active      Surface   \n\n                Operating_Company                 Operating_Company_Address  \\\n0           Hope Coal Company Inc           P.O. Box 249, Maylene, AL 35114   \n1     Twin Pines Coal Company Inc     1874 County Road 15, Bremen, AL 35033   \n2         Twin Pines Coal Company   74 Industrial Parkway, Jasper, AL 35502   \n3              Chevron Mining Inc    3114 County Road 63 S, Berry, AL 35546   \n4  Birmingham Coal & Coke Co., In  912 Edenton Street, Birmingham, AL 35242   \n\n               Operation_Type  Production_short_tons  \\\n0                   Mine only               105082.0   \n1                   Mine only                10419.0   \n2                   Mine only               143208.0   \n3  Mine and Preparation Plant              2923261.0   \n4                   Mine only               183137.0   \n\n                       Union_Code  Year  \n0                            None  2008  \n1                            None  2008  \n2                            None  2008  \n3  United Mine Workers of America  2008  \n4                            None  2008  "
       },
       "execution_count": 25,
       "metadata": {},
       "output_type": "execute_result"
      }
     ],
     "persistentId": "8b91570d-9bbe-4c58-8137-2e43581bd5b0",
     "text": "example.head()"
    },
    "executionTime": "2019-09-11T03:54:59.238Z"
   },
   {
    "cell": {
     "executionCount": 26,
     "executionEventId": "64a0cc72-3cf8-43e5-941f-0f53713b01d9",
     "hasError": false,
     "id": "edaa35af-a886-4d89-a3e4-52cbcc8ce521",
     "outputs": [
      {
       "data": {
        "text/plain": "Index(['MSHA_ID', 'Average_Employees', 'Company_Type', 'Labor_Hours',\n       'Mine_Basin', 'Mine_County', 'Mine_Name', 'Mine_State', 'Mine_Status',\n       'Mine_Type', 'Operating_Company', 'Operating_Company_Address',\n       'Operation_Type', 'Production_short_tons', 'Union_Code', 'Year'],\n      dtype='object')"
       },
       "execution_count": 26,
       "metadata": {},
       "output_type": "execute_result"
      }
     ],
     "persistentId": "4a8f6ef6-1356-419e-94de-a171b32c5090",
     "text": "example.columns"
    },
    "executionTime": "2019-09-11T03:55:09.796Z"
   },
   {
    "cell": {
     "executionCount": 1,
     "executionEventId": "2ec79e0e-71ba-43d0-8d0c-ff263de2ec98",
     "hasError": false,
     "id": "7eb1da68-b217-4d59-aede-3b1ec8c91312",
     "outputs": [
      {
       "data": {
        "application/javascript": "\n    require(['notebook/js/codecell'], function(codecell) {\n      // https://github.com/jupyter/notebook/issues/2453\n      codecell.CodeCell.options_default.highlight_modes['magic_text/x-sql'] = {'reg':[/^%read_sql/, /.*=\\s*%read_sql/,\n                                                                                      /^%%read_sql/]};\n      Jupyter.notebook.events.one('kernel_ready.Kernel', function(){\n          console.log('BBBBB');\n          Jupyter.notebook.get_cells().map(function(cell){\n              if (cell.cell_type == 'code'){ cell.auto_highlight(); } }) ;\n      });\n    });\n    "
       },
       "metadata": {},
       "output_type": "display_data"
      }
     ],
     "persistentId": "36ba17ea-27a3-46d6-9cd2-5b3148ce5778",
     "text": "%load_ext sql_magic"
    },
    "executionTime": "2019-09-12T03:09:42.891Z"
   },
   {
    "cell": {
     "executionCount": 2,
     "executionEventId": "43202f23-5cc8-4e02-8140-efee681b2eb8",
     "hasError": false,
     "id": "5319f956-b6a3-4fdd-894f-19eadf2edd67",
     "outputs": [],
     "persistentId": "d22c6ac4-f6d4-497e-897e-6cc6fac1be75",
     "text": "import sqlalchemy\nimport pandas as pd\nimport sqlite3\nfrom sqlalchemy import create_engine\nsqlite_engine = create_engine('sqlite://')"
    },
    "executionTime": "2019-09-12T03:09:44.038Z"
   },
   {
    "cell": {
     "executionCount": 3,
     "executionEventId": "572835ca-e405-4259-89f6-b40d6d543a44",
     "hasError": false,
     "id": "e072cb9c-d55f-4f36-a797-55cd4c8ae026",
     "outputs": [],
     "persistentId": "1066823e-b404-4b0f-91d7-ea6f69361caf",
     "text": "%config SQL.conn_name = \"sqlite_engine\""
    },
    "executionTime": "2019-09-12T03:09:44.609Z"
   }
  ],
  "kernelspec": {
   "display_name": "dspy3",
   "language": "python",
   "name": "dspy3"
  },
  "language_info": {
   "codemirror_mode": {
    "name": "ipython",
    "version": 3
   },
   "file_extension": ".py",
   "mimetype": "text/x-python",
   "name": "python",
   "nbconvert_exporter": "python",
   "pygments_lexer": "ipython3",
   "version": "3.6.11"
  },
  "toc": {
   "base_numbering": 1,
   "nav_menu": {
    "height": "48px",
    "width": "252px"
   },
   "number_sections": true,
   "sideBar": true,
   "skip_h1_title": false,
   "title_cell": "Table of Contents",
   "title_sidebar": "Contents",
   "toc_cell": false,
   "toc_position": {},
   "toc_section_display": "block",
   "toc_window_display": false
  },
  "uuid": "43cb3b69-f0cc-42eb-bcc1-5f5abd7c5c92",
  "varInspector": {
   "cols": {
    "lenName": 16,
    "lenType": 16,
    "lenVar": 40
   },
   "kernels_config": {
    "python": {
     "delete_cmd_postfix": "",
     "delete_cmd_prefix": "del ",
     "library": "var_list.py",
     "varRefreshCmd": "print(var_dic_list())"
    },
    "r": {
     "delete_cmd_postfix": ") ",
     "delete_cmd_prefix": "rm(",
     "library": "var_list.r",
     "varRefreshCmd": "cat(var_dic_list()) "
    }
   },
   "types_to_exclude": [
    "module",
    "function",
    "builtin_function_or_method",
    "instance",
    "_Feature"
   ],
   "window_display": false
  }
 },
 "nbformat": 4,
 "nbformat_minor": 4
}
