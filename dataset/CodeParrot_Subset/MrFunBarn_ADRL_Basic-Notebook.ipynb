{
 "cells": [
  {
   "cell_type": "code",
   "execution_count": 101,
   "metadata": {
    "collapsed": true
   },
   "outputs": [],
   "source": [
    "# This is the setup and \n",
    "import re\n",
    "import subprocess\n",
    "\n",
    "from astropy.io import fits\n",
    "import pyfits\n",
    "\n",
    "# Allow cell output in markdown using printmd function.\n",
    "from IPython.display import Markdown, display\n",
    "def printmd(string):\n",
    "    display(Markdown(string))\n",
    "printmd('**bold**')"
   ]
  },
  {
   "cell_type": "code",
   "execution_count": 100,
   "metadata": {
    "collapsed": false
   },
   "outputs": [
    {
     "name": "stdout",
     "output_type": "stream",
     "text": [
      "\u001b[0m\u001b[01;34m29-06-2014UT-ARCSAT\u001b[0m/  dataSet.py  LICENSE         masterlog.log\r\n",
      "Basic-Notebook.ipynb  images.py   log_handler.py  README.md\r\n"
     ]
    }
   ],
   "source": [
    "ls\n"
   ]
  },
  {
   "cell_type": "code",
   "execution_count": 954,
   "metadata": {
    "collapsed": false
   },
   "outputs": [],
   "source": [
    "def read_obs_log(logName):\n",
    "    # The Latin-1 encoding is needed because of the degree symobl.\n",
    "    log = open(logName,'r', encoding='Latin-1')\n",
    "    log = log.read()\n",
    "    return log\n",
    "\n",
    "def extract_log_metadata(log, filesMeta):\n",
    "    \"\"\"\n",
    "    Parse log string and return a list of filenames and a dictionary.\n",
    "    \n",
    "    Arguments:\n",
    "    - ARCSAT log in the form of a sngle string.\n",
    "    \n",
    "    Returns:\n",
    "    - List of filenames(strings) that apear in the log. The file names\n",
    "      have no .fits extension.\n",
    "    - Dictionary whith the filenames as keys. The value for each filename\n",
    "      (key) is a dictionary with the time. \n",
    "      \n",
    "    Parses an arcsat log in the form of a single string; meant to handle\n",
    "    a string comprised of all the logs for a given night. Finds all image\n",
    "    file names referanced in the log and creates a list of those names (these\n",
    "    file names don't have .fits extensions). Builds a dictionary with keys for\n",
    "    each of these files. The value for each is itself a dictions with keys and\n",
    "    vlues coresponding to information in the log. Find the time an image was\n",
    "    finished and weither or not the image was plate solved. If plate solved\n",
    "    the average FWHM is found.\n",
    "    \"\"\"\n",
    "    \n",
    "    filenames = []\n",
    "    # Find the files that have information in the logs.\n",
    "    searches = re.findall(r'(Imaging to) (\\S+)', log)\n",
    "    [filenames.append(x[1].strip('\\n')) for x in searches[:]]\n",
    "    filenames = [x + '.fits' for x in filenames]\n",
    "    # Find all the relevant information on each file in the logs.\n",
    "    for name in filenames:\n",
    "        nameInLog = name.replace('.fits','')\n",
    "        # Build a string containing only information for a single file.\n",
    "        searchstring = r''+nameInLog+'.*?turning tracking off for safety\\)'\n",
    "        singleImageMeta = str(re.findall(searchstring, log, re.DOTALL)[0])\n",
    "        filesMeta[name] = {}\n",
    "        # Find the time that a given file was finished.\n",
    "        finishTime = re.search(r'(\\(exposure complete and image downloaded\\))(.*?)(\\S{8})',\n",
    "                               singleImageMeta, re.DOTALL)\n",
    "        finishTime = finishTime.group(3)\n",
    "        filesMeta[name]['finishTime'] = finishTime\n",
    "        # Dtermine if an image was plate solved and if so, get the average FWHM.\n",
    "        if 'Solved!' in singleImageMeta:\n",
    "            filesMeta[name]['solved'] = True\n",
    "            fwhm = re.search(r'(Image) (FWHM is) (\\d\\D\\d)', singleImageMeta)\n",
    "            fwhm = float(fwhm.group(3))\n",
    "            filesMeta[name]['fwhm'] = fwhm\n",
    "        else:\n",
    "            filesMeta[name]['solved'] = False\n",
    "    return filesMeta\n",
    "\n",
    "def create_files_meta():\n",
    "    filesMeta = {}\n",
    "    # List all fits files in the current dir into a string.\n",
    "    ls = subprocess.check_output(['ls -1 *.fits'],\n",
    "                                 universal_newlines=True, shell=True).strip().split('\\n')\n",
    "    # Determine the type of the image by file name, because french fries.\n",
    "    for i in ls:\n",
    "        filesMeta[i] = {}\n",
    "        if 'Dark' in i:\n",
    "            filesMeta[i]['imtype'] = 'dark'\n",
    "            print(i)\n",
    "        elif 'Bias' in i:\n",
    "            filesMeta[i]['imtype'] = 'bias'\n",
    "        elif 'skyflat' in i:\n",
    "            filesMeta[i]['imtype'] = 'skyflat'\n",
    "        elif 'domeflat' in i:\n",
    "            filesMeta[i]['imtype'] = 'domeflat'\n",
    "        else:\n",
    "            filesMeta[i]['imtype'] = 'object'\n",
    "            \n",
    "        \n",
    "    return filesMeta, ls"
   ]
  },
  {
   "cell_type": "code",
   "execution_count": 875,
   "metadata": {
    "collapsed": false
   },
   "outputs": [
    {
     "name": "stdout",
     "output_type": "stream",
     "text": [
      "/home/brandon/Work/ADRL\n"
     ]
    }
   ],
   "source": [
    "cd /home/brandon/Work/ADRL/"
   ]
  },
  {
   "cell_type": "code",
   "execution_count": 876,
   "metadata": {
    "collapsed": false
   },
   "outputs": [],
   "source": [
    "log = read_arcsat_obs_log('masterlog.log')"
   ]
  },
  {
   "cell_type": "code",
   "execution_count": 877,
   "metadata": {
    "collapsed": false
   },
   "outputs": [
    {
     "name": "stdout",
     "output_type": "stream",
     "text": [
      "/home/brandon/Work/ADRL/29-06-2014UT-ARCSAT\n"
     ]
    }
   ],
   "source": [
    "cd 29-06-2014UT-ARCSAT/"
   ]
  },
  {
   "cell_type": "code",
   "execution_count": 957,
   "metadata": {
    "collapsed": false
   },
   "outputs": [
    {
     "name": "stdout",
     "output_type": "stream",
     "text": [
      "Dark_B2_20140629_120359.fits\n",
      "Dark_B2_20140629_120729.fits\n",
      "Dark_B2_20140629_121100.fits\n",
      "{'domeflat_johnson-cousins_V_003.fits': {'imtype': 'domeflat'}, 'skyflat_johnson-cousins_Rc_004.fits': {'imtype': 'skyflat'}, 'NAPG-A-I_johnson-cousins_Ic_20140629_090200.fits': {'fwhm': 2.5, 'solved': True, 'finishTime': '09:05:42'}, 'domeflat_johnson-cousins_V_006.fits': {'imtype': 'domeflat'}, 'skyflat_halpha_6563_50_003.fits': {'imtype': 'skyflat'}, 'NAPG-A-I_johnson-cousins_Ic_20140629_085010.fits': {'fwhm': 2.6, 'solved': True, 'finishTime': '08:53:52'}, 'Bias_B2_20140629_115958.fits': {'imtype': 'bias'}, 'domeflat_johnson-cousins_Ic_002.fits': {'imtype': 'domeflat'}, 'skyflat_johnson-cousins_V_004.fits': {'imtype': 'skyflat'}, 'NAPG-L-V_johnson-cousins_V_20140629_094549.fits': {'fwhm': 2.7, 'solved': True, 'finishTime': '09:49:21'}, 'Bias_B2_20140629_120040.fits': {'imtype': 'bias'}, 'domeflat_johnson-cousins_Rc_003.fits': {'imtype': 'domeflat'}, 'domeflat_johnson-cousins_V_008.fits': {'imtype': 'domeflat'}, 'NAPG-L-R_johnson-cousins_Rc_20140629_092013.fits': {'fwhm': 4.6, 'solved': True, 'finishTime': '09:23:51'}, 'skyflat_johnson-cousins_V_002.fits': {'imtype': 'skyflat'}, 'NAPG-A-R_johnson-cousins_Rc_20140629_082803.fits': {'imtype': 'object'}, 'domeflat_johnson-cousins_Rc_004.fits': {'imtype': 'domeflat'}, 'NAPG-L-V_johnson-cousins_V_20140629_095118.fits': {'fwhm': 2.7, 'solved': True, 'finishTime': '09:54:50'}, 'NAPG-L-I_johnson-cousins_Ic_20140629_090756.fits': {'fwhm': 3.0, 'solved': True, 'finishTime': '09:11:38'}, 'domeflat_johnson-cousins_Ic_001.fits': {'imtype': 'domeflat'}, 'Bias_B2_20140629_120009.fits': {'imtype': 'bias'}, 'skyflat_halpha_6563_50_002.fits': {'imtype': 'skyflat'}, 'NAPG-A-V_johnson-cousins_Rc_20140629_082015.fits': {'fwhm': 2.2, 'solved': True, 'finishTime': '08:23:54'}, 'skyflat_johnson-cousins_Ic_001.fits': {'imtype': 'skyflat'}, 'NAPG-A-V_johnson-cousins_V_20140629_070902.fits': {'fwhm': 2.2, 'solved': True, 'finishTime': '07:12:35'}, 'domeflat_johnson-cousins_Rc_005.fits': {'imtype': 'domeflat'}, 'domeflat_johnson-cousins_Ic_008.fits': {'imtype': 'domeflat'}, 'skyflat_johnson-cousins_Rc_001.fits': {'imtype': 'skyflat'}, 'M31-F4-R_johnson-cousins_Rc_20140629_103227.fits': {'fwhm': 2.5, 'solved': True, 'finishTime': '10:36:05'}, 'NAPG-L-V_johnson-cousins_V_20140629_093852.fits': {'fwhm': 2.5, 'solved': True, 'finishTime': '09:42:23'}, 'Dark_B2_20140629_120729.fits': {'imtype': 'dark'}, 'domeflat_johnson-cousins_Ic_011.fits': {'imtype': 'domeflat'}, 'domeflat_johnson-cousins_Rc_001.fits': {'imtype': 'domeflat'}, 'domeflat_johnson-cousins_Rc_008.fits': {'imtype': 'domeflat'}, 'domeflat_johnson-cousins_Rc_009.fits': {'imtype': 'domeflat'}, 'Bias_B2_20140629_120030.fits': {'imtype': 'bias'}, 'domeflat_johnson-cousins_Ic_004.fits': {'imtype': 'domeflat'}, 'NAPG-L-R_johnson-cousins_Rc_20140629_092534.fits': {'fwhm': 2.9, 'solved': True, 'finishTime': '09:29:13'}, 'NAPG-L-R_johnson-cousins_Rc_20140629_093059.fits': {'fwhm': 3.2, 'solved': True, 'finishTime': '09:34:38'}, 'NAPG-A-R_johnson-cousins_Rc_20140629_083632.fits': {'fwhm': 2.5, 'solved': True, 'finishTime': '08:40:11'}, 'NAPG-A-V_johnson-cousins_V_20140629_073059.fits': {'fwhm': 2.7, 'solved': True, 'finishTime': '07:37:51'}, 'M31-F4-I_johnson-cousins_Ic_20140629_104833.fits': {'fwhm': 2.2, 'solved': True, 'finishTime': '10:52:14'}, 'Bias_B2_20140629_120019.fits': {'imtype': 'bias'}, 'NAPG-A-I_johnson-cousins_Ic_20140629_084421.fits': {'fwhm': 2.5, 'solved': True, 'finishTime': '08:48:03'}, 'NAPG-A-V_johnson-cousins_V_20140629_065934.fits': {'fwhm': 2.2, 'solved': True, 'finishTime': '07:00:05'}, 'domeflat_johnson-cousins_Rc_002.fits': {'imtype': 'domeflat'}, 'NAPG-L-I_johnson-cousins_Ic_20140629_091458.fits': {'fwhm': 3.2, 'solved': True, 'finishTime': '09:18:40'}, 'domeflat_johnson-cousins_Ic_007.fits': {'imtype': 'domeflat'}, 'domeflat_johnson-cousins_Rc_011.fits': {'imtype': 'domeflat'}, 'skyflat_johnson-cousins_Ic_002.fits': {'imtype': 'skyflat'}, 'domeflat_johnson-cousins_Ic_006.fits': {'imtype': 'domeflat'}, 'NAPG-A-V_johnson-cousins_V_20140629_064108.fits': {'fwhm': 2.1, 'solved': True, 'finishTime': '06:41:40'}, 'domeflat_halpha_6563_50_001.fits': {'imtype': 'domeflat'}, 'M31-F4-R_johnson-cousins_Rc_20140629_102158.fits': {'fwhm': 2.9, 'solved': True, 'finishTime': '10:25:36'}, 'domeflat_johnson-cousins_V_005.fits': {'imtype': 'domeflat'}, 'domeflat_johnson-cousins_V_010.fits': {'imtype': 'domeflat'}, 'domeflat_johnson-cousins_Ic_010.fits': {'imtype': 'domeflat'}, 'domeflat_johnson-cousins_Rc_007.fits': {'imtype': 'domeflat'}, 'skyflat_johnson-cousins_Rc_003.fits': {'imtype': 'skyflat'}, 'domeflat_johnson-cousins_V_011.fits': {'imtype': 'domeflat'}, 'M31-F4-V_johnson-cousins_V_20140629_101145.fits': {'fwhm': 2.6, 'solved': True, 'finishTime': '10:15:16'}, 'Dark_B2_20140629_120359.fits': {'imtype': 'dark'}, 'domeflat_johnson-cousins_Ic_009.fits': {'imtype': 'domeflat'}, 'Bias_B2_20140629_115917.fits': {'imtype': 'bias'}, 'Bias_B2_20140629_120051.fits': {'imtype': 'bias'}, 'domeflat_johnson-cousins_Rc_006.fits': {'imtype': 'domeflat'}, 'NAPG-A-V_johnson-cousins_V_20140629_075006.fits': {'fwhm': 2.4, 'solved': True, 'finishTime': '07:56:57'}, 'skyflat_johnson-cousins_Ic_003.fits': {'imtype': 'skyflat'}, 'domeflat_johnson-cousins_V_001.fits': {'imtype': 'domeflat'}, 'domeflat_johnson-cousins_V_004.fits': {'imtype': 'domeflat'}, 'domeflat_johnson-cousins_Ic_005.fits': {'imtype': 'domeflat'}, 'skyflat_johnson-cousins_Rc_002.fits': {'imtype': 'skyflat'}, 'Bias_B2_20140629_115905.fits': {'imtype': 'bias'}, 'NAPG-A-V_johnson-cousins_Rc_20140629_082803.fits': {'fwhm': 2.4, 'solved': True, 'finishTime': '08:31:41'}, 'skyflat_johnson-cousins_V_001.fits': {'imtype': 'skyflat'}, 'Dark_B2_20140629_121100.fits': {'imtype': 'dark'}, 'NAPG-A-V_johnson-cousins_V_20140629_080555.fits': {'fwhm': 2.4, 'solved': True, 'finishTime': '08:09:27'}, 'M31-F4-V_johnson-cousins_V_20140629_101657.fits': {'fwhm': 2.6, 'solved': True, 'finishTime': '10:20:29'}, 'M31-F4-R_johnson-cousins_Rc_20140629_102712.fits': {'fwhm': 2.6, 'solved': True, 'finishTime': '10:30:50'}, 'domeflat_johnson-cousins_Ic_003.fits': {'imtype': 'domeflat'}, 'NAPG-A-R_johnson-cousins_Rc_20140629_082015.fits': {'imtype': 'object'}, 'Bias_B2_20140629_115927.fits': {'imtype': 'bias'}, 'NAPG-A-V_johnson-cousins_V_20140629_081442.fits': {'fwhm': 2.1, 'solved': True, 'finishTime': '08:18:14'}, 'domeflat_johnson-cousins_V_007.fits': {'imtype': 'domeflat'}, 'Bias_B2_20140629_115938.fits': {'imtype': 'bias'}, 'skyflat_halpha_6563_50_001.fits': {'imtype': 'skyflat'}, 'domeflat_johnson-cousins_V_002.fits': {'imtype': 'domeflat'}, 'NAPG-A-V_johnson-cousins_V_20140629_074110.fits': {'fwhm': 3.1, 'solved': True, 'finishTime': '07:48:02'}, 'skyflat_johnson-cousins_Ic_004.fits': {'imtype': 'skyflat'}, 'Bias_B2_20140629_115948.fits': {'imtype': 'bias'}, 'skyflat_halpha_6563_50_004.fits': {'imtype': 'skyflat'}, 'M31-F4-V_johnson-cousins_V_20140629_100403.fits': {'fwhm': 2.4, 'solved': True, 'finishTime': '10:07:35'}, 'skyflat_johnson-cousins_V_003.fits': {'imtype': 'skyflat'}, 'domeflat_johnson-cousins_Rc_010.fits': {'imtype': 'domeflat'}, 'domeflat_johnson-cousins_V_009.fits': {'imtype': 'domeflat'}, 'NAPG-A-I_johnson-cousins_Ic_20140629_085529.fits': {'fwhm': 3.1, 'solved': True, 'finishTime': '08:59:11'}}\n"
     ]
    }
   ],
   "source": [
    "filesMeta, ls = create_files_meta()\n",
    "filesMeta = extract_log_metadata(log, filesMeta)\n",
    "print(filesMeta)"
   ]
  },
  {
   "cell_type": "code",
   "execution_count": null,
   "metadata": {
    "collapsed": true
   },
   "outputs": [],
   "source": []
  },
  {
   "cell_type": "code",
   "execution_count": null,
   "metadata": {
    "collapsed": true
   },
   "outputs": [],
   "source": []
  }
 ],
 "metadata": {
  "kernelspec": {
   "display_name": "Python 3",
   "language": "python",
   "name": "python3"
  },
  "language_info": {
   "codemirror_mode": {
    "name": "ipython",
    "version": 3
   },
   "file_extension": ".py",
   "mimetype": "text/x-python",
   "name": "python",
   "nbconvert_exporter": "python",
   "pygments_lexer": "ipython3",
   "version": "3.5.0"
  }
 },
 "nbformat": 4,
 "nbformat_minor": 0
}
