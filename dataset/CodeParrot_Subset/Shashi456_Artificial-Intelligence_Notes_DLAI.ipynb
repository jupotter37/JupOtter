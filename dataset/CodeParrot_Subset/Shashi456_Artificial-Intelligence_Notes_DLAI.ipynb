{
 "cells": [
  {
   "cell_type": "code",
   "execution_count": 1,
   "metadata": {
    "collapsed": true
   },
   "outputs": [],
   "source": [
    "import numpy as np "
   ]
  },
  {
   "cell_type": "markdown",
   "metadata": {},
   "source": [
    "## Notes on Vectorization\n",
    "Vectorized is Always better. Vectorization is more smooth than looping through the way because of SIMD instructions. Always vectorize your code as much as possible.\n",
    "\n",
    "You could have 10x - 800x speedups with vectorized code , and in Deep learning for SIMD instructions this is more and more true because\n",
    "\n",
    "<b> Vectorized = Parallelized </b>\n",
    "\n",
    "Avoid Explicit For loops.\n",
    "Numpy allows you to use math functions with vectors as well.\n"
   ]
  },
  {
   "cell_type": "markdown",
   "metadata": {},
   "source": [
    "# Vectorizing Linear Regression : \n",
    "In Numpy , \n",
    "W.t = Transpose of vector W\n"
   ]
  },
  {
   "cell_type": "markdown",
   "metadata": {},
   "source": [
    "# Broadcasting :\n",
    "\n",
    "<br> What broadcasting essentialy does if the Matrices or vectors in an equation or code you've written are of different dimensions if one of the operand is just a row or column vector ( 1*m or m*1 ) then it copies the vector to equal its dimensions to that of the matrix\n",
    "\n",
    "<b>cal = A.sum(axis=0) </b>\n",
    "\n",
    "The above line row squashes the matrix adding them in column wise format. I think squasing by axis =1 would give us a Column Vector .\n",
    "\n",
    "axis 0 = sum verically <br>\n",
    "axis 1 = sum columnvise \n",
    "\n",
    "\n",
    "### Reshaping arrays ###\n",
    "\n",
    "Two common numpy functions used in deep learning are [np.shape](https://docs.scipy.org/doc/numpy/reference/generated/numpy.ndarray.shape.html) and [np.reshape()](https://docs.scipy.org/doc/numpy/reference/generated/numpy.reshape.html). \n",
    "- X.shape is used to get the shape (dimension) of a matrix/vector X. \n",
    "- X.reshape(...) is used to reshape X into some other dimension. \n",
    "\n",
    "For example, in computer science, an image is represented by a 3D array of shape $(length, height, depth = 3)$. However, when you read an image as the input of an algorithm you convert it to a vector of shape $(length*height*3, 1)$. In other words, you \"unroll\", or reshape, the 3D array into a 1D vector.\n",
    "\n",
    "\n",
    "\n",
    "**Exercise**: Implement `image2vector()` that takes an input of shape (length, height, 3) and returns a vector of shape (length\\*height\\*3, 1). For example, if you would like to reshape an array v of shape (a, b, c) into a vector of shape (a*b,c) you would do:\n",
    "``` python\n",
    "v = v.reshape((v.shape[0]*v.shape[1], v.shape[2])) # v.shape[0] = a ; v.shape[1] = b ; v.shape[2] = c\n",
    "```\n",
    "- Please don't hardcode the dimensions of image as a constant. Instead look up the quantities you need with `image.shape[0]`, etc. \n",
    "\n",
    "<b>Cal.reshape(1,4)</b> \n",
    "\n",
    "The above line ie the reshape function changes a list into a matrix. "
   ]
  },
  {
   "cell_type": "code",
   "execution_count": 25,
   "metadata": {
    "collapsed": true
   },
   "outputs": [],
   "source": [
    "import math\n",
    "def sigmoid(x):\n",
    "    return 1 / (1 + np.exp(-x))\n",
    "    "
   ]
  },
  {
   "cell_type": "code",
   "execution_count": 30,
   "metadata": {},
   "outputs": [
    {
     "name": "stdout",
     "output_type": "stream",
     "text": [
      "[[ 0.22891177]\n",
      " [ 0.49965043]\n",
      " [ 0.12537146]\n",
      " [ 0.66175469]\n",
      " [ 0.14231843]]\n"
     ]
    }
   ],
   "source": [
    "#Z= np.dot(W.t,X)+b\n",
    "\n",
    "A=[]\n",
    "z=np.random.randn(5) # dont use randn(5) as far as possible because the shape is (5,) which is a rank 1 vector . \n",
    "# instead use randn(5,1) as follows which makes the shape of the vector as columm or row\n",
    "z=np.random.randn(5,1)\n",
    "A= 1/(1+np.exp(-z))\n",
    "print(A)\n"
   ]
  },
  {
   "cell_type": "code",
   "execution_count": null,
   "metadata": {
    "collapsed": true
   },
   "outputs": [],
   "source": []
  }
 ],
 "metadata": {
  "kernelspec": {
   "display_name": "Python 3",
   "language": "python",
   "name": "python3"
  },
  "language_info": {
   "codemirror_mode": {
    "name": "ipython",
    "version": 3
   },
   "file_extension": ".py",
   "mimetype": "text/x-python",
   "name": "python",
   "nbconvert_exporter": "python",
   "pygments_lexer": "ipython3",
   "version": "3.6.3"
  }
 },
 "nbformat": 4,
 "nbformat_minor": 2
}
