{
 "cells": [
  {
   "cell_type": "code",
   "execution_count": 4,
   "metadata": {
    "collapsed": false
   },
   "outputs": [
    {
     "name": "stdout",
     "output_type": "stream",
     "text": [
      "Found an existing token for this instance.\n",
      "The existing token has been refreshed.\n"
     ]
    }
   ],
   "source": [
    "from scitran_client import ScitranClient, query, Projects, Acquisitions, Sessions, Files\n",
    "client = ScitranClient('scitran')"
   ]
  },
  {
   "cell_type": "markdown",
   "metadata": {},
   "source": [
    "We can assemble queries by building filters like below. We're looking for sessions in the project called `vwfa`, so we query for sessions and filter by the associated project. After we find the sessions we're interested in, we query for T1-weighted nifti files that are associated with those sessions."
   ]
  },
  {
   "cell_type": "code",
   "execution_count": 7,
   "metadata": {
    "collapsed": false
   },
   "outputs": [],
   "source": [
    "sessions = client.search(query(Sessions).filter(Projects.label.match('vwfa')))\n",
    "\n",
    "files = client.search(query(Files).filter(\n",
    "    Files.type.match('nifti'),\n",
    "    Acquisitions.measurement.match('anatomy_t1w'),\n",
    "    Acquisitions.session.in_(session['_id'] for session in sessions),\n",
    "))"
   ]
  },
  {
   "cell_type": "code",
   "execution_count": 8,
   "metadata": {
    "collapsed": false
   },
   "outputs": [
    {
     "name": "stdout",
     "output_type": "stream",
     "text": [
      "\n"
     ]
    }
   ],
   "source": [
    "# Let's analyze the first file.\n",
    "example_file = files[0]\n",
    "\n",
    "import os\n",
    "# fsl-bet looks for files in the nifti subdirectory\n",
    "nifti_dir = os.path.join(client.gear_in_dir, 'nifti')\n",
    "if not os.path.exists(nifti_dir):\n",
    "    os.mkdir(nifti_dir)\n",
    "example_file_path = client.download_all_file_search_results([example_file], dest_dir=nifti_dir)[0]"
   ]
  },
  {
   "cell_type": "code",
   "execution_count": 9,
   "metadata": {
    "collapsed": false
   },
   "outputs": [
    {
     "name": "stdout",
     "output_type": "stream",
     "text": [
      "Running container scitran/fsl-bet on with input /Users/carlos/Downloads/input and output /Users/carlos/Downloads/output\n",
      "[scitran/fsl-bet]  Initiated\n",
      "[scitran/fsl-bet]  Running bet2 on 11353_3_1.nii.gz\n",
      "[scitran/fsl-bet]  Wrote: 11353_3_1_brain-extracted.nii.gz\n",
      "[scitran/fsl-bet]  generated /flywheel/v0/output/.metadata.json\n",
      "[scitran/fsl-bet]  Done!\n",
      "Docker container finished with exit code 0\n",
      "Uploading results to collection with id 56e9d386ddea7f915e81f704.\n",
      "Uploaded analysis has ID 57e6cbdf7667550013270805. Server responded with 200.\n"
     ]
    }
   ],
   "source": [
    "session_id = example_file['_source']['acquisition']['session']\n",
    "\n",
    "# We let fsl-bet find the input file by having an empty string for a command.\n",
    "client.run_gear_and_upload_analysis('testing fsl-bet local run', 'scitran/fsl-bet', session_id, '')"
   ]
  },
  {
   "cell_type": "code",
   "execution_count": 16,
   "metadata": {
    "collapsed": false
   },
   "outputs": [],
   "source": [
    "import nibabel as nib\n",
    "import scipy.misc\n",
    "img = nib.load(example_file_path)\n",
    "scipy.misc.toimage(img.get_data()[100, :, :]).save('before.png')\n",
    "\n",
    "output_file_path = os.path.join(client.gear_out_dir, '11353_3_1_brain-extracted.nii.gz')\n",
    "img = nib.load(output_file_path)\n",
    "scipy.misc.toimage(img.get_data()[100, :, :]).save('after.png')"
   ]
  },
  {
   "cell_type": "markdown",
   "metadata": {},
   "source": [
    "![](before.png) ![](after.png)"
   ]
  }
 ],
 "metadata": {
  "kernelspec": {
   "display_name": "Python 2",
   "language": "python",
   "name": "python2"
  },
  "language_info": {
   "codemirror_mode": {
    "name": "ipython",
    "version": 2
   },
   "file_extension": ".py",
   "mimetype": "text/x-python",
   "name": "python",
   "nbconvert_exporter": "python",
   "pygments_lexer": "ipython2",
   "version": "2.7.12"
  },
  "widgets": {
   "state": {
    "56d9ce404ad6444aa91b0f904ab588a7": {
     "views": [
      {
       "cell_index": 3
      }
     ]
    },
    "773cb1259fa646d5b9691091c88969d2": {
     "views": [
      {
       "cell_index": 3
      }
     ]
    }
   },
   "version": "1.2.0"
  }
 },
 "nbformat": 4,
 "nbformat_minor": 1
}
