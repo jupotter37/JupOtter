{
 "cells": [
  {
   "cell_type": "markdown",
   "metadata": {},
   "source": [
    "<h1>Dictionaries</h1>\n",
    "<li>d={}\n",
    "<li>d.values()\n",
    "<li>d.keys()\n",
    "<li>d.items()\n",
    "<li>d.clear()\n",
    "<li>d.copy()\n",
    "<li>d.get(k,x)\n",
    "<li>k in d\n",
    "<li>d.setdefault(k[ ,x])\n",
    "<li>d1.update(d2)"
   ]
  },
  {
   "cell_type": "code",
   "execution_count": 4,
   "metadata": {
    "collapsed": false
   },
   "outputs": [
    {
     "name": "stdout",
     "output_type": "stream",
     "text": [
      "<type 'dict'>\n",
      "{'GOOG': 68.7, 'IONS': 4.6, 'AAPL': 538.7}\n",
      "[68.7, 4.6, 538.7]\n",
      "['GOOG', 'IONS', 'AAPL']\n",
      "[('GOOG', 68.7), ('IONS', 4.6), ('AAPL', 538.7)]\n",
      "('GOOG', 68.7)\n"
     ]
    }
   ],
   "source": [
    "mktcaps = {'AAPL':538.7,'GOOG':68.7,'IONS':4.6}# Dictionary wird initialisiert\n",
    "print(type(mktcaps))\n",
    "print(mktcaps)\n",
    "print(mktcaps.values())\n",
    "print(mktcaps.keys())\n",
    "print(mktcaps.items())\n",
    "c=mktcaps.items()\n",
    "print c[0]\n"
   ]
  },
  {
   "cell_type": "code",
   "execution_count": null,
   "metadata": {
    "collapsed": false
   },
   "outputs": [],
   "source": [
    "mktcaps['AAPL'] #Gibt den Wert zurück der mit dem Schlüssel \"AAPL\" verknüpft ist"
   ]
  },
  {
   "cell_type": "code",
   "execution_count": null,
   "metadata": {
    "collapsed": false
   },
   "outputs": [],
   "source": [
    "mktcaps['GS'] #Fehler weil GS nicht in mktcaps enthalten ist"
   ]
  },
  {
   "cell_type": "code",
   "execution_count": null,
   "metadata": {
    "collapsed": true
   },
   "outputs": [],
   "source": [
    "mktcaps.get('GS') #Ergibt keinen Wert, da GS nicht in mktcaps enthalten ist"
   ]
  },
  {
   "cell_type": "code",
   "execution_count": null,
   "metadata": {
    "collapsed": false
   },
   "outputs": [],
   "source": [
    "mktcaps['GS'] = 88.65 #Fügt GS in das dictionary ein\n",
    "print(mktcaps) "
   ]
  },
  {
   "cell_type": "code",
   "execution_count": null,
   "metadata": {
    "collapsed": false
   },
   "outputs": [],
   "source": [
    "del(mktcaps['GOOG']) #ENtfernt GOOG von mktcaps\n",
    "print(mktcaps)"
   ]
  },
  {
   "cell_type": "code",
   "execution_count": null,
   "metadata": {
    "collapsed": false
   },
   "outputs": [],
   "source": [
    "mktcaps.keys() #gibt alle keys zurück"
   ]
  },
  {
   "cell_type": "code",
   "execution_count": null,
   "metadata": {
    "collapsed": false
   },
   "outputs": [],
   "source": [
    "mktcaps.values() #gibt alle Werte zurück"
   ]
  },
  {
   "cell_type": "code",
   "execution_count": 12,
   "metadata": {
    "collapsed": false
   },
   "outputs": [
    {
     "name": "stdout",
     "output_type": "stream",
     "text": [
      "('AAA', 'BBB', 'CCC', 'DDD', 'EEE')\n",
      "5\n",
      "5c97d37ef031ab20133e097f79ae227c1ccdfc97e47bc3b5fef49cbaee8c06dd\n"
     ]
    }
   ],
   "source": [
    "import hashlib\n",
    "l=('AAA','BBB','CCC','DDD','EEE')\n",
    "print(l)\n",
    "print(len(l))\n",
    "hshdict={'AAA':hashlib.sha256('AAA)')}\n",
    "hshdict.values()\n",
    "v=hshdict['AAA']\n",
    "m=v.hexdigest()\n",
    "print(m)\n"
   ]
  },
  {
   "cell_type": "markdown",
   "metadata": {},
   "source": [
    "<h3>Beispiel: Alter</h3>"
   ]
  },
  {
   "cell_type": "code",
   "execution_count": 7,
   "metadata": {
    "collapsed": false
   },
   "outputs": [
    {
     "name": "stdout",
     "output_type": "stream",
     "text": [
      "{'Mathias': 36, 'Peter': 45, 'Julia': 23}\n"
     ]
    }
   ],
   "source": [
    "alter = {'Peter':45,'Julia':23,'Mathias':36} #Erzeugen eines Dictionaries\n",
    "print(alter)"
   ]
  },
  {
   "cell_type": "code",
   "execution_count": 13,
   "metadata": {
    "collapsed": false
   },
   "outputs": [
    {
     "name": "stdout",
     "output_type": "stream",
     "text": [
      "{'Mathias': 36, 'Monika': 33, 'Peter': 45, 'Julia': 27}\n",
      "33\n"
     ]
    }
   ],
   "source": [
    "alter['Julia']=27 #Ändern des Alters\n",
    "alter['Monika']=33 #Hinzufügen von Monika - die Reihenfolge der Schlüssel spielt keine Rolle\n",
    "print(alter)\n",
    "if 'Monika' in alter:\n",
    "    print (alter['Monika'])\n"
   ]
  },
  {
   "cell_type": "markdown",
   "metadata": {},
   "source": [
    "<h3>Beispiel: Temperaturen in Staedten</h3>"
   ]
  },
  {
   "cell_type": "code",
   "execution_count": 2,
   "metadata": {
    "collapsed": false
   },
   "outputs": [
    {
     "name": "stdout",
     "output_type": "stream",
     "text": [
      "{'koeln': 29.7, 'stuttgart': 32.9, 'hamburg': 24.4, 'muenchen': 29.8}\n"
     ]
    }
   ],
   "source": [
    "temperatur={'stuttgart':32.9,'muenchen':29.8,'hamburg':24.4}# Erzeugen eines dictionaries mit Temperaturen in verschiedenen Städten\n",
    "temperatur['koeln']=29.7 #hinzufuegen der temperatur in koeln\n",
    "print(temperatur) #ausgabe der temperaturen"
   ]
  },
  {
   "cell_type": "code",
   "execution_count": 18,
   "metadata": {
    "collapsed": false
   },
   "outputs": [
    {
     "name": "stdout",
     "output_type": "stream",
     "text": [
      "Die Temperatur in koeln ist 29.7 °C\n",
      "Die Temperatur in stuttgart ist 32.9 °C\n",
      "Die Temperatur in hamburg ist 24.4 °C\n",
      "Die Temperatur in muenchen ist 29.8 °C\n"
     ]
    }
   ],
   "source": [
    "for stadt in temperatur:\n",
    "    print('Die Temperatur in %s ist %g °C' % (stadt,temperatur[stadt]))"
   ]
  },
  {
   "cell_type": "code",
   "execution_count": 19,
   "metadata": {
    "collapsed": false
   },
   "outputs": [
    {
     "name": "stdout",
     "output_type": "stream",
     "text": [
      "Keine Daten für Berlin gefunden\n"
     ]
    }
   ],
   "source": [
    "if 'Berlin' in temperatur:\n",
    "    print ('Berlin:', temperatur['Berlin'])\n",
    "else:\n",
    "    print ('Keine Daten für Berlin gefunden')"
   ]
  },
  {
   "cell_type": "code",
   "execution_count": 20,
   "metadata": {
    "collapsed": false
   },
   "outputs": [
    {
     "data": {
      "text/plain": [
       "True"
      ]
     },
     "execution_count": 20,
     "metadata": {},
     "output_type": "execute_result"
    }
   ],
   "source": [
    "'stuttgart' in temperatur #überprüfen ob Schlüssel in temperatur enthalten ist"
   ]
  },
  {
   "cell_type": "code",
   "execution_count": 21,
   "metadata": {
    "collapsed": false
   },
   "outputs": [
    {
     "data": {
      "text/plain": [
       "['koeln', 'stuttgart', 'hamburg', 'muenchen']"
      ]
     },
     "execution_count": 21,
     "metadata": {},
     "output_type": "execute_result"
    }
   ],
   "source": [
    "temperatur.keys() #Ausgabe der Schlüssel im Dictionary"
   ]
  },
  {
   "cell_type": "code",
   "execution_count": 22,
   "metadata": {
    "collapsed": false
   },
   "outputs": [
    {
     "data": {
      "text/plain": [
       "[29.7, 32.9, 24.4, 29.8]"
      ]
     },
     "execution_count": 22,
     "metadata": {},
     "output_type": "execute_result"
    }
   ],
   "source": [
    "temperatur.values()#ausgabe der Werte im Dictionary"
   ]
  },
  {
   "cell_type": "code",
   "execution_count": 23,
   "metadata": {
    "collapsed": false
   },
   "outputs": [
    {
     "name": "stdout",
     "output_type": "stream",
     "text": [
      "hamburg\n",
      "koeln\n",
      "muenchen\n",
      "stuttgart\n"
     ]
    }
   ],
   "source": [
    "for stadt in sorted(temperatur):\n",
    "    print(stadt)"
   ]
  },
  {
   "cell_type": "code",
   "execution_count": 24,
   "metadata": {
    "collapsed": false
   },
   "outputs": [
    {
     "name": "stdout",
     "output_type": "stream",
     "text": [
      "{'koeln': 29.7, 'stuttgart': 32.9, 'muenchen': 29.8, 'hamburg': 24.4}\n"
     ]
    }
   ],
   "source": [
    "temperatur_kopie=temperatur.copy() #erstellt eine KOpie des dictonaries\n",
    "print (temperatur_kopie)"
   ]
  },
  {
   "cell_type": "code",
   "execution_count": 30,
   "metadata": {
    "collapsed": false
   },
   "outputs": [
    {
     "name": "stdout",
     "output_type": "stream",
     "text": [
      "Die Temperatur in stuttgart ist 22.9 °C\n",
      "Die Temperatur in hamburg ist 21.4 °C\n",
      "Die Temperatur in koeln ist 29.7 °C\n",
      "Die Temperatur in muenchen ist 23.8 °C\n",
      "Anzahl enthaltene Staedte: 4\n"
     ]
    }
   ],
   "source": [
    "temperatur2={'stuttgart':22.9,'muenchen':23.8,'hamburg':21.4} #ein 2-tes dictionary\n",
    "temperatur.update(temperatur2)\n",
    "for stadt in temperatur:\n",
    "    print('Die Temperatur in %s ist %g °C' % (stadt,temperatur[stadt]))\n",
    "print('Anzahl enthaltene Staedte: %g'% len(temperatur))\n"
   ]
  },
  {
   "cell_type": "code",
   "execution_count": 3,
   "metadata": {
    "collapsed": false,
    "scrolled": true
   },
   "outputs": [
    {
     "name": "stdout",
     "output_type": "stream",
     "text": [
      "Die Temperatur in muenchen ist 23.8 °C\n",
      "Die Temperatur in koeln ist 18.6 °C\n",
      "Die Temperatur in stuttgart ist 22.9 °C\n",
      "Die Temperatur in hamburg ist 21.4 °C\n",
      "Die Temperatur in frankfurt ist 20.6 °C\n",
      "Die Temperatur in weimar ist 18.8 °C\n",
      "Anzahl enthaltene Staedte: 6\n"
     ]
    }
   ],
   "source": [
    "temperatur2={'stuttgart':22.9,'muenchen':23.8,'hamburg':21.4,'koeln':18.6,'frankfurt':20.6, 'weimar':18.8} #ein 2-tes dictionary\n",
    "temperatur.update(temperatur2)\n",
    "for stadt in temperatur:\n",
    "    print('Die Temperatur in %s ist %g °C' % (stadt,temperatur[stadt]))\n",
    "print('Anzahl enthaltene Staedte: %g'% len(temperatur))"
   ]
  },
  {
   "cell_type": "code",
   "execution_count": null,
   "metadata": {
    "collapsed": false
   },
   "outputs": [],
   "source": []
  },
  {
   "cell_type": "markdown",
   "metadata": {},
   "source": [
    "<h2>Beispiel Studenten - mit dictionary</h2>"
   ]
  },
  {
   "cell_type": "code",
   "execution_count": 2,
   "metadata": {
    "collapsed": false
   },
   "outputs": [
    {
     "name": "stdout",
     "output_type": "stream",
     "text": [
      "[('100100', {'Bwl': 2.5, 'Mathe': 1.0}), ('100200', {'Bwl': 1.8, 'Mathe': 2.3})]\n",
      "<type 'dict'>\n",
      "[{'Bwl': 2.5, 'Mathe': 1.0}, {'Bwl': 1.8, 'Mathe': 2.3}]\n",
      "['100100', '100200']\n"
     ]
    }
   ],
   "source": [
    "st={}#Erzeugen des leeren dictionarys\n",
    "st['100100'] = {'Mathe':1.0, 'Bwl':2.5}\n",
    "st['100200'] = {'Mathe':2.3, 'Bwl':1.8}\n",
    "print(st.items())\n",
    "print(type(st))\n",
    "print(st.values())\n",
    "print(st.keys())\n",
    "\n"
   ]
  },
  {
   "cell_type": "markdown",
   "metadata": {},
   "source": [
    "<h2>Schrittweiser Aufbau eines Studentenverezichnisses</h2>"
   ]
  },
  {
   "cell_type": "code",
   "execution_count": 12,
   "metadata": {
    "collapsed": false
   },
   "outputs": [
    {
     "name": "stdout",
     "output_type": "stream",
     "text": [
      "Matrikel-Nr als string eingeben:'100100'\n",
      "Mathe Note eingeben:1.2\n",
      "Bwl Note eingeben:2.4\n",
      "Matrikel-Nr als string eingeben:''\n",
      "{'100100': {'Mathematik': 1.2, 'BWL': 2.4}}\n"
     ]
    }
   ],
   "source": [
    "def stud_verz():\n",
    "    stud={}#erzeugen eines leeren dictionaries\n",
    "    student=input('Matrikel-Nr als string eingeben:')\n",
    "    while student:\n",
    "        Mathe = input('Mathe Note eingeben:')\n",
    "        Bwl = input('Bwl Note eingeben:')\n",
    "        stud[student]={\"Mathematik\":Mathe,\"BWL\":Bwl}\n",
    "        student=input('Matrikel-Nr als string eingeben:')\n",
    "    return stud\n",
    "\n",
    "print (stud_verz())\n",
    "\n",
    "    \n"
   ]
  },
  {
   "cell_type": "markdown",
   "metadata": {
    "collapsed": false
   },
   "source": [
    "<h2>Ein Dictionary aus anderen zusammensetzen\n",
    "<li>d2.update(d1)"
   ]
  },
  {
   "cell_type": "code",
   "execution_count": 13,
   "metadata": {
    "collapsed": false
   },
   "outputs": [
    {
     "name": "stdout",
     "output_type": "stream",
     "text": [
      "{'rainer': 1.78, 'hannes': 1.73, 'hans': 1.8, 'peter': 1.73, 'petra': 1.8}\n"
     ]
    }
   ],
   "source": [
    "d1={'hans':1.8,'peter':1.73,'rainer':1.74}\n",
    "d2={'petra':1.8,'hannes':1.73,'rainer':1.78}\n",
    "d1.update(d2)\n",
    "print(d1)"
   ]
  },
  {
   "cell_type": "markdown",
   "metadata": {},
   "source": [
    "<h2>Datenzugriff in einem dictionary"
   ]
  },
  {
   "cell_type": "code",
   "execution_count": 21,
   "metadata": {
    "collapsed": false,
    "scrolled": true
   },
   "outputs": [
    {
     "name": "stdout",
     "output_type": "stream",
     "text": [
      "{'slice': ['Scheibe', 'Schnitte', 'Stueck'], 'value': ['Wert'], 'key': ['Schluessel', 'Taste']}\n",
      "['Scheibe', 'Schnitte', 'Stueck']\n"
     ]
    },
    {
     "data": {
      "text/plain": [
       "'unbekannt'"
      ]
     },
     "execution_count": 21,
     "metadata": {},
     "output_type": "execute_result"
    }
   ],
   "source": [
    "deutsch = {'key':['Schluessel','Taste'],'slice':['Scheibe','Schnitte','Stueck'],'value':['Wert']}\n",
    "print(deutsch)\n",
    "######Abfangen von Abfragefehlern\n",
    "def uebersetze(wort,d):\n",
    "    if wort in d:\n",
    "        return d[wort]\n",
    "    else:\n",
    "        return 'unbekannt'\n",
    "\n",
    "print(uebersetze('slice',deutsch))\n",
    "uebersetze('search',deutsch)"
   ]
  },
  {
   "cell_type": "markdown",
   "metadata": {},
   "source": [
    "<h1>Vokabeltrainer entwickeln"
   ]
  },
  {
   "cell_type": "code",
   "execution_count": null,
   "metadata": {
    "collapsed": false
   },
   "outputs": [],
   "source": [
    "#Vokabeltrainer entwickeln\n",
    "import random\n",
    "#Definition der Funktionen\n",
    "def dict_laden(pfad):\n",
    "    d={}\n",
    "    try:\n",
    "        datei = open(pfad)\n",
    "        liste = datei.readlines()\n",
    "        for eintrag in liste:\n",
    "            l_eintrag = eintrag.split()\n",
    "            d[l_eintrag[0]]=l_eintrag[1:]\n",
    "        datei.close()\n",
    "    except:\n",
    "        pass\n",
    "    return d\n",
    "\n",
    "#def aufgabe(d):\n",
    "    zufall = random.randint(0, len(d.keys())-1)\n",
    "    vokabel = list(d.keys())[zufall]\n",
    "    #print(vokabel +'?')\n",
    "#Datei liegt auf dem Pfad\n",
    "#c:\\\\Benutzer\\\\ramon\\\\Dokumente\\\\Python Scripts\\\\python-edx-07-07-17\\\\woerterbuch.txt'\n",
    "#woerterbuch liste von einträgen mit leerzeichen getrennt\n",
    "\n",
    "d={}\n",
    "datei=open('woerterbuch.txt')\n",
    "liste = datei.readlines()\n",
    "print(liste)\n",
    "for eintrag in liste:\n",
    "            l_eintrag = eintrag.split()#trennung an leerzeichen\n",
    "            #print(l_eintrag[0])\n",
    "            #print(l_eintrag[1])\n",
    "            d[l_eintrag[0]]=l_eintrag[1:]\n",
    "datei.close()\n",
    "print(d)\n",
    "zufall = random.randint(0, len(d.keys())-1)\n",
    "vokabel = list(d.keys())[zufall]\n",
    "print(vokabel+' ?') \n",
    "antwort=input()\n",
    "\n",
    "          "
   ]
  },
  {
   "cell_type": "code",
   "execution_count": null,
   "metadata": {
    "collapsed": true
   },
   "outputs": [],
   "source": []
  },
  {
   "cell_type": "code",
   "execution_count": null,
   "metadata": {
    "collapsed": true
   },
   "outputs": [],
   "source": []
  }
 ],
 "metadata": {
  "anaconda-cloud": {},
  "kernelspec": {
   "display_name": "Python [conda root]",
   "language": "python",
   "name": "conda-root-py"
  },
  "language_info": {
   "codemirror_mode": {
    "name": "ipython",
    "version": 2
   },
   "file_extension": ".py",
   "mimetype": "text/x-python",
   "name": "python",
   "nbconvert_exporter": "python",
   "pygments_lexer": "ipython2",
   "version": "2.7.12"
  }
 },
 "nbformat": 4,
 "nbformat_minor": 2
}
