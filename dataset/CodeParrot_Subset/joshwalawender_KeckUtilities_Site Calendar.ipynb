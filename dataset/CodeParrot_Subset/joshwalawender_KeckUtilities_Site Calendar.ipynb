{
 "cells": [
  {
   "cell_type": "code",
   "execution_count": 1,
   "metadata": {},
   "outputs": [],
   "source": [
    "from pathlib import Path\n",
    "from astropy.table import Table\n",
    "\n",
    "from telescopeSchedule import get_telsched"
   ]
  },
  {
   "cell_type": "code",
   "execution_count": 20,
   "metadata": {},
   "outputs": [],
   "source": [
    "def site_table(ndays=5):\n",
    "    sched = get_telsched(from_date=None, ndays=ndays, telnr=None)\n",
    "\n",
    "    site_list = ['HQ']\n",
    "    site_list.extend( sorted(['ANU', 'CIT', 'UCB', 'UCD', 'UCLA', 'UCSD', 'UCI', 'UCR', 'Yale',\n",
    "                        'USRA', 'NU', 'IfA', 'Stanford', 'Swinburne', 'UCSB', 'UCSC']) )\n",
    "    site_list.append('Other')\n",
    "\n",
    "    t = Table(names=['Run'] + site_list,\n",
    "              dtype=['a40'] + ['a100']*len(site_list))\n",
    "\n",
    "    for prog in sched:\n",
    "        row = {site: '' for site in site_list}\n",
    "        row['Run'] = f\"{prog['Date']} {prog['TelNr']} ({prog['ProjCode']})\"\n",
    "        tonights_observers = prog['Observers'].split(',')\n",
    "        tonights_sites = prog['Location'].split(',')\n",
    "        for obs,s in zip(tonights_observers, tonights_sites):\n",
    "            if s in row.keys():\n",
    "                row[s] += f\"{obs}, \"\n",
    "            else:\n",
    "                row['Other'] += f\"{obs}, \"\n",
    "        for site in site_list:\n",
    "            if row[site] != '':\n",
    "                nobs = len(row[site].split(',')) - 1\n",
    "                row[site] = row[site].strip(', ')\n",
    "                row[site] += f' ({nobs})'\n",
    "        t.add_row(row)\n",
    "\n",
    "    return t"
   ]
  },
  {
   "cell_type": "code",
   "execution_count": 22,
   "metadata": {},
   "outputs": [
    {
     "data": {
      "text/html": [
       "<i>Table length=16</i>\n",
       "<table id=\"table4830594216\" class=\"table-striped table-bordered table-condensed\">\n",
       "<thead><tr><th>Run</th><th>HQ</th><th>ANU</th><th>CIT</th><th>IfA</th><th>NU</th><th>Stanford</th><th>Swinburne</th><th>UCB</th><th>UCD</th><th>UCI</th><th>UCLA</th><th>UCR</th><th>UCSB</th><th>UCSC</th><th>UCSD</th><th>USRA</th><th>Yale</th><th>Other</th></tr></thead>\n",
       "<thead><tr><th>bytes40</th><th>bytes100</th><th>bytes100</th><th>bytes100</th><th>bytes100</th><th>bytes100</th><th>bytes100</th><th>bytes100</th><th>bytes100</th><th>bytes100</th><th>bytes100</th><th>bytes100</th><th>bytes100</th><th>bytes100</th><th>bytes100</th><th>bytes100</th><th>bytes100</th><th>bytes100</th><th>bytes100</th></tr></thead>\n",
       "<tr><td>2020-03-10 1 (H277)</td><td></td><td></td><td></td><td></td><td></td><td></td><td></td><td></td><td>Lemaux, Pelliccia (2)</td><td></td><td></td><td></td><td></td><td></td><td></td><td></td><td></td><td></td></tr>\n",
       "<tr><td>2020-03-10 1 (N028)</td><td>Topping, Runco, Pahl (3)</td><td></td><td></td><td></td><td></td><td></td><td></td><td></td><td></td><td></td><td>Shapley (1)</td><td></td><td></td><td></td><td></td><td></td><td></td><td></td></tr>\n",
       "<tr><td>2020-03-10 2 (K300)</td><td>Alvarez (1)</td><td></td><td></td><td></td><td></td><td></td><td></td><td></td><td></td><td></td><td></td><td></td><td></td><td></td><td></td><td></td><td></td><td></td></tr>\n",
       "<tr><td>2020-03-10 2 (E339)</td><td>Ragland (1)</td><td></td><td></td><td></td><td></td><td></td><td></td><td></td><td></td><td></td><td></td><td></td><td></td><td></td><td></td><td></td><td></td><td></td></tr>\n",
       "<tr><td>2020-03-11 1 (S322)</td><td></td><td></td><td></td><td></td><td></td><td></td><td></td><td></td><td></td><td></td><td></td><td></td><td></td><td></td><td></td><td></td><td></td><td>Shimakawa, Onodera (2)</td></tr>\n",
       "<tr><td>2020-03-11 1 (N028)</td><td>Topping, Runco, Pahl (3)</td><td></td><td></td><td></td><td></td><td></td><td></td><td></td><td></td><td></td><td>Shapley (1)</td><td></td><td></td><td></td><td></td><td></td><td></td><td></td></tr>\n",
       "<tr><td>2020-03-11 2 (C197)</td><td></td><td></td><td>Buzard, Camarca, Wallack (3)</td><td></td><td></td><td></td><td></td><td></td><td></td><td></td><td></td><td></td><td></td><td></td><td></td><td></td><td></td><td></td></tr>\n",
       "<tr><td>2020-03-11 2 (E350)</td><td>Ragland (1)</td><td></td><td></td><td></td><td></td><td></td><td></td><td></td><td></td><td></td><td></td><td></td><td></td><td></td><td></td><td></td><td></td><td></td></tr>\n",
       "<tr><td>2020-03-11 2 (E341)</td><td>Ragland (1)</td><td></td><td></td><td></td><td></td><td></td><td></td><td></td><td></td><td></td><td></td><td></td><td></td><td></td><td></td><td></td><td></td><td></td></tr>\n",
       "<tr><td>2020-03-12 1 (S322)</td><td></td><td></td><td></td><td></td><td></td><td></td><td></td><td></td><td></td><td></td><td></td><td></td><td></td><td></td><td></td><td></td><td></td><td>Shimakawa, Onodera (2)</td></tr>\n",
       "<tr><td>2020-03-12 1 (U169)</td><td>Topping, Runco, Pahl (3)</td><td></td><td></td><td></td><td></td><td></td><td></td><td></td><td></td><td></td><td>Shapley (1)</td><td></td><td></td><td></td><td></td><td></td><td></td><td></td></tr>\n",
       "<tr><td>2020-03-12 2 (U149)</td><td></td><td></td><td></td><td></td><td></td><td></td><td></td><td></td><td></td><td></td><td></td><td></td><td></td><td></td><td>Theissen, Aganze, Hsu, Gerasimov (4)</td><td></td><td></td><td></td></tr>\n",
       "<tr><td>2020-03-13 1 (C206)</td><td></td><td></td><td>Scoville, Darvish Sarvestani, Faisst (3)</td><td></td><td></td><td></td><td></td><td></td><td></td><td></td><td></td><td></td><td></td><td></td><td></td><td></td><td></td><td></td></tr>\n",
       "<tr><td>2020-03-13 2 (H311)</td><td></td><td></td><td></td><td>Liu (1)</td><td></td><td></td><td></td><td></td><td></td><td></td><td></td><td></td><td></td><td></td><td></td><td></td><td></td><td></td></tr>\n",
       "<tr><td>2020-03-14 1 (C206)</td><td></td><td></td><td>Scoville, Darvish Sarvestani, Faisst (3)</td><td></td><td></td><td></td><td></td><td></td><td></td><td></td><td></td><td></td><td></td><td></td><td></td><td></td><td></td><td></td></tr>\n",
       "<tr><td>2020-03-14 2 (U010)</td><td></td><td></td><td></td><td></td><td></td><td></td><td></td><td></td><td></td><td></td><td></td><td></td><td>Martin (1)</td><td></td><td></td><td></td><td></td><td></td></tr>\n",
       "</table>"
      ],
      "text/plain": [
       "<Table length=16>\n",
       "        Run                    HQ            ...   Yale           Other         \n",
       "      bytes40               bytes100         ... bytes100        bytes100       \n",
       "------------------- ------------------------ ... -------- ----------------------\n",
       "2020-03-10 1 (H277)                          ...                                \n",
       "2020-03-10 1 (N028) Topping, Runco, Pahl (3) ...                                \n",
       "2020-03-10 2 (K300)              Alvarez (1) ...                                \n",
       "2020-03-10 2 (E339)              Ragland (1) ...                                \n",
       "2020-03-11 1 (S322)                          ...          Shimakawa, Onodera (2)\n",
       "2020-03-11 1 (N028) Topping, Runco, Pahl (3) ...                                \n",
       "2020-03-11 2 (C197)                          ...                                \n",
       "2020-03-11 2 (E350)              Ragland (1) ...                                \n",
       "2020-03-11 2 (E341)              Ragland (1) ...                                \n",
       "2020-03-12 1 (S322)                          ...          Shimakawa, Onodera (2)\n",
       "2020-03-12 1 (U169) Topping, Runco, Pahl (3) ...                                \n",
       "2020-03-12 2 (U149)                          ...                                \n",
       "2020-03-13 1 (C206)                          ...                                \n",
       "2020-03-13 2 (H311)                          ...                                \n",
       "2020-03-14 1 (C206)                          ...                                \n",
       "2020-03-14 2 (U010)                          ...                                "
      ]
     },
     "execution_count": 22,
     "metadata": {},
     "output_type": "execute_result"
    }
   ],
   "source": [
    "site_table(ndays=5)"
   ]
  },
  {
   "cell_type": "code",
   "execution_count": null,
   "metadata": {},
   "outputs": [],
   "source": []
  }
 ],
 "metadata": {
  "kernelspec": {
   "display_name": "Python 3",
   "language": "python",
   "name": "python3"
  },
  "language_info": {
   "codemirror_mode": {
    "name": "ipython",
    "version": 3
   },
   "file_extension": ".py",
   "mimetype": "text/x-python",
   "name": "python",
   "nbconvert_exporter": "python",
   "pygments_lexer": "ipython3",
   "version": "3.6.10"
  }
 },
 "nbformat": 4,
 "nbformat_minor": 4
}
