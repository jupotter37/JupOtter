{
 "cells": [
  {
   "cell_type": "markdown",
   "metadata": {},
   "source": [
    "# Bicycle Sharing Stations Bordeaux"
   ]
  },
  {
   "cell_type": "markdown",
   "metadata": {},
   "source": [
    "Analyze the daily profile for each station from 2017-07-09 to 2017-09-26."
   ]
  },
  {
   "cell_type": "markdown",
   "metadata": {},
   "source": [
    "## Some Imports"
   ]
  },
  {
   "cell_type": "code",
   "execution_count": 1,
   "metadata": {
    "collapsed": true
   },
   "outputs": [],
   "source": [
    "%matplotlib inline"
   ]
  },
  {
   "cell_type": "code",
   "execution_count": 2,
   "metadata": {
    "collapsed": true
   },
   "outputs": [],
   "source": [
    "import numpy as np\n",
    "import pandas as pd"
   ]
  },
  {
   "cell_type": "code",
   "execution_count": 3,
   "metadata": {
    "collapsed": true
   },
   "outputs": [],
   "source": [
    "from sklearn.cluster import KMeans"
   ]
  },
  {
   "cell_type": "code",
   "execution_count": 4,
   "metadata": {
    "collapsed": true
   },
   "outputs": [],
   "source": [
    "from matplotlib import pyplot as plt\n",
    "import seaborn as sns\n",
    "sns.set_context('notebook')"
   ]
  },
  {
   "cell_type": "markdown",
   "metadata": {},
   "source": [
    "## Watermark for the versions of used libs"
   ]
  },
  {
   "cell_type": "code",
   "execution_count": 5,
   "metadata": {
    "collapsed": true
   },
   "outputs": [],
   "source": [
    "%load_ext watermark"
   ]
  },
  {
   "cell_type": "code",
   "execution_count": 6,
   "metadata": {},
   "outputs": [
    {
     "name": "stdout",
     "output_type": "stream",
     "text": [
      "2017-10-23 \n",
      "\n",
      "CPython 3.5.3\n",
      "IPython 6.1.0\n",
      "\n",
      "numpy 1.13.1\n",
      "pandas 0.20.3\n",
      "sklearn 0.19.0\n",
      "matplotlib 2.0.2\n",
      "seaborn 0.8.0\n",
      "\n",
      "compiler   : GCC 4.2.1 Compatible Apple LLVM 6.0 (clang-600.0.57)\n",
      "system     : Darwin\n",
      "release    : 16.7.0\n",
      "machine    : x86_64\n",
      "processor  : i386\n",
      "CPU cores  : 4\n",
      "interpreter: 64bit\n",
      "Git hash   : e0ac261935cd81c45afabcdd47f46fbdb1973486\n",
      "watermark 1.5.0\n"
     ]
    }
   ],
   "source": [
    "%watermark -d -v -p numpy,pandas,sklearn,matplotlib,seaborn -g -m -w"
   ]
  },
  {
   "cell_type": "markdown",
   "metadata": {},
   "source": [
    "## Load Data"
   ]
  },
  {
   "cell_type": "code",
   "execution_count": 7,
   "metadata": {
    "collapsed": true
   },
   "outputs": [],
   "source": [
    "# Timeseries data\n",
    "DATA = \"data/bordeaux.csv\""
   ]
  },
  {
   "cell_type": "code",
   "execution_count": 8,
   "metadata": {
    "collapsed": true
   },
   "outputs": [],
   "source": [
    "raw = pd.read_csv(DATA, parse_dates=['ts'])"
   ]
  },
  {
   "cell_type": "code",
   "execution_count": 9,
   "metadata": {},
   "outputs": [
    {
     "data": {
      "text/html": [
       "<div>\n",
       "<style>\n",
       "    .dataframe thead tr:only-child th {\n",
       "        text-align: right;\n",
       "    }\n",
       "\n",
       "    .dataframe thead th {\n",
       "        text-align: left;\n",
       "    }\n",
       "\n",
       "    .dataframe tbody tr th {\n",
       "        vertical-align: top;\n",
       "    }\n",
       "</style>\n",
       "<table border=\"1\" class=\"dataframe\">\n",
       "  <thead>\n",
       "    <tr style=\"text-align: right;\">\n",
       "      <th></th>\n",
       "      <th>gid</th>\n",
       "      <th>ident</th>\n",
       "      <th>type</th>\n",
       "      <th>name</th>\n",
       "      <th>state</th>\n",
       "      <th>available_stand</th>\n",
       "      <th>available_bike</th>\n",
       "      <th>ts</th>\n",
       "    </tr>\n",
       "  </thead>\n",
       "  <tbody>\n",
       "    <tr>\n",
       "      <th>0</th>\n",
       "      <td>83</td>\n",
       "      <td>1</td>\n",
       "      <td>VLS</td>\n",
       "      <td>Meriadeck</td>\n",
       "      <td>CONNECTEE</td>\n",
       "      <td>18</td>\n",
       "      <td>2</td>\n",
       "      <td>2017-07-09 00:03:04</td>\n",
       "    </tr>\n",
       "    <tr>\n",
       "      <th>1</th>\n",
       "      <td>84</td>\n",
       "      <td>2</td>\n",
       "      <td>VLS</td>\n",
       "      <td>St Bruno</td>\n",
       "      <td>CONNECTEE</td>\n",
       "      <td>7</td>\n",
       "      <td>13</td>\n",
       "      <td>2017-07-09 00:03:04</td>\n",
       "    </tr>\n",
       "    <tr>\n",
       "      <th>2</th>\n",
       "      <td>41</td>\n",
       "      <td>3</td>\n",
       "      <td>VLS</td>\n",
       "      <td>Place Tartas</td>\n",
       "      <td>CONNECTEE</td>\n",
       "      <td>17</td>\n",
       "      <td>1</td>\n",
       "      <td>2017-07-09 00:03:04</td>\n",
       "    </tr>\n",
       "    <tr>\n",
       "      <th>3</th>\n",
       "      <td>42</td>\n",
       "      <td>4</td>\n",
       "      <td>VLS</td>\n",
       "      <td>St Seurin</td>\n",
       "      <td>CONNECTEE</td>\n",
       "      <td>18</td>\n",
       "      <td>2</td>\n",
       "      <td>2017-07-09 00:03:04</td>\n",
       "    </tr>\n",
       "    <tr>\n",
       "      <th>4</th>\n",
       "      <td>43</td>\n",
       "      <td>5</td>\n",
       "      <td>VLS</td>\n",
       "      <td>Place Gambetta</td>\n",
       "      <td>CONNECTEE</td>\n",
       "      <td>37</td>\n",
       "      <td>2</td>\n",
       "      <td>2017-07-09 00:03:04</td>\n",
       "    </tr>\n",
       "  </tbody>\n",
       "</table>\n",
       "</div>"
      ],
      "text/plain": [
       "   gid  ident type            name      state  available_stand  \\\n",
       "0   83      1  VLS       Meriadeck  CONNECTEE               18   \n",
       "1   84      2  VLS        St Bruno  CONNECTEE                7   \n",
       "2   41      3  VLS    Place Tartas  CONNECTEE               17   \n",
       "3   42      4  VLS       St Seurin  CONNECTEE               18   \n",
       "4   43      5  VLS  Place Gambetta  CONNECTEE               37   \n",
       "\n",
       "   available_bike                  ts  \n",
       "0               2 2017-07-09 00:03:04  \n",
       "1              13 2017-07-09 00:03:04  \n",
       "2               1 2017-07-09 00:03:04  \n",
       "3               2 2017-07-09 00:03:04  \n",
       "4               2 2017-07-09 00:03:04  "
      ]
     },
     "execution_count": 9,
     "metadata": {},
     "output_type": "execute_result"
    }
   ],
   "source": [
    "raw.head()"
   ]
  },
  {
   "cell_type": "markdown",
   "metadata": {},
   "source": [
    "## Some Cleaning"
   ]
  },
  {
   "cell_type": "code",
   "execution_count": 10,
   "metadata": {},
   "outputs": [
    {
     "name": "stdout",
     "output_type": "stream",
     "text": [
      "(3761880, 8)\n"
     ]
    }
   ],
   "source": [
    "print(raw.shape)"
   ]
  },
  {
   "cell_type": "markdown",
   "metadata": {},
   "source": [
    "* Get only `CONNECTEE` station (i.e. not closed)\n",
    "* Rename some columns\n",
    "* Drop duplicates"
   ]
  },
  {
   "cell_type": "code",
   "execution_count": 11,
   "metadata": {
    "collapsed": true
   },
   "outputs": [],
   "source": [
    "data = (raw.copy()\n",
    "        .query('state == \"CONNECTEE\"')\n",
    "        .drop(['gid', 'available_stand', 'type', 'state'], axis=1)\n",
    "        .rename_axis({\"available_bike\": \"bikes\", \"ident\": \"station\"}, axis=1)\n",
    "        .drop_duplicates()\n",
    "        .sort_values([\"station\", \"ts\"]))"
   ]
  },
  {
   "cell_type": "code",
   "execution_count": 12,
   "metadata": {},
   "outputs": [
    {
     "name": "stdout",
     "output_type": "stream",
     "text": [
      "(3607233, 4)\n"
     ]
    },
    {
     "data": {
      "text/html": [
       "<div>\n",
       "<style>\n",
       "    .dataframe thead tr:only-child th {\n",
       "        text-align: right;\n",
       "    }\n",
       "\n",
       "    .dataframe thead th {\n",
       "        text-align: left;\n",
       "    }\n",
       "\n",
       "    .dataframe tbody tr th {\n",
       "        vertical-align: top;\n",
       "    }\n",
       "</style>\n",
       "<table border=\"1\" class=\"dataframe\">\n",
       "  <thead>\n",
       "    <tr style=\"text-align: right;\">\n",
       "      <th></th>\n",
       "      <th>station</th>\n",
       "      <th>name</th>\n",
       "      <th>bikes</th>\n",
       "      <th>ts</th>\n",
       "    </tr>\n",
       "  </thead>\n",
       "  <tbody>\n",
       "    <tr>\n",
       "      <th>0</th>\n",
       "      <td>1</td>\n",
       "      <td>Meriadeck</td>\n",
       "      <td>2</td>\n",
       "      <td>2017-07-09 00:03:04</td>\n",
       "    </tr>\n",
       "    <tr>\n",
       "      <th>174</th>\n",
       "      <td>1</td>\n",
       "      <td>Meriadeck</td>\n",
       "      <td>2</td>\n",
       "      <td>2017-07-09 00:04:04</td>\n",
       "    </tr>\n",
       "    <tr>\n",
       "      <th>348</th>\n",
       "      <td>1</td>\n",
       "      <td>Meriadeck</td>\n",
       "      <td>2</td>\n",
       "      <td>2017-07-09 00:09:04</td>\n",
       "    </tr>\n",
       "    <tr>\n",
       "      <th>522</th>\n",
       "      <td>1</td>\n",
       "      <td>Meriadeck</td>\n",
       "      <td>2</td>\n",
       "      <td>2017-07-09 00:14:03</td>\n",
       "    </tr>\n",
       "    <tr>\n",
       "      <th>696</th>\n",
       "      <td>1</td>\n",
       "      <td>Meriadeck</td>\n",
       "      <td>2</td>\n",
       "      <td>2017-07-09 00:19:04</td>\n",
       "    </tr>\n",
       "  </tbody>\n",
       "</table>\n",
       "</div>"
      ],
      "text/plain": [
       "     station       name  bikes                  ts\n",
       "0          1  Meriadeck      2 2017-07-09 00:03:04\n",
       "174        1  Meriadeck      2 2017-07-09 00:04:04\n",
       "348        1  Meriadeck      2 2017-07-09 00:09:04\n",
       "522        1  Meriadeck      2 2017-07-09 00:14:03\n",
       "696        1  Meriadeck      2 2017-07-09 00:19:04"
      ]
     },
     "execution_count": 12,
     "metadata": {},
     "output_type": "execute_result"
    }
   ],
   "source": [
    "print(data.shape)\n",
    "data.head()"
   ]
  },
  {
   "cell_type": "markdown",
   "metadata": {},
   "source": [
    "## Timeseries resampling"
   ]
  },
  {
   "cell_type": "markdown",
   "metadata": {},
   "source": [
    "Get data every 5 minutes."
   ]
  },
  {
   "cell_type": "code",
   "execution_count": 13,
   "metadata": {
    "collapsed": true
   },
   "outputs": [],
   "source": [
    "df = (data.set_index(\"ts\")\n",
    "      .groupby(\"station\")[\"bikes\"]\n",
    "      .resample(\"5T\")\n",
    "      .mean()\n",
    "      .bfill()\n",
    "      .unstack(0))"
   ]
  },
  {
   "cell_type": "code",
   "execution_count": 14,
   "metadata": {},
   "outputs": [
    {
     "name": "stdout",
     "output_type": "stream",
     "text": [
      "(13358, 169)\n"
     ]
    },
    {
     "data": {
      "text/html": [
       "<div>\n",
       "<style>\n",
       "    .dataframe thead tr:only-child th {\n",
       "        text-align: right;\n",
       "    }\n",
       "\n",
       "    .dataframe thead th {\n",
       "        text-align: left;\n",
       "    }\n",
       "\n",
       "    .dataframe tbody tr th {\n",
       "        vertical-align: top;\n",
       "    }\n",
       "</style>\n",
       "<table border=\"1\" class=\"dataframe\">\n",
       "  <thead>\n",
       "    <tr style=\"text-align: right;\">\n",
       "      <th>station</th>\n",
       "      <th>1</th>\n",
       "      <th>2</th>\n",
       "      <th>3</th>\n",
       "      <th>4</th>\n",
       "      <th>5</th>\n",
       "      <th>6</th>\n",
       "      <th>7</th>\n",
       "      <th>8</th>\n",
       "      <th>9</th>\n",
       "      <th>10</th>\n",
       "      <th>...</th>\n",
       "      <th>165</th>\n",
       "      <th>166</th>\n",
       "      <th>167</th>\n",
       "      <th>168</th>\n",
       "      <th>169</th>\n",
       "      <th>170</th>\n",
       "      <th>171</th>\n",
       "      <th>172</th>\n",
       "      <th>173</th>\n",
       "      <th>174</th>\n",
       "    </tr>\n",
       "    <tr>\n",
       "      <th>ts</th>\n",
       "      <th></th>\n",
       "      <th></th>\n",
       "      <th></th>\n",
       "      <th></th>\n",
       "      <th></th>\n",
       "      <th></th>\n",
       "      <th></th>\n",
       "      <th></th>\n",
       "      <th></th>\n",
       "      <th></th>\n",
       "      <th></th>\n",
       "      <th></th>\n",
       "      <th></th>\n",
       "      <th></th>\n",
       "      <th></th>\n",
       "      <th></th>\n",
       "      <th></th>\n",
       "      <th></th>\n",
       "      <th></th>\n",
       "      <th></th>\n",
       "      <th></th>\n",
       "    </tr>\n",
       "  </thead>\n",
       "  <tbody>\n",
       "    <tr>\n",
       "      <th>2017-09-01 00:00:00</th>\n",
       "      <td>4.0</td>\n",
       "      <td>12.0</td>\n",
       "      <td>18.0</td>\n",
       "      <td>0.0</td>\n",
       "      <td>3.0</td>\n",
       "      <td>0.0</td>\n",
       "      <td>1.0</td>\n",
       "      <td>5.0</td>\n",
       "      <td>16.0</td>\n",
       "      <td>0.0</td>\n",
       "      <td>...</td>\n",
       "      <td>11.0</td>\n",
       "      <td>11.0</td>\n",
       "      <td>11.0</td>\n",
       "      <td>11.0</td>\n",
       "      <td>4.0</td>\n",
       "      <td>6.0</td>\n",
       "      <td>8.0</td>\n",
       "      <td>0.0</td>\n",
       "      <td>8.0</td>\n",
       "      <td>0.0</td>\n",
       "    </tr>\n",
       "    <tr>\n",
       "      <th>2017-09-01 00:05:00</th>\n",
       "      <td>4.0</td>\n",
       "      <td>14.0</td>\n",
       "      <td>18.0</td>\n",
       "      <td>2.0</td>\n",
       "      <td>3.0</td>\n",
       "      <td>0.0</td>\n",
       "      <td>0.0</td>\n",
       "      <td>5.0</td>\n",
       "      <td>16.0</td>\n",
       "      <td>1.0</td>\n",
       "      <td>...</td>\n",
       "      <td>11.0</td>\n",
       "      <td>11.0</td>\n",
       "      <td>11.0</td>\n",
       "      <td>11.0</td>\n",
       "      <td>4.0</td>\n",
       "      <td>5.0</td>\n",
       "      <td>8.0</td>\n",
       "      <td>0.0</td>\n",
       "      <td>8.0</td>\n",
       "      <td>0.0</td>\n",
       "    </tr>\n",
       "    <tr>\n",
       "      <th>2017-09-01 00:10:00</th>\n",
       "      <td>3.0</td>\n",
       "      <td>14.0</td>\n",
       "      <td>18.0</td>\n",
       "      <td>2.0</td>\n",
       "      <td>1.0</td>\n",
       "      <td>0.0</td>\n",
       "      <td>2.0</td>\n",
       "      <td>5.0</td>\n",
       "      <td>15.0</td>\n",
       "      <td>2.0</td>\n",
       "      <td>...</td>\n",
       "      <td>11.0</td>\n",
       "      <td>11.0</td>\n",
       "      <td>11.0</td>\n",
       "      <td>11.0</td>\n",
       "      <td>4.0</td>\n",
       "      <td>5.0</td>\n",
       "      <td>7.0</td>\n",
       "      <td>2.0</td>\n",
       "      <td>8.0</td>\n",
       "      <td>0.0</td>\n",
       "    </tr>\n",
       "    <tr>\n",
       "      <th>2017-09-01 00:15:00</th>\n",
       "      <td>3.0</td>\n",
       "      <td>13.0</td>\n",
       "      <td>18.0</td>\n",
       "      <td>2.0</td>\n",
       "      <td>0.0</td>\n",
       "      <td>0.0</td>\n",
       "      <td>3.0</td>\n",
       "      <td>5.0</td>\n",
       "      <td>15.0</td>\n",
       "      <td>2.0</td>\n",
       "      <td>...</td>\n",
       "      <td>11.0</td>\n",
       "      <td>11.0</td>\n",
       "      <td>11.0</td>\n",
       "      <td>11.0</td>\n",
       "      <td>4.0</td>\n",
       "      <td>5.0</td>\n",
       "      <td>7.0</td>\n",
       "      <td>0.0</td>\n",
       "      <td>8.0</td>\n",
       "      <td>0.0</td>\n",
       "    </tr>\n",
       "    <tr>\n",
       "      <th>2017-09-01 00:20:00</th>\n",
       "      <td>2.0</td>\n",
       "      <td>13.0</td>\n",
       "      <td>18.0</td>\n",
       "      <td>2.0</td>\n",
       "      <td>0.0</td>\n",
       "      <td>0.0</td>\n",
       "      <td>3.0</td>\n",
       "      <td>5.0</td>\n",
       "      <td>15.0</td>\n",
       "      <td>2.0</td>\n",
       "      <td>...</td>\n",
       "      <td>11.0</td>\n",
       "      <td>11.0</td>\n",
       "      <td>11.0</td>\n",
       "      <td>11.0</td>\n",
       "      <td>4.0</td>\n",
       "      <td>5.0</td>\n",
       "      <td>8.0</td>\n",
       "      <td>0.0</td>\n",
       "      <td>8.0</td>\n",
       "      <td>0.0</td>\n",
       "    </tr>\n",
       "  </tbody>\n",
       "</table>\n",
       "<p>5 rows × 169 columns</p>\n",
       "</div>"
      ],
      "text/plain": [
       "station              1     2     3    4    5    6    7    8     9    10  ...   \\\n",
       "ts                                                                       ...    \n",
       "2017-09-01 00:00:00  4.0  12.0  18.0  0.0  3.0  0.0  1.0  5.0  16.0  0.0 ...    \n",
       "2017-09-01 00:05:00  4.0  14.0  18.0  2.0  3.0  0.0  0.0  5.0  16.0  1.0 ...    \n",
       "2017-09-01 00:10:00  3.0  14.0  18.0  2.0  1.0  0.0  2.0  5.0  15.0  2.0 ...    \n",
       "2017-09-01 00:15:00  3.0  13.0  18.0  2.0  0.0  0.0  3.0  5.0  15.0  2.0 ...    \n",
       "2017-09-01 00:20:00  2.0  13.0  18.0  2.0  0.0  0.0  3.0  5.0  15.0  2.0 ...    \n",
       "\n",
       "station               165   166   167   168  169  170  171  172  173  174  \n",
       "ts                                                                         \n",
       "2017-09-01 00:00:00  11.0  11.0  11.0  11.0  4.0  6.0  8.0  0.0  8.0  0.0  \n",
       "2017-09-01 00:05:00  11.0  11.0  11.0  11.0  4.0  5.0  8.0  0.0  8.0  0.0  \n",
       "2017-09-01 00:10:00  11.0  11.0  11.0  11.0  4.0  5.0  7.0  2.0  8.0  0.0  \n",
       "2017-09-01 00:15:00  11.0  11.0  11.0  11.0  4.0  5.0  7.0  0.0  8.0  0.0  \n",
       "2017-09-01 00:20:00  11.0  11.0  11.0  11.0  4.0  5.0  8.0  0.0  8.0  0.0  \n",
       "\n",
       "[5 rows x 169 columns]"
      ]
     },
     "execution_count": 14,
     "metadata": {},
     "output_type": "execute_result"
    }
   ],
   "source": [
    "print(df.shape)\n",
    "df.head()"
   ]
  },
  {
   "cell_type": "markdown",
   "metadata": {},
   "source": [
    "## Get rid of saturday and sunday"
   ]
  },
  {
   "cell_type": "code",
   "execution_count": 15,
   "metadata": {
    "collapsed": true
   },
   "outputs": [],
   "source": [
    "weekday = df.index.weekday"
   ]
  },
  {
   "cell_type": "code",
   "execution_count": 16,
   "metadata": {
    "collapsed": true
   },
   "outputs": [],
   "source": [
    "mask = weekday < 5"
   ]
  },
  {
   "cell_type": "code",
   "execution_count": 17,
   "metadata": {},
   "outputs": [
    {
     "data": {
      "text/plain": [
       "9326"
      ]
     },
     "execution_count": 17,
     "metadata": {},
     "output_type": "execute_result"
    }
   ],
   "source": [
    "mask.sum()"
   ]
  },
  {
   "cell_type": "code",
   "execution_count": 18,
   "metadata": {
    "collapsed": true
   },
   "outputs": [],
   "source": [
    "df = df[mask]"
   ]
  },
  {
   "cell_type": "code",
   "execution_count": 19,
   "metadata": {},
   "outputs": [
    {
     "name": "stdout",
     "output_type": "stream",
     "text": [
      "(9326, 169)\n"
     ]
    }
   ],
   "source": [
    "print(df.shape)"
   ]
  },
  {
   "cell_type": "markdown",
   "metadata": {},
   "source": [
    "## Get the daily profile"
   ]
  },
  {
   "cell_type": "code",
   "execution_count": 20,
   "metadata": {
    "collapsed": true
   },
   "outputs": [],
   "source": [
    "df['hour'] = df.index.hour"
   ]
  },
  {
   "cell_type": "code",
   "execution_count": 21,
   "metadata": {},
   "outputs": [
    {
     "data": {
      "text/html": [
       "<div>\n",
       "<style>\n",
       "    .dataframe thead tr:only-child th {\n",
       "        text-align: right;\n",
       "    }\n",
       "\n",
       "    .dataframe thead th {\n",
       "        text-align: left;\n",
       "    }\n",
       "\n",
       "    .dataframe tbody tr th {\n",
       "        vertical-align: top;\n",
       "    }\n",
       "</style>\n",
       "<table border=\"1\" class=\"dataframe\">\n",
       "  <thead>\n",
       "    <tr style=\"text-align: right;\">\n",
       "      <th>station</th>\n",
       "      <th>1</th>\n",
       "      <th>2</th>\n",
       "      <th>3</th>\n",
       "      <th>4</th>\n",
       "      <th>5</th>\n",
       "      <th>6</th>\n",
       "      <th>7</th>\n",
       "      <th>8</th>\n",
       "      <th>9</th>\n",
       "      <th>10</th>\n",
       "      <th>...</th>\n",
       "      <th>166</th>\n",
       "      <th>167</th>\n",
       "      <th>168</th>\n",
       "      <th>169</th>\n",
       "      <th>170</th>\n",
       "      <th>171</th>\n",
       "      <th>172</th>\n",
       "      <th>173</th>\n",
       "      <th>174</th>\n",
       "      <th>hour</th>\n",
       "    </tr>\n",
       "    <tr>\n",
       "      <th>ts</th>\n",
       "      <th></th>\n",
       "      <th></th>\n",
       "      <th></th>\n",
       "      <th></th>\n",
       "      <th></th>\n",
       "      <th></th>\n",
       "      <th></th>\n",
       "      <th></th>\n",
       "      <th></th>\n",
       "      <th></th>\n",
       "      <th></th>\n",
       "      <th></th>\n",
       "      <th></th>\n",
       "      <th></th>\n",
       "      <th></th>\n",
       "      <th></th>\n",
       "      <th></th>\n",
       "      <th></th>\n",
       "      <th></th>\n",
       "      <th></th>\n",
       "      <th></th>\n",
       "    </tr>\n",
       "  </thead>\n",
       "  <tbody>\n",
       "    <tr>\n",
       "      <th>2017-09-01 00:00:00</th>\n",
       "      <td>4.0</td>\n",
       "      <td>12.0</td>\n",
       "      <td>18.0</td>\n",
       "      <td>0.0</td>\n",
       "      <td>3.0</td>\n",
       "      <td>0.0</td>\n",
       "      <td>1.0</td>\n",
       "      <td>5.0</td>\n",
       "      <td>16.0</td>\n",
       "      <td>0.0</td>\n",
       "      <td>...</td>\n",
       "      <td>11.0</td>\n",
       "      <td>11.0</td>\n",
       "      <td>11.0</td>\n",
       "      <td>4.0</td>\n",
       "      <td>6.0</td>\n",
       "      <td>8.0</td>\n",
       "      <td>0.0</td>\n",
       "      <td>8.0</td>\n",
       "      <td>0.0</td>\n",
       "      <td>0</td>\n",
       "    </tr>\n",
       "    <tr>\n",
       "      <th>2017-09-01 00:05:00</th>\n",
       "      <td>4.0</td>\n",
       "      <td>14.0</td>\n",
       "      <td>18.0</td>\n",
       "      <td>2.0</td>\n",
       "      <td>3.0</td>\n",
       "      <td>0.0</td>\n",
       "      <td>0.0</td>\n",
       "      <td>5.0</td>\n",
       "      <td>16.0</td>\n",
       "      <td>1.0</td>\n",
       "      <td>...</td>\n",
       "      <td>11.0</td>\n",
       "      <td>11.0</td>\n",
       "      <td>11.0</td>\n",
       "      <td>4.0</td>\n",
       "      <td>5.0</td>\n",
       "      <td>8.0</td>\n",
       "      <td>0.0</td>\n",
       "      <td>8.0</td>\n",
       "      <td>0.0</td>\n",
       "      <td>0</td>\n",
       "    </tr>\n",
       "    <tr>\n",
       "      <th>2017-09-01 00:10:00</th>\n",
       "      <td>3.0</td>\n",
       "      <td>14.0</td>\n",
       "      <td>18.0</td>\n",
       "      <td>2.0</td>\n",
       "      <td>1.0</td>\n",
       "      <td>0.0</td>\n",
       "      <td>2.0</td>\n",
       "      <td>5.0</td>\n",
       "      <td>15.0</td>\n",
       "      <td>2.0</td>\n",
       "      <td>...</td>\n",
       "      <td>11.0</td>\n",
       "      <td>11.0</td>\n",
       "      <td>11.0</td>\n",
       "      <td>4.0</td>\n",
       "      <td>5.0</td>\n",
       "      <td>7.0</td>\n",
       "      <td>2.0</td>\n",
       "      <td>8.0</td>\n",
       "      <td>0.0</td>\n",
       "      <td>0</td>\n",
       "    </tr>\n",
       "    <tr>\n",
       "      <th>2017-09-01 00:15:00</th>\n",
       "      <td>3.0</td>\n",
       "      <td>13.0</td>\n",
       "      <td>18.0</td>\n",
       "      <td>2.0</td>\n",
       "      <td>0.0</td>\n",
       "      <td>0.0</td>\n",
       "      <td>3.0</td>\n",
       "      <td>5.0</td>\n",
       "      <td>15.0</td>\n",
       "      <td>2.0</td>\n",
       "      <td>...</td>\n",
       "      <td>11.0</td>\n",
       "      <td>11.0</td>\n",
       "      <td>11.0</td>\n",
       "      <td>4.0</td>\n",
       "      <td>5.0</td>\n",
       "      <td>7.0</td>\n",
       "      <td>0.0</td>\n",
       "      <td>8.0</td>\n",
       "      <td>0.0</td>\n",
       "      <td>0</td>\n",
       "    </tr>\n",
       "    <tr>\n",
       "      <th>2017-09-01 00:20:00</th>\n",
       "      <td>2.0</td>\n",
       "      <td>13.0</td>\n",
       "      <td>18.0</td>\n",
       "      <td>2.0</td>\n",
       "      <td>0.0</td>\n",
       "      <td>0.0</td>\n",
       "      <td>3.0</td>\n",
       "      <td>5.0</td>\n",
       "      <td>15.0</td>\n",
       "      <td>2.0</td>\n",
       "      <td>...</td>\n",
       "      <td>11.0</td>\n",
       "      <td>11.0</td>\n",
       "      <td>11.0</td>\n",
       "      <td>4.0</td>\n",
       "      <td>5.0</td>\n",
       "      <td>8.0</td>\n",
       "      <td>0.0</td>\n",
       "      <td>8.0</td>\n",
       "      <td>0.0</td>\n",
       "      <td>0</td>\n",
       "    </tr>\n",
       "  </tbody>\n",
       "</table>\n",
       "<p>5 rows × 170 columns</p>\n",
       "</div>"
      ],
      "text/plain": [
       "station                1     2     3    4    5    6    7    8     9   10  \\\n",
       "ts                                                                         \n",
       "2017-09-01 00:00:00  4.0  12.0  18.0  0.0  3.0  0.0  1.0  5.0  16.0  0.0   \n",
       "2017-09-01 00:05:00  4.0  14.0  18.0  2.0  3.0  0.0  0.0  5.0  16.0  1.0   \n",
       "2017-09-01 00:10:00  3.0  14.0  18.0  2.0  1.0  0.0  2.0  5.0  15.0  2.0   \n",
       "2017-09-01 00:15:00  3.0  13.0  18.0  2.0  0.0  0.0  3.0  5.0  15.0  2.0   \n",
       "2017-09-01 00:20:00  2.0  13.0  18.0  2.0  0.0  0.0  3.0  5.0  15.0  2.0   \n",
       "\n",
       "station              ...    166   167   168  169  170  171  172  173  174  \\\n",
       "ts                   ...                                                    \n",
       "2017-09-01 00:00:00  ...   11.0  11.0  11.0  4.0  6.0  8.0  0.0  8.0  0.0   \n",
       "2017-09-01 00:05:00  ...   11.0  11.0  11.0  4.0  5.0  8.0  0.0  8.0  0.0   \n",
       "2017-09-01 00:10:00  ...   11.0  11.0  11.0  4.0  5.0  7.0  2.0  8.0  0.0   \n",
       "2017-09-01 00:15:00  ...   11.0  11.0  11.0  4.0  5.0  7.0  0.0  8.0  0.0   \n",
       "2017-09-01 00:20:00  ...   11.0  11.0  11.0  4.0  5.0  8.0  0.0  8.0  0.0   \n",
       "\n",
       "station              hour  \n",
       "ts                         \n",
       "2017-09-01 00:00:00     0  \n",
       "2017-09-01 00:05:00     0  \n",
       "2017-09-01 00:10:00     0  \n",
       "2017-09-01 00:15:00     0  \n",
       "2017-09-01 00:20:00     0  \n",
       "\n",
       "[5 rows x 170 columns]"
      ]
     },
     "execution_count": 21,
     "metadata": {},
     "output_type": "execute_result"
    }
   ],
   "source": [
    "df.head()"
   ]
  },
  {
   "cell_type": "code",
   "execution_count": 22,
   "metadata": {
    "collapsed": true
   },
   "outputs": [],
   "source": [
    "profile = df.groupby(\"hour\").mean()"
   ]
  },
  {
   "cell_type": "code",
   "execution_count": 23,
   "metadata": {},
   "outputs": [
    {
     "data": {
      "text/html": [
       "<div>\n",
       "<style>\n",
       "    .dataframe thead tr:only-child th {\n",
       "        text-align: right;\n",
       "    }\n",
       "\n",
       "    .dataframe thead th {\n",
       "        text-align: left;\n",
       "    }\n",
       "\n",
       "    .dataframe tbody tr th {\n",
       "        vertical-align: top;\n",
       "    }\n",
       "</style>\n",
       "<table border=\"1\" class=\"dataframe\">\n",
       "  <thead>\n",
       "    <tr style=\"text-align: right;\">\n",
       "      <th>station</th>\n",
       "      <th>1</th>\n",
       "      <th>2</th>\n",
       "      <th>3</th>\n",
       "      <th>4</th>\n",
       "      <th>5</th>\n",
       "      <th>6</th>\n",
       "      <th>7</th>\n",
       "      <th>8</th>\n",
       "      <th>9</th>\n",
       "      <th>10</th>\n",
       "      <th>...</th>\n",
       "      <th>165</th>\n",
       "      <th>166</th>\n",
       "      <th>167</th>\n",
       "      <th>168</th>\n",
       "      <th>169</th>\n",
       "      <th>170</th>\n",
       "      <th>171</th>\n",
       "      <th>172</th>\n",
       "      <th>173</th>\n",
       "      <th>174</th>\n",
       "    </tr>\n",
       "    <tr>\n",
       "      <th>hour</th>\n",
       "      <th></th>\n",
       "      <th></th>\n",
       "      <th></th>\n",
       "      <th></th>\n",
       "      <th></th>\n",
       "      <th></th>\n",
       "      <th></th>\n",
       "      <th></th>\n",
       "      <th></th>\n",
       "      <th></th>\n",
       "      <th></th>\n",
       "      <th></th>\n",
       "      <th></th>\n",
       "      <th></th>\n",
       "      <th></th>\n",
       "      <th></th>\n",
       "      <th></th>\n",
       "      <th></th>\n",
       "      <th></th>\n",
       "      <th></th>\n",
       "      <th></th>\n",
       "    </tr>\n",
       "  </thead>\n",
       "  <tbody>\n",
       "    <tr>\n",
       "      <th>0</th>\n",
       "      <td>1.974747</td>\n",
       "      <td>7.880051</td>\n",
       "      <td>8.280303</td>\n",
       "      <td>4.333333</td>\n",
       "      <td>1.921717</td>\n",
       "      <td>1.434343</td>\n",
       "      <td>3.896465</td>\n",
       "      <td>10.929293</td>\n",
       "      <td>11.911616</td>\n",
       "      <td>5.000000</td>\n",
       "      <td>...</td>\n",
       "      <td>9.239899</td>\n",
       "      <td>9.659091</td>\n",
       "      <td>9.921717</td>\n",
       "      <td>10.090909</td>\n",
       "      <td>5.770202</td>\n",
       "      <td>8.219697</td>\n",
       "      <td>13.916667</td>\n",
       "      <td>3.143939</td>\n",
       "      <td>9.772727</td>\n",
       "      <td>0.989899</td>\n",
       "    </tr>\n",
       "    <tr>\n",
       "      <th>1</th>\n",
       "      <td>1.787879</td>\n",
       "      <td>8.517677</td>\n",
       "      <td>8.520202</td>\n",
       "      <td>3.767677</td>\n",
       "      <td>1.737374</td>\n",
       "      <td>1.330808</td>\n",
       "      <td>3.464646</td>\n",
       "      <td>11.398990</td>\n",
       "      <td>13.093434</td>\n",
       "      <td>5.797980</td>\n",
       "      <td>...</td>\n",
       "      <td>9.287879</td>\n",
       "      <td>9.638889</td>\n",
       "      <td>9.954545</td>\n",
       "      <td>10.093434</td>\n",
       "      <td>5.901515</td>\n",
       "      <td>8.479798</td>\n",
       "      <td>14.853535</td>\n",
       "      <td>3.148990</td>\n",
       "      <td>10.174242</td>\n",
       "      <td>0.997475</td>\n",
       "    </tr>\n",
       "    <tr>\n",
       "      <th>2</th>\n",
       "      <td>1.598485</td>\n",
       "      <td>8.545455</td>\n",
       "      <td>8.911616</td>\n",
       "      <td>3.436869</td>\n",
       "      <td>1.719697</td>\n",
       "      <td>1.747475</td>\n",
       "      <td>2.479798</td>\n",
       "      <td>11.492424</td>\n",
       "      <td>13.782828</td>\n",
       "      <td>6.378788</td>\n",
       "      <td>...</td>\n",
       "      <td>9.300505</td>\n",
       "      <td>9.636364</td>\n",
       "      <td>9.974747</td>\n",
       "      <td>10.141414</td>\n",
       "      <td>6.083333</td>\n",
       "      <td>8.623737</td>\n",
       "      <td>15.113636</td>\n",
       "      <td>3.679293</td>\n",
       "      <td>10.800505</td>\n",
       "      <td>1.080808</td>\n",
       "    </tr>\n",
       "    <tr>\n",
       "      <th>3</th>\n",
       "      <td>1.984848</td>\n",
       "      <td>8.522727</td>\n",
       "      <td>9.106061</td>\n",
       "      <td>3.527778</td>\n",
       "      <td>1.939394</td>\n",
       "      <td>2.005051</td>\n",
       "      <td>2.300505</td>\n",
       "      <td>11.363636</td>\n",
       "      <td>14.022727</td>\n",
       "      <td>6.936869</td>\n",
       "      <td>...</td>\n",
       "      <td>9.383838</td>\n",
       "      <td>9.691919</td>\n",
       "      <td>9.974747</td>\n",
       "      <td>10.174242</td>\n",
       "      <td>6.234848</td>\n",
       "      <td>8.876263</td>\n",
       "      <td>15.042929</td>\n",
       "      <td>4.015152</td>\n",
       "      <td>11.300505</td>\n",
       "      <td>1.103535</td>\n",
       "    </tr>\n",
       "    <tr>\n",
       "      <th>4</th>\n",
       "      <td>3.176768</td>\n",
       "      <td>8.757576</td>\n",
       "      <td>9.356061</td>\n",
       "      <td>3.722222</td>\n",
       "      <td>2.174242</td>\n",
       "      <td>2.310606</td>\n",
       "      <td>2.631313</td>\n",
       "      <td>11.858586</td>\n",
       "      <td>14.366162</td>\n",
       "      <td>7.143939</td>\n",
       "      <td>...</td>\n",
       "      <td>9.598485</td>\n",
       "      <td>10.154040</td>\n",
       "      <td>9.974747</td>\n",
       "      <td>10.186869</td>\n",
       "      <td>6.416667</td>\n",
       "      <td>9.042929</td>\n",
       "      <td>15.118687</td>\n",
       "      <td>3.790404</td>\n",
       "      <td>11.497475</td>\n",
       "      <td>1.217172</td>\n",
       "    </tr>\n",
       "  </tbody>\n",
       "</table>\n",
       "<p>5 rows × 169 columns</p>\n",
       "</div>"
      ],
      "text/plain": [
       "station       1         2         3         4         5         6         7    \\\n",
       "hour                                                                            \n",
       "0        1.974747  7.880051  8.280303  4.333333  1.921717  1.434343  3.896465   \n",
       "1        1.787879  8.517677  8.520202  3.767677  1.737374  1.330808  3.464646   \n",
       "2        1.598485  8.545455  8.911616  3.436869  1.719697  1.747475  2.479798   \n",
       "3        1.984848  8.522727  9.106061  3.527778  1.939394  2.005051  2.300505   \n",
       "4        3.176768  8.757576  9.356061  3.722222  2.174242  2.310606  2.631313   \n",
       "\n",
       "station        8          9         10     ...          165        166  \\\n",
       "hour                                       ...                           \n",
       "0        10.929293  11.911616  5.000000    ...     9.239899   9.659091   \n",
       "1        11.398990  13.093434  5.797980    ...     9.287879   9.638889   \n",
       "2        11.492424  13.782828  6.378788    ...     9.300505   9.636364   \n",
       "3        11.363636  14.022727  6.936869    ...     9.383838   9.691919   \n",
       "4        11.858586  14.366162  7.143939    ...     9.598485  10.154040   \n",
       "\n",
       "station       167        168       169       170        171       172  \\\n",
       "hour                                                                    \n",
       "0        9.921717  10.090909  5.770202  8.219697  13.916667  3.143939   \n",
       "1        9.954545  10.093434  5.901515  8.479798  14.853535  3.148990   \n",
       "2        9.974747  10.141414  6.083333  8.623737  15.113636  3.679293   \n",
       "3        9.974747  10.174242  6.234848  8.876263  15.042929  4.015152   \n",
       "4        9.974747  10.186869  6.416667  9.042929  15.118687  3.790404   \n",
       "\n",
       "station        173       174  \n",
       "hour                          \n",
       "0         9.772727  0.989899  \n",
       "1        10.174242  0.997475  \n",
       "2        10.800505  1.080808  \n",
       "3        11.300505  1.103535  \n",
       "4        11.497475  1.217172  \n",
       "\n",
       "[5 rows x 169 columns]"
      ]
     },
     "execution_count": 23,
     "metadata": {},
     "output_type": "execute_result"
    }
   ],
   "source": [
    "profile.head()"
   ]
  },
  {
   "cell_type": "markdown",
   "metadata": {},
   "source": [
    "## Clustering"
   ]
  },
  {
   "cell_type": "markdown",
   "metadata": {},
   "source": [
    "Use the KMeans algorithm on the daily profile."
   ]
  },
  {
   "cell_type": "code",
   "execution_count": 72,
   "metadata": {
    "collapsed": true
   },
   "outputs": [],
   "source": [
    "n_clusters = 4"
   ]
  },
  {
   "cell_type": "code",
   "execution_count": 73,
   "metadata": {
    "collapsed": true
   },
   "outputs": [],
   "source": [
    "# Normalization\n",
    "df_norm = profile / profile.max()"
   ]
  },
  {
   "cell_type": "code",
   "execution_count": 74,
   "metadata": {
    "collapsed": true
   },
   "outputs": [],
   "source": [
    "kmeans = KMeans(n_clusters=n_clusters, random_state=42).fit(df_norm.T)"
   ]
  },
  {
   "cell_type": "code",
   "execution_count": 75,
   "metadata": {
    "collapsed": true
   },
   "outputs": [],
   "source": [
    "labels = pd.Series(kmeans.labels_)"
   ]
  },
  {
   "cell_type": "markdown",
   "metadata": {},
   "source": [
    "Number of stations for each cluster (i.e. usage pattern)."
   ]
  },
  {
   "cell_type": "code",
   "execution_count": 106,
   "metadata": {},
   "outputs": [
    {
     "data": {
      "text/plain": [
       "0    70\n",
       "1    13\n",
       "2    55\n",
       "3    31\n",
       "dtype: int64"
      ]
     },
     "execution_count": 106,
     "metadata": {},
     "output_type": "execute_result"
    }
   ],
   "source": [
    "label_count = labels.groupby(labels).count()\n",
    "label_count"
   ]
  },
  {
   "cell_type": "markdown",
   "metadata": {},
   "source": [
    "Choose some colors."
   ]
  },
  {
   "cell_type": "code",
   "execution_count": 77,
   "metadata": {
    "collapsed": true
   },
   "outputs": [],
   "source": [
    "colors = sns.color_palette('tab10', n_clusters)"
   ]
  },
  {
   "cell_type": "code",
   "execution_count": 78,
   "metadata": {},
   "outputs": [
    {
     "data": {
      "image/png": "[encoded data removed]",
      "text/plain": [
       "<matplotlib.figure.Figure at 0x7fdc21b77ba8>"
      ]
     },
     "metadata": {},
     "output_type": "display_data"
    }
   ],
   "source": [
    "sns.palplot(colors)"
   ]
  },
  {
   "cell_type": "code",
   "execution_count": 112,
   "metadata": {},
   "outputs": [
    {
     "data": {
      "text/plain": [
       "<matplotlib.text.Text at 0x7fdc20d6f7f0>"
      ]
     },
     "execution_count": 112,
     "metadata": {},
     "output_type": "execute_result"
    },
    {
     "data": {
      "image/png": "[encoded data removed]",
      "text/plain": [
       "<matplotlib.figure.Figure at 0x7fdc20de5278>"
      ]
     },
     "metadata": {},
     "output_type": "display_data"
    }
   ],
   "source": [
    "sns.barplot(x=label_count.index, y=label_count, palette='tab10')\n",
    "plt.xlabel('Cluster')\n",
    "plt.ylabel('Number of stations')\n",
    "plt.title('Number of stations for each cluster')"
   ]
  },
  {
   "cell_type": "markdown",
   "metadata": {},
   "source": [
    "Plot the daily profile of available bikes (%) for each cluster."
   ]
  },
  {
   "cell_type": "code",
   "execution_count": 81,
   "metadata": {
    "scrolled": false
   },
   "outputs": [
    {
     "data": {
      "image/png": "[encoded data removed]",
      "text/plain": [
       "<matplotlib.figure.Figure at 0x7fdc289a5b38>"
      ]
     },
     "metadata": {},
     "output_type": "display_data"
    }
   ],
   "source": [
    "with sns.axes_style(\"whitegrid\", {'xtick.major.size': 8.0}):\n",
    "    fig, ax = plt.subplots(figsize=(10,6))\n",
    "\n",
    "for k, label, color in zip(kmeans.cluster_centers_, range(n_clusters), colors):\n",
    "    plt.plot(100*k, color=color, label=label)\n",
    "    \n",
    "plt.legend()\n",
    "plt.xlabel('Hour')\n",
    "plt.ylabel(\"available bikes%\")\n",
    "sns.despine()"
   ]
  },
  {
   "cell_type": "markdown",
   "metadata": {},
   "source": [
    "## Map"
   ]
  },
  {
   "cell_type": "markdown",
   "metadata": {},
   "source": [
    "Get the station lat/lon coordinates."
   ]
  },
  {
   "cell_type": "code",
   "execution_count": 84,
   "metadata": {
    "collapsed": true
   },
   "outputs": [],
   "source": [
    "locations = pd.read_csv(\"data/bordeaux-stations.csv\")"
   ]
  },
  {
   "cell_type": "code",
   "execution_count": 85,
   "metadata": {},
   "outputs": [
    {
     "data": {
      "text/html": [
       "<div>\n",
       "<style>\n",
       "    .dataframe thead tr:only-child th {\n",
       "        text-align: right;\n",
       "    }\n",
       "\n",
       "    .dataframe thead th {\n",
       "        text-align: left;\n",
       "    }\n",
       "\n",
       "    .dataframe tbody tr th {\n",
       "        vertical-align: top;\n",
       "    }\n",
       "</style>\n",
       "<table border=\"1\" class=\"dataframe\">\n",
       "  <thead>\n",
       "    <tr style=\"text-align: right;\">\n",
       "      <th></th>\n",
       "      <th>ident</th>\n",
       "      <th>nom</th>\n",
       "      <th>lat</th>\n",
       "      <th>lon</th>\n",
       "    </tr>\n",
       "  </thead>\n",
       "  <tbody>\n",
       "    <tr>\n",
       "      <th>0</th>\n",
       "      <td>138</td>\n",
       "      <td>Lycée Brémontier</td>\n",
       "      <td>44.824055</td>\n",
       "      <td>-0.570243</td>\n",
       "    </tr>\n",
       "    <tr>\n",
       "      <th>1</th>\n",
       "      <td>135</td>\n",
       "      <td>Eglise Ste Croix</td>\n",
       "      <td>44.831312</td>\n",
       "      <td>-0.561393</td>\n",
       "    </tr>\n",
       "    <tr>\n",
       "      <th>2</th>\n",
       "      <td>79</td>\n",
       "      <td>Buttinière</td>\n",
       "      <td>44.864276</td>\n",
       "      <td>-0.524200</td>\n",
       "    </tr>\n",
       "    <tr>\n",
       "      <th>3</th>\n",
       "      <td>3</td>\n",
       "      <td>Porte de Bourgogne</td>\n",
       "      <td>44.837789</td>\n",
       "      <td>-0.567156</td>\n",
       "    </tr>\n",
       "    <tr>\n",
       "      <th>4</th>\n",
       "      <td>8</td>\n",
       "      <td>Doyen Brus</td>\n",
       "      <td>44.800385</td>\n",
       "      <td>-0.609857</td>\n",
       "    </tr>\n",
       "  </tbody>\n",
       "</table>\n",
       "</div>"
      ],
      "text/plain": [
       "   ident                 nom        lat       lon\n",
       "0    138    Lycée Brémontier  44.824055 -0.570243\n",
       "1    135    Eglise Ste Croix  44.831312 -0.561393\n",
       "2     79          Buttinière  44.864276 -0.524200\n",
       "3      3  Porte de Bourgogne  44.837789 -0.567156\n",
       "4      8          Doyen Brus  44.800385 -0.609857"
      ]
     },
     "execution_count": 85,
     "metadata": {},
     "output_type": "execute_result"
    }
   ],
   "source": [
    "locations.head()"
   ]
  },
  {
   "cell_type": "code",
   "execution_count": 86,
   "metadata": {
    "collapsed": true
   },
   "outputs": [],
   "source": [
    "dflabel = pd.DataFrame({\"label\": kmeans.labels_}, index=profile.columns)"
   ]
  },
  {
   "cell_type": "code",
   "execution_count": 87,
   "metadata": {},
   "outputs": [
    {
     "data": {
      "text/html": [
       "<div>\n",
       "<style>\n",
       "    .dataframe thead tr:only-child th {\n",
       "        text-align: right;\n",
       "    }\n",
       "\n",
       "    .dataframe thead th {\n",
       "        text-align: left;\n",
       "    }\n",
       "\n",
       "    .dataframe tbody tr th {\n",
       "        vertical-align: top;\n",
       "    }\n",
       "</style>\n",
       "<table border=\"1\" class=\"dataframe\">\n",
       "  <thead>\n",
       "    <tr style=\"text-align: right;\">\n",
       "      <th></th>\n",
       "      <th>label</th>\n",
       "    </tr>\n",
       "    <tr>\n",
       "      <th>station</th>\n",
       "      <th></th>\n",
       "    </tr>\n",
       "  </thead>\n",
       "  <tbody>\n",
       "    <tr>\n",
       "      <th>1</th>\n",
       "      <td>3</td>\n",
       "    </tr>\n",
       "    <tr>\n",
       "      <th>2</th>\n",
       "      <td>0</td>\n",
       "    </tr>\n",
       "    <tr>\n",
       "      <th>3</th>\n",
       "      <td>2</td>\n",
       "    </tr>\n",
       "    <tr>\n",
       "      <th>4</th>\n",
       "      <td>1</td>\n",
       "    </tr>\n",
       "    <tr>\n",
       "      <th>5</th>\n",
       "      <td>3</td>\n",
       "    </tr>\n",
       "  </tbody>\n",
       "</table>\n",
       "</div>"
      ],
      "text/plain": [
       "         label\n",
       "station       \n",
       "1            3\n",
       "2            0\n",
       "3            2\n",
       "4            1\n",
       "5            3"
      ]
     },
     "execution_count": 87,
     "metadata": {},
     "output_type": "execute_result"
    }
   ],
   "source": [
    "dflabel.head()"
   ]
  },
  {
   "cell_type": "markdown",
   "metadata": {},
   "source": [
    "Get the label, i.e. the cluster id, for each station."
   ]
  },
  {
   "cell_type": "code",
   "execution_count": 88,
   "metadata": {
    "collapsed": true
   },
   "outputs": [],
   "source": [
    "locations = locations.merge(dflabel, right_index=True, left_on='ident')"
   ]
  },
  {
   "cell_type": "code",
   "execution_count": 89,
   "metadata": {},
   "outputs": [
    {
     "data": {
      "text/html": [
       "<div>\n",
       "<style>\n",
       "    .dataframe thead tr:only-child th {\n",
       "        text-align: right;\n",
       "    }\n",
       "\n",
       "    .dataframe thead th {\n",
       "        text-align: left;\n",
       "    }\n",
       "\n",
       "    .dataframe tbody tr th {\n",
       "        vertical-align: top;\n",
       "    }\n",
       "</style>\n",
       "<table border=\"1\" class=\"dataframe\">\n",
       "  <thead>\n",
       "    <tr style=\"text-align: right;\">\n",
       "      <th></th>\n",
       "      <th>ident</th>\n",
       "      <th>nom</th>\n",
       "      <th>lat</th>\n",
       "      <th>lon</th>\n",
       "      <th>label</th>\n",
       "    </tr>\n",
       "  </thead>\n",
       "  <tbody>\n",
       "    <tr>\n",
       "      <th>0</th>\n",
       "      <td>138</td>\n",
       "      <td>Lycée Brémontier</td>\n",
       "      <td>44.824055</td>\n",
       "      <td>-0.570243</td>\n",
       "      <td>2</td>\n",
       "    </tr>\n",
       "    <tr>\n",
       "      <th>1</th>\n",
       "      <td>135</td>\n",
       "      <td>Eglise Ste Croix</td>\n",
       "      <td>44.831312</td>\n",
       "      <td>-0.561393</td>\n",
       "      <td>2</td>\n",
       "    </tr>\n",
       "    <tr>\n",
       "      <th>2</th>\n",
       "      <td>79</td>\n",
       "      <td>Buttinière</td>\n",
       "      <td>44.864276</td>\n",
       "      <td>-0.524200</td>\n",
       "      <td>0</td>\n",
       "    </tr>\n",
       "    <tr>\n",
       "      <th>3</th>\n",
       "      <td>3</td>\n",
       "      <td>Porte de Bourgogne</td>\n",
       "      <td>44.837789</td>\n",
       "      <td>-0.567156</td>\n",
       "      <td>2</td>\n",
       "    </tr>\n",
       "    <tr>\n",
       "      <th>4</th>\n",
       "      <td>8</td>\n",
       "      <td>Doyen Brus</td>\n",
       "      <td>44.800385</td>\n",
       "      <td>-0.609857</td>\n",
       "      <td>0</td>\n",
       "    </tr>\n",
       "  </tbody>\n",
       "</table>\n",
       "</div>"
      ],
      "text/plain": [
       "  ident                 nom        lat       lon  label\n",
       "0   138    Lycée Brémontier  44.824055 -0.570243      2\n",
       "1   135    Eglise Ste Croix  44.831312 -0.561393      2\n",
       "2    79          Buttinière  44.864276 -0.524200      0\n",
       "3     3  Porte de Bourgogne  44.837789 -0.567156      2\n",
       "4     8          Doyen Brus  44.800385 -0.609857      0"
      ]
     },
     "execution_count": 89,
     "metadata": {},
     "output_type": "execute_result"
    }
   ],
   "source": [
    "locations.head()"
   ]
  },
  {
   "cell_type": "code",
   "execution_count": 90,
   "metadata": {
    "collapsed": true
   },
   "outputs": [],
   "source": [
    "locations[\"nom\"] = locations['nom'].str.replace(\"'\", \"&apos;\")"
   ]
  },
  {
   "cell_type": "code",
   "execution_count": 39,
   "metadata": {
    "collapsed": true
   },
   "outputs": [],
   "source": [
    "import folium"
   ]
  },
  {
   "cell_type": "code",
   "execution_count": 40,
   "metadata": {
    "collapsed": true
   },
   "outputs": [],
   "source": [
    "# Bordeaux (France) position.\n",
    "position = [44.836151, -0.580816]"
   ]
  },
  {
   "cell_type": "code",
   "execution_count": 101,
   "metadata": {
    "collapsed": true
   },
   "outputs": [],
   "source": [
    "mp = folium.Map(location=position, zoom_start=12, tiles='cartodbpositron')"
   ]
  },
  {
   "cell_type": "code",
   "execution_count": 96,
   "metadata": {
    "collapsed": true
   },
   "outputs": [],
   "source": [
    "hex_colors = colors.as_hex()"
   ]
  },
  {
   "cell_type": "code",
   "execution_count": 102,
   "metadata": {
    "collapsed": true
   },
   "outputs": [],
   "source": [
    "for _,row in locations.iterrows():\n",
    "    folium.CircleMarker(\n",
    "        location=[row['lat'], row['lon']],\n",
    "        radius=3,\n",
    "        popup=row['nom'],\n",
    "        color=hex_colors[row['label']],\n",
    "        fill=False,\n",
    "        fill_opacity=0.4,\n",
    "        fill_color=hex_colors[row['label']]\n",
    "    ).add_to(mp)"
   ]
  },
  {
   "cell_type": "code",
   "execution_count": 113,
   "metadata": {
    "collapsed": true
   },
   "outputs": [],
   "source": [
    "mp.save(\"bordeaux-map-n_clusters-{}.html\".format(n_clusters))"
   ]
  },
  {
   "cell_type": "code",
   "execution_count": 103,
   "metadata": {},
   "outputs": [
    {
     "data": {
      "text/html": [
       "<div style=\"width:100%;\"><div style=\"position:relative;width:100%;height:0;padding-bottom:60%;\"><iframe src=\"data:text/html;charset=utf-8;base64,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\" style=\"position:absolute;width:100%;height:100%;left:0;top:0;border:none !important;\" allowfullscreen webkitallowfullscreen mozallowfullscreen></iframe></div></div>"
      ],
      "text/plain": [
       "<folium.folium.Map at 0x7fdc21526f98>"
      ]
     },
     "execution_count": 103,
     "metadata": {},
     "output_type": "execute_result"
    }
   ],
   "source": [
    "mp"
   ]
  }
 ],
 "metadata": {
  "kernelspec": {
   "display_name": "Python [conda env:python3DS]",
   "language": "python",
   "name": "conda-env-python3DS-py"
  },
  "language_info": {
   "codemirror_mode": {
    "name": "ipython",
    "version": 3
   },
   "file_extension": ".py",
   "mimetype": "text/x-python",
   "name": "python",
   "nbconvert_exporter": "python",
   "pygments_lexer": "ipython3",
   "version": "3.5.3"
  }
 },
 "nbformat": 4,
 "nbformat_minor": 2
}
