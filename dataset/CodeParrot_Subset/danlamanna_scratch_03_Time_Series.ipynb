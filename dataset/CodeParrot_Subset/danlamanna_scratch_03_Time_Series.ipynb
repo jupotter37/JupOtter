{
 "cells": [
  {
   "cell_type": "code",
   "execution_count": null,
   "metadata": {
    "collapsed": true
   },
   "outputs": [],
   "source": [
    "%matplotlib inline\n",
    "from matplotlib import pylab as plt\n",
    "from ipywidgets import interact\n",
    "import ipywidgets as widgets\n",
    "import matplotlib as mpl\n",
    "import numpy as np\n",
    "from geonotebook.wrappers import RasterDataCollection\n",
    "import os"
   ]
  },
  {
   "cell_type": "markdown",
   "metadata": {},
   "source": [
    "## Download the Data\n",
    "\n",
    "The following cell is a bash one-liner for downloading monthly NBAR geotiffs from roughly Dec 2008 to Dec 2011. This data will download into a ```data/``` directory relative to the directory where this notebook is running. There are 36 files making up about **8Gb** of data. This may take some time to download so please be patient. You should recieve notification in the cell output for each downloaded file. \n",
    "\n",
    "For convenience here is an beautified version of the bash one-liner:\n",
    "\n",
    "```bash\n",
    "# Make the 'data' directory\n",
    "if [ ! -d data ]; then \n",
    "  mkdir data; \n",
    "fi; \n",
    "\n",
    "# Recursively download the data via AWS CLI\n",
    "if hash aws 2>/dev/null; then \n",
    "  aws s3 cp --recursive s3://golden-tile-geotiffs/ data; \n",
    "else \n",
    "  echo \"AWS CLI script 'aws' is required\"; \n",
    "fi\n",
    "```\n",
    "\n",
    "*Please note that the AWS command line script is required to download this data*"
   ]
  },
  {
   "cell_type": "code",
   "execution_count": null,
   "metadata": {
    "collapsed": false
   },
   "outputs": [],
   "source": [
    "!if [ ! -d data ]; then mkdir data; fi; if hash aws 2>/dev/null; then aws s3 cp --recursive s3://golden-tile-geotiffs/ data; else echo \"AWS CLI script 'aws' is required\"; fi"
   ]
  },
  {
   "cell_type": "code",
   "execution_count": null,
   "metadata": {
    "collapsed": true
   },
   "outputs": [],
   "source": [
    "DATA_DIR=\"data/\""
   ]
  },
  {
   "cell_type": "code",
   "execution_count": null,
   "metadata": {
    "collapsed": false
   },
   "outputs": [],
   "source": [
    "def sort_NBAR(path):\n",
    "  m, y = int(path.split(\".\")[2][-2:]), int(path.split(\".\")[3])\n",
    "  return (y * 100) + m\n",
    "\n",
    "\n",
    "PATHS = [DATA_DIR + p for p in sorted([\n",
    "    f for f in os.listdir(DATA_DIR) if f.startswith('L57')], key=sort_NBAR)]"
   ]
  },
  {
   "cell_type": "code",
   "execution_count": null,
   "metadata": {
    "collapsed": false
   },
   "outputs": [],
   "source": [
    "rdc = RasterDataCollection(PATHS)"
   ]
  },
  {
   "cell_type": "code",
   "execution_count": null,
   "metadata": {
    "collapsed": false
   },
   "outputs": [],
   "source": [
    "M.add_layer(rdc[:,[1,2,3]], 'NBAR', opacity=0.8, gamma=2.0)"
   ]
  },
  {
   "cell_type": "code",
   "execution_count": null,
   "metadata": {
    "collapsed": false
   },
   "outputs": [],
   "source": [
    "M.layers[\"NBAR\"].forward()"
   ]
  },
  {
   "cell_type": "code",
   "execution_count": null,
   "metadata": {
    "collapsed": false
   },
   "outputs": [],
   "source": [
    "M.layers[\"NBAR\"].backward()"
   ]
  },
  {
   "cell_type": "code",
   "execution_count": null,
   "metadata": {
    "collapsed": false
   },
   "outputs": [],
   "source": [
    "M.layers[\"NBAR\"].idx(0)"
   ]
  },
  {
   "cell_type": "code",
   "execution_count": null,
   "metadata": {
    "collapsed": false
   },
   "outputs": [],
   "source": [
    "len(M.layers[\"NBAR\"].data)"
   ]
  },
  {
   "cell_type": "code",
   "execution_count": null,
   "metadata": {
    "collapsed": false
   },
   "outputs": [],
   "source": [
    "def render_timeseries(idx=0):\n",
    "  M.layers[\"NBAR\"].idx(idx)\n",
    "  \n",
    "interact(render_timeseries, idx=(0, len(M.layers[\"NBAR\"].data) - 1))"
   ]
  },
  {
   "cell_type": "code",
   "execution_count": null,
   "metadata": {
    "collapsed": false
   },
   "outputs": [],
   "source": [
    "M.layers[\"NBAR\"].idx(1)"
   ]
  },
  {
   "cell_type": "code",
   "execution_count": null,
   "metadata": {
    "collapsed": false
   },
   "outputs": [],
   "source": [
    "M.remove_layer(\"NBAR\")"
   ]
  },
  {
   "cell_type": "code",
   "execution_count": null,
   "metadata": {
    "collapsed": false
   },
   "outputs": [],
   "source": [
    "M.add_layer(rdc[:,[4]], 'NBAR_NDVI', opacity=0.8)"
   ]
  },
  {
   "cell_type": "code",
   "execution_count": null,
   "metadata": {
    "collapsed": false
   },
   "outputs": [],
   "source": [
    "M.remove_layer(\"NBAR_NDVI\")"
   ]
  },
  {
   "cell_type": "code",
   "execution_count": null,
   "metadata": {
    "collapsed": false
   },
   "outputs": [],
   "source": [
    "def ndvi_colormap(numcolors=11, name='custom_div_cmap', \n",
    "                  mincol='blue', midcol='beige', maxcol='green'):\n",
    "  return mpl.colors.LinearSegmentedColormap.from_list(\n",
    "    name=name, colors=[mincol, midcol, maxcol], N=numcolors)\n",
    "\n",
    "cmap = ndvi_colormap()\n"
   ]
  },
  {
   "cell_type": "code",
   "execution_count": null,
   "metadata": {
    "collapsed": false
   },
   "outputs": [],
   "source": [
    "M.add_layer(rdc[:,4], 'NBAR_NDVI', colormap=cmap, opacity=0.8)"
   ]
  },
  {
   "cell_type": "code",
   "execution_count": null,
   "metadata": {
    "collapsed": false
   },
   "outputs": [],
   "source": [
    "M.layers['NBAR_NDVI'].forward()"
   ]
  },
  {
   "cell_type": "code",
   "execution_count": null,
   "metadata": {
    "collapsed": false
   },
   "outputs": [],
   "source": [
    "M.layers"
   ]
  }
 ],
 "metadata": {
  "kernelspec": {
   "display_name": "Geonotebook (Python 2)",
   "language": "python",
   "name": "geonotebook2"
  },
  "language_info": {
   "codemirror_mode": {
    "name": "ipython",
    "version": 2
   },
   "file_extension": ".py",
   "mimetype": "text/x-python",
   "name": "python",
   "nbconvert_exporter": "python",
   "pygments_lexer": "ipython2",
   "version": "2.7.12"
  },
  "widgets": {
   "state": {
    "e344c95821fe48049234b50ac37d3507": {
     "views": [
      {
       "cell_index": 11
      }
     ]
    }
   },
   "version": "1.2.0"
  }
 },
 "nbformat": 4,
 "nbformat_minor": 1
}
