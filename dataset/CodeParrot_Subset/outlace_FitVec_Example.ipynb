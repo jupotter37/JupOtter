{
 "cells": [
  {
   "cell_type": "code",
   "execution_count": 1,
   "metadata": {
    "collapsed": false
   },
   "outputs": [],
   "source": [
    "import numpy as np\n",
    "import math\n",
    "import FitVec as fv"
   ]
  },
  {
   "cell_type": "code",
   "execution_count": 2,
   "metadata": {
    "collapsed": false
   },
   "outputs": [
    {
     "name": "stdout",
     "output_type": "stream",
     "text": [
      "Random theta: \n",
      "[[ 0.95]\n",
      " [ 0.69]\n",
      " [ 0.95]\n",
      " [ 0.87]]\n",
      "\n",
      "Cost: 2.18251894031\n",
      "\n",
      "Optimal theta: \n",
      "[[ 0.]\n",
      " [ 1.]\n",
      " [ 1.]\n",
      " [ 0.]]\n",
      "\n",
      "Cost: 0.00075230763025\n",
      "\n"
     ]
    }
   ],
   "source": [
    "X = np.array([[0,0,1],[0,1,1],[1,0,1],[1,1,1]])\n",
    "y = np.array([[0, 1, 1, 0]]).T\n",
    "init_theta = 10*(np.random.random((13,1)) - 0.5) \n",
    "\n",
    "def runForward(X, theta):\n",
    "\ttheta1 = np.array(theta[:9]).reshape(3,3)\n",
    "\ttheta2 = np.array(theta[9:]).reshape(4,1)\n",
    "\th1 = sigmoid(np.dot(X, theta1)) \n",
    "\th1_bias = np.insert(h1, 3, [1,1,1,1], axis=1)\n",
    "\toutput = sigmoid(np.dot(h1_bias, theta2)) \n",
    "\treturn output\n",
    "\t#4x3 * 3x1 = 4x1\n",
    "def costFunction(X, y, theta):\n",
    "\tm = float(len(X))\n",
    "\thThetaX = np.array(runForward(X, theta))\n",
    "\treturn np.sum(np.abs(y - hThetaX))\n",
    "def sigmoid(x): return 1 / (1 + np.exp(- x))\n",
    "\n",
    "def demoRun():\n",
    "\tprint(\"Random theta: \\n%s\\n\" % (np.round(runForward(X, init_theta), 2)))\n",
    "\tprint(\"Cost: %s\\n\" % (costFunction(X,y, init_theta)))\n",
    "\toptimal_theta = fv.evolveParams(costFunction, 13, (100,0.01,50), X, y)\n",
    "\tprint(\"Optimal theta: \\n%s\\n\" % (np.round(runForward(X, optimal_theta.reshape(13,1)), 2)))\n",
    "\tprint(\"Cost: %s\\n\" % (costFunction(X, y, optimal_theta.reshape(13,1))))\n",
    "demoRun()"
   ]
  },
  {
   "cell_type": "code",
   "execution_count": null,
   "metadata": {
    "collapsed": true
   },
   "outputs": [],
   "source": []
  }
 ],
 "metadata": {
  "kernelspec": {
   "display_name": "Python 3",
   "language": "python",
   "name": "python3"
  },
  "language_info": {
   "codemirror_mode": {
    "name": "ipython",
    "version": 3
   },
   "file_extension": ".py",
   "mimetype": "text/x-python",
   "name": "python",
   "nbconvert_exporter": "python",
   "pygments_lexer": "ipython3",
   "version": "3.5.0"
  }
 },
 "nbformat": 4,
 "nbformat_minor": 0
}
