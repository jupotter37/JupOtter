{
 "cells": [
  {
   "cell_type": "markdown",
   "metadata": {},
   "source": [
    "## Testing the pyEMMA API"
   ]
  },
  {
   "cell_type": "code",
   "execution_count": 1,
   "metadata": {
    "collapsed": false
   },
   "outputs": [
    {
     "data": {
      "text/plain": [
       "'2.1'"
      ]
     },
     "execution_count": 1,
     "metadata": {},
     "output_type": "execute_result"
    }
   ],
   "source": [
    "import pyemma\n",
    "pyemma.__version__"
   ]
  },
  {
   "cell_type": "markdown",
   "metadata": {},
   "source": [
    "Now we import a few general packages that we need to start with. The following imports basic numerics and algebra routines (numpy) and plotting routines (matplotlib), and makes sure that all plots are shown inside the notebook rather than in a separate window (nicer that way)."
   ]
  },
  {
   "cell_type": "code",
   "execution_count": 2,
   "metadata": {
    "collapsed": false
   },
   "outputs": [
    {
     "name": "stdout",
     "output_type": "stream",
     "text": [
      "Populating the interactive namespace from numpy and matplotlib\n"
     ]
    },
    {
     "name": "stderr",
     "output_type": "stream",
     "text": [
      "WARNING: pylab import has clobbered these variables: ['plt']\n",
      "`%matplotlib` prevents importing * from pylab and numpy\n"
     ]
    }
   ],
   "source": [
    "import matplotlib.pylab as plt\n",
    "import numpy as np\n",
    "%pylab inline"
   ]
  },
  {
   "cell_type": "markdown",
   "metadata": {},
   "source": [
    "Now we import the pyEMMA package that we will be using in the beginning: the coordinates package. This package contains functions and classes for reading and writing trajectory files, extracting order parameters from them (such as distances or angles), as well as various methods for dimensionality reduction and clustering.\n",
    "\n",
    "The shortcuts module is a bunch of functions specific to this workshop - they help us to visualize some of our results. Some of them might become part of the pyemma package once they are more mature."
   ]
  },
  {
   "cell_type": "code",
   "execution_count": 3,
   "metadata": {
    "collapsed": true
   },
   "outputs": [],
   "source": [
    "import pyemma.coordinates as coor\n",
    "import pyemma.msm as msm\n",
    "import pyemma.plots as mplt\n",
    "from pyemma import config"
   ]
  },
  {
   "cell_type": "code",
   "execution_count": 4,
   "metadata": {
    "collapsed": true
   },
   "outputs": [],
   "source": [
    "# some helper funcs\n",
    "def average_by_state(dtraj, x, nstates):\n",
    "    assert(len(dtraj) == len(x))\n",
    "    N = len(dtraj)\n",
    "    res = np.zeros((nstates))\n",
    "    for i in range(nstates):\n",
    "        I = np.argwhere(dtraj == i)[:,0]\n",
    "        res[i] = np.mean(x[I])\n",
    "    return res\n",
    "\n",
    "def avg_by_set(x, sets):\n",
    "    # compute mean positions of sets. This is important because of some technical points the set order\n",
    "    # in the coarse-grained TPT object can be different from the input order.\n",
    "    avg = np.zeros(len(sets))\n",
    "    for i in range(len(sets)):\n",
    "        I = list(sets[i])\n",
    "        avg[i] = np.mean(x[I])\n",
    "    return avg\n",
    "\n",
    "shortcuts = {'average_by_state': average_by_state, 'avg_by_set': avg_by_set}"
   ]
  },
  {
   "cell_type": "code",
   "execution_count": 5,
   "metadata": {
    "collapsed": false
   },
   "outputs": [
    {
     "name": "stdout",
     "output_type": "stream",
     "text": [
      "./bertha1-WT-ff14SB/05_Prod_0000-0050ns_WT-ff14SB_25Awatsalt_hmr.nc_stripped-autoimaged.nc\n",
      "\n",
      "./bertha1-WT-ff14SB/05_Prod_0050-0100ns_WT-ff14SB_25Awatsalt_hmr.nc_stripped-autoimaged.nc\n",
      "\n",
      "./bertha1-WT-ff14SB/05_Prod_0100-0150ns_WT-ff14SB_25Awatsalt_hmr.nc_stripped-autoimaged.nc\n",
      "\n",
      "./bertha1-WT-ff14SB/05_Prod_0150-0200ns_WT-ff14SB_25Awatsalt_hmr.nc_stripped-autoimaged.nc\n",
      "\n",
      "./bertha1-WT-ff14SB/05_Prod_0200-0250ns_WT-ff14SB_25Awatsalt_hmr.nc_stripped-autoimaged.nc\n",
      "\n",
      "./bertha1-WT-ff14SB/05_Prod_0250-0300ns_WT-ff14SB_25Awatsalt_hmr.nc_stripped-autoimaged.nc\n",
      "\n",
      "./bertha1-WT-ff14SB/05_Prod_0300-0350ns_WT-ff14SB_25Awatsalt_hmr.nc_stripped-autoimaged.nc\n",
      "\n",
      "./bertha1-WT-ff14SB/05_Prod_0350-0400ns_WT-ff14SB_25Awatsalt_hmr.nc_stripped-autoimaged.nc\n",
      "\n",
      "./bertha1-WT-ff14SB/05_Prod_0400-0450ns_WT-ff14SB_25Awatsalt_hmr.nc_stripped-autoimaged.nc\n",
      "\n",
      "./bertha1-WT-ff14SB/05_Prod_0450-0500ns_WT-ff14SB_25Awatsalt_hmr.nc_stripped-autoimaged.nc\n",
      "\n",
      "./bertha1-WT-ff14SB/05_Prod_0500-0550ns_WT-ff14SB_25Awatsalt_hmr.nc_stripped-autoimaged.nc\n",
      "\n",
      "./bertha1-WT-ff14SB/05_Prod_0550-0600ns_WT-ff14SB_25Awatsalt_hmr.nc_stripped-autoimaged.nc\n",
      "\n",
      "./bertha1-WT-ff14SB/05_Prod_0600-0650ns_WT-ff14SB_25Awatsalt_hmr.nc_stripped-autoimaged.nc\n",
      "\n",
      "./bertha1-WT-ff14SB/05_Prod_0650-0700ns_WT-ff14SB_25Awatsalt_hmr.nc_stripped-autoimaged.nc\n",
      "\n",
      "./bertha1-WT-ff14SB/05_Prod_0700-0750ns_WT-ff14SB_25Awatsalt_hmr.nc_stripped-autoimaged.nc\n",
      "\n",
      "./bertha1-WT-ff14SB/05_Prod_0750-0800ns_WT-ff14SB_25Awatsalt_hmr.nc_stripped-autoimaged.nc\n",
      "\n",
      "./bertha1-WT-ff14SB/05_Prod_0800-0850ns_WT-ff14SB_25Awatsalt_hmr.nc_stripped-autoimaged.nc\n",
      "\n",
      "./bertha1-WT-ff14SB/05_Prod_0850-0900ns_WT-ff14SB_25Awatsalt_hmr.nc_stripped-autoimaged.nc\n",
      "\n",
      "./bertha1-WT-ff14SB/05_Prod_0900-0950ns_WT-ff14SB_25Awatsalt_hmr.nc_stripped-autoimaged.nc\n",
      "\n",
      "./bertha1-WT-ff14SB/05_Prod_0950-1000ns_WT-ff14SB_25Awatsalt_hmr.nc_stripped-autoimaged.nc\n",
      "\n",
      "./bertha1-WT-ff14SB/05_Prod_1000-1050ns_WT-ff14SB_25Awatsalt_hmr.nc_stripped-autoimaged.nc\n",
      "\n",
      "./bertha1-WT-ff14SB/05_Prod_1050-1100ns_WT-ff14SB_25Awatsalt_hmr.nc_stripped-autoimaged.nc\n",
      "\n",
      "./bertha1-WT-ff14SB/05_Prod_1100-1150ns_WT-ff14SB_25Awatsalt_hmr.nc_stripped-autoimaged.nc\n",
      "\n",
      "./bertha1-WT-ff14SB/05_Prod_1150-1200ns_WT-ff14SB_25Awatsalt_hmr.nc_stripped-autoimaged.nc\n",
      "\n",
      "./bertha1-WT-ff14SB/05_Prod_1200-1250ns_WT-ff14SB_25Awatsalt_hmr.nc_stripped-autoimaged.nc\n",
      "\n",
      "./bertha1-WT-ff14SB/05_Prod_1250-1300ns_WT-ff14SB_25Awatsalt_hmr.nc_stripped-autoimaged.nc\n",
      "\n",
      "./bertha1-WT-ff14SB/05_Prod_1300-1350ns_WT-ff14SB_25Awatsalt_hmr.nc_stripped-autoimaged.nc\n",
      "\n",
      "./bertha1-WT-ff14SB/05_Prod_1350-1400ns_WT-ff14SB_25Awatsalt_hmr.nc_stripped-autoimaged.nc\n",
      "\n",
      "./bertha1-WT-ff14SB/05_Prod_1400-1450ns_WT-ff14SB_25Awatsalt_hmr.nc_stripped-autoimaged.nc\n",
      "\n",
      "./bertha1-WT-ff14SB/05_Prod_1450-1500ns_WT-ff14SB_25Awatsalt_hmr.nc_stripped-autoimaged.nc\n",
      "\n",
      "./guanine1-WT-ff14SB/05_0000-0050ns_WT-ff14SB_25Awatsalt_hmr_nowat.nc\n",
      "\n",
      "./guanine1-WT-ff14SB/05_0050-0100ns_WT-ff14SB_25Awatsalt_hmr_nowat.nc\n",
      "\n",
      "./guanine1-WT-ff14SB/05_0100-0150ns_WT-ff14SB_25Awatsalt_hmr_nowat.nc\n",
      "\n",
      "./guanine1-WT-ff14SB/05_0150-0200ns_WT-ff14SB_25Awatsalt_hmr_nowat.nc\n",
      "\n",
      "./guanine1-WT-ff14SB/05_0200-0250ns_WT-ff14SB_25Awatsalt_hmr_nowat.nc\n",
      "\n",
      "./guanine1-WT-ff14SB/05_0250-0300ns_WT-ff14SB_25Awatsalt_hmr_nowat.nc\n",
      "\n",
      "./guanine1-WT-ff14SB/05_0300-0350ns_WT-ff14SB_25Awatsalt_hmr_nowat.nc\n",
      "\n",
      "./guanine1-WT-ff14SB/05_0350-0400ns_WT-ff14SB_25Awatsalt_hmr_nowat.nc\n",
      "\n",
      "./guanine1-WT-ff14SB/05_0400-0450ns_WT-ff14SB_25Awatsalt_hmr_nowat.nc\n",
      "\n",
      "./guanine1-WT-ff14SB/05_0450-0500ns_WT-ff14SB_25Awatsalt_hmr_nowat.nc\n",
      "\n",
      "./guanine1-WT-ff14SB/05_0500-0550ns_WT-ff14SB_25Awatsalt_hmr_nowat.nc\n",
      "\n",
      "./guanine1-WT-ff14SB/05_0550-0600ns_WT-ff14SB_25Awatsalt_hmr_nowat.nc\n",
      "\n",
      "./guanine1-WT-ff14SB/05_0600-0650ns_WT-ff14SB_25Awatsalt_hmr_nowat.nc\n",
      "\n",
      "./guanine1-WT-ff14SB/05_0650-0700ns_WT-ff14SB_25Awatsalt_hmr_nowat.nc\n",
      "\n",
      "./guanine1-WT-ff14SB/05_0700-0750ns_WT-ff14SB_25Awatsalt_hmr_nowat.nc\n",
      "\n",
      "./guanine1-WT-ff14SB/05_0750-0800ns_WT-ff14SB_25Awatsalt_hmr_nowat.nc\n",
      "\n",
      "./guanine1-WT-ff14SB/05_0800-0850ns_WT-ff14SB_25Awatsalt_hmr_nowat.nc\n",
      "\n",
      "./guanine1-WT-ff14SB/05_0850-0900ns_WT-ff14SB_25Awatsalt_hmr_nowat.nc\n",
      "\n",
      "./guanine1-WT-ff14SB/05_0900-0950ns_WT-ff14SB_25Awatsalt_hmr_nowat.nc\n",
      "\n",
      "./guanine1-WT-ff14SB/05_0950-1000ns_WT-ff14SB_25Awatsalt_hmr_nowat.nc\n",
      "\n",
      "./guanine1-WT-ff14SB/05_1000-1050ns_WT-ff14SB_25Awatsalt_hmr_nowat.nc\n",
      "\n",
      "./guanine1-WT-ff14SB/05_1050-1100ns_WT-ff14SB_25Awatsalt_hmr_nowat.nc\n",
      "\n",
      "./guanine1-WT-ff14SB/05_1100-1150ns_WT-ff14SB_25Awatsalt_hmr_nowat.nc\n",
      "\n",
      "./guanine1-WT-ff14SB/05_1150-1200ns_WT-ff14SB_25Awatsalt_hmr_nowat.nc\n",
      "\n",
      "./guanine1-WT-ff14SB/05_1200-1250ns_WT-ff14SB_25Awatsalt_hmr_nowat.nc\n",
      "\n",
      "./guanine1-WT-ff14SB/05_1250-1300ns_WT-ff14SB_25Awatsalt_hmr_nowat.nc\n",
      "\n",
      "./guanine1-WT-ff14SB/05_1300-1350ns_WT-ff14SB_25Awatsalt_hmr_nowat.nc\n",
      "\n",
      "./guanine1-WT-ff14SB/05_1350-1400ns_WT-ff14SB_25Awatsalt_hmr_nowat.nc\n",
      "\n",
      "./guanine1-WT-ff14SB/05_1400-1450ns_WT-ff14SB_25Awatsalt_hmr_nowat.nc\n",
      "\n",
      "./guanine1-WT-ff14SB/05_1450-1500ns_WT-ff14SB_25Awatsalt_hmr_nowat.nc\n",
      "\n",
      "./parnassus1-WT-ff14SB/05_0000-0050ns_WT-ff14SB_25Awatsalt_hmr_nowat.nc\n",
      "\n",
      "./parnassus1-WT-ff14SB/05_0050-0100ns_WT-ff14SB_25Awatsalt_hmr_nowat.nc\n",
      "\n",
      "./parnassus1-WT-ff14SB/05_0100-0150ns_WT-ff14SB_25Awatsalt_hmr_nowat.nc\n",
      "\n",
      "./parnassus1-WT-ff14SB/05_0150-0200ns_WT-ff14SB_25Awatsalt_hmr_nowat.nc\n",
      "\n",
      "./parnassus1-WT-ff14SB/05_0200-0250ns_WT-ff14SB_25Awatsalt_hmr_nowat.nc\n",
      "\n",
      "./parnassus1-WT-ff14SB/05_0250-0300ns_WT-ff14SB_25Awatsalt_hmr_nowat.nc\n",
      "\n",
      "./parnassus1-WT-ff14SB/05_0300-0350ns_WT-ff14SB_25Awatsalt_hmr_nowat.nc\n",
      "\n",
      "./parnassus1-WT-ff14SB/05_0350-0400ns_WT-ff14SB_25Awatsalt_hmr_nowat.nc\n",
      "\n",
      "./parnassus1-WT-ff14SB/05_0400-0450ns_WT-ff14SB_25Awatsalt_hmr_nowat.nc\n",
      "\n",
      "./parnassus1-WT-ff14SB/05_0450-0500ns_WT-ff14SB_25Awatsalt_hmr_nowat.nc\n",
      "\n",
      "./parnassus1-WT-ff14SB/05_0500-0550ns_WT-ff14SB_25Awatsalt_hmr_nowat.nc\n",
      "\n",
      "./parnassus1-WT-ff14SB/05_0550-0600ns_WT-ff14SB_25Awatsalt_hmr_nowat.nc\n",
      "\n",
      "./parnassus1-WT-ff14SB/05_0600-0650ns_WT-ff14SB_25Awatsalt_hmr_nowat.nc\n",
      "\n",
      "./parnassus1-WT-ff14SB/05_0650-0700ns_WT-ff14SB_25Awatsalt_hmr_nowat.nc\n",
      "\n",
      "./parnassus1-WT-ff14SB/05_0700-0750ns_WT-ff14SB_25Awatsalt_hmr_nowat.nc\n",
      "\n",
      "./parnassus1-WT-ff14SB/05_0750-0800ns_WT-ff14SB_25Awatsalt_hmr_nowat.nc\n",
      "\n",
      "./parnassus1-WT-ff14SB/05_0800-0850ns_WT-ff14SB_25Awatsalt_hmr_nowat.nc\n",
      "\n",
      "./parnassus1-WT-ff14SB/05_0850-0900ns_WT-ff14SB_25Awatsalt_hmr_nowat.nc\n",
      "\n",
      "./parnassus1-WT-ff14SB/05_0900-0950ns_WT-ff14SB_25Awatsalt_hmr_nowat.nc\n",
      "\n",
      "./parnassus1-WT-ff14SB/05_0950-1000ns_WT-ff14SB_25Awatsalt_hmr_nowat.nc\n",
      "\n",
      "./parnassus1-WT-ff14SB/05_1000-1050ns_WT-ff14SB_25Awatsalt_hmr_nowat.nc\n",
      "\n",
      "./parnassus1-WT-ff14SB/05_1050-1100ns_WT-ff14SB_25Awatsalt_hmr_nowat.nc\n",
      "\n",
      "./parnassus1-WT-ff14SB/05_1100-1150ns_WT-ff14SB_25Awatsalt_hmr_nowat.nc\n",
      "\n",
      "./parnassus1-WT-ff14SB/05_1150-1200ns_WT-ff14SB_25Awatsalt_hmr_nowat.nc\n",
      "\n",
      "./parnassus1-WT-ff14SB/05_1200-1250ns_WT-ff14SB_25Awatsalt_hmr_nowat.nc\n",
      "\n",
      "./parnassus1-WT-ff14SB/05_1250-1300ns_WT-ff14SB_25Awatsalt_hmr_nowat.nc\n",
      "\n",
      "./parnassus1-WT-ff14SB/05_1300-1350ns_WT-ff14SB_25Awatsalt_hmr_nowat.nc\n",
      "\n",
      "./parnassus1-WT-ff14SB/05_1350-1400ns_WT-ff14SB_25Awatsalt_hmr_nowat.nc\n",
      "\n",
      "./parnassus1-WT-ff14SB/05_1400-1450ns_WT-ff14SB_25Awatsalt_hmr_nowat.nc\n",
      "\n",
      "./parnassus1-WT-ff14SB/05_1450-1500ns_WT-ff14SB_25Awatsalt_hmr_nowat.nc\n",
      "\n",
      "./parnassus2-WT-ff14SB/05_0000-0050ns_WT-ff14SB_25Awatsalt_hmr_nowat.nc\n",
      "\n",
      "./parnassus2-WT-ff14SB/05_0050-0100ns_WT-ff14SB_25Awatsalt_hmr_nowat.nc\n",
      "\n",
      "./parnassus2-WT-ff14SB/05_0100-0150ns_WT-ff14SB_25Awatsalt_hmr_nowat.nc\n",
      "\n",
      "./parnassus2-WT-ff14SB/05_0150-0200ns_WT-ff14SB_25Awatsalt_hmr_nowat.nc\n",
      "\n",
      "./parnassus2-WT-ff14SB/05_0200-0250ns_WT-ff14SB_25Awatsalt_hmr_nowat.nc\n",
      "\n",
      "./parnassus2-WT-ff14SB/05_0250-0300ns_WT-ff14SB_25Awatsalt_hmr_nowat.nc\n",
      "\n",
      "./parnassus2-WT-ff14SB/05_0300-0350ns_WT-ff14SB_25Awatsalt_hmr_nowat.nc\n",
      "\n",
      "./parnassus2-WT-ff14SB/05_0350-0400ns_WT-ff14SB_25Awatsalt_hmr_nowat.nc\n",
      "\n",
      "./parnassus2-WT-ff14SB/05_0400-0450ns_WT-ff14SB_25Awatsalt_hmr_nowat.nc\n",
      "\n",
      "./parnassus2-WT-ff14SB/05_0450-0500ns_WT-ff14SB_25Awatsalt_hmr_nowat.nc\n",
      "\n",
      "./parnassus2-WT-ff14SB/05_0500-0550ns_WT-ff14SB_25Awatsalt_hmr_nowat.nc\n",
      "\n",
      "./parnassus2-WT-ff14SB/05_0550-0600ns_WT-ff14SB_25Awatsalt_hmr_nowat.nc\n",
      "\n",
      "./parnassus2-WT-ff14SB/05_0600-0650ns_WT-ff14SB_25Awatsalt_hmr_nowat.nc\n",
      "\n",
      "./parnassus2-WT-ff14SB/05_0650-0700ns_WT-ff14SB_25Awatsalt_hmr_nowat.nc\n",
      "\n",
      "./parnassus2-WT-ff14SB/05_0700-0750ns_WT-ff14SB_25Awatsalt_hmr_nowat.nc\n",
      "\n",
      "./parnassus2-WT-ff14SB/05_0750-0800ns_WT-ff14SB_25Awatsalt_hmr_nowat.nc\n",
      "\n",
      "./parnassus2-WT-ff14SB/05_0800-0850ns_WT-ff14SB_25Awatsalt_hmr_nowat.nc\n",
      "\n",
      "./parnassus2-WT-ff14SB/05_0850-0900ns_WT-ff14SB_25Awatsalt_hmr_nowat.nc\n",
      "\n",
      "./parnassus2-WT-ff14SB/05_0900-0950ns_WT-ff14SB_25Awatsalt_hmr_nowat.nc\n",
      "\n",
      "./parnassus2-WT-ff14SB/05_0950-1000ns_WT-ff14SB_25Awatsalt_hmr_nowat.nc\n",
      "\n",
      "./parnassus2-WT-ff14SB/05_1000-1050ns_WT-ff14SB_25Awatsalt_hmr_nowat.nc\n",
      "\n",
      "./parnassus2-WT-ff14SB/05_1050-1100ns_WT-ff14SB_25Awatsalt_hmr_nowat.nc\n",
      "\n",
      "./parnassus2-WT-ff14SB/05_1100-1150ns_WT-ff14SB_25Awatsalt_hmr_nowat.nc\n",
      "\n",
      "./parnassus2-WT-ff14SB/05_1150-1200ns_WT-ff14SB_25Awatsalt_hmr_nowat.nc\n",
      "\n",
      "./parnassus2-WT-ff14SB/05_1200-1250ns_WT-ff14SB_25Awatsalt_hmr_nowat.nc\n",
      "\n",
      "./parnassus2-WT-ff14SB/05_1250-1300ns_WT-ff14SB_25Awatsalt_hmr_nowat.nc\n",
      "\n",
      "./parnassus2-WT-ff14SB/05_1300-1350ns_WT-ff14SB_25Awatsalt_hmr_nowat.nc\n",
      "\n",
      "./parnassus2-WT-ff14SB/05_1350-1400ns_WT-ff14SB_25Awatsalt_hmr_nowat.nc\n",
      "\n",
      "./parnassus2-WT-ff14SB/05_1400-1450ns_WT-ff14SB_25Awatsalt_hmr_nowat.nc\n",
      "\n",
      "./parnassus2-WT-ff14SB/05_1450-1500ns_WT-ff14SB_25Awatsalt_hmr_nowat.nc\n",
      "\n",
      "./run1/05_Prod_WTff14SB_000-050ns_run1.nc\n",
      "\n",
      "./run1/05_Prod_WTff14SB_050-100ns_run1.nc\n",
      "\n",
      "./run1/05_Prod_WTff14SB_100-250ns_run1.nc\n",
      "\n",
      "./run10/05_Prod_WTff14SB_0000-0135ns_run10.nc\n",
      "\n",
      "./run10/05_Prod_WTff14SB_0135-0270ns_run10.nc\n",
      "\n",
      "./run10/05_Prod_WTff14SB_0270-0405ns_run10.nc\n",
      "\n",
      "./run10/05_Prod_WTff14SB_0405-0540ns_run10.nc\n",
      "\n",
      "./run10/05_Prod_WTff14SB_0540-0675ns_run10.nc\n",
      "\n",
      "./run10/05_Prod_WTff14SB_0675-0810ns_run10.nc\n",
      "\n",
      "./run10/05_Prod_WTff14SB_0810-0945ns_run10.nc\n",
      "\n",
      "./run10/05_Prod_WTff14SB_0945-1080ns_run10.nc\n",
      "\n",
      "./run10/05_Prod_WTff14SB_1080-1215ns_run10.nc\n",
      "\n",
      "./run10/05_Prod_WTff14SB_1215-1350ns_run10.nc\n",
      "\n",
      "./run11/05_Prod_WTff14SB_0000-0135ns_run11.nc\n",
      "\n",
      "./run11/05_Prod_WTff14SB_0135-0270ns_run11.nc\n",
      "\n",
      "./run11/05_Prod_WTff14SB_0270-0405ns_run11.nc\n",
      "\n",
      "./run11/05_Prod_WTff14SB_0405-0540ns_run11.nc\n",
      "\n",
      "./run11/05_Prod_WTff14SB_0540-0675ns_run11.nc\n",
      "\n",
      "./run11/05_Prod_WTff14SB_0675-0810ns_run11.nc\n",
      "\n",
      "./run11/05_Prod_WTff14SB_0810-0945ns_run11.nc\n",
      "\n",
      "./run11/05_Prod_WTff14SB_0945-1080ns_run11.nc\n",
      "\n",
      "./run11/05_Prod_WTff14SB_1080-1215ns_run11.nc\n",
      "\n",
      "./run11/05_Prod_WTff14SB_1215-1350ns_run11.nc\n",
      "\n",
      "./run2/05_Prod_WTff14SB_000-050ns_run2.nc\n",
      "\n",
      "./run2/05_Prod_WTff14SB_050-100ns_run2.nc\n",
      "\n",
      "./run2/05_Prod_WTff14SB_100-250ns_run2.nc\n",
      "\n",
      "./run2/05_Prod_WTff14SB_250-400ns_run2.nc\n",
      "\n",
      "./run2/05_Prod_WTff14SB_400-550ns_run2.nc\n",
      "\n",
      "./run2/05_Prod_WTff14SB_550-700ns_run2.nc\n",
      "\n",
      "./run2/05_Prod_WTff14SB_700-750ns_run2.nc\n",
      "\n",
      "./run2/05_Prod_WTff14SB_750-885ns_run2.nc\n",
      "\n",
      "./run3/05_Prod_WTff14SB_000-050ns_run3.nc\n",
      "\n",
      "./run3/05_Prod_WTff14SB_050-100ns_run3.nc\n",
      "\n",
      "./run3/05_Prod_WTff14SB_100-250ns_run3.nc\n",
      "\n",
      "./run3/05_Prod_WTff14SB_250-400ns_run3.nc\n",
      "\n",
      "./run4/05_Prod_WTff14SB_000-050ns_run4.nc\n",
      "\n",
      "./run4/05_Prod_WTff14SB_050-100ns_run4.nc\n",
      "\n",
      "./run4/05_Prod_WTff14SB_100-250ns_run4.nc\n",
      "\n",
      "./run4/05_Prod_WTff14SB_250-400ns_run4.nc\n",
      "\n",
      "./run5/05_Prod_WTff14SB_000-100ns_run5.nc\n",
      "\n",
      "./run5/05_Prod_WTff14SB_100-200ns_run5.nc\n",
      "\n",
      "./run6/05_Prod_WTff14SB_000-100ns_run6.nc\n",
      "\n",
      "./run6/05_Prod_WTff14SB_100-200ns_run6.nc\n",
      "\n",
      "./run7/05_Prod_WTff14SB_000-100ns_run7.nc\n",
      "\n",
      "./run7/05_Prod_WTff14SB_100-200ns_run7.nc\n",
      "\n",
      "./run8/05_Prod_WTff14SB_0000-0135ns_run8.nc\n",
      "\n",
      "./run8/05_Prod_WTff14SB_0135-0270ns_run8.nc\n",
      "\n",
      "./run8/05_Prod_WTff14SB_0270-0405ns_run8.nc\n",
      "\n",
      "./run8/05_Prod_WTff14SB_0405-0540ns_run8.nc\n",
      "\n",
      "./run8/05_Prod_WTff14SB_0540-0675ns_run8.nc\n",
      "\n",
      "./run8/05_Prod_WTff14SB_0675-0810ns_run8.nc\n",
      "\n",
      "./run8/05_Prod_WTff14SB_0810-0945ns_run8.nc\n",
      "\n",
      "./run8/05_Prod_WTff14SB_0945-1080ns_run8.nc\n",
      "\n",
      "./run8/05_Prod_WTff14SB_1080-1215ns_run8.nc\n",
      "\n",
      "./run8/05_Prod_WTff14SB_1215-1350ns_run8.nc\n",
      "\n",
      "./run9/05_Prod_WTff14SB_0000-0135ns_run9.nc\n",
      "\n",
      "./run9/05_Prod_WTff14SB_0135-0270ns_run9.nc\n",
      "\n",
      "./run9/05_Prod_WTff14SB_0270-0405ns_run9.nc\n",
      "\n",
      "./run9/05_Prod_WTff14SB_0405-0540ns_run9.nc\n",
      "\n",
      "./run9/05_Prod_WTff14SB_0540-0675ns_run9.nc\n",
      "\n",
      "./run9/05_Prod_WTff14SB_0675-0810ns_run9.nc\n",
      "\n",
      "./run9/05_Prod_WTff14SB_0810-0945ns_run9.nc\n",
      "\n",
      "./run9/05_Prod_WTff14SB_0945-1080ns_run9.nc\n",
      "\n",
      "./run9/05_Prod_WTff14SB_1080-1215ns_run9.nc\n",
      "\n",
      "./sod1-WT-ff14SB/05_0000-0050ns_WT-ff14SB_25Awatsalt_hmr_nowat.nc\n",
      "\n",
      "./sod1-WT-ff14SB/05_0050-0100ns_WT-ff14SB_25Awatsalt_hmr_nowat.nc\n",
      "\n",
      "./sod1-WT-ff14SB/05_0100-0150ns_WT-ff14SB_25Awatsalt_hmr_nowat.nc\n",
      "\n",
      "./sod1-WT-ff14SB/05_0150-0200ns_WT-ff14SB_25Awatsalt_hmr_nowat.nc\n",
      "\n",
      "./sod1-WT-ff14SB/05_0200-0250ns_WT-ff14SB_25Awatsalt_hmr_nowat.nc\n",
      "\n",
      "./sod1-WT-ff14SB/05_0250-0300ns_WT-ff14SB_25Awatsalt_hmr_nowat.nc\n",
      "\n",
      "./sod1-WT-ff14SB/05_0300-0350ns_WT-ff14SB_25Awatsalt_hmr_nowat.nc\n",
      "\n",
      "./sod1-WT-ff14SB/05_0350-0400ns_WT-ff14SB_25Awatsalt_hmr_nowat.nc\n",
      "\n",
      "./sod1-WT-ff14SB/05_0400-0450ns_WT-ff14SB_25Awatsalt_hmr_nowat.nc\n",
      "\n",
      "./sod1-WT-ff14SB/05_0450-0500ns_WT-ff14SB_25Awatsalt_hmr_nowat.nc\n",
      "\n",
      "./sod1-WT-ff14SB/05_0500-0550ns_WT-ff14SB_25Awatsalt_hmr_nowat.nc\n",
      "\n",
      "./sod1-WT-ff14SB/05_0550-0600ns_WT-ff14SB_25Awatsalt_hmr_nowat.nc\n",
      "\n",
      "./sod1-WT-ff14SB/05_0600-0650ns_WT-ff14SB_25Awatsalt_hmr_nowat.nc\n",
      "\n",
      "./sod1-WT-ff14SB/05_0650-0700ns_WT-ff14SB_25Awatsalt_hmr_nowat.nc\n",
      "\n",
      "./sod1-WT-ff14SB/05_0700-0750ns_WT-ff14SB_25Awatsalt_hmr_nowat.nc\n",
      "\n",
      "./sod1-WT-ff14SB/05_0750-0800ns_WT-ff14SB_25Awatsalt_hmr_nowat.nc\n",
      "\n",
      "./sod1-WT-ff14SB/05_0800-0850ns_WT-ff14SB_25Awatsalt_hmr_nowat.nc\n",
      "\n",
      "./sod1-WT-ff14SB/05_0850-0900ns_WT-ff14SB_25Awatsalt_hmr_nowat.nc\n",
      "\n",
      "./sod1-WT-ff14SB/05_0900-0950ns_WT-ff14SB_25Awatsalt_hmr_nowat.nc\n",
      "\n",
      "./sod1-WT-ff14SB/05_0950-1000ns_WT-ff14SB_25Awatsalt_hmr_nowat.nc\n",
      "\n",
      "./sod1-WT-ff14SB/05_1000-1050ns_WT-ff14SB_25Awatsalt_hmr_nowat.nc\n",
      "\n",
      "./sod1-WT-ff14SB/05_1050-1100ns_WT-ff14SB_25Awatsalt_hmr_nowat.nc\n",
      "\n",
      "./sod1-WT-ff14SB/05_1100-1150ns_WT-ff14SB_25Awatsalt_hmr_nowat.nc\n",
      "\n",
      "./sod1-WT-ff14SB/05_1150-1200ns_WT-ff14SB_25Awatsalt_hmr_nowat.nc\n",
      "\n",
      "./sod1-WT-ff14SB/05_1200-1250ns_WT-ff14SB_25Awatsalt_hmr_nowat.nc\n",
      "\n",
      "./sod1-WT-ff14SB/05_1250-1300ns_WT-ff14SB_25Awatsalt_hmr_nowat.nc\n",
      "\n",
      "./sod1-WT-ff14SB/05_1300-1350ns_WT-ff14SB_25Awatsalt_hmr_nowat.nc\n",
      "\n",
      "./sod1-WT-ff14SB/05_1350-1400ns_WT-ff14SB_25Awatsalt_hmr_nowat.nc\n",
      "\n",
      "./sod1-WT-ff14SB/05_1400-1450ns_WT-ff14SB_25Awatsalt_hmr_nowat.nc\n",
      "\n",
      "./sod1-WT-ff14SB/05_1450-1500ns_WT-ff14SB_25Awatsalt_hmr_nowat.nc\n",
      "\n",
      "./spinoza2-WT-ff14SB/05_0000-0050ns_WT-ff14SB_25Awatsalt_hmr_nowat.nc\n",
      "\n",
      "./spinoza2-WT-ff14SB/05_0050-0100ns_WT-ff14SB_25Awatsalt_hmr_nowat.nc\n",
      "\n",
      "./spinoza2-WT-ff14SB/05_0100-0150ns_WT-ff14SB_25Awatsalt_hmr_nowat.nc\n",
      "\n",
      "./spinoza2-WT-ff14SB/05_0150-0200ns_WT-ff14SB_25Awatsalt_hmr_nowat.nc\n",
      "\n",
      "./spinoza2-WT-ff14SB/05_0200-0250ns_WT-ff14SB_25Awatsalt_hmr_nowat.nc\n",
      "\n",
      "./spinoza2-WT-ff14SB/05_0250-0300ns_WT-ff14SB_25Awatsalt_hmr_nowat.nc\n",
      "\n",
      "./spinoza2-WT-ff14SB/05_0300-0350ns_WT-ff14SB_25Awatsalt_hmr_nowat.nc\n",
      "\n",
      "./spinoza2-WT-ff14SB/05_0350-0400ns_WT-ff14SB_25Awatsalt_hmr_nowat.nc\n",
      "\n",
      "./spinoza2-WT-ff14SB/05_0400-0450ns_WT-ff14SB_25Awatsalt_hmr_nowat.nc\n",
      "\n",
      "./spinoza2-WT-ff14SB/05_0450-0500ns_WT-ff14SB_25Awatsalt_hmr_nowat.nc\n",
      "\n",
      "./spinoza2-WT-ff14SB/05_0500-0550ns_WT-ff14SB_25Awatsalt_hmr_nowat.nc\n",
      "\n",
      "./spinoza2-WT-ff14SB/05_0550-0600ns_WT-ff14SB_25Awatsalt_hmr_nowat.nc\n",
      "\n",
      "./spinoza2-WT-ff14SB/05_0600-0650ns_WT-ff14SB_25Awatsalt_hmr_nowat.nc\n",
      "\n",
      "./spinoza2-WT-ff14SB/05_0650-0700ns_WT-ff14SB_25Awatsalt_hmr_nowat.nc\n",
      "\n",
      "./spinoza2-WT-ff14SB/05_0700-0750ns_WT-ff14SB_25Awatsalt_hmr_nowat.nc\n",
      "\n",
      "./spinoza2-WT-ff14SB/05_0750-0800ns_WT-ff14SB_25Awatsalt_hmr_nowat.nc\n",
      "\n",
      "./spinoza2-WT-ff14SB/05_0800-0850ns_WT-ff14SB_25Awatsalt_hmr_nowat.nc\n",
      "\n",
      "./spinoza2-WT-ff14SB/05_0850-0900ns_WT-ff14SB_25Awatsalt_hmr_nowat.nc\n",
      "\n",
      "./spinoza2-WT-ff14SB/05_0900-0950ns_WT-ff14SB_25Awatsalt_hmr_nowat.nc\n",
      "\n",
      "./spinoza2-WT-ff14SB/05_0950-1000ns_WT-ff14SB_25Awatsalt_hmr_nowat.nc\n",
      "\n",
      "./spinoza2-WT-ff14SB/05_1000-1050ns_WT-ff14SB_25Awatsalt_hmr_nowat.nc\n",
      "\n",
      "./spinoza2-WT-ff14SB/05_1050-1100ns_WT-ff14SB_25Awatsalt_hmr_nowat.nc\n",
      "\n",
      "./spinoza2-WT-ff14SB/05_1100-1150ns_WT-ff14SB_25Awatsalt_hmr_nowat.nc\n",
      "\n",
      "./spinoza2-WT-ff14SB/05_1150-1200ns_WT-ff14SB_25Awatsalt_hmr_nowat.nc\n",
      "\n",
      "./spinoza2-WT-ff14SB/05_1200-1250ns_WT-ff14SB_25Awatsalt_hmr_nowat.nc\n",
      "\n",
      "./spinoza2-WT-ff14SB/05_1250-1300ns_WT-ff14SB_25Awatsalt_hmr_nowat.nc\n",
      "\n",
      "./spinoza2-WT-ff14SB/05_1300-1350ns_WT-ff14SB_25Awatsalt_hmr_nowat.nc\n",
      "\n",
      "./spinoza2-WT-ff14SB/05_1350-1400ns_WT-ff14SB_25Awatsalt_hmr_nowat.nc\n",
      "\n",
      "./spinoza2-WT-ff14SB/05_1400-1450ns_WT-ff14SB_25Awatsalt_hmr_nowat.nc\n",
      "\n",
      "./spinoza2-WT-ff14SB/05_1450-1500ns_WT-ff14SB_25Awatsalt_hmr_nowat.nc\n",
      "\n"
     ]
    }
   ],
   "source": [
    "import glob\n",
    "trajfiles = sorted(glob.glob('./*/05*nc'))\n",
    "for file in trajfiles:\n",
    "    print(\"%s\\n\" % file)\n",
    "topfile = \"./test.pdb\""
   ]
  },
  {
   "cell_type": "code",
   "execution_count": 6,
   "metadata": {
    "collapsed": false
   },
   "outputs": [],
   "source": [
    "feat = coor.featurizer(topfile)\n",
    "feat.add_backbone_torsions(cossin=True)\n",
    "feat.add_chi1_torsions(cossin=True)"
   ]
  },
  {
   "cell_type": "code",
   "execution_count": 7,
   "metadata": {
    "collapsed": false
   },
   "outputs": [
    {
     "name": "stdout",
     "output_type": "stream",
     "text": [
      "Obtaining file info: 100% (244/244) [##############################] eta 00:01 |"
     ]
    }
   ],
   "source": [
    "inp = coor.source(trajfiles, feat)\n"
   ]
  },
  {
   "cell_type": "code",
   "execution_count": 8,
   "metadata": {
    "collapsed": false,
    "scrolled": true
   },
   "outputs": [
    {
     "name": "stdout",
     "output_type": "stream",
     "text": [
      "Number of trajectories: 244\n",
      "Aggregate simulation time: 16800.00 ns\n",
      "Number of dimensions: 2390\n"
     ]
    }
   ],
   "source": [
    "print(\"Number of trajectories: %s\" % inp.number_of_trajectories())\n",
    "print(\"Aggregate simulation time: %.2f ns\" % (inp.n_frames_total() * 0.02))\n",
    "print(\"Number of dimensions: %s\" % inp.dimension())"
   ]
  },
  {
   "cell_type": "markdown",
   "metadata": {},
   "source": [
    "## TICA and clustering\n",
    "So we would like to first reduce our dimension by throwing out the ‘uninteresting’ ones and only keeping the ‘relevant’ ones. But how do we do that?\n",
    "\n",
    "It turns out that a really good way to do that if you are interesting in the slow kinetics of the molecule - e.g. for constructing a Markov model, is to use the time-lagged independent component analysis (TICA) [2]. Amongst linear methods, TICA is optimal in its ability to approximate the relevant slow coordinates / reaction coordinates from MD simulation [3], and therefore it’s ideal to construct Markov models."
   ]
  },
  {
   "cell_type": "code",
   "execution_count": 9,
   "metadata": {
    "collapsed": false
   },
   "outputs": [
    {
     "name": "stdout",
     "output_type": "stream",
     "text": [
      "calculate mean+cov: 100% (8176/8176) [#############################] eta 00:01 |"
     ]
    }
   ],
   "source": [
    "tica_obj = coor.tica(inp, lag=100)"
   ]
  },
  {
   "cell_type": "code",
   "execution_count": 11,
   "metadata": {
    "collapsed": false
   },
   "outputs": [
    {
     "name": "stdout",
     "output_type": "stream",
     "text": [
      "getting output of TICA: 100% (244/244) [###########################] eta 00:01 |"
     ]
    },
    {
     "ename": "TypeError",
     "evalue": "not all arguments converted during string formatting",
     "output_type": "error",
     "traceback": [
      "\u001b[0;31m---------------------------------------------------------------------------\u001b[0m",
      "\u001b[0;31mTypeError\u001b[0m                                 Traceback (most recent call last)",
      "\u001b[0;32m<ipython-input-11-91a3728df37e>\u001b[0m in \u001b[0;36m<module>\u001b[0;34m()\u001b[0m\n\u001b[1;32m      1\u001b[0m \u001b[0mY\u001b[0m \u001b[0;34m=\u001b[0m \u001b[0mtica_obj\u001b[0m\u001b[0;34m.\u001b[0m\u001b[0mget_output\u001b[0m\u001b[0;34m(\u001b[0m\u001b[0;34m)\u001b[0m\u001b[0;34m[\u001b[0m\u001b[0;36m0\u001b[0m\u001b[0;34m]\u001b[0m\u001b[0;34m\u001b[0m\u001b[0m\n\u001b[0;32m----> 2\u001b[0;31m \u001b[0mprint\u001b[0m\u001b[0;34m(\u001b[0m\u001b[0;34m\"Projected data shape: %s\"\u001b[0m \u001b[0;34m%\u001b[0m \u001b[0mY\u001b[0m\u001b[0;34m.\u001b[0m\u001b[0mshape\u001b[0m\u001b[0;34m)\u001b[0m\u001b[0;34m\u001b[0m\u001b[0m\n\u001b[0m",
      "\u001b[0;31mTypeError\u001b[0m: not all arguments converted during string formatting"
     ]
    }
   ],
   "source": [
    "Y = tica_obj.get_output()[0]"
   ]
  },
  {
   "cell_type": "markdown",
   "metadata": {},
   "source": [
    "By default, TICA will choose a number of output dimensions to cover 95% of the kinetic variance and scale the output to produce a kinetic map. In this case we retain **575** dimensions, which is a lot but note that they are scaled by eigenvalue, so it’s mostly the first dimensions that contribute."
   ]
  },
  {
   "cell_type": "code",
   "execution_count": 31,
   "metadata": {
    "collapsed": false
   },
   "outputs": [
    {
     "name": "stdout",
     "output_type": "stream",
     "text": [
      "Projected data shape: (2500,575)\n"
     ]
    },
    {
     "data": {
      "text/plain": [
       "array([  4.78546917e-01,   1.15171218e+00,   1.33347392e+00, ...,\n",
       "         1.72825352e+04,   1.72826328e+04,   1.72827617e+04], dtype=float32)"
      ]
     },
     "execution_count": 31,
     "metadata": {},
     "output_type": "execute_result"
    }
   ],
   "source": [
    "print(\"Projected data shape: (%s,%s)\" % (Y.shape[0], Y.shape[1]))"
   ]
  },
  {
   "cell_type": "code",
   "execution_count": 32,
   "metadata": {
    "collapsed": false
   },
   "outputs": [
    {
     "name": "stdout",
     "output_type": "stream",
     "text": [
      "Retained dimensions: 575\n"
     ]
    },
    {
     "data": {
      "text/plain": [
       "<matplotlib.text.Text at 0x11206cf28>"
      ]
     },
     "execution_count": 32,
     "metadata": {},
     "output_type": "execute_result"
    },
    {
     "data": {
      "image/png": "[encoded data removed]",
      "text/plain": [
       "<matplotlib.figure.Figure at 0x111d69550>"
      ]
     },
     "metadata": {},
     "output_type": "display_data"
    }
   ],
   "source": [
    "print('Retained dimensions: %s' % tica_obj.dimension())\n",
    "plot(tica_obj.cumvar, linewidth=2)\n",
    "plot([tica_obj.dimension(), tica_obj.dimension()], [0, 1], color='black', linewidth=2)\n",
    "plot([0, Y.shape[0]], [0.95, 0.95], color='black', linewidth=2)\n",
    "xlabel('Number of dimensions'); ylabel('Cum. kinetic variance fraction')"
   ]
  },
  {
   "cell_type": "markdown",
   "metadata": {},
   "source": [
    "The TICA object has a number of properties that we can extract and work with. We have already obtained the projected trajectory and wrote it in a variable Y that is a matrix of size (103125 x 2). The rows are the MD steps, the 2 columns are the independent component coordinates projected onto. So each columns is a trajectory. Let us plot them:"
   ]
  },
  {
   "cell_type": "code",
   "execution_count": 17,
   "metadata": {
    "collapsed": false
   },
   "outputs": [
    {
     "data": {
      "text/plain": [
       "<matplotlib.text.Text at 0x1120efd30>"
      ]
     },
     "execution_count": 17,
     "metadata": {},
     "output_type": "execute_result"
    },
    {
     "data": {
      "image/png": "[encoded data removed]",
      "text/plain": [
       "<matplotlib.figure.Figure at 0x11202c400>"
      ]
     },
     "metadata": {},
     "output_type": "display_data"
    }
   ],
   "source": [
    "mplt.plot_free_energy(np.vstack(Y)[:, 0], np.vstack(Y)[:, 1])\n",
    "xlabel('independent component 1'); ylabel('independent component 2')"
   ]
  },
  {
   "cell_type": "markdown",
   "metadata": {},
   "source": [
    "A particular thing about the IC’s is that they have zero mean and variance one. We can easily check that:"
   ]
  },
  {
   "cell_type": "code",
   "execution_count": 36,
   "metadata": {
    "collapsed": false
   },
   "outputs": [
    {
     "name": "stdout",
     "output_type": "stream",
     "text": [
      "Mean values: -0.0202599\n",
      "Variances: 0.405257\n"
     ]
    }
   ],
   "source": [
    "print(\"Mean values: %s\" % np.mean(Y[0], axis = 0))\n",
    "print(\"Variances: %s\" % np.var(Y[0], axis = 0))"
   ]
  },
  {
   "cell_type": "markdown",
   "metadata": {},
   "source": [
    "The small deviations from 0 and 1 come from statistical and numerical issues. That’s not a problem. Note that if we had set kinetic_map=True when doing TICA, then the variances would not be 1 but rather the square of the corresponding TICA eigenvalue.\n",
    "\n",
    "TICA is a special transformation because it will project the data such that the autocorrelation along the independent components is as slow as possible. The eigenvalues of the TICA transform are the values of these autocorrelations at the chosen lag time (here 100). We can even interpret them in terms of relaxation timescales:"
   ]
  },
  {
   "cell_type": "code",
   "execution_count": 20,
   "metadata": {
    "collapsed": false
   },
   "outputs": [
    {
     "name": "stdout",
     "output_type": "stream",
     "text": [
      "[ 58916.3390982   49176.41514982  34933.41607058  32727.40154084\n",
      "  29415.61528081]\n"
     ]
    }
   ],
   "source": [
    "print(-100/np.log(tica_obj.eigenvalues[:5]))"
   ]
  },
  {
   "cell_type": "markdown",
   "metadata": {},
   "source": [
    "We will see more timescales later when we estimate a Markov model, and there will be some differences. For now you should treat these numbers as a rough guess of your molecule’s timescales, and we will see later that this guess is actually a bit too fast. The timescales are relative to the 10 ns saving interval, so we have "
   ]
  },
  {
   "cell_type": "code",
   "execution_count": 34,
   "metadata": {
    "collapsed": false
   },
   "outputs": [
    {
     "data": {
      "text/plain": [
       "<matplotlib.text.Text at 0x113290438>"
      ]
     },
     "execution_count": 34,
     "metadata": {},
     "output_type": "execute_result"
    },
    {
     "data": {
      "image/png": "[encoded data removed]",
      "text/plain": [
       "<matplotlib.figure.Figure at 0x11350a8d0>"
      ]
     },
     "metadata": {},
     "output_type": "display_data"
    }
   ],
   "source": [
    "subplot2grid((2,1),(0,0))\n",
    "plot(Y[:,0])\n",
    "ylabel('ind. comp. 1')\n",
    "subplot2grid((2,1),(1,0))\n",
    "plot(Y[:,1])\n",
    "ylabel('ind. comp. 2')\n",
    "xlabel('time (10 ns)')"
   ]
  },
  {
   "cell_type": "code",
   "execution_count": 37,
   "metadata": {
    "collapsed": false
   },
   "outputs": [
    {
     "data": {
      "text/plain": [
       "1000"
      ]
     },
     "execution_count": 37,
     "metadata": {},
     "output_type": "execute_result"
    }
   ],
   "source": [
    "tica_obj.chunksize"
   ]
  },
  {
   "cell_type": "code",
   "execution_count": 56,
   "metadata": {
    "collapsed": false
   },
   "outputs": [
    {
     "ename": "AttributeError",
     "evalue": "'TICA' object has no attribute 'lagtimes'",
     "output_type": "error",
     "traceback": [
      "\u001b[0;31m---------------------------------------------------------------------------\u001b[0m",
      "\u001b[0;31mAttributeError\u001b[0m                            Traceback (most recent call last)",
      "\u001b[0;32m<ipython-input-56-95e8b3752413>\u001b[0m in \u001b[0;36m<module>\u001b[0;34m()\u001b[0m\n\u001b[0;32m----> 1\u001b[0;31m \u001b[0mmplt\u001b[0m\u001b[0;34m.\u001b[0m\u001b[0mplot_implied_timescales\u001b[0m\u001b[0;34m(\u001b[0m\u001b[0mtica_obj\u001b[0m\u001b[0;34m)\u001b[0m\u001b[0;34m\u001b[0m\u001b[0m\n\u001b[0m",
      "\u001b[0;32m/Users/je714/anaconda/lib/python3.4/site-packages/pyEMMA-2.1-py3.4-macosx-10.5-x86_64.egg/pyemma/plots/timescales.py\u001b[0m in \u001b[0;36mplot_implied_timescales\u001b[0;34m(ITS, ax, outfile, show_mle, show_mean, xlog, ylog, confidence, refs, nits, process, units, dt, **kwargs)\u001b[0m\n\u001b[1;32m     84\u001b[0m         \u001b[0max\u001b[0m \u001b[0;34m=\u001b[0m \u001b[0m_plt\u001b[0m\u001b[0;34m.\u001b[0m\u001b[0mgca\u001b[0m\u001b[0;34m(\u001b[0m\u001b[0;34m)\u001b[0m\u001b[0;34m\u001b[0m\u001b[0m\n\u001b[1;32m     85\u001b[0m     \u001b[0mcolors\u001b[0m \u001b[0;34m=\u001b[0m \u001b[0;34m[\u001b[0m\u001b[0;34m'blue'\u001b[0m\u001b[0;34m,\u001b[0m\u001b[0;34m'red'\u001b[0m\u001b[0;34m,\u001b[0m\u001b[0;34m'green'\u001b[0m\u001b[0;34m,\u001b[0m\u001b[0;34m'cyan'\u001b[0m\u001b[0;34m,\u001b[0m\u001b[0;34m'purple'\u001b[0m\u001b[0;34m,\u001b[0m\u001b[0;34m'orange'\u001b[0m\u001b[0;34m,\u001b[0m\u001b[0;34m'violet'\u001b[0m\u001b[0;34m]\u001b[0m\u001b[0;34m\u001b[0m\u001b[0m\n\u001b[0;32m---> 86\u001b[0;31m     \u001b[0mlags\u001b[0m \u001b[0;34m=\u001b[0m \u001b[0mITS\u001b[0m\u001b[0;34m.\u001b[0m\u001b[0mlagtimes\u001b[0m\u001b[0;34m\u001b[0m\u001b[0m\n\u001b[0m\u001b[1;32m     87\u001b[0m     \u001b[0mxmax\u001b[0m \u001b[0;34m=\u001b[0m \u001b[0m_np\u001b[0m\u001b[0;34m.\u001b[0m\u001b[0mmax\u001b[0m\u001b[0;34m(\u001b[0m\u001b[0mlags\u001b[0m\u001b[0;34m)\u001b[0m\u001b[0;34m\u001b[0m\u001b[0m\n\u001b[1;32m     88\u001b[0m \u001b[0;34m\u001b[0m\u001b[0m\n",
      "\u001b[0;31mAttributeError\u001b[0m: 'TICA' object has no attribute 'lagtimes'"
     ]
    },
    {
     "data": {
      "image/png": "[encoded data removed]",
      "text/plain": [
       "<matplotlib.figure.Figure at 0x11409f828>"
      ]
     },
     "metadata": {},
     "output_type": "display_data"
    }
   ],
   "source": [
    "mplt.plot_implied_timescales(tica_obj)"
   ]
  },
  {
   "cell_type": "code",
   "execution_count": null,
   "metadata": {
    "collapsed": true
   },
   "outputs": [],
   "source": []
  }
 ],
 "metadata": {
  "kernelspec": {
   "display_name": "Python 3",
   "language": "python",
   "name": "python3"
  },
  "language_info": {
   "codemirror_mode": {
    "name": "ipython",
    "version": 3
   },
   "file_extension": ".py",
   "mimetype": "text/x-python",
   "name": "python",
   "nbconvert_exporter": "python",
   "pygments_lexer": "ipython3",
   "version": "3.4.4"
  }
 },
 "nbformat": 4,
 "nbformat_minor": 0
}
