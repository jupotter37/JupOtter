{
 "cells": [
  {
   "cell_type": "code",
   "execution_count": 18,
   "metadata": {
    "collapsed": false
   },
   "outputs": [
    {
     "name": "stdout",
     "output_type": "stream",
     "text": [
      "[ 5.84333333  3.054       3.75866667  1.19866667]\n"
     ]
    }
   ],
   "source": [
    "from sklearn.datasets import load_iris\n",
    "import numpy as np\n",
    "dataset = load_iris()\n",
    "\n",
    "X = dataset.data\n",
    "Y = dataset.target\n",
    "\n",
    "#print(dataset.DESCR)\n",
    "\n",
    "attribute_means = X.mean(axis=0)\n",
    "\n",
    "print(attribute_means)\n",
    "\n",
    "\n"
   ]
  },
  {
   "cell_type": "code",
   "execution_count": 16,
   "metadata": {
    "collapsed": false
   },
   "outputs": [
    {
     "name": "stdout",
     "output_type": "stream",
     "text": [
      "[[0 1 0 0]\n",
      " [0 0 0 0]\n",
      " [0 1 0 0]\n",
      " [0 1 0 0]\n",
      " [0 1 0 0]]\n"
     ]
    }
   ],
   "source": [
    "X_d = np.array(X >= attribute_means, dtype='int')\n",
    "print (X_d[0:5])"
   ]
  },
  {
   "cell_type": "code",
   "execution_count": 23,
   "metadata": {
    "collapsed": false
   },
   "outputs": [
    {
     "ename": "SyntaxError",
     "evalue": "invalid syntax (<ipython-input-23-0c140216535c>, line 13)",
     "output_type": "error",
     "traceback": [
      "\u001b[1;36m  File \u001b[1;32m\"<ipython-input-23-0c140216535c>\"\u001b[1;36m, line \u001b[1;32m13\u001b[0m\n\u001b[1;33m    incorrect_predictions = [class_count for class_value, class_countin class_counts.items()\u001b[0m\n\u001b[1;37m                        ^\u001b[0m\n\u001b[1;31mSyntaxError\u001b[0m\u001b[1;31m:\u001b[0m invalid syntax\n"
     ]
    }
   ],
   "source": [
    "from collections import defaultdict\n",
    "from operator import itemgetter\n",
    "\n",
    "#下面创建函数声明，参数分别是数据集、类别数组、选好的特征索引值、特征值。\n",
    "def train_feature_value(X, y_true, feature_index, value):\n",
    "    class_counts = defaultdict(int)\n",
    "    for sample, y in zip(X, y_true):\n",
    "        if sample[feature_index] == value:\n",
    "            class_counts[y] += 1\n",
    "    sorted_class_counts = sorted(class_counts.items(), key=lambda k:k[1], reverse=True)\n",
    "    most_frequent_class = sorted_class_counts[0][0]\n",
    "    print (most_frequent_class0\n",
    "    incorrect_predictions = [class_count for class_value, class_countin class_counts.items()\n",
    "                             if class_value != most_frequent_class]\n",
    "    error = sum(incorrect_predictions)\n",
    "    return most_frequent_class, error\n",
    "           "
   ]
  },
  {
   "cell_type": "code",
   "execution_count": null,
   "metadata": {
    "collapsed": true
   },
   "outputs": [],
   "source": []
  }
 ],
 "metadata": {
  "anaconda-cloud": {},
  "kernelspec": {
   "display_name": "Python [Root]",
   "language": "python",
   "name": "Python [Root]"
  },
  "language_info": {
   "codemirror_mode": {
    "name": "ipython",
    "version": 3
   },
   "file_extension": ".py",
   "mimetype": "text/x-python",
   "name": "python",
   "nbconvert_exporter": "python",
   "pygments_lexer": "ipython3",
   "version": "3.5.2"
  }
 },
 "nbformat": 4,
 "nbformat_minor": 0
}
