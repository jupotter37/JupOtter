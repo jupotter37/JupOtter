{
 "cells": [
  {
   "cell_type": "code",
   "execution_count": null,
   "metadata": {
    "collapsed": true
   },
   "outputs": [],
   "source": [
    "# files - peristant storage\n",
    "# .txt,.xls,.html,.png\n",
    "# files - read,write,append\n",
    "# anything more than this - editor.\n",
    "# DBs - relational or non-relational dbs. "
   ]
  },
  {
   "cell_type": "code",
   "execution_count": 3,
   "metadata": {
    "collapsed": true
   },
   "outputs": [],
   "source": [
    "# open a file.\n",
    "f = open(\"file1.txt\")\n",
    "# or\n",
    "f = open(\"file1.txt\",\"rb\")"
   ]
  },
  {
   "cell_type": "code",
   "execution_count": 4,
   "metadata": {
    "collapsed": false
   },
   "outputs": [
    {
     "name": "stdout",
     "output_type": "stream",
     "text": [
      "<type 'file'>\n",
      "<open file 'file1.txt', mode 'rb' at 0x7fa210042030>\n"
     ]
    }
   ],
   "source": [
    "print type(f)\n",
    "print f"
   ]
  },
  {
   "cell_type": "code",
   "execution_count": null,
   "metadata": {
    "collapsed": true
   },
   "outputs": [],
   "source": [
    "# modes\n",
    "# r - read mode - reading the contents of the file.\n",
    "# w - write mode - you can write into a file.\n",
    "#   - if file does not exits , it create a file.\n",
    "#   - if it exits it will overwrite.\n",
    "# a - append the line to the end of the file.\n",
    "# r+ - read and write.\n",
    "# b - binary. (rb,wb,ab)"
   ]
  },
  {
   "cell_type": "code",
   "execution_count": 5,
   "metadata": {
    "collapsed": false
   },
   "outputs": [
    {
     "name": "stdout",
     "output_type": "stream",
     "text": [
      "['__class__', '__delattr__', '__doc__', '__enter__', '__exit__', '__format__', '__getattribute__', '__hash__', '__init__', '__iter__', '__new__', '__reduce__', '__reduce_ex__', '__repr__', '__setattr__', '__sizeof__', '__str__', '__subclasshook__', 'close', 'closed', 'encoding', 'errors', 'fileno', 'flush', 'isatty', 'mode', 'name', 'newlines', 'next', 'read', 'readinto', 'readline', 'readlines', 'seek', 'softspace', 'tell', 'truncate', 'write', 'writelines', 'xreadlines']\n"
     ]
    }
   ],
   "source": [
    "print dir(f)"
   ]
  },
  {
   "cell_type": "code",
   "execution_count": null,
   "metadata": {
    "collapsed": true
   },
   "outputs": [],
   "source": [
    "# f.softspace,f.newlines,f.errors,f.encoding"
   ]
  },
  {
   "cell_type": "code",
   "execution_count": 63,
   "metadata": {
    "collapsed": false
   },
   "outputs": [
    {
     "name": "stdout",
     "output_type": "stream",
     "text": [
      "Help on built-in function readinto:\n",
      "\n",
      "readinto(...)\n",
      "    readinto() -> Undocumented.  Don't use this; it may go away.\n",
      "\n",
      "None\n"
     ]
    }
   ],
   "source": [
    "# f.readinto\n",
    "print help(f.readinto)"
   ]
  },
  {
   "cell_type": "code",
   "execution_count": 62,
   "metadata": {
    "collapsed": false
   },
   "outputs": [
    {
     "name": "stdout",
     "output_type": "stream",
     "text": [
      "Help on built-in function xreadlines:\n",
      "\n",
      "xreadlines(...)\n",
      "    xreadlines() -> returns self.\n",
      "    \n",
      "    For backward compatibility. File objects now include the performance\n",
      "    optimizations previously implemented in the xreadlines module.\n",
      "\n",
      "None\n"
     ]
    }
   ],
   "source": [
    "# f.xreadlines\n",
    "print help(f.xreadlines)"
   ]
  },
  {
   "cell_type": "code",
   "execution_count": 6,
   "metadata": {
    "collapsed": false
   },
   "outputs": [
    {
     "name": "stdout",
     "output_type": "stream",
     "text": [
      "file1.txt\n"
     ]
    }
   ],
   "source": [
    "# f.name\n",
    "print f.name"
   ]
  },
  {
   "cell_type": "code",
   "execution_count": 7,
   "metadata": {
    "collapsed": false
   },
   "outputs": [
    {
     "name": "stdout",
     "output_type": "stream",
     "text": [
      "rb\n"
     ]
    }
   ],
   "source": [
    "# f.mode\n",
    "print f.mode"
   ]
  },
  {
   "cell_type": "code",
   "execution_count": 8,
   "metadata": {
    "collapsed": false
   },
   "outputs": [
    {
     "name": "stdout",
     "output_type": "stream",
     "text": [
      "Help on built-in function read:\n",
      "\n",
      "read(...)\n",
      "    read([size]) -> read at most size bytes, returned as a string.\n",
      "    \n",
      "    If the size argument is negative or omitted, read until EOF is reached.\n",
      "    Notice that when in non-blocking mode, less data than what was requested\n",
      "    may be returned, even if no size parameter was given.\n",
      "\n",
      "None\n"
     ]
    }
   ],
   "source": [
    "# f.read\n",
    "print help(f.read)"
   ]
  },
  {
   "cell_type": "code",
   "execution_count": 9,
   "metadata": {
    "collapsed": false
   },
   "outputs": [
    {
     "name": "stdout",
     "output_type": "stream",
     "text": [
      "Th\n"
     ]
    }
   ],
   "source": [
    "print f.read(2)"
   ]
  },
  {
   "cell_type": "code",
   "execution_count": 10,
   "metadata": {
    "collapsed": false
   },
   "outputs": [
    {
     "name": "stdout",
     "output_type": "stream",
     "text": [
      "is\n"
     ]
    }
   ],
   "source": [
    "print f.read(2)"
   ]
  },
  {
   "cell_type": "code",
   "execution_count": 11,
   "metadata": {
    "collapsed": false
   },
   "outputs": [
    {
     "name": "stdout",
     "output_type": "stream",
     "text": [
      " is my line1.\n",
      "This is my line2.\n",
      "This is my line3.\n",
      "This is my line4.\n"
     ]
    }
   ],
   "source": [
    "print f.read()"
   ]
  },
  {
   "cell_type": "code",
   "execution_count": 12,
   "metadata": {
    "collapsed": false
   },
   "outputs": [
    {
     "name": "stdout",
     "output_type": "stream",
     "text": [
      "\n"
     ]
    }
   ],
   "source": [
    "print f.read()"
   ]
  },
  {
   "cell_type": "code",
   "execution_count": 14,
   "metadata": {
    "collapsed": false
   },
   "outputs": [
    {
     "name": "stdout",
     "output_type": "stream",
     "text": [
      "Help on built-in function tell:\n",
      "\n",
      "tell(...)\n",
      "    tell() -> current file position, an integer (may be a long integer).\n",
      "\n",
      "None\n",
      "71\n"
     ]
    }
   ],
   "source": [
    "# f.tell\n",
    "print help(f.tell)\n",
    "print f.tell()"
   ]
  },
  {
   "cell_type": "code",
   "execution_count": 15,
   "metadata": {
    "collapsed": false
   },
   "outputs": [
    {
     "name": "stdout",
     "output_type": "stream",
     "text": [
      "Help on built-in function seek:\n",
      "\n",
      "seek(...)\n",
      "    seek(offset[, whence]) -> None.  Move to new file position.\n",
      "    \n",
      "    Argument offset is a byte count.  Optional argument whence defaults to\n",
      "    0 (offset from start of file, offset should be >= 0); other values are 1\n",
      "    (move relative to current position, positive or negative), and 2 (move\n",
      "    relative to end of file, usually negative, although many platforms allow\n",
      "    seeking beyond the end of a file).  If the file is opened in text mode,\n",
      "    only offsets returned by tell() are legal.  Use of other offsets causes\n",
      "    undefined behavior.\n",
      "    Note that not all file objects are seekable.\n",
      "\n",
      "None\n"
     ]
    }
   ],
   "source": [
    "# f.seek\n",
    "print help(f.seek)"
   ]
  },
  {
   "cell_type": "code",
   "execution_count": 22,
   "metadata": {
    "collapsed": true
   },
   "outputs": [],
   "source": [
    "f.seek(0)"
   ]
  },
  {
   "cell_type": "code",
   "execution_count": 17,
   "metadata": {
    "collapsed": false
   },
   "outputs": [
    {
     "name": "stdout",
     "output_type": "stream",
     "text": [
      "0\n"
     ]
    }
   ],
   "source": [
    "print f.tell()"
   ]
  },
  {
   "cell_type": "code",
   "execution_count": 18,
   "metadata": {
    "collapsed": false
   },
   "outputs": [
    {
     "name": "stdout",
     "output_type": "stream",
     "text": [
      "This is my line1.\n",
      "This is my line2.\n",
      "This is my line3.\n",
      "This is my line4.\n"
     ]
    }
   ],
   "source": [
    "print f.read()"
   ]
  },
  {
   "cell_type": "code",
   "execution_count": 21,
   "metadata": {
    "collapsed": false
   },
   "outputs": [],
   "source": [
    "# f.next\n",
    "# file handle is a iterator by default"
   ]
  },
  {
   "cell_type": "code",
   "execution_count": 23,
   "metadata": {
    "collapsed": true
   },
   "outputs": [],
   "source": [
    "f.seek(0)"
   ]
  },
  {
   "cell_type": "code",
   "execution_count": 24,
   "metadata": {
    "collapsed": false
   },
   "outputs": [
    {
     "name": "stdout",
     "output_type": "stream",
     "text": [
      "This is my line1.\n",
      "\n"
     ]
    }
   ],
   "source": [
    "print f.next()"
   ]
  },
  {
   "cell_type": "code",
   "execution_count": 25,
   "metadata": {
    "collapsed": false
   },
   "outputs": [
    {
     "name": "stdout",
     "output_type": "stream",
     "text": [
      "This is my line2.\n",
      "\n"
     ]
    }
   ],
   "source": [
    "print f.next()"
   ]
  },
  {
   "cell_type": "code",
   "execution_count": 26,
   "metadata": {
    "collapsed": false
   },
   "outputs": [
    {
     "name": "stdout",
     "output_type": "stream",
     "text": [
      "This is my line3.\n",
      "\n"
     ]
    }
   ],
   "source": [
    "print f.next()"
   ]
  },
  {
   "cell_type": "code",
   "execution_count": 27,
   "metadata": {
    "collapsed": false
   },
   "outputs": [
    {
     "name": "stdout",
     "output_type": "stream",
     "text": [
      "This is my line4.\n"
     ]
    }
   ],
   "source": [
    "print f.next()"
   ]
  },
  {
   "cell_type": "code",
   "execution_count": 28,
   "metadata": {
    "collapsed": false
   },
   "outputs": [
    {
     "ename": "StopIteration",
     "evalue": "",
     "output_type": "error",
     "traceback": [
      "\u001b[0;31m---------------------------------------------------------------------------\u001b[0m",
      "\u001b[0;31mStopIteration\u001b[0m                             Traceback (most recent call last)",
      "\u001b[0;32m<ipython-input-28-1386fc0a282d>\u001b[0m in \u001b[0;36m<module>\u001b[0;34m()\u001b[0m\n\u001b[0;32m----> 1\u001b[0;31m \u001b[0;32mprint\u001b[0m \u001b[0mf\u001b[0m\u001b[0;34m.\u001b[0m\u001b[0mnext\u001b[0m\u001b[0;34m(\u001b[0m\u001b[0;34m)\u001b[0m\u001b[0;34m\u001b[0m\u001b[0m\n\u001b[0m",
      "\u001b[0;31mStopIteration\u001b[0m: "
     ]
    }
   ],
   "source": [
    "print f.next()"
   ]
  },
  {
   "cell_type": "code",
   "execution_count": 29,
   "metadata": {
    "collapsed": false
   },
   "outputs": [
    {
     "name": "stdout",
     "output_type": "stream",
     "text": [
      "Help on built-in function readline:\n",
      "\n",
      "readline(...)\n",
      "    readline([size]) -> next line from the file, as a string.\n",
      "    \n",
      "    Retain newline.  A non-negative size argument limits the maximum\n",
      "    number of bytes to return (an incomplete line may be returned then).\n",
      "    Return an empty string at EOF.\n",
      "\n",
      "None\n"
     ]
    }
   ],
   "source": [
    "# f.readline\n",
    "print help(f.readline)"
   ]
  },
  {
   "cell_type": "code",
   "execution_count": 31,
   "metadata": {
    "collapsed": true
   },
   "outputs": [],
   "source": [
    "f.seek(0)"
   ]
  },
  {
   "cell_type": "code",
   "execution_count": 32,
   "metadata": {
    "collapsed": false
   },
   "outputs": [
    {
     "name": "stdout",
     "output_type": "stream",
     "text": [
      "This is my line1.\n",
      "\n"
     ]
    }
   ],
   "source": [
    "print f.readline()"
   ]
  },
  {
   "cell_type": "code",
   "execution_count": 33,
   "metadata": {
    "collapsed": false
   },
   "outputs": [
    {
     "name": "stdout",
     "output_type": "stream",
     "text": [
      "This is my line2.\n",
      "\n"
     ]
    }
   ],
   "source": [
    "print f.readline()"
   ]
  },
  {
   "cell_type": "code",
   "execution_count": 34,
   "metadata": {
    "collapsed": false
   },
   "outputs": [
    {
     "name": "stdout",
     "output_type": "stream",
     "text": [
      "This is my line3.\n",
      "\n"
     ]
    }
   ],
   "source": [
    "print f.readline()"
   ]
  },
  {
   "cell_type": "code",
   "execution_count": 35,
   "metadata": {
    "collapsed": false
   },
   "outputs": [
    {
     "name": "stdout",
     "output_type": "stream",
     "text": [
      "This is my line4.\n"
     ]
    }
   ],
   "source": [
    "print f.readline()"
   ]
  },
  {
   "cell_type": "code",
   "execution_count": 36,
   "metadata": {
    "collapsed": false
   },
   "outputs": [
    {
     "name": "stdout",
     "output_type": "stream",
     "text": [
      "\n"
     ]
    }
   ],
   "source": [
    "print f.readline()"
   ]
  },
  {
   "cell_type": "code",
   "execution_count": 37,
   "metadata": {
    "collapsed": true
   },
   "outputs": [],
   "source": [
    "# f.readlines"
   ]
  },
  {
   "cell_type": "code",
   "execution_count": 38,
   "metadata": {
    "collapsed": false
   },
   "outputs": [
    {
     "name": "stdout",
     "output_type": "stream",
     "text": [
      "Help on built-in function readlines:\n",
      "\n",
      "readlines(...)\n",
      "    readlines([size]) -> list of strings, each a line from the file.\n",
      "    \n",
      "    Call readline() repeatedly and return a list of the lines so read.\n",
      "    The optional size argument, if given, is an approximate bound on the\n",
      "    total number of bytes in the lines returned.\n",
      "\n",
      "None\n"
     ]
    }
   ],
   "source": [
    "print help(f.readlines)"
   ]
  },
  {
   "cell_type": "code",
   "execution_count": 39,
   "metadata": {
    "collapsed": true
   },
   "outputs": [],
   "source": [
    "f.seek(0)"
   ]
  },
  {
   "cell_type": "code",
   "execution_count": 40,
   "metadata": {
    "collapsed": true
   },
   "outputs": [],
   "source": [
    "my_lines = f.readlines()"
   ]
  },
  {
   "cell_type": "code",
   "execution_count": 41,
   "metadata": {
    "collapsed": false
   },
   "outputs": [
    {
     "name": "stdout",
     "output_type": "stream",
     "text": [
      "['This is my line1.\\n', 'This is my line2.\\n', 'This is my line3.\\n', 'This is my line4.']\n"
     ]
    }
   ],
   "source": [
    "print my_lines"
   ]
  },
  {
   "cell_type": "code",
   "execution_count": null,
   "metadata": {
    "collapsed": true
   },
   "outputs": [],
   "source": [
    "# write"
   ]
  },
  {
   "cell_type": "code",
   "execution_count": 42,
   "metadata": {
    "collapsed": true
   },
   "outputs": [],
   "source": [
    "g = open(\"newfile.txt\",\"wb\")"
   ]
  },
  {
   "cell_type": "code",
   "execution_count": 43,
   "metadata": {
    "collapsed": false
   },
   "outputs": [
    {
     "name": "stdout",
     "output_type": "stream",
     "text": [
      "Help on built-in function write:\n",
      "\n",
      "write(...)\n",
      "    write(str) -> None.  Write string str to file.\n",
      "    \n",
      "    Note that due to buffering, flush() or close() may be needed before\n",
      "    the file on disk reflects the data written.\n",
      "\n",
      "None\n"
     ]
    }
   ],
   "source": [
    "print help(g.write)"
   ]
  },
  {
   "cell_type": "code",
   "execution_count": 44,
   "metadata": {
    "collapsed": true
   },
   "outputs": [],
   "source": [
    "g.write(\"This is line one.\\n This is line two.\\n This is line three \\n. This is line four.\\n\")"
   ]
  },
  {
   "cell_type": "code",
   "execution_count": null,
   "metadata": {
    "collapsed": true
   },
   "outputs": [],
   "source": [
    "# input => I/O buffers => cpu => I/O buffers => output"
   ]
  },
  {
   "cell_type": "code",
   "execution_count": 46,
   "metadata": {
    "collapsed": false
   },
   "outputs": [
    {
     "name": "stdout",
     "output_type": "stream",
     "text": [
      "Help on built-in function flush:\n",
      "\n",
      "flush(...)\n",
      "    flush() -> None.  Flush the internal I/O buffer.\n",
      "\n",
      "None\n"
     ]
    }
   ],
   "source": [
    "# f.close and f.flush\n",
    "print help(g.flush)"
   ]
  },
  {
   "cell_type": "code",
   "execution_count": 47,
   "metadata": {
    "collapsed": true
   },
   "outputs": [],
   "source": [
    "g.flush()"
   ]
  },
  {
   "cell_type": "code",
   "execution_count": 49,
   "metadata": {
    "collapsed": false
   },
   "outputs": [
    {
     "name": "stdout",
     "output_type": "stream",
     "text": [
      "Help on built-in function close:\n",
      "\n",
      "close(...)\n",
      "    close() -> None or (perhaps) an integer.  Close the file.\n",
      "    \n",
      "    Sets data attribute .closed to True.  A closed file cannot be used for\n",
      "    further I/O operations.  close() may be called more than once without\n",
      "    error.  Some kinds of file objects (for example, opened by popen())\n",
      "    may return an exit status upon closing.\n",
      "\n",
      "None\n"
     ]
    }
   ],
   "source": [
    "print help(g.close)"
   ]
  },
  {
   "cell_type": "code",
   "execution_count": 50,
   "metadata": {
    "collapsed": true
   },
   "outputs": [],
   "source": [
    "g.close()"
   ]
  },
  {
   "cell_type": "code",
   "execution_count": 51,
   "metadata": {
    "collapsed": false
   },
   "outputs": [
    {
     "ename": "ValueError",
     "evalue": "I/O operation on closed file",
     "output_type": "error",
     "traceback": [
      "\u001b[0;31m---------------------------------------------------------------------------\u001b[0m",
      "\u001b[0;31mValueError\u001b[0m                                Traceback (most recent call last)",
      "\u001b[0;32m<ipython-input-51-0223a80baa2c>\u001b[0m in \u001b[0;36m<module>\u001b[0;34m()\u001b[0m\n\u001b[0;32m----> 1\u001b[0;31m \u001b[0mg\u001b[0m\u001b[0;34m.\u001b[0m\u001b[0mwrite\u001b[0m\u001b[0;34m(\u001b[0m\u001b[0;34m\"writing a new line\"\u001b[0m\u001b[0;34m)\u001b[0m\u001b[0;34m\u001b[0m\u001b[0m\n\u001b[0m",
      "\u001b[0;31mValueError\u001b[0m: I/O operation on closed file"
     ]
    }
   ],
   "source": [
    "g.write(\"writing a new line\")"
   ]
  },
  {
   "cell_type": "code",
   "execution_count": 53,
   "metadata": {
    "collapsed": false
   },
   "outputs": [
    {
     "name": "stdout",
     "output_type": "stream",
     "text": [
      "True\n",
      "<closed file 'newfile.txt', mode 'wb' at 0x7fa210042810>\n"
     ]
    }
   ],
   "source": [
    "# g.closed\n",
    "print g.closed\n",
    "print g"
   ]
  },
  {
   "cell_type": "code",
   "execution_count": 54,
   "metadata": {
    "collapsed": false
   },
   "outputs": [
    {
     "name": "stdout",
     "output_type": "stream",
     "text": [
      "False\n",
      "<open file 'file1.txt', mode 'rb' at 0x7fa210042030>\n"
     ]
    }
   ],
   "source": [
    "print f.closed\n",
    "print f "
   ]
  },
  {
   "cell_type": "code",
   "execution_count": 55,
   "metadata": {
    "collapsed": false
   },
   "outputs": [
    {
     "name": "stdout",
     "output_type": "stream",
     "text": [
      "the file is closed , please open it\n"
     ]
    }
   ],
   "source": [
    "# conditional operations\n",
    "if g.closed:\n",
    "    print \"the file is closed , please open it\"\n",
    "else:\n",
    "    g.write(\"writing a new line\")"
   ]
  },
  {
   "cell_type": "code",
   "execution_count": 56,
   "metadata": {
    "collapsed": false
   },
   "outputs": [
    {
     "name": "stdout",
     "output_type": "stream",
     "text": [
      "buddy pleae open the file\n"
     ]
    }
   ],
   "source": [
    "# exceptions\n",
    "\n",
    "try:\n",
    "     g.write(\"writing a new line\")\n",
    "except ValueError:\n",
    "    print \"buddy pleae open the file\"\n",
    "else:\n",
    "    print \"you are able to write into the file.\"\n",
    "    "
   ]
  },
  {
   "cell_type": "code",
   "execution_count": 57,
   "metadata": {
    "collapsed": false
   },
   "outputs": [
    {
     "name": "stdout",
     "output_type": "stream",
     "text": [
      "<closed file 'newfile.txt', mode 'wb' at 0x7fa210042810>\n",
      "True\n",
      "<closed file 'newfile.txt', mode 'ab' at 0x7fa2100429c0>\n",
      "True\n"
     ]
    }
   ],
   "source": [
    "# with\n",
    "print g\n",
    "print g.closed\n",
    "with open('newfile.txt','ab') as g:\n",
    "    g.write(\"\\n writing a new line \\n\")\n",
    "print g\n",
    "print g.closed"
   ]
  },
  {
   "cell_type": "code",
   "execution_count": 59,
   "metadata": {
    "collapsed": false
   },
   "outputs": [
    {
     "name": "stdout",
     "output_type": "stream",
     "text": [
      "Help on built-in function writelines:\n",
      "\n",
      "writelines(...)\n",
      "    writelines(sequence_of_strings) -> None.  Write the strings to the file.\n",
      "    \n",
      "    Note that newlines are not added.  The sequence can be any iterable object\n",
      "    producing strings. This is equivalent to calling write() for each string.\n",
      "\n",
      "None\n"
     ]
    }
   ],
   "source": [
    "# writelines\n",
    "print help(g.writelines)"
   ]
  },
  {
   "cell_type": "code",
   "execution_count": 60,
   "metadata": {
    "collapsed": false
   },
   "outputs": [
    {
     "name": "stdout",
     "output_type": "stream",
     "text": [
      "['This is my line1.\\n', 'This is my line2.\\n', 'This is my line3.\\n', 'This is my line4.']\n"
     ]
    }
   ],
   "source": [
    "print my_lines"
   ]
  },
  {
   "cell_type": "code",
   "execution_count": 61,
   "metadata": {
    "collapsed": true
   },
   "outputs": [],
   "source": [
    "h = open(\"newfile.txt\",\"ab\")\n",
    "h.writelines(my_lines)\n",
    "h.flush()"
   ]
  },
  {
   "cell_type": "raw",
   "metadata": {},
   "source": [
    "# isatty\n",
    "tcloudost@tcloudost-VirtualBox ~ $ tty\n",
    "/dev/pts/2\n",
    "tcloudost@tcloudost-VirtualBox ~ $ \n"
   ]
  },
  {
   "cell_type": "code",
   "execution_count": 69,
   "metadata": {
    "collapsed": true
   },
   "outputs": [],
   "source": [
    "i = open('/dev/pts/2',\"w\")\n",
    "i.write(\"\\n lets go for breakfast \\n\")"
   ]
  },
  {
   "cell_type": "code",
   "execution_count": 71,
   "metadata": {
    "collapsed": false
   },
   "outputs": [
    {
     "name": "stdout",
     "output_type": "stream",
     "text": [
      "True\n"
     ]
    }
   ],
   "source": [
    "print i.isatty()"
   ]
  },
  {
   "cell_type": "code",
   "execution_count": 72,
   "metadata": {
    "collapsed": true
   },
   "outputs": [],
   "source": [
    "i.close()"
   ]
  },
  {
   "cell_type": "code",
   "execution_count": 73,
   "metadata": {
    "collapsed": false
   },
   "outputs": [
    {
     "name": "stdout",
     "output_type": "stream",
     "text": [
      "<open file 'newfile.txt', mode 'ab' at 0x7fa210042ae0>\n"
     ]
    }
   ],
   "source": [
    "print h"
   ]
  },
  {
   "cell_type": "code",
   "execution_count": 74,
   "metadata": {
    "collapsed": false
   },
   "outputs": [
    {
     "name": "stdout",
     "output_type": "stream",
     "text": [
      "False\n"
     ]
    }
   ],
   "source": [
    "print h.isatty()"
   ]
  },
  {
   "cell_type": "code",
   "execution_count": null,
   "metadata": {
    "collapsed": true
   },
   "outputs": [],
   "source": [
    "# pickle,excel,\n",
    "# json,yaml,xml"
   ]
  },
  {
   "cell_type": "code",
   "execution_count": null,
   "metadata": {
    "collapsed": true
   },
   "outputs": [],
   "source": [
    "# pickle"
   ]
  },
  {
   "cell_type": "code",
   "execution_count": 1,
   "metadata": {
    "collapsed": true
   },
   "outputs": [],
   "source": [
    "my_trainings = [\"linux\",\"python\",\"django\",\"shell\"]"
   ]
  },
  {
   "cell_type": "code",
   "execution_count": 2,
   "metadata": {
    "collapsed": true
   },
   "outputs": [],
   "source": [
    "f = open(\"my_train.txt\",\"wb\")"
   ]
  },
  {
   "cell_type": "code",
   "execution_count": 6,
   "metadata": {
    "collapsed": false
   },
   "outputs": [
    {
     "name": "stdout",
     "output_type": "stream",
     "text": [
      "Help on function dump in module pickle:\n",
      "\n",
      "dump(obj, file, protocol=None)\n",
      "\n",
      "None\n"
     ]
    }
   ],
   "source": [
    "import pickle as p\n",
    "# pickling\n",
    "print help(p.dump)\n",
    "p.dump(my_trainings,f)\n",
    "f.close()"
   ]
  },
  {
   "cell_type": "code",
   "execution_count": 8,
   "metadata": {
    "collapsed": false
   },
   "outputs": [
    {
     "name": "stdout",
     "output_type": "stream",
     "text": [
      "Help on function load in module pickle:\n",
      "\n",
      "load(file)\n",
      "\n",
      "None\n"
     ]
    }
   ],
   "source": [
    "# unpickling\n",
    "print help(p.load)\n",
    "\n",
    "g = open(\"my_train.txt\",\"rb\")\n",
    "new_trainings = p.load(g)"
   ]
  },
  {
   "cell_type": "code",
   "execution_count": 9,
   "metadata": {
    "collapsed": false
   },
   "outputs": [
    {
     "name": "stdout",
     "output_type": "stream",
     "text": [
      "['linux', 'python', 'django', 'devops']\n"
     ]
    }
   ],
   "source": [
    "print new_trainings"
   ]
  },
  {
   "cell_type": "code",
   "execution_count": null,
   "metadata": {
    "collapsed": true
   },
   "outputs": [],
   "source": [
    "# json"
   ]
  },
  {
   "cell_type": "code",
   "execution_count": null,
   "metadata": {
    "collapsed": true
   },
   "outputs": [],
   "source": [
    "# installation of another module excel"
   ]
  },
  {
   "cell_type": "raw",
   "metadata": {},
   "source": [
    "tcloudost@tcloudost-VirtualBox ~/Documents/git_repositories/python-batches/batch-57/files $ ls\n",
    "file1.txt  Learning_files.ipynb  my_train.txt  names.xls  newfile.txt\n",
    "tcloudost@tcloudost-VirtualBox ~/Documents/git_repositories/python-batches/batch-57/files $ virtualenv sheets\n",
    "New python executable in sheets/bin/python\n",
    "Installing setuptools, pip...done.\n",
    "tcloudost@tcloudost-VirtualBox ~/Documents/git_repositories/python-batches/batch-57/files $ ls\n",
    "file1.txt  Learning_files.ipynb  my_train.txt  names.xls  newfile.txt  sheets\n",
    "tcloudost@tcloudost-VirtualBox ~/Documents/git_repositories/python-batches/batch-57/files $ source sheets/bin/activate\n",
    "(sheets)tcloudost@tcloudost-VirtualBox ~/Documents/git_repositories/python-batches/batch-57/files $ pip freeze\n",
    "argparse==1.2.1\n",
    "wsgiref==0.1.2\n",
    "(sheets)tcloudost@tcloudost-VirtualBox ~/Documents/git_repositories/python-batches/batch-57/files $ pip install excel\n",
    "Downloading/unpacking excel\n",
    "  Downloading excel-1.0.0.tar.gz\n",
    "  Running setup.py (path:/home/tcloudost/Documents/git_repositories/python-batches/batch-57/files/sheets/build/excel/setup.py) egg_info for package excel\n",
    "    \n",
    "Downloading/unpacking xlrd (from excel)\n",
    "  Downloading xlrd-1.0.0.tar.gz (2.6MB): 2.6MB downloaded\n",
    "  Running setup.py (path:/home/tcloudost/Documents/git_repositories/python-batches/batch-57/files/sheets/build/xlrd/setup.py) egg_info for package xlrd\n",
    "    \n",
    "    warning: no files found matching 'README.html'\n",
    "Installing collected packages: excel, xlrd\n",
    "  Running setup.py install for excel\n",
    "    \n",
    "  Running setup.py install for xlrd\n",
    "    changing mode of build/scripts-2.7/runxlrd.py from 644 to 755\n",
    "    \n",
    "    warning: no files found matching 'README.html'\n",
    "    changing mode of /home/tcloudost/Documents/git_repositories/python-batches/batch-57/files/sheets/bin/runxlrd.py to 755\n",
    "Successfully installed excel xlrd\n",
    "Cleaning up...\n",
    "(sheets)tcloudost@tcloudost-VirtualBox ~/Documents/git_repositories/python-batches/batch-57/files $ pip freeze\n",
    "argparse==1.2.1\n",
    "excel==1.0.0\n",
    "wsgiref==0.1.2\n",
    "xlrd==1.0.0\n",
    "(sheets)tcloudost@tcloudost-VirtualBox ~/Documents/git_repositories/python-batches"
   ]
  },
  {
   "cell_type": "code",
   "execution_count": null,
   "metadata": {
    "collapsed": true
   },
   "outputs": [],
   "source": [
    "# xml parsing : https://www.tutorialspoint.com/python/python_xml_processing.htm"
   ]
  }
 ],
 "metadata": {
  "kernelspec": {
   "display_name": "Python 2",
   "language": "python",
   "name": "python2"
  },
  "language_info": {
   "codemirror_mode": {
    "name": "ipython",
    "version": 2
   },
   "file_extension": ".py",
   "mimetype": "text/x-python",
   "name": "python",
   "nbconvert_exporter": "python",
   "pygments_lexer": "ipython2",
   "version": "2.7.6"
  }
 },
 "nbformat": 4,
 "nbformat_minor": 1
}
