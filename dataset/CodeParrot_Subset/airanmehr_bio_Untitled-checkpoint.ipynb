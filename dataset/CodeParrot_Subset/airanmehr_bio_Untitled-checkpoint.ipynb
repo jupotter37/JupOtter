{
 "cells": [
  {
   "cell_type": "code",
   "execution_count": 2,
   "metadata": {},
   "outputs": [],
   "source": [
    "%matplotlib inline\n",
    "import matplotlib as mpl\n",
    "mpl.use('agg')\n",
    "import os\n",
    "# os.environ[\"DISPLAY\"] = \"localhost:11.0\"\n",
    "import numpy as np\n",
    "import matplotlib.pyplot as plt\n",
    "import sys,os\n",
    "path='/'.join(os.getcwd().split('/')[:-4])\n",
    "sys.path.insert(1,path)\n",
    "import Utils.Util as utl\n",
    "import Utils.Plots as pplt\n",
    "import pandas as pd\n",
    "pd.options.display.max_rows = 20;\n",
    "pd.options.display.expand_frame_repr = True\n",
    "from IPython.display import display\n",
    "import pylab as plt\n",
    "import seaborn as sns\n",
    "import Scripts.KyrgysHAPH.Util as kutl\n",
    "import Scripts.KyrgysHAPH.Plot as kplt\n",
    "import Scripts.HLI.Kyrgyz.IBSScan.IBDScan as ibd\n",
    "import Scripts.HLI.Kyrgyz.PBS as pbs\n",
    "pd.options.display.max_colwidth = 2000;\n",
    "import matplotlib as mpl\n"
   ]
  },
  {
   "cell_type": "code",
   "execution_count": 74,
   "metadata": {},
   "outputs": [
    {
     "data": {
      "text/plain": [
       "HLT    187524477\n",
       "HLT    187524476\n",
       "HLT    187524475\n",
       "HLT    187524470\n",
       "HLT    187524469\n",
       "HLT    187524459\n",
       "HLT    187524460\n",
       "HLT    187524461\n",
       "HLT    187524462\n",
       "HLT    187524466\n",
       "         ...    \n",
       "HLT    201852645\n",
       "HLT    201852644\n",
       "HLT    201852646\n",
       "HLT    201852670\n",
       "HLT    201852658\n",
       "HLT    201852669\n",
       "HLT    201852665\n",
       "HLT    201852663\n",
       "HLT    201852667\n",
       "HLT    201852664\n",
       "Length: 72, dtype: object"
      ]
     },
     "execution_count": 74,
     "metadata": {},
     "output_type": "execute_result"
    }
   ],
   "source": [
    "i=pd.Series({'CHROM':22,'start':26099429,'end':27203877})\n",
    "f='/home/arya/POP/HA/GT/chr22.vcf.gz.aa.gz'\n",
    "reload(kutl)\n",
    "# utl.gz.FreqPop(pop='KGZ')\n",
    "# kutl.AllPops()\n",
    "# kutl.ID('HLT')"
   ]
  },
  {
   "cell_type": "code",
   "execution_count": null,
   "metadata": {
    "collapsed": true
   },
   "outputs": [],
   "source": [
    "i"
   ]
  },
  {
   "cell_type": "code",
   "execution_count": 57,
   "metadata": {},
   "outputs": [
    {
     "name": "stdout",
     "output_type": "stream",
     "text": [
      "(162558, 33)\n",
      "(7167, 33)\n"
     ]
    }
   ],
   "source": [
    "# MINAC = 3\n",
    "AFCF=0.05\n",
    "# a= a[((a.sum(1) > MINAC) & (a.sum(1) < a.shape[1] * MINAC))]\n",
    "print a.shape\n",
    "a=a[(a[p1].mean(1) / 2 - a[p2].mean(1) / 2).abs() > AFCF]\n",
    "print a.shape"
   ]
  }
 ],
 "metadata": {
  "kernelspec": {
   "display_name": "Python 2",
   "language": "python",
   "name": "python2"
  },
  "language_info": {
   "codemirror_mode": {
    "name": "ipython",
    "version": 2
   },
   "file_extension": ".py",
   "mimetype": "text/x-python",
   "name": "python",
   "nbconvert_exporter": "python",
   "pygments_lexer": "ipython2",
   "version": "2.7.12"
  }
 },
 "nbformat": 4,
 "nbformat_minor": 2
}
