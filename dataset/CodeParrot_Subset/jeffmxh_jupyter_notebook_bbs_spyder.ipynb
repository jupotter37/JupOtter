{
 "cells": [
  {
   "cell_type": "code",
   "execution_count": 1,
   "metadata": {
    "collapsed": true
   },
   "outputs": [],
   "source": [
    "import re\n",
    "import requests\n",
    "import pandas as pd \n",
    "import time\n",
    "\n",
    "from bs4 import BeautifulSoup   \n",
    "import bs4 "
   ]
  },
  {
   "cell_type": "code",
   "execution_count": 2,
   "metadata": {
    "collapsed": false,
    "scrolled": true
   },
   "outputs": [],
   "source": [
    "def gen_homeURL(start_index):\n",
    "    homeURL = ('http://bbs.nju.edu.cn/bbsdoc?board=NJU_HOME&start={}&type=doc').format(start_index)\n",
    "    return homeURL"
   ]
  },
  {
   "cell_type": "code",
   "execution_count": 3,
   "metadata": {
    "collapsed": false,
    "scrolled": true
   },
   "outputs": [],
   "source": [
    "def check_link(url):  \n",
    "    try:    \n",
    "        r = requests.get(url)  \n",
    "        r.raise_for_status()  \n",
    "        r.encoding = r.apparent_encoding  \n",
    "        return r.text  \n",
    "    except:  \n",
    "        print('无法链接服务器！！！')  "
   ]
  },
  {
   "cell_type": "code",
   "execution_count": 4,
   "metadata": {
    "collapsed": false,
    "scrolled": true
   },
   "outputs": [],
   "source": [
    "def get_map(start_index):\n",
    "    home_url = gen_homeURL(start_index)\n",
    "    rs = check_link(home_url)  \n",
    "\n",
    "    soup = BeautifulSoup(rs,'lxml')  \n",
    "    trs = soup.find_all('a')[4:]\n",
    "\n",
    "    user_list_raw = trs[0:40:2]\n",
    "    text_list = trs[1:41:2]\n",
    "\n",
    "    user_list = [x.string for x in user_list_raw]\n",
    "    title_list = [x.string for x in text_list]\n",
    "    href_list = [x.get('href') for x in text_list]\n",
    "    url_list = ['http://bbs.nju.edu.cn/' + x for x in href_list]\n",
    "    return user_list, title_list, url_list"
   ]
  },
  {
   "cell_type": "code",
   "execution_count": 16,
   "metadata": {
    "collapsed": false
   },
   "outputs": [],
   "source": [
    "def get_article(url):\n",
    "    raw_text = requests.get(url, verify=False)\n",
    "    soup = BeautifulSoup(raw_text.text, 'lxml')\n",
    "    articles = soup.find_all('textarea')\n",
    "    result = articles[0].string\n",
    "    return result"
   ]
  },
  {
   "cell_type": "code",
   "execution_count": 17,
   "metadata": {
    "collapsed": false,
    "scrolled": true
   },
   "outputs": [
    {
     "name": "stdout",
     "output_type": "stream",
     "text": [
      "fetching url list, 10 of 90 finished!, size = 200\n",
      "fetching url list, 20 of 90 finished!, size = 400\n",
      "fetching url list, 30 of 90 finished!, size = 600\n",
      "fetching url list, 40 of 90 finished!, size = 800\n",
      "fetching url list, 50 of 90 finished!, size = 1000\n",
      "fetching url list, 60 of 90 finished!, size = 1200\n",
      "fetching url list, 70 of 90 finished!, size = 1400\n",
      "fetching url list, 80 of 90 finished!, size = 1600\n",
      "fetching url list, 90 of 90 finished!, size = 1800\n",
      "fetching articles, 100 of 1800 finished!, size = 100\n",
      "fetching articles, 200 of 1800 finished!, size = 200\n",
      "fetching articles, 300 of 1800 finished!, size = 300\n",
      "fetching articles, 400 of 1800 finished!, size = 400\n",
      "fetching articles, 500 of 1800 finished!, size = 500\n",
      "fetching articles, 600 of 1800 finished!, size = 600\n",
      "fetching articles, 700 of 1800 finished!, size = 700\n",
      "fetching articles, 800 of 1800 finished!, size = 800\n",
      "fetching articles, 900 of 1800 finished!, size = 900\n",
      "fetching articles, 1000 of 1800 finished!, size = 1000\n",
      "fetching articles, 1100 of 1800 finished!, size = 1100\n",
      "fetching articles, 1200 of 1800 finished!, size = 1200\n",
      "fetching articles, 1300 of 1800 finished!, size = 1300\n",
      "fetching articles, 1400 of 1800 finished!, size = 1400\n",
      "fetching articles, 1500 of 1800 finished!, size = 1500\n",
      "fetching articles, 1600 of 1800 finished!, size = 1600\n",
      "fetching articles, 1700 of 1800 finished!, size = 1700\n",
      "fetching articles, 1800 of 1800 finished!, size = 1800\n"
     ]
    }
   ],
   "source": [
    "# def main():\n",
    "start_num = range(20, 1801, 20)\n",
    "user_list = []\n",
    "title_list = []\n",
    "url_list = []\n",
    "content_list = []\n",
    "for i,start_index in enumerate(start_num):\n",
    "    users, titles, urls = get_map(start_index)\n",
    "    user_list.extend(users)\n",
    "    title_list.extend(titles)\n",
    "    url_list.extend(urls)\n",
    "    if (i+1) % 10 == 0:\n",
    "        print('fetching url list, %d of %d finished!, size = %d' % (i+1, len(start_num), len(user_list)))\n",
    "    time.sleep(0.5)\n",
    "\n",
    "for i,url in enumerate(url_list):\n",
    "    try:\n",
    "        text = get_article(url)\n",
    "    except:\n",
    "        text = '空'\n",
    "    content_list.append(text)\n",
    "    if (i+1) % 100 == 0:\n",
    "        print('fetching articles, %d of %d finished!, size = %d' % (i+1, len(url_list), len(content_list)))\n",
    "    time.sleep(0.5)\n",
    "result = pd.DataFrame({'title':title_list, 'user':user_list, 'url':url_list, 'content':content_list}, \n",
    "                  columns = ['title', 'user', 'url', 'content'])\n",
    "# main()"
   ]
  },
  {
   "cell_type": "code",
   "execution_count": 20,
   "metadata": {
    "collapsed": false
   },
   "outputs": [
    {
     "name": "stdout",
     "output_type": "stream",
     "text": [
      "save result to excel...\n",
      "task done.\n"
     ]
    }
   ],
   "source": [
    "print('save result to excel...')\n",
    "writer = pd.ExcelWriter('fetch_data.xlsx')\n",
    "result.to_excel(writer, sheet_name='bbs', encoding = 'utf-8', index = False)\n",
    "writer.save()\n",
    "print('task done.')"
   ]
  },
  {
   "cell_type": "code",
   "execution_count": 23,
   "metadata": {
    "collapsed": false
   },
   "outputs": [
    {
     "name": "stdout",
     "output_type": "stream",
     "text": [
      "发信人dreamfly宁静致远信区NJU_HOME本篇人气772标题南大和园仙林三室两厅毛坯房出租发信站南京大学小百合站TueMar11640122011南大和园仙林三室两厅110平米毛坯房出租有意者请站内联系谢谢134m来源南京大学小百合站httpbbsnjueducnFROM202119569m\n"
     ]
    },
    {
     "data": {
      "text/plain": [
       "'发信人: dreamfly (宁静致远), 信区: NJU_HOME. 本篇人气: 772\\n标  题: 南大和园（仙林）三室两厅毛坯房出租\\n发信站: 南京大学小百合站 (Tue Mar  1 16:40:12 2011)\\n\\n\\r\\n    南大和园（仙林）三室两厅（110平米）毛坯房出租，有意者请站内联系，谢谢。\\r\\n\\r\\n\\n--\\n\\n[1;34m※ 来源:．南京大学小百合站 http://bbs.nju.edu.cn [FROM: 202.119.56.9][m\\n'"
      ]
     },
     "execution_count": 23,
     "metadata": {},
     "output_type": "execute_result"
    }
   ],
   "source": [
    "print(re.sub('\\W', '', result.content[0]))\n",
    "result.content[0]"
   ]
  }
 ],
 "metadata": {
  "anaconda-cloud": {},
  "kernelspec": {
   "display_name": "Python [conda env:spyder]",
   "language": "python",
   "name": "conda-env-spyder-py"
  },
  "language_info": {
   "codemirror_mode": {
    "name": "ipython",
    "version": 3
   },
   "file_extension": ".py",
   "mimetype": "text/x-python",
   "name": "python",
   "nbconvert_exporter": "python",
   "pygments_lexer": "ipython3",
   "version": "3.6.2"
  }
 },
 "nbformat": 4,
 "nbformat_minor": 1
}
