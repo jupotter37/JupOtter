{
  "cells": [
    {
      "cell_type": "code",
      "execution_count": null,
      "metadata": {
        "collapsed": false
      },
      "outputs": [],
      "source": [
        "%matplotlib inline"
      ]
    },
    {
      "cell_type": "markdown",
      "metadata": {},
      "source": [
        "\n# MEGSIM single trial simulation dataset\n\n\nThe MEGSIM consists of experimental and simulated MEG data\nwhich can be useful for reproducing research results.\n\nThe MEGSIM files will be dowloaded automatically.\n\nThe datasets are documented in:\nAine CJ, Sanfratello L, Ranken D, Best E, MacArthur JA, Wallace T,\nGilliam K, Donahue CH, Montano R, Bryant JE, Scott A, Stephen JM\n(2012) MEG-SIM: A Web Portal for Testing MEG Analysis Methods using\nRealistic Simulated and Empirical Data. Neuroinformatics 10:141-158\n\n"
      ]
    },
    {
      "cell_type": "code",
      "execution_count": null,
      "metadata": {
        "collapsed": false
      },
      "outputs": [],
      "source": [
        "from mne import read_evokeds, combine_evoked\nfrom mne.datasets.megsim import load_data\n\nprint(__doc__)\n\ncondition = 'visual'  # or 'auditory' or 'somatosensory'\n\n# Load experimental RAW files for the visual condition\nepochs_fnames = load_data(condition=condition, data_format='single-trial',\n                          data_type='simulation', verbose=True)\n\n# Take only 10 trials from the same simulation setup.\nepochs_fnames = [f for f in epochs_fnames if 'sim6_trial_' in f][:10]\n\nevokeds = [read_evokeds(f, verbose='error')[0] for f in epochs_fnames]\nmean_evoked = combine_evoked(evokeds, weights='nave')\n\n# Visualize the average\nmean_evoked.plot(time_unit='s')"
      ]
    }
  ],
  "metadata": {
    "kernelspec": {
      "display_name": "Python 3",
      "language": "python",
      "name": "python3"
    },
    "language_info": {
      "codemirror_mode": {
        "name": "ipython",
        "version": 3
      },
      "file_extension": ".py",
      "mimetype": "text/x-python",
      "name": "python",
      "nbconvert_exporter": "python",
      "pygments_lexer": "ipython3",
      "version": "3.6.5"
    }
  },
  "nbformat": 4,
  "nbformat_minor": 0
}