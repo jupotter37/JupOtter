{
 "cells": [
  {
   "cell_type": "code",
   "execution_count": 1,
   "metadata": {
    "collapsed": true
   },
   "outputs": [],
   "source": [
    "import pandas as pd, json, numpy as np\n",
    "import matplotlib.pyplot as plt\n",
    "from bs4 import BeautifulSoup\n",
    "%matplotlib inline"
   ]
  },
  {
   "cell_type": "markdown",
   "metadata": {},
   "source": [
    "Load airports of each country"
   ]
  },
  {
   "cell_type": "code",
   "execution_count": 2,
   "metadata": {
    "collapsed": false
   },
   "outputs": [],
   "source": [
    "L=json.loads(file('../json/L.json','r').read())\n",
    "M=json.loads(file('../json/M.json','r').read())\n",
    "N=json.loads(file('../json/N.json','r').read())"
   ]
  },
  {
   "cell_type": "code",
   "execution_count": 3,
   "metadata": {
    "collapsed": true
   },
   "outputs": [],
   "source": [
    "import requests"
   ]
  },
  {
   "cell_type": "code",
   "execution_count": 4,
   "metadata": {
    "collapsed": false
   },
   "outputs": [],
   "source": [
    "AP={}\n",
    "for c in M:\n",
    "    if c not in AP:AP[c]={}\n",
    "    for i in range(len(L[c])):\n",
    "        AP[c][N[c][i]]=L[c][i]"
   ]
  },
  {
   "cell_type": "markdown",
   "metadata": {},
   "source": [
    "record schedules for 2 weeks, then augment count with weekly flight numbers.\n",
    "seasonal and seasonal charter will count as once per week for 3 months, so 12/52 per week. TGM separate, since its history is in the past."
   ]
  },
  {
   "cell_type": "markdown",
   "metadata": {},
   "source": [
    "parse Departures"
   ]
  },
  {
   "cell_type": "code",
   "execution_count": 5,
   "metadata": {
    "collapsed": true
   },
   "outputs": [],
   "source": [
    "baseurl='https://www.airportia.com/'\n",
    "import requests, urllib2"
   ]
  },
  {
   "cell_type": "code",
   "execution_count": 6,
   "metadata": {
    "collapsed": true
   },
   "outputs": [],
   "source": [
    "def urlgetter(url):\n",
    "    s = requests.Session()\n",
    "    cookiesopen = s.get(url)\n",
    "    cookies=str(s.cookies)\n",
    "    fcookies=[[k[:k.find('=')],k[k.find('=')+1:k.find(' for ')]] for k in cookies[cookies.find('Cookie '):].split('Cookie ')[1:]]\n",
    "    #push token\n",
    "    opener = urllib2.build_opener()\n",
    "    for k in fcookies:\n",
    "        opener.addheaders.append(('Cookie', k[0]+'='+k[1]))\n",
    "    #read html\n",
    "    return s.get(url).content"
   ]
  },
  {
   "cell_type": "markdown",
   "metadata": {},
   "source": [
    "good dates"
   ]
  },
  {
   "cell_type": "code",
   "execution_count": 8,
   "metadata": {
    "collapsed": true
   },
   "outputs": [],
   "source": [
    "SD={}\n",
    "SC=json.loads(file('../json/SC2.json','r').read())"
   ]
  },
  {
   "cell_type": "code",
   "execution_count": 9,
   "metadata": {
    "collapsed": false,
    "scrolled": true
   },
   "outputs": [
    {
     "name": "stdout",
     "output_type": "stream",
     "text": [
      "2 Turkmenistan\n",
      "CRZ ASB KRW TAZ MYP\n",
      "3 Lithuania\n",
      "VNO KUN PLQ\n",
      "4 FYR of Macedonia\n",
      "OHD --W- 5 SKP\n"
     ]
    }
   ],
   "source": [
    "for h in range(2,5):#len(AP.keys())):\n",
    "    c=AP.keys()[h]\n",
    "    #country not parsed yet\n",
    "    if c in SC:\n",
    "        if c not in SD:\n",
    "            SD[c]=[]\n",
    "            print h,c\n",
    "            airportialinks=AP[c]\n",
    "            sch={}\n",
    "            #all airports of country, where there is traffic\n",
    "            for i in airportialinks:\n",
    "                if i in SC[c]:\n",
    "                    print i,\n",
    "                    if i not in sch:sch[i]={}\n",
    "                    url=baseurl+airportialinks[i]\n",
    "                    m=urlgetter(url)\n",
    "                    for d in range (3,7):\n",
    "                        #date not parsed yet\n",
    "                        if d not in sch[i]:\n",
    "                            url=baseurl+airportialinks[i]+'departures/201704'+str(d)\n",
    "                            m=urlgetter(url)\n",
    "                            soup = BeautifulSoup(m, \"lxml\")\n",
    "                            #if there are flights at all\n",
    "                            if len(soup.findAll('table'))>0:\n",
    "                                sch[i][d]=pd.read_html(m)[0] \n",
    "                            else: print '--W-',d,\n",
    "            SD[c]=sch\n",
    "            print "
   ]
  },
  {
   "cell_type": "markdown",
   "metadata": {
    "collapsed": true
   },
   "source": [
    "Save"
   ]
  },
  {
   "cell_type": "code",
   "execution_count": 12,
   "metadata": {
    "collapsed": true
   },
   "outputs": [],
   "source": [
    "cnc_path='../../universal/countries/'\n",
    "cnc=pd.read_excel(cnc_path+'cnc.xlsx').set_index('Name')"
   ]
  },
  {
   "cell_type": "code",
   "execution_count": 13,
   "metadata": {
    "collapsed": true
   },
   "outputs": [],
   "source": [
    "MDF=pd.DataFrame()"
   ]
  },
  {
   "cell_type": "code",
   "execution_count": 14,
   "metadata": {
    "collapsed": false
   },
   "outputs": [],
   "source": [
    "for c in SD:\n",
    "    sch=SD[c]\n",
    "    mdf=pd.DataFrame()\n",
    "    for i in sch:\n",
    "        for d in sch[i]:\n",
    "            df=sch[i][d].drop(sch[i][d].columns[3:],axis=1).drop(sch[i][d].columns[0],axis=1)\n",
    "            df['From']=i\n",
    "            df['Date']=d\n",
    "            mdf=pd.concat([mdf,df])\n",
    "    mdf=mdf.replace('Hahn','Frankfurt')\n",
    "    mdf=mdf.replace('Hahn HHN','Frankfurt HHN')\n",
    "    mdf['City']=[i[:i.rfind(' ')] for i in mdf['To']]\n",
    "    mdf['Airport']=[i[i.rfind(' ')+1:] for i in mdf['To']]\n",
    "    file('../countries/'+cnc.T.loc[c]['ISO2'].lower()+\"/json/mdf_dest.json\",'w').write(json.dumps(mdf.reset_index().to_json()))\n",
    "    MDF=pd.concat([MDF,mdf])"
   ]
  },
  {
   "cell_type": "code",
   "execution_count": 18,
   "metadata": {
    "collapsed": false
   },
   "outputs": [],
   "source": [
    "MDF.reset_index().to_json('../json/MDF.json')"
   ]
  }
 ],
 "metadata": {
  "anaconda-cloud": {},
  "kernelspec": {
   "display_name": "Python [conda root]",
   "language": "python",
   "name": "conda-root-py"
  },
  "language_info": {
   "codemirror_mode": {
    "name": "ipython",
    "version": 2
   },
   "file_extension": ".py",
   "mimetype": "text/x-python",
   "name": "python",
   "nbconvert_exporter": "python",
   "pygments_lexer": "ipython2",
   "version": "2.7.13"
  }
 },
 "nbformat": 4,
 "nbformat_minor": 1
}
