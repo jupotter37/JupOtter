{
 "cells": [
  {
   "cell_type": "code",
   "execution_count": 1,
   "metadata": {
    "collapsed": false
   },
   "outputs": [],
   "source": [
    "import fim"
   ]
  },
  {
   "cell_type": "code",
   "execution_count": 2,
   "metadata": {
    "collapsed": true
   },
   "outputs": [],
   "source": [
    "import pandas as pd"
   ]
  },
  {
   "cell_type": "code",
   "execution_count": 13,
   "metadata": {
    "collapsed": false
   },
   "outputs": [],
   "source": [
    "df = pd.read_csv('clause-segment-relation.csv', index_col=0)"
   ]
  },
  {
   "cell_type": "code",
   "execution_count": 14,
   "metadata": {
    "collapsed": false
   },
   "outputs": [
    {
     "data": {
      "text/html": [
       "<div>\n",
       "<table border=\"1\" class=\"dataframe\">\n",
       "  <thead>\n",
       "    <tr style=\"text-align: right;\">\n",
       "      <th></th>\n",
       "      <th>clause</th>\n",
       "      <th>segment</th>\n",
       "      <th>relation</th>\n",
       "    </tr>\n",
       "  </thead>\n",
       "  <tbody>\n",
       "    <tr>\n",
       "      <th>0</th>\n",
       "      <td>S</td>\n",
       "      <td>satellite</td>\n",
       "      <td>cause</td>\n",
       "    </tr>\n",
       "    <tr>\n",
       "      <th>1</th>\n",
       "      <td>NP</td>\n",
       "      <td>nucleus</td>\n",
       "      <td>list</td>\n",
       "    </tr>\n",
       "    <tr>\n",
       "      <th>2</th>\n",
       "      <td>S</td>\n",
       "      <td>satellite</td>\n",
       "      <td>condition</td>\n",
       "    </tr>\n",
       "    <tr>\n",
       "      <th>3</th>\n",
       "      <td>S</td>\n",
       "      <td>satellite</td>\n",
       "      <td>condition</td>\n",
       "    </tr>\n",
       "    <tr>\n",
       "      <th>4</th>\n",
       "      <td>S</td>\n",
       "      <td>satellite</td>\n",
       "      <td>condition</td>\n",
       "    </tr>\n",
       "  </tbody>\n",
       "</table>\n",
       "</div>"
      ],
      "text/plain": [
       "  clause    segment   relation\n",
       "0      S  satellite      cause\n",
       "1     NP    nucleus       list\n",
       "2      S  satellite  condition\n",
       "3      S  satellite  condition\n",
       "4      S  satellite  condition"
      ]
     },
     "execution_count": 14,
     "metadata": {},
     "output_type": "execute_result"
    }
   ],
   "source": [
    "df.head()"
   ]
  },
  {
   "cell_type": "code",
   "execution_count": 22,
   "metadata": {
    "collapsed": false
   },
   "outputs": [],
   "source": [
    "row0 = df.iloc[0] # access the first row\n",
    "nrows = len(df) # number of rows in a DataFrame"
   ]
  },
  {
   "cell_type": "code",
   "execution_count": 58,
   "metadata": {
    "collapsed": false
   },
   "outputs": [],
   "source": [
    "# list of rows. each row is represented as\n",
    "# a list of column values\n",
    "tracts = [df.iloc[i].values for i in range(len(df))]"
   ]
  },
  {
   "cell_type": "code",
   "execution_count": 84,
   "metadata": {
    "collapsed": true
   },
   "outputs": [],
   "source": [
    "import fim\n",
    "\n",
    "def dataframe2arules(dataframe, min_support=10, min_confidence=80):\n",
    "    \"\"\"extract association rules from a DataFrame\n",
    "    \n",
    "    Parameters\n",
    "    ----------\n",
    "    min_support : int\n",
    "        at least n rows have to match the rule (default: 10)\n",
    "    min_confidence : int\n",
    "        minimum confidence of an assoc. rule (default: 80%)\n",
    "    \"\"\"\n",
    "    tracts = (dataframe.iloc[i].values\n",
    "              for i in range(len(dataframe)))\n",
    "    return fim.arules(tracts, supp=min_support, conf=min_confidence)"
   ]
  },
  {
   "cell_type": "code",
   "execution_count": 76,
   "metadata": {
    "collapsed": false
   },
   "outputs": [
    {
     "data": {
      "text/plain": [
       "[('satellite', (), 168, 84.84848484848484),\n",
       " ('satellite', ('S',), 127, 86.39455782312925),\n",
       " ('satellite', ('condition',), 60, 93.75),\n",
       " ('satellite', ('condition', 'S'), 60, 95.23809523809523),\n",
       " ('S', ('condition', 'satellite'), 60, 100.0),\n",
       " ('S', ('condition',), 63, 98.4375),\n",
       " ('satellite', ('circumstance',), 21, 95.45454545454545)]"
      ]
     },
     "execution_count": 76,
     "metadata": {},
     "output_type": "execute_result"
    }
   ],
   "source": [
    "dataframe2arules(df)\n",
    "# 168 satellites\n",
    "# 127 S-clause satellites\n",
    "# 60 (S-clause) condition satellites\n",
    "# 21 circumstance satellites"
   ]
  },
  {
   "cell_type": "code",
   "execution_count": 63,
   "metadata": {
    "collapsed": false
   },
   "outputs": [
    {
     "data": {
      "text/plain": [
       "[('satellite', (), 41, 80.3921568627451),\n",
       " ('satellite', ('VP',), 16, 100.0),\n",
       " ('satellite', ('purpose',), 12, 100.0),\n",
       " ('satellite', ('purpose', 'VP'), 10, 100.0),\n",
       " ('VP', ('purpose', 'satellite'), 10, 83.33333333333334),\n",
       " ('VP', ('purpose',), 10, 83.33333333333334),\n",
       " ('NP', ('nucleus',), 8, 80.0),\n",
       " ('satellite', ('PP',), 8, 88.88888888888889)]"
      ]
     },
     "execution_count": 63,
     "metadata": {},
     "output_type": "execute_result"
    }
   ],
   "source": [
    "dataframe2arules(df[df['clause'] != 'S'])"
   ]
  },
  {
   "cell_type": "code",
   "execution_count": 77,
   "metadata": {
    "collapsed": false
   },
   "outputs": [
    {
     "data": {
      "text/plain": [
       "[('nucleus', (), 24, 80.0),\n",
       " ('nucleus', ('NP',), 8, 100.0),\n",
       " ('S', ('span',), 6, 100.0),\n",
       " ('nucleus', ('e-elaboration',), 4, 100.0),\n",
       " ('nucleus', ('e-elaboration', 'NP'), 3, 100.0),\n",
       " ('nucleus', ('sequence',), 4, 100.0),\n",
       " ('nucleus', ('sequence', 'S'), 3, 100.0),\n",
       " ('nucleus', ('list',), 4, 100.0),\n",
       " ('nucleus', ('elaboration',), 3, 100.0),\n",
       " ('nucleus', ('elaboration', 'S'), 3, 100.0),\n",
       " ('S', ('elaboration', 'nucleus'), 3, 100.0),\n",
       " ('S', ('elaboration',), 3, 100.0),\n",
       " ('nucleus', ('contrast',), 3, 100.0),\n",
       " ('nucleus', ('contrast', 'S'), 3, 100.0),\n",
       " ('S', ('contrast', 'nucleus'), 3, 100.0),\n",
       " ('S', ('contrast',), 3, 100.0)]"
      ]
     },
     "execution_count": 77,
     "metadata": {},
     "output_type": "execute_result"
    }
   ],
   "source": [
    "dataframe2arules(df[df['segment'] != 'satellite'])\n",
    "# 24 nucleii\n",
    "# 8 NP-clause nucleii"
   ]
  },
  {
   "cell_type": "code",
   "execution_count": 83,
   "metadata": {
    "collapsed": false
   },
   "outputs": [
    {
     "data": {
      "text/plain": [
       "[('satellite', (), 108, 80.59701492537313),\n",
       " ('satellite', ('circumstance',), 21, 95.45454545454545),\n",
       " ('satellite', ('circumstance', 'S'), 16, 94.11764705882352),\n",
       " ('satellite', ('cause',), 17, 89.47368421052632),\n",
       " ('satellite', ('cause', 'S'), 15, 93.75),\n",
       " ('S', ('cause', 'satellite'), 15, 88.23529411764706),\n",
       " ('S', ('cause',), 16, 84.21052631578947),\n",
       " ('satellite', ('purpose',), 16, 100.0),\n",
       " ('satellite', ('VP',), 16, 100.0)]"
      ]
     },
     "execution_count": 83,
     "metadata": {},
     "output_type": "execute_result"
    }
   ],
   "source": [
    "dataframe2arules(df[df['relation'] != 'condition'])"
   ]
  },
  {
   "cell_type": "code",
   "execution_count": null,
   "metadata": {
    "collapsed": true
   },
   "outputs": [],
   "source": []
  }
 ],
 "metadata": {
  "kernelspec": {
   "display_name": "Python 2",
   "language": "python",
   "name": "python2"
  },
  "language_info": {
   "codemirror_mode": {
    "name": "ipython",
    "version": 2
   },
   "file_extension": ".py",
   "mimetype": "text/x-python",
   "name": "python",
   "nbconvert_exporter": "python",
   "pygments_lexer": "ipython2",
   "version": "2.7.6"
  }
 },
 "nbformat": 4,
 "nbformat_minor": 0
}
