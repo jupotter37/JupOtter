{
 "cells": [
  {
   "cell_type": "code",
   "execution_count": 23,
   "metadata": {},
   "outputs": [],
   "source": [
    "#import sys\n",
    "#sys.path.append(\"/home/pospelov/development/BornAgain/installed/lib/BornAgain-1.14\")\n",
    "import bornagain as ba\n",
    "from bornagain import deg, angstrom\n"
   ]
  },
  {
   "cell_type": "code",
   "execution_count": 24,
   "metadata": {},
   "outputs": [],
   "source": [
    "air = ba.Layer(ba.HomogeneousMaterial(\"Air\", 0.0, 0.0))\n",
    "substrate = ba.Layer(ba.HomogeneousMaterial(\"Substrate\", 6e-6, 2e-8))\n",
    "\n",
    "multi_layer = ba.MultiLayer()\n",
    "multi_layer.addLayer(air)\n",
    "multi_layer.addLayer(substrate)"
   ]
  },
  {
   "cell_type": "code",
   "execution_count": 25,
   "metadata": {},
   "outputs": [],
   "source": [
    "simulation = ba.GISASSimulation()\n",
    "simulation.setDetectorParameters(100, -2.0*deg, 2.0*deg, 100, 0.0*deg, 2.0*deg)\n",
    "simulation.setBeamParameters(1.0*angstrom, 0.2*deg, 0.0*deg)\n",
    "simulation.setSample(multi_layer)"
   ]
  },
  {
   "cell_type": "code",
   "execution_count": 26,
   "metadata": {},
   "outputs": [
    {
     "name": "stdout",
     "output_type": "stream",
     "text": [
      "GISASSimulation\n",
      "....Instrument\n",
      "........Beam ('Intensity':1 'Wavelength':0.1 'InclinationAngle':0.00349066 'AzimuthalAngle':0 'BlochVectorX':0 'BlochVectorY':0 'BlochVectorZ':0)\n",
      "........SphericalDetector\n",
      "............Analyzer ('DirectionX':0 'DirectionY':0 'DirectionZ':0 'Efficiency':0 'Transmission':1)\n",
      "....MultiLayer ('CrossCorrelationLength':0 'ExternalFieldX':0 'ExternalFieldY':0 'ExternalFieldZ':0)\n",
      "........Layer0\n",
      "........LayerInterface\n",
      "........Layer1\n",
      "\n"
     ]
    }
   ],
   "source": [
    "print(simulation.treeToString())"
   ]
  },
  {
   "cell_type": "code",
   "execution_count": 27,
   "metadata": {},
   "outputs": [
    {
     "name": "stdout",
     "output_type": "stream",
     "text": [
      "'/GISASSimulation/Instrument/Beam/Intensity':1\n",
      "'/GISASSimulation/Instrument/Beam/Wavelength':0.1\n",
      "'/GISASSimulation/Instrument/Beam/InclinationAngle':0.00349066\n",
      "'/GISASSimulation/Instrument/Beam/AzimuthalAngle':0\n",
      "'/GISASSimulation/Instrument/Beam/BlochVectorX':0\n",
      "'/GISASSimulation/Instrument/Beam/BlochVectorY':0\n",
      "'/GISASSimulation/Instrument/Beam/BlochVectorZ':0\n",
      "'/GISASSimulation/Instrument/SphericalDetector/Analyzer/DirectionX':0\n",
      "'/GISASSimulation/Instrument/SphericalDetector/Analyzer/DirectionY':0\n",
      "'/GISASSimulation/Instrument/SphericalDetector/Analyzer/DirectionZ':0\n",
      "'/GISASSimulation/Instrument/SphericalDetector/Analyzer/Efficiency':0\n",
      "'/GISASSimulation/Instrument/SphericalDetector/Analyzer/Transmission':1\n",
      "'/GISASSimulation/MultiLayer/CrossCorrelationLength':0\n",
      "'/GISASSimulation/MultiLayer/ExternalFieldX':0\n",
      "'/GISASSimulation/MultiLayer/ExternalFieldY':0\n",
      "'/GISASSimulation/MultiLayer/ExternalFieldZ':0\n",
      "\n",
      "\n"
     ]
    }
   ],
   "source": [
    "print(simulation.parametersToString())"
   ]
  },
  {
   "cell_type": "code",
   "execution_count": 28,
   "metadata": {},
   "outputs": [
    {
     "data": {
      "image/png": "[encoded data removed]",
      "text/plain": [
       "<matplotlib.figure.Figure at 0x7f683ca5d3c8>"
      ]
     },
     "metadata": {},
     "output_type": "display_data"
    }
   ],
   "source": [
    "simulation.runSimulation()\n",
    "ba.plot_simulation_result(simulation.result())"
   ]
  },
  {
   "cell_type": "code",
   "execution_count": null,
   "metadata": {},
   "outputs": [],
   "source": []
  },
  {
   "cell_type": "code",
   "execution_count": null,
   "metadata": {},
   "outputs": [],
   "source": []
  }
 ],
 "metadata": {
  "kernelspec": {
   "display_name": "Python 3.6",
   "language": "python",
   "name": "python_3.6"
  },
  "language_info": {
   "codemirror_mode": {
    "name": "ipython",
    "version": 3
   },
   "file_extension": ".py",
   "mimetype": "text/x-python",
   "name": "python",
   "nbconvert_exporter": "python",
   "pygments_lexer": "ipython3",
   "version": "3.6.5"
  }
 },
 "nbformat": 4,
 "nbformat_minor": 2
}
