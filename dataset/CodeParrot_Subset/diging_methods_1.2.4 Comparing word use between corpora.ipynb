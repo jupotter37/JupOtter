{
 "cells": [
  {
   "cell_type": "code",
   "execution_count": 3,
   "metadata": {
    "collapsed": false
   },
   "outputs": [
    {
     "name": "stdout",
     "output_type": "stream",
     "text": [
      "Populating the interactive namespace from numpy and matplotlib\n"
     ]
    }
   ],
   "source": [
    "%pylab inline"
   ]
  },
  {
   "cell_type": "code",
   "execution_count": 4,
   "metadata": {
    "collapsed": true
   },
   "outputs": [],
   "source": [
    "import nltk\n",
    "import pandas as pd\n",
    "from helpers import normalize_token, filter_token\n",
    "import pymc\n",
    "import matplotlib.pyplot as plt\n",
    "from itertools import chain\n",
    "from scipy import stats"
   ]
  },
  {
   "cell_type": "markdown",
   "metadata": {},
   "source": [
    "# 1.2.4. Comparing word use between corpora\n",
    "\n",
    "In previous notebooks we examined changes in word use over time using several different statistical approaches. In this notebook, we will examine differences in word use between two different corpora. "
   ]
  },
  {
   "cell_type": "markdown",
   "metadata": {},
   "source": [
    "## Web of Science dataset\n",
    "\n",
    "In this notebook we will use data retrieved from the ISI Web of Science database. One corpus is from the journal *Plant Journal* over the period 1991-2013. The other corpus is from the journal *Plant Journal*, 19991-2013. Each corpus is comprised of several WoS field-tagged metadata files contained in a folder.\n",
    "\n",
    "Tethne's WoS parser can load all of the data files in a single directory all at once. This may take a few minutes, since Tethne goes to a lot of trouble in indexing all of the records for easy access later on."
   ]
  },
  {
   "cell_type": "code",
   "execution_count": 5,
   "metadata": {
    "collapsed": false
   },
   "outputs": [],
   "source": [
    "from tethne.readers import wos\n",
    "\n",
    "pj_corpus = wos.read('../data/Baldwin/PlantJournal/')\n",
    "pp_corpus = wos.read('../data/Baldwin/PlantPhysiology/')"
   ]
  },
  {
   "cell_type": "markdown",
   "metadata": {
    "collapsed": true
   },
   "source": [
    "## Conditional frequency distribution\n",
    "\n",
    "This next step should look familiar. We will create a conditional frequency distribution for words in these two corpora. We have two conditions: the journal is *Plant Physiology* and the journal is *Plant Journal*. "
   ]
  },
  {
   "cell_type": "code",
   "execution_count": 6,
   "metadata": {
    "collapsed": true
   },
   "outputs": [],
   "source": [
    "word_counts = nltk.ConditionalFreqDist([\n",
    "    (paper.journal, normalize_token(token))\n",
    "    for paper in chain(pj_corpus, pp_corpus)    # chain() strings the two corpora together.\n",
    "    for token in nltk.word_tokenize(getattr(paper, 'abstract', '')) \n",
    "    if filter_token(token)\n",
    "])"
   ]
  },
  {
   "cell_type": "markdown",
   "metadata": {},
   "source": [
    "Now we can use ``tabulate`` to generate a contingency table showing the number of times each word is used within each journal."
   ]
  },
  {
   "cell_type": "code",
   "execution_count": 7,
   "metadata": {
    "collapsed": false
   },
   "outputs": [
    {
     "name": "stdout",
     "output_type": "stream",
     "text": [
      "                 photosynthesis growth stomatal \n",
      "   PLANT JOURNAL  199 2175  315 \n",
      "PLANT PHYSIOLOGY  577 3333  491 \n"
     ]
    }
   ],
   "source": [
    "# Don't run this without setting ``samples``!\n",
    "word_counts.tabulate(samples=['photosynthesis', 'growth', 'stomatal'])    "
   ]
  },
  {
   "cell_type": "markdown",
   "metadata": {},
   "source": [
    "## Is there a difference?\n",
    "\n",
    "As a first step, we may wish to establish whether or not there is a difference between the two corpora. In this simplistic example, we will compare the rate at which a specific word is used in the two journals. In practice, your comparisons will probably be more sophisticated -- but this is a starting point.\n",
    "\n",
    "So: Is the term ``photosynthesis`` used disproportionately in *Plant Physiology* compared to *Plant Journal*?\n",
    "\n",
    "$H_0:  P(\"photosynthesis\" \\Bigm|J = \"Plant Journal\") = P(\"photosynthesis\" \\Bigm| J=\"Plant Physiology\")$\n",
    "\n",
    "To test this hypothesis, we will use Dunning's log-likelihood ratio, which is a popular metric in text analysis. In a nutshell, we want to assess whether or not the relative use of the term \"photosynthesis\" is sufficiently skewed to reject the null hypothesis.\n",
    "\n",
    "The log likelihood ratio is calculated from a contingency table, similar to the one above. For a single word, our table will show the number of tokens that are the word \"photosynthesis\", and the number of tokens that are not, for each journal.\n",
    "\n",
    "\n",
    "[ show table here ]\n",
    "\n",
    "\n",
    "$\n",
    "\\sum_i O_i ln \\frac{O_i}{E_i}\n",
    "$\n",
    "\n",
    "where $O_i$ is the observed value in cell $i$, and $E_i$ is the expected value in cell $i$.\n",
    "\n",
    "First we will calculate the observed contingency table."
   ]
  },
  {
   "cell_type": "code",
   "execution_count": 11,
   "metadata": {
    "collapsed": false
   },
   "outputs": [],
   "source": [
    "plant_jour_photosynthesis = word_counts['PLANT JOURNAL']['photosynthesis']\n",
    "plant_jour_notphotosynthesis = word_counts['PLANT JOURNAL'].N() - plant_jour_photosynthesis\n",
    "\n",
    "plant_phys_photosynthesis = word_counts['PLANT PHYSIOLOGY']['photosynthesis']\n",
    "plant_phys_notphotosynthesis = word_counts['PLANT PHYSIOLOGY'].N() - plant_phys_photosynthesis\n",
    "\n",
    "# Create a 2x2 array.\n",
    "contingency_table = np.array([[plant_jour_photosynthesis, plant_jour_notphotosynthesis],\n",
    "                              [plant_phys_photosynthesis, plant_phys_notphotosynthesis]], \n",
    "                             dtype=int)"
   ]
  },
  {
   "cell_type": "code",
   "execution_count": 12,
   "metadata": {
    "collapsed": false
   },
   "outputs": [
    {
     "data": {
      "text/plain": [
       "array([[    199,  855067],\n",
       "       [    577, 1037794]])"
      ]
     },
     "execution_count": 12,
     "metadata": {},
     "output_type": "execute_result"
    }
   ],
   "source": [
    "contingency_table"
   ]
  },
  {
   "cell_type": "markdown",
   "metadata": {},
   "source": [
    "To calculate the expected values, we first calculate the expected probabilities of each word under the null hypothesis. The probability of \"photosynthesis\" occurring is the total number of occurrences of \"photosynthesis\" (sum of the first column) divided by the total number of tokens (sum of the whole table). The probability of \"photosynthesis\" **not** occuring is calculated similarly, using the second column."
   ]
  },
  {
   "cell_type": "code",
   "execution_count": 17,
   "metadata": {
    "collapsed": false
   },
   "outputs": [],
   "source": [
    "# We multiply the values in the contingency table by 1. to coerce the\n",
    "#  integers to floating-point numbers, so that we can divide without\n",
    "#  losing precision.\n",
    "expected_probabilities = 1.*contingency_table.sum(axis=0)/contingency_table.sum()"
   ]
  },
  {
   "cell_type": "code",
   "execution_count": 18,
   "metadata": {
    "collapsed": false
   },
   "outputs": [
    {
     "data": {
      "text/plain": [
       "array([  4.09793429e-04,   9.99590207e-01])"
      ]
     },
     "execution_count": 18,
     "metadata": {},
     "output_type": "execute_result"
    }
   ],
   "source": [
    "expected_probabilities"
   ]
  },
  {
   "cell_type": "markdown",
   "metadata": {},
   "source": [
    "Now we calculate the expected counts from those probabilities. The expected counts can be found by multiplying the probabilities of the word occuring and not occuring by the total number of tokens in each corpus. "
   ]
  },
  {
   "cell_type": "code",
   "execution_count": 23,
   "metadata": {
    "collapsed": false
   },
   "outputs": [],
   "source": [
    "# We multiply each 2-element array by a square matrix containing ones, and then\n",
    "#  transpose one of the resulting matrices so that the product gives the expected\n",
    "#  counts.\n",
    "expected_counts = np.floor((np.ones((2, 2))*expected_probabilities)*\\\n",
    "                           (np.ones((2, 2))*contingency_table.sum(axis=1)).T).astype(int)"
   ]
  },
  {
   "cell_type": "code",
   "execution_count": 24,
   "metadata": {
    "collapsed": false
   },
   "outputs": [
    {
     "data": {
      "text/plain": [
       "array([[    350,  854915],\n",
       "       [    425, 1037945]])"
      ]
     },
     "execution_count": 24,
     "metadata": {},
     "output_type": "execute_result"
    }
   ],
   "source": [
    "expected_counts"
   ]
  },
  {
   "cell_type": "markdown",
   "metadata": {},
   "source": [
    "Now we obtain the log likelihood using the equation above:"
   ]
  },
  {
   "cell_type": "code",
   "execution_count": 27,
   "metadata": {
    "collapsed": false
   },
   "outputs": [],
   "source": [
    "loglikelihood = np.sum(1.*contingency_table*np.log(1.*contingency_table/expected_counts))"
   ]
  },
  {
   "cell_type": "code",
   "execution_count": 28,
   "metadata": {
    "collapsed": false
   },
   "outputs": [
    {
     "data": {
      "text/plain": [
       "65.082995592693379"
      ]
     },
     "execution_count": 28,
     "metadata": {},
     "output_type": "execute_result"
    }
   ],
   "source": [
    "loglikelihood"
   ]
  },
  {
   "cell_type": "markdown",
   "metadata": {},
   "source": [
    "So, do the two corpora differ in terms of their use of the word \"photosynthesis\"? In other words, can we reject the null hypothesis (that they do not)? Per Dunning (1993), under the null hypothesis the distribution of the test statistic (log likelihood) should follow a $\\chi^2$ distribution. So we can obtain the probability of the calculated log-likelihood under the null hypothesis using the PDF of $\\chi^2$ with one degree of freedom.\n",
    "\n",
    "The [Scientific Python (SciPy)](http://scipy.org) package has a whole bunch of useful distributions, including $\\chi^2$."
   ]
  },
  {
   "cell_type": "code",
   "execution_count": 29,
   "metadata": {
    "collapsed": false
   },
   "outputs": [],
   "source": [
    "distribution = stats.chi2(df=1)    # df: degrees of freedom."
   ]
  },
  {
   "cell_type": "markdown",
   "metadata": {},
   "source": [
    "Here's the PDF of $\\chi^2$ with one degree of freedom."
   ]
  },
  {
   "cell_type": "code",
   "execution_count": 31,
   "metadata": {
    "collapsed": false
   },
   "outputs": [
    {
     "data": {
      "image/png": "[encoded data removed]",
      "text/plain": [
       "<matplotlib.figure.Figure at 0x16d3f2050>"
      ]
     },
     "metadata": {},
     "output_type": "display_data"
    }
   ],
   "source": [
    "X = np.arange(1, 100, 0.1)\n",
    "plt.plot(X, distribution.pdf(X), lw=2)\n",
    "plt.ylabel('Probability')\n",
    "plt.xlabel('Value of $\\chi^2$')\n",
    "plt.show()"
   ]
  },
  {
   "cell_type": "markdown",
   "metadata": {},
   "source": [
    "We can calculate the probability of our observed log-likelihood from the PDF. If it is less than 0.05, then we can reject the null hypothesis."
   ]
  },
  {
   "cell_type": "code",
   "execution_count": 33,
   "metadata": {
    "collapsed": false
   },
   "outputs": [
    {
     "data": {
      "text/plain": [
       "(3.6440419922948474e-16, True)"
      ]
     },
     "execution_count": 33,
     "metadata": {},
     "output_type": "execute_result"
    }
   ],
   "source": [
    "distribution.pdf(loglikelihood), distribution.pdf(loglikelihood) < 0.05 "
   ]
  },
  {
   "cell_type": "markdown",
   "metadata": {},
   "source": [
    "Money."
   ]
  },
  {
   "cell_type": "markdown",
   "metadata": {},
   "source": [
    "## A Bayesian approach\n",
    "\n",
    "We have shown that these two corpora differ significantly in their usage of the term \"photosynthesis\". In many cases, we may want to go one step further, and actually quantify that difference. We can use a similar approach to the one that we used when comparing word use between years: use an MCMC simulation to infer mean rates of use (and credibility intervals) for each corpus. \n",
    "\n",
    "Rather than starting with a null hypothesis that there is no difference between corpora, we will begin with the belief that there is an independent rate of use for each corpus. We will then infer those rates, and sample from their posterior distributions to generate credible intervals.\n",
    "\n",
    "Once again, we will model the rate of use with the Poisson distribution. So we must generate count data for evenly-sized chunks of each corpus. We'll put all of our count observations into a single dataframe."
   ]
  },
  {
   "cell_type": "code",
   "execution_count": 70,
   "metadata": {
    "collapsed": true
   },
   "outputs": [],
   "source": [
    "count_data = pd.DataFrame(columns=['Journal', 'Year', 'Count'])\n",
    "chunk_size = 400    # This shouldn't be too large.\n",
    "i = 0"
   ]
  },
  {
   "cell_type": "code",
   "execution_count": 71,
   "metadata": {
    "collapsed": false
   },
   "outputs": [],
   "source": [
    "# The slice() function automagically divides each corpus up into\n",
    "#  sequential years. We can use chain() to combine the two iterators\n",
    "#  so that we only have to write this code once.\n",
    "for year, papers in chain(pj_corpus.slice(), pp_corpus.slice()):\n",
    "    tokens = [normalize_token(token) \n",
    "              for paper in papers    # getattr() lets us set a default.\n",
    "              for token in nltk.word_tokenize(getattr(paper, 'abstract', '')) \n",
    "              if filter_token(token)]\n",
    "\n",
    "    N = len(tokens)    # Number of tokens in this year.\n",
    "    for x in xrange(0, N, chunk_size):\n",
    "        current_chunk = tokens[x:x+chunk_size]    \n",
    "        count = nltk.FreqDist(current_chunk)['photosynthesis']\n",
    "\n",
    "        # Store the count for this chunk as an observation.\n",
    "        count_data.loc[i] = [paper.journal, year, count]\n",
    "        i += 1    # Increment the index variable."
   ]
  },
  {
   "cell_type": "code",
   "execution_count": 75,
   "metadata": {
    "collapsed": false
   },
   "outputs": [],
   "source": [
    "PJ_mean = pymc.Gamma('PJ_mean', beta=1.)\n",
    "PP_mean = pymc.Gamma('PP_mean', beta=1.)\n",
    "\n",
    "PJ_counts = pymc.Poisson('PJ_counts', \n",
    "                         mu=PJ_mean, \n",
    "                         value=count_data[count_data.Journal == 'PLANT JOURNAL'].Count, \n",
    "                         observed=True)\n",
    "\n",
    "PP_counts = pymc.Poisson('PP_counts', \n",
    "                         mu=PP_mean, \n",
    "                         value=count_data[count_data.Journal == 'PLANT PHYSIOLOGY'].Count, \n",
    "                         observed=True)\n",
    "\n",
    "model = pymc.Model({\n",
    "    'PJ_mean': PJ_mean,\n",
    "    'PP_mean': PP_mean,\n",
    "    'PJ_counts': PJ_counts,\n",
    "    'PP_counts': PP_counts\n",
    "})\n"
   ]
  },
  {
   "cell_type": "code",
   "execution_count": 76,
   "metadata": {
    "collapsed": false
   },
   "outputs": [],
   "source": [
    "M1 = pymc.MCMC(model)\n",
    "M2 = pymc.MCMC(model)\n",
    "M3 = pymc.MCMC(model)"
   ]
  },
  {
   "cell_type": "code",
   "execution_count": 77,
   "metadata": {
    "collapsed": false
   },
   "outputs": [
    {
     "name": "stdout",
     "output_type": "stream",
     "text": [
      " [-----------------100%-----------------] 20000 of 20000 complete in 2.6 sec"
     ]
    }
   ],
   "source": [
    "M1.sample(iter=20000, burn=2000, thin=20)\n",
    "M2.sample(iter=20000, burn=2000, thin=20)\n",
    "M3.sample(iter=20000, burn=2000, thin=20)"
   ]
  },
  {
   "cell_type": "code",
   "execution_count": 78,
   "metadata": {
    "collapsed": false
   },
   "outputs": [
    {
     "name": "stdout",
     "output_type": "stream",
     "text": [
      "Plotting PP_mean\n",
      "Plotting PJ_mean\n"
     ]
    },
    {
     "data": {
      "image/png": "[encoded data removed]",
      "text/plain": [
       "<matplotlib.figure.Figure at 0x184a1a990>"
      ]
     },
     "metadata": {},
     "output_type": "display_data"
    },
    {
     "data": {
      "image/png": "[encoded data removed]",
      "text/plain": [
       "<matplotlib.figure.Figure at 0x17efa7810>"
      ]
     },
     "metadata": {},
     "output_type": "display_data"
    }
   ],
   "source": [
    "pymc.Matplot.plot(M1)"
   ]
  },
  {
   "cell_type": "code",
   "execution_count": 79,
   "metadata": {
    "collapsed": false
   },
   "outputs": [],
   "source": [
    "PJ_mean_samples = M1.PJ_mean.trace()[:]\n",
    "PJ_mean_samples = np.append(PJ_mean_samples, M2.PJ_mean.trace()[:])\n",
    "PJ_mean_samples = np.append(PJ_mean_samples, M3.PJ_mean.trace()[:])\n",
    "PP_mean_samples = M1.PP_mean.trace()[:]\n",
    "PP_mean_samples = np.append(PP_mean_samples, M2.PP_mean.trace()[:])\n",
    "PP_mean_samples = np.append(PP_mean_samples, M3.PP_mean.trace()[:])"
   ]
  },
  {
   "cell_type": "code",
   "execution_count": 80,
   "metadata": {
    "collapsed": false
   },
   "outputs": [
    {
     "data": {
      "image/png": "[encoded data removed]",
      "text/plain": [
       "<matplotlib.figure.Figure at 0x184b13910>"
      ]
     },
     "metadata": {},
     "output_type": "display_data"
    }
   ],
   "source": [
    "# Plot the 95% credible interval as box/whiskers.\n",
    "plt.boxplot([PJ_mean_samples, PP_mean_samples],\n",
    "            whis=[2.5, 97.5],\n",
    "            labels=['Plant Journal', 'Plant Physiology'],\n",
    "            showfliers=False)\n",
    "plt.ylim(0, 0.3)\n",
    "plt.ylabel('Rate for term \"photosyntheis\"')\n",
    "plt.show()"
   ]
  }
 ],
 "metadata": {
  "kernelspec": {
   "display_name": "Python 2",
   "language": "python",
   "name": "python2"
  },
  "language_info": {
   "codemirror_mode": {
    "name": "ipython",
    "version": 2
   },
   "file_extension": ".py",
   "mimetype": "text/x-python",
   "name": "python",
   "nbconvert_exporter": "python",
   "pygments_lexer": "ipython2",
   "version": "2.7.9"
  }
 },
 "nbformat": 4,
 "nbformat_minor": 0
}
