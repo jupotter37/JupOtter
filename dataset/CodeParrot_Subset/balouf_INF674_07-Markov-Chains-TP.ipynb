{
 "cells": [
  {
   "cell_type": "markdown",
   "metadata": {},
   "source": [
    "# INF 674 S7: Markov Chains\n",
    "\n",
    "## Céline Comte & Fabien Mathieu\n",
    "\n",
    "### 2016-2017"
   ]
  },
  {
   "cell_type": "markdown",
   "metadata": {},
   "source": [
    "**Remark**: the number of this Session is 7, and not 6, because the sessions numbers have been renumbered:\n",
    "- S0 Python Introduction\n",
    "- S1 Galton-Watson\n",
    "- S2 Erdös-Rényi\n",
    "- S3 Competitive Epidemics\n",
    "- S4 Small-Worlds\n",
    "- S5 Power Laws\n",
    "- S6 Distances and Clustering\n",
    "- S7 Markov Chains\n",
    "- S8 PageRank on a real dataset\n",
    "- S9 Navigability"
   ]
  },
  {
   "cell_type": "markdown",
   "metadata": {},
   "source": [
    "The objective of this practical is to make you *see* a Markov chain in action. In particular, you will observe what happens if the conditions of the Perron-Frobenius theorem are not met."
   ]
  },
  {
   "cell_type": "markdown",
   "metadata": {},
   "source": [
    "# Things to know"
   ]
  },
  {
   "cell_type": "markdown",
   "metadata": {},
   "source": [
    "** Right stochastic matrix**\n",
    "Let $A = (a_{i,j})$ be a $n\\times n$ matrix. We say that $A$ is a *right* stochastic matrix if:\n",
    "- The coefficients of $A$ are non-negative: $\\forall i, j, a_{i,j}\\geq 0$.\n",
    "- Each row sums to 1: $\\forall i, \\sum_j a_{i,j} = 1$.\n",
    "\n",
    "\n",
    "**Homogeneous Markov chain:** A right stochastic matrix $A$ can define a *Markov Chain* that describes the evolution of a distribution over $n$ states as follows: if one is in state $i$ at step $k$ of the process, the probability to be in state $j$ at step $k+1$ is $a_{i,j}$.\n",
    "\n",
    "With this notation, the evolution of a Markov chain is easy to study: if $P_k$ is the probability distribution at step $k$ ($P_k\\geq 0, \\sum_{i}P_k[i]=1$), then if have\n",
    "\n",
    "$$P_{k+1}=P_k A$$\n",
    "\n",
    "**irreducibility:**  Let $A$ be a *non-negative* matrix $A$ ($\\forall i,j, A[i,j]\\geq 0$). Let $G=(V,E)$ be the oriented graph associated to $A$: $(i,j)\\in E$ if, and only if $A[i,j]>0$. The following propositions are equivalent:\n",
    "- $A$ is *irreducible*\n",
    "- $\\forall i,j, \\exists k>0, A^k[i,j]>0$\n",
    "- $G$ is *strongly connected*: $\\forall (i,j)\\in V^2$, there exists an oriented path in $G$ from $i$ to $j$.\n",
    "Intuitively, the irreducibility property indicates that starting from any state, any state can be reached with a positive (e.g. >0) probability after some steps.\n",
    "\n",
    "**aperiodicity:** (*from wikipedia*) For an index $i$, the period of $i$ is the greatest common divisor of all natural numbers $k$ such that $A^k[i,i]>0$. When $A$ is irreducible, the period of every index is the same and is called the period of $A$. \n",
    "\n",
    "If the period is 1, $A$ is *aperiodic*.\n",
    "\n",
    "Intuitively, a period $k>1$ indicates that the length of any cycle must be a multiple of $k$.\n",
    "\n",
    "\n",
    "**Perron-Frobenius Theorem** (a variant, actually)\n",
    "If $A$ is right stochastic, irreducible and aperiodic, then $A^k\\xrightarrow[k\\to \\infty]{} B$, where $B$ is the right stochastic matrix having all its rows equal to the same row vector $Q$ defined as the unique normalized solution to the equation $QA = Q$.\n",
    "\n",
    "**Interpretation:** when the condition of the Perron-Frobenius theorem are met, the process will eventually converge to a unique distribution, which does not depend of its initial state, which is *forgotten*."
   ]
  },
  {
   "cell_type": "markdown",
   "metadata": {},
   "source": [
    "# Markov chains animations "
   ]
  },
  {
   "cell_type": "markdown",
   "metadata": {},
   "source": [
    "To start with, a small experiment that plays with the assumptions of Perron-Frobenius theorem.\n",
    "\n",
    "Consider the following game: you have a circular game board made of $ n = 36 $ squares numbered from $ 0 $ to $ 35 $. At (discrete) turn $ t=0 $, a player stands on square $ 0 $. Between two turns, the player moves from a certain number of squares. Remember that the board is circular: if the player is in square $35$ and moves one square forward, she lands in square $0$. We propose to visualize the evolution of the (probabilistic) position of the player on the board."
   ]
  },
  {
   "cell_type": "markdown",
   "metadata": {},
   "source": [
    "We give you the code to visualize the game where at each turn, the player moves one square forward."
   ]
  },
  {
   "cell_type": "markdown",
   "metadata": {
    "collapsed": true
   },
   "source": [
    "First, evaluate the following cells. Note that you should install ffmpeg if it is not available in your system (https://ffmpeg.org/ ). If you are on a TPT machine, ffmpeg is not available, use the writer *avconv* instead."
   ]
  },
  {
   "cell_type": "code",
   "execution_count": null,
   "metadata": {
    "collapsed": false
   },
   "outputs": [],
   "source": [
    "%pylab inline"
   ]
  },
  {
   "cell_type": "code",
   "execution_count": null,
   "metadata": {
    "collapsed": false
   },
   "outputs": [],
   "source": [
    "from matplotlib import animation, rc\n",
    "from IPython.display import HTML\n",
    "\n",
    "# use writer = 'avconv' on TPT computers\n",
    "rc('animation', html='html5', writer = 'ffmpeg')\n",
    "\n",
    "xkcd()\n",
    "\n",
    "n = 36"
   ]
  },
  {
   "cell_type": "markdown",
   "metadata": {},
   "source": [
    "Remark: the use of xkcd() is just to have funny movies. You can remove it."
   ]
  },
  {
   "cell_type": "markdown",
   "metadata": {},
   "source": [
    "The following function will be used to display the evolution of a distribution. It takes two arguments:\n",
    "- *next_step* is a function that takes a distribution as input and ouputs the resulting distribution after one step of the Markov process.\n",
    "- *k_max* indicates the number of steps you want to watch."
   ]
  },
  {
   "cell_type": "code",
   "execution_count": null,
   "metadata": {
    "collapsed": true
   },
   "outputs": [],
   "source": [
    "def evolution(next_step, k_max):\n",
    "    # Turn interactive plotting off\n",
    "    fig, ax = subplots()\n",
    "    # Initiate probability distribution: the position of the player is known.\n",
    "    P = zeros(n)\n",
    "    P[0] = 1\n",
    "    # Display probability\n",
    "    pbar = ax.bar(range(n),P,1)\n",
    "    xlim([0,n])\n",
    "    #Init only required for blitting to give a clean slate.\n",
    "    def init():\n",
    "        for rect, y in zip(pbar, P):\n",
    "            rect.set_height(y)        \n",
    "        return pbar\n",
    "    def animate(i):\n",
    "        P[:] = next_step(P) # Update the values using the next_step function\n",
    "        for rect, y in zip(pbar, P):\n",
    "            rect.set_height(y)        \n",
    "        return pbar\n",
    "    ani = animation.FuncAnimation(fig, animate, frames = k_max, init_func=init,\n",
    "    interval=25, blit=True)\n",
    "    return ani"
   ]
  },
  {
   "cell_type": "markdown",
   "metadata": {},
   "source": [
    "The rule for the toy example is to move one case forward. This can be easily done with the **np.roll** function."
   ]
  },
  {
   "cell_type": "code",
   "execution_count": null,
   "metadata": {
    "collapsed": true
   },
   "outputs": [],
   "source": [
    "def next_step(P):\n",
    "    # Roll, baby!\n",
    "    return roll(P, 1)\n",
    "    "
   ]
  },
  {
   "cell_type": "markdown",
   "metadata": {},
   "source": [
    "We now call evolution. The %%capture command hides a static picture that would be shown otherwise."
   ]
  },
  {
   "cell_type": "code",
   "execution_count": null,
   "metadata": {
    "collapsed": false
   },
   "outputs": [],
   "source": [
    "%%capture\n",
    "ani = evolution(next_step,180)"
   ]
  },
  {
   "cell_type": "markdown",
   "metadata": {},
   "source": [
    "And... Showtime (can take a few seconds to initiate, depending on the tmax you set)"
   ]
  },
  {
   "cell_type": "code",
   "execution_count": null,
   "metadata": {
    "collapsed": false
   },
   "outputs": [],
   "source": [
    "ani"
   ]
  },
  {
   "cell_type": "markdown",
   "metadata": {},
   "source": [
    "## Question 1"
   ]
  },
  {
   "cell_type": "markdown",
   "metadata": {},
   "source": [
    "Are the condition of the Perron-Frobenius met? Justify your answers:\n",
    "- using the theoretical definitions\n",
    "- by commenting the animation above"
   ]
  },
  {
   "cell_type": "markdown",
   "metadata": {},
   "source": [
    "**Answer:**"
   ]
  },
  {
   "cell_type": "markdown",
   "metadata": {},
   "source": [
    "## Question 2"
   ]
  },
  {
   "cell_type": "markdown",
   "metadata": {},
   "source": [
    "We now change the rules. At each turn, the player tosses an unbiased coin. If it is a head, she moves forward $ a = 1 $ step. If it is a tail, she moves forward $ b = 2 $ steps."
   ]
  },
  {
   "cell_type": "markdown",
   "metadata": {},
   "source": [
    "As we are now playing with more general Markov chains, **roll** may not be enough. You may want to use **dot(P, A)**, which multiplies a vector P and a matrix A"
   ]
  },
  {
   "cell_type": "code",
   "execution_count": null,
   "metadata": {
    "collapsed": true
   },
   "outputs": [],
   "source": [
    "def next_stepA(P):\n",
    "    return dot(P, A)"
   ]
  },
  {
   "cell_type": "markdown",
   "metadata": {},
   "source": [
    "Visualize the evolution of the position of the player. Comment what you observe."
   ]
  },
  {
   "cell_type": "markdown",
   "metadata": {},
   "source": [
    "**Answer:**"
   ]
  },
  {
   "cell_type": "markdown",
   "metadata": {},
   "source": [
    "## Question 3"
   ]
  },
  {
   "cell_type": "markdown",
   "metadata": {},
   "source": [
    "New rules. We assume now $ a = 1 $, $ b = i^2 $, where $ i $ is the number of the square where the player stands."
   ]
  },
  {
   "cell_type": "markdown",
   "metadata": {},
   "source": [
    "Visualize the evolution of the position of the player. Comment what you observe."
   ]
  },
  {
   "cell_type": "markdown",
   "metadata": {},
   "source": [
    "**Answer:**"
   ]
  },
  {
   "cell_type": "markdown",
   "metadata": {},
   "source": [
    "There is convergence. Note compared to previous case that:\n",
    "- It is much faster (if you want to go deeper in that direction, the reason is that the spectral gap is greater with the new rules).\n",
    "- The asymptotic distribution is very heterogeneous."
   ]
  },
  {
   "cell_type": "markdown",
   "metadata": {},
   "source": [
    "## Question 4"
   ]
  },
  {
   "cell_type": "markdown",
   "metadata": {},
   "source": [
    "New rules. We assume now $ a = 1 $, $ b = 7 $."
   ]
  },
  {
   "cell_type": "markdown",
   "metadata": {},
   "source": [
    "Visualize the evolution of the position of the player. Comment what you observe."
   ]
  },
  {
   "cell_type": "markdown",
   "metadata": {},
   "source": [
    "**Answer:**"
   ]
  },
  {
   "cell_type": "markdown",
   "metadata": {},
   "source": [
    "We have not the aperiodicity condition. In fact it is quite easy to see that the period of the graph is 6: consider a loop. It is mad of a certain number of $a$ jumps, say $i$, and a certain number of $b$, say $j$. The fact that it is a loop means that $i a + j b = 36 k$ for some $k$, i.e. $i+7j = 36k$. Hence we have\n",
    "$$(i+7j)\\%6 = (i+j)\\%6 = 36k\\%6 = 0$$\n",
    "\n",
    "In other words, $i+j$, the length of the loop, is a multiple of 6.\n",
    "\n",
    "This cycle of 6 is indeed easy to see on the animation."
   ]
  },
  {
   "cell_type": "markdown",
   "metadata": {},
   "source": [
    "## Question 5"
   ]
  },
  {
   "cell_type": "markdown",
   "metadata": {},
   "source": [
    "New rules. We assume now $ a = 2 $, $ b = 4 $."
   ]
  },
  {
   "cell_type": "markdown",
   "metadata": {},
   "source": [
    "Visualize the evolution of the position of the player. Comment what you observe."
   ]
  },
  {
   "cell_type": "markdown",
   "metadata": {},
   "source": [
    "**Answer:**"
   ]
  },
  {
   "cell_type": "markdown",
   "metadata": {},
   "source": [
    "It is like question 2 except that only even squares are covered.\n",
    "- Regarding Perron-Frobenius, the irreducible property is lost. you have two strongly connected components: even squares and odd squares (there are indeed disconnected from each other).\n",
    "- The practical effect of loosing irreducibility is that you can have states with 0 probability (the odd squares), whereas when all conditions of Perron-Frobenius are met, all states have a positive (e.g. >0) probability in the steady state distribution.\n",
    "- While $2 \\wedge 4 = 2$, 2 is NOT a period of the graph (the graph is actually aperiodic on both of its strongly connected components)."
   ]
  },
  {
   "cell_type": "markdown",
   "metadata": {},
   "source": [
    "## Question 6"
   ]
  },
  {
   "cell_type": "markdown",
   "metadata": {},
   "source": [
    "With probability $ 1/5 $, the coin lands on its edge (it is a very thick coin). Default procedure: toss again until is does not land on its edge. Exception: if it lands on its edge while the player stands on square 35, she realizes that the game is pointless and quits the game. Redo questions 2 to 5 with this new rule."
   ]
  },
  {
   "cell_type": "markdown",
   "metadata": {},
   "source": [
    "**Answer:**"
   ]
  },
  {
   "cell_type": "markdown",
   "metadata": {},
   "source": [
    "A remark first: many of you have assumed that if you toss an edge on a different square than 35, you have to skip a square. What was intended for squares less than 35 was that a step was the action of *tossing until you have head or tail, then move*. Indeed the problem was probably not enough precise on that point, so it is OK if you implemented loops for squares less than 35."
   ]
  },
  {
   "cell_type": "markdown",
   "metadata": {},
   "source": [
    "# PageRank on a small graph (if time)"
   ]
  },
  {
   "cell_type": "markdown",
   "metadata": {},
   "source": [
    "The goal of this last part is to test a few variants of PageRank on *small* graphs and see how they differ.\n",
    "\n",
    "It is entirely optional, but it can help you before computing PageRank on bigger graphs."
   ]
  },
  {
   "cell_type": "markdown",
   "metadata": {},
   "source": [
    "Let $ h $ be an integer (use $ h $ = 3 for toy evaluation, $ h = 9 $ for complete evaluation).\n",
    "\n",
    "Let $ G $ be the following graph:\n",
    "- There are $ n = 2^{h+1}-1 $ nodes numbered from $0$ to $ 2^{h+1}-2 $.\n",
    "- The oriented edges are as follows:\n",
    "    - For all nodes $ i\\geq 1 $, there is an edge *from* $ i $ *to* $ \\lfloor (i-1) / 2 \\rfloor $.\n",
    "    - For all nodes $ i\\geq 1 $, there is an edge *from* $ i $ *to* $ i - 1 $.\n",
    "    - For all nodes $j$ such that $ j \\in [2^h-1, 2^{h+1}-2] $, there is an edge *from* $0$ *to* $j$."
   ]
  },
  {
   "cell_type": "markdown",
   "metadata": {},
   "source": [
    "## Question 1"
   ]
  },
  {
   "cell_type": "markdown",
   "metadata": {},
   "source": [
    "Build the stochastic matrix $A$ associated to $G$, defined by $ A(i,j) = 1/deg_+(i)$ if there is an edge from $ i $ to $ j $, 0 otherwise. ($deg_+$: *outdegree*)"
   ]
  },
  {
   "cell_type": "markdown",
   "metadata": {},
   "source": [
    "**Answer:**"
   ]
  },
  {
   "cell_type": "markdown",
   "metadata": {},
   "source": [
    "## Question 2"
   ]
  },
  {
   "cell_type": "markdown",
   "metadata": {},
   "source": [
    "Try to guess which nodes of the graph are important. Justify your answer (e.g. copying/pasting the answer from next question is not enough)."
   ]
  },
  {
   "cell_type": "markdown",
   "metadata": {},
   "source": [
    "**Answer:**"
   ]
  },
  {
   "cell_type": "markdown",
   "metadata": {},
   "source": [
    "## Question 3"
   ]
  },
  {
   "cell_type": "markdown",
   "metadata": {},
   "source": [
    "Compute the PageRank $P$ which is a solution of $ P = P A $. Proceed iteratively starting from $ P = \\mathbf{1}/n $ and updating $ P \\leftarrow P A $ until $ ||P-PA||_1<\\epsilon $ (recommendation: $ \\epsilon = 10^{-8} $). Display for the $10$ first iterations the current top ten (the ten nodes that have highest value in current $P$), the total number of iterations and the final top ten.\n",
    "\n",
    "Configure a maximal number of authorized iterations to avoid infinite loops (recommendation: 2000 iterations). When reaching the maximal number of iterations, your function should display a message saying the process has not converged and give the past top ten obtained."
   ]
  },
  {
   "cell_type": "markdown",
   "metadata": {},
   "source": [
    "**Answer:**"
   ]
  },
  {
   "cell_type": "markdown",
   "metadata": {},
   "source": [
    "We observe the expected ranking."
   ]
  },
  {
   "cell_type": "markdown",
   "metadata": {},
   "source": [
    "## Question 4"
   ]
  },
  {
   "cell_type": "markdown",
   "metadata": {},
   "source": [
    "We add to $b$ new nodes to $G$ ($ b = 10 $) numbered from $ n $ to $ n+b-1 $. For each new node $ i $, we add an edge *from* $ i-1 $ *to* $i$.\n",
    "- Do Questions 1, 2, 3 over with this new graph. What happens (in theory and in practice)?\n",
    "- Use $ P \\leftarrow P A / ||PA||_1 $ for updating $P$. What happens?"
   ]
  },
  {
   "cell_type": "markdown",
   "metadata": {},
   "source": [
    "**Answer:**"
   ]
  },
  {
   "cell_type": "markdown",
   "metadata": {},
   "source": [
    "First, let us do the modification, then compute the PageRank."
   ]
  },
  {
   "cell_type": "markdown",
   "metadata": {},
   "source": [
    "It seems the convergence cannot be observed. The reason is that we introduced a leak on the last node. In theory, $P$ should converge towards 0, but\n",
    "- the leak is big enough to prevent $||P-PA||<\\epsilon$ when $P$ stays large enough\n",
    "- the leak is small enough so that $P$ stays large enough for a long time\n",
    "\n",
    "However, notice that the ranking after the maximum allowed number of iterations seems to be correct.\n",
    "\n",
    "Now, change the algorithm so that $P$ stays normalized."
   ]
  },
  {
   "cell_type": "markdown",
   "metadata": {},
   "source": [
    "Convergence works again! (with a similar number of iterations)"
   ]
  },
  {
   "cell_type": "markdown",
   "metadata": {},
   "source": [
    "## Question 5"
   ]
  },
  {
   "cell_type": "markdown",
   "metadata": {},
   "source": [
    "We add one edge to the previous graph, from $ n+b-1 $ to $ n+b-2 $.\n",
    "- Do Questions 1, 2, 3 over with this new graph, along with the update proposed in Question 4. What happens (in theory and in practice)?\n",
    "- Use $ P \\leftarrow d P A + (1-d)\\mathbf{1}  $ for updating $P$, wirh $d = 0.85$. What happens?"
   ]
  },
  {
   "cell_type": "markdown",
   "metadata": {},
   "source": [
    "**Answer:**"
   ]
  },
  {
   "cell_type": "markdown",
   "metadata": {},
   "source": [
    "First, change the graph by adding one last edge."
   ]
  },
  {
   "cell_type": "markdown",
   "metadata": {},
   "source": [
    "- No convergence.\n",
    "- In theory, the nodes 1031 and 1032 form a probability trap: it is a strongly connected component that can be reached from any other node and from which you cannot exit. So they should be ranked first, with all other nodes ranked last.\n",
    "- Yet, the returned ranking is [0, 1031, 1032, ...]: 1031 and 1032 did not have enough time to converge.\n",
    "- Remark that normalizing does not change anything: there is no leak to compensate for.\n",
    "- It is not very satisfying that one single edge completely changes the ranking\n",
    "- Now, let see what happens with damping."
   ]
  },
  {
   "cell_type": "markdown",
   "metadata": {},
   "source": [
    "- Faster convergence\n",
    "- The ranking [0, 1, 2, ...] is returned: the effect of local traps is ignored."
   ]
  },
  {
   "cell_type": "markdown",
   "metadata": {},
   "source": [
    "## Question 6"
   ]
  },
  {
   "cell_type": "markdown",
   "metadata": {},
   "source": [
    "Compare and discuss the convergence and rankings you observed in this practical."
   ]
  },
  {
   "cell_type": "markdown",
   "metadata": {},
   "source": [
    "**Answer:**"
   ]
  },
  {
   "cell_type": "markdown",
   "metadata": {},
   "source": [
    "See the markdown above."
   ]
  }
 ],
 "metadata": {
  "language_info": {
   "name": "python",
   "pygments_lexer": "ipython3"
  }
 },
 "nbformat": 4,
 "nbformat_minor": 1
}
