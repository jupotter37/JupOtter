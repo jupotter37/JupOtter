{
 "cells": [
  {
   "cell_type": "code",
   "execution_count": 1,
   "metadata": {
    "collapsed": true
   },
   "outputs": [],
   "source": [
    "from PIL import Image\n",
    "from numpy import *\n",
    "from pylab import *"
   ]
  },
  {
   "cell_type": "code",
   "execution_count": 2,
   "metadata": {
    "collapsed": true
   },
   "outputs": [],
   "source": [
    "# The data is still available from web archive\n",
    "# https://web.archive.org/web/20161203110733/http://research.microsoft.com/en-us/um/cambridge/projects/visionimagevideoediting/segmentation/grabcut.htm"
   ]
  },
  {
   "cell_type": "code",
   "execution_count": 3,
   "metadata": {
    "collapsed": true
   },
   "outputs": [],
   "source": [
    "from scipy.misc import imresize\n",
    "import graphcut\n",
    "graphcut = reload(graphcut)"
   ]
  },
  {
   "cell_type": "code",
   "execution_count": 7,
   "metadata": {
    "collapsed": true
   },
   "outputs": [],
   "source": [
    "im = array(Image.open('229036.jpg'))"
   ]
  },
  {
   "cell_type": "code",
   "execution_count": 8,
   "metadata": {
    "collapsed": true
   },
   "outputs": [],
   "source": [
    "scale = 0.1\n",
    "im = imresize(im, scale, interp='bilinear')"
   ]
  },
  {
   "cell_type": "code",
   "execution_count": 9,
   "metadata": {},
   "outputs": [
    {
     "data": {
      "image/png": "[encoded data removed]",
      "text/plain": [
       "<matplotlib.figure.Figure at 0x7f7fbab55610>"
      ]
     },
     "metadata": {},
     "output_type": "display_data"
    },
    {
     "name": "stdout",
     "output_type": "stream",
     "text": [
      "(32, 48, 3)\n"
     ]
    }
   ],
   "source": [
    "figure()\n",
    "imshow(im)\n",
    "axis('off')\n",
    "show()\n",
    "print im.shape"
   ]
  },
  {
   "cell_type": "code",
   "execution_count": 76,
   "metadata": {
    "collapsed": true
   },
   "outputs": [],
   "source": [
    "fg = [[16, 24], [32, 32]]\n",
    "bg = [[0, 0], [48, 8]]"
   ]
  },
  {
   "cell_type": "code",
   "execution_count": 77,
   "metadata": {
    "collapsed": true
   },
   "outputs": [],
   "source": [
    "def create_msr_labels(size, fg, bg):\n",
    "    \"\"\" Create labels matrix for training from\n",
    "    user annotations. \"\"\"\n",
    "    \n",
    "    labels = zeros(size)\n",
    "    \n",
    "    for xi in arange(bg[0][0], bg[1][0]):\n",
    "        for yi in arange(bg[0][1], bg[1][1]):\n",
    "            labels[yi, xi] = -1\n",
    "\n",
    "    for xi in arange(fg[0][0], fg[1][0]):\n",
    "        for yi in arange(fg[0][1], fg[1][1]):\n",
    "            labels[yi, xi] = 1\n",
    "    \n",
    "            \n",
    "    return labels"
   ]
  },
  {
   "cell_type": "code",
   "execution_count": 78,
   "metadata": {
    "collapsed": true
   },
   "outputs": [],
   "source": [
    "labels = create_msr_labels(im.shape[:2], fg, bg)"
   ]
  },
  {
   "cell_type": "code",
   "execution_count": 79,
   "metadata": {},
   "outputs": [
    {
     "data": {
      "image/png": "[encoded data removed]",
      "text/plain": [
       "<matplotlib.figure.Figure at 0x7f4ae6049090>"
      ]
     },
     "metadata": {},
     "output_type": "display_data"
    }
   ],
   "source": [
    "figure()\n",
    "gray()\n",
    "subplot(1, 3, 1)\n",
    "imshow(im)\n",
    "axis('off')\n",
    "subplot(1, 3, 2)\n",
    "imshow(labels)\n",
    "axis('off')\n",
    "show()"
   ]
  },
  {
   "cell_type": "code",
   "execution_count": 80,
   "metadata": {
    "collapsed": true
   },
   "outputs": [],
   "source": [
    "from pygraph.classes.digraph import digraph\n",
    "from pygraph.algorithms.minmax import maximum_flow\n",
    "import bayes\n",
    "\n",
    "\n",
    "def build_bayes_graph(im, labels, sigma=1e-2, kappa=2, weight=1):\n",
    "    \"\"\" Build a graph from 4-neighborhood of pixels.\n",
    "    Foregraound and background is determined from\n",
    "    labels (1 for foreground, -1 for background, 0 othewise)\n",
    "    and is modeled with naive Bayes classifiers. \"\"\"\n",
    "\n",
    "    m, n = im.shape[:2]\n",
    "\n",
    "    # RGB vector version (one pixel per row)\n",
    "    vim = im.astype('float')\n",
    "    vim = vim.reshape((-1, 3))\n",
    "\n",
    "    # RGB for foreground and background\n",
    "    foreground = im[labels == 1].reshape((-1, 3))\n",
    "    background = im[labels == -1].reshape((-1, 3))\n",
    "    train_data = [foreground, background]\n",
    "\n",
    "    # train naive Bayes classifier\n",
    "    bc = bayes.BayesClassifier()\n",
    "    bc.train(train_data, labels)\n",
    "\n",
    "    # get probabilities for all pixels\n",
    "    bc_lables, prob = bc.classify(vim)\n",
    "    prob_fg = prob[0]\n",
    "    prob_bg = prob[1]\n",
    "\n",
    "    # create graph with m*n+2 nodes\n",
    "    gr = digraph()\n",
    "    gr.add_nodes(range(m*n+2))\n",
    "\n",
    "    source = m*n  # second to last is source\n",
    "    sink = m*n+1  # last node is sink\n",
    "\n",
    "    # normalize\n",
    "    pos = m*n/2-100\n",
    "    for i in range(vim.shape[0]):\n",
    "        vim[i] = vim[i] / linalg.norm(vim[i])\n",
    "\n",
    "    # go through all nodes and add edges\n",
    "    lb = labels.copy()\n",
    "    lb = lb.flatten()\n",
    "    for i in range(m*n):\n",
    "        # add edge from source\n",
    "        if lb[i]==1:\n",
    "            gr.add_edge((source, i), wt=weight)\n",
    "        elif lb[i]==-1:\n",
    "            gr.add_edge((i, sink), wt=weight)          \n",
    "        elif (prob_fg[i]>prob_bg[i]):\n",
    "            gr.add_edge((source, i), wt=(prob_fg[i]/(prob_fg[i] + prob_bg[i])))\n",
    "        else:\n",
    "            # add edge to sink\n",
    "            gr.add_edge((i, sink), wt=(prob_bg[i]/(prob_fg[i] + prob_bg[i])))\n",
    "\n",
    "        # add edges to neighbors\n",
    "        if i % n != 0:  # left exists\n",
    "            edge_wt = kappa*exp(-1.0*sum((vim[i] - vim[i-1])**2)/sigma)\n",
    "            gr.add_edge((i, i-1), wt=edge_wt)\n",
    "        if (i+1) % n != 0:  # right exists\n",
    "            edge_wt = kappa*exp(-1.0*sum((vim[i] - vim[i+1])**2)/sigma)\n",
    "            gr.add_edge((i, i+1), wt=edge_wt)\n",
    "        if i//n != 0:  # up exists\n",
    "            edge_wt = kappa*exp(-1.0*sum((vim[i] - vim[i-n])**2)/sigma)\n",
    "            gr.add_edge((i, i-n), wt=edge_wt)\n",
    "        if i//n != m-1:  # down exists\n",
    "            edge_wt = kappa*exp(-1.0*sum((vim[i] - vim[i+n])**2)/sigma)\n",
    "            gr.add_edge((i, i+n), wt=edge_wt)\n",
    "            \n",
    "    return gr\n"
   ]
  },
  {
   "cell_type": "code",
   "execution_count": 81,
   "metadata": {},
   "outputs": [
    {
     "name": "stdout",
     "output_type": "stream",
     "text": [
      "[[-1. -1. -1. ..., -1. -1. -1.]\n",
      " [-1. -1. -1. ..., -1. -1. -1.]\n",
      " [-1. -1. -1. ..., -1. -1. -1.]\n",
      " ..., \n",
      " [ 0.  0.  0. ...,  0.  0.  0.]\n",
      " [ 0.  0.  0. ...,  0.  0.  0.]\n",
      " [ 0.  0.  0. ...,  0.  0.  0.]]\n"
     ]
    }
   ],
   "source": [
    "print labels"
   ]
  },
  {
   "cell_type": "code",
   "execution_count": 82,
   "metadata": {
    "collapsed": true
   },
   "outputs": [],
   "source": [
    "g = build_bayes_graph(im, labels, sigma=1e-2, kappa=2, weight=100)"
   ]
  },
  {
   "cell_type": "code",
   "execution_count": 83,
   "metadata": {
    "collapsed": true
   },
   "outputs": [],
   "source": [
    "res = graphcut.cut_graph(g, im.shape[:2])"
   ]
  },
  {
   "cell_type": "code",
   "execution_count": 84,
   "metadata": {},
   "outputs": [
    {
     "data": {
      "image/png": "[encoded data removed]",
      "text/plain": [
       "<matplotlib.figure.Figure at 0x7f4ae6049e10>"
      ]
     },
     "metadata": {},
     "output_type": "display_data"
    }
   ],
   "source": [
    "figure()\n",
    "graphcut.show_labeling(im, res)\n",
    "show()"
   ]
  },
  {
   "cell_type": "code",
   "execution_count": null,
   "metadata": {
    "collapsed": true
   },
   "outputs": [],
   "source": []
  }
 ],
 "metadata": {
  "kernelspec": {
   "display_name": "Python 2",
   "language": "python",
   "name": "python2"
  },
  "language_info": {
   "codemirror_mode": {
    "name": "ipython",
    "version": 2
   },
   "file_extension": ".py",
   "mimetype": "text/x-python",
   "name": "python",
   "nbconvert_exporter": "python",
   "pygments_lexer": "ipython2",
   "version": "2.7.12"
  }
 },
 "nbformat": 4,
 "nbformat_minor": 2
}
