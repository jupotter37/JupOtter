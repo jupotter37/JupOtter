{
 "cells": [
  {
   "cell_type": "code",
   "execution_count": 9,
   "metadata": {
    "collapsed": false
   },
   "outputs": [
    {
     "name": "stdout",
     "output_type": "stream",
     "text": [
      "{'friends': [{'friends': [{...}, {'friends': [{...}, {...}, {'friends': [{...}, {...}, {'friends': [{...}, {'friends': [{...}, {'friends': [{...}, {'friends': [{...}, {'friends': [{...}, {...}], 'id': 7, 'name': 'Devin'}, {'friends': [{...}], 'id': 9, 'name': 'Klein'}], 'id': 8, 'name': 'Kate'}], 'id': 6, 'name': 'Hicks'}, {'friends': [{...}, {'friends': [{'friends': [{...}, {...}], 'id': 6, 'name': 'Hicks'}, {...}, {'friends': [{...}], 'id': 9, 'name': 'Klein'}], 'id': 8, 'name': 'Kate'}], 'id': 7, 'name': 'Devin'}], 'id': 5, 'name': 'Clive'}], 'id': 4, 'name': 'Thor'}], 'id': 3, 'name': 'Chi'}], 'id': 2, 'name': 'Sue'}, {'friends': [{...}, {'friends': [{...}, {...}, {...}], 'id': 2, 'name': 'Sue'}, {'friends': [{...}, {'friends': [{...}, {'friends': [{...}, {'friends': [{...}, {'friends': [{...}, {...}], 'id': 7, 'name': 'Devin'}, {'friends': [{...}], 'id': 9, 'name': 'Klein'}], 'id': 8, 'name': 'Kate'}], 'id': 6, 'name': 'Hicks'}, {'friends': [{...}, {'friends': [{'friends': [{...}, {...}], 'id': 6, 'name': 'Hicks'}, {...}, {'friends': [{...}], 'id': 9, 'name': 'Klein'}], 'id': 8, 'name': 'Kate'}], 'id': 7, 'name': 'Devin'}], 'id': 5, 'name': 'Clive'}], 'id': 4, 'name': 'Thor'}], 'id': 3, 'name': 'Chi'}], 'id': 1, 'name': 'Dunn'}, {'friends': [{...}, {'friends': [{...}, {...}, {'friends': [{...}, {...}, {'friends': [{...}, {'friends': [{...}, {'friends': [{...}, {'friends': [{...}, {'friends': [{...}, {...}], 'id': 7, 'name': 'Devin'}, {'friends': [{...}], 'id': 9, 'name': 'Klein'}], 'id': 8, 'name': 'Kate'}], 'id': 6, 'name': 'Hicks'}, {'friends': [{...}, {'friends': [{'friends': [{...}, {...}], 'id': 6, 'name': 'Hicks'}, {...}, {'friends': [{...}], 'id': 9, 'name': 'Klein'}], 'id': 8, 'name': 'Kate'}], 'id': 7, 'name': 'Devin'}], 'id': 5, 'name': 'Clive'}], 'id': 4, 'name': 'Thor'}], 'id': 3, 'name': 'Chi'}], 'id': 1, 'name': 'Dunn'}, {'friends': [{'friends': [{...}, {...}, {...}], 'id': 1, 'name': 'Dunn'}, {...}, {'friends': [{...}, {'friends': [{...}, {'friends': [{...}, {'friends': [{...}, {'friends': [{...}, {...}], 'id': 7, 'name': 'Devin'}, {'friends': [{...}], 'id': 9, 'name': 'Klein'}], 'id': 8, 'name': 'Kate'}], 'id': 6, 'name': 'Hicks'}, {'friends': [{...}, {'friends': [{'friends': [{...}, {...}], 'id': 6, 'name': 'Hicks'}, {...}, {'friends': [{...}], 'id': 9, 'name': 'Klein'}], 'id': 8, 'name': 'Kate'}], 'id': 7, 'name': 'Devin'}], 'id': 5, 'name': 'Clive'}], 'id': 4, 'name': 'Thor'}], 'id': 3, 'name': 'Chi'}], 'id': 2, 'name': 'Sue'}], 'id': 0, 'name': 'Hero'}\n"
     ]
    }
   ],
   "source": [
    "import math, random, re\n",
    "from collections import defaultdict, Counter, deque\n",
    "from functools import partial\n",
    "\n",
    "users = [\n",
    "    { \"id\": 0, \"name\": \"Hero\" },\n",
    "    { \"id\": 1, \"name\": \"Dunn\" },\n",
    "    { \"id\": 2, \"name\": \"Sue\" },\n",
    "    { \"id\": 3, \"name\": \"Chi\" },\n",
    "    { \"id\": 4, \"name\": \"Thor\" },\n",
    "    { \"id\": 5, \"name\": \"Clive\" },\n",
    "    { \"id\": 6, \"name\": \"Hicks\" },\n",
    "    { \"id\": 7, \"name\": \"Devin\" },\n",
    "    { \"id\": 8, \"name\": \"Kate\" },\n",
    "    { \"id\": 9, \"name\": \"Klein\" }\n",
    "]\n",
    "\n",
    "friendships = [(0, 1), (0, 2), (1, 2), (1, 3), (2, 3), (3, 4),\n",
    "               (4, 5), (5, 6), (5, 7), (6, 8), (7, 8), (8, 9)]\n",
    "\n",
    "for user in users:\n",
    "    user[\"friends\"] = []\n",
    "\n",
    "for i, j in friendships:\n",
    "    users[i][\"friends\"].append(users[j])\n",
    "    users[j][\"friends\"].append(users[i])\n",
    "\n",
    "\n",
    "print(users[0])  # What a mess.\n"
   ]
  },
  {
   "cell_type": "code",
   "execution_count": 3,
   "metadata": {
    "collapsed": true
   },
   "outputs": [],
   "source": [
    "\"\"\" some 2D linear algebra stuff from chapter 4 \"\"\"\n",
    "from math import sqrt\n",
    "\n",
    "\n",
    "def vector_add(v, w):\n",
    "    '''adds corresponding elements of vectors'''\n",
    "    return [v_i + w_i for v_i,w_i in zip(v, w)]\n",
    "\n",
    "\n",
    "def vector_subtract(v, w):\n",
    "    '''subtract corresponding elements of vectors'''\n",
    "    return [v_i - w_i for v_i,w_i in zip(v, w)]\n",
    "\n",
    "\n",
    "def vector_sum(vectors):\n",
    "    '''sum all corresponding elements'''\n",
    "    result = vectors[0]\n",
    "    for vector in vectors[1:]:\n",
    "        result = vector_add(result, vector)\n",
    "\n",
    "    return result\n",
    "\n",
    "\n",
    "def vector_sum_fast(vectors):\n",
    "    '''sum all corresponding elements'''\n",
    "    return reduce(vector_add, vectors)\n",
    "\n",
    "\n",
    "def scalar_multiply(c, vector):\n",
    "    '''c is the scalar'''\n",
    "    return [c * v_i for v_i in vector]\n",
    "\n",
    "\n",
    "def vector_mean(vectors):\n",
    "    '''The ith element of the result is the mean of the ith element\n",
    "    of all the input vectors.'''\n",
    "    n = len(vectors)\n",
    "    return scalar_multiply(1/n, vector_sum(vectors))\n",
    "\n",
    "\n",
    "def dot(v, w):\n",
    "    '''the sum of the product of the matching elements\n",
    "    of the input vectors'''\n",
    "    return sum(v_i * w_i for v_i,w_i in zip(v, w))\n",
    "\n",
    "\n",
    "def sum_of_squares(v):\n",
    "    '''add the square of each element'''\n",
    "    return dot(v, v)\n",
    "\n",
    "\n",
    "def magnitude(v):\n",
    "    '''Find the length of a vector in cartesian space'''\n",
    "    return sqrt(sum_of_squares(v))\n",
    "\n",
    "\n",
    "def distance(v, w):\n",
    "    '''Find the distance between two vectors'''\n",
    "    return magnitude(vector_subtract(v, w))\n",
    "\n",
    "\n",
    "def shape(A):\n",
    "    num_rows = len(A)\n",
    "    num_cols = len(A[0] if A else 0)\n",
    "    return num_rows, num_cols\n",
    "\n",
    "\n",
    "def get_row(A, i):\n",
    "    return A[i]\n",
    "\n",
    "\n",
    "def get_col(A, i):\n",
    "    return [A_i[j] for A_i in A]\n",
    "\n",
    "\n",
    "def make_matrix(num_rows, num_cols, entry_fn):\n",
    "    return [[entry_fn(i, j) for j in range(num_cols)] for i in range(num_rows)]\n",
    "\n",
    "\n",
    "def is_diagonal(i, j):\n",
    "    return 1 if i == j else 0\n"
   ]
  },
  {
   "cell_type": "code",
   "execution_count": 15,
   "metadata": {
    "collapsed": true
   },
   "outputs": [],
   "source": [
    "def shortest_paths_from(from_user):\n",
    "    \"\"\" generate the shortest path from one spot to\n",
    "        everywhere else in the graph\n",
    "    \"\"\"\n",
    "    shortest_paths_to = {from_user['id']: [[]]}\n",
    "    frontier = deque((from_user, friend) for friend in from_user['friends'])\n",
    "    \n",
    "    while frontier:\n",
    "        prev_user, user = frontier.popleft()\n",
    "        user_id = user['id']\n",
    "        \n",
    "        paths_to_prev_user = shortest_paths_to[prev_user['id']]\n",
    "        new_paths_to_user = [path + [user_id] for path in paths_to_prev_user]\n",
    "        \n",
    "        old_paths_to_user = shortest_paths_to.get(user_id, [])\n",
    "        if old_paths_to_user:\n",
    "            min_path_length = len(old_paths_to_user[0])\n",
    "        else:\n",
    "            min_path_length = float('inf')\n",
    "        \n",
    "        # only keep short paths that are really new\n",
    "        new_paths_to_user = [path for path in new_paths_to_user\n",
    "                             if len(path) <= min_path_length\n",
    "                             and path not in old_paths_to_user]\n",
    "        \n",
    "        shortest_paths_to[user_id] = old_paths_to_user + new_paths_to_user\n",
    "        \n",
    "        # and new neighbors to the frontier\n",
    "        frontier.extend((user, friend) for friend in user['friends']\n",
    "                        if friend['id'] not in shortest_paths_to)\n",
    "        \n",
    "    return shortest_paths_to"
   ]
  },
  {
   "cell_type": "code",
   "execution_count": 17,
   "metadata": {
    "collapsed": false
   },
   "outputs": [],
   "source": [
    "for user in users:\n",
    "    user['shortest_paths'] = shortest_paths_from(user)"
   ]
  },
  {
   "cell_type": "code",
   "execution_count": 19,
   "metadata": {
    "collapsed": false
   },
   "outputs": [],
   "source": [
    "for user in users:\n",
    "    user['betweeness_centrality'] = 0.0"
   ]
  },
  {
   "cell_type": "code",
   "execution_count": 23,
   "metadata": {
    "collapsed": false
   },
   "outputs": [],
   "source": [
    "for source in users:\n",
    "    source_id = source['id']\n",
    "    for target_id, paths in source['shortest_paths'].items():\n",
    "        if source_id < target_id:\n",
    "            num_paths = len(paths)\n",
    "            contrib = 1.0 / num_paths\n",
    "            for path in paths:\n",
    "                for id in path:\n",
    "                    if id not in [source_id, target_id]:\n",
    "                        users[id]['betweeness_centrality'] += contrib"
   ]
  },
  {
   "cell_type": "code",
   "execution_count": 28,
   "metadata": {
    "collapsed": false
   },
   "outputs": [],
   "source": [
    "def farness(user):\n",
    "    \"\"\" the sum of the lengths of the shortest paths to each other user \"\"\"\n",
    "    return sum(len(paths[0])\n",
    "               for paths in user['shortest_paths'].values())\n",
    "\n",
    "for user in users:\n",
    "    user['closeness_centrality'] = 1.0 / farness(user)"
   ]
  },
  {
   "cell_type": "code",
   "execution_count": 47,
   "metadata": {
    "collapsed": true
   },
   "outputs": [],
   "source": [
    "\"\"\" Page Rank - Toy Model \"\"\"\n",
    "\n",
    "def page_rank(users, damping=0.85, num_iters=100):\n",
    "    \"\"\" A fun little toy model of the Page Rank algorithm \"\"\"\n",
    "    # start with an even distribution\n",
    "    num_users = len(users)\n",
    "    pr = {user['id']: 1.0 / num_users for user in users}\n",
    "    \n",
    "    # the small fraction that each node gets every iteration\n",
    "    base_pr = (1.0 - damping) / num_users\n",
    "    \n",
    "    for _ in range(num_iters):\n",
    "        next_pr = {user['id']: base_pr for user in users}\n",
    "        for user in users:\n",
    "            # distribute page rank to outgoing links\n",
    "            links_pr = pr[user['id']] * damping\n",
    "            for endorsee in user['endorses']:\n",
    "                next_pr[endorsee['id']] += links_pr / len(user['endorses'])\n",
    "        \n",
    "        pr = next_pr\n",
    "    \n",
    "    return pr"
   ]
  },
  {
   "cell_type": "code",
   "execution_count": 53,
   "metadata": {
    "collapsed": false
   },
   "outputs": [
    {
     "data": {
      "text/plain": [
       "{0: 0.03461538461538463,\n",
       " 1: 0.03461538461538463,\n",
       " 2: 0.03461538461538463,\n",
       " 3: 0.03461538461538463,\n",
       " 4: 0.07269456570826435,\n",
       " 5: 0.04344422700587085,\n",
       " 6: 0.03346379647749512,\n",
       " 7: 0.03346379647749512,\n",
       " 8: 0.04344422700587085,\n",
       " 9: 0.03346379647749512}"
      ]
     },
     "execution_count": 53,
     "metadata": {},
     "output_type": "execute_result"
    }
   ],
   "source": [
    "users = [\n",
    "    {\"id\": 0, \"name\": \"Hero\", \"endorses\": []},\n",
    "    {\"id\": 1, \"name\": \"Dunn\", \"endorses\": []},\n",
    "    {\"id\": 2, \"name\": \"Sue\", \"endorses\": []},\n",
    "    {\"id\": 3, \"name\": \"Chi\", \"endorses\": []},\n",
    "    {\"id\": 4, \"name\": \"Thor\", \"endorses\": []},\n",
    "    {\"id\": 5, \"name\": \"Clive\", \"endorses\": []},\n",
    "    {\"id\": 6, \"name\": \"Hicks\", \"endorses\": []},\n",
    "    {\"id\": 7, \"name\": \"Devin\", \"endorses\": []},\n",
    "    {\"id\": 8, \"name\": \"Kate\", \"endorses\": []},\n",
    "    {\"id\": 9, \"name\": \"Klein\", \"endorses\": []}\n",
    "]\n",
    "\n",
    "endorsements = [(0, 1), (1, 0), (0, 2), (2, 0), (1, 2), (2, 1), (1, 3), (0, 4),\n",
    "                (2, 3), (3, 4), (5, 4), (5, 6), (7, 5), (6, 8), (8, 7), (8, 9)]\n",
    "\n",
    "for end in endorsements:\n",
    "    users[end[0]]['endorses'].append(users[end[1]])\n",
    "\n",
    "page_rank(users)"
   ]
  },
  {
   "cell_type": "code",
   "execution_count": null,
   "metadata": {
    "collapsed": true
   },
   "outputs": [],
   "source": []
  }
 ],
 "metadata": {
  "kernelspec": {
   "display_name": "Python 3",
   "language": "python",
   "name": "python3"
  },
  "language_info": {
   "codemirror_mode": {
    "name": "ipython",
    "version": 3
   },
   "file_extension": ".py",
   "mimetype": "text/x-python",
   "name": "python",
   "nbconvert_exporter": "python",
   "pygments_lexer": "ipython3",
   "version": "3.4.3"
  }
 },
 "nbformat": 4,
 "nbformat_minor": 0
}
