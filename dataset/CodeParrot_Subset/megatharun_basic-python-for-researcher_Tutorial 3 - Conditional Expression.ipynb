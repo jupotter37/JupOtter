{
 "cells": [
  {
   "cell_type": "markdown",
   "metadata": {},
   "source": [
    "# <span style=\"color: #B40486\">BASIC PYTHON FOR RESEARCHERS</span>"
   ]
  },
  {
   "cell_type": "markdown",
   "metadata": {},
   "source": [
    "_by_ [**_Megat Harun Al Rashid bin Megat Ahmad_**](https://www.researchgate.net/profile/Megat_Harun_Megat_Ahmad)  \n",
    "last updated: April 14, 2016"
   ]
  },
  {
   "cell_type": "markdown",
   "metadata": {},
   "source": [
    "-------\n",
    "## _<span style=\"color: #29088A\">3. Conditional Expressions</span>_\n"
   ]
  },
  {
   "cell_type": "markdown",
   "metadata": {},
   "source": [
    "$Python$ conditional expressions include the <span style=\"color: #0000FF\">$if/elif/else$</span> statement. In addition the <span style=\"color: #0000FF\">$for$</span> and <span style=\"color: #0000FF\">$while$</span> statements can be used in conditional looping. $Python$ also has the <span style=\"color: #0000FF\">$enumerate$&#40; &#41;</span> function for conditional looping."
   ]
  },
  {
   "cell_type": "markdown",
   "metadata": {},
   "source": [
    "***\n",
    "### **_3.1 The <span style=\"color: #0000FF\">if/else</span> condition_**"
   ]
  },
  {
   "cell_type": "markdown",
   "metadata": {},
   "source": [
    "The <span style=\"color: #0000FF\">$if/else$</span> conditional expression allows statement to be executed if a condition is fulfilled:"
   ]
  },
  {
   "cell_type": "code",
   "execution_count": 1,
   "metadata": {
    "collapsed": false
   },
   "outputs": [
    {
     "name": "stdout",
     "output_type": "stream",
     "text": [
      "The remainder of 56 divided by 3 is 2\n"
     ]
    }
   ],
   "source": [
    "# Calculate the remainder of a divisional operation\n",
    "x = 56\n",
    "y = 3\n",
    "z = x % y         # Modulo operation\n",
    "\n",
    "if z > 0:\n",
    "    print (\"The remainder of %d divided by %d is %d\" % (x,y,z))\n",
    "else:\n",
    "    print \"There's no remainder\""
   ]
  },
  {
   "cell_type": "markdown",
   "metadata": {},
   "source": [
    "The $z = x$ &#37; $y$ operation means that the remainder of $x$ when divided with $y$ will be assigned to $z$. The <span style=\"color: #0000FF\">$if/else$</span> conditional expression above resulted in the printing of the variable $z$ if its value is positive, _i.e._ if $x$ when divided with $y$ has a remainder. If this condition is not fulfilled, then the text \"_There's no remainder_\" will be printed."
   ]
  },
  {
   "cell_type": "markdown",
   "metadata": {},
   "source": [
    "Statements inside conditional expression must be indented with space (not tab). The indentation must be consistent throughout the condition."
   ]
  },
  {
   "cell_type": "markdown",
   "metadata": {},
   "source": [
    "***\n",
    "### **_3.2 The <span style=\"color: #0000FF\">if/elif/else</span> condition_**"
   ]
  },
  {
   "cell_type": "markdown",
   "metadata": {},
   "source": [
    "The <span style=\"color: #0000FF\">$if/elif/else$</span> conditional expression allows multiple conditions to be applied."
   ]
  },
  {
   "cell_type": "code",
   "execution_count": 2,
   "metadata": {
    "collapsed": false
   },
   "outputs": [
    {
     "name": "stdout",
     "output_type": "stream",
     "text": [
      "45 is less than 55\n"
     ]
    }
   ],
   "source": [
    "# Compare the values of two integers\n",
    "\n",
    "int1 = 45\n",
    "int2 = 55\n",
    "\n",
    "if int1 > int2:\n",
    "    print \"%d is larger than %d\" % (int1,int2)\n",
    "elif int1 == int2:\n",
    "    print \"%d is equal to %d\" % (int1,int2)\n",
    "else:\n",
    "    print \"%d is less than %d\" % (int1,int2)"
   ]
  },
  {
   "cell_type": "markdown",
   "metadata": {},
   "source": [
    "In the example above, the first condition always use the <span style=\"color: #0000FF\">$if$</span> condition expression (_i.e._ $int1$ > $int2$). Only if this is not fulfilled will the second condition be evaluated _i.e._ the <span style=\"color: #0000FF\">$elif$</span> condition expression. If this condition is also not fulfilled, then the <span style=\"color: #0000FF\">$else$</span> condition statement will be executed."
   ]
  },
  {
   "cell_type": "markdown",
   "metadata": {},
   "source": [
    "In multiple conditional expressions, all the conditions will be evaluated in sequence. When one of the condition is fulfilled, the sequential evaluation will stop and the statement for that conditions will be executed."
   ]
  },
  {
   "cell_type": "markdown",
   "metadata": {},
   "source": [
    "Some of the conditional operators that can be used in a conditional expression:"
   ]
  },
  {
   "cell_type": "markdown",
   "metadata": {},
   "source": [
    "|Condition|Function|\n",
    "|---|---|\n",
    "|>|more than|\n",
    "|<|less than|\n",
    "|>=|equal or more than|\n",
    "|<=|equal or less than|\n",
    "|==|equal to|\n",
    "|!=|not equal to|\n",
    "|and|more than one conditional operations are true|\n",
    "|or|either one conditional operations is true|"
   ]
  },
  {
   "cell_type": "markdown",
   "metadata": {},
   "source": [
    "In general, the multiple conditional expressions format is:  \n",
    "  \n",
    "_if (condition/s 1):_\n",
    ">_statement 1.1_  \n",
    "_statement 1.2_  \n",
    "......\n",
    "\n",
    "_elif (condition/s 2):_\n",
    ">_statement 2.1_  \n",
    "......  \n",
    "\n",
    "_elif (condition/s 3):_  \n",
    ">_statement 3.1_  \n",
    "......  \n",
    "\n",
    "......  \n",
    "......  \n",
    "......  \n",
    "\n",
    "\n",
    "_else:_  \n",
    ">_statement_  \n",
    "......"
   ]
  },
  {
   "cell_type": "markdown",
   "metadata": {},
   "source": [
    "The statement in each conditional expression can also be a conditional expression."
   ]
  },
  {
   "cell_type": "markdown",
   "metadata": {},
   "source": [
    "#### <span style=\"color: #F5DA81; background-color: #610B4B\">Example 3.1</span>: Determine the maximum and minimum of three different integers: 34,12,67."
   ]
  },
  {
   "cell_type": "code",
   "execution_count": 3,
   "metadata": {
    "collapsed": false
   },
   "outputs": [
    {
     "name": "stdout",
     "output_type": "stream",
     "text": [
      "Maximum integer is 67\n",
      "Minimum integer is 12\n"
     ]
    }
   ],
   "source": [
    "x = 34\n",
    "y = 12\n",
    "z = 67\n",
    "\n",
    "if x > y:\n",
    "    if y > z:\n",
    "        print 'Maximum integer is %d' % x\n",
    "        print 'Minimum integer is %d' % z\n",
    "    elif z > x:\n",
    "        print 'Maximum integer is %d' % z\n",
    "        print 'Minimum integer is %d' % y\n",
    "    else:\n",
    "        print 'Maximum integer is %d' % x\n",
    "        print 'Minimum integer is %d' % y\n",
    "        \n",
    "else:  # y > x\n",
    "    if x > z:\n",
    "        print 'Maximum integer is %d' % y\n",
    "        print 'Minimum integer is %d' % z\n",
    "    elif z > y:\n",
    "        print 'Maximum integer is %d' % z\n",
    "        print 'Minimum integer is %d' % x\n",
    "    else:\n",
    "        print 'Maximum integer is %d' % y\n",
    "        print 'Minimum integer is %d' % x\n",
    "\n"
   ]
  },
  {
   "cell_type": "markdown",
   "metadata": {},
   "source": [
    "#### <span style=\"color: #F5DA81; background-color: #610B4B\">Example 3.2</span>: Use only one type of conditional operator for Exercise 3.1."
   ]
  },
  {
   "cell_type": "code",
   "execution_count": 4,
   "metadata": {
    "collapsed": false
   },
   "outputs": [
    {
     "name": "stdout",
     "output_type": "stream",
     "text": [
      "Maximum integer is 67\n",
      "Minimum integer is 12\n"
     ]
    }
   ],
   "source": [
    "x = 34\n",
    "y = 12\n",
    "z = 67\n",
    "\n",
    "if x > y > z:\n",
    "    print 'Maximum integer is %d' % x\n",
    "    print 'Minimum integer is %d' % z\n",
    "\n",
    "elif x > z > y:\n",
    "    print 'Maximum integer is %d' % x\n",
    "    print 'Minimum integer is %d' % y\n",
    "    \n",
    "elif y > x > z:\n",
    "    print 'Maximum integer is %d' % y\n",
    "    print 'Minimum integer is %d' % z\n",
    "\n",
    "elif y > z > x:\n",
    "    print 'Maximum integer is %d' % y\n",
    "    print 'Minimum integer is %d' % x\n",
    "\n",
    "elif z > x > y:\n",
    "    print 'Maximum integer is %d' % z\n",
    "    print 'Minimum integer is %d' % y\n",
    "\n",
    "else:\n",
    "    print 'Maximum integer is %d' % z\n",
    "    print 'Minimum integer is %d' % x"
   ]
  },
  {
   "cell_type": "markdown",
   "metadata": {},
   "source": [
    "#### <span style=\"color: #F5DA81; background-color: #610B4B\">Exercise 3.1</span>: What if two or all integers have the same value. Try this and run the codes that solve Examples 3.1 and 3.2."
   ]
  },
  {
   "cell_type": "markdown",
   "metadata": {},
   "source": [
    "Codes in Example 3.1 seems more robust but 3.2 can be made more robust adding `'>='` instead of `'>'`."
   ]
  },
  {
   "cell_type": "code",
   "execution_count": 5,
   "metadata": {
    "collapsed": false
   },
   "outputs": [
    {
     "name": "stdout",
     "output_type": "stream",
     "text": [
      "Maximum integer is 99\n",
      "Minimum integer is 78\n"
     ]
    }
   ],
   "source": [
    "x = 78\n",
    "y = 78\n",
    "z = 99\n",
    "\n",
    "if x >= y >= z:\n",
    "    print 'Maximum integer is %d' % x\n",
    "    print 'Minimum integer is %d' % z\n",
    "\n",
    "elif x >= z >= y:\n",
    "    print 'Maximum integer is %d' % x\n",
    "    print 'Minimum integer is %d' % y\n",
    "    \n",
    "elif y >= x >= z:\n",
    "    print 'Maximum integer is %d' % y\n",
    "    print 'Minimum integer is %d' % z\n",
    "\n",
    "elif y >= z >= x:\n",
    "    print 'Maximum integer is %d' % y\n",
    "    print 'Minimum integer is %d' % x\n",
    "\n",
    "elif z >= x >= y:\n",
    "    print 'Maximum integer is %d' % z\n",
    "    print 'Minimum integer is %d' % y\n",
    "\n",
    "else:\n",
    "    print 'Maximum integer is %d' % z\n",
    "    print 'Minimum integer is %d' % x"
   ]
  },
  {
   "cell_type": "markdown",
   "metadata": {},
   "source": [
    "***\n",
    "### **_3.3 The <span style=\"color: #0000FF\">for</span> and <span style=\"color: #0000FF\">while</span> conditions_**"
   ]
  },
  {
   "cell_type": "markdown",
   "metadata": {},
   "source": [
    "The <span style=\"color: #0000FF\">$for$</span> and <span style=\"color: #0000FF\">$while$</span> functions can be used to do repetitive action. The indentation with space (not tab) for statements inside the loop is also applied and consistent throughout the condition."
   ]
  },
  {
   "cell_type": "code",
   "execution_count": 6,
   "metadata": {
    "collapsed": false
   },
   "outputs": [
    {
     "name": "stdout",
     "output_type": "stream",
     "text": [
      "0\n",
      "1\n",
      "2\n",
      "3\n",
      "4\n"
     ]
    }
   ],
   "source": [
    "for i in range(0,5,1):\n",
    "    print i"
   ]
  },
  {
   "cell_type": "markdown",
   "metadata": {},
   "source": [
    "Here the variable $i$ will be assigned the value of $0$ and cyclically incremented $5$ times by adding the integer $1$ to it each time. Only integer values are accepted in the parenthesis of the _range_ statement. The first integer is the intial value of the $i$ variable, the second integer indicates (not-inclusive) the limiting value of the $i$ variable and the third integer represent the integer added to the variable $i$ for each cycles."
   ]
  },
  {
   "cell_type": "code",
   "execution_count": 7,
   "metadata": {
    "collapsed": false
   },
   "outputs": [
    {
     "name": "stdout",
     "output_type": "stream",
     "text": [
      "8\n",
      "14\n",
      "20\n",
      "26\n",
      "32\n"
     ]
    }
   ],
   "source": [
    "for i in range(4,17,3):\n",
    "    print i*2"
   ]
  },
  {
   "cell_type": "markdown",
   "metadata": {},
   "source": [
    "The conditional looping can be nested as examplified below:"
   ]
  },
  {
   "cell_type": "code",
   "execution_count": 8,
   "metadata": {
    "collapsed": false,
    "scrolled": false
   },
   "outputs": [
    {
     "name": "stdout",
     "output_type": "stream",
     "text": [
      "1 x 6 = 6\n",
      "1 x 7 = 7\n",
      "1 x 8 = 8\n",
      "1 x 9 = 9\n",
      "1 x 10 = 10\n",
      "2 x 6 = 12\n",
      "2 x 7 = 14\n",
      "2 x 8 = 16\n",
      "2 x 9 = 18\n",
      "2 x 10 = 20\n",
      "3 x 6 = 18\n",
      "3 x 7 = 21\n",
      "3 x 8 = 24\n",
      "3 x 9 = 27\n",
      "3 x 10 = 30\n",
      "4 x 6 = 24\n",
      "4 x 7 = 28\n",
      "4 x 8 = 32\n",
      "4 x 9 = 36\n",
      "4 x 10 = 40\n",
      "5 x 6 = 30\n",
      "5 x 7 = 35\n",
      "5 x 8 = 40\n",
      "5 x 9 = 45\n",
      "5 x 10 = 50\n"
     ]
    }
   ],
   "source": [
    "for i in range(1,6,1):\n",
    "    for j in range(6,11,1):\n",
    "        print '%d x %d = %d' % (i,j,i*j)"
   ]
  },
  {
   "cell_type": "markdown",
   "metadata": {},
   "source": [
    "It is also possible to loop into the elements of a string (_i.e._ a $list$)."
   ]
  },
  {
   "cell_type": "code",
   "execution_count": 9,
   "metadata": {
    "collapsed": false
   },
   "outputs": [
    {
     "name": "stdout",
     "output_type": "stream",
     "text": [
      "N\n",
      "u\n",
      "m\n",
      "p\n",
      "y\n"
     ]
    }
   ],
   "source": [
    "for name in 'Numpy':\n",
    "    print name"
   ]
  },
  {
   "cell_type": "markdown",
   "metadata": {},
   "source": [
    "The <span style=\"color: #0000FF\">$while$</span> function works similarly like <span style=\"color: #0000FF\">$for$</span> but initialization of the variable is performed before the <span style=\"color: #0000FF\">$while$</span> statement and incrementing process is carried out as part of the loop argument. "
   ]
  },
  {
   "cell_type": "code",
   "execution_count": 10,
   "metadata": {
    "collapsed": false
   },
   "outputs": [
    {
     "name": "stdout",
     "output_type": "stream",
     "text": [
      "0\n",
      "6\n",
      "12\n",
      "18\n",
      "24\n"
     ]
    }
   ],
   "source": [
    "z = 0\n",
    "while z < 27:\n",
    "    print z\n",
    "    z = z + 6"
   ]
  },
  {
   "cell_type": "markdown",
   "metadata": {},
   "source": [
    "***\n",
    "### **_3.3 The <span style=\"color: #0000FF\">$enumerate$&#40; &#41;</span> function_**"
   ]
  },
  {
   "cell_type": "markdown",
   "metadata": {},
   "source": [
    "The <span style=\"color: #0000FF\">$enumerate$&#40; &#41;</span> function will make the <span style=\"color: #0000FF\">$for$</span> looping condition looking more comprehensible. The argument for this function is a $list$."
   ]
  },
  {
   "cell_type": "code",
   "execution_count": 11,
   "metadata": {
    "collapsed": false
   },
   "outputs": [
    {
     "name": "stdout",
     "output_type": "stream",
     "text": [
      "0 \tN\n",
      "1 \tu\n",
      "2 \tm\n",
      "3 \tp\n",
      "4 \ty\n"
     ]
    }
   ],
   "source": [
    "for i,j in enumerate('Numpy'):\n",
    "    print i, '\\t', j"
   ]
  },
  {
   "cell_type": "code",
   "execution_count": 12,
   "metadata": {
    "collapsed": false
   },
   "outputs": [
    {
     "name": "stdout",
     "output_type": "stream",
     "text": [
      "(0, 'N')\n",
      "(1, 'u')\n",
      "(2, 'm')\n",
      "(3, 'p')\n",
      "(4, 'y')\n"
     ]
    }
   ],
   "source": [
    "for item in enumerate('Numpy'):\n",
    "    print item"
   ]
  },
  {
   "cell_type": "markdown",
   "metadata": {},
   "source": [
    "The <span style=\"color: #0000FF\">$enumerate$&#40; &#41;</span> function allows the extraction of both the default position and its element of a $list$. In the first example, the two variables $i$ and $j$ will be assigned the $list$ default positional number and its element, respectively. In the second example, the variable $item$ will be assigned a tuple that consists the pair of default positional number and its element of the $list$."
   ]
  },
  {
   "cell_type": "markdown",
   "metadata": {},
   "source": [
    "The default positional number can be initiated to a different number. This can be done by passing the initial number as another argument in the <span style=\"color: #0000FF\">$enumerate$&#40; &#41;</span> function."
   ]
  },
  {
   "cell_type": "code",
   "execution_count": 13,
   "metadata": {
    "collapsed": false
   },
   "outputs": [
    {
     "name": "stdout",
     "output_type": "stream",
     "text": [
      "(5, 'N')\n",
      "(6, 'u')\n",
      "(7, 'm')\n",
      "(8, 'p')\n",
      "(9, 'y')\n"
     ]
    }
   ],
   "source": [
    "for item in enumerate('Numpy',5):\n",
    "    print item"
   ]
  },
  {
   "cell_type": "markdown",
   "metadata": {},
   "source": [
    "More on conditional expressions and looping can be found on https://docs.python.org/2/tutorial/controlflow.html"
   ]
  }
 ],
 "metadata": {
  "kernelspec": {
   "display_name": "Python 2",
   "language": "python",
   "name": "python2"
  },
  "language_info": {
   "codemirror_mode": {
    "name": "ipython",
    "version": 2
   },
   "file_extension": ".py",
   "mimetype": "text/x-python",
   "name": "python",
   "nbconvert_exporter": "python",
   "pygments_lexer": "ipython2",
   "version": "2.7.11"
  }
 },
 "nbformat": 4,
 "nbformat_minor": 0
}
