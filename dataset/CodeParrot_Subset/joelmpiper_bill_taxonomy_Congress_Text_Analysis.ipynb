{
 "cells": [
  {
   "cell_type": "code",
   "execution_count": 2,
   "metadata": {
    "collapsed": false
   },
   "outputs": [
    {
     "name": "stdout",
     "output_type": "stream",
     "text": [
      "postgres://Joel@localhost/bills_db\n"
     ]
    }
   ],
   "source": [
    "## Python packages - you may have to pip install sqlalchemy, sqlalchemy_utils, and psycopg2.\n",
    "from sqlalchemy import create_engine\n",
    "from sqlalchemy_utils import database_exists, create_database\n",
    "import psycopg2\n",
    "import pandas as pd\n",
    "#In Python: Define a database name (we're using a dataset on births, so I call it \n",
    "# birth_db), and your username for your computer (CHANGE IT BELOW). \n",
    "dbname = 'bills_db'\n",
    "username = 'Joel'\n",
    "## 'engine' is a connection to a database\n",
    "## Here, we're using postgres, but sqlalchemy can connect to other things too.\n",
    "engine = create_engine('postgres://%s@localhost/%s'%(username,dbname))\n",
    "print engine.url"
   ]
  },
  {
   "cell_type": "code",
   "execution_count": 3,
   "metadata": {
    "collapsed": false
   },
   "outputs": [
    {
     "data": {
      "text/html": [
       "<div>\n",
       "<table border=\"1\" class=\"dataframe\">\n",
       "  <thead>\n",
       "    <tr style=\"text-align: right;\">\n",
       "      <th></th>\n",
       "      <th>bill_num</th>\n",
       "      <th>bill_name</th>\n",
       "      <th>bill_text</th>\n",
       "      <th>top_subject</th>\n",
       "    </tr>\n",
       "  </thead>\n",
       "  <tbody>\n",
       "    <tr>\n",
       "      <th>0</th>\n",
       "      <td>hconres1-114</td>\n",
       "      <td>Regarding consent to assemble outside the seat...</td>\n",
       "      <td>{\"\\n\",\"[Congressional Bills 114th Congress]\\n\"...</td>\n",
       "      <td>Congress</td>\n",
       "    </tr>\n",
       "    <tr>\n",
       "      <th>1</th>\n",
       "      <td>hconres10-114</td>\n",
       "      <td>Recognizing the challenges and burdens associa...</td>\n",
       "      <td>{\"\\n\",\"[Congressional Bills 114th Congress]\\n\"...</td>\n",
       "      <td>Education</td>\n",
       "    </tr>\n",
       "    <tr>\n",
       "      <th>2</th>\n",
       "      <td>hconres100-114</td>\n",
       "      <td>Expressing the sense of the Congress regarding...</td>\n",
       "      <td>{\"\\n\",\"[Congressional Bills 114th Congress]\\n\"...</td>\n",
       "      <td>International affairs</td>\n",
       "    </tr>\n",
       "    <tr>\n",
       "      <th>3</th>\n",
       "      <td>hconres101-114</td>\n",
       "      <td>Supporting the Association of American Veterin...</td>\n",
       "      <td>{\"\\n\",\"[Congressional Bills 114th Congress]\\n\"...</td>\n",
       "      <td>Education</td>\n",
       "    </tr>\n",
       "    <tr>\n",
       "      <th>4</th>\n",
       "      <td>hconres102-114</td>\n",
       "      <td>Providing for a joint session of Congress to r...</td>\n",
       "      <td>{\"\\n\",\"[Congressional Bills 114th Congress]\\n\"...</td>\n",
       "      <td>Congress</td>\n",
       "    </tr>\n",
       "  </tbody>\n",
       "</table>\n",
       "</div>"
      ],
      "text/plain": [
       "         bill_num                                          bill_name  \\\n",
       "0    hconres1-114  Regarding consent to assemble outside the seat...   \n",
       "1   hconres10-114  Recognizing the challenges and burdens associa...   \n",
       "2  hconres100-114  Expressing the sense of the Congress regarding...   \n",
       "3  hconres101-114  Supporting the Association of American Veterin...   \n",
       "4  hconres102-114  Providing for a joint session of Congress to r...   \n",
       "\n",
       "                                           bill_text            top_subject  \n",
       "0  {\"\\n\",\"[Congressional Bills 114th Congress]\\n\"...               Congress  \n",
       "1  {\"\\n\",\"[Congressional Bills 114th Congress]\\n\"...              Education  \n",
       "2  {\"\\n\",\"[Congressional Bills 114th Congress]\\n\"...  International affairs  \n",
       "3  {\"\\n\",\"[Congressional Bills 114th Congress]\\n\"...              Education  \n",
       "4  {\"\\n\",\"[Congressional Bills 114th Congress]\\n\"...               Congress  "
      ]
     },
     "execution_count": 3,
     "metadata": {},
     "output_type": "execute_result"
    }
   ],
   "source": [
    "## Now try the same queries, but in python!\n",
    "\n",
    "# connect:\n",
    "con = None\n",
    "con = psycopg2.connect(database = dbname, user = username)\n",
    "\n",
    "# query:\n",
    "sql_query = \"\"\"\n",
    "SELECT * FROM us_bills;\n",
    "\"\"\"\n",
    "us_bills = pd.read_sql_query(sql_query,con)\n",
    "\n",
    "us_bills.head()"
   ]
  },
  {
   "cell_type": "code",
   "execution_count": 9,
   "metadata": {
    "collapsed": false
   },
   "outputs": [
    {
     "data": {
      "text/plain": [
       "'{\"\\n\",\"[Congressional Bills 114th Congress]\\n\",\"[From the U.S. Government Printing Office]\\n\",\"[H. Con. Res. 1 Received in Senate (RDS)]\\n\",\"\\n\",\"114th CONGRESS\\n\",\"  1st Session\\n\",\"H. CON. RES. 1\\n\",\"\\n\",\"\\n\",\"_______________________________________________________________________\\n\",\"\\n\",\"\\n\",\"                   IN THE SENATE OF THE UNITED STATES\\n\",\"\\n\",\"                            January 7, 2015\\n\",\"\\n\",\"                                Received\\n\",\"\\n\",\"_______________________________________________________________________\\n\",\"\\n\",\"                         CONCURRENT RESOLUTION\\n\",\"\\n\",\"\\n\",\" \\n\",\"     Regarding consent to assemble outside the seat of government.\\n\",\"\\n\",\"    Resolved by the House of Representatives (the Senate concurring), \\n\",\"That pursuant to clause 4, section 5, article I of the Constitution, \\n\",\"during the One Hundred Fourteenth Congress the Speaker of the House and \\n\",\"the Majority Leader of the Senate or their respective designees, acting \\n\",\"jointly after consultation with the Minority Leader of the House and \\n\",\"the Minority Leader of the Senate,\\n\",\"\\n\",\"\\n\",\"              \\n\",\"\\n\",\"may notify the Members of the House and the Senate, respectively, to \\n\",\"assemble at a place outside the District of Columbia if, in their \\n\",\"opinion, the public interest shall warrant it.\\n\",\"\\n\",\"            Passed the House of Representatives January 6, 2015.\\n\",\"\\n\",\"            Attest:\\n\",\"\\n\",\"                                                 KAREN L. HAAS,\\n\",\"\\n\",\"                                                                 Clerk.\\n\"}'"
      ]
     },
     "execution_count": 9,
     "metadata": {},
     "output_type": "execute_result"
    }
   ],
   "source": [
    "us_bills.iloc[0]['bill_text']"
   ]
  },
  {
   "cell_type": "code",
   "execution_count": 11,
   "metadata": {
    "collapsed": false
   },
   "outputs": [
    {
     "name": "stderr",
     "output_type": "stream",
     "text": [
      "/Users/Joel/anaconda/envs/insight/lib/python2.7/site-packages/matplotlib/font_manager.py:273: UserWarning: Matplotlib is building the font cache using fc-list. This may take a moment.\n",
      "  warnings.warn('Matplotlib is building the font cache using fc-list. This may take a moment.')\n"
     ]
    }
   ],
   "source": [
    "from os import path\n",
    "from wordcloud import WordCloud\n",
    "import matplotlib.pyplot as plt\n",
    "%matplotlib inline"
   ]
  },
  {
   "cell_type": "code",
   "execution_count": 14,
   "metadata": {
    "collapsed": false
   },
   "outputs": [
    {
     "data": {
      "text/plain": [
       "(10933,)"
      ]
     },
     "execution_count": 14,
     "metadata": {},
     "output_type": "execute_result"
    }
   ],
   "source": [
    "bill_text = us_bills['bill_text']\n",
    "bill_text.shape"
   ]
  },
  {
   "cell_type": "code",
   "execution_count": 17,
   "metadata": {
    "collapsed": false
   },
   "outputs": [],
   "source": [
    "words = [bill.split() for bill in bill_text]"
   ]
  },
  {
   "cell_type": "code",
   "execution_count": 27,
   "metadata": {
    "collapsed": false
   },
   "outputs": [],
   "source": [
    "import re\n",
    "refined_words = [re.sub(r'[\\W_]+','',s).lower() for word in words for s in word]"
   ]
  },
  {
   "cell_type": "code",
   "execution_count": 38,
   "metadata": {
    "collapsed": false
   },
   "outputs": [],
   "source": [
    "no_empties = [x for x in refined_words if len(x) > 3]"
   ]
  },
  {
   "cell_type": "code",
   "execution_count": 41,
   "metadata": {
    "collapsed": false
   },
   "outputs": [
    {
     "data": {
      "text/plain": [
       "13009999"
      ]
     },
     "execution_count": 41,
     "metadata": {},
     "output_type": "execute_result"
    }
   ],
   "source": [
    "len(no_empties)"
   ]
  },
  {
   "cell_type": "code",
   "execution_count": 46,
   "metadata": {
    "collapsed": false
   },
   "outputs": [],
   "source": [
    "wordcloud = WordCloud().generate(reduce(lambda a, b: a + \" \" + b, no_empties[0:100000]))"
   ]
  },
  {
   "cell_type": "code",
   "execution_count": 47,
   "metadata": {
    "collapsed": false
   },
   "outputs": [
    {
     "data": {
      "text/plain": [
       "(-0.5, 399.5, 199.5, -0.5)"
      ]
     },
     "execution_count": 47,
     "metadata": {},
     "output_type": "execute_result"
    },
    {
     "data": {
      "image/png": "[encoded data removed]",
      "text/plain": [
       "<matplotlib.figure.Figure at 0x1e7ec6250>"
      ]
     },
     "metadata": {},
     "output_type": "display_data"
    }
   ],
   "source": [
    "plt.imshow(wordcloud)\n",
    "plt.axis(\"off\")"
   ]
  },
  {
   "cell_type": "code",
   "execution_count": 48,
   "metadata": {
    "collapsed": false
   },
   "outputs": [
    {
     "data": {
      "image/png": "[encoded data removed]",
      "text/plain": [
       "<matplotlib.figure.Figure at 0x1e7475390>"
      ]
     },
     "metadata": {},
     "output_type": "display_data"
    }
   ],
   "source": [
    "wordcloud = WordCloud(max_font_size=40, relative_scaling=.5).generate(reduce(lambda a,b: a+\" \"+b,no_empties[0:100000]))\n",
    "plt.figure()\n",
    "plt.imshow(wordcloud)\n",
    "plt.axis(\"off\")\n",
    "plt.show()"
   ]
  },
  {
   "cell_type": "code",
   "execution_count": null,
   "metadata": {
    "collapsed": true
   },
   "outputs": [],
   "source": []
  },
  {
   "cell_type": "code",
   "execution_count": 49,
   "metadata": {
    "collapsed": true
   },
   "outputs": [],
   "source": [
    "from sklearn.feature_extraction.text import CountVectorizer"
   ]
  },
  {
   "cell_type": "code",
   "execution_count": 50,
   "metadata": {
    "collapsed": false
   },
   "outputs": [
    {
     "data": {
      "text/plain": [
       "[u'00',\n",
       " u'000',\n",
       " u'0000',\n",
       " u'000005042',\n",
       " u'00007',\n",
       " u'0001',\n",
       " u'0002',\n",
       " u'0003',\n",
       " u'00034',\n",
       " u'0005',\n",
       " u'000in',\n",
       " u'000mi',\n",
       " u'000th',\n",
       " u'001',\n",
       " u'00168',\n",
       " u'002',\n",
       " u'00200',\n",
       " u'0025',\n",
       " u'0028',\n",
       " u'002a',\n",
       " u'003',\n",
       " u'0030',\n",
       " u'00315',\n",
       " u'0035',\n",
       " u'0039',\n",
       " u'004',\n",
       " u'00436',\n",
       " u'005',\n",
       " u'00506',\n",
       " u'00549',\n",
       " u'0056',\n",
       " u'006',\n",
       " u'0060',\n",
       " u'0067',\n",
       " u'007',\n",
       " u'008',\n",
       " u'0080',\n",
       " u'00801',\n",
       " u'0081',\n",
       " u'0082',\n",
       " u'0083',\n",
       " u'009',\n",
       " u'0090',\n",
       " u'01',\n",
       " u'010',\n",
       " u'0100',\n",
       " u'0101',\n",
       " u'0101113f',\n",
       " u'0101122f',\n",
       " u'0101125f',\n",
       " u'0101126f',\n",
       " u'0101127f',\n",
       " u'0101213f',\n",
       " u'0101221n',\n",
       " u'0101224n',\n",
       " u'0101226n',\n",
       " u'0101313f',\n",
       " u'0101314f',\n",
       " u'0101316f',\n",
       " u'0101402n',\n",
       " u'0102110f',\n",
       " u'0102326f',\n",
       " u'0105921f',\n",
       " u'0106',\n",
       " u'01080',\n",
       " u'011',\n",
       " u'0117',\n",
       " u'012',\n",
       " u'01247',\n",
       " u'012a',\n",
       " u'013',\n",
       " u'01367',\n",
       " u'013b',\n",
       " u'014',\n",
       " u'014a',\n",
       " u'015',\n",
       " u'015a',\n",
       " u'016',\n",
       " u'016a',\n",
       " u'017',\n",
       " u'0172',\n",
       " u'0178',\n",
       " u'018',\n",
       " u'01832',\n",
       " u'0189',\n",
       " u'019',\n",
       " u'019a',\n",
       " u'01b',\n",
       " u'01h',\n",
       " u'01rv14136',\n",
       " u'02',\n",
       " u'020',\n",
       " u'0202',\n",
       " u'0202429a',\n",
       " u'0203345d8z',\n",
       " u'0203728a',\n",
       " u'0203735a',\n",
       " u'0203740a',\n",
       " u'0203744a',\n",
       " u'0203752a',\n",
       " u'0203758a',\n",
       " u'0203761n',\n",
       " u'0203801a',\n",
       " u'0203802a',\n",
       " u'0203808a',\n",
       " u'0204136n',\n",
       " u'0204163n',\n",
       " u'0204202n',\n",
       " u'0204228n',\n",
       " u'0204229n',\n",
       " u'0204311n',\n",
       " u'0204413n',\n",
       " u'0204460m',\n",
       " u'0204571j',\n",
       " u'0204571n',\n",
       " u'0204574n',\n",
       " u'0204575n',\n",
       " u'0205219f',\n",
       " u'0205402a',\n",
       " u'0205410a',\n",
       " u'0205456a',\n",
       " u'0205601n',\n",
       " u'0205604n',\n",
       " u'0205620n',\n",
       " u'0205632n',\n",
       " u'0205633n',\n",
       " u'0205671f',\n",
       " u'0205675n',\n",
       " u'0205778a',\n",
       " u'0206313m',\n",
       " u'0206335m',\n",
       " u'0206623m',\n",
       " u'0206624m',\n",
       " u'0206625m',\n",
       " u'0206629m',\n",
       " u'0207110f',\n",
       " u'0207131f',\n",
       " u'0207133f',\n",
       " u'0207134f',\n",
       " u'0207136f',\n",
       " u'0207138f',\n",
       " u'0207142f',\n",
       " u'0207161f',\n",
       " u'0207161n',\n",
       " u'0207163f',\n",
       " u'0207163n',\n",
       " u'0207171f',\n",
       " u'0207224f',\n",
       " u'0207227f',\n",
       " u'0207247f',\n",
       " u'0207249f',\n",
       " u'0207253f',\n",
       " u'0207268f',\n",
       " u'0207325f',\n",
       " u'0207410f',\n",
       " u'0207412f',\n",
       " u'0207417f',\n",
       " u'0207418f',\n",
       " u'0207431f',\n",
       " u'0207444f',\n",
       " u'0207448f',\n",
       " u'0207452f',\n",
       " u'0207455f',\n",
       " u'0207590f',\n",
       " u'0207601f',\n",
       " u'0207605f',\n",
       " u'0207697f',\n",
       " u'0207701f',\n",
       " u'0208006f',\n",
       " u'0208043j',\n",
       " u'0208045k',\n",
       " u'0208053a',\n",
       " u'0208087f',\n",
       " u'0208088f',\n",
       " u'021',\n",
       " u'0210609a',\n",
       " u'0211',\n",
       " u'0219902m',\n",
       " u'022',\n",
       " u'023',\n",
       " u'024',\n",
       " u'025',\n",
       " u'025a',\n",
       " u'026',\n",
       " u'027',\n",
       " u'028',\n",
       " u'028a',\n",
       " u'028b',\n",
       " u'029',\n",
       " u'03',\n",
       " u'030',\n",
       " u'03005',\n",
       " u'0301017f',\n",
       " u'0301112f',\n",
       " u'0301144k',\n",
       " u'0301400f',\n",
       " u'0302015f',\n",
       " u'0302016k',\n",
       " u'0302019k',\n",
       " u'0303001f',\n",
       " u'0303028a',\n",
       " u'0303032a',\n",
       " u'0303109n',\n",
       " u'0303126k',\n",
       " u'0303131f',\n",
       " u'0303131k',\n",
       " u'0303135g',\n",
       " u'0303136g',\n",
       " u'0303138n',\n",
       " u'0303140a',\n",
       " u'0303140d8z',\n",
       " u'0303140f',\n",
       " u'0303140g',\n",
       " u'0303140n',\n",
       " u'0303141a',\n",
       " u'0303141f',\n",
       " u'0303141k',\n",
       " u'0303142a',\n",
       " u'0303142f',\n",
       " u'0303150a',\n",
       " u'0303150k',\n",
       " u'0303150m',\n",
       " u'0303153k',\n",
       " u'0303166j',\n",
       " u'0303170k',\n",
       " u'0303191d8z',\n",
       " u'0303228k',\n",
       " u'0303260a',\n",
       " u'0303260d8z',\n",
       " u'0303310d8z',\n",
       " u'0303354n',\n",
       " u'0303430k',\n",
       " u'0303610k',\n",
       " u'0304210bb',\n",
       " u'0304231n',\n",
       " u'0304260f',\n",
       " u'0304270a',\n",
       " u'0304270n',\n",
       " u'0304785n',\n",
       " u'0305099f',\n",
       " u'0305103c',\n",
       " u'0305103k',\n",
       " u'0305110f',\n",
       " u'0305111f',\n",
       " u'0305114f',\n",
       " u'0305116f',\n",
       " u'0305124n',\n",
       " u'0305128f',\n",
       " u'0305145f',\n",
       " u'0305146f',\n",
       " u'0305160f',\n",
       " u'0305160n',\n",
       " u'0305164f',\n",
       " u'0305172k',\n",
       " u'0305173f',\n",
       " u'0305174f',\n",
       " u'0305176f',\n",
       " u'0305179a',\n",
       " u'0305179f',\n",
       " u'0305182f',\n",
       " u'0305186d8z',\n",
       " u'0305192n',\n",
       " u'0305193d8z',\n",
       " u'0305199d8z',\n",
       " u'0305202f',\n",
       " u'0305204a',\n",
       " u'0305204n',\n",
       " u'0305205n',\n",
       " u'0305206a',\n",
       " u'0305206f',\n",
       " u'0305207f',\n",
       " u'0305208a',\n",
       " u'0305208bb',\n",
       " u'0305208f',\n",
       " u'0305208k',\n",
       " u'0305208m',\n",
       " u'0305208n',\n",
       " u'0305219a',\n",
       " u'0305219f',\n",
       " u'0305220f',\n",
       " u'0305220n',\n",
       " u'0305221f',\n",
       " u'0305231n',\n",
       " u'0305232a',\n",
       " u'0305232m',\n",
       " u'0305233a',\n",
       " u'0305233n',\n",
       " u'0305234n',\n",
       " u'0305236f',\n",
       " u'0305238f',\n",
       " u'0305239m',\n",
       " u'0305240f',\n",
       " u'0305241n',\n",
       " u'0305242m',\n",
       " u'0305251a',\n",
       " u'0305258f',\n",
       " u'0305265f',\n",
       " u'0305304d8z',\n",
       " u'0305327v',\n",
       " u'0305387d8z',\n",
       " u'0305421n',\n",
       " u'0305600f',\n",
       " u'0305614f',\n",
       " u'0305881f',\n",
       " u'0305906f',\n",
       " u'0305913f',\n",
       " u'0305940f',\n",
       " u'0306250f',\n",
       " u'0306250m',\n",
       " u'0306415f',\n",
       " u'0307577d8z',\n",
       " u'0307581f',\n",
       " u'0307665a',\n",
       " u'0308601n',\n",
       " u'0308602f',\n",
       " u'0308699f',\n",
       " u'030a',\n",
       " u'031',\n",
       " u'0310349a',\n",
       " u'03110',\n",
       " u'032',\n",
       " u'03232',\n",
       " u'0327',\n",
       " u'033',\n",
       " u'034',\n",
       " u'0340',\n",
       " u'034a',\n",
       " u'035',\n",
       " u'036',\n",
       " u'03600',\n",
       " u'036a',\n",
       " u'037',\n",
       " u'037a',\n",
       " u'038',\n",
       " u'039',\n",
       " u'0390',\n",
       " u'0391',\n",
       " u'0396',\n",
       " u'039a',\n",
       " u'04',\n",
       " u'040',\n",
       " u'0401115f',\n",
       " u'0401119f',\n",
       " u'0401130f',\n",
       " u'0401132f',\n",
       " u'0401134f',\n",
       " u'0401219f',\n",
       " u'0401314f',\n",
       " u'0401318f',\n",
       " u'0401319f',\n",
       " u'0408011f',\n",
       " u'040a',\n",
       " u'041',\n",
       " u'042',\n",
       " u'043',\n",
       " u'0433',\n",
       " u'044',\n",
       " u'0447',\n",
       " u'045',\n",
       " u'046',\n",
       " u'047',\n",
       " u'048',\n",
       " u'049',\n",
       " u'0495',\n",
       " u'04b',\n",
       " u'05',\n",
       " u'050',\n",
       " u'0505',\n",
       " u'051',\n",
       " u'052',\n",
       " u'053',\n",
       " u'054',\n",
       " u'055',\n",
       " u'0554',\n",
       " u'056',\n",
       " u'0560',\n",
       " u'0564',\n",
       " u'057',\n",
       " u'058',\n",
       " u'059',\n",
       " u'0593215',\n",
       " u'06',\n",
       " u'060',\n",
       " u'0601000br',\n",
       " u'0601101a',\n",
       " u'0601101e',\n",
       " u'0601102a',\n",
       " u'0601102f',\n",
       " u'0601103a',\n",
       " u'0601103f',\n",
       " u'0601103n',\n",
       " u'0601104a',\n",
       " u'0601108f',\n",
       " u'0601110d8z',\n",
       " u'0601117e',\n",
       " u'0601120d8z',\n",
       " u'0601152n',\n",
       " u'0601153n',\n",
       " u'0601228d8z',\n",
       " u'0601384bp',\n",
       " u'0602',\n",
       " u'0602000d8z',\n",
       " u'0602102f',\n",
       " u'0602105a',\n",
       " u'0602114n',\n",
       " u'0602115e',\n",
       " u'0602120a',\n",
       " u'0602122a',\n",
       " u'0602123n',\n",
       " u'0602131m',\n",
       " u'0602201f',\n",
       " u'0602202f',\n",
       " u'0602203f',\n",
       " u'0602204f',\n",
       " u'0602211a',\n",
       " u'0602230d8z',\n",
       " u'0602234d8z',\n",
       " u'0602235n',\n",
       " u'0602236n',\n",
       " u'0602251d8z',\n",
       " u'0602270a',\n",
       " u'0602271n',\n",
       " u'0602303a',\n",
       " u'0602303e',\n",
       " u'0602307a',\n",
       " u'0602308a',\n",
       " u'0602383e',\n",
       " u'0602384bp',\n",
       " u'0602435n',\n",
       " u'0602601a',\n",
       " u'0602601f',\n",
       " u'0602602f',\n",
       " u'0602605f',\n",
       " u'0602618a',\n",
       " u'0602622a',\n",
       " u'0602623a',\n",
       " u'0602624a',\n",
       " u'0602651m',\n",
       " u'0602668d8z',\n",
       " u'0602702e',\n",
       " u'0602705a',\n",
       " u'0602709a',\n",
       " u'0602712a',\n",
       " u'0602715e',\n",
       " u'0602716a',\n",
       " u'0602716e',\n",
       " u'0602718br',\n",
       " u'0602720a',\n",
       " u'0602747n',\n",
       " u'0602750n',\n",
       " u'0602751d8z',\n",
       " u'0602782a',\n",
       " u'0602782n',\n",
       " u'0602783a',\n",
       " u'0602784a',\n",
       " u'0602785a',\n",
       " u'0602786a',\n",
       " u'0602787a',\n",
       " u'0602788f',\n",
       " u'0602890f',\n",
       " u'0602898n',\n",
       " u'0603',\n",
       " u'0603000d8z',\n",
       " u'0603001a',\n",
       " u'0603002a',\n",
       " u'0603003a',\n",
       " u'0603004a',\n",
       " u'0603005a',\n",
       " u'0603006a',\n",
       " u'0603007a',\n",
       " u'0603009a',\n",
       " u'0603015a',\n",
       " u'0603020a',\n",
       " u'0603112f',\n",
       " u'0603114n',\n",
       " u'0603122d8z',\n",
       " u'0603123n',\n",
       " u'0603125a',\n",
       " u'0603130a',\n",
       " u'0603131a',\n",
       " u'0603133d8z',\n",
       " u'0603160br',\n",
       " u'0603161d8z',\n",
       " u'0603176c',\n",
       " u'0603177c',\n",
       " u'0603178c',\n",
       " u'0603179c',\n",
       " u'0603180c',\n",
       " u'0603199f',\n",
       " u'0603203f',\n",
       " u'0603207n',\n",
       " u'0603208n',\n",
       " u'0603211f',\n",
       " u'0603216f',\n",
       " u'0603216n',\n",
       " u'0603225d8z',\n",
       " u'0603237n',\n",
       " u'0603251n',\n",
       " u'0603254n',\n",
       " u'0603260f',\n",
       " u'0603261n',\n",
       " u'0603264s',\n",
       " u'0603270a',\n",
       " u'0603270f',\n",
       " u'0603271n',\n",
       " u'0603274c',\n",
       " u'0603286e',\n",
       " u'0603287e',\n",
       " u'0603288d8z',\n",
       " u'0603289d8z',\n",
       " u'0603294c',\n",
       " u'0603305a',\n",
       " u'0603308a',\n",
       " u'0603313a',\n",
       " u'0603322a',\n",
       " u'0603375d8z',\n",
       " u'0603382n',\n",
       " u'0603384bp',\n",
       " u'0603401f',\n",
       " u'0603423f',\n",
       " u'0603438f',\n",
       " u'0603444f',\n",
       " u'0603456f',\n",
       " u'0603461a',\n",
       " u'0603502n',\n",
       " u'0603506n',\n",
       " u'0603512n',\n",
       " u'0603525n',\n",
       " u'0603527d8z',\n",
       " u'0603527n',\n",
       " u'0603536n',\n",
       " u'0603542n',\n",
       " u'0603553n',\n",
       " u'0603561n',\n",
       " u'0603562n',\n",
       " u'0603563n',\n",
       " u'0603564n',\n",
       " u'0603570n',\n",
       " u'0603573n',\n",
       " u'0603576n',\n",
       " u'0603581n',\n",
       " u'0603582n',\n",
       " u'0603595n',\n",
       " u'0603596n',\n",
       " u'0603597n',\n",
       " u'0603599n',\n",
       " u'0603600d8z',\n",
       " u'0603601f',\n",
       " u'0603605f',\n",
       " u'0603606a',\n",
       " u'0603607a',\n",
       " u'0603609n',\n",
       " u'0603611m',\n",
       " u'0603618d8z',\n",
       " u'0603619a',\n",
       " u'0603627a',\n",
       " u'0603635m',\n",
       " u'0603639a',\n",
       " u'0603640m',\n",
       " u'0603648d8z',\n",
       " u'0603651m',\n",
       " u'0603654n',\n",
       " u'0603658n',\n",
       " u'0603662d8z',\n",
       " u'0603673n',\n",
       " u'0603680d8z',\n",
       " u'0603680f',\n",
       " u'0603680n',\n",
       " u'0603680s',\n",
       " u'0603699d8z',\n",
       " u'0603710a',\n",
       " u'0603712s',\n",
       " u'0603713n',\n",
       " u'0603713s',\n",
       " u'0603714d8z',\n",
       " u'0603716d8z',\n",
       " u'0603720s',\n",
       " u'0603721n',\n",
       " u'0603724n',\n",
       " u'0603725n',\n",
       " u'0603727d8z',\n",
       " u'0603728a',\n",
       " u'0603729n',\n",
       " u'0603734a',\n",
       " u'0603734n',\n",
       " u'0603739e',\n",
       " u'0603739n',\n",
       " u'0603742f',\n",
       " u'0603746n',\n",
       " u'0603747a',\n",
       " u'0603747n',\n",
       " u'0603748n',\n",
       " u'0603751n',\n",
       " u'0603758n',\n",
       " u'0603760e',\n",
       " u'0603764n',\n",
       " u'0603766a',\n",
       " u'0603766e',\n",
       " u'0603767e',\n",
       " u'0603769se',\n",
       " u'0603772a',\n",
       " u'0603774a',\n",
       " u'0603778a',\n",
       " u'0603779a',\n",
       " u'0603781d8z',\n",
       " u'0603782n',\n",
       " u'0603787n',\n",
       " u'0603788f',\n",
       " u'0603790a',\n",
       " u'0603790f',\n",
       " u'0603790n',\n",
       " u'0603794a',\n",
       " u'0603795n',\n",
       " u'0603801a',\n",
       " u'0603804a',\n",
       " u'0603807a',\n",
       " u'0603813a',\n",
       " u'0603821d8z',\n",
       " u'0603826d8z',\n",
       " u'0603827a',\n",
       " u'0603830f',\n",
       " u'0603833d8z',\n",
       " u'0603851d8z',\n",
       " u'0603851f',\n",
       " u'0603851m',\n",
       " u'0603860n',\n",
       " u'0603881c',\n",
       " u'0603882c',\n",
       " u'0603884bp',\n",
       " u'0603884c',\n",
       " u'0603890c',\n",
       " u'0603891c',\n",
       " u'0603892c',\n",
       " u'0603893c',\n",
       " u'0603895c',\n",
       " u'0603896c',\n",
       " u'0603898c',\n",
       " u'0603904c',\n",
       " u'0603906c',\n",
       " u'0603907c',\n",
       " u'0603913c',\n",
       " u'0603914c',\n",
       " u'0603915c',\n",
       " u'0603920d8z',\n",
       " u'0603923d8z',\n",
       " u'0603925n',\n",
       " u'0603941d8z',\n",
       " u'0603xxxc',\n",
       " u'0603xxxx',\n",
       " u'0604015f',\n",
       " u'0604016d8z',\n",
       " u'0604055d8z',\n",
       " u'0604100a',\n",
       " u'0604112n',\n",
       " u'0604114a',\n",
       " u'0604115a',\n",
       " u'0604115c',\n",
       " u'0604120a',\n",
       " u'0604122n',\n",
       " u'0604130v',\n",
       " u'0604132d8z',\n",
       " u'0604161d8z',\n",
       " u'0604165d8z',\n",
       " u'0604201a',\n",
       " u'0604212n',\n",
       " u'0604214n',\n",
       " u'0604215n',\n",
       " u'0604216n',\n",
       " u'0604218n',\n",
       " u'0604221n',\n",
       " u'0604230n',\n",
       " u'0604231n',\n",
       " u'0604233f',\n",
       " u'0604234n',\n",
       " u'0604245n',\n",
       " u'0604250d8z',\n",
       " u'0604256a',\n",
       " u'0604256f',\n",
       " u'0604256n',\n",
       " u'0604257f',\n",
       " u'0604258a',\n",
       " u'0604258n',\n",
       " u'0604261n',\n",
       " u'0604262n',\n",
       " u'0604264n',\n",
       " u'0604269n',\n",
       " u'0604270a',\n",
       " u'0604270f',\n",
       " u'0604270n',\n",
       " u'0604272n',\n",
       " u'0604273n',\n",
       " u'0604274n',\n",
       " u'0604279n',\n",
       " u'0604280a',\n",
       " u'0604280n',\n",
       " u'0604281f',\n",
       " u'0604282n',\n",
       " u'0604287f',\n",
       " u'0604290a',\n",
       " u'0604292n',\n",
       " u'0604307n',\n",
       " u'0604311n',\n",
       " u'0604317f',\n",
       " u'0604319a',\n",
       " u'0604321a',\n",
       " u'0604327f',\n",
       " u'0604328a',\n",
       " u'0604329f',\n",
       " u'0604329n',\n",
       " u'0604366n',\n",
       " u'0604373n',\n",
       " u'0604376m',\n",
       " u'0604378n',\n",
       " u'0604384bp',\n",
       " u'0604400d8z',\n",
       " u'0604404n',\n",
       " u'0604421f',\n",
       " u'0604422f',\n",
       " u'0604425f',\n",
       " u'0604426f',\n",
       " u'0604429f',\n",
       " u'0604441f',\n",
       " u'0604445f',\n",
       " u'0604454n',\n",
       " u'0604501n',\n",
       " u'0604503n',\n",
       " u'0604504n',\n",
       " u'0604512n',\n",
       " u'0604518n',\n",
       " u'0604522n',\n",
       " u'0604536n',\n",
       " u'0604558n',\n",
       " u'0604562n',\n",
       " u'0604567n',\n",
       " u'0604574n',\n",
       " u'0604580n',\n",
       " u'0604601a',\n",
       " u'0604601n',\n",
       " u'0604602f',\n",
       " u'0604604f',\n",
       " u'0604610n',\n",
       " u'0604611a',\n",
       " u'0604617f',\n",
       " u'0604618f',\n",
       " u'0604622a',\n",
       " u'0604633a',\n",
       " u'0604641a',\n",
       " u'0604642a',\n",
       " u'0604645a',\n",
       " u'0604653n',\n",
       " u'0604654n',\n",
       " u'0604659n',\n",
       " u'0604682d8z',\n",
       " u'0604703n',\n",
       " u'0604706f',\n",
       " u'0604707n',\n",
       " u'0604710a',\n",
       " u'0604713a',\n",
       " u'0604715a',\n",
       " u'0604727n',\n",
       " u'0604735f',\n",
       " u'0604741a',\n",
       " u'0604742a',\n",
       " u'0604746a',\n",
       " u'0604755n',\n",
       " u'0604756n',\n",
       " u'0604757n',\n",
       " u'0604759a',\n",
       " u'0604759f',\n",
       " u'0604759n',\n",
       " u'0604760a',\n",
       " u'0604761n',\n",
       " u'0604764k',\n",
       " u'0604771d8z',\n",
       " u'0604771n',\n",
       " u'0604774d8z',\n",
       " u'0604776f',\n",
       " u'0604777n',\n",
       " u'0604780a',\n",
       " u'0604786n',\n",
       " u'0604798a',\n",
       " u'0604800f',\n",
       " u'0604800m',\n",
       " u'0604800n',\n",
       " u'0604802a',\n",
       " u'0604804a',\n",
       " u'0604805a',\n",
       " u'0604807a',\n",
       " u'0604808a',\n",
       " u'0604810m',\n",
       " u'0604810n',\n",
       " u'0604818a',\n",
       " u'0604820a',\n",
       " u'0604822a',\n",
       " u'0604823a',\n",
       " u'0604826j',\n",
       " u'0604827a',\n",
       " u'0604853f',\n",
       " u'0604854a',\n",
       " u'0604857f',\n",
       " u'0604858f',\n",
       " u'0604873c',\n",
       " u'0604874c',\n",
       " u'0604875d8z',\n",
       " u'0604876c',\n",
       " u'0604878c',\n",
       " u'0604879c',\n",
       " u'0604880c',\n",
       " u'0604881c',\n",
       " u'0604887c',\n",
       " u'0604894c',\n",
       " u'0604932f',\n",
       " u'0604933f',\n",
       " u'0604940d8z',\n",
       " u'0604942d8z',\n",
       " u'0604xxxd',\n",
       " u'0604xxxf',\n",
       " u'0605000br',\n",
       " u'0605001e',\n",
       " u'0605013a',\n",
       " u'0605013bl',\n",
       " u'0605013m',\n",
       " u'0605013n',\n",
       " u'0605018a',\n",
       " u'0605018f',\n",
       " u'0605021se',\n",
       " u'0605022d8z',\n",
       " u'0605024a',\n",
       " u'0605024f',\n",
       " u'0605024n',\n",
       " u'0605027d8z',\n",
       " u'0605028a',\n",
       " u'0605029a',\n",
       " u'0605030a',\n",
       " u'0605030f',\n",
       " u'0605031a',\n",
       " u'0605032a',\n",
       " u'0605033a',\n",
       " u'0605034a',\n",
       " u'0605035a',\n",
       " u'0605036a',\n",
       " u'0605041a',\n",
       " u'0605042a',\n",
       " u'0605047a',\n",
       " u'0605051a',\n",
       " u'0605052a',\n",
       " u'0605070s',\n",
       " u'0605075d8z',\n",
       " u'0605080s',\n",
       " u'0605090s',\n",
       " u'0605100d8z',\n",
       " u'0605101f',\n",
       " u'0605103a',\n",
       " u'0605104d8z',\n",
       " u'0605117f',\n",
       " u'0605118ote',\n",
       " u'0605126j',\n",
       " u'0605126n',\n",
       " u'0605127t',\n",
       " u'0605131ote',\n",
       " u'0605140d8z',\n",
       " u'0605142d8z',\n",
       " u'0605147t',\n",
       " u'0605151d8z',\n",
       " u'0605152n',\n",
       " u'0605154n',\n",
       " u'0605161d8z',\n",
       " u'0605170d8z',\n",
       " u'0605200d8z',\n",
       " u'0605210d8z',\n",
       " u'0605212n',\n",
       " u'0605213f',\n",
       " u'0605214f',\n",
       " u'0605215n',\n",
       " u'0605217n',\n",
       " u'0605220n',\n",
       " u'0605221f',\n",
       " u'0605223f',\n",
       " u'0605229f',\n",
       " u'0605230f',\n",
       " u'0605278f',\n",
       " u'0605285n',\n",
       " u'0605301a',\n",
       " u'0605326a',\n",
       " u'0605327n',\n",
       " u'0605350a',\n",
       " u'0605380a',\n",
       " u'0605384bp',\n",
       " u'0605414n',\n",
       " u'0605431f',\n",
       " u'0605432f',\n",
       " u'0605433f',\n",
       " u'0605450a',\n",
       " u'0605450n',\n",
       " u'0605456a',\n",
       " u'0605457a',\n",
       " u'0605458f',\n",
       " u'0605500n',\n",
       " u'0605504n',\n",
       " u'0605601a',\n",
       " u'0605602a',\n",
       " u'0605604a',\n",
       " u'0605606a',\n",
       " u'0605625a',\n",
       " u'0605626a',\n",
       " u'0605702a',\n",
       " u'0605706a',\n",
       " u'0605709a',\n",
       " u'0605712a',\n",
       " u'0605712f',\n",
       " u'0605716a',\n",
       " u'0605718a',\n",
       " u'0605766a',\n",
       " u'0605790d8z',\n",
       " u'0605798d8z',\n",
       " u'0605801a',\n",
       " u'0605801ka',\n",
       " u'0605803a',\n",
       " u'0605803se',\n",
       " u'0605804d8z',\n",
       " u'0605804n',\n",
       " u'0605805a',\n",
       " u'0605807f',\n",
       " u'0605812a',\n",
       " u'0605812m',\n",
       " u'0605814ote',\n",
       " u'0605830a',\n",
       " u'0605853n',\n",
       " u'0605856n',\n",
       " u'0605857a',\n",
       " u'0605860f',\n",
       " u'0605861n',\n",
       " u'0605863n',\n",
       " u'0605864f',\n",
       " u'0605864n',\n",
       " u'0605865n',\n",
       " u'0605866n',\n",
       " u'0605867n',\n",
       " u'0605873m',\n",
       " u'0605898a',\n",
       " u'0605898e',\n",
       " u'0605898n',\n",
       " u'0605931f',\n",
       " u'0605976f',\n",
       " u'0605978f',\n",
       " u'0605998ka',\n",
       " u'0606017f',\n",
       " u'0606100d8z',\n",
       " u'0606116f',\n",
       " u'0606355n',\n",
       " u'0606392f',\n",
       " u'0607131a',\n",
       " u'0607133a',\n",
       " u'0607134a',\n",
       " u'0607135a',\n",
       " u'0607136a',\n",
       " u'0607137a',\n",
       " u'0607138a',\n",
       " u'0607139a',\n",
       " u'0607140a',\n",
       " u'0607141a',\n",
       " u'0607210d8z',\n",
       " u'0607310d8z',\n",
       " u'0607327t',\n",
       " u'0607384bp',\n",
       " u'0607658n',\n",
       " u'0607665a',\n",
       " u'0607700n',\n",
       " u'0607865a',\n",
       " u'061',\n",
       " u'062',\n",
       " u'0621',\n",
       " u'0625',\n",
       " u'063',\n",
       " u'06371',\n",
       " u'064',\n",
       " u'0648',\n",
       " u'065',\n",
       " u'066',\n",
       " u'067',\n",
       " u'068',\n",
       " u'069',\n",
       " u'0699',\n",
       " u'06cv2239tfh',\n",
       " u'07',\n",
       " u'070',\n",
       " u'0701212f',\n",
       " u'0702207f',\n",
       " u'0702207n',\n",
       " u'0702806f',\n",
       " u'0707',\n",
       " u'0708011s',\n",
       " u'0708012s',\n",
       " u'0708045a',\n",
       " u'0708047s',\n",
       " u'0708610f',\n",
       " u'0708611f',\n",
       " u'0708730n',\n",
       " u'070a',\n",
       " u'071',\n",
       " ...]"
      ]
     },
     "execution_count": 50,
     "metadata": {},
     "output_type": "execute_result"
    }
   ],
   "source": [
    "vect = CountVectorizer()\n",
    "vect.fit(bill_text)\n",
    "vect.get_feature_names()"
   ]
  },
  {
   "cell_type": "code",
   "execution_count": 52,
   "metadata": {
    "collapsed": false
   },
   "outputs": [
    {
     "data": {
      "text/plain": [
       "<10933x55476 sparse matrix of type '<type 'numpy.int64'>'\n",
       "\twith 3754520 stored elements in Compressed Sparse Row format>"
      ]
     },
     "execution_count": 52,
     "metadata": {},
     "output_type": "execute_result"
    }
   ],
   "source": [
    "simple_train_dtm = vect.transform(bill_text)\n",
    "simple_train_dtm"
   ]
  },
  {
   "cell_type": "code",
   "execution_count": 54,
   "metadata": {
    "collapsed": false
   },
   "outputs": [],
   "source": [
    "us_bills['international_affairs']=0"
   ]
  },
  {
   "cell_type": "code",
   "execution_count": 103,
   "metadata": {
    "collapsed": true
   },
   "outputs": [],
   "source": [
    "us_bills['marine_and_inland_water_transportation'] = 0"
   ]
  },
  {
   "cell_type": "code",
   "execution_count": 104,
   "metadata": {
    "collapsed": false
   },
   "outputs": [
    {
     "data": {
      "text/html": [
       "<div>\n",
       "<table border=\"1\" class=\"dataframe\">\n",
       "  <thead>\n",
       "    <tr style=\"text-align: right;\">\n",
       "      <th></th>\n",
       "      <th>bill_num</th>\n",
       "      <th>bill_name</th>\n",
       "      <th>bill_text</th>\n",
       "      <th>top_subject</th>\n",
       "      <th>international_affairs</th>\n",
       "      <th>marine_and_inland_water_transportation</th>\n",
       "    </tr>\n",
       "  </thead>\n",
       "  <tbody>\n",
       "    <tr>\n",
       "      <th>0</th>\n",
       "      <td>hconres1-114</td>\n",
       "      <td>Regarding consent to assemble outside the seat...</td>\n",
       "      <td>{\"\\n\",\"[Congressional Bills 114th Congress]\\n\"...</td>\n",
       "      <td>Congress</td>\n",
       "      <td>0</td>\n",
       "      <td>0</td>\n",
       "    </tr>\n",
       "    <tr>\n",
       "      <th>1</th>\n",
       "      <td>hconres10-114</td>\n",
       "      <td>Recognizing the challenges and burdens associa...</td>\n",
       "      <td>{\"\\n\",\"[Congressional Bills 114th Congress]\\n\"...</td>\n",
       "      <td>Education</td>\n",
       "      <td>0</td>\n",
       "      <td>0</td>\n",
       "    </tr>\n",
       "    <tr>\n",
       "      <th>2</th>\n",
       "      <td>hconres100-114</td>\n",
       "      <td>Expressing the sense of the Congress regarding...</td>\n",
       "      <td>{\"\\n\",\"[Congressional Bills 114th Congress]\\n\"...</td>\n",
       "      <td>International affairs</td>\n",
       "      <td>0</td>\n",
       "      <td>0</td>\n",
       "    </tr>\n",
       "    <tr>\n",
       "      <th>3</th>\n",
       "      <td>hconres101-114</td>\n",
       "      <td>Supporting the Association of American Veterin...</td>\n",
       "      <td>{\"\\n\",\"[Congressional Bills 114th Congress]\\n\"...</td>\n",
       "      <td>Education</td>\n",
       "      <td>0</td>\n",
       "      <td>0</td>\n",
       "    </tr>\n",
       "    <tr>\n",
       "      <th>4</th>\n",
       "      <td>hconres102-114</td>\n",
       "      <td>Providing for a joint session of Congress to r...</td>\n",
       "      <td>{\"\\n\",\"[Congressional Bills 114th Congress]\\n\"...</td>\n",
       "      <td>Congress</td>\n",
       "      <td>0</td>\n",
       "      <td>0</td>\n",
       "    </tr>\n",
       "  </tbody>\n",
       "</table>\n",
       "</div>"
      ],
      "text/plain": [
       "         bill_num                                          bill_name  \\\n",
       "0    hconres1-114  Regarding consent to assemble outside the seat...   \n",
       "1   hconres10-114  Recognizing the challenges and burdens associa...   \n",
       "2  hconres100-114  Expressing the sense of the Congress regarding...   \n",
       "3  hconres101-114  Supporting the Association of American Veterin...   \n",
       "4  hconres102-114  Providing for a joint session of Congress to r...   \n",
       "\n",
       "                                           bill_text            top_subject  \\\n",
       "0  {\"\\n\",\"[Congressional Bills 114th Congress]\\n\"...               Congress   \n",
       "1  {\"\\n\",\"[Congressional Bills 114th Congress]\\n\"...              Education   \n",
       "2  {\"\\n\",\"[Congressional Bills 114th Congress]\\n\"...  International affairs   \n",
       "3  {\"\\n\",\"[Congressional Bills 114th Congress]\\n\"...              Education   \n",
       "4  {\"\\n\",\"[Congressional Bills 114th Congress]\\n\"...               Congress   \n",
       "\n",
       "   international_affairs  marine_and_inland_water_transportation  \n",
       "0                      0                                       0  \n",
       "1                      0                                       0  \n",
       "2                      0                                       0  \n",
       "3                      0                                       0  \n",
       "4                      0                                       0  "
      ]
     },
     "execution_count": 104,
     "metadata": {},
     "output_type": "execute_result"
    }
   ],
   "source": [
    "us_bills.head()"
   ]
  },
  {
   "cell_type": "code",
   "execution_count": 94,
   "metadata": {
    "collapsed": false
   },
   "outputs": [],
   "source": [
    "# query:\n",
    "sql_query = \"\"\"\n",
    "SELECT bill_num, subject FROM bill_subject WHERE subject='International affairs' OR subject='International Affairs';\n",
    "\"\"\"\n",
    "international_terms = pd.read_sql_query(sql_query,con)"
   ]
  },
  {
   "cell_type": "code",
   "execution_count": 100,
   "metadata": {
    "collapsed": true
   },
   "outputs": [],
   "source": [
    "# query:\n",
    "sql_query = \"\"\"\n",
    "SELECT bill_num, subject FROM bill_subject WHERE subject='Marine and inland water transportation';\n",
    "\"\"\"\n",
    "marine_terms = pd.read_sql_query(sql_query,con)"
   ]
  },
  {
   "cell_type": "code",
   "execution_count": 101,
   "metadata": {
    "collapsed": false
   },
   "outputs": [
    {
     "data": {
      "text/html": [
       "<div>\n",
       "<table border=\"1\" class=\"dataframe\">\n",
       "  <thead>\n",
       "    <tr style=\"text-align: right;\">\n",
       "      <th></th>\n",
       "      <th>bill_num</th>\n",
       "      <th>subject</th>\n",
       "    </tr>\n",
       "  </thead>\n",
       "  <tbody>\n",
       "    <tr>\n",
       "      <th>0</th>\n",
       "      <td>hr1056-114</td>\n",
       "      <td>Marine and inland water transportation</td>\n",
       "    </tr>\n",
       "    <tr>\n",
       "      <th>1</th>\n",
       "      <td>hr1135-114</td>\n",
       "      <td>Marine and inland water transportation</td>\n",
       "    </tr>\n",
       "    <tr>\n",
       "      <th>2</th>\n",
       "      <td>hr1248-114</td>\n",
       "      <td>Marine and inland water transportation</td>\n",
       "    </tr>\n",
       "    <tr>\n",
       "      <th>3</th>\n",
       "      <td>hr1288-114</td>\n",
       "      <td>Marine and inland water transportation</td>\n",
       "    </tr>\n",
       "    <tr>\n",
       "      <th>4</th>\n",
       "      <td>hr1308-114</td>\n",
       "      <td>Marine and inland water transportation</td>\n",
       "    </tr>\n",
       "    <tr>\n",
       "      <th>5</th>\n",
       "      <td>hr142-114</td>\n",
       "      <td>Marine and inland water transportation</td>\n",
       "    </tr>\n",
       "    <tr>\n",
       "      <th>6</th>\n",
       "      <td>hr1540-114</td>\n",
       "      <td>Marine and inland water transportation</td>\n",
       "    </tr>\n",
       "    <tr>\n",
       "      <th>7</th>\n",
       "      <td>hr1665-114</td>\n",
       "      <td>Marine and inland water transportation</td>\n",
       "    </tr>\n",
       "    <tr>\n",
       "      <th>8</th>\n",
       "      <td>hr1735-114</td>\n",
       "      <td>Marine and inland water transportation</td>\n",
       "    </tr>\n",
       "    <tr>\n",
       "      <th>9</th>\n",
       "      <td>hr1804-114</td>\n",
       "      <td>Marine and inland water transportation</td>\n",
       "    </tr>\n",
       "    <tr>\n",
       "      <th>10</th>\n",
       "      <td>hr1823-114</td>\n",
       "      <td>Marine and inland water transportation</td>\n",
       "    </tr>\n",
       "    <tr>\n",
       "      <th>11</th>\n",
       "      <td>hr1900-114</td>\n",
       "      <td>Marine and inland water transportation</td>\n",
       "    </tr>\n",
       "    <tr>\n",
       "      <th>12</th>\n",
       "      <td>hr198-114</td>\n",
       "      <td>Marine and inland water transportation</td>\n",
       "    </tr>\n",
       "    <tr>\n",
       "      <th>13</th>\n",
       "      <td>hr1987-114</td>\n",
       "      <td>Marine and inland water transportation</td>\n",
       "    </tr>\n",
       "    <tr>\n",
       "      <th>14</th>\n",
       "      <td>hr2028-114</td>\n",
       "      <td>Marine and inland water transportation</td>\n",
       "    </tr>\n",
       "    <tr>\n",
       "      <th>15</th>\n",
       "      <td>hr2029-114</td>\n",
       "      <td>Marine and inland water transportation</td>\n",
       "    </tr>\n",
       "    <tr>\n",
       "      <th>16</th>\n",
       "      <td>hr2048-114</td>\n",
       "      <td>Marine and inland water transportation</td>\n",
       "    </tr>\n",
       "    <tr>\n",
       "      <th>17</th>\n",
       "      <td>hr22-114</td>\n",
       "      <td>Marine and inland water transportation</td>\n",
       "    </tr>\n",
       "    <tr>\n",
       "      <th>18</th>\n",
       "      <td>hr229-114</td>\n",
       "      <td>Marine and inland water transportation</td>\n",
       "    </tr>\n",
       "    <tr>\n",
       "      <th>19</th>\n",
       "      <td>hr240-114</td>\n",
       "      <td>Marine and inland water transportation</td>\n",
       "    </tr>\n",
       "    <tr>\n",
       "      <th>20</th>\n",
       "      <td>hr2410-114</td>\n",
       "      <td>Marine and inland water transportation</td>\n",
       "    </tr>\n",
       "    <tr>\n",
       "      <th>21</th>\n",
       "      <td>hr2485-114</td>\n",
       "      <td>Marine and inland water transportation</td>\n",
       "    </tr>\n",
       "    <tr>\n",
       "      <th>22</th>\n",
       "      <td>hr2534-114</td>\n",
       "      <td>Marine and inland water transportation</td>\n",
       "    </tr>\n",
       "    <tr>\n",
       "      <th>23</th>\n",
       "      <td>hr2577-114</td>\n",
       "      <td>Marine and inland water transportation</td>\n",
       "    </tr>\n",
       "    <tr>\n",
       "      <th>24</th>\n",
       "      <td>hr2700-114</td>\n",
       "      <td>Marine and inland water transportation</td>\n",
       "    </tr>\n",
       "    <tr>\n",
       "      <th>25</th>\n",
       "      <td>hr2876-114</td>\n",
       "      <td>Marine and inland water transportation</td>\n",
       "    </tr>\n",
       "    <tr>\n",
       "      <th>26</th>\n",
       "      <td>hr2923-114</td>\n",
       "      <td>Marine and inland water transportation</td>\n",
       "    </tr>\n",
       "    <tr>\n",
       "      <th>27</th>\n",
       "      <td>hr2992-114</td>\n",
       "      <td>Marine and inland water transportation</td>\n",
       "    </tr>\n",
       "    <tr>\n",
       "      <th>28</th>\n",
       "      <td>hr3064-114</td>\n",
       "      <td>Marine and inland water transportation</td>\n",
       "    </tr>\n",
       "    <tr>\n",
       "      <th>29</th>\n",
       "      <td>hr3142-114</td>\n",
       "      <td>Marine and inland water transportation</td>\n",
       "    </tr>\n",
       "    <tr>\n",
       "      <th>...</th>\n",
       "      <td>...</td>\n",
       "      <td>...</td>\n",
       "    </tr>\n",
       "    <tr>\n",
       "      <th>107</th>\n",
       "      <td>s2130-114</td>\n",
       "      <td>Marine and inland water transportation</td>\n",
       "    </tr>\n",
       "    <tr>\n",
       "      <th>108</th>\n",
       "      <td>s2206-114</td>\n",
       "      <td>Marine and inland water transportation</td>\n",
       "    </tr>\n",
       "    <tr>\n",
       "      <th>109</th>\n",
       "      <td>s2328-114</td>\n",
       "      <td>Marine and inland water transportation</td>\n",
       "    </tr>\n",
       "    <tr>\n",
       "      <th>110</th>\n",
       "      <td>s2378-114</td>\n",
       "      <td>Marine and inland water transportation</td>\n",
       "    </tr>\n",
       "    <tr>\n",
       "      <th>111</th>\n",
       "      <td>s2635-114</td>\n",
       "      <td>Marine and inland water transportation</td>\n",
       "    </tr>\n",
       "    <tr>\n",
       "      <th>112</th>\n",
       "      <td>s268-114</td>\n",
       "      <td>Marine and inland water transportation</td>\n",
       "    </tr>\n",
       "    <tr>\n",
       "      <th>113</th>\n",
       "      <td>s272-114</td>\n",
       "      <td>Marine and inland water transportation</td>\n",
       "    </tr>\n",
       "    <tr>\n",
       "      <th>114</th>\n",
       "      <td>s2726-114</td>\n",
       "      <td>Marine and inland water transportation</td>\n",
       "    </tr>\n",
       "    <tr>\n",
       "      <th>115</th>\n",
       "      <td>s2829-114</td>\n",
       "      <td>Marine and inland water transportation</td>\n",
       "    </tr>\n",
       "    <tr>\n",
       "      <th>116</th>\n",
       "      <td>s2844-114</td>\n",
       "      <td>Marine and inland water transportation</td>\n",
       "    </tr>\n",
       "    <tr>\n",
       "      <th>117</th>\n",
       "      <td>s2848-114</td>\n",
       "      <td>Marine and inland water transportation</td>\n",
       "    </tr>\n",
       "    <tr>\n",
       "      <th>118</th>\n",
       "      <td>s2865-114</td>\n",
       "      <td>Marine and inland water transportation</td>\n",
       "    </tr>\n",
       "    <tr>\n",
       "      <th>119</th>\n",
       "      <td>s2989-114</td>\n",
       "      <td>Marine and inland water transportation</td>\n",
       "    </tr>\n",
       "    <tr>\n",
       "      <th>120</th>\n",
       "      <td>s3001-114</td>\n",
       "      <td>Marine and inland water transportation</td>\n",
       "    </tr>\n",
       "    <tr>\n",
       "      <th>121</th>\n",
       "      <td>s33-114</td>\n",
       "      <td>Marine and inland water transportation</td>\n",
       "    </tr>\n",
       "    <tr>\n",
       "      <th>122</th>\n",
       "      <td>s371-114</td>\n",
       "      <td>Marine and inland water transportation</td>\n",
       "    </tr>\n",
       "    <tr>\n",
       "      <th>123</th>\n",
       "      <td>s373-114</td>\n",
       "      <td>Marine and inland water transportation</td>\n",
       "    </tr>\n",
       "    <tr>\n",
       "      <th>124</th>\n",
       "      <td>s515-114</td>\n",
       "      <td>Marine and inland water transportation</td>\n",
       "    </tr>\n",
       "    <tr>\n",
       "      <th>125</th>\n",
       "      <td>s525-114</td>\n",
       "      <td>Marine and inland water transportation</td>\n",
       "    </tr>\n",
       "    <tr>\n",
       "      <th>126</th>\n",
       "      <td>s589-114</td>\n",
       "      <td>Marine and inland water transportation</td>\n",
       "    </tr>\n",
       "    <tr>\n",
       "      <th>127</th>\n",
       "      <td>s764-114</td>\n",
       "      <td>Marine and inland water transportation</td>\n",
       "    </tr>\n",
       "    <tr>\n",
       "      <th>128</th>\n",
       "      <td>s825-114</td>\n",
       "      <td>Marine and inland water transportation</td>\n",
       "    </tr>\n",
       "    <tr>\n",
       "      <th>129</th>\n",
       "      <td>s834-114</td>\n",
       "      <td>Marine and inland water transportation</td>\n",
       "    </tr>\n",
       "    <tr>\n",
       "      <th>130</th>\n",
       "      <td>s859-114</td>\n",
       "      <td>Marine and inland water transportation</td>\n",
       "    </tr>\n",
       "    <tr>\n",
       "      <th>131</th>\n",
       "      <td>sconres11-114</td>\n",
       "      <td>Marine and inland water transportation</td>\n",
       "    </tr>\n",
       "    <tr>\n",
       "      <th>132</th>\n",
       "      <td>sres153-114</td>\n",
       "      <td>Marine and inland water transportation</td>\n",
       "    </tr>\n",
       "    <tr>\n",
       "      <th>133</th>\n",
       "      <td>sres291-114</td>\n",
       "      <td>Marine and inland water transportation</td>\n",
       "    </tr>\n",
       "    <tr>\n",
       "      <th>134</th>\n",
       "      <td>sres332-114</td>\n",
       "      <td>Marine and inland water transportation</td>\n",
       "    </tr>\n",
       "    <tr>\n",
       "      <th>135</th>\n",
       "      <td>sres359-114</td>\n",
       "      <td>Marine and inland water transportation</td>\n",
       "    </tr>\n",
       "    <tr>\n",
       "      <th>136</th>\n",
       "      <td>sres370-114</td>\n",
       "      <td>Marine and inland water transportation</td>\n",
       "    </tr>\n",
       "  </tbody>\n",
       "</table>\n",
       "<p>137 rows × 2 columns</p>\n",
       "</div>"
      ],
      "text/plain": [
       "          bill_num                                 subject\n",
       "0       hr1056-114  Marine and inland water transportation\n",
       "1       hr1135-114  Marine and inland water transportation\n",
       "2       hr1248-114  Marine and inland water transportation\n",
       "3       hr1288-114  Marine and inland water transportation\n",
       "4       hr1308-114  Marine and inland water transportation\n",
       "5        hr142-114  Marine and inland water transportation\n",
       "6       hr1540-114  Marine and inland water transportation\n",
       "7       hr1665-114  Marine and inland water transportation\n",
       "8       hr1735-114  Marine and inland water transportation\n",
       "9       hr1804-114  Marine and inland water transportation\n",
       "10      hr1823-114  Marine and inland water transportation\n",
       "11      hr1900-114  Marine and inland water transportation\n",
       "12       hr198-114  Marine and inland water transportation\n",
       "13      hr1987-114  Marine and inland water transportation\n",
       "14      hr2028-114  Marine and inland water transportation\n",
       "15      hr2029-114  Marine and inland water transportation\n",
       "16      hr2048-114  Marine and inland water transportation\n",
       "17        hr22-114  Marine and inland water transportation\n",
       "18       hr229-114  Marine and inland water transportation\n",
       "19       hr240-114  Marine and inland water transportation\n",
       "20      hr2410-114  Marine and inland water transportation\n",
       "21      hr2485-114  Marine and inland water transportation\n",
       "22      hr2534-114  Marine and inland water transportation\n",
       "23      hr2577-114  Marine and inland water transportation\n",
       "24      hr2700-114  Marine and inland water transportation\n",
       "25      hr2876-114  Marine and inland water transportation\n",
       "26      hr2923-114  Marine and inland water transportation\n",
       "27      hr2992-114  Marine and inland water transportation\n",
       "28      hr3064-114  Marine and inland water transportation\n",
       "29      hr3142-114  Marine and inland water transportation\n",
       "..             ...                                     ...\n",
       "107      s2130-114  Marine and inland water transportation\n",
       "108      s2206-114  Marine and inland water transportation\n",
       "109      s2328-114  Marine and inland water transportation\n",
       "110      s2378-114  Marine and inland water transportation\n",
       "111      s2635-114  Marine and inland water transportation\n",
       "112       s268-114  Marine and inland water transportation\n",
       "113       s272-114  Marine and inland water transportation\n",
       "114      s2726-114  Marine and inland water transportation\n",
       "115      s2829-114  Marine and inland water transportation\n",
       "116      s2844-114  Marine and inland water transportation\n",
       "117      s2848-114  Marine and inland water transportation\n",
       "118      s2865-114  Marine and inland water transportation\n",
       "119      s2989-114  Marine and inland water transportation\n",
       "120      s3001-114  Marine and inland water transportation\n",
       "121        s33-114  Marine and inland water transportation\n",
       "122       s371-114  Marine and inland water transportation\n",
       "123       s373-114  Marine and inland water transportation\n",
       "124       s515-114  Marine and inland water transportation\n",
       "125       s525-114  Marine and inland water transportation\n",
       "126       s589-114  Marine and inland water transportation\n",
       "127       s764-114  Marine and inland water transportation\n",
       "128       s825-114  Marine and inland water transportation\n",
       "129       s834-114  Marine and inland water transportation\n",
       "130       s859-114  Marine and inland water transportation\n",
       "131  sconres11-114  Marine and inland water transportation\n",
       "132    sres153-114  Marine and inland water transportation\n",
       "133    sres291-114  Marine and inland water transportation\n",
       "134    sres332-114  Marine and inland water transportation\n",
       "135    sres359-114  Marine and inland water transportation\n",
       "136    sres370-114  Marine and inland water transportation\n",
       "\n",
       "[137 rows x 2 columns]"
      ]
     },
     "execution_count": 101,
     "metadata": {},
     "output_type": "execute_result"
    }
   ],
   "source": [
    "marine_terms"
   ]
  },
  {
   "cell_type": "code",
   "execution_count": 112,
   "metadata": {
    "collapsed": false
   },
   "outputs": [],
   "source": [
    "us_bills.ix[us_bills['bill_num'].isin(marine_terms['bill_num']), 'marine_and_inland_water_transportation'] = 1"
   ]
  },
  {
   "cell_type": "code",
   "execution_count": 116,
   "metadata": {
    "collapsed": false
   },
   "outputs": [],
   "source": [
    "X = us_bills['bill_text']\n",
    "y = us_bills['marine_and_inland_water_transportation']"
   ]
  },
  {
   "cell_type": "code",
   "execution_count": 117,
   "metadata": {
    "collapsed": true
   },
   "outputs": [],
   "source": [
    "# split into training and testing sets\n",
    "from sklearn.cross_validation import train_test_split\n",
    "X_train, X_test, y_train, y_test = train_test_split(X, y, random_state=1)"
   ]
  },
  {
   "cell_type": "code",
   "execution_count": 118,
   "metadata": {
    "collapsed": true
   },
   "outputs": [],
   "source": [
    "# import and instantiate the vectorizer\n",
    "from sklearn.feature_extraction.text import CountVectorizer\n",
    "vect = CountVectorizer()"
   ]
  },
  {
   "cell_type": "code",
   "execution_count": 119,
   "metadata": {
    "collapsed": true
   },
   "outputs": [],
   "source": [
    "# fit and transform X_train, but only transform X_test\n",
    "X_train_dtm = vect.fit_transform(X_train)\n",
    "X_test_dtm = vect.transform(X_test)"
   ]
  },
  {
   "cell_type": "code",
   "execution_count": 120,
   "metadata": {
    "collapsed": false
   },
   "outputs": [
    {
     "data": {
      "text/plain": [
       "MultinomialNB(alpha=1.0, class_prior=None, fit_prior=True)"
      ]
     },
     "execution_count": 120,
     "metadata": {},
     "output_type": "execute_result"
    }
   ],
   "source": [
    "# import/instantiate/fit\n",
    "from sklearn.naive_bayes import MultinomialNB\n",
    "nb = MultinomialNB()\n",
    "nb.fit(X_train_dtm, y_train)"
   ]
  },
  {
   "cell_type": "code",
   "execution_count": 121,
   "metadata": {
    "collapsed": true
   },
   "outputs": [],
   "source": [
    "# make class predictions\n",
    "y_pred_class = nb.predict(X_test_dtm)"
   ]
  },
  {
   "cell_type": "code",
   "execution_count": 122,
   "metadata": {
    "collapsed": false
   },
   "outputs": [
    {
     "name": "stdout",
     "output_type": "stream",
     "text": [
      "0.966349670812\n"
     ]
    }
   ],
   "source": [
    "# calculate accuracy\n",
    "from sklearn import metrics\n",
    "print metrics.accuracy_score(y_test, y_pred_class)"
   ]
  },
  {
   "cell_type": "code",
   "execution_count": 124,
   "metadata": {
    "collapsed": false
   },
   "outputs": [],
   "source": [
    "# predict class probabilities\n",
    "y_pred_prob = nb.predict_proba(X_test_dtm)[:, 1]"
   ]
  },
  {
   "cell_type": "code",
   "execution_count": 143,
   "metadata": {
    "collapsed": false
   },
   "outputs": [
    {
     "data": {
      "text/plain": [
       "5850    1\n",
       "7602    1\n",
       "7454    1\n",
       "8454    1\n",
       "2954    1\n",
       "8211    1\n",
       "8082    1\n",
       "1443    1\n",
       "8110    1\n",
       "3027    1\n",
       "7816    1\n",
       "7920    1\n",
       "9802    1\n",
       "7709    1\n",
       "916     1\n",
       "7326    1\n",
       "4852    1\n",
       "9797    1\n",
       "3432    1\n",
       "443     1\n",
       "6484    1\n",
       "1206    1\n",
       "6238    1\n",
       "5493    1\n",
       "7853    1\n",
       "6504    1\n",
       "4269    1\n",
       "1859    1\n",
       "1984    1\n",
       "3701    1\n",
       "642     1\n",
       "7555    1\n",
       "8956    1\n",
       "3449    1\n",
       "8999    1\n",
       "Name: marine_and_inland_water_transportation, dtype: int64"
      ]
     },
     "execution_count": 143,
     "metadata": {},
     "output_type": "execute_result"
    }
   ],
   "source": [
    "y_test[y_test == 1]"
   ]
  },
  {
   "cell_type": "code",
   "execution_count": 126,
   "metadata": {
    "collapsed": false
   },
   "outputs": [
    {
     "name": "stdout",
     "output_type": "stream",
     "text": [
      "0.799719472821\n"
     ]
    }
   ],
   "source": [
    "# calculate the AUC using y_test_binary and y_pred_prob\n",
    "print metrics.roc_auc_score(y_test, y_pred_prob)"
   ]
  },
  {
   "cell_type": "code",
   "execution_count": 127,
   "metadata": {
    "collapsed": true
   },
   "outputs": [],
   "source": [
    "%matplotlib inline\n",
    "import matplotlib.pyplot as plt"
   ]
  },
  {
   "cell_type": "code",
   "execution_count": 129,
   "metadata": {
    "collapsed": false
   },
   "outputs": [
    {
     "data": {
      "text/plain": [
       "<matplotlib.text.Text at 0x237fd8d10>"
      ]
     },
     "execution_count": 129,
     "metadata": {},
     "output_type": "execute_result"
    },
    {
     "data": {
      "image/png": "[encoded data removed]",
      "text/plain": [
       "<matplotlib.figure.Figure at 0x22a963e10>"
      ]
     },
     "metadata": {},
     "output_type": "display_data"
    }
   ],
   "source": [
    "# plot ROC curve using y_test_binary and y_pred_prob\n",
    "fpr, tpr, thresholds = metrics.roc_curve(y_test, y_pred_prob)\n",
    "plt.plot(fpr, tpr)\n",
    "plt.xlim([0.0, 1.0])\n",
    "plt.ylim([0.0, 1.0])\n",
    "plt.xlabel('False Positive Rate (1 - Specificity)')\n",
    "plt.ylabel('True Positive Rate (Sensitivity)')"
   ]
  },
  {
   "cell_type": "code",
   "execution_count": 130,
   "metadata": {
    "collapsed": false
   },
   "outputs": [
    {
     "name": "stdout",
     "output_type": "stream",
     "text": [
      "[[2622   77]\n",
      " [  15   20]]\n"
     ]
    }
   ],
   "source": [
    "print metrics.confusion_matrix(y_test, y_pred_class)"
   ]
  },
  {
   "cell_type": "code",
   "execution_count": 131,
   "metadata": {
    "collapsed": false
   },
   "outputs": [
    {
     "data": {
      "text/plain": [
       "9574    {\"\\n\",\"[Congressional Bills 114th Congress]\\n\"...\n",
       "1777    {\"\\n\",\"[Congressional Bills 114th Congress]\\n\"...\n",
       "2106    {\"\\n\",\"[Congressional Bills 114th Congress]\\n\"...\n",
       "941     {\"\\n\",\"[Congressional Bills 114th Congress]\\n\"...\n",
       "8119    {\"\\n\",\"[Congressional Bills 114th Congress]\\n\"...\n",
       "9110    {\"\\n\",\"[Congressional Bills 114th Congress]\\n\"...\n",
       "4803    {\"\\n\",\"[Congressional Bills 114th Congress]\\n\"...\n",
       "7267    {\"\\n\",\"[Congressional Bills 114th Congress]\\n\"...\n",
       "4467    {\"\\n\",\"[Congressional Bills 114th Congress]\\n\"...\n",
       "9248    {\"\\n\",\"[Congressional Bills 114th Congress]\\n\"...\n",
       "Name: bill_text, dtype: object"
      ]
     },
     "execution_count": 131,
     "metadata": {},
     "output_type": "execute_result"
    }
   ],
   "source": [
    "# first 10 false positives (meaning they were incorrectly classified as 5-star reviews)\n",
    "X_test[y_test < y_pred_class][:10]"
   ]
  },
  {
   "cell_type": "code",
   "execution_count": 139,
   "metadata": {
    "collapsed": false
   },
   "outputs": [
    {
     "data": {
      "text/plain": [
       "77"
      ]
     },
     "execution_count": 139,
     "metadata": {},
     "output_type": "execute_result"
    }
   ],
   "source": [
    "len(X_test[y_test < y_pred_class])"
   ]
  },
  {
   "cell_type": "code",
   "execution_count": 132,
   "metadata": {
    "collapsed": false
   },
   "outputs": [
    {
     "data": {
      "text/plain": [
       "'{\"\\n\",\"[Congressional Bills 114th Congress]\\n\",\"[From the U.S. Government Printing Office]\\n\",\"[S. 327 Introduced in Senate (IS)]\\n\",\"\\n\",\"114th CONGRESS\\n\",\"  1st Session\\n\",\"                                 S. 327\\n\",\"\\n\",\"  To provide for auditable financial statements for the Department of \\n\",\"                    Defense, and for other purposes.\\n\",\"\\n\",\"\\n\",\"_______________________________________________________________________\\n\",\"\\n\",\"\\n\",\"                   IN THE SENATE OF THE UNITED STATES\\n\",\"\\n\",\"                            February 2, 2015\\n\",\"\\n\",\"Mr. Manchin (for himself, Mr. Paul, Mr. Wyden, and Mr. Cruz) introduced \\n\",\"the following bill; which was read twice and referred to the Committee \\n\",\"                           on Armed Services\\n\",\"\\n\",\"_______________________________________________________________________\\n\",\"\\n\",\"                                 A BILL\\n\",\"\\n\",\"\\n\",\" \\n\",\"  To provide for auditable financial statements for the Department of \\n\",\"                    Defense, and for other purposes.\\n\",\"\\n\",\"    Be it enacted by the Senate and House of Representatives of the \\n\",\"United States of America in Congress assembled,\\n\",\"\\n\",\"SECTION 1. SHORT TITLE.\\n\",\"\\n\",\"    This Act may be cited as the ``Audit the Pentagon Act of 2015\\'\\'.\\n\",\"\\n\",\"SEC. 2. FINDINGS.\\n\",\"\\n\",\"    Congress makes the following findings:\\n\",\"            (1) Section 9 of Article I of the Constitution of the \\n\",\"        United States requires all agencies of the Federal Government, \\n\",\"        including the Department of Defense, to publish ``a regular \\n\",\"        statement and account of the receipts and expenditures of all \\n\",\"        public money\\'\\'.\\n\",\"            (2) Section 3515 of title 31, United States Code, requires \\n\",\"        the agencies of the Federal Government, including the \\n\",\"        Department of Defense, to present auditable financial \\n\",\"        statements beginning not later than March 1, 1997. The \\n\",\"        Department has not complied with this law.\\n\",\"            (3) The Federal Financial Management Improvement Act of \\n\",\"        1996 (31 U.S.C. 3512 note) requires financial systems acquired \\n\",\"        by the Federal Government, including the Department of Defense, \\n\",\"        to be able to provide information to leaders to manage and \\n\",\"        control the cost of Government. The Department has not complied \\n\",\"        with this law.\\n\",\"            (4) The financial management of the Department of Defense \\n\",\"        has been on the ``High-Risk\\'\\' list of the Government \\n\",\"        Accountability Office, which means that the Department is not \\n\",\"        consistently able to ``control costs; ensure basic \\n\",\"        accountability; anticipate future costs and claims on the \\n\",\"        budget; measure performance; maintain funds control; [and] \\n\",\"        prevent and detect fraud, waste, and abuse\\'\\'.\\n\",\"            (5) The National Defense Authorization Act for Fiscal Year \\n\",\"        2002 (Public Law 107-107) requires the Secretary of Defense to \\n\",\"        report to Congress annually on the reliability of the financial \\n\",\"        statements of the Department of Defense, to minimize resources \\n\",\"        spent on producing unreliable financial statements, and to use \\n\",\"        resources saved to improve financial management policies, \\n\",\"        procedures, and internal controls.\\n\",\"            (6) In 2005, the Department of Defense created a Financial \\n\",\"        Improvement and Audit Readiness (FIAR) Plan, overseen by a \\n\",\"        directorate within the office of the Under Secretary of Defense \\n\",\"        (Comptroller), to improve Department business processes with \\n\",\"        the goal of producing timely, reliable, and accurate financial \\n\",\"        information that could generate an audit-ready annual financial \\n\",\"        statement. In December 2005, that directorate, known as the \\n\",\"        FIAR Directorate, issued the first of a series of semiannual \\n\",\"        reports on the status of the Financial Improvement and Audit \\n\",\"        Readiness Plan.\\n\",\"            (7) The National Defense Authorization Act for Fiscal Year \\n\",\"        2010 (Public Law 111-84) requires regular status reports on the \\n\",\"        Financial Improvement and Audit Readiness Plan described in \\n\",\"        paragraph (6), and codified as a statutory requirement the goal \\n\",\"        of the Plan in ensuring that Department of Defense financial \\n\",\"        statements are validated as ready for audit not later than \\n\",\"        September 30, 2017. In addition, the National Defense \\n\",\"        Authorization Act for Fiscal Year 2013 (Public Law 112-239) \\n\",\"        requires that the statement of budgetary resources of the \\n\",\"        Department of Defense be validated as ready for audit by not \\n\",\"        later than September 30, 2014.\\n\",\"            (8) At a September 2010 hearing of the Senate, the \\n\",\"        Government Accountability Office stated that past expenditures \\n\",\"        by the Department of Defense of $5,800,000,000 to improve \\n\",\"        financial information, and billions of dollars more of \\n\",\"        anticipated expenditures on new information technology systems \\n\",\"        for that purpose, may not suffice to achieve full audit \\n\",\"        readiness of the financial statement of the Department. At that \\n\",\"        hearing, the Government Accountability Office could not predict \\n\",\"        when the Department would achieve full audit readiness of such \\n\",\"        statements.\\n\",\"            (9) At a 2013 hearing of the Senate, Secretary of Defense \\n\",\"        Chuck Hagel affirmed his commitment to audit-ready budget \\n\",\"        statements for the Department of Defense by the end of 2014, \\n\",\"        and stated that he ``will do everything he can to fulfill this \\n\",\"        commitment\\'\\'. At that hearing, Secretary Hagel noted that \\n\",\"        auditable financial statements were essential to the Department \\n\",\"        not only for improving the quality of its financial \\n\",\"        information, but also for reassuring the public and Congress \\n\",\"        that it is a good steward of public funds.\\n\",\"\\n\",\"SEC. 3. CESSATION OF APPLICABILITY OF REPORTING REQUIREMENTS REGARDING \\n\",\"              THE FINANCIAL STATEMENTS OF THE DEPARTMENT OF DEFENSE.\\n\",\"\\n\",\"    (a) Cessation of Applicability.--\\n\",\"            (1) Military departments.--The financial statements of a \\n\",\"        military department shall cease to be covered by the reporting \\n\",\"        requirements specified in subsection (b) upon the issuance of \\n\",\"        an unqualified audit opinion on such financial statements.\\n\",\"            (2) Department of defense.--The reporting requirements \\n\",\"        specified in subsection (b) shall cease to be effective when an \\n\",\"        unqualified audit opinion is issued on the financial statements \\n\",\"        of the Department of Defense, including each of the military \\n\",\"        departments and the other reporting entities defined by the \\n\",\"        Office of Management and Budget.\\n\",\"    (b) Reporting Requirements.--The reporting requirements specified \\n\",\"in this subsection are the following:\\n\",\"            (1) The requirement for annual reports in section 892(b) of \\n\",\"        the Ike Skelton National Defense Authorization Act for Fiscal \\n\",\"        Year 2011 (Public Law 111-383; 124 Stat. 4311; 10 U.S.C. 2306a \\n\",\"        note).\\n\",\"            (2) The requirement for semi-annual reports in section \\n\",\"        1003(b) of the National Defense Authorization Act for Fiscal \\n\",\"        Year 2010 (Public Law 111-84; 123 Stat. 2440; 10 U.S.C. 2222 \\n\",\"        note).\\n\",\"            (3) The requirement for annual reports in section 817(d) of \\n\",\"        the Bob Stump National Defense Authorization Act for Fiscal \\n\",\"        Year 2003 (10 U.S.C. 2306a note).\\n\",\"            (4) The requirement for annual reports in section 1008(a) \\n\",\"        of the National Defense Authorization Act for Fiscal Year 2002 \\n\",\"        (Public Law 107-107; 115 Stat. 1204; 10 U.S.C. 113 note).\\n\",\"            (5) The requirement for periodic reports in section 908(b) \\n\",\"        of the Defense Acquisition Improvement Act of 1986 (Public Law \\n\",\"        99-500; 100 Stat. 1783-140; 10 U.S.C. 2326 note) and duplicate \\n\",\"        requirements as provided for in section 6 of the Defense \\n\",\"        Technical Corrections Act of 1987 (Public Law 100-26; 101 Stat. \\n\",\"        274; 10 U.S.C. 2302 note).\\n\",\"\\n\",\"SEC. 4. ENHANCED REPROGRAMMING AUTHORITY FOLLOWING ACHIEVEMENT BY \\n\",\"              DEPARTMENT OF DEFENSE AND MILITARY DEPARTMENTS OF AUDIT \\n\",\"              WITH UNQUALIFIED OPINION OF STATEMENT OF BUDGETARY \\n\",\"              RESOURCES FOR FISCAL YEARS AFTER FISCAL YEAR 2015.\\n\",\"\\n\",\"    (a) Department of Defense Generally.--Subject to section 6(1), if \\n\",\"the Department of Defense obtains an audit with an unqualified opinion \\n\",\"on its statement of budgetary resources for any fiscal year after \\n\",\"fiscal year 2015, the limitation on the total amount of authorizations \\n\",\"that the Secretary of Defense may transfer pursuant to general transfer \\n\",\"authority available to the Secretary in the national interest in the \\n\",\"succeeding fiscal year shall be $8,000,000,000.\\n\",\"    (b) Military Departments, Defense Agencies, and Defense Field \\n\",\"Activities.--Subject to section 7(a), if a military department, Defense \\n\",\"Agency, or defense field activity obtains an audit with an unqualified \\n\",\"opinion on its statement of budgetary resources for any fiscal year \\n\",\"after fiscal year 2015, the thresholds for reprogramming of funds of \\n\",\"such military department, Defense Agency, or defense field activity, as \\n\",\"the case may be, without prior notice to Congress for the succeeding \\n\",\"fiscal year shall be deemed to be the thresholds as follows:\\n\",\"            (1) In the case of an increase or decrease to the program \\n\",\"        base amount for a procurement program, $60,000,000.\\n\",\"            (2) In the case of an increase or decrease to the program \\n\",\"        base amount for a research program, $30,000,000.\\n\",\"            (3) In the case of an increase or decrease to the amount \\n\",\"        for a budget activity for operation and maintenance, \\n\",\"        $45,000,000.\\n\",\"            (4) In the case of an increase or decrease to the amount \\n\",\"        for a budget activity for military personnel, $30,000,000.\\n\",\"    (c) Construction.--Nothing in this section shall be construed to \\n\",\"alter or revise any requirement (other than a threshold amount) for \\n\",\"notice to Congress on transfers covered by subsection (a) or \\n\",\"reprogrammings covered by subsection (b) under any other provision of \\n\",\"law.\\n\",\"    (d) Definitions.--In this section, the terms ``program base \\n\",\"amount\\'\\', ``procurement program\\'\\', ``research program\\'\\', and ``budget \\n\",\"activity\\'\\' have the meanings given such terms in chapter 6 of volume 3 \\n\",\"of the Financial Management Regulation of the Department of Defense \\n\",\"(DoD 7000.14R), dated March 2011, or any successor document.\\n\",\"\\n\",\"SEC. 5. FAILURE TO OBTAIN AUDITS WITH UNQUALIFIED OPINION OF FISCAL \\n\",\"              YEAR 2016 GENERAL FUND STATEMENT OF BUDGETARY RESOURCES \\n\",\"              OF THE DEPARTMENT OF DEFENSE.\\n\",\"\\n\",\"    (a) In General.--If the Department of Defense fails to obtain an \\n\",\"audit with an unqualified opinion on its general fund statement of \\n\",\"budgetary resources for fiscal year 2016 by December 31, 2016, the \\n\",\"following shall take effect on January 1, 2017:\\n\",\"            (1) Additional qualifications and duties of usd \\n\",\"        (comptroller).--\\n\",\"                    (A) Qualifications.--Any individual nominated for \\n\",\"                appointment to the position of Under Secretary of \\n\",\"                Defense (Comptroller) under section 135 of title 10, \\n\",\"                United States Code, shall be an individual who has \\n\",\"                served--\\n\",\"                            (i) as the chief financial officer or \\n\",\"                        equivalent position of a Federal or State \\n\",\"                        agency that has received an audit with an \\n\",\"                        unqualified opinion on such agency\\'s financial \\n\",\"                        statements during the time of such individual\\'s \\n\",\"                        service; or\\n\",\"                            (ii) as the chief financial officer or \\n\",\"                        equivalent position of a public company that \\n\",\"                        has received an audit with an unqualified \\n\",\"                        opinion on such company\\'s financial statements \\n\",\"                        during the time of such individual\\'s service.\\n\",\"                    (B) Duties and powers.--The duties and powers of \\n\",\"                the individual serving as Under Secretary of Defense \\n\",\"                (Comptroller) shall include, in addition to the duties \\n\",\"                and powers specified in section 135(c) of title 10, \\n\",\"                United States Code, such duties and powers with respect \\n\",\"                to the financial management of the Department of \\n\",\"                Defense as the Deputy Secretary of Defense (acting in \\n\",\"                the capacity of Chief Management Officer of the \\n\",\"                Department of Defense) or a successor official in the \\n\",\"                Department of Defense (acting in such capacity) may \\n\",\"                prescribe.\\n\",\"            (2) Additional qualifications and responsibilities of asa \\n\",\"        for financial management.--\\n\",\"                    (A) Qualifications.--Any individual nominated for \\n\",\"                appointment to the position of Assistant Secretary of \\n\",\"                the Army for Financial Management under section 3016 of \\n\",\"                title 10, United States Code, shall be an individual \\n\",\"                who has served--\\n\",\"                            (i) as the chief financial officer or \\n\",\"                        equivalent position of a Federal or State \\n\",\"                        agency that has received an audit with an \\n\",\"                        unqualified opinion on such agency\\'s financial \\n\",\"                        statements during the time of such individual\\'s \\n\",\"                        service; or\\n\",\"                            (ii) as the chief financial officer or \\n\",\"                        equivalent position of a public company that \\n\",\"                        has received an audit with an unqualified \\n\",\"                        opinion on such company\\'s financial statements \\n\",\"                        during the time of such individual\\'s service.\\n\",\"                    (B) Responsibilities.--The responsibilities of the \\n\",\"                individual serving as Assistant Secretary of the Army \\n\",\"                for Financial Management shall include, in addition to \\n\",\"                the responsibilities specified in section 3016(b)(4) of \\n\",\"                title 10, United States Code, such responsibilities as \\n\",\"                the Deputy Secretary of Defense (acting in the capacity \\n\",\"                of Chief Management Officer of the Department of \\n\",\"                Defense) or a successor official in the Department of \\n\",\"                Defense (acting in such capacity) may prescribe.\\n\",\"            (3) Additional qualifications and responsibilities of asn \\n\",\"        for financial management.--\\n\",\"                    (A) Qualifications.--Any individual nominated for \\n\",\"                appointment to the position of Assistant Secretary of \\n\",\"                the Navy for Financial Management under section 5016 of \\n\",\"                title 10, United States Code, shall be an individual \\n\",\"                who has served--\\n\",\"                            (i) as the chief financial officer or \\n\",\"                        equivalent position of a Federal or State \\n\",\"                        agency that has received an audit with an \\n\",\"                        unqualified opinion on such agency\\'s financial \\n\",\"                        statements during the time of such individual\\'s \\n\",\"                        service; or\\n\",\"                            (ii) as the chief financial officer or \\n\",\"                        equivalent position of a public company that \\n\",\"                        has received an audit with an unqualified \\n\",\"                        opinion on such company\\'s financial statements \\n\",\"                        during the time of such individual\\'s service.\\n\",\"                    (B) Responsibilities.--The responsibilities of the \\n\",\"                individual serving as Assistant Secretary of the Navy \\n\",\"                for Financial Management shall include, in addition to \\n\",\"                the responsibilities specified in section 5016(b)(4) of \\n\",\"                title 10, United States Code, such responsibilities as \\n\",\"                the Deputy Secretary of Defense (acting in the capacity \\n\",\"                of Chief Management Officer of the Department of \\n\",\"                Defense) or a successor official in the Department of \\n\",\"                Defense (acting in such capacity) may prescribe.\\n\",\"            (4) Additional qualifications and responsibilities of asaf \\n\",\"        for financial management.--\\n\",\"                    (A) Qualifications.--Any individual nominated for \\n\",\"                appointment to the position of Assistant Secretary of \\n\",\"                the Air Force for Financial Management under section \\n\",\"                8016 of title 10, United States Code, shall be an \\n\",\"                individual who has served--\\n\",\"                            (i) as the chief financial officer or \\n\",\"                        equivalent position of a Federal or State \\n\",\"                        agency that has received an audit with an \\n\",\"                        unqualified opinion on such agency\\'s financial \\n\",\"                        statements during the time of such individual\\'s \\n\",\"                        service; or\\n\",\"                            (ii) as the chief financial officer or \\n\",\"                        equivalent position of a public company that \\n\",\"                        has received an audit with an unqualified \\n\",\"                        opinion on such company\\'s financial statements \\n\",\"                        during the time of such individual\\'s service.\\n\",\"                    (B) Responsibilities.--The responsibilities of the \\n\",\"                individual serving as Assistant Secretary of the Air \\n\",\"                Force for Financial Management shall include, in \\n\",\"                addition to the responsibilities specified in section \\n\",\"                8016(b)(4) of title 10, United States Code, such \\n\",\"                responsibilities as the Deputy Secretary of Defense \\n\",\"                (acting in the capacity of Chief Management Officer of \\n\",\"                the Department of Defense) or a successor official in \\n\",\"                the Department of Defense (acting in such capacity) may \\n\",\"                prescribe.\\n\",\"    (b) Public Company Defined.--In this section, the term ``public \\n\",\"company\\'\\' has the meaning given the term ``issuer\\'\\' in section 2(a)(7) \\n\",\"of the Sarbanes-Oxley Act of 2002 (15 U.S.C. 7201(a)(7)).\\n\",\"\\n\",\"SEC. 6. FAILURE OF THE DEPARTMENT OF DEFENSE TO OBTAIN AUDITS WITH \\n\",\"              UNQUALIFIED OPINION OF FISCAL YEAR 2018 FINANCIAL \\n\",\"              STATEMENTS.\\n\",\"\\n\",\"    If the Department of Defense fails to obtain an audit with an \\n\",\"unqualified opinion on its general fund statement of budgetary \\n\",\"resources for fiscal year 2018 by December 31, 2018:\\n\",\"            (1) Permanent cessation of enhanced general transfer \\n\",\"        authority.--Effective as of January 1, 2019, the authority in \\n\",\"        section 4(a) shall cease to be available to the Department of \\n\",\"        Defense for fiscal year 2018 and any fiscal year thereafter.\\n\",\"            (2) Reorganization of responsibilities of chief management \\n\",\"        officer.--Effective as of April 1, 2019:\\n\",\"                    (A) Position of chief management officer.--Section \\n\",\"                132a of title 10, United States Code, is amended to \\n\",\"                read as follows:\\n\",\"``Sec. 132a. Chief Management Officer\\n\",\"    ``(a) In General.--(1) There is a Chief Management Officer of the \\n\",\"Department of Defense, appointed from civilian life by the President, \\n\",\"by and with the advice and consent of the Senate.\\n\",\"    ``(2) Any individual nominated for appointment as Chief Management \\n\",\"Officer shall be an individual who has--\\n\",\"            ``(A) extensive executive level leadership and management \\n\",\"        experience in the public or private sector;\\n\",\"            ``(B) strong leadership skills;\\n\",\"            ``(C) a demonstrated ability to manage large and complex \\n\",\"        organizations; and\\n\",\"            ``(D) a proven record in achieving positive operational \\n\",\"        results.\\n\",\"    ``(b) Powers and Duties.--The Chief Management Officer shall \\n\",\"perform such duties and exercise such powers as the Secretary of \\n\",\"Defense may prescribe.\\n\",\"    ``(c) Service as Chief Management Officer.--(1) The Chief \\n\",\"Management Officer is the Chief Management Officer of the Department of \\n\",\"Defense.\\n\",\"    ``(2) In serving as the Chief Management Officer of the Department \\n\",\"of Defense, the Chief Management Officer shall be responsible for the \\n\",\"management and administration of the Department of Defense with respect \\n\",\"to the following:\\n\",\"            ``(A) The expenditure of funds, accounting, and finance.\\n\",\"            ``(B) Procurement, including procurement of any enterprise \\n\",\"        resource planning (ERP) system and any information technology \\n\",\"        (IT) system that is a financial feeder system, human resources \\n\",\"        system, or logistics system.\\n\",\"            ``(C) Facilities, property, nonmilitary equipment, and \\n\",\"        other resources.\\n\",\"            ``(D) Strategic planning, annual performance planning, and \\n\",\"        identification and tracking of performance measures.\\n\",\"            ``(E) Internal audits and management analyses of the \\n\",\"        programs and activities of the Department, including the \\n\",\"        Defense Contract Audit Agency.\\n\",\"            ``(F) Such other areas or matters as the Secretary of \\n\",\"        Defense may designate.\\n\",\"    ``(3) The head of the Defense Contract Audit Agency shall be under \\n\",\"the supervision of, and shall report directly to, the Chief Management \\n\",\"Officer.\\n\",\"    ``(d) Precedence.--The Chief Management Officer takes precedence in \\n\",\"the Department of Defense after the Secretary of Defense and the Deputy \\n\",\"Secretary of Defense.\\'\\'.\\n\",\"                    (B) Conforming amendments.--\\n\",\"                            (i) Section 131(b) of title 10, United \\n\",\"                        States Code, is amended--\\n\",\"                                    (I) by striking paragraph (3);\\n\",\"                                    (II) by redesignating paragraph (2) \\n\",\"                                as paragraph (3); and\\n\",\"                                    (III) by inserting after paragraph \\n\",\"                                (1) the following new paragraph (2):\\n\",\"            ``(2) The Chief Management Officer of the Department of \\n\",\"        Defense.\\'\\'.\\n\",\"                            (ii) Section 132 of such title is amended--\\n\",\"                                    (I) by striking subsection (c); and\\n\",\"                                    (II) by redesignating subsections \\n\",\"                                (d) and (e) as subsections (c) and (d), \\n\",\"                                respectively.\\n\",\"                            (iii) Section 133(e)(1) of such title is \\n\",\"                        amended by striking ``and the Deputy Secretary \\n\",\"                        of Defense\\'\\' and inserting ``, the Deputy \\n\",\"                        Secretary of Defense, and the Chief Management \\n\",\"                        Officer of the Department of Defense\\'\\'.\\n\",\"                            (iv) Such title is further amended by \\n\",\"                        inserting ``the Chief Management Officer of the \\n\",\"                        Department of Defense,\\'\\' after ``the Deputy \\n\",\"                        Secretary of Defense,\\'\\' each place it appears \\n\",\"                        in the provisions as follows:\\n\",\"                                    (I) Section 133(e)(2).\\n\",\"                                    (II) Section 134(c).\\n\",\"                            (v) Section 137a(d) of such title is \\n\",\"                        amended by striking ``the Secretaries of the \\n\",\"                        military departments,\\'\\' and all that follows \\n\",\"                        and inserting ``the Chief Management Officer of \\n\",\"                        the Department of Defense, the Secretaries of \\n\",\"                        the military departments, and the Under \\n\",\"                        Secretaries of Defense.\\'\\'.\\n\",\"                            (vi) Section 138(d) of such title is \\n\",\"                        amended by striking ``the Secretaries of the \\n\",\"                        military departments,\\'\\' and all that follows \\n\",\"                        through the period and inserting ``the Chief \\n\",\"                        Management Officer of the Department of \\n\",\"                        Defense, the Secretaries of the military \\n\",\"                        departments, the Under Secretaries of Defense, \\n\",\"                        and the Director of Defense Research and \\n\",\"                        Engineering.\\'\\'.\\n\",\"                    (C) Clerical amendment.--The table of sections at \\n\",\"                the beginning of chapter 4 of such title is amended by \\n\",\"                striking the item relating to section 132a and \\n\",\"                inserting the following new item:\\n\",\"\\n\",\"``132a. Chief Management Officer.\\'\\'.\\n\",\"                    (D) Executive schedule.--Section 5313 of title 5, \\n\",\"                United States Code, is amended by adding at the end the \\n\",\"                following:\\n\",\"            ``Chief Management Officer of the Department of Defense.\\'\\'.\\n\",\"                    (E) Reference in law.--Any reference in any \\n\",\"                provision of law to the Chief Management Officer of the \\n\",\"                Department of Defense shall be deemed to refer to the \\n\",\"                Chief Management Officer of the Department of Defense \\n\",\"                under section 132a of title 10, United States Code (as \\n\",\"                amended by this paragraph).\\n\",\"            (3) Jurisdiction of dfas.--Effective as of April 1, 2019:\\n\",\"                    (A) Transfer to department of the treasury.--\\n\",\"                Jurisdiction of the Defense Finance and Accounting \\n\",\"                Service (DFAS) is transferred from the Department of \\n\",\"                Defense to the Department of the Treasury.\\n\",\"                    (B) Administration.--The Secretary of the Treasury \\n\",\"                shall administer the Defense Finance and Accounting \\n\",\"                Service following transfer under this paragraph through \\n\",\"                the Financial Management Service of the Department of \\n\",\"                the Treasury.\\n\",\"                    (C) Memorandum of understanding.--The Secretary of \\n\",\"                Defense and the Secretary of the Treasury shall jointly \\n\",\"                enter into a memorandum of understanding regarding the \\n\",\"                transfer of jurisdiction of the Defense Finance and \\n\",\"                Accounting Service under this paragraph. The memorandum \\n\",\"                of understanding shall provide for the transfer of the \\n\",\"                personnel and other resources of the Service to the \\n\",\"                Department of the Treasury and for the assumption of \\n\",\"                responsibility for such personnel and resources by the \\n\",\"                Department of the Treasury.\\n\",\"                    (D) Construction.--Nothing in this paragraph shall \\n\",\"                be construed as terminating, altering, or revising any \\n\",\"                responsibilities or authorities of the Defense Finance \\n\",\"                and Accounting Service (other than responsibilities and \\n\",\"                authorities in connection with the exercise of \\n\",\"                jurisdiction of the Service following transfer under \\n\",\"                this paragraph).\\n\",\"\\n\",\"SEC. 7. FAILURE OF THE MILITARY DEPARTMENTS TO OBTAIN AUDITS WITH \\n\",\"              UNQUALIFIED OPINION OF FINANCIAL STATEMENTS FOR FISCAL \\n\",\"              YEARS AFTER FISCAL YEAR 2017.\\n\",\"\\n\",\"    (a) Permanent Cessation of Authorities on Reprogramming of Funds.--\\n\",\"If a military department fails to obtain an audit with an unqualified \\n\",\"opinion on its financial statements for fiscal year 2018 by December \\n\",\"31, 2018, effective as of January 1, 2019, the authorities in section \\n\",\"4(b) shall cease to be available to the military department for fiscal \\n\",\"year 2018 and any fiscal year thereafter.\\n\",\"    (b) Annual Prohibition on Expenditure of Funds for Certain MDAPs \\n\",\"Past Milestone B in Connection With Failure.--\\n\",\"            (1) Prohibition.--Effective for fiscal years after fiscal \\n\",\"        year 2017, if a military department fails to obtain an audit \\n\",\"        with an unqualified opinion on its financial statements for any \\n\",\"        fiscal year, effective as of the date of the issuance of the \\n\",\"        opinion on such audit, amounts available to the military \\n\",\"        department for the following fiscal year may not be obligated \\n\",\"        by the military department for a weapon or weapon system or \\n\",\"        platform being acquired as a major defense acquisition program \\n\",\"        for any activity beyond Milestone B approval unless such \\n\",\"        program has already achieved Milestone B approval of the date \\n\",\"        of the issuance of the opinion on such audit.\\n\",\"            (2) Definitions.--In this subsection:\\n\",\"                    (A) The term ``major defense acquisition program\\'\\' \\n\",\"                has the meaning given that term in section 2430 of \\n\",\"                title 10, United States Code.\\n\",\"                    (B) The term ``Milestone B approval\\'\\' has the \\n\",\"                meaning given that term in section 2366(e)(7) of title \\n\",\"                10, United States Code.\\n\",\"\\n\",\"SEC. 8. ENTERPRISE RESOURCE PLANNING.\\n\",\"\\n\",\"    The Secretary of Defense shall amend the acquisition guidance of \\n\",\"the Department of Defense to provide for the following:\\n\",\"            (1) The Defense Business System Management Committee may \\n\",\"        not approve procurement of any Enterprise Resource Planning \\n\",\"        (ERP) business system that is independently estimated to take \\n\",\"        longer than three years to procure from initial obligation of \\n\",\"        funds to full deployment and sustainment.\\n\",\"            (2) Any contract for the acquisition of an Enterprise \\n\",\"        Resource Planning business system shall include a provision \\n\",\"        authorizing termination of the contract at no cost to the \\n\",\"        Government if procurement of the system takes longer than three \\n\",\"        years from initial obligation of funds to full deployment and \\n\",\"        sustainment.\\n\",\"            (3) Any implementation of an Enterprise Resource Planning \\n\",\"        system shall comply with each of the following:\\n\",\"                    (A) The current Business Enterprise Architecture \\n\",\"                established by the Chief Management Officer of the \\n\",\"                Department of Defense.\\n\",\"                    (B) The provisions of section 2222 of title 10, \\n\",\"                United States Code.\\n\",\"            (4) The Deputy Secretary of Defense (acting in the capacity \\n\",\"        of Chief Management Officer of the Department of Defense) or a \\n\",\"        successor official in the Department of Defense (acting in such \\n\",\"        capacity) shall have the authority to replace any program \\n\",\"        manager (whether in a military department or a Defense Agency) \\n\",\"        for the procurement of an Enterprise Resource Planning business \\n\",\"        system if procurement of the system takes longer than three \\n\",\"        years from initial obligation of funds to full deployment and \\n\",\"        sustainment.\\n\",\"            (5) Any integrator contract for the implementation of an \\n\",\"        Enterprise Resource Planning business system shall only be \\n\",\"        awarded to companies that have a history of successful \\n\",\"        implementation of other Enterprise Resource Planning business \\n\",\"        systems for the Federal Government (whether with the Department \\n\",\"        of Defense or another department or agency of the Federal \\n\",\"        Government), including meeting cost and schedule goals.\\n\",\"                                 <all>\\n\"}'"
      ]
     },
     "execution_count": 132,
     "metadata": {},
     "output_type": "execute_result"
    }
   ],
   "source": [
    "X_test[9574]"
   ]
  },
  {
   "cell_type": "code",
   "execution_count": 138,
   "metadata": {
    "collapsed": false
   },
   "outputs": [
    {
     "data": {
      "text/plain": [
       "bill_num                                                                           s327-114\n",
       "bill_name                                 A bill to provide for auditable financial stat...\n",
       "bill_text                                 {\"\\n\",\"[Congressional Bills 114th Congress]\\n\"...\n",
       "top_subject                                              Armed forces and national security\n",
       "international_affairs                                                                     0\n",
       "marine_and_inland_water_transportation                                                    0\n",
       "Name: 9574, dtype: object"
      ]
     },
     "execution_count": 138,
     "metadata": {},
     "output_type": "execute_result"
    }
   ],
   "source": [
    "us_bills.ix[9574]"
   ]
  },
  {
   "cell_type": "code",
   "execution_count": 133,
   "metadata": {
    "collapsed": false
   },
   "outputs": [
    {
     "data": {
      "text/plain": [
       "5850    {\"\\n\",\"[Congressional Bills 114th Congress]\\n\"...\n",
       "2954    {\"\\n\",\"[Congressional Bills 114th Congress]\\n\"...\n",
       "8211    {\"\\n\",\"[Congressional Bills 114th Congress]\\n\"...\n",
       "8110    {\"\\n\",\"[Congressional Bills 114th Congress]\\n\"...\n",
       "3027    {\"\\n\",\"[Congressional Bills 114th Congress]\\n\"...\n",
       "7920    {\"\\n\",\"[Congressional Bills 114th Congress]\\n\"...\n",
       "7326    {\"\\n\",\"[Congressional Bills 114th Congress]\\n\"...\n",
       "9797    {\"\\n\",\"[Congressional Bills 114th Congress]\\n\"...\n",
       "443     {\"\\n\",\"[Congressional Bills 114th Congress]\\n\"...\n",
       "6484    {\"\\n\",\"[Congressional Bills 114th Congress]\\n\"...\n",
       "Name: bill_text, dtype: object"
      ]
     },
     "execution_count": 133,
     "metadata": {},
     "output_type": "execute_result"
    }
   ],
   "source": [
    "# first 10 false negatives (meaning they were incorrectly classified as 1-star reviews)\n",
    "X_test[y_test > y_pred_class][:10]"
   ]
  },
  {
   "cell_type": "code",
   "execution_count": 136,
   "metadata": {
    "collapsed": false
   },
   "outputs": [
    {
     "data": {
      "text/plain": [
       "'{\"\\n\",\"[Congressional Bills 114th Congress]\\n\",\"[From the U.S. Government Printing Office]\\n\",\"[H.R. 337 Introduced in House (IH)]\\n\",\"\\n\",\"114th CONGRESS\\n\",\"  1st Session\\n\",\"                                H. R. 337\\n\",\"\\n\",\" To provide limitations on maritime liens on fishing permits, and for \\n\",\"                            other purposes.\\n\",\"\\n\",\"\\n\",\"_______________________________________________________________________\\n\",\"\\n\",\"\\n\",\"                    IN THE HOUSE OF REPRESENTATIVES\\n\",\"\\n\",\"                            January 13, 2015\\n\",\"\\n\",\" Mr. Young of Alaska introduced the following bill; which was referred \\n\",\"         to the Committee on Transportation and Infrastructure\\n\",\"\\n\",\"_______________________________________________________________________\\n\",\"\\n\",\"                                 A BILL\\n\",\"\\n\",\"\\n\",\" \\n\",\" To provide limitations on maritime liens on fishing permits, and for \\n\",\"                            other purposes.\\n\",\"\\n\",\"    Be it enacted by the Senate and House of Representatives of the \\n\",\"United States of America in Congress assembled,\\n\",\"\\n\",\"SECTION 1. SHORT TITLE.\\n\",\"\\n\",\"    This Act may be cited as the ``Maritime Lien Reform Act\\'\\'.\\n\",\"\\n\",\"SEC. 2. LIMITATION ON MARITIME LIENS ON FISHING PERMIT AND PERMIT \\n\",\"              DESCRIPTION.\\n\",\"\\n\",\"    (a) In General.--Subchapter I of chapter 313 of title 46, United \\n\",\"States Code, is amended by adding at the end the following:\\n\",\"``Sec. 31310. Limitation on maritime liens on fishing permit and permit \\n\",\"              description\\n\",\"    ``(a) In General.--This chapter--\\n\",\"            ``(1) does not establish a maritime lien on a permit that--\\n\",\"                    ``(A) authorizes a person or use of a vessel to \\n\",\"                engage in fishing; and\\n\",\"                    ``(B) is issued under State or Federal law; and\\n\",\"            ``(2) does not authorize any civil action to enforce a \\n\",\"        maritime lien on such a permit.\\n\",\"    ``(b) Fishing Permit Described.--A fishing permit--\\n\",\"            ``(1) is governed solely by the State or Federal law under \\n\",\"        which it was issued; and\\n\",\"            ``(2) is not included in the whole of a vessel or as an \\n\",\"        appurtenance or intangible of a vessel for any purpose.\\n\",\"    ``(c) Limitation on Statutory Construction.--Nothing in subsections \\n\",\"(a) and (b) shall be construed as imposing any limitation upon the \\n\",\"authority of the Secretary of Commerce to modify, suspend, revoke, or \\n\",\"sanction any Federal fishery permit issued by the Secretary of Commerce \\n\",\"or to bring a civil action to enforce such modification, suspension, \\n\",\"revocation, or sanction.\\'\\'.\\n\",\"    (b) Clerical Amendment.--The table of sections at the beginning of \\n\",\"such chapter is amended by inserting after the item relating to section \\n\",\"31309 the following:\\n\",\"\\n\",\"``31310. Limitation on maritime liens on fishing permit and permit \\n\",\"                            description.\\'\\'.\\n\",\"                                 <all>\\n\"}'"
      ]
     },
     "execution_count": 136,
     "metadata": {},
     "output_type": "execute_result"
    }
   ],
   "source": [
    "X_test[2954]"
   ]
  },
  {
   "cell_type": "code",
   "execution_count": 137,
   "metadata": {
    "collapsed": false
   },
   "outputs": [
    {
     "data": {
      "text/plain": [
       "bill_num                                                                          hr337-114\n",
       "bill_name                                 To provide limitations on maritime liens on fi...\n",
       "bill_text                                 {\"\\n\",\"[Congressional Bills 114th Congress]\\n\"...\n",
       "top_subject                                                 Transportation and public works\n",
       "international_affairs                                                                     0\n",
       "marine_and_inland_water_transportation                                                    1\n",
       "Name: 2954, dtype: object"
      ]
     },
     "execution_count": 137,
     "metadata": {},
     "output_type": "execute_result"
    }
   ],
   "source": [
    "us_bills.ix[2954]"
   ]
  },
  {
   "cell_type": "code",
   "execution_count": null,
   "metadata": {
    "collapsed": true
   },
   "outputs": [],
   "source": []
  },
  {
   "cell_type": "code",
   "execution_count": null,
   "metadata": {
    "collapsed": true
   },
   "outputs": [],
   "source": []
  },
  {
   "cell_type": "code",
   "execution_count": null,
   "metadata": {
    "collapsed": true
   },
   "outputs": [],
   "source": []
  },
  {
   "cell_type": "code",
   "execution_count": null,
   "metadata": {
    "collapsed": true
   },
   "outputs": [],
   "source": []
  },
  {
   "cell_type": "code",
   "execution_count": null,
   "metadata": {
    "collapsed": true
   },
   "outputs": [],
   "source": []
  },
  {
   "cell_type": "code",
   "execution_count": null,
   "metadata": {
    "collapsed": true
   },
   "outputs": [],
   "source": []
  },
  {
   "cell_type": "code",
   "execution_count": null,
   "metadata": {
    "collapsed": true
   },
   "outputs": [],
   "source": []
  },
  {
   "cell_type": "code",
   "execution_count": 144,
   "metadata": {
    "collapsed": false
   },
   "outputs": [
    {
     "data": {
      "text/plain": [
       "(8199, 72284)"
      ]
     },
     "execution_count": 144,
     "metadata": {},
     "output_type": "execute_result"
    }
   ],
   "source": [
    "# don't convert to lowercase, we end up with more features\n",
    "vect = CountVectorizer(lowercase=False)\n",
    "X_train_dtm = vect.fit_transform(X_train)\n",
    "X_train_dtm.shape"
   ]
  },
  {
   "cell_type": "code",
   "execution_count": 145,
   "metadata": {
    "collapsed": false
   },
   "outputs": [
    {
     "data": {
      "text/plain": [
       "(8199, 1436064)"
      ]
     },
     "execution_count": 145,
     "metadata": {},
     "output_type": "execute_result"
    }
   ],
   "source": [
    "# include 1-grams and 2-grams, we end up with many features\n",
    "vect = CountVectorizer(lowercase=False, ngram_range=(1, 2),stop_words='english')\n",
    "X_train_dtm = vect.fit_transform(X_train)\n",
    "X_train_dtm.shape"
   ]
  },
  {
   "cell_type": "code",
   "execution_count": 146,
   "metadata": {
    "collapsed": false
   },
   "outputs": [
    {
     "name": "stdout",
     "output_type": "stream",
     "text": [
      "0.984637893197\n"
     ]
    }
   ],
   "source": [
    "# create document-term matrices\n",
    "X_train_dtm = vect.fit_transform(X_train)\n",
    "X_test_dtm = vect.transform(X_test)\n",
    "\n",
    "# use Naive Bayes to predict the star rating\n",
    "nb = MultinomialNB()\n",
    "nb.fit(X_train_dtm, y_train)\n",
    "y_pred_class = nb.predict(X_test_dtm)\n",
    "\n",
    "# calculate accuracy\n",
    "print metrics.accuracy_score(y_test, y_pred_class)"
   ]
  },
  {
   "cell_type": "code",
   "execution_count": 147,
   "metadata": {
    "collapsed": true
   },
   "outputs": [],
   "source": [
    "# predict class probabilities\n",
    "y_pred_prob = nb.predict_proba(X_test_dtm)[:, 1]"
   ]
  },
  {
   "cell_type": "code",
   "execution_count": 148,
   "metadata": {
    "collapsed": false
   },
   "outputs": [
    {
     "name": "stdout",
     "output_type": "stream",
     "text": [
      "[[2680   19]\n",
      " [  23   12]]\n"
     ]
    }
   ],
   "source": [
    "print metrics.confusion_matrix(y_test, y_pred_class)"
   ]
  },
  {
   "cell_type": "code",
   "execution_count": null,
   "metadata": {
    "collapsed": true
   },
   "outputs": [],
   "source": []
  },
  {
   "cell_type": "code",
   "execution_count": null,
   "metadata": {
    "collapsed": true
   },
   "outputs": [],
   "source": []
  }
 ],
 "metadata": {
  "kernelspec": {
   "display_name": "Python [insight]",
   "language": "python",
   "name": "Python [insight]"
  },
  "language_info": {
   "codemirror_mode": {
    "name": "ipython",
    "version": 2
   },
   "file_extension": ".py",
   "mimetype": "text/x-python",
   "name": "python",
   "nbconvert_exporter": "python",
   "pygments_lexer": "ipython2",
   "version": "2.7.12"
  }
 },
 "nbformat": 4,
 "nbformat_minor": 0
}
