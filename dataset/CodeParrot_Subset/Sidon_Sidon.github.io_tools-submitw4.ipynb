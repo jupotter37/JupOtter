{
 "cells": [
  {
   "cell_type": "code",
   "execution_count": 1,
   "metadata": {
    "collapsed": false
   },
   "outputs": [],
   "source": [
    "# -*- coding: utf-8 -*-\n",
    "\"\"\"\n",
    "Created on Sun august 21 14:35:15 2016\n",
    "@author: Sidon\n",
    "\"\"\"\n",
    "%matplotlib inline\n",
    "import pandas as pd\n",
    "import numpy as np\n",
    "from collections import OrderedDict\n",
    "from tabulate import tabulate, tabulate_formats\n",
    "import seaborn\n",
    "import matplotlib.pyplot as plt\n",
    "import scipy.stats\n",
    "import statsmodels.formula.api as smf\n",
    "import statsmodels.stats.multicomp as multi \n",
    "\n",
    "# bug fix for display formats to avoid run time errors\n",
    "pd.set_option('display.float_format', lambda x:'%f'%x)\n",
    "\n",
    "# Load from CSV\n",
    "data1 = pd.read_csv('~/dev/coursera/gapminder.csv', skip_blank_lines=True,\n",
    "                     usecols=['country','incomeperperson',\n",
    "                              'alcconsumption', 'lifeexpectancy'])\n",
    " \n",
    "# Rename columns for clarity                                    \n",
    "data1.columns = ['country','income','alcohol','life']\n",
    "\n",
    "# Variables Descriptions\n",
    "INCOME = \"2010 Gross Domestic Product per capita in constant 2000 US$\"\n",
    "ALCOHOL = \"2008 alcohol consumption per adult (liters, age 15+)\"\n",
    "LIFE = \"2011 life expectancy at birth (years)\"\n",
    "\n",
    "\n",
    "# converting to numeric values and parsing (numeric invalids=NaN)\n",
    "for dt in ('alcohol','income', 'life') :\n",
    "   data1[dt] = pd.to_numeric(data1[dt], 'errors=coerce') \n",
    "\n",
    "# Remove rows with nan values\n",
    "data1 = data1.dropna(axis=0, how='any')\n",
    "\n",
    "# Copy dataframe for univariate categorical variables\n",
    "data2 = data1.copy()"
   ]
  },
  {
   "cell_type": "code",
   "execution_count": 2,
   "metadata": {
    "collapsed": false
   },
   "outputs": [
    {
     "name": "stdout",
     "output_type": "stream",
     "text": [
      "Means\n",
      "|   income |   alcohol |\n",
      "|---------:|----------:|\n",
      "|  7006.36 |   6.78409 |\n"
     ]
    }
   ],
   "source": [
    "# means for categorical Variables\n",
    "means = {}\n",
    "means['alcohol'] = data1.alcohol.mean()\n",
    "means['income'] =  data1.income.mean()\n",
    "\n",
    "print ('Means')\n",
    "print (tabulate([[m for m in means.values()]], tablefmt=\"pipe\", \n",
    "                headers=[k for k in means.keys()]))"
   ]
  },
  {
   "cell_type": "code",
   "execution_count": 3,
   "metadata": {
    "collapsed": false
   },
   "outputs": [],
   "source": [
    "# Create categorical variable alcohol (Two levels based on mean)\n",
    "\n",
    "min_a = data1.alcohol.min()\n",
    "max_a = data1.alcohol.max()\n",
    "\n",
    "data2['alcohol'] = pd.cut(data1.alcohol, [np.floor(min_a),means['alcohol'],np.ceil(max_a)], \n",
    "                       labels=['<=6.8', '>6.8'])\n",
    "\n",
    "data2[\"alcohol\"] = data2[\"alcohol\"].astype('category')"
   ]
  },
  {
   "cell_type": "code",
   "execution_count": 4,
   "metadata": {
    "collapsed": false
   },
   "outputs": [
    {
     "name": "stdout",
     "output_type": "stream",
     "text": [
      "country      object\n",
      "income     category\n",
      "alcohol    category\n",
      "life        float64\n",
      "dtype: object\n"
     ]
    }
   ],
   "source": [
    "# Create categorical variable income (Two levels based on mean)\n",
    "\n",
    "min_i = data1.income.min()\n",
    "max_i = data1.income.max()\n",
    "\n",
    "data2['income'] = pd.cut(data1.income, [np.floor(min_i),means['income'],np.ceil(max_i)], \n",
    "                       labels=['<=7006', '>7006'])\n",
    "\n",
    "data2[\"income\"] = data2[\"income\"].astype('category')\n",
    "\n",
    "print (data2.dtypes)"
   ]
  },
  {
   "cell_type": "code",
   "execution_count": 5,
   "metadata": {
    "collapsed": false
   },
   "outputs": [
    {
     "name": "stdout",
     "output_type": "stream",
     "text": [
      "ANOVA results for income less than the mean (US$ 7006)\n",
      "╒═══════════╤═══════════╕\n",
      "│   F-Value │   P-value │\n",
      "╞═══════════╪═══════════╡\n",
      "│   3.37363 │ 0.0686231 │\n",
      "╘═══════════╧═══════════╛\n",
      "\n",
      "ANOVA results for income greater than the mean (US$ 7006)\n",
      "╒═══════════╤═════════════╕\n",
      "│   F-Value │     P-value │\n",
      "╞═══════════╪═════════════╡\n",
      "│   13.0789 │ 0.000794359 │\n",
      "╘═══════════╧═════════════╛\n"
     ]
    }
   ],
   "source": [
    "data_income1 = data2[data2.income=='<=7006']\n",
    "data_income2 = data2[data2.income=='>7006']\n",
    "\n",
    "model1 = smf.ols(formula='life ~ C(alcohol)', data=data_income1)\n",
    "results1 = model1.fit()\n",
    "#print (results1.summary())\n",
    "\n",
    "model2 = smf.ols(formula='life ~ C(alcohol)', data=data_income2)\n",
    "results2 = model2.fit()\n",
    "#print ('\\n',results2.summary())\n",
    "\n",
    "r1 = [results1.fvalue, results1.f_pvalue]\n",
    "r2 = [results2.fvalue, results2.f_pvalue]\n",
    "\n",
    "print ('ANOVA results for income less than the mean (US$ 7006)')\n",
    "print (tabulate([r1], tablefmt='fancy_grid', headers=['F-Value', 'P-value']))\n",
    "\n",
    "print ('\\nANOVA results for income greater than the mean (US$ 7006)')\n",
    "print (tabulate([r2], tablefmt='fancy_grid', headers=['F-Value', 'P-value']))"
   ]
  },
  {
   "cell_type": "code",
   "execution_count": 6,
   "metadata": {
    "collapsed": false
   },
   "outputs": [
    {
     "name": "stdout",
     "output_type": "stream",
     "text": [
      "╒═══════════╤═════════╕\n",
      "│ alcohol   │    life │\n",
      "╞═══════════╪═════════╡\n",
      "│ <=6.8     │ 65.2091 │\n",
      "├───────────┼─────────┤\n",
      "│ >6.8      │ 68.2592 │\n",
      "╘═══════════╧═════════╛\n"
     ]
    }
   ],
   "source": [
    "mean1 = data_income1.groupby('alcohol').mean()\n",
    "print (tabulate(mean1, tablefmt='fancy_grid', headers=['alcohol', 'life']))"
   ]
  },
  {
   "cell_type": "code",
   "execution_count": 7,
   "metadata": {
    "collapsed": false
   },
   "outputs": [
    {
     "name": "stdout",
     "output_type": "stream",
     "text": [
      "╒═══════════╤═════════╕\n",
      "│ alcohol   │    life │\n",
      "╞═══════════╪═════════╡\n",
      "│ <=6.8     │ 74.6213 │\n",
      "├───────────┼─────────┤\n",
      "│ >6.8      │ 79.9717 │\n",
      "╘═══════════╧═════════╛\n"
     ]
    }
   ],
   "source": [
    "mean2 = data_income2.groupby('alcohol').mean()\n",
    "print (tabulate(mean2, tablefmt='fancy_grid', headers=['alcohol', 'life']))"
   ]
  },
  {
   "cell_type": "code",
   "execution_count": 8,
   "metadata": {
    "collapsed": false,
    "scrolled": true
   },
   "outputs": [
    {
     "data": {
      "image/png": "[encoded data removed]",
      "text/plain": [
       "<matplotlib.figure.Figure at 0x7f72406715c0>"
      ]
     },
     "metadata": {},
     "output_type": "display_data"
    }
   ],
   "source": [
    "seaborn.factorplot(x='alcohol', y='life', data=data_income1, kind=\"bar\", ci=None)\n",
    "plt.xlabel('Alcohol Consumption')\n",
    "plt.ylabel('Life Expectancy')\n",
    "plt.title('Alcohol consumption x Life expectancy,\\n income less than mean (<=7006)\\n')\n",
    "plt.show()"
   ]
  },
  {
   "cell_type": "code",
   "execution_count": 9,
   "metadata": {
    "collapsed": false
   },
   "outputs": [
    {
     "data": {
      "image/png": "[encoded data removed]",
      "text/plain": [
       "<matplotlib.figure.Figure at 0x7f724066f198>"
      ]
     },
     "metadata": {},
     "output_type": "display_data"
    }
   ],
   "source": [
    "seaborn.factorplot(x='alcohol', y='life', data=data_income2, kind=\"bar\", ci=None)\n",
    "plt.xlabel('Alcohol Consumption')\n",
    "plt.ylabel('Life Expectancy')\n",
    "plt.title('Alcohol consumption x Life expectancy,\\n income greater than mean (>7006)\\n')\n",
    "plt.show()"
   ]
  },
  {
   "cell_type": "code",
   "execution_count": null,
   "metadata": {
    "collapsed": true
   },
   "outputs": [],
   "source": []
  }
 ],
 "metadata": {
  "anaconda-cloud": {
   "attach-environment": true,
   "environment": "Root",
   "summary": "Data Analysis Tools - Week3 | Pearson Correlation | Sidon | 2016",
   "url": "https://anaconda.org/sidon/submitw4"
  },
  "kernelspec": {
   "display_name": "Python [Root]",
   "language": "python",
   "name": "Python [Root]"
  },
  "language_info": {
   "codemirror_mode": {
    "name": "ipython",
    "version": 3
   },
   "file_extension": ".py",
   "mimetype": "text/x-python",
   "name": "python",
   "nbconvert_exporter": "python",
   "pygments_lexer": "ipython3",
   "version": "3.5.1"
  }
 },
 "nbformat": 4,
 "nbformat_minor": 0
}
