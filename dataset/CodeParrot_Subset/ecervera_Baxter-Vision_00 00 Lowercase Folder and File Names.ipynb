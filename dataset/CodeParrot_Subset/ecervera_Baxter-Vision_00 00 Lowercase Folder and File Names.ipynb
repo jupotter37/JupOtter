{
 "cells": [
  {
   "cell_type": "code",
   "execution_count": null,
   "metadata": {
    "collapsed": false
   },
   "outputs": [],
   "source": [
    "import glob, json, os.path\n",
    "\n",
    "with open('parameters.json', 'r') as infile:\n",
    "    params = json.load(infile)\n",
    "\n",
    "ITEM_FOLDER = params['item_folder']\n",
    "os.chdir(ITEM_FOLDER)\n",
    "\n",
    "items = glob.glob('[A-Z]*')\n",
    "\n",
    "for item in items:\n",
    "    os.chdir(item)\n",
    "    files = glob.glob('*')\n",
    "    for filename in files:\n",
    "        os.rename(filename,filename.lower())\n",
    "    os.chdir('..')\n",
    "    os.rename(item,item.lower())\n",
    "os.chdir('..')\n",
    "print('Done!')"
   ]
  },
  {
   "cell_type": "code",
   "execution_count": null,
   "metadata": {
    "collapsed": true
   },
   "outputs": [],
   "source": []
  }
 ],
 "metadata": {
  "kernelspec": {
   "display_name": "Python 2",
   "language": "python",
   "name": "python2"
  },
  "language_info": {
   "codemirror_mode": {
    "name": "ipython",
    "version": 2
   },
   "file_extension": ".py",
   "mimetype": "text/x-python",
   "name": "python",
   "nbconvert_exporter": "python",
   "pygments_lexer": "ipython2",
   "version": "2.7.6"
  }
 },
 "nbformat": 4,
 "nbformat_minor": 2
}
