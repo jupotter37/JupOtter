{
 "cells": [
  {
   "cell_type": "markdown",
   "metadata": {},
   "source": [
    "# Convolution Neural Network"
   ]
  },
  {
   "cell_type": "code",
   "execution_count": 1,
   "metadata": {
    "collapsed": true
   },
   "outputs": [],
   "source": [
    "# Import libraries\n",
    "from tensorflow.examples.tutorials.mnist import input_data as mnist_data\n",
    "import matplotlib.pyplot as plt\n",
    "import tensorflow as tf\n",
    "%matplotlib inline"
   ]
  },
  {
   "cell_type": "code",
   "execution_count": 2,
   "metadata": {
    "collapsed": true
   },
   "outputs": [],
   "source": [
    "# Set variables\n",
    "train_step_num = 100\n",
    "learning_rate = 0.001\n",
    "batch_size = 100\n",
    "test_interval = 10\n",
    "keep_rate = 0.5\n",
    "stddev = 0.1\n",
    "rand_seed = 0\n",
    "constant = 0.1\n",
    "conv_stride = [1, 1, 1, 1]\n",
    "pool_stride= [1, 2, 2, 1]\n",
    "ksize = [1, 2, 2, 1]"
   ]
  },
  {
   "cell_type": "code",
   "execution_count": 3,
   "metadata": {},
   "outputs": [
    {
     "name": "stdout",
     "output_type": "stream",
     "text": [
      "Successfully downloaded train-images-idx3-ubyte.gz 9912422 bytes.\n",
      "Extracting ../tmp/mnist/train-images-idx3-ubyte.gz\n",
      "Successfully downloaded train-labels-idx1-ubyte.gz 28881 bytes.\n",
      "Extracting ../tmp/mnist/train-labels-idx1-ubyte.gz\n",
      "Successfully downloaded t10k-images-idx3-ubyte.gz 1648877 bytes.\n",
      "Extracting ../tmp/mnist/t10k-images-idx3-ubyte.gz\n",
      "Successfully downloaded t10k-labels-idx1-ubyte.gz 4542 bytes.\n",
      "Extracting ../tmp/mnist/t10k-labels-idx1-ubyte.gz\n"
     ]
    }
   ],
   "source": [
    "# Download mnist data\n",
    "mnist = mnist_data.read_data_sets(\"../tmp/mnist\", one_hot=True)"
   ]
  },
  {
   "cell_type": "code",
   "execution_count": 4,
   "metadata": {
    "collapsed": true
   },
   "outputs": [],
   "source": [
    "# Create symbolic variables\n",
    "x = tf.placeholder(\"float\", shape=[None, 784])\n",
    "x_image = tf.reshape(x, [-1, 28, 28, 1])\n",
    "y_label = tf.placeholder(\"float\", shape=[None, 10])"
   ]
  },
  {
   "cell_type": "code",
   "execution_count": 5,
   "metadata": {
    "collapsed": true
   },
   "outputs": [],
   "source": [
    "# Create functions for variable\n",
    "def get_init_weight(shape):\n",
    "    init_weight = tf.truncated_normal(shape, stddev=stddev, seed=rand_seed)\n",
    "    return tf.Variable(init_weight)\n",
    "\n",
    "def get_init_bias(shape):\n",
    "    init_bias = tf.constant(constant, shape=shape)\n",
    "    return tf.Variable(init_bias)"
   ]
  },
  {
   "cell_type": "code",
   "execution_count": 6,
   "metadata": {
    "collapsed": true
   },
   "outputs": [],
   "source": [
    "# Create functions for calculation\n",
    "def conv2d(x, w):\n",
    "    return tf.nn.conv2d(x, w, strides=conv_stride, padding=\"SAME\")\n",
    "def max_pool(x):\n",
    "    return tf.nn.max_pool(x, ksize=ksize, strides=pool_stride, padding=\"SAME\")"
   ]
  },
  {
   "cell_type": "code",
   "execution_count": 7,
   "metadata": {
    "collapsed": true
   },
   "outputs": [],
   "source": [
    "# Convolution and pooling 1st\n",
    "w_conv1 = get_init_weight([5, 5, 1, 32])\n",
    "b_conv1 = get_init_bias([32])\n",
    "h_conv1 = tf.nn.relu(conv2d(x_image, w_conv1) + b_conv1)\n",
    "h_pool1 = max_pool(h_conv1)"
   ]
  },
  {
   "cell_type": "code",
   "execution_count": 8,
   "metadata": {
    "collapsed": true
   },
   "outputs": [],
   "source": [
    "# Convolution and pooling 2nd\n",
    "w_conv2 = get_init_weight([5, 5, 32, 64])\n",
    "b_conv2 = get_init_bias([64])\n",
    "h_conv2 = tf.nn.relu(conv2d(h_pool1, w_conv2) + b_conv2)\n",
    "h_pool2 = max_pool(h_conv2)"
   ]
  },
  {
   "cell_type": "code",
   "execution_count": 9,
   "metadata": {
    "collapsed": true
   },
   "outputs": [],
   "source": [
    "# Fully connected 1st\n",
    "w_fc1 = get_init_weight([7*7*64, 1024])\n",
    "b_fc1 = get_init_bias([1024])\n",
    "h_pool2_reshape = tf.reshape(h_pool2, [-1, 7*7*64])\n",
    "h_fc1 = tf.nn.relu(tf.matmul(h_pool2_reshape, w_fc1) + b_fc1)"
   ]
  },
  {
   "cell_type": "code",
   "execution_count": 10,
   "metadata": {
    "collapsed": true
   },
   "outputs": [],
   "source": [
    "# Fully connected 2nd\n",
    "w_fc2 = get_init_weight([1024, 10])\n",
    "b_fc2 = get_init_bias([10])\n",
    "keep_prob = tf.placeholder(\"float\")\n",
    "h_fc1_drop = tf.nn.dropout(h_fc1, keep_prob)\n",
    "y_pred = tf.nn.softmax(tf.matmul(h_fc1_drop, w_fc2) + b_fc2)"
   ]
  },
  {
   "cell_type": "code",
   "execution_count": 11,
   "metadata": {
    "collapsed": true
   },
   "outputs": [],
   "source": [
    "# Use cross entroy error for loss\n",
    "loss = -tf.reduce_sum(y_label * tf.log(y_pred))"
   ]
  },
  {
   "cell_type": "code",
   "execution_count": 12,
   "metadata": {
    "collapsed": true
   },
   "outputs": [],
   "source": [
    "# Set train\n",
    "train = tf.train.AdamOptimizer(learning_rate).minimize(loss)"
   ]
  },
  {
   "cell_type": "code",
   "execution_count": 13,
   "metadata": {
    "collapsed": true
   },
   "outputs": [],
   "source": [
    "# Set accuracy\n",
    "y_equal = tf.equal(tf.argmax(y_pred, 1), tf.argmax(y_label, 1))\n",
    "accuracy = tf.reduce_mean(tf.cast(y_equal, \"float\"))"
   ]
  },
  {
   "cell_type": "code",
   "execution_count": 14,
   "metadata": {
    "collapsed": true
   },
   "outputs": [],
   "source": [
    "# Init and create session\n",
    "init_op = tf.global_variables_initializer()\n",
    "sess = tf.Session()\n",
    "sess.run(init_op)"
   ]
  },
  {
   "cell_type": "code",
   "execution_count": 15,
   "metadata": {},
   "outputs": [
    {
     "name": "stdout",
     "output_type": "stream",
     "text": [
      "Step: 0, Train accuracy: 0.2199999988079071\n",
      "Step: 10, Train accuracy: 0.11999999731779099\n",
      "Step: 20, Train accuracy: 0.10000000149011612\n",
      "Step: 30, Train accuracy: 0.05000000074505806\n",
      "Step: 40, Train accuracy: 0.17000000178813934\n",
      "Step: 50, Train accuracy: 0.14000000059604645\n",
      "Step: 60, Train accuracy: 0.12999999523162842\n",
      "Step: 70, Train accuracy: 0.1599999964237213\n",
      "Step: 80, Train accuracy: 0.05999999865889549\n",
      "Step: 90, Train accuracy: 0.07999999821186066\n"
     ]
    }
   ],
   "source": [
    "# Train\n",
    "step_accuracy_list = []\n",
    "for step in range(train_step_num):\n",
    "    batch_x, batch_y = mnist.train.next_batch(batch_size)\n",
    "    sess.run(train, feed_dict={x: batch_x, y_label: batch_y, keep_prob: keep_rate})\n",
    "    if step % test_interval == 0:\n",
    "        train_accuracy = sess.run(accuracy, feed_dict={x: batch_x, y_label: batch_y, keep_prob: 1.0})\n",
    "        step_accuracy_list.append((step, train_accuracy))\n",
    "        print(\"Step: {}, Train accuracy: {}\".format(step, train_accuracy))"
   ]
  },
  {
   "cell_type": "code",
   "execution_count": 16,
   "metadata": {},
   "outputs": [
    {
     "name": "stdout",
     "output_type": "stream",
     "text": [
      "Accuracy: 0.09799999743700027\n"
     ]
    }
   ],
   "source": [
    "# Calculate accuracy\n",
    "test_accuracy = sess.run(accuracy, feed_dict={x:mnist.test.images, y_label: mnist.test.labels, keep_prob: 1.0})\n",
    "step_accuracy_list.append((train_step_num, test_accuracy))\n",
    "print(\"Accuracy: {}\".format(test_accuracy))"
   ]
  },
  {
   "cell_type": "code",
   "execution_count": 17,
   "metadata": {},
   "outputs": [
    {
     "data": {
      "text/plain": [
       "<matplotlib.text.Text at 0x123297e10>"
      ]
     },
     "execution_count": 17,
     "metadata": {},
     "output_type": "execute_result"
    },
    {
     "data": {
      "image/png": "[encoded data removed]",
      "text/plain": [
       "<matplotlib.figure.Figure at 0x123148860>"
      ]
     },
     "metadata": {},
     "output_type": "display_data"
    }
   ],
   "source": [
    "# Draw graph\n",
    "step_list = [step_accuracy[0] for step_accuracy in step_accuracy_list]\n",
    "accuracy_list = [step_accuracy[1] for step_accuracy in step_accuracy_list]\n",
    "plt.plot(step_list, accuracy_list)\n",
    "plt.legend([\"Accuracy\"], loc=4)\n",
    "plt.xlabel(\"Step\")\n",
    "plt.ylabel(\"Accuracy\")\n",
    "plt.title(\"Step accuracy \")"
   ]
  }
 ],
 "metadata": {
  "kernelspec": {
   "display_name": "Python 3",
   "language": "python",
   "name": "python3"
  },
  "language_info": {
   "codemirror_mode": {
    "name": "ipython",
    "version": 3
   },
   "file_extension": ".py",
   "mimetype": "text/x-python",
   "name": "python",
   "nbconvert_exporter": "python",
   "pygments_lexer": "ipython3",
   "version": "3.6.1"
  }
 },
 "nbformat": 4,
 "nbformat_minor": 2
}
