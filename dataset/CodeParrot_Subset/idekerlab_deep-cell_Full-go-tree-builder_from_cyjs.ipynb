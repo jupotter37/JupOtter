{
 "cells": [
  {
   "cell_type": "markdown",
   "metadata": {},
   "source": [
    "# Build full go tree from Cytoscape.js JSON\n"
   ]
  },
  {
   "cell_type": "code",
   "execution_count": 1,
   "metadata": {
    "collapsed": true
   },
   "outputs": [],
   "source": [
    "import pandas as pd\n",
    "from goatools import obo_parser\n",
    "\n",
    "oboUrl = './data/go.obo'\n",
    "treeSourceUrl = 'http://chianti.ucsd.edu/~kono/ci/data/collapsed_go.no_IGI.propagated.small_parent_tree'\n",
    "oboUrl = './data/go.obo'\n",
    "yeastAnnotationUrl = './data/gene_association.sgd.gz'\n",
    "kegg2goUrl = 'http://geneontology.org/external2go/kegg2go'\n",
    "reactome2go = 'http://geneontology.org/external2go/reactome2go'\n",
    "\n",
    "phenotypeUrl='http://downloads.yeastgenome.org/curation/literature/phenotype_data.tab'"
   ]
  },
  {
   "cell_type": "code",
   "execution_count": 2,
   "metadata": {
    "collapsed": true
   },
   "outputs": [],
   "source": [
    "import json\n",
    "\n",
    "with open('data/full-go.cyjs') as data_file:    \n",
    "    original = json.load(data_file)"
   ]
  },
  {
   "cell_type": "code",
   "execution_count": 3,
   "metadata": {},
   "outputs": [
    {
     "name": "stdout",
     "output_type": "stream",
     "text": [
      "{'selected': False, 'position': {'x': 16546.29659293159, 'y': 29466.993279476694}, 'data': {'selected': False, 'name': 'YNL259C', 'SUID': 425956, 'shared_name': 'YNL259C', 'id': '425956'}}\n",
      "{'selected': False, 'data': {'isTree': 'TREE', 'interaction': 'gene', 'shared_name': 'YNL259C (gene) GO:0016531', 'shared_interaction': 'gene', 'id': '425981', 'selected': False, 'source': '425956', 'target': '12823', 'name': 'YNL259C (gene) GO:0016531', 'SUID': 425981}}\n"
     ]
    }
   ],
   "source": [
    "print(original['elements']['nodes'][0])\n",
    "\n",
    "print(original['elements']['edges'][0])\n"
   ]
  },
  {
   "cell_type": "code",
   "execution_count": 4,
   "metadata": {},
   "outputs": [
    {
     "name": "stdout",
     "output_type": "stream",
     "text": [
      "['DB', 'DB_Object_ID', 'DB_Object_Symbol', 'Qualifier', 'GO_ID', 'DB:Reference', 'Evidence', 'With_or_From', 'Aspect', 'DB_Object_Name', 'DB_Object_Synonym', 'DB_Object_Type', 'taxon', 'Date', 'Assigned_by', 'Annotation_Extension', 'Gene_Product_Form_ID']\n"
     ]
    },
    {
     "data": {
      "text/html": [
       "<div>\n",
       "<style>\n",
       "    .dataframe thead tr:only-child th {\n",
       "        text-align: right;\n",
       "    }\n",
       "\n",
       "    .dataframe thead th {\n",
       "        text-align: left;\n",
       "    }\n",
       "\n",
       "    .dataframe tbody tr th {\n",
       "        vertical-align: top;\n",
       "    }\n",
       "</style>\n",
       "<table border=\"1\" class=\"dataframe\">\n",
       "  <thead>\n",
       "    <tr style=\"text-align: right;\">\n",
       "      <th></th>\n",
       "      <th>DB</th>\n",
       "      <th>DB_Object_ID</th>\n",
       "      <th>DB_Object_Symbol</th>\n",
       "      <th>Qualifier</th>\n",
       "      <th>GO_ID</th>\n",
       "      <th>DB:Reference</th>\n",
       "      <th>Evidence</th>\n",
       "      <th>With_or_From</th>\n",
       "      <th>Aspect</th>\n",
       "      <th>DB_Object_Name</th>\n",
       "      <th>DB_Object_Synonym</th>\n",
       "      <th>DB_Object_Type</th>\n",
       "      <th>taxon</th>\n",
       "      <th>Date</th>\n",
       "      <th>Assigned_by</th>\n",
       "      <th>Annotation_Extension</th>\n",
       "      <th>Gene_Product_Form_ID</th>\n",
       "    </tr>\n",
       "  </thead>\n",
       "  <tbody>\n",
       "    <tr>\n",
       "      <th>0</th>\n",
       "      <td>SGD</td>\n",
       "      <td>S000007287</td>\n",
       "      <td>15S_RRNA</td>\n",
       "      <td>NaN</td>\n",
       "      <td>GO:0005763</td>\n",
       "      <td>SGD_REF:S000073641|PMID:6262728</td>\n",
       "      <td>IDA</td>\n",
       "      <td>NaN</td>\n",
       "      <td>C</td>\n",
       "      <td>Ribosomal RNA of the small mitochondrial ribos...</td>\n",
       "      <td>Q0020|14s rRNA|15S_RRNA_2</td>\n",
       "      <td>gene</td>\n",
       "      <td>taxon:559292</td>\n",
       "      <td>20150612</td>\n",
       "      <td>SGD</td>\n",
       "      <td>NaN</td>\n",
       "      <td>NaN</td>\n",
       "    </tr>\n",
       "    <tr>\n",
       "      <th>1</th>\n",
       "      <td>SGD</td>\n",
       "      <td>S000007287</td>\n",
       "      <td>15S_RRNA</td>\n",
       "      <td>NaN</td>\n",
       "      <td>GO:0032543</td>\n",
       "      <td>SGD_REF:S000073641|PMID:6262728</td>\n",
       "      <td>IC</td>\n",
       "      <td>GO:0005763</td>\n",
       "      <td>P</td>\n",
       "      <td>Ribosomal RNA of the small mitochondrial ribos...</td>\n",
       "      <td>Q0020|14s rRNA|15S_RRNA_2</td>\n",
       "      <td>gene</td>\n",
       "      <td>taxon:559292</td>\n",
       "      <td>20150612</td>\n",
       "      <td>SGD</td>\n",
       "      <td>NaN</td>\n",
       "      <td>NaN</td>\n",
       "    </tr>\n",
       "    <tr>\n",
       "      <th>2</th>\n",
       "      <td>SGD</td>\n",
       "      <td>S000007287</td>\n",
       "      <td>15S_RRNA</td>\n",
       "      <td>NaN</td>\n",
       "      <td>GO:0003735</td>\n",
       "      <td>SGD_REF:S000073641|PMID:6262728</td>\n",
       "      <td>IC</td>\n",
       "      <td>GO:0005763</td>\n",
       "      <td>F</td>\n",
       "      <td>Ribosomal RNA of the small mitochondrial ribos...</td>\n",
       "      <td>Q0020|14s rRNA|15S_RRNA_2</td>\n",
       "      <td>gene</td>\n",
       "      <td>taxon:559292</td>\n",
       "      <td>20150612</td>\n",
       "      <td>SGD</td>\n",
       "      <td>NaN</td>\n",
       "      <td>NaN</td>\n",
       "    </tr>\n",
       "    <tr>\n",
       "      <th>3</th>\n",
       "      <td>SGD</td>\n",
       "      <td>S000007288</td>\n",
       "      <td>21S_RRNA</td>\n",
       "      <td>NaN</td>\n",
       "      <td>GO:0005762</td>\n",
       "      <td>SGD_REF:S000073372|PMID:6759872</td>\n",
       "      <td>IDA</td>\n",
       "      <td>NaN</td>\n",
       "      <td>C</td>\n",
       "      <td>Mitochondrial 21S rRNA</td>\n",
       "      <td>Q0158|21S_rRNA_3|21S_rRNA_4</td>\n",
       "      <td>gene</td>\n",
       "      <td>taxon:559292</td>\n",
       "      <td>20040202</td>\n",
       "      <td>SGD</td>\n",
       "      <td>NaN</td>\n",
       "      <td>NaN</td>\n",
       "    </tr>\n",
       "    <tr>\n",
       "      <th>4</th>\n",
       "      <td>SGD</td>\n",
       "      <td>S000007288</td>\n",
       "      <td>21S_RRNA</td>\n",
       "      <td>NaN</td>\n",
       "      <td>GO:0032543</td>\n",
       "      <td>SGD_REF:S000073372|PMID:6759872</td>\n",
       "      <td>IMP</td>\n",
       "      <td>NaN</td>\n",
       "      <td>P</td>\n",
       "      <td>Mitochondrial 21S rRNA</td>\n",
       "      <td>Q0158|21S_rRNA_3|21S_rRNA_4</td>\n",
       "      <td>gene</td>\n",
       "      <td>taxon:559292</td>\n",
       "      <td>20100715</td>\n",
       "      <td>SGD</td>\n",
       "      <td>NaN</td>\n",
       "      <td>NaN</td>\n",
       "    </tr>\n",
       "  </tbody>\n",
       "</table>\n",
       "</div>"
      ],
      "text/plain": [
       "    DB DB_Object_ID DB_Object_Symbol Qualifier       GO_ID  \\\n",
       "0  SGD   S000007287         15S_RRNA       NaN  GO:0005763   \n",
       "1  SGD   S000007287         15S_RRNA       NaN  GO:0032543   \n",
       "2  SGD   S000007287         15S_RRNA       NaN  GO:0003735   \n",
       "3  SGD   S000007288         21S_RRNA       NaN  GO:0005762   \n",
       "4  SGD   S000007288         21S_RRNA       NaN  GO:0032543   \n",
       "\n",
       "                      DB:Reference Evidence With_or_From Aspect  \\\n",
       "0  SGD_REF:S000073641|PMID:6262728      IDA          NaN      C   \n",
       "1  SGD_REF:S000073641|PMID:6262728       IC   GO:0005763      P   \n",
       "2  SGD_REF:S000073641|PMID:6262728       IC   GO:0005763      F   \n",
       "3  SGD_REF:S000073372|PMID:6759872      IDA          NaN      C   \n",
       "4  SGD_REF:S000073372|PMID:6759872      IMP          NaN      P   \n",
       "\n",
       "                                      DB_Object_Name  \\\n",
       "0  Ribosomal RNA of the small mitochondrial ribos...   \n",
       "1  Ribosomal RNA of the small mitochondrial ribos...   \n",
       "2  Ribosomal RNA of the small mitochondrial ribos...   \n",
       "3                             Mitochondrial 21S rRNA   \n",
       "4                             Mitochondrial 21S rRNA   \n",
       "\n",
       "             DB_Object_Synonym DB_Object_Type         taxon      Date  \\\n",
       "0    Q0020|14s rRNA|15S_RRNA_2           gene  taxon:559292  20150612   \n",
       "1    Q0020|14s rRNA|15S_RRNA_2           gene  taxon:559292  20150612   \n",
       "2    Q0020|14s rRNA|15S_RRNA_2           gene  taxon:559292  20150612   \n",
       "3  Q0158|21S_rRNA_3|21S_rRNA_4           gene  taxon:559292  20040202   \n",
       "4  Q0158|21S_rRNA_3|21S_rRNA_4           gene  taxon:559292  20100715   \n",
       "\n",
       "  Assigned_by Annotation_Extension  Gene_Product_Form_ID  \n",
       "0         SGD                  NaN                   NaN  \n",
       "1         SGD                  NaN                   NaN  \n",
       "2         SGD                  NaN                   NaN  \n",
       "3         SGD                  NaN                   NaN  \n",
       "4         SGD                  NaN                   NaN  "
      ]
     },
     "execution_count": 4,
     "metadata": {},
     "output_type": "execute_result"
    }
   ],
   "source": [
    "cols = pd.read_csv('./annotation_columns.txt', names=['col_names'])\n",
    "col_names = cols['col_names'].tolist()\n",
    "print(col_names)\n",
    "\n",
    "yeastAnnotation = pd.read_csv(yeastAnnotationUrl, delimiter='\\t', comment='!', compression='gzip', names=col_names)\n",
    "yeastAnnotation['DB_Object_Synonym'] = yeastAnnotation['DB_Object_Synonym'].fillna('')\n",
    "yeastAnnotation.head()"
   ]
  },
  {
   "cell_type": "code",
   "execution_count": 5,
   "metadata": {},
   "outputs": [
    {
     "data": {
      "text/html": [
       "<div>\n",
       "<style>\n",
       "    .dataframe thead tr:only-child th {\n",
       "        text-align: right;\n",
       "    }\n",
       "\n",
       "    .dataframe thead th {\n",
       "        text-align: left;\n",
       "    }\n",
       "\n",
       "    .dataframe tbody tr th {\n",
       "        vertical-align: top;\n",
       "    }\n",
       "</style>\n",
       "<table border=\"1\" class=\"dataframe\">\n",
       "  <thead>\n",
       "    <tr style=\"text-align: right;\">\n",
       "      <th></th>\n",
       "      <th>term_id</th>\n",
       "      <th>geneCount</th>\n",
       "    </tr>\n",
       "  </thead>\n",
       "  <tbody>\n",
       "    <tr>\n",
       "      <th>0</th>\n",
       "      <td>GO:0000001</td>\n",
       "      <td>27</td>\n",
       "    </tr>\n",
       "    <tr>\n",
       "      <th>1</th>\n",
       "      <td>GO:0000002</td>\n",
       "      <td>42</td>\n",
       "    </tr>\n",
       "    <tr>\n",
       "      <th>2</th>\n",
       "      <td>GO:0000003</td>\n",
       "      <td>448</td>\n",
       "    </tr>\n",
       "    <tr>\n",
       "      <th>3</th>\n",
       "      <td>GO:0000006</td>\n",
       "      <td>1</td>\n",
       "    </tr>\n",
       "    <tr>\n",
       "      <th>4</th>\n",
       "      <td>GO:0000007</td>\n",
       "      <td>1</td>\n",
       "    </tr>\n",
       "  </tbody>\n",
       "</table>\n",
       "</div>"
      ],
      "text/plain": [
       "      term_id  geneCount\n",
       "0  GO:0000001         27\n",
       "1  GO:0000002         42\n",
       "2  GO:0000003        448\n",
       "3  GO:0000006          1\n",
       "4  GO:0000007          1"
      ]
     },
     "execution_count": 5,
     "metadata": {},
     "output_type": "execute_result"
    }
   ],
   "source": [
    "## Load gene count\n",
    "df_term_size = pd.read_csv('./data/collapsed_go.no_IGI.propagated.term_sizes', delimiter='\\t', names=['term_id', 'geneCount'])\n",
    "df_term_size.head()"
   ]
  },
  {
   "cell_type": "code",
   "execution_count": 6,
   "metadata": {
    "collapsed": true
   },
   "outputs": [],
   "source": [
    "go_map = {}\n",
    "\n",
    "for row in df_term_size.itertuples():\n",
    "    go_map[row[1]] = int(row[2])"
   ]
  },
  {
   "cell_type": "code",
   "execution_count": 7,
   "metadata": {
    "collapsed": true
   },
   "outputs": [],
   "source": [
    "gene_map = {}\n",
    "\n",
    "for row in yeastAnnotation.itertuples():\n",
    "    gene_map[row[11].split('|')[0]] = row[3]\n"
   ]
  },
  {
   "cell_type": "code",
   "execution_count": 8,
   "metadata": {},
   "outputs": [
    {
     "name": "stdout",
     "output_type": "stream",
     "text": [
      "load obo file ./data/go.obo\n",
      "./data/go.obo: fmt(1.2) rel(2017-08-10) 49,042 GO Terms\n"
     ]
    }
   ],
   "source": [
    "obo = obo_parser.GODag(oboUrl)"
   ]
  },
  {
   "cell_type": "code",
   "execution_count": 9,
   "metadata": {},
   "outputs": [
    {
     "name": "stdout",
     "output_type": "stream",
     "text": [
      "{'position': {'x': 269394.57763320964, 'y': 304962.6855812461}, 'data': {'namespace': 'cellular_component', 'type': 't', 'name': 'transferase complex, transferring phosphorus-containing groups', 'geneCount': 167, 'id': 'GO:0061695'}}\n",
      "{'position': {'x': 165658.29047559967, 'y': 152957.96378916368}, 'data': {'type': 'g', 'name': 'LSM1', 'id': 'YJL124C'}}\n"
     ]
    }
   ],
   "source": [
    "full_go_w_genes = {}\n",
    "new_nodes = []\n",
    "new_edges = []\n",
    "\n",
    "for node in original['elements']['nodes']:\n",
    "    \n",
    "    data = node['data']\n",
    "    new_node = {\n",
    "        'data': {\n",
    "            'id': data['name']\n",
    "        },\n",
    "        'position': {}\n",
    "    }\n",
    "    \n",
    "    data = node['data']\n",
    "    \n",
    "    if (node['data']['name'].startswith('GO'))  and (data['name'] in obo.keys()):\n",
    "        # This is GO\n",
    "        new_node['data']['geneCount'] = go_map[data['name']]\n",
    "        go = obo[data['name']]\n",
    "        new_node['data']['name'] = go.name\n",
    "        new_node['data']['namespace'] = go.namespace\n",
    "        new_node['data']['type'] = 't'\n",
    "    elif data['name'] == 'GO:00SUPER':\n",
    "        # Root node\n",
    "        new_node['data']['name'] = 'Root'\n",
    "        new_node['data']['type'] = 'r'\n",
    "        \n",
    "    elif not node['data']['name'].startswith('GO'):\n",
    "                \n",
    "        if data['name'] in gene_map.keys():\n",
    "            new_node['data']['name'] = gene_map[data['name']]\n",
    "        else:\n",
    "            new_node['data']['name'] = data['name']\n",
    "        \n",
    "        new_node['data']['type'] = 'g' \n",
    "\n",
    "    \n",
    "    original_pos = node['position']\n",
    "    \n",
    "    new_node['position']['x'] = original_pos['x']*8\n",
    "    new_node['position']['y'] = original_pos['y']*8 \n",
    "\n",
    "    \n",
    "    new_nodes.append(new_node)\n",
    "\n",
    "print(new_nodes[9000])\n",
    "print(new_nodes[9])\n"
   ]
  },
  {
   "cell_type": "code",
   "execution_count": 10,
   "metadata": {},
   "outputs": [
    {
     "data": {
      "text/html": [
       "<div>\n",
       "<style>\n",
       "    .dataframe thead tr:only-child th {\n",
       "        text-align: right;\n",
       "    }\n",
       "\n",
       "    .dataframe thead th {\n",
       "        text-align: left;\n",
       "    }\n",
       "\n",
       "    .dataframe tbody tr th {\n",
       "        vertical-align: top;\n",
       "    }\n",
       "</style>\n",
       "<table border=\"1\" class=\"dataframe\">\n",
       "  <thead>\n",
       "    <tr style=\"text-align: right;\">\n",
       "      <th></th>\n",
       "      <th>parent</th>\n",
       "      <th>child</th>\n",
       "      <th>type</th>\n",
       "      <th>in_tree</th>\n",
       "    </tr>\n",
       "  </thead>\n",
       "  <tbody>\n",
       "    <tr>\n",
       "      <th>441927</th>\n",
       "      <td>GO:0090150</td>\n",
       "      <td>YHR083W</td>\n",
       "      <td>gene</td>\n",
       "      <td>NOT_TREE</td>\n",
       "    </tr>\n",
       "    <tr>\n",
       "      <th>441928</th>\n",
       "      <td>GO:0005575</td>\n",
       "      <td>YHR083W</td>\n",
       "      <td>gene</td>\n",
       "      <td>NOT_TREE</td>\n",
       "    </tr>\n",
       "    <tr>\n",
       "      <th>441929</th>\n",
       "      <td>GO:0098796</td>\n",
       "      <td>YHR083W</td>\n",
       "      <td>gene</td>\n",
       "      <td>NOT_TREE</td>\n",
       "    </tr>\n",
       "    <tr>\n",
       "      <th>441930</th>\n",
       "      <td>GO:1902589</td>\n",
       "      <td>YHR083W</td>\n",
       "      <td>gene</td>\n",
       "      <td>NOT_TREE</td>\n",
       "    </tr>\n",
       "    <tr>\n",
       "      <th>441931</th>\n",
       "      <td>GO:0044085</td>\n",
       "      <td>YHR083W</td>\n",
       "      <td>gene</td>\n",
       "      <td>NOT_TREE</td>\n",
       "    </tr>\n",
       "    <tr>\n",
       "      <th>441932</th>\n",
       "      <td>GO:0015031</td>\n",
       "      <td>YHR083W</td>\n",
       "      <td>gene</td>\n",
       "      <td>NOT_TREE</td>\n",
       "    </tr>\n",
       "    <tr>\n",
       "      <th>441933</th>\n",
       "      <td>GO:1902582</td>\n",
       "      <td>YHR083W</td>\n",
       "      <td>gene</td>\n",
       "      <td>NOT_TREE</td>\n",
       "    </tr>\n",
       "    <tr>\n",
       "      <th>441934</th>\n",
       "      <td>GO:1902580</td>\n",
       "      <td>YHR083W</td>\n",
       "      <td>gene</td>\n",
       "      <td>NOT_TREE</td>\n",
       "    </tr>\n",
       "    <tr>\n",
       "      <th>441935</th>\n",
       "      <td>GO:0098799</td>\n",
       "      <td>YHR083W</td>\n",
       "      <td>gene</td>\n",
       "      <td>NOT_TREE</td>\n",
       "    </tr>\n",
       "    <tr>\n",
       "      <th>441936</th>\n",
       "      <td>GO:0098798</td>\n",
       "      <td>YHR083W</td>\n",
       "      <td>gene</td>\n",
       "      <td>NOT_TREE</td>\n",
       "    </tr>\n",
       "  </tbody>\n",
       "</table>\n",
       "</div>"
      ],
      "text/plain": [
       "            parent    child  type   in_tree\n",
       "441927  GO:0090150  YHR083W  gene  NOT_TREE\n",
       "441928  GO:0005575  YHR083W  gene  NOT_TREE\n",
       "441929  GO:0098796  YHR083W  gene  NOT_TREE\n",
       "441930  GO:1902589  YHR083W  gene  NOT_TREE\n",
       "441931  GO:0044085  YHR083W  gene  NOT_TREE\n",
       "441932  GO:0015031  YHR083W  gene  NOT_TREE\n",
       "441933  GO:1902582  YHR083W  gene  NOT_TREE\n",
       "441934  GO:1902580  YHR083W  gene  NOT_TREE\n",
       "441935  GO:0098799  YHR083W  gene  NOT_TREE\n",
       "441936  GO:0098798  YHR083W  gene  NOT_TREE"
      ]
     },
     "execution_count": 10,
     "metadata": {},
     "output_type": "execute_result"
    }
   ],
   "source": [
    "treeColNames = ['parent', 'child', 'type', 'in_tree']\n",
    "tree = pd.read_csv(treeSourceUrl, delimiter='\\t', names=treeColNames)\n",
    "tree.tail(10)"
   ]
  },
  {
   "cell_type": "code",
   "execution_count": 11,
   "metadata": {},
   "outputs": [
    {
     "name": "stdout",
     "output_type": "stream",
     "text": [
      "['is_a' 'regulates' 'part_of' 'negatively_regulates' 'positively_regulates'\n",
      " 'gene']\n"
     ]
    }
   ],
   "source": [
    "for row in tree.itertuples():\n",
    "    \n",
    "    if row[4] == 'NOT_TREE':\n",
    "        continue\n",
    "    \n",
    "    t = row[1]\n",
    "    s = row[2]\n",
    "    \n",
    "    edge = {\n",
    "        'data': {\n",
    "            'source': s,\n",
    "            'target': t,\n",
    "            'type': row[3]\n",
    "        }\n",
    "    }\n",
    "    new_edges.append(edge)\n",
    "    \n",
    "print(tree['type'].unique())"
   ]
  },
  {
   "cell_type": "code",
   "execution_count": 14,
   "metadata": {},
   "outputs": [
    {
     "data": {
      "text/plain": [
       "14528"
      ]
     },
     "execution_count": 14,
     "metadata": {},
     "output_type": "execute_result"
    }
   ],
   "source": [
    "# Add path info\n",
    "\n",
    "import networkx as nx\n",
    "\n",
    "G=nx.DiGraph()\n",
    "\n",
    "node_set = set()\n",
    "edges = []\n",
    "\n",
    "for row in tree.itertuples():\n",
    "    node_set.add(row[1])\n",
    "    node_set.add(row[2])\n",
    "    if \"GO:\" in row[1] and \"GO:\" in row[2]:\n",
    "        edges.append((row[2], row[1]))\n",
    "        \n",
    "for node in node_set:\n",
    "     if \"GO:\" in node:\n",
    "        G.add_node(node)\n",
    "    \n",
    "len(edges)"
   ]
  },
  {
   "cell_type": "code",
   "execution_count": 15,
   "metadata": {
    "collapsed": true
   },
   "outputs": [],
   "source": [
    "for e in edges:\n",
    "    G.add_edge(e[0], e[1])"
   ]
  },
  {
   "cell_type": "code",
   "execution_count": 16,
   "metadata": {
    "collapsed": true
   },
   "outputs": [],
   "source": [
    "p=nx.shortest_path_length(G)"
   ]
  },
  {
   "cell_type": "code",
   "execution_count": 21,
   "metadata": {},
   "outputs": [
    {
     "data": {
      "text/plain": [
       "5"
      ]
     },
     "execution_count": 21,
     "metadata": {},
     "output_type": "execute_result"
    }
   ],
   "source": [
    "p['GO:0048308']['GO:00SUPER']"
   ]
  },
  {
   "cell_type": "code",
   "execution_count": 23,
   "metadata": {},
   "outputs": [],
   "source": [
    "for node in new_nodes:\n",
    "    source = node['data']['id']\n",
    "    if source in p:\n",
    "        path_len = p[node['data']['id']]['GO:00SUPER']\n",
    "        node['data']['pLen'] = path_len"
   ]
  },
  {
   "cell_type": "code",
   "execution_count": 24,
   "metadata": {},
   "outputs": [
    {
     "data": {
      "text/plain": [
       "{'data': {'geneCount': 167,\n",
       "  'id': 'GO:0061695',\n",
       "  'name': 'transferase complex, transferring phosphorus-containing groups',\n",
       "  'namespace': 'cellular_component',\n",
       "  'pLen': 5,\n",
       "  'type': 't'},\n",
       " 'position': {'x': 269394.57763320964, 'y': 304962.6855812461}}"
      ]
     },
     "execution_count": 24,
     "metadata": {},
     "output_type": "execute_result"
    }
   ],
   "source": [
    "new_nodes[9000]"
   ]
  },
  {
   "cell_type": "code",
   "execution_count": 25,
   "metadata": {
    "collapsed": true
   },
   "outputs": [],
   "source": [
    "final_go_tree = {\n",
    "    'data': original['data'],\n",
    "    'elements': {\n",
    "        'nodes': new_nodes,\n",
    "        'edges': new_edges\n",
    "    }\n",
    "}\n",
    "\n",
    "with open('./data/tree-go-genes.json', 'w') as outfile:\n",
    "    json.dump(final_go_tree, outfile)"
   ]
  }
 ],
 "metadata": {
  "anaconda-cloud": {},
  "kernelspec": {
   "display_name": "Python [conda root]",
   "language": "python",
   "name": "conda-root-py"
  },
  "language_info": {
   "codemirror_mode": {
    "name": "ipython",
    "version": 3
   },
   "file_extension": ".py",
   "mimetype": "text/x-python",
   "name": "python",
   "nbconvert_exporter": "python",
   "pygments_lexer": "ipython3",
   "version": "3.5.3"
  }
 },
 "nbformat": 4,
 "nbformat_minor": 1
}
