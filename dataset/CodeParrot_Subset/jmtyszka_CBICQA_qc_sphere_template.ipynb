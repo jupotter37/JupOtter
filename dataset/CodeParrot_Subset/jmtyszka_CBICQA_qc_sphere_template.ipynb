{
 "cells": [
  {
   "cell_type": "markdown",
   "metadata": {},
   "source": [
    "## Create sphere image template for CBICQC\n",
    "Mike Tyszka\n",
    "2019-06-25 JMT From scratch"
   ]
  },
  {
   "cell_type": "code",
   "execution_count": 32,
   "metadata": {},
   "outputs": [],
   "source": [
    "%matplotlib inline\n",
    "\n",
    "import numpy as np\n",
    "from scipy.ndimage.filters import gaussian_filter\n",
    "import nibabel as nb\n",
    "import matplotlib.pyplot as plt"
   ]
  },
  {
   "cell_type": "code",
   "execution_count": 40,
   "metadata": {},
   "outputs": [],
   "source": [
    "# Phantom and image dimensions\n",
    "r_phantom = 82.5\n",
    "FOV = 192\n",
    "n = 64\n",
    "vox = FOV / float(n)\n",
    "\n",
    "# Setup coordinate system\n",
    "xv = (np.arange(0, n) - 0.5 * n) * vox\n",
    "xm, ym, zm = np.meshgrid(xv, xv, xv)\n",
    "r = np.sqrt(xm**2 + ym**2 + zm**2)\n",
    "\n",
    "# Create binary image\n",
    "img = np.zeros([n, n, n])\n",
    "img[r < r_phantom] = 1000.0"
   ]
  },
  {
   "cell_type": "code",
   "execution_count": 42,
   "metadata": {},
   "outputs": [
    {
     "data": {
      "text/plain": [
       "1000.0000000000003"
      ]
     },
     "execution_count": 42,
     "metadata": {},
     "output_type": "execute_result"
    }
   ],
   "source": [
    "# Gaussian blur (sigma = 1)\n",
    "img_g = gaussian_filter(img, sigma=1.0)"
   ]
  },
  {
   "cell_type": "code",
   "execution_count": 43,
   "metadata": {},
   "outputs": [
    {
     "data": {
      "image/png": "[encoded data removed]",
      "text/plain": [
       "<Figure size 1152x1152 with 2 Axes>"
      ]
     },
     "metadata": {
      "needs_background": "light"
     },
     "output_type": "display_data"
    }
   ],
   "source": [
    "plt.subplots(1, 2, figsize=(16, 16))\n",
    "plt.subplot(1, 2, 1)\n",
    "plt.imshow(img[:, :, 32])\n",
    "plt.subplot(1, 2, 2)\n",
    "plt.imshow(img_g[:, :, 32])\n",
    "\n",
    "plt.show()"
   ]
  },
  {
   "cell_type": "code",
   "execution_count": 46,
   "metadata": {},
   "outputs": [],
   "source": [
    "affine = np.diag([vox, vox, vox, 1])\n",
    "nii = nb.Nifti1Image(np.uint16(img_g), affine)\n",
    "nii.to_filename('QCSphere.nii.gz')"
   ]
  }
 ],
 "metadata": {
  "kernelspec": {
   "display_name": "Python 3",
   "language": "python",
   "name": "python3"
  },
  "language_info": {
   "codemirror_mode": {
    "name": "ipython",
    "version": 3
   },
   "file_extension": ".py",
   "mimetype": "text/x-python",
   "name": "python",
   "nbconvert_exporter": "python",
   "pygments_lexer": "ipython3",
   "version": "3.7.0"
  }
 },
 "nbformat": 4,
 "nbformat_minor": 2
}
