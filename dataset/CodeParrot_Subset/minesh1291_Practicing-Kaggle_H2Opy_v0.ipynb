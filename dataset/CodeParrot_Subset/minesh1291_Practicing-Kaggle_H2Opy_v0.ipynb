{
 "cells": [
  {
   "cell_type": "markdown",
   "metadata": {
    "toc": "true"
   },
   "source": [
    "# Table of Contents\n",
    " <p><div class=\"lev1 toc-item\"><a href=\"#import-Packages\" data-toc-modified-id=\"import-Packages-1\"><span class=\"toc-item-num\">1&nbsp;&nbsp;</span>import Packages</a></div><div class=\"lev2 toc-item\"><a href=\"#H2O-init\" data-toc-modified-id=\"H2O-init-11\"><span class=\"toc-item-num\">1.1&nbsp;&nbsp;</span>H2O init</a></div><div class=\"lev2 toc-item\"><a href=\"#import-xy_train,-x_test\" data-toc-modified-id=\"import-xy_train,-x_test-12\"><span class=\"toc-item-num\">1.2&nbsp;&nbsp;</span>import xy_train, x_test</a></div><div class=\"lev2 toc-item\"><a href=\"#27-AUG-2017-dl_model\" data-toc-modified-id=\"27-AUG-2017-dl_model-13\"><span class=\"toc-item-num\">1.3&nbsp;&nbsp;</span>27-AUG-2017 dl_model</a></div><div class=\"lev3 toc-item\"><a href=\"#Model-Details\" data-toc-modified-id=\"Model-Details-131\"><span class=\"toc-item-num\">1.3.1&nbsp;&nbsp;</span>Model Details</a></div><div class=\"lev2 toc-item\"><a href=\"#28-AUG-2017-dl_model_list-1\" data-toc-modified-id=\"28-AUG-2017-dl_model_list-1-14\"><span class=\"toc-item-num\">1.4&nbsp;&nbsp;</span>28-AUG-2017 dl_model_list 1</a></div><div class=\"lev3 toc-item\"><a href=\"#split-the-data-3-ways:\" data-toc-modified-id=\"split-the-data-3-ways:-141\"><span class=\"toc-item-num\">1.4.1&nbsp;&nbsp;</span>split the data 3 ways:</a></div><div class=\"lev3 toc-item\"><a href=\"#desicion\" data-toc-modified-id=\"desicion-142\"><span class=\"toc-item-num\">1.4.2&nbsp;&nbsp;</span>desicion</a></div><div class=\"lev2 toc-item\"><a href=\"#28-AUG-2017-dl_model_list-2\" data-toc-modified-id=\"28-AUG-2017-dl_model_list-2-15\"><span class=\"toc-item-num\">1.5&nbsp;&nbsp;</span>28-AUG-2017 dl_model_list 2</a></div><div class=\"lev2 toc-item\"><a href=\"#28-AUG-2017-dl_model_list-3\" data-toc-modified-id=\"28-AUG-2017-dl_model_list-3-16\"><span class=\"toc-item-num\">1.6&nbsp;&nbsp;</span>28-AUG-2017 dl_model_list 3</a></div><div class=\"lev3 toc-item\"><a href=\"#30,40-nurons,-4,5-layers\" data-toc-modified-id=\"30,40-nurons,-4,5-layers-161\"><span class=\"toc-item-num\">1.6.1&nbsp;&nbsp;</span>30,40 nurons, 4,5 layers</a></div><div class=\"lev3 toc-item\"><a href=\"#tests\" data-toc-modified-id=\"tests-162\"><span class=\"toc-item-num\">1.6.2&nbsp;&nbsp;</span>tests</a></div><div class=\"lev2 toc-item\"><a href=\"#Predict-test_h2o-&amp;-combine\" data-toc-modified-id=\"Predict-test_h2o-&amp;-combine-17\"><span class=\"toc-item-num\">1.7&nbsp;&nbsp;</span>Predict test_h2o &amp; combine</a></div><div class=\"lev2 toc-item\"><a href=\"#Predict-x_test-&amp;-combine\" data-toc-modified-id=\"Predict-x_test-&amp;-combine-18\"><span class=\"toc-item-num\">1.8&nbsp;&nbsp;</span>Predict x_test &amp; combine</a></div>"
   ]
  },
  {
   "cell_type": "markdown",
   "metadata": {},
   "source": [
    "# import Packages"
   ]
  },
  {
   "cell_type": "code",
   "execution_count": 1,
   "metadata": {
    "ExecuteTime": {
     "end_time": "2017-08-27T13:47:42.434154Z",
     "start_time": "2017-08-27T13:47:36.719466Z"
    }
   },
   "outputs": [],
   "source": [
    "import h2o\n",
    "import time,os"
   ]
  },
  {
   "cell_type": "code",
   "execution_count": 5,
   "metadata": {
    "ExecuteTime": {
     "end_time": "2017-08-27T17:22:44.951141Z",
     "start_time": "2017-08-27T17:22:23.849984Z"
    }
   },
   "outputs": [],
   "source": [
    "%matplotlib inline                         \n",
    "#IMPORT ALL THE THINGS\n",
    "\n",
    "import matplotlib.pyplot as plt\n",
    "import numpy as np\n",
    "import pandas as pd\n",
    "\n",
    "from h2o.estimators.deeplearning import H2OAutoEncoderEstimator, H2ODeepLearningEstimator\n",
    "from h2o.estimators.gbm import H2OGradientBoostingEstimator\n",
    "from h2o.estimators.glm import H2OGeneralizedLinearEstimator\n",
    "from h2o.estimators.random_forest import H2ORandomForestEstimator"
   ]
  },
  {
   "cell_type": "markdown",
   "metadata": {
    "ExecuteTime": {
     "end_time": "2017-08-28T18:13:05.032464Z",
     "start_time": "2017-08-28T18:13:05.029381Z"
    }
   },
   "source": [
    "## H2O init"
   ]
  },
  {
   "cell_type": "code",
   "execution_count": 3,
   "metadata": {
    "ExecuteTime": {
     "end_time": "2017-08-27T13:56:31.268045Z",
     "start_time": "2017-08-27T13:56:30.673475Z"
    }
   },
   "outputs": [
    {
     "name": "stdout",
     "output_type": "stream",
     "text": [
      "Checking whether there is an H2O instance running at http://localhost:54321. connected.\n"
     ]
    },
    {
     "data": {
      "text/html": [
       "<div style=\"overflow:auto\"><table style=\"width:50%\"><tr><td>H2O cluster uptime:</td>\n",
       "<td>7 mins 36 secs</td></tr>\n",
       "<tr><td>H2O cluster version:</td>\n",
       "<td>3.10.4.8</td></tr>\n",
       "<tr><td>H2O cluster version age:</td>\n",
       "<td>3 months and 6 days </td></tr>\n",
       "<tr><td>H2O cluster name:</td>\n",
       "<td>H2O_from_python_jethva_kxzc79</td></tr>\n",
       "<tr><td>H2O cluster total nodes:</td>\n",
       "<td>1</td></tr>\n",
       "<tr><td>H2O cluster free memory:</td>\n",
       "<td>16.87 Gb</td></tr>\n",
       "<tr><td>H2O cluster total cores:</td>\n",
       "<td>24</td></tr>\n",
       "<tr><td>H2O cluster allowed cores:</td>\n",
       "<td>24</td></tr>\n",
       "<tr><td>H2O cluster status:</td>\n",
       "<td>accepting new members, healthy</td></tr>\n",
       "<tr><td>H2O connection url:</td>\n",
       "<td>http://localhost:54321</td></tr>\n",
       "<tr><td>H2O connection proxy:</td>\n",
       "<td>None</td></tr>\n",
       "<tr><td>H2O internal security:</td>\n",
       "<td>False</td></tr>\n",
       "<tr><td>Python version:</td>\n",
       "<td>3.6.0 final</td></tr></table></div>"
      ],
      "text/plain": [
       "--------------------------  ------------------------------\n",
       "H2O cluster uptime:         7 mins 36 secs\n",
       "H2O cluster version:        3.10.4.8\n",
       "H2O cluster version age:    3 months and 6 days\n",
       "H2O cluster name:           H2O_from_python_jethva_kxzc79\n",
       "H2O cluster total nodes:    1\n",
       "H2O cluster free memory:    16.87 Gb\n",
       "H2O cluster total cores:    24\n",
       "H2O cluster allowed cores:  24\n",
       "H2O cluster status:         accepting new members, healthy\n",
       "H2O connection url:         http://localhost:54321\n",
       "H2O connection proxy:\n",
       "H2O internal security:      False\n",
       "Python version:             3.6.0 final\n",
       "--------------------------  ------------------------------"
      ]
     },
     "metadata": {},
     "output_type": "display_data"
    }
   ],
   "source": [
    "h2o.init(max_mem_size = 20)            #uses all cores by default\n",
    "h2o.remove_all()"
   ]
  },
  {
   "cell_type": "markdown",
   "metadata": {
    "ExecuteTime": {
     "end_time": "2017-08-28T18:14:43.400150Z",
     "start_time": "2017-08-28T18:14:43.397239Z"
    }
   },
   "source": [
    "## import xy_train, x_test"
   ]
  },
  {
   "cell_type": "code",
   "execution_count": 6,
   "metadata": {
    "ExecuteTime": {
     "end_time": "2017-08-27T17:26:56.612758Z",
     "start_time": "2017-08-27T17:26:36.709062Z"
    }
   },
   "outputs": [
    {
     "name": "stdout",
     "output_type": "stream",
     "text": [
      "Parse progress: |█████████████████████████████████████████████████████████| 100%\n",
      "Parse progress: |█████████████████████████████████████████████████████████| 100%\n"
     ]
    }
   ],
   "source": [
    "xy_tr = h2o.import_file(path = os.path.realpath(\"../daielee/xy_tr.csv\"))\n",
    "x_test  = h2o.import_file(path = os.path.realpath(\"../daielee/x_test.csv\"))"
   ]
  },
  {
   "cell_type": "code",
   "execution_count": 7,
   "metadata": {
    "ExecuteTime": {
     "end_time": "2017-08-27T17:30:29.958224Z",
     "start_time": "2017-08-27T17:28:40.322699Z"
    }
   },
   "outputs": [],
   "source": [
    "xy_tr_df = xy_tr.as_data_frame(use_pandas=True)\n",
    "x_test_df = x_test.as_data_frame(use_pandas=True)"
   ]
  },
  {
   "cell_type": "code",
   "execution_count": 8,
   "metadata": {
    "ExecuteTime": {
     "end_time": "2017-08-27T17:33:16.499247Z",
     "start_time": "2017-08-27T17:33:16.492251Z"
    }
   },
   "outputs": [
    {
     "name": "stdout",
     "output_type": "stream",
     "text": [
      "(90275, 58) (2985217, 57)\n"
     ]
    }
   ],
   "source": [
    "print (xy_tr_df.shape,x_test_df.shapepe)"
   ]
  },
  {
   "cell_type": "markdown",
   "metadata": {},
   "source": [
    "## 27-AUG-2017 dl_model\n",
    "\n",
    "### Model Details\n",
    "\n",
    "\n",
    "* dl_model = H2ODeepLearningEstimator(epochs=1000)\n",
    "* dl_model.train(X, y, xy_tr)\n",
    "\n",
    "=============\n",
    "* H2ODeepLearningEstimator :  Deep Learning\n",
    "* Model Key:  DeepLearning_model_python_1503841734286_1\n",
    "\n",
    "\n",
    "* ModelMetricsRegression: deeplearning\n",
    "* ** Reported on train data. **\n",
    "\n",
    "* MSE: 0.02257823450695032\n",
    "* RMSE: 0.15026055539279204\n",
    "* MAE: 0.06853673758752012\n",
    "* RMSLE: NaN\n",
    "* Mean Residual Deviance: 0.02257823450695032"
   ]
  },
  {
   "cell_type": "code",
   "execution_count": 10,
   "metadata": {
    "ExecuteTime": {
     "end_time": "2017-08-27T17:46:01.328912Z",
     "start_time": "2017-08-27T17:36:07.648878Z"
    }
   },
   "outputs": [
    {
     "name": "stdout",
     "output_type": "stream",
     "text": [
      "deeplearning Model Build progress: |██████████████████████████████████████| 100%\n"
     ]
    }
   ],
   "source": [
    "X = xy_tr.col_names[0:57]\n",
    "y = xy_tr.col_names[57]\n",
    "dl_model = H2ODeepLearningEstimator(epochs=1000)\n",
    "dl_model.train(X, y, xy_tr)"
   ]
  },
  {
   "cell_type": "code",
   "execution_count": 11,
   "metadata": {
    "ExecuteTime": {
     "end_time": "2017-08-27T17:49:10.923502Z",
     "start_time": "2017-08-27T17:49:10.702469Z"
    }
   },
   "outputs": [
    {
     "name": "stdout",
     "output_type": "stream",
     "text": [
      "Model Details\n",
      "=============\n",
      "H2ODeepLearningEstimator :  Deep Learning\n",
      "Model Key:  DeepLearning_model_python_1503841734286_1\n",
      "\n",
      "\n",
      "ModelMetricsRegression: deeplearning\n",
      "** Reported on train data. **\n",
      "\n",
      "MSE: 0.02257823450695032\n",
      "RMSE: 0.15026055539279204\n",
      "MAE: 0.06853673758752012\n",
      "RMSLE: NaN\n",
      "Mean Residual Deviance: 0.02257823450695032\n",
      "Scoring History: \n"
     ]
    },
    {
     "data": {
      "text/html": [
       "<div style=\"overflow:auto\"><table style=\"width:50%\"><tr><td><b></b></td>\n",
       "<td><b>timestamp</b></td>\n",
       "<td><b>duration</b></td>\n",
       "<td><b>training_speed</b></td>\n",
       "<td><b>epochs</b></td>\n",
       "<td><b>iterations</b></td>\n",
       "<td><b>samples</b></td>\n",
       "<td><b>training_rmse</b></td>\n",
       "<td><b>training_deviance</b></td>\n",
       "<td><b>training_mae</b></td></tr>\n",
       "<tr><td></td>\n",
       "<td>2017-08-27 20:36:08</td>\n",
       "<td> 0.000 sec</td>\n",
       "<td>None</td>\n",
       "<td>0.0</td>\n",
       "<td>0</td>\n",
       "<td>0.0</td>\n",
       "<td>nan</td>\n",
       "<td>nan</td>\n",
       "<td>nan</td></tr>\n",
       "<tr><td></td>\n",
       "<td>2017-08-27 20:36:14</td>\n",
       "<td> 6.673 sec</td>\n",
       "<td>17585 obs/sec</td>\n",
       "<td>1.1068513</td>\n",
       "<td>1</td>\n",
       "<td>99921.0</td>\n",
       "<td>0.1707692</td>\n",
       "<td>0.0291621</td>\n",
       "<td>0.0716218</td></tr>\n",
       "<tr><td></td>\n",
       "<td>2017-08-27 20:36:21</td>\n",
       "<td>13.935 sec</td>\n",
       "<td>23280 obs/sec</td>\n",
       "<td>3.3204985</td>\n",
       "<td>3</td>\n",
       "<td>299758.0</td>\n",
       "<td>0.1693846</td>\n",
       "<td>0.0286912</td>\n",
       "<td>0.0699298</td></tr>\n",
       "<tr><td></td>\n",
       "<td>2017-08-27 20:36:28</td>\n",
       "<td>20.592 sec</td>\n",
       "<td>25684 obs/sec</td>\n",
       "<td>5.5341567</td>\n",
       "<td>5</td>\n",
       "<td>499596.0</td>\n",
       "<td>0.1688644</td>\n",
       "<td>0.0285152</td>\n",
       "<td>0.0703825</td></tr>\n",
       "<tr><td></td>\n",
       "<td>2017-08-27 20:36:34</td>\n",
       "<td>26.864 sec</td>\n",
       "<td>27280 obs/sec</td>\n",
       "<td>7.7537413</td>\n",
       "<td>7</td>\n",
       "<td>699969.0</td>\n",
       "<td>0.1689997</td>\n",
       "<td>0.0285609</td>\n",
       "<td>0.0703055</td></tr>\n",
       "<tr><td>---</td>\n",
       "<td>---</td>\n",
       "<td>---</td>\n",
       "<td>---</td>\n",
       "<td>---</td>\n",
       "<td>---</td>\n",
       "<td>---</td>\n",
       "<td>---</td>\n",
       "<td>---</td>\n",
       "<td>---</td></tr>\n",
       "<tr><td></td>\n",
       "<td>2017-08-27 20:45:43</td>\n",
       "<td> 9 min 35.269 sec</td>\n",
       "<td>38494 obs/sec</td>\n",
       "<td>241.5156134</td>\n",
       "<td>218</td>\n",
       "<td>21802822.0000000</td>\n",
       "<td>0.1532783</td>\n",
       "<td>0.0234942</td>\n",
       "<td>0.0712851</td></tr>\n",
       "<tr><td></td>\n",
       "<td>2017-08-27 20:45:50</td>\n",
       "<td> 9 min 42.698 sec</td>\n",
       "<td>38522 obs/sec</td>\n",
       "<td>244.8331986</td>\n",
       "<td>221</td>\n",
       "<td>22102317.0000000</td>\n",
       "<td>0.1509789</td>\n",
       "<td>0.0227946</td>\n",
       "<td>0.0695887</td></tr>\n",
       "<tr><td></td>\n",
       "<td>2017-08-27 20:45:55</td>\n",
       "<td> 9 min 47.743 sec</td>\n",
       "<td>38536 obs/sec</td>\n",
       "<td>247.0484520</td>\n",
       "<td>223</td>\n",
       "<td>22302299.0000000</td>\n",
       "<td>0.1519738</td>\n",
       "<td>0.0230960</td>\n",
       "<td>0.0705504</td></tr>\n",
       "<tr><td></td>\n",
       "<td>2017-08-27 20:46:00</td>\n",
       "<td> 9 min 52.873 sec</td>\n",
       "<td>38544 obs/sec</td>\n",
       "<td>249.2637164</td>\n",
       "<td>225</td>\n",
       "<td>22502282.0000000</td>\n",
       "<td>0.1520505</td>\n",
       "<td>0.0231193</td>\n",
       "<td>0.0696316</td></tr>\n",
       "<tr><td></td>\n",
       "<td>2017-08-27 20:46:00</td>\n",
       "<td> 9 min 52.946 sec</td>\n",
       "<td>38544 obs/sec</td>\n",
       "<td>249.2637164</td>\n",
       "<td>225</td>\n",
       "<td>22502282.0000000</td>\n",
       "<td>0.1502606</td>\n",
       "<td>0.0225782</td>\n",
       "<td>0.0685367</td></tr></table></div>"
      ],
      "text/plain": [
       "     timestamp            duration          training_speed    epochs              iterations    samples     training_rmse        training_deviance     training_mae\n",
       "---  -------------------  ----------------  ----------------  ------------------  ------------  ----------  -------------------  --------------------  -------------------\n",
       "     2017-08-27 20:36:08  0.000 sec                           0.0                 0             0.0         nan                  nan                   nan\n",
       "     2017-08-27 20:36:14  6.673 sec         17585 obs/sec     1.1068512877319303  1             99921.0     0.17076920858358277  0.029162122600263195  0.07162183855539377\n",
       "     2017-08-27 20:36:21  13.935 sec        23280 obs/sec     3.3204984768762116  3             299758.0    0.1693846245107908   0.0286911510206616    0.06992976320405175\n",
       "     2017-08-27 20:36:28  20.592 sec        25684 obs/sec     5.5341567432844085  5             499596.0    0.16886436170309205  0.028515172653392703  0.070382519744771\n",
       "     2017-08-27 20:36:34  26.864 sec        27280 obs/sec     7.7537413458875655  7             699969.0    0.16899974231011713  0.028560912900885995  0.07030550736729402\n",
       "---  ---                  ---               ---               ---                 ---           ---         ---                  ---                   ---\n",
       "     2017-08-27 20:45:43  9 min 35.269 sec  38494 obs/sec     241.51561340348934  218           21802822.0  0.15327830179018073  0.02349423779968172   0.071285078942824\n",
       "     2017-08-27 20:45:50  9 min 42.698 sec  38522 obs/sec     244.8331985599557   221           22102317.0  0.1509788785278096   0.022794621761515088  0.06958869826467107\n",
       "     2017-08-27 20:45:55  9 min 47.743 sec  38536 obs/sec     247.04845195236777  223           22302299.0  0.1519738190253394   0.023096041669146614  0.07055043550007233\n",
       "     2017-08-27 20:46:00  9 min 52.873 sec  38544 obs/sec     249.26371642204376  225           22502282.0  0.1520504536072195   0.023119340442161206  0.06963164259649125\n",
       "     2017-08-27 20:46:00  9 min 52.946 sec  38544 obs/sec     249.26371642204376  225           22502282.0  0.15026055539279204  0.02257823450695032   0.06853673758752012"
      ]
     },
     "metadata": {},
     "output_type": "display_data"
    },
    {
     "name": "stdout",
     "output_type": "stream",
     "text": [
      "\n",
      "See the whole table with table.as_data_frame()\n"
     ]
    },
    {
     "data": {
      "text/plain": [
       "<bound method ModelBase.summary of >"
      ]
     },
     "execution_count": 11,
     "metadata": {},
     "output_type": "execute_result"
    }
   ],
   "source": [
    "dl_model.summary"
   ]
  },
  {
   "cell_type": "code",
   "execution_count": 14,
   "metadata": {
    "ExecuteTime": {
     "end_time": "2017-08-27T17:51:45.528823Z",
     "start_time": "2017-08-27T17:51:45.495320Z"
    }
   },
   "outputs": [
    {
     "name": "stdout",
     "output_type": "stream",
     "text": [
      "Index(['', 'timestamp', 'duration', 'training_speed', 'epochs', 'iterations',\n",
      "       'samples', 'training_rmse', 'training_deviance', 'training_mae'],\n",
      "      dtype='object')\n"
     ]
    }
   ],
   "source": [
    "sh = dl_model.score_history()\n",
    "sh = pd.DataFrame(sh)\n",
    "print(sh.columns)"
   ]
  },
  {
   "cell_type": "code",
   "execution_count": 16,
   "metadata": {
    "ExecuteTime": {
     "end_time": "2017-08-27T17:54:27.188211Z",
     "start_time": "2017-08-27T17:54:26.396619Z"
    }
   },
   "outputs": [
    {
     "data": {
      "text/plain": [
       "<matplotlib.axes._subplots.AxesSubplot at 0x7f46c82a0128>"
      ]
     },
     "execution_count": 16,
     "metadata": {},
     "output_type": "execute_result"
    },
    {
     "data": {
      "image/png": "[encoded data removed]",
      "text/plain": [
       "<matplotlib.figure.Figure at 0x7f46c829edd8>"
      ]
     },
     "metadata": {},
     "output_type": "display_data"
    }
   ],
   "source": [
    "sh.plot(x='epochs',y = ['training_deviance', 'training_mae'])"
   ]
  },
  {
   "cell_type": "code",
   "execution_count": 20,
   "metadata": {
    "ExecuteTime": {
     "end_time": "2017-08-27T18:10:02.263576Z",
     "start_time": "2017-08-27T18:10:02.251270Z"
    }
   },
   "outputs": [
    {
     "data": {
      "text/plain": [
       "{'activation': 'Rectifier',\n",
       " 'adaptive_rate': True,\n",
       " 'autoencoder': False,\n",
       " 'average_activation': 0.0,\n",
       " 'balance_classes': False,\n",
       " 'categorical_encoding': 'AUTO',\n",
       " 'checkpoint': None,\n",
       " 'class_sampling_factors': None,\n",
       " 'classification_stop': 0.0,\n",
       " 'col_major': False,\n",
       " 'diagnostics': True,\n",
       " 'distribution': 'AUTO',\n",
       " 'elastic_averaging': False,\n",
       " 'elastic_averaging_moving_rate': 0.9,\n",
       " 'elastic_averaging_regularization': 0.001,\n",
       " 'epochs': 10.0,\n",
       " 'epsilon': 1e-08,\n",
       " 'export_weights_and_biases': False,\n",
       " 'fast_mode': True,\n",
       " 'fold_assignment': 'AUTO',\n",
       " 'fold_column': None,\n",
       " 'force_load_balance': True,\n",
       " 'hidden': [200, 200],\n",
       " 'hidden_dropout_ratios': None,\n",
       " 'huber_alpha': 0.9,\n",
       " 'ignore_const_cols': True,\n",
       " 'ignored_columns': None,\n",
       " 'initial_biases': None,\n",
       " 'initial_weight_distribution': 'UniformAdaptive',\n",
       " 'initial_weight_scale': 1.0,\n",
       " 'initial_weights': None,\n",
       " 'input_dropout_ratio': 0.0,\n",
       " 'keep_cross_validation_fold_assignment': False,\n",
       " 'keep_cross_validation_predictions': False,\n",
       " 'l1': 0.0,\n",
       " 'l2': 0.0,\n",
       " 'loss': 'Automatic',\n",
       " 'max_after_balance_size': 5.0,\n",
       " 'max_categorical_features': 2147483647,\n",
       " 'max_confusion_matrix_size': 20,\n",
       " 'max_hit_ratio_k': 0,\n",
       " 'max_runtime_secs': 0.0,\n",
       " 'max_w2': 3.4028235e+38,\n",
       " 'mini_batch_size': 1,\n",
       " 'missing_values_handling': 'MeanImputation',\n",
       " 'model_id': None,\n",
       " 'momentum_ramp': 1000000.0,\n",
       " 'momentum_stable': 0.0,\n",
       " 'momentum_start': 0.0,\n",
       " 'nesterov_accelerated_gradient': True,\n",
       " 'nfolds': 0,\n",
       " 'offset_column': None,\n",
       " 'overwrite_with_best_model': True,\n",
       " 'pretrained_autoencoder': None,\n",
       " 'quantile_alpha': 0.5,\n",
       " 'quiet_mode': False,\n",
       " 'rate': 0.005,\n",
       " 'rate_annealing': 1e-06,\n",
       " 'rate_decay': 1.0,\n",
       " 'regression_stop': 1e-06,\n",
       " 'replicate_training_data': True,\n",
       " 'reproducible': False,\n",
       " 'response_column': None,\n",
       " 'rho': 0.99,\n",
       " 'score_duty_cycle': 0.1,\n",
       " 'score_each_iteration': False,\n",
       " 'score_interval': 5.0,\n",
       " 'score_training_samples': 10000,\n",
       " 'score_validation_samples': 0,\n",
       " 'score_validation_sampling': 'Uniform',\n",
       " 'seed': -1,\n",
       " 'shuffle_training_data': False,\n",
       " 'single_node_mode': False,\n",
       " 'sparse': False,\n",
       " 'sparsity_beta': 0.0,\n",
       " 'standardize': True,\n",
       " 'stopping_metric': 'AUTO',\n",
       " 'stopping_rounds': 5,\n",
       " 'stopping_tolerance': 0.0,\n",
       " 'target_ratio_comm_to_comp': 0.05,\n",
       " 'train_samples_per_iteration': -2,\n",
       " 'training_frame': None,\n",
       " 'tweedie_power': 1.5,\n",
       " 'use_all_factor_levels': True,\n",
       " 'validation_frame': None,\n",
       " 'variable_importances': False,\n",
       " 'weights_column': None}"
      ]
     },
     "execution_count": 20,
     "metadata": {},
     "output_type": "execute_result"
    }
   ],
   "source": [
    "dl_model.default_params"
   ]
  },
  {
   "cell_type": "code",
   "execution_count": 38,
   "metadata": {
    "ExecuteTime": {
     "end_time": "2017-08-27T18:27:02.808623Z",
     "start_time": "2017-08-27T18:27:02.121443Z"
    }
   },
   "outputs": [
    {
     "name": "stdout",
     "output_type": "stream",
     "text": [
      "\n",
      "ModelMetricsRegression: deeplearning\n",
      "** Reported on test data. **\n",
      "\n",
      "MSE: 0.025000241400573237\n",
      "RMSE: 0.1581146463822161\n",
      "MAE: 0.06741851411740078\n",
      "RMSLE: NaN\n",
      "Mean Residual Deviance: 0.025000241400573237\n"
     ]
    },
    {
     "data": {
      "text/plain": []
     },
     "execution_count": 38,
     "metadata": {},
     "output_type": "execute_result"
    }
   ],
   "source": [
    " dl_model.model_performance(test_data=xy_tr)"
   ]
  },
  {
   "cell_type": "code",
   "execution_count": 39,
   "metadata": {
    "ExecuteTime": {
     "end_time": "2017-08-27T18:31:14.017671Z",
     "start_time": "2017-08-27T18:31:14.008576Z"
    }
   },
   "outputs": [
    {
     "name": "stdout",
     "output_type": "stream",
     "text": [
      "Warning: This model doesn't have variable importances\n"
     ]
    },
    {
     "data": {
      "text/html": [
       "<div>\n",
       "<table border=\"1\" class=\"dataframe\">\n",
       "  <thead>\n",
       "    <tr style=\"text-align: right;\">\n",
       "      <th></th>\n",
       "    </tr>\n",
       "  </thead>\n",
       "  <tbody>\n",
       "  </tbody>\n",
       "</table>\n",
       "</div>"
      ],
      "text/plain": [
       "Empty DataFrame\n",
       "Columns: []\n",
       "Index: []"
      ]
     },
     "execution_count": 39,
     "metadata": {},
     "output_type": "execute_result"
    }
   ],
   "source": [
    "pd.DataFrame(dl_model.varimp())"
   ]
  },
  {
   "cell_type": "code",
   "execution_count": 40,
   "metadata": {
    "ExecuteTime": {
     "end_time": "2017-08-27T18:33:33.108344Z",
     "start_time": "2017-08-27T18:33:15.870591Z"
    }
   },
   "outputs": [
    {
     "name": "stdout",
     "output_type": "stream",
     "text": [
      "deeplearning prediction progress: |███████████████████████████████████████| 100%\n"
     ]
    }
   ],
   "source": [
    "y_test = dl_model.predict(test_data=x_test)"
   ]
  },
  {
   "cell_type": "code",
   "execution_count": 41,
   "metadata": {
    "ExecuteTime": {
     "end_time": "2017-08-27T18:33:56.293624Z",
     "start_time": "2017-08-27T18:33:56.281457Z"
    }
   },
   "outputs": [
    {
     "name": "stdout",
     "output_type": "stream",
     "text": [
      "(2985217, 1)\n"
     ]
    }
   ],
   "source": [
    "print(y_test.shape)"
   ]
  },
  {
   "cell_type": "markdown",
   "metadata": {},
   "source": [
    "## 28-AUG-2017 dl_model_list 1"
   ]
  },
  {
   "cell_type": "code",
   "execution_count": 103,
   "metadata": {
    "ExecuteTime": {
     "end_time": "2017-08-28T09:14:32.549813Z",
     "start_time": "2017-08-28T08:20:56.715419Z"
    }
   },
   "outputs": [
    {
     "name": "stdout",
     "output_type": "stream",
     "text": [
      "deeplearning Model Build progress: |██████████████████████████████████████| 100%\n",
      "deeplearning Model Build progress: |██████████████████████████████████████| 100%\n",
      "deeplearning Model Build progress: |██████████████████████████████████████| 100%\n",
      "deeplearning Model Build progress: |██████████████████████████████████████| 100%\n",
      "deeplearning Model Build progress: |██████████████████████████████████████| 100%\n",
      "deeplearning Model Build progress: |██████████████████████████████████████| 100%\n",
      "deeplearning Model Build progress: |██████████████████████████████████████| 100%\n",
      "deeplearning Model Build progress: |██████████████████████████████████████| 100%\n",
      "deeplearning Model Build progress: |██████████████████████████████████████| 100%\n",
      "deeplearning Model Build progress: |██████████████████████████████████████| 100%\n",
      "deeplearning Model Build progress: |██████████████████████████████████████| 100%\n",
      "deeplearning Model Build progress: |██████████████████████████████████████| 100%\n",
      "deeplearning Model Build progress: |██████████████████████████████████████| 100%\n",
      "deeplearning Model Build progress: |██████████████████████████████████████| 100%\n",
      "deeplearning Model Build progress: |██████████████████████████████████████| 100%\n",
      "deeplearning Model Build progress: |██████████████████████████████████████| 100%\n",
      "deeplearning Model Build progress: |██████████████████████████████████████| 100%\n",
      "deeplearning Model Build progress: |██████████████████████████████████████| 100%\n",
      "deeplearning Model Build progress: |██████████████████████████████████████| 100%\n",
      "deeplearning Model Build progress: |██████████████████████████████████████| 100%\n",
      "deeplearning Model Build progress: |██████████████████████████████████████| 100%\n",
      "deeplearning Model Build progress: |██████████████████████████████████████| 100%\n",
      "deeplearning Model Build progress: |██████████████████████████████████████| 100%\n",
      "deeplearning Model Build progress: |██████████████████████████████████████| 100%\n",
      "deeplearning Model Build progress: |██████████████████████████████████████| 100%\n",
      "deeplearning Model Build progress: |██████████████████████████████████████| 100%\n",
      "deeplearning Model Build progress: |██████████████████████████████████████| 100%\n",
      "deeplearning Model Build progress: |██████████████████████████████████████| 100%\n",
      "deeplearning Model Build progress: |██████████████████████████████████████| 100%\n",
      "deeplearning Model Build progress: |██████████████████████████████████████| 100%\n",
      "deeplearning Model Build progress: |██████████████████████████████████████| 100%\n",
      "deeplearning Model Build progress: |██████████████████████████████████████| 100%\n",
      "deeplearning Model Build progress: |██████████████████████████████████████| 100%\n",
      "deeplearning Model Build progress: |██████████████████████████████████████| 100%\n",
      "deeplearning Model Build progress: |██████████████████████████████████████| 100%\n",
      "deeplearning Model Build progress: |██████████████████████████████████████| 100%\n",
      "deeplearning Model Build progress: |██████████████████████████████████████| 100%\n",
      "deeplearning Model Build progress: |██████████████████████████████████████| 100%\n",
      "deeplearning Model Build progress: |██████████████████████████████████████| 100%\n",
      "deeplearning Model Build progress: |██████████████████████████████████████| 100%\n",
      "deeplearning Model Build progress: |██████████████████████████████████████| 100%\n",
      "deeplearning Model Build progress: |██████████████████████████████████████| 100%\n",
      "deeplearning Model Build progress: |██████████████████████████████████████| 100%\n",
      "deeplearning Model Build progress: |██████████████████████████████████████| 100%\n",
      "deeplearning Model Build progress: |██████████████████████████████████████| 100%\n",
      "deeplearning Model Build progress: |██████████████████████████████████████| 100%\n",
      "deeplearning Model Build progress: |██████████████████████████████████████| 100%\n",
      "deeplearning Model Build progress: |██████████████████████████████████████| 100%\n",
      "deeplearning Model Build progress: |██████████████████████████████████████| 100%\n",
      "deeplearning Model Build progress: |██████████████████████████████████████| 100%\n",
      "deeplearning Model Build progress: |██████████████████████████████████████| 100%\n",
      "deeplearning Model Build progress: |██████████████████████████████████████| 100%\n",
      "deeplearning Model Build progress: |██████████████████████████████████████| 100%\n",
      "deeplearning Model Build progress: |██████████████████████████████████████| 100%\n",
      "deeplearning Model Build progress: |██████████████████████████████████████| 100%\n",
      "deeplearning Model Build progress: |██████████████████████████████████████| 100%\n",
      "deeplearning Model Build progress: |██████████████████████████████████████| 100%\n",
      "deeplearning Model Build progress: |██████████████████████████████████████| 100%\n",
      "deeplearning Model Build progress: |██████████████████████████████████████| 100%\n",
      "deeplearning Model Build progress: |██████████████████████████████████████| 100%\n"
     ]
    }
   ],
   "source": [
    "nuron_cnts = [40,80,160]\n",
    "layer_cnts = [1,2,3,4,5]\n",
    "acts = [\"Tanh\",\"Maxout\",\"Rectifier\",\"RectifierWithDropout\"]\n",
    "models_list = []\n",
    "m_names_list = []\n",
    "i = 0\n",
    "# N 3 * L 5 * A 4 = 60n \n",
    "for act in acts:\n",
    "    for layer_cnt in layer_cnts:\n",
    "        for nuron_cnt in nuron_cnts:\n",
    "            m_names_list.append(\"N:\"+str(nuron_cnt)+\"L:\"+str(layer_cnt)+\"A:\"+act)\n",
    "            print(m_names_list[i])\n",
    "            models_list.append(H2ODeepLearningEstimator(\n",
    "                model_id=m_names_list[i],\n",
    "                hidden=[nuron_cnt]*layer_cnt,            # more hidden layers -> more complex interactions\n",
    "                activation = act,\n",
    "                epochs=10,                       # to keep it short enough\n",
    "                score_validation_samples=10000,\n",
    "                overwrite_with_best_model=True,\n",
    "                adaptive_rate=True,\n",
    "                l1=0.00001,                      # add some L1/L2 regularization\n",
    "                l2=0.00001,\n",
    "                max_w2=10.0                        # helps stability for Rectifier\n",
    "            ))\n",
    "            \n",
    "            models_list[i].train(x=X,y=y,training_frame=xy_tr,\n",
    "                  validation_frame=xy_tr)\n",
    "            i+=1"
   ]
  },
  {
   "cell_type": "code",
   "execution_count": 104,
   "metadata": {
    "ExecuteTime": {
     "end_time": "2017-08-28T09:18:16.359964Z",
     "start_time": "2017-08-28T09:18:11.751532Z"
    }
   },
   "outputs": [
    {
     "name": "stdout",
     "output_type": "stream",
     "text": [
      "N:40L:1A:Tanh 0.02191104025818047\n",
      "N:80L:1A:Tanh 0.02866460132997793\n",
      "N:160L:1A:Tanh 0.02738745782618937\n",
      "N:40L:2A:Tanh 0.027354476515048527\n",
      "N:80L:2A:Tanh 0.0213912611589249\n",
      "N:160L:2A:Tanh 0.03003707631564074\n",
      "N:40L:3A:Tanh 0.025110226659536748\n",
      "N:80L:3A:Tanh 0.028280990468011215\n",
      "N:160L:3A:Tanh 0.024612255460352443\n",
      "N:40L:4A:Tanh 0.03053287072861051\n",
      "N:80L:4A:Tanh 0.02361192080682827\n",
      "N:160L:4A:Tanh 0.026893795364736805\n",
      "N:40L:5A:Tanh 0.027192312105420283\n",
      "N:80L:5A:Tanh 0.02680966175827571\n",
      "N:160L:5A:Tanh 0.025812352247345866\n",
      "N:40L:1A:Maxout 0.02052945142692426\n",
      "N:80L:1A:Maxout 0.023988878572638126\n",
      "N:160L:1A:Maxout 0.023132544480644914\n",
      "N:40L:2A:Maxout 0.026802401674975062\n",
      "N:80L:2A:Maxout 0.02556542374159979\n",
      "N:160L:2A:Maxout 0.027736017276626588\n",
      "N:40L:3A:Maxout 0.02521875009843506\n",
      "N:80L:3A:Maxout 0.03075028538701201\n",
      "N:160L:3A:Maxout 0.023427097603774816\n",
      "N:40L:4A:Maxout 0.026294584554501673\n",
      "N:80L:4A:Maxout 0.027574321628114656\n",
      "N:160L:4A:Maxout 0.02969554448548389\n",
      "N:40L:5A:Maxout 0.029599484325346585\n",
      "N:80L:5A:Maxout 0.024038942730959106\n",
      "N:160L:5A:Maxout 0.028474911836836505\n",
      "N:40L:1A:Rectifier 0.028346364590309193\n",
      "N:80L:1A:Rectifier 0.028481820251669787\n",
      "N:160L:1A:Rectifier 0.025189538051022413\n",
      "N:40L:2A:Rectifier 0.027264368063950564\n",
      "N:80L:2A:Rectifier 0.02442926565741489\n",
      "N:160L:2A:Rectifier 0.024232643998517617\n",
      "N:40L:3A:Rectifier 0.02451593226524556\n",
      "N:80L:3A:Rectifier 0.02395960155561946\n",
      "N:160L:3A:Rectifier 0.02586771050284556\n",
      "N:40L:4A:Rectifier 0.026499569011630454\n",
      "N:80L:4A:Rectifier 0.024932048979661853\n",
      "N:160L:4A:Rectifier 0.020851246602500616\n",
      "N:40L:5A:Rectifier 0.020170051158055997\n",
      "N:80L:5A:Rectifier 0.02579208593984897\n",
      "N:160L:5A:Rectifier 0.027704975682876096\n",
      "N:40L:1A:RectifierWithDropout 0.027864729600650163\n",
      "N:80L:1A:RectifierWithDropout 0.025456952506761263\n",
      "N:160L:1A:RectifierWithDropout 0.025420393720763407\n",
      "N:40L:2A:RectifierWithDropout 0.02568216346528083\n",
      "N:80L:2A:RectifierWithDropout 0.028295979836577674\n",
      "N:160L:2A:RectifierWithDropout 0.02370280221686692\n",
      "N:40L:3A:RectifierWithDropout 0.02623777253734144\n",
      "N:80L:3A:RectifierWithDropout 0.02147244398080917\n",
      "N:160L:3A:RectifierWithDropout 0.024075506716878754\n",
      "N:40L:4A:RectifierWithDropout 0.025482172219417717\n",
      "N:80L:4A:RectifierWithDropout 0.02087426269736986\n",
      "N:160L:4A:RectifierWithDropout 0.028485080565035858\n",
      "N:40L:5A:RectifierWithDropout 0.029091407690115315\n",
      "N:80L:5A:RectifierWithDropout 0.027870237362026214\n",
      "N:160L:5A:RectifierWithDropout 0.02457939327244617\n"
     ]
    }
   ],
   "source": [
    "for i in range(0,639): #range(len(models_list)-1):\n",
    "    try:\n",
    "        sh = models_list[i].score_history()\n",
    "        sh = pd.DataFrame(sh)\n",
    "        perform = sh['validation_deviance'].tolist()[-1]\n",
    "        print(models_list[i].model_id,end=\" \")\n",
    "        print(perform)\n",
    "    except:\n",
    "        print(end=\"\")"
   ]
  },
  {
   "cell_type": "markdown",
   "metadata": {},
   "source": [
    "### split the data 3 ways:  \n",
    "1. 60% for training  \n",
    "2. 20% for validation (hyper parameter tuning)  \n",
    "3. 20% for final testing  \n",
    " \n",
    "1.  We will train a data set on one set and use the others to test the validity of the model by ensuring that it can predict accurately on data the model has not been shown.   \n",
    "2.  The second set will be used for validation most of the time.  \n",
    "3.  The third set will be withheld until the end, to ensure that our validation accuracy is consistent with data we have never seen during the iterative process. \n",
    "\n",
    "### desicion\n",
    "Use Rect-dropout"
   ]
  },
  {
   "cell_type": "code",
   "execution_count": 181,
   "metadata": {
    "ExecuteTime": {
     "end_time": "2017-08-28T12:27:16.194196Z",
     "start_time": "2017-08-28T12:27:16.089051Z"
    }
   },
   "outputs": [],
   "source": [
    "train_h2o, valid_h2o, test_h2o = xy_tr.split_frame([0.6, 0.2], seed=1234)"
   ]
  },
  {
   "cell_type": "markdown",
   "metadata": {},
   "source": [
    "## 28-AUG-2017 dl_model_list 2"
   ]
  },
  {
   "cell_type": "code",
   "execution_count": 112,
   "metadata": {
    "ExecuteTime": {
     "end_time": "2017-08-28T09:56:35.537356Z",
     "start_time": "2017-08-28T09:53:43.452293Z"
    }
   },
   "outputs": [
    {
     "name": "stdout",
     "output_type": "stream",
     "text": [
      "N: 40 L: 1 A: RectifierWithDropout\n",
      "deeplearning Model Build progress: |██████████████████████████████████████| 100%\n",
      "N: 80 L: 1 A: RectifierWithDropout\n",
      "deeplearning Model Build progress: |██████████████████████████████████████| 100%\n",
      "N: 160 L: 1 A: RectifierWithDropout\n",
      "deeplearning Model Build progress: |██████████████████████████████████████| 100%\n",
      "N: 40 L: 2 A: RectifierWithDropout\n",
      "deeplearning Model Build progress: |██████████████████████████████████████| 100%\n",
      "N: 80 L: 2 A: RectifierWithDropout\n",
      "deeplearning Model Build progress: |██████████████████████████████████████| 100%\n",
      "N: 160 L: 2 A: RectifierWithDropout\n",
      "deeplearning Model Build progress: |██████████████████████████████████████| 100%\n",
      "N: 40 L: 3 A: RectifierWithDropout\n",
      "deeplearning Model Build progress: |██████████████████████████████████████| 100%\n",
      "N: 80 L: 3 A: RectifierWithDropout\n",
      "deeplearning Model Build progress: |██████████████████████████████████████| 100%\n",
      "N: 160 L: 3 A: RectifierWithDropout\n",
      "deeplearning Model Build progress: |██████████████████████████████████████| 100%\n",
      "N: 40 L: 4 A: RectifierWithDropout\n",
      "deeplearning Model Build progress: |██████████████████████████████████████| 100%\n",
      "N: 80 L: 4 A: RectifierWithDropout\n",
      "deeplearning Model Build progress: |██████████████████████████████████████| 100%\n",
      "N: 160 L: 4 A: RectifierWithDropout\n",
      "deeplearning Model Build progress: |██████████████████████████████████████| 100%\n",
      "N: 40 L: 5 A: RectifierWithDropout\n",
      "deeplearning Model Build progress: |██████████████████████████████████████| 100%\n",
      "N: 80 L: 5 A: RectifierWithDropout\n",
      "deeplearning Model Build progress: |██████████████████████████████████████| 100%\n",
      "N: 160 L: 5 A: RectifierWithDropout\n",
      "deeplearning Model Build progress: |██████████████████████████████████████| 100%\n"
     ]
    }
   ],
   "source": [
    "nuron_cnts = [40,80,160]\n",
    "layer_cnts = [1,2,3,4,5]\n",
    "acts = [\"RectifierWithDropout\"] #\"Tanh\",\"Maxout\",\"Rectifier\",\n",
    "models_list = []\n",
    "m_names_list = []\n",
    "time_tkn_wall =[]\n",
    "time_tkn_clk=[]\n",
    "i = 0\n",
    "# N 3 * L 5 * A 1 = 15n \n",
    "for act in acts:\n",
    "    for layer_cnt in layer_cnts:\n",
    "        for nuron_cnt in nuron_cnts:\n",
    "            m_names_list.append(\"N: \"+str(nuron_cnt)+\" L: \"+str(layer_cnt)+\" A: \"+act)\n",
    "            print(m_names_list[i])\n",
    "            models_list.append(H2ODeepLearningEstimator(\n",
    "                model_id=m_names_list[i],\n",
    "                hidden=[nuron_cnt]*layer_cnt,            # more hidden layers -> more complex interactions\n",
    "                activation = act,\n",
    "                epochs=10,                       # to keep it short enough\n",
    "                score_validation_samples=10000,\n",
    "                overwrite_with_best_model=True,\n",
    "                adaptive_rate=True,\n",
    "                l1=0.00001,                      # add some L1/L2 regularization\n",
    "                l2=0.00001,\n",
    "                max_w2=10.0                        # helps stability for Rectifier\n",
    "            ))\n",
    "            str_time_clk = time.clock()\n",
    "            str_time_wall = time.time()\n",
    "            \n",
    "            models_list[i].train(x=X,y=y,training_frame=train,\n",
    "                  validation_frame=valid)\n",
    "            time_tkn_clk.append(time.clock()-str_time_clk)\n",
    "            time_tkn_wall.append(time.time()-str_time_wall)\n",
    "            \n",
    "            i+=1"
   ]
  },
  {
   "cell_type": "markdown",
   "metadata": {},
   "source": [
    "time.time() shows that the wall-clock time has passed approximately one second while time.clock() shows the CPU time spent on the current process is less than 1 microsecond. time.clock() has a much higher precision than time.time()."
   ]
  },
  {
   "cell_type": "code",
   "execution_count": 115,
   "metadata": {
    "ExecuteTime": {
     "end_time": "2017-08-28T09:59:02.738045Z",
     "start_time": "2017-08-28T09:59:02.209226Z"
    }
   },
   "outputs": [
    {
     "name": "stdout",
     "output_type": "stream",
     "text": [
      "N: 40 L: 1 A: RectifierWithDropout  clk 0.27000000000003865 wall 3.249885320663452 0.023469934690956554\n",
      "N: 80 L: 1 A: RectifierWithDropout  clk 0.3100000000000023 wall 4.686337471008301 0.025744111295793928\n",
      "N: 160 L: 1 A: RectifierWithDropout  clk 0.339999999999975 wall 7.4652464389801025 0.02426045842498989\n",
      "N: 40 L: 2 A: RectifierWithDropout  clk 0.27000000000003865 wall 3.916215419769287 0.026011432819666936\n",
      "N: 80 L: 2 A: RectifierWithDropout  clk 0.3299999999999841 wall 6.651781797409058 0.02078551153846703\n",
      "N: 160 L: 2 A: RectifierWithDropout  clk 0.35000000000002274 wall 10.531349658966064 0.023994181648258305\n",
      "N: 40 L: 3 A: RectifierWithDropout  clk 0.2899999999999636 wall 4.695176839828491 0.025275593214375437\n",
      "N: 80 L: 3 A: RectifierWithDropout  clk 0.34000000000003183 wall 8.670188903808594 0.02558111504808703\n",
      "N: 160 L: 3 A: RectifierWithDropout  clk 0.4900000000000091 wall 20.546206951141357 0.021774404657216598\n",
      "N: 40 L: 4 A: RectifierWithDropout  clk 0.3199999999999932 wall 5.513561010360718 0.020633118910378\n",
      "N: 80 L: 4 A: RectifierWithDropout  clk 0.38999999999998636 wall 10.835278511047363 0.02253775756289219\n",
      "N: 160 L: 4 A: RectifierWithDropout  clk 0.6999999999999886 wall 33.28201603889465 0.02442749249303816\n",
      "N: 40 L: 5 A: RectifierWithDropout  clk 0.35000000000002274 wall 6.502399444580078 0.02028710252858947\n",
      "N: 80 L: 5 A: RectifierWithDropout  clk 0.39999999999997726 wall 14.082407474517822 0.027109466554412237\n"
     ]
    }
   ],
   "source": [
    "for i in range(len(models_list)-1):\n",
    "    try:\n",
    "        sh = models_list[i].score_history()\n",
    "        sh = pd.DataFrame(sh)\n",
    "        perform = sh['validation_deviance'].tolist()[-1]\n",
    "        print(models_list[i].model_id,end=\" \")\n",
    "        print(\" clk \"+str(time_tkn_clk[i])+\" wall \"+str(time_tkn_wall[i]),end=\" \")\n",
    "        print(perform)\n",
    "    except:\n",
    "        print(end=\"\")"
   ]
  },
  {
   "cell_type": "markdown",
   "metadata": {
    "ExecuteTime": {
     "end_time": "2017-08-28T10:12:50.899685Z",
     "start_time": "2017-08-28T10:12:50.895002Z"
    }
   },
   "source": [
    "## 28-AUG-2017 dl_model_list 3\n",
    "### 30,40 nurons, 4,5 layers"
   ]
  },
  {
   "cell_type": "code",
   "execution_count": 172,
   "metadata": {
    "ExecuteTime": {
     "end_time": "2017-08-28T12:18:27.341767Z",
     "start_time": "2017-08-28T12:13:26.620459Z"
    },
    "scrolled": true
   },
   "outputs": [
    {
     "name": "stdout",
     "output_type": "stream",
     "text": [
      "N: 30 L: 4 A: RectifierWithDropout\n",
      "deeplearning Model Build progress: |██████████████████████████████████████| 100%\n",
      "N: 40 L: 4 A: RectifierWithDropout\n",
      "deeplearning Model Build progress: |██████████████████████████████████████| 100%\n",
      "N: 50 L: 4 A: RectifierWithDropout\n",
      "deeplearning Model Build progress: |██████████████████████████████████████| 100%\n",
      "N: 30 L: 5 A: RectifierWithDropout\n",
      "deeplearning Model Build progress: |██████████████████████████████████████| 100%\n",
      "N: 40 L: 5 A: RectifierWithDropout\n",
      "deeplearning Model Build progress: |██████████████████████████████████████| 100%\n",
      "N: 50 L: 5 A: RectifierWithDropout\n",
      "deeplearning Model Build progress: |██████████████████████████████████████| 100%\n"
     ]
    }
   ],
   "source": [
    "nuron_cnts = [30,40,50]\n",
    "layer_cnts = [4,5]\n",
    "acts = [\"RectifierWithDropout\"] #\"Tanh\",\"Maxout\",\"Rectifier\",\n",
    "dout=0.5\n",
    "models_list = []\n",
    "m_names_list = []\n",
    "time_tkn_wall =[]\n",
    "time_tkn_clk=[]\n",
    "\n",
    "i = 0\n",
    "# N 1 * L 10 * A 1 = 10n \n",
    "for act in acts:\n",
    "    for layer_cnt in layer_cnts:\n",
    "        for nuron_cnt in nuron_cnts:\n",
    "            m_names_list.append(\"N: \"+str(nuron_cnt)+\" L: \"+str(layer_cnt)+\" A: \"+act)\n",
    "            print(m_names_list[i])\n",
    "            models_list.append(H2ODeepLearningEstimator(\n",
    "                model_id=m_names_list[i],\n",
    "                hidden=[nuron_cnt]*layer_cnt,            # more hidden layers -> more complex interactions\n",
    "                hidden_dropout_ratios=[dout]*layer_cnt,\n",
    "                activation = act,\n",
    "                epochs=500,                       # to keep it short enough\n",
    "                train_samples_per_iteration=300,\n",
    "                score_validation_samples=10000,\n",
    "                loss=\"absolute\",\n",
    "                overwrite_with_best_model=True,\n",
    "                adaptive_rate=True,\n",
    "                l1=0.00001,                      # add some L1/L2 regularization\n",
    "                l2=0.0001,\n",
    "                max_w2=10.0,                        # helps stability for Rectifier\n",
    "                variable_importances=True\n",
    "            ))\n",
    "            str_time_clk = time.clock()\n",
    "            str_time_wall = time.time()\n",
    "            \n",
    "            models_list[i].train(x=X,y=y,training_frame=train,\n",
    "                  validation_frame=valid)\n",
    "            time_tkn_clk.append(time.clock()-str_time_clk)\n",
    "            time_tkn_wall.append(time.time()-str_time_wall)\n",
    "            \n",
    "            i+=1"
   ]
  },
  {
   "cell_type": "markdown",
   "metadata": {
    "collapsed": true
   },
   "source": [
    "### tests"
   ]
  },
  {
   "cell_type": "code",
   "execution_count": 142,
   "metadata": {
    "ExecuteTime": {
     "end_time": "2017-08-28T11:18:00.311281Z",
     "start_time": "2017-08-28T11:18:00.161639Z"
    }
   },
   "outputs": [],
   "source": [
    "dl_pref=dl_model.model_performance(test_data=test) "
   ]
  },
  {
   "cell_type": "code",
   "execution_count": null,
   "metadata": {},
   "outputs": [],
   "source": [
    "dl_model.mean"
   ]
  },
  {
   "cell_type": "code",
   "execution_count": 155,
   "metadata": {
    "ExecuteTime": {
     "end_time": "2017-08-28T11:50:35.691074Z",
     "start_time": "2017-08-28T11:50:35.684622Z"
    }
   },
   "outputs": [
    {
     "data": {
      "text/plain": [
       "0.06796546374064724"
      ]
     },
     "execution_count": 155,
     "metadata": {},
     "output_type": "execute_result"
    }
   ],
   "source": [
    "    dl_pref.mae()"
   ]
  },
  {
   "cell_type": "code",
   "execution_count": 163,
   "metadata": {
    "ExecuteTime": {
     "end_time": "2017-08-28T12:06:46.091917Z",
     "start_time": "2017-08-28T12:06:46.086056Z"
    }
   },
   "outputs": [
    {
     "data": {
      "text/plain": [
       "'N: 30 L: 4 A: RectifierWithDropout'"
      ]
     },
     "execution_count": 163,
     "metadata": {},
     "output_type": "execute_result"
    }
   ],
   "source": [
    "train.shape\n",
    "models_list[0].model_id"
   ]
  },
  {
   "cell_type": "code",
   "execution_count": 173,
   "metadata": {
    "ExecuteTime": {
     "end_time": "2017-08-28T12:19:00.360775Z",
     "start_time": "2017-08-28T12:18:53.938088Z"
    }
   },
   "outputs": [
    {
     "name": "stdout",
     "output_type": "stream",
     "text": [
      "N: 30 L: 4 A: RectifierWithDropout clk 0.41\twall 0.85\ttr 0.070206\tval 0.067136\tts 0.068964\n",
      "N: 40 L: 4 A: RectifierWithDropout clk 0.38\twall 0.76\ttr 0.066569\tval 0.066725\tts 0.068954\n",
      "N: 50 L: 4 A: RectifierWithDropout clk 0.47\twall 1.02\ttr 0.065506\tval 0.066612\tts 0.068913\n",
      "N: 30 L: 5 A: RectifierWithDropout clk 0.38\twall 0.77\ttr 0.067466\tval 0.066732\tts 0.069265\n",
      "N: 40 L: 5 A: RectifierWithDropout clk 0.4\twall 0.84\ttr 0.066973\tval 0.067577\tts 0.069282\n",
      "N: 50 L: 5 A: RectifierWithDropout clk 0.43\twall 0.77\ttr 0.067525\tval 0.06719\tts 0.06935\n"
     ]
    },
    {
     "data": {
      "image/png": "[encoded data removed]",
      "text/plain": [
       "<matplotlib.figure.Figure at 0x7f468f3ee908>"
      ]
     },
     "metadata": {},
     "output_type": "display_data"
    },
    {
     "data": {
      "image/png": "[encoded data removed]",
      "text/plain": [
       "<matplotlib.figure.Figure at 0x7f46900398d0>"
      ]
     },
     "metadata": {},
     "output_type": "display_data"
    },
    {
     "data": {
      "image/png": "[encoded data removed]",
      "text/plain": [
       "<matplotlib.figure.Figure at 0x7f468f7cf908>"
      ]
     },
     "metadata": {},
     "output_type": "display_data"
    },
    {
     "data": {
      "image/png": "[encoded data removed]",
      "text/plain": [
       "<matplotlib.figure.Figure at 0x7f468fb2bcc0>"
      ]
     },
     "metadata": {},
     "output_type": "display_data"
    },
    {
     "data": {
      "image/png": "[encoded data removed]",
      "text/plain": [
       "<matplotlib.figure.Figure at 0x7f46c7870668>"
      ]
     },
     "metadata": {},
     "output_type": "display_data"
    },
    {
     "data": {
      "image/png": "[encoded data removed]",
      "text/plain": [
       "<matplotlib.figure.Figure at 0x7f468f882cf8>"
      ]
     },
     "metadata": {},
     "output_type": "display_data"
    }
   ],
   "source": [
    "for i in range(len(models_list)):\n",
    "    try:\n",
    "        sh = models_list[i].score_history()\n",
    "        sh = pd.DataFrame(sh)\n",
    "        sh.plot(x='epochs',y = ['training_mae', 'validation_mae'])\n",
    "        tr_perform = sh['training_mae'].tolist()[-1]\n",
    "        val_perform = sh['validation_mae'].tolist()[-1]\n",
    "        ts_perform= models_list[i].model_performance(test_data=test).mae() \n",
    "        print(models_list[i].model_id,end=\" \")\n",
    "        print(\"clk \"+str(round(time_tkn_clk[i],2))+\"\\twall \"+str(round(time_tkn_wall[i]/60,2)),end=\"\\t\")\n",
    "        print(\n",
    "            \"tr \" + str(round(tr_perform,6)) +\"\\tval \" + str(round(val_perform,6)) + \"\\tts \" + str(round(ts_perform,6))\n",
    "        )\n",
    "    except:\n",
    "        print(end=\"\")"
   ]
  },
  {
   "cell_type": "markdown",
   "metadata": {
    "ExecuteTime": {
     "end_time": "2017-08-28T18:25:37.824489Z",
     "start_time": "2017-08-28T18:25:37.820196Z"
    }
   },
   "source": [
    "## Predict test_h2o & combine"
   ]
  },
  {
   "cell_type": "markdown",
   "metadata": {},
   "source": [
    "## Predict x_test & combine"
   ]
  },
  {
   "cell_type": "code",
   "execution_count": 174,
   "metadata": {
    "ExecuteTime": {
     "end_time": "2017-08-28T12:22:10.432113Z",
     "start_time": "2017-08-28T12:21:43.916601Z"
    }
   },
   "outputs": [
    {
     "name": "stderr",
     "output_type": "stream",
     "text": [
      "/storage/users/jethva/anaconda3/lib/python3.6/site-packages/sklearn/cross_validation.py:44: DeprecationWarning: This module was deprecated in version 0.18 in favor of the model_selection module into which all the refactored classes and functions are moved. Also note that the interface of the new CV iterators are different from that of this module. This module will be removed in 0.20.\n",
      "  \"This module will be removed in 0.20.\", DeprecationWarning)\n"
     ]
    }
   ],
   "source": [
    "import numpy as np\n",
    "import pandas as pd\n",
    "import xgboost as xgb\n",
    "from sklearn.preprocessing import LabelEncoder\n",
    "import lightgbm as lgb\n",
    "import gc\n",
    "from sklearn.linear_model import LinearRegression\n",
    "import random\n",
    "import datetime as dt"
   ]
  },
  {
   "cell_type": "code",
   "execution_count": 175,
   "metadata": {
    "ExecuteTime": {
     "end_time": "2017-08-28T12:22:37.015539Z",
     "start_time": "2017-08-28T12:22:14.507813Z"
    }
   },
   "outputs": [
    {
     "name": "stderr",
     "output_type": "stream",
     "text": [
      "/storage/users/jethva/anaconda3/lib/python3.6/site-packages/IPython/core/interactiveshell.py:2698: DtypeWarning: Columns (22,32,34,49,55) have mixed types. Specify dtype option on import or set low_memory=False.\n",
      "  interactivity=interactivity, compiler=compiler, result=result)\n"
     ]
    },
    {
     "name": "stdout",
     "output_type": "stream",
     "text": [
      "90275 2985217 2985217\n"
     ]
    }
   ],
   "source": [
    "np.random.seed(17)\n",
    "random.seed(17)\n",
    "\n",
    "train = pd.read_csv(\"../input/train_2016_v2.csv\", parse_dates=[\"transactiondate\"])\n",
    "properties = pd.read_csv(\"../input/properties_2016.csv\")\n",
    "submission = pd.read_csv(\"../input/sample_submission.csv\")\n",
    "print(len(train),len(properties),len(submission))\n"
   ]
  },
  {
   "cell_type": "code",
   "execution_count": 176,
   "metadata": {
    "ExecuteTime": {
     "end_time": "2017-08-28T12:22:47.245517Z",
     "start_time": "2017-08-28T12:22:47.215548Z"
    }
   },
   "outputs": [],
   "source": [
    "def get_features(df):\n",
    "    df[\"transactiondate\"] = pd.to_datetime(df[\"transactiondate\"])\n",
    "    df[\"transactiondate_year\"] = df[\"transactiondate\"].dt.year\n",
    "    df[\"transactiondate_month\"] = df[\"transactiondate\"].dt.month\n",
    "    df['transactiondate'] = df['transactiondate'].dt.quarter\n",
    "    df = df.fillna(-1.0)\n",
    "    return df\n",
    "\n",
    "def MAE(y, ypred):\n",
    "    #logerror=log(Zestimate)−log(SalePrice)\n",
    "    return np.sum([abs(y[i]-ypred[i]) for i in range(len(y))]) / len(y)"
   ]
  },
  {
   "cell_type": "code",
   "execution_count": 177,
   "metadata": {
    "ExecuteTime": {
     "end_time": "2017-08-28T12:23:30.002776Z",
     "start_time": "2017-08-28T12:23:17.720841Z"
    }
   },
   "outputs": [],
   "source": [
    "\n",
    "train = pd.merge(train, properties, how='left', on='parcelid')\n",
    "y = train['logerror'].values\n",
    "test = pd.merge(submission, properties, how='left', left_on='ParcelId', right_on='parcelid')\n",
    "properties = [] #memory\n",
    "\n",
    "exc = [train.columns[c] for c in range(len(train.columns)) if train.dtypes[c] == 'O'] + ['logerror','parcelid']\n",
    "col = [c for c in train.columns if c not in exc]\n"
   ]
  },
  {
   "cell_type": "code",
   "execution_count": 178,
   "metadata": {
    "ExecuteTime": {
     "end_time": "2017-08-28T12:23:48.982352Z",
     "start_time": "2017-08-28T12:23:42.635287Z"
    }
   },
   "outputs": [
    {
     "name": "stderr",
     "output_type": "stream",
     "text": [
      "/storage/users/jethva/anaconda3/lib/python3.6/site-packages/ipykernel_launcher.py:2: SettingWithCopyWarning: \n",
      "A value is trying to be set on a copy of a slice from a DataFrame.\n",
      "Try using .loc[row_indexer,col_indexer] = value instead\n",
      "\n",
      "See the caveats in the documentation: http://pandas.pydata.org/pandas-docs/stable/indexing.html#indexing-view-versus-copy\n",
      "  \n",
      "/storage/users/jethva/anaconda3/lib/python3.6/site-packages/ipykernel_launcher.py:3: SettingWithCopyWarning: \n",
      "A value is trying to be set on a copy of a slice from a DataFrame.\n",
      "Try using .loc[row_indexer,col_indexer] = value instead\n",
      "\n",
      "See the caveats in the documentation: http://pandas.pydata.org/pandas-docs/stable/indexing.html#indexing-view-versus-copy\n",
      "  This is separate from the ipykernel package so we can avoid doing imports until\n",
      "/storage/users/jethva/anaconda3/lib/python3.6/site-packages/ipykernel_launcher.py:4: SettingWithCopyWarning: \n",
      "A value is trying to be set on a copy of a slice from a DataFrame.\n",
      "Try using .loc[row_indexer,col_indexer] = value instead\n",
      "\n",
      "See the caveats in the documentation: http://pandas.pydata.org/pandas-docs/stable/indexing.html#indexing-view-versus-copy\n",
      "  after removing the cwd from sys.path.\n",
      "/storage/users/jethva/anaconda3/lib/python3.6/site-packages/ipykernel_launcher.py:5: SettingWithCopyWarning: \n",
      "A value is trying to be set on a copy of a slice from a DataFrame.\n",
      "Try using .loc[row_indexer,col_indexer] = value instead\n",
      "\n",
      "See the caveats in the documentation: http://pandas.pydata.org/pandas-docs/stable/indexing.html#indexing-view-versus-copy\n",
      "  \"\"\"\n"
     ]
    }
   ],
   "source": [
    "train = get_features(train[col])\n",
    "test['transactiondate'] = '2016-01-01' #should use the most common training date\n",
    "test = get_features(test[col])\n"
   ]
  },
  {
   "cell_type": "code",
   "execution_count": 179,
   "metadata": {
    "ExecuteTime": {
     "end_time": "2017-08-28T12:24:06.552475Z",
     "start_time": "2017-08-28T12:24:05.547005Z"
    }
   },
   "outputs": [
    {
     "name": "stdout",
     "output_type": "stream",
     "text": [
      "fit...\n",
      "0.068370083368\n"
     ]
    }
   ],
   "source": [
    "reg = LinearRegression(n_jobs=-1)\n",
    "reg.fit(train, y); print('fit...')\n",
    "print(MAE(y, reg.predict(train)))\n",
    "train = [];  y = [] #memory\n",
    "\n",
    "test_dates = ['2016-10-01','2016-11-01','2016-12-01','2017-10-01','2017-11-01','2017-12-01']\n",
    "test_columns = ['201610','201611','201612','201710','201711','201712']\n"
   ]
  },
  {
   "cell_type": "code",
   "execution_count": 187,
   "metadata": {
    "ExecuteTime": {
     "end_time": "2017-08-28T12:33:58.115127Z",
     "start_time": "2017-08-28T12:33:47.660142Z"
    }
   },
   "outputs": [
    {
     "name": "stdout",
     "output_type": "stream",
     "text": [
      "deeplearning prediction progress: |███████████████████████████████████████| 100%\n"
     ]
    }
   ],
   "source": [
    "pred0 = models_list[1].predict(test_data=x_test).as_data_frame(use_pandas=True)"
   ]
  },
  {
   "cell_type": "code",
   "execution_count": 188,
   "metadata": {
    "ExecuteTime": {
     "end_time": "2017-08-28T12:34:05.086180Z",
     "start_time": "2017-08-28T12:34:05.075080Z"
    }
   },
   "outputs": [
    {
     "data": {
      "text/html": [
       "<div>\n",
       "<table border=\"1\" class=\"dataframe\">\n",
       "  <thead>\n",
       "    <tr style=\"text-align: right;\">\n",
       "      <th></th>\n",
       "      <th>predict</th>\n",
       "    </tr>\n",
       "  </thead>\n",
       "  <tbody>\n",
       "    <tr>\n",
       "      <th>0</th>\n",
       "      <td>0.001469</td>\n",
       "    </tr>\n",
       "    <tr>\n",
       "      <th>1</th>\n",
       "      <td>0.000359</td>\n",
       "    </tr>\n",
       "    <tr>\n",
       "      <th>2</th>\n",
       "      <td>0.259057</td>\n",
       "    </tr>\n",
       "    <tr>\n",
       "      <th>3</th>\n",
       "      <td>0.030629</td>\n",
       "    </tr>\n",
       "    <tr>\n",
       "      <th>4</th>\n",
       "      <td>0.025123</td>\n",
       "    </tr>\n",
       "  </tbody>\n",
       "</table>\n",
       "</div>"
      ],
      "text/plain": [
       "    predict\n",
       "0  0.001469\n",
       "1  0.000359\n",
       "2  0.259057\n",
       "3  0.030629\n",
       "4  0.025123"
      ]
     },
     "execution_count": 188,
     "metadata": {},
     "output_type": "execute_result"
    }
   ],
   "source": [
    "pred0.head(n=5)"
   ]
  },
  {
   "cell_type": "code",
   "execution_count": 189,
   "metadata": {
    "ExecuteTime": {
     "end_time": "2017-08-28T12:36:10.715514Z",
     "start_time": "2017-08-28T12:34:28.668119Z"
    }
   },
   "outputs": [
    {
     "name": "stdout",
     "output_type": "stream",
     "text": [
      "\n",
      "Predicting with OLS and combining with XGB/LGB/baseline predicitons: ...\n",
      "predict... 0\n",
      "predict... 1\n",
      "predict... 2\n",
      "predict... 3\n",
      "predict... 4\n",
      "predict... 5\n",
      "\n",
      "Combined XGB/LGB/baseline/OLS predictions:\n",
      "   ParcelId  201610  201611  201612  201710  201711  201712\n",
      "0  10754147 -0.0015 -0.0015 -0.0015 -0.0015 -0.0015 -0.0015\n",
      "1  10759547 -0.0030 -0.0030 -0.0030 -0.0030 -0.0030 -0.0030\n",
      "2  10843547  0.2924  0.2924  0.2924  0.2924  0.2924  0.2924\n",
      "3  10859147  0.0313  0.0313  0.0313  0.0313  0.0313  0.0313\n",
      "4  10879947  0.0256  0.0256  0.0255  0.0256  0.0256  0.0255\n"
     ]
    }
   ],
   "source": [
    "OLS_WEIGHT = 0.0856\n",
    "\n",
    "\n",
    "print( \"\\nPredicting with OLS and combining with XGB/LGB/baseline predicitons: ...\" )\n",
    "for i in range(len(test_dates)):\n",
    "    test['transactiondate'] = test_dates[i]\n",
    "    pred = OLS_WEIGHT * reg.predict(get_features(test)) + (1-OLS_WEIGHT)*pred0.values[:,0]\n",
    "    submission[test_columns[i]] = [float(format(x, '.4f')) for x in pred]\n",
    "    print('predict...', i)\n",
    "\n",
    "print( \"\\nCombined XGB/LGB/baseline/OLS predictions:\" )\n",
    "print( submission.head() )\n"
   ]
  },
  {
   "cell_type": "code",
   "execution_count": 190,
   "metadata": {
    "ExecuteTime": {
     "end_time": "2017-08-28T12:37:09.685604Z",
     "start_time": "2017-08-28T12:36:41.445230Z"
    }
   },
   "outputs": [],
   "source": [
    "from datetime import datetime \n",
    "submission.to_csv('sub{}.csv'.format(datetime.now().strftime('%Y%m%d_%H%M%S')), index=False)\n"
   ]
  },
  {
   "cell_type": "code",
   "execution_count": null,
   "metadata": {},
   "outputs": [],
   "source": [
    "h2o.model.regression.h2o_mean_absolute_error(y_actual=,y_predicted=)"
   ]
  }
 ],
 "metadata": {
  "kernelspec": {
   "display_name": "Python 3",
   "language": "python",
   "name": "python3"
  },
  "language_info": {
   "codemirror_mode": {
    "name": "ipython",
    "version": 3
   },
   "file_extension": ".py",
   "mimetype": "text/x-python",
   "name": "python",
   "nbconvert_exporter": "python",
   "pygments_lexer": "ipython3",
   "version": "3.6.0"
  },
  "toc": {
   "colors": {
    "hover_highlight": "#DAA520",
    "running_highlight": "#FF0000",
    "selected_highlight": "#FFD700"
   },
   "moveMenuLeft": true,
   "nav_menu": {
    "height": "12px",
    "width": "252px"
   },
   "navigate_menu": true,
   "number_sections": true,
   "sideBar": true,
   "threshold": 4,
   "toc_cell": true,
   "toc_position": {
    "height": "836px",
    "left": "0px",
    "right": "1499px",
    "top": "130px",
    "width": "356px"
   },
   "toc_section_display": "block",
   "toc_window_display": true,
   "widenNotebook": false
  },
  "varInspector": {
   "cols": {
    "lenName": 16,
    "lenType": 16,
    "lenVar": 40
   },
   "kernels_config": {
    "python": {
     "delete_cmd_postfix": "",
     "delete_cmd_prefix": "del ",
     "library": "var_list.py",
     "varRefreshCmd": "print(var_dic_list())"
    },
    "r": {
     "delete_cmd_postfix": ") ",
     "delete_cmd_prefix": "rm(",
     "library": "var_list.r",
     "varRefreshCmd": "cat(var_dic_list()) "
    }
   },
   "position": {
    "height": "493px",
    "left": "1305px",
    "right": "20px",
    "top": "133px",
    "width": "478px"
   },
   "types_to_exclude": [
    "module",
    "function",
    "builtin_function_or_method",
    "instance",
    "_Feature"
   ],
   "window_display": false
  }
 },
 "nbformat": 4,
 "nbformat_minor": 2
}
