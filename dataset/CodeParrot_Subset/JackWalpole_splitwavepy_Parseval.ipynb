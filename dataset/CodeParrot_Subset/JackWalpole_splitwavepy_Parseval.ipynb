{
 "cells": [
  {
   "cell_type": "markdown",
   "metadata": {},
   "source": [
    "Check whether the Silver and Chan (1991) coefficients for their implementation of Parseval's theorem is correct for digitised data."
   ]
  },
  {
   "cell_type": "code",
   "execution_count": 1,
   "metadata": {
    "collapsed": true
   },
   "outputs": [],
   "source": [
    "%matplotlib inline\n",
    "import numpy as np\n",
    "import matplotlib.pyplot as plt\n",
    "import math\n",
    "from scipy import signal\n",
    "from scipy import stats"
   ]
  },
  {
   "cell_type": "markdown",
   "metadata": {},
   "source": [
    "Parsevals theorem when applied to discrete Fourier Transform looks like this.\n",
    "\n",
    "$\\sum _{n=0}^{N-1}|x[n]|^{2}={\\frac {1}{N}}\\sum _{k=0}^{N-1}|X[k]|^{2}$\n",
    "\n",
    "Source: https://en.wikipedia.org/wiki/Parseval%27s_theorem"
   ]
  },
  {
   "cell_type": "code",
   "execution_count": 57,
   "metadata": {},
   "outputs": [
    {
     "name": "stdout",
     "output_type": "stream",
     "text": [
      "time domain 2778.93808225\n",
      "fourier domain 2778.93808225\n",
      "difference 9.09494701773e-13\n",
      "percent 3.27281384059e-14\n"
     ]
    }
   ],
   "source": [
    "# check Parseval's theorem holds numerically \n",
    "nsamps=1000\n",
    "\n",
    "# window\n",
    "w = signal.tukey(nsamps,0.1)\n",
    "\n",
    "a = np.random.normal(0,1,nsamps) * w\n",
    "A = np.fft.fft(a)\n",
    "b = (1/np.sqrt(2*np.pi))*(signal.gaussian(nsamps,10))\n",
    "B = np.fft.fft(b)\n",
    "c = np.convolve(a,b,'same')\n",
    "C = np.fft.fft(c)\n",
    "\n",
    "# signal c is convolution of Gaussian noise (a) with a Gaussian wavelet (b)\n",
    "# C is the fourier transform of c.\n",
    "\n",
    "sumt = np.sum(c**2)\n",
    "sumf = np.sum(np.abs(C)**2)/nsamps\n",
    "\n",
    "print('time domain',sumt)\n",
    "print('fourier domain',sumf)\n",
    "print('difference',np.abs(sumt-sumf))\n",
    "print('percent', (np.abs(sumt-sumf)/sumt)*100)\n",
    "\n"
   ]
  },
  {
   "cell_type": "markdown",
   "metadata": {},
   "source": [
    "Furthermore by the convolution theorem: C = A \\* B.\n",
    "And therefore sum(C^2) = sum(A^2 * B^2)"
   ]
  },
  {
   "cell_type": "code",
   "execution_count": 58,
   "metadata": {},
   "outputs": [
    {
     "name": "stderr",
     "output_type": "stream",
     "text": [
      "/Users/glyjw/anaconda/envs/py35/lib/python3.5/site-packages/numpy/core/numeric.py:531: ComplexWarning: Casting complex values to real discards the imaginary part\n",
      "  return array(a, dtype, copy=False, order=order)\n"
     ]
    },
    {
     "name": "stdout",
     "output_type": "stream",
     "text": [
      "sum A*B 2779.02384468\n",
      "difference 0.0857624340774\n",
      "percent 0.00308615850872\n"
     ]
    },
    {
     "data": {
      "image/png": "[encoded data removed]",
      "text/plain": [
       "<matplotlib.figure.Figure at 0x113e41128>"
      ]
     },
     "metadata": {},
     "output_type": "display_data"
    }
   ],
   "source": [
    "AB = A * B\n",
    "ab = np.fft.ifft(AB)\n",
    "plt.plot(np.roll(ab,500))\n",
    "plt.plot(c)\n",
    "\n",
    "sumAB = np.sum(np.abs(A**2*B**2))/nsamps\n",
    "print('sum A*B',sumAB)\n",
    "print('difference',np.abs(sumt-sumAB))\n",
    "print('percent',(np.abs(sumt-sumAB)/sumt)*100)"
   ]
  },
  {
   "cell_type": "markdown",
   "metadata": {},
   "source": [
    "Parsevals theorem as applied in Silver and Chan (and Walsh).\n",
    "\n",
    "$\\sum _{n=0}^{N-1}|x[n]|^{2}={\\frac {1}{N}}\\sum _{k=1}^{N-2}|X[k]|^{2}+\\frac{1}_{2}\\sum|X[0,N-1]|$\n",
    "\n",
    "Source: https://en.wikipedia.org/wiki/Parseval%27s_theorem"
   ]
  },
  {
   "cell_type": "code",
   "execution_count": 68,
   "metadata": {
    "collapsed": true
   },
   "outputs": [],
   "source": [
    "def ndf(y,taper=True,detrend=True):\n",
    "    \"\"\"\n",
    "    Uses the improvement found by Walsh et al (2013).\n",
    "    By default will detrend data to ensure zero mean\n",
    "    and will taper edges using a Tukey filter affecting amplitudes of 5% of data at edges\n",
    "    \"\"\"\n",
    "\n",
    "    if taper is True:\n",
    "        y = y * signal.tukey(y.size,0.05)\n",
    "        \n",
    "    if detrend is True:\n",
    "        # ensure no trend on the noise trace\n",
    "        y = signal.detrend(y)\n",
    "\n",
    "  \n",
    "    Y = np.fft.fft(y)\n",
    "    amp = np.absolute(Y)\n",
    "    \n",
    "    # estimate E2 and E4 following Walsh et al (2013)\n",
    "    a = np.ones(Y.size)\n",
    "    a[0] = a[-1] = 0.5\n",
    "    E2 = np.sum( a * amp**2)\n",
    "    E4 = (np.sum( (4 * a**2 / 3) * amp**4))\n",
    "    \n",
    "    ndf = 2 * ( 2 * E2**2 / E4 - 1 )\n",
    "    \n",
    "    return ndf\n",
    "    \n",
    "def ndf2(y,taper=True,detrend=True):\n",
    "    \"\"\"\n",
    "    \n",
    "    \"\"\"\n",
    "\n",
    "    if taper is True:\n",
    "        y = y * signal.tukey(y.size,0.05)\n",
    "        \n",
    "    if detrend is True:\n",
    "        # ensure no trend on the noise trace\n",
    "        y = signal.detrend(y)\n",
    "\n",
    "  \n",
    "    Y = np.fft.fft(y)\n",
    "    amp = np.absolute(Y)**2\n",
    "    \n",
    "    E2 = np.sum(amp**2)\n",
    "    E4 = (np.sum( (4/3) * amp**4))\n",
    "    \n",
    "    ndf = 2 * ( 2 * E2**2 / E4 - 1 )\n",
    "    \n",
    "    return ndf"
   ]
  },
  {
   "cell_type": "code",
   "execution_count": 69,
   "metadata": {},
   "outputs": [
    {
     "name": "stdout",
     "output_type": "stream",
     "text": [
      "48.3596763722\n"
     ]
    }
   ],
   "source": [
    "print(ndf(c))"
   ]
  },
  {
   "cell_type": "code",
   "execution_count": 70,
   "metadata": {},
   "outputs": [
    {
     "name": "stdout",
     "output_type": "stream",
     "text": [
      "48.444600887\n"
     ]
    }
   ],
   "source": [
    "print(ndf2(c))"
   ]
  },
  {
   "cell_type": "code",
   "execution_count": 72,
   "metadata": {},
   "outputs": [
    {
     "data": {
      "text/plain": [
       "18.130707772254976"
      ]
     },
     "execution_count": 72,
     "metadata": {},
     "output_type": "execute_result"
    }
   ],
   "source": [
    "stats.moment(c,moment=4)"
   ]
  },
  {
   "cell_type": "code",
   "execution_count": null,
   "metadata": {
    "collapsed": true
   },
   "outputs": [],
   "source": []
  }
 ],
 "metadata": {
  "kernelspec": {
   "display_name": "Python 3",
   "language": "python",
   "name": "python3"
  },
  "language_info": {
   "codemirror_mode": {
    "name": "ipython",
    "version": 3
   },
   "file_extension": ".py",
   "mimetype": "text/x-python",
   "name": "python",
   "nbconvert_exporter": "python",
   "pygments_lexer": "ipython3",
   "version": "3.5.3"
  }
 },
 "nbformat": 4,
 "nbformat_minor": 2
}
