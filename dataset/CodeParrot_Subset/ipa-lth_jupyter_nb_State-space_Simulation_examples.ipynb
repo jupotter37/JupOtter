{
 "cells": [
  {
   "cell_type": "code",
   "execution_count": null,
   "metadata": {
    "collapsed": true
   },
   "outputs": [],
   "source": [
    "import numpy as np\n",
    "\n",
    "import matplotlib.pyplot as plt\n",
    "from scipy.optimize import minimize\n"
   ]
  },
  {
   "cell_type": "code",
   "execution_count": null,
   "metadata": {
    "collapsed": false
   },
   "outputs": [],
   "source": [
    "import optim_tools as tools"
   ]
  },
  {
   "cell_type": "code",
   "execution_count": null,
   "metadata": {
    "collapsed": true
   },
   "outputs": [],
   "source": [
    "# state-based simulation equation:\n",
    "# x_dot = A.x + B.u\n",
    "# y = C.x + D.u\n",
    "# e.g., u = -(k.T).x. u can be a non-linear \n",
    "# ref: Inverted Pendulum: System Modeling\n",
    "# http://ctms.engin.umich.edu/CTMS/index.php?example=InvertedPendulum&section=ControlStateSpace \n",
    "\n",
    "# test a Inverted Pendulum function\n",
    "M = 0.5;\n",
    "m = 0.2;\n",
    "b = 0.1;\n",
    "I = 0.006;\n",
    "g = 9.8;\n",
    "l = 0.3;\n",
    "\n",
    "p = I*(M+m)+M*m*(l**2); #denominator for the A and B matrices\n",
    "\n",
    "# State space matries: A, B, C, D\n",
    "A = np.matrix([[0      ,1              ,0           ,0],\n",
    "     [0 ,-(I+m*(l**2))*b/p  ,(m**2)*g*(l**2)/p   ,0],\n",
    "     [0      ,0              ,0           ,1],\n",
    "     [0 ,-(m*l*b)/p       ,m*g*l*(M+m)/p  ,0]]);\n",
    "\n",
    "B = np.matrix([[     0],\n",
    "     [(I+m*(l**2))/p],\n",
    "          [0],\n",
    "        [m*l/p],]);\n",
    "\n",
    "C = np.matrix([[1 ,0 ,0 ,0],\n",
    "     [0 ,0 ,1 ,0],]);\n",
    "\n",
    "D = np.matrix([[0],\n",
    "     [0]]);\n",
    "\n",
    "# initial X\n",
    "x0 = np.matrix(np.zeros(A.shape[0])).T\n",
    "\n",
    "#T: time \n",
    "T = np.arange(0, 5, 0.01) \n",
    "\n",
    "#s: input, e.g., step function with amplitude of 0.2\n",
    "s = 0.2*np.ones(len(T));"
   ]
  },
  {
   "cell_type": "code",
   "execution_count": null,
   "metadata": {
    "collapsed": true
   },
   "outputs": [],
   "source": [
    "# Regulator function\n",
    "def closedLoop(y, s, x):\n",
    "    # fill-in K matrix euation. Below is just a controller matrix for\n",
    "    # the Inverted Pendulum pendulum problem\n",
    "    K = np.array([-70.7107  ,-37.8345  ,105.5298   ,20.9238])\n",
    "    return s-K.dot(x)"
   ]
  },
  {
   "cell_type": "code",
   "execution_count": null,
   "metadata": {
    "collapsed": false
   },
   "outputs": [],
   "source": [
    "# opened loop \n",
    "y, u, u_sat = tools.simulate(A, B, C, D, tools.openLoop, s, T, x0=x0)\n",
    "plt.figure()\n",
    "line1, = plt.plot(T, np.array(y[0,:].T), 'b', label='cart position (m)')\n",
    "line2, = plt.plot(T, np.array(y[1,:].T), 'g', label='pendulum angle (radians)')\n",
    "first_legend = plt.legend(handles=[line1], loc=1)\n",
    "plt.legend(bbox_to_anchor=(1.05, 1), loc=2, borderaxespad=0.)\n",
    "plt.xlabel('T')\n",
    "plt.ylabel('y')\n",
    "plt.title('Step Responce for Open Loop')\n",
    "plt.show()"
   ]
  },
  {
   "cell_type": "code",
   "execution_count": null,
   "metadata": {
    "collapsed": false
   },
   "outputs": [],
   "source": [
    "# closed loop \n",
    "regulator_func = closedLoop\n",
    "y, u, u_sat= tools.simulate(A, B, C, D, regulator_func, s, T, x0=x0)\n",
    "plt.figure()\n",
    "line1, = plt.plot(T, np.array(y[0,:].T), 'b', label='cart position (m)')\n",
    "line2, = plt.plot(T, np.array(y[1,:].T), 'g', label='pendulum angle (radians)')\n",
    "first_legend = plt.legend(handles=[line1], loc=1)\n",
    "plt.legend(bbox_to_anchor=(1.05, 1), loc=2, borderaxespad=0.)\n",
    "plt.xlabel('T')\n",
    "plt.ylabel('y')\n",
    "plt.title('Step Responce for Closed Loop With Controller')\n",
    "plt.show()"
   ]
  },
  {
   "cell_type": "raw",
   "metadata": {},
   "source": [
    "Another DEMO (WSCV)"
   ]
  },
  {
   "cell_type": "code",
   "execution_count": null,
   "metadata": {
    "collapsed": true
   },
   "outputs": [],
   "source": [
    "# uboot\n",
    "A = np.matrix([[0., 1., 0.],\n",
    "              [0., 0., 1.],\n",
    "              [0., 0., -0.005]])\n",
    "\n",
    "#last line of Regelungsnormalform (characteristical polynom coefficients) in a colunm vector\n",
    "a = -A[-1,:].T\n",
    "\n",
    "B = np.matrix([[0], [0], [1.]])\n",
    "\n",
    "C = np.matrix([1, 0, 0])\n",
    "\n",
    "D = np.matrix([0]);\n",
    "\n",
    "u_max = 2.5e-5\n",
    "\n",
    "#T: time \n",
    "T = np.arange(0, 900, 1) \n",
    "\n",
    "#s: input, e.g., step function with amplitude of 0.2\n",
    "s = np.zeros(len(T));"
   ]
  },
  {
   "cell_type": "code",
   "execution_count": null,
   "metadata": {
    "collapsed": false
   },
   "outputs": [],
   "source": [
    "# Optimation Results for reulator\n",
    "a_hat      = np.matrix([[4.4469e-8], [2.3073e-5], [4.9148e-3]])\n",
    "a_hat_star = np.matrix([[1.073e-7], [4.919e-5], [10.4078e-3]])\n",
    "\n",
    "R1 = np.matrix([[1.6021e-5, 3.26098e-3, 0.4031],\n",
    "               [3.2698e-3, 1.5666,     163.46],\n",
    "               [0.4031,    163.46,     40.713]])"
   ]
  },
  {
   "cell_type": "code",
   "execution_count": null,
   "metadata": {
    "collapsed": false
   },
   "outputs": [],
   "source": [
    "# Defining functions\n",
    "def get_g(p, x, R1):\n",
    "    try:\n",
    "        p = p.squeeze() # This is weird\n",
    "    except:\n",
    "        pass\n",
    "    D_inv = np.diag([p**-3, p**-2, p**-1])\n",
    "    g = x.T.dot(D_inv).dot(R1).dot(D_inv).dot(x) - 1.0\n",
    "    # Update 2016: As of python 3.5, there is a new matrix_multiply symbol, @:\n",
    "    # g = x' @ D^-1 @ R1 @ D^-1 @ x - 1.0\n",
    "    return g.squeeze()\n",
    "print \"Test g\\n\", get_g(0.1, np.array([[1],[2],[3]]), R1)\n",
    "\n",
    "def get_kstar(p, a, a_hat_star):\n",
    "    try:\n",
    "        p = p.squeeze() # This is weird\n",
    "    except:\n",
    "        pass\n",
    "    D_inv = np.diag([p**-3, p**-2, p**-1])\n",
    "    kstar = D_inv.dot(a_hat_star) - a\n",
    "    return kstar\n",
    "print \"Test kstar\\n\", get_kstar(2, a, a_hat_star)\n"
   ]
  },
  {
   "cell_type": "code",
   "execution_count": null,
   "metadata": {
    "collapsed": true
   },
   "outputs": [],
   "source": [
    "assert np.allclose(get_g(0.1, np.array([[1],[2],[3]]), R1), np.matrix(2086332.877))\n",
    "assert np.allclose(get_kstar(2, a, a_hat_star), np.matrix([[  1.34125000e-08], [  1.22975000e-05], [  2.03900000e-04]]))"
   ]
  },
  {
   "cell_type": "code",
   "execution_count": null,
   "metadata": {
    "collapsed": false
   },
   "outputs": [],
   "source": [
    "func_kstar = lambda p: get_kstar(p, a, a_hat_star)\n",
    "assert np.allclose(func_kstar(0.4), np.matrix([[  1.67656250e-06], [  3.07437500e-04], [  2.10195000e-02]]))"
   ]
  },
  {
   "cell_type": "code",
   "execution_count": null,
   "metadata": {
    "collapsed": true
   },
   "outputs": [],
   "source": [
    "init_p = 0.0255226957823816\n",
    "\n",
    "pmin = 0.01\n",
    "# Initial state\n",
    "x0 = np.array([[0],[0],[-0.004]])\n",
    "\n",
    "p_t = np.zeros(len(T))"
   ]
  },
  {
   "cell_type": "code",
   "execution_count": null,
   "metadata": {
    "collapsed": false
   },
   "outputs": [],
   "source": [
    "def contr_func(y, s, x):\n",
    "    # fill-in K matrix euation.\n",
    "    ## Calc p\n",
    "    #print \"x:\",x\n",
    "    func_g = lambda p: np.absolute(get_g(p, x, R1))\n",
    "    res = minimize(func_g, pmin, method='Nelder-Mead')\n",
    "    # Saturate if too small\n",
    "    if res.x < pmin:\n",
    "        p = pmin\n",
    "    else:\n",
    "        p = res.x\n",
    "    #p_t[t] = p\n",
    "    #print \"p:\", p\n",
    "    \n",
    "    ## Calc K according to p\n",
    "    K = func_kstar(p).T\n",
    "\n",
    "    #print \"K:\", K\n",
    "    #print \"K.shape:\", K.shape\n",
    "    #print \"s:\", s\n",
    "    \n",
    "    # Calc u\n",
    "    u = s-K.dot(x)\n",
    "    \n",
    "    # Saturate u\n",
    "    u = tools.sat(u, u_max)\n",
    "    #print \"u\", u\n",
    "    \n",
    "    return u"
   ]
  },
  {
   "cell_type": "code",
   "execution_count": null,
   "metadata": {
    "collapsed": false
   },
   "outputs": [],
   "source": [
    "y, u, u_sat = tools.simulate(A, B, C, D, contr_func, s, T, u_max, x0)"
   ]
  },
  {
   "cell_type": "code",
   "execution_count": null,
   "metadata": {
    "collapsed": false
   },
   "outputs": [],
   "source": [
    "y2, u2, u2_sat = tools.simulate(A, B, C, D, lambda y, s, x: s-func_kstar(0.4).T.dot(x), s, T, u_max, x0)"
   ]
  },
  {
   "cell_type": "code",
   "execution_count": null,
   "metadata": {
    "collapsed": false
   },
   "outputs": [],
   "source": [
    "plt.figure()\n",
    "line1, = plt.plot(T, np.array(y[0,:].T), 'b', label='y')\n",
    "line2, = plt.plot(T, np.array(y2[0,:].T), 'r-', label='y2')\n",
    "\n",
    "first_legend = plt.legend(handles=[line1], loc=1)\n",
    "plt.legend(bbox_to_anchor=(1.05, 1), loc=2, borderaxespad=0.)\n",
    "plt.xlabel('T')\n",
    "plt.ylabel('y')\n",
    "plt.title('Step Response for Closed Loop With Controller')\n",
    "plt.show()"
   ]
  },
  {
   "cell_type": "code",
   "execution_count": null,
   "metadata": {
    "collapsed": false
   },
   "outputs": [],
   "source": [
    "plt.figure()\n",
    "line1, = plt.plot(T, u_sat, 'b', label='u')\n",
    "line2, = plt.plot(T, u2_sat, 'r-', label='u fixed')\n",
    "first_legend = plt.legend(handles=[line1, line2], loc=1)\n",
    "plt.legend(bbox_to_anchor=(1.05, 1), loc=2, borderaxespad=0.)\n",
    "plt.xlabel('T')\n",
    "plt.ylabel('y')\n",
    "plt.title('Output values')\n",
    "plt.show()"
   ]
  },
  {
   "cell_type": "code",
   "execution_count": null,
   "metadata": {
    "collapsed": false
   },
   "outputs": [],
   "source": []
  },
  {
   "cell_type": "code",
   "execution_count": null,
   "metadata": {
    "collapsed": true
   },
   "outputs": [],
   "source": []
  }
 ],
 "metadata": {
  "kernelspec": {
   "display_name": "Python 2",
   "language": "python",
   "name": "python2"
  },
  "language_info": {
   "codemirror_mode": {
    "name": "ipython",
    "version": 2
   },
   "file_extension": ".py",
   "mimetype": "text/x-python",
   "name": "python",
   "nbconvert_exporter": "python",
   "pygments_lexer": "ipython2",
   "version": "2.7.12"
  }
 },
 "nbformat": 4,
 "nbformat_minor": 2
}
