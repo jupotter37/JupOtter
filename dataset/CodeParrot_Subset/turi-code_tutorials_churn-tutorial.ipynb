{
 "cells": [
  {
   "cell_type": "markdown",
   "metadata": {},
   "source": [
    "# Forecasting customer churn \n",
    "\n",
    "Churn prediction is the task of identifying users that are likely to stop using a service, product or website. In this notebook, you will learn how to:\n",
    "\n",
    "#### Train & consume a model to forecast user churn\n",
    "* Define the boundary at which churn happens.\n",
    "* Define a churn period.\n",
    "* Train a model using data from the past.\n",
    "* Make predictions for probability of churn for each user."
   ]
  },
  {
   "cell_type": "markdown",
   "metadata": {},
   "source": [
    "### Let's get started!"
   ]
  },
  {
   "cell_type": "code",
   "execution_count": 13,
   "metadata": {
    "collapsed": false
   },
   "outputs": [],
   "source": [
    "import graphlab as gl\n",
    "import datetime\n",
    "gl.canvas.set_target('ipynb') # make sure plots appear inline"
   ]
  },
  {
   "cell_type": "markdown",
   "metadata": {
    "collapsed": true
   },
   "source": [
    "###  Load previously saved data\n",
    "\n",
    "In the previous notebook, we had saved the data in a binary format. Let us try and load the data back."
   ]
  },
  {
   "cell_type": "code",
   "execution_count": 4,
   "metadata": {
    "collapsed": false
   },
   "outputs": [],
   "source": [
    "interactions_ts = gl.TimeSeries(\"data/user_activity_data.ts/\")\n",
    "users = gl.SFrame(\"data/users.sf/\")"
   ]
  },
  {
   "cell_type": "markdown",
   "metadata": {},
   "source": [
    "## Training a churn predictor\n",
    "\n",
    "We define churn to be **no activity** within a period of time (called the `churn_period`). Hence,\n",
    "a user/customer is said to have churned if periods of activity is followed\n",
    "by no activity for a `churn_period` (for example, 30 days). \n",
    "\n",
    "<img src=\"https://dato.com/learn/userguide/churn_prediction/images/churn-illustration.png\", align=\"left\">"
   ]
  },
  {
   "cell_type": "code",
   "execution_count": 7,
   "metadata": {
    "collapsed": false
   },
   "outputs": [],
   "source": [
    "churn_period_oct =  datetime.datetime(year = 2011, month = 10, day = 1)"
   ]
  },
  {
   "cell_type": "markdown",
   "metadata": {},
   "source": [
    "### Making a train-validation split\n",
    "\n",
    "Next, we perform a **train-validation** split where we randomly split the data such that one split contains data for a `fraction` of the users while the second split contains all data for the rest of the users."
   ]
  },
  {
   "cell_type": "code",
   "execution_count": 8,
   "metadata": {
    "collapsed": false
   },
   "outputs": [],
   "source": [
    "(train, valid) = gl.churn_predictor.random_split(interactions_ts, user_id = 'CustomerID', fraction = 0.9, seed = 12)"
   ]
  },
  {
   "cell_type": "code",
   "execution_count": 9,
   "metadata": {
    "collapsed": false
   },
   "outputs": [
    {
     "name": "stdout",
     "output_type": "stream",
     "text": [
      "Users in the training dataset   : 3899\n",
      "Users in the validation dataset : 441\n"
     ]
    }
   ],
   "source": [
    "print \"Users in the training dataset   : %s\" % len(train['CustomerID'].unique())\n",
    "print \"Users in the validation dataset : %s\" % len(valid['CustomerID'].unique())"
   ]
  },
  {
   "cell_type": "markdown",
   "metadata": {},
   "source": [
    "### Training a churn predictor model"
   ]
  },
  {
   "cell_type": "code",
   "execution_count": 10,
   "metadata": {
    "collapsed": false,
    "scrolled": true
   },
   "outputs": [
    {
     "name": "stdout",
     "output_type": "stream",
     "text": [
      "PROGRESS: Grouping observation_data by user.\n",
      "PROGRESS: Resampling grouped observation_data by time-period 1 day, 0:00:00.\n"
     ]
    },
    {
     "data": {
      "text/html": [
       "<pre>InvoiceNo is a categorical variable with too many different values (16841) and will be ignored.</pre>"
      ],
      "text/plain": [
       "InvoiceNo is a categorical variable with too many different values (16841) and will be ignored."
      ]
     },
     "metadata": {},
     "output_type": "display_data"
    },
    {
     "data": {
      "text/html": [
       "<pre>StockCode is a categorical variable with too many different values (3649) and will be ignored.</pre>"
      ],
      "text/plain": [
       "StockCode is a categorical variable with too many different values (3649) and will be ignored."
      ]
     },
     "metadata": {},
     "output_type": "display_data"
    },
    {
     "data": {
      "text/html": [
       "<pre>Description is a categorical variable with too many different values (3845) and will be ignored.</pre>"
      ],
      "text/plain": [
       "Description is a categorical variable with too many different values (3845) and will be ignored."
      ]
     },
     "metadata": {},
     "output_type": "display_data"
    },
    {
     "name": "stdout",
     "output_type": "stream",
     "text": [
      "PROGRESS: Generating features at time-boundaries.\n",
      "PROGRESS: --------------------------------------------------\n",
      "PROGRESS: Features for 2011-09-30 17:00:00\n",
      "PROGRESS: Joining user_data with aggregated features.\n",
      "PROGRESS: --------------------------------------------------\n",
      "PROGRESS: Training a classifier model.\n"
     ]
    },
    {
     "data": {
      "text/html": [
       "<pre>Boosted trees classifier:</pre>"
      ],
      "text/plain": [
       "Boosted trees classifier:"
      ]
     },
     "metadata": {},
     "output_type": "display_data"
    },
    {
     "data": {
      "text/html": [
       "<pre>--------------------------------------------------------</pre>"
      ],
      "text/plain": [
       "--------------------------------------------------------"
      ]
     },
     "metadata": {},
     "output_type": "display_data"
    },
    {
     "data": {
      "text/html": [
       "<pre>Number of examples          : 3242</pre>"
      ],
      "text/plain": [
       "Number of examples          : 3242"
      ]
     },
     "metadata": {},
     "output_type": "display_data"
    },
    {
     "data": {
      "text/html": [
       "<pre>Number of classes           : 2</pre>"
      ],
      "text/plain": [
       "Number of classes           : 2"
      ]
     },
     "metadata": {},
     "output_type": "display_data"
    },
    {
     "data": {
      "text/html": [
       "<pre>Number of feature columns   : 17</pre>"
      ],
      "text/plain": [
       "Number of feature columns   : 17"
      ]
     },
     "metadata": {},
     "output_type": "display_data"
    },
    {
     "data": {
      "text/html": [
       "<pre>Number of unpacked features : 152</pre>"
      ],
      "text/plain": [
       "Number of unpacked features : 152"
      ]
     },
     "metadata": {},
     "output_type": "display_data"
    },
    {
     "data": {
      "text/html": [
       "<pre>+-----------+--------------+-------------------+-------------------+</pre>"
      ],
      "text/plain": [
       "+-----------+--------------+-------------------+-------------------+"
      ]
     },
     "metadata": {},
     "output_type": "display_data"
    },
    {
     "data": {
      "text/html": [
       "<pre>| Iteration | Elapsed Time | Training-accuracy | Training-log_loss |</pre>"
      ],
      "text/plain": [
       "| Iteration | Elapsed Time | Training-accuracy | Training-log_loss |"
      ]
     },
     "metadata": {},
     "output_type": "display_data"
    },
    {
     "data": {
      "text/html": [
       "<pre>+-----------+--------------+-------------------+-------------------+</pre>"
      ],
      "text/plain": [
       "+-----------+--------------+-------------------+-------------------+"
      ]
     },
     "metadata": {},
     "output_type": "display_data"
    },
    {
     "data": {
      "text/html": [
       "<pre>| 1         | 0.016911     | 0.783159          | 0.588051          |</pre>"
      ],
      "text/plain": [
       "| 1         | 0.016911     | 0.783159          | 0.588051          |"
      ]
     },
     "metadata": {},
     "output_type": "display_data"
    },
    {
     "data": {
      "text/html": [
       "<pre>| 2         | 0.031428     | 0.795188          | 0.528285          |</pre>"
      ],
      "text/plain": [
       "| 2         | 0.031428     | 0.795188          | 0.528285          |"
      ]
     },
     "metadata": {},
     "output_type": "display_data"
    },
    {
     "data": {
      "text/html": [
       "<pre>| 3         | 0.046039     | 0.808452          | 0.487217          |</pre>"
      ],
      "text/plain": [
       "| 3         | 0.046039     | 0.808452          | 0.487217          |"
      ]
     },
     "metadata": {},
     "output_type": "display_data"
    },
    {
     "data": {
      "text/html": [
       "<pre>| 4         | 0.063003     | 0.805367          | 0.461014          |</pre>"
      ],
      "text/plain": [
       "| 4         | 0.063003     | 0.805367          | 0.461014          |"
      ]
     },
     "metadata": {},
     "output_type": "display_data"
    },
    {
     "data": {
      "text/html": [
       "<pre>| 5         | 0.076169     | 0.810611          | 0.439372          |</pre>"
      ],
      "text/plain": [
       "| 5         | 0.076169     | 0.810611          | 0.439372          |"
      ]
     },
     "metadata": {},
     "output_type": "display_data"
    },
    {
     "data": {
      "text/html": [
       "<pre>| 6         | 0.095362     | 0.812461          | 0.422827          |</pre>"
      ],
      "text/plain": [
       "| 6         | 0.095362     | 0.812461          | 0.422827          |"
      ]
     },
     "metadata": {},
     "output_type": "display_data"
    },
    {
     "data": {
      "text/html": [
       "<pre>+-----------+--------------+-------------------+-------------------+</pre>"
      ],
      "text/plain": [
       "+-----------+--------------+-------------------+-------------------+"
      ]
     },
     "metadata": {},
     "output_type": "display_data"
    },
    {
     "data": {
      "text/html": [
       "<pre>Decision tree regression:</pre>"
      ],
      "text/plain": [
       "Decision tree regression:"
      ]
     },
     "metadata": {},
     "output_type": "display_data"
    },
    {
     "data": {
      "text/html": [
       "<pre>--------------------------------------------------------</pre>"
      ],
      "text/plain": [
       "--------------------------------------------------------"
      ]
     },
     "metadata": {},
     "output_type": "display_data"
    },
    {
     "data": {
      "text/html": [
       "<pre>Number of examples          : 3242</pre>"
      ],
      "text/plain": [
       "Number of examples          : 3242"
      ]
     },
     "metadata": {},
     "output_type": "display_data"
    },
    {
     "data": {
      "text/html": [
       "<pre>Number of features          : 17</pre>"
      ],
      "text/plain": [
       "Number of features          : 17"
      ]
     },
     "metadata": {},
     "output_type": "display_data"
    },
    {
     "data": {
      "text/html": [
       "<pre>Number of unpacked features : 152</pre>"
      ],
      "text/plain": [
       "Number of unpacked features : 152"
      ]
     },
     "metadata": {},
     "output_type": "display_data"
    },
    {
     "data": {
      "text/html": [
       "<pre>+-----------+--------------+--------------------+---------------+</pre>"
      ],
      "text/plain": [
       "+-----------+--------------+--------------------+---------------+"
      ]
     },
     "metadata": {},
     "output_type": "display_data"
    },
    {
     "data": {
      "text/html": [
       "<pre>| Iteration | Elapsed Time | Training-max_error | Training-rmse |</pre>"
      ],
      "text/plain": [
       "| Iteration | Elapsed Time | Training-max_error | Training-rmse |"
      ]
     },
     "metadata": {},
     "output_type": "display_data"
    },
    {
     "data": {
      "text/html": [
       "<pre>+-----------+--------------+--------------------+---------------+</pre>"
      ],
      "text/plain": [
       "+-----------+--------------+--------------------+---------------+"
      ]
     },
     "metadata": {},
     "output_type": "display_data"
    },
    {
     "data": {
      "text/html": [
       "<pre>| 1         | 0.019569     | 0.381705           | 0.224819      |</pre>"
      ],
      "text/plain": [
       "| 1         | 0.019569     | 0.381705           | 0.224819      |"
      ]
     },
     "metadata": {},
     "output_type": "display_data"
    },
    {
     "data": {
      "text/html": [
       "<pre>+-----------+--------------+--------------------+---------------+</pre>"
      ],
      "text/plain": [
       "+-----------+--------------+--------------------+---------------+"
      ]
     },
     "metadata": {},
     "output_type": "display_data"
    },
    {
     "name": "stdout",
     "output_type": "stream",
     "text": [
      "PROGRESS: --------------------------------------------------\n",
      "PROGRESS: Model training complete: Next steps\n",
      "PROGRESS: --------------------------------------------------\n",
      "PROGRESS: (1) Evaluate the model at various timestamps in the past:\n",
      "PROGRESS:       metrics = model.evaluate(data, time_in_past)\n",
      "PROGRESS: (2) Make a churn forecast for a timestamp in the future:\n",
      "PROGRESS:       predictions = model.predict(data, time_in_future)\n"
     ]
    }
   ],
   "source": [
    "model = gl.churn_predictor.create(train, user_id='CustomerID', \n",
    "              user_data = users, time_boundaries = [churn_period_oct])"
   ]
  },
  {
   "cell_type": "code",
   "execution_count": 11,
   "metadata": {
    "collapsed": false
   },
   "outputs": [
    {
     "data": {
      "text/plain": [
       "Class                          : ChurnPredictor\n",
       "\n",
       "Schema\n",
       "------\n",
       "Number of observations         : 362700\n",
       "Number of users                : 3899\n",
       "Number of feature columns      : 5\n",
       "Features used                  : ['InvoiceNo', 'StockCode', 'Description', 'Quantity', 'UnitPrice']\n",
       "\n",
       "Parameters\n",
       "----------\n",
       "Lookback periods               : [7, 14, 21, 60, 90]\n",
       "Number of time boundaries      : 1\n",
       "Time period                    : 1 day, 0:00:00\n",
       "Churn period                   : 30 days, 0:00:00"
      ]
     },
     "execution_count": 11,
     "metadata": {},
     "output_type": "execute_result"
    }
   ],
   "source": [
    "model"
   ]
  },
  {
   "cell_type": "markdown",
   "metadata": {},
   "source": [
    "## Consuming predictions made by the model"
   ]
  },
  {
   "cell_type": "markdown",
   "metadata": {},
   "source": [
    "Here the question to ask is will they churn after a certain period of time. To validate we can see if they user has used us after that evaluation period. Voila! I was confusing it with expiration time (customer churn not usage churn)"
   ]
  },
  {
   "cell_type": "code",
   "execution_count": 12,
   "metadata": {
    "collapsed": false
   },
   "outputs": [
    {
     "name": "stdout",
     "output_type": "stream",
     "text": [
      "PROGRESS: Making a churn forecast for the time window:\n",
      "PROGRESS: --------------------------------------------------\n",
      "PROGRESS:  Start : 2011-12-09 12:08:00\n",
      "PROGRESS:  End   : 2012-01-08 12:08:00\n",
      "PROGRESS: --------------------------------------------------\n",
      "PROGRESS: Grouping dataset by user.\n",
      "PROGRESS: Resampling grouped observation_data by time-period 1 day, 0:00:00.\n"
     ]
    },
    {
     "data": {
      "text/html": [
       "<pre>InvoiceNo is a categorical variable with too many different values (16841) and will be ignored.</pre>"
      ],
      "text/plain": [
       "InvoiceNo is a categorical variable with too many different values (16841) and will be ignored."
      ]
     },
     "metadata": {},
     "output_type": "display_data"
    },
    {
     "data": {
      "text/html": [
       "<pre>StockCode is a categorical variable with too many different values (3649) and will be ignored.</pre>"
      ],
      "text/plain": [
       "StockCode is a categorical variable with too many different values (3649) and will be ignored."
      ]
     },
     "metadata": {},
     "output_type": "display_data"
    },
    {
     "data": {
      "text/html": [
       "<pre>Description is a categorical variable with too many different values (3845) and will be ignored.</pre>"
      ],
      "text/plain": [
       "Description is a categorical variable with too many different values (3845) and will be ignored."
      ]
     },
     "metadata": {},
     "output_type": "display_data"
    },
    {
     "name": "stdout",
     "output_type": "stream",
     "text": [
      "PROGRESS: Generating features for boundary 2011-12-09 12:08:00.\n",
      "PROGRESS: Joining user_data with aggregated features.\n"
     ]
    },
    {
     "data": {
      "text/html": [
       "<div style=\"max-height:1000px;max-width:1500px;overflow:auto;\"><table frame=\"box\" rules=\"cols\">\n",
       "    <tr>\n",
       "        <th style=\"padding-left: 1em; padding-right: 1em; text-align: center\">CustomerID</th>\n",
       "        <th style=\"padding-left: 1em; padding-right: 1em; text-align: center\">probability</th>\n",
       "    </tr>\n",
       "    <tr>\n",
       "        <td style=\"padding-left: 1em; padding-right: 1em; text-align: center; vertical-align: top\">16200</td>\n",
       "        <td style=\"padding-left: 1em; padding-right: 1em; text-align: center; vertical-align: top\">0.38116106391</td>\n",
       "    </tr>\n",
       "    <tr>\n",
       "        <td style=\"padding-left: 1em; padding-right: 1em; text-align: center; vertical-align: top\">17383</td>\n",
       "        <td style=\"padding-left: 1em; padding-right: 1em; text-align: center; vertical-align: top\">0.885241806507</td>\n",
       "    </tr>\n",
       "    <tr>\n",
       "        <td style=\"padding-left: 1em; padding-right: 1em; text-align: center; vertical-align: top\">15910</td>\n",
       "        <td style=\"padding-left: 1em; padding-right: 1em; text-align: center; vertical-align: top\">0.740143716335</td>\n",
       "    </tr>\n",
       "    <tr>\n",
       "        <td style=\"padding-left: 1em; padding-right: 1em; text-align: center; vertical-align: top\">16718</td>\n",
       "        <td style=\"padding-left: 1em; padding-right: 1em; text-align: center; vertical-align: top\">0.783465206623</td>\n",
       "    </tr>\n",
       "    <tr>\n",
       "        <td style=\"padding-left: 1em; padding-right: 1em; text-align: center; vertical-align: top\">16222</td>\n",
       "        <td style=\"padding-left: 1em; padding-right: 1em; text-align: center; vertical-align: top\">0.783465206623</td>\n",
       "    </tr>\n",
       "    <tr>\n",
       "        <td style=\"padding-left: 1em; padding-right: 1em; text-align: center; vertical-align: top\">16899</td>\n",
       "        <td style=\"padding-left: 1em; padding-right: 1em; text-align: center; vertical-align: top\">0.143798291683</td>\n",
       "    </tr>\n",
       "    <tr>\n",
       "        <td style=\"padding-left: 1em; padding-right: 1em; text-align: center; vertical-align: top\">12732</td>\n",
       "        <td style=\"padding-left: 1em; padding-right: 1em; text-align: center; vertical-align: top\">0.946555435658</td>\n",
       "    </tr>\n",
       "    <tr>\n",
       "        <td style=\"padding-left: 1em; padding-right: 1em; text-align: center; vertical-align: top\">13194</td>\n",
       "        <td style=\"padding-left: 1em; padding-right: 1em; text-align: center; vertical-align: top\">0.946781158447</td>\n",
       "    </tr>\n",
       "    <tr>\n",
       "        <td style=\"padding-left: 1em; padding-right: 1em; text-align: center; vertical-align: top\">14625</td>\n",
       "        <td style=\"padding-left: 1em; padding-right: 1em; text-align: center; vertical-align: top\">0.743798315525</td>\n",
       "    </tr>\n",
       "    <tr>\n",
       "        <td style=\"padding-left: 1em; padding-right: 1em; text-align: center; vertical-align: top\">13242</td>\n",
       "        <td style=\"padding-left: 1em; padding-right: 1em; text-align: center; vertical-align: top\">0.918005168438</td>\n",
       "    </tr>\n",
       "</table>\n",
       "[441 rows x 2 columns]<br/>Note: Only the head of the SFrame is printed.<br/>You can use print_rows(num_rows=m, num_columns=n) to print more rows and columns.\n",
       "</div>"
      ],
      "text/plain": [
       "Columns:\n",
       "\tCustomerID\tstr\n",
       "\tprobability\tfloat\n",
       "\n",
       "Rows: 441\n",
       "\n",
       "Data:\n",
       "+------------+----------------+\n",
       "| CustomerID |  probability   |\n",
       "+------------+----------------+\n",
       "|   16200    | 0.38116106391  |\n",
       "|   17383    | 0.885241806507 |\n",
       "|   15910    | 0.740143716335 |\n",
       "|   16718    | 0.783465206623 |\n",
       "|   16222    | 0.783465206623 |\n",
       "|   16899    | 0.143798291683 |\n",
       "|   12732    | 0.946555435658 |\n",
       "|   13194    | 0.946781158447 |\n",
       "|   14625    | 0.743798315525 |\n",
       "|   13242    | 0.918005168438 |\n",
       "+------------+----------------+\n",
       "[441 rows x 2 columns]\n",
       "Note: Only the head of the SFrame is printed.\n",
       "You can use print_rows(num_rows=m, num_columns=n) to print more rows and columns."
      ]
     },
     "execution_count": 12,
     "metadata": {},
     "output_type": "execute_result"
    }
   ],
   "source": [
    "predictions = model.predict(valid, user_data=users)\n",
    "predictions"
   ]
  },
  {
   "cell_type": "code",
   "execution_count": 15,
   "metadata": {
    "collapsed": false
   },
   "outputs": [
    {
     "data": {
      "application/javascript": [
       "$(\"head\").append($(\"<link/>\").attr({\n",
       "  rel:  \"stylesheet\",\n",
       "  type: \"text/css\",\n",
       "  href: \"//cdnjs.cloudflare.com/ajax/libs/font-awesome/4.1.0/css/font-awesome.min.css\"\n",
       "}));\n",
       "$(\"head\").append($(\"<link/>\").attr({\n",
       "  rel:  \"stylesheet\",\n",
       "  type: \"text/css\",\n",
       "  href: \"https://static.turi.com/products/graphlab-create/2.0/canvas/css/canvas.css\"\n",
       "}));\n",
       "\n",
       "            (function(){\n",
       "\n",
       "                var e = null;\n",
       "                if (typeof element == 'undefined') {\n",
       "                    var scripts = document.getElementsByTagName('script');\n",
       "                    var thisScriptTag = scripts[scripts.length-1];\n",
       "                    var parentDiv = thisScriptTag.parentNode;\n",
       "                    e = document.createElement('div');\n",
       "                    parentDiv.appendChild(e);\n",
       "                } else {\n",
       "                    e = element[0];\n",
       "                }\n",
       "\n",
       "                if (typeof requirejs !== 'undefined') {\n",
       "                    // disable load timeout; ipython_app.js is large and can take a while to load.\n",
       "                    requirejs.config({waitSeconds: 0});\n",
       "                }\n",
       "\n",
       "                require(['https://static.turi.com/products/graphlab-create/2.0/canvas/js/ipython_app.js'], function(IPythonApp){\n",
       "                    var app = new IPythonApp();\n",
       "                    app.attachView('sarray','Numeric', {\"ipython\": true, \"sketch\": {\"std\": 0.22393096966945897, \"complete\": true, \"min\": 0.05183638259768486, \"max\": 0.9585344195365906, \"quantile\": [0.05183638259768486, 0.0748429000377655, 0.10772302001714706, 0.13946884870529175, 0.15893687307834625, 0.19765278697013855, 0.24832791090011597, 0.30272164940834045, 0.3545815646648407, 0.387518972158432, 0.4308525621891022, 0.4467941224575043, 0.45742514729499817, 0.48038843274116516, 0.49982160329818726, 0.5143663883209229, 0.5244508981704712, 0.539721667766571, 0.5542581677436829, 0.564169704914093, 0.5752626061439514, 0.5752626061439514, 0.5752626061439514, 0.5844646096229553, 0.5952397584915161, 0.6172424554824829, 0.6182981729507446, 0.6205260157585144, 0.6238523125648499, 0.632646918296814, 0.632646918296814, 0.6399292945861816, 0.6439979672431946, 0.6541789174079895, 0.6590765714645386, 0.6590765714645386, 0.6663143038749695, 0.6715797185897827, 0.6798243522644043, 0.6942123770713806, 0.7002875804901123, 0.703136146068573, 0.7224164009094238, 0.7327075600624084, 0.7346290349960327, 0.7388322949409485, 0.7437983155250549, 0.7468530535697937, 0.7571664452552795, 0.7679545283317566, 0.7701910734176636, 0.7751326560974121, 0.7947838306427002, 0.7963475584983826, 0.7963475584983826, 0.8027689456939697, 0.8184019923210144, 0.8194398880004883, 0.8276111483573914, 0.8294548392295837, 0.8531221747398376, 0.8667483329772949, 0.8701205849647522, 0.877790093421936, 0.8829717636108398, 0.8856692314147949, 0.8940486311912537, 0.8951901793479919, 0.8961284160614014, 0.9007779359817505, 0.9041605591773987, 0.9138113260269165, 0.9138113260269165, 0.9138113260269165, 0.9138113260269165, 0.9138113260269165, 0.9164443016052246, 0.9164443016052246, 0.9164443016052246, 0.9180051684379578, 0.9221947193145752, 0.9234762787818909, 0.9250946044921875, 0.9261578321456909, 0.9353371858596802, 0.9384459853172302, 0.9426116943359375, 0.945480465888977, 0.9467811584472656, 0.9467811584472656, 0.9467811584472656, 0.9504307508468628, 0.9504307508468628, 0.9504307508468628, 0.9504307508468628, 0.9504307508468628, 0.9555338621139526, 0.9557324647903442, 0.9572984576225281, 0.9585344195365906, 0.9585344195365906], \"median\": 0.7701910734176636, \"numeric\": true, \"num_unique\": 261, \"num_undefined\": 0, \"var\": 0.05014507917710415, \"progress\": 1.0, \"size\": 441, \"frequent_items\": {\"0.701265811920166\": {\"frequency\": 1, \"value\": 0.701265811920166}, \"0.9467811584472656\": {\"frequency\": 12, \"value\": 0.9467811584472656}, \"0.877790093421936\": {\"frequency\": 1, \"value\": 0.877790093421936}, \"0.9426116943359375\": {\"frequency\": 3, \"value\": 0.9426116943359375}, \"0.8975792527198792\": {\"frequency\": 1, \"value\": 0.8975792527198792}, \"0.7347737550735474\": {\"frequency\": 1, \"value\": 0.7347737550735474}, \"0.7947838306427002\": {\"frequency\": 2, \"value\": 0.7947838306427002}, \"0.8033560514450073\": {\"frequency\": 1, \"value\": 0.8033560514450073}, \"0.41434040665626526\": {\"frequency\": 1, \"value\": 0.41434040665626526}, \"0.7468530535697937\": {\"frequency\": 1, \"value\": 0.7468530535697937}, \"0.5143663883209229\": {\"frequency\": 1, \"value\": 0.5143663883209229}, \"0.8780787587165833\": {\"frequency\": 1, \"value\": 0.8780787587165833}, \"0.4426262378692627\": {\"frequency\": 1, \"value\": 0.4426262378692627}, \"0.9370612502098083\": {\"frequency\": 1, \"value\": 0.9370612502098083}, \"0.9038738012313843\": {\"frequency\": 1, \"value\": 0.9038738012313843}, \"0.8945025205612183\": {\"frequency\": 1, \"value\": 0.8945025205612183}, \"0.9210834503173828\": {\"frequency\": 1, \"value\": 0.9210834503173828}, \"0.7621189951896667\": {\"frequency\": 1, \"value\": 0.7621189951896667}, \"0.659233570098877\": {\"frequency\": 1, \"value\": 0.659233570098877}, \"0.6942123770713806\": {\"frequency\": 2, \"value\": 0.6942123770713806}, \"0.5859037041664124\": {\"frequency\": 1, \"value\": 0.5859037041664124}, \"0.9491391777992249\": {\"frequency\": 1, \"value\": 0.9491391777992249}, \"0.8585516214370728\": {\"frequency\": 2, \"value\": 0.8585516214370728}, \"0.9384459853172302\": {\"frequency\": 1, \"value\": 0.9384459853172302}, \"0.6205260157585144\": {\"frequency\": 1, \"value\": 0.6205260157585144}, \"0.9248130321502686\": {\"frequency\": 1, \"value\": 0.9248130321502686}, \"0.10772302001714706\": {\"frequency\": 1, \"value\": 0.10772302001714706}, \"0.8856692314147949\": {\"frequency\": 1, \"value\": 0.8856692314147949}, \"0.871472179889679\": {\"frequency\": 1, \"value\": 0.871472179889679}, \"0.9482344388961792\": {\"frequency\": 1, \"value\": 0.9482344388961792}, \"0.8219804167747498\": {\"frequency\": 1, \"value\": 0.8219804167747498}, \"0.6524222493171692\": {\"frequency\": 1, \"value\": 0.6524222493171692}, \"0.09741860628128052\": {\"frequency\": 1, \"value\": 0.09741860628128052}, \"0.828248143196106\": {\"frequency\": 4, \"value\": 0.828248143196106}, \"0.5156425833702087\": {\"frequency\": 1, \"value\": 0.5156425833702087}, \"0.8276111483573914\": {\"frequency\": 1, \"value\": 0.8276111483573914}, \"0.9355484247207642\": {\"frequency\": 1, \"value\": 0.9355484247207642}, \"0.9572984576225281\": {\"frequency\": 6, \"value\": 0.9572984576225281}, \"0.6445935964584351\": {\"frequency\": 1, \"value\": 0.6445935964584351}, \"0.30272164940834045\": {\"frequency\": 1, \"value\": 0.30272164940834045}, \"0.7192287445068359\": {\"frequency\": 1, \"value\": 0.7192287445068359}, \"0.8348711729049683\": {\"frequency\": 1, \"value\": 0.8348711729049683}, \"0.5173963308334351\": {\"frequency\": 1, \"value\": 0.5173963308334351}, \"0.9164443016052246\": {\"frequency\": 14, \"value\": 0.9164443016052246}, \"0.6997735500335693\": {\"frequency\": 1, \"value\": 0.6997735500335693}, \"0.17511868476867676\": {\"frequency\": 1, \"value\": 0.17511868476867676}, \"0.15893687307834625\": {\"frequency\": 1, \"value\": 0.15893687307834625}, \"0.13946884870529175\": {\"frequency\": 1, \"value\": 0.13946884870529175}, \"0.8852418065071106\": {\"frequency\": 1, \"value\": 0.8852418065071106}, \"0.6172424554824829\": {\"frequency\": 2, \"value\": 0.6172424554824829}, \"0.8766457438468933\": {\"frequency\": 1, \"value\": 0.8766457438468933}, \"0.9096469879150391\": {\"frequency\": 1, \"value\": 0.9096469879150391}, \"0.8111796975135803\": {\"frequency\": 1, \"value\": 0.8111796975135803}, \"0.8827760219573975\": {\"frequency\": 1, \"value\": 0.8827760219573975}, \"0.6793200373649597\": {\"frequency\": 1, \"value\": 0.6793200373649597}, \"0.5542581677436829\": {\"frequency\": 4, \"value\": 0.5542581677436829}, \"0.49982160329818726\": {\"frequency\": 1, \"value\": 0.49982160329818726}, \"0.9250946044921875\": {\"frequency\": 3, \"value\": 0.9250946044921875}, \"0.45742514729499817\": {\"frequency\": 1, \"value\": 0.45742514729499817}, \"0.539721667766571\": {\"frequency\": 1, \"value\": 0.539721667766571}, \"0.8940486311912537\": {\"frequency\": 1, \"value\": 0.8940486311912537}, \"0.9504307508468628\": {\"frequency\": 20, \"value\": 0.9504307508468628}, \"0.5919742584228516\": {\"frequency\": 1, \"value\": 0.5919742584228516}, \"0.9346447587013245\": {\"frequency\": 1, \"value\": 0.9346447587013245}, \"0.5952397584915161\": {\"frequency\": 1, \"value\": 0.5952397584915161}, \"0.30700060725212097\": {\"frequency\": 1, \"value\": 0.30700060725212097}, \"0.6917909979820251\": {\"frequency\": 1, \"value\": 0.6917909979820251}, \"0.9180051684379578\": {\"frequency\": 4, \"value\": 0.9180051684379578}, \"0.7363684177398682\": {\"frequency\": 1, \"value\": 0.7363684177398682}, \"0.9555338621139526\": {\"frequency\": 4, \"value\": 0.9555338621139526}, \"0.5690762400627136\": {\"frequency\": 2, \"value\": 0.5690762400627136}, \"0.632646918296814\": {\"frequency\": 9, \"value\": 0.632646918296814}, \"0.1457878202199936\": {\"frequency\": 1, \"value\": 0.1457878202199936}, \"0.3039311170578003\": {\"frequency\": 1, \"value\": 0.3039311170578003}, \"0.8961284160614014\": {\"frequency\": 1, \"value\": 0.8961284160614014}, \"0.7710366249084473\": {\"frequency\": 2, \"value\": 0.7710366249084473}, \"0.05183638259768486\": {\"frequency\": 1, \"value\": 0.05183638259768486}, \"0.625528872013092\": {\"frequency\": 1, \"value\": 0.625528872013092}, \"0.5752626061439514\": {\"frequency\": 12, \"value\": 0.5752626061439514}, \"0.6715797185897827\": {\"frequency\": 1, \"value\": 0.6715797185897827}, \"0.36750155687332153\": {\"frequency\": 1, \"value\": 0.36750155687332153}, \"0.7003943920135498\": {\"frequency\": 1, \"value\": 0.7003943920135498}, \"0.3615945279598236\": {\"frequency\": 1, \"value\": 0.3615945279598236}, \"0.6386108994483948\": {\"frequency\": 1, \"value\": 0.6386108994483948}, \"0.5244508981704712\": {\"frequency\": 2, \"value\": 0.5244508981704712}, \"0.24832791090011597\": {\"frequency\": 1, \"value\": 0.24832791090011597}, \"0.5772693753242493\": {\"frequency\": 1, \"value\": 0.5772693753242493}, \"0.4876704216003418\": {\"frequency\": 1, \"value\": 0.4876704216003418}, \"0.7339047193527222\": {\"frequency\": 3, \"value\": 0.7339047193527222}, \"0.6983783841133118\": {\"frequency\": 1, \"value\": 0.6983783841133118}, \"0.3545815646648407\": {\"frequency\": 1, \"value\": 0.3545815646648407}, \"0.6197041869163513\": {\"frequency\": 1, \"value\": 0.6197041869163513}, \"0.6122081279754639\": {\"frequency\": 1, \"value\": 0.6122081279754639}, \"0.9355481266975403\": {\"frequency\": 1, \"value\": 0.9355481266975403}, \"0.5128278732299805\": {\"frequency\": 1, \"value\": 0.5128278732299805}, \"0.9431005716323853\": {\"frequency\": 1, \"value\": 0.9431005716323853}, \"0.6438167691230774\": {\"frequency\": 1, \"value\": 0.6438167691230774}, \"0.4431300461292267\": {\"frequency\": 1, \"value\": 0.4431300461292267}, \"0.9261578321456909\": {\"frequency\": 2, \"value\": 0.9261578321456909}, \"0.7239661812782288\": {\"frequency\": 2, \"value\": 0.7239661812782288}, \"0.9585344195365906\": {\"frequency\": 6, \"value\": 0.9585344195365906}, \"0.9138113260269165\": {\"frequency\": 19, \"value\": 0.9138113260269165}, \"0.9465554356575012\": {\"frequency\": 1, \"value\": 0.9465554356575012}, \"0.9129931926727295\": {\"frequency\": 1, \"value\": 0.9129931926727295}, \"0.5412553548812866\": {\"frequency\": 1, \"value\": 0.5412553548812866}, \"0.8956645727157593\": {\"frequency\": 1, \"value\": 0.8956645727157593}, \"0.08390458673238754\": {\"frequency\": 1, \"value\": 0.08390458673238754}, \"0.6350474953651428\": {\"frequency\": 1, \"value\": 0.6350474953651428}, \"0.6215439438819885\": {\"frequency\": 1, \"value\": 0.6215439438819885}, \"0.12799999117851257\": {\"frequency\": 1, \"value\": 0.12799999117851257}, \"0.8667483329772949\": {\"frequency\": 1, \"value\": 0.8667483329772949}, \"0.8859477639198303\": {\"frequency\": 1, \"value\": 0.8859477639198303}, \"0.892306923866272\": {\"frequency\": 1, \"value\": 0.892306923866272}, \"0.1286158710718155\": {\"frequency\": 1, \"value\": 0.1286158710718155}, \"0.9572540521621704\": {\"frequency\": 1, \"value\": 0.9572540521621704}, \"0.5052105784416199\": {\"frequency\": 1, \"value\": 0.5052105784416199}, \"0.9007779359817505\": {\"frequency\": 2, \"value\": 0.9007779359817505}, \"0.2286011278629303\": {\"frequency\": 1, \"value\": 0.2286011278629303}, \"0.3023127317428589\": {\"frequency\": 1, \"value\": 0.3023127317428589}, \"0.8996046185493469\": {\"frequency\": 1, \"value\": 0.8996046185493469}, \"0.8567689657211304\": {\"frequency\": 1, \"value\": 0.8567689657211304}, \"0.6590765714645386\": {\"frequency\": 9, \"value\": 0.6590765714645386}, \"0.945480465888977\": {\"frequency\": 2, \"value\": 0.945480465888977}, \"0.7679545283317566\": {\"frequency\": 1, \"value\": 0.7679545283317566}, \"0.7701910734176636\": {\"frequency\": 1, \"value\": 0.7701910734176636}, \"0.7459298968315125\": {\"frequency\": 1, \"value\": 0.7459298968315125}, \"0.9070167541503906\": {\"frequency\": 1, \"value\": 0.9070167541503906}, \"0.7115903496742249\": {\"frequency\": 1, \"value\": 0.7115903496742249}, \"0.7571664452552795\": {\"frequency\": 1, \"value\": 0.7571664452552795}, \"0.14379829168319702\": {\"frequency\": 1, \"value\": 0.14379829168319702}, \"0.6663143038749695\": {\"frequency\": 1, \"value\": 0.6663143038749695}, \"0.9353371858596802\": {\"frequency\": 1, \"value\": 0.9353371858596802}, \"0.8294548392295837\": {\"frequency\": 1, \"value\": 0.8294548392295837}, \"0.9234762787818909\": {\"frequency\": 1, \"value\": 0.9234762787818909}, \"0.7567750811576843\": {\"frequency\": 1, \"value\": 0.7567750811576843}, \"0.27292072772979736\": {\"frequency\": 1, \"value\": 0.27292072772979736}, \"0.7388322949409485\": {\"frequency\": 1, \"value\": 0.7388322949409485}, \"0.835354208946228\": {\"frequency\": 1, \"value\": 0.835354208946228}, \"0.6798243522644043\": {\"frequency\": 1, \"value\": 0.6798243522644043}, \"0.5496014952659607\": {\"frequency\": 1, \"value\": 0.5496014952659607}, \"0.5388874411582947\": {\"frequency\": 1, \"value\": 0.5388874411582947}, \"0.9385327100753784\": {\"frequency\": 2, \"value\": 0.9385327100753784}, \"0.7327075600624084\": {\"frequency\": 1, \"value\": 0.7327075600624084}, \"0.6211680769920349\": {\"frequency\": 2, \"value\": 0.6211680769920349}, \"0.6725680232048035\": {\"frequency\": 1, \"value\": 0.6725680232048035}, \"0.45122501254081726\": {\"frequency\": 1, \"value\": 0.45122501254081726}, \"0.5573354363441467\": {\"frequency\": 1, \"value\": 0.5573354363441467}, \"0.7346290349960327\": {\"frequency\": 1, \"value\": 0.7346290349960327}, \"0.9303160905838013\": {\"frequency\": 1, \"value\": 0.9303160905838013}, \"0.2304927408695221\": {\"frequency\": 1, \"value\": 0.2304927408695221}, \"0.6541789174079895\": {\"frequency\": 1, \"value\": 0.6541789174079895}, \"0.9402639269828796\": {\"frequency\": 1, \"value\": 0.9402639269828796}, \"0.38116106390953064\": {\"frequency\": 1, \"value\": 0.38116106390953064}, \"0.7745864391326904\": {\"frequency\": 1, \"value\": 0.7745864391326904}, \"0.7663605809211731\": {\"frequency\": 1, \"value\": 0.7663605809211731}, \"0.14615078270435333\": {\"frequency\": 1, \"value\": 0.14615078270435333}, \"0.6155088543891907\": {\"frequency\": 1, \"value\": 0.6155088543891907}, \"0.7945656180381775\": {\"frequency\": 1, \"value\": 0.7945656180381775}, \"0.7555357217788696\": {\"frequency\": 2, \"value\": 0.7555357217788696}, \"0.06627363711595535\": {\"frequency\": 2, \"value\": 0.06627363711595535}, \"0.7368428707122803\": {\"frequency\": 1, \"value\": 0.7368428707122803}, \"0.8194398880004883\": {\"frequency\": 4, \"value\": 0.8194398880004883}, \"0.3111743927001953\": {\"frequency\": 1, \"value\": 0.3111743927001953}, \"0.9234904646873474\": {\"frequency\": 2, \"value\": 0.9234904646873474}, \"0.11536256223917007\": {\"frequency\": 1, \"value\": 0.11536256223917007}, \"0.7437983155250549\": {\"frequency\": 4, \"value\": 0.7437983155250549}, \"0.8838415145874023\": {\"frequency\": 1, \"value\": 0.8838415145874023}, \"0.7687350511550903\": {\"frequency\": 3, \"value\": 0.7687350511550903}, \"0.4944811761379242\": {\"frequency\": 1, \"value\": 0.4944811761379242}, \"0.564169704914093\": {\"frequency\": 1, \"value\": 0.564169704914093}, \"0.4493098556995392\": {\"frequency\": 1, \"value\": 0.4493098556995392}, \"0.5918514132499695\": {\"frequency\": 1, \"value\": 0.5918514132499695}, \"0.7461090683937073\": {\"frequency\": 2, \"value\": 0.7461090683937073}, \"0.8184019923210144\": {\"frequency\": 1, \"value\": 0.8184019923210144}, \"0.9041605591773987\": {\"frequency\": 2, \"value\": 0.9041605591773987}, \"0.8789341449737549\": {\"frequency\": 1, \"value\": 0.8789341449737549}, \"0.8857892155647278\": {\"frequency\": 2, \"value\": 0.8857892155647278}, \"0.9520075917243958\": {\"frequency\": 1, \"value\": 0.9520075917243958}, \"0.46651938557624817\": {\"frequency\": 1, \"value\": 0.46651938557624817}, \"0.6182981729507446\": {\"frequency\": 6, \"value\": 0.6182981729507446}, \"0.7668089270591736\": {\"frequency\": 2, \"value\": 0.7668089270591736}, \"0.47711455821990967\": {\"frequency\": 1, \"value\": 0.47711455821990967}, \"0.6238523125648499\": {\"frequency\": 1, \"value\": 0.6238523125648499}, \"0.33007702231407166\": {\"frequency\": 1, \"value\": 0.33007702231407166}, \"0.675885796546936\": {\"frequency\": 1, \"value\": 0.675885796546936}, \"0.9408700466156006\": {\"frequency\": 1, \"value\": 0.9408700466156006}, \"0.46156519651412964\": {\"frequency\": 1, \"value\": 0.46156519651412964}, \"0.18345779180526733\": {\"frequency\": 1, \"value\": 0.18345779180526733}, \"0.7963475584983826\": {\"frequency\": 8, \"value\": 0.7963475584983826}, \"0.11704085022211075\": {\"frequency\": 1, \"value\": 0.11704085022211075}, \"0.8671870231628418\": {\"frequency\": 1, \"value\": 0.8671870231628418}, \"0.5844646096229553\": {\"frequency\": 1, \"value\": 0.5844646096229553}, \"0.5036143660545349\": {\"frequency\": 1, \"value\": 0.5036143660545349}, \"0.9151095747947693\": {\"frequency\": 1, \"value\": 0.9151095747947693}, \"0.9263896942138672\": {\"frequency\": 1, \"value\": 0.9263896942138672}, \"0.8246742486953735\": {\"frequency\": 1, \"value\": 0.8246742486953735}, \"0.47788336873054504\": {\"frequency\": 1, \"value\": 0.47788336873054504}, \"0.7751326560974121\": {\"frequency\": 1, \"value\": 0.7751326560974121}, \"0.7401437163352966\": {\"frequency\": 1, \"value\": 0.7401437163352966}, \"0.9557324647903442\": {\"frequency\": 2, \"value\": 0.9557324647903442}, \"0.7173410058021545\": {\"frequency\": 2, \"value\": 0.7173410058021545}, \"0.8186361193656921\": {\"frequency\": 1, \"value\": 0.8186361193656921}, \"0.5457212924957275\": {\"frequency\": 1, \"value\": 0.5457212924957275}, \"0.8950714468955994\": {\"frequency\": 1, \"value\": 0.8950714468955994}, \"0.18224447965621948\": {\"frequency\": 1, \"value\": 0.18224447965621948}, \"0.0590338371694088\": {\"frequency\": 1, \"value\": 0.0590338371694088}, \"0.5796224474906921\": {\"frequency\": 1, \"value\": 0.5796224474906921}, \"0.9028979539871216\": {\"frequency\": 1, \"value\": 0.9028979539871216}, \"0.9257999062538147\": {\"frequency\": 1, \"value\": 0.9257999062538147}, \"0.48038843274116516\": {\"frequency\": 1, \"value\": 0.48038843274116516}, \"0.8630394339561462\": {\"frequency\": 1, \"value\": 0.8630394339561462}, \"0.45196861028671265\": {\"frequency\": 1, \"value\": 0.45196861028671265}, \"0.6399292945861816\": {\"frequency\": 4, \"value\": 0.6399292945861816}, \"0.4184887707233429\": {\"frequency\": 1, \"value\": 0.4184887707233429}, \"0.2780161499977112\": {\"frequency\": 1, \"value\": 0.2780161499977112}, \"0.8852164149284363\": {\"frequency\": 1, \"value\": 0.8852164149284363}, \"0.6811739206314087\": {\"frequency\": 1, \"value\": 0.6811739206314087}, \"0.5735120177268982\": {\"frequency\": 1, \"value\": 0.5735120177268982}, \"0.5093058347702026\": {\"frequency\": 1, \"value\": 0.5093058347702026}, \"0.09751591086387634\": {\"frequency\": 1, \"value\": 0.09751591086387634}, \"0.8027689456939697\": {\"frequency\": 1, \"value\": 0.8027689456939697}, \"0.7834652066230774\": {\"frequency\": 3, \"value\": 0.7834652066230774}, \"0.6669191122055054\": {\"frequency\": 1, \"value\": 0.6669191122055054}, \"0.41412681341171265\": {\"frequency\": 1, \"value\": 0.41412681341171265}, \"0.499127596616745\": {\"frequency\": 1, \"value\": 0.499127596616745}, \"0.5262781977653503\": {\"frequency\": 1, \"value\": 0.5262781977653503}, \"0.539141833782196\": {\"frequency\": 1, \"value\": 0.539141833782196}, \"0.8951901793479919\": {\"frequency\": 4, \"value\": 0.8951901793479919}, \"0.6969491839408875\": {\"frequency\": 1, \"value\": 0.6969491839408875}, \"0.6439979672431946\": {\"frequency\": 1, \"value\": 0.6439979672431946}, \"0.8829717636108398\": {\"frequency\": 2, \"value\": 0.8829717636108398}, \"0.6593776345252991\": {\"frequency\": 2, \"value\": 0.6593776345252991}, \"0.7224164009094238\": {\"frequency\": 1, \"value\": 0.7224164009094238}, \"0.17540346086025238\": {\"frequency\": 1, \"value\": 0.17540346086025238}, \"0.6046553254127502\": {\"frequency\": 1, \"value\": 0.6046553254127502}, \"0.6713970899581909\": {\"frequency\": 3, \"value\": 0.6713970899581909}, \"0.9221947193145752\": {\"frequency\": 4, \"value\": 0.9221947193145752}, \"0.6204138994216919\": {\"frequency\": 1, \"value\": 0.6204138994216919}, \"0.9231563210487366\": {\"frequency\": 1, \"value\": 0.9231563210487366}, \"0.7002875804901123\": {\"frequency\": 1, \"value\": 0.7002875804901123}, \"0.4467941224575043\": {\"frequency\": 1, \"value\": 0.4467941224575043}, \"0.6507866382598877\": {\"frequency\": 1, \"value\": 0.6507866382598877}, \"0.387518972158432\": {\"frequency\": 1, \"value\": 0.387518972158432}, \"0.44258633255958557\": {\"frequency\": 1, \"value\": 0.44258633255958557}, \"0.9509290456771851\": {\"frequency\": 1, \"value\": 0.9509290456771851}, \"0.4308525621891022\": {\"frequency\": 1, \"value\": 0.4308525621891022}, \"0.7967572808265686\": {\"frequency\": 3, \"value\": 0.7967572808265686}, \"0.8274325728416443\": {\"frequency\": 1, \"value\": 0.8274325728416443}, \"0.8989278674125671\": {\"frequency\": 1, \"value\": 0.8989278674125671}, \"0.69013911485672\": {\"frequency\": 1, \"value\": 0.69013911485672}, \"0.8531221747398376\": {\"frequency\": 1, \"value\": 0.8531221747398376}, \"0.4192879796028137\": {\"frequency\": 1, \"value\": 0.4192879796028137}, \"0.851630687713623\": {\"frequency\": 1, \"value\": 0.851630687713623}, \"0.7314701676368713\": {\"frequency\": 1, \"value\": 0.7314701676368713}, \"0.8701205849647522\": {\"frequency\": 4, \"value\": 0.8701205849647522}, \"0.8177181482315063\": {\"frequency\": 1, \"value\": 0.8177181482315063}, \"0.20277506113052368\": {\"frequency\": 1, \"value\": 0.20277506113052368}, \"0.703136146068573\": {\"frequency\": 2, \"value\": 0.703136146068573}, \"0.0748429000377655\": {\"frequency\": 1, \"value\": 0.0748429000377655}, \"0.9160230159759521\": {\"frequency\": 1, \"value\": 0.9160230159759521}, \"0.7329593300819397\": {\"frequency\": 1, \"value\": 0.7329593300819397}, \"0.19765278697013855\": {\"frequency\": 1, \"value\": 0.19765278697013855}}, \"mean\": 0.7233894188421655}, \"selected_variable\": {\"name\": [\"<SArray>\"], \"dtype\": \"float\", \"view_component\": \"Numeric\", \"view_file\": \"sarray\", \"descriptives\": {\"rows\": 441}, \"type\": \"SArray\", \"view_components\": [\"Numeric\", \"Categorical\"]}, \"histogram\": {\"progress\": 1.0, \"histogram\": {\"max\": 0.9658947253227235, \"bins\": [11, 12, 5, 7, 9, 20, 37, 57, 38, 49, 45, 151], \"min\": 0.046451450824737506}, \"min\": 0.05183638259768486, \"complete\": 1, \"max\": 0.9585344195365906}}, e);\n",
       "                });\n",
       "            })();\n",
       "        "
      ]
     },
     "metadata": {},
     "output_type": "display_data"
    }
   ],
   "source": [
    "predictions['probability'].show()"
   ]
  },
  {
   "cell_type": "markdown",
   "metadata": {},
   "source": [
    "## Evaluating the model"
   ]
  },
  {
   "cell_type": "code",
   "execution_count": 16,
   "metadata": {
    "collapsed": false
   },
   "outputs": [
    {
     "name": "stdout",
     "output_type": "stream",
     "text": [
      "PROGRESS: Making a churn forecast for the time window:\n",
      "PROGRESS: --------------------------------------------------\n",
      "PROGRESS:  Start : 2011-10-01 00:00:00\n",
      "PROGRESS:  End   : 2011-10-31 00:00:00\n",
      "PROGRESS: --------------------------------------------------\n",
      "PROGRESS: Grouping dataset by user.\n",
      "PROGRESS: Resampling grouped observation_data by time-period 1 day, 0:00:00.\n"
     ]
    },
    {
     "data": {
      "text/html": [
       "<pre>InvoiceNo is a categorical variable with too many different values (16841) and will be ignored.</pre>"
      ],
      "text/plain": [
       "InvoiceNo is a categorical variable with too many different values (16841) and will be ignored."
      ]
     },
     "metadata": {},
     "output_type": "display_data"
    },
    {
     "data": {
      "text/html": [
       "<pre>StockCode is a categorical variable with too many different values (3649) and will be ignored.</pre>"
      ],
      "text/plain": [
       "StockCode is a categorical variable with too many different values (3649) and will be ignored."
      ]
     },
     "metadata": {},
     "output_type": "display_data"
    },
    {
     "data": {
      "text/html": [
       "<pre>Description is a categorical variable with too many different values (3845) and will be ignored.</pre>"
      ],
      "text/plain": [
       "Description is a categorical variable with too many different values (3845) and will be ignored."
      ]
     },
     "metadata": {},
     "output_type": "display_data"
    },
    {
     "name": "stdout",
     "output_type": "stream",
     "text": [
      "PROGRESS: Generating features for boundary 2011-10-01 00:00:00.\n",
      "PROGRESS: Joining user_data with aggregated features.\n",
      "PROGRESS: Not enough data to make predictions for 66 user(s). \n"
     ]
    },
    {
     "data": {
      "text/plain": [
       "{'auc': 0.7990228370663153, 'evaluation_data': Columns:\n",
       " \tCustomerID\tstr\n",
       " \tprobability\tfloat\n",
       " \tlabel\tint\n",
       " \n",
       " Rows: 375\n",
       " \n",
       " Data:\n",
       " +------------+----------------+-------+\n",
       " | CustomerID |  probability   | label |\n",
       " +------------+----------------+-------+\n",
       " |   16200    | 0.632646918297 |   1   |\n",
       " |   15910    | 0.430852562189 |   0   |\n",
       " |   16718    | 0.703077316284 |   1   |\n",
       " |   16222    | 0.768735051155 |   1   |\n",
       " |   16899    | 0.583611965179 |   1   |\n",
       " |   12732    | 0.894502520561 |   1   |\n",
       " |   13194    | 0.817718148232 |   1   |\n",
       " |   14625    | 0.618298172951 |   1   |\n",
       " |   13242    | 0.940870046616 |   1   |\n",
       " |   15894    | 0.828248143196 |   1   |\n",
       " +------------+----------------+-------+\n",
       " [375 rows x 3 columns]\n",
       " Note: Only the head of the SFrame is printed.\n",
       " You can use print_rows(num_rows=m, num_columns=n) to print more rows and columns., 'precision': 0.7863501483679525, 'precision_recall_curve': Columns:\n",
       " \tcutoffs\tfloat\n",
       " \tprecision\tfloat\n",
       " \trecall\tfloat\n",
       " \n",
       " Rows: 5\n",
       " \n",
       " Data:\n",
       " +---------+----------------+----------------+\n",
       " | cutoffs |   precision    |     recall     |\n",
       " +---------+----------------+----------------+\n",
       " |   0.1   | 0.743243243243 | 0.996376811594 |\n",
       " |   0.25  | 0.763231197772 | 0.992753623188 |\n",
       " |   0.5   | 0.786350148368 | 0.960144927536 |\n",
       " |   0.75  | 0.912371134021 | 0.641304347826 |\n",
       " |   0.9   | 0.953703703704 | 0.373188405797 |\n",
       " +---------+----------------+----------------+\n",
       " [5 rows x 3 columns], 'recall': 0.9601449275362319, 'roc_curve': Columns:\n",
       " \tthreshold\tfloat\n",
       " \tfpr\tfloat\n",
       " \ttpr\tfloat\n",
       " \tp\tint\n",
       " \tn\tint\n",
       " \n",
       " Rows: 100001\n",
       " \n",
       " Data:\n",
       " +-----------+-----+-----+-----+----+\n",
       " | threshold | fpr | tpr |  p  | n  |\n",
       " +-----------+-----+-----+-----+----+\n",
       " |    0.0    | 1.0 | 1.0 | 276 | 99 |\n",
       " |   1e-05   | 1.0 | 1.0 | 276 | 99 |\n",
       " |   2e-05   | 1.0 | 1.0 | 276 | 99 |\n",
       " |   3e-05   | 1.0 | 1.0 | 276 | 99 |\n",
       " |   4e-05   | 1.0 | 1.0 | 276 | 99 |\n",
       " |   5e-05   | 1.0 | 1.0 | 276 | 99 |\n",
       " |   6e-05   | 1.0 | 1.0 | 276 | 99 |\n",
       " |   7e-05   | 1.0 | 1.0 | 276 | 99 |\n",
       " |   8e-05   | 1.0 | 1.0 | 276 | 99 |\n",
       " |   9e-05   | 1.0 | 1.0 | 276 | 99 |\n",
       " +-----------+-----+-----+-----+----+\n",
       " [100001 rows x 5 columns]\n",
       " Note: Only the head of the SFrame is printed.\n",
       " You can use print_rows(num_rows=m, num_columns=n) to print more rows and columns.}"
      ]
     },
     "execution_count": 16,
     "metadata": {},
     "output_type": "execute_result"
    }
   ],
   "source": [
    "metrics = model.evaluate(valid, user_data=users, time_boundary=churn_period_oct)\n",
    "metrics"
   ]
  },
  {
   "cell_type": "code",
   "execution_count": 17,
   "metadata": {
    "collapsed": true
   },
   "outputs": [],
   "source": [
    "model.save('data/churn_model.mdl')"
   ]
  }
 ],
 "metadata": {
  "kernelspec": {
   "display_name": "Python 2",
   "language": "python",
   "name": "python2"
  },
  "language_info": {
   "codemirror_mode": {
    "name": "ipython",
    "version": 2
   },
   "file_extension": ".py",
   "mimetype": "text/x-python",
   "name": "python",
   "nbconvert_exporter": "python",
   "pygments_lexer": "ipython2",
   "version": "2.7.11"
  }
 },
 "nbformat": 4,
 "nbformat_minor": 0
}
