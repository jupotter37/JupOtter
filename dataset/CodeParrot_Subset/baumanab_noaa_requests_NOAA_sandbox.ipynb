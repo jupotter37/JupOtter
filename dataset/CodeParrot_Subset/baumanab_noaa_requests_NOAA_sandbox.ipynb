{
 "cells": [
  {
   "cell_type": "code",
   "execution_count": 1,
   "metadata": {
    "collapsed": false,
    "deletable": true,
    "editable": true
   },
   "outputs": [],
   "source": [
    "import pandas as pd\n",
    "import numpy as np\n",
    "from pandas.io import json\n",
    "import requests\n",
    "import os\n",
    "import sys\n",
    "import string\n"
   ]
  },
  {
   "cell_type": "code",
   "execution_count": 2,
   "metadata": {
    "collapsed": false
   },
   "outputs": [],
   "source": [
    "NOAA_Token_Here= 'enter as string'"
   ]
  },
  {
   "cell_type": "markdown",
   "metadata": {
    "deletable": true,
    "editable": true
   },
   "source": [
    "Play with some basic functions adapted from [tide data functions](https://github.com/baumanab/seattle_tides)"
   ]
  },
  {
   "cell_type": "markdown",
   "metadata": {
    "deletable": true,
    "editable": true
   },
   "source": [
    "### Query Builder"
   ]
  },
  {
   "cell_type": "code",
   "execution_count": 5,
   "metadata": {
    "collapsed": false,
    "deletable": true,
    "editable": true
   },
   "outputs": [],
   "source": [
    "def query_builder(start_dt, end_dt, station, offset= 1):\n",
    "\n",
    "    \"\"\"Function accepts: a start and end datetime string in the form 'YYYYMMDD mm:ss'\n",
    "    which are <= 1 year apart, a station ID, and an offset. \n",
    "    Function assembles a query parameters/arguments dict and returns an API query and the \n",
    "    query dictionary (query_dict). The relevant base URL is the NCDC endpoint \n",
    "    'http://www.ncdc.noaa.gov/cdo-web/api/v2/data?'.\"\"\"\n",
    "\n",
    "    import urllib\n",
    "    \n",
    "    # API endpoint\n",
    "    base_url= 'http://www.ncdc.noaa.gov/cdo-web/api/v2/data?'\n",
    "\n",
    "    # dict of NOAA query parameters/arguments\n",
    "\n",
    "    query_dict = dict(startdate= start_dt, enddate= end_dt, stationid= station,\n",
    "                      offset= offset, datasetid= 'GHCND', limit= 1000)\n",
    "\n",
    "    # encode arguments\n",
    "\n",
    "    encoded_args = urllib.urlencode(query_dict)\n",
    "    \n",
    "    # query\n",
    "    query = base_url + encoded_args\n",
    "    \n",
    "    # decode url % (reconvert reserved characters to utf8 string)\n",
    "    query= urllib.unquote(query)\n",
    "\n",
    "    # create and return query from base url and encoded arguments\n",
    "    return query, query_dict"
   ]
  },
  {
   "cell_type": "code",
   "execution_count": 6,
   "metadata": {
    "collapsed": false,
    "deletable": true,
    "editable": true
   },
   "outputs": [
    {
     "name": "stdout",
     "output_type": "stream",
     "text": [
      "http://www.ncdc.noaa.gov/cdo-web/api/v2/data?startdate=2014-01-01&stationid=GHCND:USW00023174&enddate=2015-01-01&offset=1&limit=1000&datasetid=GHCND\n"
     ]
    }
   ],
   "source": [
    "query_1, query_dict= query_builder('2014-01-01', '2015-01-01', station= 'GHCND:USW00023174')\n",
    "print(query_1)"
   ]
  },
  {
   "cell_type": "code",
   "execution_count": 7,
   "metadata": {
    "collapsed": false,
    "deletable": true,
    "editable": true
   },
   "outputs": [
    {
     "name": "stdout",
     "output_type": "stream",
     "text": [
      "http://www.ncdc.noaa.gov/cdo-web/api/v2/data?startdate=2014-01-01&stationid=GHCND:USW00023174&enddate=2015-01-01&offset=1001&limit=1000&datasetid=GHCND\n"
     ]
    }
   ],
   "source": [
    "query_2, query_dict= query_builder('2014-01-01', '2015-01-01', station= 'GHCND:USW00023174', offset= 1001)\n",
    "print(query_2)"
   ]
  },
  {
   "cell_type": "markdown",
   "metadata": {
    "deletable": true,
    "editable": true
   },
   "source": [
    "### Offset Generator"
   ]
  },
  {
   "cell_type": "code",
   "execution_count": 8,
   "metadata": {
    "collapsed": false,
    "deletable": true,
    "editable": true
   },
   "outputs": [],
   "source": [
    "def offsetter(response):\n",
    "    \n",
    "    \"\"\"\n",
    "    Function accepts a restful query response (JSON)\n",
    "    Function returns a dictionary of offsets to pull the entire query set\n",
    "    where the set is limited to 1000 records per query. Function also \n",
    "    returns a record count for use in validation.\n",
    "    \"\"\"\n",
    "    \n",
    "    # get repeats and repeat range\n",
    "    import math\n",
    "    count= response['metadata']['resultset']['count']\n",
    "    repeats= math.ceil(count/1000.)\n",
    "    repeat_range= range(int(repeats))\n",
    "    \n",
    "    # get offsets dictionary\n",
    "    \n",
    "    offset= 1\n",
    "    offsets= [1]\n",
    "    for item in repeat_range[1:]:\n",
    "        offset += 1000\n",
    "        offsets.append(offset)\n",
    "        \n",
    "    \n",
    "    # zip up the results and convert to dictionary\n",
    "    offset_dict= dict(zip(repeat_range[1:], offsets[1:])) # the first call has been done already to get meta\n",
    "    \n",
    "    return offset_dict, count # for quality control \n",
    "    \n",
    "    "
   ]
  },
  {
   "cell_type": "markdown",
   "metadata": {
    "deletable": true,
    "editable": true
   },
   "source": [
    "### Query Generator\n",
    "\n",
    "#### TODO\n",
    "- refactor with a decorator\n",
    "- make key an attribute that can be hidden"
   ]
  },
  {
   "cell_type": "code",
   "execution_count": 13,
   "metadata": {
    "collapsed": true,
    "deletable": true,
    "editable": true
   },
   "outputs": [],
   "source": [
    "def execute_query(query):\n",
    "    \n",
    "    \"\"\"\n",
    "    Function accepts an NOAA query for daily summaries for a specfic location\n",
    "    and executes the query.\n",
    "    Function returns a response (JSON)\n",
    "    \"\"\"\n",
    "    url = query\n",
    "    # replace token with token provided by NOAA.  Enter token as string\n",
    "    headers = {'token': NOAA_Token_Here} # https://www.ncdc.noaa.gov/cdo-web/token\n",
    "    response = requests.get(url, headers = headers)\n",
    "    response = response.json()\n",
    "    \n",
    "    return response"
   ]
  },
  {
   "cell_type": "code",
   "execution_count": 14,
   "metadata": {
    "collapsed": false,
    "deletable": true,
    "editable": true
   },
   "outputs": [
    {
     "ename": "NameError",
     "evalue": "name 'query_1' is not defined",
     "output_type": "error",
     "traceback": [
      "\u001b[1;31m---------------------------------------------------------------------------\u001b[0m",
      "\u001b[1;31mNameError\u001b[0m                                 Traceback (most recent call last)",
      "\u001b[1;32m<ipython-input-14-09badf1aeec9>\u001b[0m in \u001b[0;36m<module>\u001b[1;34m()\u001b[0m\n\u001b[1;32m----> 1\u001b[1;33m \u001b[0mworking_1\u001b[0m\u001b[1;33m=\u001b[0m \u001b[0mexecute_query\u001b[0m\u001b[1;33m(\u001b[0m\u001b[0mquery_1\u001b[0m\u001b[1;33m)\u001b[0m\u001b[1;33m[\u001b[0m\u001b[1;34m'results'\u001b[0m\u001b[1;33m]\u001b[0m\u001b[1;33m\u001b[0m\u001b[0m\n\u001b[0m\u001b[0;32m      2\u001b[0m \u001b[0mworking_2\u001b[0m \u001b[1;33m=\u001b[0m \u001b[0mexecute_query\u001b[0m\u001b[1;33m(\u001b[0m\u001b[0mquery_2\u001b[0m\u001b[1;33m)\u001b[0m\u001b[1;33m[\u001b[0m\u001b[1;34m'results'\u001b[0m\u001b[1;33m]\u001b[0m\u001b[1;33m\u001b[0m\u001b[0m\n",
      "\u001b[1;31mNameError\u001b[0m: name 'query_1' is not defined"
     ]
    }
   ],
   "source": [
    "working_1= execute_query(query_1)['results']\n",
    "working_2 = execute_query(query_2)['results']"
   ]
  },
  {
   "cell_type": "markdown",
   "metadata": {
    "deletable": true,
    "editable": true
   },
   "source": [
    "### Extract Results"
   ]
  },
  {
   "cell_type": "code",
   "execution_count": 12,
   "metadata": {
    "collapsed": true,
    "deletable": true,
    "editable": true
   },
   "outputs": [],
   "source": [
    "def extract_results(response):\n",
    "    \n",
    "    \"\"\"\n",
    "    Function accepts a NOAA query response (JSON) return the results\n",
    "    key values as well as the number of records (for use in validation).\n",
    "    \"\"\"\n",
    "    data= response['results']\n",
    "    # for quality control to verify retrieval of all rows\n",
    "    length= len(data)\n",
    "    \n",
    "    return data, length"
   ]
  },
  {
   "cell_type": "code",
   "execution_count": 13,
   "metadata": {
    "collapsed": true,
    "deletable": true,
    "editable": true
   },
   "outputs": [],
   "source": [
    "def collator(results):\n",
    "    \n",
    "    \"\"\"\n",
    "    Functions accepts the results key of an NOAA query response (JSON)\n",
    "    and returns a tidy data set in PANDAS, where each record is an \n",
    "    observation about a day.\n",
    "    \"\"\"\n",
    "    \n",
    "    df= pd.DataFrame(results)    \n",
    "    df= df.drop(['attributes','station'], axis=1)\n",
    "    df= df.pivot(index= 'date',columns= 'datatype', values= 'value').reset_index()\n",
    "    \n",
    "    return df"
   ]
  },
  {
   "cell_type": "code",
   "execution_count": 20,
   "metadata": {
    "collapsed": true,
    "deletable": true,
    "editable": true
   },
   "outputs": [],
   "source": [
    "def get_ncdc(start_dt, end_dt, station):\n",
    "    \n",
    "    \"\"\"\n",
    "    Function accepts a start date (MM-DD-YYY) an end date (MM-DD-YYYY)\n",
    "    and a NOAA station ID.  Date limit is 1 year.\n",
    "    Function returns a tidy dataset in a PANDAS DataFrame where\n",
    "    each row represents an observation about a day, a record count\n",
    "    and a query parameters dictionary.\n",
    "    \"\"\"\n",
    "    \n",
    "    \n",
    "    # count for verifying retrieval of all rows\n",
    "    record_count= 0\n",
    "    # initial query\n",
    "    query, query_dict= query_builder(start_dt, end_dt, station)\n",
    "    response= execute_query(query)\n",
    "    \n",
    "    #  extract results and count    \n",
    "    results, length= extract_results(response)\n",
    "    record_count += length\n",
    "    \n",
    "    # get offsets for remaining queries\n",
    "    off_d, count= offsetter(response)\n",
    "    \n",
    "    # execute remaining queries and operations\n",
    "    for offset in off_d:\n",
    "        query, _= query_builder(start_dt, end_dt, station, off_d[offset])\n",
    "        print(query)\n",
    "        response= execute_query(query)\n",
    "        next_results, next_length= extract_results(response)\n",
    "        \n",
    "        record_count += next_length\n",
    "        \n",
    "        # concat results lists\n",
    "        results += next_results\n",
    "        \n",
    "    assert record_count == count, 'record count != count'\n",
    "    \n",
    "    collated_data= collator(results)\n",
    "        \n",
    "    return collated_data, record_count, query_dict\n",
    "        \n",
    "    "
   ]
  },
  {
   "cell_type": "code",
   "execution_count": 21,
   "metadata": {
    "collapsed": false,
    "deletable": true,
    "editable": true,
    "scrolled": true
   },
   "outputs": [
    {
     "name": "stdout",
     "output_type": "stream",
     "text": [
      "http://www.ncdc.noaa.gov/cdo-web/api/v2/data?startdate=2014-01-01&stationid=GHCND:USW00023174&enddate=2014-12-31&offset=1001&limit=1000&datasetid=GHCND\n",
      "http://www.ncdc.noaa.gov/cdo-web/api/v2/data?startdate=2014-01-01&stationid=GHCND:USW00023174&enddate=2014-12-31&offset=2001&limit=1000&datasetid=GHCND\n",
      "http://www.ncdc.noaa.gov/cdo-web/api/v2/data?startdate=2014-01-01&stationid=GHCND:USW00023174&enddate=2014-12-31&offset=3001&limit=1000&datasetid=GHCND\n",
      "http://www.ncdc.noaa.gov/cdo-web/api/v2/data?startdate=2014-01-01&stationid=GHCND:USW00023174&enddate=2014-12-31&offset=4001&limit=1000&datasetid=GHCND\n"
     ]
    }
   ],
   "source": [
    "test, qc, params = get_ncdc('2014-01-01', '2014-12-31', station= 'GHCND:USW00023174')"
   ]
  },
  {
   "cell_type": "code",
   "execution_count": 16,
   "metadata": {
    "collapsed": false,
    "deletable": true,
    "editable": true
   },
   "outputs": [
    {
     "data": {
      "text/plain": [
       "0    2014-01-01T00:00:00\n",
       "1    2014-01-02T00:00:00\n",
       "2    2014-01-03T00:00:00\n",
       "3    2014-01-04T00:00:00\n",
       "4    2014-01-05T00:00:00\n",
       "Name: date, dtype: object"
      ]
     },
     "execution_count": 16,
     "metadata": {},
     "output_type": "execute_result"
    }
   ],
   "source": [
    "test.date.head()"
   ]
  },
  {
   "cell_type": "code",
   "execution_count": 17,
   "metadata": {
    "collapsed": false,
    "deletable": true,
    "editable": true
   },
   "outputs": [
    {
     "data": {
      "text/plain": [
       "360    2014-12-27T00:00:00\n",
       "361    2014-12-28T00:00:00\n",
       "362    2014-12-29T00:00:00\n",
       "363    2014-12-30T00:00:00\n",
       "364    2014-12-31T00:00:00\n",
       "Name: date, dtype: object"
      ]
     },
     "execution_count": 17,
     "metadata": {},
     "output_type": "execute_result"
    }
   ],
   "source": [
    "test.date.tail()"
   ]
  },
  {
   "cell_type": "code",
   "execution_count": 18,
   "metadata": {
    "collapsed": false,
    "deletable": true,
    "editable": true
   },
   "outputs": [
    {
     "name": "stdout",
     "output_type": "stream",
     "text": [
      "<class 'pandas.core.frame.DataFrame'>\n",
      "RangeIndex: 365 entries, 0 to 364\n",
      "Data columns (total 16 columns):\n",
      "date    365 non-null object\n",
      "AWND    365 non-null float64\n",
      "PRCP    365 non-null float64\n",
      "SNOW    357 non-null float64\n",
      "SNWD    360 non-null float64\n",
      "TAVG    365 non-null float64\n",
      "TMAX    365 non-null float64\n",
      "TMIN    365 non-null float64\n",
      "WDF2    365 non-null float64\n",
      "WDF5    354 non-null float64\n",
      "WSF2    365 non-null float64\n",
      "WSF5    354 non-null float64\n",
      "WT01    94 non-null float64\n",
      "WT02    5 non-null float64\n",
      "WT03    1 non-null float64\n",
      "WT08    37 non-null float64\n",
      "dtypes: float64(15), object(1)\n",
      "memory usage: 45.7+ KB\n"
     ]
    }
   ],
   "source": [
    "test.info()"
   ]
  },
  {
   "cell_type": "code",
   "execution_count": 19,
   "metadata": {
    "collapsed": false,
    "deletable": true,
    "editable": true
   },
   "outputs": [
    {
     "data": {
      "text/html": [
       "<div>\n",
       "<table border=\"1\" class=\"dataframe\">\n",
       "  <thead>\n",
       "    <tr style=\"text-align: right;\">\n",
       "      <th>datatype</th>\n",
       "      <th>date</th>\n",
       "      <th>AWND</th>\n",
       "      <th>PRCP</th>\n",
       "      <th>SNOW</th>\n",
       "      <th>SNWD</th>\n",
       "      <th>TAVG</th>\n",
       "      <th>TMAX</th>\n",
       "      <th>TMIN</th>\n",
       "      <th>WDF2</th>\n",
       "      <th>WDF5</th>\n",
       "      <th>WSF2</th>\n",
       "      <th>WSF5</th>\n",
       "      <th>WT01</th>\n",
       "      <th>WT02</th>\n",
       "      <th>WT03</th>\n",
       "      <th>WT08</th>\n",
       "    </tr>\n",
       "  </thead>\n",
       "  <tbody>\n",
       "  </tbody>\n",
       "</table>\n",
       "</div>"
      ],
      "text/plain": [
       "Empty DataFrame\n",
       "Columns: [date, AWND, PRCP, SNOW, SNWD, TAVG, TMAX, TMIN, WDF2, WDF5, WSF2, WSF5, WT01, WT02, WT03, WT08]\n",
       "Index: []"
      ]
     },
     "execution_count": 19,
     "metadata": {},
     "output_type": "execute_result"
    }
   ],
   "source": [
    "test[test.date.isnull()]"
   ]
  },
  {
   "cell_type": "code",
   "execution_count": null,
   "metadata": {
    "collapsed": false,
    "deletable": true,
    "editable": true
   },
   "outputs": [],
   "source": [
    "y1, qc, params = get_ncdc('2014-05-03', '2015-05-02', station= 'GHCND:USW00023174')\n",
    "y2, qc, params = get_ncdc('2015-05-03', '2016-05-02', station= 'GHCND:USW00023174')\n",
    "y3, qc, params = get_ncdc('2016-05-03', '2017-05-02', station= 'GHCND:USW00023174')"
   ]
  },
  {
   "cell_type": "code",
   "execution_count": null,
   "metadata": {
    "collapsed": false,
    "deletable": true,
    "editable": true
   },
   "outputs": [],
   "source": [
    "y1.info()"
   ]
  },
  {
   "cell_type": "code",
   "execution_count": null,
   "metadata": {
    "collapsed": true,
    "deletable": true,
    "editable": true
   },
   "outputs": [],
   "source": [
    "years= pd.concat([y1, y2, y3])"
   ]
  },
  {
   "cell_type": "code",
   "execution_count": null,
   "metadata": {
    "collapsed": false,
    "deletable": true,
    "editable": true
   },
   "outputs": [],
   "source": [
    "years.date.head()"
   ]
  },
  {
   "cell_type": "code",
   "execution_count": null,
   "metadata": {
    "collapsed": false,
    "deletable": true,
    "editable": true
   },
   "outputs": [],
   "source": [
    "years.date.tail()"
   ]
  },
  {
   "cell_type": "code",
   "execution_count": null,
   "metadata": {
    "collapsed": false,
    "deletable": true,
    "editable": true
   },
   "outputs": [],
   "source": [
    "years.to_csv('LAX_3years.csv', index= False)"
   ]
  },
  {
   "cell_type": "markdown",
   "metadata": {},
   "source": [
    "### CSV Generator"
   ]
  },
  {
   "cell_type": "code",
   "execution_count": 84,
   "metadata": {
    "collapsed": true
   },
   "outputs": [],
   "source": [
    "def gen_csv(df, query_dict):\n",
    "    \"\"\"\n",
    "    Arguments: PANDAS DataFrame, a query parameters dictionary\n",
    "    Returns: A CSV of the df with dropped index and named by dict params\n",
    "    \"\"\"\n",
    "    \n",
    "    # extract params\n",
    "    station= query_dict['stationid']\n",
    "    start= query_dict['startdate']\n",
    "    end= query_dict['enddate']\n",
    "    \n",
    "    # using os.path in case of future expansion to other directories\n",
    "    path= os.path.join(station + '_' + start + '_' + end + '.' + 'csv')\n",
    "    \n",
    "    # remove problem characters (will add more in future)\n",
    "    exclude_chars= ':'\n",
    "    path= path.replace(exclude_chars, \"_\")\n",
    "    \n",
    "    # export to csv\n",
    "    \n",
    "    my_csv= df.to_csv(path, index= False)\n",
    "    \n",
    "    return my_csv, path\n",
    "    \n",
    "    \n",
    "    "
   ]
  },
  {
   "cell_type": "code",
   "execution_count": 85,
   "metadata": {
    "collapsed": false
   },
   "outputs": [],
   "source": [
    "stuff, path= gen_csv(test, query_dict)"
   ]
  },
  {
   "cell_type": "code",
   "execution_count": 86,
   "metadata": {
    "collapsed": false
   },
   "outputs": [
    {
     "data": {
      "text/plain": [
       "'GHCND_USW00023174_2014-01-01_2015-01-01.csv'"
      ]
     },
     "execution_count": 86,
     "metadata": {},
     "output_type": "execute_result"
    }
   ],
   "source": [
    "path"
   ]
  },
  {
   "cell_type": "code",
   "execution_count": 87,
   "metadata": {
    "collapsed": false
   },
   "outputs": [
    {
     "name": "stdout",
     "output_type": "stream",
     "text": [
      " Volume in drive C has no label.\n",
      " Volume Serial Number is CE97-BE73\n",
      "\n",
      " Directory of C:\\Users\\Andrew\\Documents\\noaa_requests\n",
      "\n",
      "05/12/2017  12:35 AM            30,420 GHCND_USW00023174_2014-01-01_2015-01-01.csv\n",
      "               1 File(s)         30,420 bytes\n",
      "               0 Dir(s)  685,094,088,704 bytes free\n"
     ]
    }
   ],
   "source": [
    "ls *csv"
   ]
  },
  {
   "cell_type": "code",
   "execution_count": 18,
   "metadata": {
    "collapsed": false
   },
   "outputs": [
    {
     "name": "stdout",
     "output_type": "stream",
     "text": [
      "Check dt format('DD-MM-YYYY', and whether dates span <= 1 year from a current or past date\n",
      "If dates exceed one year, NCDC query returns a null object\n",
      "Need a token take a token, have a token, keep it to yourself @ https://www.ncdc.noaa.gov/cdo-web/token\n",
      "start_dt: -f\n",
      " end_dt: C:\\Users\\vhim98198\\AppData\\Roaming\\jupyter\\runtime\\kernel-9420aae1-29a1-4c51-ae89-41b7fd679e89.json\n"
     ]
    }
   ],
   "source": [
    "#!/usr/bin/env python\n",
    "# coding: utf-8\n",
    "\n",
    "\n",
    "\"\"\"Python code for querying NOAA daily summary weather and returnig a CSV per year\n",
    "for a specfic station.  Code is intended to be executed from CLI.\"\"\"\n",
    "\n",
    "import sys\n",
    "\n",
    "# set path to tools library and import\n",
    "sys.path.append(r'noaa_weather_tools')\n",
    "import noaa_weather_tools\n",
    "\n",
    "NOAA_Token_Here= 'enter token as string'\n",
    "\n",
    "print(\"Check dt format('DD-MM-YYYY', and whether dates span <= 1 year from a current or past date\")\n",
    "print(\"If dates exceed one year, NCDC query returns a null object\")\n",
    "print(\"Need a token take a token, have a token, keep it to yourself @ https://www.ncdc.noaa.gov/cdo-web/token\")\n",
    "print('start_dt: {}\\n end_dt: {}'.format(sys.argv[1], sys.argv[2]))\n",
    "\n",
    "\n",
    "def noaa_dailysum_weather_processor(start_dt, end_dt, station):\n",
    "\n",
    "    \"\"\"Function accepts a station ID, and beginning/end datetime as strings with date format as\n",
    "    'MM-DD-YYYY' which span <= 1 year from a current or past date, passing them to the query_builder function. \n",
    "    Function creates a .csv file of NOAA (NCDC) Daily Summary data for a specific station.\"\"\"\n",
    "    \n",
    "    print(15 * '.' + \"reticulating splines\" + 5* '.' + \"getting records\")    \n",
    "    df, record_count, query_parameters= noaa_weather_tools.get_ncdc(start_dt, end_dt, station)\n",
    "    \n",
    "    print(15* '.' + \"exporting to csv\")\n",
    "    my_csv, my_path= noaa_weather_tools.gen_csv(df, query_parameters)\n",
    "    \n",
    "    print(\"spines reticulated\")\n",
    "    return my_csv\n"
   ]
  },
  {
   "cell_type": "code",
   "execution_count": 15,
   "metadata": {
    "collapsed": false
   },
   "outputs": [
    {
     "name": "stdout",
     "output_type": "stream",
     "text": [
      "...............reticulating splines.....getting records\n",
      "http://www.ncdc.noaa.gov/cdo-web/api/v2/data?startdate=2014-05-03&stationid=GHCND:USW00023174&enddate=2015-05-02&offset=1001&limit=1000&datasetid=GHCND\n",
      "http://www.ncdc.noaa.gov/cdo-web/api/v2/data?startdate=2014-05-03&stationid=GHCND:USW00023174&enddate=2015-05-02&offset=2001&limit=1000&datasetid=GHCND\n",
      "http://www.ncdc.noaa.gov/cdo-web/api/v2/data?startdate=2014-05-03&stationid=GHCND:USW00023174&enddate=2015-05-02&offset=3001&limit=1000&datasetid=GHCND\n",
      "http://www.ncdc.noaa.gov/cdo-web/api/v2/data?startdate=2014-05-03&stationid=GHCND:USW00023174&enddate=2015-05-02&offset=4001&limit=1000&datasetid=GHCND\n",
      "...............exporting to csv\n",
      "spines reticulated\n"
     ]
    }
   ],
   "source": [
    "noaa_dailysum_weather_processor('2014-05-03', '2015-05-02', station= 'GHCND:USW00023174')"
   ]
  },
  {
   "cell_type": "code",
   "execution_count": 13,
   "metadata": {
    "collapsed": false
   },
   "outputs": [
    {
     "name": "stdout",
     "output_type": "stream",
     "text": [
      " Volume in drive C is Acer\n",
      " Volume Serial Number is 3829-CAE6\n",
      "\n",
      " Directory of C:\\Users\\vhim98198\\Documents\\noaa_requests\n",
      "\n"
     ]
    },
    {
     "name": "stderr",
     "output_type": "stream",
     "text": [
      "File Not Found\n"
     ]
    }
   ],
   "source": [
    "ls *csv"
   ]
  },
  {
   "cell_type": "markdown",
   "metadata": {},
   "source": [
    "### Discarded Functions"
   ]
  },
  {
   "cell_type": "markdown",
   "metadata": {
    "collapsed": true,
    "deletable": true,
    "editable": true
   },
   "source": [
    "```python\n",
    "def collator(response):\n",
    "    \n",
    "    data= pd.DataFrame(response['results'])\n",
    "    # for quality control to verify retrieval of all rows\n",
    "    length= len(data)\n",
    "    \n",
    "    data= data.drop(['attributes','station'], axis=1)\n",
    "    data= data.pivot(index= 'date',columns= 'datatype', values= 'value').reset_index()\n",
    "    \n",
    "    return data, length\n",
    "\n",
    "def get_ncdc(start_dt, end_dt, station):\n",
    "    \n",
    "    \n",
    "    # count for verifying retrieval of all rows\n",
    "    row_count= 0\n",
    "    # initial query\n",
    "    query, query_dict= query_builder(start_dt, end_dt, station)\n",
    "    response= execute_query(query)\n",
    "    \n",
    "    # collate and count    \n",
    "    collated_data, length= collator(response)\n",
    "    row_count += length\n",
    "    \n",
    "    # get offsets for remaining queries\n",
    "    off_d, count= offsetter(response)\n",
    "    \n",
    "    # execute remaining queries and operations\n",
    "    for offset in off_d:\n",
    "        query, _= query_builder(start_dt, end_dt, station, off_d[offset])\n",
    "        print(query)\n",
    "        response= execute_query(query)\n",
    "        next_data, next_length= collator(response)\n",
    "        \n",
    "        row_count += next_length\n",
    "        \n",
    "        # stack DataFrames\n",
    "        collated_data= pd.concat([collated_data, next_data])\n",
    "        \n",
    "    assert row_count == count, 'row count != count'\n",
    "        \n",
    "    return collated_data, row_count\n",
    "```        \n",
    "    \n",
    "    \n",
    "    \n",
    "    \n",
    "    \n",
    "    \n",
    "    "
   ]
  }
 ],
 "metadata": {
  "anaconda-cloud": {},
  "kernelspec": {
   "display_name": "Python [default]",
   "language": "python",
   "name": "python2"
  },
  "language_info": {
   "codemirror_mode": {
    "name": "ipython",
    "version": 2
   },
   "file_extension": ".py",
   "mimetype": "text/x-python",
   "name": "python",
   "nbconvert_exporter": "python",
   "pygments_lexer": "ipython2",
   "version": "2.7.11"
  }
 },
 "nbformat": 4,
 "nbformat_minor": 0
}
