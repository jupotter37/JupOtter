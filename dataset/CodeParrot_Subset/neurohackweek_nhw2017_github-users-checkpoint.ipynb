{
 "cells": [
  {
   "cell_type": "code",
   "execution_count": 2,
   "metadata": {
    "collapsed": true
   },
   "outputs": [],
   "source": [
    "import github\n",
    "\n",
    "user = \"arokem\"\n",
    "password = \"$Cis3SH2$\"\n",
    "\n",
    "from github import Github\n",
    "g = Github(user, password)\n",
    "\n",
    "org = g.get_organization('neurohackweek')\n",
    "\n",
    "user_names = [m.html_url.split('/')[-1] for m in list(org.get_members())]\n",
    "\n",
    "user_names\n",
    "\n",
    "import pandas as pd\n",
    "\n",
    "participants = pd.read_csv('/Users/arokem/Downloads/Participants - Sheet1.csv')\n",
    "\n",
    "for t in org.get_teams():\n",
    "    if t.name == \"NHW2016\":\n",
    "        for member_name in participants['GitHub username']:\n",
    "            if not pd.isnull(member_name) and not t.has_in_members(g.get_user(member_name)):\n",
    "                print(\"Adding %s\"%member_name)\n",
    "                t.add_membership(g.get_user(member_name))"
   ]
  },
  {
   "cell_type": "code",
   "execution_count": null,
   "metadata": {
    "collapsed": true
   },
   "outputs": [],
   "source": []
  }
 ],
 "metadata": {
  "kernelspec": {
   "display_name": "Python 3",
   "language": "python",
   "name": "python3"
  },
  "language_info": {
   "codemirror_mode": {
    "name": "ipython",
    "version": 3
   },
   "file_extension": ".py",
   "mimetype": "text/x-python",
   "name": "python",
   "nbconvert_exporter": "python",
   "pygments_lexer": "ipython3",
   "version": "3.5.1"
  }
 },
 "nbformat": 4,
 "nbformat_minor": 0
}
