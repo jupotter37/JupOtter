{
 "cells": [
  {
   "cell_type": "code",
   "execution_count": 14,
   "metadata": {
    "collapsed": true
   },
   "outputs": [],
   "source": [
    "from bigmali.grid import Grid\n",
    "from bigmali.prior import MassPrior, TinkerPrior"
   ]
  },
  {
   "cell_type": "code",
   "execution_count": 15,
   "metadata": {
    "collapsed": true
   },
   "outputs": [],
   "source": [
    "g = Grid()\n",
    "tp = TinkerPrior(g)"
   ]
  },
  {
   "cell_type": "code",
   "execution_count": 16,
   "metadata": {
    "collapsed": false
   },
   "outputs": [
    {
     "data": {
      "text/plain": [
       "array([ 0.        ,  0.18421053,  0.36842105,  0.55263158,  0.73684211,\n",
       "        0.92105263,  1.10526316,  1.28947368,  1.47368421,  1.65789474,\n",
       "        1.84210526,  2.02631579,  2.21052632,  2.39473684,  2.57894737,\n",
       "        2.76315789,  2.94736842,  3.13157895,  3.31578947,  3.5       ])"
      ]
     },
     "execution_count": 16,
     "metadata": {},
     "output_type": "execute_result"
    }
   ],
   "source": [
    "g.redshifts"
   ]
  },
  {
   "cell_type": "code",
   "execution_count": 22,
   "metadata": {
    "collapsed": false
   },
   "outputs": [
    {
     "name": "stdout",
     "output_type": "stream",
     "text": [
      "0.368421052632\n"
     ]
    }
   ],
   "source": [
    "z = g.redshifts[2]\n",
    "print z"
   ]
  },
  {
   "cell_type": "code",
   "execution_count": 23,
   "metadata": {
    "collapsed": false
   },
   "outputs": [
    {
     "name": "stdout",
     "output_type": "stream",
     "text": [
      "[  1.27517403e+10   6.57014442e+10   1.28729220e+10   1.64031814e+10\n",
      "   1.45682529e+10   2.81852896e+10   4.27987219e+10   1.81146280e+10\n",
      "   2.94432191e+10   1.25655630e+10]\n"
     ]
    }
   ],
   "source": [
    "masses = tp.fetch(z).rvs(10)\n",
    "print masses"
   ]
  },
  {
   "cell_type": "code",
   "execution_count": 24,
   "metadata": {
    "collapsed": false
   },
   "outputs": [
    {
     "data": {
      "text/plain": [
       "array([  6.87659445e-11,   3.12520296e-12,   6.75313231e-11,\n",
       "         4.27707713e-11,   5.34858292e-11,   1.54085104e-11,\n",
       "         7.01332485e-12,   3.54620626e-11,   1.41915870e-11,\n",
       "         4.08566844e-11])"
      ]
     },
     "execution_count": 24,
     "metadata": {},
     "output_type": "execute_result"
    }
   ],
   "source": [
    "tp.pdf(masses, z)"
   ]
  },
  {
   "cell_type": "code",
   "execution_count": 25,
   "metadata": {
    "collapsed": false
   },
   "outputs": [
    {
     "name": "stdout",
     "output_type": "stream",
     "text": [
      "[  1.25655630e+10   3.71010919e+10   2.02765244e+10   1.27606744e+10\n",
      "   1.97899980e+10   1.39379240e+10   1.56501794e+10   2.31781364e+10\n",
      "   4.02230166e+10   2.56033315e+10]\n"
     ]
    }
   ],
   "source": [
    "masses = tp.fetch(z).rvs(10)\n",
    "print masses"
   ]
  },
  {
   "cell_type": "code",
   "execution_count": 36,
   "metadata": {
    "collapsed": false
   },
   "outputs": [
    {
     "data": {
      "text/plain": [
       "array([  2.45650104e-11,   9.20683340e-12,   3.37791559e-11,\n",
       "         8.97423486e-11,   3.55705920e-11,   7.45804349e-11,\n",
       "         5.84480278e-11,   2.54090818e-11,   7.72317284e-12,\n",
       "         2.05261379e-11])"
      ]
     },
     "execution_count": 36,
     "metadata": {},
     "output_type": "execute_result"
    }
   ],
   "source": [
    "tp.pdf(masses, 3.5)"
   ]
  },
  {
   "cell_type": "code",
   "execution_count": 35,
   "metadata": {
    "collapsed": false
   },
   "outputs": [
    {
     "name": "stdout",
     "output_type": "stream",
     "text": [
      "12565562999.1,\n",
      "37101091908.6,\n",
      "20276524417.6,\n",
      "12760674392.2,\n",
      "19789997964.2,\n",
      "13937924000.6,\n",
      "15650179359.0,\n",
      "23178136425.8,\n",
      "40223016628.0,\n",
      "25603331470.3,\n"
     ]
    }
   ],
   "source": [
    "for i in masses:\n",
    "    print str(i) + \",\""
   ]
  },
  {
   "cell_type": "code",
   "execution_count": 28,
   "metadata": {
    "collapsed": false
   },
   "outputs": [
    {
     "data": {
      "text/plain": [
       "9.9999999996464585e-31"
      ]
     },
     "execution_count": 28,
     "metadata": {},
     "output_type": "execute_result"
    }
   ],
   "source": [
    "tp.pdf(2e16, z)"
   ]
  },
  {
   "cell_type": "code",
   "execution_count": 29,
   "metadata": {
    "collapsed": false
   },
   "outputs": [
    {
     "data": {
      "text/plain": [
       "9.9999999996464585e-31"
      ]
     },
     "execution_count": 29,
     "metadata": {},
     "output_type": "execute_result"
    }
   ],
   "source": [
    "tp.pdf(1e10, z)"
   ]
  },
  {
   "cell_type": "code",
   "execution_count": 30,
   "metadata": {
    "collapsed": false
   },
   "outputs": [
    {
     "data": {
      "text/plain": [
       "array([  1.85127005e-11,   9.14599233e-12,   2.84245212e-11,\n",
       "         6.78511542e-11,   2.97522822e-11,   5.74805191e-11,\n",
       "         4.62351919e-11,   2.21196030e-11,   7.86394057e-12,\n",
       "         1.83449747e-11])"
      ]
     },
     "execution_count": 30,
     "metadata": {},
     "output_type": "execute_result"
    }
   ],
   "source": [
    "tp.pdf(masses, 0)"
   ]
  },
  {
   "cell_type": "code",
   "execution_count": 31,
   "metadata": {
    "collapsed": false
   },
   "outputs": [
    {
     "data": {
      "text/plain": [
       "array([  1.87392139e-11,   9.17723477e-12,   2.86713804e-11,\n",
       "         6.86742124e-11,   3.00164027e-11,   5.81420366e-11,\n",
       "         4.67284339e-11,   2.22877359e-11,   7.88467537e-12,\n",
       "         1.84690623e-11])"
      ]
     },
     "execution_count": 31,
     "metadata": {},
     "output_type": "execute_result"
    }
   ],
   "source": [
    "tp.pdf(masses, 0.184210526316)"
   ]
  },
  {
   "cell_type": "code",
   "execution_count": 52,
   "metadata": {
    "collapsed": false
   },
   "outputs": [
    {
     "data": {
      "text/plain": [
       "26319725239.705513"
      ]
     },
     "execution_count": 52,
     "metadata": {},
     "output_type": "execute_result"
    }
   ],
   "source": [
    "import numpy as np\n",
    "np.mean(tp.rvs(0, 10**6))"
   ]
  },
  {
   "cell_type": "code",
   "execution_count": null,
   "metadata": {
    "collapsed": true
   },
   "outputs": [],
   "source": []
  }
 ],
 "metadata": {
  "kernelspec": {
   "display_name": "Python 2",
   "language": "python",
   "name": "python2"
  },
  "language_info": {
   "codemirror_mode": {
    "name": "ipython",
    "version": 2
   },
   "file_extension": ".py",
   "mimetype": "text/x-python",
   "name": "python",
   "nbconvert_exporter": "python",
   "pygments_lexer": "ipython2",
   "version": "2.7.13"
  }
 },
 "nbformat": 4,
 "nbformat_minor": 1
}
