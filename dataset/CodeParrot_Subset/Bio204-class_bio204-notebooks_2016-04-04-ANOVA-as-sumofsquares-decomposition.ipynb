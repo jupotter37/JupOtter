{
 "cells": [
  {
   "cell_type": "code",
   "execution_count": 1,
   "metadata": {
    "collapsed": true
   },
   "outputs": [],
   "source": [
    "%matplotlib inline"
   ]
  },
  {
   "cell_type": "code",
   "execution_count": 2,
   "metadata": {
    "collapsed": true
   },
   "outputs": [],
   "source": [
    "from collections import namedtuple\n",
    "import numpy as np\n",
    "import scipy.stats as stats\n",
    "import pandas as pd\n",
    "import matplotlib.pyplot as plt\n",
    "import seaborn as sbn"
   ]
  },
  {
   "cell_type": "code",
   "execution_count": 3,
   "metadata": {
    "collapsed": true
   },
   "outputs": [],
   "source": [
    "# set some seaborn aesthetics\n",
    "sbn.set_palette(\"Set1\")"
   ]
  },
  {
   "cell_type": "code",
   "execution_count": 4,
   "metadata": {
    "collapsed": true
   },
   "outputs": [],
   "source": [
    "# initialize random seed for reproducibility\n",
    "np.random.seed(20160404)"
   ]
  },
  {
   "cell_type": "markdown",
   "metadata": {},
   "source": [
    "## Sums of squares functions\n",
    "\n",
    "Let's start by writing a set of functions for calculating sums of squared deviations from the mean (also called \"sums of squared differences\"), or \"sums-of-squares\" for short."
   ]
  },
  {
   "cell_type": "code",
   "execution_count": 5,
   "metadata": {
    "collapsed": false
   },
   "outputs": [],
   "source": [
    "def sum_squares_total(groups):\n",
    "    \"\"\"Calculate total sum of squares ignoring groups.\n",
    "    \n",
    "    groups should be a sequence of np.arrays representing the samples asssigned \n",
    "    to their respective groups.\n",
    "    \"\"\"\n",
    "    allobs = np.ravel(groups)  # np.ravel collapses arrays or lists into a single list\n",
    "    grandmean = np.mean(allobs)\n",
    "    return np.sum((allobs - grandmean)**2)\n",
    "    \n",
    "\n",
    "def sum_squares_between(groups):\n",
    "    \"\"\"Between group sum of squares\"\"\"\n",
    "    ns = np.array([len(g) for g in groups])\n",
    "    grandmean = np.mean(np.ravel(groups))\n",
    "    groupmeans = np.array([np.mean(g) for g in groups])\n",
    "    return np.sum(ns * (groupmeans - grandmean)**2)\n",
    "\n",
    "\n",
    "def sum_squares_within(groups):\n",
    "    \"\"\"Within group sum of squares\"\"\"\n",
    "    groupmeans = np.array([np.mean(g) for g in groups])\n",
    "    group_sumsquares = []\n",
    "    for i in range(len(groups)):\n",
    "        groupi = np.asarray(groups[i])\n",
    "        groupmeani = groupmeans[i]\n",
    "        group_sumsquares.append(np.sum((groupi - groupmeani)**2))\n",
    "    return np.sum(group_sumsquares)\n",
    "        \n",
    "    \n",
    "def degrees_freedom(groups):\n",
    "    \"\"\"Calculate the \"\"\"\n",
    "    N = len(np.ravel(groups))\n",
    "    k = len(groups)\n",
    "    return (k-1, N - k, N - 1)"
   ]
  },
  {
   "cell_type": "code",
   "execution_count": 6,
   "metadata": {
    "collapsed": true
   },
   "outputs": [],
   "source": [
    "def ANOVA_oneway(groups):\n",
    "    index = ['BtwGroup', 'WithinGroup', 'Total']\n",
    "    cols = ['df', 'SumSquares','MS','F','pval']\n",
    "    \n",
    "    df   = degrees_freedom(groups)\n",
    "    ss   = sum_squares_between(groups), sum_squares_within(groups), sum_squares_total(groups)\n",
    "    ms   = ss[0]/df[0], ss[1]/df[1], \"\"\n",
    "    F    = ms[0]/ms[1], \"\", \"\"\n",
    "    pval = stats.f.sf(F[0], df[0], df[1]), \"\", \"\"\n",
    "    \n",
    "    tbl = pd.DataFrame(index=index, columns=cols)\n",
    "    tbl.index.name = 'Source'\n",
    "    tbl.df = df\n",
    "    tbl.SumSquares = ss\n",
    "    tbl.MS = ms\n",
    "    tbl.F = F\n",
    "    tbl.pval = pval\n",
    "    \n",
    "    return tbl\n",
    "    \n",
    "def ANOVA_R2(anovatbl):\n",
    "    SSwin = anovatbl.SumSquares[1]\n",
    "    SStot = anovatbl.SumSquares[2]\n",
    "    return (1.0 - (SSwin/SStot))"
   ]
  },
  {
   "cell_type": "markdown",
   "metadata": {},
   "source": [
    "## Simulate ANOVA under the null hypothesis of no difference in group means"
   ]
  },
  {
   "cell_type": "code",
   "execution_count": 7,
   "metadata": {
    "collapsed": false
   },
   "outputs": [],
   "source": [
    "## simulate one way ANOVA under the null hypothesis of no \n",
    "## difference in group means\n",
    "\n",
    "groupmeans = [0, 0, 0, 0]\n",
    "k = len(groupmeans) # number of groups\n",
    "groupstds = [1] * k  # standard deviations equal across groups\n",
    "n = 25 # sample size\n",
    "\n",
    "# generate samples\n",
    "samples = [stats.norm.rvs(loc=i, scale=j, size = n) for (i,j) in zip(groupmeans,groupstds)]\n",
    "allobs = np.concatenate(samples)"
   ]
  },
  {
   "cell_type": "markdown",
   "metadata": {},
   "source": [
    "Draw a figure to illustrate the within group distributions and the total distribution."
   ]
  },
  {
   "cell_type": "code",
   "execution_count": 8,
   "metadata": {
    "collapsed": false
   },
   "outputs": [
    {
     "data": {
      "image/png": "[encoded data removed]",
      "text/plain": [
       "<matplotlib.figure.Figure at 0x7f7d399127f0>"
      ]
     },
     "metadata": {},
     "output_type": "display_data"
    }
   ],
   "source": [
    "sbn.set_palette(\"deep\")\n",
    "\n",
    "bins = np.linspace(-3, 3, 10)\n",
    "fig, axes = plt.subplots(1, 5, figsize=(20,5), sharex=True, sharey=True)\n",
    "\n",
    "for i, sample in enumerate(samples):\n",
    "    axes[i].hist(sample, bins=bins, histtype='stepfilled', \n",
    "                 linewidth=1.5, label='sample {}'.format(i+1))\n",
    "    axes[i].legend()\n",
    "\n",
    "axes[-1].hist(allobs, bins=bins, histtype='stepfilled', linewidth=2, label='all data')\n",
    "axes[-1].legend()\n",
    "axes[-1].set_title(\"All data combined\", fontsize=20)\n",
    "\n",
    "axes[0].set_ylabel(\"Frequency\", fontsize=20)\n",
    "axes[2].set_xlabel(\"X\", fontsize=20)\n",
    "\n",
    "fig.tight_layout()\n",
    "pass"
   ]
  },
  {
   "cell_type": "markdown",
   "metadata": {},
   "source": [
    "Calculate the sums of squares"
   ]
  },
  {
   "cell_type": "code",
   "execution_count": 9,
   "metadata": {
    "collapsed": false
   },
   "outputs": [
    {
     "name": "stdout",
     "output_type": "stream",
     "text": [
      "SS between: 3.38988403571\n",
      "SS within: 73.5951590182\n",
      "SS total: 76.9850430539\n"
     ]
    }
   ],
   "source": [
    "SSbtw = sum_squares_between(samples)\n",
    "SSwin = sum_squares_within(samples)\n",
    "SStot = sum_squares_total(samples)\n",
    "\n",
    "print(\"SS between:\", SSbtw)\n",
    "print(\"SS within:\", SSwin)\n",
    "print(\"SS total:\", SStot)"
   ]
  },
  {
   "cell_type": "markdown",
   "metadata": {
    "collapsed": true
   },
   "source": [
    "Generate ANOVA table:"
   ]
  },
  {
   "cell_type": "code",
   "execution_count": 10,
   "metadata": {
    "collapsed": false
   },
   "outputs": [
    {
     "data": {
      "text/html": [
       "<div>\n",
       "<table border=\"1\" class=\"dataframe\">\n",
       "  <thead>\n",
       "    <tr style=\"text-align: right;\">\n",
       "      <th></th>\n",
       "      <th>df</th>\n",
       "      <th>SumSquares</th>\n",
       "      <th>MS</th>\n",
       "      <th>F</th>\n",
       "      <th>pval</th>\n",
       "    </tr>\n",
       "    <tr>\n",
       "      <th>Source</th>\n",
       "      <th></th>\n",
       "      <th></th>\n",
       "      <th></th>\n",
       "      <th></th>\n",
       "      <th></th>\n",
       "    </tr>\n",
       "  </thead>\n",
       "  <tbody>\n",
       "    <tr>\n",
       "      <th>BtwGroup</th>\n",
       "      <td>3</td>\n",
       "      <td>3.389884</td>\n",
       "      <td>1.12996</td>\n",
       "      <td>1.47396</td>\n",
       "      <td>0.226502</td>\n",
       "    </tr>\n",
       "    <tr>\n",
       "      <th>WithinGroup</th>\n",
       "      <td>96</td>\n",
       "      <td>73.595159</td>\n",
       "      <td>0.766616</td>\n",
       "      <td></td>\n",
       "      <td></td>\n",
       "    </tr>\n",
       "    <tr>\n",
       "      <th>Total</th>\n",
       "      <td>99</td>\n",
       "      <td>76.985043</td>\n",
       "      <td></td>\n",
       "      <td></td>\n",
       "      <td></td>\n",
       "    </tr>\n",
       "  </tbody>\n",
       "</table>\n",
       "</div>"
      ],
      "text/plain": [
       "             df  SumSquares        MS        F      pval\n",
       "Source                                                  \n",
       "BtwGroup      3    3.389884   1.12996  1.47396  0.226502\n",
       "WithinGroup  96   73.595159  0.766616                   \n",
       "Total        99   76.985043                             "
      ]
     },
     "execution_count": 10,
     "metadata": {},
     "output_type": "execute_result"
    }
   ],
   "source": [
    "ANOVA_oneway(samples)"
   ]
  },
  {
   "cell_type": "markdown",
   "metadata": {},
   "source": [
    "## Simulating ANOVA under $H_A$"
   ]
  },
  {
   "cell_type": "code",
   "execution_count": 11,
   "metadata": {
    "collapsed": true
   },
   "outputs": [],
   "source": [
    "groupmeans = [0, 0, -1, 1]\n",
    "k = len(groupmeans) # number of groups\n",
    "groupstds = [1] * k  # standard deviations equal across groups\n",
    "n = 25 # sample size\n",
    "\n",
    "# generate samples\n",
    "samples = [stats.norm.rvs(loc=i, scale=j, size = n) for (i,j) in zip(groupmeans,groupstds)]\n",
    "allobs = np.concatenate(samples)"
   ]
  },
  {
   "cell_type": "code",
   "execution_count": 12,
   "metadata": {
    "collapsed": false
   },
   "outputs": [
    {
     "data": {
      "image/png": "[encoded data removed]",
      "text/plain": [
       "<matplotlib.figure.Figure at 0x7f7d2c60c588>"
      ]
     },
     "metadata": {},
     "output_type": "display_data"
    }
   ],
   "source": [
    "sbn.set_palette(\"deep\")\n",
    "\n",
    "bins = np.linspace(-3, 3, 10)\n",
    "fig, axes = plt.subplots(1, 5, figsize=(20,5), sharex=True, sharey=True)\n",
    "\n",
    "for i, sample in enumerate(samples):\n",
    "    axes[i].hist(sample, bins=bins, histtype='stepfilled', \n",
    "                 linewidth=1.5, label='sample {}'.format(i+1))\n",
    "    axes[i].legend()\n",
    "\n",
    "axes[-1].hist(allobs, bins=bins, histtype='stepfilled', linewidth=2, label='all data')\n",
    "axes[-1].legend()\n",
    "axes[-1].set_title(\"All data combined\", fontsize=20)\n",
    "\n",
    "axes[0].set_ylabel(\"Frequency\", fontsize=20)\n",
    "axes[2].set_xlabel(\"X\", fontsize=20)\n",
    "\n",
    "fig.tight_layout()\n",
    "pass"
   ]
  },
  {
   "cell_type": "code",
   "execution_count": 13,
   "metadata": {
    "collapsed": false
   },
   "outputs": [
    {
     "name": "stdout",
     "output_type": "stream",
     "text": [
      "SS between: 58.3506974287\n",
      "SS within: 103.063491836\n",
      "SS total: 161.414189265\n"
     ]
    }
   ],
   "source": [
    "SSbtw = sum_squares_between(samples)\n",
    "SSwin = sum_squares_within(samples)\n",
    "SStot = sum_squares_total(samples)\n",
    "\n",
    "print(\"SS between:\", SSbtw)\n",
    "print(\"SS within:\", SSwin)\n",
    "print(\"SS total:\", SStot)"
   ]
  },
  {
   "cell_type": "code",
   "execution_count": 14,
   "metadata": {
    "collapsed": false
   },
   "outputs": [
    {
     "data": {
      "text/html": [
       "<div>\n",
       "<table border=\"1\" class=\"dataframe\">\n",
       "  <thead>\n",
       "    <tr style=\"text-align: right;\">\n",
       "      <th></th>\n",
       "      <th>df</th>\n",
       "      <th>SumSquares</th>\n",
       "      <th>MS</th>\n",
       "      <th>F</th>\n",
       "      <th>pval</th>\n",
       "    </tr>\n",
       "    <tr>\n",
       "      <th>Source</th>\n",
       "      <th></th>\n",
       "      <th></th>\n",
       "      <th></th>\n",
       "      <th></th>\n",
       "      <th></th>\n",
       "    </tr>\n",
       "  </thead>\n",
       "  <tbody>\n",
       "    <tr>\n",
       "      <th>BtwGroup</th>\n",
       "      <td>3</td>\n",
       "      <td>58.350697</td>\n",
       "      <td>19.4502</td>\n",
       "      <td>18.1172</td>\n",
       "      <td>2.14268e-09</td>\n",
       "    </tr>\n",
       "    <tr>\n",
       "      <th>WithinGroup</th>\n",
       "      <td>96</td>\n",
       "      <td>103.063492</td>\n",
       "      <td>1.07358</td>\n",
       "      <td></td>\n",
       "      <td></td>\n",
       "    </tr>\n",
       "    <tr>\n",
       "      <th>Total</th>\n",
       "      <td>99</td>\n",
       "      <td>161.414189</td>\n",
       "      <td></td>\n",
       "      <td></td>\n",
       "      <td></td>\n",
       "    </tr>\n",
       "  </tbody>\n",
       "</table>\n",
       "</div>"
      ],
      "text/plain": [
       "             df  SumSquares       MS        F         pval\n",
       "Source                                                    \n",
       "BtwGroup      3   58.350697  19.4502  18.1172  2.14268e-09\n",
       "WithinGroup  96  103.063492  1.07358                      \n",
       "Total        99  161.414189                               "
      ]
     },
     "execution_count": 14,
     "metadata": {},
     "output_type": "execute_result"
    }
   ],
   "source": [
    "tbl = ANOVA_oneway(samples)\n",
    "tbl"
   ]
  },
  {
   "cell_type": "markdown",
   "metadata": {},
   "source": [
    "Calculate the value of $R^2$ for our ANOVA model:"
   ]
  },
  {
   "cell_type": "code",
   "execution_count": 15,
   "metadata": {
    "collapsed": false
   },
   "outputs": [
    {
     "data": {
      "text/plain": [
       "0.36149670418983804"
      ]
     },
     "execution_count": 15,
     "metadata": {},
     "output_type": "execute_result"
    }
   ],
   "source": [
    "ANOVA_R2(tbl)"
   ]
  },
  {
   "cell_type": "markdown",
   "metadata": {},
   "source": [
    "`scipy.stats` has an `f_oneway` function for calculating the f statistic and assocated p-value for a one-way ANOVA.  Let's compare oure result above to the implementation in `scipy.stats`"
   ]
  },
  {
   "cell_type": "code",
   "execution_count": 16,
   "metadata": {
    "collapsed": false
   },
   "outputs": [
    {
     "data": {
      "text/plain": [
       "F_onewayResult(statistic=18.117204108393736, pvalue=2.1426767523356996e-09)"
      ]
     },
     "execution_count": 16,
     "metadata": {},
     "output_type": "execute_result"
    }
   ],
   "source": [
    "# f_oneway expects the samples to be passed in as individual arguments\n",
    "# this *samples notation \"unpacks\" the list of samples, treating each as \n",
    "# an argument to the function.\n",
    "# see: https://docs.python.org/3/tutorial/controlflow.html#unpacking-argument-lists\n",
    "\n",
    "stats.f_oneway(*samples)"
   ]
  },
  {
   "cell_type": "markdown",
   "metadata": {},
   "source": [
    "# Anderson's Iris Data revisited"
   ]
  },
  {
   "cell_type": "code",
   "execution_count": 17,
   "metadata": {
    "collapsed": true
   },
   "outputs": [],
   "source": [
    "irisurl = \"https://raw.githubusercontent.com/Bio204-class/bio204-datasets/master/iris.csv\"\n",
    "iris = pd.read_csv(irisurl)"
   ]
  },
  {
   "cell_type": "code",
   "execution_count": 18,
   "metadata": {
    "collapsed": false
   },
   "outputs": [
    {
     "data": {
      "text/html": [
       "<div>\n",
       "<table border=\"1\" class=\"dataframe\">\n",
       "  <thead>\n",
       "    <tr style=\"text-align: right;\">\n",
       "      <th></th>\n",
       "      <th>Sepal.Length</th>\n",
       "      <th>Sepal.Width</th>\n",
       "      <th>Petal.Length</th>\n",
       "      <th>Petal.Width</th>\n",
       "      <th>Species</th>\n",
       "    </tr>\n",
       "  </thead>\n",
       "  <tbody>\n",
       "    <tr>\n",
       "      <th>0</th>\n",
       "      <td>5.1</td>\n",
       "      <td>3.5</td>\n",
       "      <td>1.4</td>\n",
       "      <td>0.2</td>\n",
       "      <td>setosa</td>\n",
       "    </tr>\n",
       "    <tr>\n",
       "      <th>1</th>\n",
       "      <td>4.9</td>\n",
       "      <td>3.0</td>\n",
       "      <td>1.4</td>\n",
       "      <td>0.2</td>\n",
       "      <td>setosa</td>\n",
       "    </tr>\n",
       "    <tr>\n",
       "      <th>2</th>\n",
       "      <td>4.7</td>\n",
       "      <td>3.2</td>\n",
       "      <td>1.3</td>\n",
       "      <td>0.2</td>\n",
       "      <td>setosa</td>\n",
       "    </tr>\n",
       "    <tr>\n",
       "      <th>3</th>\n",
       "      <td>4.6</td>\n",
       "      <td>3.1</td>\n",
       "      <td>1.5</td>\n",
       "      <td>0.2</td>\n",
       "      <td>setosa</td>\n",
       "    </tr>\n",
       "    <tr>\n",
       "      <th>4</th>\n",
       "      <td>5.0</td>\n",
       "      <td>3.6</td>\n",
       "      <td>1.4</td>\n",
       "      <td>0.2</td>\n",
       "      <td>setosa</td>\n",
       "    </tr>\n",
       "  </tbody>\n",
       "</table>\n",
       "</div>"
      ],
      "text/plain": [
       "   Sepal.Length  Sepal.Width  Petal.Length  Petal.Width Species\n",
       "0           5.1          3.5           1.4          0.2  setosa\n",
       "1           4.9          3.0           1.4          0.2  setosa\n",
       "2           4.7          3.2           1.3          0.2  setosa\n",
       "3           4.6          3.1           1.5          0.2  setosa\n",
       "4           5.0          3.6           1.4          0.2  setosa"
      ]
     },
     "execution_count": 18,
     "metadata": {},
     "output_type": "execute_result"
    }
   ],
   "source": [
    "iris.head()"
   ]
  },
  {
   "cell_type": "code",
   "execution_count": 19,
   "metadata": {
    "collapsed": false
   },
   "outputs": [
    {
     "data": {
      "image/png": "[encoded data removed]",
      "text/plain": [
       "<matplotlib.figure.Figure at 0x7f7d2c5f9d30>"
      ]
     },
     "metadata": {},
     "output_type": "display_data"
    }
   ],
   "source": [
    "sbn.distplot(iris[\"Sepal.Length\"])\n",
    "pass"
   ]
  },
  {
   "cell_type": "code",
   "execution_count": 20,
   "metadata": {
    "collapsed": false
   },
   "outputs": [
    {
     "data": {
      "image/png": "[encoded data removed]",
      "text/plain": [
       "<matplotlib.figure.Figure at 0x7f7d28e5bf98>"
      ]
     },
     "metadata": {},
     "output_type": "display_data"
    }
   ],
   "source": [
    "sbn.violinplot(x=\"Species\", y=\"Sepal.Length\", data=iris)\n",
    "pass"
   ]
  },
  {
   "cell_type": "code",
   "execution_count": 21,
   "metadata": {
    "collapsed": true
   },
   "outputs": [],
   "source": [
    "setosa = iris[iris.Species =='setosa']\n",
    "versicolor = iris[iris.Species=='versicolor']\n",
    "virginica = iris[iris.Species == 'virginica']"
   ]
  },
  {
   "cell_type": "code",
   "execution_count": 22,
   "metadata": {
    "collapsed": false
   },
   "outputs": [
    {
     "data": {
      "text/html": [
       "<div>\n",
       "<table border=\"1\" class=\"dataframe\">\n",
       "  <thead>\n",
       "    <tr style=\"text-align: right;\">\n",
       "      <th></th>\n",
       "      <th>df</th>\n",
       "      <th>SumSquares</th>\n",
       "      <th>MS</th>\n",
       "      <th>F</th>\n",
       "      <th>pval</th>\n",
       "    </tr>\n",
       "    <tr>\n",
       "      <th>Source</th>\n",
       "      <th></th>\n",
       "      <th></th>\n",
       "      <th></th>\n",
       "      <th></th>\n",
       "      <th></th>\n",
       "    </tr>\n",
       "  </thead>\n",
       "  <tbody>\n",
       "    <tr>\n",
       "      <th>BtwGroup</th>\n",
       "      <td>2</td>\n",
       "      <td>63.212133</td>\n",
       "      <td>31.6061</td>\n",
       "      <td>119.265</td>\n",
       "      <td>1.66967e-31</td>\n",
       "    </tr>\n",
       "    <tr>\n",
       "      <th>WithinGroup</th>\n",
       "      <td>147</td>\n",
       "      <td>38.956200</td>\n",
       "      <td>0.265008</td>\n",
       "      <td></td>\n",
       "      <td></td>\n",
       "    </tr>\n",
       "    <tr>\n",
       "      <th>Total</th>\n",
       "      <td>149</td>\n",
       "      <td>102.168333</td>\n",
       "      <td></td>\n",
       "      <td></td>\n",
       "      <td></td>\n",
       "    </tr>\n",
       "  </tbody>\n",
       "</table>\n",
       "</div>"
      ],
      "text/plain": [
       "              df  SumSquares        MS        F         pval\n",
       "Source                                                      \n",
       "BtwGroup       2   63.212133   31.6061  119.265  1.66967e-31\n",
       "WithinGroup  147   38.956200  0.265008                      \n",
       "Total        149  102.168333                                "
      ]
     },
     "execution_count": 22,
     "metadata": {},
     "output_type": "execute_result"
    }
   ],
   "source": [
    "ANOVA_oneway([setosa['Sepal.Length'], versicolor['Sepal.Length'],\n",
    "            virginica['Sepal.Length']])"
   ]
  },
  {
   "cell_type": "code",
   "execution_count": null,
   "metadata": {
    "collapsed": true
   },
   "outputs": [],
   "source": []
  }
 ],
 "metadata": {
  "kernelspec": {
   "display_name": "Python 3",
   "language": "python",
   "name": "python3"
  },
  "language_info": {
   "codemirror_mode": {
    "name": "ipython",
    "version": 3
   },
   "file_extension": ".py",
   "mimetype": "text/x-python",
   "name": "python",
   "nbconvert_exporter": "python",
   "pygments_lexer": "ipython3",
   "version": "3.5.1"
  }
 },
 "nbformat": 4,
 "nbformat_minor": 0
}
