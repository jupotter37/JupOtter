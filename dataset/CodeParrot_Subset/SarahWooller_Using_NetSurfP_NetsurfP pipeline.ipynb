{
 "cells": [
  {
   "cell_type": "markdown",
   "metadata": {},
   "source": [
    "# NetsurfP pipeline"
   ]
  },
  {
   "cell_type": "markdown",
   "metadata": {},
   "source": [
    "Intention is to take a list of mutations and\n",
    "make a file for netsurfp\n",
    "\n",
    "for each of the mutations\n",
    "-        check whether ENST or Uniprot\n",
    "-       for ENST \n",
    "-           get the ENST codes\n",
    "-        for Uniprot - get the ENSTs first\n",
    "-            then get the codes\n",
    "-           check that the wild is where it should be and if so \n",
    "-               add to the list of ENSTs\n",
    "-                construct the section to add to the file for netsurfp\n",
    "-                add to the file\n",
    "\n",
    "split the file into files of a reasonable length\n",
    "Do the same for all the ENSTs in the list\n",
    "\n",
    "call netsurfp with each of the files - saving them to somewhere sensible\n",
    "change each of the responses into a csv file.\n",
    "\n",
    "Concatenate the csv files into two - one for the mutations and one for the wild ENSTs\n",
    "\n",
    "for each of the mutations take out the right line from the mutations and from the wild ENSTs\n"
   ]
  },
  {
   "cell_type": "code",
   "execution_count": 1,
   "metadata": {
    "collapsed": true
   },
   "outputs": [],
   "source": [
    "import pandas as pd\n",
    "import json\n",
    "import re\n",
    "import sys\n",
    "import subprocess\n",
    "\n"
   ]
  },
  {
   "cell_type": "code",
   "execution_count": 2,
   "metadata": {
    "collapsed": true
   },
   "outputs": [],
   "source": [
    "import os"
   ]
  },
  {
   "cell_type": "code",
   "execution_count": 11,
   "metadata": {
    "collapsed": true
   },
   "outputs": [],
   "source": [
    "ENST_codes = get_ENST_codes()\n",
    "\n",
    "ENST_Uniprot = get_ENST_Uniprot()"
   ]
  },
  {
   "cell_type": "code",
   "execution_count": 3,
   "metadata": {
    "collapsed": true
   },
   "outputs": [],
   "source": [
    "def get_ENST_codes():\n",
    "\twith open(os.path.abspath('./data/ENST_codes.json'), 'r') as file:\n",
    "\t\treturn json.load(file)"
   ]
  },
  {
   "cell_type": "code",
   "execution_count": 5,
   "metadata": {
    "collapsed": false
   },
   "outputs": [],
   "source": [
    "def get_ENST_Uniprot():     \n",
    "    return pd.DataFrame.from_csv(os.path.abspath('./data/ENST_Uniprot.csv'))"
   ]
  },
  {
   "cell_type": "code",
   "execution_count": null,
   "metadata": {
    "collapsed": true
   },
   "outputs": [],
   "source": []
  },
  {
   "cell_type": "code",
   "execution_count": 6,
   "metadata": {
    "collapsed": false
   },
   "outputs": [],
   "source": [
    "def clean_directories():\n",
    "    subprocess.Popen(['rm','-rf', os.path.abspath('./temp_questions/')])\n",
    "    subprocess.Popen(['mkdir', 'temp_questions'])\n",
    "    subprocess.Popen(['rm','-rf', os.path.abspath('./temp_answers/')])\n",
    "    subprocess.Popen(['mkdir', 'temp_answers'])"
   ]
  },
  {
   "cell_type": "code",
   "execution_count": 7,
   "metadata": {
    "collapsed": true
   },
   "outputs": [],
   "source": [
    "def Split(string,n):\n",
    "\t\"\"\"Split a string into lines of length n with \\n in between them\"\"\"\n",
    "\tN =len(string)//n\n",
    "\treturn '\\n'.join([string[i*n:(i+1)*n] for i in range(N)]+[string[N*n:]])"
   ]
  },
  {
   "cell_type": "code",
   "execution_count": 60,
   "metadata": {
    "collapsed": true
   },
   "outputs": [],
   "source": [
    "class Mut:\n",
    "    \n",
    "    def __init__(self,mut):\n",
    "        \n",
    "        self.mut = mut\n",
    "        self.messages = {'ok':(True,'no problems encountered' ),\n",
    "                         'no ENST':(False,'no ENSTs correspond to this Uniprot code'),\n",
    "                         'too short':(False, \"none of the corresponding codes were long enough to encorporate this \"+\n",
    "                                      \"mutation\"),\n",
    "                         'wrong wild type': (False, \"whilst at least one of the corresponding codes was long enough to\"+\n",
    "                                             \"encorporate this mutation the AA did not correspond to the wild type given\")\n",
    "                        \n",
    "                        }\n",
    "\n",
    "    \n",
    "        parts = mut.split('_')\n",
    "        self.name = parts[0]\n",
    "        self.mutation = parts[1]\n",
    "        self.wild = self.mutation[0]\n",
    "        self.change = self.mutation[-1]\n",
    "        self.pos = int(self.mutation[1:-1])\n",
    "        \n",
    "        self.valid,self.ENSTs = self.get_ENSTs()\n",
    "        self.valid,self.ENST,self.wild_code = self.get_code()\n",
    "        self.mutant_code = self.mutate_code()\n",
    "        \n",
    "        \n",
    "    def get_ENSTs(self):\n",
    "        i=self.name\n",
    "        if i[:4]=='ENST':\n",
    "            return [i]\n",
    "        elif i in set(ENST_Uniprot['UniProtKB/Swiss-Prot ID']):\n",
    "            Uni = 'UniProtKB/Swiss-Prot ID'\n",
    "        elif i in set(ENST_Uniprot['UniProtKB/TrEMBL ID']):\n",
    "            Uni = 'UniProtKB/TrEMBL ID'\n",
    "        else:\n",
    "            return (self.messages['no ENST'],'')\n",
    "        return (self.messages['ok'],list(ENST_Uniprot[ENST_Uniprot[Uni]==i].index))\n",
    "    \n",
    "    def get_code(self):\n",
    "        length_ok = False\n",
    "        pos_ok = False\n",
    "        \n",
    "        codes = [ENST_codes.get(m,'') for m in self.ENSTs]\n",
    "        C = len(codes)\n",
    "        \n",
    "        for i in range(C):\n",
    "            if len(codes[i])>=self.pos:\n",
    "                length_ok = True\n",
    "                if codes[i][self.pos-1]==self.wild:\n",
    "                    pos_ok = True\n",
    "                    return (self.messages['ok'],self.ENSTs[i],codes[i])\n",
    "        if not length_ok:\n",
    "            return (self.messages['too short'],'','')\n",
    "        else:\n",
    "            return (self.messages['wrong wild type'],'','')\n",
    "    \n",
    "    def mutate_code(self):\n",
    "        return self.wild_code[:self.pos-1]+self.change+self.wild_code[self.pos:]\n",
    "        \n",
    "    def for_printing(self):\n",
    "        return ('>{0}_{1}'.format(self.ENST,self.mut),Split(self.mutant_code,61))"
   ]
  },
  {
   "cell_type": "code",
   "execution_count": 14,
   "metadata": {
    "collapsed": false
   },
   "outputs": [],
   "source": [
    "self = Mut('P00519_M244V')"
   ]
  },
  {
   "cell_type": "code",
   "execution_count": 57,
   "metadata": {
    "collapsed": true
   },
   "outputs": [],
   "source": [
    "def main():\n",
    "    ENST_codes = get_ENST_codes()\n",
    "    print('got ENST codes')\n",
    "    ENST_Uniprot = get_ENST_Uniprot()\n",
    "    print('got ENST Uniprot')\n",
    "    clean_directories()\n",
    "    print('directories cleaned')\n",
    "    file_number = make_NetSurfP_query()\n",
    "    print('queries made')\n",
    "    do_netsurfp(file_number)\n",
    "    print('netsurfp completed')"
   ]
  },
  {
   "cell_type": "code",
   "execution_count": 66,
   "metadata": {
    "collapsed": false
   },
   "outputs": [],
   "source": [
    "Questions = [q+'.fsa' for q in os.listdir('./temp_questions') if 'json' not in q]"
   ]
  },
  {
   "cell_type": "code",
   "execution_count": 67,
   "metadata": {
    "collapsed": true
   },
   "outputs": [],
   "source": [
    "for q in os.listdir('./temp_questions'):\n",
    "    if 'json' not in q:\n",
    "        p=subprocess.Popen(['cp','./temp_questions/'+q,'./temp_questions/'+q+'.fsa'])\n",
    "        p.communicate()"
   ]
  },
  {
   "cell_type": "code",
   "execution_count": 69,
   "metadata": {
    "collapsed": false
   },
   "outputs": [
    {
     "ename": "KeyboardInterrupt",
     "evalue": "",
     "output_type": "error",
     "traceback": [
      "\u001b[1;31m---------------------------------------------------------------------------\u001b[0m",
      "\u001b[1;31mKeyboardInterrupt\u001b[0m                         Traceback (most recent call last)",
      "\u001b[1;32m<ipython-input-69-723ede3bcf54>\u001b[0m in \u001b[0;36m<module>\u001b[1;34m()\u001b[0m\n\u001b[0;32m      1\u001b[0m \u001b[1;32mfor\u001b[0m \u001b[0mi\u001b[0m \u001b[1;32min\u001b[0m \u001b[0mrange\u001b[0m\u001b[1;33m(\u001b[0m\u001b[1;36m7566\u001b[0m\u001b[1;33m)\u001b[0m\u001b[1;33m:\u001b[0m\u001b[1;33m\u001b[0m\u001b[0m\n\u001b[1;32m----> 2\u001b[1;33m     \u001b[1;32mif\u001b[0m \u001b[1;34m'questions{}.fsa'\u001b[0m\u001b[1;33m.\u001b[0m\u001b[0mformat\u001b[0m\u001b[1;33m(\u001b[0m\u001b[0mi\u001b[0m\u001b[1;33m)\u001b[0m \u001b[1;32mnot\u001b[0m \u001b[1;32min\u001b[0m \u001b[0mos\u001b[0m\u001b[1;33m.\u001b[0m\u001b[0mlistdir\u001b[0m\u001b[1;33m(\u001b[0m\u001b[1;34m'./temp_questions'\u001b[0m\u001b[1;33m)\u001b[0m\u001b[1;33m:\u001b[0m\u001b[1;33m\u001b[0m\u001b[0m\n\u001b[0m\u001b[0;32m      3\u001b[0m         \u001b[0mprint\u001b[0m \u001b[1;33m(\u001b[0m\u001b[1;34m'number {} is not there'\u001b[0m\u001b[1;33m.\u001b[0m\u001b[0mformat\u001b[0m\u001b[1;33m(\u001b[0m\u001b[0mi\u001b[0m\u001b[1;33m)\u001b[0m\u001b[1;33m)\u001b[0m\u001b[1;33m\u001b[0m\u001b[0m\n",
      "\u001b[1;31mKeyboardInterrupt\u001b[0m: "
     ]
    }
   ],
   "source": [
    "for i in range(7566):\n",
    "    if 'questions{}.fsa'.format(i) not in os.listdir('./temp_questions'):\n",
    "        print ('number {} is not there'.format(i))"
   ]
  },
  {
   "cell_type": "code",
   "execution_count": 68,
   "metadata": {
    "collapsed": false
   },
   "outputs": [
    {
     "data": {
      "text/plain": [
       "7566"
      ]
     },
     "execution_count": 68,
     "metadata": {},
     "output_type": "execute_result"
    }
   ],
   "source": [
    "len(Questions)"
   ]
  },
  {
   "cell_type": "code",
   "execution_count": 45,
   "metadata": {
    "collapsed": false
   },
   "outputs": [],
   "source": [
    "mokca = pd.DataFrame.from_csv('~/Downloads/MoKCA.csv')"
   ]
  },
  {
   "cell_type": "code",
   "execution_count": 51,
   "metadata": {
    "collapsed": false
   },
   "outputs": [
    {
     "data": {
      "text/plain": [
       "64064"
      ]
     },
     "execution_count": 51,
     "metadata": {},
     "output_type": "execute_result"
    }
   ],
   "source": [
    "mokca.size"
   ]
  },
  {
   "cell_type": "code",
   "execution_count": 53,
   "metadata": {
    "collapsed": false
   },
   "outputs": [],
   "source": [
    "codes = [mokca.index[i].strip()+'_'+mokca.ix[i]['Substitution'] for i in range(mokca.size)]"
   ]
  },
  {
   "cell_type": "code",
   "execution_count": 56,
   "metadata": {
    "collapsed": false
   },
   "outputs": [],
   "source": [
    "with open('./data/codes.txt','w') as file:\n",
    "    file.write('')\n",
    "with open('./data/codes.txt','a') as file:\n",
    "    for f in codes:\n",
    "        file.write(f+'\\n')"
   ]
  },
  {
   "cell_type": "code",
   "execution_count": 54,
   "metadata": {
    "collapsed": false
   },
   "outputs": [
    {
     "data": {
      "text/plain": [
       "['O15504_S64P',\n",
       " 'O15504_S177F',\n",
       " 'O15504_D123Y',\n",
       " 'O15504_R13C',\n",
       " 'O15504_R159G',\n",
       " 'O15504_S177Y',\n",
       " 'O15504_Q36R',\n",
       " 'O15504_S66F',\n",
       " 'O15504_V57G',\n",
       " 'O15504_R180H']"
      ]
     },
     "execution_count": 54,
     "metadata": {},
     "output_type": "execute_result"
    }
   ],
   "source": [
    "codes[:10]"
   ]
  },
  {
   "cell_type": "code",
   "execution_count": 39,
   "metadata": {
    "collapsed": true
   },
   "outputs": [],
   "source": [
    "def make_NetSurfP_query():\n",
    "    muts = get_query()\n",
    "    mutations =[Mut(l) for l in muts]\n",
    "    validity = dict(zip([m.name for m in mutations],[m.valid for m in mutations]))\n",
    "    for_printing = [m.for_printing() for m in mutations]\n",
    "    temp_lists = dont_exceed_max(10000,for_printing)\n",
    "    make_questions('./temp_questions/','questions', temp_lists)\n",
    "    mutations_listed=[[i[0] for i in j] for j in temp_lists]\n",
    "    fine, too_short,wrong_wild = split_validity(validity)\n",
    "    \n",
    "    query = {'fine':fine,\n",
    "            'too short': too_short,\n",
    "            'wrong wild': wrong_wild,\n",
    "            'mutations for netsurfp': mutations_listed}\n",
    "    \n",
    "    with open('./temp_answers/query.json','w') as file:\n",
    "        json.dump(query,file)\n",
    "    return len(temp_lists)\n"
   ]
  },
  {
   "cell_type": "code",
   "execution_count": 23,
   "metadata": {
    "collapsed": true
   },
   "outputs": [],
   "source": [
    "def split_validity(validity):\n",
    "    too_short=[]\n",
    "    wrong_wild=[]\n",
    "    fine = []\n",
    "    for v in validity:\n",
    "        a,b = validity[v]\n",
    "        if a:\n",
    "            fine.append(v)\n",
    "        elif b=='none of the corresponding codes were long enough to encorporate this mutation':\n",
    "            too_short.append(v)\n",
    "        else:\n",
    "            wrong_wild.append(v)\n",
    "        "
   ]
  },
  {
   "cell_type": "code",
   "execution_count": 64,
   "metadata": {
    "collapsed": true
   },
   "outputs": [],
   "source": [
    "def make_questions(pathname, filename, temp_lists):\n",
    "    for t in range(len(temp_lists)):\n",
    "        name = pathname+filename+str(t)+'.fsa'\n",
    "        with open(name,'w') as file:\n",
    "            file.write('')\n",
    "        with open(name,'a') as file:\n",
    "            for i in temp_lists[t]:\n",
    "                a,b = i\n",
    "                file.write(a+'\\n')\n",
    "                file.write(b+'\\n')"
   ]
  },
  {
   "cell_type": "code",
   "execution_count": 41,
   "metadata": {
    "collapsed": false
   },
   "outputs": [],
   "source": [
    "def do_netsurfp(file_number):\n",
    "\n",
    "    for j in range(file_number):\n",
    "        input_file = 'temp_questions/questions{}.fsa'.format(j)\n",
    "        output_file = 'temp_answers/answers{}.rsa'.format(j)\n",
    "        p = subprocess.Popen(['netsurfp', '-i',input_file, '-o', output_file])\n",
    "        p.communicate()\n",
    "        print('{} completed'.format(j))\n",
    "        "
   ]
  },
  {
   "cell_type": "code",
   "execution_count": 30,
   "metadata": {
    "collapsed": false
   },
   "outputs": [],
   "source": [
    "mutations_listed=[[i[0] for i in j] for j in temp_lists]"
   ]
  },
  {
   "cell_type": "code",
   "execution_count": 31,
   "metadata": {
    "collapsed": false
   },
   "outputs": [
    {
     "data": {
      "text/plain": [
       "['>ENST00000318560_P00519_M244V',\n",
       " '>ENST00000318560_P00519_F359I',\n",
       " '>ENST00000318560_P00519_F317L',\n",
       " '>ENST00000318560_P00519_Q252H',\n",
       " '>ENST00000318560_P00519_F359V',\n",
       " '>ENST00000372348_P00519_V299L',\n",
       " '>ENST00000318560_P00519_E355G',\n",
       " '>ENST00000318560_P00519_L248V']"
      ]
     },
     "execution_count": 31,
     "metadata": {},
     "output_type": "execute_result"
    }
   ],
   "source": [
    "mutations_listed[0]"
   ]
  },
  {
   "cell_type": "code",
   "execution_count": 25,
   "metadata": {
    "collapsed": false
   },
   "outputs": [
    {
     "name": "stdout",
     "output_type": "stream",
     "text": [
      "To use this program you need to supply a file with a list of mutation codes\n",
      " These codes should be in the form of identifier_M244V where here\n",
      " M is the wild type 244 is the position and V is the mutant amino acid\n",
      " Your file should contain one mutation code per line and no other information\n",
      "\n",
      "please type the full path of the file that contains your mutation codes here without quotations marks./data/codes.txt\n",
      "Your query has been found\n",
      "9203\n",
      "9658\n",
      "9678\n",
      "8864\n",
      "9503\n",
      "9516\n",
      "9595\n",
      "9382\n",
      "8849\n",
      "9212\n",
      "9769\n",
      "9805\n",
      "9666\n",
      "9910\n",
      "9556\n",
      "8844\n",
      "8844\n",
      "9808\n",
      "9831\n",
      "9765\n",
      "9765\n",
      "9992\n",
      "9901\n",
      "8774\n",
      "9837\n",
      "9471\n",
      "9268\n",
      "8427\n",
      "9564\n",
      "9952\n",
      "8912\n",
      "9586\n",
      "8984\n",
      "9834\n",
      "9218\n",
      "9844\n",
      "9911\n",
      "9112\n",
      "9851\n",
      "9596\n",
      "5455\n",
      "6728\n",
      "6728\n",
      "6728\n",
      "6728\n",
      "9947\n",
      "9943\n",
      "9480\n",
      "9962\n",
      "9821\n",
      "9564\n",
      "7298\n",
      "5287\n",
      "9855\n"
     ]
    }
   ],
   "source": [
    "muts = get_query()\n",
    "mutations =[Mut(l) for l in muts]\n",
    "validity = dict(zip([m.name for m in mutations],[m.valid for m in mutations]))\n",
    "for_printing = [m.for_printing() for m in mutations]\n",
    "temp_lists = dont_exceed_max(10000,for_printing)"
   ]
  },
  {
   "cell_type": "code",
   "execution_count": null,
   "metadata": {
    "collapsed": true
   },
   "outputs": [],
   "source": []
  },
  {
   "cell_type": "code",
   "execution_count": null,
   "metadata": {
    "collapsed": false
   },
   "outputs": [],
   "source": [
    "f[:2]"
   ]
  },
  {
   "cell_type": "code",
   "execution_count": null,
   "metadata": {
    "collapsed": true
   },
   "outputs": [],
   "source": [
    "os.listdir()"
   ]
  },
  {
   "cell_type": "code",
   "execution_count": null,
   "metadata": {
    "collapsed": false
   },
   "outputs": [],
   "source": [
    "os.system(\"netsurfp -h\")"
   ]
  },
  {
   "cell_type": "code",
   "execution_count": null,
   "metadata": {
    "collapsed": false
   },
   "outputs": [],
   "source": [
    "\n",
    "subprocess.Popen(['netsurfp','-i','./temp_questions/questions0','-o','./temp_answers/answers'])"
   ]
  },
  {
   "cell_type": "code",
   "execution_count": null,
   "metadata": {
    "collapsed": true
   },
   "outputs": [],
   "source": [
    "fine, too_short,wrong_wild = split_validity(validity)"
   ]
  },
  {
   "cell_type": "code",
   "execution_count": null,
   "metadata": {
    "collapsed": false
   },
   "outputs": [],
   "source": [
    "subprocess.Popen(['pwd'])"
   ]
  },
  {
   "cell_type": "code",
   "execution_count": null,
   "metadata": {
    "collapsed": false
   },
   "outputs": [],
   "source": [
    "validity = make_NetSurfP_query()"
   ]
  },
  {
   "cell_type": "code",
   "execution_count": null,
   "metadata": {
    "collapsed": true
   },
   "outputs": [],
   "source": []
  },
  {
   "cell_type": "code",
   "execution_count": null,
   "metadata": {
    "collapsed": true
   },
   "outputs": [],
   "source": []
  },
  {
   "cell_type": "code",
   "execution_count": 21,
   "metadata": {
    "collapsed": true
   },
   "outputs": [],
   "source": [
    "def get_query():\n",
    "    print('To use this program you need to supply a file with a list of mutation codes\\n',\n",
    "         'These codes should be in the form of identifier_M244V where here\\n',\n",
    "         'M is the wild type 244 is the position and V is the mutant amino acid\\n',\n",
    "         'Your file should contain one mutation code per line and no other information\\n')\n",
    "    query_file = input('please type the full path of the file that contains your mutation codes here without quotations marks')\n",
    "    try:\n",
    "        \n",
    "        with open(query_file,'r') as file:\n",
    "            tmp = file.readlines()\n",
    "        print('Your query has been found')\n",
    "        return [t.strip('\\n') for t in tmp]\n",
    "    except FileNotFoundError:\n",
    "        print('file not found, quit and try again')\n",
    "        return []"
   ]
  },
  {
   "cell_type": "code",
   "execution_count": 36,
   "metadata": {
    "collapsed": true
   },
   "outputs": [],
   "source": [
    "def dont_exceed_max(Max,code_list):\n",
    "    \n",
    "    C = len(code_list)\n",
    "    temp_list=[]\n",
    "    for_inclusion=[]\n",
    "    limit = 0\n",
    "    for i in range(C):\n",
    "        a,b = code_list[i]\n",
    "        B = len(b)\n",
    "        if limit+B<Max:\n",
    "            for_inclusion.append(code_list[i])\n",
    "            limit+=B\n",
    "        else:\n",
    "            temp_list.append(for_inclusion)\n",
    "            limit=B\n",
    "            for_inclusion=[code_list[i]]\n",
    "    temp_list.append(for_inclusion)\n",
    "    return temp_list"
   ]
  },
  {
   "cell_type": "code",
   "execution_count": 20,
   "metadata": {
    "collapsed": false
   },
   "outputs": [
    {
     "name": "stdout",
     "output_type": "stream",
     "text": [
      "To use this program you need to supply a file with a list of mutation codes\n",
      " These codes should be in the form of identifier_M244V where here\n",
      " M is the wild type 244 is the position and V is the mutant amino acid\n",
      " Your file should contain one mutation code per line and no other information\n",
      "\n",
      "please type the full path of the file that contains your mutation codes here./data/codes.txt\n"
     ]
    }
   ],
   "source": [
    "muts = get_query()\n",
    "\n",
    "mutations =[Mut(l) for l in muts]\n",
    "\n",
    "Validity = dict(zip([m.name for m in mutations],[m.valid for m in mutations]))\n",
    "\n",
    "for_printing = [m.for_printing() for m in mutations]"
   ]
  },
  {
   "cell_type": "code",
   "execution_count": null,
   "metadata": {
    "collapsed": false
   },
   "outputs": [],
   "source": [
    "temp_lists = dont_exceed_max(100000,for_printing)"
   ]
  },
  {
   "cell_type": "code",
   "execution_count": null,
   "metadata": {
    "collapsed": false
   },
   "outputs": [],
   "source": [
    "temp_lists[0]"
   ]
  },
  {
   "cell_type": "code",
   "execution_count": null,
   "metadata": {
    "collapsed": false
   },
   "outputs": [],
   "source": [
    "self.for_printing()"
   ]
  },
  {
   "cell_type": "markdown",
   "metadata": {},
   "source": [
    "bit of codes to give me something to play with "
   ]
  },
  {
   "cell_type": "code",
   "execution_count": null,
   "metadata": {
    "collapsed": false
   },
   "outputs": [],
   "source": [
    "codes = pd.DataFrame.from_csv('OGvNeutral.csv')\n",
    "\n",
    "codes['codes'] = codes['Uniprot ID']+'_'+codes['Substitution']\n",
    "\n",
    "\n",
    "L = list(codes['codes'])\n",
    "\n",
    "L1 = [i for i in L if type(i)==str]\n",
    "\n",
    "with open('./data/codes.txt','w') as file:\n",
    "    file.write('')\n",
    "\n",
    "with open('./data/codes.txt','a') as file:\n",
    "    for l in L1:\n",
    "        file.write(l+'\\n')"
   ]
  },
  {
   "cell_type": "code",
   "execution_count": null,
   "metadata": {
    "collapsed": true
   },
   "outputs": [],
   "source": [
    "def "
   ]
  },
  {
   "cell_type": "code",
   "execution_count": null,
   "metadata": {
    "collapsed": false
   },
   "outputs": [],
   "source": [
    "for_printing[:10]"
   ]
  },
  {
   "cell_type": "code",
   "execution_count": null,
   "metadata": {
    "collapsed": false
   },
   "outputs": [],
   "source": [
    "self.mutant_code[243]"
   ]
  },
  {
   "cell_type": "code",
   "execution_count": null,
   "metadata": {
    "collapsed": false
   },
   "outputs": [],
   "source": [
    "self.ENST"
   ]
  },
  {
   "cell_type": "code",
   "execution_count": null,
   "metadata": {
    "collapsed": false
   },
   "outputs": [],
   "source": [
    "self.code"
   ]
  },
  {
   "cell_type": "code",
   "execution_count": null,
   "metadata": {
    "collapsed": true
   },
   "outputs": [],
   "source": []
  }
 ],
 "metadata": {
  "kernelspec": {
   "display_name": "Python 3",
   "language": "python",
   "name": "python3"
  },
  "language_info": {
   "codemirror_mode": {
    "name": "ipython",
    "version": 3
   },
   "file_extension": ".py",
   "mimetype": "text/x-python",
   "name": "python",
   "nbconvert_exporter": "python",
   "pygments_lexer": "ipython3",
   "version": "3.4.4"
  }
 },
 "nbformat": 4,
 "nbformat_minor": 0
}
