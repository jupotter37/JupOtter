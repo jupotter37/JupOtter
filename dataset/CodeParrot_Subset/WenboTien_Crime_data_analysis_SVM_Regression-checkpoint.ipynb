{
 "cells": [
  {
   "cell_type": "code",
   "execution_count": 79,
   "metadata": {
    "collapsed": true,
    "deletable": true,
    "editable": true
   },
   "outputs": [],
   "source": [
    "import sklearn\n",
    "import pandas\n",
    "import numpy as np\n",
    "from sklearn import linear_model\n",
    "reg = linear_model.LinearRegression()\n",
    "reg1 = linear_model.BayesianRidge()\n",
    "reg2 = linear_model.RANSACRegressor()\n",
    "reg3 = linear_model.LassoLars(alpha=.1)\n",
    "reg4 = linear_model.RidgeCV(alphas=[0.1, 1.0, 10.0])\n",
    "reg5 = linear_model.ElasticNetCV()\n",
    "reg6 = linear_model.SGDRegressor()\n",
    "reg7 = linear_model.PassiveAggressiveRegressor()\n",
    "reg8 = linear_model.TheilSenRegressor()\n",
    "reg9 = linear_model.HuberRegressor()\n",
    "from sklearn import svm\n",
    "clf = svm.SVR(C=1.0, epsilon=0.2)\n",
    "models = [clf, reg, reg1,reg2,reg3,reg4,reg5,reg6,reg7,reg9]\n"
   ]
  },
  {
   "cell_type": "code",
   "execution_count": 80,
   "metadata": {
    "collapsed": false,
    "deletable": true,
    "editable": true
   },
   "outputs": [],
   "source": [
    "\n",
    "\n",
    "dataframe = pandas.read_csv('../datasets/UCIrvineCrimeData.csv')"
   ]
  },
  {
   "cell_type": "markdown",
   "metadata": {
    "deletable": true,
    "editable": true
   },
   "source": [
    "# Cleaning the data"
   ]
  },
  {
   "cell_type": "code",
   "execution_count": 81,
   "metadata": {
    "collapsed": false,
    "deletable": true,
    "editable": true
   },
   "outputs": [],
   "source": [
    "\n",
    "dataframe = dataframe.replace('?',np.NAN)\n",
    "dict1 = dataframe.isnull().sum().to_dict()\n",
    "non_zero = []\n",
    "for a in dict1.keys():\n",
    "\tif dict1[a] > 100:\n",
    "# \t\tprint a\n",
    "# \t\tprint dict1[a]\n",
    "\t\tnon_zero.append(a)\n",
    "\n",
    "# print non_zero\n",
    "for elem in non_zero:\n",
    "\tdel dataframe[elem]\n",
    "\n",
    "# Perhaps its better to remove this row.\n",
    "# No reason in removing whole column.\n",
    "dataframe= dataframe.dropna()\n",
    "cols  = list(dataframe.columns.values)\n",
    "\n",
    "cols = [ x for x in cols if x not in ['fold', 'state', 'community', 'communityname', 'county'\n",
    "                                               ,'ViolentCrimesPerPop']]\n",
    "# cols = ['numbUrban', 'NumInShelters']\n",
    "for i in xrange(len(cols)):\n",
    "    for k in xrange(i,len(cols)):\n",
    "        cols1 = [cols[i], cols[k]]\n"
   ]
  },
  {
   "cell_type": "markdown",
   "metadata": {
    "deletable": true,
    "editable": true
   },
   "source": [
    "## Getting Training Data and Training Labels. (Training = 2/3, Test=1/3)"
   ]
  },
  {
   "cell_type": "code",
   "execution_count": 82,
   "metadata": {
    "collapsed": false,
    "deletable": true,
    "editable": true
   },
   "outputs": [
    {
     "name": "stdout",
     "output_type": "stream",
     "text": [
      "[ 0.2   0.67  0.43 ...,  0.23  0.19  0.48]\n"
     ]
    }
   ],
   "source": [
    "X = dataframe[list(cols)].values\n",
    "total_val = len(dataframe['ViolentCrimesPerPop'].values)\n",
    "percent = 2/float(3)\n",
    "edge_val = int(total_val*percent)\n",
    "# print\n",
    "# print reg.fit(X, dataframe[cols[-1]].values)\n",
    "Y = np.asarray(dataframe['ViolentCrimesPerPop'].values)\n",
    "print Y\n",
    "\n",
    "\n"
   ]
  },
  {
   "cell_type": "markdown",
   "metadata": {
    "deletable": true,
    "editable": true
   },
   "source": [
    "# Performing Regression"
   ]
  },
  {
   "cell_type": "code",
   "execution_count": 83,
   "metadata": {
    "collapsed": false,
    "deletable": true,
    "editable": true
   },
   "outputs": [],
   "source": [
    "for model in models:\n",
    "    model.fit(X[:edge_val], Y[:edge_val])"
   ]
  },
  {
   "cell_type": "markdown",
   "metadata": {
    "deletable": true,
    "editable": true
   },
   "source": [
    "# Predicting on Test Values"
   ]
  },
  {
   "cell_type": "code",
   "execution_count": 85,
   "metadata": {
    "collapsed": false,
    "deletable": true,
    "editable": true
   },
   "outputs": [],
   "source": [
    "y_predict = [model.predict(X[edge_val:]) for model in models]"
   ]
  },
  {
   "cell_type": "markdown",
   "metadata": {
    "deletable": true,
    "editable": true
   },
   "source": [
    "# Calculating Error of Estimate"
   ]
  },
  {
   "cell_type": "code",
   "execution_count": 86,
   "metadata": {
    "collapsed": false,
    "deletable": true,
    "editable": true
   },
   "outputs": [
    {
     "name": "stdout",
     "output_type": "stream",
     "text": [
      "Error of Estimates\n",
      "[0.019638199850900737, 0.017404206681288809, 0.016869644773174153, 0.14612669450461907, 0.046194355413773855, 0.016994298317673882, 0.016962308052769402, 0.017372763574437011, 0.018487657969123761, 0.017071350383533343]\n"
     ]
    }
   ],
   "source": [
    "error = [0] * len(models)\n",
    "for i in xrange(edge_val, total_val):\n",
    "    for k in xrange(len(models)):\n",
    "        error[k] += (float(Y[i]) - y_predict[k][i-edge_val])**2\n",
    "        \n",
    "print \"Error of Estimates\"\n",
    "error = [er/float(total_val- edge_val) for er in error]\n",
    "\n",
    "\n",
    "print error\n"
   ]
  },
  {
   "cell_type": "code",
   "execution_count": null,
   "metadata": {
    "collapsed": true,
    "deletable": true,
    "editable": true
   },
   "outputs": [],
   "source": []
  },
  {
   "cell_type": "code",
   "execution_count": null,
   "metadata": {
    "collapsed": true
   },
   "outputs": [],
   "source": []
  },
  {
   "cell_type": "code",
   "execution_count": null,
   "metadata": {
    "collapsed": true
   },
   "outputs": [],
   "source": []
  }
 ],
 "metadata": {
  "kernelspec": {
   "display_name": "Python 2",
   "language": "python",
   "name": "python2"
  },
  "language_info": {
   "codemirror_mode": {
    "name": "ipython",
    "version": 2
   },
   "file_extension": ".py",
   "mimetype": "text/x-python",
   "name": "python",
   "nbconvert_exporter": "python",
   "pygments_lexer": "ipython2",
   "version": "2.7.6"
  }
 },
 "nbformat": 4,
 "nbformat_minor": 2
}
