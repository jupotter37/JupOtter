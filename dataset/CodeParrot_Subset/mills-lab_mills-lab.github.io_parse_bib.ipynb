{
 "cells": [
  {
   "cell_type": "code",
   "execution_count": 79,
   "metadata": {
    "collapsed": false,
    "scrolled": true
   },
   "outputs": [],
   "source": [
    "from Bio import Medline\n",
    "import re\n",
    "import glob\n",
    "\n",
    "colon = re.compile(r\"(.*:.*)\")\n",
    "pmids = {}\n",
    "with open(\"assets/mybib.nbib\") as handle:\n",
    "    records = Medline.parse(handle)\n",
    "    for record in records:\n",
    "        if (pmids.has_key(record['PMID'])):\n",
    "            continue\n",
    "        pmids[record['PMID']] = 1   \n",
    "        f = open(\"_pubs/\" + record['PMID'] + \".md\", 'w')\n",
    "        f.write(\"---\\n\")\n",
    "        f.write(\"pmid: \" + record['PMID'] + \"\\n\")\n",
    "        f.write(\"layout: default\\n\")\n",
    "        match = colon.match(record['TI'])\n",
    "        if match:\n",
    "            record['TI'] = match.group(1).replace(\":\", \"&#58;\")\n",
    "        f.write(\"title: \" + record['TI'] + \"\\n\")\n",
    "        f.write(\"authors: \")\n",
    "        authors = record['AU']\n",
    "        if (record.has_key('CN')):\n",
    "            authors = authors + record['CN']\n",
    "        f.write(', '.join(authors) + \"\\n\")\n",
    "        f.write(\"pubdate: \" + record['DP'] + \"\\n\")\n",
    "        f.write(\"volume: \" + record['VI'] + \"\\n\")\n",
    "        if (record.has_key('IP')):\n",
    "            f.write(\"issue: \" + record['IP'] + \"\\n\")\n",
    "        else:\n",
    "            f.write(\"issue: \" + \"\\n\")\n",
    "        f.write(\"pages: \" + record['PG'] + \"\\n\")\n",
    "        f.write(\"journal: \" + record['TA'] + \"\\n\")\n",
    "        f.write(\"---\\n\")\n",
    "        f.close()"
   ]
  },
  {
   "cell_type": "code",
   "execution_count": null,
   "metadata": {
    "collapsed": true
   },
   "outputs": [],
   "source": []
  }
 ],
 "metadata": {
  "kernelspec": {
   "display_name": "Python 2",
   "language": "python",
   "name": "python2"
  },
  "language_info": {
   "codemirror_mode": {
    "name": "ipython",
    "version": 2
   },
   "file_extension": ".py",
   "mimetype": "text/x-python",
   "name": "python",
   "nbconvert_exporter": "python",
   "pygments_lexer": "ipython2",
   "version": "2.7.10"
  }
 },
 "nbformat": 4,
 "nbformat_minor": 0
}
