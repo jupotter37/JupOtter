{
 "cells": [
  {
   "cell_type": "markdown",
   "metadata": {
    "slideshow": {
     "slide_type": "slide"
    }
   },
   "source": [
    "\n",
    "<center><h1>Ecuaciones Diferenciales con Python</h1>\n",
    "\n",
    "<img alt=\"Ecuaciones Diferenciales con python\" title=\"Series de Taylor\" src=\"https://relopezbriega.github.io/images/diffeq.gif\" width=\"200px\" height=\"300px\">\n",
    "\n",
    "<a href=\"https://conf.scipyla.org/scipyla2016/\">SciPyLA 2016</a> - Florianópolis, Santa Catarina, Brasil - 20 de Mayo de 2016\n",
    "\n",
    "<img alt=\"SciPyLA\" title=\"SciPyLA\" src=\"https://conf.scipyla.org/scipyla2016/site_media/static/img/logo2-scipyla-path.svg\" width=\"200px\" height=\"120px\"></center> "
   ]
  },
  {
   "cell_type": "markdown",
   "metadata": {
    "slideshow": {
     "slide_type": "slide"
    }
   },
   "source": [
    "# Qué es una ecuación diferencial?\n",
    "\n",
    "Una [Ecuación diferencial](https://relopezbriega.github.io/blog/2016/01/10/ecuaciones-diferenciales-con-python/) es una ecuación que involucra una variable dependiente y sus [derivadas](https://es.wikipedia.org/wiki/Derivada) con respecto a una o más variables independientes. Muchas de las leyes de la naturaleza, en [Física](https://es.wikipedia.org/wiki/F%C3%ADsica), [Química](https://es.wikipedia.org/wiki/Qu%C3%ADmica), [Biología](https://es.wikipedia.org/wiki/Biolog%C3%ADa), y [Astronomía](https://es.wikipedia.org/wiki/Astronom%C3%ADa); encuentran la forma más natural de ser expresadas en el lenguaje de las [Ecuaciones diferenciales](https://es.wikipedia.org/wiki/Ecuaci%C3%B3n_diferencial). Estas ecuaciones no sólo tienen aplicaciones en la ciencias físicas, sino que también abundan sus aplicaciones en las ciencias aplicadas como ser [Ingeniería](https://es.wikipedia.org/wiki/Ingenier%C3%ADa), [Finanzas](https://es.wikipedia.org/wiki/Finanzas) y [Economía](https://es.wikipedia.org/wiki/Econom%C3%ADa). "
   ]
  },
  {
   "cell_type": "markdown",
   "metadata": {
    "slideshow": {
     "slide_type": "subslide"
    }
   },
   "source": [
    "## Por qué son importantes?\n",
    "\n",
    "Es fácil entender la razón detrás de esta amplia utilidad de las [Ecuaciones diferenciales](https://relopezbriega.github.io/blog/2016/01/10/ecuaciones-diferenciales-con-python/). Si recordamos que $y = f(x)$ es una [función](https://es.wikipedia.org/wiki/Funci%C3%B3n_matem%C3%A1tica), entonces su [derivada](https://es.wikipedia.org/wiki/Derivada) $dy / dx$ puede ser interpretada como el *ritmo de cambio* de $y$ con respecto a $x$. En muchos procesos naturales, las variables involucradas y su *ritmo de cambio* están conectados entre sí por medio de los principios científicos básicos que rigen el proceso. Cuando esta conexión es expresada matemáticamente, el resultado generalmente es una [Ecuación diferencial](https://relopezbriega.github.io/blog/2016/01/10/ecuaciones-diferenciales-con-python/).\n",
    "\n",
    "<center><img alt=\"Ritmo de cambio\" title=\"Diferenciación\" src=\"https://relopezbriega.github.io/images/Graph_of_sliding_derivative_line.gif\"></center>\n"
   ]
  },
  {
   "cell_type": "markdown",
   "metadata": {
    "slideshow": {
     "slide_type": "subslide"
    }
   },
   "source": [
    "## La ley de enfriamiento de Newton\n",
    "\n",
    "La [ley del enfriamiento de Newton](https://es.wikipedia.org/wiki/Ley_del_enfriamiento_de_Newton) o enfriamiento newtoniano establece que la tasa de pérdida de calor de un cuerpo es proporcional a la diferencia de temperatura entre el cuerpo y su ambiente.\n",
    "\n",
    "La [ley del enfriamiento de Newton](https://es.wikipedia.org/wiki/Ley_del_enfriamiento_de_Newton) hace una declaración sobre una tasa instantánea de *cambio* de la temperatura. Por lo que si traducimos esto al lenguaje de las matemáticas, podemos arribar a una [Ecuación diferencial](https://relopezbriega.github.io/blog/2016/01/10/ecuaciones-diferenciales-con-python/).\n",
    "\n",
    "Lo que la ley nos dice, es que el *ritmo de cambio* de la temperatura $\\frac{dT}{dt}$ es *proporcional* a la tempuratura de nuestro objeto $T(t)$ y la tempuratura del ambiente $T_{a}$, por lo tanto esto lo podemos expresar de la siguiente manera:\n",
    "\n",
    "$$\\frac{dT}{dt} = -k(T - T_{a})$$\n",
    "\n",
    "En donde $k$ es una constante de proporcionalidad, $t$ es la variable tiempo, $T_{a}$ es la temperutara del ambiente y $T$ es la función incognita que queremos encontrar.\n"
   ]
  },
  {
   "cell_type": "markdown",
   "metadata": {
    "slideshow": {
     "slide_type": "slide"
    }
   },
   "source": [
    "# Tipos de Ecuaciones diferenciales\n",
    "\n",
    "A las [Ecuaciones diferenciales](https://relopezbriega.github.io/blog/2016/01/10/ecuaciones-diferenciales-con-python/) las podemos clasificar en dos grandes grupos:\n",
    "\n",
    "* **Ecuaciones diferencias ordinarias**\n",
    "\n",
    "* **Ecuaciones en derivadas parciales**"
   ]
  },
  {
   "cell_type": "markdown",
   "metadata": {
    "slideshow": {
     "slide_type": "subslide"
    }
   },
   "source": [
    "## Ecuaciones diferenciales ordinarias\n",
    "\n",
    "La [Ecuación diferencial](https://relopezbriega.github.io/blog/2016/01/10/ecuaciones-diferenciales-con-python/) de la [ley del enfriamiento de Newton](https://es.wikipedia.org/wiki/Ley_del_enfriamiento_de_Newton), es el caso típico de una [Ecuación diferencial ordinaria](https://relopezbriega.github.io/blog/2016/01/10/ecuaciones-diferenciales-con-python/), ya que todas las [derivadas](https://es.wikipedia.org/wiki/Derivada) involucradas son tomadas con respecto a una única y misma variable independiente (en este caso, el tiempo). \n",
    "\n",
    "Cuando una [Ecuación diferencial](https://relopezbriega.github.io/blog/2016/01/10/ecuaciones-diferenciales-con-python/) contiene [derivadas](https://es.wikipedia.org/wiki/Derivada) con respecto a única variable independiente, las denominamos  [Ecuaciones diferenciales ordinarias](https://relopezbriega.github.io/blog/2016/01/10/ecuaciones-diferenciales-con-python/) o [EDO](https://relopezbriega.github.io/blog/2016/01/10/ecuaciones-diferenciales-con-python/) para abreviar.\n",
    "\n",
    "Ejemplos de estas ecuaciones son:\n",
    "\n",
    "$$\\frac{d^2y}{dx^2} + \\frac{dy}{dx} + y = 0; \\hspace{2cm}     \\frac{dy}{dx} = 2xy; $$"
   ]
  },
  {
   "cell_type": "markdown",
   "metadata": {
    "slideshow": {
     "slide_type": "subslide"
    }
   },
   "source": [
    "## Ecuaciones en derivadas parciales\n",
    "\n",
    "Una [Ecuación en derivadas parciales](https://relopezbriega.github.io/blog/2016/01/27/ecuaciones-en-derivadas-parciales-con-python/) es una ecuación que, como su nombre lo indica, contiene [derivadas parciales](https://es.wikipedia.org/wiki/Derivada_parcial). A diferencia de lo que habíamos visto con las [ecuaciones diferenciales ordinarias](https://relopezbriega.github.io/blog/2016/01/10/ecuaciones-diferenciales-con-python/), en donde la función incógnita depende **solo** de *una variable*; en las [Ecuaciones en derivadas parciales](https://relopezbriega.github.io/blog/2016/01/27/ecuaciones-en-derivadas-parciales-con-python/), o [EDP](https://relopezbriega.github.io/blog/2016/01/27/ecuaciones-en-derivadas-parciales-con-python/) para abreviar, la función incógnita va a depender de **dos o más** *variables independientes* $x, y, \\dots$. Generalmente a la función incógnita la vamos a expresar como $u(x, y, \\dots)$ y a sus derivadas parciales como $\\partial u / \\partial x = u_x$ o  $\\partial u / \\partial y = u_y$ dependiendo de sobre que variable estemos derivando.\n",
    "\n",
    "Ejemplos de estas ecuaciones son:\n",
    "\n",
    "$$\\frac{\\partial^2 w}{\\partial x^2} +  \\frac{\\partial^2 w}{\\partial y^2} + \\frac{\\partial^2 w}{\\partial z^2} = 0 \\hspace{2cm} a^2\\left(\\frac{\\partial^2 w}{\\partial x^2} +  \\frac{\\partial^2 w}{\\partial y^2} + \\frac{\\partial^2 w}{\\partial z^2}\\right) = \\frac{\\partial w}{\\partial t}$$"
   ]
  },
  {
   "cell_type": "markdown",
   "metadata": {
    "slideshow": {
     "slide_type": "skip"
    }
   },
   "source": [
    "# Clasificación de las Ecuaciones diferenciales \n",
    "\n",
    "La clasificación de las [Ecuaciones diferenciales](https://relopezbriega.github.io/blog/2016/01/10/ecuaciones-diferenciales-con-python/) es algo muy importante, ya que dependiendo del tipo de ecuación con el que estemos tratando, distintos seran los caminos que podemos utilizar para resolverlas.\n",
    "\n",
    "Las podemos clasificar de la siguiente manera:\n"
   ]
  },
  {
   "cell_type": "markdown",
   "metadata": {
    "slideshow": {
     "slide_type": "skip"
    }
   },
   "source": [
    "## Segun su orden\n",
    "\n",
    "El *orden* de una [Ecuación diferencial](https://relopezbriega.github.io/blog/2016/01/10/ecuaciones-diferenciales-con-python/) va a ser igual al *orden* de la mayor [derivada](https://es.wikipedia.org/wiki/Derivada) presente. Así, en nuestro primer ejemplo, la [Ecuación diferencial](https://relopezbriega.github.io/blog/2016/01/10/ecuaciones-diferenciales-con-python/) de la [ley del enfriamiento de Newton](https://es.wikipedia.org/wiki/Ley_del_enfriamiento_de_Newton) es de primer orden, ya que nos encontramos ante la primer derivada de la temperatura con respecto al tiempo. \n",
    "La ecuación general de las [ecuaciones diferenciales ordinarias](https://relopezbriega.github.io/blog/2016/01/10/ecuaciones-diferenciales-con-python/) de grado $n$ es la siguiente:\n",
    "\n",
    "$$F\\left(x, y, \\frac{dy}{dx}, \\frac{d^2y}{dx^2}, \\dots , \\frac{d^ny}{dx^n}\\right) = 0 $$\n",
    "\n",
    "o utilizando la notación prima para las [derivadas](https://es.wikipedia.org/wiki/Derivada),\n",
    "\n",
    "$$F(x, y, y', y'', \\dots, y^{(n)}) = 0$$\n",
    "\n",
    "La más simple de todas las [ecuaciones diferenciales ordinarias](https://relopezbriega.github.io/blog/2016/01/10/ecuaciones-diferenciales-con-python/) es la siguiente ecuación de primer orden:\n",
    "\n",
    "$$ \\frac{dy}{dx} = f(x)$$ \n",
    "\n",
    "y para resolverla simplemente debemos calcular su [integral indefinida](https://es.wikipedia.org/wiki/Integraci%C3%B3n_indefinida):\n",
    "\n",
    "$$y = \\int f(x) dx + c$$."
   ]
  },
  {
   "cell_type": "markdown",
   "metadata": {
    "slideshow": {
     "slide_type": "skip"
    }
   },
   "source": [
    "## Segun si es separable\n",
    "\n",
    "Una *ecuación separable* es una [ecuación diferencial de primer orden](https://es.wikipedia.org/wiki/Ecuaci%C3%B3n_diferencial_ordinaria_de_primer_orden) en la que la expresión para\n",
    "$dx / dy$ se puede factorizar como una función de x multiplicada por una función de y. En otras palabras, puede ser\n",
    "escrita en la forma:\n",
    "\n",
    "$$\\frac{dy}{dx} = f(x)g(y)$$\n",
    "\n",
    "El nombre *separable* viene del hecho de que la expresión en el lado derecho se puede \"separar\" en una función de $x$ y una función de $y$.\n",
    "\n",
    "Para resolver este tipo de ecuaciones, podemos reescribirlas en la forma diferencial:\n",
    "\n",
    "$$\\frac{dy}{g(y)} = f(x)dx$$\n",
    "\n",
    "y luego podemos resolver la ecuación original integrando:\n",
    "\n",
    "$$\\int \\frac{dy}{g(y)} = \\int f(x) dx + c$$\n",
    "\n",
    "Éstas suelen ser las [Ecuaciones diferenciales](https://relopezbriega.github.io/blog/2016/01/10/ecuaciones-diferenciales-con-python/) más fáciles de resolver, ya que el problema de resolverlas puede ser reducido a un problema de [integración](https://es.wikipedia.org/wiki/Integraci%C3%B3n); a pesar de que igualmente muchas veces estas integrales pueden ser difíciles de calcular."
   ]
  },
  {
   "cell_type": "markdown",
   "metadata": {
    "collapsed": true,
    "slideshow": {
     "slide_type": "skip"
    }
   },
   "source": [
    "## Segun si son lineales o no lineales\n",
    "\n",
    "Uno de los tipos más importantes de [Ecuaciones diferenciales](https://relopezbriega.github.io/blog/2016/01/10/ecuaciones-diferenciales-con-python/) son las [Ecuaciones diferenciales lineales](https://es.wikipedia.org/wiki/Ecuaci%C3%B3n_diferencial_lineal). Este tipo de ecuaciones son muy comunes en varias ciencias y tienen la ventaja de que pueden llegar a ser resueltas en forma analítica ya que su [ecuación diferencial de primer orden](https://es.wikipedia.org/wiki/Ecuaci%C3%B3n_diferencial_ordinaria_de_primer_orden) adopta la forma:\n",
    "\n",
    "$$\\frac{dy}{dx} + P(x)y = Q(x) $$\n",
    "\n",
    "donde, $P$ y $Q$ son funciones continuas de $x$ en un determinado intervalo. Para resolver este tipo de ecuaciones de la forma $ y' + P(x)y = Q(x)$, debemos multiplicar los dos lados de la ecuación por el *factor de integración* $e^{\\int P(x) dx}$ y luego [integrar](https://es.wikipedia.org/wiki/Integraci%C3%B3n) ambos lados."
   ]
  },
  {
   "cell_type": "markdown",
   "metadata": {
    "slideshow": {
     "slide_type": "skip"
    }
   },
   "source": [
    "## Otras clasificaciones\n",
    "\n",
    "Otras clasificaciones que comúnmente se utilizan son:\n",
    "    \n",
    "### Según el número de variables: \n",
    "Esta clasificación va a estar dada por la cantidad de *variables independientes* que contenga la [Ecuación diferencial](https://relopezbriega.github.io/blog/2016/01/10/ecuaciones-diferenciales-con-python/)\n",
    "\n",
    "### Según sus coeficientes:\n",
    "Aquí clasificamos a la [Ecuación diferencial](https://relopezbriega.github.io/blog/2016/01/10/ecuaciones-diferenciales-con-python/) según sus coeficientes, si los mismos son *<a href=\"https://es.wikipedia.org/wiki/Constante_(matem%C3%A1ticas)\">constantes</a>*, se dice que la ecuación es de *coeficientes constantes*, en caso contrario será de *coeficientes variables*.\n",
    "\n",
    "### Según homogeneidad:\n",
    "Una [Ecuación diferencial](https://relopezbriega.github.io/blog/2016/01/10/ecuaciones-diferenciales-con-python/) [homogénea](https://es.wikipedia.org/wiki/Ecuaci%C3%B3n_diferencial_homog%C3%A9nea) es una ecuación igual a cero en la que solo hay derivadas de $y$ y términos $y$, como por ejemplo la siguiente ecuación:\n",
    "\n",
    "$$\\frac{d^4y}{dx^4} + \\frac{d^2y}{dx^2} + y^2 = 0$$"
   ]
  },
  {
   "cell_type": "markdown",
   "metadata": {
    "slideshow": {
     "slide_type": "slide"
    }
   },
   "source": [
    "# Condición inicial y de frontera\n",
    "\n",
    "Las [Ecuaciones diferenciales](https://relopezbriega.github.io/blog/2016/01/10/ecuaciones-diferenciales-con-python/)  pueden tener muchas soluciones, pero a nosotros nos va a interesar encontrar la solución para un caso particular; para lograr esto, debemos imponer unas condiciones auxiliares al problema original. Estas condiciones van a estar motivadas por la [Física](https://es.wikipedia.org/wiki/F%C3%ADsica) del problema que estemos analizando y pueden llevar a ser de dos tipos diferentes: [condiciones iniciales](https://en.wikipedia.org/wiki/Initial_condition) y [condiciones de frontera](https://es.wikipedia.org/wiki/Problema_de_condici%C3%B3n_de_frontera)."
   ]
  },
  {
   "cell_type": "markdown",
   "metadata": {
    "slideshow": {
     "slide_type": "subslide"
    }
   },
   "source": [
    "## Condición inicial\n",
    "\n",
    "La [condición inicial](https://en.wikipedia.org/wiki/Initial_condition) va a establecer el estado del problema al momento de tiempo cero, $t_0$. Por ejemplo para el problema de *[difusión](https://es.wikipedia.org/wiki/Ecuaci%C3%B3n_de_difusi%C3%B3n)*, la [condición inicial](https://en.wikipedia.org/wiki/Initial_condition) va a ser:\n",
    "\n",
    "$$u(x, t_0) = \\phi(x)$$\n",
    "\n",
    "donde $\\phi(x)= \\phi(x, y, z)$ es una función que puede representar el estado de concentración inicial. Para el problema del *[flujo del calor](https://es.wikipedia.org/wiki/Ecuaci%C3%B3n_del_calor)*, $\\phi(x)$ va a representar la temperatura inicial."
   ]
  },
  {
   "cell_type": "markdown",
   "metadata": {
    "slideshow": {
     "slide_type": "subslide"
    }
   },
   "source": [
    "## Condición de frontera o contorno\n",
    "\n",
    "La [condición de frontera](https://es.wikipedia.org/wiki/Problema_de_condici%C3%B3n_de_frontera) nos va a delimitar el *dominio* en el que nuestra [EDP](https://es.wikipedia.org/wiki/Ecuaci%C3%B3n_en_derivadas_parciales) es válida. Así por ejemplo, volviendo al problema de *[difusión](https://es.wikipedia.org/wiki/Ecuaci%C3%B3n_de_difusi%C3%B3n)*, el *dominio* en el que nuestra [EDP](https://es.wikipedia.org/wiki/Ecuaci%C3%B3n_en_derivadas_parciales) es válida, puede estar delimitado por la superficie del objeto que contiene al líquido. Existen varios tipos de [condiciones de frontera](https://es.wikipedia.org/wiki/Problema_de_condici%C3%B3n_de_frontera), de las cuales las más importantes son:\n",
    "\n",
    "* La **[condición de frontera de Dirichlet](https://es.wikipedia.org/wiki/Condici%C3%B3n_de_frontera_de_Dirichlet)**, en dónde los valores válidos de la función incógnita $u$ son especificados.\n",
    "\n",
    "* La **[condición de frontera de Neumann](https://es.wikipedia.org/wiki/Condici%C3%B3n_de_frontera_de_Neumann)**, en donde los valores válidos especificados son dados para alguna de las derivadas de $u$.\n",
    "\n",
    "* La **[condición de frontera de Robin](https://es.wikipedia.org/wiki/Condici%C3%B3n_de_frontera_de_Robin)**, en donde los valores válidos son especificados por una [combinación lineal](https://es.wikipedia.org/wiki/Combinaci%C3%B3n_lineal) de una función y las derivadas de $u$."
   ]
  },
  {
   "cell_type": "markdown",
   "metadata": {
    "slideshow": {
     "slide_type": "slide"
    }
   },
   "source": [
    "# Series de Potencias\n",
    "\n",
    "Cuando comenzamos a lidiar con las [Ecuaciones diferenciales](https://es.wikipedia.org/wiki/Ecuaci%C3%B3n_diferencial), veremos que existen un gran número de ellas que no pueden ser resueltas en forma analítica utilizando los principios del [Cálculo integral](https://es.wikipedia.org/wiki/Integraci%C3%B3n) y el [Cálculo diferencial](https://es.wikipedia.org/wiki/C%C3%A1lculo_diferencial); pero sin embargo, tal vez podamos encontrar soluciones aproximadas para este tipo de ecuaciones en términos de [Series de potencias](https://es.wikipedia.org/wiki/Serie_de_potencias)."
   ]
  },
  {
   "cell_type": "markdown",
   "metadata": {
    "slideshow": {
     "slide_type": "subslide"
    }
   },
   "source": [
    "## ¿Qué es una serie de potencias?\n",
    "\n",
    "Una [Serie de potencias](https://es.wikipedia.org/wiki/Serie_de_potencias) es una [serie](https://es.wikipedia.org/wiki/Serie_matem%C3%A1tica), generalmente infinita, que posee la siguiente forma:\n",
    "\n",
    "$$\\sum_{n=0}^{\\infty} C_nX^n = C_0 + C_1X + C_2X^2 + C_3X^3 + \\dots $$\n",
    "\n",
    "En dónde $X$ es una variable y las $C_n$ son *constantes* o los *coeficientes* de la serie. Una [Serie de potencias](https://es.wikipedia.org/wiki/Serie_de_potencias) puede [converger](https://es.wikipedia.org/wiki/Serie_convergente) para algunos valores de $X$ y [divergir](https://es.wikipedia.org/wiki/Serie_divergente) para otros valores de $X$. La suma de la [serie](https://es.wikipedia.org/wiki/Serie_matem%C3%A1tica) es una [función](https://es.wikipedia.org/wiki/Funci%C3%B3n_matem%C3%A1tica).\n",
    "\n",
    "$$f(x) = C_0 + C_1X + C_2X^2 + C_3X^3 + \\dots + C_nX^n + \\dots$$\n",
    "\n",
    "El *dominio* de esta [función](https://es.wikipedia.org/wiki/Funci%C3%B3n_matem%C3%A1tica) va a estar dado por el conjunto de todos los $X$ para los que la [serie](https://es.wikipedia.org/wiki/Serie_matem%C3%A1tica) [converge](https://es.wikipedia.org/wiki/Serie_convergente)."
   ]
  },
  {
   "cell_type": "markdown",
   "metadata": {
    "slideshow": {
     "slide_type": "subslide"
    }
   },
   "source": [
    "## Series de Taylor\n",
    "\n",
    "Las [Series de Taylor](https://es.wikipedia.org/wiki/Serie_de_Taylor) son un caso especial de [Series de potencias](https://es.wikipedia.org/wiki/Serie_de_potencias) cuyos términos adoptan la forma $(x - a)^n$. Las [Series de Taylor](https://es.wikipedia.org/wiki/Serie_de_Taylor) nos van a permitir aproximar [funciones continuas](https://es.wikipedia.org/wiki/Funci%C3%B3n_continua) que no pueden resolverse en forma analítica y se van a  calcular a partir de las [derivadas](https://es.wikipedia.org/wiki/Derivada) de estas [funciones](https://es.wikipedia.org/wiki/Funci%C3%B3n_matem%C3%A1tica). Su definición matemática es la siguiente:\n",
    "\n",
    "$$f(x) = \\sum_{n=0}^{\\infty}\\frac{f^{(n)}(a)}{n!}(x - a)^n$$\n",
    "\n",
    "Lo que es equivalente a decir:\n",
    "\n",
    "$$f(x) = f(a) + \\frac{f'(a)}{1!}(x -a) + \\frac{f''(a)}{2!}(x -a)^2 + \\frac{f'''(a)}{3!}(x -a)^3 + \\dots$$\n",
    "\n",
    "Una de las razones de que las [Series de Taylor](https://es.wikipedia.org/wiki/Serie_de_Taylor) sean importantes es que nos permiten [integrar](https://es.wikipedia.org/wiki/Integraci%C3%B3n) funciones que de otra forma no podíamos manejar."
   ]
  },
  {
   "cell_type": "markdown",
   "metadata": {
    "slideshow": {
     "slide_type": "skip"
    }
   },
   "source": [
    "## Series de Fourier\n",
    "\n",
    "Las [Series de Fourier](https://es.wikipedia.org/wiki/Serie_de_Fourier) son series infinitas expresadas en términos de <a href=\"https://es.wikipedia.org/wiki/Seno_(trigonometr%C3%ADa)\">seno</a> y <a href=\"https://es.wikipedia.org/wiki/Coseno\">coseno</a> que convergen en una [función periódica](https://es.wikipedia.org/wiki/Funci%C3%B3n_peri%C3%B3dica) y [continua](https://es.wikipedia.org/wiki/Funci%C3%B3n_continua). Así por ejemplo una función con un período de $2\\pi$, va a adaptar la forma de la siguiente serie:\n",
    "\n",
    "$$f(x) = \\frac{a_{0}}{2} + \\sum_{k=1}^{\\infty}(a_{k} \\cos kx + b_{k} \\sin kx)$$\n",
    "\n",
    "El análisis de Fourier suele ser una herramienta muy útil para resolver [Ecuaciones diferenciales](https://es.wikipedia.org/wiki/Ecuaci%C3%B3n_diferencial)."
   ]
  },
  {
   "cell_type": "markdown",
   "metadata": {
    "collapsed": true,
    "slideshow": {
     "slide_type": "slide"
    }
   },
   "source": [
    "<center><h1>Soluciones analíticas con Python</h1>\n",
    "<br>\n",
    "<h2>SymPy<h2>\n",
    "<br>\n",
    "<a href=\"https://www.sympy.org/es/\" target=\"_blank\"><img src=\"https://www.sympy.org/static/images/logo.png\" title=\"SymPy\"></a>\n",
    "</center>\n",
    "\n"
   ]
  },
  {
   "cell_type": "markdown",
   "metadata": {
    "slideshow": {
     "slide_type": "subslide"
    }
   },
   "source": [
    "# SymPy\n",
    "\n",
    "[SymPy](https://www.sympy.org/es/) es una librería de [Python](https://www.python.org/) para matemática simbólica. Tiene como objetivo convertirse en un [sistema completo de álgebra computacional](https://es.wikipedia.org/wiki/Sistema_algebraico_computacional).\n",
    "\n",
    "Algunas de las características que posee son:\n",
    "\n",
    "* **Álgebra básica**: Simplificaciones, expansiones, sustituciones, aritmética, etc.\n",
    "* **Cálculo**: Límites, derivadas, integrales, series de taylor, etc.\n",
    "* **Resolución de Ecuaciones**: Ecuaciones algebraicas, ecuaciones polinomiales, ecuaciones diferenciales, sistemas de ecuaciones, etc.\n",
    "* **Matrices**: Determinantes, aritmética básica, eigenvalores, eigenvectores, etc.\n",
    "* **Física**: Mecánica, mecánica cuántica, óptica, álgebra de Pauli, etc\n",
    "* otras."
   ]
  },
  {
   "cell_type": "markdown",
   "metadata": {
    "slideshow": {
     "slide_type": "subslide"
    }
   },
   "source": [
    "# El problema a resolver\n",
    "\n",
    "Supongamos que hubo un asesinato y la policía lleva a la escena del crimen a las 2:41 am. El forense toma la temperatura de la víctima y encuentra que es de 34.5° C; luego vuelve a tomar la temperatura una hora después y la lectura marca 33.9° C. \n",
    "\n",
    "Suponiendo que ese día el clima estuvo templado y el ambiente hubo una temperatura constante de 15° C. ¿Cuál fue la hora del asesinato?\n",
    "\n",
    "<center><img title=\"hora de asesinato\" src=\"https://relopezbriega.github.io/images/murder.png\" width=\"300px\" height=\"200px\"></center>"
   ]
  },
  {
   "cell_type": "code",
   "execution_count": 1,
   "metadata": {
    "collapsed": false,
    "slideshow": {
     "slide_type": "skip"
    }
   },
   "outputs": [],
   "source": [
    "import matplotlib.pyplot as plt\n",
    "import matplotlib as mpl\n",
    "import numpy as np\n",
    "import sympy \n",
    "from scipy import integrate\n",
    "\n",
    "# imprimir con notación matemática.\n",
    "sympy.init_printing(use_latex='mathjax') \n",
    "\n",
    "# importando modulos de fenics\n",
    "import dolfin\n",
    "import mshr\n",
    "\n",
    "%matplotlib inline\n",
    "\n",
    "dolfin.parameters[\"reorder_dofs_serial\"] = False\n",
    "dolfin.parameters[\"allow_extrapolation\"] = True"
   ]
  },
  {
   "cell_type": "code",
   "execution_count": 2,
   "metadata": {
    "collapsed": true,
    "slideshow": {
     "slide_type": "skip"
    }
   },
   "outputs": [],
   "source": [
    "def plot_direction_field(x, y_x, f_xy, x_lim=(-5, 5), y_lim=(-5, 5), ax=None):\n",
    "    \"\"\"Esta función dibuja el campo de dirección de una EDO\"\"\"\n",
    "    \n",
    "    f_np = sympy.lambdify((x, y_x), f_xy, modules='numpy')\n",
    "    x_vec = np.linspace(x_lim[0], x_lim[1], 20)\n",
    "    y_vec = np.linspace(y_lim[0], y_lim[1], 20)\n",
    "    \n",
    "    if ax is None:\n",
    "        _, ax = plt.subplots(figsize=(4, 4))\n",
    "    \n",
    "    dx = x_vec[1] - x_vec[0]\n",
    "    dy = y_vec[1] - y_vec[0]\n",
    "    \n",
    "    for m, xx in enumerate(x_vec):\n",
    "        for n, yy in enumerate(y_vec):\n",
    "            Dy = f_np(xx, yy) * dx\n",
    "            Dx = 0.8 * dx**2 / np.sqrt(dx**2 + Dy**2)\n",
    "            Dy = 0.8 * Dy*dy / np.sqrt(dx**2 + Dy**2)\n",
    "            ax.plot([xx - Dx/2, xx + Dx/2],\n",
    "                    [yy - Dy/2, yy + Dy/2], 'b', lw=0.5)\n",
    "    \n",
    "    ax.axis('tight')\n",
    "    ax.set_title(r\"$%s$\" %\n",
    "                 (sympy.latex(sympy.Eq(y(x).diff(x), f_xy))),\n",
    "                 fontsize=18)\n",
    "    \n",
    "    return ax"
   ]
  },
  {
   "cell_type": "code",
   "execution_count": 3,
   "metadata": {
    "collapsed": true,
    "slideshow": {
     "slide_type": "skip"
    }
   },
   "outputs": [],
   "source": [
    "def laplace_transform_derivatives(e):\n",
    "    \"\"\"\n",
    "    Evalua las transformadas de Laplace de derivadas de funciones sin evaluar.\n",
    "    \"\"\"\n",
    "    if isinstance(e, sympy.LaplaceTransform):\n",
    "        if isinstance(e.args[0], sympy.Derivative):\n",
    "            d, t, s = e.args \n",
    "            n = len(d.args) - 1\n",
    "            return ((s**n) * sympy.LaplaceTransform(d.args[0], t, s) -\n",
    "                    sum([s**(n-i) * sympy.diff(d.args[0], t, i-1).subs(t, 0)\n",
    "                         for i in range(1, n+1)]))\n",
    "        \n",
    "    if isinstance(e, (sympy.Add, sympy.Mul)):\n",
    "        t = type(e) \n",
    "        return t(*[laplace_transform_derivatives(arg) for arg in e.args])\n",
    "    \n",
    "    return e"
   ]
  },
  {
   "cell_type": "markdown",
   "metadata": {
    "slideshow": {
     "slide_type": "subslide"
    }
   },
   "source": [
    "## Resolviendo el problema en forma analítica con SymPy\n",
    "\n",
    "Para resolver el problema, debemos utilizar la La [Ecuación diferencial](https://relopezbriega.github.io/blog/2016/01/10/ecuaciones-diferenciales-con-python/) de la [ley del enfriamiento de Newton](https://es.wikipedia.org/wiki/Ley_del_enfriamiento_de_Newton). Los datos que tenemos son:\n",
    "\n",
    "* Temperatura inicial = 34.5\n",
    "* Temperatura 1 hora despues = 33.9\n",
    "* Temperatura del ambiente = 15\n",
    "* Temperatura normal promedio de un ser humano = 37\n"
   ]
  },
  {
   "cell_type": "code",
   "execution_count": 4,
   "metadata": {
    "collapsed": false
   },
   "outputs": [
    {
     "data": {
      "text/latex": [
       "$$\\frac{d}{d t} y{\\left (t \\right )} = k \\left(y{\\left (t \\right )} - 15\\right)$$"
      ],
      "text/plain": [
       "d                       \n",
       "──(y(t)) = k⋅(y(t) - 15)\n",
       "dt                      "
      ]
     },
     "execution_count": 4,
     "metadata": {},
     "output_type": "execute_result"
    }
   ],
   "source": [
    "# defino las incognitas\n",
    "t, k = sympy.symbols('t k')\n",
    "y = sympy.Function('y')\n",
    "\n",
    "# expreso la ecuacion\n",
    "f = k*(y(t) -15)\n",
    "sympy.Eq(y(t).diff(t), f)"
   ]
  },
  {
   "cell_type": "code",
   "execution_count": 5,
   "metadata": {
    "collapsed": false
   },
   "outputs": [
    {
     "data": {
      "text/latex": [
       "$$y{\\left (t \\right )} = C_{1} e^{k t} + 15$$"
      ],
      "text/plain": [
       "           k⋅t     \n",
       "y(t) = C₁⋅ℯ    + 15"
      ]
     },
     "execution_count": 5,
     "metadata": {},
     "output_type": "execute_result"
    }
   ],
   "source": [
    "# Resolviendo la ecuación\n",
    "edo_sol = sympy.dsolve(y(t).diff(t) - f)\n",
    "edo_sol"
   ]
  },
  {
   "cell_type": "markdown",
   "metadata": {
    "slideshow": {
     "slide_type": "subslide"
    }
   },
   "source": [
    "Ahora que tenemos la solución de la [Ecuación diferencial](https://relopezbriega.github.io/blog/2016/01/10/ecuaciones-diferenciales-con-python/), despejemos [constante de integración](https://es.wikipedia.org/wiki/Constante_de_integraci%C3%B3n) utilizando la [condición inicial](https://en.wikipedia.org/wiki/Initial_condition)."
   ]
  },
  {
   "cell_type": "code",
   "execution_count": 6,
   "metadata": {
    "collapsed": false,
    "slideshow": {
     "slide_type": "-"
    }
   },
   "outputs": [
    {
     "data": {
      "text/latex": [
       "$$34.5 = C_{1} + 15$$"
      ],
      "text/plain": [
       "34.5 = C₁ + 15"
      ]
     },
     "execution_count": 6,
     "metadata": {},
     "output_type": "execute_result"
    }
   ],
   "source": [
    "# Condición inicial\n",
    "ics = {y(0): 34.5}\n",
    "\n",
    "C_eq = sympy.Eq(edo_sol.lhs.subs(t, 0).subs(ics), edo_sol.rhs.subs(t, 0))\n",
    "C_eq"
   ]
  },
  {
   "cell_type": "code",
   "execution_count": 7,
   "metadata": {
    "collapsed": false
   },
   "outputs": [
    {
     "data": {
      "text/latex": [
       "$$19.5$$"
      ],
      "text/plain": [
       "19.5000000000000"
      ]
     },
     "execution_count": 7,
     "metadata": {},
     "output_type": "execute_result"
    }
   ],
   "source": [
    "C = sympy.solve(C_eq)[0]\n",
    "C"
   ]
  },
  {
   "cell_type": "markdown",
   "metadata": {
    "slideshow": {
     "slide_type": "subslide"
    }
   },
   "source": [
    "Ahora que ya sabemos el valor de C, podemos determinar el valor de $k$."
   ]
  },
  {
   "cell_type": "code",
   "execution_count": 8,
   "metadata": {
    "collapsed": false
   },
   "outputs": [
    {
     "data": {
      "text/latex": [
       "$$y{\\left (t \\right )} = 19.5 e^{k t} + 15$$"
      ],
      "text/plain": [
       "             k⋅t     \n",
       "y(t) = 19.5⋅ℯ    + 15"
      ]
     },
     "execution_count": 8,
     "metadata": {},
     "output_type": "execute_result"
    }
   ],
   "source": [
    "eq = sympy.Eq(y(t), C * sympy.E**(k*t) +15)\n",
    "eq"
   ]
  },
  {
   "cell_type": "code",
   "execution_count": 9,
   "metadata": {
    "collapsed": false
   },
   "outputs": [
    {
     "data": {
      "text/latex": [
       "$$-0.0313$$"
      ],
      "text/plain": [
       "-0.0313"
      ]
     },
     "execution_count": 9,
     "metadata": {},
     "output_type": "execute_result"
    }
   ],
   "source": [
    "ics = {y(1): 33.9}\n",
    "k_eq = sympy.Eq(eq.lhs.subs(t, 1).subs(ics), eq.rhs.subs(t, 1))\n",
    "kn = round(sympy.solve(k_eq)[0], 4)\n",
    "kn"
   ]
  },
  {
   "cell_type": "markdown",
   "metadata": {
    "slideshow": {
     "slide_type": "subslide"
    }
   },
   "source": [
    "Ahora que ya tenemos todos los datos, podemos determinar la hora aproximada de la muerte."
   ]
  },
  {
   "cell_type": "code",
   "execution_count": 10,
   "metadata": {
    "collapsed": false
   },
   "outputs": [
    {
     "data": {
      "text/latex": [
       "$$37 = 19.5 e^{- 0.0313 t} + 15$$"
      ],
      "text/plain": [
       "           -0.0313⋅t     \n",
       "37 = 19.5⋅ℯ          + 15"
      ]
     },
     "execution_count": 10,
     "metadata": {},
     "output_type": "execute_result"
    }
   ],
   "source": [
    "hmuerte = sympy.Eq(37, 19.5 * sympy.E**(kn*t) + 15)\n",
    "hmuerte"
   ]
  },
  {
   "cell_type": "code",
   "execution_count": 11,
   "metadata": {
    "collapsed": false
   },
   "outputs": [
    {
     "data": {
      "text/latex": [
       "$$-3.85$$"
      ],
      "text/plain": [
       "-3.85"
      ]
     },
     "execution_count": 11,
     "metadata": {},
     "output_type": "execute_result"
    }
   ],
   "source": [
    "t = round(sympy.solve(hmuerte)[0],2)\n",
    "t"
   ]
  },
  {
   "cell_type": "code",
   "execution_count": 12,
   "metadata": {
    "collapsed": false
   },
   "outputs": [
    {
     "name": "stdout",
     "output_type": "stream",
     "text": [
      "3 horas, 51 minutos\n"
     ]
    }
   ],
   "source": [
    "h, m = divmod(t*-60, 60)\n",
    "print \"%d horas, %d minutos\" % (h, m)"
   ]
  },
  {
   "cell_type": "markdown",
   "metadata": {
    "slideshow": {
     "slide_type": "-"
    }
   },
   "source": [
    "Es decir, que pasaron aproximadamente 3 horas y 51 minutos desde que ocurrió el crimen, por lo tanto la hora del asesinato debio haber sido alredor de las 10:50 pm."
   ]
  },
  {
   "cell_type": "markdown",
   "metadata": {
    "slideshow": {
     "slide_type": "skip"
    }
   },
   "source": [
    "## Transformada de Laplace\n",
    "\n",
    "Un método alternativo que podemos utilizar para resolver en forma analítica [Ecuaciones diferenciales ordinarias](https://relopezbriega.github.io/blog/2016/01/10/ecuaciones-diferenciales-con-python/) complejas, es utilizar la [Transformada de Laplace](https://es.wikipedia.org/wiki/Transformada_de_Laplace), que es un tipo particular de [transformada integral](https://es.wikipedia.org/wiki/Transformada_integral). La idea es que podemos utilizar esta técnica para transformar nuestra [Ecuación diferencial](https://relopezbriega.github.io/blog/2016/01/10/ecuaciones-diferenciales-con-python/) en algo más simple, resolver esta ecuación más simple y, a continuación, invertir la transformación para recuperar la solución a la [Ecuación diferencial](https://relopezbriega.github.io/blog/2016/01/10/ecuaciones-diferenciales-con-python/) original."
   ]
  },
  {
   "cell_type": "markdown",
   "metadata": {
    "slideshow": {
     "slide_type": "skip"
    }
   },
   "source": [
    "## ¿Qué es una Transformada de Laplace?\n",
    "\n",
    "Para poder comprender la [Transformada de Laplace](https://es.wikipedia.org/wiki/Transformada_de_Laplace), primero debemos revisar la definición general de la [transformada integral](https://es.wikipedia.org/wiki/Transformada_integral), la cuál adapta la siguiente forma:\n",
    "\n",
    "$$T(f(t)) = \\int_{\\alpha}^{\\beta} K (s, t) \\ f(t) \\ dt = F(s) $$\n",
    "\n",
    "En este caso, $f(t)$ es la función que queremos transformar, y $F(s)$ es la función transformada. Los límites de la integración, $\\alpha$ y $\\beta$, pueden ser cualquier valor entre $-\\infty$ y $+\\infty$ y $K(s, t)$ es lo que se conoce como el *núcleo* o *kernel* de la transformada, y podemos elegir el *kernel* que nos plazca.  La idea es poder elegir un *kernel* que nos dé la oportunidad de simplificar la [Ecuación diferencial](https://relopezbriega.github.io/blog/2016/01/10/ecuaciones-diferenciales-con-python/) con mayor facilidad.\n",
    "\n",
    "Si nos restringimos a [Ecuaciones diferenciales](https://relopezbriega.github.io/blog/2016/01/10/ecuaciones-diferenciales-con-python/) con *coeficientes* constantes, entonces un *kernel* que resulta realmente útil es $e^{-st}$, ya que al [diferenciar](https://es.wikipedia.org/wiki/C%C3%A1lculo_diferencial) este *kernel* con respecto de $t$, terminamos obteniendo potencias de $s$, que podemos equiparar a los *coeficientes* constantes. De esta forma, podemos arribar a la definición de la [Transformada de Laplace](https://es.wikipedia.org/wiki/Transformada_de_Laplace):\n",
    "\n",
    "$$\\mathcal{L}\\{f(t)\\}=\\int_0^{\\infty} e^{-st} \\ f(t) \\ dt$$"
   ]
  },
  {
   "cell_type": "markdown",
   "metadata": {
    "slideshow": {
     "slide_type": "skip"
    }
   },
   "source": [
    "## Transformada de Laplace con SymPy\n",
    "\n",
    "La principal ventaja de utilizar [Transformadas de Laplace](https://es.wikipedia.org/wiki/Transformada_de_Laplace) es que cambia la [Ecuación diferencial](https://relopezbriega.github.io/blog/2016/01/10/ecuaciones-diferenciales-con-python/) en una [ecuación algebraica](https://es.wikipedia.org/wiki/Ecuaci%C3%B3n_algebraica), lo que simplifica el proceso para calcular su solución. La única parte complicada es encontrar las transformaciones y las inversas de las transformaciones de los varios términos de la [Ecuación diferencial](https://relopezbriega.github.io/blog/2016/01/10/ecuaciones-diferenciales-con-python/) que queramos resolver. Aquí es donde nos podemos ayudar de [SymPy](https://www.sympy.org/es/).\n",
    "\n",
    "Vamos a intentar resolver la siguiente ecuación:\n",
    "\n",
    "$$y'' + 3y' + 2y = 0$$\n",
    "\n",
    "con las siguientes condiciones iniciales: $y(0) = 2$ y $y'(0) = -3$"
   ]
  },
  {
   "cell_type": "code",
   "execution_count": 13,
   "metadata": {
    "collapsed": false,
    "slideshow": {
     "slide_type": "skip"
    }
   },
   "outputs": [
    {
     "data": {
      "text/latex": [
       "$$2 y{\\left (t \\right )} + 3 \\frac{d}{d t} y{\\left (t \\right )} + \\frac{d^{2}}{d t^{2}}  y{\\left (t \\right )} = 0$$"
      ],
      "text/plain": [
       "                        2          \n",
       "           d           d           \n",
       "2⋅y(t) + 3⋅──(y(t)) + ───(y(t)) = 0\n",
       "           dt           2          \n",
       "                      dt           "
      ]
     },
     "execution_count": 13,
     "metadata": {},
     "output_type": "execute_result"
    }
   ],
   "source": [
    "# Ejemplo de transformada de Laplace\n",
    "# Defino las incognitas\n",
    "t = sympy.symbols(\"t\", positive=True)\n",
    "y = sympy.Function(\"y\")\n",
    "\n",
    "# simbolos adicionales.\n",
    "s, Y = sympy.symbols(\"s, Y\", real=True)\n",
    "\n",
    "# Defino la ecuación\n",
    "edo = y(t).diff(t, t) + 3*y(t).diff(t) + 2*y(t)\n",
    "sympy.Eq(edo)"
   ]
  },
  {
   "cell_type": "code",
   "execution_count": 14,
   "metadata": {
    "collapsed": false,
    "slideshow": {
     "slide_type": "skip"
    }
   },
   "outputs": [
    {
     "data": {
      "text/latex": [
       "$$Y s^{2} + 3 Y s + 2 Y - s y{\\left (0 \\right )} - 3 y{\\left (0 \\right )} - \\left. \\frac{d}{d t} y{\\left (t \\right )} \\right|_{\\substack{ t=0 }} = 0$$"
      ],
      "text/plain": [
       "   2                                   ⎛d       ⎞│       \n",
       "Y⋅s  + 3⋅Y⋅s + 2⋅Y - s⋅y(0) - 3⋅y(0) - ⎜──(y(t))⎟│    = 0\n",
       "                                       ⎝dt      ⎠│t=0    "
      ]
     },
     "execution_count": 14,
     "metadata": {},
     "output_type": "execute_result"
    }
   ],
   "source": [
    "# Calculo la transformada de Laplace \n",
    "L_edo = sympy.laplace_transform(edo, t, s, noconds=True)\n",
    "L_edo_2 = laplace_transform_derivatives(L_edo)\n",
    "\n",
    "# reemplazamos la transfomada de Laplace de y(t) por la incognita Y\n",
    "# para facilitar la lectura de la ecuación.\n",
    "L_edo_3 = L_edo_2.subs(sympy.laplace_transform(y(t), t, s), Y)\n",
    "sympy.Eq(L_edo_3)"
   ]
  },
  {
   "cell_type": "markdown",
   "metadata": {
    "slideshow": {
     "slide_type": "skip"
    }
   },
   "source": [
    "Aquí ya logramos convertir a la [Ecuación diferencial](https://relopezbriega.github.io/blog/2016/01/10/ecuaciones-diferenciales-con-python/) en una [ecuación algebraica](https://es.wikipedia.org/wiki/Ecuaci%C3%B3n_algebraica). Ahora podemos aplicarle las [condiciones iniciales](https://en.wikipedia.org/wiki/Initial_condition) para resolverla."
   ]
  },
  {
   "cell_type": "code",
   "execution_count": 15,
   "metadata": {
    "collapsed": false,
    "slideshow": {
     "slide_type": "skip"
    }
   },
   "outputs": [
    {
     "data": {
      "text/latex": [
       "$$\\left \\{ y{\\left (0 \\right )} : 2, \\quad \\left. \\frac{d}{d t} y{\\left (t \\right )} \\right|_{\\substack{ t=0 }} : -3\\right \\}$$"
      ],
      "text/plain": [
       "⎧         ⎛d       ⎞│       ⎫\n",
       "⎨y(0): 2, ⎜──(y(t))⎟│   : -3⎬\n",
       "⎩         ⎝dt      ⎠│t=0    ⎭"
      ]
     },
     "execution_count": 15,
     "metadata": {},
     "output_type": "execute_result"
    }
   ],
   "source": [
    "# Definimos las condiciones iniciales\n",
    "ics = {y(0): 2, y(t).diff(t).subs(t, 0): -3}\n",
    "ics"
   ]
  },
  {
   "cell_type": "code",
   "execution_count": 16,
   "metadata": {
    "collapsed": false,
    "slideshow": {
     "slide_type": "skip"
    }
   },
   "outputs": [
    {
     "data": {
      "text/latex": [
       "$$\\left [ \\frac{2 s + 3}{s^{2} + 3 s + 2}\\right ]$$"
      ],
      "text/plain": [
       "⎡  2⋅s + 3   ⎤\n",
       "⎢────────────⎥\n",
       "⎢ 2          ⎥\n",
       "⎣s  + 3⋅s + 2⎦"
      ]
     },
     "execution_count": 16,
     "metadata": {},
     "output_type": "execute_result"
    }
   ],
   "source": [
    "# Aplicamos las condiciones iniciales\n",
    "L_edo_4 = L_edo_3.subs(ics)\n",
    "\n",
    "# Resolvemos la ecuación y arribamos a la Transformada de Laplace\n",
    "# que es equivalente a nuestra ecuación diferencial\n",
    "Y_sol = sympy.solve(L_edo_4, Y)\n",
    "Y_sol"
   ]
  },
  {
   "cell_type": "code",
   "execution_count": 17,
   "metadata": {
    "collapsed": false,
    "slideshow": {
     "slide_type": "skip"
    }
   },
   "outputs": [
    {
     "data": {
      "text/latex": [
       "$$\\frac{e^{t} + 1}{e^{2 t}}$$"
      ],
      "text/plain": [
       "⎛ t    ⎞  -2⋅t\n",
       "⎝ℯ  + 1⎠⋅ℯ    "
      ]
     },
     "execution_count": 17,
     "metadata": {},
     "output_type": "execute_result"
    }
   ],
   "source": [
    "# Por último, calculamos al inversa de la Transformada de Laplace que \n",
    "# obtuvimos arriba, para obtener la solución de nuestra ecuación diferencial.\n",
    "y_sol = sympy.inverse_laplace_transform(Y_sol[0], s, t)\n",
    "y_sol"
   ]
  },
  {
   "cell_type": "code",
   "execution_count": 18,
   "metadata": {
    "collapsed": false,
    "slideshow": {
     "slide_type": "skip"
    }
   },
   "outputs": [
    {
     "data": {
      "text/latex": [
       "$$\\left ( 2, \\quad -3\\right )$$"
      ],
      "text/plain": [
       "(2, -3)"
      ]
     },
     "execution_count": 18,
     "metadata": {},
     "output_type": "execute_result"
    }
   ],
   "source": [
    "# Comprobamos la solución.\n",
    "y_sol.subs(t, 0), sympy.diff(y_sol).subs(t, 0)"
   ]
  },
  {
   "cell_type": "markdown",
   "metadata": {
    "slideshow": {
     "slide_type": "skip"
    }
   },
   "source": [
    "Las [Transformadas de Laplace](https://es.wikipedia.org/wiki/Transformada_de_Laplace), pueden ser una buena alternativa para resolver [Ecuaciones diferenciales](https://relopezbriega.github.io/blog/2016/01/10/ecuaciones-diferenciales-con-python/) en forma analítica. Pero aún así, siguen existiendo ecuaciones que se resisten a ser resueltas por medios analíticos, para estos casos, debemos recurrir a los métodos numéricos."
   ]
  },
  {
   "cell_type": "markdown",
   "metadata": {
    "slideshow": {
     "slide_type": "slide"
    }
   },
   "source": [
    "## Series de potencias y campos de direcciones\n",
    "\n",
    "Supongamos ahora que queremos resolver con [SymPy](https://www.sympy.org/es/) la siguiente [Ecuación diferencial](https://relopezbriega.github.io/blog/2016/01/10/ecuaciones-diferenciales-con-python/):\n",
    "\n",
    "$$\\frac{dy}{dx} = x^2 + y^2 -1$$\n",
    "\n",
    "con una [condición inicial](https://en.wikipedia.org/wiki/Initial_condition) de $y(0) = 0$.\n",
    "\n",
    "Si aplicamos lo que vimos hasta ahora, vamos a obtener el siguiente resultado:"
   ]
  },
  {
   "cell_type": "code",
   "execution_count": 19,
   "metadata": {
    "collapsed": false,
    "slideshow": {
     "slide_type": "subslide"
    }
   },
   "outputs": [
    {
     "data": {
      "text/latex": [
       "$$y{\\left (x \\right )} = - x + \\frac{2 x^{3}}{3} - \\frac{4 x^{5}}{15} + \\mathcal{O}\\left(x^{6}\\right)$$"
      ],
      "text/plain": [
       "               3      5        \n",
       "            2⋅x    4⋅x     ⎛ 6⎞\n",
       "y(x) = -x + ──── - ──── + O⎝x ⎠\n",
       "             3      15         "
      ]
     },
     "execution_count": 19,
     "metadata": {},
     "output_type": "execute_result"
    }
   ],
   "source": [
    "# Defino incognitas\n",
    "x = sympy.symbols('x')\n",
    "y = sympy.Function('y')\n",
    "\n",
    "# Defino la función\n",
    "f = y(x)**2 + x**2 -1\n",
    "\n",
    "# Condición inicial\n",
    "ics = {y(0): 0}\n",
    "\n",
    "# Resolviendo la ecuación diferencial\n",
    "edo_sol = sympy.dsolve(y(x).diff(x) - f, ics=ics)\n",
    "edo_sol"
   ]
  },
  {
   "cell_type": "markdown",
   "metadata": {},
   "source": [
    "El resultado que nos da [SymPy](https://www.sympy.org/es/), es una aproximación con [Series de potencias](https://es.wikipedia.org/wiki/Serie_de_potencias) (una [serie de Taylor](https://es.wikipedia.org/wiki/Serie_de_Taylor)); y el problema con las [Series de potencias](https://es.wikipedia.org/wiki/Serie_de_potencias) es que sus resultados sólo suelen válidos para un rango determinado de valores. Una herramienta que nos puede ayudar a visualizar el rango de validez de una aproximación con [Series de potencias](https://es.wikipedia.org/wiki/Serie_de_potencias) son los [Campos de direcciones](https://es.wikipedia.org/wiki/Campo_de_direcciones)."
   ]
  },
  {
   "cell_type": "markdown",
   "metadata": {
    "slideshow": {
     "slide_type": "subslide"
    }
   },
   "source": [
    "## Campos de direcciones\n",
    "\n",
    "Los [Campos de direcciones](https://es.wikipedia.org/wiki/Campo_de_direcciones) es una técnica sencilla pero útil para visualizar posibles soluciones a las [ecuaciones diferenciales de primer orden](https://es.wikipedia.org/wiki/Ecuaci%C3%B3n_diferencial_ordinaria_de_primer_orden). Se compone de líneas cortas que muestran la pendiente de la función incógnita en el plano x-y. Este gráfico se puede producir fácilmente debido a que la pendiente de $y(x)$ en los puntos arbitrarios del plano x-y está dada por la definición misma de la [Ecuación diferencial ordinaria](https://es.wikipedia.org/wiki/Ecuaci%C3%B3n_diferencial_ordinaria):\n",
    "\n",
    "$$\\frac{dy}{dx} = f(x, y(x))$$\n",
    "\n",
    "Es decir, que sólo tenemos que iterar sobre los valores $x$ e $y$ en la grilla de coordenadas de interés y evaluar $f(x, y(x))$ para saber la pendiente de $y(x)$ en ese punto. Cuantos más segmentos de líneas trazamos en un [Campo de dirección](https://es.wikipedia.org/wiki/Campo_de_direcciones), más clara será la imagen. La razón por la cual el gráfico de [Campos de direcciones](https://es.wikipedia.org/wiki/Campo_de_direcciones) es útil, es que las curvas suaves y continuos que son <a href=\"https://es.wikipedia.org/wiki/Tangente_(geometr%C3%ADa)\">tangentes</a> a las líneas de pendiente en cada punto del gráfico, son las posibles soluciones a la [Ecuación diferencial ordinaria](https://es.wikipedia.org/wiki/Ecuaci%C3%B3n_diferencial_ordinaria)."
   ]
  },
  {
   "cell_type": "markdown",
   "metadata": {
    "slideshow": {
     "slide_type": "subslide"
    }
   },
   "source": [
    "Por ejemplo, el [Campos de direcciones](https://es.wikipedia.org/wiki/Campo_de_direcciones) de la ecuación:\n",
    "\n",
    "$$\\frac{dy}{dx} = x^2 + y^2 -1$$\n",
    "\n",
    "es el siguiente:"
   ]
  },
  {
   "cell_type": "code",
   "execution_count": 20,
   "metadata": {
    "collapsed": false
   },
   "outputs": [
    {
     "data": {
      "image/png": "[encoded data removed]",
      "text/plain": [
       "<matplotlib.figure.Figure at 0x7f46de040450>"
      ]
     },
     "metadata": {},
     "output_type": "display_data"
    }
   ],
   "source": [
    "# grafico de campo de dirección\n",
    "fig, axes = plt.subplots(1, 1, figsize=(7, 5))\n",
    "campo_dir = plot_direction_field(x, y(x), f, ax=axes)"
   ]
  },
  {
   "cell_type": "markdown",
   "metadata": {
    "slideshow": {
     "slide_type": "subslide"
    }
   },
   "source": [
    "## Rango de validez de la solución de series de potencia\n",
    "\n",
    "Ahora que ya conocemos a los [Campos de direcciones](https://es.wikipedia.org/wiki/Campo_de_direcciones), volvamos a la solución aproximada con [Series de potencias](https://es.wikipedia.org/wiki/Serie_de_potencias) que habiamos obtenido anteriormente. Podemos graficar esa solución en el [Campos de direcciones](https://es.wikipedia.org/wiki/Campo_de_direcciones), y compararla con una solución por método númericos.\n",
    "\n",
    "<img title=\"Campo de direcciones\" src=\"https://relopezbriega.github.io/images/campo_direcciones.png\" width=\"600\" height=\"250\">\n",
    "\n",
    "En el panel de la izquierda podemos ver el gráfico de la solución aproximada por la [Serie de potencias](https://es.wikipedia.org/wiki/Serie_de_potencias). La solución aproximada se alinea bien con el [campo de direcciones](https://es.wikipedia.org/wiki/Campo_de_direcciones) para los valores de $x$ entre $-1.5$ y $1.5$, luego comienza a desviarse, lo que nos indica que la solución aproximada ya no sería válida. "
   ]
  },
  {
   "cell_type": "code",
   "execution_count": 21,
   "metadata": {
    "collapsed": false,
    "slideshow": {
     "slide_type": "skip"
    }
   },
   "outputs": [
    {
     "data": {
      "image/png": "[encoded data removed]",
      "text/plain": [
       "<matplotlib.figure.Figure at 0x7f46d9b891d0>"
      ]
     },
     "metadata": {},
     "output_type": "display_data"
    }
   ],
   "source": [
    "fig, axes = plt.subplots(1, 2, figsize=(10, 5))\n",
    "\n",
    "# panel izquierdo - solución aproximada por Serie de potencias\n",
    "plot_direction_field(x, y(x), f, ax=axes[0])\n",
    "x_vec = np.linspace(-3, 3, 100)\n",
    "axes[0].plot(x_vec, sympy.lambdify(x, edo_sol.rhs.removeO())(x_vec),\n",
    "             'b', lw=2)\n",
    "\n",
    "# panel derecho - Solución por método iterativo\n",
    "plot_direction_field(x, y(x), f, ax=axes[1])\n",
    "x_vec = np.linspace(-1, 1, 100)\n",
    "axes[1].plot(x_vec, sympy.lambdify(x, edo_sol.rhs.removeO())(x_vec),\n",
    "             'b', lw=2)\n",
    "\n",
    "# Resolviendo la EDO en forma iterativa \n",
    "edo_sol_m = edo_sol_p = edo_sol\n",
    "dx = 0.125\n",
    "\n",
    "# x positivos\n",
    "for x0 in np.arange(1, 2., dx):\n",
    "    x_vec = np.linspace(x0, x0 + dx, 100)\n",
    "    ics = {y(x0): edo_sol_p.rhs.removeO().subs(x, x0)}\n",
    "    edo_sol_p = sympy.dsolve(y(x).diff(x) - f, ics=ics, n=6)\n",
    "    axes[1].plot(x_vec, sympy.lambdify(x, edo_sol_p.rhs.removeO())(x_vec),\n",
    "                 'r', lw=2)\n",
    "\n",
    "# x negativos\n",
    "for x0 in np.arange(1, 5, dx):\n",
    "    x_vec = np.linspace(-x0-dx, -x0, 100)\n",
    "    ics = {y(-x0): edo_sol_m.rhs.removeO().subs(x, -x0)}\n",
    "    edo_sol_m = sympy.dsolve(y(x).diff(x) - f, ics=ics, n=6)\n",
    "    axes[1].plot(x_vec, sympy.lambdify(x, edo_sol_m.rhs.removeO())(x_vec),\n",
    "                 'r', lw=2)"
   ]
  },
  {
   "cell_type": "markdown",
   "metadata": {
    "slideshow": {
     "slide_type": "slide"
    }
   },
   "source": [
    "<center><h1>Soluciones numéricas con Python</h1>\n",
    "<br>\n",
    "<h2>SciPy<h2>\n",
    "<br>\n",
    "<a href=\"https://scipy.org/\" target=\"_blank\"><img src=\"https://www2.warwick.ac.uk/fac/sci/moac/people/students/peter_cock/python/scipy_logo.png?maxWidth=175&maxHeight=61\" title=\"SciPy\"></a>\n",
    "</center>"
   ]
  },
  {
   "cell_type": "markdown",
   "metadata": {
    "slideshow": {
     "slide_type": "subslide"
    }
   },
   "source": [
    "# SciPy\n",
    "\n",
    "[SciPy](https://www.scipy.org/) es un conjunto de paquetes donde cada uno ellos ataca un problema distinto dentro de la computación científica y el análisis numérico. Algunos de los paquetes que incluye, son:\n",
    "\n",
    "* **`scipy.integrate`**: que proporciona diferentes funciones para resolver problemas de integración numérica.\n",
    "* **`scipy.linalg`**: que proporciona funciones para resolver problemas de álgebra lineal.\n",
    "* **`scipy.optimize`**: para los problemas de optimización y minimización.\n",
    "* **`scipy.signal`**: para el análisis y procesamiento de señales.\n",
    "* **`scipy.sparse`**: para matrices dispersas y solucionar sistemas lineales dispersos\n",
    "* **`scipy.stats`**: para el análisis de estadística y probabilidades.\n",
    "\n",
    "Para resolver las [Ecuaciones diferenciales](https://relopezbriega.github.io/blog/2016/01/10/ecuaciones-diferenciales-con-python/), el paquete que nos interesa es `scipy.integrate`."
   ]
  },
  {
   "cell_type": "markdown",
   "metadata": {
    "slideshow": {
     "slide_type": "subslide"
    }
   },
   "source": [
    "## Resolviendo Ecuaciones diferenciales con SciPy\n",
    "\n",
    "[SciPy](https://www.scipy.org/) nos ofrece dos solucionadores de [ecuaciones diferenciales ordinarias](https://relopezbriega.github.io/blog/2016/01/10/ecuaciones-diferenciales-con-python/), `integrate.odeint` y `integrate.ode`. La principal diferencia entre ambos, es que `integrate.ode` es más flexible, ya que nos ofrece la posibilidad de elegir entre distintos *solucionadores*; aunque `integrate.odeint` es más fácil de utilizar.\n",
    "\n",
    "Tratemos de resolver la siguiente ecuación:\n",
    "\n",
    "$$\\frac{dy}{dx} = x + y^2$$"
   ]
  },
  {
   "cell_type": "code",
   "execution_count": 22,
   "metadata": {
    "collapsed": false,
    "slideshow": {
     "slide_type": "subslide"
    }
   },
   "outputs": [
    {
     "data": {
      "text/latex": [
       "$$x + y^{2}{\\left (x \\right )}$$"
      ],
      "text/plain": [
       "     2   \n",
       "x + y (x)"
      ]
     },
     "execution_count": 22,
     "metadata": {},
     "output_type": "execute_result"
    }
   ],
   "source": [
    "# Defino la función\n",
    "f = y(x)**2 + x\n",
    "f"
   ]
  },
  {
   "cell_type": "code",
   "execution_count": 23,
   "metadata": {
    "collapsed": true
   },
   "outputs": [],
   "source": [
    "# la convierto en una función ejecutable\n",
    "f_np = sympy.lambdify((y(x), x), f)\n",
    "\n",
    "# Definimos los valores de la condición inicial y el rango de x sobre los \n",
    "# que vamos a iterar para calcular y(x)\n",
    "y0 = 0\n",
    "xp = np.linspace(0, 1.9, 100)\n",
    "\n",
    "# Calculando la solución numerica para los valores de y0 y xp\n",
    "yp = integrate.odeint(f_np, y0, xp)\n",
    "\n",
    "# Aplicamos el mismo procedimiento para valores de x negativos\n",
    "xn = np.linspace(0, -5, 100)\n",
    "yn = integrate.odeint(f_np, y0, xn)"
   ]
  },
  {
   "cell_type": "markdown",
   "metadata": {},
   "source": [
    "Los resultados son dos matrices unidimensionales de [NumPy](https://www.numpy.org/) $yp$ y $yn$, de la misma longitud que las correspondientes matrices de coordenadas $xp$ y $xn$, que contienen las soluciones numéricas de la [ecuación diferencial ordinaria](https://relopezbriega.github.io/blog/2016/01/10/ecuaciones-diferenciales-con-python/) para esos puntos específicos. Para visualizar la solución, podemos graficar las matrices $yp$ y $yn$, junto con su [Campo de direcciones](https://es.wikipedia.org/wiki/Campo_de_direcciones)."
   ]
  },
  {
   "cell_type": "code",
   "execution_count": 24,
   "metadata": {
    "collapsed": false,
    "slideshow": {
     "slide_type": "subslide"
    }
   },
   "outputs": [
    {
     "data": {
      "image/png": "[encoded data removed]",
      "text/plain": [
       "<matplotlib.figure.Figure at 0x7f46d9b9e050>"
      ]
     },
     "metadata": {},
     "output_type": "display_data"
    }
   ],
   "source": [
    "# graficando la solucion con el campo de direcciones\n",
    "fig, axes = plt.subplots(1, 1, figsize=(8, 6))\n",
    "plot_direction_field(x, y(x), f, ax=axes)\n",
    "axes.plot(xn, yn, 'b', lw=2)\n",
    "axes.plot(xp, yp, 'r', lw=2)\n",
    "plt.show()"
   ]
  },
  {
   "cell_type": "markdown",
   "metadata": {
    "slideshow": {
     "slide_type": "subslide"
    }
   },
   "source": [
    "## Sistemas de ecuaciones diferenciales\n",
    "\n",
    "En este ejemplo, solucionamos solo una ecuación. Generalmente, la mayoría de los problemas se presentan en la forma de sistemas de [ecuaciones diferenciales ordinarias](https://relopezbriega.github.io/blog/2016/01/10/ecuaciones-diferenciales-con-python/), es decir, que incluyen varias ecuaciones a resolver. Para ver como podemos utilizar a `integrate.odeint` para resolver este tipo de problemas, consideremos el siguiente sistema de [ecuaciones diferenciales ordinarias](https://relopezbriega.github.io/blog/2016/01/10/ecuaciones-diferenciales-con-python/), conocido el [atractor de Lorenz](https://es.wikipedia.org/wiki/Atractor_de_Lorenz):\n",
    "\n",
    "$$x'(t) = \\sigma(y -x), \\\\\n",
    "y'(t) = x(\\rho -z)-y, \\\\\n",
    "z'(t) = xy - \\beta z\n",
    "$$\n",
    "\n",
    "Estas ecuaciones son conocidas por sus soluciones caóticas, que dependen sensiblemente de los valores de los parámetros $\\sigma$, $\\rho$ y $\\beta$. Veamos como podemos resolverlas con la ayuda de [Python](https://www.python.org/)."
   ]
  },
  {
   "cell_type": "code",
   "execution_count": 25,
   "metadata": {
    "collapsed": true,
    "slideshow": {
     "slide_type": "subslide"
    }
   },
   "outputs": [],
   "source": [
    "# Definimos el sistema de ecuaciones\n",
    "def f(xyz, t, sigma, rho, beta):\n",
    "    x, y, z = xyz\n",
    "    return [sigma * (y - x), \n",
    "           x * (rho - z) - y,\n",
    "           x * y - beta * z]\n",
    "\n",
    "# Asignamos valores a los parámetros\n",
    "sigma, rho, beta = 8, 28, 8/3.0\n",
    "\n",
    "# Condición inicial y valores de t sobre los que calcular\n",
    "xyz0 = [1.0, 1.0, 1.0]\n",
    "t = np.linspace(0, 25, 10000)\n",
    "\n",
    "# Resolvemos las ecuaciones\n",
    "xyz1 = integrate.odeint(f, xyz0, t, args=(sigma, rho, beta))\n",
    "xyz2 = integrate.odeint(f, xyz0, t, args=(sigma, rho, 0.6*beta))\n",
    "xyz3 = integrate.odeint(f, xyz0, t, args=(2*sigma, rho, 0.6*beta))"
   ]
  },
  {
   "cell_type": "code",
   "execution_count": 26,
   "metadata": {
    "collapsed": false,
    "slideshow": {
     "slide_type": "subslide"
    }
   },
   "outputs": [
    {
     "data": {
      "image/png": "[encoded data removed]",
      "text/plain": [
       "<matplotlib.figure.Figure at 0x7f46d9aa0750>"
      ]
     },
     "metadata": {},
     "output_type": "display_data"
    }
   ],
   "source": [
    "# Graficamos las soluciones\n",
    "from mpl_toolkits.mplot3d.axes3d import Axes3D\n",
    "fig, (ax1,ax2,ax3) = plt.subplots(1, 3, figsize=(12, 4),\n",
    "                                  subplot_kw={'projection':'3d'})\n",
    "\n",
    "for ax, xyz, c in [(ax1, xyz1, 'r'), (ax2, xyz2, 'b'), (ax3, xyz3, 'g')]:\n",
    "    ax.plot(xyz[:,0], xyz[:,1], xyz[:,2], c, alpha=0.5)\n",
    "    ax.set_xlabel('$x$', fontsize=16)\n",
    "    ax.set_ylabel('$y$', fontsize=16)\n",
    "    ax.set_zlabel('$z$', fontsize=16)\n",
    "    ax.set_xticks([-15, 0, 15])\n",
    "    ax.set_yticks([-20, 0, 20])\n",
    "    ax.set_zticks([0, 20, 40])"
   ]
  },
  {
   "cell_type": "markdown",
   "metadata": {
    "slideshow": {
     "slide_type": "slide"
    }
   },
   "source": [
    "# Ecuaciones en derivadas parciales\n",
    "\n",
    "Los casos que vimos hasta ahora, se trataron de [ecuaciones diferenciales ordinarias](https://relopezbriega.github.io/blog/2016/01/10/ecuaciones-diferenciales-con-python/), pero ¿cómo podemos hacer para resolver [ecuaciones en derivadas parciales](https://relopezbriega.github.io/blog/2016/01/27/ecuaciones-en-derivadas-parciales-con-python/)?\n",
    "\n",
    "Estas ecuaciones son mucho más difíciles de resolver, pero podes recurrir a la poderosa herramienta que nos proporciona el [Método de los Elementos Finitos](https://es.wikipedia.org/wiki/M%C3%A9todo_de_los_elementos_finitos) para resolverlas en forma numérica. "
   ]
  },
  {
   "cell_type": "markdown",
   "metadata": {
    "slideshow": {
     "slide_type": "subslide"
    }
   },
   "source": [
    "## Método de los elementos finitos\n",
    "\n",
    "La idea general detrás del [Método de los Elementos Finitos](https://es.wikipedia.org/wiki/M%C3%A9todo_de_los_elementos_finitos) es la división de un *continuo* en un\n",
    "conjunto de pequeños *elementos* interconectados por una serie de puntos llamados *nodos*. \n",
    "Las ecuaciones que rigen el comportamiento del continuo regirán también el del elemento.\n",
    "De esta forma se consigue pasar de un sistema continuo (infinitos grados de libertad), que\n",
    "es regido por una [ecuación diferencial](https://relopezbriega.github.io//blog/2016/01/10/ecuaciones-diferenciales-con-python/) o un sistema de [ecuaciones diferenciales](https://relopezbriega.github.io//blog/2016/01/10/ecuaciones-diferenciales-con-python/), a un\n",
    "sistema con un número de grados de libertad finito cuyo comportamiento se modela por un\n",
    "sistema de ecuaciones, lineales o no. "
   ]
  },
  {
   "cell_type": "markdown",
   "metadata": {
    "slideshow": {
     "slide_type": "subslide"
    }
   },
   "source": [
    "Por ejemplo, en siguiente imagen, podemos ver que en primer lugar tenemos una placa con un hueco en el centro, supongamos que queremos determinar su distribución de temperatura. Para realizar esto, deberíamos resolver la [ecuación del calor](https://es.wikipedia.org/wiki/Ecuaci%C3%B3n_del_calor) para cada punto en la placa. El enfoque que utiliza el [Método de los Elementos Finitos](https://es.wikipedia.org/wiki/M%C3%A9todo_de_los_elementos_finitos) es el de dividir al objeto en *elementos finitos* conectados entre sí por *nodos*; como lo muestran la tercera y cuarta imagen. Este nuevo objeto, constituido por los *elementos finitos* (los triángulos de la segunda imagen) se llama *[malla](https://es.wikipedia.org/wiki/Malla_poligonal)* y es una representación aproximada del objeto original. Mientras más *nodos* tengamos, más exacta será la solución.\n",
    "\n",
    "<img alt=\"Método de los Elementos Finitos con python\" title=\"Método de los Elementos Finitos con python\" src=\"https://relopezbriega.github.io/images/FEM.png\n",
    "\" >"
   ]
  },
  {
   "cell_type": "markdown",
   "metadata": {
    "slideshow": {
     "slide_type": "subslide"
    }
   },
   "source": [
    "## El proyecto FEniCS\n",
    "\n",
    "El proyecto [FEniCS](https://fenicsproject.org/) es un *framework* para resolver numéricamente problemas generales de [ecuaciones en derivadas parciales](https://relopezbriega.github.io/blog/2016/01/27/ecuaciones-en-derivadas-parciales-con-python/) utilizando el [métodos de los elementos finitos](https://es.wikipedia.org/wiki/M%C3%A9todo_de_los_elementos_finitos). \n",
    "\n",
    "Podemos instalarlo en [Ubuntu](https://www.ubuntulinux.org/) con los siguientes comandos:\n",
    "\n",
    "```\n",
    "sudo add-apt-repository ppa:fenics-packages/fenics\n",
    "sudo apt-get update\n",
    "sudo apt-get install fenics\n",
    "```\n",
    "La interfaz principal que vamos a utilizar para trabajar con este *framework* nos la proporcionan las librerías `dolfin` y `mshr`; las cuales debemos importar para poder trabajar con el. Por ahora solo funciona con [Python 2](https://www.python.org/downloads/release/python-2711/)."
   ]
  },
  {
   "cell_type": "markdown",
   "metadata": {
    "slideshow": {
     "slide_type": "subslide"
    }
   },
   "source": [
    "## Problema a resolver\n",
    "\n",
    "El problema que vamos a resolver con la ayuda de [FEniCS](https://fenicsproject.org/), va a ser la [ecuación del calor](https://es.wikipedia.org/wiki/Ecuaci%C3%B3n_del_calor) en dos dimensiones en estado estacionario, definida por:\n",
    "\n",
    "$$u_{xx} + u_{yy} = f$$\n",
    "\n",
    "donde f es la función fuente y donde tenemos las siguientes [condiciones de frontera](https://es.wikipedia.org/wiki/Problema_de_condici%C3%B3n_de_frontera):\n",
    "\n",
    "$$u(x=0) = 3 ; \\ u(x=1)=-1 ; \\ u(y=0) = -5 ; \\ u(y=1) = 5$$  \n",
    "\n",
    "El primer paso en la solución de una [EDP](https://es.wikipedia.org/wiki/Ecuaci%C3%B3n_en_derivadas_parciales) utilizando el [métodos de los elementos finitos](https://es.wikipedia.org/wiki/M%C3%A9todo_de_los_elementos_finitos),  es definir una *[malla](https://es.wikipedia.org/wiki/Malla_poligonal)* que describa la discretización del *dominio* del problema. Para este caso, vamos a utilizar la función `RectangleMesh` que nos ofrece [FEniCS](https://fenicsproject.org/)."
   ]
  },
  {
   "cell_type": "code",
   "execution_count": 2,
   "metadata": {
    "collapsed": false,
    "slideshow": {
     "slide_type": "subslide"
    }
   },
   "outputs": [
    {
     "data": {
      "image/svg+xml": [
       "\n",
       "    <svg xmlns=\"https://www.w3.org/2000/svg\" version=\"1.1\" width=\"840\" height=\"840\">\n",
       "    <line x1=\"20\" y1=\"820\" x2=\"100\" y2=\"820\" style=\"fill:none; stroke:black; stroke-width:\"2\" />\n",
       "<line x1=\"20\" y1=\"820\" x2=\"20\" y2=\"740\" style=\"fill:none; stroke:black; stroke-width:\"2\" />\n",
       "<line x1=\"20\" y1=\"820\" x2=\"100\" y2=\"740\" style=\"fill:none; stroke:black; stroke-width:\"2\" />\n",
       "<line x1=\"100\" y1=\"820\" x2=\"180\" y2=\"820\" style=\"fill:none; stroke:black; stroke-width:\"2\" />\n",
       "<line x1=\"100\" y1=\"820\" x2=\"100\" y2=\"740\" style=\"fill:none; stroke:black; stroke-width:\"2\" />\n",
       "<line x1=\"100\" y1=\"820\" x2=\"180\" y2=\"740\" style=\"fill:none; stroke:black; stroke-width:\"2\" />\n",
       "<line x1=\"180\" y1=\"820\" x2=\"260\" y2=\"820\" style=\"fill:none; stroke:black; stroke-width:\"2\" />\n",
       "<line x1=\"180\" y1=\"820\" x2=\"180\" y2=\"740\" style=\"fill:none; stroke:black; stroke-width:\"2\" />\n",
       "<line x1=\"180\" y1=\"820\" x2=\"260\" y2=\"740\" style=\"fill:none; stroke:black; stroke-width:\"2\" />\n",
       "<line x1=\"260\" y1=\"820\" x2=\"340\" y2=\"820\" style=\"fill:none; stroke:black; stroke-width:\"2\" />\n",
       "<line x1=\"260\" y1=\"820\" x2=\"260\" y2=\"740\" style=\"fill:none; stroke:black; stroke-width:\"2\" />\n",
       "<line x1=\"260\" y1=\"820\" x2=\"340\" y2=\"740\" style=\"fill:none; stroke:black; stroke-width:\"2\" />\n",
       "<line x1=\"340\" y1=\"820\" x2=\"420\" y2=\"820\" style=\"fill:none; stroke:black; stroke-width:\"2\" />\n",
       "<line x1=\"340\" y1=\"820\" x2=\"340\" y2=\"740\" style=\"fill:none; stroke:black; stroke-width:\"2\" />\n",
       "<line x1=\"340\" y1=\"820\" x2=\"420\" y2=\"740\" style=\"fill:none; stroke:black; stroke-width:\"2\" />\n",
       "<line x1=\"420\" y1=\"820\" x2=\"500\" y2=\"820\" style=\"fill:none; stroke:black; stroke-width:\"2\" />\n",
       "<line x1=\"420\" y1=\"820\" x2=\"420\" y2=\"740\" style=\"fill:none; stroke:black; stroke-width:\"2\" />\n",
       "<line x1=\"420\" y1=\"820\" x2=\"500\" y2=\"740\" style=\"fill:none; stroke:black; stroke-width:\"2\" />\n",
       "<line x1=\"500\" y1=\"820\" x2=\"580\" y2=\"820\" style=\"fill:none; stroke:black; stroke-width:\"2\" />\n",
       "<line x1=\"500\" y1=\"820\" x2=\"500\" y2=\"740\" style=\"fill:none; stroke:black; stroke-width:\"2\" />\n",
       "<line x1=\"500\" y1=\"820\" x2=\"580\" y2=\"740\" style=\"fill:none; stroke:black; stroke-width:\"2\" />\n",
       "<line x1=\"580\" y1=\"820\" x2=\"660\" y2=\"820\" style=\"fill:none; stroke:black; stroke-width:\"2\" />\n",
       "<line x1=\"580\" y1=\"820\" x2=\"580\" y2=\"740\" style=\"fill:none; stroke:black; stroke-width:\"2\" />\n",
       "<line x1=\"580\" y1=\"820\" x2=\"660\" y2=\"740\" style=\"fill:none; stroke:black; stroke-width:\"2\" />\n",
       "<line x1=\"660\" y1=\"820\" x2=\"740\" y2=\"820\" style=\"fill:none; stroke:black; stroke-width:\"2\" />\n",
       "<line x1=\"660\" y1=\"820\" x2=\"660\" y2=\"740\" style=\"fill:none; stroke:black; stroke-width:\"2\" />\n",
       "<line x1=\"660\" y1=\"820\" x2=\"740\" y2=\"740\" style=\"fill:none; stroke:black; stroke-width:\"2\" />\n",
       "<line x1=\"740\" y1=\"820\" x2=\"820\" y2=\"820\" style=\"fill:none; stroke:black; stroke-width:\"2\" />\n",
       "<line x1=\"740\" y1=\"820\" x2=\"740\" y2=\"740\" style=\"fill:none; stroke:black; stroke-width:\"2\" />\n",
       "<line x1=\"740\" y1=\"820\" x2=\"820\" y2=\"740\" style=\"fill:none; stroke:black; stroke-width:\"2\" />\n",
       "<line x1=\"820\" y1=\"820\" x2=\"820\" y2=\"740\" style=\"fill:none; stroke:black; stroke-width:\"2\" />\n",
       "<line x1=\"20\" y1=\"740\" x2=\"100\" y2=\"740\" style=\"fill:none; stroke:black; stroke-width:\"2\" />\n",
       "<line x1=\"20\" y1=\"740\" x2=\"20\" y2=\"660\" style=\"fill:none; stroke:black; stroke-width:\"2\" />\n",
       "<line x1=\"20\" y1=\"740\" x2=\"100\" y2=\"660\" style=\"fill:none; stroke:black; stroke-width:\"2\" />\n",
       "<line x1=\"100\" y1=\"740\" x2=\"180\" y2=\"740\" style=\"fill:none; stroke:black; stroke-width:\"2\" />\n",
       "<line x1=\"100\" y1=\"740\" x2=\"100\" y2=\"660\" style=\"fill:none; stroke:black; stroke-width:\"2\" />\n",
       "<line x1=\"100\" y1=\"740\" x2=\"180\" y2=\"660\" style=\"fill:none; stroke:black; stroke-width:\"2\" />\n",
       "<line x1=\"180\" y1=\"740\" x2=\"260\" y2=\"740\" style=\"fill:none; stroke:black; stroke-width:\"2\" />\n",
       "<line x1=\"180\" y1=\"740\" x2=\"180\" y2=\"660\" style=\"fill:none; stroke:black; stroke-width:\"2\" />\n",
       "<line x1=\"180\" y1=\"740\" x2=\"260\" y2=\"660\" style=\"fill:none; stroke:black; stroke-width:\"2\" />\n",
       "<line x1=\"260\" y1=\"740\" x2=\"340\" y2=\"740\" style=\"fill:none; stroke:black; stroke-width:\"2\" />\n",
       "<line x1=\"260\" y1=\"740\" x2=\"260\" y2=\"660\" style=\"fill:none; stroke:black; stroke-width:\"2\" />\n",
       "<line x1=\"260\" y1=\"740\" x2=\"340\" y2=\"660\" style=\"fill:none; stroke:black; stroke-width:\"2\" />\n",
       "<line x1=\"340\" y1=\"740\" x2=\"420\" y2=\"740\" style=\"fill:none; stroke:black; stroke-width:\"2\" />\n",
       "<line x1=\"340\" y1=\"740\" x2=\"340\" y2=\"660\" style=\"fill:none; stroke:black; stroke-width:\"2\" />\n",
       "<line x1=\"340\" y1=\"740\" x2=\"420\" y2=\"660\" style=\"fill:none; stroke:black; stroke-width:\"2\" />\n",
       "<line x1=\"420\" y1=\"740\" x2=\"500\" y2=\"740\" style=\"fill:none; stroke:black; stroke-width:\"2\" />\n",
       "<line x1=\"420\" y1=\"740\" x2=\"420\" y2=\"660\" style=\"fill:none; stroke:black; stroke-width:\"2\" />\n",
       "<line x1=\"420\" y1=\"740\" x2=\"500\" y2=\"660\" style=\"fill:none; stroke:black; stroke-width:\"2\" />\n",
       "<line x1=\"500\" y1=\"740\" x2=\"580\" y2=\"740\" style=\"fill:none; stroke:black; stroke-width:\"2\" />\n",
       "<line x1=\"500\" y1=\"740\" x2=\"500\" y2=\"660\" style=\"fill:none; stroke:black; stroke-width:\"2\" />\n",
       "<line x1=\"500\" y1=\"740\" x2=\"580\" y2=\"660\" style=\"fill:none; stroke:black; stroke-width:\"2\" />\n",
       "<line x1=\"580\" y1=\"740\" x2=\"660\" y2=\"740\" style=\"fill:none; stroke:black; stroke-width:\"2\" />\n",
       "<line x1=\"580\" y1=\"740\" x2=\"580\" y2=\"660\" style=\"fill:none; stroke:black; stroke-width:\"2\" />\n",
       "<line x1=\"580\" y1=\"740\" x2=\"660\" y2=\"660\" style=\"fill:none; stroke:black; stroke-width:\"2\" />\n",
       "<line x1=\"660\" y1=\"740\" x2=\"740\" y2=\"740\" style=\"fill:none; stroke:black; stroke-width:\"2\" />\n",
       "<line x1=\"660\" y1=\"740\" x2=\"660\" y2=\"660\" style=\"fill:none; stroke:black; stroke-width:\"2\" />\n",
       "<line x1=\"660\" y1=\"740\" x2=\"740\" y2=\"660\" style=\"fill:none; stroke:black; stroke-width:\"2\" />\n",
       "<line x1=\"740\" y1=\"740\" x2=\"820\" y2=\"740\" style=\"fill:none; stroke:black; stroke-width:\"2\" />\n",
       "<line x1=\"740\" y1=\"740\" x2=\"740\" y2=\"660\" style=\"fill:none; stroke:black; stroke-width:\"2\" />\n",
       "<line x1=\"740\" y1=\"740\" x2=\"820\" y2=\"660\" style=\"fill:none; stroke:black; stroke-width:\"2\" />\n",
       "<line x1=\"820\" y1=\"740\" x2=\"820\" y2=\"660\" style=\"fill:none; stroke:black; stroke-width:\"2\" />\n",
       "<line x1=\"20\" y1=\"660\" x2=\"100\" y2=\"660\" style=\"fill:none; stroke:black; stroke-width:\"2\" />\n",
       "<line x1=\"20\" y1=\"660\" x2=\"20\" y2=\"580\" style=\"fill:none; stroke:black; stroke-width:\"2\" />\n",
       "<line x1=\"20\" y1=\"660\" x2=\"100\" y2=\"580\" style=\"fill:none; stroke:black; stroke-width:\"2\" />\n",
       "<line x1=\"100\" y1=\"660\" x2=\"180\" y2=\"660\" style=\"fill:none; stroke:black; stroke-width:\"2\" />\n",
       "<line x1=\"100\" y1=\"660\" x2=\"100\" y2=\"580\" style=\"fill:none; stroke:black; stroke-width:\"2\" />\n",
       "<line x1=\"100\" y1=\"660\" x2=\"180\" y2=\"580\" style=\"fill:none; stroke:black; stroke-width:\"2\" />\n",
       "<line x1=\"180\" y1=\"660\" x2=\"260\" y2=\"660\" style=\"fill:none; stroke:black; stroke-width:\"2\" />\n",
       "<line x1=\"180\" y1=\"660\" x2=\"180\" y2=\"580\" style=\"fill:none; stroke:black; stroke-width:\"2\" />\n",
       "<line x1=\"180\" y1=\"660\" x2=\"260\" y2=\"580\" style=\"fill:none; stroke:black; stroke-width:\"2\" />\n",
       "<line x1=\"260\" y1=\"660\" x2=\"340\" y2=\"660\" style=\"fill:none; stroke:black; stroke-width:\"2\" />\n",
       "<line x1=\"260\" y1=\"660\" x2=\"260\" y2=\"580\" style=\"fill:none; stroke:black; stroke-width:\"2\" />\n",
       "<line x1=\"260\" y1=\"660\" x2=\"340\" y2=\"580\" style=\"fill:none; stroke:black; stroke-width:\"2\" />\n",
       "<line x1=\"340\" y1=\"660\" x2=\"420\" y2=\"660\" style=\"fill:none; stroke:black; stroke-width:\"2\" />\n",
       "<line x1=\"340\" y1=\"660\" x2=\"340\" y2=\"580\" style=\"fill:none; stroke:black; stroke-width:\"2\" />\n",
       "<line x1=\"340\" y1=\"660\" x2=\"420\" y2=\"580\" style=\"fill:none; stroke:black; stroke-width:\"2\" />\n",
       "<line x1=\"420\" y1=\"660\" x2=\"500\" y2=\"660\" style=\"fill:none; stroke:black; stroke-width:\"2\" />\n",
       "<line x1=\"420\" y1=\"660\" x2=\"420\" y2=\"580\" style=\"fill:none; stroke:black; stroke-width:\"2\" />\n",
       "<line x1=\"420\" y1=\"660\" x2=\"500\" y2=\"580\" style=\"fill:none; stroke:black; stroke-width:\"2\" />\n",
       "<line x1=\"500\" y1=\"660\" x2=\"580\" y2=\"660\" style=\"fill:none; stroke:black; stroke-width:\"2\" />\n",
       "<line x1=\"500\" y1=\"660\" x2=\"500\" y2=\"580\" style=\"fill:none; stroke:black; stroke-width:\"2\" />\n",
       "<line x1=\"500\" y1=\"660\" x2=\"580\" y2=\"580\" style=\"fill:none; stroke:black; stroke-width:\"2\" />\n",
       "<line x1=\"580\" y1=\"660\" x2=\"660\" y2=\"660\" style=\"fill:none; stroke:black; stroke-width:\"2\" />\n",
       "<line x1=\"580\" y1=\"660\" x2=\"580\" y2=\"580\" style=\"fill:none; stroke:black; stroke-width:\"2\" />\n",
       "<line x1=\"580\" y1=\"660\" x2=\"660\" y2=\"580\" style=\"fill:none; stroke:black; stroke-width:\"2\" />\n",
       "<line x1=\"660\" y1=\"660\" x2=\"740\" y2=\"660\" style=\"fill:none; stroke:black; stroke-width:\"2\" />\n",
       "<line x1=\"660\" y1=\"660\" x2=\"660\" y2=\"580\" style=\"fill:none; stroke:black; stroke-width:\"2\" />\n",
       "<line x1=\"660\" y1=\"660\" x2=\"740\" y2=\"580\" style=\"fill:none; stroke:black; stroke-width:\"2\" />\n",
       "<line x1=\"740\" y1=\"660\" x2=\"820\" y2=\"660\" style=\"fill:none; stroke:black; stroke-width:\"2\" />\n",
       "<line x1=\"740\" y1=\"660\" x2=\"740\" y2=\"580\" style=\"fill:none; stroke:black; stroke-width:\"2\" />\n",
       "<line x1=\"740\" y1=\"660\" x2=\"820\" y2=\"580\" style=\"fill:none; stroke:black; stroke-width:\"2\" />\n",
       "<line x1=\"820\" y1=\"660\" x2=\"820\" y2=\"580\" style=\"fill:none; stroke:black; stroke-width:\"2\" />\n",
       "<line x1=\"20\" y1=\"580\" x2=\"100\" y2=\"580\" style=\"fill:none; stroke:black; stroke-width:\"2\" />\n",
       "<line x1=\"20\" y1=\"580\" x2=\"20\" y2=\"500\" style=\"fill:none; stroke:black; stroke-width:\"2\" />\n",
       "<line x1=\"20\" y1=\"580\" x2=\"100\" y2=\"500\" style=\"fill:none; stroke:black; stroke-width:\"2\" />\n",
       "<line x1=\"100\" y1=\"580\" x2=\"180\" y2=\"580\" style=\"fill:none; stroke:black; stroke-width:\"2\" />\n",
       "<line x1=\"100\" y1=\"580\" x2=\"100\" y2=\"500\" style=\"fill:none; stroke:black; stroke-width:\"2\" />\n",
       "<line x1=\"100\" y1=\"580\" x2=\"180\" y2=\"500\" style=\"fill:none; stroke:black; stroke-width:\"2\" />\n",
       "<line x1=\"180\" y1=\"580\" x2=\"260\" y2=\"580\" style=\"fill:none; stroke:black; stroke-width:\"2\" />\n",
       "<line x1=\"180\" y1=\"580\" x2=\"180\" y2=\"500\" style=\"fill:none; stroke:black; stroke-width:\"2\" />\n",
       "<line x1=\"180\" y1=\"580\" x2=\"260\" y2=\"500\" style=\"fill:none; stroke:black; stroke-width:\"2\" />\n",
       "<line x1=\"260\" y1=\"580\" x2=\"340\" y2=\"580\" style=\"fill:none; stroke:black; stroke-width:\"2\" />\n",
       "<line x1=\"260\" y1=\"580\" x2=\"260\" y2=\"500\" style=\"fill:none; stroke:black; stroke-width:\"2\" />\n",
       "<line x1=\"260\" y1=\"580\" x2=\"340\" y2=\"500\" style=\"fill:none; stroke:black; stroke-width:\"2\" />\n",
       "<line x1=\"340\" y1=\"580\" x2=\"420\" y2=\"580\" style=\"fill:none; stroke:black; stroke-width:\"2\" />\n",
       "<line x1=\"340\" y1=\"580\" x2=\"340\" y2=\"500\" style=\"fill:none; stroke:black; stroke-width:\"2\" />\n",
       "<line x1=\"340\" y1=\"580\" x2=\"420\" y2=\"500\" style=\"fill:none; stroke:black; stroke-width:\"2\" />\n",
       "<line x1=\"420\" y1=\"580\" x2=\"500\" y2=\"580\" style=\"fill:none; stroke:black; stroke-width:\"2\" />\n",
       "<line x1=\"420\" y1=\"580\" x2=\"420\" y2=\"500\" style=\"fill:none; stroke:black; stroke-width:\"2\" />\n",
       "<line x1=\"420\" y1=\"580\" x2=\"500\" y2=\"500\" style=\"fill:none; stroke:black; stroke-width:\"2\" />\n",
       "<line x1=\"500\" y1=\"580\" x2=\"580\" y2=\"580\" style=\"fill:none; stroke:black; stroke-width:\"2\" />\n",
       "<line x1=\"500\" y1=\"580\" x2=\"500\" y2=\"500\" style=\"fill:none; stroke:black; stroke-width:\"2\" />\n",
       "<line x1=\"500\" y1=\"580\" x2=\"580\" y2=\"500\" style=\"fill:none; stroke:black; stroke-width:\"2\" />\n",
       "<line x1=\"580\" y1=\"580\" x2=\"660\" y2=\"580\" style=\"fill:none; stroke:black; stroke-width:\"2\" />\n",
       "<line x1=\"580\" y1=\"580\" x2=\"580\" y2=\"500\" style=\"fill:none; stroke:black; stroke-width:\"2\" />\n",
       "<line x1=\"580\" y1=\"580\" x2=\"660\" y2=\"500\" style=\"fill:none; stroke:black; stroke-width:\"2\" />\n",
       "<line x1=\"660\" y1=\"580\" x2=\"740\" y2=\"580\" style=\"fill:none; stroke:black; stroke-width:\"2\" />\n",
       "<line x1=\"660\" y1=\"580\" x2=\"660\" y2=\"500\" style=\"fill:none; stroke:black; stroke-width:\"2\" />\n",
       "<line x1=\"660\" y1=\"580\" x2=\"740\" y2=\"500\" style=\"fill:none; stroke:black; stroke-width:\"2\" />\n",
       "<line x1=\"740\" y1=\"580\" x2=\"820\" y2=\"580\" style=\"fill:none; stroke:black; stroke-width:\"2\" />\n",
       "<line x1=\"740\" y1=\"580\" x2=\"740\" y2=\"500\" style=\"fill:none; stroke:black; stroke-width:\"2\" />\n",
       "<line x1=\"740\" y1=\"580\" x2=\"820\" y2=\"500\" style=\"fill:none; stroke:black; stroke-width:\"2\" />\n",
       "<line x1=\"820\" y1=\"580\" x2=\"820\" y2=\"500\" style=\"fill:none; stroke:black; stroke-width:\"2\" />\n",
       "<line x1=\"20\" y1=\"500\" x2=\"100\" y2=\"500\" style=\"fill:none; stroke:black; stroke-width:\"2\" />\n",
       "<line x1=\"20\" y1=\"500\" x2=\"20\" y2=\"420\" style=\"fill:none; stroke:black; stroke-width:\"2\" />\n",
       "<line x1=\"20\" y1=\"500\" x2=\"100\" y2=\"420\" style=\"fill:none; stroke:black; stroke-width:\"2\" />\n",
       "<line x1=\"100\" y1=\"500\" x2=\"180\" y2=\"500\" style=\"fill:none; stroke:black; stroke-width:\"2\" />\n",
       "<line x1=\"100\" y1=\"500\" x2=\"100\" y2=\"420\" style=\"fill:none; stroke:black; stroke-width:\"2\" />\n",
       "<line x1=\"100\" y1=\"500\" x2=\"180\" y2=\"420\" style=\"fill:none; stroke:black; stroke-width:\"2\" />\n",
       "<line x1=\"180\" y1=\"500\" x2=\"260\" y2=\"500\" style=\"fill:none; stroke:black; stroke-width:\"2\" />\n",
       "<line x1=\"180\" y1=\"500\" x2=\"180\" y2=\"420\" style=\"fill:none; stroke:black; stroke-width:\"2\" />\n",
       "<line x1=\"180\" y1=\"500\" x2=\"260\" y2=\"420\" style=\"fill:none; stroke:black; stroke-width:\"2\" />\n",
       "<line x1=\"260\" y1=\"500\" x2=\"340\" y2=\"500\" style=\"fill:none; stroke:black; stroke-width:\"2\" />\n",
       "<line x1=\"260\" y1=\"500\" x2=\"260\" y2=\"420\" style=\"fill:none; stroke:black; stroke-width:\"2\" />\n",
       "<line x1=\"260\" y1=\"500\" x2=\"340\" y2=\"420\" style=\"fill:none; stroke:black; stroke-width:\"2\" />\n",
       "<line x1=\"340\" y1=\"500\" x2=\"420\" y2=\"500\" style=\"fill:none; stroke:black; stroke-width:\"2\" />\n",
       "<line x1=\"340\" y1=\"500\" x2=\"340\" y2=\"420\" style=\"fill:none; stroke:black; stroke-width:\"2\" />\n",
       "<line x1=\"340\" y1=\"500\" x2=\"420\" y2=\"420\" style=\"fill:none; stroke:black; stroke-width:\"2\" />\n",
       "<line x1=\"420\" y1=\"500\" x2=\"500\" y2=\"500\" style=\"fill:none; stroke:black; stroke-width:\"2\" />\n",
       "<line x1=\"420\" y1=\"500\" x2=\"420\" y2=\"420\" style=\"fill:none; stroke:black; stroke-width:\"2\" />\n",
       "<line x1=\"420\" y1=\"500\" x2=\"500\" y2=\"420\" style=\"fill:none; stroke:black; stroke-width:\"2\" />\n",
       "<line x1=\"500\" y1=\"500\" x2=\"580\" y2=\"500\" style=\"fill:none; stroke:black; stroke-width:\"2\" />\n",
       "<line x1=\"500\" y1=\"500\" x2=\"500\" y2=\"420\" style=\"fill:none; stroke:black; stroke-width:\"2\" />\n",
       "<line x1=\"500\" y1=\"500\" x2=\"580\" y2=\"420\" style=\"fill:none; stroke:black; stroke-width:\"2\" />\n",
       "<line x1=\"580\" y1=\"500\" x2=\"660\" y2=\"500\" style=\"fill:none; stroke:black; stroke-width:\"2\" />\n",
       "<line x1=\"580\" y1=\"500\" x2=\"580\" y2=\"420\" style=\"fill:none; stroke:black; stroke-width:\"2\" />\n",
       "<line x1=\"580\" y1=\"500\" x2=\"660\" y2=\"420\" style=\"fill:none; stroke:black; stroke-width:\"2\" />\n",
       "<line x1=\"660\" y1=\"500\" x2=\"740\" y2=\"500\" style=\"fill:none; stroke:black; stroke-width:\"2\" />\n",
       "<line x1=\"660\" y1=\"500\" x2=\"660\" y2=\"420\" style=\"fill:none; stroke:black; stroke-width:\"2\" />\n",
       "<line x1=\"660\" y1=\"500\" x2=\"740\" y2=\"420\" style=\"fill:none; stroke:black; stroke-width:\"2\" />\n",
       "<line x1=\"740\" y1=\"500\" x2=\"820\" y2=\"500\" style=\"fill:none; stroke:black; stroke-width:\"2\" />\n",
       "<line x1=\"740\" y1=\"500\" x2=\"740\" y2=\"420\" style=\"fill:none; stroke:black; stroke-width:\"2\" />\n",
       "<line x1=\"740\" y1=\"500\" x2=\"820\" y2=\"420\" style=\"fill:none; stroke:black; stroke-width:\"2\" />\n",
       "<line x1=\"820\" y1=\"500\" x2=\"820\" y2=\"420\" style=\"fill:none; stroke:black; stroke-width:\"2\" />\n",
       "<line x1=\"20\" y1=\"420\" x2=\"100\" y2=\"420\" style=\"fill:none; stroke:black; stroke-width:\"2\" />\n",
       "<line x1=\"20\" y1=\"420\" x2=\"20\" y2=\"340\" style=\"fill:none; stroke:black; stroke-width:\"2\" />\n",
       "<line x1=\"20\" y1=\"420\" x2=\"100\" y2=\"340\" style=\"fill:none; stroke:black; stroke-width:\"2\" />\n",
       "<line x1=\"100\" y1=\"420\" x2=\"180\" y2=\"420\" style=\"fill:none; stroke:black; stroke-width:\"2\" />\n",
       "<line x1=\"100\" y1=\"420\" x2=\"100\" y2=\"340\" style=\"fill:none; stroke:black; stroke-width:\"2\" />\n",
       "<line x1=\"100\" y1=\"420\" x2=\"180\" y2=\"340\" style=\"fill:none; stroke:black; stroke-width:\"2\" />\n",
       "<line x1=\"180\" y1=\"420\" x2=\"260\" y2=\"420\" style=\"fill:none; stroke:black; stroke-width:\"2\" />\n",
       "<line x1=\"180\" y1=\"420\" x2=\"180\" y2=\"340\" style=\"fill:none; stroke:black; stroke-width:\"2\" />\n",
       "<line x1=\"180\" y1=\"420\" x2=\"260\" y2=\"340\" style=\"fill:none; stroke:black; stroke-width:\"2\" />\n",
       "<line x1=\"260\" y1=\"420\" x2=\"340\" y2=\"420\" style=\"fill:none; stroke:black; stroke-width:\"2\" />\n",
       "<line x1=\"260\" y1=\"420\" x2=\"260\" y2=\"340\" style=\"fill:none; stroke:black; stroke-width:\"2\" />\n",
       "<line x1=\"260\" y1=\"420\" x2=\"340\" y2=\"340\" style=\"fill:none; stroke:black; stroke-width:\"2\" />\n",
       "<line x1=\"340\" y1=\"420\" x2=\"420\" y2=\"420\" style=\"fill:none; stroke:black; stroke-width:\"2\" />\n",
       "<line x1=\"340\" y1=\"420\" x2=\"340\" y2=\"340\" style=\"fill:none; stroke:black; stroke-width:\"2\" />\n",
       "<line x1=\"340\" y1=\"420\" x2=\"420\" y2=\"340\" style=\"fill:none; stroke:black; stroke-width:\"2\" />\n",
       "<line x1=\"420\" y1=\"420\" x2=\"500\" y2=\"420\" style=\"fill:none; stroke:black; stroke-width:\"2\" />\n",
       "<line x1=\"420\" y1=\"420\" x2=\"420\" y2=\"340\" style=\"fill:none; stroke:black; stroke-width:\"2\" />\n",
       "<line x1=\"420\" y1=\"420\" x2=\"500\" y2=\"340\" style=\"fill:none; stroke:black; stroke-width:\"2\" />\n",
       "<line x1=\"500\" y1=\"420\" x2=\"580\" y2=\"420\" style=\"fill:none; stroke:black; stroke-width:\"2\" />\n",
       "<line x1=\"500\" y1=\"420\" x2=\"500\" y2=\"340\" style=\"fill:none; stroke:black; stroke-width:\"2\" />\n",
       "<line x1=\"500\" y1=\"420\" x2=\"580\" y2=\"340\" style=\"fill:none; stroke:black; stroke-width:\"2\" />\n",
       "<line x1=\"580\" y1=\"420\" x2=\"660\" y2=\"420\" style=\"fill:none; stroke:black; stroke-width:\"2\" />\n",
       "<line x1=\"580\" y1=\"420\" x2=\"580\" y2=\"340\" style=\"fill:none; stroke:black; stroke-width:\"2\" />\n",
       "<line x1=\"580\" y1=\"420\" x2=\"660\" y2=\"340\" style=\"fill:none; stroke:black; stroke-width:\"2\" />\n",
       "<line x1=\"660\" y1=\"420\" x2=\"740\" y2=\"420\" style=\"fill:none; stroke:black; stroke-width:\"2\" />\n",
       "<line x1=\"660\" y1=\"420\" x2=\"660\" y2=\"340\" style=\"fill:none; stroke:black; stroke-width:\"2\" />\n",
       "<line x1=\"660\" y1=\"420\" x2=\"740\" y2=\"340\" style=\"fill:none; stroke:black; stroke-width:\"2\" />\n",
       "<line x1=\"740\" y1=\"420\" x2=\"820\" y2=\"420\" style=\"fill:none; stroke:black; stroke-width:\"2\" />\n",
       "<line x1=\"740\" y1=\"420\" x2=\"740\" y2=\"340\" style=\"fill:none; stroke:black; stroke-width:\"2\" />\n",
       "<line x1=\"740\" y1=\"420\" x2=\"820\" y2=\"340\" style=\"fill:none; stroke:black; stroke-width:\"2\" />\n",
       "<line x1=\"820\" y1=\"420\" x2=\"820\" y2=\"340\" style=\"fill:none; stroke:black; stroke-width:\"2\" />\n",
       "<line x1=\"20\" y1=\"340\" x2=\"100\" y2=\"340\" style=\"fill:none; stroke:black; stroke-width:\"2\" />\n",
       "<line x1=\"20\" y1=\"340\" x2=\"20\" y2=\"260\" style=\"fill:none; stroke:black; stroke-width:\"2\" />\n",
       "<line x1=\"20\" y1=\"340\" x2=\"100\" y2=\"260\" style=\"fill:none; stroke:black; stroke-width:\"2\" />\n",
       "<line x1=\"100\" y1=\"340\" x2=\"180\" y2=\"340\" style=\"fill:none; stroke:black; stroke-width:\"2\" />\n",
       "<line x1=\"100\" y1=\"340\" x2=\"100\" y2=\"260\" style=\"fill:none; stroke:black; stroke-width:\"2\" />\n",
       "<line x1=\"100\" y1=\"340\" x2=\"180\" y2=\"260\" style=\"fill:none; stroke:black; stroke-width:\"2\" />\n",
       "<line x1=\"180\" y1=\"340\" x2=\"260\" y2=\"340\" style=\"fill:none; stroke:black; stroke-width:\"2\" />\n",
       "<line x1=\"180\" y1=\"340\" x2=\"180\" y2=\"260\" style=\"fill:none; stroke:black; stroke-width:\"2\" />\n",
       "<line x1=\"180\" y1=\"340\" x2=\"260\" y2=\"260\" style=\"fill:none; stroke:black; stroke-width:\"2\" />\n",
       "<line x1=\"260\" y1=\"340\" x2=\"340\" y2=\"340\" style=\"fill:none; stroke:black; stroke-width:\"2\" />\n",
       "<line x1=\"260\" y1=\"340\" x2=\"260\" y2=\"260\" style=\"fill:none; stroke:black; stroke-width:\"2\" />\n",
       "<line x1=\"260\" y1=\"340\" x2=\"340\" y2=\"260\" style=\"fill:none; stroke:black; stroke-width:\"2\" />\n",
       "<line x1=\"340\" y1=\"340\" x2=\"420\" y2=\"340\" style=\"fill:none; stroke:black; stroke-width:\"2\" />\n",
       "<line x1=\"340\" y1=\"340\" x2=\"340\" y2=\"260\" style=\"fill:none; stroke:black; stroke-width:\"2\" />\n",
       "<line x1=\"340\" y1=\"340\" x2=\"420\" y2=\"260\" style=\"fill:none; stroke:black; stroke-width:\"2\" />\n",
       "<line x1=\"420\" y1=\"340\" x2=\"500\" y2=\"340\" style=\"fill:none; stroke:black; stroke-width:\"2\" />\n",
       "<line x1=\"420\" y1=\"340\" x2=\"420\" y2=\"260\" style=\"fill:none; stroke:black; stroke-width:\"2\" />\n",
       "<line x1=\"420\" y1=\"340\" x2=\"500\" y2=\"260\" style=\"fill:none; stroke:black; stroke-width:\"2\" />\n",
       "<line x1=\"500\" y1=\"340\" x2=\"580\" y2=\"340\" style=\"fill:none; stroke:black; stroke-width:\"2\" />\n",
       "<line x1=\"500\" y1=\"340\" x2=\"500\" y2=\"260\" style=\"fill:none; stroke:black; stroke-width:\"2\" />\n",
       "<line x1=\"500\" y1=\"340\" x2=\"580\" y2=\"260\" style=\"fill:none; stroke:black; stroke-width:\"2\" />\n",
       "<line x1=\"580\" y1=\"340\" x2=\"660\" y2=\"340\" style=\"fill:none; stroke:black; stroke-width:\"2\" />\n",
       "<line x1=\"580\" y1=\"340\" x2=\"580\" y2=\"260\" style=\"fill:none; stroke:black; stroke-width:\"2\" />\n",
       "<line x1=\"580\" y1=\"340\" x2=\"660\" y2=\"260\" style=\"fill:none; stroke:black; stroke-width:\"2\" />\n",
       "<line x1=\"660\" y1=\"340\" x2=\"740\" y2=\"340\" style=\"fill:none; stroke:black; stroke-width:\"2\" />\n",
       "<line x1=\"660\" y1=\"340\" x2=\"660\" y2=\"260\" style=\"fill:none; stroke:black; stroke-width:\"2\" />\n",
       "<line x1=\"660\" y1=\"340\" x2=\"740\" y2=\"260\" style=\"fill:none; stroke:black; stroke-width:\"2\" />\n",
       "<line x1=\"740\" y1=\"340\" x2=\"820\" y2=\"340\" style=\"fill:none; stroke:black; stroke-width:\"2\" />\n",
       "<line x1=\"740\" y1=\"340\" x2=\"740\" y2=\"260\" style=\"fill:none; stroke:black; stroke-width:\"2\" />\n",
       "<line x1=\"740\" y1=\"340\" x2=\"820\" y2=\"260\" style=\"fill:none; stroke:black; stroke-width:\"2\" />\n",
       "<line x1=\"820\" y1=\"340\" x2=\"820\" y2=\"260\" style=\"fill:none; stroke:black; stroke-width:\"2\" />\n",
       "<line x1=\"20\" y1=\"260\" x2=\"100\" y2=\"260\" style=\"fill:none; stroke:black; stroke-width:\"2\" />\n",
       "<line x1=\"20\" y1=\"260\" x2=\"20\" y2=\"179\" style=\"fill:none; stroke:black; stroke-width:\"2\" />\n",
       "<line x1=\"20\" y1=\"260\" x2=\"100\" y2=\"179\" style=\"fill:none; stroke:black; stroke-width:\"2\" />\n",
       "<line x1=\"100\" y1=\"260\" x2=\"180\" y2=\"260\" style=\"fill:none; stroke:black; stroke-width:\"2\" />\n",
       "<line x1=\"100\" y1=\"260\" x2=\"100\" y2=\"179\" style=\"fill:none; stroke:black; stroke-width:\"2\" />\n",
       "<line x1=\"100\" y1=\"260\" x2=\"180\" y2=\"179\" style=\"fill:none; stroke:black; stroke-width:\"2\" />\n",
       "<line x1=\"180\" y1=\"260\" x2=\"260\" y2=\"260\" style=\"fill:none; stroke:black; stroke-width:\"2\" />\n",
       "<line x1=\"180\" y1=\"260\" x2=\"180\" y2=\"179\" style=\"fill:none; stroke:black; stroke-width:\"2\" />\n",
       "<line x1=\"180\" y1=\"260\" x2=\"260\" y2=\"179\" style=\"fill:none; stroke:black; stroke-width:\"2\" />\n",
       "<line x1=\"260\" y1=\"260\" x2=\"340\" y2=\"260\" style=\"fill:none; stroke:black; stroke-width:\"2\" />\n",
       "<line x1=\"260\" y1=\"260\" x2=\"260\" y2=\"179\" style=\"fill:none; stroke:black; stroke-width:\"2\" />\n",
       "<line x1=\"260\" y1=\"260\" x2=\"340\" y2=\"179\" style=\"fill:none; stroke:black; stroke-width:\"2\" />\n",
       "<line x1=\"340\" y1=\"260\" x2=\"420\" y2=\"260\" style=\"fill:none; stroke:black; stroke-width:\"2\" />\n",
       "<line x1=\"340\" y1=\"260\" x2=\"340\" y2=\"179\" style=\"fill:none; stroke:black; stroke-width:\"2\" />\n",
       "<line x1=\"340\" y1=\"260\" x2=\"420\" y2=\"179\" style=\"fill:none; stroke:black; stroke-width:\"2\" />\n",
       "<line x1=\"420\" y1=\"260\" x2=\"500\" y2=\"260\" style=\"fill:none; stroke:black; stroke-width:\"2\" />\n",
       "<line x1=\"420\" y1=\"260\" x2=\"420\" y2=\"179\" style=\"fill:none; stroke:black; stroke-width:\"2\" />\n",
       "<line x1=\"420\" y1=\"260\" x2=\"500\" y2=\"179\" style=\"fill:none; stroke:black; stroke-width:\"2\" />\n",
       "<line x1=\"500\" y1=\"260\" x2=\"580\" y2=\"260\" style=\"fill:none; stroke:black; stroke-width:\"2\" />\n",
       "<line x1=\"500\" y1=\"260\" x2=\"500\" y2=\"179\" style=\"fill:none; stroke:black; stroke-width:\"2\" />\n",
       "<line x1=\"500\" y1=\"260\" x2=\"580\" y2=\"179\" style=\"fill:none; stroke:black; stroke-width:\"2\" />\n",
       "<line x1=\"580\" y1=\"260\" x2=\"660\" y2=\"260\" style=\"fill:none; stroke:black; stroke-width:\"2\" />\n",
       "<line x1=\"580\" y1=\"260\" x2=\"580\" y2=\"179\" style=\"fill:none; stroke:black; stroke-width:\"2\" />\n",
       "<line x1=\"580\" y1=\"260\" x2=\"660\" y2=\"179\" style=\"fill:none; stroke:black; stroke-width:\"2\" />\n",
       "<line x1=\"660\" y1=\"260\" x2=\"740\" y2=\"260\" style=\"fill:none; stroke:black; stroke-width:\"2\" />\n",
       "<line x1=\"660\" y1=\"260\" x2=\"660\" y2=\"179\" style=\"fill:none; stroke:black; stroke-width:\"2\" />\n",
       "<line x1=\"660\" y1=\"260\" x2=\"740\" y2=\"179\" style=\"fill:none; stroke:black; stroke-width:\"2\" />\n",
       "<line x1=\"740\" y1=\"260\" x2=\"820\" y2=\"260\" style=\"fill:none; stroke:black; stroke-width:\"2\" />\n",
       "<line x1=\"740\" y1=\"260\" x2=\"740\" y2=\"179\" style=\"fill:none; stroke:black; stroke-width:\"2\" />\n",
       "<line x1=\"740\" y1=\"260\" x2=\"820\" y2=\"179\" style=\"fill:none; stroke:black; stroke-width:\"2\" />\n",
       "<line x1=\"820\" y1=\"260\" x2=\"820\" y2=\"179\" style=\"fill:none; stroke:black; stroke-width:\"2\" />\n",
       "<line x1=\"20\" y1=\"179\" x2=\"100\" y2=\"179\" style=\"fill:none; stroke:black; stroke-width:\"2\" />\n",
       "<line x1=\"20\" y1=\"179\" x2=\"20\" y2=\"99\" style=\"fill:none; stroke:black; stroke-width:\"2\" />\n",
       "<line x1=\"20\" y1=\"179\" x2=\"100\" y2=\"99\" style=\"fill:none; stroke:black; stroke-width:\"2\" />\n",
       "<line x1=\"100\" y1=\"179\" x2=\"180\" y2=\"179\" style=\"fill:none; stroke:black; stroke-width:\"2\" />\n",
       "<line x1=\"100\" y1=\"179\" x2=\"100\" y2=\"99\" style=\"fill:none; stroke:black; stroke-width:\"2\" />\n",
       "<line x1=\"100\" y1=\"179\" x2=\"180\" y2=\"99\" style=\"fill:none; stroke:black; stroke-width:\"2\" />\n",
       "<line x1=\"180\" y1=\"179\" x2=\"260\" y2=\"179\" style=\"fill:none; stroke:black; stroke-width:\"2\" />\n",
       "<line x1=\"180\" y1=\"179\" x2=\"180\" y2=\"99\" style=\"fill:none; stroke:black; stroke-width:\"2\" />\n",
       "<line x1=\"180\" y1=\"179\" x2=\"260\" y2=\"99\" style=\"fill:none; stroke:black; stroke-width:\"2\" />\n",
       "<line x1=\"260\" y1=\"179\" x2=\"340\" y2=\"179\" style=\"fill:none; stroke:black; stroke-width:\"2\" />\n",
       "<line x1=\"260\" y1=\"179\" x2=\"260\" y2=\"99\" style=\"fill:none; stroke:black; stroke-width:\"2\" />\n",
       "<line x1=\"260\" y1=\"179\" x2=\"340\" y2=\"99\" style=\"fill:none; stroke:black; stroke-width:\"2\" />\n",
       "<line x1=\"340\" y1=\"179\" x2=\"420\" y2=\"179\" style=\"fill:none; stroke:black; stroke-width:\"2\" />\n",
       "<line x1=\"340\" y1=\"179\" x2=\"340\" y2=\"99\" style=\"fill:none; stroke:black; stroke-width:\"2\" />\n",
       "<line x1=\"340\" y1=\"179\" x2=\"420\" y2=\"99\" style=\"fill:none; stroke:black; stroke-width:\"2\" />\n",
       "<line x1=\"420\" y1=\"179\" x2=\"500\" y2=\"179\" style=\"fill:none; stroke:black; stroke-width:\"2\" />\n",
       "<line x1=\"420\" y1=\"179\" x2=\"420\" y2=\"99\" style=\"fill:none; stroke:black; stroke-width:\"2\" />\n",
       "<line x1=\"420\" y1=\"179\" x2=\"500\" y2=\"99\" style=\"fill:none; stroke:black; stroke-width:\"2\" />\n",
       "<line x1=\"500\" y1=\"179\" x2=\"580\" y2=\"179\" style=\"fill:none; stroke:black; stroke-width:\"2\" />\n",
       "<line x1=\"500\" y1=\"179\" x2=\"500\" y2=\"99\" style=\"fill:none; stroke:black; stroke-width:\"2\" />\n",
       "<line x1=\"500\" y1=\"179\" x2=\"580\" y2=\"99\" style=\"fill:none; stroke:black; stroke-width:\"2\" />\n",
       "<line x1=\"580\" y1=\"179\" x2=\"660\" y2=\"179\" style=\"fill:none; stroke:black; stroke-width:\"2\" />\n",
       "<line x1=\"580\" y1=\"179\" x2=\"580\" y2=\"99\" style=\"fill:none; stroke:black; stroke-width:\"2\" />\n",
       "<line x1=\"580\" y1=\"179\" x2=\"660\" y2=\"99\" style=\"fill:none; stroke:black; stroke-width:\"2\" />\n",
       "<line x1=\"660\" y1=\"179\" x2=\"740\" y2=\"179\" style=\"fill:none; stroke:black; stroke-width:\"2\" />\n",
       "<line x1=\"660\" y1=\"179\" x2=\"660\" y2=\"99\" style=\"fill:none; stroke:black; stroke-width:\"2\" />\n",
       "<line x1=\"660\" y1=\"179\" x2=\"740\" y2=\"99\" style=\"fill:none; stroke:black; stroke-width:\"2\" />\n",
       "<line x1=\"740\" y1=\"179\" x2=\"820\" y2=\"179\" style=\"fill:none; stroke:black; stroke-width:\"2\" />\n",
       "<line x1=\"740\" y1=\"179\" x2=\"740\" y2=\"99\" style=\"fill:none; stroke:black; stroke-width:\"2\" />\n",
       "<line x1=\"740\" y1=\"179\" x2=\"820\" y2=\"99\" style=\"fill:none; stroke:black; stroke-width:\"2\" />\n",
       "<line x1=\"820\" y1=\"179\" x2=\"820\" y2=\"99\" style=\"fill:none; stroke:black; stroke-width:\"2\" />\n",
       "<line x1=\"20\" y1=\"99\" x2=\"100\" y2=\"99\" style=\"fill:none; stroke:black; stroke-width:\"2\" />\n",
       "<line x1=\"20\" y1=\"99\" x2=\"20\" y2=\"20\" style=\"fill:none; stroke:black; stroke-width:\"2\" />\n",
       "<line x1=\"20\" y1=\"99\" x2=\"100\" y2=\"20\" style=\"fill:none; stroke:black; stroke-width:\"2\" />\n",
       "<line x1=\"100\" y1=\"99\" x2=\"180\" y2=\"99\" style=\"fill:none; stroke:black; stroke-width:\"2\" />\n",
       "<line x1=\"100\" y1=\"99\" x2=\"100\" y2=\"20\" style=\"fill:none; stroke:black; stroke-width:\"2\" />\n",
       "<line x1=\"100\" y1=\"99\" x2=\"180\" y2=\"20\" style=\"fill:none; stroke:black; stroke-width:\"2\" />\n",
       "<line x1=\"180\" y1=\"99\" x2=\"260\" y2=\"99\" style=\"fill:none; stroke:black; stroke-width:\"2\" />\n",
       "<line x1=\"180\" y1=\"99\" x2=\"180\" y2=\"20\" style=\"fill:none; stroke:black; stroke-width:\"2\" />\n",
       "<line x1=\"180\" y1=\"99\" x2=\"260\" y2=\"20\" style=\"fill:none; stroke:black; stroke-width:\"2\" />\n",
       "<line x1=\"260\" y1=\"99\" x2=\"340\" y2=\"99\" style=\"fill:none; stroke:black; stroke-width:\"2\" />\n",
       "<line x1=\"260\" y1=\"99\" x2=\"260\" y2=\"20\" style=\"fill:none; stroke:black; stroke-width:\"2\" />\n",
       "<line x1=\"260\" y1=\"99\" x2=\"340\" y2=\"20\" style=\"fill:none; stroke:black; stroke-width:\"2\" />\n",
       "<line x1=\"340\" y1=\"99\" x2=\"420\" y2=\"99\" style=\"fill:none; stroke:black; stroke-width:\"2\" />\n",
       "<line x1=\"340\" y1=\"99\" x2=\"340\" y2=\"20\" style=\"fill:none; stroke:black; stroke-width:\"2\" />\n",
       "<line x1=\"340\" y1=\"99\" x2=\"420\" y2=\"20\" style=\"fill:none; stroke:black; stroke-width:\"2\" />\n",
       "<line x1=\"420\" y1=\"99\" x2=\"500\" y2=\"99\" style=\"fill:none; stroke:black; stroke-width:\"2\" />\n",
       "<line x1=\"420\" y1=\"99\" x2=\"420\" y2=\"20\" style=\"fill:none; stroke:black; stroke-width:\"2\" />\n",
       "<line x1=\"420\" y1=\"99\" x2=\"500\" y2=\"20\" style=\"fill:none; stroke:black; stroke-width:\"2\" />\n",
       "<line x1=\"500\" y1=\"99\" x2=\"580\" y2=\"99\" style=\"fill:none; stroke:black; stroke-width:\"2\" />\n",
       "<line x1=\"500\" y1=\"99\" x2=\"500\" y2=\"20\" style=\"fill:none; stroke:black; stroke-width:\"2\" />\n",
       "<line x1=\"500\" y1=\"99\" x2=\"580\" y2=\"20\" style=\"fill:none; stroke:black; stroke-width:\"2\" />\n",
       "<line x1=\"580\" y1=\"99\" x2=\"660\" y2=\"99\" style=\"fill:none; stroke:black; stroke-width:\"2\" />\n",
       "<line x1=\"580\" y1=\"99\" x2=\"580\" y2=\"20\" style=\"fill:none; stroke:black; stroke-width:\"2\" />\n",
       "<line x1=\"580\" y1=\"99\" x2=\"660\" y2=\"20\" style=\"fill:none; stroke:black; stroke-width:\"2\" />\n",
       "<line x1=\"660\" y1=\"99\" x2=\"740\" y2=\"99\" style=\"fill:none; stroke:black; stroke-width:\"2\" />\n",
       "<line x1=\"660\" y1=\"99\" x2=\"660\" y2=\"20\" style=\"fill:none; stroke:black; stroke-width:\"2\" />\n",
       "<line x1=\"660\" y1=\"99\" x2=\"740\" y2=\"20\" style=\"fill:none; stroke:black; stroke-width:\"2\" />\n",
       "<line x1=\"740\" y1=\"99\" x2=\"820\" y2=\"99\" style=\"fill:none; stroke:black; stroke-width:\"2\" />\n",
       "<line x1=\"740\" y1=\"99\" x2=\"740\" y2=\"20\" style=\"fill:none; stroke:black; stroke-width:\"2\" />\n",
       "<line x1=\"740\" y1=\"99\" x2=\"820\" y2=\"20\" style=\"fill:none; stroke:black; stroke-width:\"2\" />\n",
       "<line x1=\"820\" y1=\"99\" x2=\"820\" y2=\"20\" style=\"fill:none; stroke:black; stroke-width:\"2\" />\n",
       "<line x1=\"20\" y1=\"20\" x2=\"100\" y2=\"20\" style=\"fill:none; stroke:black; stroke-width:\"2\" />\n",
       "<line x1=\"100\" y1=\"20\" x2=\"180\" y2=\"20\" style=\"fill:none; stroke:black; stroke-width:\"2\" />\n",
       "<line x1=\"180\" y1=\"20\" x2=\"260\" y2=\"20\" style=\"fill:none; stroke:black; stroke-width:\"2\" />\n",
       "<line x1=\"260\" y1=\"20\" x2=\"340\" y2=\"20\" style=\"fill:none; stroke:black; stroke-width:\"2\" />\n",
       "<line x1=\"340\" y1=\"20\" x2=\"420\" y2=\"20\" style=\"fill:none; stroke:black; stroke-width:\"2\" />\n",
       "<line x1=\"420\" y1=\"20\" x2=\"500\" y2=\"20\" style=\"fill:none; stroke:black; stroke-width:\"2\" />\n",
       "<line x1=\"500\" y1=\"20\" x2=\"580\" y2=\"20\" style=\"fill:none; stroke:black; stroke-width:\"2\" />\n",
       "<line x1=\"580\" y1=\"20\" x2=\"660\" y2=\"20\" style=\"fill:none; stroke:black; stroke-width:\"2\" />\n",
       "<line x1=\"660\" y1=\"20\" x2=\"740\" y2=\"20\" style=\"fill:none; stroke:black; stroke-width:\"2\" />\n",
       "<line x1=\"740\" y1=\"20\" x2=\"820\" y2=\"20\" style=\"fill:none; stroke:black; stroke-width:\"2\" />\n",
       "    <circle cx=\"20\" cy=\"820\" r=\"2\" stroke=\"black\" stroke-width=\"0\" fill=\"red\" />\n",
       "<circle cx=\"100\" cy=\"820\" r=\"2\" stroke=\"black\" stroke-width=\"0\" fill=\"red\" />\n",
       "<circle cx=\"180\" cy=\"820\" r=\"2\" stroke=\"black\" stroke-width=\"0\" fill=\"red\" />\n",
       "<circle cx=\"260\" cy=\"820\" r=\"2\" stroke=\"black\" stroke-width=\"0\" fill=\"red\" />\n",
       "<circle cx=\"340\" cy=\"820\" r=\"2\" stroke=\"black\" stroke-width=\"0\" fill=\"red\" />\n",
       "<circle cx=\"420\" cy=\"820\" r=\"2\" stroke=\"black\" stroke-width=\"0\" fill=\"red\" />\n",
       "<circle cx=\"500\" cy=\"820\" r=\"2\" stroke=\"black\" stroke-width=\"0\" fill=\"red\" />\n",
       "<circle cx=\"580\" cy=\"820\" r=\"2\" stroke=\"black\" stroke-width=\"0\" fill=\"red\" />\n",
       "<circle cx=\"660\" cy=\"820\" r=\"2\" stroke=\"black\" stroke-width=\"0\" fill=\"red\" />\n",
       "<circle cx=\"740\" cy=\"820\" r=\"2\" stroke=\"black\" stroke-width=\"0\" fill=\"red\" />\n",
       "<circle cx=\"820\" cy=\"820\" r=\"2\" stroke=\"black\" stroke-width=\"0\" fill=\"red\" />\n",
       "<circle cx=\"20\" cy=\"740\" r=\"2\" stroke=\"black\" stroke-width=\"0\" fill=\"red\" />\n",
       "<circle cx=\"100\" cy=\"740\" r=\"2\" stroke=\"black\" stroke-width=\"0\" fill=\"red\" />\n",
       "<circle cx=\"180\" cy=\"740\" r=\"2\" stroke=\"black\" stroke-width=\"0\" fill=\"red\" />\n",
       "<circle cx=\"260\" cy=\"740\" r=\"2\" stroke=\"black\" stroke-width=\"0\" fill=\"red\" />\n",
       "<circle cx=\"340\" cy=\"740\" r=\"2\" stroke=\"black\" stroke-width=\"0\" fill=\"red\" />\n",
       "<circle cx=\"420\" cy=\"740\" r=\"2\" stroke=\"black\" stroke-width=\"0\" fill=\"red\" />\n",
       "<circle cx=\"500\" cy=\"740\" r=\"2\" stroke=\"black\" stroke-width=\"0\" fill=\"red\" />\n",
       "<circle cx=\"580\" cy=\"740\" r=\"2\" stroke=\"black\" stroke-width=\"0\" fill=\"red\" />\n",
       "<circle cx=\"660\" cy=\"740\" r=\"2\" stroke=\"black\" stroke-width=\"0\" fill=\"red\" />\n",
       "<circle cx=\"740\" cy=\"740\" r=\"2\" stroke=\"black\" stroke-width=\"0\" fill=\"red\" />\n",
       "<circle cx=\"820\" cy=\"740\" r=\"2\" stroke=\"black\" stroke-width=\"0\" fill=\"red\" />\n",
       "<circle cx=\"20\" cy=\"660\" r=\"2\" stroke=\"black\" stroke-width=\"0\" fill=\"red\" />\n",
       "<circle cx=\"100\" cy=\"660\" r=\"2\" stroke=\"black\" stroke-width=\"0\" fill=\"red\" />\n",
       "<circle cx=\"180\" cy=\"660\" r=\"2\" stroke=\"black\" stroke-width=\"0\" fill=\"red\" />\n",
       "<circle cx=\"260\" cy=\"660\" r=\"2\" stroke=\"black\" stroke-width=\"0\" fill=\"red\" />\n",
       "<circle cx=\"340\" cy=\"660\" r=\"2\" stroke=\"black\" stroke-width=\"0\" fill=\"red\" />\n",
       "<circle cx=\"420\" cy=\"660\" r=\"2\" stroke=\"black\" stroke-width=\"0\" fill=\"red\" />\n",
       "<circle cx=\"500\" cy=\"660\" r=\"2\" stroke=\"black\" stroke-width=\"0\" fill=\"red\" />\n",
       "<circle cx=\"580\" cy=\"660\" r=\"2\" stroke=\"black\" stroke-width=\"0\" fill=\"red\" />\n",
       "<circle cx=\"660\" cy=\"660\" r=\"2\" stroke=\"black\" stroke-width=\"0\" fill=\"red\" />\n",
       "<circle cx=\"740\" cy=\"660\" r=\"2\" stroke=\"black\" stroke-width=\"0\" fill=\"red\" />\n",
       "<circle cx=\"820\" cy=\"660\" r=\"2\" stroke=\"black\" stroke-width=\"0\" fill=\"red\" />\n",
       "<circle cx=\"20\" cy=\"580\" r=\"2\" stroke=\"black\" stroke-width=\"0\" fill=\"red\" />\n",
       "<circle cx=\"100\" cy=\"580\" r=\"2\" stroke=\"black\" stroke-width=\"0\" fill=\"red\" />\n",
       "<circle cx=\"180\" cy=\"580\" r=\"2\" stroke=\"black\" stroke-width=\"0\" fill=\"red\" />\n",
       "<circle cx=\"260\" cy=\"580\" r=\"2\" stroke=\"black\" stroke-width=\"0\" fill=\"red\" />\n",
       "<circle cx=\"340\" cy=\"580\" r=\"2\" stroke=\"black\" stroke-width=\"0\" fill=\"red\" />\n",
       "<circle cx=\"420\" cy=\"580\" r=\"2\" stroke=\"black\" stroke-width=\"0\" fill=\"red\" />\n",
       "<circle cx=\"500\" cy=\"580\" r=\"2\" stroke=\"black\" stroke-width=\"0\" fill=\"red\" />\n",
       "<circle cx=\"580\" cy=\"580\" r=\"2\" stroke=\"black\" stroke-width=\"0\" fill=\"red\" />\n",
       "<circle cx=\"660\" cy=\"580\" r=\"2\" stroke=\"black\" stroke-width=\"0\" fill=\"red\" />\n",
       "<circle cx=\"740\" cy=\"580\" r=\"2\" stroke=\"black\" stroke-width=\"0\" fill=\"red\" />\n",
       "<circle cx=\"820\" cy=\"580\" r=\"2\" stroke=\"black\" stroke-width=\"0\" fill=\"red\" />\n",
       "<circle cx=\"20\" cy=\"500\" r=\"2\" stroke=\"black\" stroke-width=\"0\" fill=\"red\" />\n",
       "<circle cx=\"100\" cy=\"500\" r=\"2\" stroke=\"black\" stroke-width=\"0\" fill=\"red\" />\n",
       "<circle cx=\"180\" cy=\"500\" r=\"2\" stroke=\"black\" stroke-width=\"0\" fill=\"red\" />\n",
       "<circle cx=\"260\" cy=\"500\" r=\"2\" stroke=\"black\" stroke-width=\"0\" fill=\"red\" />\n",
       "<circle cx=\"340\" cy=\"500\" r=\"2\" stroke=\"black\" stroke-width=\"0\" fill=\"red\" />\n",
       "<circle cx=\"420\" cy=\"500\" r=\"2\" stroke=\"black\" stroke-width=\"0\" fill=\"red\" />\n",
       "<circle cx=\"500\" cy=\"500\" r=\"2\" stroke=\"black\" stroke-width=\"0\" fill=\"red\" />\n",
       "<circle cx=\"580\" cy=\"500\" r=\"2\" stroke=\"black\" stroke-width=\"0\" fill=\"red\" />\n",
       "<circle cx=\"660\" cy=\"500\" r=\"2\" stroke=\"black\" stroke-width=\"0\" fill=\"red\" />\n",
       "<circle cx=\"740\" cy=\"500\" r=\"2\" stroke=\"black\" stroke-width=\"0\" fill=\"red\" />\n",
       "<circle cx=\"820\" cy=\"500\" r=\"2\" stroke=\"black\" stroke-width=\"0\" fill=\"red\" />\n",
       "<circle cx=\"20\" cy=\"420\" r=\"2\" stroke=\"black\" stroke-width=\"0\" fill=\"red\" />\n",
       "<circle cx=\"100\" cy=\"420\" r=\"2\" stroke=\"black\" stroke-width=\"0\" fill=\"red\" />\n",
       "<circle cx=\"180\" cy=\"420\" r=\"2\" stroke=\"black\" stroke-width=\"0\" fill=\"red\" />\n",
       "<circle cx=\"260\" cy=\"420\" r=\"2\" stroke=\"black\" stroke-width=\"0\" fill=\"red\" />\n",
       "<circle cx=\"340\" cy=\"420\" r=\"2\" stroke=\"black\" stroke-width=\"0\" fill=\"red\" />\n",
       "<circle cx=\"420\" cy=\"420\" r=\"2\" stroke=\"black\" stroke-width=\"0\" fill=\"red\" />\n",
       "<circle cx=\"500\" cy=\"420\" r=\"2\" stroke=\"black\" stroke-width=\"0\" fill=\"red\" />\n",
       "<circle cx=\"580\" cy=\"420\" r=\"2\" stroke=\"black\" stroke-width=\"0\" fill=\"red\" />\n",
       "<circle cx=\"660\" cy=\"420\" r=\"2\" stroke=\"black\" stroke-width=\"0\" fill=\"red\" />\n",
       "<circle cx=\"740\" cy=\"420\" r=\"2\" stroke=\"black\" stroke-width=\"0\" fill=\"red\" />\n",
       "<circle cx=\"820\" cy=\"420\" r=\"2\" stroke=\"black\" stroke-width=\"0\" fill=\"red\" />\n",
       "<circle cx=\"20\" cy=\"340\" r=\"2\" stroke=\"black\" stroke-width=\"0\" fill=\"red\" />\n",
       "<circle cx=\"100\" cy=\"340\" r=\"2\" stroke=\"black\" stroke-width=\"0\" fill=\"red\" />\n",
       "<circle cx=\"180\" cy=\"340\" r=\"2\" stroke=\"black\" stroke-width=\"0\" fill=\"red\" />\n",
       "<circle cx=\"260\" cy=\"340\" r=\"2\" stroke=\"black\" stroke-width=\"0\" fill=\"red\" />\n",
       "<circle cx=\"340\" cy=\"340\" r=\"2\" stroke=\"black\" stroke-width=\"0\" fill=\"red\" />\n",
       "<circle cx=\"420\" cy=\"340\" r=\"2\" stroke=\"black\" stroke-width=\"0\" fill=\"red\" />\n",
       "<circle cx=\"500\" cy=\"340\" r=\"2\" stroke=\"black\" stroke-width=\"0\" fill=\"red\" />\n",
       "<circle cx=\"580\" cy=\"340\" r=\"2\" stroke=\"black\" stroke-width=\"0\" fill=\"red\" />\n",
       "<circle cx=\"660\" cy=\"340\" r=\"2\" stroke=\"black\" stroke-width=\"0\" fill=\"red\" />\n",
       "<circle cx=\"740\" cy=\"340\" r=\"2\" stroke=\"black\" stroke-width=\"0\" fill=\"red\" />\n",
       "<circle cx=\"820\" cy=\"340\" r=\"2\" stroke=\"black\" stroke-width=\"0\" fill=\"red\" />\n",
       "<circle cx=\"20\" cy=\"260\" r=\"2\" stroke=\"black\" stroke-width=\"0\" fill=\"red\" />\n",
       "<circle cx=\"100\" cy=\"260\" r=\"2\" stroke=\"black\" stroke-width=\"0\" fill=\"red\" />\n",
       "<circle cx=\"180\" cy=\"260\" r=\"2\" stroke=\"black\" stroke-width=\"0\" fill=\"red\" />\n",
       "<circle cx=\"260\" cy=\"260\" r=\"2\" stroke=\"black\" stroke-width=\"0\" fill=\"red\" />\n",
       "<circle cx=\"340\" cy=\"260\" r=\"2\" stroke=\"black\" stroke-width=\"0\" fill=\"red\" />\n",
       "<circle cx=\"420\" cy=\"260\" r=\"2\" stroke=\"black\" stroke-width=\"0\" fill=\"red\" />\n",
       "<circle cx=\"500\" cy=\"260\" r=\"2\" stroke=\"black\" stroke-width=\"0\" fill=\"red\" />\n",
       "<circle cx=\"580\" cy=\"260\" r=\"2\" stroke=\"black\" stroke-width=\"0\" fill=\"red\" />\n",
       "<circle cx=\"660\" cy=\"260\" r=\"2\" stroke=\"black\" stroke-width=\"0\" fill=\"red\" />\n",
       "<circle cx=\"740\" cy=\"260\" r=\"2\" stroke=\"black\" stroke-width=\"0\" fill=\"red\" />\n",
       "<circle cx=\"820\" cy=\"260\" r=\"2\" stroke=\"black\" stroke-width=\"0\" fill=\"red\" />\n",
       "<circle cx=\"20\" cy=\"179\" r=\"2\" stroke=\"black\" stroke-width=\"0\" fill=\"red\" />\n",
       "<circle cx=\"100\" cy=\"179\" r=\"2\" stroke=\"black\" stroke-width=\"0\" fill=\"red\" />\n",
       "<circle cx=\"180\" cy=\"179\" r=\"2\" stroke=\"black\" stroke-width=\"0\" fill=\"red\" />\n",
       "<circle cx=\"260\" cy=\"179\" r=\"2\" stroke=\"black\" stroke-width=\"0\" fill=\"red\" />\n",
       "<circle cx=\"340\" cy=\"179\" r=\"2\" stroke=\"black\" stroke-width=\"0\" fill=\"red\" />\n",
       "<circle cx=\"420\" cy=\"179\" r=\"2\" stroke=\"black\" stroke-width=\"0\" fill=\"red\" />\n",
       "<circle cx=\"500\" cy=\"179\" r=\"2\" stroke=\"black\" stroke-width=\"0\" fill=\"red\" />\n",
       "<circle cx=\"580\" cy=\"179\" r=\"2\" stroke=\"black\" stroke-width=\"0\" fill=\"red\" />\n",
       "<circle cx=\"660\" cy=\"179\" r=\"2\" stroke=\"black\" stroke-width=\"0\" fill=\"red\" />\n",
       "<circle cx=\"740\" cy=\"179\" r=\"2\" stroke=\"black\" stroke-width=\"0\" fill=\"red\" />\n",
       "<circle cx=\"820\" cy=\"179\" r=\"2\" stroke=\"black\" stroke-width=\"0\" fill=\"red\" />\n",
       "<circle cx=\"20\" cy=\"99\" r=\"2\" stroke=\"black\" stroke-width=\"0\" fill=\"red\" />\n",
       "<circle cx=\"100\" cy=\"99\" r=\"2\" stroke=\"black\" stroke-width=\"0\" fill=\"red\" />\n",
       "<circle cx=\"180\" cy=\"99\" r=\"2\" stroke=\"black\" stroke-width=\"0\" fill=\"red\" />\n",
       "<circle cx=\"260\" cy=\"99\" r=\"2\" stroke=\"black\" stroke-width=\"0\" fill=\"red\" />\n",
       "<circle cx=\"340\" cy=\"99\" r=\"2\" stroke=\"black\" stroke-width=\"0\" fill=\"red\" />\n",
       "<circle cx=\"420\" cy=\"99\" r=\"2\" stroke=\"black\" stroke-width=\"0\" fill=\"red\" />\n",
       "<circle cx=\"500\" cy=\"99\" r=\"2\" stroke=\"black\" stroke-width=\"0\" fill=\"red\" />\n",
       "<circle cx=\"580\" cy=\"99\" r=\"2\" stroke=\"black\" stroke-width=\"0\" fill=\"red\" />\n",
       "<circle cx=\"660\" cy=\"99\" r=\"2\" stroke=\"black\" stroke-width=\"0\" fill=\"red\" />\n",
       "<circle cx=\"740\" cy=\"99\" r=\"2\" stroke=\"black\" stroke-width=\"0\" fill=\"red\" />\n",
       "<circle cx=\"820\" cy=\"99\" r=\"2\" stroke=\"black\" stroke-width=\"0\" fill=\"red\" />\n",
       "<circle cx=\"20\" cy=\"20\" r=\"2\" stroke=\"black\" stroke-width=\"0\" fill=\"red\" />\n",
       "<circle cx=\"100\" cy=\"20\" r=\"2\" stroke=\"black\" stroke-width=\"0\" fill=\"red\" />\n",
       "<circle cx=\"180\" cy=\"20\" r=\"2\" stroke=\"black\" stroke-width=\"0\" fill=\"red\" />\n",
       "<circle cx=\"260\" cy=\"20\" r=\"2\" stroke=\"black\" stroke-width=\"0\" fill=\"red\" />\n",
       "<circle cx=\"340\" cy=\"20\" r=\"2\" stroke=\"black\" stroke-width=\"0\" fill=\"red\" />\n",
       "<circle cx=\"420\" cy=\"20\" r=\"2\" stroke=\"black\" stroke-width=\"0\" fill=\"red\" />\n",
       "<circle cx=\"500\" cy=\"20\" r=\"2\" stroke=\"black\" stroke-width=\"0\" fill=\"red\" />\n",
       "<circle cx=\"580\" cy=\"20\" r=\"2\" stroke=\"black\" stroke-width=\"0\" fill=\"red\" />\n",
       "<circle cx=\"660\" cy=\"20\" r=\"2\" stroke=\"black\" stroke-width=\"0\" fill=\"red\" />\n",
       "<circle cx=\"740\" cy=\"20\" r=\"2\" stroke=\"black\" stroke-width=\"0\" fill=\"red\" />\n",
       "<circle cx=\"820\" cy=\"20\" r=\"2\" stroke=\"black\" stroke-width=\"0\" fill=\"red\" />\n",
       "    </svg>\n",
       "    "
      ],
      "text/plain": [
       "<dolfin.cpp.mesh.RectangleMesh; proxy of <Swig Object of type 'std::shared_ptr< dolfin::RectangleMesh > *' at 0x7ff1b6e0c3c0> >"
      ]
     },
     "execution_count": 2,
     "metadata": {},
     "output_type": "execute_result"
    }
   ],
   "source": [
    "# Discretizando el problema\n",
    "N1 = N2 = 75\n",
    "mesh = dolfin.RectangleMesh(dolfin.Point(0, 0), dolfin.Point(1, 1), N1, N2)\n",
    "\n",
    "# grafico de la malla.\n",
    "dolfin.RectangleMesh(dolfin.Point(0, 0), dolfin.Point(1, 1), 10, 10)"
   ]
  },
  {
   "cell_type": "markdown",
   "metadata": {
    "slideshow": {
     "slide_type": "subslide"
    }
   },
   "source": [
    "El siguiente paso es definir una representación del [espacio funcional](https://es.wikipedia.org/wiki/Espacio_funcional) para las funciones de ensayo y prueba. Para esto vamos a utilizar la clase `FunctionSpace`. El constructor de esta clase tiene al menos tres argumentos: un objeto de *[malla](https://es.wikipedia.org/wiki/Malla_poligonal)*, el nombre del tipo de función base, y el grado de la función base. En este caso, vamos a utilizar la función de [Lagrange](https://es.wikipedia.org/wiki/Interpolaci%C3%B3n_polin%C3%B3mica_de_Lagrange)."
   ]
  },
  {
   "cell_type": "code",
   "execution_count": 3,
   "metadata": {
    "collapsed": false
   },
   "outputs": [
    {
     "name": "stderr",
     "output_type": "stream",
     "text": [
      "DEBUG:FFC:Reusing form from cache.\n"
     ]
    }
   ],
   "source": [
    "# Funciones bases\n",
    "V = dolfin.FunctionSpace(mesh, 'Lagrange', 1)\n",
    "u = dolfin.TrialFunction(V)\n",
    "v = dolfin.TestFunction(V)"
   ]
  },
  {
   "cell_type": "markdown",
   "metadata": {
    "slideshow": {
     "slide_type": "subslide"
    }
   },
   "source": [
    "Ahora debemos definir a nuestra [EDP](https://es.wikipedia.org/wiki/Ecuaci%C3%B3n_en_derivadas_parciales) en su [formulación débil](https://es.wikipedia.org/wiki/Formulaci%C3%B3n_d%C3%A9bil_de_una_ecuaci%C3%B3n_diferencial) equivalente para poder tratarla como un problema de [álgebra lineal](https://es.wikipedia.org/wiki/%C3%81lgebra_lineal) que podamos resolver con el [MEF](https://es.wikipedia.org/wiki/M%C3%A9todo_de_los_elementos_finitos)."
   ]
  },
  {
   "cell_type": "code",
   "execution_count": 4,
   "metadata": {
    "collapsed": false
   },
   "outputs": [],
   "source": [
    "# Formulación debil de la EDP\n",
    "a = dolfin.inner(dolfin.nabla_grad(u), dolfin.nabla_grad(v)) * dolfin.dx\n",
    "f = dolfin.Constant(0.0)\n",
    "L = f * v * dolfin.dx"
   ]
  },
  {
   "cell_type": "markdown",
   "metadata": {},
   "source": [
    "Y definimos las [condiciones de frontera](https://es.wikipedia.org/wiki/Problema_de_condici%C3%B3n_de_frontera)."
   ]
  },
  {
   "cell_type": "code",
   "execution_count": 5,
   "metadata": {
    "collapsed": true,
    "slideshow": {
     "slide_type": "-"
    }
   },
   "outputs": [],
   "source": [
    "# Defino condiciones de frontera\n",
    "def u0_top_boundary(x, on_boundary):\n",
    "    return on_boundary and abs(x[1]-1) < 1e-8\n",
    "\n",
    "def u0_bottom_boundary(x, on_boundary):\n",
    "    return on_boundary and abs(x[1]) < 1e-8\n",
    "\n",
    "def u0_left_boundary(x, on_boundary):\n",
    "    return on_boundary and abs(x[0]) < 1e-8\n",
    "\n",
    "def u0_right_boundary(x, on_boundary):\n",
    "    return on_boundary and abs(x[0]-1) < 1e-8"
   ]
  },
  {
   "cell_type": "code",
   "execution_count": 6,
   "metadata": {
    "collapsed": false,
    "slideshow": {
     "slide_type": "subslide"
    }
   },
   "outputs": [],
   "source": [
    "# Definiendo condiciones de frontera de Dirichlet\n",
    "bc_t = dolfin.DirichletBC(V, dolfin.Constant(5), u0_top_boundary)\n",
    "bc_b = dolfin.DirichletBC(V, dolfin.Constant(-5), u0_bottom_boundary)\n",
    "bc_l = dolfin.DirichletBC(V, dolfin.Constant(3), u0_left_boundary)\n",
    "bc_r = dolfin.DirichletBC(V, dolfin.Constant(-1), u0_right_boundary)\n",
    "\n",
    "# Lista de condiciones de frontera\n",
    "bcs = [bc_t, bc_b, bc_r, bc_l]"
   ]
  },
  {
   "cell_type": "markdown",
   "metadata": {
    "slideshow": {
     "slide_type": "-"
    }
   },
   "source": [
    "Ahora ya podemos resolver la [EDP](https://es.wikipedia.org/wiki/Ecuaci%C3%B3n_en_derivadas_parciales) utilizando la función `dolfin.solve`. El vector resultante, luego lo podemos convertir a una matriz de [NumPy](https://www.numpy.org/) y utilizarla para graficar la solución con [Matplotlib](https://matplotlib.org/)."
   ]
  },
  {
   "cell_type": "code",
   "execution_count": 7,
   "metadata": {
    "collapsed": false
   },
   "outputs": [
    {
     "name": "stderr",
     "output_type": "stream",
     "text": [
      "DEBUG:FFC:Reusing form from cache.\n",
      "DEBUG:FFC:Reusing form from cache.\n"
     ]
    }
   ],
   "source": [
    "# Resolviendo la EDP\n",
    "u_sol = dolfin.Function(V)\n",
    "dolfin.solve(a == L, u_sol, bcs)\n",
    "\n",
    "# graficando la solución\n",
    "u_mat = u_sol.vector().array().reshape(N1+1, N2+1)\n",
    "\n",
    "x = np.linspace(0, 1, N1+2)\n",
    "y = np.linspace(0, 1, N1+2)\n",
    "X, Y = np.meshgrid(x, y)"
   ]
  },
  {
   "cell_type": "code",
   "execution_count": 8,
   "metadata": {
    "collapsed": false,
    "slideshow": {
     "slide_type": "subslide"
    }
   },
   "outputs": [
    {
     "data": {
      "image/png": "[encoded data removed]",
      "text/plain": [
       "<matplotlib.figure.Figure at 0x7ff1536dc710>"
      ]
     },
     "metadata": {},
     "output_type": "display_data"
    }
   ],
   "source": [
    "fig, ax = plt.subplots(1, 1, figsize=(8, 6))\n",
    "\n",
    "c = ax.pcolor(X, Y, u_mat, vmin=-5, vmax=5, cmap=mpl.cm.get_cmap('RdBu_r'))\n",
    "cb = plt.colorbar(c, ax=ax)\n",
    "ax.set_xlabel(r\"$x_1$\", fontsize=18)\n",
    "ax.set_ylabel(r\"$x_2$\", fontsize=18)\n",
    "cb.set_label(r\"$u(x_1, x_2)$\", fontsize=18)\n",
    "fig.tight_layout()"
   ]
  },
  {
   "cell_type": "markdown",
   "metadata": {
    "slideshow": {
     "slide_type": "slide"
    }
   },
   "source": [
    "# Links útiles\n",
    "\n",
    "* **[Introducción al cálculo con python](https://relopezbriega.github.io/blog/2015/12/02/introduccion-al-calculo-con-python/)**\n",
    "* **[Ecuaciones diferenciales con python](https://relopezbriega.github.io/blog/2016/01/10/ecuaciones-diferenciales-con-python/)**\n",
    "* **[Ecuaciones en derivadas parciales con python](https://relopezbriega.github.io/blog/2016/01/27/ecuaciones-en-derivadas-parciales-con-python/)**\n",
    "* **[SymPy](https://www.sympy.org/es/)**\n",
    "* **[SciPy](https://www.scipy.org/)**\n",
    "* **[proyecto FEniCS](https://fenicsproject.org/)**"
   ]
  },
  {
   "cell_type": "markdown",
   "metadata": {
    "slideshow": {
     "slide_type": "slide"
    }
   },
   "source": [
    "<center><h1>Muchas gracias!</h1></center>\n",
    "<center><h3>Raul E. Lopez Briega</h3></center>\n",
    "\n",
    "\n",
    "[https://relopezbriega.github.io/](https://relopezbriega.github.io/)\n",
    "\n",
    "[https://relopezbriega.com.ar/](https://relopezbriega.com.ar/)\n",
    "\n",
    "Twitter: [@relopezbriega](https://twitter.com/relopezbriega)\n",
    "\n",
    "Slides: [https://relopezbriega.github.io/ecuaciones-diferenciales.html](https://relopezbriega.github.io/ecuaciones-diferenciales.html)"
   ]
  }
 ],
 "metadata": {
  "celltoolbar": "Slideshow",
  "kernelspec": {
   "display_name": "Python 2",
   "language": "python",
   "name": "python2"
  },
  "language_info": {
   "name": "python",
   "version": "2.7.11"
  }
 },
 "nbformat": 4,
 "nbformat_minor": 0
}
