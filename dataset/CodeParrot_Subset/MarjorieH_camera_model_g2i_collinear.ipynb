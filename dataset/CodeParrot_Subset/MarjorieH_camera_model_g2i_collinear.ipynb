{
 "cells": [
  {
   "cell_type": "code",
   "execution_count": 7,
   "metadata": {
    "collapsed": true
   },
   "outputs": [],
   "source": [
    "from math import sin, cos, tan, pi\n",
    "import numpy as np"
   ]
  },
  {
   "cell_type": "code",
   "execution_count": 4,
   "metadata": {
    "collapsed": true
   },
   "outputs": [],
   "source": [
    "# Ground point, should produce image point 400 samples and 500 lines\n",
    "X = 1116890\n",
    "Y = -1604470\n",
    "Z = 1459570\n",
    "\n",
    "# Hardcoded values from json\n",
    "# some set to 0 for simplicity\n",
    "omega = 2.256130940792258\n",
    "phi = 0.09433201631102328\n",
    "kappa = -0.9630375478615623\n",
    "focal_length = 549.1178195372703\n",
    "pixel_pitch = 0\n",
    "principal_point_x = 0\n",
    "principal_point_y = 0\n",
    "spacecraft_x = 1728357.7031238307\n",
    "spacecraft_y = -2088409.0061042644\n",
    "spacecraft_z = 2082873.9280557402"
   ]
  },
  {
   "cell_type": "code",
   "execution_count": 5,
   "metadata": {
    "collapsed": true
   },
   "outputs": [],
   "source": [
    "def rotation_from_opk(o, p, k):\n",
    "    om = np.empty((3,3))\n",
    "    om[:,0] = [1,0,0]\n",
    "    om[:,1] = [0, cos(o), -sin(o)]\n",
    "    om[:,2] = [0, sin(o), cos(o)]\n",
    "    \n",
    "    pm = np.empty((3,3))\n",
    "    pm[:,0] = [cos(p), 0, sin(p)]\n",
    "    pm[:,1] = [0,1,0]\n",
    "    pm[:,2] = [-sin(p), 0, cos(p)]\n",
    "    \n",
    "    km = np.empty((3,3))\n",
    "    km[:,0] = [cos(k), -sin(k), 0]\n",
    "    km[:,1] = [sin(k), cos(k), 0]\n",
    "    km[:,2] = [0,0,1]\n",
    "    \n",
    "    return km.dot(pm).dot(om)"
   ]
  },
  {
   "cell_type": "code",
   "execution_count": 12,
   "metadata": {
    "collapsed": false
   },
   "outputs": [
    {
     "name": "stdout",
     "output_type": "stream",
     "text": [
      "Sample:  4337.42884664\n",
      "Line:  -13809.8886083\n"
     ]
    }
   ],
   "source": [
    "rm = np.empty((3, 3))\n",
    "rm[:3, :3] = rotation_from_opk(omega, phi, kappa)\n",
    "\n",
    "# Collinearity equations\n",
    "samp = -focal_length * ((rm[0, 0] * (X - spacecraft_x) + rm[0, 1] * (Y - spacecraft_y) + rm[0, 2] * (Z - spacecraft_z))/(rm[2, 0] * (X - spacecraft_x) + rm[2, 1] * (Y - spacecraft_y) + rm[2, 2] * (Z - spacecraft_z))) + principal_point_x\n",
    "line = -focal_length * ((rm[1, 0] * (X - spacecraft_x) + rm[1, 1] * (Y - spacecraft_y) + rm[1, 2] * (Z - spacecraft_z))/(rm[2, 0] * (X - spacecraft_x) + rm[2, 1] * (Y - spacecraft_y) + rm[2, 2] * (Z - spacecraft_z))) + principal_point_y\n",
    "\n",
    "# Image point\n",
    "print(\"Sample: \", samp)\n",
    "print(\"Line: \", line)"
   ]
  },
  {
   "cell_type": "code",
   "execution_count": null,
   "metadata": {
    "collapsed": true
   },
   "outputs": [],
   "source": []
  }
 ],
 "metadata": {
  "anaconda-cloud": {},
  "kernelspec": {
   "display_name": "Python [Root]",
   "language": "python",
   "name": "Python [Root]"
  },
  "language_info": {
   "codemirror_mode": {
    "name": "ipython",
    "version": 3
   },
   "file_extension": ".py",
   "mimetype": "text/x-python",
   "name": "python",
   "nbconvert_exporter": "python",
   "pygments_lexer": "ipython3",
   "version": "3.5.2"
  }
 },
 "nbformat": 4,
 "nbformat_minor": 0
}
