{
 "cells": [
  {
   "cell_type": "markdown",
   "metadata": {},
   "source": [
    "# Modeling The Monty Hall Problem"
   ]
  },
  {
   "cell_type": "markdown",
   "metadata": {},
   "source": [
    "  ### Problem definitions\n",
    "   <p>Suppose you're on a game show, and you're given the choice of three doors:\n",
    "      Behind one door is a car and behind the others, goats. \n",
    "      You pick a door, say No. 1, and the host, who knows what's behind the doors,\n",
    "      opens another door, say No. 3, which has a goat. He then says to you, \"Do you want to pick door No. 2?\" \n",
    "      Is it to your advantage to switch your choice?\n",
    "   </p>\n",
    "   </br>\n",
    "   <img src=\"https://upload.wikimedia.org/wikipedia/commons/thumb/3/3f/Monty_open_door.svg/440px-Monty_open_door.svg.png\"/ height=\"100\" width=\"350\">           "
   ]
  },
  {
   "cell_type": "markdown",
   "metadata": {},
   "source": [
    "###  Wining Strategy\n",
    "   \n",
    "   <u> Always change your choice of door because:</u>   \n",
    "\n",
    "     * Sticking with your original door: you will only win one out of every three times you play \n",
    "       the game      \n",
    "     * Change your selection: you will win two out of every three times you play.\n",
    "    \n",
    "  \n",
    "   <b> Seems very not intuitive!!! </b>\n",
    "\n",
    "   <u> Few Intuitive aids </u>(<a href=\"http://stats.stackexchange.com/questions/373/the-monty-hall-problem-where-does-our-intuition-fail-us\">link</a>) :\n",
    "   \n",
    "     *  think the really crucial thing that people overlook is not their first choice,\n",
    "        but the host's choice, and the assumption that the host made sure not to \n",
    "        reveal the car.It is to your advantage to switch if the host is making sure \n",
    "        only to reveal a goat. On the other hand, if the host picked randomly between\n",
    "        doors 2 and 3, and happened to reveal a goat, then there is no advantage to switching.\n",
    "\n",
    "     * Change the problem to 100 door close .\n",
    "\n"
   ]
  },
  {
   "cell_type": "markdown",
   "metadata": {},
   "source": [
    "###  Pythonic 'Proof'\n",
    " <p> based mostly on <a href='http://code.jasonbhill.com/python/modeling-the-monty-hall-problem-with-python/'>link</a></p>"
   ]
  },
  {
   "cell_type": "code",
   "execution_count": 64,
   "metadata": {
    "collapsed": false
   },
   "outputs": [
    {
     "name": "stdout",
     "output_type": "stream",
     "text": [
      "Monty Hall simulation with switching with 10000 iterations\n",
      "\tprecentage of winning is: 66.89% \n",
      "\tprecentage of lossing is: 33.11%\n",
      "\n",
      "Monty Hall simulation without switching with 10000 iterations\n",
      "\tprecentage of winning is: 33.1% \n",
      "\tprecentage of lossing is: 66.9%\n",
      "\n"
     ]
    }
   ],
   "source": [
    "import random \n",
    "\n",
    "\n",
    " \n",
    "class MontyHall(object):\n",
    "    def __init__(self,switch_strategy=True):\n",
    "        self.switch_strategy = switch_strategy        \n",
    "\n",
    "    def pick_door(self):\n",
    "        return random.randint(1,3)\n",
    " \n",
    "    def run_game(self):\n",
    "        prize_door = pick_door()        \n",
    "        participent_door = pick_door()\n",
    "        \n",
    "        # host valid door one of the doors participant didnt pick . all the doors together sumed to 6 \n",
    "        # so we substract the two door we dont want and pick one of the options\n",
    "        host_door = pick_door()\n",
    "        host_door = random.choice([6 - participent_door - prize_door,\n",
    "                                   6 - participent_door - host_door])\n",
    "        \n",
    "        if self.switch_strategy:\n",
    "            # all the doors together sumed to 6 so to get the new door we need to subscract both\n",
    "            # our first pick and the host pick             \n",
    "            participent_door = 6 - participent_door - host_door\n",
    "    \n",
    "        return participent_door == prize_door\n",
    " \n",
    "\n",
    "class simulation(object):\n",
    "    \n",
    "    def __init__(self,switch_strategy=True, iterations=10000):\n",
    "        self.iterations = iterations\n",
    "        self.switch_strategy = switch_strategy\n",
    "        self.m = MontyHall(switch_strategy)\n",
    "        self.perc_win = 0\n",
    "        \n",
    "    def run_simulation(self):\n",
    "        # self.m.run_game() return indicator if player one win or not\n",
    "        # since bool are ints we can sum the result for total # of wins         \n",
    "        wins = sum(self.m.run_game()\n",
    "                   for i in range(self.iterations))\n",
    "        losses = self.iterations-wins\n",
    "        self.perc_win = 100.0*wins / (wins+losses)\n",
    "        return self  \n",
    "    \n",
    "    def show_stats(self):\n",
    "        print(\"Monty Hall simulation with{} switching with {} iterations\".format('' if self.switch_strategy else 'out',\n",
    "                                                                                 self.iterations))\n",
    "        print(\"\\tprecentage of winning is: {}% \\n\"\n",
    "              \"\\tprecentage of lossing is: {}%\\n\".format(self.perc_win,\n",
    "                                                        100-self.perc_win))\n",
    " \n",
    "\n",
    "simulation(switch_strategy=True).run_simulation().show_stats()\n",
    "simulation(switch_strategy=False).run_simulation().show_stats()"
   ]
  },
  {
   "cell_type": "code",
   "execution_count": null,
   "metadata": {
    "collapsed": true
   },
   "outputs": [],
   "source": []
  }
 ],
 "metadata": {
  "kernelspec": {
   "display_name": "Python 3",
   "language": "python",
   "name": "python3"
  },
  "language_info": {
   "codemirror_mode": {
    "name": "ipython",
    "version": 3
   },
   "file_extension": ".py",
   "mimetype": "text/x-python",
   "name": "python",
   "nbconvert_exporter": "python",
   "pygments_lexer": "ipython3",
   "version": "3.5.1"
  }
 },
 "nbformat": 4,
 "nbformat_minor": 0
}
