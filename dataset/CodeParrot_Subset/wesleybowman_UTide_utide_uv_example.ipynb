{
 "cells": [
  {
   "cell_type": "code",
   "execution_count": null,
   "metadata": {},
   "outputs": [],
   "source": [
    "import utide\n",
    "\n",
    "print(utide.__version__)"
   ]
  },
  {
   "cell_type": "code",
   "execution_count": null,
   "metadata": {},
   "outputs": [],
   "source": [
    "import numpy as np\n",
    "\n",
    "\n",
    "def fake_tide(t, M2amp, M2phase):\n",
    "    \"\"\"\n",
    "    Generate a minimally realistic-looking fake semidiurnal tide.\n",
    "    \n",
    "    t is time in hours\n",
    "    phases are in radians\n",
    "    \n",
    "    Modified from: http://currents.soest.hawaii.edu/ocn760_4/_static/plotting.html\n",
    "    \"\"\"\n",
    "    return M2amp * np.sin(2 * np.pi * t / 12.42 - M2phase)"
   ]
  },
  {
   "cell_type": "code",
   "execution_count": null,
   "metadata": {},
   "outputs": [],
   "source": [
    "from pandas import date_range\n",
    "\n",
    "N = 500\n",
    "\n",
    "t = date_range(start=\"2016-03-29\", periods=N, freq=\"H\")\n",
    "\n",
    "# Signal + some noise.\n",
    "u = fake_tide(np.arange(N), M2amp=2, M2phase=0) + np.random.randn(N)\n",
    "v = fake_tide(np.arange(N), M2amp=1, M2phase=np.pi) + np.random.randn(N)"
   ]
  },
  {
   "cell_type": "code",
   "execution_count": null,
   "metadata": {},
   "outputs": [],
   "source": [
    "from utide import solve\n",
    "\n",
    "\n",
    "coef = solve(\n",
    "    t, u, v,\n",
    "    lat=-42.5,\n",
    "    nodal=False,\n",
    "    trend=False,\n",
    "    method='ols',\n",
    "    conf_int='linear',\n",
    "    Rayleigh_min=0.95,\n",
    ")"
   ]
  },
  {
   "cell_type": "code",
   "execution_count": null,
   "metadata": {},
   "outputs": [],
   "source": [
    "from utide import reconstruct\n",
    "\n",
    "tide = reconstruct(t, coef)"
   ]
  },
  {
   "cell_type": "code",
   "execution_count": null,
   "metadata": {},
   "outputs": [],
   "source": [
    "tide.keys()"
   ]
  },
  {
   "cell_type": "code",
   "execution_count": null,
   "metadata": {},
   "outputs": [],
   "source": [
    "%matplotlib inline\n",
    "import matplotlib.pyplot as plt\n",
    "\n",
    "fig, (ax0, ax1, ax2) = plt.subplots(nrows=3, sharey=True, sharex=True, figsize=(17, 5))\n",
    "\n",
    "ax0.plot(t, u, label='Observations', color='C0')\n",
    "ax0.legend(numpoints=1, loc='lower right')\n",
    "\n",
    "ax1.plot(t, tide['u'], alpha=0.5, label='Prediction', color='C1')\n",
    "ax1.legend(numpoints=1, loc='lower right')\n",
    "\n",
    "ax2.plot(t, u-tide['u'], alpha=0.5, label='Original time series minus Prediction', color='C2')\n",
    "ax2.legend(numpoints=1, loc='lower right');"
   ]
  },
  {
   "cell_type": "code",
   "execution_count": null,
   "metadata": {},
   "outputs": [],
   "source": [
    "fig, (ax0, ax1, ax2) = plt.subplots(nrows=3, sharey=True, sharex=True, figsize=(17, 5))\n",
    "\n",
    "ax0.plot(t, v, label='Observations', color='C0')\n",
    "ax0.legend(numpoints=1, loc='lower right')\n",
    "\n",
    "ax1.plot(t, tide['v'], alpha=0.5, label='Prediction', color='C1')\n",
    "ax1.legend(numpoints=1, loc='lower right')\n",
    "\n",
    "ax2.plot(t, v-tide['v'], alpha=0.5, label='Residuals', color='C2')\n",
    "ax2.legend(numpoints=1, loc='lower right');"
   ]
  }
 ],
 "metadata": {
  "kernelspec": {
   "display_name": "Python 3 (ipykernel)",
   "language": "python",
   "name": "python3"
  },
  "language_info": {
   "codemirror_mode": {
    "name": "ipython",
    "version": 3
   },
   "file_extension": ".py",
   "mimetype": "text/x-python",
   "name": "python",
   "nbconvert_exporter": "python",
   "pygments_lexer": "ipython3",
   "version": "3.10.4"
  }
 },
 "nbformat": 4,
 "nbformat_minor": 1
}
