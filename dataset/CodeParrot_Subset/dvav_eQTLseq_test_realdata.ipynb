{
 "cells": [
  {
   "cell_type": "code",
   "execution_count": 1,
   "metadata": {
    "collapsed": false
   },
   "outputs": [],
   "source": [
    "import warnings as _wrn\n",
    "_wrn.filterwarnings('always')"
   ]
  },
  {
   "cell_type": "code",
   "execution_count": 2,
   "metadata": {
    "collapsed": false
   },
   "outputs": [],
   "source": [
    "import sys as _sys\n",
    "import itertools as _itr\n",
    "import pickle as _pkl\n",
    "\n",
    "import numpy as _nmp\n",
    "import numpy.random as _rnd\n",
    "import matplotlib.pyplot as _plt\n",
    "import pandas as _pnd\n",
    "\n",
    "%load_ext autoreload\n",
    "%autoreload 2\n",
    "%matplotlib inline\n",
    "\n",
    "_plt.style.use('ggplot')"
   ]
  },
  {
   "cell_type": "code",
   "execution_count": 3,
   "metadata": {
    "collapsed": false
   },
   "outputs": [],
   "source": [
    "_sys.path.append('../')\n",
    "import eQTLseq as _assoc"
   ]
  },
  {
   "cell_type": "code",
   "execution_count": 19,
   "metadata": {
    "collapsed": false
   },
   "outputs": [],
   "source": [
    "# ... load real data\n",
    "\n",
    "data = {\n",
    "    'G': _pnd.read_table('/home/dimitris/WTCHG/Projects/eQTLseq/data/geuvadis/genotypes.TF.common.HIGH.no_missing.txt', index_col=0, header=None),\n",
    "    'Z': _pnd.read_table('/home/dimitris/WTCHG/Projects/eQTLseq/data/geuvadis/counts_miRNAs.txt', index_col=0)\n",
    "}\n",
    "\n",
    "samples = data['G'].index & data['Z'].columns\n",
    "\n",
    "data['Z'] = data['Z'][samples].values\n",
    "data['G'] = data['G'].loc[samples].values"
   ]
  },
  {
   "cell_type": "code",
   "execution_count": 20,
   "metadata": {
    "collapsed": false
   },
   "outputs": [
    {
     "name": "stdout",
     "output_type": "stream",
     "text": [
      "(452, 37) (408, 452)\n"
     ]
    },
    {
     "data": {
      "image/png": "[encoded data removed]",
      "text/plain": [
       "<matplotlib.figure.Figure at 0x7ffa148ef320>"
      ]
     },
     "metadata": {},
     "output_type": "display_data"
    }
   ],
   "source": [
    "# prepare data\n",
    "\n",
    "Z = data['Z']\n",
    "G = data['G']\n",
    "\n",
    "Z = Z[Z.mean(1) > 10, :]       # keep only expressed tags\n",
    "# Z = Z[Z.sum(1) > _nmp.percentile(Z.sum(1), 40), :]\n",
    "G = G[:, _nmp.std(G, 0) > 0] # keep only non-monomorphic loci\n",
    "\n",
    "Z = Z / _assoc.calculate_norm_factors(Z)\n",
    "Z = _assoc.transform_data(Z, kind='arcsin')\n",
    "\n",
    "print(G.shape, Z.shape)\n",
    "\n",
    "# take a quick look at the data\n",
    "\n",
    "_plt.figure(figsize=(15,10));\n",
    "_plt.subplot(2,3,1); _plt.imshow(G.T.dot(G), cmap=_plt.cm.Greys_r);\n",
    "_plt.subplot(2,3,2); _plt.hist(Z[:, 0], bins=100);\n",
    "_plt.subplot(2,3,3); _plt.hist(Z[0, :], bins=100);"
   ]
  },
  {
   "cell_type": "code",
   "execution_count": null,
   "metadata": {
    "collapsed": false
   },
   "outputs": [],
   "source": [
    "# _rnd.seed(0)\n",
    "res = _assoc.run(Z.T, G, n_iters = 1000, model='Normal', n_threads=8)"
   ]
  },
  {
   "cell_type": "code",
   "execution_count": null,
   "metadata": {
    "collapsed": false,
    "scrolled": true
   },
   "outputs": [],
   "source": [
    "# with open('/home/dimitris/WTCHG/Projects/eQTLseq/results/geuvadis/raw/TF.common.HIGH.tfs.339.NBinomial.none.1.pkl', 'rb') as fh:\n",
    "#     res = _pkl.load(fh)\n",
    "\n",
    "##\n",
    "_plt.figure(figsize = (15,10));\n",
    "\n",
    "_plt.subplot(4,1,1); _plt.plot(res['state'][100:]); _plt.xlabel('iteration'); _plt.ylabel('state')\n",
    "_plt.subplot(4,1,2); _plt.vlines(range(res['beta'].size), 0, res['beta']); _plt.xlabel('markers x genes'); _plt.ylabel('effect size')\n",
    "_plt.axhline(linestyle='--', color='k');\n",
    "\n",
    "\n",
    "##\n",
    "tmp = res['beta'][_nmp.abs(res['beta'])>0.25 * _nmp.max(_nmp.abs(res['beta']))]\n",
    "print(_nmp.min(_nmp.abs(tmp)), tmp.size)\n",
    "_plt.subplot(4,1,3); _plt.hist(tmp.ravel(), 100);\n",
    "\n",
    "##\n",
    "_nmp.transpose((_nmp.abs(res['beta']) > 1e-6).nonzero())\n"
   ]
  },
  {
   "cell_type": "code",
   "execution_count": null,
   "metadata": {
    "collapsed": false
   },
   "outputs": [],
   "source": [
    "cp eQTLseq/*.py /home/dimitris/WTCHG/Projects/eQTLseq/eQTLseq/"
   ]
  },
  {
   "cell_type": "code",
   "execution_count": null,
   "metadata": {
    "collapsed": false
   },
   "outputs": [],
   "source": [
    "G.ravel() in (0,1)"
   ]
  },
  {
   "cell_type": "code",
   "execution_count": null,
   "metadata": {
    "collapsed": false
   },
   "outputs": [],
   "source": [
    "_nmp.min(res['zeta'])"
   ]
  },
  {
   "cell_type": "code",
   "execution_count": null,
   "metadata": {
    "collapsed": false
   },
   "outputs": [],
   "source": []
  },
  {
   "cell_type": "code",
   "execution_count": null,
   "metadata": {
    "collapsed": true
   },
   "outputs": [],
   "source": [
    "with open('/home/dimitris/WTCHG/Projects/eQTLseq/data/geuvadis/N1000.M100.G1000.P1_1_0_0.S2.R1.2.1.pkl', 'rb') as fh: \n",
    "    tmp = _pkl.load(fh)"
   ]
  },
  {
   "cell_type": "code",
   "execution_count": null,
   "metadata": {
    "collapsed": false
   },
   "outputs": [],
   "source": [
    "_nmp.min(tmp['phi']), tmp['poisson'].sum(), tmp['outliers'].sum()"
   ]
  },
  {
   "cell_type": "code",
   "execution_count": null,
   "metadata": {
    "collapsed": false
   },
   "outputs": [],
   "source": [
    "tmp.keys()"
   ]
  },
  {
   "cell_type": "code",
   "execution_count": null,
   "metadata": {
    "collapsed": false
   },
   "outputs": [],
   "source": [
    "100/1000"
   ]
  },
  {
   "cell_type": "code",
   "execution_count": null,
   "metadata": {
    "collapsed": false
   },
   "outputs": [],
   "source": [
    "data['G'].shape"
   ]
  },
  {
   "cell_type": "code",
   "execution_count": null,
   "metadata": {
    "collapsed": false
   },
   "outputs": [],
   "source": [
    "data['G'][:,:8]"
   ]
  },
  {
   "cell_type": "code",
   "execution_count": null,
   "metadata": {
    "collapsed": false
   },
   "outputs": [],
   "source": [
    "_nmp.any(data['G'] == -1, 0).sum()"
   ]
  },
  {
   "cell_type": "code",
   "execution_count": null,
   "metadata": {
    "collapsed": false
   },
   "outputs": [],
   "source": [
    "G.shape"
   ]
  },
  {
   "cell_type": "code",
   "execution_count": null,
   "metadata": {
    "collapsed": false
   },
   "outputs": [],
   "source": [
    "75/100*452"
   ]
  },
  {
   "cell_type": "code",
   "execution_count": null,
   "metadata": {
    "collapsed": false
   },
   "outputs": [],
   "source": [
    "cnts = _pnd.read_table('/home/dimitris/Data/Geuvadis/counts/counts_miRNAs.txt', index_col=0).values\n",
    "flt = cnts[cnts.mean(1) > 0,:]\n",
    "p = (flt + 1*0) / (flt.sum(0) + 0*flt.shape[0])\n",
    "arcsin = _nmp.arcsin(_nmp.sqrt(p))\n",
    "logit = _nmp.log(p / (1 - p))\n",
    "log = _nmp.log(p)"
   ]
  },
  {
   "cell_type": "code",
   "execution_count": null,
   "metadata": {
    "collapsed": false
   },
   "outputs": [],
   "source": [
    "_plt.plot(arcsin.mean(1), arcsin.std(1), '.')"
   ]
  },
  {
   "cell_type": "code",
   "execution_count": null,
   "metadata": {
    "collapsed": false
   },
   "outputs": [],
   "source": [
    "_plt.hist(arcsin.ravel(), 100);"
   ]
  },
  {
   "cell_type": "code",
   "execution_count": null,
   "metadata": {
    "collapsed": false
   },
   "outputs": [],
   "source": [
    "3.14/2"
   ]
  },
  {
   "cell_type": "code",
   "execution_count": null,
   "metadata": {
    "collapsed": true
   },
   "outputs": [],
   "source": []
  }
 ],
 "metadata": {
  "kernelspec": {
   "display_name": "Python 3",
   "language": "python",
   "name": "python3"
  },
  "language_info": {
   "codemirror_mode": {
    "name": "ipython",
    "version": 3
   },
   "file_extension": ".py",
   "mimetype": "text/x-python",
   "name": "python",
   "nbconvert_exporter": "python",
   "pygments_lexer": "ipython3",
   "version": "3.5.2"
  }
 },
 "nbformat": 4,
 "nbformat_minor": 0
}
