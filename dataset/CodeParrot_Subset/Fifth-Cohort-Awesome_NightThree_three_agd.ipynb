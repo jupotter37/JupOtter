{
 "cells": [
  {
   "cell_type": "markdown",
   "metadata": {},
   "source": [
    "## Goal One"
   ]
  },
  {
   "cell_type": "markdown",
   "metadata": {},
   "source": [
    "Injest a csv file as pure text... (just 500 chars)"
   ]
  },
  {
   "cell_type": "code",
   "execution_count": 18,
   "metadata": {},
   "outputs": [
    {
     "data": {
      "text/plain": [
       "'budget,genres,homepage,id,keywords,original_language,original_title,overview,popularity,production_companies,production_countries,release_date,revenue,runtime,spoken_languages,status,tagline,title,vote_average,vote_count\\n237000000,\"[{\"\"id\"\": 28, \"\"name\"\": \"\"Action\"\"}, {\"\"id\"\": 12, \"\"name\"\": \"\"Adventure\"\"}, {\"\"id\"\": 14, \"\"name\"\": \"\"Fantasy\"\"}, {\"\"id\"\": 878, \"\"name\"\": \"\"Science Fiction\"\"}]\",http://www.avatarmovie.com/,19995,\"[{\"\"id\"\": 1463, \"\"name\"\": \"\"culture clash\"\"}, {\"\"id\"\": 2964, \"\"name\"\": \"\"'"
      ]
     },
     "execution_count": 18,
     "metadata": {},
     "output_type": "execute_result"
    }
   ],
   "source": [
    "\n",
    "with open('tmdb_5000_movies.csv','r') as f:\n",
    "    rtext=''\n",
    "    for line in f:\n",
    "       rtext += line\n",
    "rtext[:500]"
   ]
  },
  {
   "cell_type": "markdown",
   "metadata": {},
   "source": [
    "Then as a list of lines...  (just one line)"
   ]
  },
  {
   "cell_type": "code",
   "execution_count": 19,
   "metadata": {},
   "outputs": [
    {
     "data": {
      "text/plain": [
       "'budget,genres,homepage,id,keywords,original_language,original_title,overview,popularity,production_companies,production_countries,release_date,revenue,runtime,spoken_languages,status,tagline,title,vote_average,vote_count\\n'"
      ]
     },
     "execution_count": 19,
     "metadata": {},
     "output_type": "execute_result"
    }
   ],
   "source": [
    "with open('tmdb_5000_movies.csv','r') as f:\n",
    "    lines = [line for line in f]\n",
    "lines[0]"
   ]
  },
  {
   "cell_type": "markdown",
   "metadata": {},
   "source": [
    "Then as a data frame... (just Avatar)"
   ]
  },
  {
   "cell_type": "code",
   "execution_count": 20,
   "metadata": {},
   "outputs": [
    {
     "data": {
      "text/html": [
       "<div>\n",
       "<style>\n",
       "    .dataframe thead tr:only-child th {\n",
       "        text-align: right;\n",
       "    }\n",
       "\n",
       "    .dataframe thead th {\n",
       "        text-align: left;\n",
       "    }\n",
       "\n",
       "    .dataframe tbody tr th {\n",
       "        vertical-align: top;\n",
       "    }\n",
       "</style>\n",
       "<table border=\"1\" class=\"dataframe\">\n",
       "  <thead>\n",
       "    <tr style=\"text-align: right;\">\n",
       "      <th></th>\n",
       "      <th>budget</th>\n",
       "      <th>genres</th>\n",
       "      <th>homepage</th>\n",
       "      <th>id</th>\n",
       "      <th>keywords</th>\n",
       "      <th>original_language</th>\n",
       "      <th>original_title</th>\n",
       "      <th>overview</th>\n",
       "      <th>popularity</th>\n",
       "      <th>production_companies</th>\n",
       "      <th>production_countries</th>\n",
       "      <th>release_date</th>\n",
       "      <th>revenue</th>\n",
       "      <th>runtime</th>\n",
       "      <th>spoken_languages</th>\n",
       "      <th>status</th>\n",
       "      <th>tagline</th>\n",
       "      <th>title</th>\n",
       "      <th>vote_average</th>\n",
       "      <th>vote_count</th>\n",
       "    </tr>\n",
       "  </thead>\n",
       "  <tbody>\n",
       "    <tr>\n",
       "      <th>0</th>\n",
       "      <td>237000000</td>\n",
       "      <td>[{\"id\": 28, \"name\": \"Action\"}, {\"id\": 12, \"nam...</td>\n",
       "      <td>http://www.avatarmovie.com/</td>\n",
       "      <td>19995</td>\n",
       "      <td>[{\"id\": 1463, \"name\": \"culture clash\"}, {\"id\":...</td>\n",
       "      <td>en</td>\n",
       "      <td>Avatar</td>\n",
       "      <td>In the 22nd century, a paraplegic Marine is di...</td>\n",
       "      <td>150.437577</td>\n",
       "      <td>[{\"name\": \"Ingenious Film Partners\", \"id\": 289...</td>\n",
       "      <td>[{\"iso_3166_1\": \"US\", \"name\": \"United States o...</td>\n",
       "      <td>2009-12-10</td>\n",
       "      <td>2787965087</td>\n",
       "      <td>162.0</td>\n",
       "      <td>[{\"iso_639_1\": \"en\", \"name\": \"English\"}, {\"iso...</td>\n",
       "      <td>Released</td>\n",
       "      <td>Enter the World of Pandora.</td>\n",
       "      <td>Avatar</td>\n",
       "      <td>7.2</td>\n",
       "      <td>11800</td>\n",
       "    </tr>\n",
       "  </tbody>\n",
       "</table>\n",
       "</div>"
      ],
      "text/plain": [
       "      budget                                             genres  \\\n",
       "0  237000000  [{\"id\": 28, \"name\": \"Action\"}, {\"id\": 12, \"nam...   \n",
       "\n",
       "                      homepage     id  \\\n",
       "0  http://www.avatarmovie.com/  19995   \n",
       "\n",
       "                                            keywords original_language  \\\n",
       "0  [{\"id\": 1463, \"name\": \"culture clash\"}, {\"id\":...                en   \n",
       "\n",
       "  original_title                                           overview  \\\n",
       "0         Avatar  In the 22nd century, a paraplegic Marine is di...   \n",
       "\n",
       "   popularity                               production_companies  \\\n",
       "0  150.437577  [{\"name\": \"Ingenious Film Partners\", \"id\": 289...   \n",
       "\n",
       "                                production_countries release_date     revenue  \\\n",
       "0  [{\"iso_3166_1\": \"US\", \"name\": \"United States o...   2009-12-10  2787965087   \n",
       "\n",
       "   runtime                                   spoken_languages    status  \\\n",
       "0    162.0  [{\"iso_639_1\": \"en\", \"name\": \"English\"}, {\"iso...  Released   \n",
       "\n",
       "                       tagline   title  vote_average  vote_count  \n",
       "0  Enter the World of Pandora.  Avatar           7.2       11800  "
      ]
     },
     "execution_count": 20,
     "metadata": {},
     "output_type": "execute_result"
    }
   ],
   "source": [
    "import pandas as pd\n",
    "df = pd.read_csv(\"tmdb_5000_movies.csv\")\n",
    "df.query('id == 19995')"
   ]
  },
  {
   "cell_type": "markdown",
   "metadata": {},
   "source": [
    "## Goal Two"
   ]
  },
  {
   "cell_type": "markdown",
   "metadata": {},
   "source": [
    "Right now, the file is in a 'narrow' format. In other words, several interesting bits are collapsed into a single field. Let's attempt to make the data frame a 'wide' format. All the collapsed items expanded horizontally."
   ]
  },
  {
   "cell_type": "markdown",
   "metadata": {
    "collapsed": true
   },
   "source": [
    "### References:\n",
    "#### https://www.kaggle.com/fabiendaniel/film-recommendation-engine\n",
    "#### http://www.jeannicholashould.com/tidy-data-in-python.html"
   ]
  },
  {
   "cell_type": "code",
   "execution_count": 24,
   "metadata": {},
   "outputs": [],
   "source": [
    "import json\n",
    "import pandas as pd\n",
    "import numpy as np\n",
    "\n",
    "df = pd.read_csv(\"tmdb_5000_movies.csv\")\n",
    "\n",
    "#convert to json\n",
    "json_columns = ['genres', 'keywords', 'production_countries',\n",
    "                    'production_companies', 'spoken_languages']\n",
    "for column in json_columns:\n",
    "    df[column] = df[column].apply(json.loads)\n",
    "\n",
    "\n",
    "def get_unique_inner_json(feature):\n",
    "    tmp = []\n",
    "    for i, row in df[feature].iteritems():\n",
    "        for x in range(0,len(df[feature].iloc[i])):\n",
    "            tmp.append(df[feature].iloc[i][x]['name'])\n",
    "\n",
    "    unique_values = set(tmp)\n",
    "    return unique_values"
   ]
  },
  {
   "cell_type": "code",
   "execution_count": 25,
   "metadata": {
    "collapsed": true
   },
   "outputs": [],
   "source": [
    "def widen_data(df, feature):\n",
    "    unique_json = get_unique_inner_json(feature)\n",
    "   \n",
    "    tmp = []\n",
    "    #rearrange genres\n",
    "    for i, row in df.iterrows():\n",
    "        for x in range(0,len(row[feature])):\n",
    "            for val in unique_json:\n",
    "                if row[feature][x]['name'] == val:\n",
    "                    row[val] = 1\n",
    "                    \n",
    "        tmp.append(row)\n",
    "    \n",
    "    new_df = pd.DataFrame(tmp)\n",
    "    new_df[list(unique_json)] = new_df[list(unique_json)].fillna(value=0)\n",
    "    return new_df"
   ]
  },
  {
   "cell_type": "code",
   "execution_count": 26,
   "metadata": {},
   "outputs": [],
   "source": [
    "genres_arranged_df = widen_data(df, \"genres\")\n",
    "genres_arranged_df[list(get_unique_inner_json(\"genres\"))] = genres_arranged_df[list(get_unique_inner_json(\"genres\"))].astype(int)\n",
    "\n"
   ]
  },
  {
   "cell_type": "code",
   "execution_count": 27,
   "metadata": {},
   "outputs": [
    {
     "data": {
      "text/html": [
       "<div>\n",
       "<style>\n",
       "    .dataframe thead tr:only-child th {\n",
       "        text-align: right;\n",
       "    }\n",
       "\n",
       "    .dataframe thead th {\n",
       "        text-align: left;\n",
       "    }\n",
       "\n",
       "    .dataframe tbody tr th {\n",
       "        vertical-align: top;\n",
       "    }\n",
       "</style>\n",
       "<table border=\"1\" class=\"dataframe\">\n",
       "  <thead>\n",
       "    <tr style=\"text-align: right;\">\n",
       "      <th></th>\n",
       "      <th>Action</th>\n",
       "      <th>Adventure</th>\n",
       "      <th>Animation</th>\n",
       "      <th>Comedy</th>\n",
       "      <th>Crime</th>\n",
       "      <th>Documentary</th>\n",
       "      <th>Drama</th>\n",
       "      <th>Family</th>\n",
       "      <th>Fantasy</th>\n",
       "      <th>Foreign</th>\n",
       "      <th>...</th>\n",
       "      <th>production_countries</th>\n",
       "      <th>release_date</th>\n",
       "      <th>revenue</th>\n",
       "      <th>runtime</th>\n",
       "      <th>spoken_languages</th>\n",
       "      <th>status</th>\n",
       "      <th>tagline</th>\n",
       "      <th>title</th>\n",
       "      <th>vote_average</th>\n",
       "      <th>vote_count</th>\n",
       "    </tr>\n",
       "  </thead>\n",
       "  <tbody>\n",
       "    <tr>\n",
       "      <th>0</th>\n",
       "      <td>1</td>\n",
       "      <td>1</td>\n",
       "      <td>0</td>\n",
       "      <td>0</td>\n",
       "      <td>0</td>\n",
       "      <td>0</td>\n",
       "      <td>0</td>\n",
       "      <td>0</td>\n",
       "      <td>1</td>\n",
       "      <td>0</td>\n",
       "      <td>...</td>\n",
       "      <td>[{u'iso_3166_1': u'US', u'name': u'United Stat...</td>\n",
       "      <td>2009-12-10</td>\n",
       "      <td>2787965087</td>\n",
       "      <td>162.0</td>\n",
       "      <td>[{u'iso_639_1': u'en', u'name': u'English'}, {...</td>\n",
       "      <td>Released</td>\n",
       "      <td>Enter the World of Pandora.</td>\n",
       "      <td>Avatar</td>\n",
       "      <td>7.2</td>\n",
       "      <td>11800</td>\n",
       "    </tr>\n",
       "  </tbody>\n",
       "</table>\n",
       "<p>1 rows × 40 columns</p>\n",
       "</div>"
      ],
      "text/plain": [
       "   Action  Adventure  Animation  Comedy  Crime  Documentary  Drama  Family  \\\n",
       "0       1          1          0       0      0            0      0       0   \n",
       "\n",
       "   Fantasy  Foreign     ...      \\\n",
       "0        1        0     ...       \n",
       "\n",
       "                                production_countries  release_date  \\\n",
       "0  [{u'iso_3166_1': u'US', u'name': u'United Stat...    2009-12-10   \n",
       "\n",
       "      revenue  runtime                                   spoken_languages  \\\n",
       "0  2787965087    162.0  [{u'iso_639_1': u'en', u'name': u'English'}, {...   \n",
       "\n",
       "     status                      tagline   title  vote_average  vote_count  \n",
       "0  Released  Enter the World of Pandora.  Avatar           7.2       11800  \n",
       "\n",
       "[1 rows x 40 columns]"
      ]
     },
     "execution_count": 27,
     "metadata": {},
     "output_type": "execute_result"
    }
   ],
   "source": [
    "genres_arranged_df.query('title == \"Avatar\"')"
   ]
  },
  {
   "cell_type": "markdown",
   "metadata": {},
   "source": [
    "# Goal Three"
   ]
  },
  {
   "cell_type": "code",
   "execution_count": 29,
   "metadata": {},
   "outputs": [
    {
     "data": {
      "text/html": [
       "<div>\n",
       "<style>\n",
       "    .dataframe thead tr:only-child th {\n",
       "        text-align: right;\n",
       "    }\n",
       "\n",
       "    .dataframe thead th {\n",
       "        text-align: left;\n",
       "    }\n",
       "\n",
       "    .dataframe tbody tr th {\n",
       "        vertical-align: top;\n",
       "    }\n",
       "</style>\n",
       "<table border=\"1\" class=\"dataframe\">\n",
       "  <thead>\n",
       "    <tr style=\"text-align: right;\">\n",
       "      <th></th>\n",
       "      <th>budget</th>\n",
       "      <th>genres</th>\n",
       "      <th>homepage</th>\n",
       "      <th>id</th>\n",
       "      <th>keywords</th>\n",
       "      <th>original_language</th>\n",
       "      <th>original_title</th>\n",
       "      <th>overview</th>\n",
       "      <th>popularity</th>\n",
       "      <th>production_companies</th>\n",
       "      <th>...</th>\n",
       "      <th>revenue</th>\n",
       "      <th>runtime</th>\n",
       "      <th>spoken_languages</th>\n",
       "      <th>status</th>\n",
       "      <th>tagline</th>\n",
       "      <th>title</th>\n",
       "      <th>vote_average</th>\n",
       "      <th>vote_count</th>\n",
       "      <th>genre</th>\n",
       "      <th>genre_val</th>\n",
       "    </tr>\n",
       "  </thead>\n",
       "  <tbody>\n",
       "    <tr>\n",
       "      <th>19212</th>\n",
       "      <td>237000000</td>\n",
       "      <td>[{u'id': 28, u'name': u'Action'}, {u'id': 12, ...</td>\n",
       "      <td>http://www.avatarmovie.com/</td>\n",
       "      <td>19995</td>\n",
       "      <td>[{u'id': 1463, u'name': u'culture clash'}, {u'...</td>\n",
       "      <td>en</td>\n",
       "      <td>Avatar</td>\n",
       "      <td>In the 22nd century, a paraplegic Marine is di...</td>\n",
       "      <td>150.437577</td>\n",
       "      <td>[{u'name': u'Ingenious Film Partners', u'id': ...</td>\n",
       "      <td>...</td>\n",
       "      <td>2787965087</td>\n",
       "      <td>162.0</td>\n",
       "      <td>[{u'iso_639_1': u'en', u'name': u'English'}, {...</td>\n",
       "      <td>Released</td>\n",
       "      <td>Enter the World of Pandora.</td>\n",
       "      <td>Avatar</td>\n",
       "      <td>7.2</td>\n",
       "      <td>11800</td>\n",
       "      <td>Science Fiction</td>\n",
       "      <td>1</td>\n",
       "    </tr>\n",
       "    <tr>\n",
       "      <th>38424</th>\n",
       "      <td>237000000</td>\n",
       "      <td>[{u'id': 28, u'name': u'Action'}, {u'id': 12, ...</td>\n",
       "      <td>http://www.avatarmovie.com/</td>\n",
       "      <td>19995</td>\n",
       "      <td>[{u'id': 1463, u'name': u'culture clash'}, {u'...</td>\n",
       "      <td>en</td>\n",
       "      <td>Avatar</td>\n",
       "      <td>In the 22nd century, a paraplegic Marine is di...</td>\n",
       "      <td>150.437577</td>\n",
       "      <td>[{u'name': u'Ingenious Film Partners', u'id': ...</td>\n",
       "      <td>...</td>\n",
       "      <td>2787965087</td>\n",
       "      <td>162.0</td>\n",
       "      <td>[{u'iso_639_1': u'en', u'name': u'English'}, {...</td>\n",
       "      <td>Released</td>\n",
       "      <td>Enter the World of Pandora.</td>\n",
       "      <td>Avatar</td>\n",
       "      <td>7.2</td>\n",
       "      <td>11800</td>\n",
       "      <td>Fantasy</td>\n",
       "      <td>1</td>\n",
       "    </tr>\n",
       "    <tr>\n",
       "      <th>52833</th>\n",
       "      <td>237000000</td>\n",
       "      <td>[{u'id': 28, u'name': u'Action'}, {u'id': 12, ...</td>\n",
       "      <td>http://www.avatarmovie.com/</td>\n",
       "      <td>19995</td>\n",
       "      <td>[{u'id': 1463, u'name': u'culture clash'}, {u'...</td>\n",
       "      <td>en</td>\n",
       "      <td>Avatar</td>\n",
       "      <td>In the 22nd century, a paraplegic Marine is di...</td>\n",
       "      <td>150.437577</td>\n",
       "      <td>[{u'name': u'Ingenious Film Partners', u'id': ...</td>\n",
       "      <td>...</td>\n",
       "      <td>2787965087</td>\n",
       "      <td>162.0</td>\n",
       "      <td>[{u'iso_639_1': u'en', u'name': u'English'}, {...</td>\n",
       "      <td>Released</td>\n",
       "      <td>Enter the World of Pandora.</td>\n",
       "      <td>Avatar</td>\n",
       "      <td>7.2</td>\n",
       "      <td>11800</td>\n",
       "      <td>Adventure</td>\n",
       "      <td>1</td>\n",
       "    </tr>\n",
       "    <tr>\n",
       "      <th>62439</th>\n",
       "      <td>237000000</td>\n",
       "      <td>[{u'id': 28, u'name': u'Action'}, {u'id': 12, ...</td>\n",
       "      <td>http://www.avatarmovie.com/</td>\n",
       "      <td>19995</td>\n",
       "      <td>[{u'id': 1463, u'name': u'culture clash'}, {u'...</td>\n",
       "      <td>en</td>\n",
       "      <td>Avatar</td>\n",
       "      <td>In the 22nd century, a paraplegic Marine is di...</td>\n",
       "      <td>150.437577</td>\n",
       "      <td>[{u'name': u'Ingenious Film Partners', u'id': ...</td>\n",
       "      <td>...</td>\n",
       "      <td>2787965087</td>\n",
       "      <td>162.0</td>\n",
       "      <td>[{u'iso_639_1': u'en', u'name': u'English'}, {...</td>\n",
       "      <td>Released</td>\n",
       "      <td>Enter the World of Pandora.</td>\n",
       "      <td>Avatar</td>\n",
       "      <td>7.2</td>\n",
       "      <td>11800</td>\n",
       "      <td>Action</td>\n",
       "      <td>1</td>\n",
       "    </tr>\n",
       "  </tbody>\n",
       "</table>\n",
       "<p>4 rows × 22 columns</p>\n",
       "</div>"
      ],
      "text/plain": [
       "          budget                                             genres  \\\n",
       "19212  237000000  [{u'id': 28, u'name': u'Action'}, {u'id': 12, ...   \n",
       "38424  237000000  [{u'id': 28, u'name': u'Action'}, {u'id': 12, ...   \n",
       "52833  237000000  [{u'id': 28, u'name': u'Action'}, {u'id': 12, ...   \n",
       "62439  237000000  [{u'id': 28, u'name': u'Action'}, {u'id': 12, ...   \n",
       "\n",
       "                          homepage     id  \\\n",
       "19212  http://www.avatarmovie.com/  19995   \n",
       "38424  http://www.avatarmovie.com/  19995   \n",
       "52833  http://www.avatarmovie.com/  19995   \n",
       "62439  http://www.avatarmovie.com/  19995   \n",
       "\n",
       "                                                keywords original_language  \\\n",
       "19212  [{u'id': 1463, u'name': u'culture clash'}, {u'...                en   \n",
       "38424  [{u'id': 1463, u'name': u'culture clash'}, {u'...                en   \n",
       "52833  [{u'id': 1463, u'name': u'culture clash'}, {u'...                en   \n",
       "62439  [{u'id': 1463, u'name': u'culture clash'}, {u'...                en   \n",
       "\n",
       "      original_title                                           overview  \\\n",
       "19212         Avatar  In the 22nd century, a paraplegic Marine is di...   \n",
       "38424         Avatar  In the 22nd century, a paraplegic Marine is di...   \n",
       "52833         Avatar  In the 22nd century, a paraplegic Marine is di...   \n",
       "62439         Avatar  In the 22nd century, a paraplegic Marine is di...   \n",
       "\n",
       "       popularity                               production_companies  \\\n",
       "19212  150.437577  [{u'name': u'Ingenious Film Partners', u'id': ...   \n",
       "38424  150.437577  [{u'name': u'Ingenious Film Partners', u'id': ...   \n",
       "52833  150.437577  [{u'name': u'Ingenious Film Partners', u'id': ...   \n",
       "62439  150.437577  [{u'name': u'Ingenious Film Partners', u'id': ...   \n",
       "\n",
       "         ...         revenue runtime  \\\n",
       "19212    ...      2787965087   162.0   \n",
       "38424    ...      2787965087   162.0   \n",
       "52833    ...      2787965087   162.0   \n",
       "62439    ...      2787965087   162.0   \n",
       "\n",
       "                                        spoken_languages    status  \\\n",
       "19212  [{u'iso_639_1': u'en', u'name': u'English'}, {...  Released   \n",
       "38424  [{u'iso_639_1': u'en', u'name': u'English'}, {...  Released   \n",
       "52833  [{u'iso_639_1': u'en', u'name': u'English'}, {...  Released   \n",
       "62439  [{u'iso_639_1': u'en', u'name': u'English'}, {...  Released   \n",
       "\n",
       "                           tagline   title vote_average vote_count  \\\n",
       "19212  Enter the World of Pandora.  Avatar          7.2      11800   \n",
       "38424  Enter the World of Pandora.  Avatar          7.2      11800   \n",
       "52833  Enter the World of Pandora.  Avatar          7.2      11800   \n",
       "62439  Enter the World of Pandora.  Avatar          7.2      11800   \n",
       "\n",
       "                 genre  genre_val  \n",
       "19212  Science Fiction          1  \n",
       "38424          Fantasy          1  \n",
       "52833        Adventure          1  \n",
       "62439           Action          1  \n",
       "\n",
       "[4 rows x 22 columns]"
      ]
     },
     "execution_count": 29,
     "metadata": {},
     "output_type": "execute_result"
    }
   ],
   "source": [
    "genres_long_df = pd.melt(genres_arranged_df, id_vars=df.columns, value_vars=get_unique_inner_json(\"genres\"), var_name=\"genre\", value_name=\"genre_val\")\n",
    "genres_long_df = genres_long_df[genres_long_df['genre_val'] == 1]\n",
    "genres_long_df.query('title == \"Avatar\"')\n"
   ]
  }
 ],
 "metadata": {
  "kernelspec": {
   "display_name": "Python 2",
   "language": "python",
   "name": "python2"
  },
  "language_info": {
   "codemirror_mode": {
    "name": "ipython",
    "version": 2
   },
   "file_extension": ".py",
   "mimetype": "text/x-python",
   "name": "python",
   "nbconvert_exporter": "python",
   "pygments_lexer": "ipython2",
   "version": "2.7.13"
  }
 },
 "nbformat": 4,
 "nbformat_minor": 2
}
