{
 "cells": [
  {
   "cell_type": "code",
   "execution_count": 1,
   "metadata": {
    "collapsed": false
   },
   "outputs": [
    {
     "data": {
      "text/plain": [
       "{'nb_description': 'An example implementation of bubble sort',\n",
       " 'nb_display_name': 'Bubble Sort',\n",
       " 'nb_filename': 'bubble_sort.ipynb',\n",
       " 'params': [{'description': '',\n",
       "   'display_name': 'Test num',\n",
       "   'input_type': 'integer',\n",
       "   'name': 'user_id'},\n",
       "  {'description': '',\n",
       "   'display_name': 'Test str',\n",
       "   'input_type': 'string',\n",
       "   'name': 'username'}]}"
      ]
     },
     "execution_count": 1,
     "metadata": {},
     "output_type": "execute_result"
    }
   ],
   "source": [
    "{\n",
    "    \"nb_display_name\": \"Bubble Sort\",\n",
    "    \"nb_description\": \"An example implementation of bubble sort\",\n",
    "    \"nb_filename\": \"bubble_sort.ipynb\",\n",
    "    \"params\":[\n",
    "        {\n",
    "            \"name\":\"user_id\",\n",
    "            \"display_name\":\"Test num\",\n",
    "            \"description\":\"\",\n",
    "            \"input_type\":\"integer\"\n",
    "        },\n",
    "        {\n",
    "            \"name\":\"username\",\n",
    "            \"display_name\":\"Test str\",\n",
    "            \"description\":\"\",\n",
    "            \"input_type\":\"string\"\n",
    "        }\n",
    "    ]\n",
    "}"
   ]
  },
  {
   "cell_type": "markdown",
   "metadata": {},
   "source": [
    "[Sebastian Raschka](http://www.sebastianraschka.com)  \n"
   ]
  },
  {
   "cell_type": "code",
   "execution_count": 1,
   "metadata": {
    "collapsed": false
   },
   "outputs": [
    {
     "name": "stdout",
     "output_type": "stream",
     "text": [
      "Last updated: 10/06/2014\n"
     ]
    }
   ],
   "source": [
    "import time\n",
    "print('Last updated: %s' %time.strftime('%d/%m/%Y'))"
   ]
  },
  {
   "cell_type": "markdown",
   "metadata": {},
   "source": [
    "# Sorting Algorithms"
   ]
  },
  {
   "cell_type": "markdown",
   "metadata": {},
   "source": [
    "## Overview"
   ]
  },
  {
   "cell_type": "code",
   "execution_count": 2,
   "metadata": {
    "collapsed": false
   },
   "outputs": [],
   "source": [
    "import platform\n",
    "import multiprocessing\n",
    "\n",
    "def print_sysinfo():\n",
    "    \n",
    "    print('\\nPython version  :', platform.python_version())\n",
    "    print('compiler        :', platform.python_compiler())\n",
    "\n",
    "    print('\\nsystem          :', platform.system())\n",
    "    print('release         :', platform.release())\n",
    "    print('machine         :', platform.machine())\n",
    "    print('processor       :', platform.processor())\n",
    "    print('CPU count       :', multiprocessing.cpu_count())\n",
    "    print('interpreter     :', platform.architecture()[0])\n",
    "    print('\\n\\n')"
   ]
  },
  {
   "cell_type": "markdown",
   "metadata": {},
   "source": [
    "# Bubble sort"
   ]
  },
  {
   "cell_type": "markdown",
   "metadata": {},
   "source": [
    "[[back to top](#Overview)]"
   ]
  },
  {
   "cell_type": "markdown",
   "metadata": {},
   "source": [
    "## Quick note about Bubble sort"
   ]
  },
  {
   "cell_type": "markdown",
   "metadata": {},
   "source": [
    "I don't want to get into the details about sorting algorithms here, but there is a great report  \n",
    "[\"Sorting in the Presence of Branch Prediction and Caches - Fast Sorting on Modern Computers\"](https://www.cs.tcd.ie/publications/tech-reports/reports.05/TCD-CS-2005-57.pdf) written by Paul Biggar and David Gregg, where they describe and analyze elementary sorting algorithms in very nice detail (see chapter 4).   \n",
    "\n",
    "And for a quick reference, [this website](http://www.sorting-algorithms.com/bubble-sort) has a nice animation of this algorithm."
   ]
  },
  {
   "cell_type": "markdown",
   "metadata": {},
   "source": [
    "A long story short: The \"worst-case\" complexity of the Bubble sort algorithm (i.e., \"Big-O\")  \n",
    " $\\Rightarrow \\pmb O(n^2)$"
   ]
  },
  {
   "cell_type": "code",
   "execution_count": 2,
   "metadata": {
    "collapsed": false
   },
   "outputs": [
    {
     "name": "stdout",
     "output_type": "stream",
     "text": [
      "\n",
      "Python version  : 3.4.0\n",
      "compiler        : GCC 4.2.1 (Apple Inc. build 5577)\n",
      "\n",
      "system          : Darwin\n",
      "release         : 13.2.0\n",
      "machine         : x86_64\n",
      "processor       : i386\n",
      "CPU count       : 4\n",
      "interpreter     : 64bit\n",
      "\n",
      "\n",
      "\n"
     ]
    }
   ],
   "source": [
    "print_sysinfo()"
   ]
  },
  {
   "cell_type": "markdown",
   "metadata": {},
   "source": [
    "### Bubble sort implemented in (C)Python"
   ]
  },
  {
   "cell_type": "code",
   "execution_count": 3,
   "metadata": {
    "collapsed": false
   },
   "outputs": [],
   "source": [
    "def python_bubblesort(a_list):\n",
    "    \"\"\" Bubblesort in Python for list objects (sorts in place).\"\"\"\n",
    "    length = len(a_list)\n",
    "    for i in range(length):\n",
    "        for j in range(1, length):\n",
    "            if a_list[j] < a_list[j-1]:\n",
    "                a_list[j-1], a_list[j] = a_list[j], a_list[j-1]\n",
    "    return a_list"
   ]
  },
  {
   "cell_type": "markdown",
   "metadata": {},
   "source": [
    "<br>\n",
    "Below is a improved version that quits early if no further swap is needed."
   ]
  },
  {
   "cell_type": "code",
   "execution_count": 4,
   "metadata": {
    "collapsed": false
   },
   "outputs": [],
   "source": [
    "def python_bubblesort_improved(a_list):\n",
    "    \"\"\" Bubblesort in Python for list objects (sorts in place).\"\"\"\n",
    "    length = len(a_list)\n",
    "    swapped = 1\n",
    "    for i in range(length):\n",
    "        if swapped: \n",
    "            swapped = 0\n",
    "            for ele in range(length-i-1):\n",
    "                if a_list[ele] > a_list[ele + 1]:\n",
    "                    temp = a_list[ele + 1]\n",
    "                    a_list[ele + 1] = a_list[ele]\n",
    "                    a_list[ele] = temp\n",
    "                    swapped = 1\n",
    "    return a_list"
   ]
  },
  {
   "cell_type": "markdown",
   "metadata": {},
   "source": [
    "#### Verifying that all implementations work correctly"
   ]
  },
  {
   "cell_type": "code",
   "execution_count": 5,
   "metadata": {
    "collapsed": false
   },
   "outputs": [
    {
     "name": "stdout",
     "output_type": "stream",
     "text": [
      "Bubblesort works correctly\n"
     ]
    }
   ],
   "source": [
    "import random\n",
    "import copy\n",
    "random.seed(4354353)\n",
    "\n",
    "l = [random.randint(1,1000) for num in range(1, 1000)]\n",
    "l_sorted = sorted(l)\n",
    "for f in [python_bubblesort, python_bubblesort_improved]:\n",
    "    assert(l_sorted  == f(copy.copy(l)))\n",
    "print('Bubblesort works correctly')\n"
   ]
  },
  {
   "cell_type": "markdown",
   "metadata": {},
   "source": [
    "#### Performance comparison"
   ]
  },
  {
   "cell_type": "code",
   "execution_count": 6,
   "metadata": {
    "collapsed": false
   },
   "outputs": [
    {
     "name": "stdout",
     "output_type": "stream",
     "text": [
      "1000 loops, best of 3: 1.36 ms per loop\n",
      "100000 loops, best of 3: 17.9 µs per loop\n"
     ]
    }
   ],
   "source": [
    "# small list\n",
    "\n",
    "l_small = [random.randint(1,100) for num in range(1, 100)]\n",
    "l_small_cp = copy.copy(l_small)\n",
    "\n",
    "%timeit python_bubblesort(l_small)\n",
    "%timeit python_bubblesort_improved(l_small_cp)"
   ]
  },
  {
   "cell_type": "code",
   "execution_count": 7,
   "metadata": {
    "collapsed": false
   },
   "outputs": [
    {
     "name": "stdout",
     "output_type": "stream",
     "text": [
      "1 loops, best of 3: 15.6 s per loop\n",
      "1 loops, best of 3: 2.07 ms per loop\n"
     ]
    }
   ],
   "source": [
    "# larger list\n",
    "\n",
    "l_small = [random.randint(1,10000) for num in range(1, 10000)]\n",
    "l_small_cp = copy.copy(l_small)\n",
    "\n",
    "%timeit python_bubblesort(l_small)\n",
    "%timeit python_bubblesort_improved(l_small_cp)"
   ]
  }
 ],
 "metadata": {
  "kernelspec": {
   "display_name": "Python 2",
   "language": "python",
   "name": "python2"
  },
  "language_info": {
   "codemirror_mode": {
    "name": "ipython",
    "version": 2
   },
   "file_extension": ".py",
   "mimetype": "text/x-python",
   "name": "python",
   "nbconvert_exporter": "python",
   "pygments_lexer": "ipython2",
   "version": "2.7.10"
  }
 },
 "nbformat": 4,
 "nbformat_minor": 0
}
