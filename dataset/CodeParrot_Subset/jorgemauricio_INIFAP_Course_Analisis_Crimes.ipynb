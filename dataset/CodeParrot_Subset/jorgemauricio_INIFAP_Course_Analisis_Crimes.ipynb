{
 "cells": [
  {
   "cell_type": "markdown",
   "metadata": {},
   "source": [
    "# Crimes\n",
    "Para el siguiente ejercicio vamos a utilizar la base de datos de los crimenes en Chicago de 2001 a presente del siguiente [Link](https://data.cityofchicago.org/Public-Safety/Crimes-2001-to-present/ijzp-q8t2)"
   ]
  },
  {
   "cell_type": "code",
   "execution_count": 1,
   "metadata": {
    "collapsed": true
   },
   "outputs": [],
   "source": [
    "# librerias\n",
    "import pandas as pd\n",
    "import numpy as np\n",
    "import matplotlib.pyplot as plt\n",
    "import statsmodels.formula.api as sm\n",
    "import seaborn as sns\n",
    "%matplotlib inline\n",
    "plt.style.use('ggplot')"
   ]
  },
  {
   "cell_type": "code",
   "execution_count": 3,
   "metadata": {},
   "outputs": [],
   "source": [
    "data = pd.read_csv('../data/CrimesNoNA.csv')"
   ]
  },
  {
   "cell_type": "code",
   "execution_count": 4,
   "metadata": {},
   "outputs": [
    {
     "data": {
      "text/html": [
       "<div>\n",
       "<style>\n",
       "    .dataframe thead tr:only-child th {\n",
       "        text-align: right;\n",
       "    }\n",
       "\n",
       "    .dataframe thead th {\n",
       "        text-align: left;\n",
       "    }\n",
       "\n",
       "    .dataframe tbody tr th {\n",
       "        vertical-align: top;\n",
       "    }\n",
       "</style>\n",
       "<table border=\"1\" class=\"dataframe\">\n",
       "  <thead>\n",
       "    <tr style=\"text-align: right;\">\n",
       "      <th></th>\n",
       "      <th>Unnamed: 0</th>\n",
       "      <th>ID</th>\n",
       "      <th>Case Number</th>\n",
       "      <th>Date</th>\n",
       "      <th>Block</th>\n",
       "      <th>IUCR</th>\n",
       "      <th>Primary Type</th>\n",
       "      <th>Description</th>\n",
       "      <th>Location Description</th>\n",
       "      <th>Arrest</th>\n",
       "      <th>...</th>\n",
       "      <th>Ward</th>\n",
       "      <th>Community Area</th>\n",
       "      <th>FBI Code</th>\n",
       "      <th>X Coordinate</th>\n",
       "      <th>Y Coordinate</th>\n",
       "      <th>Year</th>\n",
       "      <th>Updated On</th>\n",
       "      <th>Latitude</th>\n",
       "      <th>Longitude</th>\n",
       "      <th>Location</th>\n",
       "    </tr>\n",
       "  </thead>\n",
       "  <tbody>\n",
       "    <tr>\n",
       "      <th>0</th>\n",
       "      <td>0</td>\n",
       "      <td>2753874</td>\n",
       "      <td>HJ394416</td>\n",
       "      <td>05/01/2003 12:00:00 PM</td>\n",
       "      <td>080XX S DREXEL AVE</td>\n",
       "      <td>0890</td>\n",
       "      <td>THEFT</td>\n",
       "      <td>FROM BUILDING</td>\n",
       "      <td>APARTMENT</td>\n",
       "      <td>False</td>\n",
       "      <td>...</td>\n",
       "      <td>8.0</td>\n",
       "      <td>44.0</td>\n",
       "      <td>06</td>\n",
       "      <td>1183627.0</td>\n",
       "      <td>1851969.0</td>\n",
       "      <td>2003</td>\n",
       "      <td>04/15/2016 08:55:02 AM</td>\n",
       "      <td>41.748989</td>\n",
       "      <td>-87.602691</td>\n",
       "      <td>(41.748988677, -87.602691353)</td>\n",
       "    </tr>\n",
       "    <tr>\n",
       "      <th>1</th>\n",
       "      <td>1</td>\n",
       "      <td>2753875</td>\n",
       "      <td>HJ376019</td>\n",
       "      <td>05/20/2003 04:55:00 PM</td>\n",
       "      <td>048XX S PRAIRIE AVE</td>\n",
       "      <td>1506</td>\n",
       "      <td>PROSTITUTION</td>\n",
       "      <td>SOLICIT ON PUBLIC WAY</td>\n",
       "      <td>STREET</td>\n",
       "      <td>True</td>\n",
       "      <td>...</td>\n",
       "      <td>3.0</td>\n",
       "      <td>38.0</td>\n",
       "      <td>16</td>\n",
       "      <td>1178856.0</td>\n",
       "      <td>1873092.0</td>\n",
       "      <td>2003</td>\n",
       "      <td>04/15/2016 08:55:02 AM</td>\n",
       "      <td>41.807062</td>\n",
       "      <td>-87.619531</td>\n",
       "      <td>(41.807062178, -87.619531469)</td>\n",
       "    </tr>\n",
       "    <tr>\n",
       "      <th>2</th>\n",
       "      <td>2</td>\n",
       "      <td>2753876</td>\n",
       "      <td>HJ384436</td>\n",
       "      <td>05/24/2003 03:25:00 PM</td>\n",
       "      <td>036XX S WENTWORTH AVE</td>\n",
       "      <td>1130</td>\n",
       "      <td>DECEPTIVE PRACTICE</td>\n",
       "      <td>FRAUD OR CONFIDENCE GAME</td>\n",
       "      <td>STREET</td>\n",
       "      <td>True</td>\n",
       "      <td>...</td>\n",
       "      <td>3.0</td>\n",
       "      <td>34.0</td>\n",
       "      <td>11</td>\n",
       "      <td>1175539.0</td>\n",
       "      <td>1881005.0</td>\n",
       "      <td>2003</td>\n",
       "      <td>04/15/2016 08:55:02 AM</td>\n",
       "      <td>41.828851</td>\n",
       "      <td>-87.631460</td>\n",
       "      <td>(41.828851109, -87.631460054)</td>\n",
       "    </tr>\n",
       "    <tr>\n",
       "      <th>3</th>\n",
       "      <td>3</td>\n",
       "      <td>2753877</td>\n",
       "      <td>HJ378088</td>\n",
       "      <td>05/21/2003 04:50:00 PM</td>\n",
       "      <td>122XX S HALSTED ST</td>\n",
       "      <td>1811</td>\n",
       "      <td>NARCOTICS</td>\n",
       "      <td>POSS: CANNABIS 30GMS OR LESS</td>\n",
       "      <td>SIDEWALK</td>\n",
       "      <td>True</td>\n",
       "      <td>...</td>\n",
       "      <td>34.0</td>\n",
       "      <td>53.0</td>\n",
       "      <td>18</td>\n",
       "      <td>1173211.0</td>\n",
       "      <td>1823609.0</td>\n",
       "      <td>2003</td>\n",
       "      <td>04/15/2016 08:55:02 AM</td>\n",
       "      <td>41.671401</td>\n",
       "      <td>-87.641694</td>\n",
       "      <td>(41.671401054, -87.641694057)</td>\n",
       "    </tr>\n",
       "    <tr>\n",
       "      <th>4</th>\n",
       "      <td>4</td>\n",
       "      <td>2753878</td>\n",
       "      <td>HJ377036</td>\n",
       "      <td>05/21/2003 09:01:47 AM</td>\n",
       "      <td>023XX N KARLOV AVE</td>\n",
       "      <td>2027</td>\n",
       "      <td>NARCOTICS</td>\n",
       "      <td>POSS: CRACK</td>\n",
       "      <td>STREET</td>\n",
       "      <td>True</td>\n",
       "      <td>...</td>\n",
       "      <td>31.0</td>\n",
       "      <td>20.0</td>\n",
       "      <td>18</td>\n",
       "      <td>1148661.0</td>\n",
       "      <td>1915297.0</td>\n",
       "      <td>2003</td>\n",
       "      <td>04/15/2016 08:55:02 AM</td>\n",
       "      <td>41.923513</td>\n",
       "      <td>-87.729189</td>\n",
       "      <td>(41.923512556, -87.729188885)</td>\n",
       "    </tr>\n",
       "  </tbody>\n",
       "</table>\n",
       "<p>5 rows × 23 columns</p>\n",
       "</div>"
      ],
      "text/plain": [
       "   Unnamed: 0       ID Case Number                    Date  \\\n",
       "0           0  2753874    HJ394416  05/01/2003 12:00:00 PM   \n",
       "1           1  2753875    HJ376019  05/20/2003 04:55:00 PM   \n",
       "2           2  2753876    HJ384436  05/24/2003 03:25:00 PM   \n",
       "3           3  2753877    HJ378088  05/21/2003 04:50:00 PM   \n",
       "4           4  2753878    HJ377036  05/21/2003 09:01:47 AM   \n",
       "\n",
       "                   Block  IUCR        Primary Type  \\\n",
       "0     080XX S DREXEL AVE  0890               THEFT   \n",
       "1    048XX S PRAIRIE AVE  1506        PROSTITUTION   \n",
       "2  036XX S WENTWORTH AVE  1130  DECEPTIVE PRACTICE   \n",
       "3     122XX S HALSTED ST  1811           NARCOTICS   \n",
       "4     023XX N KARLOV AVE  2027           NARCOTICS   \n",
       "\n",
       "                    Description Location Description  Arrest  \\\n",
       "0                 FROM BUILDING            APARTMENT   False   \n",
       "1         SOLICIT ON PUBLIC WAY               STREET    True   \n",
       "2      FRAUD OR CONFIDENCE GAME               STREET    True   \n",
       "3  POSS: CANNABIS 30GMS OR LESS             SIDEWALK    True   \n",
       "4                   POSS: CRACK               STREET    True   \n",
       "\n",
       "               ...                Ward  Community Area  FBI Code  \\\n",
       "0              ...                 8.0            44.0        06   \n",
       "1              ...                 3.0            38.0        16   \n",
       "2              ...                 3.0            34.0        11   \n",
       "3              ...                34.0            53.0        18   \n",
       "4              ...                31.0            20.0        18   \n",
       "\n",
       "   X Coordinate  Y Coordinate  Year              Updated On   Latitude  \\\n",
       "0     1183627.0     1851969.0  2003  04/15/2016 08:55:02 AM  41.748989   \n",
       "1     1178856.0     1873092.0  2003  04/15/2016 08:55:02 AM  41.807062   \n",
       "2     1175539.0     1881005.0  2003  04/15/2016 08:55:02 AM  41.828851   \n",
       "3     1173211.0     1823609.0  2003  04/15/2016 08:55:02 AM  41.671401   \n",
       "4     1148661.0     1915297.0  2003  04/15/2016 08:55:02 AM  41.923513   \n",
       "\n",
       "   Longitude                       Location  \n",
       "0 -87.602691  (41.748988677, -87.602691353)  \n",
       "1 -87.619531  (41.807062178, -87.619531469)  \n",
       "2 -87.631460  (41.828851109, -87.631460054)  \n",
       "3 -87.641694  (41.671401054, -87.641694057)  \n",
       "4 -87.729189  (41.923512556, -87.729188885)  \n",
       "\n",
       "[5 rows x 23 columns]"
      ]
     },
     "execution_count": 4,
     "metadata": {},
     "output_type": "execute_result"
    }
   ],
   "source": [
    "# checar la informacion del dataframe\n",
    "data.head()"
   ]
  },
  {
   "cell_type": "code",
   "execution_count": 5,
   "metadata": {},
   "outputs": [
    {
     "name": "stdout",
     "output_type": "stream",
     "text": [
      "<class 'pandas.core.frame.DataFrame'>\n",
      "RangeIndex: 5764119 entries, 0 to 5764118\n",
      "Data columns (total 23 columns):\n",
      "Unnamed: 0              int64\n",
      "ID                      int64\n",
      "Case Number             object\n",
      "Date                    object\n",
      "Block                   object\n",
      "IUCR                    object\n",
      "Primary Type            object\n",
      "Description             object\n",
      "Location Description    object\n",
      "Arrest                  bool\n",
      "Domestic                bool\n",
      "Beat                    int64\n",
      "District                float64\n",
      "Ward                    float64\n",
      "Community Area          float64\n",
      "FBI Code                object\n",
      "X Coordinate            float64\n",
      "Y Coordinate            float64\n",
      "Year                    int64\n",
      "Updated On              object\n",
      "Latitude                float64\n",
      "Longitude               float64\n",
      "Location                object\n",
      "dtypes: bool(2), float64(7), int64(4), object(10)\n",
      "memory usage: 934.5+ MB\n"
     ]
    }
   ],
   "source": [
    "# información del dataframe\n",
    "data.info()"
   ]
  },
  {
   "cell_type": "code",
   "execution_count": 6,
   "metadata": {},
   "outputs": [
    {
     "data": {
      "text/plain": [
       "Index(['Unnamed: 0', 'ID', 'Case Number', 'Date', 'Block', 'IUCR',\n",
       "       'Primary Type', 'Description', 'Location Description', 'Arrest',\n",
       "       'Domestic', 'Beat', 'District', 'Ward', 'Community Area', 'FBI Code',\n",
       "       'X Coordinate', 'Y Coordinate', 'Year', 'Updated On', 'Latitude',\n",
       "       'Longitude', 'Location'],\n",
       "      dtype='object')"
      ]
     },
     "execution_count": 6,
     "metadata": {},
     "output_type": "execute_result"
    }
   ],
   "source": [
    "# columnas que existen en el dataframe\n",
    "data.columns"
   ]
  },
  {
   "cell_type": "code",
   "execution_count": 7,
   "metadata": {},
   "outputs": [
    {
     "data": {
      "text/plain": [
       "Unnamed: 0              5764119\n",
       "ID                      5764119\n",
       "Case Number             5764119\n",
       "Date                    5764119\n",
       "Block                   5764119\n",
       "IUCR                    5764119\n",
       "Primary Type            5764119\n",
       "Description             5764119\n",
       "Location Description    5764119\n",
       "Arrest                  5764119\n",
       "Domestic                5764119\n",
       "Beat                    5764119\n",
       "District                5764119\n",
       "Ward                    5764119\n",
       "Community Area          5764119\n",
       "FBI Code                5764119\n",
       "X Coordinate            5764119\n",
       "Y Coordinate            5764119\n",
       "Year                    5764119\n",
       "Updated On              5764119\n",
       "Latitude                5764119\n",
       "Longitude               5764119\n",
       "Location                5764119\n",
       "dtype: int64"
      ]
     },
     "execution_count": 7,
     "metadata": {},
     "output_type": "execute_result"
    }
   ],
   "source": [
    "data.count()"
   ]
  },
  {
   "cell_type": "code",
   "execution_count": 8,
   "metadata": {
    "collapsed": true
   },
   "outputs": [],
   "source": [
    "# eliminar datos nulos\n",
    "data = data.dropna()"
   ]
  },
  {
   "cell_type": "code",
   "execution_count": 9,
   "metadata": {
    "collapsed": true
   },
   "outputs": [],
   "source": [
    "# data.to_csv('../data/CrimesNoNA.csv')"
   ]
  },
  {
   "cell_type": "code",
   "execution_count": 10,
   "metadata": {},
   "outputs": [
    {
     "data": {
      "text/html": [
       "<div>\n",
       "<style>\n",
       "    .dataframe thead tr:only-child th {\n",
       "        text-align: right;\n",
       "    }\n",
       "\n",
       "    .dataframe thead th {\n",
       "        text-align: left;\n",
       "    }\n",
       "\n",
       "    .dataframe tbody tr th {\n",
       "        vertical-align: top;\n",
       "    }\n",
       "</style>\n",
       "<table border=\"1\" class=\"dataframe\">\n",
       "  <thead>\n",
       "    <tr style=\"text-align: right;\">\n",
       "      <th></th>\n",
       "      <th>Unnamed: 0</th>\n",
       "      <th>ID</th>\n",
       "      <th>Beat</th>\n",
       "      <th>District</th>\n",
       "      <th>Ward</th>\n",
       "      <th>Community Area</th>\n",
       "      <th>X Coordinate</th>\n",
       "      <th>Y Coordinate</th>\n",
       "      <th>Year</th>\n",
       "      <th>Latitude</th>\n",
       "      <th>Longitude</th>\n",
       "    </tr>\n",
       "  </thead>\n",
       "  <tbody>\n",
       "    <tr>\n",
       "      <th>count</th>\n",
       "      <td>5.764119e+06</td>\n",
       "      <td>5.764119e+06</td>\n",
       "      <td>5.764119e+06</td>\n",
       "      <td>5.764119e+06</td>\n",
       "      <td>5.764119e+06</td>\n",
       "      <td>5.764119e+06</td>\n",
       "      <td>5.764119e+06</td>\n",
       "      <td>5.764119e+06</td>\n",
       "      <td>5.764119e+06</td>\n",
       "      <td>5.764119e+06</td>\n",
       "      <td>5.764119e+06</td>\n",
       "    </tr>\n",
       "    <tr>\n",
       "      <th>mean</th>\n",
       "      <td>2.985964e+06</td>\n",
       "      <td>6.427085e+06</td>\n",
       "      <td>1.190543e+03</td>\n",
       "      <td>1.129892e+01</td>\n",
       "      <td>2.262782e+01</td>\n",
       "      <td>3.765230e+01</td>\n",
       "      <td>1.164481e+06</td>\n",
       "      <td>1.885503e+06</td>\n",
       "      <td>2.008571e+03</td>\n",
       "      <td>4.184142e+01</td>\n",
       "      <td>-8.767194e+01</td>\n",
       "    </tr>\n",
       "    <tr>\n",
       "      <th>std</th>\n",
       "      <td>1.790435e+06</td>\n",
       "      <td>2.667375e+06</td>\n",
       "      <td>7.027939e+02</td>\n",
       "      <td>6.938395e+00</td>\n",
       "      <td>1.381158e+01</td>\n",
       "      <td>2.153224e+01</td>\n",
       "      <td>1.742568e+04</td>\n",
       "      <td>3.306369e+04</td>\n",
       "      <td>4.350682e+00</td>\n",
       "      <td>9.099525e-02</td>\n",
       "      <td>6.297949e-02</td>\n",
       "    </tr>\n",
       "    <tr>\n",
       "      <th>min</th>\n",
       "      <td>0.000000e+00</td>\n",
       "      <td>6.340000e+02</td>\n",
       "      <td>1.110000e+02</td>\n",
       "      <td>1.000000e+00</td>\n",
       "      <td>1.000000e+00</td>\n",
       "      <td>0.000000e+00</td>\n",
       "      <td>0.000000e+00</td>\n",
       "      <td>0.000000e+00</td>\n",
       "      <td>2.001000e+03</td>\n",
       "      <td>3.661945e+01</td>\n",
       "      <td>-9.168657e+01</td>\n",
       "    </tr>\n",
       "    <tr>\n",
       "      <th>25%</th>\n",
       "      <td>1.454616e+06</td>\n",
       "      <td>4.002952e+06</td>\n",
       "      <td>6.220000e+02</td>\n",
       "      <td>6.000000e+00</td>\n",
       "      <td>1.000000e+01</td>\n",
       "      <td>2.300000e+01</td>\n",
       "      <td>1.152873e+06</td>\n",
       "      <td>1.858937e+06</td>\n",
       "      <td>2.005000e+03</td>\n",
       "      <td>4.176835e+01</td>\n",
       "      <td>-8.771406e+01</td>\n",
       "    </tr>\n",
       "    <tr>\n",
       "      <th>50%</th>\n",
       "      <td>2.944914e+06</td>\n",
       "      <td>6.440010e+06</td>\n",
       "      <td>1.034000e+03</td>\n",
       "      <td>1.000000e+01</td>\n",
       "      <td>2.200000e+01</td>\n",
       "      <td>3.200000e+01</td>\n",
       "      <td>1.165933e+06</td>\n",
       "      <td>1.890186e+06</td>\n",
       "      <td>2.008000e+03</td>\n",
       "      <td>4.185440e+01</td>\n",
       "      <td>-8.766637e+01</td>\n",
       "    </tr>\n",
       "    <tr>\n",
       "      <th>75%</th>\n",
       "      <td>4.387150e+06</td>\n",
       "      <td>8.708174e+06</td>\n",
       "      <td>1.731000e+03</td>\n",
       "      <td>1.700000e+01</td>\n",
       "      <td>3.400000e+01</td>\n",
       "      <td>5.800000e+01</td>\n",
       "      <td>1.176352e+06</td>\n",
       "      <td>1.909179e+06</td>\n",
       "      <td>2.012000e+03</td>\n",
       "      <td>4.190659e+01</td>\n",
       "      <td>-8.762844e+01</td>\n",
       "    </tr>\n",
       "    <tr>\n",
       "      <th>max</th>\n",
       "      <td>6.458127e+06</td>\n",
       "      <td>1.112554e+07</td>\n",
       "      <td>2.535000e+03</td>\n",
       "      <td>3.100000e+01</td>\n",
       "      <td>5.000000e+01</td>\n",
       "      <td>7.700000e+01</td>\n",
       "      <td>1.205119e+06</td>\n",
       "      <td>1.951573e+06</td>\n",
       "      <td>2.017000e+03</td>\n",
       "      <td>4.202271e+01</td>\n",
       "      <td>-8.752453e+01</td>\n",
       "    </tr>\n",
       "  </tbody>\n",
       "</table>\n",
       "</div>"
      ],
      "text/plain": [
       "         Unnamed: 0            ID          Beat      District          Ward  \\\n",
       "count  5.764119e+06  5.764119e+06  5.764119e+06  5.764119e+06  5.764119e+06   \n",
       "mean   2.985964e+06  6.427085e+06  1.190543e+03  1.129892e+01  2.262782e+01   \n",
       "std    1.790435e+06  2.667375e+06  7.027939e+02  6.938395e+00  1.381158e+01   \n",
       "min    0.000000e+00  6.340000e+02  1.110000e+02  1.000000e+00  1.000000e+00   \n",
       "25%    1.454616e+06  4.002952e+06  6.220000e+02  6.000000e+00  1.000000e+01   \n",
       "50%    2.944914e+06  6.440010e+06  1.034000e+03  1.000000e+01  2.200000e+01   \n",
       "75%    4.387150e+06  8.708174e+06  1.731000e+03  1.700000e+01  3.400000e+01   \n",
       "max    6.458127e+06  1.112554e+07  2.535000e+03  3.100000e+01  5.000000e+01   \n",
       "\n",
       "       Community Area  X Coordinate  Y Coordinate          Year      Latitude  \\\n",
       "count    5.764119e+06  5.764119e+06  5.764119e+06  5.764119e+06  5.764119e+06   \n",
       "mean     3.765230e+01  1.164481e+06  1.885503e+06  2.008571e+03  4.184142e+01   \n",
       "std      2.153224e+01  1.742568e+04  3.306369e+04  4.350682e+00  9.099525e-02   \n",
       "min      0.000000e+00  0.000000e+00  0.000000e+00  2.001000e+03  3.661945e+01   \n",
       "25%      2.300000e+01  1.152873e+06  1.858937e+06  2.005000e+03  4.176835e+01   \n",
       "50%      3.200000e+01  1.165933e+06  1.890186e+06  2.008000e+03  4.185440e+01   \n",
       "75%      5.800000e+01  1.176352e+06  1.909179e+06  2.012000e+03  4.190659e+01   \n",
       "max      7.700000e+01  1.205119e+06  1.951573e+06  2.017000e+03  4.202271e+01   \n",
       "\n",
       "          Longitude  \n",
       "count  5.764119e+06  \n",
       "mean  -8.767194e+01  \n",
       "std    6.297949e-02  \n",
       "min   -9.168657e+01  \n",
       "25%   -8.771406e+01  \n",
       "50%   -8.766637e+01  \n",
       "75%   -8.762844e+01  \n",
       "max   -8.752453e+01  "
      ]
     },
     "execution_count": 10,
     "metadata": {},
     "output_type": "execute_result"
    }
   ],
   "source": [
    "data.describe()"
   ]
  },
  {
   "cell_type": "code",
   "execution_count": 11,
   "metadata": {},
   "outputs": [
    {
     "data": {
      "text/plain": [
       "Year\n",
       "2001      3850\n",
       "2002    345009\n",
       "2003    471992\n",
       "2004    467128\n",
       "2005    449870\n",
       "2006    445495\n",
       "2007    435527\n",
       "2008    419787\n",
       "2009    385828\n",
       "2010    368409\n",
       "2011    350470\n",
       "2012    334394\n",
       "2013    304243\n",
       "2014    269320\n",
       "2015    259583\n",
       "2016    250472\n",
       "2017    202742\n",
       "Name: Arrest, dtype: int64"
      ]
     },
     "execution_count": 11,
     "metadata": {},
     "output_type": "execute_result"
    }
   ],
   "source": [
    "data.groupby('Year').count()['Arrest']"
   ]
  },
  {
   "cell_type": "code",
   "execution_count": 12,
   "metadata": {},
   "outputs": [
    {
     "data": {
      "text/plain": [
       "<matplotlib.axes._subplots.AxesSubplot at 0x193b3a9e8>"
      ]
     },
     "execution_count": 12,
     "metadata": {},
     "output_type": "execute_result"
    },
    {
     "data": {
      "image/png": "[encoded data removed]",
      "text/plain": [
       "<matplotlib.figure.Figure at 0x1190f05f8>"
      ]
     },
     "metadata": {},
     "output_type": "display_data"
    }
   ],
   "source": [
    "data.groupby('Year').count()['Arrest'].plot.bar()"
   ]
  },
  {
   "cell_type": "code",
   "execution_count": 13,
   "metadata": {},
   "outputs": [
    {
     "data": {
      "text/html": [
       "<div>\n",
       "<style>\n",
       "    .dataframe thead tr:only-child th {\n",
       "        text-align: right;\n",
       "    }\n",
       "\n",
       "    .dataframe thead th {\n",
       "        text-align: left;\n",
       "    }\n",
       "\n",
       "    .dataframe tbody tr th {\n",
       "        vertical-align: top;\n",
       "    }\n",
       "</style>\n",
       "<table border=\"1\" class=\"dataframe\">\n",
       "  <thead>\n",
       "    <tr style=\"text-align: right;\">\n",
       "      <th></th>\n",
       "      <th>Unnamed: 0</th>\n",
       "      <th>ID</th>\n",
       "      <th>Case Number</th>\n",
       "      <th>Date</th>\n",
       "      <th>Block</th>\n",
       "      <th>IUCR</th>\n",
       "      <th>Primary Type</th>\n",
       "      <th>Description</th>\n",
       "      <th>Location Description</th>\n",
       "      <th>Arrest</th>\n",
       "      <th>...</th>\n",
       "      <th>Ward</th>\n",
       "      <th>Community Area</th>\n",
       "      <th>FBI Code</th>\n",
       "      <th>X Coordinate</th>\n",
       "      <th>Y Coordinate</th>\n",
       "      <th>Year</th>\n",
       "      <th>Updated On</th>\n",
       "      <th>Latitude</th>\n",
       "      <th>Longitude</th>\n",
       "      <th>Location</th>\n",
       "    </tr>\n",
       "  </thead>\n",
       "  <tbody>\n",
       "    <tr>\n",
       "      <th>0</th>\n",
       "      <td>0</td>\n",
       "      <td>2753874</td>\n",
       "      <td>HJ394416</td>\n",
       "      <td>05/01/2003 12:00:00 PM</td>\n",
       "      <td>080XX S DREXEL AVE</td>\n",
       "      <td>0890</td>\n",
       "      <td>THEFT</td>\n",
       "      <td>FROM BUILDING</td>\n",
       "      <td>APARTMENT</td>\n",
       "      <td>False</td>\n",
       "      <td>...</td>\n",
       "      <td>8.0</td>\n",
       "      <td>44.0</td>\n",
       "      <td>06</td>\n",
       "      <td>1183627.0</td>\n",
       "      <td>1851969.0</td>\n",
       "      <td>2003</td>\n",
       "      <td>04/15/2016 08:55:02 AM</td>\n",
       "      <td>41.748989</td>\n",
       "      <td>-87.602691</td>\n",
       "      <td>(41.748988677, -87.602691353)</td>\n",
       "    </tr>\n",
       "    <tr>\n",
       "      <th>1</th>\n",
       "      <td>1</td>\n",
       "      <td>2753875</td>\n",
       "      <td>HJ376019</td>\n",
       "      <td>05/20/2003 04:55:00 PM</td>\n",
       "      <td>048XX S PRAIRIE AVE</td>\n",
       "      <td>1506</td>\n",
       "      <td>PROSTITUTION</td>\n",
       "      <td>SOLICIT ON PUBLIC WAY</td>\n",
       "      <td>STREET</td>\n",
       "      <td>True</td>\n",
       "      <td>...</td>\n",
       "      <td>3.0</td>\n",
       "      <td>38.0</td>\n",
       "      <td>16</td>\n",
       "      <td>1178856.0</td>\n",
       "      <td>1873092.0</td>\n",
       "      <td>2003</td>\n",
       "      <td>04/15/2016 08:55:02 AM</td>\n",
       "      <td>41.807062</td>\n",
       "      <td>-87.619531</td>\n",
       "      <td>(41.807062178, -87.619531469)</td>\n",
       "    </tr>\n",
       "    <tr>\n",
       "      <th>2</th>\n",
       "      <td>2</td>\n",
       "      <td>2753876</td>\n",
       "      <td>HJ384436</td>\n",
       "      <td>05/24/2003 03:25:00 PM</td>\n",
       "      <td>036XX S WENTWORTH AVE</td>\n",
       "      <td>1130</td>\n",
       "      <td>DECEPTIVE PRACTICE</td>\n",
       "      <td>FRAUD OR CONFIDENCE GAME</td>\n",
       "      <td>STREET</td>\n",
       "      <td>True</td>\n",
       "      <td>...</td>\n",
       "      <td>3.0</td>\n",
       "      <td>34.0</td>\n",
       "      <td>11</td>\n",
       "      <td>1175539.0</td>\n",
       "      <td>1881005.0</td>\n",
       "      <td>2003</td>\n",
       "      <td>04/15/2016 08:55:02 AM</td>\n",
       "      <td>41.828851</td>\n",
       "      <td>-87.631460</td>\n",
       "      <td>(41.828851109, -87.631460054)</td>\n",
       "    </tr>\n",
       "    <tr>\n",
       "      <th>3</th>\n",
       "      <td>3</td>\n",
       "      <td>2753877</td>\n",
       "      <td>HJ378088</td>\n",
       "      <td>05/21/2003 04:50:00 PM</td>\n",
       "      <td>122XX S HALSTED ST</td>\n",
       "      <td>1811</td>\n",
       "      <td>NARCOTICS</td>\n",
       "      <td>POSS: CANNABIS 30GMS OR LESS</td>\n",
       "      <td>SIDEWALK</td>\n",
       "      <td>True</td>\n",
       "      <td>...</td>\n",
       "      <td>34.0</td>\n",
       "      <td>53.0</td>\n",
       "      <td>18</td>\n",
       "      <td>1173211.0</td>\n",
       "      <td>1823609.0</td>\n",
       "      <td>2003</td>\n",
       "      <td>04/15/2016 08:55:02 AM</td>\n",
       "      <td>41.671401</td>\n",
       "      <td>-87.641694</td>\n",
       "      <td>(41.671401054, -87.641694057)</td>\n",
       "    </tr>\n",
       "    <tr>\n",
       "      <th>4</th>\n",
       "      <td>4</td>\n",
       "      <td>2753878</td>\n",
       "      <td>HJ377036</td>\n",
       "      <td>05/21/2003 09:01:47 AM</td>\n",
       "      <td>023XX N KARLOV AVE</td>\n",
       "      <td>2027</td>\n",
       "      <td>NARCOTICS</td>\n",
       "      <td>POSS: CRACK</td>\n",
       "      <td>STREET</td>\n",
       "      <td>True</td>\n",
       "      <td>...</td>\n",
       "      <td>31.0</td>\n",
       "      <td>20.0</td>\n",
       "      <td>18</td>\n",
       "      <td>1148661.0</td>\n",
       "      <td>1915297.0</td>\n",
       "      <td>2003</td>\n",
       "      <td>04/15/2016 08:55:02 AM</td>\n",
       "      <td>41.923513</td>\n",
       "      <td>-87.729189</td>\n",
       "      <td>(41.923512556, -87.729188885)</td>\n",
       "    </tr>\n",
       "  </tbody>\n",
       "</table>\n",
       "<p>5 rows × 23 columns</p>\n",
       "</div>"
      ],
      "text/plain": [
       "   Unnamed: 0       ID Case Number                    Date  \\\n",
       "0           0  2753874    HJ394416  05/01/2003 12:00:00 PM   \n",
       "1           1  2753875    HJ376019  05/20/2003 04:55:00 PM   \n",
       "2           2  2753876    HJ384436  05/24/2003 03:25:00 PM   \n",
       "3           3  2753877    HJ378088  05/21/2003 04:50:00 PM   \n",
       "4           4  2753878    HJ377036  05/21/2003 09:01:47 AM   \n",
       "\n",
       "                   Block  IUCR        Primary Type  \\\n",
       "0     080XX S DREXEL AVE  0890               THEFT   \n",
       "1    048XX S PRAIRIE AVE  1506        PROSTITUTION   \n",
       "2  036XX S WENTWORTH AVE  1130  DECEPTIVE PRACTICE   \n",
       "3     122XX S HALSTED ST  1811           NARCOTICS   \n",
       "4     023XX N KARLOV AVE  2027           NARCOTICS   \n",
       "\n",
       "                    Description Location Description  Arrest  \\\n",
       "0                 FROM BUILDING            APARTMENT   False   \n",
       "1         SOLICIT ON PUBLIC WAY               STREET    True   \n",
       "2      FRAUD OR CONFIDENCE GAME               STREET    True   \n",
       "3  POSS: CANNABIS 30GMS OR LESS             SIDEWALK    True   \n",
       "4                   POSS: CRACK               STREET    True   \n",
       "\n",
       "               ...                Ward  Community Area  FBI Code  \\\n",
       "0              ...                 8.0            44.0        06   \n",
       "1              ...                 3.0            38.0        16   \n",
       "2              ...                 3.0            34.0        11   \n",
       "3              ...                34.0            53.0        18   \n",
       "4              ...                31.0            20.0        18   \n",
       "\n",
       "   X Coordinate  Y Coordinate  Year              Updated On   Latitude  \\\n",
       "0     1183627.0     1851969.0  2003  04/15/2016 08:55:02 AM  41.748989   \n",
       "1     1178856.0     1873092.0  2003  04/15/2016 08:55:02 AM  41.807062   \n",
       "2     1175539.0     1881005.0  2003  04/15/2016 08:55:02 AM  41.828851   \n",
       "3     1173211.0     1823609.0  2003  04/15/2016 08:55:02 AM  41.671401   \n",
       "4     1148661.0     1915297.0  2003  04/15/2016 08:55:02 AM  41.923513   \n",
       "\n",
       "   Longitude                       Location  \n",
       "0 -87.602691  (41.748988677, -87.602691353)  \n",
       "1 -87.619531  (41.807062178, -87.619531469)  \n",
       "2 -87.631460  (41.828851109, -87.631460054)  \n",
       "3 -87.641694  (41.671401054, -87.641694057)  \n",
       "4 -87.729189  (41.923512556, -87.729188885)  \n",
       "\n",
       "[5 rows x 23 columns]"
      ]
     },
     "execution_count": 13,
     "metadata": {},
     "output_type": "execute_result"
    }
   ],
   "source": [
    "data.head()"
   ]
  },
  {
   "cell_type": "code",
   "execution_count": 15,
   "metadata": {},
   "outputs": [
    {
     "data": {
      "text/plain": [
       "1613152"
      ]
     },
     "execution_count": 15,
     "metadata": {},
     "output_type": "execute_result"
    }
   ],
   "source": [
    "len(data[data['Arrest']==True])"
   ]
  },
  {
   "cell_type": "code",
   "execution_count": 16,
   "metadata": {},
   "outputs": [
    {
     "data": {
      "text/plain": [
       "4150967"
      ]
     },
     "execution_count": 16,
     "metadata": {},
     "output_type": "execute_result"
    }
   ],
   "source": [
    "len(data[data['Arrest']==False])"
   ]
  },
  {
   "cell_type": "code",
   "execution_count": 17,
   "metadata": {},
   "outputs": [
    {
     "data": {
      "text/plain": [
       "5764119"
      ]
     },
     "execution_count": 17,
     "metadata": {},
     "output_type": "execute_result"
    }
   ],
   "source": [
    "data['Arrest'].count()"
   ]
  },
  {
   "cell_type": "code",
   "execution_count": 18,
   "metadata": {},
   "outputs": [
    {
     "data": {
      "text/plain": [
       "<matplotlib.axes._subplots.AxesSubplot at 0x10c16e630>"
      ]
     },
     "execution_count": 18,
     "metadata": {},
     "output_type": "execute_result"
    },
    {
     "data": {
      "image/png": "[encoded data removed]",
      "text/plain": [
       "<matplotlib.figure.Figure at 0x113bfb518>"
      ]
     },
     "metadata": {},
     "output_type": "display_data"
    }
   ],
   "source": [
    "data.groupby(['Year','Arrest']).count()['ID'].plot.bar(figsize=(20,5))"
   ]
  },
  {
   "cell_type": "code",
   "execution_count": 19,
   "metadata": {},
   "outputs": [
    {
     "data": {
      "text/plain": [
       "Index(['Unnamed: 0', 'ID', 'Case Number', 'Date', 'Block', 'IUCR',\n",
       "       'Primary Type', 'Description', 'Location Description', 'Arrest',\n",
       "       'Domestic', 'Beat', 'District', 'Ward', 'Community Area', 'FBI Code',\n",
       "       'X Coordinate', 'Y Coordinate', 'Year', 'Updated On', 'Latitude',\n",
       "       'Longitude', 'Location'],\n",
       "      dtype='object')"
      ]
     },
     "execution_count": 19,
     "metadata": {},
     "output_type": "execute_result"
    }
   ],
   "source": [
    "data.columns"
   ]
  },
  {
   "cell_type": "code",
   "execution_count": 20,
   "metadata": {
    "collapsed": true
   },
   "outputs": [],
   "source": [
    "data2 = data.filter(items=['Year','Primary Type', 'Arrest','Location Description','District'])"
   ]
  },
  {
   "cell_type": "code",
   "execution_count": 21,
   "metadata": {},
   "outputs": [
    {
     "data": {
      "text/html": [
       "<div>\n",
       "<style>\n",
       "    .dataframe thead tr:only-child th {\n",
       "        text-align: right;\n",
       "    }\n",
       "\n",
       "    .dataframe thead th {\n",
       "        text-align: left;\n",
       "    }\n",
       "\n",
       "    .dataframe tbody tr th {\n",
       "        vertical-align: top;\n",
       "    }\n",
       "</style>\n",
       "<table border=\"1\" class=\"dataframe\">\n",
       "  <thead>\n",
       "    <tr style=\"text-align: right;\">\n",
       "      <th></th>\n",
       "      <th>Year</th>\n",
       "      <th>Primary Type</th>\n",
       "      <th>Arrest</th>\n",
       "      <th>Location Description</th>\n",
       "      <th>District</th>\n",
       "    </tr>\n",
       "  </thead>\n",
       "  <tbody>\n",
       "    <tr>\n",
       "      <th>0</th>\n",
       "      <td>2003</td>\n",
       "      <td>THEFT</td>\n",
       "      <td>False</td>\n",
       "      <td>APARTMENT</td>\n",
       "      <td>6.0</td>\n",
       "    </tr>\n",
       "    <tr>\n",
       "      <th>1</th>\n",
       "      <td>2003</td>\n",
       "      <td>PROSTITUTION</td>\n",
       "      <td>True</td>\n",
       "      <td>STREET</td>\n",
       "      <td>2.0</td>\n",
       "    </tr>\n",
       "    <tr>\n",
       "      <th>2</th>\n",
       "      <td>2003</td>\n",
       "      <td>DECEPTIVE PRACTICE</td>\n",
       "      <td>True</td>\n",
       "      <td>STREET</td>\n",
       "      <td>9.0</td>\n",
       "    </tr>\n",
       "    <tr>\n",
       "      <th>3</th>\n",
       "      <td>2003</td>\n",
       "      <td>NARCOTICS</td>\n",
       "      <td>True</td>\n",
       "      <td>SIDEWALK</td>\n",
       "      <td>5.0</td>\n",
       "    </tr>\n",
       "    <tr>\n",
       "      <th>4</th>\n",
       "      <td>2003</td>\n",
       "      <td>NARCOTICS</td>\n",
       "      <td>True</td>\n",
       "      <td>STREET</td>\n",
       "      <td>25.0</td>\n",
       "    </tr>\n",
       "  </tbody>\n",
       "</table>\n",
       "</div>"
      ],
      "text/plain": [
       "   Year        Primary Type  Arrest Location Description  District\n",
       "0  2003               THEFT   False            APARTMENT       6.0\n",
       "1  2003        PROSTITUTION    True               STREET       2.0\n",
       "2  2003  DECEPTIVE PRACTICE    True               STREET       9.0\n",
       "3  2003           NARCOTICS    True             SIDEWALK       5.0\n",
       "4  2003           NARCOTICS    True               STREET      25.0"
      ]
     },
     "execution_count": 21,
     "metadata": {},
     "output_type": "execute_result"
    }
   ],
   "source": [
    "data2.head()"
   ]
  },
  {
   "cell_type": "code",
   "execution_count": 22,
   "metadata": {
    "collapsed": true
   },
   "outputs": [],
   "source": [
    "for i in np.unique(data2['Primary Type']):\n",
    "    data2[i] = [1 if x==i else 0 for x in data2['Primary Type']]"
   ]
  },
  {
   "cell_type": "code",
   "execution_count": 23,
   "metadata": {},
   "outputs": [
    {
     "data": {
      "text/html": [
       "<div>\n",
       "<style>\n",
       "    .dataframe thead tr:only-child th {\n",
       "        text-align: right;\n",
       "    }\n",
       "\n",
       "    .dataframe thead th {\n",
       "        text-align: left;\n",
       "    }\n",
       "\n",
       "    .dataframe tbody tr th {\n",
       "        vertical-align: top;\n",
       "    }\n",
       "</style>\n",
       "<table border=\"1\" class=\"dataframe\">\n",
       "  <thead>\n",
       "    <tr style=\"text-align: right;\">\n",
       "      <th></th>\n",
       "      <th>Year</th>\n",
       "      <th>Primary Type</th>\n",
       "      <th>Arrest</th>\n",
       "      <th>Location Description</th>\n",
       "      <th>District</th>\n",
       "      <th>ARSON</th>\n",
       "      <th>ASSAULT</th>\n",
       "      <th>BATTERY</th>\n",
       "      <th>BURGLARY</th>\n",
       "      <th>CONCEALED CARRY LICENSE VIOLATION</th>\n",
       "      <th>...</th>\n",
       "      <th>OTHER OFFENSE</th>\n",
       "      <th>PROSTITUTION</th>\n",
       "      <th>PUBLIC INDECENCY</th>\n",
       "      <th>PUBLIC PEACE VIOLATION</th>\n",
       "      <th>RITUALISM</th>\n",
       "      <th>ROBBERY</th>\n",
       "      <th>SEX OFFENSE</th>\n",
       "      <th>STALKING</th>\n",
       "      <th>THEFT</th>\n",
       "      <th>WEAPONS VIOLATION</th>\n",
       "    </tr>\n",
       "  </thead>\n",
       "  <tbody>\n",
       "    <tr>\n",
       "      <th>0</th>\n",
       "      <td>2003</td>\n",
       "      <td>THEFT</td>\n",
       "      <td>False</td>\n",
       "      <td>APARTMENT</td>\n",
       "      <td>6.0</td>\n",
       "      <td>0</td>\n",
       "      <td>0</td>\n",
       "      <td>0</td>\n",
       "      <td>0</td>\n",
       "      <td>0</td>\n",
       "      <td>...</td>\n",
       "      <td>0</td>\n",
       "      <td>0</td>\n",
       "      <td>0</td>\n",
       "      <td>0</td>\n",
       "      <td>0</td>\n",
       "      <td>0</td>\n",
       "      <td>0</td>\n",
       "      <td>0</td>\n",
       "      <td>1</td>\n",
       "      <td>0</td>\n",
       "    </tr>\n",
       "    <tr>\n",
       "      <th>1</th>\n",
       "      <td>2003</td>\n",
       "      <td>PROSTITUTION</td>\n",
       "      <td>True</td>\n",
       "      <td>STREET</td>\n",
       "      <td>2.0</td>\n",
       "      <td>0</td>\n",
       "      <td>0</td>\n",
       "      <td>0</td>\n",
       "      <td>0</td>\n",
       "      <td>0</td>\n",
       "      <td>...</td>\n",
       "      <td>0</td>\n",
       "      <td>1</td>\n",
       "      <td>0</td>\n",
       "      <td>0</td>\n",
       "      <td>0</td>\n",
       "      <td>0</td>\n",
       "      <td>0</td>\n",
       "      <td>0</td>\n",
       "      <td>0</td>\n",
       "      <td>0</td>\n",
       "    </tr>\n",
       "    <tr>\n",
       "      <th>2</th>\n",
       "      <td>2003</td>\n",
       "      <td>DECEPTIVE PRACTICE</td>\n",
       "      <td>True</td>\n",
       "      <td>STREET</td>\n",
       "      <td>9.0</td>\n",
       "      <td>0</td>\n",
       "      <td>0</td>\n",
       "      <td>0</td>\n",
       "      <td>0</td>\n",
       "      <td>0</td>\n",
       "      <td>...</td>\n",
       "      <td>0</td>\n",
       "      <td>0</td>\n",
       "      <td>0</td>\n",
       "      <td>0</td>\n",
       "      <td>0</td>\n",
       "      <td>0</td>\n",
       "      <td>0</td>\n",
       "      <td>0</td>\n",
       "      <td>0</td>\n",
       "      <td>0</td>\n",
       "    </tr>\n",
       "    <tr>\n",
       "      <th>3</th>\n",
       "      <td>2003</td>\n",
       "      <td>NARCOTICS</td>\n",
       "      <td>True</td>\n",
       "      <td>SIDEWALK</td>\n",
       "      <td>5.0</td>\n",
       "      <td>0</td>\n",
       "      <td>0</td>\n",
       "      <td>0</td>\n",
       "      <td>0</td>\n",
       "      <td>0</td>\n",
       "      <td>...</td>\n",
       "      <td>0</td>\n",
       "      <td>0</td>\n",
       "      <td>0</td>\n",
       "      <td>0</td>\n",
       "      <td>0</td>\n",
       "      <td>0</td>\n",
       "      <td>0</td>\n",
       "      <td>0</td>\n",
       "      <td>0</td>\n",
       "      <td>0</td>\n",
       "    </tr>\n",
       "    <tr>\n",
       "      <th>4</th>\n",
       "      <td>2003</td>\n",
       "      <td>NARCOTICS</td>\n",
       "      <td>True</td>\n",
       "      <td>STREET</td>\n",
       "      <td>25.0</td>\n",
       "      <td>0</td>\n",
       "      <td>0</td>\n",
       "      <td>0</td>\n",
       "      <td>0</td>\n",
       "      <td>0</td>\n",
       "      <td>...</td>\n",
       "      <td>0</td>\n",
       "      <td>0</td>\n",
       "      <td>0</td>\n",
       "      <td>0</td>\n",
       "      <td>0</td>\n",
       "      <td>0</td>\n",
       "      <td>0</td>\n",
       "      <td>0</td>\n",
       "      <td>0</td>\n",
       "      <td>0</td>\n",
       "    </tr>\n",
       "  </tbody>\n",
       "</table>\n",
       "<p>5 rows × 39 columns</p>\n",
       "</div>"
      ],
      "text/plain": [
       "   Year        Primary Type  Arrest Location Description  District  ARSON  \\\n",
       "0  2003               THEFT   False            APARTMENT       6.0      0   \n",
       "1  2003        PROSTITUTION    True               STREET       2.0      0   \n",
       "2  2003  DECEPTIVE PRACTICE    True               STREET       9.0      0   \n",
       "3  2003           NARCOTICS    True             SIDEWALK       5.0      0   \n",
       "4  2003           NARCOTICS    True               STREET      25.0      0   \n",
       "\n",
       "   ASSAULT  BATTERY  BURGLARY  CONCEALED CARRY LICENSE VIOLATION  \\\n",
       "0        0        0         0                                  0   \n",
       "1        0        0         0                                  0   \n",
       "2        0        0         0                                  0   \n",
       "3        0        0         0                                  0   \n",
       "4        0        0         0                                  0   \n",
       "\n",
       "         ...          OTHER OFFENSE  PROSTITUTION  PUBLIC INDECENCY  \\\n",
       "0        ...                      0             0                 0   \n",
       "1        ...                      0             1                 0   \n",
       "2        ...                      0             0                 0   \n",
       "3        ...                      0             0                 0   \n",
       "4        ...                      0             0                 0   \n",
       "\n",
       "   PUBLIC PEACE VIOLATION  RITUALISM  ROBBERY  SEX OFFENSE  STALKING  THEFT  \\\n",
       "0                       0          0        0            0         0      1   \n",
       "1                       0          0        0            0         0      0   \n",
       "2                       0          0        0            0         0      0   \n",
       "3                       0          0        0            0         0      0   \n",
       "4                       0          0        0            0         0      0   \n",
       "\n",
       "   WEAPONS VIOLATION  \n",
       "0                  0  \n",
       "1                  0  \n",
       "2                  0  \n",
       "3                  0  \n",
       "4                  0  \n",
       "\n",
       "[5 rows x 39 columns]"
      ]
     },
     "execution_count": 23,
     "metadata": {},
     "output_type": "execute_result"
    }
   ],
   "source": [
    "data2.head()"
   ]
  },
  {
   "cell_type": "code",
   "execution_count": 24,
   "metadata": {},
   "outputs": [
    {
     "data": {
      "text/plain": [
       "<matplotlib.axes._subplots.AxesSubplot at 0x115957160>"
      ]
     },
     "execution_count": 24,
     "metadata": {},
     "output_type": "execute_result"
    },
    {
     "data": {
      "image/png": "[encoded data removed]",
      "text/plain": [
       "<matplotlib.figure.Figure at 0x115989470>"
      ]
     },
     "metadata": {},
     "output_type": "display_data"
    }
   ],
   "source": [
    "data2.groupby('Year').sum()[['PROSTITUTION','BATTERY']].plot.bar()"
   ]
  },
  {
   "cell_type": "code",
   "execution_count": 26,
   "metadata": {},
   "outputs": [
    {
     "data": {
      "text/plain": [
       "Index(['Year', 'Primary Type', 'Arrest', 'Location Description', 'District',\n",
       "       'ARSON', 'ASSAULT', 'BATTERY', 'BURGLARY',\n",
       "       'CONCEALED CARRY LICENSE VIOLATION', 'CRIM SEXUAL ASSAULT',\n",
       "       'CRIMINAL DAMAGE', 'CRIMINAL TRESPASS', 'DECEPTIVE PRACTICE',\n",
       "       'GAMBLING', 'HOMICIDE', 'HUMAN TRAFFICKING',\n",
       "       'INTERFERENCE WITH PUBLIC OFFICER', 'INTIMIDATION', 'KIDNAPPING',\n",
       "       'LIQUOR LAW VIOLATION', 'MOTOR VEHICLE THEFT', 'NARCOTICS',\n",
       "       'NON - CRIMINAL', 'NON-CRIMINAL', 'NON-CRIMINAL (SUBJECT SPECIFIED)',\n",
       "       'OBSCENITY', 'OFFENSE INVOLVING CHILDREN', 'OTHER NARCOTIC VIOLATION',\n",
       "       'OTHER OFFENSE', 'PROSTITUTION', 'PUBLIC INDECENCY',\n",
       "       'PUBLIC PEACE VIOLATION', 'RITUALISM', 'ROBBERY', 'SEX OFFENSE',\n",
       "       'STALKING', 'THEFT', 'WEAPONS VIOLATION'],\n",
       "      dtype='object')"
      ]
     },
     "execution_count": 26,
     "metadata": {},
     "output_type": "execute_result"
    }
   ],
   "source": [
    "data2.columns"
   ]
  },
  {
   "cell_type": "code",
   "execution_count": 27,
   "metadata": {},
   "outputs": [
    {
     "data": {
      "text/plain": [
       "<matplotlib.axes._subplots.AxesSubplot at 0x11a246320>"
      ]
     },
     "execution_count": 27,
     "metadata": {},
     "output_type": "execute_result"
    },
    {
     "data": {
      "image/png": "[encoded data removed]",
      "text/plain": [
       "<matplotlib.figure.Figure at 0x11a2501d0>"
      ]
     },
     "metadata": {},
     "output_type": "display_data"
    }
   ],
   "source": [
    "data2.groupby('Year').sum()[['PROSTITUTION','CRIM SEXUAL ASSAULT']].plot.bar()"
   ]
  },
  {
   "cell_type": "code",
   "execution_count": null,
   "metadata": {
    "collapsed": true
   },
   "outputs": [],
   "source": []
  }
 ],
 "metadata": {
  "kernelspec": {
   "display_name": "Python 3",
   "language": "python",
   "name": "python3"
  },
  "language_info": {
   "codemirror_mode": {
    "name": "ipython",
    "version": 3
   },
   "file_extension": ".py",
   "mimetype": "text/x-python",
   "name": "python",
   "nbconvert_exporter": "python",
   "pygments_lexer": "ipython3",
   "version": "3.6.2"
  }
 },
 "nbformat": 4,
 "nbformat_minor": 2
}
