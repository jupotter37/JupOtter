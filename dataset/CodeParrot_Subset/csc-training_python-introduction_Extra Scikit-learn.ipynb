{
 "cells": [
  {
   "cell_type": "markdown",
   "metadata": {},
   "source": [
    "# Classification with Scikit-learn\n",
    "\n",
    "First we use pandas to read in the csv file and separate the Y (target class, final column in CSV) from the X, the predicting values."
   ]
  },
  {
   "cell_type": "code",
   "execution_count": null,
   "metadata": {
    "collapsed": false
   },
   "outputs": [],
   "source": [
    "import pandas as pd\n",
    "\n",
    "data = pd.read_csv(\"../data/iris.data\")\n",
    "\n",
    "# convert to NumPy arrays because they are the easiest to handle in sklearn\n",
    "variables = data.drop([\"class\"], axis=1).as_matrix()\n",
    "classes = data[[\"class\"]].as_matrix().reshape(-1)"
   ]
  },
  {
   "cell_type": "code",
   "execution_count": null,
   "metadata": {
    "collapsed": false
   },
   "outputs": [],
   "source": [
    "# import cross-validation scorer and KNeighborsClassifier\n",
    "from sklearn.model_selection import train_test_split\n",
    "from sklearn.neighbors import KNeighborsClassifier\n",
    "\n",
    "train_X, test_X, train_Y, test_Y = train_test_split(variables, classes)\n",
    "\n",
    "# initialize classifier object\n",
    "classifier = KNeighborsClassifier()\n",
    "\n",
    "# fit the object using training data and sample labels\n",
    "classifier.fit(train_X, train_Y)\n",
    "\n",
    "# evaluate the results for held-out test sample\n",
    "classifier.score(test_X, test_Y)\n",
    "# value is the mean accuracy "
   ]
  },
  {
   "cell_type": "code",
   "execution_count": null,
   "metadata": {
    "collapsed": false
   },
   "outputs": [],
   "source": [
    "# if we wanted to predict values for unseen data, we would use the predict()-method\n",
    "\n",
    "classifier.predict(test_X) # note no known Y-values passed"
   ]
  },
  {
   "cell_type": "markdown",
   "metadata": {},
   "source": [
    "## Exercise\n",
    "\n",
    "* Import the classifier object ``sklearn.svm.SVC```\n",
    "* initialize it\n",
    "* fit it with the training data (no need to split a second time)\n",
    "* evaluate the quality of the created classifier using ``score()``"
   ]
  },
  {
   "cell_type": "code",
   "execution_count": null,
   "metadata": {
    "collapsed": true
   },
   "outputs": [],
   "source": []
  },
  {
   "cell_type": "markdown",
   "metadata": {},
   "source": [
    "# Pipelining and cross-validation\n",
    "\n",
    "It's common to want  to preprocess data somehow or in general have several steps. This can be easily done with the Pipeline class. \n",
    "\n",
    "There are typically parameters involved and you might want to select the best possible parameter."
   ]
  },
  {
   "cell_type": "code",
   "execution_count": null,
   "metadata": {
    "collapsed": false
   },
   "outputs": [],
   "source": [
    "from sklearn.decomposition import PCA # pca is a subspace method that projects the data into a lower-dimensional space\n",
    "\n",
    "from sklearn.model_selection import GridSearchCV\n",
    "from sklearn.neighbors import KNeighborsClassifier\n",
    "\n",
    "\n",
    "pca = PCA(n_components=2)\n",
    "knn = KNeighborsClassifier(n_neighbors=3)\n",
    "\n",
    "from sklearn.pipeline import Pipeline\n",
    "\n",
    "pipeline = Pipeline([(\"pca\", pca), (\"kneighbors\", knn)])\n",
    "\n",
    "parameters_grid = dict(\n",
    "    pca__n_components=[1,2,3,4],\n",
    "    kneighbors__n_neighbors=[1,2,3,4,5,6]\n",
    "    )\n",
    "grid_search = GridSearchCV(pipeline, parameters_grid)\n",
    "grid_search.fit(train_X, train_Y)\n",
    "grid_search.best_estimator_"
   ]
  },
  {
   "cell_type": "code",
   "execution_count": null,
   "metadata": {
    "collapsed": false
   },
   "outputs": [],
   "source": [
    "# you can now test agains the held out part\n",
    "grid_search.best_estimator_.score(test_X, test_Y)"
   ]
  },
  {
   "cell_type": "markdown",
   "metadata": {},
   "source": [
    "## Exercise\n",
    "\n",
    "There is another dataset, \"breast-cancer-wisconsin.data\". For a description see [here] (https://archive.ics.uci.edu/ml/machine-learning-databases/breast-cancer-wisconsin/) . \n",
    "\n",
    "It contains samples with patient ID (that you should remove), measurements and as last the doctors judgment of the biopsy: malignant or benign.\n",
    "\n",
    "Read in the file and create a classifier.\n",
    "\n",
    "You can alternately just split the input and use some classifier or do a grid cross-validation over a larger space of potential parameters.\n",
    "\n"
   ]
  },
  {
   "cell_type": "code",
   "execution_count": null,
   "metadata": {
    "collapsed": true
   },
   "outputs": [],
   "source": []
  }
 ],
 "metadata": {
  "kernelspec": {
   "display_name": "Python 3",
   "language": "python",
   "name": "python3"
  },
  "language_info": {
   "codemirror_mode": {
    "name": "ipython",
    "version": 3
   },
   "file_extension": ".py",
   "mimetype": "text/x-python",
   "name": "python",
   "nbconvert_exporter": "python",
   "pygments_lexer": "ipython3",
   "version": "3.5.2"
  }
 },
 "nbformat": 4,
 "nbformat_minor": 2
}
