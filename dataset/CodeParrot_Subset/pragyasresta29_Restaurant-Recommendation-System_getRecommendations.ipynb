{
 "cells": [
  {
   "cell_type": "code",
   "execution_count": 1,
   "metadata": {
    "collapsed": true
   },
   "outputs": [],
   "source": [
    "import pickle"
   ]
  },
  {
   "cell_type": "code",
   "execution_count": 2,
   "metadata": {
    "collapsed": true
   },
   "outputs": [],
   "source": [
    "def load_obj(name ):\n",
    "    with open( name + '.pkl', 'rb') as f:\n",
    "        return pickle.load(f)"
   ]
  },
  {
   "cell_type": "code",
   "execution_count": 3,
   "metadata": {
    "collapsed": true
   },
   "outputs": [],
   "source": [
    "reviews = load_obj('reviews')"
   ]
  },
  {
   "cell_type": "code",
   "execution_count": 4,
   "metadata": {
    "collapsed": true
   },
   "outputs": [],
   "source": [
    "restaurants = load_obj('restaurants')"
   ]
  },
  {
   "cell_type": "code",
   "execution_count": 10,
   "metadata": {
    "collapsed": true
   },
   "outputs": [],
   "source": [
    "def loadDataset(reviews, restaurants):\n",
    "    restaurant={}\n",
    "    for data in restaurants:\n",
    "        res_id=data['business_id']\n",
    "        name=data['name']\n",
    "        restaurant[res_id]=name\n",
    "    prefs={}\n",
    "    count=0\n",
    "    for data in reviews:\n",
    "        user_id=data['user_id']\n",
    "        res_id=data['restaurant_id']\n",
    "        rating=data['rating']\n",
    "        prefs.setdefault(user_id,{})\n",
    "        prefs[user_id][restaurant[res_id]]=float(rating)\n",
    "    return prefs "
   ]
  },
  {
   "cell_type": "code",
   "execution_count": 11,
   "metadata": {
    "collapsed": false
   },
   "outputs": [],
   "source": [
    "from math import sqrt\n",
    "# Returns the Pearson correlation coefficient for p1 and p2\n",
    "def sim_pearson(prefs,p1,p2):\n",
    "  # Get the list of mutually rated items\n",
    "  si={}\n",
    "  for item in prefs[p1]:\n",
    "    if item in prefs[p2]: si[item]=1\n",
    "  # Find the number of elements\n",
    "  n=len(si)\n",
    "  # if they are no ratings in common, return 0\n",
    "  if n==0: return 0\n",
    "  # Add up all the preferences\n",
    "  sum1=sum([prefs[p1][it] for it in si])\n",
    "  sum2=sum([prefs[p2][it] for it in si])\n",
    "  # Sum up the squares\n",
    "  sum1Sq=sum([pow(prefs[p1][it],2) for it in si])\n",
    "  sum2Sq=sum([pow(prefs[p2][it],2) for it in si])\n",
    "  # Sum up the products\n",
    "  pSum=sum([prefs[p1][it]*prefs[p2][it] for it in si])\n",
    "  # Calculate Pearson score\n",
    "  num=pSum-(sum1*sum2/n)\n",
    "  den=sqrt((sum1Sq-pow(sum1,2)/n)*(sum2Sq-pow(sum2,2)/n))\n",
    "  if den==0: return 0\n",
    "  r=num/den\n",
    "  return r"
   ]
  },
  {
   "cell_type": "code",
   "execution_count": 12,
   "metadata": {
    "collapsed": true
   },
   "outputs": [],
   "source": [
    "# Gets recommendations for a person by using a weighted average\n",
    "# of every other user's rankings\n",
    "def getRecommendations(prefs,person,similarity=sim_pearson):\n",
    "  totals={}\n",
    "  simSums={}\n",
    "  for other in prefs:\n",
    "    # don't compare me to myself\n",
    "    if other==person: continue\n",
    "    sim=similarity(prefs,person,other)\n",
    "    # ignore scores of zero or lower\n",
    "    if sim<=0: continue\n",
    "    for item in prefs[other]:\n",
    "      # only score movies I haven't seen yet\n",
    "      if item not in prefs[person] or prefs[person][item]==0:\n",
    "        # Similarity * Score\n",
    "        totals.setdefault(item,0)\n",
    "        totals[item]+=prefs[other][item]*sim\n",
    "        # Sum of similarities\n",
    "        simSums.setdefault(item,0)\n",
    "        simSums[item]+=sim\n",
    "  # Create the normalized list\n",
    "  rankings=[(total/simSums[item],item) for item,total in totals.items( )]\n",
    "  # Return the sorted list\n",
    "  rankings.sort( )\n",
    "  rankings.reverse( )\n",
    "  return rankings"
   ]
  },
  {
   "cell_type": "code",
   "execution_count": 16,
   "metadata": {
    "collapsed": true
   },
   "outputs": [],
   "source": [
    "prefs=loadDataset(reviews,restaurants)"
   ]
  },
  {
   "cell_type": "code",
   "execution_count": 17,
   "metadata": {
    "collapsed": true
   },
   "outputs": [],
   "source": [
    "rec=getRecommendations(prefs, 'rLtl8ZkDX5vH5nAx9C3q5Q')"
   ]
  },
  {
   "cell_type": "code",
   "execution_count": 19,
   "metadata": {
    "collapsed": false
   },
   "outputs": [
    {
     "data": {
      "text/plain": [
       "[(5.000000000000001, 'Paprika Mediterranean Experience'),\n",
       " (5.000000000000001, 'New India Cuisine'),\n",
       " (5.000000000000001, \"King Solomon's Pizza\"),\n",
       " (5.000000000000001, \"Chi Chi's Tacos\"),\n",
       " (5.0, \"Wong's Chinese Dining\"),\n",
       " (5.0, 'Wild Horse West'),\n",
       " (5.0, 'Waters Edge Restaurant'),\n",
       " (5.0, \"Vito & Nick's Ii\"),\n",
       " (5.0, 'Venice Pizza'),\n",
       " (5.0, \"Vaquero's\"),\n",
       " (5.0, 'Uno Chicago Grill'),\n",
       " (5.0, 'US Pizza'),\n",
       " (5.0, \"Tom's BBQ\"),\n",
       " (5.0, \"Togo's Eatery\"),\n",
       " (5.0, 'Thirsty Camel @ The Phoenician')]"
      ]
     },
     "execution_count": 19,
     "metadata": {},
     "output_type": "execute_result"
    }
   ],
   "source": [
    "rec[:15]"
   ]
  },
  {
   "cell_type": "code",
   "execution_count": 20,
   "metadata": {
    "collapsed": false
   },
   "outputs": [
    {
     "data": {
      "text/plain": [
       "2410"
      ]
     },
     "execution_count": 20,
     "metadata": {},
     "output_type": "execute_result"
    }
   ],
   "source": [
    "len(rec)"
   ]
  },
  {
   "cell_type": "code",
   "execution_count": null,
   "metadata": {
    "collapsed": true
   },
   "outputs": [],
   "source": []
  },
  {
   "cell_type": "code",
   "execution_count": 17,
   "metadata": {
    "collapsed": false
   },
   "outputs": [],
   "source": [
    "recommendations={}\n",
    "data=[]\n",
    "for i in rec:\n",
    "    list={}\n",
    "    list['sim_score']=i[0]\n",
    "    list['id']=i[1]\n",
    "    data.append(list)\n",
    "recommendations['recommendations']=data"
   ]
  },
  {
   "cell_type": "code",
   "execution_count": 18,
   "metadata": {
    "collapsed": false
   },
   "outputs": [
    {
     "data": {
      "text/plain": [
       "{'id': 'aC9NkbGoMOHiN4ABxEhPBg', 'sim_score': 5.000000000000001}"
      ]
     },
     "execution_count": 18,
     "metadata": {},
     "output_type": "execute_result"
    }
   ],
   "source": [
    "recommendations['recommendations'][0]"
   ]
  },
  {
   "cell_type": "code",
   "execution_count": 19,
   "metadata": {
    "collapsed": true
   },
   "outputs": [],
   "source": [
    "import json"
   ]
  },
  {
   "cell_type": "code",
   "execution_count": 21,
   "metadata": {
    "collapsed": true
   },
   "outputs": [],
   "source": [
    "with open('userrec.json', 'w') as userrec:\n",
    "   json.dump(recommendations,userrec)"
   ]
  },
  {
   "cell_type": "code",
   "execution_count": 39,
   "metadata": {
    "collapsed": true
   },
   "outputs": [],
   "source": [
    "newrec=''"
   ]
  },
  {
   "cell_type": "code",
   "execution_count": 40,
   "metadata": {
    "collapsed": true
   },
   "outputs": [],
   "source": [
    "jsonrec= open('userrec.json')"
   ]
  },
  {
   "cell_type": "code",
   "execution_count": 41,
   "metadata": {
    "collapsed": false
   },
   "outputs": [],
   "source": [
    "for line in jsonrec:\n",
    "    newrec= line"
   ]
  },
  {
   "cell_type": "code",
   "execution_count": 42,
   "metadata": {
    "collapsed": false
   },
   "outputs": [],
   "source": [
    "testrec=json.loads(newrec)"
   ]
  },
  {
   "cell_type": "code",
   "execution_count": 44,
   "metadata": {
    "collapsed": false
   },
   "outputs": [
    {
     "data": {
      "text/plain": [
       "[[5.000000000000001, 'Szechuan Cuisine'],\n",
       " [5.000000000000001, 'Paprika Mediterranean Experience'],\n",
       " [5.000000000000001, 'New India Cuisine'],\n",
       " [5.000000000000001, \"King Solomon's Pizza\"],\n",
       " [5.000000000000001, \"Chi Chi's Tacos\"],\n",
       " [5.0, \"Wong's Chinese Dining\"],\n",
       " [5.0, 'Wild Horse West'],\n",
       " [5.0, 'Waters Edge Restaurant'],\n",
       " [5.0, \"Vito & Nick's Ii\"],\n",
       " [5.0, 'Venice Pizza'],\n",
       " [5.0, \"Vaquero's\"],\n",
       " [5.0, 'Uno Chicago Grill'],\n",
       " [5.0, 'US Pizza'],\n",
       " [5.0, \"Tom's BBQ\"],\n",
       " [5.0, \"Togo's Eatery\"]]"
      ]
     },
     "execution_count": 44,
     "metadata": {},
     "output_type": "execute_result"
    }
   ],
   "source": [
    "testrec[:15]"
   ]
  },
  {
   "cell_type": "code",
   "execution_count": null,
   "metadata": {
    "collapsed": true
   },
   "outputs": [],
   "source": []
  },
  {
   "cell_type": "code",
   "execution_count": null,
   "metadata": {
    "collapsed": true
   },
   "outputs": [],
   "source": []
  }
 ],
 "metadata": {
  "kernelspec": {
   "display_name": "Python [Root]",
   "language": "python",
   "name": "Python [Root]"
  },
  "language_info": {
   "codemirror_mode": {
    "name": "ipython",
    "version": 3
   },
   "file_extension": ".py",
   "mimetype": "text/x-python",
   "name": "python",
   "nbconvert_exporter": "python",
   "pygments_lexer": "ipython3",
   "version": "3.5.2"
  }
 },
 "nbformat": 4,
 "nbformat_minor": 0
}
