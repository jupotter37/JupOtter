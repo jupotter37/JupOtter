{
 "cells": [
  {
   "cell_type": "code",
   "execution_count": 1,
   "metadata": {
    "collapsed": false
   },
   "outputs": [
    {
     "name": "stdout",
     "output_type": "stream",
     "text": [
      "Populating the interactive namespace from numpy and matplotlib\n"
     ]
    }
   ],
   "source": [
    "import numpy\n",
    "from galpy import potential\n",
    "from galpy.orbit import Orbit\n",
    "from galpy.util import bovy_coords\n",
    "import mwstreams.GD1\n",
    "%pylab inline"
   ]
  },
  {
   "cell_type": "markdown",
   "metadata": {},
   "source": [
    "# Figure 13 of Koposov et al. (2013)?!?"
   ]
  },
  {
   "cell_type": "markdown",
   "metadata": {},
   "source": [
    "Let's put the initial condition in a proper Galactocentric coordinate frame..."
   ]
  },
  {
   "cell_type": "code",
   "execution_count": 2,
   "metadata": {
    "collapsed": false
   },
   "outputs": [],
   "source": [
    "X0= [3.41,13.00,9.58]\n",
    "Xd0= [200.4,-162.6,13.9]"
   ]
  },
  {
   "cell_type": "code",
   "execution_count": 3,
   "metadata": {
    "collapsed": false
   },
   "outputs": [],
   "source": [
    "R,phi,Z= bovy_coords.rect_to_cyl(X0[0],X0[1],X0[2])\n",
    "vR,vT,vz= bovy_coords.rect_to_cyl_vec(Xd0[0],Xd0[1],Xd0[2],R,phi,Z,cyl=True)"
   ]
  },
  {
   "cell_type": "code",
   "execution_count": 4,
   "metadata": {
    "collapsed": true
   },
   "outputs": [],
   "source": [
    "ro= 8.5\n",
    "vo= 220.\n",
    "obs= [ro,0.,0.]"
   ]
  },
  {
   "cell_type": "code",
   "execution_count": 5,
   "metadata": {
    "collapsed": false
   },
   "outputs": [
    {
     "name": "stdout",
     "output_type": "stream",
     "text": [
      "galpyWarning: Using C implementation to integrate orbits\n"
     ]
    }
   ],
   "source": [
    "o= Orbit([R/ro,vR/vo,vT/vo,Z/ro,vz/vo,phi])\n",
    "ts= numpy.linspace(0.,3.,1001)\n",
    "lp= potential.LogarithmicHaloPotential(normalize=1.,q=0.9)\n",
    "o.integrate(ts,lp)"
   ]
  },
  {
   "cell_type": "code",
   "execution_count": 6,
   "metadata": {
    "collapsed": false
   },
   "outputs": [
    {
     "data": {
      "text/plain": [
       "<matplotlib.text.Text at 0x10e764cd0>"
      ]
     },
     "execution_count": 6,
     "metadata": {},
     "output_type": "execute_result"
    },
    {
     "data": {
      "image/png": "[encoded data removed]",
      "text/plain": [
       "<matplotlib.figure.Figure at 0x10e7122d0>"
      ]
     },
     "metadata": {},
     "output_type": "display_data"
    }
   ],
   "source": [
    "figsize(4.5,5)\n",
    "phi12= mwstreams.GD1.lb_to_phi12(o.ll(ts,obs=obs,ro=ro),o.bb(ts,obs=obs,ro=ro),degree=True)\n",
    "phi12[phi12[:,0] > 180,0]-= 360.\n",
    "pyplot.plot(phi12[:,0],phi12[:,1])\n",
    "xlim(-80,20)\n",
    "ylim(-4,2)\n",
    "xlabel(r'$\\phi_1\\,(\\mathrm{deg})$')\n",
    "ylabel(r'$\\phi_2\\,(\\mathrm{deg})$')"
   ]
  },
  {
   "cell_type": "code",
   "execution_count": null,
   "metadata": {
    "collapsed": true
   },
   "outputs": [],
   "source": []
  }
 ],
 "metadata": {
  "kernelspec": {
   "display_name": "Python 2",
   "language": "python",
   "name": "python2"
  },
  "language_info": {
   "codemirror_mode": {
    "name": "ipython",
    "version": 2
   },
   "file_extension": ".py",
   "mimetype": "text/x-python",
   "name": "python",
   "nbconvert_exporter": "python",
   "pygments_lexer": "ipython2",
   "version": "2.7.10"
  }
 },
 "nbformat": 4,
 "nbformat_minor": 0
}
