{
 "cells": [
  {
   "cell_type": "markdown",
   "metadata": {},
   "source": [
    "# Traverse a Square - Part 2 - Variables\n",
    "\n",
    "In this notebook, we will introduce one of the most powerful ideas in programming: the *variable*.\n",
    "\n",
    "A variable is a container that we can reference *by name* that is associated with a particular *value*. The value is assigned to the variable using the the `=` operator, which we might read as *is set to the value of*.\n",
    "\n",
    "For example, consider the following assignment statement:\n",
    "\n",
    "```python\n",
    "message=\"Hello World\"\n",
    "```\n",
    "\n",
    "Here, we create a named container `message` and put the value `Hello World` into it.\n",
    "\n",
    "When we refer to the variable as part of another expression, we can then access the value it contains and use that in our expression, as the following example demonstrates:"
   ]
  },
  {
   "cell_type": "code",
   "execution_count": null,
   "metadata": {},
   "outputs": [],
   "source": [
    "# Create the message variable and assign the value \"Hello World\" to it\n",
    "message=\"Hello World\"\n",
    "\n",
    "# Use the variable in a print statement\n",
    "# The print statement retrieves the value assigned to the variable and displays the value\n",
    "print(message)"
   ]
  },
  {
   "cell_type": "markdown",
   "metadata": {},
   "source": [
    "Try changing the message in the previous code cell and re-running it. Does it behave as you expect?"
   ]
  },
  {
   "cell_type": "markdown",
   "metadata": {},
   "source": [
    "You may remember from the `Getting Started WIth Notebooks.ipynb` notebook that if the last statement in a code cell returns a value, the value will be displayed as the output of the code cell when the cell contents have been executed.\n",
    "\n",
    "If you place the name of a variable, or one or more comma separated variables, on the last line of a code cell, the value will be displayed.\n",
    "\n",
    "What do you think the output of the following cell will be? Run the cell to find out."
   ]
  },
  {
   "cell_type": "code",
   "execution_count": null,
   "metadata": {},
   "outputs": [],
   "source": [
    "message"
   ]
  },
  {
   "cell_type": "markdown",
   "metadata": {},
   "source": [
    "You can assign whatever object you like to a variable.\n",
    "\n",
    "For example, we can assign numbers to them and do sums with them:"
   ]
  },
  {
   "cell_type": "code",
   "execution_count": 1,
   "metadata": {},
   "outputs": [
    {
     "data": {
      "text/plain": [
       "15"
      ]
     },
     "execution_count": 1,
     "metadata": {},
     "output_type": "execute_result"
    }
   ],
   "source": [
    "#Assign raw numbers to variables\n",
    "apples=5\n",
    "oranges=10\n",
    "\n",
    "#Do a sum with the values represented by the variables and assign the result to a new variable\n",
    "items_in_basket = apples + oranges\n",
    "\n",
    "#Display the resulting value as the cell output\n",
    "items_in_basket"
   ]
  },
  {
   "cell_type": "markdown",
   "metadata": {},
   "source": [
    "See if you can add the count of a new set of purchases to the number of items in your basket in the cell above. For example, what if you also bought 3 pears. And a bunch of bananas."
   ]
  },
  {
   "cell_type": "markdown",
   "metadata": {},
   "source": [
    "## Making Use of Variables\n",
    "\n",
    "Let's look back at our simple attempt at the square drawing program, in which we repeated blocks of instructions and set the numberical parameter values separately in each case.\n",
    "\n",
    "Before we run the program, we need to load in the bits we need..."
   ]
  },
  {
   "cell_type": "code",
   "execution_count": 1,
   "metadata": {},
   "outputs": [
    {
     "name": "stdout",
     "output_type": "stream",
     "text": [
      "Loading class: PioneerP3DX_base\n",
      "This is a base class for the PioneerP3DX_base model\n",
      "\n",
      "Loading class: PioneerP3DX\n",
      "Methods available in PioneerP3DX:\n",
      "\tget_orientation\n",
      "\tget_orientation_degrees\n",
      "\tgetvalleft\n",
      "\tgetvalright\n",
      "\tmove_backward\n",
      "\tmove_forward\n",
      "\trotate_left\n",
      "\trotate_right\n",
      "\tset_two_motor\n",
      "\tultrasonic_left_length\n",
      "\tultrasonic_right_length\n",
      "\n",
      "Loading class: PioneerP3DXL\n",
      "Methods available in PioneerP3DXL:\n",
      "\tcolor_left\n",
      "\tcolor_right\n",
      "\tget_orientation\n",
      "\tmove_backward\n",
      "\tmove_forward\n",
      "\trotate_left\n",
      "\trotate_right\n",
      "\tset_two_motor\n",
      "\tultrasonic_left_length\n",
      "\tultrasonic_right_length\n",
      "\n",
      "The following text widgets are available for display: sensorText1, sensorText2\n"
     ]
    }
   ],
   "source": [
    "%run 'Set-up.ipynb'\n",
    "%run 'Loading scenes.ipynb'\n",
    "%run 'vrep_models/PioneerP3DX.ipynb'"
   ]
  },
  {
   "cell_type": "markdown",
   "metadata": {},
   "source": [
    "The original programme appears in the code cell below. \n",
    "\n",
    "- how many changes would you have to make to it in order to change the side length?\n",
    "- can you see how you might be able to simplify the act of changing the side length?\n",
    "- what would you need to change if you wanted to make the turns faster? Or slower?\n",
    "\n",
    "HINT: think *variables*..."
   ]
  },
  {
   "cell_type": "code",
   "execution_count": 6,
   "metadata": {},
   "outputs": [],
   "source": [
    "%%vrepsim '../scenes/OU_Pioneer.ttt' PioneerP3DX\n",
    "import time\n",
    "\n",
    "#side 1\n",
    "robot.move_forward()\n",
    "time.sleep(1)\n",
    "#turn 1\n",
    "robot.rotate_left(1.8)\n",
    "time.sleep(0.45)\n",
    "#side 2\n",
    "robot.move_forward()\n",
    "time.sleep(1)\n",
    "#turn 2\n",
    "robot.rotate_left(1.8)\n",
    "time.sleep(0.45)\n",
    "#side 3\n",
    "robot.move_forward()\n",
    "time.sleep(1)\n",
    "#turn 3\n",
    "robot.rotate_left(1.8)\n",
    "time.sleep(0.45)\n",
    "#side 4\n",
    "robot.move_forward()\n",
    "time.sleep(1)"
   ]
  },
  {
   "cell_type": "markdown",
   "metadata": {},
   "source": [
    "Using the above programme as a guide, see if you can write a programme in the code cell below that makes it easier to maintin and simplifies the act of changing the numerical parameter values."
   ]
  },
  {
   "cell_type": "code",
   "execution_count": null,
   "metadata": {},
   "outputs": [],
   "source": [
    "%%vrepsim '../scenes/OU_Pioneer.ttt' PioneerP3DX\n",
    "import time\n",
    "\n",
    "#YOUR CODE HERE"
   ]
  },
  {
   "cell_type": "markdown",
   "metadata": {},
   "source": [
    "How did you get on?\n",
    "\n",
    "How easy is is to change the side length now? Or find a new combination of the turn speed and turn angle to turn through ninety degrees (or thereabouts?). Try it and see...\n",
    "\n",
    "Here's the programme I came up with: I used three variables, one for side length, one for turn time, and one for turn speed. Feel free to try running and modifying this programme too..."
   ]
  },
  {
   "cell_type": "code",
   "execution_count": null,
   "metadata": {},
   "outputs": [],
   "source": [
    "%%vrepsim '../scenes/OU_Pioneer.ttt' PioneerP3DX\n",
    "import time\n",
    "\n",
    "side_length_time=1\n",
    "turn_speed=1.8\n",
    "turn_time=0.45\n",
    "\n",
    "#side 1\n",
    "robot.move_forward()\n",
    "time.sleep(side_length_time)\n",
    "#turn 1\n",
    "robot.rotate_left(turn_speed)\n",
    "time.sleep(turn_time)\n",
    "#side 2\n",
    "robot.move_forward()\n",
    "time.sleep(side_length_time)\n",
    "#turn 2\n",
    "robot.rotate_left(turn_speed)\n",
    "time.sleep(turn_time)\n",
    "#side 3\n",
    "robot.move_forward()\n",
    "time.sleep(side_length_time)\n",
    "#turn 3\n",
    "robot.rotate_left(turn_speed)\n",
    "time.sleep(turn_time)\n",
    "#side 4\n",
    "robot.move_forward()\n",
    "time.sleep(side_length_time)"
   ]
  },
  {
   "cell_type": "markdown",
   "metadata": {},
   "source": [
    "In the next two notebooks on this theme, we'll see how to cut out some of the repetition."
   ]
  }
 ],
 "metadata": {
  "kernelspec": {
   "display_name": "Python 3",
   "language": "python",
   "name": "python3"
  },
  "language_info": {
   "codemirror_mode": {
    "name": "ipython",
    "version": 3
   },
   "file_extension": ".py",
   "mimetype": "text/x-python",
   "name": "python",
   "nbconvert_exporter": "python",
   "pygments_lexer": "ipython3",
   "version": "3.6.1"
  }
 },
 "nbformat": 4,
 "nbformat_minor": 2
}
