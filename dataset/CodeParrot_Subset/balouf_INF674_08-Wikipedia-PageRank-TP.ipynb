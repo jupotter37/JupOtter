{
 "cells": [
  {
   "cell_type": "markdown",
   "metadata": {
    "slideshow": {
     "slide_type": "-"
    }
   },
   "source": [
    "# INF674 S8: Wikipedia PageRank\n",
    "\n",
    "## Céline Comte & Fabien Mathieu\n",
    "\n",
    "## 2016 - 2017"
   ]
  },
  {
   "cell_type": "markdown",
   "metadata": {
    "slideshow": {
     "slide_type": "-"
    }
   },
   "source": [
    "You learned the theoretical basis of PageRank in previous session. Time to get your hands dirty."
   ]
  },
  {
   "cell_type": "code",
   "execution_count": null,
   "metadata": {
    "collapsed": false,
    "slideshow": {
     "slide_type": "-"
    }
   },
   "outputs": [],
   "source": [
    "%pylab inline"
   ]
  },
  {
   "cell_type": "markdown",
   "metadata": {},
   "source": [
    "# 1. Reminders"
   ]
  },
  {
   "cell_type": "markdown",
   "metadata": {},
   "source": [
    "## Wikipedia Dataset\n",
    "\n",
    "We remind that we use French and English crawls of Wikipedia made in 2013 and available on \\url{http://webgraph.di.unimi.it/}. The graphs have been *cleaned*: only links from one article to another article are kept.\n",
    "\n",
    "Two main differences with the DBLP database:\n",
    "- The graphs are now *oriented*: a link from $i$ to $j$ does not mean there is a link from $j$ to $i$.\n",
    "- The graphs are bigger. You need to be smart on the way you write your code, both from theoretical and practical points of view. \n",
    "\n",
    "The French crawl is made of three files:\n",
    "- **frwiki-2013.ids** contains the article titles (one per line, $ n $ lines in total). By convention, each article is associated to its line number (from $ 0 $ to $ n-1 $).\n",
    "- **frwiki-2013.adja** contains the adjacency list of the graph: line $ i $ (from $ 0 $ to $ n-1 $) contains, in plain ASCII, the numbers of the articles that are linked by $ i $. \n",
    "- **frwiki-2013-t.adja** contains the adjacency list of the transposed graph: line $ i $ (from $ 0 $ to $ n-1 $) contains the numbers of the articles that have a link to $ i $.\n",
    "\n",
    "The English crawl is provided in a similar way, with the prefix **enwiki-2013** instead of **frwiki-2013**. Note that it is roughly three times bigger than the French crawl. Feel free to use the dataset(s) you want, but starting with French is recommended (a PageRank computation can take a few minutes on a slow machine).\n",
    "\n",
    "This practical assumes the datasets are stored in **../Datasets/** relatively to your working directory. If it not the case, just change the following cell accordingly.\n"
   ]
  },
  {
   "cell_type": "code",
   "execution_count": null,
   "metadata": {
    "collapsed": true
   },
   "outputs": [],
   "source": [
    "directory = \"../Datasets/\""
   ]
  },
  {
   "cell_type": "markdown",
   "metadata": {},
   "source": [
    "## Size and degree"
   ]
  },
  {
   "cell_type": "markdown",
   "metadata": {},
   "source": [
    "The following function gives the number of nodes $n$ and the total number of *oriented edges* $m$ of the graph.\n",
    "\n",
    "The function tries to load the size from a npy file if one exists, otherwise it parses through the dataset to extract the information and save it in a npy file."
   ]
  },
  {
   "cell_type": "code",
   "execution_count": null,
   "metadata": {
    "collapsed": true
   },
   "outputs": [],
   "source": [
    "def get_size(prefix = \"enwiki-2013\"):\n",
    "    try:\n",
    "        return np.load(directory+prefix+\"-size.npy\")\n",
    "    except IOError:\n",
    "        n = 0\n",
    "        m = 0\n",
    "        with open(directory+prefix+\".adja\") as f:\n",
    "            for line in f:\n",
    "                n += 1\n",
    "                m += len([int(s) for s in line.split()])\n",
    "        np.save(directory+prefix+\"-size\", [n, m])\n",
    "        return n, m"
   ]
  },
  {
   "cell_type": "markdown",
   "metadata": {},
   "source": [
    "Now, the function for extracting degree. Remind that in oriented graphs, you have to distinguish between indegree and outdegree (cf the *Power Laws* practical)."
   ]
  },
  {
   "cell_type": "code",
   "execution_count": null,
   "metadata": {
    "collapsed": true
   },
   "outputs": [],
   "source": [
    "def get_degree(prefix = \"enwiki-2013\"):\n",
    "    try:\n",
    "        return np.load(directory+prefix+\"-deg.npy\")\n",
    "    except IOError:\n",
    "        n, m = get_size(prefix)\n",
    "        degree = zeros(n, dtype = int)\n",
    "        i = 0\n",
    "        with open(directory+prefix+\".adja\") as f:\n",
    "            for line in f:\n",
    "                degree[i] = len([int(s) for s in line.split()])\n",
    "                i += 1\n",
    "        np.save(directory+prefix+\"-deg\", degree)\n",
    "        return degree"
   ]
  },
  {
   "cell_type": "markdown",
   "metadata": {},
   "source": [
    "## Adjacency List"
   ]
  },
  {
   "cell_type": "markdown",
   "metadata": {},
   "source": [
    "In order to avoid crippling your RAM, we'll use the same format as the one introduced for studying the DBLP dataset."
   ]
  },
  {
   "cell_type": "code",
   "execution_count": null,
   "metadata": {
    "collapsed": true
   },
   "outputs": [],
   "source": [
    "def get_adjacency(prefix = \"enwiki-2013\"):\n",
    "    try:\n",
    "        return np.load(directory+prefix+\"-adja.npy\")\n",
    "    except IOError:\n",
    "        n, m = get_size(prefix)\n",
    "        A = zeros(n+m+1, dtype = int)\n",
    "        A[0] = n+1 # Don't forget the +1!!!\n",
    "        with open(directory+prefix+\".adja\") as f:\n",
    "            i = 0\n",
    "            for line in f:\n",
    "                neighbors = [int(s) for s in line.split()]\n",
    "                A[i+1] = A[i]+len(neighbors)\n",
    "                A[A[i]:A[i+1]] = neighbors\n",
    "                i += 1\n",
    "        np.save(directory+prefix+\"-adja\", A)\n",
    "        return A"
   ]
  },
  {
   "cell_type": "markdown",
   "metadata": {},
   "source": [
    "The result, *A*, is a numpy array of integers of size $n+m+1$, organized as follows:\n",
    "- The $n+1$ first values are indexes\n",
    "- The $m$ last values are destinations\n",
    "- The neighbors of a node $i$ are stored in A[A[i]:A[i+1]]"
   ]
  },
  {
   "cell_type": "markdown",
   "metadata": {},
   "source": [
    "## Index / Name conversion"
   ]
  },
  {
   "cell_type": "markdown",
   "metadata": {},
   "source": [
    "The following cell extracts the names (an updated version compared to previous one because the old way was too slow)."
   ]
  },
  {
   "cell_type": "code",
   "execution_count": null,
   "metadata": {
    "collapsed": false,
    "scrolled": true
   },
   "outputs": [],
   "source": [
    "import codecs\n",
    "def get_ids(prefix = \"enwiki-2013\"):\n",
    "    try:\n",
    "        return np.load(directory+prefix+\"-ids.npy\")\n",
    "    except IOError:\n",
    "        n, m = get_size(prefix)\n",
    "        delimiter = zeros(n+1, dtype = int)\n",
    "        with codecs.open(directory+prefix+\".ids\", \"r\", \"utf-8\") as f:\n",
    "            i = 0\n",
    "            for line in f:\n",
    "                delimiter[i+1] = delimiter[i]+len(line)-1\n",
    "                #text += line[0:-1]\n",
    "                i += 1\n",
    "            f.seek(0)\n",
    "            text = ''.join([line[0:-1] for line in f])\n",
    "        np.save(directory+prefix+\"-ids\", [delimiter, text])\n",
    "        return delimiter, text"
   ]
  },
  {
   "cell_type": "markdown",
   "metadata": {},
   "source": [
    "Then the traditional **index2name** translator (remark: name2index will not be required for this practical)."
   ]
  },
  {
   "cell_type": "code",
   "execution_count": null,
   "metadata": {
    "collapsed": true
   },
   "outputs": [],
   "source": [
    "def index2name(index, prefix = \"enwiki-2013\", delimiter = None, text = None):\n",
    "    if delimiter is None:\n",
    "        delimiter, text = get_ids(prefix)\n",
    "    return text[delimiter[index]:delimiter[index+1]]"
   ]
  },
  {
   "cell_type": "markdown",
   "metadata": {},
   "source": [
    "# 2.  Computing Rankings "
   ]
  },
  {
   "cell_type": "markdown",
   "metadata": {},
   "source": [
    "## Question 1 "
   ]
  },
  {
   "cell_type": "markdown",
   "metadata": {},
   "source": [
    "Propose a function that takes for input a vector $ P $ of size $ n $, an integer $ k>0 $ (default to $ k=10 $) and a prefix for a dataset of size $n$. The function should print the titles of the $ k $ articles with highest value according to $ P $. Test your function by displaying the names of the $ k $ articles with highest indegree, then the name of the $k$ articles with highest outdegree.\n",
    "\n",
    "In terms of ranking, which seems to be the more relevant: indegree or outdegree? (remember to try and justify your answer, please)"
   ]
  },
  {
   "cell_type": "markdown",
   "metadata": {},
   "source": [
    "**Answer:** "
   ]
  },
  {
   "cell_type": "markdown",
   "metadata": {},
   "source": [
    "## Question 2"
   ]
  },
  {
   "cell_type": "markdown",
   "metadata": {},
   "source": [
    "Let $A$ the transition matrix seen in course, defined by\n",
    "$$A[i,j] = \\frac{1}{outdegree(i)}\\text{ if }i\\rightarrow j, 0\\text{ otherwise.}$$\n",
    "\n",
    "Compute a PageRank based on the following iteration: do $P_{n+1} = \\alpha P_n A + (1-\\alpha)Z$ until $||P_{n+1}-P_n||_1\\leq \\epsilon ||P_n||_1$.\n",
    "\n",
    "You will probably use a $P_{old}$ vector to store previous iteration and a $P_{new}$ vector to store the new one.\n",
    "\n",
    "You will monitor (e.g. print) the time per iteration and the total time (you can use **import time**, **time.clock()**).\n",
    "\n",
    "Comment the results (top $k$).\n",
    "\n",
    "Recommended values: $\\alpha = 0.7$, $Z = [1,\\ldots, 1]$, $\\epsilon=0.1$ (you may go down to $0.01$ if you have a fast computer)."
   ]
  },
  {
   "cell_type": "markdown",
   "metadata": {},
   "source": [
    "**Answer:**"
   ]
  },
  {
   "cell_type": "markdown",
   "metadata": {},
   "source": [
    "# 3. Optimization"
   ]
  },
  {
   "cell_type": "markdown",
   "metadata": {},
   "source": [
    "The algorithm above may be a little bit slow. Let's do some tuning. You will learn to speed up your algorithm by mixing theoretical and practical considerations, and it will allow you to play more with the last part. Don't forget to compare your results to the previous question to verify that you did not break anything.\n",
    "\n",
    "It is OK if the name of your PageRank function remains the same thorough all questions."
   ]
  },
  {
   "cell_type": "markdown",
   "metadata": {},
   "source": [
    "## Question 1"
   ]
  },
  {
   "cell_type": "markdown",
   "metadata": {},
   "source": [
    "Playing with $ \\alpha $ and with the precision may help to speed up the process. Is it a good idea?"
   ]
  },
  {
   "cell_type": "markdown",
   "metadata": {},
   "source": [
    "**Answer:** "
   ]
  },
  {
   "cell_type": "markdown",
   "metadata": {},
   "source": [
    "## Question 2"
   ]
  },
  {
   "cell_type": "markdown",
   "metadata": {},
   "source": [
    "Try to downsize the time per iteration. How many divisions do you perform per iteration? If it is $m$, you should be able to cut that to $ n $ (with better memory access too). Beware of leaves! How does the time per iteration evolve? Also note that for some obscure reasons, multiplications are slightly faster than divisions in Python."
   ]
  },
  {
   "cell_type": "markdown",
   "metadata": {},
   "source": [
    "**Answer:** "
   ]
  },
  {
   "cell_type": "markdown",
   "metadata": {},
   "source": [
    "## Question 3"
   ]
  },
  {
   "cell_type": "markdown",
   "metadata": {},
   "source": [
    "Downsize the number of iterations. Instead of using a new vector for $PA$, try to do the update in place. How does the number of iterations evolve (note: you will probably not notice a difference if $\\epsilon$ is too large, you should try $\\epsilon=0.01$)? For the record, this is called the Gauss-Seidel method, and one can prove that it enhances convergence."
   ]
  },
  {
   "cell_type": "markdown",
   "metadata": {},
   "source": [
    "**Answer:** "
   ]
  },
  {
   "cell_type": "markdown",
   "metadata": {},
   "source": [
    "## Question 4"
   ]
  },
  {
   "cell_type": "markdown",
   "metadata": {},
   "source": [
    "For practical use, the ranking matters but not the actual importance values. Replace the stopping condition by *last iteration did not change the ranking of the top $ k $ articles* (e.g. with $ k = 20 $). If you did the previous optimization, you probably do not need to store two distinct values of $P$."
   ]
  },
  {
   "cell_type": "markdown",
   "metadata": {},
   "source": [
    "**Answer:** "
   ]
  },
  {
   "cell_type": "markdown",
   "metadata": {},
   "source": [
    "## Question 5 (bonus)"
   ]
  },
  {
   "cell_type": "markdown",
   "metadata": {},
   "source": [
    "Look at the following code. Can you tell what it does? Compare it with the previous PageRank function in terms of results and efficiency (time and memory)."
   ]
  },
  {
   "cell_type": "code",
   "execution_count": null,
   "metadata": {
    "collapsed": false
   },
   "outputs": [],
   "source": [
    "def diteration(prefix = \"frwiki-2013\", alpha = 0.75, k = 20):\n",
    "    # Setup\n",
    "    n, m = get_size(prefix)\n",
    "    H = zeros(n)\n",
    "    F = ones(n)\n",
    "    A = get_adjacency(prefix)\n",
    "    total_time = time.clock()\n",
    "    ind = argsort(H)[-1:-k-1:-1]\n",
    "    stable = False\n",
    "    iter = 0\n",
    "    # Outer loop\n",
    "    while not(stable):\n",
    "        iter += 1\n",
    "        iter_time = time.clock()\n",
    "        ind_old = ind\n",
    "        # Inner loop\n",
    "        for i in nditer(nonzero(F>alpha*mean(F))):\n",
    "            outnodes = A[A[i]:A[i+1]]\n",
    "            H[i] += F[i]\n",
    "            if outnodes.size:\n",
    "                F[outnodes] += alpha*F[i]/outnodes.size\n",
    "            F[i]=0\n",
    "        ind = argsort(H)[-1:-k-1:-1]\n",
    "        stable = (ind_old == ind).all()\n",
    "        print(\"Iteration {}: time \".format(iter)+str(time.clock()-iter_time))\n",
    "    print(\"Total time: \"+str(time.clock()-total_time)+\" ({} iterations)\".format(iter))\n",
    "    return H "
   ]
  },
  {
   "cell_type": "markdown",
   "metadata": {},
   "source": [
    "**Answer:** "
   ]
  },
  {
   "cell_type": "markdown",
   "metadata": {},
   "source": [
    "## Question 6"
   ]
  },
  {
   "cell_type": "markdown",
   "metadata": {},
   "source": [
    "Instead of using $ [1,\\ldots, 1] $ as initial value, why not use a previously saved computation? Interest: if you already computed a PageRank for a small $ k $ and want better precision (larger $ k $), you do not need to restart from scratch. For the record, this is how one updates PageRank of Web graphs when a fresh crawl is made: one uses the old PageRank as an educated guess for the new PageRank."
   ]
  },
  {
   "cell_type": "markdown",
   "metadata": {},
   "source": [
    "**Answer:** "
   ]
  },
  {
   "cell_type": "code",
   "execution_count": null,
   "metadata": {
    "collapsed": false
   },
   "outputs": [],
   "source": [
    "def pagerank(prefix = \"frwiki-2013\", alpha = 0.7, k=20):\n",
    "    # Setup\n",
    "    n, m = get_size(prefix)\n",
    "    A = get_adjacency(prefix+\"-t\")\n",
    "    inv_out = get_degree(prefix)\n",
    "    inv_out[inv_out == 0] = 1\n",
    "    inv_out = 1/inv_out\n",
    "        \n",
    "    # Initiate PR Value\n",
    "    pname = prefix + '-P'\n",
    "    try:\n",
    "        P = np.load(pname + '.npy')*inv_out\n",
    "        print('Using Previous Estimate as Starting Point')\n",
    "    except IOError:\n",
    "        print('Start with PR = [1,...,1]')\n",
    "        P = ones(n)*inv_out/(1-alpha)\n",
    "\n",
    "    ind = argsort(P/inv_out)[-1:-k-1:-1]\n",
    "    total_time = time.clock()\n",
    "    stable = False\n",
    "    iter = 0\n",
    "    # Iterations loop\n",
    "    while not(stable):\n",
    "        iter += 1\n",
    "        iter_time = time.clock()\n",
    "        ind_old = ind\n",
    "        # Core loop\n",
    "        for i in range(n):\n",
    "            P[i] = (alpha*sum(P[A[A[i]:A[i+1]]])+1)*inv_out[i]\n",
    "        ind = argsort(P/inv_out)[-1:-k-1:-1]\n",
    "        stable = (ind_old == ind).all()\n",
    "        print(\"Iteration {}: time \".format(iter)+str(time.clock()-iter_time))\n",
    "    print(\"Total time: \"+str(time.clock()-total_time)+\" ({} iterations)\".format(iter))\n",
    "    P = P / inv_out\n",
    "    np.save(pname, P)\n",
    "    return P"
   ]
  },
  {
   "cell_type": "markdown",
   "metadata": {},
   "source": [
    "## Question 7 (bonus)"
   ]
  },
  {
   "cell_type": "markdown",
   "metadata": {},
   "source": [
    "Discuss what should be done for computing PageRank on a much larger graph (hundred of millions, or even billions of nodes)."
   ]
  },
  {
   "cell_type": "markdown",
   "metadata": {},
   "source": [
    "**Answer:** "
   ]
  },
  {
   "cell_type": "markdown",
   "metadata": {},
   "source": [
    "# 4. Customization"
   ]
  },
  {
   "cell_type": "markdown",
   "metadata": {},
   "source": [
    "The only semantic information you have about the datasets is the name of the articles. Is it enough to get pertinent pages relatively to a given subject?\n",
    "\n",
    "**Remark:** It is strongly recommended (but not mandatory) that you work on the Optimization questions *before* starting this part."
   ]
  },
  {
   "cell_type": "markdown",
   "metadata": {},
   "source": [
    "## Question 1"
   ]
  },
  {
   "cell_type": "markdown",
   "metadata": {},
   "source": [
    "The algorithm uses a uniform vector $ Z = [1, \\ldots, 1] $. Modify it to take an additional argument **s** (a string) such that  $ Z[i] $ is  1 if **s** is in the title of $ i $, 0 otherwise. Save your $ Z $ and $ P $ in files with **s** in the name. Test your algorithm on some values of **s** and comment. Possible inputs (don't hesitate to propose your owns; some inputs work better than others):\n",
    "- for **frwiki-2013**: **film**, **biologie**, **physique**, **philosoph**, ... \n",
    "- for **enwiki-2013**: **movie**, **biology**, **physic**, **philosoph**, ... \n",
    "As usual, comment the results!"
   ]
  },
  {
   "cell_type": "markdown",
   "metadata": {},
   "source": [
    "**Answer:** "
   ]
  },
  {
   "cell_type": "markdown",
   "metadata": {},
   "source": [
    "## Question 2"
   ]
  },
  {
   "cell_type": "markdown",
   "metadata": {},
   "source": [
    "Using a non-uniform $ Z $ will create a bias in favor of the pages that contain **s** in the title. A simple workaround consists in ranking according to $ P-(1-\\alpha)Z $ instead of $ P $ ($ P-(1-\\alpha)Z $ is called the residual PageRank).\n",
    "\n",
    "Explain what is the meaning of $P-(1-\\alpha)Z$ and modify your algorithm to output that instead of $P$."
   ]
  },
  {
   "cell_type": "markdown",
   "metadata": {},
   "source": [
    "**Answer:** "
   ]
  },
  {
   "cell_type": "markdown",
   "metadata": {},
   "source": [
    "## Question 3 (bonus)"
   ]
  },
  {
   "cell_type": "markdown",
   "metadata": {},
   "source": [
    "Adapt the algorithm from *3. Optimization Question 5* to compute the residual PageRank. Discuss the differences.\n",
    "\n",
    "Remark: the optimization from Question 3.6 is not easy to make on the algorithm from 3.5. Don't try to implement it."
   ]
  },
  {
   "cell_type": "markdown",
   "metadata": {},
   "source": [
    "**Answer:** "
   ]
  },
  {
   "cell_type": "markdown",
   "metadata": {},
   "source": [
    "## Question 4 (bonus)"
   ]
  },
  {
   "cell_type": "markdown",
   "metadata": {},
   "source": [
    "Try the other dataset (English / French)."
   ]
  },
  {
   "cell_type": "markdown",
   "metadata": {},
   "source": [
    "**Answer:** "
   ]
  }
 ],
 "metadata": {
  "language_info": {
   "name": "python",
   "pygments_lexer": "ipython3"
  }
 },
 "nbformat": 4,
 "nbformat_minor": 0
}
