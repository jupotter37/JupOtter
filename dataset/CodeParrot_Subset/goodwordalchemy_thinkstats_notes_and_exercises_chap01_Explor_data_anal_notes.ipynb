{
 "cells": [
  {
   "cell_type": "markdown",
   "metadata": {},
   "source": [
    "##Data sources Used:\n",
    "\n",
    "*  http://www.cdc.gov/nchs/nsfg.htm\n",
    "*  http://www.cdc.gov/brfss/"
   ]
  },
  {
   "cell_type": "markdown",
   "metadata": {},
   "source": [
    "##NSFG\n",
    "\n",
    "**cross-sectional study** - captures snapshot of a group at a cetain point in time\n",
    "\n",
    "as opposed to \n",
    "\n",
    "**longitudinal study** - which takes place over a period of time\n",
    "\n",
    "popolulation > cohort > respondents\n",
    "\n",
    "**representative** - every member of the target population has an equal chance of participating\n",
    "\n",
    "**oversampled** - recruited from particular groups."
   ]
  },
  {
   "cell_type": "markdown",
   "metadata": {},
   "source": [
    "##Exercise 1:\n",
    "\n",
    "Although NSFG has been conducted 7 times, it is not a longitudinal study.  Why not?\n",
    "\n",
    "###My answer:\n",
    "\n",
    "A longitudinal study follows the respondents over a long period of time.  The NSFG study took a random sampling 7 different times, but it make no effort to monitor changes in the particular respondents who were sampled previously."
   ]
  },
  {
   "cell_type": "markdown",
   "metadata": {},
   "source": [
    "##Note:\n",
    "\n",
    "Just changed to [this](http://www.greenteapress.com/thinkstats2/thinkstats2.pdf) more recent version of the book and cloned all of the datasets and codes from the github\n"
   ]
  },
  {
   "cell_type": "code",
   "execution_count": null,
   "metadata": {
    "collapsed": true
   },
   "outputs": [],
   "source": [
    "import Think"
   ]
  }
 ],
 "metadata": {
  "kernelspec": {
   "display_name": "Python 2",
   "language": "python",
   "name": "python2"
  },
  "language_info": {
   "codemirror_mode": {
    "name": "ipython",
    "version": 2
   },
   "file_extension": ".py",
   "mimetype": "text/x-python",
   "name": "python",
   "nbconvert_exporter": "python",
   "pygments_lexer": "ipython2",
   "version": "2.7.10"
  }
 },
 "nbformat": 4,
 "nbformat_minor": 0
}
