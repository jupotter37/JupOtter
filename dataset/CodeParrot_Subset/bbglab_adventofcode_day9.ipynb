{
 "cells": [
  {
   "cell_type": "markdown",
   "metadata": {},
   "source": [
    "# Day 9: All in a Single Night\n",
    "\n",
    "## Day 9.1\n",
    "\n",
    "We will implement a simple DFS algorithm"
   ]
  },
  {
   "cell_type": "code",
   "execution_count": 96,
   "metadata": {
    "ExecuteTime": {
     "end_time": "2017-12-09T17:45:58.863010",
     "start_time": "2017-12-09T17:45:58.835683"
    }
   },
   "outputs": [],
   "source": [
    "import csv\n",
    "from collections import defaultdict\n",
    "\n",
    "def parse(path_to_input):\n",
    "    distances = defaultdict(lambda: defaultdict(int))\n",
    "    with open(path_to_input, 'rt') as f_input:\n",
    "        csv_reader = csv.reader(f_input, delimiter=' ')\n",
    "        for line in csv_reader:\n",
    "            distances[line[0]][line[2]] = int(line[4])\n",
    "            distances[line[2]][line[0]] = int(line[4])\n",
    "    return distances"
   ]
  },
  {
   "cell_type": "code",
   "execution_count": 115,
   "metadata": {
    "ExecuteTime": {
     "end_time": "2017-12-09T17:52:26.791847",
     "start_time": "2017-12-09T17:52:26.730068"
    }
   },
   "outputs": [],
   "source": [
    "from copy import copy\n",
    "\n",
    "class Clique(object):\n",
    "    \n",
    "    def __init__(self, distances):\n",
    "        self.cities = list(distances.keys())\n",
    "        self.distances = distances\n",
    "        self.spath = defaultdict(lambda: defaultdict(float))\n",
    "    \n",
    "    def get_distance(self, a, b):\n",
    "        return self.distances[a][b]\n",
    "    \n",
    "    def all_paths(self, root):\n",
    "        \"\"\"simple depth-first search from root\"\"\"\n",
    "        results = []\n",
    "        cities = copy(self.cities)\n",
    "        cities.remove(root)\n",
    "        # head of path, pending vertices, length travelled\n",
    "        queue = [{'head': [root], 'pending': cities, 'length': 0}] \n",
    "        while queue:\n",
    "            s = queue.pop()\n",
    "            if s['pending'] == []:\n",
    "                results.append((s['head'], s['length']))\n",
    "            else:\n",
    "                for city in s['pending']:\n",
    "                    length = s['length'] + self.get_distance(s['head'][-1], city)\n",
    "                    head = copy(s['head'])\n",
    "                    head.append(city)\n",
    "                    pending = copy(s['pending'])\n",
    "                    pending.remove(city)\n",
    "                    queue.append({'head': head, 'pending': pending, 'length': length})\n",
    "        return results\n",
    "    \n",
    "    def best_path(self, short=True):\n",
    "        res = []\n",
    "        for city in self.cities:\n",
    "            res += self.all_paths(city)\n",
    "        if short:\n",
    "            return sorted(res, key=lambda x: x[1])[0]\n",
    "        else:\n",
    "            return sorted(res, key=lambda x: x[1], reverse=True)[0]\n",
    "\n",
    "def best_path(path_to_input, **kwargs):\n",
    "    d = parse(path_to_input)\n",
    "    g = Clique(d)\n",
    "    return g.best_path(**kwargs)"
   ]
  },
  {
   "cell_type": "markdown",
   "metadata": {},
   "source": [
    "### Test"
   ]
  },
  {
   "cell_type": "code",
   "execution_count": 116,
   "metadata": {
    "ExecuteTime": {
     "end_time": "2017-12-09T17:52:27.661801",
     "start_time": "2017-12-09T17:52:27.639528"
    }
   },
   "outputs": [
    {
     "data": {
      "text/plain": [
       "(['Belfast', 'Dublin', 'London'], 605)"
      ]
     },
     "execution_count": 116,
     "metadata": {},
     "output_type": "execute_result"
    }
   ],
   "source": [
    "best_path('inputs/input9.test1.txt')"
   ]
  },
  {
   "cell_type": "markdown",
   "metadata": {},
   "source": [
    "### Solution"
   ]
  },
  {
   "cell_type": "code",
   "execution_count": 117,
   "metadata": {
    "ExecuteTime": {
     "end_time": "2017-12-09T17:53:04.959288",
     "start_time": "2017-12-09T17:53:04.615119"
    }
   },
   "outputs": [
    {
     "data": {
      "text/plain": [
       "(['Straylight',\n",
       "  'Arbre',\n",
       "  'Tristram',\n",
       "  'Norrath',\n",
       "  'Snowdin',\n",
       "  'Tambi',\n",
       "  'AlphaCentauri',\n",
       "  'Faerun'],\n",
       " 117)"
      ]
     },
     "execution_count": 117,
     "metadata": {},
     "output_type": "execute_result"
    }
   ],
   "source": [
    "best_path('inputs/input9.txt')"
   ]
  },
  {
   "cell_type": "markdown",
   "metadata": {},
   "source": [
    "## Day 9.2"
   ]
  },
  {
   "cell_type": "code",
   "execution_count": 118,
   "metadata": {
    "ExecuteTime": {
     "end_time": "2017-12-09T17:53:32.078635",
     "start_time": "2017-12-09T17:53:31.708487"
    }
   },
   "outputs": [
    {
     "data": {
      "text/plain": [
       "(['Tambi',\n",
       "  'Arbre',\n",
       "  'Faerun',\n",
       "  'Norrath',\n",
       "  'AlphaCentauri',\n",
       "  'Straylight',\n",
       "  'Tristram',\n",
       "  'Snowdin'],\n",
       " 909)"
      ]
     },
     "execution_count": 118,
     "metadata": {},
     "output_type": "execute_result"
    }
   ],
   "source": [
    "best_path('inputs/input9.txt', short=False)"
   ]
  }
 ],
 "metadata": {
  "kernelspec": {
   "display_name": "Python [conda env:adventofcode]",
   "language": "python",
   "name": "conda-env-adventofcode-py"
  },
  "language_info": {
   "codemirror_mode": {
    "name": "ipython",
    "version": 3
   },
   "file_extension": ".py",
   "mimetype": "text/x-python",
   "name": "python",
   "nbconvert_exporter": "python",
   "pygments_lexer": "ipython3",
   "version": "3.5.2"
  },
  "toc": {
   "colors": {
    "hover_highlight": "#DAA520",
    "running_highlight": "#FF0000",
    "selected_highlight": "#FFD700"
   },
   "moveMenuLeft": true,
   "nav_menu": {
    "height": "66px",
    "width": "252px"
   },
   "navigate_menu": true,
   "number_sections": true,
   "sideBar": true,
   "threshold": 4,
   "toc_cell": false,
   "toc_section_display": "block",
   "toc_window_display": false
  }
 },
 "nbformat": 4,
 "nbformat_minor": 2
}
