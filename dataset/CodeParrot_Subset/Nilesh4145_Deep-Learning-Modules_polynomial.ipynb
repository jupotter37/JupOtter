{
 "cells": [
  {
   "cell_type": "markdown",
   "metadata": {
    "deletable": true,
    "editable": true
   },
   "source": [
    "# Polynomial Regression using SciKit Learn"
   ]
  },
  {
   "cell_type": "markdown",
   "metadata": {
    "deletable": true,
    "editable": true
   },
   "source": [
    "Date Created: 28/03/2017\n",
    "\n",
    "Author: Nilesh Chaturvedi\n",
    "\n",
    "\n",
    "\n"
   ]
  },
  {
   "cell_type": "code",
   "execution_count": 1,
   "metadata": {
    "collapsed": false,
    "deletable": true,
    "editable": true
   },
   "outputs": [],
   "source": [
    "#import necessary libraries\n",
    "from sklearn import linear_model\n",
    "from sklearn.preprocessing import normalize, PolynomialFeatures\n",
    "import matplotlib.pyplot as plt\n",
    "import csv\n",
    "import numpy"
   ]
  },
  {
   "cell_type": "code",
   "execution_count": 2,
   "metadata": {
    "collapsed": false,
    "deletable": true,
    "editable": true
   },
   "outputs": [],
   "source": [
    "#Load Data\n",
    "def load_data(filename):\n",
    "    \n",
    "    file_data = csv.reader(open(filename, \"r\"), delimiter = \",\")\n",
    "    training_data = []\n",
    "    testing_data = []\n",
    "    for training_example in list(file_data)[2:]:\n",
    "        if training_example[5]!=\"NaN\":\n",
    "            training_data.append([float(feature) for feature in training_example[:6]])\n",
    "        else:\n",
    "            testing_data.append([float(feature) for feature in training_example[:5]])\n",
    "            \n",
    "    return numpy.array(training_data), numpy.array(testing_data) "
   ]
  },
  {
   "cell_type": "code",
   "execution_count": 3,
   "metadata": {
    "collapsed": false,
    "deletable": true,
    "editable": true
   },
   "outputs": [],
   "source": [
    "def polynomial_regression_model(training):\n",
    "    \n",
    "    # Extract the features from training data.\n",
    "    training_x = training[:,:5]\n",
    "    \n",
    "    # Extract values corresponding to every training example.\n",
    "    training_y = (training[:,5])[:,numpy.newaxis]\n",
    "    \n",
    "    #normalize the data\n",
    "    normalized_x = normalize(training_x, norm='l1', axis=0)\n",
    "    normalized_y = normalize(training_y, norm='l1', axis=0)\n",
    "    \n",
    "    # Make a polynomial transform of the data.\n",
    "    feature_transform = PolynomialFeatures(degree=2)\n",
    "    polynomial_x = feature_transform.fit_transform(normalized_x)\n",
    "    \n",
    "    #Fit linear model to transformed data\n",
    "    polynomial = linear_model.LinearRegression()\n",
    "    polynomial.fit(polynomial_x, normalized_y)\n",
    "    \n",
    "    return polynomial"
   ]
  },
  {
   "cell_type": "code",
   "execution_count": 4,
   "metadata": {
    "collapsed": false,
    "deletable": true,
    "editable": true
   },
   "outputs": [
    {
     "name": "stdout",
     "output_type": "stream",
     "text": [
      "[ 1.          0.25179856  0.09090909  0.07078233  0.12459372  0.13651425\n",
      "  0.06340252  0.02289078  0.01782289  0.03137252  0.03437409  0.00826446\n",
      "  0.00643476  0.0113267   0.01241039  0.00501014  0.00881903  0.0096628\n",
      "  0.01552359  0.01700882  0.01863614] : [ 0.80778098]\n",
      "\n",
      "\n",
      "[ 1.          0.16546763  0.18181818  0.18626929  0.1787649   0.18299094\n",
      "  0.02737954  0.03008502  0.03082154  0.0295798   0.03027908  0.03305785\n",
      "  0.03386714  0.03250271  0.03327108  0.03469625  0.03329841  0.03408559\n",
      "  0.03195689  0.03271236  0.03348569] : [ 1.0525165]\n",
      "\n",
      "\n",
      "[ 1.          0.15827338  0.18181818  0.18680149  0.16576381  0.17821957\n",
      "  0.02505046  0.02877698  0.0295657   0.026236    0.02820741  0.03305785\n",
      "  0.03396391  0.03013888  0.03240356  0.0348948   0.03096493  0.03329168\n",
      "  0.02747764  0.02954236  0.03176222] : [ 0.82236822]\n",
      "\n",
      "\n",
      "[ 1.          0.15107914  0.18181818  0.20383183  0.18959913  0.18405125\n",
      "  0.02282491  0.02746893  0.03079474  0.02864447  0.0278063   0.03305785\n",
      "  0.03706033  0.03447257  0.03346386  0.04154741  0.03864634  0.0375155\n",
      "  0.03594783  0.03489596  0.03387486] : [ 1.38945432]\n",
      "\n",
      "\n",
      "[ 1.          0.15827338  0.18181818  0.19159127  0.18959913  0.17009057\n",
      "  0.02505046  0.02877698  0.0303238   0.0300085   0.02692081  0.03305785\n",
      "  0.03483478  0.03447257  0.03092556  0.03670722  0.03632554  0.03258787\n",
      "  0.03594783  0.03224902  0.0289308 ] : [ 1.20438739]\n",
      "\n",
      "\n",
      "[ 1.          0.11510791  0.18181818  0.16072379  0.15167931  0.14813342\n",
      "  0.01324983  0.02092871  0.01850058  0.01745949  0.01705133  0.03305785\n",
      "  0.02922251  0.02757806  0.02693335  0.02583214  0.02437847  0.02380856\n",
      "  0.02300661  0.02246877  0.02194351] : [ 0.41178383]\n",
      "\n",
      "\n",
      "Polynomial Model Statistics \n",
      "\n",
      "Weights : [[  0.00000000e+00  -1.54965346e-01   3.26930705e-01  -3.24509783e-01\n",
      "   -1.62920171e+00  -6.54069097e-01   5.58070010e+01  -3.31443610e+02\n",
      "    2.19521593e+02   2.08293138e+01  -1.98514294e+01  -1.38209366e+02\n",
      "   -1.87109519e+02  -3.64895489e+01   7.27329160e+02   8.94498322e+01\n",
      "    8.52965878e+01  -2.31500988e+02  -5.95603377e+01   1.51761024e+02\n",
      "   -3.01634261e+02]] \n",
      "Bias : [ 0.0316951]\n"
     ]
    },
    {
     "data": {
      "image/png": "[encoded data removed]",
      "text/plain": [
       "<matplotlib.figure.Figure at 0x7fd1eea365f8>"
      ]
     },
     "metadata": {},
     "output_type": "display_data"
    }
   ],
   "source": [
    "if __name__ == \"__main__\":\n",
    "   \n",
    "    input_data = load_data(\"data_carsmall.csv\")\n",
    "    training_data = input_data[0]\n",
    "    \n",
    "    normalized_test = normalize(input_data[1], norm = 'l1', axis = 0)\n",
    "    feature_transform = PolynomialFeatures(degree=2)\n",
    "    to_be_predicted = feature_transform.fit_transform(normalized_test)\n",
    "    \n",
    "    #Estimate using polynomial model\n",
    "    polynomial_model = polynomial_regression_model(training_data)\n",
    "    polynomial_model_output = polynomial_model.predict(to_be_predicted )\n",
    "    \n",
    "    for point in range(len(to_be_predicted)):\n",
    "        print(str(to_be_predicted[point]) + \" : \" + str(polynomial_model_output[point]) + \"\\n\\n\")\n",
    "        \n",
    "    print(\"Polynomial Model Statistics \\n\\nWeights : {} \\nBias : {}\".format(polynomial_model.coef_, polynomial_model.intercept_))\n",
    "    \n",
    "    plt.scatter(to_be_predicted[:,0], polynomial_model_output, label = \"Feature 1\")\n",
    "    plt.scatter(to_be_predicted[:,1], polynomial_model_output, label = \"Feature 2\")\n",
    "    plt.scatter(to_be_predicted[:,2], polynomial_model_output, label = \"Feature 3\")\n",
    "    plt.scatter(to_be_predicted[:,3], polynomial_model_output, label = \"Feature 4\")\n",
    "    plt.scatter(to_be_predicted[:,4], polynomial_model_output, label = \"Feature 5\")\n",
    "    plt.show()"
   ]
  }
 ],
 "metadata": {
  "kernelspec": {
   "display_name": "Python 3",
   "language": "python",
   "name": "python3"
  },
  "language_info": {
   "codemirror_mode": {
    "name": "ipython",
    "version": 3
   },
   "file_extension": ".py",
   "mimetype": "text/x-python",
   "name": "python",
   "nbconvert_exporter": "python",
   "pygments_lexer": "ipython3",
   "version": "3.5.2+"
  }
 },
 "nbformat": 4,
 "nbformat_minor": 2
}
