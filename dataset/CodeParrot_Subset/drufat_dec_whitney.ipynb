{
 "metadata": {
  "kernelspec": {
   "display_name": "Python 3",
   "language": "python",
   "name": "python3"
  },
  "language_info": {
   "codemirror_mode": {
    "name": "ipython",
    "version": 3
   },
   "file_extension": ".py",
   "mimetype": "text/x-python",
   "name": "python",
   "nbconvert_exporter": "python",
   "pygments_lexer": "ipython3",
   "version": "3.4.3"
  },
  "name": ""
 },
 "nbformat": 3,
 "nbformat_minor": 0,
 "worksheets": [
  {
   "cells": [
    {
     "cell_type": "heading",
     "level": 2,
     "metadata": {},
     "source": [
      "Whitney Bases"
     ]
    },
    {
     "cell_type": "code",
     "collapsed": false,
     "input": [
      "from sympy import *\n",
      "from sympy.abc import x"
     ],
     "language": "python",
     "metadata": {},
     "outputs": [],
     "prompt_number": 1
    },
    {
     "cell_type": "code",
     "collapsed": true,
     "input": [
      "p = Piecewise((0, x<=-1), (x+1, x<0), (-x+1, x<=1), (0, True))"
     ],
     "language": "python",
     "metadata": {},
     "outputs": [],
     "prompt_number": 2
    },
    {
     "cell_type": "code",
     "collapsed": false,
     "input": [
      "l = lambdify((x,), p)\n",
      "(l(-2), l(-1), l(-1/2), l(0), l(1/2), l(1))"
     ],
     "language": "python",
     "metadata": {},
     "outputs": [
      {
       "output_type": "pyout",
       "prompt_number": 3,
       "text": [
        "(0, 0, 0.5, 1, 0.5, 0)"
       ]
      }
     ],
     "prompt_number": 3
    },
    {
     "cell_type": "code",
     "collapsed": false,
     "input": [
      "def F(x):\n",
      "    if -1<x<=0:\n",
      "        return x+1\n",
      "    if 0<x<1:\n",
      "        return -x+1\n",
      "    return 0"
     ],
     "language": "python",
     "metadata": {},
     "outputs": [],
     "prompt_number": 4
    },
    {
     "cell_type": "code",
     "collapsed": true,
     "input": [
      "import matplotlib.pyplot as plt\n",
      "%matplotlib inline\n",
      "import numpy as np"
     ],
     "language": "python",
     "metadata": {},
     "outputs": [],
     "prompt_number": 5
    },
    {
     "cell_type": "code",
     "collapsed": false,
     "input": [
      "xx = np.linspace(-1.5, 1.5, 1000)\n",
      "def L(xx):\n",
      "    return np.array([l(x_) for x_ in xx])"
     ],
     "language": "python",
     "metadata": {},
     "outputs": [],
     "prompt_number": 6
    },
    {
     "cell_type": "code",
     "collapsed": false,
     "input": [
      "plt.plot(xx, L(xx))"
     ],
     "language": "python",
     "metadata": {},
     "outputs": [
      {
       "output_type": "pyout",
       "prompt_number": 7,
       "text": [
        "[<matplotlib.lines.Line2D at 0x7f5bf33f6080>]"
       ]
      },
      {
       "output_type": "display_data",
       "png": "[encoded data removed]",
       "text": [
        "<matplotlib.figure.Figure at 0x7f5bf3404d30>"
       ]
      }
     ],
     "prompt_number": 7
    },
    {
     "cell_type": "code",
     "collapsed": false,
     "input": [
      "a, b, c = (\n",
      "    integrate(p, (x, -Rational(1,2), Rational(1, 2))),\n",
      "    integrate(p, (x, 0, Rational(1, 2))),\n",
      "    integrate(p, (x, Rational(1,2), Rational(3, 2))),\n",
      ")\n",
      "a, b, c"
     ],
     "language": "python",
     "metadata": {},
     "outputs": [
      {
       "output_type": "pyout",
       "prompt_number": 8,
       "text": [
        "(3/4, 3/8, 1/8)"
       ]
      }
     ],
     "prompt_number": 8
    },
    {
     "cell_type": "code",
     "collapsed": false,
     "input": [
      "H = np.array([\n",
      "        [b, c, 0, 0, 0],\n",
      "        [c, a, c, 0, 0],\n",
      "        [0, c, a, c, 0],\n",
      "        [0, 0, c, a, c],\n",
      "        [0, 0, 0, c, b],\n",
      "    ])\n",
      "H"
     ],
     "language": "python",
     "metadata": {},
     "outputs": [
      {
       "output_type": "pyout",
       "prompt_number": 9,
       "text": [
        "array([[3/8, 1/8, 0, 0, 0],\n",
        "       [1/8, 3/4, 1/8, 0, 0],\n",
        "       [0, 1/8, 3/4, 1/8, 0],\n",
        "       [0, 0, 1/8, 3/4, 1/8],\n",
        "       [0, 0, 0, 1/8, 3/8]], dtype=object)"
       ]
      }
     ],
     "prompt_number": 9
    },
    {
     "cell_type": "code",
     "collapsed": false,
     "input": [
      "Hinv = np.linalg.inv(H.T)\n",
      "Hinv"
     ],
     "language": "python",
     "metadata": {},
     "outputs": [
      {
       "output_type": "pyout",
       "prompt_number": 10,
       "text": [
        "array([[ 2.82843137, -0.48529412,  0.08333333, -0.01470588,  0.00490196],\n",
        "       [-0.48529412,  1.45588235, -0.25      ,  0.04411765, -0.01470588],\n",
        "       [ 0.08333333, -0.25      ,  1.41666667, -0.25      ,  0.08333333],\n",
        "       [-0.01470588,  0.04411765, -0.25      ,  1.45588235, -0.48529412],\n",
        "       [ 0.00490196, -0.01470588,  0.08333333, -0.48529412,  2.82843137]])"
       ]
      }
     ],
     "prompt_number": 10
    },
    {
     "cell_type": "code",
     "collapsed": false,
     "input": [
      "h = Hinv[0,:]\n",
      "h"
     ],
     "language": "python",
     "metadata": {},
     "outputs": [
      {
       "output_type": "pyout",
       "prompt_number": 11,
       "text": [
        "array([ 2.82843137, -0.48529412,  0.08333333, -0.01470588,  0.00490196])"
       ]
      }
     ],
     "prompt_number": 11
    },
    {
     "cell_type": "code",
     "collapsed": false,
     "input": [
      "def R(h, j):\n",
      "    return lambda x: sum(L(x-i)*Hinv[i, j] for i in range(len(h)))\n",
      "\n",
      "xx = np.linspace(0, len(h)-1, 1000)\n",
      "\n",
      "plt.figure()\n",
      "plt.plot(xx, L(xx-0), \n",
      "         xx, L(xx-1), \n",
      "         xx, L(xx-2),\n",
      "         xx, L(xx-3),\n",
      "         xx, L(xx-4),\n",
      "        )\n",
      "\n",
      "plt.figure()\n",
      "plt.plot(xx, R(h, 0)(xx), \n",
      "         xx, R(h, 1)(xx), \n",
      "         xx, R(h, 2)(xx),\n",
      "         xx, R(h, 3)(xx),\n",
      "         xx, R(h, 4)(xx),\n",
      "        )"
     ],
     "language": "python",
     "metadata": {
      "scrolled": true
     },
     "outputs": [
      {
       "output_type": "pyout",
       "prompt_number": 12,
       "text": [
        "[<matplotlib.lines.Line2D at 0x7f5bf3286860>,\n",
        " <matplotlib.lines.Line2D at 0x7f5bf3286ba8>,\n",
        " <matplotlib.lines.Line2D at 0x7f5bf328c400>,\n",
        " <matplotlib.lines.Line2D at 0x7f5bf328cba8>,\n",
        " <matplotlib.lines.Line2D at 0x7f5bf3292390>]"
       ]
      },
      {
       "output_type": "display_data",
       "png": "[encoded data removed]",
       "text": [
        "<matplotlib.figure.Figure at 0x7f5bf3352dd8>"
       ]
      },
      {
       "output_type": "display_data",
       "png": "[encoded data removed]",
       "text": [
        "<matplotlib.figure.Figure at 0x7f5bf33784e0>"
       ]
      }
     ],
     "prompt_number": 12
    },
    {
     "cell_type": "code",
     "collapsed": true,
     "input": [],
     "language": "python",
     "metadata": {},
     "outputs": [],
     "prompt_number": 13
    }
   ],
   "metadata": {}
  }
 ]
}