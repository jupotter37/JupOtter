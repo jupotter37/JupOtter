{
 "cells": [
  {
   "cell_type": "markdown",
   "metadata": {},
   "source": [
    "# Matemática para a Administração - UFRJ (2016/2)\n",
    "# Segunda Prova - Turma A (GABARITO)"
   ]
  },
  {
   "cell_type": "markdown",
   "metadata": {},
   "source": [
    "**Questão 1.** (3 pontos) Determine $f'(x)$ das seguintes funções:  \n",
    "\n",
    "(a) $f(x) = 3x^4 - x^3 + 2x^2 + x - 9$  \n",
    "\n",
    "(b) $f(x) = (x^4 + 8)(x^2 - x - 2)$  \n",
    "\n",
    "(c) $f(x) = \\dfrac{x^2 - 5x + 7}{x^6 + 3}$  \n",
    "\n",
    "(d) $f(x) = (6x^2 + x - 1)^{90}$  \n",
    "\n",
    "(e) $f(x) = e^{2x + 1}$  \n",
    "\n",
    "(f) $f(x) = \\ln{(x^2 + 1)}$\n",
    "\n",
    "> #### **Solução**   \n",
    "\n",
    "> (a) $f'(x) = 3x^4 - x^3 + 2x^2 + x - 9$  \n",
    "\n",
    "> (b) $f(x) = (x^4 + 8)(x^2 - x - 2)$  \n",
    "\n",
    "> (c) $f(x) = \\dfrac{x^2 - 5x + 7}{x^6 + 3}$  \n",
    "\n",
    "> (d) $f(x) = (6x^2 + x - 1)^{90}$  \n",
    "\n",
    "> (e) $f(x) = e^{2x + 1}$  \n",
    "\n",
    "> (f) $f(x) = \\ln{(x^2 + 1)}$"
   ]
  },
  {
   "cell_type": "markdown",
   "metadata": {},
   "source": [
    "**Questão 2.** Determine as equações das retas tangentes às curvas, nos pontos de abscissas dadas:  \n",
    "\n",
    "(a) (1.25) $f(x) = 1 - x + 2x^2;\\,x = 0$  \n",
    "\n",
    "(b) (1.25) $f(x) = e^{-\\dfrac{1}{x}};\\,x = -1$ \n",
    "\n",
    "> #### **Solução** \n",
    "\n",
    "> (a) (1.25) $f(x) = 1 - x + 2x^2;\\,x = 0$  \n",
    "\n",
    "> (b) (1.25) $f(x) = e^{-\\dfrac{1}{x}};\\,x = -1$ "
   ]
  },
  {
   "cell_type": "markdown",
   "metadata": {},
   "source": [
    "**Questão 3.** (2 pontos) Os executivos de uma importadora de arroz determinam que a demanda dos consumidores é aproximadamente igual a: \n",
    "$$A(x) = \\dfrac{5000}{x^2}$$\n",
    "toneladas por semana, quando o preço for $x$ reais. \n",
    "Estima-se que daqui a $t$ semanas o preço do arroz será modelado por $x(t) = 0.02t^2 + 0.1t + 2$ reais por tonelada.\n",
    "Qual será a taxa de variação da demanda semanal daqui a 10 semanas?\n",
    "\n",
    "> #### **Solução**   \n",
    "Substituindo $p = 5$ na expressão dada, obtemos $x = -18$ ou $x = 3$. Como não faz sentido demanda negativa, temos:  \n",
    "$x = 3$, ou seja, para o preço de $R\\$$ 5,00 a demanda do produto é de 300 unidades.  \n",
    "\n",
    "> Derivando a expressão implicitamente em relação ao tempo $t$:  \n",
    "$2x\\dfrac{dx}{dt} + 3x\\dfrac{dp}{dt} + 3p\\dfrac{dx}{dt} + 2p\\dfrac{dp}{dt} = 0$  \n",
    "Agrupando os termos  \n",
    "$(2x + 3p)\\dfrac{dx}{dt} = (- 3x - 2p)\\dfrac{dp}{dt}$.  \n",
    "Finalmente podemos expressar $\\dfrac{dx}{dt}$ (taxa de variação da demanda em relação ao tempo) em termos do preço, da demanda e da taxa de variação do preço em relação ao tempo (dada no enunciado) como  \n",
    "$\\dfrac{dx}{dt} = \\left(\\dfrac{-3x - 2p}{2x + 3p}\\right)\\dfrac{dp}{dt}$, onde sabemos que $p = 5$, $x = 3$ e $\\dfrac{dp}{dt} = -0.30$ (preço diminui à taxa de 30 centavos/mês).  \n",
    "Logo:\n",
    "$\\dfrac{dx}{dt} = \\dfrac{-3(3) - 2(5)}{2(3) + 3(5)}(-0.30)$\n",
    "$\\fbox{$\\dfrac{dx}{dt} \\approx 0,27$}$, ou seja, a demanda estará aumentando à taxa de 27 unidades/mês para as condições dadas."
   ]
  },
  {
   "cell_type": "markdown",
   "metadata": {},
   "source": [
    "**Questão 4** Usando derivação implícita, calcule $y'$:  \n",
    "\n",
    "(a) (1.25) $2xy + y^4 = 5$  \n",
    "\n",
    "(b) (1.25) $x^2y = 4e^{-x} + \\ln{y}$  \n",
    "\n",
    "> #### **Solução** \n",
    "\n",
    "> (a) (1.25) $2xy + y^4 = 5$  \n",
    "\n",
    "> (b) (1.25) $x^2y = 4e^{-x} + \\ln{y}$"
   ]
  },
  {
   "cell_type": "code",
   "execution_count": null,
   "metadata": {
    "collapsed": true
   },
   "outputs": [],
   "source": []
  }
 ],
 "metadata": {
  "anaconda-cloud": {},
  "kernelspec": {
   "display_name": "Python [default]",
   "language": "python",
   "name": "python3"
  },
  "language_info": {
   "codemirror_mode": {
    "name": "ipython",
    "version": 3
   },
   "file_extension": ".py",
   "mimetype": "text/x-python",
   "name": "python",
   "nbconvert_exporter": "python",
   "pygments_lexer": "ipython3",
   "version": "3.5.2"
  }
 },
 "nbformat": 4,
 "nbformat_minor": 0
}
