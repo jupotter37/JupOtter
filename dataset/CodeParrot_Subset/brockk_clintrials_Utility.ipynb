{
 "cells": [
  {
   "cell_type": "markdown",
   "metadata": {
    "collapsed": true
   },
   "source": [
    "# Implementing the EffTox Dose-Finding Design in the Matchpoint Trials"
   ]
  },
  {
   "cell_type": "markdown",
   "metadata": {},
   "source": [
    "This tutorial complements the manuscript _Implementing the EffTox Dose-Finding Design in the Matchpoint Trial_ (Brock _et al_.,in submission). Please consult the paper for the clinical background, the methodology details, and full explanation of the terminology."
   ]
  },
  {
   "cell_type": "markdown",
   "metadata": {},
   "source": [
    "## Posterior Utility"
   ]
  },
  {
   "cell_type": "markdown",
   "metadata": {},
   "source": [
    "In this notebook, we illustrate posterior utility plots of selected doses using the EffTox design in the seamless phase I/II dose-finding clinical trial, Matchpoint."
   ]
  },
  {
   "cell_type": "code",
   "execution_count": 15,
   "metadata": {
    "collapsed": false
   },
   "outputs": [],
   "source": [
    "import numpy as np\n",
    "from scipy.stats import norm\n",
    "\n",
    "from clintrials.dosefinding.efftox import EffTox, LpNormCurve"
   ]
  },
  {
   "cell_type": "code",
   "execution_count": 2,
   "metadata": {
    "collapsed": true
   },
   "outputs": [],
   "source": [
    "%matplotlib inline"
   ]
  },
  {
   "cell_type": "code",
   "execution_count": 3,
   "metadata": {
    "collapsed": true
   },
   "outputs": [],
   "source": [
    "real_doses = [7.5, 15, 30, 45]\n",
    "trial_size = 30\n",
    "cohort_size = 3\n",
    "first_dose = 3\n",
    "prior_tox_probs = (0.025, 0.05, 0.1, 0.25)\n",
    "prior_eff_probs = (0.2, 0.3, 0.5, 0.6)\n",
    "tox_cutoff = 0.40\n",
    "eff_cutoff = 0.45\n",
    "tox_certainty = 0.05\n",
    "eff_certainty = 0.03"
   ]
  },
  {
   "cell_type": "code",
   "execution_count": 4,
   "metadata": {
    "collapsed": true
   },
   "outputs": [],
   "source": [
    "mu_t_mean, mu_t_sd = -5.4317, 2.7643\n",
    "beta_t_mean, beta_t_sd = 3.1761, 2.7703\n",
    "mu_e_mean, mu_e_sd = -0.8442, 1.9786\n",
    "beta_e_1_mean, beta_e_1_sd = 1.9857, 1.9820\n",
    "beta_e_2_mean, beta_e_2_sd = 0, 0.2\n",
    "psi_mean, psi_sd = 0, 1\n",
    "efftox_priors = [\n",
    "    norm(loc=mu_t_mean, scale=mu_t_sd),\n",
    "    norm(loc=beta_t_mean, scale=beta_t_sd),\n",
    "    norm(loc=mu_e_mean, scale=mu_e_sd),\n",
    "    norm(loc=beta_e_1_mean, scale=beta_e_1_sd),\n",
    "    norm(loc=beta_e_2_mean, scale=beta_e_2_sd),\n",
    "    norm(loc=psi_mean, scale=psi_sd),\n",
    "    ]"
   ]
  },
  {
   "cell_type": "markdown",
   "metadata": {},
   "source": [
    "The above parameters are explained in the manuscript."
   ]
  },
  {
   "cell_type": "code",
   "execution_count": 5,
   "metadata": {
    "collapsed": true
   },
   "outputs": [],
   "source": [
    "hinge_points = [(0.4, 0), (1, 0.7), (0.5, 0.4)]\n",
    "metric = LpNormCurve(hinge_points[0][0], hinge_points[1][1], hinge_points[2][0], hinge_points[2][1])"
   ]
  },
  {
   "cell_type": "code",
   "execution_count": 6,
   "metadata": {
    "collapsed": true
   },
   "outputs": [],
   "source": [
    "et = EffTox(real_doses, efftox_priors, tox_cutoff, eff_cutoff, tox_certainty, eff_certainty, metric, trial_size,\n",
    "            first_dose)"
   ]
  },
  {
   "cell_type": "markdown",
   "metadata": {},
   "source": [
    "The EffTox class is an object-oriented implementation of the trial design by Thall & Cook (Thall, P. F., & Cook, J. D. (2004). Dose-Finding Based on Efficacy-Toxicity Trade-Offs. Biometrics, 60(3), 684–693.)"
   ]
  },
  {
   "cell_type": "markdown",
   "metadata": {},
   "source": [
    "## After observing outcomes 3NTE"
   ]
  },
  {
   "cell_type": "markdown",
   "metadata": {},
   "source": [
    "Outcomes for a patient are represented by a three item tuple, where:\n",
    "\n",
    "- first item is 1-based dose-index give (i.e. 3 is dose-level 3);\n",
    "- second item is 1 if toxicity happened, else 0;\n",
    "- third item is 1 if efficacy happened, else 0.\n",
    "\n",
    "Outcomes for several patients are represented as lists:"
   ]
  },
  {
   "cell_type": "code",
   "execution_count": 7,
   "metadata": {
    "collapsed": true
   },
   "outputs": [],
   "source": [
    "outcomes1 = [(3, 0, 0), (3, 1, 0), (3, 0, 1)]"
   ]
  },
  {
   "cell_type": "code",
   "execution_count": 8,
   "metadata": {
    "collapsed": false
   },
   "outputs": [
    {
     "data": {
      "text/plain": [
       "4"
      ]
     },
     "execution_count": 8,
     "metadata": {},
     "output_type": "execute_result"
    }
   ],
   "source": [
    "np.random.seed(123)\n",
    "et.update(outcomes1, n=10**6)"
   ]
  },
  {
   "cell_type": "markdown",
   "metadata": {},
   "source": [
    "In this instance, escalation to dose-level 4 is recommended."
   ]
  },
  {
   "cell_type": "code",
   "execution_count": 9,
   "metadata": {
    "collapsed": false
   },
   "outputs": [
    {
     "data": {
      "text/html": [
       "<div>\n",
       "<table border=\"1\" class=\"dataframe\">\n",
       "  <thead>\n",
       "    <tr style=\"text-align: right;\">\n",
       "      <th></th>\n",
       "      <th>Dose</th>\n",
       "      <th>N</th>\n",
       "      <th>Efficacies</th>\n",
       "      <th>Toxicities</th>\n",
       "      <th>EffRate</th>\n",
       "      <th>ToxRate</th>\n",
       "      <th>P(Eff)</th>\n",
       "      <th>P(Tox)</th>\n",
       "      <th>P(AccEff)</th>\n",
       "      <th>P(AccTox)</th>\n",
       "      <th>Admissible</th>\n",
       "      <th>Utility</th>\n",
       "    </tr>\n",
       "  </thead>\n",
       "  <tbody>\n",
       "    <tr>\n",
       "      <th>0</th>\n",
       "      <td>1</td>\n",
       "      <td>0</td>\n",
       "      <td>0</td>\n",
       "      <td>0</td>\n",
       "      <td>NaN</td>\n",
       "      <td>NaN</td>\n",
       "      <td>0.160180</td>\n",
       "      <td>0.034322</td>\n",
       "      <td>0.132111</td>\n",
       "      <td>0.973928</td>\n",
       "      <td>True</td>\n",
       "      <td>-0.400358</td>\n",
       "    </tr>\n",
       "    <tr>\n",
       "      <th>1</th>\n",
       "      <td>2</td>\n",
       "      <td>0</td>\n",
       "      <td>0</td>\n",
       "      <td>0</td>\n",
       "      <td>NaN</td>\n",
       "      <td>NaN</td>\n",
       "      <td>0.207549</td>\n",
       "      <td>0.049932</td>\n",
       "      <td>0.132074</td>\n",
       "      <td>0.976966</td>\n",
       "      <td>True</td>\n",
       "      <td>-0.322274</td>\n",
       "    </tr>\n",
       "    <tr>\n",
       "      <th>2</th>\n",
       "      <td>3</td>\n",
       "      <td>3</td>\n",
       "      <td>1</td>\n",
       "      <td>1</td>\n",
       "      <td>0.333333</td>\n",
       "      <td>0.333333</td>\n",
       "      <td>0.375305</td>\n",
       "      <td>0.232804</td>\n",
       "      <td>0.324318</td>\n",
       "      <td>0.826467</td>\n",
       "      <td>True</td>\n",
       "      <td>-0.087531</td>\n",
       "    </tr>\n",
       "    <tr>\n",
       "      <th>3</th>\n",
       "      <td>4</td>\n",
       "      <td>0</td>\n",
       "      <td>0</td>\n",
       "      <td>0</td>\n",
       "      <td>NaN</td>\n",
       "      <td>NaN</td>\n",
       "      <td>0.517751</td>\n",
       "      <td>0.521629</td>\n",
       "      <td>0.602753</td>\n",
       "      <td>0.354400</td>\n",
       "      <td>True</td>\n",
       "      <td>-0.083545</td>\n",
       "    </tr>\n",
       "  </tbody>\n",
       "</table>\n",
       "</div>"
      ],
      "text/plain": [
       "   Dose  N  Efficacies  Toxicities   EffRate   ToxRate    P(Eff)    P(Tox)  \\\n",
       "0     1  0           0           0       NaN       NaN  0.160180  0.034322   \n",
       "1     2  0           0           0       NaN       NaN  0.207549  0.049932   \n",
       "2     3  3           1           1  0.333333  0.333333  0.375305  0.232804   \n",
       "3     4  0           0           0       NaN       NaN  0.517751  0.521629   \n",
       "\n",
       "   P(AccEff)  P(AccTox) Admissible   Utility  \n",
       "0   0.132111   0.973928       True -0.400358  \n",
       "1   0.132074   0.976966       True -0.322274  \n",
       "2   0.324318   0.826467       True -0.087531  \n",
       "3   0.602753   0.354400       True -0.083545  "
      ]
     },
     "execution_count": 9,
     "metadata": {},
     "output_type": "execute_result"
    }
   ],
   "source": [
    "et.tabulate()"
   ]
  },
  {
   "cell_type": "markdown",
   "metadata": {},
   "source": [
    "We see that all doses are admissible in this instance, and that the utilities of dose-levels 3 and 4 are very similar. _Dose Ambivalence_ is the likely result, i.e. after observing 3NTE in the Matchpoint trial, the design would have recommended dose 3 or dose 4. The reason is made plain by the plot below."
   ]
  },
  {
   "cell_type": "code",
   "execution_count": 10,
   "metadata": {
    "collapsed": false
   },
   "outputs": [
    {
     "name": "stderr",
     "output_type": "stream",
     "text": [
      "//anaconda/lib/python2.7/site-packages/matplotlib/__init__.py:872: UserWarning: axes.color_cycle is deprecated and replaced with axes.prop_cycle; please use the latter.\n",
      "  warnings.warn(self.msg_depr % (key, alt_key))\n"
     ]
    },
    {
     "data": {
      "image/png": "[encoded data removed]",
      "text/plain": [
       "<matplotlib.figure.Figure at 0x11d0b2f50>"
      ]
     },
     "metadata": {},
     "output_type": "display_data"
    },
    {
     "data": {
      "text/plain": [
       "<ggplot: (284607041)>"
      ]
     },
     "execution_count": 10,
     "metadata": {},
     "output_type": "execute_result"
    }
   ],
   "source": [
    "et.plot_posterior_utility_density(include_doses=[3,4], boot_samps=1000)"
   ]
  },
  {
   "cell_type": "markdown",
   "metadata": {},
   "source": [
    "The posterior distributions of the utility of doses 3 and 4 largely occupy the same space so picking between them is difficult. In the Ambivalence.ipynb tutorial, we demonstrate a method for dealing with dose ambivalence.\n",
    "\n",
    "The plot above is similar (but not identical) to Figure 2 in the publication. I used the R package `ggplot2` to produce the plots for the paper because the R package is more mature than the Python version. For instance, I could not get a legend to appear in Python. "
   ]
  },
  {
   "cell_type": "markdown",
   "metadata": {},
   "source": [
    "## After observing outcomes 2NNN 3ENN 4EBE 3TEE 4NEE"
   ]
  },
  {
   "cell_type": "code",
   "execution_count": 11,
   "metadata": {
    "collapsed": true
   },
   "outputs": [],
   "source": [
    "outcomes2 = [\n",
    "    (2, 0, 0), (2, 0, 0), (2, 0, 0),\n",
    "    (3, 0, 1), (3, 0, 0), (3, 0, 0),\n",
    "    (4, 0, 1), (4, 1, 1), (4, 0, 1),\n",
    "    (3, 1, 0), (3, 0, 1), (3, 0, 1),\n",
    "    (4, 0, 0), (4, 0, 1), (4, 0, 1),\n",
    "            ]"
   ]
  },
  {
   "cell_type": "code",
   "execution_count": 12,
   "metadata": {
    "collapsed": false
   },
   "outputs": [
    {
     "data": {
      "text/plain": [
       "4"
      ]
     },
     "execution_count": 12,
     "metadata": {},
     "output_type": "execute_result"
    }
   ],
   "source": [
    "et.reset()\n",
    "et.update(outcomes2, n=10**6)"
   ]
  },
  {
   "cell_type": "code",
   "execution_count": 13,
   "metadata": {
    "collapsed": false
   },
   "outputs": [
    {
     "data": {
      "text/html": [
       "<div>\n",
       "<table border=\"1\" class=\"dataframe\">\n",
       "  <thead>\n",
       "    <tr style=\"text-align: right;\">\n",
       "      <th></th>\n",
       "      <th>Dose</th>\n",
       "      <th>N</th>\n",
       "      <th>Efficacies</th>\n",
       "      <th>Toxicities</th>\n",
       "      <th>EffRate</th>\n",
       "      <th>ToxRate</th>\n",
       "      <th>P(Eff)</th>\n",
       "      <th>P(Tox)</th>\n",
       "      <th>P(AccEff)</th>\n",
       "      <th>P(AccTox)</th>\n",
       "      <th>Admissible</th>\n",
       "      <th>Utility</th>\n",
       "    </tr>\n",
       "  </thead>\n",
       "  <tbody>\n",
       "    <tr>\n",
       "      <th>0</th>\n",
       "      <td>1</td>\n",
       "      <td>0</td>\n",
       "      <td>0</td>\n",
       "      <td>0</td>\n",
       "      <td>NaN</td>\n",
       "      <td>NaN</td>\n",
       "      <td>0.037049</td>\n",
       "      <td>0.020184</td>\n",
       "      <td>0.006575</td>\n",
       "      <td>0.993906</td>\n",
       "      <td>False</td>\n",
       "      <td>-0.605108</td>\n",
       "    </tr>\n",
       "    <tr>\n",
       "      <th>1</th>\n",
       "      <td>2</td>\n",
       "      <td>3</td>\n",
       "      <td>0</td>\n",
       "      <td>0</td>\n",
       "      <td>0.000000</td>\n",
       "      <td>0.000000</td>\n",
       "      <td>0.131565</td>\n",
       "      <td>0.028580</td>\n",
       "      <td>0.025895</td>\n",
       "      <td>0.998559</td>\n",
       "      <td>False</td>\n",
       "      <td>-0.447828</td>\n",
       "    </tr>\n",
       "    <tr>\n",
       "      <th>2</th>\n",
       "      <td>3</td>\n",
       "      <td>6</td>\n",
       "      <td>3</td>\n",
       "      <td>1</td>\n",
       "      <td>0.500000</td>\n",
       "      <td>0.166667</td>\n",
       "      <td>0.504060</td>\n",
       "      <td>0.078842</td>\n",
       "      <td>0.644865</td>\n",
       "      <td>0.999206</td>\n",
       "      <td>True</td>\n",
       "      <td>0.166992</td>\n",
       "    </tr>\n",
       "    <tr>\n",
       "      <th>3</th>\n",
       "      <td>4</td>\n",
       "      <td>6</td>\n",
       "      <td>5</td>\n",
       "      <td>1</td>\n",
       "      <td>0.833333</td>\n",
       "      <td>0.166667</td>\n",
       "      <td>0.774475</td>\n",
       "      <td>0.206620</td>\n",
       "      <td>0.984291</td>\n",
       "      <td>0.886853</td>\n",
       "      <td>True</td>\n",
       "      <td>0.527321</td>\n",
       "    </tr>\n",
       "  </tbody>\n",
       "</table>\n",
       "</div>"
      ],
      "text/plain": [
       "   Dose  N  Efficacies  Toxicities   EffRate   ToxRate    P(Eff)    P(Tox)  \\\n",
       "0     1  0           0           0       NaN       NaN  0.037049  0.020184   \n",
       "1     2  3           0           0  0.000000  0.000000  0.131565  0.028580   \n",
       "2     3  6           3           1  0.500000  0.166667  0.504060  0.078842   \n",
       "3     4  6           5           1  0.833333  0.166667  0.774475  0.206620   \n",
       "\n",
       "   P(AccEff)  P(AccTox) Admissible   Utility  \n",
       "0   0.006575   0.993906      False -0.605108  \n",
       "1   0.025895   0.998559      False -0.447828  \n",
       "2   0.644865   0.999206       True  0.166992  \n",
       "3   0.984291   0.886853       True  0.527321  "
      ]
     },
     "execution_count": 13,
     "metadata": {},
     "output_type": "execute_result"
    }
   ],
   "source": [
    "et.tabulate()"
   ]
  },
  {
   "cell_type": "markdown",
   "metadata": {},
   "source": [
    "Dose 4 is now clearly the preferable dose. "
   ]
  },
  {
   "cell_type": "code",
   "execution_count": 14,
   "metadata": {
    "collapsed": false
   },
   "outputs": [
    {
     "data": {
      "image/png": "[encoded data removed]",
      "text/plain": [
       "<matplotlib.figure.Figure at 0x1019a5450>"
      ]
     },
     "metadata": {},
     "output_type": "display_data"
    },
    {
     "data": {
      "text/plain": [
       "<ggplot: (270116133)>"
      ]
     },
     "execution_count": 14,
     "metadata": {},
     "output_type": "execute_result"
    }
   ],
   "source": [
    "et.plot_posterior_utility_density(include_doses=[3,4], boot_samps=1000)"
   ]
  },
  {
   "cell_type": "markdown",
   "metadata": {},
   "source": [
    "That is reflected in the estimates of the posterior utility curves.\n",
    "\n",
    "The plot above is similar (but not identical) to Figure 3 in the publication."
   ]
  },
  {
   "cell_type": "code",
   "execution_count": null,
   "metadata": {
    "collapsed": true
   },
   "outputs": [],
   "source": []
  }
 ],
 "metadata": {
  "kernelspec": {
   "display_name": "Python 2",
   "language": "python",
   "name": "python2"
  },
  "language_info": {
   "codemirror_mode": {
    "name": "ipython",
    "version": 2
   },
   "file_extension": ".py",
   "mimetype": "text/x-python",
   "name": "python",
   "nbconvert_exporter": "python",
   "pygments_lexer": "ipython2",
   "version": "2.7.11"
  }
 },
 "nbformat": 4,
 "nbformat_minor": 0
}
