{
 "cells": [
  {
   "cell_type": "code",
   "execution_count": null,
   "metadata": {
    "execution": {
     "iopub.execute_input": "2021-06-05T22:57:13.593506Z",
     "iopub.status.busy": "2021-06-05T22:57:13.592614Z",
     "iopub.status.idle": "2021-06-05T22:57:13.607174Z",
     "shell.execute_reply": "2021-06-05T22:57:13.607743Z"
    },
    "tags": []
   },
   "outputs": [],
   "source": [
    "%load_ext autoreload\n",
    "%autoreload 2"
   ]
  },
  {
   "cell_type": "code",
   "execution_count": null,
   "metadata": {
    "ExecuteTime": {
     "end_time": "2018-07-10T08:51:35.021387Z",
     "start_time": "2018-07-10T08:51:32.209467Z"
    },
    "execution": {
     "iopub.execute_input": "2021-06-05T22:57:13.611785Z",
     "iopub.status.busy": "2021-06-05T22:57:13.611028Z",
     "iopub.status.idle": "2021-06-05T22:57:14.320835Z",
     "shell.execute_reply": "2021-06-05T22:57:14.321393Z"
    },
    "tags": []
   },
   "outputs": [],
   "source": [
    "from __init__ import *"
   ]
  },
  {
   "cell_type": "code",
   "execution_count": null,
   "metadata": {
    "execution": {
     "iopub.execute_input": "2021-06-05T22:57:14.325477Z",
     "iopub.status.busy": "2021-06-05T22:57:14.324802Z",
     "iopub.status.idle": "2021-06-05T22:57:14.369230Z",
     "shell.execute_reply": "2021-06-05T22:57:14.369741Z"
    },
    "tags": []
   },
   "outputs": [],
   "source": [
    "bi_co_sa = pd.read_csv(\"../output/01_comparison_sample.tsv\", \"\\t\", index_col=0)\n",
    "\n",
    "sc_se_sa = pd.read_csv(\"../output/score_set_sample.tsv\", \"\\t\", index_col=0)"
   ]
  },
  {
   "cell_type": "code",
   "execution_count": null,
   "metadata": {
    "execution": {
     "iopub.execute_input": "2021-06-05T22:57:14.373834Z",
     "iopub.status.busy": "2021-06-05T22:57:14.373135Z",
     "iopub.status.idle": "2021-06-05T22:57:14.405536Z",
     "shell.execute_reply": "2021-06-05T22:57:14.406032Z"
    }
   },
   "outputs": [],
   "source": [
    "sc_se_sa.isna().sum(1).sort_values()"
   ]
  },
  {
   "cell_type": "code",
   "execution_count": null,
   "metadata": {
    "execution": {
     "iopub.execute_input": "2021-06-05T22:57:14.410167Z",
     "iopub.status.busy": "2021-06-05T22:57:14.409481Z",
     "iopub.status.idle": "2021-06-05T22:57:15.257428Z",
     "shell.execute_reply": "2021-06-05T22:57:15.257952Z"
    },
    "tags": []
   },
   "outputs": [],
   "source": [
    "na_se_fe_ = {}\n",
    "\n",
    "pa = \"../input/set/\"\n",
    "\n",
    "for na in os.listdir(pa):\n",
    "\n",
    "    na_se_fe_[na] = kraft.gmt.read([\"{}{}\".format(pa, na)])"
   ]
  },
  {
   "cell_type": "code",
   "execution_count": null,
   "metadata": {
    "execution": {
     "iopub.execute_input": "2021-06-05T22:57:15.266451Z",
     "iopub.status.busy": "2021-06-05T22:57:15.265749Z",
     "iopub.status.idle": "2021-06-05T23:12:53.024963Z",
     "shell.execute_reply": "2021-06-05T23:12:53.025480Z"
    },
    "tags": []
   },
   "outputs": [],
   "source": [
    "fu = kraft.information.get_ic\n",
    "\n",
    "funa = fu.__name__\n",
    "\n",
    "ke = {\n",
    "    \"tyta\": \"binary\",\n",
    "    \"st\": SETTING[\"st\"],\n",
    "}\n",
    "\n",
    "for co, ta in bi_co_sa.iterrows():\n",
    "\n",
    "    ta.dropna(inplace=True)\n",
    "\n",
    "    pa = \"../output/compare_set/{}/{}/\".format(kraft.path.clean(co), funa)\n",
    "\n",
    "    kraft.path.make(pa)\n",
    "\n",
    "    st = kraft.function_heat_map.make(\n",
    "        ta,\n",
    "        sc_se_sa,\n",
    "        fu,\n",
    "        n_jo=SETTING[\"n_jo\"],\n",
    "        n_sa=SETTING[\"n_sa\"],\n",
    "        n_sh=SETTING[\"n_sh\"],\n",
    "        n_pl=SETTING[\"n_ex\"],\n",
    "        title=\"All ({})\".format(funa),\n",
    "        pa=pa,\n",
    "        **ke,\n",
    "    )\n",
    "\n",
    "    if 0 < len(SETTING[\"se_\"]):\n",
    "\n",
    "        kraft.function_heat_map.make(\n",
    "            ta,\n",
    "            sc_se_sa.reindex(SETTING[\"se_\"]),\n",
    "            st,\n",
    "            n_pl=None,\n",
    "            title=\"Peek ({})\".format(funa),\n",
    "            **ke,\n",
    "        )\n",
    "\n",
    "        plot_peek(st[\"Score\"], SETTING[\"se_\"], pa)\n",
    "\n",
    "    for na, se_fe_ in na_se_fe_.items():\n",
    "\n",
    "        pa2 = \"{}{}/\".format(pa, na)\n",
    "\n",
    "        kraft.path.make(pa2)\n",
    "\n",
    "        se_ = sc_se_sa.index.intersection(se_fe_)\n",
    "\n",
    "        if 0 < len(se_):\n",
    "\n",
    "            kraft.function_heat_map.make(\n",
    "                ta,\n",
    "                sc_se_sa.loc[se_, :],\n",
    "                st,\n",
    "                n_pl=SETTING[\"n_ex\"],\n",
    "                title=\"{} ({})\".format(na, funa),\n",
    "                pa=pa2,\n",
    "                **ke,\n",
    "            )"
   ]
  }
 ],
 "metadata": {
  "kernelspec": {
   "display_name": "Python 3",
   "language": "python",
   "name": "python3"
  },
  "language_info": {
   "codemirror_mode": {
    "name": "ipython",
    "version": 3
   },
   "file_extension": ".py",
   "mimetype": "text/x-python",
   "name": "python",
   "nbconvert_exporter": "python",
   "pygments_lexer": "ipython3",
   "version": "3.8.9"
  }
 },
 "nbformat": 4,
 "nbformat_minor": 4
}
