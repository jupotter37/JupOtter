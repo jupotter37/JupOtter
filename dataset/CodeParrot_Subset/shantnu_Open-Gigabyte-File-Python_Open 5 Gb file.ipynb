{
 "cells": [
  {
   "cell_type": "markdown",
   "metadata": {},
   "source": [
    " Download the file: http://download.cms.gov/nppes/NPI_Files.html\n",
    "\n",
    "Remember to use 7zip to unzip it!\n",
    "\n",
    "Also download: http://sqlitebrowser.org/"
   ]
  },
  {
   "cell_type": "code",
   "execution_count": 1,
   "metadata": {
    "collapsed": true
   },
   "outputs": [],
   "source": [
    "import sqlite3\n",
    "db = \"npi_data.db\""
   ]
  },
  {
   "cell_type": "code",
   "execution_count": 2,
   "metadata": {
    "collapsed": true
   },
   "outputs": [],
   "source": [
    "conn = sqlite3.connect(db)\n",
    "c = conn.cursor()"
   ]
  },
  {
   "cell_type": "code",
   "execution_count": null,
   "metadata": {
    "collapsed": false
   },
   "outputs": [],
   "source": [
    "c.execute(\"CREATE TABLE npi_data (name TEXT, legal_name TEXT, city TEXT, state TEXT)\")\n",
    "conn.commit()"
   ]
  },
  {
   "cell_type": "code",
   "execution_count": 23,
   "metadata": {
    "collapsed": false
   },
   "outputs": [
    {
     "name": "stdout",
     "output_type": "stream",
     "text": [
      "4740851\n"
     ]
    }
   ],
   "source": [
    "counter = 0\n",
    "db_list = []\n",
    "with open(\"npidata_20050523-20151108.csv\") as infile:\n",
    "    for line in infile:\n",
    "        line = line.replace('\"', '')\n",
    "        data = line.split(\",\")\n",
    "        if (counter > 0):\n",
    "            city  = data[22]\n",
    "            state = data[23]\n",
    "            name  = data[6] + \" \" + data[7] + \" \" + data[5]\n",
    "            legal_name = data[4]\n",
    "            \n",
    "            db_list.append( (name, legal_name, city, state) )\n",
    "            \n",
    "            #print(\"Name: \" + data[6] + \" \" + data[7] + \" \" + data[5])\n",
    "            #print(\"Legal Name: \" + data[4])\n",
    "            # print(data[22], data[23])\n",
    "            #print(\"\\n\\n\")\n",
    "            #print(line)\n",
    "        #if counter == 5:\n",
    "        #    break\n",
    "        counter += 1\n",
    "print(len(db_list)        )"
   ]
  },
  {
   "cell_type": "code",
   "execution_count": 25,
   "metadata": {
    "collapsed": false
   },
   "outputs": [
    {
     "data": {
      "text/plain": [
       "<sqlite3.Cursor at 0x415b570>"
      ]
     },
     "execution_count": 25,
     "metadata": {},
     "output_type": "execute_result"
    }
   ],
   "source": [
    "c.executemany(\"INSERT INTO npi_data VALUES (?, ?, ?, ?)\", db_list)"
   ]
  },
  {
   "cell_type": "code",
   "execution_count": 26,
   "metadata": {
    "collapsed": true
   },
   "outputs": [],
   "source": [
    "conn.commit()\n",
    "conn.close()"
   ]
  },
  {
   "cell_type": "code",
   "execution_count": null,
   "metadata": {
    "collapsed": true
   },
   "outputs": [],
   "source": []
  }
 ],
 "metadata": {
  "kernelspec": {
   "display_name": "Python 3",
   "language": "python",
   "name": "python3"
  },
  "language_info": {
   "codemirror_mode": {
    "name": "ipython",
    "version": 3
   },
   "file_extension": ".py",
   "mimetype": "text/x-python",
   "name": "python",
   "nbconvert_exporter": "python",
   "pygments_lexer": "ipython3",
   "version": "3.4.3"
  }
 },
 "nbformat": 4,
 "nbformat_minor": 0
}
