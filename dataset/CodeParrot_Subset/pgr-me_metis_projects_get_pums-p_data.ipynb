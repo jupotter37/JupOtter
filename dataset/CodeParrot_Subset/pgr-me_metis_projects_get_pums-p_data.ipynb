{
 "cells": [
  {
   "cell_type": "code",
   "execution_count": 5,
   "metadata": {
    "collapsed": false
   },
   "outputs": [],
   "source": [
    "import csv\n",
    "import urllib\n",
    "import urllib2\n",
    "import os\n",
    "import pandas as pd\n",
    "import zipfile\n",
    "import fnmatch\n",
    "import shutil\n",
    "import glob"
   ]
  },
  {
   "cell_type": "code",
   "execution_count": 6,
   "metadata": {
    "collapsed": false
   },
   "outputs": [
    {
     "data": {
      "text/plain": [
       "[['01', 'AL', 'Alabama', '01779775'],\n",
       " ['02', 'AK', 'Alaska', '01785533'],\n",
       " ['04', 'AZ', 'Arizona', '01779777']]"
      ]
     },
     "execution_count": 6,
     "metadata": {},
     "output_type": "execute_result"
    }
   ],
   "source": [
    "states_url = 'http://www2.census.gov/geo/docs/reference/state.txt'\n",
    "response = urllib2.urlopen(states_url)\n",
    "cr = csv.reader(response)\n",
    "\n",
    "states_list_1 = []\n",
    "for row in cr:\n",
    "    states_list_1.append(row)\n",
    "states_list_1.pop(0)\n",
    "\n",
    "states_list_2 = []\n",
    "for element in states_list_1:\n",
    "    for string in element:\n",
    "        split_string = string.split(\"|\")\n",
    "        states_list_2.append(split_string)\n",
    "\n",
    "states_list_2[:3]"
   ]
  },
  {
   "cell_type": "code",
   "execution_count": 7,
   "metadata": {
    "collapsed": false
   },
   "outputs": [
    {
     "data": {
      "text/html": [
       "<div>\n",
       "<table border=\"1\" class=\"dataframe\">\n",
       "  <thead>\n",
       "    <tr style=\"text-align: right;\">\n",
       "      <th></th>\n",
       "      <th>id</th>\n",
       "      <th>abr</th>\n",
       "      <th>name</th>\n",
       "      <th>num</th>\n",
       "    </tr>\n",
       "  </thead>\n",
       "  <tbody>\n",
       "    <tr>\n",
       "      <th>0</th>\n",
       "      <td>01</td>\n",
       "      <td>al</td>\n",
       "      <td>Alabama</td>\n",
       "      <td>01779775</td>\n",
       "    </tr>\n",
       "    <tr>\n",
       "      <th>1</th>\n",
       "      <td>02</td>\n",
       "      <td>ak</td>\n",
       "      <td>Alaska</td>\n",
       "      <td>01785533</td>\n",
       "    </tr>\n",
       "    <tr>\n",
       "      <th>2</th>\n",
       "      <td>04</td>\n",
       "      <td>az</td>\n",
       "      <td>Arizona</td>\n",
       "      <td>01779777</td>\n",
       "    </tr>\n",
       "  </tbody>\n",
       "</table>\n",
       "</div>"
      ],
      "text/plain": [
       "   id abr     name       num\n",
       "0  01  al  Alabama  01779775\n",
       "1  02  ak   Alaska  01785533\n",
       "2  04  az  Arizona  01779777"
      ]
     },
     "execution_count": 7,
     "metadata": {},
     "output_type": "execute_result"
    }
   ],
   "source": [
    "df_states = pd.DataFrame(states_list_2)\n",
    "df_states.columns = ['id', 'abr', 'name', 'num']\n",
    "df_states['abr'] = df_states['abr'].str.lower()\n",
    "df_states.head(3)"
   ]
  },
  {
   "cell_type": "code",
   "execution_count": 8,
   "metadata": {
    "collapsed": false
   },
   "outputs": [],
   "source": [
    "# make directories\n",
    "\n",
    "data_dir = 'data'\n",
    "if not os.path.exists(data_dir):\n",
    "    os.makedirs(data_dir)\n",
    "    \n",
    "pums_dir = 'data/pums-p'\n",
    "if not os.path.exists(pums_dir):\n",
    "    os.makedirs(pums_dir)"
   ]
  },
  {
   "cell_type": "code",
   "execution_count": 9,
   "metadata": {
    "collapsed": false,
    "scrolled": true
   },
   "outputs": [
    {
     "data": {
      "text/html": [
       "<div>\n",
       "<table border=\"1\" class=\"dataframe\">\n",
       "  <thead>\n",
       "    <tr style=\"text-align: right;\">\n",
       "      <th></th>\n",
       "      <th>id</th>\n",
       "      <th>abr</th>\n",
       "      <th>name</th>\n",
       "      <th>num</th>\n",
       "      <th>url</th>\n",
       "    </tr>\n",
       "  </thead>\n",
       "  <tbody>\n",
       "    <tr>\n",
       "      <th>0</th>\n",
       "      <td>01</td>\n",
       "      <td>al</td>\n",
       "      <td>Alabama</td>\n",
       "      <td>01779775</td>\n",
       "      <td>http://www2.census.gov/programs-surveys/acs/da...</td>\n",
       "    </tr>\n",
       "    <tr>\n",
       "      <th>1</th>\n",
       "      <td>02</td>\n",
       "      <td>ak</td>\n",
       "      <td>Alaska</td>\n",
       "      <td>01785533</td>\n",
       "      <td>http://www2.census.gov/programs-surveys/acs/da...</td>\n",
       "    </tr>\n",
       "    <tr>\n",
       "      <th>2</th>\n",
       "      <td>04</td>\n",
       "      <td>az</td>\n",
       "      <td>Arizona</td>\n",
       "      <td>01779777</td>\n",
       "      <td>http://www2.census.gov/programs-surveys/acs/da...</td>\n",
       "    </tr>\n",
       "  </tbody>\n",
       "</table>\n",
       "</div>"
      ],
      "text/plain": [
       "   id abr     name       num  \\\n",
       "0  01  al  Alabama  01779775   \n",
       "1  02  ak   Alaska  01785533   \n",
       "2  04  az  Arizona  01779777   \n",
       "\n",
       "                                                 url  \n",
       "0  http://www2.census.gov/programs-surveys/acs/da...  \n",
       "1  http://www2.census.gov/programs-surveys/acs/da...  \n",
       "2  http://www2.census.gov/programs-surveys/acs/da...  "
      ]
     },
     "execution_count": 9,
     "metadata": {},
     "output_type": "execute_result"
    }
   ],
   "source": [
    "# construct the urls\n",
    "# example url: http://www2.census.gov/programs-surveys/acs/data/pums/2014/1-Year/\n",
    "# http://www2.census.gov/programs-surveys/acs/data/pums/2014/1-Year/csv_pak.zip\n",
    "base_url = 'http://www2.census.gov/programs-surveys/acs/data/pums/'\n",
    "year = '2014'\n",
    "middle_url = '/1-Year/csv_p'\n",
    "end_url = '.zip'\n",
    "df_states['url'] = base_url + year + middle_url + df_states['abr'] + end_url\n",
    "df_states.head(3)"
   ]
  },
  {
   "cell_type": "code",
   "execution_count": 10,
   "metadata": {
    "collapsed": false
   },
   "outputs": [
    {
     "data": {
      "text/html": [
       "<div>\n",
       "<table border=\"1\" class=\"dataframe\">\n",
       "  <thead>\n",
       "    <tr style=\"text-align: right;\">\n",
       "      <th></th>\n",
       "      <th>id</th>\n",
       "      <th>abr</th>\n",
       "      <th>name</th>\n",
       "      <th>num</th>\n",
       "      <th>url</th>\n",
       "      <th>path</th>\n",
       "    </tr>\n",
       "  </thead>\n",
       "  <tbody>\n",
       "    <tr>\n",
       "      <th>0</th>\n",
       "      <td>01</td>\n",
       "      <td>al</td>\n",
       "      <td>Alabama</td>\n",
       "      <td>01779775</td>\n",
       "      <td>http://www2.census.gov/programs-surveys/acs/da...</td>\n",
       "      <td>data/pums-p/al.zip</td>\n",
       "    </tr>\n",
       "    <tr>\n",
       "      <th>1</th>\n",
       "      <td>02</td>\n",
       "      <td>ak</td>\n",
       "      <td>Alaska</td>\n",
       "      <td>01785533</td>\n",
       "      <td>http://www2.census.gov/programs-surveys/acs/da...</td>\n",
       "      <td>data/pums-p/ak.zip</td>\n",
       "    </tr>\n",
       "    <tr>\n",
       "      <th>2</th>\n",
       "      <td>04</td>\n",
       "      <td>az</td>\n",
       "      <td>Arizona</td>\n",
       "      <td>01779777</td>\n",
       "      <td>http://www2.census.gov/programs-surveys/acs/da...</td>\n",
       "      <td>data/pums-p/az.zip</td>\n",
       "    </tr>\n",
       "  </tbody>\n",
       "</table>\n",
       "</div>"
      ],
      "text/plain": [
       "   id abr     name       num  \\\n",
       "0  01  al  Alabama  01779775   \n",
       "1  02  ak   Alaska  01785533   \n",
       "2  04  az  Arizona  01779777   \n",
       "\n",
       "                                                 url                path  \n",
       "0  http://www2.census.gov/programs-surveys/acs/da...  data/pums-p/al.zip  \n",
       "1  http://www2.census.gov/programs-surveys/acs/da...  data/pums-p/ak.zip  \n",
       "2  http://www2.census.gov/programs-surveys/acs/da...  data/pums-p/az.zip  "
      ]
     },
     "execution_count": 10,
     "metadata": {},
     "output_type": "execute_result"
    }
   ],
   "source": [
    "# construct the paths\n",
    "df_states['path'] = 'data/pums-p/' + df_states['abr'] + '.zip'\n",
    "df_states.head(3)"
   ]
  },
  {
   "cell_type": "code",
   "execution_count": 11,
   "metadata": {
    "collapsed": false
   },
   "outputs": [],
   "source": [
    "# download zipped files and save to pums directory\n",
    "for index, row in df_states.iterrows():\n",
    "    urllib.urlretrieve(row['url'], row['path'])"
   ]
  },
  {
   "cell_type": "code",
   "execution_count": 12,
   "metadata": {
    "collapsed": false
   },
   "outputs": [],
   "source": [
    "%%bash\n",
    "rm data/pums-p/as.zip\n",
    "rm data/pums-p/mp.zip\n",
    "rm data/pums-p/um.zip\n",
    "rm data/pums-p/gu.zip\n",
    "rm data/pums-p/vi.zip"
   ]
  },
  {
   "cell_type": "code",
   "execution_count": 13,
   "metadata": {
    "collapsed": false,
    "scrolled": true
   },
   "outputs": [],
   "source": [
    "# unzip files\n",
    "\n",
    "rootPath = r\"/Users/peter/Dropbox/ds/metis/notebooks/projects/mcnulty/data/pums-p\"\n",
    "pattern = '*.zip'\n",
    "\n",
    "for root, dirs, files in os.walk(rootPath):\n",
    "    for filename in fnmatch.filter(files, pattern):\n",
    "        #print(os.path.join(root, filename))\n",
    "        zipfile.ZipFile(os.path.join(root, filename)).extractall(os.path.join(root, os.path.splitext(filename)[0]))"
   ]
  },
  {
   "cell_type": "code",
   "execution_count": 14,
   "metadata": {
    "collapsed": false
   },
   "outputs": [
    {
     "data": {
      "text/plain": [
       "['data/pums-p/ak/ss14pak.csv',\n",
       " 'data/pums-p/al/ss14pal.csv',\n",
       " 'data/pums-p/ar/ss14par.csv',\n",
       " 'data/pums-p/az/ss14paz.csv',\n",
       " 'data/pums-p/ca/ss14pca.csv']"
      ]
     },
     "execution_count": 14,
     "metadata": {},
     "output_type": "execute_result"
    }
   ],
   "source": [
    "# make list of tuples of csvs\n",
    "\n",
    "base_path = 'data/pums-p/*/*.'\n",
    "csv_list = glob.glob(base_path + 'csv')\n",
    "\n",
    "csv_list[:5]"
   ]
  },
  {
   "cell_type": "code",
   "execution_count": 15,
   "metadata": {
    "collapsed": false
   },
   "outputs": [
    {
     "name": "stderr",
     "output_type": "stream",
     "text": [
      "/Users/peter/anaconda/lib/python2.7/site-packages/IPython/core/interactiveshell.py:2902: DtypeWarning: Columns (95,104,126) have mixed types. Specify dtype option on import or set low_memory=False.\n",
      "  interactivity=interactivity, compiler=compiler, result=result)\n"
     ]
    }
   ],
   "source": [
    "# make dataframe of all the csvs\n",
    "df = pd.DataFrame()\n",
    "temp_list = []\n",
    "\n",
    "for csv in csv_list:\n",
    "    dataframe = pd.read_csv(csv, index_col=None, header=0)\n",
    "    temp_list.append(dataframe)\n",
    "df = pd.concat(temp_list)"
   ]
  },
  {
   "cell_type": "code",
   "execution_count": 16,
   "metadata": {
    "collapsed": false
   },
   "outputs": [
    {
     "data": {
      "text/html": [
       "<div>\n",
       "<table border=\"1\" class=\"dataframe\">\n",
       "  <thead>\n",
       "    <tr style=\"text-align: right;\">\n",
       "      <th></th>\n",
       "      <th>RT</th>\n",
       "      <th>SERIALNO</th>\n",
       "      <th>SPORDER</th>\n",
       "      <th>PUMA</th>\n",
       "      <th>ST</th>\n",
       "      <th>ADJINC</th>\n",
       "      <th>PWGTP</th>\n",
       "      <th>AGEP</th>\n",
       "      <th>CIT</th>\n",
       "      <th>CITWP</th>\n",
       "      <th>...</th>\n",
       "      <th>pwgtp71</th>\n",
       "      <th>pwgtp72</th>\n",
       "      <th>pwgtp73</th>\n",
       "      <th>pwgtp74</th>\n",
       "      <th>pwgtp75</th>\n",
       "      <th>pwgtp76</th>\n",
       "      <th>pwgtp77</th>\n",
       "      <th>pwgtp78</th>\n",
       "      <th>pwgtp79</th>\n",
       "      <th>pwgtp80</th>\n",
       "    </tr>\n",
       "  </thead>\n",
       "  <tbody>\n",
       "    <tr>\n",
       "      <th>0</th>\n",
       "      <td>P</td>\n",
       "      <td>315</td>\n",
       "      <td>1</td>\n",
       "      <td>200</td>\n",
       "      <td>2</td>\n",
       "      <td>1008425</td>\n",
       "      <td>161</td>\n",
       "      <td>30</td>\n",
       "      <td>4</td>\n",
       "      <td>2008</td>\n",
       "      <td>...</td>\n",
       "      <td>165</td>\n",
       "      <td>156</td>\n",
       "      <td>44</td>\n",
       "      <td>43</td>\n",
       "      <td>243</td>\n",
       "      <td>213</td>\n",
       "      <td>56</td>\n",
       "      <td>138</td>\n",
       "      <td>243</td>\n",
       "      <td>163</td>\n",
       "    </tr>\n",
       "    <tr>\n",
       "      <th>1</th>\n",
       "      <td>P</td>\n",
       "      <td>315</td>\n",
       "      <td>2</td>\n",
       "      <td>200</td>\n",
       "      <td>2</td>\n",
       "      <td>1008425</td>\n",
       "      <td>155</td>\n",
       "      <td>34</td>\n",
       "      <td>1</td>\n",
       "      <td></td>\n",
       "      <td>...</td>\n",
       "      <td>178</td>\n",
       "      <td>141</td>\n",
       "      <td>47</td>\n",
       "      <td>45</td>\n",
       "      <td>253</td>\n",
       "      <td>227</td>\n",
       "      <td>39</td>\n",
       "      <td>134</td>\n",
       "      <td>278</td>\n",
       "      <td>144</td>\n",
       "    </tr>\n",
       "    <tr>\n",
       "      <th>2</th>\n",
       "      <td>P</td>\n",
       "      <td>315</td>\n",
       "      <td>3</td>\n",
       "      <td>200</td>\n",
       "      <td>2</td>\n",
       "      <td>1008425</td>\n",
       "      <td>255</td>\n",
       "      <td>7</td>\n",
       "      <td>1</td>\n",
       "      <td></td>\n",
       "      <td>...</td>\n",
       "      <td>289</td>\n",
       "      <td>251</td>\n",
       "      <td>68</td>\n",
       "      <td>71</td>\n",
       "      <td>438</td>\n",
       "      <td>386</td>\n",
       "      <td>64</td>\n",
       "      <td>230</td>\n",
       "      <td>396</td>\n",
       "      <td>230</td>\n",
       "    </tr>\n",
       "    <tr>\n",
       "      <th>3</th>\n",
       "      <td>P</td>\n",
       "      <td>315</td>\n",
       "      <td>4</td>\n",
       "      <td>200</td>\n",
       "      <td>2</td>\n",
       "      <td>1008425</td>\n",
       "      <td>204</td>\n",
       "      <td>5</td>\n",
       "      <td>1</td>\n",
       "      <td></td>\n",
       "      <td>...</td>\n",
       "      <td>222</td>\n",
       "      <td>194</td>\n",
       "      <td>56</td>\n",
       "      <td>63</td>\n",
       "      <td>350</td>\n",
       "      <td>344</td>\n",
       "      <td>60</td>\n",
       "      <td>217</td>\n",
       "      <td>322</td>\n",
       "      <td>180</td>\n",
       "    </tr>\n",
       "    <tr>\n",
       "      <th>4</th>\n",
       "      <td>P</td>\n",
       "      <td>315</td>\n",
       "      <td>5</td>\n",
       "      <td>200</td>\n",
       "      <td>2</td>\n",
       "      <td>1008425</td>\n",
       "      <td>180</td>\n",
       "      <td>4</td>\n",
       "      <td>1</td>\n",
       "      <td></td>\n",
       "      <td>...</td>\n",
       "      <td>192</td>\n",
       "      <td>143</td>\n",
       "      <td>56</td>\n",
       "      <td>52</td>\n",
       "      <td>304</td>\n",
       "      <td>248</td>\n",
       "      <td>52</td>\n",
       "      <td>165</td>\n",
       "      <td>255</td>\n",
       "      <td>176</td>\n",
       "    </tr>\n",
       "  </tbody>\n",
       "</table>\n",
       "<p>5 rows × 284 columns</p>\n",
       "</div>"
      ],
      "text/plain": [
       "  RT  SERIALNO  SPORDER  PUMA  ST   ADJINC  PWGTP  AGEP  CIT CITWP   ...     \\\n",
       "0  P       315        1   200   2  1008425    161    30    4  2008   ...      \n",
       "1  P       315        2   200   2  1008425    155    34    1         ...      \n",
       "2  P       315        3   200   2  1008425    255     7    1         ...      \n",
       "3  P       315        4   200   2  1008425    204     5    1         ...      \n",
       "4  P       315        5   200   2  1008425    180     4    1         ...      \n",
       "\n",
       "   pwgtp71  pwgtp72  pwgtp73  pwgtp74  pwgtp75  pwgtp76  pwgtp77  pwgtp78  \\\n",
       "0      165      156       44       43      243      213       56      138   \n",
       "1      178      141       47       45      253      227       39      134   \n",
       "2      289      251       68       71      438      386       64      230   \n",
       "3      222      194       56       63      350      344       60      217   \n",
       "4      192      143       56       52      304      248       52      165   \n",
       "\n",
       "   pwgtp79  pwgtp80  \n",
       "0      243      163  \n",
       "1      278      144  \n",
       "2      396      230  \n",
       "3      322      180  \n",
       "4      255      176  \n",
       "\n",
       "[5 rows x 284 columns]"
      ]
     },
     "execution_count": 16,
     "metadata": {},
     "output_type": "execute_result"
    }
   ],
   "source": [
    "df.head()"
   ]
  },
  {
   "cell_type": "code",
   "execution_count": 17,
   "metadata": {
    "collapsed": false
   },
   "outputs": [],
   "source": [
    "# remove unnecessary files in pums folder\n",
    "shutil.rmtree('data/pums-p')"
   ]
  },
  {
   "cell_type": "code",
   "execution_count": 18,
   "metadata": {
    "collapsed": true
   },
   "outputs": [],
   "source": [
    "pums_dir = 'data/pums-p'\n",
    "if not os.path.exists(pums_dir):\n",
    "    os.makedirs(pums_dir)"
   ]
  },
  {
   "cell_type": "code",
   "execution_count": 19,
   "metadata": {
    "collapsed": false
   },
   "outputs": [],
   "source": [
    "# http://www2.census.gov/programs-surveys/acs/tech_docs/pums/data_dict/PUMSDataDict14.pdf\n",
    "\n",
    "cols_list = [\n",
    "    #'RT' # record type, H indicates house\n",
    "    'SERIALNO' # housing unit / GQ person serial number...unique identifier\n",
    "    #,'SPORDER' # person order\n",
    "    #,'PUMA' # public use microdata area code, based on 2010 census defn, 100k people per puma\n",
    "    #,'ST' # state code\n",
    "    #,'PWGTP' # person weight\n",
    "    #,'ADJINC' # adj for income & earnings to 2014 values, divide by 1 million to do conversion\n",
    "    ,'ESR' # employment status of recode: b n/a, less than 16 years old, 1 civilian employed, 2 civilian employed w/ job but not at work, 3 unemployed, 4 armed forces at work, 5 armed forces w/ job but not at work, 6 not in labor force\n",
    "    ,'CIT' # citizenship status\n",
    "    ,'RAC1P' # recorded detailed race code: 1 white alone, 2 black or aa alone, 3 american indian alone, 4 alaska native alone, 5 american indian / alaska native tribe specified or not, 6 asian alone, 7 native hawaiian / pacific islander alone, 8 some other race alone, 9 two or more races\n",
    "    ,'HISP' # hispanic: 0 is no and all other numbers yes\n",
    "    ,'SCHL' # educational attainment\n",
    "    ,'HICOV' # health insurance coverage recode\n",
    "    #,'ESP' # employment status of parents\n",
    "    ,'DIS' # disability recode: 1 disability, 2 no disability\n",
    "    ,'AGEP' # age: 00 is under one year, max of 99\n",
    "]"
   ]
  },
  {
   "cell_type": "code",
   "execution_count": 20,
   "metadata": {
    "collapsed": false
   },
   "outputs": [
    {
     "data": {
      "text/html": [
       "<div>\n",
       "<table border=\"1\" class=\"dataframe\">\n",
       "  <thead>\n",
       "    <tr style=\"text-align: right;\">\n",
       "      <th></th>\n",
       "      <th>SERIALNO</th>\n",
       "      <th>ESR</th>\n",
       "      <th>CIT</th>\n",
       "      <th>RAC1P</th>\n",
       "      <th>HISP</th>\n",
       "      <th>SCHL</th>\n",
       "      <th>HICOV</th>\n",
       "      <th>DIS</th>\n",
       "      <th>AGEP</th>\n",
       "    </tr>\n",
       "  </thead>\n",
       "  <tbody>\n",
       "    <tr>\n",
       "      <th>0</th>\n",
       "      <td>315</td>\n",
       "      <td>6.0</td>\n",
       "      <td>4</td>\n",
       "      <td>1</td>\n",
       "      <td>1</td>\n",
       "      <td>19.0</td>\n",
       "      <td>1</td>\n",
       "      <td>2</td>\n",
       "      <td>30</td>\n",
       "    </tr>\n",
       "    <tr>\n",
       "      <th>1</th>\n",
       "      <td>315</td>\n",
       "      <td>1.0</td>\n",
       "      <td>1</td>\n",
       "      <td>1</td>\n",
       "      <td>1</td>\n",
       "      <td>20.0</td>\n",
       "      <td>1</td>\n",
       "      <td>2</td>\n",
       "      <td>34</td>\n",
       "    </tr>\n",
       "    <tr>\n",
       "      <th>2</th>\n",
       "      <td>315</td>\n",
       "      <td>NaN</td>\n",
       "      <td>1</td>\n",
       "      <td>1</td>\n",
       "      <td>1</td>\n",
       "      <td>3.0</td>\n",
       "      <td>1</td>\n",
       "      <td>2</td>\n",
       "      <td>7</td>\n",
       "    </tr>\n",
       "  </tbody>\n",
       "</table>\n",
       "</div>"
      ],
      "text/plain": [
       "   SERIALNO  ESR  CIT  RAC1P  HISP  SCHL  HICOV  DIS  AGEP\n",
       "0       315  6.0    4      1     1  19.0      1    2    30\n",
       "1       315  1.0    1      1     1  20.0      1    2    34\n",
       "2       315  NaN    1      1     1   3.0      1    2     7"
      ]
     },
     "execution_count": 20,
     "metadata": {},
     "output_type": "execute_result"
    }
   ],
   "source": [
    "# select desired columns\n",
    "df1 = df[cols_list]\n",
    "df1.head(3)"
   ]
  },
  {
   "cell_type": "code",
   "execution_count": 21,
   "metadata": {
    "collapsed": false
   },
   "outputs": [
    {
     "data": {
      "text/plain": [
       "(3164116, 9)"
      ]
     },
     "execution_count": 21,
     "metadata": {},
     "output_type": "execute_result"
    }
   ],
   "source": [
    "df1.shape"
   ]
  },
  {
   "cell_type": "code",
   "execution_count": 22,
   "metadata": {
    "collapsed": false
   },
   "outputs": [],
   "source": [
    "# h5 dataframe (pickling didn't work, perhaps because dataset too large)\n",
    "hdf = pd.HDFStore('data/pums-p/pums-p.h5')\n",
    "hdf.put('d1', df1, format='table', data_columns=True)"
   ]
  }
 ],
 "metadata": {
  "kernelspec": {
   "display_name": "Python 2",
   "language": "python",
   "name": "python2"
  },
  "language_info": {
   "codemirror_mode": {
    "name": "ipython",
    "version": 2
   },
   "file_extension": ".py",
   "mimetype": "text/x-python",
   "name": "python",
   "nbconvert_exporter": "python",
   "pygments_lexer": "ipython2",
   "version": "2.7.11"
  }
 },
 "nbformat": 4,
 "nbformat_minor": 0
}
