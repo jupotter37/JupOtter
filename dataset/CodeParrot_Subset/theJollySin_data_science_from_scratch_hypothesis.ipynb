{
 "cells": [
  {
   "cell_type": "code",
   "execution_count": 1,
   "metadata": {
    "collapsed": false
   },
   "outputs": [
    {
     "name": "stdout",
     "output_type": "stream",
     "text": [
      "-1.1403464899034472\n"
     ]
    }
   ],
   "source": [
    "# running an A/B test\n",
    "from math import sqrt\n",
    "\n",
    "\n",
    "def estimated_parameters(N, n):\n",
    "    '''estimating the parameters of N Bernoulli trials\n",
    "    with n successes'''\n",
    "    p = n / N\n",
    "    sigma = sqrt(p * (1 - p) / N)\n",
    "    return p, sigma\n",
    "\n",
    "\n",
    "def a_b_test_statistic(N_A, n_A, N_B, n_B):\n",
    "    '''test the null hypothesis that pA and pB are the same'''\n",
    "    p_A, sigma_A = estimated_parameters(N_A, n_A)\n",
    "    p_B, sigma_B = estimated_parameters(N_B, n_B)\n",
    "    return (p_B - p_A) / sqrt(sigma_A ** 2 + sigma_B ** 2)\n",
    "\n",
    "\n",
    "# let's compare two different experiments\n",
    "z = a_b_test_statistic(1000, 200, 1000, 180)\n",
    "print(z)"
   ]
  },
  {
   "cell_type": "code",
   "execution_count": 4,
   "metadata": {
    "collapsed": false
   },
   "outputs": [
    {
     "name": "stdout",
     "output_type": "stream",
     "text": [
      "0.254141976542236\n"
     ]
    }
   ],
   "source": [
    "# what are is the chance of such a large difference if the means were equal?\n",
    "from math import erf\n",
    "\n",
    "\n",
    "def normal_cdf(x, mu=0, sigma=1):\n",
    "    '''We can use a normal CDF to determine if a random variable\n",
    "    falls within some range.\n",
    "    '''\n",
    "    return (1 + erf((x - mu) / sqrt(2) / sigma)) / 2\n",
    "\n",
    "\n",
    "normal_prob_below = normal_cdf\n",
    "\n",
    "\n",
    "def normal_prob_above(lo, mu=0, sigma=1):\n",
    "    return 1 - normal_cdf(lo, mu, sigma)\n",
    "\n",
    "\n",
    "def two_sided_p_value(x, mu=0, sigma=1):\n",
    "    if x >= mu:\n",
    "        return 2 * normal_prob_above(x, mu, sigma)\n",
    "    else:\n",
    "        return 2 * normal_prob_below(x, mu, sigma)\n",
    "\n",
    "\n",
    "# what is the chance this is still the null hypothesis?\n",
    "z = a_b_test_statistic(1000, 200, 1000, 180)\n",
    "print(two_sided_p_value(z))\n"
   ]
  },
  {
   "cell_type": "code",
   "execution_count": 7,
   "metadata": {
    "collapsed": false
   },
   "outputs": [
    {
     "name": "stdout",
     "output_type": "stream",
     "text": [
      "-2.948839123097944\n",
      "0.003189699706216853\n"
     ]
    }
   ],
   "source": [
    "# What if our two tests had different results? Let's test the null hypothesis now.\n",
    "z = a_b_test_statistic(1000, 200, 1000, 150)\n",
    "print(z)\n",
    "print(two_sided_p_value(z))\n",
    "\n",
    "\n",
    "# Okay, 3%. This is starting to look like a trustworthy result."
   ]
  },
  {
   "cell_type": "code",
   "execution_count": 8,
   "metadata": {
    "collapsed": true
   },
   "outputs": [],
   "source": [
    "# Bayesian Inference\n"
   ]
  },
  {
   "cell_type": "code",
   "execution_count": null,
   "metadata": {
    "collapsed": true
   },
   "outputs": [],
   "source": []
  }
 ],
 "metadata": {
  "kernelspec": {
   "display_name": "Python 3",
   "language": "python",
   "name": "python3"
  },
  "language_info": {
   "codemirror_mode": {
    "name": "ipython",
    "version": 3
   },
   "file_extension": ".py",
   "mimetype": "text/x-python",
   "name": "python",
   "nbconvert_exporter": "python",
   "pygments_lexer": "ipython3",
   "version": "3.4.3"
  }
 },
 "nbformat": 4,
 "nbformat_minor": 0
}
