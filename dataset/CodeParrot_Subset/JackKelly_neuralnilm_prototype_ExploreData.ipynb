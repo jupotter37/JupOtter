{
 "cells": [
  {
   "cell_type": "code",
   "execution_count": 1,
   "metadata": {
    "collapsed": false
   },
   "outputs": [
    {
     "name": "stderr",
     "output_type": "stream",
     "text": [
      "/home/dk3810/workspace/python/Lasagne/lasagne/init.py:86: UserWarning: The uniform initializer no longer uses Glorot et al.'s approach to determine the bounds, but defaults to the range (-0.01, 0.01) instead. Please use the new GlorotUniform initializer to get the old behavior. GlorotUniform is now the default for all layers.\n",
      "  warnings.warn(\"The uniform initializer no longer uses Glorot et al.'s \"\n"
     ]
    }
   ],
   "source": [
    "import matplotlib\n",
    "matplotlib.use(\"Agg\")\n",
    "from neuralnilm.source import RealApplianceSource, MultiSource, SameLocation\n",
    "import matplotlib.pyplot as plt\n",
    "import numpy as np\n",
    "import logging\n",
    "import nilmtk\n",
    "from datetime import timedelta"
   ]
  },
  {
   "cell_type": "code",
   "execution_count": 2,
   "metadata": {
    "collapsed": true
   },
   "outputs": [],
   "source": [
    "logger = logging.getLogger('test')\n",
    "logger.setLevel(logging.DEBUG)"
   ]
  },
  {
   "cell_type": "code",
   "execution_count": 15,
   "metadata": {
    "collapsed": false
   },
   "outputs": [],
   "source": [
    "BUILDING_I = 1\n",
    "\n",
    "appliance = 'dish washer'\n",
    "\n",
    "N_SEQ_PER_BATCH = 8\n",
    "FILENAME = '/data/mine/vadeec/merged/ukdale.h5'\n",
    "\n",
    "WINDOWS_SELECTION = 'train'\n",
    "\n",
    "if WINDOWS_SELECTION == 'short train':\n",
    "    WINDOW_PER_BUILDING = {\n",
    "        1: (\"2013-04-12\", \"2013-04-18\"),\n",
    "        2: (\"2013-05-22\", \"2013-06-01\"),\n",
    "        3: (\"2013-02-27\", \"2013-03-10\"),\n",
    "        4: (\"2013-03-09\", \"2013-04-01\"),\n",
    "        5: (\"2014-06-29\", \"2014-07-10\")\n",
    "    }\n",
    "elif WINDOWS_SELECTION == 'train':\n",
    "    WINDOW_PER_BUILDING = {\n",
    "        1: (\"2013-04-12\", \"2014-12-15\"),\n",
    "        2: (\"2013-05-22\", \"2013-10-03 06:16:00\"),\n",
    "        3: (\"2013-02-27\", \"2013-04-01 06:15:05\"),\n",
    "        4: (\"2013-03-09\", \"2013-09-24 06:15:14\"),\n",
    "        5: (\"2014-06-29\", \"2014-09-01\")\n",
    "    }\n",
    "elif WINDOWS_SELECTION == 'test':\n",
    "    WINDOW_PER_BUILDING = {\n",
    "        1: (\"2014-12-15\", \"2014-12-22\"),\n",
    "        2: (\"2013-10-03 06:16:00\", None),\n",
    "        3: (\"2013-04-01 06:15:05\", None),\n",
    "        4: (\"2013-09-24 06:15:14\", None),\n",
    "        5: (\"2014-09-01\", \"2014-09-07\")\n",
    "    }\n",
    "\n",
    "INPUT_STATS = {\n",
    "    'mean': np.array([ 297.87216187], dtype=np.float32),\n",
    "    'std': np.array([ 374.43884277], dtype=np.float32)\n",
    "}\n",
    "\n",
    "if appliance == 'microwave':\n",
    "    SEQ_LENGTH = 288\n",
    "    APPLIANCES = [\n",
    "        'microwave',\n",
    "        ['fridge freezer', 'fridge', 'freezer'],\n",
    "        'dish washer',\n",
    "        'kettle',\n",
    "        ['washer dryer', 'washing machine']\n",
    "    ]\n",
    "    MAX_APPLIANCE_POWERS = [3000,  300, 2500, 3100, 2500]\n",
    "    ON_POWER_THRESHOLDS  = [ 200,   50,   10, 2000,   20]\n",
    "    MIN_ON_DURATIONS     = [  12,   60, 1800,   12, 1800]\n",
    "    MIN_OFF_DURATIONS    = [  30,   12, 1800,    0,  160]\n",
    "\n",
    "elif appliance == 'washing machine':\n",
    "    SEQ_LENGTH = 1536\n",
    "    APPLIANCES = [\n",
    "        ['washer dryer', 'washing machine'],\n",
    "        ['fridge freezer', 'fridge', 'freezer'],\n",
    "        'dish washer',\n",
    "        'kettle',\n",
    "        'microwave'            \n",
    "    ]\n",
    "    MAX_APPLIANCE_POWERS = [2500,  300, 2500, 3100, 3000]\n",
    "    ON_POWER_THRESHOLDS  = [  20,   50,   10, 2000,  200]\n",
    "    MIN_ON_DURATIONS     = [1800,   60, 1800,   12,   12]\n",
    "    MIN_OFF_DURATIONS    = [ 160,   12, 1800,    0,   30]\n",
    "\n",
    "elif appliance == 'fridge':\n",
    "    SEQ_LENGTH = 1024\n",
    "    APPLIANCES = [\n",
    "        ['fridge freezer', 'fridge', 'freezer'],\n",
    "        ['washer dryer', 'washing machine'],\n",
    "        'dish washer',\n",
    "        'kettle',\n",
    "        'microwave'            \n",
    "    ]\n",
    "    MAX_APPLIANCE_POWERS = [ 300, 2500, 2500, 3100, 3000]\n",
    "    ON_POWER_THRESHOLDS  = [  50,   20,   10, 2000,  200]\n",
    "    MIN_ON_DURATIONS     = [  60, 1800, 1800,   12,   12]\n",
    "    MIN_OFF_DURATIONS    = [  12,  160, 1800,    0,   30]\n",
    "\n",
    "elif appliance == 'kettle':\n",
    "    SEQ_LENGTH = 128\n",
    "    APPLIANCES = [\n",
    "        'kettle',\n",
    "        ['fridge freezer', 'fridge', 'freezer'],\n",
    "        ['washer dryer', 'washing machine'],\n",
    "        'dish washer',\n",
    "        'microwave'\n",
    "    ]\n",
    "    MAX_APPLIANCE_POWERS = [3100,  300, 2500, 2500, 3000]\n",
    "    ON_POWER_THRESHOLDS  = [2000,   50,   20,   10,  200]\n",
    "    MIN_ON_DURATIONS     = [  12,   60, 1800, 1800,   12]\n",
    "    MIN_OFF_DURATIONS    = [   0,   12,  160, 1800,   30]\n",
    "\n",
    "elif appliance == 'dish washer':\n",
    "    SEQ_LENGTH = 1536\n",
    "    APPLIANCES = [\n",
    "        'dish washer',\n",
    "        ['fridge freezer', 'fridge', 'freezer'],\n",
    "        ['washer dryer', 'washing machine'],\n",
    "        'kettle',\n",
    "        'microwave'\n",
    "    ]\n",
    "    MAX_APPLIANCE_POWERS = [2500,  300, 2500, 3100, 3000]\n",
    "    ON_POWER_THRESHOLDS  = [  10,   50,   20, 2000,  200]\n",
    "    MIN_ON_DURATIONS     = [1800,   60, 1800,   12,   12]\n",
    "    MIN_OFF_DURATIONS    = [1800,   12,  160,    0,   30]\n",
    "\n",
    "TARGET_APPLIANCE = APPLIANCES[0]\n",
    "MAX_TARGET_POWER = MAX_APPLIANCE_POWERS[0]\n",
    "ON_POWER_THRESHOLD = ON_POWER_THRESHOLDS[0]\n",
    "MIN_ON_DURATION = MIN_ON_DURATIONS[0]\n",
    "MIN_OFF_DURATION = MIN_OFF_DURATIONS[0]"
   ]
  },
  {
   "cell_type": "code",
   "execution_count": 16,
   "metadata": {
    "collapsed": false
   },
   "outputs": [
    {
     "name": "stderr",
     "output_type": "stream",
     "text": [
      "INFO:test:Setting window for building 1 to (start=2013-04-12, end=2014-12-15)\n",
      "INFO:test:Loaded 197 dish washer activations from house 1.\n"
     ]
    }
   ],
   "source": [
    "source = SameLocation(\n",
    "    logger=logger,\n",
    "    filename=FILENAME,\n",
    "    target_appliance=TARGET_APPLIANCE,\n",
    "    window_per_building=WINDOW_PER_BUILDING,\n",
    "    seq_length=SEQ_LENGTH,\n",
    "    train_buildings=[BUILDING_I],\n",
    "    validation_buildings=[BUILDING_I],\n",
    "    n_seq_per_batch=N_SEQ_PER_BATCH,\n",
    "    load_mains=False,\n",
    "    on_power_threshold=ON_POWER_THRESHOLD,\n",
    "    min_on_duration=MIN_ON_DURATION,\n",
    "    min_off_duration=MIN_OFF_DURATION\n",
    ")"
   ]
  },
  {
   "cell_type": "code",
   "execution_count": 11,
   "metadata": {
    "collapsed": false
   },
   "outputs": [
    {
     "name": "stdout",
     "output_type": "stream",
     "text": [
      "Max duration  : 0 days 00:11:36\n",
      "Min input size: 116.0\n",
      "Mean duration : 0 days 00:02:03.484485\n",
      "Min duration  : 0 days 00:00:24\n",
      "Index with max duration : 2720\n"
     ]
    }
   ],
   "source": [
    "seq_lengths = [(activation.index[-1] - activation.index[0])\n",
    "               for activation in source.activations[BUILDING_I]]\n",
    "max_duration = max(seq_lengths)\n",
    "print(\"Max duration  :\", max_duration)\n",
    "print(\"Min input size:\", max_duration.total_seconds() / 6)\n",
    "print(\"Mean duration :\", np.mean(seq_lengths))\n",
    "print(\"Min duration  :\", np.min(seq_lengths))\n",
    "index_with_max_duration = np.argmax(seq_lengths)\n",
    "print(\"Index with max duration :\", index_with_max_duration)"
   ]
  },
  {
   "cell_type": "code",
   "execution_count": 12,
   "metadata": {
    "collapsed": false
   },
   "outputs": [
    {
     "name": "stdout",
     "output_type": "stream",
     "text": [
      "Max power  : 3948.0\n",
      "Mean power : 1955.72096691\n"
     ]
    }
   ],
   "source": [
    "print(\"Max power  :\", max([activation.max() for activation in source.activations[BUILDING_I]]))\n",
    "print(\"Mean power :\", np.mean([activation.mean() for activation in source.activations[BUILDING_I]]))"
   ]
  },
  {
   "cell_type": "code",
   "execution_count": 13,
   "metadata": {
    "collapsed": false
   },
   "outputs": [
    {
     "data": {
      "text/plain": [
       "ElecMeter(instance=10, building=1, dataset='UK-DALE', appliances=[Appliance(type='kettle', instance=1), Appliance(type='food processor', instance=1), Appliance(type='toasted sandwich maker', instance=1)])"
      ]
     },
     "execution_count": 13,
     "metadata": {},
     "output_type": "execute_result"
    }
   ],
   "source": [
    "dataset = nilmtk.DataSet(FILENAME)\n",
    "dataset.set_window()\n",
    "\n",
    "elec = dataset.buildings[BUILDING_I].elec\n",
    "meter = elec[TARGET_APPLIANCE]\n",
    "meter"
   ]
  },
  {
   "cell_type": "code",
   "execution_count": 14,
   "metadata": {
    "collapsed": false
   },
   "outputs": [
    {
     "data": {
      "text/plain": [
       "TimeFrame(start='2013-03-17 19:12:43.100000+00:00', end='2015-01-05 06:27:12+00:00', empty=False)"
      ]
     },
     "execution_count": 14,
     "metadata": {},
     "output_type": "execute_result"
    }
   ],
   "source": [
    "elec.mains().get_timeframe()"
   ]
  },
  {
   "cell_type": "code",
   "execution_count": 434,
   "metadata": {
    "collapsed": false
   },
   "outputs": [],
   "source": [
    "border = timedelta(minutes=10)\n",
    "\n",
    "def plot_activation(activation_i):\n",
    "    activation = source.activations[BUILDING_I][activation_i]\n",
    "    timeframe = nilmtk.TimeFrame(activation.index[0]-border, activation.index[-1]+border)\n",
    "    powers = {}\n",
    "    elec = dataset.buildings[BUILDING_I].elec\n",
    "    for meter in elec.submeters().meters:\n",
    "        power = meter.power_series_all_data(sections=[timeframe])\n",
    "        if power is not None and power.max() > 10:\n",
    "            powers[meter.dominant_appliance().label(pretty=True)] = power\n",
    "    \n",
    "    fig, axes = plt.subplots(nrows=3, sharex=True)\n",
    "    axes[0].set_title('Activation')\n",
    "    axes[0].plot(activation.index, activation.values)\n",
    "\n",
    "    axes[1].set_title('All active appliances')\n",
    "    for meter_instance, power in powers.iteritems():\n",
    "        axes[1].plot(power.index, power.values, label=meter_instance)\n",
    "    axes[1].legend(fancybox=True, framealpha=0.5, prop={'size': 6})\n",
    "\n",
    "    axes[2].set_title('Mains {}'.format(timeframe.start.date()))\n",
    "    mains = elec.mains().power_series_all_data(sections=[timeframe], sample_period=6)\n",
    "    if mains is not None:\n",
    "        axes[2].plot(mains.index, mains.values)\n",
    "    \n",
    "    fig.tight_layout()\n",
    "    fname = 'building{}_activation{}.png'.format(BUILDING_I, activation_i)\n",
    "    plt.savefig(fname, dpi=300)\n",
    "    plt.close(fig)"
   ]
  },
  {
   "cell_type": "code",
   "execution_count": 435,
   "metadata": {
    "collapsed": false
   },
   "outputs": [
    {
     "name": "stdout",
     "output_type": "stream",
     "text": [
      " 52 / 90"
     ]
    },
    {
     "name": "stderr",
     "output_type": "stream",
     "text": [
      "Exception KeyboardInterrupt in <function remove at 0x7effac36e8c0> ignored\n"
     ]
    },
    {
     "ename": "TypeError",
     "evalue": "sequence item 0: expected string, tuple found",
     "output_type": "error",
     "traceback": [
      "\u001b[1;31m---------------------------------------------------------------------------\u001b[0m",
      "\u001b[1;31mTypeError\u001b[0m                                 Traceback (most recent call last)",
      "\u001b[1;32m<ipython-input-435-eef356c0a5cd>\u001b[0m in \u001b[0;36m<module>\u001b[1;34m()\u001b[0m\n\u001b[0;32m      5\u001b[0m     \u001b[1;32mprint\u001b[0m\u001b[1;33m(\u001b[0m\u001b[1;34m\"\\r\"\u001b[0m\u001b[1;33m,\u001b[0m \u001b[0mi\u001b[0m\u001b[1;33m,\u001b[0m \u001b[1;34m\"/\"\u001b[0m\u001b[1;33m,\u001b[0m \u001b[0mn\u001b[0m\u001b[1;33m,\u001b[0m \u001b[0mend\u001b[0m\u001b[1;33m=\u001b[0m\u001b[1;34m\"\"\u001b[0m\u001b[1;33m)\u001b[0m\u001b[1;33m\u001b[0m\u001b[0m\n\u001b[0;32m      6\u001b[0m     \u001b[0mstdout\u001b[0m\u001b[1;33m.\u001b[0m\u001b[0mflush\u001b[0m\u001b[1;33m(\u001b[0m\u001b[1;33m)\u001b[0m\u001b[1;33m\u001b[0m\u001b[0m\n\u001b[1;32m----> 7\u001b[1;33m     \u001b[0mplot_activation\u001b[0m\u001b[1;33m(\u001b[0m\u001b[0mi\u001b[0m\u001b[1;33m)\u001b[0m\u001b[1;33m\u001b[0m\u001b[0m\n\u001b[0m",
      "\u001b[1;32m<ipython-input-434-32d66f1fccf3>\u001b[0m in \u001b[0;36mplot_activation\u001b[1;34m(activation_i)\u001b[0m\n\u001b[0;32m      7\u001b[0m     \u001b[0melec\u001b[0m \u001b[1;33m=\u001b[0m \u001b[0mdataset\u001b[0m\u001b[1;33m.\u001b[0m\u001b[0mbuildings\u001b[0m\u001b[1;33m[\u001b[0m\u001b[0mBUILDING_I\u001b[0m\u001b[1;33m]\u001b[0m\u001b[1;33m.\u001b[0m\u001b[0melec\u001b[0m\u001b[1;33m\u001b[0m\u001b[0m\n\u001b[0;32m      8\u001b[0m     \u001b[1;32mfor\u001b[0m \u001b[0mmeter\u001b[0m \u001b[1;32min\u001b[0m \u001b[0melec\u001b[0m\u001b[1;33m.\u001b[0m\u001b[0msubmeters\u001b[0m\u001b[1;33m(\u001b[0m\u001b[1;33m)\u001b[0m\u001b[1;33m.\u001b[0m\u001b[0mmeters\u001b[0m\u001b[1;33m:\u001b[0m\u001b[1;33m\u001b[0m\u001b[0m\n\u001b[1;32m----> 9\u001b[1;33m         \u001b[0mpower\u001b[0m \u001b[1;33m=\u001b[0m \u001b[0mmeter\u001b[0m\u001b[1;33m.\u001b[0m\u001b[0mpower_series_all_data\u001b[0m\u001b[1;33m(\u001b[0m\u001b[0msections\u001b[0m\u001b[1;33m=\u001b[0m\u001b[1;33m[\u001b[0m\u001b[0mtimeframe\u001b[0m\u001b[1;33m]\u001b[0m\u001b[1;33m)\u001b[0m\u001b[1;33m\u001b[0m\u001b[0m\n\u001b[0m\u001b[0;32m     10\u001b[0m         \u001b[1;32mif\u001b[0m \u001b[0mpower\u001b[0m \u001b[1;32mis\u001b[0m \u001b[1;32mnot\u001b[0m \u001b[0mNone\u001b[0m \u001b[1;32mand\u001b[0m \u001b[0mpower\u001b[0m\u001b[1;33m.\u001b[0m\u001b[0mmax\u001b[0m\u001b[1;33m(\u001b[0m\u001b[1;33m)\u001b[0m \u001b[1;33m>\u001b[0m \u001b[1;36m10\u001b[0m\u001b[1;33m:\u001b[0m\u001b[1;33m\u001b[0m\u001b[0m\n\u001b[0;32m     11\u001b[0m             \u001b[0mpowers\u001b[0m\u001b[1;33m[\u001b[0m\u001b[0mmeter\u001b[0m\u001b[1;33m.\u001b[0m\u001b[0mdominant_appliance\u001b[0m\u001b[1;33m(\u001b[0m\u001b[1;33m)\u001b[0m\u001b[1;33m.\u001b[0m\u001b[0mlabel\u001b[0m\u001b[1;33m(\u001b[0m\u001b[0mpretty\u001b[0m\u001b[1;33m=\u001b[0m\u001b[0mTrue\u001b[0m\u001b[1;33m)\u001b[0m\u001b[1;33m]\u001b[0m \u001b[1;33m=\u001b[0m \u001b[0mpower\u001b[0m\u001b[1;33m\u001b[0m\u001b[0m\n",
      "\u001b[1;32m/home/dk3810/workspace/python/nilmtk/nilmtk/electric.py\u001b[0m in \u001b[0;36mpower_series_all_data\u001b[1;34m(self, **kwargs)\u001b[0m\n\u001b[0;32m    105\u001b[0m     \u001b[1;32mdef\u001b[0m \u001b[0mpower_series_all_data\u001b[0m\u001b[1;33m(\u001b[0m\u001b[0mself\u001b[0m\u001b[1;33m,\u001b[0m \u001b[1;33m**\u001b[0m\u001b[0mkwargs\u001b[0m\u001b[1;33m)\u001b[0m\u001b[1;33m:\u001b[0m\u001b[1;33m\u001b[0m\u001b[0m\n\u001b[0;32m    106\u001b[0m         \u001b[0mchunks\u001b[0m \u001b[1;33m=\u001b[0m \u001b[1;33m[\u001b[0m\u001b[1;33m]\u001b[0m\u001b[1;33m\u001b[0m\u001b[0m\n\u001b[1;32m--> 107\u001b[1;33m         \u001b[1;32mfor\u001b[0m \u001b[0mseries\u001b[0m \u001b[1;32min\u001b[0m \u001b[0mself\u001b[0m\u001b[1;33m.\u001b[0m\u001b[0mpower_series\u001b[0m\u001b[1;33m(\u001b[0m\u001b[1;33m**\u001b[0m\u001b[0mkwargs\u001b[0m\u001b[1;33m)\u001b[0m\u001b[1;33m:\u001b[0m\u001b[1;33m\u001b[0m\u001b[0m\n\u001b[0m\u001b[0;32m    108\u001b[0m             \u001b[1;32mif\u001b[0m \u001b[0mlen\u001b[0m\u001b[1;33m(\u001b[0m\u001b[0mseries\u001b[0m\u001b[1;33m)\u001b[0m \u001b[1;33m>\u001b[0m \u001b[1;36m0\u001b[0m\u001b[1;33m:\u001b[0m\u001b[1;33m\u001b[0m\u001b[0m\n\u001b[0;32m    109\u001b[0m                 \u001b[0mchunks\u001b[0m\u001b[1;33m.\u001b[0m\u001b[0mappend\u001b[0m\u001b[1;33m(\u001b[0m\u001b[0mseries\u001b[0m\u001b[1;33m)\u001b[0m\u001b[1;33m\u001b[0m\u001b[0m\n",
      "\u001b[1;32m/home/dk3810/workspace/python/nilmtk/nilmtk/electric.py\u001b[0m in \u001b[0;36mload_series\u001b[1;34m(self, **kwargs)\u001b[0m\n\u001b[0;32m    632\u001b[0m                 \u001b[1;32mcontinue\u001b[0m\u001b[1;33m\u001b[0m\u001b[0m\n\u001b[0;32m    633\u001b[0m             \u001b[0mchunk_to_yield\u001b[0m \u001b[1;33m=\u001b[0m \u001b[0mchunk\u001b[0m\u001b[1;33m[\u001b[0m\u001b[0mphysical_quantity\u001b[0m\u001b[1;33m]\u001b[0m\u001b[1;33m.\u001b[0m\u001b[0msum\u001b[0m\u001b[1;33m(\u001b[0m\u001b[0maxis\u001b[0m\u001b[1;33m=\u001b[0m\u001b[1;36m1\u001b[0m\u001b[1;33m)\u001b[0m\u001b[1;33m\u001b[0m\u001b[0m\n\u001b[1;32m--> 634\u001b[1;33m             \u001b[0mac_types\u001b[0m \u001b[1;33m=\u001b[0m \u001b[1;34m'+'\u001b[0m\u001b[1;33m.\u001b[0m\u001b[0mjoin\u001b[0m\u001b[1;33m(\u001b[0m\u001b[0mchunk\u001b[0m\u001b[1;33m[\u001b[0m\u001b[0mphysical_quantity\u001b[0m\u001b[1;33m]\u001b[0m\u001b[1;33m.\u001b[0m\u001b[0mcolumns\u001b[0m\u001b[1;33m)\u001b[0m\u001b[1;33m\u001b[0m\u001b[0m\n\u001b[0m\u001b[0;32m    635\u001b[0m             \u001b[0mchunk_to_yield\u001b[0m\u001b[1;33m.\u001b[0m\u001b[0mname\u001b[0m \u001b[1;33m=\u001b[0m \u001b[1;33m(\u001b[0m\u001b[0mphysical_quantity\u001b[0m\u001b[1;33m,\u001b[0m \u001b[0mac_types\u001b[0m\u001b[1;33m)\u001b[0m\u001b[1;33m\u001b[0m\u001b[0m\n\u001b[0;32m    636\u001b[0m             \u001b[0mchunk_to_yield\u001b[0m\u001b[1;33m.\u001b[0m\u001b[0mtimeframe\u001b[0m \u001b[1;33m=\u001b[0m \u001b[0mgetattr\u001b[0m\u001b[1;33m(\u001b[0m\u001b[0mchunk\u001b[0m\u001b[1;33m,\u001b[0m \u001b[1;34m'timeframe'\u001b[0m\u001b[1;33m,\u001b[0m \u001b[0mNone\u001b[0m\u001b[1;33m)\u001b[0m\u001b[1;33m\u001b[0m\u001b[0m\n",
      "\u001b[1;31mTypeError\u001b[0m: sequence item 0: expected string, tuple found"
     ]
    }
   ],
   "source": [
    "from sys import stdout\n",
    "plot_activation(index_with_max_duration)\n",
    "n = len(source.activations[BUILDING_I])\n",
    "for i in range(n):\n",
    "    print(\"\\r\", i, \"/\", n, end=\"\")\n",
    "    stdout.flush()\n",
    "    plot_activation(i)"
   ]
  },
  {
   "cell_type": "code",
   "execution_count": null,
   "metadata": {
    "collapsed": true
   },
   "outputs": [],
   "source": []
  },
  {
   "cell_type": "code",
   "execution_count": null,
   "metadata": {
    "collapsed": true
   },
   "outputs": [],
   "source": []
  }
 ],
 "metadata": {
  "kernelspec": {
   "display_name": "Python 2",
   "language": "python",
   "name": "python2"
  },
  "language_info": {
   "codemirror_mode": {
    "name": "ipython",
    "version": 2
   },
   "file_extension": ".py",
   "mimetype": "text/x-python",
   "name": "python",
   "nbconvert_exporter": "python",
   "pygments_lexer": "ipython2",
   "version": "2.7.9"
  }
 },
 "nbformat": 4,
 "nbformat_minor": 0
}
