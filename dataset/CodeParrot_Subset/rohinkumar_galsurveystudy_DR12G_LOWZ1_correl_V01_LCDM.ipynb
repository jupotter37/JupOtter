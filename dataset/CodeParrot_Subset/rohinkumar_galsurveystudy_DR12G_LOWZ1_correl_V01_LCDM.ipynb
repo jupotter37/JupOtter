{
 "cells": [
  {
   "cell_type": "markdown",
   "metadata": {},
   "source": [
    "# Correlation function of DR12G SDSS LOWZ Catalog"
   ]
  },
  {
   "cell_type": "markdown",
   "metadata": {},
   "source": [
    "First import all the modules such as healpy and astropy needed for analyzing the structure"
   ]
  },
  {
   "cell_type": "code",
   "execution_count": 1,
   "metadata": {
    "collapsed": true
   },
   "outputs": [],
   "source": [
    "import healpix_util as hu\n",
    "import astropy as ap\n",
    "import numpy as np\n",
    "from astropy.io import fits\n",
    "from astropy.table import Table\n",
    "import astropy.io.ascii as ascii\n",
    "from astropy.io import fits\n",
    "from astropy.constants import c\n",
    "import matplotlib.pyplot as plt\n",
    "import math as m\n",
    "from math import pi\n",
    "#from scipy.constants import c\n",
    "import scipy.special as sp\n",
    "from astroML.decorators import pickle_results\n",
    "from scipy import integrate\n",
    "import warnings\n",
    "from sklearn.neighbors import BallTree\n",
    "import pickle\n",
    "import multiprocessing as mp\n",
    "import time\n",
    "from cython_metric import *\n",
    "from lcdmmetric import *\n",
    "from progressbar import *\n",
    "from tqdm import *\n",
    "from functools import partial\n",
    "import pymangle\n",
    "#from astroML.datasets import fetch_sdss_specgals\n",
    "#from astroML.correlation import bootstrap_two_point_angular\n",
    "%matplotlib inline"
   ]
  },
  {
   "cell_type": "markdown",
   "metadata": {},
   "source": [
    "Read the data file (taken from http://cosmo.nyu.edu/~eak306/SDSS-LRG.html ) converted to ascii with comoving distance etc. in V01 reading from pkl files for faster read"
   ]
  },
  {
   "cell_type": "code",
   "execution_count": 2,
   "metadata": {
    "collapsed": true
   },
   "outputs": [],
   "source": [
    "data=ascii.read(\"./output/dr12glnsrarf.dat\")"
   ]
  },
  {
   "cell_type": "code",
   "execution_count": 3,
   "metadata": {},
   "outputs": [
    {
     "data": {
      "text/html": [
       "&lt;Table length=317780&gt;\n",
       "<table id=\"table4517634384\" class=\"table-striped table-bordered table-condensed\">\n",
       "<thead><tr><th>z</th><th>ra</th><th>dec</th><th>s</th><th>rar</th><th>decr</th></tr></thead>\n",
       "<thead><tr><th>float64</th><th>float64</th><th>float64</th><th>float64</th><th>float64</th><th>float64</th></tr></thead>\n",
       "<tr><td>0.345888</td><td>195.21171</td><td>-0.505258</td><td>0.317743</td><td>3.407087</td><td>-0.008818</td></tr>\n",
       "<tr><td>0.33261</td><td>225.586971</td><td>-0.046532</td><td>0.306603</td><td>3.937235</td><td>-0.000812</td></tr>\n",
       "<tr><td>0.332531</td><td>225.513692</td><td>-0.19026</td><td>0.306536</td><td>3.935956</td><td>-0.003321</td></tr>\n",
       "<tr><td>0.384936</td><td>195.151124</td><td>0.357886</td><td>0.350019</td><td>3.40603</td><td>0.006246</td></tr>\n",
       "<tr><td>0.248512</td><td>195.095915</td><td>-1.063041</td><td>0.234083</td><td>3.405066</td><td>-0.018554</td></tr>\n",
       "<tr><td>0.30991</td><td>195.210161</td><td>-1.064036</td><td>0.287363</td><td>3.40706</td><td>-0.018571</td></tr>\n",
       "<tr><td>0.449055</td><td>195.174248</td><td>-1.226954</td><td>0.401464</td><td>3.406433</td><td>-0.021414</td></tr>\n",
       "<tr><td>0.453334</td><td>195.310582</td><td>-1.140315</td><td>0.404829</td><td>3.408813</td><td>-0.019902</td></tr>\n",
       "<tr><td>0.192286</td><td>195.475965</td><td>-1.07152</td><td>0.183698</td><td>3.411699</td><td>-0.018702</td></tr>\n",
       "<tr><td>0.380916</td><td>195.599822</td><td>-1.210118</td><td>0.346729</td><td>3.413861</td><td>-0.021121</td></tr>\n",
       "<tr><td>...</td><td>...</td><td>...</td><td>...</td><td>...</td><td>...</td></tr>\n",
       "<tr><td>0.318129</td><td>219.816901</td><td>64.399495</td><td>0.294358</td><td>3.836529</td><td>1.123983</td></tr>\n",
       "<tr><td>0.204984</td><td>220.228926</td><td>64.113047</td><td>0.19521</td><td>3.84372</td><td>1.118984</td></tr>\n",
       "<tr><td>0.117252</td><td>220.83853</td><td>64.14924</td><td>0.114091</td><td>3.854359</td><td>1.119615</td></tr>\n",
       "<tr><td>0.205529</td><td>220.744658</td><td>64.054084</td><td>0.195703</td><td>3.852721</td><td>1.117955</td></tr>\n",
       "<tr><td>0.297507</td><td>221.410279</td><td>63.959375</td><td>0.276746</td><td>3.864338</td><td>1.116302</td></tr>\n",
       "<tr><td>0.199543</td><td>221.591765</td><td>63.863893</td><td>0.190286</td><td>3.867506</td><td>1.114635</td></tr>\n",
       "<tr><td>0.201655</td><td>221.554537</td><td>63.825759</td><td>0.192199</td><td>3.866856</td><td>1.11397</td></tr>\n",
       "<tr><td>0.267434</td><td>223.989695</td><td>63.09317</td><td>0.250696</td><td>3.909358</td><td>1.101184</td></tr>\n",
       "<tr><td>0.153101</td><td>224.145463</td><td>62.983435</td><td>0.147683</td><td>3.912076</td><td>1.099268</td></tr>\n",
       "<tr><td>0.208536</td><td>224.686399</td><td>62.837926</td><td>0.198416</td><td>3.921517</td><td>1.096729</td></tr>\n",
       "</table>"
      ],
      "text/plain": [
       "<Table length=317780>\n",
       "   z         ra        dec       s       rar       decr  \n",
       "float64   float64    float64  float64  float64   float64 \n",
       "-------- ---------- --------- -------- -------- ---------\n",
       "0.345888  195.21171 -0.505258 0.317743 3.407087 -0.008818\n",
       " 0.33261 225.586971 -0.046532 0.306603 3.937235 -0.000812\n",
       "0.332531 225.513692  -0.19026 0.306536 3.935956 -0.003321\n",
       "0.384936 195.151124  0.357886 0.350019  3.40603  0.006246\n",
       "0.248512 195.095915 -1.063041 0.234083 3.405066 -0.018554\n",
       " 0.30991 195.210161 -1.064036 0.287363  3.40706 -0.018571\n",
       "0.449055 195.174248 -1.226954 0.401464 3.406433 -0.021414\n",
       "0.453334 195.310582 -1.140315 0.404829 3.408813 -0.019902\n",
       "0.192286 195.475965  -1.07152 0.183698 3.411699 -0.018702\n",
       "0.380916 195.599822 -1.210118 0.346729 3.413861 -0.021121\n",
       "     ...        ...       ...      ...      ...       ...\n",
       "0.318129 219.816901 64.399495 0.294358 3.836529  1.123983\n",
       "0.204984 220.228926 64.113047  0.19521  3.84372  1.118984\n",
       "0.117252  220.83853  64.14924 0.114091 3.854359  1.119615\n",
       "0.205529 220.744658 64.054084 0.195703 3.852721  1.117955\n",
       "0.297507 221.410279 63.959375 0.276746 3.864338  1.116302\n",
       "0.199543 221.591765 63.863893 0.190286 3.867506  1.114635\n",
       "0.201655 221.554537 63.825759 0.192199 3.866856   1.11397\n",
       "0.267434 223.989695  63.09317 0.250696 3.909358  1.101184\n",
       "0.153101 224.145463 62.983435 0.147683 3.912076  1.099268\n",
       "0.208536 224.686399 62.837926 0.198416 3.921517  1.096729"
      ]
     },
     "execution_count": 3,
     "metadata": {},
     "output_type": "execute_result"
    }
   ],
   "source": [
    "data"
   ]
  },
  {
   "cell_type": "code",
   "execution_count": 4,
   "metadata": {
    "collapsed": true
   },
   "outputs": [],
   "source": [
    "data.remove_column('z')\n",
    "data.remove_column('ra')\n",
    "data.remove_column('dec')"
   ]
  },
  {
   "cell_type": "code",
   "execution_count": 5,
   "metadata": {},
   "outputs": [
    {
     "data": {
      "text/html": [
       "&lt;Table length=317780&gt;\n",
       "<table id=\"table4517634384\" class=\"table-striped table-bordered table-condensed\">\n",
       "<thead><tr><th>s</th><th>rar</th><th>decr</th></tr></thead>\n",
       "<thead><tr><th>float64</th><th>float64</th><th>float64</th></tr></thead>\n",
       "<tr><td>0.317743</td><td>3.407087</td><td>-0.008818</td></tr>\n",
       "<tr><td>0.306603</td><td>3.937235</td><td>-0.000812</td></tr>\n",
       "<tr><td>0.306536</td><td>3.935956</td><td>-0.003321</td></tr>\n",
       "<tr><td>0.350019</td><td>3.40603</td><td>0.006246</td></tr>\n",
       "<tr><td>0.234083</td><td>3.405066</td><td>-0.018554</td></tr>\n",
       "<tr><td>0.287363</td><td>3.40706</td><td>-0.018571</td></tr>\n",
       "<tr><td>0.401464</td><td>3.406433</td><td>-0.021414</td></tr>\n",
       "<tr><td>0.404829</td><td>3.408813</td><td>-0.019902</td></tr>\n",
       "<tr><td>0.183698</td><td>3.411699</td><td>-0.018702</td></tr>\n",
       "<tr><td>0.346729</td><td>3.413861</td><td>-0.021121</td></tr>\n",
       "<tr><td>...</td><td>...</td><td>...</td></tr>\n",
       "<tr><td>0.294358</td><td>3.836529</td><td>1.123983</td></tr>\n",
       "<tr><td>0.19521</td><td>3.84372</td><td>1.118984</td></tr>\n",
       "<tr><td>0.114091</td><td>3.854359</td><td>1.119615</td></tr>\n",
       "<tr><td>0.195703</td><td>3.852721</td><td>1.117955</td></tr>\n",
       "<tr><td>0.276746</td><td>3.864338</td><td>1.116302</td></tr>\n",
       "<tr><td>0.190286</td><td>3.867506</td><td>1.114635</td></tr>\n",
       "<tr><td>0.192199</td><td>3.866856</td><td>1.11397</td></tr>\n",
       "<tr><td>0.250696</td><td>3.909358</td><td>1.101184</td></tr>\n",
       "<tr><td>0.147683</td><td>3.912076</td><td>1.099268</td></tr>\n",
       "<tr><td>0.198416</td><td>3.921517</td><td>1.096729</td></tr>\n",
       "</table>"
      ],
      "text/plain": [
       "<Table length=317780>\n",
       "   s       rar       decr  \n",
       "float64  float64   float64 \n",
       "-------- -------- ---------\n",
       "0.317743 3.407087 -0.008818\n",
       "0.306603 3.937235 -0.000812\n",
       "0.306536 3.935956 -0.003321\n",
       "0.350019  3.40603  0.006246\n",
       "0.234083 3.405066 -0.018554\n",
       "0.287363  3.40706 -0.018571\n",
       "0.401464 3.406433 -0.021414\n",
       "0.404829 3.408813 -0.019902\n",
       "0.183698 3.411699 -0.018702\n",
       "0.346729 3.413861 -0.021121\n",
       "     ...      ...       ...\n",
       "0.294358 3.836529  1.123983\n",
       " 0.19521  3.84372  1.118984\n",
       "0.114091 3.854359  1.119615\n",
       "0.195703 3.852721  1.117955\n",
       "0.276746 3.864338  1.116302\n",
       "0.190286 3.867506  1.114635\n",
       "0.192199 3.866856   1.11397\n",
       "0.250696 3.909358  1.101184\n",
       "0.147683 3.912076  1.099268\n",
       "0.198416 3.921517  1.096729"
      ]
     },
     "execution_count": 5,
     "metadata": {},
     "output_type": "execute_result"
    }
   ],
   "source": [
    "data"
   ]
  },
  {
   "cell_type": "code",
   "execution_count": 6,
   "metadata": {
    "collapsed": true
   },
   "outputs": [],
   "source": [
    "rs=np.array(data['s'])\n",
    "rrar=np.array(data['rar'])\n",
    "rdecr=np.array(data['decr'])"
   ]
  },
  {
   "cell_type": "code",
   "execution_count": 7,
   "metadata": {
    "collapsed": true
   },
   "outputs": [],
   "source": [
    "dat=np.array([rs,rrar,rdecr])"
   ]
  },
  {
   "cell_type": "code",
   "execution_count": 8,
   "metadata": {},
   "outputs": [
    {
     "data": {
      "text/plain": [
       "array([[  3.17743000e-01,   3.06603000e-01,   3.06536000e-01, ...,\n",
       "          2.50696000e-01,   1.47683000e-01,   1.98416000e-01],\n",
       "       [  3.40708700e+00,   3.93723500e+00,   3.93595600e+00, ...,\n",
       "          3.90935800e+00,   3.91207600e+00,   3.92151700e+00],\n",
       "       [ -8.81800000e-03,  -8.12000000e-04,  -3.32100000e-03, ...,\n",
       "          1.10118400e+00,   1.09926800e+00,   1.09672900e+00]])"
      ]
     },
     "execution_count": 8,
     "metadata": {},
     "output_type": "execute_result"
    }
   ],
   "source": [
    "dat"
   ]
  },
  {
   "cell_type": "code",
   "execution_count": 9,
   "metadata": {},
   "outputs": [
    {
     "data": {
      "text/plain": [
       "array([[  3.17743000e-01,   3.06603000e-01,   3.06536000e-01, ...,\n",
       "          2.50696000e-01,   1.47683000e-01,   1.98416000e-01],\n",
       "       [  3.40708700e+00,   3.93723500e+00,   3.93595600e+00, ...,\n",
       "          3.90935800e+00,   3.91207600e+00,   3.92151700e+00],\n",
       "       [ -8.81800000e-03,  -8.12000000e-04,  -3.32100000e-03, ...,\n",
       "          1.10118400e+00,   1.09926800e+00,   1.09672900e+00]])"
      ]
     },
     "execution_count": 9,
     "metadata": {},
     "output_type": "execute_result"
    }
   ],
   "source": [
    "dat.reshape(3,len(data))"
   ]
  },
  {
   "cell_type": "code",
   "execution_count": 10,
   "metadata": {
    "collapsed": true
   },
   "outputs": [],
   "source": [
    "dat=dat.transpose()"
   ]
  },
  {
   "cell_type": "code",
   "execution_count": 11,
   "metadata": {},
   "outputs": [
    {
     "data": {
      "text/plain": [
       "array([[  3.17743000e-01,   3.40708700e+00,  -8.81800000e-03],\n",
       "       [  3.06603000e-01,   3.93723500e+00,  -8.12000000e-04],\n",
       "       [  3.06536000e-01,   3.93595600e+00,  -3.32100000e-03],\n",
       "       ..., \n",
       "       [  2.50696000e-01,   3.90935800e+00,   1.10118400e+00],\n",
       "       [  1.47683000e-01,   3.91207600e+00,   1.09926800e+00],\n",
       "       [  1.98416000e-01,   3.92151700e+00,   1.09672900e+00]])"
      ]
     },
     "execution_count": 11,
     "metadata": {},
     "output_type": "execute_result"
    }
   ],
   "source": [
    "dat"
   ]
  },
  {
   "cell_type": "code",
   "execution_count": 12,
   "metadata": {
    "collapsed": true
   },
   "outputs": [],
   "source": [
    "# Saving the objects:\n",
    "with open('dr12glnLCDM.pkl', 'w') as f:  # Python 3: open(..., 'wb')\n",
    "    pickle.dump(dat, f)"
   ]
  },
  {
   "cell_type": "code",
   "execution_count": 2,
   "metadata": {},
   "outputs": [
    {
     "data": {
      "text/plain": [
       "array([[  3.17743000e-01,   3.40708700e+00,  -8.81800000e-03],\n",
       "       [  3.06603000e-01,   3.93723500e+00,  -8.12000000e-04],\n",
       "       [  3.06536000e-01,   3.93595600e+00,  -3.32100000e-03],\n",
       "       ..., \n",
       "       [  2.50696000e-01,   3.90935800e+00,   1.10118400e+00],\n",
       "       [  1.47683000e-01,   3.91207600e+00,   1.09926800e+00],\n",
       "       [  1.98416000e-01,   3.92151700e+00,   1.09672900e+00]])"
      ]
     },
     "execution_count": 2,
     "metadata": {},
     "output_type": "execute_result"
    }
   ],
   "source": [
    "# Getting back the objects:\n",
    "with open('../pkl/dr12glnLCDM.pkl') as f:  # Python 3: open(..., 'rb')\n",
    "    dat = pickle.load(f)\n",
    "dat"
   ]
  },
  {
   "cell_type": "code",
   "execution_count": 3,
   "metadata": {},
   "outputs": [
    {
     "data": {
      "text/plain": [
       "array([[ 0.317743,  3.144764,  0.799349],\n",
       "       [ 0.306603,  0.421375,  0.17509 ],\n",
       "       [ 0.306536,  3.53492 ,  0.343424],\n",
       "       ..., \n",
       "       [ 0.250696,  2.338491,  0.771776],\n",
       "       [ 0.147683,  2.772683,  0.398022],\n",
       "       [ 0.198416,  0.440099,  0.079733]])"
      ]
     },
     "execution_count": 3,
     "metadata": {},
     "output_type": "execute_result"
    }
   ],
   "source": [
    "# Getting back the objects:\n",
    "with open('../pkl/rdr12glnLCDM.pkl') as f:  # Python 3: open(..., 'rb')\n",
    "    datR = pickle.load(f)\n",
    "datR"
   ]
  },
  {
   "cell_type": "code",
   "execution_count": 6,
   "metadata": {},
   "outputs": [
    {
     "data": {
      "text/plain": [
       "0.38479457954996177"
      ]
     },
     "execution_count": 6,
     "metadata": {},
     "output_type": "execute_result"
    }
   ],
   "source": [
    "LCDMmetricsq(dat[0],datR[1])"
   ]
  },
  {
   "cell_type": "code",
   "execution_count": 15,
   "metadata": {},
   "outputs": [
    {
     "name": "stdout",
     "output_type": "stream",
     "text": [
      "CPU times: user 21.3 s, sys: 330 ms, total: 21.7 s\n",
      "Wall time: 22 s\n"
     ]
    }
   ],
   "source": [
    "%%time\n",
    "BT_D = BallTree(dat,metric='pyfunc',func=LCDMmetricsq) \n",
    "\n",
    "with open('BTDdr12glnsLCDM.pkl', 'w') as f:\n",
    "    pickle.dump(BT_D,f)"
   ]
  },
  {
   "cell_type": "code",
   "execution_count": 4,
   "metadata": {},
   "outputs": [
    {
     "data": {
      "text/plain": [
       "<sklearn.neighbors.ball_tree.BinaryTree at 0x7fae9af3ce50>"
      ]
     },
     "execution_count": 4,
     "metadata": {},
     "output_type": "execute_result"
    }
   ],
   "source": [
    "with open('../pkl/BTDdr12glnsLCDM.pkl') as f:\n",
    "    BTD = pickle.load(f)\n",
    "    \n",
    "BTD"
   ]
  },
  {
   "cell_type": "code",
   "execution_count": 7,
   "metadata": {},
   "outputs": [
    {
     "data": {
      "text/plain": [
       "array([ 0.004,  0.008,  0.012,  0.016,  0.02 ,  0.024,  0.028,  0.032,\n",
       "        0.036,  0.04 ,  0.044,  0.048,  0.052,  0.056,  0.06 ,  0.064,\n",
       "        0.068,  0.072,  0.076,  0.08 ])"
      ]
     },
     "execution_count": 7,
     "metadata": {},
     "output_type": "execute_result"
    }
   ],
   "source": [
    "bins=np.arange(0.004,0.084,0.004)\n",
    "bins"
   ]
  },
  {
   "cell_type": "code",
   "execution_count": 8,
   "metadata": {},
   "outputs": [
    {
     "data": {
      "text/plain": [
       "array([  1.60000000e-05,   6.40000000e-05,   1.44000000e-04,\n",
       "         2.56000000e-04,   4.00000000e-04,   5.76000000e-04,\n",
       "         7.84000000e-04,   1.02400000e-03,   1.29600000e-03,\n",
       "         1.60000000e-03,   1.93600000e-03,   2.30400000e-03,\n",
       "         2.70400000e-03,   3.13600000e-03,   3.60000000e-03,\n",
       "         4.09600000e-03,   4.62400000e-03,   5.18400000e-03,\n",
       "         5.77600000e-03,   6.40000000e-03])"
      ]
     },
     "execution_count": 8,
     "metadata": {},
     "output_type": "execute_result"
    }
   ],
   "source": [
    "binsq=bins**2\n",
    "binsq"
   ]
  },
  {
   "cell_type": "code",
   "execution_count": 9,
   "metadata": {},
   "outputs": [
    {
     "name": "stdout",
     "output_type": "stream",
     "text": [
      "[   2362899    9375880   24665137   51634060   93466536  153153488\n",
      "  233552261  337535905  468011932  627112280  817341724 1040611341\n",
      " 1299129222 1593931889 1926540941 2298624743 2710205801 3162191282\n",
      " 3655125660 4190717332]\n",
      "Total run time:\n",
      "37158.8006971\n",
      "CPU times: user 10h 8min 11s, sys: 1min 51s, total: 10h 10min 3s\n",
      "Wall time: 10h 19min 18s\n"
     ]
    }
   ],
   "source": [
    "%%time\n",
    "start_time=time.time()\n",
    "counts_DD=BTD.two_point_correlation(dat,binsq)\n",
    "print counts_DD\n",
    "end_time=time.time()\n",
    "tottime=end_time-start_time\n",
    "print \"Total run time:\"\n",
    "print tottime\n",
    "\n",
    "with open('../pkl/BTDdr12glnsDDLCDM.pkl', 'w') as f:\n",
    "    pickle.dump(counts_DD,f)\n",
    "\n",
    "with open('../pkl/BTDdr12glnsDDLCDM.pkl') as f:\n",
    "    counts_DD = pickle.load(f)\n",
    "    \n",
    "counts_DD"
   ]
  },
  {
   "cell_type": "code",
   "execution_count": 10,
   "metadata": {},
   "outputs": [
    {
     "data": {
      "text/plain": [
       "array([  7012981,  15289257,  26968923,  41832476,  59686952,  80398773,\n",
       "       103983644, 130476027, 159100348, 190229444, 223269617, 258517881,\n",
       "       294802667, 332609052, 372083802, 411581058, 451985481, 492934378,\n",
       "       535591672])"
      ]
     },
     "execution_count": 10,
     "metadata": {},
     "output_type": "execute_result"
    }
   ],
   "source": [
    "DD=np.diff(counts_DD)\n",
    "DD"
   ]
  },
  {
   "cell_type": "code",
   "execution_count": null,
   "metadata": {
    "collapsed": true
   },
   "outputs": [],
   "source": []
  },
  {
   "cell_type": "code",
   "execution_count": 11,
   "metadata": {},
   "outputs": [
    {
     "name": "stdout",
     "output_type": "stream",
     "text": [
      "[    504979    3931526   12956346   29997328   57234414   96752341\n",
      "  150541886  220777339  309385659  418372669  549293838  703563150\n",
      "  882500548 1087234983 1318858276 1578088357 1865814733 2182502217\n",
      " 2528443710 2903922644]\n",
      "Total run time:\n",
      "17503.951926\n",
      "CPU times: user 4h 3min 8s, sys: 36.9 s, total: 4h 3min 45s\n",
      "Wall time: 4h 51min 43s\n"
     ]
    }
   ],
   "source": [
    "%%time\n",
    "start_time=time.time()\n",
    "counts_DR=BTD.two_point_correlation(datR,binsq)\n",
    "print counts_DR\n",
    "end_time=time.time()\n",
    "tottime=end_time-start_time\n",
    "print \"Total run time:\"\n",
    "print tottime\n",
    "\n",
    "with open('../pkl/BTDdr12glnsDRLCDM.pkl', 'w') as f:\n",
    "    pickle.dump(counts_DR,f)\n",
    "\n",
    "with open('../pkl/BTDdr12glnsDRLCDM.pkl') as f:\n",
    "    counts_DR = pickle.load(f)\n",
    "    \n",
    "counts_DR"
   ]
  },
  {
   "cell_type": "code",
   "execution_count": 12,
   "metadata": {},
   "outputs": [
    {
     "data": {
      "text/plain": [
       "array([    504979,    3931526,   12956346,   29997328,   57234414,\n",
       "         96752341,  150541886,  220777339,  309385659,  418372669,\n",
       "        549293838,  703563150,  882500548, 1087234983, 1318858276,\n",
       "       1578088357, 1865814733, 2182502217, 2528443710, 2903922644])"
      ]
     },
     "execution_count": 12,
     "metadata": {},
     "output_type": "execute_result"
    }
   ],
   "source": [
    "counts_DR"
   ]
  },
  {
   "cell_type": "code",
   "execution_count": 13,
   "metadata": {
    "collapsed": true
   },
   "outputs": [],
   "source": [
    "DR=np.diff(counts_DR)"
   ]
  },
  {
   "cell_type": "code",
   "execution_count": 14,
   "metadata": {},
   "outputs": [
    {
     "data": {
      "text/plain": [
       "array([  3426547,   9024820,  17040982,  27237086,  39517927,  53789545,\n",
       "        70235453,  88608320, 108987010, 130921169, 154269312, 178937398,\n",
       "       204734435, 231623293, 259230081, 287726376, 316687484, 345941493,\n",
       "       375478934])"
      ]
     },
     "execution_count": 14,
     "metadata": {},
     "output_type": "execute_result"
    }
   ],
   "source": [
    "DR"
   ]
  },
  {
   "cell_type": "code",
   "execution_count": null,
   "metadata": {},
   "outputs": [],
   "source": [
    "plt.plot(bins[1:len(bins)],DR,'bo-')"
   ]
  },
  {
   "cell_type": "code",
   "execution_count": 15,
   "metadata": {},
   "outputs": [
    {
     "ename": "NameError",
     "evalue": "name 'RR' is not defined",
     "output_type": "error",
     "traceback": [
      "\u001b[0;31m---------------------------------------------------------------------------\u001b[0m",
      "\u001b[0;31mNameError\u001b[0m                                 Traceback (most recent call last)",
      "\u001b[0;32m<ipython-input-15-01f3c4525d29>\u001b[0m in \u001b[0;36m<module>\u001b[0;34m()\u001b[0m\n\u001b[0;32m----> 1\u001b[0;31m \u001b[0mRR_zero\u001b[0m \u001b[0;34m=\u001b[0m \u001b[0;34m(\u001b[0m\u001b[0mRR\u001b[0m \u001b[0;34m==\u001b[0m \u001b[0;36m0\u001b[0m\u001b[0;34m)\u001b[0m\u001b[0;34m\u001b[0m\u001b[0m\n\u001b[0m\u001b[1;32m      2\u001b[0m \u001b[0mRR\u001b[0m\u001b[0;34m[\u001b[0m\u001b[0mRR_zero\u001b[0m\u001b[0;34m]\u001b[0m \u001b[0;34m=\u001b[0m \u001b[0;36m1\u001b[0m\u001b[0;34m\u001b[0m\u001b[0m\n",
      "\u001b[0;31mNameError\u001b[0m: name 'RR' is not defined"
     ]
    }
   ],
   "source": [
    "RR_zero = (RR == 0)\n",
    "RR[RR_zero] = 1"
   ]
  },
  {
   "cell_type": "code",
   "execution_count": null,
   "metadata": {
    "collapsed": true
   },
   "outputs": [],
   "source": [
    "corrells=( DD - 2.0 * DR + RR) / RR"
   ]
  },
  {
   "cell_type": "code",
   "execution_count": null,
   "metadata": {},
   "outputs": [],
   "source": [
    "corrells"
   ]
  },
  {
   "cell_type": "code",
   "execution_count": 60,
   "metadata": {},
   "outputs": [
    {
     "data": {
      "text/plain": [
       "[<matplotlib.lines.Line2D at 0x114929c10>]"
      ]
     },
     "execution_count": 60,
     "metadata": {},
     "output_type": "execute_result"
    },
    {
     "data": {
      "image/png": "[encoded data removed]",
      "text/plain": [
       "<matplotlib.figure.Figure at 0x1144a3e10>"
      ]
     },
     "metadata": {},
     "output_type": "display_data"
    }
   ],
   "source": [
    "plt.plot(bins[1:len(bins)],corrells,'go-')"
   ]
  },
  {
   "cell_type": "code",
   "execution_count": 61,
   "metadata": {},
   "outputs": [
    {
     "data": {
      "text/plain": [
       "[<matplotlib.lines.Line2D at 0x1143fea50>]"
      ]
     },
     "execution_count": 61,
     "metadata": {},
     "output_type": "execute_result"
    },
    {
     "data": {
      "image/png": "[encoded data removed]",
      "text/plain": [
       "<matplotlib.figure.Figure at 0x11494f190>"
      ]
     },
     "metadata": {},
     "output_type": "display_data"
    }
   ],
   "source": [
    "plt.plot(bins[1:len(bins)],bins[1:len(bins)]*bins[1:len(bins)]*corrells*(c*1e-5)**2,'go-')"
   ]
  },
  {
   "cell_type": "code",
   "execution_count": 62,
   "metadata": {},
   "outputs": [
    {
     "data": {
      "text/plain": [
       "[<matplotlib.lines.Line2D at 0x113f16490>]"
      ]
     },
     "execution_count": 62,
     "metadata": {},
     "output_type": "execute_result"
    },
    {
     "data": {
      "image/png": "[encoded data removed]",
      "text/plain": [
       "<matplotlib.figure.Figure at 0x1144dd290>"
      ]
     },
     "metadata": {},
     "output_type": "display_data"
    }
   ],
   "source": [
    "plt.plot(bins[2:len(bins)],bins[2:len(bins)]*bins[2:len(bins)]*corrells[1:len(bins)]*(c*1e-5)**2,'go-')"
   ]
  },
  {
   "cell_type": "code",
   "execution_count": 64,
   "metadata": {},
   "outputs": [
    {
     "data": {
      "text/plain": [
       "[<matplotlib.lines.Line2D at 0x1144d4690>]"
      ]
     },
     "execution_count": 64,
     "metadata": {},
     "output_type": "execute_result"
    },
    {
     "data": {
      "image/png": "[encoded data removed]",
      "text/plain": [
       "<matplotlib.figure.Figure at 0x114fafe10>"
      ]
     },
     "metadata": {},
     "output_type": "display_data"
    }
   ],
   "source": [
    "plt.plot(bins[2:len(bins)],corrells[1:len(bins)],'go-')"
   ]
  },
  {
   "cell_type": "code",
   "execution_count": 69,
   "metadata": {},
   "outputs": [
    {
     "data": {
      "image/png": "[encoded data removed]",
      "text/plain": [
       "<matplotlib.figure.Figure at 0x115337d50>"
      ]
     },
     "metadata": {},
     "output_type": "display_data"
    }
   ],
   "source": [
    "plt.plot(bins[2:len(bins)],corrells[1:len(bins)],'go-')\n",
    "plt.savefig(\"correl2xls.pdf\")"
   ]
  },
  {
   "cell_type": "code",
   "execution_count": 70,
   "metadata": {},
   "outputs": [
    {
     "data": {
      "image/png": "[encoded data removed]",
      "text/plain": [
       "<matplotlib.figure.Figure at 0x11543b810>"
      ]
     },
     "metadata": {},
     "output_type": "display_data"
    }
   ],
   "source": [
    "plt.plot(bins[2:len(bins)]*c/1e5,corrells[1:len(bins)],'bo-')\n",
    "plt.savefig(\"correl2x1ls.pdf\")"
   ]
  },
  {
   "cell_type": "code",
   "execution_count": 72,
   "metadata": {},
   "outputs": [
    {
     "data": {
      "image/png": "[encoded data removed]",
      "text/plain": [
       "<matplotlib.figure.Figure at 0x11535a210>"
      ]
     },
     "metadata": {},
     "output_type": "display_data"
    }
   ],
   "source": [
    "plt.yscale('log')\n",
    "plt.plot(bins[1:len(bins)]*c/1e5,corrells,'bo-')\n",
    "plt.savefig(\"correllsfiglog.pdf\")"
   ]
  },
  {
   "cell_type": "code",
   "execution_count": 71,
   "metadata": {},
   "outputs": [
    {
     "data": {
      "image/png": "[encoded data removed]",
      "text/plain": [
       "<matplotlib.figure.Figure at 0x1150b4e90>"
      ]
     },
     "metadata": {},
     "output_type": "display_data"
    }
   ],
   "source": [
    "plt.yscale('log')\n",
    "plt.plot(bins[2:len(bins)]*c/1e5,corrells[1:len(bins)],'ro-')\n",
    "plt.savefig(\"correllslog2x.pdf\")"
   ]
  },
  {
   "cell_type": "code",
   "execution_count": 73,
   "metadata": {},
   "outputs": [
    {
     "data": {
      "image/png": "[encoded data removed]",
      "text/plain": [
       "<matplotlib.figure.Figure at 0x1155bd610>"
      ]
     },
     "metadata": {},
     "output_type": "display_data"
    }
   ],
   "source": [
    "plt.yscale('log')\n",
    "plt.xscale('log')\n",
    "plt.plot(bins[1:len(bins)]*c/1e5,corrells,'bo-')\n",
    "plt.savefig(\"correllsloglog.pdf\")"
   ]
  },
  {
   "cell_type": "code",
   "execution_count": null,
   "metadata": {
    "collapsed": true
   },
   "outputs": [],
   "source": []
  },
  {
   "cell_type": "code",
   "execution_count": null,
   "metadata": {
    "collapsed": true
   },
   "outputs": [],
   "source": []
  },
  {
   "cell_type": "code",
   "execution_count": null,
   "metadata": {
    "collapsed": true
   },
   "outputs": [],
   "source": [
    "from functools import partial\n",
    "\n",
    "def harvester(text, case):\n",
    "    X = case[0]\n",
    "    return text + str(X)\n",
    "\n",
    "\n",
    "partial_harvester = partial(harvester, case=RAW_DATASET)\n",
    "\n",
    "partial_qr=partial(BTD.query_radius,count_only=True)\n",
    "\n",
    "if __name__ == '__main__':\n",
    "    pool = multiprocessing.Pool(processes=6)\n",
    "    case_data = RAW_DATASET\n",
    "    pool.map(partial_harvester, case_data, 1)\n",
    "    pool.close()\n",
    "    pool.join()\n",
    "\n",
    "mapfunc = partial(BTD.query_radius, count_only=True)\n",
    "map(mapfunc, volume_ids)\n"
   ]
  },
  {
   "cell_type": "code",
   "execution_count": null,
   "metadata": {
    "collapsed": true
   },
   "outputs": [],
   "source": []
  },
  {
   "cell_type": "code",
   "execution_count": null,
   "metadata": {
    "collapsed": true
   },
   "outputs": [],
   "source": [
    "#ascii.write(\"DR72DDbinned.dat\",(bins[1:len(bins)],DDresult))\n",
    "start_time=time.time()\n",
    "@pickle_results(\"DR72DDmp1.pkl\")\n",
    "def ddcal(BTD,dat,bins,Nbins):\n",
    "    counts_DD=np.zeros(Nbins)\n",
    "    for i in tqdm(range(Nbins)):\n",
    "        counts_DD[i]=np.sum(BTD.query_radius(dat, bins[i],count_only=True))\n",
    "    DD = np.diff(counts_DD)\n",
    "    print counts_DD\n",
    "    print DD\n",
    "    return DD\n",
    "\n",
    "def mf_wrap(args):\n",
    "    return ddcal(*args)\n",
    "\n",
    "pool=mp.Pool(8)\n",
    "\n",
    "arg=[(BTD,dat,bins,Nbins)]\n",
    "%timeit DDresult=pool.map(mf_wrap,arg) \n",
    "#DDresult = ddcal(BTD,dat,bins,Nbins)\n",
    "end_time=time.time()\n",
    "tottime=end_time-start_time\n",
    "print \"Total run time:\"\n",
    "print tottime"
   ]
  },
  {
   "cell_type": "code",
   "execution_count": null,
   "metadata": {
    "collapsed": true
   },
   "outputs": [],
   "source": [
    "%timeit dat"
   ]
  },
  {
   "cell_type": "code",
   "execution_count": null,
   "metadata": {
    "collapsed": true
   },
   "outputs": [],
   "source": [
    "DDresult[0]"
   ]
  },
  {
   "cell_type": "code",
   "execution_count": null,
   "metadata": {
    "collapsed": true
   },
   "outputs": [],
   "source": [
    "DDresult[1]"
   ]
  },
  {
   "cell_type": "code",
   "execution_count": null,
   "metadata": {
    "collapsed": true
   },
   "outputs": [],
   "source": [
    "plt.plot(bins[1:len(bins)],DDresult[0],'ro')"
   ]
  },
  {
   "cell_type": "code",
   "execution_count": null,
   "metadata": {
    "collapsed": true
   },
   "outputs": [],
   "source": []
  },
  {
   "cell_type": "code",
   "execution_count": null,
   "metadata": {
    "collapsed": true
   },
   "outputs": [],
   "source": []
  },
  {
   "cell_type": "code",
   "execution_count": null,
   "metadata": {
    "collapsed": true
   },
   "outputs": [],
   "source": [
    "def myfun(a,b):\n",
    "  print a + b\n",
    "  return a+b\n",
    "\n",
    "def mf_wrap(args):\n",
    "  return myfun(*args)\n",
    "\n",
    "p = mp.Pool(4)\n",
    "\n",
    "fl = [(a,b) for a in range(3) for b in range(2)]\n",
    "\n",
    "p.map(mf_wrap, fl)"
   ]
  },
  {
   "cell_type": "code",
   "execution_count": null,
   "metadata": {
    "collapsed": true
   },
   "outputs": [],
   "source": []
  },
  {
   "cell_type": "code",
   "execution_count": null,
   "metadata": {
    "collapsed": true
   },
   "outputs": [],
   "source": []
  },
  {
   "cell_type": "code",
   "execution_count": null,
   "metadata": {
    "collapsed": true
   },
   "outputs": [],
   "source": []
  },
  {
   "cell_type": "code",
   "execution_count": null,
   "metadata": {
    "collapsed": true
   },
   "outputs": [],
   "source": [
    "counts_DD=np.zeros(Nbins)\n",
    "\n",
    "for i in range(Nbins):\n",
    "    counts_DD[i]=np.sum(BTD.query_radius(dat, bins[i],count_only=True))\n",
    "DD = np.diff(counts_DD)"
   ]
  },
  {
   "cell_type": "code",
   "execution_count": null,
   "metadata": {
    "collapsed": true
   },
   "outputs": [],
   "source": [
    "print counts_DD\n",
    "print DD"
   ]
  },
  {
   "cell_type": "code",
   "execution_count": null,
   "metadata": {
    "collapsed": true
   },
   "outputs": [],
   "source": [
    "plt.plot(bins[1:len(bins)],DD,'ro')"
   ]
  },
  {
   "cell_type": "code",
   "execution_count": null,
   "metadata": {
    "collapsed": true
   },
   "outputs": [],
   "source": []
  },
  {
   "cell_type": "code",
   "execution_count": null,
   "metadata": {
    "collapsed": true
   },
   "outputs": [],
   "source": []
  },
  {
   "cell_type": "code",
   "execution_count": null,
   "metadata": {
    "collapsed": true
   },
   "outputs": [],
   "source": []
  },
  {
   "cell_type": "code",
   "execution_count": null,
   "metadata": {
    "collapsed": true
   },
   "outputs": [],
   "source": []
  },
  {
   "cell_type": "code",
   "execution_count": null,
   "metadata": {
    "collapsed": true
   },
   "outputs": [],
   "source": []
  },
  {
   "cell_type": "code",
   "execution_count": null,
   "metadata": {
    "collapsed": true
   },
   "outputs": [],
   "source": []
  },
  {
   "cell_type": "code",
   "execution_count": null,
   "metadata": {
    "collapsed": true
   },
   "outputs": [],
   "source": [
    "dataR=fits.open(\"/Users/rohin/Downloads/random-DR7-Full.fits\")"
   ]
  },
  {
   "cell_type": "code",
   "execution_count": null,
   "metadata": {
    "collapsed": true
   },
   "outputs": [],
   "source": [
    "dataR=dataR[1].data"
   ]
  },
  {
   "cell_type": "code",
   "execution_count": null,
   "metadata": {
    "collapsed": true
   },
   "outputs": [],
   "source": [
    "len(dataR)"
   ]
  },
  {
   "cell_type": "code",
   "execution_count": null,
   "metadata": {
    "collapsed": true
   },
   "outputs": [],
   "source": []
  },
  {
   "cell_type": "code",
   "execution_count": null,
   "metadata": {
    "collapsed": true
   },
   "outputs": [],
   "source": [
    "tdata=np.array(data)"
   ]
  },
  {
   "cell_type": "code",
   "execution_count": null,
   "metadata": {
    "collapsed": true
   },
   "outputs": [],
   "source": [
    "type(tdata[4])"
   ]
  },
  {
   "cell_type": "code",
   "execution_count": null,
   "metadata": {
    "collapsed": true
   },
   "outputs": [],
   "source": [
    "tdata.shape"
   ]
  },
  {
   "cell_type": "code",
   "execution_count": null,
   "metadata": {
    "collapsed": true
   },
   "outputs": [],
   "source": []
  },
  {
   "cell_type": "code",
   "execution_count": null,
   "metadata": {
    "collapsed": true
   },
   "outputs": [],
   "source": [
    "tdata.shape"
   ]
  },
  {
   "cell_type": "code",
   "execution_count": null,
   "metadata": {
    "collapsed": true
   },
   "outputs": [],
   "source": [
    "tdata=np.atleast_d(tdata)"
   ]
  },
  {
   "cell_type": "code",
   "execution_count": null,
   "metadata": {
    "collapsed": true
   },
   "outputs": [],
   "source": [
    "tdata.shape"
   ]
  },
  {
   "cell_type": "code",
   "execution_count": null,
   "metadata": {
    "collapsed": true
   },
   "outputs": [],
   "source": [
    "tdata.reshape(len(tdata),3)"
   ]
  },
  {
   "cell_type": "code",
   "execution_count": null,
   "metadata": {
    "collapsed": true
   },
   "outputs": [],
   "source": [
    "tdata=np.asarray(data)\n",
    "tdata=tdata.transpose()"
   ]
  },
  {
   "cell_type": "code",
   "execution_count": null,
   "metadata": {
    "collapsed": true
   },
   "outputs": [],
   "source": []
  },
  {
   "cell_type": "code",
   "execution_count": null,
   "metadata": {
    "collapsed": true
   },
   "outputs": [],
   "source": []
  },
  {
   "cell_type": "code",
   "execution_count": null,
   "metadata": {
    "collapsed": true
   },
   "outputs": [],
   "source": [
    "tdata"
   ]
  },
  {
   "cell_type": "code",
   "execution_count": null,
   "metadata": {
    "collapsed": true
   },
   "outputs": [],
   "source": [
    "len(tdata)"
   ]
  },
  {
   "cell_type": "code",
   "execution_count": null,
   "metadata": {
    "collapsed": true
   },
   "outputs": [],
   "source": []
  },
  {
   "cell_type": "code",
   "execution_count": null,
   "metadata": {
    "collapsed": true
   },
   "outputs": [],
   "source": [
    "BTD.two_point_correlationpoint_correlationpoint_correlationpoint_correlationtime\n",
    "stime=time.time()\n",
    "tpcf=BTD.two_point_correlation(dat,bins)\n",
    "print time.time()-stime\n",
    "print tpcf\n",
    "plt.plot(bins,tpcf)"
   ]
  },
  {
   "cell_type": "code",
   "execution_count": null,
   "metadata": {
    "collapsed": true
   },
   "outputs": [],
   "source": [
    "stime=time.time()\n",
    "tpcfd=BTD.two_point_correlation(dat,bins,dualtree=True)\n",
    "print time.time()-stime\n",
    "print tpcfd\n",
    "plt.plot(bins,tpcfd)"
   ]
  },
  {
   "cell_type": "code",
   "execution_count": null,
   "metadata": {
    "collapsed": true
   },
   "outputs": [],
   "source": []
  },
  {
   "cell_type": "code",
   "execution_count": null,
   "metadata": {
    "collapsed": true
   },
   "outputs": [],
   "source": []
  },
  {
   "cell_type": "code",
   "execution_count": null,
   "metadata": {
    "collapsed": true
   },
   "outputs": [],
   "source": []
  },
  {
   "cell_type": "code",
   "execution_count": null,
   "metadata": {
    "collapsed": true
   },
   "outputs": [],
   "source": [
    "X"
   ]
  },
  {
   "cell_type": "code",
   "execution_count": null,
   "metadata": {
    "collapsed": true
   },
   "outputs": [],
   "source": []
  },
  {
   "cell_type": "code",
   "execution_count": null,
   "metadata": {
    "collapsed": true
   },
   "outputs": [],
   "source": [
    "np.random.seed(0)\n",
    "X = np.random.random((30,3))\n",
    "r = np.linspace(0, 1, 10)\n",
    "tree = BallTree(X,metric='pyfunc',func=LCDMmetric)                \n",
    "s = pickle.dumps(tree)                     \n",
    "treedump = pickle.loads(s) \n",
    "treedump.two_point_correlation(X,r)"
   ]
  },
  {
   "cell_type": "code",
   "execution_count": null,
   "metadata": {
    "collapsed": true
   },
   "outputs": [],
   "source": [
    "BT_D = BallTree(data)\n",
    "        BT_R = BallTree(data_R)\n",
    "\n",
    "        counts_DD = np.zeros(Nbins + 1)\n",
    "        counts_RR = np.zeros(Nbins + 1)\n",
    "\n",
    "        for i in range(Nbins + 1):\n",
    "            counts_DD[i] = np.sum(BT_D.query_radius(data, bins[i],\n",
    "                                                    count_only=True))\n",
    "            counts_RR[i] = np.sum(BT_R.query_radius(data_R, bins[i],\n",
    "                                                    count_only=True))\n",
    "\n",
    "    DD = np.diff(counts_DD)\n",
    "    RR = np.diff(counts_RR)\n",
    "\n",
    "    # check for zero in the denominator\n",
    "    RR_zero = (RR == 0)\n",
    "    RR[RR_zero] = 1\n",
    "\n",
    "    if method == 'standard':\n",
    "        corr = factor ** 2 * DD / RR - 1\n",
    "    elif method == 'landy-szalay':\n",
    "        if sklearn_has_two_point:\n",
    "            counts_DR = KDT_R.two_point_correlation(data, bins)\n",
    "        else:\n",
    "            counts_DR = np.zeros(Nbins + 1)\n",
    "            for i in range(Nbins + 1):\n",
    "                counts_DR[i] = np.sum(BT_R.query_radius(data, bins[i],\n",
    "                                                        count_only=True))\n",
    "        DR = np.diff(counts_DR)\n",
    "\n",
    "        corr = (factor ** 2 * DD - 2 * factor * DR + RR) / RR\n",
    "\n",
    "    corr[RR_zero] = np.nan\n",
    "\n",
    "    return corr"
   ]
  },
  {
   "cell_type": "code",
   "execution_count": null,
   "metadata": {
    "collapsed": true
   },
   "outputs": [],
   "source": []
  },
  {
   "cell_type": "code",
   "execution_count": null,
   "metadata": {
    "collapsed": true
   },
   "outputs": [],
   "source": []
  },
  {
   "cell_type": "code",
   "execution_count": null,
   "metadata": {
    "collapsed": true
   },
   "outputs": [],
   "source": []
  },
  {
   "cell_type": "code",
   "execution_count": null,
   "metadata": {
    "collapsed": true
   },
   "outputs": [],
   "source": []
  },
  {
   "cell_type": "code",
   "execution_count": null,
   "metadata": {
    "collapsed": true
   },
   "outputs": [],
   "source": []
  },
  {
   "cell_type": "code",
   "execution_count": null,
   "metadata": {
    "collapsed": true
   },
   "outputs": [],
   "source": [
    "dr7fdat=np.array([data['s'][0:300] data['rar'][0:300] data['decr'][0:300]])\n",
    "dr7fdat"
   ]
  },
  {
   "cell_type": "code",
   "execution_count": null,
   "metadata": {
    "collapsed": true
   },
   "outputs": [],
   "source": [
    "dr7fdat[2]"
   ]
  },
  {
   "cell_type": "code",
   "execution_count": null,
   "metadata": {
    "collapsed": true
   },
   "outputs": [],
   "source": []
  },
  {
   "cell_type": "code",
   "execution_count": null,
   "metadata": {
    "collapsed": true
   },
   "outputs": [],
   "source": [
    "def LCDMmetric(p1,p2):\n",
    "    costheta=m.sin(dec1)*m.sin(dec2)+m.cos(dec1)*m.cos(dec2)*m.cos(ra1-ra2)\n",
    "    s1=DC_LCDM(z1)\n",
    "    s2=DC_LCDM(z2)\n",
    "    return np.sqrt(s1**2+s2**2-2.0*s1*s2*costheta)"
   ]
  },
  {
   "cell_type": "code",
   "execution_count": null,
   "metadata": {
    "collapsed": true
   },
   "outputs": [],
   "source": []
  },
  {
   "cell_type": "code",
   "execution_count": null,
   "metadata": {
    "collapsed": true
   },
   "outputs": [],
   "source": [
    "#fdata=fits.open(\"/Users/rohin/Downloads/DR7-Full.fits\")"
   ]
  },
  {
   "cell_type": "code",
   "execution_count": null,
   "metadata": {
    "collapsed": true
   },
   "outputs": [],
   "source": [
    "#fdata.writeto(\"./output/DR7fulltrim.fits\")"
   ]
  },
  {
   "cell_type": "code",
   "execution_count": null,
   "metadata": {
    "collapsed": true
   },
   "outputs": [],
   "source": [
    "fdata=fits.open(\"./output/DR7fulltrim.fits\")"
   ]
  },
  {
   "cell_type": "code",
   "execution_count": null,
   "metadata": {
    "collapsed": true
   },
   "outputs": [],
   "source": [
    "cols=fdata[1].columns"
   ]
  },
  {
   "cell_type": "code",
   "execution_count": null,
   "metadata": {
    "collapsed": true
   },
   "outputs": [],
   "source": [
    "cols.del_col('ZTYPE')"
   ]
  },
  {
   "cell_type": "code",
   "execution_count": null,
   "metadata": {
    "collapsed": true
   },
   "outputs": [],
   "source": [
    "cols.del_col('SECTOR')\n",
    "cols.del_col('FGOTMAIN')\n",
    "cols.del_col('QUALITY')\n",
    "cols.del_col('ISBAD')\n",
    "cols.del_col('M')\n",
    "cols.del_col('MMAX')\n",
    "cols.del_col('ILSS')\n",
    "cols.del_col('ICOMB')\n",
    "cols.del_col('VAGC_SELECT')\n",
    "cols.del_col('LSS_INDEX')\n",
    "cols.del_col('FIBERWEIGHT')\n",
    "cols.del_col('PRIMTARGET')\n",
    "cols.del_col('MG')\n",
    "cols.del_col('SECTOR_COMPLETENESS')\n",
    "cols.del_col('COMOV_DENSITY')\n",
    "cols.del_col('RADIAL_WEIGHT')"
   ]
  },
  {
   "cell_type": "code",
   "execution_count": null,
   "metadata": {
    "collapsed": true
   },
   "outputs": [],
   "source": [
    "fdata[1].columns"
   ]
  },
  {
   "cell_type": "code",
   "execution_count": null,
   "metadata": {
    "collapsed": true
   },
   "outputs": [],
   "source": [
    "fdata.writeto(\"./output/DR7fullzradec.fits\")"
   ]
  },
  {
   "cell_type": "code",
   "execution_count": null,
   "metadata": {
    "collapsed": true
   },
   "outputs": [],
   "source": [
    "fdat=fits.open(\"./output/DR7fullzradec.fits\")"
   ]
  },
  {
   "cell_type": "code",
   "execution_count": null,
   "metadata": {
    "collapsed": true
   },
   "outputs": [],
   "source": [
    "fdat[1].columns"
   ]
  },
  {
   "cell_type": "code",
   "execution_count": null,
   "metadata": {
    "collapsed": true
   },
   "outputs": [],
   "source": [
    "fdat[1].data['Z']"
   ]
  },
  {
   "cell_type": "code",
   "execution_count": null,
   "metadata": {
    "collapsed": true
   },
   "outputs": [],
   "source": [
    "fdat[1].data['RA']"
   ]
  },
  {
   "cell_type": "code",
   "execution_count": null,
   "metadata": {
    "collapsed": true
   },
   "outputs": [],
   "source": []
  },
  {
   "cell_type": "code",
   "execution_count": null,
   "metadata": {
    "collapsed": true
   },
   "outputs": [],
   "source": [
    "comovlcdm=DC_LCDM(fdat[1].data['Z'])"
   ]
  },
  {
   "cell_type": "code",
   "execution_count": null,
   "metadata": {
    "collapsed": true
   },
   "outputs": [],
   "source": [
    "fdat[1].data['Z']"
   ]
  },
  {
   "cell_type": "code",
   "execution_count": null,
   "metadata": {
    "collapsed": true
   },
   "outputs": [],
   "source": [
    "comovlcdm"
   ]
  },
  {
   "cell_type": "code",
   "execution_count": null,
   "metadata": {
    "collapsed": true
   },
   "outputs": [],
   "source": [
    "comovlcdm.dtype"
   ]
  },
  {
   "cell_type": "code",
   "execution_count": null,
   "metadata": {
    "collapsed": true
   },
   "outputs": [],
   "source": [
    "#cols=fdat[1].columns"
   ]
  },
  {
   "cell_type": "code",
   "execution_count": null,
   "metadata": {
    "collapsed": true
   },
   "outputs": [],
   "source": [
    "nc=fits.Column(name='COMOV',format='D',array=comovlcdm)"
   ]
  },
  {
   "cell_type": "code",
   "execution_count": null,
   "metadata": {
    "collapsed": true
   },
   "outputs": [],
   "source": [
    "nc1=fits.Column(name='COMOV',format='D')"
   ]
  },
  {
   "cell_type": "code",
   "execution_count": null,
   "metadata": {
    "collapsed": true
   },
   "outputs": [],
   "source": [
    "fdata[1].data['Z']"
   ]
  },
  {
   "cell_type": "code",
   "execution_count": null,
   "metadata": {
    "collapsed": true
   },
   "outputs": [],
   "source": [
    "fdata[1].data['RA']"
   ]
  },
  {
   "cell_type": "code",
   "execution_count": null,
   "metadata": {
    "collapsed": true
   },
   "outputs": [],
   "source": [
    "nc"
   ]
  },
  {
   "cell_type": "code",
   "execution_count": null,
   "metadata": {
    "collapsed": true
   },
   "outputs": [],
   "source": [
    "nc.dtype"
   ]
  },
  {
   "cell_type": "code",
   "execution_count": null,
   "metadata": {
    "collapsed": true
   },
   "outputs": [],
   "source": [
    "#cols.add_col(nc)"
   ]
  },
  {
   "cell_type": "code",
   "execution_count": null,
   "metadata": {
    "collapsed": true
   },
   "outputs": [],
   "source": [
    "fdat[1].columns"
   ]
  },
  {
   "cell_type": "code",
   "execution_count": null,
   "metadata": {
    "collapsed": true
   },
   "outputs": [],
   "source": [
    "fdat[1].columns.info()"
   ]
  },
  {
   "cell_type": "code",
   "execution_count": null,
   "metadata": {
    "collapsed": true
   },
   "outputs": [],
   "source": [
    "fdat[1].columns.add_col(nc1)"
   ]
  },
  {
   "cell_type": "code",
   "execution_count": null,
   "metadata": {
    "collapsed": true
   },
   "outputs": [],
   "source": [
    "fdat[1].data['COMOV']=comovlcdm"
   ]
  },
  {
   "cell_type": "code",
   "execution_count": null,
   "metadata": {
    "collapsed": true
   },
   "outputs": [],
   "source": [
    "comovlcdm"
   ]
  },
  {
   "cell_type": "code",
   "execution_count": null,
   "metadata": {
    "collapsed": true
   },
   "outputs": [],
   "source": [
    "fdat[1].data['Z']"
   ]
  },
  {
   "cell_type": "code",
   "execution_count": null,
   "metadata": {
    "collapsed": true
   },
   "outputs": [],
   "source": [
    "fdat[1].data['COMOV']"
   ]
  },
  {
   "cell_type": "code",
   "execution_count": null,
   "metadata": {
    "collapsed": true
   },
   "outputs": [],
   "source": [
    "fdat[1].data['RA']"
   ]
  },
  {
   "cell_type": "code",
   "execution_count": null,
   "metadata": {
    "collapsed": true
   },
   "outputs": [],
   "source": [
    "fdat[1].data['RA']=fdat[1].data['RA']*pi/180.0"
   ]
  },
  {
   "cell_type": "code",
   "execution_count": null,
   "metadata": {
    "collapsed": true
   },
   "outputs": [],
   "source": [
    "comovlcdm=DC_LCDM(fdat[1].data['Z'])\n",
    "comovlcdm"
   ]
  },
  {
   "cell_type": "code",
   "execution_count": null,
   "metadata": {
    "collapsed": true
   },
   "outputs": [],
   "source": []
  },
  {
   "cell_type": "code",
   "execution_count": null,
   "metadata": {
    "collapsed": true
   },
   "outputs": [],
   "source": []
  },
  {
   "cell_type": "markdown",
   "metadata": {},
   "source": [
    "Random catalog created based on the survey limitations also taken from http://cosmo.nyu.edu/~eak306/SDSS-LRG.html"
   ]
  },
  {
   "cell_type": "code",
   "execution_count": null,
   "metadata": {
    "collapsed": true
   },
   "outputs": [],
   "source": [
    "dataR=fits.open(\"/Users/rohin/Downloads/random-DR7-Full.fits\")"
   ]
  },
  {
   "cell_type": "code",
   "execution_count": null,
   "metadata": {
    "collapsed": true
   },
   "outputs": [],
   "source": [
    "dataR"
   ]
  },
  {
   "cell_type": "code",
   "execution_count": null,
   "metadata": {
    "collapsed": true
   },
   "outputs": [],
   "source": [
    "dataR=dataR[1].data"
   ]
  },
  {
   "cell_type": "code",
   "execution_count": null,
   "metadata": {
    "collapsed": true
   },
   "outputs": [],
   "source": [
    "len(dataR)"
   ]
  },
  {
   "cell_type": "code",
   "execution_count": null,
   "metadata": {
    "collapsed": true
   },
   "outputs": [],
   "source": [
    "NSIDE=512\n",
    "dr72hpix=hu.HealPix(\"ring\",NSIDE)"
   ]
  },
  {
   "cell_type": "code",
   "execution_count": null,
   "metadata": {
    "collapsed": true
   },
   "outputs": [],
   "source": [
    "pixdata = open(\"./output/pixdatadr72VAGCfullrand.dat\",'w')\n",
    "pixdata.write(\"z\\t pix \\n\")\n",
    "\n",
    "for i in range(0,len(data)-1):\n",
    "    pixdata.write(\"%f\\t\" %data['z'][i])\n",
    "    pixdata.write(\"%d\\n\" %dr72hpix.eq2pix(dataR['ra'][i],dataR['dec'][i]))\n",
    "pixdata.close()"
   ]
  },
  {
   "cell_type": "code",
   "execution_count": null,
   "metadata": {
    "collapsed": true
   },
   "outputs": [],
   "source": [
    "pixdata = ascii.read(\"./output/pixdatadr72VAGCfullrand.dat\")\n",
    "hpixdata=np.array(np.zeros(hu.nside2npix(NSIDE)))\n",
    "for j in range(len(pixdata)):\n",
    "    hpixdata[pixdata[j]['pix']]+=1"
   ]
  },
  {
   "cell_type": "code",
   "execution_count": null,
   "metadata": {
    "collapsed": true
   },
   "outputs": [],
   "source": [
    "hpixdata"
   ]
  },
  {
   "cell_type": "code",
   "execution_count": null,
   "metadata": {
    "collapsed": true
   },
   "outputs": [],
   "source": [
    "hu.mollview(hpixdata,rot=180)"
   ]
  },
  {
   "cell_type": "code",
   "execution_count": null,
   "metadata": {
    "collapsed": true
   },
   "outputs": [],
   "source": [
    "hu.orthview(hpixdata)"
   ]
  },
  {
   "cell_type": "code",
   "execution_count": null,
   "metadata": {
    "collapsed": true
   },
   "outputs": [],
   "source": [
    "\"\"\"\n",
    "Tools for computing two-point correlation functions.\n",
    "\"\"\"\n",
    "\n",
    "#from .utils import check_random_state\n",
    "# From scikit-learn utilities:\n",
    "def check_random_state(seed):\n",
    "    \"\"\"Turn seed into a np.random.RandomState instance\n",
    "\n",
    "    If seed is None, return the RandomState singleton used by np.random.\n",
    "    If seed is an int, return a new RandomState instance seeded with seed.\n",
    "    If seed is already a RandomState instance, return it.\n",
    "    Otherwise raise ValueError.\n",
    "    \"\"\"\n",
    "    if seed is None or seed is np.random:\n",
    "        return np.random.mtrand._rand\n",
    "    if isinstance(seed, (int, np.integer)):\n",
    "        return np.random.RandomState(seed)\n",
    "    if isinstance(seed, np.random.RandomState):\n",
    "        return seed\n",
    "    raise ValueError('%r cannot be used to seed a numpy.random.RandomState'\n",
    "                     ' instance' % seed)\n",
    "\n",
    "# Check if scikit-learn's two-point functionality is available.\n",
    "# This was added in scikit-learn version 0.14\n",
    "try:\n",
    "    from sklearn.neighbors import KDTree\n",
    "    sklearn_has_two_point = True\n",
    "except ImportError:\n",
    "    import warnings\n",
    "    sklearn_has_two_point = False\n",
    "\n",
    "\n",
    "def uniform_sphere(RAlim, DEClim, size=1):\n",
    "    \"\"\"Draw a uniform sample on a sphere\n",
    "\n",
    "    Parameters\n",
    "    ----------\n",
    "    RAlim : tuple\n",
    "        select Right Ascension between RAlim[0] and RAlim[1]\n",
    "        units are degrees\n",
    "    DEClim : tuple\n",
    "        select Declination between DEClim[0] and DEClim[1]\n",
    "    size : int (optional)\n",
    "        the size of the random arrays to return (default = 1)\n",
    "\n",
    "    Returns\n",
    "    -------\n",
    "    RA, DEC : ndarray\n",
    "        the random sample on the sphere within the given limits.\n",
    "        arrays have shape equal to size.\n",
    "    \"\"\"\n",
    "    zlim = np.sin(np.pi * np.asarray(DEClim) / 180.)\n",
    "\n",
    "    z = zlim[0] + (zlim[1] - zlim[0]) * np.random.random(size)\n",
    "    DEC = (180. / np.pi) * np.arcsin(z)\n",
    "    RA = RAlim[0] + (RAlim[1] - RAlim[0]) * np.random.random(size)\n",
    "\n",
    "    return RA, DEC\n",
    "\n",
    "\n",
    "def ra_dec_to_xyz(ra, dec):\n",
    "    \"\"\"Convert ra & dec to Euclidean points\n",
    "\n",
    "    Parameters\n",
    "    ----------\n",
    "    ra, dec : ndarrays\n",
    "\n",
    "    Returns\n",
    "    x, y, z : ndarrays\n",
    "    \"\"\"\n",
    "    sin_ra = np.sin(ra * np.pi / 180.)\n",
    "    cos_ra = np.cos(ra * np.pi / 180.)\n",
    "\n",
    "    sin_dec = np.sin(np.pi / 2. - dec * np.pi / 180.)\n",
    "    cos_dec = np.cos(np.pi / 2. - dec * np.pi / 180.)\n",
    "\n",
    "    return (cos_ra * sin_dec,\n",
    "            sin_ra * sin_dec,\n",
    "            cos_dec)\n",
    "\n",
    "\n",
    "def angular_dist_to_euclidean_dist(D, r=1):\n",
    "    \"\"\"convert angular distances to euclidean distances\"\"\"\n",
    "    return 2 * r * np.sin(0.5 * D * np.pi / 180.)\n",
    "\n",
    "\n",
    "def two_point(data, bins, method='standard',\n",
    "              data_R=None, random_state=None):\n",
    "    \"\"\"Two-point correlation function\n",
    "\n",
    "    Parameters\n",
    "    ----------\n",
    "    data : array_like\n",
    "        input data, shape = [n_samples, n_features]\n",
    "    bins : array_like\n",
    "        bins within which to compute the 2-point correlation.\n",
    "        shape = Nbins + 1\n",
    "    method : string\n",
    "        \"standard\" or \"landy-szalay\".\n",
    "    data_R : array_like (optional)\n",
    "        if specified, use this as the random comparison sample\n",
    "    random_state : integer, np.random.RandomState, or None\n",
    "        specify the random state to use for generating background\n",
    "\n",
    "    Returns\n",
    "    -------\n",
    "    corr : ndarray\n",
    "        the estimate of the correlation function within each bin\n",
    "        shape = Nbins\n",
    "    \"\"\"\n",
    "    data = np.asarray(data)\n",
    "    bins = np.asarray(bins)\n",
    "    rng = check_random_state(random_state)\n",
    "\n",
    "    if method not in ['standard', 'landy-szalay']:\n",
    "        raise ValueError(\"method must be 'standard' or 'landy-szalay'\")\n",
    "\n",
    "    if bins.ndim != 1:\n",
    "        raise ValueError(\"bins must be a 1D array\")\n",
    "\n",
    "    if data.ndim == 1:\n",
    "        data = data[:, np.newaxis]\n",
    "    elif data.ndim != 2:\n",
    "        raise ValueError(\"data should be 1D or 2D\")\n",
    "\n",
    "    n_samples, n_features = data.shape\n",
    "    Nbins = len(bins) - 1\n",
    "\n",
    "    # shuffle all but one axis to get background distribution\n",
    "    if data_R is None:\n",
    "        data_R = data.copy()\n",
    "        for i in range(n_features - 1):\n",
    "            rng.shuffle(data_R[:, i])\n",
    "    else:\n",
    "        data_R = np.asarray(data_R)\n",
    "        if (data_R.ndim != 2) or (data_R.shape[-1] != n_features):\n",
    "            raise ValueError('data_R must have same n_features as data')\n",
    "\n",
    "    factor = len(data_R) * 1. / len(data)\n",
    "\n",
    "    if sklearn_has_two_point:\n",
    "        # Fast two-point correlation functions added in scikit-learn v. 0.14\n",
    "        KDT_D = KDTree(data)\n",
    "        KDT_R = KDTree(data_R)\n",
    "\n",
    "        counts_DD = KDT_D.two_point_correlation(data, bins)\n",
    "        counts_RR = KDT_R.two_point_correlation(data_R, bins)\n",
    "\n",
    "    else:\n",
    "        warnings.warn(\"Version 0.3 of astroML will require scikit-learn \"\n",
    "                      \"version 0.14 or higher for correlation function \"\n",
    "                      \"calculations. Upgrade to sklearn 0.14+ now for much \"\n",
    "                      \"faster correlation function calculations.\")\n",
    "\n",
    "        BT_D = BallTree(data)\n",
    "        BT_R = BallTree(data_R)\n",
    "\n",
    "        counts_DD = np.zeros(Nbins + 1)\n",
    "        counts_RR = np.zeros(Nbins + 1)\n",
    "\n",
    "        for i in range(Nbins + 1):\n",
    "            counts_DD[i] = np.sum(BT_D.query_radius(data, bins[i],\n",
    "                                                    count_only=True))\n",
    "            counts_RR[i] = np.sum(BT_R.query_radius(data_R, bins[i],\n",
    "                                                    count_only=True))\n",
    "\n",
    "    DD = np.diff(counts_DD)\n",
    "    RR = np.diff(counts_RR)\n",
    "\n",
    "    # check for zero in the denominator\n",
    "    RR_zero = (RR == 0)\n",
    "    RR[RR_zero] = 1\n",
    "\n",
    "    if method == 'standard':\n",
    "        corr = factor ** 2 * DD / RR - 1\n",
    "    elif method == 'landy-szalay':\n",
    "        if sklearn_has_two_point:\n",
    "            counts_DR = KDT_R.two_point_correlation(data, bins)\n",
    "        else:\n",
    "            counts_DR = np.zeros(Nbins + 1)\n",
    "            for i in range(Nbins + 1):\n",
    "                counts_DR[i] = np.sum(BT_R.query_radius(data, bins[i],\n",
    "                                                        count_only=True))\n",
    "        DR = np.diff(counts_DR)\n",
    "\n",
    "        corr = (factor ** 2 * DD - 2 * factor * DR + RR) / RR\n",
    "\n",
    "    corr[RR_zero] = np.nan\n",
    "\n",
    "    return corr\n",
    "\n",
    "\n",
    "def bootstrap_two_point(data, bins, Nbootstrap=10,\n",
    "                        method='standard', return_bootstraps=False,\n",
    "                        random_state=None):\n",
    "    \"\"\"Bootstrapped two-point correlation function\n",
    "\n",
    "    Parameters\n",
    "    ----------\n",
    "    data : array_like\n",
    "        input data, shape = [n_samples, n_features]\n",
    "    bins : array_like\n",
    "        bins within which to compute the 2-point correlation.\n",
    "        shape = Nbins + 1\n",
    "    Nbootstrap : integer\n",
    "        number of bootstrap resamples to perform (default = 10)\n",
    "    method : string\n",
    "        \"standard\" or \"landy-szalay\".\n",
    "    return_bootstraps: bool\n",
    "        if True, return full bootstrapped samples\n",
    "    random_state : integer, np.random.RandomState, or None\n",
    "        specify the random state to use for generating background\n",
    "\n",
    "    Returns\n",
    "    -------\n",
    "    corr, corr_err : ndarrays\n",
    "        the estimate of the correlation function and the bootstrap\n",
    "        error within each bin. shape = Nbins\n",
    "    \"\"\"\n",
    "    data = np.asarray(data)\n",
    "    bins = np.asarray(bins)\n",
    "    rng = check_random_state(random_state)\n",
    "\n",
    "    if method not in ['standard', 'landy-szalay']:\n",
    "        raise ValueError(\"method must be 'standard' or 'landy-szalay'\")\n",
    "\n",
    "    if bins.ndim != 1:\n",
    "        raise ValueError(\"bins must be a 1D array\")\n",
    "\n",
    "    if data.ndim == 1:\n",
    "        data = data[:, np.newaxis]\n",
    "    elif data.ndim != 2:\n",
    "        raise ValueError(\"data should be 1D or 2D\")\n",
    "\n",
    "    if Nbootstrap < 2:\n",
    "        raise ValueError(\"Nbootstrap must be greater than 1\")\n",
    "\n",
    "    n_samples, n_features = data.shape\n",
    "\n",
    "    # get the baseline estimate\n",
    "    corr = two_point(data, bins, method=method, random_state=rng)\n",
    "\n",
    "    bootstraps = np.zeros((Nbootstrap, len(corr)))\n",
    "\n",
    "    for i in range(Nbootstrap):\n",
    "        indices = rng.randint(0, n_samples, n_samples)\n",
    "        bootstraps[i] = two_point(data[indices, :], bins, method=method,\n",
    "                                  random_state=rng)\n",
    "\n",
    "    # use masked std dev in case of NaNs\n",
    "    corr_err = np.asarray(np.ma.masked_invalid(bootstraps).std(0, ddof=1))\n",
    "\n",
    "    if return_bootstraps:\n",
    "        return corr, corr_err, bootstraps\n",
    "    else:\n",
    "        return corr, corr_err\n",
    "\n",
    "\n",
    "def two_point_angular(ra, dec, bins, method='standard', random_state=None):\n",
    "    \"\"\"Angular two-point correlation function\n",
    "\n",
    "    A separate function is needed because angular distances are not\n",
    "    euclidean, and random sampling needs to take into account the\n",
    "    spherical volume element.\n",
    "\n",
    "    Parameters\n",
    "    ----------\n",
    "    ra : array_like\n",
    "        input right ascention, shape = (n_samples,)\n",
    "    dec : array_like\n",
    "        input declination\n",
    "    bins : array_like\n",
    "        bins within which to compute the 2-point correlation.\n",
    "        shape = Nbins + 1\n",
    "    method : string\n",
    "        \"standard\" or \"landy-szalay\".\n",
    "    random_state : integer, np.random.RandomState, or None\n",
    "        specify the random state to use for generating background\n",
    "\n",
    "    Returns\n",
    "    -------\n",
    "    corr : ndarray\n",
    "        the estimate of the correlation function within each bin\n",
    "        shape = Nbins\n",
    "    \"\"\"\n",
    "    ra = np.asarray(ra)\n",
    "    dec = np.asarray(dec)\n",
    "    rng = check_random_state(random_state)\n",
    "\n",
    "    if method not in ['standard', 'landy-szalay']:\n",
    "        raise ValueError(\"method must be 'standard' or 'landy-szalay'\")\n",
    "\n",
    "    if bins.ndim != 1:\n",
    "        raise ValueError(\"bins must be a 1D array\")\n",
    "\n",
    "    if (ra.ndim != 1) or (dec.ndim != 1) or (ra.shape != dec.shape):\n",
    "        raise ValueError('ra and dec must be 1-dimensional '\n",
    "                         'arrays of the same length')\n",
    "\n",
    "    n_features = len(ra)\n",
    "    Nbins = len(bins) - 1\n",
    "\n",
    "    # draw a random sample with N points\n",
    "    ra_R, dec_R = uniform_sphere((min(ra), max(ra)),\n",
    "                                 (min(dec), max(dec)),\n",
    "                                 2 * len(ra))\n",
    "\n",
    "    data = np.asarray(ra_dec_to_xyz(ra, dec), order='F').T\n",
    "    data_R = np.asarray(ra_dec_to_xyz(ra_R, dec_R), order='F').T\n",
    "\n",
    "    # convert spherical bins to cartesian bins\n",
    "    bins_transform = angular_dist_to_euclidean_dist(bins)\n",
    "\n",
    "    return two_point(data, bins_transform, method=method,\n",
    "                     data_R=data_R, random_state=rng)\n",
    "\n",
    "\n",
    "def bootstrap_two_point_angular(ra, dec, bins, method='standard',\n",
    "                                Nbootstraps=10, random_state=None):\n",
    "    # type: (object, object, object, object, object, object) -> object\n",
    "    \"\"\"Angular two-point correlation function\n",
    "\n",
    "    A separate function is needed because angular distances are not\n",
    "    euclidean, and random sampling needs to take into account the\n",
    "    spherical volume element.\n",
    "\n",
    "    Parameters\n",
    "    ----------\n",
    "    ra : array_like\n",
    "        input right ascention, shape = (n_samples,)\n",
    "    dec : array_like\n",
    "        input declination\n",
    "    bins : array_like\n",
    "        bins within which to compute the 2-point correlation.\n",
    "        shape = Nbins + 1\n",
    "    method : string\n",
    "        \"standard\" or \"landy-szalay\".\n",
    "    Nbootstraps : int\n",
    "        number of bootstrap resamples\n",
    "    random_state : integer, np.random.RandomState, or None\n",
    "        specify the random state to use for generating background\n",
    "\n",
    "    Returns\n",
    "    -------\n",
    "    corr : ndarray\n",
    "        the estimate of the correlation function within each bin\n",
    "        shape = Nbins\n",
    "    dcorr : ndarray\n",
    "        error estimate on dcorr (sample standard deviation of\n",
    "        bootstrap resamples)\n",
    "    bootstraps : ndarray\n",
    "        The full sample of bootstraps used to compute corr and dcorr\n",
    "    \"\"\"\n",
    "    ra = np.asarray(ra)\n",
    "    dec = np.asarray(dec)\n",
    "    rng = check_random_state(random_state)\n",
    "\n",
    "    if method not in ['standard', 'landy-szalay']:\n",
    "        raise ValueError(\"method must be 'standard' or 'landy-szalay'\")\n",
    "\n",
    "    if bins.ndim != 1:\n",
    "        raise ValueError(\"bins must be a 1D array\")\n",
    "\n",
    "    if (ra.ndim != 1) or (dec.ndim != 1) or (ra.shape != dec.shape):\n",
    "        raise ValueError('ra and dec must be 1-dimensional '\n",
    "                         'arrays of the same length')\n",
    "\n",
    "    n_features = len(ra)\n",
    "    Nbins = len(bins) - 1\n",
    "    data = np.asarray(ra_dec_to_xyz(ra, dec), order='F').T\n",
    "\n",
    "    # convert spherical bins to cartesian bins\n",
    "    bins_transform = angular_dist_to_euclidean_dist(bins)\n",
    "\n",
    "    bootstraps = []\n",
    "\n",
    "    for i in range(Nbootstraps):\n",
    "        # draw a random sample with N points\n",
    "        ra_R, dec_R = uniform_sphere((min(ra), max(ra)),\n",
    "                                     (min(dec), max(dec)),\n",
    "                                     2 * len(ra))\n",
    "\n",
    "        data_R = np.asarray(ra_dec_to_xyz(ra_R, dec_R), order='F').T\n",
    "\n",
    "        if i > 0:\n",
    "            # random sample of the data\n",
    "            ind = np.random.randint(0, data.shape[0], data.shape[0])\n",
    "            data_b = data[ind]\n",
    "        else:\n",
    "            data_b = data\n",
    "\n",
    "        bootstraps.append(two_point(data_b, bins_transform, method=method,\n",
    "                                    data_R=data_R, random_state=rng))\n",
    "\n",
    "    bootstraps = np.asarray(bootstraps)\n",
    "    corr = np.mean(bootstraps, 0)\n",
    "    corr_err = np.std(bootstraps, 0, ddof=1)\n",
    "\n",
    "    return corr, corr_err, bootstraps"
   ]
  },
  {
   "cell_type": "code",
   "execution_count": null,
   "metadata": {
    "collapsed": true
   },
   "outputs": [],
   "source": [
    "sklearn_has_two_point"
   ]
  },
  {
   "cell_type": "code",
   "execution_count": null,
   "metadata": {
    "collapsed": true
   },
   "outputs": [],
   "source": [
    "help(KDTree)"
   ]
  },
  {
   "cell_type": "code",
   "execution_count": null,
   "metadata": {
    "collapsed": true
   },
   "outputs": [],
   "source": [
    "dataxyz=ra_dec_to_xyz(data['ra'],data['dec'])"
   ]
  },
  {
   "cell_type": "code",
   "execution_count": null,
   "metadata": {
    "collapsed": true
   },
   "outputs": [],
   "source": [
    "dataxyz=np.asarray(dataxyz)"
   ]
  },
  {
   "cell_type": "code",
   "execution_count": null,
   "metadata": {
    "collapsed": true
   },
   "outputs": [],
   "source": [
    "dataxyz=dataxyz.transpose()"
   ]
  },
  {
   "cell_type": "code",
   "execution_count": null,
   "metadata": {
    "collapsed": true
   },
   "outputs": [],
   "source": [
    "dataxyz"
   ]
  },
  {
   "cell_type": "code",
   "execution_count": null,
   "metadata": {
    "collapsed": true
   },
   "outputs": [],
   "source": [
    "dataxyzR=ra_dec_to_xyz(dataR['ra'],dataR['dec'])"
   ]
  },
  {
   "cell_type": "code",
   "execution_count": null,
   "metadata": {
    "collapsed": true
   },
   "outputs": [],
   "source": [
    "dataxyzR=np.asarray(dataxyzR)"
   ]
  },
  {
   "cell_type": "code",
   "execution_count": null,
   "metadata": {
    "collapsed": true
   },
   "outputs": [],
   "source": [
    "dataxyzR=dataxyzR.transpose()"
   ]
  },
  {
   "cell_type": "code",
   "execution_count": null,
   "metadata": {
    "collapsed": true
   },
   "outputs": [],
   "source": [
    "dataxyzR"
   ]
  },
  {
   "cell_type": "code",
   "execution_count": null,
   "metadata": {
    "collapsed": true
   },
   "outputs": [],
   "source": [
    "bins=np.arange(0.0,1.05,0.05)"
   ]
  },
  {
   "cell_type": "code",
   "execution_count": null,
   "metadata": {
    "collapsed": true
   },
   "outputs": [],
   "source": [
    "bins"
   ]
  },
  {
   "cell_type": "code",
   "execution_count": null,
   "metadata": {
    "collapsed": true
   },
   "outputs": [],
   "source": []
  },
  {
   "cell_type": "code",
   "execution_count": null,
   "metadata": {
    "collapsed": true
   },
   "outputs": [],
   "source": [
    "#@pickle_results(\"tpcf_std.pkl\")\n",
    "tpcf=two_point(dataxyz,bins,method='standard',data_R=dataxyzR, random_state=None)"
   ]
  },
  {
   "cell_type": "code",
   "execution_count": null,
   "metadata": {
    "collapsed": true
   },
   "outputs": [],
   "source": [
    "tpcf "
   ]
  },
  {
   "cell_type": "code",
   "execution_count": null,
   "metadata": {
    "collapsed": true
   },
   "outputs": [],
   "source": [
    "plt.plot(bins[1:],tpcf,'ro')"
   ]
  },
  {
   "cell_type": "code",
   "execution_count": null,
   "metadata": {
    "collapsed": true
   },
   "outputs": [],
   "source": [
    "tpcfam=two_point(dataxyz,bins,method='standard',data_R=None, random_state=None)"
   ]
  },
  {
   "cell_type": "code",
   "execution_count": null,
   "metadata": {
    "collapsed": true
   },
   "outputs": [],
   "source": [
    "tpcfam"
   ]
  },
  {
   "cell_type": "code",
   "execution_count": null,
   "metadata": {
    "collapsed": true
   },
   "outputs": [],
   "source": [
    "plt.plot(bins[1:],tpcfam,'bo')"
   ]
  },
  {
   "cell_type": "code",
   "execution_count": null,
   "metadata": {
    "collapsed": true
   },
   "outputs": [],
   "source": [
    "bins2=np.arange(0.2,0.6,0.02)"
   ]
  },
  {
   "cell_type": "code",
   "execution_count": null,
   "metadata": {
    "collapsed": true
   },
   "outputs": [],
   "source": [
    "tpcfamb2=two_point(dataxyz,bins2,method='standard',data_R=None, random_state=None)"
   ]
  },
  {
   "cell_type": "code",
   "execution_count": null,
   "metadata": {
    "collapsed": true
   },
   "outputs": [],
   "source": [
    "plt.plot(bins2[1:],tpcfamb2,'go')"
   ]
  },
  {
   "cell_type": "markdown",
   "metadata": {},
   "source": [
    "The above doesn't show any BAO feature... It used inbuilt astroML method to generate random catalog... by shuffling the original data's content... That way all of the random points fall in the same survey area and will adhere to all the filtering criteria... the factor or ratio of data pts vs. random pts will be 1... instead of large no. in case if we take existing random catalog or create one"
   ]
  },
  {
   "cell_type": "code",
   "execution_count": null,
   "metadata": {
    "collapsed": true
   },
   "outputs": [],
   "source": [
    "rng = check_random_state(None)\n",
    "\n",
    "n_samples, n_features = dataxyz.shape\n",
    "Nbins = len(bins) - 1\n",
    "\n",
    "# shuffle all but one axis to get background distribution\n",
    "data_Rxyz = dataxyz.copy()\n",
    "print data_Rxyz\n",
    "for i in range(n_features - 1):\n",
    "    rng.shuffle(data_Rxyz[:, i])\n",
    "print data_Rxyz"
   ]
  },
  {
   "cell_type": "markdown",
   "metadata": {},
   "source": [
    "Lets see how it looks with a healpix map"
   ]
  },
  {
   "cell_type": "code",
   "execution_count": null,
   "metadata": {
    "collapsed": true
   },
   "outputs": [],
   "source": []
  },
  {
   "cell_type": "code",
   "execution_count": null,
   "metadata": {
    "collapsed": true
   },
   "outputs": [],
   "source": [
    "NSIDE=512\n",
    "dr72hpix=hu.HealPix(\"ring\",NSIDE)"
   ]
  },
  {
   "cell_type": "code",
   "execution_count": null,
   "metadata": {
    "collapsed": true
   },
   "outputs": [],
   "source": [
    "import math as m\n",
    "\n",
    "def cart2sph(x,y,z):\n",
    "    XsqPlusYsq = x**2 + y**2\n",
    "    r = m.sqrt(XsqPlusYsq + z**2)               # r\n",
    "    elev = m.atan2(z,m.sqrt(XsqPlusYsq))     # theta\n",
    "    az = m.atan2(y,x)                           # phi\n",
    "    return r, elev, az\n",
    "\n",
    "def cart2sphA(pts):\n",
    "    return np.array([cart2sph(x,y,z) for x,y,z in pts])\n",
    "\n",
    "def appendSpherical(xyz):\n",
    "    np.hstack((xyz, cart2sphA(xyz)))"
   ]
  },
  {
   "cell_type": "code",
   "execution_count": null,
   "metadata": {
    "collapsed": true
   },
   "outputs": [],
   "source": [
    "ang=cart2sphA(data_Rxyz)"
   ]
  },
  {
   "cell_type": "code",
   "execution_count": null,
   "metadata": {
    "collapsed": true
   },
   "outputs": [],
   "source": [
    "ang"
   ]
  },
  {
   "cell_type": "code",
   "execution_count": null,
   "metadata": {
    "collapsed": true
   },
   "outputs": [],
   "source": [
    "ang.shape"
   ]
  },
  {
   "cell_type": "code",
   "execution_count": null,
   "metadata": {
    "collapsed": true
   },
   "outputs": [],
   "source": [
    "#ang.resize((105831, 2))\n",
    "np.squeeze(ang, axis=None)"
   ]
  },
  {
   "cell_type": "code",
   "execution_count": null,
   "metadata": {
    "collapsed": true
   },
   "outputs": [],
   "source": [
    "help(ang.squeeze)"
   ]
  },
  {
   "cell_type": "code",
   "execution_count": null,
   "metadata": {
    "collapsed": true
   },
   "outputs": [],
   "source": [
    "ang2=ang[:,1:]"
   ]
  },
  {
   "cell_type": "code",
   "execution_count": null,
   "metadata": {
    "collapsed": true
   },
   "outputs": [],
   "source": [
    "ang2"
   ]
  },
  {
   "cell_type": "code",
   "execution_count": null,
   "metadata": {
    "collapsed": true
   },
   "outputs": [],
   "source": [
    "ang2.shape"
   ]
  },
  {
   "cell_type": "code",
   "execution_count": null,
   "metadata": {
    "collapsed": true
   },
   "outputs": [],
   "source": [
    "ang2[2,0]"
   ]
  },
  {
   "cell_type": "code",
   "execution_count": null,
   "metadata": {
    "collapsed": true
   },
   "outputs": [],
   "source": []
  },
  {
   "cell_type": "code",
   "execution_count": null,
   "metadata": {
    "collapsed": true
   },
   "outputs": [],
   "source": [
    "pixdata = open(\"./output/pixdatadr72VAGCfullrandam.dat\",'w')\n",
    "pixdata.write(\"pix \\n\")\n",
    "for i in range(0,len(ang2)-1):\n",
    "    #pixdata.write(\"%f\\t\" %data['z'][i])\n",
    "    pixdata.write(\"%d\\n\" %dr72hpix.ang2pix(ang2[i,0],ang2[i,1]))\n",
    "pixdata.close()"
   ]
  },
  {
   "cell_type": "code",
   "execution_count": null,
   "metadata": {
    "collapsed": true
   },
   "outputs": [],
   "source": [
    "pixdata = ascii.read(\"./output/pixdatadr72VAGCfullrandam.dat\")\n",
    "hpixdata=np.array(np.zeros(hu.nside2npix(NSIDE)))\n",
    "for j in range(len(pixdata)):\n",
    "    hpixdata[pixdata[j]['pix']]+=1"
   ]
  },
  {
   "cell_type": "code",
   "execution_count": null,
   "metadata": {
    "collapsed": true
   },
   "outputs": [],
   "source": [
    "hpixdata"
   ]
  },
  {
   "cell_type": "code",
   "execution_count": null,
   "metadata": {
    "collapsed": true
   },
   "outputs": [],
   "source": [
    "hu.mollview(hpixdata,rot=180)"
   ]
  },
  {
   "cell_type": "code",
   "execution_count": null,
   "metadata": {
    "collapsed": true
   },
   "outputs": [],
   "source": [
    "hu.orthview(hpixdata)"
   ]
  },
  {
   "cell_type": "markdown",
   "metadata": {},
   "source": [
    "This method doesnt seem to produce right random catalogs...doing it with ra and dec as follows"
   ]
  },
  {
   "cell_type": "code",
   "execution_count": null,
   "metadata": {
    "collapsed": true
   },
   "outputs": [],
   "source": [
    "data"
   ]
  },
  {
   "cell_type": "code",
   "execution_count": null,
   "metadata": {
    "collapsed": true
   },
   "outputs": [],
   "source": [
    "data['z'],data['ra'],data['dec']"
   ]
  },
  {
   "cell_type": "code",
   "execution_count": null,
   "metadata": {
    "collapsed": true
   },
   "outputs": [],
   "source": [
    "datzradec=np.array([data['z'], data['ra'], data['dec']])"
   ]
  },
  {
   "cell_type": "code",
   "execution_count": null,
   "metadata": {
    "collapsed": true
   },
   "outputs": [],
   "source": [
    "datzradec"
   ]
  },
  {
   "cell_type": "code",
   "execution_count": null,
   "metadata": {
    "collapsed": true
   },
   "outputs": [],
   "source": [
    "rng = check_random_state(None)\n",
    "\n",
    "n_features, n_samples  = datzradec.shape\n",
    "\n",
    "# shuffle all but one axis to get background distribution\n",
    "data_Rzradec = datzradec.copy()\n",
    "print data_Rzradec\n",
    "for i in range(1,n_features):\n",
    "    rng.shuffle(data_Rzradec[:, i])\n",
    "print data_Rzradec"
   ]
  },
  {
   "cell_type": "code",
   "execution_count": null,
   "metadata": {
    "collapsed": true
   },
   "outputs": [],
   "source": [
    "min(data_Rzradec[:, 1])"
   ]
  },
  {
   "cell_type": "code",
   "execution_count": null,
   "metadata": {
    "collapsed": true
   },
   "outputs": [],
   "source": [
    "max(data_Rzradec[:, 1])"
   ]
  },
  {
   "cell_type": "code",
   "execution_count": null,
   "metadata": {
    "collapsed": true
   },
   "outputs": [],
   "source": [
    "min(data_Rzradec[:, 2])"
   ]
  },
  {
   "cell_type": "code",
   "execution_count": null,
   "metadata": {
    "collapsed": true
   },
   "outputs": [],
   "source": [
    "max(data_Rzradec[:, 2])"
   ]
  },
  {
   "cell_type": "code",
   "execution_count": null,
   "metadata": {
    "collapsed": true
   },
   "outputs": [],
   "source": []
  },
  {
   "cell_type": "code",
   "execution_count": null,
   "metadata": {
    "collapsed": true
   },
   "outputs": [],
   "source": [
    "min(datzradec[:, 1])"
   ]
  },
  {
   "cell_type": "code",
   "execution_count": null,
   "metadata": {
    "collapsed": true
   },
   "outputs": [],
   "source": [
    "max(datzradec[:, 1])"
   ]
  },
  {
   "cell_type": "code",
   "execution_count": null,
   "metadata": {
    "collapsed": true
   },
   "outputs": [],
   "source": [
    "min(datzradec[:, 2])"
   ]
  },
  {
   "cell_type": "code",
   "execution_count": null,
   "metadata": {
    "collapsed": true
   },
   "outputs": [],
   "source": [
    "max(datzradec[:, 2])"
   ]
  },
  {
   "cell_type": "code",
   "execution_count": null,
   "metadata": {
    "collapsed": true
   },
   "outputs": [],
   "source": [
    "range(1,3)"
   ]
  },
  {
   "cell_type": "code",
   "execution_count": null,
   "metadata": {
    "collapsed": true
   },
   "outputs": [],
   "source": []
  },
  {
   "cell_type": "code",
   "execution_count": null,
   "metadata": {
    "collapsed": true
   },
   "outputs": [],
   "source": []
  },
  {
   "cell_type": "code",
   "execution_count": null,
   "metadata": {
    "collapsed": true
   },
   "outputs": [],
   "source": [
    "help(rng.shuffle)"
   ]
  },
  {
   "cell_type": "code",
   "execution_count": null,
   "metadata": {
    "collapsed": true
   },
   "outputs": [],
   "source": [
    "n_samples"
   ]
  },
  {
   "cell_type": "code",
   "execution_count": null,
   "metadata": {
    "collapsed": true
   },
   "outputs": [],
   "source": [
    "n_features"
   ]
  },
  {
   "cell_type": "code",
   "execution_count": null,
   "metadata": {
    "collapsed": true
   },
   "outputs": [],
   "source": [
    "data_Rzradec"
   ]
  },
  {
   "cell_type": "code",
   "execution_count": null,
   "metadata": {
    "collapsed": true
   },
   "outputs": [],
   "source": [
    "data_Rzradec[0][2]"
   ]
  },
  {
   "cell_type": "code",
   "execution_count": null,
   "metadata": {
    "collapsed": true
   },
   "outputs": [],
   "source": [
    "len(data_Rzradec[0][:])"
   ]
  },
  {
   "cell_type": "code",
   "execution_count": null,
   "metadata": {
    "collapsed": true
   },
   "outputs": [],
   "source": [
    "data_Rzradec[0][:]"
   ]
  },
  {
   "cell_type": "code",
   "execution_count": null,
   "metadata": {
    "collapsed": true
   },
   "outputs": [],
   "source": [
    "pixdata = open(\"./output/pixdatadr72VAGCfullrandamrd.dat\",'w')\n",
    "pixdata.write(\"z\\t pix \\n\")\n",
    "for i in range(0,len(data_Rzradec[0][:])-1):\n",
    "    pixdata.write(\"%f\\t\" %data_Rzradec[0][i])\n",
    "    pixdata.write(\"%d\\n\" %dr72hpix.eq2pix(data_Rzradec[1][i],data_Rzradec[2][i]))\n",
    "pixdata.close()"
   ]
  },
  {
   "cell_type": "code",
   "execution_count": null,
   "metadata": {
    "collapsed": true
   },
   "outputs": [],
   "source": [
    "pixdata = ascii.read(\"./output/pixdatadr72VAGCfullrandamrd.dat\")\n",
    "hpixdata=np.array(np.zeros(hu.nside2npix(NSIDE)))\n",
    "for j in range(len(pixdata)):\n",
    "    hpixdata[pixdata[j]['pix']]+=1"
   ]
  },
  {
   "cell_type": "code",
   "execution_count": null,
   "metadata": {
    "collapsed": true
   },
   "outputs": [],
   "source": [
    "hpixdata"
   ]
  },
  {
   "cell_type": "code",
   "execution_count": null,
   "metadata": {
    "collapsed": true
   },
   "outputs": [],
   "source": [
    "hu.mollview(hpixdata,rot=180)"
   ]
  },
  {
   "cell_type": "code",
   "execution_count": null,
   "metadata": {
    "collapsed": true
   },
   "outputs": [],
   "source": [
    "hu.orthview(hpixdata)"
   ]
  },
  {
   "cell_type": "code",
   "execution_count": null,
   "metadata": {
    "collapsed": true
   },
   "outputs": [],
   "source": [
    "dataxyz"
   ]
  },
  {
   "cell_type": "code",
   "execution_count": null,
   "metadata": {
    "collapsed": true
   },
   "outputs": [],
   "source": [
    "dataxyzR1=ra_dec_to_xyz(data_Rzradec[1][:],data_Rzradec[2][:])"
   ]
  },
  {
   "cell_type": "code",
   "execution_count": null,
   "metadata": {
    "collapsed": true
   },
   "outputs": [],
   "source": [
    "data_Rzradec[1][:]"
   ]
  },
  {
   "cell_type": "code",
   "execution_count": null,
   "metadata": {
    "collapsed": true
   },
   "outputs": [],
   "source": []
  },
  {
   "cell_type": "code",
   "execution_count": null,
   "metadata": {
    "collapsed": true
   },
   "outputs": [],
   "source": []
  },
  {
   "cell_type": "code",
   "execution_count": null,
   "metadata": {
    "collapsed": true
   },
   "outputs": [],
   "source": [
    "dataxyzR1"
   ]
  },
  {
   "cell_type": "code",
   "execution_count": null,
   "metadata": {
    "collapsed": true
   },
   "outputs": [],
   "source": [
    "dataxyzR1=np.asarray(dataxyzR1)"
   ]
  },
  {
   "cell_type": "code",
   "execution_count": null,
   "metadata": {
    "collapsed": true
   },
   "outputs": [],
   "source": []
  },
  {
   "cell_type": "code",
   "execution_count": null,
   "metadata": {
    "collapsed": true
   },
   "outputs": [],
   "source": [
    "dataxyzR1=dataxyzR1.transpose()"
   ]
  },
  {
   "cell_type": "code",
   "execution_count": null,
   "metadata": {
    "collapsed": true
   },
   "outputs": [],
   "source": [
    "dataxyzR1"
   ]
  },
  {
   "cell_type": "code",
   "execution_count": null,
   "metadata": {
    "collapsed": true
   },
   "outputs": [],
   "source": [
    "bins=np.arange(0.025,1.025,0.025)"
   ]
  },
  {
   "cell_type": "code",
   "execution_count": null,
   "metadata": {
    "collapsed": true
   },
   "outputs": [],
   "source": [
    "bins"
   ]
  },
  {
   "cell_type": "code",
   "execution_count": null,
   "metadata": {
    "collapsed": true
   },
   "outputs": [],
   "source": []
  },
  {
   "cell_type": "code",
   "execution_count": null,
   "metadata": {
    "collapsed": true
   },
   "outputs": [],
   "source": [
    "#@pickle_results(\"tpcf_std.pkl\")\n",
    "tpcf=two_point(dataxyz,bins,method='standard',data_R=dataxyzR1, random_state=None)"
   ]
  },
  {
   "cell_type": "code",
   "execution_count": null,
   "metadata": {
    "collapsed": true
   },
   "outputs": [],
   "source": [
    "tpcf "
   ]
  },
  {
   "cell_type": "code",
   "execution_count": null,
   "metadata": {
    "collapsed": true
   },
   "outputs": [],
   "source": [
    "plt.plot(bins[1:],tpcf,'ro')"
   ]
  },
  {
   "cell_type": "code",
   "execution_count": null,
   "metadata": {
    "collapsed": true
   },
   "outputs": [],
   "source": [
    "bins=np.arange(0.0,1.05,0.05)"
   ]
  },
  {
   "cell_type": "code",
   "execution_count": null,
   "metadata": {
    "collapsed": true
   },
   "outputs": [],
   "source": [
    "#@pickle_results(\"tpcf_std.pkl\")\n",
    "tpcf=two_point(dataxyz,bins,method='standard',data_R=dataxyzR1, random_state=None)"
   ]
  },
  {
   "cell_type": "code",
   "execution_count": null,
   "metadata": {
    "collapsed": true
   },
   "outputs": [],
   "source": [
    "tpcf "
   ]
  },
  {
   "cell_type": "code",
   "execution_count": null,
   "metadata": {
    "collapsed": true
   },
   "outputs": [],
   "source": [
    "plt.plot(bins[1:],tpcf,'ro')"
   ]
  },
  {
   "cell_type": "code",
   "execution_count": null,
   "metadata": {
    "collapsed": true
   },
   "outputs": [],
   "source": [
    "btpcf=bootstrap_two_point(dataxyz, bins, Nbootstrap=10,\n",
    "                        method='standard', return_bootstraps=False,\n",
    "                        random_state=None)"
   ]
  },
  {
   "cell_type": "code",
   "execution_count": null,
   "metadata": {
    "collapsed": true
   },
   "outputs": [],
   "source": [
    "btpcf"
   ]
  },
  {
   "cell_type": "code",
   "execution_count": null,
   "metadata": {
    "collapsed": true
   },
   "outputs": [],
   "source": [
    "plt.errorbar(bins[1:],btpcf[0],yerr=btpcf[1],fmt='ro-')"
   ]
  },
  {
   "cell_type": "code",
   "execution_count": null,
   "metadata": {
    "collapsed": true
   },
   "outputs": [],
   "source": [
    "help(plt.errorbar)"
   ]
  },
  {
   "cell_type": "code",
   "execution_count": null,
   "metadata": {
    "collapsed": true
   },
   "outputs": [],
   "source": [
    "@pickle_results(\"tpcf_ls.pkl\")\n",
    "tpcfls=two_point(dataxyz,bins,method='landy-szalay',\n",
    "              data_R=dataxyzR, random_state=None)"
   ]
  },
  {
   "cell_type": "code",
   "execution_count": null,
   "metadata": {
    "collapsed": true
   },
   "outputs": [],
   "source": []
  },
  {
   "cell_type": "code",
   "execution_count": null,
   "metadata": {
    "collapsed": true
   },
   "outputs": [],
   "source": []
  },
  {
   "cell_type": "code",
   "execution_count": null,
   "metadata": {
    "collapsed": true
   },
   "outputs": [],
   "source": []
  },
  {
   "cell_type": "code",
   "execution_count": null,
   "metadata": {
    "collapsed": true
   },
   "outputs": [],
   "source": []
  },
  {
   "cell_type": "code",
   "execution_count": null,
   "metadata": {
    "collapsed": true
   },
   "outputs": [],
   "source": []
  },
  {
   "cell_type": "code",
   "execution_count": null,
   "metadata": {
    "collapsed": true
   },
   "outputs": [],
   "source": []
  },
  {
   "cell_type": "code",
   "execution_count": null,
   "metadata": {
    "collapsed": true
   },
   "outputs": [],
   "source": []
  },
  {
   "cell_type": "code",
   "execution_count": null,
   "metadata": {
    "collapsed": true
   },
   "outputs": [],
   "source": []
  },
  {
   "cell_type": "code",
   "execution_count": null,
   "metadata": {
    "collapsed": true
   },
   "outputs": [],
   "source": [
    "#------------------------------------------------------------\n",
    "# Set up correlation function computation\n",
    "#  This calculation takes a long time with the bootstrap resampling,\n",
    "#  so we'll save the results.\n",
    "@pickle_results(\"correlation_functionsdr72.pkl\")\n",
    "def compute_results(Nbins=16, Nbootstraps=10,  method='landy-szalay', rseed=0):\n",
    "    np.random.seed(rseed)\n",
    "    bins = 10 ** np.linspace(np.log10(1. / 60.), np.log10(6), 16)\n",
    "\n",
    "    results = [bins]\n",
    "    for D in [data]:\n",
    "        results += bootstrap_two_point_angular(D['ra'],\n",
    "                                               D['dec'],\n",
    "                                               bins=bins,\n",
    "                                               method=method,\n",
    "                                               Nbootstraps=Nbootstraps)\n",
    "\n",
    "    return results\n",
    "\n",
    "(bins, r_corr, r_corr_err, r_bootstraps) = compute_results()\n",
    "\n",
    "bin_centers = 0.5 * (bins[1:] + bins[:-1])"
   ]
  },
  {
   "cell_type": "code",
   "execution_count": null,
   "metadata": {
    "collapsed": true
   },
   "outputs": [],
   "source": [
    "bins"
   ]
  },
  {
   "cell_type": "code",
   "execution_count": null,
   "metadata": {
    "collapsed": true
   },
   "outputs": [],
   "source": [
    "r_corr"
   ]
  },
  {
   "cell_type": "code",
   "execution_count": null,
   "metadata": {
    "collapsed": true
   },
   "outputs": [],
   "source": [
    "r_corr_err"
   ]
  },
  {
   "cell_type": "code",
   "execution_count": null,
   "metadata": {
    "collapsed": true
   },
   "outputs": [],
   "source": [
    "r_bootstraps"
   ]
  },
  {
   "cell_type": "code",
   "execution_count": null,
   "metadata": {
    "collapsed": true
   },
   "outputs": [],
   "source": [
    "#------------------------------------------------------------\n",
    "# Plot the results\n",
    "\n",
    "label = '$0.15<z<0.25$\\n$N=33813$' \n",
    "\n",
    "fig = plt.figure(figsize=(6, 6))\n",
    "plt.xscale('log')\n",
    "plt.yscale('log')\n",
    "plt.errorbar(bin_centers, r_corr, r_corr_err,fmt='.k', ecolor='gray', lw=1)\n",
    "fig.text(0.8, 0.8, label, ha='right', va='top')\n",
    "plt.xlabel(r'$\\theta\\ (deg)$')\n",
    "plt.ylabel(r'$w(\\theta)$')\n",
    "plt.show()\n",
    "\n",
    "plt.show()\n",
    "fig.savefig(\"wth_dr72015025.pdf\")"
   ]
  },
  {
   "cell_type": "code",
   "execution_count": null,
   "metadata": {
    "collapsed": true
   },
   "outputs": [],
   "source": []
  },
  {
   "cell_type": "code",
   "execution_count": null,
   "metadata": {
    "collapsed": true
   },
   "outputs": [],
   "source": [
    "data=ascii.read('./input/sdssdr72_sorted_z.dat')"
   ]
  },
  {
   "cell_type": "code",
   "execution_count": null,
   "metadata": {
    "collapsed": true
   },
   "outputs": [],
   "source": [
    "data"
   ]
  },
  {
   "cell_type": "code",
   "execution_count": null,
   "metadata": {
    "collapsed": true
   },
   "outputs": [],
   "source": [
    "#m_max = 19\n",
    "\n",
    "# redshift and magnitude cuts\n",
    "data = data[data['z'] > 0.05]\n",
    "data = data[data['z'] < 0.15]\n",
    "#data = data[data['petroMag_r'] < m_max]\n",
    "\n",
    "# RA/DEC cuts\n",
    "RAmin, RAmax = 140, 220\n",
    "DECmin, DECmax = 5, 45\n",
    "data = data[data['ra'] < RAmax]\n",
    "data = data[data['ra'] > RAmin]\n",
    "data = data[data['dec'] < DECmax]\n",
    "data = data[data['dec'] > DECmin]\n",
    "\n",
    "#ur = data['modelMag_u'] - data['modelMag_r']\n",
    "#flag_red = (ur > 2.22)\n",
    "#flag_blue = ~flag_red\n",
    "\n",
    "#datag \n",
    "\n",
    "print \"data size:\"\n",
    "print \"  total gals: \", len(data)\n",
    "#print \"  blue gals:\", len(data_blue)"
   ]
  },
  {
   "cell_type": "code",
   "execution_count": null,
   "metadata": {
    "collapsed": true
   },
   "outputs": [],
   "source": [
    "NSIDE=512\n",
    "dr72hpix=hu.HealPix(\"ring\",NSIDE)"
   ]
  },
  {
   "cell_type": "code",
   "execution_count": null,
   "metadata": {
    "collapsed": true
   },
   "outputs": [],
   "source": [
    "pixdata = open(\"./output/pixdatadr72005015.dat\",'w')\n",
    "pixdata.write(\"z\\t pix \\n\")\n",
    "\n",
    "for i in range(0,len(data)-1):\n",
    "    pixdata.write(\"%f\\t\" %data['z'][i])\n",
    "    pixdata.write(\"%d\\n\" %dr72hpix.eq2pix(data['ra'][i],data['dec'][i]))\n",
    "pixdata.close()"
   ]
  },
  {
   "cell_type": "code",
   "execution_count": null,
   "metadata": {
    "collapsed": true
   },
   "outputs": [],
   "source": [
    "pixdata = ascii.read(\"./output/pixdatadr72005015.dat\")\n",
    "hpixdata=np.array(np.zeros(hu.nside2npix(NSIDE)))\n",
    "for j in range(len(pixdata)):\n",
    "    hpixdata[pixdata[j]['pix']]+=1"
   ]
  },
  {
   "cell_type": "code",
   "execution_count": null,
   "metadata": {
    "collapsed": true
   },
   "outputs": [],
   "source": [
    "hpixdata"
   ]
  },
  {
   "cell_type": "code",
   "execution_count": null,
   "metadata": {
    "collapsed": true
   },
   "outputs": [],
   "source": [
    "hu.mollview(hpixdata,rot=180)"
   ]
  },
  {
   "cell_type": "code",
   "execution_count": null,
   "metadata": {
    "collapsed": true
   },
   "outputs": [],
   "source": [
    "hu.orthview(hpixdata)"
   ]
  },
  {
   "cell_type": "code",
   "execution_count": null,
   "metadata": {
    "collapsed": true
   },
   "outputs": [],
   "source": [
    "#------------------------------------------------------------\n",
    "# Set up correlation function computation\n",
    "#  This calculation takes a long time with the bootstrap resampling,\n",
    "#  so we'll save the results.\n",
    "@pickle_results(\"correlation_functionsdr720515.pkl\")\n",
    "def compute_results(Nbins=16, Nbootstraps=10,  method='landy-szalay', rseed=0):\n",
    "    np.random.seed(rseed)\n",
    "    bins = 10 ** np.linspace(np.log10(1. / 60.), np.log10(6), 16)\n",
    "\n",
    "    results = [bins]\n",
    "    for D in [data]:\n",
    "        results += bootstrap_two_point_angular(D['ra'],\n",
    "                                               D['dec'],\n",
    "                                               bins=bins,\n",
    "                                               method=method,\n",
    "                                               Nbootstraps=Nbootstraps)\n",
    "\n",
    "    return results\n",
    "\n",
    "(bins, r_corr, r_corr_err, r_bootstraps) = compute_results()\n",
    "\n",
    "bin_centers = 0.5 * (bins[1:] + bins[:-1])"
   ]
  },
  {
   "cell_type": "code",
   "execution_count": null,
   "metadata": {
    "collapsed": true
   },
   "outputs": [],
   "source": [
    "bins"
   ]
  },
  {
   "cell_type": "code",
   "execution_count": null,
   "metadata": {
    "collapsed": true
   },
   "outputs": [],
   "source": [
    "r_corr"
   ]
  },
  {
   "cell_type": "code",
   "execution_count": null,
   "metadata": {
    "collapsed": true
   },
   "outputs": [],
   "source": [
    "r_corr_err"
   ]
  },
  {
   "cell_type": "code",
   "execution_count": null,
   "metadata": {
    "collapsed": true
   },
   "outputs": [],
   "source": [
    "r_bootstraps"
   ]
  },
  {
   "cell_type": "code",
   "execution_count": null,
   "metadata": {
    "collapsed": true
   },
   "outputs": [],
   "source": [
    "#------------------------------------------------------------\n",
    "# Plot the results\n",
    "label = '$0.05<z<0.15$\\n$N=138051$'\n",
    "\n",
    "fig = plt.figure(figsize=(6, 6))\n",
    "plt.xscale('log')\n",
    "plt.yscale('log')\n",
    "plt.errorbar(bin_centers, r_corr, r_corr_err,fmt='.k', ecolor='gray', lw=1)\n",
    "fig.text(0.8, 0.8, label, ha='right', va='top')\n",
    "plt.xlabel(r'$\\theta\\ (deg)$')\n",
    "plt.ylabel(r'$w(\\theta)$')\n",
    "plt.show()\n",
    "fig.savefig(\"wth_dr72005015.pdf\")"
   ]
  },
  {
   "cell_type": "code",
   "execution_count": null,
   "metadata": {
    "collapsed": true
   },
   "outputs": [],
   "source": [
    "plt.errorbar(bins[0:len(bins)-1],r_corr,r_corr_err)"
   ]
  },
  {
   "cell_type": "code",
   "execution_count": null,
   "metadata": {
    "collapsed": true
   },
   "outputs": [],
   "source": [
    "data=ascii.read('./input/sdssdr72_sorted_z.dat')"
   ]
  },
  {
   "cell_type": "code",
   "execution_count": null,
   "metadata": {
    "collapsed": true
   },
   "outputs": [],
   "source": [
    "data"
   ]
  },
  {
   "cell_type": "code",
   "execution_count": null,
   "metadata": {
    "collapsed": true
   },
   "outputs": [],
   "source": [
    "data['z']"
   ]
  },
  {
   "cell_type": "code",
   "execution_count": null,
   "metadata": {
    "collapsed": true
   },
   "outputs": [],
   "source": [
    "#m_max = 19\n",
    "\n",
    "# redshift and magnitude cuts\n",
    "data = data[data['z'] > 0.05]\n",
    "data = data[data['z'] <= 0.10]\n",
    "#data = data[data['petroMag_r'] < m_max]\n",
    "\n",
    "# RA/DEC cuts\n",
    "RAmin, RAmax = 140, 220\n",
    "DECmin, DECmax = 5, 45\n",
    "data = data[data['ra'] < RAmax]\n",
    "data = data[data['ra'] > RAmin]\n",
    "data = data[data['dec'] < DECmax]\n",
    "data = data[data['dec'] > DECmin]\n",
    "\n",
    "#ur = data['modelMag_u'] - data['modelMag_r']\n",
    "#flag_red = (ur > 2.22)\n",
    "#flag_blue = ~flag_red\n",
    "\n",
    "#datag \n",
    "\n",
    "print \"data size:\"\n",
    "print \"  total gals: \", len(data)\n",
    "#print \"  blue gals:\", len(data_blue)"
   ]
  },
  {
   "cell_type": "code",
   "execution_count": null,
   "metadata": {
    "collapsed": true
   },
   "outputs": [],
   "source": [
    "NSIDE=512\n",
    "dr72hpix=hu.HealPix(\"ring\",NSIDE)"
   ]
  },
  {
   "cell_type": "code",
   "execution_count": null,
   "metadata": {
    "collapsed": true
   },
   "outputs": [],
   "source": [
    "pixdata = open(\"./output/pixdatadr7200501.dat\",'w')\n",
    "pixdata.write(\"z\\t pix \\n\")\n",
    "\n",
    "for i in range(0,len(data)-1):\n",
    "    pixdata.write(\"%f\\t\" %data['z'][i])\n",
    "    pixdata.write(\"%d\\n\" %dr72hpix.eq2pix(data['ra'][i],data['dec'][i]))\n",
    "pixdata.close()"
   ]
  },
  {
   "cell_type": "code",
   "execution_count": null,
   "metadata": {
    "collapsed": true
   },
   "outputs": [],
   "source": [
    "pixdata = ascii.read(\"./output/pixdatadr7200501.dat\")\n",
    "hpixdata=np.array(np.zeros(hu.nside2npix(NSIDE)))\n",
    "for j in range(len(pixdata)):\n",
    "    hpixdata[pixdata[j]['pix']]+=1"
   ]
  },
  {
   "cell_type": "code",
   "execution_count": null,
   "metadata": {
    "collapsed": true
   },
   "outputs": [],
   "source": [
    "hpixdata"
   ]
  },
  {
   "cell_type": "code",
   "execution_count": null,
   "metadata": {
    "collapsed": true
   },
   "outputs": [],
   "source": [
    "hu.mollview(hpixdata,rot=180)"
   ]
  },
  {
   "cell_type": "code",
   "execution_count": null,
   "metadata": {
    "collapsed": true
   },
   "outputs": [],
   "source": [
    "hu.orthview(hpixdata)"
   ]
  },
  {
   "cell_type": "code",
   "execution_count": null,
   "metadata": {
    "collapsed": true
   },
   "outputs": [],
   "source": [
    "#------------------------------------------------------------\n",
    "# Set up correlation function computation\n",
    "#  This calculation takes a long time with the bootstrap resampling,\n",
    "#  so we'll save the results.\n",
    "@pickle_results(\"correlation_functionsdr720501.pkl\")\n",
    "def compute_results(Nbins=16, Nbootstraps=10,  method='landy-szalay', rseed=0):\n",
    "    np.random.seed(rseed)\n",
    "    bins = 10 ** np.linspace(np.log10(1. / 60.), np.log10(6), 16)\n",
    "\n",
    "    results = [bins]\n",
    "    for D in [data]:\n",
    "        results += bootstrap_two_point_angular(D['ra'],\n",
    "                                               D['dec'],\n",
    "                                               bins=bins,\n",
    "                                               method=method,\n",
    "                                               Nbootstraps=Nbootstraps)\n",
    "\n",
    "    return results\n",
    "\n",
    "(bins, r_corr, r_corr_err, r_bootstraps) = compute_results()\n",
    "\n",
    "bin_centers = 0.5 * (bins[1:] + bins[:-1])"
   ]
  },
  {
   "cell_type": "code",
   "execution_count": null,
   "metadata": {
    "collapsed": true
   },
   "outputs": [],
   "source": [
    "bins"
   ]
  },
  {
   "cell_type": "code",
   "execution_count": null,
   "metadata": {
    "collapsed": true
   },
   "outputs": [],
   "source": [
    "r_corr"
   ]
  },
  {
   "cell_type": "code",
   "execution_count": null,
   "metadata": {
    "collapsed": true
   },
   "outputs": [],
   "source": [
    "r_corr_err"
   ]
  },
  {
   "cell_type": "code",
   "execution_count": null,
   "metadata": {
    "collapsed": true
   },
   "outputs": [],
   "source": [
    "r_bootstraps"
   ]
  },
  {
   "cell_type": "code",
   "execution_count": null,
   "metadata": {
    "collapsed": true
   },
   "outputs": [],
   "source": [
    "#------------------------------------------------------------\n",
    "# Plot the results\n",
    "\n",
    "label = '$0.05<z<0.10$\\n$N=78939$'\n",
    "\n",
    "fig = plt.figure(figsize=(6, 6))\n",
    "plt.xscale('log')\n",
    "plt.yscale('log')\n",
    "plt.errorbar(bin_centers, r_corr, r_corr_err,fmt='.k', ecolor='gray', lw=1)\n",
    "fig.text(0.8, 0.8, label, ha='right', va='top')\n",
    "plt.xlabel(r'$\\theta\\ (deg)$')\n",
    "plt.ylabel(r'$w(\\theta)$')\n",
    "plt.show()\n",
    "fig.savefig(\"wth_dr720501.pdf\")"
   ]
  },
  {
   "cell_type": "code",
   "execution_count": null,
   "metadata": {
    "collapsed": true
   },
   "outputs": [],
   "source": [
    "plt.errorbar(bins[0:len(bins)-1],r_corr,r_corr_err)"
   ]
  },
  {
   "cell_type": "code",
   "execution_count": null,
   "metadata": {
    "collapsed": true
   },
   "outputs": [],
   "source": []
  },
  {
   "cell_type": "code",
   "execution_count": null,
   "metadata": {
    "collapsed": true
   },
   "outputs": [],
   "source": [
    "data=ascii.read('./input/sdssdr72_sorted_z.dat')"
   ]
  },
  {
   "cell_type": "code",
   "execution_count": null,
   "metadata": {
    "collapsed": true
   },
   "outputs": [],
   "source": [
    "data"
   ]
  },
  {
   "cell_type": "code",
   "execution_count": null,
   "metadata": {
    "collapsed": true
   },
   "outputs": [],
   "source": [
    "data['z']"
   ]
  },
  {
   "cell_type": "code",
   "execution_count": null,
   "metadata": {
    "collapsed": true
   },
   "outputs": [],
   "source": [
    "#m_max = 19\n",
    "\n",
    "# redshift and magnitude cuts\n",
    "data = data[data['z'] > 0.10]\n",
    "data = data[data['z'] <= 0.15]\n",
    "#data = data[data['petroMag_r'] < m_max]\n",
    "\n",
    "# RA/DEC cuts\n",
    "RAmin, RAmax = 140, 220\n",
    "DECmin, DECmax = 5, 45\n",
    "data = data[data['ra'] < RAmax]\n",
    "data = data[data['ra'] > RAmin]\n",
    "data = data[data['dec'] < DECmax]\n",
    "data = data[data['dec'] > DECmin]\n",
    "\n",
    "#ur = data['modelMag_u'] - data['modelMag_r']\n",
    "#flag_red = (ur > 2.22)\n",
    "#flag_blue = ~flag_red\n",
    "\n",
    "#datag \n",
    "\n",
    "print \"data size:\"\n",
    "print \"  total gals: \", len(data)\n",
    "#print \"  blue gals:\", len(data_blue)"
   ]
  },
  {
   "cell_type": "code",
   "execution_count": null,
   "metadata": {
    "collapsed": true
   },
   "outputs": [],
   "source": [
    "NSIDE=512\n",
    "dr72hpix=hu.HealPix(\"ring\",NSIDE)"
   ]
  },
  {
   "cell_type": "code",
   "execution_count": null,
   "metadata": {
    "collapsed": true
   },
   "outputs": [],
   "source": [
    "pixdata = open(\"./output/pixdatadr72001015.dat\",'w')\n",
    "pixdata.write(\"z\\t pix \\n\")\n",
    "\n",
    "for i in range(0,len(data)-1):\n",
    "    pixdata.write(\"%f\\t\" %data['z'][i])\n",
    "    pixdata.write(\"%d\\n\" %dr72hpix.eq2pix(data['ra'][i],data['dec'][i]))\n",
    "pixdata.close()"
   ]
  },
  {
   "cell_type": "code",
   "execution_count": null,
   "metadata": {
    "collapsed": true
   },
   "outputs": [],
   "source": [
    "pixdata = ascii.read(\"./output/pixdatadr72001015.dat\")\n",
    "hpixdata=np.array(np.zeros(hu.nside2npix(NSIDE)))\n",
    "for j in range(len(pixdata)):\n",
    "    hpixdata[pixdata[j]['pix']]+=1"
   ]
  },
  {
   "cell_type": "code",
   "execution_count": null,
   "metadata": {
    "collapsed": true
   },
   "outputs": [],
   "source": [
    "hpixdata"
   ]
  },
  {
   "cell_type": "code",
   "execution_count": null,
   "metadata": {
    "collapsed": true
   },
   "outputs": [],
   "source": [
    "hu.mollview(hpixdata,rot=180)"
   ]
  },
  {
   "cell_type": "code",
   "execution_count": null,
   "metadata": {
    "collapsed": true
   },
   "outputs": [],
   "source": [
    "hu.orthview(hpixdata)"
   ]
  },
  {
   "cell_type": "code",
   "execution_count": null,
   "metadata": {
    "collapsed": true
   },
   "outputs": [],
   "source": [
    "#------------------------------------------------------------\n",
    "# Set up correlation function computation\n",
    "#  This calculation takes a long time with the bootstrap resampling,\n",
    "#  so we'll save the results.\n",
    "@pickle_results(\"correlation_functionsdr72001015.pkl\")\n",
    "def compute_results(Nbins=16, Nbootstraps=10,  method='landy-szalay', rseed=0):\n",
    "    np.random.seed(rseed)\n",
    "    bins = 10 ** np.linspace(np.log10(1. / 60.), np.log10(6), 16)\n",
    "\n",
    "    results = [bins]\n",
    "    for D in [data]:\n",
    "        results += bootstrap_two_point_angular(D['ra'],\n",
    "                                               D['dec'],\n",
    "                                               bins=bins,\n",
    "                                               method=method,\n",
    "                                               Nbootstraps=Nbootstraps)\n",
    "\n",
    "    return results\n",
    "\n",
    "(bins, r_corr, r_corr_err, r_bootstraps) = compute_results()\n",
    "\n",
    "bin_centers = 0.5 * (bins[1:] + bins[:-1])"
   ]
  },
  {
   "cell_type": "code",
   "execution_count": null,
   "metadata": {
    "collapsed": true
   },
   "outputs": [],
   "source": [
    "bins"
   ]
  },
  {
   "cell_type": "code",
   "execution_count": null,
   "metadata": {
    "collapsed": true
   },
   "outputs": [],
   "source": [
    "r_corr"
   ]
  },
  {
   "cell_type": "code",
   "execution_count": null,
   "metadata": {
    "collapsed": true
   },
   "outputs": [],
   "source": [
    "r_corr_err"
   ]
  },
  {
   "cell_type": "code",
   "execution_count": null,
   "metadata": {
    "collapsed": true
   },
   "outputs": [],
   "source": [
    "r_bootstraps"
   ]
  },
  {
   "cell_type": "code",
   "execution_count": null,
   "metadata": {
    "collapsed": true
   },
   "outputs": [],
   "source": [
    "#------------------------------------------------------------\n",
    "# Plot the results\n",
    "\n",
    "label = '$0.10<z<0.15$\\n$N=59112$'\n",
    "fig = plt.figure(figsize=(6, 6))\n",
    "plt.xscale('log')\n",
    "plt.yscale('log')\n",
    "plt.errorbar(bin_centers, r_corr, r_corr_err,fmt='.k', ecolor='gray', lw=1)\n",
    "fig.text(0.8, 0.8, label, ha='right', va='top')\n",
    "plt.xlabel(r'$\\theta\\ (deg)$')\n",
    "plt.ylabel(r'$w(\\theta)$')\n",
    "plt.show()\n",
    "fig.savefig(\"wth_dr7201015.pdf\")"
   ]
  },
  {
   "cell_type": "code",
   "execution_count": null,
   "metadata": {
    "collapsed": true
   },
   "outputs": [],
   "source": [
    "plt.errorbar(bins[0:len(bins)-1],r_corr,r_corr_err)"
   ]
  },
  {
   "cell_type": "code",
   "execution_count": null,
   "metadata": {
    "collapsed": true
   },
   "outputs": [],
   "source": [
    "hu.mollview(hpixdatab,rot=180)"
   ]
  },
  {
   "cell_type": "code",
   "execution_count": null,
   "metadata": {
    "collapsed": true
   },
   "outputs": [],
   "source": [
    "hu.orthview(hpixdatab)"
   ]
  },
  {
   "cell_type": "code",
   "execution_count": null,
   "metadata": {
    "collapsed": true
   },
   "outputs": [],
   "source": []
  },
  {
   "cell_type": "code",
   "execution_count": null,
   "metadata": {
    "collapsed": true
   },
   "outputs": [],
   "source": []
  },
  {
   "cell_type": "code",
   "execution_count": null,
   "metadata": {
    "collapsed": true
   },
   "outputs": [],
   "source": []
  },
  {
   "cell_type": "code",
   "execution_count": null,
   "metadata": {
    "collapsed": true
   },
   "outputs": [],
   "source": []
  },
  {
   "cell_type": "code",
   "execution_count": null,
   "metadata": {
    "collapsed": true
   },
   "outputs": [],
   "source": [
    "help(hu.mollview)"
   ]
  },
  {
   "cell_type": "code",
   "execution_count": null,
   "metadata": {
    "collapsed": true
   },
   "outputs": [],
   "source": [
    "\n",
    "from astroML.datasets import fetch_sdss_specgals\n",
    "from astroML.correlation import bootstrap_two_point_angular"
   ]
  },
  {
   "cell_type": "code",
   "execution_count": null,
   "metadata": {
    "collapsed": true
   },
   "outputs": [],
   "source": [
    "help(bootstrap_two_point_angular)"
   ]
  },
  {
   "cell_type": "code",
   "execution_count": null,
   "metadata": {
    "collapsed": true
   },
   "outputs": [],
   "source": [
    "help(astroML.correlation)"
   ]
  },
  {
   "cell_type": "code",
   "execution_count": null,
   "metadata": {
    "collapsed": true
   },
   "outputs": [],
   "source": [
    "import astroML.correlation"
   ]
  },
  {
   "cell_type": "code",
   "execution_count": null,
   "metadata": {
    "collapsed": true
   },
   "outputs": [],
   "source": [
    "import sklearn.neighbors"
   ]
  },
  {
   "cell_type": "code",
   "execution_count": null,
   "metadata": {
    "collapsed": true
   },
   "outputs": [],
   "source": [
    "help(sklearn.neighbors)"
   ]
  },
  {
   "cell_type": "markdown",
   "metadata": {},
   "source": [
    "Sorted and reduced column set data can now be 'read' to reduce RAM requirements of the table reading. "
   ]
  },
  {
   "cell_type": "code",
   "execution_count": null,
   "metadata": {
    "collapsed": true
   },
   "outputs": [],
   "source": [
    "sdssdr72=ascii.read('./input/dssdr72_sorted_z.dat')"
   ]
  },
  {
   "cell_type": "markdown",
   "metadata": {},
   "source": [
    "Create a healpix map with NSIDE=64 (no. of pixels = 49152 as $NPIX=12\\times NSIDE^2$) because the no. of galaxies in the survey are less. For higher resolution (later for dr12) we will consider NSIDE=512 or even 1024. For now, we will create a 64 NSIDE map."
   ]
  },
  {
   "cell_type": "code",
   "execution_count": null,
   "metadata": {
    "collapsed": true
   },
   "outputs": [],
   "source": [
    "NSIDE=64\n",
    "dt72hpix=hu.HealPix(\"ring\",NSIDE)"
   ]
  },
  {
   "cell_type": "markdown",
   "metadata": {},
   "source": [
    "We have data of galaxies with redshifts between 0 and 0.5 ($0<z<0.5$). To look at a time slice/at a certain epoch we need to choose the list of galaxies within a redshift window. As, measurement of redshift has $\\pm 0.05$ error. We can bin all the data into redshifts with range limited to 0.05 variation each. So, we have 10 databins with almost identical redshifts. We save each databin in a different file. "
   ]
  },
  {
   "cell_type": "code",
   "execution_count": null,
   "metadata": {
    "collapsed": true
   },
   "outputs": [],
   "source": [
    "j=0\n",
    "for i in range(1,17):\n",
    "    pixdata = open(\"/home/rohin/Desktop/healpix/binned1/pixdata%d_%d.dat\"%(NSIDE,i),'w')\n",
    "    pixdata.write(\"ra\\t dec\\t z\\t pix \\n\")\n",
    "    #for j in range(len(sdssdr72)):\n",
    "    try:\n",
    "        while sdssdr72[j]['z']<0.03*i:\n",
    "            pixdata.write(\"%f\\t\" %sdssdr72[j]['ra'])\n",
    "            pixdata.write(\"%f\\t\" %sdssdr72[j]['dec'])\n",
    "            pixdata.write(\"%f\\t\" %sdssdr72[j]['z'])\n",
    "            pixdata.write(\"%d\\n\" %dt72hpix.eq2pix(sdssdr72[j]['ra'],sdssdr72[j]['dec']))\n",
    "            #print dt72hpix.eq2pix(sdssdr72[j]['ra'],sdssdr72[j]['dec'])\n",
    "            j=j+1\n",
    "    except:\n",
    "        pass\n",
    "    pixdata.close()"
   ]
  },
  {
   "cell_type": "code",
   "execution_count": null,
   "metadata": {
    "collapsed": true
   },
   "outputs": [],
   "source": [
    "for i in range(1,17):\n",
    "    pixdata = ascii.read(\"/home/rohin/Desktop/healpix/binned1/pixdata%d_%d.dat\"%(NSIDE,i))\n",
    "    mpixdata = open(\"/home/rohin/Desktop/healpix/binned1/masked/pixdata%d_%d.dat\"%(NSIDE,i),'w')\n",
    "    mpixdata.write(\"ra\\t dec\\t z\\t pix \\n\")\n",
    "    for j in range((len(pixdata)-1)):\n",
    "        if 100<pixdata[j]['ra']<250:\n",
    "            mpixdata.write(\"%f\\t\" %pixdata[j]['ra'])\n",
    "            mpixdata.write(\"%f\\t\" %pixdata[j]['dec'])\n",
    "            mpixdata.write(\"%f\\t\" %pixdata[j]['z'])\n",
    "            mpixdata.write(\"%d\\n\" %pixdata[j]['pix'])\n",
    "    #pixdata.write(\"/home/rohin/Desktop/healpix/binned1/masked/pixdata_%d.dat\"%i,format='ascii')\n",
    "                \n",
    "                \n",
    "            #print dt72hpix.eq2pix(sdssdr72[j]['ra'],sdssdr72[j]['dec'])\n",
    "    mpixdata.close()"
   ]
  },
  {
   "cell_type": "markdown",
   "metadata": {},
   "source": [
    "We now, take each databin and assign the total no. of galaxies as the value of each pixel. The following routine will calculate the no. of galaxies by couting the occurence of pixel numbers in the file."
   ]
  },
  {
   "cell_type": "code",
   "execution_count": null,
   "metadata": {
    "collapsed": true
   },
   "outputs": [],
   "source": [
    "pixdata = ascii.read(\"/home/rohin/Desktop/healpix/binned1/masked/pixdata%d_2.dat\"%NSIDE)\n",
    "hpixdata=np.array(np.zeros(hu.nside2npix(NSIDE)))\n",
    "for j in range(len(pixdata)):\n",
    "    hpixdata[pixdata[j]['pix']]+=1"
   ]
  },
  {
   "cell_type": "code",
   "execution_count": null,
   "metadata": {
    "collapsed": true
   },
   "outputs": [],
   "source": [
    "hpixdata"
   ]
  },
  {
   "cell_type": "code",
   "execution_count": null,
   "metadata": {
    "collapsed": true
   },
   "outputs": [],
   "source": [
    "hu.orthview(hpixdata,rot=180)"
   ]
  },
  {
   "cell_type": "code",
   "execution_count": null,
   "metadata": {
    "collapsed": true
   },
   "outputs": [],
   "source": [
    "pixcl=hu.anafast(hpixdata,lmax=300)\n",
    "ell = np.arange(len(pixcl))\n",
    "plt.figure()\n",
    "plt.plot(ell,np.log(pixcl))\n",
    "plt.show()"
   ]
  },
  {
   "cell_type": "code",
   "execution_count": null,
   "metadata": {
    "collapsed": true
   },
   "outputs": [],
   "source": [
    "pixcl=hu.anafast(hpixdata,lmax=300)\n",
    "ell = np.arange(len(pixcl))\n",
    "plt.figure()\n",
    "plt.plot(ell,np.sqrt(ell*(ell+1)*pixcl/(4*math.pi)))\n",
    "plt.show()"
   ]
  },
  {
   "cell_type": "code",
   "execution_count": null,
   "metadata": {
    "collapsed": true
   },
   "outputs": [],
   "source": [
    "theta=np.arange(0,np.pi,0.001)"
   ]
  },
  {
   "cell_type": "code",
   "execution_count": null,
   "metadata": {
    "collapsed": true
   },
   "outputs": [],
   "source": [
    "correldat = np.polynomial.legendre.legval(np.cos(theta),(2*ell+1)*np.absolute(pixcl))/(4*math.pi)"
   ]
  },
  {
   "cell_type": "code",
   "execution_count": null,
   "metadata": {
    "collapsed": true
   },
   "outputs": [],
   "source": [
    "plt.figure()\n",
    "plt.plot(theta[0:600]*180/math.pi,correldat[0:600])\n",
    "plt.show()"
   ]
  },
  {
   "cell_type": "code",
   "execution_count": null,
   "metadata": {
    "collapsed": true
   },
   "outputs": [],
   "source": [
    "plt.figure()\n",
    "plt.plot(theta*180/math.pi,correldat)\n",
    "plt.show()"
   ]
  },
  {
   "cell_type": "code",
   "execution_count": null,
   "metadata": {
    "collapsed": true
   },
   "outputs": [],
   "source": [
    "randra,randdec=hu.randsphere(2200000)"
   ]
  },
  {
   "cell_type": "code",
   "execution_count": null,
   "metadata": {
    "collapsed": true
   },
   "outputs": [],
   "source": [
    "randhp=hu.HealPix(\"RING\",NSIDE)"
   ]
  },
  {
   "cell_type": "code",
   "execution_count": null,
   "metadata": {
    "collapsed": true
   },
   "outputs": [],
   "source": [
    "randhppix=randhp.eq2pix(randra,randdec)"
   ]
  },
  {
   "cell_type": "code",
   "execution_count": null,
   "metadata": {
    "collapsed": true
   },
   "outputs": [],
   "source": [
    "randpixdat=np.array(np.zeros(hu.nside2npix(NSIDE)))"
   ]
  },
  {
   "cell_type": "code",
   "execution_count": null,
   "metadata": {
    "collapsed": true
   },
   "outputs": [],
   "source": [
    "for j in range(len(randhppix)):\n",
    "    randpixdat[randhppix[j]]+=1"
   ]
  },
  {
   "cell_type": "code",
   "execution_count": null,
   "metadata": {
    "collapsed": true
   },
   "outputs": [],
   "source": [
    "randmaphp=hu.mollview(randpixdat)"
   ]
  },
  {
   "cell_type": "code",
   "execution_count": null,
   "metadata": {
    "collapsed": true
   },
   "outputs": [],
   "source": [
    "randcl=hu.anafast(randpixdat,lmax=300)\n",
    "ell = np.arange(len(randcl))\n",
    "plt.figure()\n",
    "plt.plot(ell,np.sqrt(ell*(ell+1)*randcl/(4*math.pi)))\n",
    "plt.show()"
   ]
  },
  {
   "cell_type": "code",
   "execution_count": null,
   "metadata": {
    "collapsed": true
   },
   "outputs": [],
   "source": [
    "correlrand = np.polynomial.legendre.legval(np.cos(theta),(2*ell+1)*np.absolute(randcl))/(4*math.pi)\n",
    "plt.figure()\n",
    "plt.plot(theta[0:600]*180/math.pi,correlrand[0:600])\n",
    "plt.show()"
   ]
  },
  {
   "cell_type": "code",
   "execution_count": null,
   "metadata": {
    "collapsed": true
   },
   "outputs": [],
   "source": [
    "finalcorrel=correldat-correlrand\n",
    "plt.figure()\n",
    "plt.plot(theta[0:600]*180/math.pi,finalcorrel[0:600])\n",
    "plt.show()"
   ]
  },
  {
   "cell_type": "code",
   "execution_count": null,
   "metadata": {
    "collapsed": true
   },
   "outputs": [],
   "source": [
    "finalpix=hpixdata-randpixdat"
   ]
  },
  {
   "cell_type": "code",
   "execution_count": null,
   "metadata": {
    "collapsed": true
   },
   "outputs": [],
   "source": [
    "hu.mollview(finalpix,rot=180)"
   ]
  },
  {
   "cell_type": "code",
   "execution_count": null,
   "metadata": {
    "collapsed": true
   },
   "outputs": [],
   "source": [
    "cl=hu.anafast(finalpix,lmax=300)\n",
    "ell = np.arange(len(cl))\n",
    "plt.figure()\n",
    "plt.plot(ell,np.sqrt(ell*(ell+1)*cl/(4*math.pi)))\n",
    "plt.show()"
   ]
  },
  {
   "cell_type": "code",
   "execution_count": null,
   "metadata": {
    "collapsed": true
   },
   "outputs": [],
   "source": [
    "correlrand = np.polynomial.legendre.legval(np.cos(theta),(2*ell+1)*np.absolute(cl))/(4*math.pi)\n",
    "plt.figure()\n",
    "plt.plot(theta[0:600]*180/math.pi,correlrand[0:600])\n",
    "plt.show()"
   ]
  },
  {
   "cell_type": "code",
   "execution_count": null,
   "metadata": {
    "collapsed": true
   },
   "outputs": [],
   "source": [
    "finalcl=pixcl-randcl\n",
    "correlrand = np.polynomial.legendre.legval(np.cos(theta),(2*ell+1)*np.absolute(finalcl))/(4*math.pi)\n",
    "plt.figure()\n",
    "plt.plot(theta[0:600]*180/math.pi,correlrand[0:600])\n",
    "plt.show()"
   ]
  },
  {
   "cell_type": "code",
   "execution_count": null,
   "metadata": {
    "collapsed": true
   },
   "outputs": [],
   "source": [
    "help(fits)"
   ]
  },
  {
   "cell_type": "code",
   "execution_count": null,
   "metadata": {
    "collapsed": true
   },
   "outputs": [],
   "source": [
    "data[1].data['z']"
   ]
  },
  {
   "cell_type": "code",
   "execution_count": null,
   "metadata": {
    "collapsed": true
   },
   "outputs": [],
   "source": []
  }
 ],
 "metadata": {
  "kernelspec": {
   "display_name": "Python 2",
   "language": "python",
   "name": "python2"
  },
  "language_info": {
   "codemirror_mode": {
    "name": "ipython",
    "version": 2
   },
   "file_extension": ".py",
   "mimetype": "text/x-python",
   "name": "python",
   "nbconvert_exporter": "python",
   "pygments_lexer": "ipython2",
   "version": "2.7.13"
  }
 },
 "nbformat": 4,
 "nbformat_minor": 1
}
