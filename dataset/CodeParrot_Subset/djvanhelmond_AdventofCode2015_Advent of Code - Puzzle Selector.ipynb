{
 "cells": [
  {
   "cell_type": "code",
   "execution_count": 45,
   "metadata": {
    "collapsed": false
   },
   "outputs": [],
   "source": [
    "#!/usr/bin/env python3\n",
    "import random"
   ]
  },
  {
   "cell_type": "code",
   "execution_count": 44,
   "metadata": {
    "collapsed": false
   },
   "outputs": [
    {
     "name": "stdout",
     "output_type": "stream",
     "text": [
      "You have the following options: [11, 12, 13, 15, 17, 18, 19, 21, 22, 23, 24, 25]\n",
      "I suggest you solve puzzle: 17\n"
     ]
    }
   ],
   "source": [
    "Solved = []\n",
    "for i in range(1, 26):\n",
    "    Solved.append(i)\n",
    "\n",
    "\n",
    "Solved.remove(10)\n",
    "Solved.remove(1)\n",
    "Solved.remove(2)\n",
    "Solved.remove(3)\n",
    "Solved.remove(4)\n",
    "Solved.remove(5)\n",
    "Solved.remove(7)\n",
    "Solved.remove(6)\n",
    "Solved.remove(8)\n",
    "Solved.remove(9)\n",
    "Solved.remove(20)\n",
    "Solved.remove(16)\n",
    "Solved.remove(14)    \n",
    "    \n",
    "    \n",
    "print(\"You have the following options:\", Solved)\n",
    "print(\"I suggest you solve puzzle: %i\" % random.choice(Solved))\n",
    "\n",
    "\n",
    "        "
   ]
  },
  {
   "cell_type": "code",
   "execution_count": null,
   "metadata": {
    "collapsed": true
   },
   "outputs": [],
   "source": []
  },
  {
   "cell_type": "code",
   "execution_count": null,
   "metadata": {
    "collapsed": true
   },
   "outputs": [],
   "source": []
  }
 ],
 "metadata": {
  "kernelspec": {
   "display_name": "Python 3",
   "language": "python",
   "name": "python3"
  },
  "language_info": {
   "codemirror_mode": {
    "name": "ipython",
    "version": 3
   },
   "file_extension": ".py",
   "mimetype": "text/x-python",
   "name": "python",
   "nbconvert_exporter": "python",
   "pygments_lexer": "ipython3",
   "version": "3.5.0"
  }
 },
 "nbformat": 4,
 "nbformat_minor": 0
}
