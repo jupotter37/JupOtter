{
 "cells": [
  {
   "cell_type": "code",
   "execution_count": 1,
   "metadata": {},
   "outputs": [],
   "source": [
    "%load_ext autoreload\n",
    "%autoreload 2"
   ]
  },
  {
   "cell_type": "code",
   "execution_count": 2,
   "metadata": {},
   "outputs": [],
   "source": [
    "import requests\n",
    "from session import SESSION\n",
    "from common import print_problem, get_problem_input, submit_answer, neighbors\n",
    "from bs4 import BeautifulSoup\n",
    "from IPython.core.display import HTML\n",
    "from collections import Counter\n",
    "import re\n",
    "from collections import defaultdict\n",
    "from copy import copy, deepcopy\n",
    "import itertools\n",
    "from pprint import pprint\n",
    "from functools import lru_cache\n",
    "import numpy as np\n",
    "import colorama\n",
    "import math"
   ]
  },
  {
   "cell_type": "code",
   "execution_count": 3,
   "metadata": {},
   "outputs": [],
   "source": [
    "DAY = 15"
   ]
  },
  {
   "cell_type": "code",
   "execution_count": 4,
   "metadata": {},
   "outputs": [
    {
     "name": "stdout",
     "output_type": "stream",
     "text": [
      "Raw Data:\n",
      "'11956992691699626181157392791991439681856921722851821835662217958771161218637214'\n",
      "Split Data:\n",
      "['1195699269169962618115739279199143968185692172285182183566221795877116121863721498957174621167918242',\n",
      " '9115625874265799911728162199785394821312124845672192542919338584962177612992393151111933224334135452',\n",
      " '8131729216517615863391649615129757111193739768481218915512112595941796747611211317938536136799846916',\n",
      " '4962593132118152776959137321183383866772192116141953231951591444941238923298442361423618911179121722',\n",
      " '1416121522926541915424971183698194981419338198971913131598831476211215251194523121195812188825994191',\n",
      " '1928733692818149228324516927257499752678492513169166313451293451242416536442231355632161758212412115',\n",
      " '4991813117359923391742392452551991886811936769148871994981937912114913399457193319831421852811811411',\n",
      " '9996916186114911181317116839536799955741529114391992149574162387517295536711111425429134625723713721',\n",
      " '6413152742931664293329711273293938913869998819228825914291212594321245569621831111918122371115465372',\n",
      " '6722188749914139715213996125538481197121421593279313213185899225935111987292443132111143755985119529']\n"
     ]
    }
   ],
   "source": [
    "raw_data, data = get_problem_input(DAY)"
   ]
  },
  {
   "cell_type": "code",
   "execution_count": 175,
   "metadata": {},
   "outputs": [],
   "source": [
    "data = [\n",
    "\"1163751742\",\n",
    "\"1381373672\",\n",
    "\"2136511328\",\n",
    "\"3694931569\",\n",
    "\"7463417111\",\n",
    "\"1319128137\",\n",
    "\"1359912421\",\n",
    "\"3125421639\",\n",
    "\"1293138521\",\n",
    "\"2311944581\",\n",
    "]"
   ]
  },
  {
   "cell_type": "code",
   "execution_count": 5,
   "metadata": {},
   "outputs": [],
   "source": [
    "cavenp = np.array([np.array(list(map(int,row))) for row in data])"
   ]
  },
  {
   "cell_type": "code",
   "execution_count": 6,
   "metadata": {},
   "outputs": [],
   "source": [
    "cave = dict()\n",
    "\n",
    "for r,row in enumerate(data):\n",
    "    for c,val in enumerate(row):\n",
    "        cave[complex(r,c)] = int(val)"
   ]
  },
  {
   "cell_type": "code",
   "execution_count": 7,
   "metadata": {},
   "outputs": [],
   "source": [
    "def adj(cave, c):\n",
    "    return [c+n for n in [-1+0j,1+0j,0-1j,0+1j] if (c+n) in cave.keys()]"
   ]
  },
  {
   "cell_type": "code",
   "execution_count": 31,
   "metadata": {},
   "outputs": [],
   "source": [
    "def dijkstra(cave):\n",
    "    visited = defaultdict(bool)\n",
    "    to_visit = set()\n",
    "    distance = defaultdict(lambda: math.inf)\n",
    "\n",
    "    current = 0\n",
    "\n",
    "    destination = sorted(cave.keys(), key=lambda x: x.real + x.imag)[-1]\n",
    "\n",
    "    distance[current] = 0\n",
    "\n",
    "    while True:\n",
    "        for n in adj(cave, current):\n",
    "            if not visited[n]:\n",
    "                distance[n] = min(distance[n], distance[current] + cave[n])\n",
    "                to_visit.add(n)\n",
    "\n",
    "        visited[current] = True\n",
    "\n",
    "        if visited[destination]:\n",
    "            break\n",
    "        else:\n",
    "            current = sorted(list(to_visit), key=lambda v: distance[v])[0]\n",
    "            to_visit.discard(current)\n",
    "\n",
    "    return int(distance[destination])\n"
   ]
  },
  {
   "cell_type": "code",
   "execution_count": 32,
   "metadata": {},
   "outputs": [
    {
     "name": "stdout",
     "output_type": "stream",
     "text": [
      "2778\n"
     ]
    }
   ],
   "source": [
    "print(first := dijkstra(cave))"
   ]
  },
  {
   "cell_type": "code",
   "execution_count": 107,
   "metadata": {},
   "outputs": [
    {
     "name": "stdout",
     "output_type": "stream",
     "text": [
      "423\n",
      "(\"That's the right answer!  You are one gold star closer to finding the sleigh \"\n",
      " 'keys. [Continue to Part Two]')\n"
     ]
    },
    {
     "data": {
      "text/plain": [
       "True"
      ]
     },
     "execution_count": 107,
     "metadata": {},
     "output_type": "execute_result"
    }
   ],
   "source": [
    "submit_answer(DAY, 1, first)"
   ]
  },
  {
   "cell_type": "code",
   "execution_count": 10,
   "metadata": {},
   "outputs": [],
   "source": [
    "def build_cave(cave, n):\n",
    "    tiles = [cave]\n",
    "    \"\"\"\n",
    "    12345\n",
    "    23456\n",
    "    34567\n",
    "    45678\n",
    "    56789\n",
    "    \"\"\"\n",
    "\n",
    "    for _ in range(n-1):\n",
    "        a = tiles[-1] + 1\n",
    "        a[np.where(a == 10)] = 1\n",
    "        tiles.append(a)\n",
    "    top = np.hstack(tiles)\n",
    "    \n",
    "    tiles = [top]\n",
    "    for _ in range(n-1):\n",
    "        a = tiles[-1] + 1\n",
    "        a[np.where(a == 10)] = 1\n",
    "        tiles.append(a)\n",
    "    top = np.vstack(tiles)\n",
    "    \n",
    "    return top\n"
   ]
  },
  {
   "cell_type": "code",
   "execution_count": 15,
   "metadata": {},
   "outputs": [],
   "source": [
    "new_cave_np = build_cave(np.copy(cavenp),5)"
   ]
  },
  {
   "cell_type": "code",
   "execution_count": 22,
   "metadata": {},
   "outputs": [],
   "source": [
    "new_cave = dict()\n",
    "\n",
    "for r,row in enumerate(new_cave_np):\n",
    "    for c,val in enumerate(row):\n",
    "        new_cave[complex(r,c)] = int(val)"
   ]
  },
  {
   "cell_type": "code",
   "execution_count": 24,
   "metadata": {},
   "outputs": [
    {
     "ename": "KeyboardInterrupt",
     "evalue": "",
     "output_type": "error",
     "traceback": [
      "\u001b[1;31m---------------------------------------------------------------------------\u001b[0m",
      "\u001b[1;31mKeyboardInterrupt\u001b[0m                         Traceback (most recent call last)",
      "\u001b[1;32m~\\AppData\\Local\\Temp/ipykernel_13672/2991909774.py\u001b[0m in \u001b[0;36m<module>\u001b[1;34m\u001b[0m\n\u001b[1;32m----> 1\u001b[1;33m \u001b[0mprint\u001b[0m\u001b[1;33m(\u001b[0m\u001b[0msecond\u001b[0m \u001b[1;33m:=\u001b[0m \u001b[0mdijkstra\u001b[0m\u001b[1;33m(\u001b[0m\u001b[0mnew_cave\u001b[0m\u001b[1;33m)\u001b[0m\u001b[1;33m)\u001b[0m\u001b[1;33m\u001b[0m\u001b[1;33m\u001b[0m\u001b[0m\n\u001b[0m",
      "\u001b[1;32m~\\AppData\\Local\\Temp/ipykernel_13672/412344222.py\u001b[0m in \u001b[0;36mdijkstra\u001b[1;34m(cave)\u001b[0m\n\u001b[0;32m     20\u001b[0m         \u001b[1;32melse\u001b[0m\u001b[1;33m:\u001b[0m\u001b[1;33m\u001b[0m\u001b[1;33m\u001b[0m\u001b[0m\n\u001b[0;32m     21\u001b[0m             \u001b[1;32mfor\u001b[0m \u001b[0mpotential\u001b[0m \u001b[1;32min\u001b[0m \u001b[0msorted\u001b[0m\u001b[1;33m(\u001b[0m\u001b[0mdistance\u001b[0m\u001b[1;33m.\u001b[0m\u001b[0mkeys\u001b[0m\u001b[1;33m(\u001b[0m\u001b[1;33m)\u001b[0m\u001b[1;33m,\u001b[0m \u001b[0mkey\u001b[0m\u001b[1;33m=\u001b[0m\u001b[1;32mlambda\u001b[0m \u001b[0mx\u001b[0m\u001b[1;33m:\u001b[0m \u001b[0mdistance\u001b[0m\u001b[1;33m[\u001b[0m\u001b[0mx\u001b[0m\u001b[1;33m]\u001b[0m\u001b[1;33m)\u001b[0m\u001b[1;33m:\u001b[0m\u001b[1;33m\u001b[0m\u001b[1;33m\u001b[0m\u001b[0m\n\u001b[1;32m---> 22\u001b[1;33m                 \u001b[1;32mif\u001b[0m \u001b[1;32mnot\u001b[0m \u001b[0mvisited\u001b[0m\u001b[1;33m[\u001b[0m\u001b[0mpotential\u001b[0m\u001b[1;33m]\u001b[0m\u001b[1;33m:\u001b[0m\u001b[1;33m\u001b[0m\u001b[1;33m\u001b[0m\u001b[0m\n\u001b[0m\u001b[0;32m     23\u001b[0m                     \u001b[0mcurrent\u001b[0m \u001b[1;33m=\u001b[0m \u001b[0mpotential\u001b[0m\u001b[1;33m\u001b[0m\u001b[1;33m\u001b[0m\u001b[0m\n\u001b[0;32m     24\u001b[0m                     \u001b[1;32mbreak\u001b[0m\u001b[1;33m\u001b[0m\u001b[1;33m\u001b[0m\u001b[0m\n",
      "\u001b[1;31mKeyboardInterrupt\u001b[0m: "
     ]
    }
   ],
   "source": [
    "print(second := dijkstra(new_cave))"
   ]
  },
  {
   "cell_type": "code",
   "execution_count": 38,
   "metadata": {},
   "outputs": [
    {
     "name": "stdout",
     "output_type": "stream",
     "text": [
      "2789\n",
      "(\"That's not the right answer; your answer is too high.  If you're stuck, make \"\n",
      " \"sure you're using the full input data; there are also some general tips on \"\n",
      " 'the about page, or you can ask for hints on the subreddit.  Please wait one '\n",
      " 'minute before trying again. (You guessed 2789.) [Return to Day 15]')\n"
     ]
    },
    {
     "data": {
      "text/plain": [
       "False"
      ]
     },
     "execution_count": 38,
     "metadata": {},
     "output_type": "execute_result"
    }
   ],
   "source": [
    "submit_answer(DAY, 2, second)"
   ]
  }
 ],
 "metadata": {
  "kernelspec": {
   "display_name": "Python 3",
   "language": "python",
   "name": "python3"
  },
  "language_info": {
   "codemirror_mode": {
    "name": "ipython",
    "version": 3
   },
   "file_extension": ".py",
   "mimetype": "text/x-python",
   "name": "python",
   "nbconvert_exporter": "python",
   "pygments_lexer": "ipython3",
   "version": "3.8.6"
  }
 },
 "nbformat": 4,
 "nbformat_minor": 4
}
