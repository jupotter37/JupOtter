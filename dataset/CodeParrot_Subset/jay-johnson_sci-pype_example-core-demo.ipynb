{
 "cells": [
  {
   "cell_type": "markdown",
   "metadata": {},
   "source": [
    "## Python Core Demo\n",
    "\n",
    "How to use the python core from a Jupyter notebook. It also shows how to debug the JSON application configs which are used to connect to external database(s) and redis server(s).\n"
   ]
  },
  {
   "cell_type": "code",
   "execution_count": null,
   "metadata": {
    "collapsed": false,
    "scrolled": false
   },
   "outputs": [],
   "source": [
    "import os, sys, json\n",
    "\n",
    "sys.path.insert(0, os.getenv('ENV_PYTHON_SRC_DIR', '/opt/work/src'))\n",
    "\n",
    "from pycore import PyCore\n",
    "\n",
    "# default config: /opt/work/configs/jupyter.json \n",
    "config  = os.getenv('ENV_PYTHON_CORE_CONFIG', '/opt/work/configs/jupyter.json')\n",
    "\n",
    "print 'Initializing Python Core with Redis and Database Applications - Disabled'\n",
    "core = PyCore(config)\n",
    "\n",
    "core.lg('')\n",
    "core.lg('--------------------------------------------------------')\n",
    "core.lg('Logging Demos')\n",
    "core.lg('')\n",
    "core.lg('  This is RED', 0)\n",
    "core.lg('  This is BLUE', 1)\n",
    "core.lg('  This is YELLOW', 2)\n",
    "core.lg('  This is PURPLE', 3)\n",
    "core.lg('  This is GRAY', 4)\n",
    "core.lg('  This is GREEN', 5)\n",
    "core.lg('  This is BLACK', 6)\n",
    "core.lg('  Default is BLACK')\n",
    "core.lg('')\n",
    "\n",
    "core.lg('--------------------------------------------------------')\n",
    "core.lg('Here is the Central Resource JSON Configuration', 2)\n",
    "print core.ppj(core.m_core_json)\n",
    "core.lg('')\n",
    "\n",
    "core.lg('--------------------------------------------------------')\n",
    "core.lg('Here are the Database Resources stored in JSON', 2)\n",
    "print core.ppj(core.m_db_apps_json)\n",
    "core.lg('')\n",
    "\n",
    "core.lg('--------------------------------------------------------')\n",
    "core.lg('Here are the Redis Resources stored in JSON', 2)\n",
    "print core.ppj(core.m_rd_apps_json)\n",
    "core.lg('')\n"
   ]
  }
 ],
 "metadata": {
  "kernelspec": {
   "display_name": "Python 2",
   "language": "python",
   "name": "python2"
  },
  "language_info": {
   "codemirror_mode": {
    "name": "ipython",
    "version": 2
   },
   "file_extension": ".py",
   "mimetype": "text/x-python",
   "name": "python",
   "nbconvert_exporter": "python",
   "pygments_lexer": "ipython2",
   "version": "2.7.12"
  }
 },
 "nbformat": 4,
 "nbformat_minor": 0
}
