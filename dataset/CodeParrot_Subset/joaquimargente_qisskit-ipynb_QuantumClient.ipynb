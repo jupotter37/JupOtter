{
 "cells": [
  {
   "cell_type": "code",
   "execution_count": null,
   "metadata": {
    "collapsed": true
   },
   "outputs": [],
   "source": [
    "# USER, PLEASE SET CONFIG:\n",
    "token = \"_TOKEN_\"\n",
    "config = {\n",
    "   \"url\": 'https://quantumexperience.ng.bluemix.net/api'\n",
    "}\n",
    "# ---- UTILS -----\n",
    "import sys\n",
    "if sys.version_info.major > 2:  # Python 3\n",
    "    from IBMQuantumExperience.IBMQuantumExperience import IBMQuantumExperience\n",
    "else:                           # Python 2 \n",
    "    from IBMQuantumExperience import IBMQuantumExperience\n",
    "from IPython.display import Image, display\n",
    "import matplotlib.pyplot as plt\n",
    "import numpy as np\n",
    "exec(\"experiment-conf.py\")\n",
    "%matplotlib inline\n",
    "api = IBMQuantumExperience(token)\n",
    "def showImageCode(idCode):\n",
    "    if (idCode):\n",
    "        code = api.get_image_code(idCode)\n",
    "        if (code.get('error', None)):\n",
    "            print(\"Failed to recover the Code\")\n",
    "        else:\n",
    "            display(Image(code['url']))\n",
    "    else:\n",
    "        print(\"Invalid IdCode\")\n",
    "def printBars(values, labels):\n",
    "    N = len(values)\n",
    "    ind = np.arange(N)  # the x locations for the groups\n",
    "    width = 0.35       # the width of the bars\n",
    "    fig, ax = plt.subplots()\n",
    "    rects1 = ax.bar(ind, values, width, color='r')\n",
    "    # add some text for labels, title and axes ticks\n",
    "    ax.set_ylabel('Probabilities')\n",
    "    ax.set_xticks(ind + (width/2.))\n",
    "    ax.set_xticklabels(labels)\n",
    "    def autolabel(rects):\n",
    "        # attach some text labels\n",
    "        for rect in rects:\n",
    "            height = rect.get_height()\n",
    "            ax.text(rect.get_x() + rect.get_width()/2., 1.05*height,\n",
    "                    '%f' % float(height),\n",
    "                    ha='center', va='bottom')\n",
    "    autolabel(rects1)\n",
    "    plt.show()\n",
    "def showResultsByExecution(executionRaw):\n",
    "    result = executionRaw.get('result', {})\n",
    "    data = result.get('data', {})\n",
    "    print('Execution in ' + executionRaw.get('deviceRunType', 'Unknown') + ' at ' + executionRaw.get('endDate', 'Unknown'))\n",
    "    if (data.get('p', None)):\n",
    "        values = data['p']['values']\n",
    "        labels = data['p']['labels']\n",
    "        printBars(values, labels)\n",
    "    else:\n",
    "        print(\"Not plotted. Results are: \"+str(executionRaw))\n",
    "def showResultsByIdExecution(idExecution):\n",
    "    execution = api.get_result_from_execution(idExecution)\n",
    "    if (execution.get('measure', None)):\n",
    "        values = execution['measure']['values']\n",
    "        labels = execution['measure']['labels']\n",
    "        printBars(values, labels)\n",
    "    else:\n",
    "        print(\"Not plotted. Results are: \"+str(execution))\n",
    "def showLastCodes():\n",
    "    codes = api.get_last_codes()\n",
    "    for code in codes:\n",
    "        print(\"--------------------------------\")\n",
    "        print(\"Code \" + code.get('name', 'Unknown'))\n",
    "        print(\" \")\n",
    "        showImageCode(code.get('id', None))\n",
    "        print(\"------- Executions -------------\")\n",
    "        for execution in code.get('executions', []):\n",
    "            showResultsByExecution(execution)"
   ]
  },
  {
   "cell_type": "code",
   "execution_count": null,
   "metadata": {
    "collapsed": true
   },
   "outputs": [],
   "source": []
  }
 ],
 "metadata": {
  "kernelspec": {
   "display_name": "Python 3",
   "language": "python",
   "name": "python3"
  },
  "language_info": {
   "codemirror_mode": {
    "name": "ipython",
    "version": 3
   },
   "file_extension": ".py",
   "mimetype": "text/x-python",
   "name": "python",
   "nbconvert_exporter": "python",
   "pygments_lexer": "ipython3",
   "version": "3.6.2"
  }
 },
 "nbformat": 4,
 "nbformat_minor": 2
}
