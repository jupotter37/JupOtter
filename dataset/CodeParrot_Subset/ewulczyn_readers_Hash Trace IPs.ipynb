{
 "cells": [
  {
   "cell_type": "code",
   "execution_count": 1,
   "metadata": {
    "collapsed": false
   },
   "outputs": [],
   "source": [
    "%load_ext autoreload\n",
    "%autoreload 2\n",
    "import dateutil\n",
    "import json\n",
    "from pyspark.sql import SQLContext, Row\n",
    "sqlContext = SQLContext(sc)"
   ]
  },
  {
   "cell_type": "code",
   "execution_count": 2,
   "metadata": {
    "collapsed": true
   },
   "outputs": [],
   "source": [
    "import os\n",
    "import sys\n",
    "import inspect\n",
    "\n",
    "currentdir = os.path.dirname(\n",
    "    os.path.abspath(inspect.getfile(inspect.currentframe()))\n",
    ")\n",
    "parentdir = os.path.dirname(currentdir)\n",
    "gpparentdir = os.path.dirname(parentdir)\n",
    "sys.path.insert(0, gpparentdir)\n",
    "\n",
    "from src.traces.trace_utils import *"
   ]
  },
  {
   "cell_type": "code",
   "execution_count": 3,
   "metadata": {
    "collapsed": true
   },
   "outputs": [],
   "source": [
    "def get_hash_function():\n",
    "    key = name = input(\"Key \")\n",
    "    clear_output()\n",
    "    def hash_function(s):\n",
    "        code = hmac.new(key.encode('utf-8'), s.encode('utf-8'), hashlib.sha1)\n",
    "        s = code.hexdigest()\n",
    "        return s\n",
    "    return hash_function\n",
    "\n",
    "\n",
    "def parse_row(line):\n",
    "    row = line.strip().split('\\t')\n",
    "    if len(row) !=5:\n",
    "        return None\n",
    "    \n",
    "    d = {'ip': row[0],\n",
    "         'ua': row[1],\n",
    "         'requests' : parse_requests(row[3]),\n",
    "         'geo_data' : row[4]\n",
    "        }\n",
    "    return d\n",
    "\n",
    "def parse_requests(requests):\n",
    "    ret = []\n",
    "    for r in requests.split('||'):\n",
    "        t = r.split('|')\n",
    "        if len(t) != 3:\n",
    "            continue\n",
    "        ret.append({'t': t[0], 'r': t[1], 'p': t[2]})\n",
    "    ret.sort(key = lambda x: x['t']) # sort by time\n",
    "    return ret"
   ]
  },
  {
   "cell_type": "code",
   "execution_count": 12,
   "metadata": {
    "collapsed": false
   },
   "outputs": [],
   "source": [
    "\n",
    "input_dir = '/user/hive/warehouse/traces.db/test2'\n",
    "output_dir = '/user/ellery/readers/data/hashed_traces/test2'"
   ]
  },
  {
   "cell_type": "code",
   "execution_count": 5,
   "metadata": {
    "collapsed": false
   },
   "outputs": [],
   "source": [
    "hash_function = get_hash_function()\n",
    "\n",
    "def hash_ip(x):\n",
    "    x['ip'] = hash_function(x['ip'])\n",
    "    return x"
   ]
  },
  {
   "cell_type": "code",
   "execution_count": 14,
   "metadata": {
    "collapsed": true
   },
   "outputs": [],
   "source": [
    "day = '2016-02-29'\n",
    "host = 'en.wikipedia.org'\n",
    "partition = get_partition_name(day, host)"
   ]
  },
  {
   "cell_type": "code",
   "execution_count": 25,
   "metadata": {
    "collapsed": false
   },
   "outputs": [],
   "source": [
    "input_partition = os.path.join(input_dir, partition)\n",
    "output_partition = os.path.join(output_dir, partition )\n",
    "trace_rdd = sc.textFile(input_partition) \\\n",
    "    .map(parse_row) \\\n",
    "    .filter(lambda x: x is not None) \\\n",
    "    .map(hash_ip) \\\n",
    "    .map(lambda x: json.dumps(x))         \n",
    "os.system('hadoop fs -rm -r ' + output_partition)\n",
    "trace_rdd.saveAsTextFile(output_partition)\n"
   ]
  },
  {
   "cell_type": "code",
   "execution_count": 29,
   "metadata": {
    "collapsed": false
   },
   "outputs": [
    {
     "data": {
      "text/plain": [
       "['{\"requests\": [{\"r\": \"-\", \"t\": \"2016-02-29 00:17:28\", \"p\": \"/wiki/Bad_Company\"}, {\"r\": \"-\", \"t\": \"2016-02-29 00:17:31\", \"p\": \"/wiki/Bad_Company\"}, {\"r\": \"-\", \"t\": \"2016-02-29 00:22:42\", \"p\": \"/wiki/Foreigner\"}, {\"r\": \"-\", \"t\": \"2016-02-29 00:22:43\", \"p\": \"/wiki/Foreigner\"}, {\"r\": \"-\", \"t\": \"2016-02-29 00:27:40\", \"p\": \"/wiki/Thunder\"}, {\"r\": \"-\", \"t\": \"2016-02-29 00:27:43\", \"p\": \"/wiki/Thunder\"}, {\"r\": \"-\", \"t\": \"2016-02-29 00:33:18\", \"p\": \"/wiki/Simple_Minds\"}, {\"r\": \"-\", \"t\": \"2016-02-29 00:33:22\", \"p\": \"/wiki/Simple_Minds\"}, {\"r\": \"-\", \"t\": \"2016-02-29 00:39:09\", \"p\": \"/wiki/Marillion\"}, {\"r\": \"-\", \"t\": \"2016-02-29 00:39:12\", \"p\": \"/wiki/Marillion\"}, {\"r\": \"-\", \"t\": \"2016-02-29 00:43:31\", \"p\": \"/wiki/The_Eagles\"}, {\"r\": \"-\", \"t\": \"2016-02-29 00:43:36\", \"p\": \"/wiki/The_Eagles\"}, {\"r\": \"-\", \"t\": \"2016-02-29 00:47:27\", \"p\": \"/wiki/Dream_Theater\"}, {\"r\": \"-\", \"t\": \"2016-02-29 00:47:30\", \"p\": \"/wiki/Dream_Theater\"}, {\"r\": \"-\", \"t\": \"2016-02-29 00:51:19\", \"p\": \"/wiki/Ugly_Kid_Joe\"}, {\"r\": \"-\", \"t\": \"2016-02-29 00:51:24\", \"p\": \"/wiki/Ugly_Kid_Joe\"}, {\"r\": \"-\", \"t\": \"2016-02-29 00:55:22\", \"p\": \"/wiki/Queen\"}, {\"r\": \"-\", \"t\": \"2016-02-29 00:55:25\", \"p\": \"/wiki/Queen\"}], \"ip\": \"24cbe39b2ddcae901bf755f28ace0aa841b65b46\", \"geo_data\": \"city\\\\u0003Bucheon-si\\\\u0002country_code\\\\u0003KR\\\\u0002longitude\\\\u0003126.7831\\\\u0002subdivision\\\\u0003Gyeonggi-do\\\\u0002timezone\\\\u0003Asia/Seoul\\\\u0002postal_code\\\\u0003Unknown\\\\u0002continent\\\\u0003Asia\\\\u0002latitude\\\\u000337.4989\\\\u0002country\\\\u0003Republic of Korea\", \"ua\": \"foobar2000/1.3.6\"}']"
      ]
     },
     "execution_count": 29,
     "metadata": {},
     "output_type": "execute_result"
    }
   ],
   "source": [
    "sc.textFile(output_partition).map(lambda xtake(1)"
   ]
  },
  {
   "cell_type": "code",
   "execution_count": null,
   "metadata": {
    "collapsed": true
   },
   "outputs": [],
   "source": []
  }
 ],
 "metadata": {
  "kernelspec": {
   "display_name": "Python 3",
   "language": "python",
   "name": "python3"
  },
  "language_info": {
   "codemirror_mode": {
    "name": "ipython",
    "version": 3
   },
   "file_extension": ".py",
   "mimetype": "text/x-python",
   "name": "python",
   "nbconvert_exporter": "python",
   "pygments_lexer": "ipython3",
   "version": "3.4.3"
  }
 },
 "nbformat": 4,
 "nbformat_minor": 0
}
