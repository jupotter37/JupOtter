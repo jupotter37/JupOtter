{
 "cells": [
  {
   "cell_type": "markdown",
   "metadata": {
    "deletable": true,
    "editable": true
   },
   "source": [
    "## Yapıcı ve Yıkıcı Girişim\n",
    "### Sekil 3.27\n"
   ]
  },
  {
   "cell_type": "code",
   "execution_count": 6,
   "metadata": {
    "collapsed": false,
    "deletable": true,
    "editable": true
   },
   "outputs": [
    {
     "ename": "NameError",
     "evalue": "name 'matplotlib' is not defined",
     "output_type": "error",
     "traceback": [
      "\u001b[0;31m---------------------------------------------------------------------------\u001b[0m",
      "\u001b[0;31mNameError\u001b[0m                                 Traceback (most recent call last)",
      "\u001b[0;32m<ipython-input-6-59152b5ffac2>\u001b[0m in \u001b[0;36m<module>\u001b[0;34m()\u001b[0m\n\u001b[1;32m      3\u001b[0m \u001b[0;32mimport\u001b[0m \u001b[0mnumpy\u001b[0m \u001b[0;32mas\u001b[0m \u001b[0mnp\u001b[0m\u001b[0;34m\u001b[0m\u001b[0m\n\u001b[1;32m      4\u001b[0m \u001b[0;34m\u001b[0m\u001b[0m\n\u001b[0;32m----> 5\u001b[0;31m \u001b[0mmatplotlib\u001b[0m\u001b[0;34m.\u001b[0m\u001b[0mrcParams\u001b[0m\u001b[0;34m.\u001b[0m\u001b[0mupdate\u001b[0m\u001b[0;34m(\u001b[0m\u001b[0;34m{\u001b[0m\u001b[0;34m'font.size'\u001b[0m\u001b[0;34m:\u001b[0m \u001b[0;36m10\u001b[0m\u001b[0;34m}\u001b[0m\u001b[0;34m)\u001b[0m\u001b[0;34m\u001b[0m\u001b[0m\n\u001b[0m\u001b[1;32m      6\u001b[0m \u001b[0;34m\u001b[0m\u001b[0m\n\u001b[1;32m      7\u001b[0m \u001b[0mt\u001b[0m\u001b[0;34m=\u001b[0m\u001b[0mnp\u001b[0m\u001b[0;34m.\u001b[0m\u001b[0mlinspace\u001b[0m\u001b[0;34m(\u001b[0m\u001b[0;36m0\u001b[0m\u001b[0;34m,\u001b[0m\u001b[0;36m1\u001b[0m\u001b[0;34m,\u001b[0m\u001b[0;36m100\u001b[0m\u001b[0;34m)\u001b[0m \u001b[0;31m# ornekleme araligi ornekleyecegimiz frekansin en az iki kati olmali.\u001b[0m\u001b[0;34m\u001b[0m\u001b[0m\n",
      "\u001b[0;31mNameError\u001b[0m: name 'matplotlib' is not defined"
     ]
    }
   ],
   "source": [
    "# Tanimlar\n",
    "import matplotlib.pyplot as plt\n",
    "import numpy as np\n",
    "\n",
    "t=np.linspace(0,1,100) # ornekleme araligi ornekleyecegimiz frekansin en az iki kati olmali.\n",
    "\n",
    "## Yapici Girisim icin ayni fazli 2 isaret\n",
    "ton1=np.sin(2*np.pi*10*t)\n",
    "ton2=0.5*np.sin(2*np.pi*10*t)\n",
    "\n",
    "f,ax=plt.subplots(2, 2, sharey=True, sharex=True)\n",
    "ax[0,0].plot(t[0:100],ton1[0:100], 'k'); \n",
    "ax[0,0].plot(t[0:100],ton2[0:100], 'r--'); ax[0,0].set_title(u'Eş Fazlı İki İşaret (Zaman)')\n",
    "\n",
    "ax[0,1].plot(t[0:100],ton1+ton2[0:100], 'k'); ax[0,1].set_title(u'Toplam İşaret - Yapıcı Girişim (Zaman)')\n",
    "\n",
    "## Yıkıcı Girişim için pi kadar ötelenmiş 2. işaret\n",
    "ton2=0.5*np.sin(2*np.pi*10*t+np.pi)\n",
    "ax[1,0].plot(t[0:100],ton1[0:100], 'k');\n",
    "ax[1,0].plot(t[0:100],ton2[0:100], 'r--'); ax[1,0].set_title(u'Faz Farklı İki İşaret (Zaman)')\n",
    "ax[1,1].plot(t[0:100],ton1+ton2[0:100], 'k');ax[1,1].set_title(u'Toplam İşaret - Yıkıcı Girişim (Zaman)')\n",
    "\n",
    "plt.show()"
   ]
  }
 ],
 "metadata": {
  "kernelspec": {
   "display_name": "Python 2",
   "language": "python",
   "name": "python2"
  },
  "language_info": {
   "codemirror_mode": {
    "name": "ipython",
    "version": 2
   },
   "file_extension": ".py",
   "mimetype": "text/x-python",
   "name": "python",
   "nbconvert_exporter": "python",
   "pygments_lexer": "ipython2",
   "version": "2.7.12"
  }
 },
 "nbformat": 4,
 "nbformat_minor": 2
}
