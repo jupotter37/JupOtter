{
 "cells": [
  {
   "cell_type": "code",
   "execution_count": 10,
   "metadata": {
    "collapsed": true
   },
   "outputs": [],
   "source": [
    "import hug\n",
    "import webcolors"
   ]
  },
  {
   "cell_type": "code",
   "execution_count": 11,
   "metadata": {
    "collapsed": true
   },
   "outputs": [],
   "source": [
    "@hug.get()\n",
    "def hextoname(hex: hug.types.text):\n",
    "    return webcolors.hex_to_name('#' + hex)"
   ]
  },
  {
   "cell_type": "code",
   "execution_count": 12,
   "metadata": {
    "collapsed": true
   },
   "outputs": [],
   "source": [
    "@hug.get()\n",
    "def nametohex(name: hug.types.text):\n",
    "    return webcolors.name_to_hex(name)"
   ]
  },
  {
   "cell_type": "markdown",
   "metadata": {},
   "source": [
    "*hug started from the command line in another terminal*\n",
    "\n",
    "```bash\n",
    "hug -f embrace_hug.py -p 3000\n",
    "```"
   ]
  },
  {
   "cell_type": "code",
   "execution_count": 13,
   "metadata": {
    "collapsed": false
   },
   "outputs": [
    {
     "name": "stdout",
     "output_type": "stream",
     "text": [
      "{\r\n",
      "    \"404\": \"The API call you tried to make was not defined. Here's a definition of the API to help you get going :)\",\r\n",
      "    \"documentation\": {\r\n",
      "        \"handlers\": {\r\n",
      "            \"/hextoname\": {\r\n",
      "                \"GET\": {\r\n",
      "                    \"outputs\": {\r\n",
      "                        \"format\": \"JSON (Javascript Serialized Object Notation)\",\r\n",
      "                        \"content_type\": \"application/json\"\r\n",
      "                    },\r\n",
      "                    \"inputs\": {\r\n",
      "                        \"hex\": {\r\n",
      "                            \"type\": \"Basic text / string value\"\r\n",
      "                        }\r\n",
      "                    }\r\n",
      "                }\r\n",
      "            },\r\n",
      "            \"/nametohex\": {\r\n",
      "                \"GET\": {\r\n",
      "                    \"outputs\": {\r\n",
      "                        \"format\": \"JSON (Javascript Serialized Object Notation)\",\r\n",
      "                        \"content_type\": \"application/json\"\r\n",
      "                    },\r\n",
      "                    \"inputs\": {\r\n",
      "                        \"name\": {\r\n",
      "                            \"type\": \"Basic text / string value\"\r\n",
      "                        }\r\n",
      "                    }\r\n",
      "                }\r\n",
      "            }\r\n",
      "        }\r\n",
      "    }\r\n",
      "}"
     ]
    }
   ],
   "source": [
    "!curl http://localhost:3000\n",
    "# expect to get help because an undefined call was made"
   ]
  },
  {
   "cell_type": "code",
   "execution_count": 14,
   "metadata": {
    "collapsed": false
   },
   "outputs": [
    {
     "name": "stdout",
     "output_type": "stream",
     "text": [
      "{\"errors\": {\"name\": \"Required parameter 'name' not supplied\"}}"
     ]
    }
   ],
   "source": [
    "!curl http://localhost:3000/nametohex\n",
    "# expect to get error because name not supplied"
   ]
  },
  {
   "cell_type": "code",
   "execution_count": 15,
   "metadata": {
    "collapsed": false
   },
   "outputs": [
    {
     "name": "stdout",
     "output_type": "stream",
     "text": [
      "\"#ff0000\""
     ]
    }
   ],
   "source": [
    "!curl http://localhost:3000/nametohex/?name=red \n",
    "# expect to get a hex color for red"
   ]
  },
  {
   "cell_type": "code",
   "execution_count": 16,
   "metadata": {
    "collapsed": false
   },
   "outputs": [
    {
     "name": "stdout",
     "output_type": "stream",
     "text": [
      "\"#32cd32\""
     ]
    }
   ],
   "source": [
    "!curl http://localhost:3000/nametohex/?name=limegreen \n",
    "# expect to get a hex color for limegreen"
   ]
  },
  {
   "cell_type": "code",
   "execution_count": 17,
   "metadata": {
    "collapsed": false
   },
   "outputs": [
    {
     "name": "stdout",
     "output_type": "stream",
     "text": [
      "\"limegreen\""
     ]
    }
   ],
   "source": [
    "!curl http://localhost:3000/hextoname/?hex=32cd32 \n",
    "# expect to get a word for the color"
   ]
  },
  {
   "cell_type": "code",
   "execution_count": 19,
   "metadata": {
    "collapsed": false
   },
   "outputs": [
    {
     "name": "stdout",
     "output_type": "stream",
     "text": [
      "[NbConvertApp] Converting notebook embrace_hug.ipynb to pdf\n",
      "[NbConvertApp] Writing 18711 bytes to notebook.tex\n",
      "[NbConvertApp] Building PDF\n",
      "[NbConvertApp] Running pdflatex 3 times: ['pdflatex', 'notebook.tex']\n",
      "[NbConvertApp] Running bibtex 1 time: ['bibtex', 'notebook']\n",
      "[NbConvertApp] WARNING | bibtex had problems, most likely because there were no citations\n",
      "[NbConvertApp] PDF successfully created\n",
      "[NbConvertApp] Writing 57957 bytes to embrace_hug.pdf\n"
     ]
    }
   ],
   "source": [
    "!jupyter nbconvert --to pdf embrace_hug.ipynb"
   ]
  }
 ],
 "metadata": {
  "kernelspec": {
   "display_name": "Python 3",
   "language": "python",
   "name": "python3"
  },
  "language_info": {
   "codemirror_mode": {
    "name": "ipython",
    "version": 3
   },
   "file_extension": ".py",
   "mimetype": "text/x-python",
   "name": "python",
   "nbconvert_exporter": "python",
   "pygments_lexer": "ipython3",
   "version": "3.4.3"
  }
 },
 "nbformat": 4,
 "nbformat_minor": 0
}
