{
 "cells": [
  {
   "cell_type": "markdown",
   "metadata": {},
   "source": [
    "# Analyse Run #\n",
    "\n",
    "This is a template notebook to browse the results of a evolution simulation.\n",
    "\n",
    "WARNING: THIS IS THE IMMUNE ADD-ON. THIS NOTEBOOK SHOULD BE MOVED TO BE RUN IN THE SAME DIRECTORY AS run_evolution\n",
    "\n",
    "\n",
    "Please _Restart & Run All_ to make shure you start with a clean notebook."
   ]
  },
  {
   "cell_type": "markdown",
   "metadata": {},
   "source": [
    "## Enter the path of the project here (necessary to load the addons)"
   ]
  },
  {
   "cell_type": "code",
   "execution_count": null,
   "metadata": {
    "collapsed": true
   },
   "outputs": [],
   "source": [
    "import os,sys\n",
    "#sys.path.append(\"immune\")\n",
    "sys.path.append(\"example_immune\")"
   ]
  },
  {
   "cell_type": "markdown",
   "metadata": {},
   "source": [
    "## Import required libraries"
   ]
  },
  {
   "cell_type": "code",
   "execution_count": null,
   "metadata": {},
   "outputs": [],
   "source": [
    "%matplotlib notebook\n",
    "import matplotlib.pyplot as plt\n",
    "import numpy as np\n",
    "from  ipywidgets import widgets \n",
    "from ipywidgets import interact, interactive, fixed\n",
    "from IPython.display import display,HTML,clear_output\n",
    "\n",
    "HTML('''<script>code_show=true;function code_toggle() {if (code_show){$('div.input').hide();} else {$('div.input').show();} code_show = !code_show} $( document ).ready(code_toggle);</script><form action=\"javascript:code_toggle()\"><input type=\"submit\" value=\"Click here to toggle on/off the raw code.\"></form>''')\n",
    "from  Immune import Add_ons_pMHC\n",
    "import phievo.AnalysisTools as AT\n",
    "from  phievo.AnalysisTools.Notebook import Notebook\n",
    "\n",
    "notebook = Notebook()\n",
    "notebook.run_dynamics_pMHC = Add_ons_pMHC.Run_Dynamics_pMHC(notebook)\n",
    "notebook.plot_pMHC = Add_ons_pMHC.Plot_pMHC(notebook)\n",
    "notebook.plot_layout_immune = Add_ons_pMHC.Plot_Layout_Immune(notebook)\n"
   ]
  },
  {
   "cell_type": "markdown",
   "metadata": {},
   "source": [
    "## Select the Project"
   ]
  },
  {
   "cell_type": "code",
   "execution_count": null,
   "metadata": {},
   "outputs": [],
   "source": [
    "notebook.select_project.display()"
   ]
  },
  {
   "cell_type": "markdown",
   "metadata": {},
   "source": [
    "## Select Seed"
   ]
  },
  {
   "cell_type": "code",
   "execution_count": null,
   "metadata": {
    "collapsed": true
   },
   "outputs": [],
   "source": [
    "notebook.select_seed.display()"
   ]
  },
  {
   "cell_type": "markdown",
   "metadata": {},
   "source": [
    "## Plot observable\n",
    "\n",
    "For our immune simulations, the fitness is the mutual information between output concentrations (taken as a probability distribution) and binding time. An ideal fitness is $-1$."
   ]
  },
  {
   "cell_type": "code",
   "execution_count": null,
   "metadata": {},
   "outputs": [],
   "source": [
    "notebook.plot_evolution_observable.display()"
   ]
  },
  {
   "cell_type": "markdown",
   "metadata": {},
   "source": [
    "## Select Generation"
   ]
  },
  {
   "cell_type": "code",
   "execution_count": null,
   "metadata": {
    "collapsed": true
   },
   "outputs": [],
   "source": [
    "notebook.select_generation.display()"
   ]
  },
  {
   "cell_type": "markdown",
   "metadata": {},
   "source": [
    "## PLot Layout\n",
    "\n",
    "The Layout of the network for immune accounts for the new interactions defined. $0$ represents the ligand, $1$ the receptor. They interact to form complex, that can be phosphorylated/dephosphorylated (black arrows, indexed with the corresponding kinase or phosphatase). All other species are either kinases or phosphatastases. Arrows with $1/\\tau$ correspond to kinetic proofreading steps. "
   ]
  },
  {
   "cell_type": "code",
   "execution_count": null,
   "metadata": {},
   "outputs": [],
   "source": [
    "notebook.plot_layout_immune.display()"
   ]
  },
  {
   "cell_type": "markdown",
   "metadata": {},
   "source": [
    "## Run Dynamics"
   ]
  },
  {
   "cell_type": "code",
   "execution_count": null,
   "metadata": {
    "collapsed": true
   },
   "outputs": [],
   "source": [
    "notebook.run_dynamics_pMHC.display()"
   ]
  },
  {
   "cell_type": "markdown",
   "metadata": {},
   "source": [
    "## Plot Response function\n",
    "\n",
    "The response function for Immune displays the concentration of all species at the end of simulation as a function of the number of ligands presented. The output is the solid line. Left column is for binding time $\\tau=3s$, right column for binding time $\\tau=10s$. The ideal case such as ``adaptive sorting\" corresponds to horizontal lines for the Output, at different levels for different the $\\tau$ s"
   ]
  },
  {
   "cell_type": "code",
   "execution_count": null,
   "metadata": {},
   "outputs": [],
   "source": [
    "notebook.plot_pMHC.display()"
   ]
  },
  {
   "cell_type": "code",
   "execution_count": null,
   "metadata": {
    "collapsed": true
   },
   "outputs": [],
   "source": []
  }
 ],
 "metadata": {
  "anaconda-cloud": {},
  "kernelspec": {
   "display_name": "Python 3",
   "language": "python",
   "name": "python3"
  },
  "language_info": {
   "codemirror_mode": {
    "name": "ipython",
    "version": 3
   },
   "file_extension": ".py",
   "mimetype": "text/x-python",
   "name": "python",
   "nbconvert_exporter": "python",
   "pygments_lexer": "ipython3",
   "version": "3.6.1"
  },
  "widgets": {
   "state": {
    "3598eb7646394352ab73d6907bfa607d": {
     "views": [
      {
       "cell_index": 6
      }
     ]
    },
    "4118ded886f54c2eb0ca23145229c187": {
     "views": [
      {
       "cell_index": 10
      }
     ]
    },
    "8dfc65a8698340cbb702064232e2b908": {
     "views": [
      {
       "cell_index": 14
      }
     ]
    },
    "90d3134d143546638aa15b9d929a17b5": {
     "views": [
      {
       "cell_index": 16
      }
     ]
    },
    "bd2b7b131f324aba8d386ed46df23009": {
     "views": [
      {
       "cell_index": 8
      }
     ]
    },
    "c12b3fde939e49b08792c5cfa1558d2f": {
     "views": [
      {
       "cell_index": 12
      }
     ]
    },
    "dc4fac0bb3134c8ea22646980d8fc8a9": {
     "views": [
      {
       "cell_index": 18
      }
     ]
    },
    "f4663082efc347929023025c4e326e5d": {
     "views": [
      {
       "cell_index": 4
      }
     ]
    },
    "fcedbb95c6f940e28fc262dab1634ce5": {
     "views": [
      {
       "cell_index": 20
      }
     ]
    }
   },
   "version": "1.2.0"
  }
 },
 "nbformat": 4,
 "nbformat_minor": 1
}
