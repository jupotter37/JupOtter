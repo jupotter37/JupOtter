{
 "cells": [
  {
   "cell_type": "markdown",
   "metadata": {},
   "source": [
    "# Problemas"
   ]
  },
  {
   "cell_type": "markdown",
   "metadata": {},
   "source": [
    "Defina una función que obtenga la cinemática inversa de un pendulo doble."
   ]
  },
  {
   "cell_type": "code",
   "execution_count": null,
   "metadata": {
    "deletable": false,
    "nbgrader": {
     "checksum": "9c652e1e13046db6c793cee5954f8a9a",
     "grade": false,
     "grade_id": "cell-f163fd7318712300",
     "locked": false,
     "schema_version": 1,
     "solution": true
    }
   },
   "outputs": [],
   "source": [
    "def ci_pendulo_doble(x, y):\n",
    "    # tome en cuenta que las longitudes de los eslabones son 2 y 2\n",
    "    l1, l2 = 2, 2\n",
    "    from numpy import arccos, arctan2, sqrt\n",
    "    # YOUR CODE HERE\n",
    "    raise NotImplementedError()\n",
    "    return q1, q2"
   ]
  },
  {
   "cell_type": "code",
   "execution_count": null,
   "metadata": {
    "deletable": false,
    "editable": false,
    "nbgrader": {
     "checksum": "1375c3944280b1ef38830a23b226b157",
     "grade": true,
     "grade_id": "cell-3d10c51b1dba5e80",
     "locked": true,
     "points": 2,
     "schema_version": 1,
     "solution": false
    }
   },
   "outputs": [],
   "source": [
    "from numpy.testing import assert_allclose\n",
    "assert_allclose(ci_pendulo_doble(4, 0), (0,0))\n",
    "assert_allclose(ci_pendulo_doble(0, 4), (1.57079632,0))"
   ]
  },
  {
   "cell_type": "markdown",
   "metadata": {},
   "source": [
    "Obtenga las posiciones en el espacio articular, $q_1$ y $q_2$, necesarias para que el punto final del pendulo doble llegue a las coordenadas $p_1 = (0,1)$, $p_2 = (1,3)$ y $p_3 = (3,2)$."
   ]
  },
  {
   "cell_type": "code",
   "execution_count": null,
   "metadata": {
    "deletable": false,
    "nbgrader": {
     "checksum": "d1a632175b4e1ce5b17415f5c3d05cce",
     "grade": false,
     "grade_id": "cell-382c0afd3a87e675",
     "locked": false,
     "schema_version": 1,
     "solution": true
    }
   },
   "outputs": [],
   "source": [
    "# YOUR CODE HERE\n",
    "raise NotImplementedError()"
   ]
  },
  {
   "cell_type": "code",
   "execution_count": null,
   "metadata": {
    "deletable": false,
    "editable": false,
    "nbgrader": {
     "checksum": "6ab2924ae9f8bc975bf9f6a2ad03d7c2",
     "grade": true,
     "grade_id": "cell-8ea816fa511401d3",
     "locked": true,
     "points": 1,
     "schema_version": 1,
     "solution": false
    }
   },
   "outputs": [],
   "source": [
    "from numpy.testing import assert_allclose\n",
    "assert_allclose((q11, q21),(0.25268 , 2.636232), rtol=1e-05, atol=1e-05)"
   ]
  },
  {
   "cell_type": "code",
   "execution_count": null,
   "metadata": {
    "deletable": false,
    "editable": false,
    "nbgrader": {
     "checksum": "7df55f8102c64c925f075624b02deae2",
     "grade": true,
     "grade_id": "cell-5cfff476c8df261c",
     "locked": true,
     "points": 1,
     "schema_version": 1,
     "solution": false
    }
   },
   "outputs": [],
   "source": [
    "from numpy.testing import assert_allclose\n",
    "assert_allclose((q12, q22),(0.589988, 1.318116), rtol=1e-05, atol=1e-05)"
   ]
  },
  {
   "cell_type": "code",
   "execution_count": null,
   "metadata": {
    "deletable": false,
    "editable": false,
    "nbgrader": {
     "checksum": "b298f3fd943cfa81647498e5149b3d3d",
     "grade": true,
     "grade_id": "cell-22a0fbdc151777fd",
     "locked": true,
     "points": 1,
     "schema_version": 1,
     "solution": false
    }
   },
   "outputs": [],
   "source": [
    "from numpy.testing import assert_allclose\n",
    "assert_allclose((q13, q23),(0.14017 , 0.895665), rtol=1e-05, atol=1e-05)"
   ]
  },
  {
   "cell_type": "markdown",
   "metadata": {},
   "source": [
    "Genere las trayectorias necesarias para que el pendulo doble se mueva del punto $p_1$ al punto $p_2$ en $2s$, del punto $p_2$ al punto $p_3$ en $2s$ y del punto $p_3$ al punto $p_1$ en $2s$.\n",
    "> Utiliza 100 puntos por segundo y asegurate de guardar las trayectorias generadas en las variables correctas para que ```q1s``` y ```q2s``` tengan las trayectorias completas."
   ]
  },
  {
   "cell_type": "code",
   "execution_count": null,
   "metadata": {
    "deletable": false,
    "nbgrader": {
     "checksum": "f996d8a751f3cc1e068ddd853414a0f1",
     "grade": false,
     "grade_id": "cell-07a4748edaf7fb89",
     "locked": false,
     "schema_version": 1,
     "solution": true
    }
   },
   "outputs": [],
   "source": [
    "from generacion_trayectorias import grafica_trayectoria\n",
    "# YOUR CODE HERE\n",
    "raise NotImplementedError()\n",
    "q1s = q1s1 + q1s2 + q1s3\n",
    "q2s = q2s1 + q2s2 + q2s3"
   ]
  },
  {
   "cell_type": "code",
   "execution_count": null,
   "metadata": {
    "deletable": false,
    "editable": false,
    "nbgrader": {
     "checksum": "201b2703295dacfffc71e6b52a45282b",
     "grade": true,
     "grade_id": "cell-93e4554052ececab",
     "locked": true,
     "points": 1,
     "schema_version": 1,
     "solution": false
    }
   },
   "outputs": [],
   "source": [
    "from numpy.testing import assert_allclose\n",
    "assert_allclose((q1s[0], q1s[-1]),(0.25268, 0.25268), rtol=1e-05, atol=1e-05)"
   ]
  },
  {
   "cell_type": "code",
   "execution_count": null,
   "metadata": {
    "deletable": false,
    "editable": false,
    "nbgrader": {
     "checksum": "f29e537248bdb57f183e0246ce96cbe7",
     "grade": true,
     "grade_id": "cell-5a4e73c0366f29a6",
     "locked": true,
     "points": 1,
     "schema_version": 1,
     "solution": false
    }
   },
   "outputs": [],
   "source": [
    "from numpy.testing import assert_allclose\n",
    "assert_allclose((q2s[0], q2s[-1]),(2.636232, 2.636232), rtol=1e-05, atol=1e-05)"
   ]
  },
  {
   "cell_type": "markdown",
   "metadata": {},
   "source": [
    "Cree una animación con las trayectorias generadas y las funciones proporcionadas a continuación (algunas funciones estan marcadas con comentarios en donde hace falta agregar código)."
   ]
  },
  {
   "cell_type": "code",
   "execution_count": null,
   "metadata": {
    "deletable": false,
    "nbgrader": {
     "checksum": "d1451b67b316857254052b706defcae2",
     "grade": false,
     "grade_id": "cell-a2efbe6a9e13f855",
     "locked": false,
     "schema_version": 1,
     "solution": true
    }
   },
   "outputs": [],
   "source": [
    "from matplotlib.pyplot import figure, style\n",
    "from matplotlib import animation, rc\n",
    "rc('animation', html='html5')\n",
    "from numpy import sin, cos, arange\n",
    "\n",
    "fig = figure(figsize=(8, 8))\n",
    "axi = fig.add_subplot(111, autoscale_on=False, xlim=(-0.6, 3.1), ylim=(-0.6, 3.1))\n",
    "linea, = axi.plot([], [], \"-o\", lw=2, color='gray')\n",
    "\n",
    "def cd_pendulo_doble(q1, q2):\n",
    "    l1, l2 = 2, 2\n",
    "    # YOUR CODE HERE\n",
    "    raise NotImplementedError()\n",
    "    return xs, ys\n",
    "\n",
    "def inicializacion():\n",
    "    '''Esta funcion se ejecuta una sola vez y sirve para inicializar el sistema'''\n",
    "    linea.set_data([], [])\n",
    "    return linea\n",
    "\n",
    "def animacion(i):\n",
    "    '''Esta funcion se ejecuta para cada cuadro del GIF'''\n",
    "    # YOUR CODE HERE\n",
    "    raise NotImplementedError()\n",
    "    linea.set_data(xs, ys)\n",
    "    \n",
    "    return linea\n",
    "\n",
    "ani = animation.FuncAnimation(fig, animacion, arange(1, len(q1s)), interval=10, init_func=inicializacion)\n",
    "ani"
   ]
  },
  {
   "cell_type": "code",
   "execution_count": null,
   "metadata": {
    "deletable": false,
    "editable": false,
    "nbgrader": {
     "checksum": "d87ed6c04bdc796e1d7f237f69dab7a8",
     "grade": true,
     "grade_id": "cell-7ce827e6dd880efc",
     "locked": true,
     "points": 3,
     "schema_version": 1,
     "solution": false
    }
   },
   "outputs": [],
   "source": [
    "from numpy.testing import assert_allclose\n",
    "assert_allclose(cd_pendulo_doble(0, 0), ([0,2,4], [0,0,0]), rtol=1e-05, atol=1e-05)\n",
    "assert_allclose(cd_pendulo_doble(1.57079632,0), ([0, 0, 0],[0, 2, 4]), rtol=1e-05, atol=1e-05)"
   ]
  }
 ],
 "metadata": {
  "css": [
   ""
  ],
  "kernelspec": {
   "display_name": "Python 3",
   "language": "python",
   "name": "python3"
  },
  "language_info": {
   "codemirror_mode": {
    "name": "ipython",
    "version": 3
   },
   "file_extension": ".py",
   "mimetype": "text/x-python",
   "name": "python",
   "nbconvert_exporter": "python",
   "pygments_lexer": "ipython3",
   "version": "3.6.4"
  }
 },
 "nbformat": 4,
 "nbformat_minor": 1
}
