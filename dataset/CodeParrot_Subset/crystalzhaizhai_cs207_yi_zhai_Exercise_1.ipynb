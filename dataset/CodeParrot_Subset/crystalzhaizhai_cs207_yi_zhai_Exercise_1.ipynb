{
 "cells": [
  {
   "cell_type": "markdown",
   "metadata": {},
   "source": [
    "# Exercise 1\n",
    "Read and parse the chemical reactions `.xml` input file `rxns.xml`.\n",
    "\n",
    "\n",
    "1. Collect the species into a species list.  My output is `['H', 'O', 'OH', 'H2', 'O2']`.\n",
    "    \n",
    "    Some notes and hints:\n",
    "    * **Hint:**  For this `.xml` format you should have a loop over the `phase` element.\n",
    "    * **Hint:** You can use the `find()` method to get the species array.\n",
    "\n",
    "2. Calculate and print out the Arrhenius reaction rate coefficients using $R = 8.314$ and $T = 1500$.\n",
    "\n",
    "    Some notes and hints:\n",
    "    * **Hint:**  For this `.xml` format you should have loops over the `reactionData` element, the `reaction` element, the `rateCoeff` element, and the `Arrhenius` element using the `findall()` method discussed in lecture.\n",
    "    * **Hint:** You can use the `find()` method to get the reaction rate coefficients.\n",
    "    * My solution is:\n",
    "    \n",
    "        `k for reaction01 =    6.8678391864294477e+05\n",
    "    k for reaction02 =    2.3105559199959813e+06`"
   ]
  },
  {
   "cell_type": "code",
   "execution_count": 6,
   "metadata": {
    "collapsed": true
   },
   "outputs": [],
   "source": [
    "import xml.etree.ElementTree as ET\n",
    "tree=ET.parse(\"rxns.xml\")\n",
    "elementroot=tree.getroot()\n"
   ]
  },
  {
   "cell_type": "code",
   "execution_count": 18,
   "metadata": {},
   "outputs": [
    {
     "name": "stdout",
     "output_type": "stream",
     "text": [
      "['H', 'O', 'OH', 'H2', 'O2']\n"
     ]
    }
   ],
   "source": [
    "elements=elementroot.find('phase').find(\"speciesArray\").text.strip(\" \").split(\" \")\n",
    "print(elements)\n"
   ]
  },
  {
   "cell_type": "code",
   "execution_count": 25,
   "metadata": {},
   "outputs": [
    {
     "name": "stdout",
     "output_type": "stream",
     "text": [
      "k= 686783.9186429448\n",
      "k= 2310555.9199959813\n"
     ]
    }
   ],
   "source": [
    "reactionroot=elementroot.find(\"reactionData\")\n",
    "for reaction in reactionroot:\n",
    "    coefficients=reaction.find(\"rateCoeff\").find(\"Arrhenius\")\n",
    "    a=float(coefficients.find(\"A\").text)\n",
    "    b=float(coefficients.find(\"b\").text)\n",
    "    e=float(coefficients.find(\"E\").text)\n",
    "    print(\"k=\",a*T**b*math.exp(-e/(R*T)))\n"
   ]
  },
  {
   "cell_type": "code",
   "execution_count": null,
   "metadata": {
    "collapsed": true
   },
   "outputs": [],
   "source": []
  }
 ],
 "metadata": {
  "kernelspec": {
   "display_name": "Python 3",
   "language": "python",
   "name": "python3"
  },
  "language_info": {
   "codemirror_mode": {
    "name": "ipython",
    "version": 3
   },
   "file_extension": ".py",
   "mimetype": "text/x-python",
   "name": "python",
   "nbconvert_exporter": "python",
   "pygments_lexer": "ipython3",
   "version": "3.6.1"
  }
 },
 "nbformat": 4,
 "nbformat_minor": 2
}
