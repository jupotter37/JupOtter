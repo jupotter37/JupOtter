{
 "cells": [
  {
   "cell_type": "code",
   "execution_count": 2,
   "metadata": {
    "collapsed": true
   },
   "outputs": [],
   "source": [
    "from sklearn.feature_extraction.text import TfidfVectorizer, TfidfTransformer\n",
    "import numpy as np\n",
    "import pandas as pd\n",
    "#define vectorizer parameters"
   ]
  },
  {
   "cell_type": "code",
   "execution_count": 3,
   "metadata": {},
   "outputs": [],
   "source": [
    "vectorizer = TfidfVectorizer()#smooth_idf=True, sublinear_tf=False)\n",
    "# docs=[\"błąd danych na uprawnienia się administratorem problem acs\",\n",
    "#         \"ewidencja czasu pracy problem tk dzień dobry jest problem czasu pracy\",\n",
    "#         \"proszę przekierowanie faktur na panak do dnia data\",\n",
    "#         \"pd sap sap nadal nie działa\"\n",
    "#     ]\n",
    "docs = [\"This is about about Messi Messi Messi Messi\",\n",
    "       \"This is is about tfidf\"]\n",
    "tfidf_matrix = vectorizer.fit_transform(docs)\n"
   ]
  },
  {
   "cell_type": "code",
   "execution_count": 4,
   "metadata": {
    "collapsed": true
   },
   "outputs": [],
   "source": [
    "feature_names = vectorizer.get_feature_names()\n",
    "dense = tfidf_matrix.todense()"
   ]
  },
  {
   "cell_type": "code",
   "execution_count": 5,
   "metadata": {},
   "outputs": [
    {
     "data": {
      "text/html": [
       "<div>\n",
       "<table border=\"1\" class=\"dataframe\">\n",
       "  <thead>\n",
       "    <tr style=\"text-align: right;\">\n",
       "      <th></th>\n",
       "      <th>This is about about Messi Messi Messi Messi</th>\n",
       "      <th>This is is about tfidf</th>\n",
       "    </tr>\n",
       "  </thead>\n",
       "  <tbody>\n",
       "    <tr>\n",
       "      <th>about</th>\n",
       "      <td>0.326141</td>\n",
       "      <td>0.354100</td>\n",
       "    </tr>\n",
       "    <tr>\n",
       "      <th>is</th>\n",
       "      <td>0.163070</td>\n",
       "      <td>0.708199</td>\n",
       "    </tr>\n",
       "    <tr>\n",
       "      <th>messi</th>\n",
       "      <td>0.916760</td>\n",
       "      <td>0.000000</td>\n",
       "    </tr>\n",
       "    <tr>\n",
       "      <th>tfidf</th>\n",
       "      <td>0.000000</td>\n",
       "      <td>0.497675</td>\n",
       "    </tr>\n",
       "    <tr>\n",
       "      <th>this</th>\n",
       "      <td>0.163070</td>\n",
       "      <td>0.354100</td>\n",
       "    </tr>\n",
       "  </tbody>\n",
       "</table>\n",
       "</div>"
      ],
      "text/plain": [
       "       This is about about Messi Messi Messi Messi  This is is about tfidf\n",
       "about                                     0.326141                0.354100\n",
       "is                                        0.163070                0.708199\n",
       "messi                                     0.916760                0.000000\n",
       "tfidf                                     0.000000                0.497675\n",
       "this                                      0.163070                0.354100"
      ]
     },
     "execution_count": 5,
     "metadata": {},
     "output_type": "execute_result"
    }
   ],
   "source": [
    "df = pd.DataFrame(dense.transpose(), index=feature_names, columns=docs)\n",
    "df"
   ]
  },
  {
   "cell_type": "code",
   "execution_count": 6,
   "metadata": {},
   "outputs": [
    {
     "data": {
      "text/html": [
       "<div>\n",
       "<table border=\"1\" class=\"dataframe\">\n",
       "  <thead>\n",
       "    <tr style=\"text-align: right;\">\n",
       "      <th></th>\n",
       "      <th>0</th>\n",
       "    </tr>\n",
       "  </thead>\n",
       "  <tbody>\n",
       "    <tr>\n",
       "      <th>about</th>\n",
       "      <td>0.000000</td>\n",
       "    </tr>\n",
       "    <tr>\n",
       "      <th>is</th>\n",
       "      <td>0.000000</td>\n",
       "    </tr>\n",
       "    <tr>\n",
       "      <th>messi</th>\n",
       "      <td>0.405465</td>\n",
       "    </tr>\n",
       "    <tr>\n",
       "      <th>tfidf</th>\n",
       "      <td>0.405465</td>\n",
       "    </tr>\n",
       "    <tr>\n",
       "      <th>this</th>\n",
       "      <td>0.000000</td>\n",
       "    </tr>\n",
       "  </tbody>\n",
       "</table>\n",
       "</div>"
      ],
      "text/plain": [
       "              0\n",
       "about  0.000000\n",
       "is     0.000000\n",
       "messi  0.405465\n",
       "tfidf  0.405465\n",
       "this   0.000000"
      ]
     },
     "execution_count": 6,
     "metadata": {},
     "output_type": "execute_result"
    }
   ],
   "source": [
    "pd.DataFrame(vectorizer.idf_-1,index=feature_names) # <- dodałem -1 do idf ;)"
   ]
  },
  {
   "cell_type": "markdown",
   "metadata": {},
   "source": [
    "# Wnioski\n",
    "Na tej podstawie można ocenić, które wyrazy mają niski tfidf, czyli nie różnicują i można próbować je usunąc aby zrobić miejsce dla rzadszych wyrazów, które bez tego nie ząłapałyby się do limitu tokenizera :)\n",
    "\n",
    "p.s. wartości tfidf nie zgadzają się z tymi z https://www.analyticsvidhya.com/blog/2017/06/word-embeddings-count-word2veec/ bo stosujemy inny wzór ale to nie wpływa na sposób wnioskowania."
   ]
  },
  {
   "cell_type": "code",
   "execution_count": null,
   "metadata": {
    "collapsed": true
   },
   "outputs": [],
   "source": []
  }
 ],
 "metadata": {
  "kernelspec": {
   "display_name": "Python 3",
   "language": "python",
   "name": "python3"
  },
  "language_info": {
   "codemirror_mode": {
    "name": "ipython",
    "version": 3
   },
   "file_extension": ".py",
   "mimetype": "text/x-python",
   "name": "python",
   "nbconvert_exporter": "python",
   "pygments_lexer": "ipython3",
   "version": "3.5.2"
  }
 },
 "nbformat": 4,
 "nbformat_minor": 2
}
