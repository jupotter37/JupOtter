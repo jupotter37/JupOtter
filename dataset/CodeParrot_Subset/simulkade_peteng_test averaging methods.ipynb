{
 "cells": [
  {
   "cell_type": "markdown",
   "metadata": {},
   "source": [
    "## Testing averaging methods\n",
    "From [this post](https://fvt.simulkade.com/posts/2015-04-20-choosing-the-right-averaging-method-for-fvm.html)\n",
    "\n",
    "The equation is: $$\\frac{\\partial\\phi}{\\partial t}+\\nabla . (-D(\\phi)\\nabla \\phi) =0$$"
   ]
  },
  {
   "cell_type": "code",
   "execution_count": 58,
   "metadata": {},
   "outputs": [],
   "source": [
    "from fipy import Grid2D, CellVariable, FaceVariable\n",
    "import numpy as np\n",
    "\n",
    "\n",
    "def upwindValues(mesh, field, velocity):\n",
    "    \"\"\"Calculate the upwind face values for a field variable\n",
    "\n",
    "    Note that the mesh.faceNormals point from `id1` to `id2` so if velocity is in the same\n",
    "    direction as the `faceNormal`s then we take the value from `id1`s and visa-versa.\n",
    "\n",
    "    Args:\n",
    "      mesh: a fipy mesh\n",
    "      field: a fipy cell variable or equivalent numpy array\n",
    "      velocity: a fipy face variable (rank 1) or equivalent numpy array\n",
    "     \n",
    "    Returns:\n",
    "      numpy array shaped as a fipy face variable\n",
    "    \"\"\"\n",
    "    # direction is over faces (rank 0)\n",
    "    direction = np.sum(np.array(mesh.faceNormals * velocity), axis=0)\n",
    "    # id1, id2 are shaped as faces but contains cell index values\n",
    "    id1, id2 = mesh._adjacentCellIDs\n",
    "    return np.where(direction >= 0, field[id1],  field[id2])"
   ]
  },
  {
   "cell_type": "code",
   "execution_count": 3,
   "metadata": {},
   "outputs": [],
   "source": [
    "from fipy import *\n",
    "import numpy as np"
   ]
  },
  {
   "cell_type": "markdown",
   "metadata": {},
   "source": [
    "$$\\frac{\\partial\\phi}{\\partial t}+\\nabla . \\left(-D\\left(\\phi_{0}\\right)\\nabla \\phi\\right)+\\nabla.\\left(-\\nabla \\phi_{0}\\left(\\frac{\\partial D}{\\partial \\phi}\\right)_{\\phi_{0,face}}\\phi\\right) =\\nabla.\\left(-\\nabla \\phi_{0}\\left(\\frac{\\partial D}{\\partial \\phi}\\right)_{\\phi_{0,face}}\\phi_{0,face}\\right)$$"
   ]
  },
  {
   "cell_type": "code",
   "execution_count": 47,
   "metadata": {},
   "outputs": [
    {
     "data": {
      "image/png": "[encoded data removed]",
      "text/plain": [
       "<Figure size 288x288 with 1 Axes>"
      ]
     },
     "metadata": {
      "needs_background": "light"
     },
     "output_type": "display_data"
    }
   ],
   "source": [
    "L= 1.0 # domain length\n",
    "Nx= 100\n",
    "dx_min=L/Nx\n",
    "x=np.array([0.0, dx_min])\n",
    "while x[-1]<L:\n",
    "    x=np.append(x, x[-1]+1.05*(x[-1]-x[-2]))\n",
    "x[-1]=L\n",
    "\n",
    "mesh = Grid1D(dx=dx)\n",
    "\n",
    "phi = CellVariable(mesh=mesh, name=\"phi\", hasOld=True, value = 0.0)\n",
    "phi.constrain(5.0, mesh.facesLeft)\n",
    "phi.constrain(0., mesh.facesRight)\n",
    "\n",
    "# D(phi)=D0*(1.0+phi.^2)\n",
    "# dD(phi)=2.0*D0*phi\n",
    "D0 = 1.0\n",
    "dt= 0.01*L*L/D0 # a proper time step for diffusion process\n",
    "\n",
    "eq = TransientTerm(var=phi) - DiffusionTerm(var=phi, coeff=D0*(1+phi.faceValue**2))\n",
    "\n",
    "for i in range(4):\n",
    "    for i in range(5):\n",
    "        c_res = eq.sweep(dt = dt)\n",
    "    phi.updateOld()\n",
    "\n",
    "Viewer(vars = phi, datamax=5.0, datamin=0.0);\n",
    "# viewer.plot()"
   ]
  },
  {
   "cell_type": "markdown",
   "metadata": {},
   "source": [
    "$$\\frac{\\partial\\phi}{\\partial t}+\\nabla . \\left(-D\\left(\\phi_{0}\\right)\\nabla \\phi\\right)+\\nabla.\\left(-\\nabla \\phi_{0}\\left(\\frac{\\partial D}{\\partial \\phi}\\right)_{\\phi_{0,face}}\\phi\\right) =\\nabla.\\left(-\\nabla \\phi_{0}\\left(\\frac{\\partial D}{\\partial \\phi}\\right)_{\\phi_{0,face}}\\phi_{0,face}\\right)$$"
   ]
  },
  {
   "cell_type": "code",
   "execution_count": 65,
   "metadata": {},
   "outputs": [
    {
     "data": {
      "image/png": "[encoded data removed]",
      "text/plain": [
       "<Figure size 288x288 with 1 Axes>"
      ]
     },
     "metadata": {
      "needs_background": "light"
     },
     "output_type": "display_data"
    }
   ],
   "source": [
    "phi2 = CellVariable(mesh=mesh, name=\"phi\", hasOld=True, value = 0.0)\n",
    "phi2.constrain(5.0, mesh.facesLeft)\n",
    "phi2.constrain(0., mesh.facesRight)\n",
    "\n",
    "# D(phi)=D0*(1.0+phi.^2)\n",
    "# dD(phi)=2.0*D0*phi\n",
    "D0 = 1.0\n",
    "dt= 0.01*L*L/D0 # a proper time step for diffusion process\n",
    "\n",
    "eq2 = TransientTerm(var=phi2)-DiffusionTerm(var=phi2, coeff=D0*(1+phi2.faceValue**2))+ \\\n",
    "UpwindConvectionTerm(var=phi2, coeff=-2*D0*phi2.faceValue*phi2.faceGrad)== \\\n",
    "(-2*D0*phi2.faceValue*phi2.faceGrad*phi2.faceValue).divergence\n",
    "\n",
    "for i in range(4):\n",
    "    for i in range(5):\n",
    "        c_res = eq2.sweep(dt = dt)\n",
    "    phi2.updateOld()\n",
    "\n",
    "viewer = Viewer(vars = [phi, phi2], datamax=5.0, datamin=0.0)"
   ]
  },
  {
   "cell_type": "markdown",
   "metadata": {},
   "source": [
    "The above figure shows how the upwind convection term is not consistent with the linear averaging."
   ]
  },
  {
   "cell_type": "code",
   "execution_count": 64,
   "metadata": {},
   "outputs": [
    {
     "data": {
      "image/png": "[encoded data removed]",
      "text/plain": [
       "<Figure size 288x288 with 1 Axes>"
      ]
     },
     "metadata": {
      "needs_background": "light"
     },
     "output_type": "display_data"
    }
   ],
   "source": [
    "phi3 = CellVariable(mesh=mesh, name=\"phi\", hasOld=True, value = 0.0)\n",
    "phi3.constrain(5.0, mesh.facesLeft)\n",
    "phi3.constrain(0., mesh.facesRight)\n",
    "\n",
    "# D(phi)=D0*(1.0+phi.^2)\n",
    "# dD(phi)=2.0*D0*phi\n",
    "D0 = 1.0\n",
    "dt= 0.01*L*L/D0 # a proper time step for diffusion process\n",
    "u = -2*D0*phi3.faceValue*phi3.faceGrad\n",
    "\n",
    "eq3 = TransientTerm(var=phi3)-DiffusionTerm(var=phi3, coeff=D0*(1+phi3.faceValue**2))+ \\\n",
    "UpwindConvectionTerm(var=phi3, coeff=-2*D0*phi3.faceValue*phi3.faceGrad)== \\\n",
    "(-2*D0*phi3.faceValue*phi3.faceGrad*phi3.faceValue).divergence\n",
    "\n",
    "for i in range(4):\n",
    "    for i in range(5):\n",
    "        c_res = eq3.sweep(dt = dt)\n",
    "        phi_face = FaceVariable(mesh, upwindValues(mesh, phi3, u))\n",
    "        u = -2*D0*phi_face*phi3.faceGrad\n",
    "        eq3 = TransientTerm(var=phi3)-DiffusionTerm(var=phi3, coeff=D0*(1+phi3.faceValue**2))+ \\\n",
    "            UpwindConvectionTerm(var=phi3, coeff=u)== \\\n",
    "            (u*phi_face).divergence\n",
    "    phi3.updateOld()\n",
    "\n",
    "viewer = Viewer(vars = [phi, phi3], datamax=5.0, datamin=0.0)"
   ]
  }
 ],
 "metadata": {
  "kernelspec": {
   "display_name": "Python 3",
   "language": "python",
   "name": "python3"
  },
  "language_info": {
   "codemirror_mode": {
    "name": "ipython",
    "version": 3
   },
   "file_extension": ".py",
   "mimetype": "text/x-python",
   "name": "python",
   "nbconvert_exporter": "python",
   "pygments_lexer": "ipython3",
   "version": "3.7.3"
  }
 },
 "nbformat": 4,
 "nbformat_minor": 4
}
