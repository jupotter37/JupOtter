{
 "cells": [
  {
   "cell_type": "markdown",
   "metadata": {},
   "source": [
    "# Traverse a Square - Part N - Functions\n",
    "\n",
    "\n",
    "**tricky because of scoping - need to think carefully about this....**\n",
    "\n",
    "In the previous notebook on this topic, we had described how to use a loop that could run the same block of code multiple times so that we could avoid repeating ourselves in the construction of program to drive a mobile robot along a square shaped trajectory.\n",
    "\n",
    "\n",
    "One possible form of the program was as follows - note the use of varaiables to specify several parameter values:\n",
    "\n",
    "```python\n",
    "import time\n",
    "\n",
    "side_speed=2\n",
    "side_length_time=1\n",
    "turn_speed=1.8\n",
    "turn_time=0.45\n",
    "\n",
    "number_of_sides=4\n",
    "\n",
    "for side in range(number_of_sides):\n",
    "        \n",
    "    #side\n",
    "    robot.move_forward(side_speed)\n",
    "    time.sleep(side_length_time)\n",
    "    \n",
    "    #turn\n",
    "    robot.rotate_left(turn_speed)\n",
    "    time.sleep(turn_time)\n",
    "```"
   ]
  },
  {
   "cell_type": "markdown",
   "metadata": {},
   "source": [
    "Looking at the program, we have grouped the lines of code inside the loop into two separate meaningful groups:\n",
    "\n",
    "- one group of lines to move the robot in a straight line along one side of the square;\n",
    "- one group of lines to turn the robo through ninety degrees.\n",
    "\n",
    "We can further abstract the program into one in which we define some custom *functions* that can be called by name and that will execute a code block captured within the function definition.\n",
    "\n",
    "Here's an example:"
   ]
  },
  {
   "cell_type": "code",
   "execution_count": null,
   "metadata": {},
   "outputs": [],
   "source": [
    "import time\n",
    "\n",
    "def myFunction():\n",
    "    print(\"Hello...\")\n",
    "    \n",
    "    #Pause awhile...\n",
    "    time.sleep(2)\n",
    "    \n",
    "    print(\"...world!\")\n",
    "    \n",
    "#call the function - note the brackets!\n",
    "myFunction()"
   ]
  },
  {
   "cell_type": "markdown",
   "metadata": {},
   "source": [
    "The function definition takes the following, minimal form:\n",
    "\n",
    "```python\n",
    "def NAME_OF_FUNCTION():\n",
    "    #Code block - there must be at least one line of code\n",
    "    #That said, we can use a null (do nothing) statement\n",
    "    pass\n",
    "```"
   ]
  },
  {
   "cell_type": "markdown",
   "metadata": {},
   "source": [
    "Set up the notebook to use the simulator and see if you can think of a way to use functions to call the lines of code that control the robot.\n",
    "\n",
    "The function definitions should appear *before* the loop."
   ]
  },
  {
   "cell_type": "code",
   "execution_count": null,
   "metadata": {},
   "outputs": [],
   "source": [
    "%run 'Set-up.ipynb'\n",
    "%run 'Loading scenes.ipynb'\n",
    "%run 'vrep_models/PioneerP3DX.ipynb'"
   ]
  },
  {
   "cell_type": "code",
   "execution_count": null,
   "metadata": {},
   "outputs": [],
   "source": [
    "%%vrepsim '../scenes/OU_Pioneer.ttt' PioneerP3DX\n",
    "\n",
    "#Your code  - using functions - here"
   ]
  },
  {
   "cell_type": "markdown",
   "metadata": {},
   "source": [
    "How did you get on? Could you work out how to use the functions?\n",
    "\n",
    "Here's how I used them:\n",
    "\n"
   ]
  },
  {
   "cell_type": "code",
   "execution_count": null,
   "metadata": {},
   "outputs": [],
   "source": [
    "%%vrepsim '../scenes/OU_Pioneer.ttt' PioneerP3DX\n",
    "import time\n",
    "\n",
    "side_speed=2\n",
    "side_length_time=1\n",
    "turn_speed=1.8\n",
    "turn_time=0.45\n",
    "\n",
    "number_of_sides=4\n",
    "\n",
    "def traverse_side():\n",
    "     \n",
    "    pass\n",
    "def turn():\n",
    "    pass\n",
    "    \n",
    "for side in range(number_of_sides):\n",
    "        \n",
    "    #side\n",
    "    robot.move_forward(side_speed)\n",
    "    time.sleep(side_length_time) \n",
    "    \n",
    "    #turn\n",
    "    robot.rotate_left(turn_speed)\n",
    "    time.sleep(turn_time)"
   ]
  },
  {
   "cell_type": "markdown",
   "metadata": {},
   "source": [
    "computational thinking "
   ]
  }
 ],
 "metadata": {
  "kernelspec": {
   "display_name": "Python 3",
   "language": "python",
   "name": "python3"
  },
  "language_info": {
   "codemirror_mode": {
    "name": "ipython",
    "version": 3
   },
   "file_extension": ".py",
   "mimetype": "text/x-python",
   "name": "python",
   "nbconvert_exporter": "python",
   "pygments_lexer": "ipython3",
   "version": "3.6.1"
  }
 },
 "nbformat": 4,
 "nbformat_minor": 2
}
