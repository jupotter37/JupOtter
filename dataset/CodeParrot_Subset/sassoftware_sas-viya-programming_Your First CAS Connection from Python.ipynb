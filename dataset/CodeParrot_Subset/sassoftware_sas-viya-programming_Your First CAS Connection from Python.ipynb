{
 "cells": [
  {
   "cell_type": "markdown",
   "metadata": {},
   "source": [
    "# Your First CAS Connection from Python\n",
    "\n",
    "Let's start with a gentle introduction to the Python CAS client by doing some basic operations like creating a CAS connection and running a simple action.  You'll need to have Python installed as well as the SWAT Python package from SAS, and you'll need a running CAS server.\n",
    " \n",
    "We will be using Python 3 for our example.  Specifically, we will be using the IPython interactive prompt (type 'ipython' rather than 'python' at your command prompt).  The first thing we need to do is import SWAT and create a CAS session.  We will use the name 'mycas1' for our CAS hostname and 12345 as our CAS port name.  In this case, we will use username/password authentication, but other authentication mechanisms are also possible depending on your configuration."
   ]
  },
  {
   "cell_type": "code",
   "execution_count": 1,
   "metadata": {
    "collapsed": false
   },
   "outputs": [
    {
     "data": {
      "text/plain": [
       "CAS('mycas1', 12345, 'username', protocol='cas', name='py-session-1', session='fc767e9f-4620-1e45-bd75-61518bdc9d8c')"
      ]
     },
     "execution_count": 1,
     "metadata": {},
     "output_type": "execute_result"
    }
   ],
   "source": [
    "# Import the SWAT package which contains the CAS interface\n",
    "import swat\n",
    "\n",
    "# Create a CAS session on mycas1 port 12345\n",
    "conn = swat.CAS('mycas1', 12345, 'username', 'password') "
   ]
  },
  {
   "cell_type": "markdown",
   "metadata": {},
   "source": [
    "As you can see above, we have a session on the server.  It has been assigned a unique session ID and more user-friendly name.  In this case, we are using the binary CAS protocol as opposed to the REST interface.  We can now run CAS actions in the session.  Let's begin with a simple one: **listnodes**."
   ]
  },
  {
   "cell_type": "code",
   "execution_count": 2,
   "metadata": {
    "collapsed": false
   },
   "outputs": [
    {
     "name": "stdout",
     "output_type": "stream",
     "text": [
      "NOTE: Information is available on 6 nodes.\n"
     ]
    },
    {
     "data": {
      "text/html": [
       "<div class=\"cas-results-key\"><b>&#167; nodelist</b></div>\n",
       "<div class=\"cas-results-body\">\n",
       "<div>\n",
       "<table border=\"1\" class=\"dataframe\"><caption>Node List</caption>\n",
       "  <thead>\n",
       "    <tr style=\"text-align: right;\">\n",
       "      <th title=\"\"></th>\n",
       "      <th title=\"Name\">name</th>\n",
       "      <th title=\"Role\">role</th>\n",
       "      <th title=\"Connected\">connected</th>\n",
       "      <th title=\"IP Address\">IP Address</th>\n",
       "    </tr>\n",
       "  </thead>\n",
       "  <tbody>\n",
       "    <tr>\n",
       "      <th>0</th>\n",
       "      <td>mycas1</td>\n",
       "      <td>controller</td>\n",
       "      <td>Yes</td>\n",
       "      <td>10.37.10.172</td>\n",
       "    </tr>\n",
       "    <tr>\n",
       "      <th>1</th>\n",
       "      <td>mycas2</td>\n",
       "      <td>controller</td>\n",
       "      <td>Yes</td>\n",
       "      <td>10.37.10.174</td>\n",
       "    </tr>\n",
       "    <tr>\n",
       "      <th>2</th>\n",
       "      <td>mycas3</td>\n",
       "      <td>worker</td>\n",
       "      <td>Yes</td>\n",
       "      <td>10.37.10.175</td>\n",
       "    </tr>\n",
       "    <tr>\n",
       "      <th>3</th>\n",
       "      <td>mycas4</td>\n",
       "      <td>worker</td>\n",
       "      <td>Yes</td>\n",
       "      <td>10.37.10.176</td>\n",
       "    </tr>\n",
       "    <tr>\n",
       "      <th>4</th>\n",
       "      <td>mycas5</td>\n",
       "      <td>worker</td>\n",
       "      <td>Yes</td>\n",
       "      <td>10.37.10.191</td>\n",
       "    </tr>\n",
       "    <tr>\n",
       "      <th>5</th>\n",
       "      <td>mycas6</td>\n",
       "      <td>worker</td>\n",
       "      <td>Yes</td>\n",
       "      <td>10.37.10.193</td>\n",
       "    </tr>\n",
       "  </tbody>\n",
       "</table>\n",
       "</div>\n",
       "</div>\n",
       "<div class=\"cas-output-area\"></div>\n",
       "<p class=\"cas-results-performance\"><small><span class=\"cas-elapsed\">elapsed 0.00862s</span> &#183; <span class=\"cas-user\">user 0.012s</span> &#183; <span class=\"cas-sys\">sys 0.018s</span> &#183; <span class=\"cas-memory\">mem 0.406MB</span></small></p>"
      ],
      "text/plain": [
       "[nodelist]\n",
       "\n",
       " Node List\n",
       " \n",
       "      name        role connected    IP Address\n",
       " 0  mycas1  controller       Yes  10.37.10.172\n",
       " 1  mycas2  controller       Yes  10.37.10.174\n",
       " 2  mycas3      worker       Yes  10.37.10.175\n",
       " 3  mycas4      worker       Yes  10.37.10.176\n",
       " 4  mycas5      worker       Yes  10.37.10.191\n",
       " 5  mycas6      worker       Yes  10.37.10.193\n",
       "\n",
       "+ Elapsed: 0.00862s, user: 0.012s, sys: 0.018s, mem: 0.406mb"
      ]
     },
     "execution_count": 2,
     "metadata": {},
     "output_type": "execute_result"
    }
   ],
   "source": [
    "# Run the builtins.listnodes action\n",
    "nodes = conn.listnodes()\n",
    "nodes"
   ]
  },
  {
   "cell_type": "markdown",
   "metadata": {},
   "source": [
    "The **listnodes** action returns a ``CASResults`` object (which is just a subclass of Python's ordered dictionary).  It contains one key ('nodelist') which holds a Pandas DataFrame.  We can now grab that DataFrame to do further operations on it."
   ]
  },
  {
   "cell_type": "code",
   "execution_count": 3,
   "metadata": {
    "collapsed": false
   },
   "outputs": [
    {
     "data": {
      "text/html": [
       "<div>\n",
       "<table border=\"1\" class=\"dataframe\"><caption>Node List</caption>\n",
       "  <thead>\n",
       "    <tr style=\"text-align: right;\">\n",
       "      <th title=\"\"></th>\n",
       "      <th title=\"Name\">name</th>\n",
       "      <th title=\"Role\">role</th>\n",
       "      <th title=\"Connected\">connected</th>\n",
       "      <th title=\"IP Address\">IP Address</th>\n",
       "    </tr>\n",
       "  </thead>\n",
       "  <tbody>\n",
       "    <tr>\n",
       "      <th>0</th>\n",
       "      <td>mycas1</td>\n",
       "      <td>controller</td>\n",
       "      <td>Yes</td>\n",
       "      <td>10.37.10.172</td>\n",
       "    </tr>\n",
       "    <tr>\n",
       "      <th>1</th>\n",
       "      <td>mycas2</td>\n",
       "      <td>controller</td>\n",
       "      <td>Yes</td>\n",
       "      <td>10.37.10.174</td>\n",
       "    </tr>\n",
       "    <tr>\n",
       "      <th>2</th>\n",
       "      <td>mycas3</td>\n",
       "      <td>worker</td>\n",
       "      <td>Yes</td>\n",
       "      <td>10.37.10.175</td>\n",
       "    </tr>\n",
       "    <tr>\n",
       "      <th>3</th>\n",
       "      <td>mycas4</td>\n",
       "      <td>worker</td>\n",
       "      <td>Yes</td>\n",
       "      <td>10.37.10.176</td>\n",
       "    </tr>\n",
       "    <tr>\n",
       "      <th>4</th>\n",
       "      <td>mycas5</td>\n",
       "      <td>worker</td>\n",
       "      <td>Yes</td>\n",
       "      <td>10.37.10.191</td>\n",
       "    </tr>\n",
       "    <tr>\n",
       "      <th>5</th>\n",
       "      <td>mycas6</td>\n",
       "      <td>worker</td>\n",
       "      <td>Yes</td>\n",
       "      <td>10.37.10.193</td>\n",
       "    </tr>\n",
       "  </tbody>\n",
       "</table>\n",
       "</div>"
      ],
      "text/plain": [
       "Node List\n",
       "\n",
       "     name        role connected    IP Address\n",
       "0  mycas1  controller       Yes  10.37.10.172\n",
       "1  mycas2  controller       Yes  10.37.10.174\n",
       "2  mycas3      worker       Yes  10.37.10.175\n",
       "3  mycas4      worker       Yes  10.37.10.176\n",
       "4  mycas5      worker       Yes  10.37.10.191\n",
       "5  mycas6      worker       Yes  10.37.10.193"
      ]
     },
     "execution_count": 3,
     "metadata": {},
     "output_type": "execute_result"
    }
   ],
   "source": [
    "# Grab the nodelist DataFrame\n",
    "df = nodes['nodelist']\n",
    "df"
   ]
  },
  {
   "cell_type": "markdown",
   "metadata": {},
   "source": [
    "Use DataFrame selection to subset the columns."
   ]
  },
  {
   "cell_type": "code",
   "execution_count": 4,
   "metadata": {
    "collapsed": false
   },
   "outputs": [
    {
     "data": {
      "text/html": [
       "<div>\n",
       "<table border=\"1\" class=\"dataframe\"><caption>Node List</caption>\n",
       "  <thead>\n",
       "    <tr style=\"text-align: right;\">\n",
       "      <th title=\"\"></th>\n",
       "      <th title=\"Name\">name</th>\n",
       "      <th title=\"Role\">role</th>\n",
       "    </tr>\n",
       "  </thead>\n",
       "  <tbody>\n",
       "    <tr>\n",
       "      <th>0</th>\n",
       "      <td>mycas1</td>\n",
       "      <td>controller</td>\n",
       "    </tr>\n",
       "    <tr>\n",
       "      <th>1</th>\n",
       "      <td>mycas2</td>\n",
       "      <td>controller</td>\n",
       "    </tr>\n",
       "    <tr>\n",
       "      <th>2</th>\n",
       "      <td>mycas3</td>\n",
       "      <td>worker</td>\n",
       "    </tr>\n",
       "    <tr>\n",
       "      <th>3</th>\n",
       "      <td>mycas4</td>\n",
       "      <td>worker</td>\n",
       "    </tr>\n",
       "    <tr>\n",
       "      <th>4</th>\n",
       "      <td>mycas5</td>\n",
       "      <td>worker</td>\n",
       "    </tr>\n",
       "    <tr>\n",
       "      <th>5</th>\n",
       "      <td>mycas6</td>\n",
       "      <td>worker</td>\n",
       "    </tr>\n",
       "  </tbody>\n",
       "</table>\n",
       "</div>"
      ],
      "text/plain": [
       "Node List\n",
       "\n",
       "     name        role\n",
       "0  mycas1  controller\n",
       "1  mycas2  controller\n",
       "2  mycas3      worker\n",
       "3  mycas4      worker\n",
       "4  mycas5      worker\n",
       "5  mycas6      worker"
      ]
     },
     "execution_count": 4,
     "metadata": {},
     "output_type": "execute_result"
    }
   ],
   "source": [
    "roles = df[['name', 'role']]\n",
    "roles"
   ]
  },
  {
   "cell_type": "code",
   "execution_count": 5,
   "metadata": {
    "collapsed": false
   },
   "outputs": [
    {
     "data": {
      "text/html": [
       "<div>\n",
       "<table border=\"1\" class=\"dataframe\"><caption>Node List</caption>\n",
       "  <thead>\n",
       "    <tr style=\"text-align: right;\">\n",
       "      <th title=\"\"></th>\n",
       "      <th title=\"Name\">name</th>\n",
       "      <th title=\"Role\">role</th>\n",
       "    </tr>\n",
       "  </thead>\n",
       "  <tbody>\n",
       "    <tr>\n",
       "      <th>2</th>\n",
       "      <td>mycas3</td>\n",
       "      <td>worker</td>\n",
       "    </tr>\n",
       "    <tr>\n",
       "      <th>3</th>\n",
       "      <td>mycas4</td>\n",
       "      <td>worker</td>\n",
       "    </tr>\n",
       "    <tr>\n",
       "      <th>4</th>\n",
       "      <td>mycas5</td>\n",
       "      <td>worker</td>\n",
       "    </tr>\n",
       "    <tr>\n",
       "      <th>5</th>\n",
       "      <td>mycas6</td>\n",
       "      <td>worker</td>\n",
       "    </tr>\n",
       "  </tbody>\n",
       "</table>\n",
       "</div>"
      ],
      "text/plain": [
       "Node List\n",
       "\n",
       "     name    role\n",
       "2  mycas3  worker\n",
       "3  mycas4  worker\n",
       "4  mycas5  worker\n",
       "5  mycas6  worker"
      ]
     },
     "execution_count": 5,
     "metadata": {},
     "output_type": "execute_result"
    }
   ],
   "source": [
    "# Extract the worker nodes using a DataFrame mask\n",
    "roles[roles.role == 'worker']"
   ]
  },
  {
   "cell_type": "code",
   "execution_count": 6,
   "metadata": {
    "collapsed": false
   },
   "outputs": [
    {
     "data": {
      "text/html": [
       "<div>\n",
       "<table border=\"1\" class=\"dataframe\"><caption>Node List</caption>\n",
       "  <thead>\n",
       "    <tr style=\"text-align: right;\">\n",
       "      <th title=\"\"></th>\n",
       "      <th title=\"Name\">name</th>\n",
       "      <th title=\"Role\">role</th>\n",
       "    </tr>\n",
       "  </thead>\n",
       "  <tbody>\n",
       "    <tr>\n",
       "      <th>0</th>\n",
       "      <td>mycas1</td>\n",
       "      <td>controller</td>\n",
       "    </tr>\n",
       "    <tr>\n",
       "      <th>1</th>\n",
       "      <td>mycas2</td>\n",
       "      <td>controller</td>\n",
       "    </tr>\n",
       "  </tbody>\n",
       "</table>\n",
       "</div>"
      ],
      "text/plain": [
       "Node List\n",
       "\n",
       "     name        role\n",
       "0  mycas1  controller\n",
       "1  mycas2  controller"
      ]
     },
     "execution_count": 6,
     "metadata": {},
     "output_type": "execute_result"
    }
   ],
   "source": [
    "# Extract the controllers using a DataFrame mask\n",
    "roles[roles.role == 'controller']"
   ]
  },
  {
   "cell_type": "markdown",
   "metadata": {},
   "source": [
    "In the code above, we are doing some standard DataFrame operations using expressions to filter the DataFrame to include only worker nodes or controller nodes.  Pandas DataFrames support lots of ways of slicing and dicing your data.  If you aren't familiar with them, you'll want to get acquainted on the [Pandas web site](http://pandas.pydoc.org/).\n",
    " \n",
    "When you are finished with a CAS session, it's always a good idea to clean up."
   ]
  },
  {
   "cell_type": "code",
   "execution_count": 7,
   "metadata": {
    "collapsed": true
   },
   "outputs": [],
   "source": [
    "conn.close()"
   ]
  },
  {
   "cell_type": "markdown",
   "metadata": {},
   "source": [
    "Those are the very basics of connecting to CAS, running an action, and manipulating the results on the client side.  You should now be able to jump to other topics on the Python CAS client to do some more interesting work."
   ]
  },
  {
   "cell_type": "code",
   "execution_count": null,
   "metadata": {
    "collapsed": true
   },
   "outputs": [],
   "source": []
  }
 ],
 "metadata": {
  "kernelspec": {
   "display_name": "Python 3",
   "language": "python",
   "name": "python3"
  },
  "language_info": {
   "codemirror_mode": {
    "name": "ipython",
    "version": 3
   },
   "file_extension": ".py",
   "mimetype": "text/x-python",
   "name": "python",
   "nbconvert_exporter": "python",
   "pygments_lexer": "ipython3",
   "version": "3.4.5"
  }
 },
 "nbformat": 4,
 "nbformat_minor": 0
}
