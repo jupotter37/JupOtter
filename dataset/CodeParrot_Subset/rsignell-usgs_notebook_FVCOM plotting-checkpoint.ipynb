{
 "cells": [
  {
   "cell_type": "code",
   "execution_count": 1,
   "metadata": {
    "collapsed": true
   },
   "outputs": [],
   "source": [
    "%matplotlib inline"
   ]
  },
  {
   "cell_type": "code",
   "execution_count": 2,
   "metadata": {
    "collapsed": false
   },
   "outputs": [],
   "source": [
    "from matplotlib.collections import PolyCollection\n",
    "from matplotlib.collections import TriMesh\n",
    "import matplotlib.pyplot as plt\n",
    "import numpy as np\n",
    "import matplotlib.tri as Tri\n",
    "import datetime as dt\n",
    "import netCDF4\n",
    "%matplotlib inline"
   ]
  },
  {
   "cell_type": "code",
   "execution_count": null,
   "metadata": {
    "collapsed": false
   },
   "outputs": [],
   "source": [
    "url = 'http://www.smast.umassd.edu:8080/thredds/dodsC/FVCOM/NECOFS/Forecasts/NECOFS_FVCOM_OCEAN_MASSBAY_FORECAST.nc'\n",
    "url = 'http://www.smast.umassd.edu:8080/thredds/dodsC/FVCOM/NECOFS/Forecasts/NECOFS_GOM3_FORECAST.nc'\n",
    "nc = netCDF4.Dataset(url)\n",
    "# read node locations\n",
    "lat = nc['lat'][:]\n",
    "lon = nc['lon'][:]\n",
    "# read element centroid locations\n",
    "latc = nc['latc'][:]\n",
    "lonc = nc['lonc'][:]\n",
    "# read connectivity array\n",
    "nv = nc['nv'][:].T - 1"
   ]
  },
  {
   "cell_type": "code",
   "execution_count": 3,
   "metadata": {
    "collapsed": true
   },
   "outputs": [],
   "source": [
    "# Desired time for snapshot\n",
    "# ....right now (or some number of hours from now) ...\n",
    "start = dt.datetime.utcnow() + dt.timedelta(hours=0)\n",
    "# ... or specific time (UTC)\n",
    "#start = dt.datetime(2013,3,2,15,0,0)\n",
    "# Get desired time step  "
   ]
  },
  {
   "cell_type": "code",
   "execution_count": 4,
   "metadata": {
    "collapsed": false
   },
   "outputs": [
    {
     "ename": "NameError",
     "evalue": "name 'nc' is not defined",
     "output_type": "error",
     "traceback": [
      "\u001b[0;31m\u001b[0m",
      "\u001b[0;31mNameError\u001b[0mTraceback (most recent call last)",
      "\u001b[0;32m<ipython-input-4-4e85270f8a0f>\u001b[0m in \u001b[0;36m<module>\u001b[0;34m()\u001b[0m\n\u001b[0;32m----> 1\u001b[0;31m \u001b[0mtime_var\u001b[0m \u001b[0;34m=\u001b[0m \u001b[0mnc\u001b[0m\u001b[0;34m[\u001b[0m\u001b[0;34m'time'\u001b[0m\u001b[0;34m]\u001b[0m\u001b[0;34m\u001b[0m\u001b[0m\n\u001b[0m\u001b[1;32m      2\u001b[0m \u001b[0mitime\u001b[0m \u001b[0;34m=\u001b[0m \u001b[0mnetCDF4\u001b[0m\u001b[0;34m.\u001b[0m\u001b[0mdate2index\u001b[0m\u001b[0;34m(\u001b[0m\u001b[0mstart\u001b[0m\u001b[0;34m,\u001b[0m\u001b[0mtime_var\u001b[0m\u001b[0;34m,\u001b[0m\u001b[0mselect\u001b[0m\u001b[0;34m=\u001b[0m\u001b[0;34m'nearest'\u001b[0m\u001b[0;34m)\u001b[0m\u001b[0;34m\u001b[0m\u001b[0m\n",
      "\u001b[0;31mNameError\u001b[0m: name 'nc' is not defined"
     ]
    }
   ],
   "source": [
    "time_var = nc['time']\n",
    "itime = netCDF4.date2index(start,time_var,select='nearest')"
   ]
  },
  {
   "cell_type": "code",
   "execution_count": null,
   "metadata": {
    "collapsed": false
   },
   "outputs": [],
   "source": [
    "dtime = netCDF4.num2date(time_var[itime],time_var.units)\n",
    "daystr = dtime.strftime('%Y-%b-%d %H:%M')\n",
    "print daystr"
   ]
  },
  {
   "cell_type": "code",
   "execution_count": null,
   "metadata": {
    "collapsed": false
   },
   "outputs": [],
   "source": [
    "nc.variables.keys()"
   ]
  },
  {
   "cell_type": "code",
   "execution_count": null,
   "metadata": {
    "collapsed": false
   },
   "outputs": [],
   "source": [
    "# create a triangulation object, specifying the triangle connectivity array\n",
    "tri = Tri.Triangulation(lon,lat, triangles=nv)"
   ]
  },
  {
   "cell_type": "code",
   "execution_count": null,
   "metadata": {
    "collapsed": false
   },
   "outputs": [],
   "source": [
    "# plot depth using tricontourf\n",
    "h = nc['temp'][itime,0,:]\n",
    "fig = plt.figure(figsize=(12,12))\n",
    "ax = fig.add_subplot(111,aspect=1.0/np.cos(latc.mean() * np.pi / 180.0))\n",
    "plt.tricontourf(tri,h,levels=range(12,28))\n",
    "plt.colorbar();\n",
    "plt.axis([-71.25, -69.25, 40.75, 43.35])"
   ]
  },
  {
   "cell_type": "code",
   "execution_count": null,
   "metadata": {
    "collapsed": false
   },
   "outputs": [],
   "source": [
    "# get velocity nearest to current time\n",
    "start = dt.datetime.utcnow()+ dt.timedelta(hours=0)\n",
    "istart = netCDF4.date2index(start,time_var,select='nearest')\n",
    "layer = 0 # surface layer\n",
    "u = nc.variables['u'][istart, layer, :]\n",
    "v = nc.variables['v'][istart, layer, :]\n",
    "mag = np.sqrt((u*u)+(v*v))"
   ]
  },
  {
   "cell_type": "code",
   "execution_count": null,
   "metadata": {
    "collapsed": false
   },
   "outputs": [],
   "source": [
    "# Now try plotting speed and vectors with Basemap using a PolyCollection\n",
    "m = Basemap(projection='merc', llcrnrlat=lat.min(), urcrnrlat=lat.max(), \n",
    "    llcrnrlon=lon.min(), urcrnrlon=lon.max(), lat_ts=lat.mean(), resolution=None)\n",
    "\n",
    "# project from lon,lat to mercator\n",
    "xnode, ynode = m(lon, lat) \n",
    "xc, yc = m(lonc, latc) \n",
    "\n",
    "# create a TRI object with projected coordinates\n",
    "tri = Tri.Triangulation(xnode, ynode, triangles=nv)\n",
    "\n",
    "# make a PolyCollection using triangles\n",
    "verts = concatenate((tri.x[tri.triangles][..., None],\n",
    "      tri.y[tri.triangles][..., None]), axis=2)\n",
    "collection = PolyCollection(verts)\n",
    "collection.set_edgecolor('none')"
   ]
  },
  {
   "cell_type": "code",
   "execution_count": null,
   "metadata": {
    "collapsed": false
   },
   "outputs": [],
   "source": [
    "timestamp=start.strftime('%Y-%m-%d %H:%M:%S')"
   ]
  },
  {
   "cell_type": "code",
   "execution_count": null,
   "metadata": {
    "collapsed": false
   },
   "outputs": [],
   "source": [
    "# set the magnitude of the polycollection to the speed\n",
    "collection.set_array(mag)\n",
    "collection.norm.vmin=0\n",
    "collection.norm.vmax=0.5"
   ]
  },
  {
   "cell_type": "code",
   "execution_count": null,
   "metadata": {
    "collapsed": false
   },
   "outputs": [],
   "source": [
    "fig = plt.figure(figsize=(12,12))\n",
    "ax=fig.add_subplot(111)\n",
    "m.drawmapboundary(fill_color='0.3')\n",
    "#m.drawcoastlines()\n",
    "#m.fillcontinents()\n",
    "# add the speed as colored triangles \n",
    "ax.add_collection(collection) # add polygons to axes on basemap instance\n",
    "# add the vectors\n",
    "Q = m.quiver(xc,yc,u,v,scale=30)\n",
    "# add a key for the vectors\n",
    "qk = plt.quiverkey(Q,0.1,0.1,0.20,'0.2 m/s',labelpos='W')\n",
    "plt.title('FVCOM Surface Current speed at %s UTC' % timestamp)"
   ]
  },
  {
   "cell_type": "code",
   "execution_count": null,
   "metadata": {
    "collapsed": false
   },
   "outputs": [],
   "source": [
    "# try using the TriMesh collection: can't figure this out\n",
    "collection2 = TriMesh(tri)\n",
    "fig = plt.figure(figsize=(12,12))\n",
    "ax = fig.add_subplot(111)\n",
    "ax.add_collection(collection2)"
   ]
  },
  {
   "cell_type": "code",
   "execution_count": null,
   "metadata": {
    "collapsed": false
   },
   "outputs": [],
   "source": []
  }
 ],
 "metadata": {
  "kernelspec": {
   "display_name": "Python 2",
   "language": "python",
   "name": "python2"
  },
  "language_info": {
   "codemirror_mode": {
    "name": "ipython",
    "version": 2
   },
   "file_extension": ".py",
   "mimetype": "text/x-python",
   "name": "python",
   "nbconvert_exporter": "python",
   "pygments_lexer": "ipython2",
   "version": "2.7.12"
  }
 },
 "nbformat": 4,
 "nbformat_minor": 0
}
