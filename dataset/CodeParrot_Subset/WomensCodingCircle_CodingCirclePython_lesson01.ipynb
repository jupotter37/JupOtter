{
 "cells": [
  {
   "cell_type": "markdown",
   "metadata": {},
   "source": [
    "# Variables, expressions, and statements"
   ]
  },
  {
   "cell_type": "markdown",
   "metadata": {},
   "source": [
    "## Values and Types\n",
    "Values are basic things a program works with. Values come in several different types:\n",
    "* A `string` is any value between quotes ('' single or double \"\") e.g. 'Hello Coding Circle', \"I am very smart\", \"342\"\n",
    "* An `integer` is any whole number, positive or negative e.g. 145, -3, 5\n",
    "* A `float` is any number with a decimal point e.g. 3.14, -2.5 \n",
    "\n",
    "To tell what type a value is, use the built-in function `type()`"
   ]
  },
  {
   "cell_type": "code",
   "execution_count": null,
   "metadata": {
    "collapsed": true
   },
   "outputs": [],
   "source": [
    "type('I am amazing!')"
   ]
  },
  {
   "cell_type": "code",
   "execution_count": null,
   "metadata": {
    "collapsed": true
   },
   "outputs": [],
   "source": [
    "type(145)"
   ]
  },
  {
   "cell_type": "code",
   "execution_count": null,
   "metadata": {
    "collapsed": true
   },
   "outputs": [],
   "source": [
    "type(2.5)"
   ]
  },
  {
   "cell_type": "markdown",
   "metadata": {},
   "source": [
    "To print a value to the screen, we use the function `print()`\n",
    "\n",
    "e.g. `print(1)`"
   ]
  },
  {
   "cell_type": "code",
   "execution_count": null,
   "metadata": {
    "collapsed": true
   },
   "outputs": [],
   "source": [
    "print(\"Hello World\")"
   ]
  },
  {
   "cell_type": "markdown",
   "metadata": {},
   "source": [
    "Jupyter notebooks will always print the value of the last line so you don't have to. You can suppress this with a semicolon ';'"
   ]
  },
  {
   "cell_type": "code",
   "execution_count": null,
   "metadata": {
    "collapsed": true
   },
   "outputs": [],
   "source": [
    "\"Hello World\""
   ]
  },
  {
   "cell_type": "code",
   "execution_count": null,
   "metadata": {
    "collapsed": true
   },
   "outputs": [],
   "source": [
    "\"Hello World\";"
   ]
  },
  {
   "cell_type": "markdown",
   "metadata": {},
   "source": [
    "### TRY IT\n",
    "Predict and then print the type of 'Orca'"
   ]
  },
  {
   "cell_type": "code",
   "execution_count": null,
   "metadata": {
    "collapsed": true
   },
   "outputs": [],
   "source": []
  },
  {
   "cell_type": "markdown",
   "metadata": {},
   "source": [
    "## Variables\n",
    "A variable is a name that you give a value. You can then use this name anywhere you would use the value that the name refers to. \n",
    "\n",
    "It has some rules.\n",
    "* It must only contain letters, numbers and/or the underscore character. \n",
    "* However, it cannot start with a number.\n",
    "* It can start with an underscore but this usually means something special so stick to letters for now. \n",
    "\n",
    "To assign a value to a variable, you use the assignment operator, which is '`=`' e.g., `my_name = 'Charlotte'`"
   ]
  },
  {
   "cell_type": "code",
   "execution_count": null,
   "metadata": {
    "collapsed": true
   },
   "outputs": [],
   "source": [
    "WHALE = 'Orca'\n",
    "number_of_whales = 10\n",
    "weight_of_1_whale = 5003.2"
   ]
  },
  {
   "cell_type": "markdown",
   "metadata": {},
   "source": [
    "Notice that when you ran that, nothing printed out. To print a variable, you use the same statement you would use to print the value. e.g. `print(WHALE)`"
   ]
  },
  {
   "cell_type": "code",
   "execution_count": null,
   "metadata": {
    "collapsed": true
   },
   "outputs": [],
   "source": [
    "print(number_of_whales)"
   ]
  },
  {
   "cell_type": "markdown",
   "metadata": {},
   "source": [
    "### TRY IT\n",
    "Assign the name of a sea creature to the variable `sea_creature`. Then print the value."
   ]
  },
  {
   "cell_type": "code",
   "execution_count": null,
   "metadata": {
    "collapsed": true
   },
   "outputs": [],
   "source": []
  },
  {
   "cell_type": "markdown",
   "metadata": {},
   "source": [
    "*Reccomendation* \n",
    "Name your variables with descriptive names. Naming a variable 'a' is easy to type but won't help you figure out what it is doing when you come back to your code six months later."
   ]
  },
  {
   "cell_type": "markdown",
   "metadata": {},
   "source": [
    "## Operators and operands\n",
    "Operators are special symbols that represent computations that the computer performs. We have already learned one operator: the assignment operator '='.\n",
    "\n",
    "Operands are the values the operator is applied to.\n",
    "\n",
    "Basic math operators\n",
    "* \\+  addition\n",
    "* \\- subtraction\n",
    "* \\* multiplication\n",
    "* / division\n",
    "* \\*\\* power (exponentiation)\n",
    "\n",
    "To use these operators, put a value or variable on either side of them. You can even assign the new value to a variable or print it out. They work with both integers or floats. "
   ]
  },
  {
   "cell_type": "code",
   "execution_count": null,
   "metadata": {
    "collapsed": true
   },
   "outputs": [],
   "source": [
    "1 + 2"
   ]
  },
  {
   "cell_type": "code",
   "execution_count": null,
   "metadata": {},
   "outputs": [],
   "source": [
    "fish = 15\n",
    "fish_left = fish - 3\n",
    "print(fish_left)"
   ]
  },
  {
   "cell_type": "code",
   "execution_count": null,
   "metadata": {
    "collapsed": true
   },
   "outputs": [],
   "source": [
    "print(3 * 2.1)"
   ]
  },
  {
   "cell_type": "code",
   "execution_count": null,
   "metadata": {
    "collapsed": true
   },
   "outputs": [],
   "source": [
    "number_of_whales ** 2"
   ]
  },
  {
   "cell_type": "code",
   "execution_count": null,
   "metadata": {
    "collapsed": true
   },
   "outputs": [],
   "source": [
    "print(5 / 2)"
   ]
  },
  {
   "cell_type": "markdown",
   "metadata": {},
   "source": [
    "Hint: You can use a variable and assign it to the same variable name in the same statement."
   ]
  },
  {
   "cell_type": "code",
   "execution_count": null,
   "metadata": {
    "collapsed": true
   },
   "outputs": [],
   "source": [
    "number_of_whales = 8\n",
    "number_of_whales = number_of_whales + 2 \n",
    "print(number_of_whales)"
   ]
  },
  {
   "cell_type": "markdown",
   "metadata": {},
   "source": [
    "### TRY IT\n",
    "Find the result of 6^18."
   ]
  },
  {
   "cell_type": "code",
   "execution_count": null,
   "metadata": {
    "collapsed": true
   },
   "outputs": [],
   "source": []
  },
  {
   "cell_type": "markdown",
   "metadata": {},
   "source": [
    "## Order of operations\n",
    "\n",
    "You can combine many operators in a single python statement. The way python evaluates it is the same way you were taught to in elementary school. PEMDAS for Please Excuse My Dear Aunt Sally. Or 1. Parentheses, 2. Exponents, 3. Multiplication, 4. Division, 5. Addition, 6. Subtraction. Left to right, with that precedence. It is good practice to always include parentheses to make your intention clear, even if order of operations is on your side."
   ]
  },
  {
   "cell_type": "code",
   "execution_count": null,
   "metadata": {
    "collapsed": true
   },
   "outputs": [],
   "source": [
    "2 * 3 + 4 / 2"
   ]
  },
  {
   "cell_type": "code",
   "execution_count": null,
   "metadata": {
    "collapsed": true
   },
   "outputs": [],
   "source": [
    "(2 * (3 + 4)) / 2"
   ]
  },
  {
   "cell_type": "markdown",
   "metadata": {},
   "source": [
    "## Modulus operator\n",
    "\n",
    "The modulus operator is not one you were taught in school. It returns the remainder of integer division. It is useful in a few specific cases, but you could go months without using it."
   ]
  },
  {
   "cell_type": "code",
   "execution_count": null,
   "metadata": {
    "collapsed": true
   },
   "outputs": [],
   "source": [
    "5 % 2"
   ]
  },
  {
   "cell_type": "markdown",
   "metadata": {},
   "source": [
    "### TRY IT\n",
    "Find if 12342872 is divisible by 3"
   ]
  },
  {
   "cell_type": "code",
   "execution_count": null,
   "metadata": {
    "collapsed": true
   },
   "outputs": [],
   "source": []
  },
  {
   "cell_type": "markdown",
   "metadata": {},
   "source": [
    "## String operations\n",
    "The `+` operator also works on strings. It is the concatenation operator, meaning it joins the two strings together."
   ]
  },
  {
   "cell_type": "code",
   "execution_count": null,
   "metadata": {
    "collapsed": true
   },
   "outputs": [],
   "source": [
    "print('Hello ' + 'Coding Circle')"
   ]
  },
  {
   "cell_type": "code",
   "execution_count": null,
   "metadata": {
    "collapsed": true
   },
   "outputs": [],
   "source": [
    "print(\"The \" + WHALE + \" lives in the sea.\")"
   ]
  },
  {
   "cell_type": "markdown",
   "metadata": {},
   "source": [
    "Hint: Be careful with spaces"
   ]
  },
  {
   "cell_type": "code",
   "execution_count": null,
   "metadata": {
    "collapsed": true
   },
   "outputs": [],
   "source": [
    "print(\"My name is\" + \"Charlotte\")"
   ]
  },
  {
   "cell_type": "markdown",
   "metadata": {},
   "source": [
    "### TRY IT\n",
    "Print out Good morning to the sea creature you stored in variable named `sea_creature` earlier."
   ]
  },
  {
   "cell_type": "code",
   "execution_count": null,
   "metadata": {
    "collapsed": true
   },
   "outputs": [],
   "source": []
  },
  {
   "cell_type": "markdown",
   "metadata": {},
   "source": [
    "## Asking the user for input\n",
    "\n",
    "To get an input for the user we use the built-in function `input()` and assign it to a variable.\n",
    "\n",
    "NOTE: The result is always a string.\n",
    "\n",
    "**WARNING** if you leave an input box without ever putting input in, jupyter won't be able to run any code. Ex. you run a cell with `input` and then re-run that cell before submitting input. To fix this hang the stop button in the menu."
   ]
  },
  {
   "cell_type": "code",
   "execution_count": null,
   "metadata": {
    "collapsed": true
   },
   "outputs": [],
   "source": [
    "my_name = input()\n",
    "print(my_name)"
   ]
  },
  {
   "cell_type": "markdown",
   "metadata": {},
   "source": [
    "You can pass a string to the `input()` function to prompt the user for what you are looking for.\n",
    "\n",
    "e.g. `input('How are you feeling?')`\n",
    "\n",
    "Hint, add a new line character `\"\\n\"` to the end of the prompt to make the user enter it on a new line."
   ]
  },
  {
   "cell_type": "code",
   "execution_count": null,
   "metadata": {
    "collapsed": true
   },
   "outputs": [],
   "source": [
    "favorite_ocean_animal = input(\"What is your favorite sea creature?\\n\")\n",
    "print(\"The \" + favorite_ocean_animal + \" is so cool!\")"
   ]
  },
  {
   "cell_type": "markdown",
   "metadata": {},
   "source": [
    "If you want the user to enter a number, you will have to convert the string. Here are the conversion commands.\n",
    "\n",
    "* To convert a variable to an integer, use `int` -- e.g., `int(variable_name)`\n",
    "* To convert a variable to a float, use `float` -- e.g., `float(variable_name)`\n",
    "* To convert a variable to a string, use `str` -- e.g., `str(variable_name)`"
   ]
  },
  {
   "cell_type": "code",
   "execution_count": null,
   "metadata": {},
   "outputs": [],
   "source": [
    "number_of_fish = input(\"How many fish do you want?\\n\")\n",
    "number_of_fish_int = int(number_of_fish)\n",
    "print(number_of_fish_int * 1.05)"
   ]
  },
  {
   "cell_type": "markdown",
   "metadata": {},
   "source": [
    "### TRY IT\n",
    "Prompt the user for their favorite whale and store the value in a variable called `favorite_whale`."
   ]
  },
  {
   "cell_type": "code",
   "execution_count": null,
   "metadata": {
    "collapsed": true
   },
   "outputs": [],
   "source": []
  },
  {
   "cell_type": "markdown",
   "metadata": {},
   "source": [
    "## Comments\n",
    "Comments let you explain your progam to someone who is reading your code. Do you know who that person is? It is almost always you in six months. Don't screw over future you. Comment your code.\n",
    "\n",
    "To make a comment: you use the `#` symbol. You can put a comment on its own line or at the end of a statement."
   ]
  },
  {
   "cell_type": "code",
   "execution_count": null,
   "metadata": {},
   "outputs": [],
   "source": [
    "# Calculate the price of fish that a user wants\n",
    "number_of_fish = input(\"How many fish do you want?\\n\") # Ask user for quantity of fish\n",
    "number_of_fish_int = int(number_of_fish) # raw_input returns string, so convert to integer\n",
    "print(number_of_fish_int * 1.05) # multiply by price of fish"
   ]
  },
  {
   "cell_type": "markdown",
   "metadata": {},
   "source": [
    "### TRY IT\n",
    "Write a comment. "
   ]
  },
  {
   "cell_type": "code",
   "execution_count": null,
   "metadata": {
    "collapsed": true
   },
   "outputs": [],
   "source": []
  },
  {
   "cell_type": "markdown",
   "metadata": {},
   "source": [
    "# Project: Milestones\n",
    "We are going to create an application that prompts the user for their (or their child's) birth year and will calculate and tell them the years of their milestones: Drive a car at 16, Drink alcohol at 21, and Run for president at 35.\n",
    "\n",
    "1. Ask the user for the birth year and store in a variable called `birth_year`.\n",
    "2. Convert `birth_year` to an int and store in variable called `birth_year`.\n",
    "3. Add 16 to the `birth_year` and store in a variable called `drive_car_year`.\n",
    "4. Add 21 to the `birth_year` and store in a variable called `alcohol_year`.\n",
    "5. Add 35 to the `birth_year` and store in a variable called `president_year`.\n",
    "6. Print out the message \"You can drive a car in: `drive_car_year`\" and similar messages for the other years. Hint: you will need to use string concatenation, you will also have to cast the integer years to strings using the `str()` method."
   ]
  },
  {
   "cell_type": "code",
   "execution_count": null,
   "metadata": {
    "collapsed": true
   },
   "outputs": [],
   "source": [
    "\n",
    "\n"
   ]
  }
 ],
 "metadata": {
  "kernelspec": {
   "display_name": "Python 3",
   "language": "python",
   "name": "python3"
  },
  "language_info": {
   "codemirror_mode": {
    "name": "ipython",
    "version": 3
   },
   "file_extension": ".py",
   "mimetype": "text/x-python",
   "name": "python",
   "nbconvert_exporter": "python",
   "pygments_lexer": "ipython3",
   "version": "3.6.3"
  }
 },
 "nbformat": 4,
 "nbformat_minor": 1
}
