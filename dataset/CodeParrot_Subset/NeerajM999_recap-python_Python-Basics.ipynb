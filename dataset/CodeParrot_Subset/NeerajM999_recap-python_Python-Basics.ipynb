{
 "cells": [
  {
   "cell_type": "code",
   "execution_count": 1,
   "metadata": {},
   "outputs": [
    {
     "name": "stdout",
     "output_type": "stream",
     "text": [
      "Hello world\n"
     ]
    }
   ],
   "source": [
    "s=\"Hello world\"\n",
    "print(s)"
   ]
  },
  {
   "cell_type": "code",
   "execution_count": 2,
   "metadata": {},
   "outputs": [
    {
     "name": "stdout",
     "output_type": "stream",
     "text": [
      "This is multi line\n",
      "comment that needs \n",
      "three quotes\n"
     ]
    }
   ],
   "source": [
    "# multi line string\n",
    "ss = \"\"\"This is multi line\n",
    "comment that needs \n",
    "three quotes\"\"\"\n",
    "print(ss)"
   ]
  },
  {
   "cell_type": "code",
   "execution_count": 4,
   "metadata": {},
   "outputs": [
    {
     "name": "stdout",
     "output_type": "stream",
     "text": [
      "H\n"
     ]
    }
   ],
   "source": [
    "# get a char from string\n",
    "print(s[0])"
   ]
  },
  {
   "cell_type": "code",
   "execution_count": 5,
   "metadata": {},
   "outputs": [
    {
     "name": "stdout",
     "output_type": "stream",
     "text": [
      "11\n"
     ]
    }
   ],
   "source": [
    "# size of a string\n",
    "print(len(s))"
   ]
  },
  {
   "cell_type": "code",
   "execution_count": 7,
   "metadata": {},
   "outputs": [
    {
     "name": "stdout",
     "output_type": "stream",
     "text": [
      "Hello worldHello worldHello world\n"
     ]
    }
   ],
   "source": [
    "# repeat the string value\n",
    "print(s*3)"
   ]
  },
  {
   "cell_type": "code",
   "execution_count": 10,
   "metadata": {},
   "outputs": [
    {
     "name": "stdout",
     "output_type": "stream",
     "text": [
      "Hello\n",
      "Hello\n",
      "o world\n"
     ]
    }
   ],
   "source": [
    "# slice string\n",
    "print(s[0:5])\n",
    "print(s[:5])\n",
    "print(s[4:])"
   ]
  },
  {
   "cell_type": "code",
   "execution_count": 13,
   "metadata": {},
   "outputs": [
    {
     "name": "stdout",
     "output_type": "stream",
     "text": [
      "worl\n"
     ]
    }
   ],
   "source": [
    "# reverse order\n",
    "print(s[-5:-1])"
   ]
  },
  {
   "cell_type": "code",
   "execution_count": 14,
   "metadata": {},
   "outputs": [
    {
     "name": "stdout",
     "output_type": "stream",
     "text": [
      "Hlowr\n"
     ]
    }
   ],
   "source": [
    "# slicing with steps of 2\n",
    "print(s[0:10:2])\n"
   ]
  },
  {
   "cell_type": "code",
   "execution_count": 15,
   "metadata": {},
   "outputs": [
    {
     "name": "stdout",
     "output_type": "stream",
     "text": [
      "dlrow olleH\n"
     ]
    }
   ],
   "source": [
    "# reverse a string\n",
    "print(s[::-1])"
   ]
  },
  {
   "cell_type": "code",
   "execution_count": 16,
   "metadata": {},
   "outputs": [
    {
     "name": "stdout",
     "output_type": "stream",
     "text": [
      "this is python\n"
     ]
    }
   ],
   "source": [
    "# trim spaces\n",
    "ss = \"   this is python    \"\n",
    "print(ss.strip())"
   ]
  },
  {
   "cell_type": "code",
   "execution_count": 17,
   "metadata": {},
   "outputs": [
    {
     "name": "stdout",
     "output_type": "stream",
     "text": [
      "this is python    \n"
     ]
    }
   ],
   "source": [
    "print(ss.lstrip())"
   ]
  },
  {
   "cell_type": "code",
   "execution_count": 18,
   "metadata": {},
   "outputs": [
    {
     "name": "stdout",
     "output_type": "stream",
     "text": [
      "   this is python\n"
     ]
    }
   ],
   "source": [
    "print(ss.rstrip())"
   ]
  },
  {
   "cell_type": "code",
   "execution_count": 19,
   "metadata": {},
   "outputs": [
    {
     "name": "stdout",
     "output_type": "stream",
     "text": [
      "5\n"
     ]
    }
   ],
   "source": [
    "# search a substring\n",
    "print(ss.find('is'))"
   ]
  },
  {
   "cell_type": "code",
   "execution_count": 20,
   "metadata": {},
   "outputs": [
    {
     "name": "stdout",
     "output_type": "stream",
     "text": [
      "2\n"
     ]
    }
   ],
   "source": [
    "# count occurences of a substring\n",
    "print(ss.count(\"is\"))"
   ]
  },
  {
   "cell_type": "code",
   "execution_count": 21,
   "metadata": {},
   "outputs": [
    {
     "name": "stdout",
     "output_type": "stream",
     "text": [
      "   thwas was python    \n"
     ]
    }
   ],
   "source": [
    "# replace \n",
    "print(ss.replace('is', 'was'))"
   ]
  },
  {
   "cell_type": "code",
   "execution_count": 36,
   "metadata": {},
   "outputs": [
    {
     "name": "stdout",
     "output_type": "stream",
     "text": [
      "[10, 12, 'i']\n"
     ]
    }
   ],
   "source": [
    "# lists\n",
    "ll = [10, 12, 'i']\n",
    "print(ll)"
   ]
  },
  {
   "cell_type": "code",
   "execution_count": 37,
   "metadata": {},
   "outputs": [
    {
     "name": "stdout",
     "output_type": "stream",
     "text": [
      "12\n"
     ]
    }
   ],
   "source": [
    "print(ll[1])"
   ]
  },
  {
   "cell_type": "code",
   "execution_count": 38,
   "metadata": {},
   "outputs": [
    {
     "name": "stdout",
     "output_type": "stream",
     "text": [
      "[10, 12, 'i', 10, 12, 'i', 10, 12, 'i']\n"
     ]
    }
   ],
   "source": [
    "# repeat the list\n",
    "print(ll * 3)"
   ]
  },
  {
   "cell_type": "code",
   "execution_count": 39,
   "metadata": {},
   "outputs": [
    {
     "name": "stdout",
     "output_type": "stream",
     "text": [
      "3\n"
     ]
    }
   ],
   "source": [
    "# length of list\n",
    "print(len(ll))"
   ]
  },
  {
   "cell_type": "code",
   "execution_count": 40,
   "metadata": {},
   "outputs": [
    {
     "name": "stdout",
     "output_type": "stream",
     "text": [
      "[10, 12, 'i', 23]\n"
     ]
    }
   ],
   "source": [
    "# add item\n",
    "ll.append(23)\n",
    "print(ll)"
   ]
  },
  {
   "cell_type": "code",
   "execution_count": 41,
   "metadata": {},
   "outputs": [
    {
     "name": "stdout",
     "output_type": "stream",
     "text": [
      "[10, 12, 23]\n"
     ]
    }
   ],
   "source": [
    "# remove item\n",
    "ll.remove('i')\n",
    "print(ll)"
   ]
  },
  {
   "cell_type": "code",
   "execution_count": 42,
   "metadata": {},
   "outputs": [
    {
     "name": "stdout",
     "output_type": "stream",
     "text": [
      "[12, 23]\n"
     ]
    }
   ],
   "source": [
    "# remove based on index\n",
    "del(ll[0])\n",
    "print(ll)"
   ]
  },
  {
   "cell_type": "code",
   "execution_count": 43,
   "metadata": {},
   "outputs": [
    {
     "data": {
      "text/plain": [
       "23"
      ]
     },
     "execution_count": 43,
     "metadata": {},
     "output_type": "execute_result"
    }
   ],
   "source": [
    "max(ll)"
   ]
  },
  {
   "cell_type": "code",
   "execution_count": 44,
   "metadata": {},
   "outputs": [
    {
     "data": {
      "text/plain": [
       "12"
      ]
     },
     "execution_count": 44,
     "metadata": {},
     "output_type": "execute_result"
    }
   ],
   "source": [
    "min(ll)"
   ]
  },
  {
   "cell_type": "code",
   "execution_count": 48,
   "metadata": {},
   "outputs": [
    {
     "data": {
      "text/plain": [
       "[12, -9, 23, 99, 99]"
      ]
     },
     "execution_count": 48,
     "metadata": {},
     "output_type": "execute_result"
    }
   ],
   "source": [
    "ll.insert(1, -9)\n",
    "ll"
   ]
  },
  {
   "cell_type": "code",
   "execution_count": 49,
   "metadata": {},
   "outputs": [],
   "source": [
    "ll.sort()"
   ]
  },
  {
   "cell_type": "code",
   "execution_count": 50,
   "metadata": {},
   "outputs": [
    {
     "data": {
      "text/plain": [
       "[-9, 12, 23, 99, 99]"
      ]
     },
     "execution_count": 50,
     "metadata": {},
     "output_type": "execute_result"
    }
   ],
   "source": [
    "ll"
   ]
  },
  {
   "cell_type": "code",
   "execution_count": 52,
   "metadata": {},
   "outputs": [
    {
     "data": {
      "text/plain": [
       "[99, 99, 23, 12, -9]"
      ]
     },
     "execution_count": 52,
     "metadata": {},
     "output_type": "execute_result"
    }
   ],
   "source": [
    "ll.sort(reverse=True)\n",
    "ll"
   ]
  },
  {
   "cell_type": "code",
   "execution_count": 53,
   "metadata": {},
   "outputs": [
    {
     "data": {
      "text/plain": [
       "(10, 20, 30, 'xyz')"
      ]
     },
     "execution_count": 53,
     "metadata": {},
     "output_type": "execute_result"
    }
   ],
   "source": [
    "# tuples\n",
    "tp = (10,20,30, \"xyz\")\n",
    "tp"
   ]
  },
  {
   "cell_type": "code",
   "execution_count": 54,
   "metadata": {},
   "outputs": [
    {
     "data": {
      "text/plain": [
       "'xyz'"
      ]
     },
     "execution_count": 54,
     "metadata": {},
     "output_type": "execute_result"
    }
   ],
   "source": [
    "# indexing\n",
    "tp[3]"
   ]
  },
  {
   "cell_type": "code",
   "execution_count": 55,
   "metadata": {},
   "outputs": [
    {
     "data": {
      "text/plain": [
       "(10, 20, 30, 'xyz', 10, 20, 30, 'xyz')"
      ]
     },
     "execution_count": 55,
     "metadata": {},
     "output_type": "execute_result"
    }
   ],
   "source": [
    "# repeat\n",
    "tp * 2"
   ]
  },
  {
   "cell_type": "code",
   "execution_count": 56,
   "metadata": {},
   "outputs": [
    {
     "data": {
      "text/plain": [
       "1"
      ]
     },
     "execution_count": 56,
     "metadata": {},
     "output_type": "execute_result"
    }
   ],
   "source": [
    "tp.count(10)"
   ]
  },
  {
   "cell_type": "code",
   "execution_count": 57,
   "metadata": {},
   "outputs": [
    {
     "data": {
      "text/plain": [
       "3"
      ]
     },
     "execution_count": 57,
     "metadata": {},
     "output_type": "execute_result"
    }
   ],
   "source": [
    "tp.index('xyz')"
   ]
  },
  {
   "cell_type": "code",
   "execution_count": 62,
   "metadata": {},
   "outputs": [
    {
     "name": "stdout",
     "output_type": "stream",
     "text": [
      "[99, 99, 23, 12, -9]\n"
     ]
    },
    {
     "data": {
      "text/plain": [
       "(99, 99, 23, 12, -9)"
      ]
     },
     "execution_count": 62,
     "metadata": {},
     "output_type": "execute_result"
    }
   ],
   "source": [
    "# list to tuple\n",
    "print(ll)\n",
    "tuple(ll)"
   ]
  },
  {
   "cell_type": "code",
   "execution_count": 72,
   "metadata": {},
   "outputs": [
    {
     "data": {
      "text/plain": [
       "{1, 2, 3, 4, 'abc'}"
      ]
     },
     "execution_count": 72,
     "metadata": {},
     "output_type": "execute_result"
    }
   ],
   "source": [
    "# set operations\n",
    "st = {1, 2, 3,\"abc\", 3, 4, 1}\n",
    "st"
   ]
  },
  {
   "cell_type": "code",
   "execution_count": 73,
   "metadata": {},
   "outputs": [
    {
     "data": {
      "text/plain": [
       "{1, 2, 3, 33, 4, 44, 'abc'}"
      ]
     },
     "execution_count": 73,
     "metadata": {},
     "output_type": "execute_result"
    }
   ],
   "source": [
    "st.update([33,44])\n",
    "st"
   ]
  },
  {
   "cell_type": "code",
   "execution_count": 75,
   "metadata": {},
   "outputs": [
    {
     "ename": "KeyError",
     "evalue": "33",
     "output_type": "error",
     "traceback": [
      "\u001b[0;31m---------------------------------------------------------------------------\u001b[0m",
      "\u001b[0;31mKeyError\u001b[0m                                  Traceback (most recent call last)",
      "\u001b[0;32m<ipython-input-75-40b006536de2>\u001b[0m in \u001b[0;36m<module>\u001b[0;34m\u001b[0m\n\u001b[1;32m      1\u001b[0m \u001b[0;31m# remove\u001b[0m\u001b[0;34m\u001b[0m\u001b[0;34m\u001b[0m\u001b[0;34m\u001b[0m\u001b[0m\n\u001b[0;32m----> 2\u001b[0;31m \u001b[0mst\u001b[0m\u001b[0;34m.\u001b[0m\u001b[0mremove\u001b[0m\u001b[0;34m(\u001b[0m\u001b[0;36m33\u001b[0m\u001b[0;34m)\u001b[0m\u001b[0;34m\u001b[0m\u001b[0;34m\u001b[0m\u001b[0m\n\u001b[0m\u001b[1;32m      3\u001b[0m \u001b[0mst\u001b[0m\u001b[0;34m\u001b[0m\u001b[0;34m\u001b[0m\u001b[0m\n",
      "\u001b[0;31mKeyError\u001b[0m: 33"
     ]
    }
   ],
   "source": [
    "# remove\n",
    "st.remove(33)\n",
    "st"
   ]
  },
  {
   "cell_type": "code",
   "execution_count": 77,
   "metadata": {},
   "outputs": [
    {
     "data": {
      "text/plain": [
       "frozenset({1, 2, 3, 4, 44, 'abc'})"
      ]
     },
     "execution_count": 77,
     "metadata": {},
     "output_type": "execute_result"
    }
   ],
   "source": [
    "# frozen set\n",
    "fs = frozenset(st)\n",
    "fs\n",
    "# fs.update([22])"
   ]
  },
  {
   "cell_type": "code",
   "execution_count": 79,
   "metadata": {},
   "outputs": [
    {
     "name": "stdout",
     "output_type": "stream",
     "text": [
      "0\n",
      "1\n",
      "2\n",
      "3\n",
      "4\n"
     ]
    }
   ],
   "source": [
    "# range\n",
    "r = range(5)\n",
    "r\n",
    "for i in r:\n",
    "    print(i)"
   ]
  },
  {
   "cell_type": "code",
   "execution_count": 81,
   "metadata": {},
   "outputs": [
    {
     "name": "stdout",
     "output_type": "stream",
     "text": [
      "1\n",
      "2\n",
      "3\n",
      "4\n",
      "5\n"
     ]
    }
   ],
   "source": [
    "rr = range(1, 6)\n",
    "for i in rr:\n",
    "    print(i)"
   ]
  },
  {
   "cell_type": "code",
   "execution_count": 82,
   "metadata": {},
   "outputs": [
    {
     "name": "stdout",
     "output_type": "stream",
     "text": [
      "1\n",
      "4\n",
      "7\n",
      "10\n",
      "13\n"
     ]
    }
   ],
   "source": [
    "# range with step\n",
    "rs = range(1, 15, 3)\n",
    "for i in rs:\n",
    "    print(i)"
   ]
  },
  {
   "cell_type": "code",
   "execution_count": 83,
   "metadata": {},
   "outputs": [
    {
     "data": {
      "text/plain": [
       "{1: 'john', 2: 'bob', 3: 'will'}"
      ]
     },
     "execution_count": 83,
     "metadata": {},
     "output_type": "execute_result"
    }
   ],
   "source": [
    "# dictionary\n",
    "d = {1: \"john\", 2: \"bob\", 3: \"will\"}\n",
    "d"
   ]
  },
  {
   "cell_type": "code",
   "execution_count": 84,
   "metadata": {},
   "outputs": [
    {
     "data": {
      "text/plain": [
       "dict_keys([1, 2, 3])"
      ]
     },
     "execution_count": 84,
     "metadata": {},
     "output_type": "execute_result"
    }
   ],
   "source": [
    "d.keys()"
   ]
  },
  {
   "cell_type": "code",
   "execution_count": 85,
   "metadata": {},
   "outputs": [
    {
     "data": {
      "text/plain": [
       "dict_values(['john', 'bob', 'will'])"
      ]
     },
     "execution_count": 85,
     "metadata": {},
     "output_type": "execute_result"
    }
   ],
   "source": [
    "d.values()"
   ]
  },
  {
   "cell_type": "code",
   "execution_count": 90,
   "metadata": {},
   "outputs": [
    {
     "name": "stdout",
     "output_type": "stream",
     "text": [
      "/john/\n",
      "/bob/\n",
      "/will/\n"
     ]
    }
   ],
   "source": [
    "for i in d.keys():\n",
    "    print(\"/\" + d[i]+\"/\")"
   ]
  },
  {
   "cell_type": "code",
   "execution_count": 91,
   "metadata": {},
   "outputs": [
    {
     "data": {
      "text/plain": [
       "{2: 'bob', 3: 'will'}"
      ]
     },
     "execution_count": 91,
     "metadata": {},
     "output_type": "execute_result"
    }
   ],
   "source": [
    "del(d[1])\n",
    "d"
   ]
  },
  {
   "cell_type": "code",
   "execution_count": 96,
   "metadata": {},
   "outputs": [
    {
     "name": "stdout",
     "output_type": "stream",
     "text": [
      "sum  14\n",
      "mod  2\n",
      "expo  10000\n",
      "div  2.5\n",
      "floor div  2\n"
     ]
    }
   ],
   "source": [
    "a,b=10,4\n",
    "print(\"sum \",a+b)\n",
    "print(\"mod \", a%b)\n",
    "print(\"expo \", a**b)\n",
    "print(\"div \", a/b)\n",
    "print(\"floor div \", a//b)"
   ]
  },
  {
   "cell_type": "code",
   "execution_count": 101,
   "metadata": {},
   "outputs": [
    {
     "name": "stdout",
     "output_type": "stream",
     "text": [
      "10 20\n",
      "10,20\n",
      "a=10, b=20, c=12.12\n",
      "name john, a=10\n"
     ]
    }
   ],
   "source": [
    "# print\n",
    "a,b=10,20\n",
    "print(a,b)\n",
    "print(a,b,sep=\",\")\n",
    "c=12.12\n",
    "print(\"a=%i, b=%i, c=%.2f\" %(a,b,c))\n",
    "name=\"john\"\n",
    "print(\"name is {}, a={}\".format(name, a))"
   ]
  },
  {
   "cell_type": "code",
   "execution_count": 103,
   "metadata": {},
   "outputs": [
    {
     "name": "stdout",
     "output_type": "stream",
     "text": [
      "Enter your name: john\n",
      "john\n",
      "Enter your age: 23\n",
      "23\n"
     ]
    }
   ],
   "source": [
    "# user input\n",
    "s = input(\"Enter your name: \")\n",
    "print(s)\n",
    "i = int(input(\"Enter your age: \"))\n",
    "print(i)"
   ]
  },
  {
   "cell_type": "code",
   "execution_count": 104,
   "metadata": {},
   "outputs": [
    {
     "name": "stdout",
     "output_type": "stream",
     "text": [
      "Enter nums separated by comma1,2,3\n"
     ]
    },
    {
     "data": {
      "text/plain": [
       "['1', '2', '3']"
      ]
     },
     "execution_count": 104,
     "metadata": {},
     "output_type": "execute_result"
    }
   ],
   "source": [
    "## receive multiple inputs\n",
    "nums = [ x for x in input(\"Enter nums separated by comma\").split(\",\") ]\n",
    "nums"
   ]
  },
  {
   "cell_type": "code",
   "execution_count": 105,
   "metadata": {},
   "outputs": [
    {
     "name": "stdout",
     "output_type": "stream",
     "text": [
      "Enter nums separated by space: 1 2 3\n"
     ]
    },
    {
     "data": {
      "text/plain": [
       "[1, 2, 3]"
      ]
     },
     "execution_count": 105,
     "metadata": {},
     "output_type": "execute_result"
    }
   ],
   "source": [
    "## by default input values are string, lets change them to int\n",
    "nums = [int(x) for x in input(\"Enter nums separated by space: \").split()]\n",
    "nums"
   ]
  },
  {
   "cell_type": "code",
   "execution_count": 107,
   "metadata": {},
   "outputs": [
    {
     "name": "stdout",
     "output_type": "stream",
     "text": [
      "1\n",
      "2\n",
      "3\n",
      "4\n"
     ]
    }
   ],
   "source": [
    "# loops\n",
    "x=1\n",
    "while x<5:\n",
    "    print(x)\n",
    "    x+=1"
   ]
  },
  {
   "cell_type": "code",
   "execution_count": 109,
   "metadata": {},
   "outputs": [
    {
     "name": "stdout",
     "output_type": "stream",
     "text": [
      "50\n",
      "53\n",
      "56\n",
      "59\n",
      "62\n",
      "65\n",
      "68\n"
     ]
    }
   ],
   "source": [
    "# for loop\n",
    "for x in range(50,70,3):\n",
    "    print(x)"
   ]
  },
  {
   "cell_type": "code",
   "execution_count": 111,
   "metadata": {},
   "outputs": [
    {
     "data": {
      "text/plain": [
       "24"
      ]
     },
     "execution_count": 111,
     "metadata": {},
     "output_type": "execute_result"
    }
   ],
   "source": [
    "prod=1\n",
    "for x in range(1,5):\n",
    "    prod *= x\n",
    "prod\n"
   ]
  },
  {
   "cell_type": "code",
   "execution_count": 115,
   "metadata": {},
   "outputs": [
    {
     "name": "stdout",
     "output_type": "stream",
     "text": [
      "Enter a number: 10\n",
      "10 x 1  =  10\n",
      "10 x 2  =  20\n",
      "10 x 3  =  30\n",
      "10 x 4  =  40\n"
     ]
    }
   ],
   "source": [
    "num=int(input(\"Enter a number: \"))\n",
    "for x in range(1,11):\n",
    "    if x==5:\n",
    "        break\n",
    "    print(num,\"x\",x,\" = \",num*x)"
   ]
  },
  {
   "cell_type": "code",
   "execution_count": 116,
   "metadata": {},
   "outputs": [
    {
     "name": "stdout",
     "output_type": "stream",
     "text": [
      "1\n",
      "2\n",
      "4\n",
      "5\n",
      "7\n",
      "8\n",
      "10\n",
      "11\n",
      "13\n",
      "14\n",
      "16\n",
      "17\n",
      "19\n"
     ]
    }
   ],
   "source": [
    "# continue\n",
    "for x in range(1,20):\n",
    "    if x % 3 == 0:\n",
    "        continue\n",
    "    print(x)"
   ]
  },
  {
   "cell_type": "code",
   "execution_count": 117,
   "metadata": {},
   "outputs": [
    {
     "name": "stdout",
     "output_type": "stream",
     "text": [
      "Enter a number > 10 2\n"
     ]
    },
    {
     "ename": "AssertionError",
     "evalue": "Wrong number",
     "output_type": "error",
     "traceback": [
      "\u001b[0;31m---------------------------------------------------------------------------\u001b[0m",
      "\u001b[0;31mAssertionError\u001b[0m                            Traceback (most recent call last)",
      "\u001b[0;32m<ipython-input-117-49bc012ba0ed>\u001b[0m in \u001b[0;36m<module>\u001b[0;34m\u001b[0m\n\u001b[1;32m      1\u001b[0m \u001b[0;31m# assert error\u001b[0m\u001b[0;34m\u001b[0m\u001b[0;34m\u001b[0m\u001b[0;34m\u001b[0m\u001b[0m\n\u001b[1;32m      2\u001b[0m \u001b[0mx\u001b[0m \u001b[0;34m=\u001b[0m \u001b[0mint\u001b[0m\u001b[0;34m(\u001b[0m\u001b[0minput\u001b[0m\u001b[0;34m(\u001b[0m\u001b[0;34m\"Enter a number > 10 \"\u001b[0m\u001b[0;34m)\u001b[0m\u001b[0;34m)\u001b[0m\u001b[0;34m\u001b[0m\u001b[0;34m\u001b[0m\u001b[0m\n\u001b[0;32m----> 3\u001b[0;31m \u001b[0;32massert\u001b[0m \u001b[0mx\u001b[0m\u001b[0;34m>\u001b[0m\u001b[0;36m10\u001b[0m\u001b[0;34m,\u001b[0m \u001b[0;34m\"Wrong number\"\u001b[0m\u001b[0;34m\u001b[0m\u001b[0;34m\u001b[0m\u001b[0m\n\u001b[0m\u001b[1;32m      4\u001b[0m \u001b[0mprint\u001b[0m\u001b[0;34m(\u001b[0m\u001b[0;34m\"You entered \"\u001b[0m\u001b[0;34m,\u001b[0m \u001b[0mx\u001b[0m\u001b[0;34m)\u001b[0m\u001b[0;34m\u001b[0m\u001b[0;34m\u001b[0m\u001b[0m\n",
      "\u001b[0;31mAssertionError\u001b[0m: Wrong number"
     ]
    }
   ],
   "source": [
    "# assert error\n",
    "x = int(input(\"Enter a number > 10 \"))\n",
    "assert x>10, \"Wrong number\"\n",
    "print(\"You entered \", x)"
   ]
  },
  {
   "cell_type": "code",
   "execution_count": 118,
   "metadata": {},
   "outputs": [
    {
     "name": "stdout",
     "output_type": "stream",
     "text": [
      "15.0\n"
     ]
    }
   ],
   "source": [
    "def avgNum(a,b):\n",
    "    return (a+b)/2\n",
    "\n",
    "print(avgNum(10,20))"
   ]
  },
  {
   "cell_type": "code",
   "execution_count": 120,
   "metadata": {},
   "outputs": [
    {
     "data": {
      "text/plain": [
       "(30, -10, 200, 0.5)"
      ]
     },
     "execution_count": 120,
     "metadata": {},
     "output_type": "execute_result"
    }
   ],
   "source": [
    "#return multiple values from a function\n",
    "def returnMul(a,b):\n",
    "    sm = a+b\n",
    "    dif = a-b\n",
    "    mul = a*b\n",
    "    div = a/b\n",
    "    return sm, dif, mul, div\n",
    "\n",
    "a,b,c,d = returnMul(10,20)\n",
    "a,b,c,d"
   ]
  },
  {
   "cell_type": "code",
   "execution_count": 121,
   "metadata": {},
   "outputs": [
    {
     "name": "stdout",
     "output_type": "stream",
     "text": [
      "(15, 5, 50, 2.0)\n"
     ]
    }
   ],
   "source": [
    "# assign function to a variable\n",
    "z = returnMul\n",
    "print(z(10,5))"
   ]
  },
  {
   "cell_type": "code",
   "execution_count": 123,
   "metadata": {},
   "outputs": [
    {
     "name": "stdout",
     "output_type": "stream",
     "text": [
      "Hello Mohna\n"
     ]
    }
   ],
   "source": [
    "# function inside a function\n",
    "def display(name):\n",
    "    def message():\n",
    "        return \"Hello \"\n",
    "    return message() + name\n",
    "\n",
    "print(display('Mohna'))"
   ]
  },
  {
   "cell_type": "code",
   "execution_count": 124,
   "metadata": {},
   "outputs": [
    {
     "name": "stdout",
     "output_type": "stream",
     "text": [
      "1\n",
      "2\n",
      "3\n",
      "4\n"
     ]
    }
   ],
   "source": [
    "# passing list to function\n",
    "def display(lst):\n",
    "    for i in lst:\n",
    "        print(i)\n",
    "\n",
    "display([1,2,3,4])"
   ]
  },
  {
   "cell_type": "code",
   "execution_count": 126,
   "metadata": {},
   "outputs": [
    {
     "data": {
      "text/plain": [
       "120"
      ]
     },
     "execution_count": 126,
     "metadata": {},
     "output_type": "execute_result"
    }
   ],
   "source": [
    "# recursion\n",
    "def fact(num):\n",
    "    if num <= 1:\n",
    "        return 1\n",
    "    else:\n",
    "        return num * fact(num-1)\n",
    "fact(5)"
   ]
  },
  {
   "cell_type": "code",
   "execution_count": 127,
   "metadata": {},
   "outputs": [
    {
     "name": "stdout",
     "output_type": "stream",
     "text": [
      "64\n"
     ]
    }
   ],
   "source": [
    "# lambda functions\n",
    "cube = lambda x: x**3\n",
    "print(cube(4))"
   ]
  },
  {
   "cell_type": "code",
   "execution_count": 128,
   "metadata": {},
   "outputs": [
    {
     "name": "stdout",
     "output_type": "stream",
     "text": [
      "40\n"
     ]
    }
   ],
   "source": [
    "mul = lambda a,b: a * b\n",
    "print(mul(a=10,b=4))"
   ]
  },
  {
   "cell_type": "code",
   "execution_count": 129,
   "metadata": {},
   "outputs": [
    {
     "data": {
      "text/plain": [
       "'No'"
      ]
     },
     "execution_count": 129,
     "metadata": {},
     "output_type": "execute_result"
    }
   ],
   "source": [
    "even = lambda x: 'Yes' if x%2==0 else 'No'\n",
    "\n",
    "even(5)"
   ]
  },
  {
   "cell_type": "code",
   "execution_count": 133,
   "metadata": {},
   "outputs": [
    {
     "data": {
      "text/plain": [
       "[2, 4, 6, 6, 8]"
      ]
     },
     "execution_count": 133,
     "metadata": {},
     "output_type": "execute_result"
    }
   ],
   "source": [
    "# extract even nos from a list\n",
    "even = list(filter(lambda x:x%2==0, [1,2,3,4,5,5,6,6,7,8,9]))\n",
    "even"
   ]
  },
  {
   "cell_type": "code",
   "execution_count": 135,
   "metadata": {},
   "outputs": [
    {
     "data": {
      "text/plain": [
       "[2, 4, 6, 8, 10, 12, 14, 16, 18]"
      ]
     },
     "execution_count": 135,
     "metadata": {},
     "output_type": "execute_result"
    }
   ],
   "source": [
    "# use map function\n",
    "d = list(map(lambda x: x *2, [1,2,3,4,5,6,7,8,9]))\n",
    "d"
   ]
  },
  {
   "cell_type": "code",
   "execution_count": 137,
   "metadata": {},
   "outputs": [
    {
     "data": {
      "text/plain": [
       "15"
      ]
     },
     "execution_count": 137,
     "metadata": {},
     "output_type": "execute_result"
    }
   ],
   "source": [
    "# use reduce function\n",
    "from functools import reduce\n",
    "reduce(lambda x,y: x+y, [1,2,3,4,5])"
   ]
  },
  {
   "cell_type": "code",
   "execution_count": 143,
   "metadata": {},
   "outputs": [
    {
     "data": {
      "text/plain": [
       "10"
      ]
     },
     "execution_count": 143,
     "metadata": {},
     "output_type": "execute_result"
    }
   ],
   "source": [
    "# decorators - a function that takes function as input and returns a function as output\n",
    "def decor1(func):\n",
    "    def inner():\n",
    "        return func()*2\n",
    "    return inner\n",
    "\n",
    "def num():\n",
    "    return 5\n",
    "\n",
    "result = decor1(num)\n",
    "result()\n",
    "\n"
   ]
  },
  {
   "cell_type": "code",
   "execution_count": 144,
   "metadata": {},
   "outputs": [
    {
     "name": "stdout",
     "output_type": "stream",
     "text": [
      "10\n"
     ]
    }
   ],
   "source": [
    "# automatically apply decor function to num()\n",
    "def decor1(func):\n",
    "    def inner():\n",
    "        return func() * 2\n",
    "    return inner\n",
    "\n",
    "@decor1\n",
    "def num():\n",
    "    return 5\n",
    "\n",
    "print(num())"
   ]
  },
  {
   "cell_type": "code",
   "execution_count": 149,
   "metadata": {},
   "outputs": [
    {
     "name": "stdout",
     "output_type": "stream",
     "text": [
      "Hello John- how are you?\n"
     ]
    }
   ],
   "source": [
    "def hello(name):\n",
    "    def howareyou(n):\n",
    "        return name(n) + \"- how are you?\"\n",
    "    return howareyou\n",
    "\n",
    "@hello\n",
    "def name(name):\n",
    "    return \"Hello \" + name\n",
    "\n",
    "print(name(\"John\"))"
   ]
  },
  {
   "cell_type": "code",
   "execution_count": 152,
   "metadata": {},
   "outputs": [
    {
     "name": "stdout",
     "output_type": "stream",
     "text": [
      "20\n",
      "21\n",
      "22\n",
      "23\n",
      "24\n",
      "25\n",
      "26\n",
      "27\n",
      "28\n",
      "29\n"
     ]
    }
   ],
   "source": [
    "# yield or generators, no need to add return statement\n",
    "def customgen(x,y):\n",
    "    while x < y:\n",
    "        yield x\n",
    "        x += 1\n",
    "        \n",
    "r = customgen(20,30)\n",
    "for i in r:\n",
    "    print(i)"
   ]
  },
  {
   "cell_type": "code",
   "execution_count": 153,
   "metadata": {},
   "outputs": [
    {
     "data": {
      "text/plain": [
       "[1, 8, 27, 64, 125, 216, 343, 512, 729, 1000]"
      ]
     },
     "execution_count": 153,
     "metadata": {},
     "output_type": "execute_result"
    }
   ],
   "source": [
    "# list comprehension\n",
    "lst = [x**3 for x in range(1,11)]\n",
    "lst"
   ]
  },
  {
   "cell_type": "code",
   "execution_count": 154,
   "metadata": {},
   "outputs": [
    {
     "data": {
      "text/plain": [
       "[2, 4, 6, 8, 10, 12, 14, 16, 18, 20]"
      ]
     },
     "execution_count": 154,
     "metadata": {},
     "output_type": "execute_result"
    }
   ],
   "source": [
    "# get only even nos\n",
    "lst = [x for x in range(1,21) if x%2 == 0]\n",
    "lst"
   ]
  },
  {
   "cell_type": "code",
   "execution_count": 156,
   "metadata": {},
   "outputs": [
    {
     "data": {
      "text/plain": [
       "[2, 4, 6, 8, 10, 12, 14, 16, 18, 20]"
      ]
     },
     "execution_count": 156,
     "metadata": {},
     "output_type": "execute_result"
    }
   ],
   "source": [
    "# another approach\n",
    "lst = [x for x in range(2,21,2)]\n",
    "lst"
   ]
  },
  {
   "cell_type": "code",
   "execution_count": 158,
   "metadata": {},
   "outputs": [
    {
     "data": {
      "text/plain": [
       "[6, 14, 24, 36, 50]"
      ]
     },
     "execution_count": 158,
     "metadata": {},
     "output_type": "execute_result"
    }
   ],
   "source": [
    "# product of 2 lists\n",
    "a=[1,2,3,4,5]\n",
    "b=[6,7,8,9,10]\n",
    "z=[a[i]*b[i] for i in range(len(a))]\n",
    "z"
   ]
  },
  {
   "cell_type": "code",
   "execution_count": 160,
   "metadata": {},
   "outputs": [
    {
     "data": {
      "text/plain": [
       "[2, 4]"
      ]
     },
     "execution_count": 160,
     "metadata": {},
     "output_type": "execute_result"
    }
   ],
   "source": [
    "# find common elements\n",
    "a=[1,2,3,4,5]\n",
    "b=[2,4,6,7,8]\n",
    "z=[item for item in a if item in b]\n",
    "z"
   ]
  },
  {
   "cell_type": "code",
   "execution_count": 8,
   "metadata": {},
   "outputs": [
    {
     "name": "stdout",
     "output_type": "stream",
     "text": [
      "Python\n",
      "[1, 3, 4, 5, 3]\n",
      "3.2\n",
      "123\n"
     ]
    }
   ],
   "source": [
    "# class\n",
    "class Course:\n",
    "    def __init__(self,id,name, ratings):\n",
    "        ## private variable\n",
    "        self.__id = id\n",
    "        ## public variables\n",
    "        self.name = name\n",
    "        self.ratings = ratings\n",
    "        \n",
    "    ## average rating\n",
    "    def average(self):\n",
    "        count = len(self.ratings)\n",
    "        return sum(self.ratings)/count\n",
    "        \n",
    "        \n",
    "c1 = Course(123,\"Python\", [1,3,4,5,3])\n",
    "print(c1.name)\n",
    "print(c1.ratings)\n",
    "print(c1.average())\n",
    "# print(c1.__id) # won't work\n",
    "\n",
    "#name mangling to access private variables\n",
    "print(c1._Course__id) # even private is accessible; to resolve this use getter/setter methods instead"
   ]
  },
  {
   "cell_type": "code",
   "execution_count": null,
   "metadata": {},
   "outputs": [],
   "source": [
    "\"\"\"class Programmer:\n",
    "    #static field\n",
    "    major = \"CSE\"\n",
    "    noOfObjects = 0\n",
    "    \n",
    "    def __init__(self):\n",
    "        Programmer.noOfObjects += 1\n",
    "    \n",
    "    def setName(self, n):\n",
    "        self.name = n\n",
    "        \n",
    "    def getName(self):\n",
    "        return self.name\n",
    "    \n",
    "    def setSalary(self, salary):\n",
    "        self.salary = salary\n",
    "        \n",
    "    def getSalary(self):\n",
    "        return self.salary\n",
    "\n",
    "    def setTech(self, techs):\n",
    "        self.techs = techs\n",
    "    \n",
    "    def getTech(self):\n",
    "        return self.techs\n",
    "\n",
    "p1 = Programmer()\n",
    "p1.setName('Jon')\n",
    "p1.setSalary(110000)\n",
    "p1.setTech(['java', 'python'])\n",
    "\n",
    "print(p1.getSalary)\n",
    "print(p1.major)\n",
    "print(Programmer.major) \"\"\""
   ]
  },
  {
   "cell_type": "code",
   "execution_count": 17,
   "metadata": {},
   "outputs": [
    {
     "name": "stdout",
     "output_type": "stream",
     "text": [
      "Make BMW\n",
      "Model  3x\n",
      "Year  2018\n",
      "CruiseControlEnabled  True\n",
      "Make BMW\n",
      "Model  x1\n",
      "Year  2018\n",
      "ParkingAssistanceEnabled  True\n"
     ]
    }
   ],
   "source": [
    "# inheritance\n",
    "class BMW:\n",
    "    def __init__(self, make, model, year):\n",
    "        self.make = make\n",
    "        self.model = model\n",
    "        self.year = year\n",
    "    \n",
    "    def display(self):\n",
    "        print(\"Make\", self.make)\n",
    "        print(\"Model \", self.model)\n",
    "        print(\"Year \", self.year)\n",
    "        \n",
    "class Sedan(BMW):\n",
    "    def __init__(self, make, model, year, cruiseControlEnabled):\n",
    "        BMW.__init__(self, make, model, year)\n",
    "        self.cruiseControlEnabled = cruiseControlEnabled\n",
    "    # override   \n",
    "    def display(self):\n",
    "        super().display()\n",
    "        print(\"CruiseControlEnabled \", self.cruiseControlEnabled)\n",
    "\n",
    "class Suv(BMW):\n",
    "    def __init__(self, make, model, year, parkingAssistanceEnabled):\n",
    "        BMW.__init__(self, make, model, year)\n",
    "        self.parkingAssistanceEnabled = parkingAssistanceEnabled\n",
    "\n",
    "    # override\n",
    "    def display(self):\n",
    "        super().display() # with super, no need to specify 'self'\n",
    "        print(\"ParkingAssistanceEnabled \", self.parkingAssistanceEnabled)\n",
    "\n",
    "\n",
    "    \n",
    "sedan = Sedan('BMW', '3x', 2018, True)\n",
    "suv = Suv('BMW', 'x1', 2018, True)\n",
    "\n",
    "sedan.display()\n",
    "suv.display()\n",
    "\n"
   ]
  },
  {
   "cell_type": "code",
   "execution_count": 19,
   "metadata": {},
   "outputs": [
    {
     "name": "stdout",
     "output_type": "stream",
     "text": [
      "Quack Quack\n",
      "Hello\n"
     ]
    }
   ],
   "source": [
    "# polymorphism\n",
    "# duck typing\n",
    "# same function can be invoked for different objects\n",
    "\n",
    "class Duck:\n",
    "    def talk(self):\n",
    "        print(\"Quack Quack\")\n",
    "        \n",
    "class Human:\n",
    "    def talk(self):\n",
    "        print(\"Hello\")\n",
    "        \n",
    "def callTalk(obj):\n",
    "    obj.talk()\n",
    "\n",
    "d = Duck()\n",
    "callTalk(d)\n",
    "\n",
    "h = Human()\n",
    "callTalk(h)"
   ]
  },
  {
   "cell_type": "code",
   "execution_count": 20,
   "metadata": {},
   "outputs": [
    {
     "name": "stdout",
     "output_type": "stream",
     "text": [
      "Starting Airbus\n",
      "Starting Boeing\n"
     ]
    }
   ],
   "source": [
    "## another example of ducktyping\n",
    "\n",
    "class Flight:\n",
    "    def __init__(self, engine):\n",
    "        self.engine = engine\n",
    "    def startEngine(self):\n",
    "        self.engine.start()\n",
    "        \n",
    "class AirbusEngine:\n",
    "    def start(self):\n",
    "        print(\"Starting Airbus\")\n",
    "\n",
    "class BoeingEngine:\n",
    "    def start(self):\n",
    "        print(\"Starting Boeing\")\n",
    "    \n",
    "ae = AirbusEngine()\n",
    "f = Flight(ae)\n",
    "f.startEngine()\n",
    "\n",
    "be = BoeingEngine()\n",
    "f1 = Flight(be)\n",
    "f1.startEngine()"
   ]
  },
  {
   "cell_type": "code",
   "execution_count": 24,
   "metadata": {},
   "outputs": [
    {
     "name": "stdout",
     "output_type": "stream",
     "text": [
      "Make BMW\n",
      "Model  3x\n",
      "Year  2018\n",
      "CruiseControlEnabled  True\n",
      "Make BMW\n",
      "Model  x1\n",
      "Year  2018\n",
      "ParkingAssistanceEnabled  True\n"
     ]
    }
   ],
   "source": [
    "# abstract class\n",
    "from abc import abstractmethod, ABC\n",
    "# inheritance\n",
    "class BMW(ABC):\n",
    "    def __init__(self, make, model, year):\n",
    "        self.make = make\n",
    "        self.model = model\n",
    "        self.year = year\n",
    "    \n",
    "    def display(self):\n",
    "        print(\"Make\", self.make)\n",
    "        print(\"Model \", self.model)\n",
    "        print(\"Year \", self.year)\n",
    "    \n",
    "    @abstractmethod\n",
    "    def drive(self):\n",
    "        pass\n",
    "        \n",
    "class Sedan(BMW):\n",
    "    def __init__(self, make, model, year, cruiseControlEnabled):\n",
    "        BMW.__init__(self, make, model, year)\n",
    "        self.cruiseControlEnabled = cruiseControlEnabled\n",
    "    # override   \n",
    "    def display(self):\n",
    "        super().display()\n",
    "        print(\"CruiseControlEnabled \", self.cruiseControlEnabled)\n",
    "        \n",
    "    def drive(self):\n",
    "        print(\"sedan is driving\")\n",
    "\n",
    "class Suv(BMW):\n",
    "    def __init__(self, make, model, year, parkingAssistanceEnabled):\n",
    "        BMW.__init__(self, make, model, year)\n",
    "        self.parkingAssistanceEnabled = parkingAssistanceEnabled\n",
    "\n",
    "    # override\n",
    "    def display(self):\n",
    "        super().display() # with super, no need to specify 'self'\n",
    "        print(\"ParkingAssistanceEnabled \", self.parkingAssistanceEnabled)\n",
    "        \n",
    "    def drive(self):\n",
    "        print(\"suv is driving\")\n",
    "\n",
    "\n",
    "    \n",
    "sedan = Sedan('BMW', '3x', 2018, True)\n",
    "suv = Suv('BMW', 'x1', 2018, True)\n",
    "\n",
    "sedan.display()\n",
    "suv.display()\n",
    "\n",
    "\n"
   ]
  },
  {
   "cell_type": "code",
   "execution_count": 25,
   "metadata": {},
   "outputs": [
    {
     "name": "stdout",
     "output_type": "stream",
     "text": [
      "CruiseControlEnabled  True\n",
      "ParkingAssistanceEnabled  True\n"
     ]
    }
   ],
   "source": [
    "# create interface - an abstract class with only abstract methods\n",
    "from abc import abstractmethod, ABC\n",
    "class BMW(ABC):\n",
    "    def __init__(self, make, model, year):\n",
    "        self.make = make\n",
    "        self.model = model\n",
    "        self.year = year\n",
    "    @abstractmethod\n",
    "    def display(self):\n",
    "        pass\n",
    "    \n",
    "class Sedan(BMW):\n",
    "    def __init__(self, make, model, year, cruiseControlEnabled):\n",
    "        BMW.__init__(self, make, model, year)\n",
    "        self.cruiseControlEnabled = cruiseControlEnabled\n",
    "    # override   \n",
    "    def display(self):\n",
    "        super().display()\n",
    "        print(\"CruiseControlEnabled \", self.cruiseControlEnabled)\n",
    "\n",
    "class Suv(BMW):\n",
    "    def __init__(self, make, model, year, parkingAssistanceEnabled):\n",
    "        BMW.__init__(self, make, model, year)\n",
    "        self.parkingAssistanceEnabled = parkingAssistanceEnabled\n",
    "\n",
    "    # override\n",
    "    def display(self):\n",
    "        super().display() # with super, no need to specify 'self'\n",
    "        print(\"ParkingAssistanceEnabled \", self.parkingAssistanceEnabled)\n",
    "\n",
    "\n",
    "    \n",
    "sedan = Sedan('BMW', '3x', 2018, True)\n",
    "suv = Suv('BMW', 'x1', 2018, True)\n",
    "\n",
    "sedan.display()\n",
    "suv.display()\n",
    "\n",
    "\n"
   ]
  },
  {
   "cell_type": "code",
   "execution_count": 28,
   "metadata": {},
   "outputs": [
    {
     "name": "stdout",
     "output_type": "stream",
     "text": [
      "Enter 2 nos: 4 0\n",
      "Division by zero not allowed\n",
      "End of program\n"
     ]
    }
   ],
   "source": [
    "# handling exceptions\n",
    "try:\n",
    "    a,b = [int(x) for x in input(\"Enter 2 nos: \").split()]\n",
    "    c = a/b\n",
    "    print(c)\n",
    "except ZeroDivisionError:\n",
    "    print(\"Division by zero not allowed\")\n",
    "finally:\n",
    "    print(\"End of program\")\n"
   ]
  },
  {
   "cell_type": "code",
   "execution_count": 41,
   "metadata": {},
   "outputs": [
    {
     "name": "stdout",
     "output_type": "stream",
     "text": [
      "Enter 2 nos: 7 0\n"
     ]
    },
    {
     "name": "stderr",
     "output_type": "stream",
     "text": [
      "ERROR:root:Failure due to zero denominator\n"
     ]
    },
    {
     "name": "stdout",
     "output_type": "stream",
     "text": [
      "Division by zero not allowed\n",
      "File closed\n"
     ]
    }
   ],
   "source": [
    "# handling exceptions in file handling\n",
    "import logging\n",
    "\n",
    "logging.basicConfig(filename=\"/Documents/Proj/Python/mylog.log\", level=logging.DEBUG)\n",
    "\n",
    "try:\n",
    "    f = open(\"myfile\", \"a\")\n",
    "    a,b = [int(x) for x in input(\"Enter 2 nos: \").split()]\n",
    "    c = a/b\n",
    "    f.write(\"\\nWriting %f to file\" %c)\n",
    "except ZeroDivisionError:\n",
    "    print(\"Division by zero not allowed\")\n",
    "    logging.error(\"Failure due to zero denominator\")\n",
    "else:\n",
    "    # executes only when there's no exception\n",
    "    print(\"Good, you have entered non zero number\")\n",
    "finally:\n",
    "    f.close()\n",
    "    print(\"File closed\")\n"
   ]
  },
  {
   "cell_type": "code",
   "execution_count": 43,
   "metadata": {},
   "outputs": [
    {
     "name": "stdout",
     "output_type": "stream",
     "text": [
      "Enter a number 5\n",
      "You entered odd number\n",
      "after exception\n"
     ]
    }
   ],
   "source": [
    "# exception handling using assert\n",
    "try:\n",
    "    a = int(input(\"Enter a number \"))\n",
    "    assert a%2==0, \"You entered odd number\"\n",
    "except AssertionError as obj:\n",
    "    print(obj)  #obj is the message\n",
    "print(\"after exception\")"
   ]
  },
  {
   "cell_type": "code",
   "execution_count": 37,
   "metadata": {},
   "outputs": [
    {
     "name": "stderr",
     "output_type": "stream",
     "text": [
      "CRITICAL:root:Critical\n",
      "ERROR:root:Error\n",
      "WARNING:root:Warning\n"
     ]
    }
   ],
   "source": [
    "# logging on console\n",
    "import logging\n",
    "\n",
    "logging.critical(\"Critical\")\n",
    "logging.error(\"Error\")\n",
    "logging.warning(\"Warning\")\n",
    "logging.info(\"Information\")\n",
    "logging.debug(\"Debugging\")\n"
   ]
  },
  {
   "cell_type": "code",
   "execution_count": 40,
   "metadata": {},
   "outputs": [
    {
     "name": "stderr",
     "output_type": "stream",
     "text": [
      "CRITICAL:root:Critical\n",
      "ERROR:root:Error\n",
      "WARNING:root:Warning\n"
     ]
    }
   ],
   "source": [
    "# logging in file\n",
    "import logging\n",
    "\n",
    "logging.basicConfig(filename=\"/Documents/Proj/Python/mylog.log\", level=logging.DEBUG)\n",
    "logging.critical(\"Critical\")\n",
    "logging.error(\"Error\")\n",
    "logging.warning(\"Warning\")\n",
    "logging.info(\"Information\")\n",
    "logging.debug(\"Debugging\")"
   ]
  },
  {
   "cell_type": "code",
   "execution_count": 48,
   "metadata": {},
   "outputs": [
    {
     "name": "stdout",
     "output_type": "stream",
     "text": [
      "Writing 2.000000 to fileWriting 1.333333 to file\n",
      "Writing 1.500000 to file\n"
     ]
    }
   ],
   "source": [
    "# read from a file\n",
    "try:\n",
    "    f = open(\"myfile\", 'r')\n",
    "    s = f.read()\n",
    "    print(s)\n",
    "except FileNotFoundError:\n",
    "    print(\"File not found\")\n",
    "finally:\n",
    "    f.close()    "
   ]
  },
  {
   "cell_type": "code",
   "execution_count": 50,
   "metadata": {},
   "outputs": [
    {
     "name": "stdout",
     "output_type": "stream",
     "text": [
      "Enter text ('#' to stop)\n",
      "This is python\n",
      "It's great\n",
      "#\n"
     ]
    }
   ],
   "source": [
    "# write multiple lines to a file\n",
    "try:\n",
    "    f = open(\"myfile\", 'w')\n",
    "    print(\"Enter text ('#' to stop)\")\n",
    "    s=''\n",
    "    while s != '#':\n",
    "        s = input()\n",
    "        f.write(s+\"\\n\")\n",
    "except FileNotFoundError:\n",
    "    print(\"File not found\")\n",
    "finally:\n",
    "    f.close()"
   ]
  },
  {
   "cell_type": "code",
   "execution_count": 54,
   "metadata": {},
   "outputs": [
    {
     "name": "stdout",
     "output_type": "stream",
     "text": [
      "File doesn't exist\n"
     ]
    }
   ],
   "source": [
    "# check if file exists\n",
    "import os, sys\n",
    "if os.path.isfile(\"myfile1\"):\n",
    "    f = open('myfile', 'r')\n",
    "    s = f.read()\n",
    "    print(s)\n",
    "    f.close()\n",
    "else:\n",
    "    print(\"File doesn't exist\")"
   ]
  },
  {
   "cell_type": "code",
   "execution_count": 56,
   "metadata": {},
   "outputs": [],
   "source": [
    "# serialize/deserialize objects into files\n",
    "class Student:\n",
    "    def __init__(self, id, name, score):\n",
    "        self.id = id\n",
    "        self.name = name\n",
    "        self.score = score\n",
    "    \n",
    "    def display(self):\n",
    "        print(self.id, self.name, self.score)\n",
    "        \n",
    "import pickle\n",
    "\n",
    "f = open(\"student.dat\", \"wb\")\n",
    "s = Student(123,\"John\", 99)\n",
    "pickle.dump(s, f)\n",
    "f.close()"
   ]
  },
  {
   "cell_type": "code",
   "execution_count": 58,
   "metadata": {},
   "outputs": [
    {
     "name": "stdout",
     "output_type": "stream",
     "text": [
      "123 John 99\n"
     ]
    }
   ],
   "source": [
    "# deserialize the object\n",
    "import pickle\n",
    "f = open(\"student.dat\", \"rb\")\n",
    "obj = pickle.load(f)\n",
    "obj.display()\n",
    "f.close()"
   ]
  },
  {
   "cell_type": "code",
   "execution_count": 90,
   "metadata": {},
   "outputs": [
    {
     "name": "stdout",
     "output_type": "stream",
     "text": [
      "one\n",
      "['one', 'one', 'oda', 'ood']\n",
      "None\n",
      "Tak\n",
      "['Take', 'up', 'one', '22-', 'idea.', 'one', 'idea', 'at', '1-', 'a', 'time', 'today', 'is', '29-12-2018.', 'This', 'is', 'good']\n",
      "Take up two 22- idea. two idea at 1- a time today is 29-12-2018. This is good\n",
      "['one', 'one', 'oday', 'ood']\n",
      "['one', 'one', 'oday', 'ood']\n",
      "['on', 'on', 'od', 'oo']\n",
      "['one', 'one', 'oda', 'ood']\n",
      "['oday']\n",
      "['one', 'one', 'oda', 'ood']\n",
      "['29-12-2018']\n",
      "Take\n",
      "None\n"
     ]
    }
   ],
   "source": [
    "#regular expressions\n",
    "# search a substring\n",
    "import re\n",
    "str = \"Take up one 22- idea. one idea at 1- a time today is 29-12-2018. This is good\"\n",
    "result = re.search(r'o\\w\\w', str) # start with o and return 2 alphanumeric chars after it for the first match\n",
    "print(result.group())\n",
    "\n",
    "result = re.findall(r'o\\w\\w', str) # give all results in a list\n",
    "print(result)\n",
    "\n",
    "result = re.match(r'o\\w\\w', str) # only search in begining of the string\n",
    "print(result)\n",
    "\n",
    "result = re.match(r'T\\w\\w', str) # only search in begining of the string\n",
    "print(result.group())\n",
    "\n",
    "result = re.split(r'\\s+', str) # split the string into elements delimited by a space\n",
    "print(result)\n",
    "\n",
    "result = re.sub(r'one', 'two', str) # replace 'one' with 'two' in str\n",
    "print(result)\n",
    "\n",
    "result = re.findall(r'o\\w+', str) # one or more occurrences of characters after 'o'\n",
    "print(result)\n",
    "\n",
    "result = re.findall(r'o\\w*', str) # zero or more occurrences of characters after 'o'\n",
    "print(result)\n",
    "\n",
    "result = re.findall(r'o\\w?', str) # zero or one occurrences of characters after 'o'\n",
    "print(result)\n",
    "\n",
    "result = re.findall(r'o\\w{2}', str) # 'o' followed by exactly 2 chars\n",
    "print(result)\n",
    "\n",
    "result = re.findall(r'o\\w{3}', str) # 'o' followed by exactly 3 chars -> no such match\n",
    "print(result)\n",
    "\n",
    "result = re.findall(r'o\\w{1,2}', str) # 'o' followed by min 1 and max 2 chars\n",
    "print(result)\n",
    "\n",
    "result = re.findall(r'\\d{1,2}-\\d{1,2}-\\d{4}', str) # only dates matching this pattern will be returned\n",
    "print(result)\n",
    "\n",
    "result = re.search(r'^T\\w+', str) # match 'T' at beginning of string\n",
    "print(result.group())\n",
    "\n",
    "result = re.search(r'$g\\w*', str) # match 'g' at end of string\n",
    "print(result)\n"
   ]
  },
  {
   "cell_type": "code",
   "execution_count": 102,
   "metadata": {},
   "outputs": [
    {
     "name": "stdout",
     "output_type": "stream",
     "text": [
      "1546108807.180272\n",
      "Sat Dec 29 12:40:07 2018\n",
      "2018-12-29 12:40:07.180791\n",
      "Current date: 2018/12/29\n",
      "Current time: 12:40:7\n",
      "2018-12-10 12:45:00\n",
      "2016-10-11\n",
      "2017-10-11\n",
      "2018-10-11\n",
      "Time taken:  3.0098377440008335\n"
     ]
    }
   ],
   "source": [
    "# handling date and time\n",
    "import time, datetime\n",
    "\n",
    "# track performance of program\n",
    "st = time.perf_counter()\n",
    "\n",
    "epochseconds = time.time() # seconds since epoch\n",
    "print(epochseconds) \n",
    "\n",
    "t = time.ctime(epochseconds) # epoch to time object\n",
    "print(t)\n",
    "\n",
    "#current datetime\n",
    "dt = datetime.datetime.today()\n",
    "print(dt)\n",
    "print(\"Current date: {}/{}/{}\".format(dt.year, dt.month, dt.day))\n",
    "print(\"Current time: {}:{}:{}\".format(dt.hour, dt.minute, dt.second))\n",
    "\n",
    "#combine date & time\n",
    "from datetime import *\n",
    "d = date(2018, 12,10)\n",
    "t = time(12, 45)\n",
    "\n",
    "dt = datetime.combine(d,t)\n",
    "print(dt)\n",
    "\n",
    "#sort dates in a list\n",
    "d1 = date(2016,10,11)\n",
    "d2 = date(2017,10,11)\n",
    "d3 = date(2018,10,11)\n",
    "\n",
    "datesList = []\n",
    "datesList.append(d1)\n",
    "datesList.append(d2)\n",
    "datesList.append(d3)\n",
    "\n",
    "import time\n",
    "\n",
    "datesList.sort()\n",
    "for d in datesList:\n",
    "    time.sleep(1)\n",
    "    print(d)\n",
    "    \n",
    "et = time.perf_counter()\n",
    "\n",
    "print(\"Time taken: \", et - st)"
   ]
  },
  {
   "cell_type": "code",
   "execution_count": 105,
   "metadata": {},
   "outputs": [
    {
     "name": "stdout",
     "output_type": "stream",
     "text": [
      "Current Thread running:  MainThread\n",
      "It is main thread\n"
     ]
    }
   ],
   "source": [
    "# Multi threading\n",
    "import threading\n",
    "\n",
    "print(\"Current Thread running: \", threading.current_thread().getName())\n",
    "\n",
    "## compare current thread if its main thread or not\n",
    "if threading.current_thread() == threading.main_thread():\n",
    "    print(\"It is main thread\")\n",
    "else:\n",
    "    print(\"not main thread\")"
   ]
  },
  {
   "cell_type": "raw",
   "metadata": {},
   "source": []
  },
  {
   "cell_type": "code",
   "execution_count": 119,
   "metadata": {},
   "outputs": [
    {
     "name": "stdout",
     "output_type": "stream",
     "text": [
      "MainThread\n",
      "Thread-14\n",
      "0\n",
      "1\n",
      "2\n",
      "3\n",
      "4\n",
      "5\n",
      "6\n",
      "7\n",
      "8\n",
      "9\n",
      "10\n"
     ]
    }
   ],
   "source": [
    "# create thread of your own\n",
    "from threading import *\n",
    "\n",
    "def counter(c):\n",
    "    i = 0\n",
    "    print(current_thread().getName()) ## own thread (not mainThread)\n",
    "    while (i <= c):\n",
    "        print(i)\n",
    "        i += 1\n",
    "print(current_thread().getName()) ## main thread\n",
    "t = Thread(target=counter,args=[10]) # specify arguments as a list\n",
    "t.start()\n"
   ]
  },
  {
   "cell_type": "code",
   "execution_count": 120,
   "metadata": {},
   "outputs": [
    {
     "name": "stdout",
     "output_type": "stream",
     "text": [
      "Thread-15\n",
      "0\n",
      "1\n",
      "2\n",
      "3\n",
      "4\n",
      "5\n",
      "6\n",
      "7\n",
      "8\n",
      "9\n",
      "10\n"
     ]
    }
   ],
   "source": [
    "# extend Thread class\n",
    "from threading import Thread\n",
    "class MyThread(Thread):\n",
    "    # override run method\n",
    "    def run(self):\n",
    "        i = 0\n",
    "        print(current_thread().getName()) ## own thread (not mainThread)\n",
    "        while (i <= 10):\n",
    "            print(i)\n",
    "            i += 1\n",
    "t = MyThread()\n",
    "t.start()"
   ]
  },
  {
   "cell_type": "code",
   "execution_count": 121,
   "metadata": {},
   "outputs": [
    {
     "name": "stdout",
     "output_type": "stream",
     "text": [
      "Thread-16\n",
      "0\n",
      "1\n",
      "2\n",
      "3\n",
      "4\n",
      "5\n",
      "6\n",
      "7\n",
      "8\n",
      "9\n",
      "10\n"
     ]
    }
   ],
   "source": [
    "# using class w/o extending Thread\n",
    "from threading import *\n",
    "class MyThread:\n",
    "    # override run method\n",
    "    def counter(self,c):\n",
    "        i = 0\n",
    "        print(current_thread().getName()) ## own thread (not mainThread)\n",
    "        while (i <= c):\n",
    "            print(i)\n",
    "            i += 1\n",
    "obj = MyThread()\n",
    "t = Thread(target=obj.counter, args=[10])\n",
    "t.start()\n"
   ]
  },
  {
   "cell_type": "code",
   "execution_count": 123,
   "metadata": {},
   "outputs": [
    {
     "name": "stdout",
     "output_type": "stream",
     "text": [
      "Thread-20\n",
      "0\n",
      "Thread-211\n",
      "2\n",
      "3\n",
      "4\n",
      "5\n",
      "6\n",
      "7\n",
      "8\n",
      "\n",
      "0\n",
      "1\n",
      "2\n",
      "3\n",
      "4\n",
      "5\n",
      "9\n",
      "10\n",
      "Thread-22\n",
      "0\n",
      "1\n",
      "2\n",
      "3\n",
      "4\n"
     ]
    }
   ],
   "source": [
    "# run multiple threads\n",
    "\n",
    "obj = MyThread()\n",
    "t1 = Thread(target=obj.counter, args=[10])\n",
    "t1.start()\n",
    "\n",
    "t2 = Thread(target=obj.counter, args=[5])\n",
    "t2.start()\n",
    "\n",
    "t3 = Thread(target=obj.counter, args=[4])\n",
    "t3.start()"
   ]
  },
  {
   "cell_type": "code",
   "execution_count": 125,
   "metadata": {},
   "outputs": [
    {
     "name": "stdout",
     "output_type": "stream",
     "text": [
      "Available Tickets:  10\n",
      "Booking tickets\n",
      "Allocating seats\n",
      "Processing payment\n",
      "Available Tickets:  6\n",
      "Booking tickets\n",
      "Allocating seats\n",
      "Processing payment\n",
      "Available Tickets:  2\n",
      "Sorry, not enough tickets available\n"
     ]
    }
   ],
   "source": [
    "## multi threading use case\n",
    "from threading import *\n",
    "\n",
    "class BookMyTicket:\n",
    "    def __init__(self, availableTickets):\n",
    "        self.availableTickets = availableTickets\n",
    "        \n",
    "    def bookTicket(self, requestedTickets):\n",
    "        print(\"Available Tickets: \", self.availableTickets)\n",
    "        if self.availableTickets >= requestedTickets:\n",
    "            print(\"Booking tickets\")\n",
    "            print(\"Allocating seats\")\n",
    "            print(\"Processing payment\")\n",
    "            self.availableTickets -= requestedTickets\n",
    "        else:\n",
    "            print(\"Sorry, not enough tickets available\")\n",
    "\n",
    "obj = BookMyTicket(10)\n",
    "t1 = Thread(target=obj.bookTicket, args=[4])\n",
    "t2 = Thread(target=obj.bookTicket, args=[4])\n",
    "t3 = Thread(target=obj.bookTicket, args=[4])\n",
    "t1.start()\n",
    "t2.start()\n",
    "t3.start()"
   ]
  },
  {
   "cell_type": "code",
   "execution_count": 127,
   "metadata": {},
   "outputs": [
    {
     "name": "stdout",
     "output_type": "stream",
     "text": [
      "Available Tickets:  10\n",
      "Booking tickets\n",
      "Allocating seats\n",
      "Processing payment\n",
      "Available Tickets:  6\n",
      "Booking tickets\n",
      "Allocating seats\n",
      "Processing payment\n",
      "Available Tickets:  2\n",
      "Sorry, not enough tickets available\n"
     ]
    }
   ],
   "source": [
    "## above program has problem with multiple threads booking same tickets and cause over-booking\n",
    "## to avoid this, use concept of thread syncronization using locks as follows\n",
    "\n",
    "from threading import *\n",
    "\n",
    "class BookMyTicket:\n",
    "    def __init__(self, availableTickets):\n",
    "        self.availableTickets = availableTickets\n",
    "        #self.lock = Lock() # create lock object \n",
    "        self.lock = Semaphore() #or use semaphore instead of Lock(), it will work in same manner\n",
    "        \n",
    "    def bookTicket(self, requestedTickets):\n",
    "        self.lock.acquire() # acquire the lock so only one thread can call this function at a time, others will wait\n",
    "        print(\"Available Tickets: \", self.availableTickets)\n",
    "        if self.availableTickets >= requestedTickets:\n",
    "            print(\"Booking tickets\")\n",
    "            print(\"Allocating seats\")\n",
    "            print(\"Processing payment\")\n",
    "            self.availableTickets -= requestedTickets\n",
    "        else:\n",
    "            print(\"Sorry, not enough tickets available\")\n",
    "\n",
    "        self.lock.release() # release the lock after done\n",
    "\n",
    "obj = BookMyTicket(10)\n",
    "t1 = Thread(target=obj.bookTicket, args=[4])\n",
    "t2 = Thread(target=obj.bookTicket, args=[4])\n",
    "t3 = Thread(target=obj.bookTicket, args=[4])\n",
    "t1.start()\n",
    "t2.start()\n",
    "t3.start()"
   ]
  },
  {
   "cell_type": "code",
   "execution_count": 147,
   "metadata": {},
   "outputs": [
    {
     "name": "stdout",
     "output_type": "stream",
     "text": [
      "Item added\n",
      "Item added\n",
      "Item added\n",
      "Item added\n",
      "Shipping orders ['product 1', 'product 2', 'product 3', 'product 4']\n"
     ]
    }
   ],
   "source": [
    "## thread communication\n",
    "from threading import *\n",
    "from time import *\n",
    "\n",
    "class Producer:\n",
    "    def __init__(self):\n",
    "        self.products = []\n",
    "        self.ordersReady = False\n",
    "    \n",
    "    def produce(self):\n",
    "        for i in range(1,5):\n",
    "            self.products.append(\"product {}\".format(i))\n",
    "            sleep(1)\n",
    "            print(\"Item added\")\n",
    "        self.ordersReady = True\n",
    "        \n",
    "class Consumer:\n",
    "    def __init__(self, producer):\n",
    "        self.producer = producer\n",
    "    \n",
    "    def consume(self):\n",
    "        while self.producer.ordersReady == False:\n",
    "            sleep(0.2)\n",
    "        print(\"Shipping orders\", self.producer.products)\n",
    "    \n",
    "p = Producer()\n",
    "c = Consumer(p)\n",
    "\n",
    "t1 = Thread(target=p.produce)\n",
    "t2 = Thread(target=c.consume)\n",
    "\n",
    "t1.start()\n",
    "t2.start()"
   ]
  },
  {
   "cell_type": "code",
   "execution_count": 148,
   "metadata": {},
   "outputs": [
    {
     "name": "stdout",
     "output_type": "stream",
     "text": [
      "Item added\n",
      "Item added\n",
      "Item added\n",
      "Item added\n",
      "Shipping orders ['product 1', 'product 2', 'product 3', 'product 4']\n"
     ]
    }
   ],
   "source": [
    "# thread communication using wait() and notify() methods\n",
    "from threading import *\n",
    "from time import *\n",
    "\n",
    "class Producer:\n",
    "    def __init__(self):\n",
    "        self.products = []\n",
    "        self.c = Condition() # needed for wait()/notify()\n",
    "    \n",
    "    def produce(self):\n",
    "        self.c.acquire()  # acquire the lock first\n",
    "        for i in range(1,5):\n",
    "            self.products.append(\"product {}\".format(i))\n",
    "            sleep(1)\n",
    "            print(\"Item added\")\n",
    "        self.c.notify() # notify the threads waiting for this thread to finish job\n",
    "        self.c.release() # release the lock\n",
    "        \n",
    "class Consumer:\n",
    "    def __init__(self, producer):\n",
    "        self.producer = producer\n",
    "    \n",
    "    def consume(self):\n",
    "        self.producer.c.acquire()\n",
    "        self.producer.c.wait(timeout=0)\n",
    "        self.producer.c.release()\n",
    "        print(\"Shipping orders\", self.producer.products)\n",
    "    \n",
    "p = Producer()\n",
    "c = Consumer(p)\n",
    "\n",
    "t1 = Thread(target=p.produce)\n",
    "t2 = Thread(target=c.consume)\n",
    "\n",
    "t1.start()\n",
    "t2.start()"
   ]
  },
  {
   "cell_type": "code",
   "execution_count": 149,
   "metadata": {},
   "outputs": [
    {
     "name": "stdout",
     "output_type": "stream",
     "text": [
      "b'<!doctype html><html itemscope=\"\" itemtype=\"http://schema.org/WebPage\" lang=\"en\"><head><meta content=\"Search the world\\'s information, including webpages, images, videos and more. Google has many special features to help you find exactly what you\\'re looking for.\" name=\"description\"><meta content=\"noodp\" name=\"robots\"><meta content=\"text/html; charset=UTF-8\" http-equiv=\"Content-Type\"><meta content=\"/images/branding/googleg/1x/googleg_standard_color_128dp.png\" itemprop=\"image\"><title>Google</title><script nonce=\"KdGP4HsUxDMCjhQze9cMpw==\">(function(){window.google={kEI:\\'fSUoXIv8FcHYtQXBkb7IDA\\',kEXPI:\\'0,18167,1335580,57,1957,1017,1406,698,527,590,141,618,132,228,820,30,524,27,144,489,43,805,19,77,541,5,2335679,168,32,68,302921,26305,1294,12383,4855,32692,15247,867,10761,1402,6381,3335,2,2,6801,363,3320,1263,4242,224,887,130,1201,260,5110,572,835,284,2,1306,2431,59,2,1,3,1297,284,4039,3390,8,302,1267,774,2115,132,1410,1442,1500,390,530,621,5,2,2,1493,256,742,2067,182,283,1822,1314,669,536,514,464,1344,386,743,268,81,7,1,2,25,446,17,620,29,983,6,406,446,12,466,2,1379,769,536,695,3395,896,313,794,82,412,2,554,2634,381,286,948,12,1208,401,259,298,269,304,145,155,37,462,718,1326,38,484,47,590,490,545,739,297,498,292,365,789,270,499,765,431,48,259,2,366,265,217,1221,824,141,159,2,676,45,8,9,31,1707,13,10,660,97,167,82,247,1116,411,347,192,53,124,8,22,479,758,839,11,10,620,448,16,87,100,485,17,1,260,6,38,52,279,135,137,130,154,89,17,82,103,144,103,21,67,383,122,2,83,340,1235,10,5971408,2554,233,5997368,90,145,2799950,4,1572,549,332,445,1,2,80,1,900,583,9,304,1,8,1,2,2132,1,1,1,1,1,414,1,748,141,59,349,2,2,373,3,7,362,81,3,6,71,1,9,9,2,1,18,1,2,4,1,1,2,1,1,100,1,29,8,21,1,1,1,1,1,1,1,1,1,1,1,1,1,30,1,1,3,1,2,1,1,1,1,1,1,68,5,11,2,2,1,1,1,2,2,5,18,12,9,6,2,2,4,2,2,4,12,4,3,22306730\\',authuser:0,kscs:\\'c9c918f0_fSUoXIv8FcHYtQXBkb7IDA\\',kGL:\\'US\\'};google.kHL=\\'en\\';})();google.time=function(){return(new Date).getTime()};(function(){google.lc=[];google.li=0;google.getEI=function(a){for(var b;a&&(!a.getAttribute||!(b=a.getAttribute(\"eid\")));)a=a.parentNode;return b||google.kEI};google.getLEI=function(a){for(var b=null;a&&(!a.getAttribute||!(b=a.getAttribute(\"leid\")));)a=a.parentNode;return b};google.https=function(){return\"https:\"==window.location.protocol};google.ml=function(){return null};google.log=function(a,b,e,c,g){if(a=google.logUrl(a,b,e,c,g)){b=new Image;var d=google.lc,f=google.li;d[f]=b;b.onerror=b.onload=b.onabort=function(){delete d[f]};google.vel&&google.vel.lu&&google.vel.lu(a);b.src=a;google.li=f+1}};google.logUrl=function(a,b,e,c,g){var d=\"\",f=google.ls||\"\";e||-1!=b.search(\"&ei=\")||(d=\"&ei=\"+google.getEI(c),-1==b.search(\"&lei=\")&&(c=google.getLEI(c))&&(d+=\"&lei=\"+c));c=\"\";!e&&google.cshid&&-1==b.search(\"&cshid=\")&&\"slh\"!=a&&(c=\"&cshid=\"+google.cshid);a=e||\"/\"+(g||\"gen_204\")+\"?atyp=i&ct=\"+a+\"&cad=\"+b+d+f+\"&zx=\"+google.time()+c;/^http:/i.test(a)&&google.https()&&(google.ml(Error(\"a\"),!1,{src:a,glmm:1}),a=\"\");return a};}).call(this);(function(){google.y={};google.x=function(a,b){if(a)var c=a.id;else{do c=Math.random();while(google.y[c])}google.y[c]=[a,b];return!1};google.lm=[];google.plm=function(a){google.lm.push.apply(google.lm,a)};google.lq=[];google.load=function(a,b,c){google.lq.push([[a],b,c])};google.loadAll=function(a,b){google.lq.push([a,b])};}).call(this);google.f={};</script><script nonce=\"KdGP4HsUxDMCjhQze9cMpw==\">var a=window.location,b=a.href.indexOf(\"#\");if(0<=b){var c=a.href.substring(b+1);/(^|&)q=/.test(c)&&-1==c.indexOf(\"#\")&&a.replace(\"/search?\"+c.replace(/(^|&)fp=[^&]*/g,\"\")+\"&cad=h\")};</script><style>#gbar,#guser{font-size:13px;padding-top:1px !important;}#gbar{height:22px}#guser{padding-bottom:7px !important;text-align:right}.gbh,.gbd{border-top:1px solid #c9d7f1;font-size:1px}.gbh{height:0;position:absolute;top:24px;width:100%}@media all{.gb1{height:22px;margin-right:.5em;vertical-align:top}#gbar{float:left}}a.gb1,a.gb4{text-decoration:underline !important}a.gb1,a.gb4{color:#00c !important}.gbi .gb4{color:#dd8e27 !important}.gbf .gb4{color:#900 !important}\\n</style><style>body,td,a,p,.h{font-family:arial,sans-serif}body{margin:0;overflow-y:scroll}#gog{padding:3px 8px 0}td{line-height:.8em}.gac_m td{line-height:17px}form{margin-bottom:20px}.h{color:#36c}.q{color:#00c}.ts td{padding:0}.ts{border-collapse:collapse}em{font-weight:bold;font-style:normal}.lst{height:25px;width:496px}.gsfi,.lst{font:18px arial,sans-serif}.gsfs{font:17px arial,sans-serif}.ds{display:inline-box;display:inline-block;margin:3px 0 4px;margin-left:4px}input{font-family:inherit}a.gb1,a.gb2,a.gb3,a.gb4{color:#11c !important}body{background:#fff;color:black}a{color:#11c;text-decoration:none}a:hover,a:active{text-decoration:underline}.fl a{color:#36c}a:visited{color:#551a8b}a.gb1,a.gb4{text-decoration:underline}a.gb3:hover{text-decoration:none}#ghead a.gb2:hover{color:#fff !important}.sblc{padding-top:5px}.sblc a{display:block;margin:2px 0;margin-left:13px;font-size:11px}.lsbb{background:#eee;border:solid 1px;border-color:#ccc #999 #999 #ccc;height:30px}.lsbb{display:block}.ftl,#fll a{display:inline-block;margin:0 12px}.lsb{background:url(/images/nav_logo229.png) 0 -261px repeat-x;border:none;color:#000;cursor:pointer;height:30px;margin:0;outline:0;font:15px arial,sans-serif;vertical-align:top}.lsb:active{background:#ccc}.lst:focus{outline:none}</style><script nonce=\"KdGP4HsUxDMCjhQze9cMpw==\"></script></head><body bgcolor=\"#fff\"><script nonce=\"KdGP4HsUxDMCjhQze9cMpw==\">(function(){var src=\\'/images/nav_logo229.png\\';var iesg=false;document.body.onload = function(){window.n && window.n();if (document.images){new Image().src=src;}\\nif (!iesg){document.f&&document.f.q.focus();document.gbqf&&document.gbqf.q.focus();}\\n}\\n})();</script><div id=\"mngb\"> <div id=gbar><nobr><b class=gb1>Search</b> <a class=gb1 href=\"https://www.google.com/imghp?hl=en&tab=wi\">Images</a> <a class=gb1 href=\"https://maps.google.com/maps?hl=en&tab=wl\">Maps</a> <a class=gb1 href=\"https://play.google.com/?hl=en&tab=w8\">Play</a> <a class=gb1 href=\"https://www.youtube.com/?gl=US&tab=w1\">YouTube</a> <a class=gb1 href=\"https://news.google.com/nwshp?hl=en&tab=wn\">News</a> <a class=gb1 href=\"https://mail.google.com/mail/?tab=wm\">Gmail</a> <a class=gb1 href=\"https://drive.google.com/?tab=wo\">Drive</a> <a class=gb1 style=\"text-decoration:none\" href=\"https://www.google.com/intl/en/about/products?tab=wh\"><u>More</u> &raquo;</a></nobr></div><div id=guser width=100%><nobr><span id=gbn class=gbi></span><span id=gbf class=gbf></span><span id=gbe></span><a href=\"http://www.google.com/history/optout?hl=en\" class=gb4>Web History</a> | <a  href=\"/preferences?hl=en\" class=gb4>Settings</a> | <a target=_top id=gb_70 href=\"https://accounts.google.com/ServiceLogin?hl=en&passive=true&continue=https://www.google.com/\" class=gb4>Sign in</a></nobr></div><div class=gbh style=left:0></div><div class=gbh style=right:0></div> </div><center><br clear=\"all\" id=\"lgpd\"><div id=\"lga\"><img alt=\"Google\" height=\"92\" src=\"/images/branding/googlelogo/1x/googlelogo_white_background_color_272x92dp.png\" style=\"padding:28px 0 14px\" width=\"272\" id=\"hplogo\" onload=\"window.lol&&lol()\"><br><br></div><form action=\"/search\" name=\"f\"><table cellpadding=\"0\" cellspacing=\"0\"><tr valign=\"top\"><td width=\"25%\">&nbsp;</td><td align=\"center\" nowrap=\"\"><input name=\"ie\" value=\"ISO-8859-1\" type=\"hidden\"><input value=\"en\" name=\"hl\" type=\"hidden\"><input name=\"source\" type=\"hidden\" value=\"hp\"><input name=\"biw\" type=\"hidden\"><input name=\"bih\" type=\"hidden\"><div class=\"ds\" style=\"height:32px;margin:4px 0\"><input style=\"color:#000;margin:0;padding:5px 8px 0 6px;vertical-align:top\" autocomplete=\"off\" class=\"lst\" value=\"\" title=\"Google Search\" maxlength=\"2048\" name=\"q\" size=\"57\"></div><br style=\"line-height:0\"><span class=\"ds\"><span class=\"lsbb\"><input class=\"lsb\" value=\"Google Search\" name=\"btnG\" type=\"submit\"></span></span><span class=\"ds\"><span class=\"lsbb\"><input class=\"lsb\" value=\"I\\'m Feeling Lucky\" name=\"btnI\" onclick=\"if(this.form.q.value)this.checked=1; else top.location=\\'/doodles/\\'\" type=\"submit\"></span></span></td><td class=\"fl sblc\" align=\"left\" nowrap=\"\" width=\"25%\"><a href=\"/advanced_search?hl=en&amp;authuser=0\">Advanced search</a><a href=\"/language_tools?hl=en&amp;authuser=0\">Language tools</a></td></tr></table><input id=\"gbv\" name=\"gbv\" type=\"hidden\" value=\"1\"><script nonce=\"KdGP4HsUxDMCjhQze9cMpw==\">(function(){var a,b=\"1\";if(document&&document.getElementById)if(\"undefined\"!=typeof XMLHttpRequest)b=\"2\";else if(\"undefined\"!=typeof ActiveXObject){var c,d,e=[\"MSXML2.XMLHTTP.6.0\",\"MSXML2.XMLHTTP.3.0\",\"MSXML2.XMLHTTP\",\"Microsoft.XMLHTTP\"];for(c=0;d=e[c++];)try{new ActiveXObject(d),b=\"2\"}catch(h){}}a=b;if(\"2\"==a&&-1==location.search.indexOf(\"&gbv=2\")){var f=google.gbvu,g=document.getElementById(\"gbv\");g&&(g.value=a);f&&window.setTimeout(function(){location.href=f},0)};}).call(this);</script></form><div id=\"gac_scont\"></div><div style=\"font-size:83%;min-height:3.5em\"><br></div><span id=\"footer\"><div style=\"font-size:10pt\"><div style=\"margin:19px auto;text-align:center\" id=\"fll\"><a href=\"/intl/en/ads/\">Advertising\\xa0Programs</a><a href=\"/services/\">Business Solutions</a><a href=\"https://plus.google.com/116899029375914044550\" rel=\"publisher\">+Google</a><a href=\"/intl/en/about.html\">About Google</a></div></div><p style=\"color:#767676;font-size:8pt\">&copy; 2018 - <a href=\"/intl/en/policies/privacy/\">Privacy</a> - <a href=\"/intl/en/policies/terms/\">Terms</a></p></span></center><script nonce=\"KdGP4HsUxDMCjhQze9cMpw==\">(function(){window.google.cdo={height:0,width:0};(function(){var a=window.innerWidth,b=window.innerHeight;if(!a||!b){var c=window.document,d=\"CSS1Compat\"==c.compatMode?c.documentElement:c.body;a=d.clientWidth;b=d.clientHeight}a&&b&&(a!=google.cdo.width||b!=google.cdo.height)&&google.log(\"\",\"\",\"/client_204?&atyp=i&biw=\"+a+\"&bih=\"+b+\"&ei=\"+google.kEI);}).call(this);})();(function(){var u=\\'/xjs/_/js/k\\\\x3dxjs.hp.en_US.KJ_Fnp06uxY.O/m\\\\x3dsb_he,d/am\\\\x3dYsAs/rt\\\\x3dj/d\\\\x3d1/rs\\\\x3dACT90oFlnOsP7wehn4pLfKxEh7BnTynqaQ\\';var b={gen204:\"xjsls\",clearcut:31};setTimeout(function(){var a=document.createElement(\"script\");a.src=u;google.timers&&google.timers.load&&google.tick&&google.tick(\"load\",b);document.body.appendChild(a)},0);})();(function(){window.google.xjsu=\\'/xjs/_/js/k\\\\x3dxjs.hp.en_US.KJ_Fnp06uxY.O/m\\\\x3dsb_he,d/am\\\\x3dYsAs/rt\\\\x3dj/d\\\\x3d1/rs\\\\x3dACT90oFlnOsP7wehn4pLfKxEh7BnTynqaQ\\';})();function _DumpException(e){throw e;}\\n(function(){var pmc=\\'{\\\\x22Qnk92g\\\\x22:{},\\\\x22U5B21g\\\\x22:{},\\\\x22YFCs/g\\\\x22:{},\\\\x22ZI/YVQ\\\\x22:{},\\\\x22d\\\\x22:{},\\\\x22sb_he\\\\x22:{\\\\x22agen\\\\x22:true,\\\\x22cgen\\\\x22:true,\\\\x22client\\\\x22:\\\\x22heirloom-hp\\\\x22,\\\\x22dh\\\\x22:true,\\\\x22dhqt\\\\x22:true,\\\\x22ds\\\\x22:\\\\x22\\\\x22,\\\\x22ffql\\\\x22:\\\\x22en\\\\x22,\\\\x22fl\\\\x22:true,\\\\x22host\\\\x22:\\\\x22google.com\\\\x22,\\\\x22isbh\\\\x22:28,\\\\x22jsonp\\\\x22:true,\\\\x22msgs\\\\x22:{\\\\x22cibl\\\\x22:\\\\x22Clear Search\\\\x22,\\\\x22dym\\\\x22:\\\\x22Did you mean:\\\\x22,\\\\x22lcky\\\\x22:\\\\x22I\\\\\\\\u0026#39;m Feeling Lucky\\\\x22,\\\\x22lml\\\\x22:\\\\x22Learn more\\\\x22,\\\\x22oskt\\\\x22:\\\\x22Input tools\\\\x22,\\\\x22psrc\\\\x22:\\\\x22This search was removed from your \\\\\\\\u003Ca href\\\\x3d\\\\\\\\\\\\x22/history\\\\\\\\\\\\x22\\\\\\\\u003EWeb History\\\\\\\\u003C/a\\\\\\\\u003E\\\\x22,\\\\x22psrl\\\\x22:\\\\x22Remove\\\\x22,\\\\x22sbit\\\\x22:\\\\x22Search by image\\\\x22,\\\\x22srch\\\\x22:\\\\x22Google Search\\\\x22},\\\\x22ovr\\\\x22:{},\\\\x22pq\\\\x22:\\\\x22\\\\x22,\\\\x22refpd\\\\x22:true,\\\\x22rfs\\\\x22:[],\\\\x22sbpl\\\\x22:24,\\\\x22sbpr\\\\x22:24,\\\\x22scd\\\\x22:10,\\\\x22sce\\\\x22:5,\\\\x22stok\\\\x22:\\\\x22pBwDp6k4AoO8QnlbYrOe_Awlsnk\\\\x22,\\\\x22uhde\\\\x22:false}}\\';google.pmc=JSON.parse(pmc);})();(function(){var r=[\\'aa\\',\\'async\\',\\'ipv6\\',\\'mu\\',\\'sf\\'];google.plm(r);})();</script>     </body></html>'\n"
     ]
    }
   ],
   "source": [
    "# download webpage\n",
    "import urllib.request\n",
    "\n",
    "try:\n",
    "    url = urllib.request.urlopen(\"https://google.com\")\n",
    "    content = url.read()\n",
    "    url.close()\n",
    "except urllib.error.HTTPError:\n",
    "    print(\"URL not found\")\n",
    "    exit()\n",
    "\n",
    "print(content)"
   ]
  },
  {
   "cell_type": "code",
   "execution_count": 3,
   "metadata": {},
   "outputs": [
    {
     "name": "stdout",
     "output_type": "stream",
     "text": [
      "os.stat_result(st_mode=33188, st_ino=15751273, st_dev=16777220, st_nlink=1, st_uid=501, st_gid=20, st_size=1494, st_atime=1479090066, st_mtime=1427550743, st_ctime=1427550743)\n"
     ]
    }
   ],
   "source": [
    "import os\n",
    "zinfo = os.stat(\"./Notes.txt\")\n",
    "print(zinfo)"
   ]
  },
  {
   "cell_type": "code",
   "execution_count": null,
   "metadata": {},
   "outputs": [],
   "source": []
  },
  {
   "cell_type": "code",
   "execution_count": null,
   "metadata": {},
   "outputs": [],
   "source": []
  }
 ],
 "metadata": {
  "kernelspec": {
   "display_name": "Python 3",
   "language": "python",
   "name": "python3"
  },
  "language_info": {
   "codemirror_mode": {
    "name": "ipython",
    "version": 3
   },
   "file_extension": ".py",
   "mimetype": "text/x-python",
   "name": "python",
   "nbconvert_exporter": "python",
   "pygments_lexer": "ipython3",
   "version": "3.7.1"
  }
 },
 "nbformat": 4,
 "nbformat_minor": 2
}
