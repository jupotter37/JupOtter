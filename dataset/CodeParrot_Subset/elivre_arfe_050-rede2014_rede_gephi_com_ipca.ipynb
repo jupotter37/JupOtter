{
 "cells": [
  {
   "cell_type": "markdown",
   "metadata": {},
   "source": [
    "# rede_gephi_com_ipca"
   ]
  },
  {
   "cell_type": "code",
   "execution_count": null,
   "metadata": {},
   "outputs": [],
   "source": [
    "ano_eleicao = '2014'"
   ]
  },
  {
   "cell_type": "markdown",
   "metadata": {},
   "source": [
    "IPCA de outubro de 2014 a outubro de 2018 pela calculadora do Banco Central\n",
    "\n",
    "https://www3.bcb.gov.br/CALCIDADAO/publico/corrigirPorIndice.do?method=corrigirPorIndice"
   ]
  },
  {
   "cell_type": "code",
   "execution_count": null,
   "metadata": {},
   "outputs": [],
   "source": [
    "IPCA_2014_2018 = 1.27872850"
   ]
  },
  {
   "cell_type": "code",
   "execution_count": 3,
   "metadata": {},
   "outputs": [],
   "source": [
    "import sys\n",
    "sys.path.append('../')\n",
    "import mod_tse as mtse"
   ]
  },
  {
   "cell_type": "code",
   "execution_count": 4,
   "metadata": {},
   "outputs": [],
   "source": [
    "import os\n",
    "home = os.environ[\"HOME\"]\n",
    "local_dir = f'{home}/temp'"
   ]
  },
  {
   "cell_type": "code",
   "execution_count": 5,
   "metadata": {},
   "outputs": [],
   "source": [
    "dbschema = f'rede{ano_eleicao}'\n",
    "\n",
    "table_gephi_edges = f\"{dbschema}.gephi_edges_{ano_eleicao}\"\n",
    "table_gephi_edges_com_ipca = f\"{dbschema}.gephi_edges_com_ipca_2018\"\n",
    "\n",
    "table_gephi_nodes = f\"{dbschema}.gephi_nodes_{ano_eleicao}\"\n",
    "table_gephi_nodes_com_ipca = f\"{dbschema}.gephi_nodes_com_ipca_2018\"\n",
    "\n",
    "table_receitas = f\"{dbschema}.receitas_{ano_eleicao}\"\n",
    "table_receitas_com_ipca = f\"{dbschema}.receitas_com_ipca_2018\"\n",
    "\n",
    "table_candidaturas = f\"{dbschema}.candidaturas_{ano_eleicao}\"\n",
    "table_candidaturas_com_ipca = f\"{dbschema}.candidaturas_com_ipca_2018\"\n"
   ]
  },
  {
   "cell_type": "markdown",
   "metadata": {},
   "source": [
    "### ATUALIZA TABELAS PARA REDE COM IPCA"
   ]
  },
  {
   "cell_type": "markdown",
   "metadata": {},
   "source": [
    "### CANDIDATURAS"
   ]
  },
  {
   "cell_type": "code",
   "execution_count": 6,
   "metadata": {},
   "outputs": [],
   "source": [
    "query_crate_table_candidaturas_ipca = f\"\"\"\n",
    "    drop table if exists {table_candidaturas_com_ipca} cascade;\n",
    "    create table {table_candidaturas_com_ipca} as\n",
    "    select * from {table_candidaturas}\n",
    "    ;\n",
    "    \n",
    "    update {table_candidaturas_com_ipca}\n",
    "        set receita_total = receita_total * {IPCA_2014_2018},\n",
    "            despesa_total = despesa_total * {IPCA_2014_2018},\n",
    "            custo_voto    = custo_voto * {IPCA_2014_2018}\n",
    "    ;\n",
    "\"\"\"\n",
    "\n",
    "mtse.execute_query(query_crate_table_candidaturas_ipca)"
   ]
  },
  {
   "cell_type": "markdown",
   "metadata": {},
   "source": [
    "### RECEITAS"
   ]
  },
  {
   "cell_type": "code",
   "execution_count": 7,
   "metadata": {},
   "outputs": [],
   "source": [
    "query_crate_table_receitas_ipca = f\"\"\"\n",
    "    drop  table if exists  {table_receitas_com_ipca}; \n",
    "    create table  {table_receitas_com_ipca} as\n",
    "    select * from {table_receitas};\n",
    "    \n",
    "    update {table_receitas_com_ipca}\n",
    "        set receita_valor = receita_valor * {IPCA_2014_2018}\n",
    "    ;\n",
    "\"\"\"\n",
    "\n",
    "mtse.execute_query(query_crate_table_receitas_ipca)"
   ]
  },
  {
   "cell_type": "code",
   "execution_count": null,
   "metadata": {},
   "outputs": [],
   "source": []
  },
  {
   "cell_type": "code",
   "execution_count": 8,
   "metadata": {},
   "outputs": [],
   "source": [
    "def query_update_valores(table):\n",
    "    colunas_valor = [\n",
    "        'valor_doado',\n",
    "        'valor_recebido',\n",
    "        'fonte_fundo_part',\n",
    "        'fonte_fundo_esp',\n",
    "        'fonte_outros_rec',\n",
    "        'RP',\n",
    "        'RPF',\n",
    "        'RPJ',\n",
    "        'DPI',\n",
    "        'RPP',\n",
    "        'RFC',\n",
    "        'CBRE',\n",
    "        'RAF',\n",
    "        'RONI',\n",
    "        'ROC',\n",
    "        'DRC',\n",
    "        'receita_total',\n",
    "        'despesa_total',\n",
    "        'custo_voto' \n",
    "    ]          \n",
    "    for cv in colunas_valor:\n",
    "        mtse.execute_query(f\"\"\"\n",
    "                            update  {table}\n",
    "                                set {cv} = {cv} * {IPCA_2014_2018};\n",
    "                           \"\"\"\n",
    "                          )"
   ]
  },
  {
   "cell_type": "code",
   "execution_count": null,
   "metadata": {},
   "outputs": [],
   "source": []
  },
  {
   "cell_type": "markdown",
   "metadata": {},
   "source": [
    "### NODES"
   ]
  },
  {
   "cell_type": "code",
   "execution_count": 9,
   "metadata": {},
   "outputs": [],
   "source": [
    "def query_crate_table_nodes_ipca():\n",
    "    mtse.execute_query(f\"\"\"\n",
    "    drop  table if exists {table_gephi_nodes_com_ipca} ; \n",
    "    create table {table_gephi_nodes_com_ipca} as\n",
    "    select * from {table_gephi_nodes};\n",
    "    \"\"\")\n",
    "    \n",
    "    query_update_valores(table_gephi_nodes_com_ipca)\n",
    "    \n",
    "\n",
    "query_crate_table_nodes_ipca()"
   ]
  },
  {
   "cell_type": "markdown",
   "metadata": {},
   "source": [
    "### EDGES"
   ]
  },
  {
   "cell_type": "code",
   "execution_count": 10,
   "metadata": {},
   "outputs": [],
   "source": [
    "query_crate_table_edges_ipca  = f\"\"\"\n",
    "    drop  table if exists {table_gephi_edges_com_ipca} ; \n",
    "    create table {table_gephi_edges_com_ipca} as\n",
    "    select * from {table_gephi_edges};\n",
    "\"\"\"\n",
    "\n",
    "query_crate_table_edges_weight_ipca  = f\"\"\"\n",
    "    update {table_gephi_edges_com_ipca}\n",
    "        set \"Weight\" = \"Weight\" * {IPCA_2014_2018}\n",
    "    ;\n",
    "\"\"\"\n",
    "\n",
    " \n",
    "mtse.execute_query(query_crate_table_edges_ipca)\n",
    "mtse.execute_query(query_crate_table_edges_weight_ipca)\n",
    "query_update_valores(table_gephi_edges_com_ipca)"
   ]
  },
  {
   "cell_type": "code",
   "execution_count": 11,
   "metadata": {},
   "outputs": [
    {
     "name": "stdout",
     "output_type": "stream",
     "text": [
      "2020-10-21 12:05:20.159617\n"
     ]
    }
   ],
   "source": [
    "import datetime\n",
    "print(datetime.datetime.now())\n"
   ]
  },
  {
   "cell_type": "code",
   "execution_count": null,
   "metadata": {},
   "outputs": [],
   "source": []
  }
 ],
 "metadata": {
  "kernelspec": {
   "display_name": "Python 3",
   "language": "python",
   "name": "python3"
  },
  "language_info": {
   "codemirror_mode": {
    "name": "ipython",
    "version": 3
   },
   "file_extension": ".py",
   "mimetype": "text/x-python",
   "name": "python",
   "nbconvert_exporter": "python",
   "pygments_lexer": "ipython3",
   "version": "3.7.6"
  }
 },
 "nbformat": 4,
 "nbformat_minor": 4
}
