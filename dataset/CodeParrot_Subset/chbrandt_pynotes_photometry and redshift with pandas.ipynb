{
 "cells": [
  {
   "cell_type": "markdown",
   "metadata": {},
   "source": [
    "# Exploring photometric data for redshift estimation\n",
    "\n",
    " Redshift is the property of an astronomical object that quantifies its distance from us in the Universe. The effect of redshift (in astronomy) is an expression of the most known Doppler effect: the frequency of (eletromagnetic) waves emitted by a source are perceived differently (high or lower) by an observer when the source is moving (towards or away from the observer). In particular, in astronomy, because of the expansion of the Universe we often see the light of the objects -- _i.e._, galaxies -- shifted to longer wavelenghts and the values assumed for this quantity -- symbol _z_ -- are greater than zero. Redshifts can assume negative values, in this case we say \"the object is blueshitfed\" and it happens for some close galaxies or stars.\n",
    "\n",
    " The way redshifts are measured is through the measurement of the position -- the frequency --  of an object spectral lines. Because spectral lines are characteristic to each atomic element, whenever they are identified in a different position we can quantify how much that object is moving relative to us. Such techique baptises the measured redshift as _spectrographic redshift_, and is the original and precise way of measuring it.\n",
    " \n",
    " The problem with spectrographic redshift is their cost of production. The process -- spectroscopy -- necessary for such measurement demands a particular kind of instrument besides a considerable amount of time for the object observation. Such scenario gets worse and even inconceivable in the current sky survey project, where sets of tens of thousands of objects are observed every night.\n",
    " \n",
    " To deal with such limitation, astronomers have develop a set of techniques to estimate _photometric redshifts_. Long story short, such techniques rely on \"measure\" an object's redshift based on its spectral energy distribution -- the amount of energy emitted by the object in different frequencies. The assumption used here is that similar (kinds of) objects will have simiar spectral energy distributions(SED); and if we know the (spectroscopy) redshift for some objects of a kind we can then compare their SED with all the others and estimate their (photometric) redshift."
   ]
  },
  {
   "cell_type": "code",
   "execution_count": null,
   "metadata": {
    "collapsed": true
   },
   "outputs": [],
   "source": []
  }
 ],
 "metadata": {
  "kernelspec": {
   "display_name": "Python 2",
   "language": "python",
   "name": "python2"
  },
  "language_info": {
   "codemirror_mode": {
    "name": "ipython",
    "version": 2
   },
   "file_extension": ".py",
   "mimetype": "text/x-python",
   "name": "python",
   "nbconvert_exporter": "python",
   "pygments_lexer": "ipython2",
   "version": "2.7.11"
  }
 },
 "nbformat": 4,
 "nbformat_minor": 0
}
