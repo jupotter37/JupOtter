{
 "cells": [
  {
   "cell_type": "code",
   "execution_count": null,
   "metadata": {},
   "outputs": [],
   "source": [
    "from IPython.core.display import HTML\n",
    "with open (\"../style.css\", \"r\") as file:\n",
    "    css = file.read()\n",
    "HTML(css)"
   ]
  },
  {
   "cell_type": "markdown",
   "metadata": {},
   "source": [
    "# Resolving Conflicts Using *Precedence Declarations*\n",
    "\n",
    "This file shows how *shift/reduce* and *reduce/reduce* conflicts can be resolved using *operator precedence declarations*.\n",
    "The following grammar is *ambiguous* because it does not specify the precedence of the arithmetical operators:\n",
    "```\n",
    "    expr : expr '+' expr\n",
    "         | expr '-' expr\n",
    "         | expr '*' expr\n",
    "         | expr '/' expr\n",
    "         | expr '^' expr\n",
    "         | '(' expr ')'\n",
    "         | NUMBER      \n",
    "         ;\n",
    "```\n",
    "We will see how the use of precedence declarations can be used to resolve *shift/reduce-conflicts*."
   ]
  },
  {
   "cell_type": "markdown",
   "metadata": {},
   "source": [
    "## Specification of the Scanner\n",
    "\n",
    "We implement a minimal scanner for arithmetic expressions."
   ]
  },
  {
   "cell_type": "code",
   "execution_count": null,
   "metadata": {},
   "outputs": [],
   "source": [
    "import ply.lex as lex\n",
    "\n",
    "tokens = [ 'NUMBER' ]\n",
    "\n",
    "def t_NUMBER(t):\n",
    "    r'0|[1-9][0-9]*'\n",
    "    t.value = int(t.value)\n",
    "    return t\n",
    "\n",
    "literals = ['+', '-', '*', '/', '^', '(', ')']\n",
    "\n",
    "t_ignore  = ' \\t'\n",
    "\n",
    "def t_newline(t):\n",
    "    r'\\n+'\n",
    "    t.lexer.lineno += t.value.count('\\n')\n",
    "\n",
    "def t_error(t):\n",
    "    print(f\"Illegal character '{t.value[0]}'\")\n",
    "    t.lexer.skip(1)\n",
    "\n",
    "__file__ = 'main'\n",
    "\n",
    "lexer = lex.lex()"
   ]
  },
  {
   "cell_type": "markdown",
   "metadata": {},
   "source": [
    "## Specification of the Parser"
   ]
  },
  {
   "cell_type": "code",
   "execution_count": null,
   "metadata": {},
   "outputs": [],
   "source": [
    "import ply.yacc as yacc"
   ]
  },
  {
   "cell_type": "markdown",
   "metadata": {},
   "source": [
    "The *start variable* of our grammar is `expr`, but we don't have to specify that.  The default\n",
    "start variable is the first variable that is defined."
   ]
  },
  {
   "cell_type": "code",
   "execution_count": null,
   "metadata": {},
   "outputs": [],
   "source": [
    "start = 'expr'"
   ]
  },
  {
   "cell_type": "markdown",
   "metadata": {},
   "source": [
    "The following *operator precedence declarations* declare that the operators `'+'`and `'-'` have a lower precedence than the operators `'*'`and `'/'`.  The operator `'^'` has the highest precedence.  Furthermore, the declarations specify that the operators  `'+'`, `'-'`, `'*'`, and `'/'` are *left associative*, while the operator `'^'` is declared as *right associative* using the keyword `right`.\n",
    "Operators can also be defined as being *non-associative* using the keyword `nonassoc`."
   ]
  },
  {
   "cell_type": "code",
   "execution_count": null,
   "metadata": {},
   "outputs": [],
   "source": [
    "precedence = (\n",
    "    ('left', '+', '-') ,  # precedence 1\n",
    "    ('left', '*', '/'),   # precedence 2\n",
    "    ('right', '^')        # precedence 3\n",
    ")"
   ]
  },
  {
   "cell_type": "code",
   "execution_count": null,
   "metadata": {},
   "outputs": [],
   "source": [
    "def p_expr_plus(p):\n",
    "    \"expr : expr '+' expr\"\n",
    "    p[0] = ('+', p[1], p[3])\n",
    "    \n",
    "def p_expr_minus(p):\n",
    "    \"expr : expr '-' expr\"\n",
    "    p[0] = ('-', p[1], p[3])\n",
    "    \n",
    "def p_expr_mult(p): \n",
    "    \"expr : expr '*' expr\"\n",
    "    p[0] = ('*', p[1], p[3])\n",
    "    \n",
    "def p_expr_div(p): \n",
    "    \"expr : expr '/' expr\"\n",
    "    p[0] = ('/', p[1], p[3])    \n",
    "\n",
    "def p_expr_power(p): \n",
    "    \"expr : expr '^' expr\"\n",
    "    p[0] = ('^', p[1], p[3])\n",
    "\n",
    "def p_expr_paren(p): \n",
    "    \"expr : '(' expr ')'\"\n",
    "    p[0] = p[2]\n",
    "    \n",
    "def p_expr_NUMBER(p):\n",
    "    \"expr : NUMBER\"\n",
    "    p[0] = p[1]"
   ]
  },
  {
   "cell_type": "code",
   "execution_count": null,
   "metadata": {},
   "outputs": [],
   "source": [
    "def p_error(p):\n",
    "    if p:\n",
    "        print(f\"Syntax error at character number {p.lexer.lexpos} at token '{p.value}' in line {p.lexer.lineno}.\")\n",
    "    else:\n",
    "        print('Syntax error at end of input.')"
   ]
  },
  {
   "cell_type": "markdown",
   "metadata": {},
   "source": [
    "Setting the optional argument `write_tables` to `False` <B style=\"color:red\">is required</B> to prevent an obscure bug where the parser generator tries  to read an empty parse table."
   ]
  },
  {
   "cell_type": "code",
   "execution_count": null,
   "metadata": {},
   "outputs": [],
   "source": [
    "parser = yacc.yacc(write_tables=False, debug=True)"
   ]
  },
  {
   "cell_type": "markdown",
   "metadata": {},
   "source": [
    "As there are no warnings all conflicts have been resolved using the precedence declarations.\n",
    "Let's look at the action table that is generated.  "
   ]
  },
  {
   "cell_type": "code",
   "execution_count": null,
   "metadata": {
    "scrolled": false
   },
   "outputs": [],
   "source": [
    "!type parser.out"
   ]
  },
  {
   "cell_type": "code",
   "execution_count": null,
   "metadata": {
    "scrolled": true
   },
   "outputs": [],
   "source": [
    "!cat parser.out"
   ]
  },
  {
   "cell_type": "code",
   "execution_count": null,
   "metadata": {},
   "outputs": [],
   "source": [
    "%run ../ANTLR4-Python/AST-2-Dot.ipynb"
   ]
  },
  {
   "cell_type": "markdown",
   "metadata": {},
   "source": [
    "The function `test(s)` takes a string `s` as its argument an tries to parse this string.  If all goes well, an abstract syntax tree is returned.\n",
    "If the string can't be parsed,  an error message is printed by the parser."
   ]
  },
  {
   "cell_type": "code",
   "execution_count": null,
   "metadata": {},
   "outputs": [],
   "source": [
    "def test(s):\n",
    "    t = yacc.parse(s)\n",
    "    d = tuple2dot(t)\n",
    "    display(d)\n",
    "    return t"
   ]
  },
  {
   "cell_type": "code",
   "execution_count": null,
   "metadata": {},
   "outputs": [],
   "source": [
    "test('2^3*4+5')"
   ]
  },
  {
   "cell_type": "code",
   "execution_count": null,
   "metadata": {},
   "outputs": [],
   "source": [
    "test('1+2*3^4')"
   ]
  },
  {
   "cell_type": "code",
   "execution_count": null,
   "metadata": {},
   "outputs": [],
   "source": [
    "test('1 + 2 * -3^4')"
   ]
  },
  {
   "cell_type": "code",
   "execution_count": null,
   "metadata": {},
   "outputs": [],
   "source": []
  }
 ],
 "metadata": {
  "kernelspec": {
   "display_name": "Python 3 (ipykernel)",
   "language": "python",
   "name": "python3"
  },
  "language_info": {
   "codemirror_mode": {
    "name": "ipython",
    "version": 3
   },
   "file_extension": ".py",
   "mimetype": "text/x-python",
   "name": "python",
   "nbconvert_exporter": "python",
   "pygments_lexer": "ipython3",
   "version": "3.10.0"
  },
  "varInspector": {
   "cols": {
    "lenName": 16,
    "lenType": 16,
    "lenVar": 40
   },
   "kernels_config": {
    "python": {
     "delete_cmd_postfix": "",
     "delete_cmd_prefix": "del ",
     "library": "var_list.py",
     "varRefreshCmd": "print(var_dic_list())"
    },
    "r": {
     "delete_cmd_postfix": ") ",
     "delete_cmd_prefix": "rm(",
     "library": "var_list.r",
     "varRefreshCmd": "cat(var_dic_list()) "
    }
   },
   "types_to_exclude": [
    "module",
    "function",
    "builtin_function_or_method",
    "instance",
    "_Feature"
   ],
   "window_display": false
  }
 },
 "nbformat": 4,
 "nbformat_minor": 4
}
