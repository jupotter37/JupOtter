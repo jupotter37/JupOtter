{
 "cells": [
  {
   "cell_type": "markdown",
   "metadata": {},
   "source": [
    "PIR (Passive InfraRed) motion sensor\n",
    "==\n",
    "\n",
    "<img src=\"PIR01.png\" height=\"300\"/>"
   ]
  },
  {
   "cell_type": "code",
   "execution_count": null,
   "metadata": {
    "collapsed": true
   },
   "outputs": [],
   "source": [
    "#We will use \"RPi.GPIO\" and \"time\" Python libraries in our code\n",
    "import RPi.GPIO as GPIO\n",
    "import time\n",
    "\n",
    "#Set BCM numbering gebruiken for the Raspberry Pi GPIO pins (cfr numbers on the case)\n",
    "GPIO.setmode(GPIO.BCM)\n",
    "\n",
    "#The PIR pin of the sensor is connected to the Raspberry Pi pin nr 7\n",
    "PIR_PIN = 7\n",
    "#The LED will be connected to pin 18\n",
    "LED_PIN = 18\n",
    "\n",
    "#Set the pin mode to \"input\" for the PIR pin and \"output\" for the LED pin\n",
    "#This way the Raspberry Pi can detect movement from the PIR sensor and drive the LED on pin 18\n",
    "GPIO.setup(PIR_PIN, GPIO.IN)\n",
    "GPIO.setup(LED_PIN, GPIO.OUT)"
   ]
  },
  {
   "cell_type": "code",
   "execution_count": null,
   "metadata": {
    "collapsed": true
   },
   "outputs": [],
   "source": [
    "#Create a function to flash the LED\n",
    "def flash_led():\n",
    "    GPIO.output(LED_PIN, 1)\n",
    "    time.sleep(0.5)\n",
    "    GPIO.output(LED_PIN, 0)"
   ]
  },
  {
   "cell_type": "code",
   "execution_count": null,
   "metadata": {
    "collapsed": true
   },
   "outputs": [],
   "source": [
    "#And based on that a new function we can call when a movement is detected\n",
    "def on_motion(PIR_PIN):\n",
    "    flash_led()\n",
    "    print(\"Halt!\")"
   ]
  },
  {
   "cell_type": "code",
   "execution_count": null,
   "metadata": {
    "collapsed": true
   },
   "outputs": [],
   "source": [
    "# Now we can link the PIR_PIN to the on_motion() function\n",
    "# We register an event detection in the GPIO library and indicate that,\n",
    "# whenever the Raspberry Pi sees a \"RISING\" signal coming in on the PIR_PIN (the pin going from a 0 to a 1 state),\n",
    "# the on_motion() needs to be executed.\n",
    "\n",
    "GPIO.add_event_detect(PIR_PIN, GPIO.RISING, callback=on_motion)"
   ]
  },
  {
   "cell_type": "markdown",
   "metadata": {},
   "source": [
    "You can now trigger the movement sensor and the Raspberry Pi will execute the function you created"
   ]
  },
  {
   "cell_type": "code",
   "execution_count": null,
   "metadata": {
    "collapsed": true
   },
   "outputs": [],
   "source": [
    "#Clean up GPIO:\n",
    "#Remove the event registration and reinitialize the GPIO library\n",
    "GPIO.remove_event_detect(PIR_PIN)\n",
    "GPIO.cleanup()"
   ]
  }
 ],
 "metadata": {
  "kernelspec": {
   "display_name": "Python 2",
   "language": "python",
   "name": "python2"
  },
  "language_info": {
   "codemirror_mode": {
    "name": "ipython",
    "version": 2
   },
   "file_extension": ".py",
   "mimetype": "text/x-python",
   "name": "python",
   "nbconvert_exporter": "python",
   "pygments_lexer": "ipython2",
   "version": "2.7.8"
  }
 },
 "nbformat": 4,
 "nbformat_minor": 0
}
