{
  "nbformat_minor": 0, 
  "nbformat": 4, 
  "cells": [
    {
      "execution_count": null, 
      "cell_type": "code", 
      "source": [
        "%matplotlib inline"
      ], 
      "outputs": [], 
      "metadata": {
        "collapsed": false
      }
    }, 
    {
      "source": [
        "\n# Decoding sensor space data with Generalization Across Time\n\n\nThis example runs the analysis computed in:\n\nJean-Remi King, Alexandre Gramfort, Aaron Schurger, Lionel Naccache\nand Stanislas Dehaene, \"Two distinct dynamic modes subtend the detection of\nunexpected sounds\", PLOS ONE, 2013,\nhttp://www.ncbi.nlm.nih.gov/pubmed/24475052\n\nThe idea is to learn at one time instant and assess if the decoder\ncan predict accurately over time.\n"
      ], 
      "cell_type": "markdown", 
      "metadata": {}
    }, 
    {
      "execution_count": null, 
      "cell_type": "code", 
      "source": [
        "# Authors: Jean-Remi King <jeanremi.king@gmail.com>\n#          Alexandre Gramfort <alexandre.gramfort@telecom-paristech.fr>\n#          Denis Engemann <denis.engemann@gmail.com>\n#\n# License: BSD (3-clause)\n\nimport mne\nfrom mne.datasets import spm_face\nfrom mne.decoding import GeneralizationAcrossTime\n\nprint(__doc__)\n\n# Preprocess data\ndata_path = spm_face.data_path()\n# Load and filter data, set up epochs\nraw_fname = data_path + '/MEG/spm/SPM_CTF_MEG_example_faces%d_3D_raw.fif'\n\nraw = mne.io.Raw(raw_fname % 1, preload=True)  # Take first run\n\npicks = mne.pick_types(raw.info, meg=True, exclude='bads')\nraw.filter(1, 45, method='iir')\n\nevents = mne.find_events(raw, stim_channel='UPPT001')\nevent_id = {\"faces\": 1, \"scrambled\": 2}\ntmin, tmax = -0.1, 0.5\n\ndecim = 4  # decimate to make the example faster to run\nepochs = mne.Epochs(raw, events, event_id, tmin, tmax, proj=True,\n                    picks=picks, baseline=None, preload=True,\n                    reject=dict(mag=1.5e-12), decim=decim, verbose=False)\n\n# Define decoder. The decision function is employed to use cross-validation\ngat = GeneralizationAcrossTime(predict_mode='cross-validation', n_jobs=1)\n\n# fit and score\ngat.fit(epochs)\ngat.score(epochs)\ngat.plot(vmin=0.1, vmax=0.9,\n         title=\"Generalization Across Time (faces vs. scrambled)\")\ngat.plot_diagonal()  # plot decoding across time (correspond to GAT diagonal)"
      ], 
      "outputs": [], 
      "metadata": {
        "collapsed": false
      }
    }
  ], 
  "metadata": {
    "kernelspec": {
      "display_name": "Python 2", 
      "name": "python2", 
      "language": "python"
    }, 
    "language_info": {
      "mimetype": "text/x-python", 
      "nbconvert_exporter": "python", 
      "name": "python", 
      "file_extension": ".py", 
      "version": "2.7.11", 
      "pygments_lexer": "ipython2", 
      "codemirror_mode": {
        "version": 2, 
        "name": "ipython"
      }
    }
  }
}