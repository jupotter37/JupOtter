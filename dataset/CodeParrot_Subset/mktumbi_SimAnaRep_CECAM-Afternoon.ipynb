{
 "cells": [
  {
   "cell_type": "code",
   "execution_count": 4,
   "metadata": {
    "collapsed": false
   },
   "outputs": [],
   "source": [
    "import MDAnalysis as mda\n",
    "import matplotlib.pyplot as plt\n",
    "%matplotlib inline\n"
   ]
  },
  {
   "cell_type": "code",
   "execution_count": 50,
   "metadata": {
    "collapsed": false
   },
   "outputs": [],
   "source": [
    "from MDAnalysis import *\n",
    "from MDAnalysis.analysis.align import *\n",
    "from MDAnalysis.analysis.rms import rmsd\n",
    "from MDAnalysis.analysis.rms import RMSF\n"
   ]
  },
  {
   "cell_type": "code",
   "execution_count": 7,
   "metadata": {
    "collapsed": false
   },
   "outputs": [
    {
     "ename": "IOError",
     "evalue": "Failed to load from the topology file 41w_ff.psf with parser <class 'MDAnalysis.topology.PSFParser.PSFParser'>.\nError: [Errno 5] Cannot open file or stream in mode='r'.: \"'41w_ff.psf'\"",
     "output_type": "error",
     "traceback": [
      "\u001b[1;31m---------------------------------------------------------------------------\u001b[0m",
      "\u001b[1;31mIOError\u001b[0m                                   Traceback (most recent call last)",
      "\u001b[1;32m<ipython-input-7-ea579482f2ff>\u001b[0m in \u001b[0;36m<module>\u001b[1;34m()\u001b[0m\n\u001b[0;32m      1\u001b[0m \u001b[1;32mimport\u001b[0m \u001b[0mMDAnalysis\u001b[0m\u001b[1;33m\u001b[0m\u001b[0m\n\u001b[1;32m----> 2\u001b[1;33m \u001b[0mu\u001b[0m \u001b[1;33m=\u001b[0m \u001b[0mMDAnalysis\u001b[0m\u001b[1;33m.\u001b[0m\u001b[0mUniverse\u001b[0m\u001b[1;33m(\u001b[0m\u001b[1;34m'41w_ff.psf'\u001b[0m\u001b[1;33m,\u001b[0m\u001b[1;34m'50_frame.dcd'\u001b[0m\u001b[1;33m)\u001b[0m\u001b[1;33m\u001b[0m\u001b[0m\n\u001b[0m\u001b[0;32m      3\u001b[0m \u001b[0mref\u001b[0m \u001b[1;33m=\u001b[0m \u001b[0mMDAnalysis\u001b[0m\u001b[1;33m.\u001b[0m\u001b[0mUniverse\u001b[0m\u001b[1;33m(\u001b[0m\u001b[0mPSF\u001b[0m\u001b[1;33m,\u001b[0m\u001b[0mDCD\u001b[0m\u001b[1;33m)\u001b[0m     \u001b[1;31m# reference closed AdK (1AKE) (with the default ref_frame=0)\u001b[0m\u001b[1;33m\u001b[0m\u001b[0m\n\u001b[0;32m      4\u001b[0m \u001b[1;31m#ref = MDAnalysis.Universe(PSF,CRD)    # reference open AdK (4AKE)\u001b[0m\u001b[1;33m\u001b[0m\u001b[1;33m\u001b[0m\u001b[0m\n\u001b[0;32m      5\u001b[0m \u001b[1;33m\u001b[0m\u001b[0m\n",
      "\u001b[1;32m/projects/4a420c65-bab9-4479-a810-f7137c0dcd19/.local/lib/python2.7/site-packages/MDAnalysis/core/AtomGroup.pyc\u001b[0m in \u001b[0;36m__init__\u001b[1;34m(self, *args, **kwargs)\u001b[0m\n\u001b[0;32m   3778\u001b[0m             raise IOError(\"Failed to load from the topology file {0}\"\n\u001b[0;32m   3779\u001b[0m                           \u001b[1;34m\" with parser {1}.\\n\"\u001b[0m\u001b[1;33m\u001b[0m\u001b[0m\n\u001b[1;32m-> 3780\u001b[1;33m                           \"Error: {2}\".format(self.filename, parser, err))\n\u001b[0m\u001b[0;32m   3781\u001b[0m         \u001b[1;32mexcept\u001b[0m \u001b[0mValueError\u001b[0m \u001b[1;32mas\u001b[0m \u001b[0merr\u001b[0m\u001b[1;33m:\u001b[0m\u001b[1;33m\u001b[0m\u001b[0m\n\u001b[0;32m   3782\u001b[0m             raise ValueError(\"Failed to construct topology from file {0}\"\n",
      "\u001b[1;31mIOError\u001b[0m: Failed to load from the topology file 41w_ff.psf with parser <class 'MDAnalysis.topology.PSFParser.PSFParser'>.\nError: [Errno 5] Cannot open file or stream in mode='r'.: \"'41w_ff.psf'\""
     ]
    }
   ],
   "source": [
    "import MDAnalysis\n",
    "u = MDAnalysis.Universe('41w_ff.psf','50_frame.dcd')\n",
    "ref = MDAnalysis.Universe(PSF,DCD)     # reference closed AdK (1AKE) (with the default ref_frame=0)\n",
    "#ref = MDAnalysis.Universe(PSF,CRD)    # reference open AdK (4AKE)\n",
    "\n",
    "import MDAnalysis.analysis.rms\n",
    "\n",
    "R = MDAnalysis.analysis.rms.RMSD(u, ref,\n",
    "           select=\"backbone\",             # superimpose on whole backbone of the whole protein\n",
    "           groupselections=[\"backbone and (resid 1-29 or resid 60-121 or resid 160-214)\",   # CORE\n",
    "                            \"backbone and resid 122-159\",                                   # LID\n",
    "                            \"backbone and resid 30-59\"],                                    # NMP\n",
    "           filename=\"rmsd_all_CORE_LID_NMP.dat\")\n",
    "R.run()\n",
    "R.save()\n",
    "\n",
    "import matplotlib.pyplot as plt\n",
    "rmsd = R.rmsd.T   # transpose makes it easier for plotting\n",
    "time = rmsd[1]\n",
    "fig = plt.figure(figsize=(4,4))\n",
    "ax = fig.add_subplot(111)\n",
    "ax.plot(time, rmsd[2], 'k-',  label=\"all\")\n",
    "ax.plot(time, rmsd[3], 'k--', label=\"CORE\")\n",
    "ax.plot(time, rmsd[4], 'r--', label=\"LID\")\n",
    "ax.plot(time, rmsd[5], 'b--', label=\"NMP\")\n",
    "ax.legend(loc=\"best\")\n",
    "ax.set_xlabel(\"time (ps)\")\n",
    "ax.set_ylabel(r\"RMSD ($\\AA$)\")\n",
    "fig.savefig(\"rmsd_all_CORE_LID_NMP_ref1AKE.pdf\")"
   ]
  },
  {
   "cell_type": "code",
   "execution_count": 8,
   "metadata": {
    "collapsed": false
   },
   "outputs": [
    {
     "data": {
      "text/plain": [
       "3.92068124672431e-07"
      ]
     },
     "execution_count": 8,
     "metadata": {},
     "output_type": "execute_result"
    }
   ],
   "source": [
    "import MDAnalysis\n",
    "u = MDAnalysis.Universe('41wl_ff.psf','50_frame.dcd')\n",
    "pdb = \"./41wl_ff.pdb\"\n",
    "#ref1 = u.trajectory.\n",
    "ref = MDAnalysis.Universe('41wl_ff.psf','50_frame.dcd')      # reference closed AdK (1AKE) (with the default ref_frame=0)\n",
    "#mobile = Universe(PSF,DCD)\n",
    "rmsd(u.atoms.CA.positions, ref.atoms.CA.positions)\n"
   ]
  },
  {
   "cell_type": "code",
   "execution_count": 25,
   "metadata": {
    "collapsed": false
   },
   "outputs": [
    {
     "name": "stdout",
     "output_type": "stream",
     "text": [
      "[[  0.00000000e+00   7.39290746e-07]\n",
      " [  1.00000000e+00   9.58260036e-01]\n",
      " [  2.00000000e+00   1.09913685e+00]\n",
      " [  3.00000000e+00   1.58017235e+00]\n",
      " [  4.00000000e+00   1.51524851e+00]\n",
      " [  5.00000000e+00   1.25831531e+00]\n",
      " [  6.00000000e+00   1.29666037e+00]\n",
      " [  7.00000000e+00   1.97707413e+00]\n",
      " [  8.00000000e+00   1.48582216e+00]\n",
      " [  9.00000000e+00   1.11138835e+00]\n",
      " [  1.00000000e+01   1.17093276e+00]\n",
      " [  1.10000000e+01   1.38943144e+00]\n",
      " [  1.20000000e+01   1.15222040e+00]\n",
      " [  1.30000000e+01   8.73565132e-01]\n",
      " [  1.40000000e+01   8.13977643e-01]\n",
      " [  1.50000000e+01   1.05710964e+00]\n",
      " [  1.60000000e+01   9.79789427e-01]\n",
      " [  1.70000000e+01   9.99653299e-01]\n",
      " [  1.80000000e+01   1.25344055e+00]\n",
      " [  1.90000000e+01   1.42301562e+00]\n",
      " [  2.00000000e+01   1.56294861e+00]\n",
      " [  2.10000000e+01   1.16561071e+00]\n",
      " [  2.20000000e+01   1.40184954e+00]\n",
      " [  2.30000000e+01   1.42863442e+00]\n",
      " [  2.40000000e+01   1.09930849e+00]\n",
      " [  2.50000000e+01   1.18829050e+00]\n",
      " [  2.60000000e+01   1.37952810e+00]\n",
      " [  2.70000000e+01   1.40633861e+00]\n",
      " [  2.80000000e+01   1.47855583e+00]\n",
      " [  2.90000000e+01   1.17430550e+00]\n",
      " [  3.00000000e+01   1.30468412e+00]\n",
      " [  3.10000000e+01   1.16148868e+00]\n",
      " [  3.20000000e+01   1.53671075e+00]\n",
      " [  3.30000000e+01   1.53587566e+00]\n",
      " [  3.40000000e+01   1.20795292e+00]\n",
      " [  3.50000000e+01   1.84459132e+00]\n",
      " [  3.60000000e+01   1.34792770e+00]\n",
      " [  3.70000000e+01   1.37736338e+00]\n",
      " [  3.80000000e+01   1.77331092e+00]\n",
      " [  3.90000000e+01   1.53410338e+00]\n",
      " [  4.00000000e+01   2.00036486e+00]\n",
      " [  4.10000000e+01   1.57601623e+00]\n",
      " [  4.20000000e+01   2.00517702e+00]\n",
      " [  4.30000000e+01   1.86620216e+00]\n",
      " [  4.40000000e+01   1.63958184e+00]\n",
      " [  4.50000000e+01   1.46613891e+00]\n",
      " [  4.60000000e+01   1.27254499e+00]\n",
      " [  4.70000000e+01   1.30860112e+00]\n",
      " [  4.80000000e+01   1.84718477e+00]\n",
      " [  4.90000000e+01   1.54303093e+00]]\n"
     ]
    },
    {
     "data": {
      "image/png": "[encoded data removed]",
      "text/plain": [
       "<matplotlib.figure.Figure at 0x7f63cab56dd0>"
      ]
     },
     "metadata": {},
     "output_type": "display_data"
    }
   ],
   "source": [
    "import numpy as np\n",
    "RMSD = []\n",
    "backbone = u.select_atoms(\"protein and (name C or name N or name CA)\")\n",
    "reference = ref.select_atoms(\"protein and (name C or name N or name CA)\")\n",
    "for ts in u.trajectory:\n",
    "    A = backbone.coordinates()\n",
    "    B = reference.coordinates()\n",
    "    C = rmsd(A,B)\n",
    "    RMSD.append((u.trajectory.frame, C))\n",
    "RMSD = np.array(RMSD)\n",
    "print RMSD\n",
    "import matplotlib.pyplot as plt\n",
    "ax = plt.subplot(111)\n",
    "ax.plot(RMSD[:,0], RMSD[:,1], 'r--', lw=2, label=r\"$R_G$\")\n",
    "ax.set_xlabel(\"Frame\")\n",
    "ax.set_ylabel(r\"RMSD of Backbone ($\\AA$)\")\n",
    "ax.figure.savefig(\"RMSD.pdf\")\n",
    "plt.draw()"
   ]
  },
  {
   "cell_type": "code",
   "execution_count": 18,
   "metadata": {
    "collapsed": false
   },
   "outputs": [
    {
     "data": {
      "text/plain": [
       "50"
      ]
     },
     "execution_count": 18,
     "metadata": {},
     "output_type": "execute_result"
    }
   ],
   "source": [
    "len(u.trajectory)"
   ]
  },
  {
   "cell_type": "code",
   "execution_count": 47,
   "metadata": {
    "collapsed": false
   },
   "outputs": [
    {
     "name": "stdout",
     "output_type": "stream",
     "text": [
      "[[  0.          14.45947817]\n",
      " [  1.          14.56343943]\n",
      " [  2.          14.66004709]\n",
      " [  3.          14.5950319 ]\n",
      " [  4.          14.65924899]\n",
      " [  5.          14.52109577]\n",
      " [  6.          14.52496548]\n",
      " [  7.          14.74254526]\n",
      " [  8.          14.74876355]\n",
      " [  9.          14.52289098]\n",
      " [ 10.          14.52560928]\n",
      " [ 11.          14.4352187 ]\n",
      " [ 12.          14.53671809]\n",
      " [ 13.          14.43235824]\n",
      " [ 14.          14.46688002]\n",
      " [ 15.          14.4705191 ]\n",
      " [ 16.          14.41274683]\n",
      " [ 17.          14.43789711]\n",
      " [ 18.          14.38424011]\n",
      " [ 19.          14.41613229]\n",
      " [ 20.          14.56441881]\n",
      " [ 21.          14.5337207 ]\n",
      " [ 22.          14.41597997]\n",
      " [ 23.          14.40583184]\n",
      " [ 24.          14.45525257]\n",
      " [ 25.          14.46460474]\n",
      " [ 26.          14.46638457]\n",
      " [ 27.          14.40691409]\n",
      " [ 28.          14.52930841]\n",
      " [ 29.          14.54878399]\n",
      " [ 30.          14.48549566]\n",
      " [ 31.          14.49806385]\n",
      " [ 32.          14.50785088]\n",
      " [ 33.          14.50795497]\n",
      " [ 34.          14.54129607]\n",
      " [ 35.          14.38962131]\n",
      " [ 36.          14.51879453]\n",
      " [ 37.          14.51302802]\n",
      " [ 38.          14.59042283]\n",
      " [ 39.          14.50376336]\n",
      " [ 40.          14.45130122]\n",
      " [ 41.          14.5705463 ]\n",
      " [ 42.          14.66729859]\n",
      " [ 43.          14.51986238]\n",
      " [ 44.          14.54526494]\n",
      " [ 45.          14.4653264 ]\n",
      " [ 46.          14.46804386]\n",
      " [ 47.          14.5561452 ]\n",
      " [ 48.          14.39166516]\n",
      " [ 49.          14.48221981]]\n"
     ]
    },
    {
     "data": {
      "image/png": "[encoded data removed]",
      "text/plain": [
       "<matplotlib.figure.Figure at 0x7f74d11097d0>"
      ]
     },
     "metadata": {},
     "output_type": "display_data"
    }
   ],
   "source": [
    "Rgyr = []\n",
    "protein = u.select_atoms(\"protein\")\n",
    "for ts in u.trajectory:\n",
    "   Rgyr.append((u.trajectory.frame, protein.radius_of_gyration()))\n",
    "Rgyr = np.array(Rgyr)\n",
    "\n",
    "print Rgyr\n",
    "import matplotlib.pyplot as plt\n",
    "ax = plt.subplot(111)\n",
    "ax.plot(Rgyr[:,0], Rgyr[:,1], 'r--', lw=2, label=r\"$R_G$\")\n",
    "ax.set_xlabel(\"Frame\")\n",
    "ax.set_ylabel(r\"radius of gyration $R_G$ ($\\AA$)\")\n",
    "ax.figure.savefig(\"Rgyr.pdf\")\n",
    "plt.draw()"
   ]
  },
  {
   "cell_type": "code",
   "execution_count": 26,
   "metadata": {
    "collapsed": false
   },
   "outputs": [
    {
     "name": "stdout",
     "output_type": "stream",
     "text": [
      "[[  0.00000000e+00   5.34164461e-07]\n",
      " [  1.00000000e+00   1.54629927e+00]\n",
      " [  2.00000000e+00   1.44347196e+00]\n",
      " [  3.00000000e+00   1.99289379e+00]\n",
      " [  4.00000000e+00   1.85068733e+00]\n",
      " [  5.00000000e+00   1.61465330e+00]\n",
      " [  6.00000000e+00   1.78023370e+00]\n",
      " [  7.00000000e+00   2.39800013e+00]\n",
      " [  8.00000000e+00   1.89272947e+00]\n",
      " [  9.00000000e+00   1.60691848e+00]\n",
      " [  1.00000000e+01   1.63336449e+00]\n",
      " [  1.10000000e+01   1.84776551e+00]\n",
      " [  1.20000000e+01   1.65945259e+00]\n",
      " [  1.30000000e+01   1.31706803e+00]\n",
      " [  1.40000000e+01   1.37257246e+00]\n",
      " [  1.50000000e+01   1.58766973e+00]\n",
      " [  1.60000000e+01   1.58488312e+00]\n",
      " [  1.70000000e+01   1.55337912e+00]\n",
      " [  1.80000000e+01   1.70441613e+00]\n",
      " [  1.90000000e+01   1.91122359e+00]\n",
      " [  2.00000000e+01   1.99538288e+00]\n",
      " [  2.10000000e+01   1.73095818e+00]\n",
      " [  2.20000000e+01   1.89093259e+00]\n",
      " [  2.30000000e+01   1.86865425e+00]\n",
      " [  2.40000000e+01   1.68523931e+00]\n",
      " [  2.50000000e+01   1.65180549e+00]\n",
      " [  2.60000000e+01   1.87369042e+00]\n",
      " [  2.70000000e+01   1.79027666e+00]\n",
      " [  2.80000000e+01   1.97255014e+00]\n",
      " [  2.90000000e+01   1.72468540e+00]\n",
      " [  3.00000000e+01   1.76113702e+00]\n",
      " [  3.10000000e+01   1.62846968e+00]\n",
      " [  3.20000000e+01   1.96988429e+00]\n",
      " [  3.30000000e+01   1.92999813e+00]\n",
      " [  3.40000000e+01   1.70608289e+00]\n",
      " [  3.50000000e+01   2.18234388e+00]\n",
      " [  3.60000000e+01   1.83320735e+00]\n",
      " [  3.70000000e+01   1.92635276e+00]\n",
      " [  3.80000000e+01   2.26194052e+00]\n",
      " [  3.90000000e+01   2.06464391e+00]\n",
      " [  4.00000000e+01   2.30309437e+00]\n",
      " [  4.10000000e+01   2.03992844e+00]\n",
      " [  4.20000000e+01   2.36421650e+00]\n",
      " [  4.30000000e+01   2.22578813e+00]\n",
      " [  4.40000000e+01   2.10841287e+00]\n",
      " [  4.50000000e+01   1.91646573e+00]\n",
      " [  4.60000000e+01   1.86615725e+00]\n",
      " [  4.70000000e+01   1.81379093e+00]\n",
      " [  4.80000000e+01   2.22916719e+00]\n",
      " [  4.90000000e+01   2.07159788e+00]]\n"
     ]
    },
    {
     "data": {
      "image/png": "[encoded data removed]",
      "text/plain": [
       "<matplotlib.figure.Figure at 0x7f63c128dfd0>"
      ]
     },
     "metadata": {},
     "output_type": "display_data"
    }
   ],
   "source": [
    "import numpy as np\n",
    "RMSD_aa = []\n",
    "current = u.select_atoms(\"protein and not name H*\")\n",
    "reference = ref.select_atoms(\"protein and not name H*\")\n",
    "for ts in u.trajectory:\n",
    "    A = current.coordinates()\n",
    "    B = reference.coordinates()\n",
    "    C = rmsd(A,B)\n",
    "    RMSD_aa.append((u.trajectory.frame, C))\n",
    "RMSD_aa = np.array(RMSD_aa)\n",
    "print RMSD_aa\n",
    "import matplotlib.pyplot as plt\n",
    "ax = plt.subplot(111)\n",
    "ax.plot(RMSD_aa[:,0], RMSD_aa[:,1], 'r--', lw=2, label=r\"$R_G$\")\n",
    "ax.set_xlabel(\"Frame\")\n",
    "ax.set_ylabel(r\"RMSD all atoms ($\\AA$)\")\n",
    "ax.figure.savefig(\"RMSD_all_atoms.pdf\")\n",
    "plt.draw()"
   ]
  },
  {
   "cell_type": "code",
   "execution_count": null,
   "metadata": {
    "collapsed": true
   },
   "outputs": [],
   "source": []
  },
  {
   "cell_type": "code",
   "execution_count": 28,
   "metadata": {
    "collapsed": false
   },
   "outputs": [
    {
     "name": "stdout",
     "output_type": "stream",
     "text": [
      "[[  0.00000000e+00   1.08735602e-06]\n",
      " [  1.00000000e+00   3.68662714e+00]\n",
      " [  2.00000000e+00   2.12019302e+00]\n",
      " [  3.00000000e+00   1.60456652e+00]\n",
      " [  4.00000000e+00   1.57198797e+00]\n",
      " [  5.00000000e+00   2.84287226e+00]\n",
      " [  6.00000000e+00   4.90751869e+00]\n",
      " [  7.00000000e+00   3.36932707e+00]\n",
      " [  8.00000000e+00   3.23793130e+00]\n",
      " [  9.00000000e+00   2.81030673e+00]\n",
      " [  1.00000000e+01   2.96390197e+00]\n",
      " [  1.10000000e+01   1.80263100e+00]\n",
      " [  1.20000000e+01   1.57591836e+00]\n",
      " [  1.30000000e+01   2.64336319e+00]\n",
      " [  1.40000000e+01   2.64373063e+00]\n",
      " [  1.50000000e+01   3.43870722e+00]\n",
      " [  1.60000000e+01   3.09839813e+00]\n",
      " [  1.70000000e+01   3.24417248e+00]\n",
      " [  1.80000000e+01   2.66968311e+00]\n",
      " [  1.90000000e+01   3.73360857e+00]\n",
      " [  2.00000000e+01   1.95119562e+00]\n",
      " [  2.10000000e+01   3.17663864e+00]\n",
      " [  2.20000000e+01   3.87500922e+00]\n",
      " [  2.30000000e+01   2.48765420e+00]\n",
      " [  2.40000000e+01   2.36807138e+00]\n",
      " [  2.50000000e+01   2.67178418e+00]\n",
      " [  2.60000000e+01   3.63333534e+00]\n",
      " [  2.70000000e+01   1.96125171e+00]\n",
      " [  2.80000000e+01   3.24832209e+00]\n",
      " [  2.90000000e+01   3.41356751e+00]\n",
      " [  3.00000000e+01   2.59487464e+00]\n",
      " [  3.10000000e+01   2.35808403e+00]\n",
      " [  3.20000000e+01   4.10424226e+00]\n",
      " [  3.30000000e+01   3.00861139e+00]\n",
      " [  3.40000000e+01   2.99031474e+00]\n",
      " [  3.50000000e+01   3.16022017e+00]\n",
      " [  3.60000000e+01   2.94211087e+00]\n",
      " [  3.70000000e+01   3.00621353e+00]\n",
      " [  3.80000000e+01   1.52727089e+00]\n",
      " [  3.90000000e+01   3.05931957e+00]\n",
      " [  4.00000000e+01   1.28726690e+00]\n",
      " [  4.10000000e+01   3.67078576e+00]\n",
      " [  4.20000000e+01   2.19999724e+00]\n",
      " [  4.30000000e+01   3.36467798e+00]\n",
      " [  4.40000000e+01   2.94593173e+00]\n",
      " [  4.50000000e+01   4.65756391e+00]\n",
      " [  4.60000000e+01   3.56851330e+00]\n",
      " [  4.70000000e+01   1.84376409e+00]\n",
      " [  4.80000000e+01   1.51971426e+00]\n",
      " [  4.90000000e+01   2.93048855e+00]]\n"
     ]
    },
    {
     "data": {
      "image/png": "[encoded data removed]",
      "text/plain": [
       "<matplotlib.figure.Figure at 0x7f63cac18c10>"
      ]
     },
     "metadata": {},
     "output_type": "display_data"
    }
   ],
   "source": [
    "import numpy as np\n",
    "RMSD_lig = []\n",
    "ligand = u.select_atoms(\"(resid 142:146) and not name H*\") ## include selection based on user description\n",
    "#current = u.select_atoms(\"segname BGLC and not name H*\")\n",
    "reference = ref.select_atoms(\"(resid 142:146) and not name H*\")\n",
    "for ts in u.trajectory:\n",
    "    A = ligand.coordinates()\n",
    "    B = reference.coordinates()\n",
    "    C = rmsd(A,B)\n",
    "    RMSD_lig.append((u.trajectory.frame, C))\n",
    "RMSD_lig = np.array(RMSD_lig)\n",
    "print RMSD_lig\n",
    "import matplotlib.pyplot as plt\n",
    "ax = plt.subplot(111)\n",
    "ax.plot(RMSD_lig[:,0], RMSD_lig[:,1], 'r--', lw=2, label=r\"$R_G$\")\n",
    "ax.set_xlabel(\"Frame\")\n",
    "ax.set_ylabel(r\"RMSD of ligand ($\\AA$)\")\n",
    "ax.figure.savefig(\"RMSD_ligand.pdf\")\n",
    "plt.draw()"
   ]
  },
  {
   "cell_type": "markdown",
   "metadata": {},
   "source": [
    "#RMSF"
   ]
  },
  {
   "cell_type": "code",
   "execution_count": 29,
   "metadata": {
    "collapsed": false
   },
   "outputs": [
    {
     "name": "stdout",
     "output_type": "stream",
     "text": [
      "Object `mdanalysis.analysis` not found.\n"
     ]
    }
   ],
   "source": [
    "mdanalysis.analysis?"
   ]
  },
  {
   "cell_type": "code",
   "execution_count": 49,
   "metadata": {
    "collapsed": false
   },
   "outputs": [],
   "source": [
    "MDAnalysis.analysis.rms.RMSF?"
   ]
  },
  {
   "cell_type": "code",
   "execution_count": 106,
   "metadata": {
    "collapsed": false
   },
   "outputs": [
    {
     "name": "stderr",
     "output_type": "stream",
     "text": []
    },
    {
     "ename": "TypeError",
     "evalue": "list indices must be integers, not tuple",
     "output_type": "error",
     "traceback": [
      "\u001b[1;31m---------------------------------------------------------------------------\u001b[0m",
      "\u001b[1;31mTypeError\u001b[0m                                 Traceback (most recent call last)",
      "\u001b[1;32m<ipython-input-106-d18f6f8e499f>\u001b[0m in \u001b[0;36m<module>\u001b[1;34m()\u001b[0m\n\u001b[0;32m      8\u001b[0m \u001b[1;32mimport\u001b[0m \u001b[0mmatplotlib\u001b[0m\u001b[1;33m.\u001b[0m\u001b[0mpyplot\u001b[0m \u001b[1;32mas\u001b[0m \u001b[0mplt\u001b[0m\u001b[1;33m\u001b[0m\u001b[0m\n\u001b[0;32m      9\u001b[0m \u001b[0max\u001b[0m \u001b[1;33m=\u001b[0m \u001b[0mplt\u001b[0m\u001b[1;33m.\u001b[0m\u001b[0msubplot\u001b[0m\u001b[1;33m(\u001b[0m\u001b[1;36m111\u001b[0m\u001b[1;33m)\u001b[0m\u001b[1;33m\u001b[0m\u001b[0m\n\u001b[1;32m---> 10\u001b[1;33m \u001b[0max\u001b[0m\u001b[1;33m.\u001b[0m\u001b[0mplot\u001b[0m\u001b[1;33m(\u001b[0m\u001b[0mRMSF_bb\u001b[0m\u001b[1;33m[\u001b[0m\u001b[1;33m:\u001b[0m\u001b[1;33m,\u001b[0m\u001b[1;36m0\u001b[0m\u001b[1;33m]\u001b[0m\u001b[1;33m,\u001b[0m \u001b[0mC\u001b[0m\u001b[1;33m.\u001b[0m\u001b[0mrmsf\u001b[0m\u001b[1;33m[\u001b[0m\u001b[1;33m:\u001b[0m\u001b[1;33m,\u001b[0m\u001b[1;36m0\u001b[0m\u001b[1;33m]\u001b[0m\u001b[1;33m,\u001b[0m \u001b[1;34m'r--'\u001b[0m\u001b[1;33m,\u001b[0m \u001b[0mlw\u001b[0m\u001b[1;33m=\u001b[0m\u001b[1;36m2\u001b[0m\u001b[1;33m,\u001b[0m \u001b[0mlabel\u001b[0m\u001b[1;33m=\u001b[0m\u001b[1;34mr\"$R_G$\"\u001b[0m\u001b[1;33m)\u001b[0m\u001b[1;33m\u001b[0m\u001b[0m\n\u001b[0m\u001b[0;32m     11\u001b[0m \u001b[0max\u001b[0m\u001b[1;33m.\u001b[0m\u001b[0mset_xlabel\u001b[0m\u001b[1;33m(\u001b[0m\u001b[1;34m\"Frame\"\u001b[0m\u001b[1;33m)\u001b[0m\u001b[1;33m\u001b[0m\u001b[0m\n\u001b[0;32m     12\u001b[0m \u001b[0max\u001b[0m\u001b[1;33m.\u001b[0m\u001b[0mset_ylabel\u001b[0m\u001b[1;33m(\u001b[0m\u001b[1;34mr\"RMSF of Backbone ($\\AA$)\"\u001b[0m\u001b[1;33m)\u001b[0m\u001b[1;33m\u001b[0m\u001b[0m\n",
      "\u001b[1;31mTypeError\u001b[0m: list indices must be integers, not tuple"
     ]
    },
    {
     "data": {
      "image/png": "[encoded data removed]",
      "text/plain": [
       "<matplotlib.figure.Figure at 0x7f63be067790>"
      ]
     },
     "metadata": {},
     "output_type": "display_data"
    }
   ],
   "source": [
    "import numpy as np\n",
    "RMSF_bb = []\n",
    "backbone = u.select_atoms(\"protein and (name CA)\")\n",
    "C = MDAnalysis.analysis.rms.RMSF(backbone)\n",
    "C.run()\n",
    "C.rmsf[:]\n",
    "import matplotlib.pyplot as plt\n",
    "ax = plt.subplot(111)\n",
    "ax.plot(RMSF_bb[:,0], C.rmsf[:,0], 'r--', lw=2, label=r\"$R_G$\")\n",
    "ax.set_xlabel(\"Frame\")\n",
    "ax.set_ylabel(r\"RMSF of Backbone ($\\AA$)\")\n",
    "ax.figure.savefig(\"RMSF.pdf\")\n",
    "plt.draw()"
   ]
  },
  {
   "cell_type": "code",
   "execution_count": 72,
   "metadata": {
    "collapsed": false
   },
   "outputs": [
    {
     "data": {
      "text/plain": [
       "(426,)"
      ]
     },
     "execution_count": 72,
     "metadata": {},
     "output_type": "execute_result"
    }
   ],
   "source": [
    "C.rmsf.shape"
   ]
  },
  {
   "cell_type": "code",
   "execution_count": null,
   "metadata": {
    "collapsed": true
   },
   "outputs": [],
   "source": []
  }
 ],
 "metadata": {
  "kernelspec": {
   "display_name": "Python 2",
   "language": "python",
   "name": "python2"
  },
  "language_info": {
   "codemirror_mode": {
    "name": "ipython",
    "version": 2
   },
   "file_extension": ".py",
   "mimetype": "text/x-python",
   "name": "python",
   "nbconvert_exporter": "python",
   "pygments_lexer": "ipython2",
   "version": "2.7.9"
  },
  "name": "CECAM-Afternoon.ipynb"
 },
 "nbformat": 4,
 "nbformat_minor": 0
}
