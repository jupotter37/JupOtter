{
 "cells": [
  {
   "cell_type": "code",
   "execution_count": null,
   "metadata": {},
   "outputs": [],
   "source": [
    "import tensorflow as tf\n",
    "from PIL import Image\n",
    "import glob\n",
    "import matplotlib.pyplot as plt\n",
    "import numpy as np\n",
    "\n",
    "%matplotlib inline\n"
   ]
  },
  {
   "cell_type": "code",
   "execution_count": null,
   "metadata": {},
   "outputs": [],
   "source": [
    "def load_graph(frozen_graph_filename):\n",
    "\n",
    "    with tf.gfile.GFile(frozen_graph_filename, \"rb\") as f:\n",
    "        graph_def = tf.GraphDef()\n",
    "        graph_def.ParseFromString(f.read())\n",
    "    with tf.Graph().as_default() as graph:\n",
    "        tf.import_graph_def(graph_def, name=\"prefix\")\n",
    "    return graph"
   ]
  },
  {
   "cell_type": "code",
   "execution_count": null,
   "metadata": {},
   "outputs": [],
   "source": [
    "label_colours = [(0,0,0), (255,255,255)]\n",
    "                #0=unclassified, 1=globoli\n",
    "\n",
    "def decode_labels(mask, num_images=1, num_classes=2):\n",
    "    n, h, w, c = mask.shape\n",
    "    outputs = np.zeros((num_images, h, w, 3), dtype=np.uint8)\n",
    "    for i in range(num_images):\n",
    "      img = Image.new('RGB', (len(mask[i, 0]), len(mask[i])))\n",
    "      pixels = img.load()\n",
    "      for j_, j in enumerate(mask[i, :, :, 0]):\n",
    "          for k_, k in enumerate(j):\n",
    "              if k < num_classes:\n",
    "                  pixels[k_,j_] = label_colours[k]\n",
    "      outputs[i] = np.array(img)\n",
    "    return outputs"
   ]
  },
  {
   "cell_type": "code",
   "execution_count": null,
   "metadata": {},
   "outputs": [],
   "source": [
    "#graph = load_graph('C:/git/python/glomeruli3/frozen_model.pb')\n",
    "graph = load_graph('D:/data/glomeruli/20180202_glomeruli_detection_noquant.pb')\n",
    "\n",
    "# We access the input and output nodes \n",
    "x = graph.get_tensor_by_name('prefix/create_inputs/img_filename:0')\n",
    "y = graph.get_tensor_by_name('prefix/predictions:0')\n",
    "\n",
    "plt.rcParams[\"figure.figsize\"] = (10,10)\n",
    "config = tf.ConfigProto( device_count = {'GPU': 0} )\n",
    "# We launch a Session\n",
    "index=0\n",
    "with tf.Session(graph=graph, config=config) as sess:   \n",
    "    for img in glob.glob( 'C:/git/python/glomeruli3/input_images/*.jpg' ):\n",
    "        index+=1\n",
    "        if index>20:\n",
    "            break\n",
    "        y_out = sess.run(y, feed_dict={\n",
    "            x: img\n",
    "        })\n",
    "        \n",
    "        input_img = Image.open( img )\n",
    "        plt.imshow(input_img)\n",
    "        plt.show()\n",
    "        \n",
    "        decoded_out = decode_labels(y_out.reshape(1, 512, 512, 1)).reshape(512, 512, 3)\n",
    "        output_img = Image.fromarray(decoded_out)\n",
    "        plt.imshow(output_img)\n",
    "        plt.show()\n",
    "        "
   ]
  },
  {
   "cell_type": "code",
   "execution_count": null,
   "metadata": {},
   "outputs": [],
   "source": []
  }
 ],
 "metadata": {
  "kernelspec": {
   "display_name": "Python 3",
   "language": "python",
   "name": "python3"
  },
  "language_info": {
   "codemirror_mode": {
    "name": "ipython",
    "version": 3
   },
   "file_extension": ".py",
   "mimetype": "text/x-python",
   "name": "python",
   "nbconvert_exporter": "python",
   "pygments_lexer": "ipython3",
   "version": "3.5.4"
  }
 },
 "nbformat": 4,
 "nbformat_minor": 2
}
