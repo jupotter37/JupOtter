{
 "cells": [
  {
   "cell_type": "markdown",
   "metadata": {},
   "source": [
    "# XML example and exercise\n",
    "****\n",
    "+ study examples of accessing nodes in XML tree structure  \n",
    "+ work on exercise to be completed and submitted\n",
    "****\n",
    "+ reference: https://docs.python.org/2.7/library/xml.etree.elementtree.html\n",
    "+ data source: http://www.dbis.informatik.uni-goettingen.de/Mondial\n",
    "****"
   ]
  },
  {
   "cell_type": "code",
   "execution_count": 74,
   "metadata": {
    "collapsed": true
   },
   "outputs": [],
   "source": [
    "from xml.etree import ElementTree as ET"
   ]
  },
  {
   "cell_type": "markdown",
   "metadata": {},
   "source": [
    "## XML example\n",
    "\n",
    "+ for details about tree traversal and iterators, see https://docs.python.org/2.7/library/xml.etree.elementtree.html"
   ]
  },
  {
   "cell_type": "code",
   "execution_count": 75,
   "metadata": {
    "collapsed": true
   },
   "outputs": [],
   "source": [
    "document_tree = ET.parse( './data/mondial_database_less.xml' )"
   ]
  },
  {
   "cell_type": "code",
   "execution_count": 76,
   "metadata": {
    "collapsed": false,
    "scrolled": true
   },
   "outputs": [
    {
     "name": "stdout",
     "output_type": "stream",
     "text": [
      "Albania\n",
      "Greece\n",
      "Macedonia\n",
      "Serbia\n",
      "Montenegro\n",
      "Kosovo\n",
      "Andorra\n"
     ]
    }
   ],
   "source": [
    "# print names of all countries\n",
    "for child in document_tree.getroot():\n",
    "    print (child.find('name').text)"
   ]
  },
  {
   "cell_type": "code",
   "execution_count": 77,
   "metadata": {
    "collapsed": false
   },
   "outputs": [
    {
     "name": "stdout",
     "output_type": "stream",
     "text": [
      "* Albania:Tirana, Shkodër, Durrës, Vlorë, Elbasan, Korçë\n",
      "* Greece:Komotini, Kavala, Athina, Peiraias, Peristeri, Acharnes, Patra, Kozani, Kerkyra, Ioannina, Thessaloniki, Iraklio, Chania, Ermoupoli, Rhodes, Tripoli, Lamia, Chalkida, Larissa, Volos, Mytilini, Karyes\n",
      "* Macedonia:Skopje, Kumanovo\n",
      "* Serbia:Beograd, Novi Sad, Niš\n",
      "* Montenegro:Podgorica\n",
      "* Kosovo:Prishtine\n",
      "* Andorra:Andorra la Vella\n"
     ]
    }
   ],
   "source": [
    "# print names of all countries and their cities\n",
    "for element in document_tree.iterfind('country'):\n",
    "    print ('* ' + element.find('name').text + ':', end=''),\n",
    "    capitals_string = ''\n",
    "    for subelement in element.getiterator('city'):\n",
    "        capitals_string += subelement.find('name').text + ', '\n",
    "    print (capitals_string[:-2])"
   ]
  },
  {
   "cell_type": "markdown",
   "metadata": {},
   "source": [
    "****\n",
    "## XML exercise\n",
    "\n",
    "Using data in 'data/mondial_database.xml', the examples above, and refering to https://docs.python.org/2.7/library/xml.etree.elementtree.html, find\n",
    "\n",
    "1. 10 countries with the lowest infant mortality rates\n",
    "2. 10 cities with the largest population\n",
    "3. 10 ethnic groups with the largest overall populations (sum of best/latest estimates over all countries)\n",
    "4. name and country of a) longest river, b) largest lake and c) airport at highest elevation"
   ]
  },
  {
   "cell_type": "code",
   "execution_count": 78,
   "metadata": {
    "collapsed": true
   },
   "outputs": [],
   "source": [
    "document = ET.parse( './data/mondial_database.xml' )"
   ]
  },
  {
   "cell_type": "code",
   "execution_count": 89,
   "metadata": {
    "collapsed": false
   },
   "outputs": [],
   "source": [
    "# print child and attributes\n",
    "#for child in document.getroot():\n",
    "#    print (child.tag, child.attrib)"
   ]
  },
  {
   "cell_type": "code",
   "execution_count": 80,
   "metadata": {
    "collapsed": true
   },
   "outputs": [],
   "source": [
    "import pandas as pd"
   ]
  },
  {
   "cell_type": "code",
   "execution_count": 84,
   "metadata": {
    "collapsed": false
   },
   "outputs": [],
   "source": [
    "# Create a list of country and their Infant Mortality Rate \n",
    "country_imr=[]\n",
    "for country in document.getroot().findall('country'):\n",
    "    name = country.find('name').text\n",
    "    infant_mortality_rate = country.find('infant_mortality')\n",
    "    if infant_mortality_rate is not None:\n",
    "        infant_mortality_rate=infant_mortality_rate.text\n",
    "    else :\n",
    "        infant_mortality_rate = -1\n",
    "    country_imr.append((name, (float)(infant_mortality_rate)))"
   ]
  },
  {
   "cell_type": "markdown",
   "metadata": {},
   "source": [
    "## 10 countries with the lowest infant mortality rates"
   ]
  },
  {
   "cell_type": "code",
   "execution_count": 88,
   "metadata": {
    "collapsed": false
   },
   "outputs": [
    {
     "data": {
      "text/html": [
       "<div>\n",
       "<table border=\"1\" class=\"dataframe\">\n",
       "  <thead>\n",
       "    <tr style=\"text-align: right;\">\n",
       "      <th></th>\n",
       "      <th>Country</th>\n",
       "    </tr>\n",
       "    <tr>\n",
       "      <th>Infant_Mortality_Rate</th>\n",
       "      <th></th>\n",
       "    </tr>\n",
       "  </thead>\n",
       "  <tbody>\n",
       "    <tr>\n",
       "      <th>1.81</th>\n",
       "      <td>Monaco</td>\n",
       "    </tr>\n",
       "    <tr>\n",
       "      <th>2.13</th>\n",
       "      <td>Japan</td>\n",
       "    </tr>\n",
       "    <tr>\n",
       "      <th>2.48</th>\n",
       "      <td>Bermuda</td>\n",
       "    </tr>\n",
       "    <tr>\n",
       "      <th>2.48</th>\n",
       "      <td>Norway</td>\n",
       "    </tr>\n",
       "    <tr>\n",
       "      <th>2.53</th>\n",
       "      <td>Singapore</td>\n",
       "    </tr>\n",
       "    <tr>\n",
       "      <th>2.60</th>\n",
       "      <td>Sweden</td>\n",
       "    </tr>\n",
       "    <tr>\n",
       "      <th>2.63</th>\n",
       "      <td>Czech Republic</td>\n",
       "    </tr>\n",
       "    <tr>\n",
       "      <th>2.73</th>\n",
       "      <td>Hong Kong</td>\n",
       "    </tr>\n",
       "    <tr>\n",
       "      <th>3.13</th>\n",
       "      <td>Macao</td>\n",
       "    </tr>\n",
       "    <tr>\n",
       "      <th>3.15</th>\n",
       "      <td>Iceland</td>\n",
       "    </tr>\n",
       "  </tbody>\n",
       "</table>\n",
       "</div>"
      ],
      "text/plain": [
       "                              Country\n",
       "Infant_Mortality_Rate                \n",
       "1.81                           Monaco\n",
       "2.13                            Japan\n",
       "2.48                          Bermuda\n",
       "2.48                           Norway\n",
       "2.53                        Singapore\n",
       "2.60                           Sweden\n",
       "2.63                   Czech Republic\n",
       "2.73                        Hong Kong\n",
       "3.13                            Macao\n",
       "3.15                          Iceland"
      ]
     },
     "execution_count": 88,
     "metadata": {},
     "output_type": "execute_result"
    }
   ],
   "source": [
    "df = pd.DataFrame(country_imr, columns=['Country', 'Infant_Mortality_Rate'])\n",
    "df_unknown_removed = df[df.Infant_Mortality_Rate != -1] \n",
    "df_unknown_removed.set_index('Infant_Mortality_Rate').sort().head(10)"
   ]
  },
  {
   "cell_type": "code",
   "execution_count": 149,
   "metadata": {
    "collapsed": false
   },
   "outputs": [],
   "source": [
    "city_population=[]\n",
    "for country in document.iterfind('country'):\n",
    "    for state in country.iterfind('province'):\n",
    "        for city in state.iterfind('city'):\n",
    "            try:\n",
    "                city_population.append((city.find('name').text, float(city.find('population').text)))\n",
    "            except:\n",
    "                next\n",
    "    for city in country.iterfind('city'):\n",
    "        try:\n",
    "            city_population.append((city.find('name').text, float(city.find('population').text)))\n",
    "        except:\n",
    "            next"
   ]
  },
  {
   "cell_type": "markdown",
   "metadata": {},
   "source": [
    "## 10 cities with the largest population"
   ]
  },
  {
   "cell_type": "code",
   "execution_count": 165,
   "metadata": {
    "collapsed": false
   },
   "outputs": [
    {
     "data": {
      "text/html": [
       "<div>\n",
       "<table border=\"1\" class=\"dataframe\">\n",
       "  <thead>\n",
       "    <tr style=\"text-align: right;\">\n",
       "      <th></th>\n",
       "      <th>City</th>\n",
       "      <th>Population</th>\n",
       "    </tr>\n",
       "  </thead>\n",
       "  <tbody>\n",
       "    <tr>\n",
       "      <th>1763</th>\n",
       "      <td>Seoul</td>\n",
       "      <td>10229262</td>\n",
       "    </tr>\n",
       "    <tr>\n",
       "      <th>1421</th>\n",
       "      <td>Mumbai</td>\n",
       "      <td>9925891</td>\n",
       "    </tr>\n",
       "    <tr>\n",
       "      <th>2594</th>\n",
       "      <td>São Paulo</td>\n",
       "      <td>9412894</td>\n",
       "    </tr>\n",
       "    <tr>\n",
       "      <th>1629</th>\n",
       "      <td>Jakarta</td>\n",
       "      <td>8259266</td>\n",
       "    </tr>\n",
       "    <tr>\n",
       "      <th>1251</th>\n",
       "      <td>Shanghai</td>\n",
       "      <td>8205598</td>\n",
       "    </tr>\n",
       "    <tr>\n",
       "      <th>1942</th>\n",
       "      <td>Ciudad de México</td>\n",
       "      <td>8092449</td>\n",
       "    </tr>\n",
       "    <tr>\n",
       "      <th>443</th>\n",
       "      <td>Moskva</td>\n",
       "      <td>8010954</td>\n",
       "    </tr>\n",
       "    <tr>\n",
       "      <th>1725</th>\n",
       "      <td>Tokyo</td>\n",
       "      <td>7843000</td>\n",
       "    </tr>\n",
       "    <tr>\n",
       "      <th>1250</th>\n",
       "      <td>Beijing</td>\n",
       "      <td>7362426</td>\n",
       "    </tr>\n",
       "    <tr>\n",
       "      <th>1467</th>\n",
       "      <td>Delhi</td>\n",
       "      <td>7206704</td>\n",
       "    </tr>\n",
       "  </tbody>\n",
       "</table>\n",
       "</div>"
      ],
      "text/plain": [
       "                  City  Population\n",
       "1763             Seoul    10229262\n",
       "1421            Mumbai     9925891\n",
       "2594         São Paulo     9412894\n",
       "1629           Jakarta     8259266\n",
       "1251          Shanghai     8205598\n",
       "1942  Ciudad de México     8092449\n",
       "443             Moskva     8010954\n",
       "1725             Tokyo     7843000\n",
       "1250           Beijing     7362426\n",
       "1467             Delhi     7206704"
      ]
     },
     "execution_count": 165,
     "metadata": {},
     "output_type": "execute_result"
    }
   ],
   "source": [
    "df = pd.DataFrame(city_population, columns=['City', 'Population'])\n",
    "#df.info()\n",
    "df.sort_index(by='Population', ascending=False).head(10)"
   ]
  },
  {
   "cell_type": "code",
   "execution_count": 229,
   "metadata": {
    "collapsed": false
   },
   "outputs": [],
   "source": [
    "ethnic_population={}\n",
    "country_population={}\n",
    "for country in document.iterfind('country'):\n",
    "    try:\n",
    "        country_population[country.find('name').text]= float(country.find('population').text)\n",
    "    except:\n",
    "        next\n",
    "    for state in country.iterfind('province' or 'state'):\n",
    "        try:\n",
    "            country_population[country.find('name').text] += float(state.find('population').text)\n",
    "        except:\n",
    "            next\n",
    "        for city in state.iterfind('city'):\n",
    "            try:\n",
    "                country_population[country.find('name').text] += float(city.find('population').text)\n",
    "            except:\n",
    "                next\n",
    "\n",
    "for country in document.iterfind('country'):\n",
    "    for ethnicgroup in country.iterfind('ethnicgroup'):\n",
    "        try:\n",
    "            if ethnicgroup.text in ethnic_population:\n",
    "                ethnic_population[ethnicgroup.text] += country_population[country.find('name').text]*float(ethnicgroup.get('percentage'))/100\n",
    "            else:\n",
    "                ethnic_population[ethnicgroup.text] = country_population[country.find('name').text]*float(ethnicgroup.get('percentage'))/100\n",
    "        except:\n",
    "            next"
   ]
  },
  {
   "cell_type": "markdown",
   "metadata": {},
   "source": [
    "## 10 ethnic groups with the largest overall populations (sum of best/latest estimates over all countries)"
   ]
  },
  {
   "cell_type": "code",
   "execution_count": 241,
   "metadata": {
    "collapsed": false
   },
   "outputs": [
    {
     "data": {
      "text/html": [
       "<div>\n",
       "<table border=\"1\" class=\"dataframe\">\n",
       "  <thead>\n",
       "    <tr style=\"text-align: right;\">\n",
       "      <th></th>\n",
       "      <th>Ethnic_Groups</th>\n",
       "      <th>Population</th>\n",
       "    </tr>\n",
       "  </thead>\n",
       "  <tbody>\n",
       "    <tr>\n",
       "      <th>0</th>\n",
       "      <td>Han Chinese</td>\n",
       "      <td>1.593119e+09</td>\n",
       "    </tr>\n",
       "    <tr>\n",
       "      <th>1</th>\n",
       "      <td>Indo-Aryan</td>\n",
       "      <td>7.776357e+08</td>\n",
       "    </tr>\n",
       "    <tr>\n",
       "      <th>2</th>\n",
       "      <td>European</td>\n",
       "      <td>6.668512e+08</td>\n",
       "    </tr>\n",
       "    <tr>\n",
       "      <th>3</th>\n",
       "      <td>African</td>\n",
       "      <td>2.896678e+08</td>\n",
       "    </tr>\n",
       "    <tr>\n",
       "      <th>4</th>\n",
       "      <td>Russian</td>\n",
       "      <td>2.705583e+08</td>\n",
       "    </tr>\n",
       "    <tr>\n",
       "      <th>5</th>\n",
       "      <td>Dravidian</td>\n",
       "      <td>2.700124e+08</td>\n",
       "    </tr>\n",
       "    <tr>\n",
       "      <th>6</th>\n",
       "      <td>Japanese</td>\n",
       "      <td>2.506371e+08</td>\n",
       "    </tr>\n",
       "    <tr>\n",
       "      <th>7</th>\n",
       "      <td>German</td>\n",
       "      <td>1.706358e+08</td>\n",
       "    </tr>\n",
       "    <tr>\n",
       "      <th>8</th>\n",
       "      <td>Mestizo</td>\n",
       "      <td>1.666139e+08</td>\n",
       "    </tr>\n",
       "    <tr>\n",
       "      <th>9</th>\n",
       "      <td>Javanese</td>\n",
       "      <td>1.413179e+08</td>\n",
       "    </tr>\n",
       "  </tbody>\n",
       "</table>\n",
       "</div>"
      ],
      "text/plain": [
       "  Ethnic_Groups    Population\n",
       "0   Han Chinese  1.593119e+09\n",
       "1    Indo-Aryan  7.776357e+08\n",
       "2      European  6.668512e+08\n",
       "3       African  2.896678e+08\n",
       "4       Russian  2.705583e+08\n",
       "5     Dravidian  2.700124e+08\n",
       "6      Japanese  2.506371e+08\n",
       "7        German  1.706358e+08\n",
       "8       Mestizo  1.666139e+08\n",
       "9      Javanese  1.413179e+08"
      ]
     },
     "execution_count": 241,
     "metadata": {},
     "output_type": "execute_result"
    }
   ],
   "source": [
    "pd.DataFrame(sorted(ethnic_population.items(), key=lambda x:x[1], reverse=True)[:10], columns=['Ethnic_Groups', 'Population'])"
   ]
  },
  {
   "cell_type": "code",
   "execution_count": 243,
   "metadata": {
    "collapsed": false
   },
   "outputs": [
    {
     "data": {
      "text/plain": [
       "[{'country': 'N', 'length': '604', 'name': 'Glomma'},\n",
       " {'country': 'N', 'length': '322', 'name': 'Lagen'},\n",
       " {'country': 'S', 'length': '93', 'name': 'Goetaaelv'},\n",
       " {'country': 'S', 'length': '460', 'name': 'Klaraelv'},\n",
       " {'country': 'S', 'length': '470', 'name': 'Umeaelv'},\n",
       " {'country': 'S', 'length': '520', 'name': 'Dalaelv'},\n",
       " {'country': 'S', 'length': '320', 'name': 'Vaesterdalaelv'},\n",
       " {'country': 'S', 'length': '241', 'name': 'Oesterdalaelv'},\n",
       " {'country': 'SF', 'length': '145', 'name': 'Paatsjoki'},\n",
       " {'country': 'SF', 'length': '300', 'name': 'Ounasjoki'},\n",
       " {'country': 'SF', 'length': '550', 'name': 'Kemijoki'},\n",
       " {'country': 'SF', 'length': '107', 'name': 'Oulujoki'},\n",
       " {'country': 'SF', 'length': '203', 'name': 'Kymijoki'},\n",
       " {'country': 'SF', 'length': '121', 'name': 'Kokemaeenjoki'},\n",
       " {'country': 'SF', 'length': '162', 'name': 'Vuoksi'},\n",
       " {'country': 'GB', 'length': '346', 'name': 'Thames'},\n",
       " {'country': 'NL', 'length': '925', 'name': 'Maas'},\n",
       " {'country': 'F', 'length': '1013', 'name': 'Loire'},\n",
       " {'country': 'F', 'length': '647', 'name': 'Garonne'},\n",
       " {'country': 'F', 'length': '812', 'name': 'Rhone'},\n",
       " {'country': 'F', 'length': '480', 'name': 'Saone'},\n",
       " {'country': 'F', 'length': '453', 'name': 'Doubs'},\n",
       " {'country': 'F', 'length': '290', 'name': 'Isere'},\n",
       " {'country': 'F', 'length': '776', 'name': 'Seine'},\n",
       " {'country': 'F', 'length': '514', 'name': 'Marne'},\n",
       " {'country': 'E', 'length': '1007', 'name': 'Tajo'},\n",
       " {'country': 'E', 'length': '897', 'name': 'Douro'},\n",
       " {'country': 'E', 'length': '742', 'name': 'Guadiana'},\n",
       " {'country': 'E', 'length': '657', 'name': 'Guadalquivir'},\n",
       " {'country': 'E', 'length': '925', 'name': 'Ebro'},\n",
       " {'country': 'I', 'length': '652', 'name': 'Po'},\n",
       " {'country': 'I', 'length': '248', 'name': 'Ticino'},\n",
       " {'country': 'I', 'length': '313', 'name': 'Adda'},\n",
       " {'country': 'I', 'length': '75', 'name': 'Mincio'},\n",
       " {'country': 'I', 'length': '415', 'name': 'Etsch'},\n",
       " {'country': 'I', 'length': '405', 'name': 'Tiber'},\n",
       " {'country': 'I', 'length': '240', 'name': 'Arno'},\n",
       " {'country': 'D', 'length': '2845', 'name': 'Donau'},\n",
       " {'country': 'D', 'length': '45.9', 'name': 'Breg'},\n",
       " {'country': 'D', 'length': '43', 'name': 'Brigach'},\n",
       " {'country': 'D', 'length': '147', 'name': 'Iller'},\n",
       " {'country': 'D', 'length': '264', 'name': 'Lech'},\n",
       " {'country': 'D', 'length': '295', 'name': 'Isar'},\n",
       " {'country': 'D', 'length': '168', 'name': 'Ammer'},\n",
       " {'country': 'D', 'length': '35', 'name': 'Würm'},\n",
       " {'country': 'D', 'length': '517', 'name': 'Inn'},\n",
       " {'country': 'D', 'length': '150', 'name': 'Alz'},\n",
       " {'country': 'D', 'length': '225', 'name': 'Salzach'},\n",
       " {'country': 'A', 'length': '254', 'name': 'Enns'},\n",
       " {'country': 'A', 'length': '358', 'name': 'March'},\n",
       " {'country': 'A', 'length': '250', 'name': 'Raab'},\n",
       " {'country': 'SK', 'length': '403', 'name': 'Waag'},\n",
       " {'country': 'I', 'length': '749', 'name': 'Drau'},\n",
       " {'country': 'A', 'length': '453', 'name': 'Mur'},\n",
       " {'country': 'H', 'length': '1308', 'name': 'Theiss'},\n",
       " {'country': 'BIH', 'length': '945', 'name': 'Save'},\n",
       " {'country': 'BIH', 'length': '346', 'name': 'Drina'},\n",
       " {'country': 'BIH', 'length': '140', 'name': 'Tara'},\n",
       " {'country': 'BIH', 'length': '120', 'name': 'Piva'},\n",
       " {'country': 'RO', 'length': '615', 'name': 'Olt'},\n",
       " {'country': 'RO', 'length': '953', 'name': 'Pruth'},\n",
       " {'country': 'UA', 'length': '1352', 'name': 'Dnjestr'},\n",
       " {'country': 'D', 'length': '440', 'name': 'Weser'},\n",
       " {'country': 'D', 'length': '211', 'name': 'Aller'},\n",
       " {'country': 'D', 'length': '281', 'name': 'Leine'},\n",
       " {'country': 'D', 'length': '292', 'name': 'Werra'},\n",
       " {'country': 'D', 'length': '221', 'name': 'Fulda'},\n",
       " {'country': 'D', 'length': '1091', 'name': 'Elbe'},\n",
       " {'country': 'CZ', 'length': '440', 'name': 'Moldau'},\n",
       " {'country': 'D', 'length': '1324', 'name': 'Rhein'},\n",
       " {'country': 'D', 'length': '524', 'name': 'Main'},\n",
       " {'country': 'D', 'length': '544', 'name': 'Mosel'},\n",
       " {'country': 'D', 'length': '227', 'name': 'Saar'},\n",
       " {'country': 'D', 'length': '367', 'name': 'Neckar'},\n",
       " {'country': 'CH', 'length': '288', 'name': 'Aare'},\n",
       " {'country': 'CH', 'length': '164', 'name': 'Reuss'},\n",
       " {'country': 'CH', 'length': '36.3', 'name': 'Limmat'},\n",
       " {'country': 'D', 'length': '866', 'name': 'Oder'},\n",
       " {'country': 'PL', 'length': '1047', 'name': 'Weichsel'},\n",
       " {'country': 'PL', 'length': '448', 'name': 'Narew'},\n",
       " {'country': 'PL', 'length': '772', 'name': 'Western Bug'},\n",
       " {'country': 'IL', 'length': '251', 'name': 'Jordan'},\n",
       " {'country': 'TR', 'length': '1364', 'name': 'Kura'},\n",
       " {'country': 'IRQ', 'length': '193', 'name': 'Schatt al Arab'},\n",
       " {'country': 'TR', 'length': '1900', 'name': 'Tigris'},\n",
       " {'country': 'IRQ', 'length': '2736', 'name': 'Euphrat'},\n",
       " {'country': 'TR', 'length': '720', 'name': 'Murat'},\n",
       " {'country': 'TR', 'length': '720', 'name': 'Karasu'},\n",
       " {'country': 'IR', 'length': '950', 'name': 'Karun'},\n",
       " {'country': 'R', 'length': '740', 'name': 'Northern Dwina'},\n",
       " {'country': 'R', 'length': '558', 'name': 'Suchona'},\n",
       " {'country': 'R', 'length': '1809', 'name': 'Petschora'},\n",
       " {'country': 'R', 'length': '74', 'name': 'Newa'},\n",
       " {'country': 'R', 'length': '224', 'name': 'Swir'},\n",
       " {'country': 'R', 'length': '78', 'name': 'Narva'},\n",
       " {'country': 'R', 'length': '1020', 'name': 'Western Dwina'},\n",
       " {'country': 'UA', 'length': '1352', 'name': 'Dnister'},\n",
       " {'country': 'UA', 'length': '2201', 'name': 'Dnepr'},\n",
       " {'country': 'UA', 'length': '775', 'name': 'Prypjat'},\n",
       " {'country': 'R', 'length': '1870', 'name': 'Don'},\n",
       " {'country': 'R', 'length': '3531', 'name': 'Volga'},\n",
       " {'country': 'R', 'length': '1480', 'name': 'Oka'},\n",
       " {'country': 'R', 'length': '1805', 'name': 'Kama'},\n",
       " {'country': 'R', 'length': '2428', 'name': 'Ural'},\n",
       " {'country': 'R', 'length': '3650', 'name': 'Ob'},\n",
       " {'country': 'R', 'length': '4248', 'name': 'Irtysch'},\n",
       " {'country': 'R', 'length': '1591', 'name': 'Tobol'},\n",
       " {'country': 'R', 'length': '2450', 'name': 'Ischim'},\n",
       " {'country': 'R', 'length': '688', 'name': 'Katun'},\n",
       " {'country': 'R', 'length': '4092', 'name': 'Jenissej'},\n",
       " {'country': 'R', 'length': '1779', 'name': 'Angara'},\n",
       " {'country': 'R', 'length': '992', 'name': 'Selenge'},\n",
       " {'country': 'R', 'length': '1636', 'name': 'Chatanga'},\n",
       " {'country': 'R', 'length': '4400', 'name': 'Lena'},\n",
       " {'country': 'R', 'length': '2824', 'name': 'Amur'},\n",
       " {'country': 'R', 'length': '560', 'name': 'Schilka'},\n",
       " {'country': 'R', 'length': '1620', 'name': 'Argun'},\n",
       " {'country': 'R', 'length': '2129', 'name': 'Kolyma'},\n",
       " {'country': 'KAZ', 'length': '2129', 'name': 'Syrdarja'},\n",
       " {'country': 'UZB', 'length': '807', 'name': 'Naryn'},\n",
       " {'country': 'TAD', 'length': '1415', 'name': 'Amudarja'},\n",
       " {'country': 'TAD', 'length': '1141', 'name': 'Pjandsh'},\n",
       " {'country': 'TAD', 'length': '133', 'name': 'Bartang'},\n",
       " {'country': 'TAD', 'length': '395', 'name': 'Murgab'},\n",
       " {'country': 'CN', 'length': '1001', 'name': 'Ili'},\n",
       " {'country': 'CN', 'length': '3260', 'name': 'Tarim-Yarkend'},\n",
       " {'country': 'CN', 'length': '4845', 'name': 'Hwangho'},\n",
       " {'country': 'CN', 'length': '6380', 'name': 'Jangtse'},\n",
       " {'country': 'CN', 'length': '4350', 'name': 'Mekong'},\n",
       " {'country': 'CN', 'length': '2980', 'name': 'Saluen'},\n",
       " {'country': 'CN', 'length': '2170', 'name': 'Irawaddy'},\n",
       " {'country': 'IND', 'length': '2511', 'name': 'Ganges'},\n",
       " {'country': 'CN', 'length': '2896', 'name': 'Brahmaputra'},\n",
       " {'country': 'CN', 'length': '3180', 'name': 'Indus'},\n",
       " {'country': 'RI', 'length': '150', 'name': 'Asahan'},\n",
       " {'country': 'CDN', 'length': '3185', 'name': 'Yukon River'},\n",
       " {'country': 'CDN', 'length': '1903', 'name': 'Mackenzie River'},\n",
       " {'country': 'CDN', 'length': '664', 'name': 'Nelson River'},\n",
       " {'country': 'CDN', 'length': '1392', 'name': 'Saskatchewan River'},\n",
       " {'country': 'CDN', 'length': '1197', 'name': 'Saint Lawrence River'},\n",
       " {'country': 'CDN', 'length': '58', 'name': 'Niagara River'},\n",
       " {'country': 'CDN', 'length': '200', 'name': 'Detroit River'},\n",
       " {'country': 'CDN', 'length': '120', 'name': 'Saint Marys River'},\n",
       " {'country': 'USA', 'length': '0.1', 'name': 'Straits of Mackinac'},\n",
       " {'country': 'CDN', 'length': '560', 'name': 'Manicouagan'},\n",
       " {'country': 'CDN', 'length': '124', 'name': 'Riviere Richelieu'},\n",
       " {'country': 'USA', 'length': '177', 'name': 'Merrimack River'},\n",
       " {'country': 'USA', 'length': '655', 'name': 'Connecticut River'},\n",
       " {'country': 'USA', 'length': '493', 'name': 'Hudson River'},\n",
       " {'country': 'USA', 'length': '3778', 'name': 'Mississippi'},\n",
       " {'country': 'USA', 'length': '4130', 'name': 'Missouri'},\n",
       " {'country': 'USA', 'length': '2334', 'name': 'Arkansas'},\n",
       " {'country': 'USA', 'length': '1579', 'name': 'Ohio River'},\n",
       " {'country': 'USA', 'length': '523', 'name': 'Allegheny River'},\n",
       " {'country': 'USA', 'length': '1049', 'name': 'Tennessee'},\n",
       " {'country': 'CDN', 'length': '1953', 'name': 'Columbia River'},\n",
       " {'country': 'USA', 'length': '225', 'name': 'Truckee River'},\n",
       " {'country': 'MEX', 'length': '2330', 'name': 'Colorado'},\n",
       " {'country': 'MEX', 'length': '3034', 'name': 'Rio Grande'},\n",
       " {'country': 'MEX', 'length': '965', 'name': 'Rio Lerma'},\n",
       " {'country': 'CR', 'length': '199', 'name': 'Rio San Juan'},\n",
       " {'country': 'BOL', 'length': '383', 'name': 'Rio Desaguadero'},\n",
       " {'country': 'CO', 'length': '1538', 'name': 'Rio Magdalena'},\n",
       " {'country': 'YV', 'length': '2140', 'name': 'Orinoco'},\n",
       " {'country': 'CO', 'length': '6448', 'name': 'Amazonas'},\n",
       " {'country': 'CO', 'length': '2253', 'name': 'Rio Negro'},\n",
       " {'country': 'BR', 'length': '1450', 'name': 'Rio Madeira'},\n",
       " {'country': 'BOL', 'length': '1931', 'name': 'Rio Mamore'},\n",
       " {'country': 'BR', 'length': '2640', 'name': 'Tocantins'},\n",
       " {'country': 'BR', 'length': '2830', 'name': 'Rio Sao Francisco'},\n",
       " {'country': 'RA', 'length': '3998', 'name': 'Parana'},\n",
       " {'country': 'RA', 'length': '2549', 'name': 'Paraguay'},\n",
       " {'country': 'RA', 'length': '1790', 'name': 'Uruguay'},\n",
       " {'country': 'SN', 'length': '1120', 'name': 'Gambia'},\n",
       " {'country': 'SN', 'length': '1430', 'name': 'Senegal'},\n",
       " {'country': 'GH', 'length': '1500', 'name': 'Volta'},\n",
       " {'country': 'RMM', 'length': '4184', 'name': 'Niger'},\n",
       " {'country': 'CI', 'length': '430', 'name': 'Bani'},\n",
       " {'country': 'CAM', 'length': '1400', 'name': 'Benue'},\n",
       " {'country': 'CAM', 'length': '1400', 'name': 'Schari'},\n",
       " {'country': 'ETH', 'length': '1120', 'name': 'Atbara'},\n",
       " {'country': 'ETH', 'length': '1783', 'name': 'Blue Nile'},\n",
       " {'country': 'ETH', 'length': '320', 'name': 'Pibor'},\n",
       " {'country': 'ETH', 'length': '306', 'name': 'Baro'},\n",
       " {'country': 'ZRE', 'length': '230', 'name': 'Semliki'},\n",
       " {'country': 'EAT', 'length': '275', 'name': 'Akagera'},\n",
       " {'country': 'ETH', 'length': '1658', 'name': 'Jubba'},\n",
       " {'country': 'ETH', 'length': '1820', 'name': 'Shabelle'},\n",
       " {'country': 'CAM', 'length': '918', 'name': 'Sanaga'},\n",
       " {'country': 'ZRE', 'length': '4374', 'name': 'Zaire'},\n",
       " {'country': 'CAM', 'length': '530', 'name': 'Sanga'},\n",
       " {'country': 'ZRE', 'length': '1120', 'name': 'Ubangi'},\n",
       " {'country': 'ZRE', 'length': '280', 'name': 'Bomu'},\n",
       " {'country': 'ZRE', 'length': '1130', 'name': 'Uelle'},\n",
       " {'country': 'ZRE', 'length': '100', 'name': 'Kwa'},\n",
       " {'country': 'ZRE', 'length': '200', 'name': 'Fimi'},\n",
       " {'country': 'ZRE', 'length': '900', 'name': 'Lukenie'},\n",
       " {'country': 'ANG', 'length': '1983', 'name': 'Kasai'},\n",
       " {'country': 'ANG', 'length': '1100', 'name': 'Cuango'},\n",
       " {'country': 'ANG', 'length': '970', 'name': 'Cuilo'},\n",
       " {'country': 'ZRE', 'length': '130', 'name': 'Ruki'},\n",
       " {'country': 'ZRE', 'length': '830', 'name': 'Busira'},\n",
       " {'country': 'ZRE', 'length': '1300', 'name': 'Tshuapa'},\n",
       " {'country': 'ZRE', 'length': '970', 'name': 'Lulua'},\n",
       " {'country': 'ZRE', 'length': '1450', 'name': 'Lomami'},\n",
       " {'country': 'ZRE', 'length': '1287', 'name': 'Aruwimi'},\n",
       " {'country': 'ZRE', 'length': '350', 'name': 'Lukuga'},\n",
       " {'country': 'ZRE', 'length': '104', 'name': 'Ruzizi'},\n",
       " {'country': 'ZRE', 'length': '350', 'name': 'Luvua'},\n",
       " {'country': 'ZRE', 'length': '300', 'name': 'Luapula'},\n",
       " {'country': 'ANG', 'length': '2574', 'name': 'Zambezi'},\n",
       " {'country': 'MOC', 'length': '402', 'name': 'Chire'},\n",
       " {'country': 'ANG', 'length': '1700', 'name': 'Okavango'},\n",
       " {'country': 'RSA', 'length': '1750', 'name': 'Limpopo'},\n",
       " {'country': 'RSA', 'length': '2160', 'name': 'Oranje'},\n",
       " {'country': 'RSA', 'length': '1251', 'name': 'Vaal'},\n",
       " {'country': 'AUS', 'length': '2589', 'name': 'Murray River'},\n",
       " {'country': 'AUS', 'length': '2739', 'name': 'Darling River'},\n",
       " {'country': 'AUS', 'length': '1579', 'name': 'Murrumbidgee River'},\n",
       " {'country': 'AUS', 'length': '83', 'name': 'Eucumbene River'},\n",
       " {'country': 'AUS', 'length': '403', 'name': 'Snowy River'}]"
      ]
     },
     "execution_count": 243,
     "metadata": {},
     "output_type": "execute_result"
    }
   ],
   "source": [
    "rivers_list=[]\n",
    "rivers_df = pd.DataFrame()\n",
    "for rivers in document.iterfind('river'):\n",
    "    try:\n",
    "        rivers_list.append({'name':rivers.find('name').text, 'length':rivers.find('length').text, 'country':rivers.find('located').attrib['country']})\n",
    "    except:\n",
    "        next\n",
    "rivers_list"
   ]
  },
  {
   "cell_type": "code",
   "execution_count": null,
   "metadata": {
    "collapsed": true
   },
   "outputs": [],
   "source": []
  },
  {
   "cell_type": "code",
   "execution_count": null,
   "metadata": {
    "collapsed": true
   },
   "outputs": [],
   "source": []
  },
  {
   "cell_type": "code",
   "execution_count": null,
   "metadata": {
    "collapsed": true
   },
   "outputs": [],
   "source": []
  }
 ],
 "metadata": {
  "kernelspec": {
   "display_name": "Python 3",
   "language": "python",
   "name": "python3"
  },
  "language_info": {
   "codemirror_mode": {
    "name": "ipython",
    "version": 3
   },
   "file_extension": ".py",
   "mimetype": "text/x-python",
   "name": "python",
   "nbconvert_exporter": "python",
   "pygments_lexer": "ipython3",
   "version": "3.4.3"
  }
 },
 "nbformat": 4,
 "nbformat_minor": 0
}
