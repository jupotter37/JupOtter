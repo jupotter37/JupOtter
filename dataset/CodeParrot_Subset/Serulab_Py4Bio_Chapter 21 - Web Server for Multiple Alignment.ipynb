{
  "nbformat": 4,
  "nbformat_minor": 0,
  "metadata": {
    "kernelspec": {
      "display_name": "Python 3.6",
      "language": "python",
      "name": "python36"
    },
    "language_info": {
      "codemirror_mode": {
        "name": "ipython",
        "version": 3
      },
      "file_extension": ".py",
      "mimetype": "text/x-python",
      "name": "python",
      "nbconvert_exporter": "python",
      "pygments_lexer": "ipython3",
      "version": "3.6.0"
    },
    "colab": {
      "name": "Copy of Chapter 21 - Web Server for Multiple Alignment.ipynb",
      "provenance": []
    }
  },
  "cells": [
    {
      "cell_type": "markdown",
      "metadata": {
        "collapsed": true,
        "id": "19cGfqbyYe7L",
        "colab_type": "text"
      },
      "source": [
        "Python for Bioinformatics\n",
        "-----------------------------\n",
        "\n",
        "![title](https://s3.amazonaws.com/py4bio/tapabiosmall.png)\n",
        "\n",
        "This Jupyter notebook is intented to be used alongside the book [Python for Bioinformatics](http://py3.us/)"
      ]
    },
    {
      "cell_type": "markdown",
      "metadata": {
        "id": "Ly_yrSvwYe7O",
        "colab_type": "text"
      },
      "source": [
        "Chapter 21: Web Server for Multiple Alignment\n",
        "-----------------------------"
      ]
    },
    {
      "cell_type": "code",
      "metadata": {
        "id": "dwWNepYdYh8E",
        "colab_type": "code",
        "colab": {}
      },
      "source": [
        "!wget https://github.com/Serulab/Py4Bio/archive/master.zip"
      ],
      "execution_count": 0,
      "outputs": []
    },
    {
      "cell_type": "code",
      "metadata": {
        "id": "tMxbGB4MYqL_",
        "colab_type": "code",
        "colab": {}
      },
      "source": [
        "!unzip master.zip"
      ],
      "execution_count": 0,
      "outputs": []
    },
    {
      "cell_type": "code",
      "metadata": {
        "id": "i8WcTXK-Y459",
        "colab_type": "code",
        "colab": {}
      },
      "source": [
        "!pip install bottle"
      ],
      "execution_count": 0,
      "outputs": []
    },
    {
      "cell_type": "code",
      "metadata": {
        "id": "XESey7feZJMl",
        "colab_type": "code",
        "colab": {}
      },
      "source": [
        "!cp -r Py4Bio-master/code/ch21/* ./"
      ],
      "execution_count": 0,
      "outputs": []
    },
    {
      "cell_type": "code",
      "metadata": {
        "id": "2nX3K-kEZhtI",
        "colab_type": "code",
        "colab": {}
      },
      "source": [
        "!wget https://bin.equinox.io/c/4VmDzA7iaHb/ngrok-stable-linux-amd64.zip"
      ],
      "execution_count": 0,
      "outputs": []
    },
    {
      "cell_type": "code",
      "metadata": {
        "id": "X1ieNYwyZlhP",
        "colab_type": "code",
        "colab": {}
      },
      "source": [
        "!unzip ngrok-stable-linux-amd64.zip"
      ],
      "execution_count": 0,
      "outputs": []
    },
    {
      "cell_type": "code",
      "metadata": {
        "id": "xszjHYmaZsmB",
        "colab_type": "code",
        "colab": {}
      },
      "source": [
        "!sed -i \"s/port=8080/port=8888/\" ./muscleserver.py"
      ],
      "execution_count": 0,
      "outputs": []
    },
    {
      "cell_type": "code",
      "metadata": {
        "id": "OkfDbnB2ZyRo",
        "colab_type": "code",
        "colab": {}
      },
      "source": [
        "get_ipython().system_raw('./ngrok http 8888 &')"
      ],
      "execution_count": 0,
      "outputs": []
    },
    {
      "cell_type": "code",
      "metadata": {
        "id": "Lyy2JLz3Z1gt",
        "colab_type": "code",
        "colab": {}
      },
      "source": [
        "%%sh\n",
        "curl -s http://localhost:4040/api/tunnels | python -c \"import sys, json; print(json.load(sys.stdin)['tunnels'][0]['public_url'])\""
      ],
      "execution_count": 0,
      "outputs": []
    },
    {
      "cell_type": "code",
      "metadata": {
        "id": "dCI1FcNHaDph",
        "colab_type": "code",
        "colab": {}
      },
      "source": [
        "!python ./muscleserver.py"
      ],
      "execution_count": 0,
      "outputs": []
    },
    {
      "cell_type": "code",
      "metadata": {
        "id": "FBu0t2RoaF-l",
        "colab_type": "code",
        "colab": {}
      },
      "source": [
        ""
      ],
      "execution_count": 0,
      "outputs": []
    }
  ]
}
