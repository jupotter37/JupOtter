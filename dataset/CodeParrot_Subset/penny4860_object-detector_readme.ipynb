{
 "cells": [
  {
   "cell_type": "markdown",
   "metadata": {},
   "source": [
    "# object-detector\n",
    "\n",
    "This project implements basic object detection framework using python.\n",
    "\n",
    "References for building this project is [pyimagesearch](https://gurus.pyimagesearch.com/).\n",
    "\n",
    "## 1. Quick Start with default configuration file\n",
    "\n",
    "### 1) Download dataset\n",
    "\n",
    "* Download [Caltech-101](http://www.vision.caltech.edu/Image_Datasets/Caltech101/101_ObjectCategories.tar.gz)\n",
    "* Download [houses](http://www.robots.ox.ac.uk/~vgg/data/houses/houses.tar) : This dataset will be used as the negative images\n",
    "\n",
    "### 2) Extract dataset files\n",
    "\n",
    "* Extract dataset files.\n",
    "* Locate dataset directory as the following structure.\n",
    "\n",
    "```\n",
    "|--- [Project Directory]\n",
    "|--- [datasets]\n",
    "        |--- [caltech101]\n",
    "                |--- [101_ObjectCategories]\n",
    "                |--- [Annotations]\n",
    "        |--- [houses]\n",
    "```\n",
    "\n",
    "### 3) Confirm the path of the dataset\n",
    "\n",
    "Run \"0_check_dataset_path.py\". If you can find the following message, you can go to the next step.\n",
    "\n",
    "```\n",
    "c:\\object-detector>python 0_check_dataset_path.py\n",
    "Positive dataset location is correct\n",
    "Negative dataset location is correct\n",
    "```\n"
   ]
  },
  {
   "cell_type": "markdown",
   "metadata": {},
   "source": [
    "### 4) Run the main driver\n",
    "\n",
    "Run \"main.py\". It will automatically build object-detector with the 7-step framework.\n",
    "\n",
    "#### 4.1) Displayed Test Image\n",
    "\n",
    "After finishing step 6, you can see the following test image and recognized bounding box.\n",
    "<img src=\"examples/car_side.png\"> \n",
    "\n",
    "In the case of using **faces.conf** we can see the following test image and recognized bounding box.\n",
    "<img src=\"examples/faces.png\">\n",
    "\n",
    "#### 4.2) Average-Precision Evaluation\n",
    "\n",
    "AP(Average Precision) is a measure of evaluating object detector. After finishing step 7, object detector's average precision score will be printed like this\n",
    "\n",
    "```\n",
    "Average Precision : 0.937441470843\n",
    "```\n",
    "\n",
    "It is also displayed [precision-recall curve](https://en.wikipedia.org/wiki/Precision_and_recall).\n",
    "\n",
    "<img src=\"examples/precision-recall.png\">\n",
    "\n"
   ]
  }
 ],
 "metadata": {
  "anaconda-cloud": {},
  "kernelspec": {
   "display_name": "Python [Root]",
   "language": "python",
   "name": "Python [Root]"
  },
  "language_info": {
   "codemirror_mode": {
    "name": "ipython",
    "version": 2
   },
   "file_extension": ".py",
   "mimetype": "text/x-python",
   "name": "python",
   "nbconvert_exporter": "python",
   "pygments_lexer": "ipython2",
   "version": "2.7.12"
  }
 },
 "nbformat": 4,
 "nbformat_minor": 0
}
