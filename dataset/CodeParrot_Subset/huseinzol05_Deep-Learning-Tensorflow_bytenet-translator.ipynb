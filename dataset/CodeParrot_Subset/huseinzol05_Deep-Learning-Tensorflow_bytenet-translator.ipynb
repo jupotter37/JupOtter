{
 "cells": [
  {
   "cell_type": "code",
   "execution_count": 1,
   "metadata": {},
   "outputs": [],
   "source": [
    "import tensorflow as tf\n",
    "import numpy as np\n",
    "import collections"
   ]
  },
  {
   "cell_type": "code",
   "execution_count": 2,
   "metadata": {},
   "outputs": [],
   "source": [
    "def layer_normalization(x, epsilon=1e-8):\n",
    "    shape = x.get_shape()\n",
    "    tf.Variable(tf.zeros(shape = [int(shape[-1])]))\n",
    "    beta = tf.Variable(tf.zeros(shape = [int(shape[-1])]))\n",
    "    gamma = tf.Variable(tf.ones(shape = [int(shape[-1])]))\n",
    "    mean, variance = tf.nn.moments(x, axes=[len(shape) - 1], keep_dims=True)\n",
    "    x = (x - mean) /  tf.sqrt(variance + epsilon)\n",
    "    return gamma * x + beta\n",
    "\n",
    "def conv1d(input_, output_channels, dilation = 1, filter_width = 1, causal = False):\n",
    "    w = tf.Variable(tf.random_normal([1, filter_width, int(input_.get_shape()[-1]), output_channels], stddev = 0.02))\n",
    "    b = tf.Variable(tf.zeros(shape = [output_channels]))\n",
    "    if causal:\n",
    "        padding = [[0, 0], [(filter_width - 1) * dilation, 0], [0, 0]]\n",
    "        padded = tf.pad(input_, padding)\n",
    "        input_expanded = tf.expand_dims(padded, dim = 1)\n",
    "        out = tf.nn.atrous_conv2d(input_expanded, w, rate = dilation, padding = 'VALID') + b\n",
    "    else:\n",
    "        input_expanded = tf.expand_dims(input_, dim = 1)\n",
    "        out = tf.nn.atrous_conv2d(input_expanded, w, rate = dilation, padding = 'SAME') + b\n",
    "    return tf.squeeze(out, [1])\n",
    "\n",
    "def bytenet_residual_block(input_, dilation, layer_no, \n",
    "                            residual_channels, filter_width, \n",
    "                            causal = True):\n",
    "    block_type = \"decoder\" if causal else \"encoder\"\n",
    "    block_name = \"bytenet_{}_layer_{}_{}\".format(block_type, layer_no, dilation)\n",
    "    with tf.variable_scope(block_name):\n",
    "        relu1 = tf.nn.relu(layer_normalization(input_))\n",
    "        conv1 = conv1d(relu1, residual_channels)\n",
    "        relu2 = tf.nn.relu(layer_normalization(conv1))\n",
    "        dilated_conv = conv1d(relu2, residual_channels, \n",
    "                              dilation, filter_width,\n",
    "                              causal = causal)\n",
    "        print(dilated_conv)\n",
    "        relu3 = tf.nn.relu(layer_normalization(dilated_conv))\n",
    "        conv2 = conv1d(relu3, 2 * residual_channels)\n",
    "        return input_ + conv2\n",
    "    \n",
    "def build_dataset(words, n_words):\n",
    "    count = [['GO', 0], ['PAD', 1], ['EOS', 2], ['UNK', 3]]\n",
    "    count.extend(collections.Counter(words).most_common(n_words - 1))\n",
    "    dictionary = dict()\n",
    "    for word, _ in count:\n",
    "        dictionary[word] = len(dictionary)\n",
    "    data = list()\n",
    "    unk_count = 0\n",
    "    for word in words:\n",
    "        index = dictionary.get(word, 0)\n",
    "        if index == 0:\n",
    "            unk_count += 1\n",
    "        data.append(index)\n",
    "    count[0][1] = unk_count\n",
    "    reversed_dictionary = dict(zip(dictionary.values(), dictionary.keys()))\n",
    "    return data, count, dictionary, reversed_dictionary\n",
    "    \n",
    "class ByteNet:\n",
    "    def __init__(self, from_vocab_size, to_vocab_size, channels, encoder_dilations,\n",
    "                decoder_dilations, encoder_filter_width, decoder_filter_width,\n",
    "                learning_rate = 0.001, beta1=0.5):\n",
    "        self.X = tf.placeholder(tf.int32, [None, None])\n",
    "        self.Y = tf.placeholder(tf.int32, [None, None])\n",
    "        target_1 = self.Y[:,:-1]\n",
    "        target_2 = self.Y[:,1:]\n",
    "        embedding_channels = 2 * channels\n",
    "        w_source_embedding = tf.Variable(tf.random_normal([from_vocab_size, \n",
    "                                                           embedding_channels], stddev = 0.02))\n",
    "        w_target_embedding = tf.Variable(tf.random_normal([to_vocab_size, \n",
    "                                                           embedding_channels], stddev = 0.02))\n",
    "        source_embedding = tf.nn.embedding_lookup(w_source_embedding, self.X)\n",
    "        target_1_embedding = tf.nn.embedding_lookup(w_target_embedding, target_1)\n",
    "        curr_input = source_embedding\n",
    "        for layer_no, dilation in enumerate(encoder_dilations):\n",
    "            curr_input = bytenet_residual_block(curr_input, dilation, \n",
    "                                                layer_no, channels, \n",
    "                                                encoder_filter_width, \n",
    "                                                causal = False)\n",
    "        encoder_output = curr_input\n",
    "        combined_embedding = target_1_embedding + encoder_output\n",
    "        curr_input = combined_embedding\n",
    "        for layer_no, dilation in enumerate(decoder_dilations):\n",
    "            curr_input = bytenet_residual_block(curr_input, dilation, \n",
    "                                                layer_no, channels, \n",
    "                                                encoder_filter_width, \n",
    "                                                causal = False)\n",
    "        logits = conv1d(tf.nn.relu(curr_input), to_vocab_size)\n",
    "        logits_flat = tf.reshape(logits, [-1, to_vocab_size])\n",
    "        target_flat = tf.reshape(target_2, [-1])\n",
    "        loss = tf.nn.sparse_softmax_cross_entropy_with_logits(labels = target_flat, \n",
    "                                                              logits = logits_flat)\n",
    "        self.cost = tf.reduce_mean(loss)\n",
    "        probs_flat = tf.nn.softmax(logits_flat)\n",
    "        self.t_probs = tf.reshape(probs_flat, [-1, tf.shape(logits)[1], to_vocab_size])\n",
    "        self.optimizer = tf.train.AdamOptimizer(learning_rate, beta1 = beta1).minimize(self.cost)"
   ]
  },
  {
   "cell_type": "code",
   "execution_count": 3,
   "metadata": {},
   "outputs": [
    {
     "name": "stdout",
     "output_type": "stream",
     "text": [
      "len from: 221260, len to: 221260\n"
     ]
    }
   ],
   "source": [
    "with open('fr-en/train.tags.fr-en.fr') as fopen:\n",
    "    text_from = fopen.read().split('\\n')[6:]\n",
    "with open('fr-en/train.tags.fr-en.en') as fopen:\n",
    "    text_to = fopen.read().split('\\n')[6:]\n",
    "\n",
    "print('len from: %d, len to: %d'%(len(text_from), len(text_to)))"
   ]
  },
  {
   "cell_type": "code",
   "execution_count": 4,
   "metadata": {},
   "outputs": [
    {
     "name": "stdout",
     "output_type": "stream",
     "text": [
      "vocab from size: 173507\n",
      "Most common words [['UNK', 3], ('de', 158814), ('la', 82461), ('et', 79564), ('que', 69773), ('le', 66324), ('les', 65856)]\n",
      "Sample data [156, 2149, 0, 38, 72, 0, 0, 57, 348, 17] ['Voici', 'Bill', 'GO', 'Je', 'suis', 'GO', 'GO', 'Nous', 'allons', 'vous']\n"
     ]
    }
   ],
   "source": [
    "concat_from = ' '.join(text_from).split()\n",
    "vocabulary_size_from = len(list(set(concat_from)))\n",
    "data_from, count_from, dictionary_from, rev_dictionary_from = build_dataset(concat_from, 5000)\n",
    "print('vocab from size: %d'%(vocabulary_size_from))\n",
    "print('Most common words', count_from[3:10])\n",
    "print('Sample data', data_from[:10], [rev_dictionary_from[i] for i in data_from[:10]])"
   ]
  },
  {
   "cell_type": "code",
   "execution_count": 5,
   "metadata": {},
   "outputs": [
    {
     "name": "stdout",
     "output_type": "stream",
     "text": [
      "vocab to size: 141656\n",
      "Most common words [['UNK', 3], ('the', 166129), ('to', 103797), ('of', 97106), ('and', 89421), ('a', 87656), ('that', 63781)]\n",
      "Sample data [78, 12, 2128, 0, 75, 0, 0, 15, 107, 54] ['This', 'is', 'Bill', 'GO', \"I'm\", 'GO', 'GO', 'And', \"we're\", 'going']\n"
     ]
    }
   ],
   "source": [
    "concat_to = ' '.join(text_to).split()\n",
    "vocabulary_size_to = len(list(set(concat_to)))\n",
    "data_to, count_to, dictionary_to, rev_dictionary_to = build_dataset(concat_to, 5000)\n",
    "print('vocab to size: %d'%(vocabulary_size_to))\n",
    "print('Most common words', count_to[3:10])\n",
    "print('Sample data', data_to[:10], [rev_dictionary_to[i] for i in data_to[:10]])"
   ]
  },
  {
   "cell_type": "code",
   "execution_count": 6,
   "metadata": {},
   "outputs": [],
   "source": [
    "GO = dictionary_from['GO']\n",
    "PAD = dictionary_from['PAD']\n",
    "EOS = dictionary_from['EOS']\n",
    "UNK = dictionary_from['UNK']"
   ]
  },
  {
   "cell_type": "code",
   "execution_count": 7,
   "metadata": {},
   "outputs": [],
   "source": [
    "def str_idx(corpus, dic):\n",
    "    X = []\n",
    "    for i in corpus:\n",
    "        ints = []\n",
    "        for k in i.split():\n",
    "            try:\n",
    "                ints.append(dic[k])\n",
    "            except Exception as e:\n",
    "                ints.append(UNK)\n",
    "        X.append(ints)\n",
    "    return X\n",
    "\n",
    "def create_buckets(text_from, text_to, bucket_quant, from_vocab, to_vocab):\n",
    "    buckets = {}\n",
    "    for i in range(len(text_from)):\n",
    "        text_from[i] = np.concatenate((text_from[i], [from_vocab['EOS']]) )\n",
    "        text_to[i] = np.concatenate( ([to_vocab['GO']], text_to[i], [to_vocab['EOS']]) )\n",
    "        sl = len(text_from[i])\n",
    "        tl = len(text_to[i])\n",
    "        new_length = max(sl, tl)\n",
    "        if new_length % bucket_quant > 0:\n",
    "            new_length = int(((new_length / bucket_quant) + 1) * bucket_quant)\n",
    "            \n",
    "        s_padding = np.array([from_vocab['PAD'] for ctr in range(sl, new_length)])\n",
    "        t_padding = np.array([to_vocab['PAD'] for ctr in range(tl, new_length + 1)])\n",
    "\n",
    "        text_from[i] = np.concatenate([text_from[i], s_padding])\n",
    "        text_to[i] = np.concatenate([text_to[i], t_padding])\n",
    "\n",
    "        if new_length in buckets:\n",
    "            buckets[new_length].append((text_from[i], text_to[i]))\n",
    "        else:\n",
    "            buckets[new_length] = [(text_from[i], text_to[i])]\n",
    "            \n",
    "    return buckets"
   ]
  },
  {
   "cell_type": "code",
   "execution_count": 8,
   "metadata": {},
   "outputs": [],
   "source": [
    "X = str_idx(text_from, dictionary_from)\n",
    "Y = str_idx(text_to, dictionary_to)"
   ]
  },
  {
   "cell_type": "code",
   "execution_count": 9,
   "metadata": {},
   "outputs": [],
   "source": [
    "buckets = create_buckets(X, Y, 50, dictionary_from, dictionary_to)\n",
    "bucket_sizes = [bucket_size for bucket_size in buckets]\n",
    "bucket_sizes.sort()"
   ]
  },
  {
   "cell_type": "code",
   "execution_count": 10,
   "metadata": {},
   "outputs": [
    {
     "name": "stdout",
     "output_type": "stream",
     "text": [
      "Number Of Buckets: 193\n"
     ]
    }
   ],
   "source": [
    "print(\"Number Of Buckets: %d\" %(len(buckets)))"
   ]
  },
  {
   "cell_type": "code",
   "execution_count": 11,
   "metadata": {},
   "outputs": [],
   "source": [
    "residual_channels = 512\n",
    "encoder_dilations = [1,2,4,8,16,1,2,4,8,16]\n",
    "decoder_dilations = [1,2,4,8,16,1,2,4,8,16]\n",
    "encoder_filter_width = 3\n",
    "decoder_filter_width = 3\n",
    "batch_size = 8\n",
    "epoch = 1"
   ]
  },
  {
   "cell_type": "code",
   "execution_count": 12,
   "metadata": {},
   "outputs": [
    {
     "name": "stdout",
     "output_type": "stream",
     "text": [
      "Tensor(\"bytenet_encoder_layer_0_1/Squeeze_1:0\", shape=(?, ?, 512), dtype=float32)\n",
      "Tensor(\"bytenet_encoder_layer_1_2/Squeeze_1:0\", shape=(?, ?, 512), dtype=float32)\n",
      "Tensor(\"bytenet_encoder_layer_2_4/Squeeze_1:0\", shape=(?, ?, 512), dtype=float32)\n",
      "Tensor(\"bytenet_encoder_layer_3_8/Squeeze_1:0\", shape=(?, ?, 512), dtype=float32)\n",
      "Tensor(\"bytenet_encoder_layer_4_16/Squeeze_1:0\", shape=(?, ?, 512), dtype=float32)\n",
      "Tensor(\"bytenet_encoder_layer_5_1/Squeeze_1:0\", shape=(?, ?, 512), dtype=float32)\n",
      "Tensor(\"bytenet_encoder_layer_6_2/Squeeze_1:0\", shape=(?, ?, 512), dtype=float32)\n",
      "Tensor(\"bytenet_encoder_layer_7_4/Squeeze_1:0\", shape=(?, ?, 512), dtype=float32)\n",
      "Tensor(\"bytenet_encoder_layer_8_8/Squeeze_1:0\", shape=(?, ?, 512), dtype=float32)\n",
      "Tensor(\"bytenet_encoder_layer_9_16/Squeeze_1:0\", shape=(?, ?, 512), dtype=float32)\n",
      "Tensor(\"bytenet_encoder_layer_0_1_1/Squeeze_1:0\", shape=(?, ?, 512), dtype=float32)\n",
      "Tensor(\"bytenet_encoder_layer_1_2_1/Squeeze_1:0\", shape=(?, ?, 512), dtype=float32)\n",
      "Tensor(\"bytenet_encoder_layer_2_4_1/Squeeze_1:0\", shape=(?, ?, 512), dtype=float32)\n",
      "Tensor(\"bytenet_encoder_layer_3_8_1/Squeeze_1:0\", shape=(?, ?, 512), dtype=float32)\n",
      "Tensor(\"bytenet_encoder_layer_4_16_1/Squeeze_1:0\", shape=(?, ?, 512), dtype=float32)\n",
      "Tensor(\"bytenet_encoder_layer_5_1_1/Squeeze_1:0\", shape=(?, ?, 512), dtype=float32)\n",
      "Tensor(\"bytenet_encoder_layer_6_2_1/Squeeze_1:0\", shape=(?, ?, 512), dtype=float32)\n",
      "Tensor(\"bytenet_encoder_layer_7_4_1/Squeeze_1:0\", shape=(?, ?, 512), dtype=float32)\n",
      "Tensor(\"bytenet_encoder_layer_8_8_1/Squeeze_1:0\", shape=(?, ?, 512), dtype=float32)\n",
      "Tensor(\"bytenet_encoder_layer_9_16_1/Squeeze_1:0\", shape=(?, ?, 512), dtype=float32)\n"
     ]
    }
   ],
   "source": [
    "tf.reset_default_graph()\n",
    "sess = tf.InteractiveSession()\n",
    "model = ByteNet(5005, 5005, residual_channels, encoder_dilations,\n",
    "               decoder_dilations, encoder_filter_width, decoder_filter_width)\n",
    "sess.run(tf.global_variables_initializer())"
   ]
  },
  {
   "cell_type": "code",
   "execution_count": null,
   "metadata": {},
   "outputs": [],
   "source": [
    "def get_batch_from_pairs(pair_list):\n",
    "    source_sentences = []\n",
    "    target_sentences = []\n",
    "    for s, t in pair_list:\n",
    "        source_sentences.append(s)\n",
    "        target_sentences.append(t)\n",
    "\n",
    "    return np.array(source_sentences, dtype = 'int32'), np.array(target_sentences, dtype = 'int32')"
   ]
  },
  {
   "cell_type": "code",
   "execution_count": null,
   "metadata": {},
   "outputs": [
    {
     "name": "stdout",
     "output_type": "stream",
     "text": [
      "LOSS 5.657496, batches 50 / 81, bucket size 50\n",
      "LOSS 0.000701, batches 50 / 526, bucket size 53\n",
      "LOSS 0.046142, batches 100 / 526, bucket size 53\n",
      "LOSS 0.002974, batches 150 / 526, bucket size 53\n",
      "LOSS 0.001599, batches 200 / 526, bucket size 53\n",
      "LOSS 0.004798, batches 250 / 526, bucket size 53\n",
      "LOSS 0.005188, batches 300 / 526, bucket size 53\n",
      "LOSS 0.000105, batches 350 / 526, bucket size 53\n",
      "LOSS 0.001947, batches 400 / 526, bucket size 53\n",
      "LOSS 0.000300, batches 450 / 526, bucket size 53\n",
      "LOSS 0.000042, batches 500 / 526, bucket size 53\n",
      "LOSS 0.143449, batches 50 / 732, bucket size 54\n",
      "LOSS 0.042767, batches 100 / 732, bucket size 54\n",
      "LOSS 0.007433, batches 150 / 732, bucket size 54\n",
      "LOSS 0.005688, batches 200 / 732, bucket size 54\n",
      "LOSS 0.113305, batches 250 / 732, bucket size 54\n",
      "LOSS 0.017713, batches 300 / 732, bucket size 54\n",
      "LOSS 0.000135, batches 350 / 732, bucket size 54\n",
      "LOSS 0.092217, batches 400 / 732, bucket size 54\n",
      "LOSS 0.000246, batches 450 / 732, bucket size 54\n",
      "LOSS 0.014175, batches 500 / 732, bucket size 54\n",
      "LOSS 0.080562, batches 550 / 732, bucket size 54\n",
      "LOSS 0.094729, batches 600 / 732, bucket size 54\n",
      "LOSS 0.013215, batches 650 / 732, bucket size 54\n",
      "LOSS 0.012993, batches 700 / 732, bucket size 54\n",
      "LOSS 0.277181, batches 50 / 380, bucket size 55\n",
      "LOSS 0.328193, batches 100 / 380, bucket size 55\n",
      "LOSS 0.186512, batches 150 / 380, bucket size 55\n",
      "LOSS 0.101168, batches 200 / 380, bucket size 55\n",
      "LOSS 0.162385, batches 250 / 380, bucket size 55\n",
      "LOSS 0.191184, batches 300 / 380, bucket size 55\n",
      "LOSS 0.295707, batches 350 / 380, bucket size 55\n",
      "LOSS 0.352881, batches 50 / 655, bucket size 56\n",
      "LOSS 0.303684, batches 100 / 655, bucket size 56\n",
      "LOSS 0.336834, batches 150 / 655, bucket size 56\n",
      "LOSS 0.238189, batches 200 / 655, bucket size 56\n",
      "LOSS 0.287989, batches 250 / 655, bucket size 56\n",
      "LOSS 0.274800, batches 300 / 655, bucket size 56\n",
      "LOSS 0.334508, batches 350 / 655, bucket size 56\n",
      "LOSS 0.239855, batches 400 / 655, bucket size 56\n",
      "LOSS 0.307220, batches 450 / 655, bucket size 56\n",
      "LOSS 0.284485, batches 500 / 655, bucket size 56\n",
      "LOSS 0.346428, batches 550 / 655, bucket size 56\n",
      "LOSS 0.090070, batches 600 / 655, bucket size 56\n",
      "LOSS 0.329563, batches 650 / 655, bucket size 56\n",
      "LOSS 0.567323, batches 50 / 2023, bucket size 57\n",
      "LOSS 0.533751, batches 100 / 2023, bucket size 57\n",
      "LOSS 0.485805, batches 150 / 2023, bucket size 57\n",
      "LOSS 0.393744, batches 200 / 2023, bucket size 57\n",
      "LOSS 0.337776, batches 250 / 2023, bucket size 57\n",
      "LOSS 0.365468, batches 300 / 2023, bucket size 57\n",
      "LOSS 0.373441, batches 350 / 2023, bucket size 57\n",
      "LOSS 0.350134, batches 400 / 2023, bucket size 57\n",
      "LOSS 0.396912, batches 450 / 2023, bucket size 57\n",
      "LOSS 0.350995, batches 500 / 2023, bucket size 57\n",
      "LOSS 0.361105, batches 550 / 2023, bucket size 57\n",
      "LOSS 0.281979, batches 600 / 2023, bucket size 57\n",
      "LOSS 0.331921, batches 650 / 2023, bucket size 57\n",
      "LOSS 0.320676, batches 700 / 2023, bucket size 57\n",
      "LOSS 0.312921, batches 750 / 2023, bucket size 57\n",
      "LOSS 0.286941, batches 800 / 2023, bucket size 57\n",
      "LOSS 0.426497, batches 850 / 2023, bucket size 57\n",
      "LOSS 0.428204, batches 900 / 2023, bucket size 57\n",
      "LOSS 0.238771, batches 950 / 2023, bucket size 57\n",
      "LOSS 0.358980, batches 1000 / 2023, bucket size 57\n",
      "LOSS 0.233006, batches 1050 / 2023, bucket size 57\n"
     ]
    }
   ],
   "source": [
    "for i in range(epoch):\n",
    "    for bucket_size in bucket_sizes:\n",
    "        batch_no = 0\n",
    "        while (batch_no + 1) * batch_size < len(buckets[bucket_size]):\n",
    "            source, target = get_batch_from_pairs(buckets[bucket_size][batch_no * batch_size : (batch_no+1) * batch_size])\n",
    "            _, loss = sess.run([model.optimizer, model.cost], \n",
    "                               feed_dict={model.X: source, model.Y: target})\n",
    "            if (batch_no + 1) % 50 == 0:\n",
    "                print('LOSS %f, batches %d / %d, bucket size %d' % (loss, batch_no + 1, \n",
    "                                                                    len(buckets[bucket_size])//batch_size, \n",
    "                                                                    bucket_size))\n",
    "            batch_no += 1"
   ]
  },
  {
   "cell_type": "code",
   "execution_count": null,
   "metadata": {},
   "outputs": [],
   "source": []
  }
 ],
 "metadata": {
  "kernelspec": {
   "display_name": "Python 3",
   "language": "python",
   "name": "python3"
  },
  "language_info": {
   "codemirror_mode": {
    "name": "ipython",
    "version": 3
   },
   "file_extension": ".py",
   "mimetype": "text/x-python",
   "name": "python",
   "nbconvert_exporter": "python",
   "pygments_lexer": "ipython3",
   "version": "3.5.2"
  }
 },
 "nbformat": 4,
 "nbformat_minor": 2
}
