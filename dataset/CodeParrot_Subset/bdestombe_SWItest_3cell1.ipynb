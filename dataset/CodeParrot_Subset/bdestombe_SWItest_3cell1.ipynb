{
 "cells": [
  {
   "cell_type": "markdown",
   "metadata": {},
   "source": [
    "# SWI - single layer"
   ]
  },
  {
   "cell_type": "markdown",
   "metadata": {},
   "source": []
  },
  {
   "cell_type": "code",
   "execution_count": 1,
   "metadata": {
    "collapsed": false
   },
   "outputs": [],
   "source": [
    "%matplotlib inline\n",
    "import os\n",
    "import sys\n",
    "import numpy as np\n",
    "import flopy.modflow as mf\n",
    "import flopy.utils as fu\n",
    "import matplotlib.pyplot as plt"
   ]
  },
  {
   "cell_type": "markdown",
   "metadata": {},
   "source": [
    "## Paths"
   ]
  },
  {
   "cell_type": "code",
   "execution_count": 2,
   "metadata": {
    "collapsed": false
   },
   "outputs": [],
   "source": [
    "os.chdir('C:\\\\Users\\\\Bas\\\\Google Drive\\\\USGS\\\\FloPy\\\\slope1D')\n",
    "sys.path.append('C:\\\\Users\\\\Bas\\\\Google Drive\\\\USGS\\\\FloPy\\\\basScript') # location of gridObj\n",
    "\n",
    "modelname \t= 'run1swi2'\n",
    "exe_name \t= 'mf2005'\n",
    "workspace \t= 'data'"
   ]
  },
  {
   "cell_type": "markdown",
   "metadata": {},
   "source": [
    "## Model input"
   ]
  },
  {
   "cell_type": "code",
   "execution_count": 3,
   "metadata": {
    "collapsed": false
   },
   "outputs": [],
   "source": [
    "ml = mf.Modflow(modelname, exe_name=exe_name, model_ws=workspace)"
   ]
  },
  {
   "cell_type": "markdown",
   "metadata": {},
   "source": [
    "### Test variables"
   ]
  },
  {
   "cell_type": "code",
   "execution_count": 4,
   "metadata": {
    "collapsed": false
   },
   "outputs": [],
   "source": [
    "tscale = 365.*2000\n",
    "nstp \t= tscale/100. \t\t\t#[]\n",
    "perlen \t= tscale*1.\t#[d]\n",
    "ssz \t= 0.2 \t\t\t#[]\n",
    "Q \t\t= 0.01 \t \t#[m3/d]"
   ]
  },
  {
   "cell_type": "markdown",
   "metadata": {},
   "source": [
    "### Discretization data"
   ]
  },
  {
   "cell_type": "code",
   "execution_count": 5,
   "metadata": {
    "collapsed": false
   },
   "outputs": [],
   "source": [
    "nlay = 1\n",
    "nrow = 1\n",
    "ncol = 5\n",
    "delr = 1.\n",
    "delc = 1.\n",
    "dell = 1.\n",
    "\n",
    "top = np.array([[-1.,-1.,-1., -0.7, -0.4]], dtype = np.float32)\n",
    "bot = np.array(top-dell, dtype = np.float32).reshape((nlay,nrow,ncol))\n",
    "initWL = 0. # inital water level"
   ]
  },
  {
   "cell_type": "markdown",
   "metadata": {},
   "source": [
    "### BCN: WEL"
   ]
  },
  {
   "cell_type": "code",
   "execution_count": 6,
   "metadata": {
    "collapsed": false
   },
   "outputs": [],
   "source": [
    "lrcQ1 = np.recarray(1, dtype = mf.ModflowWel.get_default_dtype())\n",
    "lrcQ1[0] = (0, 0, 4, Q) #LRCQ, Q[m**3/d]"
   ]
  },
  {
   "cell_type": "markdown",
   "metadata": {},
   "source": [
    "### BCN: GHB"
   ]
  },
  {
   "cell_type": "code",
   "execution_count": 7,
   "metadata": {
    "collapsed": false
   },
   "outputs": [],
   "source": [
    "lrchc = np.recarray(1, dtype = mf.ModflowGhb.get_default_dtype())\n",
    "lrchc[0]=(0, 0, 0, -top[0,0]*0.025, 0.8 / 2.0 * delc)\n",
    "lrchc[0]=(0, 0, 1, -top[0,0]*0.025, 0.8 / 2.0 * delc)\n",
    "lrchc[0]=(0, 0, 2, -top[0,0]*0.025, 0.8 / 2.0 * delc)"
   ]
  },
  {
   "cell_type": "markdown",
   "metadata": {},
   "source": [
    "### SWI2"
   ]
  },
  {
   "cell_type": "code",
   "execution_count": 8,
   "metadata": {
    "collapsed": false
   },
   "outputs": [
    {
     "name": "stdout",
     "output_type": "stream",
     "text": [
      "(1L, 5L) (1L, 5L)\n"
     ]
    }
   ],
   "source": [
    "#zini \t= bot[0,:,:]*-1.5\n",
    "zini = -2.*np.ones((nrow,ncol))\n",
    "#zini=bot\n",
    "isource = np.array([[-2,2,-2, 0, 0]])\n",
    "print zini.shape, isource.shape\n"
   ]
  },
  {
   "cell_type": "markdown",
   "metadata": {},
   "source": [
    "### Model objects"
   ]
  },
  {
   "cell_type": "code",
   "execution_count": 9,
   "metadata": {
    "collapsed": false
   },
   "outputs": [],
   "source": [
    "ml = mf.Modflow(modelname, version='mf2005', exe_name=exe_name)\n",
    "discret = mf.ModflowDis(ml, nrow=nrow, ncol=ncol, nlay=nlay, delr=delr, delc=delc,\n",
    "                        laycbd=[0], top=top, botm=bot,\n",
    "                        nper=1, perlen=perlen, nstp=nstp)\n",
    "bas = mf.ModflowBas(ml, ibound=1, strt=1.0*0.025)\n",
    "bcf = mf.ModflowBcf(ml, laycon=[0], tran=[4.0])\n",
    "wel = mf.ModflowWel(ml, stress_period_data={0:lrcQ1})\n",
    "ghb = mf.ModflowGhb(ml, stress_period_data={0:lrchc})\n",
    "swi = mf.ModflowSwi2(ml, nsrf=1, istrat=1, toeslope=0.02, tipslope=0.04, nu=[0, 0.025],\n",
    "                     zeta=[zini], ssz=ssz, isource=isource, nsolver=1)\n",
    "oc  = mf.ModflowOc(ml, save_head_every=nstp)\n",
    "pcg = mf.ModflowPcg(ml)"
   ]
  },
  {
   "cell_type": "code",
   "execution_count": 10,
   "metadata": {
    "collapsed": false
   },
   "outputs": [],
   "source": [
    "ml.write_input() #--write the model files"
   ]
  },
  {
   "cell_type": "markdown",
   "metadata": {},
   "source": [
    "## Run the model"
   ]
  },
  {
   "cell_type": "code",
   "execution_count": 11,
   "metadata": {
    "collapsed": false
   },
   "outputs": [],
   "source": [
    "m = ml.run_model(silent=True, report=True)"
   ]
  },
  {
   "cell_type": "markdown",
   "metadata": {},
   "source": [
    "## Read the output"
   ]
  },
  {
   "cell_type": "markdown",
   "metadata": {},
   "source": [
    "only one head entry and one zeta entry in binary files"
   ]
  },
  {
   "cell_type": "code",
   "execution_count": 12,
   "metadata": {
    "collapsed": false
   },
   "outputs": [],
   "source": [
    "headfile = modelname + '.hds'\n",
    "hdobj = fu.HeadFile(headfile)\n",
    "head = hdobj.get_data(idx=0)"
   ]
  },
  {
   "cell_type": "code",
   "execution_count": 13,
   "metadata": {
    "collapsed": false
   },
   "outputs": [],
   "source": [
    "zetafile = modelname + '.zta'\n",
    "zobj = fu.CellBudgetFile(zetafile)\n",
    "zeta = zobj.get_data(idx=0, text='      ZETASRF  1')[0]"
   ]
  },
  {
   "cell_type": "markdown",
   "metadata": {},
   "source": [
    "## Plot"
   ]
  },
  {
   "cell_type": "code",
   "execution_count": 14,
   "metadata": {
    "collapsed": false
   },
   "outputs": [
    {
     "name": "stdout",
     "output_type": "stream",
     "text": [
      "[[-2. -2. -2. -2. -2.]]\n",
      "head:     [ 0.05    0.05    0.05    0.0525  0.055 ]\n",
      "BGH head:  [-2.         -2.         -2.         -2.10000014 -2.20000005]\n"
     ]
    }
   ],
   "source": [
    "import gridobj as grd\n",
    "gr = grd.gridobj(discret)\n",
    "print zini\n",
    "print 'head:    ', head[0, 0, :]\n",
    "print 'BGH head: ', - 40. * (head[0, 0, :])"
   ]
  },
  {
   "cell_type": "code",
   "execution_count": 15,
   "metadata": {
    "collapsed": false
   },
   "outputs": [
    {
     "name": "stdout",
     "output_type": "stream",
     "text": [
      "-1.5\n",
      "-0.200000047684\n"
     ]
    },
    {
     "data": {
      "image/png": "[encoded data removed]",
      "text/plain": [
       "<matplotlib.figure.Figure at 0x9f57d30>"
      ]
     },
     "metadata": {},
     "output_type": "display_data"
    }
   ],
   "source": [
    "fig = plt.figure(figsize=(20, 8), dpi=300, facecolor='w', edgecolor='k')\n",
    "ax = fig.add_subplot(111)\n",
    "ax.plot(gr.cm,top.squeeze(),drawstyle='steps-mid', linestyle='--', linewidth=3. )\n",
    "ax.plot(gr.cm,bot.squeeze(),drawstyle='steps-mid', linestyle='--', linewidth=3. )\n",
    "ax.plot(gr.cm,zini[0,:], drawstyle='steps-mid',label='Initial')\n",
    "ax.plot(gr.cm,zeta[0,0,:],drawstyle='steps-mid', label='SWI2')\n",
    "ax.plot(gr.cm,head[0, 0, :], label='feshw head')\n",
    "ax.plot(gr.cm,top[0.0]- 40. * (head[0, 0, :]), label='Ghyben-Herzberg')\n",
    "\n",
    "\n",
    "ax.axis(gr.limLC([0,0,-0.2,0.2]))\n",
    "leg = ax.legend(loc='lower left', numpoints=1)\n",
    "leg._drawFrame = False\n",
    "\n",
    "print np.sum(zeta[0,0,:3])+4.5\n",
    "print np.sum(zeta[0,0,3:4])+1.5"
   ]
  },
  {
   "cell_type": "code",
   "execution_count": 16,
   "metadata": {
    "collapsed": false
   },
   "outputs": [
    {
     "data": {
      "text/plain": [
       "[<matplotlib.lines.Line2D at 0xa1da390>]"
      ]
     },
     "execution_count": 16,
     "metadata": {},
     "output_type": "execute_result"
    },
    {
     "data": {
      "image/png": "[encoded data removed]",
      "text/plain": [
       "<matplotlib.figure.Figure at 0x9ce76a0>"
      ]
     },
     "metadata": {},
     "output_type": "display_data"
    }
   ],
   "source": [
    "plt.plot(gr.cGr[0,:-1],zini[0,:]-zeta[0,0,:])"
   ]
  },
  {
   "cell_type": "markdown",
   "metadata": {},
   "source": []
  }
 ],
 "metadata": {
  "kernelspec": {
   "display_name": "Python 2",
   "language": "python",
   "name": "python2"
  },
  "language_info": {
   "codemirror_mode": {
    "name": "ipython",
    "version": 2
   },
   "file_extension": ".py",
   "mimetype": "text/x-python",
   "name": "python",
   "nbconvert_exporter": "python",
   "pygments_lexer": "ipython2",
   "version": "2.7.8"
  }
 },
 "nbformat": 4,
 "nbformat_minor": 0
}
