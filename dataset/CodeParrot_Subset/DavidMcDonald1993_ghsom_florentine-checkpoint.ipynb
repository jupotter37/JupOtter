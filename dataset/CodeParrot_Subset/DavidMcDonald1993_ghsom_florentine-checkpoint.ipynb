{
 "cells": [
  {
   "cell_type": "code",
   "execution_count": 1,
   "metadata": {
    "collapsed": false
   },
   "outputs": [],
   "source": [
    "import networkx as nx\n",
    "\n",
    "G = nx.florentine_families_graph()"
   ]
  },
  {
   "cell_type": "code",
   "execution_count": 3,
   "metadata": {
    "collapsed": false
   },
   "outputs": [
    {
     "data": {
      "text/plain": [
       "[('Strozzi', {}),\n",
       " ('Tornabuoni', {}),\n",
       " ('Medici', {}),\n",
       " ('Albizzi', {}),\n",
       " ('Guadagni', {}),\n",
       " ('Pazzi', {}),\n",
       " ('Acciaiuoli', {}),\n",
       " ('Bischeri', {}),\n",
       " ('Peruzzi', {}),\n",
       " ('Ginori', {}),\n",
       " ('Salviati', {}),\n",
       " ('Castellani', {}),\n",
       " ('Lamberteschi', {}),\n",
       " ('Ridolfi', {}),\n",
       " ('Barbadori', {})]"
      ]
     },
     "execution_count": 3,
     "metadata": {},
     "output_type": "execute_result"
    }
   ],
   "source": [
    "G.nodes(data=True)"
   ]
  },
  {
   "cell_type": "code",
   "execution_count": 4,
   "metadata": {
    "collapsed": false
   },
   "outputs": [
    {
     "data": {
      "text/plain": [
       "[('Strozzi', 'Ridolfi'),\n",
       " ('Strozzi', 'Castellani'),\n",
       " ('Strozzi', 'Bischeri'),\n",
       " ('Strozzi', 'Peruzzi'),\n",
       " ('Tornabuoni', 'Guadagni'),\n",
       " ('Tornabuoni', 'Ridolfi'),\n",
       " ('Tornabuoni', 'Medici'),\n",
       " ('Medici', 'Barbadori'),\n",
       " ('Medici', 'Albizzi'),\n",
       " ('Medici', 'Acciaiuoli'),\n",
       " ('Medici', 'Salviati'),\n",
       " ('Medici', 'Ridolfi'),\n",
       " ('Albizzi', 'Guadagni'),\n",
       " ('Albizzi', 'Ginori'),\n",
       " ('Guadagni', 'Bischeri'),\n",
       " ('Guadagni', 'Lamberteschi'),\n",
       " ('Pazzi', 'Salviati'),\n",
       " ('Bischeri', 'Peruzzi'),\n",
       " ('Peruzzi', 'Castellani'),\n",
       " ('Castellani', 'Barbadori')]"
      ]
     },
     "execution_count": 4,
     "metadata": {},
     "output_type": "execute_result"
    }
   ],
   "source": [
    "G.edges()"
   ]
  },
  {
   "cell_type": "code",
   "execution_count": 8,
   "metadata": {
    "collapsed": false
   },
   "outputs": [
    {
     "name": "stdout",
     "output_type": "stream",
     "text": [
      "p=0.9\n",
      "florentine_families_communities_0.9.pkl already exists, loading map\n",
      "deleted directory florentine_families_communities_0.9_1\n",
      "made directory florentine_families_communities_0.9_1\n",
      "moved to florentine_families_communities_0.9_1\n",
      "written all_families.txt\n",
      "written shortest path matrix\n",
      "written community_0.txt\n",
      "written community_1.txt\n",
      "\n",
      "p=0.8\n",
      "florentine_families_communities_0.8.pkl already exists, loading map\n",
      "deleted directory florentine_families_communities_0.8_1\n",
      "made directory florentine_families_communities_0.8_1\n",
      "moved to florentine_families_communities_0.8_1\n",
      "written all_families.txt\n",
      "written shortest path matrix\n",
      "written community_0.txt\n",
      "written community_1.txt\n",
      "written community_2.txt\n",
      "\n",
      "p=0.7\n",
      "florentine_families_communities_0.7.pkl already exists, loading map\n",
      "deleted directory florentine_families_communities_0.7_1\n",
      "made directory florentine_families_communities_0.7_1\n",
      "moved to florentine_families_communities_0.7_1\n",
      "written all_families.txt\n",
      "written shortest path matrix\n",
      "written community_0.txt\n",
      "written community_1.txt\n",
      "written community_2.txt\n",
      "\n",
      "p=0.6\n",
      "florentine_families_communities_0.6.pkl already exists, loading map\n",
      "deleted directory florentine_families_communities_0.6_1\n",
      "made directory florentine_families_communities_0.6_1\n",
      "moved to florentine_families_communities_0.6_1\n",
      "written all_families.txt\n",
      "written shortest path matrix\n",
      "written community_0.txt\n",
      "written community_1.txt\n",
      "written community_2.txt\n",
      "written community_3.txt\n",
      "\n",
      "p=0.5\n",
      "running GHSOM and saving to florentine_families_communities_0.5.pkl\n",
      "Layer: 1, training epoch: 999/1000, size of map: 5, MQE: 1.17045209273, target: 1.15048111807          \n",
      "number of communities detected: 5, saved map to florentine_families_communities_0.5\n",
      "made directory florentine_families_communities_0.5_1\n",
      "moved to florentine_families_communities_0.5_1\n",
      "written all_families.txt\n",
      "written shortest path matrix\n",
      "written community_0.txt\n",
      "written community_1.txt\n",
      "written community_2.txt\n",
      "written community_3.txt\n",
      "written community_4.txt\n",
      "\n",
      "p=0.4\n",
      "running GHSOM and saving to florentine_families_communities_0.4.pkl\n",
      "Layer: 1, training epoch: 999/1000, size of map: 6, MQE: 0.914657435617, target: 0.911181033509          \n",
      "number of communities detected: 6, saved map to florentine_families_communities_0.4\n",
      "made directory florentine_families_communities_0.4_1\n",
      "moved to florentine_families_communities_0.4_1\n",
      "written all_families.txt\n",
      "written shortest path matrix\n",
      "written community_0.txt\n",
      "written community_1.txt\n",
      "written community_2.txt\n",
      "written community_3.txt\n",
      "written community_4.txt\n",
      "written community_5.txt\n",
      "\n",
      "p=0.3\n",
      "running GHSOM and saving to florentine_families_communities_0.3.pkl\n",
      "Layer: 1, training epoch: 999/1000, size of map: 9, MQE: 0.773073940195, target: 0.690287206847          deleted node 1\n",
      "Layer: 1, training epoch: 999/1000, size of map: 9, MQE: 0.702602456879, target: 0.690287206847          \n",
      "number of communities detected: 9, saved map to florentine_families_communities_0.3\n",
      "made directory florentine_families_communities_0.3_1\n",
      "moved to florentine_families_communities_0.3_1\n",
      "written all_families.txt\n",
      "written shortest path matrix\n",
      "written community_0.txt\n",
      "written community_1.txt\n",
      "written community_2.txt\n",
      "written community_3.txt\n",
      "written community_4.txt\n",
      "written community_5.txt\n",
      "written community_6.txt\n",
      "written community_7.txt\n",
      "written community_8.txt\n",
      "\n",
      "p=0.2\n",
      "running GHSOM and saving to florentine_families_communities_0.2.pkl\n",
      "Layer: 1, training epoch: 999/1000, size of map: 9, MQE: 0.74423901819, target: 0.477347052181           deleted node 3\n",
      "Layer: 1, training epoch: 999/1000, size of map: 12, MQE: 0.505562870218, target: 0.477347052181          deleted node 2\n",
      "Layer: 1, training epoch: 999/1000, size of map: 12, MQE: 0.497234674377, target: 0.477347052181          \n",
      "number of communities detected: 12, saved map to florentine_families_communities_0.2\n",
      "made directory florentine_families_communities_0.2_1\n",
      "moved to florentine_families_communities_0.2_1\n",
      "written all_families.txt\n",
      "written shortest path matrix\n",
      "written community_0.txt\n",
      "written community_1.txt\n",
      "written community_2.txt\n",
      "written community_3.txt\n",
      "written community_4.txt\n",
      "written community_5.txt\n",
      "written community_6.txt\n",
      "written community_7.txt\n",
      "written community_8.txt\n",
      "written community_9.txt\n",
      "written community_10.txt\n",
      "written community_11.txt\n",
      "\n",
      "p=0.1\n",
      "running GHSOM and saving to florentine_families_communities_0.1.pkl\n",
      "Layer: 1, training epoch: 999/1000, size of map: 8, MQE: 0.73776147777, target: 0.230094153104           deleted node 4\n",
      "Layer: 1, training epoch: 999/1000, size of map: 10, MQE: 0.543389809879, target: 0.230094153104          deleted node 10\n",
      "Layer: 1, training epoch: 999/1000, size of map: 10, MQE: 0.538464997153, target: 0.230094153104          deleted node 10\n",
      "Layer: 1, training epoch: 999/1000, size of map: 12, MQE: 0.438319706325, target: 0.230094153104          deleted node 10\n",
      "Layer: 1, training epoch: 999/1000, size of map: 12, MQE: 0.388944554273, target: 0.230094153104          deleted node 1\n",
      "Layer: 1, training epoch: 999/1000, size of map: 13, MQE: 0.365465900623, target: 0.230094153104          deleted node 2\n",
      "Layer: 1, training epoch: 999/1000, size of map: 14, MQE: 0.3273728652, target: 0.230094153104            deleted node 8\n",
      "deleted node 14\n",
      "Layer: 1, training epoch: 999/1000, size of map: 14, MQE: 0.278699283453, target: 0.230094153104          deleted node 15\n",
      "Layer: 1, training epoch: 999/1000, size of map: 14, MQE: 0.255615818705, target: 0.230094153104          deleted node 17\n",
      "Layer: 1, training epoch: 999/1000, size of map: 14, MQE: 0.244618929165, target: 0.230094153104          \n",
      "number of communities detected: 14, saved map to florentine_families_communities_0.1\n",
      "made directory florentine_families_communities_0.1_1\n",
      "moved to florentine_families_communities_0.1_1\n",
      "written all_families.txt\n",
      "written shortest path matrix\n",
      "written community_0.txt\n",
      "written community_1.txt\n",
      "written community_2.txt\n",
      "written community_3.txt\n",
      "written community_4.txt\n",
      "written community_5.txt\n",
      "written community_6.txt\n",
      "written community_7.txt\n",
      "written community_8.txt\n",
      "written community_9.txt\n",
      "written community_10.txt\n",
      "written community_11.txt\n",
      "written community_12.txt\n",
      "written community_13.txt\n",
      "\n"
     ]
    }
   ],
   "source": [
    "import os\n",
    "import networkx as nx\n",
    "import numpy as np\n",
    "from spearmint_ghsom import main_no_labels as ghsom_main\n",
    "import pickle\n",
    "import shutil\n",
    "\n",
    "def save_obj(obj, name):\n",
    "    with open(name + '.pkl', 'wb') as f:\n",
    "        pickle.dump(obj, f, pickle.HIGHEST_PROTOCOL)\n",
    "\n",
    "def load_obj(name):\n",
    "    with open(name + '.pkl', 'rb') as f:\n",
    "        return pickle.load(f)\n",
    "    \n",
    "root_dir = \"/home/david/Documents/ghsom\"\n",
    "\n",
    "data = \"florentine_families\"\n",
    "init = 1\n",
    "\n",
    "for p in np.arange(0.1, 1, 0.1)[::-1]:\n",
    "    \n",
    "    print \"p={}\".format(p)\n",
    "    \n",
    "    os.chdir(root_dir)\n",
    "    \n",
    "    #ghsom parameters\n",
    "    params = {'w': 0.0001,\n",
    "             'eta': 0.001,\n",
    "             'sigma': 1,\n",
    "              'e_sg': p,\n",
    "             'e_en': 10}\n",
    "    \n",
    "    map_file = '{}_communities_{}'.format(data, p, init)\n",
    "    \n",
    "    if not os.path.isfile(\"{}.pkl\".format(map_file)):\n",
    "    \n",
    "        #run ghsom and save output\n",
    "        print \"running GHSOM and saving to {}.pkl\".format(map_file)\n",
    "        G, map = ghsom_main(params, 'embedded_{}.gml'.format(data), init=init, lam=1000)\n",
    "        print '\\nnumber of communities detected: {}, saved map to {}'.format(len(map), map_file)\n",
    "        save_obj((G, map), map_file)\n",
    "    \n",
    "    else:\n",
    "        \n",
    "        print \"{}.pkl already exists, loading map\".format(map_file)    \n",
    "        #load output\n",
    "        G, map = load_obj(map_file)\n",
    "\n",
    "    #save results to file\n",
    "    dir_name = \"{}_communities_{}_{}\".format(data, p, init)\n",
    "    if os.path.isdir(dir_name):\n",
    "        shutil.rmtree(dir_name)\n",
    "        print \"deleted directory {}\".format(dir_name)\n",
    "    \n",
    "    os.mkdir(dir_name)\n",
    "    print 'made directory {}'.format(dir_name)\n",
    "\n",
    "    os.chdir(dir_name)\n",
    "    print \"moved to {}\".format(dir_name)\n",
    "    \n",
    "    #all genes\n",
    "    all_genes_file = \"all_families.txt\"\n",
    "    with open(all_genes_file, 'w') as f:\n",
    "        for n in G.nodes():\n",
    "            f.write(\"{}\\n\".format(n))\n",
    "    print \"written {}\".format(all_genes_file)\n",
    "    \n",
    "    #save shortest path matrix\n",
    "    shortest_path = nx.floyd_warshall_numpy(map).astype(np.int)\n",
    "    np.savetxt(\"shortest_path.csv\", shortest_path, fmt='%i', delimiter=\",\")\n",
    "    print 'written shortest path matrix'\n",
    "    \n",
    "    #save communities to file\n",
    "    c = 0\n",
    "    for n, d in map.nodes(data=True):\n",
    "        ls = d['ls']\n",
    "        with open('community_{}.txt'.format(c),'w') as f:\n",
    "            for l in ls:\n",
    "                f.write('{}\\n'.format(l))\n",
    "        print 'written community_{}.txt'.format(c)\n",
    "        c += 1\n",
    "    print"
   ]
  },
  {
   "cell_type": "code",
   "execution_count": 1,
   "metadata": {
    "collapsed": false
   },
   "outputs": [],
   "source": [
    "import networkx as nx\n",
    "\n",
    "G = nx.read_gml(\"embedded_florentine_families.gml\")"
   ]
  },
  {
   "cell_type": "code",
   "execution_count": 5,
   "metadata": {
    "collapsed": false
   },
   "outputs": [],
   "source": [
    "from spearmint_ghsom import get_embedding\n",
    "\n",
    "X = get_embedding(G)"
   ]
  },
  {
   "cell_type": "code",
   "execution_count": 6,
   "metadata": {
    "collapsed": false
   },
   "outputs": [
    {
     "data": {
      "text/plain": [
       "array([[-1.43165824,  1.79572143,  0.9457063 ],\n",
       "       [ 0.13828552, -0.58830276,  1.52235122],\n",
       "       [ 1.32435508, -0.00661569, -0.18298048],\n",
       "       [ 0.34054865, -1.62206859, -0.83471532],\n",
       "       [ 4.00375279,  0.3216568 ,  1.0139943 ],\n",
       "       [-0.83092064,  2.70107665, -0.84797045],\n",
       "       [-1.40382518, -1.50220382,  0.40191042],\n",
       "       [ 0.76113966,  1.65182777, -1.2534288 ],\n",
       "       [-3.00560247, -0.14055027, -0.08664172],\n",
       "       [ 0.44617875, -2.70938716, -2.02062477],\n",
       "       [-2.27788471, -2.51964934,  1.09285843],\n",
       "       [ 2.05753231,  0.07625903, -0.41500201],\n",
       "       [-2.80139994,  1.69075954, -0.46063064],\n",
       "       [ 2.66405393,  0.15752055,  0.41550691],\n",
       "       [ 0.01544451,  0.69395587,  0.70966662]])"
      ]
     },
     "execution_count": 6,
     "metadata": {},
     "output_type": "execute_result"
    }
   ],
   "source": [
    "X"
   ]
  },
  {
   "cell_type": "code",
   "execution_count": null,
   "metadata": {
    "collapsed": true
   },
   "outputs": [],
   "source": []
  }
 ],
 "metadata": {
  "anaconda-cloud": {},
  "kernelspec": {
   "display_name": "Python [default]",
   "language": "python",
   "name": "python2"
  },
  "language_info": {
   "codemirror_mode": {
    "name": "ipython",
    "version": 2
   },
   "file_extension": ".py",
   "mimetype": "text/x-python",
   "name": "python",
   "nbconvert_exporter": "python",
   "pygments_lexer": "ipython2",
   "version": "2.7.13"
  }
 },
 "nbformat": 4,
 "nbformat_minor": 1
}
