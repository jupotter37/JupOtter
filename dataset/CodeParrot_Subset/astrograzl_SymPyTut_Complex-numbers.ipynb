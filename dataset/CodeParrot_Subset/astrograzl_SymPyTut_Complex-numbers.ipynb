{
 "cells": [
  {
   "cell_type": "markdown",
   "metadata": {},
   "source": [
    "## Complex numbers"
   ]
  },
  {
   "cell_type": "markdown",
   "metadata": {},
   "source": [
    "Ever since Newton, the word &ldquo;number&rdquo; has been used to refer to one\n",
    "of the following types of math objects: the naturals $\\mathbb{N}$, the integers\n",
    "$\\mathbb{Z}$, the rationals $\\mathbb{Q}$, and the real numbers $\\mathbb{R}$. Each set of numbers is\n",
    "associated with a different class of equations. The natural numbers\n",
    "$\\mathbb{N}$ appear as solutions of the equation $m + n = x$, where $m$ and $n$ are\n",
    "natural numbers (denoted $m, n \\in \\mathbb{N}$). The integers $\\mathbb{Z}$ are the solutions\n",
    "to equations of the form $x + m = n$, where $m, n \\in \\mathbb{N}$. The rational\n",
    "numbers $\\mathbb{Q}$ are necessary to solve for $x$ in $mx = n$, with $m, n \\in \\mathbb{Z}$.\n",
    "The solutions to $x^2 = 2$ are irrational (so $\\not\\in \\mathbb{Q}$) so we need an even\n",
    "larger set that contains *all* possible numbers: real set of numbers $\\mathbb{R}$.\n",
    "A pattern emerges where more complicated equations require the\n",
    "invention of new types of numbers.\n",
    "\n",
    "Consider the quadratic equation $x^2 = -1$. There are no real solutions\n",
    "to this equation, but we can define an imaginary number $i = \\sqrt{-1}$\n",
    "(denoted `I` in `SymPy`) that satisfies this equation:"
   ]
  },
  {
   "cell_type": "code",
   "execution_count": 66,
   "metadata": {
    "collapsed": false
   },
   "outputs": [
    {
     "data": {
      "image/png": "[encoded data removed]",
      "text/latex": [
       "$$-1$$"
      ],
      "text/plain": [
       "-1"
      ]
     },
     "execution_count": 66,
     "metadata": {},
     "output_type": "execute_result"
    }
   ],
   "source": [
    "I*I"
   ]
  },
  {
   "cell_type": "code",
   "execution_count": 67,
   "metadata": {
    "collapsed": false
   },
   "outputs": [
    {
     "data": {
      "image/png": "[encoded data removed]",
      "text/latex": [
       "$$\\left [ - i, \\quad i\\right ]$$"
      ],
      "text/plain": [
       "[-ⅈ, ⅈ]"
      ]
     },
     "execution_count": 67,
     "metadata": {},
     "output_type": "execute_result"
    }
   ],
   "source": [
    "solve( x**2 + 1 , x)"
   ]
  },
  {
   "cell_type": "markdown",
   "metadata": {},
   "source": [
    "The solutions are $x = i$ and $x = -i$, and indeed we can verify that\n",
    "$i^2 + 1 = 0$ and $(-i)^2 + 1 = 0$ since $i^2 = -1$.\n",
    "\n",
    "The complex numbers $\\mathbb{C}$ are defined as $\\{ a+bi \\,|\\, a,b \\in \\mathbb{R} \\}$. Complex numbers\n",
    "contain a real part and an imaginary part:"
   ]
  },
  {
   "cell_type": "code",
   "execution_count": 68,
   "metadata": {
    "collapsed": false
   },
   "outputs": [
    {
     "data": {
      "image/png": "[encoded data removed]",
      "text/latex": [
       "$$4 + 3 i$$"
      ],
      "text/plain": [
       "4 + 3⋅ⅈ"
      ]
     },
     "execution_count": 68,
     "metadata": {},
     "output_type": "execute_result"
    }
   ],
   "source": [
    "z = 4 + 3*I\n",
    "z"
   ]
  },
  {
   "cell_type": "code",
   "execution_count": 69,
   "metadata": {
    "collapsed": false
   },
   "outputs": [
    {
     "data": {
      "image/png": "[encoded data removed]",
      "text/latex": [
       "$$4$$"
      ],
      "text/plain": [
       "4"
      ]
     },
     "execution_count": 69,
     "metadata": {},
     "output_type": "execute_result"
    }
   ],
   "source": [
    "re(z)"
   ]
  },
  {
   "cell_type": "code",
   "execution_count": 70,
   "metadata": {
    "collapsed": false
   },
   "outputs": [
    {
     "data": {
      "image/png": "[encoded data removed]",
      "text/latex": [
       "$$3$$"
      ],
      "text/plain": [
       "3"
      ]
     },
     "execution_count": 70,
     "metadata": {},
     "output_type": "execute_result"
    }
   ],
   "source": [
    "im(z)"
   ]
  },
  {
   "cell_type": "markdown",
   "metadata": {},
   "source": [
    "The *polar* representation of a complex number is $z\\!\\equiv\\!|z|\\angle\\theta\\!\\equiv \\!|z|e^{i\\theta}$.\n",
    "For a complex number $z=a+bi$, \n",
    "the quantity $|z|=\\sqrt{a^2+b^2}$ is known as the absolute value of $z$,\n",
    "and $\\theta$ is its *phase* or its *argument*:"
   ]
  },
  {
   "cell_type": "code",
   "execution_count": 71,
   "metadata": {
    "collapsed": false
   },
   "outputs": [
    {
     "data": {
      "image/png": "[encoded data removed]",
      "text/latex": [
       "$$5$$"
      ],
      "text/plain": [
       "5"
      ]
     },
     "execution_count": 71,
     "metadata": {},
     "output_type": "execute_result"
    }
   ],
   "source": [
    "Abs(z)"
   ]
  },
  {
   "cell_type": "code",
   "execution_count": 72,
   "metadata": {
    "collapsed": false
   },
   "outputs": [
    {
     "data": {
      "image/png": "[encoded data removed]",
      "text/latex": [
       "$$\\operatorname{atan}{\\left (\\frac{3}{4} \\right )}$$"
      ],
      "text/plain": [
       "atan(3/4)"
      ]
     },
     "execution_count": 72,
     "metadata": {},
     "output_type": "execute_result"
    }
   ],
   "source": [
    "arg(z)"
   ]
  },
  {
   "cell_type": "markdown",
   "metadata": {},
   "source": [
    "The complex conjugate of $z = a + bi$ is the number $\\bar{z} = a - bi$:"
   ]
  },
  {
   "cell_type": "code",
   "execution_count": 73,
   "metadata": {
    "collapsed": false
   },
   "outputs": [
    {
     "data": {
      "image/png": "[encoded data removed]",
      "text/latex": [
       "$$4 - 3 i$$"
      ],
      "text/plain": [
       "4 - 3⋅ⅈ"
      ]
     },
     "execution_count": 73,
     "metadata": {},
     "output_type": "execute_result"
    }
   ],
   "source": [
    "conjugate( z )"
   ]
  },
  {
   "cell_type": "markdown",
   "metadata": {},
   "source": [
    "Complex conjugation is important for computing the absolute value\n",
    "of $z$ $\\left(|z|\\equiv\\sqrt{z\\bar{z}}\\right)$ and for division by $z$ $\\left(\\frac{1}{z}\\equiv\\frac{\\bar{z}}{|z|^2}\\right)$."
   ]
  },
  {
   "cell_type": "markdown",
   "metadata": {},
   "source": [
    "### Euler's formula"
   ]
  },
  {
   "cell_type": "markdown",
   "metadata": {},
   "source": [
    "[Euler's formula](https://en.wikipedia.org/wiki/Euler's_formula) shows an important relation between the exponential\n",
    "function $e^x$ and the trigonometric functions $sin(x)$ and $cos(x)$:\n",
    "\n",
    "$$e^{ix} = \\cos x + i \\sin x.$$\n",
    "\n",
    "To obtain this result in `SymPy`, you must specify that the number $x$ is\n",
    "real and also tell `expand` that you're interested in complex expansions:"
   ]
  },
  {
   "cell_type": "code",
   "execution_count": 74,
   "metadata": {
    "collapsed": false
   },
   "outputs": [
    {
     "data": {
      "image/png": "[encoded data removed]",
      "text/latex": [
       "$$i \\sin{\\left (x \\right )} + \\cos{\\left (x \\right )}$$"
      ],
      "text/plain": [
       "ⅈ⋅sin(x) + cos(x)"
      ]
     },
     "execution_count": 74,
     "metadata": {},
     "output_type": "execute_result"
    }
   ],
   "source": [
    "x = symbols('x', real=True)\n",
    "exp(I*x).expand(complex=True)"
   ]
  },
  {
   "cell_type": "code",
   "execution_count": 75,
   "metadata": {
    "collapsed": false
   },
   "outputs": [
    {
     "data": {
      "image/png": "[encoded data removed]",
      "text/latex": [
       "$$\\cos{\\left (x \\right )}$$"
      ],
      "text/plain": [
       "cos(x)"
      ]
     },
     "execution_count": 75,
     "metadata": {},
     "output_type": "execute_result"
    }
   ],
   "source": [
    "re( exp(I*x) )"
   ]
  },
  {
   "cell_type": "code",
   "execution_count": 76,
   "metadata": {
    "collapsed": false
   },
   "outputs": [
    {
     "data": {
      "image/png": "[encoded data removed]",
      "text/latex": [
       "$$\\sin{\\left (x \\right )}$$"
      ],
      "text/plain": [
       "sin(x)"
      ]
     },
     "execution_count": 76,
     "metadata": {},
     "output_type": "execute_result"
    }
   ],
   "source": [
    "im( exp(I*x) )"
   ]
  },
  {
   "cell_type": "markdown",
   "metadata": {},
   "source": [
    "Basically, $\\cos(x)$ is the real part of $e^{ix}$, and $\\sin(x)$ is the imaginary\n",
    "part of $e^{ix}$. Whaaat? I know it's weird, but weird things are bound\n",
    "to happen when you input imaginary numbers to functions.\n",
    "\n",
    "Euler's formula is often used to rewrite the functions `sin` and `cos` in\n",
    "terms of complex exponentials. For example,"
   ]
  },
  {
   "cell_type": "code",
   "execution_count": 77,
   "metadata": {
    "collapsed": false
   },
   "outputs": [
    {
     "data": {
      "image/png": "[encoded data removed]",
      "text/latex": [
       "$$\\frac{e^{i x}}{2} + \\frac{1}{2} e^{- i x}$$"
      ],
      "text/plain": [
       " ⅈ⋅x    -ⅈ⋅x\n",
       "ℯ      ℯ    \n",
       "──── + ─────\n",
       " 2       2  "
      ]
     },
     "execution_count": 77,
     "metadata": {},
     "output_type": "execute_result"
    }
   ],
   "source": [
    "(cos(x)).rewrite(exp)"
   ]
  },
  {
   "cell_type": "markdown",
   "metadata": {},
   "source": [
    "Compare this expression with the definition of hyperbolic cosine."
   ]
  }
 ],
 "metadata": {
  "kernelspec": {
   "display_name": "Python 3",
   "language": "python",
   "name": "python3"
  },
  "language_info": {
   "codemirror_mode": {
    "name": "ipython",
    "version": 3
   },
   "file_extension": ".py",
   "mimetype": "text/x-python",
   "name": "python",
   "nbconvert_exporter": "python",
   "pygments_lexer": "ipython3",
   "version": "3.4.3"
  }
 },
 "nbformat": 4,
 "nbformat_minor": 0
}
