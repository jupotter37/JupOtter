{
 "cells": [
  {
   "cell_type": "code",
   "execution_count": 1,
   "metadata": {
    "collapsed": false
   },
   "outputs": [
    {
     "name": "stderr",
     "output_type": "stream",
     "text": [
      "/usr/local/manual/anaconda/lib/python2.7/site-packages/IPython/kernel/__init__.py:13: ShimWarning: The `IPython.kernel` package has been deprecated. You should import from ipykernel or jupyter_client instead.\n",
      "  \"You should import from ipykernel or jupyter_client instead.\", ShimWarning)\n"
     ]
    }
   ],
   "source": [
    "from metrics import PerSNMetric\n",
    "from efficiencyTable import EfficiencyTable"
   ]
  },
  {
   "cell_type": "code",
   "execution_count": 2,
   "metadata": {
    "collapsed": true
   },
   "outputs": [],
   "source": [
    "from OpSimSummary import summarize_opsim as oss"
   ]
  },
  {
   "cell_type": "code",
   "execution_count": 3,
   "metadata": {
    "collapsed": false
   },
   "outputs": [],
   "source": [
    "import pandas as pd\n",
    "import sncosmo"
   ]
  },
  {
   "cell_type": "code",
   "execution_count": 4,
   "metadata": {
    "collapsed": true
   },
   "outputs": [],
   "source": [
    "%matplotlib inline \n",
    "import matplotlib.pyplot as plt\n",
    "import os\n",
    "import numpy as np\n",
    "import copy"
   ]
  },
  {
   "cell_type": "code",
   "execution_count": 5,
   "metadata": {
    "collapsed": true
   },
   "outputs": [],
   "source": [
    "from lsst.sims.photUtils import BandpassDict"
   ]
  },
  {
   "cell_type": "markdown",
   "metadata": {},
   "source": [
    "## Setup : Bandpasses"
   ]
  },
  {
   "cell_type": "code",
   "execution_count": 6,
   "metadata": {
    "collapsed": true
   },
   "outputs": [],
   "source": [
    "# Catsim bandpasses\n",
    "lsst_bp = BandpassDict.loadTotalBandpassesFromFiles()"
   ]
  },
  {
   "cell_type": "code",
   "execution_count": 7,
   "metadata": {
    "collapsed": false
   },
   "outputs": [
    {
     "name": "stdout",
     "output_type": "stream",
     "text": [
      "u\n",
      "g\n",
      "r\n",
      "i\n",
      "z\n",
      "y\n"
     ]
    }
   ],
   "source": [
    "# sncosmo Bandpasses required for fitting\n",
    "throughputsdir = os.getenv('THROUGHPUTS_DIR')\n",
    "\n",
    "from astropy.units import Unit\n",
    "bandPassList = ['u', 'g', 'r', 'i', 'z', 'y']\n",
    "banddir = os.path.join(os.getenv('THROUGHPUTS_DIR'), 'baseline')\n",
    "\n",
    "for band in bandPassList:\n",
    "\n",
    "    # setup sncosmo bandpasses\n",
    "    bandfname = banddir + \"/total_\" + band + '.dat'\n",
    "\n",
    "\n",
    "    # register the LSST bands to the SNCosmo registry\n",
    "    # Not needed for LSST, but useful to compare independent codes\n",
    "    # Usually the next two lines can be merged,\n",
    "    # but there is an astropy bug currently which affects only OSX.\n",
    "    numpyband = np.loadtxt(bandfname)\n",
    "    print band\n",
    "    sncosmoband = sncosmo.Bandpass(wave=numpyband[:, 0],\n",
    "                                   trans=numpyband[:, 1],\n",
    "                                   wave_unit=Unit('nm'),\n",
    "                                   name=band)\n",
    "    sncosmo.registry.register(sncosmoband, force=True)"
   ]
  },
  {
   "cell_type": "code",
   "execution_count": 8,
   "metadata": {
    "collapsed": true
   },
   "outputs": [],
   "source": [
    "et = EfficiencyTable.fromDES_EfficiencyFile('example_data/SEARCHEFF_PIPELINE_DES.DAT')"
   ]
  },
  {
   "cell_type": "code",
   "execution_count": 9,
   "metadata": {
    "collapsed": true
   },
   "outputs": [],
   "source": [
    "from lsst.sims.catUtils.mixins import SNObject"
   ]
  },
  {
   "cell_type": "code",
   "execution_count": 10,
   "metadata": {
    "collapsed": false
   },
   "outputs": [],
   "source": [
    "opsimHDF = os.path.join(os.getenv('HOME'), 'data', 'LSST', 'OpSimData', 'storage.h5')\n",
    "summarydf = pd.read_hdf(opsimHDF, 'table')\n",
    "# df = df.query('propID == [364, 366]')"
   ]
  },
  {
   "cell_type": "code",
   "execution_count": 11,
   "metadata": {
    "collapsed": false
   },
   "outputs": [
    {
     "data": {
      "text/html": [
       "<div style=\"max-height:1000px;max-width:1500px;overflow:auto;\">\n",
       "<table border=\"1\" class=\"dataframe\">\n",
       "  <thead>\n",
       "    <tr style=\"text-align: right;\">\n",
       "      <th></th>\n",
       "      <th>obsHistID</th>\n",
       "      <th>sessionID</th>\n",
       "      <th>propID</th>\n",
       "      <th>fieldID</th>\n",
       "      <th>fieldRA</th>\n",
       "      <th>fieldDec</th>\n",
       "      <th>filter</th>\n",
       "      <th>expDate</th>\n",
       "      <th>expMJD</th>\n",
       "      <th>night</th>\n",
       "      <th>...</th>\n",
       "      <th>wind</th>\n",
       "      <th>humidity</th>\n",
       "      <th>slewDist</th>\n",
       "      <th>slewTime</th>\n",
       "      <th>fiveSigmaDepth</th>\n",
       "      <th>ditheredRA</th>\n",
       "      <th>ditheredDec</th>\n",
       "      <th>gamma</th>\n",
       "      <th>N0sq</th>\n",
       "      <th>alpha</th>\n",
       "    </tr>\n",
       "  </thead>\n",
       "  <tbody>\n",
       "    <tr>\n",
       "      <th>0</th>\n",
       "      <td>1</td>\n",
       "      <td>1189</td>\n",
       "      <td>364</td>\n",
       "      <td>316</td>\n",
       "      <td>1.676483</td>\n",
       "      <td>-1.082473</td>\n",
       "      <td>y</td>\n",
       "      <td>2771</td>\n",
       "      <td>49353.032079</td>\n",
       "      <td>0</td>\n",
       "      <td>...</td>\n",
       "      <td>0</td>\n",
       "      <td>0</td>\n",
       "      <td>1.620307</td>\n",
       "      <td>0.000000</td>\n",
       "      <td>21.084291</td>\n",
       "      <td>1.643930</td>\n",
       "      <td>-1.108924</td>\n",
       "      <td>0.039924</td>\n",
       "      <td>0.000002</td>\n",
       "      <td>0.039924</td>\n",
       "    </tr>\n",
       "    <tr>\n",
       "      <th>1</th>\n",
       "      <td>2</td>\n",
       "      <td>1189</td>\n",
       "      <td>364</td>\n",
       "      <td>372</td>\n",
       "      <td>1.694120</td>\n",
       "      <td>-1.033972</td>\n",
       "      <td>y</td>\n",
       "      <td>2810</td>\n",
       "      <td>49353.032525</td>\n",
       "      <td>0</td>\n",
       "      <td>...</td>\n",
       "      <td>0</td>\n",
       "      <td>0</td>\n",
       "      <td>0.049266</td>\n",
       "      <td>4.542362</td>\n",
       "      <td>21.088257</td>\n",
       "      <td>1.664257</td>\n",
       "      <td>-1.060423</td>\n",
       "      <td>0.039924</td>\n",
       "      <td>0.000002</td>\n",
       "      <td>0.039924</td>\n",
       "    </tr>\n",
       "    <tr>\n",
       "      <th>2</th>\n",
       "      <td>3</td>\n",
       "      <td>1189</td>\n",
       "      <td>364</td>\n",
       "      <td>441</td>\n",
       "      <td>1.708513</td>\n",
       "      <td>-0.985271</td>\n",
       "      <td>y</td>\n",
       "      <td>2848</td>\n",
       "      <td>49353.032971</td>\n",
       "      <td>0</td>\n",
       "      <td>...</td>\n",
       "      <td>0</td>\n",
       "      <td>0</td>\n",
       "      <td>0.049298</td>\n",
       "      <td>4.561422</td>\n",
       "      <td>21.091100</td>\n",
       "      <td>1.680878</td>\n",
       "      <td>-1.011722</td>\n",
       "      <td>0.039924</td>\n",
       "      <td>0.000002</td>\n",
       "      <td>0.039924</td>\n",
       "    </tr>\n",
       "    <tr>\n",
       "      <th>3</th>\n",
       "      <td>4</td>\n",
       "      <td>1189</td>\n",
       "      <td>364</td>\n",
       "      <td>505</td>\n",
       "      <td>1.720374</td>\n",
       "      <td>-0.936476</td>\n",
       "      <td>y</td>\n",
       "      <td>2887</td>\n",
       "      <td>49353.033417</td>\n",
       "      <td>0</td>\n",
       "      <td>...</td>\n",
       "      <td>0</td>\n",
       "      <td>0</td>\n",
       "      <td>0.049266</td>\n",
       "      <td>4.570186</td>\n",
       "      <td>21.092714</td>\n",
       "      <td>1.694604</td>\n",
       "      <td>-0.962927</td>\n",
       "      <td>0.039924</td>\n",
       "      <td>0.000002</td>\n",
       "      <td>0.039924</td>\n",
       "    </tr>\n",
       "    <tr>\n",
       "      <th>4</th>\n",
       "      <td>5</td>\n",
       "      <td>1189</td>\n",
       "      <td>364</td>\n",
       "      <td>587</td>\n",
       "      <td>1.730248</td>\n",
       "      <td>-0.887672</td>\n",
       "      <td>y</td>\n",
       "      <td>2925</td>\n",
       "      <td>49353.033864</td>\n",
       "      <td>0</td>\n",
       "      <td>...</td>\n",
       "      <td>0</td>\n",
       "      <td>0</td>\n",
       "      <td>0.049177</td>\n",
       "      <td>4.568530</td>\n",
       "      <td>21.093091</td>\n",
       "      <td>1.706054</td>\n",
       "      <td>-0.914123</td>\n",
       "      <td>0.039924</td>\n",
       "      <td>0.000002</td>\n",
       "      <td>0.039924</td>\n",
       "    </tr>\n",
       "  </tbody>\n",
       "</table>\n",
       "<p>5 rows × 48 columns</p>\n",
       "</div>"
      ],
      "text/plain": [
       "   obsHistID  sessionID  propID  fieldID   fieldRA  fieldDec filter  expDate  \\\n",
       "0          1       1189     364      316  1.676483 -1.082473      y     2771   \n",
       "1          2       1189     364      372  1.694120 -1.033972      y     2810   \n",
       "2          3       1189     364      441  1.708513 -0.985271      y     2848   \n",
       "3          4       1189     364      505  1.720374 -0.936476      y     2887   \n",
       "4          5       1189     364      587  1.730248 -0.887672      y     2925   \n",
       "\n",
       "         expMJD  night    ...     wind  humidity  slewDist  slewTime  \\\n",
       "0  49353.032079      0    ...        0         0  1.620307  0.000000   \n",
       "1  49353.032525      0    ...        0         0  0.049266  4.542362   \n",
       "2  49353.032971      0    ...        0         0  0.049298  4.561422   \n",
       "3  49353.033417      0    ...        0         0  0.049266  4.570186   \n",
       "4  49353.033864      0    ...        0         0  0.049177  4.568530   \n",
       "\n",
       "   fiveSigmaDepth  ditheredRA  ditheredDec     gamma      N0sq     alpha  \n",
       "0       21.084291    1.643930    -1.108924  0.039924  0.000002  0.039924  \n",
       "1       21.088257    1.664257    -1.060423  0.039924  0.000002  0.039924  \n",
       "2       21.091100    1.680878    -1.011722  0.039924  0.000002  0.039924  \n",
       "3       21.092714    1.694604    -0.962927  0.039924  0.000002  0.039924  \n",
       "4       21.093091    1.706054    -0.914123  0.039924  0.000002  0.039924  \n",
       "\n",
       "[5 rows x 48 columns]"
      ]
     },
     "execution_count": 11,
     "metadata": {},
     "output_type": "execute_result"
    }
   ],
   "source": [
    "summarydf.head()"
   ]
  },
  {
   "cell_type": "code",
   "execution_count": 12,
   "metadata": {
    "collapsed": true
   },
   "outputs": [],
   "source": [
    "summarydf = summarydf.query('propID == [364, 366]').query('night < 365')"
   ]
  },
  {
   "cell_type": "code",
   "execution_count": 13,
   "metadata": {
    "collapsed": true
   },
   "outputs": [],
   "source": [
    "# Create the summary instance\n",
    "so = oss.SummaryOpsim(summarydf)"
   ]
  },
  {
   "cell_type": "code",
   "execution_count": 14,
   "metadata": {
    "collapsed": true
   },
   "outputs": [],
   "source": [
    "ss = so.simlib(fieldID=309)"
   ]
  },
  {
   "cell_type": "code",
   "execution_count": 15,
   "metadata": {
    "collapsed": false
   },
   "outputs": [
    {
     "data": {
      "text/html": [
       "<div style=\"max-height:1000px;max-width:1500px;overflow:auto;\">\n",
       "<table border=\"1\" class=\"dataframe\">\n",
       "  <thead>\n",
       "    <tr style=\"text-align: right;\">\n",
       "      <th></th>\n",
       "      <th>obsHistID</th>\n",
       "      <th>sessionID</th>\n",
       "      <th>propID</th>\n",
       "      <th>fieldID</th>\n",
       "      <th>fieldRA</th>\n",
       "      <th>fieldDec</th>\n",
       "      <th>filter</th>\n",
       "      <th>expDate</th>\n",
       "      <th>expMJD</th>\n",
       "      <th>night</th>\n",
       "      <th>...</th>\n",
       "      <th>humidity</th>\n",
       "      <th>slewDist</th>\n",
       "      <th>slewTime</th>\n",
       "      <th>fiveSigmaDepth</th>\n",
       "      <th>ditheredRA</th>\n",
       "      <th>ditheredDec</th>\n",
       "      <th>gamma</th>\n",
       "      <th>N0sq</th>\n",
       "      <th>alpha</th>\n",
       "      <th>MJDay</th>\n",
       "    </tr>\n",
       "  </thead>\n",
       "  <tbody>\n",
       "    <tr>\n",
       "      <th>54984</th>\n",
       "      <td>54932</td>\n",
       "      <td>1189</td>\n",
       "      <td>364</td>\n",
       "      <td>309</td>\n",
       "      <td>4.189756</td>\n",
       "      <td>-1.082474</td>\n",
       "      <td>u</td>\n",
       "      <td>6337289</td>\n",
       "      <td>49426.348262</td>\n",
       "      <td>73</td>\n",
       "      <td>...</td>\n",
       "      <td>0</td>\n",
       "      <td>0.054175</td>\n",
       "      <td>4.737670</td>\n",
       "      <td>23.535869</td>\n",
       "      <td>4.165341</td>\n",
       "      <td>-1.089087</td>\n",
       "      <td>0.039553</td>\n",
       "      <td>0.000001</td>\n",
       "      <td>0.039553</td>\n",
       "      <td>49426</td>\n",
       "    </tr>\n",
       "    <tr>\n",
       "      <th>62174</th>\n",
       "      <td>62118</td>\n",
       "      <td>1189</td>\n",
       "      <td>364</td>\n",
       "      <td>309</td>\n",
       "      <td>4.189756</td>\n",
       "      <td>-1.082474</td>\n",
       "      <td>i</td>\n",
       "      <td>7018234</td>\n",
       "      <td>49434.229565</td>\n",
       "      <td>81</td>\n",
       "      <td>...</td>\n",
       "      <td>0</td>\n",
       "      <td>0.054641</td>\n",
       "      <td>4.659288</td>\n",
       "      <td>23.346593</td>\n",
       "      <td>4.230447</td>\n",
       "      <td>-1.089087</td>\n",
       "      <td>0.039780</td>\n",
       "      <td>0.000001</td>\n",
       "      <td>0.039780</td>\n",
       "      <td>49434</td>\n",
       "    </tr>\n",
       "    <tr>\n",
       "      <th>62201</th>\n",
       "      <td>62145</td>\n",
       "      <td>1189</td>\n",
       "      <td>364</td>\n",
       "      <td>309</td>\n",
       "      <td>4.189756</td>\n",
       "      <td>-1.082474</td>\n",
       "      <td>i</td>\n",
       "      <td>7019269</td>\n",
       "      <td>49434.241549</td>\n",
       "      <td>81</td>\n",
       "      <td>...</td>\n",
       "      <td>0</td>\n",
       "      <td>0.054641</td>\n",
       "      <td>4.600334</td>\n",
       "      <td>23.504851</td>\n",
       "      <td>4.230447</td>\n",
       "      <td>-1.089087</td>\n",
       "      <td>0.039745</td>\n",
       "      <td>0.000001</td>\n",
       "      <td>0.039745</td>\n",
       "      <td>49434</td>\n",
       "    </tr>\n",
       "    <tr>\n",
       "      <th>65712</th>\n",
       "      <td>65656</td>\n",
       "      <td>1189</td>\n",
       "      <td>364</td>\n",
       "      <td>309</td>\n",
       "      <td>4.189756</td>\n",
       "      <td>-1.082474</td>\n",
       "      <td>Y</td>\n",
       "      <td>7364902</td>\n",
       "      <td>49438.241925</td>\n",
       "      <td>85</td>\n",
       "      <td>...</td>\n",
       "      <td>0</td>\n",
       "      <td>0.054641</td>\n",
       "      <td>4.534727</td>\n",
       "      <td>21.193041</td>\n",
       "      <td>4.136860</td>\n",
       "      <td>-1.085780</td>\n",
       "      <td>0.039916</td>\n",
       "      <td>0.000002</td>\n",
       "      <td>0.039916</td>\n",
       "      <td>49438</td>\n",
       "    </tr>\n",
       "    <tr>\n",
       "      <th>65717</th>\n",
       "      <td>65661</td>\n",
       "      <td>1189</td>\n",
       "      <td>364</td>\n",
       "      <td>309</td>\n",
       "      <td>4.189756</td>\n",
       "      <td>-1.082474</td>\n",
       "      <td>Y</td>\n",
       "      <td>7365094</td>\n",
       "      <td>49438.244152</td>\n",
       "      <td>85</td>\n",
       "      <td>...</td>\n",
       "      <td>0</td>\n",
       "      <td>0.088075</td>\n",
       "      <td>5.189096</td>\n",
       "      <td>21.203663</td>\n",
       "      <td>4.136860</td>\n",
       "      <td>-1.085780</td>\n",
       "      <td>0.039915</td>\n",
       "      <td>0.000002</td>\n",
       "      <td>0.039915</td>\n",
       "      <td>49438</td>\n",
       "    </tr>\n",
       "  </tbody>\n",
       "</table>\n",
       "<p>5 rows × 49 columns</p>\n",
       "</div>"
      ],
      "text/plain": [
       "       obsHistID  sessionID  propID  fieldID   fieldRA  fieldDec filter  \\\n",
       "54984      54932       1189     364      309  4.189756 -1.082474      u   \n",
       "62174      62118       1189     364      309  4.189756 -1.082474      i   \n",
       "62201      62145       1189     364      309  4.189756 -1.082474      i   \n",
       "65712      65656       1189     364      309  4.189756 -1.082474      Y   \n",
       "65717      65661       1189     364      309  4.189756 -1.082474      Y   \n",
       "\n",
       "       expDate        expMJD  night  ...    humidity  slewDist  slewTime  \\\n",
       "54984  6337289  49426.348262     73  ...           0  0.054175  4.737670   \n",
       "62174  7018234  49434.229565     81  ...           0  0.054641  4.659288   \n",
       "62201  7019269  49434.241549     81  ...           0  0.054641  4.600334   \n",
       "65712  7364902  49438.241925     85  ...           0  0.054641  4.534727   \n",
       "65717  7365094  49438.244152     85  ...           0  0.088075  5.189096   \n",
       "\n",
       "       fiveSigmaDepth  ditheredRA  ditheredDec     gamma      N0sq     alpha  \\\n",
       "54984       23.535869    4.165341    -1.089087  0.039553  0.000001  0.039553   \n",
       "62174       23.346593    4.230447    -1.089087  0.039780  0.000001  0.039780   \n",
       "62201       23.504851    4.230447    -1.089087  0.039745  0.000001  0.039745   \n",
       "65712       21.193041    4.136860    -1.085780  0.039916  0.000002  0.039916   \n",
       "65717       21.203663    4.136860    -1.085780  0.039915  0.000002  0.039915   \n",
       "\n",
       "       MJDay  \n",
       "54984  49426  \n",
       "62174  49434  \n",
       "62201  49434  \n",
       "65712  49438  \n",
       "65717  49438  \n",
       "\n",
       "[5 rows x 49 columns]"
      ]
     },
     "execution_count": 15,
     "metadata": {},
     "output_type": "execute_result"
    }
   ],
   "source": [
    "ss.head()"
   ]
  },
  {
   "cell_type": "code",
   "execution_count": 16,
   "metadata": {
    "collapsed": false
   },
   "outputs": [
    {
     "name": "stderr",
     "output_type": "stream",
     "text": [
      "/usr/local/manual/anaconda/lib/python2.7/site-packages/matplotlib/collections.py:590: FutureWarning: elementwise comparison failed; returning scalar instead, but in the future will perform elementwise comparison\n",
      "  if self._edgecolors == str('face'):\n"
     ]
    },
    {
     "data": {
      "image/png": "[encoded data removed]",
      "text/plain": [
       "<matplotlib.figure.Figure at 0x103c59f90>"
      ]
     },
     "metadata": {},
     "output_type": "display_data"
    }
   ],
   "source": [
    "_ = so.cadence_plot(fieldID=309, mjd_center=49540)"
   ]
  },
  {
   "cell_type": "code",
   "execution_count": 17,
   "metadata": {
    "collapsed": false
   },
   "outputs": [
    {
     "data": {
      "image/png": "[encoded data removed]",
      "text/plain": [
       "<matplotlib.figure.Figure at 0x103c598d0>"
      ]
     },
     "metadata": {},
     "output_type": "display_data"
    }
   ],
   "source": [
    "# 1st season by default\n",
    "_ = so.cadence_plot(fieldID=309)"
   ]
  },
  {
   "cell_type": "markdown",
   "metadata": {},
   "source": [
    "## Metrics"
   ]
  },
  {
   "cell_type": "code",
   "execution_count": 18,
   "metadata": {
    "collapsed": false
   },
   "outputs": [],
   "source": [
    "qm = PerSNMetric(fieldID=309, t0=49540, summarydf=summarydf, lsst_bp=lsst_bp)"
   ]
  },
  {
   "cell_type": "code",
   "execution_count": 19,
   "metadata": {
    "collapsed": false
   },
   "outputs": [
    {
     "data": {
      "image/png": "[encoded data removed]",
      "text/plain": [
       "<matplotlib.figure.Figure at 0x15f301750>"
      ]
     },
     "metadata": {},
     "output_type": "display_data"
    }
   ],
   "source": [
    "qm.lcplot()"
   ]
  },
  {
   "cell_type": "code",
   "execution_count": 20,
   "metadata": {
    "collapsed": false
   },
   "outputs": [
    {
     "data": {
      "image/png": "[encoded data removed]",
      "text/plain": [
       "<matplotlib.figure.Figure at 0x14e05d9d0>"
      ]
     },
     "metadata": {},
     "output_type": "display_data"
    }
   ],
   "source": [
    "qm.lcplot(nightlyCoadd=True)"
   ]
  },
  {
   "cell_type": "code",
   "execution_count": 21,
   "metadata": {
    "collapsed": true
   },
   "outputs": [],
   "source": [
    "qm.writeLightCurve('coadded_lc.dat',nightlyCoadd=True)"
   ]
  },
  {
   "cell_type": "code",
   "execution_count": 22,
   "metadata": {
    "collapsed": false
   },
   "outputs": [],
   "source": [
    "cm = qm.cadence_Matrix(fieldID=309, mjd_center=49540, mjd_range=[-30., 50.])"
   ]
  },
  {
   "cell_type": "code",
   "execution_count": 23,
   "metadata": {
    "collapsed": false
   },
   "outputs": [
    {
     "data": {
      "text/html": [
       "<div style=\"max-height:1000px;max-width:1500px;overflow:auto;\">\n",
       "<table border=\"1\" class=\"dataframe\">\n",
       "  <thead>\n",
       "    <tr style=\"text-align: right;\">\n",
       "      <th>Filters</th>\n",
       "      <th>u</th>\n",
       "      <th>g</th>\n",
       "      <th>r</th>\n",
       "      <th>i</th>\n",
       "      <th>z</th>\n",
       "      <th>Y</th>\n",
       "    </tr>\n",
       "  </thead>\n",
       "  <tbody>\n",
       "    <tr>\n",
       "      <th>49510</th>\n",
       "      <td>NaN</td>\n",
       "      <td>NaN</td>\n",
       "      <td>NaN</td>\n",
       "      <td>NaN</td>\n",
       "      <td>NaN</td>\n",
       "      <td>NaN</td>\n",
       "    </tr>\n",
       "    <tr>\n",
       "      <th>49511</th>\n",
       "      <td>NaN</td>\n",
       "      <td>NaN</td>\n",
       "      <td>NaN</td>\n",
       "      <td>NaN</td>\n",
       "      <td>NaN</td>\n",
       "      <td>NaN</td>\n",
       "    </tr>\n",
       "    <tr>\n",
       "      <th>49512</th>\n",
       "      <td>NaN</td>\n",
       "      <td>NaN</td>\n",
       "      <td>NaN</td>\n",
       "      <td>NaN</td>\n",
       "      <td>NaN</td>\n",
       "      <td>NaN</td>\n",
       "    </tr>\n",
       "    <tr>\n",
       "      <th>49513</th>\n",
       "      <td>NaN</td>\n",
       "      <td>NaN</td>\n",
       "      <td>NaN</td>\n",
       "      <td>NaN</td>\n",
       "      <td>NaN</td>\n",
       "      <td>NaN</td>\n",
       "    </tr>\n",
       "    <tr>\n",
       "      <th>49514</th>\n",
       "      <td>NaN</td>\n",
       "      <td>NaN</td>\n",
       "      <td>NaN</td>\n",
       "      <td>NaN</td>\n",
       "      <td>NaN</td>\n",
       "      <td>NaN</td>\n",
       "    </tr>\n",
       "  </tbody>\n",
       "</table>\n",
       "</div>"
      ],
      "text/plain": [
       "Filters   u   g   r   i   z   Y\n",
       "49510   NaN NaN NaN NaN NaN NaN\n",
       "49511   NaN NaN NaN NaN NaN NaN\n",
       "49512   NaN NaN NaN NaN NaN NaN\n",
       "49513   NaN NaN NaN NaN NaN NaN\n",
       "49514   NaN NaN NaN NaN NaN NaN"
      ]
     },
     "execution_count": 23,
     "metadata": {},
     "output_type": "execute_result"
    }
   ],
   "source": [
    "cm.head()"
   ]
  },
  {
   "cell_type": "code",
   "execution_count": 24,
   "metadata": {
    "collapsed": false
   },
   "outputs": [
    {
     "data": {
      "image/png": "[encoded data removed]",
      "text/plain": [
       "<matplotlib.figure.Figure at 0x1127a39d0>"
      ]
     },
     "metadata": {},
     "output_type": "display_data"
    }
   ],
   "source": [
    "cm = qm.cadence_plot(fieldID=309, mjd_center=49540, mjd_range=[-30, 5])"
   ]
  },
  {
   "cell_type": "code",
   "execution_count": 25,
   "metadata": {
    "collapsed": true
   },
   "outputs": [],
   "source": [
    "qm = PerSNMetric(fieldID=309, t0=49540, summarydf=ss, lsst_bp=lsst_bp, efficiency=et)"
   ]
  },
  {
   "cell_type": "code",
   "execution_count": 26,
   "metadata": {
    "collapsed": false
   },
   "outputs": [
    {
     "data": {
      "image/png": "[encoded data removed]",
      "text/plain": [
       "<matplotlib.figure.Figure at 0x15f4ce2d0>"
      ]
     },
     "execution_count": 26,
     "metadata": {},
     "output_type": "execute_result"
    },
    {
     "data": {
      "image/png": "[encoded data removed]",
      "text/plain": [
       "<matplotlib.figure.Figure at 0x15f4ce2d0>"
      ]
     },
     "metadata": {},
     "output_type": "display_data"
    }
   ],
   "source": [
    "qm.SNCadence[0]"
   ]
  },
  {
   "cell_type": "code",
   "execution_count": 27,
   "metadata": {
    "collapsed": false
   },
   "outputs": [
    {
     "data": {
      "text/html": [
       "<div style=\"max-height:1000px;max-width:1500px;overflow:auto;\">\n",
       "<table border=\"1\" class=\"dataframe\">\n",
       "  <thead>\n",
       "    <tr style=\"text-align: right;\">\n",
       "      <th></th>\n",
       "      <th>obsHistID</th>\n",
       "      <th>sessionID</th>\n",
       "      <th>propID</th>\n",
       "      <th>fieldID</th>\n",
       "      <th>fieldRA</th>\n",
       "      <th>fieldDec</th>\n",
       "      <th>filter</th>\n",
       "      <th>expDate</th>\n",
       "      <th>expMJD</th>\n",
       "      <th>night</th>\n",
       "      <th>...</th>\n",
       "      <th>humidity</th>\n",
       "      <th>slewDist</th>\n",
       "      <th>slewTime</th>\n",
       "      <th>fiveSigmaDepth</th>\n",
       "      <th>ditheredRA</th>\n",
       "      <th>ditheredDec</th>\n",
       "      <th>gamma</th>\n",
       "      <th>N0sq</th>\n",
       "      <th>alpha</th>\n",
       "      <th>MJDay</th>\n",
       "    </tr>\n",
       "  </thead>\n",
       "  <tbody>\n",
       "    <tr>\n",
       "      <th>54984</th>\n",
       "      <td>54932</td>\n",
       "      <td>1189</td>\n",
       "      <td>364</td>\n",
       "      <td>309</td>\n",
       "      <td>4.189756</td>\n",
       "      <td>-1.082474</td>\n",
       "      <td>u</td>\n",
       "      <td>6337289</td>\n",
       "      <td>49426.348262</td>\n",
       "      <td>73</td>\n",
       "      <td>...</td>\n",
       "      <td>0</td>\n",
       "      <td>0.054175</td>\n",
       "      <td>4.737670</td>\n",
       "      <td>23.535869</td>\n",
       "      <td>4.165341</td>\n",
       "      <td>-1.089087</td>\n",
       "      <td>0.039553</td>\n",
       "      <td>0.000001</td>\n",
       "      <td>0.039553</td>\n",
       "      <td>49426</td>\n",
       "    </tr>\n",
       "    <tr>\n",
       "      <th>62174</th>\n",
       "      <td>62118</td>\n",
       "      <td>1189</td>\n",
       "      <td>364</td>\n",
       "      <td>309</td>\n",
       "      <td>4.189756</td>\n",
       "      <td>-1.082474</td>\n",
       "      <td>i</td>\n",
       "      <td>7018234</td>\n",
       "      <td>49434.229565</td>\n",
       "      <td>81</td>\n",
       "      <td>...</td>\n",
       "      <td>0</td>\n",
       "      <td>0.054641</td>\n",
       "      <td>4.659288</td>\n",
       "      <td>23.346593</td>\n",
       "      <td>4.230447</td>\n",
       "      <td>-1.089087</td>\n",
       "      <td>0.039780</td>\n",
       "      <td>0.000001</td>\n",
       "      <td>0.039780</td>\n",
       "      <td>49434</td>\n",
       "    </tr>\n",
       "    <tr>\n",
       "      <th>62201</th>\n",
       "      <td>62145</td>\n",
       "      <td>1189</td>\n",
       "      <td>364</td>\n",
       "      <td>309</td>\n",
       "      <td>4.189756</td>\n",
       "      <td>-1.082474</td>\n",
       "      <td>i</td>\n",
       "      <td>7019269</td>\n",
       "      <td>49434.241549</td>\n",
       "      <td>81</td>\n",
       "      <td>...</td>\n",
       "      <td>0</td>\n",
       "      <td>0.054641</td>\n",
       "      <td>4.600334</td>\n",
       "      <td>23.504851</td>\n",
       "      <td>4.230447</td>\n",
       "      <td>-1.089087</td>\n",
       "      <td>0.039745</td>\n",
       "      <td>0.000001</td>\n",
       "      <td>0.039745</td>\n",
       "      <td>49434</td>\n",
       "    </tr>\n",
       "    <tr>\n",
       "      <th>65712</th>\n",
       "      <td>65656</td>\n",
       "      <td>1189</td>\n",
       "      <td>364</td>\n",
       "      <td>309</td>\n",
       "      <td>4.189756</td>\n",
       "      <td>-1.082474</td>\n",
       "      <td>Y</td>\n",
       "      <td>7364902</td>\n",
       "      <td>49438.241925</td>\n",
       "      <td>85</td>\n",
       "      <td>...</td>\n",
       "      <td>0</td>\n",
       "      <td>0.054641</td>\n",
       "      <td>4.534727</td>\n",
       "      <td>21.193041</td>\n",
       "      <td>4.136860</td>\n",
       "      <td>-1.085780</td>\n",
       "      <td>0.039916</td>\n",
       "      <td>0.000002</td>\n",
       "      <td>0.039916</td>\n",
       "      <td>49438</td>\n",
       "    </tr>\n",
       "    <tr>\n",
       "      <th>65717</th>\n",
       "      <td>65661</td>\n",
       "      <td>1189</td>\n",
       "      <td>364</td>\n",
       "      <td>309</td>\n",
       "      <td>4.189756</td>\n",
       "      <td>-1.082474</td>\n",
       "      <td>Y</td>\n",
       "      <td>7365094</td>\n",
       "      <td>49438.244152</td>\n",
       "      <td>85</td>\n",
       "      <td>...</td>\n",
       "      <td>0</td>\n",
       "      <td>0.088075</td>\n",
       "      <td>5.189096</td>\n",
       "      <td>21.203663</td>\n",
       "      <td>4.136860</td>\n",
       "      <td>-1.085780</td>\n",
       "      <td>0.039915</td>\n",
       "      <td>0.000002</td>\n",
       "      <td>0.039915</td>\n",
       "      <td>49438</td>\n",
       "    </tr>\n",
       "  </tbody>\n",
       "</table>\n",
       "<p>5 rows × 49 columns</p>\n",
       "</div>"
      ],
      "text/plain": [
       "       obsHistID  sessionID  propID  fieldID   fieldRA  fieldDec filter  \\\n",
       "54984      54932       1189     364      309  4.189756 -1.082474      u   \n",
       "62174      62118       1189     364      309  4.189756 -1.082474      i   \n",
       "62201      62145       1189     364      309  4.189756 -1.082474      i   \n",
       "65712      65656       1189     364      309  4.189756 -1.082474      Y   \n",
       "65717      65661       1189     364      309  4.189756 -1.082474      Y   \n",
       "\n",
       "       expDate        expMJD  night  ...    humidity  slewDist  slewTime  \\\n",
       "54984  6337289  49426.348262     73  ...           0  0.054175  4.737670   \n",
       "62174  7018234  49434.229565     81  ...           0  0.054641  4.659288   \n",
       "62201  7019269  49434.241549     81  ...           0  0.054641  4.600334   \n",
       "65712  7364902  49438.241925     85  ...           0  0.054641  4.534727   \n",
       "65717  7365094  49438.244152     85  ...           0  0.088075  5.189096   \n",
       "\n",
       "       fiveSigmaDepth  ditheredRA  ditheredDec     gamma      N0sq     alpha  \\\n",
       "54984       23.535869    4.165341    -1.089087  0.039553  0.000001  0.039553   \n",
       "62174       23.346593    4.230447    -1.089087  0.039780  0.000001  0.039780   \n",
       "62201       23.504851    4.230447    -1.089087  0.039745  0.000001  0.039745   \n",
       "65712       21.193041    4.136860    -1.085780  0.039916  0.000002  0.039916   \n",
       "65717       21.203663    4.136860    -1.085780  0.039915  0.000002  0.039915   \n",
       "\n",
       "       MJDay  \n",
       "54984  49426  \n",
       "62174  49434  \n",
       "62201  49434  \n",
       "65712  49438  \n",
       "65717  49438  \n",
       "\n",
       "[5 rows x 49 columns]"
      ]
     },
     "execution_count": 27,
     "metadata": {},
     "output_type": "execute_result"
    }
   ],
   "source": [
    "qm.summary.head()"
   ]
  },
  {
   "cell_type": "code",
   "execution_count": 28,
   "metadata": {
    "collapsed": false
   },
   "outputs": [
    {
     "data": {
      "text/plain": [
       "0.99995137946174906"
      ]
     },
     "execution_count": 28,
     "metadata": {},
     "output_type": "execute_result"
    }
   ],
   "source": [
    "qm.discoveryMetric()"
   ]
  },
  {
   "cell_type": "code",
   "execution_count": 29,
   "metadata": {
    "collapsed": false
   },
   "outputs": [
    {
     "data": {
      "text/plain": [
       "0.0029671277166204053"
      ]
     },
     "execution_count": 29,
     "metadata": {},
     "output_type": "execute_result"
    }
   ],
   "source": [
    "qm.qualityMetric()"
   ]
  },
  {
   "cell_type": "markdown",
   "metadata": {},
   "source": [
    "###  Using a Pull Light curve from MAF"
   ]
  },
  {
   "cell_type": "code",
   "execution_count": 30,
   "metadata": {
    "collapsed": true
   },
   "outputs": [],
   "source": [
    "%matplotlib inline\n",
    "import numpy as np\n",
    "import matplotlib.pyplot as plt\n",
    "import healpy as hp\n",
    "import lsst.sims.maf.db as db\n",
    "import lsst.sims.maf.utils as utils\n",
    "import lsst.sims.maf.metrics as metrics\n",
    "import lsst.sims.maf.slicers as slicers\n",
    "import lsst.sims.maf.metricBundles as metricBundles"
   ]
  },
  {
   "cell_type": "code",
   "execution_count": 31,
   "metadata": {
    "collapsed": true
   },
   "outputs": [],
   "source": [
    "outDir ='LightCurve'\n",
    "dbFile = 'enigma_1189_sqlite.db'\n",
    "opsimdb = utils.connectOpsimDb(dbFile)\n",
    "resultsDb = db.ResultsDb(outDir=outDir)"
   ]
  },
  {
   "cell_type": "code",
   "execution_count": 32,
   "metadata": {
    "collapsed": true
   },
   "outputs": [],
   "source": [
    "filters = ['u','g','r','i','z','y']\n",
    "colors={'u':'cyan','g':'g','r':'y','i':'r','z':'m', 'y':'k'}\n"
   ]
  },
  {
   "cell_type": "code",
   "execution_count": 33,
   "metadata": {
    "collapsed": true
   },
   "outputs": [],
   "source": [
    "# Set RA, Dec for a single point in the sky. in radians.\n",
    "ra = np.radians(0.)\n",
    "dec = np.radians(0.)\n",
    "# SNR limit (Don't use points below this limit)\n",
    "snrLimit = 5.\n",
    "# Demand this many points above SNR limit before plotting LC\n",
    "nPtsLimit = 6"
   ]
  },
  {
   "cell_type": "code",
   "execution_count": 34,
   "metadata": {
    "collapsed": true
   },
   "outputs": [],
   "source": [
    "# The pass metric just passes data straight through.\n",
    "metric = metrics.PassMetric(cols=['filter','fieldID','finSeeing','fiveSigmaDepth',\n",
    "                                  'expMJD','airmass', 'propID', 'night', 'filtSkyBrightness'])\n",
    "slicer = slicers.UserPointsSlicer(ra,dec,lonCol='fieldRA',latCol='fieldDec')\n",
    "sql = 'night < 366'\n",
    "bundle = metricBundles.MetricBundle(metric,slicer,sql)\n",
    "bg =  metricBundles.MetricBundleGroup({0:bundle}, opsimdb,\n",
    "                                      outDir=outDir, resultsDb=resultsDb)"
   ]
  },
  {
   "cell_type": "code",
   "execution_count": 35,
   "metadata": {
    "collapsed": false
   },
   "outputs": [
    {
     "name": "stdout",
     "output_type": "stream",
     "text": [
      "Querying database with constraint night < 366\n",
      "Found 272657 visits\n",
      "Running:  [0]\n",
      "Completed metric generation.\n",
      "Running reduce methods.\n",
      "Running summary statistics.\n",
      "Completed.\n"
     ]
    }
   ],
   "source": [
    "bg.runAll()"
   ]
  },
  {
   "cell_type": "code",
   "execution_count": 36,
   "metadata": {
    "collapsed": false
   },
   "outputs": [],
   "source": [
    "llc = pd.DataFrame.from_records(bundle.metricValues.data[0])"
   ]
  },
  {
   "cell_type": "code",
   "execution_count": 37,
   "metadata": {
    "collapsed": false
   },
   "outputs": [
    {
     "data": {
      "text/html": [
       "<div style=\"max-height:1000px;max-width:1500px;overflow:auto;\">\n",
       "<table border=\"1\" class=\"dataframe\">\n",
       "  <thead>\n",
       "    <tr style=\"text-align: right;\">\n",
       "      <th></th>\n",
       "      <th>obsHistID</th>\n",
       "      <th>filtSkyBrightness</th>\n",
       "      <th>airmass</th>\n",
       "      <th>fieldRA</th>\n",
       "      <th>fieldDec</th>\n",
       "      <th>filter</th>\n",
       "      <th>fiveSigmaDepth</th>\n",
       "      <th>expMJD</th>\n",
       "      <th>night</th>\n",
       "      <th>finSeeing</th>\n",
       "      <th>propID</th>\n",
       "      <th>fieldID</th>\n",
       "    </tr>\n",
       "  </thead>\n",
       "  <tbody>\n",
       "    <tr>\n",
       "      <th>0</th>\n",
       "      <td>239966</td>\n",
       "      <td>17.153304</td>\n",
       "      <td>1.168194</td>\n",
       "      <td>6.25556</td>\n",
       "      <td>0.003271</td>\n",
       "      <td>z</td>\n",
       "      <td>22.149947</td>\n",
       "      <td>49672.064912</td>\n",
       "      <td>319</td>\n",
       "      <td>0.772224</td>\n",
       "      <td>364</td>\n",
       "      <td>2655</td>\n",
       "    </tr>\n",
       "    <tr>\n",
       "      <th>1</th>\n",
       "      <td>149400</td>\n",
       "      <td>21.874528</td>\n",
       "      <td>1.153041</td>\n",
       "      <td>6.25556</td>\n",
       "      <td>0.003271</td>\n",
       "      <td>g</td>\n",
       "      <td>24.854518</td>\n",
       "      <td>49545.387207</td>\n",
       "      <td>192</td>\n",
       "      <td>0.782242</td>\n",
       "      <td>364</td>\n",
       "      <td>2655</td>\n",
       "    </tr>\n",
       "    <tr>\n",
       "      <th>2</th>\n",
       "      <td>227675</td>\n",
       "      <td>17.617678</td>\n",
       "      <td>1.209316</td>\n",
       "      <td>6.25556</td>\n",
       "      <td>0.003271</td>\n",
       "      <td>z</td>\n",
       "      <td>22.658431</td>\n",
       "      <td>49646.061726</td>\n",
       "      <td>293</td>\n",
       "      <td>0.597362</td>\n",
       "      <td>364</td>\n",
       "      <td>2655</td>\n",
       "    </tr>\n",
       "    <tr>\n",
       "      <th>3</th>\n",
       "      <td>148176</td>\n",
       "      <td>20.009584</td>\n",
       "      <td>1.293457</td>\n",
       "      <td>6.25556</td>\n",
       "      <td>0.003271</td>\n",
       "      <td>i</td>\n",
       "      <td>23.866753</td>\n",
       "      <td>49544.314227</td>\n",
       "      <td>191</td>\n",
       "      <td>0.758747</td>\n",
       "      <td>364</td>\n",
       "      <td>2655</td>\n",
       "    </tr>\n",
       "    <tr>\n",
       "      <th>4</th>\n",
       "      <td>178722</td>\n",
       "      <td>19.972167</td>\n",
       "      <td>1.355178</td>\n",
       "      <td>6.25556</td>\n",
       "      <td>0.003271</td>\n",
       "      <td>i</td>\n",
       "      <td>23.843180</td>\n",
       "      <td>49577.210972</td>\n",
       "      <td>224</td>\n",
       "      <td>0.759127</td>\n",
       "      <td>364</td>\n",
       "      <td>2655</td>\n",
       "    </tr>\n",
       "  </tbody>\n",
       "</table>\n",
       "</div>"
      ],
      "text/plain": [
       "   obsHistID  filtSkyBrightness   airmass  fieldRA  fieldDec filter  \\\n",
       "0     239966          17.153304  1.168194  6.25556  0.003271      z   \n",
       "1     149400          21.874528  1.153041  6.25556  0.003271      g   \n",
       "2     227675          17.617678  1.209316  6.25556  0.003271      z   \n",
       "3     148176          20.009584  1.293457  6.25556  0.003271      i   \n",
       "4     178722          19.972167  1.355178  6.25556  0.003271      i   \n",
       "\n",
       "   fiveSigmaDepth        expMJD  night  finSeeing  propID  fieldID  \n",
       "0       22.149947  49672.064912    319   0.772224     364     2655  \n",
       "1       24.854518  49545.387207    192   0.782242     364     2655  \n",
       "2       22.658431  49646.061726    293   0.597362     364     2655  \n",
       "3       23.866753  49544.314227    191   0.758747     364     2655  \n",
       "4       23.843180  49577.210972    224   0.759127     364     2655  "
      ]
     },
     "execution_count": 37,
     "metadata": {},
     "output_type": "execute_result"
    }
   ],
   "source": [
    "llc.head()"
   ]
  },
  {
   "cell_type": "code",
   "execution_count": 38,
   "metadata": {
    "collapsed": false
   },
   "outputs": [
    {
     "data": {
      "text/plain": [
       "<matplotlib.axes._subplots.AxesSubplot at 0x160448b10>"
      ]
     },
     "execution_count": 38,
     "metadata": {},
     "output_type": "execute_result"
    },
    {
     "data": {
      "image/png": "[encoded data removed]",
      "text/plain": [
       "<matplotlib.figure.Figure at 0x160448f50>"
      ]
     },
     "metadata": {},
     "output_type": "display_data"
    }
   ],
   "source": [
    "llc.expMJD.hist()"
   ]
  },
  {
   "cell_type": "code",
   "execution_count": 39,
   "metadata": {
    "collapsed": true
   },
   "outputs": [],
   "source": [
    "q2 = PerSNMetric(t0=49580, summarydf=llc, lsst_bp=lsst_bp, efficiency=et, raCol='fieldRA',\n",
    "                decCol='fieldDec')"
   ]
  },
  {
   "cell_type": "code",
   "execution_count": 40,
   "metadata": {
    "collapsed": false
   },
   "outputs": [
    {
     "data": {
      "text/plain": [
       "Index([u'obsHistID', u'sessionID', u'propID', u'fieldID', u'fieldRA', u'fieldDec', u'filter', u'expDate', u'expMJD', u'night', u'visitTime', u'visitExpTime', u'finRank', u'finSeeing', u'transparency', u'airmass', u'vSkyBright', u'filtSkyBrightness', u'rotSkyPos', u'lst', u'altitude', u'azimuth', u'dist2Moon', u'solarElong', u'moonRA', u'moonDec', u'moonAlt', u'moonAZ', u'moonPhase', u'sunAlt', u'sunAz', u'phaseAngle', u'rScatter', u'mieScatter', u'moonIllum', u'moonBright', u'darkBright', u'rawSeeing', u'wind', u'humidity', u'slewDist', u'slewTime', u'fiveSigmaDepth', u'ditheredRA', u'ditheredDec', u'gamma', u'N0sq', u'alpha', u'MJDay'], dtype='object')"
      ]
     },
     "execution_count": 40,
     "metadata": {},
     "output_type": "execute_result"
    }
   ],
   "source": [
    "ss.columns"
   ]
  },
  {
   "cell_type": "code",
   "execution_count": 41,
   "metadata": {
    "collapsed": false
   },
   "outputs": [
    {
     "data": {
      "text/plain": [
       "Index([u'obsHistID', u'filtSkyBrightness', u'airmass', u'fieldRA', u'fieldDec', u'filter', u'fiveSigmaDepth', u'expMJD', u'night', u'finSeeing', u'propID', u'fieldID'], dtype='object')"
      ]
     },
     "execution_count": 41,
     "metadata": {},
     "output_type": "execute_result"
    }
   ],
   "source": [
    "llc.columns"
   ]
  },
  {
   "cell_type": "code",
   "execution_count": 42,
   "metadata": {
    "collapsed": false
   },
   "outputs": [
    {
     "data": {
      "text/plain": [
       "'fieldRA'"
      ]
     },
     "execution_count": 42,
     "metadata": {},
     "output_type": "execute_result"
    }
   ],
   "source": [
    "q2.raCol"
   ]
  },
  {
   "cell_type": "code",
   "execution_count": 43,
   "metadata": {
    "collapsed": false
   },
   "outputs": [
    {
     "data": {
      "text/plain": [
       "6.25556"
      ]
     },
     "execution_count": 43,
     "metadata": {},
     "output_type": "execute_result"
    }
   ],
   "source": [
    "q2.summary[q2.raCol].iloc[0]"
   ]
  },
  {
   "cell_type": "code",
   "execution_count": 44,
   "metadata": {
    "collapsed": false
   },
   "outputs": [
    {
     "data": {
      "text/plain": [
       "358.41718649085726"
      ]
     },
     "execution_count": 44,
     "metadata": {},
     "output_type": "execute_result"
    }
   ],
   "source": [
    "q2.radeg"
   ]
  },
  {
   "cell_type": "code",
   "execution_count": 45,
   "metadata": {
    "collapsed": false
   },
   "outputs": [
    {
     "data": {
      "text/plain": [
       "0.18741449478729227"
      ]
     },
     "execution_count": 45,
     "metadata": {},
     "output_type": "execute_result"
    }
   ],
   "source": [
    "q2.decdeg"
   ]
  },
  {
   "cell_type": "code",
   "execution_count": 46,
   "metadata": {
    "collapsed": false
   },
   "outputs": [
    {
     "data": {
      "text/plain": [
       "{'MWE(B-V)': 0.035068757832050323,\n",
       " 'ModelSource': 'salt2-extended',\n",
       " '_dec': 0.003271,\n",
       " '_ra': 6.25556,\n",
       " 'c': 0.0,\n",
       " 'hostebv': 0.0,\n",
       " 'hostr_v': 3.1000000000000001,\n",
       " 'mwebv': 0.0,\n",
       " 'mwr_v': 3.1000000000000001,\n",
       " 't0': 49580.0,\n",
       " 'x0': 1.0068661711630977e-05,\n",
       " 'x1': 0.0,\n",
       " 'z': 0.5}"
      ]
     },
     "execution_count": 46,
     "metadata": {},
     "output_type": "execute_result"
    }
   ],
   "source": [
    "q2.SN.SNstate"
   ]
  },
  {
   "cell_type": "code",
   "execution_count": 47,
   "metadata": {
    "collapsed": false
   },
   "outputs": [
    {
     "name": "stderr",
     "output_type": "stream",
     "text": [
      "metrics.py:148: SettingWithCopyWarning: \n",
      "A value is trying to be set on a copy of a slice from a DataFrame.\n",
      "Try using .loc[row_indexer,col_indexer] = value instead\n",
      "\n",
      "See the the caveats in the documentation: http://pandas.pydata.org/pandas-docs/stable/indexing.html#indexing-view-versus-copy\n",
      "  df['SNR'] = df['flux'] / df['fluxerr']\n",
      "metrics.py:150: SettingWithCopyWarning: \n",
      "A value is trying to be set on a copy of a slice from a DataFrame.\n",
      "Try using .loc[row_indexer,col_indexer] = value instead\n",
      "\n",
      "See the the caveats in the documentation: http://pandas.pydata.org/pandas-docs/stable/indexing.html#indexing-view-versus-copy\n",
      "  df['DetectionEfficiency'] = df.apply(self.func, axis=1)\n",
      "/usr/local/manual/anaconda/lib/python2.7/site-packages/pandas/core/frame.py:2891: SettingWithCopyWarning: \n",
      "A value is trying to be set on a copy of a slice from a DataFrame\n",
      "\n",
      "See the the caveats in the documentation: http://pandas.pydata.org/pandas-docs/stable/indexing.html#indexing-view-versus-copy\n",
      "  inplace=inplace, kind=kind, na_position=na_position)\n"
     ]
    },
    {
     "data": {
      "image/png": "[encoded data removed]",
      "text/plain": [
       "<matplotlib.figure.Figure at 0x1604b99d0>"
      ]
     },
     "metadata": {},
     "output_type": "display_data"
    }
   ],
   "source": [
    "q2.lcplot(nightlyCoadd=False)"
   ]
  },
  {
   "cell_type": "code",
   "execution_count": 48,
   "metadata": {
    "collapsed": false
   },
   "outputs": [
    {
     "data": {
      "image/png": "[encoded data removed]",
      "text/plain": [
       "<matplotlib.figure.Figure at 0x166ff1550>"
      ]
     },
     "metadata": {},
     "output_type": "display_data"
    }
   ],
   "source": [
    "q2.lcplot(nightlyCoadd=True)"
   ]
  },
  {
   "cell_type": "code",
   "execution_count": 49,
   "metadata": {
    "collapsed": false
   },
   "outputs": [],
   "source": [
    "q2.writeLightCurve(fname='test.dat', nightlyCoadd=True)"
   ]
  },
  {
   "cell_type": "code",
   "execution_count": 50,
   "metadata": {
    "collapsed": false
   },
   "outputs": [
    {
     "name": "stdout",
     "output_type": "stream",
     "text": [
      "night band zpsys flux zp fluxerr time\r\n",
      "197 i ab 7.38981535465e-15 0.0 1.12061110296e-10 49550.294916\r\n",
      "199 y ab 4.16334214811e-12 0.0 3.3196763789e-10 49552.2878882\r\n",
      "200 z ab 5.38047609363e-12 0.0 1.05603667637e-10 49553.3395135\r\n",
      "201 y ab 1.57584572158e-11 0.0 3.22634345035e-10 49554.3756353\r\n",
      "202 y ab 2.39528163608e-11 0.0 3.07289518501e-10 49555.277983\r\n",
      "204 y ab 6.15882336785e-11 0.0 2.34661082246e-10 49557.3534095\r\n",
      "211 z ab 3.06088533052e-10 0.0 3.06937163341e-10 49564.433548\r\n",
      "221 u ab 1.56029563392e-11 0.0 4.89707769799e-11 49574.326309\r\n",
      "222 u ab 1.46938990797e-11 0.0 6.34592850528e-11 49575.26335\r\n",
      "224 i ab 7.64088967051e-10 0.0 4.26806497321e-11 49577.203024\r\n",
      "225 i ab 7.75634346472e-10 0.0 4.24992888433e-11 49578.2069525\r\n",
      "230 y ab 7.2989146669e-10 0.0 2.15075882766e-10 49583.194115\r\n",
      "239 r ab 5.28844207371e-10 0.0 4.80448638946e-11 49592.277693\r\n",
      "242 g ab 9.20280911049e-11 0.0 1.43309236615e-11 49595.173483\r\n",
      "251 i ab 4.01952469103e-10 0.0 2.26067447291e-11 49604.187105\r\n",
      "252 i ab 3.84096121974e-10 0.0 4.02448535325e-11 49605.159508\r\n",
      "255 z ab 4.0348474097e-10 0.0 6.48469963374e-11 49608.1246967\r\n",
      "256 z ab 3.97467421966e-10 0.0 5.92905748255e-11 49609.130089\r\n",
      "257 z ab 3.91194149306e-10 0.0 7.8789301386e-11 49610.1313937\r\n",
      "259 y ab 3.86491211188e-10 0.0 3.91296930794e-10 49612.188252\r\n",
      "266 i ab 1.95901501575e-10 0.0 9.12537376645e-11 49619.1560455\r\n"
     ]
    }
   ],
   "source": [
    "!cat test.dat"
   ]
  },
  {
   "cell_type": "code",
   "execution_count": 51,
   "metadata": {
    "collapsed": false
   },
   "outputs": [
    {
     "data": {
      "text/html": [
       "<div style=\"max-height:1000px;max-width:1500px;overflow:auto;\">\n",
       "<table border=\"1\" class=\"dataframe\">\n",
       "  <thead>\n",
       "    <tr style=\"text-align: right;\">\n",
       "      <th></th>\n",
       "      <th>night</th>\n",
       "      <th>band</th>\n",
       "      <th>zpsys</th>\n",
       "      <th>flux</th>\n",
       "      <th>zp</th>\n",
       "      <th>fluxerr</th>\n",
       "      <th>time</th>\n",
       "    </tr>\n",
       "  </thead>\n",
       "  <tbody>\n",
       "    <tr>\n",
       "      <th>1</th>\n",
       "      <td>199</td>\n",
       "      <td>y</td>\n",
       "      <td>ab</td>\n",
       "      <td>4.163342e-12</td>\n",
       "      <td>0</td>\n",
       "      <td>3.319676e-10</td>\n",
       "      <td>49552.287888</td>\n",
       "    </tr>\n",
       "    <tr>\n",
       "      <th>3</th>\n",
       "      <td>201</td>\n",
       "      <td>y</td>\n",
       "      <td>ab</td>\n",
       "      <td>1.575846e-11</td>\n",
       "      <td>0</td>\n",
       "      <td>3.226343e-10</td>\n",
       "      <td>49554.375635</td>\n",
       "    </tr>\n",
       "    <tr>\n",
       "      <th>4</th>\n",
       "      <td>202</td>\n",
       "      <td>y</td>\n",
       "      <td>ab</td>\n",
       "      <td>2.395282e-11</td>\n",
       "      <td>0</td>\n",
       "      <td>3.072895e-10</td>\n",
       "      <td>49555.277983</td>\n",
       "    </tr>\n",
       "    <tr>\n",
       "      <th>5</th>\n",
       "      <td>204</td>\n",
       "      <td>y</td>\n",
       "      <td>ab</td>\n",
       "      <td>6.158823e-11</td>\n",
       "      <td>0</td>\n",
       "      <td>2.346611e-10</td>\n",
       "      <td>49557.353409</td>\n",
       "    </tr>\n",
       "    <tr>\n",
       "      <th>11</th>\n",
       "      <td>230</td>\n",
       "      <td>y</td>\n",
       "      <td>ab</td>\n",
       "      <td>7.298915e-10</td>\n",
       "      <td>0</td>\n",
       "      <td>2.150759e-10</td>\n",
       "      <td>49583.194115</td>\n",
       "    </tr>\n",
       "    <tr>\n",
       "      <th>19</th>\n",
       "      <td>259</td>\n",
       "      <td>y</td>\n",
       "      <td>ab</td>\n",
       "      <td>3.864912e-10</td>\n",
       "      <td>0</td>\n",
       "      <td>3.912969e-10</td>\n",
       "      <td>49612.188252</td>\n",
       "    </tr>\n",
       "  </tbody>\n",
       "</table>\n",
       "</div>"
      ],
      "text/plain": [
       "    night band zpsys          flux  zp       fluxerr          time\n",
       "1     199    y    ab  4.163342e-12   0  3.319676e-10  49552.287888\n",
       "3     201    y    ab  1.575846e-11   0  3.226343e-10  49554.375635\n",
       "4     202    y    ab  2.395282e-11   0  3.072895e-10  49555.277983\n",
       "5     204    y    ab  6.158823e-11   0  2.346611e-10  49557.353409\n",
       "11    230    y    ab  7.298915e-10   0  2.150759e-10  49583.194115\n",
       "19    259    y    ab  3.864912e-10   0  3.912969e-10  49612.188252"
      ]
     },
     "execution_count": 51,
     "metadata": {},
     "output_type": "execute_result"
    }
   ],
   "source": [
    "q2.coaddedLightCurve.reset_index()[q2.coaddedLightCurve.reset_index()['band'] == 'y']"
   ]
  },
  {
   "cell_type": "code",
   "execution_count": 52,
   "metadata": {
    "collapsed": false
   },
   "outputs": [
    {
     "data": {
      "text/plain": [
       "0.086475461159803382"
      ]
     },
     "execution_count": 52,
     "metadata": {},
     "output_type": "execute_result"
    }
   ],
   "source": [
    "q2.qualityMetric()"
   ]
  },
  {
   "cell_type": "code",
   "execution_count": 53,
   "metadata": {
    "collapsed": false
   },
   "outputs": [
    {
     "data": {
      "text/plain": [
       "0.99999999999999989"
      ]
     },
     "execution_count": 53,
     "metadata": {},
     "output_type": "execute_result"
    }
   ],
   "source": [
    "q2.discoveryMetric()"
   ]
  },
  {
   "cell_type": "code",
   "execution_count": 54,
   "metadata": {
    "collapsed": false
   },
   "outputs": [
    {
     "data": {
      "image/png": "[encoded data removed]",
      "text/plain": [
       "<matplotlib.figure.Figure at 0x15bc21bd0>"
      ]
     },
     "metadata": {},
     "output_type": "display_data"
    }
   ],
   "source": [
    "_ = q2.cadence_plot(summarydf=llc, racol='fieldRA', deccol='fieldDec', mjd_center=49580)"
   ]
  },
  {
   "cell_type": "code",
   "execution_count": 55,
   "metadata": {
    "collapsed": false
   },
   "outputs": [
    {
     "data": {
      "image/png": "[encoded data removed]",
      "text/plain": [
       "<matplotlib.figure.Figure at 0x1659efb10>"
      ]
     },
     "metadata": {},
     "output_type": "display_data"
    }
   ],
   "source": [
    "# Defaults to full season\n",
    "_ = q2.cadence_plot(summarydf=llc, racol='fieldRA', deccol='fieldDec')"
   ]
  },
  {
   "cell_type": "markdown",
   "metadata": {},
   "source": [
    "## Demonstrate that a minimal definition of observation works"
   ]
  },
  {
   "cell_type": "code",
   "execution_count": 56,
   "metadata": {
    "collapsed": false
   },
   "outputs": [],
   "source": [
    "xx = llc[['expMJD', 'filter', 'fiveSigmaDepth', 'fieldRA', 'fieldDec', 'fieldID']].copy(deep=True)"
   ]
  },
  {
   "cell_type": "code",
   "execution_count": 57,
   "metadata": {
    "collapsed": false
   },
   "outputs": [
    {
     "data": {
      "text/html": [
       "<div style=\"max-height:1000px;max-width:1500px;overflow:auto;\">\n",
       "<table border=\"1\" class=\"dataframe\">\n",
       "  <thead>\n",
       "    <tr style=\"text-align: right;\">\n",
       "      <th></th>\n",
       "      <th>expMJD</th>\n",
       "      <th>filter</th>\n",
       "      <th>fiveSigmaDepth</th>\n",
       "      <th>fieldRA</th>\n",
       "      <th>fieldDec</th>\n",
       "      <th>fieldID</th>\n",
       "    </tr>\n",
       "  </thead>\n",
       "  <tbody>\n",
       "    <tr>\n",
       "      <th>0</th>\n",
       "      <td>49672.064912</td>\n",
       "      <td>z</td>\n",
       "      <td>22.149947</td>\n",
       "      <td>6.255560</td>\n",
       "      <td>0.003271</td>\n",
       "      <td>2655</td>\n",
       "    </tr>\n",
       "    <tr>\n",
       "      <th>1</th>\n",
       "      <td>49545.387207</td>\n",
       "      <td>g</td>\n",
       "      <td>24.854518</td>\n",
       "      <td>6.255560</td>\n",
       "      <td>0.003271</td>\n",
       "      <td>2655</td>\n",
       "    </tr>\n",
       "    <tr>\n",
       "      <th>2</th>\n",
       "      <td>49646.061726</td>\n",
       "      <td>z</td>\n",
       "      <td>22.658431</td>\n",
       "      <td>6.255560</td>\n",
       "      <td>0.003271</td>\n",
       "      <td>2655</td>\n",
       "    </tr>\n",
       "    <tr>\n",
       "      <th>3</th>\n",
       "      <td>49544.314227</td>\n",
       "      <td>i</td>\n",
       "      <td>23.866753</td>\n",
       "      <td>6.255560</td>\n",
       "      <td>0.003271</td>\n",
       "      <td>2655</td>\n",
       "    </tr>\n",
       "    <tr>\n",
       "      <th>4</th>\n",
       "      <td>49577.210972</td>\n",
       "      <td>i</td>\n",
       "      <td>23.843180</td>\n",
       "      <td>6.255560</td>\n",
       "      <td>0.003271</td>\n",
       "      <td>2655</td>\n",
       "    </tr>\n",
       "    <tr>\n",
       "      <th>5</th>\n",
       "      <td>49554.373247</td>\n",
       "      <td>y</td>\n",
       "      <td>21.369012</td>\n",
       "      <td>6.255560</td>\n",
       "      <td>0.003271</td>\n",
       "      <td>2655</td>\n",
       "    </tr>\n",
       "    <tr>\n",
       "      <th>6</th>\n",
       "      <td>49672.081557</td>\n",
       "      <td>z</td>\n",
       "      <td>21.995196</td>\n",
       "      <td>6.255560</td>\n",
       "      <td>0.003271</td>\n",
       "      <td>2655</td>\n",
       "    </tr>\n",
       "    <tr>\n",
       "      <th>7</th>\n",
       "      <td>49543.439675</td>\n",
       "      <td>z</td>\n",
       "      <td>22.287935</td>\n",
       "      <td>6.255560</td>\n",
       "      <td>0.003271</td>\n",
       "      <td>2655</td>\n",
       "    </tr>\n",
       "    <tr>\n",
       "      <th>8</th>\n",
       "      <td>49547.355973</td>\n",
       "      <td>r</td>\n",
       "      <td>24.536172</td>\n",
       "      <td>6.255560</td>\n",
       "      <td>0.003271</td>\n",
       "      <td>2655</td>\n",
       "    </tr>\n",
       "    <tr>\n",
       "      <th>9</th>\n",
       "      <td>49631.109299</td>\n",
       "      <td>r</td>\n",
       "      <td>24.739914</td>\n",
       "      <td>6.255560</td>\n",
       "      <td>0.003271</td>\n",
       "      <td>2655</td>\n",
       "    </tr>\n",
       "    <tr>\n",
       "      <th>10</th>\n",
       "      <td>49646.080690</td>\n",
       "      <td>z</td>\n",
       "      <td>22.563434</td>\n",
       "      <td>6.255560</td>\n",
       "      <td>0.003271</td>\n",
       "      <td>2655</td>\n",
       "    </tr>\n",
       "    <tr>\n",
       "      <th>11</th>\n",
       "      <td>49631.116856</td>\n",
       "      <td>r</td>\n",
       "      <td>24.829550</td>\n",
       "      <td>6.255560</td>\n",
       "      <td>0.003271</td>\n",
       "      <td>2655</td>\n",
       "    </tr>\n",
       "    <tr>\n",
       "      <th>12</th>\n",
       "      <td>49609.137336</td>\n",
       "      <td>z</td>\n",
       "      <td>22.998605</td>\n",
       "      <td>6.255560</td>\n",
       "      <td>0.003271</td>\n",
       "      <td>2655</td>\n",
       "    </tr>\n",
       "    <tr>\n",
       "      <th>13</th>\n",
       "      <td>49557.355873</td>\n",
       "      <td>y</td>\n",
       "      <td>21.357556</td>\n",
       "      <td>6.255560</td>\n",
       "      <td>0.003271</td>\n",
       "      <td>2655</td>\n",
       "    </tr>\n",
       "    <tr>\n",
       "      <th>14</th>\n",
       "      <td>49645.135933</td>\n",
       "      <td>y</td>\n",
       "      <td>21.780857</td>\n",
       "      <td>6.255560</td>\n",
       "      <td>0.003271</td>\n",
       "      <td>2655</td>\n",
       "    </tr>\n",
       "    <tr>\n",
       "      <th>15</th>\n",
       "      <td>49631.128344</td>\n",
       "      <td>r</td>\n",
       "      <td>24.717211</td>\n",
       "      <td>6.255560</td>\n",
       "      <td>0.003271</td>\n",
       "      <td>2655</td>\n",
       "    </tr>\n",
       "    <tr>\n",
       "      <th>16</th>\n",
       "      <td>49574.326309</td>\n",
       "      <td>u</td>\n",
       "      <td>24.009828</td>\n",
       "      <td>6.255560</td>\n",
       "      <td>0.003271</td>\n",
       "      <td>2655</td>\n",
       "    </tr>\n",
       "    <tr>\n",
       "      <th>17</th>\n",
       "      <td>49555.288078</td>\n",
       "      <td>y</td>\n",
       "      <td>21.442207</td>\n",
       "      <td>6.255560</td>\n",
       "      <td>0.003271</td>\n",
       "      <td>2655</td>\n",
       "    </tr>\n",
       "    <tr>\n",
       "      <th>18</th>\n",
       "      <td>49544.297329</td>\n",
       "      <td>i</td>\n",
       "      <td>23.864832</td>\n",
       "      <td>6.255560</td>\n",
       "      <td>0.003271</td>\n",
       "      <td>2655</td>\n",
       "    </tr>\n",
       "    <tr>\n",
       "      <th>19</th>\n",
       "      <td>49646.033489</td>\n",
       "      <td>z</td>\n",
       "      <td>22.649448</td>\n",
       "      <td>6.255560</td>\n",
       "      <td>0.003271</td>\n",
       "      <td>2655</td>\n",
       "    </tr>\n",
       "    <tr>\n",
       "      <th>20</th>\n",
       "      <td>49545.404611</td>\n",
       "      <td>g</td>\n",
       "      <td>24.901808</td>\n",
       "      <td>6.255560</td>\n",
       "      <td>0.003271</td>\n",
       "      <td>2655</td>\n",
       "    </tr>\n",
       "    <tr>\n",
       "      <th>21</th>\n",
       "      <td>49608.115980</td>\n",
       "      <td>z</td>\n",
       "      <td>22.944295</td>\n",
       "      <td>6.255560</td>\n",
       "      <td>0.003271</td>\n",
       "      <td>2655</td>\n",
       "    </tr>\n",
       "    <tr>\n",
       "      <th>22</th>\n",
       "      <td>49543.426070</td>\n",
       "      <td>z</td>\n",
       "      <td>22.418617</td>\n",
       "      <td>6.255560</td>\n",
       "      <td>0.003271</td>\n",
       "      <td>2655</td>\n",
       "    </tr>\n",
       "    <tr>\n",
       "      <th>23</th>\n",
       "      <td>49595.179838</td>\n",
       "      <td>g</td>\n",
       "      <td>24.621747</td>\n",
       "      <td>6.255560</td>\n",
       "      <td>0.003271</td>\n",
       "      <td>2655</td>\n",
       "    </tr>\n",
       "    <tr>\n",
       "      <th>24</th>\n",
       "      <td>49646.049013</td>\n",
       "      <td>z</td>\n",
       "      <td>22.653370</td>\n",
       "      <td>6.255560</td>\n",
       "      <td>0.003271</td>\n",
       "      <td>2655</td>\n",
       "    </tr>\n",
       "    <tr>\n",
       "      <th>25</th>\n",
       "      <td>49555.285839</td>\n",
       "      <td>y</td>\n",
       "      <td>21.411571</td>\n",
       "      <td>6.255560</td>\n",
       "      <td>0.003271</td>\n",
       "      <td>2655</td>\n",
       "    </tr>\n",
       "    <tr>\n",
       "      <th>26</th>\n",
       "      <td>49637.075923</td>\n",
       "      <td>i</td>\n",
       "      <td>23.701628</td>\n",
       "      <td>6.255560</td>\n",
       "      <td>0.003271</td>\n",
       "      <td>2655</td>\n",
       "    </tr>\n",
       "    <tr>\n",
       "      <th>27</th>\n",
       "      <td>49684.027023</td>\n",
       "      <td>y</td>\n",
       "      <td>21.504122</td>\n",
       "      <td>6.255560</td>\n",
       "      <td>0.003271</td>\n",
       "      <td>2655</td>\n",
       "    </tr>\n",
       "    <tr>\n",
       "      <th>28</th>\n",
       "      <td>49637.055415</td>\n",
       "      <td>i</td>\n",
       "      <td>23.627379</td>\n",
       "      <td>6.255560</td>\n",
       "      <td>0.003271</td>\n",
       "      <td>2655</td>\n",
       "    </tr>\n",
       "    <tr>\n",
       "      <th>29</th>\n",
       "      <td>49645.133682</td>\n",
       "      <td>y</td>\n",
       "      <td>21.905190</td>\n",
       "      <td>6.255560</td>\n",
       "      <td>0.003271</td>\n",
       "      <td>2655</td>\n",
       "    </tr>\n",
       "    <tr>\n",
       "      <th>...</th>\n",
       "      <td>...</td>\n",
       "      <td>...</td>\n",
       "      <td>...</td>\n",
       "      <td>...</td>\n",
       "      <td>...</td>\n",
       "      <td>...</td>\n",
       "    </tr>\n",
       "    <tr>\n",
       "      <th>101</th>\n",
       "      <td>49637.074577</td>\n",
       "      <td>i</td>\n",
       "      <td>23.685725</td>\n",
       "      <td>0.027626</td>\n",
       "      <td>0.003271</td>\n",
       "      <td>2656</td>\n",
       "    </tr>\n",
       "    <tr>\n",
       "      <th>102</th>\n",
       "      <td>49645.127742</td>\n",
       "      <td>y</td>\n",
       "      <td>21.904519</td>\n",
       "      <td>0.027626</td>\n",
       "      <td>0.003271</td>\n",
       "      <td>2656</td>\n",
       "    </tr>\n",
       "    <tr>\n",
       "      <th>103</th>\n",
       "      <td>49619.163176</td>\n",
       "      <td>i</td>\n",
       "      <td>22.896463</td>\n",
       "      <td>0.027626</td>\n",
       "      <td>0.003271</td>\n",
       "      <td>2656</td>\n",
       "    </tr>\n",
       "    <tr>\n",
       "      <th>104</th>\n",
       "      <td>49646.043874</td>\n",
       "      <td>z</td>\n",
       "      <td>22.697461</td>\n",
       "      <td>0.027626</td>\n",
       "      <td>0.003271</td>\n",
       "      <td>2656</td>\n",
       "    </tr>\n",
       "    <tr>\n",
       "      <th>105</th>\n",
       "      <td>49583.190979</td>\n",
       "      <td>y</td>\n",
       "      <td>21.701455</td>\n",
       "      <td>0.027626</td>\n",
       "      <td>0.003271</td>\n",
       "      <td>2656</td>\n",
       "    </tr>\n",
       "    <tr>\n",
       "      <th>106</th>\n",
       "      <td>49645.123239</td>\n",
       "      <td>y</td>\n",
       "      <td>21.884584</td>\n",
       "      <td>0.027626</td>\n",
       "      <td>0.003271</td>\n",
       "      <td>2656</td>\n",
       "    </tr>\n",
       "    <tr>\n",
       "      <th>107</th>\n",
       "      <td>49645.119563</td>\n",
       "      <td>y</td>\n",
       "      <td>21.925221</td>\n",
       "      <td>0.027626</td>\n",
       "      <td>0.003271</td>\n",
       "      <td>2656</td>\n",
       "    </tr>\n",
       "    <tr>\n",
       "      <th>108</th>\n",
       "      <td>49555.285393</td>\n",
       "      <td>y</td>\n",
       "      <td>21.391583</td>\n",
       "      <td>0.027626</td>\n",
       "      <td>0.003271</td>\n",
       "      <td>2656</td>\n",
       "    </tr>\n",
       "    <tr>\n",
       "      <th>109</th>\n",
       "      <td>49653.997663</td>\n",
       "      <td>y</td>\n",
       "      <td>21.794320</td>\n",
       "      <td>0.027626</td>\n",
       "      <td>0.003271</td>\n",
       "      <td>2656</td>\n",
       "    </tr>\n",
       "    <tr>\n",
       "      <th>110</th>\n",
       "      <td>49545.391689</td>\n",
       "      <td>g</td>\n",
       "      <td>24.922707</td>\n",
       "      <td>0.027626</td>\n",
       "      <td>0.003271</td>\n",
       "      <td>2656</td>\n",
       "    </tr>\n",
       "    <tr>\n",
       "      <th>111</th>\n",
       "      <td>49646.152727</td>\n",
       "      <td>z</td>\n",
       "      <td>22.774476</td>\n",
       "      <td>0.027626</td>\n",
       "      <td>0.003271</td>\n",
       "      <td>2656</td>\n",
       "    </tr>\n",
       "    <tr>\n",
       "      <th>112</th>\n",
       "      <td>49544.314673</td>\n",
       "      <td>i</td>\n",
       "      <td>23.836942</td>\n",
       "      <td>0.027626</td>\n",
       "      <td>0.003271</td>\n",
       "      <td>2656</td>\n",
       "    </tr>\n",
       "    <tr>\n",
       "      <th>113</th>\n",
       "      <td>49544.296882</td>\n",
       "      <td>i</td>\n",
       "      <td>23.822951</td>\n",
       "      <td>0.027626</td>\n",
       "      <td>0.003271</td>\n",
       "      <td>2656</td>\n",
       "    </tr>\n",
       "    <tr>\n",
       "      <th>114</th>\n",
       "      <td>49646.033043</td>\n",
       "      <td>z</td>\n",
       "      <td>22.536047</td>\n",
       "      <td>0.027626</td>\n",
       "      <td>0.003271</td>\n",
       "      <td>2656</td>\n",
       "    </tr>\n",
       "    <tr>\n",
       "      <th>115</th>\n",
       "      <td>49604.177906</td>\n",
       "      <td>i</td>\n",
       "      <td>24.258893</td>\n",
       "      <td>0.027626</td>\n",
       "      <td>0.003271</td>\n",
       "      <td>2656</td>\n",
       "    </tr>\n",
       "    <tr>\n",
       "      <th>116</th>\n",
       "      <td>49612.188252</td>\n",
       "      <td>y</td>\n",
       "      <td>21.768196</td>\n",
       "      <td>0.027626</td>\n",
       "      <td>0.003271</td>\n",
       "      <td>2656</td>\n",
       "    </tr>\n",
       "    <tr>\n",
       "      <th>117</th>\n",
       "      <td>49631.110199</td>\n",
       "      <td>r</td>\n",
       "      <td>24.724469</td>\n",
       "      <td>0.027626</td>\n",
       "      <td>0.003271</td>\n",
       "      <td>2656</td>\n",
       "    </tr>\n",
       "    <tr>\n",
       "      <th>118</th>\n",
       "      <td>49547.353288</td>\n",
       "      <td>r</td>\n",
       "      <td>24.454882</td>\n",
       "      <td>0.027626</td>\n",
       "      <td>0.003271</td>\n",
       "      <td>2656</td>\n",
       "    </tr>\n",
       "    <tr>\n",
       "      <th>119</th>\n",
       "      <td>49631.127883</td>\n",
       "      <td>r</td>\n",
       "      <td>24.706460</td>\n",
       "      <td>0.027626</td>\n",
       "      <td>0.003271</td>\n",
       "      <td>2656</td>\n",
       "    </tr>\n",
       "    <tr>\n",
       "      <th>120</th>\n",
       "      <td>49547.372248</td>\n",
       "      <td>r</td>\n",
       "      <td>24.448127</td>\n",
       "      <td>0.027626</td>\n",
       "      <td>0.003271</td>\n",
       "      <td>2656</td>\n",
       "    </tr>\n",
       "    <tr>\n",
       "      <th>121</th>\n",
       "      <td>49608.133413</td>\n",
       "      <td>z</td>\n",
       "      <td>23.000778</td>\n",
       "      <td>0.027626</td>\n",
       "      <td>0.003271</td>\n",
       "      <td>2656</td>\n",
       "    </tr>\n",
       "    <tr>\n",
       "      <th>122</th>\n",
       "      <td>49654.024117</td>\n",
       "      <td>r</td>\n",
       "      <td>24.956614</td>\n",
       "      <td>0.027626</td>\n",
       "      <td>0.003271</td>\n",
       "      <td>2656</td>\n",
       "    </tr>\n",
       "    <tr>\n",
       "      <th>123</th>\n",
       "      <td>49583.197698</td>\n",
       "      <td>y</td>\n",
       "      <td>21.614014</td>\n",
       "      <td>0.027626</td>\n",
       "      <td>0.003271</td>\n",
       "      <td>2656</td>\n",
       "    </tr>\n",
       "    <tr>\n",
       "      <th>124</th>\n",
       "      <td>49608.116427</td>\n",
       "      <td>z</td>\n",
       "      <td>22.902978</td>\n",
       "      <td>0.027626</td>\n",
       "      <td>0.003271</td>\n",
       "      <td>2656</td>\n",
       "    </tr>\n",
       "    <tr>\n",
       "      <th>125</th>\n",
       "      <td>49595.167128</td>\n",
       "      <td>g</td>\n",
       "      <td>24.585773</td>\n",
       "      <td>0.027626</td>\n",
       "      <td>0.003271</td>\n",
       "      <td>2656</td>\n",
       "    </tr>\n",
       "    <tr>\n",
       "      <th>126</th>\n",
       "      <td>49543.440574</td>\n",
       "      <td>z</td>\n",
       "      <td>22.296168</td>\n",
       "      <td>0.027626</td>\n",
       "      <td>0.003271</td>\n",
       "      <td>2656</td>\n",
       "    </tr>\n",
       "    <tr>\n",
       "      <th>127</th>\n",
       "      <td>49595.180285</td>\n",
       "      <td>g</td>\n",
       "      <td>24.588526</td>\n",
       "      <td>0.027626</td>\n",
       "      <td>0.003271</td>\n",
       "      <td>2656</td>\n",
       "    </tr>\n",
       "    <tr>\n",
       "      <th>128</th>\n",
       "      <td>49578.217204</td>\n",
       "      <td>i</td>\n",
       "      <td>23.756624</td>\n",
       "      <td>0.027626</td>\n",
       "      <td>0.003271</td>\n",
       "      <td>2656</td>\n",
       "    </tr>\n",
       "    <tr>\n",
       "      <th>129</th>\n",
       "      <td>49631.117755</td>\n",
       "      <td>r</td>\n",
       "      <td>24.817052</td>\n",
       "      <td>0.027626</td>\n",
       "      <td>0.003271</td>\n",
       "      <td>2656</td>\n",
       "    </tr>\n",
       "    <tr>\n",
       "      <th>130</th>\n",
       "      <td>49545.411397</td>\n",
       "      <td>g</td>\n",
       "      <td>24.918747</td>\n",
       "      <td>0.027626</td>\n",
       "      <td>0.003271</td>\n",
       "      <td>2656</td>\n",
       "    </tr>\n",
       "  </tbody>\n",
       "</table>\n",
       "<p>131 rows × 6 columns</p>\n",
       "</div>"
      ],
      "text/plain": [
       "           expMJD filter  fiveSigmaDepth   fieldRA  fieldDec  fieldID\n",
       "0    49672.064912      z       22.149947  6.255560  0.003271     2655\n",
       "1    49545.387207      g       24.854518  6.255560  0.003271     2655\n",
       "2    49646.061726      z       22.658431  6.255560  0.003271     2655\n",
       "3    49544.314227      i       23.866753  6.255560  0.003271     2655\n",
       "4    49577.210972      i       23.843180  6.255560  0.003271     2655\n",
       "5    49554.373247      y       21.369012  6.255560  0.003271     2655\n",
       "6    49672.081557      z       21.995196  6.255560  0.003271     2655\n",
       "7    49543.439675      z       22.287935  6.255560  0.003271     2655\n",
       "8    49547.355973      r       24.536172  6.255560  0.003271     2655\n",
       "9    49631.109299      r       24.739914  6.255560  0.003271     2655\n",
       "10   49646.080690      z       22.563434  6.255560  0.003271     2655\n",
       "11   49631.116856      r       24.829550  6.255560  0.003271     2655\n",
       "12   49609.137336      z       22.998605  6.255560  0.003271     2655\n",
       "13   49557.355873      y       21.357556  6.255560  0.003271     2655\n",
       "14   49645.135933      y       21.780857  6.255560  0.003271     2655\n",
       "15   49631.128344      r       24.717211  6.255560  0.003271     2655\n",
       "16   49574.326309      u       24.009828  6.255560  0.003271     2655\n",
       "17   49555.288078      y       21.442207  6.255560  0.003271     2655\n",
       "18   49544.297329      i       23.864832  6.255560  0.003271     2655\n",
       "19   49646.033489      z       22.649448  6.255560  0.003271     2655\n",
       "20   49545.404611      g       24.901808  6.255560  0.003271     2655\n",
       "21   49608.115980      z       22.944295  6.255560  0.003271     2655\n",
       "22   49543.426070      z       22.418617  6.255560  0.003271     2655\n",
       "23   49595.179838      g       24.621747  6.255560  0.003271     2655\n",
       "24   49646.049013      z       22.653370  6.255560  0.003271     2655\n",
       "25   49555.285839      y       21.411571  6.255560  0.003271     2655\n",
       "26   49637.075923      i       23.701628  6.255560  0.003271     2655\n",
       "27   49684.027023      y       21.504122  6.255560  0.003271     2655\n",
       "28   49637.055415      i       23.627379  6.255560  0.003271     2655\n",
       "29   49645.133682      y       21.905190  6.255560  0.003271     2655\n",
       "..            ...    ...             ...       ...       ...      ...\n",
       "101  49637.074577      i       23.685725  0.027626  0.003271     2656\n",
       "102  49645.127742      y       21.904519  0.027626  0.003271     2656\n",
       "103  49619.163176      i       22.896463  0.027626  0.003271     2656\n",
       "104  49646.043874      z       22.697461  0.027626  0.003271     2656\n",
       "105  49583.190979      y       21.701455  0.027626  0.003271     2656\n",
       "106  49645.123239      y       21.884584  0.027626  0.003271     2656\n",
       "107  49645.119563      y       21.925221  0.027626  0.003271     2656\n",
       "108  49555.285393      y       21.391583  0.027626  0.003271     2656\n",
       "109  49653.997663      y       21.794320  0.027626  0.003271     2656\n",
       "110  49545.391689      g       24.922707  0.027626  0.003271     2656\n",
       "111  49646.152727      z       22.774476  0.027626  0.003271     2656\n",
       "112  49544.314673      i       23.836942  0.027626  0.003271     2656\n",
       "113  49544.296882      i       23.822951  0.027626  0.003271     2656\n",
       "114  49646.033043      z       22.536047  0.027626  0.003271     2656\n",
       "115  49604.177906      i       24.258893  0.027626  0.003271     2656\n",
       "116  49612.188252      y       21.768196  0.027626  0.003271     2656\n",
       "117  49631.110199      r       24.724469  0.027626  0.003271     2656\n",
       "118  49547.353288      r       24.454882  0.027626  0.003271     2656\n",
       "119  49631.127883      r       24.706460  0.027626  0.003271     2656\n",
       "120  49547.372248      r       24.448127  0.027626  0.003271     2656\n",
       "121  49608.133413      z       23.000778  0.027626  0.003271     2656\n",
       "122  49654.024117      r       24.956614  0.027626  0.003271     2656\n",
       "123  49583.197698      y       21.614014  0.027626  0.003271     2656\n",
       "124  49608.116427      z       22.902978  0.027626  0.003271     2656\n",
       "125  49595.167128      g       24.585773  0.027626  0.003271     2656\n",
       "126  49543.440574      z       22.296168  0.027626  0.003271     2656\n",
       "127  49595.180285      g       24.588526  0.027626  0.003271     2656\n",
       "128  49578.217204      i       23.756624  0.027626  0.003271     2656\n",
       "129  49631.117755      r       24.817052  0.027626  0.003271     2656\n",
       "130  49545.411397      g       24.918747  0.027626  0.003271     2656\n",
       "\n",
       "[131 rows x 6 columns]"
      ]
     },
     "execution_count": 57,
     "metadata": {},
     "output_type": "execute_result"
    }
   ],
   "source": [
    "xx"
   ]
  },
  {
   "cell_type": "code",
   "execution_count": 58,
   "metadata": {
    "collapsed": false
   },
   "outputs": [],
   "source": [
    "q3 = PerSNMetric(t0=49580, summarydf=xx, lsst_bp=lsst_bp, efficiency=et, raCol='fieldRA',\n",
    "                 decCol='fieldDec')"
   ]
  },
  {
   "cell_type": "code",
   "execution_count": 59,
   "metadata": {
    "collapsed": false
   },
   "outputs": [
    {
     "data": {
      "text/html": [
       "<div style=\"max-height:1000px;max-width:1500px;overflow:auto;\">\n",
       "<table border=\"1\" class=\"dataframe\">\n",
       "  <thead>\n",
       "    <tr style=\"text-align: right;\">\n",
       "      <th></th>\n",
       "      <th>time</th>\n",
       "      <th>band</th>\n",
       "      <th>flux</th>\n",
       "      <th>fluxerr</th>\n",
       "      <th>zp</th>\n",
       "      <th>zpsys</th>\n",
       "      <th>SNR</th>\n",
       "      <th>fiveSigmaDepth</th>\n",
       "      <th>DetectionEfficiency</th>\n",
       "    </tr>\n",
       "  </thead>\n",
       "  <tbody>\n",
       "    <tr>\n",
       "      <th>84</th>\n",
       "      <td>49578.196701</td>\n",
       "      <td>i</td>\n",
       "      <td>7.755384e-10</td>\n",
       "      <td>5.639221e-11</td>\n",
       "      <td>0</td>\n",
       "      <td>ab</td>\n",
       "      <td>13.752580</td>\n",
       "      <td>23.891976</td>\n",
       "      <td>0.982020548524</td>\n",
       "    </tr>\n",
       "    <tr>\n",
       "      <th>4</th>\n",
       "      <td>49577.210972</td>\n",
       "      <td>i</td>\n",
       "      <td>7.641964e-10</td>\n",
       "      <td>5.886288e-11</td>\n",
       "      <td>0</td>\n",
       "      <td>ab</td>\n",
       "      <td>12.982654</td>\n",
       "      <td>23.843180</td>\n",
       "      <td>0.970846927353</td>\n",
       "    </tr>\n",
       "    <tr>\n",
       "      <th>40</th>\n",
       "      <td>49577.195076</td>\n",
       "      <td>i</td>\n",
       "      <td>7.639816e-10</td>\n",
       "      <td>6.182001e-11</td>\n",
       "      <td>0</td>\n",
       "      <td>ab</td>\n",
       "      <td>12.358161</td>\n",
       "      <td>23.788072</td>\n",
       "      <td>0.980670206794</td>\n",
       "    </tr>\n",
       "    <tr>\n",
       "      <th>128</th>\n",
       "      <td>49578.217204</td>\n",
       "      <td>i</td>\n",
       "      <td>7.757303e-10</td>\n",
       "      <td>6.359777e-11</td>\n",
       "      <td>0</td>\n",
       "      <td>ab</td>\n",
       "      <td>12.197445</td>\n",
       "      <td>23.756624</td>\n",
       "      <td>0.980863066305</td>\n",
       "    </tr>\n",
       "    <tr>\n",
       "      <th>79</th>\n",
       "      <td>49592.277693</td>\n",
       "      <td>r</td>\n",
       "      <td>5.288442e-10</td>\n",
       "      <td>4.804486e-11</td>\n",
       "      <td>0</td>\n",
       "      <td>ab</td>\n",
       "      <td>11.007300</td>\n",
       "      <td>24.058825</td>\n",
       "      <td>0.977440877322</td>\n",
       "    </tr>\n",
       "    <tr>\n",
       "      <th>115</th>\n",
       "      <td>49604.177906</td>\n",
       "      <td>i</td>\n",
       "      <td>4.021245e-10</td>\n",
       "      <td>4.009737e-11</td>\n",
       "      <td>0</td>\n",
       "      <td>ab</td>\n",
       "      <td>10.028698</td>\n",
       "      <td>24.258893</td>\n",
       "      <td>0.971468221461</td>\n",
       "    </tr>\n",
       "    <tr>\n",
       "      <th>57</th>\n",
       "      <td>49604.209600</td>\n",
       "      <td>i</td>\n",
       "      <td>4.015318e-10</td>\n",
       "      <td>4.339009e-11</td>\n",
       "      <td>0</td>\n",
       "      <td>ab</td>\n",
       "      <td>9.253998</td>\n",
       "      <td>24.170085</td>\n",
       "      <td>0.960060775297</td>\n",
       "    </tr>\n",
       "    <tr>\n",
       "      <th>34</th>\n",
       "      <td>49604.195079</td>\n",
       "      <td>i</td>\n",
       "      <td>4.018032e-10</td>\n",
       "      <td>4.392809e-11</td>\n",
       "      <td>0</td>\n",
       "      <td>ab</td>\n",
       "      <td>9.146840</td>\n",
       "      <td>24.156292</td>\n",
       "      <td>0.958431972159</td>\n",
       "    </tr>\n",
       "    <tr>\n",
       "      <th>100</th>\n",
       "      <td>49604.165835</td>\n",
       "      <td>i</td>\n",
       "      <td>4.023504e-10</td>\n",
       "      <td>5.250583e-11</td>\n",
       "      <td>0</td>\n",
       "      <td>ab</td>\n",
       "      <td>7.662966</td>\n",
       "      <td>23.957700</td>\n",
       "      <td>0.91928675239</td>\n",
       "    </tr>\n",
       "    <tr>\n",
       "      <th>48</th>\n",
       "      <td>49605.172561</td>\n",
       "      <td>i</td>\n",
       "      <td>3.838602e-10</td>\n",
       "      <td>5.207630e-11</td>\n",
       "      <td>0</td>\n",
       "      <td>ab</td>\n",
       "      <td>7.371111</td>\n",
       "      <td>23.966039</td>\n",
       "      <td>0.898446610558</td>\n",
       "    </tr>\n",
       "    <tr>\n",
       "      <th>62</th>\n",
       "      <td>49605.146455</td>\n",
       "      <td>i</td>\n",
       "      <td>3.843320e-10</td>\n",
       "      <td>6.137305e-11</td>\n",
       "      <td>0</td>\n",
       "      <td>ab</td>\n",
       "      <td>6.262228</td>\n",
       "      <td>23.784909</td>\n",
       "      <td>0.732320326635</td>\n",
       "    </tr>\n",
       "    <tr>\n",
       "      <th>38</th>\n",
       "      <td>49609.123288</td>\n",
       "      <td>z</td>\n",
       "      <td>3.975091e-10</td>\n",
       "      <td>1.076489e-10</td>\n",
       "      <td>0</td>\n",
       "      <td>ab</td>\n",
       "      <td>3.692643</td>\n",
       "      <td>23.170611</td>\n",
       "      <td>0.147915195371</td>\n",
       "    </tr>\n",
       "    <tr>\n",
       "      <th>80</th>\n",
       "      <td>49609.122842</td>\n",
       "      <td>z</td>\n",
       "      <td>3.975119e-10</td>\n",
       "      <td>1.104060e-10</td>\n",
       "      <td>0</td>\n",
       "      <td>ab</td>\n",
       "      <td>3.600454</td>\n",
       "      <td>23.143069</td>\n",
       "      <td>0.131063060097</td>\n",
       "    </tr>\n",
       "    <tr>\n",
       "      <th>37</th>\n",
       "      <td>49608.132967</td>\n",
       "      <td>z</td>\n",
       "      <td>4.034365e-10</td>\n",
       "      <td>1.221543e-10</td>\n",
       "      <td>0</td>\n",
       "      <td>ab</td>\n",
       "      <td>3.302678</td>\n",
       "      <td>23.033086</td>\n",
       "      <td>0.0899290685553</td>\n",
       "    </tr>\n",
       "    <tr>\n",
       "      <th>42</th>\n",
       "      <td>49595.166681</td>\n",
       "      <td>g</td>\n",
       "      <td>9.208227e-11</td>\n",
       "      <td>2.811439e-11</td>\n",
       "      <td>0</td>\n",
       "      <td>ab</td>\n",
       "      <td>3.275273</td>\n",
       "      <td>24.626269</td>\n",
       "      <td>0.0455871130483</td>\n",
       "    </tr>\n",
       "    <tr>\n",
       "      <th>23</th>\n",
       "      <td>49595.179838</td>\n",
       "      <td>g</td>\n",
       "      <td>9.197747e-11</td>\n",
       "      <td>2.823113e-11</td>\n",
       "      <td>0</td>\n",
       "      <td>ab</td>\n",
       "      <td>3.258016</td>\n",
       "      <td>24.621747</td>\n",
       "      <td>0.0445034250721</td>\n",
       "    </tr>\n",
       "    <tr>\n",
       "      <th>121</th>\n",
       "      <td>49608.133413</td>\n",
       "      <td>z</td>\n",
       "      <td>4.034339e-10</td>\n",
       "      <td>1.258372e-10</td>\n",
       "      <td>0</td>\n",
       "      <td>ab</td>\n",
       "      <td>3.205997</td>\n",
       "      <td>23.000778</td>\n",
       "      <td>0.0787720699832</td>\n",
       "    </tr>\n",
       "    <tr>\n",
       "      <th>127</th>\n",
       "      <td>49595.180285</td>\n",
       "      <td>g</td>\n",
       "      <td>9.197391e-11</td>\n",
       "      <td>2.910569e-11</td>\n",
       "      <td>0</td>\n",
       "      <td>ab</td>\n",
       "      <td>3.159997</td>\n",
       "      <td>24.588526</td>\n",
       "      <td>0.0383478251473</td>\n",
       "    </tr>\n",
       "    <tr>\n",
       "      <th>125</th>\n",
       "      <td>49595.167128</td>\n",
       "      <td>g</td>\n",
       "      <td>9.207871e-11</td>\n",
       "      <td>2.917961e-11</td>\n",
       "      <td>0</td>\n",
       "      <td>ab</td>\n",
       "      <td>3.155584</td>\n",
       "      <td>24.585773</td>\n",
       "      <td>0.0380707012218</td>\n",
       "    </tr>\n",
       "    <tr>\n",
       "      <th>12</th>\n",
       "      <td>49609.137336</td>\n",
       "      <td>z</td>\n",
       "      <td>3.974230e-10</td>\n",
       "      <td>1.260820e-10</td>\n",
       "      <td>0</td>\n",
       "      <td>ab</td>\n",
       "      <td>3.152100</td>\n",
       "      <td>22.998605</td>\n",
       "      <td>0.0725523475965</td>\n",
       "    </tr>\n",
       "    <tr>\n",
       "      <th>78</th>\n",
       "      <td>49609.136890</td>\n",
       "      <td>z</td>\n",
       "      <td>3.974257e-10</td>\n",
       "      <td>1.287304e-10</td>\n",
       "      <td>0</td>\n",
       "      <td>ab</td>\n",
       "      <td>3.087272</td>\n",
       "      <td>22.976003</td>\n",
       "      <td>0.065071222715</td>\n",
       "    </tr>\n",
       "    <tr>\n",
       "      <th>21</th>\n",
       "      <td>49608.115980</td>\n",
       "      <td>z</td>\n",
       "      <td>4.035356e-10</td>\n",
       "      <td>1.325474e-10</td>\n",
       "      <td>0</td>\n",
       "      <td>ab</td>\n",
       "      <td>3.044464</td>\n",
       "      <td>22.944295</td>\n",
       "      <td>0.0601311267317</td>\n",
       "    </tr>\n",
       "    <tr>\n",
       "      <th>124</th>\n",
       "      <td>49608.116427</td>\n",
       "      <td>z</td>\n",
       "      <td>4.035330e-10</td>\n",
       "      <td>1.376831e-10</td>\n",
       "      <td>0</td>\n",
       "      <td>ab</td>\n",
       "      <td>2.930883</td>\n",
       "      <td>22.902978</td>\n",
       "      <td>0.0504244586653</td>\n",
       "    </tr>\n",
       "    <tr>\n",
       "      <th>52</th>\n",
       "      <td>49610.123399</td>\n",
       "      <td>z</td>\n",
       "      <td>3.912453e-10</td>\n",
       "      <td>1.494942e-10</td>\n",
       "      <td>0</td>\n",
       "      <td>ab</td>\n",
       "      <td>2.617127</td>\n",
       "      <td>22.813475</td>\n",
       "      <td>0.0296538331036</td>\n",
       "    </tr>\n",
       "    <tr>\n",
       "      <th>76</th>\n",
       "      <td>49610.123845</td>\n",
       "      <td>z</td>\n",
       "      <td>3.912424e-10</td>\n",
       "      <td>1.514511e-10</td>\n",
       "      <td>0</td>\n",
       "      <td>ab</td>\n",
       "      <td>2.583292</td>\n",
       "      <td>22.799352</td>\n",
       "      <td>0.0274139477974</td>\n",
       "    </tr>\n",
       "    <tr>\n",
       "      <th>33</th>\n",
       "      <td>49610.138942</td>\n",
       "      <td>z</td>\n",
       "      <td>3.911459e-10</td>\n",
       "      <td>1.637832e-10</td>\n",
       "      <td>0</td>\n",
       "      <td>ab</td>\n",
       "      <td>2.388193</td>\n",
       "      <td>22.714362</td>\n",
       "      <td>0.0189930104695</td>\n",
       "    </tr>\n",
       "    <tr>\n",
       "      <th>70</th>\n",
       "      <td>49610.139389</td>\n",
       "      <td>z</td>\n",
       "      <td>3.911430e-10</td>\n",
       "      <td>1.649642e-10</td>\n",
       "      <td>0</td>\n",
       "      <td>ab</td>\n",
       "      <td>2.371078</td>\n",
       "      <td>22.706563</td>\n",
       "      <td>0.0185480363744</td>\n",
       "    </tr>\n",
       "    <tr>\n",
       "      <th>55</th>\n",
       "      <td>49583.190532</td>\n",
       "      <td>y</td>\n",
       "      <td>7.299050e-10</td>\n",
       "      <td>4.083045e-10</td>\n",
       "      <td>0</td>\n",
       "      <td>ab</td>\n",
       "      <td>1.787649</td>\n",
       "      <td>21.722725</td>\n",
       "      <td>0.00652166818175</td>\n",
       "    </tr>\n",
       "    <tr>\n",
       "      <th>105</th>\n",
       "      <td>49583.190979</td>\n",
       "      <td>y</td>\n",
       "      <td>7.299033e-10</td>\n",
       "      <td>4.163903e-10</td>\n",
       "      <td>0</td>\n",
       "      <td>ab</td>\n",
       "      <td>1.752931</td>\n",
       "      <td>21.701455</td>\n",
       "      <td>0.00613282424487</td>\n",
       "    </tr>\n",
       "    <tr>\n",
       "      <th>97</th>\n",
       "      <td>49619.148915</td>\n",
       "      <td>i</td>\n",
       "      <td>1.959627e-10</td>\n",
       "      <td>1.189086e-10</td>\n",
       "      <td>0</td>\n",
       "      <td>ab</td>\n",
       "      <td>1.648011</td>\n",
       "      <td>23.061447</td>\n",
       "      <td>0.00165124901726</td>\n",
       "    </tr>\n",
       "    <tr>\n",
       "      <th>47</th>\n",
       "      <td>49583.197251</td>\n",
       "      <td>y</td>\n",
       "      <td>7.298796e-10</td>\n",
       "      <td>4.430705e-10</td>\n",
       "      <td>0</td>\n",
       "      <td>ab</td>\n",
       "      <td>1.647322</td>\n",
       "      <td>21.634095</td>\n",
       "      <td>0.00495000275789</td>\n",
       "    </tr>\n",
       "    <tr>\n",
       "      <th>123</th>\n",
       "      <td>49583.197698</td>\n",
       "      <td>y</td>\n",
       "      <td>7.298779e-10</td>\n",
       "      <td>4.513505e-10</td>\n",
       "      <td>0</td>\n",
       "      <td>ab</td>\n",
       "      <td>1.617098</td>\n",
       "      <td>21.614014</td>\n",
       "      <td>0.00461149347624</td>\n",
       "    </tr>\n",
       "    <tr>\n",
       "      <th>103</th>\n",
       "      <td>49619.163176</td>\n",
       "      <td>i</td>\n",
       "      <td>1.958403e-10</td>\n",
       "      <td>1.384548e-10</td>\n",
       "      <td>0</td>\n",
       "      <td>ab</td>\n",
       "      <td>1.414471</td>\n",
       "      <td>22.896463</td>\n",
       "      <td>0.000948682825452</td>\n",
       "    </tr>\n",
       "    <tr>\n",
       "      <th>86</th>\n",
       "      <td>49564.433548</td>\n",
       "      <td>z</td>\n",
       "      <td>3.060885e-10</td>\n",
       "      <td>3.069372e-10</td>\n",
       "      <td>0</td>\n",
       "      <td>ab</td>\n",
       "      <td>0.997235</td>\n",
       "      <td>22.032878</td>\n",
       "      <td>0.00179281143174</td>\n",
       "    </tr>\n",
       "    <tr>\n",
       "      <th>116</th>\n",
       "      <td>49612.188252</td>\n",
       "      <td>y</td>\n",
       "      <td>3.864912e-10</td>\n",
       "      <td>3.912969e-10</td>\n",
       "      <td>0</td>\n",
       "      <td>ab</td>\n",
       "      <td>0.987718</td>\n",
       "      <td>21.768196</td>\n",
       "      <td>0.0017680680578</td>\n",
       "    </tr>\n",
       "    <tr>\n",
       "      <th>16</th>\n",
       "      <td>49574.326309</td>\n",
       "      <td>u</td>\n",
       "      <td>1.560296e-11</td>\n",
       "      <td>4.897078e-11</td>\n",
       "      <td>0</td>\n",
       "      <td>ab</td>\n",
       "      <td>0.318618</td>\n",
       "      <td>24.009828</td>\n",
       "      <td>0.000327447080087</td>\n",
       "    </tr>\n",
       "    <tr>\n",
       "      <th>92</th>\n",
       "      <td>49575.263350</td>\n",
       "      <td>u</td>\n",
       "      <td>1.469390e-11</td>\n",
       "      <td>6.345929e-11</td>\n",
       "      <td>0</td>\n",
       "      <td>ab</td>\n",
       "      <td>0.231548</td>\n",
       "      <td>23.732270</td>\n",
       "      <td>0.000292619379922</td>\n",
       "    </tr>\n",
       "    <tr>\n",
       "      <th>43</th>\n",
       "      <td>49557.349596</td>\n",
       "      <td>y</td>\n",
       "      <td>6.149433e-11</td>\n",
       "      <td>5.330854e-10</td>\n",
       "      <td>0</td>\n",
       "      <td>ab</td>\n",
       "      <td>0.115355</td>\n",
       "      <td>21.432803</td>\n",
       "      <td>0.0005</td>\n",
       "    </tr>\n",
       "    <tr>\n",
       "      <th>81</th>\n",
       "      <td>49557.356768</td>\n",
       "      <td>y</td>\n",
       "      <td>6.167087e-11</td>\n",
       "      <td>5.715836e-10</td>\n",
       "      <td>0</td>\n",
       "      <td>ab</td>\n",
       "      <td>0.107895</td>\n",
       "      <td>21.357279</td>\n",
       "      <td>0.0005</td>\n",
       "    </tr>\n",
       "    <tr>\n",
       "      <th>13</th>\n",
       "      <td>49557.355873</td>\n",
       "      <td>y</td>\n",
       "      <td>6.164883e-11</td>\n",
       "      <td>5.714374e-10</td>\n",
       "      <td>0</td>\n",
       "      <td>ab</td>\n",
       "      <td>0.107884</td>\n",
       "      <td>21.357556</td>\n",
       "      <td>0.0005</td>\n",
       "    </tr>\n",
       "    <tr>\n",
       "      <th>45</th>\n",
       "      <td>49557.347805</td>\n",
       "      <td>y</td>\n",
       "      <td>6.145028e-11</td>\n",
       "      <td>5.859003e-10</td>\n",
       "      <td>0</td>\n",
       "      <td>ab</td>\n",
       "      <td>0.104882</td>\n",
       "      <td>21.330481</td>\n",
       "      <td>0.0005</td>\n",
       "    </tr>\n",
       "    <tr>\n",
       "      <th>77</th>\n",
       "      <td>49557.348701</td>\n",
       "      <td>y</td>\n",
       "      <td>6.147232e-11</td>\n",
       "      <td>5.869402e-10</td>\n",
       "      <td>0</td>\n",
       "      <td>ab</td>\n",
       "      <td>0.104734</td>\n",
       "      <td>21.328560</td>\n",
       "      <td>0.0005</td>\n",
       "    </tr>\n",
       "    <tr>\n",
       "      <th>83</th>\n",
       "      <td>49557.361714</td>\n",
       "      <td>y</td>\n",
       "      <td>6.179277e-11</td>\n",
       "      <td>5.976313e-10</td>\n",
       "      <td>0</td>\n",
       "      <td>ab</td>\n",
       "      <td>0.103396</td>\n",
       "      <td>21.309006</td>\n",
       "      <td>0.0005</td>\n",
       "    </tr>\n",
       "    <tr>\n",
       "      <th>17</th>\n",
       "      <td>49555.288078</td>\n",
       "      <td>y</td>\n",
       "      <td>2.405797e-11</td>\n",
       "      <td>5.284568e-10</td>\n",
       "      <td>0</td>\n",
       "      <td>ab</td>\n",
       "      <td>0.045525</td>\n",
       "      <td>21.442207</td>\n",
       "      <td>0.0005</td>\n",
       "    </tr>\n",
       "    <tr>\n",
       "      <th>25</th>\n",
       "      <td>49555.285839</td>\n",
       "      <td>y</td>\n",
       "      <td>2.403440e-11</td>\n",
       "      <td>5.436199e-10</td>\n",
       "      <td>0</td>\n",
       "      <td>ab</td>\n",
       "      <td>0.044212</td>\n",
       "      <td>21.411571</td>\n",
       "      <td>0.0005</td>\n",
       "    </tr>\n",
       "    <tr>\n",
       "      <th>108</th>\n",
       "      <td>49555.285393</td>\n",
       "      <td>y</td>\n",
       "      <td>2.402971e-11</td>\n",
       "      <td>5.537460e-10</td>\n",
       "      <td>0</td>\n",
       "      <td>ab</td>\n",
       "      <td>0.043395</td>\n",
       "      <td>21.391583</td>\n",
       "      <td>0.0005</td>\n",
       "    </tr>\n",
       "    <tr>\n",
       "      <th>75</th>\n",
       "      <td>49553.330838</td>\n",
       "      <td>z</td>\n",
       "      <td>5.353111e-12</td>\n",
       "      <td>1.389688e-10</td>\n",
       "      <td>0</td>\n",
       "      <td>ab</td>\n",
       "      <td>0.038520</td>\n",
       "      <td>22.889608</td>\n",
       "      <td>0.0005</td>\n",
       "    </tr>\n",
       "    <tr>\n",
       "      <th>95</th>\n",
       "      <td>49553.348189</td>\n",
       "      <td>z</td>\n",
       "      <td>5.407841e-12</td>\n",
       "      <td>1.590478e-10</td>\n",
       "      <td>0</td>\n",
       "      <td>ab</td>\n",
       "      <td>0.034001</td>\n",
       "      <td>22.743794</td>\n",
       "      <td>0.0005</td>\n",
       "    </tr>\n",
       "    <tr>\n",
       "      <th>30</th>\n",
       "      <td>49555.252622</td>\n",
       "      <td>y</td>\n",
       "      <td>2.368918e-11</td>\n",
       "      <td>7.933510e-10</td>\n",
       "      <td>0</td>\n",
       "      <td>ab</td>\n",
       "      <td>0.029860</td>\n",
       "      <td>21.002011</td>\n",
       "      <td>0.0005</td>\n",
       "    </tr>\n",
       "    <tr>\n",
       "      <th>85</th>\n",
       "      <td>49554.379517</td>\n",
       "      <td>y</td>\n",
       "      <td>1.578887e-11</td>\n",
       "      <td>5.462624e-10</td>\n",
       "      <td>0</td>\n",
       "      <td>ab</td>\n",
       "      <td>0.028903</td>\n",
       "      <td>21.406311</td>\n",
       "      <td>0.0005</td>\n",
       "    </tr>\n",
       "    <tr>\n",
       "      <th>88</th>\n",
       "      <td>49554.374142</td>\n",
       "      <td>y</td>\n",
       "      <td>1.574675e-11</td>\n",
       "      <td>5.645824e-10</td>\n",
       "      <td>0</td>\n",
       "      <td>ab</td>\n",
       "      <td>0.027891</td>\n",
       "      <td>21.370585</td>\n",
       "      <td>0.0005</td>\n",
       "    </tr>\n",
       "    <tr>\n",
       "      <th>5</th>\n",
       "      <td>49554.373247</td>\n",
       "      <td>y</td>\n",
       "      <td>1.573975e-11</td>\n",
       "      <td>5.654029e-10</td>\n",
       "      <td>0</td>\n",
       "      <td>ab</td>\n",
       "      <td>0.027838</td>\n",
       "      <td>21.369012</td>\n",
       "      <td>0.0005</td>\n",
       "    </tr>\n",
       "    <tr>\n",
       "      <th>61</th>\n",
       "      <td>49552.291835</td>\n",
       "      <td>y</td>\n",
       "      <td>4.178304e-12</td>\n",
       "      <td>7.689126e-10</td>\n",
       "      <td>0</td>\n",
       "      <td>ab</td>\n",
       "      <td>0.005434</td>\n",
       "      <td>21.035912</td>\n",
       "      <td>0.0005</td>\n",
       "    </tr>\n",
       "    <tr>\n",
       "      <th>82</th>\n",
       "      <td>49552.291389</td>\n",
       "      <td>y</td>\n",
       "      <td>4.176612e-12</td>\n",
       "      <td>7.846948e-10</td>\n",
       "      <td>0</td>\n",
       "      <td>ab</td>\n",
       "      <td>0.005323</td>\n",
       "      <td>21.013892</td>\n",
       "      <td>0.0005</td>\n",
       "    </tr>\n",
       "    <tr>\n",
       "      <th>56</th>\n",
       "      <td>49552.284236</td>\n",
       "      <td>y</td>\n",
       "      <td>4.149506e-12</td>\n",
       "      <td>7.971559e-10</td>\n",
       "      <td>0</td>\n",
       "      <td>ab</td>\n",
       "      <td>0.005205</td>\n",
       "      <td>20.996816</td>\n",
       "      <td>0.0005</td>\n",
       "    </tr>\n",
       "    <tr>\n",
       "      <th>71</th>\n",
       "      <td>49552.284683</td>\n",
       "      <td>y</td>\n",
       "      <td>4.151197e-12</td>\n",
       "      <td>8.136669e-10</td>\n",
       "      <td>0</td>\n",
       "      <td>ab</td>\n",
       "      <td>0.005102</td>\n",
       "      <td>20.974596</td>\n",
       "      <td>0.0005</td>\n",
       "    </tr>\n",
       "    <tr>\n",
       "      <th>59</th>\n",
       "      <td>49552.287370</td>\n",
       "      <td>y</td>\n",
       "      <td>4.161372e-12</td>\n",
       "      <td>8.467581e-10</td>\n",
       "      <td>0</td>\n",
       "      <td>ab</td>\n",
       "      <td>0.004914</td>\n",
       "      <td>20.931387</td>\n",
       "      <td>0.0005</td>\n",
       "    </tr>\n",
       "    <tr>\n",
       "      <th>72</th>\n",
       "      <td>49552.287816</td>\n",
       "      <td>y</td>\n",
       "      <td>4.163062e-12</td>\n",
       "      <td>8.636013e-10</td>\n",
       "      <td>0</td>\n",
       "      <td>ab</td>\n",
       "      <td>0.004821</td>\n",
       "      <td>20.910037</td>\n",
       "      <td>0.0005</td>\n",
       "    </tr>\n",
       "    <tr>\n",
       "      <th>90</th>\n",
       "      <td>49550.294916</td>\n",
       "      <td>i</td>\n",
       "      <td>7.389815e-15</td>\n",
       "      <td>1.120611e-10</td>\n",
       "      <td>0</td>\n",
       "      <td>ab</td>\n",
       "      <td>0.000066</td>\n",
       "      <td>23.124046</td>\n",
       "      <td>0.000100026377805</td>\n",
       "    </tr>\n",
       "  </tbody>\n",
       "</table>\n",
       "</div>"
      ],
      "text/plain": [
       "             time band          flux       fluxerr  zp zpsys        SNR  \\\n",
       "84   49578.196701    i  7.755384e-10  5.639221e-11   0    ab  13.752580   \n",
       "4    49577.210972    i  7.641964e-10  5.886288e-11   0    ab  12.982654   \n",
       "40   49577.195076    i  7.639816e-10  6.182001e-11   0    ab  12.358161   \n",
       "128  49578.217204    i  7.757303e-10  6.359777e-11   0    ab  12.197445   \n",
       "79   49592.277693    r  5.288442e-10  4.804486e-11   0    ab  11.007300   \n",
       "115  49604.177906    i  4.021245e-10  4.009737e-11   0    ab  10.028698   \n",
       "57   49604.209600    i  4.015318e-10  4.339009e-11   0    ab   9.253998   \n",
       "34   49604.195079    i  4.018032e-10  4.392809e-11   0    ab   9.146840   \n",
       "100  49604.165835    i  4.023504e-10  5.250583e-11   0    ab   7.662966   \n",
       "48   49605.172561    i  3.838602e-10  5.207630e-11   0    ab   7.371111   \n",
       "62   49605.146455    i  3.843320e-10  6.137305e-11   0    ab   6.262228   \n",
       "38   49609.123288    z  3.975091e-10  1.076489e-10   0    ab   3.692643   \n",
       "80   49609.122842    z  3.975119e-10  1.104060e-10   0    ab   3.600454   \n",
       "37   49608.132967    z  4.034365e-10  1.221543e-10   0    ab   3.302678   \n",
       "42   49595.166681    g  9.208227e-11  2.811439e-11   0    ab   3.275273   \n",
       "23   49595.179838    g  9.197747e-11  2.823113e-11   0    ab   3.258016   \n",
       "121  49608.133413    z  4.034339e-10  1.258372e-10   0    ab   3.205997   \n",
       "127  49595.180285    g  9.197391e-11  2.910569e-11   0    ab   3.159997   \n",
       "125  49595.167128    g  9.207871e-11  2.917961e-11   0    ab   3.155584   \n",
       "12   49609.137336    z  3.974230e-10  1.260820e-10   0    ab   3.152100   \n",
       "78   49609.136890    z  3.974257e-10  1.287304e-10   0    ab   3.087272   \n",
       "21   49608.115980    z  4.035356e-10  1.325474e-10   0    ab   3.044464   \n",
       "124  49608.116427    z  4.035330e-10  1.376831e-10   0    ab   2.930883   \n",
       "52   49610.123399    z  3.912453e-10  1.494942e-10   0    ab   2.617127   \n",
       "76   49610.123845    z  3.912424e-10  1.514511e-10   0    ab   2.583292   \n",
       "33   49610.138942    z  3.911459e-10  1.637832e-10   0    ab   2.388193   \n",
       "70   49610.139389    z  3.911430e-10  1.649642e-10   0    ab   2.371078   \n",
       "55   49583.190532    y  7.299050e-10  4.083045e-10   0    ab   1.787649   \n",
       "105  49583.190979    y  7.299033e-10  4.163903e-10   0    ab   1.752931   \n",
       "97   49619.148915    i  1.959627e-10  1.189086e-10   0    ab   1.648011   \n",
       "47   49583.197251    y  7.298796e-10  4.430705e-10   0    ab   1.647322   \n",
       "123  49583.197698    y  7.298779e-10  4.513505e-10   0    ab   1.617098   \n",
       "103  49619.163176    i  1.958403e-10  1.384548e-10   0    ab   1.414471   \n",
       "86   49564.433548    z  3.060885e-10  3.069372e-10   0    ab   0.997235   \n",
       "116  49612.188252    y  3.864912e-10  3.912969e-10   0    ab   0.987718   \n",
       "16   49574.326309    u  1.560296e-11  4.897078e-11   0    ab   0.318618   \n",
       "92   49575.263350    u  1.469390e-11  6.345929e-11   0    ab   0.231548   \n",
       "43   49557.349596    y  6.149433e-11  5.330854e-10   0    ab   0.115355   \n",
       "81   49557.356768    y  6.167087e-11  5.715836e-10   0    ab   0.107895   \n",
       "13   49557.355873    y  6.164883e-11  5.714374e-10   0    ab   0.107884   \n",
       "45   49557.347805    y  6.145028e-11  5.859003e-10   0    ab   0.104882   \n",
       "77   49557.348701    y  6.147232e-11  5.869402e-10   0    ab   0.104734   \n",
       "83   49557.361714    y  6.179277e-11  5.976313e-10   0    ab   0.103396   \n",
       "17   49555.288078    y  2.405797e-11  5.284568e-10   0    ab   0.045525   \n",
       "25   49555.285839    y  2.403440e-11  5.436199e-10   0    ab   0.044212   \n",
       "108  49555.285393    y  2.402971e-11  5.537460e-10   0    ab   0.043395   \n",
       "75   49553.330838    z  5.353111e-12  1.389688e-10   0    ab   0.038520   \n",
       "95   49553.348189    z  5.407841e-12  1.590478e-10   0    ab   0.034001   \n",
       "30   49555.252622    y  2.368918e-11  7.933510e-10   0    ab   0.029860   \n",
       "85   49554.379517    y  1.578887e-11  5.462624e-10   0    ab   0.028903   \n",
       "88   49554.374142    y  1.574675e-11  5.645824e-10   0    ab   0.027891   \n",
       "5    49554.373247    y  1.573975e-11  5.654029e-10   0    ab   0.027838   \n",
       "61   49552.291835    y  4.178304e-12  7.689126e-10   0    ab   0.005434   \n",
       "82   49552.291389    y  4.176612e-12  7.846948e-10   0    ab   0.005323   \n",
       "56   49552.284236    y  4.149506e-12  7.971559e-10   0    ab   0.005205   \n",
       "71   49552.284683    y  4.151197e-12  8.136669e-10   0    ab   0.005102   \n",
       "59   49552.287370    y  4.161372e-12  8.467581e-10   0    ab   0.004914   \n",
       "72   49552.287816    y  4.163062e-12  8.636013e-10   0    ab   0.004821   \n",
       "90   49550.294916    i  7.389815e-15  1.120611e-10   0    ab   0.000066   \n",
       "\n",
       "     fiveSigmaDepth DetectionEfficiency  \n",
       "84        23.891976      0.982020548524  \n",
       "4         23.843180      0.970846927353  \n",
       "40        23.788072      0.980670206794  \n",
       "128       23.756624      0.980863066305  \n",
       "79        24.058825      0.977440877322  \n",
       "115       24.258893      0.971468221461  \n",
       "57        24.170085      0.960060775297  \n",
       "34        24.156292      0.958431972159  \n",
       "100       23.957700       0.91928675239  \n",
       "48        23.966039      0.898446610558  \n",
       "62        23.784909      0.732320326635  \n",
       "38        23.170611      0.147915195371  \n",
       "80        23.143069      0.131063060097  \n",
       "37        23.033086     0.0899290685553  \n",
       "42        24.626269     0.0455871130483  \n",
       "23        24.621747     0.0445034250721  \n",
       "121       23.000778     0.0787720699832  \n",
       "127       24.588526     0.0383478251473  \n",
       "125       24.585773     0.0380707012218  \n",
       "12        22.998605     0.0725523475965  \n",
       "78        22.976003      0.065071222715  \n",
       "21        22.944295     0.0601311267317  \n",
       "124       22.902978     0.0504244586653  \n",
       "52        22.813475     0.0296538331036  \n",
       "76        22.799352     0.0274139477974  \n",
       "33        22.714362     0.0189930104695  \n",
       "70        22.706563     0.0185480363744  \n",
       "55        21.722725    0.00652166818175  \n",
       "105       21.701455    0.00613282424487  \n",
       "97        23.061447    0.00165124901726  \n",
       "47        21.634095    0.00495000275789  \n",
       "123       21.614014    0.00461149347624  \n",
       "103       22.896463   0.000948682825452  \n",
       "86        22.032878    0.00179281143174  \n",
       "116       21.768196     0.0017680680578  \n",
       "16        24.009828   0.000327447080087  \n",
       "92        23.732270   0.000292619379922  \n",
       "43        21.432803              0.0005  \n",
       "81        21.357279              0.0005  \n",
       "13        21.357556              0.0005  \n",
       "45        21.330481              0.0005  \n",
       "77        21.328560              0.0005  \n",
       "83        21.309006              0.0005  \n",
       "17        21.442207              0.0005  \n",
       "25        21.411571              0.0005  \n",
       "108       21.391583              0.0005  \n",
       "75        22.889608              0.0005  \n",
       "95        22.743794              0.0005  \n",
       "30        21.002011              0.0005  \n",
       "85        21.406311              0.0005  \n",
       "88        21.370585              0.0005  \n",
       "5         21.369012              0.0005  \n",
       "61        21.035912              0.0005  \n",
       "82        21.013892              0.0005  \n",
       "56        20.996816              0.0005  \n",
       "71        20.974596              0.0005  \n",
       "59        20.931387              0.0005  \n",
       "72        20.910037              0.0005  \n",
       "90        23.124046   0.000100026377805  "
      ]
     },
     "execution_count": 59,
     "metadata": {},
     "output_type": "execute_result"
    }
   ],
   "source": [
    "q3.lightcurve"
   ]
  },
  {
   "cell_type": "code",
   "execution_count": 60,
   "metadata": {
    "collapsed": false
   },
   "outputs": [
    {
     "data": {
      "text/html": [
       "<table id=\"table5841954256\"><thead><tr><th>index</th><th>time</th><th>band</th><th>flux</th><th>fluxerr</th><th>zp</th><th>zpsys</th><th>SNR</th><th>fiveSigmaDepth</th><th>DetectionEfficiency</th></tr></thead><tr><td>84</td><td>49578.196701</td><td>i</td><td>7.75538365405e-10</td><td>5.63922106496e-11</td><td>0.0</td><td>ab</td><td>13.7525795934</td><td>23.891976</td><td>0.982020548524</td></tr><tr><td>4</td><td>49577.210972</td><td>i</td><td>7.64196356584e-10</td><td>5.88628779774e-11</td><td>0.0</td><td>ab</td><td>12.9826536323</td><td>23.84318</td><td>0.970846927353</td></tr><tr><td>40</td><td>49577.195076</td><td>i</td><td>7.63981577519e-10</td><td>6.18200051961e-11</td><td>0.0</td><td>ab</td><td>12.3581610046</td><td>23.788072</td><td>0.980670206794</td></tr><tr><td>128</td><td>49578.217204</td><td>i</td><td>7.7573032754e-10</td><td>6.35977734421e-11</td><td>0.0</td><td>ab</td><td>12.1974447462</td><td>23.756624</td><td>0.980863066305</td></tr><tr><td>79</td><td>49592.277693</td><td>r</td><td>5.28844207371e-10</td><td>4.80448638946e-11</td><td>0.0</td><td>ab</td><td>11.0072995218</td><td>24.058825</td><td>0.977440877322</td></tr><tr><td>115</td><td>49604.177906</td><td>i</td><td>4.02124455277e-10</td><td>4.00973738694e-11</td><td>0.0</td><td>ab</td><td>10.0286980536</td><td>24.258893</td><td>0.971468221461</td></tr><tr><td>57</td><td>49604.2096</td><td>i</td><td>4.01531809615e-10</td><td>4.33900886246e-11</td><td>0.0</td><td>ab</td><td>9.25399837481</td><td>24.170085</td><td>0.960060775297</td></tr><tr><td>34</td><td>49604.195079</td><td>i</td><td>4.0180324533e-10</td><td>4.39280924679e-11</td><td>0.0</td><td>ab</td><td>9.14684027364</td><td>24.156292</td><td>0.958431972159</td></tr><tr><td>100</td><td>49604.165835</td><td>i</td><td>4.02350366191e-10</td><td>5.25058284955e-11</td><td>0.0</td><td>ab</td><td>7.66296576437</td><td>23.9577</td><td>0.91928675239</td></tr><tr><td>48</td><td>49605.172561</td><td>i</td><td>3.83860199365e-10</td><td>5.20763040109e-11</td><td>0.0</td><td>ab</td><td>7.37111065495</td><td>23.966039</td><td>0.898446610558</td></tr><tr><td>62</td><td>49605.146455</td><td>i</td><td>3.84332044583e-10</td><td>6.13730519363e-11</td><td>0.0</td><td>ab</td><td>6.26222800492</td><td>23.784909</td><td>0.732320326635</td></tr><tr><td>...</td><td>...</td><td>...</td><td>...</td><td>...</td><td>...</td><td>...</td><td>...</td><td>...</td><td>...</td></tr><tr><td>30</td><td>49555.252622</td><td>y</td><td>2.36891836477e-11</td><td>7.93351000339e-10</td><td>0.0</td><td>ab</td><td>0.0298596505678</td><td>21.002011</td><td>0.0005</td></tr><tr><td>85</td><td>49554.379517</td><td>y</td><td>1.57888726978e-11</td><td>5.46262375648e-10</td><td>0.0</td><td>ab</td><td>0.0289034599521</td><td>21.406311</td><td>0.0005</td></tr><tr><td>88</td><td>49554.374142</td><td>y</td><td>1.57467523657e-11</td><td>5.64582361322e-10</td><td>0.0</td><td>ab</td><td>0.0278909747176</td><td>21.370585</td><td>0.0005</td></tr><tr><td>5</td><td>49554.373247</td><td>y</td><td>1.57397465838e-11</td><td>5.65402917927e-10</td><td>0.0</td><td>ab</td><td>0.0278381063923</td><td>21.369012</td><td>0.0005</td></tr><tr><td>61</td><td>49552.291835</td><td>y</td><td>4.17830449003e-12</td><td>7.68912574756e-10</td><td>0.0</td><td>ab</td><td>0.00543404364451</td><td>21.035912</td><td>0.0005</td></tr><tr><td>82</td><td>49552.291389</td><td>y</td><td>4.17661170682e-12</td><td>7.84694845122e-10</td><td>0.0</td><td>ab</td><td>0.00532259353147</td><td>21.013892</td><td>0.0005</td></tr><tr><td>56</td><td>49552.284236</td><td>y</td><td>4.14950571962e-12</td><td>7.97155883514e-10</td><td>0.0</td><td>ab</td><td>0.00520538806202</td><td>20.996816</td><td>0.0005</td></tr><tr><td>71</td><td>49552.284683</td><td>y</td><td>4.15119723193e-12</td><td>8.13666937662e-10</td><td>0.0</td><td>ab</td><td>0.0051018384056</td><td>20.974596</td><td>0.0005</td></tr><tr><td>59</td><td>49552.28737</td><td>y</td><td>4.16137189875e-12</td><td>8.4675808906e-10</td><td>0.0</td><td>ab</td><td>0.00491447551846</td><td>20.931387</td><td>0.0005</td></tr><tr><td>72</td><td>49552.287816</td><td>y</td><td>4.16306184151e-12</td><td>8.63601329771e-10</td><td>0.0</td><td>ab</td><td>0.00482058294493</td><td>20.910037</td><td>0.0005</td></tr><tr><td>90</td><td>49550.294916</td><td>i</td><td>7.38981535465e-15</td><td>1.12061110296e-10</td><td>0.0</td><td>ab</td><td>6.59445130889e-05</td><td>23.124046</td><td>0.000100026377805</td></tr></table>"
      ],
      "text/plain": [
       "<Table rows=59 names=('index','time','band','flux','fluxerr','zp','zpsys','SNR','fiveSigmaDepth','DetectionEfficiency')>\n",
       "array([ (84, 49578.196701, 'i', 7.755383654049765e-10, 5.639221064962588e-11, 0.0, 'ab', 13.75257959336839, 23.891976, 0.9820205485242536),\n",
       "       (4, 49577.210972, 'i', 7.641963565840871e-10, 5.886287797742404e-11, 0.0, 'ab', 12.982653632348438, 23.84318, 0.9708469273530312),\n",
       "       (40, 49577.195076, 'i', 7.639815775187586e-10, 6.182000519611042e-11, 0.0, 'ab', 12.358161004600282, 23.788072, 0.9806702067944797),\n",
       "       (128, 49578.217204, 'i', 7.757303275396231e-10, 6.359777344214444e-11, 0.0, 'ab', 12.197444746164157, 23.756624, 0.980863066304603),\n",
       "       (79, 49592.277693, 'r', 5.288442073709477e-10, 4.804486389458742e-11, 0.0, 'ab', 11.007299521781466, 24.058825, 0.9774408773219763),\n",
       "       (115, 49604.177906, 'i', 4.021244552770227e-10, 4.0097373869363306e-11, 0.0, 'ab', 10.028698053571754, 24.258893, 0.9714682214607208),\n",
       "       (57, 49604.2096, 'i', 4.015318096146626e-10, 4.339008862456936e-11, 0.0, 'ab', 9.253998374810827, 24.170085, 0.9600607752971246),\n",
       "       (34, 49604.195079, 'i', 4.0180324532957655e-10, 4.392809246791391e-11, 0.0, 'ab', 9.146840273637261, 24.156292, 0.9584319721592864),\n",
       "       (100, 49604.165835, 'i', 4.0235036619119026e-10, 5.250582849553943e-11, 0.0, 'ab', 7.662965764369788, 23.9577, 0.9192867523897155),\n",
       "       (48, 49605.172561, 'i', 3.838601993648443e-10, 5.207630401088651e-11, 0.0, 'ab', 7.37111065494584, 23.966039, 0.8984466105583383),\n",
       "       (62, 49605.146455, 'i', 3.8433204458323825e-10, 6.137305193631146e-11, 0.0, 'ab', 6.2622280049242205, 23.784909, 0.7323203266350712),\n",
       "       (38, 49609.123288, 'z', 3.975091326151192e-10, 1.0764893877995893e-10, 0.0, 'ab', 3.692643300717087, 23.170611, 0.14791519537108352),\n",
       "       (80, 49609.122842, 'z', 3.9751186698885636e-10, 1.1040602806667404e-10, 0.0, 'ab', 3.6004543769005033, 23.143069, 0.131063060097412),\n",
       "       (37, 49608.132967, 'z', 4.03436466840165e-10, 1.2215433593095584e-10, 0.0, 'ab', 3.3026782370475627, 23.033086, 0.08992906855528873),\n",
       "       (42, 49595.166681, 'g', 9.20822724772304e-11, 2.8114385125399264e-11, 0.0, 'ab', 3.2752725007683305, 24.626269, 0.04558711304825116),\n",
       "       (23, 49595.179838, 'g', 9.19774702730734e-11, 2.8231126292799225e-11, 0.0, 'ab', 3.258016322803729, 24.621747, 0.04450342507207419),\n",
       "       (121, 49608.133413, 'z', 4.034338623569116e-10, 1.258372496013037e-10, 0.0, 'ab', 3.2059971402357474, 23.000778, 0.07877206998320525),\n",
       "       (127, 49595.180285, 'g', 9.197391097176115e-11, 2.9105693674091083e-11, 0.0, 'ab', 3.1599972157211718, 24.588526, 0.038347825147289585),\n",
       "       (125, 49595.167128, 'g', 9.207871069751052e-11, 2.917960624932301e-11, 0.0, 'ab', 3.1555844143594918, 24.585773, 0.03807070122177608),\n",
       "       (12, 49609.137336, 'z', 3.9742297602173114e-10, 1.2608196685448988e-10, 0.0, 'ab', 3.152100065827761, 22.998605, 0.07255234759652361),\n",
       "       (78, 49609.13689, 'z', 3.9742571223878915e-10, 1.2873037244729286e-10, 0.0, 'ab', 3.087272293890942, 22.976003, 0.06507122271501468),\n",
       "       (21, 49608.11598, 'z', 4.0353562138552123e-10, 1.3254735252494533e-10, 0.0, 'ab', 3.04446383649629, 22.944295, 0.060131126731671855),\n",
       "       (124, 49608.116427, 'z', 4.0353301329661043e-10, 1.3768308214337226e-10, 0.0, 'ab', 2.9308830614091215, 22.902978, 0.05042445866528385),\n",
       "       (52, 49610.123399, 'z', 3.912452602928697e-10, 1.4949415991220617e-10, 0.0, 'ab', 2.6171273882714705, 22.813475, 0.02965383310357135),\n",
       "       (76, 49610.123845, 'z', 3.912424098439033e-10, 1.5145108258864168e-10, 0.0, 'ab', 2.5832922627998776, 22.799352, 0.027413947797351894),\n",
       "       (33, 49610.138942, 'z', 3.91145892849853e-10, 1.6378322032063485e-10, 0.0, 'ab', 2.3881927103650495, 22.714362, 0.018993010469491287),\n",
       "       (70, 49610.139389, 'z', 3.9114303423691356e-10, 1.6496419818459024e-10, 0.0, 'ab', 2.371078322092868, 22.706563, 0.018548036374414573),\n",
       "       (55, 49583.190532, 'y', 7.299050270627587e-10, 4.0830445439877144e-10, 0.0, 'ab', 1.7876489447991555, 21.722725, 0.006521668181750541),\n",
       "       (105, 49583.190979, 'y', 7.299033389827146e-10, 4.163902908029454e-10, 0.0, 'ab', 1.7529307361495075, 21.701455, 0.006132824244874484),\n",
       "       (97, 49619.148915, 'i', 1.9596268363157067e-10, 1.189085915993241e-10, 0.0, 'ab', 1.6480111402873985, 23.061447, 0.0016512490172645533),\n",
       "       (47, 49583.197251, 'y', 7.298795982955162e-10, 4.4307047582500575e-10, 0.0, 'ab', 1.6473216748113635, 21.634095, 0.0049500027578872705),\n",
       "       (123, 49583.197698, 'y', 7.298779024191725e-10, 4.5135054808257726e-10, 0.0, 'ab', 1.6170976318071004, 21.614014, 0.004611493476239525),\n",
       "       (103, 49619.163176, 'i', 1.9584031951921582e-10, 1.3845477743584385e-10, 0.0, 'ab', 1.414471375752728, 22.896463, 0.0009486828254516369),\n",
       "       (86, 49564.433548, 'z', 3.0608853305150443e-10, 3.0693716334063383e-10, 0.0, 'ab', 0.9972351660519271, 22.032878, 0.0017928114317350104),\n",
       "       (116, 49612.188252, 'y', 3.864912111880862e-10, 3.9129693079409665e-10, 0.0, 'ab', 0.987718483770732, 21.768196, 0.0017680680578039032),\n",
       "       (16, 49574.326309, 'u', 1.5602956339152746e-11, 4.897077697988344e-11, 0.0, 'ab', 0.3186177002166463, 24.009828, 0.0003274470800866586),\n",
       "       (92, 49575.26335, 'u', 1.469389907965115e-11, 6.345928505283691e-11, 0.0, 'ab', 0.23154844980394662, 23.73227, 0.00029261937992157867),\n",
       "       (43, 49557.349596, 'y', 6.149433026265801e-11, 5.330854406920667e-10, 0.0, 'ab', 0.11535548632283846, 21.432803, 0.0005),\n",
       "       (81, 49557.356768, 'y', 6.167087427099723e-11, 5.715835752924924e-10, 0.0, 'ab', 0.10789476279026883, 21.357279, 0.0005),\n",
       "       (13, 49557.355873, 'y', 6.164882958152021e-11, 5.714374151828081e-10, 0.0, 'ab', 0.10788378209676416, 21.357556, 0.0005),\n",
       "       (45, 49557.347805, 'y', 6.145028238738007e-11, 5.859002714820709e-10, 0.0, 'ab', 0.10488181244896472, 21.330481, 0.0005),\n",
       "       (77, 49557.348701, 'y', 6.147231667908395e-11, 5.86940212780314e-10, 0.0, 'ab', 0.10473352368871076, 21.32856, 0.0005),\n",
       "       (83, 49557.361714, 'y', 6.179276888937612e-11, 5.976312534959986e-10, 0.0, 'ab', 0.103396146918193, 21.309006, 0.0005),\n",
       "       (17, 49555.288078, 'y', 2.405797244923909e-11, 5.284567960975451e-10, 0.0, 'ab', 0.045524956111640875, 21.442207, 0.0005),\n",
       "       (25, 49555.285839, 'y', 2.403440014390387e-11, 5.436198790158951e-10, 0.0, 'ab', 0.04421177567570358, 21.411571, 0.0005),\n",
       "       (108, 49555.285393, 'y', 2.4029709202537073e-11, 5.537459733047971e-10, 0.0, 'ab', 0.04339482427136397, 21.391583, 0.0005),\n",
       "       (75, 49553.330838, 'z', 5.3531113261241126e-12, 1.389688213715208e-10, 0.0, 'ab', 0.03852023261975465, 22.889608, 0.0005),\n",
       "       (95, 49553.348189, 'z', 5.4078408611438844e-12, 1.5904780778061083e-10, 0.0, 'ab', 0.034001354288412534, 22.743794, 0.0005),\n",
       "       (30, 49555.252622, 'y', 2.368918364771903e-11, 7.933510003387292e-10, 0.0, 'ab', 0.02985965056778739, 21.002011, 0.0005),\n",
       "       (85, 49554.379517, 'y', 1.578887269784955e-11, 5.462623756476365e-10, 0.0, 'ab', 0.02890345995206171, 21.406311, 0.0005),\n",
       "       (88, 49554.374142, 'y', 1.5746752365671953e-11, 5.645823613224262e-10, 0.0, 'ab', 0.027890974717644734, 21.370585, 0.0005),\n",
       "       (5, 49554.373247, 'y', 1.57397465838025e-11, 5.654029179272119e-10, 0.0, 'ab', 0.027838106392349366, 21.369012, 0.0005),\n",
       "       (61, 49552.291835, 'y', 4.17830449003179e-12, 7.689125747557293e-10, 0.0, 'ab', 0.005434043644505577, 21.035912, 0.0005),\n",
       "       (82, 49552.291389, 'y', 4.176611706823274e-12, 7.846948451218834e-10, 0.0, 'ab', 0.005322593531469597, 21.013892, 0.0005),\n",
       "       (56, 49552.284236, 'y', 4.149505719616368e-12, 7.971558835140308e-10, 0.0, 'ab', 0.005205388062024299, 20.996816, 0.0005),\n",
       "       (71, 49552.284683, 'y', 4.151197231934491e-12, 8.136669376621529e-10, 0.0, 'ab', 0.005101838405603415, 20.974596, 0.0005),\n",
       "       (59, 49552.28737, 'y', 4.161371898746388e-12, 8.467580890598772e-10, 0.0, 'ab', 0.004914475518464309, 20.931387, 0.0005),\n",
       "       (72, 49552.287816, 'y', 4.163061841511063e-12, 8.636013297705603e-10, 0.0, 'ab', 0.004820582944930268, 20.910037, 0.0005),\n",
       "       (90, 49550.294916, 'i', 7.389815354648024e-15, 1.1206111029572393e-10, 0.0, 'ab', 6.59445130888553e-05, 23.124046, 0.00010002637780523555)], \n",
       "      dtype=[('index', '<i8'), ('time', '<f8'), ('band', 'O'), ('flux', '<f8'), ('fluxerr', '<f8'), ('zp', '<f8'), ('zpsys', 'O'), ('SNR', '<f8'), ('fiveSigmaDepth', '<f8'), ('DetectionEfficiency', 'O')])"
      ]
     },
     "execution_count": 60,
     "metadata": {},
     "output_type": "execute_result"
    }
   ],
   "source": [
    "q3.SNCosmoLC()"
   ]
  },
  {
   "cell_type": "code",
   "execution_count": 61,
   "metadata": {
    "collapsed": false
   },
   "outputs": [
    {
     "data": {
      "text/plain": [
       "{'MWE(B-V)': 0.035068757832050323,\n",
       " 'ModelSource': 'salt2-extended',\n",
       " '_dec': 0.003271,\n",
       " '_ra': 6.25556,\n",
       " 'c': 0.0,\n",
       " 'hostebv': 0.0,\n",
       " 'hostr_v': 3.1000000000000001,\n",
       " 'mwebv': 0.0,\n",
       " 'mwr_v': 3.1000000000000001,\n",
       " 't0': 49580.0,\n",
       " 'x0': 1.0068661711630977e-05,\n",
       " 'x1': 0.0,\n",
       " 'z': 0.5}"
      ]
     },
     "execution_count": 61,
     "metadata": {},
     "output_type": "execute_result"
    }
   ],
   "source": [
    "q3.SN.SNstate"
   ]
  },
  {
   "cell_type": "code",
   "execution_count": 62,
   "metadata": {
    "collapsed": false
   },
   "outputs": [
    {
     "data": {
      "text/plain": [
       "0.086475461159803382"
      ]
     },
     "execution_count": 62,
     "metadata": {},
     "output_type": "execute_result"
    }
   ],
   "source": [
    "q3.qualityMetric()"
   ]
  },
  {
   "cell_type": "code",
   "execution_count": 63,
   "metadata": {
    "collapsed": false
   },
   "outputs": [
    {
     "data": {
      "text/plain": [
       "0.99999999999999989"
      ]
     },
     "execution_count": 63,
     "metadata": {},
     "output_type": "execute_result"
    }
   ],
   "source": [
    "q3.discoveryMetric()"
   ]
  },
  {
   "cell_type": "code",
   "execution_count": null,
   "metadata": {
    "collapsed": true
   },
   "outputs": [],
   "source": []
  }
 ],
 "metadata": {
  "kernelspec": {
   "display_name": "Python 2",
   "language": "python",
   "name": "python2"
  },
  "language_info": {
   "codemirror_mode": {
    "name": "ipython",
    "version": 2
   },
   "file_extension": ".py",
   "mimetype": "text/x-python",
   "name": "python",
   "nbconvert_exporter": "python",
   "pygments_lexer": "ipython2",
   "version": "2.7.10"
  }
 },
 "nbformat": 4,
 "nbformat_minor": 0
}
