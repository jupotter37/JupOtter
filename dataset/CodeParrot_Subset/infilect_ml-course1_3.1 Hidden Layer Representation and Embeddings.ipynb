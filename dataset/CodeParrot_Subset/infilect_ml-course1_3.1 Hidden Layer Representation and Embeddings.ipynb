{
 "cells": [
  {
   "cell_type": "markdown",
   "metadata": {},
   "source": [
    "# Fully Connected Feed-Forward Network\n",
    "\n",
    "In this notebook we will play with Feed-Forward FC-NN (Fully Connected Neural Network) for a *classification task*: \n",
    "\n",
    "Image Classification on MNIST Dataset\n",
    "\n",
    "**RECALL**\n",
    "\n",
    "In the FC-NN, the output of each layer is computed using the activations from the previous one, as follows:\n",
    "\n",
    "$$h_{i} = \\sigma(W_i h_{i-1} + b_i)$$\n",
    "\n",
    "where ${h}_i$ is the activation vector from the $i$-th layer (or the input data for $i=0$), ${W}_i$ and ${b}_i$ are  the weight matrix and the bias vector for the $i$-th layer, respectively. \n",
    "<br><rb>\n",
    "$\\sigma(\\cdot)$ is the activation function. In our example, we will use the *ReLU* activation function for the hidden layers and *softmax* for the last layer.\n",
    "\n",
    "To regularize the model, we will also insert a Dropout layer between consecutive hidden layers. \n",
    "\n",
    "Dropout works by “dropping out” some unit activations in a given layer, that is setting them to zero with a given probability.\n",
    "\n",
    "Our loss function will be the **categorical crossentropy**."
   ]
  },
  {
   "cell_type": "markdown",
   "metadata": {},
   "source": [
    "## Model definition\n",
    "Keras supports two different kind of models: the [Sequential](http://keras.io/models/#sequential) model and the [Graph](http://keras.io/models/#graph) model. The former is used to build linear stacks of layer (so each layer has one input and one output), and the latter supports any kind of connection graph.\n",
    "\n",
    "In our case we build a Sequential model with three [Dense](http://keras.io/layers/core/#dense) (aka fully connected) layers, with some [Dropout](http://keras.io/layers/core/#dropout). Notice that the output layer has the softmax activation function. \n",
    "\n",
    "The resulting model is actually a `function` of its own inputs implemented using the Keras backend. \n",
    "\n",
    "We apply the binary crossentropy loss and choose SGD as the optimizer. \n",
    "\n",
    "Please remind that Keras supports a variety of different [optimizers](http://keras.io/optimizers/) and [loss functions](http://keras.io/objectives/), which you may want to check out. "
   ]
  },
  {
   "cell_type": "code",
   "execution_count": 1,
   "metadata": {},
   "outputs": [],
   "source": [
    "import numpy as np\n",
    "import matplotlib.pyplot as plt\n",
    "\n",
    "%matplotlib inline"
   ]
  },
  {
   "cell_type": "markdown",
   "metadata": {},
   "source": [
    "## Introducing ReLU"
   ]
  },
  {
   "cell_type": "markdown",
   "metadata": {},
   "source": [
    "The **ReLu** function is defined as $f(x) = \\max(0, x),$ [1]\n",
    "\n",
    "A smooth approximation to the rectifier is the *analytic function*: $f(x) = \\ln(1 + e^x)$\n",
    "\n",
    "which is called the **softplus** function.\n",
    "\n",
    "The derivative of softplus is $f'(x) = e^x / (e^x + 1) = 1 / (1 + e^{-x})$, i.e. the **logistic function**.\n",
    "\n",
    "[1] [http://www.cs.toronto.edu/~fritz/absps/reluICML.pdf]() by G. E. Hinton "
   ]
  },
  {
   "cell_type": "markdown",
   "metadata": {},
   "source": [
    "### Note: Keep in mind this function as it is heavily used in CNN"
   ]
  },
  {
   "cell_type": "code",
   "execution_count": 2,
   "metadata": {},
   "outputs": [
    {
     "name": "stderr",
     "output_type": "stream",
     "text": [
      "Using TensorFlow backend.\n"
     ]
    }
   ],
   "source": [
    "from keras.models import Sequential\n",
    "from keras.layers.core import Dense\n",
    "from keras.optimizers import SGD\n",
    "\n",
    "nb_classes = 10\n",
    "\n",
    "# FC@512+relu -> FC@512+relu -> FC@nb_classes+softmax\n",
    "# ... your Code Here"
   ]
  },
  {
   "cell_type": "code",
   "execution_count": 3,
   "metadata": {},
   "outputs": [],
   "source": [
    "# %load ../solutions/sol_321.py"
   ]
  },
  {
   "cell_type": "code",
   "execution_count": 4,
   "metadata": {},
   "outputs": [],
   "source": [
    "from keras.models import Sequential\n",
    "from keras.layers.core import Dense\n",
    "from keras.optimizers import SGD\n",
    "\n",
    "model = Sequential()\n",
    "model.add(Dense(512, activation='relu', input_shape=(784,)))\n",
    "model.add(Dense(512, activation='relu'))\n",
    "model.add(Dense(10, activation='softmax'))\n",
    "\n",
    "model.compile(loss='categorical_crossentropy', optimizer=SGD(lr=0.001), \n",
    "              metrics=['accuracy'])"
   ]
  },
  {
   "cell_type": "markdown",
   "metadata": {},
   "source": [
    "## Data preparation (`keras.dataset`)\n",
    "\n",
    "We will train our model on the MNIST dataset, which consists of 60,000 28x28 grayscale images of the 10 digits, along with a test set of 10,000 images. \n",
    "\n",
    "![](../imgs/mnist.png)\n",
    "\n",
    "Since this dataset is **provided** with Keras, we just ask the `keras.dataset` model for training and test data.\n",
    "\n",
    "We will:\n",
    "\n",
    "* download the data\n",
    "* reshape data to be in vectorial form (original data are images)\n",
    "* normalize between 0 and 1.\n",
    "\n",
    "The `binary_crossentropy` loss expects a **one-hot-vector** as input, therefore we apply the `to_categorical` function from `keras.utilis` to convert integer labels to **one-hot-vectors**."
   ]
  },
  {
   "cell_type": "code",
   "execution_count": 5,
   "metadata": {},
   "outputs": [
    {
     "name": "stdout",
     "output_type": "stream",
     "text": [
      "Downloading data from https://s3.amazonaws.com/img-datasets/mnist.npz\n",
      "11493376/11490434 [==============================] - 11s 1us/step\n"
     ]
    }
   ],
   "source": [
    "from keras.datasets import mnist\n",
    "from keras.utils import np_utils\n",
    "\n",
    "(X_train, y_train), (X_test, y_test) = mnist.load_data()"
   ]
  },
  {
   "cell_type": "code",
   "execution_count": 6,
   "metadata": {},
   "outputs": [
    {
     "data": {
      "text/plain": [
       "(60000, 28, 28)"
      ]
     },
     "execution_count": 6,
     "metadata": {},
     "output_type": "execute_result"
    }
   ],
   "source": [
    "X_train.shape"
   ]
  },
  {
   "cell_type": "code",
   "execution_count": 7,
   "metadata": {},
   "outputs": [],
   "source": [
    "X_train = X_train.reshape(60000, 784)\n",
    "X_test = X_test.reshape(10000, 784)\n",
    "X_train = X_train.astype(\"float32\")\n",
    "X_test = X_test.astype(\"float32\")\n",
    "\n",
    "# Put everything on grayscale\n",
    "X_train /= 255\n",
    "X_test /= 255\n",
    "\n",
    "# convert class vectors to binary class matrices\n",
    "Y_train = np_utils.to_categorical(y_train, 10)\n",
    "Y_test = np_utils.to_categorical(y_test, 10)"
   ]
  },
  {
   "cell_type": "markdown",
   "metadata": {},
   "source": [
    "#### Split Training and Validation Data"
   ]
  },
  {
   "cell_type": "code",
   "execution_count": 8,
   "metadata": {},
   "outputs": [],
   "source": [
    "from sklearn.model_selection import train_test_split\n",
    "\n",
    "X_train, X_val, Y_train, Y_val = train_test_split(X_train, Y_train)"
   ]
  },
  {
   "cell_type": "code",
   "execution_count": 9,
   "metadata": {},
   "outputs": [
    {
     "data": {
      "text/plain": [
       "(784,)"
      ]
     },
     "execution_count": 9,
     "metadata": {},
     "output_type": "execute_result"
    }
   ],
   "source": [
    "X_train[0].shape"
   ]
  },
  {
   "cell_type": "code",
   "execution_count": 10,
   "metadata": {},
   "outputs": [
    {
     "data": {
      "text/plain": [
       "<matplotlib.image.AxesImage at 0x7fab940d8ef0>"
      ]
     },
     "execution_count": 10,
     "metadata": {},
     "output_type": "execute_result"
    },
    {
     "data": {
      "image/png": "[encoded data removed]",
      "text/plain": [
       "<matplotlib.figure.Figure at 0x7fab952246a0>"
      ]
     },
     "metadata": {},
     "output_type": "display_data"
    }
   ],
   "source": [
    "plt.imshow(X_train[0].reshape(28, 28))"
   ]
  },
  {
   "cell_type": "code",
   "execution_count": 11,
   "metadata": {},
   "outputs": [
    {
     "name": "stdout",
     "output_type": "stream",
     "text": [
      "[0 1 2 3 4 5 6 7 8 9]\n",
      "[0 0 0 1 0 0 0 0 0 0]\n"
     ]
    }
   ],
   "source": [
    "print(np.asarray(range(10)))\n",
    "print(Y_train[0].astype('int'))"
   ]
  },
  {
   "cell_type": "code",
   "execution_count": 12,
   "metadata": {},
   "outputs": [
    {
     "data": {
      "text/plain": [
       "<matplotlib.image.AxesImage at 0x7fab940c97f0>"
      ]
     },
     "execution_count": 12,
     "metadata": {},
     "output_type": "execute_result"
    },
    {
     "data": {
      "image/png": "[encoded data removed]",
      "text/plain": [
       "<matplotlib.figure.Figure at 0x7fab941445f8>"
      ]
     },
     "metadata": {},
     "output_type": "display_data"
    }
   ],
   "source": [
    "plt.imshow(X_val[0].reshape(28, 28))"
   ]
  },
  {
   "cell_type": "code",
   "execution_count": 13,
   "metadata": {},
   "outputs": [
    {
     "name": "stdout",
     "output_type": "stream",
     "text": [
      "[0 1 2 3 4 5 6 7 8 9]\n",
      "[0 0 0 0 0 1 0 0 0 0]\n"
     ]
    }
   ],
   "source": [
    "print(np.asarray(range(10)))\n",
    "print(Y_val[0].astype('int'))"
   ]
  },
  {
   "cell_type": "markdown",
   "metadata": {},
   "source": [
    "## Training\n",
    "Having defined and compiled the model, it can be trained using the `fit` function. We also specify a validation dataset to monitor validation loss and accuracy."
   ]
  },
  {
   "cell_type": "code",
   "execution_count": 14,
   "metadata": {
    "scrolled": true
   },
   "outputs": [
    {
     "name": "stdout",
     "output_type": "stream",
     "text": [
      "Train on 45000 samples, validate on 15000 samples\n",
      "Epoch 1/2\n",
      "45000/45000 [==============================] - 11s 252us/step - loss: 2.2497 - acc: 0.1736 - val_loss: 2.1271 - val_acc: 0.3627\n",
      "Epoch 2/2\n",
      "45000/45000 [==============================] - 10s 229us/step - loss: 2.0110 - acc: 0.5167 - val_loss: 1.8907 - val_acc: 0.6396\n"
     ]
    }
   ],
   "source": [
    "network_history = model.fit(X_train, Y_train, batch_size=128, \n",
    "                            epochs=2, verbose=1, validation_data=(X_val, Y_val))"
   ]
  },
  {
   "cell_type": "markdown",
   "metadata": {},
   "source": [
    "### Plotting Network Performance Trend\n",
    "The return value of the `fit` function is a `keras.callbacks.History` object which contains the entire history of training/validation loss and accuracy, for each epoch. We can therefore plot the behaviour of loss and accuracy during the training phase."
   ]
  },
  {
   "cell_type": "code",
   "execution_count": 15,
   "metadata": {},
   "outputs": [
    {
     "data": {
      "image/png": "[encoded data removed]",
      "text/plain": [
       "<matplotlib.figure.Figure at 0x7fabae270208>"
      ]
     },
     "metadata": {},
     "output_type": "display_data"
    },
    {
     "data": {
      "image/png": "[encoded data removed]",
      "text/plain": [
       "<matplotlib.figure.Figure at 0x7fab8c0a9908>"
      ]
     },
     "metadata": {},
     "output_type": "display_data"
    }
   ],
   "source": [
    "import matplotlib.pyplot as plt\n",
    "%matplotlib inline\n",
    "\n",
    "def plot_history(network_history):\n",
    "    plt.figure()\n",
    "    plt.xlabel('Epochs')\n",
    "    plt.ylabel('Loss')\n",
    "    plt.plot(network_history.history['loss'])\n",
    "    plt.plot(network_history.history['val_loss'])\n",
    "    plt.legend(['Training', 'Validation'])\n",
    "\n",
    "    plt.figure()\n",
    "    plt.xlabel('Epochs')\n",
    "    plt.ylabel('Accuracy')\n",
    "    plt.plot(network_history.history['acc'])\n",
    "    plt.plot(network_history.history['val_acc'])\n",
    "    plt.legend(['Training', 'Validation'], loc='lower right')\n",
    "    plt.show()\n",
    "\n",
    "plot_history(network_history)"
   ]
  },
  {
   "cell_type": "markdown",
   "metadata": {},
   "source": [
    "After `2` epochs, we get a `~88%` validation accuracy. \n",
    "\n",
    "* If you increase the number of epochs, you will get definitely better results."
   ]
  },
  {
   "cell_type": "markdown",
   "metadata": {},
   "source": [
    "### Quick Exercise: \n",
    "\n",
    "Try increasing the number of epochs (if you're hardware allows to)\n"
   ]
  },
  {
   "cell_type": "code",
   "execution_count": 21,
   "metadata": {},
   "outputs": [
    {
     "name": "stdout",
     "output_type": "stream",
     "text": [
      "Train on 45000 samples, validate on 15000 samples\n",
      "Epoch 1/2\n",
      "45000/45000 [==============================] - 2s - loss: 0.8966 - acc: 0.8258 - val_loss: 0.8463 - val_acc: 0.8299\n",
      "Epoch 2/2\n",
      "45000/45000 [==============================] - 1s - loss: 0.8005 - acc: 0.8370 - val_loss: 0.7634 - val_acc: 0.8382\n"
     ]
    }
   ],
   "source": [
    "# Your code here\n",
    "model.compile(loss='categorical_crossentropy', optimizer=SGD(lr=0.001), \n",
    "              metrics=['accuracy'])\n",
    "network_history = model.fit(X_train, Y_train, batch_size=128, \n",
    "                            epochs=2, verbose=1, validation_data=(X_val, Y_val))"
   ]
  },
  {
   "cell_type": "markdown",
   "metadata": {},
   "source": [
    "## Introducing the Dropout Layer"
   ]
  },
  {
   "cell_type": "markdown",
   "metadata": {},
   "source": [
    "The **dropout layers** have the very specific function to *drop out* a random set of activations in that layers by setting them to zero in the forward pass. Simple as that. \n",
    "\n",
    "It allows to avoid *overfitting* but has to be used **only** at training time and **not** at test time. "
   ]
  },
  {
   "cell_type": "markdown",
   "metadata": {},
   "source": [
    "```python\n",
    "\n",
    "keras.layers.core.Dropout(rate, noise_shape=None, seed=None)\n",
    "```\n",
    "\n",
    "Applies Dropout to the input.\n",
    "\n",
    "Dropout consists in randomly setting a fraction rate of input units to 0 at each update during training time, which helps prevent overfitting.\n",
    "\n",
    "Arguments\n",
    "\n",
    "* rate: float between 0 and 1. Fraction of the input units to drop.\n",
    "* noise_shape: 1D integer tensor representing the shape of the binary dropout mask that will be multiplied with the input. For instance, if your inputs have shape  (batch_size, timesteps, features) and you want the dropout mask to be the same for all timesteps, you can use noise_shape=(batch_size, 1, features).\n",
    "* seed: A Python integer to use as random seed."
   ]
  },
  {
   "cell_type": "markdown",
   "metadata": {},
   "source": [
    "**Note** Keras guarantess automatically that this layer is **not** used in **Inference** (i.e. Prediction) phase\n",
    "(thus only used in **training** as it should be!)\n",
    "\n",
    "See `keras.backend.in_train_phase` function"
   ]
  },
  {
   "cell_type": "code",
   "execution_count": 3,
   "metadata": {
    "collapsed": true
   },
   "outputs": [],
   "source": [
    "from keras.layers.core import Dropout\n",
    "\n",
    "## Pls note **where** the `K.in_train_phase` is actually called!!\n",
    "Dropout??"
   ]
  },
  {
   "cell_type": "code",
   "execution_count": 2,
   "metadata": {
    "collapsed": true
   },
   "outputs": [],
   "source": [
    "from keras import backend as K\n",
    "\n",
    "K.in_train_phase?"
   ]
  },
  {
   "cell_type": "markdown",
   "metadata": {},
   "source": [
    "### Exercise:\n",
    "\n",
    "Try modifying the previous example network adding a Dropout layer:"
   ]
  },
  {
   "cell_type": "code",
   "execution_count": 14,
   "metadata": {
    "collapsed": true
   },
   "outputs": [],
   "source": [
    "from keras.layers.core import Dropout\n",
    "\n",
    "# FC@512+relu -> DropOut(0.2) -> FC@512+relu -> DropOut(0.2) -> FC@nb_classes+softmax\n",
    "# ... your Code Here"
   ]
  },
  {
   "cell_type": "code",
   "execution_count": null,
   "metadata": {
    "collapsed": true
   },
   "outputs": [],
   "source": [
    "# %load ../solutions/sol_312.py"
   ]
  },
  {
   "cell_type": "code",
   "execution_count": 14,
   "metadata": {},
   "outputs": [
    {
     "name": "stdout",
     "output_type": "stream",
     "text": [
      "Train on 45000 samples, validate on 15000 samples\n",
      "Epoch 1/4\n",
      "45000/45000 [==============================] - 2s - loss: 1.3746 - acc: 0.6348 - val_loss: 0.6917 - val_acc: 0.8418\n",
      "Epoch 2/4\n",
      "45000/45000 [==============================] - 2s - loss: 0.6235 - acc: 0.8268 - val_loss: 0.4541 - val_acc: 0.8795\n",
      "Epoch 3/4\n",
      "45000/45000 [==============================] - 1s - loss: 0.4827 - acc: 0.8607 - val_loss: 0.3795 - val_acc: 0.8974\n",
      "Epoch 4/4\n",
      "45000/45000 [==============================] - 1s - loss: 0.4218 - acc: 0.8781 - val_loss: 0.3402 - val_acc: 0.9055\n"
     ]
    },
    {
     "data": {
      "image/png": "[encoded data removed]",
      "text/plain": [
       "<matplotlib.figure.Figure at 0x7f8f127a37f0>"
      ]
     },
     "metadata": {},
     "output_type": "display_data"
    },
    {
     "data": {
      "image/png": "[encoded data removed]",
      "text/plain": [
       "<matplotlib.figure.Figure at 0x7f8efc155eb8>"
      ]
     },
     "metadata": {},
     "output_type": "display_data"
    }
   ],
   "source": [
    "network_history = model.fit(X_train, Y_train, batch_size=128, \n",
    "                            epochs=4, verbose=1, validation_data=(X_val, Y_val))\n",
    "plot_history(network_history)"
   ]
  },
  {
   "cell_type": "markdown",
   "metadata": {},
   "source": [
    "* If you continue training, at some point the validation loss will start to increase: that is when the model starts to **overfit**. \n",
    "\n",
    "It is always necessary to monitor training and validation loss during the training of any kind of Neural Network, either to detect overfitting or to evaluate the behaviour of the model **(any clue on how to do it??)**"
   ]
  },
  {
   "cell_type": "code",
   "execution_count": null,
   "metadata": {
    "collapsed": true
   },
   "outputs": [],
   "source": [
    "# %load solutions/sol23.py\n",
    "from keras.callbacks import EarlyStopping\n",
    "\n",
    "early_stop = EarlyStopping(monitor='val_loss', patience=4, verbose=1)\n",
    "\n",
    "model = Sequential()\n",
    "model.add(Dense(512, activation='relu', input_shape=(784,)))\n",
    "model.add(Dropout(0.2))\n",
    "model.add(Dense(512, activation='relu'))\n",
    "model.add(Dropout(0.2))\n",
    "model.add(Dense(10, activation='softmax'))\n",
    "\n",
    "model.compile(loss='categorical_crossentropy', optimizer=SGD(), \n",
    "              metrics=['accuracy'])\n",
    "    \n",
    "model.fit(X_train, Y_train, validation_data = (X_test, Y_test), epochs=100, \n",
    "          batch_size=128, verbose=True, callbacks=[early_stop]) "
   ]
  },
  {
   "cell_type": "markdown",
   "metadata": {},
   "source": [
    "---"
   ]
  },
  {
   "cell_type": "markdown",
   "metadata": {},
   "source": [
    "# Inspecting Layers"
   ]
  },
  {
   "cell_type": "code",
   "execution_count": 15,
   "metadata": {},
   "outputs": [
    {
     "name": "stdout",
     "output_type": "stream",
     "text": [
      "_________________________________________________________________\n",
      "Layer (type)                 Output Shape              Param #   \n",
      "=================================================================\n",
      "dense_4 (Dense)              (None, 512)               401920    \n",
      "_________________________________________________________________\n",
      "dropout_1 (Dropout)          (None, 512)               0         \n",
      "_________________________________________________________________\n",
      "dense_5 (Dense)              (None, 512)               262656    \n",
      "_________________________________________________________________\n",
      "dropout_2 (Dropout)          (None, 512)               0         \n",
      "_________________________________________________________________\n",
      "dense_6 (Dense)              (None, 10)                5130      \n",
      "=================================================================\n",
      "Total params: 669,706\n",
      "Trainable params: 669,706\n",
      "Non-trainable params: 0\n",
      "_________________________________________________________________\n"
     ]
    }
   ],
   "source": [
    "# We already used `summary`\n",
    "model.summary()"
   ]
  },
  {
   "cell_type": "markdown",
   "metadata": {},
   "source": [
    "### `model.layers` is iterable"
   ]
  },
  {
   "cell_type": "code",
   "execution_count": 16,
   "metadata": {},
   "outputs": [
    {
     "name": "stdout",
     "output_type": "stream",
     "text": [
      "Model Input Tensors:  Tensor(\"dense_4_input:0\", shape=(?, 784), dtype=float32)\n",
      "\n",
      "Layers - Network Configuration:\n",
      "\n",
      "dense_4 True\n",
      "Layer Configuration:\n",
      "{'batch_input_shape': (None, 784), 'name': 'dense_4', 'units': 512, 'bias_regularizer': None, 'bias_initializer': {'config': {}, 'class_name': 'Zeros'}, 'trainable': True, 'activation': 'relu', 'use_bias': True, 'bias_constraint': None, 'activity_regularizer': None, 'kernel_regularizer': None, 'kernel_constraint': None, 'kernel_initializer': {'config': {'seed': None, 'mode': 'fan_avg', 'scale': 1.0, 'distribution': 'uniform'}, 'class_name': 'VarianceScaling'}, 'dtype': 'float32'}\n",
      "----------------------------------------\n",
      "dropout_1 True\n",
      "Layer Configuration:\n",
      "{'name': 'dropout_1', 'rate': 0.2, 'trainable': True}\n",
      "----------------------------------------\n",
      "dense_5 True\n",
      "Layer Configuration:\n",
      "{'kernel_regularizer': None, 'units': 512, 'bias_regularizer': None, 'bias_initializer': {'config': {}, 'class_name': 'Zeros'}, 'trainable': True, 'activation': 'relu', 'bias_constraint': None, 'activity_regularizer': None, 'name': 'dense_5', 'kernel_constraint': None, 'kernel_initializer': {'config': {'seed': None, 'mode': 'fan_avg', 'scale': 1.0, 'distribution': 'uniform'}, 'class_name': 'VarianceScaling'}, 'use_bias': True}\n",
      "----------------------------------------\n",
      "dropout_2 True\n",
      "Layer Configuration:\n",
      "{'name': 'dropout_2', 'rate': 0.2, 'trainable': True}\n",
      "----------------------------------------\n",
      "dense_6 True\n",
      "Layer Configuration:\n",
      "{'kernel_regularizer': None, 'units': 10, 'bias_regularizer': None, 'bias_initializer': {'config': {}, 'class_name': 'Zeros'}, 'trainable': True, 'activation': 'softmax', 'bias_constraint': None, 'activity_regularizer': None, 'name': 'dense_6', 'kernel_constraint': None, 'kernel_initializer': {'config': {'seed': None, 'mode': 'fan_avg', 'scale': 1.0, 'distribution': 'uniform'}, 'class_name': 'VarianceScaling'}, 'use_bias': True}\n",
      "----------------------------------------\n",
      "Model Output Tensors:  Tensor(\"dense_6/Softmax:0\", shape=(?, 10), dtype=float32)\n"
     ]
    }
   ],
   "source": [
    "print('Model Input Tensors: ', model.input, end='\\n\\n')\n",
    "print('Layers - Network Configuration:', end='\\n\\n')\n",
    "for layer in model.layers:\n",
    "    print(layer.name, layer.trainable)\n",
    "    print('Layer Configuration:')\n",
    "    print(layer.get_config(), end='\\n{}\\n'.format('----'*10))\n",
    "print('Model Output Tensors: ', model.output)"
   ]
  },
  {
   "cell_type": "markdown",
   "metadata": {},
   "source": [
    "## Extract hidden layer representation of the given data"
   ]
  },
  {
   "cell_type": "markdown",
   "metadata": {},
   "source": [
    "One **simple** way to do it is to use the weights of your model to build a new model that's truncated at the layer you want to read. \n",
    "\n",
    "Then you can run the `._predict(X_batch)` method to get the activations for a batch of inputs."
   ]
  },
  {
   "cell_type": "code",
   "execution_count": 17,
   "metadata": {
    "collapsed": true
   },
   "outputs": [],
   "source": [
    "model_truncated = Sequential()\n",
    "model_truncated.add(Dense(512, activation='relu', input_shape=(784,)))\n",
    "model_truncated.add(Dropout(0.2))\n",
    "model_truncated.add(Dense(512, activation='relu'))\n",
    "\n",
    "for i, layer in enumerate(model_truncated.layers):\n",
    "    layer.set_weights(model.layers[i].get_weights())\n",
    "\n",
    "model_truncated.compile(loss='categorical_crossentropy', optimizer=SGD(), \n",
    "              metrics=['accuracy'])"
   ]
  },
  {
   "cell_type": "code",
   "execution_count": 18,
   "metadata": {},
   "outputs": [
    {
     "data": {
      "text/plain": [
       "True"
      ]
     },
     "execution_count": 18,
     "metadata": {},
     "output_type": "execute_result"
    }
   ],
   "source": [
    "# Check\n",
    "np.all(model_truncated.layers[0].get_weights()[0] == model.layers[0].get_weights()[0])"
   ]
  },
  {
   "cell_type": "code",
   "execution_count": 19,
   "metadata": {
    "collapsed": true
   },
   "outputs": [],
   "source": [
    "hidden_features = model_truncated.predict(X_train)"
   ]
  },
  {
   "cell_type": "code",
   "execution_count": 20,
   "metadata": {},
   "outputs": [
    {
     "data": {
      "text/plain": [
       "(45000, 512)"
      ]
     },
     "execution_count": 20,
     "metadata": {},
     "output_type": "execute_result"
    }
   ],
   "source": [
    "hidden_features.shape"
   ]
  },
  {
   "cell_type": "code",
   "execution_count": 21,
   "metadata": {},
   "outputs": [
    {
     "data": {
      "text/plain": [
       "(45000, 784)"
      ]
     },
     "execution_count": 21,
     "metadata": {},
     "output_type": "execute_result"
    }
   ],
   "source": [
    "X_train.shape"
   ]
  },
  {
   "cell_type": "markdown",
   "metadata": {},
   "source": [
    "#### Hint: Alternative Method to get activations \n",
    "\n",
    "(Using `keras.backend` `function` on Tensors)"
   ]
  },
  {
   "cell_type": "markdown",
   "metadata": {
    "collapsed": true
   },
   "source": [
    "```python\n",
    "def get_activations(model, layer, X_batch):\n",
    "    activations_f = K.function([model.layers[0].input, K.learning_phase()], [layer.output,])\n",
    "    activations = activations_f((X_batch, False))\n",
    "    return activations\n",
    "```"
   ]
  },
  {
   "cell_type": "markdown",
   "metadata": {},
   "source": [
    "---"
   ]
  },
  {
   "cell_type": "markdown",
   "metadata": {},
   "source": [
    "### Generate the Embedding of Hidden Features"
   ]
  },
  {
   "cell_type": "code",
   "execution_count": 24,
   "metadata": {
    "collapsed": true
   },
   "outputs": [],
   "source": [
    "from sklearn.manifold import TSNE\n",
    "\n",
    "tsne = TSNE(n_components=2)\n",
    "X_tsne = tsne.fit_transform(hidden_features[:1000]) ## Reduced for computational issues"
   ]
  },
  {
   "cell_type": "code",
   "execution_count": 29,
   "metadata": {
    "collapsed": true
   },
   "outputs": [],
   "source": [
    "colors_map = np.argmax(Y_train, axis=1)"
   ]
  },
  {
   "cell_type": "code",
   "execution_count": 32,
   "metadata": {},
   "outputs": [
    {
     "data": {
      "text/plain": [
       "(1000, 2)"
      ]
     },
     "execution_count": 32,
     "metadata": {},
     "output_type": "execute_result"
    }
   ],
   "source": [
    "X_tsne.shape"
   ]
  },
  {
   "cell_type": "code",
   "execution_count": 49,
   "metadata": {},
   "outputs": [
    {
     "data": {
      "text/plain": [
       "10"
      ]
     },
     "execution_count": 49,
     "metadata": {},
     "output_type": "execute_result"
    }
   ],
   "source": [
    "nb_classes"
   ]
  },
  {
   "cell_type": "code",
   "execution_count": 53,
   "metadata": {},
   "outputs": [
    {
     "data": {
      "text/plain": [
       "(array([  1,  30,  62,  73,  86,  88,  89, 109, 112, 114, 123, 132, 134,\n",
       "        137, 150, 165, 173, 175, 179, 215, 216, 217, 224, 235, 242, 248,\n",
       "        250, 256, 282, 302, 303, 304, 332, 343, 352, 369, 386, 396, 397,\n",
       "        434, 444, 456, 481, 493, 495, 496, 522, 524, 527, 544, 558, 571,\n",
       "        595, 618, 625, 634, 646, 652, 657, 666, 672, 673, 676, 714, 720,\n",
       "        727, 732, 737, 796, 812, 813, 824, 828, 837, 842, 848, 851, 854,\n",
       "        867, 869, 886, 894, 903, 931, 934, 941, 950, 956, 970, 972, 974, 988]),)"
      ]
     },
     "execution_count": 53,
     "metadata": {},
     "output_type": "execute_result"
    }
   ],
   "source": [
    "np.where(colors_map==6)"
   ]
  },
  {
   "cell_type": "code",
   "execution_count": 55,
   "metadata": {},
   "outputs": [
    {
     "data": {
      "image/png": "[encoded data removed]",
      "text/plain": [
       "<matplotlib.figure.Figure at 0x7f8e941bc4a8>"
      ]
     },
     "metadata": {},
     "output_type": "display_data"
    }
   ],
   "source": [
    "colors = np.array([x for x in 'b-g-r-c-m-y-k-purple-coral-lime'.split('-')])\n",
    "colors_map = colors_map[:1000]\n",
    "plt.figure(figsize=(10,10))\n",
    "for cl in range(nb_classes):\n",
    "    indices = np.where(colors_map==cl)\n",
    "    plt.scatter(X_tsne[indices,0], X_tsne[indices, 1], c=colors[cl], label=cl)\n",
    "plt.legend()\n",
    "plt.show()"
   ]
  },
  {
   "cell_type": "markdown",
   "metadata": {},
   "source": [
    "## Using Bokeh (Interactive Chart)"
   ]
  },
  {
   "cell_type": "code",
   "execution_count": 67,
   "metadata": {},
   "outputs": [
    {
     "data": {
      "text/html": [
       "\n",
       "    <div class=\"bk-root\">\n",
       "        <a href=\"http://bokeh.pydata.org\" target=\"_blank\" class=\"bk-logo bk-logo-small bk-logo-notebook\"></a>\n",
       "        <span id=\"0af86eff-6a55-4644-ab84-9a6f5fcbeb3e\">Loading BokehJS ...</span>\n",
       "    </div>"
      ]
     },
     "metadata": {},
     "output_type": "display_data"
    },
    {
     "data": {
      "application/javascript": [
       "\n",
       "(function(global) {\n",
       "  function now() {\n",
       "    return new Date();\n",
       "  }\n",
       "\n",
       "  var force = true;\n",
       "\n",
       "  if (typeof (window._bokeh_onload_callbacks) === \"undefined\" || force === true) {\n",
       "    window._bokeh_onload_callbacks = [];\n",
       "    window._bokeh_is_loading = undefined;\n",
       "  }\n",
       "\n",
       "\n",
       "  \n",
       "  if (typeof (window._bokeh_timeout) === \"undefined\" || force === true) {\n",
       "    window._bokeh_timeout = Date.now() + 5000;\n",
       "    window._bokeh_failed_load = false;\n",
       "  }\n",
       "\n",
       "  var NB_LOAD_WARNING = {'data': {'text/html':\n",
       "     \"<div style='background-color: #fdd'>\\n\"+\n",
       "     \"<p>\\n\"+\n",
       "     \"BokehJS does not appear to have successfully loaded. If loading BokehJS from CDN, this \\n\"+\n",
       "     \"may be due to a slow or bad network connection. Possible fixes:\\n\"+\n",
       "     \"</p>\\n\"+\n",
       "     \"<ul>\\n\"+\n",
       "     \"<li>re-rerun `output_notebook()` to attempt to load from CDN again, or</li>\\n\"+\n",
       "     \"<li>use INLINE resources instead, as so:</li>\\n\"+\n",
       "     \"</ul>\\n\"+\n",
       "     \"<code>\\n\"+\n",
       "     \"from bokeh.resources import INLINE\\n\"+\n",
       "     \"output_notebook(resources=INLINE)\\n\"+\n",
       "     \"</code>\\n\"+\n",
       "     \"</div>\"}};\n",
       "\n",
       "  function display_loaded() {\n",
       "    if (window.Bokeh !== undefined) {\n",
       "      var el = document.getElementById(\"0af86eff-6a55-4644-ab84-9a6f5fcbeb3e\");\n",
       "      el.textContent = \"BokehJS \" + Bokeh.version + \" successfully loaded.\";\n",
       "    } else if (Date.now() < window._bokeh_timeout) {\n",
       "      setTimeout(display_loaded, 100)\n",
       "    }\n",
       "  }\n",
       "\n",
       "  function run_callbacks() {\n",
       "    window._bokeh_onload_callbacks.forEach(function(callback) { callback() });\n",
       "    delete window._bokeh_onload_callbacks\n",
       "    console.info(\"Bokeh: all callbacks have finished\");\n",
       "  }\n",
       "\n",
       "  function load_libs(js_urls, callback) {\n",
       "    window._bokeh_onload_callbacks.push(callback);\n",
       "    if (window._bokeh_is_loading > 0) {\n",
       "      console.log(\"Bokeh: BokehJS is being loaded, scheduling callback at\", now());\n",
       "      return null;\n",
       "    }\n",
       "    if (js_urls == null || js_urls.length === 0) {\n",
       "      run_callbacks();\n",
       "      return null;\n",
       "    }\n",
       "    console.log(\"Bokeh: BokehJS not loaded, scheduling load and callback at\", now());\n",
       "    window._bokeh_is_loading = js_urls.length;\n",
       "    for (var i = 0; i < js_urls.length; i++) {\n",
       "      var url = js_urls[i];\n",
       "      var s = document.createElement('script');\n",
       "      s.src = url;\n",
       "      s.async = false;\n",
       "      s.onreadystatechange = s.onload = function() {\n",
       "        window._bokeh_is_loading--;\n",
       "        if (window._bokeh_is_loading === 0) {\n",
       "          console.log(\"Bokeh: all BokehJS libraries loaded\");\n",
       "          run_callbacks()\n",
       "        }\n",
       "      };\n",
       "      s.onerror = function() {\n",
       "        console.warn(\"failed to load library \" + url);\n",
       "      };\n",
       "      console.log(\"Bokeh: injecting script tag for BokehJS library: \", url);\n",
       "      document.getElementsByTagName(\"head\")[0].appendChild(s);\n",
       "    }\n",
       "  };var element = document.getElementById(\"0af86eff-6a55-4644-ab84-9a6f5fcbeb3e\");\n",
       "  if (element == null) {\n",
       "    console.log(\"Bokeh: ERROR: autoload.js configured with elementid '0af86eff-6a55-4644-ab84-9a6f5fcbeb3e' but no matching script tag was found. \")\n",
       "    return false;\n",
       "  }\n",
       "\n",
       "  var js_urls = [\"https://cdn.pydata.org/bokeh/release/bokeh-0.12.5.min.js\", \"https://cdn.pydata.org/bokeh/release/bokeh-widgets-0.12.5.min.js\"];\n",
       "\n",
       "  var inline_js = [\n",
       "    function(Bokeh) {\n",
       "      Bokeh.set_log_level(\"info\");\n",
       "    },\n",
       "    \n",
       "    function(Bokeh) {\n",
       "      \n",
       "    },\n",
       "    \n",
       "    function(Bokeh) {\n",
       "      \n",
       "      document.getElementById(\"0af86eff-6a55-4644-ab84-9a6f5fcbeb3e\").textContent = \"BokehJS is loading...\";\n",
       "    },\n",
       "    function(Bokeh) {\n",
       "      console.log(\"Bokeh: injecting CSS: https://cdn.pydata.org/bokeh/release/bokeh-0.12.5.min.css\");\n",
       "      Bokeh.embed.inject_css(\"https://cdn.pydata.org/bokeh/release/bokeh-0.12.5.min.css\");\n",
       "      console.log(\"Bokeh: injecting CSS: https://cdn.pydata.org/bokeh/release/bokeh-widgets-0.12.5.min.css\");\n",
       "      Bokeh.embed.inject_css(\"https://cdn.pydata.org/bokeh/release/bokeh-widgets-0.12.5.min.css\");\n",
       "    }\n",
       "  ];\n",
       "\n",
       "  function run_inline_js() {\n",
       "    \n",
       "    if ((window.Bokeh !== undefined) || (force === true)) {\n",
       "      for (var i = 0; i < inline_js.length; i++) {\n",
       "        inline_js[i](window.Bokeh);\n",
       "      }if (force === true) {\n",
       "        display_loaded();\n",
       "      }} else if (Date.now() < window._bokeh_timeout) {\n",
       "      setTimeout(run_inline_js, 100);\n",
       "    } else if (!window._bokeh_failed_load) {\n",
       "      console.log(\"Bokeh: BokehJS failed to load within specified timeout.\");\n",
       "      window._bokeh_failed_load = true;\n",
       "    } else if (force !== true) {\n",
       "      var cell = $(document.getElementById(\"0af86eff-6a55-4644-ab84-9a6f5fcbeb3e\")).parents('.cell').data().cell;\n",
       "      cell.output_area.append_execute_result(NB_LOAD_WARNING)\n",
       "    }\n",
       "\n",
       "  }\n",
       "\n",
       "  if (window._bokeh_is_loading === 0) {\n",
       "    console.log(\"Bokeh: BokehJS loaded, going straight to plotting\");\n",
       "    run_inline_js();\n",
       "  } else {\n",
       "    load_libs(js_urls, function() {\n",
       "      console.log(\"Bokeh: BokehJS plotting callback run at\", now());\n",
       "      run_inline_js();\n",
       "    });\n",
       "  }\n",
       "}(this));"
      ]
     },
     "metadata": {},
     "output_type": "display_data"
    }
   ],
   "source": [
    "from bokeh.plotting import figure, output_notebook, show\n",
    "\n",
    "output_notebook()"
   ]
  },
  {
   "cell_type": "code",
   "execution_count": 74,
   "metadata": {},
   "outputs": [
    {
     "data": {
      "text/html": [
       "\n",
       "\n",
       "    <div class=\"bk-root\">\n",
       "        <div class=\"bk-plotdiv\" id=\"e90df1a2-e577-49fb-89bb-6e083232c9ec\"></div>\n",
       "    </div>\n",
       "<script type=\"text/javascript\">\n",
       "  \n",
       "  (function(global) {\n",
       "    function now() {\n",
       "      return new Date();\n",
       "    }\n",
       "  \n",
       "    var force = false;\n",
       "  \n",
       "    if (typeof (window._bokeh_onload_callbacks) === \"undefined\" || force === true) {\n",
       "      window._bokeh_onload_callbacks = [];\n",
       "      window._bokeh_is_loading = undefined;\n",
       "    }\n",
       "  \n",
       "  \n",
       "    \n",
       "    if (typeof (window._bokeh_timeout) === \"undefined\" || force === true) {\n",
       "      window._bokeh_timeout = Date.now() + 0;\n",
       "      window._bokeh_failed_load = false;\n",
       "    }\n",
       "  \n",
       "    var NB_LOAD_WARNING = {'data': {'text/html':\n",
       "       \"<div style='background-color: #fdd'>\\n\"+\n",
       "       \"<p>\\n\"+\n",
       "       \"BokehJS does not appear to have successfully loaded. If loading BokehJS from CDN, this \\n\"+\n",
       "       \"may be due to a slow or bad network connection. Possible fixes:\\n\"+\n",
       "       \"</p>\\n\"+\n",
       "       \"<ul>\\n\"+\n",
       "       \"<li>re-rerun `output_notebook()` to attempt to load from CDN again, or</li>\\n\"+\n",
       "       \"<li>use INLINE resources instead, as so:</li>\\n\"+\n",
       "       \"</ul>\\n\"+\n",
       "       \"<code>\\n\"+\n",
       "       \"from bokeh.resources import INLINE\\n\"+\n",
       "       \"output_notebook(resources=INLINE)\\n\"+\n",
       "       \"</code>\\n\"+\n",
       "       \"</div>\"}};\n",
       "  \n",
       "    function display_loaded() {\n",
       "      if (window.Bokeh !== undefined) {\n",
       "        var el = document.getElementById(\"e90df1a2-e577-49fb-89bb-6e083232c9ec\");\n",
       "        el.textContent = \"BokehJS \" + Bokeh.version + \" successfully loaded.\";\n",
       "      } else if (Date.now() < window._bokeh_timeout) {\n",
       "        setTimeout(display_loaded, 100)\n",
       "      }\n",
       "    }\n",
       "  \n",
       "    function run_callbacks() {\n",
       "      window._bokeh_onload_callbacks.forEach(function(callback) { callback() });\n",
       "      delete window._bokeh_onload_callbacks\n",
       "      console.info(\"Bokeh: all callbacks have finished\");\n",
       "    }\n",
       "  \n",
       "    function load_libs(js_urls, callback) {\n",
       "      window._bokeh_onload_callbacks.push(callback);\n",
       "      if (window._bokeh_is_loading > 0) {\n",
       "        console.log(\"Bokeh: BokehJS is being loaded, scheduling callback at\", now());\n",
       "        return null;\n",
       "      }\n",
       "      if (js_urls == null || js_urls.length === 0) {\n",
       "        run_callbacks();\n",
       "        return null;\n",
       "      }\n",
       "      console.log(\"Bokeh: BokehJS not loaded, scheduling load and callback at\", now());\n",
       "      window._bokeh_is_loading = js_urls.length;\n",
       "      for (var i = 0; i < js_urls.length; i++) {\n",
       "        var url = js_urls[i];\n",
       "        var s = document.createElement('script');\n",
       "        s.src = url;\n",
       "        s.async = false;\n",
       "        s.onreadystatechange = s.onload = function() {\n",
       "          window._bokeh_is_loading--;\n",
       "          if (window._bokeh_is_loading === 0) {\n",
       "            console.log(\"Bokeh: all BokehJS libraries loaded\");\n",
       "            run_callbacks()\n",
       "          }\n",
       "        };\n",
       "        s.onerror = function() {\n",
       "          console.warn(\"failed to load library \" + url);\n",
       "        };\n",
       "        console.log(\"Bokeh: injecting script tag for BokehJS library: \", url);\n",
       "        document.getElementsByTagName(\"head\")[0].appendChild(s);\n",
       "      }\n",
       "    };var element = document.getElementById(\"e90df1a2-e577-49fb-89bb-6e083232c9ec\");\n",
       "    if (element == null) {\n",
       "      console.log(\"Bokeh: ERROR: autoload.js configured with elementid 'e90df1a2-e577-49fb-89bb-6e083232c9ec' but no matching script tag was found. \")\n",
       "      return false;\n",
       "    }\n",
       "  \n",
       "    var js_urls = [];\n",
       "  \n",
       "    var inline_js = [\n",
       "      function(Bokeh) {\n",
       "        (function() {\n",
       "          var fn = function() {\n",
       "            var docs_json = {\"0a107901-21f4-414c-8b60-0314827c77c9\":{\"roots\":{\"references\":[{\"attributes\":{\"data_source\":{\"id\":\"96dd01f3-cc06-44ef-b6bb-1eb06c543e23\",\"type\":\"ColumnDataSource\"},\"glyph\":{\"id\":\"ad8b2453-bb3f-4c0e-9cd6-8cb23e16801f\",\"type\":\"Circle\"},\"hover_glyph\":null,\"muted_glyph\":null,\"nonselection_glyph\":{\"id\":\"661a558d-6ef7-4be4-be81-dea7a71a8c70\",\"type\":\"Circle\"},\"selection_glyph\":null},\"id\":\"2afe8a3b-fde7-4e6e-8ec4-2688be847a5c\",\"type\":\"GlyphRenderer\"},{\"attributes\":{\"data_source\":{\"id\":\"ba216e52-be76-4db2-8352-ebe09293b50b\",\"type\":\"ColumnDataSource\"},\"glyph\":{\"id\":\"fb675052-09f3-4302-aab8-cf62d3f45bc5\",\"type\":\"Circle\"},\"hover_glyph\":null,\"muted_glyph\":null,\"nonselection_glyph\":{\"id\":\"458559a1-f0e8-49c5-9590-81bb5589fef2\",\"type\":\"Circle\"},\"selection_glyph\":null},\"id\":\"999d8d98-c897-40de-b76a-dbc9d54a64d2\",\"type\":\"GlyphRenderer\"},{\"attributes\":{\"callback\":null,\"column_names\":[\"y\",\"x\"],\"data\":{\"x\":{\"__ndarray__\":\"hIV9LF5GK0ArOtgnvT4bQKZ8AhpjZMC/KJuMZcrTKUCcHMPQgtEhQNGYU/vRtSpA7XTJLSlY8j/uSSpWxXYZQAQFOd3E2fE/oo8uaG7hKEBkD+pCg0AcQNwcMgKwgStACo/Y3hjFJUDYpuRbz/UsQLX2ygH8tSZA4SDXBVGJJkAt5PcIyRcpQDlfUGTlChtAC6BE+xT6EkArElL1JDYoQOPGRFM9fCJASGAMXLpFJkCP3048n8sHQFaWxm2DIitAt7O6NT/2IUDdG/3wA78sQPv8f/SSehdAqlKokA1wB0Bt70RX7XcpQAdcI+cZ2uM/Qf22fe+3CEA5jlaiswEKQOy6G6y/yydAxoUh1dAeJECBNZRzCZgpQGKZM7BGvxRAKsKcteLHKECL+9J7rhERQOWVb8NfliZAdY23iCFjJUD4DnOUxIklQEIKVR8b/w1AqhSxQl53BEBVHRGAq8chQJU7//gwnxhA0IbatgTkI0ADN81c/sAmQDy9XUwiaBNAdO0YMNwoKUCz+d7qHOAhQDDX5HEuZyZAWgAfqa1cFEC4GrENLkkLQFaabzQhGRRAmLOToOO9G0AMVcDU5VAoQCzAIEFCcRlA+h98K4ZlKkD4ie2GilPoP/TS44ZuTyZAtSRwskmtJUC1dPOXiEMeQK6xW04TuSZAc1xycQQXCkDaZ//BH6AoQNuTyp0sPC5AlgaooyRVKED4hOvniWUSQKp4mm1KgSdALmuIH7s1HEDotfUPHbwmQFp/BTs/ny1AsLg82VlmJ0B+te6RcignQC3yH8BlqipA9LnQbJ8BJkDzDp8av9gqQDWPBBuNJSRAC3NdwC+IEkD22CG85J8ZQLizA/EplSZAsvlHZD1vIkCVXmRCcksEQA==\",\"dtype\":\"float64\",\"shape\":[83]},\"y\":{\"__ndarray__\":\"BUN2hUXhE8DuKsGlt5D7v5cMcKawGSBA+QZirdaaDcA2J5WZvAEEwAvzS+dkXhDA2sCBW9uWDUAPxF8LJDERwMNsuJwflgpAYCBhXETkGcAZIkYE0v35vzkZhNSXnxLAWh68TODvGsBveTEi1yEVwBRI2ZxVvRLA5T+Iqiu9FMBv/04tdE4PwNKINRs/xPy/fk56M3DP2T++JdxSGu0TwKVYLQMk8wvAevAeL9G/C8Ayff0l7pALwJeBW1neZBHAnMEfFHffBcA+9r/v10sVwDx4yGDGTQbAC1u7KjRiAEAYBZR6NdQMwJc6zRRAGx5A6Cb64I+V7L8Syq+ZQbUUwGZpQombUBTAE3yZvMr+/78ycgT0m7EBwO3iFtm8ARHAQZsAyuh1FsCc+zRGNgAGwFTIFGuq7AjAQApY7/pMAMDX16KVYrMJwHDTNShLdJ8/tGE/ru0jAkA9fBKWrxkEwJLGVNxjyv2//+S3Ob5wC8Bw7KqJcaAVwHIa1KOSUPO//gL+/qYoCMC6b/T2OPQCwLY1qQEAPRbApSWrTsD5CsAQDb33u3iXP9rI6C0U9fm/ctwajCgD+781ADRs6G4HwBTY4EMIS+Q/Uqln/AqkCcDXLyuNhzgcQJ3QmXH50gvAx7J8orrlAcDCBuJXBvQPwKaZt8IJ9RTA1lgKfnlT1r893UjLxMkUwGco0wFg0g3Am3nJea4WB8ARdKhZ+fAWwJ50YTjhjhDAqAbmZf/CEsBFy7PQRTb+v1KSsktUABbADX/8TmvxGsBUreAk9IsVwBG3hL4G3QzA24xwOnOsGsD6qIsR1CMXwKdO200ktAHAZaId5kMNGMB4xTuSfmQlwBfS3m4xjOy/5wUN0c28CsCAKhi251Smvw==\",\"dtype\":\"float64\",\"shape\":[83]}}},\"id\":\"96dd01f3-cc06-44ef-b6bb-1eb06c543e23\",\"type\":\"ColumnDataSource\"},{\"attributes\":{\"callback\":null,\"column_names\":[\"y\",\"x\"],\"data\":{\"x\":{\"__ndarray__\":\"XMQzwjPC9D+RNenDYjP9PzZ7NeszsghA8Mb1eiZc8L8u3OV8C94PwK5hr4Mg/AJAqmAnHh/o7b8/LB/ljnUIwIx7kOEXBADAGiwuGWGt37/l9EUEM2TaPxD4capJSrq/bA9tD6PqAsAWhCAYBgbcv+vDMOVT4wNA7XcwUkW32r9a0nE1hqEMwLXXMDyh8wPAKqU8g7as3j//JuXc6wTzPzLzKDz+kf6/eF+KB7zwB0C4E+C6rr7wP2W9dufAJem/xlOWDkJy7b90UWIPqg0TQG8UB18u9AnAhpWj7V5L/L9WebE115sEwLhzdtVznty/oRTjm3zN+T/hWJ1083sBQEAcpDbnnv8/1Cl05wUSB8BqqBrr8d4HwPNyJntl6/a/iQhvkMqH8L/V5qZJ51X4vx/NtL3I9QbA2Kg7rDrS+D8EXmZ8YJz+vwQI/0UmSw3A1d9ExUVXEcBLQOxKdR4FwAZI35kxE/C/0l0LhGWID0DSMyy9YTYQQPjOBDS3Lts/o+VtMz7oEEBY8oQOU2zQP5odjJu4DQTAVPn+auo287/n8LQ8lG4HwLqExucbgATA9ZVOjmWaBMCiEzELR/AQQEFUAWfDFQPA3B9XE/H3AsDOM+fcsm0GQOyHolC7+/0/gsJ4gclRDsAHwe/q99D1v9A84KB28uu/GjatGiogB0DqYnA3XsbRPwZ9oPyOBA1A0lYDNHCpAkCEhk9OXfvxv4A5UdFRawNAl2g96ZKoA8Axqb+d9Bb/v1a8B9SL4/c/iU0fLktL9r9JzoYKTcsBQJDF247EaOc/AgvvgJLF0L8DK6UgHEXwPz7g6UUiaAjAMLsvXU2bzz8fqY2D4pEJwHBtVD0J1eC/K6LYHTh+/7+E0uBmKzPzv8RTlIiD4fk/T4q7FuB4/L/gycCd2p7Nv8LWLLbfCPE/feDjNRChBsAY6C/HEM3sP5aOXZEWkARAHLZDYHQlDUBe76+ekH72vw==\",\"dtype\":\"float64\",\"shape\":[92]},\"y\":{\"__ndarray__\":\"i11ubb+DJ0B9w7EfJBAcQBwwOB6nkyNAxyJSO2WrJ0A/rlKfa4olQIxvabwXpCdAz9Q5ISBlHUCcJwpNKwQpQF6IIVLndBpA1WvCrI02JUCkZDYBvHIpQNWNT5m5jiRAECfH9z/jJkDqY1lSq0chQHashaCzryVA5fbFWSBFFUBM2X5yKcUlQP2vFNW5mCNAv7o7u3yNJ0DNGOpsMxomQHACF4vphSZAGYUgAYxrKkBfLH789DcoQAyGLdHMZx5A5MmvUPXJKUBIfjiy09AsQAGcHCUcjhlAQnCxsFVOI0AaXxtRwV8cQJPqqcDDsSJADJvragRaJEAUJ0DbNDEqQJPIgTqfuyVAvnJlZoKQGECi2c+dOKgpQFuGuQZMuSlA2D3FzW1fK0AzW16NvkolQFmTEIXXEiBAw0i+6S7UJkCxQaD/xE8oQOmkSKs80iRAvsWTcVL0HkB8mBvnK5ckQIJkuaMw3CNAvpWgIXi9KUD0OI2Zlq0mQAkNaNnooiFAgH+wh1UbKUBCWZgxaHYXQFUno5lJ4SNAOxPz5fJSI0A/McHX1fIoQNcdSFebcSVAUOaMI6tjJ0CBuHLhv8YpQFKVY130XxdAd6LMs+ZlG0CDY1knZj8kQCQrn4m+oiJAvYTQ+rfhJEB2xX/PPucaQAu4x62zUC9ADsLPF2kfJ0AwzuR/cLcnQICoHdEzjyZAZkTrN48YIUCyjQipCkkiQNfmMry2FypAUW8RZJMCJUBkuLD5GK4pQFGdsqq2JCNAJOR82k6QHkB1hU3klrEoQN2/BHmODShAxrw60J9KKkAhYBzoQXwpQKJbtIOa0yZA0XySKEbEI0Co9JHv1i8nQFd06E0DMyhA5fWriuoyKUC7hcUdcIAlQNK9mbDWkSZAlONb4ajNJEATeCKOCWklQEUUgszeXyVA/1q7USzeIED54xk8uCQhQA6vlu1EUylAdCtdM/f4I0BrcJA5SpwFQA==\",\"dtype\":\"float64\",\"shape\":[92]}}},\"id\":\"45bbea89-c56c-4eef-b115-72e19981c894\",\"type\":\"ColumnDataSource\"},{\"attributes\":{\"callback\":null,\"column_names\":[\"y\",\"x\"],\"data\":{\"x\":{\"__ndarray__\":\"nkilyZEMI8AbXYAXYRojwFAZ5QEqBxTAPTPl0MD7F8AER0TB97AdwKqICBSufx7AYLMve7anGsAGhlC+iwETwFcTvLZrYSPA+ScFQ416HMASNFXbiucgwCupinKBRRjAuznP8OnyIsAEiQ0S9UcVwFotRA7y9R3AuBxm1A4tFMDL5Aj/u6wjwPBlrSgsYATAh0Usj8I3JcBvBjk6fUsjwBoYhkVhIhLAoBBa+E7VHUCl+foyPBcbwG80RJGsMRTAP2y3Now7FcAsIR7hU0QhwBjCi5Z70CXAhJ5tGmGHH8BMbNIXfIYWwDfRbKWDLgBAUirpVJ/z2r/njaTYYe0kwKV+PSLAwyHAb/dEen11GcCFpui6P10kwJi3rOxuIxTATT8IFU6AL0ChCmSElsEbwFfvlhpXLR7ApR2TkLu5GMCUf9szrAYYwEjo32HlSR7A184a19jfIsDD/d0+rFoWwD0zH3fPrRzALuVUfhDbEcCDXSe6IPsawPcLq8LRkR3A1XQi8dDnHMCN3muCz3AVwEMl9WdV3RrAcYIOuu+pIMBvihKKblMgwJ2q2CKswhXAoBkLwVjhJMB1b0C4Xf0awJK5zm8TliPA/VtwSSYdF8Ddnbd6WOwfwBoeBqVk5APA2Aj57k4sJcAMIYfq4QsdwMAgD0aIIyDAKOi2UY5OI8CZsxnPwQAlwK6DEDxKlxzADIfYHxxzG8C1fx8HRp4YwEc7XZoZUBbAMmiHT/G0IsBYxDp7f70MQFW4b7puJSHAItttQDsyIcDVXfKfpRAgwFFQvP22PyXA9LekT2BPIcChFxCd+ffYv73MQvToWCHALgDpXm4kIMATcl6K1hkGQEOgYkseP+k/MERG0t6YHcD/mAfTXzIjwJE+XynM4RDAX0cMtiBIDsDyz4DUyiAdwKhK3HmRASXAOF4F94S9FcBbQsmrfFYQwAQc16K4rR7A2pKnRaMCE8Dlx8+Nb8IiwHbVDl3bvhnAzFRdXG+8I8D/CvSz3YMjwGAfnfFQtQ/AaVLkNz8AHsDphE1vP1kcwHowJ+PI/hTASEKCYTJIIsAFjuxRyIAhwPq4gU4NuyDA7J/kuO9sGsAqGJO/Kn0XwHxtXLVusSXAHPSGYc0uFMBJQOk6fcAZwEgpJWwPmhnAvb0+BxANHcCkYx7p/6kYwP7v4TZBhhHAR3DRdAJ+GsD8gABIR1YlwEIyYObhtyPA3kmvxHjZIcDl41sDzTsYwA==\",\"dtype\":\"float64\",\"shape\":[116]},\"y\":{\"__ndarray__\":\"ChIKFh+TKcB9tPAeBvsnwCMOQ503HCrAB1PltYmRJcCHRiy+RCAiwOaEP9oSZCrApN8gZdx5K8Bom+Xr6SwnwJKB0XHRDDHAXIJsBNc8JsCPZs0Y0IUtwFnG8hjteSbAOydUr1fBLsBMCudJseUnwNY+w0E7NCTAlqJORtoYKsCd8GeFF+MqwF92cxuNo/8/ahLA8ZrsL8BqbImL97ArwETvyc+MQCTAQx/TkQ5rI8Bcc12u5LMvwIyMPZrrZCLApyWDpRHXLcA51PgVpTswwJwQn62S6i/AdShG5M4ALMBh869i520pwGX/ndxy7xpAXL43ose0FEAeXvztvBAtwCgVufn3NTDAJBYQgKSlMMAbmmhz5ispwCl19TGNmC3A8ZWorzEkG0BqsIXwG+4nwPR2bqFkfCTAzT5qyPc1IsAI+1uAxqsjwGoRdwBGVzDAKdaKoIw0KsC8cnlzvwEmwHf8HnF9Ji7Aw82/14LYKMAFF7AguoUwwHyNCUpqTSvAzQW52OG2KcBv3q+ypQAtwFFaA5+bUSrA39Hhq0xjIcAHOOjCfg0qwFA1YOKcwSPAbHG+XhGdKcAvPAUb/KQvwKwfCshm0C/AAWwT06sGIcA46+BauOQgwGBarajZefk/H2sI2eOKL8A0Hgbpbv4lwJOWoqEtmyfAVdWbezBCL8CFuz3kIcUwwNcUpWG3ESzAWjEFg4iCKcBpMllmbAMhwOYoOx+QoS/A5gPeMvLWLMAttEVYUcwVQGMZXb66OTDA5A8oGKEHK8AaCDxyu50swGLILjAIEi3AU9MHoZe/JcAxT9EhF7UIwIHqkfGoqynAB7hvKJ76JsAVcvx66R8XQIyv57QIqgBA0D6i4jmTMMBGo80MwAwuwCkU8c3xwifADjnNp1oOJ8BwBL9wgpwvwA4NG1HJIC/AzYF7dGsqLcAHT2m5c68qwHEeGR6P4SvAG6YPGkkpKsDKBlNwmKkowO1+ahXBVyPAsPyr61pDK8DfDKhG6SwtwIpbT4DzS9g/TSKaarnKLsAD6evw1MwwwMk22I+0EyXAWkBVmPnOIsBBHQ/tpdIuwAs0Zm5CwynAK7IHFzLrLMDr0cn9AD8uwEdToV8u8i/A9m1oOKArLcCRI637wVAmwLaUSFDgDCrARu1eXUJ1J8BG2jh5Yt0mwKARiPxV0yLAd8+MztfhLsA9T2xKbf0wwPdzHrX6CDHAhlGYokvQLsDX57Nbw3YnwA==\",\"dtype\":\"float64\",\"shape\":[116]}}},\"id\":\"1c51aa9f-10a8-4361-a173-48c7c6942006\",\"type\":\"ColumnDataSource\"},{\"attributes\":{\"fill_alpha\":{\"value\":0.1},\"fill_color\":{\"value\":\"#1f77b4\"},\"line_alpha\":{\"value\":0.1},\"line_color\":{\"value\":\"#1f77b4\"},\"size\":{\"units\":\"screen\",\"value\":7},\"x\":{\"field\":\"x\"},\"y\":{\"field\":\"y\"}},\"id\":\"458559a1-f0e8-49c5-9590-81bb5589fef2\",\"type\":\"Circle\"},{\"attributes\":{\"fill_alpha\":{\"value\":0.1},\"fill_color\":{\"value\":\"#1f77b4\"},\"line_alpha\":{\"value\":0.1},\"line_color\":{\"value\":\"#1f77b4\"},\"size\":{\"units\":\"screen\",\"value\":7},\"x\":{\"field\":\"x\"},\"y\":{\"field\":\"y\"}},\"id\":\"96b7e4be-6f1b-4a47-91db-cbd18bed4195\",\"type\":\"Circle\"},{\"attributes\":{\"fill_alpha\":{\"value\":0.1},\"fill_color\":{\"value\":\"#1f77b4\"},\"line_alpha\":{\"value\":0.1},\"line_color\":{\"value\":\"#1f77b4\"},\"size\":{\"units\":\"screen\",\"value\":7},\"x\":{\"field\":\"x\"},\"y\":{\"field\":\"y\"}},\"id\":\"8336d1d8-68b3-4cbd-8dc8-7022be931d48\",\"type\":\"Circle\"},{\"attributes\":{\"fill_alpha\":{\"value\":0.1},\"fill_color\":{\"value\":\"#1f77b4\"},\"line_alpha\":{\"value\":0.1},\"line_color\":{\"value\":\"#1f77b4\"},\"size\":{\"units\":\"screen\",\"value\":7},\"x\":{\"field\":\"x\"},\"y\":{\"field\":\"y\"}},\"id\":\"5b22d030-9f3b-46c8-aa62-4805a15b2170\",\"type\":\"Circle\"},{\"attributes\":{\"label\":{\"value\":\"4\"},\"renderers\":[{\"id\":\"2afe8a3b-fde7-4e6e-8ec4-2688be847a5c\",\"type\":\"GlyphRenderer\"}]},\"id\":\"ed92957f-5152-4fdf-85b9-3cb1d1078b41\",\"type\":\"LegendItem\"},{\"attributes\":{\"data_source\":{\"id\":\"d651deee-ae2a-460d-be1d-b023292a3a4d\",\"type\":\"ColumnDataSource\"},\"glyph\":{\"id\":\"4b00d740-2b64-4c58-ae14-8b519c061d9e\",\"type\":\"Circle\"},\"hover_glyph\":null,\"muted_glyph\":null,\"nonselection_glyph\":{\"id\":\"961692d3-5d9d-413b-af3a-7dd95eaa6773\",\"type\":\"Circle\"},\"selection_glyph\":null},\"id\":\"3e5fe63d-38a1-4a1a-91c9-e5c9afef99b8\",\"type\":\"GlyphRenderer\"},{\"attributes\":{},\"id\":\"0381250d-3021-4a37-971f-67972b73567c\",\"type\":\"BasicTicker\"},{\"attributes\":{\"plot\":null,\"text\":\"\"},\"id\":\"7edee319-08ef-430e-9e40-6c2e68c515aa\",\"type\":\"Title\"},{\"attributes\":{\"label\":{\"value\":\"9\"},\"renderers\":[{\"id\":\"61d151cc-1443-4377-b2a5-71fe0b5ff494\",\"type\":\"GlyphRenderer\"}]},\"id\":\"aa1ebdaf-bc54-4a07-8fc0-79d1f3f9a958\",\"type\":\"LegendItem\"},{\"attributes\":{\"plot\":{\"id\":\"b865903c-b5ce-41ea-b059-2a4b1569d610\",\"subtype\":\"Figure\",\"type\":\"Plot\"}},\"id\":\"0eddfe14-cee1-4853-ac32-f0d22dc8699e\",\"type\":\"SaveTool\"},{\"attributes\":{\"plot\":{\"id\":\"b865903c-b5ce-41ea-b059-2a4b1569d610\",\"subtype\":\"Figure\",\"type\":\"Plot\"}},\"id\":\"46eb72e4-911b-4f17-afa9-a94d42dfcbef\",\"type\":\"WheelZoomTool\"},{\"attributes\":{\"plot\":{\"id\":\"b865903c-b5ce-41ea-b059-2a4b1569d610\",\"subtype\":\"Figure\",\"type\":\"Plot\"}},\"id\":\"3a9ffd9d-7d1f-4680-849a-dbd2dc4439a9\",\"type\":\"PanTool\"},{\"attributes\":{\"label\":{\"value\":\"7\"},\"renderers\":[{\"id\":\"999d8d98-c897-40de-b76a-dbc9d54a64d2\",\"type\":\"GlyphRenderer\"}]},\"id\":\"d7fe879a-41f4-4326-819d-f45895b79e68\",\"type\":\"LegendItem\"},{\"attributes\":{},\"id\":\"e7b884f1-a7b7-4de5-91dc-c27c5c549b60\",\"type\":\"ToolEvents\"},{\"attributes\":{\"label\":{\"value\":\"3\"},\"renderers\":[{\"id\":\"d50622b6-c068-4062-baf9-03dba5688029\",\"type\":\"GlyphRenderer\"}]},\"id\":\"44f269c3-d739-4844-b205-f080761e0f00\",\"type\":\"LegendItem\"},{\"attributes\":{},\"id\":\"7b86a82a-b121-4e1f-ae71-be992129c14c\",\"type\":\"BasicTickFormatter\"},{\"attributes\":{\"data_source\":{\"id\":\"45bbea89-c56c-4eef-b115-72e19981c894\",\"type\":\"ColumnDataSource\"},\"glyph\":{\"id\":\"f331f988-abb4-4bac-baaa-3d326ad1e8af\",\"type\":\"Circle\"},\"hover_glyph\":null,\"muted_glyph\":null,\"nonselection_glyph\":{\"id\":\"fcf23350-cea8-40c0-9b8d-e664d26c8000\",\"type\":\"Circle\"},\"selection_glyph\":null},\"id\":\"58a4965f-f738-4792-aade-401eac316fc5\",\"type\":\"GlyphRenderer\"},{\"attributes\":{\"callback\":null,\"column_names\":[\"y\",\"x\"],\"data\":{\"x\":{\"__ndarray__\":\"rBlHXEf/CcCGyCC1tKwIwEAPOefK7iTAcjFoNYgIH8A7PaxS29YlwIbPu9SouCLAr2toAcNnAMAOrSFfBFsyQKTdjUT1eyTAGmKt09hlGMBeK4UpPxMmwH3bTaOE6fC/rQ4oLAmdKMDiH9IzwHEhwElljn3Z4SDA/FAFJXdxA8AL7+yEl80gwCFHY84PhOu/ivsL/ea/GsAUGnFvswklwLgXw9Xayu2/oCR+zS7nIcDwj4ARV7QawJVO71P4KRDARweJtb2CI8CJJiOSb3AnwOlvRitEtx7AvMhgO0UkJMCDtf90bnwmwP8ZlgiWEibAXydnvarLD8BLjCVD0qclwCp5au8B7fW/eOUDu+Pf87/jeDinBL4hwNqIfDSICem/Byt3ENhAH8BrCd2jyiIFwBR7LNHM/iHAD/TwNnXuIcDWKn3Hym0ewPxyB4QjOiPAyRiVj6vjFMAeAvEwZBP4v7IkQXfwqCXAI2elwbTuJMAOKsZ7iysZwKuJfRpYVyfAzwGWBM8DJ8AxNOeQIg0jwB7bMQ00xBPAsRM72/QAIMAUmdOL1Y8NwPR4uZ2gRAfAEPguPLAeKMCX3shFmJMiwGpjU8fzLxTAIpPljqJPI8BF2XXe05DAP35p9YS4EAfAJstx01+pDMCBN/SOjnIQwKy4r6/eGhfAbzFPs28EIsA9W1UDSCAbwA4XB3zB2R7A5RSTDf3bIcCnRkT2bZAfwIi0V5RwSSDAsFS7YNG99b9uaaozkHkWwDvB6LR9ixrA941tex1wIsBW6Nip9mgNwESyrcKmYyHA1GTz3ujkIcBORC9Bwm8gwFcDzR4c0yXAYKsgnLDyur9i5yyP3UUXwBm71dqdRRvApU+gl8+YFsB1ezwoqVUewHqTJncgWvq/ryTqCehaIMCLFZ6VDZUFwJjxfqe8LiPAVCtMb263J8Ci69tGdiIhwKRTLU0TNgfAW/JuiJfdJcCtbAutK3QjwI1NAPI0DCHAWYGlTZlLJcAo90cTU3wiwOAI+Zc1nCDAnQu5+ZHhFMCxxFCSsKMgwK3IMFcCoAjAvDuIlgP+IMBPSpzC4WgUwEFWr4x7OwnAfg9zv7KfH8AkR179L5AnwHzjkZ5KoR/A0AWTJI4BA8ANzCztFIUlwPWQ2BQ4lR7ArxhTkr0vJsCu6GbaFFQLQIKc39zA7h7AiMb36rgPJcBXZX5RCKIcwCYou0sm7QTA7gbc9SSPBcBWEMceUCkcwNP+g0HVQBbAeb1Sc0CBIsDQhqpg2A8lwMcwGZku/78/yqDNIvMSH8Be3ohPeqEUwP+kYATEnA3A+WvyKXLPCsA=\",\"dtype\":\"float64\",\"shape\":[124]},\"y\":{\"__ndarray__\":\"50FNnhKfNUDDIonc3ow1QG12RS709zBApXbEEDd5NEB+73yP2nA1QI8+lDzmMDVAxlNNppEIM0BvGuZzoz4UQD0oRQMR3DBACT7il+IpMUCKCnHqf3QzQKH8VOH82DRA6dIi17uDMkCLJ0qAUZ40QLL0EGg48zVAZq+Eu4vyM0D1eXJjKFs0QLw9rZ86cjNA0aMTLDEHMkDlqsmjHjYxQKNYLlfRhTRAnrIirOKnMUCg6WRW958yQKH4obRIFjRAu1guCeewMECdCReMSfgzQPbahPlbcTBAnfKRz9SfM0AqQhzwo/QzQP6d+naoKzVAN0BdMeWOM0DzdmDDYjIyQAHwAFuBqzNAl4qr71DqMkBuWWUdMwI1QDaVv45WLDNA/n/pZ958MEDUow1DMh41QIGEk2S/7jNA8IFy4WbINEASXKN3WAo1QNiHaDzzRDVAjqnd6i0nM0BV815OZGEyQLJ57pcC1jJAaYh7gA0eMEDlzSyfCNQyQKqVudg9NzRAtxKmx7RdNEB3T+2eemI0QMNZYCVbBjRAsesKTeIxMEBYj7dxjzo1QESPB61/RDRApgFP4BYwM0DrZAZm7uE0QLqDAf0aZDRAp+87H8icNED6u04cF1gyQNioljnr5DVAJTmS61DIM0Ah/3gwrSA1QKCVhFva8jFAB3Soqxm0M0AD2NKqhaUxQJtJPp4lgDNAZPfzlmewMUAQt/yjK0g1QJb3Jape7zNA2JuiYRIcNEDzUy1+Cyo2QFna9/GqdDNAYL/hthp7NUCEQm6qHaQzQNfUNdDXtDBAJLSedJvfMED4fm33QJw0QMKdkc8CKjNAa3J2ug+0MkCzqP2OhNMxQHzmr5MnbzRAiKPljwE3NEC7CAuwTNUyQMBZenBAqTNAp0OyPTHmMUBV9hPuzuUxQMG2+SDXmDFAKdrmaZ4ONEAvy2+EIvgwQDQnvNd9ljNAOK1Dk/+xMkDaikC95woxQHRH6W5ggjBAPF365Hs/MkAJWWBxDtQvQDy3/fZK9i1A36BDWXdpMUD5VgvXFL00QBeqaH6xXDNAW6LtfzxVNEA1H/yCSLM1QCbueiPWxTNAW25bq/tCL0DLCb3NijI0QCo3/KNVVzJAH1g7LmpJNECoHlWEp6IxQI3vLonl2DBAur7Zu+U1NUCNabUDrIQuQMAuZ7xwQzNASMcgwZcYMkCxxlqq2mAyQK8V4FsxOTJAXc+IP5tHNEB+u3dsHY0xQIBKrBEhLDRAW/nGuOJ3MUB5Yt3M7JovQMY1NYJdZzJA2gW7BuIQNUC9XOEJ5ic0QLmLO1cQPDVAs/pItfD1M0A=\",\"dtype\":\"float64\",\"shape\":[124]}}},\"id\":\"6833c653-d77b-4f2a-9168-09a35cd7fa4e\",\"type\":\"ColumnDataSource\"},{\"attributes\":{\"label\":{\"value\":\"5\"},\"renderers\":[{\"id\":\"3e5fe63d-38a1-4a1a-91c9-e5c9afef99b8\",\"type\":\"GlyphRenderer\"}]},\"id\":\"8806006a-a7e9-431c-b482-e2904b73b49d\",\"type\":\"LegendItem\"},{\"attributes\":{\"data_source\":{\"id\":\"3a298aef-3e85-486c-a822-8d8ba749ea13\",\"type\":\"ColumnDataSource\"},\"glyph\":{\"id\":\"10285d43-a120-4aa9-9f24-5ac28ffa46c0\",\"type\":\"Circle\"},\"hover_glyph\":null,\"muted_glyph\":null,\"nonselection_glyph\":{\"id\":\"1d84d47f-908a-444d-8a45-ba8c8cf0ba79\",\"type\":\"Circle\"},\"selection_glyph\":null},\"id\":\"b2e97d19-5b4d-4d3c-8df5-a5f760eda438\",\"type\":\"GlyphRenderer\"},{\"attributes\":{\"data_source\":{\"id\":\"6833c653-d77b-4f2a-9168-09a35cd7fa4e\",\"type\":\"ColumnDataSource\"},\"glyph\":{\"id\":\"39b8e513-f126-410c-b9ce-65c7408372e0\",\"type\":\"Circle\"},\"hover_glyph\":null,\"muted_glyph\":null,\"nonselection_glyph\":{\"id\":\"8336d1d8-68b3-4cbd-8dc8-7022be931d48\",\"type\":\"Circle\"},\"selection_glyph\":null},\"id\":\"4a6ab629-922a-4cca-9d25-6fc2b76893f4\",\"type\":\"GlyphRenderer\"},{\"attributes\":{\"callback\":null},\"id\":\"284a2067-bcc0-47b3-a4e9-a9011ea1b31f\",\"type\":\"DataRange1d\"},{\"attributes\":{\"label\":{\"value\":\"8\"},\"renderers\":[{\"id\":\"a6fa1671-46ff-4904-a75d-b3e1c7ee8798\",\"type\":\"GlyphRenderer\"}]},\"id\":\"04870eca-e5a2-4689-b1a3-bfe781ef7872\",\"type\":\"LegendItem\"},{\"attributes\":{\"items\":[{\"id\":\"51ea03b1-9398-41c5-8b57-0c12c1caf274\",\"type\":\"LegendItem\"},{\"id\":\"b1689a95-a3fc-4723-b733-838dc50d2bc9\",\"type\":\"LegendItem\"},{\"id\":\"479fa1de-d9b5-4c46-a324-a0dd27bc192e\",\"type\":\"LegendItem\"},{\"id\":\"44f269c3-d739-4844-b205-f080761e0f00\",\"type\":\"LegendItem\"},{\"id\":\"ed92957f-5152-4fdf-85b9-3cb1d1078b41\",\"type\":\"LegendItem\"},{\"id\":\"8806006a-a7e9-431c-b482-e2904b73b49d\",\"type\":\"LegendItem\"},{\"id\":\"c3452e2e-36aa-438e-aae4-7bf7fde7d579\",\"type\":\"LegendItem\"},{\"id\":\"d7fe879a-41f4-4326-819d-f45895b79e68\",\"type\":\"LegendItem\"},{\"id\":\"04870eca-e5a2-4689-b1a3-bfe781ef7872\",\"type\":\"LegendItem\"},{\"id\":\"aa1ebdaf-bc54-4a07-8fc0-79d1f3f9a958\",\"type\":\"LegendItem\"}],\"location\":\"bottom_right\",\"plot\":{\"id\":\"b865903c-b5ce-41ea-b059-2a4b1569d610\",\"subtype\":\"Figure\",\"type\":\"Plot\"}},\"id\":\"632de7ab-f72d-4cab-b234-7bba0fabd3e2\",\"type\":\"Legend\"},{\"attributes\":{\"label\":{\"value\":\"6\"},\"renderers\":[{\"id\":\"58a4965f-f738-4792-aade-401eac316fc5\",\"type\":\"GlyphRenderer\"}]},\"id\":\"c3452e2e-36aa-438e-aae4-7bf7fde7d579\",\"type\":\"LegendItem\"},{\"attributes\":{\"data_source\":{\"id\":\"5705cbda-a125-4b95-8dcc-a7a4e409bb0a\",\"type\":\"ColumnDataSource\"},\"glyph\":{\"id\":\"e34bdd34-2372-42a7-97c4-71acb03b6bca\",\"type\":\"Circle\"},\"hover_glyph\":null,\"muted_glyph\":null,\"nonselection_glyph\":{\"id\":\"75f57b6c-48b5-4d3c-9b7b-bc20eecabb2e\",\"type\":\"Circle\"},\"selection_glyph\":null},\"id\":\"d50622b6-c068-4062-baf9-03dba5688029\",\"type\":\"GlyphRenderer\"},{\"attributes\":{\"below\":[{\"id\":\"de561971-5cfb-4f3e-a4a7-a303933ba023\",\"type\":\"LinearAxis\"}],\"left\":[{\"id\":\"aeff42d5-9279-484c-8e33-ad92cff0e64b\",\"type\":\"LinearAxis\"}],\"renderers\":[{\"id\":\"de561971-5cfb-4f3e-a4a7-a303933ba023\",\"type\":\"LinearAxis\"},{\"id\":\"582554cc-769c-4e47-9cf2-1baca126df0e\",\"type\":\"Grid\"},{\"id\":\"aeff42d5-9279-484c-8e33-ad92cff0e64b\",\"type\":\"LinearAxis\"},{\"id\":\"f4204887-e43f-456d-86f5-0e67d500ed05\",\"type\":\"Grid\"},{\"id\":\"3e7713e2-c4e3-4fad-a332-a1102c07fff4\",\"type\":\"BoxAnnotation\"},{\"id\":\"632de7ab-f72d-4cab-b234-7bba0fabd3e2\",\"type\":\"Legend\"},{\"id\":\"c78ed4fd-0dd2-4855-9a0b-a81bc58f6446\",\"type\":\"GlyphRenderer\"},{\"id\":\"4a6ab629-922a-4cca-9d25-6fc2b76893f4\",\"type\":\"GlyphRenderer\"},{\"id\":\"b2e97d19-5b4d-4d3c-8df5-a5f760eda438\",\"type\":\"GlyphRenderer\"},{\"id\":\"d50622b6-c068-4062-baf9-03dba5688029\",\"type\":\"GlyphRenderer\"},{\"id\":\"2afe8a3b-fde7-4e6e-8ec4-2688be847a5c\",\"type\":\"GlyphRenderer\"},{\"id\":\"3e5fe63d-38a1-4a1a-91c9-e5c9afef99b8\",\"type\":\"GlyphRenderer\"},{\"id\":\"58a4965f-f738-4792-aade-401eac316fc5\",\"type\":\"GlyphRenderer\"},{\"id\":\"999d8d98-c897-40de-b76a-dbc9d54a64d2\",\"type\":\"GlyphRenderer\"},{\"id\":\"a6fa1671-46ff-4904-a75d-b3e1c7ee8798\",\"type\":\"GlyphRenderer\"},{\"id\":\"61d151cc-1443-4377-b2a5-71fe0b5ff494\",\"type\":\"GlyphRenderer\"}],\"title\":{\"id\":\"7edee319-08ef-430e-9e40-6c2e68c515aa\",\"type\":\"Title\"},\"tool_events\":{\"id\":\"e7b884f1-a7b7-4de5-91dc-c27c5c549b60\",\"type\":\"ToolEvents\"},\"toolbar\":{\"id\":\"10a19e19-02a2-475b-8406-3c21d8da5b46\",\"type\":\"Toolbar\"},\"x_range\":{\"id\":\"284a2067-bcc0-47b3-a4e9-a9011ea1b31f\",\"type\":\"DataRange1d\"},\"y_range\":{\"id\":\"d1d7b111-1dae-4a56-9f57-37a3f77020f7\",\"type\":\"DataRange1d\"}},\"id\":\"b865903c-b5ce-41ea-b059-2a4b1569d610\",\"subtype\":\"Figure\",\"type\":\"Plot\"},{\"attributes\":{\"fill_alpha\":{\"value\":0.4},\"fill_color\":{\"value\":\"lime\"},\"line_alpha\":{\"value\":0.4},\"line_color\":{\"value\":\"lime\"},\"size\":{\"units\":\"screen\",\"value\":7},\"x\":{\"field\":\"x\"},\"y\":{\"field\":\"y\"}},\"id\":\"e5842c0c-fd8d-44ac-b500-296899dff5aa\",\"type\":\"Circle\"},{\"attributes\":{\"plot\":{\"id\":\"b865903c-b5ce-41ea-b059-2a4b1569d610\",\"subtype\":\"Figure\",\"type\":\"Plot\"}},\"id\":\"1bea0b8d-c53e-43a2-a732-f4648495b402\",\"type\":\"HelpTool\"},{\"attributes\":{\"fill_alpha\":{\"value\":0.4},\"fill_color\":{\"value\":\"coral\"},\"line_alpha\":{\"value\":0.4},\"line_color\":{\"value\":\"coral\"},\"size\":{\"units\":\"screen\",\"value\":7},\"x\":{\"field\":\"x\"},\"y\":{\"field\":\"y\"}},\"id\":\"4addc9c8-c892-43c6-b531-a3b8cdb3ea29\",\"type\":\"Circle\"},{\"attributes\":{\"fill_alpha\":{\"value\":0.4},\"fill_color\":{\"value\":\"green\"},\"line_alpha\":{\"value\":0.4},\"line_color\":{\"value\":\"green\"},\"size\":{\"units\":\"screen\",\"value\":7},\"x\":{\"field\":\"x\"},\"y\":{\"field\":\"y\"}},\"id\":\"39b8e513-f126-410c-b9ce-65c7408372e0\",\"type\":\"Circle\"},{\"attributes\":{\"fill_alpha\":{\"value\":0.1},\"fill_color\":{\"value\":\"#1f77b4\"},\"line_alpha\":{\"value\":0.1},\"line_color\":{\"value\":\"#1f77b4\"},\"size\":{\"units\":\"screen\",\"value\":7},\"x\":{\"field\":\"x\"},\"y\":{\"field\":\"y\"}},\"id\":\"661a558d-6ef7-4be4-be81-dea7a71a8c70\",\"type\":\"Circle\"},{\"attributes\":{\"bottom_units\":\"screen\",\"fill_alpha\":{\"value\":0.5},\"fill_color\":{\"value\":\"lightgrey\"},\"left_units\":\"screen\",\"level\":\"overlay\",\"line_alpha\":{\"value\":1.0},\"line_color\":{\"value\":\"black\"},\"line_dash\":[4,4],\"line_width\":{\"value\":2},\"plot\":null,\"render_mode\":\"css\",\"right_units\":\"screen\",\"top_units\":\"screen\"},\"id\":\"3e7713e2-c4e3-4fad-a332-a1102c07fff4\",\"type\":\"BoxAnnotation\"},{\"attributes\":{\"active_drag\":\"auto\",\"active_scroll\":\"auto\",\"active_tap\":\"auto\",\"tools\":[{\"id\":\"3a9ffd9d-7d1f-4680-849a-dbd2dc4439a9\",\"type\":\"PanTool\"},{\"id\":\"46eb72e4-911b-4f17-afa9-a94d42dfcbef\",\"type\":\"WheelZoomTool\"},{\"id\":\"9846262f-183d-43e6-b278-6ac49559dd69\",\"type\":\"BoxZoomTool\"},{\"id\":\"0eddfe14-cee1-4853-ac32-f0d22dc8699e\",\"type\":\"SaveTool\"},{\"id\":\"7fe42c1c-894d-46d4-9257-35a1dc36466c\",\"type\":\"ResetTool\"},{\"id\":\"1bea0b8d-c53e-43a2-a732-f4648495b402\",\"type\":\"HelpTool\"}]},\"id\":\"10a19e19-02a2-475b-8406-3c21d8da5b46\",\"type\":\"Toolbar\"},{\"attributes\":{\"data_source\":{\"id\":\"ad35cf0c-0e5b-4100-8fa6-00ce21b69c12\",\"type\":\"ColumnDataSource\"},\"glyph\":{\"id\":\"e5842c0c-fd8d-44ac-b500-296899dff5aa\",\"type\":\"Circle\"},\"hover_glyph\":null,\"muted_glyph\":null,\"nonselection_glyph\":{\"id\":\"0abcf802-4ba5-4802-8a06-31c9673fd5de\",\"type\":\"Circle\"},\"selection_glyph\":null},\"id\":\"61d151cc-1443-4377-b2a5-71fe0b5ff494\",\"type\":\"GlyphRenderer\"},{\"attributes\":{\"fill_alpha\":{\"value\":0.4},\"fill_color\":{\"value\":\"red\"},\"line_alpha\":{\"value\":0.4},\"line_color\":{\"value\":\"red\"},\"size\":{\"units\":\"screen\",\"value\":7},\"x\":{\"field\":\"x\"},\"y\":{\"field\":\"y\"}},\"id\":\"10285d43-a120-4aa9-9f24-5ac28ffa46c0\",\"type\":\"Circle\"},{\"attributes\":{\"fill_alpha\":{\"value\":0.4},\"fill_color\":{\"value\":\"magenta\"},\"line_alpha\":{\"value\":0.4},\"line_color\":{\"value\":\"magenta\"},\"size\":{\"units\":\"screen\",\"value\":7},\"x\":{\"field\":\"x\"},\"y\":{\"field\":\"y\"}},\"id\":\"ad8b2453-bb3f-4c0e-9cd6-8cb23e16801f\",\"type\":\"Circle\"},{\"attributes\":{\"fill_alpha\":{\"value\":0.4},\"fill_color\":{\"value\":\"blue\"},\"line_alpha\":{\"value\":0.4},\"line_color\":{\"value\":\"blue\"},\"size\":{\"units\":\"screen\",\"value\":7},\"x\":{\"field\":\"x\"},\"y\":{\"field\":\"y\"}},\"id\":\"1b69f779-9065-4176-8deb-54c2cdb0abdf\",\"type\":\"Circle\"},{\"attributes\":{\"callback\":null,\"column_names\":[\"y\",\"x\"],\"data\":{\"x\":{\"__ndarray__\":\"J4593rkTIsCUDUsxhGIQQGvgiWITLyfA9XPV+/22KsDOhUI0SpkkwPb+UUUtCyLAUfI1srb2IMAsjYcmMhAkwJeYQkLxShbACYyhVaELIcCecX4T7CorQHUu1NZK2xzAEl3rezkJJcA0q8wp028hwCOHPgGcFyTAbSrs/S6eHsBLrn9HJBkewNjdyo7HBdC/3dePoJkGJsAkHwKV0rUhwHKjLXc0LiLAqmRzSLSVIsC6ApR+jLYVQGV13wAUaCjAD/b/MsEFBUBAJLmkaDEjwHNP5TCW4CrAGB7M52HbHcB+e9CH8pQmwNBPDBlpUArAq+PpNF1AKcDjgD4kd9MfwPD6mcByuR/AkOaDwPl7MkBXWLc+PJgdwFcM+vMtZR7AY20jIIPDIsCl4lmg06IlwJ5mH5mmVSLAxSlfQf2QKMDvUJIXPCIMwAQZg3jWmB3A67VpcSfJ8T/ob3NxezgnwKe9xZ1UdCfA59vRw1+2IsCZjBgmihUlwOp0O6szHRzAtogFaiJWIcD1/v3H12cVwDQ05Oi7cSfAp5alIjbfFMAZTI6vTJwjwHNbK9FMZCjArO2C0bOHJMBpoVdYyXUhwODVhXc7HyPAEUBGX5p3K8CM6Fca+nYmwNkKSC/BrB3AGdzKFjmjIcBB13ROtn0hwH5Jy4ld6iDAvFxARABcIcBRDCbKVYYnwA2AvFg4+SHAsyM8+x0RAEDUNYqdv5AowPV7iHyHPjLAWuDn5e0+IsAurRx4gVIewKe+cORr8CLA8TO5C3avH8BOeHC2VtMqwHAfQNDBiBBAXJhBDbfUKMCHS8616GMiwNv2qpYZtCjAyIP7q7ucIcDq8ujyvYQqwGpQAZ4hNCPAOG1J58U0IcC+prOwcBoqwGgvviKhIxzASorIfdVY5T+hlXfOz5/nPxIVKZdQHCXAWPip4xEtJsD5mNBmJdUmwBuVnUVkax3AoFeS3X46HcAnlGf2A7IjwDwplbPrJCfAKrZHkrpPJMACdhnGdbojwJ8nZpq01SXABFQsYD5eKMBYHx5mRucpwBVSAugAcijAtBXDaHFQJ8A=\",\"dtype\":\"float64\",\"shape\":[100]},\"y\":{\"__ndarray__\":\"+9RvMONpEUBLkTzU7NYzwM1cU9jtCyBAYsnLPgp2HUDrrOdFMLYRQPxPeBp7IRlAFd1RLNfuGUCkcXnU1dAiQEY3lRAf2BZANX/bLjVvH8B69Xq0FTErQKjQYIqCHCNATWZ4Z/yREEBNvrLJseMdwKzuz3/PJxdAvoX5RFsZEkDyKOHFfLojQF5AQLvazsY/6ffnB0h/I0BoQss6/pkbwKW82IOVL8U/rRkVq/xn0T8k4/alYF4tQOU/R5n2aSJAs7DaJltB8j84NumM2O8RQGQV04hl8xtA/6UeJ6dIIkA7zNRpLuwcQKaxXsSL6yTAg+hpZK+MIUAmOnTitYEUQMQeoXyRGhhA+xPP4vTpG0BQ6WFyMfIbQF+o1XyAyCRAg+Klgdpb179PRJowknMgQGg3BXq1kx9AoGYTaMQcIEBjP6PuMUImwEAllOlPUBxAxFJytvsY7D9/4FSSoJ8hQDPsf/rzICNACmRKqW7kEECQZLwkFp8hQDerDt+a9RBAh9rrQ0b1FkDA82K1kT0WQDzh671qYx9AYKJhCgMdH0CAAyCWwQgjQMqa9nAxLxtAmQJg4oM9H0BpJRTqrzEbQLisLbrjyvi/9kfzTfZ4IEDOIKyfWzUXQLoAuR0DlBNAKkVXchELG0AqOGBGDmIYQON2vQnR5xNAz8JiWjGJGEDklxjt8Z0SQNtm3bfxOg5AG8w1VixE779vJHHYgmEiQNIg8BRJMh7Ar0Pb2UFeHUBCIDcT8Wnmv+lVJSAENCBAJsu9ejxlF0AJd5gNglggQFP0dd8fbjLAQ5F8OoMtIkDnUFdSKlM2QPtXUSdvoSBAz1a3y5w2DECjkmEnxO8gQNcDinQe/hpA1z1jyG1BH0BHZm/fRsggQKraRRxQTBFAEihH/G7PL8B4/Ljjz9YvwE03WkfGag1AWofsLfamE0AYQ1/QOpYeQEwcm9OiwSJAKC19lcFCFkCrE0oSXDAeQK6rfsygSxRAGqlJGpMqFkAw6NuEytQTQOcSK2noPhZA69bz6/fnHkBF1/MkYLshQLdQ6gwsAyNAERfT6vLmIkA=\",\"dtype\":\"float64\",\"shape\":[100]}}},\"id\":\"3a298aef-3e85-486c-a822-8d8ba749ea13\",\"type\":\"ColumnDataSource\"},{\"attributes\":{\"fill_alpha\":{\"value\":0.1},\"fill_color\":{\"value\":\"#1f77b4\"},\"line_alpha\":{\"value\":0.1},\"line_color\":{\"value\":\"#1f77b4\"},\"size\":{\"units\":\"screen\",\"value\":7},\"x\":{\"field\":\"x\"},\"y\":{\"field\":\"y\"}},\"id\":\"961692d3-5d9d-413b-af3a-7dd95eaa6773\",\"type\":\"Circle\"},{\"attributes\":{\"formatter\":{\"id\":\"7b86a82a-b121-4e1f-ae71-be992129c14c\",\"type\":\"BasicTickFormatter\"},\"plot\":{\"id\":\"b865903c-b5ce-41ea-b059-2a4b1569d610\",\"subtype\":\"Figure\",\"type\":\"Plot\"},\"ticker\":{\"id\":\"8c51cd31-a3c8-44cd-8461-e0336ba054b2\",\"type\":\"BasicTicker\"}},\"id\":\"aeff42d5-9279-484c-8e33-ad92cff0e64b\",\"type\":\"LinearAxis\"},{\"attributes\":{\"label\":{\"value\":\"1\"},\"renderers\":[{\"id\":\"4a6ab629-922a-4cca-9d25-6fc2b76893f4\",\"type\":\"GlyphRenderer\"}]},\"id\":\"b1689a95-a3fc-4723-b733-838dc50d2bc9\",\"type\":\"LegendItem\"},{\"attributes\":{},\"id\":\"383ecda6-36c1-4403-afb6-e18fe92e8731\",\"type\":\"BasicTickFormatter\"},{\"attributes\":{\"dimension\":1,\"plot\":{\"id\":\"b865903c-b5ce-41ea-b059-2a4b1569d610\",\"subtype\":\"Figure\",\"type\":\"Plot\"},\"ticker\":{\"id\":\"8c51cd31-a3c8-44cd-8461-e0336ba054b2\",\"type\":\"BasicTicker\"}},\"id\":\"f4204887-e43f-456d-86f5-0e67d500ed05\",\"type\":\"Grid\"},{\"attributes\":{\"data_source\":{\"id\":\"1c51aa9f-10a8-4361-a173-48c7c6942006\",\"type\":\"ColumnDataSource\"},\"glyph\":{\"id\":\"1b69f779-9065-4176-8deb-54c2cdb0abdf\",\"type\":\"Circle\"},\"hover_glyph\":null,\"muted_glyph\":null,\"nonselection_glyph\":{\"id\":\"96b7e4be-6f1b-4a47-91db-cbd18bed4195\",\"type\":\"Circle\"},\"selection_glyph\":null},\"id\":\"c78ed4fd-0dd2-4855-9a0b-a81bc58f6446\",\"type\":\"GlyphRenderer\"},{\"attributes\":{\"callback\":null,\"column_names\":[\"y\",\"x\"],\"data\":{\"x\":{\"__ndarray__\":\"g1O/VqK7HUAAzQdBB7YeQEiMq4nKTxdAKrXQ7EVlE0DHrD4sF9v9P1bmNkmBOgVAtE2pfiu3GEAhIS9e2MEIQGY6BTBhLBhArnBelg+yAUALlCkZ5jMTQGC80Qms0A5Ab0yyjFgPD0BuSuUhut8YQHOI/u5SAPQ/airYiiRdH0CtvIFBqEIgQA7eXD62+AhAftN6XiRG9D/tLsOrXm/9PxVQMGBrIhVAL6IXiwfTFEBq3JpI+PURQDYV1NFa+RdAE0dh/pasEUClDCScXE4AQMRZP0/J2f0/3rCmi5TO9D9qzCs0zMD6P0hNh0nsOf4/MJ7fD8YrCkB/E/VYHX72PzFC238jGwFAhJaZE3blCEB/La6gxqwZQLNra4QeUwpATUFEIiwgKkAgwqowuaYFQMKYM016jCBABhuh7K4tEkBXNSEfeub9Px4yM+VpXwhA0NdDufRyFUBSWzOeI5kQQN8qC+vfeBFA/CGHNiu4/T9LHe07siEhQHiox1KVoxFAk/HFmvce7z+ClCLdgj79P2K7hbPPJBdABfJ/ZlluFkBV2+gdk+UdQGi/klJumwNAsJ262mNX3b9elrzrmGQTQNwZzCQVqBhARwTPeo0n5T/r4kQvaaEfQLaA5V0qyA5A/5d2zd/dMMBWRcf5KKICQASJmm5ClwpAUtZ/pDZMIUCG8TzA+t4aQLn71SkvnQpAykkMbBqt+z8nE0tpHtAYQOK6l4iOuQZAdIlZQRWpIkAbO3IR3zYVQC5Z2e4o4QFAOrrTv1clEkCpm0gC7bkWQD82Kp33oSBAWkiNJLcREEA10uVDE4keQNQ6SL/3PtI/IwEgbPSTEECefMD1GeoVQB98xlyIAyNAZGJ5oTrrFED0BHJHxLMUQMN+Bd/NPDHAgvGTaqr59j/IcXOv2tYVQDJD4xU9mRBAgcBX1X9mI0A0p5cskFT8P/j/d8ARKhFAMP6tw7FGHECbtIsCwV4gQPUTTxvJnhNAOUhd3c8AF0CcleXlhbXjP/5QURy5dwVAAMBH//32EkAKVYbu6/oVQDqy+bIWT/Y/B91qcSGrBkAZl9+CaWcMQBVSjPDbnhZACza5/dM6HUBoksHtBiwKQMAUA3VXJBpA+IDw3zrv4j98503eyt8dQA==\",\"dtype\":\"float64\",\"shape\":[107]},\"y\":{\"__ndarray__\":\"Klos2LLRHsA+Of2OW64gwKm1tL33TBzAvoGqlyDS7r8WwmskTLIjwA975/YWQBvAC/Ecvpk5JcCeJDvEs8AhwEmh9LObvh/ADkBpc1HfI8ByjnirW9cRwDv4GOXB8iLAvK89K2Z+IMDSh7EUJW4PwEVakWX5BCDAhjApQjMcIcBpQhBdbF8awPSz91RoYiDANPFSv11/A8C/odY1vTYgwKbYVpInQiDA5jzamt0/FsCv+BpsLRoiwDtTfJUP8x/A9HRT//yEE0AuGJMQegn+v4yI6Wn1ayDAWOxX0mNPJMDQK5LAj3G5PxS0kpbqHAnANkDjsrw9JMA5pTGODAEjwNiJnTMUQvS/yD0J7KDxHMAVfrTSJ+0UwIMNEAah5iTAF66iodrq/D+4jHYz28v0vysBd2MzbRjAggHNnxUiFcBWP66jewIjwFJcjJ3VDBrAY37SDKI8H8DBYfQ2PbkkwJUw/IasHBLAoaAcda0nHcDgcI1GFM8fwICg50Dl2fi/KG5ecO3Ixj/T8VwHwZkbwErKZzusnxTA9NYvr6CV8D/csPUchX0YwIaMlsFOvBrAsHLGb+cp+z+mpHaJxyXuP5EG8N97ShLAbJJ2oq18IMA22jhJGicZwL3C1v2P7QzAxo0RBvimC8DY44aRZrIjwBU0sFHJVRLAgbE6jbKLHsDMBxosPEwYwElNN6vHywbAeihT6t2ICMBfBozVdXEPwH/BIEYIZiLADeEl6yQoHcCqksx6Cq4SwKvMba8zWSDAhH264ZTrFsCZZdzZcbcLQAOyYiypcBnALaImv3nKIcCm/55i4RghwEY9XTkvDCHAhvXH6NPG6z+jPLVnB6ALwBt7Jx2gPDHA1rcY/bdtGcDcHH9+2YsfwJgG8++wTwPA6oH+/UNCIcBdmovSc1EkwAw2+I7zzQjAotZSnFKmMcB5h5MAQ8gXwFU/Cg1zBek/epOiTa17I8BhaWw74wcawFpUNJXIGiLAtHnREb5SI8DEXXxwfUIgwJqXC/K44QbAIOCpAYXgtb/2ijvFgbUhwHD+bqAU2CDAzBld+WtWIMCUkL4pCVIZwNvPONTfWSPAGKbBLLAmI8C8N2Z8fLwjwJ4uiR5HbR3AcF1W3DA1AcDTuWtJ1RIawA==\",\"dtype\":\"float64\",\"shape\":[107]}}},\"id\":\"ad35cf0c-0e5b-4100-8fa6-00ce21b69c12\",\"type\":\"ColumnDataSource\"},{\"attributes\":{\"callback\":null,\"column_names\":[\"y\",\"x\"],\"data\":{\"x\":{\"__ndarray__\":\"P4QDaQsiJECgsT2KvyEjQPQxwRAJARhAunVjuI4A/b8MId7ikRsgQMKyZN+cwBhAA7FdZhjhIUCDfvAIi+cpQBI8DP19NiFASJqq3UbBGEBzBIFJonYhQCPJwzDkrx5AjLgj1UX8HkDizzrXibkmQE89f3yWjyhA42H/DxjXHkBaZTuUd0ElQJ7Eem1bTCdAj6+QYhbYJEDbeBHL8qMEwJT5UFOD+iJASxidQVNZAcCz5LnpNFIgQPFUAGUHryRAzAoOG9y9GUCUAnsW5JgnQAGUKOVLoQNAjAYA0+ZcGkB7Ehu1bFcoQH5V5XfYeR9AKgVS8+upFUAE5da8lVkfQM0ZBmreex5AwsqN9f4oI0AbHESKBa4iQC/Z/g3+uCVAUKIe2DfMH0AZi2ordVgXQDh3QPoRnSNAgPleTOd4H0C/dKNBsdchQHBlV0DZnh1A1uQxqct1IkBUOl8RGM3/v8XlVbrpdSBAl1hdPoIKIEC9eSOM6o8hQBrVwqX1ChxAc+0Cs3b5AkDluVAAwgYnQGfDm8rMdhpAPXNSjRDfIEAaxD4MjP4ZQFHXfyPCVhBANTbh3tVoKUDldFXbrigcQFGRzkI5Kh5AUVvzKFY0IEAzLPqA6qP3v77PkywtLxRA0UkPRQUoJ0A2/WhNU0EnQNnL/SbaFyFAq0G3o0CMJEDVT7zTZHweQAgmD1eZWSZAt9Fp4ZWjIkD8zHIYVwUgQHse8ZLOiBtAg6rc6QunJ0DHUC7nEgspQBNEZeVxhyRAUS8BPmB1J0CzNxDLqd8gQFLWis5EYiVAd8YTG9VnG0DIkdxxtgkiQJxwW1Xeyh9AC6Sfk7rnIEASt3NbndciQNfJ5rtz3CRA\",\"dtype\":\"float64\",\"shape\":[81]},\"y\":{\"__ndarray__\":\"IsTD3ju6C0CA7aP6DWkUQMI+Tuh44CBA+BddXtC7/T/ixL9WSk8qQMa9nLUQhh5A4W7YG3LWJEBtEOvaIEYRQOtubdeQXSZAg5dydtDhK0CxExXDJA4mQCJ5nwdcyR9AdUwvlrbgGkAZg02edT4VQMPXiIqI4gtABKuKP3aQFECfRV6A8SAIQFrlvoHsuAdACi5wXiPHBEA2vgka2YQXwBmV5BVJBhhAmweiQr8S9T+dmSPlEBQjQOkIe3WazQRALCyIMD5UIkC2iSHfVZINQGK+RuHhA/8/dTjKOOW6H0CssgTPW2wRQBx4HqUpIAZABDB/NLheIUDLPuhxn7AfQB03yHQm4yBAKjWWXOTGFkC8ImqQt1cZQIWZfEKtCBBA105yWMp/JkCaso2MrhMrQCBvxI2TBxRAX/lPLkvEGkCvThl/iNgIQCMOwvqkFShAXtxXieTQC0Cgk6LbMBWUPy+DJFdHASRA3t5zdaaIBkC+H8Uy8ywzwMGpPST1QipA+obC0X63E8ALywpa3BUPQODn8HSZqSFATzB7anbqE0BKya6+e1MiQMtUg0iu3xtARxUTyG84BUDheBQJEQbbP+IJ6mg0WBlANR0Q7t8SBkDv/qj96lgSwIXEX+BbpiVAV3ri0Jb4BEDQIFcD2aAQQCENo1aXKB1AIPhiK2rZE0DsCt6ZEOwkQB6EvTtkuANARQvRAL5gH0DuK/71VKYpQCNG+ZK4gCtAhW7QnSoO/j+aX47s+5oFQJW2JSz5dBVAxUYLB07+CEBd1OeUYTMIQCjA0hKiugZAB7uuOTCaI0Apa67tFKsywOtxyiHSOiFANg8intaCJEBFru0KjK4ywDQelGuKGwxA\",\"dtype\":\"float64\",\"shape\":[81]}}},\"id\":\"d651deee-ae2a-460d-be1d-b023292a3a4d\",\"type\":\"ColumnDataSource\"},{\"attributes\":{\"fill_alpha\":{\"value\":0.1},\"fill_color\":{\"value\":\"#1f77b4\"},\"line_alpha\":{\"value\":0.1},\"line_color\":{\"value\":\"#1f77b4\"},\"size\":{\"units\":\"screen\",\"value\":7},\"x\":{\"field\":\"x\"},\"y\":{\"field\":\"y\"}},\"id\":\"0abcf802-4ba5-4802-8a06-31c9673fd5de\",\"type\":\"Circle\"},{\"attributes\":{\"label\":{\"value\":\"0\"},\"renderers\":[{\"id\":\"c78ed4fd-0dd2-4855-9a0b-a81bc58f6446\",\"type\":\"GlyphRenderer\"}]},\"id\":\"51ea03b1-9398-41c5-8b57-0c12c1caf274\",\"type\":\"LegendItem\"},{\"attributes\":{\"fill_alpha\":{\"value\":0.4},\"fill_color\":{\"value\":\"cyan\"},\"line_alpha\":{\"value\":0.4},\"line_color\":{\"value\":\"cyan\"},\"size\":{\"units\":\"screen\",\"value\":7},\"x\":{\"field\":\"x\"},\"y\":{\"field\":\"y\"}},\"id\":\"e34bdd34-2372-42a7-97c4-71acb03b6bca\",\"type\":\"Circle\"},{\"attributes\":{\"overlay\":{\"id\":\"3e7713e2-c4e3-4fad-a332-a1102c07fff4\",\"type\":\"BoxAnnotation\"},\"plot\":{\"id\":\"b865903c-b5ce-41ea-b059-2a4b1569d610\",\"subtype\":\"Figure\",\"type\":\"Plot\"}},\"id\":\"9846262f-183d-43e6-b278-6ac49559dd69\",\"type\":\"BoxZoomTool\"},{\"attributes\":{\"formatter\":{\"id\":\"383ecda6-36c1-4403-afb6-e18fe92e8731\",\"type\":\"BasicTickFormatter\"},\"plot\":{\"id\":\"b865903c-b5ce-41ea-b059-2a4b1569d610\",\"subtype\":\"Figure\",\"type\":\"Plot\"},\"ticker\":{\"id\":\"0381250d-3021-4a37-971f-67972b73567c\",\"type\":\"BasicTicker\"}},\"id\":\"de561971-5cfb-4f3e-a4a7-a303933ba023\",\"type\":\"LinearAxis\"},{\"attributes\":{},\"id\":\"8c51cd31-a3c8-44cd-8461-e0336ba054b2\",\"type\":\"BasicTicker\"},{\"attributes\":{\"callback\":null,\"column_names\":[\"y\",\"x\"],\"data\":{\"x\":{\"__ndarray__\":\"UqQWKbNDMcCYJHvNB6YzwJLJt9iWPzTA1BKyllA+MMA165ZAS9AtwDnKW91avSvAzl152jpALsB8bPn/kE4wwAxGECMIaTDAKpB5EdLSMsCjJCssYTguwAHfxG5BJDLAdQX1HcfZK8D8N3MZZPUswCye8qVPJTDA6Ta4ctDXMMAYPXWQueczwDvCPvl+OzDAFNrODJOCMcCUUbldgrInwHcYOziX9jHA9f6W7Lm6MsBkDvcshFIwwANnnDvlNDPAtp9qlqc7McDzRkU/EUEUwLp0kHKnkzHAYAvF6g5jMsA8hivvbDz+v8G7qFikxzHAhATdQlKoMcBeBT3n4ZAvwEkx6u+b9jHAuDgQEE72MMCQsyWaBg8xwN9Md6Z+fi7Auxg93tBrMsBH4a07kWErwE4dLz1H/C/AxiEfQ9UkLsBQOL7ui/UywMz3Q9F7wjLACl0sRV0fL8CXnucG6wgTwCIhq+R5rTHAN+JYmWiPK8BKGRM0fqwzwK+h6ZpNsTLADWVv75O9K8AG2utMug4twDAVXd1U2TPAcO+pIbCyLcCAU2ImJckxwLMJS8tkqzDA0r9ZJT/rJsCdIAWK/uMBQLpTPOOtnSfAZFPPb/etKsArakX8mXcVwDp8OurM5BHARPlw1OO1M8Cw7Zd7n2IuwINQ4nEc8zLAEdzyNZFVMMBQVWr2i0wxwNGERBgIYDPAr5c8zAjEMcAsmrUUFkUuwO5tIuFE/THAV1HonVxWMMD0XrAQ7SQzwDkdKIgRtzLAdy+QcmcjLcBQ9U3CUbv9v2kEYFmz1S7Awt4PO0nzEMBdhS298kMzwBJ0TgQha/Q/dJkJFolYMsByDZGZargxwN7MjqUiXifAOncucYhbMsAeJRRT5U8xwJIUPnpXpy7AJTiLj189MsAPCS/M0jwowPzclKuPGBXAmdMi0akbMcArz/Br0KEwwJmacT+zMTDA0FX1210PMMBxSztNwuojwHAeImQGxQPAqcUtN65WM8DSAiqL5skrwIlorM84DS3A20XUYhm0LcCWxl3nNUQtwJ4U659sRzHAS2d3l9B5LcCFXQqtubMzwGlVM+KqITDA302jubF/MMCqsMuC3h8swJpFkm9/+TLA/pyTrAB5MMCNqULUxP4VQCJ+LIDS9BXAUL94Gym2KcCMdxR2z4ExwIVxfvcRtjPA\",\"dtype\":\"float64\",\"shape\":[111]},\"y\":{\"__ndarray__\":\"BLWU06ZVHMAG/3OT8oAQwBfwCW7g2xLA1bZ8GL7TFMALGuNAAKQEwMNaPnE2aBnAqnjYmUaF8b9sqNSX/VaKPyF8bwEIrRbAgPnfRkisg78WuET3BosVwIWMK+cGrQDAsAEGylHlFcBhGOd9n2sbwOUApFK4yhnA6sCWoEBw/b8USa22FO8RwOJ5ziKsk+C/5mhMys9H978jbMz7jiEVwDqk3w+yaRDAXozAgQFAGsBEC5Dev3cIwKvJk8OfMBDAJZjDpEKlF8CpT1bRmSABwJZntOszpd+/mQ4Bjlp0CsBH4Dr4h3Xav6Fy6IHmtwbAxb+Co1AHFMB6AX9o4WoIwOj4swBULgnAdEqtWWMyAMCU4ozfbt4ZwIhpVumwAhLAGxni5d/u17+zV2oJyQoXwKFHweXzGwPAaP/vAgsW8L+57M2iEZz5vwiqzRorqOu/j7HwP4uiFcAzcIKq3Vvnv8bhRHMn9wfA/pTOIrwUFcCAR0tTM+0EwHMGRS9sEwfAPlycMdF6FsBT9l26nIMSwCK8hcgpuQXAZjDrSd7oDMCo3tzwsV0KwDC1iQrpMSHA6C8DoKlHB8AFPVLQq2Dvvwg1vAlLURbAIkfiXKESD8AkwkQi8ykBwFNKiOw8yDFAWFjVsO9CFcAnPsww+NoRwCSoQA00MhrAmQPoZH+jFsCTJLLPZxTmv/JejjlhBhbAbvKqci58+j8n9duOUMcKwG3DnmxKxRLAHEinUkPGE8CDBc3n0TgMwK5Kk4Z7/xTA3wiAhlu48b/wlhXQAvjQv9Zpi+aizhnAQOk1wedHyD+eS1fi5fQTwM275VXIWvC/ZnOfCMVcFcBpiYN6uycdwEPLBuWkUQjAu6jVnTLvDcDajnbGFHbFv4Nip9W1mhTAc2EaEpX+CMCnBDkKHL0YwCpqHdMuWfq/PE6lnn+S97/aDQFpsQoQwMjNn/QQphPA4FLyULtl1r9Sc/2pcsgBwCaJQSjvmuI/NEbMDji3EMAGapnMRt/wvzE2Gg6uePC/XMiea/AFA8CfVee6vvPqvzXIywPpDQnAuLo3eaQ4EsCvavdhG7MBwOBNJDGqCBjAkMJJMZWZEcCSlSzCAAsZwDBY7LgEtri/FFAA8ogBGMB/v9zW2XMsQAvpLgQm8QLATC+/XX+AE8BfQEc3lNoSwJPcxpx22hXA\",\"dtype\":\"float64\",\"shape\":[111]}}},\"id\":\"ba216e52-be76-4db2-8352-ebe09293b50b\",\"type\":\"ColumnDataSource\"},{\"attributes\":{\"fill_alpha\":{\"value\":0.1},\"fill_color\":{\"value\":\"#1f77b4\"},\"line_alpha\":{\"value\":0.1},\"line_color\":{\"value\":\"#1f77b4\"},\"size\":{\"units\":\"screen\",\"value\":7},\"x\":{\"field\":\"x\"},\"y\":{\"field\":\"y\"}},\"id\":\"1d84d47f-908a-444d-8a45-ba8c8cf0ba79\",\"type\":\"Circle\"},{\"attributes\":{\"fill_alpha\":{\"value\":0.4},\"fill_color\":{\"value\":\"yellow\"},\"line_alpha\":{\"value\":0.4},\"line_color\":{\"value\":\"yellow\"},\"size\":{\"units\":\"screen\",\"value\":7},\"x\":{\"field\":\"x\"},\"y\":{\"field\":\"y\"}},\"id\":\"4b00d740-2b64-4c58-ae14-8b519c061d9e\",\"type\":\"Circle\"},{\"attributes\":{\"data_source\":{\"id\":\"da6256f6-6da5-480c-8f85-aeecc6a6c7d2\",\"type\":\"ColumnDataSource\"},\"glyph\":{\"id\":\"4addc9c8-c892-43c6-b531-a3b8cdb3ea29\",\"type\":\"Circle\"},\"hover_glyph\":null,\"muted_glyph\":null,\"nonselection_glyph\":{\"id\":\"5b22d030-9f3b-46c8-aa62-4805a15b2170\",\"type\":\"Circle\"},\"selection_glyph\":null},\"id\":\"a6fa1671-46ff-4904-a75d-b3e1c7ee8798\",\"type\":\"GlyphRenderer\"},{\"attributes\":{\"plot\":{\"id\":\"b865903c-b5ce-41ea-b059-2a4b1569d610\",\"subtype\":\"Figure\",\"type\":\"Plot\"}},\"id\":\"7fe42c1c-894d-46d4-9257-35a1dc36466c\",\"type\":\"ResetTool\"},{\"attributes\":{\"callback\":null,\"column_names\":[\"y\",\"x\"],\"data\":{\"x\":{\"__ndarray__\":\"giw6GmMcAMD7Abc8MIUfQMqrbA4nvyJAwA1Sze9RH0CjHNthyXAYQG01Hkg76CFAFu6krkYoIEBxtb/timoSQNDLndAjtwbAYx3CXwdFJECBKBYKAZgjQMY2/iMMlBxAvzzpHn7XC0ARHlnaiSwjQLoc3RJtmiFACSQOM3lpIEDIYDkDz2gYQHgepIbKW/G/uDQ7oRhVEEBwJq/sC+MLQAbZRsrSax5AJDVUEhX7GkD/bplDVPoXQPhfBYM2QxRAvSnFVBpBF0DBk7LXocUcQImpJJ85tgDAmxr6MkQ/IEA7mRjSj5AfQNL7B6oqMBJAXIO+uUL8BED3KAdGWzMkwLVXkXRECxtATDtv7aDDI0BliZjmVqUYQDBZfE2HbAPAPCt1EmpsHUDF3Bg6rx/6vxj8aygu1gXAju9miKJwGkB+V9wbEUMfQLQwMUrBCyBA7PahaQBkCEAgrSo/zWf4v37+0PeGGAPAC3qoqIZlHEDKxkTbfSIaQK59ZrFx8h1AOCeh+2moE0Df2xGdPz4WQEQ7Gmjt8xRALUFUqYhC/j9DbaLNcvQBwEUODmjAq/i/EHA47M9WGkAR0Ic/AvEdwPvbpJsAoilAqHQWyE/wEEA0bqaRWrwiQPKbkr7JgBxA+gw7LXqOEkCTNQkme8P3v7BsnlwDvBRAouWLP3yhBEBKjj6mCpAOQNNV+5kxNiTAKQaL1kXmEUAAnBe/hcoUQJmxVbZhRAPAq7Zs5v6KGkA4M+2GRGwIQG9V7lOG3xZA/gRw1GBUIkA1r4xOJIYaQBkGzVXWbR5AjFKtaz8AF0BkVBQlFJsiQGozVARkZhxA+yVhyr3WHEBaKxGEYnUdQHVEEScwLSdAARuRT62c/r+pGON3O6YPQMotTttW3A1ANLaIqfqTI8BEzGQsJp4HQFO7nyNUrAXAL/zutUp++7/hp6dirdUAwBx+kxZJJRlA\",\"dtype\":\"float64\",\"shape\":[90]},\"y\":{\"__ndarray__\":\"+4ASwa+lFsB9u4DrIlEwwIPUWDO9yzLAYTC4KCJvLsABTZTKtE4xwFgDxqaQsjDAU26fEYHQLMA5sfNdyRstwGzh4lc2PRDAGtIoKv0CL8CijiLsCwsuwJBwaTHACTDAkQz93ZnlL8Cm5WR676UvwCUYfkPmgC/ALspMV1c/McALOjaVy3YywKDQp/xbngjAp9SDrPYjMcCWEDtQ4gExwGJNQxtJjS/AcynB0fipLsD3ZkJbnV8wwBXF/Haf0zHA8FxqXPv6LsAGXHCAya8zwEgPeJSwiQzAaLX2uQBdMcB3HVk/mRMwwDe35KCkdTLAYv5THmScMMCeP8WgVz4sQJRx6xAdny/AfKk77elYLsDdNZ+PXKIywH25SQxbFRDAA0JuPs3NM8B9EtCmJ2YUwDILkZxjPRfAm410raFwLcB9ldjkbQswwPvcHBo2STPAk6wLz/69McAloYQMFxMQwNUHwHP5xA7APa8G0X6tMcBi8UjUBLguwN8HxVVevDDA/85fNMwPMsBdUUXQrzouwC9WLLmovTDA2cjnaiSYKkDs5t4TwZwCwKMTdoUdIAHAHcnIeFAlLcAg27MTiB/iv11YKHCnzxBACVcddB6bLsB5u+IXMmMwwGFnn54vszPAwjbTWnE/LsAfSWBU/54JwNokC0gFqjDACUB3+GFmL8BrZ6XUjVgwwI6XfrWoZSxAtgZ0IlhQMsAVcbAvmbIxwCHmWdY8WBHAdm1+QIkkMcDMCjI4CP8wwB9CWVuRCS7AYyFV428vLsCLBC9RzCcwwC6wVyxuYi7AudT3WwPbMcDcVXraAWouwENAeY80cjHA0syujL1yMcDNNlI/lD4wwDtTXKNzPRdAsC4dwtEjGMCzMZ1qweIvwIi6hfUvFjDARcM9MQuBAMD1iw5xpocvwKrFSLyRORfAm/TJq2gdAsCvh2Fw7TMDwMI5VXbVfjDA\",\"dtype\":\"float64\",\"shape\":[90]}}},\"id\":\"5705cbda-a125-4b95-8dcc-a7a4e409bb0a\",\"type\":\"ColumnDataSource\"},{\"attributes\":{\"fill_alpha\":{\"value\":0.1},\"fill_color\":{\"value\":\"#1f77b4\"},\"line_alpha\":{\"value\":0.1},\"line_color\":{\"value\":\"#1f77b4\"},\"size\":{\"units\":\"screen\",\"value\":7},\"x\":{\"field\":\"x\"},\"y\":{\"field\":\"y\"}},\"id\":\"fcf23350-cea8-40c0-9b8d-e664d26c8000\",\"type\":\"Circle\"},{\"attributes\":{\"callback\":null,\"column_names\":[\"y\",\"x\"],\"data\":{\"x\":{\"__ndarray__\":\"ZoLcsWsWKUBkVDDh5/ksQCKF5JIabS9AVuw2OfA5HUBicaEM1+wtQIL0IpuWrxFAYtEVAYoSGsDbyGI3KoMvQHtCyJPJ1TBAfvWuJRJXLkAJo5h0Nz8xQDm5Ij2IuytASdUdjQ1LLkCRKDJg7AEtQFI96kvYeS5AAbbsWLZBMECq+b5qr+YqQKNMMte7JSpAX/aHFuI4KkD0KFQfzwUvQKr0d2DULTFAjqcHneAOMUBfEwA1S2AxQOczlhnR3zFA65uQfz8RKkCfurlgTrnyvzvjJfUqAjBAZcHGmmgvMUAmHS+fCSMwQDzuKDGLoTBAqp53DdQ/MkDFf38DbyAwQFgbg5As2ylArzIE76TPMEDV17vOR98sQNliOzXh3QzAJwiWJTB4LkBH9b2cesssQIvSX65Jei1Am6IP9bcKMEC8NhK3bAYyQDv97i6SbTJAXXtwEafFKUCjuOhuFdcuQO7qUhjEsytAK5obdkeUK0AAEgUrAaAqQJHoTmAaaSdAWwpivC6/K0CfAUeMafcvQJ92IUySOzFAgyQsie5zK0CmCr6Lc7AuQBmJZeochCpA1Y6GI82BKUATul5bgkgsQDtSoxMhYhrAitrtWgr8JEASf7fOQS8yQEh6+P6dFgrAU6jBqjE/LEDrDspIw00tQDkffkT5TzJAermvrUmPFECNfoNaXuUwQIQF2gDWNzBAdI3JNXQ+LUDaID0zuTQrQLeFjKesiS5AjxADTIPGIkAG2R+YekgnQHoV68jHlixA//W9gnkoGEAhmytsadAuQI/lv+DS0SdAoZI0a/+DK0B6kMmAWjgrQKtI2XvBrCZAMvmrwoSSLED8qd9JznUrQBM3LgbiiSlA78Y82DwBMECkYmcTHHEpQKO83CmMGTJAXwTPeA0aGUDdt5sb0K0eQNyIPCvhHzJAA4Uzq2rcLkCBUO8pEF0wQNUcbqov6i5AWg47EjeFHUB7AymAUx0wQF1wFtkF5CZAWQH0ZmeqKkDdab5TYUAuQJ1xUAk6BjFA\",\"dtype\":\"float64\",\"shape\":[96]},\"y\":{\"__ndarray__\":\"0EuoQSsWKUDO9Th/l4EsQMdmjVl4dyFAs/MKkN2UF0AyOG3C3i0sQP5P/58eaiRAHvXVY0drCEDuzpOW5hUeQNy+W/xwXyBARPxP+5qLKkBGXWIxHNUkQCk/T3RJciNA5scEYl9xLUAHCFk/RpUpQPKuMMsZLSZA2fOGnca+IUAYH8ArWrgnQIjveoO1tSVAM2l5d6UJIkBumCPUon8lQDoBCvUXBhxAHvrl+1SrG0AmgDGSGd0dQMcd78vDlSBAV2uNjjbHJ0DFPzpPooUGwOKT1O8NwCdAdmmGRcZ7EUAwpFpnImIWQM5DBrtk8yFApN8ZuY+/GECTodKVS8IUQPH2qPwAvypAbsUttt2KIEDrbBRjetkLQNj+Ir01LhHACepLgOdaI0ACB2qEKOwsQHwNM7POEClA/gyMOZmQIUDx/3y5AWwXQHMgqa1d0iFA8F5ztx8nK0Do2Uy0CbAeQBUXKJD+mhtAgeIY2IlcJEDQNrejlekgQDfSGS8WlyJAzVZZvA4MJEAtJ91vriwgQBjya5UvICRAj31/ZnvTJEBYMGi0SNMoQBp4h5aU0yBA7IlDZiHpKEDfZHgtISApQCW8eXRrUwlA6RuGCK5qKUCJECvWxVEbQOnObB/efSzA6WoKCUfULEDbJA1sIyknQIZCJNKysSFA9EUNBxuYH0DFypDRvjceQI+Fom66BSBAEq/xPgskJkBVHaclAhgbQE9udUB3KSlAm/X92vb9JkBdNgMvJqEiQH0Auj/t6ChAKLXLAAlcHUDU6jk0e/YoQM7M2QF10ylAnhdKA3pgKEBpHWDgXJMoQGUnKLmd2ilA6ammH+OcKUB3R8QkEK8nQNMoo8pOESxAG0ftzfZHHEDmcIv9EMUqQLQBWAgVPBNAsEB79PMCLEB9AnggpcgqwOID7oxaWB9A5gxItGwcIUAjNL/lbgMiQMn3TmOWwiZApKKvQZWlE0DacjrVspwnQHa6/5BbmwNAL+motw6kJkDNPBVi2KskQArPJV1V5BlA\",\"dtype\":\"float64\",\"shape\":[96]}}},\"id\":\"da6256f6-6da5-480c-8f85-aeecc6a6c7d2\",\"type\":\"ColumnDataSource\"},{\"attributes\":{\"plot\":{\"id\":\"b865903c-b5ce-41ea-b059-2a4b1569d610\",\"subtype\":\"Figure\",\"type\":\"Plot\"},\"ticker\":{\"id\":\"0381250d-3021-4a37-971f-67972b73567c\",\"type\":\"BasicTicker\"}},\"id\":\"582554cc-769c-4e47-9cf2-1baca126df0e\",\"type\":\"Grid\"},{\"attributes\":{\"label\":{\"value\":\"2\"},\"renderers\":[{\"id\":\"b2e97d19-5b4d-4d3c-8df5-a5f760eda438\",\"type\":\"GlyphRenderer\"}]},\"id\":\"479fa1de-d9b5-4c46-a324-a0dd27bc192e\",\"type\":\"LegendItem\"},{\"attributes\":{\"fill_alpha\":{\"value\":0.4},\"fill_color\":{\"value\":\"black\"},\"line_alpha\":{\"value\":0.4},\"size\":{\"units\":\"screen\",\"value\":7},\"x\":{\"field\":\"x\"},\"y\":{\"field\":\"y\"}},\"id\":\"f331f988-abb4-4bac-baaa-3d326ad1e8af\",\"type\":\"Circle\"},{\"attributes\":{\"callback\":null},\"id\":\"d1d7b111-1dae-4a56-9f57-37a3f77020f7\",\"type\":\"DataRange1d\"},{\"attributes\":{\"fill_alpha\":{\"value\":0.1},\"fill_color\":{\"value\":\"#1f77b4\"},\"line_alpha\":{\"value\":0.1},\"line_color\":{\"value\":\"#1f77b4\"},\"size\":{\"units\":\"screen\",\"value\":7},\"x\":{\"field\":\"x\"},\"y\":{\"field\":\"y\"}},\"id\":\"75f57b6c-48b5-4d3c-9b7b-bc20eecabb2e\",\"type\":\"Circle\"},{\"attributes\":{\"fill_alpha\":{\"value\":0.4},\"fill_color\":{\"value\":\"purple\"},\"line_alpha\":{\"value\":0.4},\"line_color\":{\"value\":\"purple\"},\"size\":{\"units\":\"screen\",\"value\":7},\"x\":{\"field\":\"x\"},\"y\":{\"field\":\"y\"}},\"id\":\"fb675052-09f3-4302-aab8-cf62d3f45bc5\",\"type\":\"Circle\"}],\"root_ids\":[\"b865903c-b5ce-41ea-b059-2a4b1569d610\"]},\"title\":\"Bokeh Application\",\"version\":\"0.12.5\"}};\n",
       "            var render_items = [{\"docid\":\"0a107901-21f4-414c-8b60-0314827c77c9\",\"elementid\":\"e90df1a2-e577-49fb-89bb-6e083232c9ec\",\"modelid\":\"b865903c-b5ce-41ea-b059-2a4b1569d610\"}];\n",
       "            \n",
       "            Bokeh.embed.embed_items(docs_json, render_items);\n",
       "          };\n",
       "          if (document.readyState != \"loading\") fn();\n",
       "          else document.addEventListener(\"DOMContentLoaded\", fn);\n",
       "        })();\n",
       "      },\n",
       "      function(Bokeh) {\n",
       "      }\n",
       "    ];\n",
       "  \n",
       "    function run_inline_js() {\n",
       "      \n",
       "      if ((window.Bokeh !== undefined) || (force === true)) {\n",
       "        for (var i = 0; i < inline_js.length; i++) {\n",
       "          inline_js[i](window.Bokeh);\n",
       "        }if (force === true) {\n",
       "          display_loaded();\n",
       "        }} else if (Date.now() < window._bokeh_timeout) {\n",
       "        setTimeout(run_inline_js, 100);\n",
       "      } else if (!window._bokeh_failed_load) {\n",
       "        console.log(\"Bokeh: BokehJS failed to load within specified timeout.\");\n",
       "        window._bokeh_failed_load = true;\n",
       "      } else if (force !== true) {\n",
       "        var cell = $(document.getElementById(\"e90df1a2-e577-49fb-89bb-6e083232c9ec\")).parents('.cell').data().cell;\n",
       "        cell.output_area.append_execute_result(NB_LOAD_WARNING)\n",
       "      }\n",
       "  \n",
       "    }\n",
       "  \n",
       "    if (window._bokeh_is_loading === 0) {\n",
       "      console.log(\"Bokeh: BokehJS loaded, going straight to plotting\");\n",
       "      run_inline_js();\n",
       "    } else {\n",
       "      load_libs(js_urls, function() {\n",
       "        console.log(\"Bokeh: BokehJS plotting callback run at\", now());\n",
       "        run_inline_js();\n",
       "      });\n",
       "    }\n",
       "  }(this));\n",
       "</script>"
      ]
     },
     "metadata": {},
     "output_type": "display_data"
    }
   ],
   "source": [
    "p = figure(plot_width=600, plot_height=600)\n",
    "\n",
    "colors = [x for x in 'blue-green-red-cyan-magenta-yellow-black-purple-coral-lime'.split('-')]\n",
    "colors_map = colors_map[:1000]\n",
    "for cl in range(nb_classes):\n",
    "    indices = np.where(colors_map==cl)\n",
    "    p.circle(X_tsne[indices, 0].ravel(), X_tsne[indices, 1].ravel(), size=7, \n",
    "             color=colors[cl], alpha=0.4, legend=str(cl))\n",
    "\n",
    "# show the results\n",
    "p.legend.location = 'bottom_right'\n",
    "show(p)"
   ]
  },
  {
   "cell_type": "markdown",
   "metadata": {},
   "source": [
    "#### Note: We used `default` TSNE parameters. Better results can be achieved by tuning TSNE Hyper-parameters"
   ]
  },
  {
   "cell_type": "markdown",
   "metadata": {},
   "source": [
    "## Exercise 1: \n",
    "\n",
    "### Try with a different algorithm to create the manifold"
   ]
  },
  {
   "cell_type": "code",
   "execution_count": 75,
   "metadata": {
    "collapsed": true
   },
   "outputs": [],
   "source": [
    "from sklearn.manifold import MDS"
   ]
  },
  {
   "cell_type": "code",
   "execution_count": null,
   "metadata": {
    "collapsed": true
   },
   "outputs": [],
   "source": [
    "## Your code here"
   ]
  },
  {
   "cell_type": "markdown",
   "metadata": {},
   "source": [
    "## Exercise 2: \n",
    "\n",
    "### Try extracting the Hidden features of the First and the Last layer of the model"
   ]
  },
  {
   "cell_type": "code",
   "execution_count": null,
   "metadata": {
    "collapsed": true
   },
   "outputs": [],
   "source": [
    "## Your code here"
   ]
  },
  {
   "cell_type": "code",
   "execution_count": 2,
   "metadata": {
    "collapsed": true
   },
   "outputs": [],
   "source": [
    "## Try using the `get_activations` function relying on keras backend\n",
    "def get_activations(model, layer, X_batch):\n",
    "    activations_f = K.function([model.layers[0].input, K.learning_phase()], [layer.output,])\n",
    "    activations = activations_f((X_batch, False))\n",
    "    return activations"
   ]
  },
  {
   "cell_type": "code",
   "execution_count": null,
   "metadata": {
    "collapsed": true
   },
   "outputs": [],
   "source": []
  }
 ],
 "metadata": {
  "kernelspec": {
   "display_name": "Python 3",
   "language": "python",
   "name": "python3"
  },
  "language_info": {
   "codemirror_mode": {
    "name": "ipython",
    "version": 3
   },
   "file_extension": ".py",
   "mimetype": "text/x-python",
   "name": "python",
   "nbconvert_exporter": "python",
   "pygments_lexer": "ipython3",
   "version": "3.4.3"
  }
 },
 "nbformat": 4,
 "nbformat_minor": 1
}
