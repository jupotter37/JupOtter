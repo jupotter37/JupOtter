{
 "cells": [
  {
   "cell_type": "markdown",
   "metadata": {},
   "source": [
    "# Correlation function of DR72 SDSS VAGC Catalog"
   ]
  },
  {
   "cell_type": "markdown",
   "metadata": {},
   "source": [
    "First import all the modules such as healpy and astropy needed for analyzing the structure"
   ]
  },
  {
   "cell_type": "code",
   "execution_count": 1,
   "metadata": {
    "collapsed": true
   },
   "outputs": [],
   "source": [
    "import healpix_util as hu\n",
    "import astropy as ap\n",
    "import numpy as np\n",
    "from astropy.io import fits\n",
    "from astropy.table import Table\n",
    "import astropy.io.ascii as ascii\n",
    "from astropy.io import fits\n",
    "from astropy.constants import c\n",
    "import matplotlib.pyplot as plt\n",
    "import math as m\n",
    "from math import pi\n",
    "#from scipy.constants import c\n",
    "import scipy.special as sp\n",
    "from astroML.decorators import pickle_results\n",
    "from scipy import integrate\n",
    "import warnings\n",
    "from sklearn.neighbors import BallTree\n",
    "import pickle\n",
    "import multiprocessing as mp\n",
    "import time\n",
    "from aptestmetricdt import *\n",
    "from aptestmetricdz import *\n",
    "from scipy.spatial import distance as d\n",
    "from apcat import *\n",
    "from progressbar import *\n",
    "from tqdm import *\n",
    "from functools import partial\n",
    "import pymangle\n",
    "from apdz import *\n",
    "from apdt import *\n",
    "from scipy.optimize import curve_fit\n",
    "#from astroML.datasets import fetch_sdss_specgals\n",
    "#from astroML.correlation import bootstrap_two_point_angular\n",
    "%matplotlib inline"
   ]
  },
  {
   "cell_type": "code",
   "execution_count": 2,
   "metadata": {},
   "outputs": [
    {
     "data": {
      "text/plain": [
       "array([[ 0.160002,  5.964543,  0.235823],\n",
       "       [ 0.160018,  3.089162,  0.28616 ],\n",
       "       [ 0.16002 ,  4.085181,  0.284492],\n",
       "       ..., \n",
       "       [ 0.469989,  3.059253,  0.349895],\n",
       "       [ 0.469994,  3.506603,  1.073682],\n",
       "       [ 0.469996,  2.217024,  0.108364]])"
      ]
     },
     "execution_count": 2,
     "metadata": {},
     "output_type": "execute_result"
    }
   ],
   "source": [
    "# Getting back the objects:\n",
    "with open('../output/datzAP.pkl') as f:  # Python 3: open(..., 'rb')\n",
    "    dat = pickle.load(f)\n",
    "dat"
   ]
  },
  {
   "cell_type": "markdown",
   "metadata": {},
   "source": [
    "Read the data file (taken from http://cosmo.nyu.edu/~eak306/SDSS-LRG.html ) converted to ascii with comoving distance etc. in V01 reading from pkl files for faster read"
   ]
  },
  {
   "cell_type": "code",
   "execution_count": 3,
   "metadata": {},
   "outputs": [
    {
     "data": {
      "text/plain": [
       "array([[ 0.160002,  5.9527  ,  0.007988],\n",
       "       [ 0.160004,  3.420454,  0.123662],\n",
       "       [ 0.160007,  3.876158,  0.295957],\n",
       "       ..., \n",
       "       [ 0.469993,  2.683356,  0.525876],\n",
       "       [ 0.469994,  5.75026 ,  0.212152],\n",
       "       [ 0.469996,  2.732208,  0.523037]])"
      ]
     },
     "execution_count": 3,
     "metadata": {},
     "output_type": "execute_result"
    }
   ],
   "source": [
    "# Getting back the objects:\n",
    "with open('../output/rdatzAP.pkl') as f:  # Python 3: open(..., 'rb')\n",
    "    datR = pickle.load(f)\n",
    "datR"
   ]
  },
  {
   "cell_type": "code",
   "execution_count": 4,
   "metadata": {
    "collapsed": true
   },
   "outputs": [],
   "source": [
    "rr2d=np.zeros((20,20))"
   ]
  },
  {
   "cell_type": "code",
   "execution_count": 5,
   "metadata": {
    "collapsed": true
   },
   "outputs": [],
   "source": [
    "rng = np.array([[0, 0.02], [0, 0.02]])"
   ]
  },
  {
   "cell_type": "code",
   "execution_count": 6,
   "metadata": {
    "collapsed": true
   },
   "outputs": [],
   "source": [
    "rrbt=BallTree(datR,metric='pyfunc',func=APdz) "
   ]
  },
  {
   "cell_type": "code",
   "execution_count": 7,
   "metadata": {},
   "outputs": [
    {
     "data": {
      "text/plain": [
       "array([[ 0.  ,  0.02],\n",
       "       [ 0.  ,  0.02]])"
      ]
     },
     "execution_count": 7,
     "metadata": {},
     "output_type": "execute_result"
    }
   ],
   "source": [
    "rng"
   ]
  },
  {
   "cell_type": "code",
   "execution_count": 8,
   "metadata": {
    "collapsed": true
   },
   "outputs": [],
   "source": [
    "bins=np.arange(0.0,0.02001,0.001)"
   ]
  },
  {
   "cell_type": "code",
   "execution_count": 9,
   "metadata": {},
   "outputs": [
    {
     "data": {
      "text/plain": [
       "array([ 0.   ,  0.001,  0.002,  0.003,  0.004,  0.005,  0.006,  0.007,\n",
       "        0.008,  0.009,  0.01 ,  0.011,  0.012,  0.013,  0.014,  0.015,\n",
       "        0.016,  0.017,  0.018,  0.019,  0.02 ])"
      ]
     },
     "execution_count": 9,
     "metadata": {},
     "output_type": "execute_result"
    }
   ],
   "source": [
    "bins"
   ]
  },
  {
   "cell_type": "code",
   "execution_count": null,
   "metadata": {},
   "outputs": [
    {
     "name": "stderr",
     "output_type": "stream",
     "text": [
      "  0%|          | 26/211661 [00:05<12:22:25,  4.75it/s]/Users/rohin/anaconda/lib/python2.7/site-packages/numpy/lib/function_base.py:973: RuntimeWarning: invalid value encountered in greater_equal\n",
      "  not_smaller_than_edge = (sample[:, i] >= edges[i][-1])\n",
      " 35%|███▌      | 74595/211661 [8:50:21<14:55:11,  2.55it/s]"
     ]
    }
   ],
   "source": [
    "%%time\n",
    "for i in tqdm(xrange(len(datR))):\n",
    "    ind=rrbt.query_radius(datR[i].reshape(1,-1),0.021)\n",
    "    for j in ind:\n",
    "        dist0=d.cdist([datR[i],],datR[j],APdz)[0]\n",
    "        dist1=d.cdist([datR[i],],datR[j],APzdth)[0]\n",
    "        rr2d+=np.histogram2d(dist0, dist1,range=rng,bins=(bins,bins))[0]\n",
    "print rr2d"
   ]
  },
  {
   "cell_type": "code",
   "execution_count": null,
   "metadata": {
    "collapsed": true
   },
   "outputs": [],
   "source": [
    "with open('rr2ddr72v06cdist200kopt.pkl','w') as f:\n",
    "    pickle.dump(rr2d,f)    \n",
    "rr2d"
   ]
  },
  {
   "cell_type": "code",
   "execution_count": null,
   "metadata": {
    "collapsed": true
   },
   "outputs": [],
   "source": []
  },
  {
   "cell_type": "code",
   "execution_count": null,
   "metadata": {
    "collapsed": true
   },
   "outputs": [],
   "source": []
  },
  {
   "cell_type": "code",
   "execution_count": null,
   "metadata": {
    "collapsed": true
   },
   "outputs": [],
   "source": []
  },
  {
   "cell_type": "code",
   "execution_count": null,
   "metadata": {
    "collapsed": true
   },
   "outputs": [],
   "source": []
  },
  {
   "cell_type": "code",
   "execution_count": null,
   "metadata": {
    "collapsed": true
   },
   "outputs": [],
   "source": []
  },
  {
   "cell_type": "code",
   "execution_count": 37,
   "metadata": {},
   "outputs": [
    {
     "ename": "ValueError",
     "evalue": "cannot reshape array of size 1 into shape (1,0)",
     "output_type": "error",
     "traceback": [
      "\u001b[0;31m---------------------------------------------------------------------------\u001b[0m",
      "\u001b[0;31mValueError\u001b[0m                                Traceback (most recent call last)",
      "\u001b[0;32m<ipython-input-37-2abeeb5bf42c>\u001b[0m in \u001b[0;36m<module>\u001b[0;34m()\u001b[0m\n\u001b[0;32m----> 1\u001b[0;31m \u001b[0mget_ipython\u001b[0m\u001b[0;34m(\u001b[0m\u001b[0;34m)\u001b[0m\u001b[0;34m.\u001b[0m\u001b[0mrun_cell_magic\u001b[0m\u001b[0;34m(\u001b[0m\u001b[0;34mu'time'\u001b[0m\u001b[0;34m,\u001b[0m \u001b[0;34mu''\u001b[0m\u001b[0;34m,\u001b[0m \u001b[0;34mu'ind=ddbt.query_radius(dat[0].reshape(1,-1),bins[0])\\nind1=ind.reshape(1,0)'\u001b[0m\u001b[0;34m)\u001b[0m\u001b[0;34m\u001b[0m\u001b[0m\n\u001b[0m",
      "\u001b[0;32m/Users/rohin/anaconda/lib/python2.7/site-packages/IPython/core/interactiveshell.pyc\u001b[0m in \u001b[0;36mrun_cell_magic\u001b[0;34m(self, magic_name, line, cell)\u001b[0m\n\u001b[1;32m   2113\u001b[0m             \u001b[0mmagic_arg_s\u001b[0m \u001b[0;34m=\u001b[0m \u001b[0mself\u001b[0m\u001b[0;34m.\u001b[0m\u001b[0mvar_expand\u001b[0m\u001b[0;34m(\u001b[0m\u001b[0mline\u001b[0m\u001b[0;34m,\u001b[0m \u001b[0mstack_depth\u001b[0m\u001b[0;34m)\u001b[0m\u001b[0;34m\u001b[0m\u001b[0m\n\u001b[1;32m   2114\u001b[0m             \u001b[0;32mwith\u001b[0m \u001b[0mself\u001b[0m\u001b[0;34m.\u001b[0m\u001b[0mbuiltin_trap\u001b[0m\u001b[0;34m:\u001b[0m\u001b[0;34m\u001b[0m\u001b[0m\n\u001b[0;32m-> 2115\u001b[0;31m                 \u001b[0mresult\u001b[0m \u001b[0;34m=\u001b[0m \u001b[0mfn\u001b[0m\u001b[0;34m(\u001b[0m\u001b[0mmagic_arg_s\u001b[0m\u001b[0;34m,\u001b[0m \u001b[0mcell\u001b[0m\u001b[0;34m)\u001b[0m\u001b[0;34m\u001b[0m\u001b[0m\n\u001b[0m\u001b[1;32m   2116\u001b[0m             \u001b[0;32mreturn\u001b[0m \u001b[0mresult\u001b[0m\u001b[0;34m\u001b[0m\u001b[0m\n\u001b[1;32m   2117\u001b[0m \u001b[0;34m\u001b[0m\u001b[0m\n",
      "\u001b[0;32m<decorator-gen-59>\u001b[0m in \u001b[0;36mtime\u001b[0;34m(self, line, cell, local_ns)\u001b[0m\n",
      "\u001b[0;32m/Users/rohin/anaconda/lib/python2.7/site-packages/IPython/core/magic.pyc\u001b[0m in \u001b[0;36m<lambda>\u001b[0;34m(f, *a, **k)\u001b[0m\n\u001b[1;32m    186\u001b[0m     \u001b[0;31m# but it's overkill for just that one bit of state.\u001b[0m\u001b[0;34m\u001b[0m\u001b[0;34m\u001b[0m\u001b[0m\n\u001b[1;32m    187\u001b[0m     \u001b[0;32mdef\u001b[0m \u001b[0mmagic_deco\u001b[0m\u001b[0;34m(\u001b[0m\u001b[0marg\u001b[0m\u001b[0;34m)\u001b[0m\u001b[0;34m:\u001b[0m\u001b[0;34m\u001b[0m\u001b[0m\n\u001b[0;32m--> 188\u001b[0;31m         \u001b[0mcall\u001b[0m \u001b[0;34m=\u001b[0m \u001b[0;32mlambda\u001b[0m \u001b[0mf\u001b[0m\u001b[0;34m,\u001b[0m \u001b[0;34m*\u001b[0m\u001b[0ma\u001b[0m\u001b[0;34m,\u001b[0m \u001b[0;34m**\u001b[0m\u001b[0mk\u001b[0m\u001b[0;34m:\u001b[0m \u001b[0mf\u001b[0m\u001b[0;34m(\u001b[0m\u001b[0;34m*\u001b[0m\u001b[0ma\u001b[0m\u001b[0;34m,\u001b[0m \u001b[0;34m**\u001b[0m\u001b[0mk\u001b[0m\u001b[0;34m)\u001b[0m\u001b[0;34m\u001b[0m\u001b[0m\n\u001b[0m\u001b[1;32m    189\u001b[0m \u001b[0;34m\u001b[0m\u001b[0m\n\u001b[1;32m    190\u001b[0m         \u001b[0;32mif\u001b[0m \u001b[0mcallable\u001b[0m\u001b[0;34m(\u001b[0m\u001b[0marg\u001b[0m\u001b[0;34m)\u001b[0m\u001b[0;34m:\u001b[0m\u001b[0;34m\u001b[0m\u001b[0m\n",
      "\u001b[0;32m/Users/rohin/anaconda/lib/python2.7/site-packages/IPython/core/magics/execution.pyc\u001b[0m in \u001b[0;36mtime\u001b[0;34m(self, line, cell, local_ns)\u001b[0m\n\u001b[1;32m   1178\u001b[0m         \u001b[0;32melse\u001b[0m\u001b[0;34m:\u001b[0m\u001b[0;34m\u001b[0m\u001b[0m\n\u001b[1;32m   1179\u001b[0m             \u001b[0mst\u001b[0m \u001b[0;34m=\u001b[0m \u001b[0mclock2\u001b[0m\u001b[0;34m(\u001b[0m\u001b[0;34m)\u001b[0m\u001b[0;34m\u001b[0m\u001b[0m\n\u001b[0;32m-> 1180\u001b[0;31m             \u001b[0;32mexec\u001b[0m\u001b[0;34m(\u001b[0m\u001b[0mcode\u001b[0m\u001b[0;34m,\u001b[0m \u001b[0mglob\u001b[0m\u001b[0;34m,\u001b[0m \u001b[0mlocal_ns\u001b[0m\u001b[0;34m)\u001b[0m\u001b[0;34m\u001b[0m\u001b[0m\n\u001b[0m\u001b[1;32m   1181\u001b[0m             \u001b[0mend\u001b[0m \u001b[0;34m=\u001b[0m \u001b[0mclock2\u001b[0m\u001b[0;34m(\u001b[0m\u001b[0;34m)\u001b[0m\u001b[0;34m\u001b[0m\u001b[0m\n\u001b[1;32m   1182\u001b[0m             \u001b[0mout\u001b[0m \u001b[0;34m=\u001b[0m \u001b[0mNone\u001b[0m\u001b[0;34m\u001b[0m\u001b[0m\n",
      "\u001b[0;32m<timed exec>\u001b[0m in \u001b[0;36m<module>\u001b[0;34m()\u001b[0m\n",
      "\u001b[0;31mValueError\u001b[0m: cannot reshape array of size 1 into shape (1,0)"
     ]
    }
   ],
   "source": [
    "%%time\n",
    "ind=ddbt.query_radius(dat[0].reshape(1,-1),bins[0])\n",
    "ind1=ind.reshape(1,0)"
   ]
  },
  {
   "cell_type": "code",
   "execution_count": 35,
   "metadata": {},
   "outputs": [
    {
     "data": {
      "text/plain": [
       "array([ array([ 78,  65,  54, 102,  97,   9,  27, 156, 116, 190, 161,  55,  69,\n",
       "       170,  77,  30, 125, 144,  47,  71,  46,  98,  14, 182,  70,  40,\n",
       "       191, 101,  50,  86,  74,  31, 175, 189, 122,  63,  20,  53,  37,\n",
       "        32,  93, 177, 173, 140, 151, 183,  44,  72, 112,  66, 143,  85,\n",
       "        34, 163, 147,  45, 103, 168, 131, 149,  76, 105, 124,  59,  99,\n",
       "         1,  11, 155,  15,   8, 186,  57,  39, 176, 154,  10,   5,  26,\n",
       "       181, 185,  29,  51, 106, 137, 178,  49,  95,  23, 108, 159,  56,\n",
       "         7, 160, 132,  82, 107,  19,  21, 164,   4, 187, 141,  58, 153,\n",
       "       110, 152,   3, 167, 136, 117, 138,  13, 172,  87,  60, 119, 150,\n",
       "        24, 166,  43,  67,  35, 146, 120, 179, 192, 104,  89, 111,  33,\n",
       "       128, 169,  79,   6,  90,  92, 118,  73,  12, 129, 134, 162, 174,\n",
       "       126,  16, 133,  22, 158,  48,   2, 115,  62, 157, 139,  81, 114,\n",
       "       109,  68,  36,  38,  52, 100, 121,  28,  17, 188,  18, 113, 142,\n",
       "       180, 184,  91,  88,  25, 127,  83,  41, 171,  94,  75,  61, 145,\n",
       "       148,  96, 123,  64,  80, 165,   0,  42,  84, 130, 135])], dtype=object)"
      ]
     },
     "execution_count": 35,
     "metadata": {},
     "output_type": "execute_result"
    }
   ],
   "source": [
    "ind1"
   ]
  },
  {
   "cell_type": "code",
   "execution_count": 38,
   "metadata": {},
   "outputs": [
    {
     "name": "stdout",
     "output_type": "stream",
     "text": [
      "[[  1.60442000e-01   1.18390000e-01   1.28770000e-02]\n",
      " [  1.60358000e-01   3.70501000e-01  -1.78040000e-01]\n",
      " [  1.60296000e-01   3.90689000e-01  -1.63910000e-02]\n",
      " [  1.60565000e-01   4.01300000e-01  -1.31940000e-02]\n",
      " [  1.60521000e-01   4.49435000e-01  -1.70570000e-01]\n",
      " [  1.60058000e-01   4.86250000e-01  -1.65317000e-01]\n",
      " [  1.60162000e-01   4.76180000e-01   2.32323000e-01]\n",
      " [  1.60774000e-01   6.15974000e-01  -1.64328000e-01]\n",
      " [  1.60644000e-01   2.04400200e+00   5.12437000e-01]\n",
      " [  1.60976000e-01   2.06564200e+00   5.12409000e-01]\n",
      " [  1.60792000e-01   2.06544700e+00   5.26077000e-01]\n",
      " [  1.60299000e-01   2.04005000e+00   5.33478000e-01]\n",
      " [  1.60389000e-01   2.05441200e+00   7.03576000e-01]\n",
      " [  1.60867000e-01   2.05407700e+00   7.04991000e-01]\n",
      " [  1.60441000e-01   2.18745700e+00   4.62760000e-01]\n",
      " [  1.60178000e-01   2.11351300e+00   5.15975000e-01]\n",
      " [  1.60668000e-01   2.12222000e+00   5.47658000e-01]\n",
      " [  1.60743000e-01   2.11776500e+00   5.36898000e-01]\n",
      " [  1.60268000e-01   2.21548200e+00   6.07208000e-01]\n",
      " [  1.60406000e-01   2.26746800e+00   6.22283000e-01]\n",
      " [  1.60266000e-01   2.17119300e+00   8.72532000e-01]\n",
      " [  1.60532000e-01   2.11250800e+00   8.51319000e-01]\n",
      " [  1.60083000e-01   2.20344600e+00   8.66432000e-01]\n",
      " [  1.60920000e-01   2.21828800e+00   8.51988000e-01]\n",
      " [  1.60404000e-01   2.17430400e+00   1.00295300e+00]\n",
      " [  1.60241000e-01   2.34819800e+00   4.06600000e-02]\n",
      " [  1.60978000e-01   2.30891000e+00   1.27447000e-01]\n",
      " [  1.60562000e-01   2.39786600e+00   1.61690000e-01]\n",
      " [  1.60276000e-01   2.50837300e+00   2.20870000e-02]\n",
      " [  1.60474000e-01   2.51767900e+00   7.70600000e-03]\n",
      " [  1.60415000e-01   2.54390200e+00   3.05970000e-02]\n",
      " [  1.60183000e-01   2.57648500e+00   8.19840000e-02]\n",
      " [  1.60884000e-01   2.53475600e+00   1.90217000e-01]\n",
      " [  1.60976000e-01   2.30349600e+00   2.62213000e-01]\n",
      " [  1.60666000e-01   2.30642400e+00   3.61519000e-01]\n",
      " [  1.60351000e-01   2.56403700e+00   2.69466000e-01]\n",
      " [  1.60116000e-01   2.54575400e+00   2.94491000e-01]\n",
      " [  1.60292000e-01   2.49658900e+00   5.51961000e-01]\n",
      " [  1.60227000e-01   2.46100000e+00   7.08299000e-01]\n",
      " [  1.60185000e-01   2.57263700e+00   5.84215000e-01]\n",
      " [  1.60504000e-01   2.34436600e+00   7.34716000e-01]\n",
      " [  1.60893000e-01   2.34257600e+00   7.51282000e-01]\n",
      " [  1.60880000e-01   2.55744200e+00   7.68823000e-01]\n",
      " [  1.60729000e-01   2.65985000e+00   8.10720000e-02]\n",
      " [  1.60765000e-01   2.72383400e+00   7.58010000e-02]\n",
      " [  1.60924000e-01   2.75199200e+00   7.51540000e-02]\n",
      " [  1.60256000e-01   2.71593000e+00   7.67780000e-02]\n",
      " [  1.60410000e-01   2.72024800e+00   8.30040000e-02]\n",
      " [  1.60600000e-01   2.62315400e+00   1.75893000e-01]\n",
      " [  1.60374000e-01   2.63993200e+00   1.90957000e-01]\n",
      " [  1.60743000e-01   2.76445600e+00   1.76570000e-02]\n",
      " [  1.60473000e-01   2.83277900e+00   4.30400000e-03]\n",
      " [  1.60214000e-01   2.83356300e+00  -1.87700000e-03]\n",
      " [  1.60805000e-01   2.60258100e+00   3.23189000e-01]\n",
      " [  1.60751000e-01   2.61194100e+00   3.30729000e-01]\n",
      " [  1.60265000e-01   2.67113700e+00   3.69434000e-01]\n",
      " [  1.60565000e-01   2.76838800e+00   2.69632000e-01]\n",
      " [  1.60854000e-01   2.78800800e+00   2.32986000e-01]\n",
      " [  1.60692000e-01   2.84203600e+00   4.59446000e-01]\n",
      " [  1.60755000e-01   2.95022600e+00   4.28480000e-02]\n",
      " [  1.60432000e-01   3.07422800e+00  -5.84920000e-02]\n",
      " [  1.60568000e-01   3.17889200e+00   4.18940000e-02]\n",
      " [  1.60668000e-01   2.97794400e+00   2.70958000e-01]\n",
      " [  1.60315000e-01   3.06936100e+00   4.10091000e-01]\n",
      " [  1.60544000e-01   3.01109700e+00   4.51782000e-01]\n",
      " [  1.60018000e-01   3.08916200e+00   2.86160000e-01]\n",
      " [  1.60078000e-01   3.14752500e+00   2.58412000e-01]\n",
      " [  1.60774000e-01   2.69835100e+00   6.94235000e-01]\n",
      " [  1.60086000e-01   2.70046900e+00   6.87017000e-01]\n",
      " [  1.60048000e-01   2.71326800e+00   7.13375000e-01]\n",
      " [  1.60945000e-01   2.75059000e+00   7.00823000e-01]\n",
      " [  1.60309000e-01   2.89654900e+00   5.23679000e-01]\n",
      " [  1.60237000e-01   2.89256100e+00   5.95641000e-01]\n",
      " [  1.60886000e-01   2.88454000e+00   7.17592000e-01]\n",
      " [  1.60771000e-01   2.95015700e+00   5.98659000e-01]\n",
      " [  1.60068000e-01   3.04979600e+00   6.54096000e-01]\n",
      " [  1.60039000e-01   3.10823700e+00   5.78983000e-01]\n",
      " [  1.60146000e-01   3.10801500e+00   5.79045000e-01]\n",
      " [  1.60918000e-01   2.67988800e+00   7.98889000e-01]\n",
      " [  1.60939000e-01   2.76307800e+00   8.81138000e-01]\n",
      " [  1.60163000e-01   2.91464200e+00   7.57777000e-01]\n",
      " [  1.60278000e-01   2.80580200e+00   8.23979000e-01]\n",
      " [  1.60575000e-01   2.97542300e+00   8.79430000e-01]\n",
      " [  1.60712000e-01   3.16402500e+00   7.44529000e-01]\n",
      " [  1.60896000e-01   3.14207900e+00   8.58702000e-01]\n",
      " [  1.60271000e-01   3.23847400e+00   1.43086000e-01]\n",
      " [  1.60516000e-01   3.26771500e+00   3.39149000e-01]\n",
      " [  1.60140000e-01   3.29096800e+00   3.39444000e-01]\n",
      " [  1.60590000e-01   3.28230800e+00   3.84141000e-01]\n",
      " [  1.60789000e-01   3.38646400e+00   2.33326000e-01]\n",
      " [  1.60305000e-01   3.49018100e+00   2.13899000e-01]\n",
      " [  1.60043000e-01   3.49099200e+00   2.86227000e-01]\n",
      " [  1.60790000e-01   3.48795000e+00   2.96686000e-01]\n",
      " [  1.60694000e-01   3.44997100e+00   3.33809000e-01]\n",
      " [  1.60461000e-01   3.45093700e+00   3.29212000e-01]\n",
      " [  1.60588000e-01   3.51720700e+00   3.67491000e-01]\n",
      " [  1.60115000e-01   3.47340200e+00   4.26715000e-01]\n",
      " [  1.60126000e-01   3.56515600e+00   1.82094000e-01]\n",
      " [  1.60815000e-01   3.71982500e+00  -3.94730000e-02]\n",
      " [  1.60037000e-01   3.69857500e+00  -1.59620000e-02]\n",
      " [  1.60952000e-01   3.74350500e+00   4.43260000e-02]\n",
      " [  1.60733000e-01   3.75659700e+00   1.67635000e-01]\n",
      " [  1.60311000e-01   3.76096800e+00   1.59528000e-01]\n",
      " [  1.60770000e-01   3.66409400e+00   3.95963000e-01]\n",
      " [  1.60593000e-01   3.71848000e+00   2.87606000e-01]\n",
      " [  1.60770000e-01   3.69310200e+00   3.03870000e-01]\n",
      " [  1.60033000e-01   3.79545500e+00   2.05735000e-01]\n",
      " [  1.60847000e-01   3.80445300e+00   2.07804000e-01]\n",
      " [  1.60705000e-01   3.82666500e+00   2.07953000e-01]\n",
      " [  1.60647000e-01   3.81008200e+00   2.20867000e-01]\n",
      " [  1.60715000e-01   3.83610500e+00   2.26191000e-01]\n",
      " [  1.60082000e-01   3.81192400e+00   2.48460000e-01]\n",
      " [  1.60879000e-01   3.83959600e+00   4.41995000e-01]\n",
      " [  1.60477000e-01   3.83567400e+00   4.17240000e-01]\n",
      " [  1.60335000e-01   3.34248000e+00   5.95731000e-01]\n",
      " [  1.60652000e-01   3.35949500e+00   6.33086000e-01]\n",
      " [  1.60765000e-01   3.36006500e+00   6.39900000e-01]\n",
      " [  1.60145000e-01   3.49299300e+00   4.99928000e-01]\n",
      " [  1.60833000e-01   3.60721300e+00   4.86124000e-01]\n",
      " [  1.60256000e-01   3.75797800e+00   7.03292000e-01]\n",
      " [  1.60375000e-01   3.77437900e+00   6.90626000e-01]\n",
      " [  1.60221000e-01   3.78045400e+00   6.84915000e-01]\n",
      " [  1.60747000e-01   3.25272000e+00   7.61084000e-01]\n",
      " [  1.60656000e-01   3.39779800e+00   1.06290900e+00]\n",
      " [  1.60904000e-01   3.49659700e+00   1.16833100e+00]\n",
      " [  1.60978000e-01   3.61966000e+00   8.23500000e-01]\n",
      " [  1.60565000e-01   3.65736800e+00   8.29584000e-01]\n",
      " [  1.60487000e-01   3.79400700e+00   7.60107000e-01]\n",
      " [  1.60597000e-01   3.62662600e+00   1.02487400e+00]\n",
      " [  1.60204000e-01   3.71821000e+00   9.99537000e-01]\n",
      " [  1.60681000e-01   3.79858400e+00   1.02125900e+00]\n",
      " [  1.60860000e-01   3.76638600e+00   1.03603200e+00]\n",
      " [  1.60451000e-01   3.97202500e+00  -4.40290000e-02]\n",
      " [  1.60041000e-01   3.87986100e+00   1.01975000e-01]\n",
      " [  1.60491000e-01   3.88558400e+00   9.25790000e-02]\n",
      " [  1.60504000e-01   3.88919000e+00   1.12721000e-01]\n",
      " [  1.60648000e-01   4.08663400e+00   1.64610000e-02]\n",
      " [  1.60414000e-01   4.04839500e+00   1.74674000e-01]\n",
      " [  1.60081000e-01   4.05508900e+00   1.77667000e-01]\n",
      " [  1.60688000e-01   4.04623900e+00   1.76442000e-01]\n",
      " [  1.60699000e-01   4.06680800e+00   1.95643000e-01]\n",
      " [  1.60799000e-01   4.04204100e+00   1.74528000e-01]\n",
      " [  1.60881000e-01   4.04211600e+00   1.74027000e-01]\n",
      " [  1.60672000e-01   4.13669000e+00   1.36578000e-01]\n",
      " [  1.60091000e-01   3.86404500e+00   2.40823000e-01]\n",
      " [  1.60695000e-01   3.90191600e+00   2.57042000e-01]\n",
      " [  1.60132000e-01   3.88958500e+00   2.92928000e-01]\n",
      " [  1.60786000e-01   3.96964000e+00   2.26226000e-01]\n",
      " [  1.60271000e-01   4.07838400e+00   2.84384000e-01]\n",
      " [  1.60020000e-01   4.08518100e+00   2.84492000e-01]\n",
      " [  1.60644000e-01   4.06079700e+00   3.33115000e-01]\n",
      " [  1.60351000e-01   3.85863300e+00   4.15064000e-01]\n",
      " [  1.60785000e-01   3.94719000e+00   4.18301000e-01]\n",
      " [  1.60724000e-01   3.98340100e+00   6.27588000e-01]\n",
      " [  1.60461000e-01   3.98586100e+00   6.29676000e-01]\n",
      " [  1.60632000e-01   4.05872500e+00   6.48528000e-01]\n",
      " [  1.60593000e-01   3.84156000e+00   6.75805000e-01]\n",
      " [  1.60386000e-01   3.86370100e+00   6.73753000e-01]\n",
      " [  1.60223000e-01   4.02552100e+00   7.39549000e-01]\n",
      " [  1.60231000e-01   4.08254400e+00   9.12077000e-01]\n",
      " [  1.60279000e-01   4.05575200e+00   9.81174000e-01]\n",
      " [  1.60545000e-01   4.19623900e+00   8.75690000e-02]\n",
      " [  1.60659000e-01   4.22575500e+00   3.68920000e-01]\n",
      " [  1.60163000e-01   4.27150700e+00   4.30567000e-01]\n",
      " [  1.60113000e-01   4.28761700e+00   4.27315000e-01]\n",
      " [  1.60969000e-01   4.26482700e+00   4.78107000e-01]\n",
      " [  1.60113000e-01   4.17642900e+00   6.23417000e-01]\n",
      " [  1.60609000e-01   4.36403400e+00   5.67614000e-01]\n",
      " [  1.60742000e-01   4.39095600e+00   5.80688000e-01]\n",
      " [  1.60908000e-01   4.25156700e+00   7.59569000e-01]\n",
      " [  1.60936000e-01   4.37557800e+00   6.61733000e-01]\n",
      " [  1.60499000e-01   4.37547700e+00   6.92598000e-01]\n",
      " [  1.60480000e-01   4.41103800e+00   4.02009000e-01]\n",
      " [  1.60145000e-01   4.53858600e+00   4.64704000e-01]\n",
      " [  1.60674000e-01   4.54088300e+00   4.66905000e-01]\n",
      " [  1.60464000e-01   5.53281900e+00  -1.34216000e-01]\n",
      " [  1.60250000e-01   5.63569300e+00  -1.19451000e-01]\n",
      " [  1.60868000e-01   5.48322800e+00   1.56710000e-02]\n",
      " [  1.60512000e-01   4.52818200e+00   5.27379000e-01]\n",
      " [  1.60416000e-01   4.54742600e+00   4.88898000e-01]\n",
      " [  1.60349000e-01   4.40960800e+00   5.76832000e-01]\n",
      " [  1.60744000e-01   4.48355200e+00   6.22055000e-01]\n",
      " [  1.60751000e-01   5.67213200e+00  -1.35287000e-01]\n",
      " [  1.60519000e-01   5.67937100e+00  -1.28753000e-01]\n",
      " [  1.60667000e-01   5.69617900e+00  -1.36130000e-02]\n",
      " [  1.60357000e-01   5.64316800e+00  -1.15791000e-01]\n",
      " [  1.60456000e-01   5.80115000e+00   1.51800000e-02]\n",
      " [  1.60825000e-01   5.96638800e+00   2.44394000e-01]\n",
      " [  1.60002000e-01   5.96454300e+00   2.35823000e-01]\n",
      " [  1.60251000e-01   6.08264500e+00  -1.51931000e-01]\n",
      " [  1.60465000e-01   5.98505300e+00   2.23334000e-01]\n",
      " [  1.60691000e-01   5.98427300e+00   2.28815000e-01]\n",
      " [  1.60705000e-01   5.98280300e+00   2.34411000e-01]]\n"
     ]
    }
   ],
   "source": [
    "for i in ind1:\n",
    "    print dat[i]"
   ]
  },
  {
   "cell_type": "code",
   "execution_count": 45,
   "metadata": {},
   "outputs": [
    {
     "name": "stdout",
     "output_type": "stream",
     "text": [
      "(array([[ 2.,  3.,  0.,  0.,  0.,  0.,  0.,  0.,  0.,  0.],\n",
      "       [ 0.,  0.,  0.,  0.,  0.,  0.,  0.,  0.,  0.,  0.],\n",
      "       [ 0.,  0.,  0.,  0.,  0.,  0.,  0.,  0.,  0.,  0.],\n",
      "       [ 0.,  0.,  0.,  0.,  0.,  0.,  0.,  0.,  0.,  0.],\n",
      "       [ 0.,  0.,  0.,  0.,  0.,  0.,  0.,  0.,  0.,  0.],\n",
      "       [ 0.,  0.,  0.,  0.,  0.,  0.,  0.,  0.,  0.,  0.],\n",
      "       [ 0.,  0.,  0.,  0.,  0.,  0.,  0.,  0.,  0.,  0.],\n",
      "       [ 0.,  0.,  0.,  0.,  0.,  0.,  0.,  0.,  0.,  0.],\n",
      "       [ 0.,  0.,  0.,  0.,  0.,  0.,  0.,  0.,  0.,  0.],\n",
      "       [ 0.,  0.,  0.,  0.,  0.,  0.,  0.,  0.,  0.,  0.]]), array([ 0.   ,  0.002,  0.004,  0.006,  0.008,  0.01 ,  0.012,  0.014,\n",
      "        0.016,  0.018,  0.02 ]), array([ 0.   ,  0.002,  0.004,  0.006,  0.008,  0.01 ,  0.012,  0.014,\n",
      "        0.016,  0.018,  0.02 ]))\n",
      "[[ 2.  2.  2.  4.  0.  0.  0.  0.  0.  0.  0.  0.  0.  0.  0.  0.  0.  0.\n",
      "   0.  0.]\n",
      " [ 0.  0.  0.  0.  0.  0.  0.  0.  0.  0.  0.  0.  0.  0.  0.  0.  0.  0.\n",
      "   0.  0.]\n",
      " [ 0.  0.  0.  0.  0.  0.  0.  0.  0.  0.  0.  0.  0.  0.  0.  0.  0.  0.\n",
      "   0.  0.]\n",
      " [ 0.  0.  0.  0.  0.  0.  0.  0.  0.  0.  0.  0.  0.  0.  0.  0.  0.  0.\n",
      "   0.  0.]\n",
      " [ 0.  0.  0.  0.  0.  0.  0.  0.  0.  0.  0.  0.  0.  0.  0.  0.  0.  0.\n",
      "   0.  0.]\n",
      " [ 0.  0.  0.  0.  0.  0.  0.  0.  0.  0.  0.  0.  0.  0.  0.  0.  0.  0.\n",
      "   0.  0.]\n",
      " [ 0.  0.  0.  0.  0.  0.  0.  0.  0.  0.  0.  0.  0.  0.  0.  0.  0.  0.\n",
      "   0.  0.]\n",
      " [ 0.  0.  0.  0.  0.  0.  0.  0.  0.  0.  0.  0.  0.  0.  0.  0.  0.  0.\n",
      "   0.  0.]\n",
      " [ 0.  0.  0.  0.  0.  0.  0.  0.  0.  0.  0.  0.  0.  0.  0.  0.  0.  0.\n",
      "   0.  0.]\n",
      " [ 0.  0.  0.  0.  0.  0.  0.  0.  0.  0.  0.  0.  0.  0.  0.  0.  0.  0.\n",
      "   0.  0.]\n",
      " [ 0.  0.  0.  0.  0.  0.  0.  0.  0.  0.  0.  0.  0.  0.  0.  0.  0.  0.\n",
      "   0.  0.]\n",
      " [ 0.  0.  0.  0.  0.  0.  0.  0.  0.  0.  0.  0.  0.  0.  0.  0.  0.  0.\n",
      "   0.  0.]\n",
      " [ 0.  0.  0.  0.  0.  0.  0.  0.  0.  0.  0.  0.  0.  0.  0.  0.  0.  0.\n",
      "   0.  0.]\n",
      " [ 0.  0.  0.  0.  0.  0.  0.  0.  0.  0.  0.  0.  0.  0.  0.  0.  0.  0.\n",
      "   0.  0.]\n",
      " [ 0.  0.  0.  0.  0.  0.  0.  0.  0.  0.  0.  0.  0.  0.  0.  0.  0.  0.\n",
      "   0.  0.]\n",
      " [ 0.  0.  0.  0.  0.  0.  0.  0.  0.  0.  0.  0.  0.  0.  0.  0.  0.  0.\n",
      "   0.  0.]\n",
      " [ 0.  0.  0.  0.  0.  0.  0.  0.  0.  0.  0.  0.  0.  0.  0.  0.  0.  0.\n",
      "   0.  0.]\n",
      " [ 0.  0.  0.  0.  0.  0.  0.  0.  0.  0.  0.  0.  0.  0.  0.  0.  0.  0.\n",
      "   0.  0.]\n",
      " [ 0.  0.  0.  0.  0.  0.  0.  0.  0.  0.  0.  0.  0.  0.  0.  0.  0.  0.\n",
      "   0.  0.]\n",
      " [ 0.  0.  0.  0.  0.  0.  0.  0.  0.  0.  0.  0.  0.  0.  0.  0.  0.  0.\n",
      "   0.  0.]]\n",
      "CPU times: user 18.1 ms, sys: 4.82 ms, total: 22.9 ms\n",
      "Wall time: 19.6 ms\n"
     ]
    }
   ],
   "source": [
    "%%time\n",
    "for i in ind:\n",
    "    dist0=d.cdist([dat[0],],dat[i],APdz)[0]\n",
    "    dist1=d.cdist([dat[0],],dat[i],APzdth)[0]\n",
    "    print np.histogram2d(dist0, dist1,range=rng)\n",
    "    dd2d+=np.histogram2d(dist0, dist1,range=rng,bins=(bins,bins))[0]\n",
    "print dd2d"
   ]
  },
  {
   "cell_type": "code",
   "execution_count": 40,
   "metadata": {},
   "outputs": [
    {
     "name": "stdout",
     "output_type": "stream",
     "text": [
      "Help on function histogram2d in module numpy.lib.twodim_base:\n",
      "\n",
      "histogram2d(x, y, bins=10, range=None, normed=False, weights=None)\n",
      "    Compute the bi-dimensional histogram of two data samples.\n",
      "    \n",
      "    Parameters\n",
      "    ----------\n",
      "    x : array_like, shape (N,)\n",
      "        An array containing the x coordinates of the points to be\n",
      "        histogrammed.\n",
      "    y : array_like, shape (N,)\n",
      "        An array containing the y coordinates of the points to be\n",
      "        histogrammed.\n",
      "    bins : int or array_like or [int, int] or [array, array], optional\n",
      "        The bin specification:\n",
      "    \n",
      "          * If int, the number of bins for the two dimensions (nx=ny=bins).\n",
      "          * If array_like, the bin edges for the two dimensions\n",
      "            (x_edges=y_edges=bins).\n",
      "          * If [int, int], the number of bins in each dimension\n",
      "            (nx, ny = bins).\n",
      "          * If [array, array], the bin edges in each dimension\n",
      "            (x_edges, y_edges = bins).\n",
      "          * A combination [int, array] or [array, int], where int\n",
      "            is the number of bins and array is the bin edges.\n",
      "    \n",
      "    range : array_like, shape(2,2), optional\n",
      "        The leftmost and rightmost edges of the bins along each dimension\n",
      "        (if not specified explicitly in the `bins` parameters):\n",
      "        ``[[xmin, xmax], [ymin, ymax]]``. All values outside of this range\n",
      "        will be considered outliers and not tallied in the histogram.\n",
      "    normed : bool, optional\n",
      "        If False, returns the number of samples in each bin. If True,\n",
      "        returns the bin density ``bin_count / sample_count / bin_area``.\n",
      "    weights : array_like, shape(N,), optional\n",
      "        An array of values ``w_i`` weighing each sample ``(x_i, y_i)``.\n",
      "        Weights are normalized to 1 if `normed` is True. If `normed` is\n",
      "        False, the values of the returned histogram are equal to the sum of\n",
      "        the weights belonging to the samples falling into each bin.\n",
      "    \n",
      "    Returns\n",
      "    -------\n",
      "    H : ndarray, shape(nx, ny)\n",
      "        The bi-dimensional histogram of samples `x` and `y`. Values in `x`\n",
      "        are histogrammed along the first dimension and values in `y` are\n",
      "        histogrammed along the second dimension.\n",
      "    xedges : ndarray, shape(nx+1,)\n",
      "        The bin edges along the first dimension.\n",
      "    yedges : ndarray, shape(ny+1,)\n",
      "        The bin edges along the second dimension.\n",
      "    \n",
      "    See Also\n",
      "    --------\n",
      "    histogram : 1D histogram\n",
      "    histogramdd : Multidimensional histogram\n",
      "    \n",
      "    Notes\n",
      "    -----\n",
      "    When `normed` is True, then the returned histogram is the sample\n",
      "    density, defined such that the sum over bins of the product\n",
      "    ``bin_value * bin_area`` is 1.\n",
      "    \n",
      "    Please note that the histogram does not follow the Cartesian convention\n",
      "    where `x` values are on the abscissa and `y` values on the ordinate\n",
      "    axis.  Rather, `x` is histogrammed along the first dimension of the\n",
      "    array (vertical), and `y` along the second dimension of the array\n",
      "    (horizontal).  This ensures compatibility with `histogramdd`.\n",
      "    \n",
      "    Examples\n",
      "    --------\n",
      "    >>> import matplotlib as mpl\n",
      "    >>> import matplotlib.pyplot as plt\n",
      "    \n",
      "    Construct a 2-D histogram with variable bin width. First define the bin\n",
      "    edges:\n",
      "    \n",
      "    >>> xedges = [0, 1, 3, 5]\n",
      "    >>> yedges = [0, 2, 3, 4, 6]\n",
      "    \n",
      "    Next we create a histogram H with random bin content:\n",
      "    \n",
      "    >>> x = np.random.normal(2, 1, 100)\n",
      "    >>> y = np.random.normal(1, 1, 100)\n",
      "    >>> H, xedges, yedges = np.histogram2d(x, y, bins=(xedges, yedges))\n",
      "    >>> H = H.T  # Let each row list bins with common y range.\n",
      "    \n",
      "    :func:`imshow <matplotlib.pyplot.imshow>` can only display square bins:\n",
      "    \n",
      "    >>> fig = plt.figure(figsize=(7, 3))\n",
      "    >>> ax = fig.add_subplot(131, title='imshow: square bins')\n",
      "    >>> plt.imshow(H, interpolation='nearest', origin='low',\n",
      "    ...         extent=[xedges[0], xedges[-1], yedges[0], yedges[-1]])\n",
      "    \n",
      "    :func:`pcolormesh <matplotlib.pyplot.pcolormesh>` can display actual edges:\n",
      "    \n",
      "    >>> ax = fig.add_subplot(132, title='pcolormesh: actual edges',\n",
      "    ...         aspect='equal')\n",
      "    >>> X, Y = np.meshgrid(xedges, yedges)\n",
      "    >>> ax.pcolormesh(X, Y, H)\n",
      "    \n",
      "    :class:`NonUniformImage <matplotlib.image.NonUniformImage>` can be used to\n",
      "    display actual bin edges with interpolation:\n",
      "    \n",
      "    >>> ax = fig.add_subplot(133, title='NonUniformImage: interpolated',\n",
      "    ...         aspect='equal', xlim=xedges[[0, -1]], ylim=yedges[[0, -1]])\n",
      "    >>> im = mpl.image.NonUniformImage(ax, interpolation='bilinear')\n",
      "    >>> xcenters = (xedges[:-1] + xedges[1:]) / 2\n",
      "    >>> ycenters = (yedges[:-1] + yedges[1:]) / 2\n",
      "    >>> im.set_data(xcenters, ycenters, H)\n",
      "    >>> ax.images.append(im)\n",
      "    >>> plt.show()\n",
      "\n"
     ]
    }
   ],
   "source": [
    "help(np.histogram2d)"
   ]
  },
  {
   "cell_type": "code",
   "execution_count": null,
   "metadata": {
    "collapsed": true
   },
   "outputs": [],
   "source": [
    "d."
   ]
  },
  {
   "cell_type": "code",
   "execution_count": 24,
   "metadata": {},
   "outputs": [
    {
     "data": {
      "text/plain": [
       "array([ array([ 78,  65,  54, 102,  97,   9,  27, 156, 116, 190, 161,  55,  69,\n",
       "       170,  77,  30, 125, 144,  47,  71,  46,  98,  14, 182,  70,  40,\n",
       "       191, 101,  50,  86,  74,  31, 175, 189, 122,  63,  20,  53,  37,\n",
       "        32,  93, 177, 173, 140, 151, 183,  44,  72, 112,  66, 143,  85,\n",
       "        34, 163, 147,  45, 103, 168, 131, 149,  76, 105, 124,  59,  99,\n",
       "         1,  11, 155,  15,   8, 186,  57,  39, 176, 154,  10,   5,  26,\n",
       "       181, 185,  29,  51, 106, 137, 178,  49,  95,  23, 108, 159,  56,\n",
       "         7, 160, 132,  82, 107,  19,  21, 164,   4, 187, 141,  58, 153,\n",
       "       110, 152,   3, 167, 136, 117, 138,  13, 172,  87,  60, 119, 150,\n",
       "        24, 166,  43,  67,  35, 146, 120, 179, 192, 104,  89, 111,  33,\n",
       "       128, 169,  79,   6,  90,  92, 118,  73,  12, 129, 134, 162, 174,\n",
       "       126,  16, 133,  22, 158,  48,   2, 115,  62, 157, 139,  81, 114,\n",
       "       109,  68,  36,  38,  52, 100, 121,  28,  17, 188,  18, 113, 142,\n",
       "       180, 184,  91,  88,  25, 127,  83,  41, 171,  94,  75,  61, 145,\n",
       "       148,  96, 123,  64,  80, 165,   0,  42,  84, 130, 135])], dtype=object)"
      ]
     },
     "execution_count": 24,
     "metadata": {},
     "output_type": "execute_result"
    }
   ],
   "source": [
    "ind"
   ]
  },
  {
   "cell_type": "code",
   "execution_count": 19,
   "metadata": {},
   "outputs": [
    {
     "name": "stdout",
     "output_type": "stream",
     "text": [
      "[array([3, 0, 1])]\n"
     ]
    }
   ],
   "source": [
    "np.random.seed(0)\n",
    "X = np.random.random((10, 3))  # 10 points in 3 dimensions\n",
    "tree = BallTree(X, leaf_size=2)     # doctest: +SKIP\n",
    "#print(tree.query_radius(X[0], r=0.3, count_only=True))\n",
    "ind = tree.query_radius(X[0].reshape(1,-1), r=0.3)  # doctest: +SKIP\n",
    "print(ind)  # indices of neighbors within distance 0.3"
   ]
  },
  {
   "cell_type": "code",
   "execution_count": 11,
   "metadata": {},
   "outputs": [
    {
     "name": "stdout",
     "output_type": "stream",
     "text": [
      "Help on built-in function query_radius:\n",
      "\n",
      "query_radius(...)\n",
      "    query_radius(self, X, r, count_only = False):\n",
      "    \n",
      "    query the tree for neighbors within a radius r\n",
      "    \n",
      "    Parameters\n",
      "    ----------\n",
      "    X : array-like, last dimension self.dim\n",
      "        An array of points to query\n",
      "    r : distance within which neighbors are returned\n",
      "        r can be a single value, or an array of values of shape\n",
      "        x.shape[:-1] if different radii are desired for each point.\n",
      "    return_distance : boolean (default = False)\n",
      "        if True,  return distances to neighbors of each point\n",
      "        if False, return only neighbors\n",
      "        Note that unlike the query() method, setting return_distance=True\n",
      "        here adds to the computation time.  Not all distances need to be\n",
      "        calculated explicitly for return_distance=False.  Results are\n",
      "        not sorted by default: see ``sort_results`` keyword.\n",
      "    count_only : boolean (default = False)\n",
      "        if True,  return only the count of points within distance r\n",
      "        if False, return the indices of all points within distance r\n",
      "        If return_distance==True, setting count_only=True will\n",
      "        result in an error.\n",
      "    sort_results : boolean (default = False)\n",
      "        if True, the distances and indices will be sorted before being\n",
      "        returned.  If False, the results will not be sorted.  If\n",
      "        return_distance == False, setting sort_results = True will\n",
      "        result in an error.\n",
      "    \n",
      "    Returns\n",
      "    -------\n",
      "    count       : if count_only == True\n",
      "    ind         : if count_only == False and return_distance == False\n",
      "    (ind, dist) : if count_only == False and return_distance == True\n",
      "    \n",
      "    count : array of integers, shape = X.shape[:-1]\n",
      "        each entry gives the number of neighbors within\n",
      "        a distance r of the corresponding point.\n",
      "    \n",
      "    ind : array of objects, shape = X.shape[:-1]\n",
      "        each element is a numpy integer array listing the indices of\n",
      "        neighbors of the corresponding point.  Note that unlike\n",
      "        the results of a k-neighbors query, the returned neighbors\n",
      "        are not sorted by distance by default.\n",
      "    \n",
      "    dist : array of objects, shape = X.shape[:-1]\n",
      "        each element is a numpy double array\n",
      "        listing the distances corresponding to indices in i.\n",
      "    \n",
      "    Examples\n",
      "    --------\n",
      "    Query for neighbors in a given radius\n",
      "    \n",
      "    >>> import numpy as np\n",
      "    >>> np.random.seed(0)\n",
      "    >>> X = np.random.random((10, 3))  # 10 points in 3 dimensions\n",
      "    >>> tree = BinaryTree(X, leaf_size=2)     # doctest: +SKIP\n",
      "    >>> print(tree.query_radius(X[0], r=0.3, count_only=True))\n",
      "    3\n",
      "    >>> ind = tree.query_radius(X[0], r=0.3)  # doctest: +SKIP\n",
      "    >>> print(ind)  # indices of neighbors within distance 0.3\n",
      "    [3 0 1]\n",
      "\n"
     ]
    }
   ],
   "source": [
    "help(ddbt.query_radius)"
   ]
  },
  {
   "cell_type": "code",
   "execution_count": null,
   "metadata": {
    "collapsed": true
   },
   "outputs": [],
   "source": [
    "dr2d=np.zeros((20,20))"
   ]
  },
  {
   "cell_type": "code",
   "execution_count": null,
   "metadata": {
    "collapsed": true
   },
   "outputs": [],
   "source": [
    "rng = np.array([[0, 0.02], [0, 0.02]])"
   ]
  },
  {
   "cell_type": "code",
   "execution_count": null,
   "metadata": {
    "collapsed": true
   },
   "outputs": [],
   "source": [
    "%%time\n",
    "dist0=d.cdist([dat[0],],datR,APdz)[0]\n",
    "dist1=d.cdist([dat[0],],datR,APzdth)[0]\n",
    "print np.histogram2d(dist0, dist1,range=rng)"
   ]
  },
  {
   "cell_type": "code",
   "execution_count": null,
   "metadata": {
    "collapsed": true
   },
   "outputs": [],
   "source": [
    "%%time\n",
    "for i in tqdm(xrange(len(dat))):\n",
    "    dist0=d.cdist([dat[i],],datR,APdz)[0]\n",
    "    dist1=d.cdist([dat[i],],datR,APzdth)[0]\n",
    "    dr2d+=np.histogram2d(dist0, dist1,range=rng)[0]\n",
    "print dr2d"
   ]
  },
  {
   "cell_type": "code",
   "execution_count": null,
   "metadata": {
    "collapsed": true
   },
   "outputs": [],
   "source": [
    "with open('dr2ddr72v06cdist200k.pkl','w') as f:\n",
    "    pickle.dump(dr2d,f)    \n",
    "dr2d"
   ]
  },
  {
   "cell_type": "code",
   "execution_count": null,
   "metadata": {
    "collapsed": true
   },
   "outputs": [],
   "source": []
  },
  {
   "cell_type": "raw",
   "metadata": {},
   "source": [
    "%%time\n",
    "dist0=d.cdist(dat[0:10],dat,APdz)\n",
    "dist1=d.cdist(dat[0:10],dat,APzdtheta)\n",
    "#print np.histogram2d(dist0, dist1,range=rng)\n",
    "#print dd2d"
   ]
  },
  {
   "cell_type": "code",
   "execution_count": null,
   "metadata": {
    "collapsed": true
   },
   "outputs": [],
   "source": [
    "dist0"
   ]
  },
  {
   "cell_type": "code",
   "execution_count": null,
   "metadata": {
    "collapsed": true
   },
   "outputs": [],
   "source": [
    "len(dist0)"
   ]
  },
  {
   "cell_type": "code",
   "execution_count": null,
   "metadata": {
    "collapsed": true
   },
   "outputs": [],
   "source": [
    "dist0.size"
   ]
  },
  {
   "cell_type": "code",
   "execution_count": null,
   "metadata": {
    "collapsed": true
   },
   "outputs": [],
   "source": [
    "dist0.flatten\n",
    "print dist0"
   ]
  },
  {
   "cell_type": "code",
   "execution_count": null,
   "metadata": {
    "collapsed": true
   },
   "outputs": [],
   "source": [
    "len(dist0)"
   ]
  },
  {
   "cell_type": "code",
   "execution_count": null,
   "metadata": {
    "collapsed": true
   },
   "outputs": [],
   "source": [
    "%%time\n",
    "dist0=d.cdist([dat[0],],dat,APdz)[0]\n",
    "dist1=d.cdist([dat[0],],dat,APzdtheta)[0]\n",
    "print np.histogram2d(dist0, dist1,range=rng)\n",
    "#print dd2d"
   ]
  },
  {
   "cell_type": "code",
   "execution_count": null,
   "metadata": {
    "collapsed": true
   },
   "outputs": [],
   "source": []
  },
  {
   "cell_type": "code",
   "execution_count": null,
   "metadata": {
    "collapsed": true
   },
   "outputs": [],
   "source": [
    "dist0"
   ]
  },
  {
   "cell_type": "code",
   "execution_count": null,
   "metadata": {
    "collapsed": true
   },
   "outputs": [],
   "source": []
  },
  {
   "cell_type": "code",
   "execution_count": null,
   "metadata": {
    "collapsed": true
   },
   "outputs": [],
   "source": [
    "dist0=dist0[0]"
   ]
  },
  {
   "cell_type": "code",
   "execution_count": null,
   "metadata": {
    "collapsed": true
   },
   "outputs": [],
   "source": [
    "dist0[1]"
   ]
  },
  {
   "cell_type": "code",
   "execution_count": null,
   "metadata": {
    "collapsed": true
   },
   "outputs": [],
   "source": [
    "dist0[1:len(dist0)]"
   ]
  },
  {
   "cell_type": "code",
   "execution_count": null,
   "metadata": {
    "collapsed": true
   },
   "outputs": [],
   "source": [
    "len(dist0)"
   ]
  },
  {
   "cell_type": "code",
   "execution_count": null,
   "metadata": {
    "collapsed": true
   },
   "outputs": [],
   "source": [
    "dist0.size"
   ]
  },
  {
   "cell_type": "code",
   "execution_count": null,
   "metadata": {
    "collapsed": true
   },
   "outputs": [],
   "source": [
    "help(dist0.flatten)"
   ]
  },
  {
   "cell_type": "code",
   "execution_count": null,
   "metadata": {
    "collapsed": true
   },
   "outputs": [],
   "source": [
    "dist0[0]"
   ]
  },
  {
   "cell_type": "code",
   "execution_count": null,
   "metadata": {
    "collapsed": true
   },
   "outputs": [],
   "source": [
    "np.array.flatten(dist0)"
   ]
  },
  {
   "cell_type": "code",
   "execution_count": null,
   "metadata": {
    "collapsed": true
   },
   "outputs": [],
   "source": [
    "len(dist0)"
   ]
  },
  {
   "cell_type": "code",
   "execution_count": null,
   "metadata": {
    "collapsed": true
   },
   "outputs": [],
   "source": []
  },
  {
   "cell_type": "code",
   "execution_count": null,
   "metadata": {
    "collapsed": true
   },
   "outputs": [],
   "source": []
  },
  {
   "cell_type": "code",
   "execution_count": null,
   "metadata": {
    "collapsed": true
   },
   "outputs": [],
   "source": [
    "%%time\n",
    "while len(dat)>0:\n",
    "    i=len(dat)-1\n",
    "    while i>0:\n",
    "        dist[i]=APcat(dat[0],dat[i])\n",
    "        i-=1\n",
    "    dd2d+=np.histogram2d(dist[:,0], dist[:,1],range=rng)[0]\n",
    "    dat=np.delete(dat,0,axis=0)"
   ]
  },
  {
   "cell_type": "code",
   "execution_count": null,
   "metadata": {
    "collapsed": true
   },
   "outputs": [],
   "source": [
    "dd2d"
   ]
  },
  {
   "cell_type": "code",
   "execution_count": null,
   "metadata": {
    "collapsed": true
   },
   "outputs": [],
   "source": []
  },
  {
   "cell_type": "code",
   "execution_count": null,
   "metadata": {
    "collapsed": true
   },
   "outputs": [],
   "source": []
  },
  {
   "cell_type": "code",
   "execution_count": null,
   "metadata": {
    "collapsed": true
   },
   "outputs": [],
   "source": [
    "%%time\n",
    "while len(dat)>0:\n",
    "    i=len(dat)-1\n",
    "    while i>0:\n",
    "        dist=500*APcat(dat[0],dat[i])\n",
    "        dd2d+=np.histogram2d(dist[0], dist[1], bins = 10, range = rng)\n",
    "        i-=1\n",
    "    dat=np.delete(dat,0,axis=0)"
   ]
  },
  {
   "cell_type": "code",
   "execution_count": null,
   "metadata": {
    "collapsed": true
   },
   "outputs": [],
   "source": [
    "def binDists2d(dat, dz = lambda u, v: abs(u[0]-v[0]), zdth = lambda u, v: 0.5*(u[0]+v[0])*np.arccos(np.sin(u[2])*np.sin(v[2])+np.cos(u[2])*np.cos(v[2])*np.cos(u[1]-v[1]))):\n",
    "    i, j = np.triu_indices(dat.shape[0], 1)\n",
    "    dist0 = dz(dat[i], dat[j])\n",
    "    dist1 = zdth(dat[i], dat[j])\n",
    "    rng = np.array([[0, 0.02], [0, 0.02]])\n",
    "    return np.histogram2d(dist0, dist1, bins = 10, range = rng)  "
   ]
  },
  {
   "cell_type": "code",
   "execution_count": null,
   "metadata": {
    "collapsed": true
   },
   "outputs": [],
   "source": [
    "td=np.random.rand(1000,3)"
   ]
  },
  {
   "cell_type": "code",
   "execution_count": null,
   "metadata": {
    "collapsed": true
   },
   "outputs": [],
   "source": [
    "binDists2d(td)"
   ]
  },
  {
   "cell_type": "code",
   "execution_count": null,
   "metadata": {
    "collapsed": true
   },
   "outputs": [],
   "source": [
    "%%time\n",
    "binDists2d(dat)"
   ]
  },
  {
   "cell_type": "code",
   "execution_count": null,
   "metadata": {
    "collapsed": true
   },
   "outputs": [],
   "source": []
  },
  {
   "cell_type": "code",
   "execution_count": null,
   "metadata": {
    "collapsed": true
   },
   "outputs": [],
   "source": []
  },
  {
   "cell_type": "code",
   "execution_count": null,
   "metadata": {
    "collapsed": true
   },
   "outputs": [],
   "source": [
    "def binDists2d(dat, f1 = 'euclidean', f2 = 'cosine'):\n",
    "    dist0 = APcat(dat, f1)\n",
    "    dist1 = d.pdist(dat, f2)\n",
    "    return np.histogram2d(dist0, dist1, bins = 10)"
   ]
  },
  {
   "cell_type": "code",
   "execution_count": null,
   "metadata": {
    "collapsed": true
   },
   "outputs": [],
   "source": [
    "dd2d"
   ]
  },
  {
   "cell_type": "code",
   "execution_count": null,
   "metadata": {
    "collapsed": true
   },
   "outputs": [],
   "source": [
    "plt.contour(dd2d)"
   ]
  },
  {
   "cell_type": "code",
   "execution_count": null,
   "metadata": {
    "collapsed": true
   },
   "outputs": [],
   "source": [
    "with open('DR72DD2DMI.pkl', 'w') as f:\n",
    "    pickle.dump(dd2d,f)"
   ]
  },
  {
   "cell_type": "code",
   "execution_count": null,
   "metadata": {
    "collapsed": true
   },
   "outputs": [],
   "source": [
    "with open('DR72DD2DMI.pkl') as f:\n",
    "    DD2D = pickle.load(f)\n",
    "    \n",
    "DD2D"
   ]
  },
  {
   "cell_type": "code",
   "execution_count": null,
   "metadata": {
    "collapsed": true
   },
   "outputs": [],
   "source": [
    "dzbin=zdthbin=np.arange(0.002,0.022,0.002)"
   ]
  },
  {
   "cell_type": "code",
   "execution_count": null,
   "metadata": {
    "collapsed": true
   },
   "outputs": [],
   "source": [
    "plt.contour(dzbin,zdthbin,dd2d)"
   ]
  },
  {
   "cell_type": "code",
   "execution_count": null,
   "metadata": {
    "collapsed": true
   },
   "outputs": [],
   "source": [
    "dzbin"
   ]
  },
  {
   "cell_type": "code",
   "execution_count": null,
   "metadata": {
    "collapsed": true
   },
   "outputs": [],
   "source": [
    "plt.contour(dzbin,zdthbin,dd2d,levels=[  5041.,  13955.,  23161.,  31557.,  38796.,  46402.,  53552.,\n",
    "         60708.,  67437.,  74549.])"
   ]
  },
  {
   "cell_type": "code",
   "execution_count": null,
   "metadata": {
    "collapsed": true
   },
   "outputs": [],
   "source": []
  },
  {
   "cell_type": "code",
   "execution_count": null,
   "metadata": {
    "collapsed": true
   },
   "outputs": [],
   "source": [
    "for i in range(len(dat)-1):\n",
    "    for j in range(len(dat)-1):\n",
    "        dist=APcat(dat[0],dat[i])\n",
    "        ind0=int(dist[0]/0.002)\n",
    "        ind1=int(dist[1]/0.002)\n",
    "        if ind0>9 or ind1>9:\n",
    "            pass\n",
    "        else:\n",
    "            dd2d[ind0,ind1]+=1\n",
    "    dat=np.delete(dat,0,0)\n",
    "    print len(dat)\n",
    "    print dd2d"
   ]
  },
  {
   "cell_type": "code",
   "execution_count": null,
   "metadata": {
    "collapsed": true
   },
   "outputs": [],
   "source": [
    "for i in range(len(dat)):\n",
    "    "
   ]
  },
  {
   "cell_type": "code",
   "execution_count": null,
   "metadata": {
    "collapsed": true
   },
   "outputs": [],
   "source": [
    "bins=np.arange(0,0.022,0.002)\n",
    "print bins"
   ]
  },
  {
   "cell_type": "code",
   "execution_count": null,
   "metadata": {
    "collapsed": true
   },
   "outputs": [],
   "source": [
    "%%time\n",
    "from apmetric6 import *\n",
    "BTdat6 = BallTree(dat,metric='pyfunc',func=APmetric6,leaf_size=5) "
   ]
  },
  {
   "cell_type": "code",
   "execution_count": null,
   "metadata": {
    "collapsed": true,
    "scrolled": true
   },
   "outputs": [],
   "source": [
    "BTdat6"
   ]
  },
  {
   "cell_type": "code",
   "execution_count": null,
   "metadata": {
    "collapsed": true
   },
   "outputs": [],
   "source": [
    "%%time\n",
    "per6=BTdat6.two_point_correlation(dat,bins)"
   ]
  },
  {
   "cell_type": "code",
   "execution_count": null,
   "metadata": {
    "collapsed": true
   },
   "outputs": [],
   "source": [
    "print per6"
   ]
  },
  {
   "cell_type": "markdown",
   "metadata": {},
   "source": [
    "One has to change if condition in the metric definition of dz<=0.002 to 0.002<dz<=0.004 and so on"
   ]
  },
  {
   "cell_type": "code",
   "execution_count": null,
   "metadata": {
    "collapsed": true
   },
   "outputs": [],
   "source": [
    "%%time\n",
    "from apmetric4 import *\n",
    "BTdat4 = BallTree(dat,metric='pyfunc',func=APmetric4,leaf_size=5) "
   ]
  },
  {
   "cell_type": "code",
   "execution_count": null,
   "metadata": {
    "collapsed": true,
    "scrolled": true
   },
   "outputs": [],
   "source": [
    "BTdat4"
   ]
  },
  {
   "cell_type": "code",
   "execution_count": null,
   "metadata": {
    "collapsed": true
   },
   "outputs": [],
   "source": [
    "%%time\n",
    "per4=BTdat4.two_point_correlation(dat,bins)"
   ]
  },
  {
   "cell_type": "code",
   "execution_count": null,
   "metadata": {
    "collapsed": true
   },
   "outputs": [],
   "source": [
    "print per4"
   ]
  },
  {
   "cell_type": "code",
   "execution_count": null,
   "metadata": {
    "collapsed": true
   },
   "outputs": [],
   "source": []
  },
  {
   "cell_type": "code",
   "execution_count": null,
   "metadata": {
    "collapsed": true
   },
   "outputs": [],
   "source": [
    "%%time\n",
    "from apmetric3 import *\n",
    "BTdat3 = BallTree(dat,metric='pyfunc',func=APmetric3,leaf_size=5) \n",
    "\n",
    "BTdat3\n",
    "\n",
    "%%time\n",
    "per3=BTdat3.two_point_correlation(dat,bins)\n",
    "\n",
    "print per3print bins"
   ]
  },
  {
   "cell_type": "code",
   "execution_count": null,
   "metadata": {
    "collapsed": true
   },
   "outputs": [],
   "source": [
    "Nbins=len(bins)"
   ]
  },
  {
   "cell_type": "code",
   "execution_count": null,
   "metadata": {
    "collapsed": true
   },
   "outputs": [],
   "source": [
    "Nbins"
   ]
  },
  {
   "cell_type": "code",
   "execution_count": null,
   "metadata": {
    "collapsed": true
   },
   "outputs": [],
   "source": [
    "LCfmetric=LCDMmetric"
   ]
  },
  {
   "cell_type": "code",
   "execution_count": null,
   "metadata": {
    "collapsed": true
   },
   "outputs": [],
   "source": [
    "LCfmetric(dat[0],dat[1])"
   ]
  },
  {
   "cell_type": "code",
   "execution_count": null,
   "metadata": {
    "collapsed": true
   },
   "outputs": [],
   "source": [
    "%%time\n",
    "start_time=time.time()\n",
    "counts_DD=BTDLC.two_point_correlation(dat,bins)\n",
    "print counts_DD\n",
    "end_time=time.time()\n",
    "tottime=end_time-start_time\n",
    "print \"Total run time:\"\n",
    "print tottime\n",
    "\n",
    "with open('BTDcDDLCf.pkl', 'w') as f:\n",
    "    pickle.dump(counts_DD,f)"
   ]
  },
  {
   "cell_type": "code",
   "execution_count": null,
   "metadata": {
    "collapsed": true
   },
   "outputs": [],
   "source": [
    "with open('BTDcDDLCf.pkl') as f:\n",
    "    counts_DD = pickle.load(f)\n",
    "    \n",
    "counts_DD"
   ]
  },
  {
   "cell_type": "code",
   "execution_count": null,
   "metadata": {
    "collapsed": true
   },
   "outputs": [],
   "source": [
    "DD=np.diff(counts_DD)"
   ]
  },
  {
   "cell_type": "code",
   "execution_count": null,
   "metadata": {
    "collapsed": true
   },
   "outputs": [],
   "source": [
    "DD"
   ]
  },
  {
   "cell_type": "code",
   "execution_count": null,
   "metadata": {
    "collapsed": true
   },
   "outputs": [],
   "source": [
    "plt.plot(bins[1:len(bins)],DD,'ro-')"
   ]
  },
  {
   "cell_type": "markdown",
   "metadata": {},
   "source": [
    "BallTree.two_point_correlation works almost 10 times faster! with leaf_size=5 Going with it to the random catalog"
   ]
  },
  {
   "cell_type": "code",
   "execution_count": null,
   "metadata": {
    "collapsed": true
   },
   "outputs": [],
   "source": [
    "dataR=ascii.read(\"./output/rand200kdr72.dat\")"
   ]
  },
  {
   "cell_type": "code",
   "execution_count": null,
   "metadata": {
    "collapsed": true
   },
   "outputs": [],
   "source": [
    "dataR"
   ]
  },
  {
   "cell_type": "code",
   "execution_count": null,
   "metadata": {
    "collapsed": true
   },
   "outputs": [],
   "source": [
    "len(dataR)"
   ]
  },
  {
   "cell_type": "code",
   "execution_count": null,
   "metadata": {
    "collapsed": true
   },
   "outputs": [],
   "source": [
    "dataR=ascii.read(\"./output/rDR7200kLCsrarf.dat\")"
   ]
  },
  {
   "cell_type": "code",
   "execution_count": null,
   "metadata": {
    "collapsed": true
   },
   "outputs": [],
   "source": [
    "dataR"
   ]
  },
  {
   "cell_type": "code",
   "execution_count": null,
   "metadata": {
    "collapsed": true
   },
   "outputs": [],
   "source": [
    "dataR.remove_column('z')\n",
    "dataR.remove_column('ra')\n",
    "dataR.remove_column('dec')"
   ]
  },
  {
   "cell_type": "code",
   "execution_count": null,
   "metadata": {
    "collapsed": true
   },
   "outputs": [],
   "source": [
    "dataR"
   ]
  },
  {
   "cell_type": "code",
   "execution_count": null,
   "metadata": {
    "collapsed": true
   },
   "outputs": [],
   "source": [
    "rs=np.array(dataR['s'])\n",
    "rrar=np.array(dataR['rar'])\n",
    "rdecr=np.array(dataR['decr'])"
   ]
  },
  {
   "cell_type": "code",
   "execution_count": null,
   "metadata": {
    "collapsed": true
   },
   "outputs": [],
   "source": [
    "datR=np.array([rs,rrar,rdecr])"
   ]
  },
  {
   "cell_type": "code",
   "execution_count": null,
   "metadata": {
    "collapsed": true
   },
   "outputs": [],
   "source": [
    "datR"
   ]
  },
  {
   "cell_type": "code",
   "execution_count": null,
   "metadata": {
    "collapsed": true
   },
   "outputs": [],
   "source": [
    "datR.reshape(3,len(dataR))"
   ]
  },
  {
   "cell_type": "code",
   "execution_count": null,
   "metadata": {
    "collapsed": true
   },
   "outputs": [],
   "source": [
    "datR=datR.transpose()"
   ]
  },
  {
   "cell_type": "code",
   "execution_count": null,
   "metadata": {
    "collapsed": true
   },
   "outputs": [],
   "source": [
    "datR"
   ]
  },
  {
   "cell_type": "code",
   "execution_count": null,
   "metadata": {
    "collapsed": true
   },
   "outputs": [],
   "source": [
    "# Saving the objects:\n",
    "with open('rDR7200kLCsrarf.pkl', 'w') as f:  # Python 3: open(..., 'wb')\n",
    "    pickle.dump(datR, f)"
   ]
  },
  {
   "cell_type": "code",
   "execution_count": null,
   "metadata": {
    "collapsed": true
   },
   "outputs": [],
   "source": [
    "# Getting back the objects:\n",
    "with open('rDR7200kLCsrarf.pkl') as f:  # Python 3: open(..., 'rb')\n",
    "    datR = pickle.load(f)\n",
    "datR"
   ]
  },
  {
   "cell_type": "code",
   "execution_count": null,
   "metadata": {
    "collapsed": true
   },
   "outputs": [],
   "source": [
    "%%time\n",
    "BT_RLC = BallTree(datR,metric='pyfunc',func=LCfmetric,leaf_size=5) \n",
    "\n",
    "with open('BTR200kdatsLCf.pkl', 'w') as f:\n",
    "    pickle.dump(BT_RLC,f)"
   ]
  },
  {
   "cell_type": "code",
   "execution_count": null,
   "metadata": {
    "collapsed": true
   },
   "outputs": [],
   "source": [
    "with open('BTR200kdatsLCf.pkl') as f:\n",
    "    BTRLC = pickle.load(f)\n",
    "    \n",
    "BTRLC"
   ]
  },
  {
   "cell_type": "code",
   "execution_count": null,
   "metadata": {
    "collapsed": true
   },
   "outputs": [],
   "source": [
    "%%time\n",
    "start_time=time.time()\n",
    "counts_RR=BTRLC.two_point_correlation(datR,bins)\n",
    "print counts_RR\n",
    "end_time=time.time()\n",
    "tottime=end_time-start_time\n",
    "print \"Total run time:\"\n",
    "print tottime\n",
    "\n",
    "with open('BTR200kcRRLCf.pkl', 'w') as f:\n",
    "    pickle.dump(counts_RR,f)\n",
    "\n",
    "with open('BTR200kcRRLCf.pkl') as f:\n",
    "    counts_RR = pickle.load(f)\n",
    "    \n",
    "counts_RR"
   ]
  },
  {
   "cell_type": "code",
   "execution_count": null,
   "metadata": {
    "collapsed": true
   },
   "outputs": [],
   "source": [
    "counts_RR"
   ]
  },
  {
   "cell_type": "code",
   "execution_count": null,
   "metadata": {
    "collapsed": true
   },
   "outputs": [],
   "source": [
    "RR=np.diff(counts_RR)"
   ]
  },
  {
   "cell_type": "code",
   "execution_count": null,
   "metadata": {
    "collapsed": true
   },
   "outputs": [],
   "source": [
    "RR"
   ]
  },
  {
   "cell_type": "code",
   "execution_count": null,
   "metadata": {
    "collapsed": true
   },
   "outputs": [],
   "source": [
    "plt.plot(bins[1:len(bins)],RR,'bo-')"
   ]
  },
  {
   "cell_type": "code",
   "execution_count": null,
   "metadata": {
    "collapsed": true
   },
   "outputs": [],
   "source": [
    "RR_zero = (RR == 0)\n",
    "RR[RR_zero] = 1"
   ]
  },
  {
   "cell_type": "code",
   "execution_count": null,
   "metadata": {
    "collapsed": true
   },
   "outputs": [],
   "source": [
    "%%time\n",
    "start_time=time.time()\n",
    "counts_DR=BTRLC.two_point_correlation(dat,bins)\n",
    "print counts_DR\n",
    "end_time=time.time()\n",
    "tottime=end_time-start_time\n",
    "print \"Total run time:\"\n",
    "print tottime\n",
    "\n",
    "with open('BTR200kcDRLCf.pkl', 'w') as f:\n",
    "    pickle.dump(counts_DR,f)"
   ]
  },
  {
   "cell_type": "code",
   "execution_count": null,
   "metadata": {
    "collapsed": true
   },
   "outputs": [],
   "source": [
    "with open('BTR200kcDRLCf.pkl') as f:\n",
    "    counts_DR = pickle.load(f)\n",
    "    \n",
    "counts_DR"
   ]
  },
  {
   "cell_type": "code",
   "execution_count": null,
   "metadata": {
    "collapsed": true
   },
   "outputs": [],
   "source": [
    "DR=np.diff(counts_DR)"
   ]
  },
  {
   "cell_type": "code",
   "execution_count": null,
   "metadata": {
    "collapsed": true
   },
   "outputs": [],
   "source": [
    "DR"
   ]
  },
  {
   "cell_type": "code",
   "execution_count": null,
   "metadata": {
    "collapsed": true
   },
   "outputs": [],
   "source": [
    "corrells=(4.0 * DD - 4.0 * DR + RR) / RR"
   ]
  },
  {
   "cell_type": "code",
   "execution_count": null,
   "metadata": {
    "collapsed": true
   },
   "outputs": [],
   "source": [
    "corrells"
   ]
  },
  {
   "cell_type": "code",
   "execution_count": null,
   "metadata": {
    "collapsed": true
   },
   "outputs": [],
   "source": [
    "plt.plot(bins[1:len(bins)],corrells,'go-')"
   ]
  },
  {
   "cell_type": "code",
   "execution_count": null,
   "metadata": {
    "collapsed": true
   },
   "outputs": [],
   "source": [
    "plt.plot(bins[1:len(bins)],bins[1:len(bins)]*bins[1:len(bins)]*corrells*(c*1e-5)**2,'go-')"
   ]
  },
  {
   "cell_type": "code",
   "execution_count": null,
   "metadata": {
    "collapsed": true
   },
   "outputs": [],
   "source": [
    "plt.plot(bins[2:len(bins)],bins[2:len(bins)]*bins[2:len(bins)]*corrells[1:len(bins)]*(c*1e-5)**2,'go-')"
   ]
  },
  {
   "cell_type": "code",
   "execution_count": null,
   "metadata": {
    "collapsed": true
   },
   "outputs": [],
   "source": [
    "plt.plot(bins[2:len(bins)],corrells[1:len(bins)],'go-')"
   ]
  },
  {
   "cell_type": "code",
   "execution_count": null,
   "metadata": {
    "collapsed": true
   },
   "outputs": [],
   "source": [
    "plt.plot(bins[2:len(bins)],corrells[1:len(bins)],'go-')\n",
    "plt.savefig(\"correl2xlsLCf.pdf\")"
   ]
  },
  {
   "cell_type": "code",
   "execution_count": null,
   "metadata": {
    "collapsed": true
   },
   "outputs": [],
   "source": [
    "plt.plot(bins[2:len(bins)]*c/1e5,corrells[1:len(bins)],'bo-')\n",
    "plt.savefig(\"correl2x1lsLCf.pdf\")"
   ]
  },
  {
   "cell_type": "code",
   "execution_count": null,
   "metadata": {
    "collapsed": true
   },
   "outputs": [],
   "source": [
    "plt.yscale('log')\n",
    "plt.plot(bins[1:len(bins)]*c/1e5,corrells,'bo-')\n",
    "plt.savefig(\"correllsfiglogLCf.pdf\")"
   ]
  },
  {
   "cell_type": "code",
   "execution_count": null,
   "metadata": {
    "collapsed": true
   },
   "outputs": [],
   "source": [
    "plt.yscale('log')\n",
    "plt.plot(bins[2:len(bins)]*c/1e5,corrells[1:len(bins)],'ro-')\n",
    "plt.savefig(\"correllslog2xLCf.pdf\")"
   ]
  },
  {
   "cell_type": "code",
   "execution_count": null,
   "metadata": {
    "collapsed": true
   },
   "outputs": [],
   "source": [
    "plt.yscale('log')\n",
    "plt.xscale('log')\n",
    "plt.plot(bins[1:len(bins)]*c/1e5,corrells,'bo-')\n",
    "plt.savefig(\"correllsloglogLCf.pdf\")"
   ]
  },
  {
   "cell_type": "code",
   "execution_count": null,
   "metadata": {
    "collapsed": true
   },
   "outputs": [],
   "source": []
  },
  {
   "cell_type": "code",
   "execution_count": null,
   "metadata": {
    "collapsed": true
   },
   "outputs": [],
   "source": []
  },
  {
   "cell_type": "code",
   "execution_count": null,
   "metadata": {
    "collapsed": true
   },
   "outputs": [],
   "source": [
    "from functools import partial\n",
    "\n",
    "def harvester(text, case):\n",
    "    X = case[0]\n",
    "    return text + str(X)\n",
    "\n",
    "\n",
    "partial_harvester = partial(harvester, case=RAW_DATASET)\n",
    "\n",
    "partial_qr=partial(BTD.query_radius,count_only=True)\n",
    "\n",
    "if __name__ == '__main__':\n",
    "    pool = multiprocessing.Pool(processes=6)\n",
    "    case_data = RAW_DATASET\n",
    "    pool.map(partial_harvester, case_data, 1)\n",
    "    pool.close()\n",
    "    pool.join()\n",
    "\n",
    "mapfunc = partial(BTD.query_radius, count_only=True)\n",
    "map(mapfunc, volume_ids)\n"
   ]
  },
  {
   "cell_type": "code",
   "execution_count": null,
   "metadata": {
    "collapsed": true
   },
   "outputs": [],
   "source": []
  },
  {
   "cell_type": "code",
   "execution_count": null,
   "metadata": {
    "collapsed": true
   },
   "outputs": [],
   "source": [
    "#ascii.write(\"DR72DDbinned.dat\",(bins[1:len(bins)],DDresult))\n",
    "start_time=time.time()\n",
    "@pickle_results(\"DR72DDmp1.pkl\")\n",
    "def ddcal(BTD,dat,bins,Nbins):\n",
    "    counts_DD=np.zeros(Nbins)\n",
    "    for i in tqdm(range(Nbins)):\n",
    "        counts_DD[i]=np.sum(BTD.query_radius(dat, bins[i],count_only=True))\n",
    "    DD = np.diff(counts_DD)\n",
    "    print counts_DD\n",
    "    print DD\n",
    "    return DD\n",
    "\n",
    "def mf_wrap(args):\n",
    "    return ddcal(*args)\n",
    "\n",
    "pool=mp.Pool(8)\n",
    "\n",
    "arg=[(BTD,dat,bins,Nbins)]\n",
    "%timeit DDresult=pool.map(mf_wrap,arg) \n",
    "#DDresult = ddcal(BTD,dat,bins,Nbins)\n",
    "end_time=time.time()\n",
    "tottime=end_time-start_time\n",
    "print \"Total run time:\"\n",
    "print tottime"
   ]
  },
  {
   "cell_type": "code",
   "execution_count": null,
   "metadata": {
    "collapsed": true
   },
   "outputs": [],
   "source": [
    "%timeit dat"
   ]
  },
  {
   "cell_type": "code",
   "execution_count": null,
   "metadata": {
    "collapsed": true
   },
   "outputs": [],
   "source": [
    "DDresult[0]"
   ]
  },
  {
   "cell_type": "code",
   "execution_count": null,
   "metadata": {
    "collapsed": true
   },
   "outputs": [],
   "source": [
    "DDresult[1]"
   ]
  },
  {
   "cell_type": "code",
   "execution_count": null,
   "metadata": {
    "collapsed": true
   },
   "outputs": [],
   "source": [
    "plt.plot(bins[1:len(bins)],DDresult[0],'ro')"
   ]
  },
  {
   "cell_type": "code",
   "execution_count": null,
   "metadata": {
    "collapsed": true
   },
   "outputs": [],
   "source": []
  },
  {
   "cell_type": "code",
   "execution_count": null,
   "metadata": {
    "collapsed": true
   },
   "outputs": [],
   "source": []
  },
  {
   "cell_type": "code",
   "execution_count": null,
   "metadata": {
    "collapsed": true
   },
   "outputs": [],
   "source": [
    "def myfun(a,b):\n",
    "  print a + b\n",
    "  return a+b\n",
    "\n",
    "def mf_wrap(args):\n",
    "  return myfun(*args)\n",
    "\n",
    "p = mp.Pool(4)\n",
    "\n",
    "fl = [(a,b) for a in range(3) for b in range(2)]\n",
    "\n",
    "p.map(mf_wrap, fl)"
   ]
  },
  {
   "cell_type": "code",
   "execution_count": null,
   "metadata": {
    "collapsed": true
   },
   "outputs": [],
   "source": []
  },
  {
   "cell_type": "code",
   "execution_count": null,
   "metadata": {
    "collapsed": true
   },
   "outputs": [],
   "source": []
  },
  {
   "cell_type": "code",
   "execution_count": null,
   "metadata": {
    "collapsed": true
   },
   "outputs": [],
   "source": []
  },
  {
   "cell_type": "code",
   "execution_count": null,
   "metadata": {
    "collapsed": true
   },
   "outputs": [],
   "source": [
    "counts_DD=np.zeros(Nbins)\n",
    "\n",
    "for i in range(Nbins):\n",
    "    counts_DD[i]=np.sum(BTD.query_radius(dat, bins[i],count_only=True))\n",
    "DD = np.diff(counts_DD)"
   ]
  },
  {
   "cell_type": "code",
   "execution_count": null,
   "metadata": {
    "collapsed": true
   },
   "outputs": [],
   "source": [
    "print counts_DD\n",
    "print DD"
   ]
  },
  {
   "cell_type": "code",
   "execution_count": null,
   "metadata": {
    "collapsed": true
   },
   "outputs": [],
   "source": [
    "plt.plot(bins[1:len(bins)],DD,'ro')"
   ]
  },
  {
   "cell_type": "code",
   "execution_count": null,
   "metadata": {
    "collapsed": true
   },
   "outputs": [],
   "source": []
  },
  {
   "cell_type": "code",
   "execution_count": null,
   "metadata": {
    "collapsed": true
   },
   "outputs": [],
   "source": []
  },
  {
   "cell_type": "code",
   "execution_count": null,
   "metadata": {
    "collapsed": true
   },
   "outputs": [],
   "source": []
  },
  {
   "cell_type": "code",
   "execution_count": null,
   "metadata": {
    "collapsed": true
   },
   "outputs": [],
   "source": []
  },
  {
   "cell_type": "code",
   "execution_count": null,
   "metadata": {
    "collapsed": true
   },
   "outputs": [],
   "source": []
  },
  {
   "cell_type": "code",
   "execution_count": null,
   "metadata": {
    "collapsed": true
   },
   "outputs": [],
   "source": []
  },
  {
   "cell_type": "code",
   "execution_count": null,
   "metadata": {
    "collapsed": true
   },
   "outputs": [],
   "source": [
    "dataR=fits.open(\"/Users/rohin/Downloads/random-DR7-Full.fits\")"
   ]
  },
  {
   "cell_type": "code",
   "execution_count": null,
   "metadata": {
    "collapsed": true
   },
   "outputs": [],
   "source": [
    "dataR=dataR[1].data"
   ]
  },
  {
   "cell_type": "code",
   "execution_count": null,
   "metadata": {
    "collapsed": true
   },
   "outputs": [],
   "source": [
    "len(dataR)"
   ]
  },
  {
   "cell_type": "code",
   "execution_count": null,
   "metadata": {
    "collapsed": true
   },
   "outputs": [],
   "source": []
  },
  {
   "cell_type": "code",
   "execution_count": null,
   "metadata": {
    "collapsed": true
   },
   "outputs": [],
   "source": [
    "tdata=np.array(data)"
   ]
  },
  {
   "cell_type": "code",
   "execution_count": null,
   "metadata": {
    "collapsed": true
   },
   "outputs": [],
   "source": [
    "type(tdata[4])"
   ]
  },
  {
   "cell_type": "code",
   "execution_count": null,
   "metadata": {
    "collapsed": true
   },
   "outputs": [],
   "source": [
    "tdata.shape"
   ]
  },
  {
   "cell_type": "code",
   "execution_count": null,
   "metadata": {
    "collapsed": true
   },
   "outputs": [],
   "source": []
  },
  {
   "cell_type": "code",
   "execution_count": null,
   "metadata": {
    "collapsed": true
   },
   "outputs": [],
   "source": [
    "tdata.shape"
   ]
  },
  {
   "cell_type": "code",
   "execution_count": null,
   "metadata": {
    "collapsed": true
   },
   "outputs": [],
   "source": [
    "tdata=np.atleast_d(tdata)"
   ]
  },
  {
   "cell_type": "code",
   "execution_count": null,
   "metadata": {
    "collapsed": true
   },
   "outputs": [],
   "source": [
    "tdata.shape"
   ]
  },
  {
   "cell_type": "code",
   "execution_count": null,
   "metadata": {
    "collapsed": true
   },
   "outputs": [],
   "source": [
    "tdata.reshape(len(tdata),3)"
   ]
  },
  {
   "cell_type": "code",
   "execution_count": null,
   "metadata": {
    "collapsed": true
   },
   "outputs": [],
   "source": [
    "tdata=np.asarray(data)\n",
    "tdata=tdata.transpose()"
   ]
  },
  {
   "cell_type": "code",
   "execution_count": null,
   "metadata": {
    "collapsed": true
   },
   "outputs": [],
   "source": []
  },
  {
   "cell_type": "code",
   "execution_count": null,
   "metadata": {
    "collapsed": true
   },
   "outputs": [],
   "source": []
  },
  {
   "cell_type": "code",
   "execution_count": null,
   "metadata": {
    "collapsed": true
   },
   "outputs": [],
   "source": [
    "tdata"
   ]
  },
  {
   "cell_type": "code",
   "execution_count": null,
   "metadata": {
    "collapsed": true
   },
   "outputs": [],
   "source": [
    "len(tdata)"
   ]
  },
  {
   "cell_type": "code",
   "execution_count": null,
   "metadata": {
    "collapsed": true
   },
   "outputs": [],
   "source": []
  },
  {
   "cell_type": "code",
   "execution_count": null,
   "metadata": {
    "collapsed": true
   },
   "outputs": [],
   "source": [
    "BTD.two_point_correlationpoint_correlationpoint_correlationpoint_correlationtime\n",
    "stime=time.time()\n",
    "tpcf=BTD.two_point_correlation(dat,bins)\n",
    "print time.time()-stime\n",
    "print tpcf\n",
    "plt.plot(bins,tpcf)"
   ]
  },
  {
   "cell_type": "code",
   "execution_count": null,
   "metadata": {
    "collapsed": true
   },
   "outputs": [],
   "source": [
    "stime=time.time()\n",
    "tpcfd=BTD.two_point_correlation(dat,bins,dualtree=True)\n",
    "print time.time()-stime\n",
    "print tpcfd\n",
    "plt.plot(bins,tpcfd)"
   ]
  },
  {
   "cell_type": "code",
   "execution_count": null,
   "metadata": {
    "collapsed": true
   },
   "outputs": [],
   "source": []
  },
  {
   "cell_type": "code",
   "execution_count": null,
   "metadata": {
    "collapsed": true
   },
   "outputs": [],
   "source": []
  },
  {
   "cell_type": "code",
   "execution_count": null,
   "metadata": {
    "collapsed": true
   },
   "outputs": [],
   "source": []
  },
  {
   "cell_type": "code",
   "execution_count": null,
   "metadata": {
    "collapsed": true
   },
   "outputs": [],
   "source": [
    "X"
   ]
  },
  {
   "cell_type": "code",
   "execution_count": null,
   "metadata": {
    "collapsed": true
   },
   "outputs": [],
   "source": []
  },
  {
   "cell_type": "code",
   "execution_count": null,
   "metadata": {
    "collapsed": true
   },
   "outputs": [],
   "source": [
    "np.random.seed(0)\n",
    "X = np.random.random((30,3))\n",
    "r = np.linspace(0, 1, 10)\n",
    "tree = BallTree(X,metric='pyfunc',func=LCDMmetric)                \n",
    "s = pickle.dumps(tree)                     \n",
    "treedump = pickle.loads(s) \n",
    "treedump.two_point_correlation(X,r)"
   ]
  },
  {
   "cell_type": "code",
   "execution_count": null,
   "metadata": {
    "collapsed": true
   },
   "outputs": [],
   "source": [
    "BT_D = BallTree(data)\n",
    "        BT_R = BallTree(data_R)\n",
    "\n",
    "        counts_DD = np.zeros(Nbins + 1)\n",
    "        counts_RR = np.zeros(Nbins + 1)\n",
    "\n",
    "        for i in range(Nbins + 1):\n",
    "            counts_DD[i] = np.sum(BT_D.query_radius(data, bins[i],\n",
    "                                                    count_only=True))\n",
    "            counts_RR[i] = np.sum(BT_R.query_radius(data_R, bins[i],\n",
    "                                                    count_only=True))\n",
    "\n",
    "    DD = np.diff(counts_DD)\n",
    "    RR = np.diff(counts_RR)\n",
    "\n",
    "    # check for zero in the denominator\n",
    "    RR_zero = (RR == 0)\n",
    "    RR[RR_zero] = 1\n",
    "\n",
    "    if method == 'standard':\n",
    "        corr = factor ** 2 * DD / RR - 1\n",
    "    elif method == 'landy-szalay':\n",
    "        if sklearn_has_two_point:\n",
    "            counts_DR = KDT_R.two_point_correlation(data, bins)\n",
    "        else:\n",
    "            counts_DR = np.zeros(Nbins + 1)\n",
    "            for i in range(Nbins + 1):\n",
    "                counts_DR[i] = np.sum(BT_R.query_radius(data, bins[i],\n",
    "                                                        count_only=True))\n",
    "        DR = np.diff(counts_DR)\n",
    "\n",
    "        corr = (factor ** 2 * DD - 2 * factor * DR + RR) / RR\n",
    "\n",
    "    corr[RR_zero] = np.nan\n",
    "\n",
    "    return corr"
   ]
  },
  {
   "cell_type": "code",
   "execution_count": null,
   "metadata": {
    "collapsed": true
   },
   "outputs": [],
   "source": []
  },
  {
   "cell_type": "code",
   "execution_count": null,
   "metadata": {
    "collapsed": true
   },
   "outputs": [],
   "source": []
  },
  {
   "cell_type": "code",
   "execution_count": null,
   "metadata": {
    "collapsed": true
   },
   "outputs": [],
   "source": []
  },
  {
   "cell_type": "code",
   "execution_count": null,
   "metadata": {
    "collapsed": true
   },
   "outputs": [],
   "source": []
  },
  {
   "cell_type": "code",
   "execution_count": null,
   "metadata": {
    "collapsed": true
   },
   "outputs": [],
   "source": []
  },
  {
   "cell_type": "code",
   "execution_count": null,
   "metadata": {
    "collapsed": true
   },
   "outputs": [],
   "source": [
    "dr7fdat=np.array([data['s'][0:300] data['rar'][0:300] data['decr'][0:300]])\n",
    "dr7fdat"
   ]
  },
  {
   "cell_type": "code",
   "execution_count": null,
   "metadata": {
    "collapsed": true
   },
   "outputs": [],
   "source": [
    "dr7fdat[2]"
   ]
  },
  {
   "cell_type": "code",
   "execution_count": null,
   "metadata": {
    "collapsed": true
   },
   "outputs": [],
   "source": []
  },
  {
   "cell_type": "code",
   "execution_count": null,
   "metadata": {
    "collapsed": true
   },
   "outputs": [],
   "source": [
    "def LCDMmetric(p1,p2):\n",
    "    costheta=m.sin(dec1)*m.sin(dec2)+m.cos(dec1)*m.cos(dec2)*m.cos(ra1-ra2)\n",
    "    s1=DC_LCDM(z1)\n",
    "    s2=DC_LCDM(z2)\n",
    "    return np.sqrt(s1**2+s2**2-2.0*s1*s2*costheta)"
   ]
  }
 ],
 "metadata": {
  "kernelspec": {
   "display_name": "Python 2",
   "language": "python",
   "name": "python2"
  },
  "language_info": {
   "codemirror_mode": {
    "name": "ipython",
    "version": 2
   },
   "file_extension": ".py",
   "mimetype": "text/x-python",
   "name": "python",
   "nbconvert_exporter": "python",
   "pygments_lexer": "ipython2",
   "version": "2.7.13"
  }
 },
 "nbformat": 4,
 "nbformat_minor": 1
}
