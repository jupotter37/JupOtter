{
 "cells": [
  {
   "cell_type": "markdown",
   "metadata": {
    "deletable": true,
    "editable": true
   },
   "source": [
    "# Description\n",
    "\n",
    "* Time to make a simple SIP data simulation with the [dataset](./1_dataset.ipynb) that you alreadly created\n",
    "\n",
    "> Make sure you have created the dataset before trying to run this notebook"
   ]
  },
  {
   "cell_type": "markdown",
   "metadata": {
    "deletable": true,
    "editable": true
   },
   "source": [
    "# Setting variables\n",
    "\n",
    "* \"workDir\" is the path to the working directory for this analysis (where the files will be download to)\n",
    "  * **NOTE:** MAKE SURE to modify this path to the directory where YOU want to run the example.\n",
    "* \"nprocs\" is the number of processors to use (3 by default, since only 3 genomes). Change this if needed."
   ]
  },
  {
   "cell_type": "code",
   "execution_count": 57,
   "metadata": {
    "ExecuteTime": {
     "end_time": "2017-07-13T14:55:55.560147",
     "start_time": "2017-07-13T14:55:55.556385"
    },
    "collapsed": true,
    "deletable": true,
    "editable": true
   },
   "outputs": [],
   "source": [
    "workDir = '../../t/SIPSim_example/'\n",
    "nprocs = 3"
   ]
  },
  {
   "cell_type": "markdown",
   "metadata": {
    "deletable": true,
    "editable": true
   },
   "source": [
    "# Init"
   ]
  },
  {
   "cell_type": "code",
   "execution_count": 58,
   "metadata": {
    "ExecuteTime": {
     "end_time": "2017-07-13T14:55:55.565109",
     "start_time": "2017-07-13T14:55:55.562025"
    },
    "collapsed": true,
    "deletable": true,
    "editable": true
   },
   "outputs": [],
   "source": [
    "import os"
   ]
  },
  {
   "cell_type": "code",
   "execution_count": 59,
   "metadata": {
    "ExecuteTime": {
     "end_time": "2017-07-13T14:55:55.571392",
     "start_time": "2017-07-13T14:55:55.567075"
    },
    "collapsed": false,
    "deletable": true,
    "editable": true
   },
   "outputs": [
    {
     "name": "stdout",
     "output_type": "stream",
     "text": [
      "The rpy2.ipython extension is already loaded. To reload it, use:\n",
      "  %reload_ext rpy2.ipython\n"
     ]
    }
   ],
   "source": [
    "# Note: you will need to install `rpy2.ipython` and the necessary R packages (see next cell)\n",
    "%load_ext rpy2.ipython"
   ]
  },
  {
   "cell_type": "code",
   "execution_count": 60,
   "metadata": {
    "ExecuteTime": {
     "end_time": "2017-07-13T14:55:55.580846",
     "start_time": "2017-07-13T14:55:55.573417"
    },
    "collapsed": false,
    "deletable": true,
    "editable": true
   },
   "outputs": [],
   "source": [
    "%%R\n",
    "library(ggplot2)\n",
    "library(dplyr)\n",
    "library(tidyr)"
   ]
  },
  {
   "cell_type": "code",
   "execution_count": 61,
   "metadata": {
    "ExecuteTime": {
     "end_time": "2017-07-13T14:55:55.588967",
     "start_time": "2017-07-13T14:55:55.582638"
    },
    "collapsed": false,
    "deletable": true,
    "editable": true
   },
   "outputs": [
    {
     "name": "stdout",
     "output_type": "stream",
     "text": [
      "/home/nick/notebook/SIPSim/t/SIPSim_example\n"
     ]
    }
   ],
   "source": [
    "workDir = os.path.abspath(workDir)\n",
    "if not os.path.isdir(workDir):\n",
    "    os.makedirs(workDir)\n",
    "%cd $workDir    \n",
    "\n",
    "genomeDir = os.path.join(workDir, 'genomes_rn')"
   ]
  },
  {
   "cell_type": "markdown",
   "metadata": {
    "deletable": true,
    "editable": true
   },
   "source": [
    "# Experimental design\n",
    "\n",
    "* How many gradients?\n",
    "* Which are labeled treatments & which are controls?\n",
    "* For this tutorial, we'll keep things simple and just simulate one control & one treatment\n",
    "  * For the labeled treatment, 34% of the taxa (1 of 3) will incorporate 50% isotope"
   ]
  },
  {
   "cell_type": "markdown",
   "metadata": {
    "deletable": true,
    "editable": true
   },
   "source": [
    "The script below (\"`SIPSim incorpConfigExample`\") is helpful for making simple experimental designs"
   ]
  },
  {
   "cell_type": "code",
   "execution_count": 62,
   "metadata": {
    "ExecuteTime": {
     "end_time": "2017-07-13T14:55:58.921479",
     "start_time": "2017-07-13T14:55:55.590925"
    },
    "collapsed": false,
    "deletable": true,
    "editable": true
   },
   "outputs": [],
   "source": [
    "%%bash\n",
    "source activate SIPSim\n",
    "\n",
    "# creating example config\n",
    "SIPSim incorp_config_example \\\n",
    "  --percTaxa 34 \\\n",
    "  --percIncorpUnif 50 \\\n",
    "  --n_reps 1 \\\n",
    "  > incorp.config"
   ]
  },
  {
   "cell_type": "code",
   "execution_count": 63,
   "metadata": {
    "ExecuteTime": {
     "end_time": "2017-07-13T14:55:59.040659",
     "start_time": "2017-07-13T14:55:58.923325"
    },
    "collapsed": false,
    "deletable": true,
    "editable": true
   },
   "outputs": [
    {
     "name": "stdout",
     "output_type": "stream",
     "text": [
      "\r\n",
      "[1]\r\n",
      "    # baseline: no incorporation\r\n",
      "    treatment = control\r\n",
      "    \r\n",
      "    [[intraPopDist 1]]\r\n",
      "        distribution = uniform\r\n",
      "        \r\n",
      "        [[[start]]]\r\n",
      "            \r\n",
      "            [[[[interPopDist 1]]]]\r\n",
      "                distribution = uniform\r\n",
      "                start = 0\r\n",
      "                end = 0\r\n",
      "        \r\n",
      "        [[[end]]]\r\n",
      "            \r\n",
      "            [[[[interPopDist 1]]]]\r\n",
      "                distribution = uniform\r\n",
      "                start = 0\r\n",
      "                end = 0\r\n",
      "[2]\r\n",
      "    # 'treatment' community: possible incorporation\r\n",
      "    treatment = labeled\r\n",
      "    max_perc_taxa_incorp = 34\r\n",
      "    \r\n",
      "    [[intraPopDist 1]]\r\n",
      "        distribution = uniform\r\n",
      "        \r\n",
      "        [[[start]]]\r\n",
      "            [[[[interPopDist 1]]]]\r\n",
      "                start = 50\r\n",
      "                distribution = uniform\r\n",
      "                end = 50\r\n",
      "        \r\n",
      "        [[[end]]]\r\n",
      "            [[[[interPopDist 1]]]]\r\n",
      "                start = 50\r\n",
      "                distribution = uniform\r\n",
      "                end = 50\r\n",
      "    \r\n"
     ]
    }
   ],
   "source": [
    "!cat incorp.config"
   ]
  },
  {
   "cell_type": "markdown",
   "metadata": {
    "deletable": true,
    "editable": true
   },
   "source": [
    "## Pre-fractionation communities\n",
    "\n",
    "* What is the relative abundance of taxa in the pre-fractionation samples?"
   ]
  },
  {
   "cell_type": "code",
   "execution_count": 64,
   "metadata": {
    "ExecuteTime": {
     "end_time": "2017-07-13T14:56:02.385946",
     "start_time": "2017-07-13T14:55:59.042415"
    },
    "collapsed": true,
    "deletable": true,
    "editable": true
   },
   "outputs": [],
   "source": [
    "%%bash\n",
    "source activate SIPSim\n",
    "\n",
    "SIPSim communities \\\n",
    "    --config incorp.config \\\n",
    "    ./genomes_rn/genome_index.txt \\\n",
    "    > comm.txt  "
   ]
  },
  {
   "cell_type": "code",
   "execution_count": 65,
   "metadata": {
    "ExecuteTime": {
     "end_time": "2017-07-13T14:56:02.505326",
     "start_time": "2017-07-13T14:56:02.387672"
    },
    "collapsed": false,
    "deletable": true,
    "editable": true
   },
   "outputs": [
    {
     "name": "stdout",
     "output_type": "stream",
     "text": [
      "library\ttaxon_name\trel_abund_perc\trank\r\n",
      "1\tEscherichia_coli_1303\t68.253282118\t1\r\n",
      "1\tClostridium_ljungdahlii_DSM_13528\t28.910126208\t2\r\n",
      "1\tStreptomyces_pratensis_ATCC_33331\t2.836591673\t3\r\n",
      "2\tEscherichia_coli_1303\t92.501402170\t1\r\n",
      "2\tClostridium_ljungdahlii_DSM_13528\t6.504836572\t2\r\n",
      "2\tStreptomyces_pratensis_ATCC_33331\t0.993761258\t3\r\n"
     ]
    }
   ],
   "source": [
    "!cat comm.txt"
   ]
  },
  {
   "cell_type": "markdown",
   "metadata": {
    "deletable": true,
    "editable": true
   },
   "source": [
    "**Note:** \"library\" = gradient"
   ]
  },
  {
   "cell_type": "markdown",
   "metadata": {
    "deletable": true,
    "editable": true
   },
   "source": [
    "## Simulating gradient fractions\n",
    "\n",
    "* BD size ranges for each fraction (& start/end of the total BD range)"
   ]
  },
  {
   "cell_type": "code",
   "execution_count": 66,
   "metadata": {
    "ExecuteTime": {
     "end_time": "2017-07-13T14:56:05.797578",
     "start_time": "2017-07-13T14:56:02.507184"
    },
    "collapsed": true,
    "deletable": true,
    "editable": true
   },
   "outputs": [],
   "source": [
    "%%bash \n",
    "source activate SIPSim\n",
    "\n",
    "SIPSim gradient_fractions \\\n",
    "    --BD_min 1.67323 \\\n",
    "    --BD_max 1.7744 \\\n",
    "    comm.txt \\\n",
    "    > fracs.txt    "
   ]
  },
  {
   "cell_type": "code",
   "execution_count": 67,
   "metadata": {
    "ExecuteTime": {
     "end_time": "2017-07-13T14:56:05.916583",
     "start_time": "2017-07-13T14:56:05.799274"
    },
    "collapsed": false,
    "deletable": true,
    "editable": true
   },
   "outputs": [
    {
     "name": "stdout",
     "output_type": "stream",
     "text": [
      "library\tfraction\tBD_min\tBD_max\tfraction_size\r\n",
      "1\t1\t1.673\t1.678\t0.005\r\n",
      "1\t2\t1.678\t1.681\t0.003\r\n",
      "1\t3\t1.681\t1.685\t0.004\r\n",
      "1\t4\t1.685\t1.688\t0.003\r\n",
      "1\t5\t1.688\t1.691\t0.003\r\n"
     ]
    }
   ],
   "source": [
    "!head -n 6 fracs.txt"
   ]
  },
  {
   "cell_type": "markdown",
   "metadata": {
    "deletable": true,
    "editable": true
   },
   "source": [
    "# Simulating fragments\n",
    "\n",
    "* Simulating shotgun-fragments\n",
    "* Fragment length distribution: skewed-normal"
   ]
  },
  {
   "cell_type": "markdown",
   "metadata": {
    "deletable": true,
    "editable": true
   },
   "source": [
    "### Primer sequences (wait... what?)\n",
    "\n",
    "* If you were to simulate amplicons, instead of shotgun fragments, you can use something like the following:"
   ]
  },
  {
   "cell_type": "code",
   "execution_count": 68,
   "metadata": {
    "ExecuteTime": {
     "end_time": "2017-07-13T14:56:05.922149",
     "start_time": "2017-07-13T14:56:05.918310"
    },
    "collapsed": false,
    "deletable": true,
    "editable": true
   },
   "outputs": [],
   "source": [
    "# primers = \"\"\">515F\n",
    "# GTGCCAGCMGCCGCGGTAA\n",
    "# >806R\n",
    "# GGACTACHVGGGTWTCTAAT\n",
    "# \"\"\"\n",
    "\n",
    "# F = os.path.join(workDir, '515F-806R.fna')\n",
    "# with open(F, 'wb') as oFH:\n",
    "#     oFH.write(primers)\n",
    "    \n",
    "# print 'File written: {}'.format(F)"
   ]
  },
  {
   "cell_type": "markdown",
   "metadata": {
    "deletable": true,
    "editable": true
   },
   "source": [
    "### Simulation"
   ]
  },
  {
   "cell_type": "code",
   "execution_count": 69,
   "metadata": {
    "ExecuteTime": {
     "end_time": "2017-07-13T14:56:10.148113",
     "start_time": "2017-07-13T14:56:05.923635"
    },
    "collapsed": false,
    "deletable": true,
    "editable": true
   },
   "outputs": [
    {
     "name": "stderr",
     "output_type": "stream",
     "text": [
      "Processing: \"Clostridium_ljungdahlii_DSM_13528\"\n",
      "  Genome name: Clostridium_ljungdahlii_DSM_13528\n",
      "  Genome length (bp): 4630065\n",
      "  Number of amplicons: None\n",
      "  Number of fragments simulated: 1000\n",
      "Processing: \"Escherichia_coli_1303\"\n",
      "  Genome name: Escherichia_coli_1303\n",
      "  Genome length (bp): 4948797\n",
      "  Number of amplicons: None\n",
      "  Number of fragments simulated: 1000\n",
      "Processing: \"Streptomyces_pratensis_ATCC_33331\"\n",
      "  Genome name: Streptomyces_pratensis_ATCC_33331\n",
      "  Genome length (bp): 7337497\n",
      "  Number of amplicons: None\n",
      "  Number of fragments simulated: 1000\n"
     ]
    }
   ],
   "source": [
    "%%bash -s $genomeDir\n",
    "source activate SIPSim \n",
    "\n",
    "# skewed-normal\n",
    "SIPSim fragments \\\n",
    "    $1/genome_index.txt \\\n",
    "    --fp $1 \\\n",
    "    --fld skewed-normal,9000,2500,-5 \\\n",
    "    --flr None,None \\\n",
    "    --nf 1000 \\\n",
    "    --debug \\\n",
    "    --tbl \\\n",
    "    > shotFrags.txt       "
   ]
  },
  {
   "cell_type": "code",
   "execution_count": 70,
   "metadata": {
    "ExecuteTime": {
     "end_time": "2017-07-13T14:56:10.382694",
     "start_time": "2017-07-13T14:56:10.149742"
    },
    "collapsed": false,
    "deletable": true,
    "editable": true
   },
   "outputs": [
    {
     "name": "stdout",
     "output_type": "stream",
     "text": [
      "taxon_name\tscaffoldID\tfragStart\tfragLength\tfragGC\n",
      "Clostridium_ljungdahlii_DSM_13528\tNC_014328_1_Clostridium_ljungdahlii_DSM_13528\t1296246\t5561\t33.26739795\n",
      "Clostridium_ljungdahlii_DSM_13528\tNC_014328_1_Clostridium_ljungdahlii_DSM_13528\t4068528\t5412\t33.2779009608\n",
      "Clostridium_ljungdahlii_DSM_13528\tNC_014328_1_Clostridium_ljungdahlii_DSM_13528\t2495157\t7520\t32.6329787234\n",
      "Clostridium_ljungdahlii_DSM_13528\tNC_014328_1_Clostridium_ljungdahlii_DSM_13528\t897751\t7963\t31.2193896773\n",
      "Streptomyces_pratensis_ATCC_33331\tNC_016114_1_Streptomyces_pratensis_ATCC_33331\t250918\t8676\t70.7353619179\n",
      "Streptomyces_pratensis_ATCC_33331\tNC_016114_1_Streptomyces_pratensis_ATCC_33331\t724379\t4989\t72.2589697334\n",
      "Streptomyces_pratensis_ATCC_33331\tNC_016114_1_Streptomyces_pratensis_ATCC_33331\t7086109\t7293\t69.5598519128\n",
      "Streptomyces_pratensis_ATCC_33331\tNC_016114_1_Streptomyces_pratensis_ATCC_33331\t3183927\t7265\t72.6496902959\n",
      "Streptomyces_pratensis_ATCC_33331\tNC_016114_1_Streptomyces_pratensis_ATCC_33331\t6176829\t5531\t73.9106852287\n"
     ]
    }
   ],
   "source": [
    "!head -n 5 shotFrags.txt\n",
    "!tail -n 5 shotFrags.txt"
   ]
  },
  {
   "cell_type": "markdown",
   "metadata": {
    "deletable": true,
    "editable": true
   },
   "source": [
    "### Plotting fragments"
   ]
  },
  {
   "cell_type": "code",
   "execution_count": 71,
   "metadata": {
    "ExecuteTime": {
     "end_time": "2017-07-13T14:56:11.288626",
     "start_time": "2017-07-13T14:56:10.384465"
    },
    "collapsed": false,
    "deletable": true,
    "editable": true
   },
   "outputs": [
    {
     "data": {
      "image/png": "[encoded data removed]"
     },
     "metadata": {},
     "output_type": "display_data"
    }
   ],
   "source": [
    "%%R -w 700 -h 350\n",
    "\n",
    "df = read.delim('shotFrags.txt')\n",
    "\n",
    "p = ggplot(df, aes(fragGC, fragLength, color=taxon_name)) +\n",
    "    geom_density2d() +\n",
    "    scale_color_discrete('Taxon') +\n",
    "    labs(x='Fragment G+C', y='Fragment length (bp)') +\n",
    "    theme_bw() +\n",
    "    theme(\n",
    "        text = element_text(size=16)\n",
    "    )\n",
    "plot(p)"
   ]
  },
  {
   "cell_type": "markdown",
   "metadata": {
    "deletable": true,
    "editable": true
   },
   "source": [
    "**Note:** for information on what's going on in this config file, use the command: `SIPSim isotope_incorp -h`"
   ]
  },
  {
   "cell_type": "markdown",
   "metadata": {
    "deletable": true,
    "editable": true
   },
   "source": [
    "## Converting fragments to a 2d-KDE\n",
    "\n",
    "* Estimating the joint-probabilty for fragment G+C & length"
   ]
  },
  {
   "cell_type": "code",
   "execution_count": 72,
   "metadata": {
    "ExecuteTime": {
     "end_time": "2017-07-13T14:56:14.625184",
     "start_time": "2017-07-13T14:56:11.290381"
    },
    "collapsed": false,
    "deletable": true,
    "editable": true
   },
   "outputs": [],
   "source": [
    "%%bash \n",
    "source activate SIPSim\n",
    "\n",
    "SIPSim fragment_KDE \\\n",
    "    shotFrags.txt \\\n",
    "    > shotFrags_kde.pkl"
   ]
  },
  {
   "cell_type": "code",
   "execution_count": 73,
   "metadata": {
    "ExecuteTime": {
     "end_time": "2017-07-13T14:56:14.746271",
     "start_time": "2017-07-13T14:56:14.627468"
    },
    "collapsed": false,
    "deletable": true,
    "editable": true
   },
   "outputs": [
    {
     "name": "stdout",
     "output_type": "stream",
     "text": [
      "-rw-rw-r-- 1 nick nick 49K Jul 13 14:56 shotFrags_kde.pkl\r\n"
     ]
    }
   ],
   "source": [
    "!ls -thlc shotFrags_kde.pkl"
   ]
  },
  {
   "cell_type": "markdown",
   "metadata": {
    "deletable": true,
    "editable": true
   },
   "source": [
    "* **Note:** The generated list of KDEs (1 per taxon per gradient) are in a binary file format\n",
    "  * To get a table of length/G+C values, use the command: `SIPSim KDE_sample`"
   ]
  },
  {
   "cell_type": "markdown",
   "metadata": {
    "deletable": true,
    "editable": true
   },
   "source": [
    "## Adding diffusion \n",
    "\n",
    "* Simulating the BD distribution of fragments as Gaussian distributions. \n",
    "  * One Gaussian distribution per homogeneous set of DNA molecules (same G+C and length)\n",
    "  \n",
    "> See the README if you get `MKL` errors with the next step and re-run the `fragment KDE` generation step"
   ]
  },
  {
   "cell_type": "code",
   "execution_count": 74,
   "metadata": {
    "ExecuteTime": {
     "end_time": "2017-07-13T14:56:29.526229",
     "start_time": "2017-07-13T14:56:14.748428"
    },
    "collapsed": false,
    "deletable": true,
    "editable": true
   },
   "outputs": [
    {
     "name": "stderr",
     "output_type": "stream",
     "text": [
      "Index size: 90508\n",
      "Processing: Escherichia_coli_1303\n",
      "Processing: Clostridium_ljungdahlii_DSM_13528\n",
      "Processing: Streptomyces_pratensis_ATCC_33331\n"
     ]
    }
   ],
   "source": [
    "%%bash \n",
    "source activate SIPSim\n",
    "\n",
    "SIPSim diffusion \\\n",
    "    shotFrags_kde.pkl \\\n",
    "    --np 3 \\\n",
    "    > shotFrags_kde_dif.pkl        "
   ]
  },
  {
   "cell_type": "code",
   "execution_count": 75,
   "metadata": {
    "ExecuteTime": {
     "end_time": "2017-07-13T14:56:29.654067",
     "start_time": "2017-07-13T14:56:29.528395"
    },
    "collapsed": false,
    "deletable": true,
    "editable": true
   },
   "outputs": [
    {
     "name": "stdout",
     "output_type": "stream",
     "text": [
      "-rw-rw-r-- 1 nick nick 12M Jul 13 14:56 shotFrags_kde_dif.pkl\r\n"
     ]
    }
   ],
   "source": [
    "!ls -thlc shotFrags_kde_dif.pkl "
   ]
  },
  {
   "cell_type": "markdown",
   "metadata": {
    "deletable": true,
    "editable": true
   },
   "source": [
    "# Plotting fragment distribution w/ and w/out diffusion"
   ]
  },
  {
   "cell_type": "markdown",
   "metadata": {
    "deletable": true,
    "editable": true
   },
   "source": [
    "## Making a table of fragment values from KDEs"
   ]
  },
  {
   "cell_type": "code",
   "execution_count": 76,
   "metadata": {
    "ExecuteTime": {
     "end_time": "2017-07-13T14:56:29.658999",
     "start_time": "2017-07-13T14:56:29.656028"
    },
    "collapsed": true,
    "deletable": true,
    "editable": true
   },
   "outputs": [],
   "source": [
    "n = 100000"
   ]
  },
  {
   "cell_type": "code",
   "execution_count": 77,
   "metadata": {
    "ExecuteTime": {
     "end_time": "2017-07-13T14:56:35.492968",
     "start_time": "2017-07-13T14:56:29.661050"
    },
    "collapsed": false,
    "deletable": true,
    "editable": true
   },
   "outputs": [
    {
     "name": "stdout",
     "output_type": "stream",
     "text": [
      "-rw-rw-r-- 1 nick nick 4.2M Jul 13 14:56 shotFrags_kde_dif.txt\n",
      "-rw-rw-r-- 1 nick nick 4.2M Jul 13 14:56 shotFrags_kde.txt\n"
     ]
    }
   ],
   "source": [
    "%%bash -s $n\n",
    "source activate SIPSim\n",
    "\n",
    "SIPSim KDE_sample -n $1 shotFrags_kde.pkl > shotFrags_kde.txt\n",
    "SIPSim KDE_sample -n $1 shotFrags_kde_dif.pkl > shotFrags_kde_dif.txt\n",
    "\n",
    "ls -thlc shotFrags_kde*.txt"
   ]
  },
  {
   "cell_type": "markdown",
   "metadata": {
    "deletable": true,
    "editable": true
   },
   "source": [
    "## Plotting\n",
    "\n",
    "* plotting KDE with or without diffusion added"
   ]
  },
  {
   "cell_type": "code",
   "execution_count": 78,
   "metadata": {
    "ExecuteTime": {
     "end_time": "2017-07-13T14:56:38.550207",
     "start_time": "2017-07-13T14:56:35.495115"
    },
    "collapsed": false,
    "deletable": true,
    "editable": true
   },
   "outputs": [
    {
     "data": {
      "text/plain": [
       "  libID         data                              Taxon       BD\n",
       "1     1 no diffusion Clostridium_ljungdahlii\\nDSM_13528 1.688926\n",
       "2     1 no diffusion Clostridium_ljungdahlii\\nDSM_13528 1.690790\n",
       "3     1 no diffusion Clostridium_ljungdahlii\\nDSM_13528 1.688911\n"
      ]
     },
     "metadata": {},
     "output_type": "display_data"
    }
   ],
   "source": [
    "%%R\n",
    "df1 = read.delim('shotFrags_kde.txt', sep='\\t')\n",
    "df2 = read.delim('shotFrags_kde_dif.txt', sep='\\t')\n",
    "\n",
    "df1$data = 'no diffusion'\n",
    "df2$data = 'diffusion'\n",
    "df = rbind(df1, df2) %>%\n",
    "    gather(Taxon, BD, Clostridium_ljungdahlii_DSM_13528, \n",
    "           Escherichia_coli_1303, Streptomyces_pratensis_ATCC_33331) %>%\n",
    "    mutate(Taxon = gsub('_(ATCC|DSM)', '\\n\\\\1', Taxon))\n",
    "\n",
    "df %>% head(n=3)"
   ]
  },
  {
   "cell_type": "code",
   "execution_count": 79,
   "metadata": {
    "ExecuteTime": {
     "end_time": "2017-07-13T14:56:41.079842",
     "start_time": "2017-07-13T14:56:38.551838"
    },
    "collapsed": false,
    "deletable": true,
    "editable": true
   },
   "outputs": [
    {
     "data": {
      "image/png": "[encoded data removed]"
     },
     "metadata": {},
     "output_type": "display_data"
    }
   ],
   "source": [
    "%%R -w 800 -h 300\n",
    "\n",
    "p = ggplot(df, aes(BD, fill=data)) +\n",
    "    geom_density(alpha=0.25) +\n",
    "    facet_wrap( ~ Taxon) +    \n",
    "    scale_fill_discrete('') +\n",
    "    theme_bw() +\n",
    "    theme(\n",
    "        text=element_text(size=16),\n",
    "        axis.title.y = element_text(vjust=1),\n",
    "        axis.text.x = element_text(angle=50, hjust=1)\n",
    "        )\n",
    "\n",
    "plot(p)"
   ]
  },
  {
   "cell_type": "markdown",
   "metadata": {
    "collapsed": true,
    "deletable": true,
    "editable": true
   },
   "source": [
    "# Adding diffusive boundary layer (DBL) effects\n",
    "\n",
    "* 'smearing' effects "
   ]
  },
  {
   "cell_type": "code",
   "execution_count": 80,
   "metadata": {
    "ExecuteTime": {
     "end_time": "2017-07-13T14:56:44.946554",
     "start_time": "2017-07-13T14:56:41.081239"
    },
    "collapsed": false,
    "deletable": true,
    "editable": true
   },
   "outputs": [
    {
     "name": "stderr",
     "output_type": "stream",
     "text": [
      "DBL_index file written: \"DBL_index.txt\"\n",
      "Processing: Clostridium_ljungdahlii_DSM_13528\n",
      "Processing: Streptomyces_pratensis_ATCC_33331\n",
      "Processing: Escherichia_coli_1303\n"
     ]
    }
   ],
   "source": [
    "%%bash \n",
    "source activate SIPSim\n",
    "\n",
    "SIPSim DBL \\\n",
    "    shotFrags_kde_dif.pkl \\\n",
    "    --np 3 \\\n",
    "    > shotFrags_kde_dif_DBL.pkl"
   ]
  },
  {
   "cell_type": "code",
   "execution_count": 81,
   "metadata": {
    "ExecuteTime": {
     "end_time": "2017-07-13T14:56:45.077448",
     "start_time": "2017-07-13T14:56:44.948934"
    },
    "collapsed": false,
    "deletable": true,
    "editable": true
   },
   "outputs": [
    {
     "name": "stdout",
     "output_type": "stream",
     "text": [
      "-rw-rw-r-- 1 nick nick 12M Jul 13 14:56 shotFrags_kde_dif_DBL.pkl\r\n",
      "-rw-rw-r-- 1 nick nick 12M Jul 13 14:56 shotFrags_kde_dif.pkl\r\n",
      "-rw-rw-r-- 1 nick nick 49K Jul 13 14:56 shotFrags_kde.pkl\r\n",
      "-rw-rw-r-- 1 nick nick 23M Jul 13 14:55 shotFrags_KDE_dif_DBL_inc.pkl\r\n"
     ]
    }
   ],
   "source": [
    "# viewing DBL logs\n",
    "!ls -thlc *pkl"
   ]
  },
  {
   "cell_type": "markdown",
   "metadata": {
    "collapsed": true,
    "deletable": true,
    "editable": true
   },
   "source": [
    "# Adding isotope incorporation\n",
    "\n",
    "* Using the config file produced in the Experimental Design section"
   ]
  },
  {
   "cell_type": "code",
   "execution_count": 82,
   "metadata": {
    "ExecuteTime": {
     "end_time": "2017-07-13T14:56:52.179944",
     "start_time": "2017-07-13T14:56:45.080288"
    },
    "collapsed": false,
    "deletable": true,
    "editable": true
   },
   "outputs": [
    {
     "name": "stderr",
     "output_type": "stream",
     "text": [
      "Loading KDE object...\n",
      "Processing library: 1\n",
      "Processing: Clostridium_ljungdahlii_DSM_13528\n",
      "Processing: Escherichia_coli_1303\n",
      "Processing: Streptomyces_pratensis_ATCC_33331\n",
      "Processing library: 2\n",
      "WARNING: config library 2 not found in KDEs.Using a different KDE object\n",
      "Processing: Clostridium_ljungdahlii_DSM_13528\n",
      "Processing: Escherichia_coli_1303\n",
      "Processing: Streptomyces_pratensis_ATCC_33331\n",
      "File written: BD-shift_stats.txt\n"
     ]
    }
   ],
   "source": [
    "%%bash\n",
    "source activate SIPSim\n",
    "\n",
    "SIPSim isotope_incorp \\\n",
    "    --comm comm.txt \\\n",
    "    --np 3 \\\n",
    "    shotFrags_kde_dif_DBL.pkl \\\n",
    "    incorp.config \\\n",
    "    > shotFrags_KDE_dif_DBL_inc.pkl"
   ]
  },
  {
   "cell_type": "code",
   "execution_count": 83,
   "metadata": {
    "ExecuteTime": {
     "end_time": "2017-07-13T14:56:52.301830",
     "start_time": "2017-07-13T14:56:52.181613"
    },
    "collapsed": false,
    "deletable": true,
    "editable": true
   },
   "outputs": [
    {
     "name": "stdout",
     "output_type": "stream",
     "text": [
      "-rw-rw-r-- 1 nick nick 23M Jul 13 14:56 shotFrags_KDE_dif_DBL_inc.pkl\r\n",
      "-rw-rw-r-- 1 nick nick 12M Jul 13 14:56 shotFrags_kde_dif_DBL.pkl\r\n",
      "-rw-rw-r-- 1 nick nick 12M Jul 13 14:56 shotFrags_kde_dif.pkl\r\n",
      "-rw-rw-r-- 1 nick nick 49K Jul 13 14:56 shotFrags_kde.pkl\r\n"
     ]
    }
   ],
   "source": [
    "!ls -thlc *.pkl"
   ]
  },
  {
   "cell_type": "markdown",
   "metadata": {
    "deletable": true,
    "editable": true
   },
   "source": [
    "**Note:** statistics on how much isotope was incorporated by each taxon are listed in \"BD-shift_stats.txt\""
   ]
  },
  {
   "cell_type": "code",
   "execution_count": 84,
   "metadata": {
    "ExecuteTime": {
     "end_time": "2017-07-13T14:56:52.315888",
     "start_time": "2017-07-13T14:56:52.303618"
    },
    "collapsed": false,
    "deletable": true,
    "editable": true
   },
   "outputs": [
    {
     "data": {
      "text/plain": [
       "  library                             taxon          min          q25\n",
       "1       1 Clostridium_ljungdahlii_DSM_13528 1.354472e-14 1.665335e-14\n",
       "2       1             Escherichia_coli_1303 1.865175e-14 1.909584e-14\n",
       "3       1 Streptomyces_pratensis_ATCC_33331 2.398082e-14 2.553513e-14\n",
       "4       2 Clostridium_ljungdahlii_DSM_13528 0.000000e+00 0.000000e+00\n",
       "5       2             Escherichia_coli_1303 1.800000e-02 1.800000e-02\n",
       "6       2 Streptomyces_pratensis_ATCC_33331 0.000000e+00 0.000000e+00\n",
       "          mean       median          q75          max\n",
       "1 1.976999e-14 1.976197e-14 2.287059e-14 2.597922e-14\n",
       "2 1.961649e-14 1.953993e-14 1.998401e-14 2.042810e-14\n",
       "3 2.695465e-14 2.686740e-14 2.842171e-14 2.997602e-14\n",
       "4 0.000000e+00 0.000000e+00 0.000000e+00 0.000000e+00\n",
       "5 1.800000e-02 1.800000e-02 1.800000e-02 1.800000e-02\n",
       "6 0.000000e+00 0.000000e+00 0.000000e+00 0.000000e+00\n"
      ]
     },
     "metadata": {},
     "output_type": "display_data"
    }
   ],
   "source": [
    "%%R\n",
    "df = read.delim('BD-shift_stats.txt', sep='\\t')\n",
    "df "
   ]
  },
  {
   "cell_type": "markdown",
   "metadata": {
    "deletable": true,
    "editable": true
   },
   "source": [
    "# Making an OTU table\n",
    "\n",
    "* Number of amplicon-fragment in each fraction in each gradient\n",
    "* Assuming a total pre-fractionation community size of **1e7**"
   ]
  },
  {
   "cell_type": "code",
   "execution_count": 85,
   "metadata": {
    "ExecuteTime": {
     "end_time": "2017-07-13T14:57:08.088284",
     "start_time": "2017-07-13T14:56:52.317598"
    },
    "collapsed": false,
    "deletable": true,
    "editable": true
   },
   "outputs": [
    {
     "name": "stderr",
     "output_type": "stream",
     "text": [
      "Loading files...\n",
      "Simulating OTUs...\n",
      "Processing library: \"1\"\n",
      "  Processing taxon: \"Escherichia_coli_1303\"\n",
      "   taxon abs-abundance:  6825328\n",
      "  Processing taxon: \"Clostridium_ljungdahlii_DSM_13528\"\n",
      "   taxon abs-abundance:  2891013\n",
      "  Processing taxon: \"Streptomyces_pratensis_ATCC_33331\"\n",
      "   taxon abs-abundance:  283659\n",
      "Processing library: \"2\"\n",
      "  Processing taxon: \"Escherichia_coli_1303\"\n",
      "   taxon abs-abundance:  9250140\n",
      "  Processing taxon: \"Clostridium_ljungdahlii_DSM_13528\"\n",
      "   taxon abs-abundance:  650484\n",
      "  Processing taxon: \"Streptomyces_pratensis_ATCC_33331\"\n",
      "   taxon abs-abundance:  99376\n"
     ]
    }
   ],
   "source": [
    "%%bash\n",
    "source activate SIPSim\n",
    "\n",
    "SIPSim OTU_table \\\n",
    "    --abs 1e7 \\\n",
    "    --np 3 \\\n",
    "    shotFrags_KDE_dif_DBL_inc.pkl \\\n",
    "    comm.txt \\\n",
    "    fracs.txt \\\n",
    "    > OTU.txt"
   ]
  },
  {
   "cell_type": "code",
   "execution_count": 86,
   "metadata": {
    "ExecuteTime": {
     "end_time": "2017-07-13T14:57:08.211225",
     "start_time": "2017-07-13T14:57:08.090042"
    },
    "collapsed": false,
    "deletable": true,
    "editable": true
   },
   "outputs": [
    {
     "name": "stdout",
     "output_type": "stream",
     "text": [
      "library\ttaxon\tfraction\tBD_min\tBD_mid\tBD_max\tcount\trel_abund\r\n",
      "1\tClostridium_ljungdahlii_DSM_13528\t-inf-1.673\t-inf\t1.672\t1.672\t1075\t0.484452456061\r\n",
      "1\tClostridium_ljungdahlii_DSM_13528\t1.673-1.678\t1.673\t1.675\t1.678\t984\t0.704871060172\r\n",
      "1\tClostridium_ljungdahlii_DSM_13528\t1.678-1.681\t1.678\t1.679\t1.681\t7069\t0.968754282582\r\n",
      "1\tClostridium_ljungdahlii_DSM_13528\t1.681-1.685\t1.681\t1.683\t1.685\t135783\t0.994914894085\r\n",
      "1\tClostridium_ljungdahlii_DSM_13528\t1.685-1.688\t1.685\t1.687\t1.688\t518595\t0.996690479073\r\n",
      "1\tClostridium_ljungdahlii_DSM_13528\t1.688-1.691\t1.688\t1.69\t1.691\t980471\t0.993720272392\r\n"
     ]
    }
   ],
   "source": [
    "!head -n 7 OTU.txt"
   ]
  },
  {
   "cell_type": "markdown",
   "metadata": {
    "deletable": true,
    "editable": true
   },
   "source": [
    "### Plotting fragment count distributions"
   ]
  },
  {
   "cell_type": "code",
   "execution_count": 87,
   "metadata": {
    "ExecuteTime": {
     "end_time": "2017-07-13T14:57:08.869348",
     "start_time": "2017-07-13T14:57:08.213127"
    },
    "collapsed": false,
    "deletable": true,
    "editable": true
   },
   "outputs": [
    {
     "data": {
      "image/png": "[encoded data removed]"
     },
     "metadata": {},
     "output_type": "display_data"
    }
   ],
   "source": [
    "%%R -h 350 -w 750\n",
    "\n",
    "df = read.delim('OTU.txt', sep='\\t')\n",
    "\n",
    "p = ggplot(df, aes(BD_mid, count, fill=taxon)) +\n",
    "    geom_area(stat='identity', position='dodge', alpha=0.5) +\n",
    "    scale_x_continuous(expand=c(0,0)) +\n",
    "    labs(x='Buoyant density') +\n",
    "    labs(y='Shotgun fragment counts') +\n",
    "    facet_grid(library ~ .) +\n",
    "    theme_bw() +\n",
    "    theme( \n",
    "        text = element_text(size=16),\n",
    "        axis.title.y = element_text(vjust=1),        \n",
    "        axis.title.x = element_blank()\n",
    "    )\n",
    "plot(p)"
   ]
  },
  {
   "cell_type": "markdown",
   "metadata": {
    "deletable": true,
    "editable": true
   },
   "source": [
    "**Notes:** \n",
    "\n",
    "* This plot represents the theoretical number of amplicon-fragments at each BD across each gradient. \n",
    "  * Derived from subsampling the fragment BD proability distributions generated in earlier steps.\n",
    "* The fragment BD distribution of one of the 3 taxa should have shifted in Gradient 2 (the treatment gradient).\n",
    "* The fragment BD distributions of the other 2 taxa should be approx. the same between the two gradients."
   ]
  },
  {
   "cell_type": "markdown",
   "metadata": {
    "deletable": true,
    "editable": true
   },
   "source": [
    "### Viewing fragment counts as relative quantities "
   ]
  },
  {
   "cell_type": "code",
   "execution_count": 88,
   "metadata": {
    "ExecuteTime": {
     "end_time": "2017-07-13T14:57:09.463365",
     "start_time": "2017-07-13T14:57:08.870802"
    },
    "collapsed": false,
    "deletable": true,
    "editable": true
   },
   "outputs": [
    {
     "data": {
      "image/png": "[encoded data removed]"
     },
     "metadata": {},
     "output_type": "display_data"
    }
   ],
   "source": [
    "%%R -h 350 -w 750\n",
    "\n",
    "p = ggplot(df, aes(BD_mid, count, fill=taxon)) +\n",
    "    geom_area(stat='identity', position='fill') +\n",
    "    scale_x_continuous(expand=c(0,0)) +\n",
    "    scale_y_continuous(expand=c(0,0)) +\n",
    "    labs(x='Buoyant density') +\n",
    "    labs(y='Shotgun fragment counts') +\n",
    "    facet_grid(library ~ .) +\n",
    "    theme_bw() +\n",
    "    theme( \n",
    "        text = element_text(size=16),\n",
    "        axis.title.y = element_text(vjust=1),        \n",
    "        axis.title.x = element_blank()\n",
    "    )\n",
    "plot(p)"
   ]
  },
  {
   "cell_type": "markdown",
   "metadata": {
    "deletable": true,
    "editable": true
   },
   "source": [
    "# Adding effects of PCR\n",
    "\n",
    "* This will alter the fragment counts based on the PCR kinetic model of:\n",
    ">Suzuki MT, Giovannoni SJ. (1996). Bias caused by template annealing in the\n",
    "  amplification of mixtures of 16S rRNA genes by PCR. Appl Environ Microbiol\n",
    "  62:625-630."
   ]
  },
  {
   "cell_type": "code",
   "execution_count": 89,
   "metadata": {
    "ExecuteTime": {
     "end_time": "2017-07-13T14:57:13.167493",
     "start_time": "2017-07-13T14:57:09.464902"
    },
    "collapsed": true,
    "deletable": true,
    "editable": true
   },
   "outputs": [],
   "source": [
    "%%bash\n",
    "source activate SIPSim\n",
    "\n",
    "SIPSim OTU_PCR OTU.txt > OTU_PCR.txt    "
   ]
  },
  {
   "cell_type": "code",
   "execution_count": 90,
   "metadata": {
    "ExecuteTime": {
     "end_time": "2017-07-13T14:57:13.414605",
     "start_time": "2017-07-13T14:57:13.169777"
    },
    "collapsed": false,
    "deletable": true,
    "editable": true
   },
   "outputs": [
    {
     "name": "stdout",
     "output_type": "stream",
     "text": [
      "library\ttaxon\tfraction\tBD_min\tBD_mid\tBD_max\tcount\trel_abund\n",
      "1\tClostridium_ljungdahlii_DSM_13528\t-inf-1.673\t-inf\t1.672\t1.672\t8466486\t0.423324319678\n",
      "1\tClostridium_ljungdahlii_DSM_13528\t1.673-1.678\t1.673\t1.675\t1.678\t9469222\t0.473461104378\n",
      "1\tClostridium_ljungdahlii_DSM_13528\t1.678-1.681\t1.678\t1.679\t1.681\t13571521\t0.678576027723\n",
      "1\tClostridium_ljungdahlii_DSM_13528\t1.681-1.685\t1.681\t1.683\t1.685\t14776381\t0.738819047776\n",
      "2\tStreptomyces_pratensis_ATCC_33331\t1.757-1.761\t1.757\t1.759\t1.761\t3256167\t0.162808343771\n",
      "2\tStreptomyces_pratensis_ATCC_33331\t1.761-1.764\t1.761\t1.762\t1.764\t0\t0.0\n",
      "2\tStreptomyces_pratensis_ATCC_33331\t1.764-1.770\t1.764\t1.767\t1.77\t2373725\t0.118686263969\n",
      "2\tStreptomyces_pratensis_ATCC_33331\t1.770-1.774\t1.77\t1.772\t1.774\t4147246\t0.207362287667\n",
      "2\tStreptomyces_pratensis_ATCC_33331\t1.774-inf\t1.775\t1.775\tinf\t4686423\t0.234321138305\n"
     ]
    }
   ],
   "source": [
    "!head -n 5 OTU_PCR.txt\n",
    "!tail -n 5 OTU_PCR.txt"
   ]
  },
  {
   "cell_type": "markdown",
   "metadata": {
    "deletable": true,
    "editable": true
   },
   "source": [
    "**Notes**\n",
    "\n",
    "* The table is in the same format as with the original OTU table, but the counts and relative abundances should be altered."
   ]
  },
  {
   "cell_type": "markdown",
   "metadata": {
    "deletable": true,
    "editable": true
   },
   "source": [
    "# Simulating sequencing\n",
    "\n",
    "* Sampling from the OTU table"
   ]
  },
  {
   "cell_type": "code",
   "execution_count": 91,
   "metadata": {
    "ExecuteTime": {
     "end_time": "2017-07-13T14:57:17.707852",
     "start_time": "2017-07-13T14:57:13.416496"
    },
    "collapsed": true,
    "deletable": true,
    "editable": true
   },
   "outputs": [],
   "source": [
    "%%bash\n",
    "source activate SIPSim\n",
    "\n",
    "SIPSim OTU_subsample OTU_PCR.txt > OTU_PCR_sub.txt"
   ]
  },
  {
   "cell_type": "code",
   "execution_count": 92,
   "metadata": {
    "ExecuteTime": {
     "end_time": "2017-07-13T14:57:17.831459",
     "start_time": "2017-07-13T14:57:17.709614"
    },
    "collapsed": false,
    "deletable": true,
    "editable": true
   },
   "outputs": [
    {
     "name": "stdout",
     "output_type": "stream",
     "text": [
      "library\tfraction\ttaxon\tBD_min\tBD_mid\tBD_max\tcount\trel_abund\r\n",
      "1\t-inf-1.673\tClostridium_ljungdahlii_DSM_13528\t-inf\t1.672\t1.672\t5862\t0.41433418151\r\n",
      "1\t1.673-1.678\tClostridium_ljungdahlii_DSM_13528\t1.673\t1.675\t1.678\t8144\t0.481352325788\r\n",
      "1\t1.678-1.681\tClostridium_ljungdahlii_DSM_13528\t1.678\t1.679\t1.681\t17007\t0.679926438252\r\n",
      "1\t1.681-1.685\tClostridium_ljungdahlii_DSM_13528\t1.681\t1.683\t1.685\t9657\t0.734763752568\r\n"
     ]
    }
   ],
   "source": [
    "!head -n 5 OTU_PCR_sub.txt"
   ]
  },
  {
   "cell_type": "markdown",
   "metadata": {
    "deletable": true,
    "editable": true
   },
   "source": [
    "**Notes**\n",
    "\n",
    "* The table is in the same format as with the original OTU table, but the counts and relative abundances should be altered."
   ]
  },
  {
   "cell_type": "markdown",
   "metadata": {
    "deletable": true,
    "editable": true
   },
   "source": [
    "### Plotting"
   ]
  },
  {
   "cell_type": "code",
   "execution_count": 93,
   "metadata": {
    "ExecuteTime": {
     "end_time": "2017-07-13T14:57:18.463224",
     "start_time": "2017-07-13T14:57:17.833287"
    },
    "collapsed": false,
    "deletable": true,
    "editable": true
   },
   "outputs": [
    {
     "data": {
      "image/png": "[encoded data removed]"
     },
     "metadata": {},
     "output_type": "display_data"
    }
   ],
   "source": [
    "%%R -h 350 -w 750\n",
    "\n",
    "df = read.delim('OTU_PCR_sub.txt', sep='\\t')\n",
    "\n",
    "\n",
    "p = ggplot(df, aes(BD_mid, rel_abund, fill=taxon)) +\n",
    "    geom_area(stat='identity', position='fill') +\n",
    "    scale_x_continuous(expand=c(0,0)) +\n",
    "    scale_y_continuous(expand=c(0,0)) +\n",
    "    labs(x='Buoyant density') +\n",
    "    labs(y='Taxon relative abundances') +\n",
    "    facet_grid(library ~ .) +\n",
    "    theme_bw() +\n",
    "    theme( \n",
    "        text = element_text(size=16),\n",
    "        axis.title.y = element_text(vjust=1),        \n",
    "        axis.title.x = element_blank()\n",
    "    )\n",
    "plot(p)"
   ]
  },
  {
   "cell_type": "markdown",
   "metadata": {
    "deletable": true,
    "editable": true
   },
   "source": [
    "# Misc"
   ]
  },
  {
   "cell_type": "markdown",
   "metadata": {
    "deletable": true,
    "editable": true
   },
   "source": [
    "### A 'wide' OTU table\n",
    "\n",
    "* If you want to reformat the OTU table to a more standard 'wide' format (as used in Mothur or QIIME):"
   ]
  },
  {
   "cell_type": "code",
   "execution_count": 94,
   "metadata": {
    "ExecuteTime": {
     "end_time": "2017-07-13T14:57:21.758525",
     "start_time": "2017-07-13T14:57:18.464828"
    },
    "collapsed": true,
    "deletable": true,
    "editable": true
   },
   "outputs": [],
   "source": [
    "%%bash\n",
    "source activate SIPSim\n",
    "\n",
    "SIPSim OTU_wide_long -w \\\n",
    "    OTU_PCR_sub.txt \\\n",
    "    > OTU_PCR_sub_wide.txt"
   ]
  },
  {
   "cell_type": "code",
   "execution_count": 95,
   "metadata": {
    "ExecuteTime": {
     "end_time": "2017-07-13T14:57:21.881570",
     "start_time": "2017-07-13T14:57:21.760378"
    },
    "collapsed": false,
    "deletable": true,
    "editable": true
   },
   "outputs": [
    {
     "name": "stdout",
     "output_type": "stream",
     "text": [
      "taxon\t1__-inf-1.673\t1__1.673-1.678\t1__1.678-1.681\t1__1.681-1.685\t1__1.685-1.688\t1__1.688-1.691\t1__1.691-1.695\t1__1.695-1.698\t1__1.698-1.700\t1__1.700-1.701\t1__1.701-1.706\t1__1.706-1.711\t1__1.711-1.714\t1__1.714-1.719\t1__1.719-1.723\t1__1.723-1.726\t1__1.726-1.729\t1__1.729-1.733\t1__1.733-1.737\t1__1.737-1.743\t1__1.743-1.748\t1__1.748-1.754\t1__1.754-1.758\t1__1.758-1.762\t1__1.762-1.764\t1__1.764-1.769\t1__1.769-1.774\t1__1.774-inf\t2__-inf-1.673\t2__1.673-1.676\t2__1.676-1.679\t2__1.679-1.682\t2__1.682-1.683\t2__1.683-1.686\t2__1.686-1.687\t2__1.687-1.690\t2__1.690-1.695\t2__1.695-1.701\t2__1.701-1.706\t2__1.706-1.709\t2__1.709-1.712\t2__1.712-1.717\t2__1.717-1.720\t2__1.720-1.723\t2__1.723-1.728\t2__1.728-1.731\t2__1.731-1.738\t2__1.738-1.742\t2__1.742-1.748\t2__1.748-1.750\t2__1.750-1.753\t2__1.753-1.757\t2__1.757-1.761\t2__1.761-1.764\t2__1.764-1.770\t2__1.770-1.774\t2__1.774-inf\r\n",
      "Clostridium_ljungdahlii_DSM_13528\t5862\t8144\t17007\t9657\t21963\t14036\t17167\t9246\t9017\t9862\t5614\t4053\t3199\t1872\t1732\t2479\t3130\t1616\t1564\t3670\t4557\t10329\t7487\t10113\t9165\t10417\t6893\t4079\t9272\t6392\t15337\t12439\t14250\t12147\t14685\t14996\t18042\t12109\t4568\t8219\t8292\t2549\t810\t273\t209\t56\t194\t1203\t2939\t4730\t4073\t8853\t6321\t8377\t9516\t6888\t2839\r\n",
      "Escherichia_coli_1303\t6197\t6295\t8006\t3117\t6307\t4637\t7212\t6735\t10821\t14835\t12669\t17948\t19208\t13957\t12065\t7349\t8095\t2964\t3036\t4573\t6246\t11653\t6364\t11246\t11855\t12350\t11452\t12231\t11730\t7479\t14461\t6619\t6076\t3321\t3123\t3032\t4292\t4594\t4274\t14313\t18945\t12104\t16580\t16720\t23626\t15140\t21221\t11106\t10054\t14644\t10206\t16293\t11684\t17544\t14749\t14489\t11961\r\n",
      "Streptomyces_pratensis_ATCC_33331\t2089\t2480\t0\t369\t483\t150\t221\t104\t38\t81\t168\t179\t675\t2660\t7375\t11155\t19695\t11506\t8952\t8535\t3843\t6646\t3051\t5421\t4164\t4737\t4326\t6756\t3229\t3210\t3746\t1429\t0\t527\t0\t305\t385\t474\t544\t1240\t1702\t2058\t3816\t4775\t8344\t5865\t9006\t4382\t3237\t4647\t2785\t4184\t3342\t0\t3225\t5510\t4639\r\n"
     ]
    }
   ],
   "source": [
    "!head -n 4 OTU_PCR_sub_wide.txt"
   ]
  },
  {
   "cell_type": "markdown",
   "metadata": {
    "deletable": true,
    "editable": true
   },
   "source": [
    "### SIP metadata\n",
    "\n",
    "* If you want to make a table of SIP sample metadata"
   ]
  },
  {
   "cell_type": "code",
   "execution_count": 96,
   "metadata": {
    "ExecuteTime": {
     "end_time": "2017-07-13T14:57:25.262710",
     "start_time": "2017-07-13T14:57:21.883483"
    },
    "collapsed": true,
    "deletable": true,
    "editable": true
   },
   "outputs": [],
   "source": [
    "%%bash\n",
    "source activate SIPSim\n",
    "\n",
    "SIPSim OTU_sample_data \\\n",
    "    OTU_PCR_sub.txt \\\n",
    "    > OTU_PCR_sub_meta.txt"
   ]
  },
  {
   "cell_type": "code",
   "execution_count": 97,
   "metadata": {
    "ExecuteTime": {
     "end_time": "2017-07-13T14:57:25.386289",
     "start_time": "2017-07-13T14:57:25.264563"
    },
    "collapsed": false,
    "deletable": true,
    "editable": true
   },
   "outputs": [
    {
     "name": "stdout",
     "output_type": "stream",
     "text": [
      "sample\tlibrary\tfraction\tBD_min\tBD_max\tBD_mid\r\n",
      "1__-inf-1.673\t1\t-inf-1.673\t-inf\t1.673\t-inf\r\n",
      "1__1.673-1.678\t1\t1.673-1.678\t1.673\t1.678\t1.6755\r\n",
      "1__1.678-1.681\t1\t1.678-1.681\t1.678\t1.681\t1.6795\r\n",
      "1__1.681-1.685\t1\t1.681-1.685\t1.681\t1.685\t1.683\r\n",
      "1__1.685-1.688\t1\t1.685-1.688\t1.685\t1.688\t1.6865\r\n",
      "1__1.688-1.691\t1\t1.688-1.691\t1.688\t1.691\t1.6895\r\n",
      "1__1.691-1.695\t1\t1.691-1.695\t1.691\t1.695\t1.693\r\n",
      "1__1.695-1.698\t1\t1.695-1.698\t1.695\t1.698\t1.6965\r\n",
      "1__1.698-1.700\t1\t1.698-1.700\t1.698\t1.700\t1.699\r\n"
     ]
    }
   ],
   "source": [
    "!head OTU_PCR_sub_meta.txt"
   ]
  },
  {
   "cell_type": "markdown",
   "metadata": {
    "deletable": true,
    "editable": true
   },
   "source": [
    "### Other SIPSim commands\n",
    "\n",
    "`SIPSim -l` will list all available SIPSim commands"
   ]
  },
  {
   "cell_type": "code",
   "execution_count": 98,
   "metadata": {
    "ExecuteTime": {
     "end_time": "2017-07-13T14:57:28.847794",
     "start_time": "2017-07-13T14:57:25.388150"
    },
    "collapsed": false,
    "deletable": true,
    "editable": true
   },
   "outputs": [
    {
     "name": "stdout",
     "output_type": "stream",
     "text": [
      "#-- Commands --#\n",
      "BD_shift\n",
      "communities\n",
      "DBL\n",
      "deltaBD\n",
      "diffusion\n",
      "fragment_KDE\n",
      "fragment_KDE_cat\n",
      "fragment_parse\n",
      "fragments\n",
      "genome_download\n",
      "genome_index\n",
      "genome_rename\n",
      "gradient_fractions\n",
      "HRSIP\n",
      "incorp_config_example\n",
      "isotope_incorp\n",
      "KDE_bandwidth\n",
      "KDE_info\n",
      "KDE_parse\n",
      "KDE_plot\n",
      "KDE_sample\n",
      "KDE_select_taxa\n",
      "OTU_add_error\n",
      "OTU_PCR\n",
      "OTU_sample_data\n",
      "OTU_subsample\n",
      "OTU_sum\n",
      "OTU_table\n",
      "OTU_wide_long\n",
      "qSIP\n",
      "qSIP_atom_excess\n",
      "tree_sim\n"
     ]
    }
   ],
   "source": [
    "%%bash\n",
    "source activate SIPSim\n",
    "\n",
    "SIPSim -l"
   ]
  },
  {
   "cell_type": "code",
   "execution_count": null,
   "metadata": {
    "collapsed": true
   },
   "outputs": [],
   "source": []
  }
 ],
 "metadata": {
  "anaconda-cloud": {},
  "hide_input": true,
  "kernelspec": {
   "display_name": "Python [conda env:py35]",
   "language": "python",
   "name": "conda-env-py35-py"
  },
  "language_info": {
   "codemirror_mode": {
    "name": "ipython",
    "version": 3
   },
   "file_extension": ".py",
   "mimetype": "text/x-python",
   "name": "python",
   "nbconvert_exporter": "python",
   "pygments_lexer": "ipython3",
   "version": "3.5.2"
  },
  "notify_time": "5",
  "toc": {
   "colors": {
    "hover_highlight": "#DAA520",
    "running_highlight": "#FF0000",
    "selected_highlight": "#FFD700"
   },
   "moveMenuLeft": true,
   "nav_menu": {
    "height": "512px",
    "width": "252px"
   },
   "navigate_menu": true,
   "number_sections": true,
   "sideBar": true,
   "threshold": 4,
   "toc_cell": false,
   "toc_section_display": "block",
   "toc_window_display": true
  }
 },
 "nbformat": 4,
 "nbformat_minor": 0
}
