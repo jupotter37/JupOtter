{
 "cells": [
  {
   "cell_type": "markdown",
   "metadata": {},
   "source": [
    "# Bokeh Bezier Glyph"
   ]
  },
  {
   "cell_type": "code",
   "execution_count": 2,
   "metadata": {},
   "outputs": [
    {
     "name": "stderr",
     "output_type": "stream",
     "text": [
      "WARNING:bokeh.io:The webdriver raised a TimeoutException while waiting for                      a 'bokeh:idle' event to signify that the layout has rendered.                      Something may have gone wrong.\n"
     ]
    }
   ],
   "source": [
    "## credit https://bokeh.pydata.org/en/latest/docs/reference/models/glyphs/bezier.html\n",
    "import numpy as np\n",
    "from bokeh.models import ColumnDataSource, DataRange1d, Plot, LinearAxis, Grid\n",
    "from bokeh.models.glyphs import Bezier\n",
    "from bokeh.io import curdoc, show, export_png\n",
    "from bokeh.plotting import output_file\n",
    "\n",
    "N = 9\n",
    "x = np.linspace(-2, 2, N)\n",
    "y = x**2\n",
    "output_file(\"../../figures/bezier.html\")\n",
    "\n",
    "\n",
    "source = ColumnDataSource(dict(\n",
    "        x=x,\n",
    "        y=y,\n",
    "        xp02=x+0.4,\n",
    "        xp01=x+0.1,\n",
    "        xm01=x-0.1,\n",
    "        yp01=y+0.2,\n",
    "        ym01=y-0.2,\n",
    "    )\n",
    ")\n",
    "\n",
    "xdr = DataRange1d()\n",
    "ydr = DataRange1d()\n",
    "\n",
    "plot = Plot(\n",
    "    title=None, x_range=xdr, y_range=ydr, plot_width=400, plot_height=400,\n",
    "    h_symmetry=False, v_symmetry=False, min_border=0, toolbar_location=None)\n",
    "\n",
    "glyph = Bezier(x0=\"x\", y0=\"y\", x1=\"xp02\", y1=\"y\", cx0=\"xp01\", cy0=\"yp01\", cx1=\"xm01\", cy1=\"ym01\", line_color=\"#D95F02\", line_width=2)\n",
    "plot.add_glyph(source, glyph)\n",
    "\n",
    "xaxis = LinearAxis()\n",
    "plot.add_layout(xaxis, 'below')\n",
    "\n",
    "yaxis = LinearAxis()\n",
    "plot.add_layout(yaxis, 'left')\n",
    "\n",
    "plot.add_layout(Grid(dimension=0, ticker=xaxis.ticker))\n",
    "plot.add_layout(Grid(dimension=1, ticker=yaxis.ticker))\n",
    "\n",
    "curdoc().add_root(plot)\n",
    "\n",
    "show(plot)\n",
    "export_png(plot, filename=\"../../figures/bezier.png\");"
   ]
  }
 ],
 "metadata": {
  "kernelspec": {
   "display_name": "Python 3",
   "language": "python",
   "name": "python3"
  },
  "language_info": {
   "codemirror_mode": {
    "name": "ipython",
    "version": 3
   },
   "file_extension": ".py",
   "mimetype": "text/x-python",
   "name": "python",
   "nbconvert_exporter": "python",
   "pygments_lexer": "ipython3",
   "version": "3.6.1"
  }
 },
 "nbformat": 4,
 "nbformat_minor": 2
}
