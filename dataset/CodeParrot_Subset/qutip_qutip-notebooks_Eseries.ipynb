{
 "cells": [
  {
   "cell_type": "markdown",
   "metadata": {},
   "source": [
    "#Eseries Class\n",
    "\n",
    "###Contents\n",
    "- [Exponential-Series Representation of Quantum Objects](#exponential)\n",
    "- [Applications of Exponential-Series](#applications)"
   ]
  },
  {
   "cell_type": "code",
   "execution_count": 3,
   "metadata": {
    "collapsed": true
   },
   "outputs": [],
   "source": [
    "%matplotlib inline\n",
    "import numpy as np\n",
    "from pylab import *\n",
    "from qutip import *"
   ]
  },
  {
   "cell_type": "markdown",
   "metadata": {},
   "source": [
    "<a id='exponential'></a>"
   ]
  },
  {
   "cell_type": "markdown",
   "metadata": {},
   "source": [
    "##Exponential-Series Representation of Time-Dependent Quantum Objects\n",
    "\n",
    "The `eseries` object in QuTiP is a representation of an exponential-series expansion of time-dependent quantum objects (a concept borrowed from the quantum optics toolbox). \n",
    "\n",
    "An exponential series is parameterized by its amplitude coefficients $c_i$ and rates $r_i$, so that the series takes the form \n",
    "$E(t) = \\sum_i c_i e^{r_i t}$. The coefficients are typically quantum objects (i.e. states, operators, etc.), so that the value of the eseries also is a quantum object, and the rates can be either real or complex numbers (describing decay rates and oscillation frequencies, respectively). Note that all amplitude coefficients in an exponential series must be of the same dimensions and composition. \n",
    "\n",
    "In QuTiP, an exponential series object is constructed by creating an instance of the class `eseries`:"
   ]
  },
  {
   "cell_type": "code",
   "execution_count": 4,
   "metadata": {
    "collapsed": true
   },
   "outputs": [],
   "source": [
    "es1 = eseries(sigmax(), 1j)"
   ]
  },
  {
   "cell_type": "markdown",
   "metadata": {},
   "source": [
    "where the first argument is the amplitude coefficient (here, the sigma-X operator), and the second argument is the rate. The eseries in this example represents the time-dependent operator $\\sigma_x e^{i t}$.  To add more terms to an `eseries` object we simply add objects using the ``+`` operator:"
   ]
  },
  {
   "cell_type": "code",
   "execution_count": 5,
   "metadata": {
    "collapsed": true
   },
   "outputs": [],
   "source": [
    "omega = 1.0\n",
    "es2 = (eseries(0.5 * sigmax(), 1j * omega) + eseries(0.5 * sigmax(), -1j * omega))"
   ]
  },
  {
   "cell_type": "markdown",
   "metadata": {},
   "source": [
    "The `eseries` in this example represents the operator $0.5 \\sigma_x e^{i\\omega t} + 0.5 \\sigma_x e^{-i\\omega t}$, which is the exponential series representation of $\\sigma_x \\cos(\\omega t)$. Alternatively, we can also specify a list of amplitudes and rates when the `eseries` is created:"
   ]
  },
  {
   "cell_type": "code",
   "execution_count": 6,
   "metadata": {
    "collapsed": true
   },
   "outputs": [],
   "source": [
    "es2 = eseries([0.5 * sigmax(), 0.5 * sigmax()], [1j * omega, -1j * omega])"
   ]
  },
  {
   "cell_type": "markdown",
   "metadata": {},
   "source": [
    "We can inspect the structure of an `eseries` object by printing it to the standard output console:"
   ]
  },
  {
   "cell_type": "code",
   "execution_count": 7,
   "metadata": {
    "collapsed": false,
    "scrolled": true
   },
   "outputs": [
    {
     "data": {
      "text/plain": [
       "ESERIES object: 2 terms\n",
       "Hilbert space dimensions: [[2], [2]]\n",
       "Exponent #0 = -1j\n",
       "Quantum object: dims = [[2], [2]], shape = [2, 2], type = oper, isherm = True\n",
       "Qobj data =\n",
       "[[ 0.   0.5]\n",
       " [ 0.5  0. ]]\n",
       "Exponent #1 = 1j\n",
       "Quantum object: dims = [[2], [2]], shape = [2, 2], type = oper, isherm = True\n",
       "Qobj data =\n",
       "[[ 0.   0.5]\n",
       " [ 0.5  0. ]]"
      ]
     },
     "execution_count": 7,
     "metadata": {},
     "output_type": "execute_result"
    }
   ],
   "source": [
    "es2"
   ]
  },
  {
   "cell_type": "markdown",
   "metadata": {},
   "source": [
    "and we can evaluate it at time $t$ by using the `esval` function or the `value` method:"
   ]
  },
  {
   "cell_type": "code",
   "execution_count": 8,
   "metadata": {
    "collapsed": false,
    "scrolled": true
   },
   "outputs": [
    {
     "data": {
      "text/latex": [
       "Quantum object: dims = [[2], [2]], shape = [2, 2], type = oper, isherm = True\\begin{equation*}\\left(\\begin{array}{*{11}c}0.0 & 1.0\\\\1.0 & 0.0\\\\\\end{array}\\right)\\end{equation*}"
      ],
      "text/plain": [
       "Quantum object: dims = [[2], [2]], shape = [2, 2], type = oper, isherm = True\n",
       "Qobj data =\n",
       "[[ 0.  1.]\n",
       " [ 1.  0.]]"
      ]
     },
     "execution_count": 8,
     "metadata": {},
     "output_type": "execute_result"
    }
   ],
   "source": [
    " esval(es2, 0.0)     # equivalent to es2.value(0.0)"
   ]
  },
  {
   "cell_type": "code",
   "execution_count": 9,
   "metadata": {
    "collapsed": false
   },
   "outputs": [
    {
     "data": {
      "text/latex": [
       "Quantum object: dims = [[2], [2]], shape = [2, 2], type = oper, isherm = True\\begin{equation*}\\left(\\begin{array}{*{11}c}0.0 & 1.0\\\\1.0 & 0.0\\\\\\end{array}\\right)\\end{equation*}"
      ],
      "text/plain": [
       "Quantum object: dims = [[2], [2]], shape = [2, 2], type = oper, isherm = True\n",
       "Qobj data =\n",
       "[[ 0.  1.]\n",
       " [ 1.  0.]]"
      ]
     },
     "execution_count": 9,
     "metadata": {},
     "output_type": "execute_result"
    }
   ],
   "source": [
    "es2.value(0)"
   ]
  },
  {
   "cell_type": "markdown",
   "metadata": {},
   "source": [
    "or for a list of times ``[0.0, 1.0 * pi, 2.0 * pi]``:"
   ]
  },
  {
   "cell_type": "code",
   "execution_count": 10,
   "metadata": {
    "collapsed": false
   },
   "outputs": [
    {
     "data": {
      "text/plain": [
       "array([ Quantum object: dims = [[2], [2]], shape = [2, 2], type = oper, isherm = True\n",
       "Qobj data =\n",
       "[[ 0.  1.]\n",
       " [ 1.  0.]],\n",
       "       Quantum object: dims = [[2], [2]], shape = [2, 2], type = oper, isherm = True\n",
       "Qobj data =\n",
       "[[ 0. -1.]\n",
       " [-1.  0.]],\n",
       "       Quantum object: dims = [[2], [2]], shape = [2, 2], type = oper, isherm = True\n",
       "Qobj data =\n",
       "[[ 0.  1.]\n",
       " [ 1.  0.]]], dtype=object)"
      ]
     },
     "execution_count": 10,
     "metadata": {},
     "output_type": "execute_result"
    }
   ],
   "source": [
    "times = [0.0, 1.0 * np.pi, 2.0 * np.pi]\n",
    "esval(es2, times)"
   ]
  },
  {
   "cell_type": "code",
   "execution_count": 11,
   "metadata": {
    "collapsed": false
   },
   "outputs": [
    {
     "data": {
      "text/plain": [
       "array([ Quantum object: dims = [[2], [2]], shape = [2, 2], type = oper, isherm = True\n",
       "Qobj data =\n",
       "[[ 0.  1.]\n",
       " [ 1.  0.]],\n",
       "       Quantum object: dims = [[2], [2]], shape = [2, 2], type = oper, isherm = True\n",
       "Qobj data =\n",
       "[[ 0. -1.]\n",
       " [-1.  0.]],\n",
       "       Quantum object: dims = [[2], [2]], shape = [2, 2], type = oper, isherm = True\n",
       "Qobj data =\n",
       "[[ 0.  1.]\n",
       " [ 1.  0.]]], dtype=object)"
      ]
     },
     "execution_count": 11,
     "metadata": {},
     "output_type": "execute_result"
    }
   ],
   "source": [
    "es2.value(times)"
   ]
  },
  {
   "cell_type": "markdown",
   "metadata": {},
   "source": [
    "To calculate the expectation value of an time-dependent operator represented by an `eseries`, we use the `expect` function. For example, consider the operator $\\sigma_x \\cos(\\omega t) + \\sigma_z\\sin(\\omega t)$, and say we would like to know the expectation value of this operator for a spin in its excited state (``rho = fock_dm(2,1)`` produce this state):"
   ]
  },
  {
   "cell_type": "code",
   "execution_count": 12,
   "metadata": {
    "collapsed": false
   },
   "outputs": [
    {
     "data": {
      "text/plain": [
       "ESERIES object: 2 terms\n",
       "Hilbert space dimensions: [[1, 1]]\n",
       "Exponent #0 = (-0-1j)\n",
       "(-0.5+0j)\n",
       "Exponent #1 = 1j\n",
       "(-0.5+0j)"
      ]
     },
     "execution_count": 12,
     "metadata": {},
     "output_type": "execute_result"
    }
   ],
   "source": [
    "es3 = (eseries([0.5*sigmaz(), 0.5*sigmaz()], [1j, -1j]) + \n",
    "       eseries([-0.5j*sigmax(), 0.5j*sigmax()], [1j, -1j]))\n",
    "\n",
    "rho = fock_dm(2, 1)\n",
    "es3_expect = expect(rho, es3)\n",
    "es3_expect"
   ]
  },
  {
   "cell_type": "markdown",
   "metadata": {},
   "source": [
    "Note the expectation value of the `eseries` object, ``expect(rho, es3)``, itself is an `eseries`, but with amplitude coefficients that are c-numbers instead of quantum operators. To evaluate the c-number `eseries` at the times `times` we use ``es3_expect.value(times)`` or equivalently ``esval(es3_expect, times)``."
   ]
  },
  {
   "cell_type": "code",
   "execution_count": 13,
   "metadata": {
    "collapsed": false
   },
   "outputs": [
    {
     "data": {
      "text/plain": [
       "array([ -1.00000000e+00,  -6.12323400e-17])"
      ]
     },
     "execution_count": 13,
     "metadata": {},
     "output_type": "execute_result"
    }
   ],
   "source": [
    "es3_expect.value([0.0, pi/2])"
   ]
  },
  {
   "cell_type": "markdown",
   "metadata": {},
   "source": [
    "<a id='applications'></a>"
   ]
  },
  {
   "cell_type": "markdown",
   "metadata": {},
   "source": [
    "##Applications of Exponential Series\n",
    "\n",
    "The exponential series formalism can be useful for the time-evolution of quantum systems. One approach to calculating the time evolution of a quantum system is to diagonalize its Hamiltonian (or Liouvillian, for dissipative systems) and to express the propagator (e.g., $\\exp(-iHt) \\rho \\exp(iHt)$) as an exponential series. \n",
    "\n",
    "The QuTiP function `ode2es` and `essolve` use this method to evolve quantum systems in time. The exponential series approach is particularly suitable for cases when the same system is to be evolved for many different initial states, since the diagonalization only needs to be performed once (as opposed to e.g. the ode solver that would need to be ran independently for each initial state).\n",
    "\n",
    "As an example, consider a spin-1/2 with a Hamiltonian pointing in the $\\sigma_z$ direction, and that is subject to noise causing relaxation. For a spin originally is in the up state, we can create an `eseries` object describing its dynamics by using the `es2ode` function:"
   ]
  },
  {
   "cell_type": "code",
   "execution_count": 14,
   "metadata": {
    "collapsed": true
   },
   "outputs": [],
   "source": [
    "psi0 = basis(2,1)\n",
    "H = sigmaz()\n",
    "L = liouvillian(H, [sqrt(1.0) * destroy(2)])\n",
    "es = ode2es(L, psi0)"
   ]
  },
  {
   "cell_type": "markdown",
   "metadata": {},
   "source": [
    "The `ode2es` function diagonalizes the Liouvillian $L$ and creates an exponential series with the correct eigenfrequencies and amplitudes for the initial state \n",
    "$\\psi_0$ (`psi0`).\n",
    "\n",
    "We can examine the resulting `eseries` object by printing a text representation:"
   ]
  },
  {
   "cell_type": "code",
   "execution_count": 15,
   "metadata": {
    "collapsed": false
   },
   "outputs": [
    {
     "data": {
      "text/plain": [
       "ESERIES object: 2 terms\n",
       "Hilbert space dimensions: [[2], [2]]\n",
       "Exponent #0 = (-1+0j)\n",
       "Quantum object: dims = [[2], [2]], shape = [2, 2], type = oper, isherm = True\n",
       "Qobj data =\n",
       "[[-1.  0.]\n",
       " [ 0.  1.]]\n",
       "Exponent #1 = 0j\n",
       "Quantum object: dims = [[2], [2]], shape = [2, 2], type = oper, isherm = True\n",
       "Qobj data =\n",
       "[[ 1.  0.]\n",
       " [ 0.  0.]]"
      ]
     },
     "execution_count": 15,
     "metadata": {},
     "output_type": "execute_result"
    }
   ],
   "source": [
    "es"
   ]
  },
  {
   "cell_type": "markdown",
   "metadata": {},
   "source": [
    "or by evaluating it and arbitrary points in time (here at 0.0 and 1.0):"
   ]
  },
  {
   "cell_type": "code",
   "execution_count": 16,
   "metadata": {
    "collapsed": false
   },
   "outputs": [
    {
     "data": {
      "text/plain": [
       "array([ Quantum object: dims = [[2], [2]], shape = [2, 2], type = oper, isherm = True\n",
       "Qobj data =\n",
       "[[ 0.  0.]\n",
       " [ 0.  1.]],\n",
       "       Quantum object: dims = [[2], [2]], shape = [2, 2], type = oper, isherm = True\n",
       "Qobj data =\n",
       "[[ 0.63212056  0.        ]\n",
       " [ 0.          0.36787944]]], dtype=object)"
      ]
     },
     "execution_count": 16,
     "metadata": {},
     "output_type": "execute_result"
    }
   ],
   "source": [
    "es.value([0.0, 1.0])"
   ]
  },
  {
   "cell_type": "markdown",
   "metadata": {},
   "source": [
    "and the expectation value of the exponential series can be calculated using the `expect` function:"
   ]
  },
  {
   "cell_type": "code",
   "execution_count": 17,
   "metadata": {
    "collapsed": true
   },
   "outputs": [],
   "source": [
    " es_expect = expect(sigmaz(), es)"
   ]
  },
  {
   "cell_type": "markdown",
   "metadata": {},
   "source": [
    "The result `es_expect` is now an exponential series with c-numbers as amplitudes, which easily can be evaluated at arbitrary times:"
   ]
  },
  {
   "cell_type": "code",
   "execution_count": 21,
   "metadata": {
    "collapsed": false
   },
   "outputs": [
    {
     "data": {
      "image/png": "[encoded data removed]",
      "text/plain": [
       "<matplotlib.figure.Figure at 0x10e979080>"
      ]
     },
     "metadata": {},
     "output_type": "display_data"
    }
   ],
   "source": [
    "times = linspace(0.0, 10.0, 100)\n",
    "sz_expect = es_expect.value(times)\n",
    "plot(times, sz_expect, lw=2)\n",
    "xlabel(\"Time\", fontsize=14)\n",
    "ylabel(\"Expectation value of sigma-z\", fontsize=14)\n",
    "show()"
   ]
  },
  {
   "cell_type": "code",
   "execution_count": 18,
   "metadata": {
    "collapsed": false
   },
   "outputs": [
    {
     "data": {
      "text/html": [
       "<style>\n",
       "@import url('http://fonts.googleapis.com/css?family=Source+Sans+Pro');\n",
       "@import url('http://fonts.googleapis.com/css?family=Source+Code+Pro');\n",
       "\n",
       "body {\n",
       "    -webkit-font-smoothing: antialiased;\n",
       "    font-family: \"Source Sans Pro\", Helvetica, Arial, Verdana, sans-serif;\n",
       "}\n",
       "\n",
       "\n",
       "div.cell{\n",
       "    width:768px;\n",
       "    margin-left:10% !important;\n",
       "    margin-right:auto;\n",
       "}\n",
       "h1 {\n",
       "    font-family: \"Source Sans Pro\", ,Helvetica, Arial, serif;\n",
       "\n",
       "}\n",
       "\n",
       "h4{\n",
       "    font-family: \"Source Sans Pro\", Helvetica, Arial, serif;\n",
       "\tmargin-top:12px;\n",
       "    margin-bottom: 3px;\n",
       "   }\n",
       "\n",
       "\n",
       "div.text_cell_render{\n",
       "    font-family: \"Source Sans Pro\", Helvetica, Arial, sans-serif;\n",
       "    line-height: 125%;\n",
       "    font-size: 110%;\n",
       "    width:768px;\n",
       "    margin-left:auto;\n",
       "    margin-right:auto;\n",
       "}\n",
       "\n",
       "div.cell.code_cell { /* area that contains code + output */\n",
       "    background: #fff;\n",
       "    border: none;\n",
       "    border-radius: 10px;\n",
       "    padding-top: 1ex;\n",
       "}\n",
       "\n",
       "div.input_area { /* box around box with code */\n",
       "    border: none;\n",
       "    background: #f5f5f5;\n",
       "    border: 1px solid #ccc;\n",
       "    border-radius: 10px;\n",
       "    padding-top: 0.5ex;\n",
       "    padding-bottom: 0.5ex;\n",
       "    padding-left: 0.5em;\n",
       "}\n",
       "\n",
       "div.prompt { /* remove In/Out prompt */\n",
       "    display: none;\n",
       "}\n",
       "\n",
       "div.cell.border-box-sizing.code_cell.running { \n",
       "    /* draw border around running cells */\n",
       "    border: 3px dotted #f33;\n",
       "}\n",
       "\n",
       ".CodeMirror{\n",
       "        font-family: \"Source Code Pro\", Consolas, monospace;\n",
       "}\n",
       ".prompt{\n",
       "    display: None;\n",
       "}\n",
       ".text_cell_render h5 {\n",
       "    font-family: \"Source Sans Pro\", Helvetica, Arial, serif;\n",
       "    font-size: 20pt;\n",
       "    color: #0001E0;\n",
       "    margin-bottom: .5em;\n",
       "    margin-top: 0.5em;\n",
       "    display: block;\n",
       "}\n",
       "\n",
       ".warning{\n",
       "    color: rgb( 240, 20, 20 )\n",
       "    }  \n",
       "\n",
       "a {\n",
       "    color: #0080FF;\n",
       "    text-decoration: none;\n",
       "    -webkit-transition: color 0.2s ease-in-out;\n",
       "    -moz-transition: color 0.2s ease-in-out;\n",
       "    -o-transition: color 0.2s ease-in-out;\n",
       "    -ms-transition: color 0.2s ease-in-out;\n",
       "    transition: color 0.2s ease-in-out;\n",
       "}\n",
       "a:hover {\n",
       "    color: #8C0028;\n",
       "}\n",
       "\n",
       "li li{\n",
       "    font-size:14px;\n",
       "}\n",
       "\n",
       "div.danger {    \n",
       "    background-color: #F7A7AA;\n",
       "    border-color: #F1595F;\n",
       "    border: 2px solid #F1595F;\n",
       "    border-radius: 5px;\n",
       "    padding-top: 0.5ex;\n",
       "    padding-bottom: 0.5ex;\n",
       "    padding-left: 0.5em;\n",
       "    }\n",
       "\n",
       "div.warn {    \n",
       "background-color: #FBD1A7;\n",
       "border-color: #F9A65A;\n",
       "border: 2px solid #F9A65A;\n",
       "border-radius: 5px;\n",
       "padding-top: 0.5ex;\n",
       "padding-bottom: 0.5ex;\n",
       "padding-left: 0.5em;\n",
       "}\n",
       "\n",
       "div.info {    \n",
       "background-color: #A6CBE9;\n",
       "border-color: #599AD3;\n",
       "border: 2px solid #599AD3;\n",
       "border-radius: 5px;\n",
       "padding-top: 0.5ex;\n",
       "padding-bottom: 0.5ex;\n",
       "padding-left: 0.5em;\n",
       "}\n",
       "\n",
       "div.success {    \n",
       "background-color: #B9E0B0;\n",
       "border-color: #79C36A;\n",
       "border: 2px solid #79C36A;\n",
       "border-radius: 5px;\n",
       "padding-top: 0.5ex;\n",
       "padding-bottom: 0.5ex;\n",
       "padding-left: 0.5em;\n",
       "}\n",
       "\n",
       "table a:link {\n",
       "    color: #666;\n",
       "    font-weight: bold;\n",
       "    text-decoration:none;\n",
       "}\n",
       "table a:visited {\n",
       "    color: #999999;\n",
       "    font-weight:bold;\n",
       "    text-decoration:none;\n",
       "}\n",
       "table a:active,\n",
       "table a:hover {\n",
       "    color: #bd5a35;\n",
       "    text-decoration:underline;\n",
       "}\n",
       "table {\n",
       "    font-family:\"Source Sans Pro\", Helvetica, Arial, serif;\n",
       "    color:#666;\n",
       "    font-size:14px;\n",
       "    text-shadow: 1px 1px 0px #fff;\n",
       "    background:#eaebec;\n",
       "    margin:20px;\n",
       "    border:#ccc 1px solid;\n",
       "    border-spacing: 0;\n",
       "    -moz-border-radius:3px;\n",
       "    -webkit-border-radius:3px;\n",
       "    border-radius:3px;\n",
       "\n",
       "    -moz-box-shadow: 0 1px 2px #d1d1d1;\n",
       "    -webkit-box-shadow: 0 1px 2px #d1d1d1;\n",
       "    box-shadow: 0 1px 2px #d1d1d1;\n",
       "}\n",
       "table th {\n",
       "    padding:21px 25px 22px 25px;\n",
       "    border-top:1px solid #fafafa;\n",
       "    border-bottom:1px solid #e0e0e0;\n",
       "\n",
       "    background: #ededed;\n",
       "    background: -webkit-gradient(linear, left top, left bottom, from(#ededed), to(#ebebeb));\n",
       "    background: -moz-linear-gradient(top,  #ededed,  #ebebeb);\n",
       "}\n",
       "table th:first-child{\n",
       "    text-align: left;\n",
       "    padding-left:20px;\n",
       "}\n",
       "table tr:first-child th:first-child{\n",
       "    -moz-border-radius-topleft:3px;\n",
       "    -webkit-border-top-left-radius:3px;\n",
       "    border-top-left-radius:3px;\n",
       "}\n",
       "table tr:first-child th:last-child{\n",
       "    -moz-border-radius-topright:3px;\n",
       "    -webkit-border-top-right-radius:3px;\n",
       "    border-top-right-radius:3px;\n",
       "}\n",
       "table tr{\n",
       "    text-align: center;\n",
       "    padding-left:20px;\n",
       "}\n",
       "table tr td:first-child{\n",
       "    text-align: left;\n",
       "    padding-left:20px;\n",
       "    border-left: 0;\n",
       "}\n",
       "table tr td {\n",
       "    padding:18px;\n",
       "    border-top: 1px solid #ffffff;\n",
       "    border-bottom:1px solid #e0e0e0;\n",
       "    border-left: 1px solid #e0e0e0;\n",
       "\n",
       "    background: #fafafa;\n",
       "    background: -webkit-gradient(linear, left top, left bottom, from(#fbfbfb), to(#fafafa));\n",
       "    background: -moz-linear-gradient(top,  #fbfbfb,  #fafafa);\n",
       "}\n",
       "\n",
       "table tr:nth-child(2n) td {\n",
       "    background: #f6f6f6;\n",
       "    background: -webkit-gradient(linear, left top, left bottom, from(#f8f8f8), to(#f6f6f6));\n",
       "    background: -moz-linear-gradient(top, #f8f8f8, #f6f6f6);\n",
       "}\n",
       "\n",
       "table tr:last-child td{\n",
       "    border-bottom:0;\n",
       "}\n",
       "table tr:last-child td:first-child{\n",
       "    -moz-border-radius-bottomleft:3px;\n",
       "    -webkit-border-bottom-left-radius:3px;\n",
       "    border-bottom-left-radius:3px;\n",
       "}\n",
       "table tr:last-child td:last-child{\n",
       "    -moz-border-radius-bottomright:3px;\n",
       "    -webkit-border-bottom-right-radius:3px;\n",
       "    border-bottom-right-radius:3px;\n",
       "}\n",
       "table tr:hover td{\n",
       "    background: #f2f2f2;\n",
       "    background: -webkit-gradient(linear, left top, left bottom, from(#f2f2f2), to(#f0f0f0));\n",
       "    background: -moz-linear-gradient(top,  #f2f2f2,  #f0f0f0);\t\n",
       "}\n",
       "\n",
       "\n",
       "caption {\n",
       "    display: table-caption;\n",
       "    font-weight: 700;\n",
       "}\n",
       "\n",
       "figure {\n",
       "    display: inline-block;\n",
       "    position: relative;\n",
       "    margin: 1em 0 2em;\n",
       "}\n",
       "figcaption {\n",
       "    font-style: italic;\n",
       "    text-align: center;\n",
       "    background: white;\n",
       "    color: #666;\n",
       "    position: absolute;\n",
       "    left: 0;\n",
       "    bottom: -24px;\n",
       "    width: 98%;\n",
       "    padding: 1%;\n",
       "    -webkit-transition: all 0.2s ease-in-out;\n",
       "    -moz-transition: all 0.2s ease-in-out;\n",
       "    -o-transition: all 0.2s ease-in-out;\n",
       "    -ms-transition: all 0.2s ease-in-out;\n",
       "    transition: all 0.2s ease-in-out;\n",
       "}\n",
       "\n",
       ".prompt.input_prompt {\n",
       "    color: rgba(0,0,0,0.5);\n",
       "}\n",
       "\n",
       ".cell.command_mode.selected {\n",
       "    border-color: rgba(0,0,0,0.1);\n",
       "}\n",
       "\n",
       ".cell.edit_mode.selected {\n",
       "    border-color: rgba(0,0,0,0.15);\n",
       "    box-shadow: 0px 0px 5px #f0f0f0;\n",
       "    -webkit-box-shadow: 0px 0px 5px #f0f0f0;\n",
       "}\n",
       "\n",
       "div.output_scroll {\n",
       "    -webkit-box-shadow: inset 0 2px 8px rgba(0,0,0,0.1);\n",
       "    box-shadow: inset 0 2px 8px rgba(0,0,0,0.1);\n",
       "    border-radious: 2px;\n",
       "}\n",
       "\n",
       "#menubar .navbar-inner {\n",
       "    background: #fff;\n",
       "    -webkit-box-shadow: none;\n",
       "    box-shadow: none;\n",
       "    border-radius: 0;\n",
       "    border: none;\n",
       "    font-family: \"Source Sans Pro\", Helvetica, Arial, serif;\n",
       "    font-weight: 400;\n",
       "}\n",
       "\n",
       ".navbar-fixed-top .navbar-inner,\n",
       ".navbar-static-top .navbar-inner {\n",
       "    box-shadow: none;\n",
       "    -webkit-box-shadow: none;\n",
       "    border: none;\n",
       "}\n",
       "\n",
       "div#notebook_panel {\n",
       "    box-shadow: none;\n",
       "    -webkit-box-shadow: none;\n",
       "    border-top: none;\n",
       "}\n",
       "\n",
       "div#notebook {\n",
       "    border-top: 1px solid rgba(0,0,0,0.15);\n",
       "}\n",
       "\n",
       "#menubar .navbar .navbar-inner,\n",
       ".toolbar-inner {\n",
       "    padding-left: 0;\n",
       "    padding-right: 0;\n",
       "}\n",
       "\n",
       "#checkpoint_status,\n",
       "#autosave_status {\n",
       "    color: rgba(0,0,0,0.5);\n",
       "}\n",
       "\n",
       "#header {\n",
       "    font-family: \"Source Sans Pro\", Helvetica, Arial, serif;\n",
       "}\n",
       "\n",
       "#notebook_name {\n",
       "    font-weight: 200;\n",
       "}\n",
       "\n",
       "/* \n",
       "    This is a lazy fix, we *should* fix the \n",
       "    background for each Bootstrap button type\n",
       "*/\n",
       "#site * .btn {\n",
       "    background: #fafafa;\n",
       "    -webkit-box-shadow: none;\n",
       "    box-shadow: none;\n",
       "}\n",
       "\n",
       "</style>\n",
       "\n",
       "<script>\n",
       "    MathJax.Hub.Config({\n",
       "                        TeX: {equationNumbers: { autoNumber: \"AMS\" },  \n",
       "                           extensions: [\"AMSmath.js\"]\n",
       "                           },\n",
       "                tex2jax: {\n",
       "                    inlineMath: [ ['$','$'], [\"\\\\(\",\"\\\\)\"] ],\n",
       "                    displayMath: [ ['$$','$$'], [\"\\\\[\",\"\\\\]\"] ]\n",
       "                },\n",
       "                displayAlign: 'center', // Change this to 'center' to center equations.\n",
       "                \"HTML-CSS\": {\n",
       "                    styles: {'.MathJax_Display': {\"margin\": 4}}\n",
       "                }\n",
       "        });\n",
       "</script>\n"
      ],
      "text/plain": [
       "<IPython.core.display.HTML object>"
      ]
     },
     "execution_count": 18,
     "metadata": {},
     "output_type": "execute_result"
    }
   ],
   "source": [
    "from IPython.core.display import HTML\n",
    "def css_styling():\n",
    "    styles = open(\"../styles/guide.css\", \"r\").read()\n",
    "    return HTML(styles)\n",
    "css_styling()"
   ]
  }
 ],
 "metadata": {
  "kernelspec": {
   "display_name": "Python 3",
   "language": "python",
   "name": "python3"
  },
  "language_info": {
   "codemirror_mode": {
    "name": "ipython",
    "version": 3
   },
   "file_extension": ".py",
   "mimetype": "text/x-python",
   "name": "python",
   "nbconvert_exporter": "python",
   "pygments_lexer": "ipython3",
   "version": "3.4.3"
  }
 },
 "nbformat": 4,
 "nbformat_minor": 0
}
