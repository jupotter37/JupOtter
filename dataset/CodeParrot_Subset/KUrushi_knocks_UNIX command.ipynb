{
 "cells": [
  {
   "cell_type": "code",
   "execution_count": null,
   "metadata": {
    "collapsed": true
   },
   "outputs": [],
   "source": [
    "hightemp.txtは，日本の最高気温の記録を「都道府県」「地点」「℃」「日」のタブ区切り形式で格納したファイルである．以下の処理を行うプログラムを作成し，hightemp.txtを入力ファイルとして実行せよ．さらに，同様の処理をUNIXコマンドでも実行し，プログラムの実行結果を確認せよ．"
   ]
  },
  {
   "cell_type": "markdown",
   "metadata": {},
   "source": [
    "## 10. 行数のカウント\n",
    "行数をカウントせよ．確認にはwcコマンドを用いよ"
   ]
  },
  {
   "cell_type": "code",
   "execution_count": 4,
   "metadata": {
    "collapsed": false
   },
   "outputs": [
    {
     "name": "stdout",
     "output_type": "stream",
     "text": [
      "24\n"
     ]
    }
   ],
   "source": [
    "with open(\"hightemp.txt\") as f:\n",
    "    count = len(f.readlines())\n",
    "print(count)"
   ]
  },
  {
   "cell_type": "markdown",
   "metadata": {},
   "source": [
    "## wc\n",
    "ファイル内のバイト数, 単語数, 及び行数を集計し表示する.  \n",
    "また, 空白で区切られたものを単語として扱う.  \n",
    "表示: 行数 単語数 バイト数\n",
    "#### wc [-clw] [--bytes] [--chars] [--lines] [--words] [file]\n",
    "#### オプション\n",
    "- -c, --bytes, --chars バイト数のみ集計し表示  \n",
    "- -w, --word           単語数のみ集計し表示\n",
    "- -l, --lines          行数のみ集計し表示\n",
    "- file"
   ]
  },
  {
   "cell_type": "code",
   "execution_count": 5,
   "metadata": {
    "collapsed": false
   },
   "outputs": [
    {
     "name": "stdout",
     "output_type": "stream",
     "text": [
      "      24 hightemp.txt\n"
     ]
    }
   ],
   "source": [
    "%%bash\n",
    "wc -l hightemp.txt"
   ]
  },
  {
   "cell_type": "markdown",
   "metadata": {},
   "source": [
    "## 11. タブをスペースに置換\n",
    "タブ1文字につきスペース1文字に置換せよ．確認にはsedコマンド，trコマンド，もしくはexpandコマンドを用いよ．"
   ]
  },
  {
   "cell_type": "code",
   "execution_count": 8,
   "metadata": {
    "collapsed": false
   },
   "outputs": [
    {
     "name": "stdout",
     "output_type": "stream",
     "text": [
      "高知県 江川崎 41 2013-08-12\n",
      "埼玉県 熊谷 40.9 2007-08-16\n",
      "岐阜県 多治見 40.9 2007-08-16\n",
      "山形県 山形 40.8 1933-07-25\n",
      "山梨県 甲府 40.7 2013-08-10\n",
      "和歌山県 かつらぎ 40.6 1994-08-08\n",
      "静岡県 天竜 40.6 1994-08-04\n",
      "山梨県 勝沼 40.5 2013-08-10\n",
      "埼玉県 越谷 40.4 2007-08-16\n",
      "群馬県 館林 40.3 2007-08-16\n",
      "群馬県 上里見 40.3 1998-07-04\n",
      "愛知県 愛西 40.3 1994-08-05\n",
      "千葉県 牛久 40.2 2004-07-20\n",
      "静岡県 佐久間 40.2 2001-07-24\n",
      "愛媛県 宇和島 40.2 1927-07-22\n",
      "山形県 酒田 40.1 1978-08-03\n",
      "岐阜県 美濃 40 2007-08-16\n",
      "群馬県 前橋 40 2001-07-24\n",
      "千葉県 茂原 39.9 2013-08-11\n",
      "埼玉県 鳩山 39.9 1997-07-05\n",
      "大阪府 豊中 39.9 1994-08-08\n",
      "山梨県 大月 39.9 1990-07-19\n",
      "山形県 鶴岡 39.9 1978-08-03\n",
      "愛知県 名古屋 39.9 1942-08-02\n"
     ]
    }
   ],
   "source": [
    "def replace_tab2space(file):\n",
    "    with open(file) as f:\n",
    "        for i in f.readlines():\n",
    "            print(i.strip('\\n').replace('\\t', ' '))\n",
    "\n",
    "replace_tab2space('hightemp.txt')"
   ]
  },
  {
   "cell_type": "markdown",
   "metadata": {},
   "source": [
    "## expand\n",
    "タブをスペースに変換する(1)\n",
    "#### expand [-i, --initial] [-t NUMBER, --tabs=NUMBER] [FILE...]\n",
    "#### オプション\n",
    "- -i, --initial\t            空白以外の文字直後のタブは無視する\n",
    "- -t NUMBER, --tabs=NUMBER\tタブ幅を数値NUMBERで指定する（デフォルトは8桁）\n",
    "- FILE\t                    テキスト・ファイルを指定する"
   ]
  },
  {
   "cell_type": "code",
   "execution_count": 7,
   "metadata": {
    "collapsed": false
   },
   "outputs": [
    {
     "name": "stdout",
     "output_type": "stream",
     "text": [
      "高知県 江川崎 41 2013-08-12\n",
      "埼玉県 熊谷 40.9 2007-08-16\n",
      "岐阜県 多治見 40.9 2007-08-16\n",
      "山形県 山形 40.8 1933-07-25\n",
      "山梨県 甲府 40.7 2013-08-10\n",
      "和歌山県 かつらぎ 40.6 1994-08-08\n",
      "静岡県 天竜 40.6 1994-08-04\n",
      "山梨県 勝沼 40.5 2013-08-10\n",
      "埼玉県 越谷 40.4 2007-08-16\n",
      "群馬県 館林 40.3 2007-08-16\n",
      "群馬県 上里見 40.3 1998-07-04\n",
      "愛知県 愛西 40.3 1994-08-05\n",
      "千葉県 牛久 40.2 2004-07-20\n",
      "静岡県 佐久間 40.2 2001-07-24\n",
      "愛媛県 宇和島 40.2 1927-07-22\n",
      "山形県 酒田 40.1 1978-08-03\n",
      "岐阜県 美濃 40 2007-08-16\n",
      "群馬県 前橋 40 2001-07-24\n",
      "千葉県 茂原 39.9 2013-08-11\n",
      "埼玉県 鳩山 39.9 1997-07-05\n",
      "大阪府 豊中 39.9 1994-08-08\n",
      "山梨県 大月 39.9 1990-07-19\n",
      "山形県 鶴岡 39.9 1978-08-03\n",
      "愛知県 名古屋 39.9 1942-08-02\n"
     ]
    }
   ],
   "source": [
    "%%bash\n",
    "expand -t 1 hightemp.txt"
   ]
  },
  {
   "cell_type": "markdown",
   "metadata": {},
   "source": [
    "## 12. 1列目をcol1.txtに，2列目をcol2.txtに保存\n",
    "各行の1列目だけを抜き出したものをcol1.txtに，2列目だけを抜き出したものをcol2.txtとしてファイルに保存せよ．確認にはcutコマンドを用いよ．"
   ]
  },
  {
   "cell_type": "code",
   "execution_count": 17,
   "metadata": {
    "collapsed": false
   },
   "outputs": [],
   "source": [
    "def write_col(col):\n",
    "    with open(\"hightemp.txt\", 'r') as f:\n",
    "        writing = [i.split('\\t')[col-1]+\"\\n\" for i in f.readlines()]\n",
    "    \n",
    "    with open('col{}.txt'.format(col), 'w') as f:\n",
    "        f.write(\"\".join(writing))\n",
    "\n",
    "write_col(1)\n",
    "write_col(2)"
   ]
  },
  {
   "cell_type": "markdown",
   "metadata": {},
   "source": [
    "## cut\n",
    "テキスト・ファイルの各行から一部分を取り出す\n",
    "#### expand [-i, --initial] [-t NUMBER, --tabs=NUMBER] [FILE...]\n",
    "#### オプション\n",
    "- -b, --bytes byte-list\t            byte-listで指定した位置のバイトだけ表示する\n",
    "- -c, --characters character-list\tcharacter-listで指定した位置の文字だけ表示する\n",
    "- -d, --delimiter delim\t            フィールドの区切りを設定する。初期設定値はタブ\n",
    "- -f, --fields field-list\t        field-listで指定したフィールドだけ表示する\n",
    "- -s, --only-delimited\t            フィールドの区切りのない行を無視する\n",
    "- file\t                            テキスト・ファイルを指定する"
   ]
  },
  {
   "cell_type": "code",
   "execution_count": 20,
   "metadata": {
    "collapsed": false
   },
   "outputs": [],
   "source": [
    "%%bash \n",
    "cut -f 1 hightemp.txt > cut_col1.txt\n",
    "cut -f 2 hightemp.txt > cut_col2.txt"
   ]
  },
  {
   "cell_type": "markdown",
   "metadata": {},
   "source": [
    "## 13. col1.txtとcol2.txtをマージ\n",
    "12で作ったcol1.txtとcol2.txtを結合し，元のファイルの1列目と2列目をタブ区切りで並べたテキストファイルを作成せよ．確認にはpasteコマンドを用いよ．"
   ]
  },
  {
   "cell_type": "code",
   "execution_count": 23,
   "metadata": {
    "collapsed": false
   },
   "outputs": [],
   "source": [
    "with open('col1.txt', 'r') as f1:\n",
    "    col1 = [i.strip('\\n') for i in f1.readlines()]\n",
    "    \n",
    "with open('col2.txt', 'r') as f2:\n",
    "    col2 = [i.strip('\\n') for i in f2.readlines()]\n",
    "\n",
    "writing = \"\"\n",
    "for i in range(len(col1)):\n",
    "    writing += col1[i] + '\\t' + col2[i] + '\\n'\n",
    "\n",
    "with open('marge.txt', 'w') as f:\n",
    "    f.write(writing)\n"
   ]
  },
  {
   "cell_type": "markdown",
   "metadata": {},
   "source": [
    "## paste\n",
    "ファイルを水平方向に連結する\n",
    "#### paste [オプション] [FILE]\n",
    "#### オプション\n",
    "- -d --delimiters=LIST\tタブの代わりに区切り文字をLISTで指定する\n",
    "- -s, --serial\t        縦方向に連結する\n",
    "- FILE\t                連結するファイルを指定する"
   ]
  },
  {
   "cell_type": "code",
   "execution_count": 25,
   "metadata": {
    "collapsed": false
   },
   "outputs": [],
   "source": [
    "%%bash\n",
    "paste col1.txt col2.txt > paste_marge.txt"
   ]
  },
  {
   "cell_type": "markdown",
   "metadata": {},
   "source": [
    "## 14. 先頭からN行を出力\n",
    "自然数Nをコマンドライン引数などの手段で受け取り,  \n",
    "入力のうち先頭のN行だけを表示せよ．確認にはheadコマンドを用いよ．"
   ]
  },
  {
   "cell_type": "code",
   "execution_count": 30,
   "metadata": {
    "collapsed": false
   },
   "outputs": [
    {
     "name": "stdout",
     "output_type": "stream",
     "text": [
      "高知県\t江川崎\n",
      "埼玉県\t熊谷\n",
      "岐阜県\t多治見\n",
      "山形県\t山形\n",
      "\n"
     ]
    }
   ],
   "source": [
    "def head(N):\n",
    "    with open('marge.txt') as f:\n",
    "        return \"\".join(f.readlines()[:N+1])\n",
    "print(head(3))"
   ]
  },
  {
   "cell_type": "markdown",
   "metadata": {},
   "source": [
    "## head\n",
    "ファイルの先頭部分を表示する\n",
    "#### head [-c N[bkm]] [-n N] [-qv] [--bytes=N[bkm]] [--lines=N] [--quiet] [--silent] [--verbose] [file...]\n",
    "#### オプション\n",
    "- -c N, --bytes N\tファイルの先頭からNバイト分の文字列を表示する。Nの後にbを付加したときは，指定した数の512倍のバイトを，kを付加したときは指定した数の1024倍のバイトを，mを付加したときには指定した数の1048576倍のバイトを表示する\n",
    "- -n N, --lines N\tファイルの先頭からN行を表示する\n",
    "- -q, --quiet, --silent\tファイル名を表示しない\n",
    "- -v, --verbose\t常にファイル名を表示する\n",
    "- file\t表示するファイルを指定する"
   ]
  },
  {
   "cell_type": "code",
   "execution_count": 39,
   "metadata": {
    "collapsed": false
   },
   "outputs": [
    {
     "name": "stdout",
     "output_type": "stream",
     "text": [
      "高知県\t江川崎\n",
      "埼玉県\t熊谷\n",
      "岐阜県\t多治見\n"
     ]
    }
   ],
   "source": [
    "%%bash\n",
    "head -n 3 marge.txt "
   ]
  },
  {
   "cell_type": "markdown",
   "metadata": {},
   "source": [
    "## 15. 末尾のN行を出力\n",
    "自然数Nをコマンドライン引数などの手段で受け取り，  \n",
    "入力のうち末尾のN行だけを表示せよ．確認にはtailコマンドを用いよ．"
   ]
  },
  {
   "cell_type": "code",
   "execution_count": 47,
   "metadata": {
    "collapsed": false
   },
   "outputs": [
    {
     "name": "stdout",
     "output_type": "stream",
     "text": [
      "愛知県\t名古屋\n",
      "山形県\t鶴岡\n",
      "\n"
     ]
    }
   ],
   "source": [
    "def tail(N):\n",
    "    with open('marge.txt') as f:\n",
    "        tail = \"\".join(f.readlines()[-1:-N:-1])\n",
    "    return tail\n",
    "print(tail(3))"
   ]
  },
  {
   "cell_type": "markdown",
   "metadata": {},
   "source": [
    "## 16. ファイルをN分割する\n",
    "自然数Nをコマンドライン引数などの手段で受け取り，  \n",
    "入力のファイルを行単位でN分割せよ．同様の処理をsplitコマンドで実現せよ．"
   ]
  },
  {
   "cell_type": "code",
   "execution_count": 55,
   "metadata": {
    "collapsed": false
   },
   "outputs": [
    {
     "name": "stdout",
     "output_type": "stream",
     "text": [
      "高知県\t江川崎\n",
      "埼玉県\t熊谷\n",
      "岐阜県\t多治見\n",
      "\n"
     ]
    }
   ],
   "source": [
    "def split_flie(name, N):\n",
    "    with open(name, 'r') as f:\n",
    "        split = \"\".join(f.readlines()[:N])\n",
    "    return split\n",
    "\n",
    "print(split_flie(\"marge.txt\", 3))"
   ]
  },
  {
   "cell_type": "markdown",
   "metadata": {},
   "source": [
    "## split\n",
    "ファイルを分割する\n",
    "#### split [-lines] [-l lines] [-b bytes[bkm]] [-C bytes[bkm]] [--lines=lines] [--bytes=bytes[bkm]] [--linebytes=bytes[bkm]] [infile [outfile-prefix]]\n",
    "#### オプション\n",
    "- -lines, -l lines, --lines=lines\t元ファイルのlineで指定した行ごとに区切り，出力ファイルに書き出す\n",
    "- -b bytes[bkm], --bytes=bytes[bkm]\t元ファイルをbytesで示したバイト数で分割し，出力する。数字の後に記号を付加することにより単位を変えることができる。kはKバイトmはMバイト\n",
    "- -C bytes[bkm], --line-bytes=bytes[bkm]\t各行で区切り出力する。このとき各行でbytesを越える場合は次のファイルに書き出す\n",
    "- infile\t元ファイルを指定する\n",
    "- outfile-prefix\t書き出し先ファイルのファイル名のベース名を決定する。出力はベース名にアルファベットを付けたファイル名となる"
   ]
  },
  {
   "cell_type": "code",
   "execution_count": 61,
   "metadata": {
    "collapsed": false
   },
   "outputs": [
    {
     "name": "stdout",
     "output_type": "stream",
     "text": [
      "高知県\t江川崎\n",
      "埼玉県\t熊谷\n",
      "岐阜県\t多治見\n"
     ]
    }
   ],
   "source": [
    "%%bash\n",
    "split -l 3 marge.txt split_marge.txt"
   ]
  },
  {
   "cell_type": "markdown",
   "metadata": {},
   "source": [
    "## 17. １列目の文字列の異なり\n",
    "1列目の文字列の種類（異なる文字列の集合）を求めよ．  \n",
    "確認にはsort, uniqコマンドを用いよ．"
   ]
  },
  {
   "cell_type": "code",
   "execution_count": 5,
   "metadata": {
    "collapsed": false
   },
   "outputs": [
    {
     "name": "stdout",
     "output_type": "stream",
     "text": [
      "{'愛知県', '千葉県', '岐阜県', '愛媛県', '大阪府', '埼玉県', '静岡県', '高知県', '和歌山県', '山梨県', '山形県', '群馬県'}\n"
     ]
    }
   ],
   "source": [
    "def kinds_col(file_name, N=0):\n",
    "    with open(file_name, 'r') as f:\n",
    "        tmp = f.readlines()\n",
    "        \n",
    "    return set([i.strip('\\n') for i in tmp])\n",
    "\n",
    "print(kinds_col('col1.txt'))"
   ]
  },
  {
   "cell_type": "markdown",
   "metadata": {},
   "source": [
    "## 18. 各行を3コラム目の数値の降順にソート\n",
    "各行を3コラム目の数値の逆順で整列せよ  \n",
    "（注意: 各行の内容は変更せずに並び替えよ）．  \n",
    "確認にはsortコマンドを用いよ  \n",
    "（この問題はコマンドで実行した時の結果と合わなくてもよい）．"
   ]
  },
  {
   "cell_type": "code",
   "execution_count": 15,
   "metadata": {
    "collapsed": false
   },
   "outputs": [
    {
     "name": "stdout",
     "output_type": "stream",
     "text": [
      "[['高知県', '江川崎', '41', '2013-08-12'], ['埼玉県', '熊谷', '40.9', '2007-08-16'], ['岐阜県', '多治見', '40.9', '2007-08-16'], ['山形県', '山形', '40.8', '1933-07-25'], ['山梨県', '甲府', '40.7', '2013-08-10'], ['和歌山県', 'かつらぎ', '40.6', '1994-08-08'], ['静岡県', '天竜', '40.6', '1994-08-04'], ['山梨県', '勝沼', '40.5', '2013-08-10'], ['埼玉県', '越谷', '40.4', '2007-08-16'], ['群馬県', '館林', '40.3', '2007-08-16'], ['群馬県', '上里見', '40.3', '1998-07-04'], ['愛知県', '愛西', '40.3', '1994-08-05'], ['千葉県', '牛久', '40.2', '2004-07-20'], ['静岡県', '佐久間', '40.2', '2001-07-24'], ['愛媛県', '宇和島', '40.2', '1927-07-22'], ['山形県', '酒田', '40.1', '1978-08-03'], ['岐阜県', '美濃', '40', '2007-08-16'], ['群馬県', '前橋', '40', '2001-07-24'], ['千葉県', '茂原', '39.9', '2013-08-11'], ['埼玉県', '鳩山', '39.9', '1997-07-05'], ['大阪府', '豊中', '39.9', '1994-08-08'], ['山梨県', '大月', '39.9', '1990-07-19'], ['山形県', '鶴岡', '39.9', '1978-08-03'], ['愛知県', '名古屋', '39.9', '1942-08-02']]\n"
     ]
    }
   ],
   "source": [
    "def sorted_list(filename, col):\n",
    "    with open(filename, 'r') as f:\n",
    "        return_list = [i.strip(\"\\n\").split('\\t') for i in f.readlines()]\n",
    "        \n",
    "    return sorted(return_list, key=lambda x: x[col], reverse=True)\n",
    "\n",
    "print(sorted_list(\"hightemp.txt\", 2))"
   ]
  },
  {
   "cell_type": "markdown",
   "metadata": {},
   "source": [
    "## 19. 各行の1コラム目の文字列の出現頻度を求め，出現頻度の高い順に並べる\n",
    "各行の1列目の文字列の出現頻度を求め，その高い順に並べて表示せよ．確認にはcut, uniq, sortコマンドを用いよ．"
   ]
  },
  {
   "cell_type": "code",
   "execution_count": 19,
   "metadata": {
    "collapsed": false
   },
   "outputs": [
    {
     "name": "stdout",
     "output_type": "stream",
     "text": [
      "['埼玉県', '山梨県', '山形県', '群馬県', '愛知県', '千葉県', '静岡県', '岐阜県', '愛媛県', '大阪府', '高知県', '和歌山県']\n"
     ]
    }
   ],
   "source": [
    "def frequency_sort(filename, col):\n",
    "    from collections import Counter\n",
    "    with open(filename, 'r') as f:\n",
    "        return_list = [i.strip(\"\\n\").split('\\t')[col-1] for i in f.readlines()]\n",
    "    return [i[0] for i in Counter(return_list).most_common()]\n",
    "\n",
    "print(frequency_sort(\"hightemp.txt\", 1))"
   ]
  },
  {
   "cell_type": "code",
   "execution_count": null,
   "metadata": {
    "collapsed": true
   },
   "outputs": [],
   "source": []
  }
 ],
 "metadata": {
  "kernelspec": {
   "display_name": "Python 3",
   "language": "python",
   "name": "python3"
  },
  "language_info": {
   "codemirror_mode": {
    "name": "ipython",
    "version": 3
   },
   "file_extension": ".py",
   "mimetype": "text/x-python",
   "name": "python",
   "nbconvert_exporter": "python",
   "pygments_lexer": "ipython3",
   "version": "3.5.1"
  }
 },
 "nbformat": 4,
 "nbformat_minor": 0
}
