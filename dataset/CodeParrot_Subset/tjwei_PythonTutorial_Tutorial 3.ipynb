{
 "cells": [
  {
   "cell_type": "markdown",
   "metadata": {},
   "source": [
    "[Zebra Puzzle](http://en.wikipedia.org/wiki/Zebra_Puzzle)\n",
    "\n",
    "1. 有五間房子\n",
    "2. 英國人住紅色的房子\n",
    "3. 西班牙人養狗\n",
    "4. 住綠色房子的人喝咖啡\n",
    "5. 烏克蘭人喝茶\n",
    "6. 綠色房子緊鄰的左邊（你的右邊）是白色房子\n",
    "7. 抽「Old Gold」牌香菸的人養蝸牛\n",
    "8. 黃色房子的人抽「Kools」牌香菸\n",
    "9. 正中間房子的人喝牛奶\n",
    "10. 挪威人住左邊（你的右邊）第一間房子\n",
    "11. 抽「Chesterfields」牌香菸的人，住在養狐狸的人的隔壁\n",
    "12. 抽「Kools」牌香菸的人，住在養馬的人隔壁\n",
    "13. 抽「Lucky Strike」牌香菸的人，喝橘子汁\n",
    "14. 日本人抽「Parliament」牌香菸\n",
    "15. 挪威人住在藍色房子的隔壁\n",
    "\n",
    "** Question：誰喝水？ 誰養斑馬？ **"
   ]
  },
  {
   "cell_type": "code",
   "execution_count": null,
   "metadata": {
    "collapsed": false
   },
   "outputs": [],
   "source": [
    "import itertools \n",
    "屋子 = 第一間, _, 中間, _, _ = [1, 2, 3, 4, 5]\n",
    "所有順序 = list(itertools.permutations(屋子))\n",
    "所有順序"
   ]
  },
  {
   "cell_type": "code",
   "execution_count": null,
   "metadata": {
    "collapsed": true
   },
   "outputs": [],
   "source": [
    "def 在右邊(h1, h2):\n",
    "    \"h1 緊鄰 h2 的右邊.\"\n",
    "    return h1-h2 == 1\n",
    "\n",
    "def 隔壁(h1, h2):\n",
    "    \"h1 h2 在隔壁\"\n",
    "    return abs(h1-h2) == 1"
   ]
  },
  {
   "cell_type": "code",
   "execution_count": null,
   "metadata": {
    "collapsed": true
   },
   "outputs": [],
   "source": [
    "def zebra_puzzle():        \n",
    "    return [locals()\n",
    "                for (紅, 綠, 白, 黃, 藍) in 所有順序\n",
    "                for (英國人, 西班牙人, 烏克蘭人, 日本人, 挪威人) in 所有順序\n",
    "                for (咖啡, 茶, 牛奶, 橘子汁, 水) in 所有順序\n",
    "                for (OldGold, Kools, Chesterfields, LuckyStrike, Parliaments) in 所有順序\n",
    "                for (狗, 蝸牛, 狐狸, 馬, 斑馬) in 所有順序                                   \n",
    "                    if 英國人 is 紅  #2\n",
    "                    if 西班牙人 is 狗 #3\n",
    "                    if 咖啡 is 綠 #4\n",
    "                    if 烏克蘭人 is 茶 #5\n",
    "                    if 在右邊(綠, 白) #6 \n",
    "                    if OldGold is 蝸牛 #7\n",
    "                    if Kools is 黃 #8\n",
    "                    if 牛奶 is 中間 #9\n",
    "                    if 挪威人 is 第一間 #10\n",
    "                    if 隔壁(Chesterfields, 狐狸) #11\n",
    "                    if 隔壁(Kools, 馬) #12\n",
    "                    if LuckyStrike is 橘子汁 #13\n",
    "                    if 日本人 is Parliaments #14 \n",
    "                    if 隔壁(挪威人, 藍) #15 \n",
    "                ]\n",
    "zebra_puzzle()"
   ]
  },
  {
   "cell_type": "markdown",
   "metadata": {},
   "source": [
    "時間太長！"
   ]
  },
  {
   "cell_type": "code",
   "execution_count": null,
   "metadata": {
    "collapsed": false
   },
   "outputs": [],
   "source": [
    "def zebra_puzzle():        \n",
    "    return [locals()\n",
    "                for (紅, 綠, 白, 黃, 藍) in 所有順序\n",
    "                    if 在右邊(綠, 白) #6\n",
    "                for (英國人, 西班牙人, 烏克蘭人, 日本人, 挪威人) in 所有順序\n",
    "                    if 英國人 is 紅  #2\n",
    "                    if 挪威人 is 第一間 #10\n",
    "                    if 隔壁(挪威人, 藍) #15\n",
    "                for (咖啡, 茶, 牛奶, 橘子汁, 水) in 所有順序\n",
    "                    if 咖啡 is 綠 #4\n",
    "                    if 烏克蘭人 is 茶 #5\n",
    "                    if 牛奶 is 中間 #9\n",
    "                for (OldGold, Kools, Chesterfields, LuckyStrike, Parliaments) in 所有順序\n",
    "                    if Kools is 黃 #8\n",
    "                    if LuckyStrike is 橘子汁 #13\n",
    "                    if 日本人 is Parliaments #14\n",
    "                for (狗, 蝸牛, 狐狸, 馬, 斑馬) in 所有順序\n",
    "                    if 西班牙人 is 狗 #3\n",
    "                    if OldGold is 蝸牛 #7\n",
    "                    if 隔壁(Chesterfields, 狐狸) #11\n",
    "                    if 隔壁(Kools, 馬) #12\n",
    "                ]\n",
    "zebra_puzzle()"
   ]
  },
  {
   "cell_type": "code",
   "execution_count": 7,
   "metadata": {
    "collapsed": false
   },
   "outputs": [
    {
     "data": {
      "text/plain": [
       "{1: ['Kools', '水', '黃', '挪威人', '狐狸'],\n",
       " 2: ['藍', '茶', '馬', '烏克蘭人', 'Chesterfields'],\n",
       " 3: ['紅', '蝸牛', 'OldGold', '牛奶', '英國人'],\n",
       " 4: ['LuckyStrike', '狗', '白', '橘子汁', '西班牙人'],\n",
       " 5: ['斑馬', '咖啡', '日本人', 'Parliaments', '綠']}"
      ]
     },
     "execution_count": 7,
     "metadata": {},
     "output_type": "execute_result"
    }
   ],
   "source": [
    "def result(d): return {i:[k for k,v in d.items() if v == i] for i in 屋子}\n",
    "def zebra_puzzle():        \n",
    "    return [result(locals())\n",
    "                for (紅, 綠, 白, 黃, 藍) in 所有順序\n",
    "                    if 在右邊(綠, 白)\n",
    "                for (英國人, 西班牙人, 烏克蘭人, 日本人, 挪威人) in 所有順序\n",
    "                    if 英國人 is 紅\n",
    "                    if 挪威人 is 第一間\n",
    "                    if 隔壁(挪威人, 藍)\n",
    "                for (咖啡, 茶, 牛奶, 橘子汁, 水) in 所有順序\n",
    "                    if 咖啡 is 綠\n",
    "                    if 烏克蘭人 is 茶\n",
    "                    if 牛奶 is 中間\n",
    "                for (OldGold, Kools, Chesterfields, LuckyStrike, Parliaments) in 所有順序\n",
    "                    if Kools is 黃\n",
    "                    if LuckyStrike is 橘子汁\n",
    "                    if 日本人 is Parliaments\n",
    "                for (狗, 蝸牛, 狐狸, 馬, 斑馬) in 所有順序\n",
    "                    if 西班牙人 is 狗\n",
    "                    if OldGold is 蝸牛\n",
    "                    if 隔壁(Chesterfields, 狐狸)\n",
    "                    if 隔壁(Kools, 馬) ]\n",
    "zebra_puzzle()[0]"
   ]
  },
  {
   "cell_type": "markdown",
   "metadata": {},
   "source": [
    "### Credit:\n",
    "基於 Udacity's CS212 的解答"
   ]
  }
 ],
 "metadata": {
  "kernelspec": {
   "display_name": "Python 3",
   "language": "python",
   "name": "python3"
  },
  "language_info": {
   "codemirror_mode": {
    "name": "ipython",
    "version": 3
   },
   "file_extension": ".py",
   "mimetype": "text/x-python",
   "name": "python",
   "nbconvert_exporter": "python",
   "pygments_lexer": "ipython3",
   "version": "3.4.1"
  }
 },
 "nbformat": 4,
 "nbformat_minor": 0
}
