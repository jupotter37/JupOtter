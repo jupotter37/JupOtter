{
 "cells": [
  {
   "cell_type": "code",
   "execution_count": 1,
   "metadata": {
    "collapsed": false
   },
   "outputs": [
    {
     "name": "stdout",
     "output_type": "stream",
     "text": [
      "Using matplotlib backend: Qt4Agg\n"
     ]
    }
   ],
   "source": [
    "%run basics\n",
    "%matplotlib\n",
    "import pysolar\n",
    "import pytz"
   ]
  },
  {
   "cell_type": "code",
   "execution_count": 2,
   "metadata": {
    "collapsed": false
   },
   "outputs": [
    {
     "name": "stdout",
     "output_type": "stream",
     "text": [
      "-12.4952 131.15005\n"
     ]
    }
   ],
   "source": [
    "site_name = \"HowardSprings\"\n",
    "tower_name = \"../Sites/\"+site_name+\"/Data/Portal/\"+site_name+\"_2014_L3.nc\"\n",
    "ds_tower = qcio.nc_read_series(tower_name)\n",
    "site_timezone = ds_tower.globalattributes[\"time_zone\"]\n",
    "site_latitude = float(ds_tower.globalattributes[\"latitude\"])\n",
    "site_longitude = float(ds_tower.globalattributes[\"longitude\"])\n",
    "tower_timestep = int(ds_tower.globalattributes[\"time_step\"])\n",
    "print site_latitude,site_longitude\n",
    "dt_tower = ds_tower.series[\"DateTime\"][\"Data\"]\n",
    "Fsd_tower,f,a = qcutils.GetSeriesasMA(ds_tower,\"Fsd\")"
   ]
  },
  {
   "cell_type": "code",
   "execution_count": 3,
   "metadata": {
    "collapsed": false
   },
   "outputs": [
    {
     "name": "stdout",
     "output_type": "stream",
     "text": [
      "-12.75 131.25\n"
     ]
    }
   ],
   "source": [
    "erai_name = \"../ECMWF/ECMWF_2014.nc\"\n",
    "erai_file = netCDF4.Dataset(erai_name)\n",
    "latitude = erai_file.variables[\"latitude\"][:]\n",
    "longitude = erai_file.variables[\"longitude\"][:]\n",
    "lat_resolution = abs(latitude[-1]-latitude[0])/(len(latitude)-1)\n",
    "lon_resolution = abs(longitude[-1]-longitude[0])/(len(longitude)-1)\n",
    "site_lat_index = int(((latitude[0]-site_latitude)/lat_resolution)+0.5)\n",
    "site_lon_index = int(((site_longitude-longitude[0])/lon_resolution)+0.5)\n",
    "erai_timestep = 180\n",
    "print latitude[site_lat_index],longitude[site_lon_index]"
   ]
  },
  {
   "cell_type": "code",
   "execution_count": 4,
   "metadata": {
    "collapsed": false
   },
   "outputs": [],
   "source": [
    "# get the time and convert to Python datetime object\n",
    "erai_time = erai_file.variables[\"time\"][:]\n",
    "time_units = getattr(erai_file.variables[\"time\"],\"units\")\n",
    "dt_erai =  netCDF4.num2date(erai_time,time_units)\n",
    "hour_utc = numpy.array([dt.hour for dt in dt_erai])\n",
    "#print dt_ecmwf[0],dt_ecmwf[-1]"
   ]
  },
  {
   "cell_type": "code",
   "execution_count": 5,
   "metadata": {
    "collapsed": true
   },
   "outputs": [],
   "source": [
    "# variables are dimensioned [time,latitude,longitude]\n",
    "Fsd_3d = erai_file.variables[\"ssrd\"][:,:,:]\n",
    "Fsd_accum = Fsd_3d[:,site_lat_index,site_lon_index]"
   ]
  },
  {
   "cell_type": "code",
   "execution_count": 6,
   "metadata": {
    "collapsed": false
   },
   "outputs": [],
   "source": [
    "site_tz = pytz.timezone(site_timezone)\n",
    "# make utc_dt timezone aware\n",
    "dt_erai_utc = [x.replace(tzinfo=pytz.utc) for x in dt_erai]\n",
    "# get local time from UTC\n",
    "erai_offset = datetime.timedelta(minutes=float(erai_timestep)/2)\n",
    "dt_erai_loc = [x.astimezone(site_tz) for x in dt_erai_utc]\n",
    "#dt_erai_loc = [x.astimezone(site_tz) for x in dt_erai_utc]\n",
    "# NOTE: will have to disable daylight saving at some stage, towers stay on Standard Time\n",
    "# PRI hopes that the following line will do this ...\n",
    "#dt_ecmwf_loc = [x-x.dst() for x in dt_ecmwf_loc]\n",
    "# make local time timezone naive to match datetimes in OzFluxQC\n",
    "dt_erai_loc_ntz = [x.replace(tzinfo=None) for x in dt_erai_loc]\n",
    "dt_erai_loc_cor = [x - erai_offset for x in dt_erai_loc_ntz]\n",
    "dt_erai_utc_ntz = [x.replace(tzinfo=None) for x in dt_erai_utc]\n",
    "dt_erai_utc_cor = [x - erai_offset for x in dt_erai_utc_ntz]"
   ]
  },
  {
   "cell_type": "code",
   "execution_count": 7,
   "metadata": {
    "collapsed": false
   },
   "outputs": [],
   "source": [
    "# Downwelling shortwave in ERA-I is a cummulative value that is reset to 0\n",
    "# at 0300 and 1500 UTC.  Here we convert the cummulative values to\n",
    "# 3 hourly values.\n",
    "Fsd_erai_3hr = numpy.ediff1d(Fsd_accum,to_begin=0)\n",
    "idx = numpy.where((hour_utc==3)|(hour_utc==15))[0]\n",
    "Fsd_erai_3hr[idx] = Fsd_accum[idx]\n",
    "Fsd_erai_3hr = Fsd_erai_3hr/(erai_timestep*60)"
   ]
  },
  {
   "cell_type": "code",
   "execution_count": 8,
   "metadata": {
    "collapsed": false
   },
   "outputs": [],
   "source": [
    "fig=plt.figure()\n",
    "plt.plot(dt_tower,Fsd_tower,'b-')\n",
    "plt.plot(dt_erai_loc_cor,Fsd_erai_3hr,'r+')\n",
    "#plt.plot(dt_erai_loc,1000*numpy.sin(numpy.deg2rad(alt_solar_3hr)),'g^')\n",
    "plt.show()"
   ]
  },
  {
   "cell_type": "code",
   "execution_count": 9,
   "metadata": {
    "collapsed": false
   },
   "outputs": [],
   "source": [
    "# Now we interpolate from the 3 hourly ERA-I time step to the tower time step using the solar altitude.\n",
    "nth = erai_timestep/tower_timestep\n",
    "Fsd_erai = numpy.zeros(len(Fsd_erai_3hr)*nth)\n",
    "idx = numpy.array(range(0,len(Fsd_erai_3hr)))\n",
    "for i in range(0,nth):\n",
    "    Fsd_erai[idx*nth+i] = Fsd_erai_3hr[idx]\n",
    "# now get a datetime series at the tower time step\n",
    "# tower time step as a datetime delta\n",
    "tsdt = datetime.timedelta(minutes=tower_timestep)\n",
    "# offset the start dateime to allow forhe period over which the first ERA-I\n",
    "# value has been accumulated\n",
    "start_date = dt_erai_loc_cor[0]-(nth-1)*tsdt\n",
    "end_date = dt_erai_loc_cor[-1]\n",
    "dt_erai_loc = [x for x in qcutils.perdelta(start_date,end_date,tsdt)]\n",
    "# do the same fo UTC\n",
    "start_date = dt_erai_utc_cor[0]-(nth-1)*tsdt\n",
    "end_date = dt_erai_utc_cor[-1]\n",
    "dt_erai_utc = [x for x in qcutils.perdelta(start_date,end_date,tsdt)]\n",
    "#dt_erai_loc_1hr = [dt_erai_loc_cor[0]-datetime.timedelta(minutes=60)]+dt_erai_loc_1hr\n",
    "#dt_erai_loc_1hr = dt_erai_loc_1hr+[dt_erai_loc_cor[-1]+datetime.timedelta(minutes=60)]"
   ]
  },
  {
   "cell_type": "code",
   "execution_count": null,
   "metadata": {
    "collapsed": false
   },
   "outputs": [],
   "source": [
    "print dt_erai_loc_cor[0]-(nth-1)*tsdt\n",
    "print dt_erai_loc_cor[-1]"
   ]
  },
  {
   "cell_type": "code",
   "execution_count": null,
   "metadata": {
    "collapsed": false
   },
   "outputs": [],
   "source": [
    "fig=plt.figure()\n",
    "plt.plot(dt_tower,Fsd_tower,'b-')\n",
    "plt.plot(dt_erai_loc,Fsd_erai,'r+')\n",
    "plt.show()"
   ]
  },
  {
   "cell_type": "code",
   "execution_count": 10,
   "metadata": {
    "collapsed": true
   },
   "outputs": [],
   "source": [
    "# get the solar altitude, we will use this later to interpolate the ERA Interim\n",
    "# data from the ERA-I 3 hour time step to the tower time step.\n",
    "# alt_solar is in degrees\n",
    "alt_solar_3hr = numpy.array([pysolar.GetAltitude(site_latitude,site_longitude,dt) for dt in dt_erai_utc_cor])"
   ]
  },
  {
   "cell_type": "code",
   "execution_count": 11,
   "metadata": {
    "collapsed": false
   },
   "outputs": [],
   "source": [
    "#alt_solar_3hr = numpy.ma.masked_where(alt_solar_3hr<0,alt_solar_3hr)\n",
    "coef_3hr = Fsd_erai_3hr/numpy.sin(numpy.deg2rad(alt_solar_3hr))"
   ]
  },
  {
   "cell_type": "code",
   "execution_count": null,
   "metadata": {
    "collapsed": true
   },
   "outputs": [],
   "source": [
    "fig = plt.figure()\n",
    "ax1 = plt.subplot(311)\n",
    "plt.plot(dt_erai_loc_cor,alt_solar_3hr,'bo')\n",
    "ax2 = plt.subplot(312,sharex=ax1)\n",
    "plt.plot(dt_erai_loc_cor,Fsd_erai_3hr,'bo')\n",
    "ax3 = plt.subplot(313,sharex=ax1)\n",
    "plt.plot(dt_erai_loc_cor,coef_3hr,'bo')\n",
    "plt.show()"
   ]
  },
  {
   "cell_type": "code",
   "execution_count": 13,
   "metadata": {
    "collapsed": false
   },
   "outputs": [],
   "source": [
    "alt_solar = numpy.array([pysolar.GetAltitude(site_latitude,site_longitude,dt) for dt in dt_erai_utc])\n",
    "idx = numpy.where(alt_solar<=0)[0]\n",
    "alt_solar[idx] = float(0)\n",
    "coef = numpy.ma.zeros(len(coef_3hr)*nth)\n",
    "idx = numpy.array(range(0,len(coef_3hr)))\n",
    "for i in range(0,nth):\n",
    "    coef[idx*nth+i] = coef_3hr[idx]\n",
    "Fsd_erai = coef*numpy.sin(numpy.deg2rad(alt_solar))"
   ]
  },
  {
   "cell_type": "code",
   "execution_count": 17,
   "metadata": {
    "collapsed": false
   },
   "outputs": [],
   "source": [
    "fig = plt.figure()\n",
    "ax1 = plt.subplot(211)\n",
    "plt.plot(dt_tower,Fsd_tower,'b-')\n",
    "plt.plot(dt_erai_loc_cor,Fsd_erai_3hr,'g.')\n",
    "plt.plot(dt_erai_loc,Fsd_erai,'r+')\n",
    "ax2 = plt.subplot(212,sharex=ax1)\n",
    "plt.plot(dt_erai_loc_cor,coef_3hr,'bo')\n",
    "plt.show()"
   ]
  },
  {
   "cell_type": "code",
   "execution_count": null,
   "metadata": {
    "collapsed": true
   },
   "outputs": [],
   "source": [
    "# now get the true solar altitude\n",
    "start_date = dt_erai_utc_cor[0]\n",
    "end_date = dt_erai_utc_cor[-1]\n",
    "dt_erai_utc_1hr = [x for x in qcutils.perdelta(start_date,end_date,tdhr)]\n",
    "dt_erai_utc_1hr = [dt_erai[0]-datetime.timedelta(minutes=60)]+dt_erai_utc_1hr\n",
    "dt_erai_utc_1hr = dt_erai_utc_1hr+[dt_erai[-1]+datetime.timedelta(minutes=60)]\n",
    "alt_solar = numpy.array([pysolar.GetAltitude(site_latitude,site_longitude,dt) for dt in dt_erai_utc_1hr])"
   ]
  },
  {
   "cell_type": "code",
   "execution_count": null,
   "metadata": {
    "collapsed": false
   },
   "outputs": [],
   "source": [
    "fig=plt.figure()\n",
    "plt.plot(dt_erai_cor,alt_solar_3hr)\n",
    "plt.plot(dt_erai_1hr,alt_solar_1hr,'r+')\n",
    "plt.plot(dt_erai_1hr,alt_solar,'g^')\n",
    "plt.show()"
   ]
  },
  {
   "cell_type": "code",
   "execution_count": null,
   "metadata": {
    "collapsed": false
   },
   "outputs": [],
   "source": [
    "fig=plt.figure()\n",
    "plt.plot(dt_erai_cor,1000*numpy.sin(numpy.deg2rad(alt_solar_3hr)),'b.')\n",
    "#plt.plot(dt_erai_1hr,1000*numpy.sin(numpy.deg2rad(alt_solar)),'b^')\n",
    "plt.plot(dt_erai_cor,Fsd_erai_3hr,'r+')\n",
    "plt.show()"
   ]
  },
  {
   "cell_type": "code",
   "execution_count": null,
   "metadata": {
    "collapsed": false
   },
   "outputs": [],
   "source": [
    "ratio = numpy.deg2rad(alt_solar)/numpy.deg2rad(alt_solar_1hr)\n",
    "Fsd_erai_1hr = ratio*Fsd_erai_1hr\n",
    "fig=plt.figure()\n",
    "plt.plot(dt_tower,Fsd_tower,'b-')\n",
    "plt.plot(dt_erai_1hr,Fsd_erai_1hr,'r+')\n",
    "plt.ylim([0,1200])\n",
    "plt.show()"
   ]
  },
  {
   "cell_type": "code",
   "execution_count": null,
   "metadata": {
    "collapsed": true
   },
   "outputs": [],
   "source": [
    "from scipy.interpolate import InterpolatedUnivariateSpline\n",
    "order = 1\n",
    "s = InterpolatedUnivariateSpline(xi, yi, k=order)\n",
    "y = s(x)"
   ]
  }
 ],
 "metadata": {
  "kernelspec": {
   "display_name": "Python 2",
   "language": "python",
   "name": "python2"
  },
  "language_info": {
   "codemirror_mode": {
    "name": "ipython",
    "version": 2
   },
   "file_extension": ".py",
   "mimetype": "text/x-python",
   "name": "python",
   "nbconvert_exporter": "python",
   "pygments_lexer": "ipython2",
   "version": "2.7.11"
  }
 },
 "nbformat": 4,
 "nbformat_minor": 0
}
