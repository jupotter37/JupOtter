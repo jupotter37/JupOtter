{
 "cells": [
  {
   "cell_type": "markdown",
   "metadata": {
    "deletable": true,
    "editable": true
   },
   "source": [
    "# Aula 10  Discrete Wavelets Transform"
   ]
  },
  {
   "cell_type": "markdown",
   "metadata": {
    "deletable": true,
    "editable": true
   },
   "source": [
    "## Exercícios"
   ]
  },
  {
   "cell_type": "markdown",
   "metadata": {
    "deletable": true,
    "editable": true
   },
   "source": [
    "### isccsym\n",
    "\n",
    "Não é fácil projetar um conjunto de testes para garantir que o seu programa esteja correta.\n",
    "No caso em que o resultado é Falso, i.e., não simétrico, basta um pixel não ser simétrico para\n",
    "o resultado ser Falso. Com isso, o conjunto de teste com uma imagem enorme com muitos pixels\n",
    "não simétricos não é bom teste. Por exemplo, neste caso, faltou um teste onde tudo seja\n",
    "simétrico, com exceção da origem (F[0,0]).\n",
    "\n",
    "Solução apresentada pelo Marcelo, onde é comparado com a imagem refletida com translação periódica de 1 deslocamento é bem conceitual. A solução do Deângelo parece ser a mais rápida: não foi feita nenhuma cópia e comparou apenas com metade dos pixels.\n",
    "\n",
    "Existe ainda pequeno problema a ser encontrado na questão de utilizar apenas metade dos pixels\n",
    "para serem comparados."
   ]
  },
  {
   "cell_type": "markdown",
   "metadata": {
    "deletable": true,
    "editable": true
   },
   "source": [
    "### minify\n",
    "\n",
    "A redução da imagem deve ser feita com uma filtragem inicial de período de corte 2.r onde r é o\n",
    "fator de redução da imagem. A seguir, é feita a reamostragem (decimação).\n",
    "\n",
    "Para se fazer a redução no domínio da frequência, bastaria recortar o espectro da imagem original\n",
    "e fazer a transforma inversa de Fourier."
   ]
  },
  {
   "cell_type": "markdown",
   "metadata": {
    "collapsed": true,
    "deletable": true,
    "editable": true
   },
   "source": [
    "### resize\n",
    "\n",
    "Verificou-se que a melhor função de ampliação/redução é a scipy.misc.imresize, tanto na qualidade como\n",
    "na rapidez. "
   ]
  },
  {
   "cell_type": "code",
   "execution_count": 1,
   "metadata": {
    "ExecuteTime": {
     "end_time": "2017-05-18T07:29:25.024955",
     "start_time": "2017-05-18T07:29:24.426068"
    },
    "collapsed": true,
    "deletable": true,
    "editable": true
   },
   "outputs": [],
   "source": [
    "import numpy as np\n",
    "import sys,os\n",
    "import matplotlib.image as mpimg\n",
    "ia898path = os.path.abspath('../../')\n",
    "if ia898path not in sys.path:\n",
    "    sys.path.append(ia898path)\n",
    "import ia898.src as ia"
   ]
  },
  {
   "cell_type": "markdown",
   "metadata": {
    "deletable": true,
    "editable": true
   },
   "source": [
    "## Exercícios para a próxima aula\n",
    "\n",
    "1. Fazer uma função que amplie/reduza a imagem utilizando interpolação no domínio da frequência, \n",
    "   conforme discutido em aula. Comparar os resultados com o scipy.misc.imresize, tanto de qualidade do\n",
    "   espectro como de tempo de execução.\n",
    "   Os alunos com RA ímpar devem fazer as ampliações e os com RA par devem fazer\n",
    "   as reduções.\n",
    "   Nome da função: imresize\n",
    "   "
   ]
  },
  {
   "cell_type": "code",
   "execution_count": null,
   "metadata": {
    "collapsed": true,
    "deletable": true,
    "editable": true
   },
   "outputs": [],
   "source": [
    "def imresize(f, size):\n",
    "    '''\n",
    "    Resize an image\n",
    "    Parameters\n",
    "    ----------\n",
    "        f: input image\n",
    "        size: integer, float or tuple\n",
    "            - integer: percentage of current size\n",
    "            - float: fraction of current size\n",
    "            - tuple: new dimensions\n",
    "    Returns\n",
    "    -------\n",
    "        output image resized \n",
    "    '''\n",
    "    return f"
   ]
  },
  {
   "cell_type": "markdown",
   "metadata": {
    "deletable": true,
    "editable": true
   },
   "source": [
    "2. Modificar a função `pconv` para executar no domínio da frequência, caso o número de\n",
    "   elementos não zeros da menor imagem, é maior que um certo valor, digamos 15.\n",
    "   Nome da função: pconvfft"
   ]
  },
  {
   "cell_type": "code",
   "execution_count": null,
   "metadata": {
    "collapsed": true,
    "deletable": true,
    "editable": true
   },
   "outputs": [],
   "source": [
    "def pconvfft(f,h):\n",
    "    '''\n",
    "    Periodical convolution.\n",
    "    This is an efficient implementation of the periodical convolution.\n",
    "    This implementation should be comutative, i.e., pconvfft(f,h)==pconvfft(h,f).\n",
    "    This implementation should be fast. If the number of pixels used in the \n",
    "    convolution is larger than 15, it uses the convolution theorem to implement\n",
    "    the convolution.\n",
    "    Parameters:\n",
    "    -----------\n",
    "        f: input image (can be complex, up to 2 dimensions)\n",
    "        h: input kernel (can be complex, up to 2 dimensions)\n",
    "    Outputs:\n",
    "        image of the result of periodical convolution\n",
    "    '''\n",
    "    return f"
   ]
  },
  {
   "cell_type": "markdown",
   "metadata": {
    "deletable": true,
    "editable": true
   },
   "source": [
    "## Transforma Discreta de Wavelets\n",
    "\n",
    "Iremos utilizar um notebook que foi um resultado de projeto de anos\n",
    "anteriores.\n",
    "\n",
    "- [DWT](../dev/wavelets.ipynb)"
   ]
  },
  {
   "cell_type": "code",
   "execution_count": null,
   "metadata": {
    "collapsed": true,
    "deletable": true,
    "editable": true
   },
   "outputs": [],
   "source": [
    "/home/lotufo/ia898/dev/wavelets.ipynb"
   ]
  }
 ],
 "metadata": {
  "kernelspec": {
   "display_name": "Python 3",
   "language": "python",
   "name": "python3"
  },
  "language_info": {
   "codemirror_mode": {
    "name": "ipython",
    "version": 3
   },
   "file_extension": ".py",
   "mimetype": "text/x-python",
   "name": "python",
   "nbconvert_exporter": "python",
   "pygments_lexer": "ipython3",
   "version": "3.6.0"
  },
  "toc": {
   "colors": {
    "hover_highlight": "#DAA520",
    "running_highlight": "#FF0000",
    "selected_highlight": "#FFD700"
   },
   "moveMenuLeft": true,
   "nav_menu": {
    "height": "30px",
    "width": "252px"
   },
   "navigate_menu": true,
   "number_sections": true,
   "sideBar": true,
   "threshold": 4,
   "toc_cell": false,
   "toc_section_display": "block",
   "toc_window_display": false
  }
 },
 "nbformat": 4,
 "nbformat_minor": 2
}
