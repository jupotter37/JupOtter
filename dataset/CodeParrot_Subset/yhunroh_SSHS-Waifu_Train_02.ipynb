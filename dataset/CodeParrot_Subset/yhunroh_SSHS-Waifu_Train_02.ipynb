{
 "cells": [
  {
   "cell_type": "code",
   "execution_count": 15,
   "metadata": {
    "collapsed": false
   },
   "outputs": [
    {
     "name": "stdout",
     "output_type": "stream",
     "text": [
      "2.78077e+08\n",
      "1.46634e+08\n",
      "1.31642e+08\n",
      "끝났띠\n"
     ]
    }
   ],
   "source": [
    "import tensorflow as tf\n",
    "from PIL import Image\n",
    "import numpy as np\n",
    "from datetime import datetime\n",
    "\n",
    "\n",
    "#이미지, 상수들\n",
    "learning_rate=1e-3\n",
    "W1=640\n",
    "H1=360\n",
    "W2=1280\n",
    "H2=720\n",
    "path=\"\"\n",
    "pref1=\"360p/\"\n",
    "pref2=\"720p/\"\n",
    "suff1=\"_360.jpg\"\n",
    "suff2=\"_720.jpg\"\n",
    "train_num=30\n",
    "file_num=8#6#30\n",
    "#batch_num=1000\n",
    "\n",
    "\n",
    "#가중치 초기화 함수\n",
    "def weight_variable(shape, name):\n",
    "  initial = tf.truncated_normal(shape, stddev=0.01)\n",
    "  return tf.Variable(initial, name=name)\n",
    "#절편 초기화 함수\n",
    "def bias_variable(shape, name):\n",
    "  initial = tf.constant(0.01, shape=shape)\n",
    "  return tf.Variable(initial, name=name)\n",
    "#2D 컨벌루션 실행\n",
    "def conv2d(x, W):\n",
    "  return tf.nn.conv2d(x, W, strides=[1, 1, 1, 1], padding='SAME')\n",
    "def getimage(idx):\n",
    "    img_1=Image.open(path+pref1+str(idx)+suff1)\n",
    "    array_1=np.array(img_1)[:, :]\n",
    "    array_1=array_1.astype(np.float32)\n",
    "\n",
    "    img_1_720 = img_1.resize((W2, H2))\n",
    "    array_1_720=np.array(img_1_720)[:, :]\n",
    "    array_1_720=array_1_720.astype(np.float32)\n",
    "\n",
    "    img_2=Image.open(path+pref2+str(idx)+suff2)\n",
    "    array_2=np.array(img_2)[:, :, 0:3]\n",
    "    array_2=array_2.astype(np.float32)\n",
    "    return array_1, array_1_720, array_2\n",
    "\n",
    "def l_relu(x, alpha=0.):\n",
    "    return tf.nn.relu(x)-alpha*tf.nn.relu(-x)\n",
    "\n",
    "\n",
    "\n",
    "#학습때 사용하는 변수들\n",
    "x_image = tf.placeholder(np.float32, shape=[None, H1, W1, 3])\n",
    "x_image_720 = tf.placeholder(np.float32, shape=[None, H2, W2, 3])\n",
    "y_image = tf.placeholder(np.float32, shape=[None, H2, W2, 3])\n",
    "#가중치, 절편, 결과\n",
    "W_conv = weight_variable([5, 5, 3, 3], name='weight')##\n",
    "b_conv = bias_variable([3], name='bias')##\n",
    "y_conv = l_relu(conv2d(x_image_720, W_conv)+b_conv, alpha=0.5)##\n",
    "y_res = tf.reshape(y_conv, [-1, H2, W2, 3])+x_image_720# 고쳐야됨\n",
    "\n",
    "cost = tf.reduce_sum((y_image-y_res)*(y_image-y_res))\n",
    "train_step = tf.train.AdamOptimizer(learning_rate).minimize(cost)\n",
    "saver = tf.train.Saver()\n",
    "sess = tf.Session()\n",
    "sess.run(tf.global_variables_initializer())\n",
    "#saver.restore(sess, \"01/models.ckpt\")\n",
    "\n",
    "\n",
    "for steps in range(train_num):\n",
    "    for index in range(460, 460+file_num):\n",
    "        array360, array360_720, array720 = getimage(index)\n",
    "        sess.run(train_step, feed_dict={x_image:[array360], x_image_720:[array360_720], y_image:[array720]})\n",
    "    #print(sess.run(cost, feed_dict={x_image:[array360], y_image:[array720]}))\n",
    "    if(steps%5==4):\n",
    "        showres(index, steps)\n",
    "    if(steps%10==0):\n",
    "        print(sess.run(cost, feed_dict={x_image:[array360], x_image_720:[array360_720],y_image:[array720]}))\n",
    "        #f=open(\"C:/image/logs.txt\", \"a\")\n",
    "        #f.write(str(datetime.now())+\" | \"+str(steps)+\" :  \"+str(sess.run(cost, feed_dict={x_image:[array360], y_image:[array720]}))+'\\n')\n",
    "        #f.close()\n",
    "    #if(steps%10==):\n",
    "        #save_path=saver.save(sess, \"01/models.ckpt\")\n",
    "print (\"끝났띠\")"
   ]
  },
  {
   "cell_type": "code",
   "execution_count": 14,
   "metadata": {
    "collapsed": false
   },
   "outputs": [],
   "source": [
    "def showres(index, steps):\n",
    "    test360, test_res, test720 = getimage(index)\n",
    "    A=sess.run(y_res, feed_dict={x_image:[test360], x_image_720:[test_res], y_image:[test720]})\n",
    "    result = A[0].astype(np.uint8)\n",
    "    img360=test360.astype(np.uint8)\n",
    "    img720=test720.astype(np.uint8)\n",
    "    #Image.fromarray(img360, 'RGB').save('res/img360_'+str(steps)+'.jpg')\n",
    "    #Image.fromarray(img720, 'RGB').save('res/img720_'+str(steps)+'.jpg')\n",
    "    Image.fromarray(result, 'RGB').save('res/result_'+str(steps)+'.jpg')"
   ]
  }
 ],
 "metadata": {
  "kernelspec": {
   "display_name": "Python 3",
   "language": "python",
   "name": "python3"
  },
  "language_info": {
   "codemirror_mode": {
    "name": "ipython",
    "version": 3
   },
   "file_extension": ".py",
   "mimetype": "text/x-python",
   "name": "python",
   "nbconvert_exporter": "python",
   "pygments_lexer": "ipython3",
   "version": "3.5.2"
  }
 },
 "nbformat": 4,
 "nbformat_minor": 2
}
