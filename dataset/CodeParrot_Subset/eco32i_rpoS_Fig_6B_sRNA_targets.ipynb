{
 "cells": [
  {
   "cell_type": "code",
   "execution_count": 1,
   "metadata": {
    "collapsed": true
   },
   "outputs": [],
   "source": [
    "import pandas as pd\n",
    "import pybedtools\n",
    "import os\n",
    "import sys\n",
    "\n",
    "utils_path = os.path.abspath(os.path.join('..'))\n",
    "if utils_path not in sys.path:\n",
    "    sys.path.append(utils_path)\n",
    "    \n",
    "from utils.rpos import *\n"
   ]
  },
  {
   "cell_type": "code",
   "execution_count": 2,
   "metadata": {
    "collapsed": true
   },
   "outputs": [],
   "source": [
    "pybedtools.cleanup(remove_all=True)"
   ]
  },
  {
   "cell_type": "code",
   "execution_count": 3,
   "metadata": {
    "collapsed": true
   },
   "outputs": [],
   "source": [
    "chromsizes = {'NC_000913.3': (0, 4641651)}\n",
    "arcz = pybedtools.BedTool('../results/arcz.fixed.bed')\n",
    "dsra = pybedtools.BedTool('../results/dsra.fixed.bed')\n",
    "rpra = pybedtools.BedTool('../results/rpra.fixed.bed')\n",
    "utr5 = pybedtools.BedTool('../results/wt_tmut.utrs.corr.old.bed')"
   ]
  },
  {
   "cell_type": "code",
   "execution_count": 4,
   "metadata": {
    "collapsed": false
   },
   "outputs": [
    {
     "data": {
      "text/plain": [
       "73"
      ]
     },
     "execution_count": 4,
     "metadata": {},
     "output_type": "execute_result"
    }
   ],
   "source": [
    "utr5_arcz = utr5.intersect(arcz, wa=True, wb=True)\n",
    "utr5_arcz.saveas('../results/utr5_arcz.bed')\n",
    "\n",
    "arcz_genes = set()\n",
    "with open('../results/utr5_arcz.bed') as fi:\n",
    "    for line in fi:\n",
    "        fields = line.strip().split('\\t')\n",
    "        arcz_genes.add(fields[4])\n",
    "        \n",
    "len(arcz_genes)"
   ]
  },
  {
   "cell_type": "code",
   "execution_count": 5,
   "metadata": {
    "collapsed": false
   },
   "outputs": [
    {
     "data": {
      "text/plain": [
       "83"
      ]
     },
     "execution_count": 5,
     "metadata": {},
     "output_type": "execute_result"
    }
   ],
   "source": [
    "utr5_dsra = utr5.intersect(dsra, wa=True, wb=True)\n",
    "utr5_dsra.saveas('../results/utr5_dsra.bed')\n",
    "\n",
    "dsra_genes = set()\n",
    "with open('../results/utr5_dsra.bed') as fi:\n",
    "    for line in fi:\n",
    "        fields = line.strip().split('\\t')\n",
    "        dsra_genes.add(fields[4])\n",
    "        \n",
    "len(dsra_genes)"
   ]
  },
  {
   "cell_type": "code",
   "execution_count": 6,
   "metadata": {
    "collapsed": false
   },
   "outputs": [
    {
     "data": {
      "text/plain": [
       "66"
      ]
     },
     "execution_count": 6,
     "metadata": {},
     "output_type": "execute_result"
    }
   ],
   "source": [
    "utr5_rpra = utr5.intersect(rpra, wa=True, wb=True)\n",
    "utr5_rpra.saveas('../results/utr5_rpra.bed')\n",
    "\n",
    "rpra_genes = set()\n",
    "with open('../results/utr5_rpra.bed') as fi:\n",
    "    for line in fi:\n",
    "        fields = line.strip().split('\\t')\n",
    "        rpra_genes.add(fields[4])\n",
    "        \n",
    "len(rpra_genes)"
   ]
  },
  {
   "cell_type": "code",
   "execution_count": 7,
   "metadata": {
    "collapsed": false
   },
   "outputs": [
    {
     "data": {
      "text/plain": [
       "223"
      ]
     },
     "execution_count": 7,
     "metadata": {},
     "output_type": "execute_result"
    }
   ],
   "source": [
    "genes = set()\n",
    "with open('../results/s1_s2_intersect.txt') as fi:\n",
    "    for line in fi:\n",
    "        genes.add(line.strip())\n",
    "        \n",
    "len(genes)"
   ]
  },
  {
   "cell_type": "code",
   "execution_count": 8,
   "metadata": {
    "collapsed": false
   },
   "outputs": [
    {
     "data": {
      "text/plain": [
       "45"
      ]
     },
     "execution_count": 8,
     "metadata": {},
     "output_type": "execute_result"
    }
   ],
   "source": [
    "len(genes & arcz_genes)"
   ]
  },
  {
   "cell_type": "code",
   "execution_count": 9,
   "metadata": {
    "collapsed": false
   },
   "outputs": [
    {
     "data": {
      "text/plain": [
       "54"
      ]
     },
     "execution_count": 9,
     "metadata": {},
     "output_type": "execute_result"
    }
   ],
   "source": [
    "len(genes & dsra_genes)"
   ]
  },
  {
   "cell_type": "code",
   "execution_count": 10,
   "metadata": {
    "collapsed": false
   },
   "outputs": [
    {
     "data": {
      "text/plain": [
       "42"
      ]
     },
     "execution_count": 10,
     "metadata": {},
     "output_type": "execute_result"
    }
   ],
   "source": [
    "len(genes & rpra_genes)"
   ]
  },
  {
   "cell_type": "code",
   "execution_count": 11,
   "metadata": {
    "collapsed": false
   },
   "outputs": [
    {
     "data": {
      "text/plain": [
       "14"
      ]
     },
     "execution_count": 11,
     "metadata": {},
     "output_type": "execute_result"
    }
   ],
   "source": [
    "len(genes & arcz_genes & dsra_genes)"
   ]
  },
  {
   "cell_type": "code",
   "execution_count": 12,
   "metadata": {
    "collapsed": false
   },
   "outputs": [
    {
     "data": {
      "text/plain": [
       "10"
      ]
     },
     "execution_count": 12,
     "metadata": {},
     "output_type": "execute_result"
    }
   ],
   "source": [
    "len(genes & arcz_genes & rpra_genes)"
   ]
  },
  {
   "cell_type": "code",
   "execution_count": 13,
   "metadata": {
    "collapsed": false
   },
   "outputs": [
    {
     "data": {
      "text/plain": [
       "13"
      ]
     },
     "execution_count": 13,
     "metadata": {},
     "output_type": "execute_result"
    }
   ],
   "source": [
    "len(genes & rpra_genes & dsra_genes)"
   ]
  },
  {
   "cell_type": "code",
   "execution_count": 15,
   "metadata": {
    "collapsed": false,
    "scrolled": true
   },
   "outputs": [
    {
     "data": {
      "text/plain": [
       "['napF',\n",
       " '',\n",
       " '',\n",
       " 'gabD',\n",
       " 'yicO',\n",
       " 'yodC',\n",
       " 'metE',\n",
       " '',\n",
       " 'yfgG',\n",
       " 'acrE',\n",
       " 'flhD',\n",
       " 'xdhA',\n",
       " 'pbpC',\n",
       " 'dcuR',\n",
       " '',\n",
       " '',\n",
       " 'ybgI',\n",
       " '',\n",
       " '',\n",
       " 'pck',\n",
       " 'nuoN',\n",
       " 'gpsA',\n",
       " 'yfiM',\n",
       " 'hypF',\n",
       " 'ynfC',\n",
       " '',\n",
       " '',\n",
       " '',\n",
       " 'yhfL',\n",
       " 'ybaY',\n",
       " 'clpS',\n",
       " 'cutC',\n",
       " '',\n",
       " 'yqhA',\n",
       " 'ykgC',\n",
       " 'fimB',\n",
       " '',\n",
       " 'mglA',\n",
       " 'hcaT',\n",
       " 'rutR',\n",
       " '',\n",
       " 'tdcR',\n",
       " '',\n",
       " 'ybbY',\n",
       " 'ydcJ',\n",
       " 'yahN',\n",
       " 'ydcS',\n",
       " 'yihV',\n",
       " 'yjjB',\n",
       " '',\n",
       " '',\n",
       " '',\n",
       " 'yphB',\n",
       " 'astE',\n",
       " 'yqeC',\n",
       " '',\n",
       " '',\n",
       " '',\n",
       " '',\n",
       " '',\n",
       " '',\n",
       " 'ecpA',\n",
       " '',\n",
       " '',\n",
       " 'rpoS',\n",
       " '',\n",
       " 'fucP',\n",
       " '',\n",
       " 'yobF',\n",
       " 'yobB',\n",
       " 'ygfS',\n",
       " '',\n",
       " 'minE']"
      ]
     },
     "execution_count": 15,
     "metadata": {},
     "output_type": "execute_result"
    }
   ],
   "source": [
    "[g if g in genes else '' for g in arcz_genes]"
   ]
  },
  {
   "cell_type": "code",
   "execution_count": 22,
   "metadata": {
    "collapsed": false
   },
   "outputs": [],
   "source": [
    "res = []\n",
    "for gene in genes:\n",
    "    c = []\n",
    "    if gene in arcz_genes:\n",
    "        c.append('arcZ')\n",
    "    if gene in dsra_genes:\n",
    "        c.append('dsrA')\n",
    "    if gene in rpra_genes:\n",
    "        c.append('rprA')\n",
    "    res.append(','.join(c))\n",
    "    \n",
    "d = {'genes': list(genes), 'sRNA': res}\n"
   ]
  },
  {
   "cell_type": "code",
   "execution_count": 24,
   "metadata": {
    "collapsed": false
   },
   "outputs": [],
   "source": [
    "df = pd.DataFrame.from_dict(d)\n",
    "df.to_csv(''../results/s1_s2_intersect.sRNA.csv')"
   ]
  },
  {
   "cell_type": "code",
   "execution_count": null,
   "metadata": {
    "collapsed": true
   },
   "outputs": [],
   "source": []
  }
 ],
 "metadata": {
  "kernelspec": {
   "display_name": "Python 3",
   "language": "python",
   "name": "python3"
  },
  "language_info": {
   "codemirror_mode": {
    "name": "ipython",
    "version": 3
   },
   "file_extension": ".py",
   "mimetype": "text/x-python",
   "name": "python",
   "nbconvert_exporter": "python",
   "pygments_lexer": "ipython3",
   "version": "3.5.2"
  },
  "widgets": {
   "state": {},
   "version": "1.1.1"
  }
 },
 "nbformat": 4,
 "nbformat_minor": 0
}
