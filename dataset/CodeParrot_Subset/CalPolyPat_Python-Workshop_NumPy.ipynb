{
 "cells": [
  {
   "cell_type": "markdown",
   "metadata": {},
   "source": [
    "##NumPy\n",
    "NumPy is a **library** with various math and numerical functions. A **library** is a bunch of functions that someone else wrote and you would like to use. To use these functions, you must first import them. It is typically good practice to place all imports in the first cell."
   ]
  },
  {
   "cell_type": "code",
   "execution_count": 1,
   "metadata": {
    "collapsed": true
   },
   "outputs": [],
   "source": [
    "import numpy as np"
   ]
  },
  {
   "cell_type": "markdown",
   "metadata": {},
   "source": [
    "The line above tells the computer to make the functions available and nickname the master object np. To call a function from the master object, we use the syntax np.function(). To find out what functions numpy has for you to use, go to their documentation at https://docs.scipy.org/doc/numpy-dev/user/quickstart.html. Learning to use documentation and proper googling is a very important tool for any programmer. We will cover some effective googling techniques and how to find and use documentation later. "
   ]
  },
  {
   "cell_type": "markdown",
   "metadata": {},
   "source": [
    "The main thing that numpy gives us are arrays. They are more flexible than lists and have better functionality as we will see. To create a new array we have a couple of methods:\n",
    "\n",
    "    #First make a list and then copy it into a new array\n",
    "    list = [1,2,3,4]\n",
    "    array = np.array(list) # This tells the computer to make a copy of list and turn it into an array\n",
    "    \n",
    "    #Use one of NumPy's special array types\n",
    "    \n",
    "    arrayofZeros = np.zeros((x-dim, y-dim, etc...)) #creates an x by y by etc. array of all zeros\n",
    "    \n",
    "    arrayofOnes = np.ones((x-dim, y-dim, etc...)) #creates an x by y by etc. array of all ones \n",
    "    \n",
    "    emptyArray = np.empty((x-dim, y-dim, etc...)) #creates an x by y by etc. array of whatever happened to be in memory at the time of instantiation.\n",
    "    \n",
    "    rangeArray = np.arange(start, stop, step) # Works just like range() starting at **start** and ending at **stop** return values in step size of **step**\n",
    "    \n",
    "    linearspaceArray = np.linspace(start, stop, # of vals) # Creates a linear spaced array between start and stop with a # of vals in the array.\n",
    "   \n",
    "    diagonalArray = np.diagflat(#input list, set, array, etc. goes here) #creates a 2-d matrix with the input list, set, array, etc. as the main diagonal.\n",
    "    \n",
    "NumPy arrays act a little differently than lists and other containers. The first major difference between arrays and other containers is that arrays may only contain one type of thing. That is to say, we may no longer be sloppy about placing an int and a string in the same array. Further, NumPy arrays treat operators differently than other containers. Operations are carried out only between arrays of the same size and are computed elementwise. For example, the sum of two 3 by 1 arrays(could be vectors in $\\!R^3$) would be the sum of the 1st, 2nd, and 3rd components added individually. Let's solidify these ideas with some examples."
   ]
  },
  {
   "cell_type": "code",
   "execution_count": 2,
   "metadata": {
    "collapsed": false
   },
   "outputs": [
    {
     "name": "stdout",
     "output_type": "stream",
     "text": [
      "Just an Array: \n",
      " [ 0  1  2 34  5]\n",
      "An Array of Zeros: \n",
      " [[ 0.  0.  0.]\n",
      " [ 0.  0.  0.]]\n",
      "An Array of Ones: \n",
      " [ 1.  1.]\n",
      "A Clever Way to Build an Array: \n",
      " [[ 3.14159265  3.14159265  3.14159265]\n",
      " [ 3.14159265  3.14159265  3.14159265]\n",
      " [ 3.14159265  3.14159265  3.14159265]\n",
      " [ 3.14159265  3.14159265  3.14159265]]\n",
      "A Bunch of Random Junk: \n",
      " [[  4.94065646e-324   9.88131292e-324]\n",
      " [  1.67982320e-322   2.47032823e-323]]\n",
      "A Range of Values: \n",
      " [ 0  3  6  9 12 15 18 21 24 27 30 33 36 39 42 45 48 51 54 57 60 63 66 69 72\n",
      " 75 78 81 84 87 90 93 96 99]\n",
      "A Linearly-Spaced Range of Values: \n",
      " [   0.       3.125    6.25     9.375   12.5     15.625   18.75    21.875\n",
      "   25.      28.125   31.25    34.375   37.5     40.625   43.75    46.875\n",
      "   50.      53.125   56.25    59.375   62.5     65.625   68.75    71.875\n",
      "   75.      78.125   81.25    84.375   87.5     90.625   93.75    96.875\n",
      "  100.   ]\n",
      "A Diagonal Array: \n",
      " [[  1.   0.   0.   0.   0.   0.   0.   0.   0.   0.]\n",
      " [  0.   2.   0.   0.   0.   0.   0.   0.   0.   0.]\n",
      " [  0.   0.   3.   0.   0.   0.   0.   0.   0.   0.]\n",
      " [  0.   0.   0.   4.   0.   0.   0.   0.   0.   0.]\n",
      " [  0.   0.   0.   0.   5.   0.   0.   0.   0.   0.]\n",
      " [  0.   0.   0.   0.   0.   6.   0.   0.   0.   0.]\n",
      " [  0.   0.   0.   0.   0.   0.   7.   0.   0.   0.]\n",
      " [  0.   0.   0.   0.   0.   0.   0.   8.   0.   0.]\n",
      " [  0.   0.   0.   0.   0.   0.   0.   0.   9.   0.]\n",
      " [  0.   0.   0.   0.   0.   0.   0.   0.   0.  10.]]\n"
     ]
    }
   ],
   "source": [
    "print(\"Just an Array: \\n\",np.array([0,1,2,34,5]))\n",
    "\n",
    "print(\"An Array of Zeros: \\n\",np.zeros((2,3)))\n",
    "\n",
    "print(\"An Array of Ones: \\n\",np.ones((2,)))\n",
    "\n",
    "print(\"A Clever Way to Build an Array: \\n\",np.pi*np.ones((4,3)))\n",
    "\n",
    "print(\"A Bunch of Random Junk: \\n\",np.empty((2,2)))\n",
    "\n",
    "print(\"A Range of Values: \\n\",np.arange(0,100, 3))\n",
    "\n",
    "print(\"A Linearly-Spaced Range of Values: \\n\",np.linspace(0,100, 33))\n",
    "\n",
    "print(\"A Diagonal Array: \\n\",np.diagflat(np.linspace(1,10,10)))"
   ]
  },
  {
   "cell_type": "code",
   "execution_count": 3,
   "metadata": {
    "collapsed": false
   },
   "outputs": [
    {
     "name": "stdout",
     "output_type": "stream",
     "text": [
      "First Array: \n",
      " [[1 2]\n",
      " [3 4]]\n",
      "Second Array: \n",
      " [[4 3]\n",
      " [2 1]]\n",
      "Sum:\n",
      " [[5 5]\n",
      " [5 5]]\n",
      "Product:\n",
      " [[4 6]\n",
      " [6 4]]\n",
      "Power:\n",
      " [[1 8]\n",
      " [9 4]]\n"
     ]
    }
   ],
   "source": [
    "#Let's check out some NumPy operations\n",
    "a = np.array([[1,2],[3,4]])\n",
    "print(\"First Array: \\n\",a)\n",
    "b = np.array([[4,3],[2,1]])\n",
    "print(\"Second Array: \\n\",b)\n",
    "print(\"Sum:\\n\",a+b)\n",
    "print(\"Product:\\n\",a*b)\n",
    "print(\"Power:\\n\",a**b)"
   ]
  },
  {
   "cell_type": "markdown",
   "metadata": {},
   "source": [
    "Now that we have seen how NumPy sees operations, let's practice a bit."
   ]
  },
  {
   "cell_type": "markdown",
   "metadata": {},
   "source": [
    "##Exercises\n",
    "1. Create at least 2 arrays with each different method.\n",
    "\n",
    "2. In the next cell are two arrays of measurements, you happen to know that their sum over their product squared is a quantity of interest, calculate this quantity for every pair of elements in the arrays.\n",
    "\n",
    "3. np.random.normal(mean, std, (x-dim, y-dim, etc...)) creates an x by y by etc... array of normally distributed random numbers with mean **mean**, and standard deviation **std**. Using this function, create an appropriatly sized array of random \"noise\" to multiply with the data from 2. Compute the interesting quantity with the \"noisy\" data.\n",
    "\n",
    "4. np.mean(#some array here) computes the mean value of all the elements of the array provided. Compute the average difference between your \"noisy\" interesting result from 3. and your original interesting result from 2. You have just modeled a system with simulated noise!"
   ]
  },
  {
   "cell_type": "code",
   "execution_count": 4,
   "metadata": {
    "collapsed": false
   },
   "outputs": [],
   "source": [
    "p = np.array([1,2,3,5,1,2,3,1,2,2,6,3,1,1,5,1,1,3,2,1])\n",
    "l = 100*np.array([-0.06878584, -0.13865453, -1.61421586,  1.02892411,  0.31529163, -0.06186747, -0.15273951,  1.67466332, -1.88215846,  0.67427142,  1.2747444,  -0.0391945, -0.81211282, -0.38412292, -1.01116052,  0.25611357,  0.3126883,   0.8011353,  0.64691918,  0.34564225])"
   ]
  },
  {
   "cell_type": "markdown",
   "metadata": {},
   "source": [
    "##Some Other Interesting NumPy Functions\n",
    "1. np.dot(array1, array2) #Computes the dot product of array1 and array2.\n",
    "2. np.cross(array1, array2) #Computes the cross product of array1 and array2.\n",
    "3. np.eye(size) #Creates a size by size identity matrix/array"
   ]
  },
  {
   "cell_type": "markdown",
   "metadata": {},
   "source": [
    "##NumPy Array Slicing\n",
    "NumPy slicing is only slightly different than list slicing. With NumPy arrays, to access a single element you perform the typical\n",
    "\n",
    "    array = np.array([1,2,3,4])\n",
    "    \n",
    "    array[index]\n",
    "    array[0] #Returns 1\n",
    "\n",
    "When you want to take a range of elements, you use the following syntax\n",
    "\n",
    "    array[start:stop+1]\n",
    "    array[1:3] #Returns [2,3]\n",
    "    \n",
    "Or if you would like to move in steps.\n",
    "\n",
    "    array[start:stop+1:step]\n",
    "    array[0:4:2] #Returns [1,3]"
   ]
  },
  {
   "cell_type": "code",
   "execution_count": 5,
   "metadata": {
    "collapsed": false
   },
   "outputs": [
    {
     "name": "stdout",
     "output_type": "stream",
     "text": [
      "1\n",
      "[2 3 4]\n",
      "[1 3]\n"
     ]
    }
   ],
   "source": [
    "array = np.array([1,2,3,4])\n",
    "print(array[0])\n",
    "print(array[1:4])\n",
    "print(array[0:4:2])"
   ]
  },
  {
   "cell_type": "markdown",
   "metadata": {},
   "source": [
    "##Masking\n",
    "Masking is a special type of slicing which uses boolean values to decide whether to show or hide the values in another array. A mask must be a boolean array of the same size as the original array. To apply a mask to an array, yous use the folllowing syntax:\n",
    "\n",
    "    mask = np.array([True, False])\n",
    "    array = np.array([25, 30])\n",
    "    array[mask] #Returns [25]\n",
    "    \n",
    "Let's check this masking action out"
   ]
  },
  {
   "cell_type": "code",
   "execution_count": 6,
   "metadata": {
    "collapsed": false
   },
   "outputs": [
    {
     "name": "stdout",
     "output_type": "stream",
     "text": [
      "[[ 5.          7.          3.          4.          5.          7.          1.        ]\n",
      " [-0.35375145 -0.89398603 -1.880961    1.63080288 -0.41551318  0.58896879\n",
      "  -1.2460269 ]]\n",
      "[[ True  True  True  True False False  True]\n",
      " [ True False False False False  True False]]\n"
     ]
    }
   ],
   "source": [
    "mask = np.array([[1,1,1,1,0,0,1],[1,0,0,0,0,1,0]], dtype=bool)\n",
    "#^^^This converts the ones and zeros into trues and falses because I'm lazy^^^\n",
    "array = np.array([[5,7,3,4,5,7,1],np.random.randn(7)])\n",
    "print(array)\n",
    "print(mask)"
   ]
  },
  {
   "cell_type": "code",
   "execution_count": 7,
   "metadata": {
    "collapsed": false
   },
   "outputs": [
    {
     "name": "stdout",
     "output_type": "stream",
     "text": [
      "[ 5.          7.          3.          4.          1.         -0.35375145\n",
      "  0.58896879]\n"
     ]
    }
   ],
   "source": [
    "print(array[mask])"
   ]
  },
  {
   "cell_type": "markdown",
   "metadata": {},
   "source": [
    "Let's say that we have measured some quantity with a computer and generated a really long numpy array, like, really long. It just so happens that we are interested in how many of these numbers are greater than zero. We could try to make a mask with the methods used above, but the people who made masks gave us a tool to do it without ever making a mask.(That's what it does behind the scenes, but we'll just ignore that) I have the data in the next cell, let's check it out."
   ]
  },
  {
   "cell_type": "code",
   "execution_count": 8,
   "metadata": {
    "collapsed": false
   },
   "outputs": [
    {
     "data": {
      "text/plain": [
       "4976"
      ]
     },
     "execution_count": 8,
     "metadata": {},
     "output_type": "execute_result"
    }
   ],
   "source": [
    "data = np.random.normal(0,3,10000) #Wow, I made 10,000 measurements, wouldn't mastoridis be proud.\n",
    "\n",
    "data[data>0].size #This returns only the elements of data that are greater than 0"
   ]
  },
  {
   "cell_type": "markdown",
   "metadata": {},
   "source": [
    "This is a powerful tool that you should keep in the back of your head that can often greatly simplify problems."
   ]
  },
  {
   "cell_type": "markdown",
   "metadata": {},
   "source": [
    "##Universal Functions\n",
    "Universal functions are NumPy functions that help in applying functions to every element in an array. sin(), cos(), exp(), are all universal functions and when applied to an array, they take the sin(), cos(), or exp() of each element withing the array."
   ]
  },
  {
   "cell_type": "code",
   "execution_count": 10,
   "metadata": {
    "collapsed": false
   },
   "outputs": [
    {
     "data": {
      "text/plain": [
       "[<matplotlib.lines.Line2D at 0x7ff1f1dd25f8>]"
      ]
     },
     "execution_count": 10,
     "metadata": {},
     "output_type": "execute_result"
    },
    {
     "data": {
      "image/png": "[encoded data removed]",
      "text/plain": [
       "<matplotlib.figure.Figure at 0x7ff1f1e5c550>"
      ]
     },
     "metadata": {},
     "output_type": "display_data"
    }
   ],
   "source": [
    "import matplotlib.pyplot as plt\n",
    "%matplotlib inline\n",
    "x = np.linspace(0,2*np.pi,1000)\n",
    "y = np.sin(x)\n",
    "plt.subplot(211)\n",
    "plt.plot(x)\n",
    "plt.subplot(212)\n",
    "plt.plot(x,y)"
   ]
  },
  {
   "cell_type": "markdown",
   "metadata": {},
   "source": [
    "A list of all the universal functions is included at the end of this notebook."
   ]
  },
  {
   "cell_type": "markdown",
   "metadata": {},
   "source": [
    "##Exercises\n",
    "\n",
    "1. Create a couple of arrays of various type and size and play with them until you feel comfortable moving on.\n",
    "\n",
    "2. You know that a certain quantity can be calculated using the following formula:\n",
    "\n",
    "    f(x)=x^e^sin(x^2)-sin(x*ln(x))\n",
    "\n",
    "    Given that you measured x in the cell below, calculate f(x)\n",
    "\n",
    "3. Using the same x as above, write a function to transform on x. Then create a mask that will keep any value of the reuslting array whose value is greater than 2*$\\pi^2$"
   ]
  },
  {
   "cell_type": "code",
   "execution_count": 16,
   "metadata": {
    "collapsed": false
   },
   "outputs": [],
   "source": [
    "x = np.random.rand(1000)*np.linspace(0,10,1000)"
   ]
  },
  {
   "cell_type": "markdown",
   "metadata": {},
   "source": [
    "###Universal Functions\n",
    "| Function | Description |\n",
    "|:--------:|:-----------:|\n",
    "|add(a,b), +  |Addition|\n",
    "|subtract(a,b), - | Subtraction|\n",
    "|multiply(a,b), * | Multiplication|\n",
    "|divide(a,b), / | Division|\n",
    "|power(a,b), \\*\\*|Power|\n",
    "|mod(a,b), % |Modulo/Remainder|\n",
    "|abs(a) | Absolute Value|\n",
    "|sqrt(a) | Square Root|\n",
    "|conj(a) | Complex Conjugate|\n",
    "|exp(a) | Exponential|\n",
    "|log(a) | Natural Log|\n",
    "|log2(a) |Log base 2|\n",
    "|log10(a) |Log base 10|\n",
    "|sin(a) |Sine|\n",
    "|cos(a) |Cosine|\n",
    "|tan(a) | Tangent|\n",
    "|minimum(a,b) | Minimum|\n",
    "|maximum(a,b) | Maximum|\n",
    "|isreal(a) | Tests for zero complex component|\n",
    "|iscomplex(a) | Tests for zero real component|\n",
    "|isfinite(a) | Tests for finiteness|\n",
    "|isinf(a) | Tests for infiniteness|\n",
    "|isnan(a) | Tests for Not a Number|\n",
    "|floor(a) | Rounds down to next integer value|\n",
    "|ceil(a)  | Rounds up to next integer value|\n",
    "|trunc(a) | Truncate all noninteger bits|"
   ]
  },
  {
   "cell_type": "markdown",
   "metadata": {},
   "source": [
    "###Other Valuable NumPy Functions\n",
    "|Function | Description|\n",
    "|:-------:|:----------:|\n",
    "|sum(a) | Sums all elements of a|\n",
    "|prod(a) |Takes the product of all elements of a|\n",
    "|min(a) |Finds the minimum value in a|\n",
    "|max(a) |Finds the maximum value in a|\n",
    "|argmin(a) |Returns the index or location of the minimum value in a|\n",
    "|argmax(a) |Returns the index or location of the maximum value in a|\n",
    "|dot(a,b) |Takes the dot product of a and b|\n",
    "|cross(a,b) |Takes the cross product of a and b|\n",
    "|einsum(subs, arrs) |Takes the Einstein sum over subscripts and a list of arrays|\n",
    "|mean(a) | Computes the average value of all the elements in a|\n",
    "|median(a) | Finds the median value in a|\n",
    "|average(a, weights) |Computes the weighted average of a|\n",
    "|std(a) |Computes the standard deviation of a|\n",
    "|var(a) |Computes the variance of a|\n",
    "|unique(a) |Returns the unique elements of a in a sorted manner|\n",
    "|asarray(a, dtype) | Makes a copy of given array converting every element to type dtype|\n",
    "|atleast_1d(a) |Tests that the array is at least one-dimensional|\n",
    "|atleast_2d(a) |\"\"|\n",
    "|atleast_3d(a) |\"\"|\n",
    "|append(a,b) |Appends b to the end of a|\n",
    "|save(file, a) |Saves an array to a file|\n",
    "|load(file) |Loads an array saved as a file|"
   ]
  },
  {
   "cell_type": "markdown",
   "metadata": {},
   "source": [
    "##Challenge Exercise\n",
    "A prime number seive is an algorithm that will find prime numbers. Your challenge is to recreate the [Sieve of Eratosthenes](https://en.wikipedia.org/wiki/Sieve_of_Eratosthenes). Use all you learned about NumPy and loops and create a function that takes a max value, as in the sieve, and returns a list of primes. Good Luck!"
   ]
  },
  {
   "cell_type": "code",
   "execution_count": null,
   "metadata": {
    "collapsed": true
   },
   "outputs": [],
   "source": []
  }
 ],
 "metadata": {
  "kernelspec": {
   "display_name": "Python 3",
   "language": "python",
   "name": "python3"
  },
  "language_info": {
   "codemirror_mode": {
    "name": "ipython",
    "version": 3
   },
   "file_extension": ".py",
   "mimetype": "text/x-python",
   "name": "python",
   "nbconvert_exporter": "python",
   "pygments_lexer": "ipython3",
   "version": "3.4.0"
  }
 },
 "nbformat": 4,
 "nbformat_minor": 0
}
