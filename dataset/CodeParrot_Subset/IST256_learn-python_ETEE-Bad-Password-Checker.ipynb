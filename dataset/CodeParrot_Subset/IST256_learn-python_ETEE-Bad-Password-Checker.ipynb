{
 "cells": [
  {
   "cell_type": "markdown",
   "metadata": {},
   "source": [
    "# End-To-End Example: Bad Password Checker\n",
    "\n",
    "- Read in list of bad passwords from file `bad-passwords.txt`\n",
    "- Main program loop which:\n",
    "  - inputs a password \n",
    "  - checks whether the password  is \"good\" or \"bad\" by checking against the list\n",
    "  - repeats this until you enter no password. \n",
    "\n"
   ]
  },
  {
   "cell_type": "code",
   "execution_count": 1,
   "metadata": {},
   "outputs": [
    {
     "name": "stdout",
     "output_type": "stream",
     "text": [
      "  % Total    % Received % Xferd  Average Speed   Time    Time     Time  Current\n",
      "                                 Dload  Upload   Total   Spent    Left  Speed\n",
      "100   97k  100   97k    0     0   350k      0 --:--:-- --:--:-- --:--:--  350k\n"
     ]
    }
   ],
   "source": [
    "!curl https://raw.githubusercontent.com/mafudge/datasets/master/ist256/08-Lists/bad-passwords.txt -o bad-passwords.txt"
   ]
  },
  {
   "cell_type": "code",
   "execution_count": 2,
   "metadata": {},
   "outputs": [
    {
     "name": "stdout",
     "output_type": "stream",
     "text": [
      "Enter your password:········\n",
      "Don't use the password 12345!\n",
      "Enter your password:········\n",
      "Don't use the password qwerty!\n",
      "Enter your password:········\n",
      "Don't use the password zxcvb!\n",
      "Enter your password:········\n",
      "The Password sdahjfgkjfhagtrew seems ok!\n",
      "Passwords you tried: ['12345', 'qwerty', 'zxcvb']\n"
     ]
    }
   ],
   "source": [
    "from getpass import getpass\n",
    "\n",
    "def read_into_list(filename):\n",
    "    the_list = []\n",
    "    with open(filename,\"r\") as f:\n",
    "        for line in f:\n",
    "            the_item = line.strip()\n",
    "            the_list.append(the_item)\n",
    "        \n",
    "    return the_list\n",
    "\n",
    "\n",
    "passwords = read_into_list(\"bad-passwords.txt\")\n",
    "tried = []\n",
    "while True:\n",
    "    candidate = getpass(\"Enter your password:\")    \n",
    "    if passwords.count(candidate) > 0:\n",
    "        print(f\"Don't use the password {candidate}!\")\n",
    "        tried.append(candidate)\n",
    "    else:\n",
    "        print(f\"The Password {candidate} seems ok!\")\n",
    "        print(f\"Passwords you tried: {tried}\")\n",
    "        break"
   ]
  }
 ],
 "metadata": {
  "anaconda-cloud": {},
  "kernelspec": {
   "display_name": "Python 3",
   "language": "python",
   "name": "python3"
  },
  "language_info": {
   "codemirror_mode": {
    "name": "ipython",
    "version": 3
   },
   "file_extension": ".py",
   "mimetype": "text/x-python",
   "name": "python",
   "nbconvert_exporter": "python",
   "pygments_lexer": "ipython3",
   "version": "3.8.6"
  }
 },
 "nbformat": 4,
 "nbformat_minor": 1
}
