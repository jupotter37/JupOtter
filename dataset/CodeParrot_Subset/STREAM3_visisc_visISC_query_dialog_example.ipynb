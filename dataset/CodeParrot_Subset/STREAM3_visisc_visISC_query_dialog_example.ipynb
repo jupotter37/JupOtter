{
 "cells": [
  {
   "cell_type": "markdown",
   "metadata": {},
   "source": [
    "# visISC Example: Interactive Query Dialog with Visualization\n",
    "\n",
    "In this example, we will show ho you can use the GUI component EventSelectionDialog tother with EventSelectionQuery for letting the use select which events to visualize. We start by creating a data set similar to the previous example on <a href=\"visISC_hierachical_frequency_data_example.ipynb\">Visualizing Anomalous Frequency Data with Hierarchical Data</a> but that also includes source classes (for instance, machine types). So, the data set becomes quite large and thereby we need to be able to select a subset of the data that we are most interested in comparing. "
   ]
  },
  {
   "cell_type": "code",
   "execution_count": null,
   "metadata": {
    "collapsed": true
   },
   "outputs": [],
   "source": [
    "import pyisc;\n",
    "import visisc;\n",
    "import numpy as np\n",
    "import datetime\n",
    "from scipy.stats import poisson, norm, multivariate_normal\n",
    "%matplotlib wx\n",
    "%gui wx\n",
    "\n",
    "n_sources = 10\n",
    "n_source_classes = 10\n",
    "n_events = 100\n",
    "num_of_normal_days = 200\n",
    "num_of_anomalous_days = 10\n",
    "data = None\n",
    "days_list = [num_of_normal_days, num_of_anomalous_days]\n",
    "dates = []\n",
    "for state in [0,1]: # normal, anomalous data\n",
    "    num_of_days = days_list[state]\n",
    "    for k in range(n_source_classes):\n",
    "        for i in range(n_sources):\n",
    "            data0 = None\n",
    "            for j in range(n_events):\n",
    "                if state == 0:# Normal\n",
    "                    po_dist = poisson(int((10+2*(n_source_classes-k))*(float(j)/n_events/2+0.75))) # from 0.75 to 1.25\n",
    "                else: # anomalous\n",
    "                    po_dist = poisson(int((20+2*(n_source_classes-k))*(float(j)/n_events+0.5))) # from 0.5 to 1.5\n",
    "\n",
    "                tmp = po_dist.rvs(num_of_days)\n",
    "                if data0 is None:\n",
    "                    data0 = tmp\n",
    "                else:\n",
    "                    data0 = np.c_[data0,tmp]\n",
    "\n",
    "            tmp =  np.c_[\n",
    "                        [k*n_sources+i] * (num_of_days), # Sources\n",
    "                        [k] * (num_of_days), # Source classes\n",
    "                        [ # Timestamp\n",
    "                            datetime.date(2015,02,24) + datetime.timedelta(d) \n",
    "                            for d in np.array(range(num_of_days)) + (0 if state==0 else num_of_normal_days)\n",
    "                        ], \n",
    "                        [1] * (num_of_days), # Measurement period\n",
    "                        data0, # Event frequency counts\n",
    "\n",
    "                        ]\n",
    "\n",
    "            if data is None:\n",
    "                data = tmp\n",
    "            else:\n",
    "                data = np.r_[\n",
    "                    tmp,\n",
    "                    data\n",
    "                ]\n",
    "\n",
    "# Column index into the data\n",
    "source_column = 0\n",
    "class_column = 1\n",
    "date_column = 2\n",
    "period_column = 3\n",
    "first_event_column = 4\n",
    "last_event_column = first_event_column + n_events"
   ]
  },
  {
   "cell_type": "markdown",
   "metadata": {},
   "source": [
    "Likewise, as before we need to create an event parth function and a severity level function."
   ]
  },
  {
   "cell_type": "code",
   "execution_count": null,
   "metadata": {
    "collapsed": true
   },
   "outputs": [],
   "source": [
    "event_names = [\"event_%i\"%i for i in range(n_events)]\n",
    "\n",
    "def event_path(x): # Returns a list of strings with 3 elements\n",
    "    return [\"Type_%i\"%(x/N) for N in [50, 10]]+[event_names[x]]\n",
    "\n",
    "def severity_level(x): # returns 3 different severity levels: 0, 1, 2\n",
    "    return x-(x/3)*3"
   ]
  },
  {
   "cell_type": "markdown",
   "metadata": {},
   "source": [
    "Next, we need to make an subclass or an instance of the visisc.EventSelectionQuery. This class uses the <a href=\"http://docs.enthought.com/traits\">Traits</a> library which is also used by <a href=\"http://docs.enthought.com/mayavi/mayavi/\">Mayavi</a>, the 3D visualization library that we use for visualizing the data. In the initialization of an instance, we need to set four Trait lists:\n",
    "list_of_source_ids, list_of_source_classes, list_of_event_names, list_of_event_severity_levels. In addition to that, we need to set period_start_date and period_end_date. In the current version, we also need to programatically set selected_list_of_source_ids. We need also implement the execute_query method similarly to as shown below. The execute_query can access the users selection from selected_list_of_source_ids, selected_list_of_source_classes, selected_list_of_event_names, and selected_list_of_event_severity_levels."
   ]
  },
  {
   "cell_type": "code",
   "execution_count": null,
   "metadata": {
    "collapsed": true
   },
   "outputs": [],
   "source": [
    "class MySelectionQuery(visisc.EventSelectionQuery):\n",
    "    def __init__(self):\n",
    "        self.list_of_source_ids = [i for i in range(n_sources*n_classes)]\n",
    "        # Below: a list of pairs with id and name, where the name is shown in the GUI while the id is put into teh selection. \n",
    "        self.list_of_source_classes = [(i, \"class_%i\"%i) for i in range(n_source_classes)] \n",
    "        self.list_of_event_names = event_names\n",
    "        # Below: a list of pairs with id and name, where the name is shown in the GUI while the id is put into teh selection. \n",
    "        self.list_of_event_severity_levels = [(i, \"Level %i\"%i) for i in range(3)] \n",
    "        self.period_start_date = data.T[date_column].min()\n",
    "        self.period_end_date = data.T[date_column].max()\n",
    "    \n",
    "    def execute_query(self):\n",
    "        query = self\n",
    "        query.selected_list_of_source_ids = query.list_of_source_ids\n",
    "\n",
    "        data_query = np.array(\n",
    "            [\n",
    "            data[i] for i in range(len(data)) if \n",
    "                data[i][source_column] in query.selected_list_of_source_ids and\n",
    "                data[i][class_column] in query.selected_list_of_source_classes and\n",
    "                data[i][date_column] >= query.period_start_date and\n",
    "                data[i][date_column] <= query.period_end_date\n",
    "            ]\n",
    "        )\n",
    "\n",
    "        event_columns = [first_event_column+event_names.index(e) for e in query.selected_list_of_event_names\n",
    "             if severity_level(first_event_column+event_names.index(e)) in query.selected_list_of_event_severity_levels]\n",
    "\n",
    "        model = visisc.EventDataModel.hierarchical_model(\n",
    "            event_columns=event_columns,\n",
    "            get_event_path = event_path,\n",
    "            get_severity_level = severity_level,\n",
    "            num_of_severity_levels=3\n",
    "        )\n",
    "\n",
    "        data_object = model.data_object(\n",
    "            data_query,\n",
    "            source_column = source_column,\n",
    "            class_column = class_column,\n",
    "            period_column=period_column,\n",
    "            date_column=date_column\n",
    "        )\n",
    "\n",
    "        anomaly_detector = model.fit_anomaly_detector(data_object,poisson_onesided=True)\n",
    "\n",
    "        vis = visisc.EventVisualization(model, 13.8,\n",
    "                                 start_day=query.period_end_date,# yes confusing, start day in the EventVisualization is backward looking\n",
    "                                 precompute_cache=True) # Precompute all anomaly calculation in order to speed up visualization."
   ]
  },
  {
   "cell_type": "markdown",
   "metadata": {},
   "source": [
    "Given that we have the query class, we can now create and open a query selection dialog where it is possible to customize the labels for source classes and the severity levels."
   ]
  },
  {
   "cell_type": "code",
   "execution_count": null,
   "metadata": {
    "collapsed": true
   },
   "outputs": [],
   "source": [
    "query = MySelectionQuery()\n",
    "\n",
    "dialog = visisc.EventSelectionDialog(\n",
    "    query,\n",
    "    source_class_label=\"Select Machine Types\",\n",
    "    severity_level_label=\"Select Event Severity Types\"\n",
    ")"
   ]
  },
  {
   "cell_type": "markdown",
   "metadata": {},
   "source": [
    "For opening the window, we can the call. However, simarly to previous visualization examples, we have to run it outside the Jupyter notebook by calling ipython directly."
   ]
  },
  {
   "cell_type": "markdown",
   "metadata": {},
   "source": [
    "dialog.configure_traits()"
   ]
  },
  {
   "cell_type": "code",
   "execution_count": null,
   "metadata": {
    "collapsed": false
   },
   "outputs": [],
   "source": [
    "!ipython --matplotlib=wx --gui=wx -i visISC_query_dialog_example.py"
   ]
  },
  {
   "cell_type": "markdown",
   "metadata": {},
   "source": [
    "The result from running the above statement will look similar to what is shown below.<br/>\n",
    "<img width=\"75%\" src=\"query_selection_dialog_1.png\"/><br/>\n",
    "By selecting severity level 0 and class 0, and then, press the run query button, we will see a similar window as in previous examples:<br/>\n",
    "<img width=\"75%\" src=\"query_selection_dialog_2.png\"/><br/>"
   ]
  },
  {
   "cell_type": "markdown",
   "metadata": {},
   "source": [
    "In addition, we can also select which events we want to visualize by typing search engine like queries using:<br/>\n",
    "Allowed charachters: alphanumeric and '_'and '.'<br/>\n",
    "Space indicate OR-separated queries<br/>\n",
    "'?' = matches any character<br/>\n",
    "'*' = matches any number of characters<br/>\n",
    "'^' = matches beginning of event name<br/>\n",
    "'\\$' = matches end of event name<br/>\n",
    "<img width=\"75%\" src=\"query_selection_dialog_3.png\"/><br/>"
   ]
  },
  {
   "cell_type": "markdown",
   "metadata": {},
   "source": [
    "In the example above, the query \"1\\$ 2\\$\" matches all event names ending with 1 or 2."
   ]
  },
  {
   "cell_type": "code",
   "execution_count": null,
   "metadata": {
    "collapsed": true
   },
   "outputs": [],
   "source": []
  }
 ],
 "metadata": {
  "kernelspec": {
   "display_name": "Python 2",
   "language": "python",
   "name": "python2"
  },
  "language_info": {
   "codemirror_mode": {
    "name": "ipython",
    "version": 2
   },
   "file_extension": ".py",
   "mimetype": "text/x-python",
   "name": "python",
   "nbconvert_exporter": "python",
   "pygments_lexer": "ipython2",
   "version": "2.7.12"
  }
 },
 "nbformat": 4,
 "nbformat_minor": 0
}
