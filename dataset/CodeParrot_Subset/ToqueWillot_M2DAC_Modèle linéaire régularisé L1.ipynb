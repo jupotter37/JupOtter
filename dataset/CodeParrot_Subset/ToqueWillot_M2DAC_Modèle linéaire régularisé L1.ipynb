{
 "cells": [
  {
   "cell_type": "markdown",
   "metadata": {},
   "source": [
    "## FDMS TME2\n",
    "Florian Toque & Paul Willot\n"
   ]
  },
  {
   "cell_type": "code",
   "execution_count": 1,
   "metadata": {
    "collapsed": false
   },
   "outputs": [],
   "source": [
    "%matplotlib inline\n",
    "import sklearn\n",
    "import matplotlib.pyplot as plt\n",
    "import seaborn as sns\n",
    "import numpy as np\n",
    "import random\n",
    "\n",
    "from sklearn.datasets import fetch_mldata\n",
    "from sklearn import cross_validation\n",
    "from sklearn import base\n",
    "#mnist = fetch_mldata('iris')\n",
    "\n",
    "import matplotlib.pyplot as plt\n"
   ]
  },
  {
   "cell_type": "code",
   "execution_count": 191,
   "metadata": {
    "collapsed": false
   },
   "outputs": [],
   "source": [
    "ds = sklearn.datasets.make_classification(n_samples=1000,\n",
    "                                          n_features=20,\n",
    "                                          n_informative=10,\n",
    "                                          n_redundant=5,\n",
    "                                          n_repeated=2,\n",
    "                                          n_classes=2,\n",
    "                                          n_clusters_per_class=2,\n",
    "                                          weights=None,\n",
    "                                          flip_y=0.01,\n",
    "                                          class_sep=1.0,\n",
    "                                          hypercube=True,\n",
    "                                          shift=0.0,\n",
    "                                          scale=1.0,\n",
    "                                          shuffle=True,\n",
    "                                          random_state=None)\n",
    "X= ds[0]\n",
    "y= ds[1]"
   ]
  },
  {
   "cell_type": "code",
   "execution_count": 91,
   "metadata": {
    "collapsed": true
   },
   "outputs": [],
   "source": [
    "mnist = fetch_mldata('iris')\n",
    "\n",
    "X= mnist.data\n",
    "y= mnist.target\n",
    "\n",
    "for idx,i in enumerate(y):\n",
    "    if (i==2) or (i==3):\n",
    "        y[idx]=-1"
   ]
  },
  {
   "cell_type": "code",
   "execution_count": 192,
   "metadata": {
    "collapsed": false
   },
   "outputs": [
    {
     "name": "stdout",
     "output_type": "stream",
     "text": [
      "[-0.30134275  4.48965222 -0.45212721  2.86652643  1.08376722  3.12443608\n",
      "  1.48065915 -1.1379765   0.92573125  0.69962513  2.80682152  1.46842328\n",
      " -3.37984414 -3.37984414  1.84762307  0.36497919  1.99927759 -0.63767391\n",
      "  2.80682152  2.09540991]\n",
      "-1\n"
     ]
    }
   ],
   "source": [
    "# labels: [0,1] -> [-1,1]\n",
    "for idx,i in enumerate(y):\n",
    "    if (i==0):\n",
    "        y[idx]=-1\n",
    "\n",
    "print(X[0])\n",
    "print(y[0])"
   ]
  },
  {
   "cell_type": "code",
   "execution_count": 193,
   "metadata": {
    "collapsed": true
   },
   "outputs": [],
   "source": [
    "class SimpleGradientDescent:\n",
    "    def __init__(self,theta,eps=0.01):\n",
    "        self.theta=theta\n",
    "        self.eps=eps\n",
    "        \n",
    "    def fit(self,X,y,nbIt=10000,printevery=1000):\n",
    "        l=len(X)\n",
    "        xTrans = X.transpose()\n",
    "        for i in xrange(0,nbIt):\n",
    "            hypothesis = np.dot(X, self.theta)\n",
    "            loss = hypothesis - y\n",
    "            cost = np.sum(loss ** 2) / (2 * l)\n",
    "            if i%printevery==0:\n",
    "                print(\"Iteration %s | Cost: %f\" % (str(i).ljust(6), cost))\n",
    "            gradient = np.dot(xTrans, loss) / l\n",
    "            self.theta = self.theta - self.eps * gradient\n",
    "    def predict(self,x):\n",
    "        #print(\"Product: %f\"%(np.dot(x,self.theta)))\n",
    "        return 1 if np.dot(x,self.theta)>0 else -1\n",
    "    def score(self,X,y):\n",
    "        cpt=0.0\n",
    "        for idx,i in enumerate(X):\n",
    "            cpt += 1 if self.predict(i)==y[idx] else 0\n",
    "        print(cpt,len(X))\n",
    "        return cpt/len(X)"
   ]
  },
  {
   "cell_type": "raw",
   "metadata": {},
   "source": [
    "### Pseudo-code descente de gradient L1\n",
    "\n",
    "procedureGradientL1(θ,X,Y,I;ε)\n",
    "    for it = 1, I do\n",
    "    \n",
    "        for i = 1, n do\n",
    "            idx ← random(l)\n",
    "            θ′ ← θ − ε∇θ L(θ)(idx)\n",
    "            for j=1,n do\n",
    "                if θj′ ∗ θj < 0 then\n",
    "                    θj ← 0\n",
    "                else\n",
    "                    θ j ← θ j′\n",
    "                end if\n",
    "            end for\n",
    "        end for\n",
    "        Afficher L(θ) et accuracy(θ) pour controle\n",
    "        \n",
    "    end for\n",
    "    return θ \n",
    "end procedure\n",
    "\n",
    "L(θ) = 1/l * somme de 1 a l:( yi − fθ(xi))2 + λC(θ) )"
   ]
  },
  {
   "cell_type": "markdown",
   "metadata": {},
   "source": [
    "---\n",
    "### L1"
   ]
  },
  {
   "cell_type": "code",
   "execution_count": 226,
   "metadata": {
    "collapsed": false
   },
   "outputs": [],
   "source": [
    "class GradientDescent(base.BaseEstimator):\n",
    "    def __init__(self,theta,lamb,eps):\n",
    "        self.theta=theta\n",
    "        self.eps=eps\n",
    "        self.lamb=lamb\n",
    "\n",
    "    def fit(self,X,y,nbIt=1000,printevery=-1):\n",
    "        l=len(X)\n",
    "        xTrans = X.transpose()\n",
    "        \n",
    "        for i in xrange(0,nbIt):\n",
    "            index = np.random.randint(l)\n",
    "            loss = np.dot(X, self.theta) - y\n",
    "            #cost = np.sum(loss ** 2) / (2 * l) + (self.lamb*np.linalg.norm(self.theta))\n",
    "            \n",
    "            \n",
    "            cost = np.sum(loss ** 2) * (1 / l) + (self.lamb*np.linalg.norm(self.theta))\n",
    "            gradient = np.dot(xTrans,(np.dot(theta,xTrans)-y))+np.sign(theta)*self.lamb\n",
    "            thetaprime = self.theta - self.eps * gradient\n",
    "            \n",
    "            for k in xrange(0,len(theta)):\n",
    "                theta[k] = 0 if thetaprime[k]*theta[k]<0 else thetaprime[k]\n",
    "\n",
    "            if printevery!=-1 and i%printevery==0:\n",
    "                    print(\"Iteration %s | Cost: %f | Score: %.03f\" % (str(i).ljust(6), cost,self.score(X,y)))\n",
    "                    print(\"%d features used\"%(self.nb_used_features()))\n",
    "                \n",
    "    def predict(self,x):\n",
    "        #print(\"Product: %f\"%(np.dot(x,self.theta)))\n",
    "        ret=[]\n",
    "        for i in x:\n",
    "            ret.append(1 if np.dot(i,self.theta)>0 else -1)\n",
    "        return ret\n",
    "    \n",
    "    def score(self,X,y):\n",
    "        cpt=0.0\n",
    "        allpred = self.predict(X)\n",
    "        for idx,i in enumerate(allpred):\n",
    "            cpt += 1 if i==y[idx] else 0\n",
    "        #print(cpt,len(X))\n",
    "        return cpt/len(X)\n",
    "    \n",
    "    def nb_used_features(self):\n",
    "        cpt=len(self.theta)\n",
    "        for ii in self.theta:\n",
    "            if ii==0:\n",
    "                cpt-=1\n",
    "        return cpt"
   ]
  },
  {
   "cell_type": "code",
   "execution_count": 247,
   "metadata": {
    "collapsed": false
   },
   "outputs": [],
   "source": [
    "#theta = np.zeros(len(X[0]))\n",
    "theta = X[1]\n",
    "lamb=400\n",
    "eps=0.00001\n",
    "\n",
    "#gd = SimpleGradientDescent(theta,eps)\n",
    "gd = GradientDescent(theta,lamb,eps)"
   ]
  },
  {
   "cell_type": "code",
   "execution_count": 248,
   "metadata": {
    "collapsed": false
   },
   "outputs": [
    {
     "name": "stdout",
     "output_type": "stream",
     "text": [
      "Iteration 0      | Cost: 28.995022 | Score: 0.703\n",
      "12 features used\n",
      "Iteration 10000  | Cost: 28.168047 | Score: 0.709\n",
      "16 features used\n",
      "Iteration 20000  | Cost: 28.293302 | Score: 0.705\n",
      "16 features used\n",
      "Iteration 30000  | Cost: 28.140175 | Score: 0.698\n",
      "13 features used\n",
      "Iteration 40000  | Cost: 28.195999 | Score: 0.711\n",
      "16 features used\n",
      "Iteration 50000  | Cost: 28.316028 | Score: 0.704\n",
      "16 features used\n",
      "Iteration 60000  | Cost: 28.128271 | Score: 0.700\n",
      "13 features used\n",
      "Iteration 70000  | Cost: 28.164374 | Score: 0.709\n",
      "16 features used\n",
      "Iteration 80000  | Cost: 28.323631 | Score: 0.705\n",
      "15 features used\n",
      "Iteration 90000  | Cost: 28.163377 | Score: 0.701\n",
      "13 features used\n"
     ]
    }
   ],
   "source": [
    "nbIterations = 100000\n",
    "gd.fit(X,y,nbIterations,printevery=nbIterations/10)"
   ]
  },
  {
   "cell_type": "code",
   "execution_count": 246,
   "metadata": {
    "collapsed": false
   },
   "outputs": [
    {
     "data": {
      "text/plain": [
       "0.703"
      ]
     },
     "execution_count": 246,
     "metadata": {},
     "output_type": "execute_result"
    }
   ],
   "source": [
    "gd.score(X,y)"
   ]
  },
  {
   "cell_type": "code",
   "execution_count": 11,
   "metadata": {
    "collapsed": false
   },
   "outputs": [
    {
     "name": "stdout",
     "output_type": "stream",
     "text": [
      "Cross validation scores: [ 0.8   0.85  0.85  0.9   0.8 ], mean: 0.84\n"
     ]
    }
   ],
   "source": [
    "scoresSvm = cross_validation.cross_val_score(gd, X, y, cv=5,scoring=\"accuracy\")\n",
    "print(\"Cross validation scores: %s, mean: %.02f\"%(scoresSvm,np.mean(scoresSvm)))"
   ]
  },
  {
   "cell_type": "code",
   "execution_count": 279,
   "metadata": {
    "collapsed": false
   },
   "outputs": [
    {
     "name": "stdout",
     "output_type": "stream",
     "text": [
      "Lamda: 0.00 | Cross val mean: 0.74 | Features: 20\n",
      "Lamda: 50.00 | Cross val mean: 0.74 | Features: 16\n",
      "Lamda: 100.00 | Cross val mean: 0.75 | Features: 14\n",
      "Lamda: 150.00 | Cross val mean: 0.74 | Features: 13\n",
      "Lamda: 200.00 | Cross val mean: 0.74 | Features: 11\n",
      "Lamda: 250.00 | Cross val mean: 0.73 | Features: 12\n",
      "Lamda: 300.00 | Cross val mean: 0.71 | Features: 13\n",
      "Lamda: 350.00 | Cross val mean: 0.70 | Features: 10\n",
      "Lamda: 400.00 | Cross val mean: 0.70 | Features: 8\n",
      "Lamda: 450.00 | Cross val mean: 0.71 | Features: 10\n",
      "Lamda: 500.00 | Cross val mean: 0.70 | Features: 12\n",
      "Lamda: 550.00 | Cross val mean: 0.71 | Features: 13\n",
      "Lamda: 600.00 | Cross val mean: 0.71 | Features: 9\n",
      "Lamda: 650.00 | Cross val mean: 0.71 | Features: 9\n",
      "Lamda: 700.00 | Cross val mean: 0.70 | Features: 10\n",
      "Lamda: 750.00 | Cross val mean: 0.70 | Features: 7\n",
      "Lamda: 800.00 | Cross val mean: 0.69 | Features: 6\n",
      "Lamda: 850.00 | Cross val mean: 0.70 | Features: 4\n",
      "Lamda: 900.00 | Cross val mean: 0.70 | Features: 5\n",
      "Lamda: 950.00 | Cross val mean: 0.68 | Features: 2\n"
     ]
    }
   ],
   "source": [
    "eps=0.00001\n",
    "la = []\n",
    "cross_sc = []\n",
    "used_features = []\n",
    "\n",
    "for lamb in np.arange(0,1000,50):\n",
    "    theta = np.zeros(len(X[0]))\n",
    "    gd = GradientDescent(theta,lamb,eps)\n",
    "    nbIterations = 5000\n",
    "    gd.fit(X,y,nbIterations)\n",
    "    scoresSvm = cross_validation.cross_val_score(gd, X, y, cv=5,scoring=\"accuracy\")\n",
    "    print(\"Lamda: %.02f | Cross val mean: %.02f | Features: %d\"%(lamb,np.mean(scoresSvm),gd.nb_used_features()))\n",
    "    cross_sc.append(np.mean(scoresSvm))\n",
    "    la.append(lamb)\n",
    "    used_features.append(gd.nb_used_features())"
   ]
  },
  {
   "cell_type": "code",
   "execution_count": 280,
   "metadata": {
    "collapsed": false
   },
   "outputs": [
    {
     "data": {
      "image/png": "[encoded data removed]",
      "text/plain": [
       "<matplotlib.figure.Figure at 0x1044fe750>"
      ]
     },
     "metadata": {},
     "output_type": "display_data"
    }
   ],
   "source": [
    "fig, ax1 = plt.subplots()\n",
    "\n",
    "ax2 = ax1.twinx()\n",
    "ax1.plot(la, cross_sc, '#6DC433')\n",
    "ax2.plot(la, used_features, '#5AC8ED')\n",
    "\n",
    "ax1.set_xlabel('lambda')\n",
    "ax1.set_ylabel('Cross val score', color='#6DC433')\n",
    "ax2.set_ylabel('Nb features used', color='#5AC8ED')\n",
    "\n",
    "ax1.yaxis.grid(False)\n",
    "ax2.grid(False)\n",
    "plt.show()"
   ]
  },
  {
   "cell_type": "markdown",
   "metadata": {},
   "source": [
    "---\n",
    "### L2"
   ]
  },
  {
   "cell_type": "code",
   "execution_count": 12,
   "metadata": {
    "collapsed": true
   },
   "outputs": [],
   "source": [
    "class GradientDescentL2(base.BaseEstimator):\n",
    "    def __init__(self,theta,lamb,eps):\n",
    "        self.theta=theta\n",
    "        self.eps=eps\n",
    "        self.lamb=lamb\n",
    "\n",
    "    def fit(self,X,y,nbIt=1000,printevery=-1):\n",
    "        l=len(X)\n",
    "        xTrans = X.transpose()\n",
    "        \n",
    "        for i in xrange(0,nbIt):\n",
    "            index = np.random.randint(l)\n",
    "            loss = np.dot(X, self.theta) - y\n",
    "            cost = np.sum(loss ** 2) / (2 * l) + (self.lamb*(np.linalg.norm(-self.theta)**2))\n",
    "            gradient = np.dot(xTrans,(np.dot(theta,xTrans)-y))+np.sign(theta)*self.lamb\n",
    "            thetaprime = self.theta - self.eps * gradient\n",
    "            \n",
    "            for k in xrange(0,len(theta)):\n",
    "                theta[k] = 0 if thetaprime[k]*theta[k]<0 else thetaprime[k]\n",
    "\n",
    "            if printevery!=-1 and i%printevery==0:\n",
    "                    print(\"Iteration %s | Cost: %f\" % (str(i).ljust(6), cost))\n",
    "                \n",
    "    def predict(self,x):\n",
    "        #print(\"Product: %f\"%(np.dot(x,self.theta)))\n",
    "        ret=[]\n",
    "        for i in x:\n",
    "            ret.append(1 if np.dot(i,self.theta)>0 else -1)\n",
    "        return ret\n",
    "    \n",
    "    def score(self,X,y):\n",
    "        cpt=0.0\n",
    "        allpred = self.predict(X)\n",
    "        for idx,i in enumerate(allpred):\n",
    "            cpt += 1 if i==y[idx] else 0\n",
    "        print(cpt,len(X))\n",
    "        return cpt/len(X)"
   ]
  },
  {
   "cell_type": "code",
   "execution_count": 13,
   "metadata": {
    "collapsed": false
   },
   "outputs": [
    {
     "name": "stdout",
     "output_type": "stream",
     "text": [
      "Iteration 0      | Cost: 0.500000\n",
      "Iteration 2000   | Cost: 0.190335\n",
      "Iteration 4000   | Cost: 0.189843\n",
      "Iteration 6000   | Cost: 0.190266\n",
      "Iteration 8000   | Cost: 0.190468\n",
      "Iteration 10000  | Cost: 0.190555\n",
      "Iteration 12000  | Cost: 0.190593\n",
      "Iteration 14000  | Cost: 0.190609\n",
      "Iteration 16000  | Cost: 0.190617\n",
      "Iteration 18000  | Cost: 0.190620\n",
      "(93.0, 100)\n",
      "Score: 0.93\n",
      "Cross validation scores: [ 1.    0.85  0.95  0.9   0.95], mean: 0.93\n"
     ]
    }
   ],
   "source": [
    "theta = np.zeros(len(X[0]))\n",
    "lamb=0.05\n",
    "eps=0.00001\n",
    "gd = GradientDescentL2(theta,lamb,eps)\n",
    "\n",
    "nbIterations = 20000\n",
    "gd.fit(X,y,nbIterations,printevery=nbIterations/10)\n",
    "\n",
    "print(\"Score: %s\"%gd.score(X,y))\n",
    "\n",
    "scoresSvm = cross_validation.cross_val_score(gd, X, y, cv=5,scoring=\"accuracy\")\n",
    "print(\"Cross validation scores: %s, mean: %.02f\"%(scoresSvm,np.mean(scoresSvm)))"
   ]
  },
  {
   "cell_type": "code",
   "execution_count": 14,
   "metadata": {
    "collapsed": false
   },
   "outputs": [
    {
     "name": "stdout",
     "output_type": "stream",
     "text": [
      "Lamda: 0.00, Cross val mean: 0.93\n",
      "Lamda: 0.50, Cross val mean: 0.93\n",
      "Lamda: 1.00, Cross val mean: 0.92\n",
      "Lamda: 1.50, Cross val mean: 0.91\n",
      "Lamda: 2.00, Cross val mean: 0.90\n",
      "Lamda: 2.50, Cross val mean: 0.89\n",
      "Lamda: 3.00, Cross val mean: 0.89\n",
      "Lamda: 3.50, Cross val mean: 0.89\n",
      "Lamda: 4.00, Cross val mean: 0.89\n",
      "Lamda: 4.50, Cross val mean: 0.89\n",
      "Lamda: 5.00, Cross val mean: 0.88\n",
      "Lamda: 5.50, Cross val mean: 0.88\n",
      "Lamda: 6.00, Cross val mean: 0.87\n",
      "Lamda: 6.50, Cross val mean: 0.86\n",
      "Lamda: 7.00, Cross val mean: 0.85\n",
      "Lamda: 7.50, Cross val mean: 0.85\n",
      "Lamda: 8.00, Cross val mean: 0.86\n",
      "Lamda: 8.50, Cross val mean: 0.86\n",
      "Lamda: 9.00, Cross val mean: 0.86\n",
      "Lamda: 9.50, Cross val mean: 0.86\n",
      "Lamda: 10.00, Cross val mean: 0.86\n",
      "Lamda: 10.50, Cross val mean: 0.86\n",
      "Lamda: 11.00, Cross val mean: 0.85\n",
      "Lamda: 11.50, Cross val mean: 0.85\n"
     ]
    }
   ],
   "source": [
    "eps=0.00001\n",
    "la = []\n",
    "cross_sc = []\n",
    "\n",
    "for lamb in np.arange(0,12,0.5):\n",
    "    theta = np.zeros(len(X[0]))\n",
    "    gd = GradientDescentL2(theta,lamb,eps)\n",
    "    nbIterations = 5000\n",
    "    gd.fit(X,y,nbIterations)\n",
    "    scoresSvm = cross_validation.cross_val_score(gd, X, y, cv=5,scoring=\"accuracy\")\n",
    "    print(\"Lamda: %.02f, Cross val mean: %.02f\"%(lamb,np.mean(scoresSvm)))\n",
    "    cross_sc.append(np.mean(scoresSvm))\n",
    "    la.append(lamb)"
   ]
  },
  {
   "cell_type": "code",
   "execution_count": 15,
   "metadata": {
    "collapsed": false
   },
   "outputs": [
    {
     "data": {
      "image/png": "[encoded data removed]",
      "text/plain": [
       "<matplotlib.figure.Figure at 0x113ca4c10>"
      ]
     },
     "metadata": {},
     "output_type": "display_data"
    }
   ],
   "source": [
    "import matplotlib.pyplot as plt\n",
    "plt.plot(la,cross_sc)\n",
    "plt.ylabel('Cross val score')\n",
    "plt.xlabel('lambda')\n",
    "plt.show()"
   ]
  },
  {
   "cell_type": "code",
   "execution_count": null,
   "metadata": {
    "collapsed": true
   },
   "outputs": [],
   "source": []
  }
 ],
 "metadata": {
  "kernelspec": {
   "display_name": "Python 2",
   "language": "python",
   "name": "python2"
  },
  "language_info": {
   "codemirror_mode": {
    "name": "ipython",
    "version": 2
   },
   "file_extension": ".py",
   "mimetype": "text/x-python",
   "name": "python",
   "nbconvert_exporter": "python",
   "pygments_lexer": "ipython2",
   "version": "2.7.10"
  }
 },
 "nbformat": 4,
 "nbformat_minor": 0
}
