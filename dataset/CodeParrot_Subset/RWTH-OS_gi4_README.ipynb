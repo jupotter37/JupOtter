{
 "cells": [
  {
   "cell_type": "markdown",
   "metadata": {},
   "source": [
    "# Foundations of Computer Science 4\n",
    "\n",
    "This repository contains example code for the course [\"Foundations of Computer Science 4\"](http://www.gi4.rwth-aachen.de) (Grundgebiete der Informatik 4) at the RWTH Aachen University, Germany.\n",
    "\n",
    "Click on the button below to open a shell."
   ]
  },
  {
   "cell_type": "code",
   "execution_count": 3,
   "metadata": {},
   "outputs": [
    {
     "data": {
      "text/html": [
       "<button class=\"jp-Dialog-button jp-mod-accept jp-mod-styled\"><a style=\"color: white\" href=\"\" data-commandlinker-command=\"terminal:create-new\" data-commandlinker-args='{\"initialCommand\":\"cd gi4.git; source setup.sh\"}'>Open Terminal</a></button>"
      ],
      "text/plain": [
       "<IPython.core.display.HTML object>"
      ]
     },
     "execution_count": 3,
     "metadata": {},
     "output_type": "execute_result"
    }
   ],
   "source": [
    "from IPython.core.display import HTML; HTML('<button class=\"jp-Dialog-button jp-mod-accept jp-mod-styled\"><a style=\"color: white\" href=\"\" data-commandlinker-command=\"terminal:create-new\" data-commandlinker-args=\\'{\"initialCommand\":\"cd gi4.git; source setup.sh\"}\\'>Open Terminal</a></button>')"
   ]
  },
  {
   "cell_type": "markdown",
   "metadata": {},
   "source": [
    "## Globalübungen\n",
    "\n",
    "1. [C-Programme und Shell-Kommandos Verzeichnis](uebung/uebung01/README.md)\n",
    "2. [Makefiles, Datentypen, Speichermodell Verzeichnis](uebung/uebung02/README.md)\n",
    "3. [Integerarithmethik Verzeichnis](uebung/uebung03/README.md)\n",
    "4. [Integer, Schleifen und Sprünge Verzeichnis](uebung/uebung04/README.md)\n",
    "5. [Stack und Funktionen Verzeichnis](uebung/uebung05/README.md)"
   ]
  },
  {
   "cell_type": "markdown",
   "metadata": {},
   "source": [
    "## Kleingruppenübung\n",
    "\n",
    "3. [PiqRig Bildverarbeitung](kguebung/kguebung03/PiqRig64/README.md)"
   ]
  },
  {
   "cell_type": "markdown",
   "metadata": {},
   "source": [
    "## Lernumgebung\n",
    "\n",
    "### Jupyter\n",
    "\n",
    "- [Dokumentation](https://jupyterlab.readthedocs.io/en/stable/)\n",
    "- Siehe auch \"Hilfe\" im obigen Menü\n",
    "\n",
    "### Lokal starten\n",
    "\n",
    "1. [Docker installieren](https://hub.docker.com/?overlay=onboarding)\n",
    "2. Docker Shell öffnen\n",
    "2. RWTH GI Container starten:\n",
    "\n",
    "```bash\n",
    "docker run --tty --interactive --privileged --volume pfad/zu/gi4/materialen:/gi4 rwthos/gi4\n",
    "```"
   ]
  },
  {
   "cell_type": "code",
   "execution_count": null,
   "metadata": {},
   "outputs": [],
   "source": []
  }
 ],
 "metadata": {
  "kernelspec": {
   "display_name": "Python 3",
   "language": "python",
   "name": "python3"
  },
  "language_info": {
   "codemirror_mode": {
    "name": "ipython",
    "version": 3
   },
   "file_extension": ".py",
   "mimetype": "text/x-python",
   "name": "python",
   "nbconvert_exporter": "python",
   "pygments_lexer": "ipython3",
   "version": "3.7.3"
  }
 },
 "nbformat": 4,
 "nbformat_minor": 2
}
