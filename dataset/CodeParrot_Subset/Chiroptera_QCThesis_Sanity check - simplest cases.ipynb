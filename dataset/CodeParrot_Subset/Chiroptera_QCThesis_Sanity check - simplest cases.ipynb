{
 "cells": [
  {
   "cell_type": "markdown",
   "metadata": {
    "collapsed": false
   },
   "source": [
    "author: Diogo Silva\n",
    "\n",
    "SKL = SciKit-Learn"
   ]
  },
  {
   "cell_type": "code",
   "execution_count": 1,
   "metadata": {
    "collapsed": false
   },
   "outputs": [
    {
     "name": "stdout",
     "output_type": "stream",
     "text": [
      "Populating the interactive namespace from numpy and matplotlib\n"
     ]
    }
   ],
   "source": [
    "%pylab inline"
   ]
  },
  {
   "cell_type": "code",
   "execution_count": 2,
   "metadata": {
    "collapsed": true
   },
   "outputs": [],
   "source": [
    "import seaborn as sns"
   ]
  },
  {
   "cell_type": "code",
   "execution_count": 3,
   "metadata": {
    "collapsed": false
   },
   "outputs": [],
   "source": [
    "home = %env HOME"
   ]
  },
  {
   "cell_type": "code",
   "execution_count": 4,
   "metadata": {
    "collapsed": false
   },
   "outputs": [
    {
     "name": "stdout",
     "output_type": "stream",
     "text": [
      "/home/chiroptera/workspace/QCThesis\n"
     ]
    }
   ],
   "source": [
    "cd $home/QCThesis/"
   ]
  },
  {
   "cell_type": "code",
   "execution_count": 13,
   "metadata": {
    "collapsed": false
   },
   "outputs": [
    {
     "data": {
      "text/plain": [
       "<module 'MyML.metrics.accuracy' from 'MyML/metrics/accuracy.pyc'>"
      ]
     },
     "execution_count": 13,
     "metadata": {},
     "output_type": "execute_result"
    }
   ],
   "source": [
    "from sklearn.cluster import KMeans as KMeans_skl\n",
    "import MyML.cluster.eac as eac\n",
    "reload(eac)\n",
    "import MyML.cluster.K_Means3 as K_Means3\n",
    "reload(K_Means3)\n",
    "import MyML.metrics.accuracy as determine_ci\n",
    "reload(determine_ci)"
   ]
  },
  {
   "cell_type": "markdown",
   "metadata": {},
   "source": [
    "# Helper functions"
   ]
  },
  {
   "cell_type": "code",
   "execution_count": 14,
   "metadata": {
    "collapsed": true
   },
   "outputs": [],
   "source": [
    "def stat_my_kmeans(data,nclusters,gtruth,rounds=20):\n",
    "    nsamples=data.shape[0]\n",
    "    all_acc = list()\n",
    "    for r in xrange(rounds):\n",
    "        iters=\"converge\"\n",
    "        kmeans_mode=\"numpy\"\n",
    "\n",
    "        grouper = K_Means3.K_Means(n_clusters=nclusters, mode=kmeans_mode, cuda_mem='manual',tol=1e-4,max_iters=iters)\n",
    "        grouper._centroid_mode = \"iter\"\n",
    "        grouper.fit(data)\n",
    "\n",
    "\n",
    "        myAcc = determine_ci.HungarianIndex(nsamples=nsamples)\n",
    "        myAcc.score(gtruth,grouper.labels_,format='array')\n",
    "        \n",
    "        all_acc.append(myAcc.accuracy)\n",
    "        \n",
    "        \n",
    "    return np.mean(all_acc),np.var(all_acc),np.max(all_acc),np.min(all_acc)\n",
    "    \n",
    "def stat_skl_kmeans(data,nclusters,gtruth,rounds=20,init='random'):\n",
    "    nsamples=data.shape[0]\n",
    "    all_acc = list()\n",
    "    for r in xrange(rounds):\n",
    "        iters=\"converge\"\n",
    "        kmeans_mode=\"numpy\"\n",
    "\n",
    "        gSKL = KMeans_skl(n_clusters=nclusters,n_init=1,init=init)\n",
    "        gSKL.fit(data)\n",
    "\n",
    "        myAcc = determine_ci.HungarianIndex(nsamples=nsamples)\n",
    "        myAcc.score(gtruth,grouper.labels_,format='array')\n",
    "        \n",
    "        all_acc.append(myAcc.accuracy)\n",
    "        \n",
    "        \n",
    "    return np.mean(all_acc),np.var(all_acc),np.max(all_acc),np.min(all_acc)"
   ]
  },
  {
   "cell_type": "code",
   "execution_count": 15,
   "metadata": {
    "collapsed": false
   },
   "outputs": [
    {
     "name": "stdout",
     "output_type": "stream",
     "text": [
      "b MyML/cluster/K_Means3.py:\n"
     ]
    }
   ],
   "source": [
    "print \"b MyML/cluster/K_Means3.py:\""
   ]
  },
  {
   "cell_type": "code",
   "execution_count": 16,
   "metadata": {
    "collapsed": false
   },
   "outputs": [],
   "source": [
    "def k_analysis(partition_files,ground_truth,nprots,iters=\"converge\",rounds=20,files=True):\n",
    "    nsamples=data.shape[0]\n",
    "    all_acc = list()\n",
    "    \n",
    "    for r in xrange(rounds):\n",
    "        prot_mode=\"random\"\n",
    "\n",
    "        estimator=eac.EAC(nsamples)\n",
    "        estimator.fit(partition_files,files=files,assoc_mode='prot', prot_mode=prot_mode, nprot=nprots,build_only=True)\n",
    "\n",
    "        kmeans_mode = \"numpy\"\n",
    "        nclusters = np.unique(ground_truth).shape[0]\n",
    "\n",
    "        grouper = K_Means3.K_Means(n_clusters=nclusters,mode=kmeans_mode, cuda_mem='manual',tol=1e-4,max_iters=iters)\n",
    "        grouper._centroid_mode = \"iter\"\n",
    "        grouper.fit(estimator._coassoc)\n",
    "\n",
    "        myAcc = determine_ci.HungarianIndex(nsamples=nsamples)\n",
    "        myAcc.score(ground_truth,grouper.labels_,format='array')\n",
    "        \n",
    "        all_acc.append(myAcc.accuracy)\n",
    "    return np.mean(all_acc),np.var(all_acc),np.max(all_acc),np.min(all_acc)\n",
    "\n",
    "def k_skl_analysis(partition_files,ground_truth,nprots,rounds=20,files=True):\n",
    "    nsamples=data.shape[0]\n",
    "    all_acc = list()\n",
    "    \n",
    "    for r in xrange(rounds):\n",
    "        prot_mode=\"random\"\n",
    "\n",
    "        estimator=eac.EAC(nsamples)\n",
    "        estimator.fit(partition_files,files=files,assoc_mode='prot', prot_mode=prot_mode, nprot=nprots,build_only=True)\n",
    "\n",
    "        kmeans_mode = \"numpy\"\n",
    "        nclusters = np.unique(ground_truth).shape[0]\n",
    "\n",
    "\n",
    "        grouper = KMeans_skl(n_clusters=nclusters,n_init=1,init=\"random\")\n",
    "        grouper.fit(estimator._coassoc)\n",
    "        \n",
    "        myAcc = determine_ci.HungarianIndex(nsamples=nsamples)\n",
    "        myAcc.score(ground_truth,grouper.labels_,format='array')\n",
    "        \n",
    "        all_acc.append(myAcc.accuracy)\n",
    "    return np.mean(all_acc),np.var(all_acc),np.max(all_acc),np.min(all_acc)"
   ]
  },
  {
   "cell_type": "markdown",
   "metadata": {},
   "source": [
    "# Generate data"
   ]
  },
  {
   "cell_type": "code",
   "execution_count": 47,
   "metadata": {
    "collapsed": false
   },
   "outputs": [
    {
     "data": {
      "text/plain": [
       "[<matplotlib.lines.Line2D at 0x7f6659668990>]"
      ]
     },
     "execution_count": 47,
     "metadata": {},
     "output_type": "execute_result"
    },
    {
     "data": {
      "image/png": "[encoded data removed]",
      "text/plain": [
       "<matplotlib.figure.Figure at 0x7f6658b03150>"
      ]
     },
     "metadata": {},
     "output_type": "display_data"
    }
   ],
   "source": [
    "center1=(0,0)\n",
    "center2=(10,10)\n",
    "\n",
    "cov1=1\n",
    "cov2=1\n",
    "\n",
    "n1=500000\n",
    "n2=500000\n",
    "nsamples=n1+n2\n",
    "dim=2\n",
    "\n",
    "g1 = np.random.normal(loc=center1,scale=cov1,size=(n1,dim)).astype(np.float32)\n",
    "g2 = np.random.normal(loc=center2,scale=cov2,size=(n2,dim)).astype(np.float32)\n",
    "\n",
    "data = np.vstack((g1,g2))\n",
    "gt=np.zeros(data.shape[0],dtype=np.int32)\n",
    "gt[100:]=1\n",
    "\n",
    "figData=plt.figure()\n",
    "plt.plot(g1[:,0],g1[:,1],'.')\n",
    "plt.plot(g2[:,0],g2[:,1],'.')"
   ]
  },
  {
   "cell_type": "code",
   "execution_count": 48,
   "metadata": {
    "collapsed": false
   },
   "outputs": [
    {
     "data": {
      "text/plain": [
       "<module 'MyML.helper.partition' from 'MyML/helper/partition.pyc'>"
      ]
     },
     "execution_count": 48,
     "metadata": {},
     "output_type": "execute_result"
    }
   ],
   "source": [
    "import MyML.helper.partition\n",
    "reload(MyML.helper.partition)"
   ]
  },
  {
   "cell_type": "code",
   "execution_count": 49,
   "metadata": {
    "collapsed": false
   },
   "outputs": [],
   "source": [
    "py_estimator=K_Means3.K_Means(n_clusters=20,mode=\"numpy\", cuda_mem='manual',tol=1e-4,max_iter=3)\n",
    "cu_estimator=K_Means3.K_Means(n_clusters=20,mode=\"cuda\", cuda_mem='manual',tol=1e-4,max_iter=3)"
   ]
  },
  {
   "cell_type": "code",
   "execution_count": 50,
   "metadata": {
    "collapsed": false
   },
   "outputs": [
    {
     "name": "stdout",
     "output_type": "stream",
     "text": [
      "1 loops, best of 3: 48.1 s per loop\n",
      "1 loops, best of 3: 2min 6s per loop\n"
     ]
    }
   ],
   "source": [
    "%timeit MyML.helper.partition.generateEnsemble(data,cu_estimator,n_clusters=[6,30],npartitions=30,iters=3)\n",
    "%timeit MyML.helper.partition.generateEnsemble(data,py_estimator,n_clusters=[6,30],npartitions=30,iters=3)"
   ]
  },
  {
   "cell_type": "code",
   "execution_count": 174,
   "metadata": {
    "collapsed": false
   },
   "outputs": [
    {
     "name": "stdout",
     "output_type": "stream",
     "text": [
      "         481 function calls in 0.063 seconds\n",
      "\n",
      "   Ordered by: standard name\n",
      "\n",
      "   ncalls  tottime  percall  cumtime  percall filename:lineno(function)\n",
      "        1    0.000    0.000    0.063    0.063 <string>:1(<module>)\n",
      "        3    0.002    0.001    0.002    0.001 _k_means.pyx:244(_centers_dense)\n",
      "       19    0.000    0.000    0.001    0.000 _methods.py:31(_sum)\n",
      "        3    0.000    0.000    0.000    0.000 _methods.py:43(_count_reduce_items)\n",
      "        2    0.000    0.000    0.001    0.001 _methods.py:53(_mean)\n",
      "        1    0.000    0.000    0.003    0.003 _methods.py:77(_var)\n",
      "        6    0.000    0.000    0.000    0.000 _weakrefset.py:70(__contains__)\n",
      "        3    0.000    0.000    0.000    0.000 abc.py:128(__instancecheck__)\n",
      "       45    0.000    0.000    0.000    0.000 base.py:865(isspmatrix)\n",
      "        3    0.000    0.000    0.010    0.003 extmath.py:168(safe_sparse_dot)\n",
      "        3    0.000    0.000    0.000    0.000 extmath.py:44(squared_norm)\n",
      "        4    0.000    0.000    0.000    0.000 extmath.py:54(row_norms)\n",
      "        3    0.000    0.000    0.000    0.000 fromnumeric.py:1291(ravel)\n",
      "        1    0.000    0.000    0.000    0.000 fromnumeric.py:2651(mean)\n",
      "        1    0.000    0.000    0.003    0.003 fromnumeric.py:2838(var)\n",
      "        1    0.000    0.000    0.003    0.003 k_means_.py:142(_tolerance)\n",
      "        1    0.000    0.000    0.063    0.063 k_means_.py:151(k_means)\n",
      "        1    0.000    0.000    0.058    0.058 k_means_.py:296(_kmeans_single)\n",
      "        3    0.022    0.007    0.048    0.016 k_means_.py:400(_labels_inertia_precompute_dense)\n",
      "        3    0.000    0.000    0.049    0.016 k_means_.py:447(_labels_inertia)\n",
      "        1    0.000    0.000    0.007    0.007 k_means_.py:500(_init_centroids)\n",
      "        1    0.000    0.000    0.000    0.000 k_means_.py:688(_check_fit_data)\n",
      "        1    0.000    0.000    0.063    0.063 k_means_.py:716(fit)\n",
      "        3    0.000    0.000    0.000    0.000 numeric.py:141(ones)\n",
      "       13    0.000    0.000    0.000    0.000 numeric.py:394(asarray)\n",
      "       30    0.000    0.000    0.000    0.000 numeric.py:464(asanyarray)\n",
      "        3    0.015    0.005    0.026    0.009 pairwise.py:143(euclidean_distances)\n",
      "        3    0.000    0.000    0.001    0.000 pairwise.py:60(check_pairwise_arrays)\n",
      "       10    0.000    0.000    0.000    0.000 shape_base.py:60(atleast_2d)\n",
      "       10    0.000    0.000    0.001    0.000 validation.py:115(array2d)\n",
      "        7    0.000    0.000    0.001    0.000 validation.py:128(_atleast2d_or_sparse)\n",
      "        7    0.000    0.000    0.001    0.000 validation.py:157(atleast2d_or_csr)\n",
      "        4    0.000    0.000    0.000    0.000 validation.py:337(check_random_state)\n",
      "       16    0.000    0.000    0.001    0.000 validation.py:37(_assert_all_finite)\n",
      "        6    0.000    0.000    0.000    0.000 validation.py:57(safe_asarray)\n",
      "        1    0.000    0.000    0.000    0.000 validation.py:83(as_float_array)\n",
      "        3    0.000    0.000    0.000    0.000 {getattr}\n",
      "        2    0.000    0.000    0.000    0.000 {hasattr}\n",
      "       60    0.000    0.000    0.000    0.000 {isinstance}\n",
      "        4    0.000    0.000    0.000    0.000 {issubclass}\n",
      "       31    0.000    0.000    0.000    0.000 {len}\n",
      "        1    0.000    0.000    0.000    0.000 {max}\n",
      "       10    0.000    0.000    0.000    0.000 {method 'append' of 'list' objects}\n",
      "       12    0.000    0.000    0.000    0.000 {method 'copy' of 'numpy.ndarray' objects}\n",
      "        1    0.000    0.000    0.000    0.000 {method 'disable' of '_lsprof.Profiler' objects}\n",
      "        6    0.000    0.000    0.000    0.000 {method 'fill' of 'numpy.ndarray' objects}\n",
      "        1    0.000    0.000    0.001    0.001 {method 'mean' of 'numpy.ndarray' objects}\n",
      "        1    0.007    0.007    0.007    0.007 {method 'permutation' of 'mtrand.RandomState' objects}\n",
      "        3    0.000    0.000    0.000    0.000 {method 'ravel' of 'numpy.ndarray' objects}\n",
      "       23    0.005    0.000    0.005    0.000 {method 'reduce' of 'numpy.ufunc' objects}\n",
      "       19    0.000    0.000    0.001    0.000 {method 'sum' of 'numpy.ndarray' objects}\n",
      "        6    0.010    0.002    0.010    0.002 {numpy.core._dotblas.dot}\n",
      "       49    0.000    0.000    0.000    0.000 {numpy.core.multiarray.array}\n",
      "        3    0.000    0.000    0.000    0.000 {numpy.core.multiarray.copyto}\n",
      "        4    0.000    0.000    0.000    0.000 {numpy.core.multiarray.einsum}\n",
      "        9    0.000    0.000    0.000    0.000 {numpy.core.multiarray.empty}\n",
      "        1    0.000    0.000    0.000    0.000 {numpy.core.multiarray.zeros}\n",
      "        6    0.000    0.000    0.000    0.000 {range}\n",
      "        3    0.000    0.000    0.002    0.001 {sklearn.cluster._k_means._centers_dense}\n",
      "\n",
      "\n"
     ]
    }
   ],
   "source": [
    "cProfile.run(\"grouperSKL.fit(data)\")"
   ]
  },
  {
   "cell_type": "code",
   "execution_count": 200,
   "metadata": {
    "collapsed": false
   },
   "outputs": [
    {
     "name": "stdout",
     "output_type": "stream",
     "text": [
      "         2991 function calls (2940 primitive calls) in 0.066 seconds\n",
      "\n",
      "   Ordered by: standard name\n",
      "\n",
      "   ncalls  tottime  percall  cumtime  percall filename:lineno(function)\n",
      "        1    0.000    0.000    0.066    0.066 <string>:1(<module>)\n",
      "        9    0.000    0.000    0.000    0.000 <string>:8(__new__)\n",
      "        1    0.000    0.000    0.000    0.000 K_Means3.py:133(_init_centroids)\n",
      "        3    0.000    0.000    0.021    0.007 K_Means3.py:161(_label)\n",
      "        3    0.000    0.000    0.021    0.007 K_Means3.py:341(_cu_label)\n",
      "        3    0.000    0.000    0.001    0.000 K_Means3.py:398(_cu_label_kernel)\n",
      "        3    0.000    0.000    0.045    0.015 K_Means3.py:563(_recompute_centroids)\n",
      "        3    0.018    0.006    0.045    0.015 K_Means3.py:625(_np_recompute_centroids_good)\n",
      "        1    0.000    0.000    0.066    0.066 K_Means3.py:79(fit)\n",
      "        3    0.000    0.000    0.000    0.000 _methods.py:31(_sum)\n",
      "       18    0.000    0.000    0.000    0.000 _methods.py:34(_prod)\n",
      "       60    0.000    0.000    0.000    0.000 _methods.py:43(_count_reduce_items)\n",
      "       60    0.002    0.000    0.010    0.000 _methods.py:53(_mean)\n",
      "        3    0.000    0.000    0.009    0.003 api.py:116(synchronize)\n",
      "        6    0.000    0.000    0.000    0.000 api.py:121(_prepare_shape_strides_dtype)\n",
      "        6    0.000    0.000    0.005    0.001 api.py:150(device_array_like)\n",
      "        3    0.000    0.000    0.004    0.001 api.py:23(to_device)\n",
      "        6    0.000    0.000    0.004    0.001 api.py:63(device_array)\n",
      "       18    0.001    0.000    0.002    0.000 arrayobj.py:46(make_array_ctype)\n",
      "       18    0.000    0.000    0.000    0.000 arrayobj.py:61(c_array)\n",
      "        3    0.000    0.000    0.005    0.002 arraysetops.py:96(unique)\n",
      "        3    0.000    0.000    0.000    0.000 compiler.py:172(copy)\n",
      "        3    0.000    0.000    0.000    0.000 compiler.py:175(configure)\n",
      "        3    0.000    0.000    0.000    0.000 compiler.py:201(__getitem__)\n",
      "        3    0.000    0.000    0.000    0.000 compiler.py:250(get)\n",
      "        3    0.000    0.000    0.001    0.000 compiler.py:301(__call__)\n",
      "        3    0.000    0.000    0.001    0.000 compiler.py:326(_kernel_call)\n",
      "       12    0.000    0.000    0.000    0.000 compiler.py:377(_prepare_args)\n",
      "        9    0.000    0.000    0.000    0.000 contextlib.py:12(__init__)\n",
      "        9    0.000    0.000    0.000    0.000 contextlib.py:15(__enter__)\n",
      "        9    0.000    0.000    0.000    0.000 contextlib.py:21(__exit__)\n",
      "        9    0.000    0.000    0.000    0.000 contextlib.py:82(helper)\n",
      "        6    0.000    0.000    0.000    0.000 copy.py:306(_reconstruct)\n",
      "        6    0.000    0.000    0.000    0.000 copy.py:66(copy)\n",
      "        6    0.000    0.000    0.000    0.000 copy_reg.py:92(__newobj__)\n",
      "        9    0.000    0.000    0.000    0.000 devicearray.py:123(__del__)\n",
      "        9    0.000    0.000    0.000    0.000 devicearray.py:129(_default_stream)\n",
      "        9    0.000    0.000    0.000    0.000 devicearray.py:141(device_ctypes_pointer)\n",
      "        3    0.000    0.000    0.000    0.000 devicearray.py:151(copy_to_device)\n",
      "        6    0.000    0.000    0.001    0.000 devicearray.py:168(copy_to_host)\n",
      "       12    0.000    0.000    0.000    0.000 devicearray.py:232(as_cuda_arg)\n",
      "        3    0.000    0.000    0.004    0.001 devicearray.py:332(from_array_like)\n",
      "       12    0.000    0.000    0.000    0.000 devicearray.py:353(auto_device)\n",
      "        9    0.000    0.000    0.008    0.001 devicearray.py:56(__init__)\n",
      "       33    0.000    0.000    0.001    0.000 devices.py:108(current_context)\n",
      "       33    0.000    0.000    0.001    0.000 devices.py:183(get_or_create_context)\n",
      "       33    0.000    0.000    0.001    0.000 devices.py:224(get_context)\n",
      "        9    0.000    0.000    0.009    0.001 devices.py:236(_require_cuda_context)\n",
      "        3    0.000    0.000    0.000    0.000 driver.py:1018(configure)\n",
      "        3    0.000    0.000    0.000    0.000 driver.py:1035(__call__)\n",
      "        3    0.000    0.000    0.000    0.000 driver.py:1070(launch_kernel)\n",
      "       18    0.000    0.000    0.000    0.000 driver.py:1247(host_pointer)\n",
      "        3    0.000    0.000    0.000    0.000 driver.py:1258(host_memory_extents)\n",
      "        9    0.000    0.000    0.000    0.000 driver.py:1263(memory_size_from_info)\n",
      "        3    0.000    0.000    0.000    0.000 driver.py:1273(host_memory_size)\n",
      "       27    0.000    0.000    0.001    0.000 driver.py:1280(device_pointer)\n",
      "       39    0.000    0.000    0.001    0.000 driver.py:1285(device_ctypes_pointer)\n",
      "       66    0.000    0.000    0.000    0.000 driver.py:1293(is_device_memory)\n",
      "       39    0.000    0.000    0.000    0.000 driver.py:1304(require_device_memory)\n",
      "        9    0.000    0.000    0.000    0.000 driver.py:1311(device_memory_depends)\n",
      "       12    0.000    0.000    0.001    0.000 driver.py:1321(host_to_device)\n",
      "        6    0.000    0.000    0.001    0.000 driver.py:1339(device_to_host)\n",
      "       94    0.012    0.000    0.012    0.000 driver.py:212(safe_cuda_api_call)\n",
      "       94    0.000    0.000    0.000    0.000 driver.py:241(_check_error)\n",
      "       33    0.000    0.000    0.001    0.000 driver.py:270(get_context)\n",
      "        9    0.000    0.000    0.000    0.000 driver.py:291(add_trash)\n",
      "        9    0.000    0.000    0.001    0.000 driver.py:294(process)\n",
      "        9    0.000    0.000    0.002    0.000 driver.py:498(memalloc)\n",
      "        3    0.000    0.000    0.009    0.003 driver.py:614(synchronize)\n",
      "        9    0.000    0.000    0.000    0.000 driver.py:664(_make_mem_finalizer)\n",
      "        9    0.000    0.000    0.000    0.000 driver.py:665(mem_finalize)\n",
      "        9    0.000    0.000    0.000    0.000 driver.py:669(core)\n",
      "       10    0.000    0.000    0.001    0.000 driver.py:670(cleanup)\n",
      "        9    0.000    0.000    0.000    0.000 driver.py:728(__init__)\n",
      "       10    0.000    0.000    0.000    0.000 driver.py:739(__del__)\n",
      "        9    0.000    0.000    0.000    0.000 driver.py:746(own)\n",
      "        9    0.000    0.000    0.000    0.000 driver.py:749(free)\n",
      "       39    0.000    0.000    0.000    0.000 driver.py:778(device_ctypes_pointer)\n",
      "        9    0.000    0.000    0.000    0.000 driver.py:838(__init__)\n",
      "        9    0.000    0.000    0.000    0.000 driver.py:847(__del__)\n",
      "       90    0.000    0.000    0.000    0.000 driver.py:858(__getattr__)\n",
      "        9    0.000    0.000    0.000    0.000 driver.py:911(query)\n",
      "        9    0.000    0.000    0.000    0.000 driver.py:925(record)\n",
      "       18    0.000    0.000    0.000    0.000 dummyarray.py:104(is_contiguous)\n",
      "       18    0.000    0.000    0.000    0.000 dummyarray.py:108(compute_index)\n",
      "       42    0.000    0.000    0.000    0.000 dummyarray.py:109(<genexpr>)\n",
      "        9    0.000    0.000    0.001    0.000 dummyarray.py:148(from_desc)\n",
      "        9    0.000    0.000    0.001    0.000 dummyarray.py:157(__init__)\n",
      "       21    0.000    0.000    0.000    0.000 dummyarray.py:160(<genexpr>)\n",
      "       21    0.000    0.000    0.000    0.000 dummyarray.py:161(<genexpr>)\n",
      "        9    0.000    0.000    0.000    0.000 dummyarray.py:167(_compute_layout)\n",
      "       15    0.000    0.000    0.000    0.000 dummyarray.py:172(is_contig)\n",
      "        9    0.000    0.000    0.000    0.000 dummyarray.py:184(_compute_extent)\n",
      "       12    0.000    0.000    0.000    0.000 dummyarray.py:27(__init__)\n",
      "       24    0.000    0.000    0.000    0.000 dummyarray.py:80(get_offset)\n",
      "       18    0.000    0.000    0.001    0.000 fromnumeric.py:2259(prod)\n",
      "        9    0.000    0.000    0.004    0.000 ndarray.py:130(ndarray_populate_head)\n",
      "        9    0.000    0.000    0.000    0.000 ndarray.py:42(__new__)\n",
      "       18    0.000    0.000    0.000    0.000 ndarray.py:69(get_stage)\n",
      "        9    0.000    0.000    0.001    0.000 ndarray.py:80(allocate)\n",
      "        9    0.000    0.000    0.000    0.000 ndarray.py:91(free)\n",
      "        9    0.000    0.000    0.002    0.000 ndarray.py:96(write)\n",
      "       63    0.000    0.000    0.000    0.000 numeric.py:464(asanyarray)\n",
      "        3    0.000    0.000    0.000    0.000 numeric.py:81(zeros_like)\n",
      "        1    0.000    0.000    0.000    0.000 random.py:293(sample)\n",
      "        9    0.000    0.000    0.001    0.000 service.py:18(service)\n",
      "       66    0.000    0.000    0.000    0.000 threadlocal.py:13(stack)\n",
      "       33    0.000    0.000    0.000    0.000 threadlocal.py:29(top)\n",
      "       33    0.000    0.000    0.000    0.000 threadlocal.py:33(is_empty)\n",
      "       33    0.000    0.000    0.000    0.000 threadlocal.py:37(__bool__)\n",
      "       33    0.000    0.000    0.000    0.000 threadlocal.py:40(__nonzero__)\n",
      "        9    0.000    0.000    0.000    0.000 utils.py:142(__setitem__)\n",
      "       12    0.000    0.000    0.000    0.000 {_ctypes.addressof}\n",
      "       42    0.000    0.000    0.000    0.000 {_ctypes.byref}\n",
      "       18    0.000    0.000    0.000    0.000 {_ctypes.sizeof}\n",
      "       18    0.000    0.000    0.000    0.000 {_weakref.proxy}\n",
      "       15    0.000    0.000    0.000    0.000 {built-in method __new__ of type object at 0x7eff0af34d00}\n",
      "  177/126    0.000    0.000    0.000    0.000 {getattr}\n",
      "        7    0.000    0.000    0.000    0.000 {hasattr}\n",
      "        6    0.000    0.000    0.000    0.000 {id}\n",
      "      204    0.000    0.000    0.000    0.000 {isinstance}\n",
      "       60    0.000    0.000    0.000    0.000 {issubclass}\n",
      "        6    0.000    0.000    0.000    0.000 {iter}\n",
      "      100    0.000    0.000    0.000    0.000 {len}\n",
      "        1    0.000    0.000    0.000    0.000 {math.ceil}\n",
      "        1    0.000    0.000    0.000    0.000 {math.log}\n",
      "        6    0.000    0.000    0.000    0.000 {method '__reduce_ex__' of 'object' objects}\n",
      "       29    0.000    0.000    0.000    0.000 {method 'add' of 'set' objects}\n",
      "       18    0.000    0.000    0.000    0.000 {method 'append' of 'collections.deque' objects}\n",
      "       39    0.000    0.000    0.000    0.000 {method 'append' of 'list' objects}\n",
      "        3    0.012    0.004    0.012    0.004 {method 'argsort' of 'numpy.ndarray' objects}\n",
      "        1    0.000    0.000    0.000    0.000 {method 'disable' of '_lsprof.Profiler' objects}\n",
      "        9    0.000    0.000    0.000    0.000 {method 'discard' of 'set' objects}\n",
      "        9    0.000    0.000    0.000    0.000 {method 'extend' of 'list' objects}\n",
      "        3    0.000    0.000    0.000    0.000 {method 'flatten' of 'numpy.ndarray' objects}\n",
      "       24    0.000    0.000    0.000    0.000 {method 'get' of 'dict' objects}\n",
      "       60    0.000    0.000    0.010    0.000 {method 'mean' of 'numpy.ndarray' objects}\n",
      "       10    0.000    0.000    0.000    0.000 {method 'pop' of 'list' objects}\n",
      "       18    0.000    0.000    0.000    0.000 {method 'popleft' of 'collections.deque' objects}\n",
      "       20    0.000    0.000    0.000    0.000 {method 'random' of '_random.Random' objects}\n",
      "       81    0.008    0.000    0.008    0.000 {method 'reduce' of 'numpy.ufunc' objects}\n",
      "        3    0.004    0.001    0.004    0.001 {method 'sort' of 'numpy.ndarray' objects}\n",
      "        3    0.000    0.000    0.000    0.000 {method 'sum' of 'numpy.ndarray' objects}\n",
      "        6    0.000    0.000    0.000    0.000 {method 'update' of 'dict' objects}\n",
      "        3    0.000    0.000    0.000    0.000 {min}\n",
      "       24    0.000    0.000    0.001    0.000 {next}\n",
      "       18    0.000    0.000    0.000    0.000 {numba.mviewbuf.memoryview_get_buffer}\n",
      "        9    0.000    0.000    0.000    0.000 {numba.mviewbuf.memoryview_get_extents_info}\n",
      "        3    0.000    0.000    0.000    0.000 {numba.mviewbuf.memoryview_get_extents}\n",
      "       63    0.000    0.000    0.000    0.000 {numpy.core.multiarray.array}\n",
      "        3    0.000    0.000    0.000    0.000 {numpy.core.multiarray.concatenate}\n",
      "        3    0.000    0.000    0.000    0.000 {numpy.core.multiarray.copyto}\n",
      "        3    0.000    0.000    0.000    0.000 {numpy.core.multiarray.empty_like}\n",
      "        3    0.000    0.000    0.000    0.000 {numpy.core.multiarray.empty}\n",
      "        6    0.000    0.000    0.000    0.000 {numpy.core.multiarray.zeros}\n",
      "       18    0.000    0.000    0.000    0.000 {sum}\n",
      "       30    0.000    0.000    0.000    0.000 {zip}\n",
      "\n",
      "\n"
     ]
    }
   ],
   "source": [
    "cProfile.run(\"grouper.fit(data)\")"
   ]
  },
  {
   "cell_type": "markdown",
   "metadata": {},
   "source": [
    "## Generate partitions, k=6,10,[4,25]"
   ]
  },
  {
   "cell_type": "code",
   "execution_count": 9,
   "metadata": {
    "collapsed": true
   },
   "outputs": [],
   "source": [
    "def formatPartition(partition):\n",
    "    clusters=np.unique(partition)\n",
    "    nclusters=clusters.size\n",
    "    finalPartition=[None]*nclusters\n",
    "    for c,l in clusters:\n",
    "        finalPartition[c] = np.where(clusters==l)\n",
    "\n",
    "    return finalPartition\n",
    "\n",
    "def generatePartitions(data,npartitions,nclusters,iters=3):\n",
    "    \n",
    "    if type(nclusters) is list:\n",
    "        clusterRange = True\n",
    "        min_ncluster=nclusters[0]\n",
    "        max_ncluster=nclusters[1]\n",
    "    else:\n",
    "        clusterRange = False\n",
    "        k = nclusters\n",
    "        \n",
    "    partitions = list()\n",
    "    \n",
    "    mode = \"numpy\"\n",
    "    for p in xrange(npartitions):\n",
    "        if clusterRange:\n",
    "            k = np.random.randint(min_ncluster,max_ncluster)\n",
    "        \n",
    "        grouper = K_Means3.K_Means(n_clusters=k,mode=mode, cuda_mem='manual',tol=1e-4,max_iters=iters)\n",
    "        grouper._centroid_mode = \"index\"\n",
    "        grouper.fit(data)\n",
    "        partitions.append(grouper.partition)\n",
    "        \n",
    "    return partitions\n",
    "        \n",
    "def generatePartitionsSKL(data,npartitions,nclusters,iters=3):\n",
    "    \n",
    "    if type(nclusters) is list:\n",
    "        clusterRange = True\n",
    "        min_ncluster=nclusters[0]\n",
    "        max_ncluster=nclusters[1]\n",
    "    else:\n",
    "        clusterRange = False\n",
    "        k = nclusters\n",
    "        \n",
    "    partitions = list()\n",
    "    \n",
    "    mode = \"numpy\"\n",
    "    for p in xrange(npartitions):\n",
    "        if clusterRange:\n",
    "            k = np.random.randint(min_ncluster,max_ncluster)\n",
    "        \n",
    "        gSKL = KMeans_skl(n_clusters=k,n_init=1,init=\"random\",max_iter=iters)\n",
    "        gSKL.fit(data)\n",
    "        partitions.append(formatPartition(gSKL.labels_))\n",
    "        \n",
    "    return partitions\n",
    "    "
   ]
  },
  {
   "cell_type": "code",
   "execution_count": 11,
   "metadata": {
    "collapsed": false
   },
   "outputs": [
    {
     "data": {
      "text/plain": [
       "<module 'MyML.cluster.K_Means3' from 'MyML/cluster/K_Means3.py'>"
      ]
     },
     "execution_count": 11,
     "metadata": {},
     "output_type": "execute_result"
    }
   ],
   "source": [
    "reload(K_Means3)"
   ]
  },
  {
   "cell_type": "code",
   "execution_count": 13,
   "metadata": {
    "collapsed": false
   },
   "outputs": [
    {
     "name": "stdout",
     "output_type": "stream",
     "text": [
      "All partitions have good number of clusters.\n",
      "All partitions have good number of clusters.\n"
     ]
    }
   ],
   "source": [
    "npartitions=30\n",
    "iters=3\n",
    "\n",
    "nclusters=10\n",
    "partitions_my_10 = generatePartitions(data=data,npartitions=npartitions,nclusters=nclusters,iters=iters)\n",
    "partitions_skl_10 = generatePartitions(data=data,npartitions=npartitions,nclusters=nclusters,iters=iters)\n",
    "\n",
    "if type(nclusters) is not list:\n",
    "    allGood=True\n",
    "    for p in xrange(npartitions):\n",
    "        if len(partitions_my_10[p]) != nclusters:\n",
    "            print 'partition {} of partitions_my has different number of clusters:{}'.format(p,len(partitions_my_10[p]))\n",
    "            allGood=False\n",
    "        if len(partitions_skl_10[p]) != nclusters:\n",
    "            print 'partition {} of partitions_my has different number of clusters:{}'.format(p,len(partitions_skl_10[p]))\n",
    "            allGood=False\n",
    "    if allGood:\n",
    "        print 'All partitions have good number of clusters.'\n",
    "\n",
    "nclusters=6\n",
    "partitions_my_6 = generatePartitions(data=data,npartitions=npartitions,nclusters=nclusters,iters=iters)\n",
    "partitions_skl_6 = generatePartitions(data=data,npartitions=npartitions,nclusters=nclusters,iters=iters)\n",
    "\n",
    "if type(nclusters) is not list:\n",
    "    allGood=True\n",
    "    for p in xrange(npartitions):\n",
    "        if len(partitions_my_6[p]) != nclusters:\n",
    "            print 'partition {} of partitions_my has different number of clusters:{}'.format(p,len(partitions_my_6[p]))\n",
    "            allGood=False\n",
    "        if len(partitions_skl_6[p]) != nclusters:\n",
    "            print 'partition {} of partitions_my has different number of clusters:{}'.format(p,len(partitions_skl_6[p]))\n",
    "            allGood=False\n",
    "    if allGood:\n",
    "        print 'All partitions have good number of clusters.'\n",
    "\n",
    "nclusters=[4,25]\n",
    "partitions_my_rand = generatePartitions(data=data,npartitions=npartitions,nclusters=nclusters,iters=iters)\n",
    "partitions_skl_rand = generatePartitions(data=data,npartitions=npartitions,nclusters=nclusters,iters=iters)\n",
    "\n",
    "if type(nclusters) is not list:\n",
    "    allGood=True\n",
    "    for p in xrange(npartitions):\n",
    "        if len(partitions_my_rand[p]) != nclusters:\n",
    "            print 'partition {} of partitions_my has different number of clusters:{}'.format(p,len(partitions_my[p]))\n",
    "            allGood=False\n",
    "        if len(partitions_skl_rand[p]) != nclusters:\n",
    "            print 'partition {} of partitions_my has different number of clusters:{}'.format(p,len(partitions_skl[p]))\n",
    "            allGood=False\n",
    "    if allGood:\n",
    "        print 'All partitions have good number of clusters.'"
   ]
  },
  {
   "cell_type": "markdown",
   "metadata": {},
   "source": [
    "### Visualizing some partitions"
   ]
  },
  {
   "cell_type": "code",
   "execution_count": 14,
   "metadata": {
    "collapsed": false
   },
   "outputs": [
    {
     "data": {
      "text/plain": [
       "<matplotlib.text.Text at 0x7fc5b408fdd0>"
      ]
     },
     "execution_count": 14,
     "metadata": {},
     "output_type": "execute_result"
    },
    {
     "data": {
      "image/png": "[encoded data removed]",
      "text/plain": [
       "<matplotlib.figure.Figure at 0x7fc5b425b690>"
      ]
     },
     "metadata": {},
     "output_type": "display_data"
    }
   ],
   "source": [
    "figEnsemble=plt.figure(figsize=(16,12))\n",
    "ax1En=figEnsemble.add_subplot(2,2,1)\n",
    "ax2En=figEnsemble.add_subplot(2,2,2)\n",
    "ax3En=figEnsemble.add_subplot(2,2,3)\n",
    "ax4En=figEnsemble.add_subplot(2,2,4)\n",
    "\n",
    "for c in partitions_my_10[0]:\n",
    "    ax1En.plot(data[c,0],data[c,1],'.')\n",
    "ax1En.set_title(\"Sample of one partition generated with my K-Means\")\n",
    "\n",
    "for c in partitions_my_10[1]:\n",
    "    ax2En.plot(data[c,0],data[c,1],'.')\n",
    "ax2En.set_title(\"Sample of one partition generated with my K-Means\")\n",
    "\n",
    "for c in partitions_skl_10[0]:\n",
    "    ax3En.plot(data[c,0],data[c,1],'.')\n",
    "ax3En.set_title(\"Sample of one partition generated with SKL's K-Means\")\n",
    "\n",
    "for c in partitions_skl_10[1]:\n",
    "    ax4En.plot(data[c,0],data[c,1],'.')\n",
    "ax4En.set_title(\"Sample of one partition generated with SKL's K-Means\")"
   ]
  },
  {
   "cell_type": "markdown",
   "metadata": {},
   "source": [
    "# EAC K-Means"
   ]
  },
  {
   "cell_type": "markdown",
   "metadata": {},
   "source": [
    "## 6 clusters per partition"
   ]
  },
  {
   "cell_type": "code",
   "execution_count": 15,
   "metadata": {
    "collapsed": false
   },
   "outputs": [
    {
     "name": "stdout",
     "output_type": "stream",
     "text": [
      "My Accuracy:\t1.0\n",
      "SKL Accuracy:\t1.0\n"
     ]
    },
    {
     "name": "stderr",
     "output_type": "stream",
     "text": [
      "MyML/helper/partition.py:56: FutureWarning: comparison to `None` will result in an elementwise object comparison in the future.\n",
      "  if clusts == None:\n"
     ]
    },
    {
     "data": {
      "text/plain": [
       "<matplotlib.text.Text at 0x7fc5b6770d50>"
      ]
     },
     "execution_count": 15,
     "metadata": {},
     "output_type": "execute_result"
    },
    {
     "data": {
      "image/png": "[encoded data removed]",
      "text/plain": [
       "<matplotlib.figure.Figure at 0x7fc5b42a5150>"
      ]
     },
     "metadata": {},
     "output_type": "display_data"
    }
   ],
   "source": [
    "# generate coassoc\n",
    "prot_mode=\"random\"\n",
    "assoc_mode='prot' # prot or full\n",
    "nprots=nsamples # number of prototypes\n",
    "\n",
    "partitions_used = partitions_my_6\n",
    "\n",
    "myEstimator=eac.EAC(nsamples)\n",
    "myEstimator.fit(partitions_used,files=False,assoc_mode=assoc_mode, prot_mode=prot_mode, nprot=nprots,build_only=True)\n",
    "\n",
    "# final clustering with the true number of clusters\n",
    "true_nclusters = np.unique(gt).shape[0]\n",
    "\n",
    "# cluster with my K-Means\n",
    "kmeans_mode = \"numpy\"\n",
    "\n",
    "grouper = K_Means3.K_Means(n_clusters=true_nclusters, mode=kmeans_mode, cuda_mem='manual',tol=1e-4,max_iters=iters)\n",
    "grouper._centroid_mode = \"index\"\n",
    "grouper.fit(myEstimator._coassoc)\n",
    "\n",
    "# cluster with SKL K-Means\n",
    "gSKL = KMeans_skl(n_clusters=true_nclusters,n_init=1,init=\"random\")\n",
    "gSKL.fit(myEstimator._coassoc)\n",
    "\n",
    "# Hungarian accuracy\n",
    "myAcc = determine_ci.HungarianIndex(nsamples=nsamples)\n",
    "myAcc.score(gt,grouper.labels_,format='array')\n",
    "\n",
    "sklAcc = determine_ci.HungarianIndex(nsamples=nsamples)\n",
    "sklAcc.score(gt,gSKL.labels_,format='array')\n",
    "\n",
    "\n",
    "print 'My Accuracy:\\t',myAcc.accuracy\n",
    "print 'SKL Accuracy:\\t',sklAcc.accuracy\n",
    "\n",
    "figEAC=plt.figure(figsize=(16,6))\n",
    "ax1EAC=figEAC.add_subplot(1,2,1)\n",
    "ax2EAC=figEAC.add_subplot(1,2,2)\n",
    "\n",
    "for c in np.unique(grouper.labels_):\n",
    "    clusterData=grouper.labels_==c\n",
    "    ax1EAC.plot(data[clusterData,0],data[clusterData,1],'.')\n",
    "ax1EAC.set_title(\"Final EAC partition with my K-Means\")\n",
    "\n",
    "for c in np.unique(gSKL.labels_):\n",
    "    clusterData=gSKL.labels_==c\n",
    "    ax2EAC.plot(data[clusterData,0],data[clusterData,1],'.')\n",
    "ax2EAC.set_title(\"Final EAC partition with SKL's K-Means\")"
   ]
  },
  {
   "cell_type": "markdown",
   "metadata": {},
   "source": [
    "Accuracy is usually 100% in both cases (clustering from my K-Means and SciKit-Learn's). This depends on the ensemble. For some ensembles the accuracy on both is always one, for others it sometimes is not in one or both of the K-Means used (mine vs SKL).\n",
    "\n",
    "The number of prototypes is equal to the number of samples and since there are not repeated prototypes, all the samples are being used. Above are the visualizations of the solutions. "
   ]
  },
  {
   "cell_type": "markdown",
   "metadata": {},
   "source": [
    "### Statistic analysis"
   ]
  },
  {
   "cell_type": "code",
   "execution_count": 17,
   "metadata": {
    "collapsed": false
   },
   "outputs": [
    {
     "name": "stdout",
     "output_type": "stream",
     "text": [
      "type\tmean\tvar\tmax\tmin\n",
      "skl \t1.0\t0.0\t1.0\t1.0\t\n",
      "my  \t1.0\t0.0\t1.0\t1.0\t"
     ]
    }
   ],
   "source": [
    "stat_nprots=nsamples\n",
    "print \"{}\\t{}\\t{}\\t{}\\t{}\".format(\"type\",\"mean\",\"var\",\"max\",\"min\")\n",
    "print \"skl \\t\",\n",
    "for metric in k_skl_analysis(partitions_used,files=False,ground_truth=gt,nprots=stat_nprots,rounds=100):\n",
    "    print \"{}\\t\".format(metric),\n",
    "print \"\\nmy  \\t\",\n",
    "for metric in k_analysis(partitions_used,files=False,ground_truth=gt,nprots=stat_nprots,iters=\"converge\",rounds=100):\n",
    "    print \"{}\\t\".format(metric),\n"
   ]
  },
  {
   "cell_type": "code",
   "execution_count": 29,
   "metadata": {
    "collapsed": false
   },
   "outputs": [
    {
     "name": "stdout",
     "output_type": "stream",
     "text": [
      "."
     ]
    },
    {
     "ename": "KeyboardInterrupt",
     "evalue": "",
     "output_type": "error",
     "traceback": [
      "\u001b[1;31m---------------------------------------------------------------------------\u001b[0m",
      "\u001b[1;31mKeyboardInterrupt\u001b[0m                         Traceback (most recent call last)",
      "\u001b[1;32m<ipython-input-29-329d395e5d0e>\u001b[0m in \u001b[0;36m<module>\u001b[1;34m()\u001b[0m\n\u001b[0;32m      4\u001b[0m \u001b[1;32mfor\u001b[0m \u001b[0mn\u001b[0m \u001b[1;32min\u001b[0m \u001b[0mnprots\u001b[0m\u001b[1;33m:\u001b[0m\u001b[1;33m\u001b[0m\u001b[0m\n\u001b[0;32m      5\u001b[0m     \u001b[1;32mprint\u001b[0m \u001b[1;34m'.'\u001b[0m\u001b[1;33m,\u001b[0m\u001b[1;33m\u001b[0m\u001b[0m\n\u001b[1;32m----> 6\u001b[1;33m     \u001b[0mr\u001b[0m\u001b[1;33m=\u001b[0m\u001b[0mk_analysis\u001b[0m\u001b[1;33m(\u001b[0m\u001b[0mpartitions_used\u001b[0m\u001b[1;33m,\u001b[0m\u001b[0mfiles\u001b[0m\u001b[1;33m=\u001b[0m\u001b[0mFalse\u001b[0m\u001b[1;33m,\u001b[0m\u001b[0mground_truth\u001b[0m\u001b[1;33m=\u001b[0m\u001b[0mgt\u001b[0m\u001b[1;33m,\u001b[0m\u001b[0mnprots\u001b[0m\u001b[1;33m=\u001b[0m\u001b[0mn\u001b[0m\u001b[1;33m,\u001b[0m\u001b[0mrounds\u001b[0m\u001b[1;33m=\u001b[0m\u001b[1;36m100\u001b[0m\u001b[1;33m)\u001b[0m\u001b[1;33m\u001b[0m\u001b[0m\n\u001b[0m\u001b[0;32m      7\u001b[0m     \u001b[0mresults_k10\u001b[0m\u001b[1;33m.\u001b[0m\u001b[0mappend\u001b[0m\u001b[1;33m(\u001b[0m\u001b[0mr\u001b[0m\u001b[1;33m)\u001b[0m\u001b[1;33m\u001b[0m\u001b[0m\n\u001b[0;32m      8\u001b[0m \u001b[1;33m\u001b[0m\u001b[0m\n",
      "\u001b[1;32m<ipython-input-7-935179233b8c>\u001b[0m in \u001b[0;36mk_analysis\u001b[1;34m(partition_files, ground_truth, nprots, iters, rounds, files)\u001b[0m\n\u001b[0;32m     14\u001b[0m         \u001b[0mgrouper\u001b[0m \u001b[1;33m=\u001b[0m \u001b[0mK_Means3\u001b[0m\u001b[1;33m.\u001b[0m\u001b[0mK_Means\u001b[0m\u001b[1;33m(\u001b[0m\u001b[0mn_clusters\u001b[0m\u001b[1;33m=\u001b[0m\u001b[0mnclusters\u001b[0m\u001b[1;33m,\u001b[0m\u001b[0mmode\u001b[0m\u001b[1;33m=\u001b[0m\u001b[0mkmeans_mode\u001b[0m\u001b[1;33m,\u001b[0m \u001b[0mcuda_mem\u001b[0m\u001b[1;33m=\u001b[0m\u001b[1;34m'manual'\u001b[0m\u001b[1;33m,\u001b[0m\u001b[0mtol\u001b[0m\u001b[1;33m=\u001b[0m\u001b[1;36m1e-4\u001b[0m\u001b[1;33m,\u001b[0m\u001b[0mmax_iters\u001b[0m\u001b[1;33m=\u001b[0m\u001b[0miters\u001b[0m\u001b[1;33m)\u001b[0m\u001b[1;33m\u001b[0m\u001b[0m\n\u001b[0;32m     15\u001b[0m         \u001b[0mgrouper\u001b[0m\u001b[1;33m.\u001b[0m\u001b[0m_centroid_mode\u001b[0m \u001b[1;33m=\u001b[0m \u001b[1;34m\"iter\"\u001b[0m\u001b[1;33m\u001b[0m\u001b[0m\n\u001b[1;32m---> 16\u001b[1;33m         \u001b[0mgrouper\u001b[0m\u001b[1;33m.\u001b[0m\u001b[0mfit\u001b[0m\u001b[1;33m(\u001b[0m\u001b[0mestimator\u001b[0m\u001b[1;33m.\u001b[0m\u001b[0m_coassoc\u001b[0m\u001b[1;33m)\u001b[0m\u001b[1;33m\u001b[0m\u001b[0m\n\u001b[0m\u001b[0;32m     17\u001b[0m \u001b[1;33m\u001b[0m\u001b[0m\n\u001b[0;32m     18\u001b[0m         \u001b[0mmyAcc\u001b[0m \u001b[1;33m=\u001b[0m \u001b[0mdetermine_ci\u001b[0m\u001b[1;33m.\u001b[0m\u001b[0mHungarianIndex\u001b[0m\u001b[1;33m(\u001b[0m\u001b[0mnsamples\u001b[0m\u001b[1;33m=\u001b[0m\u001b[0mnsamples\u001b[0m\u001b[1;33m)\u001b[0m\u001b[1;33m\u001b[0m\u001b[0m\n",
      "\u001b[1;32m/home/diogoaos/QCThesis/MyML/cluster/K_Means3.py\u001b[0m in \u001b[0;36mfit\u001b[1;34m(self, data)\u001b[0m\n\u001b[0;32m    121\u001b[0m \u001b[1;33m\u001b[0m\u001b[0m\n\u001b[0;32m    122\u001b[0m             \u001b[1;31m# compute new centroids\u001b[0m\u001b[1;33m\u001b[0m\u001b[1;33m\u001b[0m\u001b[0m\n\u001b[1;32m--> 123\u001b[1;33m             \u001b[0mself\u001b[0m\u001b[1;33m.\u001b[0m\u001b[0mcentroids\u001b[0m \u001b[1;33m=\u001b[0m  \u001b[0mself\u001b[0m\u001b[1;33m.\u001b[0m\u001b[0m_recompute_centroids\u001b[0m\u001b[1;33m(\u001b[0m\u001b[0mdata\u001b[0m\u001b[1;33m,\u001b[0m\u001b[0mself\u001b[0m\u001b[1;33m.\u001b[0m\u001b[0mcentroids\u001b[0m\u001b[1;33m,\u001b[0m\u001b[0mlabels\u001b[0m\u001b[1;33m)\u001b[0m\u001b[1;33m\u001b[0m\u001b[0m\n\u001b[0m\u001b[0;32m    124\u001b[0m \u001b[1;33m\u001b[0m\u001b[0m\n\u001b[0;32m    125\u001b[0m         \u001b[0mself\u001b[0m\u001b[1;33m.\u001b[0m\u001b[0mlabels_\u001b[0m \u001b[1;33m=\u001b[0m \u001b[0mlabels\u001b[0m\u001b[1;33m\u001b[0m\u001b[0m\n",
      "\u001b[1;32m/home/diogoaos/QCThesis/MyML/cluster/K_Means3.py\u001b[0m in \u001b[0;36m_recompute_centroids\u001b[1;34m(self, data, centroids, labels)\u001b[0m\n\u001b[0;32m    563\u001b[0m             \u001b[0mnew_centroids\u001b[0m \u001b[1;33m=\u001b[0m \u001b[0mself\u001b[0m\u001b[1;33m.\u001b[0m\u001b[0m_np_recompute_centroids_index\u001b[0m\u001b[1;33m(\u001b[0m\u001b[0mdata\u001b[0m\u001b[1;33m,\u001b[0m\u001b[0mcentroids\u001b[0m\u001b[1;33m,\u001b[0m\u001b[0mlabels\u001b[0m\u001b[1;33m)\u001b[0m\u001b[1;33m\u001b[0m\u001b[0m\n\u001b[0;32m    564\u001b[0m         \u001b[1;32melif\u001b[0m \u001b[0mself\u001b[0m\u001b[1;33m.\u001b[0m\u001b[0m_centroid_mode\u001b[0m \u001b[1;33m==\u001b[0m \u001b[1;34m\"iter\"\u001b[0m\u001b[1;33m:\u001b[0m\u001b[1;33m\u001b[0m\u001b[0m\n\u001b[1;32m--> 565\u001b[1;33m             \u001b[0mnew_centroids\u001b[0m \u001b[1;33m=\u001b[0m \u001b[0mself\u001b[0m\u001b[1;33m.\u001b[0m\u001b[0m_np_recompute_centroids_iter\u001b[0m\u001b[1;33m(\u001b[0m\u001b[0mdata\u001b[0m\u001b[1;33m,\u001b[0m\u001b[0mcentroids\u001b[0m\u001b[1;33m,\u001b[0m\u001b[0mlabels\u001b[0m\u001b[1;33m)\u001b[0m\u001b[1;33m\u001b[0m\u001b[0m\n\u001b[0m\u001b[0;32m    566\u001b[0m         \u001b[1;32melif\u001b[0m \u001b[0mself\u001b[0m\u001b[1;33m.\u001b[0m\u001b[0m_centroid_mode\u001b[0m \u001b[1;33m==\u001b[0m \u001b[1;34m\"good\"\u001b[0m\u001b[1;33m:\u001b[0m\u001b[1;33m\u001b[0m\u001b[0m\n\u001b[0;32m    567\u001b[0m             \u001b[0mnew_centroids\u001b[0m \u001b[1;33m=\u001b[0m \u001b[0mself\u001b[0m\u001b[1;33m.\u001b[0m\u001b[0m_np_recompute_centroids_good\u001b[0m\u001b[1;33m(\u001b[0m\u001b[0mdata\u001b[0m\u001b[1;33m,\u001b[0m\u001b[0mcentroids\u001b[0m\u001b[1;33m,\u001b[0m\u001b[0mlabels\u001b[0m\u001b[1;33m)\u001b[0m\u001b[1;33m\u001b[0m\u001b[0m\n",
      "\u001b[1;32m/home/diogoaos/QCThesis/MyML/cluster/K_Means3.py\u001b[0m in \u001b[0;36m_np_recompute_centroids_iter\u001b[1;34m(self, data, centroids, labels)\u001b[0m\n\u001b[0;32m    770\u001b[0m         \u001b[1;32mfor\u001b[0m \u001b[0mn\u001b[0m \u001b[1;32min\u001b[0m \u001b[0mxrange\u001b[0m\u001b[1;33m(\u001b[0m\u001b[0mN\u001b[0m\u001b[1;33m)\u001b[0m\u001b[1;33m:\u001b[0m\u001b[1;33m\u001b[0m\u001b[0m\n\u001b[0;32m    771\u001b[0m             \u001b[0mnew_centroids\u001b[0m\u001b[1;33m[\u001b[0m\u001b[0mlabels\u001b[0m\u001b[1;33m[\u001b[0m\u001b[0mn\u001b[0m\u001b[1;33m]\u001b[0m\u001b[1;33m]\u001b[0m \u001b[1;33m+=\u001b[0m \u001b[0mdata\u001b[0m\u001b[1;33m[\u001b[0m\u001b[0mn\u001b[0m\u001b[1;33m]\u001b[0m\u001b[1;33m\u001b[0m\u001b[0m\n\u001b[1;32m--> 772\u001b[1;33m             \u001b[0mcentroid_count\u001b[0m\u001b[1;33m[\u001b[0m\u001b[0mlabels\u001b[0m\u001b[1;33m[\u001b[0m\u001b[0mn\u001b[0m\u001b[1;33m]\u001b[0m\u001b[1;33m]\u001b[0m \u001b[1;33m+=\u001b[0m \u001b[1;36m1\u001b[0m\u001b[1;33m\u001b[0m\u001b[0m\n\u001b[0m\u001b[0;32m    773\u001b[0m \u001b[1;33m\u001b[0m\u001b[0m\n\u001b[0;32m    774\u001b[0m \u001b[1;33m\u001b[0m\u001b[0m\n",
      "\u001b[1;31mKeyboardInterrupt\u001b[0m: "
     ]
    }
   ],
   "source": [
    "nprots=[5,20,40,60,80,100,120,140,160,180,200]\n",
    "\n",
    "results_k10=list()\n",
    "for n in nprots:\n",
    "    print '.',\n",
    "    r=k_analysis(partitions_used,files=False,ground_truth=gt,nprots=n,rounds=100)\n",
    "    results_k10.append(r)\n",
    "    \n",
    "mean_k10=[res[0] for res in results_k10]\n",
    "var_k10=[res[1] for res in results_k10]\n",
    "best_k10=[res[2] for res in results_k10]\n",
    "worst_k10=[res[3] for res in results_k10]\n",
    "\n",
    "plt.plot(mean_k10,label='mean')\n",
    "plt.plot(best_k10,label='best')\n",
    "plt.plot(worst_k10,label='worst')\n",
    "plt.plot([0, 10], [0.5, 0.5], 'k-', lw=1)\n",
    "plt.title(\"Analysis of the influence of the number of prototypes\")\n",
    "plt.legend(loc='best')"
   ]
  },
  {
   "cell_type": "markdown",
   "metadata": {},
   "source": [
    "## 10 clusters per partition"
   ]
  },
  {
   "cell_type": "code",
   "execution_count": 19,
   "metadata": {
    "collapsed": false
   },
   "outputs": [
    {
     "name": "stdout",
     "output_type": "stream",
     "text": [
      "My Accuracy:\t1.0\n",
      "SKL Accuracy:\t1.0\n",
      "\n",
      "Statistical analysis\n",
      "type\tmean\tvar\tmax\tmin\n",
      "skl \t0.98525\t0.0034096875\t1.0\t0.75\t\n",
      "my  \t0.9925\t0.00181875\t1.0\t0.75\t"
     ]
    },
    {
     "data": {
      "image/png": "[encoded data removed]",
      "text/plain": [
       "<matplotlib.figure.Figure at 0x7fc5b66a1710>"
      ]
     },
     "metadata": {},
     "output_type": "display_data"
    }
   ],
   "source": [
    "partitions_used = partitions_my_10\n",
    "\n",
    "# generate coassoc\n",
    "prot_mode=\"random\"\n",
    "assoc_mode='prot' # prot or full\n",
    "nprots=nsamples # number of prototypes\n",
    "\n",
    "myEstimator=eac.EAC(nsamples)\n",
    "myEstimator.fit(partitions_used,files=False,assoc_mode=assoc_mode, prot_mode=prot_mode, nprot=nprots,build_only=True)\n",
    "\n",
    "# final clustering with the true number of clusters\n",
    "true_nclusters = np.unique(gt).shape[0]\n",
    "\n",
    "# cluster with my K-Means\n",
    "kmeans_mode = \"numpy\"\n",
    "\n",
    "grouper = K_Means3.K_Means(n_clusters=true_nclusters, mode=kmeans_mode, cuda_mem='manual',tol=1e-4,max_iters=iters)\n",
    "grouper._centroid_mode = \"iter\"\n",
    "grouper.fit(myEstimator._coassoc)\n",
    "\n",
    "# cluster with SKL K-Means\n",
    "gSKL = KMeans_skl(n_clusters=true_nclusters,n_init=1,init=\"random\")\n",
    "gSKL.fit(myEstimator._coassoc)\n",
    "\n",
    "# Hungarian accuracy\n",
    "myAcc = determine_ci.HungarianIndex(nsamples=nsamples)\n",
    "myAcc.score(gt,grouper.labels_,format='array')\n",
    "\n",
    "sklAcc = determine_ci.HungarianIndex(nsamples=nsamples)\n",
    "sklAcc.score(gt,gSKL.labels_,format='array')\n",
    "\n",
    "\n",
    "print 'My Accuracy:\\t',myAcc.accuracy\n",
    "print 'SKL Accuracy:\\t',sklAcc.accuracy\n",
    "\n",
    "figEAC2=plt.figure(figsize=(16,12))\n",
    "ax1EAC2=figEAC2.add_subplot(2,2,1)\n",
    "ax2EAC2=figEAC2.add_subplot(2,2,2)\n",
    "ax3EAC2=figEAC2.add_subplot(2,2,3)\n",
    "\n",
    "for c in np.unique(grouper.labels_):\n",
    "    clusterData=grouper.labels_==c\n",
    "    ax1EAC2.plot(data[clusterData,0],data[clusterData,1],'.')\n",
    "ax1EAC2.set_title(\"Final EAC partition with my K-Means\")\n",
    "\n",
    "for c in np.unique(gSKL.labels_):\n",
    "    clusterData=gSKL.labels_==c\n",
    "    ax2EAC2.plot(data[clusterData,0],data[clusterData,1],'.')\n",
    "ax2EAC2.set_title(\"Final EAC partition with SKL's K-Means\")\n",
    "\n",
    "nprots=[5,20,40,60,80,100,120,140,160,180,200]\n",
    "results_k6=list()\n",
    "for n in nprots:\n",
    "    r=k_skl_analysis(partitions_used,files=False,ground_truth=gt,nprots=stat_nprots,rounds=100)\n",
    "    results_k6.append(r)\n",
    "    \n",
    "mean_k6=[res[0] for res in results_k6]\n",
    "var_k6=[res[1] for res in results_k6]\n",
    "best_k6=[res[2] for res in results_k6]\n",
    "worst_k6=[res[3] for res in results_k6]\n",
    "\n",
    "ax3EAC2.plot(mean_k6)\n",
    "ax3EAC2.plot(best_k6)\n",
    "ax3EAC2.plot(worst_k6)\n",
    "ax3EAC2.plot([0, 10], [0.5, 0.5], 'k-', lw=1)\n",
    "ax3EAC2.set_title(\"Analysis of the influence of the number of prototypes (SKL)\")\n",
    "\n",
    "print \"\\nStatistical analysis\"\n",
    "stat_nprots=nsamples\n",
    "print \"{}\\t{}\\t{}\\t{}\\t{}\".format(\"type\",\"mean\",\"var\",\"max\",\"min\")\n",
    "print \"skl \\t\",\n",
    "for metric in k_skl_analysis(partitions_used,files=False,ground_truth=gt,nprots=stat_nprots,rounds=100):\n",
    "    print \"{}\\t\".format(metric),\n",
    "print \"\\nmy  \\t\",\n",
    "for metric in k_analysis(partitions_used,files=False,ground_truth=gt,nprots=stat_nprots,iters=\"converge\",rounds=100):\n",
    "    print \"{}\\t\".format(metric),"
   ]
  },
  {
   "cell_type": "markdown",
   "metadata": {},
   "source": [
    "## Random number of clusters per partition"
   ]
  },
  {
   "cell_type": "code",
   "execution_count": 20,
   "metadata": {
    "collapsed": false
   },
   "outputs": [
    {
     "name": "stdout",
     "output_type": "stream",
     "text": [
      "My Accuracy:\t0.78\n",
      "SKL Accuracy:\t1.0\n"
     ]
    },
    {
     "ename": "KeyboardInterrupt",
     "evalue": "",
     "output_type": "error",
     "traceback": [
      "\u001b[1;31m---------------------------------------------------------------------------\u001b[0m",
      "\u001b[1;31mKeyboardInterrupt\u001b[0m                         Traceback (most recent call last)",
      "\u001b[1;32m<ipython-input-20-c7997f7bef87>\u001b[0m in \u001b[0;36m<module>\u001b[1;34m()\u001b[0m\n\u001b[0;32m     52\u001b[0m \u001b[0mresults_k6\u001b[0m\u001b[1;33m=\u001b[0m\u001b[0mlist\u001b[0m\u001b[1;33m(\u001b[0m\u001b[1;33m)\u001b[0m\u001b[1;33m\u001b[0m\u001b[0m\n\u001b[0;32m     53\u001b[0m \u001b[1;32mfor\u001b[0m \u001b[0mn\u001b[0m \u001b[1;32min\u001b[0m \u001b[0mnprots\u001b[0m\u001b[1;33m:\u001b[0m\u001b[1;33m\u001b[0m\u001b[0m\n\u001b[1;32m---> 54\u001b[1;33m     \u001b[0mr\u001b[0m\u001b[1;33m=\u001b[0m\u001b[0mk_skl_analysis\u001b[0m\u001b[1;33m(\u001b[0m\u001b[0mpartitions_used\u001b[0m\u001b[1;33m,\u001b[0m\u001b[0mfiles\u001b[0m\u001b[1;33m=\u001b[0m\u001b[0mFalse\u001b[0m\u001b[1;33m,\u001b[0m\u001b[0mground_truth\u001b[0m\u001b[1;33m=\u001b[0m\u001b[0mgt\u001b[0m\u001b[1;33m,\u001b[0m\u001b[0mnprots\u001b[0m\u001b[1;33m=\u001b[0m\u001b[0mstat_nprots\u001b[0m\u001b[1;33m,\u001b[0m\u001b[0mrounds\u001b[0m\u001b[1;33m=\u001b[0m\u001b[1;36m100\u001b[0m\u001b[1;33m)\u001b[0m\u001b[1;33m\u001b[0m\u001b[0m\n\u001b[0m\u001b[0;32m     55\u001b[0m     \u001b[0mresults_k6\u001b[0m\u001b[1;33m.\u001b[0m\u001b[0mappend\u001b[0m\u001b[1;33m(\u001b[0m\u001b[0mr\u001b[0m\u001b[1;33m)\u001b[0m\u001b[1;33m\u001b[0m\u001b[0m\n\u001b[0;32m     56\u001b[0m \u001b[1;33m\u001b[0m\u001b[0m\n",
      "\u001b[1;32m<ipython-input-7-935179233b8c>\u001b[0m in \u001b[0;36mk_skl_analysis\u001b[1;34m(partition_files, ground_truth, nprots, rounds, files)\u001b[0m\n\u001b[0;32m     30\u001b[0m \u001b[1;33m\u001b[0m\u001b[0m\n\u001b[0;32m     31\u001b[0m         \u001b[0mestimator\u001b[0m\u001b[1;33m=\u001b[0m\u001b[0meac\u001b[0m\u001b[1;33m.\u001b[0m\u001b[0mEAC\u001b[0m\u001b[1;33m(\u001b[0m\u001b[0mnsamples\u001b[0m\u001b[1;33m)\u001b[0m\u001b[1;33m\u001b[0m\u001b[0m\n\u001b[1;32m---> 32\u001b[1;33m         \u001b[0mestimator\u001b[0m\u001b[1;33m.\u001b[0m\u001b[0mfit\u001b[0m\u001b[1;33m(\u001b[0m\u001b[0mpartition_files\u001b[0m\u001b[1;33m,\u001b[0m\u001b[0mfiles\u001b[0m\u001b[1;33m=\u001b[0m\u001b[0mfiles\u001b[0m\u001b[1;33m,\u001b[0m\u001b[0massoc_mode\u001b[0m\u001b[1;33m=\u001b[0m\u001b[1;34m'prot'\u001b[0m\u001b[1;33m,\u001b[0m \u001b[0mprot_mode\u001b[0m\u001b[1;33m=\u001b[0m\u001b[0mprot_mode\u001b[0m\u001b[1;33m,\u001b[0m \u001b[0mnprot\u001b[0m\u001b[1;33m=\u001b[0m\u001b[0mnprots\u001b[0m\u001b[1;33m,\u001b[0m\u001b[0mbuild_only\u001b[0m\u001b[1;33m=\u001b[0m\u001b[0mTrue\u001b[0m\u001b[1;33m)\u001b[0m\u001b[1;33m\u001b[0m\u001b[0m\n\u001b[0m\u001b[0;32m     33\u001b[0m \u001b[1;33m\u001b[0m\u001b[0m\n\u001b[0;32m     34\u001b[0m         \u001b[0mkmeans_mode\u001b[0m \u001b[1;33m=\u001b[0m \u001b[1;34m\"numpy\"\u001b[0m\u001b[1;33m\u001b[0m\u001b[0m\n",
      "\u001b[1;32m/home/diogoaos/QCThesis/MyML/cluster/eac.pyc\u001b[0m in \u001b[0;36mfit\u001b[1;34m(self, ensemble, files, assoc_mode, prot_mode, nprot, link, build_only)\u001b[0m\n\u001b[0;32m     75\u001b[0m                 \u001b[1;32melse\u001b[0m\u001b[1;33m:\u001b[0m\u001b[1;33m\u001b[0m\u001b[0m\n\u001b[0;32m     76\u001b[0m                         \u001b[1;32mfor\u001b[0m \u001b[0mpartition\u001b[0m \u001b[1;32min\u001b[0m \u001b[0mensemble\u001b[0m\u001b[1;33m:\u001b[0m\u001b[1;33m\u001b[0m\u001b[0m\n\u001b[1;32m---> 77\u001b[1;33m                                 \u001b[0mself\u001b[0m\u001b[1;33m.\u001b[0m\u001b[0m_update_coassoc_matrix\u001b[0m\u001b[1;33m(\u001b[0m\u001b[0mpartition\u001b[0m\u001b[1;33m)\u001b[0m \u001b[1;31m# update co-association matrix\u001b[0m\u001b[1;33m\u001b[0m\u001b[0m\n\u001b[0m\u001b[0;32m     78\u001b[0m \u001b[1;33m\u001b[0m\u001b[0m\n\u001b[0;32m     79\u001b[0m         \u001b[1;32mdef\u001b[0m \u001b[0m_create_coassoc\u001b[0m\u001b[1;33m(\u001b[0m\u001b[0mself\u001b[0m\u001b[1;33m,\u001b[0m\u001b[0mmode\u001b[0m\u001b[1;33m,\u001b[0m\u001b[0mnsamples\u001b[0m\u001b[1;33m,\u001b[0m\u001b[0mnprot\u001b[0m\u001b[1;33m=\u001b[0m\u001b[0mNone\u001b[0m\u001b[1;33m)\u001b[0m\u001b[1;33m:\u001b[0m\u001b[1;33m\u001b[0m\u001b[0m\n",
      "\u001b[1;32m/home/diogoaos/QCThesis/MyML/cluster/eac.pyc\u001b[0m in \u001b[0;36m_update_coassoc_matrix\u001b[1;34m(self, clusters)\u001b[0m\n\u001b[0;32m    211\u001b[0m                 \u001b[1;31m# reduced matrix\u001b[0m\u001b[1;33m\u001b[0m\u001b[1;33m\u001b[0m\u001b[0m\n\u001b[0;32m    212\u001b[0m                 \u001b[1;32melif\u001b[0m \u001b[0mself\u001b[0m\u001b[1;33m.\u001b[0m\u001b[0m_assoc_mode\u001b[0m \u001b[1;32mis\u001b[0m \u001b[1;34m\"other\"\u001b[0m\u001b[1;33m:\u001b[0m\u001b[1;33m\u001b[0m\u001b[0m\n\u001b[1;32m--> 213\u001b[1;33m                         \u001b[0mself\u001b[0m\u001b[1;33m.\u001b[0m\u001b[0m_update_coassoc_k\u001b[0m\u001b[1;33m(\u001b[0m\u001b[0mself\u001b[0m\u001b[1;33m.\u001b[0m\u001b[0m_coassoc\u001b[0m\u001b[1;33m,\u001b[0m\u001b[0mclusters\u001b[0m\u001b[1;33m,\u001b[0m\u001b[0mself\u001b[0m\u001b[1;33m.\u001b[0m\u001b[0mk_labels\u001b[0m\u001b[1;33m)\u001b[0m\u001b[1;33m\u001b[0m\u001b[0m\n\u001b[0m\u001b[0;32m    214\u001b[0m                 \u001b[1;32melif\u001b[0m \u001b[0mself\u001b[0m\u001b[1;33m.\u001b[0m\u001b[0m_assoc_mode\u001b[0m \u001b[1;32mis\u001b[0m \u001b[1;34m\"knn\"\u001b[0m\u001b[1;33m:\u001b[0m\u001b[1;33m\u001b[0m\u001b[0m\n\u001b[0;32m    215\u001b[0m                         \u001b[0mself\u001b[0m\u001b[1;33m.\u001b[0m\u001b[0m_update_coassoc_knn\u001b[0m\u001b[1;33m(\u001b[0m\u001b[0mself\u001b[0m\u001b[1;33m.\u001b[0m\u001b[0m_coassoc\u001b[0m\u001b[1;33m,\u001b[0m\u001b[0mclusters\u001b[0m\u001b[1;33m,\u001b[0m\u001b[0mself\u001b[0m\u001b[1;33m.\u001b[0m\u001b[0mk_neighbours\u001b[0m\u001b[1;33m)\u001b[0m\u001b[1;33m\u001b[0m\u001b[0m\n",
      "\u001b[1;32m/home/diogoaos/QCThesis/MyML/cluster/eac.pyc\u001b[0m in \u001b[0;36m_update_coassoc_k\u001b[1;34m(self, assoc_mat, clusters, k_labels)\u001b[0m\n\u001b[0;32m    260\u001b[0m \u001b[1;33m\u001b[0m\u001b[0m\n\u001b[0;32m    261\u001b[0m                                 \u001b[1;31m# this indexing selects the rows and columns specified by n_in_cluster and k_in_cluster\u001b[0m\u001b[1;33m\u001b[0m\u001b[1;33m\u001b[0m\u001b[0m\n\u001b[1;32m--> 262\u001b[1;33m                                 \u001b[0massoc_mat\u001b[0m\u001b[1;33m[\u001b[0m\u001b[0mn_in_cluster\u001b[0m\u001b[1;33m[\u001b[0m\u001b[1;33m:\u001b[0m\u001b[1;33m,\u001b[0m\u001b[0mnp\u001b[0m\u001b[1;33m.\u001b[0m\u001b[0mnewaxis\u001b[0m\u001b[1;33m]\u001b[0m\u001b[1;33m,\u001b[0m\u001b[0mk_in_cluster\u001b[0m\u001b[1;33m]\u001b[0m \u001b[1;33m+=\u001b[0m \u001b[1;36m1\u001b[0m \u001b[1;31m# np.newaxis is alias for None\u001b[0m\u001b[1;33m\u001b[0m\u001b[0m\n\u001b[0m\u001b[0;32m    263\u001b[0m \u001b[1;33m\u001b[0m\u001b[0m\n\u001b[0;32m    264\u001b[0m \u001b[1;33m\u001b[0m\u001b[0m\n",
      "\u001b[1;31mKeyboardInterrupt\u001b[0m: "
     ]
    },
    {
     "data": {
      "image/png": "[encoded data removed]",
      "text/plain": [
       "<matplotlib.figure.Figure at 0x7fc5b6612910>"
      ]
     },
     "metadata": {},
     "output_type": "display_data"
    }
   ],
   "source": [
    "partitions_used = partitions_my_rand\n",
    "\n",
    "# generate coassoc\n",
    "prot_mode=\"random\"\n",
    "assoc_mode='prot' # prot or full\n",
    "nprots=nsamples # number of prototypes\n",
    "\n",
    "myEstimator=eac.EAC(nsamples)\n",
    "myEstimator.fit(partitions_used,files=False,assoc_mode=assoc_mode, prot_mode=prot_mode, nprot=nprots,build_only=True)\n",
    "\n",
    "# final clustering with the true number of clusters\n",
    "true_nclusters = np.unique(gt).shape[0]\n",
    "\n",
    "# cluster with my K-Means\n",
    "kmeans_mode = \"numpy\"\n",
    "\n",
    "grouper = K_Means3.K_Means(n_clusters=true_nclusters, mode=kmeans_mode, cuda_mem='manual',tol=1e-4,max_iters=iters)\n",
    "grouper._centroid_mode = \"iter\"\n",
    "grouper.fit(myEstimator._coassoc)\n",
    "\n",
    "# cluster with SKL K-Means\n",
    "gSKL = KMeans_skl(n_clusters=true_nclusters,n_init=1,init=\"random\")\n",
    "gSKL.fit(myEstimator._coassoc)\n",
    "\n",
    "# Hungarian accuracy\n",
    "myAcc = determine_ci.HungarianIndex(nsamples=nsamples)\n",
    "myAcc.score(gt,grouper.labels_,format='array')\n",
    "\n",
    "sklAcc = determine_ci.HungarianIndex(nsamples=nsamples)\n",
    "sklAcc.score(gt,gSKL.labels_,format='array')\n",
    "\n",
    "\n",
    "print 'My Accuracy:\\t',myAcc.accuracy\n",
    "print 'SKL Accuracy:\\t',sklAcc.accuracy\n",
    "\n",
    "figEAC2=plt.figure(figsize=(16,12))\n",
    "ax1EAC2=figEAC2.add_subplot(2,2,1)\n",
    "ax2EAC2=figEAC2.add_subplot(2,2,2)\n",
    "ax3EAC2=figEAC2.add_subplot(2,2,3)\n",
    "\n",
    "for c in np.unique(grouper.labels_):\n",
    "    clusterData=grouper.labels_==c\n",
    "    ax1EAC2.plot(data[clusterData,0],data[clusterData,1],'.')\n",
    "ax1EAC2.set_title(\"Final EAC partition with my K-Means\")\n",
    "\n",
    "for c in np.unique(gSKL.labels_):\n",
    "    clusterData=gSKL.labels_==c\n",
    "    ax2EAC2.plot(data[clusterData,0],data[clusterData,1],'.')\n",
    "ax2EAC2.set_title(\"Final EAC partition with SKL's K-Means\")\n",
    "\n",
    "nprots=[5,20,40,60,80,100,120,140,160,180,200]\n",
    "results_k6=list()\n",
    "for n in nprots:\n",
    "    r=k_skl_analysis(partitions_used,files=False,ground_truth=gt,nprots=stat_nprots,rounds=100)\n",
    "    results_k6.append(r)\n",
    "    \n",
    "mean_k6=[res[0] for res in results_k6]\n",
    "var_k6=[res[1] for res in results_k6]\n",
    "best_k6=[res[2] for res in results_k6]\n",
    "worst_k6=[res[3] for res in results_k6]\n",
    "\n",
    "ax3EAC2.plot(mean_k6)\n",
    "ax3EAC2.plot(best_k6)\n",
    "ax3EAC2.plot(worst_k6)\n",
    "ax3EAC2.plot([0, 10], [0.5, 0.5], 'k-', lw=1)\n",
    "ax3EAC2.set_title(\"Analysis of the influence of the number of prototypes (SKL)\")\n",
    "\n",
    "print \"\\nStatistical analysis\"\n",
    "stat_nprots=nsamples\n",
    "print \"{}\\t{}\\t{}\\t{}\\t{}\".format(\"type\",\"mean\",\"var\",\"max\",\"min\")\n",
    "print \"skl \\t\",\n",
    "for metric in k_skl_analysis(partitions_used,files=False,ground_truth=gt,nprots=stat_nprots,rounds=100):\n",
    "    print \"{}\\t\".format(metric),\n",
    "print \"\\nmy  \\t\",\n",
    "for metric in k_analysis(partitions_used,files=False,ground_truth=gt,nprots=stat_nprots,iters=\"converge\",rounds=100):\n",
    "    print \"{}\\t\".format(metric),"
   ]
  },
  {
   "cell_type": "code",
   "execution_count": null,
   "metadata": {
    "collapsed": false
   },
   "outputs": [],
   "source": [
    "plt.pcolor(myEstimator._coassoc)"
   ]
  },
  {
   "cell_type": "markdown",
   "metadata": {},
   "source": [
    "# K-Means only"
   ]
  },
  {
   "cell_type": "code",
   "execution_count": null,
   "metadata": {
    "collapsed": false
   },
   "outputs": [],
   "source": [
    "stat_nprots=nsamples\n",
    "print \"{}\\t{}\\t{}\\t{}\\t{}\".format(\"type\",\"mean\",\"var\",\"max\",\"min\")\n",
    "print \"my  \\t\",\n",
    "for metric in stat_my_kmeans(data,true_nclusters,gt,rounds=100):\n",
    "    print \"{}\\t\".format(metric),\n",
    "print \"\\nskl \\t\",\n",
    "for metric in stat_skl_kmeans(data,true_nclusters,gt,rounds=100):\n",
    "    print \"{}\\t\".format(metric),"
   ]
  },
  {
   "cell_type": "markdown",
   "metadata": {},
   "source": [
    "# EAC K-Medoids"
   ]
  },
  {
   "cell_type": "code",
   "execution_count": null,
   "metadata": {
    "collapsed": true
   },
   "outputs": [],
   "source": [
    "import MyML.cluster.KMedoids as KMedoids"
   ]
  },
  {
   "cell_type": "markdown",
   "metadata": {},
   "source": [
    "## 6 clusters per partition"
   ]
  },
  {
   "cell_type": "code",
   "execution_count": null,
   "metadata": {
    "collapsed": false
   },
   "outputs": [],
   "source": [
    "#%%debug\n",
    "partitions_used = partitions_my_6\n",
    "\n",
    "# generate coassoc\n",
    "prot_mode=\"random\"\n",
    "assoc_mode='full' # prot or full\n",
    "nprots=50 # number of prototypes\n",
    "\n",
    "myEstimator=eac.EAC(nsamples)\n",
    "myEstimator.fit(partitions_used,files=False,assoc_mode=assoc_mode, prot_mode=prot_mode, nprot=nprots,build_only=True)\n",
    "\n",
    "# final clustering with the true number of clusters\n",
    "true_nclusters = np.unique(gt).shape[0]\n",
    "\n",
    "# compute diassociation from co-assoc\n",
    "diassoc=myEstimator._coassoc.max()-myEstimator._coassoc\n",
    "\n",
    "#k-medoids\n",
    "labels,medoids=KMedoids.cluster(diassoc,k=true_nclusters)\n",
    "\n",
    "# Hungarian accuracy\n",
    "acc = determine_ci.HungarianIndex(nsamples=nsamples)\n",
    "acc.score(gt,labels,format='array')\n",
    "\n",
    "print 'K-Medoids Accuracy:\\t',acc.accuracy"
   ]
  },
  {
   "cell_type": "markdown",
   "metadata": {},
   "source": [
    "### Statistical analysis"
   ]
  },
  {
   "cell_type": "code",
   "execution_count": null,
   "metadata": {
    "collapsed": false
   },
   "outputs": [],
   "source": [
    "class acc_medoids():\n",
    "    def __init__(self,data,nclusters,gt):\n",
    "        self.data=data\n",
    "        self.nsamples=data.shape[0]\n",
    "        self.nclusters=nclusters\n",
    "        self.gt=gt\n",
    "        \n",
    "    def run(self):\n",
    "        labels,medoids=KMedoids.cluster(self.data,k=self.nclusters)\n",
    "        # Hungarian accuracy\n",
    "        acc = determine_ci.HungarianIndex(nsamples=self.nsamples)\n",
    "        acc.score(self.gt,labels,format='array')\n",
    "        return acc.accuracy\n",
    "    \n",
    "class acc_my_kmeans():\n",
    "    def __init__(self,data,nclusters,gt):\n",
    "        self.data=data\n",
    "        self.nclusters=nclusters\n",
    "        self.nsamples=data.shape[0]\n",
    "        self.gt=gt\n",
    "    def run(self):\n",
    "        # cluster with SKL K-Means\n",
    "        grouper = K_Means3.K_Means(n_clusters=true_nclusters,mode=kmeans_mode, cuda_mem='manual',tol=1e-4,max_iters=iters)\n",
    "        grouper._centroid_mode = \"iter\"\n",
    "        grouper.fit(self.data)\n",
    "\n",
    "        # Hungarian accuracy\n",
    "        sklAcc = determine_ci.HungarianIndex(nsamples=self.nsamples)\n",
    "        sklAcc.score(self.gt,grouper.labels_,format='array')\n",
    "        \n",
    "        return sklAcc.accuracy    \n",
    "\n",
    "class acc_skl_kmeans():\n",
    "    def __init__(self,data,nclusters,gt):\n",
    "        self.data=data\n",
    "        self.nclusters=nclusters\n",
    "        self.nsamples=data.shape[0]\n",
    "        self.gt=gt\n",
    "    def run(self):\n",
    "        # cluster with SKL K-Means\n",
    "        gSKL = KMeans_skl(n_clusters=self.nclusters,n_init=1,init=\"random\")\n",
    "        gSKL.fit(self.data)\n",
    "\n",
    "        # Hungarian accuracy\n",
    "        sklAcc = determine_ci.HungarianIndex(nsamples=self.nsamples)\n",
    "        sklAcc.score(self.gt,gSKL.labels_,format='array')\n",
    "        \n",
    "        return sklAcc.accuracy\n",
    "\n",
    "def stat_analysis(method,rounds=20):\n",
    "    rAll = np.zeros(rounds)\n",
    "    for r in xrange(rounds):\n",
    "        rAll[r]=method.run()\n",
    "    return rAll.mean(),rAll.var(),rAll.max(),rAll.min()"
   ]
  },
  {
   "cell_type": "code",
   "execution_count": null,
   "metadata": {
    "collapsed": false
   },
   "outputs": [],
   "source": [
    "rounds=100\n",
    "diassoc=myEstimator._coassoc.max()-myEstimator._coassoc\n",
    "x=acc_medoids(diassoc,nclusters=true_nclusters,gt=gt)\n",
    "print 'diassoc kmedoids\\t',stat_analysis(x,rounds=rounds)\n",
    "\n",
    "x2=acc_my_kmeans(diassoc,nclusters=true_nclusters,gt=gt)\n",
    "print 'diassoc kmeans  \\t',stat_analysis(x2,rounds=rounds)\n",
    "\n",
    "x3=acc_medoids(myEstimator._coassoc,nclusters=true_nclusters,gt=gt)\n",
    "print 'assoc kmedoids  \\t',stat_analysis(x3,rounds=rounds)\n",
    "\n",
    "x4=acc_my_kmeans(myEstimator._coassoc,nclusters=true_nclusters,gt=gt)\n",
    "print 'assoc kmeans    \\t',stat_analysis(x4,rounds=rounds)"
   ]
  },
  {
   "cell_type": "markdown",
   "metadata": {
    "collapsed": false
   },
   "source": [
    "## 10 clusters per partition"
   ]
  },
  {
   "cell_type": "code",
   "execution_count": null,
   "metadata": {
    "collapsed": false
   },
   "outputs": [],
   "source": [
    "#%%debug\n",
    "partitions_used = partitions_my_10\n",
    "\n",
    "# generate coassoc\n",
    "prot_mode=\"random\"\n",
    "assoc_mode='full' # prot or full\n",
    "nprots=50 # number of prototypes\n",
    "\n",
    "myEstimator=eac.EAC(nsamples)\n",
    "myEstimator.fit(partitions_used,files=False,assoc_mode=assoc_mode, prot_mode=prot_mode, nprot=nprots,build_only=True)\n",
    "\n",
    "# final clustering with the true number of clusters\n",
    "true_nclusters = np.unique(gt).shape[0]\n",
    "\n",
    "# compute diassociation from co-assoc\n",
    "diassoc=myEstimator._coassoc.max()-myEstimator._coassoc\n",
    "\n",
    "#k-medoids\n",
    "labels,medoids=KMedoids.cluster(diassoc,k=true_nclusters)\n",
    "\n",
    "# Hungarian accuracy\n",
    "acc = determine_ci.HungarianIndex(nsamples=nsamples)\n",
    "acc.score(gt,labels,format='array')\n",
    "\n",
    "print 'K-Medoids Accuracy:\\t',acc.accuracy"
   ]
  },
  {
   "cell_type": "markdown",
   "metadata": {},
   "source": [
    "### Statistical analysis"
   ]
  },
  {
   "cell_type": "code",
   "execution_count": null,
   "metadata": {
    "collapsed": false
   },
   "outputs": [],
   "source": [
    "rounds=20\n",
    "diassoc=myEstimator._coassoc.max()-myEstimator._coassoc\n",
    "x=acc_medoids(diassoc,nclusters=true_nclusters,gt=gt)\n",
    "print 'diassoc kmedoids\\t',stat_analysis(x,rounds=rounds)\n",
    "\n",
    "x2=acc_skl_kmeans(diassoc,nclusters=true_nclusters,gt=gt)\n",
    "print 'diassoc kmeans  \\t',stat_analysis(x2,rounds=rounds)\n",
    "\n",
    "x3=acc_medoids(myEstimator._coassoc,nclusters=true_nclusters,gt=gt)\n",
    "print 'assoc kmedoids  \\t',stat_analysis(x3,rounds=rounds)\n",
    "\n",
    "x4=acc_skl_kmeans(myEstimator._coassoc,nclusters=true_nclusters,gt=gt)\n",
    "print 'assoc kmeans    \\t',stat_analysis(x4,rounds=rounds)"
   ]
  },
  {
   "cell_type": "markdown",
   "metadata": {},
   "source": [
    "## Random clusters per partition"
   ]
  },
  {
   "cell_type": "code",
   "execution_count": null,
   "metadata": {
    "collapsed": false
   },
   "outputs": [],
   "source": [
    "#%%debug\n",
    "npartitions=30\n",
    "nclusters=[4,25]\n",
    "iters=3\n",
    "partitions_used = partitions_my_rand\n",
    "\n",
    "# generate coassoc\n",
    "prot_mode=\"random\"\n",
    "assoc_mode='full' # prot or full\n",
    "nprots=50 # number of prototypes\n",
    "\n",
    "myEstimator=eac.EAC(nsamples)\n",
    "myEstimator.fit(partitions_used,files=False,assoc_mode=assoc_mode, prot_mode=prot_mode, nprot=nprots,build_only=True)\n",
    "\n",
    "# final clustering with the true number of clusters\n",
    "true_nclusters = np.unique(gt).shape[0]\n",
    "\n",
    "# compute diassociation from co-assoc\n",
    "diassoc=myEstimator._coassoc.max()-myEstimator._coassoc\n",
    "\n",
    "#k-medoids\n",
    "labels,medoids=KMedoids.cluster(diassoc,k=true_nclusters)\n",
    "\n",
    "# Hungarian accuracy\n",
    "acc = determine_ci.HungarianIndex(nsamples=nsamples)\n",
    "acc.score(gt,labels,format='array')\n",
    "\n",
    "print 'K-Medoids Accuracy:\\t',acc.accuracy"
   ]
  },
  {
   "cell_type": "markdown",
   "metadata": {},
   "source": [
    "### Statistical analysis"
   ]
  },
  {
   "cell_type": "code",
   "execution_count": null,
   "metadata": {
    "collapsed": false
   },
   "outputs": [],
   "source": [
    "rounds=20\n",
    "diassoc=myEstimator._coassoc.max()-myEstimator._coassoc\n",
    "x=acc_medoids(diassoc,nclusters=true_nclusters,gt=gt)\n",
    "print 'diassoc kmedoids\\t',stat_analysis(x,rounds=rounds)\n",
    "\n",
    "x2=acc_skl_kmeans(diassoc,nclusters=true_nclusters,gt=gt)\n",
    "print 'diassoc kmeans  \\t',stat_analysis(x2,rounds=rounds)\n",
    "\n",
    "x3=acc_medoids(myEstimator._coassoc,nclusters=true_nclusters,gt=gt)\n",
    "print 'assoc kmedoids  \\t',stat_analysis(x3,rounds=rounds)\n",
    "\n",
    "x4=acc_skl_kmeans(myEstimator._coassoc,nclusters=true_nclusters,gt=gt)\n",
    "print 'assoc kmeans    \\t',stat_analysis(x4,rounds=rounds)"
   ]
  },
  {
   "cell_type": "markdown",
   "metadata": {},
   "source": [
    "## K-Medoids only"
   ]
  },
  {
   "cell_type": "code",
   "execution_count": null,
   "metadata": {
    "collapsed": true
   },
   "outputs": [],
   "source": [
    "from sklearn.metrics.pairwise import pairwise_distances"
   ]
  },
  {
   "cell_type": "code",
   "execution_count": null,
   "metadata": {
    "collapsed": false
   },
   "outputs": [],
   "source": [
    "pairwise=pairwise_distances(data)\n",
    "y=acc_medoids(pairwise,2,gt=gt)\n",
    "stat_analysis(y,rounds=20)"
   ]
  },
  {
   "cell_type": "markdown",
   "metadata": {},
   "source": [
    "# EAC Single link"
   ]
  },
  {
   "cell_type": "code",
   "execution_count": null,
   "metadata": {
    "collapsed": false
   },
   "outputs": [],
   "source": [
    "partitions_used = partitions_my_rand\n",
    "\n",
    "# generate coassoc\n",
    "prot_mode=\"random\"\n",
    "assoc_mode='full' # prot or full\n",
    "nprots=nsamples # number of prototypes\n",
    "\n",
    "myEstimator=eac.EAC(nsamples)\n",
    "myEstimator.fit(partitions_used,files=False,assoc_mode=assoc_mode, prot_mode=prot_mode, nprot=nprots,build_only=True)\n",
    "\n",
    "# final clustering with the true number of clusters\n",
    "true_nclusters = np.unique(gt).shape[0]\n",
    "\n",
    "#k-medoids\n",
    "myEstimator._apply_linkage()\n",
    "labels = myEstimator._clusterFromLinkage()\n",
    "\n",
    "# Hungarian accuracy\n",
    "acc = determine_ci.HungarianIndex(nsamples=nsamples)\n",
    "acc.score(gt,labels,format='array')\n",
    "\n",
    "print 'EAC SL Accuracy:\\t',acc.accuracy"
   ]
  },
  {
   "cell_type": "markdown",
   "metadata": {},
   "source": [
    "## Single-Link only"
   ]
  },
  {
   "cell_type": "code",
   "execution_count": null,
   "metadata": {
    "collapsed": false
   },
   "outputs": [],
   "source": [
    "from scipy.cluster import hierarchy as hie\n",
    "from scipy.spatial.distance import squareform"
   ]
  },
  {
   "cell_type": "code",
   "execution_count": null,
   "metadata": {
    "collapsed": true
   },
   "outputs": [],
   "source": [
    "# pairwise distances\n",
    "dists = np.zeros((nsamples,nsamples))\n",
    "for i,dp in enumerate(data):\n",
    "    dist = (data - dp)**2\n",
    "    dist = np.sqrt(dist.sum(axis=1))\n",
    "    dists[i]=dist"
   ]
  },
  {
   "cell_type": "code",
   "execution_count": null,
   "metadata": {
    "collapsed": false
   },
   "outputs": [],
   "source": [
    "#pairwise=pairwise_distances(data)\n",
    "condensed_dists = squareform(dists)\n",
    "Z = hie.linkage(condensed_dists,method='single')\n",
    "parents=Z[-1,:2]\n",
    "labels=myEstimator._buildLabels(Z=Z,parents=parents)\n",
    "\n",
    "acc.score(gt,labels,format='array')\n",
    "print \"Single-Link accuracy:\\t\",acc.accuracy"
   ]
  },
  {
   "cell_type": "code",
   "execution_count": null,
   "metadata": {
    "collapsed": false
   },
   "outputs": [],
   "source": [
    "#generated from: http://tools.medialab.sciences-po.fr/iwanthue/\n",
    "my_colors=[\"#D37E30\",\n",
    "\"#6F6FD8\",\n",
    "\"#3AA579\",\n",
    "\"#D5337B\",\n",
    "\"#4595B8\",\n",
    "\"#3EA729\",\n",
    "\"#D150D7\",\n",
    "\"#4E6E23\",\n",
    "\"#8F4D79\",\n",
    "\"#D64430\",\n",
    "\"#A1952B\",\n",
    "\"#C15257\",\n",
    "\"#AA5BB3\",\n",
    "\"#6A76B0\",\n",
    "\"#8E5723\",\n",
    "\"#2A7464\",\n",
    "\"#D66C9F\",\n",
    "\"#60994E\",\n",
    "\"#73A32D\",\n",
    "\"#33A74F\"]\n",
    "my_pallete=sns.color_palette(my_colors,len(my_colors))\n",
    "sns.palplot(my_pallete)\n",
    "sns.set_palette(my_pallete,len(my_colors))\n",
    "#marker_types=['.','^','*','h','x']\n",
    "marker_types=matplotlib.markers.MarkerStyle.filled_markers"
   ]
  },
  {
   "cell_type": "code",
   "execution_count": null,
   "metadata": {
    "collapsed": true
   },
   "outputs": [],
   "source": [
    "sns.set_style(\"whitegrid\")"
   ]
  },
  {
   "cell_type": "code",
   "execution_count": null,
   "metadata": {
    "collapsed": false
   },
   "outputs": [],
   "source": [
    "figX=sns.plt.figure(figsize=(12,90))\n",
    "for i,p in enumerate(partitions_my_rand):\n",
    "    ax=figX.add_subplot(15,2,i+1)\n",
    "    for j,c in enumerate(p):\n",
    "        ax.plot(data[c,0],data[c,1],ls=u'None',marker=marker_types[j/6],markersize=8)\n",
    "        #ax.scatter(data[c,0],data[c,1],marker=marker_types[j/6],linewidths=5)\n",
    "    ax.set_title(\"partition {}, {} clusters\".format(i+1,j+1))"
   ]
  },
  {
   "cell_type": "code",
   "execution_count": null,
   "metadata": {
    "collapsed": true
   },
   "outputs": [],
   "source": []
  }
 ],
 "metadata": {
  "kernelspec": {
   "display_name": "Python 2",
   "language": "python",
   "name": "python2"
  },
  "language_info": {
   "codemirror_mode": {
    "name": "ipython",
    "version": 2
   },
   "file_extension": ".py",
   "mimetype": "text/x-python",
   "name": "python",
   "nbconvert_exporter": "python",
   "pygments_lexer": "ipython2",
   "version": "2.7.9"
  }
 },
 "nbformat": 4,
 "nbformat_minor": 0
}
