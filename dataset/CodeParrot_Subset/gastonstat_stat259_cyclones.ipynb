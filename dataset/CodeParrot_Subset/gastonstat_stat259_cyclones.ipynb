{
 "cells": [
  {
   "cell_type": "markdown",
   "metadata": {},
   "source": [
    "### Read in data"
   ]
  },
  {
   "cell_type": "code",
   "execution_count": 3,
   "metadata": {
    "collapsed": false
   },
   "outputs": [],
   "source": [
    "myfile = open('cyclone.dat', 'r')\n",
    "content = myfile.readlines()\n",
    "season = []\n",
    "count = []\n",
    "for line in content:\n",
    "    aux = line.strip()\n",
    "    values = aux.split()\n",
    "    season.append(values[1])\n",
    "    count.append(int(values[2]))\n",
    "\n",
    "myfile.close()"
   ]
  },
  {
   "cell_type": "code",
   "execution_count": 4,
   "metadata": {
    "collapsed": false
   },
   "outputs": [
    {
     "name": "stdout",
     "output_type": "stream",
     "text": [
      "['1', '2', '3', '4', '1', '2', '3', '4', '1', '2', '3', '4']\n"
     ]
    }
   ],
   "source": [
    "print season"
   ]
  },
  {
   "cell_type": "code",
   "execution_count": 5,
   "metadata": {
    "collapsed": false
   },
   "outputs": [
    {
     "name": "stdout",
     "output_type": "stream",
     "text": [
      "[370, 452, 273, 422, 526, 624, 513, 1059, 980, 1200, 995, 1751]\n"
     ]
    }
   ],
   "source": [
    "print count"
   ]
  },
  {
   "cell_type": "markdown",
   "metadata": {},
   "source": [
    "### Convert numeric seasons into named seasons"
   ]
  },
  {
   "cell_type": "code",
   "execution_count": 6,
   "metadata": {
    "collapsed": false
   },
   "outputs": [],
   "source": [
    "def naming_seasons(season):\n",
    "    \"\"\"Creates a latex table stored in a python list\n",
    "    \n",
    "    Parameteres\n",
    "    -----------\n",
    "        season: list with numeric seasons\n",
    "    \n",
    "    Returns\n",
    "    -------\n",
    "        season_str: list with named seasons\n",
    "    \"\"\"\n",
    "    season_str = []\n",
    "    for s in season:\n",
    "        if s == '1':\n",
    "            season_str.append('Fall')\n",
    "        elif s == '2':\n",
    "            season_str.append('Winter')\n",
    "        elif s == '3':\n",
    "            season_str.append('Spring')\n",
    "        else:\n",
    "            season_str.append('Summer')\n",
    "    return season_str"
   ]
  },
  {
   "cell_type": "code",
   "execution_count": 7,
   "metadata": {
    "collapsed": false
   },
   "outputs": [
    {
     "name": "stdout",
     "output_type": "stream",
     "text": [
      "['Fall', 'Winter', 'Spring', 'Summer', 'Fall', 'Winter', 'Spring', 'Summer', 'Fall', 'Winter', 'Spring', 'Summer']\n"
     ]
    }
   ],
   "source": [
    "season_name = naming_seasons(season)\n",
    "print season_name"
   ]
  },
  {
   "cell_type": "code",
   "execution_count": 8,
   "metadata": {
    "collapsed": true
   },
   "outputs": [],
   "source": [
    "# test for function naming_seasons()\n",
    "def test_naming_seasons():\n",
    "    # We make a fake dictionary\n",
    "    input_val = ['2', '3', '1', '4', '3', '2']\n",
    "    expected_result = ['Winter', 'Spring', 'Fall', 'Summer', 'Spring', 'Winter']\n",
    "    # run function\n",
    "    res = naming_seasons(input_val)\n",
    "    assert res == expected_result"
   ]
  },
  {
   "cell_type": "code",
   "execution_count": 9,
   "metadata": {
    "collapsed": false
   },
   "outputs": [],
   "source": [
    "test_naming_seasons()"
   ]
  },
  {
   "cell_type": "markdown",
   "metadata": {},
   "source": [
    "### Count total cyclones per season"
   ]
  },
  {
   "cell_type": "code",
   "execution_count": 10,
   "metadata": {
    "collapsed": false
   },
   "outputs": [],
   "source": [
    "def counting_cyclones_per_season(season_lst, count_lst):\n",
    "    \"\"\"Creates a latex table stored in a python list\n",
    "    \n",
    "    Parameteres\n",
    "    -----------\n",
    "        season_lst: list with named seasons\n",
    "        count_lst: list with cyclone counts\n",
    "    \n",
    "    Returns\n",
    "    -------\n",
    "        total_cyclones: dictionary with seasons as keys, and totals as values\n",
    "    \"\"\"\n",
    "    totals = [0, 0, 0, 0]\n",
    "    for i in range(0, len(season_lst)):\n",
    "        if season_lst[i] == 'Fall':\n",
    "            totals[0] = totals[0] + count_lst[i]\n",
    "        elif season_lst[i] == 'Winter':\n",
    "            totals[1] = totals[1] + count_lst[i]\n",
    "        elif season_lst[i] == 'Spring':\n",
    "            totals[2] = totals[2] + count_lst[i]\n",
    "        else:\n",
    "            totals[3] = totals[3] + count_lst[i]\n",
    "    total_cyclones = dict(zip(['Fall', 'Winter', 'Spring', 'Summer'], totals))\n",
    "    return total_cyclones"
   ]
  },
  {
   "cell_type": "code",
   "execution_count": 11,
   "metadata": {
    "collapsed": false
   },
   "outputs": [
    {
     "name": "stdout",
     "output_type": "stream",
     "text": [
      "{'Spring': 1781, 'Summer': 3232, 'Winter': 2276, 'Fall': 1876}\n"
     ]
    }
   ],
   "source": [
    "total_cyclones = counting_cyclones_per_season(season_name, count)\n",
    "print total_cyclones"
   ]
  },
  {
   "cell_type": "code",
   "execution_count": 12,
   "metadata": {
    "collapsed": true
   },
   "outputs": [],
   "source": [
    "# test for function cyclones_per_season()\n",
    "def test_counting_cyclones_per_season():\n",
    "    # We make a fake dictionary\n",
    "    input_season = ['Winter', 'Spring', 'Fall', 'Summer', 'Spring', 'Winter']\n",
    "    input_count = [10, 7, 10, 5, 13, 5]\n",
    "    expected_result = {'Spring': 20, 'Summer': 5, 'Winter': 15, 'Fall': 10}\n",
    "    # run function\n",
    "    res = counting_cyclones_per_season(input_season, input_count)\n",
    "    assert res == expected_result"
   ]
  },
  {
   "cell_type": "code",
   "execution_count": 13,
   "metadata": {
    "collapsed": false
   },
   "outputs": [],
   "source": [
    "test_counting_cyclones_per_season()"
   ]
  },
  {
   "cell_type": "markdown",
   "metadata": {},
   "source": [
    "### LaTeX table"
   ]
  },
  {
   "cell_type": "code",
   "execution_count": 14,
   "metadata": {
    "collapsed": false
   },
   "outputs": [],
   "source": [
    "def make_cyclones_table(x):\n",
    "    \"\"\"Creates a latex table stored in a python list\n",
    "    \n",
    "    Parameteres\n",
    "    -----------\n",
    "        x: dictionary\n",
    "    \n",
    "    Returns\n",
    "    -------\n",
    "        latex_tbl: latex table in a list\n",
    "    \"\"\"\n",
    "    latex_tbl = []\n",
    "    latex_tbl.append(\"\\\\begin{center}\\n\")\n",
    "    latex_tbl.append(\"  \\\\begin{tabular}{ c c }\\n\")\n",
    "    latex_tbl.append(\"    \\\\hline\\n\")\n",
    "    latex_tbl.append(\"    Season & Count \\\\\\\\\\n\")\n",
    "    \n",
    "    # add data\n",
    "    for key, value in x.items():\n",
    "        latex_tbl.append(\"    %s & %s \\\\\\\\\\n\" % (key, str(value)))\n",
    "    # close table\n",
    "    latex_tbl.append(\"    \\\\hline\\n\")\n",
    "    latex_tbl.append(\"  \\\\end{tabular}\\n\")\n",
    "    latex_tbl.append(\"\\\\end{center}\\n\")\n",
    "    return latex_tbl"
   ]
  },
  {
   "cell_type": "code",
   "execution_count": 15,
   "metadata": {
    "collapsed": false
   },
   "outputs": [
    {
     "data": {
      "text/plain": [
       "['\\\\begin{center}\\n',\n",
       " '  \\\\begin{tabular}{ c c }\\n',\n",
       " '    \\\\hline\\n',\n",
       " '    Season & Count \\\\\\\\\\n',\n",
       " '    Spring & 1781 \\\\\\\\\\n',\n",
       " '    Summer & 3232 \\\\\\\\\\n',\n",
       " '    Winter & 2276 \\\\\\\\\\n',\n",
       " '    Fall & 1876 \\\\\\\\\\n',\n",
       " '    \\\\hline\\n',\n",
       " '  \\\\end{tabular}\\n',\n",
       " '\\\\end{center}\\n']"
      ]
     },
     "execution_count": 15,
     "metadata": {},
     "output_type": "execute_result"
    }
   ],
   "source": [
    "make_cyclones_table(total_cyclones)"
   ]
  },
  {
   "cell_type": "code",
   "execution_count": 14,
   "metadata": {
    "collapsed": true
   },
   "outputs": [],
   "source": [
    "# create latex table\n",
    "latex_table = make_cyclones_table(total_cyclones)\n",
    "\n",
    "# write table to a .tex file\n",
    "tex_file = open('cyclones_table.tex', 'w')\n",
    "for elem in latex_table:\n",
    "    tex_file.write(elem)\n",
    "tex_file.close()"
   ]
  },
  {
   "cell_type": "markdown",
   "metadata": {
    "collapsed": true
   },
   "source": [
    "---\n",
    "\n",
    "# Numpy Arrays"
   ]
  },
  {
   "cell_type": "code",
   "execution_count": 3,
   "metadata": {
    "collapsed": true
   },
   "outputs": [],
   "source": [
    "import numpy as np"
   ]
  },
  {
   "cell_type": "code",
   "execution_count": 5,
   "metadata": {
    "collapsed": false
   },
   "outputs": [],
   "source": [
    "# this won't work\n",
    "np.load('cyclone.dat')"
   ]
  },
  {
   "cell_type": "code",
   "execution_count": 7,
   "metadata": {
    "collapsed": false
   },
   "outputs": [
    {
     "name": "stdout",
     "output_type": "stream",
     "text": [
      "[[   1    1  370]\n",
      " [   1    2  452]\n",
      " [   1    3  273]\n",
      " [   1    4  422]\n",
      " [   2    1  526]\n",
      " [   2    2  624]\n",
      " [   2    3  513]\n",
      " [   2    4 1059]\n",
      " [   3    1  980]\n",
      " [   3    2 1200]\n",
      " [   3    3  995]\n",
      " [   3    4 1751]]\n"
     ]
    }
   ],
   "source": [
    "# this works\n",
    "dat = np.loadtxt('cyclone.dat', dtype = 'int')\n",
    "print dat"
   ]
  },
  {
   "cell_type": "code",
   "execution_count": 8,
   "metadata": {
    "collapsed": false
   },
   "outputs": [
    {
     "data": {
      "text/plain": [
       "(12, 3)"
      ]
     },
     "execution_count": 8,
     "metadata": {},
     "output_type": "execute_result"
    }
   ],
   "source": [
    "# dimensions\n",
    "dat.shape"
   ]
  },
  {
   "cell_type": "code",
   "execution_count": 9,
   "metadata": {
    "collapsed": false
   },
   "outputs": [
    {
     "data": {
      "text/plain": [
       "array([  1,   1, 370])"
      ]
     },
     "execution_count": 9,
     "metadata": {},
     "output_type": "execute_result"
    }
   ],
   "source": [
    "# first row\n",
    "dat[0]"
   ]
  },
  {
   "cell_type": "code",
   "execution_count": 10,
   "metadata": {
    "collapsed": false
   },
   "outputs": [
    {
     "data": {
      "text/plain": [
       "273"
      ]
     },
     "execution_count": 10,
     "metadata": {},
     "output_type": "execute_result"
    }
   ],
   "source": [
    "# some cells\n",
    "dat[2,2]"
   ]
  },
  {
   "cell_type": "code",
   "execution_count": 11,
   "metadata": {
    "collapsed": true
   },
   "outputs": [],
   "source": [
    "# selecting seasons and cyclones\n",
    "seasons = dat[:,1]\n",
    "cyclones = dat[:,2]"
   ]
  },
  {
   "cell_type": "code",
   "execution_count": 12,
   "metadata": {
    "collapsed": false
   },
   "outputs": [
    {
     "data": {
      "text/plain": [
       "array([370, 526, 980])"
      ]
     },
     "execution_count": 12,
     "metadata": {},
     "output_type": "execute_result"
    }
   ],
   "source": [
    "# cyclones of season 1\n",
    "cyclones[(seasons == 1)]"
   ]
  },
  {
   "cell_type": "code",
   "execution_count": 13,
   "metadata": {
    "collapsed": false
   },
   "outputs": [
    {
     "name": "stdout",
     "output_type": "stream",
     "text": [
      "[ 1876.  2276.  1781.  3232.]\n"
     ]
    }
   ],
   "source": [
    "totals = np.zeros(4)\n",
    "for s in range(4):\n",
    "    totals[s] = sum(cyclones[(seasons == s + 1)])\n",
    "    \n",
    "print totals"
   ]
  },
  {
   "cell_type": "markdown",
   "metadata": {},
   "source": [
    "---"
   ]
  }
 ],
 "metadata": {
  "kernelspec": {
   "display_name": "Python 2",
   "language": "python",
   "name": "python2"
  },
  "language_info": {
   "codemirror_mode": {
    "name": "ipython",
    "version": 2
   },
   "file_extension": ".py",
   "mimetype": "text/x-python",
   "name": "python",
   "nbconvert_exporter": "python",
   "pygments_lexer": "ipython2",
   "version": "2.7.11"
  }
 },
 "nbformat": 4,
 "nbformat_minor": 0
}
