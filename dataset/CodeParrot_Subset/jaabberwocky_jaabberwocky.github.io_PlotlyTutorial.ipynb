{
 "cells": [
  {
   "cell_type": "code",
   "execution_count": 1,
   "metadata": {},
   "outputs": [
    {
     "data": {
      "text/html": [
       "<script>requirejs.config({paths: { 'plotly': ['https://cdn.plot.ly/plotly-latest.min']},});if(!window.Plotly) {{require(['plotly'],function(plotly) {window.Plotly=plotly;});}}</script>"
      ],
      "text/vnd.plotly.v1+html": [
       "<script>requirejs.config({paths: { 'plotly': ['https://cdn.plot.ly/plotly-latest.min']},});if(!window.Plotly) {{require(['plotly'],function(plotly) {window.Plotly=plotly;});}}</script>"
      ]
     },
     "metadata": {},
     "output_type": "display_data"
    }
   ],
   "source": [
    "import plotly as py\n",
    "from plotly import plotly\n",
    "import pandas as pd\n",
    "import numpy as np\n",
    "from plotly.graph_objs import Scatter, Layout, Data, Figure, Annotation, Scatter3d\n",
    "import plotly.figure_factory as ff\n",
    "\n",
    "py.offline.init_notebook_mode(connected=True)"
   ]
  },
  {
   "cell_type": "markdown",
   "metadata": {},
   "source": [
    "Below we will examine the different aspects/objects that define a plot in Plotly. These are:\n",
    "\n",
    "- Data\n",
    "- Layout\n",
    "- Figure"
   ]
  },
  {
   "cell_type": "markdown",
   "metadata": {},
   "source": [
    "We will first follow with a few examples to showcase Plotly."
   ]
  },
  {
   "cell_type": "code",
   "execution_count": 2,
   "metadata": {},
   "outputs": [
    {
     "data": {
      "application/vnd.plotly.v1+json": {
       "data": [
        {
         "type": "scatter",
         "x": [
          1,
          2,
          3,
          4
         ],
         "y": [
          4,
          3,
          2,
          1
         ]
        }
       ],
       "layout": {
        "title": "hello world"
       }
      },
      "text/html": [
       "<div id=\"81b847c6-f3f1-4109-a9ee-f4cdc230f9b8\" style=\"height: 525px; width: 100%;\" class=\"plotly-graph-div\"></div><script type=\"text/javascript\">require([\"plotly\"], function(Plotly) { window.PLOTLYENV=window.PLOTLYENV || {};window.PLOTLYENV.BASE_URL=\"https://plot.ly\";Plotly.newPlot(\"81b847c6-f3f1-4109-a9ee-f4cdc230f9b8\", [{\"type\": \"scatter\", \"x\": [1, 2, 3, 4], \"y\": [4, 3, 2, 1]}], {\"title\": \"hello world\"}, {\"showLink\": true, \"linkText\": \"Export to plot.ly\"})});</script>"
      ],
      "text/vnd.plotly.v1+html": [
       "<div id=\"81b847c6-f3f1-4109-a9ee-f4cdc230f9b8\" style=\"height: 525px; width: 100%;\" class=\"plotly-graph-div\"></div><script type=\"text/javascript\">require([\"plotly\"], function(Plotly) { window.PLOTLYENV=window.PLOTLYENV || {};window.PLOTLYENV.BASE_URL=\"https://plot.ly\";Plotly.newPlot(\"81b847c6-f3f1-4109-a9ee-f4cdc230f9b8\", [{\"type\": \"scatter\", \"x\": [1, 2, 3, 4], \"y\": [4, 3, 2, 1]}], {\"title\": \"hello world\"}, {\"showLink\": true, \"linkText\": \"Export to plot.ly\"})});</script>"
      ]
     },
     "metadata": {},
     "output_type": "display_data"
    }
   ],
   "source": [
    "py.offline.iplot({\n",
    "    \"data\": [Scatter(x=[1, 2, 3, 4], y=[4, 3, 2, 1])],\n",
    "    \"layout\": Layout(title=\"hello world\")\n",
    "})"
   ]
  },
  {
   "cell_type": "code",
   "execution_count": 3,
   "metadata": {},
   "outputs": [
    {
     "data": {
      "application/vnd.plotly.v1+json": {
       "data": [
        {
         "colorscale": [
          [
           0,
           "#00083e"
          ],
          [
           0.5,
           "#ededee"
          ],
          [
           1,
           "#ffffff"
          ]
         ],
         "hoverinfo": "none",
         "opacity": 0.75,
         "showscale": false,
         "type": "heatmap",
         "z": [
          [
           0,
           0,
           0,
           0
          ],
          [
           0.5,
           0.5,
           0.5,
           0.5
          ],
          [
           1,
           1,
           1,
           1
          ],
          [
           0.5,
           0.5,
           0.5,
           0.5
          ],
          [
           1,
           1,
           1,
           1
          ],
          [
           0.5,
           0.5,
           0.5,
           0.5
          ],
          [
           1,
           1,
           1,
           1
          ],
          [
           0.5,
           0.5,
           0.5,
           0.5
          ],
          [
           1,
           1,
           1,
           1
          ],
          [
           0.5,
           0.5,
           0.5,
           0.5
          ],
          [
           1,
           1,
           1,
           1
          ],
          [
           0.5,
           0.5,
           0.5,
           0.5
          ],
          [
           1,
           1,
           1,
           1
          ],
          [
           0.5,
           0.5,
           0.5,
           0.5
          ],
          [
           1,
           1,
           1,
           1
          ],
          [
           0.5,
           0.5,
           0.5,
           0.5
          ],
          [
           1,
           1,
           1,
           1
          ],
          [
           0.5,
           0.5,
           0.5,
           0.5
          ],
          [
           1,
           1,
           1,
           1
          ],
          [
           0.5,
           0.5,
           0.5,
           0.5
          ],
          [
           1,
           1,
           1,
           1
          ],
          [
           0.5,
           0.5,
           0.5,
           0.5
          ]
         ]
        }
       ],
       "layout": {
        "annotations": [
         {
          "align": "left",
          "font": {
           "color": "#ffffff"
          },
          "showarrow": false,
          "text": "<b>School</b>",
          "x": -0.45,
          "xanchor": "left",
          "xref": "x1",
          "y": 0,
          "yref": "y1"
         },
         {
          "align": "left",
          "font": {
           "color": "#ffffff"
          },
          "showarrow": false,
          "text": "<b>Women</b>",
          "x": 0.55,
          "xanchor": "left",
          "xref": "x1",
          "y": 0,
          "yref": "y1"
         },
         {
          "align": "left",
          "font": {
           "color": "#ffffff"
          },
          "showarrow": false,
          "text": "<b>Men</b>",
          "x": 1.55,
          "xanchor": "left",
          "xref": "x1",
          "y": 0,
          "yref": "y1"
         },
         {
          "align": "left",
          "font": {
           "color": "#ffffff"
          },
          "showarrow": false,
          "text": "<b>Gap</b>",
          "x": 2.55,
          "xanchor": "left",
          "xref": "x1",
          "y": 0,
          "yref": "y1"
         },
         {
          "align": "left",
          "font": {
           "color": "#000000"
          },
          "showarrow": false,
          "text": "MIT",
          "x": -0.45,
          "xanchor": "left",
          "xref": "x1",
          "y": 1,
          "yref": "y1"
         },
         {
          "align": "left",
          "font": {
           "color": "#000000"
          },
          "showarrow": false,
          "text": "94",
          "x": 0.55,
          "xanchor": "left",
          "xref": "x1",
          "y": 1,
          "yref": "y1"
         },
         {
          "align": "left",
          "font": {
           "color": "#000000"
          },
          "showarrow": false,
          "text": "152",
          "x": 1.55,
          "xanchor": "left",
          "xref": "x1",
          "y": 1,
          "yref": "y1"
         },
         {
          "align": "left",
          "font": {
           "color": "#000000"
          },
          "showarrow": false,
          "text": "58",
          "x": 2.55,
          "xanchor": "left",
          "xref": "x1",
          "y": 1,
          "yref": "y1"
         },
         {
          "align": "left",
          "font": {
           "color": "#000000"
          },
          "showarrow": false,
          "text": "Stanford",
          "x": -0.45,
          "xanchor": "left",
          "xref": "x1",
          "y": 2,
          "yref": "y1"
         },
         {
          "align": "left",
          "font": {
           "color": "#000000"
          },
          "showarrow": false,
          "text": "96",
          "x": 0.55,
          "xanchor": "left",
          "xref": "x1",
          "y": 2,
          "yref": "y1"
         },
         {
          "align": "left",
          "font": {
           "color": "#000000"
          },
          "showarrow": false,
          "text": "151",
          "x": 1.55,
          "xanchor": "left",
          "xref": "x1",
          "y": 2,
          "yref": "y1"
         },
         {
          "align": "left",
          "font": {
           "color": "#000000"
          },
          "showarrow": false,
          "text": "55",
          "x": 2.55,
          "xanchor": "left",
          "xref": "x1",
          "y": 2,
          "yref": "y1"
         },
         {
          "align": "left",
          "font": {
           "color": "#000000"
          },
          "showarrow": false,
          "text": "Harvard",
          "x": -0.45,
          "xanchor": "left",
          "xref": "x1",
          "y": 3,
          "yref": "y1"
         },
         {
          "align": "left",
          "font": {
           "color": "#000000"
          },
          "showarrow": false,
          "text": "112",
          "x": 0.55,
          "xanchor": "left",
          "xref": "x1",
          "y": 3,
          "yref": "y1"
         },
         {
          "align": "left",
          "font": {
           "color": "#000000"
          },
          "showarrow": false,
          "text": "165",
          "x": 1.55,
          "xanchor": "left",
          "xref": "x1",
          "y": 3,
          "yref": "y1"
         },
         {
          "align": "left",
          "font": {
           "color": "#000000"
          },
          "showarrow": false,
          "text": "53",
          "x": 2.55,
          "xanchor": "left",
          "xref": "x1",
          "y": 3,
          "yref": "y1"
         },
         {
          "align": "left",
          "font": {
           "color": "#000000"
          },
          "showarrow": false,
          "text": "U.Penn",
          "x": -0.45,
          "xanchor": "left",
          "xref": "x1",
          "y": 4,
          "yref": "y1"
         },
         {
          "align": "left",
          "font": {
           "color": "#000000"
          },
          "showarrow": false,
          "text": "92",
          "x": 0.55,
          "xanchor": "left",
          "xref": "x1",
          "y": 4,
          "yref": "y1"
         },
         {
          "align": "left",
          "font": {
           "color": "#000000"
          },
          "showarrow": false,
          "text": "141",
          "x": 1.55,
          "xanchor": "left",
          "xref": "x1",
          "y": 4,
          "yref": "y1"
         },
         {
          "align": "left",
          "font": {
           "color": "#000000"
          },
          "showarrow": false,
          "text": "49",
          "x": 2.55,
          "xanchor": "left",
          "xref": "x1",
          "y": 4,
          "yref": "y1"
         },
         {
          "align": "left",
          "font": {
           "color": "#000000"
          },
          "showarrow": false,
          "text": "Princeton",
          "x": -0.45,
          "xanchor": "left",
          "xref": "x1",
          "y": 5,
          "yref": "y1"
         },
         {
          "align": "left",
          "font": {
           "color": "#000000"
          },
          "showarrow": false,
          "text": "90",
          "x": 0.55,
          "xanchor": "left",
          "xref": "x1",
          "y": 5,
          "yref": "y1"
         },
         {
          "align": "left",
          "font": {
           "color": "#000000"
          },
          "showarrow": false,
          "text": "137",
          "x": 1.55,
          "xanchor": "left",
          "xref": "x1",
          "y": 5,
          "yref": "y1"
         },
         {
          "align": "left",
          "font": {
           "color": "#000000"
          },
          "showarrow": false,
          "text": "47",
          "x": 2.55,
          "xanchor": "left",
          "xref": "x1",
          "y": 5,
          "yref": "y1"
         },
         {
          "align": "left",
          "font": {
           "color": "#000000"
          },
          "showarrow": false,
          "text": "Chicago",
          "x": -0.45,
          "xanchor": "left",
          "xref": "x1",
          "y": 6,
          "yref": "y1"
         },
         {
          "align": "left",
          "font": {
           "color": "#000000"
          },
          "showarrow": false,
          "text": "78",
          "x": 0.55,
          "xanchor": "left",
          "xref": "x1",
          "y": 6,
          "yref": "y1"
         },
         {
          "align": "left",
          "font": {
           "color": "#000000"
          },
          "showarrow": false,
          "text": "118",
          "x": 1.55,
          "xanchor": "left",
          "xref": "x1",
          "y": 6,
          "yref": "y1"
         },
         {
          "align": "left",
          "font": {
           "color": "#000000"
          },
          "showarrow": false,
          "text": "40",
          "x": 2.55,
          "xanchor": "left",
          "xref": "x1",
          "y": 6,
          "yref": "y1"
         },
         {
          "align": "left",
          "font": {
           "color": "#000000"
          },
          "showarrow": false,
          "text": "Georgetown",
          "x": -0.45,
          "xanchor": "left",
          "xref": "x1",
          "y": 7,
          "yref": "y1"
         },
         {
          "align": "left",
          "font": {
           "color": "#000000"
          },
          "showarrow": false,
          "text": "94",
          "x": 0.55,
          "xanchor": "left",
          "xref": "x1",
          "y": 7,
          "yref": "y1"
         },
         {
          "align": "left",
          "font": {
           "color": "#000000"
          },
          "showarrow": false,
          "text": "131",
          "x": 1.55,
          "xanchor": "left",
          "xref": "x1",
          "y": 7,
          "yref": "y1"
         },
         {
          "align": "left",
          "font": {
           "color": "#000000"
          },
          "showarrow": false,
          "text": "37",
          "x": 2.55,
          "xanchor": "left",
          "xref": "x1",
          "y": 7,
          "yref": "y1"
         },
         {
          "align": "left",
          "font": {
           "color": "#000000"
          },
          "showarrow": false,
          "text": "Tufts",
          "x": -0.45,
          "xanchor": "left",
          "xref": "x1",
          "y": 8,
          "yref": "y1"
         },
         {
          "align": "left",
          "font": {
           "color": "#000000"
          },
          "showarrow": false,
          "text": "76",
          "x": 0.55,
          "xanchor": "left",
          "xref": "x1",
          "y": 8,
          "yref": "y1"
         },
         {
          "align": "left",
          "font": {
           "color": "#000000"
          },
          "showarrow": false,
          "text": "112",
          "x": 1.55,
          "xanchor": "left",
          "xref": "x1",
          "y": 8,
          "yref": "y1"
         },
         {
          "align": "left",
          "font": {
           "color": "#000000"
          },
          "showarrow": false,
          "text": "36",
          "x": 2.55,
          "xanchor": "left",
          "xref": "x1",
          "y": 8,
          "yref": "y1"
         },
         {
          "align": "left",
          "font": {
           "color": "#000000"
          },
          "showarrow": false,
          "text": "Yale",
          "x": -0.45,
          "xanchor": "left",
          "xref": "x1",
          "y": 9,
          "yref": "y1"
         },
         {
          "align": "left",
          "font": {
           "color": "#000000"
          },
          "showarrow": false,
          "text": "79",
          "x": 0.55,
          "xanchor": "left",
          "xref": "x1",
          "y": 9,
          "yref": "y1"
         },
         {
          "align": "left",
          "font": {
           "color": "#000000"
          },
          "showarrow": false,
          "text": "114",
          "x": 1.55,
          "xanchor": "left",
          "xref": "x1",
          "y": 9,
          "yref": "y1"
         },
         {
          "align": "left",
          "font": {
           "color": "#000000"
          },
          "showarrow": false,
          "text": "35",
          "x": 2.55,
          "xanchor": "left",
          "xref": "x1",
          "y": 9,
          "yref": "y1"
         },
         {
          "align": "left",
          "font": {
           "color": "#000000"
          },
          "showarrow": false,
          "text": "Columbia",
          "x": -0.45,
          "xanchor": "left",
          "xref": "x1",
          "y": 10,
          "yref": "y1"
         },
         {
          "align": "left",
          "font": {
           "color": "#000000"
          },
          "showarrow": false,
          "text": "86",
          "x": 0.55,
          "xanchor": "left",
          "xref": "x1",
          "y": 10,
          "yref": "y1"
         },
         {
          "align": "left",
          "font": {
           "color": "#000000"
          },
          "showarrow": false,
          "text": "119",
          "x": 1.55,
          "xanchor": "left",
          "xref": "x1",
          "y": 10,
          "yref": "y1"
         },
         {
          "align": "left",
          "font": {
           "color": "#000000"
          },
          "showarrow": false,
          "text": "33",
          "x": 2.55,
          "xanchor": "left",
          "xref": "x1",
          "y": 10,
          "yref": "y1"
         },
         {
          "align": "left",
          "font": {
           "color": "#000000"
          },
          "showarrow": false,
          "text": "Duke",
          "x": -0.45,
          "xanchor": "left",
          "xref": "x1",
          "y": 11,
          "yref": "y1"
         },
         {
          "align": "left",
          "font": {
           "color": "#000000"
          },
          "showarrow": false,
          "text": "93",
          "x": 0.55,
          "xanchor": "left",
          "xref": "x1",
          "y": 11,
          "yref": "y1"
         },
         {
          "align": "left",
          "font": {
           "color": "#000000"
          },
          "showarrow": false,
          "text": "124",
          "x": 1.55,
          "xanchor": "left",
          "xref": "x1",
          "y": 11,
          "yref": "y1"
         },
         {
          "align": "left",
          "font": {
           "color": "#000000"
          },
          "showarrow": false,
          "text": "31",
          "x": 2.55,
          "xanchor": "left",
          "xref": "x1",
          "y": 11,
          "yref": "y1"
         },
         {
          "align": "left",
          "font": {
           "color": "#000000"
          },
          "showarrow": false,
          "text": "Dartmouth",
          "x": -0.45,
          "xanchor": "left",
          "xref": "x1",
          "y": 12,
          "yref": "y1"
         },
         {
          "align": "left",
          "font": {
           "color": "#000000"
          },
          "showarrow": false,
          "text": "84",
          "x": 0.55,
          "xanchor": "left",
          "xref": "x1",
          "y": 12,
          "yref": "y1"
         },
         {
          "align": "left",
          "font": {
           "color": "#000000"
          },
          "showarrow": false,
          "text": "114",
          "x": 1.55,
          "xanchor": "left",
          "xref": "x1",
          "y": 12,
          "yref": "y1"
         },
         {
          "align": "left",
          "font": {
           "color": "#000000"
          },
          "showarrow": false,
          "text": "30",
          "x": 2.55,
          "xanchor": "left",
          "xref": "x1",
          "y": 12,
          "yref": "y1"
         },
         {
          "align": "left",
          "font": {
           "color": "#000000"
          },
          "showarrow": false,
          "text": "NYU",
          "x": -0.45,
          "xanchor": "left",
          "xref": "x1",
          "y": 13,
          "yref": "y1"
         },
         {
          "align": "left",
          "font": {
           "color": "#000000"
          },
          "showarrow": false,
          "text": "67",
          "x": 0.55,
          "xanchor": "left",
          "xref": "x1",
          "y": 13,
          "yref": "y1"
         },
         {
          "align": "left",
          "font": {
           "color": "#000000"
          },
          "showarrow": false,
          "text": "94",
          "x": 1.55,
          "xanchor": "left",
          "xref": "x1",
          "y": 13,
          "yref": "y1"
         },
         {
          "align": "left",
          "font": {
           "color": "#000000"
          },
          "showarrow": false,
          "text": "27",
          "x": 2.55,
          "xanchor": "left",
          "xref": "x1",
          "y": 13,
          "yref": "y1"
         },
         {
          "align": "left",
          "font": {
           "color": "#000000"
          },
          "showarrow": false,
          "text": "Notre Dame",
          "x": -0.45,
          "xanchor": "left",
          "xref": "x1",
          "y": 14,
          "yref": "y1"
         },
         {
          "align": "left",
          "font": {
           "color": "#000000"
          },
          "showarrow": false,
          "text": "73",
          "x": 0.55,
          "xanchor": "left",
          "xref": "x1",
          "y": 14,
          "yref": "y1"
         },
         {
          "align": "left",
          "font": {
           "color": "#000000"
          },
          "showarrow": false,
          "text": "100",
          "x": 1.55,
          "xanchor": "left",
          "xref": "x1",
          "y": 14,
          "yref": "y1"
         },
         {
          "align": "left",
          "font": {
           "color": "#000000"
          },
          "showarrow": false,
          "text": "27",
          "x": 2.55,
          "xanchor": "left",
          "xref": "x1",
          "y": 14,
          "yref": "y1"
         },
         {
          "align": "left",
          "font": {
           "color": "#000000"
          },
          "showarrow": false,
          "text": "Cornell",
          "x": -0.45,
          "xanchor": "left",
          "xref": "x1",
          "y": 15,
          "yref": "y1"
         },
         {
          "align": "left",
          "font": {
           "color": "#000000"
          },
          "showarrow": false,
          "text": "80",
          "x": 0.55,
          "xanchor": "left",
          "xref": "x1",
          "y": 15,
          "yref": "y1"
         },
         {
          "align": "left",
          "font": {
           "color": "#000000"
          },
          "showarrow": false,
          "text": "107",
          "x": 1.55,
          "xanchor": "left",
          "xref": "x1",
          "y": 15,
          "yref": "y1"
         },
         {
          "align": "left",
          "font": {
           "color": "#000000"
          },
          "showarrow": false,
          "text": "27",
          "x": 2.55,
          "xanchor": "left",
          "xref": "x1",
          "y": 15,
          "yref": "y1"
         },
         {
          "align": "left",
          "font": {
           "color": "#000000"
          },
          "showarrow": false,
          "text": "Michigan",
          "x": -0.45,
          "xanchor": "left",
          "xref": "x1",
          "y": 16,
          "yref": "y1"
         },
         {
          "align": "left",
          "font": {
           "color": "#000000"
          },
          "showarrow": false,
          "text": "62",
          "x": 0.55,
          "xanchor": "left",
          "xref": "x1",
          "y": 16,
          "yref": "y1"
         },
         {
          "align": "left",
          "font": {
           "color": "#000000"
          },
          "showarrow": false,
          "text": "84",
          "x": 1.55,
          "xanchor": "left",
          "xref": "x1",
          "y": 16,
          "yref": "y1"
         },
         {
          "align": "left",
          "font": {
           "color": "#000000"
          },
          "showarrow": false,
          "text": "22",
          "x": 2.55,
          "xanchor": "left",
          "xref": "x1",
          "y": 16,
          "yref": "y1"
         },
         {
          "align": "left",
          "font": {
           "color": "#000000"
          },
          "showarrow": false,
          "text": "Brown",
          "x": -0.45,
          "xanchor": "left",
          "xref": "x1",
          "y": 17,
          "yref": "y1"
         },
         {
          "align": "left",
          "font": {
           "color": "#000000"
          },
          "showarrow": false,
          "text": "72",
          "x": 0.55,
          "xanchor": "left",
          "xref": "x1",
          "y": 17,
          "yref": "y1"
         },
         {
          "align": "left",
          "font": {
           "color": "#000000"
          },
          "showarrow": false,
          "text": "92",
          "x": 1.55,
          "xanchor": "left",
          "xref": "x1",
          "y": 17,
          "yref": "y1"
         },
         {
          "align": "left",
          "font": {
           "color": "#000000"
          },
          "showarrow": false,
          "text": "20",
          "x": 2.55,
          "xanchor": "left",
          "xref": "x1",
          "y": 17,
          "yref": "y1"
         },
         {
          "align": "left",
          "font": {
           "color": "#000000"
          },
          "showarrow": false,
          "text": "Berkeley",
          "x": -0.45,
          "xanchor": "left",
          "xref": "x1",
          "y": 18,
          "yref": "y1"
         },
         {
          "align": "left",
          "font": {
           "color": "#000000"
          },
          "showarrow": false,
          "text": "71",
          "x": 0.55,
          "xanchor": "left",
          "xref": "x1",
          "y": 18,
          "yref": "y1"
         },
         {
          "align": "left",
          "font": {
           "color": "#000000"
          },
          "showarrow": false,
          "text": "88",
          "x": 1.55,
          "xanchor": "left",
          "xref": "x1",
          "y": 18,
          "yref": "y1"
         },
         {
          "align": "left",
          "font": {
           "color": "#000000"
          },
          "showarrow": false,
          "text": "17",
          "x": 2.55,
          "xanchor": "left",
          "xref": "x1",
          "y": 18,
          "yref": "y1"
         },
         {
          "align": "left",
          "font": {
           "color": "#000000"
          },
          "showarrow": false,
          "text": "Emory",
          "x": -0.45,
          "xanchor": "left",
          "xref": "x1",
          "y": 19,
          "yref": "y1"
         },
         {
          "align": "left",
          "font": {
           "color": "#000000"
          },
          "showarrow": false,
          "text": "68",
          "x": 0.55,
          "xanchor": "left",
          "xref": "x1",
          "y": 19,
          "yref": "y1"
         },
         {
          "align": "left",
          "font": {
           "color": "#000000"
          },
          "showarrow": false,
          "text": "82",
          "x": 1.55,
          "xanchor": "left",
          "xref": "x1",
          "y": 19,
          "yref": "y1"
         },
         {
          "align": "left",
          "font": {
           "color": "#000000"
          },
          "showarrow": false,
          "text": "14",
          "x": 2.55,
          "xanchor": "left",
          "xref": "x1",
          "y": 19,
          "yref": "y1"
         },
         {
          "align": "left",
          "font": {
           "color": "#000000"
          },
          "showarrow": false,
          "text": "UCLA",
          "x": -0.45,
          "xanchor": "left",
          "xref": "x1",
          "y": 20,
          "yref": "y1"
         },
         {
          "align": "left",
          "font": {
           "color": "#000000"
          },
          "showarrow": false,
          "text": "64",
          "x": 0.55,
          "xanchor": "left",
          "xref": "x1",
          "y": 20,
          "yref": "y1"
         },
         {
          "align": "left",
          "font": {
           "color": "#000000"
          },
          "showarrow": false,
          "text": "78",
          "x": 1.55,
          "xanchor": "left",
          "xref": "x1",
          "y": 20,
          "yref": "y1"
         },
         {
          "align": "left",
          "font": {
           "color": "#000000"
          },
          "showarrow": false,
          "text": "14",
          "x": 2.55,
          "xanchor": "left",
          "xref": "x1",
          "y": 20,
          "yref": "y1"
         },
         {
          "align": "left",
          "font": {
           "color": "#000000"
          },
          "showarrow": false,
          "text": "SoCal",
          "x": -0.45,
          "xanchor": "left",
          "xref": "x1",
          "y": 21,
          "yref": "y1"
         },
         {
          "align": "left",
          "font": {
           "color": "#000000"
          },
          "showarrow": false,
          "text": "72",
          "x": 0.55,
          "xanchor": "left",
          "xref": "x1",
          "y": 21,
          "yref": "y1"
         },
         {
          "align": "left",
          "font": {
           "color": "#000000"
          },
          "showarrow": false,
          "text": "81",
          "x": 1.55,
          "xanchor": "left",
          "xref": "x1",
          "y": 21,
          "yref": "y1"
         },
         {
          "align": "left",
          "font": {
           "color": "#000000"
          },
          "showarrow": false,
          "text": "9",
          "x": 2.55,
          "xanchor": "left",
          "xref": "x1",
          "y": 21,
          "yref": "y1"
         }
        ],
        "height": 710,
        "margin": {
         "b": 0,
         "l": 0,
         "r": 0,
         "t": 0
        },
        "xaxis": {
         "dtick": 1,
         "gridwidth": 2,
         "showticklabels": false,
         "tick0": -0.5,
         "ticks": "",
         "zeroline": false
        },
        "yaxis": {
         "autorange": "reversed",
         "dtick": 1,
         "gridwidth": 2,
         "showticklabels": false,
         "tick0": 0.5,
         "ticks": "",
         "zeroline": false
        }
       }
      },
      "text/html": [
       "<div id=\"852ec79e-e183-4f77-a825-bc93ff828d44\" style=\"height: 710px; width: 100%;\" class=\"plotly-graph-div\"></div><script type=\"text/javascript\">require([\"plotly\"], function(Plotly) { window.PLOTLYENV=window.PLOTLYENV || {};window.PLOTLYENV.BASE_URL=\"https://plot.ly\";Plotly.newPlot(\"852ec79e-e183-4f77-a825-bc93ff828d44\", [{\"type\": \"heatmap\", \"z\": [[0, 0, 0, 0], [0.5, 0.5, 0.5, 0.5], [1, 1, 1, 1], [0.5, 0.5, 0.5, 0.5], [1, 1, 1, 1], [0.5, 0.5, 0.5, 0.5], [1, 1, 1, 1], [0.5, 0.5, 0.5, 0.5], [1, 1, 1, 1], [0.5, 0.5, 0.5, 0.5], [1, 1, 1, 1], [0.5, 0.5, 0.5, 0.5], [1, 1, 1, 1], [0.5, 0.5, 0.5, 0.5], [1, 1, 1, 1], [0.5, 0.5, 0.5, 0.5], [1, 1, 1, 1], [0.5, 0.5, 0.5, 0.5], [1, 1, 1, 1], [0.5, 0.5, 0.5, 0.5], [1, 1, 1, 1], [0.5, 0.5, 0.5, 0.5]], \"opacity\": 0.75, \"colorscale\": [[0, \"#00083e\"], [0.5, \"#ededee\"], [1, \"#ffffff\"]], \"showscale\": false, \"hoverinfo\": \"none\"}], {\"annotations\": [{\"text\": \"<b>School</b>\", \"x\": -0.45, \"y\": 0, \"xref\": \"x1\", \"yref\": \"y1\", \"align\": \"left\", \"xanchor\": \"left\", \"font\": {\"color\": \"#ffffff\"}, \"showarrow\": false}, {\"text\": \"<b>Women</b>\", \"x\": 0.55, \"y\": 0, \"xref\": \"x1\", \"yref\": \"y1\", \"align\": \"left\", \"xanchor\": \"left\", \"font\": {\"color\": \"#ffffff\"}, \"showarrow\": false}, {\"text\": \"<b>Men</b>\", \"x\": 1.55, \"y\": 0, \"xref\": \"x1\", \"yref\": \"y1\", \"align\": \"left\", \"xanchor\": \"left\", \"font\": {\"color\": \"#ffffff\"}, \"showarrow\": false}, {\"text\": \"<b>Gap</b>\", \"x\": 2.55, \"y\": 0, \"xref\": \"x1\", \"yref\": \"y1\", \"align\": \"left\", \"xanchor\": \"left\", \"font\": {\"color\": \"#ffffff\"}, \"showarrow\": false}, {\"text\": \"MIT\", \"x\": -0.45, \"y\": 1, \"xref\": \"x1\", \"yref\": \"y1\", \"align\": \"left\", \"xanchor\": \"left\", \"font\": {\"color\": \"#000000\"}, \"showarrow\": false}, {\"text\": \"94\", \"x\": 0.55, \"y\": 1, \"xref\": \"x1\", \"yref\": \"y1\", \"align\": \"left\", \"xanchor\": \"left\", \"font\": {\"color\": \"#000000\"}, \"showarrow\": false}, {\"text\": \"152\", \"x\": 1.55, \"y\": 1, \"xref\": \"x1\", \"yref\": \"y1\", \"align\": \"left\", \"xanchor\": \"left\", \"font\": {\"color\": \"#000000\"}, \"showarrow\": false}, {\"text\": \"58\", \"x\": 2.55, \"y\": 1, \"xref\": \"x1\", \"yref\": \"y1\", \"align\": \"left\", \"xanchor\": \"left\", \"font\": {\"color\": \"#000000\"}, \"showarrow\": false}, {\"text\": \"Stanford\", \"x\": -0.45, \"y\": 2, \"xref\": \"x1\", \"yref\": \"y1\", \"align\": \"left\", \"xanchor\": \"left\", \"font\": {\"color\": \"#000000\"}, \"showarrow\": false}, {\"text\": \"96\", \"x\": 0.55, \"y\": 2, \"xref\": \"x1\", \"yref\": \"y1\", \"align\": \"left\", \"xanchor\": \"left\", \"font\": {\"color\": \"#000000\"}, \"showarrow\": false}, {\"text\": \"151\", \"x\": 1.55, \"y\": 2, \"xref\": \"x1\", \"yref\": \"y1\", \"align\": \"left\", \"xanchor\": \"left\", \"font\": {\"color\": \"#000000\"}, \"showarrow\": false}, {\"text\": \"55\", \"x\": 2.55, \"y\": 2, \"xref\": \"x1\", \"yref\": \"y1\", \"align\": \"left\", \"xanchor\": \"left\", \"font\": {\"color\": \"#000000\"}, \"showarrow\": false}, {\"text\": \"Harvard\", \"x\": -0.45, \"y\": 3, \"xref\": \"x1\", \"yref\": \"y1\", \"align\": \"left\", \"xanchor\": \"left\", \"font\": {\"color\": \"#000000\"}, \"showarrow\": false}, {\"text\": \"112\", \"x\": 0.55, \"y\": 3, \"xref\": \"x1\", \"yref\": \"y1\", \"align\": \"left\", \"xanchor\": \"left\", \"font\": {\"color\": \"#000000\"}, \"showarrow\": false}, {\"text\": \"165\", \"x\": 1.55, \"y\": 3, \"xref\": \"x1\", \"yref\": \"y1\", \"align\": \"left\", \"xanchor\": \"left\", \"font\": {\"color\": \"#000000\"}, \"showarrow\": false}, {\"text\": \"53\", \"x\": 2.55, \"y\": 3, \"xref\": \"x1\", \"yref\": \"y1\", \"align\": \"left\", \"xanchor\": \"left\", \"font\": {\"color\": \"#000000\"}, \"showarrow\": false}, {\"text\": \"U.Penn\", \"x\": -0.45, \"y\": 4, \"xref\": \"x1\", \"yref\": \"y1\", \"align\": \"left\", \"xanchor\": \"left\", \"font\": {\"color\": \"#000000\"}, \"showarrow\": false}, {\"text\": \"92\", \"x\": 0.55, \"y\": 4, \"xref\": \"x1\", \"yref\": \"y1\", \"align\": \"left\", \"xanchor\": \"left\", \"font\": {\"color\": \"#000000\"}, \"showarrow\": false}, {\"text\": \"141\", \"x\": 1.55, \"y\": 4, \"xref\": \"x1\", \"yref\": \"y1\", \"align\": \"left\", \"xanchor\": \"left\", \"font\": {\"color\": \"#000000\"}, \"showarrow\": false}, {\"text\": \"49\", \"x\": 2.55, \"y\": 4, \"xref\": \"x1\", \"yref\": \"y1\", \"align\": \"left\", \"xanchor\": \"left\", \"font\": {\"color\": \"#000000\"}, \"showarrow\": false}, {\"text\": \"Princeton\", \"x\": -0.45, \"y\": 5, \"xref\": \"x1\", \"yref\": \"y1\", \"align\": \"left\", \"xanchor\": \"left\", \"font\": {\"color\": \"#000000\"}, \"showarrow\": false}, {\"text\": \"90\", \"x\": 0.55, \"y\": 5, \"xref\": \"x1\", \"yref\": \"y1\", \"align\": \"left\", \"xanchor\": \"left\", \"font\": {\"color\": \"#000000\"}, \"showarrow\": false}, {\"text\": \"137\", \"x\": 1.55, \"y\": 5, \"xref\": \"x1\", \"yref\": \"y1\", \"align\": \"left\", \"xanchor\": \"left\", \"font\": {\"color\": \"#000000\"}, \"showarrow\": false}, {\"text\": \"47\", \"x\": 2.55, \"y\": 5, \"xref\": \"x1\", \"yref\": \"y1\", \"align\": \"left\", \"xanchor\": \"left\", \"font\": {\"color\": \"#000000\"}, \"showarrow\": false}, {\"text\": \"Chicago\", \"x\": -0.45, \"y\": 6, \"xref\": \"x1\", \"yref\": \"y1\", \"align\": \"left\", \"xanchor\": \"left\", \"font\": {\"color\": \"#000000\"}, \"showarrow\": false}, {\"text\": \"78\", \"x\": 0.55, \"y\": 6, \"xref\": \"x1\", \"yref\": \"y1\", \"align\": \"left\", \"xanchor\": \"left\", \"font\": {\"color\": \"#000000\"}, \"showarrow\": false}, {\"text\": \"118\", \"x\": 1.55, \"y\": 6, \"xref\": \"x1\", \"yref\": \"y1\", \"align\": \"left\", \"xanchor\": \"left\", \"font\": {\"color\": \"#000000\"}, \"showarrow\": false}, {\"text\": \"40\", \"x\": 2.55, \"y\": 6, \"xref\": \"x1\", \"yref\": \"y1\", \"align\": \"left\", \"xanchor\": \"left\", \"font\": {\"color\": \"#000000\"}, \"showarrow\": false}, {\"text\": \"Georgetown\", \"x\": -0.45, \"y\": 7, \"xref\": \"x1\", \"yref\": \"y1\", \"align\": \"left\", \"xanchor\": \"left\", \"font\": {\"color\": \"#000000\"}, \"showarrow\": false}, {\"text\": \"94\", \"x\": 0.55, \"y\": 7, \"xref\": \"x1\", \"yref\": \"y1\", \"align\": \"left\", \"xanchor\": \"left\", \"font\": {\"color\": \"#000000\"}, \"showarrow\": false}, {\"text\": \"131\", \"x\": 1.55, \"y\": 7, \"xref\": \"x1\", \"yref\": \"y1\", \"align\": \"left\", \"xanchor\": \"left\", \"font\": {\"color\": \"#000000\"}, \"showarrow\": false}, {\"text\": \"37\", \"x\": 2.55, \"y\": 7, \"xref\": \"x1\", \"yref\": \"y1\", \"align\": \"left\", \"xanchor\": \"left\", \"font\": {\"color\": \"#000000\"}, \"showarrow\": false}, {\"text\": \"Tufts\", \"x\": -0.45, \"y\": 8, \"xref\": \"x1\", \"yref\": \"y1\", \"align\": \"left\", \"xanchor\": \"left\", \"font\": {\"color\": \"#000000\"}, \"showarrow\": false}, {\"text\": \"76\", \"x\": 0.55, \"y\": 8, \"xref\": \"x1\", \"yref\": \"y1\", \"align\": \"left\", \"xanchor\": \"left\", \"font\": {\"color\": \"#000000\"}, \"showarrow\": false}, {\"text\": \"112\", \"x\": 1.55, \"y\": 8, \"xref\": \"x1\", \"yref\": \"y1\", \"align\": \"left\", \"xanchor\": \"left\", \"font\": {\"color\": \"#000000\"}, \"showarrow\": false}, {\"text\": \"36\", \"x\": 2.55, \"y\": 8, \"xref\": \"x1\", \"yref\": \"y1\", \"align\": \"left\", \"xanchor\": \"left\", \"font\": {\"color\": \"#000000\"}, \"showarrow\": false}, {\"text\": \"Yale\", \"x\": -0.45, \"y\": 9, \"xref\": \"x1\", \"yref\": \"y1\", \"align\": \"left\", \"xanchor\": \"left\", \"font\": {\"color\": \"#000000\"}, \"showarrow\": false}, {\"text\": \"79\", \"x\": 0.55, \"y\": 9, \"xref\": \"x1\", \"yref\": \"y1\", \"align\": \"left\", \"xanchor\": \"left\", \"font\": {\"color\": \"#000000\"}, \"showarrow\": false}, {\"text\": \"114\", \"x\": 1.55, \"y\": 9, \"xref\": \"x1\", \"yref\": \"y1\", \"align\": \"left\", \"xanchor\": \"left\", \"font\": {\"color\": \"#000000\"}, \"showarrow\": false}, {\"text\": \"35\", \"x\": 2.55, \"y\": 9, \"xref\": \"x1\", \"yref\": \"y1\", \"align\": \"left\", \"xanchor\": \"left\", \"font\": {\"color\": \"#000000\"}, \"showarrow\": false}, {\"text\": \"Columbia\", \"x\": -0.45, \"y\": 10, \"xref\": \"x1\", \"yref\": \"y1\", \"align\": \"left\", \"xanchor\": \"left\", \"font\": {\"color\": \"#000000\"}, \"showarrow\": false}, {\"text\": \"86\", \"x\": 0.55, \"y\": 10, \"xref\": \"x1\", \"yref\": \"y1\", \"align\": \"left\", \"xanchor\": \"left\", \"font\": {\"color\": \"#000000\"}, \"showarrow\": false}, {\"text\": \"119\", \"x\": 1.55, \"y\": 10, \"xref\": \"x1\", \"yref\": \"y1\", \"align\": \"left\", \"xanchor\": \"left\", \"font\": {\"color\": \"#000000\"}, \"showarrow\": false}, {\"text\": \"33\", \"x\": 2.55, \"y\": 10, \"xref\": \"x1\", \"yref\": \"y1\", \"align\": \"left\", \"xanchor\": \"left\", \"font\": {\"color\": \"#000000\"}, \"showarrow\": false}, {\"text\": \"Duke\", \"x\": -0.45, \"y\": 11, \"xref\": \"x1\", \"yref\": \"y1\", \"align\": \"left\", \"xanchor\": \"left\", \"font\": {\"color\": \"#000000\"}, \"showarrow\": false}, {\"text\": \"93\", \"x\": 0.55, \"y\": 11, \"xref\": \"x1\", \"yref\": \"y1\", \"align\": \"left\", \"xanchor\": \"left\", \"font\": {\"color\": \"#000000\"}, \"showarrow\": false}, {\"text\": \"124\", \"x\": 1.55, \"y\": 11, \"xref\": \"x1\", \"yref\": \"y1\", \"align\": \"left\", \"xanchor\": \"left\", \"font\": {\"color\": \"#000000\"}, \"showarrow\": false}, {\"text\": \"31\", \"x\": 2.55, \"y\": 11, \"xref\": \"x1\", \"yref\": \"y1\", \"align\": \"left\", \"xanchor\": \"left\", \"font\": {\"color\": \"#000000\"}, \"showarrow\": false}, {\"text\": \"Dartmouth\", \"x\": -0.45, \"y\": 12, \"xref\": \"x1\", \"yref\": \"y1\", \"align\": \"left\", \"xanchor\": \"left\", \"font\": {\"color\": \"#000000\"}, \"showarrow\": false}, {\"text\": \"84\", \"x\": 0.55, \"y\": 12, \"xref\": \"x1\", \"yref\": \"y1\", \"align\": \"left\", \"xanchor\": \"left\", \"font\": {\"color\": \"#000000\"}, \"showarrow\": false}, {\"text\": \"114\", \"x\": 1.55, \"y\": 12, \"xref\": \"x1\", \"yref\": \"y1\", \"align\": \"left\", \"xanchor\": \"left\", \"font\": {\"color\": \"#000000\"}, \"showarrow\": false}, {\"text\": \"30\", \"x\": 2.55, \"y\": 12, \"xref\": \"x1\", \"yref\": \"y1\", \"align\": \"left\", \"xanchor\": \"left\", \"font\": {\"color\": \"#000000\"}, \"showarrow\": false}, {\"text\": \"NYU\", \"x\": -0.45, \"y\": 13, \"xref\": \"x1\", \"yref\": \"y1\", \"align\": \"left\", \"xanchor\": \"left\", \"font\": {\"color\": \"#000000\"}, \"showarrow\": false}, {\"text\": \"67\", \"x\": 0.55, \"y\": 13, \"xref\": \"x1\", \"yref\": \"y1\", \"align\": \"left\", \"xanchor\": \"left\", \"font\": {\"color\": \"#000000\"}, \"showarrow\": false}, {\"text\": \"94\", \"x\": 1.55, \"y\": 13, \"xref\": \"x1\", \"yref\": \"y1\", \"align\": \"left\", \"xanchor\": \"left\", \"font\": {\"color\": \"#000000\"}, \"showarrow\": false}, {\"text\": \"27\", \"x\": 2.55, \"y\": 13, \"xref\": \"x1\", \"yref\": \"y1\", \"align\": \"left\", \"xanchor\": \"left\", \"font\": {\"color\": \"#000000\"}, \"showarrow\": false}, {\"text\": \"Notre Dame\", \"x\": -0.45, \"y\": 14, \"xref\": \"x1\", \"yref\": \"y1\", \"align\": \"left\", \"xanchor\": \"left\", \"font\": {\"color\": \"#000000\"}, \"showarrow\": false}, {\"text\": \"73\", \"x\": 0.55, \"y\": 14, \"xref\": \"x1\", \"yref\": \"y1\", \"align\": \"left\", \"xanchor\": \"left\", \"font\": {\"color\": \"#000000\"}, \"showarrow\": false}, {\"text\": \"100\", \"x\": 1.55, \"y\": 14, \"xref\": \"x1\", \"yref\": \"y1\", \"align\": \"left\", \"xanchor\": \"left\", \"font\": {\"color\": \"#000000\"}, \"showarrow\": false}, {\"text\": \"27\", \"x\": 2.55, \"y\": 14, \"xref\": \"x1\", \"yref\": \"y1\", \"align\": \"left\", \"xanchor\": \"left\", \"font\": {\"color\": \"#000000\"}, \"showarrow\": false}, {\"text\": \"Cornell\", \"x\": -0.45, \"y\": 15, \"xref\": \"x1\", \"yref\": \"y1\", \"align\": \"left\", \"xanchor\": \"left\", \"font\": {\"color\": \"#000000\"}, \"showarrow\": false}, {\"text\": \"80\", \"x\": 0.55, \"y\": 15, \"xref\": \"x1\", \"yref\": \"y1\", \"align\": \"left\", \"xanchor\": \"left\", \"font\": {\"color\": \"#000000\"}, \"showarrow\": false}, {\"text\": \"107\", \"x\": 1.55, \"y\": 15, \"xref\": \"x1\", \"yref\": \"y1\", \"align\": \"left\", \"xanchor\": \"left\", \"font\": {\"color\": \"#000000\"}, \"showarrow\": false}, {\"text\": \"27\", \"x\": 2.55, \"y\": 15, \"xref\": \"x1\", \"yref\": \"y1\", \"align\": \"left\", \"xanchor\": \"left\", \"font\": {\"color\": \"#000000\"}, \"showarrow\": false}, {\"text\": \"Michigan\", \"x\": -0.45, \"y\": 16, \"xref\": \"x1\", \"yref\": \"y1\", \"align\": \"left\", \"xanchor\": \"left\", \"font\": {\"color\": \"#000000\"}, \"showarrow\": false}, {\"text\": \"62\", \"x\": 0.55, \"y\": 16, \"xref\": \"x1\", \"yref\": \"y1\", \"align\": \"left\", \"xanchor\": \"left\", \"font\": {\"color\": \"#000000\"}, \"showarrow\": false}, {\"text\": \"84\", \"x\": 1.55, \"y\": 16, \"xref\": \"x1\", \"yref\": \"y1\", \"align\": \"left\", \"xanchor\": \"left\", \"font\": {\"color\": \"#000000\"}, \"showarrow\": false}, {\"text\": \"22\", \"x\": 2.55, \"y\": 16, \"xref\": \"x1\", \"yref\": \"y1\", \"align\": \"left\", \"xanchor\": \"left\", \"font\": {\"color\": \"#000000\"}, \"showarrow\": false}, {\"text\": \"Brown\", \"x\": -0.45, \"y\": 17, \"xref\": \"x1\", \"yref\": \"y1\", \"align\": \"left\", \"xanchor\": \"left\", \"font\": {\"color\": \"#000000\"}, \"showarrow\": false}, {\"text\": \"72\", \"x\": 0.55, \"y\": 17, \"xref\": \"x1\", \"yref\": \"y1\", \"align\": \"left\", \"xanchor\": \"left\", \"font\": {\"color\": \"#000000\"}, \"showarrow\": false}, {\"text\": \"92\", \"x\": 1.55, \"y\": 17, \"xref\": \"x1\", \"yref\": \"y1\", \"align\": \"left\", \"xanchor\": \"left\", \"font\": {\"color\": \"#000000\"}, \"showarrow\": false}, {\"text\": \"20\", \"x\": 2.55, \"y\": 17, \"xref\": \"x1\", \"yref\": \"y1\", \"align\": \"left\", \"xanchor\": \"left\", \"font\": {\"color\": \"#000000\"}, \"showarrow\": false}, {\"text\": \"Berkeley\", \"x\": -0.45, \"y\": 18, \"xref\": \"x1\", \"yref\": \"y1\", \"align\": \"left\", \"xanchor\": \"left\", \"font\": {\"color\": \"#000000\"}, \"showarrow\": false}, {\"text\": \"71\", \"x\": 0.55, \"y\": 18, \"xref\": \"x1\", \"yref\": \"y1\", \"align\": \"left\", \"xanchor\": \"left\", \"font\": {\"color\": \"#000000\"}, \"showarrow\": false}, {\"text\": \"88\", \"x\": 1.55, \"y\": 18, \"xref\": \"x1\", \"yref\": \"y1\", \"align\": \"left\", \"xanchor\": \"left\", \"font\": {\"color\": \"#000000\"}, \"showarrow\": false}, {\"text\": \"17\", \"x\": 2.55, \"y\": 18, \"xref\": \"x1\", \"yref\": \"y1\", \"align\": \"left\", \"xanchor\": \"left\", \"font\": {\"color\": \"#000000\"}, \"showarrow\": false}, {\"text\": \"Emory\", \"x\": -0.45, \"y\": 19, \"xref\": \"x1\", \"yref\": \"y1\", \"align\": \"left\", \"xanchor\": \"left\", \"font\": {\"color\": \"#000000\"}, \"showarrow\": false}, {\"text\": \"68\", \"x\": 0.55, \"y\": 19, \"xref\": \"x1\", \"yref\": \"y1\", \"align\": \"left\", \"xanchor\": \"left\", \"font\": {\"color\": \"#000000\"}, \"showarrow\": false}, {\"text\": \"82\", \"x\": 1.55, \"y\": 19, \"xref\": \"x1\", \"yref\": \"y1\", \"align\": \"left\", \"xanchor\": \"left\", \"font\": {\"color\": \"#000000\"}, \"showarrow\": false}, {\"text\": \"14\", \"x\": 2.55, \"y\": 19, \"xref\": \"x1\", \"yref\": \"y1\", \"align\": \"left\", \"xanchor\": \"left\", \"font\": {\"color\": \"#000000\"}, \"showarrow\": false}, {\"text\": \"UCLA\", \"x\": -0.45, \"y\": 20, \"xref\": \"x1\", \"yref\": \"y1\", \"align\": \"left\", \"xanchor\": \"left\", \"font\": {\"color\": \"#000000\"}, \"showarrow\": false}, {\"text\": \"64\", \"x\": 0.55, \"y\": 20, \"xref\": \"x1\", \"yref\": \"y1\", \"align\": \"left\", \"xanchor\": \"left\", \"font\": {\"color\": \"#000000\"}, \"showarrow\": false}, {\"text\": \"78\", \"x\": 1.55, \"y\": 20, \"xref\": \"x1\", \"yref\": \"y1\", \"align\": \"left\", \"xanchor\": \"left\", \"font\": {\"color\": \"#000000\"}, \"showarrow\": false}, {\"text\": \"14\", \"x\": 2.55, \"y\": 20, \"xref\": \"x1\", \"yref\": \"y1\", \"align\": \"left\", \"xanchor\": \"left\", \"font\": {\"color\": \"#000000\"}, \"showarrow\": false}, {\"text\": \"SoCal\", \"x\": -0.45, \"y\": 21, \"xref\": \"x1\", \"yref\": \"y1\", \"align\": \"left\", \"xanchor\": \"left\", \"font\": {\"color\": \"#000000\"}, \"showarrow\": false}, {\"text\": \"72\", \"x\": 0.55, \"y\": 21, \"xref\": \"x1\", \"yref\": \"y1\", \"align\": \"left\", \"xanchor\": \"left\", \"font\": {\"color\": \"#000000\"}, \"showarrow\": false}, {\"text\": \"81\", \"x\": 1.55, \"y\": 21, \"xref\": \"x1\", \"yref\": \"y1\", \"align\": \"left\", \"xanchor\": \"left\", \"font\": {\"color\": \"#000000\"}, \"showarrow\": false}, {\"text\": \"9\", \"x\": 2.55, \"y\": 21, \"xref\": \"x1\", \"yref\": \"y1\", \"align\": \"left\", \"xanchor\": \"left\", \"font\": {\"color\": \"#000000\"}, \"showarrow\": false}], \"height\": 710, \"margin\": {\"t\": 0, \"b\": 0, \"r\": 0, \"l\": 0}, \"yaxis\": {\"autorange\": \"reversed\", \"zeroline\": false, \"gridwidth\": 2, \"ticks\": \"\", \"dtick\": 1, \"tick0\": 0.5, \"showticklabels\": false}, \"xaxis\": {\"zeroline\": false, \"gridwidth\": 2, \"ticks\": \"\", \"dtick\": 1, \"tick0\": -0.5, \"showticklabels\": false}}, {\"showLink\": true, \"linkText\": \"Export to plot.ly\"})});</script>"
      ],
      "text/vnd.plotly.v1+html": [
       "<div id=\"852ec79e-e183-4f77-a825-bc93ff828d44\" style=\"height: 710px; width: 100%;\" class=\"plotly-graph-div\"></div><script type=\"text/javascript\">require([\"plotly\"], function(Plotly) { window.PLOTLYENV=window.PLOTLYENV || {};window.PLOTLYENV.BASE_URL=\"https://plot.ly\";Plotly.newPlot(\"852ec79e-e183-4f77-a825-bc93ff828d44\", [{\"type\": \"heatmap\", \"z\": [[0, 0, 0, 0], [0.5, 0.5, 0.5, 0.5], [1, 1, 1, 1], [0.5, 0.5, 0.5, 0.5], [1, 1, 1, 1], [0.5, 0.5, 0.5, 0.5], [1, 1, 1, 1], [0.5, 0.5, 0.5, 0.5], [1, 1, 1, 1], [0.5, 0.5, 0.5, 0.5], [1, 1, 1, 1], [0.5, 0.5, 0.5, 0.5], [1, 1, 1, 1], [0.5, 0.5, 0.5, 0.5], [1, 1, 1, 1], [0.5, 0.5, 0.5, 0.5], [1, 1, 1, 1], [0.5, 0.5, 0.5, 0.5], [1, 1, 1, 1], [0.5, 0.5, 0.5, 0.5], [1, 1, 1, 1], [0.5, 0.5, 0.5, 0.5]], \"opacity\": 0.75, \"colorscale\": [[0, \"#00083e\"], [0.5, \"#ededee\"], [1, \"#ffffff\"]], \"showscale\": false, \"hoverinfo\": \"none\"}], {\"annotations\": [{\"text\": \"<b>School</b>\", \"x\": -0.45, \"y\": 0, \"xref\": \"x1\", \"yref\": \"y1\", \"align\": \"left\", \"xanchor\": \"left\", \"font\": {\"color\": \"#ffffff\"}, \"showarrow\": false}, {\"text\": \"<b>Women</b>\", \"x\": 0.55, \"y\": 0, \"xref\": \"x1\", \"yref\": \"y1\", \"align\": \"left\", \"xanchor\": \"left\", \"font\": {\"color\": \"#ffffff\"}, \"showarrow\": false}, {\"text\": \"<b>Men</b>\", \"x\": 1.55, \"y\": 0, \"xref\": \"x1\", \"yref\": \"y1\", \"align\": \"left\", \"xanchor\": \"left\", \"font\": {\"color\": \"#ffffff\"}, \"showarrow\": false}, {\"text\": \"<b>Gap</b>\", \"x\": 2.55, \"y\": 0, \"xref\": \"x1\", \"yref\": \"y1\", \"align\": \"left\", \"xanchor\": \"left\", \"font\": {\"color\": \"#ffffff\"}, \"showarrow\": false}, {\"text\": \"MIT\", \"x\": -0.45, \"y\": 1, \"xref\": \"x1\", \"yref\": \"y1\", \"align\": \"left\", \"xanchor\": \"left\", \"font\": {\"color\": \"#000000\"}, \"showarrow\": false}, {\"text\": \"94\", \"x\": 0.55, \"y\": 1, \"xref\": \"x1\", \"yref\": \"y1\", \"align\": \"left\", \"xanchor\": \"left\", \"font\": {\"color\": \"#000000\"}, \"showarrow\": false}, {\"text\": \"152\", \"x\": 1.55, \"y\": 1, \"xref\": \"x1\", \"yref\": \"y1\", \"align\": \"left\", \"xanchor\": \"left\", \"font\": {\"color\": \"#000000\"}, \"showarrow\": false}, {\"text\": \"58\", \"x\": 2.55, \"y\": 1, \"xref\": \"x1\", \"yref\": \"y1\", \"align\": \"left\", \"xanchor\": \"left\", \"font\": {\"color\": \"#000000\"}, \"showarrow\": false}, {\"text\": \"Stanford\", \"x\": -0.45, \"y\": 2, \"xref\": \"x1\", \"yref\": \"y1\", \"align\": \"left\", \"xanchor\": \"left\", \"font\": {\"color\": \"#000000\"}, \"showarrow\": false}, {\"text\": \"96\", \"x\": 0.55, \"y\": 2, \"xref\": \"x1\", \"yref\": \"y1\", \"align\": \"left\", \"xanchor\": \"left\", \"font\": {\"color\": \"#000000\"}, \"showarrow\": false}, {\"text\": \"151\", \"x\": 1.55, \"y\": 2, \"xref\": \"x1\", \"yref\": \"y1\", \"align\": \"left\", \"xanchor\": \"left\", \"font\": {\"color\": \"#000000\"}, \"showarrow\": false}, {\"text\": \"55\", \"x\": 2.55, \"y\": 2, \"xref\": \"x1\", \"yref\": \"y1\", \"align\": \"left\", \"xanchor\": \"left\", \"font\": {\"color\": \"#000000\"}, \"showarrow\": false}, {\"text\": \"Harvard\", \"x\": -0.45, \"y\": 3, \"xref\": \"x1\", \"yref\": \"y1\", \"align\": \"left\", \"xanchor\": \"left\", \"font\": {\"color\": \"#000000\"}, \"showarrow\": false}, {\"text\": \"112\", \"x\": 0.55, \"y\": 3, \"xref\": \"x1\", \"yref\": \"y1\", \"align\": \"left\", \"xanchor\": \"left\", \"font\": {\"color\": \"#000000\"}, \"showarrow\": false}, {\"text\": \"165\", \"x\": 1.55, \"y\": 3, \"xref\": \"x1\", \"yref\": \"y1\", \"align\": \"left\", \"xanchor\": \"left\", \"font\": {\"color\": \"#000000\"}, \"showarrow\": false}, {\"text\": \"53\", \"x\": 2.55, \"y\": 3, \"xref\": \"x1\", \"yref\": \"y1\", \"align\": \"left\", \"xanchor\": \"left\", \"font\": {\"color\": \"#000000\"}, \"showarrow\": false}, {\"text\": \"U.Penn\", \"x\": -0.45, \"y\": 4, \"xref\": \"x1\", \"yref\": \"y1\", \"align\": \"left\", \"xanchor\": \"left\", \"font\": {\"color\": \"#000000\"}, \"showarrow\": false}, {\"text\": \"92\", \"x\": 0.55, \"y\": 4, \"xref\": \"x1\", \"yref\": \"y1\", \"align\": \"left\", \"xanchor\": \"left\", \"font\": {\"color\": \"#000000\"}, \"showarrow\": false}, {\"text\": \"141\", \"x\": 1.55, \"y\": 4, \"xref\": \"x1\", \"yref\": \"y1\", \"align\": \"left\", \"xanchor\": \"left\", \"font\": {\"color\": \"#000000\"}, \"showarrow\": false}, {\"text\": \"49\", \"x\": 2.55, \"y\": 4, \"xref\": \"x1\", \"yref\": \"y1\", \"align\": \"left\", \"xanchor\": \"left\", \"font\": {\"color\": \"#000000\"}, \"showarrow\": false}, {\"text\": \"Princeton\", \"x\": -0.45, \"y\": 5, \"xref\": \"x1\", \"yref\": \"y1\", \"align\": \"left\", \"xanchor\": \"left\", \"font\": {\"color\": \"#000000\"}, \"showarrow\": false}, {\"text\": \"90\", \"x\": 0.55, \"y\": 5, \"xref\": \"x1\", \"yref\": \"y1\", \"align\": \"left\", \"xanchor\": \"left\", \"font\": {\"color\": \"#000000\"}, \"showarrow\": false}, {\"text\": \"137\", \"x\": 1.55, \"y\": 5, \"xref\": \"x1\", \"yref\": \"y1\", \"align\": \"left\", \"xanchor\": \"left\", \"font\": {\"color\": \"#000000\"}, \"showarrow\": false}, {\"text\": \"47\", \"x\": 2.55, \"y\": 5, \"xref\": \"x1\", \"yref\": \"y1\", \"align\": \"left\", \"xanchor\": \"left\", \"font\": {\"color\": \"#000000\"}, \"showarrow\": false}, {\"text\": \"Chicago\", \"x\": -0.45, \"y\": 6, \"xref\": \"x1\", \"yref\": \"y1\", \"align\": \"left\", \"xanchor\": \"left\", \"font\": {\"color\": \"#000000\"}, \"showarrow\": false}, {\"text\": \"78\", \"x\": 0.55, \"y\": 6, \"xref\": \"x1\", \"yref\": \"y1\", \"align\": \"left\", \"xanchor\": \"left\", \"font\": {\"color\": \"#000000\"}, \"showarrow\": false}, {\"text\": \"118\", \"x\": 1.55, \"y\": 6, \"xref\": \"x1\", \"yref\": \"y1\", \"align\": \"left\", \"xanchor\": \"left\", \"font\": {\"color\": \"#000000\"}, \"showarrow\": false}, {\"text\": \"40\", \"x\": 2.55, \"y\": 6, \"xref\": \"x1\", \"yref\": \"y1\", \"align\": \"left\", \"xanchor\": \"left\", \"font\": {\"color\": \"#000000\"}, \"showarrow\": false}, {\"text\": \"Georgetown\", \"x\": -0.45, \"y\": 7, \"xref\": \"x1\", \"yref\": \"y1\", \"align\": \"left\", \"xanchor\": \"left\", \"font\": {\"color\": \"#000000\"}, \"showarrow\": false}, {\"text\": \"94\", \"x\": 0.55, \"y\": 7, \"xref\": \"x1\", \"yref\": \"y1\", \"align\": \"left\", \"xanchor\": \"left\", \"font\": {\"color\": \"#000000\"}, \"showarrow\": false}, {\"text\": \"131\", \"x\": 1.55, \"y\": 7, \"xref\": \"x1\", \"yref\": \"y1\", \"align\": \"left\", \"xanchor\": \"left\", \"font\": {\"color\": \"#000000\"}, \"showarrow\": false}, {\"text\": \"37\", \"x\": 2.55, \"y\": 7, \"xref\": \"x1\", \"yref\": \"y1\", \"align\": \"left\", \"xanchor\": \"left\", \"font\": {\"color\": \"#000000\"}, \"showarrow\": false}, {\"text\": \"Tufts\", \"x\": -0.45, \"y\": 8, \"xref\": \"x1\", \"yref\": \"y1\", \"align\": \"left\", \"xanchor\": \"left\", \"font\": {\"color\": \"#000000\"}, \"showarrow\": false}, {\"text\": \"76\", \"x\": 0.55, \"y\": 8, \"xref\": \"x1\", \"yref\": \"y1\", \"align\": \"left\", \"xanchor\": \"left\", \"font\": {\"color\": \"#000000\"}, \"showarrow\": false}, {\"text\": \"112\", \"x\": 1.55, \"y\": 8, \"xref\": \"x1\", \"yref\": \"y1\", \"align\": \"left\", \"xanchor\": \"left\", \"font\": {\"color\": \"#000000\"}, \"showarrow\": false}, {\"text\": \"36\", \"x\": 2.55, \"y\": 8, \"xref\": \"x1\", \"yref\": \"y1\", \"align\": \"left\", \"xanchor\": \"left\", \"font\": {\"color\": \"#000000\"}, \"showarrow\": false}, {\"text\": \"Yale\", \"x\": -0.45, \"y\": 9, \"xref\": \"x1\", \"yref\": \"y1\", \"align\": \"left\", \"xanchor\": \"left\", \"font\": {\"color\": \"#000000\"}, \"showarrow\": false}, {\"text\": \"79\", \"x\": 0.55, \"y\": 9, \"xref\": \"x1\", \"yref\": \"y1\", \"align\": \"left\", \"xanchor\": \"left\", \"font\": {\"color\": \"#000000\"}, \"showarrow\": false}, {\"text\": \"114\", \"x\": 1.55, \"y\": 9, \"xref\": \"x1\", \"yref\": \"y1\", \"align\": \"left\", \"xanchor\": \"left\", \"font\": {\"color\": \"#000000\"}, \"showarrow\": false}, {\"text\": \"35\", \"x\": 2.55, \"y\": 9, \"xref\": \"x1\", \"yref\": \"y1\", \"align\": \"left\", \"xanchor\": \"left\", \"font\": {\"color\": \"#000000\"}, \"showarrow\": false}, {\"text\": \"Columbia\", \"x\": -0.45, \"y\": 10, \"xref\": \"x1\", \"yref\": \"y1\", \"align\": \"left\", \"xanchor\": \"left\", \"font\": {\"color\": \"#000000\"}, \"showarrow\": false}, {\"text\": \"86\", \"x\": 0.55, \"y\": 10, \"xref\": \"x1\", \"yref\": \"y1\", \"align\": \"left\", \"xanchor\": \"left\", \"font\": {\"color\": \"#000000\"}, \"showarrow\": false}, {\"text\": \"119\", \"x\": 1.55, \"y\": 10, \"xref\": \"x1\", \"yref\": \"y1\", \"align\": \"left\", \"xanchor\": \"left\", \"font\": {\"color\": \"#000000\"}, \"showarrow\": false}, {\"text\": \"33\", \"x\": 2.55, \"y\": 10, \"xref\": \"x1\", \"yref\": \"y1\", \"align\": \"left\", \"xanchor\": \"left\", \"font\": {\"color\": \"#000000\"}, \"showarrow\": false}, {\"text\": \"Duke\", \"x\": -0.45, \"y\": 11, \"xref\": \"x1\", \"yref\": \"y1\", \"align\": \"left\", \"xanchor\": \"left\", \"font\": {\"color\": \"#000000\"}, \"showarrow\": false}, {\"text\": \"93\", \"x\": 0.55, \"y\": 11, \"xref\": \"x1\", \"yref\": \"y1\", \"align\": \"left\", \"xanchor\": \"left\", \"font\": {\"color\": \"#000000\"}, \"showarrow\": false}, {\"text\": \"124\", \"x\": 1.55, \"y\": 11, \"xref\": \"x1\", \"yref\": \"y1\", \"align\": \"left\", \"xanchor\": \"left\", \"font\": {\"color\": \"#000000\"}, \"showarrow\": false}, {\"text\": \"31\", \"x\": 2.55, \"y\": 11, \"xref\": \"x1\", \"yref\": \"y1\", \"align\": \"left\", \"xanchor\": \"left\", \"font\": {\"color\": \"#000000\"}, \"showarrow\": false}, {\"text\": \"Dartmouth\", \"x\": -0.45, \"y\": 12, \"xref\": \"x1\", \"yref\": \"y1\", \"align\": \"left\", \"xanchor\": \"left\", \"font\": {\"color\": \"#000000\"}, \"showarrow\": false}, {\"text\": \"84\", \"x\": 0.55, \"y\": 12, \"xref\": \"x1\", \"yref\": \"y1\", \"align\": \"left\", \"xanchor\": \"left\", \"font\": {\"color\": \"#000000\"}, \"showarrow\": false}, {\"text\": \"114\", \"x\": 1.55, \"y\": 12, \"xref\": \"x1\", \"yref\": \"y1\", \"align\": \"left\", \"xanchor\": \"left\", \"font\": {\"color\": \"#000000\"}, \"showarrow\": false}, {\"text\": \"30\", \"x\": 2.55, \"y\": 12, \"xref\": \"x1\", \"yref\": \"y1\", \"align\": \"left\", \"xanchor\": \"left\", \"font\": {\"color\": \"#000000\"}, \"showarrow\": false}, {\"text\": \"NYU\", \"x\": -0.45, \"y\": 13, \"xref\": \"x1\", \"yref\": \"y1\", \"align\": \"left\", \"xanchor\": \"left\", \"font\": {\"color\": \"#000000\"}, \"showarrow\": false}, {\"text\": \"67\", \"x\": 0.55, \"y\": 13, \"xref\": \"x1\", \"yref\": \"y1\", \"align\": \"left\", \"xanchor\": \"left\", \"font\": {\"color\": \"#000000\"}, \"showarrow\": false}, {\"text\": \"94\", \"x\": 1.55, \"y\": 13, \"xref\": \"x1\", \"yref\": \"y1\", \"align\": \"left\", \"xanchor\": \"left\", \"font\": {\"color\": \"#000000\"}, \"showarrow\": false}, {\"text\": \"27\", \"x\": 2.55, \"y\": 13, \"xref\": \"x1\", \"yref\": \"y1\", \"align\": \"left\", \"xanchor\": \"left\", \"font\": {\"color\": \"#000000\"}, \"showarrow\": false}, {\"text\": \"Notre Dame\", \"x\": -0.45, \"y\": 14, \"xref\": \"x1\", \"yref\": \"y1\", \"align\": \"left\", \"xanchor\": \"left\", \"font\": {\"color\": \"#000000\"}, \"showarrow\": false}, {\"text\": \"73\", \"x\": 0.55, \"y\": 14, \"xref\": \"x1\", \"yref\": \"y1\", \"align\": \"left\", \"xanchor\": \"left\", \"font\": {\"color\": \"#000000\"}, \"showarrow\": false}, {\"text\": \"100\", \"x\": 1.55, \"y\": 14, \"xref\": \"x1\", \"yref\": \"y1\", \"align\": \"left\", \"xanchor\": \"left\", \"font\": {\"color\": \"#000000\"}, \"showarrow\": false}, {\"text\": \"27\", \"x\": 2.55, \"y\": 14, \"xref\": \"x1\", \"yref\": \"y1\", \"align\": \"left\", \"xanchor\": \"left\", \"font\": {\"color\": \"#000000\"}, \"showarrow\": false}, {\"text\": \"Cornell\", \"x\": -0.45, \"y\": 15, \"xref\": \"x1\", \"yref\": \"y1\", \"align\": \"left\", \"xanchor\": \"left\", \"font\": {\"color\": \"#000000\"}, \"showarrow\": false}, {\"text\": \"80\", \"x\": 0.55, \"y\": 15, \"xref\": \"x1\", \"yref\": \"y1\", \"align\": \"left\", \"xanchor\": \"left\", \"font\": {\"color\": \"#000000\"}, \"showarrow\": false}, {\"text\": \"107\", \"x\": 1.55, \"y\": 15, \"xref\": \"x1\", \"yref\": \"y1\", \"align\": \"left\", \"xanchor\": \"left\", \"font\": {\"color\": \"#000000\"}, \"showarrow\": false}, {\"text\": \"27\", \"x\": 2.55, \"y\": 15, \"xref\": \"x1\", \"yref\": \"y1\", \"align\": \"left\", \"xanchor\": \"left\", \"font\": {\"color\": \"#000000\"}, \"showarrow\": false}, {\"text\": \"Michigan\", \"x\": -0.45, \"y\": 16, \"xref\": \"x1\", \"yref\": \"y1\", \"align\": \"left\", \"xanchor\": \"left\", \"font\": {\"color\": \"#000000\"}, \"showarrow\": false}, {\"text\": \"62\", \"x\": 0.55, \"y\": 16, \"xref\": \"x1\", \"yref\": \"y1\", \"align\": \"left\", \"xanchor\": \"left\", \"font\": {\"color\": \"#000000\"}, \"showarrow\": false}, {\"text\": \"84\", \"x\": 1.55, \"y\": 16, \"xref\": \"x1\", \"yref\": \"y1\", \"align\": \"left\", \"xanchor\": \"left\", \"font\": {\"color\": \"#000000\"}, \"showarrow\": false}, {\"text\": \"22\", \"x\": 2.55, \"y\": 16, \"xref\": \"x1\", \"yref\": \"y1\", \"align\": \"left\", \"xanchor\": \"left\", \"font\": {\"color\": \"#000000\"}, \"showarrow\": false}, {\"text\": \"Brown\", \"x\": -0.45, \"y\": 17, \"xref\": \"x1\", \"yref\": \"y1\", \"align\": \"left\", \"xanchor\": \"left\", \"font\": {\"color\": \"#000000\"}, \"showarrow\": false}, {\"text\": \"72\", \"x\": 0.55, \"y\": 17, \"xref\": \"x1\", \"yref\": \"y1\", \"align\": \"left\", \"xanchor\": \"left\", \"font\": {\"color\": \"#000000\"}, \"showarrow\": false}, {\"text\": \"92\", \"x\": 1.55, \"y\": 17, \"xref\": \"x1\", \"yref\": \"y1\", \"align\": \"left\", \"xanchor\": \"left\", \"font\": {\"color\": \"#000000\"}, \"showarrow\": false}, {\"text\": \"20\", \"x\": 2.55, \"y\": 17, \"xref\": \"x1\", \"yref\": \"y1\", \"align\": \"left\", \"xanchor\": \"left\", \"font\": {\"color\": \"#000000\"}, \"showarrow\": false}, {\"text\": \"Berkeley\", \"x\": -0.45, \"y\": 18, \"xref\": \"x1\", \"yref\": \"y1\", \"align\": \"left\", \"xanchor\": \"left\", \"font\": {\"color\": \"#000000\"}, \"showarrow\": false}, {\"text\": \"71\", \"x\": 0.55, \"y\": 18, \"xref\": \"x1\", \"yref\": \"y1\", \"align\": \"left\", \"xanchor\": \"left\", \"font\": {\"color\": \"#000000\"}, \"showarrow\": false}, {\"text\": \"88\", \"x\": 1.55, \"y\": 18, \"xref\": \"x1\", \"yref\": \"y1\", \"align\": \"left\", \"xanchor\": \"left\", \"font\": {\"color\": \"#000000\"}, \"showarrow\": false}, {\"text\": \"17\", \"x\": 2.55, \"y\": 18, \"xref\": \"x1\", \"yref\": \"y1\", \"align\": \"left\", \"xanchor\": \"left\", \"font\": {\"color\": \"#000000\"}, \"showarrow\": false}, {\"text\": \"Emory\", \"x\": -0.45, \"y\": 19, \"xref\": \"x1\", \"yref\": \"y1\", \"align\": \"left\", \"xanchor\": \"left\", \"font\": {\"color\": \"#000000\"}, \"showarrow\": false}, {\"text\": \"68\", \"x\": 0.55, \"y\": 19, \"xref\": \"x1\", \"yref\": \"y1\", \"align\": \"left\", \"xanchor\": \"left\", \"font\": {\"color\": \"#000000\"}, \"showarrow\": false}, {\"text\": \"82\", \"x\": 1.55, \"y\": 19, \"xref\": \"x1\", \"yref\": \"y1\", \"align\": \"left\", \"xanchor\": \"left\", \"font\": {\"color\": \"#000000\"}, \"showarrow\": false}, {\"text\": \"14\", \"x\": 2.55, \"y\": 19, \"xref\": \"x1\", \"yref\": \"y1\", \"align\": \"left\", \"xanchor\": \"left\", \"font\": {\"color\": \"#000000\"}, \"showarrow\": false}, {\"text\": \"UCLA\", \"x\": -0.45, \"y\": 20, \"xref\": \"x1\", \"yref\": \"y1\", \"align\": \"left\", \"xanchor\": \"left\", \"font\": {\"color\": \"#000000\"}, \"showarrow\": false}, {\"text\": \"64\", \"x\": 0.55, \"y\": 20, \"xref\": \"x1\", \"yref\": \"y1\", \"align\": \"left\", \"xanchor\": \"left\", \"font\": {\"color\": \"#000000\"}, \"showarrow\": false}, {\"text\": \"78\", \"x\": 1.55, \"y\": 20, \"xref\": \"x1\", \"yref\": \"y1\", \"align\": \"left\", \"xanchor\": \"left\", \"font\": {\"color\": \"#000000\"}, \"showarrow\": false}, {\"text\": \"14\", \"x\": 2.55, \"y\": 20, \"xref\": \"x1\", \"yref\": \"y1\", \"align\": \"left\", \"xanchor\": \"left\", \"font\": {\"color\": \"#000000\"}, \"showarrow\": false}, {\"text\": \"SoCal\", \"x\": -0.45, \"y\": 21, \"xref\": \"x1\", \"yref\": \"y1\", \"align\": \"left\", \"xanchor\": \"left\", \"font\": {\"color\": \"#000000\"}, \"showarrow\": false}, {\"text\": \"72\", \"x\": 0.55, \"y\": 21, \"xref\": \"x1\", \"yref\": \"y1\", \"align\": \"left\", \"xanchor\": \"left\", \"font\": {\"color\": \"#000000\"}, \"showarrow\": false}, {\"text\": \"81\", \"x\": 1.55, \"y\": 21, \"xref\": \"x1\", \"yref\": \"y1\", \"align\": \"left\", \"xanchor\": \"left\", \"font\": {\"color\": \"#000000\"}, \"showarrow\": false}, {\"text\": \"9\", \"x\": 2.55, \"y\": 21, \"xref\": \"x1\", \"yref\": \"y1\", \"align\": \"left\", \"xanchor\": \"left\", \"font\": {\"color\": \"#000000\"}, \"showarrow\": false}], \"height\": 710, \"margin\": {\"t\": 0, \"b\": 0, \"r\": 0, \"l\": 0}, \"yaxis\": {\"autorange\": \"reversed\", \"zeroline\": false, \"gridwidth\": 2, \"ticks\": \"\", \"dtick\": 1, \"tick0\": 0.5, \"showticklabels\": false}, \"xaxis\": {\"zeroline\": false, \"gridwidth\": 2, \"ticks\": \"\", \"dtick\": 1, \"tick0\": -0.5, \"showticklabels\": false}}, {\"showLink\": true, \"linkText\": \"Export to plot.ly\"})});</script>"
      ]
     },
     "metadata": {},
     "output_type": "display_data"
    }
   ],
   "source": [
    "# do a table\n",
    "df = pd.read_csv(\"https://raw.githubusercontent.com/plotly/datasets/master/school_earnings.csv\")\n",
    "\n",
    "table = ff.create_table(df)\n",
    "py.offline.iplot(table, filename='jupyter/table1')"
   ]
  },
  {
   "cell_type": "markdown",
   "metadata": {},
   "source": [
    "Under every graph is a JSON object, which is a dictionary like data structure. Simply changing values of some keywords and we get different plots."
   ]
  },
  {
   "cell_type": "code",
   "execution_count": 4,
   "metadata": {},
   "outputs": [
    {
     "data": {
      "application/vnd.plotly.v1+json": {
       "data": [
        {
         "marker": {
          "color": "red",
          "size": "10",
          "symbol": 104
         },
         "mode": "markers+lines",
         "name": "1st Trace",
         "text": [
          "one",
          "two",
          "three"
         ],
         "type": "scatter",
         "x": [
          1,
          2,
          3
         ],
         "y": [
          4,
          5,
          6
         ]
        }
       ],
       "layout": {
        "title": "First Plot",
        "xaxis": {
         "title": "x1"
        },
        "yaxis": {
         "title": "x2"
        }
       }
      },
      "text/html": [
       "<div id=\"5898fdeb-598f-4da0-8be5-f44c953beb81\" style=\"height: 525px; width: 100%;\" class=\"plotly-graph-div\"></div><script type=\"text/javascript\">require([\"plotly\"], function(Plotly) { window.PLOTLYENV=window.PLOTLYENV || {};window.PLOTLYENV.BASE_URL=\"https://plot.ly\";Plotly.newPlot(\"5898fdeb-598f-4da0-8be5-f44c953beb81\", [{\"type\": \"scatter\", \"x\": [1, 2, 3], \"y\": [4, 5, 6], \"marker\": {\"color\": \"red\", \"symbol\": 104, \"size\": \"10\"}, \"mode\": \"markers+lines\", \"text\": [\"one\", \"two\", \"three\"], \"name\": \"1st Trace\"}], {\"title\": \"First Plot\", \"xaxis\": {\"title\": \"x1\"}, \"yaxis\": {\"title\": \"x2\"}}, {\"showLink\": true, \"linkText\": \"Export to plot.ly\"})});</script>"
      ],
      "text/vnd.plotly.v1+html": [
       "<div id=\"5898fdeb-598f-4da0-8be5-f44c953beb81\" style=\"height: 525px; width: 100%;\" class=\"plotly-graph-div\"></div><script type=\"text/javascript\">require([\"plotly\"], function(Plotly) { window.PLOTLYENV=window.PLOTLYENV || {};window.PLOTLYENV.BASE_URL=\"https://plot.ly\";Plotly.newPlot(\"5898fdeb-598f-4da0-8be5-f44c953beb81\", [{\"type\": \"scatter\", \"x\": [1, 2, 3], \"y\": [4, 5, 6], \"marker\": {\"color\": \"red\", \"symbol\": 104, \"size\": \"10\"}, \"mode\": \"markers+lines\", \"text\": [\"one\", \"two\", \"three\"], \"name\": \"1st Trace\"}], {\"title\": \"First Plot\", \"xaxis\": {\"title\": \"x1\"}, \"yaxis\": {\"title\": \"x2\"}}, {\"showLink\": true, \"linkText\": \"Export to plot.ly\"})});</script>"
      ]
     },
     "metadata": {},
     "output_type": "display_data"
    }
   ],
   "source": [
    "# follows trace - data - layout - figure semantic\n",
    "\n",
    "trace1 = Scatter(\n",
    "    x = [1,2,3],\n",
    "    y = [4,5,6],\n",
    "    marker = {'color':'red', 'symbol':104, 'size':\"10\"},\n",
    "    mode = \"markers+lines\",\n",
    "    text = ['one','two','three'],\n",
    "    name = '1st Trace'\n",
    ")\n",
    "\n",
    "data = Data([trace1])\n",
    "\n",
    "layout = Layout(\n",
    "    title=\"First Plot\",\n",
    "    xaxis={'title':'x1'},\n",
    "    \n",
    "    yaxis ={'title':'x2'}\n",
    ")\n",
    "\n",
    "figure=Figure(data=data, layout=layout)\n",
    "py.offline.iplot(figure)"
   ]
  },
  {
   "cell_type": "code",
   "execution_count": 5,
   "metadata": {
    "collapsed": true
   },
   "outputs": [],
   "source": [
    "df = pd.read_csv('https://raw.githubusercontent.com/yankev/test/master/life-expectancy-per-GDP-2007.csv')\n",
    "americas = df[(df.continent=='Americas')]\n",
    "europe = df[(df.continent=='Europe')]"
   ]
  },
  {
   "cell_type": "code",
   "execution_count": 6,
   "metadata": {},
   "outputs": [
    {
     "data": {
      "application/vnd.plotly.v1+json": {
       "data": [
        {
         "marker": {
          "color": "navy",
          "line": {
           "width": 1
          },
          "size": 12
         },
         "mode": "markers",
         "name": "Americas",
         "text": [
          "Country: Argentina<br>Population: 40301927.0",
          "Country: Bolivia<br>Population: 9119152.0",
          "Country: Brazil<br>Population: 190010647.0",
          "Country: Canada<br>Population: 33390141.0",
          "Country: Chile<br>Population: 16284741.0",
          "Country: Colombia<br>Population: 44227550.0",
          "Country: Costa Rica<br>Population: 4133884.0",
          "Country: Cuba<br>Population: 11416987.0",
          "Country: Dominican Republic<br>Population: 9319622.0",
          "Country: Ecuador<br>Population: 13755680.0",
          "Country: El Salvador<br>Population: 6939688.0",
          "Country: Guatemala<br>Population: 12572928.0",
          "Country: Haiti<br>Population: 8502814.0",
          "Country: Honduras<br>Population: 7483763.0",
          "Country: Jamaica<br>Population: 2780132.0",
          "Country: Mexico<br>Population: 108700891.0",
          "Country: Nicaragua<br>Population: 5675356.0",
          "Country: Panama<br>Population: 3242173.0",
          "Country: Paraguay<br>Population: 6667147.0",
          "Country: Peru<br>Population: 28674757.0",
          "Country: Puerto Rico<br>Population: 3942491.0",
          "Country: Trinidad and Tobago<br>Population: 1056608.0",
          "Country: United States<br>Population: 301139947.0",
          "Country: Uruguay<br>Population: 3447496.0",
          "Country: Venezuela<br>Population: 26084662.0"
         ],
         "type": "scatter",
         "x": [
          12779.379640000001,
          3822.1370840000004,
          9065.800825,
          36319.235010000004,
          13171.63885,
          7006.580419,
          9645.06142,
          8948.102923,
          6025.374752000001,
          6873.262326000001,
          5728.353514,
          5186.050003,
          1201.637154,
          3548.3308460000003,
          7320.880262000001,
          11977.57496,
          2749.320965,
          9809.185636,
          4172.838464,
          7408.905561,
          19328.70901,
          18008.50924,
          42951.65309,
          10611.46299,
          11415.805690000001
         ],
         "y": [
          75.32,
          65.554,
          72.39,
          80.653,
          78.553,
          72.889,
          78.782,
          78.273,
          72.235,
          74.994,
          71.878,
          70.259,
          60.916000000000004,
          70.19800000000001,
          72.567,
          76.195,
          72.899,
          75.53699999999999,
          71.752,
          71.421,
          78.74600000000001,
          69.819,
          78.242,
          76.384,
          73.747
         ]
        },
        {
         "marker": {
          "color": "orange",
          "line": {
           "width": 1
          },
          "size": 12
         },
         "mode": "markers",
         "name": "Europe",
         "text": [
          "Country: Albania<br>Population: 3600523.0",
          "Country: Austria<br>Population: 8199783.0",
          "Country: Belgium<br>Population: 10392226.0",
          "Country: Bosnia and Herzegovina<br>Population: 4552198.0",
          "Country: Bulgaria<br>Population: 7322858.0",
          "Country: Croatia<br>Population: 4493312.0",
          "Country: Czech Republic<br>Population: 10228744.0",
          "Country: Denmark<br>Population: 5468120.0",
          "Country: Finland<br>Population: 5238460.0",
          "Country: France<br>Population: 61083916.0",
          "Country: Germany<br>Population: 82400996.0",
          "Country: Greece<br>Population: 10706290.0",
          "Country: Hungary<br>Population: 9956108.0",
          "Country: Iceland<br>Population: 301931.0",
          "Country: Ireland<br>Population: 4109086.0",
          "Country: Italy<br>Population: 58147733.0",
          "Country: Montenegro<br>Population: 684736.0",
          "Country: Netherlands<br>Population: 16570613.0",
          "Country: Norway<br>Population: 4627926.0",
          "Country: Poland<br>Population: 38518241.0",
          "Country: Portugal<br>Population: 10642836.0",
          "Country: Romania<br>Population: 22276056.0",
          "Country: Serbia<br>Population: 10150265.0",
          "Country: Slovak Republic<br>Population: 5447502.0",
          "Country: Slovenia<br>Population: 2009245.0",
          "Country: Spain<br>Population: 40448191.0",
          "Country: Sweden<br>Population: 9031088.0",
          "Country: Switzerland<br>Population: 7554661.0",
          "Country: Turkey<br>Population: 71158647.0",
          "Country: United Kingdom<br>Population: 60776238.0"
         ],
         "type": "scatter",
         "x": [
          5937.029525999999,
          36126.4927,
          33692.60508,
          7446.298803,
          10680.79282,
          14619.222719999998,
          22833.30851,
          35278.41874,
          33207.0844,
          30470.0167,
          32170.37442,
          27538.41188,
          18008.94444,
          36180.789189999996,
          40675.99635,
          28569.7197,
          9253.896111,
          36797.93332,
          49357.19017,
          15389.924680000002,
          20509.64777,
          10808.47561,
          9786.534714,
          18678.31435,
          25768.25759,
          28821.0637,
          33859.74835,
          37506.419069999996,
          8458.276384,
          33203.26128
         ],
         "y": [
          76.423,
          79.829,
          79.441,
          74.852,
          73.005,
          75.748,
          76.486,
          78.332,
          79.313,
          80.657,
          79.406,
          79.483,
          73.33800000000001,
          81.757,
          78.885,
          80.546,
          74.543,
          79.762,
          80.196,
          75.563,
          78.098,
          72.476,
          74.002,
          74.663,
          77.926,
          80.941,
          80.884,
          81.70100000000001,
          71.777,
          79.425
         ]
        }
       ],
       "layout": {
        "hovermode": "closest",
        "title": "YOUR MUM",
        "xaxis": {
         "gridwidth": 2,
         "ticklen": 5,
         "title": "GDP per capita (2000 dollars)",
         "zeroline": false
        },
        "yaxis": {
         "title": "Life expectancy (years)"
        }
       }
      },
      "text/html": [
       "<div id=\"517fc569-7ce1-4a2f-82f7-a42a9c5ca492\" style=\"height: 525px; width: 100%;\" class=\"plotly-graph-div\"></div><script type=\"text/javascript\">require([\"plotly\"], function(Plotly) { window.PLOTLYENV=window.PLOTLYENV || {};window.PLOTLYENV.BASE_URL=\"https://plot.ly\";Plotly.newPlot(\"517fc569-7ce1-4a2f-82f7-a42a9c5ca492\", [{\"type\": \"scatter\", \"x\": [12779.379640000001, 3822.1370840000004, 9065.800825, 36319.235010000004, 13171.63885, 7006.580419, 9645.06142, 8948.102923, 6025.374752000001, 6873.262326000001, 5728.353514, 5186.050003, 1201.637154, 3548.3308460000003, 7320.880262000001, 11977.57496, 2749.320965, 9809.185636, 4172.838464, 7408.905561, 19328.70901, 18008.50924, 42951.65309, 10611.46299, 11415.805690000001], \"y\": [75.32, 65.554, 72.39, 80.653, 78.553, 72.889, 78.782, 78.273, 72.235, 74.994, 71.878, 70.259, 60.916000000000004, 70.19800000000001, 72.567, 76.195, 72.899, 75.53699999999999, 71.752, 71.421, 78.74600000000001, 69.819, 78.242, 76.384, 73.747], \"mode\": \"markers\", \"marker\": {\"size\": 12, \"line\": {\"width\": 1}, \"color\": \"navy\"}, \"name\": \"Americas\", \"text\": [\"Country: Argentina<br>Population: 40301927.0\", \"Country: Bolivia<br>Population: 9119152.0\", \"Country: Brazil<br>Population: 190010647.0\", \"Country: Canada<br>Population: 33390141.0\", \"Country: Chile<br>Population: 16284741.0\", \"Country: Colombia<br>Population: 44227550.0\", \"Country: Costa Rica<br>Population: 4133884.0\", \"Country: Cuba<br>Population: 11416987.0\", \"Country: Dominican Republic<br>Population: 9319622.0\", \"Country: Ecuador<br>Population: 13755680.0\", \"Country: El Salvador<br>Population: 6939688.0\", \"Country: Guatemala<br>Population: 12572928.0\", \"Country: Haiti<br>Population: 8502814.0\", \"Country: Honduras<br>Population: 7483763.0\", \"Country: Jamaica<br>Population: 2780132.0\", \"Country: Mexico<br>Population: 108700891.0\", \"Country: Nicaragua<br>Population: 5675356.0\", \"Country: Panama<br>Population: 3242173.0\", \"Country: Paraguay<br>Population: 6667147.0\", \"Country: Peru<br>Population: 28674757.0\", \"Country: Puerto Rico<br>Population: 3942491.0\", \"Country: Trinidad and Tobago<br>Population: 1056608.0\", \"Country: United States<br>Population: 301139947.0\", \"Country: Uruguay<br>Population: 3447496.0\", \"Country: Venezuela<br>Population: 26084662.0\"]}, {\"type\": \"scatter\", \"x\": [5937.029525999999, 36126.4927, 33692.60508, 7446.298803, 10680.79282, 14619.222719999998, 22833.30851, 35278.41874, 33207.0844, 30470.0167, 32170.37442, 27538.41188, 18008.94444, 36180.789189999996, 40675.99635, 28569.7197, 9253.896111, 36797.93332, 49357.19017, 15389.924680000002, 20509.64777, 10808.47561, 9786.534714, 18678.31435, 25768.25759, 28821.0637, 33859.74835, 37506.419069999996, 8458.276384, 33203.26128], \"y\": [76.423, 79.829, 79.441, 74.852, 73.005, 75.748, 76.486, 78.332, 79.313, 80.657, 79.406, 79.483, 73.33800000000001, 81.757, 78.885, 80.546, 74.543, 79.762, 80.196, 75.563, 78.098, 72.476, 74.002, 74.663, 77.926, 80.941, 80.884, 81.70100000000001, 71.777, 79.425], \"mode\": \"markers\", \"marker\": {\"size\": 12, \"line\": {\"width\": 1}, \"color\": \"orange\"}, \"name\": \"Europe\", \"text\": [\"Country: Albania<br>Population: 3600523.0\", \"Country: Austria<br>Population: 8199783.0\", \"Country: Belgium<br>Population: 10392226.0\", \"Country: Bosnia and Herzegovina<br>Population: 4552198.0\", \"Country: Bulgaria<br>Population: 7322858.0\", \"Country: Croatia<br>Population: 4493312.0\", \"Country: Czech Republic<br>Population: 10228744.0\", \"Country: Denmark<br>Population: 5468120.0\", \"Country: Finland<br>Population: 5238460.0\", \"Country: France<br>Population: 61083916.0\", \"Country: Germany<br>Population: 82400996.0\", \"Country: Greece<br>Population: 10706290.0\", \"Country: Hungary<br>Population: 9956108.0\", \"Country: Iceland<br>Population: 301931.0\", \"Country: Ireland<br>Population: 4109086.0\", \"Country: Italy<br>Population: 58147733.0\", \"Country: Montenegro<br>Population: 684736.0\", \"Country: Netherlands<br>Population: 16570613.0\", \"Country: Norway<br>Population: 4627926.0\", \"Country: Poland<br>Population: 38518241.0\", \"Country: Portugal<br>Population: 10642836.0\", \"Country: Romania<br>Population: 22276056.0\", \"Country: Serbia<br>Population: 10150265.0\", \"Country: Slovak Republic<br>Population: 5447502.0\", \"Country: Slovenia<br>Population: 2009245.0\", \"Country: Spain<br>Population: 40448191.0\", \"Country: Sweden<br>Population: 9031088.0\", \"Country: Switzerland<br>Population: 7554661.0\", \"Country: Turkey<br>Population: 71158647.0\", \"Country: United Kingdom<br>Population: 60776238.0\"]}], {\"title\": \"YOUR MUM\", \"hovermode\": \"closest\", \"xaxis\": {\"title\": \"GDP per capita (2000 dollars)\", \"ticklen\": 5, \"zeroline\": false, \"gridwidth\": 2}, \"yaxis\": {\"title\": \"Life expectancy (years)\"}}, {\"showLink\": true, \"linkText\": \"Export to plot.ly\"})});</script>"
      ],
      "text/vnd.plotly.v1+html": [
       "<div id=\"517fc569-7ce1-4a2f-82f7-a42a9c5ca492\" style=\"height: 525px; width: 100%;\" class=\"plotly-graph-div\"></div><script type=\"text/javascript\">require([\"plotly\"], function(Plotly) { window.PLOTLYENV=window.PLOTLYENV || {};window.PLOTLYENV.BASE_URL=\"https://plot.ly\";Plotly.newPlot(\"517fc569-7ce1-4a2f-82f7-a42a9c5ca492\", [{\"type\": \"scatter\", \"x\": [12779.379640000001, 3822.1370840000004, 9065.800825, 36319.235010000004, 13171.63885, 7006.580419, 9645.06142, 8948.102923, 6025.374752000001, 6873.262326000001, 5728.353514, 5186.050003, 1201.637154, 3548.3308460000003, 7320.880262000001, 11977.57496, 2749.320965, 9809.185636, 4172.838464, 7408.905561, 19328.70901, 18008.50924, 42951.65309, 10611.46299, 11415.805690000001], \"y\": [75.32, 65.554, 72.39, 80.653, 78.553, 72.889, 78.782, 78.273, 72.235, 74.994, 71.878, 70.259, 60.916000000000004, 70.19800000000001, 72.567, 76.195, 72.899, 75.53699999999999, 71.752, 71.421, 78.74600000000001, 69.819, 78.242, 76.384, 73.747], \"mode\": \"markers\", \"marker\": {\"size\": 12, \"line\": {\"width\": 1}, \"color\": \"navy\"}, \"name\": \"Americas\", \"text\": [\"Country: Argentina<br>Population: 40301927.0\", \"Country: Bolivia<br>Population: 9119152.0\", \"Country: Brazil<br>Population: 190010647.0\", \"Country: Canada<br>Population: 33390141.0\", \"Country: Chile<br>Population: 16284741.0\", \"Country: Colombia<br>Population: 44227550.0\", \"Country: Costa Rica<br>Population: 4133884.0\", \"Country: Cuba<br>Population: 11416987.0\", \"Country: Dominican Republic<br>Population: 9319622.0\", \"Country: Ecuador<br>Population: 13755680.0\", \"Country: El Salvador<br>Population: 6939688.0\", \"Country: Guatemala<br>Population: 12572928.0\", \"Country: Haiti<br>Population: 8502814.0\", \"Country: Honduras<br>Population: 7483763.0\", \"Country: Jamaica<br>Population: 2780132.0\", \"Country: Mexico<br>Population: 108700891.0\", \"Country: Nicaragua<br>Population: 5675356.0\", \"Country: Panama<br>Population: 3242173.0\", \"Country: Paraguay<br>Population: 6667147.0\", \"Country: Peru<br>Population: 28674757.0\", \"Country: Puerto Rico<br>Population: 3942491.0\", \"Country: Trinidad and Tobago<br>Population: 1056608.0\", \"Country: United States<br>Population: 301139947.0\", \"Country: Uruguay<br>Population: 3447496.0\", \"Country: Venezuela<br>Population: 26084662.0\"]}, {\"type\": \"scatter\", \"x\": [5937.029525999999, 36126.4927, 33692.60508, 7446.298803, 10680.79282, 14619.222719999998, 22833.30851, 35278.41874, 33207.0844, 30470.0167, 32170.37442, 27538.41188, 18008.94444, 36180.789189999996, 40675.99635, 28569.7197, 9253.896111, 36797.93332, 49357.19017, 15389.924680000002, 20509.64777, 10808.47561, 9786.534714, 18678.31435, 25768.25759, 28821.0637, 33859.74835, 37506.419069999996, 8458.276384, 33203.26128], \"y\": [76.423, 79.829, 79.441, 74.852, 73.005, 75.748, 76.486, 78.332, 79.313, 80.657, 79.406, 79.483, 73.33800000000001, 81.757, 78.885, 80.546, 74.543, 79.762, 80.196, 75.563, 78.098, 72.476, 74.002, 74.663, 77.926, 80.941, 80.884, 81.70100000000001, 71.777, 79.425], \"mode\": \"markers\", \"marker\": {\"size\": 12, \"line\": {\"width\": 1}, \"color\": \"orange\"}, \"name\": \"Europe\", \"text\": [\"Country: Albania<br>Population: 3600523.0\", \"Country: Austria<br>Population: 8199783.0\", \"Country: Belgium<br>Population: 10392226.0\", \"Country: Bosnia and Herzegovina<br>Population: 4552198.0\", \"Country: Bulgaria<br>Population: 7322858.0\", \"Country: Croatia<br>Population: 4493312.0\", \"Country: Czech Republic<br>Population: 10228744.0\", \"Country: Denmark<br>Population: 5468120.0\", \"Country: Finland<br>Population: 5238460.0\", \"Country: France<br>Population: 61083916.0\", \"Country: Germany<br>Population: 82400996.0\", \"Country: Greece<br>Population: 10706290.0\", \"Country: Hungary<br>Population: 9956108.0\", \"Country: Iceland<br>Population: 301931.0\", \"Country: Ireland<br>Population: 4109086.0\", \"Country: Italy<br>Population: 58147733.0\", \"Country: Montenegro<br>Population: 684736.0\", \"Country: Netherlands<br>Population: 16570613.0\", \"Country: Norway<br>Population: 4627926.0\", \"Country: Poland<br>Population: 38518241.0\", \"Country: Portugal<br>Population: 10642836.0\", \"Country: Romania<br>Population: 22276056.0\", \"Country: Serbia<br>Population: 10150265.0\", \"Country: Slovak Republic<br>Population: 5447502.0\", \"Country: Slovenia<br>Population: 2009245.0\", \"Country: Spain<br>Population: 40448191.0\", \"Country: Sweden<br>Population: 9031088.0\", \"Country: Switzerland<br>Population: 7554661.0\", \"Country: Turkey<br>Population: 71158647.0\", \"Country: United Kingdom<br>Population: 60776238.0\"]}], {\"title\": \"YOUR MUM\", \"hovermode\": \"closest\", \"xaxis\": {\"title\": \"GDP per capita (2000 dollars)\", \"ticklen\": 5, \"zeroline\": false, \"gridwidth\": 2}, \"yaxis\": {\"title\": \"Life expectancy (years)\"}}, {\"showLink\": true, \"linkText\": \"Export to plot.ly\"})});</script>"
      ]
     },
     "metadata": {},
     "output_type": "display_data"
    }
   ],
   "source": [
    "trace_comp0 = Scatter(\n",
    "    x = americas.gdp_percap,\n",
    "    y=americas.life_exp,\n",
    "    mode='markers',\n",
    "    marker=dict(size = 12,\n",
    "               line = dict(width=1),\n",
    "               color=\"navy\"),\n",
    "    name = \"Americas\",\n",
    "    text=americas.country,\n",
    ")\n",
    "\n",
    "trace_comp1 = Scatter(\n",
    "    x = europe.gdp_percap,\n",
    "    y=europe.life_exp,\n",
    "    mode='markers',\n",
    "    marker=dict(size = 12,\n",
    "               line = dict(width=1),\n",
    "               color=\"orange\"),\n",
    "    name = \"Europe\",\n",
    "    text=europe.country,\n",
    ")\n",
    "\n",
    "data = [trace_comp0, trace_comp1]\n",
    "\n",
    "layout = Layout(\n",
    "    title=\"YOUR MUM\", # sorry\n",
    "    hovermode=\"closest\",\n",
    "    xaxis=dict(\n",
    "        title='GDP per capita (2000 dollars)',\n",
    "        ticklen=5,\n",
    "        zeroline=False,\n",
    "        gridwidth=2,\n",
    "    ),\n",
    "    yaxis=dict(\n",
    "        title=\"Life expectancy (years)\"\n",
    "    )\n",
    "\n",
    ")\n",
    "\n",
    "fig = Figure(data=data, layout=layout)\n",
    "py.offline.iplot(fig)"
   ]
  },
  {
   "cell_type": "markdown",
   "metadata": {},
   "source": [
    "# Data"
   ]
  },
  {
   "cell_type": "markdown",
   "metadata": {},
   "source": [
    "We see that data is actually a list object in Python. Data will actually contain all the traces that you wish to plot. Now the question may be, what is a trace? A trace is just the name we give a collection of data and the specifications of which we want that data plotted. Notice that a trace will also be an object itself, and these will be named according to how you want the data displayed on the plotting surface."
   ]
  },
  {
   "cell_type": "code",
   "execution_count": 7,
   "metadata": {},
   "outputs": [
    {
     "data": {
      "application/vnd.plotly.v1+json": {
       "data": [
        {
         "marker": {
          "color": "navy",
          "size": 8
         },
         "mode": "lines",
         "name": "Sin(x)",
         "type": "scatter",
         "x": [
          0,
          0.25386607301735703,
          0.5077321460347141,
          0.7615982190520711,
          1.0154642920694281,
          1.269330365086785,
          1.5231964381041423,
          1.7770625111214993,
          2.0309285841388562,
          2.284794657156213,
          2.53866073017357,
          2.792526803190927,
          3.0463928762082846,
          3.3002589492256416,
          3.5541250222429985,
          3.8079910952603555,
          4.0618571682777125,
          4.3157232412950695,
          4.569589314312426,
          4.823455387329783,
          5.07732146034714,
          5.331187533364497,
          5.585053606381854,
          5.838919679399211,
          6.092785752416569,
          6.346651825433926,
          6.600517898451283,
          6.85438397146864,
          7.108250044485997,
          7.362116117503354,
          7.615982190520711,
          7.869848263538068,
          8.123714336555425,
          8.377580409572783,
          8.631446482590139,
          8.885312555607497,
          9.139178628624853,
          9.39304470164221,
          9.646910774659567,
          9.900776847676925,
          10.15464292069428,
          10.408508993711639,
          10.662375066728995,
          10.916241139746353,
          11.170107212763709,
          11.423973285781067,
          11.677839358798423,
          11.93170543181578,
          12.185571504833138,
          12.439437577850494,
          12.693303650867852,
          12.947169723885208,
          13.201035796902566,
          13.454901869919922,
          13.70876794293728,
          13.962634015954636,
          14.216500088971994,
          14.47036616198935,
          14.724232235006708,
          14.978098308024064,
          15.231964381041422,
          15.485830454058778,
          15.739696527076136,
          15.993562600093492,
          16.24742867311085,
          16.501294746128206,
          16.755160819145566,
          17.00902689216292,
          17.262892965180278,
          17.516759038197634,
          17.770625111214994,
          18.02449118423235,
          18.278357257249706,
          18.532223330267062,
          18.78608940328442,
          19.039955476301778,
          19.293821549319134,
          19.54768762233649,
          19.80155369535385,
          20.055419768371205,
          20.30928584138856,
          20.56315191440592,
          20.817017987423277,
          21.070884060440633,
          21.32475013345799,
          21.57861620647535,
          21.832482279492705,
          22.08634835251006,
          22.340214425527417,
          22.594080498544777,
          22.847946571562133,
          23.10181264457949,
          23.355678717596845,
          23.609544790614205,
          23.86341086363156,
          24.117276936648917,
          24.371143009666277,
          24.625009082683633,
          24.87887515570099,
          25.132741228718345
         ],
         "y": [
          0,
          0.2511479871810792,
          0.4861967361004687,
          0.690079011482112,
          0.8497254299495144,
          0.9549022414440739,
          0.998867339183008,
          0.9788024462147787,
          0.8959937742913359,
          0.7557495743542584,
          0.5670598638627709,
          0.3420201433256689,
          0.09505604330418244,
          -0.15800139597335008,
          -0.40093053540661383,
          -0.6181589862206053,
          -0.7957618405308321,
          -0.9223542941045814,
          -0.9898214418809327,
          -0.9938384644612541,
          -0.9341478602651068,
          -0.814575952050336,
          -0.6427876096865396,
          -0.4297949120891719,
          -0.18925124436040974,
          0.06342391965656491,
          0.31203344569848745,
          0.5406408174555979,
          0.7345917086575334,
          0.8814533634475821,
          0.9718115683235418,
          0.9998741276738751,
          0.963842158559942,
          0.8660254037844383,
          0.7126941713788629,
          0.5136773915734056,
          0.2817325568414299,
          0.03172793349806701,
          -0.22031053278654034,
          -0.45822652172741085,
          -0.6667690005162913,
          -0.8325698546347716,
          -0.9450008187146683,
          -0.9968547759519424,
          -0.9848077530122081,
          -0.9096319953545183,
          -0.7761464642917573,
          -0.5929079290546404,
          -0.3716624556603267,
          -0.1265924535737493,
          0.12659245357375007,
          0.3716624556603274,
          0.5929079290546411,
          0.7761464642917566,
          0.9096319953545187,
          0.984807753012208,
          0.9968547759519423,
          0.9450008187146687,
          0.8325698546347712,
          0.6667690005162921,
          0.4582265217274102,
          0.22031053278654128,
          -0.03172793349806781,
          -0.28173255684142895,
          -0.5136773915734063,
          -0.7126941713788623,
          -0.8660254037844395,
          -0.9638421585599423,
          -0.9998741276738751,
          -0.971811568323542,
          -0.8814533634475813,
          -0.7345917086575329,
          -0.540640817455598,
          -0.31203344569848834,
          -0.06342391965656323,
          0.18925124436041055,
          0.4297949120891711,
          0.6427876096865381,
          0.8145759520503364,
          0.9341478602651068,
          0.993838464461254,
          0.9898214418809325,
          0.922354294104581,
          0.7957618405308322,
          0.618158986220606,
          0.4009305354066122,
          0.15800139597334928,
          -0.09505604330418234,
          -0.34202014332566755,
          -0.5670598638627719,
          -0.7557495743542586,
          -0.8959937742913356,
          -0.9788024462147784,
          -0.998867339183008,
          -0.9549022414440739,
          -0.8497254299495147,
          -0.6900790114821107,
          -0.48619673610046793,
          -0.2511479871810793,
          -9.797174393178826e-16
         ]
        },
        {
         "marker": {
          "color": "red",
          "size": 8
         },
         "mode": "markers+lines",
         "name": "Cos(x)",
         "opacity": 0.5,
         "type": "scatter",
         "x": [
          0,
          0.25386607301735703,
          0.5077321460347141,
          0.7615982190520711,
          1.0154642920694281,
          1.269330365086785,
          1.5231964381041423,
          1.7770625111214993,
          2.0309285841388562,
          2.284794657156213,
          2.53866073017357,
          2.792526803190927,
          3.0463928762082846,
          3.3002589492256416,
          3.5541250222429985,
          3.8079910952603555,
          4.0618571682777125,
          4.3157232412950695,
          4.569589314312426,
          4.823455387329783,
          5.07732146034714,
          5.331187533364497,
          5.585053606381854,
          5.838919679399211,
          6.092785752416569,
          6.346651825433926,
          6.600517898451283,
          6.85438397146864,
          7.108250044485997,
          7.362116117503354,
          7.615982190520711,
          7.869848263538068,
          8.123714336555425,
          8.377580409572783,
          8.631446482590139,
          8.885312555607497,
          9.139178628624853,
          9.39304470164221,
          9.646910774659567,
          9.900776847676925,
          10.15464292069428,
          10.408508993711639,
          10.662375066728995,
          10.916241139746353,
          11.170107212763709,
          11.423973285781067,
          11.677839358798423,
          11.93170543181578,
          12.185571504833138,
          12.439437577850494,
          12.693303650867852,
          12.947169723885208,
          13.201035796902566,
          13.454901869919922,
          13.70876794293728,
          13.962634015954636,
          14.216500088971994,
          14.47036616198935,
          14.724232235006708,
          14.978098308024064,
          15.231964381041422,
          15.485830454058778,
          15.739696527076136,
          15.993562600093492,
          16.24742867311085,
          16.501294746128206,
          16.755160819145566,
          17.00902689216292,
          17.262892965180278,
          17.516759038197634,
          17.770625111214994,
          18.02449118423235,
          18.278357257249706,
          18.532223330267062,
          18.78608940328442,
          19.039955476301778,
          19.293821549319134,
          19.54768762233649,
          19.80155369535385,
          20.055419768371205,
          20.30928584138856,
          20.56315191440592,
          20.817017987423277,
          21.070884060440633,
          21.32475013345799,
          21.57861620647535,
          21.832482279492705,
          22.08634835251006,
          22.340214425527417,
          22.594080498544777,
          22.847946571562133,
          23.10181264457949,
          23.355678717596845,
          23.609544790614205,
          23.86341086363156,
          24.117276936648917,
          24.371143009666277,
          24.625009082683633,
          24.87887515570099,
          25.132741228718345
         ],
         "y": [
          1,
          0.9679487013963562,
          0.8738493770697849,
          0.7237340381050701,
          0.5272254676105025,
          0.2969203753282749,
          0.04758191582374218,
          -0.20480666806519074,
          -0.4440666126057741,
          -0.654860733945285,
          -0.8236765814298327,
          -0.9396926207859083,
          -0.9954719225730846,
          -0.9874388886763943,
          -0.9161084574320696,
          -0.7860530947427874,
          -0.6056096871376667,
          -0.3863451256931287,
          -0.14231483827328525,
          0.11083819990101086,
          0.35688622159187167,
          0.5800569095711979,
          0.7660444431189779,
          0.9029265382866211,
          0.9819286972627068,
          0.9979866764718843,
          0.9500711177409452,
          0.841253532831181,
          0.6785094115571321,
          0.4722710747726826,
          0.2357589355094271,
          -0.015865963834808008,
          -0.266473813690035,
          -0.5000000000000007,
          -0.7014748877063212,
          -0.8579834132349774,
          -0.9594929736144974,
          -0.9994965423831852,
          -0.9754297868854072,
          -0.8888354486549233,
          -0.745264449675755,
          -0.5539200638661099,
          -0.32706796331742216,
          -0.07924995685678815,
          0.17364817766692975,
          0.4154150130018866,
          0.6305526670845218,
          0.8052702575310586,
          0.9283679330160729,
          0.9919548128307953,
          0.9919548128307952,
          0.9283679330160727,
          0.8052702575310582,
          0.6305526670845227,
          0.4154150130018859,
          0.1736481776669307,
          -0.07924995685678893,
          -0.3270679633174212,
          -0.5539200638661106,
          -0.7452644496757543,
          -0.8888354486549236,
          -0.9754297868854069,
          -0.9994965423831851,
          -0.9594929736144976,
          -0.8579834132349771,
          -0.7014748877063219,
          -0.4999999999999985,
          -0.26647381369003426,
          -0.015865963834808098,
          0.23575893550942614,
          0.47227107477268404,
          0.6785094115571326,
          0.841253532831181,
          0.950071117740945,
          0.9979866764718844,
          0.9819286972627066,
          0.9029265382866215,
          0.766044443118979,
          0.5800569095711973,
          0.3568862215918717,
          0.11083819990101183,
          -0.1423148382732869,
          -0.38634512569312945,
          -0.6056096871376666,
          -0.7860530947427868,
          -0.9161084574320703,
          -0.9874388886763944,
          -0.9954719225730846,
          -0.9396926207859088,
          -0.823676581429832,
          -0.6548607339452848,
          -0.4440666126057746,
          -0.20480666806519213,
          0.04758191582374342,
          0.29692037532827503,
          0.5272254676105018,
          0.7237340381050714,
          0.8738493770697854,
          0.9679487013963562,
          1
         ]
        }
       ],
       "layout": {
        "title": "My First Plotly Graph",
        "xaxis": {
         "title": "x"
        },
        "yaxis": {
         "title": "sin(x)"
        }
       }
      },
      "text/html": [
       "<div id=\"0db4467e-f6f4-4950-9ab9-de866a7e4844\" style=\"height: 525px; width: 100%;\" class=\"plotly-graph-div\"></div><script type=\"text/javascript\">require([\"plotly\"], function(Plotly) { window.PLOTLYENV=window.PLOTLYENV || {};window.PLOTLYENV.BASE_URL=\"https://plot.ly\";Plotly.newPlot(\"0db4467e-f6f4-4950-9ab9-de866a7e4844\", [{\"type\": \"scatter\", \"x\": [0.0, 0.25386607301735703, 0.5077321460347141, 0.7615982190520711, 1.0154642920694281, 1.269330365086785, 1.5231964381041423, 1.7770625111214993, 2.0309285841388562, 2.284794657156213, 2.53866073017357, 2.792526803190927, 3.0463928762082846, 3.3002589492256416, 3.5541250222429985, 3.8079910952603555, 4.0618571682777125, 4.3157232412950695, 4.569589314312426, 4.823455387329783, 5.07732146034714, 5.331187533364497, 5.585053606381854, 5.838919679399211, 6.092785752416569, 6.346651825433926, 6.600517898451283, 6.85438397146864, 7.108250044485997, 7.362116117503354, 7.615982190520711, 7.869848263538068, 8.123714336555425, 8.377580409572783, 8.631446482590139, 8.885312555607497, 9.139178628624853, 9.39304470164221, 9.646910774659567, 9.900776847676925, 10.15464292069428, 10.408508993711639, 10.662375066728995, 10.916241139746353, 11.170107212763709, 11.423973285781067, 11.677839358798423, 11.93170543181578, 12.185571504833138, 12.439437577850494, 12.693303650867852, 12.947169723885208, 13.201035796902566, 13.454901869919922, 13.70876794293728, 13.962634015954636, 14.216500088971994, 14.47036616198935, 14.724232235006708, 14.978098308024064, 15.231964381041422, 15.485830454058778, 15.739696527076136, 15.993562600093492, 16.24742867311085, 16.501294746128206, 16.755160819145566, 17.00902689216292, 17.262892965180278, 17.516759038197634, 17.770625111214994, 18.02449118423235, 18.278357257249706, 18.532223330267062, 18.78608940328442, 19.039955476301778, 19.293821549319134, 19.54768762233649, 19.80155369535385, 20.055419768371205, 20.30928584138856, 20.56315191440592, 20.817017987423277, 21.070884060440633, 21.32475013345799, 21.57861620647535, 21.832482279492705, 22.08634835251006, 22.340214425527417, 22.594080498544777, 22.847946571562133, 23.10181264457949, 23.355678717596845, 23.609544790614205, 23.86341086363156, 24.117276936648917, 24.371143009666277, 24.625009082683633, 24.87887515570099, 25.132741228718345], \"y\": [0.0, 0.2511479871810792, 0.4861967361004687, 0.690079011482112, 0.8497254299495144, 0.9549022414440739, 0.998867339183008, 0.9788024462147787, 0.8959937742913359, 0.7557495743542584, 0.5670598638627709, 0.3420201433256689, 0.09505604330418244, -0.15800139597335008, -0.40093053540661383, -0.6181589862206053, -0.7957618405308321, -0.9223542941045814, -0.9898214418809327, -0.9938384644612541, -0.9341478602651068, -0.814575952050336, -0.6427876096865396, -0.4297949120891719, -0.18925124436040974, 0.06342391965656491, 0.31203344569848745, 0.5406408174555979, 0.7345917086575334, 0.8814533634475821, 0.9718115683235418, 0.9998741276738751, 0.963842158559942, 0.8660254037844383, 0.7126941713788629, 0.5136773915734056, 0.2817325568414299, 0.03172793349806701, -0.22031053278654034, -0.45822652172741085, -0.6667690005162913, -0.8325698546347716, -0.9450008187146683, -0.9968547759519424, -0.9848077530122081, -0.9096319953545183, -0.7761464642917573, -0.5929079290546404, -0.3716624556603267, -0.1265924535737493, 0.12659245357375007, 0.3716624556603274, 0.5929079290546411, 0.7761464642917566, 0.9096319953545187, 0.984807753012208, 0.9968547759519423, 0.9450008187146687, 0.8325698546347712, 0.6667690005162921, 0.4582265217274102, 0.22031053278654128, -0.03172793349806781, -0.28173255684142895, -0.5136773915734063, -0.7126941713788623, -0.8660254037844395, -0.9638421585599423, -0.9998741276738751, -0.971811568323542, -0.8814533634475813, -0.7345917086575329, -0.540640817455598, -0.31203344569848834, -0.06342391965656323, 0.18925124436041055, 0.4297949120891711, 0.6427876096865381, 0.8145759520503364, 0.9341478602651068, 0.993838464461254, 0.9898214418809325, 0.922354294104581, 0.7957618405308322, 0.618158986220606, 0.4009305354066122, 0.15800139597334928, -0.09505604330418234, -0.34202014332566755, -0.5670598638627719, -0.7557495743542586, -0.8959937742913356, -0.9788024462147784, -0.998867339183008, -0.9549022414440739, -0.8497254299495147, -0.6900790114821107, -0.48619673610046793, -0.2511479871810793, -9.797174393178826e-16], \"mode\": \"lines\", \"marker\": {\"size\": 8, \"color\": \"navy\"}, \"name\": \"Sin(x)\"}, {\"type\": \"scatter\", \"x\": [0.0, 0.25386607301735703, 0.5077321460347141, 0.7615982190520711, 1.0154642920694281, 1.269330365086785, 1.5231964381041423, 1.7770625111214993, 2.0309285841388562, 2.284794657156213, 2.53866073017357, 2.792526803190927, 3.0463928762082846, 3.3002589492256416, 3.5541250222429985, 3.8079910952603555, 4.0618571682777125, 4.3157232412950695, 4.569589314312426, 4.823455387329783, 5.07732146034714, 5.331187533364497, 5.585053606381854, 5.838919679399211, 6.092785752416569, 6.346651825433926, 6.600517898451283, 6.85438397146864, 7.108250044485997, 7.362116117503354, 7.615982190520711, 7.869848263538068, 8.123714336555425, 8.377580409572783, 8.631446482590139, 8.885312555607497, 9.139178628624853, 9.39304470164221, 9.646910774659567, 9.900776847676925, 10.15464292069428, 10.408508993711639, 10.662375066728995, 10.916241139746353, 11.170107212763709, 11.423973285781067, 11.677839358798423, 11.93170543181578, 12.185571504833138, 12.439437577850494, 12.693303650867852, 12.947169723885208, 13.201035796902566, 13.454901869919922, 13.70876794293728, 13.962634015954636, 14.216500088971994, 14.47036616198935, 14.724232235006708, 14.978098308024064, 15.231964381041422, 15.485830454058778, 15.739696527076136, 15.993562600093492, 16.24742867311085, 16.501294746128206, 16.755160819145566, 17.00902689216292, 17.262892965180278, 17.516759038197634, 17.770625111214994, 18.02449118423235, 18.278357257249706, 18.532223330267062, 18.78608940328442, 19.039955476301778, 19.293821549319134, 19.54768762233649, 19.80155369535385, 20.055419768371205, 20.30928584138856, 20.56315191440592, 20.817017987423277, 21.070884060440633, 21.32475013345799, 21.57861620647535, 21.832482279492705, 22.08634835251006, 22.340214425527417, 22.594080498544777, 22.847946571562133, 23.10181264457949, 23.355678717596845, 23.609544790614205, 23.86341086363156, 24.117276936648917, 24.371143009666277, 24.625009082683633, 24.87887515570099, 25.132741228718345], \"y\": [1.0, 0.9679487013963562, 0.8738493770697849, 0.7237340381050701, 0.5272254676105025, 0.2969203753282749, 0.04758191582374218, -0.20480666806519074, -0.4440666126057741, -0.654860733945285, -0.8236765814298327, -0.9396926207859083, -0.9954719225730846, -0.9874388886763943, -0.9161084574320696, -0.7860530947427874, -0.6056096871376667, -0.3863451256931287, -0.14231483827328525, 0.11083819990101086, 0.35688622159187167, 0.5800569095711979, 0.7660444431189779, 0.9029265382866211, 0.9819286972627068, 0.9979866764718843, 0.9500711177409452, 0.841253532831181, 0.6785094115571321, 0.4722710747726826, 0.2357589355094271, -0.015865963834808008, -0.266473813690035, -0.5000000000000007, -0.7014748877063212, -0.8579834132349774, -0.9594929736144974, -0.9994965423831852, -0.9754297868854072, -0.8888354486549233, -0.745264449675755, -0.5539200638661099, -0.32706796331742216, -0.07924995685678815, 0.17364817766692975, 0.4154150130018866, 0.6305526670845218, 0.8052702575310586, 0.9283679330160729, 0.9919548128307953, 0.9919548128307952, 0.9283679330160727, 0.8052702575310582, 0.6305526670845227, 0.4154150130018859, 0.1736481776669307, -0.07924995685678893, -0.3270679633174212, -0.5539200638661106, -0.7452644496757543, -0.8888354486549236, -0.9754297868854069, -0.9994965423831851, -0.9594929736144976, -0.8579834132349771, -0.7014748877063219, -0.4999999999999985, -0.26647381369003426, -0.015865963834808098, 0.23575893550942614, 0.47227107477268404, 0.6785094115571326, 0.841253532831181, 0.950071117740945, 0.9979866764718844, 0.9819286972627066, 0.9029265382866215, 0.766044443118979, 0.5800569095711973, 0.3568862215918717, 0.11083819990101183, -0.1423148382732869, -0.38634512569312945, -0.6056096871376666, -0.7860530947427868, -0.9161084574320703, -0.9874388886763944, -0.9954719225730846, -0.9396926207859088, -0.823676581429832, -0.6548607339452848, -0.4440666126057746, -0.20480666806519213, 0.04758191582374342, 0.29692037532827503, 0.5272254676105018, 0.7237340381050714, 0.8738493770697854, 0.9679487013963562, 1.0], \"mode\": \"markers+lines\", \"marker\": {\"size\": 8, \"color\": \"red\"}, \"name\": \"Cos(x)\", \"opacity\": 0.5}], {\"title\": \"My First Plotly Graph\", \"xaxis\": {\"title\": \"x\"}, \"yaxis\": {\"title\": \"sin(x)\"}}, {\"showLink\": true, \"linkText\": \"Export to plot.ly\"})});</script>"
      ],
      "text/vnd.plotly.v1+html": [
       "<div id=\"0db4467e-f6f4-4950-9ab9-de866a7e4844\" style=\"height: 525px; width: 100%;\" class=\"plotly-graph-div\"></div><script type=\"text/javascript\">require([\"plotly\"], function(Plotly) { window.PLOTLYENV=window.PLOTLYENV || {};window.PLOTLYENV.BASE_URL=\"https://plot.ly\";Plotly.newPlot(\"0db4467e-f6f4-4950-9ab9-de866a7e4844\", [{\"type\": \"scatter\", \"x\": [0.0, 0.25386607301735703, 0.5077321460347141, 0.7615982190520711, 1.0154642920694281, 1.269330365086785, 1.5231964381041423, 1.7770625111214993, 2.0309285841388562, 2.284794657156213, 2.53866073017357, 2.792526803190927, 3.0463928762082846, 3.3002589492256416, 3.5541250222429985, 3.8079910952603555, 4.0618571682777125, 4.3157232412950695, 4.569589314312426, 4.823455387329783, 5.07732146034714, 5.331187533364497, 5.585053606381854, 5.838919679399211, 6.092785752416569, 6.346651825433926, 6.600517898451283, 6.85438397146864, 7.108250044485997, 7.362116117503354, 7.615982190520711, 7.869848263538068, 8.123714336555425, 8.377580409572783, 8.631446482590139, 8.885312555607497, 9.139178628624853, 9.39304470164221, 9.646910774659567, 9.900776847676925, 10.15464292069428, 10.408508993711639, 10.662375066728995, 10.916241139746353, 11.170107212763709, 11.423973285781067, 11.677839358798423, 11.93170543181578, 12.185571504833138, 12.439437577850494, 12.693303650867852, 12.947169723885208, 13.201035796902566, 13.454901869919922, 13.70876794293728, 13.962634015954636, 14.216500088971994, 14.47036616198935, 14.724232235006708, 14.978098308024064, 15.231964381041422, 15.485830454058778, 15.739696527076136, 15.993562600093492, 16.24742867311085, 16.501294746128206, 16.755160819145566, 17.00902689216292, 17.262892965180278, 17.516759038197634, 17.770625111214994, 18.02449118423235, 18.278357257249706, 18.532223330267062, 18.78608940328442, 19.039955476301778, 19.293821549319134, 19.54768762233649, 19.80155369535385, 20.055419768371205, 20.30928584138856, 20.56315191440592, 20.817017987423277, 21.070884060440633, 21.32475013345799, 21.57861620647535, 21.832482279492705, 22.08634835251006, 22.340214425527417, 22.594080498544777, 22.847946571562133, 23.10181264457949, 23.355678717596845, 23.609544790614205, 23.86341086363156, 24.117276936648917, 24.371143009666277, 24.625009082683633, 24.87887515570099, 25.132741228718345], \"y\": [0.0, 0.2511479871810792, 0.4861967361004687, 0.690079011482112, 0.8497254299495144, 0.9549022414440739, 0.998867339183008, 0.9788024462147787, 0.8959937742913359, 0.7557495743542584, 0.5670598638627709, 0.3420201433256689, 0.09505604330418244, -0.15800139597335008, -0.40093053540661383, -0.6181589862206053, -0.7957618405308321, -0.9223542941045814, -0.9898214418809327, -0.9938384644612541, -0.9341478602651068, -0.814575952050336, -0.6427876096865396, -0.4297949120891719, -0.18925124436040974, 0.06342391965656491, 0.31203344569848745, 0.5406408174555979, 0.7345917086575334, 0.8814533634475821, 0.9718115683235418, 0.9998741276738751, 0.963842158559942, 0.8660254037844383, 0.7126941713788629, 0.5136773915734056, 0.2817325568414299, 0.03172793349806701, -0.22031053278654034, -0.45822652172741085, -0.6667690005162913, -0.8325698546347716, -0.9450008187146683, -0.9968547759519424, -0.9848077530122081, -0.9096319953545183, -0.7761464642917573, -0.5929079290546404, -0.3716624556603267, -0.1265924535737493, 0.12659245357375007, 0.3716624556603274, 0.5929079290546411, 0.7761464642917566, 0.9096319953545187, 0.984807753012208, 0.9968547759519423, 0.9450008187146687, 0.8325698546347712, 0.6667690005162921, 0.4582265217274102, 0.22031053278654128, -0.03172793349806781, -0.28173255684142895, -0.5136773915734063, -0.7126941713788623, -0.8660254037844395, -0.9638421585599423, -0.9998741276738751, -0.971811568323542, -0.8814533634475813, -0.7345917086575329, -0.540640817455598, -0.31203344569848834, -0.06342391965656323, 0.18925124436041055, 0.4297949120891711, 0.6427876096865381, 0.8145759520503364, 0.9341478602651068, 0.993838464461254, 0.9898214418809325, 0.922354294104581, 0.7957618405308322, 0.618158986220606, 0.4009305354066122, 0.15800139597334928, -0.09505604330418234, -0.34202014332566755, -0.5670598638627719, -0.7557495743542586, -0.8959937742913356, -0.9788024462147784, -0.998867339183008, -0.9549022414440739, -0.8497254299495147, -0.6900790114821107, -0.48619673610046793, -0.2511479871810793, -9.797174393178826e-16], \"mode\": \"lines\", \"marker\": {\"size\": 8, \"color\": \"navy\"}, \"name\": \"Sin(x)\"}, {\"type\": \"scatter\", \"x\": [0.0, 0.25386607301735703, 0.5077321460347141, 0.7615982190520711, 1.0154642920694281, 1.269330365086785, 1.5231964381041423, 1.7770625111214993, 2.0309285841388562, 2.284794657156213, 2.53866073017357, 2.792526803190927, 3.0463928762082846, 3.3002589492256416, 3.5541250222429985, 3.8079910952603555, 4.0618571682777125, 4.3157232412950695, 4.569589314312426, 4.823455387329783, 5.07732146034714, 5.331187533364497, 5.585053606381854, 5.838919679399211, 6.092785752416569, 6.346651825433926, 6.600517898451283, 6.85438397146864, 7.108250044485997, 7.362116117503354, 7.615982190520711, 7.869848263538068, 8.123714336555425, 8.377580409572783, 8.631446482590139, 8.885312555607497, 9.139178628624853, 9.39304470164221, 9.646910774659567, 9.900776847676925, 10.15464292069428, 10.408508993711639, 10.662375066728995, 10.916241139746353, 11.170107212763709, 11.423973285781067, 11.677839358798423, 11.93170543181578, 12.185571504833138, 12.439437577850494, 12.693303650867852, 12.947169723885208, 13.201035796902566, 13.454901869919922, 13.70876794293728, 13.962634015954636, 14.216500088971994, 14.47036616198935, 14.724232235006708, 14.978098308024064, 15.231964381041422, 15.485830454058778, 15.739696527076136, 15.993562600093492, 16.24742867311085, 16.501294746128206, 16.755160819145566, 17.00902689216292, 17.262892965180278, 17.516759038197634, 17.770625111214994, 18.02449118423235, 18.278357257249706, 18.532223330267062, 18.78608940328442, 19.039955476301778, 19.293821549319134, 19.54768762233649, 19.80155369535385, 20.055419768371205, 20.30928584138856, 20.56315191440592, 20.817017987423277, 21.070884060440633, 21.32475013345799, 21.57861620647535, 21.832482279492705, 22.08634835251006, 22.340214425527417, 22.594080498544777, 22.847946571562133, 23.10181264457949, 23.355678717596845, 23.609544790614205, 23.86341086363156, 24.117276936648917, 24.371143009666277, 24.625009082683633, 24.87887515570099, 25.132741228718345], \"y\": [1.0, 0.9679487013963562, 0.8738493770697849, 0.7237340381050701, 0.5272254676105025, 0.2969203753282749, 0.04758191582374218, -0.20480666806519074, -0.4440666126057741, -0.654860733945285, -0.8236765814298327, -0.9396926207859083, -0.9954719225730846, -0.9874388886763943, -0.9161084574320696, -0.7860530947427874, -0.6056096871376667, -0.3863451256931287, -0.14231483827328525, 0.11083819990101086, 0.35688622159187167, 0.5800569095711979, 0.7660444431189779, 0.9029265382866211, 0.9819286972627068, 0.9979866764718843, 0.9500711177409452, 0.841253532831181, 0.6785094115571321, 0.4722710747726826, 0.2357589355094271, -0.015865963834808008, -0.266473813690035, -0.5000000000000007, -0.7014748877063212, -0.8579834132349774, -0.9594929736144974, -0.9994965423831852, -0.9754297868854072, -0.8888354486549233, -0.745264449675755, -0.5539200638661099, -0.32706796331742216, -0.07924995685678815, 0.17364817766692975, 0.4154150130018866, 0.6305526670845218, 0.8052702575310586, 0.9283679330160729, 0.9919548128307953, 0.9919548128307952, 0.9283679330160727, 0.8052702575310582, 0.6305526670845227, 0.4154150130018859, 0.1736481776669307, -0.07924995685678893, -0.3270679633174212, -0.5539200638661106, -0.7452644496757543, -0.8888354486549236, -0.9754297868854069, -0.9994965423831851, -0.9594929736144976, -0.8579834132349771, -0.7014748877063219, -0.4999999999999985, -0.26647381369003426, -0.015865963834808098, 0.23575893550942614, 0.47227107477268404, 0.6785094115571326, 0.841253532831181, 0.950071117740945, 0.9979866764718844, 0.9819286972627066, 0.9029265382866215, 0.766044443118979, 0.5800569095711973, 0.3568862215918717, 0.11083819990101183, -0.1423148382732869, -0.38634512569312945, -0.6056096871376666, -0.7860530947427868, -0.9161084574320703, -0.9874388886763944, -0.9954719225730846, -0.9396926207859088, -0.823676581429832, -0.6548607339452848, -0.4440666126057746, -0.20480666806519213, 0.04758191582374342, 0.29692037532827503, 0.5272254676105018, 0.7237340381050714, 0.8738493770697854, 0.9679487013963562, 1.0], \"mode\": \"markers+lines\", \"marker\": {\"size\": 8, \"color\": \"red\"}, \"name\": \"Cos(x)\", \"opacity\": 0.5}], {\"title\": \"My First Plotly Graph\", \"xaxis\": {\"title\": \"x\"}, \"yaxis\": {\"title\": \"sin(x)\"}}, {\"showLink\": true, \"linkText\": \"Export to plot.ly\"})});</script>"
      ]
     },
     "metadata": {},
     "output_type": "display_data"
    }
   ],
   "source": [
    "# generate data\n",
    "x = np.linspace(0,np.pi*8,100)\n",
    "y = np.sin(x)\n",
    "z = np.cos(x)\n",
    "\n",
    "layout = Layout(\n",
    "    title=\"My First Plotly Graph\",\n",
    "    xaxis = dict(\n",
    "        title=\"x\"),\n",
    "    yaxis = dict(title=\"sin(x)\")\n",
    ")\n",
    "\n",
    "trace1 = Scatter(\n",
    "    x = x,\n",
    "    y = y,\n",
    "    mode = \"lines\",\n",
    "    marker = dict(\n",
    "        size=8,\n",
    "        color=\"navy\"\n",
    "    ),\n",
    "    name=\"Sin(x)\"\n",
    ")\n",
    "\n",
    "trace2 = Scatter(\n",
    "    x = x,\n",
    "    y = z,\n",
    "    mode = \"markers+lines\",\n",
    "    marker = dict(\n",
    "        size=8,\n",
    "        color=\"red\"\n",
    "    ),\n",
    "    name=\"Cos(x)\",\n",
    "    opacity=0.5\n",
    ")\n",
    "\n",
    "# load data and fig with nec\n",
    "data = Data([trace1,trace2])\n",
    "fig = Figure(data=data, layout=layout)\n",
    "\n",
    "#plot\n",
    "py.offline.iplot(fig)"
   ]
  },
  {
   "cell_type": "code",
   "execution_count": 8,
   "metadata": {},
   "outputs": [
    {
     "data": {
      "application/vnd.plotly.v1+json": {
       "data": [
        {
         "marker": {
          "color": "red",
          "size": "10",
          "symbol": 104
         },
         "mode": "markers+lines",
         "name": "first trace",
         "text": [
          "one",
          "two",
          "three"
         ],
         "type": "scatter",
         "x": [
          1,
          2,
          3
         ],
         "y": [
          4,
          5,
          6
         ]
        },
        {
         "marker": {
          "color": "blue",
          "size": 10,
          "symbol": "star"
         },
         "mode": "markers",
         "name": "2nd trace",
         "type": "scatter",
         "x": [
          1,
          1.2,
          1.4,
          1.5999999999999999,
          1.7999999999999998,
          1.9999999999999998,
          2.1999999999999997,
          2.3999999999999995,
          2.5999999999999996,
          2.8,
          2.9999999999999996
         ],
         "y": [
          5.048825908847379,
          5.592234515803358,
          5.912698379930761,
          5.997441618249031,
          5.843085785269172,
          5.455784560954091,
          4.850978422917542,
          4.052779083306907,
          3.093008230928787,
          2.00992890093543,
          0.8467200483592059
         ]
        }
       ],
       "layout": {
        "title": "My Second Plotly Graph",
        "xaxis": {
         "title": "x"
        },
        "yaxis": {
         "title": "6 * sin(x)"
        }
       }
      },
      "text/html": [
       "<div id=\"90c7950e-2c30-4f7e-8445-436825d463cb\" style=\"height: 525px; width: 100%;\" class=\"plotly-graph-div\"></div><script type=\"text/javascript\">require([\"plotly\"], function(Plotly) { window.PLOTLYENV=window.PLOTLYENV || {};window.PLOTLYENV.BASE_URL=\"https://plot.ly\";Plotly.newPlot(\"90c7950e-2c30-4f7e-8445-436825d463cb\", [{\"type\": \"scatter\", \"x\": [1, 2, 3], \"y\": [4, 5, 6], \"marker\": {\"color\": \"red\", \"symbol\": 104, \"size\": \"10\"}, \"mode\": \"markers+lines\", \"text\": [\"one\", \"two\", \"three\"], \"name\": \"first trace\"}, {\"type\": \"scatter\", \"x\": [1.0, 1.2, 1.4, 1.5999999999999999, 1.7999999999999998, 1.9999999999999998, 2.1999999999999997, 2.3999999999999995, 2.5999999999999996, 2.8, 2.9999999999999996], \"y\": [5.048825908847379, 5.592234515803358, 5.912698379930761, 5.997441618249031, 5.843085785269172, 5.455784560954091, 4.850978422917542, 4.052779083306907, 3.093008230928787, 2.00992890093543, 0.8467200483592059], \"marker\": {\"color\": \"blue\", \"symbol\": \"star\", \"size\": 10}, \"mode\": \"markers\", \"name\": \"2nd trace\"}], {\"title\": \"My Second Plotly Graph\", \"xaxis\": {\"title\": \"x\"}, \"yaxis\": {\"title\": \"6 * sin(x)\"}}, {\"showLink\": true, \"linkText\": \"Export to plot.ly\"})});</script>"
      ],
      "text/vnd.plotly.v1+html": [
       "<div id=\"90c7950e-2c30-4f7e-8445-436825d463cb\" style=\"height: 525px; width: 100%;\" class=\"plotly-graph-div\"></div><script type=\"text/javascript\">require([\"plotly\"], function(Plotly) { window.PLOTLYENV=window.PLOTLYENV || {};window.PLOTLYENV.BASE_URL=\"https://plot.ly\";Plotly.newPlot(\"90c7950e-2c30-4f7e-8445-436825d463cb\", [{\"type\": \"scatter\", \"x\": [1, 2, 3], \"y\": [4, 5, 6], \"marker\": {\"color\": \"red\", \"symbol\": 104, \"size\": \"10\"}, \"mode\": \"markers+lines\", \"text\": [\"one\", \"two\", \"three\"], \"name\": \"first trace\"}, {\"type\": \"scatter\", \"x\": [1.0, 1.2, 1.4, 1.5999999999999999, 1.7999999999999998, 1.9999999999999998, 2.1999999999999997, 2.3999999999999995, 2.5999999999999996, 2.8, 2.9999999999999996], \"y\": [5.048825908847379, 5.592234515803358, 5.912698379930761, 5.997441618249031, 5.843085785269172, 5.455784560954091, 4.850978422917542, 4.052779083306907, 3.093008230928787, 2.00992890093543, 0.8467200483592059], \"marker\": {\"color\": \"blue\", \"symbol\": \"star\", \"size\": 10}, \"mode\": \"markers\", \"name\": \"2nd trace\"}], {\"title\": \"My Second Plotly Graph\", \"xaxis\": {\"title\": \"x\"}, \"yaxis\": {\"title\": \"6 * sin(x)\"}}, {\"showLink\": true, \"linkText\": \"Export to plot.ly\"})});</script>"
      ]
     },
     "metadata": {},
     "output_type": "display_data"
    }
   ],
   "source": [
    "# look at hover text\n",
    "\n",
    "x = np.arange(1,3.2,0.2)\n",
    "y = 6*np.sin(x)\n",
    "\n",
    "layout = Layout(\n",
    "    title=\"My Second Plotly Graph\",\n",
    "    xaxis = dict(\n",
    "        title=\"x\"),\n",
    "    yaxis = dict(title=\"6 * sin(x)\")\n",
    ")\n",
    "\n",
    "trace1 = Scatter(\n",
    "    x=[1,2,3], \n",
    "    y=[4,5,6], \n",
    "    marker={'color': 'red', 'symbol': 104, 'size': \"10\"},                 \n",
    "    mode=\"markers+lines\",  \n",
    "    text=[\"one\",\"two\",\"three\"],\n",
    "name=\"first trace\")\n",
    "\n",
    "trace2 = Scatter(x=x, \n",
    "                 y=y, \n",
    "                 marker={'color': 'blue', 'symbol': 'star', 'size': 10}, \n",
    "                 mode='markers', \n",
    "                 name='2nd trace')\n",
    "\n",
    "data = Data([trace1,trace2])\n",
    "fig = Figure(data=data,layout=layout)\n",
    "\n",
    "py.offline.iplot(fig)"
   ]
  },
  {
   "cell_type": "markdown",
   "metadata": {},
   "source": [
    "# Layout"
   ]
  },
  {
   "cell_type": "markdown",
   "metadata": {},
   "source": [
    "\n",
    "The Layout object will define the look of the plot, and plot features which are unrelated to the data. So we will be able to change things like the title, axis titles, spacing, font and even draw shapes on top of your plot! "
   ]
  },
  {
   "cell_type": "code",
   "execution_count": 9,
   "metadata": {},
   "outputs": [
    {
     "data": {
      "text/plain": [
       "{'title': 'My Second Plotly Graph',\n",
       " 'xaxis': {'title': 'x'},\n",
       " 'yaxis': {'title': '6 * sin(x)'}}"
      ]
     },
     "execution_count": 9,
     "metadata": {},
     "output_type": "execute_result"
    }
   ],
   "source": [
    "layout"
   ]
  },
  {
   "cell_type": "markdown",
   "metadata": {},
   "source": [
    "# Annotations\n",
    "\n",
    "We added a plot title as well as titles for all the axes. For fun we could add some text annotation as well in order to indicate the maximum point that's been plotted on the current plotting surface."
   ]
  },
  {
   "cell_type": "code",
   "execution_count": 10,
   "metadata": {},
   "outputs": [
    {
     "data": {
      "application/vnd.plotly.v1+json": {
       "data": [
        {
         "marker": {
          "color": "red",
          "size": "10",
          "symbol": 104
         },
         "mode": "markers+lines",
         "name": "first trace",
         "text": [
          "one",
          "two",
          "three"
         ],
         "type": "scatter",
         "x": [
          1,
          2,
          3
         ],
         "y": [
          4,
          5,
          6
         ]
        },
        {
         "marker": {
          "color": "blue",
          "size": 10,
          "symbol": "star"
         },
         "mode": "markers",
         "name": "2nd trace",
         "type": "scatter",
         "x": [
          1,
          1.2,
          1.4,
          1.5999999999999999,
          1.7999999999999998,
          1.9999999999999998,
          2.1999999999999997,
          2.3999999999999995,
          2.5999999999999996,
          2.8,
          2.9999999999999996
         ],
         "y": [
          5.048825908847379,
          5.592234515803358,
          5.912698379930761,
          5.997441618249031,
          5.843085785269172,
          5.455784560954091,
          4.850978422917542,
          4.052779083306907,
          3.093008230928787,
          2.00992890093543,
          0.8467200483592059
         ]
        }
       ],
       "layout": {
        "annotations": [
         {
          "text": "Highest Point",
          "x": 3,
          "y": 6
         }
        ],
        "title": "My Second Plotly Graph",
        "xaxis": {
         "title": "x"
        },
        "yaxis": {
         "title": "6 * sin(x)"
        }
       }
      },
      "text/html": [
       "<div id=\"b4a50057-4bb7-4b6b-a625-ea43cf0528d0\" style=\"height: 525px; width: 100%;\" class=\"plotly-graph-div\"></div><script type=\"text/javascript\">require([\"plotly\"], function(Plotly) { window.PLOTLYENV=window.PLOTLYENV || {};window.PLOTLYENV.BASE_URL=\"https://plot.ly\";Plotly.newPlot(\"b4a50057-4bb7-4b6b-a625-ea43cf0528d0\", [{\"type\": \"scatter\", \"x\": [1, 2, 3], \"y\": [4, 5, 6], \"marker\": {\"color\": \"red\", \"symbol\": 104, \"size\": \"10\"}, \"mode\": \"markers+lines\", \"text\": [\"one\", \"two\", \"three\"], \"name\": \"first trace\"}, {\"type\": \"scatter\", \"x\": [1.0, 1.2, 1.4, 1.5999999999999999, 1.7999999999999998, 1.9999999999999998, 2.1999999999999997, 2.3999999999999995, 2.5999999999999996, 2.8, 2.9999999999999996], \"y\": [5.048825908847379, 5.592234515803358, 5.912698379930761, 5.997441618249031, 5.843085785269172, 5.455784560954091, 4.850978422917542, 4.052779083306907, 3.093008230928787, 2.00992890093543, 0.8467200483592059], \"marker\": {\"color\": \"blue\", \"symbol\": \"star\", \"size\": 10}, \"mode\": \"markers\", \"name\": \"2nd trace\"}], {\"title\": \"My Second Plotly Graph\", \"xaxis\": {\"title\": \"x\"}, \"yaxis\": {\"title\": \"6 * sin(x)\"}, \"annotations\": [{\"text\": \"Highest Point\", \"x\": 3, \"y\": 6}]}, {\"showLink\": true, \"linkText\": \"Export to plot.ly\"})});</script>"
      ],
      "text/vnd.plotly.v1+html": [
       "<div id=\"b4a50057-4bb7-4b6b-a625-ea43cf0528d0\" style=\"height: 525px; width: 100%;\" class=\"plotly-graph-div\"></div><script type=\"text/javascript\">require([\"plotly\"], function(Plotly) { window.PLOTLYENV=window.PLOTLYENV || {};window.PLOTLYENV.BASE_URL=\"https://plot.ly\";Plotly.newPlot(\"b4a50057-4bb7-4b6b-a625-ea43cf0528d0\", [{\"type\": \"scatter\", \"x\": [1, 2, 3], \"y\": [4, 5, 6], \"marker\": {\"color\": \"red\", \"symbol\": 104, \"size\": \"10\"}, \"mode\": \"markers+lines\", \"text\": [\"one\", \"two\", \"three\"], \"name\": \"first trace\"}, {\"type\": \"scatter\", \"x\": [1.0, 1.2, 1.4, 1.5999999999999999, 1.7999999999999998, 1.9999999999999998, 2.1999999999999997, 2.3999999999999995, 2.5999999999999996, 2.8, 2.9999999999999996], \"y\": [5.048825908847379, 5.592234515803358, 5.912698379930761, 5.997441618249031, 5.843085785269172, 5.455784560954091, 4.850978422917542, 4.052779083306907, 3.093008230928787, 2.00992890093543, 0.8467200483592059], \"marker\": {\"color\": \"blue\", \"symbol\": \"star\", \"size\": 10}, \"mode\": \"markers\", \"name\": \"2nd trace\"}], {\"title\": \"My Second Plotly Graph\", \"xaxis\": {\"title\": \"x\"}, \"yaxis\": {\"title\": \"6 * sin(x)\"}, \"annotations\": [{\"text\": \"Highest Point\", \"x\": 3, \"y\": 6}]}, {\"showLink\": true, \"linkText\": \"Export to plot.ly\"})});</script>"
      ]
     },
     "metadata": {},
     "output_type": "display_data"
    }
   ],
   "source": [
    "# highest point\n",
    "layout.update(dict(\n",
    "    annotations=[Annotation(\n",
    "        text=\"Highest Point\", \n",
    "        x=3, \n",
    "        y=6)]\n",
    ")\n",
    "             )\n",
    "py.offline.iplot(Figure(data=data, layout=layout), filename='pyguide_4')"
   ]
  },
  {
   "cell_type": "code",
   "execution_count": 11,
   "metadata": {},
   "outputs": [
    {
     "data": {
      "application/vnd.plotly.v1+json": {
       "data": [
        {
         "marker": {
          "color": "red",
          "size": "10",
          "symbol": 104
         },
         "mode": "markers+lines",
         "name": "first trace",
         "text": [
          "one",
          "two",
          "three"
         ],
         "type": "scatter",
         "x": [
          1,
          2,
          3
         ],
         "y": [
          4,
          5,
          6
         ]
        },
        {
         "marker": {
          "color": "blue",
          "size": 10,
          "symbol": "star"
         },
         "mode": "markers",
         "name": "2nd trace",
         "type": "scatter",
         "x": [
          1,
          1.2,
          1.4,
          1.5999999999999999,
          1.7999999999999998,
          1.9999999999999998,
          2.1999999999999997,
          2.3999999999999995,
          2.5999999999999996,
          2.8,
          2.9999999999999996
         ],
         "y": [
          5.048825908847379,
          5.592234515803358,
          5.912698379930761,
          5.997441618249031,
          5.843085785269172,
          5.455784560954091,
          4.850978422917542,
          4.052779083306907,
          3.093008230928787,
          2.00992890093543,
          0.8467200483592059
         ]
        }
       ],
       "layout": {
        "annotations": [
         {
          "text": "lowest point",
          "x": 1,
          "y": 4
         }
        ],
        "title": "My Second Plotly Graph",
        "xaxis": {
         "title": "x"
        },
        "yaxis": {
         "title": "6 * sin(x)"
        }
       }
      },
      "text/html": [
       "<div id=\"2ec240da-0f9e-4a82-8ebe-945a38418b07\" style=\"height: 525px; width: 100%;\" class=\"plotly-graph-div\"></div><script type=\"text/javascript\">require([\"plotly\"], function(Plotly) { window.PLOTLYENV=window.PLOTLYENV || {};window.PLOTLYENV.BASE_URL=\"https://plot.ly\";Plotly.newPlot(\"2ec240da-0f9e-4a82-8ebe-945a38418b07\", [{\"type\": \"scatter\", \"x\": [1, 2, 3], \"y\": [4, 5, 6], \"marker\": {\"color\": \"red\", \"symbol\": 104, \"size\": \"10\"}, \"mode\": \"markers+lines\", \"text\": [\"one\", \"two\", \"three\"], \"name\": \"first trace\"}, {\"type\": \"scatter\", \"x\": [1.0, 1.2, 1.4, 1.5999999999999999, 1.7999999999999998, 1.9999999999999998, 2.1999999999999997, 2.3999999999999995, 2.5999999999999996, 2.8, 2.9999999999999996], \"y\": [5.048825908847379, 5.592234515803358, 5.912698379930761, 5.997441618249031, 5.843085785269172, 5.455784560954091, 4.850978422917542, 4.052779083306907, 3.093008230928787, 2.00992890093543, 0.8467200483592059], \"marker\": {\"color\": \"blue\", \"symbol\": \"star\", \"size\": 10}, \"mode\": \"markers\", \"name\": \"2nd trace\"}], {\"title\": \"My Second Plotly Graph\", \"xaxis\": {\"title\": \"x\"}, \"yaxis\": {\"title\": \"6 * sin(x)\"}, \"annotations\": [{\"text\": \"lowest point\", \"x\": 1, \"y\": 4}]}, {\"showLink\": true, \"linkText\": \"Export to plot.ly\"})});</script>"
      ],
      "text/vnd.plotly.v1+html": [
       "<div id=\"2ec240da-0f9e-4a82-8ebe-945a38418b07\" style=\"height: 525px; width: 100%;\" class=\"plotly-graph-div\"></div><script type=\"text/javascript\">require([\"plotly\"], function(Plotly) { window.PLOTLYENV=window.PLOTLYENV || {};window.PLOTLYENV.BASE_URL=\"https://plot.ly\";Plotly.newPlot(\"2ec240da-0f9e-4a82-8ebe-945a38418b07\", [{\"type\": \"scatter\", \"x\": [1, 2, 3], \"y\": [4, 5, 6], \"marker\": {\"color\": \"red\", \"symbol\": 104, \"size\": \"10\"}, \"mode\": \"markers+lines\", \"text\": [\"one\", \"two\", \"three\"], \"name\": \"first trace\"}, {\"type\": \"scatter\", \"x\": [1.0, 1.2, 1.4, 1.5999999999999999, 1.7999999999999998, 1.9999999999999998, 2.1999999999999997, 2.3999999999999995, 2.5999999999999996, 2.8, 2.9999999999999996], \"y\": [5.048825908847379, 5.592234515803358, 5.912698379930761, 5.997441618249031, 5.843085785269172, 5.455784560954091, 4.850978422917542, 4.052779083306907, 3.093008230928787, 2.00992890093543, 0.8467200483592059], \"marker\": {\"color\": \"blue\", \"symbol\": \"star\", \"size\": 10}, \"mode\": \"markers\", \"name\": \"2nd trace\"}], {\"title\": \"My Second Plotly Graph\", \"xaxis\": {\"title\": \"x\"}, \"yaxis\": {\"title\": \"6 * sin(x)\"}, \"annotations\": [{\"text\": \"lowest point\", \"x\": 1, \"y\": 4}]}, {\"showLink\": true, \"linkText\": \"Export to plot.ly\"})});</script>"
      ]
     },
     "metadata": {},
     "output_type": "display_data"
    }
   ],
   "source": [
    "#lowest point\n",
    "layout.update(dict(\n",
    "annotations = [Annotation(\n",
    "text = \"lowest point\",\n",
    "x=1,\n",
    "y=4)]))\n",
    "\n",
    "py.offline.iplot(Figure(data=data,layout=layout))"
   ]
  },
  {
   "cell_type": "markdown",
   "metadata": {},
   "source": [
    "# Shapes\n",
    "\n",
    "Let's add a rectangular block to highlight the section where trace 1 is above trace2."
   ]
  },
  {
   "cell_type": "code",
   "execution_count": 12,
   "metadata": {},
   "outputs": [
    {
     "data": {
      "application/vnd.plotly.v1+json": {
       "data": [
        {
         "marker": {
          "color": "red",
          "size": "10",
          "symbol": 104
         },
         "mode": "markers+lines",
         "name": "first trace",
         "text": [
          "one",
          "two",
          "three"
         ],
         "type": "scatter",
         "x": [
          1,
          2,
          3
         ],
         "y": [
          4,
          5,
          6
         ]
        },
        {
         "marker": {
          "color": "blue",
          "size": 10,
          "symbol": "star"
         },
         "mode": "markers",
         "name": "2nd trace",
         "type": "scatter",
         "x": [
          1,
          1.2,
          1.4,
          1.5999999999999999,
          1.7999999999999998,
          1.9999999999999998,
          2.1999999999999997,
          2.3999999999999995,
          2.5999999999999996,
          2.8,
          2.9999999999999996
         ],
         "y": [
          5.048825908847379,
          5.592234515803358,
          5.912698379930761,
          5.997441618249031,
          5.843085785269172,
          5.455784560954091,
          4.850978422917542,
          4.052779083306907,
          3.093008230928787,
          2.00992890093543,
          0.8467200483592059
         ]
        }
       ],
       "layout": {
        "annotations": [
         {
          "text": "Highest Point",
          "x": 3,
          "y": 6
         }
        ],
        "shapes": [
         {
          "fillcolor": "#d3d3d3",
          "line": {
           "width": 0
          },
          "opacity": 0.2,
          "type": "rect",
          "x0": "1",
          "x1": "2",
          "xref": "x",
          "y0": 0,
          "y1": 7,
          "yref": "y"
         }
        ],
        "title": "My Second Plotly Graph",
        "xaxis": {
         "title": "x"
        },
        "yaxis": {
         "title": "6 * sin(x)"
        }
       }
      },
      "text/html": [
       "<div id=\"d157793c-ef85-410b-86cf-47a0dee4a1b1\" style=\"height: 525px; width: 100%;\" class=\"plotly-graph-div\"></div><script type=\"text/javascript\">require([\"plotly\"], function(Plotly) { window.PLOTLYENV=window.PLOTLYENV || {};window.PLOTLYENV.BASE_URL=\"https://plot.ly\";Plotly.newPlot(\"d157793c-ef85-410b-86cf-47a0dee4a1b1\", [{\"type\": \"scatter\", \"x\": [1, 2, 3], \"y\": [4, 5, 6], \"marker\": {\"color\": \"red\", \"symbol\": 104, \"size\": \"10\"}, \"mode\": \"markers+lines\", \"text\": [\"one\", \"two\", \"three\"], \"name\": \"first trace\"}, {\"type\": \"scatter\", \"x\": [1.0, 1.2, 1.4, 1.5999999999999999, 1.7999999999999998, 1.9999999999999998, 2.1999999999999997, 2.3999999999999995, 2.5999999999999996, 2.8, 2.9999999999999996], \"y\": [5.048825908847379, 5.592234515803358, 5.912698379930761, 5.997441618249031, 5.843085785269172, 5.455784560954091, 4.850978422917542, 4.052779083306907, 3.093008230928787, 2.00992890093543, 0.8467200483592059], \"marker\": {\"color\": \"blue\", \"symbol\": \"star\", \"size\": 10}, \"mode\": \"markers\", \"name\": \"2nd trace\"}], {\"title\": \"My Second Plotly Graph\", \"xaxis\": {\"title\": \"x\"}, \"yaxis\": {\"title\": \"6 * sin(x)\"}, \"annotations\": [{\"text\": \"Highest Point\", \"x\": 3, \"y\": 6}], \"shapes\": [{\"type\": \"rect\", \"xref\": \"x\", \"yref\": \"y\", \"x0\": \"1\", \"y0\": 0, \"x1\": \"2\", \"y1\": 7, \"fillcolor\": \"#d3d3d3\", \"opacity\": 0.2, \"line\": {\"width\": 0}}]}, {\"showLink\": true, \"linkText\": \"Export to plot.ly\"})});</script>"
      ],
      "text/vnd.plotly.v1+html": [
       "<div id=\"d157793c-ef85-410b-86cf-47a0dee4a1b1\" style=\"height: 525px; width: 100%;\" class=\"plotly-graph-div\"></div><script type=\"text/javascript\">require([\"plotly\"], function(Plotly) { window.PLOTLYENV=window.PLOTLYENV || {};window.PLOTLYENV.BASE_URL=\"https://plot.ly\";Plotly.newPlot(\"d157793c-ef85-410b-86cf-47a0dee4a1b1\", [{\"type\": \"scatter\", \"x\": [1, 2, 3], \"y\": [4, 5, 6], \"marker\": {\"color\": \"red\", \"symbol\": 104, \"size\": \"10\"}, \"mode\": \"markers+lines\", \"text\": [\"one\", \"two\", \"three\"], \"name\": \"first trace\"}, {\"type\": \"scatter\", \"x\": [1.0, 1.2, 1.4, 1.5999999999999999, 1.7999999999999998, 1.9999999999999998, 2.1999999999999997, 2.3999999999999995, 2.5999999999999996, 2.8, 2.9999999999999996], \"y\": [5.048825908847379, 5.592234515803358, 5.912698379930761, 5.997441618249031, 5.843085785269172, 5.455784560954091, 4.850978422917542, 4.052779083306907, 3.093008230928787, 2.00992890093543, 0.8467200483592059], \"marker\": {\"color\": \"blue\", \"symbol\": \"star\", \"size\": 10}, \"mode\": \"markers\", \"name\": \"2nd trace\"}], {\"title\": \"My Second Plotly Graph\", \"xaxis\": {\"title\": \"x\"}, \"yaxis\": {\"title\": \"6 * sin(x)\"}, \"annotations\": [{\"text\": \"Highest Point\", \"x\": 3, \"y\": 6}], \"shapes\": [{\"type\": \"rect\", \"xref\": \"x\", \"yref\": \"y\", \"x0\": \"1\", \"y0\": 0, \"x1\": \"2\", \"y1\": 7, \"fillcolor\": \"#d3d3d3\", \"opacity\": 0.2, \"line\": {\"width\": 0}}]}, {\"showLink\": true, \"linkText\": \"Export to plot.ly\"})});</script>"
      ]
     },
     "metadata": {},
     "output_type": "display_data"
    }
   ],
   "source": [
    "layout.update(dict(\n",
    "    annotations=[Annotation(\n",
    "        text=\"Highest Point\", \n",
    "        x=3, \n",
    "        y=6)],\n",
    "    shapes = [\n",
    "        # 1st highlight during Feb 4 - Feb 6\n",
    "        {\n",
    "            'type': 'rect',\n",
    "            # x-reference is assigned to the x-values\n",
    "            'xref': 'x',\n",
    "            # y-reference is assigned to the plot paper [0,1]\n",
    "            'yref': 'y',\n",
    "            'x0': '1',\n",
    "            'y0': 0,\n",
    "            'x1': '2',\n",
    "            'y1': 7,\n",
    "            'fillcolor': '#d3d3d3',\n",
    "            'opacity': 0.2,\n",
    "            'line': {\n",
    "                'width': 0,\n",
    "            }\n",
    "        }]\n",
    ")\n",
    "             )\n",
    "py.offline.iplot(Figure(data=data, layout=layout), filename='pyguide_4')"
   ]
  },
  {
   "cell_type": "code",
   "execution_count": 13,
   "metadata": {
    "collapsed": true
   },
   "outputs": [],
   "source": [
    "# plot scatter with color\n",
    "\n",
    "x = np.random.randint(0,100,100)\n",
    "y = [x + np.random.randint(-100,100) for x in x]\n",
    "z = np.random.randint(0,3,100)"
   ]
  },
  {
   "cell_type": "code",
   "execution_count": 14,
   "metadata": {},
   "outputs": [
    {
     "data": {
      "application/vnd.plotly.v1+json": {
       "data": [
        {
         "marker": {
          "color": [
           0,
           0,
           2,
           1,
           2,
           1,
           1,
           1,
           0,
           1,
           1,
           1,
           1,
           1,
           1,
           1,
           0,
           0,
           0,
           0,
           0,
           2,
           0,
           2,
           0,
           0,
           2,
           2,
           1,
           2,
           0,
           2,
           0,
           2,
           0,
           2,
           2,
           2,
           2,
           1,
           0,
           2,
           0,
           0,
           1,
           0,
           1,
           0,
           2,
           1,
           0,
           2,
           2,
           1,
           1,
           0,
           2,
           2,
           0,
           2,
           1,
           2,
           2,
           1,
           0,
           0,
           0,
           2,
           2,
           0,
           2,
           2,
           1,
           2,
           0,
           2,
           1,
           0,
           1,
           2,
           2,
           1,
           1,
           2,
           1,
           1,
           0,
           1,
           1,
           0,
           2,
           1,
           1,
           0,
           0,
           2,
           1,
           1,
           1,
           2
          ],
          "colorscale": "heatmap-discrete-colorscale",
          "showscale": true,
          "size": 12
         },
         "mode": "markers",
         "type": "scatter",
         "x": [
          2,
          82,
          61,
          44,
          50,
          25,
          59,
          81,
          64,
          30,
          0,
          46,
          2,
          34,
          54,
          85,
          13,
          2,
          86,
          53,
          11,
          41,
          95,
          92,
          62,
          49,
          20,
          75,
          76,
          88,
          8,
          34,
          53,
          39,
          52,
          63,
          89,
          8,
          10,
          81,
          24,
          12,
          61,
          20,
          79,
          42,
          55,
          87,
          56,
          0,
          92,
          29,
          14,
          47,
          69,
          68,
          78,
          34,
          66,
          41,
          0,
          65,
          85,
          23,
          66,
          89,
          74,
          58,
          21,
          86,
          25,
          34,
          14,
          92,
          18,
          54,
          28,
          23,
          41,
          3,
          4,
          82,
          61,
          53,
          50,
          57,
          16,
          54,
          97,
          86,
          1,
          35,
          0,
          69,
          36,
          39,
          60,
          59,
          75,
          43
         ],
         "y": [
          -43,
          106,
          61,
          -33,
          60,
          -48,
          27,
          152,
          52,
          -44,
          48,
          30,
          67,
          12,
          79,
          151,
          92,
          10,
          80,
          128,
          -75,
          66,
          135,
          179,
          96,
          -37,
          -27,
          105,
          25,
          27,
          -29,
          -5,
          75,
          116,
          -47,
          23,
          19,
          -77,
          66,
          101,
          -46,
          -15,
          61,
          95,
          52,
          -24,
          111,
          22,
          28,
          -67,
          79,
          -41,
          35,
          -21,
          79,
          165,
          51,
          125,
          48,
          4,
          -80,
          34,
          8,
          79,
          153,
          171,
          98,
          89,
          -66,
          54,
          52,
          62,
          -7,
          53,
          22,
          122,
          -27,
          2,
          69,
          30,
          96,
          88,
          26,
          39,
          56,
          106,
          58,
          -16,
          75,
          70,
          23,
          -56,
          -35,
          28,
          -55,
          2,
          55,
          80,
          130,
          -32
         ]
        }
       ],
       "layout": {
        "title": "Color Scatter Plot",
        "xaxis": {
         "title": "x"
        },
        "yaxis": {
         "title": "y"
        }
       }
      },
      "text/html": [
       "<div id=\"4d89871c-655e-44e2-b5fa-d105027bb232\" style=\"height: 525px; width: 100%;\" class=\"plotly-graph-div\"></div><script type=\"text/javascript\">require([\"plotly\"], function(Plotly) { window.PLOTLYENV=window.PLOTLYENV || {};window.PLOTLYENV.BASE_URL=\"https://plot.ly\";Plotly.newPlot(\"4d89871c-655e-44e2-b5fa-d105027bb232\", [{\"type\": \"scatter\", \"x\": [2, 82, 61, 44, 50, 25, 59, 81, 64, 30, 0, 46, 2, 34, 54, 85, 13, 2, 86, 53, 11, 41, 95, 92, 62, 49, 20, 75, 76, 88, 8, 34, 53, 39, 52, 63, 89, 8, 10, 81, 24, 12, 61, 20, 79, 42, 55, 87, 56, 0, 92, 29, 14, 47, 69, 68, 78, 34, 66, 41, 0, 65, 85, 23, 66, 89, 74, 58, 21, 86, 25, 34, 14, 92, 18, 54, 28, 23, 41, 3, 4, 82, 61, 53, 50, 57, 16, 54, 97, 86, 1, 35, 0, 69, 36, 39, 60, 59, 75, 43], \"y\": [-43, 106, 61, -33, 60, -48, 27, 152, 52, -44, 48, 30, 67, 12, 79, 151, 92, 10, 80, 128, -75, 66, 135, 179, 96, -37, -27, 105, 25, 27, -29, -5, 75, 116, -47, 23, 19, -77, 66, 101, -46, -15, 61, 95, 52, -24, 111, 22, 28, -67, 79, -41, 35, -21, 79, 165, 51, 125, 48, 4, -80, 34, 8, 79, 153, 171, 98, 89, -66, 54, 52, 62, -7, 53, 22, 122, -27, 2, 69, 30, 96, 88, 26, 39, 56, 106, 58, -16, 75, 70, 23, -56, -35, 28, -55, 2, 55, 80, 130, -32], \"mode\": \"markers\", \"marker\": {\"size\": 12, \"color\": [0, 0, 2, 1, 2, 1, 1, 1, 0, 1, 1, 1, 1, 1, 1, 1, 0, 0, 0, 0, 0, 2, 0, 2, 0, 0, 2, 2, 1, 2, 0, 2, 0, 2, 0, 2, 2, 2, 2, 1, 0, 2, 0, 0, 1, 0, 1, 0, 2, 1, 0, 2, 2, 1, 1, 0, 2, 2, 0, 2, 1, 2, 2, 1, 0, 0, 0, 2, 2, 0, 2, 2, 1, 2, 0, 2, 1, 0, 1, 2, 2, 1, 1, 2, 1, 1, 0, 1, 1, 0, 2, 1, 1, 0, 0, 2, 1, 1, 1, 2], \"colorscale\": \"heatmap-discrete-colorscale\", \"showscale\": true}}], {\"title\": \"Color Scatter Plot\", \"xaxis\": {\"title\": \"x\"}, \"yaxis\": {\"title\": \"y\"}}, {\"showLink\": true, \"linkText\": \"Export to plot.ly\"})});</script>"
      ],
      "text/vnd.plotly.v1+html": [
       "<div id=\"4d89871c-655e-44e2-b5fa-d105027bb232\" style=\"height: 525px; width: 100%;\" class=\"plotly-graph-div\"></div><script type=\"text/javascript\">require([\"plotly\"], function(Plotly) { window.PLOTLYENV=window.PLOTLYENV || {};window.PLOTLYENV.BASE_URL=\"https://plot.ly\";Plotly.newPlot(\"4d89871c-655e-44e2-b5fa-d105027bb232\", [{\"type\": \"scatter\", \"x\": [2, 82, 61, 44, 50, 25, 59, 81, 64, 30, 0, 46, 2, 34, 54, 85, 13, 2, 86, 53, 11, 41, 95, 92, 62, 49, 20, 75, 76, 88, 8, 34, 53, 39, 52, 63, 89, 8, 10, 81, 24, 12, 61, 20, 79, 42, 55, 87, 56, 0, 92, 29, 14, 47, 69, 68, 78, 34, 66, 41, 0, 65, 85, 23, 66, 89, 74, 58, 21, 86, 25, 34, 14, 92, 18, 54, 28, 23, 41, 3, 4, 82, 61, 53, 50, 57, 16, 54, 97, 86, 1, 35, 0, 69, 36, 39, 60, 59, 75, 43], \"y\": [-43, 106, 61, -33, 60, -48, 27, 152, 52, -44, 48, 30, 67, 12, 79, 151, 92, 10, 80, 128, -75, 66, 135, 179, 96, -37, -27, 105, 25, 27, -29, -5, 75, 116, -47, 23, 19, -77, 66, 101, -46, -15, 61, 95, 52, -24, 111, 22, 28, -67, 79, -41, 35, -21, 79, 165, 51, 125, 48, 4, -80, 34, 8, 79, 153, 171, 98, 89, -66, 54, 52, 62, -7, 53, 22, 122, -27, 2, 69, 30, 96, 88, 26, 39, 56, 106, 58, -16, 75, 70, 23, -56, -35, 28, -55, 2, 55, 80, 130, -32], \"mode\": \"markers\", \"marker\": {\"size\": 12, \"color\": [0, 0, 2, 1, 2, 1, 1, 1, 0, 1, 1, 1, 1, 1, 1, 1, 0, 0, 0, 0, 0, 2, 0, 2, 0, 0, 2, 2, 1, 2, 0, 2, 0, 2, 0, 2, 2, 2, 2, 1, 0, 2, 0, 0, 1, 0, 1, 0, 2, 1, 0, 2, 2, 1, 1, 0, 2, 2, 0, 2, 1, 2, 2, 1, 0, 0, 0, 2, 2, 0, 2, 2, 1, 2, 0, 2, 1, 0, 1, 2, 2, 1, 1, 2, 1, 1, 0, 1, 1, 0, 2, 1, 1, 0, 0, 2, 1, 1, 1, 2], \"colorscale\": \"heatmap-discrete-colorscale\", \"showscale\": true}}], {\"title\": \"Color Scatter Plot\", \"xaxis\": {\"title\": \"x\"}, \"yaxis\": {\"title\": \"y\"}}, {\"showLink\": true, \"linkText\": \"Export to plot.ly\"})});</script>"
      ]
     },
     "metadata": {},
     "output_type": "display_data"
    }
   ],
   "source": [
    "layout = Layout(\n",
    "    title = \"Color Scatter Plot\",\n",
    "    xaxis = dict(title=\"x\"),\n",
    "    yaxis = dict(title=\"y\")\n",
    ")\n",
    "\n",
    "trace1 = Scatter(\n",
    "    x = x,\n",
    "    y = y,\n",
    "    mode=\"markers\",\n",
    "    marker=dict(\n",
    "        size = 12,\n",
    "        color = z,\n",
    "        colorscale = \"heatmap-discrete-colorscale\",\n",
    "        showscale=True\n",
    "    )\n",
    ")\n",
    "\n",
    "data = Data([trace1])\n",
    "fig = Figure(data=data,layout=layout)\n",
    "\n",
    "py.offline.iplot(fig)"
   ]
  },
  {
   "cell_type": "code",
   "execution_count": 15,
   "metadata": {},
   "outputs": [
    {
     "data": {
      "text/plain": [
       "2    34\n",
       "1    34\n",
       "0    32\n",
       "Name: z, dtype: int64"
      ]
     },
     "execution_count": 15,
     "metadata": {},
     "output_type": "execute_result"
    }
   ],
   "source": [
    "# a better implementation would be to use different traces for different colors\n",
    "\n",
    "df = pd.DataFrame({\n",
    "    'x':x,\n",
    "    'y':y,\n",
    "    'z':z\n",
    "})\n",
    "df.z.value_counts()"
   ]
  },
  {
   "cell_type": "code",
   "execution_count": 16,
   "metadata": {},
   "outputs": [
    {
     "data": {
      "application/vnd.plotly.v1+json": {
       "data": [
        {
         "marker": {
          "color": "orange",
          "size": 12
         },
         "mode": "markers",
         "name": "Z = 0",
         "type": "scatter",
         "x": [
          2,
          82,
          64,
          13,
          2,
          86,
          53,
          11,
          95,
          62,
          49,
          8,
          53,
          52,
          24,
          61,
          20,
          42,
          87,
          92,
          68,
          66,
          66,
          89,
          74,
          86,
          18,
          23,
          16,
          86,
          69,
          36
         ],
         "y": [
          -43,
          106,
          52,
          92,
          10,
          80,
          128,
          -75,
          135,
          96,
          -37,
          -29,
          75,
          -47,
          -46,
          61,
          95,
          -24,
          22,
          79,
          165,
          48,
          153,
          171,
          98,
          54,
          22,
          2,
          58,
          70,
          28,
          -55
         ]
        },
        {
         "marker": {
          "color": "red",
          "size": 12
         },
         "mode": "markers",
         "name": "Z = 1",
         "type": "scatter",
         "x": [
          44,
          25,
          59,
          81,
          30,
          0,
          46,
          2,
          34,
          54,
          85,
          76,
          81,
          79,
          55,
          0,
          47,
          69,
          0,
          23,
          14,
          28,
          41,
          82,
          61,
          50,
          57,
          54,
          97,
          35,
          0,
          60,
          59,
          75
         ],
         "y": [
          -33,
          -48,
          27,
          152,
          -44,
          48,
          30,
          67,
          12,
          79,
          151,
          25,
          101,
          52,
          111,
          -67,
          -21,
          79,
          -80,
          79,
          -7,
          -27,
          69,
          88,
          26,
          56,
          106,
          -16,
          75,
          -56,
          -35,
          55,
          80,
          130
         ]
        },
        {
         "marker": {
          "color": "blue",
          "size": 12
         },
         "mode": "markers",
         "name": "Z = 2",
         "type": "scatter",
         "x": [
          61,
          50,
          41,
          92,
          20,
          75,
          88,
          34,
          39,
          63,
          89,
          8,
          10,
          12,
          56,
          29,
          14,
          78,
          34,
          41,
          65,
          85,
          58,
          21,
          25,
          34,
          92,
          54,
          3,
          4,
          53,
          1,
          39,
          43
         ],
         "y": [
          61,
          60,
          66,
          179,
          -27,
          105,
          27,
          -5,
          116,
          23,
          19,
          -77,
          66,
          -15,
          28,
          -41,
          35,
          51,
          125,
          4,
          34,
          8,
          89,
          -66,
          52,
          62,
          53,
          122,
          30,
          96,
          39,
          23,
          2,
          -32
         ]
        }
       ],
       "layout": {
        "title": "Color Scatter Plot (Improved)",
        "xaxis": {
         "title": "x"
        },
        "yaxis": {
         "title": "y"
        }
       }
      },
      "text/html": [
       "<div id=\"d8e66d57-fa2b-45ad-8709-468bac3a0665\" style=\"height: 525px; width: 100%;\" class=\"plotly-graph-div\"></div><script type=\"text/javascript\">require([\"plotly\"], function(Plotly) { window.PLOTLYENV=window.PLOTLYENV || {};window.PLOTLYENV.BASE_URL=\"https://plot.ly\";Plotly.newPlot(\"d8e66d57-fa2b-45ad-8709-468bac3a0665\", [{\"type\": \"scatter\", \"x\": [2, 82, 64, 13, 2, 86, 53, 11, 95, 62, 49, 8, 53, 52, 24, 61, 20, 42, 87, 92, 68, 66, 66, 89, 74, 86, 18, 23, 16, 86, 69, 36], \"y\": [-43, 106, 52, 92, 10, 80, 128, -75, 135, 96, -37, -29, 75, -47, -46, 61, 95, -24, 22, 79, 165, 48, 153, 171, 98, 54, 22, 2, 58, 70, 28, -55], \"mode\": \"markers\", \"marker\": {\"size\": 12, \"color\": \"orange\"}, \"name\": \"Z = 0\"}, {\"type\": \"scatter\", \"x\": [44, 25, 59, 81, 30, 0, 46, 2, 34, 54, 85, 76, 81, 79, 55, 0, 47, 69, 0, 23, 14, 28, 41, 82, 61, 50, 57, 54, 97, 35, 0, 60, 59, 75], \"y\": [-33, -48, 27, 152, -44, 48, 30, 67, 12, 79, 151, 25, 101, 52, 111, -67, -21, 79, -80, 79, -7, -27, 69, 88, 26, 56, 106, -16, 75, -56, -35, 55, 80, 130], \"mode\": \"markers\", \"marker\": {\"size\": 12, \"color\": \"red\"}, \"name\": \"Z = 1\"}, {\"type\": \"scatter\", \"x\": [61, 50, 41, 92, 20, 75, 88, 34, 39, 63, 89, 8, 10, 12, 56, 29, 14, 78, 34, 41, 65, 85, 58, 21, 25, 34, 92, 54, 3, 4, 53, 1, 39, 43], \"y\": [61, 60, 66, 179, -27, 105, 27, -5, 116, 23, 19, -77, 66, -15, 28, -41, 35, 51, 125, 4, 34, 8, 89, -66, 52, 62, 53, 122, 30, 96, 39, 23, 2, -32], \"mode\": \"markers\", \"marker\": {\"size\": 12, \"color\": \"blue\"}, \"name\": \"Z = 2\"}], {\"title\": \"Color Scatter Plot (Improved)\", \"xaxis\": {\"title\": \"x\"}, \"yaxis\": {\"title\": \"y\"}}, {\"showLink\": true, \"linkText\": \"Export to plot.ly\"})});</script>"
      ],
      "text/vnd.plotly.v1+html": [
       "<div id=\"d8e66d57-fa2b-45ad-8709-468bac3a0665\" style=\"height: 525px; width: 100%;\" class=\"plotly-graph-div\"></div><script type=\"text/javascript\">require([\"plotly\"], function(Plotly) { window.PLOTLYENV=window.PLOTLYENV || {};window.PLOTLYENV.BASE_URL=\"https://plot.ly\";Plotly.newPlot(\"d8e66d57-fa2b-45ad-8709-468bac3a0665\", [{\"type\": \"scatter\", \"x\": [2, 82, 64, 13, 2, 86, 53, 11, 95, 62, 49, 8, 53, 52, 24, 61, 20, 42, 87, 92, 68, 66, 66, 89, 74, 86, 18, 23, 16, 86, 69, 36], \"y\": [-43, 106, 52, 92, 10, 80, 128, -75, 135, 96, -37, -29, 75, -47, -46, 61, 95, -24, 22, 79, 165, 48, 153, 171, 98, 54, 22, 2, 58, 70, 28, -55], \"mode\": \"markers\", \"marker\": {\"size\": 12, \"color\": \"orange\"}, \"name\": \"Z = 0\"}, {\"type\": \"scatter\", \"x\": [44, 25, 59, 81, 30, 0, 46, 2, 34, 54, 85, 76, 81, 79, 55, 0, 47, 69, 0, 23, 14, 28, 41, 82, 61, 50, 57, 54, 97, 35, 0, 60, 59, 75], \"y\": [-33, -48, 27, 152, -44, 48, 30, 67, 12, 79, 151, 25, 101, 52, 111, -67, -21, 79, -80, 79, -7, -27, 69, 88, 26, 56, 106, -16, 75, -56, -35, 55, 80, 130], \"mode\": \"markers\", \"marker\": {\"size\": 12, \"color\": \"red\"}, \"name\": \"Z = 1\"}, {\"type\": \"scatter\", \"x\": [61, 50, 41, 92, 20, 75, 88, 34, 39, 63, 89, 8, 10, 12, 56, 29, 14, 78, 34, 41, 65, 85, 58, 21, 25, 34, 92, 54, 3, 4, 53, 1, 39, 43], \"y\": [61, 60, 66, 179, -27, 105, 27, -5, 116, 23, 19, -77, 66, -15, 28, -41, 35, 51, 125, 4, 34, 8, 89, -66, 52, 62, 53, 122, 30, 96, 39, 23, 2, -32], \"mode\": \"markers\", \"marker\": {\"size\": 12, \"color\": \"blue\"}, \"name\": \"Z = 2\"}], {\"title\": \"Color Scatter Plot (Improved)\", \"xaxis\": {\"title\": \"x\"}, \"yaxis\": {\"title\": \"y\"}}, {\"showLink\": true, \"linkText\": \"Export to plot.ly\"})});</script>"
      ]
     },
     "metadata": {},
     "output_type": "display_data"
    }
   ],
   "source": [
    "layout = Layout(\n",
    "    title = \"Color Scatter Plot (Improved)\",\n",
    "    xaxis = dict(title=\"x\"),\n",
    "    yaxis = dict(title=\"y\")\n",
    ")\n",
    "\n",
    "trace1 = Scatter(\n",
    "    x = df.query('z==0')['x'],\n",
    "    y = df.query('z==0')['y'],\n",
    "    mode=\"markers\",\n",
    "    marker=dict(\n",
    "        size = 12,\n",
    "        color = \"orange\",\n",
    "    ),\n",
    "    name = \"Z = 0\"\n",
    ")\n",
    "    \n",
    "trace2 = Scatter(\n",
    "    x = df.query('z==1')['x'],\n",
    "    y = df.query('z==1')['y'],\n",
    "    mode=\"markers\",\n",
    "    marker=dict(\n",
    "        size = 12,\n",
    "        color = \"red\",\n",
    "    ),\n",
    "    name=\"Z = 1\"\n",
    ")\n",
    "\n",
    "trace3 = Scatter(\n",
    "    x = df.query('z==2')['x'],\n",
    "    y = df.query('z==2')['y'],\n",
    "    mode=\"markers\",\n",
    "    marker=dict(\n",
    "        size = 12,\n",
    "        color = \"blue\",\n",
    "    ),\n",
    "    name=\"Z = 2\"\n",
    ")\n",
    "\n",
    "data = Data([trace1, trace2,trace3])\n",
    "fig = Figure(data=data,layout=layout)\n",
    "\n",
    "py.offline.iplot(fig)"
   ]
  },
  {
   "cell_type": "code",
   "execution_count": 17,
   "metadata": {},
   "outputs": [
    {
     "data": {
      "application/vnd.plotly.v1+json": {
       "data": [
        {
         "marker": {
          "color": [
           7,
           0,
           2,
           4,
           5,
           9,
           0,
           1,
           6,
           2,
           8,
           7,
           5,
           8,
           3,
           8,
           9,
           9,
           7,
           9,
           9,
           6,
           3,
           9,
           6,
           3,
           9,
           7,
           5,
           7,
           4,
           3,
           6,
           3,
           8,
           4,
           8,
           0,
           6,
           0,
           0,
           0,
           5,
           8,
           6,
           6,
           0,
           5,
           2,
           6,
           3,
           0,
           6,
           0,
           8,
           8,
           9,
           2,
           6,
           2,
           9,
           9,
           7,
           8,
           1,
           6,
           9,
           8,
           6,
           5,
           6,
           6,
           7,
           8,
           9,
           5,
           9,
           5,
           4,
           1,
           2,
           7,
           6,
           5,
           7,
           3,
           6,
           4,
           1,
           3,
           0,
           3,
           6,
           6,
           0,
           1,
           9,
           0,
           1,
           3
          ],
          "colorscale": "Plasma",
          "opacity": 0.6,
          "size": 6
         },
         "mode": "markers",
         "type": "scatter3d",
         "x": [
          78,
          50,
          11,
          62,
          67,
          0,
          56,
          31,
          58,
          41,
          31,
          22,
          98,
          72,
          87,
          99,
          0,
          94,
          49,
          54,
          30,
          2,
          59,
          28,
          38,
          69,
          6,
          73,
          17,
          9,
          67,
          82,
          71,
          85,
          84,
          9,
          43,
          21,
          78,
          37,
          56,
          33,
          33,
          82,
          74,
          6,
          25,
          85,
          86,
          82,
          12,
          13,
          74,
          91,
          94,
          30,
          44,
          65,
          15,
          97,
          31,
          69,
          70,
          63,
          8,
          33,
          16,
          23,
          64,
          2,
          57,
          68,
          93,
          37,
          74,
          17,
          14,
          99,
          31,
          87,
          69,
          88,
          84,
          7,
          68,
          29,
          20,
          43,
          27,
          85,
          45,
          2,
          20,
          57,
          7,
          91,
          62,
          6,
          45,
          99
         ],
         "y": [
          10,
          19,
          74,
          1,
          61,
          17,
          24,
          11,
          75,
          80,
          3,
          60,
          97,
          97,
          4,
          52,
          88,
          56,
          12,
          90,
          29,
          50,
          27,
          45,
          34,
          21,
          69,
          51,
          79,
          26,
          2,
          5,
          63,
          14,
          64,
          60,
          78,
          85,
          19,
          46,
          97,
          27,
          95,
          29,
          76,
          84,
          94,
          80,
          30,
          91,
          58,
          67,
          75,
          43,
          51,
          2,
          82,
          89,
          40,
          22,
          16,
          1,
          56,
          80,
          84,
          71,
          15,
          36,
          88,
          21,
          39,
          0,
          36,
          32,
          28,
          7,
          65,
          91,
          65,
          74,
          71,
          6,
          39,
          50,
          33,
          82,
          44,
          87,
          81,
          26,
          32,
          58,
          22,
          36,
          22,
          91,
          73,
          35,
          74,
          73
         ],
         "z": [
          7,
          0,
          2,
          4,
          5,
          9,
          0,
          1,
          6,
          2,
          8,
          7,
          5,
          8,
          3,
          8,
          9,
          9,
          7,
          9,
          9,
          6,
          3,
          9,
          6,
          3,
          9,
          7,
          5,
          7,
          4,
          3,
          6,
          3,
          8,
          4,
          8,
          0,
          6,
          0,
          0,
          0,
          5,
          8,
          6,
          6,
          0,
          5,
          2,
          6,
          3,
          0,
          6,
          0,
          8,
          8,
          9,
          2,
          6,
          2,
          9,
          9,
          7,
          8,
          1,
          6,
          9,
          8,
          6,
          5,
          6,
          6,
          7,
          8,
          9,
          5,
          9,
          5,
          4,
          1,
          2,
          7,
          6,
          5,
          7,
          3,
          6,
          4,
          1,
          3,
          0,
          3,
          6,
          6,
          0,
          1,
          9,
          0,
          1,
          3
         ]
        }
       ],
       "layout": {
        "title": "3d Scatter Plot",
        "xaxis": {
         "title": "X"
        }
       }
      },
      "text/html": [
       "<div id=\"4d836a22-2b37-41f4-8d75-284cfb4c5204\" style=\"height: 525px; width: 100%;\" class=\"plotly-graph-div\"></div><script type=\"text/javascript\">require([\"plotly\"], function(Plotly) { window.PLOTLYENV=window.PLOTLYENV || {};window.PLOTLYENV.BASE_URL=\"https://plot.ly\";Plotly.newPlot(\"4d836a22-2b37-41f4-8d75-284cfb4c5204\", [{\"type\": \"scatter3d\", \"x\": [78, 50, 11, 62, 67, 0, 56, 31, 58, 41, 31, 22, 98, 72, 87, 99, 0, 94, 49, 54, 30, 2, 59, 28, 38, 69, 6, 73, 17, 9, 67, 82, 71, 85, 84, 9, 43, 21, 78, 37, 56, 33, 33, 82, 74, 6, 25, 85, 86, 82, 12, 13, 74, 91, 94, 30, 44, 65, 15, 97, 31, 69, 70, 63, 8, 33, 16, 23, 64, 2, 57, 68, 93, 37, 74, 17, 14, 99, 31, 87, 69, 88, 84, 7, 68, 29, 20, 43, 27, 85, 45, 2, 20, 57, 7, 91, 62, 6, 45, 99], \"y\": [10, 19, 74, 1, 61, 17, 24, 11, 75, 80, 3, 60, 97, 97, 4, 52, 88, 56, 12, 90, 29, 50, 27, 45, 34, 21, 69, 51, 79, 26, 2, 5, 63, 14, 64, 60, 78, 85, 19, 46, 97, 27, 95, 29, 76, 84, 94, 80, 30, 91, 58, 67, 75, 43, 51, 2, 82, 89, 40, 22, 16, 1, 56, 80, 84, 71, 15, 36, 88, 21, 39, 0, 36, 32, 28, 7, 65, 91, 65, 74, 71, 6, 39, 50, 33, 82, 44, 87, 81, 26, 32, 58, 22, 36, 22, 91, 73, 35, 74, 73], \"z\": [7, 0, 2, 4, 5, 9, 0, 1, 6, 2, 8, 7, 5, 8, 3, 8, 9, 9, 7, 9, 9, 6, 3, 9, 6, 3, 9, 7, 5, 7, 4, 3, 6, 3, 8, 4, 8, 0, 6, 0, 0, 0, 5, 8, 6, 6, 0, 5, 2, 6, 3, 0, 6, 0, 8, 8, 9, 2, 6, 2, 9, 9, 7, 8, 1, 6, 9, 8, 6, 5, 6, 6, 7, 8, 9, 5, 9, 5, 4, 1, 2, 7, 6, 5, 7, 3, 6, 4, 1, 3, 0, 3, 6, 6, 0, 1, 9, 0, 1, 3], \"mode\": \"markers\", \"marker\": {\"size\": 6, \"color\": [7, 0, 2, 4, 5, 9, 0, 1, 6, 2, 8, 7, 5, 8, 3, 8, 9, 9, 7, 9, 9, 6, 3, 9, 6, 3, 9, 7, 5, 7, 4, 3, 6, 3, 8, 4, 8, 0, 6, 0, 0, 0, 5, 8, 6, 6, 0, 5, 2, 6, 3, 0, 6, 0, 8, 8, 9, 2, 6, 2, 9, 9, 7, 8, 1, 6, 9, 8, 6, 5, 6, 6, 7, 8, 9, 5, 9, 5, 4, 1, 2, 7, 6, 5, 7, 3, 6, 4, 1, 3, 0, 3, 6, 6, 0, 1, 9, 0, 1, 3], \"colorscale\": \"Plasma\", \"opacity\": 0.6}}], {\"title\": \"3d Scatter Plot\", \"xaxis\": {\"title\": \"X\"}}, {\"showLink\": true, \"linkText\": \"Export to plot.ly\"})});</script>"
      ],
      "text/vnd.plotly.v1+html": [
       "<div id=\"4d836a22-2b37-41f4-8d75-284cfb4c5204\" style=\"height: 525px; width: 100%;\" class=\"plotly-graph-div\"></div><script type=\"text/javascript\">require([\"plotly\"], function(Plotly) { window.PLOTLYENV=window.PLOTLYENV || {};window.PLOTLYENV.BASE_URL=\"https://plot.ly\";Plotly.newPlot(\"4d836a22-2b37-41f4-8d75-284cfb4c5204\", [{\"type\": \"scatter3d\", \"x\": [78, 50, 11, 62, 67, 0, 56, 31, 58, 41, 31, 22, 98, 72, 87, 99, 0, 94, 49, 54, 30, 2, 59, 28, 38, 69, 6, 73, 17, 9, 67, 82, 71, 85, 84, 9, 43, 21, 78, 37, 56, 33, 33, 82, 74, 6, 25, 85, 86, 82, 12, 13, 74, 91, 94, 30, 44, 65, 15, 97, 31, 69, 70, 63, 8, 33, 16, 23, 64, 2, 57, 68, 93, 37, 74, 17, 14, 99, 31, 87, 69, 88, 84, 7, 68, 29, 20, 43, 27, 85, 45, 2, 20, 57, 7, 91, 62, 6, 45, 99], \"y\": [10, 19, 74, 1, 61, 17, 24, 11, 75, 80, 3, 60, 97, 97, 4, 52, 88, 56, 12, 90, 29, 50, 27, 45, 34, 21, 69, 51, 79, 26, 2, 5, 63, 14, 64, 60, 78, 85, 19, 46, 97, 27, 95, 29, 76, 84, 94, 80, 30, 91, 58, 67, 75, 43, 51, 2, 82, 89, 40, 22, 16, 1, 56, 80, 84, 71, 15, 36, 88, 21, 39, 0, 36, 32, 28, 7, 65, 91, 65, 74, 71, 6, 39, 50, 33, 82, 44, 87, 81, 26, 32, 58, 22, 36, 22, 91, 73, 35, 74, 73], \"z\": [7, 0, 2, 4, 5, 9, 0, 1, 6, 2, 8, 7, 5, 8, 3, 8, 9, 9, 7, 9, 9, 6, 3, 9, 6, 3, 9, 7, 5, 7, 4, 3, 6, 3, 8, 4, 8, 0, 6, 0, 0, 0, 5, 8, 6, 6, 0, 5, 2, 6, 3, 0, 6, 0, 8, 8, 9, 2, 6, 2, 9, 9, 7, 8, 1, 6, 9, 8, 6, 5, 6, 6, 7, 8, 9, 5, 9, 5, 4, 1, 2, 7, 6, 5, 7, 3, 6, 4, 1, 3, 0, 3, 6, 6, 0, 1, 9, 0, 1, 3], \"mode\": \"markers\", \"marker\": {\"size\": 6, \"color\": [7, 0, 2, 4, 5, 9, 0, 1, 6, 2, 8, 7, 5, 8, 3, 8, 9, 9, 7, 9, 9, 6, 3, 9, 6, 3, 9, 7, 5, 7, 4, 3, 6, 3, 8, 4, 8, 0, 6, 0, 0, 0, 5, 8, 6, 6, 0, 5, 2, 6, 3, 0, 6, 0, 8, 8, 9, 2, 6, 2, 9, 9, 7, 8, 1, 6, 9, 8, 6, 5, 6, 6, 7, 8, 9, 5, 9, 5, 4, 1, 2, 7, 6, 5, 7, 3, 6, 4, 1, 3, 0, 3, 6, 6, 0, 1, 9, 0, 1, 3], \"colorscale\": \"Plasma\", \"opacity\": 0.6}}], {\"title\": \"3d Scatter Plot\", \"xaxis\": {\"title\": \"X\"}}, {\"showLink\": true, \"linkText\": \"Export to plot.ly\"})});</script>"
      ]
     },
     "metadata": {},
     "output_type": "display_data"
    }
   ],
   "source": [
    "# 3d scatter plot\n",
    "\n",
    "x = np.random.randint(0,100,100)\n",
    "y = np.random.randint(0,100,100)\n",
    "z = np.random.randint(0,10,100)\n",
    "\n",
    "layout = Layout(\n",
    "    title=\"3d Scatter Plot\",\n",
    "    xaxis = dict(\n",
    "        title = \"X\"\n",
    "    )\n",
    ")\n",
    "\n",
    "trace0 = Scatter3d(\n",
    "    x=x,\n",
    "    y=y,\n",
    "    z=z,\n",
    "    mode=\"markers\",\n",
    "    marker = dict(\n",
    "        size=6,\n",
    "        color=z,\n",
    "        colorscale=\"Plasma\",\n",
    "        opacity=0.6\n",
    "    )\n",
    ")\n",
    "\n",
    "data = Data([trace0])\n",
    "\n",
    "fig = Figure(data=data, layout=layout)\n",
    "\n",
    "py.offline.iplot(fig)"
   ]
  },
  {
   "cell_type": "code",
   "execution_count": 18,
   "metadata": {},
   "outputs": [
    {
     "ename": "FileNotFoundError",
     "evalue": "File b'pokemon.csv' does not exist",
     "output_type": "error",
     "traceback": [
      "\u001b[0;31m---------------------------------------------------------------------------\u001b[0m",
      "\u001b[0;31mFileNotFoundError\u001b[0m                         Traceback (most recent call last)",
      "\u001b[0;32m<ipython-input-18-1f0812017b9f>\u001b[0m in \u001b[0;36m<module>\u001b[0;34m()\u001b[0m\n\u001b[1;32m      2\u001b[0m \u001b[0;31m# URL: https://www.kaggle.com/rounakbanik/pokemon/data\u001b[0m\u001b[0;34m\u001b[0m\u001b[0;34m\u001b[0m\u001b[0m\n\u001b[1;32m      3\u001b[0m \u001b[0;34m\u001b[0m\u001b[0m\n\u001b[0;32m----> 4\u001b[0;31m \u001b[0mdataset\u001b[0m \u001b[0;34m=\u001b[0m \u001b[0mpd\u001b[0m\u001b[0;34m.\u001b[0m\u001b[0mread_csv\u001b[0m\u001b[0;34m(\u001b[0m\u001b[0;34m\"pokemon.csv\"\u001b[0m\u001b[0;34m)\u001b[0m\u001b[0;34m\u001b[0m\u001b[0m\n\u001b[0m\u001b[1;32m      5\u001b[0m \u001b[0mdataset\u001b[0m\u001b[0;34m.\u001b[0m\u001b[0mdtypes\u001b[0m\u001b[0;34m\u001b[0m\u001b[0m\n",
      "\u001b[0;32m/Users/tobias/anaconda/lib/python3.6/site-packages/pandas/io/parsers.py\u001b[0m in \u001b[0;36mparser_f\u001b[0;34m(filepath_or_buffer, sep, delimiter, header, names, index_col, usecols, squeeze, prefix, mangle_dupe_cols, dtype, engine, converters, true_values, false_values, skipinitialspace, skiprows, nrows, na_values, keep_default_na, na_filter, verbose, skip_blank_lines, parse_dates, infer_datetime_format, keep_date_col, date_parser, dayfirst, iterator, chunksize, compression, thousands, decimal, lineterminator, quotechar, quoting, escapechar, comment, encoding, dialect, tupleize_cols, error_bad_lines, warn_bad_lines, skipfooter, skip_footer, doublequote, delim_whitespace, as_recarray, compact_ints, use_unsigned, low_memory, buffer_lines, memory_map, float_precision)\u001b[0m\n\u001b[1;32m    653\u001b[0m                     skip_blank_lines=skip_blank_lines)\n\u001b[1;32m    654\u001b[0m \u001b[0;34m\u001b[0m\u001b[0m\n\u001b[0;32m--> 655\u001b[0;31m         \u001b[0;32mreturn\u001b[0m \u001b[0m_read\u001b[0m\u001b[0;34m(\u001b[0m\u001b[0mfilepath_or_buffer\u001b[0m\u001b[0;34m,\u001b[0m \u001b[0mkwds\u001b[0m\u001b[0;34m)\u001b[0m\u001b[0;34m\u001b[0m\u001b[0m\n\u001b[0m\u001b[1;32m    656\u001b[0m \u001b[0;34m\u001b[0m\u001b[0m\n\u001b[1;32m    657\u001b[0m     \u001b[0mparser_f\u001b[0m\u001b[0;34m.\u001b[0m\u001b[0m__name__\u001b[0m \u001b[0;34m=\u001b[0m \u001b[0mname\u001b[0m\u001b[0;34m\u001b[0m\u001b[0m\n",
      "\u001b[0;32m/Users/tobias/anaconda/lib/python3.6/site-packages/pandas/io/parsers.py\u001b[0m in \u001b[0;36m_read\u001b[0;34m(filepath_or_buffer, kwds)\u001b[0m\n\u001b[1;32m    403\u001b[0m \u001b[0;34m\u001b[0m\u001b[0m\n\u001b[1;32m    404\u001b[0m     \u001b[0;31m# Create the parser.\u001b[0m\u001b[0;34m\u001b[0m\u001b[0;34m\u001b[0m\u001b[0m\n\u001b[0;32m--> 405\u001b[0;31m     \u001b[0mparser\u001b[0m \u001b[0;34m=\u001b[0m \u001b[0mTextFileReader\u001b[0m\u001b[0;34m(\u001b[0m\u001b[0mfilepath_or_buffer\u001b[0m\u001b[0;34m,\u001b[0m \u001b[0;34m**\u001b[0m\u001b[0mkwds\u001b[0m\u001b[0;34m)\u001b[0m\u001b[0;34m\u001b[0m\u001b[0m\n\u001b[0m\u001b[1;32m    406\u001b[0m \u001b[0;34m\u001b[0m\u001b[0m\n\u001b[1;32m    407\u001b[0m     \u001b[0;32mif\u001b[0m \u001b[0mchunksize\u001b[0m \u001b[0;32mor\u001b[0m \u001b[0miterator\u001b[0m\u001b[0;34m:\u001b[0m\u001b[0;34m\u001b[0m\u001b[0m\n",
      "\u001b[0;32m/Users/tobias/anaconda/lib/python3.6/site-packages/pandas/io/parsers.py\u001b[0m in \u001b[0;36m__init__\u001b[0;34m(self, f, engine, **kwds)\u001b[0m\n\u001b[1;32m    760\u001b[0m             \u001b[0mself\u001b[0m\u001b[0;34m.\u001b[0m\u001b[0moptions\u001b[0m\u001b[0;34m[\u001b[0m\u001b[0;34m'has_index_names'\u001b[0m\u001b[0;34m]\u001b[0m \u001b[0;34m=\u001b[0m \u001b[0mkwds\u001b[0m\u001b[0;34m[\u001b[0m\u001b[0;34m'has_index_names'\u001b[0m\u001b[0;34m]\u001b[0m\u001b[0;34m\u001b[0m\u001b[0m\n\u001b[1;32m    761\u001b[0m \u001b[0;34m\u001b[0m\u001b[0m\n\u001b[0;32m--> 762\u001b[0;31m         \u001b[0mself\u001b[0m\u001b[0;34m.\u001b[0m\u001b[0m_make_engine\u001b[0m\u001b[0;34m(\u001b[0m\u001b[0mself\u001b[0m\u001b[0;34m.\u001b[0m\u001b[0mengine\u001b[0m\u001b[0;34m)\u001b[0m\u001b[0;34m\u001b[0m\u001b[0m\n\u001b[0m\u001b[1;32m    763\u001b[0m \u001b[0;34m\u001b[0m\u001b[0m\n\u001b[1;32m    764\u001b[0m     \u001b[0;32mdef\u001b[0m \u001b[0mclose\u001b[0m\u001b[0;34m(\u001b[0m\u001b[0mself\u001b[0m\u001b[0;34m)\u001b[0m\u001b[0;34m:\u001b[0m\u001b[0;34m\u001b[0m\u001b[0m\n",
      "\u001b[0;32m/Users/tobias/anaconda/lib/python3.6/site-packages/pandas/io/parsers.py\u001b[0m in \u001b[0;36m_make_engine\u001b[0;34m(self, engine)\u001b[0m\n\u001b[1;32m    964\u001b[0m     \u001b[0;32mdef\u001b[0m \u001b[0m_make_engine\u001b[0m\u001b[0;34m(\u001b[0m\u001b[0mself\u001b[0m\u001b[0;34m,\u001b[0m \u001b[0mengine\u001b[0m\u001b[0;34m=\u001b[0m\u001b[0;34m'c'\u001b[0m\u001b[0;34m)\u001b[0m\u001b[0;34m:\u001b[0m\u001b[0;34m\u001b[0m\u001b[0m\n\u001b[1;32m    965\u001b[0m         \u001b[0;32mif\u001b[0m \u001b[0mengine\u001b[0m \u001b[0;34m==\u001b[0m \u001b[0;34m'c'\u001b[0m\u001b[0;34m:\u001b[0m\u001b[0;34m\u001b[0m\u001b[0m\n\u001b[0;32m--> 966\u001b[0;31m             \u001b[0mself\u001b[0m\u001b[0;34m.\u001b[0m\u001b[0m_engine\u001b[0m \u001b[0;34m=\u001b[0m \u001b[0mCParserWrapper\u001b[0m\u001b[0;34m(\u001b[0m\u001b[0mself\u001b[0m\u001b[0;34m.\u001b[0m\u001b[0mf\u001b[0m\u001b[0;34m,\u001b[0m \u001b[0;34m**\u001b[0m\u001b[0mself\u001b[0m\u001b[0;34m.\u001b[0m\u001b[0moptions\u001b[0m\u001b[0;34m)\u001b[0m\u001b[0;34m\u001b[0m\u001b[0m\n\u001b[0m\u001b[1;32m    967\u001b[0m         \u001b[0;32melse\u001b[0m\u001b[0;34m:\u001b[0m\u001b[0;34m\u001b[0m\u001b[0m\n\u001b[1;32m    968\u001b[0m             \u001b[0;32mif\u001b[0m \u001b[0mengine\u001b[0m \u001b[0;34m==\u001b[0m \u001b[0;34m'python'\u001b[0m\u001b[0;34m:\u001b[0m\u001b[0;34m\u001b[0m\u001b[0m\n",
      "\u001b[0;32m/Users/tobias/anaconda/lib/python3.6/site-packages/pandas/io/parsers.py\u001b[0m in \u001b[0;36m__init__\u001b[0;34m(self, src, **kwds)\u001b[0m\n\u001b[1;32m   1580\u001b[0m         \u001b[0mkwds\u001b[0m\u001b[0;34m[\u001b[0m\u001b[0;34m'allow_leading_cols'\u001b[0m\u001b[0;34m]\u001b[0m \u001b[0;34m=\u001b[0m \u001b[0mself\u001b[0m\u001b[0;34m.\u001b[0m\u001b[0mindex_col\u001b[0m \u001b[0;32mis\u001b[0m \u001b[0;32mnot\u001b[0m \u001b[0;32mFalse\u001b[0m\u001b[0;34m\u001b[0m\u001b[0m\n\u001b[1;32m   1581\u001b[0m \u001b[0;34m\u001b[0m\u001b[0m\n\u001b[0;32m-> 1582\u001b[0;31m         \u001b[0mself\u001b[0m\u001b[0;34m.\u001b[0m\u001b[0m_reader\u001b[0m \u001b[0;34m=\u001b[0m \u001b[0mparsers\u001b[0m\u001b[0;34m.\u001b[0m\u001b[0mTextReader\u001b[0m\u001b[0;34m(\u001b[0m\u001b[0msrc\u001b[0m\u001b[0;34m,\u001b[0m \u001b[0;34m**\u001b[0m\u001b[0mkwds\u001b[0m\u001b[0;34m)\u001b[0m\u001b[0;34m\u001b[0m\u001b[0m\n\u001b[0m\u001b[1;32m   1583\u001b[0m \u001b[0;34m\u001b[0m\u001b[0m\n\u001b[1;32m   1584\u001b[0m         \u001b[0;31m# XXX\u001b[0m\u001b[0;34m\u001b[0m\u001b[0;34m\u001b[0m\u001b[0m\n",
      "\u001b[0;32mpandas/_libs/parsers.pyx\u001b[0m in \u001b[0;36mpandas._libs.parsers.TextReader.__cinit__ (pandas/_libs/parsers.c:4209)\u001b[0;34m()\u001b[0m\n",
      "\u001b[0;32mpandas/_libs/parsers.pyx\u001b[0m in \u001b[0;36mpandas._libs.parsers.TextReader._setup_parser_source (pandas/_libs/parsers.c:8873)\u001b[0;34m()\u001b[0m\n",
      "\u001b[0;31mFileNotFoundError\u001b[0m: File b'pokemon.csv' does not exist"
     ]
    }
   ],
   "source": [
    "# 3d bubble charts using pokemon data\n",
    "# URL: https://www.kaggle.com/rounakbanik/pokemon/data\n",
    "\n",
    "dataset = pd.read_csv(\"pokemon.csv\")\n",
    "dataset.dtypes"
   ]
  },
  {
   "cell_type": "code",
   "execution_count": null,
   "metadata": {},
   "outputs": [],
   "source": [
    "layout = Layout(\n",
    "    title=\"Pokemon!\",\n",
    "    autosize = False,\n",
    "    width= 1000,\n",
    "    height= 1000,\n",
    "    scene = dict(\n",
    "        zaxis=dict(title=\"Attack\"),\n",
    "        yaxis=dict(title=\"Defense\"),\n",
    "        xaxis=dict(title=\"Type 1 Class.\")\n",
    "    )\n",
    ")\n",
    "\n",
    "trace0 = Scatter3d(\n",
    "    z = dataset.attack,\n",
    "    y = dataset.defense,\n",
    "    x = dataset.type1,\n",
    "    text = dataset.name,\n",
    "    mode = \"markers\",\n",
    "    marker = dict(\n",
    "        size = dataset.weight_kg/10,\n",
    "        opacity = 0.5,\n",
    "        color = dataset.hp,\n",
    "        colorscale = 'Viridis',\n",
    "        showscale=True,\n",
    "        colorbar=dict(title=\"HP\")\n",
    "    )\n",
    ")\n",
    "\n",
    "data = Data([trace0])\n",
    "\n",
    "fig = Figure(data=data, layout=layout)\n",
    "\n",
    "py.offline.iplot(fig)"
   ]
  },
  {
   "cell_type": "code",
   "execution_count": null,
   "metadata": {
    "collapsed": true
   },
   "outputs": [],
   "source": []
  }
 ],
 "metadata": {
  "kernelspec": {
   "display_name": "Python 3",
   "language": "python",
   "name": "python3"
  },
  "language_info": {
   "codemirror_mode": {
    "name": "ipython",
    "version": 3
   },
   "file_extension": ".py",
   "mimetype": "text/x-python",
   "name": "python",
   "nbconvert_exporter": "python",
   "pygments_lexer": "ipython3",
   "version": "3.6.6"
  }
 },
 "nbformat": 4,
 "nbformat_minor": 2
}
