{
 "cells": [
  {
   "cell_type": "code",
   "execution_count": 1,
   "metadata": {
    "collapsed": true
   },
   "outputs": [],
   "source": [
    "import pandas as pd\n",
    "import numpy as np\n",
    "import xgboost as xgb\n",
    "%matplotlib inline\n",
    "#import seaborn as sns\n",
    "import matplotlib.pyplot as plt\n",
    "import os\n",
    "from sklearn.preprocessing import LabelEncoder\n",
    "from scipy.sparse import csr_matrix, hstack\n",
    "from sklearn.linear_model import LogisticRegression\n",
    "from sklearn.cross_validation import StratifiedKFold\n",
    "from sklearn.metrics import log_loss\n",
    "\n",
    "datadir = 'input/'\n",
    "gatrain = pd.read_csv(os.path.join(datadir,'gender_age_train.csv'),\n",
    "                      index_col='device_id')\n",
    "gatest = pd.read_csv(os.path.join(datadir,'gender_age_test.csv'),\n",
    "                     index_col = 'device_id')\n",
    "phone = pd.read_csv(os.path.join(datadir,'phone_brand_device_model.csv'))\n",
    "# Get rid of duplicate device ids in phone\n",
    "phone = phone.drop_duplicates('device_id',keep='first').set_index('device_id')\n",
    "\n",
    "gatrain['row'] = np.arange(gatrain.shape[0])\n",
    "gatest['row'] = np.arange(gatest.shape[0])\n",
    "\n",
    "brandencoder = LabelEncoder().fit(phone.phone_brand)\n",
    "phone['brand'] = brandencoder.transform(phone['phone_brand'])\n",
    "gatrain['brand'] = phone['brand']\n",
    "gatest['brand'] = phone['brand']\n",
    "\n",
    "m = phone.phone_brand.str.cat(phone.device_model)\n",
    "modelencoder = LabelEncoder().fit(m)\n",
    "phone['model'] = modelencoder.transform(m)\n",
    "gatrain['model'] = phone['model']\n",
    "gatest['model'] = phone['model']\n",
    "\n",
    "gatrain['to_group'] = gatrain.gender.astype(str)+'.'+gatrain.age.astype(str)+'.'+gatrain.brand.astype(str)+'.'+gatrain.model.astype(str)\n",
    "\n",
    "gatrain['to_group_bm'] = gatrain.brand.astype(str)+'.'+gatrain.model.astype(str)\n",
    "gatest['to_group_bm'] = gatest.brand.astype(str)+'.'+gatest.model.astype(str)"
   ]
  },
  {
   "cell_type": "code",
   "execution_count": 6,
   "metadata": {
    "collapsed": true
   },
   "outputs": [],
   "source": [
    "tr_groupby_bm = gatrain.groupby('to_group_bm')\n",
    "te_groupby_bm = gatest.groupby('to_group_bm')"
   ]
  },
  {
   "cell_type": "code",
   "execution_count": 2,
   "metadata": {
    "collapsed": false
   },
   "outputs": [
    {
     "data": {
      "text/html": [
       "<div>\n",
       "<table border=\"1\" class=\"dataframe\">\n",
       "  <thead>\n",
       "    <tr style=\"text-align: right;\">\n",
       "      <th></th>\n",
       "      <th>gender</th>\n",
       "      <th>age</th>\n",
       "      <th>group</th>\n",
       "      <th>row</th>\n",
       "      <th>brand</th>\n",
       "      <th>model</th>\n",
       "      <th>to_group</th>\n",
       "      <th>to_group_bm</th>\n",
       "    </tr>\n",
       "    <tr>\n",
       "      <th>device_id</th>\n",
       "      <th></th>\n",
       "      <th></th>\n",
       "      <th></th>\n",
       "      <th></th>\n",
       "      <th></th>\n",
       "      <th></th>\n",
       "      <th></th>\n",
       "      <th></th>\n",
       "    </tr>\n",
       "  </thead>\n",
       "  <tbody>\n",
       "    <tr>\n",
       "      <th>-8076087639492063270</th>\n",
       "      <td>M</td>\n",
       "      <td>35</td>\n",
       "      <td>M32-38</td>\n",
       "      <td>0</td>\n",
       "      <td>51</td>\n",
       "      <td>843</td>\n",
       "      <td>M.35.51.843</td>\n",
       "      <td>51.843</td>\n",
       "    </tr>\n",
       "    <tr>\n",
       "      <th>-2897161552818060146</th>\n",
       "      <td>M</td>\n",
       "      <td>35</td>\n",
       "      <td>M32-38</td>\n",
       "      <td>1</td>\n",
       "      <td>51</td>\n",
       "      <td>843</td>\n",
       "      <td>M.35.51.843</td>\n",
       "      <td>51.843</td>\n",
       "    </tr>\n",
       "  </tbody>\n",
       "</table>\n",
       "</div>"
      ],
      "text/plain": [
       "                     gender  age   group  row  brand  model     to_group  \\\n",
       "device_id                                                                  \n",
       "-8076087639492063270      M   35  M32-38    0     51    843  M.35.51.843   \n",
       "-2897161552818060146      M   35  M32-38    1     51    843  M.35.51.843   \n",
       "\n",
       "                     to_group_bm  \n",
       "device_id                         \n",
       "-8076087639492063270      51.843  \n",
       "-2897161552818060146      51.843  "
      ]
     },
     "execution_count": 2,
     "metadata": {},
     "output_type": "execute_result"
    }
   ],
   "source": [
    "gatrain.head(2)"
   ]
  },
  {
   "cell_type": "code",
   "execution_count": 3,
   "metadata": {
    "collapsed": false
   },
   "outputs": [
    {
     "data": {
      "text/html": [
       "<div>\n",
       "<table border=\"1\" class=\"dataframe\">\n",
       "  <thead>\n",
       "    <tr style=\"text-align: right;\">\n",
       "      <th></th>\n",
       "      <th>row</th>\n",
       "      <th>brand</th>\n",
       "      <th>model</th>\n",
       "      <th>to_group_bm</th>\n",
       "    </tr>\n",
       "    <tr>\n",
       "      <th>device_id</th>\n",
       "      <th></th>\n",
       "      <th></th>\n",
       "      <th></th>\n",
       "      <th></th>\n",
       "    </tr>\n",
       "  </thead>\n",
       "  <tbody>\n",
       "    <tr>\n",
       "      <th>1002079943728939269</th>\n",
       "      <td>0</td>\n",
       "      <td>51</td>\n",
       "      <td>857</td>\n",
       "      <td>51.857</td>\n",
       "    </tr>\n",
       "    <tr>\n",
       "      <th>-1547860181818787117</th>\n",
       "      <td>1</td>\n",
       "      <td>51</td>\n",
       "      <td>860</td>\n",
       "      <td>51.860</td>\n",
       "    </tr>\n",
       "  </tbody>\n",
       "</table>\n",
       "</div>"
      ],
      "text/plain": [
       "                      row  brand  model to_group_bm\n",
       "device_id                                          \n",
       " 1002079943728939269    0     51    857      51.857\n",
       "-1547860181818787117    1     51    860      51.860"
      ]
     },
     "execution_count": 3,
     "metadata": {},
     "output_type": "execute_result"
    }
   ],
   "source": [
    "gatest.head(2)"
   ]
  },
  {
   "cell_type": "code",
   "execution_count": 20,
   "metadata": {
    "collapsed": false
   },
   "outputs": [
    {
     "data": {
      "text/plain": [
       "array(['M.35.51.843', 'M.30.51.865', 'M.30.51.847', ..., 'F.21.18.493',\n",
       "       'M.38.101.1167', 'M.25.10.196'], dtype=object)"
      ]
     },
     "execution_count": 20,
     "metadata": {},
     "output_type": "execute_result"
    }
   ],
   "source": [
    "gatrain.to_group.unique()"
   ]
  },
  {
   "cell_type": "code",
   "execution_count": 13,
   "metadata": {
    "collapsed": false
   },
   "outputs": [
    {
     "data": {
      "text/plain": [
       "(1486,)"
      ]
     },
     "execution_count": 13,
     "metadata": {},
     "output_type": "execute_result"
    }
   ],
   "source": [
    "gatrain.to_group_bm.unique().shape"
   ]
  },
  {
   "cell_type": "code",
   "execution_count": 12,
   "metadata": {
    "collapsed": false
   },
   "outputs": [
    {
     "data": {
      "text/plain": [
       "(1589,)"
      ]
     },
     "execution_count": 12,
     "metadata": {},
     "output_type": "execute_result"
    }
   ],
   "source": [
    "gatest.to_group_bm.unique().shape"
   ]
  },
  {
   "cell_type": "code",
   "execution_count": 14,
   "metadata": {
    "collapsed": false
   },
   "outputs": [
    {
     "data": {
      "text/plain": [
       "1408"
      ]
     },
     "execution_count": 14,
     "metadata": {},
     "output_type": "execute_result"
    }
   ],
   "source": [
    "len(set(gatrain.to_group_bm.unique())&set(gatest.to_group_bm.unique()))"
   ]
  },
  {
   "cell_type": "code",
   "execution_count": 15,
   "metadata": {
    "collapsed": true
   },
   "outputs": [],
   "source": [
    "grpp_bm_unique = list(set(gatrain.to_group_bm.unique())&set(gatest.to_group_bm.unique()))"
   ]
  },
  {
   "cell_type": "code",
   "execution_count": 28,
   "metadata": {
    "collapsed": false
   },
   "outputs": [
    {
     "ename": "TypeError",
     "evalue": "'int' object is not iterable",
     "output_type": "error",
     "traceback": [
      "\u001b[0;31m---------------------------------------------------------------------------\u001b[0m",
      "\u001b[0;31mTypeError\u001b[0m                                 Traceback (most recent call last)",
      "\u001b[0;32m<ipython-input-28-7ecb9a10691f>\u001b[0m in \u001b[0;36m<module>\u001b[0;34m()\u001b[0m\n\u001b[1;32m     16\u001b[0m             \u001b[0;32mif\u001b[0m \u001b[0ma\u001b[0m\u001b[0;34m.\u001b[0m\u001b[0mshape\u001b[0m\u001b[0;34m[\u001b[0m\u001b[0;36m0\u001b[0m\u001b[0;34m]\u001b[0m\u001b[0;34m>\u001b[0m\u001b[0;36m1\u001b[0m\u001b[0;34m:\u001b[0m\u001b[0;34m\u001b[0m\u001b[0m\n\u001b[1;32m     17\u001b[0m                 \u001b[0mtr_consec\u001b[0m\u001b[0;34m.\u001b[0m\u001b[0mappend\u001b[0m\u001b[0;34m(\u001b[0m\u001b[0ma\u001b[0m\u001b[0;34m)\u001b[0m\u001b[0;34m\u001b[0m\u001b[0m\n\u001b[0;32m---> 18\u001b[0;31m         \u001b[0;32mfor\u001b[0m \u001b[0mi\u001b[0m \u001b[0;32min\u001b[0m \u001b[0mlen\u001b[0m\u001b[0;34m(\u001b[0m\u001b[0mtr_consec\u001b[0m\u001b[0;34m)\u001b[0m\u001b[0;34m:\u001b[0m\u001b[0;34m\u001b[0m\u001b[0m\n\u001b[0m\u001b[1;32m     19\u001b[0m             \u001b[0mdf_tr_smallest\u001b[0m \u001b[0;34m=\u001b[0m \u001b[0mdf_tr_grpp_all\u001b[0m\u001b[0;34m.\u001b[0m\u001b[0mix\u001b[0m\u001b[0;34m[\u001b[0m\u001b[0mtr_consec\u001b[0m\u001b[0;34m[\u001b[0m\u001b[0mi\u001b[0m\u001b[0;34m]\u001b[0m\u001b[0;34m.\u001b[0m\u001b[0mindex\u001b[0m\u001b[0;34m]\u001b[0m\u001b[0;34m\u001b[0m\u001b[0m\n\u001b[1;32m     20\u001b[0m             \u001b[0mmeann\u001b[0m \u001b[0;34m=\u001b[0m \u001b[0mdf_tr_smallest\u001b[0m\u001b[0;34m.\u001b[0m\u001b[0mnid_order\u001b[0m\u001b[0;34m.\u001b[0m\u001b[0mmean\u001b[0m\u001b[0;34m(\u001b[0m\u001b[0;34m)\u001b[0m\u001b[0;34m\u001b[0m\u001b[0m\n",
      "\u001b[0;31mTypeError\u001b[0m: 'int' object is not iterable"
     ]
    }
   ],
   "source": [
    "def consecutive(data, stepsize=1):\n",
    "    return np.split(data, np.where(np.diff(data) != stepsize)[0]+1)\n",
    "\n",
    "final_te_gender = pd.Series('X',index=gatest.index)\n",
    "final_te_age = pd.Series(0,index=gatest.index)\n",
    "\n",
    "for grpp_bm in grpp_bm_unique:\n",
    "    df_tr_grpp_bm = tr_groupby_bm.get_group(grpp_bm)\n",
    "    df_te_grpp_bm = te_groupby_bm.get_group(grpp_bm)\n",
    "    tr_groupby_all = df_tr_grpp_bm.groupby('to_group')\n",
    "    for grpp_all in df_tr_grpp_bm.to_group.unique():\n",
    "        df_tr_grpp_all = tr_groupby_all.get_group(grpp_all)\n",
    "        b = consecutive(df_tr_grpp_all.row)\n",
    "        tr_consec = []\n",
    "        for a in b:\n",
    "            if a.shape[0]>1:\n",
    "                tr_consec.append(a)\n",
    "        for i in range(len(tr_consec)):\n",
    "            df_tr_smallest = df_tr_grpp_all.ix[tr_consec[i].index]\n",
    "            meann = df_tr_smallest.nid_order.mean()\n",
    "            gndr = df_tr_smallest.gender.unique()[0]\n",
    "            agee = df_tr_smallest.age.unique()[0]\n",
    "            l_cnd = meann - 0.001\n",
    "            h_cnd = meann + 0.001\n",
    "            df_te_small = df_te_grpp_bm[(df_te_grpp_bm.nid_order>l_cnd)&(df_te_grpp_bm.nid_order<h_cnd)].sort('row')\n",
    "            g = consecutive(df_te_small.row)\n",
    "            te_consec = []\n",
    "            for f in g:\n",
    "                if f.shape[0]>1:\n",
    "                    te_consec.append(f)\n",
    "            minn = []\n",
    "            for j in range(len(te_consec)):\n",
    "                df_te_smallest = df_te_small.ix[te_consec[i].index]\n",
    "                meann_te = df_te_smallest.nid_order.mean()\n",
    "                minn.append(meann_te)\n",
    "            indd = minn.index(min(minn))\n",
    "            df_te_smallest_final = df_te_small.ix[te_consec[indd].index]\n",
    "            final_te_gender[df_te_smallest_final.index] = gndr\n",
    "            final_te_age[df_te_smallest_final.index] = agee"
   ]
  },
  {
   "cell_type": "code",
   "execution_count": null,
   "metadata": {
    "collapsed": true
   },
   "outputs": [],
   "source": []
  }
 ],
 "metadata": {
  "anaconda-cloud": {},
  "kernelspec": {
   "display_name": "Python [default]",
   "language": "python",
   "name": "python3"
  },
  "language_info": {
   "codemirror_mode": {
    "name": "ipython",
    "version": 3
   },
   "file_extension": ".py",
   "mimetype": "text/x-python",
   "name": "python",
   "nbconvert_exporter": "python",
   "pygments_lexer": "ipython3",
   "version": "3.5.2"
  }
 },
 "nbformat": 4,
 "nbformat_minor": 1
}
