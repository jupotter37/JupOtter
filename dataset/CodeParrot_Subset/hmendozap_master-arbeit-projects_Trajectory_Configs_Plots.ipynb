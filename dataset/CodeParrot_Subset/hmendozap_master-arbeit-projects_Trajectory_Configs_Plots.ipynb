{
 "cells": [
  {
   "cell_type": "code",
   "execution_count": null,
   "metadata": {
    "collapsed": false,
    "slideshow": {
     "slide_type": "-"
    }
   },
   "outputs": [],
   "source": [
    "import sys, os\n",
    "import numpy as np\n",
    "import matplotlib.pyplot as plt\n",
    "%matplotlib inline\n",
    "import pandas as pd\n",
    "import seaborn as sns\n",
    "from ipywidgets import widgets\n",
    "import ConfigReader as cr\n",
    "import itertools as itt\n",
    "import natsort as ns\n",
    "import glob"
   ]
  },
  {
   "cell_type": "code",
   "execution_count": null,
   "metadata": {
    "collapsed": false
   },
   "outputs": [],
   "source": [
    "#Styles\n",
    "sns.set_style('whitegrid', {'axes.linewidth':1.25, 'axes.edgecolor':'0.15',\n",
    "                            'grid.linewidth':1.5, 'grid.color':'gray'})\n",
    "sns.set_color_codes()\n",
    "plt.rcParams['figure.figsize'] = (12.0, 9.0)\n",
    "\n",
    "plt.rc('text', usetex=False)\n",
    "plt.rc('font', size=20.0, family='serif')\n",
    "\n",
    "markers = itt.cycle(('o', 's', 'p','H'))"
   ]
  },
  {
   "cell_type": "code",
   "execution_count": null,
   "metadata": {
    "collapsed": true
   },
   "outputs": [],
   "source": [
    "datasets_list =[\"1049\", \"1111\", \"1120\", \"1128\", \"179\", \"184\", \"293\", \"389\", \"38\", \"46\", \"554\", \"772\", \"917\"]"
   ]
  },
  {
   "cell_type": "code",
   "execution_count": null,
   "metadata": {
    "collapsed": false
   },
   "outputs": [],
   "source": [
    "# Data location and scenario\n",
    "data_dir = '/mhome/mendozah/autonet_GPU/results/experiment'\n",
    "dataset = '1128_bac'\n",
    "preprocessor='DeepNetIterative'\n",
    "\n",
    "reader = cr.ConfigReader(data_dir=data_dir, dataset=dataset)\n",
    "tdf = reader.load_validation_trajectories(preprocessor=preprocessor, load_config=False)"
   ]
  },
  {
   "cell_type": "markdown",
   "metadata": {},
   "source": [
    "\n",
    "## Training vs. Test Trajectory"
   ]
  },
  {
   "cell_type": "code",
   "execution_count": null,
   "metadata": {
    "collapsed": false
   },
   "outputs": [],
   "source": [
    "# Data location and scenario\n",
    "data_dir = '/mhome/mendozah/autonet_GPU/results/experiment'\n",
    "dataset = '46_bac'\n",
    "preprocessor='DeepNetIterative'\n",
    "\n",
    "reader = cr.ConfigReader(data_dir=data_dir, dataset=dataset)\n",
    "tdf = reader.load_validation_trajectories(preprocessor=preprocessor, load_config=False)"
   ]
  },
  {
   "cell_type": "code",
   "execution_count": null,
   "metadata": {
    "collapsed": false
   },
   "outputs": [],
   "source": [
    "temp_df = tdf.copy()\n",
    "temp_df.columns = tdf.columns.droplevel(0)\n",
    "tdf = temp_df.sort_values(by='time').drop_duplicates()"
   ]
  },
  {
   "cell_type": "code",
   "execution_count": null,
   "metadata": {
    "collapsed": false
   },
   "outputs": [],
   "source": [
    "data_dir = '/mhome/mendozah/autonet_full/results/experiment'\n",
    "reader_cpu = cr.ConfigReader(data_dir=data_dir, dataset=dataset)\n",
    "tdf_cpu = reader_cpu.load_validation_trajectories(preprocessor=preprocessor, load_config=False)\n",
    "\n",
    "temp_cpu = tdf_cpu.copy()\n",
    "temp_cpu.columns = tdf_cpu.columns.droplevel(0)\n",
    "tdf_cpu = temp_cpu.sort_values(by='time').drop_duplicates()"
   ]
  },
  {
   "cell_type": "code",
   "execution_count": null,
   "metadata": {
    "collapsed": true
   },
   "outputs": [],
   "source": [
    "color_list = itt.cycle(['b', 'g','r', 'k'])"
   ]
  },
  {
   "cell_type": "code",
   "execution_count": null,
   "metadata": {
    "collapsed": true
   },
   "outputs": [],
   "source": [
    "def plot_trajectory_mean(df, ex, ax):\n",
    "    expand_mean_test = df.test_performance.cummean()\n",
    "    expand_mean_train = df.train_performance.cummean()\n",
    "    q1_test = expand_mean_test - expand_mean_test.std()\n",
    "    q3_test = expand_mean_test + expand_mean_test.std()\n",
    "    ax.plot(df.time, expand_mean_test, label=ex + '_test', marker=markers.next())\n",
    "    ax.plot(df.time, expand_mean_train, label=ex + '_train', marker=markers.next())\n",
    "    #ax.fill_between(df.time, q1_test, q3_test, alpha=0.4, color=color_list.next())\n",
    "    q1_train = expand_mean_train - expand_mean_train.std()\n",
    "    q3_train = expand_mean_train + expand_mean_train.std()\n",
    "    #ax.fill_between(df.time, q1_train, q3_train, alpha=0.4, color=color_list.next())\n",
    "    return ax"
   ]
  },
  {
   "cell_type": "code",
   "execution_count": null,
   "metadata": {
    "collapsed": false
   },
   "outputs": [],
   "source": [
    "fig_trajectory, ax_trajectory = plt.subplots(1,1)\n",
    "for name, dataframe in zip(['gpu', 'cpu'], [tdf, tdf_cpu]):\n",
    "    ax_trajectory = plot_trajectory_mean(dataframe, name, ax_trajectory)\n",
    "ax_trajectory.legend()\n",
    "ax_trajectory.set_xscale('log')"
   ]
  },
  {
   "cell_type": "markdown",
   "metadata": {},
   "source": [
    "## Using aadlab plot lib"
   ]
  },
  {
   "cell_type": "code",
   "execution_count": null,
   "metadata": {
    "collapsed": false
   },
   "outputs": [],
   "source": [
    "from smac_validate.plot_methods import plot_optimization_trace_mult_exp\n",
    "from smac_validate.merge_test_performance_different_times import fill_trajectory"
   ]
  },
  {
   "cell_type": "code",
   "execution_count": null,
   "metadata": {
    "collapsed": false
   },
   "outputs": [],
   "source": [
    "preprocessor='DeepNetIterative'"
   ]
  },
  {
   "cell_type": "code",
   "execution_count": null,
   "metadata": {
    "collapsed": true
   },
   "outputs": [],
   "source": [
    "datasets_list =[\"1049\", \"1111\", \"1120\", \"1128\", \"179\", \"184\", \"293\", \"389\", \"38\", \"46\", \"554\", \"772\", \"917\"]"
   ]
  },
  {
   "cell_type": "code",
   "execution_count": null,
   "metadata": {
    "collapsed": true
   },
   "outputs": [],
   "source": [
    "def read_validation_trajectories_csv(datadir, dataset, preprocessor):\n",
    "    ensemble_fn = 'validationResults-detailed-traj-run-*-walltime.csv'\n",
    "    scenario_dir = os.path.join(datadir, dataset + \"_bac\", preprocessor, dataset + \"_bac\", ensemble_fn)\n",
    "    traj_cols = ['time', 'train_performance', 'test_performance']\n",
    "    print(scenario_dir)\n",
    "    dirs = ns.natsorted(glob.glob(scenario_dir))\n",
    "    seeds = ['seed_' + itseeds.split('-')[-2].split('.')[0] for itseeds in dirs]\n",
    "    all_trajs = []\n",
    "    all_times = []\n",
    "    all_train_errors = []\n",
    "    all_test_errors = []\n",
    "    for fname in dirs:\n",
    "        try:\n",
    "            traj_res = pd.read_csv(fname, delimiter=\",\", usecols=[0,1,2],\n",
    "                                   skiprows=0)\n",
    "        except OSError:\n",
    "            print('file %s does not exist. Please check path' % fname)\n",
    "        except IndexError:\n",
    "            print('CRASH in: ' + os.path.split(fnames)[1])\n",
    "        except ValueError:\n",
    "            continue\n",
    "        traj_res = traj_res.apply(pd.to_numeric, errors='coerce')\n",
    "        traj_res.columns = traj_cols\n",
    "        traj_res.sort_values(by='time')\n",
    "        all_trajs.append(traj_res)\n",
    "        all_times.append(traj_res['time'].values)\n",
    "        all_train_errors.append(traj_res['train_performance'].values)\n",
    "        all_test_errors.append(traj_res['test_performance'].values)\n",
    "        \n",
    "    trajectories_df = pd.concat(all_trajs, axis=1, keys=seeds)\n",
    "    \n",
    "    return all_times, all_train_errors, all_test_errors"
   ]
  },
  {
   "cell_type": "code",
   "execution_count": null,
   "metadata": {
    "collapsed": false
   },
   "outputs": [],
   "source": [
    "properties = {\"labelfontsize\": 24,\n",
    "              \"legendsize\": 15,\n",
    "              \"linewidth\": 2.2,\n",
    "              \"gridalpha\": 0.5,\n",
    "              \"gridcolor\": \"k\",\n",
    "              \"dpi\": 300,\n",
    "              \"colors\": itt.cycle([\"red\",  \"blue\"])}"
   ]
  },
  {
   "cell_type": "code",
   "execution_count": null,
   "metadata": {
    "collapsed": true
   },
   "outputs": [],
   "source": [
    "#experiments = ['full', 'GPU', 'ROAR']\n",
    "#experiments = ['GPU']\n",
    "#experiments = ['full', 'GPU']\n",
    "experiments = ['full', '0305_benchmark']\n",
    "plt.rcParams['figure.figsize'] = (12.0, 9.0)"
   ]
  },
  {
   "cell_type": "code",
   "execution_count": null,
   "metadata": {
    "collapsed": true
   },
   "outputs": [],
   "source": [
    "# Data location\n",
    "dir_to_save = '/mhome/mendozah/autonet_full/results/plots_experiments/trajectory_plots/'\n",
    "prepros=['DeepNetIterative', 'DeepFeedNet']\n",
    "markers = itt.cycle(['o', 'v', '^', '8', 's', 'p', 'h', 'D'])"
   ]
  },
  {
   "cell_type": "code",
   "execution_count": null,
   "metadata": {
    "collapsed": false
   },
   "outputs": [],
   "source": [
    "for k, dataset in enumerate(datasets_list):\n",
    "    time_ = []\n",
    "    te_ = []\n",
    "    for j, (experiment, preprocessor) in enumerate(zip(experiments,prepros)):\n",
    "        datadir = \"/mhome/mendozah/autonet_\" + experiment + \"/results/experiment\"\n",
    "        ti, err_train, err_test = read_validation_trajectories_csv(datadir=datadir, dataset=dataset,\n",
    "                                                                   preprocessor=preprocessor)\n",
    "        #time_.append(ti)\n",
    "        #te_.append(err_train)\n",
    "        time_.append(ti)\n",
    "        te_.append(err_test)\n",
    "\n",
    "    te = []\n",
    "    time = []\n",
    "    \n",
    "    for i in range(len(te_)):\n",
    "        p_, t_ = fill_trajectory(te_[i], time_[i])\n",
    "        time.append(t_[1:])\n",
    "        te.append([j[1:] for j in p_])\n",
    "    plot_optimization_trace_mult_exp(time, te, [\"AutoNet-CPU-48-Test\", \"AutoNet-CPU-24-Test\"],\n",
    "                                     logx=True, logy=False, title=\"\", legend_loc=0,\n",
    "                                     scale_std=1, properties=properties, agglomeration='mean', ylabel=\"Error\",\n",
    "                                     save = dir_to_save + \"plot_compare_\"+ dataset+\"_time.pdf\")\n",
    "            "
   ]
  },
  {
   "cell_type": "code",
   "execution_count": null,
   "metadata": {
    "collapsed": true
   },
   "outputs": [],
   "source": []
  }
 ],
 "metadata": {
  "kernelspec": {
   "display_name": "Python 2",
   "language": "python",
   "name": "python2"
  },
  "language_info": {
   "codemirror_mode": {
    "name": "ipython",
    "version": 2
   },
   "file_extension": ".py",
   "mimetype": "text/x-python",
   "name": "python",
   "nbconvert_exporter": "python",
   "pygments_lexer": "ipython2",
   "version": "2.7.6"
  }
 },
 "nbformat": 4,
 "nbformat_minor": 0
}
