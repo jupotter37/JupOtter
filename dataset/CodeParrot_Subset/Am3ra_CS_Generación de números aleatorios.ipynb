{
 "cells": [
  {
   "cell_type": "markdown",
   "metadata": {},
   "source": [
    "Alan Macedo Esparza\n",
    "A01366288"
   ]
  },
  {
   "cell_type": "code",
   "execution_count": 1,
   "metadata": {},
   "outputs": [
    {
     "name": "stdout",
     "output_type": "stream",
     "text": [
      "[4 3 2 1 2 1 1 2 4 3 2 3 4 2 1 2 3 4 2 4 2 1 4 4 4 2 2 4 1 2 4 4 3 4 4 2 1\n",
      " 4 1 4 2 2 1 2 4 4 1 4 2 4 4 4 1 4 4 4 1 4 3 4 1 3 3 1 1 2 1 4 2 2 2 1 3 2\n",
      " 3 4 1 3 1 4 4 1 4 1 3 1 1 1 4 4 4 1 4 4 4 4 1 2 4 1]\n"
     ]
    }
   ],
   "source": [
    "import numpy as np\n",
    "\n",
    "a = np.random.choice([1,2,3,4], 100, p=[0.3,0.2,0.1,0.4])\n",
    "print(a)"
   ]
  }
 ],
 "metadata": {
  "kernelspec": {
   "display_name": "Python 3.7.7 64-bit",
   "language": "python",
   "name": "python37764bit6381e19668b04d93b1afa4267a4f1b24"
  },
  "language_info": {
   "codemirror_mode": {
    "name": "ipython",
    "version": 3
   },
   "file_extension": ".py",
   "mimetype": "text/x-python",
   "name": "python",
   "nbconvert_exporter": "python",
   "pygments_lexer": "ipython3",
   "version": "3.7.7"
  }
 },
 "nbformat": 4,
 "nbformat_minor": 4
}
