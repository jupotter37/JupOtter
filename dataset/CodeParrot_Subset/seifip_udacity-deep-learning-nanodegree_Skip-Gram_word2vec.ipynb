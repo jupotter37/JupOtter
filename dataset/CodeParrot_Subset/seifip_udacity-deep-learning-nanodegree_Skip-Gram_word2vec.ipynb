{
  "cells": [
    {
      "cell_type": "markdown",
      "source": [
        "# Skip-gram word2vec\n",
        "\n",
        "In this notebook, I'll lead you through using TensorFlow to implement the word2vec algorithm using the skip-gram architecture. By implementing this, you'll learn about embedding words for use in natural language processing. This will come in handy when dealing with things like machine translation.\n",
        "\n",
        "## Readings\n",
        "\n",
        "Here are the resources I used to build this notebook. I suggest reading these either beforehand or while you're working on this material.\n",
        "\n",
        "* A really good [conceptual overview](http://mccormickml.com/2016/04/19/word2vec-tutorial-the-skip-gram-model/) of word2vec from Chris McCormick \n",
        "* [First word2vec paper](https://arxiv.org/pdf/1301.3781.pdf) from Mikolov et al.\n",
        "* [NIPS paper](http://papers.nips.cc/paper/5021-distributed-representations-of-words-and-phrases-and-their-compositionality.pdf) with improvements for word2vec also from Mikolov et al.\n",
        "* An [implementation of word2vec](http://www.thushv.com/natural_language_processing/word2vec-part-1-nlp-with-deep-learning-with-tensorflow-skip-gram/) from Thushan Ganegedara\n",
        "* TensorFlow [word2vec tutorial](https://www.tensorflow.org/tutorials/word2vec)\n",
        "\n",
        "## Word embeddings\n",
        "\n",
        "When you're dealing with words in text, you end up with tens of thousands of classes to predict, one for each word. Trying to one-hot encode these words is massively inefficient, you'll have one element set to 1 and the other 50,000 set to 0. The matrix multiplication going into the first hidden layer will have almost all of the resulting values be zero. This a huge waste of computation. \n",
        "\n",
        "![one-hot encodings](assets/one_hot_encoding.png)\n",
        "\n",
        "To solve this problem and greatly increase the efficiency of our networks, we use what are called embeddings. Embeddings are just a fully connected layer like you've seen before. We call this layer the embedding layer and the weights are embedding weights. We skip the multiplication into the embedding layer by instead directly grabbing the hidden layer values from the weight matrix. We can do this because the multiplication of a one-hot encoded vector with a matrix returns the row of the matrix corresponding the index of the \"on\" input unit.\n",
        "\n",
        "![lookup](assets/lookup_matrix.png)\n",
        "\n",
        "Instead of doing the matrix multiplication, we use the weight matrix as a lookup table. We encode the words as integers, for example \"heart\" is encoded as 958, \"mind\" as 18094. Then to get hidden layer values for \"heart\", you just take the 958th row of the embedding matrix. This process is called an **embedding lookup** and the number of hidden units is the **embedding dimension**.\n",
        "\n",
        "<img src='assets/tokenize_lookup.png' width=500>\n",
        " \n",
        "There is nothing magical going on here. The embedding lookup table is just a weight matrix. The embedding layer is just a hidden layer. The lookup is just a shortcut for the matrix multiplication. The lookup table is trained just like any weight matrix as well.\n",
        "\n",
        "Embeddings aren't only used for words of course. You can use them for any model where you have a massive number of classes. A particular type of model called **Word2Vec** uses the embedding layer to find vector representations of words that contain semantic meaning.\n",
        "\n"
      ],
      "metadata": {}
    },
    {
      "cell_type": "markdown",
      "source": [
        "## Word2Vec\n",
        "\n",
        "The word2vec algorithm finds much more efficient representations by finding vectors that represent the words. These vectors also contain semantic information about the words. Words that show up in similar contexts, such as \"black\", \"white\", and \"red\" will have vectors near each other. There are two architectures for implementing word2vec, CBOW (Continuous Bag-Of-Words) and Skip-gram.\n",
        "\n",
        "<img src=\"assets/word2vec_architectures.png\" width=\"500\">\n",
        "\n",
        "In this implementation, we'll be using the skip-gram architecture because it performs better than CBOW. Here, we pass in a word and try to predict the words surrounding it in the text. In this way, we can train the network to learn representations for words that show up in similar contexts.\n",
        "\nFirst up, importing packages."
      ],
      "metadata": {}
    },
    {
      "cell_type": "code",
      "source": [
        "import time\n",
        "\n",
        "import numpy as np\n",
        "import tensorflow as tf\n",
        "\nimport utils"
      ],
      "outputs": [],
      "execution_count": 1,
      "metadata": {
        "collapsed": true
      }
    },
    {
      "cell_type": "markdown",
      "source": [
        "Load the [text8 dataset](http://mattmahoney.net/dc/textdata.html), a file of cleaned up Wikipedia articles from Matt Mahoney. The next cell will download the data set to the `data` folder. Then you can extract it and delete the archive file to save storage space."
      ],
      "metadata": {}
    },
    {
      "cell_type": "code",
      "source": [
        "from urllib.request import urlretrieve\n",
        "from os.path import isfile, isdir\n",
        "from tqdm import tqdm\n",
        "import zipfile\n",
        "\n",
        "dataset_folder_path = 'data'\n",
        "dataset_filename = 'text8.zip'\n",
        "dataset_name = 'Text8 Dataset'\n",
        "\n",
        "class DLProgress(tqdm):\n",
        "    last_block = 0\n",
        "\n",
        "    def hook(self, block_num=1, block_size=1, total_size=None):\n",
        "        self.total = total_size\n",
        "        self.update((block_num - self.last_block) * block_size)\n",
        "        self.last_block = block_num\n",
        "\n",
        "if not isfile(dataset_filename):\n",
        "    with DLProgress(unit='B', unit_scale=True, miniters=1, desc=dataset_name) as pbar:\n",
        "        urlretrieve(\n",
        "            'http://mattmahoney.net/dc/text8.zip',\n",
        "            dataset_filename,\n",
        "            pbar.hook)\n",
        "\n",
        "if not isdir(dataset_folder_path):\n",
        "    with zipfile.ZipFile(dataset_filename) as zip_ref:\n",
        "        zip_ref.extractall(dataset_folder_path)\n",
        "        \n",
        "with open('data/text8') as f:\n",
        "    text = f.read()"
      ],
      "outputs": [
        {
          "output_type": "stream",
          "name": "stderr",
          "text": [
            "\rText8 Dataset: 0.00B [00:00, ?B/s]\rText8 Dataset:   0%|          | 8.19K/31.3M [00:00<33:21, 15.7KB/s]\rText8 Dataset:   0%|          | 16.4K/31.3M [00:00<25:27, 20.5KB/s]\rText8 Dataset:   0%|          | 32.8K/31.3M [00:00<18:51, 27.7KB/s]\rText8 Dataset:   0%|          | 65.5K/31.3M [00:00<13:46, 37.9KB/s]\rText8 Dataset:   0%|          | 115K/31.3M [00:00<10:02, 51.9KB/s] \rText8 Dataset:   0%|          | 156K/31.3M [00:01<07:41, 67.5KB/s]\rText8 Dataset:   1%|          | 221K/31.3M [00:01<05:40, 91.5KB/s]\rText8 Dataset:   1%|          | 262K/31.3M [00:01<04:24, 118KB/s] \rText8 Dataset:   1%|          | 311K/31.3M [00:01<03:28, 149KB/s]\rText8 Dataset:   1%|          | 360K/31.3M [00:01<02:49, 183KB/s]\rText8 Dataset:   1%|▏         | 410K/31.3M [00:01<02:21, 219KB/s]\rText8 Dataset:   1%|▏         | 467K/31.3M [00:01<02:00, 256KB/s]\rText8 Dataset:   2%|▏         | 524K/31.3M [00:02<01:44, 295KB/s]\rText8 Dataset:   2%|▏         | 573K/31.3M [00:02<01:33, 327KB/s]\rText8 Dataset:   2%|▏         | 631K/31.3M [00:02<01:23, 366KB/s]\rText8 Dataset:   2%|▏         | 688K/31.3M [00:02<01:17, 395KB/s]\rText8 Dataset:   2%|▏         | 754K/31.3M [00:02<01:12, 424KB/s]\rText8 Dataset:   3%|▎         | 811K/31.3M [00:02<01:09, 442KB/s]\rText8 Dataset:   3%|▎         | 877K/31.3M [00:02<01:06, 457KB/s]\rText8 Dataset:   3%|▎         | 942K/31.3M [00:03<01:22, 369KB/s]\rText8 Dataset:   3%|▎         | 1.05M/31.3M [00:03<01:07, 449KB/s]\rText8 Dataset:   3%|▎         | 1.09M/31.3M [00:03<01:11, 421KB/s]\rText8 Dataset:   4%|▎         | 1.14M/31.3M [00:03<01:13, 410KB/s]\rText8 Dataset:   4%|▍         | 1.19M/31.3M [00:03<01:16, 397KB/s]\rText8 Dataset:   4%|▍         | 1.21M/31.3M [00:03<01:54, 264KB/s]\rText8 Dataset:   4%|▍         | 1.29M/31.3M [00:03<01:33, 322KB/s]\rText8 Dataset:   4%|▍         | 1.32M/31.3M [00:03<01:36, 310KB/s]\rText8 Dataset:   4%|▍         | 1.35M/31.3M [00:04<01:38, 304KB/s]\rText8 Dataset:   4%|▍         | 1.38M/31.3M [00:04<01:39, 301KB/s]\rText8 Dataset:   5%|▍         | 1.43M/31.3M [00:04<01:37, 307KB/s]\rText8 Dataset:   5%|▍         | 1.47M/31.3M [00:04<01:33, 318KB/s]\rText8 Dataset:   5%|▍         | 1.51M/31.3M [00:04<01:31, 326KB/s]\rText8 Dataset:   5%|▍         | 1.55M/31.3M [00:04<01:29, 332KB/s]\rText8 Dataset:   5%|▌         | 1.59M/31.3M [00:04<01:29, 332KB/s]\rText8 Dataset:   5%|▌         | 1.62M/31.3M [00:04<01:36, 308KB/s]\rText8 Dataset:   5%|▌         | 1.65M/31.3M [00:05<03:03, 161KB/s]\rText8 Dataset:   5%|▌         | 1.70M/31.3M [00:05<02:37, 188KB/s]\rText8 Dataset:   6%|▌         | 1.73M/31.3M [00:05<02:24, 204KB/s]\rText8 Dataset:   6%|▌         | 1.76M/31.3M [00:05<02:14, 221KB/s]\rText8 Dataset:   6%|▌         | 1.79M/31.3M [00:05<02:06, 234KB/s]\rText8 Dataset:   6%|▌         | 1.83M/31.3M [00:05<02:02, 241KB/s]\rText8 Dataset:   6%|▌         | 1.86M/31.3M [00:05<01:59, 248KB/s]\rText8 Dataset:   6%|▌         | 1.90M/31.3M [00:06<01:50, 266KB/s]\rText8 Dataset:   6%|▌         | 1.94M/31.3M [00:06<01:44, 281KB/s]\rText8 Dataset:   6%|▋         | 1.98M/31.3M [00:06<01:38, 297KB/s]\rText8 Dataset:   6%|▋         | 2.02M/31.3M [00:06<01:35, 308KB/s]\rText8 Dataset:   7%|▋         | 2.06M/31.3M [00:06<01:34, 311KB/s]\rText8 Dataset:   7%|▋         | 2.11M/31.3M [00:06<01:32, 317KB/s]\rText8 Dataset:   7%|▋         | 2.15M/31.3M [00:06<01:31, 320KB/s]\rText8 Dataset:   7%|▋         | 2.18M/31.3M [00:06<01:35, 305KB/s]\rText8 Dataset:   7%|▋         | 2.22M/31.3M [00:07<01:32, 316KB/s]\rText8 Dataset:   7%|▋         | 2.26M/31.3M [00:07<01:30, 320KB/s]\rText8 Dataset:   7%|▋         | 2.30M/31.3M [00:07<01:30, 320KB/s]\rText8 Dataset:   7%|▋         | 2.34M/31.3M [00:07<01:31, 317KB/s]\rText8 Dataset:   8%|▊         | 2.38M/31.3M [00:07<01:28, 325KB/s]\rText8 Dataset:   8%|▊         | 2.42M/31.3M [00:07<01:28, 328KB/s]\rText8 Dataset:   8%|▊         | 2.47M/31.3M [00:07<01:27, 329KB/s]\rText8 Dataset:   8%|▊         | 2.51M/31.3M [00:07<01:27, 328KB/s]\rText8 Dataset:   8%|▊         | 2.55M/31.3M [00:08<01:28, 325KB/s]\rText8 Dataset:   8%|▊         | 2.59M/31.3M [00:08<01:26, 332KB/s]\rText8 Dataset:   8%|▊         | 2.63M/31.3M [00:08<01:24, 340KB/s]\rText8 Dataset:   9%|▊         | 2.67M/31.3M [00:08<01:23, 343KB/s]\rText8 Dataset:   9%|▊         | 2.71M/31.3M [00:08<01:23, 344KB/s]\rText8 Dataset:   9%|▉         | 2.75M/31.3M [00:08<01:23, 342KB/s]\rText8 Dataset:   9%|▉         | 2.79M/31.3M [00:08<01:24, 339KB/s]\rText8 Dataset:   9%|▉         | 2.83M/31.3M [00:09<01:55, 247KB/s]\rText8 Dataset:   9%|▉         | 2.89M/31.3M [00:09<01:34, 303KB/s]\rText8 Dataset:   9%|▉         | 2.92M/31.3M [00:09<01:39, 287KB/s]\rText8 Dataset:   9%|▉         | 2.96M/31.3M [00:09<01:52, 253KB/s]\rText8 Dataset:  10%|▉         | 3.00M/31.3M [00:09<01:45, 268KB/s]\rText8 Dataset:  10%|▉         | 3.03M/31.3M [00:09<01:45, 269KB/s]\rText8 Dataset:  10%|▉         | 3.07M/31.3M [00:09<01:41, 280KB/s]\rText8 Dataset:  10%|▉         | 3.09M/31.3M [00:09<02:30, 188KB/s]\rText8 Dataset:  10%|█         | 3.14M/31.3M [00:10<02:04, 226KB/s]\rText8 Dataset:  10%|█         | 3.16M/31.3M [00:10<02:05, 225KB/s]\rText8 Dataset:  10%|█         | 3.19M/31.3M [00:10<02:08, 219KB/s]\rText8 Dataset:  10%|█         | 3.22M/31.3M [00:10<02:04, 225KB/s]\rText8 Dataset:  10%|█         | 3.24M/31.3M [00:10<02:51, 164KB/s]\rText8 Dataset:  11%|█         | 3.30M/31.3M [00:10<02:18, 203KB/s]\rText8 Dataset:  11%|█         | 3.33M/31.3M [00:10<02:23, 195KB/s]\rText8 Dataset:  11%|█         | 3.35M/31.3M [00:11<02:21, 198KB/s]\rText8 Dataset:  11%|█         | 3.38M/31.3M [00:11<02:19, 200KB/s]\rText8 Dataset:  11%|█         | 3.40M/31.3M [00:11<02:18, 202KB/s]\rText8 Dataset:  11%|█         | 3.43M/31.3M [00:11<02:15, 206KB/s]\rText8 Dataset:  11%|█         | 3.47M/31.3M [00:11<02:07, 219KB/s]\rText8 Dataset:  11%|█         | 3.49M/31.3M [00:11<02:06, 221KB/s]\rText8 Dataset:  11%|█         | 3.52M/31.3M [00:11<01:58, 235KB/s]\rText8 Dataset:  11%|█▏        | 3.55M/31.3M [00:11<01:57, 236KB/s]\rText8 Dataset:  11%|█▏        | 3.58M/31.3M [00:12<01:52, 246KB/s]\rText8 Dataset:  12%|█▏        | 3.61M/31.3M [00:12<01:52, 247KB/s]\rText8 Dataset:  12%|█▏        | 3.64M/31.3M [00:12<01:54, 243KB/s]\rText8 Dataset:  12%|█▏        | 3.66M/31.3M [00:12<01:53, 243KB/s]\rText8 Dataset:  12%|█▏        | 3.69M/31.3M [00:12<01:59, 231KB/s]\rText8 Dataset:  12%|█▏        | 3.72M/31.3M [00:12<01:55, 239KB/s]\rText8 Dataset:  12%|█▏        | 3.75M/31.3M [00:12<01:59, 230KB/s]\rText8 Dataset:  12%|█▏        | 3.78M/31.3M [00:12<01:53, 243KB/s]\rText8 Dataset:  12%|█▏        | 3.81M/31.3M [00:12<01:55, 239KB/s]\rText8 Dataset:  12%|█▏        | 3.84M/31.3M [00:13<01:51, 248KB/s]\rText8 Dataset:  12%|█▏        | 3.87M/31.3M [00:13<01:55, 237KB/s]\rText8 Dataset:  12%|█▏        | 3.90M/31.3M [00:13<01:51, 245KB/s]\rText8 Dataset:  13%|█▎        | 3.93M/31.3M [00:13<01:51, 247KB/s]\rText8 Dataset:  13%|█▎        | 3.95M/31.3M [00:13<02:08, 214KB/s]\rText8 Dataset:  13%|█▎        | 3.97M/31.3M [00:13<02:49, 161KB/s]\rText8 Dataset:  13%|█▎        | 4.03M/31.3M [00:13<02:16, 201KB/s]\rText8 Dataset:  13%|█▎        | 4.06M/31.3M [00:14<02:14, 203KB/s]\rText8 Dataset:  13%|█▎        | 4.07M/31.3M [00:14<02:26, 186KB/s]\rText8 Dataset:  13%|█▎        | 4.08M/31.3M [00:14<06:11, 73.5KB/s]\rText8 Dataset:  13%|█▎        | 4.10M/31.3M [00:14<05:20, 85.0KB/s]\rText8 Dataset:  13%|█▎        | 4.14M/31.3M [00:14<04:19, 105KB/s] \rText8 Dataset:  13%|█▎        | 4.15M/31.3M [00:14<03:53, 116KB/s]\rText8 Dataset:  13%|█▎        | 4.17M/31.3M [00:14<03:37, 125KB/s]\rText8 Dataset:  13%|█▎        | 4.18M/31.3M [00:15<06:50, 66.2KB/s]\rText8 Dataset:  13%|█▎        | 4.21M/31.3M [00:15<05:28, 82.6KB/s]\rText8 Dataset:  13%|█▎        | 4.23M/31.3M [00:15<05:20, 84.6KB/s]\rText8 Dataset:  14%|█▎        | 4.24M/31.3M [00:15<08:05, 55.8KB/s]\rText8 Dataset:  14%|█▎        | 4.26M/31.3M [00:15<06:22, 70.9KB/s]\rText8 Dataset:  14%|█▎        | 4.27M/31.3M [00:16<06:15, 72.2KB/s]\rText8 Dataset:  14%|█▎        | 4.28M/31.3M [00:16<05:29, 82.0KB/s]\rText8 Dataset:  14%|█▎        | 4.30M/31.3M [00:16<04:49, 93.3KB/s]\rText8 Dataset:  14%|█▍        | 4.32M/31.3M [00:16<04:26, 101KB/s] \rText8 Dataset:  14%|█▍        | 4.33M/31.3M [00:16<04:06, 110KB/s]\rText8 Dataset:  14%|█▍        | 4.35M/31.3M [00:16<04:04, 111KB/s]\rText8 Dataset:  14%|█▍        | 4.36M/31.3M [00:16<04:31, 99.2KB/s]\rText8 Dataset:  14%|█▍        | 4.37M/31.3M [00:16<04:14, 106KB/s] \rText8 Dataset:  14%|█▍        | 4.39M/31.3M [00:17<03:59, 113KB/s]\rText8 Dataset:  14%|█▍        | 4.41M/31.3M [00:17<03:54, 115KB/s]\rText8 Dataset:  14%|█▍        | 4.42M/31.3M [00:17<04:26, 101KB/s]\rText8 Dataset:  14%|█▍        | 4.43M/31.3M [00:17<04:09, 108KB/s]\rText8 Dataset:  14%|█▍        | 4.45M/31.3M [00:17<03:55, 114KB/s]\rText8 Dataset:  14%|█▍        | 4.46M/31.3M [00:17<03:45, 119KB/s]\rText8 Dataset:  14%|█▍        | 4.49M/31.3M [00:17<03:21, 133KB/s]\rText8 Dataset:  14%|█▍        | 4.51M/31.3M [00:17<03:21, 133KB/s]\rText8 Dataset:  14%|█▍        | 4.52M/31.3M [00:18<03:21, 133KB/s]\rText8 Dataset:  14%|█▍        | 4.54M/31.3M [00:18<03:21, 133KB/s]\rText8 Dataset:  15%|█▍        | 4.55M/31.3M [00:18<03:22, 132KB/s]\rText8 Dataset:  15%|█▍        | 4.58M/31.3M [00:18<03:04, 145KB/s]\rText8 Dataset:  15%|█▍        | 4.60M/31.3M [00:18<03:06, 143KB/s]\rText8 Dataset:  15%|█▍        | 4.62M/31.3M [00:18<02:54, 154KB/s]\rText8 Dataset:  15%|█▍        | 4.64M/31.3M [00:18<02:59, 149KB/s]\rText8 Dataset:  15%|█▍        | 4.66M/31.3M [00:18<02:47, 160KB/s]\rText8 Dataset:  15%|█▍        | 4.68M/31.3M [00:19<02:50, 156KB/s]\rText8 Dataset:  15%|█▍        | 4.69M/31.3M [00:19<02:54, 153KB/s]\rText8 Dataset:  15%|█▌        | 4.72M/31.3M [00:19<02:42, 164KB/s]\rText8 Dataset:  15%|█▌        | 4.74M/31.3M [00:19<02:33, 173KB/s]\rText8 Dataset:  15%|█▌        | 4.77M/31.3M [00:19<02:26, 181KB/s]\rText8 Dataset:  15%|█▌        | 4.78M/31.3M [00:19<02:37, 169KB/s]\rText8 Dataset:  15%|█▌        | 4.80M/31.3M [00:19<02:38, 167KB/s]\rText8 Dataset:  15%|█▌        | 4.83M/31.3M [00:19<02:32, 174KB/s]\rText8 Dataset:  15%|█▌        | 4.85M/31.3M [00:20<02:26, 181KB/s]\rText8 Dataset:  16%|█▌        | 4.87M/31.3M [00:20<02:19, 190KB/s]\rText8 Dataset:  16%|█▌        | 4.90M/31.3M [00:20<02:17, 193KB/s]\rText8 Dataset:  16%|█▌        | 4.93M/31.3M [00:20<02:05, 210KB/s]\rText8 Dataset:  16%|█▌        | 4.96M/31.3M [00:20<02:04, 211KB/s]\rText8 Dataset:  16%|█▌        | 4.99M/31.3M [00:20<01:58, 223KB/s]\rText8 Dataset:  16%|█▌        | 5.03M/31.3M [00:20<01:49, 240KB/s]\rText8 Dataset:  16%|█▌        | 5.06M/31.3M [00:20<01:44, 251KB/s]\rText8 Dataset:  16%|█▋        | 5.10M/31.3M [00:20<01:36, 272KB/s]\rText8 Dataset:  16%|█▋        | 5.14M/31.3M [00:21<01:30, 290KB/s]\rText8 Dataset:  17%|█▋        | 5.19M/31.3M [00:21<01:24, 311KB/s]\rText8 Dataset:  17%|█▋        | 5.21M/31.3M [00:21<02:10, 201KB/s]\rText8 Dataset:  17%|█▋        | 5.28M/31.3M [00:21<01:41, 256KB/s]\rText8 Dataset:  17%|█▋        | 5.32M/31.3M [00:21<01:37, 266KB/s]\rText8 Dataset:  17%|█▋        | 5.36M/31.3M [00:21<01:59, 217KB/s]\rText8 Dataset:  17%|█▋        | 5.42M/31.3M [00:21<01:36, 268KB/s]\rText8 Dataset:  17%|█▋        | 5.45M/31.3M [00:22<01:44, 249KB/s]\rText8 Dataset:  17%|█▋        | 5.48M/31.3M [00:22<01:43, 251KB/s]\rText8 Dataset:  18%|█▊        | 5.51M/31.3M [00:22<01:43, 251KB/s]\rText8 Dataset:  18%|█▊        | 5.55M/31.3M [00:22<01:41, 254KB/s]\rText8 Dataset:  18%|█▊        | 5.58M/31.3M [00:22<01:40, 255KB/s]\rText8 Dataset:  18%|█▊        | 5.60M/31.3M [00:22<01:45, 245KB/s]\rText8 Dataset:  18%|█▊        | 5.64M/31.3M [00:22<01:43, 248KB/s]\rText8 Dataset:  18%|█▊        | 5.65M/31.3M [00:23<02:29, 172KB/s]\rText8 Dataset:  18%|█▊        | 5.70M/31.3M [00:23<02:02, 210KB/s]\rText8 Dataset:  18%|█▊        | 5.73M/31.3M [00:23<02:04, 206KB/s]\rText8 Dataset:  18%|█▊        | 5.75M/31.3M [00:23<02:04, 205KB/s]\rText8 Dataset:  18%|█▊        | 5.78M/31.3M [00:23<02:06, 203KB/s]\rText8 Dataset:  19%|█▊        | 5.81M/31.3M [00:23<01:59, 214KB/s]\rText8 Dataset:  19%|█▊        | 5.83M/31.3M [00:23<01:59, 213KB/s]\rText8 Dataset:  19%|█▊        | 5.87M/31.3M [00:23<01:52, 226KB/s]\rText8 Dataset:  19%|█▉        | 5.90M/31.3M [00:23<01:48, 234KB/s]\rText8 Dataset:  19%|█▉        | 5.93M/31.3M [00:24<01:45, 241KB/s]\rText8 Dataset:  19%|█▉        | 5.96M/31.3M [00:24<01:42, 248KB/s]\rText8 Dataset:  19%|█▉        | 6.00M/31.3M [00:24<01:40, 253KB/s]\rText8 Dataset:  19%|█▉        | 6.02M/31.3M [00:24<01:41, 249KB/s]\rText8 Dataset:  19%|█▉        | 6.05M/31.3M [00:24<01:39, 255KB/s]\rText8 Dataset:  19%|█▉        | 6.09M/31.3M [00:24<01:38, 256KB/s]\rText8 Dataset:  19%|█▉        | 6.11M/31.3M [00:24<01:41, 248KB/s]\rText8 Dataset:  20%|█▉        | 6.14M/31.3M [00:25<02:09, 194KB/s]\rText8 Dataset:  20%|█▉        | 6.18M/31.3M [00:25<01:52, 224KB/s]\rText8 Dataset:  20%|█▉        | 6.19M/31.3M [00:25<02:19, 180KB/s]\rText8 Dataset:  20%|█▉        | 6.22M/31.3M [00:25<02:12, 190KB/s]\rText8 Dataset:  20%|█▉        | 6.24M/31.3M [00:25<02:07, 197KB/s]\rText8 Dataset:  20%|██        | 6.28M/31.3M [00:25<02:00, 208KB/s]\rText8 Dataset:  20%|██        | 6.30M/31.3M [00:25<01:56, 215KB/s]\rText8 Dataset:  20%|██        | 6.33M/31.3M [00:25<01:55, 216KB/s]\rText8 Dataset:  20%|██        | 6.37M/31.3M [00:26<01:56, 214KB/s]\rText8 Dataset:  20%|██        | 6.39M/31.3M [00:26<02:09, 193KB/s]\rText8 Dataset:  21%|██        | 6.43M/31.3M [00:26<01:48, 229KB/s]\rText8 Dataset:  21%|██        | 6.45M/31.3M [00:26<02:03, 202KB/s]\rText8 Dataset:  21%|██        | 6.46M/31.3M [00:26<02:12, 188KB/s]\rText8 Dataset:  21%|██        | 6.49M/31.3M [00:26<02:10, 191KB/s]\rText8 Dataset:  21%|██        | 6.51M/31.3M [00:26<02:07, 194KB/s]\rText8 Dataset:  21%|██        | 6.55M/31.3M [00:26<02:03, 200KB/s]\rText8 Dataset:  21%|██        | 6.57M/31.3M [00:27<02:04, 199KB/s]\rText8 Dataset:  21%|██        | 6.59M/31.3M [00:27<02:06, 196KB/s]\rText8 Dataset:  21%|██        | 6.62M/31.3M [00:27<02:04, 199KB/s]\rText8 Dataset:  21%|██        | 6.65M/31.3M [00:27<01:56, 211KB/s]\rText8 Dataset:  21%|██▏       | 6.68M/31.3M [00:27<01:59, 206KB/s]\rText8 Dataset:  21%|██▏       | 6.70M/31.3M [00:27<02:00, 204KB/s]\rText8 Dataset:  21%|██▏       | 6.73M/31.3M [00:27<02:01, 203KB/s]\rText8 Dataset:  22%|██▏       | 6.75M/31.3M [00:27<02:01, 203KB/s]\rText8 Dataset:  22%|██▏       | 6.78M/31.3M [00:28<01:54, 215KB/s]\rText8 Dataset:  22%|██▏       | 6.81M/31.3M [00:28<01:56, 211KB/s]\rText8 Dataset:  22%|██▏       | 6.83M/31.3M [00:28<01:57, 209KB/s]\rText8 Dataset:  22%|██▏       | 6.86M/31.3M [00:28<01:51, 219KB/s]\rText8 Dataset:  22%|██▏       | 6.89M/31.3M [00:28<01:53, 216KB/s]\rText8 Dataset:  22%|██▏       | 6.92M/31.3M [00:28<01:48, 225KB/s]\rText8 Dataset:  22%|██▏       | 6.94M/31.3M [00:28<02:44, 149KB/s]\rText8 Dataset:  22%|██▏       | 7.00M/31.3M [00:29<02:14, 182KB/s]\rText8 Dataset:  22%|██▏       | 7.01M/31.3M [00:29<02:22, 171KB/s]\rText8 Dataset:  22%|██▏       | 7.04M/31.3M [00:29<02:14, 181KB/s]\rText8 Dataset:  23%|██▎       | 7.06M/31.3M [00:29<02:08, 188KB/s]\rText8 Dataset:  23%|██▎       | 7.09M/31.3M [00:29<02:05, 193KB/s]\rText8 Dataset:  23%|██▎       | 7.11M/31.3M [00:29<02:03, 196KB/s]\rText8 Dataset:  23%|██▎       | 7.14M/31.3M [00:29<01:59, 202KB/s]\rText8 Dataset:  23%|██▎       | 7.17M/31.3M [00:29<01:54, 211KB/s]\rText8 Dataset:  23%|██▎       | 7.19M/31.3M [00:29<01:51, 217KB/s]\rText8 Dataset:  23%|██▎       | 7.23M/31.3M [00:30<01:44, 231KB/s]\rText8 Dataset:  23%|██▎       | 7.25M/31.3M [00:30<01:44, 230KB/s]\rText8 Dataset:  23%|██▎       | 7.28M/31.3M [00:30<01:39, 241KB/s]\rText8 Dataset:  23%|██▎       | 7.32M/31.3M [00:30<01:37, 246KB/s]\rText8 Dataset:  23%|██▎       | 7.34M/31.3M [00:30<01:40, 238KB/s]\rText8 Dataset:  24%|██▎       | 7.37M/31.3M [00:30<01:41, 236KB/s]\rText8 Dataset:  24%|██▎       | 7.40M/31.3M [00:30<01:40, 238KB/s]\rText8 Dataset:  24%|██▎       | 7.43M/31.3M [00:30<01:42, 233KB/s]\rText8 Dataset:  24%|██▍       | 7.45M/31.3M [00:31<02:17, 174KB/s]\rText8 Dataset:  24%|██▍       | 7.49M/31.3M [00:31<01:55, 207KB/s]\rText8 Dataset:  24%|██▍       | 7.50M/31.3M [00:31<02:12, 180KB/s]\rText8 Dataset:  24%|██▍       | 7.53M/31.3M [00:31<02:08, 186KB/s]\rText8 Dataset:  24%|██▍       | 7.55M/31.3M [00:31<02:05, 189KB/s]\rText8 Dataset:  24%|██▍       | 7.57M/31.3M [00:31<02:12, 180KB/s]\rText8 Dataset:  24%|██▍       | 7.60M/31.3M [00:31<02:03, 193KB/s]\rText8 Dataset:  24%|██▍       | 7.63M/31.3M [00:31<02:00, 198KB/s]\rText8 Dataset:  24%|██▍       | 7.65M/31.3M [00:32<01:58, 200KB/s]\rText8 Dataset:  25%|██▍       | 7.68M/31.3M [00:32<01:50, 213KB/s]\rText8 Dataset:  25%|██▍       | 7.71M/31.3M [00:32<01:50, 214KB/s]\rText8 Dataset:  25%|██▍       | 7.74M/31.3M [00:32<01:44, 226KB/s]\rText8 Dataset:  25%|██▍       | 7.77M/31.3M [00:32<01:42, 231KB/s]\rText8 Dataset:  25%|██▍       | 7.80M/31.3M [00:32<01:44, 225KB/s]\rText8 Dataset:  25%|██▍       | 7.83M/31.3M [00:32<02:11, 179KB/s]\rText8 Dataset:  25%|██▌       | 7.88M/31.3M [00:33<01:47, 219KB/s]\rText8 Dataset:  25%|██▌       | 7.91M/31.3M [00:33<01:49, 214KB/s]\rText8 Dataset:  25%|██▌       | 7.93M/31.3M [00:33<01:51, 210KB/s]\rText8 Dataset:  25%|██▌       | 7.95M/31.3M [00:33<02:04, 187KB/s]\rText8 Dataset:  25%|██▌       | 7.97M/31.3M [00:33<01:57, 199KB/s]\rText8 Dataset:  26%|██▌       | 8.00M/31.3M [00:33<01:53, 205KB/s]\rText8 Dataset:  26%|██▌       | 8.02M/31.3M [00:33<01:54, 203KB/s]\rText8 Dataset:  26%|██▌       | 8.05M/31.3M [00:33<01:48, 214KB/s]\rText8 Dataset:  26%|██▌       | 8.08M/31.3M [00:33<01:49, 213KB/s]\rText8 Dataset:  26%|██▌       | 8.11M/31.3M [00:34<01:43, 225KB/s]\rText8 Dataset:  26%|██▌       | 8.13M/31.3M [00:34<01:45, 220KB/s]\rText8 Dataset:  26%|██▌       | 8.17M/31.3M [00:34<01:41, 227KB/s]\rText8 Dataset:  26%|██▌       | 8.19M/31.3M [00:34<01:44, 221KB/s]\rText8 Dataset:  26%|██▌       | 8.22M/31.3M [00:34<01:44, 222KB/s]\rText8 Dataset:  26%|██▋       | 8.24M/31.3M [00:34<01:45, 219KB/s]\rText8 Dataset:  26%|██▋       | 8.26M/31.3M [00:34<02:00, 191KB/s]\rText8 Dataset:  26%|██▋       | 8.28M/31.3M [00:34<01:56, 198KB/s]\rText8 Dataset:  27%|██▋       | 8.31M/31.3M [00:35<01:54, 202KB/s]\rText8 Dataset:  27%|██▋       | 8.34M/31.3M [00:35<01:47, 214KB/s]\rText8 Dataset:  27%|██▋       | 8.37M/31.3M [00:35<01:43, 223KB/s]\rText8 Dataset:  27%|██▋       | 8.40M/31.3M [00:35<01:44, 219KB/s]\rText8 Dataset:  27%|██▋       | 8.43M/31.3M [00:35<01:39, 230KB/s]\rText8 Dataset:  27%|██▋       | 8.45M/31.3M [00:35<01:40, 227KB/s]\rText8 Dataset:  27%|██▋       | 8.49M/31.3M [00:35<01:38, 232KB/s]\rText8 Dataset:  27%|██▋       | 8.51M/31.3M [00:35<01:41, 224KB/s]\rText8 Dataset:  27%|██▋       | 8.52M/31.3M [00:36<03:11, 119KB/s]\rText8 Dataset:  27%|██▋       | 8.57M/31.3M [00:36<02:29, 152KB/s]\rText8 Dataset:  27%|██▋       | 8.59M/31.3M [00:36<02:29, 152KB/s]\rText8 Dataset:  27%|██▋       | 8.61M/31.3M [00:36<02:17, 166KB/s]\rText8 Dataset:  28%|██▊       | 8.63M/31.3M [00:36<02:18, 163KB/s]\rText8 Dataset:  28%|██▊       | 8.65M/31.3M [00:36<02:10, 173KB/s]\rText8 Dataset:  28%|██▊       | 8.68M/31.3M [00:36<02:04, 182KB/s]\rText8 Dataset:  28%|██▊       | 8.71M/31.3M [00:36<01:55, 196KB/s]\rText8 Dataset:  28%|██▊       | 8.73M/31.3M [00:36<01:53, 199KB/s]\rText8 Dataset:  28%|██▊       | 8.75M/31.3M [00:37<02:49, 133KB/s]\rText8 Dataset:  28%|██▊       | 8.80M/31.3M [00:37<02:15, 167KB/s]\rText8 Dataset:  28%|██▊       | 8.81M/31.3M [00:37<02:21, 159KB/s]\rText8 Dataset:  28%|██▊       | 8.84M/31.3M [00:37<02:11, 171KB/s]\rText8 Dataset:  28%|██▊       | 8.86M/31.3M [00:37<02:06, 178KB/s]\rText8 Dataset:  28%|██▊       | 8.89M/31.3M [00:37<02:10, 172KB/s]\rText8 Dataset:  28%|██▊       | 8.91M/31.3M [00:37<02:06, 178KB/s]\rText8 Dataset:  29%|██▊       | 8.94M/31.3M [00:38<02:09, 173KB/s]\rText8 Dataset:  29%|██▊       | 8.96M/31.3M [00:38<02:31, 147KB/s]\rText8 Dataset:  29%|██▊       | 8.99M/31.3M [00:38<02:11, 170KB/s]\rText8 Dataset:  29%|██▊       | 9.01M/31.3M [00:38<02:18, 161KB/s]\rText8 Dataset:  29%|██▉       | 9.03M/31.3M [00:38<02:21, 158KB/s]\rText8 Dataset:  29%|██▉       | 9.04M/31.3M [00:38<02:26, 152KB/s]\rText8 Dataset:  29%|██▉       | 9.07M/31.3M [00:38<02:17, 162KB/s]\rText8 Dataset:  29%|██▉       | 9.08M/31.3M [00:39<02:20, 158KB/s]\rText8 Dataset:  29%|██▉       | 9.11M/31.3M [00:39<02:14, 166KB/s]\rText8 Dataset:  29%|██▉       | 9.13M/31.3M [00:39<02:07, 175KB/s]\rText8 Dataset:  29%|██▉       | 9.16M/31.3M [00:39<02:04, 177KB/s]\rText8 Dataset:  29%|██▉       | 9.18M/31.3M [00:39<02:11, 168KB/s]\rText8 Dataset:  29%|██▉       | 9.20M/31.3M [00:39<02:03, 180KB/s]\rText8 Dataset:  29%|██▉       | 9.22M/31.3M [00:39<02:01, 182KB/s]\rText8 Dataset:  30%|██▉       | 9.25M/31.3M [00:39<01:57, 188KB/s]\rText8 Dataset:  30%|██▉       | 9.27M/31.3M [00:40<01:52, 196KB/s]\rText8 Dataset:  30%|██▉       | 9.30M/31.3M [00:40<01:55, 192KB/s]\rText8 Dataset:  30%|██▉       | 9.31M/31.3M [00:40<02:11, 168KB/s]\rText8 Dataset:  30%|██▉       | 9.34M/31.3M [00:40<02:03, 178KB/s]\rText8 Dataset:  30%|██▉       | 9.36M/31.3M [00:40<01:57, 187KB/s]\rText8 Dataset:  30%|██▉       | 9.39M/31.3M [00:40<01:57, 187KB/s]\rText8 Dataset:  30%|███       | 9.41M/31.3M [00:40<01:54, 192KB/s]\rText8 Dataset:  30%|███       | 9.44M/31.3M [00:40<01:52, 195KB/s]\rText8 Dataset:  30%|███       | 9.45M/31.3M [00:41<02:05, 175KB/s]\rText8 Dataset:  30%|███       | 9.48M/31.3M [00:41<02:02, 179KB/s]\rText8 Dataset:  30%|███       | 9.50M/31.3M [00:41<01:56, 187KB/s]\rText8 Dataset:  30%|███       | 9.53M/31.3M [00:41<01:53, 192KB/s]\rText8 Dataset:  30%|███       | 9.55M/31.3M [00:41<01:50, 197KB/s]\rText8 Dataset:  31%|███       | 9.58M/31.3M [00:41<01:48, 201KB/s]\rText8 Dataset:  31%|███       | 9.60M/31.3M [00:41<01:51, 195KB/s]\rText8 Dataset:  31%|███       | 9.63M/31.3M [00:41<01:51, 196KB/s]\rText8 Dataset:  31%|███       | 9.66M/31.3M [00:42<01:48, 200KB/s]\rText8 Dataset:  31%|███       | 9.68M/31.3M [00:42<01:43, 208KB/s]\rText8 Dataset:  31%|███       | 9.71M/31.3M [00:42<01:39, 218KB/s]\rText8 Dataset:  31%|███       | 9.73M/31.3M [00:42<01:37, 221KB/s]\rText8 Dataset:  31%|███       | 9.76M/31.3M [00:42<01:37, 222KB/s]\rText8 Dataset:  31%|███▏      | 9.80M/31.3M [00:42<01:35, 227KB/s]\rText8 Dataset:  31%|███▏      | 9.83M/31.3M [00:42<01:27, 247KB/s]\rText8 Dataset:  31%|███▏      | 9.85M/31.3M [00:42<01:38, 219KB/s]\rText8 Dataset:  32%|███▏      | 9.89M/31.3M [00:42<01:32, 231KB/s]\rText8 Dataset:  32%|███▏      | 9.91M/31.3M [00:43<01:35, 226KB/s]\rText8 Dataset:  32%|███▏      | 9.95M/31.3M [00:43<01:31, 234KB/s]\rText8 Dataset:  32%|███▏      | 9.98M/31.3M [00:43<01:27, 244KB/s]\rText8 Dataset:  32%|███▏      | 10.0M/31.3M [00:43<01:25, 249KB/s]\rText8 Dataset:  32%|███▏      | 10.0M/31.3M [00:43<01:29, 237KB/s]\rText8 Dataset:  32%|███▏      | 10.1M/31.3M [00:43<01:27, 242KB/s]\rText8 Dataset:  32%|███▏      | 10.1M/31.3M [00:43<01:22, 257KB/s]\rText8 Dataset:  32%|███▏      | 10.1M/31.3M [00:44<01:35, 222KB/s]\rText8 Dataset:  33%|███▎      | 10.2M/31.3M [00:44<01:16, 276KB/s]\rText8 Dataset:  33%|███▎      | 10.3M/31.3M [00:44<01:10, 297KB/s]\rText8 Dataset:  33%|███▎      | 10.3M/31.3M [00:44<01:05, 321KB/s]\rText8 Dataset:  33%|███▎      | 10.4M/31.3M [00:44<01:04, 326KB/s]\rText8 Dataset:  33%|███▎      | 10.4M/31.3M [00:44<02:45, 126KB/s]\rText8 Dataset:  33%|███▎      | 10.4M/31.3M [00:44<02:05, 167KB/s]\rText8 Dataset:  33%|███▎      | 10.5M/31.3M [00:45<05:32, 62.9KB/s]\rText8 Dataset:  33%|███▎      | 10.5M/31.3M [00:45<04:36, 75.5KB/s]\rText8 Dataset:  34%|███▎      | 10.5M/31.3M [00:45<03:29, 99.3KB/s]\rText8 Dataset:  34%|███▎      | 10.6M/31.3M [00:45<03:10, 109KB/s] \rText8 Dataset:  34%|███▎      | 10.6M/31.3M [00:46<02:58, 117KB/s]\rText8 Dataset:  34%|███▍      | 10.6M/31.3M [00:46<02:36, 133KB/s]\rText8 Dataset:  34%|███▍      | 10.6M/31.3M [00:46<02:33, 135KB/s]\rText8 Dataset:  34%|███▍      | 10.6M/31.3M [00:46<02:24, 143KB/s]\rText8 Dataset:  34%|███▍      | 10.7M/31.3M [00:46<02:20, 147KB/s]\rText8 Dataset:  34%|███▍      | 10.7M/31.3M [00:46<02:15, 153KB/s]\rText8 Dataset:  34%|███▍      | 10.7M/31.3M [00:46<02:05, 164KB/s]\rText8 Dataset:  34%|███▍      | 10.7M/31.3M [00:46<02:09, 159KB/s]\rText8 Dataset:  34%|███▍      | 10.7M/31.3M [00:47<02:01, 169KB/s]\rText8 Dataset:  34%|███▍      | 10.8M/31.3M [00:47<02:07, 162KB/s]\rText8 Dataset:  34%|███▍      | 10.8M/31.3M [00:47<02:07, 161KB/s]\rText8 Dataset:  34%|███▍      | 10.8M/31.3M [00:47<02:01, 169KB/s]\rText8 Dataset:  35%|███▍      | 10.8M/31.3M [00:47<02:11, 156KB/s]\rText8 Dataset:  35%|███▍      | 10.8M/31.3M [00:47<02:02, 168KB/s]\rText8 Dataset:  35%|███▍      | 10.9M/31.3M [00:47<01:56, 176KB/s]\rText8 Dataset:  35%|███▍      | 10.9M/31.3M [00:47<01:53, 181KB/s]\rText8 Dataset:  35%|███▍      | 10.9M/31.3M [00:48<01:50, 185KB/s]\rText8 Dataset:  35%|███▍      | 10.9M/31.3M [00:48<01:48, 188KB/s]\rText8 Dataset:  35%|███▍      | 11.0M/31.3M [00:48<01:58, 171KB/s]\rText8 Dataset:  35%|███▌      | 11.0M/31.3M [00:48<01:49, 186KB/s]\rText8 Dataset:  35%|███▌      | 11.0M/31.3M [00:48<01:47, 190KB/s]\rText8 Dataset:  35%|███▌      | 11.0M/31.3M [00:48<01:43, 196KB/s]\rText8 Dataset:  35%|███▌      | 11.1M/31.3M [00:48<01:42, 199KB/s]\rText8 Dataset:  35%|███▌      | 11.1M/31.3M [00:48<01:40, 201KB/s]\rText8 Dataset:  35%|███▌      | 11.1M/31.3M [00:49<01:35, 213KB/s]\rText8 Dataset:  36%|███▌      | 11.1M/31.3M [00:49<01:35, 211KB/s]\rText8 Dataset:  36%|███▌      | 11.2M/31.3M [00:49<01:33, 215KB/s]\rText8 Dataset:  36%|███▌      | 11.2M/31.3M [00:49<01:35, 212KB/s]\rText8 Dataset:  36%|███▌      | 11.2M/31.3M [00:49<01:31, 220KB/s]\rText8 Dataset:  36%|███▌      | 11.2M/31.3M [00:49<01:29, 225KB/s]\rText8 Dataset:  36%|███▌      | 11.3M/31.3M [00:49<01:54, 175KB/s]\rText8 Dataset:  36%|███▌      | 11.3M/31.3M [00:49<01:32, 216KB/s]\rText8 Dataset:  36%|███▌      | 11.3M/31.3M [00:50<01:45, 190KB/s]\rText8 Dataset:  36%|███▌      | 11.4M/31.3M [00:50<01:44, 192KB/s]\rText8 Dataset:  36%|███▋      | 11.4M/31.3M [00:50<01:53, 176KB/s]\rText8 Dataset:  36%|███▋      | 11.4M/31.3M [00:50<01:45, 188KB/s]\rText8 Dataset:  36%|███▋      | 11.4M/31.3M [00:50<01:44, 191KB/s]\rText8 Dataset:  37%|███▋      | 11.5M/31.3M [00:50<01:42, 193KB/s]\rText8 Dataset:  37%|███▋      | 11.5M/31.3M [00:50<01:35, 208KB/s]\rText8 Dataset:  37%|███▋      | 11.5M/31.3M [00:50<01:37, 204KB/s]\rText8 Dataset:  37%|███▋      | 11.5M/31.3M [00:51<01:30, 219KB/s]\rText8 Dataset:  37%|███▋      | 11.6M/31.3M [00:51<01:32, 215KB/s]\rText8 Dataset:  37%|███▋      | 11.6M/31.3M [00:51<01:28, 223KB/s]\rText8 Dataset:  37%|███▋      | 11.6M/31.3M [00:51<01:30, 219KB/s]\rText8 Dataset:  37%|███▋      | 11.7M/31.3M [00:51<01:25, 230KB/s]\rText8 Dataset:  37%|███▋      | 11.7M/31.3M [00:51<01:26, 226KB/s]\rText8 Dataset:  37%|███▋      | 11.7M/31.3M [00:51<01:23, 234KB/s]\rText8 Dataset:  37%|███▋      | 11.7M/31.3M [00:51<01:25, 230KB/s]\rText8 Dataset:  38%|███▊      | 11.8M/31.3M [00:52<01:23, 235KB/s]\rText8 Dataset:  38%|███▊      | 11.8M/31.3M [00:52<01:21, 239KB/s]\rText8 Dataset:  38%|███▊      | 11.8M/31.3M [00:52<01:25, 228KB/s]\rText8 Dataset:  38%|███▊      | 11.9M/31.3M [00:52<01:22, 236KB/s]\rText8 Dataset:  38%|███▊      | 11.9M/31.3M [00:52<01:25, 228KB/s]\rText8 Dataset:  38%|███▊      | 11.9M/31.3M [00:52<01:23, 234KB/s]\rText8 Dataset:  38%|███▊      | 11.9M/31.3M [00:52<01:25, 227KB/s]\rText8 Dataset:  38%|███▊      | 12.0M/31.3M [00:52<01:23, 233KB/s]\rText8 Dataset:  38%|███▊      | 12.0M/31.3M [00:53<01:25, 226KB/s]\rText8 Dataset:  38%|███▊      | 12.0M/31.3M [00:53<01:23, 231KB/s]\rText8 Dataset:  38%|███▊      | 12.1M/31.3M [00:53<01:25, 224KB/s]\rText8 Dataset:  39%|███▊      | 12.1M/31.3M [00:53<01:27, 220KB/s]\rText8 Dataset:  39%|███▊      | 12.1M/31.3M [00:53<01:22, 233KB/s]\rText8 Dataset:  39%|███▉      | 12.2M/31.3M [00:53<01:21, 236KB/s]\rText8 Dataset:  39%|███▉      | 12.2M/31.3M [00:53<01:19, 242KB/s]\rText8 Dataset:  39%|███▉      | 12.2M/31.3M [00:54<01:42, 187KB/s]\rText8 Dataset:  39%|███▉      | 12.3M/31.3M [00:54<01:24, 227KB/s]\rText8 Dataset:  39%|███▉      | 12.3M/31.3M [00:54<01:26, 221KB/s]\rText8 Dataset:  39%|███▉      | 12.3M/31.3M [00:54<01:26, 220KB/s]\rText8 Dataset:  39%|███▉      | 12.3M/31.3M [00:54<01:26, 219KB/s]\rText8 Dataset:  39%|███▉      | 12.4M/31.3M [00:54<01:21, 232KB/s]\rText8 Dataset:  40%|███▉      | 12.4M/31.3M [00:54<01:25, 220KB/s]\rText8 Dataset:  40%|███▉      | 12.4M/31.3M [00:54<01:21, 232KB/s]\rText8 Dataset:  40%|███▉      | 12.5M/31.3M [00:55<01:23, 227KB/s]\rText8 Dataset:  40%|███▉      | 12.5M/31.3M [00:55<01:27, 217KB/s]\rText8 Dataset:  40%|███▉      | 12.5M/31.3M [00:55<01:22, 228KB/s]\rText8 Dataset:  40%|████      | 12.6M/31.3M [00:55<01:23, 225KB/s]\rText8 Dataset:  40%|████      | 12.6M/31.3M [00:55<01:17, 241KB/s]\rText8 Dataset:  40%|████      | 12.6M/31.3M [00:55<01:13, 253KB/s]\rText8 Dataset:  40%|████      | 12.7M/31.3M [00:55<01:11, 260KB/s]\rText8 Dataset:  40%|████      | 12.7M/31.3M [00:55<01:09, 267KB/s]\rText8 Dataset:  41%|████      | 12.7M/31.3M [00:56<01:09, 270KB/s]\rText8 Dataset:  41%|████      | 12.8M/31.3M [00:56<01:08, 271KB/s]\rText8 Dataset:  41%|████      | 12.8M/31.3M [00:56<01:10, 264KB/s]\rText8 Dataset:  41%|████      | 12.8M/31.3M [00:56<01:10, 264KB/s]\rText8 Dataset:  41%|████      | 12.9M/31.3M [00:56<01:10, 262KB/s]\rText8 Dataset:  41%|████      | 12.9M/31.3M [00:56<02:39, 116KB/s]\rText8 Dataset:  41%|████      | 12.9M/31.3M [00:56<02:03, 150KB/s]\rText8 Dataset:  41%|████▏     | 12.9M/31.3M [00:56<01:54, 161KB/s]\rText8 Dataset:  41%|████▏     | 13.0M/31.3M [00:57<01:47, 170KB/s]\rText8 Dataset:  41%|████▏     | 13.0M/31.3M [00:57<03:19, 92.2KB/s]\rText8 Dataset:  42%|████▏     | 13.0M/31.3M [00:57<02:35, 118KB/s] \rText8 Dataset:  42%|████▏     | 13.1M/31.3M [00:57<02:15, 135KB/s]\rText8 Dataset:  42%|████▏     | 13.1M/31.3M [00:57<02:01, 150KB/s]\rText8 Dataset:  42%|████▏     | 13.1M/31.3M [00:57<02:02, 149KB/s]\rText8 Dataset:  42%|████▏     | 13.1M/31.3M [00:57<01:53, 161KB/s]\rText8 Dataset:  42%|████▏     | 13.1M/31.3M [00:58<01:47, 169KB/s]\rText8 Dataset:  42%|████▏     | 13.2M/31.3M [00:58<01:43, 176KB/s]\rText8 Dataset:  42%|████▏     | 13.2M/31.3M [00:58<01:40, 180KB/s]\rText8 Dataset:  42%|████▏     | 13.2M/31.3M [00:58<01:36, 188KB/s]\rText8 Dataset:  42%|████▏     | 13.2M/31.3M [00:58<01:40, 180KB/s]\rText8 Dataset:  42%|████▏     | 13.3M/31.3M [00:58<01:36, 188KB/s]\rText8 Dataset:  42%|████▏     | 13.3M/31.3M [00:58<01:39, 181KB/s]\rText8 Dataset:  42%|████▏     | 13.3M/31.3M [00:58<01:35, 189KB/s]\rText8 Dataset:  43%|████▎     | 13.3M/31.3M [00:58<01:32, 194KB/s]\rText8 Dataset:  43%|████▎     | 13.4M/31.3M [00:59<01:31, 196KB/s]\rText8 Dataset:  43%|████▎     | 13.4M/31.3M [00:59<01:31, 196KB/s]\rText8 Dataset:  43%|████▎     | 13.4M/31.3M [00:59<01:25, 209KB/s]\rText8 Dataset:  43%|████▎     | 13.4M/31.3M [00:59<01:25, 209KB/s]\rText8 Dataset:  43%|████▎     | 13.5M/31.3M [00:59<01:24, 212KB/s]\rText8 Dataset:  43%|████▎     | 13.5M/31.3M [00:59<01:23, 213KB/s]\rText8 Dataset:  43%|████▎     | 13.5M/31.3M [00:59<01:18, 226KB/s]\rText8 Dataset:  43%|████▎     | 13.5M/31.3M [00:59<01:19, 225KB/s]\rText8 Dataset:  43%|████▎     | 13.6M/31.3M [01:00<01:16, 232KB/s]\rText8 Dataset:  43%|████▎     | 13.6M/31.3M [01:00<01:18, 225KB/s]\rText8 Dataset:  44%|████▎     | 13.6M/31.3M [01:00<01:17, 230KB/s]\rText8 Dataset:  44%|████▎     | 13.7M/31.3M [01:00<01:18, 224KB/s]\rText8 Dataset:  44%|████▎     | 13.7M/31.3M [01:00<01:14, 236KB/s]\rText8 Dataset:  44%|████▍     | 13.7M/31.3M [01:00<01:12, 244KB/s]\rText8 Dataset:  44%|████▍     | 13.8M/31.3M [01:00<01:13, 238KB/s]\rText8 Dataset:  44%|████▍     | 13.8M/31.3M [01:00<01:10, 248KB/s]\rText8 Dataset:  44%|████▍     | 13.8M/31.3M [01:01<01:09, 251KB/s]\rText8 Dataset:  44%|████▍     | 13.9M/31.3M [01:01<01:08, 254KB/s]\rText8 Dataset:  44%|████▍     | 13.9M/31.3M [01:01<01:08, 255KB/s]\rText8 Dataset:  44%|████▍     | 13.9M/31.3M [01:01<01:07, 259KB/s]\rText8 Dataset:  45%|████▍     | 14.0M/31.3M [01:01<01:05, 264KB/s]\rText8 Dataset:  45%|████▍     | 14.0M/31.3M [01:01<01:05, 265KB/s]\rText8 Dataset:  45%|████▍     | 14.0M/31.3M [01:01<01:04, 270KB/s]\rText8 Dataset:  45%|████▍     | 14.0M/31.3M [01:01<01:03, 272KB/s]\rText8 Dataset:  45%|████▍     | 14.1M/31.3M [01:02<01:00, 287KB/s]\rText8 Dataset:  45%|████▌     | 14.1M/31.3M [01:02<00:58, 295KB/s]\rText8 Dataset:  45%|████▌     | 14.2M/31.3M [01:02<00:58, 293KB/s]\rText8 Dataset:  45%|████▌     | 14.2M/31.3M [01:02<00:56, 305KB/s]\rText8 Dataset:  45%|████▌     | 14.2M/31.3M [01:02<00:59, 287KB/s]\rText8 Dataset:  46%|████▌     | 14.3M/31.3M [01:02<00:55, 307KB/s]\rText8 Dataset:  46%|████▌     | 14.3M/31.3M [01:02<00:50, 335KB/s]\rText8 Dataset:  46%|████▌     | 14.4M/31.3M [01:02<00:46, 365KB/s]\rText8 Dataset:  46%|████▌     | 14.4M/31.3M [01:03<00:43, 389KB/s]\rText8 Dataset:  46%|████▋     | 14.5M/31.3M [01:03<00:40, 420KB/s]\rText8 Dataset:  46%|████▋     | 14.6M/31.3M [01:03<00:37, 451KB/s]\rText8 Dataset:  47%|████▋     | 14.6M/31.3M [01:03<00:35, 474KB/s]\rText8 Dataset:  47%|████▋     | 14.7M/31.3M [01:03<00:32, 506KB/s]\rText8 Dataset:  47%|████▋     | 14.8M/31.3M [01:03<00:30, 541KB/s]\rText8 Dataset:  47%|████▋     | 14.8M/31.3M [01:03<00:30, 549KB/s]\rText8 Dataset:  47%|████▋     | 14.9M/31.3M [01:03<00:45, 358KB/s]\rText8 Dataset:  48%|████▊     | 15.0M/31.3M [01:04<00:36, 444KB/s]\rText8 Dataset:  48%|████▊     | 15.0M/31.3M [01:04<00:35, 458KB/s]\rText8 Dataset:  48%|████▊     | 15.1M/31.3M [01:04<00:33, 479KB/s]\rText8 Dataset:  48%|████▊     | 15.2M/31.3M [01:04<00:32, 501KB/s]\rText8 Dataset:  49%|████▊     | 15.2M/31.3M [01:04<00:31, 512KB/s]\rText8 Dataset:  49%|████▊     | 15.3M/31.3M [01:04<00:39, 402KB/s]\rText8 Dataset:  49%|████▊     | 15.3M/31.3M [01:04<01:18, 206KB/s]\rText8 Dataset:  49%|████▉     | 15.4M/31.3M [01:04<01:04, 247KB/s]\rText8 Dataset:  49%|████▉     | 15.4M/31.3M [01:05<00:50, 315KB/s]\rText8 Dataset:  49%|████▉     | 15.5M/31.3M [01:05<00:48, 329KB/s]\rText8 Dataset:  50%|████▉     | 15.5M/31.3M [01:05<00:45, 350KB/s]\rText8 Dataset:  50%|████▉     | 15.6M/31.3M [01:05<00:42, 372KB/s]\rText8 Dataset:  50%|████▉     | 15.6M/31.3M [01:05<00:39, 400KB/s]\rText8 Dataset:  50%|█████     | 15.7M/31.3M [01:05<00:37, 419KB/s]\rText8 Dataset:  50%|█████     | 15.7M/31.3M [01:05<00:36, 429KB/s]\rText8 Dataset:  50%|█████     | 15.8M/31.3M [01:05<00:35, 440KB/s]\rText8 Dataset:  50%|█████     | 15.8M/31.3M [01:06<00:56, 273KB/s]\rText8 Dataset:  51%|█████     | 15.9M/31.3M [01:06<00:44, 343KB/s]\rText8 Dataset:  51%|█████     | 16.0M/31.3M [01:06<00:43, 353KB/s]\rText8 Dataset:  51%|█████     | 16.0M/31.3M [01:06<00:42, 359KB/s]\rText8 Dataset:  51%|█████     | 16.0M/31.3M [01:06<00:42, 363KB/s]\rText8 Dataset:  51%|█████▏    | 16.1M/31.3M [01:06<00:41, 366KB/s]\rText8 Dataset:  51%|█████▏    | 16.1M/31.3M [01:06<00:41, 364KB/s]\rText8 Dataset:  52%|█████▏    | 16.2M/31.3M [01:06<00:40, 373KB/s]\rText8 Dataset:  52%|█████▏    | 16.2M/31.3M [01:06<00:40, 372KB/s]\rText8 Dataset:  52%|█████▏    | 16.2M/31.3M [01:07<01:11, 210KB/s]\rText8 Dataset:  52%|█████▏    | 16.3M/31.3M [01:07<01:00, 247KB/s]\rText8 Dataset:  52%|█████▏    | 16.3M/31.3M [01:07<00:50, 294KB/s]\rText8 Dataset:  52%|█████▏    | 16.4M/31.3M [01:07<00:50, 298KB/s]\rText8 Dataset:  52%|█████▏    | 16.4M/31.3M [01:07<00:49, 300KB/s]\rText8 Dataset:  52%|█████▏    | 16.4M/31.3M [01:07<00:48, 305KB/s]\rText8 Dataset:  53%|█████▎    | 16.5M/31.3M [01:07<00:46, 319KB/s]\rText8 Dataset:  53%|█████▎    | 16.5M/31.3M [01:07<00:44, 331KB/s]\rText8 Dataset:  53%|█████▎    | 16.6M/31.3M [01:08<00:44, 336KB/s]\rText8 Dataset:  53%|█████▎    | 16.6M/31.3M [01:08<00:43, 341KB/s]\rText8 Dataset:  53%|█████▎    | 16.6M/31.3M [01:08<00:43, 341KB/s]\rText8 Dataset:  53%|█████▎    | 16.7M/31.3M [01:08<00:42, 341KB/s]\rText8 Dataset:  53%|█████▎    | 16.7M/31.3M [01:08<00:42, 340KB/s]\rText8 Dataset:  53%|█████▎    | 16.8M/31.3M [01:08<00:40, 356KB/s]\rText8 Dataset:  54%|█████▎    | 16.8M/31.3M [01:08<00:40, 357KB/s]\rText8 Dataset:  54%|█████▍    | 16.9M/31.3M [01:08<00:54, 268KB/s]\rText8 Dataset:  54%|█████▍    | 16.9M/31.3M [01:09<00:43, 330KB/s]\rText8 Dataset:  54%|█████▍    | 17.0M/31.3M [01:09<00:43, 327KB/s]\rText8 Dataset:  54%|█████▍    | 17.0M/31.3M [01:09<00:49, 292KB/s]\rText8 Dataset:  54%|█████▍    | 17.0M/31.3M [01:09<00:47, 300KB/s]\rText8 Dataset:  54%|█████▍    | 17.1M/31.3M [01:09<00:46, 305KB/s]\rText8 Dataset:  55%|█████▍    | 17.1M/31.3M [01:09<00:45, 312KB/s]\rText8 Dataset:  55%|█████▍    | 17.1M/31.3M [01:09<00:45, 313KB/s]\rText8 Dataset:  55%|█████▍    | 17.2M/31.3M [01:09<00:44, 322KB/s]\rText8 Dataset:  55%|█████▍    | 17.2M/31.3M [01:09<00:42, 335KB/s]\rText8 Dataset:  55%|█████▌    | 17.3M/31.3M [01:10<00:41, 342KB/s]\rText8 Dataset:  55%|█████▌    | 17.3M/31.3M [01:10<00:39, 358KB/s]\rText8 Dataset:  55%|█████▌    | 17.3M/31.3M [01:10<00:39, 357KB/s]\rText8 Dataset:  55%|█████▌    | 17.4M/31.3M [01:10<01:48, 129KB/s]\rText8 Dataset:  56%|█████▌    | 17.4M/31.3M [01:10<01:21, 171KB/s]\rText8 Dataset:  56%|█████▌    | 17.5M/31.3M [01:10<01:12, 192KB/s]\rText8 Dataset:  56%|█████▌    | 17.5M/31.3M [01:10<01:05, 210KB/s]\rText8 Dataset:  56%|█████▌    | 17.5M/31.3M [01:10<01:01, 226KB/s]\rText8 Dataset:  56%|█████▌    | 17.6M/31.3M [01:11<00:55, 247KB/s]\rText8 Dataset:  56%|█████▌    | 17.6M/31.3M [01:11<00:50, 270KB/s]\rText8 Dataset:  56%|█████▋    | 17.6M/31.3M [01:11<00:48, 283KB/s]\rText8 Dataset:  56%|█████▋    | 17.7M/31.3M [01:11<00:46, 296KB/s]\rText8 Dataset:  57%|█████▋    | 17.7M/31.3M [01:11<00:45, 299KB/s]\rText8 Dataset:  57%|█████▋    | 17.8M/31.3M [01:11<00:44, 306KB/s]\rText8 Dataset:  57%|█████▋    | 17.8M/31.3M [01:11<00:43, 310KB/s]\rText8 Dataset:  57%|█████▋    | 17.8M/31.3M [01:11<01:05, 206KB/s]\rText8 Dataset:  57%|█████▋    | 17.9M/31.3M [01:12<00:52, 255KB/s]\rText8 Dataset:  57%|█████▋    | 17.9M/31.3M [01:12<00:53, 250KB/s]\rText8 Dataset:  57%|█████▋    | 17.9M/31.3M [01:12<00:51, 258KB/s]\rText8 Dataset:  57%|█████▋    | 18.0M/31.3M [01:12<00:50, 263KB/s]\rText8 Dataset:  57%|█████▋    | 18.0M/31.3M [01:12<00:50, 266KB/s]\rText8 Dataset:  58%|█████▊    | 18.0M/31.3M [01:12<00:49, 268KB/s]\rText8 Dataset:  58%|█████▊    | 18.1M/31.3M [01:12<00:47, 279KB/s]\rText8 Dataset:  58%|█████▊    | 18.1M/31.3M [01:12<00:45, 290KB/s]\rText8 Dataset:  58%|█████▊    | 18.1M/31.3M [01:13<00:45, 291KB/s]\rText8 Dataset:  58%|█████▊    | 18.2M/31.3M [01:13<00:44, 293KB/s]\rText8 Dataset:  58%|█████▊    | 18.2M/31.3M [01:13<00:44, 295KB/s]\rText8 Dataset:  58%|█████▊    | 18.3M/31.3M [01:13<00:42, 307KB/s]\rText8 Dataset:  58%|█████▊    | 18.3M/31.3M [01:13<00:40, 319KB/s]\rText8 Dataset:  58%|█████▊    | 18.3M/31.3M [01:13<00:39, 326KB/s]\rText8 Dataset:  59%|█████▊    | 18.4M/31.3M [01:13<00:39, 328KB/s]\rText8 Dataset:  59%|█████▉    | 18.4M/31.3M [01:13<00:39, 328KB/s]\rText8 Dataset:  59%|█████▉    | 18.5M/31.3M [01:13<00:39, 329KB/s]\rText8 Dataset:  59%|█████▉    | 18.5M/31.3M [01:14<01:00, 214KB/s]\rText8 Dataset:  59%|█████▉    | 18.5M/31.3M [01:14<00:48, 262KB/s]\rText8 Dataset:  59%|█████▉    | 18.6M/31.3M [01:14<00:51, 247KB/s]\rText8 Dataset:  59%|█████▉    | 18.6M/31.3M [01:14<00:51, 247KB/s]\rText8 Dataset:  59%|█████▉    | 18.6M/31.3M [01:14<00:49, 255KB/s]\rText8 Dataset:  60%|█████▉    | 18.7M/31.3M [01:14<00:48, 260KB/s]\rText8 Dataset:  60%|█████▉    | 18.7M/31.3M [01:14<00:48, 261KB/s]\rText8 Dataset:  60%|█████▉    | 18.7M/31.3M [01:15<00:49, 256KB/s]\rText8 Dataset:  60%|█████▉    | 18.8M/31.3M [01:15<00:46, 271KB/s]\rText8 Dataset:  60%|██████    | 18.8M/31.3M [01:15<00:46, 269KB/s]\rText8 Dataset:  60%|██████    | 18.8M/31.3M [01:15<00:46, 269KB/s]\rText8 Dataset:  60%|██████    | 18.9M/31.3M [01:15<01:06, 188KB/s]\rText8 Dataset:  60%|██████    | 18.9M/31.3M [01:15<00:53, 233KB/s]\rText8 Dataset:  61%|██████    | 19.0M/31.3M [01:15<00:52, 237KB/s]\rText8 Dataset:  61%|██████    | 19.0M/31.3M [01:16<00:53, 231KB/s]\rText8 Dataset:  61%|██████    | 19.0M/31.3M [01:16<00:51, 241KB/s]\rText8 Dataset:  61%|██████    | 19.1M/31.3M [01:16<00:49, 248KB/s]\rText8 Dataset:  61%|██████    | 19.1M/31.3M [01:16<00:48, 251KB/s]\rText8 Dataset:  61%|██████    | 19.1M/31.3M [01:16<01:06, 184KB/s]\rText8 Dataset:  61%|██████    | 19.2M/31.3M [01:16<00:52, 230KB/s]\rText8 Dataset:  61%|██████▏   | 19.2M/31.3M [01:16<00:54, 221KB/s]\rText8 Dataset:  61%|██████▏   | 19.2M/31.3M [01:17<00:53, 226KB/s]\rText8 Dataset:  61%|██████▏   | 19.3M/31.3M [01:17<00:54, 223KB/s]\rText8 Dataset:  62%|██████▏   | 19.3M/31.3M [01:17<00:52, 228KB/s]\rText8 Dataset:  62%|██████▏   | 19.3M/31.3M [01:17<01:05, 184KB/s]\rText8 Dataset:  62%|██████▏   | 19.4M/31.3M [01:17<01:02, 191KB/s]\rText8 Dataset:  62%|██████▏   | 19.4M/31.3M [01:17<00:53, 225KB/s]\rText8 Dataset:  62%|██████▏   | 19.4M/31.3M [01:17<00:55, 216KB/s]\rText8 Dataset:  62%|██████▏   | 19.5M/31.3M [01:18<00:56, 212KB/s]\rText8 Dataset:  62%|██████▏   | 19.5M/31.3M [01:18<00:56, 210KB/s]\rText8 Dataset:  62%|██████▏   | 19.5M/31.3M [01:18<00:57, 207KB/s]\rText8 Dataset:  62%|██████▏   | 19.5M/31.3M [01:18<00:54, 218KB/s]\rText8 Dataset:  62%|██████▏   | 19.6M/31.3M [01:18<00:55, 214KB/s]\rText8 Dataset:  63%|██████▎   | 19.6M/31.3M [01:18<00:52, 225KB/s]\rText8 Dataset:  63%|██████▎   | 19.6M/31.3M [01:18<00:52, 225KB/s]\rText8 Dataset:  63%|██████▎   | 19.7M/31.3M [01:18<00:50, 229KB/s]\rText8 Dataset:  63%|██████▎   | 19.7M/31.3M [01:19<00:48, 238KB/s]\rText8 Dataset:  63%|██████▎   | 19.7M/31.3M [01:19<00:47, 245KB/s]\rText8 Dataset:  63%|██████▎   | 19.8M/31.3M [01:19<00:45, 253KB/s]\rText8 Dataset:  63%|██████▎   | 19.8M/31.3M [01:19<00:44, 257KB/s]\rText8 Dataset:  63%|██████▎   | 19.8M/31.3M [01:19<00:44, 260KB/s]\rText8 Dataset:  63%|██████▎   | 19.8M/31.3M [01:19<00:43, 264KB/s]\rText8 Dataset:  63%|██████▎   | 19.9M/31.3M [01:19<00:48, 236KB/s]\rText8 Dataset:  64%|██████▎   | 19.9M/31.3M [01:19<00:47, 243KB/s]\rText8 Dataset:  64%|██████▎   | 19.9M/31.3M [01:20<00:46, 248KB/s]\rText8 Dataset:  64%|██████▎   | 20.0M/31.3M [01:20<00:46, 247KB/s]\rText8 Dataset:  64%|██████▎   | 20.0M/31.3M [01:20<01:34, 120KB/s]\rText8 Dataset:  64%|██████▍   | 20.0M/31.3M [01:20<01:13, 153KB/s]\rText8 Dataset:  64%|██████▍   | 20.0M/31.3M [01:20<01:13, 153KB/s]\rText8 Dataset:  64%|██████▍   | 20.1M/31.3M [01:20<01:07, 167KB/s]\rText8 Dataset:  64%|██████▍   | 20.1M/31.3M [01:20<01:02, 180KB/s]\rText8 Dataset:  64%|██████▍   | 20.1M/31.3M [01:20<00:56, 197KB/s]\rText8 Dataset:  64%|██████▍   | 20.2M/31.3M [01:21<00:55, 201KB/s]\rText8 Dataset:  64%|██████▍   | 20.2M/31.3M [01:21<00:51, 215KB/s]\rText8 Dataset:  64%|██████▍   | 20.2M/31.3M [01:21<00:52, 214KB/s]\rText8 Dataset:  65%|██████▍   | 20.2M/31.3M [01:21<00:49, 223KB/s]\rText8 Dataset:  65%|██████▍   | 20.3M/31.3M [01:21<01:30, 123KB/s]\rText8 Dataset:  65%|██████▍   | 20.3M/31.3M [01:21<01:11, 155KB/s]\rText8 Dataset:  65%|██████▍   | 20.3M/31.3M [01:21<01:05, 168KB/s]\rText8 Dataset:  65%|██████▍   | 20.3M/31.3M [01:21<01:01, 178KB/s]\rText8 Dataset:  65%|██████▍   | 20.4M/31.3M [01:21<00:58, 189KB/s]\rText8 Dataset:  65%|██████▌   | 20.4M/31.3M [01:22<00:53, 203KB/s]\rText8 Dataset:  65%|██████▌   | 20.4M/31.3M [01:22<00:53, 206KB/s]\rText8 Dataset:  65%|██████▌   | 20.5M/31.3M [01:22<00:50, 218KB/s]\rText8 Dataset:  65%|██████▌   | 20.5M/31.3M [01:22<00:50, 214KB/s]\rText8 Dataset:  65%|██████▌   | 20.5M/31.3M [01:22<01:31, 118KB/s]\rText8 Dataset:  65%|██████▌   | 20.5M/31.3M [01:22<01:16, 142KB/s]\rText8 Dataset:  66%|██████▌   | 20.6M/31.3M [01:22<01:03, 169KB/s]\rText8 Dataset:  66%|██████▌   | 20.6M/31.3M [01:22<01:05, 166KB/s]\rText8 Dataset:  66%|██████▌   | 20.6M/31.3M [01:23<01:01, 174KB/s]\rText8 Dataset:  66%|██████▌   | 20.6M/31.3M [01:23<00:59, 181KB/s]\rText8 Dataset:  66%|██████▌   | 20.6M/31.3M [01:23<00:57, 186KB/s]\rText8 Dataset:  66%|██████▌   | 20.7M/31.3M [01:23<01:01, 173KB/s]\rText8 Dataset:  66%|██████▌   | 20.7M/31.3M [01:23<01:17, 138KB/s]\rText8 Dataset:  66%|██████▌   | 20.7M/31.3M [01:23<01:02, 169KB/s]\rText8 Dataset:  66%|██████▌   | 20.7M/31.3M [01:23<01:07, 158KB/s]\rText8 Dataset:  66%|██████▌   | 20.8M/31.3M [01:24<01:10, 151KB/s]\rText8 Dataset:  66%|██████▋   | 20.8M/31.3M [01:24<01:12, 146KB/s]\rText8 Dataset:  66%|██████▋   | 20.8M/31.3M [01:24<01:07, 155KB/s]\rText8 Dataset:  66%|██████▋   | 20.8M/31.3M [01:24<01:03, 167KB/s]\rText8 Dataset:  66%|██████▋   | 20.8M/31.3M [01:24<01:05, 161KB/s]\rText8 Dataset:  67%|██████▋   | 20.9M/31.3M [01:24<01:01, 171KB/s]\rText8 Dataset:  67%|██████▋   | 20.9M/31.3M [01:24<00:59, 177KB/s]\rText8 Dataset:  67%|██████▋   | 20.9M/31.3M [01:24<00:57, 181KB/s]\rText8 Dataset:  67%|██████▋   | 20.9M/31.3M [01:25<01:04, 161KB/s]\rText8 Dataset:  67%|██████▋   | 20.9M/31.3M [01:25<01:06, 155KB/s]\rText8 Dataset:  67%|██████▋   | 21.0M/31.3M [01:25<02:07, 81.2KB/s]\rText8 Dataset:  67%|██████▋   | 21.0M/31.3M [01:25<01:38, 105KB/s] \rText8 Dataset:  67%|██████▋   | 21.0M/31.3M [01:25<01:31, 113KB/s]\rText8 Dataset:  67%|██████▋   | 21.0M/31.3M [01:25<01:26, 120KB/s]\rText8 Dataset:  67%|██████▋   | 21.0M/31.3M [01:25<01:17, 133KB/s]\rText8 Dataset:  67%|██████▋   | 21.1M/31.3M [01:25<01:15, 137KB/s]\rText8 Dataset:  67%|██████▋   | 21.1M/31.3M [01:26<01:25, 120KB/s]\rText8 Dataset:  67%|██████▋   | 21.1M/31.3M [01:26<01:08, 149KB/s]\rText8 Dataset:  67%|██████▋   | 21.1M/31.3M [01:26<01:10, 144KB/s]\rText8 Dataset:  68%|██████▊   | 21.2M/31.3M [01:26<01:10, 144KB/s]\rText8 Dataset:  68%|██████▊   | 21.2M/31.3M [01:26<01:09, 146KB/s]\rText8 Dataset:  68%|██████▊   | 21.2M/31.3M [01:26<01:11, 142KB/s]\rText8 Dataset:  68%|██████▊   | 21.2M/31.3M [01:26<01:12, 139KB/s]\rText8 Dataset:  68%|██████▊   | 21.2M/31.3M [01:27<01:14, 137KB/s]\rText8 Dataset:  68%|██████▊   | 21.2M/31.3M [01:27<01:14, 135KB/s]\rText8 Dataset:  68%|██████▊   | 21.3M/31.3M [01:27<01:09, 146KB/s]\rText8 Dataset:  68%|██████▊   | 21.3M/31.3M [01:27<01:07, 149KB/s]\rText8 Dataset:  68%|██████▊   | 21.3M/31.3M [01:27<01:08, 147KB/s]\rText8 Dataset:  68%|██████▊   | 21.3M/31.3M [01:27<01:04, 155KB/s]\rText8 Dataset:  68%|██████▊   | 21.3M/31.3M [01:27<01:05, 154KB/s]\rText8 Dataset:  68%|██████▊   | 21.4M/31.3M [01:27<01:02, 159KB/s]\rText8 Dataset:  68%|██████▊   | 21.4M/31.3M [01:28<01:04, 156KB/s]\rText8 Dataset:  68%|██████▊   | 21.4M/31.3M [01:28<01:37, 102KB/s]\rText8 Dataset:  68%|██████▊   | 21.4M/31.3M [01:28<01:22, 120KB/s]\rText8 Dataset:  68%|██████▊   | 21.4M/31.3M [01:28<01:19, 124KB/s]\rText8 Dataset:  68%|██████▊   | 21.5M/31.3M [01:28<01:15, 130KB/s]\rText8 Dataset:  69%|██████▊   | 21.5M/31.3M [01:28<01:14, 132KB/s]\rText8 Dataset:  69%|██████▊   | 21.5M/31.3M [01:28<01:07, 145KB/s]\rText8 Dataset:  69%|██████▊   | 21.5M/31.3M [01:28<01:09, 142KB/s]\rText8 Dataset:  69%|██████▊   | 21.5M/31.3M [01:29<01:04, 153KB/s]\rText8 Dataset:  69%|██████▉   | 21.6M/31.3M [01:29<01:07, 146KB/s]\rText8 Dataset:  69%|██████▉   | 21.6M/31.3M [01:29<01:02, 157KB/s]\rText8 Dataset:  69%|██████▉   | 21.6M/31.3M [01:29<01:03, 152KB/s]\rText8 Dataset:  69%|██████▉   | 21.6M/31.3M [01:29<00:59, 162KB/s]\rText8 Dataset:  69%|██████▉   | 21.6M/31.3M [01:29<01:02, 155KB/s]\rText8 Dataset:  69%|██████▉   | 21.7M/31.3M [01:29<01:00, 160KB/s]\rText8 Dataset:  69%|██████▉   | 21.7M/31.3M [01:29<01:05, 147KB/s]\rText8 Dataset:  69%|██████▉   | 21.7M/31.3M [01:30<01:26, 111KB/s]\rText8 Dataset:  69%|██████▉   | 21.7M/31.3M [01:30<01:09, 138KB/s]\rText8 Dataset:  69%|██████▉   | 21.7M/31.3M [01:30<01:16, 125KB/s]\rText8 Dataset:  69%|██████▉   | 21.8M/31.3M [01:30<01:12, 133KB/s]\rText8 Dataset:  69%|██████▉   | 21.8M/31.3M [01:30<01:12, 132KB/s]\rText8 Dataset:  70%|██████▉   | 21.8M/31.3M [01:30<01:10, 135KB/s]\rText8 Dataset:  70%|██████▉   | 21.8M/31.3M [01:30<01:04, 147KB/s]\rText8 Dataset:  70%|██████▉   | 21.8M/31.3M [01:31<01:02, 151KB/s]\rText8 Dataset:  70%|██████▉   | 21.9M/31.3M [01:31<01:00, 157KB/s]\rText8 Dataset:  70%|██████▉   | 21.9M/31.3M [01:31<01:01, 154KB/s]\rText8 Dataset:  70%|██████▉   | 21.9M/31.3M [01:31<00:58, 162KB/s]\rText8 Dataset:  70%|██████▉   | 21.9M/31.3M [01:31<01:00, 157KB/s]\rText8 Dataset:  70%|███████   | 21.9M/31.3M [01:31<00:56, 167KB/s]\rText8 Dataset:  70%|███████   | 22.0M/31.3M [01:31<01:01, 153KB/s]\rText8 Dataset:  70%|███████   | 22.0M/31.3M [01:31<00:58, 161KB/s]\rText8 Dataset:  70%|███████   | 22.0M/31.3M [01:32<00:59, 157KB/s]\rText8 Dataset:  70%|███████   | 22.0M/31.3M [01:32<00:59, 158KB/s]\rText8 Dataset:  70%|███████   | 22.1M/31.3M [01:32<00:56, 166KB/s]\rText8 Dataset:  70%|███████   | 22.1M/31.3M [01:32<00:57, 161KB/s]\rText8 Dataset:  70%|███████   | 22.1M/31.3M [01:32<00:54, 170KB/s]\rText8 Dataset:  71%|███████   | 22.1M/31.3M [01:32<00:59, 156KB/s]\rText8 Dataset:  71%|███████   | 22.1M/31.3M [01:32<01:21, 113KB/s]\rText8 Dataset:  71%|███████   | 22.2M/31.3M [01:33<01:05, 141KB/s]\rText8 Dataset:  71%|███████   | 22.2M/31.3M [01:33<00:59, 155KB/s]\rText8 Dataset:  71%|███████   | 22.2M/31.3M [01:33<00:54, 168KB/s]\rText8 Dataset:  71%|███████   | 22.2M/31.3M [01:33<00:51, 178KB/s]\rText8 Dataset:  71%|███████   | 22.3M/31.3M [01:33<00:47, 192KB/s]\rText8 Dataset:  71%|███████   | 22.3M/31.3M [01:33<00:47, 192KB/s]\rText8 Dataset:  71%|███████   | 22.3M/31.3M [01:33<00:54, 167KB/s]\rText8 Dataset:  71%|███████   | 22.3M/31.3M [01:33<00:50, 178KB/s]\rText8 Dataset:  71%|███████▏  | 22.4M/31.3M [01:34<00:46, 192KB/s]\rText8 Dataset:  71%|███████▏  | 22.4M/31.3M [01:34<00:47, 189KB/s]\rText8 Dataset:  72%|███████▏  | 22.4M/31.3M [01:34<00:44, 199KB/s]\rText8 Dataset:  72%|███████▏  | 22.4M/31.3M [01:34<00:45, 198KB/s]\rText8 Dataset:  72%|███████▏  | 22.5M/31.3M [01:34<00:44, 199KB/s]\rText8 Dataset:  72%|███████▏  | 22.5M/31.3M [01:34<00:44, 199KB/s]\rText8 Dataset:  72%|███████▏  | 22.5M/31.3M [01:34<00:47, 184KB/s]\rText8 Dataset:  72%|███████▏  | 22.5M/31.3M [01:34<01:48, 81.3KB/s]\rText8 Dataset:  72%|███████▏  | 22.5M/31.3M [01:35<01:33, 94.1KB/s]\rText8 Dataset:  72%|███████▏  | 22.6M/31.3M [01:35<01:19, 111KB/s] \rText8 Dataset:  72%|███████▏  | 22.6M/31.3M [01:35<01:08, 128KB/s]\rText8 Dataset:  72%|███████▏  | 22.6M/31.3M [01:35<01:04, 135KB/s]\rText8 Dataset:  72%|███████▏  | 22.7M/31.3M [01:35<00:58, 149KB/s]\rText8 Dataset:  72%|███████▏  | 22.7M/31.3M [01:35<00:54, 158KB/s]\rText8 Dataset:  72%|███████▏  | 22.7M/31.3M [01:36<00:52, 166KB/s]\rText8 Dataset:  73%|███████▎  | 22.7M/31.3M [01:36<00:46, 186KB/s]\rText8 Dataset:  73%|███████▎  | 22.8M/31.3M [01:36<00:44, 195KB/s]\rText8 Dataset:  73%|███████▎  | 22.8M/31.3M [01:36<00:40, 214KB/s]\rText8 Dataset:  73%|███████▎  | 22.8M/31.3M [01:36<00:40, 209KB/s]\rText8 Dataset:  73%|███████▎  | 22.8M/31.3M [01:36<00:39, 217KB/s]\rText8 Dataset:  73%|███████▎  | 22.9M/31.3M [01:36<00:40, 207KB/s]\rText8 Dataset:  73%|███████▎  | 22.9M/31.3M [01:36<00:37, 222KB/s]\rText8 Dataset:  73%|███████▎  | 22.9M/31.3M [01:37<00:38, 221KB/s]\rText8 Dataset:  73%|███████▎  | 23.0M/31.3M [01:37<00:36, 230KB/s]\rText8 Dataset:  73%|███████▎  | 23.0M/31.3M [01:37<00:37, 225KB/s]\rText8 Dataset:  73%|███████▎  | 23.0M/31.3M [01:37<00:34, 240KB/s]\rText8 Dataset:  74%|███████▎  | 23.1M/31.3M [01:37<00:34, 243KB/s]\rText8 Dataset:  74%|███████▎  | 23.1M/31.3M [01:37<00:35, 234KB/s]\rText8 Dataset:  74%|███████▎  | 23.1M/31.3M [01:37<00:34, 236KB/s]\rText8 Dataset:  74%|███████▍  | 23.1M/31.3M [01:37<00:34, 235KB/s]\rText8 Dataset:  74%|███████▍  | 23.2M/31.3M [01:38<00:34, 237KB/s]\rText8 Dataset:  74%|███████▍  | 23.2M/31.3M [01:38<00:36, 224KB/s]\rText8 Dataset:  74%|███████▍  | 23.2M/31.3M [01:38<00:35, 229KB/s]\rText8 Dataset:  74%|███████▍  | 23.2M/31.3M [01:38<00:35, 227KB/s]\rText8 Dataset:  74%|███████▍  | 23.3M/31.3M [01:38<00:34, 232KB/s]\rText8 Dataset:  74%|███████▍  | 23.3M/31.3M [01:38<00:35, 224KB/s]\rText8 Dataset:  74%|███████▍  | 23.3M/31.3M [01:38<00:34, 234KB/s]\rText8 Dataset:  75%|███████▍  | 23.4M/31.3M [01:38<00:32, 247KB/s]\rText8 Dataset:  75%|███████▍  | 23.4M/31.3M [01:38<00:30, 256KB/s]\rText8 Dataset:  75%|███████▍  | 23.4M/31.3M [01:39<00:30, 261KB/s]\rText8 Dataset:  75%|███████▍  | 23.5M/31.3M [01:39<00:29, 265KB/s]\rText8 Dataset:  75%|███████▍  | 23.5M/31.3M [01:39<00:31, 248KB/s]\rText8 Dataset:  75%|███████▌  | 23.5M/31.3M [01:39<00:30, 255KB/s]\rText8 Dataset:  75%|███████▌  | 23.6M/31.3M [01:39<00:30, 257KB/s]\rText8 Dataset:  75%|███████▌  | 23.6M/31.3M [01:39<00:30, 258KB/s]\rText8 Dataset:  75%|███████▌  | 23.6M/31.3M [01:39<00:29, 260KB/s]\rText8 Dataset:  76%|███████▌  | 23.7M/31.3M [01:39<00:28, 272KB/s]\rText8 Dataset:  76%|███████▌  | 23.7M/31.3M [01:40<00:28, 273KB/s]\rText8 Dataset:  76%|███████▌  | 23.7M/31.3M [01:40<00:27, 272KB/s]\rText8 Dataset:  76%|███████▌  | 23.8M/31.3M [01:40<00:29, 253KB/s]\rText8 Dataset:  76%|███████▌  | 23.8M/31.3M [01:40<00:29, 256KB/s]\rText8 Dataset:  76%|███████▌  | 23.9M/31.3M [01:40<00:27, 268KB/s]\rText8 Dataset:  76%|███████▌  | 23.9M/31.3M [01:40<00:52, 143KB/s]\rText8 Dataset:  76%|███████▋  | 24.0M/31.3M [01:41<00:47, 156KB/s]\rText8 Dataset:  76%|███████▋  | 24.0M/31.3M [01:41<00:52, 140KB/s]\rText8 Dataset:  77%|███████▋  | 24.0M/31.3M [01:41<00:56, 130KB/s]\rText8 Dataset:  77%|███████▋  | 24.0M/31.3M [01:41<00:46, 158KB/s]\rText8 Dataset:  77%|███████▋  | 24.0M/31.3M [01:41<00:44, 165KB/s]\rText8 Dataset:  77%|███████▋  | 24.1M/31.3M [01:41<00:44, 164KB/s]\rText8 Dataset:  77%|███████▋  | 24.1M/31.3M [01:42<00:43, 165KB/s]\rText8 Dataset:  77%|███████▋  | 24.1M/31.3M [01:42<00:41, 173KB/s]\rText8 Dataset:  77%|███████▋  | 24.1M/31.3M [01:42<00:40, 178KB/s]\rText8 Dataset:  77%|███████▋  | 24.2M/31.3M [01:42<00:38, 187KB/s]\rText8 Dataset:  77%|███████▋  | 24.2M/31.3M [01:42<00:35, 199KB/s]\rText8 Dataset:  77%|███████▋  | 24.2M/31.3M [01:42<00:45, 156KB/s]\rText8 Dataset:  77%|███████▋  | 24.3M/31.3M [01:43<00:36, 192KB/s]\rText8 Dataset:  78%|███████▊  | 24.3M/31.3M [01:43<00:35, 196KB/s]\rText8 Dataset:  78%|███████▊  | 24.3M/31.3M [01:43<00:38, 182KB/s]\rText8 Dataset:  78%|███████▊  | 24.3M/31.3M [01:43<00:35, 196KB/s]\rText8 Dataset:  78%|███████▊  | 24.4M/31.3M [01:43<00:36, 193KB/s]\rText8 Dataset:  78%|███████▊  | 24.4M/31.3M [01:43<00:33, 205KB/s]\rText8 Dataset:  78%|███████▊  | 24.4M/31.3M [01:43<00:35, 196KB/s]\rText8 Dataset:  78%|███████▊  | 24.4M/31.3M [01:43<00:32, 209KB/s]\rText8 Dataset:  78%|███████▊  | 24.5M/31.3M [01:43<00:32, 209KB/s]\rText8 Dataset:  78%|███████▊  | 24.5M/31.3M [01:44<00:31, 214KB/s]\rText8 Dataset:  78%|███████▊  | 24.5M/31.3M [01:44<00:29, 230KB/s]\rText8 Dataset:  78%|███████▊  | 24.6M/31.3M [01:44<00:29, 231KB/s]\rText8 Dataset:  78%|███████▊  | 24.6M/31.3M [01:44<00:27, 244KB/s]\rText8 Dataset:  79%|███████▊  | 24.6M/31.3M [01:44<00:29, 231KB/s]\rText8 Dataset:  79%|███████▊  | 24.6M/31.3M [01:44<00:27, 241KB/s]\rText8 Dataset:  79%|███████▊  | 24.7M/31.3M [01:44<00:28, 235KB/s]\rText8 Dataset:  79%|███████▉  | 24.7M/31.3M [01:44<00:27, 240KB/s]\rText8 Dataset:  79%|███████▉  | 24.7M/31.3M [01:45<00:28, 231KB/s]\rText8 Dataset:  79%|███████▉  | 24.8M/31.3M [01:45<00:27, 235KB/s]\rText8 Dataset:  79%|███████▉  | 24.8M/31.3M [01:45<00:27, 239KB/s]\rText8 Dataset:  79%|███████▉  | 24.8M/31.3M [01:45<00:28, 230KB/s]\rText8 Dataset:  79%|███████▉  | 24.9M/31.3M [01:45<00:26, 241KB/s]\rText8 Dataset:  79%|███████▉  | 24.9M/31.3M [01:45<00:29, 216KB/s]\rText8 Dataset:  79%|███████▉  | 24.9M/31.3M [01:45<00:30, 209KB/s]\rText8 Dataset:  80%|███████▉  | 24.9M/31.3M [01:45<00:30, 209KB/s]\rText8 Dataset:  80%|███████▉  | 25.0M/31.3M [01:46<00:28, 220KB/s]\rText8 Dataset:  80%|███████▉  | 25.0M/31.3M [01:46<00:30, 210KB/s]\rText8 Dataset:  80%|███████▉  | 25.0M/31.3M [01:46<00:28, 222KB/s]\rText8 Dataset:  80%|███████▉  | 25.1M/31.3M [01:46<00:28, 222KB/s]\rText8 Dataset:  80%|████████  | 25.1M/31.3M [01:46<00:25, 244KB/s]\rText8 Dataset:  80%|████████  | 25.1M/31.3M [01:46<00:25, 244KB/s]\rText8 Dataset:  80%|████████  | 25.1M/31.3M [01:46<00:24, 253KB/s]\rText8 Dataset:  80%|████████  | 25.2M/31.3M [01:46<00:24, 256KB/s]\rText8 Dataset:  80%|████████  | 25.2M/31.3M [01:47<00:23, 258KB/s]\rText8 Dataset:  81%|████████  | 25.2M/31.3M [01:47<00:23, 258KB/s]\rText8 Dataset:  81%|████████  | 25.3M/31.3M [01:47<00:23, 258KB/s]\rText8 Dataset:  81%|████████  | 25.3M/31.3M [01:47<00:22, 268KB/s]\rText8 Dataset:  81%|████████  | 25.3M/31.3M [01:47<00:22, 261KB/s]\rText8 Dataset:  81%|████████  | 25.4M/31.3M [01:47<00:47, 127KB/s]\rText8 Dataset:  81%|████████  | 25.4M/31.3M [01:47<00:36, 164KB/s]\rText8 Dataset:  81%|████████  | 25.4M/31.3M [01:47<00:33, 176KB/s]\rText8 Dataset:  81%|████████  | 25.5M/31.3M [01:48<00:31, 186KB/s]\rText8 Dataset:  81%|████████▏ | 25.5M/31.3M [01:48<00:29, 197KB/s]\rText8 Dataset:  81%|████████▏ | 25.5M/31.3M [01:48<00:28, 203KB/s]\rText8 Dataset:  81%|████████▏ | 25.5M/31.3M [01:48<00:26, 216KB/s]\rText8 Dataset:  82%|████████▏ | 25.6M/31.3M [01:48<00:24, 231KB/s]\rText8 Dataset:  82%|████████▏ | 25.6M/31.3M [01:48<00:23, 244KB/s]\rText8 Dataset:  82%|████████▏ | 25.6M/31.3M [01:48<00:21, 264KB/s]\rText8 Dataset:  82%|████████▏ | 25.7M/31.3M [01:48<00:21, 268KB/s]\rText8 Dataset:  82%|████████▏ | 25.7M/31.3M [01:49<00:20, 275KB/s]\rText8 Dataset:  82%|████████▏ | 25.7M/31.3M [01:49<00:20, 275KB/s]\rText8 Dataset:  82%|████████▏ | 25.8M/31.3M [01:49<00:20, 272KB/s]\rText8 Dataset:  82%|████████▏ | 25.8M/31.3M [01:49<00:20, 271KB/s]\rText8 Dataset:  82%|████████▏ | 25.9M/31.3M [01:49<00:19, 280KB/s]\rText8 Dataset:  83%|████████▎ | 25.9M/31.3M [01:49<00:20, 272KB/s]\rText8 Dataset:  83%|████████▎ | 25.9M/31.3M [01:49<00:19, 271KB/s]\rText8 Dataset:  83%|████████▎ | 26.0M/31.3M [01:49<00:20, 263KB/s]\rText8 Dataset:  83%|████████▎ | 26.0M/31.3M [01:50<00:19, 274KB/s]\rText8 Dataset:  83%|████████▎ | 26.0M/31.3M [01:50<00:19, 273KB/s]\rText8 Dataset:  83%|████████▎ | 26.1M/31.3M [01:50<00:19, 277KB/s]\rText8 Dataset:  83%|████████▎ | 26.1M/31.3M [01:50<00:18, 284KB/s]\rText8 Dataset:  83%|████████▎ | 26.1M/31.3M [01:50<00:17, 301KB/s]\rText8 Dataset:  83%|████████▎ | 26.2M/31.3M [01:50<00:17, 289KB/s]\rText8 Dataset:  84%|████████▎ | 26.2M/31.3M [01:50<00:17, 287KB/s]\rText8 Dataset:  84%|████████▎ | 26.2M/31.3M [01:50<00:17, 285KB/s]\rText8 Dataset:  84%|████████▍ | 26.3M/31.3M [01:50<00:17, 293KB/s]\rText8 Dataset:  84%|████████▍ | 26.3M/31.3M [01:51<00:17, 281KB/s]\rText8 Dataset:  84%|████████▍ | 26.3M/31.3M [01:51<00:18, 277KB/s]\rText8 Dataset:  84%|████████▍ | 26.4M/31.3M [01:51<00:17, 282KB/s]\rText8 Dataset:  84%|████████▍ | 26.4M/31.3M [01:51<00:17, 279KB/s]\rText8 Dataset:  84%|████████▍ | 26.4M/31.3M [01:51<00:17, 273KB/s]\rText8 Dataset:  84%|████████▍ | 26.5M/31.3M [01:51<00:17, 279KB/s]\rText8 Dataset:  85%|████████▍ | 26.5M/31.3M [01:51<00:16, 299KB/s]\rText8 Dataset:  85%|████████▍ | 26.6M/31.3M [01:51<00:16, 285KB/s]\rText8 Dataset:  85%|████████▍ | 26.6M/31.3M [01:52<00:15, 300KB/s]\rText8 Dataset:  85%|████████▍ | 26.6M/31.3M [01:52<00:15, 295KB/s]\rText8 Dataset:  85%|████████▌ | 26.7M/31.3M [01:52<00:15, 298KB/s]\rText8 Dataset:  85%|████████▌ | 26.7M/31.3M [01:52<00:15, 302KB/s]\rText8 Dataset:  85%|████████▌ | 26.7M/31.3M [01:52<00:14, 315KB/s]\rText8 Dataset:  85%|████████▌ | 26.8M/31.3M [01:52<00:14, 313KB/s]\rText8 Dataset:  86%|████████▌ | 26.8M/31.3M [01:52<00:14, 322KB/s]\rText8 Dataset:  86%|████████▌ | 26.9M/31.3M [01:52<00:13, 334KB/s]\rText8 Dataset:  86%|████████▌ | 26.9M/31.3M [01:53<00:13, 338KB/s]\rText8 Dataset:  86%|████████▌ | 27.0M/31.3M [01:53<00:12, 350KB/s]\rText8 Dataset:  86%|████████▌ | 27.0M/31.3M [01:53<00:17, 252KB/s]\rText8 Dataset:  86%|████████▋ | 27.1M/31.3M [01:53<00:13, 308KB/s]\rText8 Dataset:  86%|████████▋ | 27.1M/31.3M [01:53<00:14, 302KB/s]\rText8 Dataset:  87%|████████▋ | 27.1M/31.3M [01:53<00:14, 298KB/s]\rText8 Dataset:  87%|████████▋ | 27.2M/31.3M [01:53<00:13, 300KB/s]\rText8 Dataset:  87%|████████▋ | 27.2M/31.3M [01:53<00:13, 309KB/s]\rText8 Dataset:  87%|████████▋ | 27.2M/31.3M [01:54<00:13, 308KB/s]\rText8 Dataset:  87%|████████▋ | 27.3M/31.3M [01:54<00:12, 317KB/s]\rText8 Dataset:  87%|████████▋ | 27.3M/31.3M [01:54<00:20, 197KB/s]\rText8 Dataset:  87%|████████▋ | 27.4M/31.3M [01:54<00:15, 249KB/s]\rText8 Dataset:  87%|████████▋ | 27.4M/31.3M [01:54<00:15, 253KB/s]\rText8 Dataset:  88%|████████▊ | 27.4M/31.3M [01:54<00:14, 261KB/s]\rText8 Dataset:  88%|████████▊ | 27.5M/31.3M [01:54<00:14, 269KB/s]\rText8 Dataset:  88%|████████▊ | 27.5M/31.3M [01:54<00:13, 292KB/s]\rText8 Dataset:  88%|████████▊ | 27.5M/31.3M [01:55<00:13, 275KB/s]\rText8 Dataset:  88%|████████▊ | 27.6M/31.3M [01:55<00:14, 254KB/s]\rText8 Dataset:  88%|████████▊ | 27.6M/31.3M [01:55<00:21, 174KB/s]\rText8 Dataset:  88%|████████▊ | 27.7M/31.3M [01:55<00:18, 204KB/s]\rText8 Dataset:  88%|████████▊ | 27.7M/31.3M [01:55<00:16, 221KB/s]\rText8 Dataset:  88%|████████▊ | 27.7M/31.3M [01:55<00:15, 236KB/s]\rText8 Dataset:  89%|████████▊ | 27.8M/31.3M [01:55<00:14, 249KB/s]\rText8 Dataset:  89%|████████▊ | 27.8M/31.3M [01:56<00:14, 249KB/s]\rText8 Dataset:  89%|████████▊ | 27.8M/31.3M [01:56<00:14, 246KB/s]\rText8 Dataset:  89%|████████▉ | 27.8M/31.3M [01:56<00:13, 254KB/s]\rText8 Dataset:  89%|████████▉ | 27.9M/31.3M [01:56<00:12, 269KB/s]\rText8 Dataset:  89%|████████▉ | 27.9M/31.3M [01:56<00:12, 273KB/s]\rText8 Dataset:  89%|████████▉ | 28.0M/31.3M [01:56<00:12, 276KB/s]\rText8 Dataset:  89%|████████▉ | 28.0M/31.3M [01:56<00:13, 248KB/s]\rText8 Dataset:  89%|████████▉ | 28.0M/31.3M [01:56<00:12, 270KB/s]\rText8 Dataset:  90%|████████▉ | 28.1M/31.3M [01:57<00:11, 288KB/s]\rText8 Dataset:  90%|████████▉ | 28.1M/31.3M [01:57<00:11, 293KB/s]\rText8 Dataset:  90%|████████▉ | 28.1M/31.3M [01:57<00:10, 306KB/s]\rText8 Dataset:  90%|████████▉ | 28.2M/31.3M [01:57<00:10, 305KB/s]\rText8 Dataset:  90%|████████▉ | 28.2M/31.3M [01:57<00:09, 315KB/s]\rText8 Dataset:  90%|█████████ | 28.2M/31.3M [01:57<00:09, 316KB/s]\rText8 Dataset:  90%|█████████ | 28.3M/31.3M [01:57<00:09, 308KB/s]\rText8 Dataset:  90%|█████████ | 28.3M/31.3M [01:57<00:09, 309KB/s]\rText8 Dataset:  90%|█████████ | 28.3M/31.3M [01:58<00:22, 136KB/s]\rText8 Dataset:  91%|█████████ | 28.4M/31.3M [01:58<00:17, 173KB/s]\rText8 Dataset:  91%|█████████ | 28.4M/31.3M [01:58<00:15, 185KB/s]\rText8 Dataset:  91%|█████████ | 28.4M/31.3M [01:58<00:14, 197KB/s]\rText8 Dataset:  91%|█████████ | 28.5M/31.3M [01:58<00:13, 211KB/s]\rText8 Dataset:  91%|█████████ | 28.5M/31.3M [01:58<00:12, 226KB/s]\rText8 Dataset:  91%|█████████ | 28.5M/31.3M [01:58<00:11, 235KB/s]\rText8 Dataset:  91%|█████████ | 28.6M/31.3M [01:58<00:11, 244KB/s]\rText8 Dataset:  91%|█████████ | 28.6M/31.3M [01:58<00:10, 260KB/s]\rText8 Dataset:  91%|█████████▏| 28.6M/31.3M [01:59<00:10, 266KB/s]\rText8 Dataset:  91%|█████████▏| 28.7M/31.3M [01:59<00:10, 265KB/s]\rText8 Dataset:  92%|█████████▏| 28.7M/31.3M [01:59<00:09, 273KB/s]\rText8 Dataset:  92%|█████████▏| 28.7M/31.3M [01:59<00:09, 288KB/s]\rText8 Dataset:  92%|█████████▏| 28.8M/31.3M [01:59<00:08, 299KB/s]\rText8 Dataset:  92%|█████████▏| 28.8M/31.3M [01:59<00:08, 299KB/s]\rText8 Dataset:  92%|█████████▏| 28.9M/31.3M [01:59<00:08, 297KB/s]\rText8 Dataset:  92%|█████████▏| 28.9M/31.3M [01:59<00:08, 300KB/s]\rText8 Dataset:  92%|█████████▏| 28.9M/31.3M [02:00<00:10, 236KB/s]\rText8 Dataset:  92%|█████████▏| 29.0M/31.3M [02:00<00:08, 283KB/s]\rText8 Dataset:  93%|█████████▎| 29.0M/31.3M [02:00<00:08, 267KB/s]\rText8 Dataset:  93%|█████████▎| 29.0M/31.3M [02:00<00:08, 262KB/s]\rText8 Dataset:  93%|█████████▎| 29.1M/31.3M [02:00<00:08, 256KB/s]\rText8 Dataset:  93%|█████████▎| 29.1M/31.3M [02:00<00:08, 269KB/s]\rText8 Dataset:  93%|█████████▎| 29.1M/31.3M [02:00<00:08, 260KB/s]\rText8 Dataset:  93%|█████████▎| 29.2M/31.3M [02:00<00:08, 263KB/s]\rText8 Dataset:  93%|█████████▎| 29.2M/31.3M [02:01<00:07, 272KB/s]\rText8 Dataset:  93%|█████████▎| 29.2M/31.3M [02:01<00:07, 267KB/s]\rText8 Dataset:  93%|█████████▎| 29.3M/31.3M [02:01<00:07, 267KB/s]\rText8 Dataset:  93%|█████████▎| 29.3M/31.3M [02:01<00:16, 125KB/s]\rText8 Dataset:  94%|█████████▎| 29.3M/31.3M [02:01<00:12, 161KB/s]\rText8 Dataset:  94%|█████████▎| 29.4M/31.3M [02:01<00:11, 172KB/s]\rText8 Dataset:  94%|█████████▎| 29.4M/31.3M [02:01<00:10, 184KB/s]\rText8 Dataset:  94%|█████████▍| 29.4M/31.3M [02:01<00:10, 192KB/s]\rText8 Dataset:  94%|█████████▍| 29.4M/31.3M [02:02<00:09, 201KB/s]\rText8 Dataset:  94%|█████████▍| 29.4M/31.3M [02:02<00:10, 183KB/s]\rText8 Dataset:  94%|█████████▍| 29.5M/31.3M [02:02<00:09, 197KB/s]\rText8 Dataset:  94%|█████████▍| 29.5M/31.3M [02:02<00:09, 205KB/s]\rText8 Dataset:  94%|█████████▍| 29.5M/31.3M [02:02<00:08, 216KB/s]\rText8 Dataset:  94%|█████████▍| 29.6M/31.3M [02:02<00:08, 223KB/s]\rText8 Dataset:  94%|█████████▍| 29.6M/31.3M [02:02<00:07, 234KB/s]\rText8 Dataset:  94%|█████████▍| 29.6M/31.3M [02:02<00:07, 234KB/s]\rText8 Dataset:  95%|█████████▍| 29.6M/31.3M [02:03<00:07, 235KB/s]\rText8 Dataset:  95%|█████████▍| 29.7M/31.3M [02:03<00:07, 226KB/s]\rText8 Dataset:  95%|█████████▍| 29.7M/31.3M [02:03<00:06, 234KB/s]\rText8 Dataset:  95%|█████████▍| 29.7M/31.3M [02:03<00:06, 239KB/s]\rText8 Dataset:  95%|█████████▍| 29.8M/31.3M [02:03<00:06, 241KB/s]\rText8 Dataset:  95%|█████████▌| 29.8M/31.3M [02:03<00:06, 238KB/s]\rText8 Dataset:  95%|█████████▌| 29.8M/31.3M [02:03<00:06, 242KB/s]\rText8 Dataset:  95%|█████████▌| 29.9M/31.3M [02:03<00:06, 243KB/s]\rText8 Dataset:  95%|█████████▌| 29.9M/31.3M [02:04<00:07, 200KB/s]\rText8 Dataset:  96%|█████████▌| 29.9M/31.3M [02:04<00:06, 228KB/s]\rText8 Dataset:  96%|█████████▌| 30.0M/31.3M [02:04<00:06, 228KB/s]\rText8 Dataset:  96%|█████████▌| 30.0M/31.3M [02:04<00:06, 214KB/s]\rText8 Dataset:  96%|█████████▌| 30.0M/31.3M [02:04<00:06, 218KB/s]\rText8 Dataset:  96%|█████████▌| 30.0M/31.3M [02:04<00:06, 189KB/s]\rText8 Dataset:  96%|█████████▌| 30.1M/31.3M [02:05<00:09, 141KB/s]\rText8 Dataset:  96%|█████████▌| 30.1M/31.3M [02:05<00:07, 175KB/s]\rText8 Dataset:  96%|█████████▌| 30.1M/31.3M [02:05<00:07, 163KB/s]\rText8 Dataset:  96%|█████████▌| 30.1M/31.3M [02:05<00:06, 171KB/s]\rText8 Dataset:  96%|█████████▋| 30.2M/31.3M [02:05<00:06, 175KB/s]\rText8 Dataset:  96%|█████████▋| 30.2M/31.3M [02:05<00:06, 182KB/s]\rText8 Dataset:  96%|█████████▋| 30.2M/31.3M [02:05<00:06, 180KB/s]\rText8 Dataset:  96%|█████████▋| 30.2M/31.3M [02:05<00:05, 187KB/s]\rText8 Dataset:  97%|█████████▋| 30.3M/31.3M [02:06<00:05, 190KB/s]\rText8 Dataset:  97%|█████████▋| 30.3M/31.3M [02:06<00:05, 193KB/s]\rText8 Dataset:  97%|█████████▋| 30.3M/31.3M [02:06<00:05, 194KB/s]\rText8 Dataset:  97%|█████████▋| 30.3M/31.3M [02:06<00:05, 193KB/s]\rText8 Dataset:  97%|█████████▋| 30.4M/31.3M [02:06<00:05, 175KB/s]\rText8 Dataset:  97%|█████████▋| 30.4M/31.3M [02:06<00:05, 184KB/s]\rText8 Dataset:  97%|█████████▋| 30.4M/31.3M [02:06<00:04, 199KB/s]\rText8 Dataset:  97%|█████████▋| 30.4M/31.3M [02:06<00:04, 204KB/s]\rText8 Dataset:  97%|█████████▋| 30.5M/31.3M [02:06<00:04, 214KB/s]\rText8 Dataset:  97%|█████████▋| 30.5M/31.3M [02:07<00:04, 212KB/s]\rText8 Dataset:  97%|█████████▋| 30.5M/31.3M [02:07<00:03, 221KB/s]\rText8 Dataset:  97%|█████████▋| 30.5M/31.3M [02:07<00:03, 218KB/s]\rText8 Dataset:  97%|█████████▋| 30.5M/31.3M [02:07<00:04, 198KB/s]\rText8 Dataset:  98%|█████████▊| 30.6M/31.3M [02:07<00:03, 194KB/s]\rText8 Dataset:  98%|█████████▊| 30.6M/31.3M [02:07<00:03, 202KB/s]\rText8 Dataset:  98%|█████████▊| 30.6M/31.3M [02:07<00:03, 211KB/s]\rText8 Dataset:  98%|█████████▊| 30.7M/31.3M [02:07<00:03, 216KB/s]\rText8 Dataset:  98%|█████████▊| 30.7M/31.3M [02:08<00:02, 224KB/s]\rText8 Dataset:  98%|█████████▊| 30.7M/31.3M [02:08<00:02, 220KB/s]\rText8 Dataset:  98%|█████████▊| 30.7M/31.3M [02:08<00:02, 229KB/s]\rText8 Dataset:  98%|█████████▊| 30.8M/31.3M [02:08<00:02, 225KB/s]\rText8 Dataset:  98%|█████████▊| 30.8M/31.3M [02:08<00:02, 237KB/s]\rText8 Dataset:  98%|█████████▊| 30.8M/31.3M [02:08<00:02, 240KB/s]\rText8 Dataset:  98%|█████████▊| 30.9M/31.3M [02:08<00:01, 252KB/s]\rText8 Dataset:  99%|█████████▊| 30.9M/31.3M [02:08<00:01, 249KB/s]\rText8 Dataset:  99%|█████████▊| 30.9M/31.3M [02:09<00:01, 250KB/s]\rText8 Dataset:  99%|█████████▊| 30.9M/31.3M [02:09<00:02, 162KB/s]\rText8 Dataset:  99%|█████████▉| 31.0M/31.3M [02:09<00:01, 203KB/s]\rText8 Dataset:  99%|█████████▉| 31.0M/31.3M [02:09<00:01, 188KB/s]\rText8 Dataset:  99%|█████████▉| 31.0M/31.3M [02:09<00:01, 192KB/s]\rText8 Dataset:  99%|█████████▉| 31.1M/31.3M [02:09<00:01, 204KB/s]\rText8 Dataset:  99%|█████████▉| 31.1M/31.3M [02:09<00:01, 202KB/s]\rText8 Dataset:  99%|█████████▉| 31.1M/31.3M [02:09<00:01, 209KB/s]\rText8 Dataset:  99%|█████████▉| 31.2M/31.3M [02:10<00:00, 222KB/s]\rText8 Dataset:  99%|█████████▉| 31.2M/31.3M [02:10<00:00, 235KB/s]\rText8 Dataset: 100%|█████████▉| 31.2M/31.3M [02:10<00:00, 243KB/s]\rText8 Dataset: 100%|█████████▉| 31.3M/31.3M [02:10<00:00, 248KB/s]\rText8 Dataset: 100%|█████████▉| 31.3M/31.3M [02:10<00:00, 251KB/s]\rText8 Dataset: 100%|█████████▉| 31.3M/31.3M [02:10<00:00, 240KB/s]\rText8 Dataset: 100%|█████████▉| 31.3M/31.3M [02:10<00:00, 250KB/s]\r",
            "Text8 Dataset: 31.4MB [02:10, 240KB/s]                            \n"
          ]
        }
      ],
      "execution_count": 2,
      "metadata": {
        "collapsed": true
      }
    },
    {
      "cell_type": "markdown",
      "source": [
        "## Preprocessing\n",
        "\nHere I'm fixing up the text to make training easier. This comes from the `utils` module I wrote. The `preprocess` function coverts any punctuation into tokens, so a period is changed to ` <PERIOD> `. In this data set, there aren't any periods, but it will help in other NLP problems. I'm also removing all words that show up five or fewer times in the dataset. This will greatly reduce issues due to noise in the data and improve the quality of the vector representations. If you want to write your own functions for this stuff, go for it."
      ],
      "metadata": {}
    },
    {
      "cell_type": "code",
      "source": [
        "words = utils.preprocess(text)\n",
        "print(words[:30])"
      ],
      "outputs": [
        {
          "output_type": "stream",
          "name": "stdout",
          "text": [
            "['anarchism', 'originated', 'as', 'a', 'term', 'of', 'abuse', 'first', 'used', 'against', 'early', 'working', 'class', 'radicals', 'including', 'the', 'diggers', 'of', 'the', 'english', 'revolution', 'and', 'the', 'sans', 'culottes', 'of', 'the', 'french', 'revolution', 'whilst']\n"
          ]
        }
      ],
      "execution_count": 15,
      "metadata": {
        "collapsed": true
      }
    },
    {
      "cell_type": "code",
      "source": [
        "print(\"Total words: {}\".format(len(words)))\n",
        "print(\"Unique words: {}\".format(len(set(words))))"
      ],
      "outputs": [
        {
          "output_type": "stream",
          "name": "stdout",
          "text": [
            "Total words: 16680599\n",
            "Unique words: 63641\n"
          ]
        }
      ],
      "execution_count": 16,
      "metadata": {
        "collapsed": true
      }
    },
    {
      "cell_type": "markdown",
      "source": [
        "And here I'm creating dictionaries to convert words to integers and backwards, integers to words. The integers are assigned in descending frequency order, so the most frequent word (\"the\") is given the integer 0 and the next most frequent is 1 and so on. The words are converted to integers and stored in the list `int_words`."
      ],
      "metadata": {}
    },
    {
      "cell_type": "code",
      "source": [
        "vocab_to_int, int_to_vocab = utils.create_lookup_tables(words)\n",
        "int_words = [vocab_to_int[word] for word in words]"
      ],
      "outputs": [],
      "execution_count": 17,
      "metadata": {
        "collapsed": true
      }
    },
    {
      "cell_type": "markdown",
      "source": [
        "## Subsampling\n",
        "\n",
        "Words that show up often such as \"the\", \"of\", and \"for\" don't provide much context to the nearby words. If we discard some of them, we can remove some of the noise from our data and in return get faster training and better representations. This process is called subsampling by Mikolov. For each word $w_i$ in the training set, we'll discard it with probability given by \n",
        "\n",
        "$$ P(w_i) = 1 - \\sqrt{\\frac{t}{f(w_i)}} $$\n",
        "\n",
        "where $t$ is a threshold parameter and $f(w_i)$ is the frequency of word $w_i$ in the total dataset.\n",
        "\n",
        "I'm going to leave this up to you as an exercise. This is more of a programming challenge, than about deep learning specifically. But, being able to prepare your data for your network is an important skill to have. Check out my solution to see how I did it.\n",
        "\n> **Exercise:** Implement subsampling for the words in `int_words`. That is, go through `int_words` and discard each word given the probablility $P(w_i)$ shown above. Note that $P(w_i)$ is the probability that a word is discarded. Assign the subsampled data to `train_words`."
      ],
      "metadata": {}
    },
    {
      "cell_type": "code",
      "source": [
        "from collections import Counter\n",
        "import random\n",
        "\n",
        "drop_threshold = 1e-5\n",
        "word_counts = Counter(int_words)\n",
        "total_count = len(int_words)\n",
        "freqs = {word: count/total_count for word, count in word_counts.items()}\n",
        "p_drop = {word: 1 - np.sqrt(threshold/freqs[word]) for word in word_counts}\n",
        "train_words = [word for word in int_words if random.random() < (1 - p_drop[word])]"
      ],
      "outputs": [],
      "execution_count": 19,
      "metadata": {
        "collapsed": true
      }
    },
    {
      "cell_type": "markdown",
      "source": [
        "## Making batches"
      ],
      "metadata": {}
    },
    {
      "cell_type": "markdown",
      "source": [
        "Now that our data is in good shape, we need to get it into the proper form to pass it into our network. With the skip-gram architecture, for each word in the text, we want to grab all the words in a window around that word, with size $C$. \n",
        "\n",
        "From [Mikolov et al.](https://arxiv.org/pdf/1301.3781.pdf): \n",
        "\n",
        "\"Since the more distant words are usually less related to the current word than those close to it, we give less weight to the distant words by sampling less from those words in our training examples... If we choose $C = 5$, for each training word we will select randomly a number $R$ in range $< 1; C >$, and then use $R$ words from history and $R$ words from the future of the current word as correct labels.\"\n",
        "\n> **Exercise:** Implement a function `get_target` that receives a list of words, an index, and a window size, then returns a list of words in the window around the index. Make sure to use the algorithm described above, where you choose a random number of words from the window."
      ],
      "metadata": {}
    },
    {
      "cell_type": "code",
      "source": [
        "def get_target(words, idx, window_size=5):\n",
        "    ''' Get a list of words in a window around an index. '''\n",
        "    R = np.random.randint(1, window_size+1)\n",
        "    start = idx - R if (idx - R) > 0 else 0\n",
        "    stop = idx + R\n",
        "    target_words = set(words[start:idx] + words[idx+1:stop+1])\n",
        "    return list(target_words)"
      ],
      "outputs": [],
      "execution_count": 94,
      "metadata": {
        "collapsed": true
      }
    },
    {
      "cell_type": "markdown",
      "source": [
        "Here's a function that returns batches for our network. The idea is that it grabs `batch_size` words from a words list. Then for each of those words, it gets the target words in the window. I haven't found a way to pass in a random number of target words and get it to work with the architecture, so I make one row per input-target pair. This is a generator function by the way, helps save memory."
      ],
      "metadata": {}
    },
    {
      "cell_type": "code",
      "source": [
        "def get_batches(words, batch_size, window_size=5):\n",
        "    ''' Create a generator of word batches as a tuple (inputs, targets) '''\n",
        "    \n",
        "    n_batches = len(words)//batch_size\n",
        "    \n",
        "    # only full batches\n",
        "    words = words[:n_batches*batch_size]\n",
        "    \n",
        "    for idx in range(0, len(words), batch_size):\n",
        "        x, y = [], []\n",
        "        batch = words[idx:idx+batch_size]\n",
        "        for ii in range(len(batch)):\n",
        "            batch_x = batch[ii]\n",
        "            batch_y = get_target(batch, ii, window_size)\n",
        "            y.extend(batch_y)\n",
        "            x.extend([batch_x]*len(batch_y))\n",
        "        yield x, y\n",
        "    "
      ],
      "outputs": [],
      "execution_count": 95,
      "metadata": {
        "collapsed": true
      }
    },
    {
      "cell_type": "markdown",
      "source": [
        "## Building the graph\n",
        "\n",
        "From [Chris McCormick's blog](http://mccormickml.com/2016/04/19/word2vec-tutorial-the-skip-gram-model/), we can see the general structure of our network.\n",
        "![embedding_network](./assets/skip_gram_net_arch.png)\n",
        "\n",
        "The input words are passed in as integers. This will go into a hidden layer of linear units, then into a softmax layer. We'll use the softmax layer to make a prediction like normal.\n",
        "\n",
        "The idea here is to train the hidden layer weight matrix to find efficient representations for our words. We can discard the softmax layer becuase we don't really care about making predictions with this network. We just want the embedding matrix so we can use it in other networks we build from the dataset.\n",
        "\n",
        "I'm going to have you build the graph in stages now. First off, creating the `inputs` and `labels` placeholders like normal.\n",
        "\n> **Exercise:** Assign `inputs` and `labels` using `tf.placeholder`. We're going to be passing in integers, so set the data types to `tf.int32`. The batches we're passing in will have varying sizes, so set the batch sizes to [`None`]. To make things work later, you'll need to set the second dimension of `labels` to `None` or `1`."
      ],
      "metadata": {}
    },
    {
      "cell_type": "code",
      "source": [
        "train_graph = tf.Graph()\n",
        "with train_graph.as_default():\n",
        "    inputs = tf.placeholder(tf.int32, [None], name='inputs')\n",
        "    labels = tf.placeholder(tf.int32, [None, None], name='labels')"
      ],
      "outputs": [],
      "execution_count": 96,
      "metadata": {
        "collapsed": true
      }
    },
    {
      "cell_type": "markdown",
      "source": [
        "## Embedding\n",
        "\n"
      ],
      "metadata": {}
    },
    {
      "cell_type": "markdown",
      "source": [
        "The embedding matrix has a size of the number of words by the number of units in the hidden layer. So, if you have 10,000 words and 300 hidden units, the matrix will have size $10,000 \\times 300$. Remember that we're using tokenized data for our inputs, usually as integers, where the number of tokens is the number of words in our vocabulary.\n",
        "\n\n> **Exercise:** Tensorflow provides a convenient function [`tf.nn.embedding_lookup`](https://www.tensorflow.org/api_docs/python/tf/nn/embedding_lookup) that does this lookup for us. You pass in the embedding matrix and a tensor of integers, then it returns rows in the matrix corresponding to those integers. Below, set the number of embedding features you'll use (200 is a good start), create the embedding matrix variable, and use `tf.nn.embedding_lookup` to get the embedding tensors. For the embedding matrix, I suggest you initialize it with a uniform random numbers between -1 and 1 using [tf.random_uniform](https://www.tensorflow.org/api_docs/python/tf/random_uniform)."
      ],
      "metadata": {
        "collapsed": true
      }
    },
    {
      "cell_type": "code",
      "source": [
        "n_vocab = len(int_to_vocab)\n",
        "n_embedding = 200\n",
        "with train_graph.as_default():\n",
        "    embedding = tf.Variable(tf.random_uniform((n_vocab, n_embedding), -1, 1))\n",
        "    embed = tf.nn.embedding_lookup(embedding, inputs)"
      ],
      "outputs": [],
      "execution_count": 97,
      "metadata": {
        "collapsed": true
      }
    },
    {
      "cell_type": "markdown",
      "source": [
        "## Negative sampling\n",
        "\n"
      ],
      "metadata": {}
    },
    {
      "cell_type": "markdown",
      "source": [
        "For every example we give the network, we train it using the output from the softmax layer. That means for each input, we're making very small changes to millions of weights even though we only have one true example. This makes training the network very inefficient. We can approximate the loss from the softmax layer by only updating a small subset of all the weights at once. We'll update the weights for the correct label, but only a small number of incorrect labels. This is called [\"negative sampling\"](http://papers.nips.cc/paper/5021-distributed-representations-of-words-and-phrases-and-their-compositionality.pdf). Tensorflow has a convenient function to do this, [`tf.nn.sampled_softmax_loss`](https://www.tensorflow.org/api_docs/python/tf/nn/sampled_softmax_loss).\n",
        "\n> **Exercise:** Below, create weights and biases for the softmax layer. Then, use [`tf.nn.sampled_softmax_loss`](https://www.tensorflow.org/api_docs/python/tf/nn/sampled_softmax_loss) to calculate the loss. Be sure to read the documentation to figure out how it works."
      ],
      "metadata": {}
    },
    {
      "cell_type": "code",
      "source": [
        "# Number of negative labels to sample\n",
        "n_sampled = 100\n",
        "with train_graph.as_default():\n",
        "    softmax_w = tf.Variable(tf.truncated_normal((n_vocab, n_embedding), stddev=0.1))\n",
        "    softmax_b = tf.Variable(tf.zeros(n_vocab))\n",
        "    \n",
        "    # Calculate the loss using negative sampling\n",
        "    loss = tf.nn.sampled_softmax_loss(softmax_w, softmax_b, \n",
        "                                      labels, embed,\n",
        "                                      n_sampled, n_vocab)\n",
        "    \n",
        "    cost = tf.reduce_mean(loss)\n",
        "    optimizer = tf.train.AdamOptimizer().minimize(cost)"
      ],
      "outputs": [],
      "execution_count": null,
      "metadata": {
        "collapsed": true
      }
    },
    {
      "cell_type": "markdown",
      "source": [
        "## Validation\n",
        "\nThis code is from Thushan Ganegedara's implementation. Here we're going to choose a few common words and few uncommon words. Then, we'll print out the closest words to them. It's a nice way to check that our embedding table is grouping together words with similar semantic meanings."
      ],
      "metadata": {}
    },
    {
      "cell_type": "code",
      "source": [
        "with train_graph.as_default():\n",
        "    ## From Thushan Ganegedara's implementation\n",
        "    valid_size = 16 # Random set of words to evaluate similarity on.\n",
        "    valid_window = 100\n",
        "    # pick 8 samples from (0,100) and (1000,1100) each ranges. lower id implies more frequent \n",
        "    valid_examples = np.array(random.sample(range(valid_window), valid_size//2))\n",
        "    valid_examples = np.append(valid_examples, \n",
        "                               random.sample(range(1000,1000+valid_window), valid_size//2))\n",
        "\n",
        "    valid_dataset = tf.constant(valid_examples, dtype=tf.int32)\n",
        "    \n",
        "    # We use the cosine distance:\n",
        "    norm = tf.sqrt(tf.reduce_sum(tf.square(embedding), 1, keep_dims=True))\n",
        "    normalized_embedding = embedding / norm\n",
        "    valid_embedding = tf.nn.embedding_lookup(normalized_embedding, valid_dataset)\n",
        "    similarity = tf.matmul(valid_embedding, tf.transpose(normalized_embedding))"
      ],
      "outputs": [],
      "execution_count": null,
      "metadata": {
        "collapsed": true
      }
    },
    {
      "cell_type": "code",
      "source": [
        "# If the checkpoints directory doesn't exist:\n",
        "!mkdir checkpoints"
      ],
      "outputs": [],
      "execution_count": null,
      "metadata": {
        "collapsed": true
      }
    },
    {
      "cell_type": "markdown",
      "source": [
        "## Training\n",
        "\nBelow is the code to train the network. Every 100 batches it reports the training loss. Every 1000 batches, it'll print out the validation words."
      ],
      "metadata": {}
    },
    {
      "cell_type": "code",
      "source": [
        "epochs = 10\n",
        "batch_size = 1000\n",
        "window_size = 10\n",
        "\n",
        "with train_graph.as_default():\n",
        "    saver = tf.train.Saver()\n",
        "\n",
        "with tf.Session(graph=train_graph) as sess:\n",
        "    iteration = 1\n",
        "    loss = 0\n",
        "    sess.run(tf.global_variables_initializer())\n",
        "\n",
        "    for e in range(1, epochs+1):\n",
        "        batches = get_batches(train_words, batch_size, window_size)\n",
        "        start = time.time()\n",
        "        for x, y in batches:\n",
        "            \n",
        "            feed = {inputs: x,\n",
        "                    labels: np.array(y)[:, None]}\n",
        "            train_loss, _ = sess.run([cost, optimizer], feed_dict=feed)\n",
        "            \n",
        "            loss += train_loss\n",
        "            \n",
        "            if iteration % 100 == 0: \n",
        "                end = time.time()\n",
        "                print(\"Epoch {}/{}\".format(e, epochs),\n",
        "                      \"Iteration: {}\".format(iteration),\n",
        "                      \"Avg. Training loss: {:.4f}\".format(loss/100),\n",
        "                      \"{:.4f} sec/batch\".format((end-start)/100))\n",
        "                loss = 0\n",
        "                start = time.time()\n",
        "            \n",
        "            if iteration % 1000 == 0:\n",
        "                ## From Thushan Ganegedara's implementation\n",
        "                # note that this is expensive (~20% slowdown if computed every 500 steps)\n",
        "                sim = similarity.eval()\n",
        "                for i in range(valid_size):\n",
        "                    valid_word = int_to_vocab[valid_examples[i]]\n",
        "                    top_k = 8 # number of nearest neighbors\n",
        "                    nearest = (-sim[i, :]).argsort()[1:top_k+1]\n",
        "                    log = 'Nearest to %s:' % valid_word\n",
        "                    for k in range(top_k):\n",
        "                        close_word = int_to_vocab[nearest[k]]\n",
        "                        log = '%s %s,' % (log, close_word)\n",
        "                    print(log)\n",
        "            \n",
        "            iteration += 1\n",
        "    save_path = saver.save(sess, \"checkpoints/text8.ckpt\")\n",
        "    embed_mat = sess.run(normalized_embedding)"
      ],
      "outputs": [],
      "execution_count": null,
      "metadata": {
        "collapsed": true
      }
    },
    {
      "cell_type": "markdown",
      "source": [
        "Restore the trained network if you need to:"
      ],
      "metadata": {}
    },
    {
      "cell_type": "code",
      "source": [
        "with train_graph.as_default():\n",
        "    saver = tf.train.Saver()\n",
        "\n",
        "with tf.Session(graph=train_graph) as sess:\n",
        "    saver.restore(sess, tf.train.latest_checkpoint('checkpoints'))\n",
        "    embed_mat = sess.run(embedding)"
      ],
      "outputs": [],
      "execution_count": null,
      "metadata": {
        "collapsed": true
      }
    },
    {
      "cell_type": "markdown",
      "source": [
        "## Visualizing the word vectors\n",
        "\nBelow we'll use T-SNE to visualize how our high-dimensional word vectors cluster together. T-SNE is used to project these vectors into two dimensions while preserving local stucture. Check out [this post from Christopher Olah](http://colah.github.io/posts/2014-10-Visualizing-MNIST/) to learn more about T-SNE and other ways to visualize high-dimensional data."
      ],
      "metadata": {}
    },
    {
      "cell_type": "code",
      "source": [
        "%matplotlib inline\n",
        "%config InlineBackend.figure_format = 'retina'\n",
        "\n",
        "import matplotlib.pyplot as plt\n",
        "from sklearn.manifold import TSNE"
      ],
      "outputs": [],
      "execution_count": null,
      "metadata": {
        "collapsed": true
      }
    },
    {
      "cell_type": "code",
      "source": [
        "viz_words = 500\n",
        "tsne = TSNE()\n",
        "embed_tsne = tsne.fit_transform(embed_mat[:viz_words, :])"
      ],
      "outputs": [],
      "execution_count": null,
      "metadata": {
        "collapsed": true
      }
    },
    {
      "cell_type": "code",
      "source": [
        "fig, ax = plt.subplots(figsize=(14, 14))\n",
        "for idx in range(viz_words):\n",
        "    plt.scatter(*embed_tsne[idx, :], color='steelblue')\n",
        "    plt.annotate(int_to_vocab[idx], (embed_tsne[idx, 0], embed_tsne[idx, 1]), alpha=0.7)"
      ],
      "outputs": [],
      "execution_count": null,
      "metadata": {
        "collapsed": true
      }
    }
  ],
  "metadata": {
    "kernelspec": {
      "name": "python3",
      "language": "python",
      "display_name": "Python 3"
    },
    "language_info": {
      "name": "python",
      "version": "3.6.0",
      "mimetype": "text/x-python",
      "codemirror_mode": {
        "name": "ipython",
        "version": 3
      },
      "pygments_lexer": "ipython3",
      "nbconvert_exporter": "python",
      "file_extension": ".py"
    },
    "kernel_info": {
      "name": "python3"
    }
  },
  "nbformat": 4,
  "nbformat_minor": 2
}