{
 "cells": [
  {
   "cell_type": "code",
   "execution_count": 1,
   "metadata": {
    "collapsed": false
   },
   "outputs": [
    {
     "name": "stderr",
     "output_type": "stream",
     "text": [
      "Using Theano backend.\n"
     ]
    }
   ],
   "source": [
    "\"\"\"\n",
    "Train an end-to-end speech recognition model using CTC.\n",
    "Use $python train.py --help for usage\n",
    "\"\"\"\n",
    "\n",
    "from __future__ import absolute_import, division, print_function\n",
    "\n",
    "import argparse\n",
    "import logging\n",
    "import os\n",
    "\n",
    "from data_generator import DataGenerator\n",
    "from model import compile_gru_model, compile_train_fn, compile_test_fn\n",
    "from utils import configure_logging, save_model\n",
    "\n",
    "logger = logging.getLogger(__name__)"
   ]
  },
  {
   "cell_type": "code",
   "execution_count": null,
   "metadata": {
    "collapsed": true
   },
   "outputs": [],
   "source": [
    "save_dir=\"/liepa_notebooks/data/jupyter_baidu/save_data\"\n",
    "language=\"lt\"\n",
    "train_desc_file=\"/liepa_notebooks/data/liepa_train_en.json\"\n",
    "val_desc_file=\"/liepa_notebooks/data/liepa_validation_en.json\""
   ]
  },
  {
   "cell_type": "code",
   "execution_count": null,
   "metadata": {
    "collapsed": false
   },
   "outputs": [],
   "source": [
    "# Prepare the data generator\n",
    "datagen = DataGenerator(language=language)\n",
    "# Load the JSON file that contains the dataset\n",
    "datagen.load_train_data(train_desc_file)\n",
    "datagen.load_validation_data(val_desc_file)\n",
    "# Use a few samples from the dataset, to calculate the means and variance\n",
    "# of the features, so that we can center our inputs to the network\n",
    "datagen.fit_train(100)\n",
    "\n",
    "# Compile a Recurrent Network with 1 1D convolution layer, GRU units\n",
    "# and 1 fully connected layer\n",
    "model = compile_gru_model(recur_layers=3, nodes=1000, batch_norm=True)\n",
    "\n",
    "# Compile the CTC training function\n",
    "train_fn = compile_train_fn(model)\n",
    "\n",
    "# Compile the validation function\n",
    "val_fn = compile_test_fn(model)\n"
   ]
  }
 ],
 "metadata": {
  "kernelspec": {
   "display_name": "Python 3",
   "language": "python",
   "name": "python3"
  },
  "language_info": {
   "codemirror_mode": {
    "name": "ipython",
    "version": 3
   },
   "file_extension": ".py",
   "mimetype": "text/x-python",
   "name": "python",
   "nbconvert_exporter": "python",
   "pygments_lexer": "ipython3",
   "version": "3.4.3"
  }
 },
 "nbformat": 4,
 "nbformat_minor": 2
}
