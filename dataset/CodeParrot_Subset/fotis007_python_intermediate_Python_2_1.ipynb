{
 "cells": [
  {
   "cell_type": "markdown",
   "metadata": {
    "toc": "true"
   },
   "source": [
    "# Table of Contents\n",
    " <p><div class=\"lev1 toc-item\"><a href=\"#Python-für-Fortgeschrittene\" data-toc-modified-id=\"Python-für-Fortgeschrittene-1\"><span class=\"toc-item-num\">1&nbsp;&nbsp;</span>Python für Fortgeschrittene</a></div><div class=\"lev2 toc-item\"><a href=\"#Überblick-über-den-Kurs\" data-toc-modified-id=\"Überblick-über-den-Kurs-11\"><span class=\"toc-item-num\">1.1&nbsp;&nbsp;</span>Überblick über den Kurs</a></div><div class=\"lev2 toc-item\"><a href=\"#1.-Sitzung:-Wiederholung\" data-toc-modified-id=\"1.-Sitzung:-Wiederholung-12\"><span class=\"toc-item-num\">1.2&nbsp;&nbsp;</span>1. Sitzung: Wiederholung</a></div><div class=\"lev3 toc-item\"><a href=\"#Datenstrukturen-im-Überblick\" data-toc-modified-id=\"Datenstrukturen-im-Überblick-121\"><span class=\"toc-item-num\">1.2.1&nbsp;&nbsp;</span>Datenstrukturen im Überblick</a></div><div class=\"lev2 toc-item\"><a href=\"#Aufgabe\" data-toc-modified-id=\"Aufgabe-13\"><span class=\"toc-item-num\">1.3&nbsp;&nbsp;</span>Aufgabe</a></div><div class=\"lev2 toc-item\"><a href=\"#Programmsteuerung\" data-toc-modified-id=\"Programmsteuerung-14\"><span class=\"toc-item-num\">1.4&nbsp;&nbsp;</span>Programmsteuerung</a></div><div class=\"lev2 toc-item\"><a href=\"#Aufgaben\" data-toc-modified-id=\"Aufgaben-15\"><span class=\"toc-item-num\">1.5&nbsp;&nbsp;</span>Aufgaben</a></div><div class=\"lev2 toc-item\"><a href=\"#Funktionen\" data-toc-modified-id=\"Funktionen-16\"><span class=\"toc-item-num\">1.6&nbsp;&nbsp;</span>Funktionen</a></div><div class=\"lev2 toc-item\"><a href=\"#Aufgaben\" data-toc-modified-id=\"Aufgaben-17\"><span class=\"toc-item-num\">1.7&nbsp;&nbsp;</span>Aufgaben</a></div><div class=\"lev2 toc-item\"><a href=\"#Dateien-lesen-und-schreiben\" data-toc-modified-id=\"Dateien-lesen-und-schreiben-18\"><span class=\"toc-item-num\">1.8&nbsp;&nbsp;</span>Dateien lesen und schreiben</a></div><div class=\"lev2 toc-item\"><a href=\"#Aufgabe\" data-toc-modified-id=\"Aufgabe-19\"><span class=\"toc-item-num\">1.9&nbsp;&nbsp;</span>Aufgabe</a></div><div class=\"lev2 toc-item\"><a href=\"#Reguläre-Ausdrücke\" data-toc-modified-id=\"Reguläre-Ausdrücke-110\"><span class=\"toc-item-num\">1.10&nbsp;&nbsp;</span>Reguläre Ausdrücke</a></div><div class=\"lev2 toc-item\"><a href=\"#Aufgabe\" data-toc-modified-id=\"Aufgabe-111\"><span class=\"toc-item-num\">1.11&nbsp;&nbsp;</span>Aufgabe</a></div>"
   ]
  },
  {
   "cell_type": "markdown",
   "metadata": {
    "slideshow": {
     "slide_type": "slide"
    }
   },
   "source": [
    "# Python für Fortgeschrittene"
   ]
  },
  {
   "cell_type": "markdown",
   "metadata": {},
   "source": [
    "## Überblick über den Kurs"
   ]
  },
  {
   "cell_type": "markdown",
   "metadata": {},
   "source": [
    "1. Wiederholung Basiswissen Python\n",
    "2. Funktionales Programmieren 1: Iteratoren, List Comprehension, map und filter\n",
    "3. Programme strukturieren, Funktionales Programmieren 2: Generatoren\n",
    "4. Graphen\n",
    "5. Datenanalyse 1: numpy\n",
    "6. Datenanalyse 2: pandas\n",
    "7. Datenanalyse 3: matplotlib\n",
    "8. Datenanalyse 4: Maschinelles Lernen\n",
    "9. Arbeiten mit XML: lxml"
   ]
  },
  {
   "cell_type": "markdown",
   "metadata": {
    "slideshow": {
     "slide_type": "subslide"
    }
   },
   "source": [
    "## 1. Sitzung: Wiederholung"
   ]
  },
  {
   "cell_type": "markdown",
   "metadata": {
    "slideshow": {
     "slide_type": "slide"
    }
   },
   "source": [
    "<h3>Datenstrukturen im Überblick</h3>\n",
    "<ul>\n",
    "<li>Sequence  (geordnete Folge)</li>\n",
    "<ul>\n",
    "<li>String (enthält Folge von Unicode-Zeichen) <b>nicht</b> veränderbar</li>\n",
    "<li>List (enthält Elemente des gleichen Datentyps; beliebige Länge) veränderbar</li>\n",
    "<li>Tuple (enthält Elemente unterschiedlichen Datentyps; gleiche Länge) <b>nicht</b> veränderbar</li>\n",
    "<li>namedtuple (Tuple, dessen Felder Namen haben) <b>nicht</b> veränderbar</li>\n",
    "<li>Range (Folge von Zahlen) <b>nicht</b> veränderbar</li>\n",
    "<li>deque (double-ended queue) veränderbar</li>\n",
    "</ul>\n",
    "<li>Maps (ungeordnete Zuordnungen)</li>\n",
    "<ul>\n",
    "<li>Dictionary (enthält key-value Paare)</li>\n",
    "<li>Counter</li>\n",
    "<li>OrderedDict</li>\n",
    "</ul>\n",
    "<li>Set (Gruppe von Elementen ohne Duplikate)</li>\n",
    "<ul>\n",
    "<li>Set (enthält ungeordnet Elemente ohne Duplikate; veränderbar)</li>\n",
    "<li>Frozenset (wie Set, nur unveränderlich)</li>\n",
    "</ul>\n",
    "</ul>"
   ]
  },
  {
   "cell_type": "code",
   "execution_count": 1,
   "metadata": {
    "collapsed": false,
    "slideshow": {
     "slide_type": "slide"
    }
   },
   "outputs": [
    {
     "data": {
      "text/plain": [
       "[0, 1, 2, 3, 4, 5, 6, 7, 8, 9]"
      ]
     },
     "execution_count": 1,
     "metadata": {},
     "output_type": "execute_result"
    }
   ],
   "source": [
    "#List\n",
    "a = [1, 5, 2, 84, 23]\n",
    "b = list(\"hallo\")\n",
    "c = range(10)\n",
    "list(c)"
   ]
  },
  {
   "cell_type": "code",
   "execution_count": 2,
   "metadata": {
    "collapsed": false,
    "slideshow": {
     "slide_type": "subslide"
    }
   },
   "outputs": [
    {
     "data": {
      "text/plain": [
       "{'a': 2, 'b': 5, 'c': 1}"
      ]
     },
     "execution_count": 2,
     "metadata": {},
     "output_type": "execute_result"
    }
   ],
   "source": [
    "#dictionary\n",
    "z = dict(a=2,b=5,c=1)\n",
    "z"
   ]
  },
  {
   "cell_type": "markdown",
   "metadata": {
    "slideshow": {
     "slide_type": "slide"
    }
   },
   "source": [
    "<h2>Aufgabe</h2>\n",
    "<ul><li>Schreiben Sie eine vergleichbare Zuweisung für jede der oben aufgelisteten Datenstrukturen</li></ul>"
   ]
  },
  {
   "cell_type": "code",
   "execution_count": 3,
   "metadata": {
    "collapsed": false,
    "slideshow": {
     "slide_type": "subslide"
    }
   },
   "outputs": [
    {
     "data": {
      "text/plain": [
       "tuple"
      ]
     },
     "execution_count": 3,
     "metadata": {},
     "output_type": "execute_result"
    }
   ],
   "source": [
    "#tuple\n",
    "a = (\"a\", 1)\n",
    "#check\n",
    "type(a)"
   ]
  },
  {
   "cell_type": "markdown",
   "metadata": {
    "slideshow": {
     "slide_type": "slide"
    }
   },
   "source": [
    "<h2>Programmsteuerung</h2>\n",
    "<p>Programmkontrolle: Bedingte Verzweigung</p>\n",
    "<p>Mit if kann man den Programmablauf abhängig vom Wahrheitswert von Bedingungen verzweigen lassen. Z.B.:</p>\n"
   ]
  },
  {
   "cell_type": "code",
   "execution_count": 4,
   "metadata": {
    "collapsed": false,
    "slideshow": {
     "slide_type": "subslide"
    }
   },
   "outputs": [
    {
     "name": "stdout",
     "output_type": "stream",
     "text": [
      "a is true\n"
     ]
    }
   ],
   "source": [
    "a = True\n",
    "b = False\n",
    "if a == True: \n",
    "    print(\"a is true\")\n",
    "else:\n",
    "    print(\"a is not true\")"
   ]
  },
  {
   "cell_type": "markdown",
   "metadata": {
    "slideshow": {
     "slide_type": "subslide"
    }
   },
   "source": [
    "Mit <b>for</b> kann man Schleifen über alles Iterierbare machen. Z.B.:"
   ]
  },
  {
   "cell_type": "code",
   "execution_count": 5,
   "metadata": {
    "collapsed": false,
    "slideshow": {
     "slide_type": "subslide"
    }
   },
   "outputs": [
    {
     "name": "stdout",
     "output_type": "stream",
     "text": [
      "P Q R S T U V W X Y "
     ]
    }
   ],
   "source": [
    "#chr(x) gibt den char mit dem unicode value x aus\n",
    "\n",
    "\n",
    "\n",
    "for c in range(80,90):\n",
    "    print(chr(c),end=\" \")"
   ]
  },
  {
   "cell_type": "markdown",
   "metadata": {
    "slideshow": {
     "slide_type": "slide"
    }
   },
   "source": [
    "<h2>Aufgaben</h2>\n",
    "<ul><li>Geben Sie alle Buchstaben von A bis z aus, deren Unicode-Code eine gerade Zahl ist.</li>"
   ]
  },
  {
   "cell_type": "code",
   "execution_count": 6,
   "metadata": {
    "collapsed": false,
    "slideshow": {
     "slide_type": "subslide"
    }
   },
   "outputs": [
    {
     "name": "stdout",
     "output_type": "stream",
     "text": [
      "B\n",
      "D\n",
      "F\n",
      "H\n",
      "J\n",
      "L\n",
      "N\n",
      "P\n",
      "R\n",
      "T\n",
      "V\n",
      "X\n",
      "Z\n",
      "\\\n",
      "^\n",
      "`\n",
      "b\n",
      "d\n",
      "f\n",
      "h\n",
      "j\n",
      "l\n",
      "n\n"
     ]
    }
   ],
   "source": [
    "for c in range(65,112):\n",
    "    if c % 2 == 0:\n",
    "        print(chr(c))\n",
    "\n",
    "        "
   ]
  },
  {
   "cell_type": "markdown",
   "metadata": {
    "slideshow": {
     "slide_type": "slide"
    }
   },
   "source": [
    "<ul>Zählen Sie, wie häufig der Buchstabe \"a\" im folgenden Satz vorkommt: \"Goethes literarische Produktion umfasst Lyrik, Dramen, erzählende Werke (in Vers und Prosa), autobiografische, kunst- und literaturtheoretische sowie naturwissenschaftliche Schriften.\"</ul>"
   ]
  },
  {
   "cell_type": "code",
   "execution_count": 7,
   "metadata": {
    "collapsed": false,
    "slideshow": {
     "slide_type": "subslide"
    }
   },
   "outputs": [
    {
     "name": "stdout",
     "output_type": "stream",
     "text": [
      "A\n",
      "B\n",
      "C\n",
      "D\n",
      "E\n",
      "u\n",
      "v\n",
      "w\n",
      "w\n",
      "x\n",
      "y\n",
      "z\n"
     ]
    }
   ],
   "source": [
    "a = \"ABCDEuvwwxyz\"\n",
    "for i in a:\n",
    "    print(i)\n",
    "    \n"
   ]
  },
  {
   "cell_type": "markdown",
   "metadata": {},
   "source": [
    "<h2>Funktionen</h2>\n",
    "<p>Funktionen dienen der Modularisierung des Programms und der Komplexitätsreduktion. Sie ermöglichen die Wiederverwendung von Programmcode und eine einfachere Fehlersuche."
   ]
  },
  {
   "cell_type": "code",
   "execution_count": 8,
   "metadata": {
    "collapsed": false
   },
   "outputs": [
    {
     "data": {
      "text/plain": [
       "3.0"
      ]
     },
     "execution_count": 8,
     "metadata": {},
     "output_type": "execute_result"
    }
   ],
   "source": [
    "#diese Funktion dividiert 2 Zahlen:\n",
    "def div(a, b):\n",
    "    return a / b\n",
    "\n",
    "#test\n",
    "div(6,2)"
   ]
  },
  {
   "cell_type": "markdown",
   "metadata": {
    "slideshow": {
     "slide_type": "slide"
    }
   },
   "source": [
    "<h2>Aufgaben</h2>\n",
    "<p>Schreiben Sie eine Funktion, die die Anzahl der Vokale in einem String zählt.</p>"
   ]
  },
  {
   "cell_type": "code",
   "execution_count": 9,
   "metadata": {
    "collapsed": false
   },
   "outputs": [
    {
     "data": {
      "text/plain": [
       "2"
      ]
     },
     "execution_count": 9,
     "metadata": {},
     "output_type": "execute_result"
    }
   ],
   "source": [
    "a = \"Hallo\"\n",
    "\n",
    "def count_vowels(s):\n",
    "    result = 0\n",
    "    for i in s:\n",
    "        if i in \"AEIOUaeiou\":\n",
    "            result += 1\n",
    "    return result\n",
    "count_vowels(a)"
   ]
  },
  {
   "cell_type": "code",
   "execution_count": 7,
   "metadata": {
    "collapsed": false
   },
   "outputs": [
    {
     "name": "stdout",
     "output_type": "stream",
     "text": [
      "h\n",
      "a\n",
      "l\n",
      "l\n",
      "o\n"
     ]
    }
   ],
   "source": [
    "s = \"hallo\"\n",
    "for i in s:\n",
    "    print(i)"
   ]
  },
  {
   "cell_type": "markdown",
   "metadata": {
    "slideshow": {
     "slide_type": "slide"
    }
   },
   "source": [
    "<h2>Dateien lesen und schreiben</h2>\n",
    "<p>open(file, mode='r', encoding=None) können Sie Dateien schreiben oder lesen. </p>\n",
    "<p><b>modes:</b> <br/>\n",
    "\"r\" - read (default)<br/>\n",
    "\"w\" - write. Löscht bestehende Inhalte<br/>\n",
    "\"a\" - append. Hängt neue Inhalte an.<br/>\n",
    "\"t\" - text (default) <br/>\n",
    "\"b\" - binary. <br/>\n",
    "\"x\" - exclusive. Öffnet Schreibzugriff auf eine Datei. Gibt Fehlermeldung, wenn die Datei existiert.</p>\n",
    "<p> <b>encoding</b>\n",
    "\"utf-8\"<br/>\n",
    "\"ascii\"<br/>\n",
    "\"cp1252\"<br/>\n",
    "\"iso-8859-1\"<br/><p>\n",
    "    \n"
   ]
  },
  {
   "cell_type": "code",
   "execution_count": null,
   "metadata": {
    "collapsed": true
   },
   "outputs": [],
   "source": [
    "words = []\n",
    "with open(\"goethe.txt\", \"w\", encoding=\"utf-8\") as fin:\n",
    "    for line in fin:\n",
    "        re.findall(\"\\w+\", s)"
   ]
  },
  {
   "cell_type": "markdown",
   "metadata": {
    "slideshow": {
     "slide_type": "slide"
    }
   },
   "source": [
    "<h2>Aufgabe</h2>\n",
    "<p>Schreiben Sie diesen Text in eine Datei mit den Namen \"goethe.txt\" (utf-8):<br/>\n",
    "<code>\n",
    "Johann Wolfgang von Goethe (* 28. August 1749 in Frankfurt am Main; † 22. März 1832 in Weimar), geadelt 1782, gilt als einer der bedeutendsten Repräsentanten deutschsprachiger Dichtung.\n",
    "\n",
    "Goethes literarische Produktion umfasst Lyrik, Dramen, erzählende Werke (in Vers und Prosa), autobiografische, kunst- und literaturtheoretische sowie naturwissenschaftliche Schriften. Daneben ist sein umfangreicher Briefwechsel von literarischer Bedeutung. Goethe war Vorbereiter und wichtigster Vertreter des Sturm und Drang. Sein Roman Die Leiden des jungen Werthers machte ihn in Europa berühmt. Gemeinsam mit Schiller, Herder und Wieland verkörpert er die Weimarer Klassik. Im Alter wurde er auch im Ausland als Repräsentant des geistigen Deutschlands angesehen.\n",
    "\n",
    "Am Hof von Weimar bekleidete er als Freund und Minister des Herzogs Carl August politische und administrative Ämter und leitete ein Vierteljahrhundert das Hoftheater.\n",
    "\n",
    "Im Deutschen Kaiserreich wurde er „zum Kronzeugen der nationalen Identität der Deutschen“[1] und als solcher für den deutschen Nationalismus vereinnahmt. Es setzte damit eine Verehrung nicht nur des Werks, sondern auch der Persönlichkeit des Dichters ein, dessen Lebensführung als vorbildlich empfunden wurde. Bis heute zählen Gedichte, Dramen und Romane von ihm zu den Meisterwerken der Weltliteratur.</code>"
   ]
  },
  {
   "cell_type": "markdown",
   "metadata": {
    "slideshow": {
     "slide_type": "slide"
    }
   },
   "source": [
    "<h2>Reguläre Ausdrücke</h2>\n",
    "<ul>\n",
    "<li>Zeichenklassen<br/>z.B.  '.' (hier und im folgenden ohne '') = beliebiges Zeichen\n",
    "<li>Quantifier<br/>z.B. '+'   = 1 oder beliebig viele des vorangehenden Zeichens\u000b",
    "'ab+' matches 'ab' 'abb'  'abbbbb', aber nicht 'abab'\n",
    "<li>Positionen<br/>z.B. '^' am Anfang der Zeile\n",
    "<li>Sonstiges<br/>Gruppen (x), '|'  Oder‚ '|', Non-greedy: ?, '\\'  Escape character\n",
    "</ul>\n",
    "<p>Beispiel. Aufgabe: Finden Sie alle Großbuchstaben in einem String s.\n"
   ]
  },
  {
   "cell_type": "code",
   "execution_count": 10,
   "metadata": {
    "collapsed": false,
    "slideshow": {
     "slide_type": "subslide"
    }
   },
   "outputs": [
    {
     "data": {
      "text/plain": [
       "['D', 'B']"
      ]
     },
     "execution_count": 10,
     "metadata": {},
     "output_type": "execute_result"
    }
   ],
   "source": [
    "import re\n",
    "s = \"Dies ist ein Beispiel.\"\n",
    "re.findall(r\"[A-ZÄÖÜ]\", s)"
   ]
  },
  {
   "cell_type": "code",
   "execution_count": 11,
   "metadata": {
    "collapsed": false
   },
   "outputs": [
    {
     "data": {
      "text/plain": [
       "['Dies', 'ist', 'ein', 'Beispiel']"
      ]
     },
     "execution_count": 11,
     "metadata": {},
     "output_type": "execute_result"
    }
   ],
   "source": [
    "re.findall(\"\\w+\", s)"
   ]
  },
  {
   "cell_type": "markdown",
   "metadata": {
    "slideshow": {
     "slide_type": "slide"
    }
   },
   "source": [
    "<h2>Aufgabe</h2>\n",
    "<p>Schreiben Sie Skript, dass eine Worthäufigkeitsliste für die Datei goethe.txt erstellt. Begründen Sie den Aufbau Ihres Skripts</p>  "
   ]
  }
 ],
 "metadata": {
  "kernelspec": {
   "display_name": "Python 3",
   "language": "python",
   "name": "python3"
  },
  "language_info": {
   "codemirror_mode": {
    "name": "ipython",
    "version": 3
   },
   "file_extension": ".py",
   "mimetype": "text/x-python",
   "name": "python",
   "nbconvert_exporter": "python",
   "pygments_lexer": "ipython3",
   "version": "3.6.1"
  },
  "toc": {
   "colors": {
    "hover_highlight": "#DAA520",
    "navigate_num": "#000000",
    "navigate_text": "#333333",
    "running_highlight": "#FF0000",
    "selected_highlight": "#FFD700",
    "sidebar_border": "#EEEEEE",
    "wrapper_background": "#FFFFFF"
   },
   "moveMenuLeft": true,
   "nav_menu": {
    "height": "253px",
    "width": "252px"
   },
   "navigate_menu": true,
   "number_sections": true,
   "sideBar": true,
   "threshold": 4,
   "toc_cell": true,
   "toc_section_display": "block",
   "toc_window_display": false,
   "widenNotebook": false
  }
 },
 "nbformat": 4,
 "nbformat_minor": 0
}
