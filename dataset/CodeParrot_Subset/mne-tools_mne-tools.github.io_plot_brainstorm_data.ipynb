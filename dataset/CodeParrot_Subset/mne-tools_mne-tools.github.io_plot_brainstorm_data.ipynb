{
  "nbformat_minor": 0, 
  "nbformat": 4, 
  "cells": [
    {
      "execution_count": null, 
      "cell_type": "code", 
      "source": [
        "%matplotlib inline"
      ], 
      "outputs": [], 
      "metadata": {
        "collapsed": false
      }
    }, 
    {
      "source": [
        "\n# Brainstorm tutorial datasets\n\n\nHere we compute the evoked from raw for the Brainstorm\ntutorial dataset. For comparison, see [1]_ and:\n\n    http://neuroimage.usc.edu/brainstorm/Tutorials/MedianNerveCtf\n\nReferences\n----------\n.. [1] Tadel F, Baillet S, Mosher JC, Pantazis D, Leahy RM.\n       Brainstorm: A User-Friendly Application for MEG/EEG Analysis.\n       Computational Intelligence and Neuroscience, vol. 2011, Article ID\n       879716, 13 pages, 2011. doi:10.1155/2011/879716\n\n"
      ], 
      "cell_type": "markdown", 
      "metadata": {}
    }, 
    {
      "execution_count": null, 
      "cell_type": "code", 
      "source": [
        "# Authors: Mainak Jas <mainak.jas@telecom-paristech.fr>\n#\n# License: BSD (3-clause)\n\nimport numpy as np\n\nimport mne\nfrom mne.datasets.brainstorm import bst_raw\n\nprint(__doc__)\n\ntmin, tmax, event_id = -0.1, 0.3, 2  # take right-hand somato\nreject = dict(mag=4e-12, eog=250e-6)\n\ndata_path = bst_raw.data_path()\n\nraw_fname = data_path + '/MEG/bst_raw/' + \\\n                        'subj001_somatosensory_20111109_01_AUX-f_raw.fif'\nraw = mne.io.read_raw_fif(raw_fname, preload=True, add_eeg_ref=False)\nraw.plot()\n\n# set EOG channel\nraw.set_channel_types({'EEG058': 'eog'})\nraw.add_eeg_average_proj()\n\n# show power line interference and remove it\nraw.plot_psd()\nraw.notch_filter(np.arange(60, 181, 60))\n\nevents = mne.find_events(raw, stim_channel='UPPT001')\n\n# pick MEG channels\npicks = mne.pick_types(raw.info, meg=True, eeg=False, stim=False, eog=True,\n                       exclude='bads')\n\n# Compute epochs\nepochs = mne.Epochs(raw, events, event_id, tmin, tmax, picks=picks,\n                    baseline=(None, 0), reject=reject, preload=False)\n\n# compute evoked\nevoked = epochs.average()\n\n# remove physiological artifacts (eyeblinks, heartbeats) using SSP on baseline\nevoked.add_proj(mne.compute_proj_evoked(evoked.copy().crop(tmax=0)))\nevoked.apply_proj()\n\n# fix stim artifact\nmne.preprocessing.fix_stim_artifact(evoked)\n\n# correct delays due to hardware (stim artifact is at 4 ms)\nevoked.shift_time(-0.004)\n\n# plot the result\nevoked.plot()\n\n# show topomaps\nevoked.plot_topomap(times=np.array([0.016, 0.030, 0.060, 0.070]))"
      ], 
      "outputs": [], 
      "metadata": {
        "collapsed": false
      }
    }
  ], 
  "metadata": {
    "kernelspec": {
      "display_name": "Python 2", 
      "name": "python2", 
      "language": "python"
    }, 
    "language_info": {
      "mimetype": "text/x-python", 
      "nbconvert_exporter": "python", 
      "name": "python", 
      "file_extension": ".py", 
      "version": "2.7.11", 
      "pygments_lexer": "ipython2", 
      "codemirror_mode": {
        "version": 2, 
        "name": "ipython"
      }
    }
  }
}