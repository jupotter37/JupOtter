{
 "cells": [
  {
   "cell_type": "code",
   "execution_count": null,
   "metadata": {
    "collapsed": false
   },
   "outputs": [],
   "source": [
    "# Exercise:\n",
    "# Evaluate with time the execution time of factorial function\n",
    "from time import sleep\n",
    "import simcache\n",
    "\n",
    "\n",
    "def factorial(x):\n",
    "    sleep(0.1)  # This sleep can not be removed!!\n",
    "    if x < 2:\n",
    "        return 1\n",
    "    return x * factorial(x - 1)"
   ]
  },
  {
   "cell_type": "code",
   "execution_count": null,
   "metadata": {
    "collapsed": false
   },
   "outputs": [],
   "source": [
    "import time\n",
    "t_start = time.time()\n",
    "print factorial(100)\n",
    "t_end = time.time()\n",
    "print \"Ellapsed time: {}\".format(t_end-t_start)"
   ]
  },
  {
   "cell_type": "code",
   "execution_count": null,
   "metadata": {
    "collapsed": true
   },
   "outputs": [],
   "source": [
    "# Exercise:\n",
    "# Evaluate with timeit the execution time of new factorial function\n",
    "def factorial(x):\n",
    "    sleep(0.1)  # This sleep can not be removed!!\n",
    "    if x < 2:\n",
    "        return 1\n",
    "    res = simcache.get_key(x - 1)\n",
    "    if not res:\n",
    "        res = factorial(x - 1)\n",
    "        simcache.set_key(x - 1, res)\n",
    "    return x * res"
   ]
  },
  {
   "cell_type": "code",
   "execution_count": null,
   "metadata": {
    "collapsed": false
   },
   "outputs": [],
   "source": [
    "# How to evaluate the time with timeit: this module is __main__\n",
    "print __name__\n",
    "#import timeit\n",
    "#print timeit.timeit(stmt='factorial(20)',\n",
    "#                    setup='from __main__ import factorial',\n",
    "#                    number=10)"
   ]
  },
  {
   "cell_type": "code",
   "execution_count": null,
   "metadata": {
    "collapsed": true
   },
   "outputs": [],
   "source": [
    "# Exercise: check fibonaccci execution time\n",
    "def fibonacci(n):\n",
    "    \"\"\"Return the nth fibonacci number\"\"\"\n",
    "    if n < 2:\n",
    "        return n\n",
    "    return fibonacci(n - 1) + fibonacci(n - 2)"
   ]
  },
  {
   "cell_type": "code",
   "execution_count": null,
   "metadata": {
    "collapsed": true
   },
   "outputs": [],
   "source": [
    "# Use this cell to measure"
   ]
  },
  {
   "cell_type": "markdown",
   "metadata": {},
   "source": [
    "### Remember DRY: Don't Repeat Yourself!\n",
    " - Let's try to apply memoization in a generic way to not modified functions\n",
    " - Let's do a bit of magic to apply memoization easily"
   ]
  },
  {
   "cell_type": "code",
   "execution_count": null,
   "metadata": {
    "collapsed": true
   },
   "outputs": [],
   "source": [
    "real_fibonacci = fibonacci\n",
    "def fibonacci(n):\n",
    "    res = simcache.get_key(n)\n",
    "    if not res:\n",
    "        res = real_fibonacci(n)\n",
    "        simcache.set_key(n, res)\n",
    "    return res"
   ]
  },
  {
   "cell_type": "code",
   "execution_count": null,
   "metadata": {
    "collapsed": false
   },
   "outputs": [],
   "source": [
    "t1_start = time.time()\n",
    "print fibonacci(30)\n",
    "t1_elapsed = time.time() - t1_start\n",
    "print \"fibonacci time {}\".format(t1_elapsed)\n",
    "t1_start = time.time()\n",
    "print real_fibonacci(30)\n",
    "t1_elapsed = time.time() - t1_start\n",
    "print \"fibonacci_real time {}\".format(t1_elapsed)"
   ]
  },
  {
   "cell_type": "markdown",
   "metadata": {},
   "source": [
    "### Let's explain the trick in slow motion"
   ]
  },
  {
   "cell_type": "code",
   "execution_count": null,
   "metadata": {
    "collapsed": true
   },
   "outputs": [],
   "source": [
    "simcache.clear_keys()  # Let's clean the cache\n",
    "# Let's define the real fibonacci computation function\n",
    "def fibonacci(n):\n",
    "    if n < 2:\n",
    "        return n\n",
    "    print \"Real fibonacci func, calling recursively to\", fibonacci, n\n",
    "    # Once the trick is done globals will contain a different function binded to 'fibonacci'\n",
    "    return fibonacci(n - 1) + fibonacci(n - 2)"
   ]
  },
  {
   "cell_type": "code",
   "execution_count": null,
   "metadata": {
    "collapsed": false
   },
   "outputs": [],
   "source": [
    "print fibonacci\n",
    "\n",
    "print fibonacci(5)"
   ]
  },
  {
   "cell_type": "code",
   "execution_count": null,
   "metadata": {
    "collapsed": true
   },
   "outputs": [],
   "source": [
    "# Call graph of fibonacci for n=5\n",
    "#\n",
    "#        __ 4 ---- 3 ----------- 2 ---- 1\n",
    "#   5 __/      \\__ 2 ---- 1  \\__ 1  \\__ 0\n",
    "#      |              \\__ 0\n",
    "#       \\__ 3 ---- 2 ---- 1\n",
    "#              \\__ 1  \\__ 0\n",
    "#"
   ]
  },
  {
   "cell_type": "code",
   "execution_count": null,
   "metadata": {
    "collapsed": false
   },
   "outputs": [],
   "source": [
    "# Let's save a reference to the real function\n",
    "real_fibonacci = fibonacci\n",
    "\n",
    "print real_fibonacci  # Points to real fibonacci calculation function"
   ]
  },
  {
   "cell_type": "code",
   "execution_count": null,
   "metadata": {
    "collapsed": false
   },
   "outputs": [],
   "source": [
    "# Let's create a new function which will use memoization\n",
    "def memoized_fibonacci(n):\n",
    "    # Try to retrieve value from cache\n",
    "    res = simcache.get_key(n)\n",
    "    if not res:\n",
    "        # If failed, call real fibonacci func\n",
    "        print \"Memoized fibonacci func, proceeding to call real func\",\\\n",
    "            real_fibonacci, n\n",
    "        res = real_fibonacci(n)\n",
    "        # Store real result\n",
    "        simcache.set_key(n, res)\n",
    "    return res\n",
    "\n",
    "print memoized_fibonacci  # This is the new function with memoization"
   ]
  },
  {
   "cell_type": "code",
   "execution_count": null,
   "metadata": {
    "collapsed": true
   },
   "outputs": [],
   "source": [
    "# Let's replace the real function by the memoized version in module globals\n",
    "fibonacci = memoized_fibonacci"
   ]
  },
  {
   "cell_type": "code",
   "execution_count": null,
   "metadata": {
    "collapsed": false
   },
   "outputs": [],
   "source": [
    "print fibonacci(5)  # Let's see what happens now"
   ]
  },
  {
   "cell_type": "code",
   "execution_count": null,
   "metadata": {
    "collapsed": false
   },
   "outputs": [],
   "source": [
    "print fibonacci(5)  # Let's try again"
   ]
  },
  {
   "cell_type": "code",
   "execution_count": null,
   "metadata": {
    "collapsed": false
   },
   "outputs": [],
   "source": [
    "print fibonacci(10)  # Let's try with a bigger number"
   ]
  },
  {
   "cell_type": "markdown",
   "metadata": {},
   "source": [
    "- We have applied our first hand-crafted decorator\n",
    "- How would you memoize any function, not just fibonacci?\n",
    "\n",
    "Do you remember functions are first class objects? They can be used as arguments or return values...  \n",
    "Do you remember we can declare functions inside other functions?\n",
    "\n",
    "### Let's apply these concepts to find a generic method to use memoization"
   ]
  },
  {
   "cell_type": "code",
   "execution_count": null,
   "metadata": {
    "collapsed": true
   },
   "outputs": [],
   "source": [
    "def fibonacci(n):\n",
    "    if n < 2:\n",
    "        return n\n",
    "    return fibonacci(n - 1) + fibonacci(n - 2)\n",
    "\n",
    "def memoize_any_function(func_to_memoize):\n",
    "    \"\"\"Function to return a wrapped version of input function using memoization\n",
    "    \"\"\"\n",
    "    print \"Called memoize_any_function\"\n",
    "\n",
    "    def memoized_version_of_func(n):\n",
    "        \"\"\"Wrapper using memoization\n",
    "        \"\"\"\n",
    "        res = simcache.get_key(n)\n",
    "        if not res:\n",
    "            res = func_to_memoize(n)  # Call the real function\n",
    "            simcache.set_key(n, res)\n",
    "        return res\n",
    "    return memoized_version_of_func"
   ]
  },
  {
   "cell_type": "code",
   "execution_count": null,
   "metadata": {
    "collapsed": false
   },
   "outputs": [],
   "source": [
    "fibonacci = memoize_any_function(fibonacci)"
   ]
  },
  {
   "cell_type": "code",
   "execution_count": null,
   "metadata": {
    "collapsed": false
   },
   "outputs": [],
   "source": [
    "print fibonacci(35)"
   ]
  },
  {
   "cell_type": "code",
   "execution_count": null,
   "metadata": {
    "collapsed": false
   },
   "outputs": [],
   "source": [
    "# Much nice if we do:\n",
    "@memoize_any_function  # This is the simplest decorator syntax\n",
    "def fibonacci(n):\n",
    "    if n < 2:\n",
    "        return n\n",
    "    return fibonacci(n - 1) + fibonacci(n - 2)"
   ]
  },
  {
   "cell_type": "code",
   "execution_count": null,
   "metadata": {
    "collapsed": false
   },
   "outputs": [],
   "source": [
    "print fibonacci(150)"
   ]
  },
  {
   "cell_type": "markdown",
   "metadata": {},
   "source": [
    "### Python decorators:\n",
    "- A callable which receives a funtion as only argument and returns another function. Typically the resulting function wrapps the first function executing some code before and/or after the first is called.\n",
    "- Used with the at @ symbol before a function or method\n",
    "- Don't forget to deal with 'self' as first argument of methods\n",
    "- The decoration is done at import / evaluation time"
   ]
  },
  {
   "cell_type": "code",
   "execution_count": null,
   "metadata": {
    "collapsed": true
   },
   "outputs": [],
   "source": [
    "def timing_decorator(decorated_func):\n",
    "    print \"Called timing_decorator\"\n",
    "\n",
    "    def wrapper(*args):  # Use variable arguments to be compatible with any function\n",
    "        \"\"\"Wrapper for time executions\n",
    "        \"\"\"\n",
    "        start = time.time()\n",
    "        res = decorated_func(*args)  # Call the real function\n",
    "        elapsed = time.time() - start\n",
    "        print \"Execution of '{0}{1}' took {2} seconds\".format(decorated_func.__name__, args, elapsed)\n",
    "        return res\n",
    "    return wrapper"
   ]
  },
  {
   "cell_type": "code",
   "execution_count": null,
   "metadata": {
    "collapsed": false
   },
   "outputs": [],
   "source": [
    "@timing_decorator\n",
    "@memoize_any_function  # We can accumulate decorators\n",
    "def fibonacci(n):\n",
    "    if n < 2:\n",
    "        return n\n",
    "    return fibonacci(n - 1) + fibonacci(n - 2)"
   ]
  },
  {
   "cell_type": "code",
   "execution_count": null,
   "metadata": {
    "collapsed": false
   },
   "outputs": [],
   "source": [
    "simcache.clear_keys()\n",
    "print fibonacci(5)"
   ]
  },
  {
   "cell_type": "markdown",
   "metadata": {},
   "source": [
    "- It is possible to accumulate decorators\n",
    "- Order matters, they are run in strict top - down order"
   ]
  },
  {
   "cell_type": "code",
   "execution_count": null,
   "metadata": {
    "collapsed": false
   },
   "outputs": [],
   "source": [
    "print fibonacci\n",
    "# Why is the wrapper? Can we maintain the original name ?"
   ]
  },
  {
   "cell_type": "code",
   "execution_count": null,
   "metadata": {
    "collapsed": false
   },
   "outputs": [],
   "source": [
    "import functools\n",
    "def memoize_any_function(decorated_func):\n",
    "    \"\"\"Function to return a wrapped version of input function using memoization\n",
    "    \"\"\"\n",
    "    @functools.wraps(decorated_func)  # Use functools.wraps to smooth the decoration\n",
    "    def memoized_version_of_f(*args):\n",
    "        \"\"\"Wrapper using memoization\n",
    "        \"\"\"\n",
    "        res = simcache.get_key(args)\n",
    "        if not res:\n",
    "            res = decorated_func(*args)  # Call the real function\n",
    "            simcache.set_key(args, res)\n",
    "        return res\n",
    "    return memoized_version_of_f"
   ]
  },
  {
   "cell_type": "code",
   "execution_count": null,
   "metadata": {
    "collapsed": true
   },
   "outputs": [],
   "source": [
    "def timing_decorator(decorated_func):\n",
    "    @functools.wraps(decorated_func)\n",
    "    def wrapper(*args):  # Use variable arguments to be compatible with any function\n",
    "        \"\"\"Wrapper for time executions\n",
    "        \"\"\"\n",
    "        start = time.time()\n",
    "        res = decorated_func(*args)  # Call the real function\n",
    "        elapsed = time.time() - start\n",
    "        print \"Execution of '{0}{1}' took {2} seconds\".format(decorated_func.__name__, args, elapsed)\n",
    "        return res\n",
    "    return wrapper"
   ]
  },
  {
   "cell_type": "code",
   "execution_count": null,
   "metadata": {
    "collapsed": true
   },
   "outputs": [],
   "source": [
    "@timing_decorator\n",
    "@memoize_any_function  # We can accumulate decorators, and they are run in strict top-down order\n",
    "def fibonacci(n):\n",
    "    if n < 2:\n",
    "        return n\n",
    "    return fibonacci(n - 1) + fibonacci(n - 2)"
   ]
  },
  {
   "cell_type": "code",
   "execution_count": null,
   "metadata": {
    "collapsed": false
   },
   "outputs": [],
   "source": [
    "print fibonacci(100)"
   ]
  },
  {
   "cell_type": "markdown",
   "metadata": {},
   "source": [
    "- functools.wraps copies name, module and docstring of wrapped function to its wrapper\n",
    "- Use variable number of positional and keyword arguments for higher compatibility"
   ]
  },
  {
   "cell_type": "markdown",
   "metadata": {},
   "source": [
    "### Python decorators:\n",
    "\n",
    " - A callable which receives a funtion as only argument and returns another function. Typically the resulting function wrapps the first function executing some code before and/or after the first is called.\n",
    "\n",
    " - New in Python 2.4, they are the pythonic implementation of Decorator Pattern\n",
    "\n",
    "- Used with the at @ symbol before a function or method\n",
    "    - Don't forget to deal with 'self' as first argument of methods\n",
    "- The decoration is done at import / evaluation time\n",
    "- It is possible to accumulate decorators\n",
    "    - Order matters, they are run in strict top - down order\n",
    "\n",
    "- functools.wraps copies name, module and docstring of wrapped function to its wrapper\n",
    "\n",
    "- Use variable number of positional and keyword arguments for higher compatibility\n",
    "\n",
    "- Decorators are executed each time the decorated function is called\n",
    "    - Potential performance loss\n",
    "\n",
    "- Typical uses:\n",
    "    - Memoization\n",
    "    - Timing, profiling, logging, stats...\n",
    "    - Overriding arguments, pre / post conditions\n",
    "    - Retries\n",
    "    - Exception handling"
   ]
  },
  {
   "cell_type": "code",
   "execution_count": null,
   "metadata": {
    "collapsed": true
   },
   "outputs": [],
   "source": [
    ""
   ]
  }
 ],
 "metadata": {
  "kernelspec": {
   "display_name": "Python 2",
   "language": "python",
   "name": "python2"
  },
  "language_info": {
   "codemirror_mode": {
    "name": "ipython",
    "version": 2.0
   },
   "file_extension": ".py",
   "mimetype": "text/x-python",
   "name": "python",
   "nbconvert_exporter": "python",
   "pygments_lexer": "ipython2",
   "version": "2.7.5"
  }
 },
 "nbformat": 4,
 "nbformat_minor": 0
}