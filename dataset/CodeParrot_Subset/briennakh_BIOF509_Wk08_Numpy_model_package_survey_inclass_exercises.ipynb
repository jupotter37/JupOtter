{
 "cells": [
  {
   "cell_type": "markdown",
   "metadata": {},
   "source": [
    "# Week 8 - Implementing a model in numpy and a survey of machine learning packages for python"
   ]
  },
  {
   "cell_type": "markdown",
   "metadata": {},
   "source": [
    "This week we will be looking in detail at how to implement a supervised regression model using the base scientific computing packages available with python.\n",
    "\n",
    "We will also be looking at the different packages available for python that implement many of the algorithms we might want to use."
   ]
  },
  {
   "cell_type": "markdown",
   "metadata": {},
   "source": [
    "## Regression with numpy\n",
    "\n",
    "Why implement algorithms from scratch when dedicated packages already exist? \n",
    "\n",
    "The packages available are very powerful and a real time saver but they can obscure some issues we might encounter if we don't know to look for them. By starting with just numpy these problems will be more obvious. We can address them here and then when we move on we will know what to look for and will be less likely to miss them.\n",
    "\n",
    "The dedicated machine learning packages implement the different algorithms but we are still responsible for getting our data in a suitable format."
   ]
  },
  {
   "cell_type": "code",
   "execution_count": 174,
   "metadata": {
    "collapsed": true
   },
   "outputs": [],
   "source": [
    "import matplotlib.pyplot as plt\n",
    "import numpy as np\n",
    "\n",
    "%matplotlib inline"
   ]
  },
  {
   "cell_type": "code",
   "execution_count": 175,
   "metadata": {
    "collapsed": false
   },
   "outputs": [
    {
     "data": {
      "image/png": "[encoded data removed]",
      "text/plain": [
       "<matplotlib.figure.Figure at 0x20048ddecc0>"
      ]
     },
     "metadata": {},
     "output_type": "display_data"
    }
   ],
   "source": [
    "n = 20\n",
    "x = np.random.random((n,1))\n",
    "y = 5 + 6 * x ** 2 + np.random.normal(0,0.5, size=(n,1))\n",
    "\n",
    "\n",
    "plt.plot(x, y, 'b.')\n",
    "plt.show()"
   ]
  },
  {
   "cell_type": "markdown",
   "metadata": {},
   "source": [
    "This is a very simple dataset. There is only one input value for each record and then there is the output value. Our goal is to determine the output value or dependent variable, shown on the y-axis, from the input or independent variable, shown on the x-axis.\n",
    "\n",
    "Our approach should scale to handle multiple input, or independent, variables. The independent variables can be stored in a vector, a 1-dimensional array:\n",
    "\n",
    "$$X^T = (X_{1}, X_{2}, X_{3})$$\n",
    "\n",
    "As we have multiple records these can be stacked in a 2-dimensional array. Each record becomes one row in the array. Our `x` variable is already set up in this way.\n",
    "\n",
    "In linear regression we can compute the value of the dependent variable using the following formula:\n",
    "\n",
    "$$f(X) =  \\beta_{0}  +  \\sum_{j=1}^p X_j\\beta_j$$\n",
    "\n",
    "The $\\beta_{0}$ term is the intercept, and represents the value of the dependent variable when the independent variable is zero.\n",
    "\n",
    "Calculating a solution is easier if we don't treat the intercept as special. Instead of having an intercept co-efficient that is handled separately we can instead add a variable to each of our records with a value of one."
   ]
  },
  {
   "cell_type": "code",
   "execution_count": 176,
   "metadata": {
    "collapsed": false
   },
   "outputs": [
    {
     "data": {
      "text/plain": [
       "array([[ 1.        ,  0.44929165],\n",
       "       [ 1.        ,  0.30446841],\n",
       "       [ 1.        ,  0.83918912],\n",
       "       [ 1.        ,  0.23774183],\n",
       "       [ 1.        ,  0.50238946],\n",
       "       [ 1.        ,  0.9425836 ],\n",
       "       [ 1.        ,  0.6339977 ],\n",
       "       [ 1.        ,  0.86728941],\n",
       "       [ 1.        ,  0.94020969],\n",
       "       [ 1.        ,  0.75076486],\n",
       "       [ 1.        ,  0.69957506],\n",
       "       [ 1.        ,  0.96796557],\n",
       "       [ 1.        ,  0.99440079],\n",
       "       [ 1.        ,  0.45182168],\n",
       "       [ 1.        ,  0.07086978],\n",
       "       [ 1.        ,  0.29279403],\n",
       "       [ 1.        ,  0.15235471],\n",
       "       [ 1.        ,  0.41748637],\n",
       "       [ 1.        ,  0.13128933],\n",
       "       [ 1.        ,  0.6041178 ]])"
      ]
     },
     "execution_count": 176,
     "metadata": {},
     "output_type": "execute_result"
    }
   ],
   "source": [
    "intercept_x = np.hstack((np.ones((n,1)), x))\n",
    "intercept_x"
   ]
  },
  {
   "cell_type": "markdown",
   "metadata": {},
   "source": [
    "[Numpy contains the linalg module](http://docs.scipy.org/doc/numpy/reference/routines.linalg.html) with many common functions for performing linear algebra. Using this module finding a solution is quite simple."
   ]
  },
  {
   "cell_type": "code",
   "execution_count": 177,
   "metadata": {
    "collapsed": false
   },
   "outputs": [
    {
     "data": {
      "text/plain": [
       "(array([[ 3.8217988 ],\n",
       "        [ 6.15768399]]),\n",
       " array([ 8.50971729]),\n",
       " 2,\n",
       " array([ 5.17434252,  1.146272  ]))"
      ]
     },
     "execution_count": 177,
     "metadata": {},
     "output_type": "execute_result"
    }
   ],
   "source": [
    "np.linalg.lstsq(intercept_x,y)"
   ]
  },
  {
   "cell_type": "markdown",
   "metadata": {},
   "source": [
    "The values returned are:\n",
    "\n",
    "* The least-squares solution\n",
    "* The sum of squared residuals\n",
    "* The rank of the independent variables\n",
    "* The singular values of the independent variables"
   ]
  },
  {
   "cell_type": "markdown",
   "metadata": {},
   "source": [
    "## Exercise\n",
    "\n",
    "1. Calculate the predictions our model would make\n",
    "2. Calculate the sum of squared residuals from our predictions. Does this match the value returned by lstsq?"
   ]
  },
  {
   "cell_type": "code",
   "execution_count": null,
   "metadata": {
    "collapsed": true
   },
   "outputs": [],
   "source": []
  },
  {
   "cell_type": "code",
   "execution_count": 178,
   "metadata": {
    "collapsed": true
   },
   "outputs": [],
   "source": [
    "coeff, residuals, rank, sing_vals = np.linalg.lstsq(intercept_x,y)"
   ]
  },
  {
   "cell_type": "code",
   "execution_count": 182,
   "metadata": {
    "collapsed": false
   },
   "outputs": [
    {
     "data": {
      "text/plain": [
       "((20, 2), (1, 2))"
      ]
     },
     "execution_count": 182,
     "metadata": {},
     "output_type": "execute_result"
    }
   ],
   "source": [
    "intercept_x.shape, coeff.T.shape"
   ]
  },
  {
   "cell_type": "code",
   "execution_count": 185,
   "metadata": {
    "collapsed": false
   },
   "outputs": [
    {
     "data": {
      "text/plain": [
       "array([ 6.5883948 ,  5.69661904,  8.98926023,  5.28573784,  6.91535432,\n",
       "        9.62593075,  7.72575628,  9.16229289,  9.61131296,  8.44477158,\n",
       "        8.12956095,  9.78222488,  9.94500463,  6.60397395,  4.2581925 ,\n",
       "        5.62473192,  4.75995094,  6.39254797,  4.630237  ,  7.54176534])"
      ]
     },
     "execution_count": 185,
     "metadata": {},
     "output_type": "execute_result"
    }
   ],
   "source": [
    "np.sum(intercept_x * coeff.T, axis=1)"
   ]
  },
  {
   "cell_type": "code",
   "execution_count": 186,
   "metadata": {
    "collapsed": false
   },
   "outputs": [],
   "source": [
    "predictions = np.sum(intercept_x * coeff.T, axis=1)"
   ]
  },
  {
   "cell_type": "code",
   "execution_count": 187,
   "metadata": {
    "collapsed": false
   },
   "outputs": [
    {
     "data": {
      "image/png": "[encoded data removed]",
      "text/plain": [
       "<matplotlib.figure.Figure at 0x2004a156ac8>"
      ]
     },
     "metadata": {},
     "output_type": "display_data"
    }
   ],
   "source": [
    "plt.plot(x, y, 'bo')\n",
    "plt.plot(x, predictions, 'ko')\n",
    "plt.show()"
   ]
  },
  {
   "cell_type": "code",
   "execution_count": 190,
   "metadata": {
    "collapsed": false
   },
   "outputs": [
    {
     "data": {
      "text/plain": [
       "(20,)"
      ]
     },
     "execution_count": 190,
     "metadata": {},
     "output_type": "execute_result"
    }
   ],
   "source": [
    "predictions.shape"
   ]
  },
  {
   "cell_type": "code",
   "execution_count": 192,
   "metadata": {
    "collapsed": false
   },
   "outputs": [
    {
     "data": {
      "text/plain": [
       "(8.5097172851712308, array([ 8.50971729]))"
      ]
     },
     "execution_count": 192,
     "metadata": {},
     "output_type": "execute_result"
    }
   ],
   "source": [
    "np.sum((predictions.reshape((20,1)) - y) ** 2), residuals"
   ]
  },
  {
   "cell_type": "markdown",
   "metadata": {},
   "source": [
    "Least squares refers to the cost function for this algorithm. The objective is to minimize the residual sum of squares. The difference between the actual and predicted values is calculated, it is squared and then summed over all records. The function is as follows:\n",
    "\n",
    "$$RSS(\\beta) = \\sum_{i=1}^{N}(y_i - x_i^T\\beta)^2$$"
   ]
  },
  {
   "cell_type": "markdown",
   "metadata": {},
   "source": [
    "## Matrix arithmetic\n",
    "\n",
    "Within lstsq all the calculations are performed using matrix arithmetic rather than the more familiar element-wise arithmetic numpy arrays generally perform. Numpy does have a matrix type but matrix arithmetic can also be performed on standard arrays using dedicated methods.\n",
    "\n",
    "![Matrix multiplication](https://upload.wikimedia.org/wikipedia/commons/e/eb/Matrix_multiplication_diagram_2.svg)\n",
    "_Source: Wikimedia Commons (User:Bilou)_\n",
    "\n",
    "In matrix multiplication the resulting value in any position is the sum of multiplying each value in a row in the first matrix by the corresponding value in a column in the second matrix."
   ]
  },
  {
   "cell_type": "markdown",
   "metadata": {},
   "source": [
    "The residual sum of squares can be calculated with the following formula:\n",
    "\n",
    "$$RSS(\\beta) = (y - X\\beta)^T(y-X\\beta)$$\n",
    "\n",
    "The value of our co-efficients can be calculated with:\n",
    "\n",
    "$$\\hat\\beta = (X^TX)^{-1}X^Ty$$\n",
    "\n",
    "Unfortunately, the result is not as visually appealing as in languages that use matrix arithmetic by default."
   ]
  },
  {
   "cell_type": "code",
   "execution_count": 193,
   "metadata": {
    "collapsed": false
   },
   "outputs": [
    {
     "name": "stdout",
     "output_type": "stream",
     "text": [
      "[[ 3.8217988 ]\n",
      " [ 6.15768399]] \n",
      " [[ 3.8217988 ]\n",
      " [ 6.15768399]]\n"
     ]
    }
   ],
   "source": [
    "our_coeff = np.dot(np.dot(np.linalg.inv(np.dot(intercept_x.T, intercept_x)), intercept_x.T), y)\n",
    "\n",
    "print(coeff, '\\n', our_coeff)"
   ]
  },
  {
   "cell_type": "code",
   "execution_count": 195,
   "metadata": {
    "collapsed": false
   },
   "outputs": [
    {
     "data": {
      "text/plain": [
       "(array([ 6.5883948 ,  5.69661904,  8.98926023,  5.28573784,  6.91535432,\n",
       "         9.62593075,  7.72575628,  9.16229289,  9.61131296,  8.44477158,\n",
       "         8.12956095,  9.78222488,  9.94500463,  6.60397395,  4.2581925 ,\n",
       "         5.62473192,  4.75995094,  6.39254797,  4.630237  ,  7.54176534]),\n",
       " array([[ 6.5883948 ],\n",
       "        [ 5.69661904],\n",
       "        [ 8.98926023],\n",
       "        [ 5.28573784],\n",
       "        [ 6.91535432],\n",
       "        [ 9.62593075],\n",
       "        [ 7.72575628],\n",
       "        [ 9.16229289],\n",
       "        [ 9.61131296],\n",
       "        [ 8.44477158],\n",
       "        [ 8.12956095],\n",
       "        [ 9.78222488],\n",
       "        [ 9.94500463],\n",
       "        [ 6.60397395],\n",
       "        [ 4.2581925 ],\n",
       "        [ 5.62473192],\n",
       "        [ 4.75995094],\n",
       "        [ 6.39254797],\n",
       "        [ 4.630237  ],\n",
       "        [ 7.54176534]]))"
      ]
     },
     "execution_count": 195,
     "metadata": {},
     "output_type": "execute_result"
    }
   ],
   "source": [
    "our_predictions = np.dot(intercept_x, our_coeff)\n",
    "\n",
    "predictions, our_predictions"
   ]
  },
  {
   "cell_type": "code",
   "execution_count": 196,
   "metadata": {
    "collapsed": false
   },
   "outputs": [
    {
     "data": {
      "image/png": "[encoded data removed]",
      "text/plain": [
       "<matplotlib.figure.Figure at 0x20048f5be10>"
      ]
     },
     "metadata": {},
     "output_type": "display_data"
    }
   ],
   "source": [
    "plt.plot(x, y, 'ko', label='True values')\n",
    "plt.plot(x, our_predictions, 'ro', label='Predictions')\n",
    "plt.legend(numpoints=1, loc=4)\n",
    "plt.show()"
   ]
  },
  {
   "cell_type": "code",
   "execution_count": 198,
   "metadata": {
    "collapsed": false
   },
   "outputs": [
    {
     "data": {
      "text/plain": [
       "array([[ 0,  1,  2,  3],\n",
       "       [ 4,  5,  6,  7],\n",
       "       [ 8,  9, 10, 11]])"
      ]
     },
     "execution_count": 198,
     "metadata": {},
     "output_type": "execute_result"
    }
   ],
   "source": [
    "np.arange(12).reshape((3,4))"
   ]
  },
  {
   "cell_type": "markdown",
   "metadata": {},
   "source": [
    "## Exercise\n",
    "\n",
    "1. Plot the residuals. The x axis will be the independent variable (x) and the y axis the residual between our prediction and the true value.\n",
    "2. Plot the predictions generated for our model over the entire range of 0-1. One approach is to use the np.linspace method to create equally spaced values over a specified range."
   ]
  },
  {
   "cell_type": "code",
   "execution_count": 199,
   "metadata": {
    "collapsed": false
   },
   "outputs": [
    {
     "data": {
      "image/png": "[encoded data removed]",
      "text/plain": [
       "<matplotlib.figure.Figure at 0x20048f62400>"
      ]
     },
     "metadata": {},
     "output_type": "display_data"
    }
   ],
   "source": [
    "plt.plot(x, y - our_predictions, 'ko')\n",
    "plt.show()"
   ]
  },
  {
   "cell_type": "code",
   "execution_count": 204,
   "metadata": {
    "collapsed": false
   },
   "outputs": [
    {
     "name": "stdout",
     "output_type": "stream",
     "text": [
      "(1000, 2) (2, 1)\n"
     ]
    },
    {
     "data": {
      "image/png": "[encoded data removed]",
      "text/plain": [
       "<matplotlib.figure.Figure at 0x20048d69d30>"
      ]
     },
     "metadata": {},
     "output_type": "display_data"
    }
   ],
   "source": [
    "plt.plot(x, y, 'ko', label='True values')\n",
    "\n",
    "all_x = np.linspace(0, 1, 1000).reshape((1000,1))\n",
    "intercept_all_x = np.hstack((np.ones((1000,1)), all_x))\n",
    "\n",
    "print(intercept_all_x.shape, our_coeff.shape)\n",
    "\n",
    "#all_x_predictions = np.dot(intercept_all_x, our_coeff)\n",
    "all_x_predictions = np.sum(intercept_all_x * our_coeff.T, axis=1)\n",
    "\n",
    "plt.plot(all_x, all_x_predictions, 'r-', label='Predictions')\n",
    "plt.legend(numpoints=1, loc=4)\n",
    "plt.show()"
   ]
  },
  {
   "cell_type": "markdown",
   "metadata": {},
   "source": [
    "## Types of independent variable\n",
    "\n",
    "The independent variables can be many different types.\n",
    "\n",
    "* Quantitative inputs\n",
    "* Categorical inputs coded using dummy values\n",
    "* Interactions between multiple inputs\n",
    "* Tranformations of other inputs, e.g. logs, raised to different powers, etc.\n",
    "\n",
    "It is important to note that a _linear_ model is only _linear_ with respect to its inputs. Those input variables can take any form.\n",
    "\n",
    "One approach we can take to improve the predictions from our model would be to add in the square, cube, etc of our existing variable."
   ]
  },
  {
   "cell_type": "code",
   "execution_count": 170,
   "metadata": {
    "collapsed": false
   },
   "outputs": [
    {
     "name": "stdout",
     "output_type": "stream",
     "text": [
      "[[  2.48528927e+05]\n",
      " [ -1.71103499e+07]\n",
      " [  4.65315707e+08]\n",
      " [ -6.91480377e+09]\n",
      " [  6.44385305e+10]\n",
      " [ -4.06133878e+11]\n",
      " [  1.81054068e+12]\n",
      " [ -5.85359860e+12]\n",
      " [  1.38391083e+13]\n",
      " [ -2.36324769e+13]\n",
      " [  2.76241766e+13]\n",
      " [ -1.78960448e+13]\n",
      " [ -3.36195922e+12]\n",
      " [  2.22108078e+13]\n",
      " [ -2.64916311e+13]\n",
      " [  1.80609411e+13]\n",
      " [ -7.62315594e+12]\n",
      " [  1.86509989e+12]\n",
      " [ -2.03646141e+11]]\n"
     ]
    },
    {
     "data": {
      "image/png": "[encoded data removed]",
      "text/plain": [
       "<matplotlib.figure.Figure at 0x20048da9e80>"
      ]
     },
     "metadata": {},
     "output_type": "display_data"
    }
   ],
   "source": [
    "x_expanded = np.hstack((x**i for i in range(1,20)))\n",
    "\n",
    "b, residuals, rank, s = np.linalg.lstsq(x_expanded, y)\n",
    "print(b)\n",
    "\n",
    "plt.plot(x, y, 'ko', label='True values')\n",
    "plt.plot(x, np.dot(x_expanded, b), 'ro', label='Predictions')\n",
    "plt.legend(numpoints=1, loc=4)\n",
    "plt.show()"
   ]
  },
  {
   "cell_type": "markdown",
   "metadata": {},
   "source": [
    "There is a tradeoff with model complexity. As we add more complexity to our model we can fit our training data increasingly well but eventually will lose our ability to generalize to new data.\n",
    "\n",
    "Very simple models __underfit__ the data and have high __bias__.\n",
    "\n",
    "Very complex models __overfit__ the data and have high __variance__.\n",
    "\n",
    "The goal is to detect true sources of variation in the data and ignore variation that is just noise.\n",
    "\n",
    "How do we know if we have a good model? A common approach is to break up our data into a training set, a validation set, and a test set. \n",
    "\n",
    "* We train models with different parameters on the training set.\n",
    "* We evaluate each model on the validation set, and choose the best\n",
    "* We then measure the performance of our best model on the test set.\n",
    "\n",
    "__What would our best model look like?__ Because we are using dummy data here we can easily make more."
   ]
  },
  {
   "cell_type": "code",
   "execution_count": 171,
   "metadata": {
    "collapsed": false
   },
   "outputs": [
    {
     "data": {
      "image/png": "[encoded data removed]",
      "text/plain": [
       "<matplotlib.figure.Figure at 0x20048d64048>"
      ]
     },
     "metadata": {},
     "output_type": "display_data"
    }
   ],
   "source": [
    "n = 20\n",
    "p = 12\n",
    "training = []\n",
    "val = []\n",
    "for i in range(1, p):\n",
    "    np.random.seed(0)\n",
    "    x = np.random.random((n,1))\n",
    "    y = 5 + 6 * x ** 2 + np.random.normal(0,0.5, size=(n,1))\n",
    "    x = np.hstack((x**j for j in np.arange(i)))\n",
    "    our_coeff = np.dot(\n",
    "                np.dot(\n",
    "                    np.linalg.inv(\n",
    "                        np.dot(\n",
    "                            x.T, x\n",
    "                        )\n",
    "                    ), x.T\n",
    "                ), y\n",
    "            )\n",
    "    our_predictions = np.dot(x, our_coeff)\n",
    "    our_training_rss = np.sum((y - our_predictions) ** 2)\n",
    "    training.append(our_training_rss)\n",
    "    \n",
    "    val_x = np.random.random((n,1))\n",
    "    val_y = 5 + 6 * val_x ** 2 + np.random.normal(0,0.5, size=(n,1))\n",
    "    val_x = np.hstack((val_x**j for j in np.arange(i)))\n",
    "    our_val_pred = np.dot(val_x, our_coeff)\n",
    "    our_val_rss = np.sum((val_y - our_val_pred) ** 2)\n",
    "    val.append(our_val_rss)\n",
    "    #print(i, our_training_rss, our_val_rss)\n",
    "\n",
    "plt.plot(range(1, p), training, 'ko-', label='training')\n",
    "plt.plot(range(1, p), val, 'ro-', label='validation')\n",
    "plt.legend(loc=2)\n",
    "plt.show()"
   ]
  },
  {
   "cell_type": "markdown",
   "metadata": {},
   "source": [
    "## Gradient descent\n",
    "\n",
    "One limitation of our current implementation is that it is resource intensive. For very large datasets an alternative is needed. Gradient descent is often preferred, and particularly stochastic gradient descent for very large datasets.\n",
    "\n",
    "Gradient descent is an iterative process, repetitively calculating the error and changing the coefficients slightly to reduce that error. It does this by calculating a gradient and then descending to a minimum in small steps.\n",
    "\n",
    "Stochastic gradient descent calculates the gradient on a small batch of the data, updates the coefficients, loads the next chunk of the data and repeats the process.\n",
    "\n",
    "We will just look at a basic gradient descent model."
   ]
  },
  {
   "cell_type": "code",
   "execution_count": 172,
   "metadata": {
    "collapsed": false
   },
   "outputs": [
    {
     "name": "stdout",
     "output_type": "stream",
     "text": [
      "lstsq [[ 4.07959732]\n",
      " [ 5.69608619]]\n",
      "[[ 4.08212025]\n",
      " [ 5.69136537]] [10215.151832573791, 151.49738175162241, 120.99886225509709, 104.87099032951339, 96.334352755009746, 91.815828439379132, 89.424130090614341, 88.158181167489815, 87.488102235174722, 87.13342301602863, 86.945687896436965, 86.846317893274772, 86.793720395534692, 86.765880034455108, 86.751143863756042, 86.743343866972538, 86.739215253707584, 86.737029939025462, 86.735873230960678, 86.735260974264634]\n"
     ]
    }
   ],
   "source": [
    "np.random.seed(0)\n",
    "n = 200\n",
    "x = np.random.random((n,1))\n",
    "y = 5 + 6 * x ** 2 + np.random.normal(0,0.5, size=(n,1))\n",
    "intercept_x = np.hstack((np.ones((n,1)), x))\n",
    "coeff, residuals, rank, sing_vals = np.linalg.lstsq(intercept_x,y)\n",
    "print('lstsq', coeff)\n",
    "\n",
    "\n",
    "\n",
    "def gradient_descent(x, y, rounds = 1000, alpha=0.01):\n",
    "    theta = np.zeros((x.shape[1], 1))\n",
    "    costs = []\n",
    "    for i in range(rounds):\n",
    "        prediction = np.dot(x, theta)\n",
    "        error = prediction - y\n",
    "        gradient = np.dot(x.T, error / y.shape[0])\n",
    "        theta -= gradient * alpha\n",
    "        costs.append(np.sum(error ** 2))\n",
    "    return (theta, costs) \n",
    "theta, costs = gradient_descent(intercept_x, y, rounds=10000)\n",
    "print(theta, costs[::500])"
   ]
  },
  {
   "cell_type": "code",
   "execution_count": 173,
   "metadata": {
    "collapsed": false
   },
   "outputs": [
    {
     "name": "stdout",
     "output_type": "stream",
     "text": [
      "lstsq [[  5.47554054e+00]\n",
      " [ -2.39855397e+01]\n",
      " [ -2.16608732e+03]\n",
      " [  1.83443739e+05]\n",
      " [ -5.27245313e+06]\n",
      " [  8.26516683e+07]\n",
      " [ -8.23118154e+08]\n",
      " [  5.62639497e+09]\n",
      " [ -2.76438408e+10]\n",
      " [  1.00543636e+11]\n",
      " [ -2.75843668e+11]\n",
      " [  5.77141231e+11]\n",
      " [ -9.24891464e+11]\n",
      " [  1.13282985e+12]\n",
      " [ -1.05057010e+12]\n",
      " [  7.23919989e+11]\n",
      " [ -3.58600661e+11]\n",
      " [  1.20492881e+11]\n",
      " [ -2.45402172e+10]\n",
      " [  2.28151842e+09]]\n",
      "[[ 4.79516406]\n",
      " [ 2.15892204]\n",
      " [ 1.59022686]\n",
      " [ 1.12552832]\n",
      " [ 0.76583482]\n",
      " [ 0.50446167]\n",
      " [ 0.31909476]\n",
      " [ 0.18845052]\n",
      " [ 0.09618612]\n",
      " [ 0.0306512 ]\n",
      " [-0.01621254]\n",
      " [-0.04991523]\n",
      " [-0.07421911]\n",
      " [-0.09170582]\n",
      " [-0.10416419]\n",
      " [-0.11285053]\n",
      " [-0.11866168]\n",
      " [-0.12224985]\n",
      " [-0.1240988 ]\n",
      " [-0.12457462]] [10215.151832573791, 54.942826326885879, 49.019636887639798, 48.508526705309478, 48.258178349345279, 48.117210951931447, 48.030663705920169, 47.971678161563304, 47.927021249546534, 47.890143189067288, 47.857775390826845, 47.828262392661784, 47.800743812843862, 47.77475299941122, 47.750019966197222, 47.726374493746306, 47.70369835417678, 47.681901638557513, 47.660910919846714, 47.640663236621648]\n"
     ]
    },
    {
     "data": {
      "image/png": "[encoded data removed]",
      "text/plain": [
       "<matplotlib.figure.Figure at 0x2004a13f668>"
      ]
     },
     "metadata": {},
     "output_type": "display_data"
    }
   ],
   "source": [
    "np.random.seed(0)\n",
    "n = 200\n",
    "\n",
    "x = np.random.random((n,1))\n",
    "y = 5 + 6 * x ** 2 + np.random.normal(0,0.5, size=(n,1))\n",
    "x = np.hstack((x**j for j in np.arange(20)))\n",
    "\n",
    "coeff, residuals, rank, sing_vals = np.linalg.lstsq(x,y)\n",
    "print('lstsq', coeff)\n",
    "\n",
    "theta, costs = gradient_descent(x, y, rounds=10000)\n",
    "print(theta, costs[::500])\n",
    "\n",
    "plt.plot(x[:,1], y, 'ko')\n",
    "plt.plot(x[:,1], np.dot(x, coeff), 'co')\n",
    "plt.plot(x[:,1], np.dot(x, theta), 'ro')\n",
    "plt.show()"
   ]
  },
  {
   "cell_type": "markdown",
   "metadata": {},
   "source": [
    "## Machine learning packages available in the python ecosystem"
   ]
  },
  {
   "cell_type": "markdown",
   "metadata": {},
   "source": [
    "[Overview in the python wiki](https://wiki.python.org/moin/PythonForArtificialIntelligence)\n",
    "\n",
    "General\n",
    "* [scikit-learn](http://scikit-learn.org/stable/)\n",
    "* [milk](https://pythonhosted.org/milk/)\n",
    "* [Orange](http://orange.biolab.si/)\n",
    "* [Shogun](http://www.shogun-toolbox.org/)\n",
    "* [GraphLab Create (dato)](https://dato.com/learn/userguide/)\n",
    "\n",
    "There is a collection of field specific packages including some with machine learning components on the [scipy website](http://www.scipy.org/topical-software.html#science-basic-tools). Other packages can often be found searching the [python package index](https://pypi.python.org/pypi).\n",
    "\n",
    "\n",
    "Deep learning is receiving a lot of attention recently and a number of different packages have been developed.\n",
    "* [Theano](http://www.deeplearning.net/software/theano/)\n",
    "* [pylearn2](http://deeplearning.net/software/pylearn2/)\n",
    "* [keras](http://keras.io/)\n",
    "* [Blocks](http://blocks.readthedocs.org/en/latest/)\n",
    "* [Lasagne](http://lasagne.readthedocs.org/en/latest/)"
   ]
  },
  {
   "cell_type": "markdown",
   "metadata": {},
   "source": [
    "## Scikit-learn\n",
    "\n",
    "Scikit-learn is now widely used. It includes modules for:\n",
    "* Classification\n",
    "* Regression\n",
    "* Clustering\n",
    "* Dimensionality reduction\n",
    "* Model selection\n",
    "* Preprocessing\n",
    "\n",
    "There are modules for training online models, enabling very large datasets to be analyzed.\n",
    "\n",
    "There is also a semi-supervised module for situations when you have a large dataset, but only have labels for part of the dataset.\n",
    "\n",
    "## Milk\n",
    "\n",
    "Milk works very well with mahotas, a package for image processing. With the recent improvements in scikit-image milk is now less attractive, although still a strong option\n",
    "\n",
    "## Orange and Shogun\n",
    "\n",
    "These are both large packages but for whatever reason do not receive the attention that scikit-learn does.\n",
    "\n",
    "## Dato\n",
    "\n",
    "Dato is a relative newcomer and has been receiving a lot of attention lately. Time will tell whether it can compete with scikit-learn."
   ]
  },
  {
   "cell_type": "markdown",
   "metadata": {},
   "source": [
    "# Assignments\n",
    "\n",
    "This week we will continue working on our project ideas. As you develop the outline some points you may want to consider:\n",
    "\n",
    "For projects developing the object oriented programming component of the course:\n",
    "\n",
    "* What will your classes be?\n",
    "* What will each class have as attributes and methods?\n",
    "* How will your classes interact?\n",
    "\n",
    "For projects developing GUIs or web applications:\n",
    "\n",
    "* What will your screens/pages be?\n",
    "* What components will each page need?\n",
    "* How will you store any data needed/produced?\n",
    "\n",
    "For projects developing machine learning models:\n",
    "\n",
    "* What will be your data?\n",
    "* How is your data structured?\n",
    "* How much data do you have?\n",
    "* Is your data labeled?\n",
    "* What type of machine learning task is it?\n",
    "* How good would the performance need to be for the model to be useful?\n",
    "\n",
    "You do not need to answer all these questions. Each answer does not need to be complete. Your final project will likely be different to your initial idea.\n",
    "\n",
    "The goal of the project description is to document your project as you currently envision it and to encourage planning for the earliest stage.\n",
    "\n",
    "__Your project descriptions should be sent to me by our class next week.__"
   ]
  },
  {
   "cell_type": "code",
   "execution_count": null,
   "metadata": {
    "collapsed": true
   },
   "outputs": [],
   "source": []
  }
 ],
 "metadata": {
  "kernelspec": {
   "display_name": "Python 3",
   "language": "python",
   "name": "python3"
  },
  "language_info": {
   "codemirror_mode": {
    "name": "ipython",
    "version": 3
   },
   "file_extension": ".py",
   "mimetype": "text/x-python",
   "name": "python",
   "nbconvert_exporter": "python",
   "pygments_lexer": "ipython3",
   "version": "3.5.1"
  }
 },
 "nbformat": 4,
 "nbformat_minor": 0
}
