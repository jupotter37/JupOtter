{
 "cells": [
  {
   "cell_type": "markdown",
   "metadata": {},
   "source": [
    "### Variables\n",
    "- Variables must be initialized by running an `init` Op after having launched the graph.   - We first have to add the `init` Op to the graph."
   ]
  },
  {
   "cell_type": "code",
   "execution_count": 2,
   "metadata": {
    "collapsed": true
   },
   "outputs": [],
   "source": [
    "import tensorflow as tf"
   ]
  },
  {
   "cell_type": "code",
   "execution_count": 3,
   "metadata": {
    "collapsed": false
   },
   "outputs": [
    {
     "name": "stdout",
     "output_type": "stream",
     "text": [
      "0\n",
      "Tensor(\"Add:0\", shape=(), dtype=int32)\n",
      "Tensor(\"Assign:0\", shape=(), dtype=int32_ref)\n",
      "1\n"
     ]
    }
   ],
   "source": [
    "# creating a variable : Note we gave an initialization value\n",
    "state = tf.Variable(0,name = \"counter\")\n",
    "one = tf.constant(1)\n",
    "incr = tf.add(state,one)\n",
    "\n",
    "# state = state + one produces error\n",
    "\n",
    "update = tf.assign(state,incr)\n",
    "\n",
    "# the initialization operation\n",
    "init_op = tf.initialize_all_variables()\n",
    "\n",
    "with tf.Session() as sess:\n",
    "    # print(sess.run(state)) ERROR\n",
    "    sess.run(init_op)   # initialized my variables\n",
    "    print(sess.run(state))\n",
    "    sess.run(incr)\n",
    "    print(incr)\n",
    "    sess.run(update)\n",
    "    print(update)\n",
    "    print(sess.run(state))"
   ]
  },
  {
   "cell_type": "markdown",
   "metadata": {},
   "source": [
    "## Custom Initialization\n",
    "\n",
    "The convenience function tf.initialize_all_variables() adds an op to initialize all variables in the model. You can also pass it an explicit list of variables to initialize. See the Variables Documentation for more options, including checking if variables are initialized."
   ]
  },
  {
   "cell_type": "markdown",
   "metadata": {},
   "source": [
    "## Initialization from another Variable\n",
    "\n",
    "You sometimes need to initialize a variable from the initial value of another variable. As the op added by tf.initialize_all_variables() initializes all variables in parallel you have to be careful when this is needed.\n",
    "\n",
    "To initialize a new variable from the value of another variable use the other variable's initialized_value() property. You can use the initialized value directly as the initial value for the new variable, or you can use it as any other tensor to compute a value for the new variable."
   ]
  },
  {
   "cell_type": "code",
   "execution_count": 4,
   "metadata": {
    "collapsed": false
   },
   "outputs": [
    {
     "name": "stdout",
     "output_type": "stream",
     "text": [
      "[[ 0.38019025  0.66199875 -1.05253553]\n",
      " [-1.04309237 -0.29391313  0.01105313]\n",
      " [-1.87257981  0.22100802  0.06594836]]\n",
      "[[-0.00422788]\n",
      " [-0.49569464]\n",
      " [ 0.12291121]]\n",
      "[[ 0.38019025  0.66199875 -1.05253553]\n",
      " [-1.04309237 -0.29391313  0.01105313]\n",
      " [-1.87257981  0.22100802  0.06594836]]\n",
      "[[-0.00845575]\n",
      " [-0.99138927]\n",
      " [ 0.24582243]]\n"
     ]
    }
   ],
   "source": [
    "weights = tf.Variable(tf.random_normal(shape = (3,3),mean = 0,stddev = 1.0),name = \"weights\")\n",
    "biases = tf.Variable(tf.random_uniform(shape = (3,1),minval = -1,maxval = 1),name = \"biases\")\n",
    "\n",
    "w2 = tf.Variable(weights.initialized_value(),name = \"w2\")\n",
    "b2 = tf.Variable(biases.initialized_value()*2,name = \"b2\")\n",
    "\n",
    "# init_op1 = tf.initialize_all_variables([weights])\n",
    "# init_op2 = tf.initialize_all_variables([biases])  DIDN'T WORK\n",
    "# init_op3 = tf.initialize_all_variables([w2,b2])\n",
    "\n",
    "init = tf.initialize_all_variables()\n",
    "\n",
    "with tf.Session() as sess:\n",
    "    # sess.run(init_op1)\n",
    "    # sess.run(inti_op2)\n",
    "    # sess.run(init_op3)\n",
    "    sess.run(init)\n",
    "    \n",
    "    print(sess.run(weights))\n",
    "    print(sess.run(biases))\n",
    "    print(sess.run(w2))\n",
    "    print(sess.run(b2))"
   ]
  },
  {
   "cell_type": "code",
   "execution_count": 8,
   "metadata": {
    "collapsed": false
   },
   "outputs": [
    {
     "name": "stdout",
     "output_type": "stream",
     "text": [
      "40\n"
     ]
    }
   ],
   "source": [
    "x = tf.constant(35,name = 'x')\n",
    "y = tf.Variable(x+5,name = 'y')\n",
    "\n",
    "with tf.Session() as sess:\n",
    "    # sess.run(x)           # NO NEED TO INITIALIZE OR RUN A CONSTANT\n",
    "    sess.run(y.initializer)\n",
    "    print(sess.run(y))"
   ]
  },
  {
   "cell_type": "code",
   "execution_count": 10,
   "metadata": {
    "collapsed": false
   },
   "outputs": [
    {
     "name": "stdout",
     "output_type": "stream",
     "text": [
      "[6 7 8]\n"
     ]
    }
   ],
   "source": [
    "x = tf.constant([1,2,3])\n",
    "y = tf.Variable(x+5)\n",
    "\n",
    "with tf.Session() as sess:\n",
    "    sess.run(y.initializer)\n",
    "    print(sess.run(y))"
   ]
  },
  {
   "cell_type": "code",
   "execution_count": 12,
   "metadata": {
    "collapsed": false
   },
   "outputs": [
    {
     "name": "stdout",
     "output_type": "stream",
     "text": [
      "[1 2 3]\n"
     ]
    }
   ],
   "source": [
    "with tf.Session() as sess:\n",
    "    print(x.eval())"
   ]
  },
  {
   "cell_type": "markdown",
   "metadata": {},
   "source": [
    "## Placeholders\n",
    "\n",
    "- don't use eval()\n",
    "- data need to be fed to them\n",
    "- used for taking input and output, ie don't change during the course of learning"
   ]
  },
  {
   "cell_type": "markdown",
   "metadata": {},
   "source": [
    "### Feeding\n",
    "\n",
    "- TensorFlow's feed mechanism lets you inject data into any Tensor in a computation graph. A python computation can thus feed data directly into the graph.\n",
    "\n",
    "- Supply feed data through the feed_dict argument to a run() or eval() call that initiates  computation.\n",
    "\n",
    "with tf.Session():\n",
    "  input = tf.placeholder(tf.float32)\n",
    "  classifier = ...\n",
    "  print(classifier.eval(feed_dict={input: my_python_preprocessing_fn()}))\n",
    "\n",
    "- While you can replace any Tensor with feed data, including variables and constants, the best practice is to use a placeholder op node. A placeholder exists solely to serve as the target of feeds. It is not initialized and contains no data. A placeholder generates an error if it is executed without a feed, so you won't forget to feed it."
   ]
  },
  {
   "cell_type": "code",
   "execution_count": 14,
   "metadata": {
    "collapsed": false
   },
   "outputs": [
    {
     "name": "stdout",
     "output_type": "stream",
     "text": [
      "[[ 1.36074042  0.25870848  0.74567944]\n",
      " [ 2.01679397  0.41987088  1.10313272]\n",
      " [ 1.24884903  0.21098296  0.87478375]]\n"
     ]
    }
   ],
   "source": [
    "import numpy as np\n",
    "\n",
    "x = tf.placeholder(tf.float32,shape = (3,3),name = \"x\")\n",
    "y = tf.matmul(x,x)\n",
    "\n",
    "with tf.Session() as sess:\n",
    "    rnd = np.random.rand(3,3)\n",
    "    result = sess.run(y,feed_dict = {x:rnd})\n",
    "    print(result)"
   ]
  },
  {
   "cell_type": "code",
   "execution_count": null,
   "metadata": {
    "collapsed": true
   },
   "outputs": [],
   "source": [
    "# giving partial shapes\n",
    "\n",
    "x = tf.placeholder(\"float\",[None,3])   # while the num_rows can be any number, num_cols = 3"
   ]
  }
 ],
 "metadata": {
  "anaconda-cloud": {},
  "kernelspec": {
   "display_name": "Python [conda env:tf1.3]",
   "language": "python",
   "name": "conda-env-tf1.3-py"
  },
  "language_info": {
   "codemirror_mode": {
    "name": "ipython",
    "version": 3
   },
   "file_extension": ".py",
   "mimetype": "text/x-python",
   "name": "python",
   "nbconvert_exporter": "python",
   "pygments_lexer": "ipython3",
   "version": "3.5.2"
  }
 },
 "nbformat": 4,
 "nbformat_minor": 2
}
