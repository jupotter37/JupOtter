{
 "cells": [
  {
   "cell_type": "markdown",
   "metadata": {},
   "source": [
    "# RNN for pictures genaration\n",
    "This notebook is an experiment. I tryed to generate a picture line by line using an RNN.  \n",
    "I use the probability vector as a line of a greyscale picture.  \n",
    "__WIP__"
   ]
  },
  {
   "cell_type": "markdown",
   "metadata": {},
   "source": [
    "## Import needed for Jupiter"
   ]
  },
  {
   "cell_type": "code",
   "execution_count": 1,
   "metadata": {
    "collapsed": true
   },
   "outputs": [],
   "source": [
    "%matplotlib notebook\n",
    "import matplotlib\n",
    "import matplotlib.pyplot as plt\n",
    "\n",
    "from IPython.display import Image"
   ]
  },
  {
   "cell_type": "markdown",
   "metadata": {},
   "source": [
    "## Import needed for the code"
   ]
  },
  {
   "cell_type": "code",
   "execution_count": 2,
   "metadata": {
    "collapsed": false
   },
   "outputs": [],
   "source": [
    "import numpy as np\n",
    "import tensorflow as tf\n",
    "\n",
    "import fnmatch, os\n",
    "import time"
   ]
  },
  {
   "cell_type": "markdown",
   "metadata": {},
   "source": [
    "## A function to save a picture"
   ]
  },
  {
   "cell_type": "code",
   "execution_count": 3,
   "metadata": {
    "collapsed": true
   },
   "outputs": [],
   "source": [
    "#need to be called within a session\n",
    "def write_png(tensor, name):\n",
    "    casted_to_uint8 = tf.cast(tensor, tf.uint8)\n",
    "    converted_to_png = tf.image.encode_png(casted_to_uint8)\n",
    "    f = open(name, \"wb+\")\n",
    "    f.write(converted_to_png.eval())\n",
    "    f.close() "
   ]
  },
  {
   "cell_type": "markdown",
   "metadata": {
    "collapsed": true
   },
   "source": [
    "## A class to define all args"
   ]
  },
  {
   "cell_type": "code",
   "execution_count": 5,
   "metadata": {
    "collapsed": false
   },
   "outputs": [],
   "source": [
    "class Args():\n",
    "    def __init__(self):\n",
    "        '''directory to store checkpointed models'''\n",
    "        self.save_dir = 'save_face_training_dada'\n",
    "        \n",
    "        '''Picture size'''\n",
    "        self.picture_size = 64\n",
    "    \n",
    "        '''size of RNN hidden state'''\n",
    "        self.rnn_size = 150 \n",
    "        '''minibatch size'''\n",
    "        self.batch_size = 1\n",
    "        '''RNN sequence length'''\n",
    "        self.seq_length = self.picture_size\n",
    "        '''number of epochs'''\n",
    "        self.num_epochs = 1 # was 5\n",
    "        '''save frequency'''\n",
    "        self.save_every = 100 # was 500\n",
    "        '''Print frequency'''\n",
    "        self.print_every = 20\n",
    "        '''clip gradients at this value'''\n",
    "        self.grad_clip = 5.\n",
    "        '''learning rate'''\n",
    "        self.learning_rate = 0.002 # was 0.002\n",
    "        '''decay rate for rmsprop'''\n",
    "        self.decay_rate = 0.98\n",
    "        \"\"\"continue training from saved model at this path.\n",
    "        Path must contain files saved by previous training process: \"\"\"\n",
    "        self.init_from = 'save_face_training_0.1'\n",
    "        #self.init_from = None\n",
    "        \n",
    "        '''number of ligne to sample'''\n",
    "        self.n = 250\n"
   ]
  },
  {
   "cell_type": "code",
   "execution_count": 16,
   "metadata": {
    "collapsed": true
   },
   "outputs": [],
   "source": [
    "class FaceLoader:\n",
    "    def prepare_reading_faces(self):\n",
    "        self.matches = []\n",
    "    \n",
    "        for root, dirnames, filenames in os.walk('./dada/'):\n",
    "            #print filenames\n",
    "            for filename in fnmatch.filter(filenames, '*.jpg'):\n",
    "                self.matches.append(os.path.join(root, filename))\n",
    "\n",
    "        size = len(self.matches)\n",
    "\n",
    "        filenames = tf.constant(self.matches)\n",
    "        self.filename_queue = tf.train.string_input_producer(filenames)\n",
    "        self.image_reader = tf.WholeFileReader()\n",
    "        return size\n",
    "    \n",
    "    def do_when_session(self):   \n",
    "        # For some reason, we need a coordinator and some threads\n",
    "        self.coord = tf.train.Coordinator()\n",
    "        self.threads = tf.train.start_queue_runners(coord=self.coord)\n",
    "\n",
    "    def stop_reading_faces(self):\n",
    "        # Finish off the filename queue coordinator.\n",
    "        self.coord.request_stop()\n",
    "        self.coord.join(self.threads)\n",
    "          \n",
    "    def load_one_face(self, image_size):\n",
    "        # read and decode image, will give a uint8 with shape [250, 250, 1]\n",
    "        filename, image_file = self.image_reader.read(self.filename_queue)     \n",
    "        image = tf.image.decode_jpeg(image_file, channels=1)\n",
    "        #resize\n",
    "        image = tf.image.resize_images(image, image_size, image_size)\n",
    "\n",
    "        # remove channel dimension\n",
    "        tensor_uint8 = tf.squeeze(image, squeeze_dims=[2])\n",
    "\n",
    "        # convert to float32 and concat to all face\n",
    "        tensor = tf.cast(tensor_uint8, tf.float32)\n",
    "        a_vector_face = tensor/255\n",
    "        #a_vector_face = (tf.sign(tensor-128)+1)/2\n",
    "        #print a_vector_face.eval()[0][128]\n",
    "        a_bw_picture = a_vector_face*255\n",
    "        \n",
    "        #write_png(a_bw_picture, 'bw_face.png')\n",
    "        \n",
    "        # print some log\n",
    "        #print(filename.eval(),a_bw_picture.eval().shape)\n",
    "            \n",
    "        xdata = a_vector_face.eval()\n",
    "        ydata = np.copy(xdata)\n",
    "        ydata[:-1] = xdata[1:]\n",
    "        ydata[-1] = xdata[0]\n",
    "        self.x_batches = np.squeeze(np.split(xdata, image_size, 0))\n",
    "        self.y_batches = np.squeeze(np.split(ydata, image_size, 0))\n",
    "                \n",
    "    def next_batch(self):\n",
    "        return self.x_batches, self.y_batches"
   ]
  },
  {
   "cell_type": "code",
   "execution_count": 17,
   "metadata": {
    "collapsed": false
   },
   "outputs": [
    {
     "name": "stdout",
     "output_type": "stream",
     "text": [
      "[[ 0.15294118  0.16041666  0.16862746 ...,  0.23529412  0.23995098\n",
      "   0.23921569]\n",
      " [ 0.18357843  0.1949755   0.20563726 ...,  0.28688726  0.28909314\n",
      "   0.28909314]\n",
      " [ 0.22843137  0.24033394  0.23760723 ...,  0.33892465  0.34155944\n",
      "   0.34289217]\n",
      " ..., \n",
      " [ 0.47769609  0.52996707  0.41449907 ...,  0.81850493  0.82352942\n",
      "   0.8197304 ]\n",
      " [ 0.63259804  0.59728861  0.41959253 ...,  0.80428922  0.81946999\n",
      "   0.82256436]\n",
      " [ 0.67058825  0.6581763   0.47722119 ...,  0.79152495  0.79926473\n",
      "   0.81601948]] [[ 0.18357843  0.1949755   0.20563726 ...,  0.28688726  0.28909314\n",
      "   0.28909314]\n",
      " [ 0.22843137  0.24033394  0.23760723 ...,  0.33892465  0.34155944\n",
      "   0.34289217]\n",
      " [ 0.26164216  0.26811811  0.28615198 ...,  0.39950982  0.40735295\n",
      "   0.40735295]\n",
      " ..., \n",
      " [ 0.63259804  0.59728861  0.41959253 ...,  0.80428922  0.81946999\n",
      "   0.82256436]\n",
      " [ 0.67058825  0.6581763   0.47722119 ...,  0.79152495  0.79926473\n",
      "   0.81601948]\n",
      " [ 0.15294118  0.16041666  0.16862746 ...,  0.23529412  0.23995098\n",
      "   0.23921569]]\n"
     ]
    }
   ],
   "source": [
    "tf.reset_default_graph()\n",
    "faceloader = FaceLoader()\n",
    "face_count = faceloader.prepare_reading_faces()\n",
    "with tf.Session() as sess:\n",
    "    tf.initialize_all_variables().run()\n",
    "    faceloader.do_when_session()\n",
    "    faceloader.load_one_face(64)\n",
    "    x, y = faceloader.next_batch();\n",
    "    print x, y\n"
   ]
  },
  {
   "cell_type": "code",
   "execution_count": 10,
   "metadata": {
    "collapsed": false
   },
   "outputs": [],
   "source": [
    "class Model():\n",
    "    def __init__(self, args, infer=False):\n",
    "        self.args = args\n",
    "        if infer:\n",
    "            '''Infer is true when the model is used for sampling'''\n",
    "            args.seq_length = 1\n",
    "   \n",
    "        hidden_size = args.rnn_size\n",
    "        vector_size = args.picture_size\n",
    "        \n",
    "        # define place holder to for the input data and the target.\n",
    "        self.input_data = tf.placeholder(tf.float32, [ args.seq_length, vector_size], name='input_data')\n",
    "        self.target_data = tf.placeholder(tf.float32, [ args.seq_length, vector_size], name='target_data') \n",
    "        # define the input xs\n",
    "        xs = tf.split(0, args.seq_length, self.input_data)\n",
    "        # define the target\n",
    "        targets = tf.split(0, args.seq_length, self.target_data)  \n",
    "        #initial_state\n",
    "        self.initial_state = tf.zeros((hidden_size,1))\n",
    "        #last_state = tf.placeholder(tf.float32, (hidden_size, 1))\n",
    "        \n",
    "        # model parameters\n",
    "        Wxh = tf.Variable(tf.random_uniform((hidden_size, vector_size))*0.01, name='Wxh') # input to hidden\n",
    "        Whh = tf.Variable(tf.random_uniform((hidden_size, hidden_size))*0.01, name='Whh') # hidden to hidden\n",
    "        Why = tf.Variable(tf.random_uniform((vector_size, hidden_size))*0.01, name='Why') # hidden to output\n",
    "        bh = tf.Variable(tf.zeros((hidden_size, 1)), name='bh') # hidden bias\n",
    "        by = tf.Variable(tf.zeros((vector_size, 1)), name='by') # output bias\n",
    "        loss = tf.zeros([1], name='loss')\n",
    "        \n",
    "        hs, ys, ps = {}, {}, {}\n",
    "        \n",
    "        hs[-1] = self.initial_state\n",
    "        # forward pass                                                                                                                                                                              \n",
    "        for t in xrange(args.seq_length):\n",
    "            xs_t = tf.transpose(xs[t])\n",
    "            targets_t = tf.transpose(targets[t]) \n",
    "            \n",
    "            hs[t] = tf.sigmoid(tf.matmul(Wxh, xs_t) + tf.matmul(Whh, hs[t-1]) + bh) # hidden state\n",
    "            #hs[t] = tf.sigmoid(hs[t])\n",
    "            ys[t] = tf.matmul(Why, hs[t]) + by # unnormalized log probabilities for next line\n",
    "            ys[t] = tf.sigmoid(ys[t])\n",
    "            #ps[t] = tf.exp(ys[t]) / tf.reduce_sum(tf.exp(ys[t])) # probabilities for next chars\n",
    "            #ps[t] = (tf.sign(ys[t]-0.5)+1)/2\n",
    "            #loss += -tf.log(tf.reduce_sum(tf.abs(ps[t]-targets_t))+0.00000001) # softmax (cross-entropy loss)\n",
    "            loss += tf.reduce_sum(tf.abs(ys[t]-targets_t))\n",
    "\n",
    "        self.probs = ys[args.seq_length-1]\n",
    "        self.cost = loss / args.batch_size / args.seq_length\n",
    "        self.final_state = hs[args.seq_length-1]\n",
    "        self.lr = tf.Variable(0.0, trainable=False, name='learning_rate')\n",
    "        tvars = tf.trainable_variables()\n",
    "        grads, _ = tf.clip_by_global_norm(tf.gradients(self.cost, tvars),\n",
    "                args.grad_clip)\n",
    "        optimizer = tf.train.AdamOptimizer(self.lr)\n",
    "        self.train_op = optimizer.apply_gradients(zip(grads, tvars))\n",
    "\n",
    "    def sample(self, sess):\n",
    "        size = self.args.picture_size\n",
    "        picture_vect = np.zeros((size*10, size))\n",
    "        state = model.initial_state.eval()\n",
    "        x = np.random.random([1, size])\n",
    "        x = np.zeros([1, size])/2\n",
    "        #x = np.ones([1, size])\n",
    "        feed = {self.input_data: x, self.initial_state:state}\n",
    "        [probs, state] = sess.run([self.probs, self.final_state], feed)\n",
    "        for n in range(size*10):\n",
    "            if (n%200==0):\n",
    "                probs += np.random.random([size, 1])*3\n",
    "            line = np.transpose(probs)\n",
    "            feed = {self.input_data: line, self.initial_state:state}\n",
    "            [probs, state] = sess.run([self.probs, self.final_state], feed)\n",
    "            #print state\n",
    "            #state += np.random.random([args.rnn_size, 1])/1-0.5\n",
    "            \n",
    "            picture_vect[n] = np.squeeze(probs)  \n",
    "            picture = picture_vect*255\n",
    "        return tf.expand_dims(picture,2)\n",
    "    \n",
    "    def inspect(self, draw=False):\n",
    "        for var in tf.all_variables():\n",
    "            if var in tf.trainable_variables():\n",
    "                print ('t', var.name, var.eval().shape)\n",
    "                if draw:\n",
    "                    plt.figure(figsize=(1,1))\n",
    "                    plt.figimage(var.eval())\n",
    "                    plt.show()\n",
    "            else:\n",
    "                print ('nt', var.name, var.eval().shape)\n",
    "                \n",
    "        "
   ]
  },
  {
   "cell_type": "markdown",
   "metadata": {},
   "source": [
    "## Training"
   ]
  },
  {
   "cell_type": "code",
   "execution_count": null,
   "metadata": {
    "collapsed": false
   },
   "outputs": [],
   "source": [
    "tf.reset_default_graph()\n",
    "args = Args()\n",
    "model = Model(args)\n",
    "print (\"model created\")\n",
    "faceloader = FaceLoader()\n",
    "face_count = faceloader.prepare_reading_faces()\n",
    "print ('faces count', face_count)\n",
    "\n",
    "cost_optimisation = []\n",
    "\n",
    "with tf.Session() as sess:\n",
    "    tf.initialize_all_variables().run()\n",
    "    print (\"variable initialized\")\n",
    "    faceloader.do_when_session()\n",
    "    saver = tf.train.Saver(tf.all_variables())\n",
    "\n",
    "    # restore model\n",
    "    if args.init_from is not None:\n",
    "        ckpt = tf.train.get_checkpoint_state(args.init_from)\n",
    "        assert ckpt,\"No checkpoint found\"\n",
    "        assert ckpt.model_checkpoint_path,\"No model path found in checkpoint\"\n",
    "        saver.restore(sess, ckpt.model_checkpoint_path)\n",
    "        print (\"model restored\")\n",
    "    faceloader.load_one_face(args.picture_size)\n",
    "    for e in range(args.num_epochs):\n",
    "        faceloader.image_reader.reset()\n",
    "        sess.run(tf.assign(model.lr, args.learning_rate * (args.decay_rate ** e)))\n",
    "        state = model.initial_state.eval()\n",
    "        for b in range(face_count):\n",
    "            start = time.time()\n",
    "            # Get learning data\n",
    "            #faceloader.load_one_face(args.picture_size)\n",
    "            x, y = faceloader.next_batch()\n",
    "            # Create the structure for the learning data\n",
    "            feed = {model.input_data: x, model.target_data: y, model.initial_state: state}\n",
    "            # Run a session using train_op\n",
    "            [train_loss], state, _ = sess.run([model.cost, model.final_state, model.train_op], feed)\n",
    "            end = time.time()\n",
    "            if (e * face_count + b) % args.print_every == 0:\n",
    "                cost_optimisation.append(train_loss)\n",
    "                print(\"{}/{} (epoch {}), train_loss = {:.6f}, time/batch = {:.3f}\" \\\n",
    "                    .format(e * face_count + b,\n",
    "                            args.num_epochs * face_count,\n",
    "                            e, train_loss, end - start))\n",
    "            if (e * face_count + b) % args.save_every == 0:\n",
    "                checkpoint_path = os.path.join(args.save_dir, 'model.ckpt')\n",
    "                saver.save(sess, checkpoint_path, global_step = e * face_count + b)\n",
    "                print(\"model saved to {}\".format(checkpoint_path))\n",
    "                np.save('cost_0.1', cost_optimisation)\n"
   ]
  },
  {
   "cell_type": "code",
   "execution_count": null,
   "metadata": {
    "collapsed": false,
    "scrolled": true
   },
   "outputs": [],
   "source": [
    "cost_optimisation = np.load('cost_0.1.npy')\n",
    "plt.figure(figsize=(12,5))\n",
    "plt.plot(range(len(cost_optimisation)), cost_optimisation, label='cost')\n",
    "plt.legend()\n",
    "plt.show()"
   ]
  },
  {
   "cell_type": "code",
   "execution_count": null,
   "metadata": {
    "collapsed": false
   },
   "outputs": [],
   "source": [
    "tf.reset_default_graph()\n",
    "args = Args()\n",
    "model = Model(args, True)  # True to generate the model in sampling mode\n",
    "with tf.Session() as sess:\n",
    "    tf.initialize_all_variables().run()\n",
    "    saver = tf.train.Saver(tf.all_variables())\n",
    "    ckpt = tf.train.get_checkpoint_state(args.save_dir)\n",
    "    print (ckpt)\n",
    "    \n",
    "    model.inspect(draw=True)"
   ]
  },
  {
   "cell_type": "markdown",
   "metadata": {},
   "source": [
    "## sampling"
   ]
  },
  {
   "cell_type": "code",
   "execution_count": 11,
   "metadata": {
    "collapsed": false
   },
   "outputs": [
    {
     "name": "stdout",
     "output_type": "stream",
     "text": [
      "intialisation done\n",
      "model_checkpoint_path: \"save_face_training_0.1/model.ckpt-3600\"\n",
      "all_model_checkpoint_paths: \"save_face_training_0.1/model.ckpt-3200\"\n",
      "all_model_checkpoint_paths: \"save_face_training_0.1/model.ckpt-3300\"\n",
      "all_model_checkpoint_paths: \"save_face_training_0.1/model.ckpt-3400\"\n",
      "all_model_checkpoint_paths: \"save_face_training_0.1/model.ckpt-3500\"\n",
      "all_model_checkpoint_paths: \"save_face_training_0.1/model.ckpt-3600\"\n",
      "\n",
      "[ 126.20687619  127.40264922  130.23814827 ...,   10.12128985    9.90583286\n",
      "    8.83075655]\n"
     ]
    }
   ],
   "source": [
    "tf.reset_default_graph()\n",
    "args = Args()\n",
    "model = Model(args, infer=True)\n",
    "with tf.Session() as sess:\n",
    "    tf.initialize_all_variables().run()\n",
    "    print 'intialisation done'\n",
    "    saver = tf.train.Saver(tf.all_variables())\n",
    "    ckpt = tf.train.get_checkpoint_state(args.save_dir)\n",
    "    print (ckpt)\n",
    "    \n",
    "    if ckpt and ckpt.model_checkpoint_path:\n",
    "        saver.restore(sess, ckpt.model_checkpoint_path)\n",
    "        pict = model.sample(sess)\n",
    "        print(pict.eval().ravel())\n",
    "        write_png(pict, 'a_face_0.1.png')"
   ]
  },
  {
   "cell_type": "code",
   "execution_count": 12,
   "metadata": {
    "collapsed": false
   },
   "outputs": [
    {
     "data": {
      "image/png": "[encoded data removed]",
      "text/plain": [
       "<IPython.core.display.Image object>"
      ]
     },
     "execution_count": 12,
     "metadata": {},
     "output_type": "execute_result"
    }
   ],
   "source": [
    "Image(\"a_face_0.1.png\")"
   ]
  },
  {
   "cell_type": "markdown",
   "metadata": {},
   "source": [
    "Feedback welcome __@dh7net__"
   ]
  },
  {
   "cell_type": "code",
   "execution_count": null,
   "metadata": {
    "collapsed": true
   },
   "outputs": [],
   "source": []
  }
 ],
 "metadata": {
  "kernelspec": {
   "display_name": "Python 2",
   "language": "python",
   "name": "python2"
  },
  "language_info": {
   "codemirror_mode": {
    "name": "ipython",
    "version": 2
   },
   "file_extension": ".py",
   "mimetype": "text/x-python",
   "name": "python",
   "nbconvert_exporter": "python",
   "pygments_lexer": "ipython2",
   "version": "2.7.10"
  }
 },
 "nbformat": 4,
 "nbformat_minor": 0
}
