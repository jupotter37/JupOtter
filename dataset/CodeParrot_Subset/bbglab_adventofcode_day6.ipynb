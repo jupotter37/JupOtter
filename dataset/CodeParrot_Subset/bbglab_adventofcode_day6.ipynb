{
 "cells": [
  {
   "cell_type": "markdown",
   "metadata": {
    "collapsed": false
   },
   "source": [
    "# Chellenge 6\n",
    "\n",
    "## Challenge 6.1"
   ]
  },
  {
   "cell_type": "code",
   "execution_count": 1,
   "metadata": {
    "collapsed": true
   },
   "outputs": [],
   "source": [
    "myinput = '/home/fmuinos/projects/adventofcode/2016/ferran/inputs/input6.txt'"
   ]
  },
  {
   "cell_type": "code",
   "execution_count": 2,
   "metadata": {
    "collapsed": false
   },
   "outputs": [
    {
     "name": "stdout",
     "output_type": "stream",
     "text": [
      "598 inputs/input6.txt\r\n"
     ]
    }
   ],
   "source": [
    "! wc -l inputs/input6.txt"
   ]
  },
  {
   "cell_type": "code",
   "execution_count": 44,
   "metadata": {
    "collapsed": true
   },
   "outputs": [],
   "source": [
    "from collections import defaultdict\n",
    "\n",
    "def parse_freqs(path):\n",
    "    freq = defaultdict(lambda: defaultdict(int))\n",
    "    with open(path,'rt') as f:\n",
    "        for line in f:\n",
    "            message = line.rstrip()\n",
    "            for i in range(len(message)):\n",
    "                freq[i][message[i]] += 1\n",
    "    return freq\n",
    "\n",
    "def most_freq(freq_dict, most=True):\n",
    "    message = []\n",
    "    for ind in freq_dict:\n",
    "        freq_sort = iter(sorted(freq_dict[ind].items(), key=lambda i: i[1], reverse=most))\n",
    "        message.append(next(freq_sort)[0])\n",
    "    return ''.join(message)\n",
    "\n",
    "def unnoise(myinput, most=True):\n",
    "    freq = parse_freqs(myinput)\n",
    "    return most_freq(freq, most)"
   ]
  },
  {
   "cell_type": "code",
   "execution_count": 45,
   "metadata": {
    "collapsed": false
   },
   "outputs": [
    {
     "data": {
      "text/plain": [
       "'asvcbhvg'"
      ]
     },
     "execution_count": 45,
     "metadata": {},
     "output_type": "execute_result"
    }
   ],
   "source": [
    "unnoise(myinput)"
   ]
  },
  {
   "cell_type": "markdown",
   "metadata": {},
   "source": [
    "## Challenge 6.2"
   ]
  },
  {
   "cell_type": "code",
   "execution_count": 46,
   "metadata": {
    "collapsed": false
   },
   "outputs": [
    {
     "data": {
      "text/plain": [
       "'odqnikqv'"
      ]
     },
     "execution_count": 46,
     "metadata": {},
     "output_type": "execute_result"
    }
   ],
   "source": [
    "unnoise(myinput, most=False)"
   ]
  }
 ],
 "metadata": {
  "anaconda-cloud": {},
  "kernelspec": {
   "display_name": "Python [conda env:adventofcode]",
   "language": "python",
   "name": "conda-env-adventofcode-py"
  },
  "language_info": {
   "codemirror_mode": {
    "name": "ipython",
    "version": 3
   },
   "file_extension": ".py",
   "mimetype": "text/x-python",
   "name": "python",
   "nbconvert_exporter": "python",
   "pygments_lexer": "ipython3",
   "version": "3.5.2"
  }
 },
 "nbformat": 4,
 "nbformat_minor": 1
}
