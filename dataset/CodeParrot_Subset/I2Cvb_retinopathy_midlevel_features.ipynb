{
 "cells": [
  {
   "cell_type": "markdown",
   "metadata": {
    "collapsed": true
   },
   "source": [
    "#Mid-Level Feature Coding\n",
    "\n",
    "This work is a study to explore different types of Coodebooks and coding stregies for representing SD-OCT information applied to retinopathy. This work is an extension to explore some of the elementes encountered during the development of [this study](https://github.com/I2Cvb/oct-Report/blob/master/master.pdf).\n",
    "\n",
    "Some of the ideas here explored can be found in [Kouniusz et al., 2013](http://www3.ee.surrey.ac.uk/CVSSP/Publications/papers/Koniusz-CVIU-2012.pdf) and in this [seminar](https://speakerdeck.com/debaylo/bag-of-visual-words) given by Desire Sidibe.\n",
    "\n",
    "## Ideas\n",
    "\n",
    "###Useless words supression\n",
    "BoW comes from text analysis. Roughly speaking, the idea is to find **keywords** and then analyse them. Words like *and*, *the*, *for*, etc. don't a\n",
    "pport much therefore during TF-IDF, these words are eliminated and the keywords reminding are used for the analysis. At the original application of BoW to image retraival, image keypoints are extracted, these keypoints are described using some descriptor and those are used as keywords to build the visual dictionary. Therefore,TF-IDF study is not necessary since all the words belong to keypoints and thus they qualify as **keywords**. However, later applications take advantage of dense description of the images. In those cases we belive that the TF-IDF study to suppress visualwords present in all the classes shall be detected an eliminated of the dictionary, and yet *(up to our knowledge)* this sutdy is never carried out.\n",
    "\n",
    "###Dictionary class, clustering convergence, etc..\n",
    "Having the right size matters, no matter what they might say. \n",
    "\n",
    "##BoW formalization\n",
    "BoW can be defined as X~DA, where X is the raw representation of the image. Understanding raw as the image representation of the original space. D is the dictionary representation in this original space and A is the image representation using the dictionary D. In this manner feature to describe an image can be seen as f(A).\n",
    "\n",
    "The BoW formulation can be seen as a 4-steps process.\n",
    "    1. **Sampling strategy** to compute X. The feature space of X can be generated either only by keywords or in a dense extraction manner. *Look at TF-IDF*.\n",
    "    2. **Quantification** to hard-quantify the space of X. \n",
    "    3. **Coding** to determine A.\n",
    "    4. **Pooling** to determine the final descriptor f.\n",
    "    \n",
    " ##Experimental Set-up (or stuff to try, compare and then try to make sense out of it)\n",
    " \n",
    " Results combining all those configurations might be explored.\n",
    " \n",
    "     1. Sampling\n",
    "         1.1. Keypoints\n",
    "         1.2. No-Kp\n",
    "         1.3. No-Kp + TF-IDF\n",
    "         \n",
    "     2. Quantification\n",
    "         2.1. to take into account\n",
    "             2.1.1. Dictionary Size (num clusters, bandwidth, PCA info, etc)\n",
    "             2.1.2. K vs d\n",
    "                 2.1.2.1. K << d\n",
    "                 2.1.2.1. K <  d\n",
    "                 2.1.2.1. K ~  d                 \n",
    "                 2.1.2.1. K >  d                 \n",
    "                 2.1.2.1. K >> d                                 \n",
    "         2.2. Dictionary building strategy\n",
    "             2.2.1. Random\n",
    "             2.2.2. Clustering\n",
    "                 2.2.2.1 K-means\n",
    "                 2.2.2.2 heretical\n",
    "                 2.2.2.3 mean-shift\n",
    "             2.2.3. PCA\n",
    "             2.2.4. ICA\n",
    "             2.2.5. NMF\n",
    "             2.2.6. sparse\n",
    "    3. Coding\n",
    "        3.1. Hard coding (one sample is associated to one word)\n",
    "        3.2. Soft coding (i.e. distance to all words in the dictionary)\n",
    "        3.3. Soft coding bounded (only give a weight to the n closests words in the dictionary)\n",
    "        3.4. Sparse codign of A\n",
    "    4. Pooling\n",
    "        4.1. Histogram\n",
    "        4.2. Piramide\n",
    "        4.3. other...\n",
    "             \n",
    "\n"
   ]
  },
  {
   "cell_type": "code",
   "execution_count": null,
   "metadata": {
    "collapsed": true
   },
   "outputs": [],
   "source": []
  }
 ],
 "metadata": {
  "kernelspec": {
   "display_name": "Python 2",
   "language": "python",
   "name": "python2"
  },
  "language_info": {
   "codemirror_mode": {
    "name": "ipython",
    "version": 2
   },
   "file_extension": ".py",
   "mimetype": "text/x-python",
   "name": "python",
   "nbconvert_exporter": "python",
   "pygments_lexer": "ipython2",
   "version": "2.7.9"
  }
 },
 "nbformat": 4,
 "nbformat_minor": 0
}
