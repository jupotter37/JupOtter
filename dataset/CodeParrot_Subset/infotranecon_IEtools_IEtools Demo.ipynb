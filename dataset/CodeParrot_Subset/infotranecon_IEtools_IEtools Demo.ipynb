{
 "cells": [
  {
   "cell_type": "markdown",
   "metadata": {
    "collapsed": true
   },
   "source": [
    "This is a demo notebook of some of the features of IEtools.py.\n",
    "\n",
    "IEtools includes tools to read FRED economic data\n",
    "\n",
    "https://fred.stlouisfed.org/\n",
    "\n",
    "in either csv or xls formats. IEtools also includes tools for\n",
    "fitting information equilibrium parameters and constructing\n",
    "dynamic equilibrium models (see Dynamic Equilibrium Examples.ipynb).\n",
    "\n",
    "The basic information equilibrium condition between two variables\n",
    "A and B is given by\n",
    "\n",
    "p = dA/dB = k A/B\n",
    "\n",
    "with information transfer (IT) index k. In 'general equilibrium' \n",
    "(where A or B is not changing faster than the other), we have the \n",
    "solution\n",
    "\n",
    "A = a B^k\n",
    "\n",
    "or\n",
    "\n",
    "log(A) = k log(B) + c\n",
    "\n",
    "IEtools has a function to solve for these parameters. In the\n",
    "information equilibrium condition, p = dA/dB is the abstract price.\n",
    "In 'general equilibrium', we have\n",
    "\n",
    "p = k a B^(k-1)\n",
    "\n",
    "The continuously compounded growth rates of these variables are \n",
    "also related. If the growth rate of A is g_a, B is g_b, \n",
    "and p is g_p then:\n",
    "\n",
    "g_a = k g_b\n",
    "\n",
    "g_p = (k-1) g_b\n",
    "\n",
    "g_p = g_a - g_b\n",
    "\n",
    "This notebook shows some of these results for GDP and labor supply, \n",
    "showing Okun's law along the way.\n",
    "\n",
    "IEtools was tested using Python 3.6 as part of the Anaconda 4.4.0 \n",
    "package. All dependencies are included in Anaconda 4.4.0."
   ]
  },
  {
   "cell_type": "code",
   "execution_count": null,
   "metadata": {
    "collapsed": true
   },
   "outputs": [],
   "source": [
    "import numpy as np\n",
    "import IEtools\n",
    "import pylab as pl\n",
    "%pylab inline"
   ]
  },
  {
   "cell_type": "markdown",
   "metadata": {},
   "source": [
    "# Read in the files"
   ]
  },
  {
   "cell_type": "code",
   "execution_count": null,
   "metadata": {
    "collapsed": true
   },
   "outputs": [],
   "source": [
    "filename1='C:/econdata/GDP.xls'\n",
    "filename2='C:/econdata/PAYEMS.xls'\n",
    "filename3='C:/econdata/CPIAUCSL.xls'"
   ]
  },
  {
   "cell_type": "code",
   "execution_count": null,
   "metadata": {
    "collapsed": true
   },
   "outputs": [],
   "source": [
    "gdp = IEtools.FREDxlsRead(filename1)\n",
    "lab = IEtools.FREDxlsRead(filename2)\n",
    "cpi = IEtools.FREDxlsRead(filename3)"
   ]
  },
  {
   "cell_type": "markdown",
   "metadata": {},
   "source": [
    "Here's a plot of nominal GDP"
   ]
  },
  {
   "cell_type": "code",
   "execution_count": null,
   "metadata": {
    "collapsed": false
   },
   "outputs": [],
   "source": [
    "pl.plot(gdp['interp'].x,gdp['interp'](gdp['interp'].x))\n",
    "pl.ylabel(gdp['name']+' [G$]')\n",
    "pl.yscale('log')\n",
    "pl.show()"
   ]
  },
  {
   "cell_type": "markdown",
   "metadata": {},
   "source": [
    "And here is nominal GDP growth"
   ]
  },
  {
   "cell_type": "code",
   "execution_count": null,
   "metadata": {
    "collapsed": false
   },
   "outputs": [],
   "source": [
    "pl.plot(gdp['growth'].x,gdp['growth'](gdp['growth'].x))\n",
    "pl.ylabel(gdp['name']+' growth [%]')\n",
    "pl.show()"
   ]
  },
  {
   "cell_type": "markdown",
   "metadata": {},
   "source": [
    "# Fit information equilibrium parameters"
   ]
  },
  {
   "cell_type": "markdown",
   "metadata": {},
   "source": [
    "Here we take the information equilibrium model with A = nominal GDP, B = labor employed (PAYEMS), and p = CPI (all items). First we solve for the IT index and show the model. Note: this is a simple model with limited accuracy."
   ]
  },
  {
   "cell_type": "code",
   "execution_count": null,
   "metadata": {
    "collapsed": false
   },
   "outputs": [],
   "source": [
    "result = IEtools.fitGeneralInfoEq(gdp['data'],lab['data'], guess=[1.0,0.0])\n",
    "print(result)\n",
    "print('IT index = ',np.round(result.x[0],decimals=2))\n",
    "time=gdp['interp'].x\n",
    "pl.plot(time,np.exp(result.x[0]*np.log(lab['interp'](time))+result.x[1]),label='model')\n",
    "pl.plot(time,gdp['interp'](time),label='data')\n",
    "pl.yscale('log')\n",
    "pl.ylabel(gdp['name']+' [G$]')\n",
    "pl.legend()\n",
    "pl.show()"
   ]
  },
  {
   "cell_type": "markdown",
   "metadata": {},
   "source": [
    "And we can show the relationship between the growth rates (i.e. compute the inflation rate equal to the growth rate of the CPI)"
   ]
  },
  {
   "cell_type": "code",
   "execution_count": null,
   "metadata": {
    "collapsed": false
   },
   "outputs": [],
   "source": [
    "time=gdp['data'][:,0]\n",
    "\n",
    "der1=gdp['growth'](time)-lab['growth'](time)\n",
    "der2=cpi['growth'](time)\n",
    "pl.plot(time,der1,label='model')\n",
    "pl.plot(time,der2,label='data')\n",
    "pl.legend()\n",
    "pl.show()"
   ]
  },
  {
   "cell_type": "markdown",
   "metadata": {},
   "source": [
    "Additionally, rearranging the terms and looking at the growth rate, we can show a form of Okun's law. Since g_p = g_a - g_b, we can say g_b = g_a - g_p. The right hand side of the last equation when A is nominal GDP and p is the CPI is the CPI-deflated real GDP growth. Okun's law is an inverse relationship between the change in unemployment and RGDP growth, but in our case we will look at the direct relationship of RGDP growth and change in employment (PAYEMS)."
   ]
  },
  {
   "cell_type": "code",
   "execution_count": null,
   "metadata": {
    "collapsed": false
   },
   "outputs": [],
   "source": [
    "time=gdp['data'][:,0]\n",
    "\n",
    "der1=gdp['growth'](time)-cpi['growth'](time)\n",
    "der2=lab['growth'](time)\n",
    "pl.plot(time,der1,label='model')\n",
    "pl.plot(time,der2,label='data')\n",
    "pl.legend()\n",
    "pl.show()"
   ]
  },
  {
   "cell_type": "code",
   "execution_count": null,
   "metadata": {
    "collapsed": true
   },
   "outputs": [],
   "source": []
  }
 ],
 "metadata": {
  "kernelspec": {
   "display_name": "Python 3",
   "language": "python",
   "name": "python3"
  },
  "language_info": {
   "codemirror_mode": {
    "name": "ipython",
    "version": 3
   },
   "file_extension": ".py",
   "mimetype": "text/x-python",
   "name": "python",
   "nbconvert_exporter": "python",
   "pygments_lexer": "ipython3",
   "version": "3.6.0"
  }
 },
 "nbformat": 4,
 "nbformat_minor": 2
}
