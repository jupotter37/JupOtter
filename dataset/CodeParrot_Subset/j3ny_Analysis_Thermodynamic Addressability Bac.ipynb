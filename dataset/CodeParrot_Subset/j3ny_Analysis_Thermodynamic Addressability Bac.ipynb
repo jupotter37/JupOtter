{
 "cells": [
  {
   "cell_type": "code",
   "execution_count": 2,
   "metadata": {
    "collapsed": false
   },
   "outputs": [],
   "source": [
    "import json\n",
    "import math\n",
    "import bigfloat\n",
    "import numpy\n",
    "import pandas as pd\n",
    "import seaborn as sns\n",
    "import matplotlib.mlab as mlab\n",
    "import matplotlib.pyplot as plt\n",
    "from collections import OrderedDict\n",
    "\n",
    "import seaborn as sns\n",
    "sns.set_style(\"whitegrid\", {\"font.family\": \"DejaVu Sans\"})\n",
    "sns.set_context(\"poster\")\n",
    "\n",
    "from matplotlib import rc\n",
    "rc('font',**{'family':'sans-serif','sans-serif':['Helvetica']})\n",
    "## for Palatino and other serif fonts use:\n",
    "#rc('font',**{'family':'serif','serif':['Palatino']})\n",
    "rc('text', usetex=True)"
   ]
  },
  {
   "cell_type": "code",
   "execution_count": 8,
   "metadata": {
    "collapsed": false
   },
   "outputs": [],
   "source": [
    "    def read_data(filename, short=False):\n",
    "        json_data = open(filename, 'r').read()\n",
    "        raw_data = json.loads(json_data)\n",
    "        seq = []\n",
    "        seq_id = []\n",
    "        energy = []\n",
    "        for k1, v1 in raw_data.iteritems():\n",
    "            if k1 == \"name\":\n",
    "                continue\n",
    "            stp_i = int(k1)\n",
    "            staple = v1\n",
    "            #print str(stp_i) + ' ' + v1['staple_sequence']\n",
    "            for k2, v2 in staple.iteritems():\n",
    "                if not k2.isdigit():\n",
    "                    continue\n",
    "                arm_i = k2\n",
    "                arm = v2\n",
    "                #if short and len(arm['sequence']) > 8:\n",
    "                #    continue\n",
    "                dG = arm['dG']\n",
    "                min_dG = float(arm['min_dG'])\n",
    "                seq.append(arm['sequence'])\n",
    "                seq_id.append('stp_' + str(stp_i) + '_' + str(arm_i))\n",
    "                local_min = []\n",
    "                for i in range(len(dG)-1):\n",
    "                    if dG[i] < dG[i-1] and dG[i] <= dG[i+1]:\n",
    "                        local_min.append(float(dG[i]))\n",
    "                sorted_by_energy = sorted(local_min)\n",
    "                energy.append(numpy.array(sorted_by_energy))\n",
    "        return seq_id, seq, energy"
   ]
  },
  {
   "cell_type": "code",
   "execution_count": 8,
   "metadata": {
    "collapsed": false
   },
   "outputs": [],
   "source": [
    "def get_boltzmann_distribution(energy_by_arm):\n",
    "    R = 8.3144621  # gas constant\n",
    "    T = 293.15  # room temperature\n",
    "    factor = 4184.0  # joules_per_kcal\n",
    "    boltzmann_distribution = []\n",
    "    for dG in energy_by_arm:\n",
    "        ps = []\n",
    "        total = bigfloat.BigFloat(0)\n",
    "        for energy in dG:\n",
    "            p = bigfloat.exp((-energy*factor)/(R*T), bigfloat.precision(1000))\n",
    "            ps.append(p)\n",
    "            total = bigfloat.add(total, p)\n",
    "        normal_ps = []\n",
    "        for p in ps:\n",
    "            normal_ps.append(float(bigfloat.div(p,total)))\n",
    "        boltzmann_distribution.append(numpy.array(normal_ps))\n",
    "    return boltzmann_distribution"
   ]
  },
  {
   "cell_type": "code",
   "execution_count": 102,
   "metadata": {
    "collapsed": false
   },
   "outputs": [],
   "source": [
    "path = 'data/'\n",
    "filename_DB = 'DeBruijn_alpha.json'\n",
    "filename_pUC19 = 'pUC19_alpha.json'\n",
    "filename_M13 = 'M13_square.json'\n",
    "filename_DB7k = 'DB_7k_square.json'\n",
    "\n",
    "#ids, sequences, energies\n",
    "#_, _, energies_DB = read_data(path + filename_DB)\n",
    "#_, _, energies_pUC19 = read_data(path + filename_pUC19)\n",
    "#_, _, energies_M13 = read_data(path + filename_M13)\n",
    "\n",
    "_, _, energies_DB_short = read_data(path + filename_DB, short=True)\n",
    "_, _, energies_pUC19_short = read_data(path + filename_pUC19, short=True)\n",
    "_, _, energies_M13_short = read_data(path + filename_M13, short=True)\n",
    "_, _, energies_DB7k_short = read_data(path + filename_DB7k, short=True)\n",
    "\n",
    "#DB_dist_2 = get_boltzmann_distribution(d[:2] for d in energies_DB_short)\n",
    "#pUC19_dist_2 = get_boltzmann_distribution(d[:2] for d in energies_pUC19_short)\n",
    "#M13_dist_2 = get_boltzmann_distribution(d[:2] for d in energies_M13_short)\n",
    "\n",
    "#DB_dist_10 = get_boltzmann_distribution(d[:10] for d in energies_DB_short)\n",
    "#pUC19_dist_10 = get_boltzmann_distribution(d[:10] for d in energies_pUC19_short)\n",
    "#M13_dist_10 = get_boltzmann_distribution(d[:10] for d in energies_M13_short)\n",
    "\n",
    "#DB_dist_100 = get_boltzmann_distribution(d[:100] for d in energies_DB_short)\n",
    "#pUC19_dist_100 = get_boltzmann_distribution(d[:100] for d in energies_pUC19_short)\n",
    "#M13_dist_100 = get_boltzmann_distribution(d[:100] for d in energies_M13_short)\n",
    "\n",
    "DB_dist_all = get_boltzmann_distribution(d for d in energies_DB_short)\n",
    "pUC19_dist_all = get_boltzmann_distribution(d for d in energies_pUC19_short)\n",
    "M13_dist_all = get_boltzmann_distribution(d for d in energies_M13_short)\n",
    "DB7k_dist_all = get_boltzmann_distribution(d for d in energies_DB7k_short)\n",
    "\n",
    "#DB_dist = get_boltzmann_distribution(d[:100] for d in energies_DB_short)\n",
    "#pUC19_dist = get_boltzmann_distribution(d[:100] for d in energies_pUC19_short)\n",
    "#M13_dist = get_boltzmann_distribution(d[:100] for d in energies_M13_short)\n",
    "\n",
    "#DB_dist = get_boltzmann_distribution(energies_DB_short)\n",
    "#pUC19_dist = get_boltzmann_distribution(energies_pUC19_short)\n",
    "\n",
    "#dist = [d[0] for d in DB_dist]"
   ]
  },
  {
   "cell_type": "code",
   "execution_count": 6,
   "metadata": {
    "collapsed": false
   },
   "outputs": [],
   "source": [
    "def example_plot(ax, fontsize=12):\n",
    "     ax.plot([1, 2])\n",
    "     ax.locator_params(nbins=3)\n",
    "     ax.set_xlabel('x-label', fontsize=fontsize)\n",
    "     ax.set_ylabel('y-label', fontsize=fontsize)\n",
    "     ax.set_title('Title', fontsize=fontsize)"
   ]
  },
  {
   "cell_type": "code",
   "execution_count": 105,
   "metadata": {
    "collapsed": false
   },
   "outputs": [],
   "source": [
    "def distribution_plot(ax, data_label, data, xlabel, ylabel, fontsize=15):\n",
    "    bins = 20\n",
    "    x = numpy.zeros(bins)\n",
    "    for dist in data:\n",
    "        i = int(dist[0]*bins)\n",
    "        i = 0 if i < 0 else i\n",
    "        i = bins-1 if i > bins-1 else i\n",
    "        x[i] += 1\n",
    "    for i in range(len(x)):\n",
    "        x[i] = 1.0 * x[i] / len(data)\n",
    "    index = numpy.arange(0, bins)\n",
    "    ax.bar(index, x, bar_width, linewidth=0)\n",
    "    ax.set_xticks(numpy.arange(0, bins+1))\n",
    "    ax.set_xticklabels([('$' + str(i*0.05) + '$') if i % 2 == 0 else \"\" for i in range(0, bins+1)])\n",
    "    #ax.tick_params(axis='both', which='major')\n",
    "    \n",
    "    ylimit = 0.2 if ('6.9' in data_label or 'M13' in data_label) else 0.3\n",
    "    ax.set_xlim(0, bins)\n",
    "    ax.set_ylim(0, ylimit)\n",
    "    \n",
    "    ax.set_xlabel(xlabel, fontsize=20)\n",
    "    ax.set_ylabel(ylabel, fontsize=20)\n",
    "    ax.set_title(data_label, fontsize=20)\n",
    "    ax.legend()\n",
    "    "
   ]
  },
  {
   "cell_type": "code",
   "execution_count": 106,
   "metadata": {
    "collapsed": false
   },
   "outputs": [
    {
     "data": {
      "image/png": "[encoded data removed]",
      "text/plain": [
       "<matplotlib.figure.Figure at 0x7f813c5a5f90>"
      ]
     },
     "metadata": {},
     "output_type": "display_data"
    }
   ],
   "source": [
    "plt.close('all')\n",
    "\n",
    "fig, ((ax1, ax2), (ax3, ax4)) = plt.subplots(nrows=2, ncols=2)\n",
    "\n",
    "data_set = OrderedDict()\n",
    "data_set['pUC19 (all)'] = pUC19_dist_all\n",
    "data_set['DB (all)'] = DB_dist_all\n",
    "data_set['M13 (all)'] = M13_dist_all\n",
    "data_set['DB7k (all)'] = DB7k_dist_all\n",
    "\n",
    "xlabel = r'Specific binding probability'\n",
    "ylabel = r'Fraction of staples'\n",
    "\n",
    "distribution_plot(ax1, r'pUC19', pUC19_dist_all, '', ylabel)\n",
    "distribution_plot(ax2, r'DB (2.4 knt)', DB_dist_all, '', '')\n",
    "distribution_plot(ax3, r'M13', M13_dist_all, xlabel, ylabel)\n",
    "distribution_plot(ax4, r'DBS (6.9 knt)', DB7k_dist_all, xlabel, '')\n",
    "\n",
    "#%matplotlib inline\n",
    "\n",
    "fig.set_size_inches(10, 10)\n",
    "\n",
    "plt.tight_layout()\n",
    "plt.savefig(\"/home/j3ny/repos/analysis/Analysis/thermodynamic_addressability/output/addressability_comparison.pdf\",format='pdf',dpi=600)\n",
    "#plt.savefig(\"/home/j3ny/repos/analysis/Analysis/thermodynamic_addressability/output/addressability_comparison_long.pdf\",format='pdf',dpi=600)\n"
   ]
  },
  {
   "cell_type": "code",
   "execution_count": 43,
   "metadata": {
    "collapsed": false
   },
   "outputs": [
    {
     "data": {
      "image/png": "[encoded data removed]",
      "text/plain": [
       "<matplotlib.figure.Figure at 0x7f81375ac1d0>"
      ]
     },
     "metadata": {},
     "output_type": "display_data"
    }
   ],
   "source": [
    "fig, axes = plt.subplots(nrows=2, ncols=2)\n",
    "\n",
    "bar_width = 1.0\n",
    "\n",
    "data_set = OrderedDict()\n",
    "data_set['pUC19'] = pUC19_dist_all\n",
    "data_set['DBS (2.4 knt)'] = DB_dist_all\n",
    "data_set['M13'] = M13_dist_all\n",
    "data_set['DBS (6.9 knt)'] = DB7k_dist_all\n",
    "\n",
    "plt.close('all')\n",
    "fig = plt.figure()\n",
    "\n",
    "from mpl_toolkits.axes_grid1 import Grid\n",
    "grid = Grid(fig, rect=111, nrows_ncols=(2,2),\n",
    "            axes_pad=0.4, label_mode='O',\n",
    "            add_all = True,\n",
    "            )\n",
    "\n",
    "for ax, (data_label, data) in zip(grid, data_set.items()):\n",
    "    xlabel = 'Specific binding probability' if ('6.9' in data_label or 'M13' in data_label) else ''\n",
    "    ylabel = 'Fraction of staples'if ('pUC' in data_label or 'M13' in data_label) else ''\n",
    "    distribution_plot(ax, data_label, data, xlabel, ylabel)\n",
    "\n",
    "#axes[0,0].set_title('pUC19')\n",
    "    \n",
    "#grid[0].set_title('pUC19')\n",
    "#grid[0].set_ylabel('Fraction of staples', fontsize=15)\n",
    "#grid[1].set_title('DBS (2.4 knt)')\n",
    "\n",
    "#grid[2].set_title('M13')\n",
    "#grid[2].set_xlabel('Specific binding probability', fontsize=15)\n",
    "#grid[2].set_ylabel('Fraction of staples', fontsize=15)\n",
    "\n",
    "#grid[3].set_title('DBS (6.9 knt)')\n",
    "\n",
    "#axes[1].set_title('M13')\n",
    "#axes[2].set_title(r'$\\lambda$-phage')\n",
    "\n",
    "#fig.text(0.16, 0.92, 'pUC19', fontsize=15)\n",
    "#fig.text(0.6, 0.92, 'DBS (2.4 knt)', fontsize=15)\n",
    "\n",
    "#fig.text(0.16, 0.46, 'M13mp18', fontsize=15)\n",
    "#fig.text(0.6, 0.46, 'DBS (6.9 knt)', fontsize=15)\n",
    "\n",
    "fig.set_size_inches(6, 6)\n",
    "\n",
    "plt.tight_layout()\n",
    "plt.savefig(\"/home/j3ny/repos/analysis/Analysis/thermodynamic_addressability/output/addressability_comparison.pdf\",format='pdf',dpi=600)"
   ]
  },
  {
   "cell_type": "code",
   "execution_count": 44,
   "metadata": {
    "collapsed": false
   },
   "outputs": [
    {
     "ename": "TypeError",
     "evalue": "distribution_plot() takes at least 5 arguments (1 given)",
     "output_type": "error",
     "traceback": [
      "\u001b[1;31m---------------------------------------------------------------------------\u001b[0m",
      "\u001b[1;31mTypeError\u001b[0m                                 Traceback (most recent call last)",
      "\u001b[1;32m<ipython-input-44-a465f27404ef>\u001b[0m in \u001b[0;36m<module>\u001b[1;34m()\u001b[0m\n\u001b[0;32m     16\u001b[0m \u001b[1;33m\u001b[0m\u001b[0m\n\u001b[0;32m     17\u001b[0m \u001b[1;32mfor\u001b[0m \u001b[0max0\u001b[0m\u001b[1;33m,\u001b[0m \u001b[1;33m(\u001b[0m\u001b[0mdata_label\u001b[0m\u001b[1;33m,\u001b[0m \u001b[0mdata\u001b[0m\u001b[1;33m)\u001b[0m \u001b[1;32min\u001b[0m \u001b[0mzip\u001b[0m\u001b[1;33m(\u001b[0m\u001b[0maxes\u001b[0m\u001b[1;33m.\u001b[0m\u001b[0mflat\u001b[0m\u001b[1;33m,\u001b[0m \u001b[0mdata_set\u001b[0m\u001b[1;33m.\u001b[0m\u001b[0mitems\u001b[0m\u001b[1;33m(\u001b[0m\u001b[1;33m)\u001b[0m\u001b[1;33m)\u001b[0m\u001b[1;33m:\u001b[0m\u001b[1;33m\u001b[0m\u001b[0m\n\u001b[1;32m---> 18\u001b[1;33m     \u001b[0mdistribution_plot\u001b[0m\u001b[1;33m(\u001b[0m\u001b[0max0\u001b[0m\u001b[1;33m)\u001b[0m\u001b[1;33m\u001b[0m\u001b[0m\n\u001b[0m\u001b[0;32m     19\u001b[0m \u001b[1;33m\u001b[0m\u001b[0m\n\u001b[0;32m     20\u001b[0m \u001b[1;31m#fig.text(0.19, 0.96, 'De Bruijn', ha='center')\u001b[0m\u001b[1;33m\u001b[0m\u001b[1;33m\u001b[0m\u001b[0m\n",
      "\u001b[1;31mTypeError\u001b[0m: distribution_plot() takes at least 5 arguments (1 given)"
     ]
    },
    {
     "data": {
      "image/png": "[encoded data removed]",
      "text/plain": [
       "<matplotlib.figure.Figure at 0x7f81374819d0>"
      ]
     },
     "metadata": {},
     "output_type": "display_data"
    }
   ],
   "source": [
    "#######################\n",
    "##     OBSOLETE    ##\n",
    "#######################\n",
    "\n",
    "#%matplotlib inline\n",
    "\n",
    "fig, axes = plt.subplots(nrows=2, ncols=2)\n",
    "\n",
    "bar_width = 1.0\n",
    "\n",
    "data_set = OrderedDict()\n",
    "data_set['pUC19 (all)'] = pUC19_dist_all\n",
    "data_set['DB (all)'] = DB_dist_all\n",
    "data_set['M13 (all)'] = M13_dist_all\n",
    "data_set['DB7k (all)'] = DB7k_dist_all\n",
    "\n",
    "for ax0, (data_label, data) in zip(axes.flat, data_set.items()):\n",
    "    distribution_plot(ax0)\n",
    "\n",
    "#fig.text(0.19, 0.96, 'De Bruijn', ha='center')\n",
    "fig.text(0.3, 1, 'pUC19 (2.6 knt)', ha='center')\n",
    "fig.text(0.7, 1, 'DBS (2.4 knt)', ha='center')\n",
    "\n",
    "fig.text(0.5, 0.008, 'Specific binding probability', ha='center')\n",
    "fig.text(0.001, 0.5, 'Fraction of staples', va='center', rotation='vertical')\n",
    "\n",
    "fig.set_size_inches(7, 7)\n",
    "\n",
    "plt.tight_layout()\n",
    "plt.savefig(\"/home/j3ny/repos/analysis/Analysis/thermodynamic_addressability/output/addressability_comparison.pdf\",format='pdf',dpi=600)"
   ]
  },
  {
   "cell_type": "code",
   "execution_count": 20,
   "metadata": {
    "collapsed": false
   },
   "outputs": [],
   "source": [
    "## CONVERT DATA\n",
    "\n",
    "path = 'data/'\n",
    "filename_DB = 'DeBruijn_alpha.json'\n",
    "filename_pUC19 = 'pUC19_alpha.json'\n",
    "filename_M13 = 'M13_square.json'\n",
    "filename_DB7k = 'DB_7k_square.json'\n",
    "\n",
    "ids, sequences, energies = read_data(path + filename_DB7k, short=True)\n",
    "dist_all = get_boltzmann_distribution(d for d in energies)\n",
    "\n",
    "with open('data/DB_medium.csv', 'w') as out:\n",
    "    for i in range(len(ids)):\n",
    "        out.write(ids[i] + ',' + sequences[i] + ',')\n",
    "        out.write('%.3f' % dist_all[i][0])\n",
    "        out.write('\\n')\n",
    "    #print idsi], sequences[i], energies_DB_short[i], DB_dist_all[i]"
   ]
  }
 ],
 "metadata": {
  "kernelspec": {
   "display_name": "Python 2",
   "language": "python",
   "name": "python2"
  },
  "language_info": {
   "codemirror_mode": {
    "name": "ipython",
    "version": 2
   },
   "file_extension": ".py",
   "mimetype": "text/x-python",
   "name": "python",
   "nbconvert_exporter": "python",
   "pygments_lexer": "ipython2",
   "version": "2.7.5+"
  }
 },
 "nbformat": 4,
 "nbformat_minor": 0
}
