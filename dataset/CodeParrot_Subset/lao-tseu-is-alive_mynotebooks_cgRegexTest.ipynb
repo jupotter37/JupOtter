{
 "cells": [
  {
   "cell_type": "code",
   "execution_count": 3,
   "metadata": {
    "collapsed": false
   },
   "outputs": [],
   "source": [
    "from IPython.display import display,HTML\n",
    "import re\n",
    "patterns = ['école', 'château']\n",
    "text = \"\"\"l'école était située à quelques encablures du château de la patelière, \n",
    "qui n'avait pas son pareil en splendeur et authenticité dans la région\"\"\""
   ]
  },
  {
   "cell_type": "code",
   "execution_count": 4,
   "metadata": {
    "collapsed": false
   },
   "outputs": [
    {
     "data": {
      "text/html": [
       "Searching for [Ã©cole]<br>"
      ],
      "text/plain": [
       "<IPython.core.display.HTML object>"
      ]
     },
     "metadata": {},
     "output_type": "display_data"
    },
    {
     "data": {
      "text/html": [
       "l'<span style=\"background:yellow\">Ã©cole</span> Ã©tait situÃ©e Ã  quelques encablures du chÃ¢teau de la pateliÃ¨re, \n",
       "qui n'avait pas son pareil en splendeur et authenticitÃ© dans la rÃ©gion"
      ],
      "text/plain": [
       "<IPython.core.display.HTML object>"
      ]
     },
     "metadata": {},
     "output_type": "display_data"
    },
    {
     "data": {
      "text/html": [
       "Searching for [chÃ¢teau]<br>"
      ],
      "text/plain": [
       "<IPython.core.display.HTML object>"
      ]
     },
     "metadata": {},
     "output_type": "display_data"
    },
    {
     "data": {
      "text/html": [
       "l'Ã©cole Ã©tait situÃ©e Ã  quelques encablures du <span style=\"background:yellow\">chÃ¢teau</span> de la pateliÃ¨re, \n",
       "qui n'avait pas son pareil en splendeur et authenticitÃ© dans la rÃ©gion"
      ],
      "text/plain": [
       "<IPython.core.display.HTML object>"
      ]
     },
     "metadata": {},
     "output_type": "display_data"
    }
   ],
   "source": [
    "for pattern in patterns:\n",
    "    display(HTML(\"Searching for [{p}]<br>\".format(p=pattern)))\n",
    "    \n",
    "    match = re.search(pattern,  text)\n",
    "    #Check for match\n",
    "    if match:       \n",
    "        display(HTML(text[0:match.start()] + \n",
    "                     '<span style=\"background:yellow\">' + \n",
    "                     text[match.start():match.end()]  + \n",
    "                     '</span>' + text[match.end():] ))\n",
    "    else:        \n",
    "        display(HTML('<br>No Match was found.<br>'))"
   ]
  },
  {
   "cell_type": "code",
   "execution_count": 5,
   "metadata": {
    "collapsed": false
   },
   "outputs": [
    {
     "data": {
      "text/html": [
       "## find_regex::searching for [chÃ¢teau]<br>"
      ],
      "text/plain": [
       "<IPython.core.display.HTML object>"
      ]
     },
     "metadata": {},
     "output_type": "display_data"
    },
    {
     "data": {
      "text/html": [
       "<H4>FOUND IT at pos 50 to 58"
      ],
      "text/plain": [
       "<IPython.core.display.HTML object>"
      ]
     },
     "metadata": {},
     "output_type": "display_data"
    },
    {
     "data": {
      "text/html": [
       "l'Ã©cole Ã©tait situÃ©e Ã  quelques encablures du <span style=\"background:yellow\">chÃ¢teau</span> de la pateliÃ¨re, \n",
       "qui n'avait pas son pareil en splendeur et authenticitÃ© dans la rÃ©gion"
      ],
      "text/plain": [
       "<IPython.core.display.HTML object>"
      ]
     },
     "metadata": {},
     "output_type": "display_data"
    }
   ],
   "source": [
    "def find_regex(text,str_regex):\n",
    "    display(HTML(\"## find_regex::searching for [{p}]<br>\".format(p=str_regex)))\n",
    "    match = re.search(pattern,  text)\n",
    "    #Check for match\n",
    "    if match:\n",
    "        display(HTML(\"<H4>FOUND IT at pos {s} to {e}\".format(s=match.start(),e=match.end())))\n",
    "        display(HTML(text[0:match.start()] + \n",
    "                     '<span style=\"background:yellow\">' + \n",
    "                     text[match.start():match.end()]  + \n",
    "                     '</span>' + text[match.end():] ))\n",
    "    else:        \n",
    "        display(HTML('<br>-- No Match was found.<br>'))\n",
    "        \n",
    "        \n",
    "        \n",
    "find_regex(text,'château')   "
   ]
  },
  {
   "cell_type": "code",
   "execution_count": 7,
   "metadata": {
    "collapsed": false
   },
   "outputs": [
    {
     "data": {
      "text/plain": [
       "'ch\\xc3\\xa2teau'"
      ]
     },
     "execution_count": 7,
     "metadata": {},
     "output_type": "execute_result"
    }
   ],
   "source": [
    "text[50:58]"
   ]
  },
  {
   "cell_type": "code",
   "execution_count": null,
   "metadata": {
    "collapsed": true
   },
   "outputs": [],
   "source": []
  }
 ],
 "metadata": {
  "kernelspec": {
   "display_name": "Python 2",
   "language": "python",
   "name": "python2"
  },
  "language_info": {
   "codemirror_mode": {
    "name": "ipython",
    "version": 2
   },
   "file_extension": ".py",
   "mimetype": "text/x-python",
   "name": "python",
   "nbconvert_exporter": "python",
   "pygments_lexer": "ipython2",
   "version": "2.7.6"
  }
 },
 "nbformat": 4,
 "nbformat_minor": 0
}
