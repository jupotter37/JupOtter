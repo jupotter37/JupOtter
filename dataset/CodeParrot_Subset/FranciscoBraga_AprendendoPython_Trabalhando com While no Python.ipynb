{
 "cells": [
  {
   "cell_type": "code",
   "execution_count": 1,
   "metadata": {},
   "outputs": [
    {
     "name": "stdout",
     "output_type": "stream",
     "text": [
      "0\n",
      "1\n",
      "2\n",
      "3\n",
      "4\n",
      "5\n",
      "6\n",
      "7\n",
      "8\n",
      "9\n"
     ]
    }
   ],
   "source": [
    "#usando while para imprimir valores\n",
    "counter=0\n",
    "while counter < 10:\n",
    "    print(counter)\n",
    "    counter = counter +1"
   ]
  },
  {
   "cell_type": "markdown",
   "metadata": {},
   "source": [
    "Pass, Break e Continue"
   ]
  },
  {
   "cell_type": "code",
   "execution_count": 2,
   "metadata": {},
   "outputs": [
    {
     "name": "stdout",
     "output_type": "stream",
     "text": [
      "0\n",
      "1\n",
      "2\n",
      "3\n"
     ]
    }
   ],
   "source": [
    "contador = 0\n",
    "while contador < 100:\n",
    "    if contador ==4:\n",
    "        break\n",
    "    else:\n",
    "        pass\n",
    "    print(contador)\n",
    "    contador = contador+1\n"
   ]
  },
  {
   "cell_type": "code",
   "execution_count": 3,
   "metadata": {},
   "outputs": [
    {
     "name": "stdout",
     "output_type": "stream",
     "text": [
      "P\n",
      "y\n",
      "t\n",
      "o\n",
      "n\n"
     ]
    }
   ],
   "source": [
    "#não executando nenhuma ação com continue\n",
    "for verificador  in \"Python\":\n",
    "    if verificador == \"h\":\n",
    "        continue\n",
    "    print(verificador)\n",
    "    "
   ]
  },
  {
   "cell_type": "markdown",
   "metadata": {},
   "source": [
    "while e for juntos"
   ]
  },
  {
   "cell_type": "code",
   "execution_count": 4,
   "metadata": {},
   "outputs": [
    {
     "name": "stdout",
     "output_type": "stream",
     "text": [
      "2é um número primo\n",
      "3é um número primo\n",
      "4é um número primo\n",
      "5é um número primo\n",
      "6é um número primo\n",
      "7é um número primo\n",
      "8é um número primo\n",
      "9é um número primo\n",
      "10é um número primo\n",
      "11é um número primo\n",
      "12é um número primo\n",
      "13é um número primo\n",
      "14é um número primo\n",
      "15é um número primo\n",
      "16é um número primo\n",
      "17é um número primo\n",
      "18é um número primo\n",
      "19é um número primo\n",
      "20é um número primo\n",
      "21é um número primo\n",
      "22é um número primo\n",
      "23é um número primo\n",
      "24é um número primo\n",
      "25é um número primo\n",
      "26é um número primo\n",
      "27é um número primo\n",
      "28é um número primo\n",
      "29é um número primo\n"
     ]
    }
   ],
   "source": [
    "for i in range(2,30):\n",
    "    j=2\n",
    "    contador =0\n",
    "    while j < i:\n",
    "        if j<1: \n",
    "            contador  =1\n",
    "            j = j + 1\n",
    "        else:\n",
    "            j = j +1\n",
    "    if contador == 0:\n",
    "        print(str(i)+\"é um número primo\")\n",
    "        contador = 0\n",
    "    else:\n",
    "        contador=0"
   ]
  },
  {
   "cell_type": "code",
   "execution_count": null,
   "metadata": {
    "collapsed": true
   },
   "outputs": [],
   "source": []
  }
 ],
 "metadata": {
  "kernelspec": {
   "display_name": "Python 2",
   "language": "python",
   "name": "python2"
  },
  "language_info": {
   "codemirror_mode": {
    "name": "ipython",
    "version": 2
   },
   "file_extension": ".py",
   "mimetype": "text/x-python",
   "name": "python",
   "nbconvert_exporter": "python",
   "pygments_lexer": "ipython2",
   "version": "2.7.13"
  }
 },
 "nbformat": 4,
 "nbformat_minor": 2
}
