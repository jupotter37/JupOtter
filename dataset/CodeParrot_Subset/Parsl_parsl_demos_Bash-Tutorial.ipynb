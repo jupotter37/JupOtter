{
 "cells": [
  {
   "cell_type": "markdown",
   "metadata": {
    "deletable": true,
    "editable": true
   },
   "source": [
    "# Parsl Bash Tutorial\n",
    "\n",
    "This tutorial will show you how to run Bash scripts as Parsl apps. \n"
   ]
  },
  {
   "cell_type": "markdown",
   "metadata": {
    "deletable": true,
    "editable": true
   },
   "source": [
    "### Load parsl\n",
    "\n",
    "Import parsl, and check the module version. This tutorial requires version 0.2.0 or above."
   ]
  },
  {
   "cell_type": "code",
   "execution_count": 1,
   "metadata": {
    "collapsed": false,
    "deletable": true,
    "editable": true
   },
   "outputs": [
    {
     "name": "stdout",
     "output_type": "stream",
     "text": [
      "0.3.0-alpha\n"
     ]
    }
   ],
   "source": [
    "# Import Parsl\n",
    "import parsl\n",
    "from parsl import *\n",
    "\n",
    "print(parsl.__version__) # The version should be v0.2.1+"
   ]
  },
  {
   "cell_type": "markdown",
   "metadata": {
    "collapsed": true,
    "deletable": true,
    "editable": true
   },
   "source": [
    "### Define resources\n",
    "\n",
    "To execute parsl we need to first define a set of resources on which the apps can run. Here we use a pool of threads."
   ]
  },
  {
   "cell_type": "code",
   "execution_count": 2,
   "metadata": {
    "collapsed": true,
    "deletable": true,
    "editable": true
   },
   "outputs": [],
   "source": [
    "workers = ThreadPoolExecutor(max_workers=4)\n",
    "# We pass the workers to the DataFlowKernel which will execute our Apps over the workers.\n",
    "dfk = DataFlowKernel(executors=[workers])"
   ]
  },
  {
   "cell_type": "markdown",
   "metadata": {
    "deletable": true,
    "editable": true
   },
   "source": [
    "### Defining Bash Apps\n",
    "\n",
    "To demonstrate how to run apps written as Bash scripts, we use two mock science applications: **simulate.sh** and **stats.sh**. The **simulation.sh** script serves as a trivial proxy for any more complex scientific simulation application. It generates and prints a set of one or more random integers in the range [0-2^62) as controlled by its command line arguments. The **stats.sh** script serves as a trivial model of an \"analysis\" program. It reads N files each containing M integers and prints the average of all those numbers to stdout. Like simulate.sh it logs environmental information to stderr.\n",
    "\n",
    "The following cell show how apps can be composed from arbitrary Bash scripts. The simulate signature shows how variables can be passed to the Bash script (e.g., \"sim_steps\") as well as how standard Parsl parameters are managed (e.g., \"stdout\")."
   ]
  },
  {
   "cell_type": "code",
   "execution_count": 3,
   "metadata": {
    "collapsed": true,
    "deletable": true,
    "editable": true
   },
   "outputs": [],
   "source": [
    "@App('bash', dfk)\n",
    "def simulate(sim_steps=1, sim_range=100, sim_values=5, outputs=[], stdout=None, stderr=None):\n",
    "    # The bash app function requires that the bash script is returned from the function as a \n",
    "    # string. Positional and Keyword args to the fn() are formatted into the cmd_line string\n",
    "    # All arguments to the app function are made available at the time of string formatting a\n",
    "    # string assigned to cmd_line.\n",
    "    \n",
    "    # Here we compose the command-line call to simulate.sh with keyword arguments to simulate()\n",
    "    # and redirect stdout to the first file listed in the outputs list.\n",
    "    return '''echo \"sim_steps: {sim_steps}\\nsim_range: {sim_range}\\nsim_values: {sim_values}\"\n",
    "    echo \"Starting run at $(date)\"\n",
    "    $PWD/bin/simulate.sh --timesteps {sim_steps} --range {sim_range} --nvalues {sim_values} > {outputs[0]}\n",
    "    echo \"Done at $(date)\"\n",
    "    ls\n",
    "    '''"
   ]
  },
  {
   "cell_type": "markdown",
   "metadata": {
    "deletable": true,
    "editable": true
   },
   "source": [
    "### Running Bash Apps\n",
    "\n",
    "Now that we've defined an app, let's run 10 parallel instances of it using a for loop. Each run will write 100 random numbers, each between 0 and 99, to the output file.\n",
    "\n",
    "In order to track files created by Bash apps, a list of data futures (one for each file in the outputs[] list) is made available as an attribute of the AppFuture returned upon calling the decorated app fn. \n",
    "\n",
    "```\n",
    "<App_Future> = App_Function(... , outputs=['x.txt', 'y.txt'...])\n",
    "[<DataFuture> ... ] = <App_Future>.outputs\n",
    "```"
   ]
  },
  {
   "cell_type": "code",
   "execution_count": 4,
   "metadata": {
    "collapsed": false,
    "deletable": true,
    "editable": true
   },
   "outputs": [],
   "source": [
    "simulated_results = []\n",
    "# Launch 10 parallel runs of simulate() and put the futures in a list\n",
    "for sim_index in range(10):\n",
    "    sim_fut = simulate(sim_steps=1,\n",
    "                       sim_range=100,\n",
    "                       sim_values=100,\n",
    "                       outputs = ['stdout.{0}.txt'.format(sim_index)],                     \n",
    "                       stderr='stderr.{0}.txt'.format(sim_index))    \n",
    "    simulated_results.extend([sim_fut])"
   ]
  },
  {
   "cell_type": "markdown",
   "metadata": {
    "deletable": true,
    "editable": true
   },
   "source": [
    "### Handling Futures\n",
    "\n",
    "The variable \"simulated_results\" contains a list of AppFutures, each corresponding to a running bash app.\n",
    "\n",
    "Now let's print the status of the 10 jobs by checking if the app futures are done.\n",
    "\n",
    "Note: you can re-run this step until all the jobs complete (all status are True) or go on, as a later step will block until all the jobs are complete."
   ]
  },
  {
   "cell_type": "code",
   "execution_count": 5,
   "metadata": {
    "collapsed": false,
    "deletable": true,
    "editable": true
   },
   "outputs": [
    {
     "name": "stdout",
     "output_type": "stream",
     "text": [
      "[False, False, False, False, False, False, False, False, False, False]\n"
     ]
    }
   ],
   "source": [
    "print ([i.done() for i in simulated_results])"
   ]
  },
  {
   "cell_type": "markdown",
   "metadata": {
    "deletable": true,
    "editable": true
   },
   "source": [
    "### Retrieving Results\n",
    "\n",
    "Each of the Apps return one DataFuture. Here we put all of these (data futures of file outputs) together into a list (`simulation_outputs`). This is done by iterating over each of the AppFutures and taking the first and only DataFuture in it's outputs list."
   ]
  },
  {
   "cell_type": "code",
   "execution_count": 6,
   "metadata": {
    "collapsed": true,
    "deletable": true,
    "editable": true
   },
   "outputs": [],
   "source": [
    "# Grab just the data futures for the output files from each simulation\n",
    "simulation_outputs = [i.outputs[0] for i in simulated_results]"
   ]
  },
  {
   "cell_type": "markdown",
   "metadata": {
    "deletable": true,
    "editable": true
   },
   "source": [
    "###  Defining a Second Bash App\n",
    "\n",
    "We now explore how Parsl can be used to block on results.  Let's define another app, `analyze()`, that calls **stats.sh** to find the average of the numbers in a set of files."
   ]
  },
  {
   "cell_type": "code",
   "execution_count": 7,
   "metadata": {
    "collapsed": true,
    "deletable": true,
    "editable": true
   },
   "outputs": [],
   "source": [
    "@App('bash', dfk)\n",
    "def analyze(inputs=[], stdout=None, stderr=None):\n",
    "    # Here we compose the commandline for stats.sh that take a list of filenames as arguments\n",
    "    # Since we want a space separated list, rather than a python list (e.g: ['x.txt', 'y.txt'])\n",
    "    # we create a string by joining the filenames of each item in the inputs list and using\n",
    "    # that string to format the cmd_line explicitly\n",
    "    input_files = ' '.join([i for i in inputs])\n",
    "    return '$PWD/bin/stats.sh {0}'.format(input_files)"
   ]
  },
  {
   "cell_type": "markdown",
   "metadata": {
    "deletable": true,
    "editable": true
   },
   "source": [
    "### Blocking on Results\n",
    "\n",
    "We call analyze with the list of data futures as inputs. This will block until all the simulate runs have completed and the data futures have 'resolved'. Finally, we print the result when it is ready.\n"
   ]
  },
  {
   "cell_type": "code",
   "execution_count": 8,
   "metadata": {
    "collapsed": false,
    "deletable": true,
    "editable": true
   },
   "outputs": [
    {
     "name": "stdout",
     "output_type": "stream",
     "text": [
      "49\n",
      "\n"
     ]
    }
   ],
   "source": [
    "results = analyze(inputs=simulation_outputs, \n",
    "                  stdout='analyze.out', \n",
    "                  stderr='analyze.err')\n",
    "results.result()\n",
    "with open('analyze.out', 'r') as f:\n",
    "    print(f.read())"
   ]
  }
 ],
 "metadata": {
  "kernelspec": {
   "display_name": "Python 3",
   "language": "python",
   "name": "python3"
  },
  "language_info": {
   "codemirror_mode": {
    "name": "ipython",
    "version": 3
   },
   "file_extension": ".py",
   "mimetype": "text/x-python",
   "name": "python",
   "nbconvert_exporter": "python",
   "pygments_lexer": "ipython3",
   "version": "3.5.2"
  }
 },
 "nbformat": 4,
 "nbformat_minor": 2
}
