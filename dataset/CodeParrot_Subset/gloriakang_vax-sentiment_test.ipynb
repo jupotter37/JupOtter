{
 "cells": [
  {
   "cell_type": "markdown",
   "metadata": {},
   "source": [
    "# conversion, drawing, saving, analysis\n",
    "- copy of dan's thing\n",
    "- converts .csv to .gml and .net\n",
    "- draws graph, saves graph.png\n",
    "- try to combine into this"
   ]
  },
  {
   "cell_type": "code",
   "execution_count": null,
   "metadata": {
    "collapsed": false
   },
   "outputs": [],
   "source": [
    "import pandas as pd\n",
    "import numpy as np\n",
    "import networkx as nx\n",
    "from copy import deepcopy\n",
    "\n",
    "import matplotlib.pyplot as plt\n",
    "%matplotlib inline\n",
    "from matplotlib.backends.backend_pdf import PdfPages\n",
    "\n",
    "from glob import glob\n",
    "fileName = 'article0'"
   ]
  },
  {
   "cell_type": "code",
   "execution_count": null,
   "metadata": {
    "collapsed": false
   },
   "outputs": [],
   "source": [
    "def getFiles(fileName):\n",
    "    matches = glob('*'+fileName+'*')\n",
    "    bigFile = matches[0]\n",
    "    data = pd.DataFrame.from_csv(bigFile)\n",
    "    return clearSource(data)\n",
    "    \n",
    "\n",
    "def clearSource(data):\n",
    "    columns = ['source','target']\n",
    "    pre = len(data)\n",
    "    for column in columns:\n",
    "        data = data[pd.notnull(data[column])]\n",
    "    post = len(data)\n",
    "    print \"Filtered %s rows to %s rows by removing rows with blank values in columns %s\" % (pre,post,columns)\n",
    "    return data\n",
    "    \n",
    "    \n",
    "#data = getFiles(fileName)"
   ]
  },
  {
   "cell_type": "code",
   "execution_count": null,
   "metadata": {
    "collapsed": false
   },
   "outputs": [],
   "source": [
    "def getStuff(data,labels):\n",
    "    forEdges = labels == ['edge']\n",
    "    columns = list(data.columns.values)\n",
    "    items = dict()\n",
    "    \n",
    "    nameFunc = {True: lambda x,y: '%s - %s - %s' % (x['source'],x['edge'],x['target']),\n",
    "                False: lambda x,y: x[y]}[forEdges]\n",
    "    \n",
    "    extra = ['source','target'] * forEdges\n",
    "    \n",
    "    for label in labels:\n",
    "        relevant = [col for col in columns if label+'-' in col] + extra\n",
    "        #relevant = extra\n",
    "        print \"Extracting %s data from %s\" % (label,relevant)\n",
    "        for i in data.index:\n",
    "            row = data.ix[i]\n",
    "            for col in relevant:\n",
    "                if str(row[col]).lower() != 'nan':\n",
    "                    name = nameFunc(row,label)\n",
    "                    if name not in items:\n",
    "                        items[name] = dict()\n",
    "                    items[name][col.replace(label+'-','')] = row[col]\n",
    "    return items\n",
    "    \n",
    "\n",
    "def getNodes(data):\n",
    "    return getStuff(data,['source','target'])\n",
    "\n",
    "\n",
    "def getEdges(data):\n",
    "    return getStuff(data,['edge'])\n",
    "      \n",
    "    \n",
    "#allNodes = getNodes(data); allEdges = getEdges(data)"
   ]
  },
  {
   "cell_type": "code",
   "execution_count": null,
   "metadata": {
    "collapsed": false,
    "scrolled": false
   },
   "outputs": [],
   "source": [
    "def addNodes(graph,nodes):\n",
    "    for key,value in nodes.iteritems():\n",
    "        graph.add_node(key,attr_dict=value)\n",
    "    return graph\n",
    "    \n",
    "def addEdges(graph,edges):\n",
    "    for key,value in edges.iteritems():\n",
    "        value['label'] = key\n",
    "        value['edge'] = key.split(' - ')[1]\n",
    "        graph.add_edge(value['source'],value['target'],attr_dict = value)\n",
    "    return graph\n",
    "    \n",
    "\n",
    "#########\n",
    "\n",
    "def createNetwork(edges,nodes):\n",
    "    graph = nx.MultiGraph()\n",
    "    graph = addNodes(graph,nodes)\n",
    "    graph = addEdges(graph,edges)\n",
    "    return graph\n",
    "\n",
    "\n",
    "#fullGraph = createNetwork(allEdges,allNodes)"
   ]
  },
  {
   "cell_type": "code",
   "execution_count": null,
   "metadata": {
    "collapsed": false
   },
   "outputs": [],
   "source": [
    "def drawIt(graph,what='graph', save_plot=None):\n",
    "    style=nx.spring_layout(graph)\n",
    "    size = graph.number_of_nodes()\n",
    "    print \"Drawing %s of size %s:\" % (what,size)\n",
    "    if size > 20:\n",
    "        plt.figure(figsize=(10,10))\n",
    "        if size > 40:\n",
    "            nx.draw(graph,style,node_size=60,font_size=8)\n",
    "            if save_plot is not None:\n",
    "                print('saving: {}'.format(save_plot))\n",
    "                plt.savefig(save_plot)\n",
    "        else:\n",
    "            nx.draw(graph,style)\n",
    "            if save_plot is not None:\n",
    "                print('saving: {}'.format(save_plot))\n",
    "                plt.savefig(save_plot)\n",
    "    else:\n",
    "        nx.draw(graph,style)\n",
    "        if save_plot is not None:\n",
    "            print('saving: {}'.format(save_plot))\n",
    "            plt.savefig(save_plot)\n",
    "    plt.show()\n",
    "    \n",
    "    \n",
    "def describeGraph(graph, save_plot=None):\n",
    "    components = nx.connected_components(graph)\n",
    "    components = list(components)\n",
    "    isolated = [entry[0] for entry in components if len(entry)==1]\n",
    "    params = (graph.number_of_edges(),graph.number_of_nodes(),len(components),len(isolated))\n",
    "    print \"Graph has %s nodes, %s edges, %s connected components, and %s isolated nodes\\n\" % params\n",
    "    drawIt(graph, save_plot=save_plot)\n",
    "    for idx, sub in enumerate(components):\n",
    "        drawIt(graph.subgraph(sub),what='component', save_plot='{}-{}.png'.format('component', idx))\n",
    "    print \"Isolated nodes:\", isolated\n",
    "\n",
    "def getGraph(fileRef, save_plot=None):\n",
    "    data = getFiles(fileName)\n",
    "    nodes = getNodes(data)\n",
    "    edges = getEdges(data)\n",
    "    graph = createNetwork(edges,nodes)\n",
    "    fileOut = fileRef.split('.')[0]+'.gml'\n",
    "    print \"Writing GML file to %s\" % fileOut\n",
    "    nx.write_gml(graph, fileOut)\n",
    "    \n",
    "    fileOutNet = fileRef.split('.')[0]+'.net'\n",
    "    print \"Writing net file to %s\" % fileOutNet\n",
    "    nx.write_pajek(graph, fileOutNet)\n",
    "    \n",
    "    describeGraph(graph, save_plot)\n",
    "    return graph, nodes, edges"
   ]
  },
  {
   "cell_type": "code",
   "execution_count": null,
   "metadata": {
    "collapsed": false
   },
   "outputs": [],
   "source": [
    "fileName = 'data/csv/article1'\n",
    "graph, nodes, edges = getGraph(fileName, save_plot='graph.png')"
   ]
  },
  {
   "cell_type": "code",
   "execution_count": null,
   "metadata": {
    "collapsed": false,
    "scrolled": true
   },
   "outputs": [],
   "source": [
    "plt.figure(figsize=(12, 12))\n",
    "nx.draw_spring(graph, node_color='g', with_labels=True, arrows=True)\n",
    "plt.show()"
   ]
  },
  {
   "cell_type": "code",
   "execution_count": null,
   "metadata": {
    "collapsed": false
   },
   "outputs": [],
   "source": [
    "# return a dictionary of centrality values for each node\n",
    "nx.degree_centrality(graph)"
   ]
  },
  {
   "cell_type": "markdown",
   "metadata": {},
   "source": [
    "## degree centrality\n",
    "for a node v is the fraction of nodes it is connected to"
   ]
  },
  {
   "cell_type": "code",
   "execution_count": null,
   "metadata": {
    "collapsed": false
   },
   "outputs": [],
   "source": [
    "# the type of degree centrality is a dictionary\n",
    "type(nx.degree_centrality(graph))"
   ]
  },
  {
   "cell_type": "code",
   "execution_count": null,
   "metadata": {
    "collapsed": false,
    "scrolled": true
   },
   "outputs": [],
   "source": [
    "# get all the values of the dictionary, this returns a list of centrality scores\n",
    "# turn the list into a numpy array\n",
    "# take the mean of the numpy array\n",
    "np.array(nx.degree_centrality(graph).values()).mean()"
   ]
  },
  {
   "cell_type": "markdown",
   "metadata": {},
   "source": [
    "## closeness centrality\n",
    "of a node u is the reciprocal of the sum of the shortest path distances from u to all n-1 other nodes. Since the sum of distances depends on the number of nodes in the graph, closeness is normalized by the sum of minimum possible distances n-1. Notice that higher values of closeness indicate higher centrality."
   ]
  },
  {
   "cell_type": "code",
   "execution_count": null,
   "metadata": {
    "collapsed": false
   },
   "outputs": [],
   "source": [
    "nx.closeness_centrality(graph)"
   ]
  },
  {
   "cell_type": "markdown",
   "metadata": {},
   "source": [
    "## betweenness centrality\n",
    "of a node v is the sum of the fraction of all-pairs shortest paths that pass through v"
   ]
  },
  {
   "cell_type": "code",
   "execution_count": null,
   "metadata": {
    "collapsed": false,
    "scrolled": true
   },
   "outputs": [],
   "source": [
    "nx.betweenness_centrality(graph)\n",
    "np.array(nx.betweenness_centrality(graph).values()).mean()"
   ]
  },
  {
   "cell_type": "markdown",
   "metadata": {},
   "source": [
    "## degree assortativity coefficient\n",
    "Assortativity measures the similarity of connections in the graph with respect to the node degree."
   ]
  },
  {
   "cell_type": "code",
   "execution_count": null,
   "metadata": {
    "collapsed": false
   },
   "outputs": [],
   "source": [
    "nx.degree_assortativity_coefficient(graph)"
   ]
  }
 ],
 "metadata": {
  "kernelspec": {
   "display_name": "Python 2",
   "language": "python",
   "name": "python2"
  },
  "language_info": {
   "codemirror_mode": {
    "name": "ipython",
    "version": 2
   },
   "file_extension": ".py",
   "mimetype": "text/x-python",
   "name": "python",
   "nbconvert_exporter": "python",
   "pygments_lexer": "ipython2",
   "version": "2.7.10"
  }
 },
 "nbformat": 4,
 "nbformat_minor": 0
}
