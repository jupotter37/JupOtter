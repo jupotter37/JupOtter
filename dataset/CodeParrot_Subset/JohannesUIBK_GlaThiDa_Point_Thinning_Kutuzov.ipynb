{
 "cells": [
  {
   "cell_type": "code",
   "execution_count": 11,
   "metadata": {
    "collapsed": false
   },
   "outputs": [],
   "source": [
    "import pandas as pd\n",
    "from glob import glob\n",
    "import os\n",
    "import numpy as np"
   ]
  },
  {
   "cell_type": "code",
   "execution_count": 12,
   "metadata": {
    "collapsed": true
   },
   "outputs": [],
   "source": [
    "def dist_pyth(lon1, lat1, lon2, lat2):\n",
    "    \"\"\"Calculate the distance between two points \"\"\"\n",
    "    return np.sqrt((lat2 - lat1)**2 + (lon2 - lon1)**2)\n",
    "\n",
    "\n",
    "def haversine(lon1, lat1, lon2, lat2):\n",
    "    \"\"\"\n",
    "    Calculate the great circle distance between one point \n",
    "    on the earth and an array of points (specified in decimal degrees)\n",
    "    \"\"\"\n",
    "    \n",
    "    # convert decimal degrees to radians \n",
    "    lon1, lat1, lon2, lat2 = map(np.radians, [lon1, lat1, lon2, lat2])\n",
    "\n",
    "    # haversine formula \n",
    "    dlon = lon2 - lon1\n",
    "    dlat = lat2 - lat1\n",
    "    a = np.sin(dlat/2)**2 + np.cos(lat1) * np.cos(lat2) * np.sin(dlon/2)**2\n",
    "    c = 2 * np.arcsin(np.sqrt(a)) \n",
    "    r = 6371000 # Radius of earth in meters\n",
    "    return c * r\n",
    "\n",
    "\n",
    "def p_dist(lon1, lat1, lon2, lat2, units=None):\n",
    "    \"\"\"\n",
    "    Calculate the distance between two *CLOSE* points in meters using Pythagoras\n",
    "    \"\"\"\n",
    "    if units == 'm':\n",
    "        dist = dist_pyth(lon1, lat1, lon2, lat2)\n",
    "    elif units == 'deg':\n",
    "        dist = haversine(lon1, lat1, lon2, lat2)\n",
    "    else:\n",
    "        raise ValueError('Units must be meters (m) or degrees (deg).')\n",
    "        \n",
    "    return dist\n",
    "\n",
    "\n",
    "def p_thin(df, xcol='x', ycol='y', datacols='data', radius=10, method='nanmean', units=None):\n",
    "    \"\"\"\n",
    "    Thin a pandas point series based on distance of the points. The first point in the DataFrame is taken and all points \n",
    "    within the search distance are found and the given method is applied to the data columns. Used data are deleted from \n",
    "    the frame and the procedure is repeated. Data are written to the point which is closest to the half of the search\n",
    "    distance away from the initial point.\n",
    "    \n",
    "    Parameters\n",
    "    ----------\n",
    "    pseries: Series of points\n",
    "    xcol: name of column with x coordinates\n",
    "    ycol: name of columns with y coordinates\n",
    "    datacol: name of columns with data (list/string)\n",
    "    radius: search radius for point distance (meters)\n",
    "    method: calculation method (a numpy method). Default: 'nanmean'\n",
    "    \n",
    "    Returns\n",
    "    -------\n",
    "    A thinned dataframe\n",
    "    \n",
    "    \"\"\"\n",
    "    \n",
    "    assert units!=None,'Units of x/y must be meters (m) or degrees (deg).'\n",
    "    \n",
    "    thinned = pd.DataFrame([],columns=df.columns.values)\n",
    "    \n",
    "    print(len(df))\n",
    "    ct=0\n",
    "    while len(df)>0:\n",
    "        df['DIST'] = p_dist(df[xcol].iloc[0], df[ycol].iloc[0], df[xcol], df[ycol], units=units)\n",
    "        df = df.sort_values('DIST')\n",
    "\n",
    "        subset = df[df.DIST <= radius]\n",
    "\n",
    "        if not subset.empty:\n",
    "            subset = subset.reset_index()\n",
    "            # find the point ID which is closest to half of the search distance \n",
    "            #(to this point the new data will be assigned)\n",
    "            assign_id = subset.ix[(subset.DIST-(radius/2.)).abs().argsort()[0]].name\n",
    "            \n",
    "            fill_dict = {}\n",
    "            fill_dict[xcol] = subset.loc[assign_id, xcol]\n",
    "            fill_dict[ycol] = subset.loc[assign_id, ycol]\n",
    "            for data in datacols:\n",
    "                try:\n",
    "                    fill_dict[data] = getattr(np,method)(subset[data].values)\n",
    "                except TypeError:\n",
    "                    fill_dict[data] = np.nan\n",
    "            thinned.loc[len(thinned)] = pd.Series(fill_dict)\n",
    "            ct+=1\n",
    "\n",
    "            if ct%100==0:\n",
    "                print(ct,len(df))\n",
    "                \n",
    "        # delete the used points from the data\n",
    "        df = df.drop(df[df.DIST <= radius].index.values)\n",
    "        \n",
    "    print(len(thinned))\n",
    "    return thinned"
   ]
  },
  {
   "cell_type": "code",
   "execution_count": 13,
   "metadata": {
    "collapsed": false
   },
   "outputs": [
    {
     "name": "stdout",
     "output_type": "stream",
     "text": [
      "C:\\Users\\jlandman\\Desktop\\newData\\RU_Kutuzov\\GlaThiDa_2-0_Kutuzov_Johannes.xls\n"
     ]
    }
   ],
   "source": [
    "file = 'C:\\\\Users\\\\jlandman\\\\Desktop\\\\newData\\\\RU_Kutuzov\\\\GlaThiDa_2-0_Kutuzov_Johannes.xls'\n",
    "print(file)"
   ]
  },
  {
   "cell_type": "code",
   "execution_count": 14,
   "metadata": {
    "collapsed": true
   },
   "outputs": [],
   "source": [
    "\"\"\"\n",
    "thin_dict = {(2072, 'DJANKUAT'): 2,\n",
    "             (2073, 'DJANKUAT'): 2,\n",
    "             (2074, 'MARUKH'): 2,\n",
    "}\n",
    "\"\"\"\n",
    "\n",
    "search_dist = 10"
   ]
  },
  {
   "cell_type": "code",
   "execution_count": 15,
   "metadata": {
    "collapsed": false
   },
   "outputs": [
    {
     "name": "stdout",
     "output_type": "stream",
     "text": [
      "2035\n"
     ]
    },
    {
     "name": "stderr",
     "output_type": "stream",
     "text": [
      "C:\\Users\\jlandman\\Anaconda3\\lib\\site-packages\\ipykernel\\__main__.py:67: SettingWithCopyWarning: \n",
      "A value is trying to be set on a copy of a slice from a DataFrame.\n",
      "Try using .loc[row_indexer,col_indexer] = value instead\n",
      "\n",
      "See the caveats in the documentation: http://pandas.pydata.org/pandas-docs/stable/indexing.html#indexing-view-versus-copy\n"
     ]
    },
    {
     "name": "stdout",
     "output_type": "stream",
     "text": [
      "100 1708\n",
      "200 1332\n",
      "300 1011\n",
      "400 740\n",
      "500 428\n",
      "600 71\n",
      "624\n",
      "1983\n"
     ]
    },
    {
     "name": "stderr",
     "output_type": "stream",
     "text": [
      "C:\\Users\\jlandman\\Anaconda3\\lib\\site-packages\\ipykernel\\__main__.py:67: SettingWithCopyWarning: \n",
      "A value is trying to be set on a copy of a slice from a DataFrame.\n",
      "Try using .loc[row_indexer,col_indexer] = value instead\n",
      "\n",
      "See the caveats in the documentation: http://pandas.pydata.org/pandas-docs/stable/indexing.html#indexing-view-versus-copy\n"
     ]
    },
    {
     "name": "stdout",
     "output_type": "stream",
     "text": [
      "100 1643\n",
      "200 1366\n",
      "300 1094\n",
      "400 783\n",
      "500 506\n",
      "600 217\n",
      "666\n",
      "2458\n"
     ]
    },
    {
     "name": "stderr",
     "output_type": "stream",
     "text": [
      "C:\\Users\\jlandman\\Anaconda3\\lib\\site-packages\\ipykernel\\__main__.py:67: SettingWithCopyWarning: \n",
      "A value is trying to be set on a copy of a slice from a DataFrame.\n",
      "Try using .loc[row_indexer,col_indexer] = value instead\n",
      "\n",
      "See the caveats in the documentation: http://pandas.pydata.org/pandas-docs/stable/indexing.html#indexing-view-versus-copy\n"
     ]
    },
    {
     "name": "stdout",
     "output_type": "stream",
     "text": [
      "100 2160\n",
      "200 1887\n",
      "300 1656\n",
      "400 1411\n",
      "500 1223\n",
      "600 1055\n",
      "700 872\n",
      "800 565\n",
      "900 255\n",
      "988\n"
     ]
    }
   ],
   "source": [
    "data_new = pd.DataFrame([])\n",
    "\n",
    "data = pd.read_excel(file, sheetname='TTT - GL. THICKNESS POINT DATA')\n",
    "\n",
    "\n",
    "for gid in np.unique(data.GlaThiDa_ID.values):\n",
    "    temp = data[data.GlaThiDa_ID==gid]\n",
    "\n",
    "    gname = temp[temp.GlaThiDa_ID == gid].GLACIER_NAME.values[0]\n",
    "    pol_u = temp[temp.GlaThiDa_ID == gid].POLITICAL_UNIT.values[0]\n",
    "    surv_date = temp[temp.GlaThiDa_ID == gid].SURVEY_DATE.values[0]\n",
    "    remarks = temp[temp.GlaThiDa_ID == gid].REMARKS.iloc[0] + ' Point data have been thinned (mean) within a search distance of %s m.' % search_dist\n",
    "    gtd_id = gid\n",
    "    \n",
    "    #old point thinning\n",
    "    # temp = temp.groupby(temp.index // thin_dict[(gid, gname)]).mean() # average over every x values as specified above\n",
    "    temp = p_thin(temp, xcol='POINT_LON', ycol='POINT_LAT', datacols=['ELEVATION', 'THICKNESS', 'THICKNESS_UNCERTAINTY'],\n",
    "                  radius=search_dist, method='nanmean', units='deg')\n",
    "\n",
    "    temp['POLITICAL_UNIT'] = pol_u\n",
    "    temp['GLACIER_NAME'] = gname\n",
    "    temp['REMARKS'] = remarks\n",
    "    temp['DATA_FLAG'] = np.nan\n",
    "    temp['GlaThiDa_ID'] = gtd_id\n",
    "    temp['SURVEY_DATE'] = surv_date\n",
    "    temp['POINT_ID'] = range(1,len(temp)+1)\n",
    "\n",
    "\n",
    "    data_new = data_new.append(temp, ignore_index=True)\n",
    "\n",
    "    \n",
    "data_new['THICKNESS'] = data_new['THICKNESS'].round()\n",
    "data_new['ELEVATION'] = data_new['ELEVATION'].round()\n",
    "data_new['THICKNESS_UNCERTAINTY'] = data_new['THICKNESS_UNCERTAINTY'].round(2)\n",
    "\n",
    "data_new = data_new[['GlaThiDa_ID','POLITICAL_UNIT', 'GLACIER_NAME', 'SURVEY_DATE', 'POINT_ID',  'POINT_LAT',  'POINT_LON',  \n",
    "                     'ELEVATION', 'THICKNESS', 'THICKNESS_UNCERTAINTY', 'DATA_FLAG', 'REMARKS']]\n",
    "\n",
    "data_new = data_new.sort_values(by=['GlaThiDa_ID','POINT_ID'])\n",
    "data_new.to_excel(os.path.join(os.path.dirname(file),file.split('.')[0]+'_thinned.xlsx'), index=False)"
   ]
  },
  {
   "cell_type": "code",
   "execution_count": null,
   "metadata": {
    "collapsed": true
   },
   "outputs": [],
   "source": []
  },
  {
   "cell_type": "code",
   "execution_count": null,
   "metadata": {
    "collapsed": true
   },
   "outputs": [],
   "source": []
  }
 ],
 "metadata": {
  "kernelspec": {
   "display_name": "Python 3",
   "language": "python",
   "name": "python3"
  },
  "language_info": {
   "codemirror_mode": {
    "name": "ipython",
    "version": 3
   },
   "file_extension": ".py",
   "mimetype": "text/x-python",
   "name": "python",
   "nbconvert_exporter": "python",
   "pygments_lexer": "ipython3",
   "version": "3.5.1"
  }
 },
 "nbformat": 4,
 "nbformat_minor": 0
}
