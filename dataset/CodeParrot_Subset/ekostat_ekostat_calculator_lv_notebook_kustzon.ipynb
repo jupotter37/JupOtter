{
 "cells": [
  {
   "cell_type": "code",
   "execution_count": 1,
   "metadata": {},
   "outputs": [
    {
     "name": "stdout",
     "output_type": "stream",
     "text": [
      "D:\\github\\w_vattenstatus\\ekostat_calculator\n",
      "D:/github/w_vattenstatus/ekostat_calculator\\core\\__init__.py\n"
     ]
    },
    {
     "data": {
      "text/plain": [
       "'0.19.2'"
      ]
     },
     "execution_count": 1,
     "metadata": {},
     "output_type": "execute_result"
    }
   ],
   "source": [
    "# coding: utf-8\n",
    "\n",
    "# In[1]:\n",
    "\n",
    "\n",
    "import os \n",
    "import sys\n",
    "path = \"../\"\n",
    "path = \"D:/github/w_vattenstatus/ekostat_calculator\"\n",
    "sys.path.append(path)\n",
    "#os.path.abspath(\"../\")\n",
    "print(os.path.abspath(path))\n",
    "\n",
    "import pandas as pd\n",
    "import numpy as np\n",
    "import json\n",
    "import timeit\n",
    "import time\n",
    "import core\n",
    "import importlib\n",
    "importlib.reload(core)\n",
    "import logging\n",
    "importlib.reload(core) \n",
    "try:\n",
    "    logging.shutdown()\n",
    "    importlib.reload(logging)\n",
    "except:\n",
    "    pass\n",
    "from event_handler import EventHandler\n",
    "print(core.__file__)\n",
    "pd.__version__"
   ]
  },
  {
   "cell_type": "markdown",
   "metadata": {},
   "source": [
    "###############################################################################################################################\n",
    "### Load directories"
   ]
  },
  {
   "cell_type": "code",
   "execution_count": 21,
   "metadata": {},
   "outputs": [
    {
     "name": "stderr",
     "output_type": "stream",
     "text": [
      "2018-10-12 15:38:05,187\tevent_handler.py\t117\t__init__\tDEBUG\tStart EventHandler: event_handler\n",
      "2018-10-12 15:38:05,189\tevent_handler.py\t152\t_load_mapping_objects\tDEBUG\tLoading mapping files from pickle file.\n"
     ]
    },
    {
     "name": "stdout",
     "output_type": "stream",
     "text": [
      "D:/github/w_vattenstatus/ekostat_calculator\n"
     ]
    },
    {
     "name": "stderr",
     "output_type": "stream",
     "text": [
      "2018-10-12 15:38:05,871\tevent_handler.py\t128\t__init__\tDEBUG\tTime for mapping: 0.6818232536315918\n",
      "2018-10-12 15:38:05,871\tevent_handler.py\t133\t__init__\tDEBUG\tTime for initiating EventHandler: 0.6848235130310059\n"
     ]
    },
    {
     "name": "stdout",
     "output_type": "stream",
     "text": [
      "--------------------------------------------------\n",
      "Time for request: 0.6848235130310059\n"
     ]
    }
   ],
   "source": [
    "root_directory = 'D:/github/w_vattenstatus/ekostat_calculator'#\"../\" #os.getcwd()\n",
    "workspace_directory = root_directory + '/workspaces' \n",
    "resource_directory = root_directory + '/resources'\n",
    "#alias = 'lena'\n",
    "user_id = 'test_user' #kanske ska vara off_line user?\n",
    "# workspace_alias = 'lena_indicator' # kustzonsmodellen_3daydata\n",
    "workspace_alias = 'kustzonsmodellen_3daydata'\n",
    "\n",
    "# ## Initiate EventHandler\n",
    "print(root_directory)\n",
    "paths = {'user_id': user_id, \n",
    "         'workspace_directory': root_directory + '/workspaces', \n",
    "         'resource_directory': root_directory + '/resources', \n",
    "         'log_directory': 'D:/github' + '/log', \n",
    "         'test_data_directory': 'D:/github' + '/test_data',\n",
    "         'cache_directory': 'D:/github/w_vattenstatus/cache'}\n",
    "\n",
    "t0 = time.time()\n",
    "ekos = EventHandler(**paths)\n",
    "#request = ekos.test_requests['request_workspace_list']\n",
    "#response = ekos.request_workspace_list(request) \n",
    "#ekos.write_test_response('request_workspace_list', response)\n",
    "print('-'*50)\n",
    "print('Time for request: {}'.format(time.time()-t0))"
   ]
  },
  {
   "cell_type": "code",
   "execution_count": 11,
   "metadata": {
    "collapsed": true
   },
   "outputs": [],
   "source": [
    "###############################################################################################################################\n",
    "# ### Make a new workspace"
   ]
  },
  {
   "cell_type": "code",
   "execution_count": 12,
   "metadata": {
    "collapsed": true
   },
   "outputs": [],
   "source": [
    "# ekos.copy_workspace(source_uuid='default_workspace', target_alias='kustzonsmodellen_3daydata')"
   ]
  },
  {
   "cell_type": "code",
   "execution_count": 22,
   "metadata": {},
   "outputs": [
    {
     "name": "stdout",
     "output_type": "stream",
     "text": [
      "====================================================================================================\n",
      "Current workspaces for user are:\n",
      "\n",
      "uuid                                    alias                         status                        \n",
      "----------------------------------------------------------------------------------------------------\n",
      "default_workspace                       default_workspace             readable                      \n",
      "e86ae1c5-d241-46a4-9236-59524b44e500    lena_indicator                editable                      \n",
      "2c27da69-6035-418b-8f5e-bc8ef8e6320b    kuszonsmodellen               editable                      \n",
      "78bd7584-5de1-45ca-9176-09a998a7e734    kustzonsmodellen_3daydata     editable                      \n",
      "====================================================================================================\n",
      "78bd7584-5de1-45ca-9176-09a998a7e734\n"
     ]
    }
   ],
   "source": [
    "# ### See existing workspaces and choose workspace name to load\n",
    "ekos.print_workspaces()\n",
    "workspace_uuid = ekos.get_unique_id_for_alias(workspace_alias = workspace_alias) #'kuszonsmodellen' lena_indicator \n",
    "print(workspace_uuid)\n",
    "\n",
    "workspace_alias = ekos.get_alias_for_unique_id(workspace_uuid = workspace_uuid)"
   ]
  },
  {
   "cell_type": "code",
   "execution_count": 23,
   "metadata": {},
   "outputs": [
    {
     "name": "stderr",
     "output_type": "stream",
     "text": [
      "2018-10-12 15:38:20,849\tevent_handler.py\t3070\tload_workspace\tDEBUG\tTrying to load new workspace \"78bd7584-5de1-45ca-9176-09a998a7e734\" with alias \"kustzonsmodellen_3daydata\"\n",
      "2018-10-12 15:38:21,167\tevent_handler.py\t3088\tload_workspace\tINFO\tWorkspace \"78bd7584-5de1-45ca-9176-09a998a7e734\" with alias \"kustzonsmodellen_3daydata loaded.\"\n"
     ]
    },
    {
     "data": {
      "text/plain": [
       "True"
      ]
     },
     "execution_count": 23,
     "metadata": {},
     "output_type": "execute_result"
    }
   ],
   "source": [
    "###############################################################################################################################\n",
    "# ### Load existing workspace\n",
    "ekos.load_workspace(unique_id = workspace_uuid)"
   ]
  },
  {
   "cell_type": "code",
   "execution_count": 24,
   "metadata": {
    "collapsed": true
   },
   "outputs": [],
   "source": [
    "###############################################################################################################################\n",
    "# ### import data\n",
    "# ekos.import_default_data(workspace_alias = workspace_alias)"
   ]
  },
  {
   "cell_type": "code",
   "execution_count": 25,
   "metadata": {},
   "outputs": [
    {
     "name": "stderr",
     "output_type": "stream",
     "text": [
      "2018-10-12 15:38:26,679\tworkspaces.py\t1522\tdelete_all_export_data\tDEBUG\tAll files in export directory are deleted and all \"loaded\" in datatype_settings is 0.\n"
     ]
    },
    {
     "name": "stdout",
     "output_type": "stream",
     "text": [
      "¤¤¤¤¤¤¤¤¤¤¤¤¤¤¤¤¤¤¤¤¤¤¤¤¤¤¤¤¤¤¤¤¤¤¤¤¤¤¤¤¤¤¤¤¤¤¤¤¤¤\n",
      "D:/github/w_vattenstatus/ekostat_calculator/workspaces/78bd7584-5de1-45ca-9176-09a998a7e734/input_data/exports\\all_data.pkl\n",
      "D:/github/w_vattenstatus/ekostat_calculator/workspaces/78bd7584-5de1-45ca-9176-09a998a7e734/input_data/exports\\all_data.txt\n"
     ]
    }
   ],
   "source": [
    "###############################################################################################################################\n",
    "# ### Load all data in workspace\n",
    "# #### if there is old data that you want to remove\n",
    "ekos.get_workspace(workspace_uuid = workspace_uuid).delete_alldata_export()\n",
    "ekos.get_workspace(workspace_uuid = workspace_uuid).delete_all_export_data()"
   ]
  },
  {
   "cell_type": "code",
   "execution_count": 26,
   "metadata": {},
   "outputs": [
    {
     "name": "stderr",
     "output_type": "stream",
     "text": [
      "2018-10-12 15:38:53,771\tworkspaces.py\t1834\tload_all_data\tDEBUG\tAll selected data in (status 1 in datatype_settings.txt) is not loaded.\n",
      "2018-10-12 15:38:53,806\tworkspaces.py\t1917\tload_datatype_data\tDEBUG\tNew data files has been loaded for datatype: physicalchemical\n"
     ]
    },
    {
     "name": "stdout",
     "output_type": "stream",
     "text": [
      "¤¤¤¤¤¤¤¤¤¤¤¤¤¤¤¤¤¤¤¤¤¤¤¤¤¤¤¤¤¤¤¤¤¤¤¤¤¤¤¤¤¤¤¤¤¤¤¤¤¤\n",
      "D:/github/w_vattenstatus/ekostat_calculator/workspaces/78bd7584-5de1-45ca-9176-09a998a7e734/input_data/exports\\all_data.pkl\n",
      "D:/github/w_vattenstatus/ekostat_calculator/workspaces/78bd7584-5de1-45ca-9176-09a998a7e734/input_data/exports\\all_data.txt\n"
     ]
    },
    {
     "name": "stderr",
     "output_type": "stream",
     "text": [
      "2018-10-12 15:38:55,463\tworkspaces.py\t1917\tload_datatype_data\tDEBUG\tNew data files has been loaded for datatype: physicalchemicalmodel\n",
      "2018-10-12 15:38:55,464\tworkspaces.py\t1917\tload_datatype_data\tDEBUG\tNew data files has been loaded for datatype: chlorophyll\n",
      "2018-10-12 15:38:55,501\tworkspaces.py\t1917\tload_datatype_data\tDEBUG\tNew data files has been loaded for datatype: phytoplankton\n",
      "2018-10-12 15:38:55,565\tworkspaces.py\t1917\tload_datatype_data\tDEBUG\tNew data files has been loaded for datatype: zoobenthos\n"
     ]
    },
    {
     "name": "stdout",
     "output_type": "stream",
     "text": [
      "self.all_data 0\n",
      "MMMMMMMMM\n",
      "--------------------------------------------------\n",
      "Total time: 0.9752404689788818\n",
      "time_preparations              0.0\n",
      "time_list_group_data:          0.04780101776123047\n",
      "time_list_calc_integ:          0.04320263862609863\n",
      "time_list_add_row:             0.4178156852722168\n",
      "time_all_calculations:         0.880638837814331\n",
      "time_iterator:                 0.0\n",
      "time_add_data:                 0.04680061340332031\n",
      "Done adding integrated_calc \"CPHL_INTEG_CALC\" using parameter \"CPHL_BTL\"\n",
      "time for integrated_calc \"CPHL_INTEG_CALC\" using parameter \"CPHL_BTL is: 0.9752404689788818\n",
      "Saving data to: D:/github/w_vattenstatus/ekostat_calculator/workspaces/78bd7584-5de1-45ca-9176-09a998a7e734/input_data/exports/all_data.txt\n"
     ]
    },
    {
     "data": {
      "text/plain": [
       "True"
      ]
     },
     "execution_count": 26,
     "metadata": {},
     "output_type": "execute_result"
    }
   ],
   "source": [
    "###############################################################################################################################\n",
    "# #### to just load existing data in workspace\n",
    "ekos.load_data(workspace_uuid = workspace_uuid)"
   ]
  },
  {
   "cell_type": "code",
   "execution_count": 27,
   "metadata": {},
   "outputs": [
    {
     "data": {
      "text/plain": [
       "62780"
      ]
     },
     "execution_count": 27,
     "metadata": {},
     "output_type": "execute_result"
    }
   ],
   "source": [
    "############################################################################################################################### \n",
    "# ### check workspace data length\n",
    "w = ekos.get_workspace(workspace_uuid = workspace_uuid)\n",
    "len(w.data_handler.get_all_column_data_df())"
   ]
  },
  {
   "cell_type": "code",
   "execution_count": 28,
   "metadata": {},
   "outputs": [
    {
     "name": "stdout",
     "output_type": "stream",
     "text": [
      "uuid default_subset alias default_subset\n",
      "uuid e2ede510-cd06-44f2-a775-8f0c6840057e alias test_kustzon\n"
     ]
    }
   ],
   "source": [
    "###############################################################################################################################  \n",
    "# ### see subsets in data  \n",
    "for subset_uuid in w.get_subset_list():\n",
    "    print('uuid {} alias {}'.format(subset_uuid, w.uuid_mapping.get_alias(unique_id=subset_uuid)))"
   ]
  },
  {
   "cell_type": "code",
   "execution_count": 29,
   "metadata": {},
   "outputs": [
    {
     "name": "stdout",
     "output_type": "stream",
     "text": [
      "Index(['LONGI_DD', 'DEPH', 'RLABO', 'WATER_DISTRICT', 'STIME', 'WADEP',\n",
      "       'STATN', 'MYEAR', 'WATER_TYPE_AREA', 'WATER_BODY_NAME', 'VISS_EU_CD',\n",
      "       'SDATE', 'LATIT_DD', 'AMON', 'NTRI', 'CPHL_BTL', 'NTRZ', 'PHOS', 'NTOT',\n",
      "       'SECCHI', 'PTOT', 'NTRA', 'origin_dtype', 'origin_file_path', 'DIN',\n",
      "       'MONTH', 'YEAR', 'POSITION', 'MNDEP', 'MXDEP', 'visit_id_str', 'date',\n",
      "       'CPHL_INTEG_CALC', 'CPHL_INTEG_CALC_depths', 'CPHL_INTEG_CALC_values',\n",
      "       'index_column'],\n",
      "      dtype='object')\n"
     ]
    }
   ],
   "source": [
    "###############################################################################################################################  \n",
    "# # Step 0 \n",
    "print(w.data_handler.all_data.columns)"
   ]
  },
  {
   "cell_type": "code",
   "execution_count": 30,
   "metadata": {
    "collapsed": true
   },
   "outputs": [],
   "source": [
    "###############################################################################################################################    \n",
    "# ### Apply first data filter \n",
    "w.apply_data_filter(step = 0) # This sets the first level of data filter in the IndexHandler "
   ]
  },
  {
   "cell_type": "code",
   "execution_count": 31,
   "metadata": {
    "collapsed": true
   },
   "outputs": [],
   "source": [
    "###############################################################################################################################  \n",
    "# # Step 1 \n",
    "# ### make new subset\n",
    "# w.copy_subset(source_uuid='default_subset', target_alias='test_kustzon') "
   ]
  },
  {
   "cell_type": "code",
   "execution_count": 32,
   "metadata": {},
   "outputs": [
    {
     "name": "stdout",
     "output_type": "stream",
     "text": [
      "subset_alias test_kustzon subset_uuid e2ede510-cd06-44f2-a775-8f0c6840057e\n"
     ]
    }
   ],
   "source": [
    "###############################################################################################################################\n",
    "# ### Choose subset name to load\n",
    "subset_alias = 'test_kustzon'\n",
    "# subset_alias = 'period_2007-2012_refvalues_2013'\n",
    "# subset_alias = 'test_subset'\n",
    "subset_uuid = ekos.get_unique_id_for_alias(workspace_alias = workspace_alias, subset_alias = subset_alias)\n",
    "print('subset_alias', subset_alias, 'subset_uuid', subset_uuid)"
   ]
  },
  {
   "cell_type": "markdown",
   "metadata": {},
   "source": [
    "###############################################################################################################################\n",
    "### Set subset filters"
   ]
  },
  {
   "cell_type": "code",
   "execution_count": 33,
   "metadata": {},
   "outputs": [
    {
     "data": {
      "text/plain": [
       "True"
      ]
     },
     "execution_count": 33,
     "metadata": {},
     "output_type": "execute_result"
    }
   ],
   "source": [
    "# #### year filter\n",
    "w.set_data_filter(subset = subset_uuid, step=1, \n",
    "                         filter_type='include_list', \n",
    "                         filter_name='MYEAR', \n",
    "                         data=[2007,2008,2009,2010,2011,2012])#['2011', '2012', '2013']) #, 2014, 2015, 2016"
   ]
  },
  {
   "cell_type": "code",
   "execution_count": 34,
   "metadata": {},
   "outputs": [
    {
     "name": "stdout",
     "output_type": "stream",
     "text": [
      "{'MYEAR': ['2007', '2008', '2009', '2010', '2011', '2012'], 'STATN': [], 'VISS_EU_CD': []}\n",
      "subset_alias: test_kustzon \n",
      "subset uuid: e2ede510-cd06-44f2-a775-8f0c6840057e\n",
      "{'MYEAR': ['2007', '2008', '2009', '2010', '2011', '2012'], 'STATN': [], 'VISS_EU_CD': []}\n"
     ]
    }
   ],
   "source": [
    "###############################################################################################################################\n",
    "# #### waterbody filter\n",
    "w.set_data_filter(subset = subset_uuid, step=1, \n",
    "                         filter_type='include_list', \n",
    "                         filter_name='viss_eu_cd', data = []) #'SE584340-174401', 'SE581700-113000', 'SE654470-222700', 'SE633000-195000', 'SE625180-181655'\n",
    "#                          data=['SE584340-174401', 'SE581700-113000', 'SE654470-222700', 'SE633000-195000', 'SE625180-181655']) \n",
    "#                          wb with no data for din 'SE591400-182320'\n",
    "  \n",
    "f1 = w.get_data_filter_object(subset = subset_uuid, step=1) \n",
    "print(f1.include_list_filter)\n",
    "\n",
    "print('subset_alias:', subset_alias, '\\nsubset uuid:', subset_uuid)\n",
    "\n",
    "f1 = w.get_data_filter_object(subset = subset_uuid, step=1) \n",
    "print(f1.include_list_filter)"
   ]
  },
  {
   "cell_type": "code",
   "execution_count": 35,
   "metadata": {},
   "outputs": [
    {
     "name": "stdout",
     "output_type": "stream",
     "text": [
      "['SE641250-211751' 'SE648760-213140' 'SE652400-223501' 'SE653840-247900'\n",
      " 'SE653870-235570']\n"
     ]
    }
   ],
   "source": [
    "###############################################################################################################################    \n",
    "# ## Apply step 1 datafilter to subset\n",
    "w.apply_data_filter(subset = subset_uuid, step = 1)\n",
    "filtered_data = w.get_filtered_data(step = 1, subset = subset_uuid)\n",
    "print(filtered_data['VISS_EU_CD'].unique())"
   ]
  },
  {
   "cell_type": "code",
   "execution_count": 51,
   "metadata": {},
   "outputs": [
    {
     "data": {
      "text/html": [
       "<div>\n",
       "<table border=\"1\" class=\"dataframe\">\n",
       "  <thead>\n",
       "    <tr style=\"text-align: right;\">\n",
       "      <th></th>\n",
       "      <th>AMON</th>\n",
       "      <th>NTRA</th>\n",
       "      <th>DIN</th>\n",
       "      <th>CPHL_INTEG_CALC</th>\n",
       "      <th>DEPH</th>\n",
       "    </tr>\n",
       "  </thead>\n",
       "  <tbody>\n",
       "    <tr>\n",
       "      <th>0</th>\n",
       "      <td>0.180</td>\n",
       "      <td>6.238</td>\n",
       "      <td>6.42</td>\n",
       "      <td>NaN</td>\n",
       "      <td>0.00</td>\n",
       "    </tr>\n",
       "    <tr>\n",
       "      <th>1</th>\n",
       "      <td>0.180</td>\n",
       "      <td>6.238</td>\n",
       "      <td>6.42</td>\n",
       "      <td>NaN</td>\n",
       "      <td>0.25</td>\n",
       "    </tr>\n",
       "    <tr>\n",
       "      <th>2</th>\n",
       "      <td>0.179</td>\n",
       "      <td>6.237</td>\n",
       "      <td>6.42</td>\n",
       "      <td>NaN</td>\n",
       "      <td>0.75</td>\n",
       "    </tr>\n",
       "    <tr>\n",
       "      <th>3</th>\n",
       "      <td>0.175</td>\n",
       "      <td>6.245</td>\n",
       "      <td>6.42</td>\n",
       "      <td>NaN</td>\n",
       "      <td>1.25</td>\n",
       "    </tr>\n",
       "    <tr>\n",
       "      <th>4</th>\n",
       "      <td>0.165</td>\n",
       "      <td>6.266</td>\n",
       "      <td>6.43</td>\n",
       "      <td>NaN</td>\n",
       "      <td>1.75</td>\n",
       "    </tr>\n",
       "  </tbody>\n",
       "</table>\n",
       "</div>"
      ],
      "text/plain": [
       "    AMON   NTRA   DIN  CPHL_INTEG_CALC  DEPH\n",
       "0  0.180  6.238  6.42              NaN  0.00\n",
       "1  0.180  6.238  6.42              NaN  0.25\n",
       "2  0.179  6.237  6.42              NaN  0.75\n",
       "3  0.175  6.245  6.42              NaN  1.25\n",
       "4  0.165  6.266  6.43              NaN  1.75"
      ]
     },
     "execution_count": 51,
     "metadata": {},
     "output_type": "execute_result"
    }
   ],
   "source": [
    "filtered_data[['AMON','NTRA','DIN','CPHL_INTEG_CALC','DEPH']].head()"
   ]
  },
  {
   "cell_type": "markdown",
   "metadata": {},
   "source": [
    "############################################################################################################################### \n",
    "# Step 2"
   ]
  },
  {
   "cell_type": "code",
   "execution_count": 36,
   "metadata": {
    "collapsed": true
   },
   "outputs": [],
   "source": [
    "### Load indicator settings filter \n",
    "w.get_step_object(step = 2, subset = subset_uuid).load_indicator_settings_filters()"
   ]
  },
  {
   "cell_type": "code",
   "execution_count": 37,
   "metadata": {},
   "outputs": [
    {
     "data": {
      "text/plain": [
       "[]"
      ]
     },
     "execution_count": 37,
     "metadata": {},
     "output_type": "execute_result"
    }
   ],
   "source": [
    "############################################################################################################################### \n",
    "### set available indicators  \n",
    "w.get_available_indicators(subset= subset_uuid, step=2)\n",
    " "
   ]
  },
  {
   "cell_type": "code",
   "execution_count": 38,
   "metadata": {
    "collapsed": true
   },
   "outputs": [],
   "source": [
    "###############################################################################################################################\n",
    "# ### choose indicators\n",
    "#list(zip(typeA_list, df_step1.WATER_TYPE_AREA.unique()))\n",
    "# indicator_list = ['oxygen','din_winter','ntot_summer', 'ntot_winter', 'dip_winter', 'ptot_summer', 'ptot_winter','bqi', 'biov', 'chl', 'secchi']\n",
    "# indicator_list = ['din_winter','ntot_summer', 'ntot_winter', 'dip_winter', 'ptot_summer', 'ptot_winter']\n",
    "#indicator_list = ['biov', 'chl']\n",
    "# indicator_list = ['bqi', 'biov', 'chl', 'secchi']\n",
    "#indicator_list = ['bqi', 'secchi'] + ['biov', 'chl'] + ['din_winter']\n",
    "# indicator_list = ['din_winter','ntot_summer']\n",
    "# indicator_list = ['indicator_' + indicator for indicator in indicator_list]\n",
    "indicator_list = w.available_indicators"
   ]
  },
  {
   "cell_type": "code",
   "execution_count": 39,
   "metadata": {},
   "outputs": [
    {
     "name": "stdout",
     "output_type": "stream",
     "text": [
      "apply indicator data filter to []\n"
     ]
    }
   ],
   "source": [
    "###############################################################################################################################  \n",
    "# ### Apply indicator data filter\n",
    "print('apply indicator data filter to {}'.format(indicator_list))\n",
    "for indicator in indicator_list:\n",
    "    w.apply_indicator_data_filter(step = 2, \n",
    "                          subset = subset_uuid, \n",
    "                          indicator = indicator)#,\n",
    "#                         water_body_list = test_wb)\n",
    "    #print(w.mapping_objects['water_body'][wb])\n",
    "    #print('*************************************')\n",
    "\n",
    "#df = w.get_filtered_data(subset = subset_uuid, step = 'step_2', water_body = 'SE625180-181655', indicator = 'indicator_din_winter').dropna(subset = ['DIN'])"
   ]
  },
  {
   "cell_type": "markdown",
   "metadata": {},
   "source": [
    "############################################################################################################################### \n",
    "# Step 3 "
   ]
  },
  {
   "cell_type": "code",
   "execution_count": 40,
   "metadata": {},
   "outputs": [
    {
     "name": "stdout",
     "output_type": "stream",
     "text": [
      "indicator set up to []\n"
     ]
    }
   ],
   "source": [
    "# ### Set up indicator objects\n",
    "print('indicator set up to {}'.format(indicator_list))\n",
    "w.get_step_object(step = 3, subset = subset_uuid).indicator_setup(indicator_list = indicator_list) "
   ]
  },
  {
   "cell_type": "code",
   "execution_count": 41,
   "metadata": {},
   "outputs": [
    {
     "name": "stdout",
     "output_type": "stream",
     "text": [
      "CALCULATE STATUS to []\n"
     ]
    }
   ],
   "source": [
    "###############################################################################################################################\n",
    "# ### CALCULATE STATUS\n",
    "print('CALCULATE STATUS to {}'.format(indicator_list))\n",
    "w.get_step_object(step = 3, subset = subset_uuid).calculate_status(indicator_list = indicator_list)"
   ]
  },
  {
   "cell_type": "code",
   "execution_count": null,
   "metadata": {
    "collapsed": true
   },
   "outputs": [],
   "source": [
    "###############################################################################################################################  \n",
    "# ### CALCULATE QUALITY ELEMENTS\n",
    "w.get_step_object(step = 3, subset = subset_uuid).calculate_quality_element(quality_element = 'nutrients')\n",
    "# w.get_step_object(step = 3, subset = subset_uuid).calculate_quality_element(quality_element = 'phytoplankton')\n",
    "# w.get_step_object(step = 3, subset = subset_uuid).calculate_quality_element(quality_element = 'bottomfauna')\n",
    "# w.get_step_object(step = 3, subset = subset_uuid).calculate_quality_element(quality_element = 'oxygen')\n",
    "# w.get_step_object(step = 3, subset = subset_uuid).calculate_quality_element(quality_element = 'secchi')\n",
    " \n",
    "# w.get_step_object(step = 3, subset = subset_uuid).calculate_quality_element(subset_unique_id = subset_uuid, quality_element = 'Phytoplankton')\n",
    " \n",
    " "
   ]
  }
 ],
 "metadata": {
  "kernelspec": {
   "display_name": "Python 3",
   "language": "python",
   "name": "python3"
  },
  "language_info": {
   "codemirror_mode": {
    "name": "ipython",
    "version": 3
   },
   "file_extension": ".py",
   "mimetype": "text/x-python",
   "name": "python",
   "nbconvert_exporter": "python",
   "pygments_lexer": "ipython3",
   "version": "3.6.4"
  }
 },
 "nbformat": 4,
 "nbformat_minor": 2
}
