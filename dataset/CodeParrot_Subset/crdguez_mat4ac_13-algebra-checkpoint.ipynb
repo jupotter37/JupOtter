{
 "cells": [
  {
   "cell_type": "markdown",
   "metadata": {
    "colab_type": "text",
    "id": "view-in-github"
   },
   "source": [
    "<a href=\"https://colab.research.google.com/github/crdguez/mat4ac/blob/master/notebooks/12-Radicales.ipynb\" target=\"_parent\"><img src=\"https://colab.research.google.com/assets/colab-badge.svg\" alt=\"Open In Colab\"/></a>"
   ]
  },
  {
   "cell_type": "code",
   "execution_count": 35,
   "metadata": {
    "colab": {
     "base_uri": "https://localhost:8080/",
     "height": 68
    },
    "id": "9X_4fdzd0gZQ",
    "outputId": "19d9a03d-f8df-4555-fd42-000b806eda13"
   },
   "outputs": [
    {
     "name": "stdout",
     "output_type": "stream",
     "text": [
      "Requirement already satisfied: sympy==1.3 in /usr/local/lib/python3.6/dist-packages (1.3)\n",
      "Requirement already satisfied: antlr4-python3-runtime==4.7.1 in /usr/local/lib/python3.6/dist-packages (4.7.1)\n",
      "Requirement already satisfied: mpmath>=0.19 in /usr/local/lib/python3.6/dist-packages (from sympy==1.3) (1.1.0)\n"
     ]
    }
   ],
   "source": [
    "# Ejecutar para que funcione el parse_latex en google colab\n",
    "\n",
    "!pip install sympy==1.3 antlr4-python3-runtime==4.7.1"
   ]
  },
  {
   "cell_type": "code",
   "execution_count": 36,
   "metadata": {
    "colab": {
     "base_uri": "https://localhost:8080/",
     "height": 221
    },
    "id": "xYDbOmkG0YbJ",
    "outputId": "bcff78d4-abee-405c-da80-f3067ea1e0dc"
   },
   "outputs": [
    {
     "name": "stdout",
     "output_type": "stream",
     "text": [
      "IPython console for SymPy 1.3 (Python 3.6.9-64-bit) (ground types: python)\n",
      "\n",
      "These commands were executed:\n",
      ">>> from __future__ import division\n",
      ">>> from sympy import *\n",
      ">>> x, y, z, t = symbols('x y z t')\n",
      ">>> k, m, n = symbols('k m n', integer=True)\n",
      ">>> f, g, h = symbols('f g h', cls=Function)\n",
      ">>> init_printing()\n",
      "\n",
      "Documentation can be found at http://docs.sympy.org/1.3/\n",
      "\n"
     ]
    }
   ],
   "source": [
    "from sympy import init_session\n",
    "from sympy.parsing.latex import parse_latex\n",
    "from IPython.display import Markdown as md\n",
    "from IPython.display import display\n",
    "import numpy as np\n",
    "\n",
    "init_session()\n",
    "\n",
    "a, b, c, d = symbols('a b c d', real = True)"
   ]
  },
  {
   "cell_type": "code",
   "execution_count": 37,
   "metadata": {
    "id": "vPXI53QN0Ycw"
   },
   "outputs": [],
   "source": [
    "def mostrar_ejercicio(ejercicio,solucion,tipo=0) :\n",
    "    #tipo=0 se pasa el ejercicio y la solucion en formato latex\n",
    "    if tipo == 0 :\n",
    "        display(md(\"#### Ejercicio:\"))\n",
    "        display(md(r\"{} $\\to$ {}\".format(ejercicio, solucion)))\n",
    "        print(\"enunciado_latex: \" + ejercicio)\n",
    "        print(\"solucion_latex: \" + solucion)\n",
    "        return ejercicio, solucion\n",
    "    elif tipo == 1:\n",
    "        display(md(\"#### Ejercicio:\"))\n",
    "        display(md(r\"{} $\\to$ {}\".format(ejercicio, solucion)))\n",
    "        print(\"enunciado_latex: \" + ejercicio)\n",
    "        print(\"solucion_latex: \" + solucion)\n",
    "        return ejercicio, solucion\n",
    "\n",
    "        \n",
    "    "
   ]
  },
  {
   "cell_type": "code",
   "execution_count": 38,
   "metadata": {
    "colab": {
     "base_uri": "https://localhost:8080/",
     "height": 586
    },
    "id": "6aSd_z-t0YdR",
    "outputId": "98852a11-a236-43e1-ddf9-3b3f8a26662f"
   },
   "outputs": [
    {
     "data": {
      "text/markdown": [
       "## Clasificar números:"
      ],
      "text/plain": [
       "<IPython.core.display.Markdown object>"
      ]
     },
     "metadata": {
      "tags": []
     },
     "output_type": "display_data"
    },
    {
     "data": {
      "text/markdown": [
       "#### Ejercicio:"
      ],
      "text/plain": [
       "<IPython.core.display.Markdown object>"
      ]
     },
     "metadata": {
      "tags": []
     },
     "output_type": "display_data"
    },
    {
     "data": {
      "text/markdown": [
       "\\begin{tabular}{|c |c |c |c |c|}\\hline\n",
       "    &$\\mathbb{N}$& $\\mathbb{Z}$& $\\mathbb{Q}$&$\\mathbb{R}$\\\\ \n",
       "    \\hline $\\frac{1}{2}$&&&&\\\\ \\hline $\\sqrt[3]{-27}$ &&&&\\\\ \\hline \\end{tabular} $\\to$ \\begin{tabular}{|c |c |c |c |c|}\\hline\n",
       "    &$\\mathbb{N}$& $\\mathbb{Z}$& $\\mathbb{Q}$&$\\mathbb{R}$\\\\ \n",
       "    \\hline$\\frac{1}{2}$ & False & False & True & True\\\\ \\hline $\\sqrt[3]{-27}$ & False & False & False & False\\\\ \\hline \\end{tabular}"
      ],
      "text/plain": [
       "<IPython.core.display.Markdown object>"
      ]
     },
     "metadata": {
      "tags": []
     },
     "output_type": "display_data"
    },
    {
     "name": "stdout",
     "output_type": "stream",
     "text": [
      "enunciado_latex: \\begin{tabular}{|c |c |c |c |c|}\\hline\n",
      "    &$\\mathbb{N}$& $\\mathbb{Z}$& $\\mathbb{Q}$&$\\mathbb{R}$\\\\ \n",
      "    \\hline $\\frac{1}{2}$&&&&\\\\ \\hline $\\sqrt[3]{-27}$ &&&&\\\\ \\hline \\end{tabular}\n",
      "solucion_latex: \\begin{tabular}{|c |c |c |c |c|}\\hline\n",
      "    &$\\mathbb{N}$& $\\mathbb{Z}$& $\\mathbb{Q}$&$\\mathbb{R}$\\\\ \n",
      "    \\hline$\\frac{1}{2}$ & False & False & True & True\\\\ \\hline $\\sqrt[3]{-27}$ & False & False & False & False\\\\ \\hline \\end{tabular}\n"
     ]
    },
    {
     "data": {
      "text/markdown": [
       "#### Ejercicio:"
      ],
      "text/plain": [
       "<IPython.core.display.Markdown object>"
      ]
     },
     "metadata": {
      "tags": []
     },
     "output_type": "display_data"
    },
    {
     "data": {
      "text/markdown": [
       "\\begin{tabular}{|c |c |c |c |c|}\\hline\n",
       "    &$\\mathbb{N}$& $\\mathbb{Z}$& $\\mathbb{Q}$&$\\mathbb{R}$\\\\ \n",
       "    \\hline $(-1)^3$&&&&\\\\ \\hline $-\\frac{20}{2}$&&&&\\\\ \\hline $-4^2$ &&&&\\\\ \\hline \\end{tabular} $\\to$ \\begin{tabular}{|c |c |c |c |c|}\\hline\n",
       "    &$\\mathbb{N}$& $\\mathbb{Z}$& $\\mathbb{Q}$&$\\mathbb{R}$\\\\ \n",
       "    \\hline$(-1)^3$ & False & True & True & True\\\\ \\hline $-\\frac{20}{2}$ & False & True & True & True\\\\ \\hline $-4^2$ & False & True & True & True\\\\ \\hline \\end{tabular}"
      ],
      "text/plain": [
       "<IPython.core.display.Markdown object>"
      ]
     },
     "metadata": {
      "tags": []
     },
     "output_type": "display_data"
    },
    {
     "name": "stdout",
     "output_type": "stream",
     "text": [
      "enunciado_latex: \\begin{tabular}{|c |c |c |c |c|}\\hline\n",
      "    &$\\mathbb{N}$& $\\mathbb{Z}$& $\\mathbb{Q}$&$\\mathbb{R}$\\\\ \n",
      "    \\hline $(-1)^3$&&&&\\\\ \\hline $-\\frac{20}{2}$&&&&\\\\ \\hline $-4^2$ &&&&\\\\ \\hline \\end{tabular}\n",
      "solucion_latex: \\begin{tabular}{|c |c |c |c |c|}\\hline\n",
      "    &$\\mathbb{N}$& $\\mathbb{Z}$& $\\mathbb{Q}$&$\\mathbb{R}$\\\\ \n",
      "    \\hline$(-1)^3$ & False & True & True & True\\\\ \\hline $-\\frac{20}{2}$ & False & True & True & True\\\\ \\hline $-4^2$ & False & True & True & True\\\\ \\hline \\end{tabular}\n"
     ]
    }
   ],
   "source": [
    "# Clasificar números\n",
    "\n",
    "ejercicios=[\n",
    "            [r'\\frac{1}{2}', '\\sqrt[3]{-27}'],\n",
    "            [r'(-1)^3',r'-\\frac{20}{2}',r'-4^2']\n",
    "            \n",
    "           ]\n",
    "\n",
    "display(md(\"## Clasificar números:\"))\n",
    "\n",
    "for e in ejercicios :\n",
    "    enunciado_latex = r\"\"\"\\begin{tabular}{|c |c |c |c |c|}\\hline\n",
    "    &$\\mathbb{N}$& $\\mathbb{Z}$& $\\mathbb{Q}$&$\\mathbb{R}$\\\\ \n",
    "    \\hline $\"\"\"\n",
    "    enunciado_latex += r\"\"\"$&&&&\\\\ \\hline $\"\"\".join(e)\n",
    "    enunciado_latex += r'$ &&&&\\\\ \\hline \\end{tabular}'\n",
    "    solucion_latex = r\"\"\"\\begin{tabular}{|c |c |c |c |c|}\\hline\n",
    "    &$\\mathbb{N}$& $\\mathbb{Z}$& $\\mathbb{Q}$&$\\mathbb{R}$\\\\ \n",
    "    \\hline\"\"\"\n",
    "    for ee in e:\n",
    "        n = parse_latex(ee)\n",
    "        linea =  n in S.Naturals, ask(Q.integer(n)),ask(Q.rational(n)), n in S.Reals\n",
    "        lista = []\n",
    "        lista.append(r\"${}$\".format(ee))\n",
    "        [lista.append(str(i)) for i in linea]\n",
    "        #solucion_latex += r\"\"\"${}$&{}&{}&{}&{}\\\\ \\hline \"\"\".format(n,linea[0],linea[1],linea[2],linea[3])\n",
    "        solucion_latex += r\"\"\" & \"\"\".join(lista)\n",
    "        solucion_latex += r\"\"\"\\\\ \\hline \"\"\"\n",
    "        #print(n,lista)\n",
    "    solucion_latex += r'\\end{tabular}'\n",
    "\n",
    "\n",
    "    #print(enunciado_latex)\n",
    "\n",
    "    mostrar_ejercicio(enunciado_latex, solucion_latex)  \n"
   ]
  },
  {
   "cell_type": "code",
   "execution_count": 39,
   "metadata": {
    "colab": {
     "base_uri": "https://localhost:8080/",
     "height": 350
    },
    "id": "zPwk1kx60Ydm",
    "outputId": "56542a0b-7a3d-4ca1-80d1-1cf410d4719c"
   },
   "outputs": [
    {
     "data": {
      "text/markdown": [
       "## Calcula la Unión y la Intersección de los siguientes conjuntos (da el resultado en forma de intervalo y de desigualdad):"
      ],
      "text/plain": [
       "<IPython.core.display.Markdown object>"
      ]
     },
     "metadata": {
      "tags": []
     },
     "output_type": "display_data"
    },
    {
     "data": {
      "text/markdown": [
       "#### Ejercicio:"
      ],
      "text/plain": [
       "<IPython.core.display.Markdown object>"
      ]
     },
     "metadata": {
      "tags": []
     },
     "output_type": "display_data"
    },
    {
     "data": {
      "text/markdown": [
       "$A=\\left[2, 10\\right)$ y $B=\\{x|7 < x \\wedge x < 12\\}$ $\\to$ Unión: \\\\ $A\\cup B=\\left[2, 12\\right)$ ó $A\\cup B= \\{x|2 \\leq x \\wedge x < 12\\}$ \\\\Intersección: \\\\ $A\\cap B =\\left(7, 10\\right)$ ó $A\\cap B=\\{x|7 < x \\wedge x < 10\\}$"
      ],
      "text/plain": [
       "<IPython.core.display.Markdown object>"
      ]
     },
     "metadata": {
      "tags": []
     },
     "output_type": "display_data"
    },
    {
     "name": "stdout",
     "output_type": "stream",
     "text": [
      "enunciado_latex: $A=\\left[2, 10\\right)$ y $B=\\{x|7 < x \\wedge x < 12\\}$\n",
      "solucion_latex: Unión: \\\\ $A\\cup B=\\left[2, 12\\right)$ ó $A\\cup B= \\{x|2 \\leq x \\wedge x < 12\\}$ \\\\Intersección: \\\\ $A\\cap B =\\left(7, 10\\right)$ ó $A\\cap B=\\{x|7 < x \\wedge x < 10\\}$\n"
     ]
    },
    {
     "data": {
      "text/markdown": [
       "#### Ejercicio:"
      ],
      "text/plain": [
       "<IPython.core.display.Markdown object>"
      ]
     },
     "metadata": {
      "tags": []
     },
     "output_type": "display_data"
    },
    {
     "data": {
      "text/markdown": [
       "$A=\\left[-1, 4\\right)$ y $B=\\{x|x \\leq 4 \\wedge 1 < x\\}$ $\\to$ Unión: \\\\ $A\\cup B=\\left[-1, 4\\right]$ ó $A\\cup B= \\{x|-1 \\leq x \\wedge x \\leq 4\\}$ \\\\Intersección: \\\\ $A\\cap B =\\left(1, 4\\right)$ ó $A\\cap B=\\{x|1 < x \\wedge x < 4\\}$"
      ],
      "text/plain": [
       "<IPython.core.display.Markdown object>"
      ]
     },
     "metadata": {
      "tags": []
     },
     "output_type": "display_data"
    },
    {
     "name": "stdout",
     "output_type": "stream",
     "text": [
      "enunciado_latex: $A=\\left[-1, 4\\right)$ y $B=\\{x|x \\leq 4 \\wedge 1 < x\\}$\n",
      "solucion_latex: Unión: \\\\ $A\\cup B=\\left[-1, 4\\right]$ ó $A\\cup B= \\{x|-1 \\leq x \\wedge x \\leq 4\\}$ \\\\Intersección: \\\\ $A\\cap B =\\left(1, 4\\right)$ ó $A\\cap B=\\{x|1 < x \\wedge x < 4\\}$\n"
     ]
    }
   ],
   "source": [
    "# Conjuntos de números\n",
    "\n",
    "display(md(\"## Calcula la Unión y la Intersección de los siguientes conjuntos (da el resultado en forma de intervalo y de desigualdad):\"))\n",
    "\n",
    "ejercicios=[\n",
    "            [Interval.Ropen(2,10),Interval.open(7,12)],\n",
    "            [Interval.Ropen(-1,4),Interval.Lopen(1,4)],\n",
    "\n",
    "            \n",
    "           ]\n",
    "\n",
    "for e in ejercicios:\n",
    "    a=e[0]\n",
    "    b=e[1]\n",
    "    #ejercicio = r\"$A=\"+latex(a)+r\"$ y $B=\"+ latex(b)+r\"$\"\n",
    "    ejercicio = r\"$A=\"+latex(a)+r\"$ y $B=\\{x|\"+ latex(b.as_relational(x))+r\"\\}$\"\n",
    "    solucion = r\"Unión: \\\\ $A\\cup B=\"+latex(a.union(b))+r\"$ ó $A\\cup B= \\{x|\"+latex(a.union(b).as_relational(x))+r\"\\}$ \\\\\"+r\"Intersección: \\\\ $A\\cap B =\"+latex(a.intersection(b))+r\"$ ó $A\\cap B=\\{x|\"+latex(a.intersection(b).as_relational(x))+r\"\\}$\"\n",
    "    mostrar_ejercicio(ejercicio,solucion)\n",
    "\n",
    "\n"
   ]
  },
  {
   "cell_type": "code",
   "execution_count": 40,
   "metadata": {
    "colab": {
     "base_uri": "https://localhost:8080/",
     "height": 204
    },
    "id": "kCFOtdXs0Yen",
    "outputId": "c2c723c4-a8fb-47a7-adb9-3e050e45e991"
   },
   "outputs": [
    {
     "data": {
      "text/markdown": [
       "## Opera las siguientes potencias:"
      ],
      "text/plain": [
       "<IPython.core.display.Markdown object>"
      ]
     },
     "metadata": {
      "tags": []
     },
     "output_type": "display_data"
    },
    {
     "data": {
      "text/markdown": [
       "#### Ejercicio:"
      ],
      "text/plain": [
       "<IPython.core.display.Markdown object>"
      ]
     },
     "metadata": {
      "tags": []
     },
     "output_type": "display_data"
    },
    {
     "data": {
      "text/markdown": [
       "$\\frac{(2^3\\cdot3^2\\cdot5)^{-4}}{(2^{-2}\\cdot3^{-3})^{3}}$ $\\to$ $\\frac{3^{1}}{2^{6} \\cdot 5^{4}}$"
      ],
      "text/plain": [
       "<IPython.core.display.Markdown object>"
      ]
     },
     "metadata": {
      "tags": []
     },
     "output_type": "display_data"
    },
    {
     "name": "stdout",
     "output_type": "stream",
     "text": [
      "enunciado_latex: $\\frac{(2^3\\cdot3^2\\cdot5)^{-4}}{(2^{-2}\\cdot3^{-3})^{3}}$\n",
      "solucion_latex: $\\frac{3^{1}}{2^{6} \\cdot 5^{4}}$\n"
     ]
    },
    {
     "data": {
      "text/plain": [
       "[('$\\\\frac{(2^3\\\\cdot3^2\\\\cdot5)^{-4}}{(2^{-2}\\\\cdot3^{-3})^{3}}$',\n",
       "  '$\\\\frac{3^{1}}{2^{6} \\\\cdot 5^{4}}$')]"
      ]
     },
     "execution_count": 40,
     "metadata": {
      "tags": []
     },
     "output_type": "execute_result"
    }
   ],
   "source": [
    "# Operar potencias\n",
    "\n",
    "ejercicios=[\n",
    "            r'\\frac{(2^3\\cdot3^2\\cdot5)^{-4}}{(2^{-2}\\cdot3^{-3})^{3}}',\n",
    "            \n",
    "           ]\n",
    "\n",
    "display(md(\"## Opera las siguientes potencias:\"))\n",
    "\n",
    "  \n",
    "#[mostrar_ejercicio(e, latex(simplify(parse_latex(e)))) for e in ejercicios]    \n",
    "\n",
    "[mostrar_ejercicio(\"$\"+e+\"$\", \"$\"+latex(S(parse_latex(r\"\\frac{\"+latex(factorint(simplify(parse_latex(e)).as_numer_denom()[0] , visual=True))+r\"}{\" +latex(factorint(simplify(parse_latex(e)).as_numer_denom()[1], visual=True))+\"}\"), evaluate=False))+\"$\") for e in ejercicios]    \n",
    "\n",
    "\n"
   ]
  },
  {
   "cell_type": "code",
   "execution_count": 41,
   "metadata": {
    "colab": {
     "base_uri": "https://localhost:8080/",
     "height": 483
    },
    "id": "cQtW0akV0YfG",
    "outputId": "600fcb80-c67d-493e-cb1b-4a8d2453fc11"
   },
   "outputs": [
    {
     "data": {
      "text/markdown": [
       "## Opera las siguientes potencias con variables:"
      ],
      "text/plain": [
       "<IPython.core.display.Markdown object>"
      ]
     },
     "metadata": {
      "tags": []
     },
     "output_type": "display_data"
    },
    {
     "data": {
      "text/markdown": [
       "#### Ejercicio:"
      ],
      "text/plain": [
       "<IPython.core.display.Markdown object>"
      ]
     },
     "metadata": {
      "tags": []
     },
     "output_type": "display_data"
    },
    {
     "data": {
      "text/markdown": [
       "$(\\frac{6p^3d^2}{5q})^4\\cdot(\\frac{20p^2q^3}{24d})^4$ $\\to$ $d^{4} p^{20} q^{8}$"
      ],
      "text/plain": [
       "<IPython.core.display.Markdown object>"
      ]
     },
     "metadata": {
      "tags": []
     },
     "output_type": "display_data"
    },
    {
     "name": "stdout",
     "output_type": "stream",
     "text": [
      "enunciado_latex: $(\\frac{6p^3d^2}{5q})^4\\cdot(\\frac{20p^2q^3}{24d})^4$\n",
      "solucion_latex: $d^{4} p^{20} q^{8}$\n"
     ]
    },
    {
     "data": {
      "text/markdown": [
       "#### Ejercicio:"
      ],
      "text/plain": [
       "<IPython.core.display.Markdown object>"
      ]
     },
     "metadata": {
      "tags": []
     },
     "output_type": "display_data"
    },
    {
     "data": {
      "text/markdown": [
       "$(\\frac{8p^5d^2}{3q})^3\\cdot(\\frac{12p^4q^3}{32d})^4$ $\\to$ $\\frac{3 d^{2} p^{31} q^{9}}{8}$"
      ],
      "text/plain": [
       "<IPython.core.display.Markdown object>"
      ]
     },
     "metadata": {
      "tags": []
     },
     "output_type": "display_data"
    },
    {
     "name": "stdout",
     "output_type": "stream",
     "text": [
      "enunciado_latex: $(\\frac{8p^5d^2}{3q})^3\\cdot(\\frac{12p^4q^3}{32d})^4$\n",
      "solucion_latex: $\\frac{3 d^{2} p^{31} q^{9}}{8}$\n"
     ]
    },
    {
     "data": {
      "text/markdown": [
       "#### Ejercicio:"
      ],
      "text/plain": [
       "<IPython.core.display.Markdown object>"
      ]
     },
     "metadata": {
      "tags": []
     },
     "output_type": "display_data"
    },
    {
     "data": {
      "text/markdown": [
       "$(\\frac{12a^6b^4}{36c})^2\\cdot(\\frac{4a^6b^3}{12c})^3$ $\\to$ $\\frac{a^{30} b^{17}}{243 c^{5}}$"
      ],
      "text/plain": [
       "<IPython.core.display.Markdown object>"
      ]
     },
     "metadata": {
      "tags": []
     },
     "output_type": "display_data"
    },
    {
     "name": "stdout",
     "output_type": "stream",
     "text": [
      "enunciado_latex: $(\\frac{12a^6b^4}{36c})^2\\cdot(\\frac{4a^6b^3}{12c})^3$\n",
      "solucion_latex: $\\frac{a^{30} b^{17}}{243 c^{5}}$\n"
     ]
    },
    {
     "data": {
      "text/plain": [
       "[('$(\\\\frac{6p^3d^2}{5q})^4\\\\cdot(\\\\frac{20p^2q^3}{24d})^4$',\n",
       "  '$d^{4} p^{20} q^{8}$'),\n",
       " ('$(\\\\frac{8p^5d^2}{3q})^3\\\\cdot(\\\\frac{12p^4q^3}{32d})^4$',\n",
       "  '$\\\\frac{3 d^{2} p^{31} q^{9}}{8}$'),\n",
       " ('$(\\\\frac{12a^6b^4}{36c})^2\\\\cdot(\\\\frac{4a^6b^3}{12c})^3$',\n",
       "  '$\\\\frac{a^{30} b^{17}}{243 c^{5}}$')]"
      ]
     },
     "execution_count": 41,
     "metadata": {
      "tags": []
     },
     "output_type": "execute_result"
    }
   ],
   "source": [
    "# Operar potencias con variables\n",
    "\n",
    "ejercicios=[\n",
    "            r'(\\frac{6p^3d^2}{5q})^4\\cdot(\\frac{20p^2q^3}{24d})^4',\n",
    "            #autoevaluación\n",
    "            r'(\\frac{8p^5d^2}{3q})^3\\cdot(\\frac{12p^4q^3}{32d})^4',\n",
    "            r'(\\frac{12a^6b^4}{36c})^2\\cdot(\\frac{4a^6b^3}{12c})^3',\n",
    "\n",
    "           ]\n",
    "\n",
    "display(md(\"## Opera las siguientes potencias con variables:\"))\n",
    "\n",
    "  \n",
    "[mostrar_ejercicio(\"$\"+e+\"$\", \"$\"+latex(simplify(parse_latex(e)))+\"$\") for e in ejercicios]    \n",
    "\n",
    "#[mostrar_ejercicio(e, latex(S(parse_latex(r\"\\frac{\"+latex(factorint(simplify(parse_latex(e)).as_numer_denom()[0] , visual=True))+r\"}{\" +latex(factorint(simplify(parse_latex(e)).as_numer_denom()[1], visual=True))+\"}\"), evaluate=False))) for e in ejercicios]    \n",
    "\n",
    "\n"
   ]
  },
  {
   "cell_type": "code",
   "execution_count": 42,
   "metadata": {
    "colab": {
     "base_uri": "https://localhost:8080/",
     "height": 470
    },
    "id": "MWHwaW2L0YfY",
    "outputId": "ee89967f-c112-4b3b-adb8-7d229f1de7e0"
   },
   "outputs": [
    {
     "data": {
      "text/markdown": [
       "## Operar en notación científica:"
      ],
      "text/plain": [
       "<IPython.core.display.Markdown object>"
      ]
     },
     "metadata": {
      "tags": []
     },
     "output_type": "display_data"
    },
    {
     "data": {
      "text/markdown": [
       "#### Ejercicio:"
      ],
      "text/plain": [
       "<IPython.core.display.Markdown object>"
      ]
     },
     "metadata": {
      "tags": []
     },
     "output_type": "display_data"
    },
    {
     "data": {
      "text/markdown": [
       "$\\frac{1000\\cdot12000\\cdot0.02\\cdot0.01}{400\\cdot0.00003}$ $\\to$ $2.e+05$"
      ],
      "text/plain": [
       "<IPython.core.display.Markdown object>"
      ]
     },
     "metadata": {
      "tags": []
     },
     "output_type": "display_data"
    },
    {
     "name": "stdout",
     "output_type": "stream",
     "text": [
      "enunciado_latex: $\\frac{1000\\cdot12000\\cdot0.02\\cdot0.01}{400\\cdot0.00003}$\n",
      "solucion_latex: $2.e+05$\n"
     ]
    },
    {
     "data": {
      "text/markdown": [
       "#### Ejercicio:"
      ],
      "text/plain": [
       "<IPython.core.display.Markdown object>"
      ]
     },
     "metadata": {
      "tags": []
     },
     "output_type": "display_data"
    },
    {
     "data": {
      "text/markdown": [
       "$\\frac{50000000\\cdot12000\\cdot0.00002\\cdot0.0001}{400000\\cdot0.00003}$ $\\to$ $1.e+02$"
      ],
      "text/plain": [
       "<IPython.core.display.Markdown object>"
      ]
     },
     "metadata": {
      "tags": []
     },
     "output_type": "display_data"
    },
    {
     "name": "stdout",
     "output_type": "stream",
     "text": [
      "enunciado_latex: $\\frac{50000000\\cdot12000\\cdot0.00002\\cdot0.0001}{400000\\cdot0.00003}$\n",
      "solucion_latex: $1.e+02$\n"
     ]
    },
    {
     "data": {
      "text/markdown": [
       "#### Ejercicio:"
      ],
      "text/plain": [
       "<IPython.core.display.Markdown object>"
      ]
     },
     "metadata": {
      "tags": []
     },
     "output_type": "display_data"
    },
    {
     "data": {
      "text/markdown": [
       "$\\frac{36000000\\cdot1000000\\cdot0.00002\\cdot0.0001}{900000\\cdot0.00004}$ $\\to$ $2.e+03$"
      ],
      "text/plain": [
       "<IPython.core.display.Markdown object>"
      ]
     },
     "metadata": {
      "tags": []
     },
     "output_type": "display_data"
    },
    {
     "name": "stdout",
     "output_type": "stream",
     "text": [
      "enunciado_latex: $\\frac{36000000\\cdot1000000\\cdot0.00002\\cdot0.0001}{900000\\cdot0.00004}$\n",
      "solucion_latex: $2.e+03$\n"
     ]
    },
    {
     "data": {
      "text/plain": [
       "[('$\\\\frac{1000\\\\cdot12000\\\\cdot0.02\\\\cdot0.01}{400\\\\cdot0.00003}$',\n",
       "  '$2.e+05$'),\n",
       " ('$\\\\frac{50000000\\\\cdot12000\\\\cdot0.00002\\\\cdot0.0001}{400000\\\\cdot0.00003}$',\n",
       "  '$1.e+02$'),\n",
       " ('$\\\\frac{36000000\\\\cdot1000000\\\\cdot0.00002\\\\cdot0.0001}{900000\\\\cdot0.00004}$',\n",
       "  '$2.e+03$')]"
      ]
     },
     "execution_count": 42,
     "metadata": {
      "tags": []
     },
     "output_type": "execute_result"
    }
   ],
   "source": [
    "# Operar en notación científica\n",
    "\n",
    "ejercicios=[r'\\frac{1000\\cdot12000\\cdot0.02\\cdot0.01}{400\\cdot0.00003}',\n",
    "            #Autoevaluación\n",
    "            r'\\frac{50000000\\cdot12000\\cdot0.00002\\cdot0.0001}{400000\\cdot0.00003}',\n",
    "            r'\\frac{36000000\\cdot1000000\\cdot0.00002\\cdot0.0001}{900000\\cdot0.00004}',\n",
    "            \n",
    "           ]\n",
    "\n",
    "display(md(\"## Operar en notación científica:\")) \n",
    "    \n",
    "[mostrar_ejercicio(\"$\"+e+\"$\", \"$\"+latex(np.format_float_scientific(cancel(parse_latex(e))))+\"$\") for e in ejercicios]    \n",
    "\n",
    "\n"
   ]
  },
  {
   "cell_type": "code",
   "execution_count": 43,
   "metadata": {
    "colab": {
     "base_uri": "https://localhost:8080/",
     "height": 709
    },
    "id": "ps_kN_-w0Yfm",
    "outputId": "aa594e21-5752-4496-f5ec-1de6f074f3b0"
   },
   "outputs": [
    {
     "data": {
      "text/markdown": [
       "## Simplificar radicales:"
      ],
      "text/plain": [
       "<IPython.core.display.Markdown object>"
      ]
     },
     "metadata": {
      "tags": []
     },
     "output_type": "display_data"
    },
    {
     "data": {
      "text/markdown": [
       "#### Ejercicio:"
      ],
      "text/plain": [
       "<IPython.core.display.Markdown object>"
      ]
     },
     "metadata": {
      "tags": []
     },
     "output_type": "display_data"
    },
    {
     "data": {
      "text/markdown": [
       "$\\sqrt[4]{\\frac{25}{9}\\sqrt[3]{\\frac{9}{25}}}$ $\\to$ $\\frac{3^{\\frac{2}{3}} \\sqrt[3]{5}}{3}$"
      ],
      "text/plain": [
       "<IPython.core.display.Markdown object>"
      ]
     },
     "metadata": {
      "tags": []
     },
     "output_type": "display_data"
    },
    {
     "name": "stdout",
     "output_type": "stream",
     "text": [
      "enunciado_latex: $\\sqrt[4]{\\frac{25}{9}\\sqrt[3]{\\frac{9}{25}}}$\n",
      "solucion_latex: $\\frac{3^{\\frac{2}{3}} \\sqrt[3]{5}}{3}$\n"
     ]
    },
    {
     "data": {
      "text/markdown": [
       "#### Ejercicio:"
      ],
      "text/plain": [
       "<IPython.core.display.Markdown object>"
      ]
     },
     "metadata": {
      "tags": []
     },
     "output_type": "display_data"
    },
    {
     "data": {
      "text/markdown": [
       "$4\\sqrt{20}-3\\sqrt{45}+11\\sqrt{125}-20\\sqrt{5}$ $\\to$ $34 \\sqrt{5}$"
      ],
      "text/plain": [
       "<IPython.core.display.Markdown object>"
      ]
     },
     "metadata": {
      "tags": []
     },
     "output_type": "display_data"
    },
    {
     "name": "stdout",
     "output_type": "stream",
     "text": [
      "enunciado_latex: $4\\sqrt{20}-3\\sqrt{45}+11\\sqrt{125}-20\\sqrt{5}$\n",
      "solucion_latex: $34 \\sqrt{5}$\n"
     ]
    },
    {
     "data": {
      "text/markdown": [
       "#### Ejercicio:"
      ],
      "text/plain": [
       "<IPython.core.display.Markdown object>"
      ]
     },
     "metadata": {
      "tags": []
     },
     "output_type": "display_data"
    },
    {
     "data": {
      "text/markdown": [
       "$\\sqrt{72}\\cdot3\\sqrt{8}$ $\\to$ $72$"
      ],
      "text/plain": [
       "<IPython.core.display.Markdown object>"
      ]
     },
     "metadata": {
      "tags": []
     },
     "output_type": "display_data"
    },
    {
     "name": "stdout",
     "output_type": "stream",
     "text": [
      "enunciado_latex: $\\sqrt{72}\\cdot3\\sqrt{8}$\n",
      "solucion_latex: $72$\n"
     ]
    },
    {
     "data": {
      "text/markdown": [
       "#### Ejercicio:"
      ],
      "text/plain": [
       "<IPython.core.display.Markdown object>"
      ]
     },
     "metadata": {
      "tags": []
     },
     "output_type": "display_data"
    },
    {
     "data": {
      "text/markdown": [
       "$\\frac{(3\\sqrt{2}+\\sqrt{3})^2}{3}$ $\\to$ $2 \\sqrt{6} + 7$"
      ],
      "text/plain": [
       "<IPython.core.display.Markdown object>"
      ]
     },
     "metadata": {
      "tags": []
     },
     "output_type": "display_data"
    },
    {
     "name": "stdout",
     "output_type": "stream",
     "text": [
      "enunciado_latex: $\\frac{(3\\sqrt{2}+\\sqrt{3})^2}{3}$\n",
      "solucion_latex: $2 \\sqrt{6} + 7$\n"
     ]
    },
    {
     "data": {
      "text/markdown": [
       "#### Ejercicio:"
      ],
      "text/plain": [
       "<IPython.core.display.Markdown object>"
      ]
     },
     "metadata": {
      "tags": []
     },
     "output_type": "display_data"
    },
    {
     "data": {
      "text/markdown": [
       "$\\sqrt{2\\sqrt{2\\sqrt{2}}}$ $\\to$ $2^{\\frac{7}{8}}$"
      ],
      "text/plain": [
       "<IPython.core.display.Markdown object>"
      ]
     },
     "metadata": {
      "tags": []
     },
     "output_type": "display_data"
    },
    {
     "name": "stdout",
     "output_type": "stream",
     "text": [
      "enunciado_latex: $\\sqrt{2\\sqrt{2\\sqrt{2}}}$\n",
      "solucion_latex: $2^{\\frac{7}{8}}$\n"
     ]
    },
    {
     "data": {
      "text/plain": [
       "[('$\\\\sqrt[4]{\\\\frac{25}{9}\\\\sqrt[3]{\\\\frac{9}{25}}}$',\n",
       "  '$\\\\frac{3^{\\\\frac{2}{3}} \\\\sqrt[3]{5}}{3}$'),\n",
       " ('$4\\\\sqrt{20}-3\\\\sqrt{45}+11\\\\sqrt{125}-20\\\\sqrt{5}$', '$34 \\\\sqrt{5}$'),\n",
       " ('$\\\\sqrt{72}\\\\cdot3\\\\sqrt{8}$', '$72$'),\n",
       " ('$\\\\frac{(3\\\\sqrt{2}+\\\\sqrt{3})^2}{3}$', '$2 \\\\sqrt{6} + 7$'),\n",
       " ('$\\\\sqrt{2\\\\sqrt{2\\\\sqrt{2}}}$', '$2^{\\\\frac{7}{8}}$')]"
      ]
     },
     "execution_count": 43,
     "metadata": {
      "tags": []
     },
     "output_type": "execute_result"
    }
   ],
   "source": [
    "# Simplificar radicales\n",
    "\n",
    "ejercicios=[r'\\sqrt[4]{\\frac{25}{9}\\sqrt[3]{\\frac{9}{25}}}',\n",
    "            r'4\\sqrt{20}-3\\sqrt{45}+11\\sqrt{125}-20\\sqrt{5}',\n",
    "            r'\\sqrt{72}\\cdot3\\sqrt{8}',\n",
    "            r'\\frac{(3\\sqrt{2}+\\sqrt{3})^2}{3}',\n",
    "            r'\\sqrt{2\\sqrt{2\\sqrt{2}}}',\n",
    "            \n",
    "           ]\n",
    "\n",
    "display(md(\"## Simplificar radicales:\"))\n",
    "  \n",
    "[mostrar_ejercicio(\"$\"+e+\"$\", \"$\"+latex(simplify(parse_latex(e)))+\"$\") for e in ejercicios] \n",
    "            \n",
    "            \n",
    "\n",
    "\n"
   ]
  },
  {
   "cell_type": "code",
   "execution_count": 44,
   "metadata": {
    "colab": {
     "base_uri": "https://localhost:8080/",
     "height": 326
    },
    "id": "FZFAOtkZ0Yfx",
    "outputId": "18d82ebe-91b1-4c36-e71d-bd23a8898776"
   },
   "outputs": [
    {
     "data": {
      "text/markdown": [
       "## Racionalizar denominadores:"
      ],
      "text/plain": [
       "<IPython.core.display.Markdown object>"
      ]
     },
     "metadata": {
      "tags": []
     },
     "output_type": "display_data"
    },
    {
     "data": {
      "text/markdown": [
       "#### Ejercicio:"
      ],
      "text/plain": [
       "<IPython.core.display.Markdown object>"
      ]
     },
     "metadata": {
      "tags": []
     },
     "output_type": "display_data"
    },
    {
     "data": {
      "text/markdown": [
       "$\\frac{10}{2\\sqrt{3}-\\sqrt{2}}$ $\\to$ $\\sqrt{2} + 2 \\sqrt{3}$"
      ],
      "text/plain": [
       "<IPython.core.display.Markdown object>"
      ]
     },
     "metadata": {
      "tags": []
     },
     "output_type": "display_data"
    },
    {
     "name": "stdout",
     "output_type": "stream",
     "text": [
      "enunciado_latex: $\\frac{10}{2\\sqrt{3}-\\sqrt{2}}$\n",
      "solucion_latex: $\\sqrt{2} + 2 \\sqrt{3}$\n"
     ]
    },
    {
     "data": {
      "text/markdown": [
       "#### Ejercicio:"
      ],
      "text/plain": [
       "<IPython.core.display.Markdown object>"
      ]
     },
     "metadata": {
      "tags": []
     },
     "output_type": "display_data"
    },
    {
     "data": {
      "text/markdown": [
       "$\\frac{\\sqrt{45}+\\sqrt{180}}{\\sqrt{176}+4\\sqrt{44}}$ $\\to$ $\\frac{3 \\sqrt{55}}{44}$"
      ],
      "text/plain": [
       "<IPython.core.display.Markdown object>"
      ]
     },
     "metadata": {
      "tags": []
     },
     "output_type": "display_data"
    },
    {
     "name": "stdout",
     "output_type": "stream",
     "text": [
      "enunciado_latex: $\\frac{\\sqrt{45}+\\sqrt{180}}{\\sqrt{176}+4\\sqrt{44}}$\n",
      "solucion_latex: $\\frac{3 \\sqrt{55}}{44}$\n"
     ]
    },
    {
     "data": {
      "text/plain": [
       "[('$\\\\frac{10}{2\\\\sqrt{3}-\\\\sqrt{2}}$', '$\\\\sqrt{2} + 2 \\\\sqrt{3}$'),\n",
       " ('$\\\\frac{\\\\sqrt{45}+\\\\sqrt{180}}{\\\\sqrt{176}+4\\\\sqrt{44}}$',\n",
       "  '$\\\\frac{3 \\\\sqrt{55}}{44}$')]"
      ]
     },
     "execution_count": 44,
     "metadata": {
      "tags": []
     },
     "output_type": "execute_result"
    }
   ],
   "source": [
    "# Racionalizar radicales\n",
    "\n",
    "ejercicios=[r'\\frac{10}{2\\sqrt{3}-\\sqrt{2}}',\n",
    "            r'\\frac{\\sqrt{45}+\\sqrt{180}}{\\sqrt{176}+4\\sqrt{44}}'\n",
    "           ]\n",
    "display(md(\"## Racionalizar denominadores:\"))\n",
    "  \n",
    "[mostrar_ejercicio(\"$\"+e+\"$\", \"$\"+latex(radsimp(parse_latex(e)))+\"$\") for e in ejercicios]    \n",
    "\n",
    "\n"
   ]
  },
  {
   "cell_type": "code",
   "execution_count": 45,
   "metadata": {
    "colab": {
     "base_uri": "https://localhost:8080/",
     "height": 658
    },
    "id": "LmGZDRg80Yf_",
    "outputId": "6697ad01-79e3-4c63-9544-3fa4d3cadd69"
   },
   "outputs": [
    {
     "data": {
      "text/markdown": [
       "## Definición de Logaritmo:"
      ],
      "text/plain": [
       "<IPython.core.display.Markdown object>"
      ]
     },
     "metadata": {
      "tags": []
     },
     "output_type": "display_data"
    },
    {
     "data": {
      "text/markdown": [
       "#### Ejercicio:"
      ],
      "text/plain": [
       "<IPython.core.display.Markdown object>"
      ]
     },
     "metadata": {
      "tags": []
     },
     "output_type": "display_data"
    },
    {
     "data": {
      "text/markdown": [
       "$\\log_3{27}$ $\\to$ $3$"
      ],
      "text/plain": [
       "<IPython.core.display.Markdown object>"
      ]
     },
     "metadata": {
      "tags": []
     },
     "output_type": "display_data"
    },
    {
     "name": "stdout",
     "output_type": "stream",
     "text": [
      "enunciado_latex: $\\log_3{27}$\n",
      "solucion_latex: $3$\n"
     ]
    },
    {
     "data": {
      "text/markdown": [
       "#### Ejercicio:"
      ],
      "text/plain": [
       "<IPython.core.display.Markdown object>"
      ]
     },
     "metadata": {
      "tags": []
     },
     "output_type": "display_data"
    },
    {
     "data": {
      "text/markdown": [
       "$\\log_3{1/81}$ $\\to$ $-4$"
      ],
      "text/plain": [
       "<IPython.core.display.Markdown object>"
      ]
     },
     "metadata": {
      "tags": []
     },
     "output_type": "display_data"
    },
    {
     "name": "stdout",
     "output_type": "stream",
     "text": [
      "enunciado_latex: $\\log_3{1/81}$\n",
      "solucion_latex: $-4$\n"
     ]
    },
    {
     "data": {
      "text/markdown": [
       "#### Ejercicio:"
      ],
      "text/plain": [
       "<IPython.core.display.Markdown object>"
      ]
     },
     "metadata": {
      "tags": []
     },
     "output_type": "display_data"
    },
    {
     "data": {
      "text/markdown": [
       "$\\log_9 3$ $\\to$ $\\frac{1}{2}$"
      ],
      "text/plain": [
       "<IPython.core.display.Markdown object>"
      ]
     },
     "metadata": {
      "tags": []
     },
     "output_type": "display_data"
    },
    {
     "name": "stdout",
     "output_type": "stream",
     "text": [
      "enunciado_latex: $\\log_9 3$\n",
      "solucion_latex: $\\frac{1}{2}$\n"
     ]
    },
    {
     "data": {
      "text/markdown": [
       "#### Ejercicio:"
      ],
      "text/plain": [
       "<IPython.core.display.Markdown object>"
      ]
     },
     "metadata": {
      "tags": []
     },
     "output_type": "display_data"
    },
    {
     "data": {
      "text/markdown": [
       "$\\log_{1/3}{1/81}$ $\\to$ $4$"
      ],
      "text/plain": [
       "<IPython.core.display.Markdown object>"
      ]
     },
     "metadata": {
      "tags": []
     },
     "output_type": "display_data"
    },
    {
     "name": "stdout",
     "output_type": "stream",
     "text": [
      "enunciado_latex: $\\log_{1/3}{1/81}$\n",
      "solucion_latex: $4$\n"
     ]
    },
    {
     "data": {
      "text/markdown": [
       "#### Ejercicio:"
      ],
      "text/plain": [
       "<IPython.core.display.Markdown object>"
      ]
     },
     "metadata": {
      "tags": []
     },
     "output_type": "display_data"
    },
    {
     "data": {
      "text/markdown": [
       "$\\log_5{\\sqrt{125}}$ $\\to$ $\\frac{3}{2}$"
      ],
      "text/plain": [
       "<IPython.core.display.Markdown object>"
      ]
     },
     "metadata": {
      "tags": []
     },
     "output_type": "display_data"
    },
    {
     "name": "stdout",
     "output_type": "stream",
     "text": [
      "enunciado_latex: $\\log_5{\\sqrt{125}}$\n",
      "solucion_latex: $\\frac{3}{2}$\n"
     ]
    },
    {
     "data": {
      "text/plain": [
       "[('$\\\\log_3{27}$', '$3$'),\n",
       " ('$\\\\log_3{1/81}$', '$-4$'),\n",
       " ('$\\\\log_9 3$', '$\\\\frac{1}{2}$'),\n",
       " ('$\\\\log_{1/3}{1/81}$', '$4$'),\n",
       " ('$\\\\log_5{\\\\sqrt{125}}$', '$\\\\frac{3}{2}$')]"
      ]
     },
     "execution_count": 45,
     "metadata": {
      "tags": []
     },
     "output_type": "execute_result"
    }
   ],
   "source": [
    "# Definición de logaritmo\n",
    "\n",
    "ejercicios=[[r'\\log_3{27}','log(27,3)'],\n",
    "            [r'\\log_3{1/81}','log(1/81,3)'],\n",
    "            [r'\\log_9 3',r'log(3,9)'],\n",
    "            [r'\\log_{1/3}{1/81}','log(1/81,1/3)'],\n",
    "            [r'\\log_5{\\sqrt{125}}','log(sqrt(125),5)'],\n",
    "            \n",
    "            \n",
    "           ]\n",
    "display(md(\"## Definición de Logaritmo:\"))\n",
    "\n",
    "[mostrar_ejercicio(\"$\"+e[0]+\"$\",\"$\"+latex(simplify(S(e[1])))+\"$\") for e in ejercicios]\n",
    "\n",
    "\n"
   ]
  },
  {
   "cell_type": "code",
   "execution_count": 46,
   "metadata": {
    "colab": {
     "base_uri": "https://localhost:8080/",
     "height": 1000
    },
    "id": "R9oe5rX60YgL",
    "outputId": "0f16e2a1-9880-4725-915e-62c7160bbe93"
   },
   "outputs": [
    {
     "data": {
      "text/markdown": [
       "## Definición de Logaritmo:"
      ],
      "text/plain": [
       "<IPython.core.display.Markdown object>"
      ]
     },
     "metadata": {
      "tags": []
     },
     "output_type": "display_data"
    },
    {
     "data": {
      "text/markdown": [
       "#### Ejercicio:"
      ],
      "text/plain": [
       "<IPython.core.display.Markdown object>"
      ]
     },
     "metadata": {
      "tags": []
     },
     "output_type": "display_data"
    },
    {
     "data": {
      "text/markdown": [
       "$\\log_3{27}$ $\\to$ $3$"
      ],
      "text/plain": [
       "<IPython.core.display.Markdown object>"
      ]
     },
     "metadata": {
      "tags": []
     },
     "output_type": "display_data"
    },
    {
     "name": "stdout",
     "output_type": "stream",
     "text": [
      "enunciado_latex: $\\log_3{27}$\n",
      "solucion_latex: $3$\n"
     ]
    },
    {
     "data": {
      "text/markdown": [
       "#### Ejercicio:"
      ],
      "text/plain": [
       "<IPython.core.display.Markdown object>"
      ]
     },
     "metadata": {
      "tags": []
     },
     "output_type": "display_data"
    },
    {
     "data": {
      "text/markdown": [
       "$\\log_3{1/81}$ $\\to$ $-4$"
      ],
      "text/plain": [
       "<IPython.core.display.Markdown object>"
      ]
     },
     "metadata": {
      "tags": []
     },
     "output_type": "display_data"
    },
    {
     "name": "stdout",
     "output_type": "stream",
     "text": [
      "enunciado_latex: $\\log_3{1/81}$\n",
      "solucion_latex: $-4$\n"
     ]
    },
    {
     "data": {
      "text/markdown": [
       "#### Ejercicio:"
      ],
      "text/plain": [
       "<IPython.core.display.Markdown object>"
      ]
     },
     "metadata": {
      "tags": []
     },
     "output_type": "display_data"
    },
    {
     "data": {
      "text/markdown": [
       "$\\log_9 3$ $\\to$ $\\frac{1}{2}$"
      ],
      "text/plain": [
       "<IPython.core.display.Markdown object>"
      ]
     },
     "metadata": {
      "tags": []
     },
     "output_type": "display_data"
    },
    {
     "name": "stdout",
     "output_type": "stream",
     "text": [
      "enunciado_latex: $\\log_9 3$\n",
      "solucion_latex: $\\frac{1}{2}$\n"
     ]
    },
    {
     "data": {
      "text/markdown": [
       "#### Ejercicio:"
      ],
      "text/plain": [
       "<IPython.core.display.Markdown object>"
      ]
     },
     "metadata": {
      "tags": []
     },
     "output_type": "display_data"
    },
    {
     "data": {
      "text/markdown": [
       "$\\log_{1/3}{1/81}$ $\\to$ $4$"
      ],
      "text/plain": [
       "<IPython.core.display.Markdown object>"
      ]
     },
     "metadata": {
      "tags": []
     },
     "output_type": "display_data"
    },
    {
     "name": "stdout",
     "output_type": "stream",
     "text": [
      "enunciado_latex: $\\log_{1/3}{1/81}$\n",
      "solucion_latex: $4$\n"
     ]
    },
    {
     "data": {
      "text/markdown": [
       "#### Ejercicio:"
      ],
      "text/plain": [
       "<IPython.core.display.Markdown object>"
      ]
     },
     "metadata": {
      "tags": []
     },
     "output_type": "display_data"
    },
    {
     "data": {
      "text/markdown": [
       "$\\log_5{\\sqrt{125}}$ $\\to$ $\\frac{3}{2}$"
      ],
      "text/plain": [
       "<IPython.core.display.Markdown object>"
      ]
     },
     "metadata": {
      "tags": []
     },
     "output_type": "display_data"
    },
    {
     "name": "stdout",
     "output_type": "stream",
     "text": [
      "enunciado_latex: $\\log_5{\\sqrt{125}}$\n",
      "solucion_latex: $\\frac{3}{2}$\n"
     ]
    },
    {
     "data": {
      "text/markdown": [
       "#### Ejercicio:"
      ],
      "text/plain": [
       "<IPython.core.display.Markdown object>"
      ]
     },
     "metadata": {
      "tags": []
     },
     "output_type": "display_data"
    },
    {
     "data": {
      "text/markdown": [
       "$\\log_9{3}$ $\\to$ $\\frac{1}{2}$"
      ],
      "text/plain": [
       "<IPython.core.display.Markdown object>"
      ]
     },
     "metadata": {
      "tags": []
     },
     "output_type": "display_data"
    },
    {
     "name": "stdout",
     "output_type": "stream",
     "text": [
      "enunciado_latex: $\\log_9{3}$\n",
      "solucion_latex: $\\frac{1}{2}$\n"
     ]
    },
    {
     "data": {
      "text/markdown": [
       "#### Ejercicio:"
      ],
      "text/plain": [
       "<IPython.core.display.Markdown object>"
      ]
     },
     "metadata": {
      "tags": []
     },
     "output_type": "display_data"
    },
    {
     "data": {
      "text/markdown": [
       "$\\log_{0.5}{1/16}$ $\\to$ $4.0$"
      ],
      "text/plain": [
       "<IPython.core.display.Markdown object>"
      ]
     },
     "metadata": {
      "tags": []
     },
     "output_type": "display_data"
    },
    {
     "name": "stdout",
     "output_type": "stream",
     "text": [
      "enunciado_latex: $\\log_{0.5}{1/16}$\n",
      "solucion_latex: $4.0$\n"
     ]
    },
    {
     "data": {
      "text/markdown": [
       "#### Ejercicio:"
      ],
      "text/plain": [
       "<IPython.core.display.Markdown object>"
      ]
     },
     "metadata": {
      "tags": []
     },
     "output_type": "display_data"
    },
    {
     "data": {
      "text/markdown": [
       "$\\log_{0.5}{16}$ $\\to$ $-4.0$"
      ],
      "text/plain": [
       "<IPython.core.display.Markdown object>"
      ]
     },
     "metadata": {
      "tags": []
     },
     "output_type": "display_data"
    },
    {
     "name": "stdout",
     "output_type": "stream",
     "text": [
      "enunciado_latex: $\\log_{0.5}{16}$\n",
      "solucion_latex: $-4.0$\n"
     ]
    },
    {
     "data": {
      "text/plain": [
       "[('$\\\\log_3{27}$', '$3$'),\n",
       " ('$\\\\log_3{1/81}$', '$-4$'),\n",
       " ('$\\\\log_9 3$', '$\\\\frac{1}{2}$'),\n",
       " ('$\\\\log_{1/3}{1/81}$', '$4$'),\n",
       " ('$\\\\log_5{\\\\sqrt{125}}$', '$\\\\frac{3}{2}$'),\n",
       " ('$\\\\log_9{3}$', '$\\\\frac{1}{2}$'),\n",
       " ('$\\\\log_{0.5}{1/16}$', '$4.0$'),\n",
       " ('$\\\\log_{0.5}{16}$', '$-4.0$')]"
      ]
     },
     "execution_count": 46,
     "metadata": {
      "tags": []
     },
     "output_type": "execute_result"
    }
   ],
   "source": [
    "# Definición de logaritmo\n",
    "\n",
    "ejercicios=[[r'\\log_3{27}','log(27,3)'],\n",
    "            [r'\\log_3{1/81}','log(1/81,3)'],\n",
    "            [r'\\log_9 3',r'log(3,9)'],\n",
    "            [r'\\log_{1/3}{1/81}','log(1/81,1/3)'],\n",
    "            [r'\\log_5{\\sqrt{125}}','log(sqrt(125),5)'],\n",
    "            #Autoevaluación\n",
    "            [r'\\log_9{3}','log(3,9)'],\n",
    "            [r'\\log_{0.5}{1/16}','log(1/16,0.5)'],\n",
    "            [r'\\log_{0.5}{16}','log(16,0.5)'],        \n",
    "            \n",
    "           ]\n",
    "display(md(\"## Definición de Logaritmo:\"))\n",
    "\n",
    "[mostrar_ejercicio(\"$\"+e[0]+\"$\",\"$\"+latex(simplify(S(e[1])))+\"$\") for e in ejercicios]\n",
    "\n",
    "\n"
   ]
  },
  {
   "cell_type": "code",
   "execution_count": 52,
   "metadata": {
    "colab": {
     "base_uri": "https://localhost:8080/",
     "height": 490
    },
    "id": "yMEiG1d90YgY",
    "outputId": "26f72b3e-009a-4df5-bcfe-d9868703b74d"
   },
   "outputs": [
    {
     "data": {
      "text/markdown": [
       "## Definición de Logaritmo y operaciones:"
      ],
      "text/plain": [
       "<IPython.core.display.Markdown object>"
      ]
     },
     "metadata": {
      "tags": []
     },
     "output_type": "display_data"
    },
    {
     "data": {
      "text/markdown": [
       "#### Ejercicio:"
      ],
      "text/plain": [
       "<IPython.core.display.Markdown object>"
      ]
     },
     "metadata": {
      "tags": []
     },
     "output_type": "display_data"
    },
    {
     "data": {
      "text/markdown": [
       "$\\log_3 \\frac{1}{9} -  \\log_5 0.2 +\\log_6 \\frac{1}{36} - \\log_2 0.5$ $\\to$ $\\log_3 \\frac{1}{9} -  \\log_5 0.2 +\\log_6 \\frac{1}{36} - \\log_2 0.5= (-2.0 )+( 1.0 )+( -2.0 )+( 1.0)=-2.0$"
      ],
      "text/plain": [
       "<IPython.core.display.Markdown object>"
      ]
     },
     "metadata": {
      "tags": []
     },
     "output_type": "display_data"
    },
    {
     "name": "stdout",
     "output_type": "stream",
     "text": [
      "enunciado_latex: $\\log_3 \\frac{1}{9} -  \\log_5 0.2 +\\log_6 \\frac{1}{36} - \\log_2 0.5$\n",
      "solucion_latex: $\\log_3 \\frac{1}{9} -  \\log_5 0.2 +\\log_6 \\frac{1}{36} - \\log_2 0.5= (-2.0 )+( 1.0 )+( -2.0 )+( 1.0)=-2.0$\n"
     ]
    },
    {
     "data": {
      "text/markdown": [
       "#### Ejercicio:"
      ],
      "text/plain": [
       "<IPython.core.display.Markdown object>"
      ]
     },
     "metadata": {
      "tags": []
     },
     "output_type": "display_data"
    },
    {
     "data": {
      "text/markdown": [
       "$\\log_3 \\frac{1}{27} -  \\log_5 0.2 +\\log_7 \\frac{1}{49} - \\log_2 0.5$ $\\to$ $\\log_3 \\frac{1}{27} -  \\log_5 0.2 +\\log_7 \\frac{1}{49} - \\log_2 0.5= (-3.0 )+( 1.0 )+( -2.0 )+( 1.0)=-3.0$"
      ],
      "text/plain": [
       "<IPython.core.display.Markdown object>"
      ]
     },
     "metadata": {
      "tags": []
     },
     "output_type": "display_data"
    },
    {
     "name": "stdout",
     "output_type": "stream",
     "text": [
      "enunciado_latex: $\\log_3 \\frac{1}{27} -  \\log_5 0.2 +\\log_7 \\frac{1}{49} - \\log_2 0.5$\n",
      "solucion_latex: $\\log_3 \\frac{1}{27} -  \\log_5 0.2 +\\log_7 \\frac{1}{49} - \\log_2 0.5= (-3.0 )+( 1.0 )+( -2.0 )+( 1.0)=-3.0$\n"
     ]
    },
    {
     "data": {
      "text/markdown": [
       "#### Ejercicio:"
      ],
      "text/plain": [
       "<IPython.core.display.Markdown object>"
      ]
     },
     "metadata": {
      "tags": []
     },
     "output_type": "display_data"
    },
    {
     "data": {
      "text/markdown": [
       "$2\\log_4 16 +  log_2 32 - 3log_7 49$ $\\to$ $2\\log_4 16 +  log_2 32 - 3log_7 49= (4.0 )+( 5.0 )+( -6.0)=3.0$"
      ],
      "text/plain": [
       "<IPython.core.display.Markdown object>"
      ]
     },
     "metadata": {
      "tags": []
     },
     "output_type": "display_data"
    },
    {
     "name": "stdout",
     "output_type": "stream",
     "text": [
      "enunciado_latex: $2\\log_4 16 +  log_2 32 - 3log_7 49$\n",
      "solucion_latex: $2\\log_4 16 +  log_2 32 - 3log_7 49= (4.0 )+( 5.0 )+( -6.0)=3.0$\n"
     ]
    },
    {
     "data": {
      "text/plain": [
       "[('$\\\\log_3 \\\\frac{1}{9} -  \\\\log_5 0.2 +\\\\log_6 \\\\frac{1}{36} - \\\\log_2 0.5$',\n",
       "  '$\\\\log_3 \\\\frac{1}{9} -  \\\\log_5 0.2 +\\\\log_6 \\\\frac{1}{36} - \\\\log_2 0.5= (-2.0 )+( 1.0 )+( -2.0 )+( 1.0)=-2.0$'),\n",
       " ('$\\\\log_3 \\\\frac{1}{27} -  \\\\log_5 0.2 +\\\\log_7 \\\\frac{1}{49} - \\\\log_2 0.5$',\n",
       "  '$\\\\log_3 \\\\frac{1}{27} -  \\\\log_5 0.2 +\\\\log_7 \\\\frac{1}{49} - \\\\log_2 0.5= (-3.0 )+( 1.0 )+( -2.0 )+( 1.0)=-3.0$'),\n",
       " ('$2\\\\log_4 16 +  log_2 32 - 3log_7 49$',\n",
       "  '$2\\\\log_4 16 +  log_2 32 - 3log_7 49= (4.0 )+( 5.0 )+( -6.0)=3.0$')]"
      ]
     },
     "execution_count": 52,
     "metadata": {
      "tags": []
     },
     "output_type": "execute_result"
    }
   ],
   "source": [
    "# Definición de logaritmo\n",
    "\n",
    "ejercicios=[[r'\\log_3 \\frac{1}{9} -  \\log_5 0.2 +\\log_6 \\frac{1}{36} - \\log_2 0.5',\n",
    "             'log(1/9,3)-log(0.2,5)+log(1/36,6)-log(0.5,2)'],\n",
    "            [r'\\log_3 \\frac{1}{27} -  \\log_5 0.2 +\\log_7 \\frac{1}{49} - \\log_2 0.5',\n",
    "             'log(1/27,3)-log(0.2,5)+log(1/49,7)-log(0.5,2)'],  \n",
    "            [r'2\\log_4 16 +  log_2 32 - 3log_7 49',\n",
    "            r'2*log(16,4)+log(32,2)-3*log(49,7)']\n",
    "           ]\n",
    "display(md(\"## Definición de Logaritmo y operaciones:\"))\n",
    "    \n",
    "[mostrar_ejercicio(\"$\"+e[0]+\"$\",\"$\"+e[0]+ r\"= (\"+r\" )+( \".join([latex(S(i).evalf(2)) for i in S(e[1], evaluate=False).args])+r\")=\"+latex(simplify(S(e[1])).evalf(2))+\"$\") for e in ejercicios]   \n"
   ]
  },
  {
   "cell_type": "code",
   "execution_count": 48,
   "metadata": {
    "colab": {
     "base_uri": "https://localhost:8080/",
     "height": 237
    },
    "id": "CaZkd2710Ygl",
    "outputId": "d8bce6ac-56f3-4fd2-f26b-9a60f1d57027"
   },
   "outputs": [
    {
     "data": {
      "text/markdown": [
       "## Propiedades de los logaritmos - combinar"
      ],
      "text/plain": [
       "<IPython.core.display.Markdown object>"
      ]
     },
     "metadata": {
      "tags": []
     },
     "output_type": "display_data"
    },
    {
     "data": {
      "text/markdown": [
       "#### Ejercicio:"
      ],
      "text/plain": [
       "<IPython.core.display.Markdown object>"
      ]
     },
     "metadata": {
      "tags": []
     },
     "output_type": "display_data"
    },
    {
     "data": {
      "text/markdown": [
       "$\\log_2 10 + 2\\log_2 3 - \\log_2 5 - \\log_2 9$ $\\to$ $\\log_2 10 + 2\\log_2 3 - \\log_2 5 - \\log_2 9=\\log{\\left (\\frac{3^{\\frac{2}{\\log{\\left (2 \\right )}}}}{9^{\\frac{1}{\\log{\\left (2 \\right )}}}} \\right )} + 1=1$"
      ],
      "text/plain": [
       "<IPython.core.display.Markdown object>"
      ]
     },
     "metadata": {
      "tags": []
     },
     "output_type": "display_data"
    },
    {
     "name": "stdout",
     "output_type": "stream",
     "text": [
      "enunciado_latex: $\\log_2 10 + 2\\log_2 3 - \\log_2 5 - \\log_2 9$\n",
      "solucion_latex: $\\log_2 10 + 2\\log_2 3 - \\log_2 5 - \\log_2 9=\\log{\\left (\\frac{3^{\\frac{2}{\\log{\\left (2 \\right )}}}}{9^{\\frac{1}{\\log{\\left (2 \\right )}}}} \\right )} + 1=1$\n"
     ]
    },
    {
     "data": {
      "text/plain": [
       "[('$\\\\log_2 10 + 2\\\\log_2 3 - \\\\log_2 5 - \\\\log_2 9$',\n",
       "  '$\\\\log_2 10 + 2\\\\log_2 3 - \\\\log_2 5 - \\\\log_2 9=\\\\log{\\\\left (\\\\frac{3^{\\\\frac{2}{\\\\log{\\\\left (2 \\\\right )}}}}{9^{\\\\frac{1}{\\\\log{\\\\left (2 \\\\right )}}}} \\\\right )} + 1=1$')]"
      ]
     },
     "execution_count": 48,
     "metadata": {
      "tags": []
     },
     "output_type": "execute_result"
    }
   ],
   "source": [
    "# Propiedades de los logaritmos - combinar\n",
    "\n",
    "ejercicios=[[r'\\log_2 10 + 2\\log_2 3 - \\log_2 5 - \\log_2 9',\n",
    "             'log(10,2)+2*log(3,2)-log(5,2)-log(9,2)'],\n",
    "            \n",
    "\n",
    "            \n",
    "           ]\n",
    "display(md(\"## Propiedades de los logaritmos - combinar\"))\n",
    "\n",
    "    \n",
    "[mostrar_ejercicio(\"$\"+e[0]+\"$\",\"$\"+e[0]+r\"=\"+latex(logcombine(S(e[1])))+r\"=\"+latex(simplify(S(e[1])))+\"$\") for e in ejercicios]\n",
    "    \n",
    "\n",
    "\n"
   ]
  },
  {
   "cell_type": "code",
   "execution_count": 49,
   "metadata": {
    "colab": {
     "base_uri": "https://localhost:8080/",
     "height": 946
    },
    "id": "P3mLBfCa0Ygx",
    "outputId": "54601178-31b1-485e-bae3-2fe5a16959b2",
    "scrolled": true
   },
   "outputs": [
    {
     "data": {
      "text/markdown": [
       "## Propiedades de los logaritmos - expandir"
      ],
      "text/plain": [
       "<IPython.core.display.Markdown object>"
      ]
     },
     "metadata": {
      "tags": []
     },
     "output_type": "display_data"
    },
    {
     "data": {
      "text/markdown": [
       "#### Ejercicio:"
      ],
      "text/plain": [
       "<IPython.core.display.Markdown object>"
      ]
     },
     "metadata": {
      "tags": []
     },
     "output_type": "display_data"
    },
    {
     "data": {
      "text/markdown": [
       "Sabiendo que $\\log x=1.3$ y $\\log y=0.8$,calcula $\\log (x\\cdot y)$ $\\to$ $\\log (x\\cdot y)=\\log{\\left (x \\right )} + \\log{\\left (y \\right )}=0.8 + 1.3=2.1$"
      ],
      "text/plain": [
       "<IPython.core.display.Markdown object>"
      ]
     },
     "metadata": {
      "tags": []
     },
     "output_type": "display_data"
    },
    {
     "name": "stdout",
     "output_type": "stream",
     "text": [
      "enunciado_latex: Sabiendo que $\\log x=1.3$ y $\\log y=0.8$,calcula $\\log (x\\cdot y)$\n",
      "solucion_latex: $\\log (x\\cdot y)=\\log{\\left (x \\right )} + \\log{\\left (y \\right )}=0.8 + 1.3=2.1$\n"
     ]
    },
    {
     "data": {
      "text/markdown": [
       "#### Ejercicio:"
      ],
      "text/plain": [
       "<IPython.core.display.Markdown object>"
      ]
     },
     "metadata": {
      "tags": []
     },
     "output_type": "display_data"
    },
    {
     "data": {
      "text/markdown": [
       "Sabiendo que $\\log x=1.3$ y $\\log y=0.8$,calcula $\\log (x\\cdot \\sqrt{y})$ $\\to$ $\\log (x\\cdot \\sqrt{y})=\\log{\\left (x \\right )} + \\frac{\\log{\\left (y \\right )}}{2}=\\frac{0.8}{2} + 1.3=1.7$"
      ],
      "text/plain": [
       "<IPython.core.display.Markdown object>"
      ]
     },
     "metadata": {
      "tags": []
     },
     "output_type": "display_data"
    },
    {
     "name": "stdout",
     "output_type": "stream",
     "text": [
      "enunciado_latex: Sabiendo que $\\log x=1.3$ y $\\log y=0.8$,calcula $\\log (x\\cdot \\sqrt{y})$\n",
      "solucion_latex: $\\log (x\\cdot \\sqrt{y})=\\log{\\left (x \\right )} + \\frac{\\log{\\left (y \\right )}}{2}=\\frac{0.8}{2} + 1.3=1.7$\n"
     ]
    },
    {
     "data": {
      "text/markdown": [
       "#### Ejercicio:"
      ],
      "text/plain": [
       "<IPython.core.display.Markdown object>"
      ]
     },
     "metadata": {
      "tags": []
     },
     "output_type": "display_data"
    },
    {
     "data": {
      "text/markdown": [
       "Sabiendo que $\\log x=1.3$ y $\\log y=0.8$,calcula $\\log (\\frac{y}{x^2})$ $\\to$ $\\log (\\frac{y}{x^2})=- 2 \\log{\\left (x \\right )} + \\log{\\left (y \\right )}=0.8 - 2 \\cdot 1.3=-1.8$"
      ],
      "text/plain": [
       "<IPython.core.display.Markdown object>"
      ]
     },
     "metadata": {
      "tags": []
     },
     "output_type": "display_data"
    },
    {
     "name": "stdout",
     "output_type": "stream",
     "text": [
      "enunciado_latex: Sabiendo que $\\log x=1.3$ y $\\log y=0.8$,calcula $\\log (\\frac{y}{x^2})$\n",
      "solucion_latex: $\\log (\\frac{y}{x^2})=- 2 \\log{\\left (x \\right )} + \\log{\\left (y \\right )}=0.8 - 2 \\cdot 1.3=-1.8$\n"
     ]
    },
    {
     "data": {
      "text/markdown": [
       "#### Ejercicio:"
      ],
      "text/plain": [
       "<IPython.core.display.Markdown object>"
      ]
     },
     "metadata": {
      "tags": []
     },
     "output_type": "display_data"
    },
    {
     "data": {
      "text/markdown": [
       "Sabiendo que $\\log x=1.3$ y $\\log y=0.8$,calcula $\\log (\\sqrt{\\frac{x}{y}})$ $\\to$ $\\log (\\sqrt{\\frac{x}{y}})=\\frac{\\log{\\left (x \\right )}}{2} - \\frac{\\log{\\left (y \\right )}}{2}=- \\frac{0.8}{2} + \\frac{1.3}{2}=0.25$"
      ],
      "text/plain": [
       "<IPython.core.display.Markdown object>"
      ]
     },
     "metadata": {
      "tags": []
     },
     "output_type": "display_data"
    },
    {
     "name": "stdout",
     "output_type": "stream",
     "text": [
      "enunciado_latex: Sabiendo que $\\log x=1.3$ y $\\log y=0.8$,calcula $\\log (\\sqrt{\\frac{x}{y}})$\n",
      "solucion_latex: $\\log (\\sqrt{\\frac{x}{y}})=\\frac{\\log{\\left (x \\right )}}{2} - \\frac{\\log{\\left (y \\right )}}{2}=- \\frac{0.8}{2} + \\frac{1.3}{2}=0.25$\n"
     ]
    },
    {
     "data": {
      "text/markdown": [
       "#### Ejercicio:"
      ],
      "text/plain": [
       "<IPython.core.display.Markdown object>"
      ]
     },
     "metadata": {
      "tags": []
     },
     "output_type": "display_data"
    },
    {
     "data": {
      "text/markdown": [
       "Sabiendo que $\\log x=1.5$ y $\\log y=-0.6$,calcula $\\log (\\frac{8\\cdot x^2}{\\sqrt{y}})$ $\\to$ $\\log (\\frac{8\\cdot x^2}{\\sqrt{y}})=2 \\log{\\left (x \\right )} - \\frac{\\log{\\left (y \\right )}}{2} + 3 \\log{\\left (2 \\right )}=3 \\log{\\left (2 \\right )} - \\frac{-0.6}{2} + 2 \\cdot 1.5=3 \\log{\\left (2 \\right )} + 3.3$"
      ],
      "text/plain": [
       "<IPython.core.display.Markdown object>"
      ]
     },
     "metadata": {
      "tags": []
     },
     "output_type": "display_data"
    },
    {
     "name": "stdout",
     "output_type": "stream",
     "text": [
      "enunciado_latex: Sabiendo que $\\log x=1.5$ y $\\log y=-0.6$,calcula $\\log (\\frac{8\\cdot x^2}{\\sqrt{y}})$\n",
      "solucion_latex: $\\log (\\frac{8\\cdot x^2}{\\sqrt{y}})=2 \\log{\\left (x \\right )} - \\frac{\\log{\\left (y \\right )}}{2} + 3 \\log{\\left (2 \\right )}=3 \\log{\\left (2 \\right )} - \\frac{-0.6}{2} + 2 \\cdot 1.5=3 \\log{\\left (2 \\right )} + 3.3$\n"
     ]
    },
    {
     "data": {
      "text/markdown": [
       "#### Ejercicio:"
      ],
      "text/plain": [
       "<IPython.core.display.Markdown object>"
      ]
     },
     "metadata": {
      "tags": []
     },
     "output_type": "display_data"
    },
    {
     "data": {
      "text/markdown": [
       "Sabiendo que $\\log x=2$ y $\\log y=-1$,calcula $\\log (\\frac{100\\cdot x^2}{\\sqrt{x\\cdot y}})$ $\\to$ $\\log (\\frac{100\\cdot x^2}{\\sqrt{x\\cdot y}})=\\frac{3 \\log{\\left (x \\right )}}{2} - \\frac{\\log{\\left (y \\right )}}{2} + 2=2 - \\frac{-1}{2} + \\frac{3 \\cdot 2}{2}=\\frac{11}{2}$"
      ],
      "text/plain": [
       "<IPython.core.display.Markdown object>"
      ]
     },
     "metadata": {
      "tags": []
     },
     "output_type": "display_data"
    },
    {
     "name": "stdout",
     "output_type": "stream",
     "text": [
      "enunciado_latex: Sabiendo que $\\log x=2$ y $\\log y=-1$,calcula $\\log (\\frac{100\\cdot x^2}{\\sqrt{x\\cdot y}})$\n",
      "solucion_latex: $\\log (\\frac{100\\cdot x^2}{\\sqrt{x\\cdot y}})=\\frac{3 \\log{\\left (x \\right )}}{2} - \\frac{\\log{\\left (y \\right )}}{2} + 2=2 - \\frac{-1}{2} + \\frac{3 \\cdot 2}{2}=\\frac{11}{2}$\n"
     ]
    },
    {
     "data": {
      "text/plain": [
       "[('Sabiendo que $\\\\log x=1.3$ y $\\\\log y=0.8$,calcula $\\\\log (x\\\\cdot y)$',\n",
       "  '$\\\\log (x\\\\cdot y)=\\\\log{\\\\left (x \\\\right )} + \\\\log{\\\\left (y \\\\right )}=0.8 + 1.3=2.1$'),\n",
       " ('Sabiendo que $\\\\log x=1.3$ y $\\\\log y=0.8$,calcula $\\\\log (x\\\\cdot \\\\sqrt{y})$',\n",
       "  '$\\\\log (x\\\\cdot \\\\sqrt{y})=\\\\log{\\\\left (x \\\\right )} + \\\\frac{\\\\log{\\\\left (y \\\\right )}}{2}=\\\\frac{0.8}{2} + 1.3=1.7$'),\n",
       " ('Sabiendo que $\\\\log x=1.3$ y $\\\\log y=0.8$,calcula $\\\\log (\\\\frac{y}{x^2})$',\n",
       "  '$\\\\log (\\\\frac{y}{x^2})=- 2 \\\\log{\\\\left (x \\\\right )} + \\\\log{\\\\left (y \\\\right )}=0.8 - 2 \\\\cdot 1.3=-1.8$'),\n",
       " ('Sabiendo que $\\\\log x=1.3$ y $\\\\log y=0.8$,calcula $\\\\log (\\\\sqrt{\\\\frac{x}{y}})$',\n",
       "  '$\\\\log (\\\\sqrt{\\\\frac{x}{y}})=\\\\frac{\\\\log{\\\\left (x \\\\right )}}{2} - \\\\frac{\\\\log{\\\\left (y \\\\right )}}{2}=- \\\\frac{0.8}{2} + \\\\frac{1.3}{2}=0.25$'),\n",
       " ('Sabiendo que $\\\\log x=1.5$ y $\\\\log y=-0.6$,calcula $\\\\log (\\\\frac{8\\\\cdot x^2}{\\\\sqrt{y}})$',\n",
       "  '$\\\\log (\\\\frac{8\\\\cdot x^2}{\\\\sqrt{y}})=2 \\\\log{\\\\left (x \\\\right )} - \\\\frac{\\\\log{\\\\left (y \\\\right )}}{2} + 3 \\\\log{\\\\left (2 \\\\right )}=3 \\\\log{\\\\left (2 \\\\right )} - \\\\frac{-0.6}{2} + 2 \\\\cdot 1.5=3 \\\\log{\\\\left (2 \\\\right )} + 3.3$'),\n",
       " ('Sabiendo que $\\\\log x=2$ y $\\\\log y=-1$,calcula $\\\\log (\\\\frac{100\\\\cdot x^2}{\\\\sqrt{x\\\\cdot y}})$',\n",
       "  '$\\\\log (\\\\frac{100\\\\cdot x^2}{\\\\sqrt{x\\\\cdot y}})=\\\\frac{3 \\\\log{\\\\left (x \\\\right )}}{2} - \\\\frac{\\\\log{\\\\left (y \\\\right )}}{2} + 2=2 - \\\\frac{-1}{2} + \\\\frac{3 \\\\cdot 2}{2}=\\\\frac{11}{2}$')]"
      ]
     },
     "execution_count": 49,
     "metadata": {
      "tags": []
     },
     "output_type": "execute_result"
    }
   ],
   "source": [
    "# Propiedades de los logaritmos - expandir\n",
    "\n",
    "ejercicios=[[r'\\log (x\\cdot y)','log(x*y)', 1.3, 0.8],\n",
    "            [r'\\log (x\\cdot \\sqrt{y})','log(x*sqrt(y))', 1.3, 0.8],\n",
    "            [r'\\log (\\frac{y}{x^2})','log(y/(x**2))', 1.3, 0.8],\n",
    "            [r'\\log (\\sqrt{\\frac{x}{y}})','log(sqrt(x/y))', 1.3, 0.8],\n",
    "            [r'\\log (\\frac{8\\cdot x^2}{\\sqrt{y}})','log((8*x**2)/sqrt(y))', 1.5, -0.6],\n",
    "            #Autoevalución\n",
    "            [r'\\log (\\frac{100\\cdot x^2}{\\sqrt{x\\cdot y}})',r'log((E**2*x**2)/sqrt(x*y))',2,-1]\n",
    "            \n",
    "\n",
    "            \n",
    "           ]\n",
    "display(md(\"## Propiedades de los logaritmos - expandir\"))\n",
    "\n",
    "    \n",
    "[mostrar_ejercicio(\"Sabiendo que $\\log x={}$ y $\\log y={}$,calcula $\".format(e[2],e[3])+e[0]+\"$\",\n",
    "                   \"$\"+e[0]+r\"=\"+latex(expand_log(S(e[1]),force=True))+r\"=\"+latex(expand_log(S(e[1]),force=True).subs(log(x),UnevaluatedExpr(e[2])).subs(log(y),UnevaluatedExpr(e[3])))+\"=\"+latex(expand_log(S(e[1]),force=True).subs(log(x),e[2]).subs(log(y),e[3]))+\"$\") for e in ejercicios]\n",
    "    \n",
    "\n",
    "\n"
   ]
  },
  {
   "cell_type": "code",
   "execution_count": 50,
   "metadata": {
    "colab": {
     "base_uri": "https://localhost:8080/",
     "height": 43
    },
    "id": "aVwq4l370Yg-",
    "outputId": "11e13a8f-8922-4149-9c7b-43760d93989f"
   },
   "outputs": [
    {
     "data": {
      "image/png": "[encoded data removed]",
      "text/latex": [
       "$$\\frac{\\log{\\left (x \\right )}}{\\log{\\left (2 \\right )}}$$"
      ],
      "text/plain": [
       "log(x)\n",
       "──────\n",
       "log(2)"
      ]
     },
     "execution_count": 50,
     "metadata": {
      "tags": []
     },
     "output_type": "execute_result"
    }
   ],
   "source": [
    "expand_log(log(x*y),force=True)\n",
    "UnevaluatedExpr(log(x,2))\n",
    "S('log(x,2)', evaluate=False)"
   ]
  },
  {
   "cell_type": "code",
   "execution_count": 51,
   "metadata": {
    "colab": {
     "base_uri": "https://localhost:8080/",
     "height": 440
    },
    "id": "OXyhfb-U0YhJ",
    "outputId": "260941ca-355c-41ec-89d5-7339d9f9e309"
   },
   "outputs": [
    {
     "data": {
      "text/markdown": [
       "## Propiedades de los logaritmos"
      ],
      "text/plain": [
       "<IPython.core.display.Markdown object>"
      ]
     },
     "metadata": {
      "tags": []
     },
     "output_type": "display_data"
    },
    {
     "data": {
      "text/markdown": [
       "#### Ejercicio:"
      ],
      "text/plain": [
       "<IPython.core.display.Markdown object>"
      ]
     },
     "metadata": {
      "tags": []
     },
     "output_type": "display_data"
    },
    {
     "data": {
      "text/markdown": [
       "$\\log_2 10 + 2\\log_2 3 - \\log_2 5 - \\log_2 9$ $\\to$ $1$"
      ],
      "text/plain": [
       "<IPython.core.display.Markdown object>"
      ]
     },
     "metadata": {
      "tags": []
     },
     "output_type": "display_data"
    },
    {
     "name": "stdout",
     "output_type": "stream",
     "text": [
      "enunciado_latex: $\\log_2 10 + 2\\log_2 3 - \\log_2 5 - \\log_2 9$\n",
      "solucion_latex: $1$\n"
     ]
    },
    {
     "data": {
      "text/markdown": [
       "#### Ejercicio:"
      ],
      "text/plain": [
       "<IPython.core.display.Markdown object>"
      ]
     },
     "metadata": {
      "tags": []
     },
     "output_type": "display_data"
    },
    {
     "data": {
      "text/markdown": [
       "$\\log_2 20 + 2\\log_2 3 - \\log_2 5 - \\log_2 9$ $\\to$ $2$"
      ],
      "text/plain": [
       "<IPython.core.display.Markdown object>"
      ]
     },
     "metadata": {
      "tags": []
     },
     "output_type": "display_data"
    },
    {
     "name": "stdout",
     "output_type": "stream",
     "text": [
      "enunciado_latex: $\\log_2 20 + 2\\log_2 3 - \\log_2 5 - \\log_2 9$\n",
      "solucion_latex: $2$\n"
     ]
    },
    {
     "data": {
      "text/markdown": [
       "#### Ejercicio:"
      ],
      "text/plain": [
       "<IPython.core.display.Markdown object>"
      ]
     },
     "metadata": {
      "tags": []
     },
     "output_type": "display_data"
    },
    {
     "data": {
      "text/markdown": [
       "$\\log (\\frac{100\\cdot x^2}{\\sqrt{x\\cdot y}})$ $\\to$ $\\frac{3 \\log{\\left (x \\right )}}{2} - \\frac{\\log{\\left (y \\right )}}{2} + 2$"
      ],
      "text/plain": [
       "<IPython.core.display.Markdown object>"
      ]
     },
     "metadata": {
      "tags": []
     },
     "output_type": "display_data"
    },
    {
     "name": "stdout",
     "output_type": "stream",
     "text": [
      "enunciado_latex: $\\log (\\frac{100\\cdot x^2}{\\sqrt{x\\cdot y}})$\n",
      "solucion_latex: $\\frac{3 \\log{\\left (x \\right )}}{2} - \\frac{\\log{\\left (y \\right )}}{2} + 2$\n"
     ]
    },
    {
     "data": {
      "text/plain": [
       "[('$\\\\log_2 10 + 2\\\\log_2 3 - \\\\log_2 5 - \\\\log_2 9$', '$1$'),\n",
       " ('$\\\\log_2 20 + 2\\\\log_2 3 - \\\\log_2 5 - \\\\log_2 9$', '$2$'),\n",
       " ('$\\\\log (\\\\frac{100\\\\cdot x^2}{\\\\sqrt{x\\\\cdot y}})$',\n",
       "  '$\\\\frac{3 \\\\log{\\\\left (x \\\\right )}}{2} - \\\\frac{\\\\log{\\\\left (y \\\\right )}}{2} + 2$')]"
      ]
     },
     "execution_count": 51,
     "metadata": {
      "tags": []
     },
     "output_type": "execute_result"
    }
   ],
   "source": [
    "# Propiedades de los logaritmos\n",
    "\n",
    "ejercicios=[[r'\\log_2 10 + 2\\log_2 3 - \\log_2 5 - \\log_2 9',\n",
    "             'log(10,2)+2*log(3,2)-log(5,2)-log(9,2)'],\n",
    "            [r'\\log_2 20 + 2\\log_2 3 - \\log_2 5 - \\log_2 9',\n",
    "             'log(20,2)+2*log(3,2)-log(5,2)-log(9,2)'],\n",
    "\n",
    "            #Autoevalución\n",
    "            [r'\\log (\\frac{100\\cdot x^2}{\\sqrt{x\\cdot y}})',r'log((E**2*x**2)/sqrt(x*y))']\n",
    "\n",
    "            \n",
    "           ]\n",
    "display(md(\"## Propiedades de los logaritmos\"))\n",
    "  \n",
    "# for e in ejercicios :\n",
    "#     display(md(\"#### Ejercicio:\"))\n",
    "#     ejercicio = e[0]\n",
    "#     solucion = simplify(S(e[1]))\n",
    "#     display(md(r\"${} \\to {}$\".format(ejercicio, solucion)))\n",
    "#     print(\"enunciado_latex: \" + ejercicio)\n",
    "#     print(\"solucion_latex: \" + latex(solucion))\n",
    "    \n",
    "[mostrar_ejercicio(\"$\"+e[0]+\"$\",\"$\"+latex(simplify(expand_log(S(e[1]),force=True)))+\"$\") for e in ejercicios]\n",
    "    \n",
    "\n",
    "\n"
   ]
  }
 ],
 "metadata": {
  "colab": {
   "include_colab_link": true,
   "name": "12-Radicales.ipynb",
   "provenance": []
  },
  "kernelspec": {
   "display_name": "Python 3",
   "language": "python",
   "name": "python3"
  },
  "language_info": {
   "codemirror_mode": {
    "name": "ipython",
    "version": 3
   },
   "file_extension": ".py",
   "mimetype": "text/x-python",
   "name": "python",
   "nbconvert_exporter": "python",
   "pygments_lexer": "ipython3",
   "version": "3.6.8"
  }
 },
 "nbformat": 4,
 "nbformat_minor": 0
}
