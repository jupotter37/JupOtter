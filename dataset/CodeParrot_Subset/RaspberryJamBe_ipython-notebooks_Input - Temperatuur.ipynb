{
 "cells": [
  {
   "cell_type": "markdown",
   "metadata": {},
   "source": [
    "<img src=\"Temperature01.png\" height=\"300\" />"
   ]
  },
  {
   "cell_type": "markdown",
   "metadata": {},
   "source": [
    "## DS18B20 1-wire temperatuur sensor\n",
    "\n",
    "- VDD = 3v3\n",
    "- signaalpin = GPIO4\n",
    "- 4.7 KOhm pull-up op signaal\n",
    "\n",
    "Raspbery Pi installatie + detectie device ID:\n",
    "```\n",
    "> sudo modprobe w1-gpio\n",
    "> sudo modprobe w1-therm\n",
    "> cd /sys/bus/w1/devices/\n",
    "> ls\n",
    "```\n",
    "\n",
    "nota: opgelet met Raspberry Pi 2 (wegens DeviceTree):  \n",
    "\"dtoverlay=w1-gpio\" toevoegen aan /boot/config.txt  \n",
    "http://www.raspberrypi.org/forums/viewtopic.php?f=28&t=97314"
   ]
  },
  {
   "cell_type": "code",
   "execution_count": null,
   "metadata": {
    "collapsed": false
   },
   "outputs": [],
   "source": [
    "# Info inlezen vanuit sensor in fileformaat\n",
    "temp_file = open(\"/sys/bus/w1/devices/28-011465166dff/w1_slave\")\n",
    "temp_tekst = temp_file.read() \n",
    "temp_file.close()\n",
    "\n",
    "# De temperatuur is te vinden op de tweede lijn in de tiende kolom\n",
    "tweede_lijn = temp_tekst.split(\"\\n\")[1] \n",
    "temperatuur_tekst = tweede_lijn.split(\" \")[9]\n",
    "\n",
    "# De eerste twee karakters zijn \"t=\", dus die laten we vallen, zodat we de rest kunnen converteren naar een nummer.\n",
    "temperatuur = float(temperatuur_tekst[2:]) \n",
    "# Omzetten van milligraden naar graden. \n",
    "temperatuur = temperatuur / 1000 \n",
    "print(\"Gemeten temperatuur: {}\".format(temperatuur))"
   ]
  },
  {
   "cell_type": "code",
   "execution_count": null,
   "metadata": {
    "collapsed": true
   },
   "outputs": [],
   "source": []
  }
 ],
 "metadata": {
  "kernelspec": {
   "display_name": "Python 2",
   "language": "python",
   "name": "python2"
  },
  "language_info": {
   "codemirror_mode": {
    "name": "ipython",
    "version": 2
   },
   "file_extension": ".py",
   "mimetype": "text/x-python",
   "name": "python",
   "nbconvert_exporter": "python",
   "pygments_lexer": "ipython2",
   "version": "2.7.3"
  }
 },
 "nbformat": 4,
 "nbformat_minor": 0
}
