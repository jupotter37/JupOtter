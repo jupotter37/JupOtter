{
 "cells": [
  {
   "cell_type": "markdown",
   "metadata": {},
   "source": [
    "# 4.2 サードパーティ製パッケージを使ってスクレイピングに挑戦\n",
    "\n",
    "* Requests http://docs.python-requests.org/\n",
    "* Beautiful Soup http://www.crummy.com/software/BeautifulSoup/"
   ]
  },
  {
   "cell_type": "code",
   "execution_count": 1,
   "metadata": {
    "collapsed": true
   },
   "outputs": [],
   "source": [
    "import requests\n",
    "import bs4"
   ]
  },
  {
   "cell_type": "markdown",
   "metadata": {},
   "source": [
    "## RequestsでWebページを取得"
   ]
  },
  {
   "cell_type": "code",
   "execution_count": 2,
   "metadata": {},
   "outputs": [
    {
     "data": {
      "text/plain": [
       "200"
      ]
     },
     "execution_count": 2,
     "metadata": {},
     "output_type": "execute_result"
    }
   ],
   "source": [
    "# Requestsでgihyo.jpのページのデータを取得\n",
    "import requests\n",
    "r = requests.get('http://gihyo.jp/lifestyle/clip/01/everyday-cat')\n",
    "r.status_code # ステータスコードを取得"
   ]
  },
  {
   "cell_type": "code",
   "execution_count": 3,
   "metadata": {},
   "outputs": [
    {
     "data": {
      "text/plain": [
       "'<!DOCTYPE html>\\r\\n<html xmlns=\"http://www.w3.org/19'"
      ]
     },
     "execution_count": 3,
     "metadata": {},
     "output_type": "execute_result"
    }
   ],
   "source": [
    "r.text[:50] # 先頭50文字を取得"
   ]
  },
  {
   "cell_type": "markdown",
   "metadata": {},
   "source": [
    "### Requestsを使いこなす\n",
    "\n",
    "* connpass APIリファレンス https://connpass.com/about/api/"
   ]
  },
  {
   "cell_type": "code",
   "execution_count": 4,
   "metadata": {},
   "outputs": [
    {
     "name": "stdout",
     "output_type": "stream",
     "text": [
      "人工知能のコードをハックする会 #1\n",
      "[秋葉原] 詳解ディープラーニング 輪読&勉強会(1章+2章+keras超入門)\n",
      "Pythonで作る初心者のためのニューラルネットワーク実装\n",
      "Pythonで作る初心者のためのニューラルネットワーク実装\n",
      "Python札幌 プログラム初学者向けハンズオン　2017年 #2 　懇親会\n",
      "BPStudy#120〜小さなチーム、大きな仕事。開発・運営が一体となったチーム運営とは\n",
      "[秋葉原] 自然言語処理と深層学習の勉強会 (第五回 分散表現/系列変換モデル)\n",
      "Excel ベイズ入門 #Last：ベイズ決定・線形回帰モデル\n",
      "データビジュアライゼーション講習 - P/L（損益計算書）の可視化・分析 8/22\n",
      "機械学習 名古屋 分科会 #5\n"
     ]
    }
   ],
   "source": [
    "# JSON形式のAPIレスポンスを取得\n",
    "r = requests.get('https://connpass.com/api/v1/event/?keyword=python')\n",
    "data = r.json() # JSONをデコードしたデータを取得\n",
    "for event in data['events']:\n",
    "    print(event['title'])"
   ]
  },
  {
   "cell_type": "code",
   "execution_count": 5,
   "metadata": {
    "collapsed": true
   },
   "outputs": [],
   "source": [
    "# 各種HTTPメソッドに対応\n",
    "payload = {'key1': 'value1', 'key2': 'value2'}\n",
    "r = requests.post('http://httpbin.org/post', data=payload)\n",
    "r = requests.put('http://httpbin.org/put', data=payload)\n",
    "r = requests.delete('http://httpbin.org/delete')\n",
    "r = requests.head('http://httpbin.org/get')\n",
    "r = requests.options('http://httpbin.org/get')"
   ]
  },
  {
   "cell_type": "code",
   "execution_count": 6,
   "metadata": {},
   "outputs": [
    {
     "data": {
      "text/plain": [
       "'http://httpbin.org/get?key1=value1&key2=value2'"
      ]
     },
     "execution_count": 6,
     "metadata": {},
     "output_type": "execute_result"
    }
   ],
   "source": [
    "# Requestsの便利な使い方\n",
    "r = requests.get('http://httpbin.org/get', params=payload)\n",
    "r.url"
   ]
  },
  {
   "cell_type": "code",
   "execution_count": 7,
   "metadata": {},
   "outputs": [
    {
     "data": {
      "text/plain": [
       "200"
      ]
     },
     "execution_count": 7,
     "metadata": {},
     "output_type": "execute_result"
    }
   ],
   "source": [
    "r = requests.get('https://httpbin.org/basic-auth/user/passwd', auth=('user', 'passwd'))\n",
    "r.status_code"
   ]
  },
  {
   "cell_type": "markdown",
   "metadata": {},
   "source": [
    "* httpbin(1): HTTP Client Testing Service https://httpbin.org/"
   ]
  },
  {
   "cell_type": "markdown",
   "metadata": {},
   "source": [
    "## Beautiful Soup 4でWebページを解析"
   ]
  },
  {
   "cell_type": "code",
   "execution_count": 8,
   "metadata": {},
   "outputs": [
    {
     "data": {
      "text/plain": [
       "bs4.element.Tag"
      ]
     },
     "execution_count": 8,
     "metadata": {},
     "output_type": "execute_result"
    }
   ],
   "source": [
    "# Beautiful Soup 4で「技評ねこ部通信」を取得\n",
    "import requests\n",
    "from bs4 import BeautifulSoup\n",
    "r = requests.get('http://gihyo.jp/lifestyle/clip/01/everyday-cat')\n",
    "soup = BeautifulSoup(r.content, 'html.parser')\n",
    "title = soup.title # titleタグの情報を取得\n",
    "type(title) # オブジェクトの型は Tag 型"
   ]
  },
  {
   "cell_type": "code",
   "execution_count": 9,
   "metadata": {},
   "outputs": [
    {
     "name": "stdout",
     "output_type": "stream",
     "text": [
      "<title>技評ねこ部通信｜gihyo.jp … 技術評論社</title>\n",
      "技評ねこ部通信｜gihyo.jp … 技術評論社\n"
     ]
    }
   ],
   "source": [
    "print(title) # タイトルの中身を確認\n",
    "print(title.text) # タイトルの中のテキストを取得"
   ]
  },
  {
   "cell_type": "code",
   "execution_count": 10,
   "metadata": {},
   "outputs": [
    {
     "name": "stdout",
     "output_type": "stream",
     "text": [
      "http://gihyo.jp/lifestyle/clip/01/everyday-cat/201708/04\n",
      "2017年8月4日　甘えん坊なはちべい\n"
     ]
    },
    {
     "data": {
      "text/plain": [
       "['2017年8月4日', '甘えん坊なはちべい']"
      ]
     },
     "execution_count": 10,
     "metadata": {},
     "output_type": "execute_result"
    }
   ],
   "source": [
    "# 技評ねこ部通信の1件分のデータを取得\n",
    "div = soup.find('div', class_='readingContent01')\n",
    "li = div.find('li') # divタグの中の最初のliタグを取得\n",
    "print(li.a['href']) # liタグの中のaタグのhref属性の値を取得\n",
    "print(li.a.text) # aタグの中の文字列を取得\n",
    "li.a.text.split(maxsplit=1) # 文字列のsplit()で日付とタイトルに分割"
   ]
  },
  {
   "cell_type": "code",
   "execution_count": 11,
   "metadata": {},
   "outputs": [
    {
     "name": "stdout",
     "output_type": "stream",
     "text": [
      "2017年8月4日,甘えん坊なはちべい,http://gihyo.jp/lifestyle/clip/01/everyday-cat/201708/04\n",
      "2017年8月3日,ケーブルカー駅のしろくろこ,http://gihyo.jp/lifestyle/clip/01/everyday-cat/201708/03\n",
      "2017年8月2日,ビビりな丸子,http://gihyo.jp/lifestyle/clip/01/everyday-cat/201708/02\n",
      "2017年8月1日,河原の公園のしろくろこ,http://gihyo.jp/lifestyle/clip/01/everyday-cat/201708/01\n",
      "2017年7月31日,技評ねこ部の投稿コーナー！,http://gihyo.jp/lifestyle/clip/01/everyday-cat/201707/31\n",
      "2017年7月28日,しろこの青春,http://gihyo.jp/lifestyle/clip/01/everyday-cat/201707/28\n",
      "2017年7月27日,クリーニング屋のしろこ,http://gihyo.jp/lifestyle/clip/01/everyday-cat/201707/27\n",
      "2017年7月26日,見返りしろこ,http://gihyo.jp/lifestyle/clip/01/everyday-cat/201707/26\n",
      "2017年7月25日,2匹のしろこ,http://gihyo.jp/lifestyle/clip/01/everyday-cat/201707/25\n",
      "2017年7月24日,風通る公園のしろこ　三たび,http://gihyo.jp/lifestyle/clip/01/everyday-cat/201707/24\n",
      "2017年7月21日,塀の上のしろこ,http://gihyo.jp/lifestyle/clip/01/everyday-cat/201707/21\n",
      "2017年7月20日,マダムしろこのご近所しろこ,http://gihyo.jp/lifestyle/clip/01/everyday-cat/201707/20\n",
      "2017年7月19日,風通る公園のしろこ　再び,http://gihyo.jp/lifestyle/clip/01/everyday-cat/201707/19\n",
      "2017年7月18日,マダムしろこ,http://gihyo.jp/lifestyle/clip/01/everyday-cat/201707/18\n",
      "2017年7月14日,ドヤ顔のしろこ,http://gihyo.jp/lifestyle/clip/01/everyday-cat/201707/14\n",
      "2017年7月13日,風通る公園のしろこ,http://gihyo.jp/lifestyle/clip/01/everyday-cat/201707/13\n",
      "2017年7月12日,学校のしろこ,http://gihyo.jp/lifestyle/clip/01/everyday-cat/201707/12\n",
      "2017年7月11日,住宅街のしろこ　夜の部,http://gihyo.jp/lifestyle/clip/01/everyday-cat/201707/11\n",
      "2017年7月10日,住宅街のしろこ,http://gihyo.jp/lifestyle/clip/01/everyday-cat/201707/10\n",
      "2017年7月7日,植え込みのしろこ２,http://gihyo.jp/lifestyle/clip/01/everyday-cat/201707/07\n"
     ]
    }
   ],
   "source": [
    "# 技評ねこ部通信の全データを取得\n",
    "div = soup.find('div', class_='readingContent01')\n",
    "for li in div.find_all('li'): # divタグの中の全liタグを取得\n",
    "    url = li.a['href']\n",
    "    date, text = li.a.text.split(maxsplit=1)\n",
    "    print('{},{},{}'.format(date, text, url))"
   ]
  },
  {
   "cell_type": "markdown",
   "metadata": {},
   "source": [
    "### Beautiful Soup 4を使いこなす"
   ]
  },
  {
   "cell_type": "code",
   "execution_count": 12,
   "metadata": {},
   "outputs": [
    {
     "data": {
      "text/plain": [
       "bs4.element.Tag"
      ]
     },
     "execution_count": 12,
     "metadata": {},
     "output_type": "execute_result"
    }
   ],
   "source": [
    "# タグの情報を取得する\n",
    "div = soup.find('div', class_='readingContent01')\n",
    "type(div) # データの型はTag型"
   ]
  },
  {
   "cell_type": "code",
   "execution_count": 13,
   "metadata": {},
   "outputs": [
    {
     "data": {
      "text/plain": [
       "'div'"
      ]
     },
     "execution_count": 13,
     "metadata": {},
     "output_type": "execute_result"
    }
   ],
   "source": [
    "div.name"
   ]
  },
  {
   "cell_type": "code",
   "execution_count": 14,
   "metadata": {},
   "outputs": [
    {
     "data": {
      "text/plain": [
       "['readingContent01']"
      ]
     },
     "execution_count": 14,
     "metadata": {},
     "output_type": "execute_result"
    }
   ],
   "source": [
    "div['class']"
   ]
  },
  {
   "cell_type": "code",
   "execution_count": 15,
   "metadata": {},
   "outputs": [
    {
     "data": {
      "text/plain": [
       "{'class': ['readingContent01']}"
      ]
     },
     "execution_count": 15,
     "metadata": {},
     "output_type": "execute_result"
    }
   ],
   "source": [
    "div.attrs # 全属性を取得"
   ]
  },
  {
   "cell_type": "code",
   "execution_count": 16,
   "metadata": {},
   "outputs": [
    {
     "data": {
      "text/plain": [
       "131"
      ]
     },
     "execution_count": 16,
     "metadata": {},
     "output_type": "execute_result"
    }
   ],
   "source": [
    "# さまざまな検索方法\n",
    "a_tags = soup.find_all('a') # タグ名を指定\n",
    "len(a_tags)"
   ]
  },
  {
   "cell_type": "code",
   "execution_count": 17,
   "metadata": {},
   "outputs": [
    {
     "name": "stdout",
     "output_type": "stream",
     "text": [
      "base\n",
      "body\n",
      "br\n",
      "br\n",
      "br\n",
      "br\n",
      "br\n"
     ]
    }
   ],
   "source": [
    "import re\n",
    "for tag in soup.find_all(re.compile('^b')): # 正規表現で指定\n",
    "    print(tag.name)"
   ]
  },
  {
   "cell_type": "code",
   "execution_count": 18,
   "metadata": {},
   "outputs": [
    {
     "name": "stdout",
     "output_type": "stream",
     "text": [
      "html\n",
      "title\n"
     ]
    }
   ],
   "source": [
    "for tag in soup.find_all(['html', 'title']): # リストで指定\n",
    "    print(tag.name)"
   ]
  },
  {
   "cell_type": "code",
   "execution_count": 19,
   "metadata": {},
   "outputs": [
    {
     "data": {
      "text/plain": [
       "('div', {'class': ['headCategoryNavigation'], 'id': 'categoryNavigation'})"
      ]
     },
     "execution_count": 19,
     "metadata": {},
     "output_type": "execute_result"
    }
   ],
   "source": [
    "# キーワード引数での属性指定\n",
    "tag = soup.find(id='categoryNavigation') # id属性を指定して検索\n",
    "tag.name, tag.attrs"
   ]
  },
  {
   "cell_type": "code",
   "execution_count": 20,
   "metadata": {},
   "outputs": [
    {
     "data": {
      "text/plain": [
       "57"
      ]
     },
     "execution_count": 20,
     "metadata": {},
     "output_type": "execute_result"
    }
   ],
   "source": [
    "tags = soup.find_all(id=True) # id属性があるタグを全て検索\n",
    "len(tags)"
   ]
  },
  {
   "cell_type": "code",
   "execution_count": 21,
   "metadata": {},
   "outputs": [
    {
     "data": {
      "text/plain": [
       "{'class': ['readingContent01']}"
      ]
     },
     "execution_count": 21,
     "metadata": {},
     "output_type": "execute_result"
    }
   ],
   "source": [
    "div = soup.find('div', class_='readingContent01') # class属性はclass_と指定する\n",
    "div.attrs"
   ]
  },
  {
   "cell_type": "code",
   "execution_count": 22,
   "metadata": {},
   "outputs": [
    {
     "data": {
      "text/plain": [
       "{'class': ['readingContent01']}"
      ]
     },
     "execution_count": 22,
     "metadata": {},
     "output_type": "execute_result"
    }
   ],
   "source": [
    "div = soup.find('div', {'class': 'readingContent01'}) # 辞書形式でも指定できる\n",
    "div.attrs"
   ]
  },
  {
   "cell_type": "code",
   "execution_count": 23,
   "metadata": {},
   "outputs": [
    {
     "data": {
      "text/plain": [
       "[<title>技評ねこ部通信｜gihyo.jp … 技術評論社</title>]"
      ]
     },
     "execution_count": 23,
     "metadata": {},
     "output_type": "execute_result"
    }
   ],
   "source": [
    "# CSSセレクターを使用した検索\n",
    "soup.select('title') # タグ名を指定"
   ]
  },
  {
   "cell_type": "code",
   "execution_count": 24,
   "metadata": {},
   "outputs": [
    {
     "data": {
      "text/plain": [
       "131"
      ]
     },
     "execution_count": 24,
     "metadata": {},
     "output_type": "execute_result"
    }
   ],
   "source": [
    "tags = soup.select('body a') # body タグの下のaタグ\n",
    "len(a_tags)"
   ]
  },
  {
   "cell_type": "code",
   "execution_count": 25,
   "metadata": {},
   "outputs": [
    {
     "data": {
      "text/plain": [
       "9"
      ]
     },
     "execution_count": 25,
     "metadata": {},
     "output_type": "execute_result"
    }
   ],
   "source": [
    "a_tags = soup.select('p > a') # pタグの直下のaタグ\n",
    "len(a_tags)"
   ]
  },
  {
   "cell_type": "code",
   "execution_count": 26,
   "metadata": {},
   "outputs": [
    {
     "data": {
      "text/plain": [
       "[]"
      ]
     },
     "execution_count": 26,
     "metadata": {},
     "output_type": "execute_result"
    }
   ],
   "source": [
    "soup.select('body > a') # bodyタグの直下のaタグは存在しない"
   ]
  },
  {
   "cell_type": "code",
   "execution_count": 27,
   "metadata": {
    "collapsed": true
   },
   "outputs": [],
   "source": [
    "div = soup.select('.readingContent01') # classを指定\n",
    "div = soup.select('div.readingContent01')\n",
    "div = soup.select('#categoryNavigation') # idを指定\n",
    "div = soup.select('div#categoryNavigation')\n",
    "a_tag = soup.select_one('div > a') # 最初のdivタグ直下のaタグを返す"
   ]
  }
 ],
 "metadata": {
  "kernelspec": {
   "display_name": "Python 3",
   "language": "python",
   "name": "python3"
  },
  "language_info": {
   "codemirror_mode": {
    "name": "ipython",
    "version": 3
   },
   "file_extension": ".py",
   "mimetype": "text/x-python",
   "name": "python",
   "nbconvert_exporter": "python",
   "pygments_lexer": "ipython3",
   "version": "3.6.2"
  }
 },
 "nbformat": 4,
 "nbformat_minor": 2
}
