{
 "cells": [
  {
   "cell_type": "markdown",
   "metadata": {},
   "source": [
    "# TensorFlow Arithmetic\n",
    "\n",
    "\n",
    "## calculation"
   ]
  },
  {
   "cell_type": "code",
   "execution_count": 1,
   "metadata": {
    "collapsed": false
   },
   "outputs": [
    {
     "name": "stdout",
     "output_type": "stream",
     "text": [
      "[7.0]\n",
      "[10.0, 5.0, 2.0, 1.0, 2.0, 5.0, 10.0]\n"
     ]
    }
   ],
   "source": [
    "import tensorflow as tf\n",
    "\n",
    "def x2_plus_b(x, b):\n",
    "    _x = tf.constant(x)\n",
    "    _b = tf.constant(b)\n",
    "    result = tf.square(_x)\n",
    "    result = tf.add(result, _b)\n",
    "    return result\n",
    "\n",
    "with tf.Session() as sess:\n",
    "    result = sess.run([x2_plus_b(2., 3.)])\n",
    "    print result\n",
    "\n",
    "with tf.Session() as sess:\n",
    "    result = sess.run([x2_plus_b(float(i), 1.) for i in range(-3, 4)])  # may be executed in parallel\n",
    "    print result"
   ]
  },
  {
   "cell_type": "markdown",
   "metadata": {},
   "source": [
    "## use placeholder"
   ]
  },
  {
   "cell_type": "code",
   "execution_count": 2,
   "metadata": {
    "collapsed": false
   },
   "outputs": [
    {
     "name": "stdout",
     "output_type": "stream",
     "text": [
      "[array([ 7.], dtype=float32)]\n"
     ]
    }
   ],
   "source": [
    "import tensorflow as tf\n",
    "\n",
    "with tf.name_scope(\"placeholder\") as scope:\n",
    "    p_x = tf.placeholder(tf.types.float32)\n",
    "    p_b = tf.placeholder(tf.types.float32)\n",
    "    p_x2_plus_b = tf.add(tf.square(p_x), p_b)\n",
    "\n",
    "with tf.Session() as sess:\n",
    "    result = sess.run([p_x2_plus_b], feed_dict={p_x: [2.], p_b: [3.]})\n",
    "    print result"
   ]
  },
  {
   "cell_type": "markdown",
   "metadata": {},
   "source": [
    "## visualize"
   ]
  },
  {
   "cell_type": "code",
   "execution_count": 3,
   "metadata": {
    "collapsed": false
   },
   "outputs": [],
   "source": [
    "import tensorflow as tf\n",
    "\n",
    "def monitor_calculation(x, b):\n",
    "    title = \"b = {0}\".format(b)\n",
    "    c = x2_plus_b(float(x), float(b))\n",
    "    s = tf.scalar_summary(title, c)\n",
    "    m = tf.merge_summary([s])  # if you are using some summaries, merge them\n",
    "    return m\n",
    "\n",
    "with tf.Session() as sess:\n",
    "    writer = tf.train.SummaryWriter(\"log\", graph_def=sess.graph_def)    \n",
    "    xaxis = range(-10, 12)\n",
    "\n",
    "    for b in range(3):\n",
    "        for x in xaxis:\n",
    "            summary_str = sess.run(monitor_calculation(x, b))\n",
    "            writer.add_summary(summary_str, x)\n"
   ]
  },
  {
   "cell_type": "code",
   "execution_count": null,
   "metadata": {
    "collapsed": true
   },
   "outputs": [],
   "source": []
  }
 ],
 "metadata": {
  "kernelspec": {
   "display_name": "Python 2",
   "language": "python",
   "name": "python2"
  },
  "language_info": {
   "codemirror_mode": {
    "name": "ipython",
    "version": 2
   },
   "file_extension": ".py",
   "mimetype": "text/x-python",
   "name": "python",
   "nbconvert_exporter": "python",
   "pygments_lexer": "ipython2",
   "version": "2.7.10"
  }
 },
 "nbformat": 4,
 "nbformat_minor": 0
}
