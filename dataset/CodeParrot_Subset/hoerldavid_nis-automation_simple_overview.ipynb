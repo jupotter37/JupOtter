{
 "cells": [
  {
   "cell_type": "code",
   "execution_count": 26,
   "metadata": {
    "collapsed": true
   },
   "outputs": [],
   "source": [
    "###################\n",
    "# set up the environment, nis, and image saving path\n",
    "#####################\n",
    "import os\n",
    "from nis_util import *\n",
    "\n",
    "path_to_nis = 'C:\\\\Program Files\\\\NIS-Elements\\\\nis_ar.exe'\n",
    "#save_base_path = 'E:\\\\aquisition data\\\\Nicolas\\\\Overviews'\n",
    "\n",
    "# save_base_path = 'C:\\\\Users\\\\Nikon\\\\Documents\\\\TEST'\n",
    "save_base_path = 'E:\\\\aquisition data\\\\Nicolas\\\\Overviews'"
   ]
  },
  {
   "cell_type": "code",
   "execution_count": null,
   "metadata": {
    "collapsed": true
   },
   "outputs": [],
   "source": []
  },
  {
   "cell_type": "code",
   "execution_count": 27,
   "metadata": {
    "collapsed": true
   },
   "outputs": [],
   "source": [
    "###################\n",
    "# select and name the scans\n",
    "#####################\n",
    "\n",
    "# put the name of the optical configuration to use here\n",
    "#set_optical_configuration(path_to_nis, 'Dia-4x')\n",
    "\n",
    "#####################################\n",
    "# where to save the files, for example\n",
    "# save_path_left = 'NG_Overview_024.nd2'\n",
    "#\n",
    "# if no slide just put None. For example:\n",
    "# save_path_left = None\n",
    "########################################\n",
    "save_path_left  = 'YX_Overview_0405016.nd2' #None\n",
    "save_path_mid   = 'YQ_Overview_0405017.nd2' #None\n",
    "save_path_right = 'YQ_Overview_0405018.nd2' #None\n",
    "\n",
    "\n",
    "\n",
    "save_path_right = os.path.join(save_base_path, save_path_right) if (save_path_right != None) else None\n",
    "save_path_mid   = os.path.join(save_base_path, save_path_mid)   if (save_path_mid   != None) else None\n",
    "save_path_left  = os.path.join(save_base_path, save_path_left)  if (save_path_left  != None) else None"
   ]
  },
  {
   "cell_type": "code",
   "execution_count": 28,
   "metadata": {},
   "outputs": [
    {
     "name": "stdout",
     "output_type": "stream",
     "text": [
      "Scanning left scan.\n",
      "Scanning mid scan.\n",
      "Scanning right scan.\n"
     ]
    }
   ],
   "source": [
    "############################\n",
    "# run the scan\n",
    "# before running the scan, you should make the focus correctly\n",
    "# skips files that already exist\n",
    "############################\n",
    "    \n",
    "# the bounding boxes of the slide holders\n",
    "\n",
    "# left slide\n",
    "do_scan_left  = save_path_left != None\n",
    "if (do_scan_left and (os.path.exists(save_path_left))):\n",
    "    print('WARNING: file {} exists.'.format(save_path_left))\n",
    "    do_scan_left = False\n",
    "if do_scan_left:\n",
    "    print('Scanning left scan.')\n",
    "    do_large_image_scan(path_to_nis, save_path_left, 53331, 28806, -20726, 20464)\n",
    "else:\n",
    "    print('Skipping left slide.')\n",
    "\n",
    "# mid slide\n",
    "do_scan_mid  = save_path_mid != None\n",
    "if (do_scan_mid and os.path.exists(save_path_mid)):\n",
    "    print('WARNING: file {} exists.'.format(save_path_mid))\n",
    "    do_scan_mid = False\n",
    "if do_scan_mid:\n",
    "    print('Scanning mid scan.')\n",
    "    do_large_image_scan(path_to_nis, save_path_mid, 13400, -7850, -20954, 18220)\n",
    "else:\n",
    "    print('Skipping middle slide.')\n",
    "\n",
    "# right slide\n",
    "do_scan_right  = save_path_right != None\n",
    "if (do_scan_right and os.path.exists(save_path_right)):\n",
    "    print('WARNING: file {} exists.'.format(save_path_right))\n",
    "    do_scan_right = False\n",
    "if do_scan_right:\n",
    "    print('Scanning right scan.')\n",
    "    do_large_image_scan(path_to_nis, save_path_right, -26500, -50000, -21053, 18177)\n",
    "else:\n",
    "    print('Skipping right slide.')"
   ]
  },
  {
   "cell_type": "code",
   "execution_count": 108,
   "metadata": {
    "collapsed": true
   },
   "outputs": [],
   "source": [
    "do_large_image_scan(path_to_nis, save_path_left, 53331, 28806, -20726, 20464)"
   ]
  }
 ],
 "metadata": {
  "kernelspec": {
   "display_name": "Python 3",
   "language": "python",
   "name": "python3"
  },
  "language_info": {
   "codemirror_mode": {
    "name": "ipython",
    "version": 3
   },
   "file_extension": ".py",
   "mimetype": "text/x-python",
   "name": "python",
   "nbconvert_exporter": "python",
   "pygments_lexer": "ipython3",
   "version": "3.6.3"
  }
 },
 "nbformat": 4,
 "nbformat_minor": 1
}
