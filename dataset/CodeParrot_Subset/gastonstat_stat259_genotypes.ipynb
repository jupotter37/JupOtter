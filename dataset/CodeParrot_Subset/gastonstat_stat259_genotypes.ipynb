{
 "cells": [
  {
   "cell_type": "markdown",
   "metadata": {},
   "source": [
    "# Python Basics"
   ]
  },
  {
   "cell_type": "markdown",
   "metadata": {},
   "source": [
    "_This notebook will allow you to practice some basic skills for using python: working with different data types, using various data structures, reading and writing text files, using conditionals, control flow structures, creating functions, and of course working with ipython notebooks._\n",
    "\n",
    "### Motivation:\n",
    "\n",
    "A biologist is interested in the genetic basis of height. She measures the heights of many subjects and sends off their DNA samples to a core for genotyping arrays. These arrays determine the DNA bases at the variable sites of the genome (known as single nucleotide polymorphisms, or SNPs). Since humans are diploid, i.e. have two of each chromosome, each data point will be two DNA bases corresponding to the two chromosomes in each individual. At each SNP, there will be only three possible genotypes, e.g. AA, AG, GG for an A/G SNP. In order to test the correlation between a SNP genotype and height, she wants to perform a regression with an additive genetic model. However, she cannot do this with the data in the current form. She needs to convert the genotypes, e.g. AA, AG, and GG, to the numbers 0, 1, and 2, respectively (in the example the number corresponds the number of G bases the person has at that SNP). Since she has too much data to do this manually, e.g. in Excel, she comes to you for ideas of how to efficiently transform the data.\n",
    "\n",
    "### Part 1:\n",
    "Create a new list which has the converted genotype for each subject ('AA' -> 0, 'AG' -> 1, 'GG' -> 2)."
   ]
  },
  {
   "cell_type": "code",
   "execution_count": 1,
   "metadata": {
    "collapsed": true
   },
   "outputs": [],
   "source": [
    "genos = ['AA', 'GG', 'AG', 'AG', 'GG']\n",
    "genos_new = []\n",
    "# Use your knowledge of if/else statements and loop structures below."
   ]
  },
  {
   "cell_type": "markdown",
   "metadata": {},
   "source": [
    "Check your work"
   ]
  },
  {
   "cell_type": "code",
   "execution_count": 2,
   "metadata": {
    "collapsed": false
   },
   "outputs": [
    {
     "data": {
      "text/plain": [
       "False"
      ]
     },
     "execution_count": 2,
     "metadata": {},
     "output_type": "execute_result"
    }
   ],
   "source": [
    "genos_new == [0, 2, 1, 1, 2]"
   ]
  },
  {
   "cell_type": "markdown",
   "metadata": {},
   "source": [
    "### Part 2:\n",
    "\n",
    "Sometimes there are errors and the genotype cannot be determined. Adapt your code from above to deal with this problem (in this example missing data is assigned NA for \"Not Available\")."
   ]
  },
  {
   "cell_type": "code",
   "execution_count": 3,
   "metadata": {
    "collapsed": true
   },
   "outputs": [],
   "source": [
    "genos_w_missing = ['AA', 'NA', 'GG', 'AG', 'AG', 'GG', 'NA']\n",
    "genos_w_missing_new = []\n",
    "# The missing data should not be converted to a number, but remain 'NA' in the new list"
   ]
  },
  {
   "cell_type": "markdown",
   "metadata": {},
   "source": [
    "Check your work"
   ]
  },
  {
   "cell_type": "code",
   "execution_count": null,
   "metadata": {
    "collapsed": true
   },
   "outputs": [],
   "source": [
    "genos_w_missing_new == [0, 'NA', 2, 1, 1, 2, 'NA']"
   ]
  },
  {
   "cell_type": "code",
   "execution_count": null,
   "metadata": {
    "collapsed": true
   },
   "outputs": [],
   "source": []
  },
  {
   "cell_type": "markdown",
   "metadata": {},
   "source": [
    "---\n",
    "\n",
    "## Main Practice\n",
    "\n",
    "__Setup:__ Open a terminal and run the following commands:\n",
    "```bash\n",
    "# create a new directory\n",
    "mkdir python-intro\n",
    "cd python-intro\n",
    "\n",
    "# download data file, and ipython notebook\n",
    "curl -O https://raw.githubusercontent.com/gastonstat/stat259/gh-pages/tutorials/genos.txt\n",
    "curl -O https://raw.githubusercontent.com/gastonstat/stat259/gh-pages/tutorials/genotypes.ipynb\n",
    "```\n",
    "\n",
    "__Data File:__ The raw data for this practice is in the file `genos.txt` which contains one column of genotypes (one genotype per row). Each genotype consists of two characters: e.g. `'AA'` or `'GG'`. In addition, there are some rows that contain missing values denoted as `'NA'`.\n",
    "\n",
    "I. Read in the data and store the contents in a list called __genos__.\n",
    "\n",
    "II. Find out how what are the different (i.e. unique) values are in __genos__.\n",
    "\n",
    "III. Calculate the number of occurrences of each genotype, and store the results in a dictionary called __geno_counts__. Use the following 3 approaches:\n",
    "1. Use a **for** loop to count the genotypes (store the result in a dictionary)\n",
    "2. Get the same counts but this time using the `count()` method\n",
    "3. Another alternative is to use `Counter` from __Collections__\n",
    "\n",
    "IV. Once you've counted the genotypes, make a function __get_proportions()__ that takes `geno_counts` and returns a dictionary with relative frequencies (i.e. proportions) of genotypes. Also, test your function with the provided assertion.\n",
    "\n",
    "V. Convert the string values in __genos__ into integers ('NA' remains as 'NA') and put them in a new list called **numeric_genos**:\n",
    "- `'AA'` = 0\n",
    "- `'AG'` = 1\n",
    "- `'GG'` = 2\n",
    "- `'NA'` = `'NA'`\n",
    "\n",
    "VI. Write the data in **numeric_genos** to a text file called `genos_int.txt`\n",
    "\n",
    "VII. Finally, convert your notebook to html (and open it) by running these commands from the shell:\n",
    "\n",
    "```shell\n",
    "ipython nbconvert genotypes.ipynb\n",
    "open genotypes.html\n",
    "```\n",
    "---"
   ]
  },
  {
   "cell_type": "code",
   "execution_count": 1,
   "metadata": {
    "collapsed": true
   },
   "outputs": [],
   "source": [
    "# things to be imported\n",
    "from __future__ import division  # if you use python 2.?\n",
    "from collections import Counter"
   ]
  },
  {
   "cell_type": "markdown",
   "metadata": {},
   "source": [
    "---\n",
    "\n",
    "## I. Reading a text file"
   ]
  },
  {
   "cell_type": "markdown",
   "metadata": {},
   "source": [
    "Some refs about Reading Files:\n",
    "\n",
    "- File Operations: [https://github.com/dlab-berkeley/python-fundamentals/blob/master/cheat-sheets/12-Files.ipynb](https://github.com/dlab-berkeley/python-fundamentals/blob/master/cheat-sheets/12-Files.ipynb)\n",
    "- Reading Text Files: [http://www.jarrodmillman.com/rcsds/lectures/reading_text_files.html](http://www.jarrodmillman.com/rcsds/lectures/reading_text_files.html)"
   ]
  },
  {
   "cell_type": "code",
   "execution_count": 2,
   "metadata": {
    "collapsed": false
   },
   "outputs": [],
   "source": [
    "# open 'genos.txt' and store values in \"genos\"\n",
    "# YOUR CODE"
   ]
  },
  {
   "cell_type": "markdown",
   "metadata": {},
   "source": [
    "---\n",
    "\n",
    "## II. Unique Genotypes"
   ]
  },
  {
   "cell_type": "code",
   "execution_count": 3,
   "metadata": {
    "collapsed": true
   },
   "outputs": [],
   "source": [
    "# Find the unique values in genos\n",
    "# YOUR CODE"
   ]
  },
  {
   "cell_type": "markdown",
   "metadata": {},
   "source": [
    "---\n",
    "\n",
    "## III. Counting Genotypes\n",
    "\n",
    "### a) Using a for loop"
   ]
  },
  {
   "cell_type": "code",
   "execution_count": 4,
   "metadata": {
    "collapsed": false
   },
   "outputs": [],
   "source": [
    "# For loop to count occurrences of AA, AG, GG, NA\n",
    "# (store results in dictionary \"geno_counts\")\n",
    "# YOUR CODE"
   ]
  },
  {
   "cell_type": "markdown",
   "metadata": {},
   "source": [
    "### b) Using count method"
   ]
  },
  {
   "cell_type": "code",
   "execution_count": 5,
   "metadata": {
    "collapsed": false
   },
   "outputs": [],
   "source": [
    "# YOUR CODE"
   ]
  },
  {
   "cell_type": "markdown",
   "metadata": {},
   "source": [
    "### c) Using Counter from collections"
   ]
  },
  {
   "cell_type": "code",
   "execution_count": 6,
   "metadata": {
    "collapsed": false
   },
   "outputs": [],
   "source": [
    "# YOUR CODE"
   ]
  },
  {
   "cell_type": "markdown",
   "metadata": {},
   "source": [
    "---\n",
    "\n",
    "## IV. Function to Calculate Proportions"
   ]
  },
  {
   "cell_type": "code",
   "execution_count": 7,
   "metadata": {
    "collapsed": false
   },
   "outputs": [],
   "source": [
    "# Write a function \"get_proportions()\"\n",
    "# Parameters: geno_counts (dictionary)\n",
    "# Returns: dictionary of proportions\n",
    "# YOUR CODE"
   ]
  },
  {
   "cell_type": "code",
   "execution_count": 8,
   "metadata": {
    "collapsed": false
   },
   "outputs": [],
   "source": [
    "# apply your function:\n",
    "# get_proportions(geno_counts)"
   ]
  },
  {
   "cell_type": "code",
   "execution_count": 9,
   "metadata": {
    "collapsed": true
   },
   "outputs": [],
   "source": [
    "# test for function get_proportions()\n",
    "def test_get_proportions():\n",
    "    # We make a fake dictionary\n",
    "    input_val = {'AA': 2, 'AB': 4, 'BB': 14}\n",
    "    expected_result = {'AA': 0.1, 'AB': 0.2, 'BB': 0.7}\n",
    "    # run function\n",
    "    res = get_proportions(input_val)\n",
    "    assert res == expected_result"
   ]
  },
  {
   "cell_type": "code",
   "execution_count": 10,
   "metadata": {
    "collapsed": true
   },
   "outputs": [],
   "source": [
    "# run the test and see what happens:\n",
    "# test_get_proportions()"
   ]
  },
  {
   "cell_type": "markdown",
   "metadata": {},
   "source": [
    "---\n",
    "\n",
    "## V. Converting to numeric genotypes"
   ]
  },
  {
   "cell_type": "code",
   "execution_count": 11,
   "metadata": {
    "collapsed": false
   },
   "outputs": [],
   "source": [
    "# convert genotypes: AA = 0, AG = 1, GG = 2, NA = NA\n",
    "# (create a list called \"numeric_genos\")\n",
    "# YOUR CODE"
   ]
  },
  {
   "cell_type": "markdown",
   "metadata": {},
   "source": [
    "---\n",
    "\n",
    "## VI. Write Numeric Genotypes to a text file"
   ]
  },
  {
   "cell_type": "code",
   "execution_count": 12,
   "metadata": {
    "collapsed": false
   },
   "outputs": [],
   "source": [
    "# write values in \"numeric_genos\" to a file \"genos_int.txt\"\n",
    "# YOUR CODE"
   ]
  }
 ],
 "metadata": {
  "kernelspec": {
   "display_name": "Python 2",
   "language": "python",
   "name": "python2"
  },
  "language_info": {
   "codemirror_mode": {
    "name": "ipython",
    "version": 2
   },
   "file_extension": ".py",
   "mimetype": "text/x-python",
   "name": "python",
   "nbconvert_exporter": "python",
   "pygments_lexer": "ipython2",
   "version": "2.7.11"
  }
 },
 "nbformat": 4,
 "nbformat_minor": 0
}
