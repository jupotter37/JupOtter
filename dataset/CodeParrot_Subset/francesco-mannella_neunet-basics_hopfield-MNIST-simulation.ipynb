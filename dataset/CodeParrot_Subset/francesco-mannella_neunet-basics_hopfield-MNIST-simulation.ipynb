{
 "cells": [
  {
   "cell_type": "markdown",
   "metadata": {
    "run_control": {
     "marked": false
    }
   },
   "source": [
    "# Storing and recalling MNIST digits with Hopfield nets"
   ]
  },
  {
   "cell_type": "code",
   "execution_count": 1,
   "metadata": {
    "collapsed": false,
    "run_control": {
     "marked": false
    }
   },
   "outputs": [],
   "source": [
    "%matplotlib inline\n",
    "from pylab import *"
   ]
  },
  {
   "cell_type": "markdown",
   "metadata": {
    "run_control": {
     "marked": false
    }
   },
   "source": [
    "Let us implement a Hopfield network using images from [the MNIST dataset](http://nbviewer.ipython.org/github/francesco-mannella/neunet-basics/blob/master/course/mnist.ipynb) as patterns."
   ]
  },
  {
   "cell_type": "markdown",
   "metadata": {
    "run_control": {
     "marked": false
    }
   },
   "source": [
    "#### Initialize the dataset\n",
    "First we initialize the dataset:"
   ]
  },
  {
   "cell_type": "code",
   "execution_count": 2,
   "metadata": {
    "collapsed": false,
    "run_control": {
     "marked": false
    }
   },
   "outputs": [],
   "source": [
    "#### Download the dataset \n",
    "# Get the script from internet\n",
    "! wget https://raw.githubusercontent.com/sorki/python-mnist/master/get_data.sh > /dev/null 2>&1  \n",
    "\n",
    "# Run it to dovnload all files in a local dir named 'data'\n",
    "! bash get_data.sh >/dev/null 2>&1\n",
    "\n",
    "# We do not need the script anymore, remove it\n",
    "! rm get_data.sh* > /dev/null 2>&1\n",
    "\n",
    "# Initialize the dataset variables\n",
    "%run utils"
   ]
  },
  {
   "cell_type": "markdown",
   "metadata": {
    "run_control": {
     "marked": false
    }
   },
   "source": [
    "We now fill a array with all parameters. We only need few samples, we take them from the training set. \n",
    "We take samples 2 and 5, representing respectively a '4' and a '2'"
   ]
  },
  {
   "cell_type": "code",
   "execution_count": 3,
   "metadata": {
    "collapsed": false,
    "run_control": {
     "marked": false
    }
   },
   "outputs": [],
   "source": [
    "# Take two rows\n",
    "patterns = array(mndata.train_images)[[2,5],]\n",
    "labels = array(mndata.train_labels)[[2,5],]\n",
    "\n",
    "# We need only the sign (transform to binary input)\n",
    "patterns = sign(patterns/255.0 - 0.5)\n",
    "\n",
    "# Set the number of patterns (two in out case)\n",
    "n_patterns = patterns.shape[0]\n",
    "\n",
    "# Number of units of the network\n",
    "n = img_side*img_side"
   ]
  },
  {
   "cell_type": "markdown",
   "metadata": {
    "run_control": {
     "marked": false
    }
   },
   "source": [
    "Let us visualize our two patterns:"
   ]
  },
  {
   "cell_type": "code",
   "execution_count": 4,
   "metadata": {
    "collapsed": false,
    "run_control": {
     "marked": false
    }
   },
   "outputs": [
    {
     "data": {
      "image/png": "[encoded data removed]",
      "text/plain": [
       "<matplotlib.figure.Figure at 0x7f4723a614d0>"
      ]
     },
     "metadata": {},
     "output_type": "display_data"
    }
   ],
   "source": [
    "fig = figure(figsize = (8, 4))\n",
    "for i in xrange(n_patterns):\n",
    "    plot_img( to_mat(patterns[i]), \n",
    "             fig, i+1, windows = 2 )"
   ]
  },
  {
   "cell_type": "markdown",
   "metadata": {
    "run_control": {
     "marked": false
    }
   },
   "source": [
    "#### Learning the weights\n",
    "\n",
    "Learning of the weight happens offline at the beginning, in one shot:"
   ]
  },
  {
   "cell_type": "code",
   "execution_count": 5,
   "metadata": {
    "collapsed": false,
    "run_control": {
     "marked": false
    }
   },
   "outputs": [],
   "source": [
    "# Initialize weights to zero values\n",
    "W = zeros([n,n])\n",
    "\n",
    "# Accumulate outer products \n",
    "for pattern in patterns :\n",
    "    W += outer(pattern, pattern)\n",
    "\n",
    "# Divide times the number of patterns\n",
    "W /= float(n_patterns)\n",
    "\n",
    "# Exclude the autoconnections\n",
    "W *= 1.0 - eye(n, n)"
   ]
  },
  {
   "cell_type": "markdown",
   "metadata": {
    "run_control": {
     "marked": false
    }
   },
   "source": [
    "#### Recall: Iterating the timesteps\n",
    "\n",
    "Now we implement the recall part, in which we give an initial activation to the network and iterate the timesteps unitil it relaxes to a steady state."
   ]
  },
  {
   "cell_type": "code",
   "execution_count": 6,
   "metadata": {
    "collapsed": false
   },
   "outputs": [],
   "source": [
    "# Number of timesteps\n",
    "stime = 1000\n",
    "\n",
    "# Number of samples to store as long \n",
    "# as spreading goes on\n",
    "samples = 100\n",
    "\n",
    "# store data at each sampling interval\n",
    "sample_interval = stime/samples\n",
    "\n",
    "# Init the stories of spreading as a zero array,\n",
    "# we will fill it in at each timestep and we will \n",
    "# plot it at the end\n",
    "store_images = zeros([n_patterns, n, samples])\n",
    "\n",
    "# Init the stories of energy as a zero array,\n",
    "# we will fill it in at each timestep and we will \n",
    "# plot it at the end\n",
    "store_energy = zeros([n_patterns, samples])\n",
    "\n",
    "# We simulate two iterations, each one starting\n",
    "# with a coorupted version of one of our two patterns\n",
    "for target_index in xrange(n_patterns) :\n",
    "\n",
    "    # Copy the original pattern\n",
    "    target = patterns[target_index]\n",
    "    x = target.copy()\n",
    "    \n",
    "    # Then modify the second half of the image \n",
    "    # putting random binary values\n",
    "    x[(n/2):] = sign(randn(n/2))\n",
    "\n",
    "    \n",
    "    # During the iterations we need to peek \n",
    "    # one unit at random. Thus we must prepare\n",
    "    # a random sequence of indices:\n",
    "    #    we get the sequence of indices \n",
    "    #    of the network units\n",
    "    x_indices = arange(n)\n",
    "    \n",
    "    #    and we shuffle it\n",
    "    shuffle(x_indices)\n",
    "    \n",
    "    # the iterations\n",
    "    for t in xrange(stime) :\n",
    "        # Get the current index browsing \n",
    "        # the random sequence \n",
    "        current_x = x_indices[t%n]   \n",
    "        \n",
    "        # Activation of a unit\n",
    "        x[current_x] = sign(dot(W[current_x,:], x))\n",
    "        \n",
    "        # Store current activations\n",
    "        if stime%sample_interval == 0 :\n",
    "            # Energy of the current state of the network\n",
    "            store_energy[target_index, t/sample_interval] = -0.5*dot(x, dot(W, x))\n",
    "            \n",
    "            # array containing samples of network activation\n",
    "            store_images[target_index,:,t/sample_interval] = x\n"
   ]
  },
  {
   "cell_type": "markdown",
   "metadata": {
    "run_control": {
     "marked": true
    }
   },
   "source": [
    "Here you can see two animations showing the network that is initially activated with one of the two patterns. The initial activation is corrupted with a lot of noise so that the bottom half of the figure is completelly obscured. \n",
    "The network moves from this initial activation to the correct attractor state (the original uncorrupted figure). During this process the energy of the network lowers untill it reaches a steady state."
   ]
  },
  {
   "cell_type": "markdown",
   "metadata": {},
   "source": [
    "<img src=\"mnist-hopfield_4.gif\" width=100%>\n",
    "<img src=\"mnist-hopfield_2.gif\" width=100%>"
   ]
  },
  {
   "cell_type": "markdown",
   "metadata": {},
   "source": [
    "####  Appendix: How to build the animation\n",
    "We use the [matplotlib.animation](http://matplotlib.org/api/animation_api.html) package for animations and the [gridspec](http://matplotlib.org/users/gridspec.html) class to customize the layout of subplots. "
   ]
  },
  {
   "cell_type": "code",
   "execution_count": 7,
   "metadata": {
    "collapsed": true
   },
   "outputs": [],
   "source": [
    "# The matplotlib object to do animations\n",
    "from matplotlib import animation\n",
    "\n",
    "# This grid allows to layout subplots in a more\n",
    "# flexible way\n",
    "import matplotlib.gridspec as gridspec"
   ]
  },
  {
   "cell_type": "markdown",
   "metadata": {},
   "source": [
    "To plot the two animations we need a function to initialize a figure with three plots: the first showing the target digit, the second showing the current activity of the network and the third showing the sum of squared errors. "
   ]
  },
  {
   "cell_type": "code",
   "execution_count": 8,
   "metadata": {
    "collapsed": false,
    "run_control": {
     "marked": false
    }
   },
   "outputs": [],
   "source": [
    "def init_figure(fig) :\n",
    "\n",
    "    # Init the grid and the figure\n",
    "    gs = gridspec.GridSpec(6, 20)\n",
    "\n",
    "    #-------------------------------------------------\n",
    "    # Plot 1 - plot the target digit\n",
    "\n",
    "    # Create subplot\n",
    "    ax1 = fig.add_subplot(gs[:4,:4])\n",
    "\n",
    "    title(\"target\")\n",
    "\n",
    "    # Create the imshow and save the handler\n",
    "    im_target = ax1.imshow(to_mat(patterns[0]), \n",
    "            interpolation = 'none', \n",
    "            aspect = 'auto',\n",
    "            cmap = cm.binary) \n",
    "    axis('off')\n",
    "\n",
    "\n",
    "    #-------------------------------------------------\n",
    "    # Plot 2 - plot the current state of the network\n",
    "\n",
    "    # Create subplot\n",
    "    ax2 = fig.add_subplot(gs[:4,6:10])\n",
    "\n",
    "    title(\"recalling\")\n",
    "\n",
    "    # Create the imshow and save the handler\n",
    "    im_activation = ax2.imshow(to_mat(store_images[0,:,0]), \n",
    "            interpolation = 'none', \n",
    "            aspect = 'auto',\n",
    "            cmap = cm.binary) \n",
    "    axis('off')\n",
    "\n",
    "    #-------------------------------------------------\n",
    "    # Plot 3 - plot the current history of energy\n",
    "\n",
    "    # Create subplot\n",
    "    ax3 = fig.add_subplot(gs[:4,12:])\n",
    "\n",
    "    title(\"Energy\")\n",
    "\n",
    "    # Create the line plot and save the handler\n",
    "    im_energy, = ax3.plot(store_energy[0,])\n",
    "\n",
    "    # Only bottom-left axes - no tics\n",
    "    ax3.spines['top'].set_visible(False)\n",
    "    ax3.spines['right'].set_visible(False)\n",
    "    ax3.set_xticks([])\n",
    "    ax3.set_yticks([])   \n",
    "    \n",
    "    # return plot handlers\n",
    "    return im_target, im_activation, im_energy"
   ]
  },
  {
   "cell_type": "markdown",
   "metadata": {},
   "source": [
    "We also need one another function that updates the figure at \n",
    "each animation timestep with a new sample"
   ]
  },
  {
   "cell_type": "code",
   "execution_count": 9,
   "metadata": {
    "collapsed": false
   },
   "outputs": [],
   "source": [
    "# Updates images at each frame of the animation\n",
    "# data    : list of tuples    Each row contains the\n",
    "#                             arguments of update for \n",
    "#                             a frame\n",
    "# returns : tuple             The handlers of the \n",
    "#                             images \n",
    "def update(data) :\n",
    "\n",
    "    # unpack plot handlers and data \n",
    "    im_A, im_B, im_C, A, B, C = data\n",
    "    \n",
    "    # Update data of plot 1, plot 2 and 3\n",
    "    im_A.set_array(to_mat(A))\n",
    "    im_B.set_array(to_mat(B))\n",
    "    im_C.set_data(arange( len(C)), C)  \n",
    "    \n",
    "    # return plot handlers\n",
    "    return im_A, im_B, im_C"
   ]
  },
  {
   "cell_type": "markdown",
   "metadata": {},
   "source": [
    "Finally we use the FuncAnimation class. We first build a data list where each row is a tuple containing plot handlers and data do for plot updates.."
   ]
  },
  {
   "cell_type": "code",
   "execution_count": 10,
   "metadata": {
    "code_folding": [],
    "collapsed": false,
    "run_control": {
     "marked": false
    }
   },
   "outputs": [
    {
     "data": {
      "image/png": "[encoded data removed]",
      "text/plain": [
       "<matplotlib.figure.Figure at 0x7f4739194d90>"
      ]
     },
     "metadata": {},
     "output_type": "display_data"
    },
    {
     "data": {
      "image/png": "[encoded data removed]",
      "text/plain": [
       "<matplotlib.figure.Figure at 0x7f4738014cd0>"
      ]
     },
     "metadata": {},
     "output_type": "display_data"
    }
   ],
   "source": [
    "for target_index in xrange(n_patterns):\n",
    "\n",
    "    # Init the figure\n",
    "    fig = figure(figsize=(8, 3.5))      \n",
    "    \n",
    "    im_target, im_activation, im_energy = init_figure(fig)\n",
    "    \n",
    "    # Build the sequence of update arguments.\n",
    "    # each row of the list contains:\n",
    "    # 1 the target plot handler\n",
    "    # 2 the activation plot handler\n",
    "    # 3 the energy plot handler\n",
    "    # 4 the target update data\n",
    "    # 5 the activation update data\n",
    "    # 6 the energy update data\n",
    "    data = [(\n",
    "            im_target, \n",
    "            im_activation, \n",
    "            im_energy,\n",
    "            patterns[target_index],\n",
    "            squeeze(store_images[target_index,:,t]), \n",
    "            store_energy[target_index, :t] ) \n",
    "        for t in xrange(samples ) ]\n",
    "\n",
    "    # Create and render the animation\n",
    "    anim = animation.FuncAnimation(fig, func = update,  frames = data )\n",
    "    # save it to file\n",
    "    anim.save(\"mnist-hopfield_{:d}.gif\".format(labels[target_index]),\n",
    "              fps = 10, writer='imagemagick')\n"
   ]
  },
  {
   "cell_type": "markdown",
   "metadata": {
    "run_control": {
     "marked": false
    }
   },
   "source": [
    "<br><br><br><br><br><br><br><br><br><br><br><br><br><br>\n",
    "<br><br><br><br><br><br><br><br><br><br><br><br><br><br>\n",
    "<br><br><br><br><br><br><br><br><br><br><br><br><br><br>\n",
    "Next cell is just for styling"
   ]
  },
  {
   "cell_type": "code",
   "execution_count": 11,
   "metadata": {
    "code_folding": [],
    "collapsed": false,
    "run_control": {
     "marked": true
    }
   },
   "outputs": [
    {
     "data": {
      "text/html": [
       "<style>\n",
       "\n",
       "/* PRINT */\n",
       "\n",
       "#toc ol {\n",
       "    font-size: 20px; \n",
       "    line-height: 120%; \n",
       "    padding: 0; \n",
       "    margin-left: 20px; \n",
       "    list-style-type: decimal;\n",
       "}\n",
       "\n",
       "/* PRINT */\n",
       "div.text_cell_render table, \n",
       "div.text_cell_render  th,\n",
       "div.text_cell_render  tr,\n",
       "div.text_cell_render td {\n",
       "    border: 0px solid black;\n",
       "}\n",
       "div.MathJax_Display {padding: 40px 5px 40px 5px}\n",
       "\n",
       "div.input_area  { padding: 10px;  }\n",
       "\n",
       "div.input_area  { \n",
       "    min-width: 20em !important; \n",
       "    overflow-x: hide\n",
       "} \n",
       "div.input_area pre {  \n",
       "    min-width: 20em !important; \n",
       "}\n",
       "\n",
       "\n",
       "div.input_area  { padding: 10px; overflow: auto  }\n",
       ".rendered_html p{ text-align: left }\n",
       "div.input_area>div.highlight  { padding:10px; width: 500px !important}\n",
       "\n",
       "/* FONT_CODE */\n",
       ".input_area pre { font-size:10px; line-height:120% }\n",
       "\n",
       "/* FONT_TEXT */\n",
       "div.text_cell_render { font-size:20px;  line-height:120% }\n",
       "\n",
       "/* FONT_QUOTE */\n",
       ".text_cell_render pre { font-size:14px; line-height:120% }\n",
       "\n",
       "/* BACKGROUND */\n",
       "div .input_area { background-color:#333333;}\n",
       "blockquote { background-color:#ffff66; }\n",
       "\n",
       "/* BUILTIN */\n",
       ".input_area .highlight .bp { color: #CD5C5C } /* Name.Builtin.Pseudo */\n",
       "\n",
       "/* KEYWORD */\n",
       ".input_area .highlight .k { color: #F0E68C; font-weight: bold } /* Keyword */\n",
       ".input_area .highlight .kc { color: #F0E68C; font-weight: bold } /* Keyword.Constant */\n",
       ".input_area .highlight .kd { color: #F0E68C; font-weight: bold } /* Keyword.Declaration */\n",
       ".input_area .highlight .kn { color: #F0E68C; font-weight: bold } /* Keyword.Namespace */\n",
       ".input_area .highlight .kp { color: #F0E68C; font-weight: bold } /* Keyword.Pseudo */\n",
       ".input_area .highlight .kr { color: #F0E68C; font-weight: bold } /* Keyword.Reserved */\n",
       ".input_area .highlight .kt { color: #F0E68C; font-weight: bold } /* Keyword.Type */\n",
       ".input_area .highlight .ow { color: #F0E68C; font-weight: bold } /* Operator.Word */\n",
       "\n",
       "/* VARIABLE */\n",
       ".input_area .highlight pre { color: #FFFFFF }\n",
       ".input_area .highlight .n { color: #FFFFFF } /* Name.Variable */\n",
       ".input_area .highlight .nv { color: #FFFFFF } /* Name.Variable */\n",
       ".input_area .highlight .na { color: #FFFFFF } /* Name.Attribute */\n",
       ".input_area .highlight .no { color: #FFFFFF } /* Name.Constant */\n",
       ".input_area .highlight .nl { color: #FFFFFF } /* Name.Label */\n",
       "\n",
       "/* FUNCTION */\n",
       ".input_area .highlight .nb { color: #BDB76B } /* Name.Builtin */\n",
       ".input_area .highlight .nf { color: #BDB76B } /* Name.Function */\n",
       ".input_area .highlight .vc { color: #BDB76B } /* Name.Variable.Class */\n",
       ".input_area .highlight .vg { color: #BDB76B } /* Name.Variable.Global */\n",
       ".input_area .highlight .vi { color: #BDB76B } /* Name.Variable.Instance */\n",
       ".input_area .highlight .nc { color: #BDB76B } /* Name.Class */\n",
       ".input_area .highlight .ni { color: #BDB76B } /* Name.Entity */\n",
       ".input_area .highlight .ne { color: #BDB76B } /* Name.Exception */\n",
       ".input_area .highlight .nn { color: #BDB76B } /* Name.Namespace */\n",
       ".input_area .highlight .nt { color: #BDB76B } /* Name.Tag */\n",
       "\n",
       "\n",
       "\n",
       "/* OPERATOR */\n",
       ".input_area .highlight .o { color: #FFFFFF; font-weight:bold } /* Operator */\n",
       ".input_area .highlight .p { color: #FFFFFF; font-weight:bold } /* Operator */\n",
       "\n",
       "\n",
       "/* DECORATOR */\n",
       ".input_area .highlight .nd { color: #BDB76B } /* Name.Decorator */\n",
       "\n",
       "\n",
       "/* COMMENT */\n",
       ".input_area .highlight .c { color: #87CEEB; font-style: italic } /* Comment */\n",
       ".input_area .highlight .cm { color: #87CEEB; font-style: italic } /* Comment.Multiline */\n",
       ".input_area .highlight .cp { color: #87CEEB; } /* Comment.Preproc */\n",
       ".input_area .highlight .c1 { color: #87CEEB; font-style: italic } /* Comment.Single */\n",
       ".input_area .highlight .cs { color: #87CEEB; font-style: italic } /* Comment.Special */\n",
       "\n",
       "\n",
       "/* NUMBER */\n",
       ".input_area .highlight .mb { color: #98FB98 } /* Literal.Number.Bin */\n",
       ".input_area .highlight .mf { color: #98FB98 } /* Literal.Number.Float */\n",
       ".input_area .highlight .mh { color: #98FB98 } /* Literal.Number.Hex */\n",
       ".input_area .highlight .mi { color: #98FB98 } /* Literal.Number.Integer */\n",
       ".input_area .highlight .mo { color: #98FB98 } /* Literal.Number.Oct */\n",
       ".input_area .highlight .m { color: #98FB98 } /* Literal.Number */\n",
       ".input_area .highlight .il { color: #98FB98 } /* Literal.Number.Integer.Long */\n",
       "\n",
       "/* STRING */\n",
       ".input_area .highlight .s { color: #FFA0A0 } /* Literal.String */\n",
       ".input_area .highlight .w { color: #FFA0A0 } /* Text.Whitespace */\n",
       ".input_area .highlight .sb { color: #FFA0A0 } /* Literal.String.Backtick */\n",
       ".input_area .highlight .sc { color: #FFA0A0 } /* Literal.String.Char */\n",
       ".input_area .highlight .sd { color: #FFA0A0; font-style: italic } /* Literal.String.Doc */\n",
       ".input_area .highlight .s2 { color: #FFA0A0 } /* Literal.String.Double */\n",
       ".input_area .highlight .se { color: #FFA0A0; font-weight: bold } /* Literal.String.Escape */\n",
       ".input_area .highlight .sh { color: #FFA0A0 } /* Literal.String.Heredoc */\n",
       ".input_area .highlight .si { color: #FFA0A0; font-weight: bold } /* Literal.String.Interpol */\n",
       ".input_area .highlight .sx { color: #FFA0A0 } /* Literal.String.Other */\n",
       ".input_area .highlight .sr { color: #FFA0A0 } /* Literal.String.Regex */\n",
       ".input_area .highlight .s1 { color: #FFA0A0 } /* Literal.String.Single */\n",
       ".input_area .highlight .ss { color: #FFA0A0 } /* Literal.String.Symbol */\n",
       "\n",
       "\n",
       "\n",
       "/********************************************************************************/\n",
       "/********************************************************************************/\n",
       "\n",
       "/* JUPYTER */\n",
       "\n",
       "/* FONT_EDIT */\n",
       ".cm-s-default span { font-size:16px; line-height:120% }\n",
       "\n",
       "/* BACKGROUND_EDIT */\n",
       "div .cm-s-default { background-color: #888888;}\n",
       "\n",
       "/* CURSOR */\n",
       ".input_area .CodeMirror div.CodeMirror-cursor { border-left: 5px solid #FFFFFF; }\n",
       ".input_area .CodeMirror div.CodeMirror-secondarycursor { border-left: 5px solid #FFFFFF;}\n",
       ".input_area .CodeMirror.cm-fat-cursor div.CodeMirror-cursor { background: #FFFFFF;}\n",
       ".input_area .cm-animate-fat-cursor { background-color: #FFFFFF; }\n",
       "\n",
       "/* BUILTIN */\n",
       ".input_area .cm-s-ipython span.cm-builtin { color: #CD5C5C } \n",
       ".input_area .cm-s-ipython span.cm-variable-2 { color: #CD5C5C } \n",
       ".input_area .cm-s-ipython span.cm-variable-3 { color: #CD5C5C } \n",
       "\n",
       "/* KEYWORD */\n",
       ".input_area .cm-s-ipython span.cm-keyword { color: #F0E68C; font-weight:700 } \n",
       "\n",
       "/* VARIABLE */\n",
       ".input_area span.cm-variable { color: #FFFFFF } \n",
       ".input_area span.cm-def { color: #FFFFFF } \n",
       "\n",
       "\n",
       "/* OPERATOR */\n",
       ".input_area .cm-s-ipython span.cm-operator { color: #FFFFFF; font-weight:700 } \n",
       ".input_area .cm-s-ipython span { color: #FFFFFF; font-weight:700 } \n",
       "\n",
       "/* DECORATOR */\n",
       ".input_area .cm-s-ipython span.cm-meta { color: #BDB76B } \n",
       "\n",
       "/* COMMENT */\n",
       ".input_area .cm-s-ipython span.cm-comment { color:#87CEEB; font-style:italic } \n",
       "\n",
       "/* NUMBER */\n",
       ".input_area .cm-s-ipython span.cm-number { color: #98FB98 } \n",
       "\n",
       "/* STRING */\n",
       ".input_area .cm-s-ipython span.cm-string { color: #FFA0A0 } \n",
       ".input_area .cm-s-ipython span.cm-string-2 { color: #FFA0A0 } \n",
       "\n",
       "</style><script> \n",
       "// Converts integer to roman numeral\n",
       "function romanize(num) {\n",
       "    var lookup = {M:1000,CM:900,D:500,CD:400,C:100,XC:90,L:50,XL:40,X:10,IX:9,V:5,IV:4,I:1},\n",
       "    roman = '',\n",
       "    i;\n",
       "    for ( i in lookup ) {\n",
       "        while ( num >= lookup[i] ) {\n",
       "            roman += i;\n",
       "            num -= lookup[i];\n",
       "        }\n",
       "    }\n",
       "    return roman;\n",
       "}\n",
       "\n",
       "// Builds a <ul> Table of Contents from all <headers> in DOM\n",
       "function createTOC(){\n",
       "    var toc = \"\";\n",
       "    var level = 0;\n",
       "    var levels = {}\n",
       "    $('#toc').html('');\n",
       "\n",
       "    $(\":header\").each(function(i){\n",
       "        if (this.id=='tocheading'){return;}\n",
       "\n",
       "        titleText = this.innerHTML;\n",
       "        openLevel = this.tagName[1];\n",
       "        if(openLevel>1) {\n",
       "            openLevel-=1\n",
       "\n",
       "        if (levels[openLevel]){\n",
       "            levels[openLevel] += 1;\n",
       "        } else{\n",
       "            levels[openLevel] = 1;\n",
       "        }\n",
       "\n",
       "        if (openLevel > level) {\n",
       "            toc += (new Array(openLevel - level + 1)).join('<ol type=\"1\" class=\"toc\">');\n",
       "        } else if (openLevel < level) {\n",
       "            toc += (new Array(level - openLevel + 1)).join(\"</ol>\");\n",
       "            for (i=level;i>openLevel;i--){levels[i]=0;}\n",
       "        }\n",
       "\n",
       "        level = parseInt(openLevel);\n",
       "\n",
       "\n",
       "        if (this.id==''){this.id = this.innerHTML.replace(/ /g,\"-\")}\n",
       "        var anchor = this.id;\n",
       "\n",
       "        toc += '<li><a href=\"#' + anchor + '\">' + titleText\n",
       "        + '</a></li>';\n",
       "    }\n",
       "\n",
       "    });\n",
       "\n",
       "\n",
       "    if (level) {\n",
       "        toc += (new Array(level + 1)).join(\"</ol>\");\n",
       "    }\n",
       "\n",
       "\n",
       "    $('#toc').append(toc);\n",
       "\n",
       "};\n",
       "\n",
       "// Executes the createToc function\n",
       "setTimeout(function(){createTOC();},100);\n",
       "\n",
       "// Rebuild to TOC every minute\n",
       "setInterval(function(){createTOC();},60000);\n",
       "</script>\n",
       "\n"
      ],
      "text/plain": [
       "<IPython.core.display.HTML object>"
      ]
     },
     "execution_count": 11,
     "metadata": {},
     "output_type": "execute_result"
    }
   ],
   "source": [
    "from IPython.core.display import HTML\n",
    "def css_styling():\n",
    "    styles = open(\"../style/ipybn.css\", \"r\").read()\n",
    "    return HTML(styles)\n",
    "css_styling()"
   ]
  }
 ],
 "metadata": {
  "css": [
   ""
  ],
  "kernelspec": {
   "display_name": "Python 2",
   "language": "python",
   "name": "python2"
  },
  "language_info": {
   "codemirror_mode": {
    "name": "ipython",
    "version": 2
   },
   "file_extension": ".py",
   "mimetype": "text/x-python",
   "name": "python",
   "nbconvert_exporter": "python",
   "pygments_lexer": "ipython2",
   "version": "2.7.9"
  },
  "latex_envs": {
   "bibliofile": "biblio.bib",
   "cite_by": "apalike",
   "current_citInitial": 1,
   "eqLabelWithNumbers": true,
   "eqNumInitial": 0
  }
 },
 "nbformat": 4,
 "nbformat_minor": 0
}
