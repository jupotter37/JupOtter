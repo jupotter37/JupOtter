{
 "cells": [
  {
   "cell_type": "markdown",
   "metadata": {
    "slideshow": {
     "slide_type": "slide"
    }
   },
   "source": [
    "\n",
    "***\n",
    "***\n",
    "# 数据抓取\n",
    "   > # 使用Selenium操纵浏览器\n",
    "\n",
    "***\n",
    "***\n",
    "\n",
    "王成军 \n",
    "\n",
    "wangchengjun@nju.edu.cn\n",
    "\n",
    "计算传播网 http://computational-communication.com\n",
    "\n"
   ]
  },
  {
   "cell_type": "markdown",
   "metadata": {
    "slideshow": {
     "slide_type": "subslide"
    }
   },
   "source": [
    "Selenium 是一套完整的web应用程序测试系统，包含了\n",
    "- 测试的录制（selenium IDE）\n",
    "- 编写及运行（Selenium Remote Control）\n",
    "- 测试的并行处理（Selenium Grid）。\n",
    "\n",
    "Selenium的核心Selenium Core基于JsUnit，完全由JavaScript编写，因此可以用于任何支持JavaScript的浏览器上。selenium可以模拟真实浏览器，自动化测试工具，支持多种浏览器，爬虫中主要用来解决JavaScript渲染问题。https://www.cnblogs.com/zhaof/p/6953241.html"
   ]
  },
  {
   "cell_type": "markdown",
   "metadata": {},
   "source": [
    "上面我们知道了selenium支持很多的浏览器，但是如果想要声明并调用浏览器则需要：\n",
    "https://pypi.org/project/selenium/"
   ]
  },
  {
   "cell_type": "code",
   "execution_count": 3,
   "metadata": {
    "ExecuteTime": {
     "end_time": "2019-10-17T00:57:02.726390Z",
     "start_time": "2019-10-17T00:56:56.947418Z"
    }
   },
   "outputs": [
    {
     "name": "stdout",
     "output_type": "stream",
     "text": [
      "Collecting selenium\n",
      "\u001b[?25l  Downloading https://files.pythonhosted.org/packages/80/d6/4294f0b4bce4de0abf13e17190289f9d0613b0a44e5dd6a7f5ca98459853/selenium-3.141.0-py2.py3-none-any.whl (904kB)\n",
      "\u001b[K    100% |████████████████████████████████| 911kB 9.3MB/s ta 0:00:011\n",
      "\u001b[?25hRequirement already satisfied: urllib3 in /Users/datalab/anaconda3/lib/python3.7/site-packages (from selenium) (1.24.1)\n",
      "Installing collected packages: selenium\n",
      "Successfully installed selenium-3.141.0\n"
     ]
    }
   ],
   "source": [
    "!pip install selenium"
   ]
  },
  {
   "cell_type": "markdown",
   "metadata": {
    "slideshow": {
     "slide_type": "subslide"
    }
   },
   "source": [
    "### Webdriver\n",
    "- 主要用的是selenium的Webdriver\n",
    "- 我们可以通过下面的方式先看看Selenium.Webdriver支持哪些浏览器\n",
    "\n"
   ]
  },
  {
   "cell_type": "code",
   "execution_count": 4,
   "metadata": {
    "ExecuteTime": {
     "end_time": "2019-10-17T00:57:07.111400Z",
     "start_time": "2019-10-17T00:57:07.067485Z"
    },
    "slideshow": {
     "slide_type": "fragment"
    }
   },
   "outputs": [],
   "source": [
    "from selenium import webdriver"
   ]
  },
  {
   "cell_type": "code",
   "execution_count": 5,
   "metadata": {
    "ExecuteTime": {
     "end_time": "2019-10-17T00:57:10.624675Z",
     "start_time": "2019-10-17T00:57:10.619107Z"
    },
    "slideshow": {
     "slide_type": "subslide"
    }
   },
   "outputs": [
    {
     "name": "stdout",
     "output_type": "stream",
     "text": [
      "Help on package selenium.webdriver in selenium:\n",
      "\n",
      "NAME\n",
      "    selenium.webdriver\n",
      "\n",
      "DESCRIPTION\n",
      "    # Licensed to the Software Freedom Conservancy (SFC) under one\n",
      "    # or more contributor license agreements.  See the NOTICE file\n",
      "    # distributed with this work for additional information\n",
      "    # regarding copyright ownership.  The SFC licenses this file\n",
      "    # to you under the Apache License, Version 2.0 (the\n",
      "    # \"License\"); you may not use this file except in compliance\n",
      "    # with the License.  You may obtain a copy of the License at\n",
      "    #\n",
      "    #   http://www.apache.org/licenses/LICENSE-2.0\n",
      "    #\n",
      "    # Unless required by applicable law or agreed to in writing,\n",
      "    # software distributed under the License is distributed on an\n",
      "    # \"AS IS\" BASIS, WITHOUT WARRANTIES OR CONDITIONS OF ANY\n",
      "    # KIND, either express or implied.  See the License for the\n",
      "    # specific language governing permissions and limitations\n",
      "    # under the License.\n",
      "\n",
      "PACKAGE CONTENTS\n",
      "    android (package)\n",
      "    blackberry (package)\n",
      "    chrome (package)\n",
      "    common (package)\n",
      "    edge (package)\n",
      "    firefox (package)\n",
      "    ie (package)\n",
      "    opera (package)\n",
      "    phantomjs (package)\n",
      "    remote (package)\n",
      "    safari (package)\n",
      "    support (package)\n",
      "    webkitgtk (package)\n",
      "\n",
      "VERSION\n",
      "    3.14.1\n",
      "\n",
      "FILE\n",
      "    /Users/datalab/anaconda3/lib/python3.7/site-packages/selenium/webdriver/__init__.py\n",
      "\n",
      "\n"
     ]
    }
   ],
   "source": [
    "help(webdriver) "
   ]
  },
  {
   "attachments": {},
   "cell_type": "markdown",
   "metadata": {
    "slideshow": {
     "slide_type": "subslide"
    }
   },
   "source": [
    "### 下载和设置Webdriver\n",
    "\n",
    "对于Chrome需要的webdriver下载地址\n",
    "\n",
    "http://chromedriver.storage.googleapis.com/index.html\n",
    "\n",
    "需要将webdriver放在系统路径下：\n",
    "- 确保anaconda在系统路径名里\n",
    "- 把下载的webdriver 放在`Anaconda的bin文件夹`下"
   ]
  },
  {
   "cell_type": "markdown",
   "metadata": {
    "slideshow": {
     "slide_type": "subslide"
    }
   },
   "source": [
    "### PhantomJS\n",
    "\n",
    "PhantomJS是一个而基于WebKit的服务端JavaScript API,支持Web而不需要浏览器支持，其快速、原生支持各种Web标准：Dom处理，CSS选择器，JSON等等。PhantomJS可以用用于页面自动化、网络监测、网页截屏，以及无界面测试"
   ]
  },
  {
   "cell_type": "code",
   "execution_count": 6,
   "metadata": {
    "ExecuteTime": {
     "end_time": "2019-10-17T00:57:17.147546Z",
     "start_time": "2019-10-17T00:57:14.749313Z"
    },
    "slideshow": {
     "slide_type": "fragment"
    }
   },
   "outputs": [],
   "source": [
    "#browser = webdriver.Firefox() # 打开Firefox浏览器\n",
    "browser = webdriver.Chrome() # 打开Chrome浏览器"
   ]
  },
  {
   "cell_type": "markdown",
   "metadata": {
    "slideshow": {
     "slide_type": "slide"
    }
   },
   "source": [
    "# 访问页面"
   ]
  },
  {
   "cell_type": "code",
   "execution_count": 19,
   "metadata": {
    "ExecuteTime": {
     "end_time": "2019-10-17T03:39:01.788430Z",
     "start_time": "2019-10-17T03:38:58.474675Z"
    },
    "slideshow": {
     "slide_type": "subslide"
    }
   },
   "outputs": [
    {
     "name": "stdout",
     "output_type": "stream",
     "text": [
      "<!DOCTYPE html><html xmlns=\"http://www.w3.org/1999/xhtml\"><head>\n",
      "<meta charset=\"utf-8\" />\n",
      "<meta name=\"baidu_ssp_verify\" content=\"39f14c78c537175eb4b5192c72d002c1\" />\n",
      "<meta name=\"baidu-site-verification\" content=\"cNhJHKEzsD\" />\n",
      "<meta name=\"360-site-verification\" content=\"e37aef53e3922913e2a6a4682e479b84\" />\n",
      "<meta name=\"sogou_site_verification\" content=\"7zFjYjJaMq\" />\n",
      "<meta name=\"msvalidate.01\" content=\"0CA3171633345524D8CBED5E95C75FFF\" />\n",
      "<meta name=\"google-site-verification\" content=\"rh2irYN2Lu028orAseOD3aXd5u7Eu1mqTfhoVaw2Ihg\" />\n",
      "<meta name=\"shenma-site-verification\" content=\"12da4afc02bfe908ed0667f287167d11_1555581349\" />\n",
      "<meta property=\"qc:admins\" content=\"27354635321361636375\" />\n",
      "<link rel=\"canonical\" href=\"https://music.163.com/\" />\n",
      "<meta name=\"applicable-device\" content=\"pc,mobile\" />\n",
      "<title>网易云音乐</title>\n",
      "<meta name=\"keywords\" content=\"网易云音乐，音乐，播放器，网易，下载，播放，DJ，免费，明星，精选，歌单，识别音乐，收藏，分享音乐，音乐互动，高音质，320K，音乐社交，官网，music.163.com\" />\n",
      "<meta name=\"description\" content=\"网易云音乐是一款专注于发现与分享的音乐产品，依托专业音乐人、DJ、好友推荐及社交功能，为用户打造全新的音乐生活。\" />\n",
      "<meta property=\"og:title\" content=\"网易云音乐\" />\n",
      "<meta property=\"og:type\" content=\"website\" />\n",
      "<meta property=\"og:image\" content=\"http://p3.music.126.net/tBTNafgjNnTL1KlZMt7lVA==/18885211718935735.jpg\" />\n",
      "<meta property=\"og:url\" content=\"https://music.163.com/\" />\n",
      "<meta property=\"og:site_name\" content=\"网易云音乐\" />\n",
      "<script type=\"text/javascript\">\n",
      "var GDownloadLink=\"\";\n",
      "var GDevice = \"phone\";\n",
      "var GFrom=\"\";\n",
      "var GClient=\"\";\n",
      "var GPlatform=\"other\";\n",
      "var GRef = '';\n",
      "var GInApp = false;\n",
      "var GMobile = false;\n",
      "var GAbroad = false;\n",
      "var GUser={};\n",
      "var GAllowRejectComment = false;\n",
      "var GEnc = true;\n",
      "var GEnvType = \"online\";\n",
      "var GWebpSupport = \"1\";\n",
      "var vipWebCashierRedirect = \"1\"\n",
      "window.NEJ_CONF = {p_csrf:{cookie:'__csrf',param:'csrf_token'}};\n",
      "GUtil = {\n",
      "getBase:function(){\n",
      "return location.protocol+'//'+location.hostname;\n",
      "},\n",
      "getPathAndHash:function(_url){//获取URL path 之后的所有内容,并将/#/替换成/m/使之成为path的一部分\n",
      "if(!_url) return '';\n",
      "var _reg0 = /^https?:\\/\\/.*?\\//i,\n",
      "_reg1 = /\\/?#\\/?/i;\n",
      "return _url.replace(_reg0,'/').replace(_reg1,'/m/');\n",
      "},\n",
      "composeRefer:function(_url,_ref){//对所有的页面请求都加上ref参数表示被嵌套的来源\n",
      "if(!_ref) return _url;\n",
      "var _hi = _url.indexOf('#'),\n",
      "_si = _url.indexOf('?');\n",
      "if(_si&gt;0&amp;&amp;(_si&lt;_hi||_hi&lt;0)){\n",
      "return _url.substring(0,_si+1)+'ref='+_ref+'&amp;'+_url.substring(_si+1);\n",
      "}else if(_hi&gt;0&amp;&amp;(_si&lt;0||_si&gt;_hi)){\n",
      "return _url.substring(0,_hi)+'?ref='+_ref+_url.substring(_hi);\n",
      "}else{\n",
      "return _url+'?ref='+_ref;\n",
      "}\n",
      "}\n",
      "};(function(){\n",
      "var _ua = window.navigator.userAgent,\n",
      "_isMobile = /(mobile|mobi|wap|iphone)/i.test(_ua),\n",
      "_isAndroid = /android/i.test(_ua),\n",
      "_isIpad = /(ipad)/i.test(_ua),\n",
      "_igList = [/^\\/xiami$/,/^\\/live$/],//不需要以单页面打开的列表，比如某些活动页面\n",
      "_pn = location.pathname,\n",
      "_idx = _pn.lastIndexOf('/'),\n",
      "_pReg = /\\s*(\\w+)\\s*=\\s*(\\d+)\\s*/,\n",
      "_redirect2mobile = function() {\n",
      "var _type,_murl,\n",
      "_id = 0,\n",
      "_hash = location.hash,\n",
      "_mReg = /^#\\/?m?\\/(share|song|playlist|djradio|dj|program|album|mv|artist|topic|radio|zysf|drqp|qp|activity|store|user|event|video|discover\\/toplist)(\\/(\\d+))?/,\n",
      "_base = location.protocol+'//'+location.hostname,\n",
      "_sindex = _hash.lastIndexOf('?'),\n",
      "_search = _sindex&gt;-1?_hash.substring(_sindex+1):'',\n",
      "_match = _mReg.exec(_hash);\n",
      "// 用户等级页特殊处理\n",
      "if (_hash === '#/user/level') {\n",
      "location.href = _base + '/store/m/gain/mylevel';\n",
      "return;\n",
      "}\n",
      "// 无hash || 不匹配 || 匹配但是商品之外不带参数 || 匹配且是排行榜\n",
      "if (!_hash.length || !_match || (_match[1] != 'store' &amp;&amp; !_search) || /share|discover\\/toplist/.test(_match[1])) {\n",
      "// 有hash &amp;&amp; (没有参数 || 排行榜)\n",
      "if ((!_search || /share|discover\\/toplist/.test(_match[1])) &amp;&amp; _hash.length) {\n",
      "location.href = _base + '/' + _hash.replace('#', 'm');\n",
      "} else {\n",
      "location.href = _base + '/m/';\n",
      "}\n",
      "return;\n",
      "}\n",
      "_type = _match[1];\n",
      "_id = _match[3];\n",
      "if (_type == 'dj') _type = 'program';\n",
      "if (_type == 'store') {\n",
      "_murl = /^#\\/store\\/(product|concert)\\/detail/.test(_hash) ? _hash.replace('#/store', '/store/m') : '/store/m/product/index';\n",
      "} else {\n",
      "_murl = '/' + _type + '?' + (_id ? 'id=' + _id + '&amp;' : '') + _search;\n",
      "}\n",
      "location.href = _base + _murl;\n",
      "};\n",
      "if(_isMobile || _isAndroid || _isIpad){\n",
      "_redirect2mobile();\n",
      "return;\n",
      "}\n",
      "if(!_pn||_pn=='/') return;\n",
      "for(var i in _igList){\n",
      "if(_igList[i].test(_pn)) return;\n",
      "}\n",
      "if(top==self){\n",
      "location.href = '/#'+GUtil.getPathAndHash(location.href);\n",
      "return;\n",
      "}\n",
      "//搜索引擎过来的内容页连接\n",
      "if(top==self&amp;&amp;/^\\/static\\/(song|playlist|album|artist)/i.test(_pn)){\n",
      "location.href = '/#'+_pn.substring(0,_idx).replace('/static/','/')+'?id='+_pn.substring(_idx+1);\n",
      "}\n",
      "})();\n",
      "(function(){\n",
      "var _addEvent = function(_node,_type,_cb){\n",
      "if(_node.addEventListener){\n",
      "_node.addEventListener(_type,_cb);\n",
      "}else if(_node.attachEvent){\n",
      "_node.attachEvent('on'+_type,_cb);\n",
      "}\n",
      "},\n",
      "_pathPrefixArray = [\n",
      "'/store/', // 商城\n",
      "'/m/at/', // 活动\n",
      "'/prime/m/', // 会员移动端页面\n",
      "'/oauth2/', // 授权\n",
      "'/m/oauth2/', // 授权\n",
      "'/octave/', // 新数字专辑\n",
      "'/v/', // 新数字专辑\n",
      "'/st/', // 静态页面\n",
      "'/nmusician/',// 音乐人\n",
      "'/nact/', // 新活动\n",
      "'/m/topic/', // 专栏移动端\n",
      "'/show/m/', //演出移动端\n",
      "],\n",
      "_isNotMainsitePagePath = function(_pagePath){\n",
      "// 对于非主站内的页面的跳转 需要排除\n",
      "var _path = (_pagePath||'').replace(/^https?:\\/\\/.*?\\//i, '/').split(/[?#]/)[0];\n",
      "for(var i=0;i&lt;_pathPrefixArray.length;i++){\n",
      "if(_path.indexOf(_pathPrefixArray[i])===0) return true;\n",
      "}\n",
      "return false;\n",
      "},\n",
      "_onAnchorClick = function(_event){//截获所有&lt;a&gt;标签的点击事件，自定义页面的跳转\n",
      "_event = _event||window.event;\n",
      "var _el = _event.target||_event.srcElement,\n",
      "_base = location.protocol+'//'+location.host;\n",
      "while(_el&amp;&amp;_el!=document){\n",
      "if(_el.tagName&amp;&amp;_el.tagName.toLowerCase()=='a'){\n",
      "//fix ie6下有时javascript:;不能阻止默认事件的bug.\n",
      "if(_el.href.indexOf('javascript:')&gt;=0){\n",
      "!!_event.preventDefault\n",
      "? _event.preventDefault()\n",
      ": _event.returnValue = !1;\n",
      "return;\n",
      "}\n",
      "if(_event.button==2) return;//ff 右键会触发click事件\n",
      "//商城有独立地顶栏了，排除掉。但会员、数字专辑、单曲的商品、订单页仍保持主站frame，\n",
      "//这些url往往是通过/vip2, /payfee这样的地址跳转的，也没有问题，如果真的有，URL用#配置就好了\n",
      "if(_isNotMainsitePagePath(_el.href)) return;\n",
      "//新窗口打开的链接、云音乐单页面形式的链接、站外的链接不做拦截处理。\n",
      "if(_el.target=='_blank'\n",
      "||_el.target=='blank'\n",
      "||_isNotSameHost(_el.href)\n",
      "||_el.href==_base\n",
      "||_el.href.indexOf(_base+'/#')&gt;=0) return;\n",
      "!!_event.preventDefault\n",
      "? _event.preventDefault()\n",
      ": _event.returnValue = !1;\n",
      "location.dispatch2(_el.href);\n",
      "break;\n",
      "}else{\n",
      "_el = _el.parentNode;\n",
      "}\n",
      "}\n",
      "},\n",
      "_isNotSameHost = function(_href){\n",
      "var _same = true;\n",
      "if(_href.charAt(0)!='/'){\n",
      "var _index = _href.indexOf('//'+location.hostname);\n",
      "if(_index &gt; 0){\n",
      "var _index2 = _href.indexOf('?');\n",
      "if(_index2 &gt; 0 &amp;&amp; _index2 &lt; _index){\n",
      "_same = false;\n",
      "}\n",
      "}else{\n",
      "_same = false;\n",
      "}\n",
      "}\n",
      "return !_same;\n",
      "};\n",
      "_addEvent(document,'click',_onAnchorClick);\n",
      "//扩展一个js中直接使用的页面跳转的方法，以拦截js中的页面跳转行为\n",
      "location.dispatch2 = function(_url,_replace){\n",
      "var delegate = false;\n",
      "try{\n",
      "delegate = !!top.GDispatcher;\n",
      "}catch(e){\n",
      "delegate = false;\n",
      "}\n",
      "// 处理对于非主站内的页面的跳转\n",
      "if(_isNotMainsitePagePath(_url)){\n",
      "if(delegate &amp;&amp; top.location &amp;&amp; top.location.href){\n",
      "top.location.href = _url;\n",
      "}else{\n",
      "location.href = _url;\n",
      "}\n",
      "return;\n",
      "}\n",
      "if(delegate){\n",
      "top.GDispatcher.dispatch(_url,_replace);\n",
      "}else{\n",
      "_url = GUtil.composeRefer(_url,GRef);\n",
      "//邮箱音乐盒中，每次链接的跳转都要将proxy.html的地址合并到hash中\n",
      "if(GRef&amp;&amp;GRef=='mail'){\n",
      "var _hindex,_sindex,\n",
      "_reg = /(https?:\\/\\/.+\\/proxy.html)/,\n",
      "_hreg = /#(.*?)$/,\n",
      "_href = decodeURIComponent(location.href);\n",
      "if(!_reg.test(decodeURIComponent(_url))&amp;&amp;_reg.test(_href)){\n",
      "_hindex = _url.indexOf('#');\n",
      "_sindex = _url.lastIndexOf('?');\n",
      "if(_hindex&gt;0){\n",
      "_url = _url+(_sindex&gt;_hindex?'&amp;':'?')+'proxy='+encodeURIComponent(RegExp.$1);\n",
      "}else{\n",
      "_url = _url+'#proxy='+encodeURIComponent(RegExp.$1);\n",
      "}\n",
      "}\n",
      "}\n",
      "if(_replace){\n",
      "location.replace(_url);\n",
      "}else{\n",
      "location.href = _url;\n",
      "}\n",
      "}\n",
      "};\n",
      "})();\n",
      "(function start() {\n",
      "var targetUrl = 'https://music.163.com';\n",
      "// 首先检测hash规则, 在白名单内才进行跳转\n",
      "var hashWhite = /^(\\/discover|\\/download|\\/login)/ig;\n",
      "// 如果当前域不是163域名，那么强制跳转到163.com\n",
      "var siteReg = /^(https?:\\/\\/)?([a-zA-Z0-9]+(-?[a-zA-Z0-9])*\\.){1,}?(163\\.com)$/ig;\n",
      "if(hashWhite.test(window.location.pathname) &amp;&amp; !siteReg.test(window.location.hostname)){\n",
      "top.location.href = targetUrl;\n",
      "}\n",
      "})();</script>\n",
      "<link rel=\"shortcut icon\" href=\"//s1.music.126.net/style/favicon.ico?v20180823\" />\n",
      "<link href=\"//s2.music.126.net/web/s/core_50ad2145ad526d20456118b24db986d7.css?50ad2145ad526d20456118b24db986d7\" type=\"text/css\" rel=\"stylesheet\" /><link href=\"//s2.music.126.net/web/s/pt_frame_48c8b54589cccecb9b345836a6e82767.css?48c8b54589cccecb9b345836a6e82767\" type=\"text/css\" rel=\"stylesheet\" />\n",
      "<style>html,body{overflow:hidden;}</style>\n",
      "<script>if(top!=self)top.location=self.location;</script>\n",
      "<script type=\"text/javascript\" src=\"//s5.music.126.net/static_public/5c51482cf8a93b7fc8cf42cb/0.6.0-beta1/vipcashier.umd.js\"></script><script type=\"text/javascript\" charset=\"UTF-8\" async=\"\" src=\"https://acstatic-dun.126.net/2.5.5_26766d7a/watchman.min.js\"></script><script type=\"text/javascript\" charset=\"UTF-8\" async=\"\" src=\"https://acstatic-dun.126.net/2.5.5_26766d7a/watchman.min.js\"></script></head>\n",
      "<body>\n",
      "<div id=\"g-topbar\" class=\"g-topbar\" style=\"width: 1200px; top: 0px;\">\n",
      "<div class=\"m-top\">\n",
      "<div class=\"wrap f-cb\">\n",
      "<h1 class=\"logo\"><a hidefocus=\"true\" href=\"/#\">网易云音乐</a></h1>\n",
      "<ul class=\"m-nav j-tflag\">\n",
      "<li class=\"fst\">\n",
      "<span><a hidefocus=\"true\" href=\"/#\" data-module=\"discover\" class=\"z-slt\"><em>发现音乐</em><sub class=\"cor\"> </sub></a></span>\n",
      "</li>\n",
      "<li>\n",
      "<span><a data-action=\"bilog\" data-log-action=\"page\" data-log-json=\"{&quot;type&quot;:&quot;my&quot;}\" hidefocus=\"true\" href=\"/my/\" data-module=\"my\"><em>我的音乐</em><sub class=\"cor\"> </sub></a></span>\n",
      "</li>\n",
      "<li>\n",
      "<span><a hidefocus=\"true\" href=\"/friend\" data-module=\"friend\"><em>朋友</em><sub class=\"cor\"> </sub><i class=\"dot j-t\" style=\"display:none;\"></i></a></span>\n",
      "</li>\n",
      "<li>\n",
      "<span><a hidefocus=\"true\" href=\"/store/product\" target=\"_blank\" data-module=\"store\"><em>商城</em></a></span>\n",
      "</li>\n",
      "<li>\n",
      "<span><a hidefocus=\"true\" href=\"/nmusician/web/recruit\" target=\"_blank\" data-module=\"musician\"><em>音乐人</em></a></span>\n",
      "</li>\n",
      "<li class=\"lst\">\n",
      "<span><a id=\"topbar-download-link\" data-action=\"bilog\" data-log-action=\"page\" data-log-json=\"{&quot;type&quot;:&quot;downloadapp&quot;,&quot;source&quot;:&quot;tab&quot;}\" hidefocus=\"true\" href=\"/download\" data-module=\"download\"><em>下载客户端</em><sub class=\"cor\"> </sub></a></span><sup class=\"hot\"> </sup>\n",
      "</li>\n",
      "</ul>\n",
      "<div class=\"m-tophead f-pr j-tflag\" id=\"auto-id-TAJ80gQuBk105lNT\"><a hidefocus=\"true\" href=\"#\" class=\"link s-fc3\" data-action=\"login\">登录</a>\n",
      "<div class=\"m-tlist j-uflag\" style=\"display:none;\">\n",
      "<div class=\"inner\">\n",
      "</div>\n",
      "<i class=\"arr\"></i>\n",
      "</div>\n",
      "</div>\n",
      "<a data-action=\"bilog\" data-log-action=\"click\" data-log-json=\"{&quot;target&quot;:&quot;uploadvideo&quot;,&quot;page&quot;:&quot;homepage&quot;}\" href=\"/login?targetUrl=%2Fst/creator\" target=\"_blank\" class=\"m-topvd f-pr m-creator-center\">创作者中心</a>\n",
      "<div class=\"m-srch f-pr j-suggest\" id=\"g_search\">\n",
      "<div class=\"srchbg\">\n",
      "<span class=\"parent\">\n",
      "<input type=\"text\" name=\"srch\" id=\"srch\" class=\"txt j-flag\" value=\"\" style=\"opacity: 1;\" />\n",
      "<label class=\"ph j-flag\" id=\"auto-id-urmKeZT09eNeWEmB\">音乐/视频/电台/用户</label>\n",
      "</span>\n",
      "</div>\n",
      "<div class=\"j-showoff u-showoff\"><p>现在支持搜索MV啦~</p></div>\n",
      "<span class=\"j-flag\" style=\"display:none;\" id=\"auto-id-EuiwIrNb4WA90NoG\"> </span>\n",
      "<div class=\"u-lstlay j-flag\" style=\"display:none;\" id=\"auto-id-MT1wJD6X0far5svk\"></div>\n",
      "</div>\n",
      "</div>\n",
      "</div>\n",
      "<div class=\"m-subnav m-subnav-up f-pr j-tflag f-hide\"></div>\n",
      "<div id=\"g_nav2\" class=\"m-subnav j-tflag\">\n",
      "<div class=\"wrap f-pr\">\n",
      "<ul class=\"nav\">\n",
      "<li><a hidefocus=\"true\" data-module=\"discover\" href=\"/discover\" class=\"z-slt\"><em>推荐</em></a></li>\n",
      "<li><a hidefocus=\"true\" data-module=\"toplist\" href=\"/discover/toplist\"><em>排行榜</em></a></li>\n",
      "<li><a hidefocus=\"true\" data-module=\"playlist\" href=\"/discover/playlist\"><em class=\"f-pr\" style=\"padding: 0 15px 0 11px;\">歌单<span class=\"f-pa f-r-white-icon\" style=\"display:inline-block;width:8px;height:8px;top:2px;background-size:cover;\"></span></em></a></li>\n",
      "<li><a hidefocus=\"true\" data-module=\"djradio\" href=\"/discover/djradio\"><em>主播电台</em></a></li>\n",
      "<li><a hidefocus=\"true\" data-module=\"artist\" href=\"/discover/artist\"><em>歌手</em></a></li>\n",
      "<li><a hidefocus=\"true\" data-module=\"album\" href=\"/discover/album\"><em>新碟上架</em></a></li>\n",
      "</ul>\n",
      "</div>\n",
      "</div>\n",
      "</div>\n",
      "<iframe name=\"contentFrame\" id=\"g_iframe\" class=\"g-iframe\" scrolling=\"auto\" frameborder=\"0\" src=\"about:blank\" allowfullscreen=\"true\"></iframe>\n",
      "<script type=\"text/javascript\">\n",
      "var GUserAcc={topic:1, reward:false};\n",
      "(function(){\n",
      "var topbar = document.getElementById('g-topbar'),\n",
      "scrollBarWidth = document.body.clientWidth - topbar.clientWidth;\n",
      "topbar.style.width = topbar.clientWidth+'px';\n",
      "topbar.className = 'g-topbar';\n",
      "if(window.addEventListener){\n",
      "window.addEventListener('resize', onResize)\n",
      "}else{\n",
      "window.attachEvent('onresize', onResize)\n",
      "}\n",
      "function onResize(){\n",
      "topbar.style.width = (document.body.clientWidth-scrollBarWidth)+'px';\n",
      "};\n",
      "})();/*!\n",
      "* Copyright (c) 2009-2011 Andreas Blixt &lt;andreas@blixt.org&gt;\n",
      "* Contributors: Aaron Ogle &lt;aogle@avencia.com&gt;,\n",
      "* Matti Virkkunen &lt;mvirkkunen@gmail.com&gt;,\n",
      "* Simon Chester &lt;simonches@gmail.com&gt;\n",
      "* http://github.com/blixt/js-hash\n",
      "* MIT License: http://www.opensource.org/licenses/mit-license.php\n",
      "*\n",
      "* Hash handler\n",
      "* Keeps track of the history of changes to the hash part in the address bar.\n",
      "*/\n",
      "/* WARNING for Internet Explorer 7 and below:\n",
      "* If an element on the page has the same ID as the hash used, the history will\n",
      "* get messed up.\n",
      "*\n",
      "* Does not support history in Safari 2 and below.\n",
      "*\n",
      "* Example:\n",
      "* function handler(newHash, initial) {\n",
      "* if (initial)\n",
      "* alert('Hash is \"' + newHash + '\"');\n",
      "* else\n",
      "* alert('Hash changed to \"' + newHash + '\"');\n",
      "* }\n",
      "* Hash.init(handler);\n",
      "* Hash.go('abc123');\n",
      "*\n",
      "*\n",
      "* Updated by Simon Chester (simonches@gmail.com) on 2011-05-16:\n",
      "* - Removed the need for blank.html and the iframe argument by creating the\n",
      "* iframe on initialization.\n",
      "*\n",
      "* Updated by Matti Virkkunen (mvirkkunen@gmail.com) on 2009-11-16:\n",
      "* - Added second argument to callback that indicates whether the callback is\n",
      "* due to initial state (true) or due to an actual change to the hash\n",
      "* (false).\n",
      "*\n",
      "* Updated by Aaron Ogle (aogle@avencia.com) on 2009-08-11:\n",
      "* - Fixed bug where Firefox automatically unescapes location.hash but no\n",
      "* other browsers do. Always get the hash by parsing location.href and\n",
      "* never use location.hash.\n",
      "*/\n",
      "var Hash = (function () {\n",
      "var\n",
      "// Import globals\n",
      "window = this,\n",
      "documentMode = document.documentMode,\n",
      "history = window.history,\n",
      "// Plugin variables\n",
      "callback, hash,\n",
      "// IE-specific\n",
      "iframe,\n",
      "getHash = function () {\n",
      "// Internet Explorer 6 (and possibly other browsers) extracts the query\n",
      "// string out of the location.hash property into the location.search\n",
      "// property, so we can't rely on it. The location.search property can't be\n",
      "// relied on either, since if the URL contains a real query string, that's\n",
      "// what it will be set to. The only way to get the whole hash is to parse\n",
      "// it from the location.href property.\n",
      "//\n",
      "// Another thing to note is that in Internet Explorer 6 and 7 (and possibly\n",
      "// other browsers), subsequent hashes are removed from the location.href\n",
      "// (and location.hash) property if the location.search property is set.\n",
      "//\n",
      "// Via Aaron: Firefox 3.5 (and below?) always unescape location.hash which\n",
      "// causes poll to fire the hashchange event twice on escaped hashes. This\n",
      "// is because the hash variable (escaped) will not match location.hash\n",
      "// (unescaped.) The only consistent option is to rely completely on\n",
      "// location.href.\n",
      "var index = window.location.href.indexOf('#');\n",
      "return (index == -1 ? '' : window.location.href.substr(index + 1));\n",
      "},\n",
      "// Used by all browsers except Internet Explorer 7 and below.\n",
      "poll = function () {\n",
      "var curHash = getHash();\n",
      "if (curHash != hash) {\n",
      "hash = curHash;\n",
      "callback(curHash, false);\n",
      "}\n",
      "},\n",
      "// From:\n",
      "// http://perfectionkills.com/detecting-event-support-without-browser-sniffing/\n",
      "isHashChangeSupported = function() {\n",
      "var eventName = 'onhashchange';\n",
      "var isSupported = (eventName in document.body);\n",
      "if (!isSupported) {\n",
      "document.body.setAttribute(eventName, 'return;');\n",
      "isSupported = typeof document.body[eventName] == 'function';\n",
      "}\n",
      "// documentMode logic from YUI to filter out IE8 Compat Mode (which\n",
      "// generates false positives).\n",
      "return isSupported &amp;&amp; (document.documentMode === undefined ||\n",
      "document.documentMode &gt; 7);\n",
      "},\n",
      "createIframe = function () {\n",
      "var tempEl = document.createElement();\n",
      "tempEl.innerHTML = '&lt;iframe src=\"javascript:void(0)\" tabindex=\"-1\" ' +\n",
      "'style=\"display: none;\"&gt;&lt;/iframe&gt;';\n",
      "var frame = tempEl.childNodes[0];\n",
      "document.body.appendChild(frame);\n",
      "return frame;\n",
      "},\n",
      "// Used to create a history entry with a value in the iframe.\n",
      "setIframe = function (newHash) {\n",
      "try {\n",
      "var doc = iframe.contentWindow.document;\n",
      "doc.open();\n",
      "doc.write('&lt;html&gt;&lt;body&gt;' + newHash + '&lt;/body&gt;&lt;/html&gt;');\n",
      "doc.close();\n",
      "hash = newHash;\n",
      "} catch (e) {\n",
      "setTimeout(function () { setIframe(newHash); }, 10);\n",
      "}\n",
      "},\n",
      "// Used by Internet Explorer 7 and below to set up an iframe that keeps track\n",
      "// of history changes.\n",
      "setUpIframe = function () {\n",
      "// Don't run until access to the body is allowed.\n",
      "try {\n",
      "iframe = createIframe();\n",
      "} catch (e) {\n",
      "setTimeout(setUpIframe, 10);\n",
      "return;\n",
      "}\n",
      "// Create a history entry for the initial state.\n",
      "setIframe(hash);\n",
      "var data = hash;\n",
      "setInterval(function () {\n",
      "var curData, curHash;\n",
      "try {\n",
      "curData = iframe.contentWindow.document.body.innerText;\n",
      "if (curData != data) {\n",
      "data = curData;\n",
      "window.location.hash = hash = curData;\n",
      "callback(curData, true);\n",
      "} else {\n",
      "curHash = getHash();\n",
      "if (curHash != hash) setIframe(curHash);\n",
      "}\n",
      "} catch (e) {\n",
      "}\n",
      "}, 50);\n",
      "};\n",
      "return {\n",
      "init: function (cb) {\n",
      "// init can only be called once.\n",
      "if (callback) return;\n",
      "callback = cb;\n",
      "// Keep track of the hash value.\n",
      "hash = getHash();\n",
      "cb(hash, true);\n",
      "if (isHashChangeSupported()) {\n",
      "if (window.addEventListener){\n",
      "window.addEventListener('hashchange', poll, false);\n",
      "} else if (window.attachEvent){\n",
      "window.attachEvent('onhashchange', poll);\n",
      "}\n",
      "} else {\n",
      "// Run specific code for Internet Explorer.\n",
      "if (window.ActiveXObject) {\n",
      "if (!documentMode || documentMode &lt; 8) {\n",
      "// Internet Explorer 5.5/6/7 need an iframe for history\n",
      "// support.\n",
      "setUpIframe();\n",
      "}\n",
      "} else {\n",
      "// Change Opera navigation mode to improve history support.\n",
      "if (history.navigationMode) {\n",
      "history.navigationMode = 'compatible';\n",
      "}\n",
      "setInterval(poll, 50);\n",
      "}\n",
      "}\n",
      "},\n",
      "go: function (newHash) {\n",
      "// Cancel if the new hash is the same as the current one, since there\n",
      "// is no cross-browser way to keep track of navigation to the exact\n",
      "// same hash multiple times in a row. A wrapper can handle this by\n",
      "// adding an incrementing counter to the end of the hash.\n",
      "if (newHash == hash) return;\n",
      "if (iframe) {\n",
      "setIframe(newHash);\n",
      "} else {\n",
      "window.location.hash = hash = newHash;\n",
      "callback(newHash, false);\n",
      "}\n",
      "}\n",
      "};\n",
      "})();var GDispatcher = (function(){\n",
      "var _lastPage = '',\n",
      "_igReg = /f=(.*?)/,\n",
      "_hReg = /\\/?#.*/,\n",
      "_xssReg = /(java|vb)script/,//xss注入\n",
      "_default = '/discover';\n",
      "function _isIE10plus(){\n",
      "var _ua = window.navigator.userAgent;\n",
      "return (/msie\\s+(.*?);/i.test(_ua)||/trident\\/.+rv:([\\d\\.]+)/i.test(_ua))&amp;&amp;(parseInt(RegExp.$1)&gt;=10);\n",
      "};\n",
      "function _onHashChange(_hash){\n",
      "var _url,\n",
      "_iframe = document.getElementById('g_iframe');\n",
      "if(!_hash||_igReg.test(_hash)||_xssReg.test(_hash)){//忽略统计来源的hash\n",
      "_url = _default;\n",
      "}else{\n",
      "if(_hash.indexOf('/') !== 0) {\n",
      "_hash = '/' + _hash;\n",
      "}\n",
      "_hash = _hash.replace(/\\/+/g, '/');//#29664 http://music.163.com/#// 会死循环\n",
      "var _midx = -1;\n",
      "if((_midx=_hash.indexOf('store/m/'))&gt;=0){\n",
      "_url = _hash.substring(0, _midx+8)+(_hash.substring(_midx+8).replace('/m/','/#/'));\n",
      "}else{\n",
      "_url = _hash.replace('/m/','/#/');\n",
      "// debugger;\n",
      "if(/^\\/member\\/?(\\?[\\s\\S]*)?$/.test(_url) &amp;&amp; typeof vipWebCashierRedirect !== 'undefined' &amp;&amp; '' + vipWebCashierRedirect === '1') {\n",
      "_url = _url.replace('/member','/prime/member');\n",
      "}\n",
      "}\n",
      "}\n",
      "if(_url.indexOf('http://')&lt;0){\n",
      "_url = location.protocol+'//'+location.hostname+_url;\n",
      "}\n",
      "//针对ie10+ location.replace的bug做特殊处理\n",
      "if(_isIE10plus()){\n",
      "if(_lastPage.replace(_hReg,'')==_url.replace(_hReg,'')){//只是hash的改变\n",
      "_iframe.contentWindow.location.replace(_url);\n",
      "} else{\n",
      "_iframe.parentNode.removeChild(_iframe);\n",
      "_iframe = document.createElement('iframe');\n",
      "_iframe.id = 'g_iframe';\n",
      "_iframe.src = 'about:blank';\n",
      "_iframe.className = 'g-iframe';\n",
      "_iframe.setAttribute('allowfullscreen', true);\n",
      "document.body.insertAdjacentElement('afterBegin',_iframe);\n",
      "_iframe.contentWindow.location.href = _url;\n",
      "}\n",
      "}else{\n",
      "_iframe.contentWindow.location.replace(_url);\n",
      "}\n",
      "_lastPage = _url;\n",
      "if(typeof window.onHashChange=='function'){\n",
      "window.onHashChange(_hash);\n",
      "}\n",
      "};\n",
      "Hash.init(_onHashChange);\n",
      "return {\n",
      "dispatch:function(_url,_replace){\n",
      "var _ph = GUtil.getPathAndHash(_url);\n",
      "if(!_ph) return;\n",
      "if(_replace){\n",
      "location.replace(GUtil.getBase()+'#'+_ph);\n",
      "}else{\n",
      "location.hash = _ph;\n",
      "}\n",
      "},\n",
      "refreshIFrame:function(_url){\n",
      "_onHashChange(_url);\n",
      "}\n",
      "};\n",
      "})();</script>\n",
      "<div class=\"g-btmbar\">\n",
      "<div class=\"m-playbar m-playbar-unlock\" style=\"top: -53px; visibility: visible;\" id=\"auto-id-8JF3ENN3VAFToxxh\">\n",
      "<div class=\"updn\">\n",
      "<div class=\"left f-fl\"><a href=\"javascript:;\" class=\"btn\" hidefocus=\"true\" data-action=\"lock\"></a></div>\n",
      "<div class=\"right f-fl\"></div>\n",
      "</div>\n",
      "<div class=\"bg\"></div>\n",
      "<div class=\"hand\" title=\"展开播放条\"></div>\n",
      "<div class=\"wrap\" id=\"g_player\" style=\"margin-left: -490px;\">\n",
      "<div class=\"btns\">\n",
      "<a href=\"javascript:;\" hidefocus=\"true\" data-action=\"prev\" class=\"prv\" title=\"上一首(ctrl+←)\">上一首</a>\n",
      "<a href=\"javascript:;\" hidefocus=\"true\" data-action=\"play\" class=\"ply j-flag\" title=\"播放/暂停(p)\">播放/暂停</a>\n",
      "<a href=\"javascript:;\" hidefocus=\"true\" data-action=\"next\" class=\"nxt\" title=\"下一首(ctrl+→)\">下一首</a>\n",
      "</div>\n",
      "<div class=\"head j-flag\"><img src=\"http://s4.music.126.net/style/web2/img/default/default_album.jpg\" /><a href=\"javascript:;\" hidefocus=\"true\" class=\"mask\"></a></div>\n",
      "<div class=\"play\">\n",
      "<div class=\"j-flag words\"></div>\n",
      "<div class=\"m-pbar\" data-action=\"noop\">\n",
      "<div class=\"barbg j-flag\" id=\"auto-id-XT3AmP2zq1lUqJcF\">\n",
      "<div class=\"rdy\" style=\"width:0%;\"></div>\n",
      "<div class=\"cur\" style=\"width:0%;\"><span class=\"btn f-tdn f-alpha\" id=\"auto-id-HsQavKpTMfk9nN00\"><i></i></span></div>\n",
      "</div>\n",
      "<span class=\"j-flag time\"><em>00:00</em> / 00:00</span>\n",
      "</div>\n",
      "</div>\n",
      "<div class=\"oper f-fl\">\n",
      "<a href=\"javascript:;\" hidefocus=\"true\" data-action=\"like\" class=\"icn icn-add j-flag\" title=\"收藏\">收藏</a>\n",
      "<a href=\"javascript:;\" hidefocus=\"true\" data-action=\"share\" class=\"icn icn-share\" title=\"分享\">分享</a>\n",
      "</div>\n",
      "<div class=\"ctrl f-fl f-pr j-flag\">\n",
      "<div class=\"m-vol\" style=\"visibility:hidden;\" id=\"auto-id-F3iGHU1MamHcdwZt\">\n",
      "<div class=\"barbg\"></div>\n",
      "<div class=\"vbg j-t\" id=\"auto-id-8QOlkbDIX70QxLCA\"><div class=\"curr j-t\" style=\"height: 74.4px;\"></div>\n",
      "<span class=\"btn f-alpha j-t\" style=\"top: 16.2px;\"></span></div>\n",
      "</div>\n",
      "<a href=\"javascript:;\" hidefocus=\"true\" data-action=\"volume\" class=\"icn icn-vol\"></a>\n",
      "<a href=\"javascript:;\" hidefocus=\"true\" data-action=\"mode\" class=\"icn icn-loop\" title=\"循环\"></a>\n",
      "<span class=\"add f-pr\">\n",
      "<span class=\"tip\" style=\"display:none;\">已添加到播放列表</span>\n",
      "<a href=\"javascript:;\" title=\"播放列表\" hidefocus=\"true\" data-action=\"panel\" class=\"icn icn-list s-fc3\">0</a>\n",
      "</span>\n",
      "<div class=\"tip tip-1\" style=\"display:none;\">循环</div>\n",
      "</div>\n",
      "</div>\n",
      "</div>\n",
      "</div>\n",
      "\n",
      "<script src=\"//s3.music.126.net/web/s/core_b0a178a6096b06b7ede4786484719e64.js?b0a178a6096b06b7ede4786484719e64\" type=\"text/javascript\"></script><iframe frameborder=\"0\" id=\"auto-id-SCGcud22FsyTJrOJ\" style=\"display: none;\" src=\"about:blank\"></iframe><script type=\"text/javascript\" src=\"https://acstatic-dun.126.net/tool.min.js\"></script><script src=\"//s3.music.126.net/web/s/pt_frame_index_72027f888ebe95226812e45a754a3fad.js?72027f888ebe95226812e45a754a3fad\" type=\"text/javascript\"></script><script type=\"text/javascript\" src=\"https://acstatic-dun.126.net/tool.min.js\"></script>\n",
      "\n",
      "<script type=\"text/javascript\">\n",
      "var _gaq=_gaq||[];\n",
      "_gaq.push(['_setAccount','UA-38766552-1'],['_setLocalGifPath','/UA-38766552-1/__utm.gif'],['_setLocalRemoteServerMode']);\n",
      "_gaq.push(['_trackPageview']);\n",
      "//fix ipad下的一个bug\n",
      "if (navigator.userAgent.indexOf('iPad') != -1) {\n",
      "iframeHeight = Math.max(\n",
      "Math.max(document.body.scrollHeight, document.documentElement.scrollHeight),\n",
      "Math.max(document.body.offsetHeight, document.documentElement.offsetHeight),\n",
      "Math.max(document.body.clientHeight, document.documentElement.clientHeight)\n",
      ");\n",
      "top.document.body.style.height = iframeHeight + 20 + 'px';\n",
      "}</script>\n",
      "<div><div></div></div></body></html>\n"
     ]
    }
   ],
   "source": [
    "from selenium import webdriver\n",
    "\n",
    "browser = webdriver.Chrome()\n",
    " \n",
    "browser.get(\"http://music.163.com\") \n",
    "print(browser.page_source)\n",
    "#browser.close() "
   ]
  },
  {
   "cell_type": "markdown",
   "metadata": {
    "slideshow": {
     "slide_type": "slide"
    }
   },
   "source": [
    "# 查找元素\n",
    "单个元素查找"
   ]
  },
  {
   "cell_type": "code",
   "execution_count": 20,
   "metadata": {
    "ExecuteTime": {
     "end_time": "2019-10-17T03:39:32.451564Z",
     "start_time": "2019-10-17T03:39:28.999764Z"
    },
    "slideshow": {
     "slide_type": "subslide"
    }
   },
   "outputs": [
    {
     "name": "stdout",
     "output_type": "stream",
     "text": [
      "<selenium.webdriver.remote.webelement.WebElement (session=\"c3cc1a9b94f4916ca4876894a7181c24\", element=\"0.058239897806812824-1\")>\n",
      "<selenium.webdriver.remote.webelement.WebElement (session=\"c3cc1a9b94f4916ca4876894a7181c24\", element=\"0.058239897806812824-1\")>\n",
      "<selenium.webdriver.remote.webelement.WebElement (session=\"c3cc1a9b94f4916ca4876894a7181c24\", element=\"0.058239897806812824-1\")>\n"
     ]
    }
   ],
   "source": [
    "from selenium import webdriver\n",
    "\n",
    "browser = webdriver.Chrome()\n",
    "\n",
    "browser.get(\"http://music.163.com\")\n",
    "input_first = browser.find_element_by_id(\"g_search\")\n",
    "input_second = browser.find_element_by_css_selector(\"#g_search\")\n",
    "input_third = browser.find_element_by_xpath('//*[@id=\"g_search\"]')\n",
    "print(input_first)\n",
    "print(input_second)\n",
    "print(input_third)"
   ]
  },
  {
   "cell_type": "markdown",
   "metadata": {
    "slideshow": {
     "slide_type": "fragment"
    }
   },
   "source": [
    "这里我们通过三种不同的方式去获取响应的元素，第一种是通过id的方式，第二个中是CSS选择器，第三种是xpath选择器，结果都是相同的。\n"
   ]
  },
  {
   "cell_type": "markdown",
   "metadata": {
    "slideshow": {
     "slide_type": "subslide"
    }
   },
   "source": [
    "## 常用的查找元素方法：\n",
    "\n",
    "- find_element_by_name\n",
    "- find_element_by_id\n",
    "- find_element_by_xpath\n",
    "- find_element_by_link_text\n",
    "- find_element_by_partial_link_text\n",
    "- find_element_by_tag_name\n",
    "- find_element_by_class_name\n",
    "- find_element_by_css_selector"
   ]
  },
  {
   "cell_type": "code",
   "execution_count": 22,
   "metadata": {
    "ExecuteTime": {
     "end_time": "2019-10-17T03:40:12.762331Z",
     "start_time": "2019-10-17T03:40:12.759968Z"
    },
    "slideshow": {
     "slide_type": "subslide"
    }
   },
   "outputs": [],
   "source": [
    "# 下面这种方式是比较通用的一种方式：这里需要记住By模块所以需要导入\n",
    "from selenium.webdriver.common.by import By"
   ]
  },
  {
   "cell_type": "code",
   "execution_count": 23,
   "metadata": {
    "ExecuteTime": {
     "end_time": "2019-10-17T03:40:18.546410Z",
     "start_time": "2019-10-17T03:40:14.277771Z"
    },
    "slideshow": {
     "slide_type": "fragment"
    }
   },
   "outputs": [
    {
     "name": "stdout",
     "output_type": "stream",
     "text": [
      "<selenium.webdriver.remote.webelement.WebElement (session=\"804f73390e4b2b1f3d258d3c64cfcdf6\", element=\"0.8756856460866715-1\")>\n"
     ]
    }
   ],
   "source": [
    "browser = webdriver.Chrome()\n",
    "browser.get(\"http://music.163.com\")\n",
    "input_first = browser.find_element(By.ID,\"g_search\")\n",
    "print(input_first)\n",
    "browser.close()"
   ]
  },
  {
   "cell_type": "markdown",
   "metadata": {
    "slideshow": {
     "slide_type": "subslide"
    }
   },
   "source": [
    "## 多个元素查找\n",
    "\n",
    "其实多个元素和单个元素的区别，举个例子：find_elements,单个元素是find_element,其他使用上没什么区别，通过其中的一个例子演示："
   ]
  },
  {
   "cell_type": "code",
   "execution_count": 24,
   "metadata": {
    "ExecuteTime": {
     "end_time": "2019-10-17T03:40:36.622392Z",
     "start_time": "2019-10-17T03:40:32.247072Z"
    }
   },
   "outputs": [
    {
     "name": "stdout",
     "output_type": "stream",
     "text": [
      "[<selenium.webdriver.remote.webelement.WebElement (session=\"16c18e686f0c8bf5cc368774e0dfbf4e\", element=\"0.356934675169573-1\")>]\n"
     ]
    }
   ],
   "source": [
    "browser = webdriver.Chrome()\n",
    "browser.get(\"http://music.163.com\")\n",
    "lis = browser.find_elements_by_css_selector('body')\n",
    "print(lis)\n",
    "browser.close() "
   ]
  },
  {
   "cell_type": "markdown",
   "metadata": {
    "slideshow": {
     "slide_type": "subslide"
    }
   },
   "source": [
    "当然上面的方式也是可以通过导入`from selenium.webdriver.common.by import By` 这种方式实现\n",
    "\n",
    "> lis = browser.find_elements(By.CSS_SELECTOR,'.service-bd li')\n",
    "\n",
    "同样的在单个元素中查找的方法在多个元素查找中同样存在：\n",
    "- find_elements_by_name\n",
    "- find_elements_by_id\n",
    "- find_elements_by_xpath\n",
    "- find_elements_by_link_text\n",
    "- find_elements_by_partial_link_text\n",
    "- find_elements_by_tag_name\n",
    "- find_elements_by_class_name\n",
    "- find_elements_by_css_selector"
   ]
  },
  {
   "cell_type": "markdown",
   "metadata": {
    "slideshow": {
     "slide_type": "slide"
    }
   },
   "source": [
    "## 元素交互操作\n",
    "对于获取的元素调用交互方法"
   ]
  },
  {
   "cell_type": "code",
   "execution_count": 25,
   "metadata": {
    "ExecuteTime": {
     "end_time": "2019-10-17T03:40:57.466649Z",
     "start_time": "2019-10-17T03:40:51.101641Z"
    },
    "slideshow": {
     "slide_type": "subslide"
    }
   },
   "outputs": [],
   "source": [
    "from selenium import webdriver\n",
    "import time\n",
    "browser = webdriver.Chrome()\n",
    "\n",
    "browser.get(\"https://music.163.com/\")\n",
    "input_str = browser.find_element_by_id('srch')\n",
    "input_str.send_keys(\"周杰伦\")\n",
    "time.sleep(3) #休眠，模仿人工搜索\n",
    "input_str.clear()\n",
    "input_str.send_keys(\"林俊杰\")"
   ]
  },
  {
   "cell_type": "markdown",
   "metadata": {
    "slideshow": {
     "slide_type": "subslide"
    }
   },
   "source": [
    "运行的结果可以看出程序会自动打开Chrome浏览器并打开淘宝输入ipad,然后删除，重新输入MacBook pro，并点击搜索\n",
    "\n",
    "Selenium所有的api文档：http://selenium-python.readthedocs.io/api.html#module-selenium.webdriver.common.action_chains"
   ]
  },
  {
   "cell_type": "markdown",
   "metadata": {
    "slideshow": {
     "slide_type": "slide"
    }
   },
   "source": [
    "## 执行JavaScript\n",
    "这是一个非常有用的方法，这里就可以直接调用js方法来实现一些操作，\n",
    "下面的例子是通过登录知乎然后通过js翻到页面底部，并弹框提示"
   ]
  },
  {
   "cell_type": "code",
   "execution_count": 13,
   "metadata": {
    "ExecuteTime": {
     "end_time": "2019-10-17T01:16:20.950284Z",
     "start_time": "2019-10-17T01:16:17.156296Z"
    },
    "slideshow": {
     "slide_type": "subslide"
    }
   },
   "outputs": [],
   "source": [
    "from selenium import webdriver\n",
    "browser = webdriver.Chrome()\n",
    "browser.get(\"https://www.zhihu.com/explore/\")\n",
    "browser.execute_script('window.scrollTo(0, document.body.scrollHeight)')\n",
    "browser.execute_script('alert(\"To Bottom\")')"
   ]
  },
  {
   "cell_type": "markdown",
   "metadata": {
    "slideshow": {
     "slide_type": "slide"
    }
   },
   "source": [
    "# 一个例子"
   ]
  },
  {
   "cell_type": "markdown",
   "metadata": {
    "ExecuteTime": {
     "end_time": "2019-06-08T06:32:02.234295Z",
     "start_time": "2019-06-08T06:30:56.716427Z"
    },
    "slideshow": {
     "slide_type": "subslide"
    }
   },
   "source": [
    "```pyton\n",
    "from selenium import webdriver\n",
    "\n",
    "browser = webdriver.Chrome()\n",
    "browser.get(\"https://www.privco.com/home/login\") #需要翻墙打开网址\n",
    "username = 'fake_username'\n",
    "password =  'fake_password'\n",
    "browser.find_element_by_id(\"username\").clear()\n",
    "browser.find_element_by_id(\"username\").send_keys(username) \n",
    "browser.find_element_by_id(\"password\").clear()\n",
    "browser.find_element_by_id(\"password\").send_keys(password)\n",
    "browser.find_element_by_css_selector(\"#login-form > div:nth-child(5) > div > button\").click()\n",
    "```"
   ]
  },
  {
   "cell_type": "code",
   "execution_count": 27,
   "metadata": {
    "ExecuteTime": {
     "end_time": "2019-06-08T06:33:11.197128Z",
     "start_time": "2019-06-08T06:33:11.169229Z"
    },
    "slideshow": {
     "slide_type": "subslide"
    }
   },
   "outputs": [],
   "source": [
    "# url = \"https://www.privco.com/private-company/329463\"\n",
    "def download_excel(url):\n",
    "    browser.get(url)\n",
    "    name = url.split('/')[-1]\n",
    "    title = browser.title\n",
    "    source = browser.page_source\n",
    "    with open(name+'.html', 'w') as f:\n",
    "        f.write(source)\n",
    "    try:\n",
    "        soup = BeautifulSoup(source, 'html.parser')\n",
    "        url_new = soup.find('span', {'class', 'profile-name'}).a['href']\n",
    "        url_excel = url_new + '/export'\n",
    "        browser.get(url_excel)\n",
    "    except Exception as e:\n",
    "        print(url, 'no excel')\n",
    "        pass\n",
    "        \n",
    "    "
   ]
  },
  {
   "cell_type": "code",
   "execution_count": 25,
   "metadata": {
    "ExecuteTime": {
     "end_time": "2019-06-08T06:32:13.789332Z",
     "start_time": "2019-06-08T06:32:13.785931Z"
    },
    "slideshow": {
     "slide_type": "subslide"
    }
   },
   "outputs": [],
   "source": [
    "urls = [ 'https://www.privco.com/private-company/1135789',\n",
    "            'https://www.privco.com/private-company/542756',\n",
    "            'https://www.privco.com/private-company/137908',\n",
    "            'https://www.privco.com/private-company/137138']"
   ]
  },
  {
   "cell_type": "code",
   "execution_count": 28,
   "metadata": {
    "ExecuteTime": {
     "end_time": "2019-06-08T06:33:19.547094Z",
     "start_time": "2019-06-08T06:33:15.569463Z"
    },
    "slideshow": {
     "slide_type": "subslide"
    }
   },
   "outputs": [
    {
     "name": "stdout",
     "output_type": "stream",
     "text": [
      "0\n",
      "https://www.privco.com/private-company/1135789 no excel\n",
      "1\n",
      "https://www.privco.com/private-company/542756 no excel\n",
      "2\n",
      "https://www.privco.com/private-company/137908 no excel\n",
      "3\n",
      "https://www.privco.com/private-company/137138 no excel\n"
     ]
    }
   ],
   "source": [
    "for k, url in enumerate(urls):\n",
    "    print(k)\n",
    "    try:\n",
    "        download_excel(url)\n",
    "    except Exception as e:\n",
    "        print(url, e)"
   ]
  }
 ],
 "metadata": {
  "celltoolbar": "Slideshow",
  "kernelspec": {
   "display_name": "Python 3",
   "language": "python",
   "name": "python3"
  },
  "language_info": {
   "codemirror_mode": {
    "name": "ipython",
    "version": 3
   },
   "file_extension": ".py",
   "mimetype": "text/x-python",
   "name": "python",
   "nbconvert_exporter": "python",
   "pygments_lexer": "ipython3",
   "version": "3.7.3"
  },
  "latex_envs": {
   "LaTeX_envs_menu_present": true,
   "autoclose": false,
   "autocomplete": true,
   "bibliofile": "biblio.bib",
   "cite_by": "apalike",
   "current_citInitial": 1,
   "eqLabelWithNumbers": true,
   "eqNumInitial": 0,
   "hotkeys": {
    "equation": "Ctrl-E",
    "itemize": "Ctrl-I"
   },
   "labels_anchors": false,
   "latex_user_defs": false,
   "report_style_numbering": false,
   "user_envs_cfg": false
  },
  "toc": {
   "base_numbering": 1,
   "nav_menu": {},
   "number_sections": false,
   "sideBar": false,
   "skip_h1_title": false,
   "title_cell": "Table of Contents",
   "title_sidebar": "Contents",
   "toc_cell": false,
   "toc_position": {
    "height": "647px",
    "left": "1361px",
    "top": "123px",
    "width": "340px"
   },
   "toc_section_display": false,
   "toc_window_display": false
  }
 },
 "nbformat": 4,
 "nbformat_minor": 1
}
