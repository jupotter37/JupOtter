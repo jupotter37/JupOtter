{
 "cells": [
  {
   "cell_type": "markdown",
   "metadata": {},
   "source": [
    "# Notebook Demo  \n",
    "文章と式で説明してもわかりにくいので図を添えます。  \n",
    "まずは色々設定します。    "
   ]
  },
  {
   "cell_type": "code",
   "execution_count": 1,
   "metadata": {
    "collapsed": true
   },
   "outputs": [],
   "source": [
    "%matplotlib inline\n",
    "import numpy as np\n",
    "import math, random                 # 計算用、乱数の生成用ライブラリ\n",
    "import matplotlib.pyplot as plt # 描画用ライブラリ"
   ]
  },
  {
   "cell_type": "code",
   "execution_count": 2,
   "metadata": {
    "collapsed": true
   },
   "outputs": [],
   "source": [
    "class Landmarks:\n",
    "    def __init__(self, array):\n",
    "        self.positions = array # array = [[1個めの星のx座標, 1個めの星のy座標], [2個めの星のx座標, 2個めの星のy座標]...]\n",
    "    \n",
    "    def draw(self):\n",
    "        # ランドマークの位置を取り出して描画\n",
    "        xs = [e[0] for e in self.positions]\n",
    "        ys = [e[1] for e in self.positions]\n",
    "        plt.scatter(xs,ys,s=300,marker=\"*\",label=\"landmarks\",color=\"orange\")"
   ]
  },
  {
   "cell_type": "code",
   "execution_count": 3,
   "metadata": {
    "collapsed": true
   },
   "outputs": [],
   "source": [
    "def Movement(pos, fw, rot):\n",
    "    # 移動モデル\n",
    "    # posからfw前進、rot回転した位置をリストで返す\n",
    "    \n",
    "    # 雑音の入った前進、回転の動き\n",
    "    actual_fw = random.gauss(fw, fw * 0.2) # 20%の標準偏差でばらつく\n",
    "    actual_rot = random.gauss(rot, rot * 0.2) # 20%の標準偏差でばらつく\n",
    "    dir_error = random.gauss(0.0, math.pi / 180.0 * 3.0) # 3[deg]の標準偏差\n",
    "    \n",
    "    # 異動前の位置を保存\n",
    "    px, py, pt = pos\n",
    "\n",
    "    # 移動後の位置を計算\n",
    "    x = px + actual_fw * math.cos(pt + dir_error)\n",
    "    y = py + actual_fw * math.sin(pt + dir_error)\n",
    "    t = pt + dir_error + actual_rot # dir_errorを足す\n",
    "\n",
    "    # 結果を返す\n",
    "    return [x,y,t]"
   ]
  },
  {
   "cell_type": "code",
   "execution_count": 4,
   "metadata": {
    "collapsed": true
   },
   "outputs": [],
   "source": [
    "def Observation(pos, landmark):\n",
    "    # 観測モデル\n",
    "    # posから見えるランドマークの距離と方向をリストで返す\n",
    "    \n",
    "    obss = []\n",
    "    \n",
    "    # センサの計測範囲\n",
    "    # 距離0.1 ~ 1\n",
    "    # 角度90 ~ -90[deg]\n",
    "    sensor_max_range = 1.0\n",
    "    sensor_min_range = 0.1\n",
    "    sensor_max_angle = math.pi / 2\n",
    "    sensor_min_angle = -math.pi / 2\n",
    "    \n",
    "    # ロボットやパーティクルの位置姿勢を保存\n",
    "    rx, ry, rt = pos\n",
    "    \n",
    "    # ランドマークごとに観測\n",
    "    for lpos in landmark.positions:\n",
    "        true_lx, true_ly = lpos\n",
    "        # 観測が成功したらresultをTrue\n",
    "        result = True\n",
    "\n",
    "        # ロボットとランドマークの距離を計算\n",
    "        # センサの範囲外であればresultがFalseに\n",
    "        distance = math.sqrt((rx - true_lx) ** 2 + (ry - true_ly) ** 2)\n",
    "        if distance > sensor_max_range or distance < sensor_min_range:\n",
    "            result = False\n",
    "\n",
    "        # ロボットから見えるランドマークの方向を計算\n",
    "        # こちらもセンサの範囲外であればresultがFalseに\n",
    "        direction = math.atan2(true_ly - ry, true_lx - rx) - rt\n",
    "        if direction > math.pi: direction -= 2 * math.pi\n",
    "        if direction < - math.pi: direction += 2 * math.pi\n",
    "        if direction > sensor_max_angle or direction < sensor_min_angle:\n",
    "            result = False\n",
    "\n",
    "        # 雑音の大きさを設定\n",
    "        # これは尤度計算に使う正規分布関数の分散になる\n",
    "        sigma_d = distance * 0.2 # 20%の標準偏差\n",
    "        sigma_f = math.pi * 3 / 180 # 3degの標準偏差\n",
    "\n",
    "        # 雑音を混ぜる\n",
    "        d = random.gauss(distance, sigma_d)\n",
    "        f = random.gauss(direction, sigma_f)\n",
    "        \n",
    "        # 観測データを保存\n",
    "        z = []\n",
    "        z.append([d, f, sigma_d, sigma_f, result])\n",
    "        \n",
    "    return z"
   ]
  },
  {
   "cell_type": "code",
   "execution_count": 5,
   "metadata": {
    "collapsed": true
   },
   "outputs": [],
   "source": [
    "class Robot:\n",
    "    def __init__(self, x, y, rad):\n",
    "        random.seed()\n",
    "        \n",
    "        # ステップごとにロボットの姿勢の真値が入った配列\n",
    "        self.actual_poses = [[x,y,rad]]\n",
    "\n",
    "    def move(self,fw,rot):\n",
    "        # ロボットの位置を記録する(軌跡を残すために配列に入れてる)\n",
    "        self.actual_poses.append(Movement(self.actual_poses[-1], fw, rot))\n",
    "        \n",
    "    def observation(self, landmarks):\n",
    "        # 現在地から見た観測データの保存\n",
    "        self.z = Observation(self.actual_poses[-1], landmarks)\n",
    "        \n",
    "\n",
    "    # 矢印の描画に必要な位置と方向を計算して描画\n",
    "    def draw(self, sp):\n",
    "        xs = [e[0] for e in self.actual_poses]\n",
    "        ys = [e[1] for e in self.actual_poses]\n",
    "        vxs = [math.cos(e[2]) for e in self.actual_poses]\n",
    "        vys = [math.sin(e[2]) for e in self.actual_poses]\n",
    "        plt.quiver(xs,ys,vxs,vys,color=\"red\",scale=15,angles='xy',scale_units='xy',alpha = 0.3)"
   ]
  },
  {
   "cell_type": "code",
   "execution_count": 6,
   "metadata": {
    "collapsed": true
   },
   "outputs": [],
   "source": [
    "def draw(i):\n",
    "    # グラフの設定\n",
    "    fig = plt.figure(i, figsize=(8,8))\n",
    "    sp = fig.add_subplot(111,aspect='equal')\n",
    "    sp.set_xlim(-0.5,2.0)\n",
    "    sp.set_ylim(-0.5,0.5)\n",
    "    \n",
    "    # ロボット、ランドマークの描画\n",
    "    for robot in robots:\n",
    "        robot.draw(sp)\n",
    "    \n",
    "    if i:\n",
    "        for robot in robots:\n",
    "            for obs in robot.z:\n",
    "                d = obs[0]\n",
    "                f = obs[1]\n",
    "                x = d * math.cos(f)\n",
    "                y = d * math.sin(f)\n",
    "                plt.plot(x, y, \"o\")\n",
    "    \n",
    "    actual_landmarks.draw()\n",
    "    \n",
    "    plt.legend()"
   ]
  },
  {
   "cell_type": "markdown",
   "metadata": {},
   "source": [
    "## 移動モデル  \n",
    "ロボットを100台出してみます。  \n",
    "どのロボットも1前進という命令を出しましたが、バラバラしていることがわかります。  "
   ]
  },
  {
   "cell_type": "code",
   "execution_count": 7,
   "metadata": {},
   "outputs": [
    {
     "data": {
      "image/png": "[encoded data removed]",
      "text/plain": [
       "<matplotlib.figure.Figure at 0x10bf2edd8>"
      ]
     },
     "metadata": {},
     "output_type": "display_data"
    }
   ],
   "source": [
    "actual_landmarks = Landmarks([[1.0,0.0]])\n",
    "robots = []\n",
    "\n",
    "for i in range(100):\n",
    "    robots.append(Robot(0,0,0))\n",
    "\n",
    "for robot in robots:\n",
    "    robot.move(1.0, 0)\n",
    "    \n",
    "draw(0)"
   ]
  },
  {
   "cell_type": "markdown",
   "metadata": {},
   "source": [
    "## 観測モデル  \n",
    "同様にロボットを100台出して、1先に見える星を観測させます。  \n",
    "カラフルなドットがロボットから見える星の位置です。  "
   ]
  },
  {
   "cell_type": "code",
   "execution_count": 8,
   "metadata": {},
   "outputs": [
    {
     "data": {
      "image/png": "[encoded data removed]",
      "text/plain": [
       "<matplotlib.figure.Figure at 0x10bf2e828>"
      ]
     },
     "metadata": {},
     "output_type": "display_data"
    }
   ],
   "source": [
    "actual_landmarks = Landmarks([[1.0,0.0]])\n",
    "robots = []\n",
    "\n",
    "for i in range(100):\n",
    "    robots.append(Robot(0,0,0))\n",
    "    \n",
    "for robot in robots:\n",
    "    robot.observation(actual_landmarks)\n",
    "    \n",
    "draw(1)"
   ]
  },
  {
   "cell_type": "markdown",
   "metadata": {
    "collapsed": true
   },
   "source": [
    "## 尤度計算  \n",
    "今回は尤度計算に正規分布を使っています。  \n",
    "ロボットの観測データ$d, \\varphi$と、パーティクルの観測データ$d', \\varphi'$の差が大きいほど小さな値になります。  \n",
    "\n",
    "$$\n",
    "p(z|x_t) \\propto \\frac {\\exp (- \\frac {1}{2\\sigma_d}(d-d')^2)}{\\sigma_d \\sqrt{2 \\pi}} \\frac {\\exp (- \\frac {1}{2\\sigma_\\varphi}(\\varphi-\\varphi')^2)}{\\sigma_\\varphi \\sqrt{2 \\pi}}\n",
    "$$\n",
    "  \n",
    "下のグラフは$d$と$\\varphi$についてそれぞれ別々に描画した正規分布のグラフです。  \n",
    "$d$がオレンジ、$\\varphi$が青のグラフです。  \n",
    "上の観測モデルと同じように、ランドマークはロボットから見て、0°の向きに1離れた位置にあります。  \n",
    "なので$d$、distanceのグラフは、1に近いほど値が大きく、$\\varphi$、directionのグラフは0に近いほど値が大きくなっています。  "
   ]
  },
  {
   "cell_type": "code",
   "execution_count": 58,
   "metadata": {},
   "outputs": [
    {
     "data": {
      "text/plain": [
       "<matplotlib.legend.Legend at 0x10f78d978>"
      ]
     },
     "execution_count": 58,
     "metadata": {},
     "output_type": "execute_result"
    },
    {
     "data": {
      "image/png": "[encoded data removed]",
      "text/plain": [
       "<matplotlib.figure.Figure at 0x10f661c88>"
      ]
     },
     "metadata": {},
     "output_type": "display_data"
    }
   ],
   "source": [
    "rd = 1\n",
    "rf = 0\n",
    "sigma_rd = 1.0 * 0.2\n",
    "sigma_rf = math.pi * 3 / 180\n",
    "\n",
    "pd = np.arange(-3, 3, 0.01)\n",
    "pf = np.arange(-3, 3, 0.01)\n",
    "\n",
    "d = np.exp(-(rd - pd) ** 2 / (2 * (sigma_rd ** 2))) / (sigma_rd * np.sqrt(2 * np.pi))\n",
    "f = np.exp(-(rf - pf) ** 2 / (2 * (sigma_rf ** 2))) / (sigma_rf * np.sqrt(2 * np.pi))\n",
    "\n",
    "fig = plt.figure(figsize=(10,4))\n",
    "sp = fig.add_subplot(111)\n",
    "sp.set_xlim(-0.5,2.0)\n",
    "sp.set_ylim(-0.5,8)\n",
    "\n",
    "plt.plot(pd, d, color = \"orange\",label=\"distance\")\n",
    "plt.plot(pf, f, color = \"blue\",label=\"direction\")\n",
    "\n",
    "plt.legend()"
   ]
  },
  {
   "cell_type": "code",
   "execution_count": null,
   "metadata": {
    "collapsed": true
   },
   "outputs": [],
   "source": []
  }
 ],
 "metadata": {
  "kernelspec": {
   "display_name": "Python 3",
   "language": "python",
   "name": "python3"
  },
  "language_info": {
   "codemirror_mode": {
    "name": "ipython",
    "version": 3
   },
   "file_extension": ".py",
   "mimetype": "text/x-python",
   "name": "python",
   "nbconvert_exporter": "python",
   "pygments_lexer": "ipython3",
   "version": "3.6.1"
  }
 },
 "nbformat": 4,
 "nbformat_minor": 2
}
