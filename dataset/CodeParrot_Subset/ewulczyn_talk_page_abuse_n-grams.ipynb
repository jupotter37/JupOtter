{
 "cells": [
  {
   "cell_type": "code",
   "execution_count": 99,
   "metadata": {
    "collapsed": false
   },
   "outputs": [
    {
     "name": "stdout",
     "output_type": "stream",
     "text": [
      "The autoreload extension is already loaded. To reload it, use:\n",
      "  %reload_ext autoreload\n"
     ]
    }
   ],
   "source": [
    "%load_ext autoreload\n",
    "%autoreload 2\n",
    "%matplotlib inline\n",
    "import warnings\n",
    "warnings.filterwarnings('ignore')\n",
    "from sklearn_utils import *\n",
    "from tensorflow_utils import *\n",
    "\n",
    "import numpy as np\n",
    "import pandas as pd\n",
    "import tensorflow as tf\n",
    "import nltk\n",
    "import sklearn\n",
    "from sklearn.cross_validation import train_test_split\n",
    "from sklearn.pipeline import Pipeline\n",
    "import matplotlib.pyplot as plt\n",
    "import scipy\n",
    "import math\n",
    "import joblib\n"
   ]
  },
  {
   "cell_type": "markdown",
   "metadata": {},
   "source": [
    "# Load and  Split Kaggle Data"
   ]
  },
  {
   "cell_type": "code",
   "execution_count": 2,
   "metadata": {
    "collapsed": false
   },
   "outputs": [],
   "source": [
    "data_filename  = '../data/train.csv'\n",
    "data_df = pd.read_csv(data_filename)\n",
    "corpus = data_df['Comment']\n",
    "labels = data_df['Insult']\n",
    "train_corpus, test_corpus, train_labels, test_labels = \\\n",
    "sklearn.cross_validation.train_test_split(corpus, labels, test_size=0.33)"
   ]
  },
  {
   "cell_type": "markdown",
   "metadata": {},
   "source": [
    "## Build baseline text classification model in Sklearn"
   ]
  },
  {
   "cell_type": "code",
   "execution_count": 4,
   "metadata": {
    "collapsed": true
   },
   "outputs": [],
   "source": [
    "pipeline = Pipeline([\n",
    "    ('vect', sklearn.feature_extraction.text.CountVectorizer()),\n",
    "    ('tfidf', sklearn.feature_extraction.text.TfidfTransformer(sublinear_tf=True,norm='l2')),\n",
    "    ('clf', sklearn.linear_model.LogisticRegression()),\n",
    "])"
   ]
  },
  {
   "cell_type": "code",
   "execution_count": 28,
   "metadata": {
    "collapsed": false
   },
   "outputs": [
    {
     "name": "stdout",
     "output_type": "stream",
     "text": [
      "\n",
      "\n",
      "\n",
      "Doing Gridsearch\n",
      "\n",
      "Best Model Train AUC: 0.999258\n",
      "Best Model Train F1 0.965159\n",
      "Best Model Train Accuracy 0.982224\n",
      "\n",
      "Best parameters set found:\n",
      "{'clf__C': 5, 'vect__ngram_range': (1, 4), 'vect__analyzer': 'char'} 0.898481329938\n",
      "\n",
      "\n",
      "Grid scores:\n",
      "0.72558 (+/-0.00543) for {'clf__C': 0.1, 'vect__ngram_range': (1, 1), 'vect__analyzer': 'char'}\n",
      "0.82944 (+/-0.00592) for {'clf__C': 0.1, 'vect__ngram_range': (2, 2), 'vect__analyzer': 'char'}\n",
      "0.85762 (+/-0.00675) for {'clf__C': 0.1, 'vect__ngram_range': (1, 4), 'vect__analyzer': 'char'}\n",
      "0.74702 (+/-0.00341) for {'clf__C': 1, 'vect__ngram_range': (1, 1), 'vect__analyzer': 'char'}\n",
      "0.85406 (+/-0.00708) for {'clf__C': 1, 'vect__ngram_range': (2, 2), 'vect__analyzer': 'char'}\n",
      "0.89102 (+/-0.00342) for {'clf__C': 1, 'vect__ngram_range': (1, 4), 'vect__analyzer': 'char'}\n",
      "0.74954 (+/-0.00486) for {'clf__C': 5, 'vect__ngram_range': (1, 1), 'vect__analyzer': 'char'}\n",
      "0.84478 (+/-0.01045) for {'clf__C': 5, 'vect__ngram_range': (2, 2), 'vect__analyzer': 'char'}\n",
      "0.89848 (+/-0.00244) for {'clf__C': 5, 'vect__ngram_range': (1, 4), 'vect__analyzer': 'char'}\n",
      "0.74703 (+/-0.00516) for {'clf__C': 50, 'vect__ngram_range': (1, 1), 'vect__analyzer': 'char'}\n",
      "0.81108 (+/-0.01158) for {'clf__C': 50, 'vect__ngram_range': (2, 2), 'vect__analyzer': 'char'}\n",
      "0.89468 (+/-0.00289) for {'clf__C': 50, 'vect__ngram_range': (1, 4), 'vect__analyzer': 'char'}\n",
      "0.74647 (+/-0.00522) for {'clf__C': 100, 'vect__ngram_range': (1, 1), 'vect__analyzer': 'char'}\n",
      "0.79991 (+/-0.01135) for {'clf__C': 100, 'vect__ngram_range': (2, 2), 'vect__analyzer': 'char'}\n",
      "0.89305 (+/-0.00291) for {'clf__C': 100, 'vect__ngram_range': (1, 4), 'vect__analyzer': 'char'}\n",
      "0.74587 (+/-0.00530) for {'clf__C': 1000, 'vect__ngram_range': (1, 1), 'vect__analyzer': 'char'}\n",
      "0.77524 (+/-0.01147) for {'clf__C': 1000, 'vect__ngram_range': (2, 2), 'vect__analyzer': 'char'}\n",
      "0.88935 (+/-0.00299) for {'clf__C': 1000, 'vect__ngram_range': (1, 4), 'vect__analyzer': 'char'}\n",
      "0.74572 (+/-0.00530) for {'clf__C': 5000, 'vect__ngram_range': (1, 1), 'vect__analyzer': 'char'}\n",
      "0.76823 (+/-0.01132) for {'clf__C': 5000, 'vect__ngram_range': (2, 2), 'vect__analyzer': 'char'}\n",
      "0.88818 (+/-0.00312) for {'clf__C': 5000, 'vect__ngram_range': (1, 4), 'vect__analyzer': 'char'}\n"
     ]
    }
   ],
   "source": [
    "param_grid = {\n",
    "    #'vect__max_df': (0.5, 0.75, 1.0),\n",
    "    #'vect__max_features': (None, 5000, 10000, 50000),\n",
    "    'vect__ngram_range': ((1, 1), (2, 2), (1,4)),  # unigrams or bigrams\n",
    "    #'vect_lowercase': (True, False),\n",
    "    'vect__analyzer' : ('char',), #('word', 'char')\n",
    "    #'tfidf__use_idf': (True, False),\n",
    "    #'tfidf__norm': ('l1', 'l2'),\n",
    "    #'clf__penalty': ('l2', 'elasticnet'),\n",
    "    #'clf__n_iter': (10, 50, 80),\n",
    "    'clf__C': [0.1, 1, 5,  50, 100, 1000, 5000],\n",
    "}\n",
    "\n",
    "model = cv (train_corpus, train_labels.values, 5, pipeline, param_grid, 'roc_auc', False, n_jobs=8)"
   ]
  },
  {
   "cell_type": "code",
   "execution_count": 98,
   "metadata": {
    "collapsed": false
   },
   "outputs": [
    {
     "name": "stdout",
     "output_type": "stream",
     "text": [
      "ROC: 0.89864 \n",
      "\n"
     ]
    },
    {
     "data": {
      "text/plain": [
       "0.89863847165913557"
      ]
     },
     "execution_count": 98,
     "metadata": {},
     "output_type": "execute_result"
    }
   ],
   "source": [
    "# Hold out set Perf\n",
    "auc(test_labels.values,get_scores(model, test_corpus))"
   ]
  },
  {
   "cell_type": "markdown",
   "metadata": {},
   "source": [
    "This is about as good as the best Kagglers report they did."
   ]
  },
  {
   "cell_type": "code",
   "execution_count": 100,
   "metadata": {
    "collapsed": false
   },
   "outputs": [
    {
     "data": {
      "text/plain": [
       "['../models/kaggle_ngram.pkl',\n",
       " '../models/kaggle_ngram.pkl_01.npy',\n",
       " '../models/kaggle_ngram.pkl_02.npy',\n",
       " '../models/kaggle_ngram.pkl_03.npy',\n",
       " '../models/kaggle_ngram.pkl_04.npy',\n",
       " '../models/kaggle_ngram.pkl_05.npy',\n",
       " '../models/kaggle_ngram.pkl_06.npy',\n",
       " '../models/kaggle_ngram.pkl_07.npy',\n",
       " '../models/kaggle_ngram.pkl_08.npy',\n",
       " '../models/kaggle_ngram.pkl_09.npy',\n",
       " '../models/kaggle_ngram.pkl_10.npy',\n",
       " '../models/kaggle_ngram.pkl_11.npy',\n",
       " '../models/kaggle_ngram.pkl_12.npy',\n",
       " '../models/kaggle_ngram.pkl_13.npy',\n",
       " '../models/kaggle_ngram.pkl_14.npy',\n",
       " '../models/kaggle_ngram.pkl_15.npy',\n",
       " '../models/kaggle_ngram.pkl_16.npy',\n",
       " '../models/kaggle_ngram.pkl_17.npy',\n",
       " '../models/kaggle_ngram.pkl_18.npy',\n",
       " '../models/kaggle_ngram.pkl_19.npy',\n",
       " '../models/kaggle_ngram.pkl_20.npy',\n",
       " '../models/kaggle_ngram.pkl_21.npy',\n",
       " '../models/kaggle_ngram.pkl_22.npy',\n",
       " '../models/kaggle_ngram.pkl_23.npy',\n",
       " '../models/kaggle_ngram.pkl_24.npy',\n",
       " '../models/kaggle_ngram.pkl_25.npy',\n",
       " '../models/kaggle_ngram.pkl_26.npy',\n",
       " '../models/kaggle_ngram.pkl_27.npy',\n",
       " '../models/kaggle_ngram.pkl_28.npy']"
      ]
     },
     "execution_count": 100,
     "metadata": {},
     "output_type": "execute_result"
    }
   ],
   "source": [
    "joblib.dump(model, '../models/kaggle_ngram.pkl')"
   ]
  },
  {
   "cell_type": "markdown",
   "metadata": {},
   "source": [
    "# Score Random Wikipedia User Talk Comments\n",
    "\n",
    "Lets take a random sample of user talk comments, apply the insult model trained on kaggle and see what we find."
   ]
  },
  {
   "cell_type": "code",
   "execution_count": 71,
   "metadata": {
    "collapsed": true
   },
   "outputs": [],
   "source": [
    "d_wiki = pd.read_csv('../../wikipedia/data/100k_user_talk_comments.tsv', sep = '\\t').dropna()[:10000]"
   ]
  },
  {
   "cell_type": "code",
   "execution_count": 72,
   "metadata": {
    "collapsed": false
   },
   "outputs": [],
   "source": [
    "d_wiki['prob'] = model.predict_proba(d_wiki['diff'])[:,1]\n",
    "d_wiki.sort('prob', ascending=False, inplace = True)"
   ]
  },
  {
   "cell_type": "code",
   "execution_count": 79,
   "metadata": {
    "collapsed": false
   },
   "outputs": [
    {
     "data": {
      "text/plain": [
       "<matplotlib.text.Text at 0x106cf7588>"
      ]
     },
     "execution_count": 79,
     "metadata": {},
     "output_type": "execute_result"
    },
    {
     "data": {
      "image/png": "[encoded data removed]",
      "text/plain": [
       "<matplotlib.figure.Figure at 0x110af4780>"
      ]
     },
     "metadata": {},
     "output_type": "display_data"
    }
   ],
   "source": [
    "_ = plt.hist(d_wiki['prob'].values)\n",
    "plt.xlabel('Insult Prob')\n",
    "plt.title('Wikipedia Score Distribution')"
   ]
  },
  {
   "cell_type": "code",
   "execution_count": 80,
   "metadata": {
    "collapsed": false
   },
   "outputs": [
    {
     "data": {
      "text/plain": [
       "<matplotlib.text.Text at 0x113807da0>"
      ]
     },
     "execution_count": 80,
     "metadata": {},
     "output_type": "execute_result"
    },
    {
     "data": {
      "image/png": "[encoded data removed]",
      "text/plain": [
       "<matplotlib.figure.Figure at 0x106cf94e0>"
      ]
     },
     "metadata": {},
     "output_type": "display_data"
    }
   ],
   "source": [
    "_ = plt.hist(model.predict_proba(train_corpus)[:, 1])\n",
    "plt.xlabel('Insult Prob')\n",
    "plt.title('Kaggle Score Distribution')"
   ]
  },
  {
   "cell_type": "markdown",
   "metadata": {},
   "source": [
    " The distribution over insult probabilities in the two datasets is radically different. Insults in the Wikipedia dataset are much rarer"
   ]
  },
  {
   "cell_type": "code",
   "execution_count": 88,
   "metadata": {
    "collapsed": false
   },
   "outputs": [
    {
     "data": {
      "text/plain": [
       "'0.83% of random wiki comments are predicted to be insults'"
      ]
     },
     "execution_count": 88,
     "metadata": {},
     "output_type": "execute_result"
    }
   ],
   "source": [
    "\"%0.2f%% of random wiki comments are predicted to be insults\" % ((d_wiki['prob'] > 0.5).mean() * 100)"
   ]
  },
  {
   "cell_type": "markdown",
   "metadata": {},
   "source": [
    "### Check High Scoring Comments"
   ]
  },
  {
   "cell_type": "code",
   "execution_count": 51,
   "metadata": {
    "collapsed": false
   },
   "outputs": [
    {
     "name": "stdout",
     "output_type": "stream",
     "text": [
      "0.994776188204 Fuck You Stupid NG \n",
      "\n",
      "0.992150341104  Fuck you  Go stick your foot up your ass, you bastard nazi. \n",
      "\n",
      "0.984552552305 Fuck You \n",
      "\n",
      "0.974815537861  you little bitch    \n",
      "\n",
      "0.973793286927 fuck you. \n",
      "\n"
     ]
    }
   ],
   "source": [
    "for i in range(5):\n",
    "    print(d_wiki.iloc[i]['prob'], d_wiki.iloc[i]['diff'], '\\n')"
   ]
  },
  {
   "cell_type": "code",
   "execution_count": 54,
   "metadata": {
    "collapsed": false
   },
   "outputs": [
    {
     "name": "stdout",
     "output_type": "stream",
     "text": [
      "0.69518887229 I don't like you Cluebot. \n",
      "\n",
      "0.689035760688  Xiadus   Why did you remove it ya fuck     \n",
      "\n",
      "0.688844434718  hey you  you are a jackass for taking my edit back. Howard Stern created the features of iowa. \n",
      "\n",
      "0.679240067946  You added \"All I Ask\" to your user page saying you created it. You didn't create the article, and you're not the first person to add prose to it.  —    \n",
      "\n",
      "0.678999793678 Boo! You suck! \n",
      "\n"
     ]
    }
   ],
   "source": [
    "for i in range(50, 55):\n",
    "    print(d_wiki.iloc[i]['prob'], d_wiki.iloc[i]['diff'], '\\n')"
   ]
  },
  {
   "cell_type": "code",
   "execution_count": 57,
   "metadata": {
    "collapsed": false
   },
   "outputs": [
    {
     "name": "stdout",
     "output_type": "stream",
     "text": [
      "0.54065517874 fuck this shit bitch man it feels good to be a gangsta \n",
      "\n",
      "0.540179092831 When you add things like you did to Talk:Maxi yacht \n",
      "\n",
      "0.539896950103  You are a fan of Himmler  Bad thing \n",
      "\n",
      "0.538296060837 If you work for Eagle Radio, you will need to clearly state that on your user page; please review this page for more information.    \n",
      "\n",
      "0.535843828806 25px|alt=Warning icon Please stop your disruptive editing. If you continue to remove speedy deletion notices from pages you created yourself, as you did at :Anu Autoclave & Incin. Services, you may be blocked from editing.     \n",
      "\n"
     ]
    }
   ],
   "source": [
    "for i in range(100, 105):\n",
    "    print(d_wiki.iloc[i]['prob'], d_wiki.iloc[i]['diff'], '\\n')"
   ]
  },
  {
   "cell_type": "markdown",
   "metadata": {},
   "source": [
    "# Score Blocked Users' User Talk Comments"
   ]
  },
  {
   "cell_type": "code",
   "execution_count": 83,
   "metadata": {
    "collapsed": false
   },
   "outputs": [],
   "source": [
    "d_wiki_blocked = pd.read_csv('../../wikipedia/data/blocked_users_user_talk_page_comments.tsv', sep = '\\t').dropna()[:10000]"
   ]
  },
  {
   "cell_type": "code",
   "execution_count": 92,
   "metadata": {
    "collapsed": true
   },
   "outputs": [],
   "source": [
    "d_wiki_blocked['prob'] = model.predict_proba(d_wiki_blocked['diff'])[:,1]\n",
    "d_wiki_blocked.sort('prob', ascending=False, inplace = True)"
   ]
  },
  {
   "cell_type": "code",
   "execution_count": 93,
   "metadata": {
    "collapsed": false
   },
   "outputs": [
    {
     "data": {
      "text/plain": [
       "'3.69% of random wiki comments are predicted to be insults'"
      ]
     },
     "execution_count": 93,
     "metadata": {},
     "output_type": "execute_result"
    }
   ],
   "source": [
    "\"%0.2f%% of random wiki comments are predicted to be insults\" % ((d_wiki_blocked['prob'] > 0.5).mean() * 100)"
   ]
  },
  {
   "cell_type": "markdown",
   "metadata": {},
   "source": [
    "### Check High Scoring Comments"
   ]
  },
  {
   "cell_type": "code",
   "execution_count": 95,
   "metadata": {
    "collapsed": false
   },
   "outputs": [
    {
     "name": "stdout",
     "output_type": "stream",
     "text": [
      "0.999401502135  fuck you  you're an idiot \n",
      "\n",
      "0.99930438266 FUCK YOU FUCKIN ASSHOLE SO FUCK YOU FUCK YOU RETARD MORON YOU PIECE A SHIT \n",
      "\n",
      "0.994985168036  FUCK YOU  \n",
      "\n",
      "0.994985168036  FUCK YOU  \n",
      "\n",
      "0.994985168036  FUCK YOU  \n",
      "\n"
     ]
    }
   ],
   "source": [
    "for i in range(5):\n",
    "    print(d_wiki_blocked.iloc[i]['prob'], d_wiki_blocked.iloc[i]['diff'], '\\n')"
   ]
  },
  {
   "cell_type": "code",
   "execution_count": 96,
   "metadata": {
    "collapsed": false
   },
   "outputs": [
    {
     "name": "stdout",
     "output_type": "stream",
     "text": [
      "0.92569576008 fuck off anusial \n",
      "\n",
      "0.923027207676   I love how you act like an innocent little baby, you remove my edits and hide behind \"your own edits\", can you stop acting like a snake moving and slithering in the grass and man up for once, and stop with accusation that have no grounds, it just shows you how childish you are, if you think I was being POV, please provide your evidence and let's discuss it. Until then better shut your mouth boy.    \n",
      "\n",
      "0.922799651823 faggggot \n",
      "\n",
      "0.922633390355 ????!!!!! YOU ARE ADDING UNSOURCED INFORMATION!!!!!! DOES NOT EXIST ON THE ARTICLE YOU ARE QUOTING!!!!!! WHY THE HELL WONT YOU CHECK BEFORE REVERTING THIS IS INSANE!!!!! \n",
      "\n",
      "0.918644613731 Jesus fucking christ, you're a goddamn wikinazi. \n",
      "\n"
     ]
    }
   ],
   "source": [
    "for i in range(50, 55):\n",
    "    print(d_wiki_blocked.iloc[i]['prob'], d_wiki.iloc[i]['diff'], '\\n')"
   ]
  },
  {
   "cell_type": "code",
   "execution_count": 97,
   "metadata": {
    "collapsed": false
   },
   "outputs": [
    {
     "name": "stdout",
     "output_type": "stream",
     "text": [
      "0.82503034387  editing Sage Northcutt UFC page  So you edited the Sage Northcutt UFC page, yet kept my old citations with CORRECT info.  How does the info match up to the citations now??? You are a phagg0t.  Learn to read and cite correctly, you idiot. \n",
      "\n",
      "0.824529747531 You can only control your behavior. Don't fight fire with fire. The fact that you are an IP is not relevant.    \n",
      "\n",
      "0.824307698869  Your psychology?  Seriously, what's wrong with you?  What is your significant emotional deficiency that makes you act out in the manner that you do?  What is it?  Why do you insist on this insane behaviour?  I'd like to help you as you are a seriously angry guy.  Why do you waste your own time, my time, everyone else's time by changing things to reflect incorrect information, then threaten me and continue to harass me for months now?  What charge do you get out of it?  Do you ever wake up in the AM and ask yourself, \"Why did I do that?\"  You really need help.  Talk to me.  I'm here for you.  I'm a good listener. \n",
      "\n",
      "0.823668591972 YO \n",
      "\n",
      "0.823637975212 Do you have a source for your claims? --    \n",
      "\n"
     ]
    }
   ],
   "source": [
    "for i in range(100, 105):\n",
    "    print(d_wiki_blocked.iloc[i]['prob'], d_wiki.iloc[i]['diff'], '\\n')"
   ]
  },
  {
   "cell_type": "markdown",
   "metadata": {},
   "source": [
    "# Scratch: Do not keep reading :)"
   ]
  },
  {
   "cell_type": "markdown",
   "metadata": {},
   "source": [
    "#### Tensorflow MPL"
   ]
  },
  {
   "cell_type": "code",
   "execution_count": 140,
   "metadata": {
    "collapsed": false
   },
   "outputs": [
    {
     "data": {
      "text/plain": [
       "True"
      ]
     },
     "execution_count": 140,
     "metadata": {},
     "output_type": "execute_result"
    }
   ],
   "source": [
    "isinstance(y_train, np.ndarray)"
   ]
  },
  {
   "cell_type": "code",
   "execution_count": 145,
   "metadata": {
    "collapsed": false
   },
   "outputs": [],
   "source": [
    "y_train = np.array([y_train, 1- y_train]).T\n",
    "y_test = np.array([y_test, 1- y_test]).T"
   ]
  },
  {
   "cell_type": "code",
   "execution_count": 157,
   "metadata": {
    "collapsed": false
   },
   "outputs": [
    {
     "name": "stdout",
     "output_type": "stream",
     "text": [
      "Epoch: 0001 cost= 0.858585700\n",
      "Accuracy: 0.542738\n",
      "Accuracy: 0.53185\n",
      "Epoch: 0006 cost= 0.620715947\n",
      "Accuracy: 0.681921\n",
      "Accuracy: 0.653108\n",
      "Epoch: 0011 cost= 0.538689288\n",
      "Accuracy: 0.732602\n",
      "Accuracy: 0.692249\n",
      "Epoch: 0016 cost= 0.474780355\n",
      "Accuracy: 0.77534\n",
      "Accuracy: 0.702993\n",
      "Epoch: 0021 cost= 0.420612711\n",
      "Accuracy: 0.805598\n",
      "Accuracy: 0.71604\n",
      "Epoch: 0026 cost= 0.374425979\n",
      "Accuracy: 0.831316\n",
      "Accuracy: 0.72218\n",
      "Epoch: 0031 cost= 0.335023997\n",
      "Accuracy: 0.860439\n",
      "Accuracy: 0.728319\n",
      "Epoch: 0036 cost= 0.300916263\n",
      "Accuracy: 0.88351\n",
      "Accuracy: 0.729087\n",
      "Epoch: 0041 cost= 0.271585224\n",
      "Accuracy: 0.904312\n",
      "Accuracy: 0.738296\n",
      "Epoch: 0046 cost= 0.246153700\n",
      "Accuracy: 0.92171\n",
      "Accuracy: 0.740599\n",
      "Epoch: 0051 cost= 0.223596772\n",
      "Accuracy: 0.934947\n",
      "Accuracy: 0.747506\n",
      "Epoch: 0056 cost= 0.204010803\n",
      "Accuracy: 0.944024\n",
      "Accuracy: 0.750576\n",
      "Optimization Finished!\n"
     ]
    }
   ],
   "source": [
    "# Parameters\n",
    "learning_rate = 0.001\n",
    "training_epochs = 60\n",
    "batch_size = 200\n",
    "display_step = 5\n",
    "\n",
    "# Network Parameters\n",
    "n_hidden_1 = 100 # 1st layer num features\n",
    "n_hidden_2 = 100 # 2nd layer num features\n",
    "n_hidden_3 = 100 # 2nd layer num features\n",
    "n_input = X_train.shape[1]\n",
    "n_classes = 2 \n",
    "\n",
    "# tf Graph input\n",
    "x = tf.placeholder(\"float\", [None, n_input])\n",
    "y = tf.placeholder(\"float\", [None, n_classes])\n",
    "\n",
    "# Create model\n",
    "def LG(_X, _weights, _biases):\n",
    "    return tf.matmul(_X, _weights['out']) + _biases['out']\n",
    "\n",
    "# Store layers weight & bias\n",
    "weights = {\n",
    "    'out': tf.Variable(tf.random_normal([n_input, n_classes]))\n",
    "}\n",
    "biases = {\n",
    "    'out': tf.Variable(tf.random_normal([n_classes]))\n",
    "}\n",
    "\n",
    "# Construct model\n",
    "pred = LG(x, weights, biases)\n",
    "\n",
    "# Define loss and optimizer\n",
    "cost = tf.reduce_mean(tf.nn.softmax_cross_entropy_with_logits(pred, y)) # Softmax loss\n",
    "optimizer = tf.train.AdamOptimizer(learning_rate=learning_rate).minimize(cost) # Adam Optimizer\n",
    "\n",
    "# Initializing the variables\n",
    "init = tf.initialize_all_variables()\n",
    "\n",
    "# Launch the graph\n",
    "\n",
    "sess = tf.Session()\n",
    "\n",
    "sess.run(init)\n",
    "\n",
    "# Training cycle\n",
    "for epoch in range(training_epochs):\n",
    "    avg_cost = 0.\n",
    "    m = 0\n",
    "    batches = batch_iter(X_train.toarray(), y_train, batch_size)\n",
    "    # Loop over all batches\n",
    "    for batch_xs, batch_ys in batches:\n",
    "        batch_m = len(batch_ys)\n",
    "        m += batch_m\n",
    "        # Fit training using batch data\n",
    "        sess.run(optimizer, feed_dict={x: batch_xs, y: batch_ys})\n",
    "        # Compute average loss\n",
    "        avg_cost += sess.run(cost, feed_dict={x: batch_xs, y: batch_ys}) * batch_m\n",
    "    # Display logs per epoch step\n",
    "    if epoch % display_step == 0:\n",
    "        print (\"Epoch:\", '%04d' % (epoch+1), \"cost=\", \"{:.9f}\".format(avg_cost/m))\n",
    "        correct_prediction = tf.equal(tf.argmax(pred, 1), tf.argmax(y, 1))\n",
    "        # Calculate accuracy\n",
    "        accuracy = tf.reduce_mean(tf.cast(correct_prediction, \"float\"))\n",
    "        print (\"Accuracy:\", accuracy.eval({x: X_train.toarray(), y: y_train}, session=sess))\n",
    "        print (\"Accuracy:\", accuracy.eval({x: X_test.toarray(), y: y_test}, session=sess))    \n",
    "        \n",
    "        \n",
    "print (\"Optimization Finished!\")\n",
    "# Test model\n"
   ]
  },
  {
   "cell_type": "code",
   "execution_count": null,
   "metadata": {
    "collapsed": true
   },
   "outputs": [],
   "source": []
  }
 ],
 "metadata": {
  "kernelspec": {
   "display_name": "Python 3",
   "language": "python",
   "name": "python3"
  },
  "language_info": {
   "codemirror_mode": {
    "name": "ipython",
    "version": 3
   },
   "file_extension": ".py",
   "mimetype": "text/x-python",
   "name": "python",
   "nbconvert_exporter": "python",
   "pygments_lexer": "ipython3",
   "version": "3.5.1"
  }
 },
 "nbformat": 4,
 "nbformat_minor": 0
}
