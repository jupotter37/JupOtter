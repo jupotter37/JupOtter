{
 "cells": [
  {
   "cell_type": "code",
   "execution_count": 4,
   "metadata": {},
   "outputs": [
    {
     "data": {
      "application/javascript": [
       "MathJax.Hub.Config({\n",
       "    TeX: { equationNumbers: { autoNumber: \"AMS\" } }\n",
       "});\n"
      ],
      "text/plain": [
       "<IPython.core.display.Javascript object>"
      ]
     },
     "metadata": {},
     "output_type": "display_data"
    }
   ],
   "source": [
    "%%javascript\n",
    "MathJax.Hub.Config({\n",
    "    TeX: { equationNumbers: { autoNumber: \"AMS\" } }\n",
    "});\n",
    "\n"
   ]
  },
  {
   "cell_type": "markdown",
   "metadata": {},
   "source": [
    "<img src=\"optimal_transport.png\">"
   ]
  },
  {
   "cell_type": "markdown",
   "metadata": {},
   "source": [
    "Optimal transport studies turning one measure to another while some cost of transportation is minimized. It started in 17 century with practical problems. The theory behind optimal transport developed extensively in nineteenth and twenteenth centruries."
   ]
  },
  {
   "cell_type": "markdown",
   "metadata": {},
   "source": [
    "In this post, I review the main theoretical ideas of optimal transport and their interpretations."
   ]
  },
  {
   "cell_type": "markdown",
   "metadata": {},
   "source": [
    "There are two major historical points in optimal transport marked with two names _Monge (1781)_ and _Kantorovich (1940)_. In order to compress in one sentence, Monge tried to find a deterministic transport map while Kantorovich is fine with a probabilistic map as well."
   ]
  },
  {
   "cell_type": "markdown",
   "metadata": {},
   "source": [
    "We start with a definition of _image measure_ that will be recurring over and over in this post."
   ]
  },
  {
   "cell_type": "markdown",
   "metadata": {},
   "source": [
    "**Definition 1.** _Given $X, Y$ spaces, take $T:X\\to Y$ and $\\mu\\in\\mathcal{P}(X)$. The image measure represented\n",
    "    $T_{\\#}\\mu\\in\\mathcal{P}(Y)$ as_\n",
    "    \\begin{equation}\n",
    "    \\forall A\\in \\mathcal{B}(Y): \\quad (T_\\#\\mu)(A):= \\mu(T^{-1}(A))\n",
    "    \\end{equation}"
   ]
  },
  {
   "cell_type": "markdown",
   "metadata": {},
   "source": [
    "It can be shown that $T_\\#\\mu$ is a probability measure on $Y$. Notice that this defintion is one-way, i.e., the pullback operator $S^\\#$ does not necessarily give a probability measure."
   ]
  },
  {
   "cell_type": "markdown",
   "metadata": {},
   "source": [
    "One practical way to check $\\nu\\stackrel{?}{=}T_\\#\\mu$ is to integrate all Borel and Bounded maps $\\phi:Y\\to\\mathbb{R}$ against the measures of both sides\n",
    "\\begin{equation}\n",
    "\\int_{Y} \\varphi(y) d \\nu(y)=\\int_{X} \\varphi(T(x)) d \\mu(x)\n",
    "\\end{equation}"
   ]
  },
  {
   "cell_type": "markdown",
   "metadata": {},
   "source": [
    "As a corollary, the _push-forward_ condition is known as\n",
    "\\begin{equation}\\label{eq:push_forward_condition}\n",
    "\\nu=T_{\\#} \\mu \\Rightarrow \\int_{Y} \\varphi d\\left(T_{\\#} \\mu\\right)=\\int_{X} \\varphi \\circ T d \\mu\n",
    "\\end{equation}\n",
    "for any $\\phi:X\\to\\mathbb{R}$ Borel and bounded.\n"
   ]
  },
  {
   "cell_type": "markdown",
   "metadata": {},
   "source": [
    "Measures can be pushed forward via the composition of functions\n",
    "\\begin{equation}\n",
    "(S \\circ T)_{\\#} \\mu=S_{\\#}\\left(T_{\\#} \\mu\\right)\n",
    "\\end{equation}"
   ]
  },
  {
   "cell_type": "markdown",
   "metadata": {},
   "source": [
    "**Definition 2.** _Given $\\mu\\in\\mathcal{P}(X)$ and $\\nu\\in\\mathcal{P}(Y)$, a map $T:X\\to Y$ \n",
    "    is called a **transport map** from $\\mu$ to $\\nu$ if $T_\\#\\mu=\\nu$. _"
   ]
  },
  {
   "cell_type": "markdown",
   "metadata": {},
   "source": [
    "With this defintion, given a $\\mu$ and $\\nu$, there might be no map that transports $\\mu$ to $\\nu$. \n",
    "To generalize a little bit, **coupling** is defined as a probabilistic map"
   ]
  },
  {
   "cell_type": "markdown",
   "metadata": {},
   "source": [
    "**Definition 3.** $\\gamma\\in\\mathcal{P}(X\\times Y)$ is called a coupling of $\\mu$ and $\\nu$ if_\n",
    "\\begin{equation}\n",
    "\\left(\\pi_{X}\\right)_{\\#} \\gamma=\\mu \\text { and }\\left(\\pi_{Y}\\right)_{\\#} \\gamma=\\nu\n",
    "\\end{equation}\n",
    "where\n",
    "\\begin{equation}\n",
    "\\pi_{X}(x, y)=x, \\quad \\pi_{Y}(x, y)=y \\quad \\forall(x, y) \\in X \\times Y\n",
    "\\end{equation}\n",
    "According to the push-forward condition \\eqref{eq:push_forward_condition}, Borel bounded functions $\\phi$ and $\\psi$ can be used verify a coupling as\n",
    "\\begin{equation}\n",
    "\\forall \\varphi: X \\rightarrow \\mathbb{R} \\quad \\int_{X \\times Y} \\varphi(x) d \\gamma(x, y)=\\int_{X \\times Y} \\varphi \\circ \\pi_{X}(x, y) d \\gamma(x, y)=\\int_{X} \\varphi(x) d \\mu(x)\n",
    "\\end{equation}\n",
    "and\n",
    "\\begin{equation}\n",
    "\\forall \\psi: Y \\rightarrow \\mathbb{R} \\quad \\int_{X \\times Y} \\psi(y) d \\gamma(x, y)=\\int_{X \\times Y} \\psi \\circ \\pi_{Y}(x, y) d \\gamma(x, y)=\\int_{Y} \\psi(y) d \\nu(y)\n",
    "\\end{equation}"
   ]
  },
  {
   "cell_type": "markdown",
   "metadata": {},
   "source": [
    "Let denote the set of all couplings of the measures $\\mu$ and $\\nu$ by $\\Gamma(\\mu, \\nu)$. Despite the transport map that can be non-existing for a given $\\mu$ and $\\nu$, $\\Gamma(\\mu, \\nu)$ is always non-empty. Because at least $\\gamma=\\mu \\otimes \\nu$.\n",
    "\n",
    "Any transport map $T$ induces a couple denoted by $\\gamma_T$ defined as\n"
   ]
  },
  {
   "cell_type": "code",
   "execution_count": 5,
   "metadata": {},
   "outputs": [
    {
     "data": {
      "application/javascript": [
       "MathJax.Hub.Queue(\n",
       "  [\"resetEquationNumbers\", MathJax.InputJax.TeX],\n",
       "  [\"PreProcess\", MathJax.Hub],\n",
       "  [\"Reprocess\", MathJax.Hub]\n",
       ");"
      ],
      "text/plain": [
       "<IPython.core.display.Javascript object>"
      ]
     },
     "metadata": {},
     "output_type": "display_data"
    }
   ],
   "source": [
    "%%javascript\n",
    "MathJax.Hub.Queue(\n",
    "  [\"resetEquationNumbers\", MathJax.InputJax.TeX],\n",
    "  [\"PreProcess\", MathJax.Hub],\n",
    "  [\"Reprocess\", MathJax.Hub]\n",
    ");"
   ]
  },
  {
   "cell_type": "code",
   "execution_count": null,
   "metadata": {
    "collapsed": true
   },
   "outputs": [],
   "source": []
  }
 ],
 "metadata": {
  "kernelspec": {
   "display_name": "Python 3",
   "language": "python",
   "name": "python3"
  },
  "language_info": {
   "codemirror_mode": {
    "name": "ipython",
    "version": 3
   },
   "file_extension": ".py",
   "mimetype": "text/x-python",
   "name": "python",
   "nbconvert_exporter": "python",
   "pygments_lexer": "ipython3",
   "version": "3.5.1"
  }
 },
 "nbformat": 4,
 "nbformat_minor": 2
}
