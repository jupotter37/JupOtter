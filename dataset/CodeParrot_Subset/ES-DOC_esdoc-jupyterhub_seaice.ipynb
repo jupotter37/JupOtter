{
    "nbformat_minor": 0, 
    "nbformat": 4, 
    "cells": [
        {
            "source": [
                "# ES-DOC CMIP6 Model Properties - Seaice \n", 
                "**MIP Era**: CMIP6  \n", 
                "**Institute**: THU  \n", 
                "**Source ID**: CIESM  \n", 
                "**Topic**: Seaice  \n", 
                "**Sub-Topics**: Dynamics, Thermodynamics, Radiative Processes.   \n", 
                "**Properties**: 80 (63 required)  \n", 
                "**Model descriptions**: [Model description details](https://specializations.es-doc.org/cmip6/seaice?client=jupyter-notebook)  \n", 
                "**Initialized From**: --  \n", 
                "\n", 
                "**Notebook Help**: [Goto notebook help page](https://es-doc.org/cmip6-models-documenting-with-ipython)  \n", 
                "**Notebook Initialised**: 2018-02-15 16:54:40"
            ], 
            "cell_type": "markdown", 
            "metadata": {}
        }, 
        {
            "source": [
                "### Document Setup  \n", 
                "**IMPORTANT: to be executed each time you run the notebook**  "
            ], 
            "cell_type": "markdown", 
            "metadata": {}
        }, 
        {
            "execution_count": null, 
            "cell_type": "code", 
            "source": [
                "# DO NOT EDIT !  \n", 
                "from pyesdoc.ipython.model_topic import NotebookOutput  \n", 
                "\n", 
                "# DO NOT EDIT !  \n", 
                "DOC = NotebookOutput('cmip6', 'thu', 'ciesm', 'seaice')"
            ], 
            "outputs": [], 
            "metadata": {}
        }, 
        {
            "source": [
                "### Document Authors  \n", 
                "*Set document authors*"
            ], 
            "cell_type": "markdown", 
            "metadata": {}
        }, 
        {
            "execution_count": null, 
            "cell_type": "code", 
            "source": [
                "# Set as follows: DOC.set_author(\"name\", \"email\")  \n", 
                "# TODO - please enter value(s)"
            ], 
            "outputs": [], 
            "metadata": {}
        }, 
        {
            "source": [
                "### Document Contributors  \n", 
                "*Specify document contributors*  "
            ], 
            "cell_type": "markdown", 
            "metadata": {}
        }, 
        {
            "execution_count": null, 
            "cell_type": "code", 
            "source": [
                "# Set as follows: DOC.set_contributor(\"name\", \"email\")  \n", 
                "# TODO - please enter value(s)"
            ], 
            "outputs": [], 
            "metadata": {}
        }, 
        {
            "source": [
                "### Document Publication  \n", 
                "*Specify document publication status*  "
            ], 
            "cell_type": "markdown", 
            "metadata": {}
        }, 
        {
            "execution_count": null, 
            "cell_type": "code", 
            "source": [
                "# Set publication status:  \n", 
                "# 0=do not publish, 1=publish.   \n", 
                "DOC.set_publication_status(0)"
            ], 
            "outputs": [], 
            "metadata": {}
        }, 
        {
            "source": [
                "### Document Table of Contents  \n", 
                "[1. Key Properties --&gt; Model](#1.-Key-Properties---&gt;-Model)  \n", 
                "[2. Key Properties --&gt; Variables](#2.-Key-Properties---&gt;-Variables)  \n", 
                "[3. Key Properties --&gt; Seawater Properties](#3.-Key-Properties---&gt;-Seawater-Properties)  \n", 
                "[4. Key Properties --&gt; Resolution](#4.-Key-Properties---&gt;-Resolution)  \n", 
                "[5. Key Properties --&gt; Tuning Applied](#5.-Key-Properties---&gt;-Tuning-Applied)  \n", 
                "[6. Key Properties --&gt; Key Parameter Values](#6.-Key-Properties---&gt;-Key-Parameter-Values)  \n", 
                "[7. Key Properties --&gt; Assumptions](#7.-Key-Properties---&gt;-Assumptions)  \n", 
                "[8. Key Properties --&gt; Conservation](#8.-Key-Properties---&gt;-Conservation)  \n", 
                "[9. Grid --&gt; Discretisation --&gt; Horizontal](#9.-Grid---&gt;-Discretisation---&gt;-Horizontal)  \n", 
                "[10. Grid --&gt; Discretisation --&gt; Vertical](#10.-Grid---&gt;-Discretisation---&gt;-Vertical)  \n", 
                "[11. Grid --&gt; Seaice Categories](#11.-Grid---&gt;-Seaice-Categories)  \n", 
                "[12. Grid --&gt; Snow On Seaice](#12.-Grid---&gt;-Snow-On-Seaice)  \n", 
                "[13. Dynamics](#13.-Dynamics)  \n", 
                "[14. Thermodynamics --&gt; Energy](#14.-Thermodynamics---&gt;-Energy)  \n", 
                "[15. Thermodynamics --&gt; Mass](#15.-Thermodynamics---&gt;-Mass)  \n", 
                "[16. Thermodynamics --&gt; Salt](#16.-Thermodynamics---&gt;-Salt)  \n", 
                "[17. Thermodynamics --&gt; Salt --&gt; Mass Transport](#17.-Thermodynamics---&gt;-Salt---&gt;-Mass-Transport)  \n", 
                "[18. Thermodynamics --&gt; Salt --&gt; Thermodynamics](#18.-Thermodynamics---&gt;-Salt---&gt;-Thermodynamics)  \n", 
                "[19. Thermodynamics --&gt; Ice Thickness Distribution](#19.-Thermodynamics---&gt;-Ice-Thickness-Distribution)  \n", 
                "[20. Thermodynamics --&gt; Ice Floe Size Distribution](#20.-Thermodynamics---&gt;-Ice-Floe-Size-Distribution)  \n", 
                "[21. Thermodynamics --&gt; Melt Ponds](#21.-Thermodynamics---&gt;-Melt-Ponds)  \n", 
                "[22. Thermodynamics --&gt; Snow Processes](#22.-Thermodynamics---&gt;-Snow-Processes)  \n", 
                "[23. Radiative Processes](#23.-Radiative-Processes)  \n", 
                "\n"
            ], 
            "cell_type": "markdown", 
            "metadata": {}
        }, 
        {
            "source": [
                "# 1. Key Properties --&gt; Model  \n", 
                "*Name of seaice model used.*"
            ], 
            "cell_type": "markdown", 
            "metadata": {}
        }, 
        {
            "source": [
                "### 1.1. Model Overview\n", 
                "**Is Required:** TRUE&nbsp;&nbsp;&nbsp;&nbsp;**Type:** STRING&nbsp;&nbsp;&nbsp;&nbsp;**Cardinality:** 1.1\n", 
                "### *Overview of sea ice model.*"
            ], 
            "cell_type": "markdown", 
            "metadata": {}
        }, 
        {
            "execution_count": null, 
            "cell_type": "code", 
            "source": [
                "# PROPERTY ID - DO NOT EDIT !  \n", 
                "DOC.set_id('cmip6.seaice.key_properties.model.model_overview')  \n", 
                "\n", 
                "# PROPERTY VALUE: \n", 
                "# Set as follows: DOC.set_value(\"value\")  \n", 
                "# TODO - please enter value(s)", 
                "\n"
            ], 
            "outputs": [], 
            "metadata": {
                "collapsed": true
            }
        }, 
        {
            "source": [
                "### 1.2. Model Name\n", 
                "**Is Required:** TRUE&nbsp;&nbsp;&nbsp;&nbsp;**Type:** STRING&nbsp;&nbsp;&nbsp;&nbsp;**Cardinality:** 1.1\n", 
                "### *Name of sea ice model code (e.g. CICE 4.2, LIM 2.1, etc.)*"
            ], 
            "cell_type": "markdown", 
            "metadata": {}
        }, 
        {
            "execution_count": null, 
            "cell_type": "code", 
            "source": [
                "# PROPERTY ID - DO NOT EDIT !  \n", 
                "DOC.set_id('cmip6.seaice.key_properties.model.model_name')  \n", 
                "\n", 
                "# PROPERTY VALUE: \n", 
                "# Set as follows: DOC.set_value(\"value\")  \n", 
                "# TODO - please enter value(s)", 
                "\n"
            ], 
            "outputs": [], 
            "metadata": {
                "collapsed": true
            }
        }, 
        {
            "source": [
                "# 2. Key Properties --&gt; Variables  \n", 
                "*List of prognostic variable in the sea ice model.*"
            ], 
            "cell_type": "markdown", 
            "metadata": {}
        }, 
        {
            "source": [
                "### 2.1. Prognostic\n", 
                "**Is Required:** TRUE&nbsp;&nbsp;&nbsp;&nbsp;**Type:** ENUM&nbsp;&nbsp;&nbsp;&nbsp;**Cardinality:** 1.N\n", 
                "### *List of prognostic variables in the sea ice component.*"
            ], 
            "cell_type": "markdown", 
            "metadata": {}
        }, 
        {
            "execution_count": null, 
            "cell_type": "code", 
            "source": [
                "# PROPERTY ID - DO NOT EDIT !  \n", 
                "DOC.set_id('cmip6.seaice.key_properties.variables.prognostic')  \n", 
                "\n", 
                "# PROPERTY VALUE(S): \n", 
                "# Set as follows: DOC.set_value(\"value\")  \n", 
                "# Valid Choices: \n", 
                "#      \"Sea ice temperature\"  \n", 
                "#      \"Sea ice concentration\"  \n", 
                "#      \"Sea ice thickness\"  \n", 
                "#      \"Sea ice volume per grid cell area\"  \n", 
                "#      \"Sea ice u-velocity\"  \n", 
                "#      \"Sea ice v-velocity\"  \n", 
                "#      \"Sea ice enthalpy\"  \n", 
                "#      \"Internal ice stress\"  \n", 
                "#      \"Salinity\"  \n", 
                "#      \"Snow temperature\"  \n", 
                "#      \"Snow depth\"  \n", 
                "#      \"Other: [Please specify]\"  \n", 
                "# TODO - please enter value(s)", 
                "\n"
            ], 
            "outputs": [], 
            "metadata": {
                "collapsed": true
            }
        }, 
        {
            "source": [
                "# 3. Key Properties --&gt; Seawater Properties  \n", 
                "*Properties of seawater relevant to sea ice*"
            ], 
            "cell_type": "markdown", 
            "metadata": {}
        }, 
        {
            "source": [
                "### 3.1. Ocean Freezing Point\n", 
                "**Is Required:** TRUE&nbsp;&nbsp;&nbsp;&nbsp;**Type:** ENUM&nbsp;&nbsp;&nbsp;&nbsp;**Cardinality:** 1.1\n", 
                "### *Equation used to compute the freezing point (in deg C) of seawater, as a function of salinity and pressure*"
            ], 
            "cell_type": "markdown", 
            "metadata": {}
        }, 
        {
            "execution_count": null, 
            "cell_type": "code", 
            "source": [
                "# PROPERTY ID - DO NOT EDIT !  \n", 
                "DOC.set_id('cmip6.seaice.key_properties.seawater_properties.ocean_freezing_point')  \n", 
                "\n", 
                "# PROPERTY VALUE: \n", 
                "# Set as follows: DOC.set_value(\"value\")  \n", 
                "# Valid Choices: \n", 
                "#      \"TEOS-10\"  \n", 
                "#      \"Constant\"  \n", 
                "#      \"Other: [Please specify]\"  \n", 
                "# TODO - please enter value(s)", 
                "\n"
            ], 
            "outputs": [], 
            "metadata": {
                "collapsed": true
            }
        }, 
        {
            "source": [
                "### 3.2. Ocean Freezing Point Value\n", 
                "**Is Required:** FALSE&nbsp;&nbsp;&nbsp;&nbsp;**Type:** FLOAT&nbsp;&nbsp;&nbsp;&nbsp;**Cardinality:** 0.1\n", 
                "### *If using a constant seawater freezing point, specify this value.*"
            ], 
            "cell_type": "markdown", 
            "metadata": {}
        }, 
        {
            "execution_count": null, 
            "cell_type": "code", 
            "source": [
                "# PROPERTY ID - DO NOT EDIT !  \n", 
                "DOC.set_id('cmip6.seaice.key_properties.seawater_properties.ocean_freezing_point_value')  \n", 
                "\n", 
                "# PROPERTY VALUE: \n", 
                "# Set as follows: DOC.set_value(value)  \n", 
                "# TODO - please enter value(s)", 
                "\n"
            ], 
            "outputs": [], 
            "metadata": {
                "collapsed": true
            }
        }, 
        {
            "source": [
                "# 4. Key Properties --&gt; Resolution  \n", 
                "*Resolution of the sea ice grid*"
            ], 
            "cell_type": "markdown", 
            "metadata": {}
        }, 
        {
            "source": [
                "### 4.1. Name\n", 
                "**Is Required:** TRUE&nbsp;&nbsp;&nbsp;&nbsp;**Type:** STRING&nbsp;&nbsp;&nbsp;&nbsp;**Cardinality:** 1.1\n", 
                "### *This is a string usually used by the modelling group to describe the resolution of this grid e.g. N512L180, T512L70, ORCA025 etc.*"
            ], 
            "cell_type": "markdown", 
            "metadata": {}
        }, 
        {
            "execution_count": null, 
            "cell_type": "code", 
            "source": [
                "# PROPERTY ID - DO NOT EDIT !  \n", 
                "DOC.set_id('cmip6.seaice.key_properties.resolution.name')  \n", 
                "\n", 
                "# PROPERTY VALUE: \n", 
                "# Set as follows: DOC.set_value(\"value\")  \n", 
                "# TODO - please enter value(s)", 
                "\n"
            ], 
            "outputs": [], 
            "metadata": {
                "collapsed": true
            }
        }, 
        {
            "source": [
                "### 4.2. Canonical Horizontal Resolution\n", 
                "**Is Required:** TRUE&nbsp;&nbsp;&nbsp;&nbsp;**Type:** STRING&nbsp;&nbsp;&nbsp;&nbsp;**Cardinality:** 1.1\n", 
                "### *Expression quoted for gross comparisons of resolution, eg. 50km or 0.1 degrees etc.*"
            ], 
            "cell_type": "markdown", 
            "metadata": {}
        }, 
        {
            "execution_count": null, 
            "cell_type": "code", 
            "source": [
                "# PROPERTY ID - DO NOT EDIT !  \n", 
                "DOC.set_id('cmip6.seaice.key_properties.resolution.canonical_horizontal_resolution')  \n", 
                "\n", 
                "# PROPERTY VALUE: \n", 
                "# Set as follows: DOC.set_value(\"value\")  \n", 
                "# TODO - please enter value(s)", 
                "\n"
            ], 
            "outputs": [], 
            "metadata": {
                "collapsed": true
            }
        }, 
        {
            "source": [
                "### 4.3. Number Of Horizontal Gridpoints\n", 
                "**Is Required:** TRUE&nbsp;&nbsp;&nbsp;&nbsp;**Type:** INTEGER&nbsp;&nbsp;&nbsp;&nbsp;**Cardinality:** 1.1\n", 
                "### *Total number of horizontal (XY) points (or degrees of freedom) on computational grid.*"
            ], 
            "cell_type": "markdown", 
            "metadata": {}
        }, 
        {
            "execution_count": null, 
            "cell_type": "code", 
            "source": [
                "# PROPERTY ID - DO NOT EDIT !  \n", 
                "DOC.set_id('cmip6.seaice.key_properties.resolution.number_of_horizontal_gridpoints')  \n", 
                "\n", 
                "# PROPERTY VALUE: \n", 
                "# Set as follows: DOC.set_value(value)  \n", 
                "# TODO - please enter value(s)", 
                "\n"
            ], 
            "outputs": [], 
            "metadata": {
                "collapsed": true
            }
        }, 
        {
            "source": [
                "# 5. Key Properties --&gt; Tuning Applied  \n", 
                "*Tuning applied to sea ice model component*"
            ], 
            "cell_type": "markdown", 
            "metadata": {}
        }, 
        {
            "source": [
                "### 5.1. Description\n", 
                "**Is Required:** TRUE&nbsp;&nbsp;&nbsp;&nbsp;**Type:** STRING&nbsp;&nbsp;&nbsp;&nbsp;**Cardinality:** 1.1\n", 
                "### *General overview description of tuning: explain and motivate the main targets and metrics retained.  Document the relative weight given to climate performance metrics versus process oriented metrics, and on the possible conflicts with parameterization level tuning. In particular describe any struggle with a parameter value that required pushing it to its limits to solve a particular model deficiency.*"
            ], 
            "cell_type": "markdown", 
            "metadata": {}
        }, 
        {
            "execution_count": null, 
            "cell_type": "code", 
            "source": [
                "# PROPERTY ID - DO NOT EDIT !  \n", 
                "DOC.set_id('cmip6.seaice.key_properties.tuning_applied.description')  \n", 
                "\n", 
                "# PROPERTY VALUE: \n", 
                "# Set as follows: DOC.set_value(\"value\")  \n", 
                "# TODO - please enter value(s)", 
                "\n"
            ], 
            "outputs": [], 
            "metadata": {
                "collapsed": true
            }
        }, 
        {
            "source": [
                "### 5.2. Target\n", 
                "**Is Required:** TRUE&nbsp;&nbsp;&nbsp;&nbsp;**Type:** STRING&nbsp;&nbsp;&nbsp;&nbsp;**Cardinality:** 1.1\n", 
                "### *What was the aim of tuning, e.g. correct sea ice minima, correct seasonal cycle.*"
            ], 
            "cell_type": "markdown", 
            "metadata": {}
        }, 
        {
            "execution_count": null, 
            "cell_type": "code", 
            "source": [
                "# PROPERTY ID - DO NOT EDIT !  \n", 
                "DOC.set_id('cmip6.seaice.key_properties.tuning_applied.target')  \n", 
                "\n", 
                "# PROPERTY VALUE: \n", 
                "# Set as follows: DOC.set_value(\"value\")  \n", 
                "# TODO - please enter value(s)", 
                "\n"
            ], 
            "outputs": [], 
            "metadata": {
                "collapsed": true
            }
        }, 
        {
            "source": [
                "### 5.3. Simulations\n", 
                "**Is Required:** TRUE&nbsp;&nbsp;&nbsp;&nbsp;**Type:** STRING&nbsp;&nbsp;&nbsp;&nbsp;**Cardinality:** 1.1\n", 
                "### *Which simulations had tuning applied, e.g. all, not historical, only pi-control? *"
            ], 
            "cell_type": "markdown", 
            "metadata": {}
        }, 
        {
            "execution_count": null, 
            "cell_type": "code", 
            "source": [
                "# PROPERTY ID - DO NOT EDIT !  \n", 
                "DOC.set_id('cmip6.seaice.key_properties.tuning_applied.simulations')  \n", 
                "\n", 
                "# PROPERTY VALUE: \n", 
                "# Set as follows: DOC.set_value(\"value\")  \n", 
                "# TODO - please enter value(s)", 
                "\n"
            ], 
            "outputs": [], 
            "metadata": {
                "collapsed": true
            }
        }, 
        {
            "source": [
                "### 5.4. Metrics Used\n", 
                "**Is Required:** TRUE&nbsp;&nbsp;&nbsp;&nbsp;**Type:** STRING&nbsp;&nbsp;&nbsp;&nbsp;**Cardinality:** 1.1\n", 
                "### *List any observed metrics used in tuning model/parameters*"
            ], 
            "cell_type": "markdown", 
            "metadata": {}
        }, 
        {
            "execution_count": null, 
            "cell_type": "code", 
            "source": [
                "# PROPERTY ID - DO NOT EDIT !  \n", 
                "DOC.set_id('cmip6.seaice.key_properties.tuning_applied.metrics_used')  \n", 
                "\n", 
                "# PROPERTY VALUE: \n", 
                "# Set as follows: DOC.set_value(\"value\")  \n", 
                "# TODO - please enter value(s)", 
                "\n"
            ], 
            "outputs": [], 
            "metadata": {
                "collapsed": true
            }
        }, 
        {
            "source": [
                "### 5.5. Variables\n", 
                "**Is Required:** FALSE&nbsp;&nbsp;&nbsp;&nbsp;**Type:** STRING&nbsp;&nbsp;&nbsp;&nbsp;**Cardinality:** 0.1\n", 
                "### *Which variables were changed during the tuning process?*"
            ], 
            "cell_type": "markdown", 
            "metadata": {}
        }, 
        {
            "execution_count": null, 
            "cell_type": "code", 
            "source": [
                "# PROPERTY ID - DO NOT EDIT !  \n", 
                "DOC.set_id('cmip6.seaice.key_properties.tuning_applied.variables')  \n", 
                "\n", 
                "# PROPERTY VALUE: \n", 
                "# Set as follows: DOC.set_value(\"value\")  \n", 
                "# TODO - please enter value(s)", 
                "\n"
            ], 
            "outputs": [], 
            "metadata": {
                "collapsed": true
            }
        }, 
        {
            "source": [
                "# 6. Key Properties --&gt; Key Parameter Values  \n", 
                "*Values of key parameters*"
            ], 
            "cell_type": "markdown", 
            "metadata": {}
        }, 
        {
            "source": [
                "### 6.1. Typical Parameters\n", 
                "**Is Required:** FALSE&nbsp;&nbsp;&nbsp;&nbsp;**Type:** ENUM&nbsp;&nbsp;&nbsp;&nbsp;**Cardinality:** 0.N\n", 
                "### *What values were specificed for the following parameters if used?*"
            ], 
            "cell_type": "markdown", 
            "metadata": {}
        }, 
        {
            "execution_count": null, 
            "cell_type": "code", 
            "source": [
                "# PROPERTY ID - DO NOT EDIT !  \n", 
                "DOC.set_id('cmip6.seaice.key_properties.key_parameter_values.typical_parameters')  \n", 
                "\n", 
                "# PROPERTY VALUE(S): \n", 
                "# Set as follows: DOC.set_value(\"value\")  \n", 
                "# Valid Choices: \n", 
                "#      \"Ice strength (P*) in units of N m{-2}\"  \n", 
                "#      \"Snow conductivity (ks) in units of W m{-1} K{-1} \"  \n", 
                "#      \"Minimum thickness of ice created in leads (h0) in units of m\"  \n", 
                "#      \"Other: [Please specify]\"  \n", 
                "# TODO - please enter value(s)", 
                "\n"
            ], 
            "outputs": [], 
            "metadata": {
                "collapsed": true
            }
        }, 
        {
            "source": [
                "### 6.2. Additional Parameters\n", 
                "**Is Required:** FALSE&nbsp;&nbsp;&nbsp;&nbsp;**Type:** STRING&nbsp;&nbsp;&nbsp;&nbsp;**Cardinality:** 0.N\n", 
                "### *If you have any additional paramterised values that you have used (e.g. minimum open water fraction or bare ice albedo), please provide them here as a comma separated list*"
            ], 
            "cell_type": "markdown", 
            "metadata": {}
        }, 
        {
            "execution_count": null, 
            "cell_type": "code", 
            "source": [
                "# PROPERTY ID - DO NOT EDIT !  \n", 
                "DOC.set_id('cmip6.seaice.key_properties.key_parameter_values.additional_parameters')  \n", 
                "\n", 
                "# PROPERTY VALUE(S): \n", 
                "# Set as follows: DOC.set_value(\"value\")  \n", 
                "# TODO - please enter value(s)", 
                "\n"
            ], 
            "outputs": [], 
            "metadata": {
                "collapsed": true
            }
        }, 
        {
            "source": [
                "# 7. Key Properties --&gt; Assumptions  \n", 
                "*Assumptions made in the sea ice model*"
            ], 
            "cell_type": "markdown", 
            "metadata": {}
        }, 
        {
            "source": [
                "### 7.1. Description\n", 
                "**Is Required:** TRUE&nbsp;&nbsp;&nbsp;&nbsp;**Type:** STRING&nbsp;&nbsp;&nbsp;&nbsp;**Cardinality:** 1.N\n", 
                "### *General overview description of any *key* assumptions made in this model.*"
            ], 
            "cell_type": "markdown", 
            "metadata": {}
        }, 
        {
            "execution_count": null, 
            "cell_type": "code", 
            "source": [
                "# PROPERTY ID - DO NOT EDIT !  \n", 
                "DOC.set_id('cmip6.seaice.key_properties.assumptions.description')  \n", 
                "\n", 
                "# PROPERTY VALUE(S): \n", 
                "# Set as follows: DOC.set_value(\"value\")  \n", 
                "# TODO - please enter value(s)", 
                "\n"
            ], 
            "outputs": [], 
            "metadata": {
                "collapsed": true
            }
        }, 
        {
            "source": [
                "### 7.2. On Diagnostic Variables\n", 
                "**Is Required:** TRUE&nbsp;&nbsp;&nbsp;&nbsp;**Type:** STRING&nbsp;&nbsp;&nbsp;&nbsp;**Cardinality:** 1.N\n", 
                "### *Note any assumptions that specifically affect the CMIP6 diagnostic sea ice variables.*"
            ], 
            "cell_type": "markdown", 
            "metadata": {}
        }, 
        {
            "execution_count": null, 
            "cell_type": "code", 
            "source": [
                "# PROPERTY ID - DO NOT EDIT !  \n", 
                "DOC.set_id('cmip6.seaice.key_properties.assumptions.on_diagnostic_variables')  \n", 
                "\n", 
                "# PROPERTY VALUE(S): \n", 
                "# Set as follows: DOC.set_value(\"value\")  \n", 
                "# TODO - please enter value(s)", 
                "\n"
            ], 
            "outputs": [], 
            "metadata": {
                "collapsed": true
            }
        }, 
        {
            "source": [
                "### 7.3. Missing Processes\n", 
                "**Is Required:** TRUE&nbsp;&nbsp;&nbsp;&nbsp;**Type:** STRING&nbsp;&nbsp;&nbsp;&nbsp;**Cardinality:** 1.N\n", 
                "### *List any *key* processes missing in this model configuration? Provide full details where this affects the CMIP6 diagnostic sea ice variables?*"
            ], 
            "cell_type": "markdown", 
            "metadata": {}
        }, 
        {
            "execution_count": null, 
            "cell_type": "code", 
            "source": [
                "# PROPERTY ID - DO NOT EDIT !  \n", 
                "DOC.set_id('cmip6.seaice.key_properties.assumptions.missing_processes')  \n", 
                "\n", 
                "# PROPERTY VALUE(S): \n", 
                "# Set as follows: DOC.set_value(\"value\")  \n", 
                "# TODO - please enter value(s)", 
                "\n"
            ], 
            "outputs": [], 
            "metadata": {
                "collapsed": true
            }
        }, 
        {
            "source": [
                "# 8. Key Properties --&gt; Conservation  \n", 
                "*Conservation in the sea ice component*"
            ], 
            "cell_type": "markdown", 
            "metadata": {}
        }, 
        {
            "source": [
                "### 8.1. Description\n", 
                "**Is Required:** TRUE&nbsp;&nbsp;&nbsp;&nbsp;**Type:** STRING&nbsp;&nbsp;&nbsp;&nbsp;**Cardinality:** 1.1\n", 
                "### *Provide a general description of conservation methodology.*"
            ], 
            "cell_type": "markdown", 
            "metadata": {}
        }, 
        {
            "execution_count": null, 
            "cell_type": "code", 
            "source": [
                "# PROPERTY ID - DO NOT EDIT !  \n", 
                "DOC.set_id('cmip6.seaice.key_properties.conservation.description')  \n", 
                "\n", 
                "# PROPERTY VALUE: \n", 
                "# Set as follows: DOC.set_value(\"value\")  \n", 
                "# TODO - please enter value(s)", 
                "\n"
            ], 
            "outputs": [], 
            "metadata": {
                "collapsed": true
            }
        }, 
        {
            "source": [
                "### 8.2. Properties\n", 
                "**Is Required:** TRUE&nbsp;&nbsp;&nbsp;&nbsp;**Type:** ENUM&nbsp;&nbsp;&nbsp;&nbsp;**Cardinality:** 1.N\n", 
                "### *Properties conserved in sea ice by the numerical schemes.*"
            ], 
            "cell_type": "markdown", 
            "metadata": {}
        }, 
        {
            "execution_count": null, 
            "cell_type": "code", 
            "source": [
                "# PROPERTY ID - DO NOT EDIT !  \n", 
                "DOC.set_id('cmip6.seaice.key_properties.conservation.properties')  \n", 
                "\n", 
                "# PROPERTY VALUE(S): \n", 
                "# Set as follows: DOC.set_value(\"value\")  \n", 
                "# Valid Choices: \n", 
                "#      \"Energy\"  \n", 
                "#      \"Mass\"  \n", 
                "#      \"Salt\"  \n", 
                "#      \"Other: [Please specify]\"  \n", 
                "# TODO - please enter value(s)", 
                "\n"
            ], 
            "outputs": [], 
            "metadata": {
                "collapsed": true
            }
        }, 
        {
            "source": [
                "### 8.3. Budget\n", 
                "**Is Required:** TRUE&nbsp;&nbsp;&nbsp;&nbsp;**Type:** STRING&nbsp;&nbsp;&nbsp;&nbsp;**Cardinality:** 1.1\n", 
                "### *For each conserved property, specify the output variables which close the related budgets. as a comma separated list. For example: Conserved property, variable1, variable2, variable3*"
            ], 
            "cell_type": "markdown", 
            "metadata": {}
        }, 
        {
            "execution_count": null, 
            "cell_type": "code", 
            "source": [
                "# PROPERTY ID - DO NOT EDIT !  \n", 
                "DOC.set_id('cmip6.seaice.key_properties.conservation.budget')  \n", 
                "\n", 
                "# PROPERTY VALUE: \n", 
                "# Set as follows: DOC.set_value(\"value\")  \n", 
                "# TODO - please enter value(s)", 
                "\n"
            ], 
            "outputs": [], 
            "metadata": {
                "collapsed": true
            }
        }, 
        {
            "source": [
                "### 8.4. Was Flux Correction Used\n", 
                "**Is Required:** TRUE&nbsp;&nbsp;&nbsp;&nbsp;**Type:** BOOLEAN&nbsp;&nbsp;&nbsp;&nbsp;**Cardinality:** 1.1\n", 
                "### *Does conservation involved flux correction?*"
            ], 
            "cell_type": "markdown", 
            "metadata": {}
        }, 
        {
            "execution_count": null, 
            "cell_type": "code", 
            "source": [
                "# PROPERTY ID - DO NOT EDIT !  \n", 
                "DOC.set_id('cmip6.seaice.key_properties.conservation.was_flux_correction_used')  \n", 
                "\n", 
                "# PROPERTY VALUE: \n", 
                "# Set as follows: DOC.set_value(value)  \n", 
                "# Valid Choices: \n", 
                "#     True  \n", 
                "#     False  \n", 
                "# TODO - please enter value(s)", 
                "\n"
            ], 
            "outputs": [], 
            "metadata": {
                "collapsed": true
            }
        }, 
        {
            "source": [
                "### 8.5. Corrected Conserved Prognostic Variables\n", 
                "**Is Required:** TRUE&nbsp;&nbsp;&nbsp;&nbsp;**Type:** STRING&nbsp;&nbsp;&nbsp;&nbsp;**Cardinality:** 1.1\n", 
                "### *List any variables which are conserved by *more* than the numerical scheme alone.*"
            ], 
            "cell_type": "markdown", 
            "metadata": {}
        }, 
        {
            "execution_count": null, 
            "cell_type": "code", 
            "source": [
                "# PROPERTY ID - DO NOT EDIT !  \n", 
                "DOC.set_id('cmip6.seaice.key_properties.conservation.corrected_conserved_prognostic_variables')  \n", 
                "\n", 
                "# PROPERTY VALUE: \n", 
                "# Set as follows: DOC.set_value(\"value\")  \n", 
                "# TODO - please enter value(s)", 
                "\n"
            ], 
            "outputs": [], 
            "metadata": {
                "collapsed": true
            }
        }, 
        {
            "source": [
                "# 9. Grid --&gt; Discretisation --&gt; Horizontal  \n", 
                "*Sea ice discretisation in the horizontal*"
            ], 
            "cell_type": "markdown", 
            "metadata": {}
        }, 
        {
            "source": [
                "### 9.1. Grid\n", 
                "**Is Required:** TRUE&nbsp;&nbsp;&nbsp;&nbsp;**Type:** ENUM&nbsp;&nbsp;&nbsp;&nbsp;**Cardinality:** 1.1\n", 
                "### *Grid on which sea ice is horizontal discretised?*"
            ], 
            "cell_type": "markdown", 
            "metadata": {}
        }, 
        {
            "execution_count": null, 
            "cell_type": "code", 
            "source": [
                "# PROPERTY ID - DO NOT EDIT !  \n", 
                "DOC.set_id('cmip6.seaice.grid.discretisation.horizontal.grid')  \n", 
                "\n", 
                "# PROPERTY VALUE: \n", 
                "# Set as follows: DOC.set_value(\"value\")  \n", 
                "# Valid Choices: \n", 
                "#      \"Ocean grid\"  \n", 
                "#      \"Atmosphere Grid\"  \n", 
                "#      \"Own Grid\"  \n", 
                "#      \"Other: [Please specify]\"  \n", 
                "# TODO - please enter value(s)", 
                "\n"
            ], 
            "outputs": [], 
            "metadata": {
                "collapsed": true
            }
        }, 
        {
            "source": [
                "### 9.2. Grid Type\n", 
                "**Is Required:** TRUE&nbsp;&nbsp;&nbsp;&nbsp;**Type:** ENUM&nbsp;&nbsp;&nbsp;&nbsp;**Cardinality:** 1.1\n", 
                "### *What is the type of sea ice grid?*"
            ], 
            "cell_type": "markdown", 
            "metadata": {}
        }, 
        {
            "execution_count": null, 
            "cell_type": "code", 
            "source": [
                "# PROPERTY ID - DO NOT EDIT !  \n", 
                "DOC.set_id('cmip6.seaice.grid.discretisation.horizontal.grid_type')  \n", 
                "\n", 
                "# PROPERTY VALUE: \n", 
                "# Set as follows: DOC.set_value(\"value\")  \n", 
                "# Valid Choices: \n", 
                "#      \"Structured grid\"  \n", 
                "#      \"Unstructured grid\"  \n", 
                "#      \"Adaptive grid\"  \n", 
                "#      \"Other: [Please specify]\"  \n", 
                "# TODO - please enter value(s)", 
                "\n"
            ], 
            "outputs": [], 
            "metadata": {
                "collapsed": true
            }
        }, 
        {
            "source": [
                "### 9.3. Scheme\n", 
                "**Is Required:** TRUE&nbsp;&nbsp;&nbsp;&nbsp;**Type:** ENUM&nbsp;&nbsp;&nbsp;&nbsp;**Cardinality:** 1.1\n", 
                "### *What is the advection scheme?*"
            ], 
            "cell_type": "markdown", 
            "metadata": {}
        }, 
        {
            "execution_count": null, 
            "cell_type": "code", 
            "source": [
                "# PROPERTY ID - DO NOT EDIT !  \n", 
                "DOC.set_id('cmip6.seaice.grid.discretisation.horizontal.scheme')  \n", 
                "\n", 
                "# PROPERTY VALUE: \n", 
                "# Set as follows: DOC.set_value(\"value\")  \n", 
                "# Valid Choices: \n", 
                "#      \"Finite differences\"  \n", 
                "#      \"Finite elements\"  \n", 
                "#      \"Finite volumes\"  \n", 
                "#      \"Other: [Please specify]\"  \n", 
                "# TODO - please enter value(s)", 
                "\n"
            ], 
            "outputs": [], 
            "metadata": {
                "collapsed": true
            }
        }, 
        {
            "source": [
                "### 9.4. Thermodynamics Time Step\n", 
                "**Is Required:** TRUE&nbsp;&nbsp;&nbsp;&nbsp;**Type:** INTEGER&nbsp;&nbsp;&nbsp;&nbsp;**Cardinality:** 1.1\n", 
                "### *What is the time step in the sea ice model thermodynamic component in seconds.*"
            ], 
            "cell_type": "markdown", 
            "metadata": {}
        }, 
        {
            "execution_count": null, 
            "cell_type": "code", 
            "source": [
                "# PROPERTY ID - DO NOT EDIT !  \n", 
                "DOC.set_id('cmip6.seaice.grid.discretisation.horizontal.thermodynamics_time_step')  \n", 
                "\n", 
                "# PROPERTY VALUE: \n", 
                "# Set as follows: DOC.set_value(value)  \n", 
                "# TODO - please enter value(s)", 
                "\n"
            ], 
            "outputs": [], 
            "metadata": {
                "collapsed": true
            }
        }, 
        {
            "source": [
                "### 9.5. Dynamics Time Step\n", 
                "**Is Required:** TRUE&nbsp;&nbsp;&nbsp;&nbsp;**Type:** INTEGER&nbsp;&nbsp;&nbsp;&nbsp;**Cardinality:** 1.1\n", 
                "### *What is the time step in the sea ice model dynamic component in seconds.*"
            ], 
            "cell_type": "markdown", 
            "metadata": {}
        }, 
        {
            "execution_count": null, 
            "cell_type": "code", 
            "source": [
                "# PROPERTY ID - DO NOT EDIT !  \n", 
                "DOC.set_id('cmip6.seaice.grid.discretisation.horizontal.dynamics_time_step')  \n", 
                "\n", 
                "# PROPERTY VALUE: \n", 
                "# Set as follows: DOC.set_value(value)  \n", 
                "# TODO - please enter value(s)", 
                "\n"
            ], 
            "outputs": [], 
            "metadata": {
                "collapsed": true
            }
        }, 
        {
            "source": [
                "### 9.6. Additional Details\n", 
                "**Is Required:** FALSE&nbsp;&nbsp;&nbsp;&nbsp;**Type:** STRING&nbsp;&nbsp;&nbsp;&nbsp;**Cardinality:** 0.1\n", 
                "### *Specify any additional horizontal discretisation details.*"
            ], 
            "cell_type": "markdown", 
            "metadata": {}
        }, 
        {
            "execution_count": null, 
            "cell_type": "code", 
            "source": [
                "# PROPERTY ID - DO NOT EDIT !  \n", 
                "DOC.set_id('cmip6.seaice.grid.discretisation.horizontal.additional_details')  \n", 
                "\n", 
                "# PROPERTY VALUE: \n", 
                "# Set as follows: DOC.set_value(\"value\")  \n", 
                "# TODO - please enter value(s)", 
                "\n"
            ], 
            "outputs": [], 
            "metadata": {
                "collapsed": true
            }
        }, 
        {
            "source": [
                "# 10. Grid --&gt; Discretisation --&gt; Vertical  \n", 
                "*Sea ice vertical properties*"
            ], 
            "cell_type": "markdown", 
            "metadata": {}
        }, 
        {
            "source": [
                "### 10.1. Layering\n", 
                "**Is Required:** TRUE&nbsp;&nbsp;&nbsp;&nbsp;**Type:** ENUM&nbsp;&nbsp;&nbsp;&nbsp;**Cardinality:** 1.N\n", 
                "### *What type of sea ice vertical layers are implemented for purposes of thermodynamic calculations?*"
            ], 
            "cell_type": "markdown", 
            "metadata": {}
        }, 
        {
            "execution_count": null, 
            "cell_type": "code", 
            "source": [
                "# PROPERTY ID - DO NOT EDIT !  \n", 
                "DOC.set_id('cmip6.seaice.grid.discretisation.vertical.layering')  \n", 
                "\n", 
                "# PROPERTY VALUE(S): \n", 
                "# Set as follows: DOC.set_value(\"value\")  \n", 
                "# Valid Choices: \n", 
                "#      \"Zero-layer\"  \n", 
                "#      \"Two-layers\"  \n", 
                "#      \"Multi-layers\"  \n", 
                "#      \"Other: [Please specify]\"  \n", 
                "# TODO - please enter value(s)", 
                "\n"
            ], 
            "outputs": [], 
            "metadata": {
                "collapsed": true
            }
        }, 
        {
            "source": [
                "### 10.2. Number Of Layers\n", 
                "**Is Required:** TRUE&nbsp;&nbsp;&nbsp;&nbsp;**Type:** INTEGER&nbsp;&nbsp;&nbsp;&nbsp;**Cardinality:** 1.1\n", 
                "### *If using multi-layers specify how many.*"
            ], 
            "cell_type": "markdown", 
            "metadata": {}
        }, 
        {
            "execution_count": null, 
            "cell_type": "code", 
            "source": [
                "# PROPERTY ID - DO NOT EDIT !  \n", 
                "DOC.set_id('cmip6.seaice.grid.discretisation.vertical.number_of_layers')  \n", 
                "\n", 
                "# PROPERTY VALUE: \n", 
                "# Set as follows: DOC.set_value(value)  \n", 
                "# TODO - please enter value(s)", 
                "\n"
            ], 
            "outputs": [], 
            "metadata": {
                "collapsed": true
            }
        }, 
        {
            "source": [
                "### 10.3. Additional Details\n", 
                "**Is Required:** FALSE&nbsp;&nbsp;&nbsp;&nbsp;**Type:** STRING&nbsp;&nbsp;&nbsp;&nbsp;**Cardinality:** 0.1\n", 
                "### *Specify any additional vertical grid details.*"
            ], 
            "cell_type": "markdown", 
            "metadata": {}
        }, 
        {
            "execution_count": null, 
            "cell_type": "code", 
            "source": [
                "# PROPERTY ID - DO NOT EDIT !  \n", 
                "DOC.set_id('cmip6.seaice.grid.discretisation.vertical.additional_details')  \n", 
                "\n", 
                "# PROPERTY VALUE: \n", 
                "# Set as follows: DOC.set_value(\"value\")  \n", 
                "# TODO - please enter value(s)", 
                "\n"
            ], 
            "outputs": [], 
            "metadata": {
                "collapsed": true
            }
        }, 
        {
            "source": [
                "# 11. Grid --&gt; Seaice Categories  \n", 
                "*What method is used to represent sea ice categories ?*"
            ], 
            "cell_type": "markdown", 
            "metadata": {}
        }, 
        {
            "source": [
                "### 11.1. Has Mulitple Categories\n", 
                "**Is Required:** TRUE&nbsp;&nbsp;&nbsp;&nbsp;**Type:** BOOLEAN&nbsp;&nbsp;&nbsp;&nbsp;**Cardinality:** 1.1\n", 
                "### *Set to true if the sea ice model has multiple sea ice categories.*"
            ], 
            "cell_type": "markdown", 
            "metadata": {}
        }, 
        {
            "execution_count": null, 
            "cell_type": "code", 
            "source": [
                "# PROPERTY ID - DO NOT EDIT !  \n", 
                "DOC.set_id('cmip6.seaice.grid.seaice_categories.has_mulitple_categories')  \n", 
                "\n", 
                "# PROPERTY VALUE: \n", 
                "# Set as follows: DOC.set_value(value)  \n", 
                "# Valid Choices: \n", 
                "#     True  \n", 
                "#     False  \n", 
                "# TODO - please enter value(s)", 
                "\n"
            ], 
            "outputs": [], 
            "metadata": {
                "collapsed": true
            }
        }, 
        {
            "source": [
                "### 11.2. Number Of Categories\n", 
                "**Is Required:** TRUE&nbsp;&nbsp;&nbsp;&nbsp;**Type:** INTEGER&nbsp;&nbsp;&nbsp;&nbsp;**Cardinality:** 1.1\n", 
                "### *If using sea ice categories specify how many.*"
            ], 
            "cell_type": "markdown", 
            "metadata": {}
        }, 
        {
            "execution_count": null, 
            "cell_type": "code", 
            "source": [
                "# PROPERTY ID - DO NOT EDIT !  \n", 
                "DOC.set_id('cmip6.seaice.grid.seaice_categories.number_of_categories')  \n", 
                "\n", 
                "# PROPERTY VALUE: \n", 
                "# Set as follows: DOC.set_value(value)  \n", 
                "# TODO - please enter value(s)", 
                "\n"
            ], 
            "outputs": [], 
            "metadata": {
                "collapsed": true
            }
        }, 
        {
            "source": [
                "### 11.3. Category Limits\n", 
                "**Is Required:** TRUE&nbsp;&nbsp;&nbsp;&nbsp;**Type:** STRING&nbsp;&nbsp;&nbsp;&nbsp;**Cardinality:** 1.1\n", 
                "### *If using sea ice categories specify each of the category limits.*"
            ], 
            "cell_type": "markdown", 
            "metadata": {}
        }, 
        {
            "execution_count": null, 
            "cell_type": "code", 
            "source": [
                "# PROPERTY ID - DO NOT EDIT !  \n", 
                "DOC.set_id('cmip6.seaice.grid.seaice_categories.category_limits')  \n", 
                "\n", 
                "# PROPERTY VALUE: \n", 
                "# Set as follows: DOC.set_value(\"value\")  \n", 
                "# TODO - please enter value(s)", 
                "\n"
            ], 
            "outputs": [], 
            "metadata": {
                "collapsed": true
            }
        }, 
        {
            "source": [
                "### 11.4. Ice Thickness Distribution Scheme\n", 
                "**Is Required:** TRUE&nbsp;&nbsp;&nbsp;&nbsp;**Type:** STRING&nbsp;&nbsp;&nbsp;&nbsp;**Cardinality:** 1.1\n", 
                "### *Describe the sea ice thickness distribution scheme*"
            ], 
            "cell_type": "markdown", 
            "metadata": {}
        }, 
        {
            "execution_count": null, 
            "cell_type": "code", 
            "source": [
                "# PROPERTY ID - DO NOT EDIT !  \n", 
                "DOC.set_id('cmip6.seaice.grid.seaice_categories.ice_thickness_distribution_scheme')  \n", 
                "\n", 
                "# PROPERTY VALUE: \n", 
                "# Set as follows: DOC.set_value(\"value\")  \n", 
                "# TODO - please enter value(s)", 
                "\n"
            ], 
            "outputs": [], 
            "metadata": {
                "collapsed": true
            }
        }, 
        {
            "source": [
                "### 11.5. Other\n", 
                "**Is Required:** FALSE&nbsp;&nbsp;&nbsp;&nbsp;**Type:** STRING&nbsp;&nbsp;&nbsp;&nbsp;**Cardinality:** 0.1\n", 
                "### *If the sea ice model does not use sea ice categories specify any additional details. For example models that paramterise the ice thickness distribution ITD (i.e there is no explicit ITD) but there is assumed distribution and fluxes are computed accordingly.*"
            ], 
            "cell_type": "markdown", 
            "metadata": {}
        }, 
        {
            "execution_count": null, 
            "cell_type": "code", 
            "source": [
                "# PROPERTY ID - DO NOT EDIT !  \n", 
                "DOC.set_id('cmip6.seaice.grid.seaice_categories.other')  \n", 
                "\n", 
                "# PROPERTY VALUE: \n", 
                "# Set as follows: DOC.set_value(\"value\")  \n", 
                "# TODO - please enter value(s)", 
                "\n"
            ], 
            "outputs": [], 
            "metadata": {
                "collapsed": true
            }
        }, 
        {
            "source": [
                "# 12. Grid --&gt; Snow On Seaice  \n", 
                "*Snow on sea ice details*"
            ], 
            "cell_type": "markdown", 
            "metadata": {}
        }, 
        {
            "source": [
                "### 12.1. Has Snow On Ice\n", 
                "**Is Required:** TRUE&nbsp;&nbsp;&nbsp;&nbsp;**Type:** BOOLEAN&nbsp;&nbsp;&nbsp;&nbsp;**Cardinality:** 1.1\n", 
                "### *Is snow on ice represented in this model?*"
            ], 
            "cell_type": "markdown", 
            "metadata": {}
        }, 
        {
            "execution_count": null, 
            "cell_type": "code", 
            "source": [
                "# PROPERTY ID - DO NOT EDIT !  \n", 
                "DOC.set_id('cmip6.seaice.grid.snow_on_seaice.has_snow_on_ice')  \n", 
                "\n", 
                "# PROPERTY VALUE: \n", 
                "# Set as follows: DOC.set_value(value)  \n", 
                "# Valid Choices: \n", 
                "#     True  \n", 
                "#     False  \n", 
                "# TODO - please enter value(s)", 
                "\n"
            ], 
            "outputs": [], 
            "metadata": {
                "collapsed": true
            }
        }, 
        {
            "source": [
                "### 12.2. Number Of Snow Levels\n", 
                "**Is Required:** TRUE&nbsp;&nbsp;&nbsp;&nbsp;**Type:** INTEGER&nbsp;&nbsp;&nbsp;&nbsp;**Cardinality:** 1.1\n", 
                "### *Number of vertical levels of snow on ice?*"
            ], 
            "cell_type": "markdown", 
            "metadata": {}
        }, 
        {
            "execution_count": null, 
            "cell_type": "code", 
            "source": [
                "# PROPERTY ID - DO NOT EDIT !  \n", 
                "DOC.set_id('cmip6.seaice.grid.snow_on_seaice.number_of_snow_levels')  \n", 
                "\n", 
                "# PROPERTY VALUE: \n", 
                "# Set as follows: DOC.set_value(value)  \n", 
                "# TODO - please enter value(s)", 
                "\n"
            ], 
            "outputs": [], 
            "metadata": {
                "collapsed": true
            }
        }, 
        {
            "source": [
                "### 12.3. Snow Fraction\n", 
                "**Is Required:** TRUE&nbsp;&nbsp;&nbsp;&nbsp;**Type:** STRING&nbsp;&nbsp;&nbsp;&nbsp;**Cardinality:** 1.1\n", 
                "### *Describe how the snow fraction on sea ice is determined*"
            ], 
            "cell_type": "markdown", 
            "metadata": {}
        }, 
        {
            "execution_count": null, 
            "cell_type": "code", 
            "source": [
                "# PROPERTY ID - DO NOT EDIT !  \n", 
                "DOC.set_id('cmip6.seaice.grid.snow_on_seaice.snow_fraction')  \n", 
                "\n", 
                "# PROPERTY VALUE: \n", 
                "# Set as follows: DOC.set_value(\"value\")  \n", 
                "# TODO - please enter value(s)", 
                "\n"
            ], 
            "outputs": [], 
            "metadata": {
                "collapsed": true
            }
        }, 
        {
            "source": [
                "### 12.4. Additional Details\n", 
                "**Is Required:** FALSE&nbsp;&nbsp;&nbsp;&nbsp;**Type:** STRING&nbsp;&nbsp;&nbsp;&nbsp;**Cardinality:** 0.1\n", 
                "### *Specify any additional details related to snow on ice.*"
            ], 
            "cell_type": "markdown", 
            "metadata": {}
        }, 
        {
            "execution_count": null, 
            "cell_type": "code", 
            "source": [
                "# PROPERTY ID - DO NOT EDIT !  \n", 
                "DOC.set_id('cmip6.seaice.grid.snow_on_seaice.additional_details')  \n", 
                "\n", 
                "# PROPERTY VALUE: \n", 
                "# Set as follows: DOC.set_value(\"value\")  \n", 
                "# TODO - please enter value(s)", 
                "\n"
            ], 
            "outputs": [], 
            "metadata": {
                "collapsed": true
            }
        }, 
        {
            "source": [
                "# 13. Dynamics  \n", 
                "*Sea Ice Dynamics*"
            ], 
            "cell_type": "markdown", 
            "metadata": {}
        }, 
        {
            "source": [
                "### 13.1. Horizontal Transport\n", 
                "**Is Required:** TRUE&nbsp;&nbsp;&nbsp;&nbsp;**Type:** ENUM&nbsp;&nbsp;&nbsp;&nbsp;**Cardinality:** 1.1\n", 
                "### *What is the method of horizontal advection of sea ice?*"
            ], 
            "cell_type": "markdown", 
            "metadata": {}
        }, 
        {
            "execution_count": null, 
            "cell_type": "code", 
            "source": [
                "# PROPERTY ID - DO NOT EDIT !  \n", 
                "DOC.set_id('cmip6.seaice.dynamics.horizontal_transport')  \n", 
                "\n", 
                "# PROPERTY VALUE: \n", 
                "# Set as follows: DOC.set_value(\"value\")  \n", 
                "# Valid Choices: \n", 
                "#      \"Incremental Re-mapping\"  \n", 
                "#      \"Prather\"  \n", 
                "#      \"Eulerian\"  \n", 
                "#      \"Other: [Please specify]\"  \n", 
                "# TODO - please enter value(s)", 
                "\n"
            ], 
            "outputs": [], 
            "metadata": {
                "collapsed": true
            }
        }, 
        {
            "source": [
                "### 13.2. Transport In Thickness Space\n", 
                "**Is Required:** TRUE&nbsp;&nbsp;&nbsp;&nbsp;**Type:** ENUM&nbsp;&nbsp;&nbsp;&nbsp;**Cardinality:** 1.1\n", 
                "### *What is the method of sea ice transport in thickness space (i.e. in thickness categories)?*"
            ], 
            "cell_type": "markdown", 
            "metadata": {}
        }, 
        {
            "execution_count": null, 
            "cell_type": "code", 
            "source": [
                "# PROPERTY ID - DO NOT EDIT !  \n", 
                "DOC.set_id('cmip6.seaice.dynamics.transport_in_thickness_space')  \n", 
                "\n", 
                "# PROPERTY VALUE: \n", 
                "# Set as follows: DOC.set_value(\"value\")  \n", 
                "# Valid Choices: \n", 
                "#      \"Incremental Re-mapping\"  \n", 
                "#      \"Prather\"  \n", 
                "#      \"Eulerian\"  \n", 
                "#      \"Other: [Please specify]\"  \n", 
                "# TODO - please enter value(s)", 
                "\n"
            ], 
            "outputs": [], 
            "metadata": {
                "collapsed": true
            }
        }, 
        {
            "source": [
                "### 13.3. Ice Strength Formulation\n", 
                "**Is Required:** TRUE&nbsp;&nbsp;&nbsp;&nbsp;**Type:** ENUM&nbsp;&nbsp;&nbsp;&nbsp;**Cardinality:** 1.1\n", 
                "### *Which method of sea ice strength formulation is used?*"
            ], 
            "cell_type": "markdown", 
            "metadata": {}
        }, 
        {
            "execution_count": null, 
            "cell_type": "code", 
            "source": [
                "# PROPERTY ID - DO NOT EDIT !  \n", 
                "DOC.set_id('cmip6.seaice.dynamics.ice_strength_formulation')  \n", 
                "\n", 
                "# PROPERTY VALUE: \n", 
                "# Set as follows: DOC.set_value(\"value\")  \n", 
                "# Valid Choices: \n", 
                "#      \"Hibler 1979\"  \n", 
                "#      \"Rothrock 1975\"  \n", 
                "#      \"Other: [Please specify]\"  \n", 
                "# TODO - please enter value(s)", 
                "\n"
            ], 
            "outputs": [], 
            "metadata": {
                "collapsed": true
            }
        }, 
        {
            "source": [
                "### 13.4. Redistribution\n", 
                "**Is Required:** TRUE&nbsp;&nbsp;&nbsp;&nbsp;**Type:** ENUM&nbsp;&nbsp;&nbsp;&nbsp;**Cardinality:** 1.N\n", 
                "### *Which processes can redistribute sea ice (including thickness)?*"
            ], 
            "cell_type": "markdown", 
            "metadata": {}
        }, 
        {
            "execution_count": null, 
            "cell_type": "code", 
            "source": [
                "# PROPERTY ID - DO NOT EDIT !  \n", 
                "DOC.set_id('cmip6.seaice.dynamics.redistribution')  \n", 
                "\n", 
                "# PROPERTY VALUE(S): \n", 
                "# Set as follows: DOC.set_value(\"value\")  \n", 
                "# Valid Choices: \n", 
                "#      \"Rafting\"  \n", 
                "#      \"Ridging\"  \n", 
                "#      \"Other: [Please specify]\"  \n", 
                "# TODO - please enter value(s)", 
                "\n"
            ], 
            "outputs": [], 
            "metadata": {
                "collapsed": true
            }
        }, 
        {
            "source": [
                "### 13.5. Rheology\n", 
                "**Is Required:** TRUE&nbsp;&nbsp;&nbsp;&nbsp;**Type:** ENUM&nbsp;&nbsp;&nbsp;&nbsp;**Cardinality:** 1.1\n", 
                "### *Rheology, what is the ice deformation formulation?*"
            ], 
            "cell_type": "markdown", 
            "metadata": {}
        }, 
        {
            "execution_count": null, 
            "cell_type": "code", 
            "source": [
                "# PROPERTY ID - DO NOT EDIT !  \n", 
                "DOC.set_id('cmip6.seaice.dynamics.rheology')  \n", 
                "\n", 
                "# PROPERTY VALUE: \n", 
                "# Set as follows: DOC.set_value(\"value\")  \n", 
                "# Valid Choices: \n", 
                "#      \"Free-drift\"  \n", 
                "#      \"Mohr-Coloumb\"  \n", 
                "#      \"Visco-plastic\"  \n", 
                "#      \"Elastic-visco-plastic\"  \n", 
                "#      \"Elastic-anisotropic-plastic\"  \n", 
                "#      \"Granular\"  \n", 
                "#      \"Other: [Please specify]\"  \n", 
                "# TODO - please enter value(s)", 
                "\n"
            ], 
            "outputs": [], 
            "metadata": {
                "collapsed": true
            }
        }, 
        {
            "source": [
                "# 14. Thermodynamics --&gt; Energy  \n", 
                "*Processes related to energy in sea ice thermodynamics*"
            ], 
            "cell_type": "markdown", 
            "metadata": {}
        }, 
        {
            "source": [
                "### 14.1. Enthalpy Formulation\n", 
                "**Is Required:** TRUE&nbsp;&nbsp;&nbsp;&nbsp;**Type:** ENUM&nbsp;&nbsp;&nbsp;&nbsp;**Cardinality:** 1.1\n", 
                "### *What is the energy formulation?*"
            ], 
            "cell_type": "markdown", 
            "metadata": {}
        }, 
        {
            "execution_count": null, 
            "cell_type": "code", 
            "source": [
                "# PROPERTY ID - DO NOT EDIT !  \n", 
                "DOC.set_id('cmip6.seaice.thermodynamics.energy.enthalpy_formulation')  \n", 
                "\n", 
                "# PROPERTY VALUE: \n", 
                "# Set as follows: DOC.set_value(\"value\")  \n", 
                "# Valid Choices: \n", 
                "#      \"Pure ice latent heat (Semtner 0-layer)\"  \n", 
                "#      \"Pure ice latent and sensible heat\"  \n", 
                "#      \"Pure ice latent and sensible heat + brine heat reservoir (Semtner 3-layer)\"  \n", 
                "#      \"Pure ice latent and sensible heat + explicit brine inclusions (Bitz and Lipscomb)\"  \n", 
                "#      \"Other: [Please specify]\"  \n", 
                "# TODO - please enter value(s)", 
                "\n"
            ], 
            "outputs": [], 
            "metadata": {
                "collapsed": true
            }
        }, 
        {
            "source": [
                "### 14.2. Thermal Conductivity\n", 
                "**Is Required:** TRUE&nbsp;&nbsp;&nbsp;&nbsp;**Type:** ENUM&nbsp;&nbsp;&nbsp;&nbsp;**Cardinality:** 1.1\n", 
                "### *What type of thermal conductivity is used?*"
            ], 
            "cell_type": "markdown", 
            "metadata": {}
        }, 
        {
            "execution_count": null, 
            "cell_type": "code", 
            "source": [
                "# PROPERTY ID - DO NOT EDIT !  \n", 
                "DOC.set_id('cmip6.seaice.thermodynamics.energy.thermal_conductivity')  \n", 
                "\n", 
                "# PROPERTY VALUE: \n", 
                "# Set as follows: DOC.set_value(\"value\")  \n", 
                "# Valid Choices: \n", 
                "#      \"Pure ice\"  \n", 
                "#      \"Saline ice\"  \n", 
                "#      \"Other: [Please specify]\"  \n", 
                "# TODO - please enter value(s)", 
                "\n"
            ], 
            "outputs": [], 
            "metadata": {
                "collapsed": true
            }
        }, 
        {
            "source": [
                "### 14.3. Heat Diffusion\n", 
                "**Is Required:** TRUE&nbsp;&nbsp;&nbsp;&nbsp;**Type:** ENUM&nbsp;&nbsp;&nbsp;&nbsp;**Cardinality:** 1.1\n", 
                "### *What is the method of heat diffusion?*"
            ], 
            "cell_type": "markdown", 
            "metadata": {}
        }, 
        {
            "execution_count": null, 
            "cell_type": "code", 
            "source": [
                "# PROPERTY ID - DO NOT EDIT !  \n", 
                "DOC.set_id('cmip6.seaice.thermodynamics.energy.heat_diffusion')  \n", 
                "\n", 
                "# PROPERTY VALUE: \n", 
                "# Set as follows: DOC.set_value(\"value\")  \n", 
                "# Valid Choices: \n", 
                "#      \"Conduction fluxes\"  \n", 
                "#      \"Conduction and radiation heat fluxes\"  \n", 
                "#      \"Conduction, radiation and latent heat transport\"  \n", 
                "#      \"Other: [Please specify]\"  \n", 
                "# TODO - please enter value(s)", 
                "\n"
            ], 
            "outputs": [], 
            "metadata": {
                "collapsed": true
            }
        }, 
        {
            "source": [
                "### 14.4. Basal Heat Flux\n", 
                "**Is Required:** TRUE&nbsp;&nbsp;&nbsp;&nbsp;**Type:** ENUM&nbsp;&nbsp;&nbsp;&nbsp;**Cardinality:** 1.1\n", 
                "### *Method by which basal ocean heat flux is handled?*"
            ], 
            "cell_type": "markdown", 
            "metadata": {}
        }, 
        {
            "execution_count": null, 
            "cell_type": "code", 
            "source": [
                "# PROPERTY ID - DO NOT EDIT !  \n", 
                "DOC.set_id('cmip6.seaice.thermodynamics.energy.basal_heat_flux')  \n", 
                "\n", 
                "# PROPERTY VALUE: \n", 
                "# Set as follows: DOC.set_value(\"value\")  \n", 
                "# Valid Choices: \n", 
                "#      \"Heat Reservoir\"  \n", 
                "#      \"Thermal Fixed Salinity\"  \n", 
                "#      \"Thermal Varying Salinity\"  \n", 
                "#      \"Other: [Please specify]\"  \n", 
                "# TODO - please enter value(s)", 
                "\n"
            ], 
            "outputs": [], 
            "metadata": {
                "collapsed": true
            }
        }, 
        {
            "source": [
                "### 14.5. Fixed Salinity Value\n", 
                "**Is Required:** FALSE&nbsp;&nbsp;&nbsp;&nbsp;**Type:** FLOAT&nbsp;&nbsp;&nbsp;&nbsp;**Cardinality:** 0.1\n", 
                "### *If you have selected {Thermal properties depend on S-T (with fixed salinity)}, supply fixed salinity value for each sea ice layer.*"
            ], 
            "cell_type": "markdown", 
            "metadata": {}
        }, 
        {
            "execution_count": null, 
            "cell_type": "code", 
            "source": [
                "# PROPERTY ID - DO NOT EDIT !  \n", 
                "DOC.set_id('cmip6.seaice.thermodynamics.energy.fixed_salinity_value')  \n", 
                "\n", 
                "# PROPERTY VALUE: \n", 
                "# Set as follows: DOC.set_value(value)  \n", 
                "# TODO - please enter value(s)", 
                "\n"
            ], 
            "outputs": [], 
            "metadata": {
                "collapsed": true
            }
        }, 
        {
            "source": [
                "### 14.6. Heat Content Of Precipitation\n", 
                "**Is Required:** TRUE&nbsp;&nbsp;&nbsp;&nbsp;**Type:** STRING&nbsp;&nbsp;&nbsp;&nbsp;**Cardinality:** 1.1\n", 
                "### *Describe the method by which the heat content of precipitation is handled.*"
            ], 
            "cell_type": "markdown", 
            "metadata": {}
        }, 
        {
            "execution_count": null, 
            "cell_type": "code", 
            "source": [
                "# PROPERTY ID - DO NOT EDIT !  \n", 
                "DOC.set_id('cmip6.seaice.thermodynamics.energy.heat_content_of_precipitation')  \n", 
                "\n", 
                "# PROPERTY VALUE: \n", 
                "# Set as follows: DOC.set_value(\"value\")  \n", 
                "# TODO - please enter value(s)", 
                "\n"
            ], 
            "outputs": [], 
            "metadata": {
                "collapsed": true
            }
        }, 
        {
            "source": [
                "### 14.7. Precipitation Effects On Salinity\n", 
                "**Is Required:** FALSE&nbsp;&nbsp;&nbsp;&nbsp;**Type:** STRING&nbsp;&nbsp;&nbsp;&nbsp;**Cardinality:** 0.1\n", 
                "### *If precipitation (freshwater) that falls on sea ice affects the ocean surface salinity please provide further details.*"
            ], 
            "cell_type": "markdown", 
            "metadata": {}
        }, 
        {
            "execution_count": null, 
            "cell_type": "code", 
            "source": [
                "# PROPERTY ID - DO NOT EDIT !  \n", 
                "DOC.set_id('cmip6.seaice.thermodynamics.energy.precipitation_effects_on_salinity')  \n", 
                "\n", 
                "# PROPERTY VALUE: \n", 
                "# Set as follows: DOC.set_value(\"value\")  \n", 
                "# TODO - please enter value(s)", 
                "\n"
            ], 
            "outputs": [], 
            "metadata": {
                "collapsed": true
            }
        }, 
        {
            "source": [
                "# 15. Thermodynamics --&gt; Mass  \n", 
                "*Processes related to mass in sea ice thermodynamics*"
            ], 
            "cell_type": "markdown", 
            "metadata": {}
        }, 
        {
            "source": [
                "### 15.1. New Ice Formation\n", 
                "**Is Required:** TRUE&nbsp;&nbsp;&nbsp;&nbsp;**Type:** STRING&nbsp;&nbsp;&nbsp;&nbsp;**Cardinality:** 1.1\n", 
                "### *Describe the method by which new sea ice is formed in open water.*"
            ], 
            "cell_type": "markdown", 
            "metadata": {}
        }, 
        {
            "execution_count": null, 
            "cell_type": "code", 
            "source": [
                "# PROPERTY ID - DO NOT EDIT !  \n", 
                "DOC.set_id('cmip6.seaice.thermodynamics.mass.new_ice_formation')  \n", 
                "\n", 
                "# PROPERTY VALUE: \n", 
                "# Set as follows: DOC.set_value(\"value\")  \n", 
                "# TODO - please enter value(s)", 
                "\n"
            ], 
            "outputs": [], 
            "metadata": {
                "collapsed": true
            }
        }, 
        {
            "source": [
                "### 15.2. Ice Vertical Growth And Melt\n", 
                "**Is Required:** TRUE&nbsp;&nbsp;&nbsp;&nbsp;**Type:** STRING&nbsp;&nbsp;&nbsp;&nbsp;**Cardinality:** 1.1\n", 
                "### *Describe the method that governs the vertical growth and melt of sea ice.*"
            ], 
            "cell_type": "markdown", 
            "metadata": {}
        }, 
        {
            "execution_count": null, 
            "cell_type": "code", 
            "source": [
                "# PROPERTY ID - DO NOT EDIT !  \n", 
                "DOC.set_id('cmip6.seaice.thermodynamics.mass.ice_vertical_growth_and_melt')  \n", 
                "\n", 
                "# PROPERTY VALUE: \n", 
                "# Set as follows: DOC.set_value(\"value\")  \n", 
                "# TODO - please enter value(s)", 
                "\n"
            ], 
            "outputs": [], 
            "metadata": {
                "collapsed": true
            }
        }, 
        {
            "source": [
                "### 15.3. Ice Lateral Melting\n", 
                "**Is Required:** TRUE&nbsp;&nbsp;&nbsp;&nbsp;**Type:** ENUM&nbsp;&nbsp;&nbsp;&nbsp;**Cardinality:** 1.1\n", 
                "### *What is the method of sea ice lateral melting?*"
            ], 
            "cell_type": "markdown", 
            "metadata": {}
        }, 
        {
            "execution_count": null, 
            "cell_type": "code", 
            "source": [
                "# PROPERTY ID - DO NOT EDIT !  \n", 
                "DOC.set_id('cmip6.seaice.thermodynamics.mass.ice_lateral_melting')  \n", 
                "\n", 
                "# PROPERTY VALUE: \n", 
                "# Set as follows: DOC.set_value(\"value\")  \n", 
                "# Valid Choices: \n", 
                "#      \"Floe-size dependent (Bitz et al 2001)\"  \n", 
                "#      \"Virtual thin ice melting (for single-category)\"  \n", 
                "#      \"Other: [Please specify]\"  \n", 
                "# TODO - please enter value(s)", 
                "\n"
            ], 
            "outputs": [], 
            "metadata": {
                "collapsed": true
            }
        }, 
        {
            "source": [
                "### 15.4. Ice Surface Sublimation\n", 
                "**Is Required:** TRUE&nbsp;&nbsp;&nbsp;&nbsp;**Type:** STRING&nbsp;&nbsp;&nbsp;&nbsp;**Cardinality:** 1.1\n", 
                "### *Describe the method that governs sea ice surface sublimation.*"
            ], 
            "cell_type": "markdown", 
            "metadata": {}
        }, 
        {
            "execution_count": null, 
            "cell_type": "code", 
            "source": [
                "# PROPERTY ID - DO NOT EDIT !  \n", 
                "DOC.set_id('cmip6.seaice.thermodynamics.mass.ice_surface_sublimation')  \n", 
                "\n", 
                "# PROPERTY VALUE: \n", 
                "# Set as follows: DOC.set_value(\"value\")  \n", 
                "# TODO - please enter value(s)", 
                "\n"
            ], 
            "outputs": [], 
            "metadata": {
                "collapsed": true
            }
        }, 
        {
            "source": [
                "### 15.5. Frazil Ice\n", 
                "**Is Required:** TRUE&nbsp;&nbsp;&nbsp;&nbsp;**Type:** STRING&nbsp;&nbsp;&nbsp;&nbsp;**Cardinality:** 1.1\n", 
                "### *Describe the method of frazil ice formation.*"
            ], 
            "cell_type": "markdown", 
            "metadata": {}
        }, 
        {
            "execution_count": null, 
            "cell_type": "code", 
            "source": [
                "# PROPERTY ID - DO NOT EDIT !  \n", 
                "DOC.set_id('cmip6.seaice.thermodynamics.mass.frazil_ice')  \n", 
                "\n", 
                "# PROPERTY VALUE: \n", 
                "# Set as follows: DOC.set_value(\"value\")  \n", 
                "# TODO - please enter value(s)", 
                "\n"
            ], 
            "outputs": [], 
            "metadata": {
                "collapsed": true
            }
        }, 
        {
            "source": [
                "# 16. Thermodynamics --&gt; Salt  \n", 
                "*Processes related to salt in sea ice thermodynamics.*"
            ], 
            "cell_type": "markdown", 
            "metadata": {}
        }, 
        {
            "source": [
                "### 16.1. Has Multiple Sea Ice Salinities\n", 
                "**Is Required:** TRUE&nbsp;&nbsp;&nbsp;&nbsp;**Type:** BOOLEAN&nbsp;&nbsp;&nbsp;&nbsp;**Cardinality:** 1.1\n", 
                "### *Does the sea ice model use two different salinities: one for thermodynamic calculations; and one for the salt budget?*"
            ], 
            "cell_type": "markdown", 
            "metadata": {}
        }, 
        {
            "execution_count": null, 
            "cell_type": "code", 
            "source": [
                "# PROPERTY ID - DO NOT EDIT !  \n", 
                "DOC.set_id('cmip6.seaice.thermodynamics.salt.has_multiple_sea_ice_salinities')  \n", 
                "\n", 
                "# PROPERTY VALUE: \n", 
                "# Set as follows: DOC.set_value(value)  \n", 
                "# Valid Choices: \n", 
                "#     True  \n", 
                "#     False  \n", 
                "# TODO - please enter value(s)", 
                "\n"
            ], 
            "outputs": [], 
            "metadata": {
                "collapsed": true
            }
        }, 
        {
            "source": [
                "### 16.2. Sea Ice Salinity Thermal Impacts\n", 
                "**Is Required:** TRUE&nbsp;&nbsp;&nbsp;&nbsp;**Type:** BOOLEAN&nbsp;&nbsp;&nbsp;&nbsp;**Cardinality:** 1.1\n", 
                "### *Does sea ice salinity impact the thermal properties of sea ice?*"
            ], 
            "cell_type": "markdown", 
            "metadata": {}
        }, 
        {
            "execution_count": null, 
            "cell_type": "code", 
            "source": [
                "# PROPERTY ID - DO NOT EDIT !  \n", 
                "DOC.set_id('cmip6.seaice.thermodynamics.salt.sea_ice_salinity_thermal_impacts')  \n", 
                "\n", 
                "# PROPERTY VALUE: \n", 
                "# Set as follows: DOC.set_value(value)  \n", 
                "# Valid Choices: \n", 
                "#     True  \n", 
                "#     False  \n", 
                "# TODO - please enter value(s)", 
                "\n"
            ], 
            "outputs": [], 
            "metadata": {
                "collapsed": true
            }
        }, 
        {
            "source": [
                "# 17. Thermodynamics --&gt; Salt --&gt; Mass Transport  \n", 
                "*Mass transport of salt*"
            ], 
            "cell_type": "markdown", 
            "metadata": {}
        }, 
        {
            "source": [
                "### 17.1. Salinity Type\n", 
                "**Is Required:** TRUE&nbsp;&nbsp;&nbsp;&nbsp;**Type:** ENUM&nbsp;&nbsp;&nbsp;&nbsp;**Cardinality:** 1.1\n", 
                "### *How is salinity determined in the mass transport of salt calculation?*"
            ], 
            "cell_type": "markdown", 
            "metadata": {}
        }, 
        {
            "execution_count": null, 
            "cell_type": "code", 
            "source": [
                "# PROPERTY ID - DO NOT EDIT !  \n", 
                "DOC.set_id('cmip6.seaice.thermodynamics.salt.mass_transport.salinity_type')  \n", 
                "\n", 
                "# PROPERTY VALUE: \n", 
                "# Set as follows: DOC.set_value(\"value\")  \n", 
                "# Valid Choices: \n", 
                "#      \"Constant\"  \n", 
                "#      \"Prescribed salinity profile\"  \n", 
                "#      \"Prognostic salinity profile\"  \n", 
                "#      \"Other: [Please specify]\"  \n", 
                "# TODO - please enter value(s)", 
                "\n"
            ], 
            "outputs": [], 
            "metadata": {
                "collapsed": true
            }
        }, 
        {
            "source": [
                "### 17.2. Constant Salinity Value\n", 
                "**Is Required:** FALSE&nbsp;&nbsp;&nbsp;&nbsp;**Type:** FLOAT&nbsp;&nbsp;&nbsp;&nbsp;**Cardinality:** 0.1\n", 
                "### *If using a constant salinity value specify this value in PSU?*"
            ], 
            "cell_type": "markdown", 
            "metadata": {}
        }, 
        {
            "execution_count": null, 
            "cell_type": "code", 
            "source": [
                "# PROPERTY ID - DO NOT EDIT !  \n", 
                "DOC.set_id('cmip6.seaice.thermodynamics.salt.mass_transport.constant_salinity_value')  \n", 
                "\n", 
                "# PROPERTY VALUE: \n", 
                "# Set as follows: DOC.set_value(value)  \n", 
                "# TODO - please enter value(s)", 
                "\n"
            ], 
            "outputs": [], 
            "metadata": {
                "collapsed": true
            }
        }, 
        {
            "source": [
                "### 17.3. Additional Details\n", 
                "**Is Required:** FALSE&nbsp;&nbsp;&nbsp;&nbsp;**Type:** STRING&nbsp;&nbsp;&nbsp;&nbsp;**Cardinality:** 0.1\n", 
                "### *Describe the salinity profile used.*"
            ], 
            "cell_type": "markdown", 
            "metadata": {}
        }, 
        {
            "execution_count": null, 
            "cell_type": "code", 
            "source": [
                "# PROPERTY ID - DO NOT EDIT !  \n", 
                "DOC.set_id('cmip6.seaice.thermodynamics.salt.mass_transport.additional_details')  \n", 
                "\n", 
                "# PROPERTY VALUE: \n", 
                "# Set as follows: DOC.set_value(\"value\")  \n", 
                "# TODO - please enter value(s)", 
                "\n"
            ], 
            "outputs": [], 
            "metadata": {
                "collapsed": true
            }
        }, 
        {
            "source": [
                "# 18. Thermodynamics --&gt; Salt --&gt; Thermodynamics  \n", 
                "*Salt thermodynamics*"
            ], 
            "cell_type": "markdown", 
            "metadata": {}
        }, 
        {
            "source": [
                "### 18.1. Salinity Type\n", 
                "**Is Required:** TRUE&nbsp;&nbsp;&nbsp;&nbsp;**Type:** ENUM&nbsp;&nbsp;&nbsp;&nbsp;**Cardinality:** 1.1\n", 
                "### *How is salinity determined in the thermodynamic calculation?*"
            ], 
            "cell_type": "markdown", 
            "metadata": {}
        }, 
        {
            "execution_count": null, 
            "cell_type": "code", 
            "source": [
                "# PROPERTY ID - DO NOT EDIT !  \n", 
                "DOC.set_id('cmip6.seaice.thermodynamics.salt.thermodynamics.salinity_type')  \n", 
                "\n", 
                "# PROPERTY VALUE: \n", 
                "# Set as follows: DOC.set_value(\"value\")  \n", 
                "# Valid Choices: \n", 
                "#      \"Constant\"  \n", 
                "#      \"Prescribed salinity profile\"  \n", 
                "#      \"Prognostic salinity profile\"  \n", 
                "#      \"Other: [Please specify]\"  \n", 
                "# TODO - please enter value(s)", 
                "\n"
            ], 
            "outputs": [], 
            "metadata": {
                "collapsed": true
            }
        }, 
        {
            "source": [
                "### 18.2. Constant Salinity Value\n", 
                "**Is Required:** FALSE&nbsp;&nbsp;&nbsp;&nbsp;**Type:** FLOAT&nbsp;&nbsp;&nbsp;&nbsp;**Cardinality:** 0.1\n", 
                "### *If using a constant salinity value specify this value in PSU?*"
            ], 
            "cell_type": "markdown", 
            "metadata": {}
        }, 
        {
            "execution_count": null, 
            "cell_type": "code", 
            "source": [
                "# PROPERTY ID - DO NOT EDIT !  \n", 
                "DOC.set_id('cmip6.seaice.thermodynamics.salt.thermodynamics.constant_salinity_value')  \n", 
                "\n", 
                "# PROPERTY VALUE: \n", 
                "# Set as follows: DOC.set_value(value)  \n", 
                "# TODO - please enter value(s)", 
                "\n"
            ], 
            "outputs": [], 
            "metadata": {
                "collapsed": true
            }
        }, 
        {
            "source": [
                "### 18.3. Additional Details\n", 
                "**Is Required:** FALSE&nbsp;&nbsp;&nbsp;&nbsp;**Type:** STRING&nbsp;&nbsp;&nbsp;&nbsp;**Cardinality:** 0.1\n", 
                "### *Describe the salinity profile used.*"
            ], 
            "cell_type": "markdown", 
            "metadata": {}
        }, 
        {
            "execution_count": null, 
            "cell_type": "code", 
            "source": [
                "# PROPERTY ID - DO NOT EDIT !  \n", 
                "DOC.set_id('cmip6.seaice.thermodynamics.salt.thermodynamics.additional_details')  \n", 
                "\n", 
                "# PROPERTY VALUE: \n", 
                "# Set as follows: DOC.set_value(\"value\")  \n", 
                "# TODO - please enter value(s)", 
                "\n"
            ], 
            "outputs": [], 
            "metadata": {
                "collapsed": true
            }
        }, 
        {
            "source": [
                "# 19. Thermodynamics --&gt; Ice Thickness Distribution  \n", 
                "*Ice thickness distribution details.*"
            ], 
            "cell_type": "markdown", 
            "metadata": {}
        }, 
        {
            "source": [
                "### 19.1. Representation\n", 
                "**Is Required:** TRUE&nbsp;&nbsp;&nbsp;&nbsp;**Type:** ENUM&nbsp;&nbsp;&nbsp;&nbsp;**Cardinality:** 1.1\n", 
                "### *How is the sea ice thickness distribution represented?*"
            ], 
            "cell_type": "markdown", 
            "metadata": {}
        }, 
        {
            "execution_count": null, 
            "cell_type": "code", 
            "source": [
                "# PROPERTY ID - DO NOT EDIT !  \n", 
                "DOC.set_id('cmip6.seaice.thermodynamics.ice_thickness_distribution.representation')  \n", 
                "\n", 
                "# PROPERTY VALUE: \n", 
                "# Set as follows: DOC.set_value(\"value\")  \n", 
                "# Valid Choices: \n", 
                "#      \"Explicit\"  \n", 
                "#      \"Virtual (enhancement of thermal conductivity, thin ice melting)\"  \n", 
                "#      \"Other: [Please specify]\"  \n", 
                "# TODO - please enter value(s)", 
                "\n"
            ], 
            "outputs": [], 
            "metadata": {
                "collapsed": true
            }
        }, 
        {
            "source": [
                "# 20. Thermodynamics --&gt; Ice Floe Size Distribution  \n", 
                "*Ice floe-size distribution details.*"
            ], 
            "cell_type": "markdown", 
            "metadata": {}
        }, 
        {
            "source": [
                "### 20.1. Representation\n", 
                "**Is Required:** TRUE&nbsp;&nbsp;&nbsp;&nbsp;**Type:** ENUM&nbsp;&nbsp;&nbsp;&nbsp;**Cardinality:** 1.1\n", 
                "### *How is the sea ice floe-size represented?*"
            ], 
            "cell_type": "markdown", 
            "metadata": {}
        }, 
        {
            "execution_count": null, 
            "cell_type": "code", 
            "source": [
                "# PROPERTY ID - DO NOT EDIT !  \n", 
                "DOC.set_id('cmip6.seaice.thermodynamics.ice_floe_size_distribution.representation')  \n", 
                "\n", 
                "# PROPERTY VALUE: \n", 
                "# Set as follows: DOC.set_value(\"value\")  \n", 
                "# Valid Choices: \n", 
                "#      \"Explicit\"  \n", 
                "#      \"Parameterised\"  \n", 
                "#      \"Other: [Please specify]\"  \n", 
                "# TODO - please enter value(s)", 
                "\n"
            ], 
            "outputs": [], 
            "metadata": {
                "collapsed": true
            }
        }, 
        {
            "source": [
                "### 20.2. Additional Details\n", 
                "**Is Required:** FALSE&nbsp;&nbsp;&nbsp;&nbsp;**Type:** STRING&nbsp;&nbsp;&nbsp;&nbsp;**Cardinality:** 0.1\n", 
                "### *Please provide further details on any parameterisation of floe-size.*"
            ], 
            "cell_type": "markdown", 
            "metadata": {}
        }, 
        {
            "execution_count": null, 
            "cell_type": "code", 
            "source": [
                "# PROPERTY ID - DO NOT EDIT !  \n", 
                "DOC.set_id('cmip6.seaice.thermodynamics.ice_floe_size_distribution.additional_details')  \n", 
                "\n", 
                "# PROPERTY VALUE: \n", 
                "# Set as follows: DOC.set_value(\"value\")  \n", 
                "# TODO - please enter value(s)", 
                "\n"
            ], 
            "outputs": [], 
            "metadata": {
                "collapsed": true
            }
        }, 
        {
            "source": [
                "# 21. Thermodynamics --&gt; Melt Ponds  \n", 
                "*Characteristics of melt ponds.*"
            ], 
            "cell_type": "markdown", 
            "metadata": {}
        }, 
        {
            "source": [
                "### 21.1. Are Included\n", 
                "**Is Required:** TRUE&nbsp;&nbsp;&nbsp;&nbsp;**Type:** BOOLEAN&nbsp;&nbsp;&nbsp;&nbsp;**Cardinality:** 1.1\n", 
                "### *Are melt ponds included in the sea ice model?*"
            ], 
            "cell_type": "markdown", 
            "metadata": {}
        }, 
        {
            "execution_count": null, 
            "cell_type": "code", 
            "source": [
                "# PROPERTY ID - DO NOT EDIT !  \n", 
                "DOC.set_id('cmip6.seaice.thermodynamics.melt_ponds.are_included')  \n", 
                "\n", 
                "# PROPERTY VALUE: \n", 
                "# Set as follows: DOC.set_value(value)  \n", 
                "# Valid Choices: \n", 
                "#     True  \n", 
                "#     False  \n", 
                "# TODO - please enter value(s)", 
                "\n"
            ], 
            "outputs": [], 
            "metadata": {
                "collapsed": true
            }
        }, 
        {
            "source": [
                "### 21.2. Formulation\n", 
                "**Is Required:** TRUE&nbsp;&nbsp;&nbsp;&nbsp;**Type:** ENUM&nbsp;&nbsp;&nbsp;&nbsp;**Cardinality:** 1.1\n", 
                "### *What method of melt pond formulation is used?*"
            ], 
            "cell_type": "markdown", 
            "metadata": {}
        }, 
        {
            "execution_count": null, 
            "cell_type": "code", 
            "source": [
                "# PROPERTY ID - DO NOT EDIT !  \n", 
                "DOC.set_id('cmip6.seaice.thermodynamics.melt_ponds.formulation')  \n", 
                "\n", 
                "# PROPERTY VALUE: \n", 
                "# Set as follows: DOC.set_value(\"value\")  \n", 
                "# Valid Choices: \n", 
                "#      \"Flocco and Feltham (2010)\"  \n", 
                "#      \"Level-ice melt ponds\"  \n", 
                "#      \"Other: [Please specify]\"  \n", 
                "# TODO - please enter value(s)", 
                "\n"
            ], 
            "outputs": [], 
            "metadata": {
                "collapsed": true
            }
        }, 
        {
            "source": [
                "### 21.3. Impacts\n", 
                "**Is Required:** TRUE&nbsp;&nbsp;&nbsp;&nbsp;**Type:** ENUM&nbsp;&nbsp;&nbsp;&nbsp;**Cardinality:** 1.N\n", 
                "### *What do melt ponds have an impact on?*"
            ], 
            "cell_type": "markdown", 
            "metadata": {}
        }, 
        {
            "execution_count": null, 
            "cell_type": "code", 
            "source": [
                "# PROPERTY ID - DO NOT EDIT !  \n", 
                "DOC.set_id('cmip6.seaice.thermodynamics.melt_ponds.impacts')  \n", 
                "\n", 
                "# PROPERTY VALUE(S): \n", 
                "# Set as follows: DOC.set_value(\"value\")  \n", 
                "# Valid Choices: \n", 
                "#      \"Albedo\"  \n", 
                "#      \"Freshwater\"  \n", 
                "#      \"Heat\"  \n", 
                "#      \"Other: [Please specify]\"  \n", 
                "# TODO - please enter value(s)", 
                "\n"
            ], 
            "outputs": [], 
            "metadata": {
                "collapsed": true
            }
        }, 
        {
            "source": [
                "# 22. Thermodynamics --&gt; Snow Processes  \n", 
                "*Thermodynamic processes in snow on sea ice*"
            ], 
            "cell_type": "markdown", 
            "metadata": {}
        }, 
        {
            "source": [
                "### 22.1. Has Snow Aging\n", 
                "**Is Required:** TRUE&nbsp;&nbsp;&nbsp;&nbsp;**Type:** BOOLEAN&nbsp;&nbsp;&nbsp;&nbsp;**Cardinality:** 1.N\n", 
                "### *Set to True if the sea ice model has a snow aging scheme.*"
            ], 
            "cell_type": "markdown", 
            "metadata": {}
        }, 
        {
            "execution_count": null, 
            "cell_type": "code", 
            "source": [
                "# PROPERTY ID - DO NOT EDIT !  \n", 
                "DOC.set_id('cmip6.seaice.thermodynamics.snow_processes.has_snow_aging')  \n", 
                "\n", 
                "# PROPERTY VALUE(S): \n", 
                "# Set as follows: DOC.set_value(value)  \n", 
                "# Valid Choices: \n", 
                "#     True  \n", 
                "#     False  \n", 
                "# TODO - please enter value(s)", 
                "\n"
            ], 
            "outputs": [], 
            "metadata": {
                "collapsed": true
            }
        }, 
        {
            "source": [
                "### 22.2. Snow Aging Scheme\n", 
                "**Is Required:** FALSE&nbsp;&nbsp;&nbsp;&nbsp;**Type:** STRING&nbsp;&nbsp;&nbsp;&nbsp;**Cardinality:** 0.1\n", 
                "### *Describe the snow aging scheme.*"
            ], 
            "cell_type": "markdown", 
            "metadata": {}
        }, 
        {
            "execution_count": null, 
            "cell_type": "code", 
            "source": [
                "# PROPERTY ID - DO NOT EDIT !  \n", 
                "DOC.set_id('cmip6.seaice.thermodynamics.snow_processes.snow_aging_scheme')  \n", 
                "\n", 
                "# PROPERTY VALUE: \n", 
                "# Set as follows: DOC.set_value(\"value\")  \n", 
                "# TODO - please enter value(s)", 
                "\n"
            ], 
            "outputs": [], 
            "metadata": {
                "collapsed": true
            }
        }, 
        {
            "source": [
                "### 22.3. Has Snow Ice Formation\n", 
                "**Is Required:** TRUE&nbsp;&nbsp;&nbsp;&nbsp;**Type:** BOOLEAN&nbsp;&nbsp;&nbsp;&nbsp;**Cardinality:** 1.N\n", 
                "### *Set to True if the sea ice model has snow ice formation.*"
            ], 
            "cell_type": "markdown", 
            "metadata": {}
        }, 
        {
            "execution_count": null, 
            "cell_type": "code", 
            "source": [
                "# PROPERTY ID - DO NOT EDIT !  \n", 
                "DOC.set_id('cmip6.seaice.thermodynamics.snow_processes.has_snow_ice_formation')  \n", 
                "\n", 
                "# PROPERTY VALUE(S): \n", 
                "# Set as follows: DOC.set_value(value)  \n", 
                "# Valid Choices: \n", 
                "#     True  \n", 
                "#     False  \n", 
                "# TODO - please enter value(s)", 
                "\n"
            ], 
            "outputs": [], 
            "metadata": {
                "collapsed": true
            }
        }, 
        {
            "source": [
                "### 22.4. Snow Ice Formation Scheme\n", 
                "**Is Required:** FALSE&nbsp;&nbsp;&nbsp;&nbsp;**Type:** STRING&nbsp;&nbsp;&nbsp;&nbsp;**Cardinality:** 0.1\n", 
                "### *Describe the snow ice formation scheme.*"
            ], 
            "cell_type": "markdown", 
            "metadata": {}
        }, 
        {
            "execution_count": null, 
            "cell_type": "code", 
            "source": [
                "# PROPERTY ID - DO NOT EDIT !  \n", 
                "DOC.set_id('cmip6.seaice.thermodynamics.snow_processes.snow_ice_formation_scheme')  \n", 
                "\n", 
                "# PROPERTY VALUE: \n", 
                "# Set as follows: DOC.set_value(\"value\")  \n", 
                "# TODO - please enter value(s)", 
                "\n"
            ], 
            "outputs": [], 
            "metadata": {
                "collapsed": true
            }
        }, 
        {
            "source": [
                "### 22.5. Redistribution\n", 
                "**Is Required:** TRUE&nbsp;&nbsp;&nbsp;&nbsp;**Type:** STRING&nbsp;&nbsp;&nbsp;&nbsp;**Cardinality:** 1.1\n", 
                "### *What is the impact of ridging on snow cover?*"
            ], 
            "cell_type": "markdown", 
            "metadata": {}
        }, 
        {
            "execution_count": null, 
            "cell_type": "code", 
            "source": [
                "# PROPERTY ID - DO NOT EDIT !  \n", 
                "DOC.set_id('cmip6.seaice.thermodynamics.snow_processes.redistribution')  \n", 
                "\n", 
                "# PROPERTY VALUE: \n", 
                "# Set as follows: DOC.set_value(\"value\")  \n", 
                "# TODO - please enter value(s)", 
                "\n"
            ], 
            "outputs": [], 
            "metadata": {
                "collapsed": true
            }
        }, 
        {
            "source": [
                "### 22.6. Heat Diffusion\n", 
                "**Is Required:** TRUE&nbsp;&nbsp;&nbsp;&nbsp;**Type:** ENUM&nbsp;&nbsp;&nbsp;&nbsp;**Cardinality:** 1.1\n", 
                "### *What is the heat diffusion through snow methodology in sea ice thermodynamics?*"
            ], 
            "cell_type": "markdown", 
            "metadata": {}
        }, 
        {
            "execution_count": null, 
            "cell_type": "code", 
            "source": [
                "# PROPERTY ID - DO NOT EDIT !  \n", 
                "DOC.set_id('cmip6.seaice.thermodynamics.snow_processes.heat_diffusion')  \n", 
                "\n", 
                "# PROPERTY VALUE: \n", 
                "# Set as follows: DOC.set_value(\"value\")  \n", 
                "# Valid Choices: \n", 
                "#      \"Single-layered heat diffusion\"  \n", 
                "#      \"Multi-layered heat diffusion\"  \n", 
                "#      \"Other: [Please specify]\"  \n", 
                "# TODO - please enter value(s)", 
                "\n"
            ], 
            "outputs": [], 
            "metadata": {
                "collapsed": true
            }
        }, 
        {
            "source": [
                "# 23. Radiative Processes  \n", 
                "*Sea Ice Radiative Processes*"
            ], 
            "cell_type": "markdown", 
            "metadata": {}
        }, 
        {
            "source": [
                "### 23.1. Surface Albedo\n", 
                "**Is Required:** TRUE&nbsp;&nbsp;&nbsp;&nbsp;**Type:** ENUM&nbsp;&nbsp;&nbsp;&nbsp;**Cardinality:** 1.1\n", 
                "### *Method used to handle surface albedo.*"
            ], 
            "cell_type": "markdown", 
            "metadata": {}
        }, 
        {
            "execution_count": null, 
            "cell_type": "code", 
            "source": [
                "# PROPERTY ID - DO NOT EDIT !  \n", 
                "DOC.set_id('cmip6.seaice.radiative_processes.surface_albedo')  \n", 
                "\n", 
                "# PROPERTY VALUE: \n", 
                "# Set as follows: DOC.set_value(\"value\")  \n", 
                "# Valid Choices: \n", 
                "#      \"Delta-Eddington\"  \n", 
                "#      \"Parameterized\"  \n", 
                "#      \"Multi-band albedo\"  \n", 
                "#      \"Other: [Please specify]\"  \n", 
                "# TODO - please enter value(s)", 
                "\n"
            ], 
            "outputs": [], 
            "metadata": {
                "collapsed": true
            }
        }, 
        {
            "source": [
                "### 23.2. Ice Radiation Transmission\n", 
                "**Is Required:** TRUE&nbsp;&nbsp;&nbsp;&nbsp;**Type:** ENUM&nbsp;&nbsp;&nbsp;&nbsp;**Cardinality:** 1.N\n", 
                "### *Method by which solar radiation through sea ice is handled.*"
            ], 
            "cell_type": "markdown", 
            "metadata": {}
        }, 
        {
            "execution_count": null, 
            "cell_type": "code", 
            "source": [
                "# PROPERTY ID - DO NOT EDIT !  \n", 
                "DOC.set_id('cmip6.seaice.radiative_processes.ice_radiation_transmission')  \n", 
                "\n", 
                "# PROPERTY VALUE(S): \n", 
                "# Set as follows: DOC.set_value(\"value\")  \n", 
                "# Valid Choices: \n", 
                "#      \"Delta-Eddington\"  \n", 
                "#      \"Exponential attenuation\"  \n", 
                "#      \"Ice radiation transmission per category\"  \n", 
                "#      \"Other: [Please specify]\"  \n", 
                "# TODO - please enter value(s)", 
                "\n"
            ], 
            "outputs": [], 
            "metadata": {
                "collapsed": true
            }
        }, 
        {
            "source": [
                "### \u00a92017 [ES-DOC](https://es-doc.org)  \n"
            ], 
            "cell_type": "markdown", 
            "metadata": {}
        }
    ], 
    "metadata": {
        "kernelspec": {
            "display_name": "Python 2", 
            "name": "python2", 
            "language": "python"
        }, 
        "language_info": {
            "mimetype": "text/x-python", 
            "nbconvert_exporter": "python", 
            "name": "python", 
            "file_extension": ".py", 
            "version": "2.7.10", 
            "pygments_lexer": "ipython2", 
            "codemirror_mode": {
                "version": 2, 
                "name": "ipython"
            }
        }
    }
}