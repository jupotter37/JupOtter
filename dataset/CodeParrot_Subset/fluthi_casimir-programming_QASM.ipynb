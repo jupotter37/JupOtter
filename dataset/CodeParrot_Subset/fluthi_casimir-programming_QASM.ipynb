{
 "cells": [
  {
   "cell_type": "code",
   "execution_count": 4,
   "metadata": {
    "collapsed": false
   },
   "outputs": [],
   "source": [
    "import numpy as np\n",
    "import quasm_module as qm\n",
    "import qutip\n",
    "from qutip import qip"
   ]
  },
  {
   "cell_type": "code",
   "execution_count": 7,
   "metadata": {
    "collapsed": false
   },
   "outputs": [
    {
     "data": {
      "text/plain": [
       "array([[ 1.+0.j,  0.+0.j,  0.+0.j,  0.+0.j,  0.+0.j,  0.+0.j,  0.+0.j,\n",
       "         0.+0.j]])"
      ]
     },
     "execution_count": 7,
     "metadata": {},
     "output_type": "execute_result"
    }
   ],
   "source": [
    "qip.cnot(3,2,1)[0]"
   ]
  },
  {
   "cell_type": "code",
   "execution_count": 3,
   "metadata": {
    "collapsed": false
   },
   "outputs": [
    {
     "data": {
      "text/plain": [
       "array([[ 0.70710678,  0.        ,  0.70710678,  0.        ],\n",
       "       [ 0.        ,  0.70710678,  0.        ,  0.70710678],\n",
       "       [ 0.70710678,  0.        , -0.70710678, -0.        ],\n",
       "       [ 0.        ,  0.70710678, -0.        , -0.70710678]])"
      ]
     },
     "execution_count": 3,
     "metadata": {},
     "output_type": "execute_result"
    }
   ],
   "source": [
    "qm.single_qubit_gate('h',0,2)"
   ]
  },
  {
   "cell_type": "code",
   "execution_count": 2,
   "metadata": {
    "collapsed": false
   },
   "outputs": [],
   "source": [
    "bla=qm.load_qasm_file('test4.qasm')"
   ]
  },
  {
   "cell_type": "code",
   "execution_count": 3,
   "metadata": {
    "collapsed": false
   },
   "outputs": [],
   "source": [
    "instructions=qm.get_filtered_qasm(bla)"
   ]
  },
  {
   "cell_type": "code",
   "execution_count": 12,
   "metadata": {
    "collapsed": false
   },
   "outputs": [
    {
     "data": {
      "text/plain": [
       "['        qubit \\tq0\\n',\n",
       " '        qubit \\tq1\\n',\n",
       " '\\n',\n",
       " '\\tcnot\\tq0,q1\\n',\n",
       " '\\tcnot\\tq1,q0\\n',\n",
       " '\\tcnot\\tq0,q1\\n']"
      ]
     },
     "execution_count": 12,
     "metadata": {},
     "output_type": "execute_result"
    }
   ],
   "source": [
    "instructions"
   ]
  },
  {
   "cell_type": "code",
   "execution_count": 15,
   "metadata": {
    "collapsed": false
   },
   "outputs": [
    {
     "data": {
      "text/plain": [
       "['cnot', [['q0', 'q1']]]"
      ]
     },
     "execution_count": 15,
     "metadata": {},
     "output_type": "execute_result"
    }
   ],
   "source": [
    "qm.read_instruction_line(qm.delete_instruction(instructions,3))"
   ]
  },
  {
   "cell_type": "code",
   "execution_count": 6,
   "metadata": {
    "collapsed": false
   },
   "outputs": [
    {
     "data": {
      "text/plain": [
       "['        qubit \\tq1\\n', '\\n', '\\tcnot\\tq0,q1\\n', '\\tcnot\\tq1,q0\\n']"
      ]
     },
     "execution_count": 6,
     "metadata": {},
     "output_type": "execute_result"
    }
   ],
   "source": [
    "qm.delete_instruction(instructions)"
   ]
  },
  {
   "cell_type": "code",
   "execution_count": 3,
   "metadata": {
    "collapsed": false
   },
   "outputs": [
    {
     "name": "stdout",
     "output_type": "stream",
     "text": [
      "\n",
      "\n",
      "qubit   q0  # Define a qubit\n",
      "\n",
      "h   q0      # Apply a Hadamard gate\n",
      "\n",
      "measure q0  # Measure in computational basis\n",
      "\n"
     ]
    }
   ],
   "source": [
    "filename='test1.qasm'\n",
    "quasm_file=[]\n",
    "f=open(filename,'r')\n",
    "for line in f:\n",
    "    quasm_file.append(line)\n",
    "    print(line)"
   ]
  },
  {
   "cell_type": "code",
   "execution_count": 20,
   "metadata": {
    "collapsed": false
   },
   "outputs": [
    {
     "name": "stdout",
     "output_type": "stream",
     "text": [
      "['qubit   q0  ', 'h   q0      ', 'measure q0  ']\n"
     ]
    }
   ],
   "source": [
    "quasm_instrunctions=[]\n",
    "alphabet='abcdefghijklmnopqrstuvwxyz'\n",
    "m=0\n",
    "for tt, line in enumerate(quasm_file):\n",
    "    if not line[0] in alphabet:\n",
    "        m+=1\n",
    "        pass\n",
    "    else:\n",
    "        quasm_instrunctions.append('')\n",
    "        for char in line:\n",
    "            if not char=='#' or char=='\\n':\n",
    "                quasm_instrunctions[tt-m]+=char\n",
    "            else:\n",
    "                break\n",
    "print(quasm_instrunctions)\n",
    "            "
   ]
  },
  {
   "cell_type": "code",
   "execution_count": 13,
   "metadata": {
    "collapsed": false
   },
   "outputs": [
    {
     "name": "stdout",
     "output_type": "stream",
     "text": [
      "Number of qubits is 1\n"
     ]
    }
   ],
   "source": [
    "num_qubits=0\n",
    "for line in quasm_instrunctions:\n",
    "    if 'qubit' in line:\n",
    "        num_qubits+=1\n",
    "print('Number of qubits is '+str(num_qubits))"
   ]
  },
  {
   "cell_type": "code",
   "execution_count": 11,
   "metadata": {
    "collapsed": false
   },
   "outputs": [
    {
     "data": {
      "text/plain": [
       "1"
      ]
     },
     "execution_count": 11,
     "metadata": {},
     "output_type": "execute_result"
    }
   ],
   "source": [
    "def number_of_qubits(quasm_instrunctions):\n",
    "    num_qubits=0\n",
    "    for line in quasm_instrunctions:\n",
    "        if 'qubit' in line:\n",
    "            num_qubits+=1\n",
    "    return num_qubits"
   ]
  },
  {
   "cell_type": "code",
   "execution_count": 2,
   "metadata": {
    "collapsed": false
   },
   "outputs": [
    {
     "data": {
      "text/plain": [
       "{'h': array([[ 0.70710678,  0.70710678],\n",
       "        [ 0.70710678, -0.70710678]]), 'i': array([[1, 0],\n",
       "        [0, 1]]), 'x': array([[0, 1],\n",
       "        [1, 0]]), 'y': array([[ 0.+0.j, -0.-1.j],\n",
       "        [ 0.+1.j,  0.+0.j]]), 'z': array([[ 1,  0],\n",
       "        [ 0, -1]])}"
      ]
     },
     "execution_count": 2,
     "metadata": {},
     "output_type": "execute_result"
    }
   ],
   "source": [
    "qm.operator_dict_default()"
   ]
  },
  {
   "cell_type": "code",
   "execution_count": 6,
   "metadata": {
    "collapsed": false
   },
   "outputs": [
    {
     "data": {
      "text/plain": [
       "array([[ 0.70710678,  0.70710678],\n",
       "       [ 0.70710678, -0.70710678]])"
      ]
     },
     "execution_count": 6,
     "metadata": {},
     "output_type": "execute_result"
    }
   ],
   "source": [
    "1/np.sqrt(2)*np.array([[1,1],[1,-1]])"
   ]
  },
  {
   "cell_type": "code",
   "execution_count": 11,
   "metadata": {
    "collapsed": true
   },
   "outputs": [],
   "source": [
    "my_dict={}\n",
    "my_dict['h']=1/np.sqrt(2)*np.array([[1,1],[1,-1]])"
   ]
  },
  {
   "cell_type": "code",
   "execution_count": 12,
   "metadata": {
    "collapsed": false
   },
   "outputs": [],
   "source": [
    "my_dict.update({'i':np.array([[1,0],[0,1]])})"
   ]
  },
  {
   "cell_type": "code",
   "execution_count": null,
   "metadata": {
    "collapsed": true
   },
   "outputs": [],
   "source": []
  },
  {
   "cell_type": "code",
   "execution_count": 4,
   "metadata": {
    "collapsed": false
   },
   "outputs": [
    {
     "ename": "NameError",
     "evalue": "name 'h' is not defined",
     "output_type": "error",
     "traceback": [
      "\u001b[0;31m---------------------------------------------------------------------------\u001b[0m",
      "\u001b[0;31mNameError\u001b[0m                                 Traceback (most recent call last)",
      "\u001b[0;32m<ipython-input-4-0db3a6d53a92>\u001b[0m in \u001b[0;36m<module>\u001b[0;34m()\u001b[0m\n\u001b[0;32m----> 1\u001b[0;31m \u001b[0mqm\u001b[0m\u001b[0;34m.\u001b[0m\u001b[0msingle_qubit_gate\u001b[0m\u001b[0;34m(\u001b[0m\u001b[0mh\u001b[0m\u001b[0;34m,\u001b[0m\u001b[0;36m1\u001b[0m\u001b[0;34m,\u001b[0m\u001b[0;36m2\u001b[0m\u001b[0;34m)\u001b[0m\u001b[0;34m\u001b[0m\u001b[0m\n\u001b[0m",
      "\u001b[0;31mNameError\u001b[0m: name 'h' is not defined"
     ]
    }
   ],
   "source": [
    "qm.single_qubit_gate(h,1,2)"
   ]
  },
  {
   "cell_type": "code",
   "execution_count": 45,
   "metadata": {
    "collapsed": false
   },
   "outputs": [
    {
     "data": {
      "text/plain": [
       "array(2)"
      ]
     },
     "execution_count": 45,
     "metadata": {},
     "output_type": "execute_result"
    }
   ],
   "source": [
    "np.tensordot([[0,1],[0,1]],[[0,1],[0,1]])"
   ]
  },
  {
   "cell_type": "code",
   "execution_count": 52,
   "metadata": {
    "collapsed": false
   },
   "outputs": [
    {
     "name": "stdout",
     "output_type": "stream",
     "text": [
      "[[1 0]\n",
      " [0 1]]\n",
      "[[1 0]\n",
      " [1 1]]\n",
      "[[1 0 0 0]\n",
      " [1 1 0 0]\n",
      " [0 0 1 0]\n",
      " [0 0 1 1]]\n"
     ]
    }
   ],
   "source": [
    "A=np.array([[1,0],[0,1]])\n",
    "print(A)\n",
    "B=np.array([[1,0],[1,1]])\n",
    "print(B)\n",
    "print(np.kron(A,B))"
   ]
  },
  {
   "cell_type": "code",
   "execution_count": 47,
   "metadata": {
    "collapsed": false
   },
   "outputs": [
    {
     "data": {
      "text/plain": [
       "array([[0, 1, 0, 1],\n",
       "       [0, 0, 0, 0],\n",
       "       [0, 0, 0, 0],\n",
       "       [0, 1, 0, 1]])"
      ]
     },
     "execution_count": 47,
     "metadata": {},
     "output_type": "execute_result"
    }
   ],
   "source": [
    "np.outer([[1,0],[0,1]],[[0,1],[0,1]])"
   ]
  },
  {
   "cell_type": "markdown",
   "metadata": {},
   "source": [
    "### Basic Ideas\n",
    "* Read in the quasm file\n",
    "* Extract such that it contains only relevant information\n",
    "* Make a qubit class\n",
    "* Find how many quibts are needed\n"
   ]
  },
  {
   "cell_type": "code",
   "execution_count": null,
   "metadata": {
    "collapsed": true
   },
   "outputs": [],
   "source": []
  }
 ],
 "metadata": {
  "anaconda-cloud": {},
  "kernelspec": {
   "display_name": "Python [default]",
   "language": "python",
   "name": "python3"
  },
  "language_info": {
   "codemirror_mode": {
    "name": "ipython",
    "version": 3
   },
   "file_extension": ".py",
   "mimetype": "text/x-python",
   "name": "python",
   "nbconvert_exporter": "python",
   "pygments_lexer": "ipython3",
   "version": "3.5.2"
  }
 },
 "nbformat": 4,
 "nbformat_minor": 1
}
