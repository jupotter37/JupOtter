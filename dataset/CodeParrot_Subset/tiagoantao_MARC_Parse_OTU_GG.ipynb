{
 "cells": [
  {
   "cell_type": "code",
   "execution_count": 21,
   "metadata": {
    "collapsed": true
   },
   "outputs": [],
   "source": [
    "fname = '/home/tiago/OTU_GG.txt'\n",
    "wname = '../analysis_data/old_taxa.txt'"
   ]
  },
  {
   "cell_type": "code",
   "execution_count": 16,
   "metadata": {
    "collapsed": false
   },
   "outputs": [],
   "source": [
    "query_taxa = {}\n",
    "with open(fname, 'rt') as f:\n",
    "    l = f.readline()\n",
    "    while l != '':\n",
    "        l = l.rstrip()\n",
    "        if l.startswith('Query='):\n",
    "            query = l.rstrip().split(' ')[1]\n",
    "            l = f.readline()\n",
    "        elif len(l) > 0 and l[0] == '>':\n",
    "            line = l[1:]\n",
    "            l = f.readline()            \n",
    "            while l != '\\n':\n",
    "                \n",
    "                line += l.rstrip()\n",
    "                l = f.readline()\n",
    "            taxon = ' '.join(filter(lambda x: x.find('__') > -1, line.split(' ')))\n",
    "            query_taxa[query] = taxon\n",
    "        else:\n",
    "            l = f.readline()"
   ]
  },
  {
   "cell_type": "code",
   "execution_count": 23,
   "metadata": {
    "collapsed": false
   },
   "outputs": [],
   "source": [
    "with open(wname, 'wt') as w:\n",
    "    for query, taxon in query_taxa.items():\n",
    "        w.write('%s\\t%s\\n' % (query, taxon))"
   ]
  }
 ],
 "metadata": {
  "kernelspec": {
   "display_name": "Python 3",
   "language": "python",
   "name": "python3"
  },
  "language_info": {
   "codemirror_mode": {
    "name": "ipython",
    "version": 3
   },
   "file_extension": ".py",
   "mimetype": "text/x-python",
   "name": "python",
   "nbconvert_exporter": "python",
   "pygments_lexer": "ipython3",
   "version": "3.6.0"
  }
 },
 "nbformat": 4,
 "nbformat_minor": 2
}
