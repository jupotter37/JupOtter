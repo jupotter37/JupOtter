{
 "cells": [
  {
   "cell_type": "markdown",
   "metadata": {},
   "source": [
    "# Randomly Generated Equations\n",
    "## Automatically searching through hundreds of randomly generated equations to maximize accuracy and correlation\n",
    "\n",
    "In this tutorial, we'll use Athena to search through hundreds of randomly generated equations to maximize both accuracy (mean absolute error) or correlation (explained variance) between the equation and the target variable. This alleviates the need to manually specify the type of model or equation that you need. Like most of Athena itself, this tutorial is a work in progress and will be updated soon. "
   ]
  },
  {
   "cell_type": "code",
   "execution_count": 2,
   "metadata": {
    "collapsed": true
   },
   "outputs": [],
   "source": [
    "from pandas import read_csv\n",
    "df = read_csv('test_data.csv', index_col=None)\n",
    "df = df[['time', 'UV', 'baromin', 'humidity', 'light', 'rainin', 'temp', 'windgust']]"
   ]
  },
  {
   "cell_type": "code",
   "execution_count": 3,
   "metadata": {
    "collapsed": true
   },
   "outputs": [],
   "source": [
    "from dateutil.parser import parse\n",
    "def get_hour (x):\n",
    "    y = parse(x)\n",
    "    return y.hour + y.minute / 60.0\n",
    "\n",
    "df[\"time\"] = [get_hour(x) / 24.0 for x in df[\"time\"].values]"
   ]
  },
  {
   "cell_type": "code",
   "execution_count": 4,
   "metadata": {
    "collapsed": true
   },
   "outputs": [],
   "source": [
    "parameters_map = {\n",
    "    \"normalized\"    : {\n",
    "        \"humidity\": \"rh\",\n",
    "        \"windgust\": \"ws\",\n",
    "        \"UV\"      : \"uv\",\n",
    "        \"light\"   : \"light\",\n",
    "    },\n",
    "    \"not_normalized\": {\n",
    "        \"time\"  : \"time\",\n",
    "        \"rainin\": \"rain\",\n",
    "    },\n",
    "    \"target\"    : \"temp\",\n",
    "}"
   ]
  },
  {
   "cell_type": "code",
   "execution_count": 5,
   "metadata": {
    "collapsed": true
   },
   "outputs": [],
   "source": [
    "framework_parameters = {\n",
    "    \"starting_lr\"   : 0.001,\n",
    "    \"max_iterations\": int(1e4),\n",
    "    \"momentum\"      : 0.95,\n",
    "}"
   ]
  },
  {
   "cell_type": "code",
   "execution_count": 6,
   "metadata": {
    "collapsed": true
   },
   "outputs": [],
   "source": [
    "from athena.framework import Framework\n",
    "fw = Framework(framework_parameters)"
   ]
  },
  {
   "cell_type": "code",
   "execution_count": 7,
   "metadata": {
    "collapsed": true
   },
   "outputs": [],
   "source": [
    "from athena.dataset import Dataset\n",
    "from athena.helpers import split_dataframe\n",
    "training_df, testing_df = split_dataframe(df, 0.9)\n",
    "fw.add_dataset(Dataset(training_df, testing_df, parameters_map))"
   ]
  },
  {
   "cell_type": "code",
   "execution_count": 8,
   "metadata": {},
   "outputs": [
    {
     "name": "stderr",
     "output_type": "stream",
     "text": [
      "100%|██████████| 50/50 [09:08<00:00, 11.49s/it]\n"
     ]
    }
   ],
   "source": [
    "from athena.searching import RandomSearch\n",
    "rs = RandomSearch(fw, search_length=50, equation_length=10)\n",
    "rs.search()"
   ]
  },
  {
   "cell_type": "code",
   "execution_count": 25,
   "metadata": {},
   "outputs": [
    {
     "data": {
      "image/png": "[encoded data removed]",
      "text/latex": [
       "$$82.4692428112$$"
      ],
      "text/plain": [
       "82.4692428112"
      ]
     },
     "execution_count": 25,
     "metadata": {},
     "output_type": "execute_result"
    }
   ],
   "source": [
    "equation = rs.get_best_equations()[0]\n",
    "equation[\"testing_pearson\"]*100"
   ]
  },
  {
   "cell_type": "code",
   "execution_count": 26,
   "metadata": {},
   "outputs": [
    {
     "data": {
      "image/png": "[encoded data removed]",
      "text/latex": [
       "$$0.037 rh + 3.3 \\sin{\\left (\\frac{158 \\pi}{71} time - \\frac{49}{32} \\right )} + 4.4 \\sin{\\left (\\frac{79 \\pi}{99} \\left(\\frac{rh}{82} - \\frac{9}{50}\\right) + \\frac{185}{97} \\right )} + 2.7 \\sin{\\left (\\frac{20 \\pi}{99} \\left(\\frac{10 ws}{67} - \\frac{101}{75}\\right) + \\frac{9}{5} \\right )} + 2.9 \\sin{\\left (\\frac{53 \\pi}{79} \\sin{\\left (\\frac{39 \\pi}{19} rain + \\frac{49}{89} \\right )} + \\frac{34}{45} \\right )} + 14.0$$"
      ],
      "text/plain": [
       "                                             ⎛     ⎛rh   9 ⎞      ⎞          ⎛\n",
       "                                             ⎜79⋅π⋅⎜── - ──⎟      ⎟          ⎜\n",
       "                  ⎛158⋅π⋅time   49⎞          ⎜     ⎝82   50⎠   185⎟          ⎜\n",
       "0.037⋅rh + 3.3⋅sin⎜────────── - ──⎟ + 4.4⋅sin⎜────────────── + ───⎟ + 2.7⋅sin⎜\n",
       "                  ⎝    71       32⎠          ⎝      99          97⎠          ⎝\n",
       "\n",
       "     ⎛10⋅ws   101⎞    ⎞          ⎛        ⎛39⋅π⋅rain   49⎞     ⎞       \n",
       "20⋅π⋅⎜───── - ───⎟    ⎟          ⎜53⋅π⋅sin⎜───────── + ──⎟     ⎟       \n",
       "     ⎝  67     75⎠   9⎟          ⎜        ⎝    19      89⎠   34⎟       \n",
       "────────────────── + ─⎟ + 2.9⋅sin⎜──────────────────────── + ──⎟ + 14.0\n",
       "        99           5⎠          ⎝           79              45⎠       "
      ]
     },
     "execution_count": 26,
     "metadata": {},
     "output_type": "execute_result"
    }
   ],
   "source": [
    "from sympy import N, nsimplify, init_printing\n",
    "init_printing()\n",
    "N(nsimplify(equation[\"equation\"], tolerance=1e-2), 2)"
   ]
  }
 ],
 "metadata": {
  "kernelspec": {
   "display_name": "Python 3",
   "language": "python",
   "name": "python3"
  },
  "language_info": {
   "codemirror_mode": {
    "name": "ipython",
    "version": 3
   },
   "file_extension": ".py",
   "mimetype": "text/x-python",
   "name": "python",
   "nbconvert_exporter": "python",
   "pygments_lexer": "ipython3",
   "version": "3.5.2+"
  }
 },
 "nbformat": 4,
 "nbformat_minor": 2
}
