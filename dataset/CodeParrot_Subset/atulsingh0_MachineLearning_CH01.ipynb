{
 "cells": [
  {
   "cell_type": "markdown",
   "metadata": {},
   "source": [
    "### Machine Learning – A Gentle Introduction"
   ]
  },
  {
   "cell_type": "code",
   "execution_count": 1,
   "metadata": {
    "collapsed": false
   },
   "outputs": [],
   "source": [
    "# import\n",
    "from sklearn.datasets import load_iris\n",
    "from sklearn.linear_model import SGDClassifier\n",
    "from sklearn.cross_validation import train_test_split, KFold, cross_val_score\n",
    "from sklearn.metrics import accuracy_score, classification_report, confusion_matrix\n",
    "from sklearn import preprocessing, pipeline\n",
    "\n",
    "import numpy as np\n",
    "import scipy as sp\n",
    "import matplotlib.pyplot as plt\n",
    "import seaborn as sns\n",
    "\n",
    "%matplotlib inline\n",
    "sns.set()"
   ]
  },
  {
   "cell_type": "code",
   "execution_count": 2,
   "metadata": {
    "collapsed": false
   },
   "outputs": [
    {
     "name": "stdout",
     "output_type": "stream",
     "text": [
      "['sepal length (cm)', 'sepal width (cm)', 'petal length (cm)', 'petal width (cm)']\n",
      "['setosa' 'versicolor' 'virginica']\n"
     ]
    }
   ],
   "source": [
    "#Loading the IRIS dataset\n",
    "iris_data = load_iris()\n",
    "\n",
    "X = iris_data['data']\n",
    "y = iris_data['target']\n",
    "\n",
    "print(iris_data['feature_names'])\n",
    "print(iris_data['target_names'])"
   ]
  },
  {
   "cell_type": "code",
   "execution_count": 3,
   "metadata": {
    "collapsed": false
   },
   "outputs": [
    {
     "name": "stdout",
     "output_type": "stream",
     "text": [
      "[[ 5.   2.3  3.3  1. ]\n",
      " [ 4.9  3.1  1.5  0.1]]\n",
      "X_train shape (112, 4)\n",
      "X_test shape (38, 4)\n",
      "[[-0.91090798 -1.59761476 -0.15438202 -0.14641523]\n",
      " [-1.0271058   0.09442168 -1.15513491 -1.35614105]]\n"
     ]
    }
   ],
   "source": [
    "# splitting and Pre-Processing the data\n",
    "X_train, X_test, y_train,  y_test = train_test_split(X, y, test_size=0.25, random_state=33)\n",
    "print(X_train[:2])\n",
    "print(\"X_train shape\", X_train.shape)\n",
    "print(\"X_test shape\", X_test.shape)\n",
    "\n",
    "# Preprocessing and Standardize the features\n",
    "scaler = preprocessing.StandardScaler().fit(X_train)\n",
    "\n",
    "X_train = scaler.transform(X_train)\n",
    "X_test = scaler.transform(X_test)\n",
    "print(X_train[:2])"
   ]
  },
  {
   "cell_type": "markdown",
   "metadata": {},
   "source": [
    "** SGDClassifier **  \n",
    "\n",
    "    SGD stands for Stochastic Gradient Descent, a very popular numerical procedure \n",
    "    to find the local minimum of a function (in this case, the loss function, which \n",
    "    measures how far every instance is from our boundary). The algorithm will learn the \n",
    "    coefficients of the hyperplane by minimizing the loss function."
   ]
  },
  {
   "cell_type": "code",
   "execution_count": 4,
   "metadata": {
    "collapsed": false
   },
   "outputs": [
    {
     "name": "stdout",
     "output_type": "stream",
     "text": [
      "coefficient [[ -9.18360001  12.3553701  -20.48666511 -19.67619653]\n",
      " [ -7.45335653 -10.85334472  17.47448214 -25.00324191]\n",
      " [  0.14640522   1.04172728  31.69797189  35.7343131 ]]\n",
      "intercept:  [-19.53199304  -3.39921378 -46.95465167]\n",
      "[0]\n",
      "Model Accuracy on Train data:  0.910714285714\n",
      "Model Accuracy on Test data:  0.894736842105\n"
     ]
    }
   ],
   "source": [
    "# instantiate\n",
    "sgd = SGDClassifier()\n",
    "\n",
    "# fitting\n",
    "sgd.fit(X_train, y_train)\n",
    "\n",
    "# coefficient\n",
    "print(\"coefficient\", sgd.coef_)\n",
    "\n",
    "# intercept\n",
    "print(\"intercept: \", sgd.intercept_)\n",
    "\n",
    "# predicting for one\n",
    "y_pred = sgd.predict(scaler.transform([[4.9,3.1,1.5,0.1]]))\n",
    "print(y_pred)\n",
    "\n",
    "# predicting for X_test\n",
    "y_pred = sgd.predict(X_test)\n",
    "\n",
    "# checking accuracy score\n",
    "print(\"Model Accuracy on Train data: \", accuracy_score(y_train, sgd.predict(X_train)))\n",
    "print(\"Model Accuracy on Test data: \", accuracy_score(y_test, y_pred))\n"
   ]
  },
  {
   "cell_type": "code",
   "execution_count": 5,
   "metadata": {
    "collapsed": false
   },
   "outputs": [
    {
     "data": {
      "text/plain": [
       "<matplotlib.legend.Legend at 0x13360c6fc18>"
      ]
     },
     "execution_count": 5,
     "metadata": {},
     "output_type": "execute_result"
    },
    {
     "data": {
      "image/png": "[encoded data removed]",
      "text/plain": [
       "<matplotlib.figure.Figure at 0x13360ac4b38>"
      ]
     },
     "metadata": {},
     "output_type": "display_data"
    }
   ],
   "source": [
    "# let's plot the data\n",
    "plt.figure(figsize=(8,6))\n",
    "\n",
    "plt.scatter(X_train[:,0][y_train==0],X_train[:,1][y_train==0],color='red', label='setosa')\n",
    "plt.scatter(X_train[:,0][y_train==1],X_train[:,1][y_train==1],color='blue', label='verginica')\n",
    "plt.scatter(X_train[:,0][y_train==2],X_train[:,1][y_train==2],color='green', label='versicolour')\n",
    "\n",
    "plt.legend(loc='best')"
   ]
  },
  {
   "cell_type": "markdown",
   "metadata": {},
   "source": [
    "** Classification Report **  \n",
    "\n",
    "    Accuracy = (TP+TN)/m  \n",
    "    Precision = TP/(TP+FP)  \n",
    "    Recall = TP/(TP+FN)  \n",
    "    F1-score = 2 * Precision * Recall / (Precision + Recall)  \n"
   ]
  },
  {
   "cell_type": "code",
   "execution_count": 6,
   "metadata": {
    "collapsed": false
   },
   "outputs": [
    {
     "name": "stdout",
     "output_type": "stream",
     "text": [
      "             precision    recall  f1-score   support\n",
      "\n",
      "          0       1.00      1.00      1.00         8\n",
      "          1       0.82      0.82      0.82        11\n",
      "          2       0.89      0.89      0.89        19\n",
      "\n",
      "avg / total       0.89      0.89      0.89        38\n",
      "\n"
     ]
    }
   ],
   "source": [
    "# predicting \n",
    "print(classification_report(y_pred=y_pred, y_true=y_test))"
   ]
  },
  {
   "cell_type": "code",
   "execution_count": 7,
   "metadata": {
    "collapsed": false
   },
   "outputs": [
    {
     "data": {
      "text/plain": [
       "array([[ 8,  0,  0],\n",
       "       [ 0,  9,  2],\n",
       "       [ 0,  2, 17]])"
      ]
     },
     "execution_count": 7,
     "metadata": {},
     "output_type": "execute_result"
    }
   ],
   "source": [
    "confusion_matrix(y_pred=y_pred, y_true=y_test)"
   ]
  },
  {
   "cell_type": "markdown",
   "metadata": {},
   "source": [
    "     Using a pipeline mechanism to build and test our model "
   ]
  },
  {
   "cell_type": "code",
   "execution_count": 8,
   "metadata": {
    "collapsed": false
   },
   "outputs": [
    {
     "name": "stdout",
     "output_type": "stream",
     "text": [
      "[ 0.93333333  0.9         0.83333333  0.86666667  0.86666667]\n"
     ]
    }
   ],
   "source": [
    "# create a composite estimator made by a pipeline of the standarization and the linear model\n",
    "clf = pipeline.Pipeline([\n",
    "        ('scaler', preprocessing.StandardScaler()),\n",
    "        ('linear_model', SGDClassifier())\n",
    "])\n",
    "\n",
    "# create a k-fold cross validation iterator of k=5 folds\n",
    "cv = KFold(X.shape[0], 5, shuffle=True, random_state=33)\n",
    "\n",
    "# by default the score used is the one returned by score method of the estimator (accuracy)\n",
    "scores = cross_val_score(clf, X, y, cv=cv)\n",
    "\n",
    "print(scores)"
   ]
  },
  {
   "cell_type": "code",
   "execution_count": 9,
   "metadata": {
    "collapsed": false
   },
   "outputs": [
    {
     "name": "stdout",
     "output_type": "stream",
     "text": [
      "0.88 0.016996731712\n"
     ]
    }
   ],
   "source": [
    "# mean accuracy \n",
    "print(np.mean(scores), sp.stats.sem(scores))"
   ]
  },
  {
   "cell_type": "code",
   "execution_count": null,
   "metadata": {
    "collapsed": true
   },
   "outputs": [],
   "source": []
  }
 ],
 "metadata": {
  "anaconda-cloud": {},
  "kernelspec": {
   "display_name": "Python [default]",
   "language": "python",
   "name": "python3"
  },
  "language_info": {
   "codemirror_mode": {
    "name": "ipython",
    "version": 3
   },
   "file_extension": ".py",
   "mimetype": "text/x-python",
   "name": "python",
   "nbconvert_exporter": "python",
   "pygments_lexer": "ipython3",
   "version": "3.5.2"
  }
 },
 "nbformat": 4,
 "nbformat_minor": 0
}
