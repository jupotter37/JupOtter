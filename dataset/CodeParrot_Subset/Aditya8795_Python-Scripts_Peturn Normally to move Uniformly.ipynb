{
 "cells": [
  {
   "cell_type": "markdown",
   "metadata": {},
   "source": [
    "How should we peturb the individual components of a $d$ dimensional vector in order to ensure that all directions are treated as equally likely. \n",
    "\n",
    "In Random Search algorithms, we need to sample a few surrounding points representatively. Ideally we would like to sample on the unit ball (pick $v$) around the parameter vector $\\theta$ and take a step of size $\\alpha$ in that direction. This would be like a random walk.\n",
    "\n",
    "$$\\theta_{k+1} = \\theta_k + \\alpha v$$\n",
    "\n",
    "In simple random search used in RL, we approximate the gradient by picking $N$ random directions and taking a weighted average of them based on how much reward each of the directions give us.\n",
    "\n",
    "$$\\theta_{k+1} = \\theta_k + \\alpha \\frac{\\sum_{i=1}^N (R(\\theta_k + \\alpha v_i) - R(\\theta_k - \\alpha v_i))v_i}{N}$$\n",
    "\n",
    "Now the question is how to sample for $v$. In the lower dimensions we can sample from the unit circle using polar coordinates, it should be possible "
   ]
  },
  {
   "cell_type": "code",
   "execution_count": 1,
   "metadata": {},
   "outputs": [],
   "source": [
    "import numpy as np\n",
    "\n",
    "# returns a random d dimensional vector, a direction to peturb in \n",
    "def direction(d,t):\n",
    "    # if type == uniform\n",
    "    if(t == 'u'):\n",
    "        return np.random.uniform(-2/np.sqrt(d), 2/np.sqrt(d), d)\n",
    "    elif(t == 'n'):\n",
    "        return np.random.normal(0, 1/np.sqrt(d), d)\n",
    "    elif(t == 's'):\n",
    "        # a point on the N-Sphere r = 1 so it is ommited\n",
    "        angles = np.random.uniform(0, np.pi, d-2)\n",
    "        angleLast = np.random.uniform(0, 2*np.pi,1)[0]\n",
    "        x = np.zeros(d)\n",
    "        x[0] = np.cos(angles[0])\n",
    "        for i in range(1,d-1):\n",
    "            temp = 1\n",
    "            for j in range(i):\n",
    "                temp = temp * np.sin(angles[j])\n",
    "            if(i == d-2):\n",
    "                x[i] = temp * np.cos(angleLast)\n",
    "            else:\n",
    "                x[i] = temp*np.cos(angles[i])\n",
    "        x[d-1] = x[d-2]*np.tan(angleLast)\n",
    "        return x"
   ]
  },
  {
   "cell_type": "code",
   "execution_count": 2,
   "metadata": {},
   "outputs": [],
   "source": [
    "#N = 10000\n",
    "N = 100 # number of directions sampled AND the number of dimensions.\n",
    "d = N\n",
    "hN = []\n",
    "normal = direction(d,'n').reshape(d,1)\n",
    "\n",
    "for i in range(N-1):\n",
    "    hN.append(np.linalg.norm(direction(d,'n')))\n",
    "    normal = np.concatenate((normal,direction(d,'n').reshape(d,1)), axis = 1)\n",
    "    \n"
   ]
  },
  {
   "cell_type": "code",
   "execution_count": 3,
   "metadata": {},
   "outputs": [
    {
     "data": {
      "text/plain": [
       "<Figure size 640x480 with 1 Axes>"
      ]
     },
     "metadata": {},
     "output_type": "display_data"
    }
   ],
   "source": [
    "import matplotlib.pyplot as plt\n",
    "plt.hist(hN)\n",
    "plt.show()"
   ]
  },
  {
   "cell_type": "code",
   "execution_count": 4,
   "metadata": {},
   "outputs": [],
   "source": [
    "hU = []\n",
    "\n",
    "uniform = direction(d,'u').reshape(d,1)\n",
    "\n",
    "for i in range(N-1):\n",
    "    hU.append(np.linalg.norm(direction(d,'u')))\n",
    "    uniform = np.concatenate((uniform,direction(d,'u').reshape(d,1)), axis = 1)\n",
    "    "
   ]
  },
  {
   "cell_type": "code",
   "execution_count": 5,
   "metadata": {},
   "outputs": [
    {
     "data": {
      "image/png": "[encoded data removed]",
      "text/plain": [
       "<Figure size 432x288 with 1 Axes>"
      ]
     },
     "metadata": {
      "needs_background": "light"
     },
     "output_type": "display_data"
    }
   ],
   "source": [
    "import matplotlib.pyplot as plt\n",
    "plt.hist(hU)\n",
    "plt.show()"
   ]
  },
  {
   "cell_type": "code",
   "execution_count": 6,
   "metadata": {},
   "outputs": [
    {
     "name": "stdout",
     "output_type": "stream",
     "text": [
      "2.220446049250313e-16\n",
      "2.220446049250313e-16\n",
      "2.220446049250313e-16\n",
      "2.220446049250313e-16\n",
      "2.220446049250313e-16\n"
     ]
    }
   ],
   "source": [
    "N = 1000\n",
    "hS = []\n",
    "\n",
    "spherical = direction(d,'s').reshape(d,1)\n",
    "\n",
    "for i in range(N-1):\n",
    "    hS.append(np.linalg.norm(direction(d,'s')))\n",
    "    spherical = np.concatenate((spherical,direction(d,'s').reshape(d,1)), axis = 1)\n",
    "    \n",
    "    \n",
    "for i in hS:\n",
    "    # All vectors are close enough to 1 in length. Even for small d\n",
    "    if((i-1)>10**-16):\n",
    "        print(i-1)"
   ]
  },
  {
   "cell_type": "markdown",
   "metadata": {},
   "source": [
    "So from the histograms above we can see all these methods give us points on the unit sphere. (Uniform gives us almost) But are they all uncorrelated? Let us see,\n",
    "\n",
    "See how as $N$ increases the matrix tends to $I$ showing that they are indeed drawn i.i.d"
   ]
  },
  {
   "cell_type": "code",
   "execution_count": 7,
   "metadata": {},
   "outputs": [
    {
     "data": {
      "text/plain": [
       "array([[ 0.92668584, -0.15721723,  0.06571708, ...,  0.01862396,\n",
       "         0.10557481,  0.00388946],\n",
       "       [-0.15721723,  1.24468988,  0.1562552 , ...,  0.02279731,\n",
       "         0.05295795, -0.10228298],\n",
       "       [ 0.06571708,  0.1562552 ,  1.17864114, ...,  0.17327958,\n",
       "        -0.07316159, -0.04910568],\n",
       "       ...,\n",
       "       [ 0.01862396,  0.02279731,  0.17327958, ...,  0.91062053,\n",
       "         0.09141464, -0.11415045],\n",
       "       [ 0.10557481,  0.05295795, -0.07316159, ...,  0.09141464,\n",
       "         1.20160252,  0.01323173],\n",
       "       [ 0.00388946, -0.10228298, -0.04910568, ..., -0.11415045,\n",
       "         0.01323173,  1.11486184]])"
      ]
     },
     "execution_count": 7,
     "metadata": {},
     "output_type": "execute_result"
    }
   ],
   "source": [
    "np.matmul(normal.T, normal)"
   ]
  },
  {
   "cell_type": "code",
   "execution_count": 8,
   "metadata": {},
   "outputs": [
    {
     "data": {
      "text/plain": [
       "array([[ 1.2516747 ,  0.10667293,  0.18255579, ...,  0.01486249,\n",
       "         0.1055461 ,  0.19918725],\n",
       "       [ 0.10667293,  1.35930531,  0.07551817, ..., -0.08116834,\n",
       "        -0.05050703, -0.10254823],\n",
       "       [ 0.18255579,  0.07551817,  1.3725409 , ..., -0.01580158,\n",
       "        -0.28052221, -0.12417085],\n",
       "       ...,\n",
       "       [ 0.01486249, -0.08116834, -0.01580158, ...,  1.79472098,\n",
       "        -0.2101487 ,  0.01505737],\n",
       "       [ 0.1055461 , -0.05050703, -0.28052221, ..., -0.2101487 ,\n",
       "         1.32117951,  0.03939992],\n",
       "       [ 0.19918725, -0.10254823, -0.12417085, ...,  0.01505737,\n",
       "         0.03939992,  1.39414934]])"
      ]
     },
     "execution_count": 8,
     "metadata": {},
     "output_type": "execute_result"
    }
   ],
   "source": [
    "np.matmul(uniform.T, uniform)"
   ]
  },
  {
   "cell_type": "code",
   "execution_count": 9,
   "metadata": {},
   "outputs": [
    {
     "data": {
      "text/plain": [
       "array([[ 1.        , -0.71569501, -0.86257711, ...,  0.3974408 ,\n",
       "         0.5421008 , -0.65220909],\n",
       "       [-0.71569501,  1.        ,  0.72344861, ..., -0.20731027,\n",
       "        -0.77324699,  0.8634745 ],\n",
       "       [-0.86257711,  0.72344861,  1.        , ..., -0.5127261 ,\n",
       "        -0.32940257,  0.75837026],\n",
       "       ...,\n",
       "       [ 0.3974408 , -0.20731027, -0.5127261 , ...,  1.        ,\n",
       "        -0.27848992, -0.55480492],\n",
       "       [ 0.5421008 , -0.77324699, -0.32940257, ..., -0.27848992,\n",
       "         1.        , -0.41714964],\n",
       "       [-0.65220909,  0.8634745 ,  0.75837026, ..., -0.55480492,\n",
       "        -0.41714964,  1.        ]])"
      ]
     },
     "execution_count": 9,
     "metadata": {},
     "output_type": "execute_result"
    }
   ],
   "source": [
    "np.matmul(spherical.T, spherical)"
   ]
  },
  {
   "cell_type": "markdown",
   "metadata": {},
   "source": [
    "Now lets see what happens to this vector if we rotate it, lets generate a arbitary orthogonal matrix and apply it and see if it still lies on sphere....\n"
   ]
  },
  {
   "cell_type": "code",
   "execution_count": null,
   "metadata": {},
   "outputs": [],
   "source": []
  }
 ],
 "metadata": {
  "kernelspec": {
   "display_name": "Python 3",
   "language": "python",
   "name": "python3"
  },
  "language_info": {
   "codemirror_mode": {
    "name": "ipython",
    "version": 3
   },
   "file_extension": ".py",
   "mimetype": "text/x-python",
   "name": "python",
   "nbconvert_exporter": "python",
   "pygments_lexer": "ipython3",
   "version": "3.7.3"
  }
 },
 "nbformat": 4,
 "nbformat_minor": 2
}
