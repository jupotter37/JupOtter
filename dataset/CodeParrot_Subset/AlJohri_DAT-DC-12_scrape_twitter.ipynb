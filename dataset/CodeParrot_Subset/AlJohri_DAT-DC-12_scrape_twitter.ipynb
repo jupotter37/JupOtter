{
 "cells": [
  {
   "cell_type": "code",
   "execution_count": 1,
   "metadata": {
    "collapsed": true
   },
   "outputs": [],
   "source": [
    "import requests, lxml.html"
   ]
  },
  {
   "cell_type": "code",
   "execution_count": 2,
   "metadata": {
    "collapsed": true
   },
   "outputs": [],
   "source": [
    "response = requests.get(\"https://twitter.com/Metrorailinfo\")\n",
    "doc = lxml.html.fromstring(response.content)"
   ]
  },
  {
   "cell_type": "code",
   "execution_count": 13,
   "metadata": {
    "collapsed": false,
    "scrolled": true
   },
   "outputs": [
    {
     "name": "stdout",
     "output_type": "stream",
     "text": [
      "Yellow/Green Line: Normal service has resumed at Archives.\n",
      "Yellow/Green Line: Expect residual delays to Mount Vernon Square & Greenbelt due to earlier police activity at Archives.\n",
      "Orange Line: Normal service has resumed at Dunn Loring.\n",
      "Orange Line: Expect residual delays to New Carrollton due to an earlier train malfunction at Dunn Loring.\n",
      "Orange Line: Expect delays to New Carrollton due to a disabled train at Dunn Loring.\n",
      "Green Line: Normal service has resumed between Fort Totten & Prince George's Plaza.\n",
      "Org/Blu/Sil Line: Normal service has resumed at Farragut West.\n",
      "Org/Blu/Sil Line: Expect residual delays to Largo Town Center & New Carrollton due to an earlier track problem outside Farragut West.\n",
      "Blue/Silver/Orange Line: Normal service has resumed outside Stadium-Armory.\n",
      "Green Line: Delays possible in both directions due to scheduled track work btwn Ft. Totten & Prince George's Plaza.\n",
      "Blue/Silver/Orange Line: Expect residual delays in both directions due to an earlier switch problem outside Stadium-Armory.\n",
      "Blue/Silver/Orange: Due to a switch problem outside Stadium-Armory, trains are experiencing delays in both directions. 10:14a #wmata\n",
      "Blue/Silver/Orange Line: Expect delays in both directions due to a switch problem outside Stadium-Armory.\n",
      "Blu/Sil/Org Line: Expect delays to Vienna, Franconia, & Wiehle-Reston East due to a switch problem outside Stadium-Armory.\n",
      "Yellow Line: All trains are operating btwn Huntington & Mt Vernon Sq only due to scheduled track work near Fort Totten.\n",
      "Red Line: Normal service has resumed outside Friendship Heights.\n",
      "Red Line: No longer single tracking. Residual delays continue in both directions due to an earlier track problem outside Friendship Hghts.\n",
      "Red Line-good track inspection, 2-track service resuming Friendship Heights to Medical Center. 8:47a #wmata\n",
      "Red Line: Outbound trains are bypassing Bethesda to reduce single tracking delays. Use inbound trains for this station.\n",
      "Red Line: Single tracking btwn Friendship Hghts & Medical Ctr due to a track problem outside Friendship Hghts. Delays in both directions.\n"
     ]
    }
   ],
   "source": [
    "for el in doc.cssselect(\"div.js-tweet-text-container\"):\n",
    "    print(el.text_content().strip())"
   ]
  },
  {
   "cell_type": "code",
   "execution_count": 18,
   "metadata": {
    "collapsed": false
   },
   "outputs": [
    {
     "name": "stdout",
     "output_type": "stream",
     "text": [
      "0 Yellow/Green Line: Normal service has resumed at Archives.\n",
      "-------------------------------------\n",
      "1 Yellow/Green Line: Expect residual delays to Mount Vernon Square & Greenbelt due to earlier police activity at Archives.\n",
      "-------------------------------------\n",
      "2 Orange Line: Normal service has resumed at Dunn Loring.\n",
      "-------------------------------------\n",
      "3 Orange Line: Expect residual delays to New Carrollton due to an earlier train malfunction at Dunn Loring.\n",
      "-------------------------------------\n",
      "4 Orange Line: Expect delays to New Carrollton due to a disabled train at Dunn Loring.\n",
      "-------------------------------------\n",
      "5 Green Line: Normal service has resumed between Fort Totten & Prince George's Plaza.\n",
      "-------------------------------------\n",
      "6 Org/Blu/Sil Line: Normal service has resumed at Farragut West.\n",
      "-------------------------------------\n",
      "7 Org/Blu/Sil Line: Expect residual delays to Largo Town Center & New Carrollton due to an earlier track problem outside Farragut West.\n",
      "-------------------------------------\n",
      "8 Blue/Silver/Orange Line: Normal service has resumed outside Stadium-Armory.\n",
      "-------------------------------------\n",
      "9 Green Line: Delays possible in both directions due to scheduled track work btwn Ft. Totten & Prince George's Plaza.\n",
      "-------------------------------------\n",
      "10 Blue/Silver/Orange Line: Expect residual delays in both directions due to an earlier switch problem outside Stadium-Armory.\n",
      "-------------------------------------\n",
      "11 Blue/Silver/Orange: Due to a switch problem outside Stadium-Armory, trains are experiencing delays in both directions. 10:14a #wmata\n",
      "-------------------------------------\n",
      "12 Blue/Silver/Orange Line: Expect delays in both directions due to a switch problem outside Stadium-Armory.\n",
      "-------------------------------------\n",
      "13 Blu/Sil/Org Line: Expect delays to Vienna, Franconia, & Wiehle-Reston East due to a switch problem outside Stadium-Armory.\n",
      "-------------------------------------\n",
      "14 Yellow Line: All trains are operating btwn Huntington & Mt Vernon Sq only due to scheduled track work near Fort Totten.\n",
      "-------------------------------------\n",
      "15 Red Line: Normal service has resumed outside Friendship Heights.\n",
      "-------------------------------------\n",
      "16 Red Line: No longer single tracking. Residual delays continue in both directions due to an earlier track problem outside Friendship Hghts.\n",
      "-------------------------------------\n",
      "17 Red Line-good track inspection, 2-track service resuming Friendship Heights to Medical Center. 8:47a #wmata\n",
      "-------------------------------------\n",
      "18 Red Line: Outbound trains are bypassing Bethesda to reduce single tracking delays. Use inbound trains for this station.\n",
      "-------------------------------------\n",
      "19 Red Line: Single tracking btwn Friendship Hghts & Medical Ctr due to a track problem outside Friendship Hghts. Delays in both directions.\n",
      "-------------------------------------\n"
     ]
    }
   ],
   "source": [
    "for i, el in enumerate(doc.cssselect(\"div.js-tweet-text-container\")):\n",
    "    print(i, el.text_content().strip())\n",
    "    print(\"-------------------------------------\")"
   ]
  }
 ],
 "metadata": {
  "kernelspec": {
   "display_name": "Python 3",
   "language": "python",
   "name": "python3"
  },
  "language_info": {
   "codemirror_mode": {
    "name": "ipython",
    "version": 3
   },
   "file_extension": ".py",
   "mimetype": "text/x-python",
   "name": "python",
   "nbconvert_exporter": "python",
   "pygments_lexer": "ipython3",
   "version": "3.5.1"
  }
 },
 "nbformat": 4,
 "nbformat_minor": 0
}
