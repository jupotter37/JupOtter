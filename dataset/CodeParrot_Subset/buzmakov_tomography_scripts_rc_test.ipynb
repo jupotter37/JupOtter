{
 "cells": [
  {
   "cell_type": "code",
   "execution_count": null,
   "metadata": {
    "collapsed": true
   },
   "outputs": [],
   "source": [
    "%matplotlib inline"
   ]
  },
  {
   "cell_type": "code",
   "execution_count": null,
   "metadata": {
    "collapsed": true
   },
   "outputs": [],
   "source": [
    "import astra\n",
    "import numpy as np\n",
    "import pylab as plt\n",
    "import os\n",
    "import glob\n",
    "\n",
    "import matplotlib\n",
    "font = {'size'   : 18}\n",
    "matplotlib.rc('font', **font)"
   ]
  },
  {
   "cell_type": "code",
   "execution_count": null,
   "metadata": {
    "collapsed": true
   },
   "outputs": [],
   "source": [
    "def log_progress(sequence, every=None, size=None):\n",
    "    from ipywidgets import IntProgress, HTML, VBox\n",
    "    from IPython.display import display\n",
    "\n",
    "    is_iterator = False\n",
    "    if size is None:\n",
    "        try:\n",
    "            size = len(sequence)\n",
    "        except TypeError:\n",
    "            is_iterator = True\n",
    "    if size is not None:\n",
    "        if every is None:\n",
    "            if size <= 200:\n",
    "                every = 1\n",
    "            else:\n",
    "                every = size / 200     # every 0.5%\n",
    "    else:\n",
    "        assert every is not None, 'sequence is iterator, set every'\n",
    "\n",
    "    if is_iterator:\n",
    "        progress = IntProgress(min=0, max=1, value=1)\n",
    "        progress.bar_style = 'info'\n",
    "    else:\n",
    "        progress = IntProgress(min=0, max=size, value=0)\n",
    "    label = HTML()\n",
    "    box = VBox(children=[label, progress])\n",
    "    display(box)\n",
    "\n",
    "    index = 0\n",
    "    try:\n",
    "        for index, record in enumerate(sequence, 1):\n",
    "            if index == 1 or index % every == 0:\n",
    "                if is_iterator:\n",
    "                    label.value = '{index} / ?'.format(index=index)\n",
    "                else:\n",
    "                    progress.value = index\n",
    "                    label.value = u'{index} / {size}'.format(\n",
    "                        index=index,\n",
    "                        size=size\n",
    "                    )\n",
    "            yield record\n",
    "    except:\n",
    "        progress.bar_style = 'danger'\n",
    "        raise\n",
    "    else:\n",
    "        progress.bar_style = 'success'\n",
    "        progress.value = index\n",
    "        label.value = unicode(index or '?')"
   ]
  },
  {
   "cell_type": "code",
   "execution_count": null,
   "metadata": {
    "collapsed": true
   },
   "outputs": [],
   "source": [
    "def images_diff(im1, im2):\n",
    "    assert(im1.shape==im2.shape)\n",
    "    rec_diff = np.zeros(shape=(im1.shape[0],im1.shape[1],3), dtype='float32')\n",
    "    im1_t = im1.copy()\n",
    "    im1_t = (im1_t-im1_t.min())/(im1_t.max()-im1_t.min())\n",
    "    \n",
    "    im2_t = im2.copy()\n",
    "    im2_t = (im2_t-im2_t.min())/(im2_t.max()-im2_t.min())\n",
    "    \n",
    "    # nrecon_rec_t[nrecon_rec_t<0] = 0\n",
    "    diff_rec = im1_t-im2_t\n",
    "    rec_diff[...,0] = diff_rec*(diff_rec>0)\n",
    "    rec_diff[...,1] = -diff_rec*(diff_rec<0)\n",
    "    rec_diff[...,2] = rec_diff[...,1]\n",
    "    return rec_diff"
   ]
  },
  {
   "cell_type": "code",
   "execution_count": null,
   "metadata": {},
   "outputs": [],
   "source": [
    "data_root = '/diskmnt/a/makov/yaivan/MMC_1/'\n",
    "nrecon_root_folder = os.path.join(data_root,'_tmp','nrecon')\n",
    "nrecon_folders = glob.glob(os.path.join(nrecon_root_folder, '*'))\n",
    "nrecon_folders = [nf for nf in nrecon_folders if os.path.isdir(nf)]\n",
    "print len(nrecon_folders)"
   ]
  },
  {
   "cell_type": "code",
   "execution_count": null,
   "metadata": {},
   "outputs": [],
   "source": [
    "!ls -la /diskmnt/a/makov/yaivan/MMC_1/Raw/*.tif | wc -l\n",
    "!ls -la /diskmnt/a/makov/yaivan/MMC_1/Raw/*.iif | wc -l"
   ]
  },
  {
   "cell_type": "code",
   "execution_count": null,
   "metadata": {},
   "outputs": [],
   "source": [
    "2030/25"
   ]
  },
  {
   "cell_type": "code",
   "execution_count": null,
   "metadata": {},
   "outputs": [],
   "source": [
    "!ls /diskmnt/a/makov/yaivan/MMC_1/_tmp/nrecon/bh_0_*"
   ]
  },
  {
   "cell_type": "code",
   "execution_count": null,
   "metadata": {},
   "outputs": [],
   "source": [
    "!md5sum /diskmnt/a/makov/yaivan/MMC_1/_tmp/nrecon/bh_0_rc_0/*"
   ]
  },
  {
   "cell_type": "code",
   "execution_count": null,
   "metadata": {},
   "outputs": [],
   "source": [
    "!md5sum /diskmnt/a/makov/yaivan/MMC_1/_tmp/nrecon/bh_0_rc_20/*"
   ]
  },
  {
   "cell_type": "code",
   "execution_count": null,
   "metadata": {
    "collapsed": true
   },
   "outputs": [],
   "source": [
    "nrecon_folder = [d for d in nrecon_folders if 'bh_0_rc_0' in d][0]\n",
    "data_file = os.path.join(nrecon_folder, 'MMC1_2.82um__sino0960.tif')\n",
    "sinogram0 = plt.imread(data_file).astype('float32')\n",
    "data_file = os.path.join(nrecon_folder, 'MMC1_2.82um__sinoraw_0960.tif')\n",
    "sinraw0 = plt.imread(data_file).astype('float32')\n",
    "rec_file = os.path.join(nrecon_folder, 'MMC1_2.82um__rec0960.png')\n",
    "rec0 = plt.imread(rec_file).astype('float32')"
   ]
  },
  {
   "cell_type": "code",
   "execution_count": null,
   "metadata": {
    "collapsed": true
   },
   "outputs": [],
   "source": [
    "nrecon_folder = [d for d in nrecon_folders if 'bh_0_rc_10' in d][0]\n",
    "data_file = os.path.join(nrecon_folder, 'MMC1_2.82um__sino0960.tif')\n",
    "sinogram10 = plt.imread(data_file).astype('float32')\n",
    "rec_file = os.path.join(nrecon_folder, 'MMC1_2.82um__rec0960.png')\n",
    "rec10 = plt.imread(rec_file).astype('float32')"
   ]
  },
  {
   "cell_type": "code",
   "execution_count": null,
   "metadata": {},
   "outputs": [],
   "source": [
    "t = plt.imread('/diskmnt/a/makov/yaivan/MMC_1/Raw/MMC1_2.82um__arc.tif')\n",
    "plt.imshow(t, cmap=plt.cm.gray)\n",
    "plt.colorbar(orientation='horizontal')"
   ]
  },
  {
   "cell_type": "code",
   "execution_count": null,
   "metadata": {},
   "outputs": [],
   "source": [
    "data_files = glob.glob('/diskmnt/a/makov/yaivan/MMC_1/Raw/MMC1_2.82um_????.tif')\n",
    "data_files = sorted(data_files)\n",
    "print(len(data_files))"
   ]
  },
  {
   "cell_type": "code",
   "execution_count": null,
   "metadata": {
    "collapsed": true
   },
   "outputs": [],
   "source": [
    "s0=np.diff(sinogram10[:,2000]-sinogram0[:,2000])\n",
    "edges = np.argwhere(np.abs(s0)>5)"
   ]
  },
  {
   "cell_type": "code",
   "execution_count": null,
   "metadata": {
    "collapsed": true
   },
   "outputs": [],
   "source": [
    "def get_points(x):\n",
    "    return x.ravel()\n",
    "#     return np.hstack([x[:, 1:11].ravel(),x[:, -12:2].ravel()])\n",
    "                      \n",
    "t_arc = plt.imread('/diskmnt/a/makov/yaivan/MMC_1/Raw/MMC1_2.82um__arc.tif').astype('float32')\n",
    "\n",
    "res = []\n",
    "for df in log_progress(data_files[0:1000:5]):\n",
    "    t_proj =plt.imread(df).astype('float32')\n",
    "    res.append(np.std(t_proj))"
   ]
  },
  {
   "cell_type": "code",
   "execution_count": null,
   "metadata": {},
   "outputs": [],
   "source": [
    "plt.figure(figsize=(15,10))\n",
    "plt.plot(np.arange(0,5*len(res),5),res)\n",
    "for e in edges:\n",
    "    if e<1000:\n",
    "        plt.vlines(e,np.min(res),np.max(res))\n",
    "plt.grid()"
   ]
  },
  {
   "cell_type": "code",
   "execution_count": null,
   "metadata": {},
   "outputs": [],
   "source": [
    "plt.plot(edges[:-1]-edges[1:],'o')\n",
    "plt.grid()"
   ]
  },
  {
   "cell_type": "code",
   "execution_count": null,
   "metadata": {
    "collapsed": true
   },
   "outputs": [],
   "source": [
    "nrecon_folder = [d for d in nrecon_folders if 'bh_0_rc_5' in d][0]\n",
    "data_file = os.path.join(nrecon_folder, 'MMC1_2.82um__sino0960.tif')\n",
    "sinogram5 = plt.imread(data_file).astype('float32')\n",
    "rec_file = os.path.join(nrecon_folder, 'MMC1_2.82um__rec0960.png')\n",
    "rec5 = plt.imread(rec_file).astype('float32')"
   ]
  },
  {
   "cell_type": "code",
   "execution_count": null,
   "metadata": {
    "collapsed": true
   },
   "outputs": [],
   "source": [
    "nrecon_folder = [d for d in nrecon_folders if 'bh_0_rc_15' in d][0]\n",
    "data_file = os.path.join(nrecon_folder, 'MMC1_2.82um__sino0960.tif')\n",
    "sinogram15 = plt.imread(data_file).astype('float32')\n",
    "rec_file = os.path.join(nrecon_folder, 'MMC1_2.82um__rec0960.png')\n",
    "rec15 = plt.imread(rec_file).astype('float32')"
   ]
  },
  {
   "cell_type": "code",
   "execution_count": null,
   "metadata": {
    "collapsed": true
   },
   "outputs": [],
   "source": [
    "nrecon_folder = [d for d in nrecon_folders if 'bh_0_rc_20' in d][0]\n",
    "data_file = os.path.join(nrecon_folder, 'MMC1_2.82um__sino0960.tif')\n",
    "sinogram20 = plt.imread(data_file).astype('float32')\n",
    "rec_file = os.path.join(nrecon_folder, 'MMC1_2.82um__rec0960.png')\n",
    "rec20 = plt.imread(rec_file).astype('float32')"
   ]
  },
  {
   "cell_type": "code",
   "execution_count": null,
   "metadata": {
    "collapsed": true
   },
   "outputs": [],
   "source": [
    "nrecon_folder = [d for d in nrecon_folders if 'bh_92_rc_0' in d][0]\n",
    "data_file = os.path.join(nrecon_folder, 'MMC1_2.82um__sino0960.tif')\n",
    "sinogram0_bh = plt.imread(data_file).astype('float32')\n",
    "data_file = os.path.join(nrecon_folder, 'MMC1_2.82um__sinoraw_0960.tif')\n",
    "sinraw0_bh = plt.imread(data_file).astype('float32')\n",
    "rec_file = os.path.join(nrecon_folder, 'MMC1_2.82um__rec0960.png')\n",
    "rec0_bh = plt.imread(rec_file).astype('float32')"
   ]
  },
  {
   "cell_type": "code",
   "execution_count": null,
   "metadata": {
    "collapsed": true
   },
   "outputs": [],
   "source": [
    "nrecon_folder = [d for d in nrecon_folders if 'bh_92_rc_20' in d][0]\n",
    "data_file = os.path.join(nrecon_folder, 'MMC1_2.82um__sino0960.tif')\n",
    "sinogram20_bh = plt.imread(data_file).astype('float32')\n",
    "data_file = os.path.join(nrecon_folder, 'MMC1_2.82um__sinoraw_0960.tif')\n",
    "sinraw20_bh = plt.imread(data_file).astype('float32')\n",
    "rec_file = os.path.join(nrecon_folder, 'MMC1_2.82um__rec0960.png')\n",
    "rec20_bh = plt.imread(rec_file).astype('float32')"
   ]
  },
  {
   "cell_type": "code",
   "execution_count": null,
   "metadata": {
    "collapsed": true
   },
   "outputs": [],
   "source": [
    "data_file = os.path.join('/home/makov/Downloads/', 'MMC1_2.82um__sino1040.tif')\n",
    "sinogram1040 = plt.imread(data_file).astype('float32')\n",
    "rec1040 = plt.imread(\n",
    "    os.path.join('/home/makov/Downloads/', 'MMC1_2.82um__rec1040.png')).astype('float32')"
   ]
  },
  {
   "cell_type": "raw",
   "metadata": {},
   "source": [
    "# %load /diskmnt/a/makov/yaivan/MMC_1/_tmp/nrecon/bh_92_rc_0/tomo_config.log\n",
    "[System]\n",
    "Scanner = Skyscan1172\n",
    "Instrument S/N = 08G01121\n",
    "Hardware version = A\n",
    "Software = Version 1. 5 (build 18)\n",
    "Home directory = C:\\SkyScan\n",
    "Source Type = Hamamatsu 100/250\n",
    "Camera = Hamamatsu 10Mp camera\n",
    "Camera Pixel Size (um) = 11.32\n",
    "CameraXYRatio = 1.0023\n",
    "Incl.in lifting (um/mm) = 0.0000\n",
    "\n",
    "[Acquisition]\n",
    "Data directory = D:\\Results\\Yakimchuk\\2015-Spectrum Reconctruction\\MultiMineral Calibration\\2015.03.18 MMC_1\\Raw\n",
    "Filename Prefix = MMC1_2.82um_\n",
    "Number of Files = 2030\n",
    "Source Voltage (kV) = 100\n",
    "Source Current (uA) = 100\n",
    "Number of Rows = 2096\n",
    "Number of Columns = 4000\n",
    "Image crop origin X = 0\n",
    "Image crop origin Y = 0\n",
    "Camera binning = 1x1\n",
    "Image Rotation = 0.6500\n",
    "Gantry direction = CC\n",
    "Image Pixel Size (um) = 2.82\n",
    "Object to Source (mm) = 56.135\n",
    "Camera to Source (mm) = 225.082\n",
    "Vertical Object Position (mm) = 6.900\n",
    "Optical Axis (line) = 960\n",
    "Filter = Al 0.5 mm\n",
    "Image Format = TIFF\n",
    "Depth (bits) = 16\n",
    "Screen LUT = 0\n",
    "Exposure (ms) = 1767\n",
    "Rotation Step (deg) = 0.100\n",
    "Frame Averaging = ON (15)\n",
    "Random Movement = OFF (10)\n",
    "Use 360 Rotation = NO\n",
    "Geometrical Correction = ON\n",
    "Camera Offset = OFF\n",
    "Median Filtering = ON\n",
    "Flat Field Correction = ON\n",
    "Rotation Direction = CC\n",
    "Scanning Trajectory = ROUND\n",
    "Type Of Motion = STEP AND SHOOT\n",
    "Study Date and Time = Mar 19, 2015  10:11:11\n",
    "Scan duration = 16:08:02\n",
    "\n",
    "[Reconstruction]\n",
    "Reconstruction Program = NRecon\n",
    "Program Version = Version: 1.6.5.8\n",
    "Program Home Directory = C:\\SkyScan\\NRecon_GPU\n",
    "Reconstruction engine = NReconServer\n",
    "Engine version = Version: 1.6.5\n",
    "Reconstruction from batch = No\n",
    "Reconstruction servers = slb-7hlv74j  slb-9hlv74j  slb-7pbv74j\n",
    "Option for additional F4F float format = OFF\n",
    "Dataset Origin = Skyscan1172\n",
    "Dataset Prefix = MMC1_2.82um_\n",
    "Dataset Directory = f:\\big\\yaivan\\MMC_1\\RAW\n",
    "Output Directory = C:\\Users\\makov\\Desktop\\NRecon_out\\MMC1_2.82um_\\bh_92_rc_0\n",
    "Time and Date = Mar 19, 2015  13:00:46\n",
    "First Section = 960\n",
    "Last Section = 960\n",
    "Reconstruction duration per slice (seconds) = 1.859491\n",
    "Total reconstruction time (1886 slices) in seconds = 3507.000000\n",
    "Postalignment = -1.00\n",
    "Section to Section Step = 1\n",
    "Sections Count = 1886\n",
    "Result File Type = PNG\n",
    "Result File Header Length (bytes) = Unknown: compressed JPG format (100%)\n",
    "Result Image Width (pixels) = 4000\n",
    "Result Image Height (pixels) = 4000\n",
    "Pixel Size (um) = 2.82473\n",
    "Reconstruction Angular Range (deg) = 202.90\n",
    "Use 180+ = OFF\n",
    "Angular Step (deg) = 0.1000\n",
    "Smoothing = 0\n",
    "Ring Artifact Correction = 0\n",
    "Draw Scales = OFF\n",
    "Object Bigger than FOV = OFF\n",
    "Reconstruction from ROI = OFF\n",
    "Filter cutoff relative to Nyquisit frequency = 100\n",
    "Filter type = 0\n",
    "Filter type meaning(1) = 0: Hamming (Ramp in case of optical scanner); 1: Hann; 2: Ramp; 3: Almost Ramp;\n",
    "Filter type meaning(2) = 11: Cosine; 12: Shepp-Logan; [100,200]: Generalized Hamming, alpha=(iFilter-100)/100\n",
    "Undersampling factor = 1\n",
    "Threshold for defect pixel mask (%) = 0\n",
    "Beam Hardening Correction (%) = 92\n",
    "CS Static Rotation (deg) = 0.0\n",
    "Minimum for CS to Image Conversion = -0.1800\n",
    "Maximum for CS to Image Conversion = 0.5200\n",
    "HU Calibration = OFF\n",
    "BMP LUT = 0\n",
    "Cone-beam Angle Horiz.(deg) = 11.493867\n",
    "Cone-beam Angle Vert.(deg) = 6.037473\n",
    "\n"
   ]
  },
  {
   "cell_type": "code",
   "execution_count": null,
   "metadata": {},
   "outputs": [],
   "source": [
    "plt.figure(figsize=(10,12))\n",
    "plt.imshow(sinogram0, cmap=plt.cm.gray)\n",
    "plt.colorbar(orientation='horizontal')"
   ]
  },
  {
   "cell_type": "code",
   "execution_count": null,
   "metadata": {},
   "outputs": [],
   "source": [
    "plt.figure(figsize=(10,12))\n",
    "plt.imshow(sinraw0, cmap=plt.cm.gray)\n",
    "plt.colorbar(orientation='horizontal')"
   ]
  },
  {
   "cell_type": "code",
   "execution_count": null,
   "metadata": {},
   "outputs": [],
   "source": [
    "plt.figure(figsize=(10,7))\n",
    "plt.plot(sinraw0.max(axis=-1))\n",
    "plt.grid(True)"
   ]
  },
  {
   "cell_type": "code",
   "execution_count": null,
   "metadata": {},
   "outputs": [],
   "source": [
    "plt.figure(figsize=(10,7))\n",
    "plt.plot(sinraw0[:,0:10].sum(axis=-1))\n",
    "plt.grid(True)"
   ]
  },
  {
   "cell_type": "code",
   "execution_count": null,
   "metadata": {},
   "outputs": [],
   "source": [
    "plt.figure(figsize=(10,7))\n",
    "plt.plot(sinogram0.sum(axis=0)/sinraw0.shape[0])\n",
    "plt.grid(True)"
   ]
  },
  {
   "cell_type": "code",
   "execution_count": null,
   "metadata": {},
   "outputs": [],
   "source": [
    "sn0 = -np.log(sinraw0_bh/sinraw0_bh.max())\n",
    "plt.figure(figsize=(10,12))\n",
    "plt.imshow(sn0, cmap=plt.cm.gray)\n",
    "plt.colorbar(orientation='horizontal')"
   ]
  },
  {
   "cell_type": "code",
   "execution_count": null,
   "metadata": {},
   "outputs": [],
   "source": [
    "plt.figure(figsize=(10,12))\n",
    "plt.imshow(100*images_diff(sn0, sinogram0))"
   ]
  },
  {
   "cell_type": "code",
   "execution_count": null,
   "metadata": {
    "collapsed": true
   },
   "outputs": [],
   "source": [
    "def build_reconstruction_geomety(detector_size, angles):\n",
    "    \n",
    "    # proj_geom = astra.create_proj_geom('parallel', 1.0, detector_size, angles)\n",
    "    \n",
    "    #Object to Source (mm) = 56.135\n",
    "    #Camera to Source (mm) = 225.082\n",
    "    \n",
    "    # All distances in [pixels]\n",
    "    pixel_size = 2.82473e-3\n",
    "    os_distance = (56.135)/pixel_size\n",
    "    ds_distance = (225.082)/pixel_size\n",
    "    \n",
    "    proj_geom = astra.create_proj_geom('fanflat', ds_distance/os_distance, detector_size, angles,\n",
    "                                       os_distance, (ds_distance-os_distance))\n",
    "#     proj_geom = astra.create_proj_geom('parallel', 1, detector_size, angles)\n",
    "    \n",
    "    return proj_geom\n",
    "\n",
    "def astra_tomo2d_fanflat_fbp(sinogram, angles):\n",
    "    detector_size = sinogram.shape[1]\n",
    "    \n",
    "\n",
    "    rec_size = detector_size # size of reconstruction region\n",
    "    vol_geom = astra.create_vol_geom(rec_size, rec_size)\n",
    "\n",
    "    proj_geom = build_reconstruction_geomety(detector_size, angles)\n",
    "    \n",
    "    sinogram_id = astra.data2d.create('-sino', proj_geom, data=sinogram)\n",
    "    # Create a data object for the reconstruction\n",
    "    rec_id = astra.data2d.create('-vol', vol_geom)\n",
    "\n",
    "    # Set up the parameters for a reconstruction algorithm using the GPU\n",
    "    cfg = astra.astra_dict('FBP_CUDA')\n",
    "    cfg['ReconstructionDataId'] = rec_id\n",
    "    cfg['ProjectionDataId'] = sinogram_id\n",
    "    cfg['option'] = {}\n",
    "    cfg['option']['ShortScan'] = True\n",
    "#     cfg['option']['MinConstraint'] = 0\n",
    "    # cfg['option']['MaxConstraint'] = 5\n",
    "\n",
    "    # Available algorithms:\n",
    "    # SIRT_CUDA, SART_CUDA, EM_CUDA, FBP_CUDA (see the FBP sample)\n",
    "\n",
    "    # Create the algorithm object from the configuration structure\n",
    "    alg_id = astra.algorithm.create(cfg)\n",
    "\n",
    "    # Run 150 iterations of the algorithm\n",
    "    astra.algorithm.run(alg_id,  1)\n",
    "\n",
    "    # Get the result\n",
    "    rec = astra.data2d.get(rec_id)\n",
    "    # Clean up. Note that GPU memory is tied up in the algorithm object,\n",
    "    # and main RAM in the data objects.\n",
    "    astra.algorithm.delete(alg_id)\n",
    "    astra.data2d.delete(rec_id)\n",
    "    astra.data2d.delete(sinogram_id)\n",
    "    astra.clear()\n",
    "    return rec, proj_geom, cfg\n",
    "\n",
    "def get_reconstruction(sinogram, reconstruction_function, min_level=None):\n",
    "    angles = np.arange(sinogram.shape[0])*0.1#-11.493867*2\n",
    "    angles = angles/180.*np.pi\n",
    "#     angles = angles-(angles.max()-angles.min())/2\n",
    "    if min_level is None:\n",
    "        astra_rec, proj_geom, cfg = reconstruction_function(np.flipud(sinogram), angles)\n",
    "    else:\n",
    "        astra_rec, proj_geom, cfg= reconstruction_function(np.flipud(sinogram), angles, min_level)\n",
    "\n",
    "    astra_rec = np.flipud(astra_rec)\n",
    "    return astra_rec\n",
    "\n",
    "def get_reconstruction_fbp(sinogram):\n",
    "    return get_reconstruction(sinogram, astra_tomo2d_fanflat_fbp)"
   ]
  },
  {
   "cell_type": "code",
   "execution_count": null,
   "metadata": {},
   "outputs": [],
   "source": [
    "r=get_reconstruction_fbp(sn0)\n",
    "plt.figure(figsize=(10,15))\n",
    "plt.subplot(121)\n",
    "plt.imshow(r[1700:2300,1700:2300], cmap=plt.cm.gray)\n",
    "plt.subplot(122)\n",
    "plt.imshow(rec0_bh[1700:2300,1700:2300], cmap=plt.cm.gray)"
   ]
  },
  {
   "cell_type": "code",
   "execution_count": null,
   "metadata": {
    "collapsed": true
   },
   "outputs": [],
   "source": [
    "from scipy.ndimage import median_filter, gaussian_filter\n",
    "from scipy.signal import medfilt"
   ]
  },
  {
   "cell_type": "code",
   "execution_count": null,
   "metadata": {
    "collapsed": true
   },
   "outputs": [],
   "source": [
    "from collections import OrderedDict\n",
    "recs = OrderedDict()\n",
    "recs['0']=rec0\n",
    "recs['5']=rec5\n",
    "recs['10']=rec10\n",
    "recs['15']=rec15\n",
    "recs['20']=rec20"
   ]
  },
  {
   "cell_type": "code",
   "execution_count": null,
   "metadata": {
    "collapsed": true
   },
   "outputs": [],
   "source": [
    "from scipy.ndimage import median_filter\n",
    "def remove_stripes(sinogram, level):\n",
    "    \"\"\"\n",
    "    Sinogram - 2D sinogram (slice)\n",
    "    Level - Nrecon correction level\n",
    "    \"\"\"\n",
    "    if level==0:\n",
    "        return sinogram\n",
    "    else:\n",
    "        return median_filter(sinogram,[1,level+9])"
   ]
  },
  {
   "cell_type": "code",
   "execution_count": null,
   "metadata": {
    "scrolled": false
   },
   "outputs": [],
   "source": [
    "for l in range(0,21,5):\n",
    "    sn1 = remove_stripes(sn0,l)\n",
    "    \n",
    "    r=get_reconstruction_fbp(sn1)\n",
    "    plt.figure(figsize=(10,15))\n",
    "    plt.subplot(121)\n",
    "    plt.imshow(r[1700:2300,1700:2300], cmap=plt.cm.gray)\n",
    "    plt.subplot(122)\n",
    "    plt.imshow(recs[str(l)][1700:2300,1700:2300], cmap=plt.cm.gray)\n",
    "    plt.title('RC='+str(l))\n",
    "    plt.show()"
   ]
  },
  {
   "cell_type": "code",
   "execution_count": null,
   "metadata": {},
   "outputs": [],
   "source": [
    "plt.figure(figsize=(10,15))\n",
    "plt.imshow(r, cmap=plt.cm.gray)\n",
    "plt.show()"
   ]
  },
  {
   "cell_type": "code",
   "execution_count": null,
   "metadata": {
    "scrolled": false
   },
   "outputs": [],
   "source": [
    "r0=recs['0']\n",
    "for k,v in recs.iteritems():\n",
    "    t = np.gradient(v-r0)\n",
    "    r = (t[0]**2+t[1]**2)\n",
    "    print(k,np.sum(np.isclose(r,0)))"
   ]
  },
  {
   "cell_type": "code",
   "execution_count": null,
   "metadata": {},
   "outputs": [],
   "source": [
    "sn1 = median_filter(sn0,[1,30])\n",
    "r=get_reconstruction_fbp(sn1)\n",
    "plt.figure(figsize=(10,15))\n",
    "plt.subplot(121)\n",
    "plt.imshow(r[1700:2300,1700:2300], cmap=plt.cm.gray)\n",
    "plt.subplot(122)\n",
    "plt.imshow(rec20[1700:2300,1700:2300], cmap=plt.cm.gray)"
   ]
  },
  {
   "cell_type": "code",
   "execution_count": null,
   "metadata": {
    "scrolled": false
   },
   "outputs": [],
   "source": [
    "plt.figure(figsize=(10,12))\n",
    "plt.imshow(100*images_diff(sinogram0,sn1))"
   ]
  },
  {
   "cell_type": "code",
   "execution_count": null,
   "metadata": {},
   "outputs": [],
   "source": [
    "plt.figure(figsize=(10,12))\n",
    "plt.imshow(plt.imread(\n",
    "        '/diskmnt/a/makov/yaivan/MMC_1/_tmp/nrecon/bh_0_rc_20/MMC1_2.82um__rec_spr.bmp'),\n",
    "           cmap=plt.cm.gray)\n",
    "plt.colorbar(orientation='horizontal')"
   ]
  },
  {
   "cell_type": "code",
   "execution_count": null,
   "metadata": {},
   "outputs": [],
   "source": [
    "pp1 = plt.imread(\n",
    "            '/diskmnt/a/makov/yaivan/MMC_1/_tmp/nrecon/bh_0_rc_20/MMC1_2.82um__pp1.tif').astype('float32')\n",
    "pp2 = plt.imread(\n",
    "            '/diskmnt/a/makov/yaivan/MMC_1/_tmp/nrecon/bh_0_rc_20/MMC1_2.82um__pp2.tif').astype('float32')\n",
    "plt.figure(figsize=(10,12))\n",
    "plt.imshow(images_diff(pp1, np.fliplr(pp2)))\n",
    "# plt.colorbar(orientation='horizontal')"
   ]
  },
  {
   "cell_type": "code",
   "execution_count": null,
   "metadata": {},
   "outputs": [],
   "source": [
    "plt.figure(figsize=(10,12))\n",
    "plt.imshow(plt.imread(\n",
    "            '/diskmnt/a/makov/yaivan/MMC_1/_tmp/nrecon/bh_0_rc_20/MMC1_2.82um__pp1.tif'),\n",
    "           cmap=plt.cm.gray)"
   ]
  },
  {
   "cell_type": "code",
   "execution_count": null,
   "metadata": {},
   "outputs": [],
   "source": [
    "arc = pp1 = plt.imread(\n",
    "            '/diskmnt/a/makov/yaivan/MMC_1/Raw/MMC1_2.82um__arc.tif').astype('float32')\n",
    "plt.figure(figsize=(10,12))\n",
    "plt.imshow(arc,cmap=plt.cm.gray)"
   ]
  },
  {
   "cell_type": "markdown",
   "metadata": {},
   "source": [
    "# Радоновский инвариант"
   ]
  },
  {
   "cell_type": "code",
   "execution_count": null,
   "metadata": {
    "collapsed": true
   },
   "outputs": [],
   "source": [
    "from collections import OrderedDict\n",
    "sinograms = OrderedDict()\n",
    "sinograms['0']=sinogram0\n",
    "sinograms['5']=sinogram5\n",
    "sinograms['10']=sinogram10\n",
    "sinograms['15']=sinogram15\n",
    "sinograms['20']=sinogram20"
   ]
  },
  {
   "cell_type": "code",
   "execution_count": null,
   "metadata": {},
   "outputs": [],
   "source": [
    "plt.figure(figsize=(13,7))\n",
    "colormap = plt.cm.jet\n",
    "plt.gca().set_color_cycle([colormap(k) for k in np.linspace(0, 1, len(sinograms))])\n",
    "for k,v in sinograms.iteritems():\n",
    "    plt.plot(v.sum(axis=-1), label=k)\n",
    "    plt.hold(True)\n",
    "\n",
    "plt.legend(loc=0)\n",
    "plt.grid(True)\n",
    "plt.title('Radon invariant on central slice with different RC levels')\n",
    "plt.show()"
   ]
  },
  {
   "cell_type": "code",
   "execution_count": null,
   "metadata": {},
   "outputs": [],
   "source": [
    "s0 = sinograms['0']\n",
    "plt.figure(figsize=(13,7))\n",
    "colormap = plt.cm.jet\n",
    "plt.gca().set_color_cycle([colormap(k) for k in np.linspace(0, 1, len(sinograms))])\n",
    "for k,v in sinograms.iteritems():\n",
    "    plt.plot((v-s0).sum(axis=-1), label=k+'-\"0\"')\n",
    "    plt.hold(True)\n",
    "\n",
    "plt.legend(loc=0)\n",
    "plt.grid(True)\n",
    "plt.title('RELEATIVE (from RC0) Radon invariant on central slice with different RC levels')\n",
    "plt.show()"
   ]
  },
  {
   "cell_type": "code",
   "execution_count": null,
   "metadata": {},
   "outputs": [],
   "source": [
    "plt.figure(figsize=(13,7))\n",
    "colormap = plt.cm.jet\n",
    "plt.gca().set_color_cycle([colormap(k) for k in np.linspace(0, 1, len(sinograms))])\n",
    "for k,v in sinograms.iteritems():\n",
    "    plt.plot(v.max(axis=-1), label=k)\n",
    "    plt.hold(True)\n",
    "\n",
    "plt.legend(loc=0)\n",
    "plt.grid(True)\n",
    "plt.title('Radon invariant on central slice with different RC levels')\n",
    "plt.show()"
   ]
  },
  {
   "cell_type": "code",
   "execution_count": null,
   "metadata": {
    "collapsed": true
   },
   "outputs": [],
   "source": []
  },
  {
   "cell_type": "code",
   "execution_count": null,
   "metadata": {},
   "outputs": [],
   "source": [
    "tmp_dir = '/diskmnt/fast/makov/tmp/'\n",
    "images_ext = 'tif'\n",
    "data_tmp_file = os.path.join(tmp_dir,'images.{}.tmp'.format(images_ext))\n",
    "data_tmp_size_file = os.path.join(tmp_dir,'images.{}.size.txt'.format(images_ext))\n",
    "if os.path.exists(data_tmp_file) and os.path.exists(data_tmp_size_file):\n",
    "    print('File {} found, read it. Not load original images'.format(data_tmp_file))\n",
    "    data_blob = np.memmap(data_tmp_file,\n",
    "                  dtype='uint16',\n",
    "                  shape=tuple(np.loadtxt(data_tmp_size_file).astype('uint16')),\n",
    "                  mode='r'\n",
    "                 )\n",
    "else:\n",
    "    raise(ValueError)\n"
   ]
  },
  {
   "cell_type": "code",
   "execution_count": null,
   "metadata": {},
   "outputs": [],
   "source": [
    "plt.figure(figsize=(10,15))\n",
    "plt.imshow(data_blob[100,:,:].astype('float32'), interpolation='nearest', cmap=plt.cm.viridis)"
   ]
  },
  {
   "cell_type": "code",
   "execution_count": null,
   "metadata": {},
   "outputs": [],
   "source": [
    "my_arc = np.zeros((data_blob.shape[1],data_blob.shape[2]),dtype='float32')\n",
    "for sss in log_progress(range(data_blob.shape[0])):\n",
    "    my_arc+=data_blob[sss]\n",
    "plt.figure(figsize=(10,15))\n",
    "plt.imshow(my_arc, interpolation='nearest', cmap=plt.cm.gray)"
   ]
  },
  {
   "cell_type": "code",
   "execution_count": null,
   "metadata": {},
   "outputs": [],
   "source": [
    "plt.figure(figsize=(10,15))\n",
    "plt.imshow(my_arc-median_filter(my_arc,3),cmap=plt.cm.gray)\n",
    "plt.colorbar(orientation='horizontal')"
   ]
  },
  {
   "cell_type": "code",
   "execution_count": null,
   "metadata": {},
   "outputs": [],
   "source": [
    "s_max=[]\n",
    "s_min=[]\n",
    "for i in log_progress(range(data_blob.shape[0])):\n",
    "    s_max.append(data_blob[i].max())\n",
    "    s_min.append(data_blob[i].min())"
   ]
  },
  {
   "cell_type": "code",
   "execution_count": null,
   "metadata": {},
   "outputs": [],
   "source": [
    "plt.figure(figsize=(13,7))\n",
    "plt.plot(s_min, label='min')\n",
    "plt.plot(s_max, label='max')\n",
    "plt.legend(loc=0)\n",
    "plt.grid(True)\n",
    "plt.title('Min and max value in tiff files')\n",
    "plt.show()"
   ]
  },
  {
   "cell_type": "code",
   "execution_count": null,
   "metadata": {},
   "outputs": [],
   "source": [
    "from collections import OrderedDict\n",
    "sinograms = OrderedDict()\n",
    "sinograms['0']=sinogram0\n",
    "sinograms['5']=sinogram5\n",
    "sinograms['10']=sinogram10\n",
    "sinograms['15']=sinogram15\n",
    "sinograms['20']=sinogram20\n",
    "\n",
    "plt.figure(figsize=(13,7))\n",
    "colormap = plt.cm.jet\n",
    "plt.gca().set_color_cycle([colormap(k) for k in np.linspace(0, 1, len(sinograms))])\n",
    "for k,v in sinograms.iteritems():\n",
    "    plt.plot(v.sum(axis=-1), label=k)\n",
    "    plt.hold(True)\n",
    "\n",
    "plt.legend(loc=0)\n",
    "plt.grid(True)\n",
    "plt.show()"
   ]
  },
  {
   "cell_type": "code",
   "execution_count": null,
   "metadata": {},
   "outputs": [],
   "source": [
    "plt.figure(figsize=(10,12))\n",
    "plt.imshow(rec0[1500:2500,1500:2500])"
   ]
  },
  {
   "cell_type": "code",
   "execution_count": null,
   "metadata": {},
   "outputs": [],
   "source": [
    "plt.figure(figsize=(10,12))\n",
    "plt.imshow(rec20[1500:2500,1500:2500])"
   ]
  },
  {
   "cell_type": "code",
   "execution_count": null,
   "metadata": {},
   "outputs": [],
   "source": [
    "plt.figure(figsize=(10,12))\n",
    "plt.imshow(100*images_diff(rec0[1500:2500,1500:2500,0],rec5[1500:2500,1500:2500,0]))"
   ]
  },
  {
   "cell_type": "code",
   "execution_count": null,
   "metadata": {},
   "outputs": [],
   "source": [
    "r=get_reconstruction_fbp(sinogram0)\n",
    "plt.figure(figsize=(15,15))\n",
    "plt.imshow(r, cmap=plt.cm.gray)\n",
    "# plt.colorbar(orientation='horizontal')"
   ]
  },
  {
   "cell_type": "code",
   "execution_count": null,
   "metadata": {},
   "outputs": [],
   "source": [
    "plt.figure(figsize=(10,15))\n",
    "plt.subplot(121)\n",
    "plt.imshow(r[1700:2300,1700:2300], cmap=plt.cm.gray)\n",
    "plt.subplot(122)\n",
    "plt.imshow(rec0[1700:2300,1700:2300], cmap=plt.cm.gray)"
   ]
  },
  {
   "cell_type": "code",
   "execution_count": null,
   "metadata": {},
   "outputs": [],
   "source": [
    "s1 = sinogram0.T/sinogram0.sum(axis=-1)\n",
    "r=get_reconstruction_fbp(s1.T)\n",
    "plt.figure(figsize=(10,15))\n",
    "plt.subplot(121)\n",
    "plt.imshow(r[1700:2300,1700:2300], cmap=plt.cm.gray)\n",
    "plt.subplot(122)\n",
    "plt.imshow(rec0[1700:2300,1700:2300], cmap=plt.cm.gray)"
   ]
  },
  {
   "cell_type": "code",
   "execution_count": null,
   "metadata": {
    "collapsed": true
   },
   "outputs": [],
   "source": [
    "import tomopy"
   ]
  },
  {
   "cell_type": "code",
   "execution_count": null,
   "metadata": {
    "collapsed": true
   },
   "outputs": [],
   "source": [
    "st1 = np.expand_dims(sinogram0,-1)\n",
    "st1 = tomopy.prep.stripe.remove_stripe_fw(st1, level=40)\n",
    "st1=np.squeeze(st1)"
   ]
  },
  {
   "cell_type": "code",
   "execution_count": null,
   "metadata": {},
   "outputs": [],
   "source": [
    "plt.figure(figsize=(10,12))\n",
    "plt.imshow(sinogram0-st1)\n",
    "plt.colorbar(orientation='horizontal')"
   ]
  },
  {
   "cell_type": "code",
   "execution_count": null,
   "metadata": {},
   "outputs": [],
   "source": [
    "r=get_reconstruction_fbp(st1)\n",
    "plt.figure(figsize=(10,15))\n",
    "plt.subplot(121)\n",
    "plt.imshow(r[1700:2300,1700:2300], cmap=plt.cm.gray)\n",
    "plt.subplot(122)\n",
    "plt.imshow(rec10[1700:2300,1700:2300], cmap=plt.cm.gray)"
   ]
  },
  {
   "cell_type": "code",
   "execution_count": null,
   "metadata": {},
   "outputs": [],
   "source": [
    "plt.figure(figsize=(10,7))\n",
    "plt.plot((sinogram0-st1).sum(axis=-1))"
   ]
  },
  {
   "cell_type": "code",
   "execution_count": null,
   "metadata": {},
   "outputs": [],
   "source": [
    "plt.figure(figsize=(10,15))\n",
    "plt.imshow(r[::2,::2], cmap=plt.cm.gray)"
   ]
  },
  {
   "cell_type": "code",
   "execution_count": null,
   "metadata": {},
   "outputs": [],
   "source": [
    "plt.figure(figsize=(10,12))\n",
    "plt.imshow(100*images_diff(rec0[1500:2500,1500:2500,0],r[1500:2500,1500:2500]))"
   ]
  },
  {
   "cell_type": "code",
   "execution_count": null,
   "metadata": {},
   "outputs": [],
   "source": [
    "plt.figure(figsize=(13,7))\n",
    "# plt.plot(sinogram10.max(axis=0), label='Max')\n",
    "plt.hold(True)\n",
    "# plt.plot(sinogram10.min(axis=0), label='Min')\n",
    "# plt.plot(sinogram10.mean(axis=0), label='Mean')\n",
    "# plt.plot(sinogram10[0], label='0')\n",
    "# plt.plot(sinogram10[1800,::-1], label='180')\n",
    "plt.plot(sinogram10[sinogram10.shape[0]-1800], label='0*')\n",
    "plt.plot(sinogram10[-1,::-1], label='180*')\n",
    "\n",
    "plt.legend(loc=0)\n",
    "plt.grid(True)\n",
    "plt.show()"
   ]
  },
  {
   "cell_type": "code",
   "execution_count": null,
   "metadata": {},
   "outputs": [],
   "source": [
    "plt.figure(figsize=(13,7))\n",
    "plt.plot(sinogram10[::300].T);"
   ]
  },
  {
   "cell_type": "code",
   "execution_count": null,
   "metadata": {},
   "outputs": [],
   "source": [
    "plt.figure(figsize=(10,12))\n",
    "plt.imshow(100*images_diff(sinogram0,sinogram10))\n",
    "# plt.colorbar(orientation='horizontal')"
   ]
  },
  {
   "cell_type": "code",
   "execution_count": null,
   "metadata": {
    "collapsed": true
   },
   "outputs": [],
   "source": [
    "from scipy.ndimage import median_filter, gaussian_filter\n",
    "from scipy.signal import medfilt"
   ]
  },
  {
   "cell_type": "code",
   "execution_count": null,
   "metadata": {
    "scrolled": false
   },
   "outputs": [],
   "source": [
    "plt.figure(figsize=(10,12))\n",
    "plt.imshow(100*images_diff(sinogram0,median_filter(sinogram0,[1,7])))"
   ]
  },
  {
   "cell_type": "code",
   "execution_count": null,
   "metadata": {},
   "outputs": [],
   "source": [
    "s0=sinogram0.sum(axis=0)\n",
    "# sf = median_filter(sinogram0,[1,3]).sum(axis=0)\n",
    "s10=sinogram10.sum(axis=0)\n",
    "plt.figure(figsize=(12,10))\n",
    "plt.plot(s0, label='s0')\n",
    "plt.plot(s10, label='s10')\n",
    "plt.plot(100*(s0-s10), label='s0-s10')\n",
    "# plt.plot(100*(sf-s10), label='s0-sf')\n",
    "plt.grid(True)\n",
    "plt.legend(loc=0)\n"
   ]
  },
  {
   "cell_type": "code",
   "execution_count": null,
   "metadata": {},
   "outputs": [],
   "source": [
    "s0=sinogram0.sum(axis=1)\n",
    "# sf = median_filter(sinogram0,[1,3]).sum(axis=0)\n",
    "s10=sinogram10.sum(axis=1)\n",
    "plt.figure(figsize=(15,7))\n",
    "# plt.plot(s0, label='s0')\n",
    "# plt.plot(s10, label='s10')\n",
    "plt.plot(100*(s0-s10), label='s0-s10')\n",
    "# plt.plot(100*(sf-s10), label='s0-sf')\n",
    "plt.grid(True)\n",
    "plt.legend(loc=0)"
   ]
  },
  {
   "cell_type": "code",
   "execution_count": null,
   "metadata": {},
   "outputs": [],
   "source": [
    "s0=sinogram0\n",
    "# sf = median_filter(sinogram0,[1,3]).sum(axis=0)\n",
    "s10=sinogram10\n",
    "plt.figure(figsize=(15,7))\n",
    "# plt.plot(s0, label='s0')\n",
    "# plt.plot(s10, label='s10')\n",
    "plt.plot((s0[:,1000]-s10[:,1000]), label='s0-s10, line 1000')\n",
    "plt.plot((s0[:,2000]-s10[:,2000]), label='s0-s10, line 2000')\n",
    "plt.plot((s0[:,3000]-s10[:,3000]), label='s0-s10, line 3000')\n",
    "# plt.plot(100*(sf-s10), label='s0-sf')\n",
    "plt.grid(True)\n",
    "plt.legend(loc=0)"
   ]
  },
  {
   "cell_type": "code",
   "execution_count": null,
   "metadata": {},
   "outputs": [],
   "source": [
    "s0=sinogram0\n",
    "# sf = median_filter(sinogram0,[1,3]).sum(axis=0)\n",
    "s5=sinogram5\n",
    "s10=sinogram10\n",
    "s15=sinogram15\n",
    "s20 = sinogram20\n",
    "plt.figure(figsize=(15,7))\n",
    "# plt.plot(s0, label='s0')\n",
    "# plt.plot(s10, label='s10')\n",
    "plt.plot((s0[:,2000]/1e2), label='0.001*RC=0, line 2000')\n",
    "# plt.plot((s5[:,2000]-s0[:,2000]), label='RC5-RC0, line 2000')\n",
    "plt.plot((s10[:,2000]-s0[:,2000]), label='RC10-RC0, line 2000')\n",
    "# plt.plot((s15[:,2000]-s0[:,2000]), label='RC15-RC0, line 2000')\n",
    "# plt.plot((s20[:,2000]-s0[:,2000]), label='RC20-RC0, line 2000')\n",
    "# plt.plot((s10[:,2000]-s20[:,2000]), label='s10-s20, line 2000')\n",
    "# plt.plot((s0[:,3000]-s10[:,3000]), label='s0-s10, line 3000')\n",
    "# plt.plot(100*(sf-s10), label='s0-sf')\n",
    "plt.grid(True)\n",
    "plt.legend(loc=0)"
   ]
  },
  {
   "cell_type": "code",
   "execution_count": null,
   "metadata": {},
   "outputs": [],
   "source": [
    "s0=sinogram0\n",
    "# sf = median_filter(sinogram0,[1,3]).sum(axis=0)\n",
    "s10=sinogram10\n",
    "s20 = sinogram20\n",
    "plt.figure(figsize=(15,7))\n",
    "# plt.plot(s0, label='s0')\n",
    "# plt.plot(s10, label='s10')\n",
    "# plt.plot((s0[:,2000]/1e2), label='0.001/RC=0, line 2000')\n",
    "plt.plot((s0[:,2000]-s10[:,2000]), label='RC0-RC10, line 2000')\n",
    "plt.plot((s0[:,2001]-s10[:,2001]), label='RC0-RC10, line 2001')\n",
    "plt.plot((s0[:,2002]-s10[:,2002]), label='RC0-RC10, line 2002')\n",
    "plt.plot((s0[:,2003]-s10[:,2003]), label='RC0-RC10, line 2003')\n",
    "plt.plot((s0[:,3003]-s10[:,3003]), label='RC0-RC10, line 3003')\n",
    "# plt.plot((s10[:,2000]-s20[:,2000]), label='s10-s20, line 2000')\n",
    "# plt.plot((s0[:,3000]-s10[:,3000]), label='s0-s10, line 3000')\n",
    "# plt.plot(100*(sf-s10), label='s0-sf')\n",
    "plt.grid(True)\n",
    "plt.legend(loc=0)"
   ]
  },
  {
   "cell_type": "code",
   "execution_count": null,
   "metadata": {},
   "outputs": [],
   "source": [
    "images_diff(sinogram0,sinogram10).max()"
   ]
  },
  {
   "cell_type": "code",
   "execution_count": null,
   "metadata": {},
   "outputs": [],
   "source": [
    "r,_=get_reconstruction_fbp(sinogram0_bh)\n",
    "plt.figure(figsize=(15,15))\n",
    "plt.imshow(r, cmap=plt.cm.gray)\n",
    "plt.colorbar(orientation='horizontal')"
   ]
  },
  {
   "cell_type": "code",
   "execution_count": null,
   "metadata": {},
   "outputs": [],
   "source": [
    "plt.figure(figsize=(15,15))\n",
    "plt.imshow(18*images_diff(r, rec1040[...,0]))"
   ]
  },
  {
   "cell_type": "code",
   "execution_count": null,
   "metadata": {},
   "outputs": [],
   "source": [
    "rec1040.shape"
   ]
  },
  {
   "cell_type": "code",
   "execution_count": null,
   "metadata": {
    "collapsed": true
   },
   "outputs": [],
   "source": [
    "recs=[]\n",
    "for i in range(0,300,10):\n",
    "    r,_=get_reconstruction_fbp(sinogram0[i:])\n",
    "    recs.append([i,r])\n",
    "# plt.figure(figsize=(10,12))\n",
    "# plt.imshow(r, cmap=plt.cm.gray)\n",
    "# plt.colorbar(orientation='horizontal')"
   ]
  },
  {
   "cell_type": "code",
   "execution_count": null,
   "metadata": {
    "collapsed": true
   },
   "outputs": [],
   "source": [
    "for i,r in recs:\n",
    "    plt.figure(figsize=(10,12))\n",
    "    plt.imshow(r, cmap=plt.cm.gray)\n",
    "    plt.title(i)\n",
    "    plt.show()"
   ]
  },
  {
   "cell_type": "code",
   "execution_count": null,
   "metadata": {},
   "outputs": [],
   "source": [
    "ts = s[-1]/s[-1].max()*sinogram0[:1800+220].max()\n",
    "ts=np.flipud(ts)\n",
    "plt.figure(figsize=(10,12))\n",
    "plt.imshow(ts-sinogram0[:1800+220], cmap=plt.cm.gray)\n",
    "plt.colorbar(orientation='horizontal')"
   ]
  },
  {
   "cell_type": "code",
   "execution_count": null,
   "metadata": {},
   "outputs": [],
   "source": [
    "ts = s[-1]/s[-1].max()*2**16\n",
    "ts=np.flipud(ts)\n",
    "plt.figure(figsize=(10,12))\n",
    "plt.imshow(sinogram0[:1800+220], cmap=plt.cm.gray)\n",
    "plt.colorbar(orientation='horizontal')"
   ]
  },
  {
   "cell_type": "code",
   "execution_count": null,
   "metadata": {
    "collapsed": true
   },
   "outputs": [],
   "source": [
    "plt.figure(figsize=(10,10))\n",
    "plt.imshow(100*images_diff(r,r1))"
   ]
  },
  {
   "cell_type": "code",
   "execution_count": null,
   "metadata": {
    "collapsed": true
   },
   "outputs": [],
   "source": [
    "plt.figure(figsize=(10,10))\n",
    "plt.imshow(100*images_diff(r,r1))"
   ]
  },
  {
   "cell_type": "code",
   "execution_count": null,
   "metadata": {
    "collapsed": true
   },
   "outputs": [],
   "source": [
    "plt.figure(figsize=(10,10))\n",
    "plt.imshow(100*images_diff(r,r1))"
   ]
  },
  {
   "cell_type": "code",
   "execution_count": null,
   "metadata": {},
   "outputs": [],
   "source": [
    "s0=np.diff(sinogram10[:,2000]-sinogram0[:,2000])\n",
    "edges = np.argwhere(np.abs(s0)>5)\n",
    "plt.figure(figsize=(15,7))\n",
    "plt.imshow(sinogram0)\n",
    "for ed in edges:\n",
    "    plt.hlines(ed[0],0,4000,'k')\n",
    "# plt.grid(True)\n",
    "# plt.legend(loc=0)\n",
    "plt.show()"
   ]
  },
  {
   "cell_type": "code",
   "execution_count": null,
   "metadata": {},
   "outputs": [],
   "source": [
    "data_files_0 = os.path.join('/home/makov/Downloads/multislice/bh_0_rc_0/', 'MMC1_2.82um__sino????.tif')\n",
    "sinograms_0 = sorted(glob.glob(data_files_0))\n",
    "print(len(sinograms_0))\n",
    "data_files_17 = os.path.join('/home/makov/Downloads/multislice/bh_0_rc_17/', 'MMC1_2.82um__sino????.tif')\n",
    "sinograms_17 = sorted(glob.glob(data_files_17))\n",
    "print(len(sinograms_17))"
   ]
  },
  {
   "cell_type": "code",
   "execution_count": null,
   "metadata": {},
   "outputs": [],
   "source": [
    "plt.figure(figsize=(10,10))\n",
    "colormap = plt.cm.jet\n",
    "plt.gca().set_color_cycle([colormap(k) for k in np.linspace(0, 1, len(sinograms_0))])\n",
    "for s0,s17 in zip(sinograms_0,sinograms_17):\n",
    "    d0 = plt.imread(s0).astype('float32')[:,2000]\n",
    "    d17 = plt.imread(s17).astype('float32')[:,2000]\n",
    "    plt.plot(d17-d0,label=s0[-8:-4])\n",
    "    plt.hold(True)\n",
    "plt.grid(True)\n",
    "plt.legend(ncol=5,bbox_to_anchor=(1.05, 1), loc=2, borderaxespad=0.)\n",
    "plt.show()"
   ]
  },
  {
   "cell_type": "code",
   "execution_count": null,
   "metadata": {
    "collapsed": true
   },
   "outputs": [],
   "source": [
    "files = glob.glob('/home/makov/diskmnt/big/yaivan/MMC_1/Raw/*_????.tif')"
   ]
  },
  {
   "cell_type": "code",
   "execution_count": null,
   "metadata": {},
   "outputs": [],
   "source": [
    "len(files)"
   ]
  },
  {
   "cell_type": "code",
   "execution_count": null,
   "metadata": {},
   "outputs": [],
   "source": [
    "files"
   ]
  },
  {
   "cell_type": "code",
   "execution_count": null,
   "metadata": {},
   "outputs": [],
   "source": [
    "%xmodex"
   ]
  },
  {
   "cell_type": "code",
   "execution_count": null,
   "metadata": {
    "collapsed": true,
    "scrolled": false
   },
   "outputs": [],
   "source": [
    "numbers = [int(x[-8:-4]) for x in files if not 'arc' in x]\n",
    "numbers = sorted(numbers)"
   ]
  },
  {
   "cell_type": "code",
   "execution_count": null,
   "metadata": {},
   "outputs": [],
   "source": [
    "numbersx"
   ]
  },
  {
   "cell_type": "code",
   "execution_count": null,
   "metadata": {
    "collapsed": true
   },
   "outputs": [],
   "source": [
    "for i,n in enumerate(numbers):\n",
    "    if not i == n:\n",
    "        print i,n"
   ]
  },
  {
   "cell_type": "code",
   "execution_count": null,
   "metadata": {},
   "outputs": [],
   "source": [
    "numbers"
   ]
  },
  {
   "cell_type": "code",
   "execution_count": null,
   "metadata": {
    "collapsed": true
   },
   "outputs": [],
   "source": []
  }
 ],
 "metadata": {
  "kernelspec": {
   "display_name": "Python 3",
   "language": "python",
   "name": "python3"
  },
  "language_info": {
   "codemirror_mode": {
    "name": "ipython",
    "version": 3
   },
   "file_extension": ".py",
   "mimetype": "text/x-python",
   "name": "python",
   "nbconvert_exporter": "python",
   "pygments_lexer": "ipython3",
   "version": "3.6.2"
  }
 },
 "nbformat": 4,
 "nbformat_minor": 1
}
