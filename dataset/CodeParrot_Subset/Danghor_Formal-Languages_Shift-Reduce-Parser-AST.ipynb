{
 "cells": [
  {
   "cell_type": "code",
   "execution_count": null,
   "metadata": {},
   "outputs": [],
   "source": [
    "from IPython.core.display import HTML\n",
    "with open (\"../../style.css\", \"r\") as file:\n",
    "    css = file.read()\n",
    "HTML(css)"
   ]
  },
  {
   "cell_type": "markdown",
   "metadata": {},
   "source": [
    "# <b>Exercise</b>: Extending a Shift-Reduce Parser\n",
    "\n",
    "In this exercise your task is to extend the *shift-reduce parser*\n",
    "that has been discussed in the lecture so that it returns an abstract syntax tree.  You should test it with the program `sum-for.sl` that is given the directory `Examples`."
   ]
  },
  {
   "cell_type": "code",
   "execution_count": null,
   "metadata": {},
   "outputs": [],
   "source": [
    "cat Examples/sum-for.sl"
   ]
  },
  {
   "cell_type": "markdown",
   "metadata": {},
   "source": [
    "The grammar that should be used to parse this program is given in the file\n",
    "`Examples/simple.g`.  It is very similar to the grammar that we have developed previously for our *interpreter*.  I have simplified this grammar at various places to make it more suitable\n",
    "for the current task."
   ]
  },
  {
   "cell_type": "code",
   "execution_count": null,
   "metadata": {},
   "outputs": [],
   "source": [
    "cat Examples/simple.g"
   ]
  },
  {
   "cell_type": "markdown",
   "metadata": {},
   "source": [
    "**Exercise 1**:  Generate both the *action-table* and the *goto table* for this grammar using the notebook `SLR-Table-Generator.ipynb`.  "
   ]
  },
  {
   "cell_type": "markdown",
   "metadata": {},
   "source": [
    "## Implementing a Scanner"
   ]
  },
  {
   "cell_type": "code",
   "execution_count": null,
   "metadata": {},
   "outputs": [],
   "source": [
    "import re"
   ]
  },
  {
   "cell_type": "markdown",
   "metadata": {},
   "source": [
    "**Exercise 2:** The function `tokenize(s)` transforms the string `s` into a list of tokens. \n",
    "Given the program `sum-for.sl` it should produce the list of tokens shown further below.  Note that a *number* `n` is stored as a pairs of the form \n",
    "```\n",
    "('NUMBER', n)\n",
    "```\n",
    "and an *identifier* `v` is stored as the pair\n",
    "```\n",
    "('ID', v).\n",
    "```\n",
    "You have to take care of *keywords* like `for` or `while`: Syntactically, they are equal to identifiers, but the scanner should <u>not</u> turn them into pairs but rather return them as strings so that the parser does not mistake them for *identifiers*. \n",
    "\n",
    "Below is the token list that should be produced from scanning the file `sum-for.sl`:\n",
    "```\n",
    "['function',\n",
    " ('ID', 'sum'),\n",
    " '(',\n",
    " ('ID', 'n'),\n",
    " ')',\n",
    " '{',\n",
    " ('ID', 's'),\n",
    " ':=',\n",
    " ('NUMBER', 0),\n",
    " ';',\n",
    " 'for',\n",
    " '(',\n",
    " ('ID', 'i'),\n",
    " ':=',\n",
    " ('NUMBER', 1),\n",
    " ';',\n",
    " ('ID', 'i'),\n",
    " '≤',\n",
    " ('ID', 'n'),\n",
    " '*',\n",
    " ('ID', 'n'),\n",
    " ';',\n",
    " ('ID', 'i'),\n",
    " ':=',\n",
    " ('ID', 'i'),\n",
    " '+',\n",
    " ('NUMBER', 1),\n",
    " ')',\n",
    " '{',\n",
    " ('ID', 's'),\n",
    " ':=',\n",
    " ('ID', 's'),\n",
    " '+',\n",
    " ('ID', 'i'),\n",
    " ';',\n",
    " '}',\n",
    " 'return',\n",
    " ('ID', 's'),\n",
    " ';',\n",
    " '}',\n",
    " ('ID', 'print'),\n",
    " '(',\n",
    " ('ID', 'sum'),\n",
    " '(',\n",
    " ('NUMBER', 6),\n",
    " ')',\n",
    " ')',\n",
    " ';']\n",
    " ```\n",
    "For reference, I have given the old implementation of the function `tokenize` that has been used in the notebook `Shift-Reduce-Parser-Pure.ipynb`.  You have to edit this function so that it works with the grammar `simple.g`."
   ]
  },
  {
   "cell_type": "code",
   "execution_count": null,
   "metadata": {},
   "outputs": [],
   "source": [
    "def tokenize(s):\n",
    "    '''Transform the string s into a list of tokens.  The string s\n",
    "       is supposed to represent an arithmetic expression.\n",
    "    '''\n",
    "    \"Edit the code below!\"\n",
    "    lexSpec = r'''([ \\t\\n]+)      |  # blanks and tabs\n",
    "                  ([1-9][0-9]*|0) |  # number\n",
    "                  ([()])          |  # parentheses \n",
    "                  ([-+*/])        |  # arithmetical operators\n",
    "                  (.)                # unrecognized character\n",
    "               '''\n",
    "    tokenList = re.findall(lexSpec, s, re.VERBOSE)\n",
    "    result    = []\n",
    "    for ws, number, parenthesis, operator, error in tokenList:\n",
    "        if ws:        # skip blanks and tabs\n",
    "            continue\n",
    "        elif number:\n",
    "            result += [ 'NUMBER' ]\n",
    "        elif parenthesis:\n",
    "            result += [ parenthesis ]\n",
    "        elif operator:\n",
    "            result += [ operator ]\n",
    "        elif error:\n",
    "            result += [ f'ERROR({error})']\n",
    "    return result"
   ]
  },
  {
   "cell_type": "markdown",
   "metadata": {},
   "source": [
    "The cell below tests your tokenizer.  Your task is to compare the output with the output shown above."
   ]
  },
  {
   "cell_type": "code",
   "execution_count": null,
   "metadata": {
    "scrolled": true
   },
   "outputs": [],
   "source": [
    "with open('Examples/sum-for.sl', 'r', encoding='utf-8') as file:\n",
    "    program = file.read()\n",
    "tokenize(program)  "
   ]
  },
  {
   "cell_type": "code",
   "execution_count": null,
   "metadata": {},
   "outputs": [],
   "source": [
    "class ShiftReduceParser():\n",
    "    def __init__(self, actionTable, gotoTable):\n",
    "        self.mActionTable = actionTable\n",
    "        self.mGotoTable   = gotoTable"
   ]
  },
  {
   "cell_type": "markdown",
   "metadata": {},
   "source": [
    "The function `parse(self, TL)` is called with two arguments:\n",
    "- `self` ia an object of class `ShiftReduceParser` that maintain both an *action table* \n",
    "   and a *goto table*.\n",
    "- `TL` is a list of tokens.  Tokens are either \n",
    "   - *literals*, i.e. strings enclosed in single quote characters, \n",
    "   - pairs of the form `('NUMBER', n)` where `n` is a natural number, or \n",
    "   - the symbol `$` denoting the *end of input*."
   ]
  },
  {
   "cell_type": "markdown",
   "metadata": {},
   "source": [
    "Below, it is assumed that `parse-table.py` is the file that you have created in \n",
    "**Exercise 1**.  "
   ]
  },
  {
   "cell_type": "code",
   "execution_count": null,
   "metadata": {},
   "outputs": [],
   "source": [
    "%run parse-table.py"
   ]
  },
  {
   "cell_type": "markdown",
   "metadata": {},
   "source": [
    "**Exercise 3:**\n",
    "The function `parse` given below is the from the notebook `Shift-Reduce-Parser.ipynb`. Adapt this function so that it does not just return `True`or `False`\n",
    "but rather returns a *parse tree* as a nested list.  The key idea is that the list `Symbols`\n",
    "should now be a list of *parse trees* and *tokens* instead of just *syntactical variables* and *tokens*, i.e. the syntactical variables should be replaced by their parse trees.  \n",
    "\n",
    "It might be useful to implement an auxilliary function `combine_trees` that takes a \n",
    "list of parse trees and combines the into a new parse tree.  "
   ]
  },
  {
   "cell_type": "code",
   "execution_count": null,
   "metadata": {},
   "outputs": [],
   "source": [
    "def parse(self, TL):\n",
    "    \"\"\"\n",
    "    Edit this code so that it returns a parse tree.\n",
    "    Make use of the auxiliary function combine_trees that you have to\n",
    "    implement in Exercise 4.\n",
    "    \"\"\"\n",
    "    index   = 0      # points to next token\n",
    "    Symbols = []     # stack of symbols\n",
    "    States  = ['s0'] # stack of states, s0 is start state\n",
    "    TL     += ['$']\n",
    "    while True:\n",
    "        q = States[-1]\n",
    "        t = TL[index]\n",
    "        print('Symbols:', ' '.join(Symbols + ['|'] + TL[index:]).strip())\n",
    "        p = self.mActionTable.get((q, t), 'error')\n",
    "        if p == 'error': \n",
    "            return False\n",
    "        elif p == 'accept':\n",
    "            return True\n",
    "        elif p[0] == 'shift':\n",
    "            s = p[1]\n",
    "            Symbols += [t]\n",
    "            States  += [s]\n",
    "            index   += 1\n",
    "        elif p[0] == 'reduce':\n",
    "            head, body = p[1]\n",
    "            n       = len(body)\n",
    "            if n > 0:\n",
    "                Symbols = Symbols[:-n]\n",
    "                States  = States [:-n]\n",
    "            Symbols = Symbols + [head]\n",
    "            state   = States[-1]\n",
    "            States += [ self.mGotoTable[state, head] ]\n",
    "\n",
    "ShiftReduceParser.parse = parse\n",
    "del parse"
   ]
  },
  {
   "cell_type": "markdown",
   "metadata": {},
   "source": [
    "**Exercise 4:** \n",
    "Given a list of *tokens* and *parse trees* `TL` the function `combine_trees` combines these trees into a new *parse tree*.  The parse trees are represented as *nested tuples*.  The data type of a *nested tuple* is defined recursively:\n",
    "- A nested tuple is a tuple of the form `(Head,) + Body` where\n",
    "  * `Head` is a string and\n",
    "  * `Body` is a tuple of strings, integers, and *nested tuples*. \n",
    "\n",
    "When the *nested tuple* `(Head,) + Body` is displayed as a tree, `Head` is used as the label at the root of the tree.  If `len(Body) = n`, then the root has `n` children.  These `n` children are obtained by displaying `Body[0]`, $\\cdots$, `Body[n-1]` as trees.\n",
    "\n",
    "In order to convert the list of tokens and parse trees into a nested tuple we need a string that can serve as the `Head` of the parse tree.  The easiest way to to this is to take the first element of `TL` that is a string because the strings in `TL` are keywords like `for` or `while` or they are operator symbols.  The remaining strings after the first in `TL` can be discarded.\n",
    "If there is no string in `TL`, you can define `Head` as the empty string. \n",
    "\n",
    "I suggest a *recursive* implementation of this function.\n",
    "The file `sum-st.pdf` shows the parse tree of the program that is stored in the file `sum-for.sl`."
   ]
  },
  {
   "cell_type": "code",
   "execution_count": null,
   "metadata": {},
   "outputs": [],
   "source": [
    "def combine_trees(TL):\n",
    "    if len(TL) == 0:\n",
    "        return ()\n",
    "    if isinstance(TL, str):\n",
    "        return (str(TL),)\n",
    "    Literals = [t for t in TL if     isinstance(t, str)]\n",
    "    Trees    = [t for t in TL if not isinstance(t, str)]\n",
    "    if len(Literals) > 0:\n",
    "        label = Literals[0]\n",
    "    else:\n",
    "        label = ''\n",
    "    result = (label,) + tuple(Trees)\n",
    "    return result"
   ]
  },
  {
   "cell_type": "code",
   "execution_count": null,
   "metadata": {},
   "outputs": [],
   "source": [
    "VoidKeys = { '', '(', ';', 'NUMBER', 'ID' }"
   ]
  },
  {
   "cell_type": "markdown",
   "metadata": {},
   "source": [
    "**Exercise 5:** \n",
    "The function `simplfy_tree(tree)` transforms the *parse tree* `tree` into an *abstract syntax tree*.  The parse tree `tree` is represented as a nested tuple of the form\n",
    "``` \n",
    "tree = (head,) + body\n",
    "```\n",
    "The function should simplify the `tree` as follows:\n",
    "- If `head == ''` and `body` is a tuple of length 2 that starts with an empty string,\n",
    "  then this tree should be simplified to `body[1]`.\n",
    "- If `head` does not contain useful information, for example if `head` is the empty string\n",
    "  or an opening parenthesis and, furthermore,  `body` is a tuple of length 1,\n",
    "  then this tree should be simplified to `body[0]`.\n",
    "- By convention, remaining empty `Head` labels should be replaced by the label `'.'`\n",
    "  as this label is traditionally used to construct lists.\n",
    "  \n",
    "I suggest a *recursive* implementation of this function.\n",
    "The file `sum-ast.pdf` shows the abstract syntax tree of the program that is stored in the file `sum-for.sl`."
   ]
  },
  {
   "cell_type": "code",
   "execution_count": null,
   "metadata": {},
   "outputs": [],
   "source": [
    "def simplify_tree(tree):\n",
    "    if isinstance(tree, int) or isinstance(tree, str):\n",
    "        return tree\n",
    "    head, *body = tree\n",
    "    if body == []:\n",
    "        return tree\n",
    "    if head == '' and len(body) == 2 and body[0] == ('',):\n",
    "        return simplify_tree(body[1])\n",
    "    if head in VoidKeys and len(body) == 1:\n",
    "        return simplify_tree(body[0])\n",
    "    body_simplified = simplify_tree_list(body)\n",
    "    if head == '(' and len(body) == 2:\n",
    "        return (body_simplified[0],) + body_simplified[1:]\n",
    "    if head == '':\n",
    "        head = '.'\n",
    "    return (head,) + body_simplified"
   ]
  },
  {
   "cell_type": "code",
   "execution_count": null,
   "metadata": {},
   "outputs": [],
   "source": [
    "def simplify_tree_list(TL):\n",
    "    if TL == []:\n",
    "        return ()\n",
    "    tree, *Rest = TL\n",
    "    return (simplify_tree(tree),) + simplify_tree_list(Rest)"
   ]
  },
  {
   "cell_type": "markdown",
   "metadata": {},
   "source": [
    "## Testing"
   ]
  },
  {
   "cell_type": "markdown",
   "metadata": {},
   "source": [
    "The notebook `../AST-2-Dot.ipynb` implements the function `tuple2dot(nt)` that displays the nested tuple `nt` as a tree via `graphvis`."
   ]
  },
  {
   "cell_type": "code",
   "execution_count": null,
   "metadata": {},
   "outputs": [],
   "source": [
    "%run ../AST-2-Dot.ipynb"
   ]
  },
  {
   "cell_type": "code",
   "execution_count": null,
   "metadata": {},
   "outputs": [],
   "source": [
    "cat -n Examples/sum-for.sl"
   ]
  },
  {
   "cell_type": "code",
   "execution_count": null,
   "metadata": {},
   "outputs": [],
   "source": [
    "def test(file):\n",
    "    with open(file, 'r', encoding='utf-8') as file:\n",
    "        program = file.read()    \n",
    "    parser = ShiftReduceParser(actionTable, gotoTable)\n",
    "    TL     = tokenize(program)\n",
    "    st     = parser.parse(TL)\n",
    "    ast    = simplify_tree(st)\n",
    "    return st, ast"
   ]
  },
  {
   "cell_type": "markdown",
   "metadata": {},
   "source": [
    "Calling the function `test` below should produce the following nested tuple as *parse tree*:\n",
    "```\n",
    "('', ('', ('', ('function', ('ID', 'sum'), ('', ('ID', 'n')), ('', ('', ('', ('',), (';', (':=', ('ID', 's'), ('', ('', ('', ('NUMBER', 0))))))), ('for', (':=', ('ID', 'i'), ('', ('', ('', ('NUMBER', 1))))), ('', ('', ('', ('≤', ('', ('', ('', ('ID', 'i')))), ('', ('*', ('', ('', ('ID', 'n'))), ('', ('ID', 'n')))))))), (':=', ('ID', 'i'), ('+', ('', ('', ('', ('ID', 'i')))), ('', ('', ('NUMBER', 1))))), ('', ('',), (';', (':=', ('ID', 's'), ('+', ('', ('', ('', ('ID', 's')))), ('', ('', ('ID', 'i'))))))))), ('return', ('', ('', ('', ('ID', 's')))))))), (';', ('', ('', ('(', ('ID', 'print'), ('', ('', ('', ('(', ('ID', 'sum'), ('', ('', ('', ('', ('NUMBER', 6)))))))))))))))\n",
    "```\n",
    "The file `sum-st.pdf` shows this nested tuple as a tree.\n",
    "\n",
    "Transforming the parse tree into an *abstract syntax tree* should yield the following nested tuple:\n",
    "```\n",
    "('.', ('function', 'sum', 'n', ('.', ('.', (':=', 's', 0), ('for', (':=', 'i', 1), ('≤', 'i', ('*', 'n', 'n')), (':=', 'i', ('+', 'i', 1)), (':=', 's', ('+', 's', 'i')))), ('return', 's'))), ('print', ('sum', 6)))\n",
    "```\n",
    "The file `sum-ast.pdf` shows this nested tuple as a tree."
   ]
  },
  {
   "cell_type": "code",
   "execution_count": null,
   "metadata": {
    "scrolled": false
   },
   "outputs": [],
   "source": [
    "st, ast = test('Examples/sum-for.sl')\n",
    "print(st)\n",
    "print(ast)\n",
    "display(tuple2dot(st))\n",
    "display(tuple2dot(ast))"
   ]
  },
  {
   "cell_type": "code",
   "execution_count": null,
   "metadata": {},
   "outputs": [],
   "source": []
  }
 ],
 "metadata": {
  "@webio": {
   "lastCommId": null,
   "lastKernelId": null
  },
  "kernelspec": {
   "display_name": "Python 3",
   "language": "python",
   "name": "python3"
  },
  "language_info": {
   "codemirror_mode": {
    "name": "ipython",
    "version": 3
   },
   "file_extension": ".py",
   "mimetype": "text/x-python",
   "name": "python",
   "nbconvert_exporter": "python",
   "pygments_lexer": "ipython3",
   "version": "3.9.0"
  },
  "varInspector": {
   "cols": {
    "lenName": 16,
    "lenType": 16,
    "lenVar": 40
   },
   "kernels_config": {
    "python": {
     "delete_cmd_postfix": "",
     "delete_cmd_prefix": "del ",
     "library": "var_list.py",
     "varRefreshCmd": "print(var_dic_list())"
    },
    "r": {
     "delete_cmd_postfix": ") ",
     "delete_cmd_prefix": "rm(",
     "library": "var_list.r",
     "varRefreshCmd": "cat(var_dic_list()) "
    }
   },
   "types_to_exclude": [
    "module",
    "function",
    "builtin_function_or_method",
    "instance",
    "_Feature"
   ],
   "window_display": false
  }
 },
 "nbformat": 4,
 "nbformat_minor": 4
}
