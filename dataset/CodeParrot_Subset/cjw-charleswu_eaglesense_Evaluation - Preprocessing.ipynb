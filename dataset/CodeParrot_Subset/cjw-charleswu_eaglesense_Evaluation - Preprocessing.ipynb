{
 "cells": [
  {
   "cell_type": "code",
   "execution_count": 1,
   "metadata": {},
   "outputs": [],
   "source": [
    "import numpy as np\n",
    "import pandas as pd\n",
    "import os\n",
    "import pickle"
   ]
  },
  {
   "cell_type": "markdown",
   "metadata": {},
   "source": [
    "# PATHS "
   ]
  },
  {
   "cell_type": "code",
   "execution_count": 2,
   "metadata": {},
   "outputs": [],
   "source": [
    "DATA_DIRECTORY = \"Q:\\\\p_eaglesense\\\\eaglesense\\\\data\\\\topviewkinect\"\n",
    "PREPROCESSED_DIRECTORY = DATA_DIRECTORY + \"\\\\all\"\n",
    "if not os.path.exists(PREPROCESSED_DIRECTORY):\n",
    "    os.makedirs(PREPROCESSED_DIRECTORY)"
   ]
  },
  {
   "cell_type": "code",
   "execution_count": 2,
   "metadata": {
    "collapsed": true
   },
   "outputs": [],
   "source": [
    "FEATURE_SET = \"test\""
   ]
  },
  {
   "cell_type": "markdown",
   "metadata": {},
   "source": [
    "# DATA SANITY CHECK"
   ]
  },
  {
   "cell_type": "code",
   "execution_count": 4,
   "metadata": {},
   "outputs": [],
   "source": [
    "for dataset_id in next(os.walk(DATA_DIRECTORY))[1]:\n",
    "    if not dataset_id.isdigit():\n",
    "        continue\n",
    "    elif dataset_id.startswith((\"1\", \"3\", \"4\", \"6\", \"7\")):\n",
    "        continue\n",
    "\n",
    "    features_csv = \"{root}/{dataset}/features.csv\".format(root=DATA_DIRECTORY, dataset=dataset_id)\n",
    "    features_df = pd.read_csv(features_csv)\n",
    "    labels_csv = \"{root}/{dataset}/labels.csv\".format(root=DATA_DIRECTORY, dataset=dataset_id)\n",
    "    labels_df = pd.read_csv(labels_csv)\n",
    "    \n",
    "    if -1 in labels_df[\"activity\"].values:\n",
    "        print(dataset_id, \"Missing labels\")\n",
    "    \n",
    "    if 1 in labels_df[\"skeleton_id\"].values:\n",
    "        print(dataset_id, \"Multiple people labels\")\n",
    "\n",
    "    if 1 in features_df[\"skeleton_id\"].values:\n",
    "        print(dataset_id, \"Multiple people features\")"
   ]
  },
  {
   "cell_type": "markdown",
   "metadata": {},
   "source": [
    "# PEOPLE DETECTION ACCURACY"
   ]
  },
  {
   "cell_type": "code",
   "execution_count": 21,
   "metadata": {
    "collapsed": true
   },
   "outputs": [],
   "source": [
    "num_empty_labels = 0\n",
    "num_nonempty_labels = 0\n",
    "num_nonempty_detected = 0\n",
    "num_nonempty_tracked = 0"
   ]
  },
  {
   "cell_type": "markdown",
   "metadata": {},
   "source": [
    "# PROCESSING TIME "
   ]
  },
  {
   "cell_type": "code",
   "execution_count": 22,
   "metadata": {
    "collapsed": true
   },
   "outputs": [],
   "source": [
    "features_time = list()\n",
    "total_time = list()"
   ]
  },
  {
   "cell_type": "code",
   "execution_count": 23,
   "metadata": {
    "scrolled": true
   },
   "outputs": [],
   "source": [
    "for dataset_id in next(os.walk(DATA_DIRECTORY))[1]:\n",
    "    if not dataset_id.isdigit():\n",
    "        continue\n",
    "    elif dataset_id.startswith((\"1\", \"3\", \"4\", \"6\", \"7\")):\n",
    "        continue\n",
    "\n",
    "    features_csv = \"{root}/{dataset}/features.csv\".format(root=DATA_DIRECTORY, dataset=dataset_id)\n",
    "    features_df = pd.read_csv(features_csv)\n",
    "    labels_csv = \"{root}/{dataset}/labels.csv\".format(root=DATA_DIRECTORY, dataset=dataset_id)\n",
    "    labels_df = pd.read_csv(labels_csv)\n",
    "    \n",
    "    nonempty_labels_df = labels_df.loc[labels_df[\"activity\"] != 6]\n",
    "    nonempty_detected_labels_df = nonempty_labels_df.loc[nonempty_labels_df[\"skeleton_id\"] >= 0]\n",
    "    nonempty_detected_frame_indices = nonempty_detected_labels_df[\"frame_id\"].values\n",
    "\n",
    "    # activity tracked\n",
    "    activity_tracked_features_df = features_df.loc[features_df[\"frame_id\"].isin(nonempty_detected_frame_indices)]\n",
    "\n",
    "    num_empty_labels += len(labels_df) - len(nonempty_labels_df)\n",
    "    num_nonempty_labels += len(nonempty_labels_df)\n",
    "    num_nonempty_detected += len(nonempty_detected_labels_df)\n",
    "    num_nonempty_tracked += len(activity_tracked_features_df)\n",
    "    \n",
    "    # processing time\n",
    "    processing_csv = \"{root}/{dataset}/processing.csv\".format(root=DATA_DIRECTORY, dataset=dataset_id)\n",
    "    processing_df = pd.read_csv(processing_csv)\n",
    "    processing_df = processing_df.loc[processing_df[\"frame_id\"].isin(nonempty_detected_frame_indices)]\n",
    "    \n",
    "    features_time.extend(processing_df[\"features_time\"].values)\n",
    "    total_time.extend(processing_df[\"total_time\"].values)"
   ]
  },
  {
   "cell_type": "code",
   "execution_count": 28,
   "metadata": {},
   "outputs": [
    {
     "data": {
      "text/plain": [
       "2.1217542584129623"
      ]
     },
     "execution_count": 28,
     "metadata": {},
     "output_type": "execute_result"
    }
   ],
   "source": [
    "avg_features_time = np.mean(features_time)\n",
    "avg_features_time"
   ]
  },
  {
   "cell_type": "code",
   "execution_count": 29,
   "metadata": {},
   "outputs": [
    {
     "data": {
      "text/plain": [
       "0.41300443098096312"
      ]
     },
     "execution_count": 29,
     "metadata": {},
     "output_type": "execute_result"
    }
   ],
   "source": [
    "std_features_time = np.std(features_time)\n",
    "std_features_time"
   ]
  },
  {
   "cell_type": "code",
   "execution_count": 30,
   "metadata": {},
   "outputs": [
    {
     "data": {
      "text/plain": [
       "11.164455234732031"
      ]
     },
     "execution_count": 30,
     "metadata": {},
     "output_type": "execute_result"
    }
   ],
   "source": [
    "avg_total_time = np.mean(total_time)\n",
    "avg_total_time"
   ]
  },
  {
   "cell_type": "code",
   "execution_count": 31,
   "metadata": {},
   "outputs": [
    {
     "data": {
      "text/plain": [
       "1.4047252699354558"
      ]
     },
     "execution_count": 31,
     "metadata": {},
     "output_type": "execute_result"
    }
   ],
   "source": [
    "std_total_time = np.std(total_time)\n",
    "std_total_time"
   ]
  },
  {
   "cell_type": "code",
   "execution_count": 37,
   "metadata": {},
   "outputs": [
    {
     "data": {
      "text/plain": [
       "5232"
      ]
     },
     "execution_count": 37,
     "metadata": {},
     "output_type": "execute_result"
    }
   ],
   "source": [
    "num_empty_labels"
   ]
  },
  {
   "cell_type": "code",
   "execution_count": 38,
   "metadata": {
    "scrolled": true
   },
   "outputs": [
    {
     "data": {
      "text/plain": [
       "79760"
      ]
     },
     "execution_count": 38,
     "metadata": {},
     "output_type": "execute_result"
    }
   ],
   "source": [
    "num_nonempty_labels"
   ]
  },
  {
   "cell_type": "code",
   "execution_count": 39,
   "metadata": {},
   "outputs": [
    {
     "data": {
      "text/plain": [
       "84992"
      ]
     },
     "execution_count": 39,
     "metadata": {},
     "output_type": "execute_result"
    }
   ],
   "source": [
    "total_frames = num_empty_labels + num_nonempty_labels\n",
    "total_frames"
   ]
  },
  {
   "cell_type": "code",
   "execution_count": 40,
   "metadata": {},
   "outputs": [
    {
     "data": {
      "text/plain": [
       "0.938441265060241"
      ]
     },
     "execution_count": 40,
     "metadata": {},
     "output_type": "execute_result"
    }
   ],
   "source": [
    "num_nonempty_labels / total_frames"
   ]
  },
  {
   "cell_type": "code",
   "execution_count": 41,
   "metadata": {},
   "outputs": [
    {
     "data": {
      "text/plain": [
       "0.9999122367101304"
      ]
     },
     "execution_count": 41,
     "metadata": {},
     "output_type": "execute_result"
    }
   ],
   "source": [
    "people_detection_accuracy = num_nonempty_detected / num_nonempty_labels\n",
    "people_detection_accuracy"
   ]
  },
  {
   "cell_type": "code",
   "execution_count": 20,
   "metadata": {},
   "outputs": [
    {
     "data": {
      "text/plain": [
       "262155"
      ]
     },
     "execution_count": 20,
     "metadata": {},
     "output_type": "execute_result"
    }
   ],
   "source": [
    "num_nonempty_detected"
   ]
  },
  {
   "cell_type": "code",
   "execution_count": 43,
   "metadata": {},
   "outputs": [
    {
     "data": {
      "text/plain": [
       "77024"
      ]
     },
     "execution_count": 43,
     "metadata": {},
     "output_type": "execute_result"
    }
   ],
   "source": [
    "num_nonempty_tracked"
   ]
  },
  {
   "cell_type": "code",
   "execution_count": 44,
   "metadata": {},
   "outputs": [
    {
     "data": {
      "text/plain": [
       "0.90625"
      ]
     },
     "execution_count": 44,
     "metadata": {},
     "output_type": "execute_result"
    }
   ],
   "source": [
    "num_nonempty_tracked/ total_frames"
   ]
  },
  {
   "cell_type": "code",
   "execution_count": 45,
   "metadata": {},
   "outputs": [
    {
     "data": {
      "text/plain": [
       "2.1217542584129623"
      ]
     },
     "execution_count": 45,
     "metadata": {},
     "output_type": "execute_result"
    }
   ],
   "source": [
    "features_time / num_nonempty_tracked"
   ]
  },
  {
   "cell_type": "code",
   "execution_count": 46,
   "metadata": {},
   "outputs": [
    {
     "data": {
      "text/plain": [
       "11.164455234732031"
      ]
     },
     "execution_count": 46,
     "metadata": {},
     "output_type": "execute_result"
    }
   ],
   "source": [
    "total_time / num_nonempty_tracked"
   ]
  },
  {
   "cell_type": "markdown",
   "metadata": {},
   "source": [
    "# Features and Labels"
   ]
  },
  {
   "cell_type": "code",
   "execution_count": 7,
   "metadata": {
    "scrolled": false
   },
   "outputs": [
    {
     "data": {
      "text/plain": [
       "['frame_id', 'skeleton_id', 'x', 'y', 'z']"
      ]
     },
     "execution_count": 7,
     "metadata": {},
     "output_type": "execute_result"
    }
   ],
   "source": [
    "ignored_features_columns = [\"frame_id\", \"skeleton_id\", \"x\", \"y\", \"z\"]\n",
    "ignored_features_columns"
   ]
  },
  {
   "cell_type": "code",
   "execution_count": 8,
   "metadata": {
    "collapsed": true
   },
   "outputs": [],
   "source": [
    "ignored_labels_columns = [\"frame_id\", \"skeleton_id\"]"
   ]
  },
  {
   "cell_type": "code",
   "execution_count": 9,
   "metadata": {
    "scrolled": false
   },
   "outputs": [
    {
     "name": "stdout",
     "output_type": "stream",
     "text": [
      "2001 ... 2002 ... 2003 ... 2004 ... 2005 ... 2006 ... 2007 ... 2008 ... 2009 ... 2010 ... 2011 ... 2012 ... "
     ]
    }
   ],
   "source": [
    "all_features_csv = \"{root}/{tag}_features.csv\".format(root=PREPROCESSED_DIRECTORY, tag=FEATURE_SET)\n",
    "all_labels_csv = \"{root}/{tag}_labels.csv\".format(root=PREPROCESSED_DIRECTORY, tag=FEATURE_SET)\n",
    "open(all_features_csv, \"w\").close()\n",
    "open(all_labels_csv, \"w\").close()\n",
    "\n",
    "header=True\n",
    "\n",
    "with open(all_features_csv, \"a\") as features_f:\n",
    "    with open(all_labels_csv, \"a\") as labels_f:\n",
    "        for dataset_id in next(os.walk(DATA_DIRECTORY))[1]:\n",
    "            if not dataset_id.isdigit():\n",
    "                continue\n",
    "            elif dataset_id.startswith((\"1\", \"3\", \"4\", \"6\", \"7\")):\n",
    "                continue\n",
    "            else:\n",
    "                print(dataset_id, \"... \", end=\"\")\n",
    "            \n",
    "            labels_csv = \"{root}/{dataset}/labels.csv\".format(root=DATA_DIRECTORY, dataset=dataset_id)\n",
    "            labels_df = pd.read_csv(labels_csv)\n",
    "            features_csv = \"{root}/{dataset}/features.csv\".format(root=DATA_DIRECTORY, dataset=dataset_id)\n",
    "            features_df = pd.read_csv(features_csv, low_memory=False)\n",
    "            \n",
    "            evaluation_labels_df = labels_df.loc[labels_df[\"skeleton_id\"] >= 0]\n",
    "            evaluation_labels_df = evaluation_labels_df.loc[evaluation_labels_df[\"activity\"] != 6]\n",
    "#             evaluation_labels_df = evaluation_labels_df.loc[evaluation_labels_df[\"skeleton_id\"] == 0]\n",
    "            evaluation_frame_indices = evaluation_labels_df[\"frame_id\"].values\n",
    "    \n",
    "            # activity tracked\n",
    "            evaluation_features_df = features_df.loc[features_df[\"frame_id\"].isin(evaluation_frame_indices)]\n",
    "#             evaluation_features_df = evaluation_features_df[evaluation_features_df[\"skeleton_id\"] == 0]\n",
    "            final_frame_indices = evaluation_features_df[\"frame_id\"].values\n",
    "            \n",
    "            evaluation_labels_df = evaluation_labels_df.loc[evaluation_labels_df[\"frame_id\"].isin(final_frame_indices)]\n",
    "            evaluation_labels_df = evaluation_labels_df.drop(labels=ignored_labels_columns, axis=1)\n",
    "            evaluation_labels_df[\"subject\"] = int(dataset_id)\n",
    "            evaluation_labels_df.to_csv(labels_f, header=header, index=False)\n",
    "            \n",
    "            evaluation_features_df = evaluation_features_df.drop(labels=ignored_features_columns, axis=1)\n",
    "            evaluation_features_df[\"subject\"] = int(dataset_id)\n",
    "            evaluation_features_df = evaluation_features_df.astype(\"float64\")\n",
    "            evaluation_features_df.to_csv(features_f, header=header, index=False)\n",
    "            \n",
    "            header = False"
   ]
  },
  {
   "cell_type": "markdown",
   "metadata": {},
   "source": [
    "# OVERVIEW"
   ]
  },
  {
   "cell_type": "code",
   "execution_count": 9,
   "metadata": {},
   "outputs": [],
   "source": [
    "all_features_df = pd.read_csv(all_features_csv)"
   ]
  },
  {
   "cell_type": "code",
   "execution_count": 10,
   "metadata": {},
   "outputs": [
    {
     "data": {
      "text/plain": [
       "(77024, 73)"
      ]
     },
     "execution_count": 10,
     "metadata": {},
     "output_type": "execute_result"
    }
   ],
   "source": [
    "all_features_df.shape"
   ]
  },
  {
   "cell_type": "code",
   "execution_count": 11,
   "metadata": {
    "scrolled": true
   },
   "outputs": [
    {
     "data": {
      "text/html": [
       "<div>\n",
       "<table border=\"1\" class=\"dataframe\">\n",
       "  <thead>\n",
       "    <tr style=\"text-align: right;\">\n",
       "      <th></th>\n",
       "      <th>layer_area_0</th>\n",
       "      <th>layer_area_1</th>\n",
       "      <th>layer_area_2</th>\n",
       "      <th>layer_contours_0</th>\n",
       "      <th>layer_contours_1</th>\n",
       "      <th>layer_distance_0</th>\n",
       "      <th>layer_distance_1</th>\n",
       "      <th>layer_distance_2</th>\n",
       "      <th>layer_distance_3</th>\n",
       "      <th>layer_distance_4</th>\n",
       "      <th>...</th>\n",
       "      <th>interlayer_pos_16</th>\n",
       "      <th>interlayer_pos_17</th>\n",
       "      <th>extremities0</th>\n",
       "      <th>extreme_infrared_0</th>\n",
       "      <th>extreme_infrared_1</th>\n",
       "      <th>extreme_infrared_2</th>\n",
       "      <th>extreme_infrared_3</th>\n",
       "      <th>extreme_infrared_4</th>\n",
       "      <th>extreme_infrared_5</th>\n",
       "      <th>subject</th>\n",
       "    </tr>\n",
       "  </thead>\n",
       "  <tbody>\n",
       "    <tr>\n",
       "      <th>0</th>\n",
       "      <td>0.297578</td>\n",
       "      <td>0.411765</td>\n",
       "      <td>0.290657</td>\n",
       "      <td>3.0</td>\n",
       "      <td>3.0</td>\n",
       "      <td>16.5529</td>\n",
       "      <td>26.6833</td>\n",
       "      <td>26.0192</td>\n",
       "      <td>26.6833</td>\n",
       "      <td>201.0</td>\n",
       "      <td>...</td>\n",
       "      <td>-26.0</td>\n",
       "      <td>-107.0</td>\n",
       "      <td>4.0</td>\n",
       "      <td>0.0</td>\n",
       "      <td>10.0</td>\n",
       "      <td>11.5</td>\n",
       "      <td>11.5</td>\n",
       "      <td>0.0</td>\n",
       "      <td>11.5</td>\n",
       "      <td>2001.0</td>\n",
       "    </tr>\n",
       "    <tr>\n",
       "      <th>1</th>\n",
       "      <td>0.310345</td>\n",
       "      <td>0.419238</td>\n",
       "      <td>0.270417</td>\n",
       "      <td>3.0</td>\n",
       "      <td>3.0</td>\n",
       "      <td>16.4012</td>\n",
       "      <td>26.4764</td>\n",
       "      <td>26.0192</td>\n",
       "      <td>26.4764</td>\n",
       "      <td>191.5</td>\n",
       "      <td>...</td>\n",
       "      <td>-26.0</td>\n",
       "      <td>-105.0</td>\n",
       "      <td>5.0</td>\n",
       "      <td>0.5</td>\n",
       "      <td>9.0</td>\n",
       "      <td>11.0</td>\n",
       "      <td>1.0</td>\n",
       "      <td>0.5</td>\n",
       "      <td>11.0</td>\n",
       "      <td>2001.0</td>\n",
       "    </tr>\n",
       "    <tr>\n",
       "      <th>2</th>\n",
       "      <td>0.318015</td>\n",
       "      <td>0.386029</td>\n",
       "      <td>0.295956</td>\n",
       "      <td>3.0</td>\n",
       "      <td>3.0</td>\n",
       "      <td>16.1245</td>\n",
       "      <td>26.2488</td>\n",
       "      <td>27.0185</td>\n",
       "      <td>26.2488</td>\n",
       "      <td>174.5</td>\n",
       "      <td>...</td>\n",
       "      <td>-26.0</td>\n",
       "      <td>-104.0</td>\n",
       "      <td>5.0</td>\n",
       "      <td>0.0</td>\n",
       "      <td>12.5</td>\n",
       "      <td>4.5</td>\n",
       "      <td>4.5</td>\n",
       "      <td>0.5</td>\n",
       "      <td>13.0</td>\n",
       "      <td>2001.0</td>\n",
       "    </tr>\n",
       "    <tr>\n",
       "      <th>3</th>\n",
       "      <td>0.348399</td>\n",
       "      <td>0.384181</td>\n",
       "      <td>0.267420</td>\n",
       "      <td>3.0</td>\n",
       "      <td>3.0</td>\n",
       "      <td>16.4012</td>\n",
       "      <td>26.4197</td>\n",
       "      <td>26.4764</td>\n",
       "      <td>26.4197</td>\n",
       "      <td>164.0</td>\n",
       "      <td>...</td>\n",
       "      <td>-25.0</td>\n",
       "      <td>-103.0</td>\n",
       "      <td>5.0</td>\n",
       "      <td>0.0</td>\n",
       "      <td>6.0</td>\n",
       "      <td>4.5</td>\n",
       "      <td>0.0</td>\n",
       "      <td>0.0</td>\n",
       "      <td>7.0</td>\n",
       "      <td>2001.0</td>\n",
       "    </tr>\n",
       "    <tr>\n",
       "      <th>4</th>\n",
       "      <td>0.356383</td>\n",
       "      <td>0.370567</td>\n",
       "      <td>0.273050</td>\n",
       "      <td>3.0</td>\n",
       "      <td>3.0</td>\n",
       "      <td>17.7200</td>\n",
       "      <td>27.4591</td>\n",
       "      <td>27.4591</td>\n",
       "      <td>27.4591</td>\n",
       "      <td>164.5</td>\n",
       "      <td>...</td>\n",
       "      <td>-26.0</td>\n",
       "      <td>-107.0</td>\n",
       "      <td>3.0</td>\n",
       "      <td>0.0</td>\n",
       "      <td>0.0</td>\n",
       "      <td>0.5</td>\n",
       "      <td>0.0</td>\n",
       "      <td>0.0</td>\n",
       "      <td>0.5</td>\n",
       "      <td>2001.0</td>\n",
       "    </tr>\n",
       "  </tbody>\n",
       "</table>\n",
       "<p>5 rows × 73 columns</p>\n",
       "</div>"
      ],
      "text/plain": [
       "   layer_area_0  layer_area_1  layer_area_2  layer_contours_0  \\\n",
       "0      0.297578      0.411765      0.290657               3.0   \n",
       "1      0.310345      0.419238      0.270417               3.0   \n",
       "2      0.318015      0.386029      0.295956               3.0   \n",
       "3      0.348399      0.384181      0.267420               3.0   \n",
       "4      0.356383      0.370567      0.273050               3.0   \n",
       "\n",
       "   layer_contours_1  layer_distance_0  layer_distance_1  layer_distance_2  \\\n",
       "0               3.0           16.5529           26.6833           26.0192   \n",
       "1               3.0           16.4012           26.4764           26.0192   \n",
       "2               3.0           16.1245           26.2488           27.0185   \n",
       "3               3.0           16.4012           26.4197           26.4764   \n",
       "4               3.0           17.7200           27.4591           27.4591   \n",
       "\n",
       "   layer_distance_3  layer_distance_4   ...     interlayer_pos_16  \\\n",
       "0           26.6833             201.0   ...                 -26.0   \n",
       "1           26.4764             191.5   ...                 -26.0   \n",
       "2           26.2488             174.5   ...                 -26.0   \n",
       "3           26.4197             164.0   ...                 -25.0   \n",
       "4           27.4591             164.5   ...                 -26.0   \n",
       "\n",
       "   interlayer_pos_17  extremities0  extreme_infrared_0  extreme_infrared_1  \\\n",
       "0             -107.0           4.0                 0.0                10.0   \n",
       "1             -105.0           5.0                 0.5                 9.0   \n",
       "2             -104.0           5.0                 0.0                12.5   \n",
       "3             -103.0           5.0                 0.0                 6.0   \n",
       "4             -107.0           3.0                 0.0                 0.0   \n",
       "\n",
       "   extreme_infrared_2  extreme_infrared_3  extreme_infrared_4  \\\n",
       "0                11.5                11.5                 0.0   \n",
       "1                11.0                 1.0                 0.5   \n",
       "2                 4.5                 4.5                 0.5   \n",
       "3                 4.5                 0.0                 0.0   \n",
       "4                 0.5                 0.0                 0.0   \n",
       "\n",
       "   extreme_infrared_5  subject  \n",
       "0                11.5   2001.0  \n",
       "1                11.0   2001.0  \n",
       "2                13.0   2001.0  \n",
       "3                 7.0   2001.0  \n",
       "4                 0.5   2001.0  \n",
       "\n",
       "[5 rows x 73 columns]"
      ]
     },
     "execution_count": 11,
     "metadata": {},
     "output_type": "execute_result"
    }
   ],
   "source": [
    "all_features_df.head()"
   ]
  },
  {
   "cell_type": "code",
   "execution_count": 12,
   "metadata": {
    "collapsed": true
   },
   "outputs": [],
   "source": [
    "all_labels_df = pd.read_csv(all_labels_csv)"
   ]
  },
  {
   "cell_type": "code",
   "execution_count": 13,
   "metadata": {},
   "outputs": [
    {
     "data": {
      "text/plain": [
       "(77024, 4)"
      ]
     },
     "execution_count": 13,
     "metadata": {},
     "output_type": "execute_result"
    }
   ],
   "source": [
    "all_labels_df.shape"
   ]
  },
  {
   "cell_type": "code",
   "execution_count": 14,
   "metadata": {
    "scrolled": true
   },
   "outputs": [
    {
     "data": {
      "text/html": [
       "<div>\n",
       "<table border=\"1\" class=\"dataframe\">\n",
       "  <thead>\n",
       "    <tr style=\"text-align: right;\">\n",
       "      <th></th>\n",
       "      <th>activity</th>\n",
       "      <th>orientation</th>\n",
       "      <th>orientation_accurate</th>\n",
       "      <th>subject</th>\n",
       "    </tr>\n",
       "  </thead>\n",
       "  <tbody>\n",
       "    <tr>\n",
       "      <th>0</th>\n",
       "      <td>0</td>\n",
       "      <td>130.0</td>\n",
       "      <td>-1</td>\n",
       "      <td>2001</td>\n",
       "    </tr>\n",
       "    <tr>\n",
       "      <th>1</th>\n",
       "      <td>0</td>\n",
       "      <td>130.0</td>\n",
       "      <td>-1</td>\n",
       "      <td>2001</td>\n",
       "    </tr>\n",
       "    <tr>\n",
       "      <th>2</th>\n",
       "      <td>0</td>\n",
       "      <td>120.0</td>\n",
       "      <td>-1</td>\n",
       "      <td>2001</td>\n",
       "    </tr>\n",
       "    <tr>\n",
       "      <th>3</th>\n",
       "      <td>0</td>\n",
       "      <td>130.0</td>\n",
       "      <td>-1</td>\n",
       "      <td>2001</td>\n",
       "    </tr>\n",
       "    <tr>\n",
       "      <th>4</th>\n",
       "      <td>0</td>\n",
       "      <td>150.0</td>\n",
       "      <td>-1</td>\n",
       "      <td>2001</td>\n",
       "    </tr>\n",
       "  </tbody>\n",
       "</table>\n",
       "</div>"
      ],
      "text/plain": [
       "   activity  orientation  orientation_accurate  subject\n",
       "0         0        130.0                    -1     2001\n",
       "1         0        130.0                    -1     2001\n",
       "2         0        120.0                    -1     2001\n",
       "3         0        130.0                    -1     2001\n",
       "4         0        150.0                    -1     2001"
      ]
     },
     "execution_count": 14,
     "metadata": {},
     "output_type": "execute_result"
    }
   ],
   "source": [
    "all_labels_df.head()"
   ]
  },
  {
   "cell_type": "code",
   "execution_count": 24,
   "metadata": {},
   "outputs": [
    {
     "data": {
      "text/plain": [
       "array([0, 1, 2, 3, 4, 5], dtype=int64)"
      ]
     },
     "execution_count": 24,
     "metadata": {},
     "output_type": "execute_result"
    }
   ],
   "source": [
    "np.unique(all_labels_df[\"activity\"])"
   ]
  },
  {
   "cell_type": "code",
   "execution_count": 25,
   "metadata": {},
   "outputs": [
    {
     "data": {
      "text/plain": [
       "6"
      ]
     },
     "execution_count": 25,
     "metadata": {},
     "output_type": "execute_result"
    }
   ],
   "source": [
    "ACTIVITIES = [\"Standing\", \"Sitting\", \"Pointing\", \"Phone\", \"Tablet\", \"Paper\"]\n",
    "num_activities = len(ACTIVITIES)\n",
    "num_activities"
   ]
  },
  {
   "cell_type": "code",
   "execution_count": 26,
   "metadata": {},
   "outputs": [
    {
     "data": {
      "text/plain": [
       "array([ 2001.,  2002.,  2003.,  2004.,  2005.,  2006.,  2007.,  2008.,\n",
       "        2009.,  2010.,  2011.,  2012.])"
      ]
     },
     "execution_count": 26,
     "metadata": {},
     "output_type": "execute_result"
    }
   ],
   "source": [
    "unique_subjects = all_features_df[\"subject\"].unique()\n",
    "unique_subjects"
   ]
  },
  {
   "cell_type": "code",
   "execution_count": 27,
   "metadata": {},
   "outputs": [
    {
     "data": {
      "text/plain": [
       "12"
      ]
     },
     "execution_count": 27,
     "metadata": {},
     "output_type": "execute_result"
    }
   ],
   "source": [
    "num_subjects = len(unique_subjects)\n",
    "num_subjects"
   ]
  },
  {
   "cell_type": "code",
   "execution_count": 28,
   "metadata": {},
   "outputs": [
    {
     "data": {
      "text/plain": [
       "72"
      ]
     },
     "execution_count": 28,
     "metadata": {},
     "output_type": "execute_result"
    }
   ],
   "source": [
    "feature_vector = all_features_df.drop([\"subject\"], axis=1)\n",
    "num_features = feature_vector.shape[1]\n",
    "num_features"
   ]
  },
  {
   "cell_type": "markdown",
   "metadata": {},
   "source": [
    "# DATA"
   ]
  },
  {
   "cell_type": "code",
   "execution_count": 29,
   "metadata": {
    "collapsed": true
   },
   "outputs": [],
   "source": [
    "s1_data_path = \"{root}/{tag}_s1_data.pickle\".format(root=PREPROCESSED_DIRECTORY, tag=FEATURE_SET)\n",
    "s2_data_path = \"{root}/{tag}_s2_data.pickle\".format(root=PREPROCESSED_DIRECTORY, tag=FEATURE_SET)\n",
    "cs_data_path = \"{root}/{tag}_cs_data.pickle\".format(root=PREPROCESSED_DIRECTORY, tag=FEATURE_SET)\n",
    "noinfrared_data_path = \"{root}/{tag}_cs_noinfrared_data.pickle\".format(root=PREPROCESSED_DIRECTORY, tag=FEATURE_SET)"
   ]
  },
  {
   "cell_type": "markdown",
   "metadata": {},
   "source": [
    "# SAMPLES TESTS"
   ]
  },
  {
   "cell_type": "code",
   "execution_count": 30,
   "metadata": {
    "collapsed": true
   },
   "outputs": [],
   "source": [
    "def samples_test_split(features_df, labels_df, train_test_ratio, seed):\n",
    "    \n",
    "    # Get training sizes\n",
    "    training_sizes_per_subject = np.zeros((num_subjects, num_activities), dtype=np.int64)\n",
    "    for subject_idx, subject_id in enumerate(unique_subjects):\n",
    "        subject_activities = labels_df[labels_df[\"subject\"] == subject_id][\"activity\"].values\n",
    "        subject_activities_bin = np.bincount(np.squeeze(subject_activities))\n",
    "        training_sizes_per_subject[subject_idx] = np.array([int(size * train_test_ratio) for size in subject_activities_bin])\n",
    "    \n",
    "    # Get training and testing data\n",
    "    X_train = np.array([], dtype=np.float64).reshape(0, num_features)\n",
    "    y_train = np.array([], dtype=np.int32).reshape(0, 1)\n",
    "    X_test = np.array([], dtype=np.float64).reshape(0, num_features)\n",
    "    y_test = np.array([], dtype=np.int32).reshape(0, 1)\n",
    "\n",
    "    # Stratified sampling\n",
    "    for subject_idx, subject_id in enumerate(unique_subjects):\n",
    "        subject_features = features_df[features_df[\"subject\"] == subject_id]\n",
    "        subject_features = subject_features.drop([\"subject\"], axis=1)\n",
    "        subject_labels = labels_df[labels_df[\"subject\"] == subject_id]\n",
    "        subject_labels = subject_labels[[\"activity\"]]\n",
    "\n",
    "        for activity_idx in range(num_activities):\n",
    "            num_activity_samples = training_sizes_per_subject[subject_idx, activity_idx]\n",
    "            activity_labels_df = subject_labels[subject_labels[\"activity\"] == activity_idx]\n",
    "            activity_train_labels_df = activity_labels_df.sample(n=num_activity_samples, replace=False, random_state=seed)\n",
    "            \n",
    "            activity_all_indices = list(activity_labels_df.index.values)\n",
    "            activity_train_indices = list(activity_train_labels_df.index.values)\n",
    "            activity_test_indices =  [idx for idx in activity_all_indices if idx not in activity_train_indices]\n",
    "            \n",
    "            acitivty_X_train = subject_features.ix[activity_train_indices]\n",
    "            activity_y_train = subject_labels.ix[activity_train_indices]\n",
    "            acitivty_X_test = subject_features.ix[activity_test_indices]\n",
    "            activity_y_test = subject_labels.ix[activity_test_indices]\n",
    "\n",
    "            X_train = np.vstack([X_train, acitivty_X_train.values])\n",
    "            y_train = np.vstack([y_train, activity_y_train.values])\n",
    "            X_test = np.vstack([X_test, acitivty_X_test.values])\n",
    "            y_test = np.vstack([y_test, activity_y_test.values])\n",
    "            \n",
    "    return X_train, y_train, X_test, y_test"
   ]
  },
  {
   "cell_type": "markdown",
   "metadata": {},
   "source": [
    "# SAMPLES TEST 1"
   ]
  },
  {
   "cell_type": "code",
   "execution_count": 31,
   "metadata": {},
   "outputs": [],
   "source": [
    "s1_X_train, s1_y_train, s1_X_test, s1_y_test = samples_test_split(all_features_df, all_labels_df, 1/3, seed=42)"
   ]
  },
  {
   "cell_type": "code",
   "execution_count": 32,
   "metadata": {},
   "outputs": [
    {
     "data": {
      "text/plain": [
       "(25653, 72)"
      ]
     },
     "execution_count": 32,
     "metadata": {},
     "output_type": "execute_result"
    }
   ],
   "source": [
    "s1_X_train.shape"
   ]
  },
  {
   "cell_type": "code",
   "execution_count": 33,
   "metadata": {
    "scrolled": true
   },
   "outputs": [
    {
     "data": {
      "text/plain": [
       "(51371, 72)"
      ]
     },
     "execution_count": 33,
     "metadata": {},
     "output_type": "execute_result"
    }
   ],
   "source": [
    "s1_X_test.shape"
   ]
  },
  {
   "cell_type": "code",
   "execution_count": 34,
   "metadata": {},
   "outputs": [],
   "source": [
    "s1_data = {\n",
    "    \"X_train\": s1_X_train,\n",
    "    \"y_train\": s1_y_train,\n",
    "    \"X_test\": s1_X_test,\n",
    "    \"y_test\": s1_y_test\n",
    "}\n",
    "with open(s1_data_path, \"wb\") as f:\n",
    "    pickle.dump(s1_data, f)"
   ]
  },
  {
   "cell_type": "markdown",
   "metadata": {
    "collapsed": true
   },
   "source": [
    "# SAMPLES TEST 2 "
   ]
  },
  {
   "cell_type": "code",
   "execution_count": 35,
   "metadata": {
    "scrolled": true
   },
   "outputs": [],
   "source": [
    "s2_X_train, s2_y_train, s2_X_test, s2_y_test = samples_test_split(all_features_df, all_labels_df, 2/3, seed=42)"
   ]
  },
  {
   "cell_type": "code",
   "execution_count": 36,
   "metadata": {},
   "outputs": [
    {
     "data": {
      "text/plain": [
       "(51324, 72)"
      ]
     },
     "execution_count": 36,
     "metadata": {},
     "output_type": "execute_result"
    }
   ],
   "source": [
    "s2_X_train.shape"
   ]
  },
  {
   "cell_type": "code",
   "execution_count": 37,
   "metadata": {},
   "outputs": [
    {
     "data": {
      "text/plain": [
       "(25700, 72)"
      ]
     },
     "execution_count": 37,
     "metadata": {},
     "output_type": "execute_result"
    }
   ],
   "source": [
    "s2_X_test.shape"
   ]
  },
  {
   "cell_type": "code",
   "execution_count": 38,
   "metadata": {
    "collapsed": true
   },
   "outputs": [],
   "source": [
    "s2_data = {\n",
    "    \"X_train\": s2_X_train,\n",
    "    \"y_train\": s2_y_train,\n",
    "    \"X_test\": s2_X_test,\n",
    "    \"y_test\": s2_y_test\n",
    "}\n",
    "with open(s2_data_path, \"wb\") as f:\n",
    "    pickle.dump(s2_data, f)"
   ]
  },
  {
   "cell_type": "markdown",
   "metadata": {},
   "source": [
    "# CROSS SUBJECT TESTS"
   ]
  },
  {
   "cell_type": "code",
   "execution_count": 39,
   "metadata": {
    "collapsed": true
   },
   "outputs": [],
   "source": [
    "def crosssubject_test_split(features_df, labels_df, training_subjects_ids):\n",
    "    num_features = features_df.shape[1] - 1\n",
    "    \n",
    "    X_train = np.array([], dtype=np.float64).reshape(0, num_features)\n",
    "    y_train = np.array([], dtype=np.int32).reshape(0, 1)\n",
    "    X_test = np.array([], dtype=np.float64).reshape(0, num_features)\n",
    "    y_test = np.array([], dtype=np.int32).reshape(0, 1)\n",
    "\n",
    "    for subject_id in unique_subjects:\n",
    "        subject_features = features_df[features_df[\"subject\"] == subject_id]\n",
    "        subject_features = subject_features.drop([\"subject\"], axis=1)\n",
    "        subject_labels = labels_df[labels_df[\"subject\"] == subject_id]\n",
    "        subject_labels = subject_labels[[\"activity\"]]\n",
    "        subject_X = subject_features.values\n",
    "        subject_y = subject_labels.values\n",
    "\n",
    "        if subject_id in training_subjects_ids:\n",
    "            X_train = np.vstack([X_train, subject_X])\n",
    "            y_train = np.vstack([y_train, subject_y])\n",
    "        else:\n",
    "            X_test = np.vstack([X_test, subject_X])\n",
    "            y_test = np.vstack([y_test, subject_y])\n",
    "    \n",
    "    return X_train, y_train, X_test, y_test"
   ]
  },
  {
   "cell_type": "markdown",
   "metadata": {},
   "source": [
    "# CROSS-SUBJECT 1"
   ]
  },
  {
   "cell_type": "code",
   "execution_count": 40,
   "metadata": {
    "collapsed": true
   },
   "outputs": [],
   "source": [
    "CS_TRAIN_SUBJECTS_ID = [2001, 2003, 2005, 2007, 2009, 2011]"
   ]
  },
  {
   "cell_type": "code",
   "execution_count": 41,
   "metadata": {},
   "outputs": [],
   "source": [
    "cs_X_train, cs_y_train, cs_X_test, cs_y_test = crosssubject_test_split(all_features_df, all_labels_df, CS_TRAIN_SUBJECTS_ID)"
   ]
  },
  {
   "cell_type": "code",
   "execution_count": 42,
   "metadata": {},
   "outputs": [
    {
     "data": {
      "text/plain": [
       "(34945, 72)"
      ]
     },
     "execution_count": 42,
     "metadata": {},
     "output_type": "execute_result"
    }
   ],
   "source": [
    "cs_X_train.shape"
   ]
  },
  {
   "cell_type": "code",
   "execution_count": 43,
   "metadata": {},
   "outputs": [
    {
     "data": {
      "text/plain": [
       "(42079, 72)"
      ]
     },
     "execution_count": 43,
     "metadata": {},
     "output_type": "execute_result"
    }
   ],
   "source": [
    "cs_X_test.shape"
   ]
  },
  {
   "cell_type": "code",
   "execution_count": 44,
   "metadata": {
    "collapsed": true
   },
   "outputs": [],
   "source": [
    "cs_data = {\n",
    "    \"X_train\": cs_X_train,\n",
    "    \"y_train\": cs_y_train,\n",
    "    \"X_test\": cs_X_test,\n",
    "    \"y_test\": cs_y_test\n",
    "}\n",
    "with open(cs_data_path, \"wb\") as f:\n",
    "    pickle.dump(cs_data, f)"
   ]
  },
  {
   "cell_type": "markdown",
   "metadata": {},
   "source": [
    "# NO-INFRARED"
   ]
  },
  {
   "cell_type": "code",
   "execution_count": 45,
   "metadata": {},
   "outputs": [],
   "source": [
    "noinfrared_features_cols = list()\n",
    "for feature in all_features_df.columns:\n",
    "    if feature.startswith(\"extreme_infrared_\"):\n",
    "        continue\n",
    "    else:\n",
    "        noinfrared_features_cols.append(feature)"
   ]
  },
  {
   "cell_type": "code",
   "execution_count": 46,
   "metadata": {
    "collapsed": true
   },
   "outputs": [],
   "source": [
    "noinfrared_features_df = all_features_df[noinfrared_features_cols]"
   ]
  },
  {
   "cell_type": "code",
   "execution_count": 47,
   "metadata": {},
   "outputs": [
    {
     "data": {
      "text/plain": [
       "66"
      ]
     },
     "execution_count": 47,
     "metadata": {},
     "output_type": "execute_result"
    }
   ],
   "source": [
    "num_noinfrared_features = noinfrared_features_df.shape[1] - 1\n",
    "num_noinfrared_features"
   ]
  },
  {
   "cell_type": "code",
   "execution_count": 48,
   "metadata": {},
   "outputs": [],
   "source": [
    "noinfrared_X_train, noinfrared_y_train, noinfrared_X_test, noinfrared_y_test = crosssubject_test_split(\n",
    "    noinfrared_features_df, all_labels_df, CS_TRAIN_SUBJECTS_ID)"
   ]
  },
  {
   "cell_type": "code",
   "execution_count": 49,
   "metadata": {},
   "outputs": [
    {
     "data": {
      "text/plain": [
       "(34945, 66)"
      ]
     },
     "execution_count": 49,
     "metadata": {},
     "output_type": "execute_result"
    }
   ],
   "source": [
    "noinfrared_X_train.shape"
   ]
  },
  {
   "cell_type": "code",
   "execution_count": 50,
   "metadata": {},
   "outputs": [
    {
     "data": {
      "text/plain": [
       "(42079, 66)"
      ]
     },
     "execution_count": 50,
     "metadata": {},
     "output_type": "execute_result"
    }
   ],
   "source": [
    "noinfrared_X_test.shape"
   ]
  },
  {
   "cell_type": "code",
   "execution_count": 51,
   "metadata": {
    "collapsed": true
   },
   "outputs": [],
   "source": [
    "noinfrared_cs_data = {\n",
    "    \"X_train\": noinfrared_X_train,\n",
    "    \"y_train\": noinfrared_y_train,\n",
    "    \"X_test\": noinfrared_X_test,\n",
    "    \"y_test\": noinfrared_y_test\n",
    "}\n",
    "with open(noinfrared_data_path, \"wb\") as f:\n",
    "    pickle.dump(noinfrared_cs_data, f)"
   ]
  }
 ],
 "metadata": {
  "kernelspec": {
   "display_name": "Python 3",
   "language": "python",
   "name": "python3"
  },
  "language_info": {
   "codemirror_mode": {
    "name": "ipython",
    "version": 3
   },
   "file_extension": ".py",
   "mimetype": "text/x-python",
   "name": "python",
   "nbconvert_exporter": "python",
   "pygments_lexer": "ipython3",
   "version": "3.6.3"
  }
 },
 "nbformat": 4,
 "nbformat_minor": 1
}
