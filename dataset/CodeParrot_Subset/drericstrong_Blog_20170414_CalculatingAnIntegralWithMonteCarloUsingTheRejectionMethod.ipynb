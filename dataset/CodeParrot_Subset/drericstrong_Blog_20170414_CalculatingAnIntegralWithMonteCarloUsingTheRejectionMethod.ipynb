{
 "cells": [
  {
   "cell_type": "markdown",
   "metadata": {},
   "source": [
    "Monte Carlo simulation can be used to find the value of a definite integral that does not have a closed-form analytical solution. \"Closed-form\" refers to the ability to express the solution in terms of constants, variables, and operations. For example, the integral of (x^2 + 4x) has the closed-form solution (2x + 4). \n",
    "\n",
    "Not all integrals will have a closed-form solution. One of the \"simplest\" examples is the integral of exp(x^2):\n",
    "\n",
    "$\\int e^{x^{2}}$\n",
    "\n",
    "We can use a method called the \"rejection method\" to determine the result of a definite integral, even if the integral does not have a closed-form solution. The rejection method works like the archery example from the previous blog post- we will score a \"hit\" if the value is below the integral, and a \"miss\" if the value is above the integral.\n",
    "\n",
    "The rejection method uses the following steps over each iteration:\n",
    "\n",
    "1. Choose x using a uniform distribution between a and b (the limits of the integral)\n",
    "2. Choose f' using a uniform distribution between 0 and f_max, where f_max is the highest possible value the function can take over the limits of the integral\n",
    "3. If f' < f(x), score f_max(b-a), otherwise score 0\n",
    "\n",
    "Let's try this method out for the integral of exp(x^2), between the limits of 0 and 2:\n",
    "\n",
    "$\\int_{0}^{2} e^{x^{2}}$\n",
    "\n",
    "F_max is exp(2^2), or approximately 54.6. *(What happens if you choose the wrong F_max? If your F_max is too low, your results will be biased, because there will be part of the integral result that can never be chosen. If your F_max is too high, the answer will converge more slowly).*"
   ]
  },
  {
   "cell_type": "code",
   "execution_count": 1,
   "metadata": {},
   "outputs": [
    {
     "name": "stdout",
     "output_type": "stream",
     "text": [
      "The calculated integral is 16.449734\n"
     ]
    }
   ],
   "source": [
    "import random\n",
    "from numba import jit\n",
    "import numpy as np\n",
    "\n",
    "# Monte Carlo simulation function. This is defined as\n",
    "# a function so the numba library can be used to speed\n",
    "# up execution. Otherwise, this would run much slower.\n",
    "@jit\n",
    "def MCHist(n_hist, a, b, fmax):\n",
    "    score = (b - a)*fmax\n",
    "    tot_score = 0\n",
    "    for n in range(1, n_hist):\n",
    "        x = random.uniform(a, b)\n",
    "        f = random.uniform(0, fmax)\n",
    "        f_x = np.exp(x**2)\n",
    "        # Check if the point falls inside the integral      \n",
    "        if f < f_x:\n",
    "            tot_score += score\n",
    "    return tot_score\n",
    "\n",
    "# Run the simulation\n",
    "num_hist = 1e8\n",
    "results = MCHist(num_hist, 0.0, 2.0, 54.6) \n",
    "integral_val = round(results / num_hist, 6)\n",
    "print(\"The calculated integral is {}\".format(integral_val))"
   ]
  },
  {
   "cell_type": "markdown",
   "metadata": {},
   "source": [
    "Checking this answer with Wolfram Alpha, we get approximately the same result:\n",
    "\n",
    "[Image in Blog Post]\n",
    "\n",
    "Let's try this on another, more complicated integral:\n",
    "\n",
    "$\\int_{1}^{4} \\frac{e^{x}}{x} + e^{1/x}$\n",
    "\n",
    "In this case, it's harder to determine a proper f_max. The most straightforward way is to plot the function over the limits of the integral:"
   ]
  },
  {
   "cell_type": "code",
   "execution_count": 2,
   "metadata": {},
   "outputs": [
    {
     "data": {
      "image/png": "[encoded data removed]",
      "text/plain": [
       "<matplotlib.figure.Figure at 0x2799766b5c0>"
      ]
     },
     "metadata": {},
     "output_type": "display_data"
    }
   ],
   "source": [
    "import matplotlib.pyplot as plt\n",
    "%matplotlib inline\n",
    "\n",
    "x = np.linspace(1,4,1000)\n",
    "y = (np.exp(x)/x) + np.exp(1/x)\n",
    "plt.plot(x,y)\n",
    "plt.ylabel('F(x)')\n",
    "plt.xlabel('x');"
   ]
  },
  {
   "cell_type": "markdown",
   "metadata": {},
   "source": [
    "From the above figure, we can see that the maximum is about 15. But what if we decided not to plot the function? Consider a situation where it's computationally expensive to plot the function over the entire limits of the integral. It's okay for us to choose an f_max that is too large, as long as we are *sure* that all possible values of F(x) will fall below it. The only downside of this approach is that more histories are required to converge to the correct answer. \n",
    "\n",
    "Let's choose f_max as 100 to see what happens:"
   ]
  },
  {
   "cell_type": "code",
   "execution_count": 3,
   "metadata": {},
   "outputs": [
    {
     "name": "stdout",
     "output_type": "stream",
     "text": [
      "The calculated integral is 22.587207\n"
     ]
    }
   ],
   "source": [
    "@jit\n",
    "def MCHist2(n_hist, a, b, fmax):\n",
    "    score = (b - a)*fmax\n",
    "    tot_score = 0\n",
    "    for n in range(1, n_hist):\n",
    "        x = random.uniform(a, b)\n",
    "        f = random.uniform(0, fmax)\n",
    "        f_x = (np.exp(x)/x) + np.exp(1/x)\n",
    "        # Check if the point falls inside the integral      \n",
    "        if f < f_x:\n",
    "            tot_score += score\n",
    "    return tot_score\n",
    "\n",
    "# Run the simulation\n",
    "num_hist2 = 1e8\n",
    "results2 = MCHist2(num_hist2, 1.0, 4.0, 100) \n",
    "integral_val2 = round(results2 / num_hist2, 6)\n",
    "print(\"The calculated integral is {}\".format(integral_val2))"
   ]
  },
  {
   "cell_type": "markdown",
   "metadata": {},
   "source": [
    "Again, we check our work with Wolfram Alpha, and we get approximately the same result:\n",
    "\n",
    "[Image in Blog Post]\n",
    "\n",
    "Would we have less variance if we used the same number of histories, but an f_max closer to the true value (15)?"
   ]
  },
  {
   "cell_type": "code",
   "execution_count": 4,
   "metadata": {},
   "outputs": [
    {
     "name": "stdout",
     "output_type": "stream",
     "text": [
      "The calculated integral is 22.589891\n"
     ]
    }
   ],
   "source": [
    "num_hist3 = 1e8\n",
    "results3 = MCHist2(num_hist2, 1.0, 4.0, 15) \n",
    "integral_val3 = round(results3 / num_hist3, 6)\n",
    "print(\"The calculated integral is {}\".format(integral_val3))"
   ]
  },
  {
   "cell_type": "markdown",
   "metadata": {},
   "source": [
    "Choosing f_max correctly does affect how quickly the answer will converge, and generally it's advisable to put in the work to find an appropriate f_max, as it will save you significant time in your simulation."
   ]
  }
 ],
 "metadata": {
  "kernelspec": {
   "display_name": "Python 3",
   "language": "python",
   "name": "python3"
  },
  "language_info": {
   "codemirror_mode": {
    "name": "ipython",
    "version": 3
   },
   "file_extension": ".py",
   "mimetype": "text/x-python",
   "name": "python",
   "nbconvert_exporter": "python",
   "pygments_lexer": "ipython3",
   "version": "3.6.0"
  }
 },
 "nbformat": 4,
 "nbformat_minor": 2
}
