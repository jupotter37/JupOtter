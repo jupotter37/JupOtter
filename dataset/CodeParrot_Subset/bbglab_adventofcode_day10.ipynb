{
 "cells": [
  {
   "cell_type": "markdown",
   "metadata": {},
   "source": [
    "# Day 10: Elves Look, Elves Say\n",
    "\n",
    "## Day 10.1"
   ]
  },
  {
   "cell_type": "code",
   "execution_count": 24,
   "metadata": {
    "ExecuteTime": {
     "end_time": "2017-12-09T23:23:34.665825",
     "start_time": "2017-12-09T23:23:34.644633"
    },
    "collapsed": true
   },
   "outputs": [],
   "source": [
    "def transform(s):\n",
    "    t = s + '\\\\'\n",
    "    say_list = ''\n",
    "    counter = 1\n",
    "    for i in range(len(s)):\n",
    "        if t[i] == t[i + 1]:\n",
    "            counter += 1\n",
    "        else:\n",
    "            say_list += str(counter) + t[i]\n",
    "            counter = 1\n",
    "    return say_list"
   ]
  },
  {
   "cell_type": "markdown",
   "metadata": {
    "ExecuteTime": {
     "end_time": "2017-12-09T23:14:37.805387",
     "start_time": "2017-12-09T23:14:37.794132"
    }
   },
   "source": [
    "### Test"
   ]
  },
  {
   "cell_type": "code",
   "execution_count": 25,
   "metadata": {
    "ExecuteTime": {
     "end_time": "2017-12-09T23:23:35.328662",
     "start_time": "2017-12-09T23:23:35.295568"
    }
   },
   "outputs": [],
   "source": [
    "def test():\n",
    "    assert(transform('1') == '11')\n",
    "    assert(transform('11') == '21')\n",
    "    assert(transform('21') == '1211')\n",
    "    assert(transform('1211') == '111221')\n",
    "    assert(transform('111221') == '312211')\n",
    "test()"
   ]
  },
  {
   "cell_type": "markdown",
   "metadata": {},
   "source": [
    "### Solution"
   ]
  },
  {
   "cell_type": "code",
   "execution_count": 29,
   "metadata": {
    "ExecuteTime": {
     "end_time": "2017-12-09T23:27:26.061203",
     "start_time": "2017-12-09T23:27:26.048944"
    }
   },
   "outputs": [],
   "source": [
    "def iterate_transform(s, n):\n",
    "    for _ in range(n):\n",
    "        s = transform(s)\n",
    "    return len(s)"
   ]
  },
  {
   "cell_type": "code",
   "execution_count": 30,
   "metadata": {
    "ExecuteTime": {
     "end_time": "2017-12-09T23:27:27.287302",
     "start_time": "2017-12-09T23:27:26.776480"
    }
   },
   "outputs": [
    {
     "data": {
      "text/plain": [
       "329356"
      ]
     },
     "execution_count": 30,
     "metadata": {},
     "output_type": "execute_result"
    }
   ],
   "source": [
    "iterate_transform('3113322113', 40)"
   ]
  },
  {
   "cell_type": "markdown",
   "metadata": {},
   "source": [
    "## Day 10.2"
   ]
  },
  {
   "cell_type": "code",
   "execution_count": 31,
   "metadata": {
    "ExecuteTime": {
     "end_time": "2017-12-09T23:28:55.847494",
     "start_time": "2017-12-09T23:28:50.189891"
    }
   },
   "outputs": [
    {
     "name": "stdout",
     "output_type": "stream",
     "text": [
      "CPU times: user 5.64 s, sys: 12 ms, total: 5.65 s\n",
      "Wall time: 5.65 s\n"
     ]
    },
    {
     "data": {
      "text/plain": [
       "4666278"
      ]
     },
     "execution_count": 31,
     "metadata": {},
     "output_type": "execute_result"
    }
   ],
   "source": [
    "%%time\n",
    "iterate_transform('3113322113', 50)"
   ]
  }
 ],
 "metadata": {
  "kernelspec": {
   "display_name": "Python [conda env:adventofcode]",
   "language": "python",
   "name": "conda-env-adventofcode-py"
  },
  "language_info": {
   "codemirror_mode": {
    "name": "ipython",
    "version": 3
   },
   "file_extension": ".py",
   "mimetype": "text/x-python",
   "name": "python",
   "nbconvert_exporter": "python",
   "pygments_lexer": "ipython3",
   "version": "3.5.2"
  },
  "toc": {
   "colors": {
    "hover_highlight": "#DAA520",
    "running_highlight": "#FF0000",
    "selected_highlight": "#FFD700"
   },
   "moveMenuLeft": true,
   "nav_menu": {
    "height": "66px",
    "width": "252px"
   },
   "navigate_menu": true,
   "number_sections": true,
   "sideBar": true,
   "threshold": 4,
   "toc_cell": false,
   "toc_section_display": "block",
   "toc_window_display": false
  }
 },
 "nbformat": 4,
 "nbformat_minor": 2
}
