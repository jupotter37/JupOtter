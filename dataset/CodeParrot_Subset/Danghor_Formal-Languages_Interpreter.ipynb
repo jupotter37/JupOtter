{
 "cells": [
  {
   "cell_type": "code",
   "execution_count": null,
   "metadata": {},
   "outputs": [],
   "source": [
    "from IPython.core.display import HTML\n",
    "with open (\"../../style.css\", \"r\") as file:\n",
    "    css = file.read()\n",
    "HTML(css)"
   ]
  },
  {
   "cell_type": "markdown",
   "metadata": {},
   "source": [
    "# An Interpreter for a Simple Programming Language"
   ]
  },
  {
   "cell_type": "markdown",
   "metadata": {},
   "source": [
    "In this notebook we develop an interpreter for a small programming language.\n",
    "The grammar for this language is stored in the file `Pure.g4`."
   ]
  },
  {
   "cell_type": "code",
   "execution_count": null,
   "metadata": {},
   "outputs": [],
   "source": [
    "!cat -n Pure.g4"
   ]
  },
  {
   "cell_type": "markdown",
   "metadata": {},
   "source": [
    "The grammar shown above does only contain `skip` actions.  The corrsponding grammar that is enriched with actions is stored in the file `Simple.g4`."
   ]
  },
  {
   "cell_type": "markdown",
   "metadata": {},
   "source": [
    "An example program that conforms to this grammar is stored in the file `sum.sl`."
   ]
  },
  {
   "cell_type": "code",
   "execution_count": null,
   "metadata": {},
   "outputs": [],
   "source": [
    "!cat sum.sl"
   ]
  },
  {
   "cell_type": "markdown",
   "metadata": {},
   "source": [
    "The file `Simple.g4` contains a parser for the language described by the grammar `Pure.g4`. This parser returns\n",
    "an abstract syntax tree.  This tree is represented as a *nested tuple*."
   ]
  },
  {
   "cell_type": "code",
   "execution_count": null,
   "metadata": {},
   "outputs": [],
   "source": [
    "!cat -n Simple.g4"
   ]
  },
  {
   "cell_type": "markdown",
   "metadata": {},
   "source": [
    "The parser shown above will transform the program `sum.sl` into the *nested tuple* stored in the file `sum.ast`."
   ]
  },
  {
   "cell_type": "code",
   "execution_count": null,
   "metadata": {},
   "outputs": [],
   "source": [
    "!cat sum.ast"
   ]
  },
  {
   "cell_type": "code",
   "execution_count": null,
   "metadata": {},
   "outputs": [],
   "source": [
    "!antlr4 -Dlanguage=Python3 Simple.g4"
   ]
  },
  {
   "cell_type": "code",
   "execution_count": null,
   "metadata": {},
   "outputs": [],
   "source": [
    "from SimpleLexer  import SimpleLexer\n",
    "from SimpleParser import SimpleParser\n",
    "import antlr4"
   ]
  },
  {
   "cell_type": "code",
   "execution_count": null,
   "metadata": {},
   "outputs": [],
   "source": [
    "%run ../AST-2-Dot.ipynb"
   ]
  },
  {
   "cell_type": "markdown",
   "metadata": {},
   "source": [
    "The function `main` takes one parameter `file`.  This parameter is a string specifying a program file.  \n",
    "The function reads the program contained in this file and executes it."
   ]
  },
  {
   "cell_type": "code",
   "execution_count": null,
   "metadata": {},
   "outputs": [],
   "source": [
    "def main(file):\n",
    "    with open(file, 'r') as handle:\n",
    "        program_text = handle.read()\n",
    "    input_stream  = antlr4.InputStream(program_text)\n",
    "    lexer         = SimpleLexer(input_stream)\n",
    "    token_stream  = antlr4.CommonTokenStream(lexer)\n",
    "    parser        = SimpleParser(token_stream)\n",
    "    result        = parser.program()\n",
    "    Statements    = result.stmnt_list\n",
    "    ast           = tuple2dot(Statements)\n",
    "    print(Statements)\n",
    "    display(ast)\n",
    "    ast.render('ast', view=True)\n",
    "    execute_tuple(Statements)"
   ]
  },
  {
   "cell_type": "markdown",
   "metadata": {},
   "source": [
    "The function `execute_list` takes two arguments:\n",
    "- `Statement_List` is a list of statements,\n",
    "- `Values` is a dictionary assigning integer values to variable names.\n",
    "\n",
    "The function executes the statements in `Statement_List`.  If an assignment statement is executed,\n",
    "the dictionary `Values` is updated."
   ]
  },
  {
   "cell_type": "code",
   "execution_count": null,
   "metadata": {},
   "outputs": [],
   "source": [
    "def execute_tuple(Statement_List, Values={}):\n",
    "    for stmnt in Statement_List:\n",
    "        execute(stmnt, Values)"
   ]
  },
  {
   "cell_type": "markdown",
   "metadata": {},
   "source": [
    "The function `execute` takes two arguments:\n",
    "- `stmnt` is a statement,\n",
    "- `Values` is a dictionary assigning integer values to variable names.\n",
    "\n",
    "The function executes the statements in `Statement_List`.  If an assignment statement is executed,\n",
    "the dictionary `Values` is updated."
   ]
  },
  {
   "cell_type": "code",
   "execution_count": null,
   "metadata": {},
   "outputs": [],
   "source": [
    "L = [1,2,3,4,5]\n",
    "a, b, *R = L\n",
    "a, b, R"
   ]
  },
  {
   "cell_type": "code",
   "execution_count": null,
   "metadata": {},
   "outputs": [],
   "source": [
    "def execute(stmnt, Values):\n",
    "    op = stmnt[0]\n",
    "    if stmnt == 'program':\n",
    "        pass\n",
    "    elif op == ':=':\n",
    "        _, var, value = stmnt\n",
    "        Values[var] = evaluate(value, Values)\n",
    "    elif op == 'read':\n",
    "        _, var = stmnt\n",
    "        Values[var] = int(input())\n",
    "    elif op == 'print':\n",
    "        _, expr = stmnt\n",
    "        print(evaluate(expr, Values))\n",
    "    elif op == 'if':\n",
    "        _, test, *SL = stmnt\n",
    "        if evaluate(test, Values):\n",
    "            execute_tuple(SL, Values)\n",
    "    elif op == 'while':\n",
    "        _, test, *SL = stmnt\n",
    "        while evaluate(test, Values):\n",
    "            execute_tuple(SL, Values)\n",
    "    else:\n",
    "        assert False, f'{stmnt} unexpected'"
   ]
  },
  {
   "cell_type": "markdown",
   "metadata": {},
   "source": [
    "The function `evaluate` takes two arguments:\n",
    "- `expr` is a logical expression or an arithmetic expression,\n",
    "- `Values` is a dictionary assigning integer values to variable names.\n",
    "\n",
    "The function evaluates the given expression and returns this value."
   ]
  },
  {
   "cell_type": "code",
   "execution_count": null,
   "metadata": {},
   "outputs": [],
   "source": [
    "def evaluate(expr, Values):\n",
    "    if isinstance(expr, int):\n",
    "        return expr\n",
    "    if isinstance(expr, str):\n",
    "        return Values[expr] \n",
    "    op = expr[0]\n",
    "    if op == '==':\n",
    "        _, lhs, rhs = expr\n",
    "        return evaluate(lhs, Values) == evaluate(rhs, Values)\n",
    "    if op == '<':\n",
    "        _, lhs, rhs = expr\n",
    "        return evaluate(lhs, Values) < evaluate(rhs, Values)\n",
    "    if op == '+':\n",
    "        _, lhs, rhs = expr\n",
    "        return evaluate(lhs, Values) + evaluate(rhs, Values)\n",
    "    if op == '-':\n",
    "        _, lhs, rhs = expr\n",
    "        return evaluate(lhs, Values) - evaluate(rhs, Values)\n",
    "    if op == '*':\n",
    "        _, lhs, rhs = expr\n",
    "        return evaluate(lhs, Values) * evaluate(rhs, Values)\n",
    "    if op == '/':\n",
    "        _, lhs, rhs = expr\n",
    "        return evaluate(lhs, Values) / evaluate(rhs, Values)\n",
    "    assert False, f'{stmnt} unexpected'"
   ]
  },
  {
   "cell_type": "code",
   "execution_count": null,
   "metadata": {},
   "outputs": [],
   "source": [
    "!cat sum.sl"
   ]
  },
  {
   "cell_type": "code",
   "execution_count": null,
   "metadata": {},
   "outputs": [],
   "source": [
    "main('sum.sl')"
   ]
  },
  {
   "cell_type": "code",
   "execution_count": null,
   "metadata": {},
   "outputs": [],
   "source": [
    "!cat factorial.sl"
   ]
  },
  {
   "cell_type": "code",
   "execution_count": null,
   "metadata": {},
   "outputs": [],
   "source": [
    "main('factorial.sl')"
   ]
  },
  {
   "cell_type": "code",
   "execution_count": null,
   "metadata": {},
   "outputs": [],
   "source": [
    "!rm *.py *.tokens *.interp\n",
    "!rm -r __pycache__/\n",
    "!rm *.pdf"
   ]
  },
  {
   "cell_type": "code",
   "execution_count": null,
   "metadata": {},
   "outputs": [],
   "source": [
    "!ls"
   ]
  },
  {
   "cell_type": "code",
   "execution_count": null,
   "metadata": {},
   "outputs": [],
   "source": []
  }
 ],
 "metadata": {
  "kernelspec": {
   "display_name": "Python 3",
   "language": "python",
   "name": "python3"
  },
  "language_info": {
   "codemirror_mode": {
    "name": "ipython",
    "version": 3
   },
   "file_extension": ".py",
   "mimetype": "text/x-python",
   "name": "python",
   "nbconvert_exporter": "python",
   "pygments_lexer": "ipython3",
   "version": "3.9.0"
  },
  "varInspector": {
   "cols": {
    "lenName": 16,
    "lenType": 16,
    "lenVar": 40
   },
   "kernels_config": {
    "python": {
     "delete_cmd_postfix": "",
     "delete_cmd_prefix": "del ",
     "library": "var_list.py",
     "varRefreshCmd": "print(var_dic_list())"
    },
    "r": {
     "delete_cmd_postfix": ") ",
     "delete_cmd_prefix": "rm(",
     "library": "var_list.r",
     "varRefreshCmd": "cat(var_dic_list()) "
    }
   },
   "types_to_exclude": [
    "module",
    "function",
    "builtin_function_or_method",
    "instance",
    "_Feature"
   ],
   "window_display": false
  }
 },
 "nbformat": 4,
 "nbformat_minor": 4
}
