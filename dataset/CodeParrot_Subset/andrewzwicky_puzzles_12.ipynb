{
 "cells": [
  {
   "cell_type": "code",
   "execution_count": 3,
   "metadata": {},
   "outputs": [],
   "source": [
    "%load_ext autoreload\n",
    "%autoreload 2"
   ]
  },
  {
   "cell_type": "code",
   "execution_count": 4,
   "metadata": {},
   "outputs": [],
   "source": [
    "import requests\n",
    "from session import SESSION\n",
    "from common import print_problem, get_problem_input, submit_answer, neighbors\n",
    "from bs4 import BeautifulSoup\n",
    "from IPython.core.display import HTML\n",
    "from collections import Counter\n",
    "import re\n",
    "from collections import defaultdict\n",
    "from copy import copy, deepcopy\n",
    "import itertools\n",
    "from pprint import pprint\n",
    "from functools import lru_cache\n",
    "import numpy as np\n",
    "import colorama"
   ]
  },
  {
   "cell_type": "code",
   "execution_count": 5,
   "metadata": {},
   "outputs": [],
   "source": [
    "DAY = 12"
   ]
  },
  {
   "cell_type": "code",
   "execution_count": 51,
   "metadata": {},
   "outputs": [
    {
     "name": "stdout",
     "output_type": "stream",
     "text": [
      "Raw Data:\n",
      "'bm-XY\\nol-JS\\nbm-im\\nRD-ol\\nbm-QI\\nJS-ja\\nim-gq\\nend-im\\nja-ol\\nJS-gq\\nbm-AF\\nRD-start\\nRD-j'\n",
      "Split Data:\n",
      "['bm-XY',\n",
      " 'ol-JS',\n",
      " 'bm-im',\n",
      " 'RD-ol',\n",
      " 'bm-QI',\n",
      " 'JS-ja',\n",
      " 'im-gq',\n",
      " 'end-im',\n",
      " 'ja-ol',\n",
      " 'JS-gq']\n"
     ]
    }
   ],
   "source": [
    "raw_data, data = get_problem_input(DAY)"
   ]
  },
  {
   "cell_type": "code",
   "execution_count": 45,
   "metadata": {},
   "outputs": [],
   "source": [
    "data = [\n",
    "\"fs-end\",\n",
    "\"he-DX\",\n",
    "\"fs-he\",\n",
    "\"start-DX\",\n",
    "\"pj-DX\",\n",
    "\"end-zg\",\n",
    "\"zg-sl\",\n",
    "\"zg-pj\",\n",
    "\"pj-he\",\n",
    "\"RW-he\",\n",
    "\"fs-DX\",\n",
    "\"pj-RW\",\n",
    "\"zg-RW\",\n",
    "\"start-pj\",\n",
    "\"he-WI\",\n",
    "\"zg-he\",\n",
    "\"pj-fs\",\n",
    "\"start-RW\",\n",
    "]"
   ]
  },
  {
   "cell_type": "code",
   "execution_count": 55,
   "metadata": {},
   "outputs": [],
   "source": [
    "dd = defaultdict(set)\n",
    "for x,y in [d.split(\"-\") for d in data]:\n",
    "    dd[x].add(y)\n",
    "    dd[y].add(x)"
   ]
  },
  {
   "cell_type": "code",
   "execution_count": 72,
   "metadata": {},
   "outputs": [],
   "source": [
    "def recurse_paths(this_dd, current, visited, found_paths):\n",
    "    visited = deepcopy(visited)\n",
    "    visited.append(current)\n",
    "    \n",
    "    if current == 'end':\n",
    "        return found_paths + 1\n",
    "    \n",
    "    for n in this_dd[current]:\n",
    "        if (n != n.lower()) or (n not in visited):\n",
    "            found_paths = (recurse_paths(this_dd, n, visited, found_paths))\n",
    "\n",
    "    return found_paths"
   ]
  },
  {
   "cell_type": "code",
   "execution_count": 73,
   "metadata": {},
   "outputs": [],
   "source": [
    "first = recurse_paths(dd, \"start\", [], 0)"
   ]
  },
  {
   "cell_type": "code",
   "execution_count": 74,
   "metadata": {},
   "outputs": [
    {
     "name": "stdout",
     "output_type": "stream",
     "text": [
      "3887\n"
     ]
    }
   ],
   "source": [
    "print(first)"
   ]
  },
  {
   "cell_type": "code",
   "execution_count": 41,
   "metadata": {},
   "outputs": [
    {
     "name": "stdout",
     "output_type": "stream",
     "text": [
      "3887\n",
      "(\"You don't seem to be solving the right level.  Did you already complete it? \"\n",
      " '[Return to Day 12]')\n"
     ]
    },
    {
     "data": {
      "text/plain": [
       "False"
      ]
     },
     "execution_count": 41,
     "metadata": {},
     "output_type": "execute_result"
    }
   ],
   "source": [
    "submit_answer(DAY, 1, first)"
   ]
  },
  {
   "cell_type": "code",
   "execution_count": 69,
   "metadata": {},
   "outputs": [],
   "source": [
    "def twice_recurse(this_dd, current, visited, found_paths, doubled):\n",
    "    visited = deepcopy(visited)\n",
    "    visited.append(current)\n",
    "    \n",
    "    if current == 'end':\n",
    "        p = \",\".join(visited)\n",
    "        return found_paths + 1\n",
    "    \n",
    "    for n in this_dd[current]:\n",
    "        if n == \"start\":\n",
    "            continue\n",
    "        if (n != n.lower()):\n",
    "            found_paths = twice_recurse(this_dd, n, visited, found_paths, doubled)\n",
    "\n",
    "        else:\n",
    "            #lowercase\n",
    "            if n not in visited:\n",
    "                found_paths = twice_recurse(this_dd, n, visited, found_paths, doubled)\n",
    "            else:\n",
    "                #already found:\n",
    "                if doubled is None:\n",
    "                    found_paths = twice_recurse(this_dd, n, visited, found_paths, n)\n",
    "\n",
    "    return found_paths"
   ]
  },
  {
   "cell_type": "code",
   "execution_count": 70,
   "metadata": {},
   "outputs": [],
   "source": [
    "second = twice_recurse(dd, \"start\", [], 0, None)"
   ]
  },
  {
   "cell_type": "code",
   "execution_count": 71,
   "metadata": {},
   "outputs": [
    {
     "name": "stdout",
     "output_type": "stream",
     "text": [
      "104834\n"
     ]
    }
   ],
   "source": [
    "print(second)"
   ]
  },
  {
   "cell_type": "code",
   "execution_count": 59,
   "metadata": {},
   "outputs": [
    {
     "name": "stdout",
     "output_type": "stream",
     "text": [
      "104834\n",
      "(\"That's the right answer!  You are one gold star closer to finding the sleigh \"\n",
      " 'keys.You have completed Day 12! You can [Shareon\\n'\n",
      " '  Twitter\\n'\n",
      " 'Mastodon] this victory or [Return to Your Advent Calendar].')\n"
     ]
    },
    {
     "data": {
      "text/plain": [
       "True"
      ]
     },
     "execution_count": 59,
     "metadata": {},
     "output_type": "execute_result"
    }
   ],
   "source": [
    "submit_answer(DAY, 2, second)"
   ]
  }
 ],
 "metadata": {
  "kernelspec": {
   "display_name": "Python 3",
   "language": "python",
   "name": "python3"
  },
  "language_info": {
   "codemirror_mode": {
    "name": "ipython",
    "version": 3
   },
   "file_extension": ".py",
   "mimetype": "text/x-python",
   "name": "python",
   "nbconvert_exporter": "python",
   "pygments_lexer": "ipython3",
   "version": "3.8.6"
  }
 },
 "nbformat": 4,
 "nbformat_minor": 4
}
