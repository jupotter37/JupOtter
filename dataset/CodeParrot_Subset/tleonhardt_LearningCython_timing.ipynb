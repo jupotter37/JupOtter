{
 "cells": [
  {
   "cell_type": "code",
   "execution_count": 2,
   "metadata": {
    "collapsed": true
   },
   "outputs": [],
   "source": [
    "# Two functions each doing exactly the same thing, which is to add up a sequence of integers\n",
    "\n",
    "def f1(n):\n",
    "    \"\"\" Use an explicit loop \"\"\"\n",
    "    result = 0\n",
    "    for i in range(n + 1):\n",
    "        result = result + i\n",
    "    return result\n",
    "        \n",
    "def f2(n):\n",
    "    \"\"\" Use the sum() function \"\"\"\n",
    "    return sum(range(n + 1))"
   ]
  },
  {
   "cell_type": "code",
   "execution_count": 3,
   "metadata": {
    "collapsed": false
   },
   "outputs": [
    {
     "name": "stdout",
     "output_type": "stream",
     "text": [
      "100 loops, best of 3: 6.2 ms per loop\n",
      "100 loops, best of 3: 2.01 ms per loop\n"
     ]
    }
   ],
   "source": [
    "# IPython line magic %timeit will perform timing of code by running your code many times \n",
    "n = int(1e5)\n",
    "%timeit f1(n)\n",
    "%timeit f2(n)"
   ]
  },
  {
   "cell_type": "code",
   "execution_count": 7,
   "metadata": {
    "collapsed": false
   },
   "outputs": [
    {
     "name": "stdout",
     "output_type": "stream",
     "text": [
      "100 loops, best of 3: 5.88 ms per loop\n"
     ]
    }
   ],
   "source": [
    "%%timeit\n",
    "# %% Implies an IPython cell magic function - needs to be on very first line of cell\n",
    "tot = 0\n",
    "for i in range(n+1):\n",
    "    tot += i"
   ]
  },
  {
   "cell_type": "code",
   "execution_count": 8,
   "metadata": {
    "collapsed": false
   },
   "outputs": [
    {
     "name": "stdout",
     "output_type": "stream",
     "text": [
      " "
     ]
    }
   ],
   "source": [
    "# %prun is a magic command for the Python profiler - it can be used as either a line or cell magic function\n",
    "%prun f1(n)"
   ]
  },
  {
   "cell_type": "markdown",
   "metadata": {},
   "source": [
    "# Arithmetic progression\n",
    "\n",
    "The _fastest_ way to calculate the sum of a sequence of integers is with the following formula:\n",
    "\n",
    "$$\n",
    "\\sum_{i=1}^{N} = \\frac{n(n+1)}{2}\n",
    "$$"
   ]
  },
  {
   "cell_type": "code",
   "execution_count": 9,
   "metadata": {
    "collapsed": true
   },
   "outputs": [],
   "source": [
    "def f3(n):\n",
    "    \"\"\" Algorithm implementing the above sum formulat \"\"\"\n",
    "    return n * (n + 1) / 2"
   ]
  },
  {
   "cell_type": "code",
   "execution_count": 10,
   "metadata": {
    "collapsed": false
   },
   "outputs": [
    {
     "name": "stdout",
     "output_type": "stream",
     "text": [
      "100 loops, best of 3: 6.6 ms per loop\n",
      "1000 loops, best of 3: 1.88 ms per loop\n",
      "The slowest run took 6.79 times longer than the fastest. This could mean that an intermediate result is being cached.\n",
      "1000000 loops, best of 3: 190 ns per loop\n"
     ]
    }
   ],
   "source": [
    "%timeit f1(n)\n",
    "%timeit f2(n)\n",
    "%timeit f3(n)"
   ]
  },
  {
   "cell_type": "code",
   "execution_count": null,
   "metadata": {
    "collapsed": true
   },
   "outputs": [],
   "source": []
  }
 ],
 "metadata": {
  "anaconda-cloud": {},
  "kernelspec": {
   "display_name": "Python [default]",
   "language": "python",
   "name": "python3"
  },
  "language_info": {
   "codemirror_mode": {
    "name": "ipython",
    "version": 3
   },
   "file_extension": ".py",
   "mimetype": "text/x-python",
   "name": "python",
   "nbconvert_exporter": "python",
   "pygments_lexer": "ipython3",
   "version": "3.5.2"
  }
 },
 "nbformat": 4,
 "nbformat_minor": 0
}
