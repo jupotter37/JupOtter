{
 "cells": [
  {
   "cell_type": "code",
   "execution_count": 9,
   "metadata": {},
   "outputs": [
    {
     "ename": "SyntaxError",
     "evalue": "invalid syntax (<ipython-input-9-a89637ef5f0d>, line 1)",
     "output_type": "error",
     "traceback": [
      "\u001b[1;36m  File \u001b[1;32m\"<ipython-input-9-a89637ef5f0d>\"\u001b[1;36m, line \u001b[1;32m1\u001b[0m\n\u001b[1;33m    encoding: utf-8\u001b[0m\n\u001b[1;37m            ^\u001b[0m\n\u001b[1;31mSyntaxError\u001b[0m\u001b[1;31m:\u001b[0m invalid syntax\n"
     ]
    }
   ],
   "source": []
  },
  {
   "cell_type": "code",
   "execution_count": null,
   "metadata": {
    "collapsed": true
   },
   "outputs": [],
   "source": [
    "#importando o módulo de acesso SQLite\n",
    "import sqlite3"
   ]
  },
  {
   "cell_type": "code",
   "execution_count": 2,
   "metadata": {
    "collapsed": true
   },
   "outputs": [],
   "source": [
    "#cria uma conexão com o banco\n",
    "#se o banco não exitir é criado\n",
    "con = sqlite3.connect('escola.db')"
   ]
  },
  {
   "cell_type": "code",
   "execution_count": 3,
   "metadata": {
    "collapsed": true
   },
   "outputs": [],
   "source": [
    "#criando um curso para poder percorrer todos os registros de um banco de dados\n",
    "cursor=con.cursor()"
   ]
  },
  {
   "cell_type": "code",
   "execution_count": 4,
   "metadata": {
    "collapsed": true
   },
   "outputs": [],
   "source": [
    "#cria uma instrução sql\n",
    "sql_create = 'create table cursos'\\\n",
    "'(id integer primary key,'\\\n",
    "'titulo varchar(100),'\\\n",
    "'categoria varchar(140))'"
   ]
  },
  {
   "cell_type": "code",
   "execution_count": 5,
   "metadata": {},
   "outputs": [
    {
     "data": {
      "text/plain": [
       "<sqlite3.Cursor at 0x4116f80>"
      ]
     },
     "execution_count": 5,
     "metadata": {},
     "output_type": "execute_result"
    }
   ],
   "source": [
    "#executando a instrução sql  no cursor\n",
    "cursor.execute(sql_create)"
   ]
  },
  {
   "cell_type": "code",
   "execution_count": 6,
   "metadata": {
    "collapsed": true
   },
   "outputs": [],
   "source": [
    "#criando outra setença  SQL  para inserir  registros \n",
    "sql_insert ='insert into cursos values (?,?,?)'"
   ]
  },
  {
   "cell_type": "code",
   "execution_count": 10,
   "metadata": {
    "collapsed": true
   },
   "outputs": [],
   "source": [
    "#dados\n",
    "recset=[(1000,'Ciencia de Dados','Data Science'),\n",
    "        (1001,'Big Data Fundamentos','Big Data'),\n",
    "        (1002,'Python Fundamentos','Analise de Dados')]"
   ]
  },
  {
   "cell_type": "code",
   "execution_count": 11,
   "metadata": {
    "collapsed": true
   },
   "outputs": [],
   "source": [
    "#inserindo os registros\n",
    "for rec in recset:\n",
    "    cursor.execute(sql_insert ,rec)"
   ]
  },
  {
   "cell_type": "code",
   "execution_count": 12,
   "metadata": {
    "collapsed": true
   },
   "outputs": [],
   "source": [
    "#grava no banco\n",
    "con.commit()"
   ]
  },
  {
   "cell_type": "code",
   "execution_count": 13,
   "metadata": {
    "collapsed": true
   },
   "outputs": [],
   "source": [
    "#selecionando registro\n",
    "sql_select ='select * from cursos'"
   ]
  },
  {
   "cell_type": "code",
   "execution_count": 14,
   "metadata": {},
   "outputs": [
    {
     "data": {
      "text/plain": [
       "<sqlite3.Cursor at 0x4116f80>"
      ]
     },
     "execution_count": 14,
     "metadata": {},
     "output_type": "execute_result"
    }
   ],
   "source": [
    "#selecionado todos os registros\n",
    "cursor.execute(sql_select)"
   ]
  },
  {
   "cell_type": "code",
   "execution_count": 15,
   "metadata": {
    "collapsed": true
   },
   "outputs": [],
   "source": [
    "#recupera os dados\n",
    "dados = cursor.fetchall()"
   ]
  },
  {
   "cell_type": "code",
   "execution_count": 16,
   "metadata": {},
   "outputs": [
    {
     "name": "stdout",
     "output_type": "stream",
     "text": [
      "Curso: 1000, Titulo: Ciencia de Dados, Categoria: Data Science \n",
      "\n",
      "Curso: 1001, Titulo: Big Data Fundamentos, Categoria: Big Data \n",
      "\n",
      "Curso: 1002, Titulo: Python Fundamentos, Categoria: Analise de Dados \n",
      "\n"
     ]
    }
   ],
   "source": [
    "#mostrando os dados\n",
    "for linha in dados:\n",
    "    print('Curso: %s, Titulo: %s, Categoria: %s \\n' %linha)"
   ]
  },
  {
   "cell_type": "code",
   "execution_count": 23,
   "metadata": {},
   "outputs": [
    {
     "name": "stdout",
     "output_type": "stream",
     "text": [
      "Curso: 1000, Titulo: Ciencia de Dados, Categoria: Data Science \n",
      "\n",
      "Curso: 1001, Titulo: Big Data Fundamentos, Categoria: Big Data \n",
      "\n",
      "Curso: 1002, Titulo: Python Fundamentos, Categoria: Analise de Dados \n",
      "\n",
      "Curso: 1003, Titulo: Gestao de dados com MongoDB, Categoria: Big Data \n",
      "\n",
      "Curso: 1004, Titulo: R Fundamentos, Categoria: Analise de dados \n",
      "\n",
      "Curso: 1005, Titulo: Gestao de dados com MongoDB, Categoria: Big Data \n",
      "\n",
      "Curso: 1006, Titulo: R Fundamentos, Categoria: Analise de dados \n",
      "\n"
     ]
    }
   ],
   "source": [
    "#gravando registros no banco\n",
    "recset=[(1005,'Gestao de dados com MongoDB', 'Big Data'),\n",
    "        (1006,'R Fundamentos','Analise de dados')]\n",
    "\n",
    "#inserindo um registro\n",
    "for rec in recset:\n",
    "    cursor.execute(sql_insert, rec)\n",
    "\n",
    "#grava no banco\n",
    "con.commit()\n",
    "\n",
    "#selecionando o dados\n",
    "cursor.execute(sql_select)\n",
    "\n",
    "#recupera os dados\n",
    "dados = cursor.fetchall()\n",
    "\n",
    "#mostranaod os dados\n",
    "for linha in dados:\n",
    "\n",
    "    print('Curso: %s, Titulo: %s, Categoria: %s \\n' %linha)"
   ]
  },
  {
   "cell_type": "code",
   "execution_count": 25,
   "metadata": {
    "collapsed": true
   },
   "outputs": [],
   "source": [
    "#fechando a conexao\n",
    "con.close()"
   ]
  },
  {
   "cell_type": "code",
   "execution_count": null,
   "metadata": {
    "collapsed": true
   },
   "outputs": [],
   "source": []
  }
 ],
 "metadata": {
  "kernelspec": {
   "display_name": "Python 2",
   "language": "python",
   "name": "python2"
  },
  "language_info": {
   "codemirror_mode": {
    "name": "ipython",
    "version": 2
   },
   "file_extension": ".py",
   "mimetype": "text/x-python",
   "name": "python",
   "nbconvert_exporter": "python",
   "pygments_lexer": "ipython2",
   "version": "2.7.13"
  }
 },
 "nbformat": 4,
 "nbformat_minor": 2
}
