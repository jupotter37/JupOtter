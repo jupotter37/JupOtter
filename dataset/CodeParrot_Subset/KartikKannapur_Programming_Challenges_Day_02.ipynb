{
 "cells": [
  {
   "cell_type": "markdown",
   "metadata": {},
   "source": [
    "# Day 2: Basic Probability Puzzles #1"
   ]
  },
  {
   "cell_type": "markdown",
   "metadata": {},
   "source": [
    "### Objective \n",
    "In this challenge, we practice calculating probability.\n",
    "\n",
    "### Task \n",
    "In a single toss of 2 fair (evenly-weighted) dice, find the probability of that their sum will be at most 9."
   ]
  },
  {
   "cell_type": "markdown",
   "metadata": {},
   "source": [
    "Answer : 5/6"
   ]
  },
  {
   "cell_type": "markdown",
   "metadata": {},
   "source": [
    "# Day 2: Basic Probability Puzzles #2"
   ]
  },
  {
   "cell_type": "markdown",
   "metadata": {},
   "source": [
    "### Objective \n",
    "In this challenge, we practice calculating probability.\n",
    "\n",
    "### Task \n",
    "For a single toss of 2 fair (evenly-weighted) dice, find the probability that the values rolled by each die will be different and their sum is 6."
   ]
  },
  {
   "cell_type": "markdown",
   "metadata": {},
   "source": [
    "Answer : 1/9"
   ]
  },
  {
   "cell_type": "markdown",
   "metadata": {},
   "source": [
    "# Day 2: Basic Probability Puzzles #3"
   ]
  },
  {
   "cell_type": "markdown",
   "metadata": {},
   "source": [
    "### Objective \n",
    "In this challenge, we practice calculating probability.\n",
    "\n",
    "### Task \n",
    "There are 3 urns: XX, YY and ZZ.\n",
    "\n",
    "Urn XX contains 4 red balls and 3 black balls.\n",
    "Urn YY contains 5 red balls and 4 black balls.\n",
    "Urn ZZ contains 4 red balls and 4 black balls.\n",
    "One ball is drawn from each urn. What is the probability that the 33 balls drawn consist of 2 red balls and 1 black ball?"
   ]
  },
  {
   "cell_type": "markdown",
   "metadata": {},
   "source": [
    "Answer : 17/42"
   ]
  },
  {
   "cell_type": "markdown",
   "metadata": {},
   "source": [
    "# Day 2: Basic Probability Puzzles #4"
   ]
  },
  {
   "cell_type": "markdown",
   "metadata": {},
   "source": [
    "### Objective \n",
    "In this challenge, we practice calculating probability.\n",
    "\n",
    "### Task \n",
    "Bag1 contains 4 red balls and 5 black balls. \n",
    "Bag2 contains 3 red balls and 7 black balls. \n",
    "One ball is drawn from the Bag1, and 2 balls are drawn from Bag2. Find the probability that 2 balls are black and 1 ball is red."
   ]
  },
  {
   "cell_type": "markdown",
   "metadata": {
    "collapsed": true
   },
   "source": [
    "Answer : 7/15"
   ]
  }
 ],
 "metadata": {
  "kernelspec": {
   "display_name": "Python 2",
   "language": "python",
   "name": "python2"
  },
  "language_info": {
   "codemirror_mode": {
    "name": "ipython",
    "version": 2
   },
   "file_extension": ".py",
   "mimetype": "text/x-python",
   "name": "python",
   "nbconvert_exporter": "python",
   "pygments_lexer": "ipython2",
   "version": "2.7.9"
  }
 },
 "nbformat": 4,
 "nbformat_minor": 0
}
