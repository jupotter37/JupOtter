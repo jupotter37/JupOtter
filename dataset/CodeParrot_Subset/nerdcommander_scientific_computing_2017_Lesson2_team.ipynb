{
 "cells": [
  {
   "cell_type": "markdown",
   "metadata": {
    "collapsed": true
   },
   "source": [
    "# Unit 1: Programming Basics"
   ]
  },
  {
   "cell_type": "markdown",
   "metadata": {},
   "source": [
    "## Lesson 2: Writing Useful Functions"
   ]
  },
  {
   "cell_type": "markdown",
   "metadata": {},
   "source": [
    "## Notebook Authors "
   ]
  },
  {
   "cell_type": "markdown",
   "metadata": {},
   "source": [
    "_(fill in your two names here)_"
   ]
  },
  {
   "cell_type": "markdown",
   "metadata": {},
   "source": [
    "## Team Roles"
   ]
  },
  {
   "cell_type": "markdown",
   "metadata": {},
   "source": [
    "Facilitator: _(fill in name)_  \n",
    "Spokesperson: _(fill in name)_  \n",
    "Process Analyst: _(fill in name)_  \n",
    "Quality Control: _(fill in name)_  \n",
    "\n",
    "If there are only three people in your team, have one person serve as both spokesperson and process analyst for the rest of this activity.<p>\n",
    "At the end of this Lesson, you will be asked to record how long each Model required for your team. The _Facilitator_ should keep track of time for your team."
   ]
  },
  {
   "cell_type": "markdown",
   "metadata": {},
   "source": [
    "## Computational Focus: Writing Useful Functions"
   ]
  },
  {
   "cell_type": "markdown",
   "metadata": {},
   "source": [
    "### Model 1: The Math Module"
   ]
  },
  {
   "cell_type": "markdown",
   "metadata": {},
   "source": [
    "In Python’s math module, you will find a number of useful predefined functions. Table 1 at the end of this lesson lists both constants and several useful functions defined in the math module. This same information is also accessible using Python’s built-in help function.\n",
    "\n",
    "**Type** (don't copy and paste) the following code, one line per Jupyter cell, to observe the output (if any):\n",
    "```python\n",
    "value = math.cos(0)  \n",
    "import math  \n",
    "value = math.cos(0)  \n",
    "value  \n",
    "math.cos(value)  \n",
    "math.pi  \n",
    "math.cos(math.pi)  \n",
    "help(math) # please clear the output of this cell after running \n",
    "help(math.cos)    \n",
    "math.cos()  \n",
    "```\n",
    "(_A hint about help in Jupyter Notebooks, you can also use a_ `?` _before a module or function and get some info about it. For example, try_ `?math.cos` _for fun. You get slightly less info sometimes and this is a JN thing not a general Python thing_.)\n"
   ]
  },
  {
   "cell_type": "markdown",
   "metadata": {},
   "source": [
    "### Critical Thinking Questions"
   ]
  },
  {
   "cell_type": "markdown",
   "metadata": {},
   "source": [
    "1\\. Examine the two lines (of the ten above lines of Python code) that had errors in them.  \n",
    "1a. Explain how to fix the first error."
   ]
  },
  {
   "cell_type": "markdown",
   "metadata": {},
   "source": []
  },
  {
   "cell_type": "markdown",
   "metadata": {},
   "source": [
    "1b. Explain how to fix the second error. "
   ]
  },
  {
   "cell_type": "markdown",
   "metadata": {},
   "source": []
  },
  {
   "cell_type": "markdown",
   "metadata": {},
   "source": [
    "2\\. Identify the assignment statement using the `math.cos` function (from the ten Python lines).  \n",
    "2a. What is the _identifier_ in the assignment statement?"
   ]
  },
  {
   "cell_type": "markdown",
   "metadata": {},
   "source": []
  },
  {
   "cell_type": "markdown",
   "metadata": {},
   "source": [
    "2b. What is the _argument_ in the assignment statement?"
   ]
  },
  {
   "cell_type": "markdown",
   "metadata": {},
   "source": []
  },
  {
   "cell_type": "markdown",
   "metadata": {},
   "source": [
    "3\\. What are the assumed units (degrees or radians) of the argument passed to the math.cos function? "
   ]
  },
  {
   "cell_type": "markdown",
   "metadata": {},
   "source": []
  },
  {
   "cell_type": "markdown",
   "metadata": {},
   "source": [
    "4\\. Based on the first two lines of Python code from Model 1, describe two ways using a function defined in the math module differs from using one of Python’s built-in functions like `type()` or `abs()` from the last lesson.  "
   ]
  },
  {
   "cell_type": "markdown",
   "metadata": {},
   "source": []
  },
  {
   "cell_type": "markdown",
   "metadata": {},
   "source": [
    "### Model 2: User Defined Functions"
   ]
  },
  {
   "cell_type": "markdown",
   "metadata": {},
   "source": [
    "In addition to using Python’s built-in functions, you can write your own functions. Type the following ***function definition*** in a single Jupyter code cell (_don't_ copy and paste since it's bad practice, and so you can see how Jupyter automatically indents, the spacing is _important!_):\n",
    "\n",
    "```Python\n",
    "def model_two():  \n",
    "    import math  \n",
    "    answer = math.cos(0)  \n",
    "    print(answer)\n",
    "```  \n",
    "To execute the code (known as a ***function call***), type the function name and parentheses in another Jupyter code cell:\n",
    "\n",
    "<pre>model_two()</pre>"
   ]
  },
  {
   "cell_type": "markdown",
   "metadata": {},
   "source": [
    "### Critical Thinking Questions"
   ]
  },
  {
   "cell_type": "markdown",
   "metadata": {},
   "source": [
    "5\\. Modify the `model_two` function definition so that it uses the `input` function introduced in the last lesson to ask the user to provide the value of the argument of the `math.cos` function. Place a comment in your code that briefly explains what you did."
   ]
  },
  {
   "cell_type": "code",
   "execution_count": null,
   "metadata": {
    "collapsed": true
   },
   "outputs": [],
   "source": []
  },
  {
   "cell_type": "markdown",
   "metadata": {},
   "source": [
    "### Model 3: Passing Arguments to Functions"
   ]
  },
  {
   "cell_type": "markdown",
   "metadata": {},
   "source": [
    "We can write a more flexible function by defining a function that takes a ***parameter***. Define the following function in a single Jupyter code cell (again, _don't_ copy and paste):\n",
    "\n",
    "```Python\n",
    "# This function takes a parameter \n",
    "\n",
    "def model_three(angle):  \n",
    "    import math  \n",
    "    print(angle)\n",
    "    answer = math.cos(angle)  \n",
    "    print(answer)\n",
    "```  \n",
    "\n",
    "Note: A single hash sign (#) indicates the beginning of a ***comment*** used for program documentation.  All text after the # to the end of the line is ignored.  It is good practice to communicate to other programmers (or remind your future self!) what is happening in the code.\n",
    "\n",
    "When we call the model function, we need to pass the information the function expects (the parameter) as the ***argument in the function call***. The function parameter in the function definition automatically receives the value of the argument in the function call.\n",
    "\n",
    "To see three examples of this, type in the following statements in _four_ Jupyter code cells:\n",
    "<pre>model_three(5)\n",
    "model_three(float(input(\"enter a number: \")))\n",
    "dozen = 12\n",
    "model_three(dozen)\n",
    "</pre>"
   ]
  },
  {
   "cell_type": "code",
   "execution_count": null,
   "metadata": {
    "collapsed": true
   },
   "outputs": [],
   "source": []
  },
  {
   "cell_type": "markdown",
   "metadata": {},
   "source": [
    "### Critical Thinking Questions"
   ]
  },
  {
   "cell_type": "markdown",
   "metadata": {},
   "source": [
    "6\\. Consider the first `model_three` _function call_.  \n",
    "6a. What is the first function call from the above model?"
   ]
  },
  {
   "cell_type": "markdown",
   "metadata": {},
   "source": [
    "6b. What is the value of the argument from the first function call?"
   ]
  },
  {
   "cell_type": "markdown",
   "metadata": {},
   "source": [
    "6c. What is the name of the parameter (from the first line of the function definition)?"
   ]
  },
  {
   "cell_type": "markdown",
   "metadata": {},
   "source": [
    "6d. What is the value of the parameter?"
   ]
  },
  {
   "cell_type": "markdown",
   "metadata": {},
   "source": [
    "6e. Write an assignment statement that demonstrates how the parameter directly got its value. "
   ]
  },
  {
   "cell_type": "markdown",
   "metadata": {},
   "source": [
    "7\\. Consider the last `model_three` _function call_.  \n",
    "7a. What is the value of the argument?"
   ]
  },
  {
   "cell_type": "markdown",
   "metadata": {},
   "source": [
    "7b. What is the value of the parameter?"
   ]
  },
  {
   "cell_type": "markdown",
   "metadata": {},
   "source": [
    "7c. When a variable is passed to the function as an argument, does the identifier of the argument need to be the same as the identifier taken by the function as a parameter?  "
   ]
  },
  {
   "cell_type": "markdown",
   "metadata": {},
   "source": [
    "7d. Write an assignment statement showing how the parameter indirectly got its value. Briefly explain your answer."
   ]
  },
  {
   "cell_type": "markdown",
   "metadata": {},
   "source": [
    "### Model 4: Return Values for Functions"
   ]
  },
  {
   "cell_type": "markdown",
   "metadata": {},
   "source": [
    "We can write a function that produced an output by using ***return***. Define the following function in a _single_ Jupyter code cell (again, _don't_ copy and paste):\n",
    "\n",
    "```python\n",
    "# This function takes a parameter and returns a value\n",
    "\n",
    "def model_four(angle):\n",
    "    import math\n",
    "    print(angle)\n",
    "    answer1 = math.cos(angle)\n",
    "    answer2 = math.cos(angle*angle)\n",
    "    print(answer1, answer2)\n",
    "    return answer2```\n",
    "</pre>  \n",
    "\n",
    "\n",
    "To see three examples of this, type in the following statements in _six_ separate Jupyter code cells:\n",
    "<pre>model_four(5)  \n",
    "answer1\n",
    "answer2\n",
    "result = model_four(5)\n",
    "result\n",
    "result/100\n",
    "</pre>"
   ]
  },
  {
   "cell_type": "markdown",
   "metadata": {},
   "source": [
    "### Critical Thinking Questions"
   ]
  },
  {
   "cell_type": "markdown",
   "metadata": {},
   "source": [
    "8a\\. When you run the 4th line of code above `[result = model_four(5)]`, does `result` get its value from `answer1` or `answer2`? "
   ]
  },
  {
   "cell_type": "markdown",
   "metadata": {},
   "source": [
    "8b\\. Explain how `result` gets its value and what happens to `answer1`."
   ]
  },
  {
   "cell_type": "markdown",
   "metadata": {},
   "source": [
    "9\\. Would it be possible to perform an operation on the variable `answer2` (e.g., `answer2/100`) after calling the function (in a separate code cell)? Explain."
   ]
  },
  {
   "cell_type": "markdown",
   "metadata": {},
   "source": [
    "10\\. Describe how it is possible to perform an operation involving the _value_ of `answer2` and _not_ possible to perform an operation involving the _value_ of `answer1` after the function call. "
   ]
  },
  {
   "cell_type": "markdown",
   "metadata": {},
   "source": [
    "11\\. Copy into a new code cell, edit, and run the `model_four` definition with the last two lines reversed (`return` then `print`).  Describe the result. What does this imply about the return statement?"
   ]
  },
  {
   "cell_type": "markdown",
   "metadata": {},
   "source": [
    "12\\. Explain why a function that returns the value of a variable is considered more “useful” than a function that simply prints the value of a variable."
   ]
  },
  {
   "cell_type": "markdown",
   "metadata": {},
   "source": [
    "### Temporal Analysis Report"
   ]
  },
  {
   "cell_type": "markdown",
   "metadata": {},
   "source": [
    "How much time did it require for your team to complete each Model?"
   ]
  },
  {
   "cell_type": "markdown",
   "metadata": {},
   "source": [
    "# END OF CLASS"
   ]
  },
  {
   "cell_type": "markdown",
   "metadata": {
    "collapsed": true
   },
   "source": [
    "**Table 1: partial list of math module functions and constants** ([complete list](https://docs.python.org/3/library/math.html))\n",
    "\n",
    "functions | functions | | constants\n",
    ":---: | :---: | :---: | :---:\n",
    "sin(x) | log(x) | | e\n",
    "cos(x) | log10(x) | | pi\n",
    "tan(x) | exp(x) | | \n",
    "asin(x) | ceil(x) | | \n",
    "acos(x) | floor(x)|  | \n",
    "atan(x) |  | \n"
   ]
  }
 ],
 "metadata": {
  "anaconda-cloud": {},
  "kernelspec": {
   "display_name": "Python [default]",
   "language": "python",
   "name": "python3"
  },
  "language_info": {
   "codemirror_mode": {
    "name": "ipython",
    "version": 3
   },
   "file_extension": ".py",
   "mimetype": "text/x-python",
   "name": "python",
   "nbconvert_exporter": "python",
   "pygments_lexer": "ipython3",
   "version": "3.5.2"
  }
 },
 "nbformat": 4,
 "nbformat_minor": 1
}
