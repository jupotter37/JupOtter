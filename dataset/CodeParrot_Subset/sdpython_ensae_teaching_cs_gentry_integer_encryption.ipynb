{
  "cells": [
    {
      "cell_type": "markdown",
      "metadata": {},
      "source": [
        "# Cryptage homomorphic de Craig Gentry\n",
        "\n",
        "Un cryptage homomorphe pr\u00e9serve l'addition et la multiplication : une addition sur des nombres crypt\u00e9s est \u00e9gale au r\u00e9sultat crypt\u00e9 de l'addition sur les nombres non crypt\u00e9es. Craig Gentry a propos\u00e9 un tel cryptage dans son article [Fully Homomorphic Encryption over the Integers](https://eprint.iacr.org/2009/616.pdf). Le syst\u00e8me de cryptage encrypte et d\u00e9crypte des bits (0 ou 1)."
      ]
    },
    {
      "cell_type": "code",
      "execution_count": 1,
      "metadata": {},
      "outputs": [
        {
          "data": {
            "text/html": [
              "<div id=\"my_id_menu_nb\">run previous cell, wait for 2 seconds</div>\n",
              "<script>\n",
              "function repeat_indent_string(n){\n",
              "    var a = \"\" ;\n",
              "    for ( ; n > 0 ; --n)\n",
              "        a += \"    \";\n",
              "    return a;\n",
              "}\n",
              "var update_menu_string = function(begin, lfirst, llast, sformat, send, keep_item, begin_format, end_format) {\n",
              "    var anchors = document.getElementsByClassName(\"section\");\n",
              "    if (anchors.length == 0) {\n",
              "        anchors = document.getElementsByClassName(\"text_cell_render rendered_html\");\n",
              "    }\n",
              "    var i,t;\n",
              "    var text_menu = begin;\n",
              "    var text_memo = \"<pre>\\nlength:\" + anchors.length + \"\\n\";\n",
              "    var ind = \"\";\n",
              "    var memo_level = 1;\n",
              "    var href;\n",
              "    var tags = [];\n",
              "    var main_item = 0;\n",
              "    var format_open = 0;\n",
              "    for (i = 0; i <= llast; i++)\n",
              "        tags.push(\"h\" + i);\n",
              "\n",
              "    for (i = 0; i < anchors.length; i++) {\n",
              "        text_memo += \"**\" + anchors[i].id + \"--\\n\";\n",
              "\n",
              "        var child = null;\n",
              "        for(t = 0; t < tags.length; t++) {\n",
              "            var r = anchors[i].getElementsByTagName(tags[t]);\n",
              "            if (r.length > 0) {\n",
              "child = r[0];\n",
              "break;\n",
              "            }\n",
              "        }\n",
              "        if (child == null) {\n",
              "            text_memo += \"null\\n\";\n",
              "            continue;\n",
              "        }\n",
              "        if (anchors[i].hasAttribute(\"id\")) {\n",
              "            // when converted in RST\n",
              "            href = anchors[i].id;\n",
              "            text_memo += \"#1-\" + href;\n",
              "            // passer \u00e0 child suivant (le chercher)\n",
              "        }\n",
              "        else if (child.hasAttribute(\"id\")) {\n",
              "            // in a notebook\n",
              "            href = child.id;\n",
              "            text_memo += \"#2-\" + href;\n",
              "        }\n",
              "        else {\n",
              "            text_memo += \"#3-\" + \"*\" + \"\\n\";\n",
              "            continue;\n",
              "        }\n",
              "        var title = child.textContent;\n",
              "        var level = parseInt(child.tagName.substring(1,2));\n",
              "\n",
              "        text_memo += \"--\" + level + \"?\" + lfirst + \"--\" + title + \"\\n\";\n",
              "\n",
              "        if ((level < lfirst) || (level > llast)) {\n",
              "            continue ;\n",
              "        }\n",
              "        if (title.endsWith('\u00b6')) {\n",
              "            title = title.substring(0,title.length-1).replace(\"<\", \"&lt;\")\n",
              "         .replace(\">\", \"&gt;\").replace(\"&\", \"&amp;\");\n",
              "        }\n",
              "        if (title.length == 0) {\n",
              "            continue;\n",
              "        }\n",
              "\n",
              "        while (level < memo_level) {\n",
              "            text_menu += end_format + \"</ul>\\n\";\n",
              "            format_open -= 1;\n",
              "            memo_level -= 1;\n",
              "        }\n",
              "        if (level == lfirst) {\n",
              "            main_item += 1;\n",
              "        }\n",
              "        if (keep_item != -1 && main_item != keep_item + 1) {\n",
              "            // alert(main_item + \" - \" + level + \" - \" + keep_item);\n",
              "            continue;\n",
              "        }\n",
              "        while (level > memo_level) {\n",
              "            text_menu += \"<ul>\\n\";\n",
              "            memo_level += 1;\n",
              "        }\n",
              "        text_menu += repeat_indent_string(level-2);\n",
              "        text_menu += begin_format + sformat.replace(\"__HREF__\", href).replace(\"__TITLE__\", title);\n",
              "        format_open += 1;\n",
              "    }\n",
              "    while (1 < memo_level) {\n",
              "        text_menu += end_format + \"</ul>\\n\";\n",
              "        memo_level -= 1;\n",
              "        format_open -= 1;\n",
              "    }\n",
              "    text_menu += send;\n",
              "    //text_menu += \"\\n\" + text_memo;\n",
              "\n",
              "    while (format_open > 0) {\n",
              "        text_menu += end_format;\n",
              "        format_open -= 1;\n",
              "    }\n",
              "    return text_menu;\n",
              "};\n",
              "var update_menu = function() {\n",
              "    var sbegin = \"\";\n",
              "    var sformat = '<a href=\"#__HREF__\">__TITLE__</a>';\n",
              "    var send = \"\";\n",
              "    var begin_format = '<li>';\n",
              "    var end_format = '</li>';\n",
              "    var keep_item = -1;\n",
              "    var text_menu = update_menu_string(sbegin, 2, 4, sformat, send, keep_item,\n",
              "       begin_format, end_format);\n",
              "    var menu = document.getElementById(\"my_id_menu_nb\");\n",
              "    menu.innerHTML=text_menu;\n",
              "};\n",
              "window.setTimeout(update_menu,2000);\n",
              "            </script>"
            ],
            "text/plain": [
              "<IPython.core.display.HTML object>"
            ]
          },
          "execution_count": 2,
          "metadata": {},
          "output_type": "execute_result"
        }
      ],
      "source": [
        "from jyquickhelper import add_notebook_menu\n",
        "add_notebook_menu()"
      ]
    },
    {
      "cell_type": "markdown",
      "metadata": {},
      "source": [
        "## D\u00e9finition du cryptage\n",
        "\n",
        "$KeyGen(\\lambda)$\n",
        "\n",
        "* La cl\u00e9 secr\u00e8te $sk$ est un entier impair $p$ cod\u00e9 sur $\\eta$ bits : $p\\in (2\\mathbb{Z}+1) \\cap [2^{\\eta}, 2^{\\eta+1}[$.\n",
        "* La cl\u00e9 publique $pk$ est une s\u00e9quence de $\\tau+1$ entiers al\u00e9atoires tir\u00e9s selon un loi $\\mathcal{D}_{\\gamma,\\rho}(p)$. La s\u00e9quence $(x_0, ..., x_{\\tau})$ (doit v\u00e9rifier $x_0$ est impair et $r_p(x_0)$ est pair. Il faut recommencer si ce n'est pas le cas. Chaque entier est cod\u00e9 sur au plus $\\gamma$ bits.\n",
        "\n",
        "$Encrypt(pk, m\\in \\{0,1\\})$\n",
        "\n",
        "Choisir un ensemble al\u00e9atoire $S \\subset \\{1, ..., \\tau\\}$ et un entier al\u00e9atoire $r$ dans l'intervalle $]-2^{\\rho'}, 2^{\\rho'}[$. Calculer $c = (m + 2r + 2\\sum_{i \\in S} x_i) \\mod x_0$.\n",
        "\n",
        "$Evaluate(pk, C, c_1, ..., c_t)$\n",
        "\n",
        "La fonction $C$ effectue des op\u00e9rations sur $t$ bits. Le r\u00e9sultat est $c$.\n",
        "\n",
        "$Decrypt(sk, c)$\n",
        "\n",
        "Le r\u00e9sultat cherch\u00e9 est $(c \\mod p) \\mod 2$.\n",
        "\n",
        "**Avec :** (valeurs sugg\u00e9r\u00e9es par l'article mais d'autres sont possibles\n",
        "\n",
        "* $\\rho = \\lambda$\n",
        "* $\\rho' = 2\\lambda$\n",
        "* $\\eta \\sim  O(\\lambda^2)$\n",
        "* $\\gamma \\sim  O(\\lambda^5)$\n",
        "* $\\tau = \\gamma + \\lambda$\n",
        "* Pour simuler une loi $\\mathcal{D}_{\\gamma,\\rho}(p)$, choisir $q$ tel que $q \\in \\mathbb{Z} \\cap \\left[0, \\frac{2^{\\gamma}}{p}\\right[$, $r$ tel que $r \\in \\mathbb{Z} \\cap \\left]-2^{\\rho}, 2^{\\rho}\\right[$ et calculer $x = pq+r$.\n",
        "* $r_p(x)$ est le reste de la division enti\u00e8re de $x$ par $p$, reste choisi dans l'intervalle $\\left]-\\frac{p}{2}, \\frac{p}{2}\\right]$."
      ]
    },
    {
      "cell_type": "markdown",
      "metadata": {},
      "source": [
        "## Exercice 1 : impl\u00e9menter le cryptage"
      ]
    },
    {
      "cell_type": "code",
      "execution_count": 2,
      "metadata": {
        "collapsed": true
      },
      "outputs": [],
      "source": []
    },
    {
      "cell_type": "markdown",
      "metadata": {},
      "source": [
        "## Exercice 2 : v\u00e9rifier que le cryptage est stable par addition et multiplication"
      ]
    },
    {
      "cell_type": "code",
      "execution_count": 3,
      "metadata": {
        "collapsed": true
      },
      "outputs": [],
      "source": []
    },
    {
      "cell_type": "markdown",
      "metadata": {},
      "source": [
        "## Exercice 3 : impl\u00e9mententer l'addition enti\u00e8re "
      ]
    },
    {
      "cell_type": "code",
      "execution_count": 4,
      "metadata": {
        "collapsed": true
      },
      "outputs": [],
      "source": []
    },
    {
      "cell_type": "markdown",
      "metadata": {},
      "source": [
        "## Exercice 4 : impl\u00e9menter la multiplication enti\u00e8re"
      ]
    },
    {
      "cell_type": "code",
      "execution_count": 5,
      "metadata": {
        "collapsed": true
      },
      "outputs": [],
      "source": []
    },
    {
      "cell_type": "code",
      "execution_count": 6,
      "metadata": {
        "collapsed": true
      },
      "outputs": [],
      "source": []
    }
  ],
  "metadata": {
    "kernelspec": {
      "display_name": "Python 3",
      "language": "python",
      "name": "python3"
    },
    "language_info": {
      "codemirror_mode": {
        "name": "ipython",
        "version": 3
      },
      "file_extension": ".py",
      "mimetype": "text/x-python",
      "name": "python",
      "nbconvert_exporter": "python",
      "pygments_lexer": "ipython3",
      "version": "3.6.1"
    }
  },
  "nbformat": 4,
  "nbformat_minor": 2
}