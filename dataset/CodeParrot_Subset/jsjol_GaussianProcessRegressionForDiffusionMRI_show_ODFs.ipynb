{
 "cells": [
  {
   "cell_type": "code",
   "execution_count": 1,
   "metadata": {
    "collapsed": false
   },
   "outputs": [],
   "source": [
    "%load_ext autoreload\n",
    "%autoreload 2\n",
    "\n",
    "import os\n",
    "import sys\n",
    "module_path = os.path.abspath(os.path.join('..'))\n",
    "if module_path not in sys.path:\n",
    "    sys.path.append(module_path)"
   ]
  },
  {
   "cell_type": "code",
   "execution_count": 2,
   "metadata": {
    "collapsed": false
   },
   "outputs": [],
   "source": [
    "import numpy as np\n",
    "import json\n",
    "import matplotlib.pyplot as plt\n",
    "\n",
    "from dipy.reconst import mapmri\n",
    "import dipy.reconst.dti as dti\n",
    "from dipy.viz import window, actor\n",
    "from dipy.data import get_data, get_sphere\n",
    "from dipy.core.gradients import gradient_table\n",
    "\n",
    "from diGP.preprocessing import get_HCP_loader\n",
    "from diGP.preprocessing_pipelines import preprocess_SPARC\n",
    "from diGP.dataManipulations import log_q_squared\n",
    "from diGP.model import GaussianProcessModel, get_default_kernel"
   ]
  },
  {
   "cell_type": "code",
   "execution_count": 3,
   "metadata": {
    "collapsed": false
   },
   "outputs": [],
   "source": [
    "with open('../config.json', 'r') as json_file:\n",
    "    conf = json.load(json_file)"
   ]
  },
  {
   "cell_type": "markdown",
   "metadata": {},
   "source": [
    "Load the data."
   ]
  },
  {
   "cell_type": "code",
   "execution_count": 4,
   "metadata": {
    "collapsed": true
   },
   "outputs": [],
   "source": [
    "dataset = 'SPARC'"
   ]
  },
  {
   "cell_type": "code",
   "execution_count": 5,
   "metadata": {
    "collapsed": false
   },
   "outputs": [],
   "source": [
    "if dataset == 'HCP':\n",
    "    subject_path = conf['HCP']['data_paths']['mgh_1007']\n",
    "    loader = get_HCP_loader(subject_path)\n",
    "    small_data_path = '{}/mri/small_data.npy'.format(subject_path)\n",
    "\n",
    "    loader.update_filename_data(small_data_path)\n",
    "\n",
    "    data = loader.data\n",
    "    gtab = loader.gtab\n",
    "    voxel_size = loader.voxel_size\n",
    "elif dataset == 'SPARC':\n",
    "    subject_path = conf['SPARC']['data_paths']['gradient_60']\n",
    "\n",
    "    gtab, data, voxel_size = preprocess_SPARC(subject_path, normalize=True)\n",
    "    "
   ]
  },
  {
   "cell_type": "code",
   "execution_count": 6,
   "metadata": {
    "collapsed": true
   },
   "outputs": [],
   "source": [
    "btable = np.loadtxt(get_data('dsi4169btable'))\n",
    "#btable = np.loadtxt(get_data('dsi515btable'))\n",
    "\n",
    "gtab_dsi = gradient_table(btable[:, 0], btable[:, 1:],\n",
    "                          big_delta=gtab.big_delta, small_delta=gtab.small_delta)"
   ]
  },
  {
   "cell_type": "markdown",
   "metadata": {},
   "source": [
    "Fit a MAPL model to the data."
   ]
  },
  {
   "cell_type": "code",
   "execution_count": 7,
   "metadata": {
    "collapsed": true
   },
   "outputs": [],
   "source": [
    "map_model_laplacian_aniso = mapmri.MapmriModel(gtab, radial_order=6,\n",
    "                                               laplacian_regularization=True,\n",
    "                                               laplacian_weighting='GCV')\n",
    "\n",
    "mapfit_laplacian_aniso = map_model_laplacian_aniso.fit(data)"
   ]
  },
  {
   "cell_type": "markdown",
   "metadata": {},
   "source": [
    "We want to use an FA image as background, this requires us to fit a DTI model."
   ]
  },
  {
   "cell_type": "code",
   "execution_count": 8,
   "metadata": {
    "collapsed": false
   },
   "outputs": [],
   "source": [
    "tenmodel = dti.TensorModel(gtab)\n",
    "tenfit = tenmodel.fit(data)"
   ]
  },
  {
   "cell_type": "code",
   "execution_count": 9,
   "metadata": {
    "collapsed": true
   },
   "outputs": [],
   "source": [
    "fitted = {'MAPL': mapfit_laplacian_aniso.predict(gtab)[:, :, 0],\n",
    "          'DTI': tenfit.predict(gtab)[:, :, 0]}"
   ]
  },
  {
   "cell_type": "markdown",
   "metadata": {},
   "source": [
    "Fit GP without mean and with DTI and MAPL as mean."
   ]
  },
  {
   "cell_type": "code",
   "execution_count": 10,
   "metadata": {
    "collapsed": false
   },
   "outputs": [
    {
     "name": "stderr",
     "output_type": "stream",
     "text": [
      " c:\\users\\sesjojen\\documents\\github\\gpy\\GPy\\inference\\latent_function_inference\\gaussian_grid_inference.py:68: RuntimeWarning:invalid value encountered in log\n"
     ]
    }
   ],
   "source": [
    "kern = get_default_kernel(n_max=6, spatial_dims=2)\n",
    "gp_model = GaussianProcessModel(gtab, spatial_dims=2, kernel=kern, verbose=False)\n",
    "gp_fit = gp_model.fit(np.squeeze(data), mean=None, voxel_size=voxel_size[0:2], retrain=True)\n",
    "\n",
    "kern = get_default_kernel(n_max=2, spatial_dims=2)\n",
    "gp_dti_model = GaussianProcessModel(gtab, spatial_dims=2, kernel=kern, verbose=False)\n",
    "gp_dti_fit = gp_dti_model.fit(np.squeeze(data), mean=fitted['DTI'], voxel_size=voxel_size[0:2], retrain=True)\n",
    "\n",
    "kern = get_default_kernel(n_max=2, spatial_dims=2)\n",
    "gp_mapl_model = GaussianProcessModel(gtab, spatial_dims=2, kernel=kern, verbose=False)\n",
    "gp_mapl_fit = gp_mapl_model.fit(np.squeeze(data), mean=fitted['MAPL'], voxel_size=voxel_size[0:2], retrain=True)"
   ]
  },
  {
   "cell_type": "markdown",
   "metadata": {},
   "source": [
    "gp_model = GaussianProcessModel(gtab, spatial_dims=2, q_magnitude_transform=np.sqrt, verbose=False)\n",
    "gp_fit = gp_model.fit(np.squeeze(data), mean=None, voxel_size=voxel_size[0:2], retrain=True)\n",
    "gp_dti_fit = gp_model.fit(np.squeeze(data), mean=fitted['DTI'], voxel_size=voxel_size[0:2], retrain=True)\n",
    "gp_mapl_fit = gp_model.fit(np.squeeze(data), mean=fitted['MAPL'], voxel_size=voxel_size[0:2], retrain=True)"
   ]
  },
  {
   "cell_type": "code",
   "execution_count": 11,
   "metadata": {
    "collapsed": true
   },
   "outputs": [],
   "source": [
    "pred = {'MAPL': mapfit_laplacian_aniso.predict(gtab_dsi)[:, :, 0],\n",
    "        'DTI': tenfit.predict(gtab_dsi)[:, :, 0]}"
   ]
  },
  {
   "cell_type": "markdown",
   "metadata": {},
   "source": [
    "### Compute the ODFs"
   ]
  },
  {
   "cell_type": "markdown",
   "metadata": {},
   "source": [
    "Load an odf reconstruction sphere"
   ]
  },
  {
   "cell_type": "code",
   "execution_count": 12,
   "metadata": {
    "collapsed": true
   },
   "outputs": [],
   "source": [
    "sphere = get_sphere('symmetric724').subdivide(1)"
   ]
  },
  {
   "cell_type": "markdown",
   "metadata": {},
   "source": [
    "The radial order $s$ can be increased to sharpen the results, but it might\n",
    "also make the odfs noisier. Note that a \"proper\" ODF corresponds to $s=0$."
   ]
  },
  {
   "cell_type": "code",
   "execution_count": 13,
   "metadata": {
    "collapsed": true
   },
   "outputs": [],
   "source": [
    "odf = {'MAPL': mapfit_laplacian_aniso.odf(sphere, s=0),\n",
    "       'DTI': tenfit.odf(sphere)}"
   ]
  },
  {
   "cell_type": "code",
   "execution_count": 14,
   "metadata": {
    "collapsed": false
   },
   "outputs": [],
   "source": [
    "odf['GP'] = gp_fit.odf(sphere, gtab_dsi=gtab_dsi, mean=None)[:, :, None, :]\n",
    "odf['DTI_GP'] = gp_dti_fit.odf(sphere, gtab_dsi=gtab_dsi, mean=pred['DTI'])[:, :, None, :]\n",
    "odf['MAPL_GP'] = gp_mapl_fit.odf(sphere, gtab_dsi=gtab_dsi, mean=pred['MAPL'])[:, :, None, :]"
   ]
  },
  {
   "cell_type": "markdown",
   "metadata": {},
   "source": [
    "## Display the ODFs"
   ]
  },
  {
   "cell_type": "code",
   "execution_count": 15,
   "metadata": {
    "collapsed": false
   },
   "outputs": [],
   "source": [
    "for name, _odf in odf.items():\n",
    "    ren = window.Renderer()\n",
    "    ren.background((1, 1, 1))\n",
    "\n",
    "    odf_actor = actor.odf_slicer(_odf, sphere=sphere, scale=0.5, colormap='jet')\n",
    "    background_actor = actor.slicer(tenfit.fa, opacity=1)\n",
    "\n",
    "    odf_actor.display(z=0)\n",
    "    odf_actor.RotateZ(90)\n",
    "\n",
    "    background_actor.display(z=0)\n",
    "    background_actor.RotateZ(90)\n",
    "    background_actor.SetPosition(0, 0, -1)\n",
    "\n",
    "    ren.add(background_actor)\n",
    "    ren.add(odf_actor)\n",
    "\n",
    "    window.record(ren, out_path='odfs_{}.png'.format(name), size=(1000, 1000))"
   ]
  },
  {
   "cell_type": "code",
   "execution_count": null,
   "metadata": {
    "collapsed": true
   },
   "outputs": [],
   "source": []
  }
 ],
 "metadata": {
  "anaconda-cloud": {},
  "kernelspec": {
   "display_name": "Python [conda root]",
   "language": "python",
   "name": "conda-root-py"
  },
  "language_info": {
   "codemirror_mode": {
    "name": "ipython",
    "version": 3
   },
   "file_extension": ".py",
   "mimetype": "text/x-python",
   "name": "python",
   "nbconvert_exporter": "python",
   "pygments_lexer": "ipython3",
   "version": "3.5.2"
  }
 },
 "nbformat": 4,
 "nbformat_minor": 1
}
