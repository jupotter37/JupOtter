{
 "cells": [
  {
   "cell_type": "code",
   "execution_count": 1,
   "metadata": {
    "collapsed": true
   },
   "outputs": [],
   "source": [
    "import tensorflow as tf\n",
    "import numpy\n",
    "import math\n",
    "import matplotlib.pyplot as plt\n",
    "import pickle\n",
    "import os\n",
    "from tqdm import tqdm\n",
    "from IPython.display import clear_output\n",
    "\n",
    "%matplotlib inline"
   ]
  },
  {
   "cell_type": "code",
   "execution_count": 2,
   "metadata": {
    "collapsed": true
   },
   "outputs": [],
   "source": [
    "sess = tf.Session()"
   ]
  },
  {
   "cell_type": "code",
   "execution_count": 3,
   "metadata": {
    "collapsed": true
   },
   "outputs": [],
   "source": [
    "k_const = 1.0\n",
    "m_const = 1.0\n",
    "omega_sq_const = k_const / m_const\n",
    "\n",
    "x0_const = 0.0\n",
    "speed0_const = 1.0\n"
   ]
  },
  {
   "cell_type": "code",
   "execution_count": 4,
   "metadata": {
    "collapsed": true
   },
   "outputs": [],
   "source": []
  },
  {
   "cell_type": "code",
   "execution_count": 5,
   "metadata": {
    "collapsed": true
   },
   "outputs": [],
   "source": [
    "hidden_layer_units = 8\n",
    "amount_of_points = 15\n",
    "min_time = 0\n",
    "max_time = 2 * math.pi "
   ]
  },
  {
   "cell_type": "code",
   "execution_count": 6,
   "metadata": {
    "collapsed": true
   },
   "outputs": [],
   "source": [
    "min_element = -1\n",
    "max_element = 1"
   ]
  },
  {
   "cell_type": "code",
   "execution_count": 7,
   "metadata": {
    "collapsed": true
   },
   "outputs": [],
   "source": [
    "alpha = tf.constant(0.007, dtype=tf.double)"
   ]
  },
  {
   "cell_type": "code",
   "execution_count": 8,
   "metadata": {
    "collapsed": true
   },
   "outputs": [],
   "source": [
    "w1_matrix = numpy.random.uniform(min_element, max_element, (hidden_layer_units, 1))\n",
    "offset1_matrix = numpy.random.uniform(min_element, max_element, (hidden_layer_units, 1))\n",
    "w2_matrix = numpy.random.uniform(min_element, max_element, (1, hidden_layer_units))\n"
   ]
  },
  {
   "cell_type": "code",
   "execution_count": 9,
   "metadata": {
    "collapsed": true
   },
   "outputs": [],
   "source": [
    "t_list = numpy.linspace(min_time, max_time, amount_of_points).reshape((1, amount_of_points))\n",
    "x_expected = numpy.sin(omega * t_list)"
   ]
  },
  {
   "cell_type": "code",
   "execution_count": 10,
   "metadata": {
    "collapsed": true
   },
   "outputs": [],
   "source": [
    "t_cv = numpy.linspace(min_time, max_time, 1000).reshape((1, 1000))\n"
   ]
  },
  {
   "cell_type": "code",
   "execution_count": 11,
   "metadata": {
    "collapsed": true
   },
   "outputs": [],
   "source": [
    "def numpy_sigmoid(x):\n",
    "    res = 1 / (1 + numpy.exp(-x))\n",
    "    return res"
   ]
  },
  {
   "cell_type": "code",
   "execution_count": 25,
   "metadata": {},
   "outputs": [
    {
     "data": {
      "text/plain": [
       "<tf.Tensor 'gradients/MatMul_grad/MatMul_1:0' shape=(1, ?) dtype=float64>"
      ]
     },
     "execution_count": 25,
     "metadata": {},
     "output_type": "execute_result"
    }
   ],
   "source": [
    "speed"
   ]
  },
  {
   "cell_type": "code",
   "execution_count": null,
   "metadata": {
    "collapsed": true
   },
   "outputs": [],
   "source": []
  },
  {
   "cell_type": "code",
   "execution_count": 12,
   "metadata": {
    "collapsed": true
   },
   "outputs": [],
   "source": [
    "w1 = tf.Variable(w1_matrix, dtype=tf.double, name='w1')\n",
    "offset1 = tf.Variable(offset1_matrix, dtype=tf.double, name='offset1')\n",
    "w2 = tf.Variable(w2_matrix, dtype=tf.double, name='w2')\n",
    "# -----------------------------------------------------------\n",
    "t = tf.placeholder(tf.double)\n",
    "# -----------------------------------------------------------\n",
    "k = tf.constant(k_const, dtype=tf.double, name='k')\n",
    "m = tf.constant(m_const, dtype=tf.double, name='m')\n",
    "omega_sq = k / m\n",
    "# -----------------------------------------------------------\n",
    "x0 = tf.constant(x0_const, dtype=tf.double, name='x0')\n",
    "speed0 = tf.constant(speed0_const, dtype=tf.double, name='speed0')\n",
    "begin_hamiltonian = (k * (x0 ** 2) / 2) + (m * (speed0 ** 2) / 2)\n",
    "# -----------------------------------------------------------\n",
    "init = tf.global_variables_initializer()\n",
    "sess.run(init)\n"
   ]
  },
  {
   "cell_type": "code",
   "execution_count": 13,
   "metadata": {
    "collapsed": true
   },
   "outputs": [],
   "source": [
    "# forward prop  \n",
    "hidden_layer = tf.sigmoid(tf.matmul(w1, t) + offset1)\n",
    "x = tf.matmul(w2, hidden_layer)\n",
    "# calculate speed and acc\n",
    "speed = tf.gradients(x, t)[0]\n",
    "acc = tf.gradients(speed, t)[0]\n",
    "# calculate cost\n",
    "equation_part = tf.reduce_sum((acc + omega_sq * x) ** 2)\n",
    "begin_part = ((x[0][0] - x0) ** 2) + ((speed[0][0] - speed0) ** 2)\n",
    "current_hamiltonian = (k * (x ** 2) / 2) + (m * (speed ** 2) / 2)\n",
    "hamilton_part = tf.reduce_sum((current_hamiltonian - begin_hamiltonian) ** 2)\n",
    "cost = (1 / amount_of_points) * (equation_part + begin_part + hamilton_part)\n",
    "# calculate_grads\n",
    "grad = tf.gradients(cost, [w1, offset1, w2])\n",
    "# gradient descent\n",
    "w1_ass = w1.assign_sub(alpha * grad[0])\n",
    "offset1_ass = offset1.assign_sub(alpha * grad[1])\n",
    "w2_ass = w2.assign_sub(alpha * grad[2])"
   ]
  },
  {
   "cell_type": "code",
   "execution_count": 22,
   "metadata": {},
   "outputs": [
    {
     "data": {
      "text/plain": [
       "<tf.Tensor 'MatMul_1:0' shape=(1, ?) dtype=float64>"
      ]
     },
     "execution_count": 22,
     "metadata": {},
     "output_type": "execute_result"
    }
   ],
   "source": [
    "x"
   ]
  },
  {
   "cell_type": "code",
   "execution_count": 14,
   "metadata": {
    "scrolled": true
   },
   "outputs": [
    {
     "name": "stderr",
     "output_type": "stream",
     "text": [
      " 97%|█████████▋| 290137/300000 [05:08<00:10, 915.87it/s]"
     ]
    },
    {
     "name": "stdout",
     "output_type": "stream",
     "text": [
      "0.000161313553887\n"
     ]
    },
    {
     "name": "stderr",
     "output_type": "stream",
     "text": [
      "100%|██████████| 300000/300000 [05:18<00:00, 941.63it/s] \n"
     ]
    }
   ],
   "source": [
    "# gradient descent run\n",
    "sess.run(init)\n",
    "J_list = []\n",
    "for i in tqdm(range(300000)):\n",
    "    _, _, _, cur_cost = sess.run([w1_ass, offset1_ass, w2_ass, cost], {t: t_list})\n",
    "    if (i%10000) == 0:\n",
    "        clear_output()\n",
    "        print(cur_cost)\n",
    "    if (cur_cost<1e-6):\n",
    "        break\n",
    "    J_list.append(cur_cost ** (-1))"
   ]
  },
  {
   "cell_type": "code",
   "execution_count": 15,
   "metadata": {},
   "outputs": [
    {
     "name": "stdout",
     "output_type": "stream",
     "text": [
      "6581.67434762\n"
     ]
    },
    {
     "data": {
      "image/png": "[encoded data removed]",
      "text/plain": [
       "<matplotlib.figure.Figure at 0x7f6aacd6e898>"
      ]
     },
     "metadata": {},
     "output_type": "display_data"
    }
   ],
   "source": [
    "plt.title('Cost Function ^ -1')\n",
    "plt.plot(J_list)\n",
    "print(J_list[-1])"
   ]
  },
  {
   "cell_type": "code",
   "execution_count": 16,
   "metadata": {
    "scrolled": true
   },
   "outputs": [
    {
     "data": {
      "text/plain": [
       "[<matplotlib.lines.Line2D at 0x7f6ad4030978>]"
      ]
     },
     "execution_count": 16,
     "metadata": {},
     "output_type": "execute_result"
    },
    {
     "data": {
      "image/png": "[encoded data removed]",
      "text/plain": [
       "<matplotlib.figure.Figure at 0x7f6a98b2cc50>"
      ]
     },
     "metadata": {},
     "output_type": "display_data"
    }
   ],
   "source": [
    "x_cv = sess.run(x, {t: t_cv})\n",
    "plt.title('Expected and approximate functions')\n",
    "plt.grid(True)\n",
    "plt.plot(t_cv[0], x_cv[0])\n",
    "plt.plot(t_list[0],x_expected[0], 'x', color='red')"
   ]
  },
  {
   "cell_type": "code",
   "execution_count": 17,
   "metadata": {
    "collapsed": true
   },
   "outputs": [],
   "source": [
    "w1_matrix = sess.run(w1)\n",
    "offset1_matrix = sess.run(offset1)\n",
    "w2_matrix = sess.run(w2)"
   ]
  },
  {
   "cell_type": "code",
   "execution_count": 18,
   "metadata": {},
   "outputs": [
    {
     "data": {
      "image/png": "[encoded data removed]",
      "text/plain": [
       "<matplotlib.figure.Figure at 0x7f6a98ac6eb8>"
      ]
     },
     "metadata": {},
     "output_type": "display_data"
    }
   ],
   "source": [
    "plt.grid(True)\n",
    "plt.title(\"Spectrum\")\n",
    "for i in range(hidden_layer_units):\n",
    "    cur_sigm = w2_matrix[0][i] * numpy_sigmoid((w1_matrix[i][0] * t_cv) + offset1_matrix[i][0])\n",
    "    plt.plot(t_cv[0], cur_sigm[0])"
   ]
  },
  {
   "cell_type": "code",
   "execution_count": 19,
   "metadata": {
    "collapsed": true
   },
   "outputs": [],
   "source": [
    "#save_params('cos(x)')"
   ]
  }
 ],
 "metadata": {
  "kernelspec": {
   "display_name": "Python 3",
   "language": "python",
   "name": "python3"
  },
  "language_info": {
   "codemirror_mode": {
    "name": "ipython",
    "version": 3
   },
   "file_extension": ".py",
   "mimetype": "text/x-python",
   "name": "python",
   "nbconvert_exporter": "python",
   "pygments_lexer": "ipython3",
   "version": "3.6.3"
  },
  "varInspector": {
   "cols": {
    "lenName": 16,
    "lenType": 16,
    "lenVar": "20"
   },
   "kernels_config": {
    "python": {
     "delete_cmd_postfix": "",
     "delete_cmd_prefix": "del ",
     "library": "var_list.py",
     "varRefreshCmd": "print(var_dic_list())"
    },
    "r": {
     "delete_cmd_postfix": ") ",
     "delete_cmd_prefix": "rm(",
     "library": "var_list.r",
     "varRefreshCmd": "cat(var_dic_list()) "
    }
   },
   "types_to_exclude": [
    "module",
    "function",
    "builtin_function_or_method",
    "instance",
    "_Feature"
   ],
   "window_display": true
  }
 },
 "nbformat": 4,
 "nbformat_minor": 1
}
