{
 "cells": [
  {
   "cell_type": "markdown",
   "metadata": {},
   "source": [
    "The accompanying notebook for the **\"How We Optimize Hyperparmeters At Qucit\"** blog [post](http://www.qucit.com/2016/12/06/how-to-optimize-hyperparameters/). <br>\n",
    "Running the optimization part takes a long time (about a day). "
   ]
  },
  {
   "cell_type": "markdown",
   "metadata": {},
   "source": [
    "# Load libraries and set constants"
   ]
  },
  {
   "cell_type": "markdown",
   "metadata": {},
   "source": [
    "## Load libraries"
   ]
  },
  {
   "cell_type": "code",
   "execution_count": 2,
   "metadata": {
    "ExecuteTime": {
     "end_time": "2016-12-13T11:44:24.158569",
     "start_time": "2016-12-13T11:44:24.147585"
    },
    "collapsed": false
   },
   "outputs": [],
   "source": [
    "# Data analysis imports\n",
    "import pandas as pd\n",
    "import numpy as np\n",
    "\n",
    "# Machine learning imports\n",
    "import xgboost as xgb\n",
    "import sklearn\n",
    "from sklearn.grid_search import GridSearchCV\n",
    "from sklearn.model_selection import train_test_split, cross_val_score\n",
    "from sklearn.metrics import mean_squared_error, make_scorer\n",
    "\n",
    "# Hyperopt imports\n",
    "from hyperopt import fmin, tpe, hp, STATUS_OK, Trials, rand\n",
    "\n",
    "# Plotting imports\n",
    "import matplotlib.pyplot as plt\n",
    "import seaborn as sns\n",
    "% matplotlib inline"
   ]
  },
  {
   "cell_type": "code",
   "execution_count": 3,
   "metadata": {
    "ExecuteTime": {
     "end_time": "2016-12-13T11:44:25.462427",
     "start_time": "2016-12-13T11:44:25.457693"
    },
    "collapsed": true
   },
   "outputs": [],
   "source": [
    "pd.set_option('max_colwidth',100)\n",
    "sns.set(font_scale=1.5)"
   ]
  },
  {
   "cell_type": "markdown",
   "metadata": {
    "ExecuteTime": {
     "end_time": "2016-12-02T16:53:16.564283",
     "start_time": "2016-12-02T16:53:16.559265"
    }
   },
   "source": [
    "## Some constants"
   ]
  },
  {
   "cell_type": "code",
   "execution_count": 4,
   "metadata": {
    "ExecuteTime": {
     "end_time": "2016-12-13T11:44:27.398506",
     "start_time": "2016-12-13T11:44:27.394718"
    },
    "collapsed": false
   },
   "outputs": [],
   "source": [
    "SEED = 314\n",
    "TEST_SIZE = 0.2\n",
    "MAX_EVALS = 10"
   ]
  },
  {
   "cell_type": "markdown",
   "metadata": {
    "ExecuteTime": {
     "end_time": "2016-12-02T16:53:05.854341",
     "start_time": "2016-12-02T16:53:05.836548"
    }
   },
   "source": [
    "## Hyperparameters grids"
   ]
  },
  {
   "cell_type": "code",
   "execution_count": 5,
   "metadata": {
    "ExecuteTime": {
     "end_time": "2016-12-13T11:44:30.154981",
     "start_time": "2016-12-13T11:44:30.146368"
    },
    "collapsed": true
   },
   "outputs": [],
   "source": [
    "gs_hp_grid = {'max_depth':[4, 6, 8, 10],\n",
    "              'n_estimators': [10, 15, 20, 25],\n",
    "              'learning_rate': [0.2, 0.4, 0.6, 0.8], \n",
    "              'gamma': [0.2, 0.4, 0.6, 0.8]\n",
    "}\n",
    "\n",
    "hyperopt_hp_grid = {'n_estimators' : hp.quniform('n_estimators', 10, 1000, 1),\n",
    "             'learning_rate' : hp.loguniform('learning_rate', 0.001, 0.1),\n",
    "             'max_depth' : hp.quniform('max_depth', 3, 15, 1),\n",
    "             'gamma': hp.loguniform('gamma', 0.01, 1)}"
   ]
  },
  {
   "cell_type": "markdown",
   "metadata": {},
   "source": [
    "# Some utiliy functions "
   ]
  },
  {
   "cell_type": "markdown",
   "metadata": {},
   "source": [
    "## Score"
   ]
  },
  {
   "cell_type": "code",
   "execution_count": 6,
   "metadata": {
    "ExecuteTime": {
     "end_time": "2016-12-13T11:44:33.669688",
     "start_time": "2016-12-13T11:44:33.666412"
    },
    "collapsed": true
   },
   "outputs": [],
   "source": [
    "mse_scorer = make_scorer(mean_squared_error)"
   ]
  },
  {
   "cell_type": "markdown",
   "metadata": {},
   "source": [
    "## Data loading"
   ]
  },
  {
   "cell_type": "code",
   "execution_count": 7,
   "metadata": {
    "ExecuteTime": {
     "end_time": "2016-12-13T11:45:08.484125",
     "start_time": "2016-12-13T11:44:53.043551"
    },
    "collapsed": true
   },
   "outputs": [],
   "source": [
    "def load_airlines_delays():\n",
    "    airlines_df = pd.read_csv('../data/DelayedFlights.csv.zip', compression='zip').dropna()\n",
    "    features = airlines_df.drop(['Unnamed: 0', 'ArrDelay', u'CarrierDelay',\n",
    "                                 u'WeatherDelay', u'NASDelay', u'SecurityDelay',\n",
    "                                 u'LateAircraftDelay'], axis=1)\n",
    "    # Don't select the columns having object type\n",
    "    columns = features.columns[features.dtypes != 'object']\n",
    "    targets = airlines_df[['ArrDelay']]\n",
    "    return features.loc[:, columns], targets"
   ]
  },
  {
   "cell_type": "markdown",
   "metadata": {
    "ExecuteTime": {
     "end_time": "2016-12-02T16:54:57.498765",
     "start_time": "2016-12-02T16:54:57.450735"
    }
   },
   "source": [
    "## Grid search "
   ]
  },
  {
   "cell_type": "code",
   "execution_count": 8,
   "metadata": {
    "ExecuteTime": {
     "end_time": "2016-12-13T11:45:14.247864",
     "start_time": "2016-12-13T11:45:14.238845"
    },
    "collapsed": true
   },
   "outputs": [],
   "source": [
    "def compute_rmse(model, features, targets):\n",
    "    prediction = model.predict(features)\n",
    "    rmse = np.sqrt(mean_squared_error(targets, prediction))\n",
    "    return rmse\n",
    "\n",
    "def train_grid_search(cv_parameters, features, targets):\n",
    "    xgb_regressor = xgb.XGBRegressor({'eval_score':'rmse'})\n",
    "    grid_search = GridSearchCV(xgb_regressor, cv_parameters, cv=5, \n",
    "                               verbose=1, \n",
    "                               n_jobs=4, scoring=mse_scorer)\n",
    "    grid_search.fit(features, targets)\n",
    "    return grid_search"
   ]
  },
  {
   "cell_type": "markdown",
   "metadata": {},
   "source": [
    "## Hyperopt"
   ]
  },
  {
   "cell_type": "code",
   "execution_count": 9,
   "metadata": {
    "ExecuteTime": {
     "end_time": "2016-12-02T17:07:27.333072",
     "start_time": "2016-12-02T17:07:27.325128"
    },
    "collapsed": true
   },
   "outputs": [],
   "source": [
    "def transform_params(params):\n",
    "    params[\"gamma\"] = np.log(params[\"gamma\"])\n",
    "    params[\"learning_rate\"] = np.log(params[\"learning_rate\"])\n",
    "    params[\"n_estimators\"] = int(params[\"n_estimators\"])\n",
    "    params[\"max_depth\"] = int(params[\"max_depth\"])\n",
    "    return params"
   ]
  },
  {
   "cell_type": "code",
   "execution_count": 10,
   "metadata": {
    "ExecuteTime": {
     "end_time": "2016-12-02T17:07:28.754553",
     "start_time": "2016-12-02T17:07:28.738122"
    },
    "collapsed": true
   },
   "outputs": [],
   "source": [
    "def loss(params):\n",
    "    params = transform_params(params)\n",
    "    xgb_regressor = xgb.XGBRegressor(silent=False, **params)\n",
    "    cv_mse = cross_val_score(xgb_regressor, train_features, train_targets, \n",
    "                          cv=5, verbose=0, n_jobs=4, \n",
    "                          scoring=mse_scorer)\n",
    "    rmse = np.sqrt(cv_mse.mean())\n",
    "    return {'loss': rmse, \n",
    "            'status': STATUS_OK}\n",
    "def optimize(trials, space):\n",
    "    best = fmin(loss, space, algo=tpe.suggest, \n",
    "                trials=trials, \n",
    "                max_evals=MAX_EVALS)\n",
    "    return best\n",
    "def random_optimize(trials, space):\n",
    "    best = fmin(loss, space, algo=rand.suggest,\n",
    "                trials=trials, \n",
    "                max_evals=MAX_EVALS)\n",
    "    return best"
   ]
  },
  {
   "cell_type": "markdown",
   "metadata": {},
   "source": [
    "## Model results"
   ]
  },
  {
   "cell_type": "code",
   "execution_count": 11,
   "metadata": {
    "ExecuteTime": {
     "end_time": "2016-12-02T17:07:30.637206",
     "start_time": "2016-12-02T17:07:30.624672"
    },
    "collapsed": true
   },
   "outputs": [],
   "source": [
    "def get_model_results(hyperparameters):\n",
    "    xgb_regressor = xgb.XGBRegressor(**hyperparameters)\n",
    "    mse_cv_scores = cross_val_score(xgb_regressor, train_features, train_targets, \n",
    "                                cv=5, verbose=0, \n",
    "                                n_jobs=4, scoring=mse_scorer)\n",
    "    rmse_cv_scores = np.sqrt(mse_cv_scores)\n",
    "    xgb_regressor.fit(train_features, train_targets)\n",
    "    train_rmse = compute_rmse(xgb_regressor, train_features, train_targets)\n",
    "    test_rmse = compute_rmse(xgb_regressor, test_features, test_targets)\n",
    "    return {'optimal_hyperparameters': hyperparameters,\n",
    "            'train_rmse': train_rmse,\n",
    "            'mean_cv_rmse' : np.sqrt(mse_cv_scores.mean()),\n",
    "            'std_cv_rmse':  mse_cv_scores.std() / float(np.sqrt(len(mse_cv_scores))),\n",
    "            'test_rmse': test_rmse}"
   ]
  },
  {
   "cell_type": "markdown",
   "metadata": {},
   "source": [
    "# Load data and train/test split"
   ]
  },
  {
   "cell_type": "code",
   "execution_count": 12,
   "metadata": {
    "ExecuteTime": {
     "end_time": "2016-12-02T17:07:35.148761",
     "start_time": "2016-12-02T17:07:34.674527"
    },
    "collapsed": false
   },
   "outputs": [],
   "source": [
    "features, targets = load_airlines_delays()"
   ]
  },
  {
   "cell_type": "code",
   "execution_count": 13,
   "metadata": {
    "ExecuteTime": {
     "end_time": "2016-12-02T17:07:36.138268",
     "start_time": "2016-12-02T17:07:36.051209"
    },
    "collapsed": true
   },
   "outputs": [],
   "source": [
    "train_features, test_features, train_targets, test_targets = train_test_split(features, targets, \n",
    "                                                                              test_size=TEST_SIZE, \n",
    "                                                                              random_state=SEED)"
   ]
  },
  {
   "cell_type": "markdown",
   "metadata": {},
   "source": [
    "# Optimize hyperparameters"
   ]
  },
  {
   "cell_type": "markdown",
   "metadata": {},
   "source": [
    "## Grid search"
   ]
  },
  {
   "cell_type": "code",
   "execution_count": null,
   "metadata": {
    "collapsed": true
   },
   "outputs": [],
   "source": [
    "grid_search = train_grid_search(gs_hp_grid, train_features, train_targets)"
   ]
  },
  {
   "cell_type": "markdown",
   "metadata": {},
   "source": [
    "## TPE search"
   ]
  },
  {
   "cell_type": "code",
   "execution_count": 159,
   "metadata": {
    "ExecuteTime": {
     "end_time": "2016-12-01T21:02:20.130003",
     "start_time": "2016-12-01T17:51:09.214129"
    },
    "collapsed": false
   },
   "outputs": [],
   "source": [
    "trials = Trials()\n",
    "hyperopt_optimal_hp = optimize(trials, hyperopt_hp_grid)"
   ]
  },
  {
   "cell_type": "code",
   "execution_count": null,
   "metadata": {
    "collapsed": true
   },
   "outputs": [],
   "source": [
    "hyperopt_optimal_hp = transform_params(hyperopt_optimal_hp)"
   ]
  },
  {
   "cell_type": "markdown",
   "metadata": {},
   "source": [
    "## Results"
   ]
  },
  {
   "cell_type": "code",
   "execution_count": 165,
   "metadata": {
    "ExecuteTime": {
     "end_time": "2016-12-02T15:05:10.597206",
     "start_time": "2016-12-02T15:05:10.558706"
    },
    "collapsed": true
   },
   "outputs": [],
   "source": [
    "def get_results_df():\n",
    "    optimization_methods = ['grid_search', 'hyperopt_tpe']\n",
    "    optimal_hyperparameters= [grid_search.best_params_, \n",
    "                              hyperopt_optimal_hp]\n",
    "    results = [get_model_results(optimal_hp) for optimal_hp in optimal_hyperparameters]\n",
    "    return (pd.DataFrame(results)\n",
    "              .assign(opt_method=lambda df: pd.Series(optimization_methods))\n",
    "              .loc[:, \n",
    "                   ['optimal_hyperparameters', 'test_rmse', \n",
    "                    'mean_cv_rmse', 'std_cv_rmse', \n",
    "                    'train_rmse', 'opt_method']])"
   ]
  },
  {
   "cell_type": "code",
   "execution_count": 166,
   "metadata": {
    "ExecuteTime": {
     "end_time": "2016-12-02T15:09:33.121476",
     "start_time": "2016-12-02T15:05:12.463223"
    },
    "collapsed": false
   },
   "outputs": [],
   "source": [
    "results_df = get_results_df()"
   ]
  },
  {
   "cell_type": "markdown",
   "metadata": {
    "ExecuteTime": {
     "end_time": "2016-12-02T16:57:54.111834",
     "start_time": "2016-12-02T16:57:54.095421"
    }
   },
   "source": [
    "## Save results"
   ]
  },
  {
   "cell_type": "code",
   "execution_count": 169,
   "metadata": {
    "ExecuteTime": {
     "end_time": "2016-12-02T15:17:29.588159",
     "start_time": "2016-12-02T15:17:29.575096"
    },
    "collapsed": true
   },
   "outputs": [],
   "source": [
    "results_df.to_csv('../data/airlines_opt_hp_results.csv', index=False)"
   ]
  }
 ],
 "metadata": {
  "anaconda-cloud": {},
  "kernelspec": {
   "display_name": "Python [conda env:hyperparameters-optimization]",
   "language": "python",
   "name": "conda-env-hyperparameters-optimization-py"
  },
  "language_info": {
   "codemirror_mode": {
    "name": "ipython",
    "version": 2
   },
   "file_extension": ".py",
   "mimetype": "text/x-python",
   "name": "python",
   "nbconvert_exporter": "python",
   "pygments_lexer": "ipython2",
   "version": "2.7.12"
  },
  "toc": {
   "toc_cell": false,
   "toc_number_sections": true,
   "toc_threshold": 6,
   "toc_window_display": false
  }
 },
 "nbformat": 4,
 "nbformat_minor": 1
}
