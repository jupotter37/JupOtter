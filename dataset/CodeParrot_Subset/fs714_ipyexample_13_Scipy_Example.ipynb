{
 "cells": [
  {
   "cell_type": "code",
   "execution_count": null,
   "metadata": {
    "collapsed": true
   },
   "outputs": [],
   "source": [
    "# -*- coding: utf-8 -*-\n",
    "import numpy as np\n",
    "from scipy.optimize import leastsq\n",
    "import matplotlib.pyplot as plt\n",
    "\n",
    "def func(x, p):\n",
    "    \"\"\"\n",
    "    Function to generate raw data: A*sin(2*pi*k*x + theta)\n",
    "    \"\"\"\n",
    "    A, k, theta = p\n",
    "    return A*np.sin(2*np.pi*k*x+theta)\n",
    "\n",
    "def residuals(p, y, x):\n",
    "    return y - func(x, p)\n",
    "\n",
    "x = np.linspace(0, -2*np.pi, 100)\n",
    "A, k, theta = 10, 0.34, np.pi/6\n",
    "y0 = func(x, [A, k, theta])\n",
    "y1 = y0 + 2 * np.random.randn(len(x))\n",
    "\n",
    "p0 = [7, 0.2, 0]\n",
    "\n",
    "# 调用leastsq进行数据拟合\n",
    "# residuals为计算误差的函数\n",
    "# p0为拟合参数的初始值\n",
    "# args为需要拟合的实验数据\n",
    "plsq = leastsq(residuals, p0, args=(y1, x))\n",
    "\n",
    "print(\"Real Parameters:\", [A, k, theta])\n",
    "print(\"Regression Parameters\", plsq[0]) # 实验数据拟合后的参数\n",
    "\n",
    "plt.plot(x, y0, label=\"Real Data\")\n",
    "plt.plot(x, y1, label=\"Real Data with Noise\")\n",
    "plt.plot(x, func(x, plsq[0]), label=\"Regression Data\")\n",
    "plt.legend()\n",
    "plt.show()"
   ]
  },
  {
   "cell_type": "code",
   "execution_count": null,
   "metadata": {
    "collapsed": true
   },
   "outputs": [],
   "source": [
    "import numpy as np\n",
    "from scipy import stats\n",
    "import matplotlib.pyplot as plt\n",
    "\n",
    "mu = 0\n",
    "sigma = 1\n",
    "x = np.arange(-5, 5, 0.1)\n",
    "y = stats.norm.pdf(x, mu, sigma)\n",
    "\n",
    "plt.figure()\n",
    "plt.title('Probability Density')\n",
    "plt.plot(x, y, label='mu={}, sigma={}'.format(mu, sigma))\n",
    "plt.legend()\n",
    "plt.show()"
   ]
  },
  {
   "cell_type": "code",
   "execution_count": null,
   "metadata": {
    "collapsed": true
   },
   "outputs": [],
   "source": [
    "import numpy as np\n",
    "from scipy import stats\n",
    "import matplotlib.pyplot as plt\n",
    "\n",
    "mu = 0\n",
    "sigma = 1\n",
    "x = np.arange(-5, 5, 0.1)\n",
    "y = stats.norm.cdf(x, mu, sigma)\n",
    "\n",
    "plt.figure()\n",
    "plt.title('Cumulative Distribution')\n",
    "plt.plot(x, y, label='mu={}, sigma={}'.format(mu, sigma))\n",
    "plt.legend()\n",
    "plt.show()"
   ]
  },
  {
   "cell_type": "code",
   "execution_count": null,
   "metadata": {
    "collapsed": true
   },
   "outputs": [],
   "source": [
    "import numpy as np\n",
    "from scipy import stats\n",
    "import matplotlib.pyplot as plt\n",
    "\n",
    "\n",
    "x = np.arange(-5, 5, 0.1)\n",
    "plt.figure()\n",
    "for sigma in [0.5, 1, 1.5]:\n",
    "    plt.title('Probability Density')\n",
    "    plt.plot(x, stats.norm.pdf(x, 0, sigma), label='mu={}, sigma={}'.format(0, sigma))\n",
    "    plt.legend()\n",
    "plt.show()"
   ]
  },
  {
   "cell_type": "code",
   "execution_count": null,
   "metadata": {
    "collapsed": true
   },
   "outputs": [],
   "source": [
    "import numpy as np\n",
    "from scipy import stats\n",
    "import matplotlib.pyplot as plt\n",
    "\n",
    "\n",
    "x = np.arange(-5, 5, 0.1)\n",
    "plt.figure()\n",
    "for sigma in [0.5, 1, 1.5]:\n",
    "    plt.title('Cumulative Distribution')\n",
    "    plt.plot(x, stats.norm.cdf(x, 0, sigma), label='mu={}, sigma={}'.format(0, sigma))\n",
    "    plt.legend()\n",
    "plt.show()"
   ]
  },
  {
   "cell_type": "code",
   "execution_count": null,
   "metadata": {
    "collapsed": true
   },
   "outputs": [],
   "source": [
    "from scipy import stats\n",
    "import matplotlib.pyplot as plt\n",
    "\n",
    "\n",
    "fig = plt.figure()\n",
    "ax1 = fig.add_subplot(211)\n",
    "x = stats.loggamma.rvs(5, size=500) + 5\n",
    "prob = stats.probplot(x, dist=stats.norm, plot=ax1)\n",
    "ax1.set_xlabel('')\n",
    "ax1.set_title('Probplot against normal distribution')\n",
    "\n",
    "print('Use boxcox to transform the data to make it closest to normal')\n",
    "ax2 = fig.add_subplot(212)\n",
    "xt, _ = stats.boxcox(x)\n",
    "prob = stats.probplot(xt, dist=stats.norm, plot=ax2)\n",
    "ax2.set_title('Probplot after Box-Cox transformation')\n",
    "plt.show()"
   ]
  },
  {
   "cell_type": "code",
   "execution_count": null,
   "metadata": {
    "collapsed": true
   },
   "outputs": [],
   "source": [
    "from scipy import stats\n",
    "import numpy as np\n",
    "import seaborn as sns\n",
    "import matplotlib.pyplot as plt\n",
    "\n",
    "\n",
    "plt.figure(figsize=(16, 8))\n",
    "\n",
    "A1 = np.random.normal(loc=0.0, scale=1.0, size=5000)\n",
    "A2 = np.random.normal(loc=0.0, scale=5.0, size=5000)\n",
    "plt.subplot(221)\n",
    "sns.distplot(A1, kde=True, rug=False, norm_hist=True, label='A1')\n",
    "sns.distplot(A2, kde=True, rug=False, norm_hist=True, label='A2')\n",
    "plt.legend()\n",
    "\n",
    "B1 = np.random.normal(loc=10.0, scale=1.0, size=5000)\n",
    "B2 = np.random.normal(loc=10.0, scale=5.0, size=5000)\n",
    "plt.subplot(222)\n",
    "sns.distplot(B1, kde=True, rug=False, norm_hist=True, label='B1')\n",
    "sns.distplot(B2, kde=True, rug=False, norm_hist=True, label='B2')\n",
    "plt.legend()\n",
    "\n",
    "C = np.random.exponential(2, 5000)\n",
    "plt.subplot(223)\n",
    "sns.distplot(C, kde=True, rug=False, norm_hist=True, label='C')\n",
    "plt.legend()\n",
    "\n",
    "D, _ = stats.boxcox(C)\n",
    "plt.subplot(224)\n",
    "sns.distplot(D, kde=True, rug=False, norm_hist=True, label='D')\n",
    "plt.legend()\n",
    "\n",
    "plt.show()\n"
   ]
  },
  {
   "cell_type": "code",
   "execution_count": null,
   "metadata": {},
   "outputs": [],
   "source": [
    "from scipy import stats\n",
    "import numpy as np\n",
    "\n",
    "\n",
    "def normality_test(arr):\n",
    "    print('--------')\n",
    "    print('Skewness of dataset   {}'.format(stats.skew(arr)))\n",
    "    print('Skewness test p-value {}'.format(stats.skewtest(arr)[1]))\n",
    "    print('Kurtosis of dataset   {}'.format(stats.kurtosis(arr)))\n",
    "    print('Kurtosis test p-value {}'.format(stats.kurtosistest(arr)[1]))\n",
    "    print('Normal test p-value   {}'.format(stats.normaltest(arr)[1]))\n",
    "\n",
    "A1 = np.random.normal(loc=0.0, scale=1.0, size=50000)\n",
    "A2 = np.random.normal(loc=0.0, scale=5.0, size=50000)\n",
    "B1 = np.random.normal(loc=10.0, scale=1.0, size=50000)\n",
    "B2 = np.random.normal(loc=10.0, scale=5.0, size=50000)\n",
    "C = np.random.exponential(2, 50000)\n",
    "D, _ = stats.boxcox(C)\n",
    "\n",
    "\n",
    "normality_test(A1)\n",
    "normality_test(A2)\n",
    "normality_test(B1)\n",
    "normality_test(B2)\n",
    "normality_test(C)\n",
    "normality_test(D)"
   ]
  },
  {
   "cell_type": "code",
   "execution_count": null,
   "metadata": {},
   "outputs": [],
   "source": [
    "from sklearn import preprocessing\n",
    "from scipy import stats\n",
    "import numpy as np\n",
    "import pandas as pd\n",
    "\n",
    "\n",
    "def normality_test(arr):\n",
    "    print('--------')\n",
    "    print('Skewness of dataset   {}'.format(stats.skew(arr)))\n",
    "    print('Skewness test p-value {}'.format(stats.skewtest(arr)[1]))\n",
    "    print('Kurtosis of dataset   {}'.format(stats.kurtosis(arr)))\n",
    "    print('Kurtosis test p-value {}'.format(stats.kurtosistest(arr)[1]))\n",
    "    print('Normal test p-value   {}'.format(stats.normaltest(arr)[1]))\n",
    "\n",
    "A1 = np.random.normal(loc=10.0, scale=5.0, size=5000)\n",
    "A2 = preprocessing.scale(A1)\n",
    "B1 = np.random.exponential(2, 5000)\n",
    "B2 = preprocessing.scale(B1)\n",
    "C1, _ = stats.boxcox(B1)\n",
    "C2 = preprocessing.scale(C1)\n",
    "\n",
    "normality_test(A1)\n",
    "normality_test(A2)\n",
    "normality_test(B1)\n",
    "normality_test(B2)\n",
    "normality_test(C1)\n",
    "normality_test(C2)\n",
    "\n",
    "pd.DataFrame({'A1': A1, 'A2': A2, 'B1': B1, 'B2': B2, 'C1': C1, 'C2': C2}).describe()"
   ]
  }
 ],
 "metadata": {
  "kernelspec": {
   "display_name": "Python 3",
   "language": "python",
   "name": "python3"
  },
  "language_info": {
   "codemirror_mode": {
    "name": "ipython",
    "version": 3
   },
   "file_extension": ".py",
   "mimetype": "text/x-python",
   "name": "python",
   "nbconvert_exporter": "python",
   "pygments_lexer": "ipython3",
   "version": "3.6.0"
  }
 },
 "nbformat": 4,
 "nbformat_minor": 2
}
