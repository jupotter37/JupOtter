{
 "cells": [
  {
   "cell_type": "markdown",
   "metadata": {},
   "source": [
    "# Self-Driving Car Engineer Nanodegree\n",
    "\n",
    "\n",
    "## Project 1. **Finding Lane Lines on the Road** \n",
    "***\n",
    "In this project, I used the skills that I learned in the second lecture to identify lane lines on the road.\n",
    "\n",
    "I developed a pipeline on a series of individual images, and later applied the result to tewo video stream (really just a series of images).\n",
    "\n",
    "Then I complete the optional challenge by implementing my version of daw_lines() function."
   ]
  },
  {
   "cell_type": "markdown",
   "metadata": {},
   "source": [
    "## Import Packages"
   ]
  },
  {
   "cell_type": "code",
   "execution_count": 1,
   "metadata": {
    "collapsed": true
   },
   "outputs": [],
   "source": [
    "#importing some useful packages\n",
    "import matplotlib.pyplot as plt\n",
    "import matplotlib.image as mpimg\n",
    "import numpy as np\n",
    "import cv2\n",
    "import math\n",
    "%matplotlib inline"
   ]
  },
  {
   "cell_type": "markdown",
   "metadata": {},
   "source": [
    "## Global Variables"
   ]
  },
  {
   "cell_type": "code",
   "execution_count": 2,
   "metadata": {},
   "outputs": [],
   "source": [
    "# Global Variables\n",
    "# Region-of-interest ofsets\n",
    "top_x_offset = 0.45\n",
    "top_y_offset = 0.60\n",
    "bottom_x_offset = 0.07\n",
    "\n",
    "# Stores the left and right lines from an image.\n",
    "# Notice, need to clear before using it on new set of images (video).\n",
    "right_lines = []\n",
    "left_lines = []\n"
   ]
  },
  {
   "cell_type": "markdown",
   "metadata": {},
   "source": [
    "## Helper Functions"
   ]
  },
  {
   "cell_type": "code",
   "execution_count": 3,
   "metadata": {},
   "outputs": [],
   "source": [
    "import math\n",
    "\n",
    "# Global Variables\n",
    "# Region-of-interest ofsets\n",
    "top_x_offset = 0.45\n",
    "top_y_offset = 0.60\n",
    "bottom_x_offset = 0.07\n",
    "\n",
    "# Stores the left and right lines from an image.\n",
    "# Notice, need to clear before using it on new set of images (video).\n",
    "right_lines = []\n",
    "left_lines = []\n",
    "\n",
    "def grayscale(img):\n",
    "    \"\"\"Applies the Grayscale transform\n",
    "    This will return an image with only one color channel\n",
    "    but NOTE: to see the returned image as grayscale\n",
    "    (assuming your grayscaled image is called 'gray')\n",
    "    you should call plt.imshow(gray, cmap='gray')\"\"\"\n",
    "    return cv2.cvtColor(img, cv2.COLOR_RGB2GRAY)\n",
    "    # Or use BGR2GRAY if you read an image with cv2.imread()\n",
    "    # return cv2.cvtColor(img, cv2.COLOR_BGR2GRAY)\n",
    "    \n",
    "def canny(img, low_threshold, high_threshold):\n",
    "    \"\"\"Applies the Canny transform\"\"\"\n",
    "    return cv2.Canny(img, low_threshold, high_threshold)\n",
    "\n",
    "def gaussian_blur(img, kernel_size):\n",
    "    \"\"\"Applies a Gaussian Noise kernel\"\"\"\n",
    "    return cv2.GaussianBlur(img, (kernel_size, kernel_size), 0)\n",
    "\n",
    "def region_of_interest(img, vertices):\n",
    "    \"\"\"\n",
    "    Applies an image mask.\n",
    "    \n",
    "    Only keeps the region of the image defined by the polygon\n",
    "    formed from `vertices`. The rest of the image is set to black.\n",
    "    \"\"\"\n",
    "    #defining a blank mask to start with\n",
    "    mask = np.zeros_like(img)   \n",
    "    \n",
    "    #defining a 3 channel or 1 channel color to fill the mask with depending on the input image\n",
    "    if len(img.shape) > 2:\n",
    "        channel_count = img.shape[2]  # i.e. 3 or 4 depending on your image\n",
    "        ignore_mask_color = (255,) * channel_count\n",
    "    else:\n",
    "        ignore_mask_color = 255\n",
    "        \n",
    "    #filling pixels inside the polygon defined by \"vertices\" with the fill color    \n",
    "    cv2.fillPoly(mask, vertices, ignore_mask_color)\n",
    "    \n",
    "    #returning the image only where mask pixels are nonzero\n",
    "    masked_image = cv2.bitwise_and(img, mask)\n",
    "    return masked_image\n",
    "\n",
    "\n",
    "def draw_lines(img, lines, color=[255, 0, 0], thickness=2):\n",
    "    for line in lines:\n",
    "        for x1,y1,x2,y2 in line:\n",
    "            cv2.line(img, (x1, y1), (x2, y2), color, thickness)\n",
    "\n",
    "def hough_lines(img, rho, theta, threshold, min_line_len, max_line_gap):\n",
    "    \"\"\"\n",
    "    `img` should be the output of a Canny transform.\n",
    "        \n",
    "    Returns an image with hough lines drawn.\n",
    "    \"\"\"\n",
    "    lines = cv2.HoughLinesP(img, rho, theta, threshold, np.array([]), minLineLength=min_line_len, maxLineGap=max_line_gap)\n",
    "    line_img = np.zeros((img.shape[0], img.shape[1], 3), dtype=np.uint8)\n",
    "    draw_lines(line_img, lines)\n",
    "    # draw_lines2(line_img, lines)\n",
    "    return line_img\n",
    "\n",
    "# Python 3 has support for cool math symbols.\n",
    "\n",
    "def weighted_img(img, initial_img, α=0.8, β=1., λ=0.):\n",
    "    \"\"\"\n",
    "    `img` is the output of the hough_lines(), An image with lines drawn on it.\n",
    "    Should be a blank image (all black) with lines drawn on it.\n",
    "    \n",
    "    `initial_img` should be the image before any processing.\n",
    "    \n",
    "    The result image is computed as follows:\n",
    "    \n",
    "    initial_img * α + img * β + λ\n",
    "    NOTE: initial_img and img must be the same shape!\n",
    "    \"\"\"\n",
    "    return cv2.addWeighted(initial_img, α, img, β, λ)\n",
    "\n",
    "def display_image(img, title):\n",
    "    plt.imshow(img, cmap='gray')\n",
    "    plt.suptitle(title)\n",
    "    plt.show()\n",
    "    \n",
    "def draw_lines2(img, lines, color=[255, 0, 0], thickness=2):\n",
    "    \"\"\"\n",
    "    This is my implementation of draw_lines() function \n",
    "    \"\"\"\n",
    "    threshold =  0.5\n",
    "    for line in lines:\n",
    "        for x1,y1,x2,y2 in line:\n",
    "            # Advoid divided by 0 exception\n",
    "            if x1 == x2:\n",
    "                continue\n",
    "                \n",
    "            line_slope = ((y2-y1)/(x2-x1))\n",
    "            \n",
    "            # only accept slopes >= threshold\n",
    "            if abs(line_slope) < threshold:\n",
    "                continue\n",
    "            \n",
    "            if (line_slope >= threshold ): # Then its Right side\n",
    "                right_lines.append(line[0])\n",
    "            elif (line_slope < -threshold ): # Then its Left side\n",
    "                left_lines.append(line[0])\n",
    "            \n",
    "            # Calculate Extrapolation based least-squares curve-fitting calculations of all the previous points\n",
    "            # Good link:\n",
    "            # https://ece.uwaterloo.ca/~dwharder/NumericalAnalysis/06LeastSquares/extrapolation/complete.html\n",
    "            right_lines_x = [x1 for x1, y1, x2, y2 in right_lines] + [x2 for x1, y1, x2, y2 in right_lines]\n",
    "            right_lines_y = [y1 for x1, y1, x2, y2 in right_lines] + [y2 for x1, y1, x2, y2 in right_lines]\n",
    "\n",
    "             # Calculate the slope (m) and the intercept (b), They are kept the same\n",
    "            # y = m*x + b \n",
    "            right_m = 1\n",
    "            right_b = 1\n",
    "            if right_lines_x:\n",
    "                right_m, right_b = np.polyfit(right_lines_x, right_lines_y, 1)  # y = m*x + b\n",
    "\n",
    "            # collect left lines x and y sets for least-squares curve-fitting calculating\n",
    "            left_lines_x = [x1 for x1, y1, x2, y2 in left_lines] + [x2 for x1, y1, x2, y2 in left_lines]\n",
    "            left_lines_y = [y1 for x1, y1, x2, y2 in left_lines] + [y2 for x1, y1, x2, y2 in left_lines]\n",
    "\n",
    "            # Calculate the slope (m) and the intercept (b), They are kept the same\n",
    "            # y = m*x + b \n",
    "            left_m = 1 \n",
    "            left_b = 1\n",
    "            if left_lines_x:\n",
    "                left_m, left_b = np.polyfit(left_lines_x, left_lines_y, 1) \n",
    "            \n",
    "            # Calculate the y values\n",
    "            y_size = img.shape[0]\n",
    "            y1 = y_size\n",
    "            y2 = int(y_size*top_y_offset)\n",
    "\n",
    "            # Calculate the 4 points x values\n",
    "            right_x1 = int((y1-right_b)/right_m)\n",
    "            right_x2 = int((y2-right_b)/right_m)\n",
    "\n",
    "            left_x1 = int((y1-left_b)/left_m)\n",
    "            left_x2 = int((y2-left_b)/left_m)\n",
    "\n",
    "            # Graph  the lines\n",
    "            if right_lines_x:\n",
    "                cv2.line(img, (right_x1, y1), (right_x2, y2), [255,0,0], 5)\n",
    "            if left_lines_x:\n",
    "                cv2.line(img, (left_x1, y1), (left_x2, y2), [255,0,0], 5)"
   ]
  },
  {
   "cell_type": "markdown",
   "metadata": {},
   "source": [
    "## Test Images\n",
    "\n",
    "Build your pipeline to work on the images in the directory \"test_images\"  \n",
    "**You should make sure your pipeline works well on these images before you try the videos.**\n",
    "\n",
    "Build the pipeline and run your solution on all test_images. Make copies into the `test_images_output` directory, and you can use the images in your writeup report.\n",
    "\n",
    "Try tuning the various parameters, especially the low and high Canny thresholds as well as the Hough lines parameters."
   ]
  },
  {
   "cell_type": "code",
   "execution_count": 4,
   "metadata": {},
   "outputs": [
    {
     "data": {
      "text/plain": [
       "['solidWhiteCurve.jpg',\n",
       " 'solidWhiteRight.jpg',\n",
       " 'solidYellowCurve.jpg',\n",
       " 'solidYellowCurve2.jpg',\n",
       " 'solidYellowLeft.jpg',\n",
       " 'whiteCarLaneSwitch.jpg']"
      ]
     },
     "execution_count": 4,
     "metadata": {},
     "output_type": "execute_result"
    }
   ],
   "source": [
    "import os\n",
    "os.listdir(\"test_images/\")"
   ]
  },
  {
   "cell_type": "code",
   "execution_count": 5,
   "metadata": {
    "collapsed": true
   },
   "outputs": [],
   "source": [
    "def process_image(image, display_images=False, export_images=False):\n",
    "        \n",
    "    # Step 1. Convert the image to grayscale.\n",
    "    gray_image = grayscale(image)\n",
    "    \n",
    "    # Step 2. Blur using Gaussian smoothing / blurring\n",
    "    # kernel_size = 5\n",
    "    blurred_image = gaussian_blur(gray_image, 5)\n",
    "    \n",
    "    # Step 3. Use Canny Edge Detection to get a image of edges\n",
    "    # low_threshold = 50\n",
    "    # high_threshold = 150)\n",
    "    edged_image = canny(blurred_image, 50, 150)\n",
    "    \n",
    "    \n",
    "    # Step 4. Mask with a trapozoid the area of interest\n",
    "    y_size = image.shape[0]\n",
    "    x_size = image.shape[1]\n",
    "    \n",
    "    tx = int(x_size * top_x_offset)\n",
    "    bx = int(x_size * bottom_x_offset)\n",
    "    ty = int(y_size * top_y_offset)\n",
    "    \n",
    "    vertices = np.array( [[\n",
    "                (bx, y_size),# Bottom Left\n",
    "                (tx, ty),   # Top Left\n",
    "                (x_size - tx, ty),   # Top Right\n",
    "                (x_size - bx, y_size)    # Bottom Right\n",
    "            ]], dtype=np.int32 )\n",
    "\n",
    "    roi_img = region_of_interest(edged_image, vertices)\n",
    "\n",
    "    # Step 5. Run Hough Transformation on masked edge detected image\n",
    "    houghed_image = hough_lines(roi_img, 1, np.pi/180, 40, 30, 200)\n",
    "\n",
    "    # Step 6. Draw the lines on the original image\n",
    "    final_image = weighted_img(houghed_image, image)\n",
    "    \n",
    "    if display_images:\n",
    "        display_image(image, \"Original Image\")\n",
    "        display_image(gray_image, \"Grayscale Image\")\n",
    "        display_image(blurred_image, \"Gaussian Blured Image\")\n",
    "        display_image(edged_image, \"Canny Edge Detectioned Image\")\n",
    "        display_image(roi_img, \"Region of Interest Mapped Image\")\n",
    "        display_image(houghed_image, \"Hough Transformed Image\")\n",
    "        display_image(final_image, \"Final image\")\n",
    "    \n",
    "    if export_images:\n",
    "        mpimg.imsave(\"display_images_output\" + \"/\" + \"original_image.jpg\", image, cmap='gray')\n",
    "        mpimg.imsave(\"display_images_output\" + \"/\" + \"gray_image.jpg\", gray_image, cmap='gray')\n",
    "        mpimg.imsave(\"display_images_output\" + \"/\" + \"blurred_image.jpg\", blurred_image, cmap='gray')\n",
    "        mpimg.imsave(\"display_images_output\" + \"/\" + \"edged_image.jpg\", edged_image, cmap='gray')\n",
    "        mpimg.imsave(\"display_images_output\" + \"/\" + \"roi_img.jpg\", roi_img, cmap='gray')\n",
    "        mpimg.imsave(\"display_images_output\" + \"/\" + \"houghed_image.jpg\", houghed_image, cmap='gray')\n",
    "        mpimg.imsave(\"display_images_output\" + \"/\" + \"final_image.jpg\", final_image, cmap='gray')\n",
    "\n",
    "\n",
    "    return final_image"
   ]
  },
  {
   "cell_type": "code",
   "execution_count": 6,
   "metadata": {},
   "outputs": [
    {
     "ename": "ValueError",
     "evalue": "The truth value of an array with more than one element is ambiguous. Use a.any() or a.all()",
     "output_type": "error",
     "traceback": [
      "\u001b[1;31m---------------------------------------------------------------------------\u001b[0m",
      "\u001b[1;31mValueError\u001b[0m                                Traceback (most recent call last)",
      "\u001b[1;32m<ipython-input-6-a4777e5b3886>\u001b[0m in \u001b[0;36m<module>\u001b[1;34m()\u001b[0m\n\u001b[1;32m----> 1\u001b[1;33m \u001b[0mfinal_image\u001b[0m \u001b[1;33m=\u001b[0m \u001b[0mprocess_image\u001b[0m\u001b[1;33m(\u001b[0m\u001b[0mmpimg\u001b[0m\u001b[1;33m.\u001b[0m\u001b[0mimread\u001b[0m\u001b[1;33m(\u001b[0m\u001b[1;34m'test_images/solidWhiteRight.jpg'\u001b[0m\u001b[1;33m)\u001b[0m\u001b[1;33m,\u001b[0m \u001b[0mdisplay_images\u001b[0m\u001b[1;33m=\u001b[0m\u001b[1;32mTrue\u001b[0m\u001b[1;33m,\u001b[0m \u001b[0mexport_images\u001b[0m\u001b[1;33m=\u001b[0m\u001b[1;32mTrue\u001b[0m\u001b[1;33m)\u001b[0m\u001b[1;33m\u001b[0m\u001b[0m\n\u001b[0m",
      "\u001b[1;32m<ipython-input-5-4e8c92db3b78>\u001b[0m in \u001b[0;36mprocess_image\u001b[1;34m(image, display_images, export_images)\u001b[0m\n\u001b[0;32m     32\u001b[0m \u001b[1;33m\u001b[0m\u001b[0m\n\u001b[0;32m     33\u001b[0m     \u001b[1;31m# Step 5. Run Hough Transformation on masked edge detected image\u001b[0m\u001b[1;33m\u001b[0m\u001b[1;33m\u001b[0m\u001b[0m\n\u001b[1;32m---> 34\u001b[1;33m     \u001b[0mhoughed_image\u001b[0m \u001b[1;33m=\u001b[0m \u001b[0mhough_lines\u001b[0m\u001b[1;33m(\u001b[0m\u001b[0mroi_img\u001b[0m\u001b[1;33m,\u001b[0m \u001b[1;36m1\u001b[0m\u001b[1;33m,\u001b[0m \u001b[0mnp\u001b[0m\u001b[1;33m.\u001b[0m\u001b[0mpi\u001b[0m\u001b[1;33m/\u001b[0m\u001b[1;36m180\u001b[0m\u001b[1;33m,\u001b[0m \u001b[1;36m40\u001b[0m\u001b[1;33m,\u001b[0m \u001b[1;36m30\u001b[0m\u001b[1;33m,\u001b[0m \u001b[1;36m200\u001b[0m\u001b[1;33m)\u001b[0m\u001b[1;33m\u001b[0m\u001b[0m\n\u001b[0m\u001b[0;32m     35\u001b[0m \u001b[1;33m\u001b[0m\u001b[0m\n\u001b[0;32m     36\u001b[0m     \u001b[1;31m# Step 6. Draw the lines on the original image\u001b[0m\u001b[1;33m\u001b[0m\u001b[1;33m\u001b[0m\u001b[0m\n",
      "\u001b[1;32m<ipython-input-3-f6cfacba0472>\u001b[0m in \u001b[0;36mhough_lines\u001b[1;34m(img, rho, theta, threshold, min_line_len, max_line_gap)\u001b[0m\n\u001b[0;32m     69\u001b[0m     \u001b[0mline_img\u001b[0m \u001b[1;33m=\u001b[0m \u001b[0mnp\u001b[0m\u001b[1;33m.\u001b[0m\u001b[0mzeros\u001b[0m\u001b[1;33m(\u001b[0m\u001b[1;33m(\u001b[0m\u001b[0mimg\u001b[0m\u001b[1;33m.\u001b[0m\u001b[0mshape\u001b[0m\u001b[1;33m[\u001b[0m\u001b[1;36m0\u001b[0m\u001b[1;33m]\u001b[0m\u001b[1;33m,\u001b[0m \u001b[0mimg\u001b[0m\u001b[1;33m.\u001b[0m\u001b[0mshape\u001b[0m\u001b[1;33m[\u001b[0m\u001b[1;36m1\u001b[0m\u001b[1;33m]\u001b[0m\u001b[1;33m,\u001b[0m \u001b[1;36m3\u001b[0m\u001b[1;33m)\u001b[0m\u001b[1;33m,\u001b[0m \u001b[0mdtype\u001b[0m\u001b[1;33m=\u001b[0m\u001b[0mnp\u001b[0m\u001b[1;33m.\u001b[0m\u001b[0muint8\u001b[0m\u001b[1;33m)\u001b[0m\u001b[1;33m\u001b[0m\u001b[0m\n\u001b[0;32m     70\u001b[0m     \u001b[1;31m# draw_lines(line_img, lines)\u001b[0m\u001b[1;33m\u001b[0m\u001b[1;33m\u001b[0m\u001b[0m\n\u001b[1;32m---> 71\u001b[1;33m     \u001b[0mdraw_lines2\u001b[0m\u001b[1;33m(\u001b[0m\u001b[0mline_img\u001b[0m\u001b[1;33m,\u001b[0m \u001b[0mlines\u001b[0m\u001b[1;33m)\u001b[0m\u001b[1;33m\u001b[0m\u001b[0m\n\u001b[0m\u001b[0;32m     72\u001b[0m     \u001b[1;32mreturn\u001b[0m \u001b[0mline_img\u001b[0m\u001b[1;33m\u001b[0m\u001b[0m\n\u001b[0;32m     73\u001b[0m \u001b[1;33m\u001b[0m\u001b[0m\n",
      "\u001b[1;32m<ipython-input-3-f6cfacba0472>\u001b[0m in \u001b[0;36mdraw_lines2\u001b[1;34m(img, lines, color, thickness)\u001b[0m\n\u001b[0;32m    139\u001b[0m             \u001b[1;31m# on least-squares curve-fitting calculations\u001b[0m\u001b[1;33m\u001b[0m\u001b[1;33m\u001b[0m\u001b[0m\n\u001b[0;32m    140\u001b[0m             \u001b[1;31m# https://ece.uwaterloo.ca/~dwharder/NumericalAnalysis/06LeastSquares/extrapolation/complete.html\u001b[0m\u001b[1;33m\u001b[0m\u001b[1;33m\u001b[0m\u001b[0m\n\u001b[1;32m--> 141\u001b[1;33m             \u001b[0mright_lines_x\u001b[0m \u001b[1;33m=\u001b[0m \u001b[1;33m[\u001b[0m\u001b[0mx1\u001b[0m \u001b[1;32min\u001b[0m \u001b[0mright_lines\u001b[0m\u001b[1;33m]\u001b[0m \u001b[1;33m+\u001b[0m \u001b[1;33m[\u001b[0m\u001b[0mx2\u001b[0m \u001b[1;32min\u001b[0m \u001b[0mright_lines\u001b[0m\u001b[1;33m]\u001b[0m\u001b[1;33m\u001b[0m\u001b[0m\n\u001b[0m\u001b[0;32m    142\u001b[0m             \u001b[0mright_lines_y\u001b[0m \u001b[1;33m=\u001b[0m \u001b[1;33m[\u001b[0m\u001b[0my1\u001b[0m \u001b[1;32min\u001b[0m \u001b[0mright_lines\u001b[0m\u001b[1;33m]\u001b[0m \u001b[1;33m+\u001b[0m \u001b[1;33m[\u001b[0m\u001b[0my2\u001b[0m \u001b[1;32min\u001b[0m \u001b[0mright_lines\u001b[0m\u001b[1;33m]\u001b[0m\u001b[1;33m\u001b[0m\u001b[0m\n\u001b[0;32m    143\u001b[0m \u001b[1;33m\u001b[0m\u001b[0m\n",
      "\u001b[1;31mValueError\u001b[0m: The truth value of an array with more than one element is ambiguous. Use a.any() or a.all()"
     ]
    }
   ],
   "source": [
    "final_image = process_image(mpimg.imread('test_images/solidWhiteRight.jpg'), display_images=True, export_images=True)"
   ]
  },
  {
   "cell_type": "code",
   "execution_count": null,
   "metadata": {
    "collapsed": true
   },
   "outputs": [],
   "source": [
    "in_directory = \"test_images\"\n",
    "# Create a corresponding output directory\n",
    "out_directory = \"test_images_out\"\n",
    "if not os.path.exists(out_directory):\n",
    "    os.makedirs(out_directory)\n",
    "\n",
    "# Get all images in input directory and store their names\n",
    "imageNames = os.listdir(in_directory + \"/\")\n",
    "for imageName in imageNames:\n",
    "    image = mpimg.imread(in_directory + \"/\" + imageName)\n",
    "    # Apply my Lane Finding Image Processing Algorithm on each image\n",
    "    resultImage = process_image(image)\n",
    "    # Save the result in the output directory\n",
    "    mpimg.imsave(out_directory + \"/\" + imageName, resultImage)"
   ]
  },
  {
   "cell_type": "markdown",
   "metadata": {},
   "source": [
    "## Test on Videos\n",
    "\n",
    "We can test our solution on two provided videos:\n",
    "\n",
    "`solidWhiteRight.mp4`\n",
    "\n",
    "`solidYellowLeft.mp4`"
   ]
  },
  {
   "cell_type": "code",
   "execution_count": null,
   "metadata": {
    "collapsed": true,
    "scrolled": true
   },
   "outputs": [],
   "source": [
    "# Import everything needed to edit/save/watch video clips\n",
    "from moviepy.editor import VideoFileClip\n",
    "from IPython.display import HTML\n",
    "import imageio\n",
    "imageio.plugins.ffmpeg.download()"
   ]
  },
  {
   "cell_type": "code",
   "execution_count": null,
   "metadata": {},
   "outputs": [],
   "source": [
    "right_lines.clear()\n",
    "left_lines.clear()\n",
    "white_output = 'test_videos_output/solidWhiteRight.mp4'\n",
    "clip1 = VideoFileClip(\"test_videos/solidWhiteRight.mp4\")\n",
    "white_clip = clip1.fl_image(process_image) #NOTE: this function expects color images!!\n",
    "%time white_clip.write_videofile(white_output, audio=False)"
   ]
  },
  {
   "cell_type": "code",
   "execution_count": null,
   "metadata": {},
   "outputs": [],
   "source": [
    "HTML(\"\"\"\n",
    "<video width=\"960\" height=\"540\" controls>\n",
    "  <source src=\"{0}\">\n",
    "</video>\n",
    "\"\"\".format(white_output))"
   ]
  },
  {
   "cell_type": "markdown",
   "metadata": {},
   "source": [
    "## Improve the draw_lines() function\n",
    "\n",
    "**At this point, if you were successful with making the pipeline and tuning parameters, you probably have the Hough line segments drawn onto the road, but what about identifying the full extent of the lane and marking it clearly as in the example video (P1_example.mp4)?  Think about defining a line to run the full length of the visible lane based on the line segments you identified with the Hough Transform. As mentioned previously, try to average and/or extrapolate the line segments you've detected to map out the full extent of the lane lines. You can see an example of the result you're going for in the video \"P1_example.mp4\".**\n",
    "\n",
    "**Go back and modify your draw_lines function accordingly and try re-running your pipeline. The new output should draw a single, solid line over the left lane line and a single, solid line over the right lane line. The lines should start from the bottom of the image and extend out to the top of the region of interest.**"
   ]
  },
  {
   "cell_type": "markdown",
   "metadata": {},
   "source": [
    "Now for the one with the solid yellow lane on the left. This one's more tricky!"
   ]
  },
  {
   "cell_type": "code",
   "execution_count": null,
   "metadata": {},
   "outputs": [],
   "source": [
    "right_lines.clear()\n",
    "left_lines.clear()\n",
    "yellow_output = 'test_videos_output/solidYellowLeft.mp4'\n",
    "clip2 = VideoFileClip('test_videos/solidYellowLeft.mp4')\n",
    "yellow_clip = clip2.fl_image(process_image)\n",
    "%time yellow_clip.write_videofile(yellow_output, audio=False)"
   ]
  },
  {
   "cell_type": "code",
   "execution_count": null,
   "metadata": {},
   "outputs": [],
   "source": [
    "HTML(\"\"\"\n",
    "<video width=\"960\" height=\"540\" controls>\n",
    "  <source src=\"{0}\">\n",
    "</video>\n",
    "\"\"\".format(yellow_output))"
   ]
  },
  {
   "cell_type": "markdown",
   "metadata": {
    "collapsed": true
   },
   "source": [
    "## Optional Challenge\n",
    "\n",
    "I modified my pipeline so it works with this video and submited it along with the rest of my project!"
   ]
  },
  {
   "cell_type": "code",
   "execution_count": null,
   "metadata": {},
   "outputs": [],
   "source": [
    "right_lines.clear()\n",
    "left_lines.clear()\n",
    "challenge_output = 'test_videos_output/challenge.mp4'\n",
    "clip3 = VideoFileClip('test_videos/challenge.mp4')\n",
    "challenge_clip = clip3.fl_image(process_image)\n",
    "%time challenge_clip.write_videofile(challenge_output, audio=False)"
   ]
  },
  {
   "cell_type": "code",
   "execution_count": null,
   "metadata": {},
   "outputs": [],
   "source": [
    "HTML(\"\"\"\n",
    "<video width=\"960\" height=\"540\" controls>\n",
    "  <source src=\"{0}\">\n",
    "</video>\n",
    "\"\"\".format(challenge_output))"
   ]
  }
 ],
 "metadata": {
  "anaconda-cloud": {},
  "kernelspec": {
   "display_name": "Python 3",
   "language": "python",
   "name": "python3"
  },
  "language_info": {
   "codemirror_mode": {
    "name": "ipython",
    "version": 3
   },
   "file_extension": ".py",
   "mimetype": "text/x-python",
   "name": "python",
   "nbconvert_exporter": "python",
   "pygments_lexer": "ipython3",
   "version": "3.6.1"
  }
 },
 "nbformat": 4,
 "nbformat_minor": 1
}
