{
 "cells": [
  {
   "cell_type": "code",
   "execution_count": 1,
   "metadata": {
    "collapsed": false
   },
   "outputs": [
    {
     "name": "stderr",
     "output_type": "stream",
     "text": [
      "/Users/NIGG/anaconda/lib/python3.5/site-packages/matplotlib/__init__.py:1035: UserWarning: Duplicate key in file \"/Users/NIGG/.matplotlib/matplotlibrc\", line #515\n",
      "  (fname, cnt))\n",
      "/Users/NIGG/anaconda/lib/python3.5/site-packages/matplotlib/__init__.py:1035: UserWarning: Duplicate key in file \"/Users/NIGG/.matplotlib/matplotlibrc\", line #516\n",
      "  (fname, cnt))\n"
     ]
    }
   ],
   "source": [
    "%matplotlib inline"
   ]
  },
  {
   "cell_type": "code",
   "execution_count": 2,
   "metadata": {
    "collapsed": false
   },
   "outputs": [],
   "source": [
    "import numpy as np\n",
    "import pandas as pd\n",
    "\n",
    "#　統計用ツール\n",
    "import statsmodels.api as sm\n",
    "import statsmodels.tsa.api as tsa\n",
    "from patsy import dmatrices\n",
    "\n",
    "#　自作の空間統計用ツール\n",
    "from spatialstat import *\n",
    "\n",
    "#描画\n",
    "import matplotlib.pyplot as plt\n",
    "from pandas.tools.plotting import autocorrelation_plot\n",
    "import seaborn as sns\n",
    "sns.set(font=['IPAmincho'])\n",
    "\n",
    "#深層学習\n",
    "import chainer\n",
    "from chainer import cuda, Function, gradient_check, Variable, optimizers, serializers, utils\n",
    "from chainer import Link, Chain, ChainList\n",
    "import chainer.functions as F\n",
    "import chainer.links as L\n",
    "\n",
    "from makedata import makedata"
   ]
  },
  {
   "cell_type": "code",
   "execution_count": 3,
   "metadata": {
    "collapsed": true
   },
   "outputs": [],
   "source": [
    "data = pd.read_csv(\"TokyoSingle.csv\")\n",
    "data = data.dropna()"
   ]
  },
  {
   "cell_type": "code",
   "execution_count": 4,
   "metadata": {
    "collapsed": false
   },
   "outputs": [],
   "source": [
    "datas = makedata(data)"
   ]
  },
  {
   "cell_type": "code",
   "execution_count": 5,
   "metadata": {
    "collapsed": false
   },
   "outputs": [],
   "source": [
    "datas = datas[datas['12世田谷区'] == 1][0:5000]"
   ]
  },
  {
   "cell_type": "code",
   "execution_count": 33,
   "metadata": {
    "collapsed": true
   },
   "outputs": [],
   "source": [
    "class CAR(Chain):\n",
    "    def __init__(self, unit1, unit2, unit3, col_num):\n",
    "        self.unit1 = unit1\n",
    "        self.unit2 = unit2\n",
    "        self.unit3 = unit3\n",
    "        super(CAR, self).__init__(\n",
    "            l1 = L.Linear(col_num, unit1),\n",
    "            l2 = L.Linear(self.unit1, self.unit1),\n",
    "            l3 = L.Linear(self.unit1, self.unit2),\n",
    "            l4 = L.Linear(self.unit2, self.unit3),\n",
    "            l5 = L.Linear(self.unit3, self.unit3),\n",
    "            l6 = L.Linear(self.unit3, 1),\n",
    "        )\n",
    "    \n",
    "    def __call__(self, x, y):\n",
    "        fv = self.fwd(x, y)\n",
    "        loss = F.mean_squared_error(fv, y)\n",
    "        return loss\n",
    "    \n",
    "    def fwd(self, x, y):\n",
    "        h1 = F.sigmoid(self.l1(x))\n",
    "        h2 = F.sigmoid(self.l2(h1))\n",
    "        h3 = F.sigmoid(self.l3(h2))\n",
    "        h4 = F.sigmoid(self.l4(h3))\n",
    "        h5 = F.sigmoid(self.l5(h4))\n",
    "        h6 = self.l6(h5)\n",
    "        return h6"
   ]
  },
  {
   "cell_type": "code",
   "execution_count": 34,
   "metadata": {
    "collapsed": false
   },
   "outputs": [],
   "source": [
    "class OLS_DLmodel(object):\n",
    "    def __init__(self, data, vars, bs=200, n=1000):\n",
    "        self.vars = vars\n",
    "        eq = fml_build(vars)\n",
    "        y, X = dmatrices(eq, data=datas, return_type='dataframe')\n",
    "        self.y_in = y[:-n]\n",
    "        self.X_in = X[:-n]\n",
    "        self.y_ex = y[-n:]\n",
    "        self.X_ex = X[-n:]\n",
    "        \n",
    "        self.logy_in = np.log(self.y_in)\n",
    "        self.logy_ex = np.log(self.y_ex)\n",
    "        \n",
    "        self.bs = bs\n",
    "        \n",
    "        self.ido_in = np.array([datas['X'][:-n]])\n",
    "        self.keido_in = np.array([datas['Y'][:-n]])\n",
    "        self.W_in = ((self.ido_in.T - self.ido_in)**2 + \n",
    "                    (self.keido_in.T - self.keido_in)**2)\n",
    "        N = np.array(np.matrix(self.W_in)*np.matrix(np.ones(len(self.ido_in[0]))).T)\n",
    "        self.W_in = self.W_in/N\n",
    "        self.ido_ex = np.array([datas['X'][-n:]])\n",
    "        self.keido_ex = np.array([datas['Y'][-n:]])\n",
    "\n",
    "    def OLS(self):\n",
    "        X_in = self.X_in\n",
    "        X_in = X_in.drop(['X', 'Y'], axis=1)\n",
    "        model = sm.OLS(self.logy_in, X_in, intercept=False)\n",
    "        self.reg = model.fit()\n",
    "        print(self.reg.summary())\n",
    "        df = (pd.DataFrame(self.reg.params)).T\n",
    "        df['X'] = 0\n",
    "        df['Y'] = 0\n",
    "        self.reg.params = pd.Series((df.T)[0])\n",
    "        \n",
    "    def directDL(self, ite=100, bs=200, add=False):\n",
    "        logy_in = np.array(self.logy_in, dtype='float32')\n",
    "        X_in = np.array(self.X_in, dtype='float32')\n",
    "\n",
    "        y = Variable(logy_in)\n",
    "        x = Variable(X_in)\n",
    "\n",
    "        num, col_num = X_in.shape\n",
    "        \n",
    "        if add is False:\n",
    "            self.model1 = CAR(15, 15, 5, col_num)\n",
    "        \n",
    "        optimizer = optimizers.SGD()\n",
    "        optimizer.setup(self.model1)\n",
    "\n",
    "        for j in range(ite):\n",
    "            sffindx = np.random.permutation(num)\n",
    "            for i in range(0, num, bs):\n",
    "                x = Variable(X_in[sffindx[i:(i+bs) if (i+bs) < num else num]])\n",
    "                y = Variable(logy_in[sffindx[i:(i+bs) if (i+bs) < num else num]])\n",
    "                self.model1.zerograds()\n",
    "                loss = self.model1(x, y)\n",
    "                loss.backward()\n",
    "                optimizer.update()\n",
    "            if j % 1000 == 0:\n",
    "                loss_val = loss.data\n",
    "                print('epoch:', j)\n",
    "                print('train mean loss={}'.format(loss_val))\n",
    "                print(' - - - - - - - - - ')\n",
    "                \n",
    "        y_ex = np.array(self.y_ex, dtype='float32').reshape(len(self.y_ex))\n",
    "        X_ex = np.array(self.X_ex, dtype='float32')\n",
    "        X_ex = Variable(X_ex)\n",
    "\n",
    "        logy_pred =  self.model1.fwd(X_ex, X_ex).data\n",
    "        y_pred = np.exp(logy_pred)\n",
    "        error = y_ex - y_pred.reshape(len(y_pred),)\n",
    "        plt.hist(error[:])\n",
    "        \n",
    "    def DL(self, ite=100, bs=200, add=False):\n",
    "        y_in = np.array(self.y_in, dtype='float32').reshape(len(self.y_in))\n",
    "                                                            \n",
    "        resid = y_in - np.exp(self.reg.predict())\n",
    "        resid = np.array(resid, dtype='float32').reshape(len(resid),1)\n",
    "        \n",
    "        X_in = np.array(self.X_in, dtype='float32')\n",
    "\n",
    "        y = Variable(resid)\n",
    "        x = Variable(X_in)\n",
    "\n",
    "        num, col_num = X_in.shape\n",
    "        \n",
    "        if add is False:\n",
    "            self.model1 = CAR(10, 10, 3, col_num)\n",
    "            \n",
    "        optimizer = optimizers.Adam()\n",
    "        optimizer.setup(self.model1)\n",
    "        \n",
    "        loss_val = 100000000\n",
    "\n",
    "        for j in range(ite + 10000):\n",
    "            sffindx = np.random.permutation(num)\n",
    "            for i in range(0, num, bs):\n",
    "                x = Variable(X_in[sffindx[i:(i+bs) if (i+bs) < num else num]])\n",
    "                y = Variable(resid[sffindx[i:(i+bs) if (i+bs) < num else num]])\n",
    "                self.model1.zerograds()\n",
    "                loss = self.model1(x, y)\n",
    "                loss.backward()\n",
    "                optimizer.update()\n",
    "            if loss_val >= loss.data:\n",
    "                loss_val = loss.data\n",
    "            if j > ite:\n",
    "                if loss_val >= loss.data:\n",
    "                    loss_val = loss.data\n",
    "                    print('epoch:', j)\n",
    "                    print('train mean loss={}'.format(loss_val))\n",
    "                    print(' - - - - - - - - - ')\n",
    "                    break\n",
    "            if j % 1000 == 0:\n",
    "                print('epoch:', j)\n",
    "                print('train mean loss={}'.format(loss_val))\n",
    "                print(' - - - - - - - - - ')\n",
    "            \n",
    "    def predict(self):\n",
    "        y_ex = np.array(self.y_ex, dtype='float32').reshape(len(self.y_ex))\n",
    "        \n",
    "        X_ex = np.array(self.X_ex, dtype='float32')\n",
    "        X_ex = Variable(X_ex)\n",
    "        resid_pred =  self.model1.fwd(X_ex, X_ex).data  \n",
    "        print(resid_pred[:10])\n",
    "        \n",
    "        self.logy_pred = np.matrix(self.X_ex)*np.matrix(self.reg.params).T\n",
    "        self.error1 = np.array(y_ex - np.exp(self.logy_pred.reshape(len(self.logy_pred),)))[0]\n",
    "        \n",
    "        self.pred = np.exp(self.logy_pred) + resid_pred\n",
    "        self.error2 = np.array(y_ex - self.pred.reshape(len(self.pred),))[0]\n",
    "        \n",
    "    def compare(self):\n",
    "        plt.hist(self.error1)\n",
    "        plt.hist(self.error2)"
   ]
  },
  {
   "cell_type": "code",
   "execution_count": 35,
   "metadata": {
    "collapsed": false
   },
   "outputs": [],
   "source": [
    "vars = ['P', 'S', 'L', 'R', 'RW', 'A', 'TS', 'TT', 'WOOD', 'SOUTH', 'CMD', 'IDD', 'FAR', 'X', 'Y']\n",
    "#vars += vars + list(TDQ.columns)"
   ]
  },
  {
   "cell_type": "code",
   "execution_count": 36,
   "metadata": {
    "collapsed": false
   },
   "outputs": [],
   "source": [
    "model = OLS_DLmodel(datas, vars)"
   ]
  },
  {
   "cell_type": "code",
   "execution_count": 37,
   "metadata": {
    "collapsed": false
   },
   "outputs": [
    {
     "name": "stdout",
     "output_type": "stream",
     "text": [
      "                            OLS Regression Results                            \n",
      "==============================================================================\n",
      "Dep. Variable:                      P   R-squared:                       0.773\n",
      "Model:                            OLS   Adj. R-squared:                  0.772\n",
      "Method:                 Least Squares   F-statistic:                     1130.\n",
      "Date:                Mon, 13 Feb 2017   Prob (F-statistic):               0.00\n",
      "Time:                        00:38:02   Log-Likelihood:                 1308.3\n",
      "No. Observations:                4000   AIC:                            -2591.\n",
      "Df Residuals:                    3987   BIC:                            -2509.\n",
      "Df Model:                          12                                         \n",
      "Covariance Type:            nonrobust                                         \n",
      "==============================================================================\n",
      "                 coef    std err          t      P>|t|      [95.0% Conf. Int.]\n",
      "------------------------------------------------------------------------------\n",
      "Intercept      8.7986      0.038    228.864      0.000         8.723     8.874\n",
      "S              0.0033      0.000     30.422      0.000         0.003     0.004\n",
      "L              0.0033   9.42e-05     35.165      0.000         0.003     0.003\n",
      "R              0.0081      0.003      2.541      0.011         0.002     0.014\n",
      "RW             0.0087      0.001      5.975      0.000         0.006     0.012\n",
      "A             -0.0008   3.16e-05    -26.233      0.000        -0.001    -0.001\n",
      "TS            -0.0105      0.001    -16.554      0.000        -0.012    -0.009\n",
      "TT            -0.0101      0.001    -17.053      0.000        -0.011    -0.009\n",
      "WOOD          -0.0273      0.008     -3.582      0.000        -0.042    -0.012\n",
      "SOUTH          0.0223      0.007      3.160      0.002         0.008     0.036\n",
      "CMD            0.0213      0.022      0.950      0.342        -0.023     0.065\n",
      "IDD           -0.0649      0.040     -1.608      0.108        -0.144     0.014\n",
      "FAR           -0.0044      0.000     -9.475      0.000        -0.005    -0.003\n",
      "==============================================================================\n",
      "Omnibus:                      268.842   Durbin-Watson:                   1.360\n",
      "Prob(Omnibus):                  0.000   Jarque-Bera (JB):              812.990\n",
      "Skew:                          -0.330   Prob(JB):                    2.89e-177\n",
      "Kurtosis:                       5.108   Cond. No.                     2.86e+03\n",
      "==============================================================================\n",
      "\n",
      "Warnings:\n",
      "[1] Standard Errors assume that the covariance matrix of the errors is correctly specified.\n",
      "[2] The condition number is large, 2.86e+03. This might indicate that there are\n",
      "strong multicollinearity or other numerical problems.\n"
     ]
    }
   ],
   "source": [
    "model.OLS()"
   ]
  },
  {
   "cell_type": "code",
   "execution_count": 39,
   "metadata": {
    "collapsed": false,
    "scrolled": true
   },
   "outputs": [
    {
     "name": "stdout",
     "output_type": "stream",
     "text": [
      "epoch: 0\n",
      "train mean loss=8013545.0\n",
      " - - - - - - - - - \n",
      "epoch: 1000\n",
      "train mean loss=1342675.5\n",
      " - - - - - - - - - \n",
      "epoch: 2000\n",
      "train mean loss=1228091.625\n",
      " - - - - - - - - - \n",
      "epoch: 3000\n",
      "train mean loss=1225083.375\n",
      " - - - - - - - - - \n",
      "epoch: 4000\n",
      "train mean loss=1071701.125\n",
      " - - - - - - - - - \n",
      "epoch: 5000\n",
      "train mean loss=1071701.125\n",
      " - - - - - - - - - \n",
      "epoch: 6000\n",
      "train mean loss=1071701.125\n",
      " - - - - - - - - - \n",
      "epoch: 7000\n",
      "train mean loss=1071701.125\n",
      " - - - - - - - - - \n",
      "epoch: 8000\n",
      "train mean loss=1037237.8125\n",
      " - - - - - - - - - \n",
      "epoch: 9000\n",
      "train mean loss=1037237.8125\n",
      " - - - - - - - - - \n",
      "epoch: 10000\n",
      "train mean loss=1037237.8125\n",
      " - - - - - - - - - \n",
      "epoch: 11000\n",
      "train mean loss=1037237.8125\n",
      " - - - - - - - - - \n",
      "epoch: 12000\n",
      "train mean loss=1037237.8125\n",
      " - - - - - - - - - \n",
      "epoch: 13000\n",
      "train mean loss=1037237.8125\n",
      " - - - - - - - - - \n",
      "epoch: 14000\n",
      "train mean loss=1037237.8125\n",
      " - - - - - - - - - \n",
      "epoch: 15000\n",
      "train mean loss=1029000.0\n",
      " - - - - - - - - - \n",
      "epoch: 16000\n",
      "train mean loss=1029000.0\n",
      " - - - - - - - - - \n",
      "epoch: 17000\n",
      "train mean loss=1029000.0\n",
      " - - - - - - - - - \n",
      "epoch: 18000\n",
      "train mean loss=1025844.8125\n",
      " - - - - - - - - - \n",
      "epoch: 19000\n",
      "train mean loss=1025844.8125\n",
      " - - - - - - - - - \n",
      "epoch: 20000\n",
      "train mean loss=873787.1875\n",
      " - - - - - - - - - \n",
      "epoch: 21000\n",
      "train mean loss=873787.1875\n",
      " - - - - - - - - - \n",
      "epoch: 22000\n",
      "train mean loss=873787.1875\n",
      " - - - - - - - - - \n",
      "epoch: 23000\n",
      "train mean loss=873787.1875\n",
      " - - - - - - - - - \n",
      "epoch: 24000\n",
      "train mean loss=873787.1875\n",
      " - - - - - - - - - \n",
      "epoch: 25000\n",
      "train mean loss=873787.1875\n",
      " - - - - - - - - - \n",
      "epoch: 26000\n",
      "train mean loss=873787.1875\n",
      " - - - - - - - - - \n",
      "epoch: 27000\n",
      "train mean loss=873787.1875\n",
      " - - - - - - - - - \n",
      "epoch: 28000\n",
      "train mean loss=873787.1875\n",
      " - - - - - - - - - \n",
      "epoch: 29000\n",
      "train mean loss=873787.1875\n",
      " - - - - - - - - - \n",
      "epoch: 29607\n",
      "train mean loss=871213.75\n",
      " - - - - - - - - - \n"
     ]
    }
   ],
   "source": [
    "model.DL(ite=20000, bs=200)"
   ]
  },
  {
   "cell_type": "code",
   "execution_count": 40,
   "metadata": {
    "collapsed": false
   },
   "outputs": [
    {
     "name": "stdout",
     "output_type": "stream",
     "text": [
      "[[ -313.73538208]\n",
      " [ -313.73535156]\n",
      " [ -313.7354126 ]\n",
      " [  901.95715332]\n",
      " [ 1009.65991211]\n",
      " [ -313.73510742]\n",
      " [ -148.27406311]\n",
      " [ -313.73532104]\n",
      " [  592.87658691]\n",
      " [ -313.73538208]]\n"
     ]
    }
   ],
   "source": [
    "model.predict()"
   ]
  },
  {
   "cell_type": "code",
   "execution_count": 43,
   "metadata": {
    "collapsed": false
   },
   "outputs": [
    {
     "data": {
      "image/png": "[encoded data removed]",
      "text/plain": [
       "<matplotlib.figure.Figure at 0x1174afe10>"
      ]
     },
     "metadata": {},
     "output_type": "display_data"
    }
   ],
   "source": [
    "fig = plt.figure()\n",
    "ax = fig.add_subplot(111)\n",
    "\n",
    "errors = [model.error1, model.error2]\n",
    "\n",
    "bp = ax.boxplot(errors)\n",
    "\n",
    "plt.grid()\n",
    "plt.ylim([-5000,5000])\n",
    "\n",
    "plt.title('分布の箱ひげ図')\n",
    "\n",
    "plt.show()"
   ]
  },
  {
   "cell_type": "code",
   "execution_count": 44,
   "metadata": {
    "collapsed": false
   },
   "outputs": [
    {
     "data": {
      "image/png": "[encoded data removed]",
      "text/plain": [
       "<matplotlib.figure.Figure at 0x115791550>"
      ]
     },
     "metadata": {},
     "output_type": "display_data"
    }
   ],
   "source": [
    "from mpl_toolkits.mplot3d import Axes3D\n",
    "import matplotlib.pyplot as plt\n",
    "import numpy as np\n",
    "\n",
    "X = model.X_ex['X'].values\n",
    "Y = model.X_ex['Y'].values\n",
    "\n",
    "Xs = np.linspace(min(X),max(X),10)\n",
    "Ys = np.linspace(min(Y),max(Y),10)\n",
    "\n",
    "error = model.error2\n",
    "Xgrid, Ygrid = np.meshgrid(Xs, Ys)\n",
    "Z = LL(X, Y, Xs, Ys, error)\n",
    "\n",
    "fig = plt.figure()\n",
    "ax = Axes3D(fig)\n",
    "ax.plot_wireframe(Xgrid,Ygrid,Z) #<---ここでplot\n",
    "\n",
    "plt.savefig(\"Main13.jpg\")\n",
    "plt.show()"
   ]
  },
  {
   "cell_type": "code",
   "execution_count": null,
   "metadata": {
    "collapsed": true
   },
   "outputs": [],
   "source": []
  }
 ],
 "metadata": {
  "kernelspec": {
   "display_name": "Python 3",
   "language": "python",
   "name": "python3"
  },
  "language_info": {
   "codemirror_mode": {
    "name": "ipython",
    "version": 3
   },
   "file_extension": ".py",
   "mimetype": "text/x-python",
   "name": "python",
   "nbconvert_exporter": "python",
   "pygments_lexer": "ipython3",
   "version": "3.5.1"
  }
 },
 "nbformat": 4,
 "nbformat_minor": 0
}
