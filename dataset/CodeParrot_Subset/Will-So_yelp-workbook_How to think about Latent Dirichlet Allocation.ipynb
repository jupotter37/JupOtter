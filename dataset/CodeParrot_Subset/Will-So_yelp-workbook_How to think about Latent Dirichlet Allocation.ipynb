{
 "cells": [
  {
   "cell_type": "markdown",
   "metadata": {},
   "source": [
    "# Motivation and ues cases"
   ]
  },
  {
   "cell_type": "code",
   "execution_count": null,
   "metadata": {
    "collapsed": true
   },
   "outputs": [],
   "source": []
  },
  {
   "cell_type": "markdown",
   "metadata": {},
   "source": [
    "# Additional Prerequesites"
   ]
  },
  {
   "cell_type": "markdown",
   "metadata": {},
   "source": [
    "If you are interested in the theory section of this post, learning the theory behind Naive Bayes first is neccessary to understand this topic. There are two reasons for this:\n",
    "\n",
    "1. Naive Bayes a simpler example "
   ]
  },
  {
   "cell_type": "markdown",
   "metadata": {},
   "source": [
    "# What are Topic Models?"
   ]
  },
  {
   "cell_type": "markdown",
   "metadata": {},
   "source": [
    "Latend Dirichlet Allocation  is a *topic model*. A *topic model* is simply allows us to find abstract topics that occur in a collection of documents. "
   ]
  },
  {
   "cell_type": "markdown",
   "metadata": {},
   "source": [
    "# Explaining Latent Dirchlet Allocation"
   ]
  },
  {
   "cell_type": "markdown",
   "metadata": {},
   "source": [
    "Latend Dirichlet Allocation (LDA in the rest of this post) allows us to group observations into unobserved (latent) groups. a "
   ]
  },
  {
   "cell_type": "markdown",
   "metadata": {},
   "source": [
    "# LDA in Python"
   ]
  },
  {
   "cell_type": "code",
   "execution_count": 10,
   "metadata": {
    "collapsed": false
   },
   "outputs": [],
   "source": [
    "#import rpy2.ipython\n",
    "%load_ext rpy2.ipython"
   ]
  },
  {
   "cell_type": "code",
   "execution_count": 12,
   "metadata": {
    "collapsed": false,
    "scrolled": false
   },
   "outputs": [],
   "source": [
    "%%R\n",
    "\n",
    "y = 2"
   ]
  },
  {
   "cell_type": "code",
   "execution_count": 6,
   "metadata": {
    "collapsed": false,
    "scrolled": true
   },
   "outputs": [
    {
     "name": "stdout",
     "output_type": "stream",
     "text": [
      "\u001b[33mYou are using pip version 7.0.1, however version 7.0.3 is available.\n",
      "You should consider upgrading via the 'pip install --upgrade pip' command.\u001b[0m\n",
      "Collecting rpy2\n",
      "  Downloading rpy2-2.6.0.tar.gz (171kB)\n",
      "\u001b[K    100% |████████████████████████████████| 172kB 1.6MB/s \n",
      "\u001b[?25hRequirement already up-to-date: six in /Users/Will/anaconda/envs/py34/lib/python3.4/site-packages (from rpy2)\n",
      "Installing collected packages: rpy2\n",
      "  Found existing installation: rpy2 2.5.6\n",
      "    Uninstalling rpy2-2.5.6:\n",
      "      Successfully uninstalled rpy2-2.5.6\n",
      "  Running setup.py install for rpy2\n",
      "Successfully installed rpy2-2.6.0\n"
     ]
    }
   ],
   "source": [
    "!pip install -U rpy2"
   ]
  },
  {
   "cell_type": "code",
   "execution_count": 5,
   "metadata": {
    "collapsed": false
   },
   "outputs": [
    {
     "data": {
      "text/plain": [
       "'2.5.6'"
      ]
     },
     "execution_count": 5,
     "metadata": {},
     "output_type": "execute_result"
    }
   ],
   "source": [
    "rpy2.__version__"
   ]
  },
  {
   "cell_type": "markdown",
   "metadata": {},
   "source": [
    "Sci-kit learn does not implement "
   ]
  },
  {
   "cell_type": "markdown",
   "metadata": {},
   "source": [
    "# LDA with Yelp: An Example"
   ]
  },
  {
   "cell_type": "markdown",
   "metadata": {},
   "source": [
    "This is based on the paper by McAuley & Leskovec (2013)."
   ]
  },
  {
   "cell_type": "markdown",
   "metadata": {},
   "source": [
    "![](https://dl.dropboxusercontent.com/u/97258109/Screens/S3033.png)"
   ]
  },
  {
   "cell_type": "markdown",
   "metadata": {},
   "source": [
    "# References"
   ]
  },
  {
   "cell_type": "markdown",
   "metadata": {},
   "source": [
    "- https://www.cs.princeton.edu/~blei/papers/BleiNgJordan2003.pdf"
   ]
  },
  {
   "cell_type": "markdown",
   "metadata": {},
   "source": [
    "# LDA Notes"
   ]
  },
  {
   "cell_type": "markdown",
   "metadata": {},
   "source": [
    "- Only for text corpora?\n",
    "    - No but it was the main thing that it was decided for. \n",
    "- Seen as an alternative to tf-idf\n",
    "- disadvantages of tf-idf is that it provides a relatively small amount of reduction in description legnth and reveals little in the way of inter- or intra-document statistical structure.\n",
    "    - What they mean by this is that it tells us nothing about the structure to know that `the` shows up more often in one document than the other. \n",
    "- pLSI takes a step forward compared to LSI in that it models each word in a document from a mixture model. \n",
    "- problem is pLSI provides no probabilistic model at the level of documents. \n",
    "    - Leads to overfitting with \n",
    "- p/LSI are based on the bag-of-words approach. \n",
    "- Other uses for LDA include callaborative filtering and content-based image retrieval\n",
    "\n",
    "## Dirchlet Distribution\n",
    "The Dirchlet distribution is paramterized with the number of categories, $K$, and a vector of concentration parameters, $\\boldsymbol{\\alpha}$\n",
    "\n",
    "It is a distribution over multinomials. \n",
    "\n",
    "\n",
    "## The craziness of LDA distributions\n",
    "- The Dirchlet distribution is a generalization of the beta distribution.\n",
    "- The beta distribution is itself a pretty crazy distribution:\n",
    "\n",
    "![](https://dl.dropboxusercontent.com/u/97258109/Screens/S3052.png)\n",
    "\n",
    "To make the Beta distribution extra confusing, the two parameters, $\\alpha$ and $\\beta$ are both abstract. \n",
    "\n",
    "- a 3d distribution will model the distribution for three topics\n",
    "\n",
    "![](http://qph.is.quoracdn.net/main-qimg-bb29cbfc550e07a638e1d5cd1b5c9c5f?convert_to_webp=true)\n",
    "\n",
    "### Fun facts about the beta distribution\n",
    "- Model the behavior of random variables limited to intervals of finite length in a wide variety of disciplines\n",
    "- Used in Bayesian Inference as a conjugate prior probability distribution for various other distributions. \n",
    "- defined between [0,1]\n",
    "- $\\alpha$ and $\\beta$ are concentration parameters. The smaller they are, the more sparse the distribution is. \n",
    "- Sme people claim that it will be better \n",
    "- The beta distribution is built for proportions which is good. \n",
    "\n",
    "### Assumptions of LDA\n",
    "1. Dimensionality of the Dirichlet distribution is known and fixed\n",
    "2. Word probabilities are parameterizes by a k x V matrix $\\beta$ \n",
    "\n",
    "\n",
    "### LDA Important pictures and formulas\n",
    "![](https://dl.dropboxusercontent.com/u/97258109/Screens/S3060.png)\n",
    "\n",
    "Where (1) is the prior probability\n"
   ]
  },
  {
   "cell_type": "markdown",
   "metadata": {},
   "source": [
    "### Beta Distribution for AB testing?\n",
    "\n",
    "Propotions come out from a finite number of Bernoulli trials and so they are not continuous. Because of this, the beta distribution is not really appropriate here.\n",
    "\n",
    "The normal distribution works here because of the CLT. That is an interesting point. \n",
    "\n",
    "\n",
    "## Intuitive Interpretations of the Dirchlet parameters\n",
    "- Common prior is the symmetric Dirichlet distribution where all parameters are equal. This is the case of no priors. "
   ]
  },
  {
   "cell_type": "code",
   "execution_count": 26,
   "metadata": {
    "collapsed": false
   },
   "outputs": [
    {
     "name": "stdout",
     "output_type": "stream",
     "text": [
      "Populating the interactive namespace from numpy and matplotlib\n"
     ]
    }
   ],
   "source": [
    "%pylab inline\n"
   ]
  },
  {
   "cell_type": "code",
   "execution_count": 31,
   "metadata": {
    "collapsed": false
   },
   "outputs": [
    {
     "data": {
      "image/png": "[encoded data removed]",
      "text/plain": [
       "<matplotlib.figure.Figure at 0x1172a3c50>"
      ]
     },
     "metadata": {},
     "output_type": "display_data"
    }
   ],
   "source": [
    "import numpy as np\n",
    "s = np.random.dirichlet((10, 5, 3), 50).transpose()\n",
    "plt.barh(range(50), s[0])\n",
    "plt.barh(range(50), s[1], left=s[0], color='g')\n",
    "plt.barh(range(50), s[2], left=s[0]+s[1], color='r')\n",
    "_ = plt.title(\"Lengths of Strings\")"
   ]
  },
  {
   "cell_type": "code",
   "execution_count": 32,
   "metadata": {
    "collapsed": false,
    "scrolled": true
   },
   "outputs": [
    {
     "data": {
      "text/plain": [
       "[0.5670060910944642, 0.25410247786043716, 0.17889143104509869]"
      ]
     },
     "execution_count": 32,
     "metadata": {},
     "output_type": "execute_result"
    }
   ],
   "source": [
    "[i.mean() for i in s] #Mean of each of the lengths of the string"
   ]
  },
  {
   "cell_type": "code",
   "execution_count": 33,
   "metadata": {
    "collapsed": false,
    "scrolled": true
   },
   "outputs": [
    {
     "data": {
      "text/plain": [
       "[0.5555555555555556, 0.2777777777777778, 0.16666666666666666]"
      ]
     },
     "execution_count": 33,
     "metadata": {},
     "output_type": "execute_result"
    }
   ],
   "source": [
    "[i/18 for i in [10, 5, 3]] # Predicted values of each of the lengths of the string"
   ]
  },
  {
   "cell_type": "markdown",
   "metadata": {},
   "source": [
    "So essentially all of the $a$ values give you the approximate ratio of what each dimension should be. "
   ]
  },
  {
   "cell_type": "code",
   "execution_count": null,
   "metadata": {
    "collapsed": true
   },
   "outputs": [],
   "source": []
  }
 ],
 "metadata": {
  "kernelspec": {
   "display_name": "Python 3",
   "language": "python",
   "name": "python3"
  },
  "language_info": {
   "codemirror_mode": {
    "name": "ipython",
    "version": 3
   },
   "file_extension": ".py",
   "mimetype": "text/x-python",
   "name": "python",
   "nbconvert_exporter": "python",
   "pygments_lexer": "ipython3",
   "version": "3.4.3"
  }
 },
 "nbformat": 4,
 "nbformat_minor": 0
}
