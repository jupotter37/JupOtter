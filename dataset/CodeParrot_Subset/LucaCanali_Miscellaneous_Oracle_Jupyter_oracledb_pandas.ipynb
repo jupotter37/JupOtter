{
 "cells": [
  {
   "cell_type": "markdown",
   "metadata": {},
   "source": [
    "# Oracle and Python with oracledb\n",
    "This is an example of how to query Oracle from Python\n"
   ]
  },
  {
   "cell_type": "markdown",
   "metadata": {},
   "source": [
    "## Setup and prerequisites"
   ]
  },
  {
   "cell_type": "markdown",
   "metadata": {},
   "source": [
    "This is how you can setup an Oracle instance for testing using a docker image for oracle-xe \n",
    "\n",
    "**1. run oracle xe on a container from gvenzl dockerhub repo https://github.com/gvenzl/oci-oracle-xe**\n",
    "\n",
    "`docker run -d --name mydb1 -e ORACLE_PASSWORD=oracle -p 1521:1521 gvenzl/oracle-xe:latest # or use :slim`\n",
    "\n",
    "wait till the DB is started, check logs at:\n",
    "`docker logs -f mydb1`\n",
    "\n",
    "**2. Install the scott/tiger schema with the emp table in PDB xepdb1:**\n",
    "```\n",
    "docker exec -it mydb1 /bin/bash\n",
    "sed -e s=SCOTT/tiger=SCOTT/tiger@xepdb1= -e s/OFF/ON/ /opt/oracle/product/21c/dbhomeXE/rdbms/admin/utlsampl.sql > script.sql\n",
    "sqlplus system/oracle@xepdb1 <<EOF\n",
    "@script.sql\n",
    "EOF\n",
    "exit\n",
    "```"
   ]
  },
  {
   "cell_type": "markdown",
   "metadata": {},
   "source": [
    "**oracledb library:** This uses oracledb to connect to oracle, so no need to install the Oracle client.  \n",
    "Note: oracledb can also work with the oracle client as cx_Oracle did,\n",
    "see documentation for details."
   ]
  },
  {
   "cell_type": "markdown",
   "metadata": {},
   "source": [
    "## Query Oracle from Python using the oracledb library"
   ]
  },
  {
   "cell_type": "code",
   "execution_count": 1,
   "metadata": {
    "scrolled": true
   },
   "outputs": [],
   "source": [
    "# connect to Oracle using oracledb\n",
    "# !pip install oracledb\n",
    "\n",
    "import oracledb\n",
    "\n",
    "db_user = 'scott'\n",
    "db_connect_string = 'localhost:1521/XEPDB1'\n",
    "db_pass = 'tiger'\n",
    "\n",
    "# To avoid storig connection passwords use getpas or db_config\n",
    "# db_connect_string = 'dbserver:1521/orcl.mydomain.com'\n",
    "# import getpass\n",
    "# db_pass = getpass.getpass()\n",
    "\n",
    "ora_conn = oracledb.connect(user=db_user, password=db_pass, dsn=db_connect_string)"
   ]
  },
  {
   "cell_type": "code",
   "execution_count": 2,
   "metadata": {},
   "outputs": [
    {
     "name": "stdout",
     "output_type": "stream",
     "text": [
      "[('SMITH', 800.0), ('ALLEN', 1600.0), ('WARD', 1250.0), ('JONES', 2975.0), ('MARTIN', 1250.0), ('BLAKE', 2850.0), ('CLARK', 2450.0), ('SCOTT', 3000.0), ('KING', 5000.0), ('TURNER', 1500.0), ('ADAMS', 1100.0), ('JAMES', 950.0), ('FORD', 3000.0), ('MILLER', 1300.0)]\n"
     ]
    }
   ],
   "source": [
    "# open a cursor, run a query and fetch the results\n",
    "\n",
    "cursor = ora_conn.cursor()\n",
    "cursor.execute('select ename, sal from emp')\n",
    "res = cursor.fetchall()\n",
    "cursor.close()\n",
    "\n",
    "print(res)"
   ]
  },
  {
   "cell_type": "markdown",
   "metadata": {},
   "source": [
    "## oracledb integration with Pandas"
   ]
  },
  {
   "cell_type": "code",
   "execution_count": null,
   "metadata": {},
   "outputs": [],
   "source": [
    "import pandas as pd\n",
    "\n",
    "# query Oracle using ora_conn and put the result into a pandas Dataframe\n",
    "df_ora = pd.read_sql('select * from emp', con=ora_conn)    \n",
    "df_ora"
   ]
  },
  {
   "cell_type": "markdown",
   "metadata": {},
   "source": [
    "## Use of bind variables"
   ]
  },
  {
   "cell_type": "code",
   "execution_count": null,
   "metadata": {},
   "outputs": [],
   "source": [
    "df_ora = pd.read_sql('select * from emp where empno=:myempno', params={\"myempno\":7839}, \n",
    "                     con=ora_conn) \n",
    "df_ora"
   ]
  },
  {
   "cell_type": "markdown",
   "metadata": {},
   "source": [
    "## Basic visualization"
   ]
  },
  {
   "cell_type": "code",
   "execution_count": 6,
   "metadata": {},
   "outputs": [],
   "source": [
    "import matplotlib.pyplot as plt \n",
    "plt.style.use('seaborn-darkgrid')"
   ]
  },
  {
   "cell_type": "code",
   "execution_count": null,
   "metadata": {},
   "outputs": [],
   "source": [
    "df_ora = pd.read_sql('select ename \"Name\", sal \"Salary\" from emp', con=ora_conn)    \n",
    "\n",
    "ora_conn.close()"
   ]
  },
  {
   "cell_type": "code",
   "execution_count": 8,
   "metadata": {
    "scrolled": false
   },
   "outputs": [
    {
     "data": {
      "image/png": "[encoded data removed]",
      "text/plain": [
       "<Figure size 720x432 with 1 Axes>"
      ]
     },
     "metadata": {},
     "output_type": "display_data"
    }
   ],
   "source": [
    "df_ora.plot(x='Name', y='Salary', title='Salary details, from Oracle demo table', \n",
    "            figsize=(10, 6), kind='bar', color='blue');"
   ]
  },
  {
   "cell_type": "code",
   "execution_count": null,
   "metadata": {
    "collapsed": true
   },
   "outputs": [],
   "source": []
  }
 ],
 "metadata": {
  "kernelspec": {
   "display_name": "Python 3 (ipykernel)",
   "language": "python",
   "name": "python3"
  },
  "language_info": {
   "codemirror_mode": {
    "name": "ipython",
    "version": 3
   },
   "file_extension": ".py",
   "mimetype": "text/x-python",
   "name": "python",
   "nbconvert_exporter": "python",
   "pygments_lexer": "ipython3",
   "version": "3.9.12"
  }
 },
 "nbformat": 4,
 "nbformat_minor": 1
}
