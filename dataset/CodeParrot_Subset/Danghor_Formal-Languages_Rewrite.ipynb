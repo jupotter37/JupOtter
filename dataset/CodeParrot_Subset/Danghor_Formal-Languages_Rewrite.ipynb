{
 "cells": [
  {
   "cell_type": "code",
   "execution_count": null,
   "metadata": {},
   "outputs": [],
   "source": [
    "%%HTML\n",
    "<style>\n",
    ".container { width: 100% }\n",
    "</style>"
   ]
  },
  {
   "cell_type": "markdown",
   "metadata": {},
   "source": [
    "# Term Simplification via  Rewriting"
   ]
  },
  {
   "cell_type": "code",
   "execution_count": null,
   "metadata": {},
   "outputs": [],
   "source": [
    "import string"
   ]
  },
  {
   "cell_type": "code",
   "execution_count": null,
   "metadata": {},
   "outputs": [],
   "source": [
    "def is_variable(s):\n",
    "    return isinstance(s, str) and s != '' and s[0] in string.ascii_uppercase"
   ]
  },
  {
   "cell_type": "code",
   "execution_count": null,
   "metadata": {},
   "outputs": [],
   "source": [
    "def match(pattern, term, Substitution={}):\n",
    "    if is_variable(pattern):\n",
    "        V = pattern\n",
    "        if V in Substitution:\n",
    "            return match(Substitution[V], term, Substitution)\n",
    "        else:\n",
    "            Substitution[V] = term\n",
    "            return True\n",
    "    if isinstance(pattern, str) or isinstance(pattern, int):\n",
    "        return pattern == term\n",
    "    if isinstance(term, str) or isinstance(term, int):\n",
    "        return False\n",
    "    if len(pattern) != len(term):\n",
    "        return False\n",
    "    if pattern[0] != term[0]:\n",
    "        return False\n",
    "    n = len(pattern)\n",
    "    for i in range(n):\n",
    "        if not match(pattern[i], term[i], Substitution):\n",
    "            return False\n",
    "    return True"
   ]
  },
  {
   "cell_type": "code",
   "execution_count": null,
   "metadata": {},
   "outputs": [],
   "source": [
    "def apply(term, Substitution):\n",
    "    if is_variable(term):\n",
    "        V = term\n",
    "        if V in Substitution:\n",
    "            return Substitution[V]\n",
    "        else:\n",
    "            return V\n",
    "    if isinstance(term, str) or isinstance(term, int):\n",
    "        return term\n",
    "    return tuple(apply(arg, Substitution) for arg in term)"
   ]
  },
  {
   "cell_type": "code",
   "execution_count": null,
   "metadata": {},
   "outputs": [],
   "source": [
    "def rewrite(term, rule):\n",
    "    lhs, rhs = rule\n",
    "    Substitution = {}\n",
    "    if match(lhs, term, Substitution):\n",
    "        return True, apply(rhs, Substitution)\n",
    "    else:\n",
    "        return False, term"
   ]
  },
  {
   "cell_type": "code",
   "execution_count": null,
   "metadata": {},
   "outputs": [],
   "source": [
    "def simplify_once(term, Rules):\n",
    "    if isinstance(term, str) or isinstance(term, int):\n",
    "        return term\n",
    "    for rule in Rules:\n",
    "        flag, simple = rewrite(term, rule)\n",
    "        if flag:\n",
    "            return simple\n",
    "    return tuple(simplify_once(arg, Rules) for arg in term)"
   ]
  },
  {
   "cell_type": "code",
   "execution_count": null,
   "metadata": {},
   "outputs": [],
   "source": [
    "def simplify(t, Rules):\n",
    "    while True:\n",
    "        old_t = t\n",
    "        t     = simplify_once(t, Rules)\n",
    "        if t == old_t:\n",
    "            return t"
   ]
  },
  {
   "cell_type": "code",
   "execution_count": null,
   "metadata": {},
   "outputs": [],
   "source": [
    "Rules = {\n",
    "    (('+', 'R', 0), 'R'),\n",
    "    (('+', 0, 'R'), 'R'),\n",
    "    (('+', 'R', 'R'), 'R'),\n",
    "    (('+', '', ('*', 'R')), ('*', 'R')),\n",
    "    (('+', ('*', 'R'), ''), ('*', 'R')),\n",
    "    (('+', '', ('&', 'R', ('*', 'R'))), ('*', 'R')),\n",
    "    (('+', '', ('&', ('*', 'R'), 'R')), ('*', 'R')),\n",
    "    (('+', ('&', 'R', ('*', 'R')), ''), ('*', 'R')),\n",
    "    (('+', ('&', ('*', 'R'), 'R'), ''), ('*', 'R')),\n",
    "    (('+', 'S', ('&', 'S', 'T')), ('&', 'S', ('+', '', 'T'))),\n",
    "    (('+', 'S', ('&', 'T', 'S')), ('&', ('+', '', 'T'), 'S')),\n",
    "    (('&', 0, 'R'), 0),\n",
    "    (('&', 'R', 0), 0),\n",
    "    (('&', '', 'R'), 'R'),\n",
    "    (('&', '', 'R'), 'R'),\n",
    "    (('&', ('+', '', 'R'), ('*', 'R')), ('*', 'R')),\n",
    "    (('&', ('+', 'R', ''), ('*', 'R')), ('*', 'R')),\n",
    "    (('&', ('*', 'R'), ('+', 'R', '')), ('*', 'R')),\n",
    "    (('&', ('*', 'R'), ('+', '', 'R')), ('*', 'R')),\n",
    "    (('*', 0), ''),\n",
    "    (('*', ''), ''),\n",
    "    (('*', ('+', '', 'R')), ('*', 'R')),\n",
    "    (('*', ('+', 'R', '')), ('*', 'R')),\n",
    "    (('+', 'R', ('+', 'S', 'T')), ('+', ('+', 'R', 'S'), 'T')),\n",
    "    (('&', 'R', ('&', 'S', 'T')), ('&', ('&', 'R', 'S'), 'T')),\n",
    "    (('&', ('&', 'R', ('*', 'S')), ('+', '', 'S')), ('&', 'R', ('*', 'S')))\n",
    "}"
   ]
  },
  {
   "cell_type": "code",
   "execution_count": null,
   "metadata": {},
   "outputs": [],
   "source": []
  }
 ],
 "metadata": {
  "kernelspec": {
   "display_name": "Python 3",
   "language": "python",
   "name": "python3"
  },
  "language_info": {
   "codemirror_mode": {
    "name": "ipython",
    "version": 3
   },
   "file_extension": ".py",
   "mimetype": "text/x-python",
   "name": "python",
   "nbconvert_exporter": "python",
   "pygments_lexer": "ipython3",
   "version": "3.8.3"
  },
  "varInspector": {
   "cols": {
    "lenName": 16,
    "lenType": 16,
    "lenVar": 40
   },
   "kernels_config": {
    "python": {
     "delete_cmd_postfix": "",
     "delete_cmd_prefix": "del ",
     "library": "var_list.py",
     "varRefreshCmd": "print(var_dic_list())"
    },
    "r": {
     "delete_cmd_postfix": ") ",
     "delete_cmd_prefix": "rm(",
     "library": "var_list.r",
     "varRefreshCmd": "cat(var_dic_list()) "
    }
   },
   "types_to_exclude": [
    "module",
    "function",
    "builtin_function_or_method",
    "instance",
    "_Feature"
   ],
   "window_display": false
  }
 },
 "nbformat": 4,
 "nbformat_minor": 4
}
