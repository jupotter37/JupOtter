{
 "cells": [
  {
   "cell_type": "markdown",
   "metadata": {},
   "source": [
    "## Geocoding using the Open Street Map API\n",
    "\n",
    "Here we explore an example of using an Application Programming Interface, or API. Briefly, an API is a set of commands we can send over the internet to a remote server, spurring the server to process these commands and return a response. In this example, we'll explore how we can use the Open Street Map's geocoding API to get the coordinates responding to a particular address.\n",
    "\n",
    "This is not an in-depth exploration of this particular API, but rather an introduction on how to use an API within Python, specfically using the handy `requests` and `json` libraries. "
   ]
  },
  {
   "cell_type": "markdown",
   "metadata": {},
   "source": [
    "---\n",
    "First we import the `requests` and `json` modules.<br>Usfeful documentation on these modules are found here: <br>\n",
    "* `requests`: http://docs.python-requests.org\n",
    "* `json`: https://pymotw.com/2/json/"
   ]
  },
  {
   "cell_type": "code",
   "execution_count": 2,
   "metadata": {
    "collapsed": true
   },
   "outputs": [],
   "source": [
    "#Import modules\n",
    "import requests\n",
    "import json"
   ]
  },
  {
   "cell_type": "markdown",
   "metadata": {},
   "source": [
    "---\n",
    "Now we will form the request to invoke the Open Street Map API. Documentation on this API is found here: \n",
    "http://wiki.openstreetmap.org/wiki/Nominatim\n",
    "\n",
    "First, we'll generate an example address to geocode. Why not use Environment Hall? But feel free to use your own address!"
   ]
  },
  {
   "cell_type": "code",
   "execution_count": 3,
   "metadata": {
    "collapsed": true
   },
   "outputs": [],
   "source": [
    "#Get the address\n",
    "address = '9 Circuit Drive, Durham, NC, 27708' "
   ]
  },
  {
   "cell_type": "markdown",
   "metadata": {},
   "source": [
    "An API request consists two components: the **service endpoint** and a set of **parameters** associated with the service. \n",
    "\n",
    "When using the `requests` module to create and send our request, we supply the service endpoint is a string containing the server address (as a URL) and the service name (here, it's `search`). And the parameters are supplied in the form of a Python dictionary. Here, the two paramters we'll pass are the `format` and `address` parameters. "
   ]
  },
  {
   "cell_type": "code",
   "execution_count": 4,
   "metadata": {
    "collapsed": true
   },
   "outputs": [],
   "source": [
    "#Form the request\n",
    "osmURL = 'http://nominatim.openstreetmap.org/search'\n",
    "params = {'format':'json','q':address} "
   ]
  },
  {
   "cell_type": "markdown",
   "metadata": {},
   "source": [
    "Now, we can use `requests` to send our command off to the OSM server. The server's response is saved as the `response` variable."
   ]
  },
  {
   "cell_type": "code",
   "execution_count": 5,
   "metadata": {
    "collapsed": true
   },
   "outputs": [],
   "source": [
    "#Send the request\n",
    "response = requests.get(osmURL, params)"
   ]
  },
  {
   "cell_type": "markdown",
   "metadata": {},
   "source": [
    "The `response` object below contains a lot of information. You are encouraged to explore this object further. Here we'll explore one property which is the full URL created. Copy and paste the result in your favorite browser, and you'll see the result of our request in raw form. When you try this, try changing 'json' to 'html' in the URL..."
   ]
  },
  {
   "cell_type": "code",
   "execution_count": 9,
   "metadata": {},
   "outputs": [
    {
     "data": {
      "text/plain": [
       "u'http://nominatim.openstreetmap.org/search?q=9+Circuit+Drive%2C+Durham%2C+NC%2C+27708&format=json'"
      ]
     },
     "execution_count": 9,
     "metadata": {},
     "output_type": "execute_result"
    }
   ],
   "source": [
    "response.url"
   ]
  },
  {
   "cell_type": "code",
   "execution_count": 12,
   "metadata": {},
   "outputs": [
    {
     "data": {
      "text/plain": [
       "True"
      ]
     },
     "execution_count": 12,
     "metadata": {},
     "output_type": "execute_result"
    }
   ],
   "source": [
    "#Opens the URL as an html response (vs JSON) in a web browser...\n",
    "import webbrowser\n",
    "webbrowser.open_new(response.url.replace('json','html'))"
   ]
  },
  {
   "cell_type": "markdown",
   "metadata": {},
   "source": [
    "What we really want from the response, however, is the data returned by the service. The `json` function of the `response` object converts the response to an object in JavaScript Object Notation, or JSON. JSON is esentially a list of dictionaries that we can easily manipulate in Python."
   ]
  },
  {
   "cell_type": "code",
   "execution_count": 33,
   "metadata": {},
   "outputs": [],
   "source": [
    "#Read in the response as a JSON encoded object\n",
    "jsonObj = response.json()"
   ]
  },
  {
   "cell_type": "markdown",
   "metadata": {},
   "source": [
    "`pprint` or \"pretty print\" allows us to display JSON objects in a readable format. Let's make a pretty print of our JSON repsonse. "
   ]
  },
  {
   "cell_type": "code",
   "execution_count": 34,
   "metadata": {},
   "outputs": [
    {
     "name": "stdout",
     "output_type": "stream",
     "text": [
      "[{u'boundingbox': [u'36.0052912',\n",
      "                   u'36.0061023',\n",
      "                   u'-78.9434647',\n",
      "                   u'-78.9409989'],\n",
      "  u'class': u'highway',\n",
      "  u'display_name': u'Circuit Drive, Crest Street, Durham, Durham County, North Carolina, 27705, United States of America',\n",
      "  u'importance': 0.335,\n",
      "  u'lat': u'36.0055806',\n",
      "  u'licence': u'Data \\xa9 OpenStreetMap contributors, ODbL 1.0. http://www.openstreetmap.org/copyright',\n",
      "  u'lon': u'-78.942014',\n",
      "  u'osm_id': u'16544972',\n",
      "  u'osm_type': u'way',\n",
      "  u'place_id': u'71321894',\n",
      "  u'type': u'unclassified'}]\n"
     ]
    }
   ],
   "source": [
    "from pprint import pprint\n",
    "pprint(jsonObj)"
   ]
  },
  {
   "cell_type": "markdown",
   "metadata": {},
   "source": [
    "Our response contains only one item in the JSON list. We'll extract to a dictionary and print it's items."
   ]
  },
  {
   "cell_type": "code",
   "execution_count": 36,
   "metadata": {},
   "outputs": [
    {
     "name": "stdout",
     "output_type": "stream",
     "text": [
      "[u'display_name', u'importance', u'place_id', u'lon', u'lat', u'osm_type', u'licence', u'osm_id', u'boundingbox', u'type', u'class']\n"
     ]
    }
   ],
   "source": [
    "dataDict = jsonObj[0]\n",
    "print dataDict.keys()"
   ]
  },
  {
   "cell_type": "markdown",
   "metadata": {},
   "source": [
    "Now we can easily grab the lat and lon objects from our response"
   ]
  },
  {
   "cell_type": "code",
   "execution_count": 38,
   "metadata": {},
   "outputs": [
    {
     "name": "stdout",
     "output_type": "stream",
     "text": [
      "36.0055806 -78.942014\n"
     ]
    }
   ],
   "source": [
    "lat = float(dataDict['lat'])\n",
    "lng = float(dataDict['lon'])\n",
    "print \"The lat,lng"
   ]
  },
  {
   "cell_type": "code",
   "execution_count": 37,
   "metadata": {},
   "outputs": [
    {
     "data": {
      "text/plain": [
       "(u'-78.942014', u'36.0055806')"
      ]
     },
     "execution_count": 37,
     "metadata": {},
     "output_type": "execute_result"
    }
   ],
   "source": [
    "d = jsonObj[0]\n",
    "d['lon'],d['lat']"
   ]
  },
  {
   "cell_type": "markdown",
   "metadata": {
    "collapsed": true
   },
   "source": [
    "Now let's inform the user of the result of the whole process..."
   ]
  },
  {
   "cell_type": "code",
   "execution_count": 41,
   "metadata": {},
   "outputs": [
    {
     "name": "stdout",
     "output_type": "stream",
     "text": [
      "The address 9 Circuit Drive, Durham, NC, 27708 is located at\n",
      "36.0055806° Lat, -78.942014° Lon\n"
     ]
    }
   ],
   "source": [
    "print \"The address {0} is located at\\n{1}° Lat, {2}° Lon\".format(address,lat,lng)"
   ]
  }
 ],
 "metadata": {
  "kernelspec": {
   "display_name": "Python 2",
   "language": "python",
   "name": "python2"
  },
  "language_info": {
   "codemirror_mode": {
    "name": "ipython",
    "version": 2
   },
   "file_extension": ".py",
   "mimetype": "text/x-python",
   "name": "python",
   "nbconvert_exporter": "python",
   "pygments_lexer": "ipython2",
   "version": "2.7.13"
  }
 },
 "nbformat": 4,
 "nbformat_minor": 2
}
