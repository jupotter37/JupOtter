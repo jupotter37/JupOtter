{
 "cells": [
  {
   "cell_type": "markdown",
   "metadata": {},
   "source": [
    "# Loads the sports data\n",
    "Run this script to load the data. Your job after loading the data is to make a 20 questions style game (see www.20q.net )\n",
    "\n",
    "This dataset is a list of 25 sports, each rated (by Stephen) with a yes/no answer to each of 13 questions\n",
    "Knowing the answers to all 13 questions uniquely identifies each sport. Can you do it in less than 13 questions? In fewer questions than the trained decision tree?"
   ]
  },
  {
   "cell_type": "markdown",
   "metadata": {},
   "source": [
    "## Read in the list of sports\n",
    "There should be 25 sports. We can print them out, so you know what the choices are"
   ]
  },
  {
   "cell_type": "code",
   "execution_count": 14,
   "metadata": {},
   "outputs": [
    {
     "name": "stdout",
     "output_type": "stream",
     "text": [
      "Sport # 0 is Diving\n",
      "Sport # 1 is Swimming\n",
      "Sport # 2 is Synchronized Swimming\n",
      "Sport # 3 is Water Polo\n",
      "Sport # 4 is Kayak\n",
      "Sport # 5 is Basketball\n",
      "Sport # 6 is Bicycling\n",
      "Sport # 7 is Speed skating\n",
      "Sport # 8 is Figure skating\n",
      "Sport # 9 is Gymnastics\n",
      "Sport # 10 is Volleyball\n",
      "Sport # 11 is Wrestling\n",
      "Sport # 12 is Track/running\n",
      "Sport # 13 is Baseball\n",
      "Sport # 14 is Boxing\n",
      "Sport # 15 is Fencing\n",
      "Sport # 16 is Field Hockey\n",
      "Sport # 17 is Football\n",
      "Sport # 18 is Golf\n",
      "Sport # 19 is Sailing\n",
      "Sport # 20 is Softball\n",
      "Sport # 21 is Ping pong\n",
      "Sport # 22 is Tennis\n",
      "Sport # 23 is Ice hockey\n",
      "Sport # 24 is Skiing\n",
      "The sport \" Speed skating \" has 0-based index 7\n"
     ]
    }
   ],
   "source": [
    "import csv\n",
    "sports = []  # This is a python \"list\" data structure (it is \"mutable\")\n",
    "# The file has a list of sports, one per line.\n",
    "# There are spaces in some names, but no commas or weird punctuation\n",
    "with open('data/SportsDataset_ListOfSports.csv','r') as csvfile:\n",
    "    myreader = csv.reader(csvfile)\n",
    "    for index, row in enumerate( myreader ):\n",
    "        sports.append(' '.join(row) ) # the join() call merges all fields\n",
    "# Make a look-up table: if you input the name of the sport, it tells you the index\n",
    "# Also, print out a list of all the sports, to make sure it looks OK\n",
    "Sport2Index = {}\n",
    "for ind, sprt in enumerate( sports ):\n",
    "    Sport2Index[sprt] = ind\n",
    "    print('Sport #', ind,'is',sprt)\n",
    "# And example usage of the index lookup:\n",
    "print('The sport \"', sports[7],'\" has 0-based index', Sport2Index[sports[7]])"
   ]
  },
  {
   "cell_type": "markdown",
   "metadata": {},
   "source": [
    "## Read in the list of questions/attributes\n",
    "There were 13 questions"
   ]
  },
  {
   "cell_type": "code",
   "execution_count": 18,
   "metadata": {},
   "outputs": [
    {
     "name": "stdout",
     "output_type": "stream",
     "text": [
      "Question # 0 :  Water Sport?\n",
      "Question # 1 :  Necessarily a team Sport?\n",
      "Question # 2 :  Ice involved?\n",
      "Question # 3 :  Snow involved? \n",
      "Question # 4 :  Head to head matches?\n",
      "Question # 5 :  Subjective scoring?\n",
      "Question # 6 :  Race of some sort?\n",
      "Question # 7 :  Is it always played outdoors?\n",
      "Question # 8 :  Does it help to be tall?\n",
      "Question # 9 :  Is there a goal or a hoop?\n",
      "Question # 10 :  Does each person have large equipment (bike, boat; NOT skates, skis, stick...)\n",
      "Question # 11 :  Does each participant have small gear like a racquet, stick, skates, skis, mitt, sword, etc.?\n",
      "Question # 12 :  Is there a ball bigger than a baseball used?\n",
      "The question \" Does each person have large equipment (bike, boat; NOT skates, skis, stick...) \" has 0-based index 10\n"
     ]
    }
   ],
   "source": [
    "# this csv file has only a single row\n",
    "questions = []\n",
    "with open('data/SportsDataset_ListOfAttributes.csv','r') as csvfile:\n",
    "    myreader = csv.reader( csvfile )\n",
    "    for row in myreader:\n",
    "        questions = row\n",
    "Question2Index = {}\n",
    "for ind, quest in enumerate( questions ):\n",
    "    Question2Index[quest] = ind\n",
    "    print('Question #', ind,': ',quest)\n",
    "# And example usage of the index lookup:\n",
    "print('The question \"', questions[10],'\" has 0-based index', Question2Index[questions[10]])"
   ]
  },
  {
   "cell_type": "markdown",
   "metadata": {},
   "source": [
    "## Read in the training data\n",
    "The columns of `X` correspond to questions, and rows correspond to more data.  The rows of `y` are the movie indices. The values of `X` are 1, -1 or 0 (see `YesNoDict` for encoding)"
   ]
  },
  {
   "cell_type": "code",
   "execution_count": 60,
   "metadata": {},
   "outputs": [],
   "source": [
    "YesNoDict = { \"Yes\": 1, \"No\": -1, \"Unsure\": 0, \"\": 0 }\n",
    "# Load from the csv file.\n",
    "# Note: the file only has \"1\"s, because blanks mean \"No\"\n",
    "\n",
    "X = []\n",
    "with open('data/SportsDataset_DataAttributes.csv','r') as csvfile:\n",
    "    myreader = csv.reader(csvfile)\n",
    "    for row in myreader:\n",
    "        data = [];\n",
    "        for col in row:\n",
    "            data.append( col or \"-1\")\n",
    "        X.append( list(map(int,data)) ) # integers, not strings\n",
    "\n",
    "# This data file is listed in the same order as the sports\n",
    "# The variable \"y\" contains the index of the sport\n",
    "y = range(len(sports)) # this doesn't work\n",
    "y = list( map(int,y) ) # Instead, we need to ask python to really enumerate it!"
   ]
  },
  {
   "cell_type": "markdown",
   "metadata": {},
   "source": [
    "# Your turn: train a decision tree classifier"
   ]
  },
  {
   "cell_type": "code",
   "execution_count": null,
   "metadata": {},
   "outputs": [],
   "source": [
    "from sklearn import tree\n",
    "# the rest is up to you"
   ]
  },
  {
   "cell_type": "markdown",
   "metadata": {},
   "source": [
    "# Use the trained classifier to play a 20 questions game"
   ]
  },
  {
   "cell_type": "markdown",
   "metadata": {},
   "source": [
    "You may want to use `from sklearn.tree import _tree` and 'tree.DecisionTreeClassifier' with commands like `tree_.children_left[node]`, `tree_.value[node]`, `tree_.feature[node]`, and `tree_.threshold[node]'."
   ]
  },
  {
   "cell_type": "code",
   "execution_count": null,
   "metadata": {},
   "outputs": [],
   "source": [
    "# up to you"
   ]
  }
 ],
 "metadata": {
  "kernelspec": {
   "display_name": "Python 3",
   "language": "python",
   "name": "python3"
  },
  "language_info": {
   "codemirror_mode": {
    "name": "ipython",
    "version": 3
   },
   "file_extension": ".py",
   "mimetype": "text/x-python",
   "name": "python",
   "nbconvert_exporter": "python",
   "pygments_lexer": "ipython3",
   "version": "3.7.0"
  }
 },
 "nbformat": 4,
 "nbformat_minor": 1
}
