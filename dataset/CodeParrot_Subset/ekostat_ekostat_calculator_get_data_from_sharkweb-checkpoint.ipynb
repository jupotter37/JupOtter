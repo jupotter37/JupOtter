{
 "cells": [
  {
   "cell_type": "markdown",
   "metadata": {},
   "source": [
    "# Get data from SHARKweb."
   ]
  },
  {
   "cell_type": "code",
   "execution_count": 1,
   "metadata": {},
   "outputs": [],
   "source": [
    "import requests\n",
    "import pathlib\n",
    "import urllib"
   ]
  },
  {
   "cell_type": "markdown",
   "metadata": {},
   "source": [
    "## SHARKweb class"
   ]
  },
  {
   "cell_type": "code",
   "execution_count": 2,
   "metadata": {},
   "outputs": [],
   "source": [
    "class SharkWebReader():\n",
    "    \"\"\" \"\"\"\n",
    "    def __init__(self, \n",
    "                 sharkweb_url='https://sharkweb.smhi.se',\n",
    "                 debug=False):\n",
    "        \"\"\" \"\"\"\n",
    "        self.sharkweb_url = sharkweb_url\n",
    "        self.debug = debug\n",
    "        self.clear()\n",
    "    \n",
    "    def clear(self):\n",
    "        \"\"\" \"\"\"\n",
    "        self.options = {}\n",
    "        self.location_options = {}\n",
    "        self.view_options = {}\n",
    "        self.data_params = {\n",
    "            # Time.\n",
    "            'year_from': '', \n",
    "            'year_to': '', \n",
    "            'month_list': [], \n",
    "            \n",
    "            # Position.\n",
    "            'bounds': '', \n",
    "            'county_list': [], # Example: ['Blekinge län', 'Kalmar län']\n",
    "            'municipality_list': [], \n",
    "            'water_district_list': [], \n",
    "            'svar_sea_area_list': [], \n",
    "            'water_category': [], \n",
    "            'type_area_list': [], \n",
    "            'sea_basin': [], \n",
    "            'helcom_ospar': [], \n",
    "            'economic_zone': [], \n",
    "            \n",
    "            # Standard search. \n",
    "            'datatype': '', \n",
    "            'parameter': '', \n",
    "            'station_name': '', \n",
    "            'station_name_option': '', \n",
    "            'taxon_name': '', \n",
    "            'taxon_name_option': '', \n",
    "            \n",
    "            # Advanced search.\n",
    "            'adv_datatype_list': '', \n",
    "            'adv_parameter_list': '', \n",
    "            'adv_deliverer_list': '', \n",
    "            'adv_orderer_list': '', \n",
    "            'adv_project_list': '', \n",
    "            'adv_dataset_name': '', \n",
    "            'adv_dataset_name_option': '', \n",
    "            'adv_check_status': '', \n",
    "            'adv_checked_by_list': '', \n",
    "            'adv_quality_flag_list': '', \n",
    "            'adv_min_depth': '', \n",
    "            'adv_max_depth': '', \n",
    "            'adv_red_list_category': '', \n",
    "            \n",
    "            # Selected columns.\n",
    "            'sample_table_view': 'sample_col_std', \n",
    "            \n",
    "            # Not used for data download.\n",
    "            # 'limit\"': '', \n",
    "            # 'db_read_offset': '', \n",
    "            \n",
    "            # File format.\n",
    "            'delimiters': 'point-tab', \n",
    "            'lineend': 'unix', \n",
    "            'encoding': 'utf-8', \n",
    "            'headerlang': 'internal', \n",
    "        }\n",
    "        self.data = None\n",
    "    \n",
    "    def set_data_params(self, data_params):\n",
    "        \"\"\" \"\"\"\n",
    "        self.data_params = data_params\n",
    "        \n",
    "    def get_data_params(self):\n",
    "        \"\"\" \"\"\"\n",
    "        return self.data_params\n",
    "    \n",
    "    def get_options(self):\n",
    "        \"\"\" \"\"\"\n",
    "        return self.options\n",
    "    \n",
    "    def get_view_options(self):\n",
    "        \"\"\" \"\"\"\n",
    "        return self.view_options\n",
    "    \n",
    "    def get_location_options(self):\n",
    "        \"\"\" \"\"\"\n",
    "        return self.location_options\n",
    "    \n",
    "    def read_options(self):\n",
    "        \"\"\" \"\"\"\n",
    "        url = self.sharkweb_url + '/shark_php.php?action=get_options'\n",
    "        r = requests.get(url)\n",
    "        self.options = r.json()\n",
    "        \n",
    "        if self.debug:\n",
    "            print('DEBUG: Status: ', r.status_code)\n",
    "            print('DEBUG: Header: ', r.headers['content-type'])\n",
    "            print('DEBUG: Encoding: ', r.encoding)\n",
    "\n",
    "    def read_view_options(self):\n",
    "        \"\"\" \"\"\"\n",
    "        url = self.sharkweb_url + '/shark_php.php?action=get_shark_settings&settings_key=sample_view_list_json'\n",
    "        r = requests.get(url)\n",
    "        self.view_options = r.text\n",
    "        \n",
    "        if self.debug:\n",
    "            print('DEBUG: Status: ', r.status_code)\n",
    "            print('DEBUG: Header: ', r.headers['content-type'])\n",
    "            print('DEBUG: Encoding: ', r.encoding)\n",
    "\n",
    "    def read_location_options(self):\n",
    "        \"\"\" \"\"\"\n",
    "        url = self.sharkweb_url + '/shark_php.php?action=get_location_options'\n",
    "        r = requests.get(url)\n",
    "        self.location_options = r.json()\n",
    "        \n",
    "        if self.debug:\n",
    "            print('DEBUG: Status: ', r.status_code)\n",
    "            print('DEBUG: Header: ', r.headers['content-type'])\n",
    "            print('DEBUG: Encoding: ', r.encoding)\n",
    "        \n",
    "    def read_data(self, data_params=None):\n",
    "        \"\"\" \"\"\"\n",
    "        url = self.sharkweb_url + '/shark_save.php?action=download_sample'\n",
    "        #\n",
    "        params = data_params\n",
    "        if params is None:\n",
    "            params = self.data_params\n",
    "            \n",
    "        # \n",
    "        self.encodeURIComponent(params, 'month_list')\n",
    "        self.encodeURIComponent(params, 'adv_datatype_list')\n",
    "        self.encodeURIComponent(params, 'adv_parameter_list')\n",
    "        self.encodeURIComponent(params, 'adv_deliverer_list')\n",
    "        self.encodeURIComponent(params, 'adv_orderer_list')\n",
    "        self.encodeURIComponent(params, 'adv_project_list')\n",
    "        self.encodeURIComponent(params, 'county_list')\n",
    "        self.encodeURIComponent(params, 'municipality_list')\n",
    "        self.encodeURIComponent(params, 'water_district_list')\n",
    "        self.encodeURIComponent(params, 'svar_sea_area_list')\n",
    "        self.encodeURIComponent(params, 'water_category')\n",
    "        self.encodeURIComponent(params, 'type_area_list')\n",
    "        self.encodeURIComponent(params, 'sea_basin')\n",
    "        self.encodeURIComponent(params, 'helcom_ospar')\n",
    "        self.encodeURIComponent(params, 'economic_zone')\n",
    "        # print(params)\n",
    "        \n",
    "        #\n",
    "        self.params = params\n",
    "        r = requests.get(url, params)\n",
    "        self.data = r.text\n",
    "        \n",
    "        if self.debug:\n",
    "            print('DEBUG: Status: ', r.status_code)\n",
    "            print('DEBUG: Header: ', r.headers['content-type'])\n",
    "            print('DEBUG: Encoding: ', r.encoding)\n",
    "    \n",
    "    def save_data(self, file_name='sharkweb_data.txt'):\n",
    "        \"\"\" \"\"\"\n",
    "        if self.data is None:\n",
    "            if self.debug:\n",
    "                print('DEBUG: No data available.')\n",
    "            return\n",
    "        #\n",
    "        file_path = pathlib.Path(file_name)\n",
    "        with file_path.open('w') as f:\n",
    "            f.write(self.data)\n",
    "    \n",
    "    def encodeURIComponent(self, params, key):\n",
    "        \"\"\" \"\"\"\n",
    "        string = '[or]'.join(params[key])\n",
    "        string = urllib.parse.quote(string, safe='~()*!.\\'\\\\')\n",
    "        params[key] = string\n"
   ]
  },
  {
   "cell_type": "code",
   "execution_count": null,
   "metadata": {},
   "outputs": [],
   "source": []
  },
  {
   "cell_type": "markdown",
   "metadata": {},
   "source": [
    "## Test"
   ]
  },
  {
   "cell_type": "code",
   "execution_count": 3,
   "metadata": {},
   "outputs": [],
   "source": [
    "#reader = SharkWebReader(sharkweb_url='http://localhost/w_sharkweb/p_sharkweb/sharkweb/public_html/sharkweb', \n",
    "#                        debug=True)\n",
    "reader = SharkWebReader(debug=True)"
   ]
  },
  {
   "cell_type": "code",
   "execution_count": 4,
   "metadata": {},
   "outputs": [],
   "source": [
    "data_params = reader.get_data_params()"
   ]
  },
  {
   "cell_type": "code",
   "execution_count": 5,
   "metadata": {},
   "outputs": [
    {
     "data": {
      "text/plain": [
       "{'adv_check_status': '',\n",
       " 'adv_checked_by_list': '',\n",
       " 'adv_dataset_name': '',\n",
       " 'adv_dataset_name_option': '',\n",
       " 'adv_datatype_list': '',\n",
       " 'adv_deliverer_list': '',\n",
       " 'adv_max_depth': '',\n",
       " 'adv_min_depth': '',\n",
       " 'adv_orderer_list': '',\n",
       " 'adv_parameter_list': '',\n",
       " 'adv_project_list': '',\n",
       " 'adv_quality_flag_list': '',\n",
       " 'adv_red_list_category': '',\n",
       " 'bounds': '',\n",
       " 'county_list': [],\n",
       " 'datatype': '',\n",
       " 'delimiters': 'point-tab',\n",
       " 'economic_zone': [],\n",
       " 'encoding': 'utf-8',\n",
       " 'headerlang': 'internal',\n",
       " 'helcom_ospar': [],\n",
       " 'lineend': 'unix',\n",
       " 'month_list': [],\n",
       " 'municipality_list': [],\n",
       " 'parameter': '',\n",
       " 'sample_table_view': 'sample_col_std',\n",
       " 'sea_basin': [],\n",
       " 'station_name': '',\n",
       " 'station_name_option': '',\n",
       " 'svar_sea_area_list': [],\n",
       " 'taxon_name': '',\n",
       " 'taxon_name_option': '',\n",
       " 'type_area_list': [],\n",
       " 'water_category': [],\n",
       " 'water_district_list': [],\n",
       " 'year_from': '',\n",
       " 'year_to': ''}"
      ]
     },
     "execution_count": 5,
     "metadata": {},
     "output_type": "execute_result"
    }
   ],
   "source": [
    "data_params"
   ]
  },
  {
   "cell_type": "code",
   "execution_count": 6,
   "metadata": {},
   "outputs": [],
   "source": [
    "data_params = reader.get_data_params()\n",
    "data_params['datatype'] = 'Harbour Porpoise'\n",
    "data_params['sample_table_view'] = 'sample_col_harbourporpoise'\n",
    "\n",
    "data_params['county_list'] = ['Blekinge län', 'Kalmar län']"
   ]
  },
  {
   "cell_type": "code",
   "execution_count": 7,
   "metadata": {},
   "outputs": [
    {
     "name": "stdout",
     "output_type": "stream",
     "text": [
      "DEBUG: Status:  200\n",
      "DEBUG: Header:  application/octet-stream; charset=utf-8\n",
      "DEBUG: Encoding:  utf-8\n"
     ]
    }
   ],
   "source": [
    "reader.read_data(data_params=data_params)"
   ]
  },
  {
   "cell_type": "code",
   "execution_count": 6,
   "metadata": {},
   "outputs": [],
   "source": [
    "reader.save_data()"
   ]
  },
  {
   "cell_type": "code",
   "execution_count": null,
   "metadata": {},
   "outputs": [],
   "source": []
  },
  {
   "cell_type": "code",
   "execution_count": 7,
   "metadata": {},
   "outputs": [
    {
     "name": "stdout",
     "output_type": "stream",
     "text": [
      "DEBUG: Status:  200\n",
      "DEBUG: Header:  application/json; charset=utf-8\n",
      "DEBUG: Encoding:  utf-8\n",
      "{'year_option': {'header': ['visit_year'], 'rows': [['2018'], ['2017'], ['2016'], ['2015'], ['2014'], ['2013'], ['2012'], ['2011'], ['2010'], ['2009'], ['2008'], ['2007'], ['2006'], ['2005'], ['2004'], ['2003'], ['2002'], ['2001'], ['2000'], ['1999'], ['1998'], ['1997'], ['1996'], ['1995'], ['1994'], ['1993'], ['1992'], ['1991'], ['1990'], ['1989'], ['1988'], ['1987'], ['1986'], ['1985'], ['1984'], ['1983'], ['1982'], ['1981'], ['1980'], ['1979'], ['1978'], ['1977'], ['1976'], ['1975'], ['1974'], ['1973'], ['1972'], ['1971'], ['1970'], ['1969'], ['1968'], ['1967'], ['1966'], ['1965'], ['1964'], ['1963'], ['1962'], ['1961'], ['1960'], ['1959'], ['1958'], ['1957'], ['1956'], ['1955'], ['1954'], ['1953'], ['1952'], ['1951'], ['1950'], ['1949'], ['1948'], ['1947'], ['1946'], ['1945'], ['1944'], ['1943'], ['1942'], ['1941'], ['1940'], ['1939'], ['1938'], ['1937'], ['1936'], ['1935'], ['1934'], ['1933'], ['1932'], ['1931'], ['1930'], ['1929'], ['1928'], ['1927'], ['1926'], ['1925'], ['1924'], ['1923'], ['1922'], ['1921'], ['1920'], ['1916'], ['1915'], ['1914'], ['1913'], ['1912'], ['1911'], ['1910'], ['1909'], ['1908'], ['1907'], ['1906'], ['1905'], ['1904'], ['1903'], ['1902'], ['1901'], ['1900'], ['1899'], ['1898'], ['1897'], ['1896'], ['1894'], ['1893'], ['    ']]}, 'datatype_option': {'header': ['sample_datatype'], 'rows': [['Bacterioplankton'], ['Chlorophyll'], ['Epibenthos'], ['Grey seal'], ['Harbour Porpoise'], ['Harbour seal'], ['Physical and Chemical'], ['Phytoplankton'], ['Picoplankton'], ['Primary production'], ['Ringed seal'], ['Seal pathology'], ['Sedimentation'], ['Zoobenthos'], ['Zooplankton']]}, 'parameter_option': {'header': ['parameter'], 'rows': [['Abundance'], ['Abundance class'], ['Adreno cort-hyperplasia class'], ['Age'], ['Alkalinity'], ['Alkalinity_2'], ['Aluminium'], ['Ammonium NH4-N'], ['Arteriosclerosis class'], ['Autolysis class'], ['Average shoot length'], ['Bacterial cell carbon content'], ['Bacterial cell volume'], ['Bacterial concentration'], ['Bacterial production'], ['Bare substrate cover'], ['Biovolume concentration'], ['Blubber thickness'], ['Body length'], ['Body weigth'], ['Bottom water dissolved oxygen'], ['Bottom water oxygen saturation'], ['Bottom water salinity'], ['Bottom water temperature'], ['Boulder cover'], ['BQIm'], ['Calculated # counted'], ['Carbon concentration'], ['Carbon content'], ['Carbon prod in light'], ['Carbon production'], ['Carbon production/day'], ['Carbon production/hour'], ['Carbon production in darkness'], ['Chlorophyll-a'], ['Chlorophyll-a bottle'], ['Claw lesions class'], ['Colored dissolved organic matter CDOM'], ['Conductivity_25 bottle'], ['Conductivity CTD'], ['# counted'], ['Cover'], ['Cover (%)'], ['Cover class'], ['Cover class filamentous algae'], ['Cronic cholangiohepatitis'], ['Current direction'], ['Current velocity'], ['Debris cover'], ['Density in covered area'], ['Depth distribution (max depth)'], ['Dissolved oxygen'], ['Dissolved oxygen O2 bottle'], ['Dissolved oxygen O2 CTD'], ['Dissovled organic carbon DOC'], ['Dry weight'], ['Gravel cover'], ['H2S smell'], ['Hard clay cover'], ['Humus'], ['Hydrogen sulphide H2S'], ['Intestinal ulcer class'], ['Length (mean)'], ['Length (median)'], ['Lignin'], ['Loss of ignition'], ['Max shoot length'], ['Min shoot length'], ['Net carbon prod_prod-resp'], ['Nitrate NO3-N'], ['Nitrite+Nitrate NO2+NO3-N'], ['Nitrite NO2-N'], ['Non-quantified observation'], ['No species found.'], ['No species in sample'], ['Observed species'], ['PAR at sampling depth'], ['Particulate organic carbon POC'], ['Particulate org nitrogen PON'], ['pH'], ['pH Laboratory'], ['Phosphate PO4-P'], ['Pneumonia'], ['Porpoise positive minute'], ['Porpoise positive minutes'], ['Pressure CTD'], ['# pups counted on land'], ['Redox potential'], ['Regional skin changes class'], ['Rhizome biomass'], ['Rhizome juice sugar content'], ['Rock cover'], ['Salinity'], ['Salinity bottle'], ['Salinity CTD'], ['Sand cover'], ['Secchi depth'], ['Sedimentation Al-fraction'], ['Sedimentation C-fraction'], ['Sedimentation Fe-fraction'], ['Sedimentation Mg-fraction'], ['Sedimentation Mn-fraction'], ['Sedimentation N-fraction'], ['Sedimentation P-fraction'], ['Sedimentation rate (dw)'], ['Sedimentation Si-fraction'], ['Sediment colour'], ['Sediment colour code'], ['Sediment depos cover (class)'], ['Sediment deposition cover (%)'], ['Sediment dry weight content'], ['Sediment nitrogen content'], ['Sediment phosphorus content'], ['Sediment redox potential'], ['Sediment water content'], ['Shoot biomass'], ['Shoot density'], ['Silicate SiO3-Si'], ['Silt soft clay cover'], ['Species distribution max depth'], ['Species distribution min depth'], ['Stone cover'], ['Substrate specific cover'], ['Temperature'], ['Temperature bottle'], ['Temperature CTD'], ['Temperature pH Laboratory'], ['Total CO2'], ['Total # counted in water'], ['Total # counted on land'], ['Total cover of all species (%)'], ['Total Nitrogen Tot-N'], ['Total organic carbon TOC'], ['Total phosphorus Tot-P'], ['Turbidity'], ['Unidentified algae cover'], ['Urea'], ['Uterus pregnant'], ['Uterus stenosis occlusion'], ['Uterus tumour'], ['Wet weight'], ['Wet weight/area'], ['Wet weight/volume'], ['Yellow substance']]}, 'deliverer_option': {'header': ['reporting_institute_name'], 'rows': [[''], ['Alcontrol AB'], ['AquaBiota'], ['Blekingekustens vattenvårdsförbund'], ['Bohuskustens vattenvårdsförbund'], ['Calluna AB'], ['Danish Centre for Environment and Energy'], ['Fiskeriverket'], ['Fiskeriverket Havsfiskelaboratoriet'], ['Fiskeriverket Kustfiskelaboratoriet'], ['Göteborgs kommun'], ['Göteborgs universitet'], ['Hafok AB'], ['Helsingsborgs miljöförvaltning'], ['Linnéuniversitetet'], ['Litoralis Natur AB'], ['Lunds Universitet'], ['Länsstyrelsen Blekinge'], ['Länsstyrelsen Gotland'], ['Länsstyrelsen Gävleborg'], ['Länsstyrelsen Halland'], ['Länsstyrelsen Norrbotten'], ['Länsstyrelsen ospecificerad'], ['Länsstyrelsen Skåne'], ['Länsstyrelsen Stockholm'], ['Länsstyrelsen Södermanland'], ['Länsstyrelsen Uppsala'], ['Länsstyrelsen Västerbotten'], ['Länsstyrelsen Västernorrland'], ['Länsstyrelsen Västra Götaland'], ['Länsstyrelsen Östergötland'], ['Marine Monitoring AB'], ['Marin Miljöanalys AB'], ['Medins Havs och Vattenkonsulter'], ['Naturhistoriska riksmuseet'], ['Naturvatten i Roslagen AB'], ['Ospecificerat'], ['PAG Miljöundersökningar'], ['Pelagia Miljökonsult AB'], ['Stockholms universitet'], ['Stockholms universitets marina forskningscentrum'], ['Stockholm Vatten AB'], ['SWECO'], ['Sven Lovén centrum för marina vetenskaper-Kristineberg'], ['Sven Lovén centrum för marina vetenskaper-Tjärnö'], ['Svensk Ekologiskonsult AB'], ['Sveriges lantbruksuniversitet'], ['Sveriges lantbruksuniversitet - Havsfiskelaboratoriet'], ['Sveriges lantbruksuniversitet Institutionen för akvatiska resurser'], ['Sveriges meteorologiska och hydrologiska institut\\xa0'], ['Sveriges Vattenekologer AB'], ['Sydkustens vattenvårdsförbund'], ['Toxicon AB'], ['Umeå Universitet'], ['WEAQ AB'], ['Öresunds vattenvårdsförbund']]}, 'project_option': {'header': ['lookup_project'], 'rows': [['-'], ['HIST Bornö hängbro'], ['HIST Fyrskepp'], ['HIST Havsfiskelaboratoriet Lysekil'], ['NAT Algövervakning'], ['NAT Atlanto Scandian Herring'], ['NAT Baltic International Acoustic Surveys BIAS'], ['NAT Baltic International Trawl Survey BITS'], ['NAT Gavik KKP'], ['NAT GOV kalibrering Argos Ancylus'], ['NAT International Bottom Trawl Survey IBTS'], ['NAT International Young Fish Survey IYFS'], ['NAT Nationell BasVerksamhet'], ['NAT Nationell miljöövervakning'], ['NAT Nationell miljöövervakning extra provtagning'], ['NAT SYKEs BasVerksamhet'], ['NAT Östersjöns övervakningsprogram'], ['PROJ Alsbäck forskningsdata'], ['PROJ Automatisk Kasun Boj'], ['PROJ Baltic Open Sea Experiment'], ['PROJ Bank kartering vindkraft'], ['PROJ Basinventering'], ['PROJ Bottenhavet pelagisk verifikation'], ['PROJ Bottenviken pelagial mätkampanj'], ['PROJ Bottenviken pelagisk verifikation'], ['PROJ Bottniska viken året'], ['PROJ Brofjorden'], ['PROJ Byfjorden BOX'], ['PROJ DIAMIX'], ['PROJ Eg östersjön pelagial mätkampanj'], ['PROJ Enningsdalsälven INTERREG'], ['PROJ Ferrybox Transpaper'], ['PROJ Gotland pelagial mätkampanj'], ['PROJ Gotlands grunda vikar'], ['PROJ Grunda vikar'], ['PROJ Göteborg säkrare farled'], ['PROJ HABILE'], ['PROJ Inventering Gävleborg'], ['PROJ Inventering ROV Koster-Väderöfjorden'], ['PROJ JERICO'], ['PROJ Kartering Hoburgs bank'], ['PROJ Kartering rev sandbankar Skåne'], ['PROJ Laholm eutrophication project'], ['PROJ Levande kust Baltic2020'], ['PROJ Läsö sektion'], ['PROJ Marin Modellering Stockholm Södermanland'], ['PROJ Marin Naturvärdes kartering'], ['PROJ MARMONI'], ['PROJ Nya varvet'], ['PROJ Ospecificerat'], ['PROJ Patchiness experiment PEX'], ['PROJ PMK_Programmet_för_Miljökontroll'], ['PROJ Råneåfjärden KK BDlän'], ['PROJ Skagerrak närsaltstransport'], ['PROJ SKAGEX'], ['PROJ Slussen'], ['PROJ Svenska Offentliga Data'], ['PROJ Transp sec hansth Kristand'], ['PROJ Utsjöbanksinventeringen'], ['PROJ WATERS'], ['PROJ Östergötland Inre Kärrö'], ['REG Blekinge SRK'], ['REG Bohuskustens extra vårprovtagning'], ['REG Bohuskustens grunda vikar'], ['REG Bohuskustens KKP SRK'], ['REG Bohuskustens KKP SRK fjordmodell 96'], ['REG Bohuskustens KKP SRK götaälv extremflöde'], ['REG Boliden RK'], ['REG Bottniska viken'], ['REG Bureå RK'], ['REG Byske RK'], ['REG Dalälven SRK'], ['REG Domsjö RK'], ['REG Edsvikens miljökontrollprogram'], ['REG Elleholm RK'], ['REG Figeholm RK'], ['REG Fiskodling Kalmar RK'], ['REG Fiskodling Omne Ullånger Nätrafjärden RK'], ['REG Forsmark RK'], ['REG Gotland'], ['REG Gullmarns KP'], ['REG Gästriklands kustvatten SRK'], ['REG Gästriklands kustvatten SRK pelagisk verifikation'], ['REG Gävleborgs län'], ['REG Halland Lilla Middelgrund'], ['REG Hallands KVK'], ['REG Hallands län'], ['REG Halland Vendelsöarna'], ['REG Hallsta RK'], ['REG Helsingborg KKP'], ['REG Holmen'], ['REG Holmöreservatet'], ['REG Husum RK'], ['REG Hörnefors RK'], ['REG Iggesund RK'], ['REG Kalmar KVK'], ['REG Kalmar län'], ['REG Kungsbackafjorden'], ['REG Kåge RK'], ['REG Marum och Ösbyfjärden'], ['REG Motala ströms SRK'], ['REG Mätkampanj'], ['REG Nedre ångermanälven SRK'], ['REG Nordmalingsfjärden SRK'], ['REG Nordvästskånes kustvattenkommitté SRK'], ['REG Nordöstra Hälsinglands kustvatten SRK'], ['REG Norrbottenskusten Kalix SRK'], ['REG Norrbottenskusten Luleå SRK'], ['REG Norrbottenskusten Piteå SRK'], ['REG Norrbottens län'], ['REG Norrsundetsbruk RK'], ['REG Norrtäljes kommun RK'], ['REG Ospecificerat'], ['REG Skatan RK'], ['REG Skellefteälven SRK'], ['REG Stockholms län'], ['REG Stockholm vatten SRK'], ['REG Sundsvallsbuktens SRK'], ['REG Svealands KKP synoptiska karteringar'], ['REG Sydkustens SRK'], ['REG Södermanlands län'], ['REG Södra Hälsinglands kustvatten SRK'], ['REG Sölvesborgs hamn deponering RK'], ['REG Täby kommun RK'], ['REG Täfteå RK'], ['REG Ume och Vindelälvens SRK'], ['REG Vindkraft Lillgrund RK'], ['REG Väröbruk RK'], ['REG Västernorrlands län'], ['REG Västra Hanöbukten SRK'], ['REG Öresunds vattenvårdsförbund SRK'], ['REG Östergötlands län'], ['REG Östhammars kommun RK']]}, 'orderer_option': {'header': ['lookup_orderer'], 'rows': [['-'], ['ABB'], ['Airicole AB'], ['Artdatabanken'], ['BalticSea2020'], ['Billerud Karlsborg AB'], ['Blekingekustens vattenvårdsförbund'], ['Bohuskustens vattenvårdsförbund'], ['Boliden Group'], ['Borgholms kommun'], ['Dalälvens vattenvårdsförbund'], ['Domsjö fabriker AB'], ['Edsviken vattensamverkan'], ['Ekologigruppen AB'], ['Europeiska kommisionen LIFE programmet'], ['Finlands miljöcentral'], ['Fiskeriverket'], ['Fiskeriverket Havsfiskelaboratoriet'], ['Fiskeriverket Kustfiskelaboratoriet'], ['Forskningsdata'], ['Forsmarks kraftgrupp AB'], ['Föreningen Nenningesund'], ['Gästriklands vattenvårdsförbund'], ['Göteborgs kommun'], ['Göteborgs universitet'], ['Haninge kommun'], ['Havs- och vattenmyndigheten'], ['Helsingsborgs miljöförvaltning'], ['Holmen Paper'], ['Intresseföreningen för Nordöstra Hälsinglands SRK'], ['Kalix kommun'], ['Kalmar kommun'], ['Kalmar läns kustvattenkommitté'], ['Karlshamns hamn AB'], ['Karlskrona kommun'], ['Kristianstads kommun'], ['Kungliga Vetenskapsakademin'], ['Ljusnan-Voxnans vattenvårdsförbund'], ['Ljusterö vatten och fiskevårdsförening'], ['Länsstyrelsen Blekinge'], ['Länsstyrelsen Gotland'], ['Länsstyrelsen Gävleborg'], ['Länsstyrelsen Halland'], ['Länsstyrelsen Kalmar'], ['Länsstyrelsen Norrbotten'], ['Länsstyrelsen ospecificerad'], ['Länsstyrelsen Skåne'], ['Länsstyrelsen Stockholm'], ['Länsstyrelsen Södermanland'], ['Länsstyrelsen Uppsala'], ['Länsstyrelsen Västerbotten'], ['Länsstyrelsen Västernorrland'], ['Länsstyrelsen Västra Götaland'], ['Länsstyrelsen Östergötland'], ['Länstyrelsen Västra Götaland och Bohusläns vattenvårdsförbund'], ['Metsä Board Sverige AB'], ['Motala Ströms vattenvårdsförbund'], ['Mönsterås kommun'], ['Nacka kommun'], ['Naturvårdsverket'], ['Naturvårdsverket Kustlaboratorium\\xa0'], ['Nordmalings kommun'], ['Nordvästskånes kustvattenkommitté'], ['Norrköpings kommun'], ['Norrtälje Energi'], ['Norrtälje kommun'], ['Nynäshamns kommun'], ['Oskarshamns kommun'], ['Oskarshamns Kraftgrupp AB'], ['Ospecificerat'], ['Piteå Renhållning och Vatten AB'], ['Ringhals AB kärnkraftverk'], ['SCA Packaging'], ['Schweden Splitt AB'], ['Smurfit Kappa Kraftliner AB'], ['Sollentuna kommun'], ['SSAB'], ['Stockholms stad'], ['Stockholms universitet'], ['Stockholm Vatten AB'], ['Sundsvallsbuktens vattenvårdsförening'], ['Svealands kustvattenvårdsförbund'], ['Svensk Kärnbränslehantering AB'], ['Sveriges meteorologiska och hydrologiska institut\\xa0'], ['Sydkustens vattenvårdsförbund'], ['Södra Cell Värö massafabrik'], ['Sölvesborgs kommun'], ['TYRÉNS'], ['Täby kommun'], ['Ume- och Vindelälvens vattenvårdsförbund'], ['Umeå Universitet'], ['WATERS'], ['Vattenfall'], ['Vattenmyndigheten i Bottenviken'], ['Vattenvårdsförbundet för västra Hanöbukten'], ['Veolia'], ['WSP Environmental'], ['Västerviks kommun'], ['Ålands Fiskförädling AB'], ['Öresundsbrokonsortiet'], ['Öresunds vattenvårdsförbund']]}, 'check_status_option': {'header': ['check_status'], 'rows': [['Klar'], ['Pågående-SMHI']]}, 'quality_flag_option': {'header': ['quality_flag'], 'rows': [[''], ['<'], ['>'], ['?'], ['0'], ['1'], ['A'], ['B'], ['Blank'], ['D'], ['E'], ['I'], ['R'], ['S'], ['Z']]}, 'red_list_category_option': {'header': ['taxon_red_list_category'], 'rows': [[''], ['Akut hotad (CR)'], ['Ej rödlistad'], ['Kunskapsbrist (DD)'], ['Nära hotad (NT)'], ['Starkt hotad (EN)'], ['Sårbar (VU)']]}}\n"
     ]
    }
   ],
   "source": [
    "reader.read_options()\n",
    "options = reader.get_options()\n",
    "print(options)"
   ]
  },
  {
   "cell_type": "code",
   "execution_count": null,
   "metadata": {},
   "outputs": [],
   "source": []
  },
  {
   "cell_type": "code",
   "execution_count": 8,
   "metadata": {},
   "outputs": [
    {
     "name": "stdout",
     "output_type": "stream",
     "text": [
      "DEBUG: Status:  200\n",
      "DEBUG: Header:  application/json; charset=utf-8\n",
      "DEBUG: Encoding:  utf-8\n",
      "[{\"value\":\"sample_col_std\",\"text\":\"Tabell: Översikt\"},{\"value\":\"sample_col_all\",\"text\":\"Tabell: Alla\"},{\"value\":\"sample_col_physicalchemical\",\"text\":\"Tabell: Fysik/kemi\"},{\"value\":\"sample_col_physicalchemical_columnparams\",\"text\":\"Tabell: Fysik/kemi, kolumner\"},{\"value\":\"sample_col_bacterioplankton\",\"text\":\"Tabell: Bacterioplankton\"},{\"value\":\"sample_col_chlorophyll\",\"text\":\"Tabell: Chlorophyll\"},{\"value\":\"sample_col_epibenthos\",\"text\":\"Tabell: Epibenthos\"},{\"value\":\"sample_col_epibenthos_dropvideo\",\"text\":\"Tabell: Epibenthos-dropvideo\"},{\"value\":\"sample_col_greyseal\",\"text\":\"Tabell: Greyseal\"},{\"value\":\"sample_col_harbourseal\",\"text\":\"Tabell: Harbourseal\"},{\"value\":\"sample_col_harbourporpoise\",\"text\":\"Tabell: Harbourporpoise\"},{\"value\":\"sample_col_phytoplankton\",\"text\":\"Tabell: Phytoplankton\"},{\"value\":\"sample_col_picoplankton\",\"text\":\"Tabell: Picoplankton\"},{\"value\":\"sample_col_primaryproduction\",\"text\":\"Tabell: Primaryproduction\"},{\"value\":\"sample_col_ringedseal\",\"text\":\"Tabell: Ringedseal\"},{\"value\":\"sample_col_sealpathology\",\"text\":\"Tabell: Sealpathology\"},{\"value\":\"sample_col_sedimentation\",\"text\":\"Tabell: Sedimentation\"},{\"value\":\"sample_col_zoobenthos\",\"text\":\"Tabell: Zoobenthos\"},{\"value\":\"sample_col_zooplankton\",\"text\":\"Tabell: Zooplankton\"},{\"value\":\"sample_sum_1\",\"text\":\"Rapport: Summa per år och parameter\"},{\"value\":\"sample_sum\",\"text\":\"Rapport: Summa per år, parameter och taxon\"},{\"value\":\"sample_rep_1\",\"text\":\"Rapport: Provtagning per station\"},{\"value\":\"sample_rep_2\",\"text\":\"Rapport: Observerade arter\"},{\"value\":\"sample_rep_4\",\"text\":\"Rapport: Stationer\"},{\"value\":\"sample_rep_5\",\"text\":\"Rapport: Arter\"},{\"value\":\"graph_std\",\"text\":\"Diagram: Standard\"},{\"value\":\"graph_depth\",\"text\":\"Diagram: Djupintervall\"},{\"value\":\"graph_sum\",\"text\":\"Diagram: Summa/dag\"},{\"value\":\"graph_mean\",\"text\":\"Diagram: Medelvärde/dag\"}]\n"
     ]
    }
   ],
   "source": [
    "reader.read_view_options()\n",
    "view_options = reader.get_view_options()\n",
    "print(view_options)"
   ]
  },
  {
   "cell_type": "code",
   "execution_count": null,
   "metadata": {},
   "outputs": [],
   "source": []
  },
  {
   "cell_type": "code",
   "execution_count": 9,
   "metadata": {},
   "outputs": [
    {
     "name": "stdout",
     "output_type": "stream",
     "text": [
      "DEBUG: Status:  200\n",
      "DEBUG: Header:  application/json; charset=utf-8\n",
      "DEBUG: Encoding:  utf-8\n",
      "{'county_option': {'header': ['location_county'], 'rows': [['-'], ['Blekinge län'], ['Gotlands län'], ['Gävleborgs län'], ['Hallands län'], ['Jämtlands län'], ['Jönköpings län'], ['Kalmar län'], ['Norrbottens län'], ['Skåne län'], ['Stockholms län'], ['Södermanlands län'], ['Uppsala län'], ['Utanför gränser'], ['Västerbottens län'], ['Västernorrlands län'], ['Västra Götalands län'], ['Östergötlands län']]}, 'municipality_option': {'header': ['location_municipality'], 'rows': [['-'], ['Berg'], ['Borgholm'], ['Botkyrka'], ['Bromölla'], ['Bräcke'], ['Båstad'], ['Danderyd'], ['Ekerö'], ['Falkenberg'], ['Gislaved'], ['Gotland'], ['Gullspång'], ['Gävle'], ['Göteborg'], ['Halmstad'], ['Haninge'], ['Haparanda'], ['Helsingborg'], ['Hudiksvall'], ['Härnösand'], ['Höganäs'], ['Jönköping'], ['Kalix'], ['Kalmar'], ['Karlshamn'], ['Karlskrona'], ['Kramfors'], ['Kristianstad'], ['Kungsbacka'], ['Kungälv'], ['Kävlinge'], ['Laholm'], ['Landskrona'], ['Lidingö'], ['Linköping'], ['Lomma'], ['Luleå'], ['Lysekil'], ['Malmö'], ['Malå'], ['Mark'], ['Munkedal'], ['Mönsterås'], ['Mörbylånga'], ['Nacka'], ['Nordanstig'], ['Nordmaling'], ['Norrköping'], ['Norrtälje'], ['Nyköping'], ['Nynäshamn'], ['Orust'], ['Oskarshamn'], ['Oxelösund'], ['Piteå'], ['Ragunda'], ['Robertsfors'], ['Ronneby'], ['Simrishamn'], ['Skellefteå'], ['Skurup'], ['Sollefteå'], ['Sollentuna'], ['Solna'], ['Sotenäs'], ['Stenungsund'], ['Stockholm'], ['Strömstad'], ['Sundsvall'], ['Sävsjö'], ['Söderhamn'], ['Söderköping'], ['Södertälje'], ['Sölvesborg'], ['Tanum'], ['Tierp'], ['Timrå'], ['Tjörn'], ['Torsås'], ['Trelleborg'], ['Trosa'], ['Tyresö'], ['Täby'], ['Uddevalla'], ['Umeå'], ['Uppsala'], ['Utanför gränser'], ['Valdemarsvik'], ['Varberg'], ['Vaxholm'], ['Vellinge'], ['Vännäs'], ['Värmdö'], ['Värnamo'], ['Västervik'], ['Ystad'], ['Älvkarleby'], ['Ängelholm'], ['Öckerö'], ['Örnsköldsvik'], ['Österåker'], ['Östhammar']]}, 'water_district_option': {'header': ['location_water_district'], 'rows': [['-'], ['Bottenhavets vattendistrikt'], ['Bottenvikens vattendistrikt'], ['Norra Östersjöns vattendistrikt'], ['Södra Östersjöns vattendistrikt'], ['Västerhavets vattendistrikt']]}, 'svar_sea_area_option': {'header': ['location_svar_sea_area_code', 'location_svar_sea_area_name'], 'rows': [['-', '-'], ['613500-172500', 'Agöfjärden sek namn'], ['575920-191650', 'Ajkesvik'], ['622500-172430', 'Alnösundet'], ['582820-165920', 'Arköfjärden sek namn'], ['583000-165600', 'Arkösund'], ['560750-152500', 'Arpöfjärden sek namn'], ['574500-164500', 'Asken'], ['580500-114725', 'Askeröfjorden'], ['573500-115150', 'Askims fjord'], ['592290-181600', 'Askrikefjärden'], ['584870-174310', 'Asköfjärden'], ['584215-170800', 'Aspafjärden'], ['573860-115000', 'Asperöfjorden sek namn'], ['582600-165680', 'Aspöfjärden'], ['610100-171245', 'Axmarfjärden'], ['591760-181955', 'Baggensfjärden'], ['651800-214740', 'Baggholmsdraget'], ['570900-121060', 'Balgöarkipelagen'], ['652465-214080', 'Bastafjärden'], ['652855-224000', 'Bastaskärsfjärden'], ['575430-163640', 'Bergholmsfjärden'], ['656840-222800', 'Bergnäsfjärden'], ['593750-183962', 'Bergshamraviken'], ['654291-224000', 'Bergöfjärden'], ['584333-172895', 'Bergöområdet'], ['590665-184210', 'Biskopsfjärden'], ['642950-213400', 'Bjuröfjärden'], ['592000-190500', 'Björkskärsfjärden'], ['574370-114250', 'Björköfjorden'], ['594800-190220', 'Björköfjärden'], ['621265-173125', 'Björköfjärden'], ['729849-180191', 'Björköfjärden'], ['591400-183200', 'Björnöfjärden'], ['593820-185500', 'Blidösund'], ['654640-233190', 'Bodöfjärden'], ['640066-167754', 'Bogevik'], ['560895-145975', 'Boköfjärden'], ['625900-174360', 'Bollstafjärden'], ['651075-213700', 'Bondöfjärden'], ['581520-113750', 'Borgilefjorden'], ['572565-164000', 'Borholmsfjärden'], ['583370-165290', 'Bosöfjärden sek namn'], ['582850-111760', 'Bottnefjorden'], ['644730-210650', 'Boviksfjärden'], ['591500-185300', 'Brandfjärden'], ['622384-147046', 'Bredasund'], ['591755-183895', 'Breviken'], ['582150-112530', 'Brofjorden'], ['658507-162696', 'Brunnsviken'], ['583121-171401', 'Bråvikens kustvatten'], ['652385-214180', 'Brändöfjärden'], ['573797-114618', 'Brännö- Styrsöområdet'], ['591175-185000', 'Bulleröfjärden'], ['643700-211940', 'Burefjärden'], ['570270-181160', 'Burgsviken'], ['650460-213400', 'Bursfjärden'], ['582000-115270', 'Byfjorden'], ['645500-212000', 'Byskefjärden'], ['654110-224850', 'Båtöfjärden'], ['631346-184241', 'Bäckfjärden'], ['643160-212730', 'Bäckfjärden'], ['654490-220870', 'Börstskärsfjärden'], ['574000-114230', 'Dana fjord'], ['561000-153320', 'Danmarksfjärden'], ['634040-193330', 'Degerfjärden'], ['653140-224000', 'Degeröfjärden'], ['631460-185000', 'Dekarsöfjärden'], ['551617-133102', 'Del av Arkonahavets utsjövatten'], ['555851-160709', 'Del av Bornholmshavets utsjövatten'], ['603634-183531', 'Del av Bottenhavets utsjövatten'], ['620333-175418', 'Del av Bottenhavets utsjövatten'], ['650320-220650', 'Del av Bottenvikens utsjövatten'], ['555420-145140', 'Del av Hanöbuktens utsjövatten'], ['591454-192215', 'Del av N Gotlandshavets utsjövatten'], ['582950-192156', 'Del av N Gotlandshavets utsjövatten'], ['570714-115613', 'Del av n Kattegatts utsjövatten'], ['634223-210932', 'Del av N n Kvarkens utsjövatten'], ['595913-190752', 'Del av N Ålands havs utsjövatten'], ['582008-105731', 'Del av Skagerraks utsjövatten'], ['570714-115613', 'Del av s Kattegatts utsjövatten'], ['632213-201821', 'Del av S n Kvarkens utsjövatten'], ['594211-193824', 'Del av S Ålands havs utsjövatten'], ['615085-130626', 'Del av S Öresunds utsjövatten'], ['580109-171030', 'Del av V Gotlandshavets utsjövatten'], ['583649-180707', 'Del av V Gotlandshavets utsjövatten'], ['574755-181120', 'Del av V Gotlandshavets utsjövatten'], ['573224-190746', 'Del av Ö Gotlandshavets utsjövatten'], ['560290-154710', 'Djupfjärden sek namn'], ['630180-182080', 'Dockstafjärden'], ['622126-172430', 'Draget'], ['584960-175280', 'Dragfjärden sek namn'], ['584400-172270', 'Dragviksfjärden'], ['585990-111125', 'Dynekilen'], ['600740-183460', 'Edeboviken'], ['659024-162417', 'Edsviken'], ['662116-166449', 'Edsviken'], ['625416-182696', 'Edsätterfjärden'], ['591905-185275', 'Eknösundet'], ['581120-112680', 'Ellösefjorden'], ['570500-163750', 'Emområdet sek namn'], ['653870-235570', 'Enskärsfjärden'], ['613240-171000', 'Enångersfjärden'], ['575782-165143', 'Erskärområdet sek namn'], ['654860-219880', 'Ersnäsfjärden'], ['591400-182320', 'Erstaviken'], ['585200-174000', 'Fifångsdjupet'], ['572000-163835', 'Figeholmsområdets kustvatten'], ['581820-165500', 'Finnfjärden'], ['653900-223280', 'Fjuksöfjärden'], ['583710-111535', 'Fjällbacka inre skärgård'], ['583625-111300', 'Fjällbacka yttre skärgård'], ['636570-203590', 'Fjärdgrundsområdet sek namn'], ['580890-165500', 'Flisdjupet'], ['585200-173600', 'Fågelöfjärden'], ['572205-163500', 'Fågelöfjärden'], ['590500-182000', 'Fåglaröfjärden sek namn'], ['585345-174950', 'Fållnäsviken'], ['580150-191251', 'Fårö n kustvatten'], ['575150-190400', 'Fårösund'], ['575300-191801', 'Fårö sö kustvatten'], ['582630-113515', 'Färlevfjorden'], ['601000-183510', 'Galtfjärden'], ['570850-182920', 'Gansviken'], ['625180-181655', 'Gaviksfjärden'], ['652686-221500', 'Germandöfjärden'], ['591790-185500', 'Getholmsfjärden sek namn'], ['585040-173535', 'Gillsviken'], ['592500-191750', 'Gillögafjärden'], ['575880-164000', 'Gisslöfjärden sek namn'], ['575675-185101', 'Gotlands n kustvatten'], ['574520-182151', 'Gotlands nv kustvatten'], ['582350-191651', 'Gotskasandöns n kustvatten'], ['582200-191201', 'Gotskasandöns v kustvatten'], ['594250-191040', 'Granhamnsfjärden'], ['572650-164000', 'Granholmsfjärden'], ['572110-170620', 'Grankullaviken'], ['656620-222480', 'Granöfjärden'], ['584030-111400', 'Grebbestad inre skärgård'], ['591815-182670', 'Grisslingen'], ['582000-164145', 'Gropviken'], ['580950-170601', 'Gryts skärgårds kustvatten'], ['591050-182740', 'Gränöfjärden'], ['594000-190500', 'Gräsköfjärden'], ['624800-181030', 'Grönsviksfjärden'], ['573885-163740', 'Grönvållsfjärden'], ['575000-163620', 'Gudingen'], ['581700-113000', 'Gullmarn centralbassäng'], ['631710-188130', 'Gullviksfjärden sek namn'], ['641250-210560', 'Gumbodafjärden'], ['584820-172920', 'Gunnarbofjärden'], ['584600-173200', 'Gupafjärden'], ['654470-222700', 'Gussöfjärden'], ['613760-171000', 'Gårdsfjärden'], ['585145-175690', 'Gårdsfjärden'], ['560500-154435', 'Gåsefjärden'], ['573500-163500', 'Gåsfjärden'], ['602400-183190', 'Gällfjärden'], ['593080-184500', 'Gälnan'], ['585400-173870', 'Gälöfjärden'], ['604200-174400', 'Gävlebuktens utsjövatten'], ['574931-113131', 'Göteborgs n n skärgårds kustvatten'], ['574160-113351', 'Göteborgs n skärgårds kustvatten'], ['573300-113801', 'Göteborgs s skärgårds kustvatten'], ['582420-111370', 'Haby bukt'], ['575700-114240', 'Hake fjord'], ['591150-113700', 'Halden'], ['560795-154730', 'Hallarumsviken'], ['590740-174135', 'Hallsfjärden'], ['580688-114860', 'Halsefjorden'], ['580735-165296', 'Halsöfjärden'], ['583160-111551', 'Hamburgsundsområdet'], ['605390-171558', 'Hamnskär'], ['654150-240380', 'Hamnskärsfjärden'], ['590000-183000', 'Hanstensfjärden'], ['654560-246250', 'Haparandafjärden sek namn'], ['651940-213930', 'Haraholmsfjärden'], ['601070-182870', 'Hargsviken'], ['604675-172125', 'Harkskärsfjärden'], ['652500-213500', 'Harrbäcksfjärden'], ['583906-170998', 'Hasselöområdet'], ['631406-185500', 'Havsfjärden sek namn'], ['594845-191240', 'Havssvalget'], ['581740-114820', 'Havstensfjorden'], ['562290-124131', 'Helsingborgsområdet'], ['624335-180000', 'Hemsösundet sek namn'], ['581240-165220', 'Hesselöfjärden'], ['604900-171700', 'Hilleviksfjärden'], ['590000-174400', 'Himmerfjärden'], ['653303-222900', 'Hindersöfjärden'], ['575760-112671', 'Hjärteröfjorden'], ['652475-215750', 'Holfjärden'], ['634210-202020', 'Holmsund'], ['590385-180890', 'Horsfjärden'], ['563770-161670', 'Hossmoviken'], ['582210-111880', 'Hovenäset området'], ['614165-171500', 'Hudiksvallsfjärden'], ['582665-111706', 'Hunnebostrand skärgård'], ['658436-162998', 'Husarviken'], ['631840-191130', 'Husumbukten'], ['652250-213430', 'Håkansöfjärden'], ['585075-173130', 'Hållsviken'], ['613380-171450', 'Hålsängesfjärden'], ['581660-165710', 'Håsköfjärden sek namn'], ['560740-152650', 'Hästholmsfjärden'], ['593000-193000', 'Högfjärden'], ['552800-125430', 'Höllviken'], ['635660-199490', 'Hörnefors området sek namn'], ['631646-185280', 'Idbyfjärden'], ['590860-113810', 'Idefjorden'], ['574205-164500', 'Idöfjärden'], ['590990-174015', 'Igelstaviken'], ['605140-171674', 'Iggösundet'], ['591300-182800', 'Ingaröfjärden'], ['583926-161744', 'Inre Bråviken'], ['651818-212790', 'Inrefjärden'], ['604055-171248', 'Inre Fjärden'], ['575150-162700', 'Inre Gamlebyviken'], ['590020-114520', 'Inre Idefjorden'], ['572472-120302', 'Inre Kungsbackafjorden'], ['645000-212100', 'Inre Kågefjärden'], ['729159-179002', 'Inre Lulefjärden'], ['641840-211540', 'Inre Lövselefjärden'], ['571552-162848', 'Inre Oskarshamnsområdet'], ['560825-144215', 'Inre Pukaviksbukten'], ['590900-112300', 'Inre Singlefjorden'], ['582705-163350', 'Inre Slätbaken'], ['585200-111140', 'Inre Tjärnöarkipelagen'], ['624380-176450', 'Inre Tynderösundet'], ['581000-164020', 'Inre Valdemarsviken'], ['584045-170882', 'Inre Ålöfjärden'], ['634350-202000', 'Inre Österfjärden'], ['575170-183550', 'Irevik'], ['590835-183000', 'Jungfrufjärden'], ['622900-174790', 'Juniskär-Bergsfjärden'], ['561000-150390', 'Järnavikafjärden sek namn'], ['600920-183090', 'Järsjöviken'], ['650750-213500', 'Jävrefjärden'], ['580000-164060', 'Kaggebofjärden'], ['590550-174540', 'Kaggfjärden'], ['591330-184225', 'Kalkkobbsfjärden'], ['602120-181610', 'Kallriga Fjärden'], ['593000-190500', 'Kallskärsfjärden'], ['591280-182070', 'Kalvfjärden'], ['581540-114000', 'Kalvöfjord'], ['580610-113615', 'Kalvöfjorden'], ['592000-184700', 'Kanholmsfjärden'], ['594340-190448', 'Kapellskärs hamnområde'], ['594350-190530', 'Kapellskärsområdet'], ['575480-184830', 'Kappelshamnsviken'], ['603190-174000', 'Karlholmsfjärden'], ['560900-145280', 'Karlshamnsfjärden'], ['601440-184000', 'Kasfjärden sek namn'], ['654130-249500', 'Katajafjärden'], ['650280-213110', 'Kinnbäcksfjärden'], ['622860-173000', 'Klingerfjärden'], ['572350-180930', 'Klintehamnsviken sek namn'], ['571240-121000', 'Klosterfjorden'], ['575747-113237', 'Klädesholmenområdet'], ['653840-247900', 'Knivskärsfjärden'], ['593180-191280', 'Kobbfjärden'], ['581260-113220', 'Koljö fjord'], ['591745-182250', 'Kolström'], ['584840-175400', 'Konabbsfjärden'], ['581960-164890', 'Korsfjärden'], ['584340-174401', 'Krabbfjärden'], ['625500-175153', 'Kramforsfjärden sek namn'], ['580338-112901', 'Kråke fjord'], ['584390-172085', 'Kråkfjärden'], ['573322-115478', 'Kräklingeområdet'], ['583720-172571', 'Kränkfjärden sek namn'], ['581800-170000', 'Kullskärsdjupet'], ['582302-111451', 'Kungshamn n skärgård'], ['582147-111771', 'Kungshamn s skärgård'], ['610500-171586', 'Kusöfjärden sek namn'], ['580205-165162', 'Kvädöfjärden'], ['572227-115662', 'Kyrkefjälls sund'], ['592600-181135', 'Kyrkfjärden'], ['575480-191200', 'Kyrkviken'], ['645000-213500', 'Kågefjärden'], ['561000-152500', 'Kålfjärden'], ['560385-154500', 'Kållafjärden'], ['575335-165000', 'Kåröområdet'], ['574630-113940', 'Källö fjord'], ['580550-112460', 'Käringöfjorden'], ['582050-165820', 'Kärrfjärden'], ['582070-164820', 'Lagnöströmmen'], ['563330-124600', 'Laholmsbukten'], ['563000-123351', 'Laholmsbuktens kustvatten'], ['555685-142290', 'Landöbukten sek namn'], ['571800-184300', 'Lausvik'], ['580375-164500', 'Licknevarpefjärden'], ['658352-163189', 'Lilla Värtan'], ['634950-202940', 'Lillfjärden'], ['592547-182720', 'Lindalssundet'], ['581975-164500', 'Lindensfjärden'], ['580000-164500', 'Lindödjupet'], ['584725-111050', 'Lindöfjorden sek namn'], ['581260-115280', 'Ljungs kile'], ['583896-170790', 'Ljungskärsflagen'], ['611213-171063', 'Ljusnefjärden'], ['554040-125750', 'Lommabukten'], ['621720-175130', 'Lubban'], ['554810-125240', 'Lundåkrabukten'], ['574440-164160', 'Lusärnafjärden'], ['561080-153835', 'Lyckebyfjärden'], ['594260-185580', 'Långfjärden'], ['612791-171130', 'Långvindsfjärden'], ['593330-192540', 'Lökharfjärden'], ['573972-164250', 'Lökholmsdjupet'], ['582630-165210', 'Lönshuvudfjärden'], ['603650-174500', 'Lövstabukten'], ['565800-163000', 'Lövöområdet sek namn'], ['553757-130820', 'Malmö hamnområde'], ['652400-220070', 'Mannöfjärden'], ['575340-113000', 'Marstrandsfjorden'], ['583970-170280', 'Marsviken'], ['560950-145810', 'Matviksfjärden'], ['580500-111801', 'M Bohusläns skärgårds kustvatten'], ['636150-199220', 'Megrundsområdet'], ['584435-170450', 'Mellanfjärden'], ['622011-146303', 'Mellersta Blekinge skärgårds kustvatten'], ['583825-163500', 'Mellersta Bråviken'], ['560740-144375', 'Mellersta Pukaviksbukten'], ['582600-163810', 'Merumsfjärden'], ['611766-171305', 'Midsommarfjärden'], ['573500-164660', 'Misterhults skärgårds inre kustvatten'], ['573150-165001', 'Misterhults skärgårds kustvatten'], ['630383-183500', 'Mjältöfjärden sek namn'], ['601204-182670', 'Mjölkfjärden'], ['584200-105901', 'M n Bohusläns skärgårds kustvatten'], ['565400-163600', 'M n Kalmarsunds utsjövatten'], ['580240-112501', 'Mollöfjorden'], ['583721-161110', 'Motala Ström'], ['656300-222750', 'Mulöviken'], ['562050-160820', 'M v s Kalmarsunds kustvatten'], ['585797-181090', 'Mysingen'], ['655120-220380', 'Måttsundsfjärden'], ['592090-185125', 'Möja söderfjärd'], ['592500-185000', 'Möja västerfjärd'], ['570080-163430', 'Mönsteråsområdet sek namn'], ['655180-218660', 'Möröfjärden'], ['633400-195000', 'N Bottenhavets kustvatten'], ['657608-164193', 'Neglingeviken'], ['630210-187470', 'N Höga kustens kustvatten'], ['613591-171000', 'Njutångersfjärden'], ['585400-110400', 'N Kosterfjorden'], ['580765-112501', 'n Käringöfjorden inre skärgård'], ['594800-190655', 'N Lidöfjärden sek namn'], ['584400-116000', 'n Långebyområdet'], ['619690-175690', 'N M Bottenhavets kustvatten'], ['649640-214530', 'N m Bottenvikens kustvatten'], ['570000-120701', 'N m Hallands kustvatten'], ['555545-124332', 'N m Öresunds kustvatten'], ['585660-112590', 'N n Bohusläns skärgårds kustvatten'], ['591760-105425', 'N n Bohusläns skärgårds kustvatten'], ['570900-164501', 'N n Kalmarsunds utsjövatten'], ['635300-205251', 'N n Kvarkens kustvatten'], ['625000-180075', 'Norafjärden'], ['633043-193300', 'Nordmalingsfjärden'], ['574650-114360', 'Nordre Älvs fjord'], ['601190-182870', 'Norra Hargsviken'], ['623810-180350', 'Norra sundet'], ['592468-182000', 'Norra Vaxholmsfjärden'], ['652400-223501', 'Norrbottens skärgårds kustvatten'], ['630203-182615', 'Norrfjärden'], ['601300-184180', 'Norrfjärden'], ['590730-183763', 'Norrfjärden'], ['593300-183600', 'Norrfjärden sek namn'], ['605760-171000', 'Norrsundet'], ['594670-185500', 'Norrtäljeviken'], ['590148-183625', 'Norstensfjärden'], ['654330-222200', 'N. Sigfridsöfjärden'], ['612520-172080', 'N S M Bottenhavets kustvatten'], ['563100-161500', 'N v s Kalmarsunds kustvatten'], ['585170-175445', 'Nynäsviken'], ['593860-192000', 'Nåtfjärden'], ['591200-183600', 'Nämdöfjärden'], ['630760-183315', 'Näskefjärden'], ['590400-174090', 'Näslandsfjärden'], ['630685-184305', 'Nätrafjärden'], ['593500-191660', 'Nö Kobbfjärden sek namn'], ['570000-170351', 'N Ölands kustvatten'], ['652000-213210', 'Nördfjärden'], ['561030-122821', 'N Öresunds kustvatten'], ['631450-185200', 'Nötbolandsfjärden'], ['625710-183000', 'Omnefjärden'], ['572540-114801', 'Onsala kustvatten'], ['593000-192000', 'Ormskärsfjärden sek namn'], ['581520-165000', 'Orren'], ['600565-184600', 'Ortalaviken'], ['571450-163320', 'Oskarshamnsområdet'], ['635040-204196', 'Ostnäsfjärden'], ['583960-170700', 'Oxelösunds hamnområde'], ['583718-161687', 'Pampusfjärden'], ['565460-163000', 'Pataholmsviken'], ['658180-166649', 'Prästmaren'], ['633846-154163', 'Påskallavikområdet'], ['601310-183700', 'Raggaröfjärden'], ['637070-204260', 'Raggavaviken'], ['624870-175500', 'Ramöfjärden sek namn'], ['654500-232000', 'Repskärsfjärden'], ['582590-165000', 'Rimmöfjärden sek namn'], ['584420-172515', 'Ringsöfjärden sek namn'], ['631500-190270', 'Risöfjärden'], ['584227-171600', 'Risöområdet sek namn'], ['573044-115355', 'Risö-Säröarkipelagen'], ['574050-114780', 'Rivö fjord'], ['560940-151740', 'Ronnebyfjärden'], ['575095-164630', 'Rågödjupet'], ['654820-222660', 'Rånefjärden'], ['654570-225230', 'Rånöfjärden'], ['584890-110950', 'Råssö-Resöfjorden sek namn'], ['652150-213000', 'Rävahavet'], ['591910-185600', 'Rödkobbsfjärden'], ['622080-176120', 'Salen'], ['582500-113890', 'Saltkällefjorden'], ['581748-112411', 'Saltö fjord'], ['611600-171500', 'Sandarnesfjärden sek namn'], ['590635-182120', 'Sandemars fjärd sek namn'], ['581815-164320', 'Sandfjärden'], ['652450-222116', 'Sandgrönnfjärden'], ['552670-142281', 'Sandhammaren-Simrishamn'], ['560895-145500', 'Sandviksfjärden'], ['645670-214290', 'Sandvikssundet'], ['653176-222000', 'Sandöfjärden'], ['592280-183550', 'Sandöfjärden'], ['632760-191300', 'Sannafjärden'], ['584450-111445', 'Sannäsfjorden sek namn'], ['641250-211751', 'S Bottenvikens kustvatten'], ['654575-234250', 'Seskaröfjärden'], ['623890-178030', 'S Höga kustens kustvatten'], ['654990-224540', 'Siknäsfjärden'], ['604028-171724', 'Sikvik'], ['583875-170270', 'Sillöfjärden'], ['643920-211500', 'Simpan'], ['572500-164500', 'Simpevarpsområdet'], ['590670-111380', 'Singlefjorden'], ['601000-184030', 'Singöfjärden'], ['613500-171000', 'Siviksfjärden'], ['584430-170665', 'Sjösafjärden'], ['592400-184400', 'Skagsfjärden'], ['561400-161201', 'S Kalmarsunds utsjövatten'], ['593460-184890', 'Skatfjärden'], ['646360-213700', 'Skelleftebukten'], ['644070-211650', 'Skelleftehamnsfjärden'], ['574560-163950', 'Skeppsbrofjärden sek namn'], ['584905-172980', 'Skettnefjärden'], ['654360-235780', 'Skomakarfjärden'], ['584695-175315', 'S Konabbsfjärden sek namn'], ['585100-110600', 'S Kosterfjorden'], ['591800-181360', 'Skurusundet'], ['604250-173000', 'Skutskärsfjärden sek namn'], ['562000-123800', 'Skälderviken'], ['562450-122751', 'Skäldervikens kustvatten'], ['573500-163900', 'Skälöfjärden'], ['580025-113168', 'Skärhamnområdet'], ['612303-171075', 'Skärsåfjärden sek namn'], ['573100-115580', 'Skörvallaviken'], ['570200-182500', 'Slesviken'], ['584363-110971', 's Långebyområdet'], ['647050-213980', 'S m Bottenvikens kustvatten'], ['564500-122601', 'S m Hallands kustvatten'], ['575060-164170', 'Smågöfjärden'], ['554500-125001', 'S m Öresunds kustvatten'], ['564250-162500', 'S n Kalmarsund'], ['633550-200700', 'S n Kvarkens kustvatten'], ['581365-112910', 'Snäckedjupet'], ['592245-184400', 'Sollenkrokafjärden'], ['592315-182620', 'Solöfjärden'], ['582700-110451', 'Sotefjorden'], ['560900-151260', 'Spjälköområdet'], ['654100-234100', 'S. Seskaröfjärden sek namn'], ['654000-222430', 'S. Sigfridsöfjärden'], ['605660-172380', 'S S M Bottenhavets kustvatten'], ['584434-170260', 'Stadsfjärden'], ['572980-115576', 'Stallviken'], ['581900-171101', 'St Anna skärgårds kustvatten'], ['590200-173765', 'Stavbofjärden'], ['593500-193255', 'Stenfjärden'], ['580325-113500', 'Stigfjorden'], ['592100-192001', 'Stockholms skärgårds m kustvatten'], ['595000-191501', 'Stockholms skärgårds n n'], ['585350-182001', 'Stockholms skärgårds s kustvatten'], ['594000-193501', 'Stockholms skärgårds s n'], ['573860-164725', 'Stora Hökhallen'], ['574330-114000', 'Stora Kalvsund'], ['592400-180800', 'Stora Värtan'], ['652066-214400', 'Storfjärden'], ['624615-180500', 'Storfjärden'], ['654416-230000', 'Storöfjärden'], ['584750-111185', 'Stridsfjorden'], ['591920-180800', 'Strömmen'], ['585600-110880', 'Strömstadsfjorden'], ['573547-114617', 'Styrsö- Vrångöområdet'], ['561480-148220', 'Stärnö Sandvik'], ['623300-176210', 'Sundsvallsbukten'], ['622339-172190', 'Sundsvallsfjärden'], ['593500-190000', 'Svartlögafjärden'], ['622000-172300', 'Svartviksfjärden'], ['652020-211930', 'Svensbyfjärden'], ['583730-162500', 'Svensksundsviken'], ['560700-155801', 'S v s Kalmarsunds kustvatten'], ['585000-174600', 'Svärdsfjärden'], ['575670-163500', 'Syrsan'], ['592600-181600', 'Säbyvik'], ['574870-113795', 'Sälö fjord'], ['594200-192000', 'Söderarms skärgård'], ['611676-171000', 'Söderhamnsfjärden'], ['623340-175556', 'Södra Sundet'], ['592420-182210', 'Södra Vaxholmsfjärden'], ['562410-164001', 'S Ölands kustvatten'], ['560205-143545', 'Sölvesborgsviken'], ['652920-222650', 'Sörbrändöfjärden'], ['552500-124461', 'S Öresunds kustvatten'], ['644040-211260', 'Sörfjärden'], ['628750-183300', 'Sörleviken'], ['570730-163715', 'Taktöområdet sek namn'], ['592400-181860', 'Tallaröfjärden'], ['584670-111300', 'Tanumskilen'], ['637640-204160', 'Tavlefjärden'], ['632090-189470', 'Tennviken'], ['654200-222920', 'Tistersöfjärden'], ['594590-190600', 'Tjocköfjärden'], ['561005-150250', 'Tjäröfjärden'], ['560500-154880', 'Torhamnsfjärden'], ['654240-241500', 'Torniofjärden sek namn'], ['574750-164500', 'Torröfjärden sek namn'], ['592135-182700', 'Torsbyfjärden'], ['555950-142740', 'Tostebergabukten'], ['591655-183200', 'Tranaröfjärden'], ['585200-173430', 'Trosafjärden'], ['581853-112736', 'Trälebergskile'], ['592605-182310', 'Trälhavet'], ['582460-164500', 'Trännöfjärden'], ['592640-184500', 'Träsköfjärden'], ['581740-170260', 'Turmulefjärden'], ['584520-172495', 'Tvären'], ['634740-203020', 'Täftefjärden'], ['560790-145850', 'Tärnöfjärden sek namn'], ['655260-224280', 'Törefjärden'], ['593760-192625', 'Uddjupet'], ['630000-183500', 'Ullångersfjärden'], ['632670-190860', 'Ultråfjärden'], ['644150-211000', 'Ursviksfjärden'], ['574083-164115', 'Uvöfjärden'], ['580380-170001', 'Valdemarsviks kustvatten'], ['560200-143175', 'Valjeviken'], ['611000-171500', 'Vallviksfjärden sek namn'], ['651475-214300', 'Vargödraget'], ['572072-115880', 'Varren'], ['574160-163610', 'Verkebäcksviken'], ['572000-180001', 'V Gotlands m kustvatten'], ['570450-180651', 'V Gotlands s kustvatten'], ['554800-142001', 'V Hanöbuktens kustvatten'], ['593920-191440', 'Vidingefjärden'], ['560930-150810', 'Vierydfjorden'], ['591090-182300', 'Vissvassfjärden'], ['573865-164160', 'Vistingsdjupet'], ['575370-164220', 'Vivassen'], ['553730-128890', 'V sydkustens kustvatten'], ['591655-183530', 'Våmfjärden'], ['657412-164249', 'Vårgärdssjön'], ['595730-185850', 'Väddö kustvatten'], ['583450-110750', 'Väderöfjorden'], ['571720-120640', 'Vändelsöarkipelagen'], ['641000-210500', 'Vändskärsfjärden'], ['652830-222116', 'Västantillfjärden'], ['634230-201605', 'Västerfjärden'], ['574450-165451', 'Västerviks kustvatten'], ['621688-144133', 'Västra Blekinge skärgårds kustvatten'], ['560775-153055', 'Västra fjärden'], ['592650-182815', 'Västra Saxarfjärden'], ['563825-161810', 'Västra sjön'], ['573940-163560', 'Västrumsfjärden'], ['595000-185600', 'Vätösundet'], ['634640-203710', 'Ytterbodafjärden'], ['644030-218500', 'Ytterviksfjärden'], ['581280-170070', 'Ytteröområdet'], ['621920-175280', 'Yttre Björköfjärden'], ['582000-112350', 'Yttre Brofjorden'], ['583730-164501', 'Yttre Bråviken'], ['651500-213108', 'Yttrefjärden'], ['673283-158060', 'Yttre Fjärden'], ['574820-163550', 'Yttre Gamlebyviken'], ['628480-183070', 'Yttre Gaviksfjärden'], ['572135-120141', 'Yttre Kungsbackafjorden'], ['728806-179329', 'Yttre Lulefjärden'], ['641720-211520', 'Yttre Lövselefjärden'], ['632690-193500', 'Yttre Nordmalingfjärden'], ['561150-147620', 'Yttre Pukaviksbukten'], ['560780-153500', 'Yttre redden'], ['637310-204860', 'Yttre Täftefjärden'], ['580585-164720', 'Yttre Valdemarsviken'], ['634110-201920', 'Yttre Österfjärden'], ['593750-184900', 'Yxlaområdet'], ['582230-112255', 'Åbyfjorden'], ['645950-212650', 'Åbyfjärden'], ['594384-185542', 'Åkeröfjärden'], ['594100-185690', 'Ålandsfjärden sek namn'], ['583755-163200', 'Ållonöfjärden'], ['584067-171125', 'Ålöfjärden'], ['591050-182320', 'Åvaviken'], ['622795-174565', 'Åvikebukten'], ['632030-187600', 'Åvikfjärden'], ['623980-175600', 'Älandsfjärden'], ['575500-113750', 'Älgöfjorden'], ['592040-184000', 'Älgöfjärden'], ['591160-182400', 'Ällmorafjärden'], ['632090-190370', 'Ällöviken'], ['601660-183550', 'Ängsfjärden sek namn'], ['572810-164500', 'Ärnöområdet sek namn'], ['572308-115550', 'Öckerösund'], ['570340-163710', 'Ödänglaområdet sek namn'], ['573200-185701', 'Ö Gotlands m kustvatten'], ['574170-190001', 'Ö Gotlands n kustvatten'], ['571000-184001', 'Ö Gotlands s kustvatten'], ['633000-195000', 'Örefjärden'], ['603000-181500', 'Öregrundsgrepen'], ['603870-181301', 'Öregrunds kustvatten'], ['631610-184500', 'Örnsköldsviksfjärden'], ['584085-171600', 'Örsbaken'], ['562000-162271', 'Ö s Kalmarsunds kustvatten'], ['636910-204040', 'Österlångslädan'], ['601300-182880', 'Östhammarfjärden sek namn'], ['601020-185050', 'Östhammars kustvatten'], ['621157-148904', 'Östra Blekinge skärgårds kustvatten'], ['560810-153980', 'Östra fjärden'], ['592790-183000', 'Östra Saxarfjärden'], ['560850-150580', 'Östre fjorden'], ['552170-130626', 'Ö sydkustens kustvatten'], ['592575-181770', 'Överbyfjärden']]}, 'water_category_option': {'header': ['location_water_category'], 'rows': [['-'], ['1 - Estuarie (övergångsvatten)'], ['2 - Havsområde innanför 1 NM'], ['3 - Havsområde  mellan 1 NM och 12 NM'], ['4 - Utsjövatten']]}, 'type_area_option': {'header': ['location_type_area'], 'rows': [['-'], ['01n - Västkustens inre kustvatten'], ['01s - Västkustens inre kustvatten'], ['02 - Västkustens fjordar'], ['03 - Västkustens yttre kustvatten. Skagerrak'], ['04 - Västkustens yttre kustvatten. Kattegatt'], ['05 - Södra Hallands och norra Öresunds kustvatten'], ['06 - Öresunds kustvatten'], ['07 - Skånes kustvatten'], ['08 - Blekinge skärgård och Kalmarsund. Inre kustvatten'], ['09 - Blekinge skärgård och Kalmarsund. Yttre kustvatten'], ['10 - Ölands och Gotlands kustvatten'], ['11 - Gotlands nordvästra kustvatten'], ['12n - Östergötlands och Stockholms skärgård. Mellankustvatten'], ['12s - Östergötlands och Stockholms skärgård. Mellankustvatten'], ['13 - Östergötlands inre kustvatten'], ['14 - Östergötlands yttre kustvatten'], ['15 - Stockholms skärgård. Yttre kustvatten'], ['16 - Södra Bottenhavet. Inre kustvatten'], ['17 - Södra Bottenhavet. Yttre kustvatten'], ['18 - Norra Bottenhavet. Höga kusten. Inre kustvatten'], ['19 - Norra Bottenhavet. Höga kusten. Yttre kustvatten'], ['20 - Norra Kvarkens inre kustvatten'], ['21 - Norra Kvarkens yttre kustvatten'], ['22 - Norra Bottenviken. Inre kustvatten'], ['23 - Norra Bottenviken. Yttre kustvatten'], ['24 - Stockholms inre skärgård och Hallsfjärden'], ['25 - Göta älvs- och Nordre älvs estuarie']]}, 'sea_basin_option': {'header': ['location_sea_basin'], 'rows': [['-'], ['Arkonahavet och S Öresund'], ['Bornholmshavet och Hanöbukten'], ['Bottenhavet'], ['Bottenviken'], ['N Gotlandshavet'], ['N Kattegatt'], ['N Kvarken'], ['Skagerrak'], ['S Kattegatt'], ['V Gotlandshavet'], ['Ålands hav'], ['Ö Gotlandshavet'], ['Öresund']]}, 'economic_zone_option': {'header': ['location_economic_zone'], 'rows': [['-'], ['Svensk ekonomisk zon']]}}\n"
     ]
    }
   ],
   "source": [
    "reader.read_location_options()\n",
    "location_options = reader.get_location_options()\n",
    "print(location_options)"
   ]
  },
  {
   "cell_type": "code",
   "execution_count": null,
   "metadata": {},
   "outputs": [],
   "source": []
  }
 ],
 "metadata": {
  "kernelspec": {
   "display_name": "Python 3",
   "language": "python",
   "name": "python3"
  },
  "language_info": {
   "codemirror_mode": {
    "name": "ipython",
    "version": 3
   },
   "file_extension": ".py",
   "mimetype": "text/x-python",
   "name": "python",
   "nbconvert_exporter": "python",
   "pygments_lexer": "ipython3",
   "version": "3.6.1"
  }
 },
 "nbformat": 4,
 "nbformat_minor": 2
}
