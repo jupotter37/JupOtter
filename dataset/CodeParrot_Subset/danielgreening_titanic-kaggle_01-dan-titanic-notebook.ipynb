{
 "cells": [
  {
   "cell_type": "markdown",
   "metadata": {},
   "source": [
    "# Titanic: Machine Learning from Disaster | Kaggle \n",
    "\n",
    "This is a jupyter notebook exploring the [Kaggle Titanic competition](https://www.kaggle.com/c/titanic). My first proper attempt using this format so expect bad formatting :-). \n"
   ]
  },
  {
   "cell_type": "markdown",
   "metadata": {},
   "source": [
    "## Contents\n",
    "- Environment \n",
    "- Importing Data\n",
    "- Exploring the Data\n"
   ]
  },
  {
   "cell_type": "markdown",
   "metadata": {
    "collapsed": true
   },
   "source": [
    "## The Environment\n",
    "Nothing that special as it stands, everything you would expect in a python data project! Currently making use of the following libraries for analysis and plots:\n",
    "\n"
   ]
  },
  {
   "cell_type": "code",
   "execution_count": 1,
   "metadata": {},
   "outputs": [],
   "source": [
    "import pandas as pd # for data manipulation\n",
    "import matplotlib.pyplot as plt # for visulatisation "
   ]
  }
 ],
 "metadata": {
  "kernelspec": {
   "display_name": "Python 3",
   "language": "python",
   "name": "python3"
  },
  "language_info": {
   "codemirror_mode": {
    "name": "ipython",
    "version": 3
   },
   "file_extension": ".py",
   "mimetype": "text/x-python",
   "name": "python",
   "nbconvert_exporter": "python",
   "pygments_lexer": "ipython3",
   "version": "3.5.2"
  }
 },
 "nbformat": 4,
 "nbformat_minor": 2
}
