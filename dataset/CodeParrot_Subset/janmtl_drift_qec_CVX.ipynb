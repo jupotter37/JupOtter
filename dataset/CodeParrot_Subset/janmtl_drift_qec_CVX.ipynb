{
 "cells": [
  {
   "cell_type": "code",
   "execution_count": 1,
   "metadata": {
    "collapsed": false
   },
   "outputs": [
    {
     "name": "stderr",
     "output_type": "stream",
     "text": [
      "/Users/yan/.miniconda/lib/python2.7/site-packages/matplotlib/__init__.py:872: UserWarning: axes.color_cycle is deprecated and replaced with axes.prop_cycle; please use the latter.\n",
      "  warnings.warn(self.msg_depr % (key, alt_key))\n"
     ]
    }
   ],
   "source": [
    "%load_ext autoreload\n",
    "%autoreload 2\n",
    "%matplotlib inline\n",
    "\n",
    "from matplotlib import pyplot as plt\n",
    "from cvxopt import matrix, solvers\n",
    "solvers.options['show_progress'] = False\n",
    "import numpy as np\n",
    "import pandas as pd\n",
    "import scipy as sp\n",
    "import seaborn as sns\n",
    "np.set_printoptions(precision=3, linewidth=120)\n",
    "from copy import copy\n",
    "from tqdm import *\n",
    "from drift_qec.Q import *"
   ]
  },
  {
   "cell_type": "code",
   "execution_count": 9,
   "metadata": {
    "collapsed": false
   },
   "outputs": [],
   "source": [
    "matrix?"
   ]
  },
  {
   "cell_type": "code",
   "execution_count": 3,
   "metadata": {
    "collapsed": true
   },
   "outputs": [],
   "source": [
    "D = 0.01\n",
    "channel = Channel(kx=0.7, ky=0.2, kz=0.1,\n",
    "                  Q=np.linalg.qr(np.random.randn(3,3))[0],\n",
    "                  n=1e3, d1=D, d2=D, d3=D)\n",
    "data = channel.sample_data()"
   ]
  },
  {
   "cell_type": "code",
   "execution_count": 55,
   "metadata": {
    "collapsed": true
   },
   "outputs": [],
   "source": [
    "L = SENSOR(D,D,D)\n",
    "Ld = L[:, [0, 3, 5]]\n",
    "m11, m22, m33 = list(np.dot(np.dot(np.linalg.inv(np.dot(Ld.T, Ld)), Ld.T), data))\n",
    "m12 = (0.5*(m11-m22)*np.cos(2.0*D) - 0.5*(data[0]-data[1])) / np.sin(2.0*D)\n",
    "m13 = (0.5*(m11-m33)*np.cos(2.0*D) - 0.5*(data[3]-data[5])) / np.sin(2.0*D)\n",
    "m23 = (0.5*(m22-m33)*np.cos(2.0*D) - 0.5*(data[7]-data[8])) / np.sin(2.0*D)\n",
    "b = np.array([[m12 ** 2 / np.sqrt(m22 * m33)],\n",
    "              [m13 ** 2 / np.sqrt(m11 * m33)],\n",
    "              [m23 ** 2 / np.sqrt(m11 * m22)]])\n",
    "x = b / np.linalg.norm(b)\n",
    "x = np.array([np.sqrt(x[0] * np.sqrt(m22 * m33)),\n",
    "              np.sqrt(x[1] * np.sqrt(m11 * m33)),\n",
    "              np.sqrt(x[2] * np.sqrt(m11 * m22))])\n",
    "x = x.T[0]\n",
    "\n",
    "x = np.sign([m12, m13, m23]).T * x\n",
    "Mhat = np.array([\n",
    "        [ m11, x[0], x[1]],\n",
    "        [x[0],  m22, x[2]],\n",
    "        [x[1], x[2], m33]\n",
    "    ])"
   ]
  },
  {
   "cell_type": "code",
   "execution_count": 59,
   "metadata": {
    "collapsed": false
   },
   "outputs": [
    {
     "data": {
      "text/plain": [
       "array([[ 0.467,  0.489, -0.349],\n",
       "       [ 0.489,  0.18 ,  0.168],\n",
       "       [-0.349,  0.168,  0.353]])"
      ]
     },
     "execution_count": 59,
     "metadata": {},
     "output_type": "execute_result"
    }
   ],
   "source": [
    "Mhat"
   ]
  },
  {
   "cell_type": "code",
   "execution_count": 60,
   "metadata": {
    "collapsed": false
   },
   "outputs": [
    {
     "data": {
      "text/plain": [
       "(array([-0.358,  0.905,  0.453]), array([[-0.588,  0.808,  0.044],\n",
       "        [ 0.674,  0.459,  0.579],\n",
       "        [-0.448, -0.371,  0.814]]))"
      ]
     },
     "execution_count": 60,
     "metadata": {},
     "output_type": "execute_result"
    }
   ],
   "source": [
    "np.linalg.eig(Mhat)"
   ]
  },
  {
   "cell_type": "code",
   "execution_count": 61,
   "metadata": {
    "collapsed": false
   },
   "outputs": [
    {
     "data": {
      "text/plain": [
       "array([[ 0.462,  0.105, -0.229],\n",
       "       [ 0.105,  0.188, -0.144],\n",
       "       [-0.229, -0.144,  0.351]])"
      ]
     },
     "execution_count": 61,
     "metadata": {},
     "output_type": "execute_result"
    }
   ],
   "source": [
    "channel.C"
   ]
  },
  {
   "cell_type": "markdown",
   "metadata": {},
   "source": [
    "# CVXOPT"
   ]
  },
  {
   "cell_type": "code",
   "execution_count": 25,
   "metadata": {
    "collapsed": false
   },
   "outputs": [
    {
     "data": {
      "text/plain": [
       "matrix([[ 2.412],\n",
       "        [-1.068],\n",
       "        [ 0.72 ]])"
      ]
     },
     "execution_count": 25,
     "metadata": {},
     "output_type": "execute_result"
    }
   ],
   "source": [
    "b"
   ]
  },
  {
   "cell_type": "code",
   "execution_count": 24,
   "metadata": {
    "collapsed": false
   },
   "outputs": [
    {
     "ename": "ValueError",
     "evalue": "use of function valued P, G, A requires a user-provided kktsolver",
     "output_type": "error",
     "traceback": [
      "\u001b[0;31m---------------------------------------------------------------------------\u001b[0m",
      "\u001b[0;31mValueError\u001b[0m                                Traceback (most recent call last)",
      "\u001b[0;32m<ipython-input-24-28e206c44ff5>\u001b[0m in \u001b[0;36m<module>\u001b[0;34m()\u001b[0m\n\u001b[1;32m      7\u001b[0m             [ 0, 0,-1, 0, 0, 0, 1]])\n\u001b[1;32m      8\u001b[0m \u001b[0mh\u001b[0m \u001b[0;34m=\u001b[0m \u001b[0mmatrix\u001b[0m\u001b[0;34m(\u001b[0m \u001b[0;34m[\u001b[0m \u001b[0;36m0\u001b[0m\u001b[0;34m,\u001b[0m \u001b[0;36m0\u001b[0m\u001b[0;34m,\u001b[0m \u001b[0;36m0\u001b[0m\u001b[0;34m,\u001b[0m \u001b[0;36m1\u001b[0m\u001b[0;34m,\u001b[0m \u001b[0;36m0\u001b[0m\u001b[0;34m,\u001b[0m \u001b[0;36m0\u001b[0m\u001b[0;34m,\u001b[0m \u001b[0;36m0\u001b[0m\u001b[0;34m]\u001b[0m\u001b[0;34m)\u001b[0m\u001b[0;34m\u001b[0m\u001b[0m\n\u001b[0;32m----> 9\u001b[0;31m \u001b[0mx\u001b[0m \u001b[0;34m=\u001b[0m \u001b[0msolvers\u001b[0m\u001b[0;34m.\u001b[0m\u001b[0mconeqp\u001b[0m\u001b[0;34m(\u001b[0m\u001b[0mA\u001b[0m\u001b[0;34m.\u001b[0m\u001b[0mT\u001b[0m\u001b[0;34m*\u001b[0m\u001b[0mA\u001b[0m\u001b[0;34m,\u001b[0m \u001b[0;34m-\u001b[0m\u001b[0mA\u001b[0m\u001b[0;34m.\u001b[0m\u001b[0mT\u001b[0m\u001b[0;34m*\u001b[0m\u001b[0mb\u001b[0m\u001b[0;34m,\u001b[0m \u001b[0mG\u001b[0m\u001b[0;34m,\u001b[0m \u001b[0mh\u001b[0m\u001b[0;34m)\u001b[0m\u001b[0;34m[\u001b[0m\u001b[0;34m'x'\u001b[0m\u001b[0;34m]\u001b[0m\u001b[0;34m\u001b[0m\u001b[0m\n\u001b[0m\u001b[1;32m     10\u001b[0m \u001b[0;32mprint\u001b[0m\u001b[0;34m(\u001b[0m\u001b[0mx\u001b[0m\u001b[0;34m)\u001b[0m\u001b[0;34m\u001b[0m\u001b[0m\n",
      "\u001b[0;32m/Users/yan/.miniconda/lib/python2.7/site-packages/cvxopt/coneprog.pyc\u001b[0m in \u001b[0;36mconeqp\u001b[0;34m(P, q, G, h, dims, A, b, initvals, kktsolver, xnewcopy, xdot, xaxpy, xscal, ynewcopy, ydot, yaxpy, yscal, **kwargs)\u001b[0m\n\u001b[1;32m   1820\u001b[0m     if (not matrixP or (not matrixG and G is not None) or \n\u001b[1;32m   1821\u001b[0m         (not matrixA and A is not None)) and not customkkt:\n\u001b[0;32m-> 1822\u001b[0;31m         raise ValueError(\"use of function valued P, G, A requires a \"\\\n\u001b[0m\u001b[1;32m   1823\u001b[0m             \"user-provided kktsolver\")\n\u001b[1;32m   1824\u001b[0m     customx = (xnewcopy != None or xdot != None or xaxpy != None or \n",
      "\u001b[0;31mValueError\u001b[0m: use of function valued P, G, A requires a user-provided kktsolver"
     ]
    }
   ],
   "source": [
    "A = matrix(np.eye(3))\n",
    "b = matrix([[m12 / np.sqrt(m22 * m33)],\n",
    "            [m13 / np.sqrt(m11 * m33)],\n",
    "            [m23 / np.sqrt(m11 * m22)]])\n",
    "G = matrix([[-1, 0, 0, 0, 1, 0, 0],\n",
    "            [ 0,-1, 0, 0, 0, 1, 0],\n",
    "            [ 0, 0,-1, 0, 0, 0, 1]])\n",
    "h = matrix( [ 0, 0, 0, 1, 0, 0, 0])\n",
    "x = solvers.coneqp(A.T*A, -A.T*b, G, h)['x']\n",
    "print(x)"
   ]
  },
  {
   "cell_type": "markdown",
   "metadata": {},
   "source": [
    "# CVXPY"
   ]
  },
  {
   "cell_type": "code",
   "execution_count": null,
   "metadata": {
    "collapsed": false
   },
   "outputs": [],
   "source": [
    "x = Variable(3)\n",
    "Q = matrix([[m11,0.0,0.0], [0.0,m22,0.0], [0.0,0.0,m33]])\n",
    "c = m11*m22*m33\n",
    "objective = Minimize( (x[0]-m12) ** 2 + (x[1] - m13) ** 2 + (x[2] - m23) ** 2 )\n",
    "constraints = [ quad_form(x,Q) <= c ]\n",
    "\n",
    "p = Problem(objective, constraints)\n",
    "primal_result = p.solve()\n",
    "x = np.array(x.value).T[0]"
   ]
  },
  {
   "cell_type": "code",
   "execution_count": null,
   "metadata": {
    "collapsed": false
   },
   "outputs": [],
   "source": [
    "objective.value"
   ]
  },
  {
   "cell_type": "code",
   "execution_count": null,
   "metadata": {
    "collapsed": true
   },
   "outputs": [],
   "source": [
    "Mhat = np.array([\n",
    "        [m11,  x[0], x[1]],\n",
    "        [x[0],  m22, x[2]],\n",
    "        [x[1], x[2],  m33],\n",
    "    ])"
   ]
  },
  {
   "cell_type": "code",
   "execution_count": null,
   "metadata": {
    "collapsed": false
   },
   "outputs": [],
   "source": [
    "Mhat"
   ]
  },
  {
   "cell_type": "code",
   "execution_count": null,
   "metadata": {
    "collapsed": false
   },
   "outputs": [],
   "source": [
    "np.trace(Mhat)"
   ]
  },
  {
   "cell_type": "code",
   "execution_count": null,
   "metadata": {
    "collapsed": false
   },
   "outputs": [],
   "source": [
    "channel.C"
   ]
  },
  {
   "cell_type": "code",
   "execution_count": null,
   "metadata": {
    "collapsed": false
   },
   "outputs": [],
   "source": [
    "np.linalg.eig(Mhat)[0]"
   ]
  },
  {
   "cell_type": "code",
   "execution_count": null,
   "metadata": {
    "collapsed": true
   },
   "outputs": [],
   "source": []
  }
 ],
 "metadata": {
  "kernelspec": {
   "display_name": "Python 2",
   "language": "python",
   "name": "python2"
  },
  "language_info": {
   "codemirror_mode": {
    "name": "ipython",
    "version": 2
   },
   "file_extension": ".py",
   "mimetype": "text/x-python",
   "name": "python",
   "nbconvert_exporter": "python",
   "pygments_lexer": "ipython2",
   "version": "2.7.11"
  },
  "toc": {
   "toc_cell": false,
   "toc_number_sections": true,
   "toc_threshold": 6,
   "toc_window_display": false
  }
 },
 "nbformat": 4,
 "nbformat_minor": 0
}
