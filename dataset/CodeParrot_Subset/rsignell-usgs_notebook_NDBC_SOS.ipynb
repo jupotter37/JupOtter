{
 "cells": [
  {
   "cell_type": "markdown",
   "metadata": {},
   "source": [
    "# Wind Speed and Gust from NDBC SOS service\n",
    "Get CSV data from NDBC SOS service using OWSlib, then read CSV data and plot using Pandas"
   ]
  },
  {
   "cell_type": "code",
   "execution_count": 1,
   "metadata": {
    "collapsed": true
   },
   "outputs": [],
   "source": [
    "%matplotlib inline"
   ]
  },
  {
   "cell_type": "code",
   "execution_count": 2,
   "metadata": {
    "collapsed": false
   },
   "outputs": [],
   "source": [
    "from datetime import datetime\n",
    "import cStringIO\n",
    "import pandas as pd\n",
    "from owslib.sos import SensorObservationService"
   ]
  },
  {
   "cell_type": "code",
   "execution_count": 3,
   "metadata": {
    "collapsed": false
   },
   "outputs": [],
   "source": [
    "# pick a buoy, any buoy\n",
    "#sta_id='44066'  # texas tower\n",
    "sta_id='44013'  # boston buoy"
   ]
  },
  {
   "cell_type": "code",
   "execution_count": 4,
   "metadata": {
    "collapsed": false
   },
   "outputs": [],
   "source": [
    "# pick a start & stop time\n",
    "start = '2013-06-12T00:00:00Z'\n",
    "stop = '2013-06-14T00:00:00Z'"
   ]
  },
  {
   "cell_type": "code",
   "execution_count": 5,
   "metadata": {
    "collapsed": false
   },
   "outputs": [
    {
     "data": {
      "text/html": [
       "<iframe src=http://www.ndbc.noaa.gov/station_page.php?station=44013 width=950 height=400></iframe>"
      ],
      "text/plain": [
       "<IPython.core.display.HTML object>"
      ]
     },
     "execution_count": 5,
     "metadata": {},
     "output_type": "execute_result"
    }
   ],
   "source": [
    "from IPython.core.display import HTML\n",
    "HTML('<iframe src=http://www.ndbc.noaa.gov/station_page.php?station=%s width=950 height=400></iframe>' % sta_id)"
   ]
  },
  {
   "cell_type": "code",
   "execution_count": 6,
   "metadata": {
    "collapsed": false
   },
   "outputs": [],
   "source": [
    "ndbc=SensorObservationService('http://sdf.ndbc.noaa.gov/sos/server.php?request=GetCapabilities&service=SOS')"
   ]
  },
  {
   "cell_type": "code",
   "execution_count": 7,
   "metadata": {
    "collapsed": false
   },
   "outputs": [
    {
     "data": {
      "text/plain": [
       "'National Data Buoy Center SOS'"
      ]
     },
     "execution_count": 7,
     "metadata": {},
     "output_type": "execute_result"
    }
   ],
   "source": [
    "id=ndbc.identification\n",
    "id.title"
   ]
  },
  {
   "cell_type": "code",
   "execution_count": 8,
   "metadata": {
    "collapsed": false
   },
   "outputs": [
    {
     "data": {
      "text/plain": [
       "'All stations on the NDBC SOS server'"
      ]
     },
     "execution_count": 8,
     "metadata": {},
     "output_type": "execute_result"
    }
   ],
   "source": [
    "contents = ndbc.contents\n",
    "network = contents['network-all']\n",
    "network.description"
   ]
  },
  {
   "cell_type": "code",
   "execution_count": 9,
   "metadata": {
    "collapsed": false
   },
   "outputs": [
    {
     "data": {
      "text/plain": [
       "'National Data Buoy Center SOS'"
      ]
     },
     "execution_count": 9,
     "metadata": {},
     "output_type": "execute_result"
    }
   ],
   "source": [
    "id.title"
   ]
  },
  {
   "cell_type": "code",
   "execution_count": 10,
   "metadata": {
    "collapsed": false
   },
   "outputs": [],
   "source": [
    "rfs = network.response_formats"
   ]
  },
  {
   "cell_type": "code",
   "execution_count": 11,
   "metadata": {
    "collapsed": false
   },
   "outputs": [
    {
     "name": "stdout",
     "output_type": "stream",
     "text": [
      "text/xml;subtype=\"om/1.0.0\"\n",
      "text/csv\n",
      "text/tab-separated-values\n",
      "application/vnd.google-earth.kml+xml\n",
      "text/xml;schema=\"ioos/0.6.1\"\n",
      "application/ioos+xml;version=0.6.1\n"
     ]
    }
   ],
   "source": [
    "print '\\n'.join(rfs)"
   ]
  },
  {
   "cell_type": "code",
   "execution_count": 12,
   "metadata": {
    "collapsed": false
   },
   "outputs": [],
   "source": [
    "station = contents['station-%s' % sta_id]    "
   ]
  },
  {
   "cell_type": "code",
   "execution_count": 13,
   "metadata": {
    "collapsed": false
   },
   "outputs": [
    {
     "data": {
      "text/plain": [
       "'urn:ioos:station:wmo:44013'"
      ]
     },
     "execution_count": 13,
     "metadata": {},
     "output_type": "execute_result"
    }
   ],
   "source": [
    "station.name"
   ]
  },
  {
   "cell_type": "code",
   "execution_count": 14,
   "metadata": {
    "collapsed": false
   },
   "outputs": [
    {
     "data": {
      "text/plain": [
       "'BOSTON 16 NM East of Boston, MA'"
      ]
     },
     "execution_count": 14,
     "metadata": {},
     "output_type": "execute_result"
    }
   ],
   "source": [
    "station.description"
   ]
  },
  {
   "cell_type": "code",
   "execution_count": 15,
   "metadata": {
    "collapsed": false
   },
   "outputs": [],
   "source": [
    "getob = ndbc.get_operation_by_name('getobservation')"
   ]
  },
  {
   "cell_type": "code",
   "execution_count": 16,
   "metadata": {
    "collapsed": false
   },
   "outputs": [
    {
     "data": {
      "text/plain": [
       "{'observedProperty': {'values': ['air_temperature',\n",
       "   'air_pressure_at_sea_level',\n",
       "   'sea_water_electrical_conductivity',\n",
       "   'currents',\n",
       "   'sea_water_salinity',\n",
       "   'sea_floor_depth_below_sea_surface',\n",
       "   'sea_water_temperature',\n",
       "   'waves',\n",
       "   'winds']},\n",
       " 'responseFormat': {'values': ['text/xml;subtype=\"om/1.0.0\"',\n",
       "   'text/csv',\n",
       "   'text/tab-separated-values',\n",
       "   'application/vnd.google-earth.kml+xml',\n",
       "   'text/xml;schema=\"ioos/0.6.1\"',\n",
       "   'application/ioos+xml;version=0.6.1']}}"
      ]
     },
     "execution_count": 16,
     "metadata": {},
     "output_type": "execute_result"
    }
   ],
   "source": [
    "getob.parameters"
   ]
  },
  {
   "cell_type": "code",
   "execution_count": 17,
   "metadata": {
    "collapsed": false
   },
   "outputs": [],
   "source": [
    "# issue the SOS get_obs request\n",
    "response = ndbc.get_observation(offerings=['urn:ioos:station:wmo:%s' % sta_id],\n",
    "                                 responseFormat='text/csv',\n",
    "                                 observedProperties=['winds'],\n",
    "                                 eventTime='%s/%s' % (start,stop))\n",
    "                                 "
   ]
  },
  {
   "cell_type": "code",
   "execution_count": 18,
   "metadata": {
    "collapsed": false
   },
   "outputs": [
    {
     "data": {
      "text/plain": [
       "'station_id,sensor_id,\"latitude (degree)\",\"longitude (degree)\",date_time,\"depth (m)\",\"wind_from_direction (degree)\",\"wind_speed (m/s)\",\"wind_speed_of_gust (m/s)\",\"upward_air_velocity (m/s)\"\\nurn:ioos:station:wmo:44013,urn:ioos:sensor:wmo:44013::anemometer1,42.35,-70.69,2013-06-12T00:50:00Z,-5.00,20.0,5.00,6.00,\\nurn:ioos:station:wmo:44013,urn:ioos:sensor:wmo:44013::anemometer1,42.35,-70.69,2013-06-12T01:50:00Z,-5.00,30.0,3.00,3.00,\\nurn:ioos:station:wmo:44013,urn:ioos:sensor:wmo:44013::anemometer1,42.35,-70.69,2013-06-12T02:50:00Z,-5.00,10.0,3.00,3.00,\\nurn:ioos:station:wmo:44013,urn:ioos:sensor:wmo:44013::anemometer1,42.35,-70.69,2013-06-12T03:50:00Z,-5.00,250.0,2.00,2.00,\\nurn:ioos:station:wmo:44013,urn:ioos:sensor:wmo:44013::anemometer1,42.35,-70.69,2013-06-12T04:50:00Z,-5.00,230.0,3.00,3.00,\\nurn:ioos:station:wmo:44013,urn:ioos:sensor:wmo:44013::anemometer1,42.35,-70.69,2013-06-12T05:50:00Z,-5.00,240.0,2.00,3.00,\\nurn:ioos:station:wmo:44013,urn:ioos:sensor:wmo:44013::anemometer1,42.35,-70.69,2013-06-12T06:50:00Z,-5.00,250.0,2.00,3.00,\\nurn:ioos:station:wmo:44013,urn:ioos:sensor:wmo:44013::anemometer1,42.35,-70.69,2013-06-12T07:50:00Z,-5.00,270.0,3.00,3.00,\\nurn:ioos:station:wmo:44013,urn:ioos:sensor:wmo:44013::anemometer1,42.35,-70.69,2013-06-12T08:50:00Z,-5.00,300.0,3.00,3.00,\\nurn:ioos:station:wmo:44013,urn:ioos:sensor:wmo:44013::anemometer1,42.35,-70.69,2013-06-12T09:50:00Z,-5.00,300.0,5.00,5.00,\\nurn:ioos:station:wmo:44013,urn:ioos:sensor:wmo:44013::anemometer1,42.35,-70.69,2013-06-12T10:50:00Z,-5.00,280.0,5.00,5.00,\\nurn:ioos:station:wmo:44013,urn:ioos:sensor:wmo:44013::anemometer1,42.35,-70.69,2013-06-12T11:50:00Z,-5.00,270.0,5.00,5.00,\\nurn:ioos:station:wmo:44013,urn:ioos:sensor:wmo:44013::anemometer1,42.35,-70.69,2013-06-12T12:50:00Z,-5.00,270.0,5.00,6.00,\\nurn:ioos:station:wmo:44013,urn:ioos:sensor:wmo:44013::anemometer1,42.35,-70.69,2013-06-12T13:50:00Z,-5.00,300.0,8.00,9.00,\\nurn:ioos:station:wmo:44013,urn:ioos:sensor:wmo:44013::anemometer1,42.35,-70.69,2013-06-12T14:50:00Z,-5.00,300.0,7.00,8.00,\\nurn:ioos:station:wmo:44013,urn:ioos:sensor:wmo:44013::anemometer1,42.35,-70.69,2013-06-12T15:50:00Z,-5.00,300.0,6.00,7.00,\\nurn:ioos:station:wmo:44013,urn:ioos:sensor:wmo:44013::anemometer1,42.35,-70.69,2013-06-12T16:50:00Z,-5.00,300.0,7.00,8.00,\\nurn:ioos:station:wmo:44013,urn:ioos:sensor:wmo:44013::anemometer1,42.35,-70.69,2013-06-12T17:50:00Z,-5.00,310.0,8.00,9.00,\\nurn:ioos:station:wmo:44013,urn:ioos:sensor:wmo:44013::anemometer1,42.35,-70.69,2013-06-12T18:50:00Z,-5.00,360.0,6.00,8.00,\\nurn:ioos:station:wmo:44013,urn:ioos:sensor:wmo:44013::anemometer1,42.35,-70.69,2013-06-12T19:50:00Z,-5.00,340.0,3.00,4.00,\\nurn:ioos:station:wmo:44013,urn:ioos:sensor:wmo:44013::anemometer1,42.35,-70.69,2013-06-12T20:50:00Z,-5.00,340.0,7.00,8.00,\\nurn:ioos:station:wmo:44013,urn:ioos:sensor:wmo:44013::anemometer1,42.35,-70.69,2013-06-12T21:50:00Z,-5.00,330.0,6.00,7.00,\\nurn:ioos:station:wmo:44013,urn:ioos:sensor:wmo:44013::anemometer1,42.35,-70.69,2013-06-12T22:50:00Z,-5.00,350.0,5.00,5.00,\\nurn:ioos:station:wmo:44013,urn:ioos:sensor:wmo:44013::anemometer1,42.35,-70.69,2013-06-12T23:50:00Z,-5.00,330.0,5.00,6.00,\\nurn:ioos:station:wmo:44013,urn:ioos:sensor:wmo:44013::anemometer1,42.35,-70.69,2013-06-13T00:50:00Z,-5.00,350.0,5.00,6.00,\\nurn:ioos:station:wmo:44013,urn:ioos:sensor:wmo:44013::anemometer1,42.35,-70.69,2013-06-13T01:50:00Z,-5.00,320.0,4.00,5.00,\\nurn:ioos:station:wmo:44013,urn:ioos:sensor:wmo:44013::anemometer1,42.35,-70.69,2013-06-13T02:50:00Z,-5.00,330.0,5.00,5.00,\\nurn:ioos:station:wmo:44013,urn:ioos:sensor:wmo:44013::anemometer1,42.35,-70.69,2013-06-13T03:50:00Z,-5.00,300.0,4.00,6.00,\\nurn:ioos:station:wmo:44013,urn:ioos:sensor:wmo:44013::anemometer1,42.35,-70.69,2013-06-13T04:50:00Z,-5.00,300.0,5.00,6.00,\\nurn:ioos:station:wmo:44013,urn:ioos:sensor:wmo:44013::anemometer1,42.35,-70.69,2013-06-13T05:50:00Z,-5.00,280.0,5.00,5.00,\\nurn:ioos:station:wmo:44013,urn:ioos:sensor:wmo:44013::anemometer1,42.35,-70.69,2013-06-13T06:50:00Z,-5.00,290.0,5.00,6.00,\\nurn:ioos:station:wmo:44013,urn:ioos:sensor:wmo:44013::anemometer1,42.35,-70.69,2013-06-13T07:50:00Z,-5.00,300.0,4.00,5.00,\\nurn:ioos:station:wmo:44013,urn:ioos:sensor:wmo:44013::anemometer1,42.35,-70.69,2013-06-13T08:50:00Z,-5.00,300.0,4.00,5.00,\\nurn:ioos:station:wmo:44013,urn:ioos:sensor:wmo:44013::anemometer1,42.35,-70.69,2013-06-13T09:50:00Z,-5.00,270.0,3.00,3.00,\\nurn:ioos:station:wmo:44013,urn:ioos:sensor:wmo:44013::anemometer1,42.35,-70.69,2013-06-13T10:50:00Z,-5.00,260.0,3.00,3.00,\\nurn:ioos:station:wmo:44013,urn:ioos:sensor:wmo:44013::anemometer1,42.35,-70.69,2013-06-13T11:50:00Z,-5.00,260.0,3.00,3.00,\\nurn:ioos:station:wmo:44013,urn:ioos:sensor:wmo:44013::anemometer1,42.35,-70.69,2013-06-13T12:50:00Z,-5.00,230.0,2.00,2.00,\\nurn:ioos:station:wmo:44013,urn:ioos:sensor:wmo:44013::anemometer1,42.35,-70.69,2013-06-13T13:50:00Z,-5.00,80.0,2.00,3.00,\\nurn:ioos:station:wmo:44013,urn:ioos:sensor:wmo:44013::anemometer1,42.35,-70.69,2013-06-13T14:50:00Z,-5.00,110.0,2.00,3.00,\\nurn:ioos:station:wmo:44013,urn:ioos:sensor:wmo:44013::anemometer1,42.35,-70.69,2013-06-13T15:50:00Z,-5.00,160.0,3.00,3.00,\\nurn:ioos:station:wmo:44013,urn:ioos:sensor:wmo:44013::anemometer1,42.35,-70.69,2013-06-13T16:50:00Z,-5.00,160.0,4.00,4.00,\\nurn:ioos:station:wmo:44013,urn:ioos:sensor:wmo:44013::anemometer1,42.35,-70.69,2013-06-13T17:50:00Z,-5.00,160.0,2.00,3.00,\\nurn:ioos:station:wmo:44013,urn:ioos:sensor:wmo:44013::anemometer1,42.35,-70.69,2013-06-13T18:50:00Z,-5.00,140.0,5.00,6.00,\\nurn:ioos:station:wmo:44013,urn:ioos:sensor:wmo:44013::anemometer1,42.35,-70.69,2013-06-13T19:50:00Z,-5.00,180.0,5.00,7.00,\\nurn:ioos:station:wmo:44013,urn:ioos:sensor:wmo:44013::anemometer1,42.35,-70.69,2013-06-13T20:50:00Z,-5.00,160.0,3.00,4.00,\\nurn:ioos:station:wmo:44013,urn:ioos:sensor:wmo:44013::anemometer1,42.35,-70.69,2013-06-13T21:50:00Z,-5.00,130.0,2.00,3.00,\\nurn:ioos:station:wmo:44013,urn:ioos:sensor:wmo:44013::anemometer1,42.35,-70.69,2013-06-13T22:50:00Z,-5.00,110.0,3.00,4.00,\\nurn:ioos:station:wmo:44013,urn:ioos:sensor:wmo:44013::anemometer1,42.35,-70.69,2013-06-13T23:50:00Z,-5.00,50.0,4.00,5.00,\\n'"
      ]
     },
     "execution_count": 18,
     "metadata": {},
     "output_type": "execute_result"
    }
   ],
   "source": [
    "response"
   ]
  },
  {
   "cell_type": "code",
   "execution_count": 19,
   "metadata": {
    "collapsed": false
   },
   "outputs": [],
   "source": [
    "df2 = pd.read_csv(cStringIO.StringIO(response.strip()),index_col='date_time',parse_dates=True)  # skip the units row "
   ]
  },
  {
   "cell_type": "code",
   "execution_count": 20,
   "metadata": {
    "collapsed": false
   },
   "outputs": [
    {
     "data": {
      "text/html": [
       "<div>\n",
       "<table border=\"1\" class=\"dataframe\">\n",
       "  <thead>\n",
       "    <tr style=\"text-align: right;\">\n",
       "      <th></th>\n",
       "      <th>station_id</th>\n",
       "      <th>sensor_id</th>\n",
       "      <th>latitude (degree)</th>\n",
       "      <th>longitude (degree)</th>\n",
       "      <th>depth (m)</th>\n",
       "      <th>wind_from_direction (degree)</th>\n",
       "      <th>wind_speed (m/s)</th>\n",
       "      <th>wind_speed_of_gust (m/s)</th>\n",
       "      <th>upward_air_velocity (m/s)</th>\n",
       "    </tr>\n",
       "    <tr>\n",
       "      <th>date_time</th>\n",
       "      <th></th>\n",
       "      <th></th>\n",
       "      <th></th>\n",
       "      <th></th>\n",
       "      <th></th>\n",
       "      <th></th>\n",
       "      <th></th>\n",
       "      <th></th>\n",
       "      <th></th>\n",
       "    </tr>\n",
       "  </thead>\n",
       "  <tbody>\n",
       "    <tr>\n",
       "      <th>2013-06-12 00:50:00</th>\n",
       "      <td>urn:ioos:station:wmo:44013</td>\n",
       "      <td>urn:ioos:sensor:wmo:44013::anemometer1</td>\n",
       "      <td>42.35</td>\n",
       "      <td>-70.69</td>\n",
       "      <td>-5.0</td>\n",
       "      <td>20.0</td>\n",
       "      <td>5.0</td>\n",
       "      <td>6.0</td>\n",
       "      <td>NaN</td>\n",
       "    </tr>\n",
       "    <tr>\n",
       "      <th>2013-06-12 01:50:00</th>\n",
       "      <td>urn:ioos:station:wmo:44013</td>\n",
       "      <td>urn:ioos:sensor:wmo:44013::anemometer1</td>\n",
       "      <td>42.35</td>\n",
       "      <td>-70.69</td>\n",
       "      <td>-5.0</td>\n",
       "      <td>30.0</td>\n",
       "      <td>3.0</td>\n",
       "      <td>3.0</td>\n",
       "      <td>NaN</td>\n",
       "    </tr>\n",
       "    <tr>\n",
       "      <th>2013-06-12 02:50:00</th>\n",
       "      <td>urn:ioos:station:wmo:44013</td>\n",
       "      <td>urn:ioos:sensor:wmo:44013::anemometer1</td>\n",
       "      <td>42.35</td>\n",
       "      <td>-70.69</td>\n",
       "      <td>-5.0</td>\n",
       "      <td>10.0</td>\n",
       "      <td>3.0</td>\n",
       "      <td>3.0</td>\n",
       "      <td>NaN</td>\n",
       "    </tr>\n",
       "    <tr>\n",
       "      <th>2013-06-12 03:50:00</th>\n",
       "      <td>urn:ioos:station:wmo:44013</td>\n",
       "      <td>urn:ioos:sensor:wmo:44013::anemometer1</td>\n",
       "      <td>42.35</td>\n",
       "      <td>-70.69</td>\n",
       "      <td>-5.0</td>\n",
       "      <td>250.0</td>\n",
       "      <td>2.0</td>\n",
       "      <td>2.0</td>\n",
       "      <td>NaN</td>\n",
       "    </tr>\n",
       "    <tr>\n",
       "      <th>2013-06-12 04:50:00</th>\n",
       "      <td>urn:ioos:station:wmo:44013</td>\n",
       "      <td>urn:ioos:sensor:wmo:44013::anemometer1</td>\n",
       "      <td>42.35</td>\n",
       "      <td>-70.69</td>\n",
       "      <td>-5.0</td>\n",
       "      <td>230.0</td>\n",
       "      <td>3.0</td>\n",
       "      <td>3.0</td>\n",
       "      <td>NaN</td>\n",
       "    </tr>\n",
       "  </tbody>\n",
       "</table>\n",
       "</div>"
      ],
      "text/plain": [
       "                                     station_id  \\\n",
       "date_time                                         \n",
       "2013-06-12 00:50:00  urn:ioos:station:wmo:44013   \n",
       "2013-06-12 01:50:00  urn:ioos:station:wmo:44013   \n",
       "2013-06-12 02:50:00  urn:ioos:station:wmo:44013   \n",
       "2013-06-12 03:50:00  urn:ioos:station:wmo:44013   \n",
       "2013-06-12 04:50:00  urn:ioos:station:wmo:44013   \n",
       "\n",
       "                                                  sensor_id  \\\n",
       "date_time                                                     \n",
       "2013-06-12 00:50:00  urn:ioos:sensor:wmo:44013::anemometer1   \n",
       "2013-06-12 01:50:00  urn:ioos:sensor:wmo:44013::anemometer1   \n",
       "2013-06-12 02:50:00  urn:ioos:sensor:wmo:44013::anemometer1   \n",
       "2013-06-12 03:50:00  urn:ioos:sensor:wmo:44013::anemometer1   \n",
       "2013-06-12 04:50:00  urn:ioos:sensor:wmo:44013::anemometer1   \n",
       "\n",
       "                     latitude (degree)  longitude (degree)  depth (m)  \\\n",
       "date_time                                                               \n",
       "2013-06-12 00:50:00              42.35              -70.69       -5.0   \n",
       "2013-06-12 01:50:00              42.35              -70.69       -5.0   \n",
       "2013-06-12 02:50:00              42.35              -70.69       -5.0   \n",
       "2013-06-12 03:50:00              42.35              -70.69       -5.0   \n",
       "2013-06-12 04:50:00              42.35              -70.69       -5.0   \n",
       "\n",
       "                     wind_from_direction (degree)  wind_speed (m/s)  \\\n",
       "date_time                                                             \n",
       "2013-06-12 00:50:00                          20.0               5.0   \n",
       "2013-06-12 01:50:00                          30.0               3.0   \n",
       "2013-06-12 02:50:00                          10.0               3.0   \n",
       "2013-06-12 03:50:00                         250.0               2.0   \n",
       "2013-06-12 04:50:00                         230.0               3.0   \n",
       "\n",
       "                     wind_speed_of_gust (m/s)  upward_air_velocity (m/s)  \n",
       "date_time                                                                 \n",
       "2013-06-12 00:50:00                       6.0                        NaN  \n",
       "2013-06-12 01:50:00                       3.0                        NaN  \n",
       "2013-06-12 02:50:00                       3.0                        NaN  \n",
       "2013-06-12 03:50:00                       2.0                        NaN  \n",
       "2013-06-12 04:50:00                       3.0                        NaN  "
      ]
     },
     "execution_count": 20,
     "metadata": {},
     "output_type": "execute_result"
    }
   ],
   "source": [
    "df2.head()"
   ]
  },
  {
   "cell_type": "code",
   "execution_count": 21,
   "metadata": {
    "collapsed": false
   },
   "outputs": [
    {
     "data": {
      "text/plain": [
       "<matplotlib.axes._subplots.AxesSubplot at 0x7effdbdf3590>"
      ]
     },
     "execution_count": 21,
     "metadata": {},
     "output_type": "execute_result"
    },
    {
     "data": {
      "image/png": "[encoded data removed]",
      "text/plain": [
       "<matplotlib.figure.Figure at 0x7effe34eb090>"
      ]
     },
     "metadata": {},
     "output_type": "display_data"
    }
   ],
   "source": [
    "df2[['wind_speed_of_gust (m/s)','wind_speed (m/s)']].plot(figsize=(12,4),title=station.description,legend=True)"
   ]
  },
  {
   "cell_type": "code",
   "execution_count": null,
   "metadata": {
    "collapsed": true
   },
   "outputs": [],
   "source": []
  }
 ],
 "metadata": {
  "kernelspec": {
   "display_name": "Python 2",
   "language": "python",
   "name": "python2"
  },
  "language_info": {
   "codemirror_mode": {
    "name": "ipython",
    "version": 2
   },
   "file_extension": ".py",
   "mimetype": "text/x-python",
   "name": "python",
   "nbconvert_exporter": "python",
   "pygments_lexer": "ipython2",
   "version": "2.7.12"
  }
 },
 "nbformat": 4,
 "nbformat_minor": 0
}
