{
 "cells": [
  {
   "cell_type": "code",
   "execution_count": 1,
   "metadata": {
    "slideshow": {
     "slide_type": "skip"
    }
   },
   "outputs": [],
   "source": [
    "%matplotlib inline   \n"
   ]
  },
  {
   "cell_type": "markdown",
   "metadata": {
    "slideshow": {
     "slide_type": "slide"
    }
   },
   "source": [
    "# Reading an NCEP BUFR data set\n",
    "NCEP BUFR (Binary Universal Form for the Representation of meteorological data) can be read two ways:\n",
    "\n",
    "- **Fortran code with BUFRLIB**\n",
    "    \n",
    "- **py-ncepbufr, which is basically Python wrappers around BUFRLIB**\n",
    "\n",
    "In this example we'll use py-ncepbufr to read a snapshot of the Argo data tank from WCOSS, show how to navigate the BUFR structure, and how to extract and plot a profile.\n",
    "\n",
    "The py-ncepbufr library and installation instructions can be found at\n",
    "\n",
    "https://github.com/JCSDA/py-ncepbufr\n"
   ]
  },
  {
   "cell_type": "markdown",
   "metadata": {
    "slideshow": {
     "slide_type": "subslide"
    }
   },
   "source": [
    "- We begin by importing the required libraries."
   ]
  },
  {
   "cell_type": "code",
   "execution_count": 2,
   "metadata": {
    "slideshow": {
     "slide_type": "fragment"
    }
   },
   "outputs": [],
   "source": [
    "import matplotlib.pyplot as plt    # graphics library\n",
    "import numpy as np\n",
    "import ncepbufr                    # python wrappers around BUFRLIB"
   ]
  },
  {
   "cell_type": "markdown",
   "metadata": {
    "slideshow": {
     "slide_type": "fragment"
    }
   },
   "source": [
    "- For the purposes of this demo I've made a local copy of the Argo data tank on WCOSS \n",
    "located at\n",
    "\n",
    "**/dcom/us007003/201808/b031/xx005** \n",
    "    \n",
    "- Begin by opening the file"
   ]
  },
  {
   "cell_type": "code",
   "execution_count": 3,
   "metadata": {
    "slideshow": {
     "slide_type": "fragment"
    }
   },
   "outputs": [],
   "source": [
    "bufr = ncepbufr.open('data/xx005')"
   ]
  },
  {
   "cell_type": "markdown",
   "metadata": {
    "slideshow": {
     "slide_type": "subslide"
    }
   },
   "source": [
    "- Movement and data access within the BUFR file is through these methods:\n",
    "  - `bufr.advance()`\n",
    "  - `bufr.load_subset()`\n",
    "  - `bufr.read_subset()`\n",
    "  - `bufr.rewind()`\n",
    "  - `bufr.close()`\n",
    "- There is a lot more functionality to ncepbufr, such as searching on multiple mnenomics, printing or saving the BUFR table included in the file, printing or saving the inventory and subsets, setting and using checkpoints in the file.  See the ncepbufr help for more details.\n",
    "\n",
    "- ***Important Note:*** py-ncepbufr is unforgiving of mistakes.  A BUFRLIB fortran error will result in an *immediate* exit from the Python interpreter.  "
   ]
  },
  {
   "cell_type": "code",
   "execution_count": 4,
   "metadata": {
    "slideshow": {
     "slide_type": "subslide"
    }
   },
   "outputs": [
    {
     "data": {
      "text/plain": [
       "0"
      ]
     },
     "execution_count": 4,
     "metadata": {},
     "output_type": "execute_result"
    }
   ],
   "source": [
    "# move down to first message - a return code of 0 indicates success\n",
    "bufr.advance()  "
   ]
  },
  {
   "cell_type": "code",
   "execution_count": 5,
   "metadata": {
    "slideshow": {
     "slide_type": "fragment"
    }
   },
   "outputs": [
    {
     "data": {
      "text/plain": [
       "0"
      ]
     },
     "execution_count": 5,
     "metadata": {},
     "output_type": "execute_result"
    }
   ],
   "source": [
    "# load the message subset -- a return code of 0 indicates success\n",
    "bufr.load_subset() "
   ]
  },
  {
   "cell_type": "markdown",
   "metadata": {
    "slideshow": {
     "slide_type": "subslide"
    }
   },
   "source": [
    "- You can print the subset and determine the parameter names.  BUFR dumps can be ***very*** verbose, so I'll just copy in the header and the first subset replication from a `bufr.dump_subset()` command.\n",
    "\n",
    "- I've highlighted in red the parameters I want to plot."
   ]
  },
  {
   "cell_type": "markdown",
   "metadata": {
    "slideshow": {
     "slide_type": "subslide"
    }
   },
   "source": [
    "<pre style=\"font-size: x-small\">\n",
    "MESSAGE TYPE NC031005  \n",
    "\n",
    "004001  YEAR                      2018.0  YEAR                          YEAR                                            \n",
    "004002  MNTH                         8.0  MONTH                         MONTH                                           \n",
    "004003  DAYS                         1.0  DAY                           DAY                                             \n",
    "004004  HOUR                         0.0  HOUR                          HOUR                                            \n",
    "004005  MINU                        16.0  MINUTE                        MINUTE                                          \n",
    "035195  SEQNUM                       317  ( 4)CCITT IA5                 CHANNEL SEQUENCE NUMBER                         \n",
    "035021  BUHD                      IOPX01  ( 6)CCITT IA5                 BULLETIN BEING MONITORED (TTAAii)               \n",
    "035023  BORG                        KWBC  ( 4)CCITT IA5                 BULLETIN BEING MONITORED (CCCC)                 \n",
    "035022  BULTIM                    010029  ( 6)CCITT IA5                 BULLETIN BEING MONITORED (YYGGgg)               \n",
    "035194  BBB                      MISSING  ( 6)CCITT IA5                 BULLETIN BEING MONITORED (BBB)                  \n",
    "008202  RCTS                         0.0  CODE TABLE                    RECEIPT TIME SIGNIFICANCE                       \n",
    "004200  RCYR                      2018.0  YEAR                          YEAR   - TIME OF RECEIPT                        \n",
    "004201  RCMO                         8.0  MONTH                         MONTH  - TIME OF RECEIPT                        \n",
    "004202  RCDY                         1.0  DAY                           DAY    - TIME OF RECEIPT                        \n",
    "004203  RCHR                         0.0  HOUR                          HOUR   - TIME OF RECEIPT                        \n",
    "004204  RCMI                        31.0  MINUTE                        MINUTE - TIME OF RECEIPT                        \n",
    "033215  CORN                         0.0  CODE TABLE                    CORRECTED REPORT INDICATOR                      \n",
    "001087  WMOP                   6903327.0  NUMERIC                       WMO marine observing platform extended identifie\n",
    "001085  OPMM                        S2-X  (20)CCITT IA5                 Observing platform manufacturer's model         \n",
    "001086  OPMS        10151                             ( 32)CCITT IA5                Observing platform manufacturer's serial number \n",
    "002036  BUYTS                        2.0  CODE TABLE                    Buoy type                                       \n",
    "002148  DCLS                         8.0  CODE TABLE                    Data collection and/or location system          \n",
    "002149  BUYT                        14.0  CODE TABLE                    Type of data buoy                               \n",
    "022055  FCYN                        28.0  NUMERIC                       Float cycle number                              \n",
    "022056  DIPR                         0.0  CODE TABLE                    Direction of profile                            \n",
    "022067  IWTEMP                     846.0  CODE TABLE                    INSTRUMENT TYPE FOR WATER TEMPERATURE PROFILE ME\n",
    "005001  CLATH                   59.34223  DEGREES                       LATITUDE (HIGH ACCURACY)                        \n",
    "006001  CLONH                   -9.45180  DEGREES                       LONGITUDE (HIGH ACCURACY)                       \n",
    "008080  QFQF                        20.0  CODE TABLE                    Qualifier for GTSPP quality flag                \n",
    "033050  GGQF                         1.0  CODE TABLE                    Global GTSPP quality flag                       \n",
    "           (GLPFDATA)   636 REPLICATIONS\n",
    "    ++++++  GLPFDATA  REPLICATION #     1  ++++++\n",
    "<span style=\"color: red\">007065  WPRES                    10000.0  PA                            Water pressure</span>\n",
    "008080  QFQF                        10.0  CODE TABLE                    Qualifier for GTSPP quality flag                \n",
    "033050  GGQF                         1.0  CODE TABLE                    Global GTSPP quality flag                       \n",
    "<span style=\"color: red\">022045  SSTH                     285.683  K                             Sea/water temperature</span>\n",
    "008080  QFQF                        11.0  CODE TABLE                    Qualifier for GTSPP quality flag                \n",
    "033050  GGQF                         1.0  CODE TABLE                    Global GTSPP quality flag\n",
    "<span style=\"color: red\">022064  SALNH                     35.164  PART PER THOUSAND             Salinity</span>\n",
    "008080  QFQF                        12.0  CODE TABLE                    Qualifier for GTSPP quality flag                \n",
    "033050  GGQF                         1.0  CODE TABLE                    Global GTSPP quality flag                       \n",
    "</pre>"
   ]
  },
  {
   "cell_type": "markdown",
   "metadata": {
    "slideshow": {
     "slide_type": "subslide"
    }
   },
   "source": [
    "\n",
    "- Now we can load the data for plotting\n"
   ]
  },
  {
   "cell_type": "code",
   "execution_count": 6,
   "metadata": {
    "slideshow": {
     "slide_type": "fragment"
    }
   },
   "outputs": [],
   "source": [
    "temp = bufr.read_subset('SSTH').squeeze()-273.15  # convert from Kelvin to Celsius\n",
    "sal = bufr.read_subset('SALNH').squeeze()\n",
    "depth = bufr.read_subset('WPRES').squeeze()/10000. # convert from Pa to depth in meters\n",
    "# observation location, date, and receipt time\n",
    "lon = bufr.read_subset('CLONH')[0][0]\n",
    "lat = bufr.read_subset('CLATH')[0][0]\n",
    "date = bufr.msg_date\n",
    "receipt = bufr.receipt_time\n",
    "bufr.close()"
   ]
  },
  {
   "cell_type": "markdown",
   "metadata": {
    "slideshow": {
     "slide_type": "subslide"
    }
   },
   "source": [
    "\n",
    "- Set up the plotting figure.  But this time, just for fun, let's put both the temperature and salinity profiles on the same axes.  This trick uses both the top and bottom axis for different parameters.\n",
    "\n",
    "- As these are depth profiles, we need twin x-axes and a shared y-axis for the depth.\n"
   ]
  },
  {
   "cell_type": "code",
   "execution_count": 7,
   "metadata": {
    "slideshow": {
     "slide_type": "subslide"
    }
   },
   "outputs": [
    {
     "data": {
      "image/png": "[encoded data removed]",
      "text/plain": [
       "<Figure size 360x288 with 2 Axes>"
      ]
     },
     "metadata": {
      "needs_background": "light"
     },
     "output_type": "display_data"
    }
   ],
   "source": [
    "fig = plt.figure(figsize = (5,4))\n",
    "ax1 = plt.axes()\n",
    "ax1.plot(temp, depth,'r-')\n",
    "ax1.grid(axis = 'y')\n",
    "ax1.invert_yaxis()       # flip the y-axis for ocean depths\n",
    "ax2 = ax1.twiny()          # here's the second x-axis definition\n",
    "ax2.plot(np.nan, 'r-', label = 'Temperature')\n",
    "ax2.plot(sal, depth, 'b-', label = 'Salinity')\n",
    "ax2.legend()\n",
    "ax1.set_xlabel('Temperature (C)', color = 'red')\n",
    "ax1.set_ylabel('Depth (m)')\n",
    "ax2.set_xlabel('Salinity (PSU)', color = 'blue')\n",
    "ttl='ARGO T,S Profiles at lon:{:6.2f}, lat:{:6.2f}\\ntimestamp: {} received: {}\\n'.format(lon,lat,date,receipt)\n",
    "fig.suptitle(ttl,x = 0.5,y = 1.1,fontsize = 'large');"
   ]
  }
 ],
 "metadata": {
  "celltoolbar": "Slideshow",
  "kernelspec": {
   "display_name": "Python 3",
   "language": "python",
   "name": "python3"
  },
  "language_info": {
   "codemirror_mode": {
    "name": "ipython",
    "version": 3
   },
   "file_extension": ".py",
   "mimetype": "text/x-python",
   "name": "python",
   "nbconvert_exporter": "python",
   "pygments_lexer": "ipython3",
   "version": "3.7.3"
  }
 },
 "nbformat": 4,
 "nbformat_minor": 2
}
