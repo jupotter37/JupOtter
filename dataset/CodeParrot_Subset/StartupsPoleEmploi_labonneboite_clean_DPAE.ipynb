{
 "cells": [
  {
   "cell_type": "code",
   "execution_count": 1,
   "metadata": {
    "collapsed": true,
    "deletable": true,
    "editable": true
   },
   "outputs": [],
   "source": [
    "import collections\n",
    "\n",
    "import pandas as pd\n",
    "pd.set_option('display.max_columns', 500)"
   ]
  },
  {
   "cell_type": "markdown",
   "metadata": {
    "deletable": true,
    "editable": true
   },
   "source": [
    "# DPAE"
   ]
  },
  {
   "cell_type": "code",
   "execution_count": 2,
   "metadata": {
    "collapsed": true,
    "deletable": true,
    "editable": true
   },
   "outputs": [],
   "source": [
    "filename_input = 'LBB_XDPDPA_DPAE_20160307_20170407_20170407_165803_sep.csv'\n",
    "filename_output = 'LBB_XDPDPA_DPAE_20160307_20170407_20170407_165803_clean.csv'"
   ]
  },
  {
   "cell_type": "code",
   "execution_count": 3,
   "metadata": {
    "collapsed": true,
    "deletable": true,
    "editable": true
   },
   "outputs": [],
   "source": [
    "f_input = open(filename_input, 'r')\n",
    "f_output = open(filename_output, 'w')"
   ]
  },
  {
   "cell_type": "code",
   "execution_count": 4,
   "metadata": {
    "collapsed": true,
    "deletable": true,
    "editable": true
   },
   "outputs": [],
   "source": [
    "header_intput = f_input.readline()"
   ]
  },
  {
   "cell_type": "code",
   "execution_count": 5,
   "metadata": {
    "collapsed": false,
    "deletable": true,
    "editable": true
   },
   "outputs": [],
   "source": [
    "column_names = header_intput[:-1].split('|')"
   ]
  },
  {
   "cell_type": "code",
   "execution_count": 6,
   "metadata": {
    "collapsed": false,
    "deletable": true,
    "editable": true
   },
   "outputs": [
    {
     "data": {
      "text/plain": [
       "128"
      ]
     },
     "execution_count": 6,
     "metadata": {},
     "output_type": "execute_result"
    }
   ],
   "source": [
    "columns_kept = [\n",
    " 'dc_naf_id',\n",
    " 'dn_tailleetablissement',\n",
    " 'kd_dateembauche',\n",
    " 'dc_typecontrat_id',\n",
    " 'dd_datefincdd',\n",
    " 'dc_romev3_1_id',\n",
    " 'dc_romev3_2_id',\n",
    " 'nbrjourtravaille',\n",
    "# 'kn_trancheage',\n",
    "]\n",
    "header_output = '|'.join(columns_kept) + '\\n'\n",
    "f_output.write(header_output)"
   ]
  },
  {
   "cell_type": "code",
   "execution_count": 7,
   "metadata": {
    "collapsed": false,
    "deletable": true,
    "editable": true
   },
   "outputs": [
    {
     "data": {
      "text/plain": [
       "[1, 5, 7, 8, 9, 10, 11, 20]"
      ]
     },
     "execution_count": 7,
     "metadata": {},
     "output_type": "execute_result"
    }
   ],
   "source": [
    "index_kept = [\n",
    "    column_names.index(column_name)\n",
    "    for column_name in columns_kept\n",
    "]\n",
    "index_kept"
   ]
  },
  {
   "cell_type": "code",
   "execution_count": 8,
   "metadata": {
    "collapsed": false,
    "deletable": true,
    "editable": true
   },
   "outputs": [],
   "source": [
    "index_kd_dateembauche = column_names.index('kd_dateembauche')\n",
    "index_dd_datefincdd = column_names.index('dd_datefincdd')\n",
    "index_dc_romev3_1_id = column_names.index('dc_romev3_1_id')\n",
    "index_dc_romev3_2_id = column_names.index('dc_romev3_2_id')\n",
    "index_dc_naf_id = column_names.index('dc_naf_id')\n"
   ]
  },
  {
   "cell_type": "code",
   "execution_count": 9,
   "metadata": {
    "collapsed": false,
    "deletable": true,
    "editable": true
   },
   "outputs": [
    {
     "name": "stdout",
     "output_type": "stream",
     "text": [
      "2000000\n",
      "3000000\n",
      "4000000\n",
      "5000000\n",
      "8000000\n",
      "9000000\n",
      "10000000\n",
      "11000000\n",
      "14000000\n",
      "15000000\n",
      "16000000\n",
      "17000000\n",
      "20000000\n",
      "21000000\n",
      "22000000\n",
      "23000000\n",
      "26000000\n",
      "27000000\n",
      "28000000\n",
      "29000000\n",
      "31000000\n",
      "32000000\n",
      "37000000\n",
      "38000000\n",
      "39000000\n",
      "40000000\n",
      "41000000\n",
      "43000000\n",
      "44000000\n",
      "46000000\n",
      "47000000\n",
      "49000000\n",
      "50000000\n",
      "51000000\n"
     ]
    }
   ],
   "source": [
    "for i, line_input in enumerate(f_input):\n",
    "    cells = line_input[:-1].split('|')\n",
    "    \n",
    "    \n",
    "    # Modify dates\n",
    "\n",
    "    kd_dateembauche = cells[index_kd_dateembauche]\n",
    "    kd_dateembauche = kd_dateembauche[:10]\n",
    "    cells[index_kd_dateembauche] = kd_dateembauche\n",
    "\n",
    "    dd_datefincdd = cells[index_dd_datefincdd]\n",
    "    dd_datefincdd = dd_datefincdd[:10]\n",
    "    cells[index_dd_datefincdd] = dd_datefincdd\n",
    "    \n",
    "\n",
    "    # Remove lines with no ROME\n",
    "    set_null = {'NULL', 'null', ''}\n",
    "    dc_romev3_1_id = cells[index_dc_romev3_1_id]\n",
    "    dc_romev3_2_id = cells[index_dc_romev3_2_id]\n",
    "    if (dc_romev3_1_id in set_null) and (dc_romev3_2_id in set_null):\n",
    "        continue\n",
    "   \n",
    "    # Remove lines with no NAF\n",
    "    dc_naf_id = cells[index_dc_naf_id]\n",
    "    if dc_naf_id in set_null:\n",
    "        continue\n",
    "   \n",
    "\n",
    "    cells_kept = [\n",
    "        cells[i]\n",
    "        for i in index_kept\n",
    "    ]\n",
    "    line_output = '|'.join(cells_kept) + '\\n'\n",
    "    f_output.write(line_output)\n",
    "    \n",
    "    if i % 1000000 == 0:\n",
    "        print(i)"
   ]
  },
  {
   "cell_type": "code",
   "execution_count": 10,
   "metadata": {
    "collapsed": true,
    "deletable": true,
    "editable": true
   },
   "outputs": [],
   "source": [
    "f_input.close()\n",
    "f_output.close()"
   ]
  }
 ],
 "metadata": {
  "kernelspec": {
   "display_name": "Python 3",
   "language": "python",
   "name": "python3"
  },
  "language_info": {
   "codemirror_mode": {
    "name": "ipython",
    "version": 3
   },
   "file_extension": ".py",
   "mimetype": "text/x-python",
   "name": "python",
   "nbconvert_exporter": "python",
   "pygments_lexer": "ipython3",
   "version": "3.5.2"
  }
 },
 "nbformat": 4,
 "nbformat_minor": 2
}
