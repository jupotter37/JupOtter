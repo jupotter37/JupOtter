{
 "cells": [
  {
   "cell_type": "markdown",
   "metadata": {},
   "source": [
    "Efficient Convolution\n",
    "===="
   ]
  },
  {
   "cell_type": "markdown",
   "metadata": {},
   "source": [
    "$\\mathbf{x}\\in \\mathbb{R}^n$ and $\\mathbf{w}\\in \\mathbb{R}^m$\n",
    "\n",
    " * Convolution $$y[i] = \\sum_k x[i-k] w[k]$$\n",
    "\n",
    "\n",
    " * Output size: $m+n-1$\n",
    " * Order of complexity: $\\mathbf{O}(mn)$"
   ]
  },
  {
   "cell_type": "markdown",
   "metadata": {},
   "source": [
    "$$\\left[y_1\\\\y_2..y_{m+n-1}\\begin{array}{c}\\end{array}\\right] = \\left[\\begin{array}{cccc}w_1&\\end{array}\\right] \\left[\\begin{array}{c}\\end{array}\\right]$$"
   ]
  },
  {
   "cell_type": "markdown",
   "metadata": {
    "collapsed": true
   },
   "source": [
    " * Linear and circular convolution are equivalent when $N\\ge m + n -1$\n",
    "   * We are performing a N-point DFT: so assuming the signal is repeating with period of N\n",
    "    * compute the convolution of this repeating signal $X$, with another repeating signal $W$\n",
    "    * Original signal size: $n$ ($N = n$)\n",
    "    * Non-zero elements: $m$\n",
    "    * W is filled with $N - m$ zero elements\n",
    "    * right at the edge, in linear convolution, signal is filled with zeros, but in circular convolution, some part is wrong.\n",
    "<img src=\"figs/2.png\"></img>\n",
    "   * But if $N = n + m -1$, then\n",
    "     * signal has $N - n$ zerofs filled\n",
    "     * and at the edge, the same thing happens as in linear convolution\n",
    "     \n",
    "<img src=\"figs/2.png\"></img>\n",
    "   \n",
    " *  Aliasing: when $N < m + n -1$"
   ]
  },
  {
   "cell_type": "code",
   "execution_count": null,
   "metadata": {
    "collapsed": true
   },
   "outputs": [],
   "source": []
  },
  {
   "cell_type": "code",
   "execution_count": null,
   "metadata": {
    "collapsed": true
   },
   "outputs": [],
   "source": []
  },
  {
   "cell_type": "code",
   "execution_count": null,
   "metadata": {
    "collapsed": true
   },
   "outputs": [],
   "source": []
  },
  {
   "cell_type": "markdown",
   "metadata": {},
   "source": [
    "## Long Singnal, Short Filter\n",
    "\n",
    " ### Overlap Add (OA)\n",
    " \n",
    "  * Break it up to $L$ blocks\n",
    "  * perform the convolution\n",
    "  * Combine the outputs of each block\n",
    "  \n",
    " <img src=\"figs/overlap-add.png\"></img>\n",
    " \n",
    " * In this case, DFT size is $N = L + m - 1$\n",
    "   * Much smaller, and therefore more efficient\n",
    "   * Since blocks are independent, it can also be performed in parallel\n",
    " \n",
    " \n",
    "\n",
    "### Overlap Save (OS)\n",
    "\n",
    " * Add a few zero in front\n",
    " * Process blocks of size $L$\n",
    " * DFT size is $N = L$ (same as block size)\n",
    "   * as a result, we will have aliasing\n",
    "   \n",
    " * Combine the result of each block\n",
    "   * discard $m-1$ eleents due to aliasing\n",
    "   \n",
    "   \n",
    "### Other tricks\n",
    "\n",
    " * DFT of a signal is ***Hermitian Symmetric***\n",
    "   * Assume we are computing a $N$ point DFT\n",
    "     * k=0  :  DC value\n",
    "     * k=1  :  ..\n",
    "     * ..\n",
    "     * k = N-1  : ..\n",
    "     \n",
    "     $$Y[k] = Y[N-k]^*  \\ \\ \\ (\\text{complex conjugate of }Y)$$\n",
    "     \n",
    "   * Advantages: \n",
    "    * We only need to compute half of the values ($\\floor{\\frac{N}{2}} + 1$) , not all\n",
    "    * We do not need to store the other half\n",
    "    \n",
    "   * If we have a 2d signal: $N\\times N$\n",
    "    * We need to compute the lower triangular part of the $N\\times N$ matrix $N\\left(\\floor{\\frac{N}{2}}+1\\right)$\n",
    "    \n",
    " * Complex multiplcation: needs 3 real multiplication (as opposed to a naive version which needs 4)\n",
    "   $$(a + jb) (c+jd) = ac - bd + j(ad + bc)\\\\=u_c v_a + u_av_c + j(u_a v_c - u_b v_b)$$\n",
    "   \n",
    "   where $u_a = a, v_a = c, u_b = ..$"
   ]
  },
  {
   "cell_type": "markdown",
   "metadata": {},
   "source": [
    "#### Winograd Convolution\n",
    "\n",
    " Minimal filtering algorithm \n",
    " \n",
    " \n",
    " * Is **good for only small filters**\n",
    " * Not using DFT\n",
    " \n",
    " * $m$ outputs with $r$-tap filter, the optimal solution needs $F(m,r)=m+r-1$ multiplcations\n",
    " \n",
    "  * Original convolution, needs $(n+m-1)\\times m$\n",
    "   * input size $n$, filter size $m$, $\\Longrightarrow$ outputsize: $n+m-1$\n",
    "   * For each output, we need $m$ multiplcation\n",
    "   * so the original method needs $(n+m-1)\\times m$ multiplcations\n",
    "   * with this setting, the Winograd method needs $(n+m-1) + (m-1) = n+2m-2$ multiplcations\n",
    "   \n",
    " * Example:  output size $m=2$ and $3\\times 3$ filter size $r=3$\n",
    " \n",
    " $$F(2,3) = \\left[\\begin{array}{ccc}d_0 & d_1 & d_2\\\\d_1 & d_2 & d_3\\end{array}\\right] \\left[\\begin{array}{c}g_0\\\\g_1\\\\g_2\\end{array}\\right] = \\left[\\begin{array}{c}m_1+m_2+m_3\\\\m_2-m_3-m_4\\end{array}\\right]$$\n",
    "  \n",
    "  \n",
    "  $$\\begin{array}{ccc}m_1 = ()g_0 & & m_2=(d_1+d_2)\\frac{}{2}\\\\m_4=..& & m_3=\\end{array}$$"
   ]
  },
  {
   "cell_type": "code",
   "execution_count": null,
   "metadata": {
    "collapsed": true
   },
   "outputs": [],
   "source": []
  }
 ],
 "metadata": {
  "kernelspec": {
   "display_name": "Python 3",
   "language": "python",
   "name": "python3"
  },
  "language_info": {
   "codemirror_mode": {
    "name": "ipython",
    "version": 3
   },
   "file_extension": ".py",
   "mimetype": "text/x-python",
   "name": "python",
   "nbconvert_exporter": "python",
   "pygments_lexer": "ipython3",
   "version": "3.5.0rc4"
  }
 },
 "nbformat": 4,
 "nbformat_minor": 0
}
