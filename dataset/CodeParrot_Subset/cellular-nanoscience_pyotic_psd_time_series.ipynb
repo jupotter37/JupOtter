{
 "cells": [
  {
   "cell_type": "markdown",
   "metadata": {},
   "source": [
    "# import the packages"
   ]
  },
  {
   "cell_type": "code",
   "execution_count": null,
   "metadata": {
    "collapsed": false,
    "jupyter": {
     "outputs_hidden": false
    },
    "scrolled": true
   },
   "outputs": [],
   "source": [
    "# Add the path of the PyOTIC Software to the system path\n",
    "import sys\n",
    "sys.path.append('../..')\n",
    "sys.path.append('../../../PyOTIC/pyoti/')\n",
    "#Load investigator module\n",
    "import pyoti\n",
    "pyoti.info()\n",
    "import pyotc"
   ]
  },
  {
   "cell_type": "markdown",
   "metadata": {},
   "source": [
    "### create experiment and set data path"
   ]
  },
  {
   "cell_type": "code",
   "execution_count": null,
   "metadata": {
    "collapsed": false,
    "jupyter": {
     "outputs_hidden": false
    },
    "scrolled": true
   },
   "outputs": [],
   "source": [
    "# Import os to easily join names of filepaths\n",
    "import os\n",
    "# Choose the path, were the experiment should be created (or opened from)\n",
    "#\n",
    "# datadir: The path to where the experiment (and the data) are located\n",
    "# datafile: The name of the file that contains the data. Here it is only used to generate dbfile.\n",
    "#           The data is loaded further down upon creation of a Record.\n",
    "# dbfile: The name of the database file the experiment is saved to (or loaded from).\n",
    "\n",
    "datadir = '../exampleData/height_calibration_time_series/'\n",
    "datafile = 'B01.bin'\n",
    "\n",
    "# For the name of the experiment, exchange the extension '.bin' with '.fs'\n",
    "dbfile = os.path.join(datadir, datafile.replace('.bin', '.fs'))\n",
    "\n",
    "# Create the experiment (this will implicitly create/open the dbfile in datadir)\n",
    "# and assign it to the variable 'experiment'\n",
    "experiment = pyoti.open_experiment(dbfile)\n",
    "\n",
    "cfgfile = '../../../PyOTIC/pyoti/pyoti/etc/record/ASWAD.cfg'\n",
    "\n",
    "record = experiment.create_record(filename=datafile,  # data file to read\n",
    "                                  cfgfile=cfgfile,  # setup specific configuration file\n",
    "                                  directory=datadir)  # data directory"
   ]
  },
  {
   "cell_type": "code",
   "execution_count": null,
   "metadata": {
    "collapsed": false,
    "jupyter": {
     "outputs_hidden": false
    }
   },
   "outputs": [],
   "source": [
    "experiment._grs.displayrate = 50\n",
    "experiment.add_view('psd1', 'alpha', traces=['psdXYZ', 'positionXYZ'])"
   ]
  },
  {
   "cell_type": "markdown",
   "metadata": {},
   "source": [
    "### determine amount of data (time) needed "
   ]
  },
  {
   "cell_type": "code",
   "execution_count": null,
   "metadata": {
    "collapsed": false,
    "jupyter": {
     "outputs_hidden": false
    }
   },
   "outputs": [],
   "source": [
    "N_avg = 80\n",
    "ex_freq = 32.0\n",
    "\n",
    "# posible minimum frequencies\n",
    "print([ex_freq/ndiv for ndiv in range(1, 6)])\n",
    "\n",
    "print('choose the minimum frequency:')\n",
    "min_freq = float(input())\n",
    "\n",
    "t_psd = 1/min_freq\n",
    "print('Time for one psd: {0:1.3f} s'.format(t_psd))\n",
    "\n",
    "t_total = N_avg * t_psd\n",
    "print('Time needed for measurement: {0:1.3f} s'.format(t_total))"
   ]
  },
  {
   "cell_type": "code",
   "execution_count": null,
   "metadata": {
    "collapsed": false,
    "jupyter": {
     "outputs_hidden": false
    }
   },
   "outputs": [],
   "source": [
    "from pyotc import gen_psdm_from_region\n",
    "\n",
    "region = experiment.view('psd1')"
   ]
  },
  {
   "cell_type": "code",
   "execution_count": null,
   "metadata": {
    "collapsed": false,
    "jupyter": {
     "outputs_hidden": false
    }
   },
   "outputs": [],
   "source": [
    "T_msr = 5.0\n",
    "T_delay = 0.5\n",
    "N_avg = N_avg\n",
    "\n",
    "es = pyotc.ExpSetting(temp=29.2, radius=0.43,\n",
    "                      temp_err=0.001, radius_err=0.43e-3,\n",
    "                      temp_unit='degC', radius_unit='um',\n",
    "                      height=-1 * region.get_data('positionZ').mean(),\n",
    "                      height_unit='um',\n",
    "                      material='ps', medium='water')\n",
    "\n",
    "\n",
    "# traces to calculate psds of\n",
    "psd_traces = ['psdX', 'psdY', 'psdZ']\n",
    "\n",
    "position_unit = 'um'\n",
    "\n",
    "pm = gen_psdm_from_region(region, T_msr, N_avg, T_delay=1.0, psd_traces=psd_traces, exp_setting=es,\n",
    "                          active_calibration=True, ex_freq=ex_freq)\n"
   ]
  },
  {
   "cell_type": "code",
   "execution_count": null,
   "metadata": {
    "collapsed": false,
    "jupyter": {
     "outputs_hidden": false
    }
   },
   "outputs": [],
   "source": [
    "pm.plot_psds()\n"
   ]
  },
  {
   "cell_type": "code",
   "execution_count": null,
   "metadata": {
    "collapsed": false,
    "jupyter": {
     "outputs_hidden": false
    }
   },
   "outputs": [],
   "source": [
    "pf = pyotc.PSDFit(pm)\n",
    "pf.setup_fit(model='hydro')\n",
    "\n",
    "bounds = {'psdX': (40, 15e3), 'psdY': (40, 15e3), 'psdZ': (200, 4e3)}\n",
    "pf.fit_psds(dynamic_bounds=True, bounds=bounds, plot_fits=True)"
   ]
  },
  {
   "cell_type": "code",
   "execution_count": null,
   "metadata": {
    "collapsed": false,
    "jupyter": {
     "outputs_hidden": false
    }
   },
   "outputs": [],
   "source": [
    "pf.write_results_to_file(directory=pm.directory, fname=pm.paramfile)"
   ]
  }
 ],
 "metadata": {
  "kernelspec": {
   "display_name": "Python 3",
   "language": "python",
   "name": "python3"
  },
  "language_info": {
   "codemirror_mode": {
    "name": "ipython",
    "version": 3
   },
   "file_extension": ".py",
   "mimetype": "text/x-python",
   "name": "python",
   "nbconvert_exporter": "python",
   "pygments_lexer": "ipython3",
   "version": "3.9.1"
  }
 },
 "nbformat": 4,
 "nbformat_minor": 4
}
