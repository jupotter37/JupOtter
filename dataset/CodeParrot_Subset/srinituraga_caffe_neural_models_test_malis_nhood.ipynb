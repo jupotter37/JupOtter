{
 "cells": [
  {
   "cell_type": "code",
   "execution_count": 1,
   "metadata": {
    "collapsed": true
   },
   "outputs": [],
   "source": [
    "import numpy as np\n",
    "import malis as m\n",
    "import h5py\n",
    "np.set_printoptions(precision=4)"
   ]
  },
  {
   "cell_type": "code",
   "execution_count": 127,
   "metadata": {
    "collapsed": true
   },
   "outputs": [],
   "source": [
    "def mknhood2d(radius=1):\n",
    "    # Makes nhood structures for some most used dense graphs.\n",
    "\n",
    "    ceilrad = np.ceil(radius)\n",
    "    x = np.arange(-ceilrad,ceilrad+1,1)\n",
    "    y = np.arange(-ceilrad,ceilrad+1,1)\n",
    "    [i,j] = np.meshgrid(y,x)\n",
    "\n",
    "    idxkeep = (i**2+j**2)<=radius**2\n",
    "    i=i[idxkeep].ravel(); j=j[idxkeep].ravel();\n",
    "    zeroIdx = np.ceil(len(i)/2).astype(int);\n",
    "\n",
    "    # flipud and order (j,i,k) so that mknhood2(1) matches mknhood(6)\n",
    "    nhood = np.vstack((i[:zeroIdx],j[:zeroIdx])).T.astype(np.int32)\n",
    "    return np.ascontiguousarray(nhood)\n",
    "\n",
    "def mknhood3d(radius=1):\n",
    "    # Makes nhood structures for some most used dense graphs.\n",
    "    # The neighborhood reference for the dense graph representation we use\n",
    "    # nhood(1,:) is a 3 vector that describe the node that conn(:,:,:,1) connects to\n",
    "    # so to use it: conn(23,12,42,3) is the edge between node [23 12 42] and [23 12 42]+nhood(3,:)\n",
    "    # See? It's simple! nhood is just the offset vector that the edge corresponds to.\n",
    "\n",
    "    ceilrad = np.ceil(radius)\n",
    "    x = np.arange(-ceilrad,ceilrad+1,1)\n",
    "    y = np.arange(-ceilrad,ceilrad+1,1)\n",
    "    z = np.arange(-ceilrad,ceilrad+1,1)\n",
    "    [i,j,k] = np.meshgrid(z,y,z)\n",
    "\n",
    "    idxkeep = (i**2+j**2+k**2)<=radius**2\n",
    "    i=i[idxkeep].ravel(); j=j[idxkeep].ravel(); k=k[idxkeep].ravel();\n",
    "    zeroIdx = np.ceil(len(i)/2).astype(int);\n",
    "\n",
    "    # flipud and order (j,i,k) so that mknhood2(1) matches mknhood(6)\n",
    "    nhood = np.vstack((k[:zeroIdx],i[:zeroIdx],j[:zeroIdx])).T.astype(np.int32)\n",
    "    return np.ascontiguousarray(nhood)\n",
    "\n",
    "def mknhood3d_aniso(radiusxy=1,radiusxy_zminus1=1.8):\n",
    "    # Makes nhood structures for some most used dense graphs.\n",
    "\n",
    "    nhoodxyz = mknhood3d(radiusxy)\n",
    "    nhoodxy_zminus1 = mknhood2d(radiusxy_zminus1)\n",
    "    \n",
    "    nhood = np.zeros((nhoodxyz.shape[0]+2*nhoodxy_zminus1.shape[0],3),dtype=np.int)\n",
    "    nhood[:3,:3] = nhoodxyz\n",
    "    nhood[3:,0] = -1\n",
    "    nhood[3:,1:] = np.vstack((nhoodxy_zminus1,-nhoodxy_zminus1))\n",
    "\n",
    "    return np.ascontiguousarray(nhood)\n"
   ]
  },
  {
   "cell_type": "code",
   "execution_count": 128,
   "metadata": {
    "collapsed": false
   },
   "outputs": [
    {
     "name": "stdout",
     "output_type": "stream",
     "text": [
      "[[ 0  0 -1]\n",
      " [ 0 -1  0]\n",
      " [-1  0  0]]\n"
     ]
    }
   ],
   "source": [
    "nh=mknhood3d()\n",
    "print nh"
   ]
  },
  {
   "cell_type": "code",
   "execution_count": 129,
   "metadata": {
    "collapsed": false
   },
   "outputs": [
    {
     "name": "stdout",
     "output_type": "stream",
     "text": [
      "[[ 0  0 -1]\n",
      " [ 0 -1  0]\n",
      " [-1  0  0]\n",
      " [-1 -1 -1]\n",
      " [-1  0 -1]\n",
      " [-1  1 -1]\n",
      " [-1 -1  0]\n",
      " [-1  1  1]\n",
      " [-1  0  1]\n",
      " [-1 -1  1]\n",
      " [-1  1  0]]\n"
     ]
    }
   ],
   "source": [
    "nh=mknhood3d_aniso()\n",
    "print nh"
   ]
  },
  {
   "cell_type": "code",
   "execution_count": null,
   "metadata": {
    "collapsed": true
   },
   "outputs": [],
   "source": []
  }
 ],
 "metadata": {
  "kernelspec": {
   "display_name": "Python 2",
   "language": "python",
   "name": "python2"
  },
  "language_info": {
   "codemirror_mode": {
    "name": "ipython",
    "version": 2
   },
   "file_extension": ".py",
   "mimetype": "text/x-python",
   "name": "python",
   "nbconvert_exporter": "python",
   "pygments_lexer": "ipython2",
   "version": "2.7.10"
  }
 },
 "nbformat": 4,
 "nbformat_minor": 0
}
