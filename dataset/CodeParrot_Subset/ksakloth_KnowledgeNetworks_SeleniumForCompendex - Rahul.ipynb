{
 "cells": [
  {
   "cell_type": "code",
   "execution_count": null,
   "metadata": {
    "collapsed": true
   },
   "outputs": [],
   "source": [
    "import selenium\n",
    "from selenium import webdriver\n",
    "from selenium.webdriver.common.keys import Keys\n",
    "from selenium.webdriver.support.ui import Select\n",
    "from selenium.webdriver.support.ui import WebDriverWait\n",
    "from selenium.webdriver.support import expected_conditions as EC\n",
    "from selenium.webdriver.common.by import By"
   ]
  },
  {
   "cell_type": "code",
   "execution_count": null,
   "metadata": {
    "collapsed": false
   },
   "outputs": [],
   "source": [
    "def compendex(username,password,keywords,no_of_pages,pg_no):\n",
    "    \"\"\"\n",
    "    Function to download results from Compendex\n",
    "    \"\"\"\n",
    "    #Initializing driver\n",
    "    driver = webdriver.Chrome()\n",
    "    driver.get(\"https://www-engineeringvillage-com.offcampus.lib.washington.edu/search/quick.url?CID=quickSearch&database=compendex\")\n",
    "    #UW Net ID Login\n",
    "    if (driver.title == \"UW NetID Weblogin\"):\n",
    "        username_textbox = driver.find_element_by_id('weblogin_netid')\n",
    "        username_textbox.send_keys(username)\n",
    "        password_textbox = driver.find_element_by_id('weblogin_password')\n",
    "        password_textbox.send_keys(password)\n",
    "        submit_button = driver.find_element_by_name('submit').click()\n",
    "    #Search keywords\n",
    "    driver.find_element_by_id(\"srchWrd1\").send_keys(keywords[0])\n",
    "    driver.find_element_by_id(\"addsearchllink\").click()\n",
    "    for i in range(len(keywords)-1):\n",
    "        if i<2:\n",
    "            dropdown1 = driver.find_element_by_id(\"cbnt%d\"%(i+1))\n",
    "            Select(dropdown1).select_by_visible_text(\"OR\")\n",
    "            driver.find_element_by_id(\"srchWrd%d\"%(i+2)).send_keys(keywords[i+1])\n",
    "        else:\n",
    "            dropdown1 = driver.find_element_by_id('connector')\n",
    "            Select(dropdown1).select_by_visible_text(\"OR\")\n",
    "            driver.find_element_by_name(\"searchWords\").send_keys(keywords[i+1])\n",
    "        driver.find_element_by_id(\"addsearchllink\").click()\n",
    "    driver.find_element_by_xpath('//*[@id=\"advancedOptionstoggleAnchor\"]').click()\n",
    "    WebDriverWait(driver, 30).until(EC.visibility_of_element_located((By.XPATH,'//*[@id=\"startyrrange\"]')));\n",
    "    dropdown1 = driver.find_element_by_xpath('//*[@id=\"startyrrange\"]')\n",
    "    Select(dropdown1).select_by_visible_text(\"2000\")\n",
    "    driver.find_element_by_id(\"submitsearch_tool\").click()\n",
    "    #Increase number of results in page to 100\n",
    "    WebDriverWait(driver,5).until(EC.presence_of_element_located((By.ID, \"pageSizeVal_top\")))\n",
    "    dropdown1=driver.find_element_by_id(\"pageSizeVal_top\")\n",
    "    Select(dropdown1).select_by_visible_text(\"100\")\n",
    "    #Page number\n",
    "    WebDriverWait(driver,5).until(EC.presence_of_element_located((By.XPATH, '//*[@id=\"gotopage_top\"]/span[2]/input[1]')))\n",
    "    driver.find_element_by_xpath('//*[@id=\"gotopage_top\"]/span[2]/input[1]').clear()\n",
    "    driver.find_element_by_xpath('//*[@id=\"gotopage_top\"]/span[2]/input[1]').send_keys(pg_no)\n",
    "    driver.find_element_by_xpath('//*[@id=\"gotopage_top\"]/span[2]/input[2]').click()\n",
    "    #Select all results\n",
    "    WebDriverWait(driver,5).until(EC.presence_of_element_located((By.ID, \"pageckbx\")))\n",
    "    driver.find_element_by_id(\"pageckbx\").click()\n",
    "    for i in range(4):\n",
    "        driver.find_element_by_class_name(\"blackpipeleft\").click()\n",
    "        WebDriverWait(driver,5).until(EC.presence_of_element_located((By.ID, \"pageckbx\")))\n",
    "        driver.find_element_by_id(\"pageckbx\").click()\n",
    "    WebDriverWait(driver,5).until(EC.presence_of_element_located((By.ID, \"downloadli\")))\n",
    "    WebDriverWait(driver, 30).until(EC.visibility_of_element_located((By.ID,'downloadli')));\n",
    "    driver.find_element_by_id(\"downloadli\").click()\n",
    "    WebDriverWait(driver,5).until(EC.presence_of_element_located((By.ID, \"rdCsv\")))\n",
    "    driver.find_element_by_id(\"rdCsv\").click()\n",
    "    driver.find_element_by_id(\"rdDet\").click()\n",
    "    driver.find_element_by_id(\"savePrefsButton\").click()\n",
    "    for i in range(no_of_pages-1):\n",
    "        driver.find_element_by_id(\"clearbasket\").click()\n",
    "        #WebDriverWait(driver,5).until(EC.presence_of_element_located((By.XPATH,\"/html/body/div[12]/div[3]/div/button[1]\")))\n",
    "        driver.find_element_by_xpath(\"/html/body/div[12]/div[3]/div/button[1]\").click()\n",
    "        for i in range(5):\n",
    "            driver.find_element_by_class_name(\"blackpipeleft\").click()\n",
    "            WebDriverWait(driver,5).until(EC.presence_of_element_located((By.ID, \"pageckbx\")))\n",
    "            driver.find_element_by_id(\"pageckbx\").click()\n",
    "        WebDriverWait(driver,5).until(EC.presence_of_element_located((By.ID, \"downloadli\")))\n",
    "        WebDriverWait(driver, 30).until(EC.visibility_of_element_located((By.ID,'downloadli')));\n",
    "        driver.find_element_by_id(\"downloadli\").click()\n",
    "    return"
   ]
  },
  {
   "cell_type": "code",
   "execution_count": null,
   "metadata": {
    "collapsed": false
   },
   "outputs": [],
   "source": [
    "username = '<username>'\n",
    "password = '<password>'\n",
    "keywords = ['nuclear','atomic','uranium','centrifuge']\n",
    "#Each page has 500 results\n",
    "no_of_pages = 8\n",
    "#Page Number\n",
    "pg_no = 1\n",
    "compendex(username,password,keywords,no_of_pages,pg_no)"
   ]
  }
 ],
 "metadata": {
  "anaconda-cloud": {},
  "kernelspec": {
   "display_name": "Python [default]",
   "language": "python",
   "name": "python3"
  },
  "language_info": {
   "codemirror_mode": {
    "name": "ipython",
    "version": 3
   },
   "file_extension": ".py",
   "mimetype": "text/x-python",
   "name": "python",
   "nbconvert_exporter": "python",
   "pygments_lexer": "ipython3",
   "version": "3.5.3"
  }
 },
 "nbformat": 4,
 "nbformat_minor": 0
}
