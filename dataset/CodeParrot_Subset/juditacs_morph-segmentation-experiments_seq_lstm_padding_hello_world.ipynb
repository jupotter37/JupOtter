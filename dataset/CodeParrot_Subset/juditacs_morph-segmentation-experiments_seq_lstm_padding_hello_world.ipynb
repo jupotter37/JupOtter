{
 "cells": [
  {
   "cell_type": "code",
   "execution_count": 10,
   "metadata": {},
   "outputs": [],
   "source": [
    "import numpy as np\n",
    "from keras.utils.np_utils import to_categorical\n",
    "from keras.layers import Input, Dense, Embedding, Masking, Bidirectional\n",
    "from keras.layers.recurrent import LSTM\n",
    "from keras.models import Model\n",
    "from keras.layers.wrappers import TimeDistributed\n",
    "import keras"
   ]
  },
  {
   "cell_type": "markdown",
   "metadata": {},
   "source": [
    "# Toy data"
   ]
  },
  {
   "cell_type": "code",
   "execution_count": 2,
   "metadata": {
    "collapsed": true
   },
   "outputs": [],
   "source": [
    "samples = [\n",
    "    (u\"autót\", \"BEEEB\"),\n",
    "    (u\"autót\", \"BEEEB\"),\n",
    "    (u\"autót\", \"BEEEB\"),\n",
    "    (u\"autókat\", \"BEEEBEB\"),\n",
    "]"
   ]
  },
  {
   "cell_type": "markdown",
   "metadata": {},
   "source": [
    "## Featurizing the toy dataset"
   ]
  },
  {
   "cell_type": "code",
   "execution_count": 3,
   "metadata": {
    "collapsed": true
   },
   "outputs": [],
   "source": [
    "maxlen = max(len(s[0]) for s in samples)\n",
    "vocab_x = {'PAD': 0}\n",
    "vocab_y = {'PAD': 0}\n",
    "\n",
    "def pad_sample(sample):\n",
    "    return [0] * (maxlen - len(sample)) + sample\n",
    "\n",
    "data_x = [pad_sample([vocab_x.setdefault(c, len(vocab_x)) for c in sample[0]]) for sample in samples]\n",
    "data_y = [to_categorical(pad_sample([vocab_y.setdefault(c, len(vocab_y)) for c in sample[1]])) for sample in samples]\n",
    "\n",
    "data_x = np.array(data_x)\n",
    "data_y = np.array(data_y)"
   ]
  },
  {
   "cell_type": "markdown",
   "metadata": {},
   "source": [
    "# Model parameters"
   ]
  },
  {
   "cell_type": "code",
   "execution_count": 4,
   "metadata": {
    "collapsed": true
   },
   "outputs": [],
   "source": [
    "timesteps = maxlen\n",
    "batch_size = 4\n",
    "vocab_size = len(vocab_x)\n",
    "embedding_size = 10\n",
    "seq_size = 50\n",
    "mlp_size = len(vocab_y)"
   ]
  },
  {
   "cell_type": "markdown",
   "metadata": {},
   "source": [
    "# Model definition"
   ]
  },
  {
   "cell_type": "code",
   "execution_count": 5,
   "metadata": {
    "collapsed": true
   },
   "outputs": [],
   "source": [
    "xin = Input(batch_shape=(batch_size, timesteps), dtype='int32')\n",
    "xemb = Embedding(vocab_size, embedding_size)(xin)\n",
    "xemb = Masking(mask_value=0.)(xemb)\n",
    "seq = Bidirectional(LSTM(seq_size, return_sequences=True))(xemb)\n",
    "mlp = TimeDistributed(Dense(mlp_size, activation='softmax'))(seq)\n",
    "model = Model(inputs=xin, outputs=mlp)\n",
    "model.compile(optimizer='Adam', loss='categorical_crossentropy')"
   ]
  },
  {
   "cell_type": "markdown",
   "metadata": {},
   "source": [
    "# Training and testing"
   ]
  },
  {
   "cell_type": "code",
   "execution_count": 6,
   "metadata": {},
   "outputs": [
    {
     "data": {
      "text/plain": [
       "<keras.callbacks.History at 0x7fd4f8bbcfd0>"
      ]
     },
     "execution_count": 6,
     "metadata": {},
     "output_type": "execute_result"
    }
   ],
   "source": [
    "model.fit(data_x, data_y, epochs=500, verbose=0)"
   ]
  },
  {
   "cell_type": "code",
   "execution_count": 8,
   "metadata": {},
   "outputs": [
    {
     "name": "stdout",
     "output_type": "stream",
     "text": [
      "4/4 [==============================] - 0s\n"
     ]
    },
    {
     "data": {
      "text/plain": [
       "0.00095214252360165119"
      ]
     },
     "execution_count": 8,
     "metadata": {},
     "output_type": "execute_result"
    }
   ],
   "source": [
    "model.evaluate(data_x, data_y)"
   ]
  },
  {
   "cell_type": "code",
   "execution_count": 9,
   "metadata": {
    "collapsed": true
   },
   "outputs": [],
   "source": [
    "model.save('/tmp/toy_model')"
   ]
  },
  {
   "cell_type": "code",
   "execution_count": 12,
   "metadata": {},
   "outputs": [
    {
     "name": "stdout",
     "output_type": "stream",
     "text": [
      "_________________________________________________________________\n",
      "Layer (type)                 Output Shape              Param #   \n",
      "=================================================================\n",
      "input_1 (InputLayer)         (4, 7)                    0         \n",
      "_________________________________________________________________\n",
      "embedding_1 (Embedding)      (4, 7, 10)                60        \n",
      "_________________________________________________________________\n",
      "masking_1 (Masking)          (4, 7, 10)                0         \n",
      "_________________________________________________________________\n",
      "bidirectional_1 (Bidirection (4, 7, 100)               24400     \n",
      "_________________________________________________________________\n",
      "time_distributed_1 (TimeDist (4, 7, 3)                 303       \n",
      "=================================================================\n",
      "Total params: 24,763\n",
      "Trainable params: 24,763\n",
      "Non-trainable params: 0\n",
      "_________________________________________________________________\n"
     ]
    }
   ],
   "source": [
    "m = keras.models.load_model('/tmp/toy_model')\n",
    "m.summary()"
   ]
  },
  {
   "cell_type": "code",
   "execution_count": 13,
   "metadata": {},
   "outputs": [
    {
     "data": {
      "text/plain": [
       "array([[[  9.99483585e-01,   4.77622438e-04,   3.86894644e-05],\n",
       "        [  9.99053895e-01,   8.44825641e-04,   1.01257952e-04],\n",
       "        [  4.58437018e-04,   9.99414802e-01,   1.26775732e-04],\n",
       "        [  8.96619881e-08,   1.07046770e-04,   9.99892831e-01],\n",
       "        [  3.00282021e-11,   3.59821314e-07,   9.99999642e-01],\n",
       "        [  2.60060840e-09,   3.54139105e-04,   9.99645829e-01],\n",
       "        [  2.98374744e-07,   9.98308778e-01,   1.69083721e-03]],\n",
       "\n",
       "       [[  9.99483585e-01,   4.77622438e-04,   3.86894644e-05],\n",
       "        [  9.99053895e-01,   8.44825641e-04,   1.01257952e-04],\n",
       "        [  4.58437018e-04,   9.99414802e-01,   1.26775732e-04],\n",
       "        [  8.96619881e-08,   1.07046770e-04,   9.99892831e-01],\n",
       "        [  3.00282021e-11,   3.59821314e-07,   9.99999642e-01],\n",
       "        [  2.60060840e-09,   3.54139105e-04,   9.99645829e-01],\n",
       "        [  2.98374744e-07,   9.98308778e-01,   1.69083721e-03]],\n",
       "\n",
       "       [[  9.99483585e-01,   4.77622438e-04,   3.86894644e-05],\n",
       "        [  9.99053895e-01,   8.44825641e-04,   1.01257952e-04],\n",
       "        [  4.58437018e-04,   9.99414802e-01,   1.26775732e-04],\n",
       "        [  8.96619881e-08,   1.07046770e-04,   9.99892831e-01],\n",
       "        [  3.00282021e-11,   3.59821314e-07,   9.99999642e-01],\n",
       "        [  2.60060840e-09,   3.54139105e-04,   9.99645829e-01],\n",
       "        [  2.98374744e-07,   9.98308778e-01,   1.69083721e-03]],\n",
       "\n",
       "       [[  1.08423491e-03,   9.98783171e-01,   1.32616784e-04],\n",
       "        [  2.84857265e-07,   6.36511186e-06,   9.99993324e-01],\n",
       "        [  1.73078574e-09,   7.95891566e-08,   9.99999881e-01],\n",
       "        [  8.77982188e-07,   1.09988404e-03,   9.98899221e-01],\n",
       "        [  1.55240559e-06,   9.97682333e-01,   2.31608399e-03],\n",
       "        [  8.73340369e-08,   5.22461394e-03,   9.94775295e-01],\n",
       "        [  3.47519801e-07,   9.95841086e-01,   4.15855786e-03]]], dtype=float32)"
      ]
     },
     "execution_count": 13,
     "metadata": {},
     "output_type": "execute_result"
    }
   ],
   "source": [
    "m.predict(data_x)"
   ]
  }
 ],
 "metadata": {
  "kernelspec": {
   "display_name": "Python 2",
   "language": "python",
   "name": "python2"
  },
  "language_info": {
   "codemirror_mode": {
    "name": "ipython",
    "version": 2
   },
   "file_extension": ".py",
   "mimetype": "text/x-python",
   "name": "python",
   "nbconvert_exporter": "python",
   "pygments_lexer": "ipython2",
   "version": "2.7.13"
  }
 },
 "nbformat": 4,
 "nbformat_minor": 2
}
