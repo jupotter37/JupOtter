{
 "cells": [
  {
   "cell_type": "markdown",
   "metadata": {},
   "source": [
    "### WHO declares an end to the Ebola outbreak in the Democratic Republic of the Congo\n",
    "**Info** - Brazzaville/Kinshasa, 2 July 2017<br>\n",
    "**Site** - World Health Organization<br>\n",
    "**Link** - http://www.afro.who.int/news/who-declares-end-ebola-outbreak-democratic-republic-congo\n",
    "\n",
    ">\"Related to the outbreak, 4 people died, and 4 people survived the disease. Five of these cases were laboratory confirmed.  A total of 583 contacts were registered and closely monitored, but no known contacts developed signs or symptoms of EVD.\"\n",
    "\n",
    "Our notes: This is eight outbreak of ebola virus cases in DRC since the discovery of the virus in the country in 1976."
   ]
  },
  {
   "cell_type": "markdown",
   "metadata": {},
   "source": [
    "### WHO Ebola virus disease - Fact sheet\n",
    "**Info** - Updated June 2017, retrieved from site on 01 August 2017<br>\n",
    "**Site** - World Health Organization\n",
    "**Link** - http://www.who.int/mediacentre/factsheets/fs103/en/\n",
    "\n",
    ">**Symptoms of Ebola virus disease** <br>\n",
    ">The incubation period, that is, the time interval from infection with the virus to onset of symptoms is 2 to 21 days. Humans are not infectious until they develop symptoms. First symptoms are the sudden onset of fever fatigue, muscle pain, headache and sore throat. This is followed by vomiting, diarrhoea, rash, symptoms of impaired kidney and liver function, and in some cases, both internal and external bleeding (e.g. oozing from the gums, blood in the stools). Laboratory findings include low white blood cell and platelet counts and elevated liver enzymes."
   ]
  },
  {
   "cell_type": "markdown",
   "metadata": {},
   "source": [
    "### Ebola virus disease\n",
    "**Info** - Page last reviewed: 11/10/2016, retrieved from site on 01 August 2017<br>\n",
    "**site** - NHS, uk<br>\n",
    "**Link** - http://www.nhs.uk/conditions/ebola-virus/Pages/Ebola-virus.aspx\n",
    "\n",
    ">**How Ebola is spread?** <br>\n",
    ">The Ebola virus is spread in the blood, body fluids or organs of a person or animal with the infection.<br>\n",
    ">For example, it can be spread by: <br>\n",
    ">* directly touching the body of someone with the infection who has symptoms or recently died – the virus can survive for several days outside the body\n",
    ">* cleaning up body fluids (blood, stools, urine or vomit) or touching the soiled clothing of an infected person\n",
    ">* handling unsterilised needles or medical equipment used in the care of the infected person\n",
    ">* having sex with an infected person without using a condom – studies show traces of Ebola may remain in a man's semen many months after he has recovered\n",
    ">* handling or eating raw or undercooked \"bushmeat\"\n",
    "\n",
    ">Ebola can't be caught through routine social contact, such as shaking hands, with people who don't have symptoms."
   ]
  },
  {
   "cell_type": "markdown",
   "metadata": {},
   "source": [
    "### Sierra-Leone\n",
    "**Info** - retrieved from the site on 01 August 2017 <br>\n",
    "**Site** - MSF UK <br>\n",
    "**Link** - https://www.msf.org.uk/country/sierra-leone\n",
    ">Sierra Leone was finally declared Ebola-free on 17 March 2016 and the country is now struggling to rebuild its shattered health system."
   ]
  },
  {
   "cell_type": "markdown",
   "metadata": {},
   "source": [
    "### Lliberia\n",
    "**Info** - retrieved from the site on 01 August 2017 <br>\n",
    "**Site** - MSF UK <br>\n",
    "**Link** - https://www.msf.org.uk/country/liberia\n",
    "> Liberia was declared Ebola free in May 2015, but new cases were reported in July and November."
   ]
  },
  {
   "cell_type": "markdown",
   "metadata": {},
   "source": [
    "### Guinea\n",
    "**Info** - retrieved from the site on 01 August 2017 <br>\n",
    "**Site** - MSF UK <br>\n",
    "**Link** - https://www.msf.org.uk/country/guinea<br>\n",
    "Our Note- The end of the Ebola outbreak in Guinea was declared on 29 December (however, new cases of Ebola were declared in Guinea in March 2016)."
   ]
  }
 ],
 "metadata": {
  "kernelspec": {
   "display_name": "Python 3",
   "language": "python",
   "name": "python3"
  },
  "language_info": {
   "codemirror_mode": {
    "name": "ipython",
    "version": 3
   },
   "file_extension": ".py",
   "mimetype": "text/x-python",
   "name": "python",
   "nbconvert_exporter": "python",
   "pygments_lexer": "ipython3",
   "version": "3.6.1"
  }
 },
 "nbformat": 4,
 "nbformat_minor": 2
}
