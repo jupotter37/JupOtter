{
 "cells": [
  {
   "cell_type": "code",
   "execution_count": 1,
   "metadata": {
    "collapsed": false
   },
   "outputs": [],
   "source": [
    "import sciligpy_utils as lig\n",
    "import constants as const\n",
    "import numpy as np\n",
    "import gen_ODE_scipy as gos"
   ]
  },
  {
   "cell_type": "code",
   "execution_count": null,
   "metadata": {
    "collapsed": true
   },
   "outputs": [],
   "source": [
    "species_IC = 'Pseudotsuga_menziesii'\n",
    "T_rate = 2.7+273.15"
   ]
  },
  {
   "cell_type": "code",
   "execution_count": null,
   "metadata": {
    "collapsed": false
   },
   "outputs": [],
   "source": [
    "reactionlist, rateconstantlist, compositionlist = lig.set_paths()\n",
    "y_list = lig.get_specieslist(reactionlist)\n",
    "speciesindices, indices_to_species = lig.get_speciesindices(y_list)\n",
    "kmatrix = lig.build_k_matrix(rateconstantlist)\n",
    "rate_list = lig.build_rates_list_kexp(rateconstantlist, reactionlist, speciesindices, indices_to_species)\n",
    "species_rxns = lig.build_species_rxns_dict(reactionlist)\n",
    "dydt_expressions = lig.build_dydt_list(rate_list, y_list, species_rxns)\n",
    "PLIGC_0, PLIGH_0, PLIGO_0 = lig.define_initial_composition(compositionlist, species_IC)"
   ]
  },
  {
   "cell_type": "code",
   "execution_count": null,
   "metadata": {
    "collapsed": false
   },
   "outputs": [],
   "source": [
    "with open('solve_ODEs_%s.py' %species_IC, 'w') as f:\n",
    "    beginning = \"#!/usr/bin/pythons\\n\" \\\n",
    "            \"# -*- coding: utf-8 -*-\\n\\n\" \\\n",
    "            \"from scipy.integrate import odeint\\n\" \\\n",
    "            \"import numpy as np\\n\\n\\n\" \\\n",
    "            \"def ODEs(y, t, p):\\n\"\n",
    "    f.write(beginning)\n",
    "   \n",
    "    y = '\\tT'\n",
    "    for spec in y_list:\n",
    "        y += (', ' + spec)\n",
    "    y += ' = y'\n",
    "    f.write(y + '\\n')\n",
    "    \n",
    "    parameters = '\\talpha, R, A0, n0, E0'\n",
    "    for i in range(1, len(kmatrix)):\n",
    "        parameters += ', A%s, n%s, E%s' % (i, i, i)\n",
    "    parameters += ' = p\\n'\n",
    "    f.write(parameters)\n",
    "\n",
    "    dydt = '\\tdydt = [alpha'\n",
    "    for ODE in dydt_expressions:\n",
    "        dydt += (', \\n\\t\\t\\t' + ODE.split('=')[1][1:-2])\n",
    "    dydt += ']'\n",
    "    f.write(dydt + '\\n')\n",
    "    f.write('\\treturn dydt\\n\\n')\n",
    "    \n",
    "    f.write('alpha = %s\\nR = %s\\n' %(T_rate, const.GAS_CONST))\n",
    "    f.write('# A, n, E values\\n')\n",
    "    for i in range(len(kmatrix)):\n",
    "        f.write('A%s = %s\\nn%s = %s\\nE%s = %s\\n' %(i, kmatrix[i][0], i, kmatrix[i][1], i, kmatrix[i][2]))\n",
    "        \n",
    "    f.write('\\n# Initial conditions\\n')\n",
    "    f.write('T0 = 298.15\\n')\n",
    "    f.write('PLIGC = %s\\nPLIGH = %s\\nPLIGO = %s\\n' %(PLIGC_0, PLIGH_0, PLIGO_0))\n",
    "    IC = ''\n",
    "    for i in y_list:\n",
    "        if i == 'PLIGC' or i == 'PLIGH' or i == 'PLIGO':\n",
    "            continue\n",
    "        else:\n",
    "            IC += ('%s = ' %i)\n",
    "    IC += '0'\n",
    "    f.write(IC + '\\n\\n')\n",
    "    \n",
    "    f.write('# ODE solver parameters\\n')\n",
    "    f.write('abserr = %s\\n' %const.ABSOLUTE_TOLERANCE)\n",
    "    f.write('relerr = %s\\n' %const.RELATIVE_TOLERANCE)\n",
    "    f.write('stoptime = 2000\\n')\n",
    "    f.write('numpoints = 10000\\n\\n')\n",
    "    \n",
    "    f.write('t = [stoptime * float(i) / (numpoints - 1) for i in range(numpoints)]\\n')\n",
    "    y0 = 'y0 = [T0'\n",
    "    for spec in y_list:\n",
    "        y0 += ', %s' %spec\n",
    "    y0 += ']\\n'\n",
    "    f.write(y0)\n",
    "    \n",
    "    p = 'p = [alpha, R'\n",
    "    for i in range(len(kmatrix)):\n",
    "        p += ', A%s, n%s, E%s' %(i, i, i)\n",
    "    p += ']\\n'\n",
    "    f.write(p)\n",
    "    \n",
    "    f.write('\\nysol = odeint(ODEs, y0, t, args=(p,), atol=abserr, rtol=relerr)\\n\\n')\n",
    "    \n",
    "    f.write(\"with open('sol_%s.dat', 'w') as f:\\n\" %(species_IC))\n",
    "    \n",
    "    ysol = ''\n",
    "    for i in range(len(y_list)+1):\n",
    "        ysol += 'yy[%s], ' %i\n",
    "    f.write('\\tfor tt, yy in zip(t, ysol):\\n')\n",
    "    f.write('\\t\\tprint(tt, %sfile=f)\\n' %ysol)"
   ]
  },
  {
   "cell_type": "code",
   "execution_count": null,
   "metadata": {
    "collapsed": false
   },
   "outputs": [],
   "source": [
    "len(kmatrix)"
   ]
  },
  {
   "cell_type": "code",
   "execution_count": null,
   "metadata": {
    "collapsed": false
   },
   "outputs": [],
   "source": [
    "np.exp(0)"
   ]
  },
  {
   "cell_type": "code",
   "execution_count": null,
   "metadata": {
    "collapsed": false
   },
   "outputs": [],
   "source": [
    "rate_list"
   ]
  },
  {
   "cell_type": "code",
   "execution_count": null,
   "metadata": {
    "collapsed": false
   },
   "outputs": [],
   "source": [
    "dydt_expressions"
   ]
  },
  {
   "cell_type": "code",
   "execution_count": null,
   "metadata": {
    "collapsed": false
   },
   "outputs": [],
   "source": [
    "kmatrix"
   ]
  },
  {
   "cell_type": "code",
   "execution_count": null,
   "metadata": {
    "collapsed": false
   },
   "outputs": [],
   "source": [
    "-1*2"
   ]
  },
  {
   "cell_type": "code",
   "execution_count": null,
   "metadata": {
    "collapsed": false
   },
   "outputs": [],
   "source": [
    "a=1; b=2"
   ]
  },
  {
   "cell_type": "code",
   "execution_count": null,
   "metadata": {
    "collapsed": false
   },
   "outputs": [],
   "source": [
    "a"
   ]
  },
  {
   "cell_type": "code",
   "execution_count": null,
   "metadata": {
    "collapsed": false
   },
   "outputs": [],
   "source": [
    "b"
   ]
  },
  {
   "cell_type": "code",
   "execution_count": 2,
   "metadata": {
    "collapsed": true
   },
   "outputs": [],
   "source": [
    "gos.heating()"
   ]
  },
  {
   "cell_type": "code",
   "execution_count": null,
   "metadata": {
    "collapsed": false
   },
   "outputs": [],
   "source": [
    "gos.isothermal()"
   ]
  },
  {
   "cell_type": "code",
   "execution_count": null,
   "metadata": {
    "collapsed": false
   },
   "outputs": [],
   "source": [
    "def func(a, b, c, d):\n",
    "    return a, b, c, d"
   ]
  },
  {
   "cell_type": "code",
   "execution_count": null,
   "metadata": {
    "collapsed": false
   },
   "outputs": [],
   "source": [
    "a, b, c , d= func(2, 4, 6, 8)"
   ]
  },
  {
   "cell_type": "code",
   "execution_count": null,
   "metadata": {
    "collapsed": false
   },
   "outputs": [],
   "source": [
    "round(3.14)"
   ]
  },
  {
   "cell_type": "code",
   "execution_count": null,
   "metadata": {
    "collapsed": false
   },
   "outputs": [],
   "source": [
    "a = [3, 4, 5, 6]\n",
    "print('3', end='\\t')\n",
    "[print(a[i], end='\\t') for i in [1, 2, 3]]"
   ]
  },
  {
   "cell_type": "code",
   "execution_count": null,
   "metadata": {
    "collapsed": false
   },
   "outputs": [],
   "source": [
    "print(3, \"\\t\".join(str(x) for x in a), sep='\\t')"
   ]
  },
  {
   "cell_type": "code",
   "execution_count": null,
   "metadata": {
    "collapsed": true
   },
   "outputs": [],
   "source": [
    "a = np.array([3, -4, 5, 6])"
   ]
  },
  {
   "cell_type": "code",
   "execution_count": null,
   "metadata": {
    "collapsed": false
   },
   "outputs": [],
   "source": [
    "a = a.clip(min=0)"
   ]
  },
  {
   "cell_type": "code",
   "execution_count": null,
   "metadata": {
    "collapsed": false
   },
   "outputs": [],
   "source": [
    "a"
   ]
  },
  {
   "cell_type": "code",
   "execution_count": null,
   "metadata": {
    "collapsed": true
   },
   "outputs": [],
   "source": []
  },
  {
   "cell_type": "code",
   "execution_count": null,
   "metadata": {
    "collapsed": true
   },
   "outputs": [],
   "source": []
  }
 ],
 "metadata": {
  "anaconda-cloud": {},
  "kernelspec": {
   "display_name": "Python [default]",
   "language": "python",
   "name": "python3"
  },
  "language_info": {
   "codemirror_mode": {
    "name": "ipython",
    "version": 3
   },
   "file_extension": ".py",
   "mimetype": "text/x-python",
   "name": "python",
   "nbconvert_exporter": "python",
   "pygments_lexer": "ipython3",
   "version": "3.5.2"
  }
 },
 "nbformat": 4,
 "nbformat_minor": 2
}
