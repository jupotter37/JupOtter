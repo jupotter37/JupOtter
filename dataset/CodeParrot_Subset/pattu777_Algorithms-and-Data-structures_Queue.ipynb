{
 "cells": [
  {
   "cell_type": "code",
   "execution_count": 6,
   "metadata": {
    "collapsed": false
   },
   "outputs": [],
   "source": [
    "# This is an array based implementation of a Queue.\n",
    "\n",
    "import unittest\n",
    "\n",
    "class Queue(object):\n",
    "    def __init__(self, max_size=0):\n",
    "        self.size = max_size\n",
    "        self.arr = []\n",
    "\n",
    "    def put(self, item):\n",
    "        '''Enqueue an element.'''\n",
    "        if self.is_full():\n",
    "            print \"Queue is full.\"\n",
    "        else:\n",
    "            self.arr.append(item)\n",
    "\n",
    "    def get(self):\n",
    "        '''Pop an item.'''\n",
    "        if self.is_empty():\n",
    "            print \"Queue is empty.\"\n",
    "        else:\n",
    "            self.arr.pop(0)\n",
    "\n",
    "    def is_empty(self):\n",
    "        '''Return if the Queue is empty or not.'''\n",
    "        return len(self.arr) == 0\n",
    "\n",
    "    def is_full(self):\n",
    "        '''Return if the Queue is full or not.'''\n",
    "        return len(self.arr) == self.size\n",
    "\n",
    "    def front(self):\n",
    "        '''Return the front item.'''\n",
    "        if self.is_empty():\n",
    "            print \"Queue is empty.\"\n",
    "        else:\n",
    "            print self.arr[0]\n",
    "\n",
    "    def rear(self):\n",
    "        '''Return the rear item.'''\n",
    "        if self.is_empty():\n",
    "            print \"Queue is empty.\"\n",
    "        else:\n",
    "            print self.arr[len(self.arr)-1]\n",
    "            \n",
    "    def length(self):\n",
    "        \"\"\"Return the number of items in the queue.\"\"\"\n",
    "        return len(self.arr)\n"
   ]
  },
  {
   "cell_type": "code",
   "execution_count": 12,
   "metadata": {
    "collapsed": false
   },
   "outputs": [
    {
     "name": "stderr",
     "output_type": "stream",
     "text": [
      "test_get (__main__.TestQueue) ... ok\n",
      "test_length (__main__.TestQueue) ... ok\n",
      "test_push (__main__.TestQueue) ... ok\n",
      "\n",
      "----------------------------------------------------------------------\n",
      "Ran 3 tests in 0.005s\n",
      "\n",
      "OK\n"
     ]
    }
   ],
   "source": [
    "# Unitt tests for Queue data structure.\n",
    "\n",
    "import unittest\n",
    "\n",
    "class TestQueue(unittest.TestCase):\n",
    "    def __init__(self, *args, **kwargs):\n",
    "        super(TestQueue, self).__init__(*args, **kwargs)\n",
    "        self.queue = Queue(100)\n",
    "        for i in xrange(10):\n",
    "            self.queue.put(i)\n",
    "\n",
    "    def test_length(self):\n",
    "        # Test the length of the Queue.\n",
    "        self.assertEqual(self.queue.length(), 10)\n",
    "\n",
    "    def test_push(self):\n",
    "        # Test put operation.\n",
    "        self.queue.put(191)\n",
    "        self.assertEqual(self.queue.length(), 11)\n",
    "\n",
    "    def test_get(self):\n",
    "        # Test get operation.\n",
    "        self.queue.get()\n",
    "        self.assertEqual(self.queue.length(), 9)\n",
    "        \n",
    "        \n",
    "if __name__ == '__main__':\n",
    "    unittest.main(argv=['ignored', '-v'], exit=False)\n",
    "    "
   ]
  },
  {
   "cell_type": "code",
   "execution_count": null,
   "metadata": {
    "collapsed": true
   },
   "outputs": [],
   "source": []
  }
 ],
 "metadata": {
  "kernelspec": {
   "display_name": "Python 2",
   "language": "python",
   "name": "python2"
  },
  "language_info": {
   "codemirror_mode": {
    "name": "ipython",
    "version": 2
   },
   "file_extension": ".py",
   "mimetype": "text/x-python",
   "name": "python",
   "nbconvert_exporter": "python",
   "pygments_lexer": "ipython2",
   "version": "2.7.11+"
  }
 },
 "nbformat": 4,
 "nbformat_minor": 0
}
