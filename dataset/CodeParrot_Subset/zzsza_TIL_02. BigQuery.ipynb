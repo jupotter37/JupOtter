{
 "cells": [
  {
   "cell_type": "markdown",
   "metadata": {
    "deletable": true,
    "editable": true
   },
   "source": [
    "# BigQuery"
   ]
  },
  {
   "cell_type": "markdown",
   "metadata": {
    "deletable": true,
    "editable": true
   },
   "source": [
    "## 사전작업\n",
    "1. [Google 로그인](https://accounts.google.com/Login)\n",
    "2. [Project 생성 및 선택](https://console.cloud.google.com/project?_ga=1.105140352.267165872.1487136809)\n",
    "\n",
    "    단, 처음에 체험판 등록하면 300$ 제공\n",
    "\n",
    "3. [BigQuery API 등록](https://console.cloud.google.com/flows/enableapi?apiid=bigquery&_ga=1.139222832.267165872.1487136809)\n"
   ]
  },
  {
   "cell_type": "markdown",
   "metadata": {
    "deletable": true,
    "editable": true
   },
   "source": [
    "![BigQuery_UI](https://cloud.google.com/bigquery/images/bigquery-web-ui.png)"
   ]
  },
  {
   "cell_type": "markdown",
   "metadata": {
    "deletable": true,
    "editable": true
   },
   "source": [
    "## Left Side( the navigation bar )\n",
    "- COMPOSE QUERY : 쿼리 생성\n",
    "- Query History\n",
    "- Job History\n",
    "* 의문점 : Job은 뭐라고 정의해야할까-\n",
    "- project명\n",
    "- Public Dataset : 샘플 데이터로 실험 가능\n",
    "\n",
    "## Right Side( Query Editor )\n",
    "- SQL Query 문 작성\n",
    "- format Query를 누르면 조금 더 형식을 맞춤\n",
    "\n",
    "\n",
    "## Keyboard shortcuts\n",
    "| Windows/Linux | Mac | Action | \n",
    "| :---: | :---: | :---: | \n",
    "| Ctrl + Space | Ctrl + Space | If no query is open: compose new query. If query editor is open: autocomplete current word. | \n",
    "| Ctrl + Enter | Cmd + Enter | Run current query. | \n",
    "| Tab | Tab | Autocomplete current word. |\n",
    "| Ctrl | Cmd | Highlight table names. |\n",
    "| Ctrl + click on table name | Cmd + click on table name | Open table schema. |\n",
    "| Ctrl + E | Cmd + E | \tRun query from selection. |\n",
    "| Ctrl + / | Cmd + / | Comment current or selected line(s). |\n",
    "| Ctrl + Shift + F | Cmd + Shift + F | Format query. |"
   ]
  },
  {
   "cell_type": "markdown",
   "metadata": {
    "deletable": true,
    "editable": true
   },
   "source": [
    "# BigQuery 설명\n",
    "\n",
    "- 관계형, noSQL도 아님..! 가까운 것을 찾으라고 하면 NoSQL과 유사하다고 보면 됨\n",
    "- 맵리듀스도 아님\n",
    "- 오픈소스도 아니라는 점-!\n",
    "- 데이터셋 - 테이블 - 스키마 구조\n"
   ]
  },
  {
   "cell_type": "markdown",
   "metadata": {
    "deletable": true,
    "editable": true
   },
   "source": [
    "# 본격 BigQuery\n",
    "\n",
    "- [BigQuery 설명 페이지](https://developers.google.com/bigquery/docs/query-reference?hl=ko#having-)\n",
    "- [BigQuery Web UI](https://bigquery.cloud.google.com/welcome)\n",
    "\n",
    "- COMPOSE QUERY 클릭\n",
    "\n",
    "~~~\n",
    "#standardSQL\n",
    "SELECT\n",
    " weight_pounds, state, year, gestation_weeks\n",
    "FROM\n",
    " `bigquery-public-data.samples.natality`\n",
    "ORDER BY weight_pounds DESC LIMIT 10;\n",
    "~~~\n",
    "\n",
    "\n",
    "- Public Datasets을 클릭하면 각종 데이터를 볼 수 있음"
   ]
  },
  {
   "cell_type": "markdown",
   "metadata": {
    "collapsed": true,
    "deletable": true,
    "editable": true
   },
   "source": [
    "## Data load(in local)\n",
    "[baby names data](http://www.ssa.gov/OACT/babynames/names.zip)\n",
    "\n",
    "- in Web UI, create new dataset 클릭\n",
    "- 이름을 설정한 후, create new table 클릭\n",
    "- 나머지 설정!\n",
    "~~~\n",
    "SELECT\n",
    "  name, count\n",
    "FROM\n",
    "  babynames.names_2014\n",
    "WHERE\n",
    "  gender = 'M'\n",
    "ORDER BY count DESC LIMIT 5;\n",
    "~~~"
   ]
  },
  {
   "cell_type": "markdown",
   "metadata": {
    "deletable": true,
    "editable": true
   },
   "source": [
    "# Reference\n",
    "[Quickstart Using the Web UI](https://cloud.google.com/bigquery/quickstart-web-ui)\n",
    "\n",
    "[빅쿼리 공식문서](https://developers.google.com/bigquery/docs/query-reference?hl=ko#having-)"
   ]
  },
  {
   "cell_type": "markdown",
   "metadata": {
    "collapsed": true,
    "deletable": true,
    "editable": true
   },
   "source": [
    "# Word\n",
    "- incurrying : 초래하는"
   ]
  },
  {
   "cell_type": "code",
   "execution_count": null,
   "metadata": {
    "collapsed": true,
    "deletable": true,
    "editable": true
   },
   "outputs": [],
   "source": []
  }
 ],
 "metadata": {
  "anaconda-cloud": {},
  "kernelspec": {
   "display_name": "Python 3",
   "language": "python",
   "name": "python3"
  },
  "language_info": {
   "codemirror_mode": {
    "name": "ipython",
    "version": 3
   },
   "file_extension": ".py",
   "mimetype": "text/x-python",
   "name": "python",
   "nbconvert_exporter": "python",
   "pygments_lexer": "ipython3",
   "version": "3.6.0"
  }
 },
 "nbformat": 4,
 "nbformat_minor": 0
}
