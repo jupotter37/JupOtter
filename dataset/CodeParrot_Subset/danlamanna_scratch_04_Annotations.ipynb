{
 "cells": [
  {
   "cell_type": "code",
   "execution_count": null,
   "metadata": {
    "collapsed": true
   },
   "outputs": [],
   "source": [
    "%matplotlib inline\n",
    "from matplotlib import pylab as plt\n",
    "import os\n",
    "from geonotebook.wrappers import RasterData, RasterDataCollection"
   ]
  },
  {
   "cell_type": "markdown",
   "metadata": {},
   "source": [
    "## Raster Data"
   ]
  },
  {
   "cell_type": "code",
   "execution_count": null,
   "metadata": {
    "collapsed": false
   },
   "outputs": [],
   "source": [
    "rd = RasterData('data/L57.Globe.month09.2010.hh09vv04.h6v1.doy247to273.NBAR.v3.0.tiff')\n",
    "M.add_layer(rd[[1,2,3]], opacity=0.9, interval=(0.,0.2)).then(\n",
    "  M.set_center(-120.32, 47.84, 9))"
   ]
  },
  {
   "cell_type": "code",
   "execution_count": null,
   "metadata": {
    "collapsed": false
   },
   "outputs": [],
   "source": [
    "d, n = next(M.layers.annotation.polygons[0].data)\n",
    "# d, n = next(M.layers.annotation.rectangles[1].data)"
   ]
  },
  {
   "cell_type": "code",
   "execution_count": null,
   "metadata": {
    "collapsed": false
   },
   "outputs": [],
   "source": [
    "from skimage.exposure import rescale_intensity\n",
    "fig, ax = plt.subplots(figsize=(16, 16))\n",
    "ax.imshow(rescale_intensity(n, (0, 0.3)), interpolation='none')"
   ]
  },
  {
   "cell_type": "code",
   "execution_count": null,
   "metadata": {
    "collapsed": false
   },
   "outputs": [],
   "source": [
    "M.remove_layer(M.layers[-1].name)\n",
    "M.layers.annotation.clear_annotations()"
   ]
  },
  {
   "cell_type": "markdown",
   "metadata": {},
   "source": [
    "## Raster Data Collection"
   ]
  },
  {
   "cell_type": "code",
   "execution_count": null,
   "metadata": {
    "collapsed": false
   },
   "outputs": [],
   "source": [
    "DATA_DIR=\"data/\""
   ]
  },
  {
   "cell_type": "code",
   "execution_count": null,
   "metadata": {
    "collapsed": false
   },
   "outputs": [],
   "source": [
    "def sort_NBAR(path):\n",
    "  m, y = int(path.split(\".\")[2][-2:]), int(path.split(\".\")[3])\n",
    "  return (y * 100) + m\n",
    "\n",
    "\n",
    "PATHS = [DATA_DIR + p for p in sorted([\n",
    "    f for f in os.listdir(DATA_DIR) if f.startswith('L57')], key=sort_NBAR)]"
   ]
  },
  {
   "cell_type": "code",
   "execution_count": null,
   "metadata": {
    "collapsed": false,
    "scrolled": true
   },
   "outputs": [],
   "source": [
    "PATHS"
   ]
  },
  {
   "cell_type": "code",
   "execution_count": null,
   "metadata": {
    "collapsed": false
   },
   "outputs": [],
   "source": [
    "rdc = RasterDataCollection(PATHS)"
   ]
  },
  {
   "cell_type": "code",
   "execution_count": null,
   "metadata": {
    "collapsed": false
   },
   "outputs": [],
   "source": [
    "import matplotlib as mpl\n",
    "import numpy as np\n",
    "\n",
    "def ndvi_colormap(numcolors=11, name='custom_div_cmap', \n",
    "                  mincol='blue', midcol='beige', maxcol='green'):\n",
    "  return mpl.colors.LinearSegmentedColormap.from_list(\n",
    "    name=name, colors=[mincol, midcol, maxcol], N=numcolors)\n",
    "\n",
    "cmap = ndvi_colormap()"
   ]
  },
  {
   "cell_type": "code",
   "execution_count": null,
   "metadata": {
    "collapsed": false
   },
   "outputs": [],
   "source": [
    "M.add_layer(rdc[:,4], 'NBAR', opacity=0.8, colormap=cmap).then(\n",
    " M.set_center(-120.32, 47.84, 9))"
   ]
  },
  {
   "cell_type": "code",
   "execution_count": null,
   "metadata": {
    "collapsed": false
   },
   "outputs": [],
   "source": [
    "M.layers['NBAR'].forward()"
   ]
  },
  {
   "cell_type": "code",
   "execution_count": null,
   "metadata": {
    "collapsed": false
   },
   "outputs": [],
   "source": [
    "from ipywidgets import interact\n",
    "import ipywidgets as widgets\n",
    "\n",
    "M.layers['NBAR'].idx(0)\n",
    "\n",
    "def render_timeseries(idx=0):\n",
    "  M.layers[\"NBAR\"].idx(idx)\n",
    "  \n",
    "interact(render_timeseries, idx=(0, len(M.layers[\"NBAR\"].data) - 1))"
   ]
  },
  {
   "cell_type": "markdown",
   "metadata": {},
   "source": [
    "### Points"
   ]
  },
  {
   "cell_type": "code",
   "execution_count": null,
   "metadata": {
    "collapsed": false
   },
   "outputs": [],
   "source": [
    "import seaborn as sns\n",
    "\n",
    "labels = [\"{}/{}\".format(n.split(\".\")[2][5:], n.split(\".\")[3]) for n in \n",
    "                         M.layers[-1].data.get_names()]\n",
    "\n",
    "fig, ax = plt.subplots(1,1, figsize=(12, 8))\n",
    "plt.title(\"NDVI over selected points\")\n",
    "plt.xticks(range(len(M.layers[-1].data))[::4], labels[::4])\n",
    "\n",
    "for p in M.layers.annotation.points:\n",
    "  layer, data = next(p.data)\n",
    "  ax.plot(data, color=p.rgb, label=p.name)\n",
    "  \n",
    "plt.legend()"
   ]
  },
  {
   "cell_type": "code",
   "execution_count": null,
   "metadata": {
    "collapsed": false
   },
   "outputs": [],
   "source": [
    "M.layers.annotation.clear_annotations()"
   ]
  },
  {
   "cell_type": "markdown",
   "metadata": {},
   "source": [
    "### Polygons"
   ]
  },
  {
   "cell_type": "code",
   "execution_count": null,
   "metadata": {
    "collapsed": false
   },
   "outputs": [],
   "source": [
    "import seaborn as sns\n",
    "\n",
    "labels = [\"{}/{}\".format(n.split(\".\")[2][5:], n.split(\".\")[3]) for n in \n",
    "                         M.layers[-1].data.get_names()]\n",
    "\n",
    "fig, ax = plt.subplots(1,1, figsize=(12, 8))\n",
    "plt.title(\"Mean NDVI over selected polygons\")\n",
    "plt.xticks(range(len(M.layers[-1].data))[::4], labels[::4])\n",
    "\n",
    "for p in M.layers.annotation.polygons:\n",
    "  layer, data = next(p.data)\n",
    "  time, lat, lon = data.shape\n",
    "  ax.plot(data.reshape(time, lat * lon).mean(axis=1),\n",
    "          color=p.rgb, label=p.name)\n",
    "\n",
    "plt.legend()"
   ]
  },
  {
   "cell_type": "code",
   "execution_count": null,
   "metadata": {
    "collapsed": false
   },
   "outputs": [],
   "source": [
    "M.layers.annotation.clear_annotations()\n",
    "M.remove_layer(\"NBAR\")"
   ]
  }
 ],
 "metadata": {
  "kernelspec": {
   "display_name": "Geonotebook (Python 2)",
   "language": "python",
   "name": "geonotebook2"
  },
  "language_info": {
   "codemirror_mode": {
    "name": "ipython",
    "version": 2
   },
   "file_extension": ".py",
   "mimetype": "text/x-python",
   "name": "python",
   "nbconvert_exporter": "python",
   "pygments_lexer": "ipython2",
   "version": "2.7.12"
  },
  "widgets": {
   "state": {
    "311f4137f7c44b30b6ca3360a9fef96b": {
     "views": [
      {
       "cell_index": 14
      }
     ]
    }
   },
   "version": "1.2.0"
  }
 },
 "nbformat": 4,
 "nbformat_minor": 1
}
