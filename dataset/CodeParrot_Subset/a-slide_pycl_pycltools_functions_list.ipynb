{
 "cells": [
  {
   "cell_type": "markdown",
   "metadata": {
    "ExecuteTime": {
     "end_time": "2018-12-10T10:43:13.026421Z",
     "start_time": "2018-12-10T10:43:13.021941Z"
    }
   },
   "source": [
    "# pycltools functions list "
   ]
  },
  {
   "cell_type": "code",
   "execution_count": 2,
   "metadata": {
    "ExecuteTime": {
     "end_time": "2018-12-10T12:04:56.696573Z",
     "start_time": "2018-12-10T12:04:56.573646Z"
    },
    "init_cell": true,
    "scrolled": false
   },
   "outputs": [
    {
     "data": {
      "text/html": [
       "<p style=\"font-size:130%;line-height:15px;\"><b>##~~~~~~~ JUPYTER NOTEBOOK SPECIFIC TOOLS ~~~~~~~#</b></p>"
      ],
      "text/plain": [
       "<IPython.core.display.HTML object>"
      ]
     },
     "metadata": {},
     "output_type": "display_data"
    },
    {
     "data": {
      "text/html": [
       "<p style=\"line-height:15px;\"><b>jhelp</b> (function, full=True, print_private=False, **kwargs)<br><br>    Print a nice looking help string based on the name of a declared function. By default print the function<br>    definition and description<br>    * function<br>        Name of a declared function or class method<br>    * full<br>        If True, the help string will included a description of all arguments<br>    </p>"
      ],
      "text/plain": [
       "<IPython.core.display.HTML object>"
      ]
     },
     "metadata": {},
     "output_type": "display_data"
    },
    {
     "data": {
      "text/html": [
       "<p style=\"line-height:15px;\"><b>stdout_print</b> (*args)<br><br>    Emulate print but uses sys stdout instead. It could sometimes be useful in specific situations where print<br>    is in is not behaving optimaly (like with tqdm for example)<br>    </p>"
      ],
      "text/plain": [
       "<IPython.core.display.HTML object>"
      ]
     },
     "metadata": {},
     "output_type": "display_data"
    },
    {
     "data": {
      "text/html": [
       "<p style=\"line-height:15px;\"><b>jprint</b> (*args, **kwargs)<br><br>    FOR JUPYTER NOTEBOOK ONLY<br>    Format a string in HTML and print the output. Equivalent of print, but highly customizable. Many options can be<br>    passed to the function.<br>    * *args<br>        One or several objects that can be cast in str<br>    * **kwargs<br>        Formatting options to tweak the html rendering<br>        Boolean options : bold, italic, highlight, underlined, striked, subscripted, superscripted<br>        String oprions: font, color, size, align, background_color, line_height<br>    </p>"
      ],
      "text/plain": [
       "<IPython.core.display.HTML object>"
      ]
     },
     "metadata": {},
     "output_type": "display_data"
    },
    {
     "data": {
      "text/html": [
       "<p style=\"line-height:15px;\"><b>toogle_code</b> (**kwargs)<br><br>    FOR JUPYTER NOTEBOOK ONLY<br>    Hide code with a clickable link in a j<br>    upyter notebook<br>    </p>"
      ],
      "text/plain": [
       "<IPython.core.display.HTML object>"
      ]
     },
     "metadata": {},
     "output_type": "display_data"
    },
    {
     "data": {
      "text/html": [
       "<p style=\"line-height:15px;\"><b>larger_display</b> (percent=100, **kwargs)<br><br>    FOR JUPYTER NOTEBOOK ONLY<br>    Resize the area of the screen containing the notebook according to a given percentage of the available width<br>    *  percent percentage of the width of the screen to use [DEFAULT:100]<br>    </p>"
      ],
      "text/plain": [
       "<IPython.core.display.HTML object>"
      ]
     },
     "metadata": {},
     "output_type": "display_data"
    },
    {
     "data": {
      "text/html": [
       "<p style=\"line-height:15px;\"><b>hide_traceback</b> ()<br><br>    FOR JUPYTER NOTEBOOK ONLY<br>    Remove the traceback of exception and return only the Exception message and type<br>    </p>"
      ],
      "text/plain": [
       "<IPython.core.display.HTML object>"
      ]
     },
     "metadata": {},
     "output_type": "display_data"
    },
    {
     "data": {
      "text/html": [
       "<p style=\"line-height:15px;\"><b>is_readable_file</b> (fp, raise_exception=True, **kwargs)<br><br>    Verify the readability of a file or list of file<br>    </p>"
      ],
      "text/plain": [
       "<IPython.core.display.HTML object>"
      ]
     },
     "metadata": {},
     "output_type": "display_data"
    },
    {
     "data": {
      "text/html": [
       "<p style=\"line-height:15px;\"><b>is_gziped</b> (fp, **kwargs)<br><br>    Return True if the file is Gziped else False<br>    </p>"
      ],
      "text/plain": [
       "<IPython.core.display.HTML object>"
      ]
     },
     "metadata": {},
     "output_type": "display_data"
    },
    {
     "data": {
      "text/html": [
       "<p style=\"line-height:15px;\"><b>has_extension</b> (fp, ext, pos=-1, raise_exception=False, **kwargs)<br><br>    Test presence of extension in a file path<br>    * ext<br>        Single extension name or list of extension names  without dot. Example [\"gz, \"fa\"]<br>    * pos<br>        Postition of the extension in the file path. -1 for the last, -2 for the penultimate and so on [DEFAULT -1 = Last position]<br>    </p>"
      ],
      "text/plain": [
       "<IPython.core.display.HTML object>"
      ]
     },
     "metadata": {},
     "output_type": "display_data"
    },
    {
     "data": {
      "text/html": [
       "<p style=\"line-height:15px;\"><b>file_basename</b> (fp, **kwargs)<br><br>    Return the basename of a file without folder location and extension<br>    </p>"
      ],
      "text/plain": [
       "<IPython.core.display.HTML object>"
      ]
     },
     "metadata": {},
     "output_type": "display_data"
    },
    {
     "data": {
      "text/html": [
       "<p style=\"line-height:15px;\"><b>extensions</b> (fp, comp_ext_list=['gz', 'tgz', 'zip', 'xz', 'bz2'], **kwargs)<br><br>    Return The extension of a file in lower-case. If archived file (\"gz\", \"tgz\", \"zip\", \"xz\", \"bz2\")<br>    the method will output the base extension + the archive extension as a string<br>    </p>"
      ],
      "text/plain": [
       "<IPython.core.display.HTML object>"
      ]
     },
     "metadata": {},
     "output_type": "display_data"
    },
    {
     "data": {
      "text/html": [
       "<p style=\"line-height:15px;\"><b>extensions_list</b> (fp, comp_ext_list=['gz', 'tgz', 'zip', 'xz', 'bz2'], **kwargs)<br><br>    Return The extension of a file in lower-case. If archived file (\"gz\", \"tgz\", \"zip\", \"xz\", \"bz2\")<br>    the method will output the base extension + the archive extension as a list<br>    </p>"
      ],
      "text/plain": [
       "<IPython.core.display.HTML object>"
      ]
     },
     "metadata": {},
     "output_type": "display_data"
    },
    {
     "data": {
      "text/html": [
       "<p style=\"line-height:15px;\"><b>file_name</b> (fp, **kwargs)<br><br>    Return The complete name of a file with the extension but without folder location<br>    </p>"
      ],
      "text/plain": [
       "<IPython.core.display.HTML object>"
      ]
     },
     "metadata": {},
     "output_type": "display_data"
    },
    {
     "data": {
      "text/html": [
       "<p style=\"line-height:15px;\"><b>dir_name</b> (fp, **kwargs)<br><br>    Return the name of the directory where the file is located<br>    </p>"
      ],
      "text/plain": [
       "<IPython.core.display.HTML object>"
      ]
     },
     "metadata": {},
     "output_type": "display_data"
    },
    {
     "data": {
      "text/html": [
       "<p style=\"line-height:15px;\"><b>dir_path</b> (fp, **kwargs)<br><br>    Return the directory path of a file<br>    </p>"
      ],
      "text/plain": [
       "<IPython.core.display.HTML object>"
      ]
     },
     "metadata": {},
     "output_type": "display_data"
    },
    {
     "data": {
      "text/html": [
       "<p style=\"font-size:130%;line-height:15px;\"><b>##~~~~~~~ STRING FORMATTING ~~~~~~~#</b></p>"
      ],
      "text/plain": [
       "<IPython.core.display.HTML object>"
      ]
     },
     "metadata": {},
     "output_type": "display_data"
    },
    {
     "data": {
      "text/html": [
       "<p style=\"line-height:15px;\"><b>supersplit</b> (string, separator='', **kwargs)<br><br>    like split but can take a list of separators instead of a simple separator<br>    </p>"
      ],
      "text/plain": [
       "<IPython.core.display.HTML object>"
      ]
     },
     "metadata": {},
     "output_type": "display_data"
    },
    {
     "data": {
      "text/html": [
       "<p style=\"line-height:15px;\"><b>rm_blank</b> (name, replace='', **kwargs)<br> Replace blank spaces in a name by a given character (default = remove)<br>    Blanks at extremities are always removed and nor replaced </p>"
      ],
      "text/plain": [
       "<IPython.core.display.HTML object>"
      ]
     },
     "metadata": {},
     "output_type": "display_data"
    },
    {
     "data": {
      "text/html": [
       "<p style=\"line-height:15px;\"><b>concatenate</b> (src_list, dest, **kwargs)<br><br>    Concatenate a list of scr files in a single output file. Handle gziped files (mixed input and output)<br>    </p>"
      ],
      "text/plain": [
       "<IPython.core.display.HTML object>"
      ]
     },
     "metadata": {},
     "output_type": "display_data"
    },
    {
     "data": {
      "text/html": [
       "<p style=\"line-height:15px;\"><b>copyFile</b> (src, dest, **kwargs)<br><br>    Copy a single file to a destination file or folder (with error handling/reporting)<br>    * src<br>        Source file path<br>    * dest<br>        Path of the folder where to copy the source file<br>    </p>"
      ],
      "text/plain": [
       "<IPython.core.display.HTML object>"
      ]
     },
     "metadata": {},
     "output_type": "display_data"
    },
    {
     "data": {
      "text/html": [
       "<p style=\"line-height:15px;\"><b>gzip_file</b> (fpin, fpout=None, **kwargs)<br><br>    gzip a file<br>    * fpin<br>        Path of the input uncompressed file<br>    * fpout<br>        Path of the output compressed file (facultative)<br>    </p>"
      ],
      "text/plain": [
       "<IPython.core.display.HTML object>"
      ]
     },
     "metadata": {},
     "output_type": "display_data"
    },
    {
     "data": {
      "text/html": [
       "<p style=\"line-height:15px;\"><b>gunzip_file</b> (fpin, fpout=None, **kwargs)<br><br>    ungzip a file<br>    * fpin<br>        Path of the input compressed file<br>    * fpout<br>        Path of the output uncompressed file (facultative)<br>    </p>"
      ],
      "text/plain": [
       "<IPython.core.display.HTML object>"
      ]
     },
     "metadata": {},
     "output_type": "display_data"
    },
    {
     "data": {
      "text/html": [
       "<p style=\"line-height:15px;\"><b>remove_file</b> (fp, exception_if_exist=False)<br><br>    Try to remove a file from disk.<br>    </p>"
      ],
      "text/plain": [
       "<IPython.core.display.HTML object>"
      ]
     },
     "metadata": {},
     "output_type": "display_data"
    },
    {
     "data": {
      "text/html": [
       "<p style=\"line-height:15px;\"><b>linerange</b> (fp, range_list=[], line_numbering=True, max_char_line=150, **kwargs)<br><br>    Print a range of lines in a file according to a list of start end lists. Handle gziped files<br>    * fp<br>        Path to the file to be parsed<br>    * range_list<br>        list of start, end coordinates lists or tuples<br>    * line_numbering<br>        If True the number of the line will be indicated in front of the line<br>    * max_char_line<br>        Maximal number of character to print per line<br>    </p>"
      ],
      "text/plain": [
       "<IPython.core.display.HTML object>"
      ]
     },
     "metadata": {},
     "output_type": "display_data"
    },
    {
     "data": {
      "text/html": [
       "<p style=\"line-height:15px;\"><b>cat</b> (fp, max_lines=100, line_numbering=False, max_char_line=150, **kwargs)<br><br>    Emulate linux cat cmd but with line cap protection. Handle gziped files<br>    * fp<br>        Path to the file to be parsed<br>    * max_lines<br>        Maximal number of lines to print<br>    * line_numbering<br>        If True the number of the line will be indicated in front of the line<br>    * max_char_line<br>        Maximal number of character to print per line<br>    </p>"
      ],
      "text/plain": [
       "<IPython.core.display.HTML object>"
      ]
     },
     "metadata": {},
     "output_type": "display_data"
    },
    {
     "data": {
      "text/html": [
       "<p style=\"line-height:15px;\"><b>tail</b> (fp, n=10, line_numbering=False, max_char_line=150, **kwargs)<br><br>    Emulate linux tail cmd. Handle gziped files<br>    * fp<br>        Path to the file to be parsed<br>    * n<br>        Number of lines to print starting from the end of the file<br>    * line_numbering<br>        If True the number of the line will be indicated in front of the line<br>    * max_char_line<br>        Maximal number of character to print per line<br>    </p>"
      ],
      "text/plain": [
       "<IPython.core.display.HTML object>"
      ]
     },
     "metadata": {},
     "output_type": "display_data"
    },
    {
     "data": {
      "text/html": [
       "<p style=\"line-height:15px;\"><b>head</b> (fp, n=10, ignore_comment_line=False, comment_char='#', max_char_line=200, sep='\\t', max_char_col=50, **kwargs)<br><br>    Emulate linux head cmd. Handle gziped files and bam files<br>    * fp<br>        Path to the file to be parsed. Works with text, gunziped and binary bam/sam files<br>    * n<br>        Number of lines to print starting from the begining of the file (Default 10)<br>    * ignore_comment_line<br>        Skip initial lines starting with a specific character. Pointless for bam files(Default False)<br>    * comment_char<br>        Character or string for ignore_comment_line argument (Default \"#\")<br>    * max_char_line<br>        Maximal number of character to print per line (Default 150)<br>    </p>"
      ],
      "text/plain": [
       "<IPython.core.display.HTML object>"
      ]
     },
     "metadata": {},
     "output_type": "display_data"
    },
    {
     "data": {
      "text/html": [
       "<p style=\"line-height:15px;\"><b>linesample</b> (fp, n_lines=100, line_numbering=True, max_char_line=150, **kwargs)<br><br>    Randomly sample lines in a file and print them. Handle gziped files<br>    * fp<br>        Path to the file to be parsed<br>    * n_lines<br>        Number of lines to sample in the file<br>    * line_numbering<br>        If True the number of the line will be indicated in front of the line<br>    * max_char_line<br>        Maximal number of character to print per line<br>    </p>"
      ],
      "text/plain": [
       "<IPython.core.display.HTML object>"
      ]
     },
     "metadata": {},
     "output_type": "display_data"
    },
    {
     "data": {
      "text/html": [
       "<p style=\"line-height:15px;\"><b>count_uniq</b> (fp, colnum, select_values=None, drop_values=None, skip_comment='#', sep='\\t', **kwargs)<br><br>    Count unique occurences in a specific column of a tabulated file<br>    * fp<br>        Path to the file to be parsed (gzipped or not)<br>    * colnum<br>        Index number of the column to summarize<br>    * select_values<br>        Select specific lines in the file based on a dictionary containing column index(es) and valu(es) or list<br>        of values to select. Exemple {2:[\"exon\", \"transcript\"], 4:\"lincRNA\"}. DEFAULT=None<br>    * drop_values<br>        Same think that select_value but will drop the lines instead. DEFAULT=None<br>    * skip_comment<br>        Drop any comment lines starting with this character. DEFAULT=\"#\"<br>    * sep<br>        Character or list of characters to use in order to split the lines. Exemple [\"&emsp;\",\";\"]. DEFAULT=\"&emsp;\"<br>    </p>"
      ],
      "text/plain": [
       "<IPython.core.display.HTML object>"
      ]
     },
     "metadata": {},
     "output_type": "display_data"
    },
    {
     "data": {
      "text/html": [
       "<p style=\"line-height:15px;\"><b>colsum</b> (fp, colrange=None, separator='', header=False, ignore_hashtag_line=False, max_items=10, ret_type='md', **kwargs)<br><br>    Create a summary of selected columns of a file<br>    * fp<br>        Path to the file to be parsed<br>    * colrange<br>        A list of column index to parse<br>    * separator<br>        A character or a list of characters to split the lines<br>    * ignore_hashtag_line<br>        skip line starting with a # symbol<br>    * max_items<br>        maximum item per line<br>    * ret_type<br>        Possible return types:<br>        md = markdown formatted table,<br>        dict = raw parsing dict,<br>        report = Indented_text_report<br>    </p>"
      ],
      "text/plain": [
       "<IPython.core.display.HTML object>"
      ]
     },
     "metadata": {},
     "output_type": "display_data"
    },
    {
     "data": {
      "text/html": [
       "<p style=\"line-height:15px;\"><b>fastcount</b> (fp, **kwargs)<br><br>    Efficient way to count the number of lines in a file. Handle gziped files<br>    </p>"
      ],
      "text/plain": [
       "<IPython.core.display.HTML object>"
      ]
     },
     "metadata": {},
     "output_type": "display_data"
    },
    {
     "data": {
      "text/html": [
       "<p style=\"line-height:15px;\"><b>simplecount</b> (fp, ignore_hashtag_line=False, **kwargs)<br><br>    Simple way to count the number of lines in a file with more options<br>    </p>"
      ],
      "text/plain": [
       "<IPython.core.display.HTML object>"
      ]
     },
     "metadata": {},
     "output_type": "display_data"
    },
    {
     "data": {
      "text/html": [
       "<p style=\"line-height:15px;\"><b>mkdir</b> (fp, level=1, **kwargs)<br><br>    Reproduce the ability of UNIX \"mkdir -p\" command<br>    (ie if the path already exits no exception will be raised).<br>    Can create nested directories by recursivity<br>    * fp<br>        path name where the folder should be created<br>    * level<br>        level in the path where to start to create the directories. Used by the program for the recursive creation of<br>        directories<br>    </p>"
      ],
      "text/plain": [
       "<IPython.core.display.HTML object>"
      ]
     },
     "metadata": {},
     "output_type": "display_data"
    },
    {
     "data": {
      "text/html": [
       "<p style=\"line-height:15px;\"><b>dir_walk</b> (fp)<br><br>    Print a directory arborescence<br>    </p>"
      ],
      "text/plain": [
       "<IPython.core.display.HTML object>"
      ]
     },
     "metadata": {},
     "output_type": "display_data"
    },
    {
     "data": {
      "text/html": [
       "<p style=\"line-height:15px;\"><b>make_cmd_str</b> (prog_name, opt_dict={}, opt_list=[], **kwargs)<br><br>    Create a Unix like command line string from the prog name, a dict named arguments and a list of unmammed arguments<br>    exemple make_cmd_str(\"bwa\", {\"b\":None, t\":6, \"i\":\"../idx/seq.fa\"}, [\"../read1\", \"../read2\"])<br>    * prog_name<br>        Name (if added to the system path) or path of the program<br>    * opt_dict<br>        Dictionary of option arguments such as \"-t 5\". The option flag have to be the key (without \"-\") and the the<br>        option value in the dictionary value. If no value is requested after the option flag \"None\" had to be assigned<br>        to the value field.<br>    * opt_list<br>        List of simple command line arguments<br>    </p>"
      ],
      "text/plain": [
       "<IPython.core.display.HTML object>"
      ]
     },
     "metadata": {},
     "output_type": "display_data"
    },
    {
     "data": {
      "text/html": [
       "<p style=\"line-height:15px;\"><b>bash_basic</b> (cmd, virtualenv=None, **kwargs)<br><br>    Sent basic bash command<br>    * cmd<br>        A command line string formatted as a string<br>    * virtualenv<br>        If specified will try to load a virtualenvwrapper environment before runing the command<br>    </p>"
      ],
      "text/plain": [
       "<IPython.core.display.HTML object>"
      ]
     },
     "metadata": {},
     "output_type": "display_data"
    },
    {
     "data": {
      "text/html": [
       "<p style=\"line-height:15px;\"><b>bash</b> (cmd, virtualenv=None, live='stdout', print_stdout=True, ret_stdout=False, log_stdout=None, print_stderr=True, ret_stderr=False, log_stderr=None, print_cmd=False, dry=False, **kwargs)<br><br>    More advanced version of bash calling with live printing of the standard output and possibilities to log the<br>    redirect the output and error as a string return or directly in files. If ret_stderr and ret_stdout are True a<br>    tuple will be returned and if both are False None will be returned<br>    * cmd<br>        A command line string formatted as a string<br>    * virtualenv<br>        If specified will try to load a virtualenvwrapper environment before runing the command<br>    * print_stdout<br>        If True the standard output will be LIVE printed through the system standard output stream<br>    * ret_stdout<br>        If True the standard output will be returned as a string<br>    * log_stdout<br>        If a filename is given, the standard output will logged in this file<br>    * print_stderr<br>        If True the standard error will be printed through the system standard error stream<br>    * ret_stderr<br>        If True the standard error will be returned as a string<br>    * log_stderr<br>        If a filename is given, the standard error will logged in this file<br>    </p>"
      ],
      "text/plain": [
       "<IPython.core.display.HTML object>"
      ]
     },
     "metadata": {},
     "output_type": "display_data"
    },
    {
     "data": {
      "text/html": [
       "<p style=\"line-height:15px;\"><b>bash_update</b> (cmd, update_freq=1, **kwargs)<br><br>    FOR JUPYTER NOTEBOOK<br>    Run a bash command and print the output in the cell. The output is updated each time until the output is None.<br>    This is suitable for monitoring tasks that log events until there is nothing else to print such as bjobs or bpeeks.<br>    * cmd<br>        A command line string formatted as a string<br>    * update_freq<br>        The frequency of output updating in seconds [DEFAULT: 1]<br>    </p>"
      ],
      "text/plain": [
       "<IPython.core.display.HTML object>"
      ]
     },
     "metadata": {},
     "output_type": "display_data"
    },
    {
     "data": {
      "text/html": [
       "<p style=\"line-height:15px;\"><b>bsub</b> (cmd=None, virtualenv=None, mem=None, threads=None, queue=None, wait_jobid=None, stdout_fp=None, stderr_fp=None, send_email=False, print_cmd=True, dry=False, **kwargs)<br><br>    FOR JUPYTER NOTEBOOK IN LSF environment<br>    Send an LSF bsub command through bash and return the JOBID<br>    For more information read the bsub documentation<br>    * cmd<br>        A command line string formatted as a string<br>    * virtualenv<br>        If specified will try to load a virtualenvwrapper environment before runing the command<br>    * mem<br>        Memory to reserve (-M and -R 'rusage[mem=])<br>    * threads<br>        Number of thread to reserve (-n)<br>    * queue<br>        Name of the LSF queue to be used (-q)<br>    * wait_jobid<br>        jobid of list of jobid to wait before executing this command(-w 'post_done(jobid))<br>    * stdout_fp<br>        Path of the file where to write the standard output of the command (-oo)<br>    * stderr_fp<br>        Path of the file where to write the standard error of the command (-eo)<br>    * send_email<br>        If True, will force LSF to send an email even if stdout_fp and/or stderr_fp is given<br>    </p>"
      ],
      "text/plain": [
       "<IPython.core.display.HTML object>"
      ]
     },
     "metadata": {},
     "output_type": "display_data"
    },
    {
     "data": {
      "text/html": [
       "<p style=\"line-height:15px;\"><b>bjobs</b> ()<br><br>    FOR JUPYTER NOTEBOOK IN LSF environment<br>    Emulate LSF bjobs command. Return a Dataframe of jobs<br>    </p>"
      ],
      "text/plain": [
       "<IPython.core.display.HTML object>"
      ]
     },
     "metadata": {},
     "output_type": "display_data"
    },
    {
     "data": {
      "text/html": [
       "<p style=\"line-height:15px;\"><b>bjobs_update</b> (update_freq=5)<br><br>    FOR JUPYTER NOTEBOOK IN LSF environment<br>    Emulate LSF bjobs command but update the cell every x seconds<br>    Cell is locked<br>    </p>"
      ],
      "text/plain": [
       "<IPython.core.display.HTML object>"
      ]
     },
     "metadata": {},
     "output_type": "display_data"
    },
    {
     "data": {
      "text/html": [
       "<p style=\"line-height:15px;\"><b>bjobs_lock</b> (jobid=None, update_freq=2, final_delay=2)<br><br>    FOR JUPYTER NOTEBOOK IN LSF environment<br>    Check if bjobs has running or pending jobs until all are done<br>    * jobid<br>        List of jobid to Check<br>    * update_freq<br>        The frequency of output updating in seconds [DEFAULT: 2]<br>    * final_delay<br>        Final delay in seconds at the end of all jobs to prevent IO errors [DEFAULT: 5]<br>    </p>"
      ],
      "text/plain": [
       "<IPython.core.display.HTML object>"
      ]
     },
     "metadata": {},
     "output_type": "display_data"
    },
    {
     "data": {
      "text/html": [
       "<p style=\"font-size:130%;line-height:15px;\"><b>##~~~~~~~ DICTIONNARY FORMATTING ~~~~~~~#</b></p>"
      ],
      "text/plain": [
       "<IPython.core.display.HTML object>"
      ]
     },
     "metadata": {},
     "output_type": "display_data"
    },
    {
     "data": {
      "text/html": [
       "<p style=\"line-height:15px;\"><b>dict_to_md</b> (d, key_label='', value_label='', transpose=False, sort_by_key=False, sort_by_val=True, max_items=None, **kwargs)<br><br>    Transform a dict into a markdown formated table<br>    </p>"
      ],
      "text/plain": [
       "<IPython.core.display.HTML object>"
      ]
     },
     "metadata": {},
     "output_type": "display_data"
    },
    {
     "data": {
      "text/html": [
       "<p style=\"line-height:15px;\"><b>dict_to_report</b> (d, tab='\\t', ntab=0, sep=':', sort_dict=True, max_items=None, **kwargs)<br><br>    Recursive function to return a text report from nested dict or OrderedDict objects<br>    </p>"
      ],
      "text/plain": [
       "<IPython.core.display.HTML object>"
      ]
     },
     "metadata": {},
     "output_type": "display_data"
    },
    {
     "data": {
      "text/html": [
       "<p style=\"font-size:130%;line-height:15px;\"><b>##~~~~~~~ TABLE FORMATTING ~~~~~~~#</b></p>"
      ],
      "text/plain": [
       "<IPython.core.display.HTML object>"
      ]
     },
     "metadata": {},
     "output_type": "display_data"
    },
    {
     "data": {
      "text/html": [
       "<p style=\"line-height:15px;\"><b>reformat_table</b> (input_file, output_file='', return_df=False, init_template=[], final_template=[], header='', keep_original_header=True, header_from_final_template=False, replace_internal_space='_', replace_null_val='*', subst_dict={}, filter_dict=[], predicate=None, standard_template=None, verbose=False, **kwargs)<br><br>    Reformat a table given an initial and a final line templates indicated as a list where numbers<br>    indicate the data column and strings the formatting characters<br><br>    *  input_file<br>        A file with a structured text formatting (gzipped or not)<br>    *  output_file<br>        A file path to output the reformatted table (if empty will not write in a file)<br>    *  return_df<br>        If true will return a pandas dataframe containing the reformated table (Third party pandas package required)<br>        by default the columns will be names after the final template [DEFAULT:False]<br>    *  init_template<br>        A list of indexes and separators describing the structure of the input file<br>            Example initial line = \"chr1    631539    631540    Squires|id1    0    +\"<br>            Initial template = [0,\"&emsp;\",1,\"&emsp;\",2,\"&emsp;\",3,\"|\",4,\"&emsp;\",5,\"&emsp;\",6]<br>            Alternatively, instead of the numbers, string indexes can be used, but they need to be enclosed in curly<br>            brackets to differentiate them from the separators. This greatly simplify the writing of the final template.<br>            Example initial line = \"chr1    631539    631540    Squires|id1    0    +\"<br>            Initial template = [\"{chrom}\",\"&emsp;\",\"{start}\",\"&emsp;\",\"{end}\",\"|\",\"{name}\",\"&emsp;\",\"{score}\",\"&emsp;\",\"{strand}\"]<br>    *  final_template<br>        A list of indexes and separators describing the required structure of the output file. Name indexes need to<br>        match indexes of the init_template and have to follow the same synthax  [DEFAULT:Same that init template]<br>            Example final line = \"chr1    631539    631540    m5C|-|HeLa|22344696    -    -\"<br>            Final template = [0,\"&emsp;\",1,\"&emsp;\",2,\"&emsp;m5C|-|HeLa|22344696&emsp;-&emsp;\",6]<br>    *  header<br>        A string to write as a file header at the beginning of the file<br>    *  keep_original_header<br>        If True the original header of the input file will be copied at the beginning of the output file [DEFAULT:True]<br>    *  header_from_final_template<br>        Generate a header according to the name or number of the fields given in the final_template [DEFAULT:True]<br>    *  replace_internal_space<br>        All internal blank space will be replaced by this character [DEFAULT:\"_\"]<br>    *  replace_null_val<br>        Field with no value will be replaced by this character [DEFAULT:\"*\"]<br>    *  subst_dict<br>        Nested dictionary of substitution per position to replace specific values by others [DEFAULT:None]<br>            Example: { 0:{\"chr1\":\"1\",\"chr2\":\"2\"}, 3:{\"Squires\":\"5376774764\",\"Li\":\"27664684\"}}<br>    *  filter_dict<br>        A dictionary of list per position  to filter out lines  with specific values [DEFAULT:None]<br>            Example: { 0:[\"chr2\", \"chr4\"], 1:[\"46767\", \"87765\"], 5:[\"76559\", \"77543\"]}<br>    *  predicate<br>        A lambda predicate function for more advance filtering operations [DEFAULT:None]<br>            Example:  lambda val_dict: abs(int(val_dict[1])-int(val_dict[2])) <= 2000<br>    *  standard_template<br>        Existing standard template to parse the file  instead of providing one manually. List of saved templates:<br>        - \"gff3_ens_gene\" = Template for ensembl gff3 fields. Select only the genes lines and decompose to individual elements.<br>        - \"gff3_ens_transcript\" = Template for ensembl gff3 fields. Select only the transcript lines and decompose to individual elements.<br>        - \"gtf_ens_gene\" = Template for ensembl gft fields. Select only the genes lines and decompose to individual elements<br>    * verbose<br>        If True will print detailed information [DEFAULT:False]<br>    </p>"
      ],
      "text/plain": [
       "<IPython.core.display.HTML object>"
      ]
     },
     "metadata": {},
     "output_type": "display_data"
    },
    {
     "data": {
      "text/html": [
       "<p style=\"font-size:130%;line-height:15px;\"><b>##~~~~~~~ WEB TOOLS ~~~~~~~#</b></p>"
      ],
      "text/plain": [
       "<IPython.core.display.HTML object>"
      ]
     },
     "metadata": {},
     "output_type": "display_data"
    },
    {
     "data": {
      "text/html": [
       "<p style=\"line-height:15px;\"><b>url_exist</b> (url, **kwargs)<br><br>    Predicate verifying if an url exist without downloading all the link<br>    </p>"
      ],
      "text/plain": [
       "<IPython.core.display.HTML object>"
      ]
     },
     "metadata": {},
     "output_type": "display_data"
    },
    {
     "data": {
      "text/html": [
       "<p style=\"line-height:15px;\"><b>wget</b> (url, out_name='', progress_block=100000000, **kwargs)<br><br>    Download a file from an URL to a local storage.<br>    *  url<br>        A internet URL pointing to the file to download<br>    *  outname<br>        Name of the outfile where (facultative)<br>    *  progress_block<br>        size of the byte block for the progression of the download<br>    </p>"
      ],
      "text/plain": [
       "<IPython.core.display.HTML object>"
      ]
     },
     "metadata": {},
     "output_type": "display_data"
    },
    {
     "data": {
      "text/html": [
       "<p style=\"font-size:130%;line-height:15px;\"><b>##~~~~~~~ FUNCTIONS TOOLS ~~~~~~~#</b></p>"
      ],
      "text/plain": [
       "<IPython.core.display.HTML object>"
      ]
     },
     "metadata": {},
     "output_type": "display_data"
    },
    {
     "data": {
      "text/html": [
       "<p style=\"line-height:15px;\"><b>print_arg</b> (**kwargs)<br><br>    Print calling function named and unnamed arguments<br>    </p>"
      ],
      "text/plain": [
       "<IPython.core.display.HTML object>"
      ]
     },
     "metadata": {},
     "output_type": "display_data"
    },
    {
     "data": {
      "text/html": [
       "<p style=\"font-size:130%;line-height:15px;\"><b>##~~~~~~~ SSH TOOLS ~~~~~~~#</b></p>"
      ],
      "text/plain": [
       "<IPython.core.display.HTML object>"
      ]
     },
     "metadata": {},
     "output_type": "display_data"
    },
    {
     "data": {
      "text/html": [
       "<p style=\"line-height:15px;\"><b>scp</b> (hostname, local_file, remote_dir, username=None, rsa_private_key=None, ssh_config='~/.ssh/config', verbose=False, **kwargs)<br><br>    Copy a file over ssh in a target remote directory<br>    * hostname<br>        Name of the host ssh server<br>    * username<br>        name of the user<br>    * rsa_private_key<br>        path to the rsa private key<br>    * local_file<br>        path to the local file<br>    * remote_dir<br>        path to the target directory<br>    * ssh_config<br>        use as an alternative method instead of giving the username and rsa_private_key. Will fetch them from the config file directly<br>    </p>"
      ],
      "text/plain": [
       "<IPython.core.display.HTML object>"
      ]
     },
     "metadata": {},
     "output_type": "display_data"
    },
    {
     "data": {
      "text/html": [
       "<p style=\"font-size:130%;line-height:15px;\"><b>##~~~~~~~ PACKAGE TOOLS ~~~~~~~#</b></p>"
      ],
      "text/plain": [
       "<IPython.core.display.HTML object>"
      ]
     },
     "metadata": {},
     "output_type": "display_data"
    },
    {
     "data": {
      "text/html": [
       "<p style=\"line-height:15px;\"><b>get_package_file</b> (package, fp='', **kwargs)<br><br>    Verify the existence of a file from the package data and return a file path<br>    * package<br>        Name of the package<br>    * fp<br>        Relative path to the file in the package. Usually package_name/data/file_name<br>        if the path points to a directory the directory arborescence will be printed<br>    </p>"
      ],
      "text/plain": [
       "<IPython.core.display.HTML object>"
      ]
     },
     "metadata": {},
     "output_type": "display_data"
    },
    {
     "data": {
      "text/html": [
       "<p style=\"font-size:130%;line-height:15px;\"><b>##~~~~~~~ SAM/BAM TOOLS ~~~~~~~#</b></p>"
      ],
      "text/plain": [
       "<IPython.core.display.HTML object>"
      ]
     },
     "metadata": {},
     "output_type": "display_data"
    },
    {
     "data": {
      "text/html": [
       "<p style=\"line-height:15px;\"><b>bam_sample</b> (fp_in, fp_out, n_reads, verbose=False, **kwargs)<br><br>    Sample reads from a SAM/BAM file and write in a new file<br>    * fp_in<br>        Path to the input file in .bam/.sam/.cram (the format will be infered from extension)<br>    * fp_out<br>        Path to the output file in .bam/.sam/.cram (the format will be infered from extension)<br>    * n_reads<br>        number of reads to sample<br>    </p>"
      ],
      "text/plain": [
       "<IPython.core.display.HTML object>"
      ]
     },
     "metadata": {},
     "output_type": "display_data"
    },
    {
     "data": {
      "text/html": [
       "<p style=\"font-size:130%;line-height:15px;\"><b>##~~~~~~~ DNA SEQUENCE TOOLS ~~~~~~~#</b></p>"
      ],
      "text/plain": [
       "<IPython.core.display.HTML object>"
      ]
     },
     "metadata": {},
     "output_type": "display_data"
    },
    {
     "data": {
      "text/html": [
       "<p style=\"line-height:15px;\"><b>base_generator</b> (bases=['A', 'T', 'C', 'G'], weights=[0.280788, 0.281691, 0.193973, 0.194773], **kwargs)<br><br>    Generator returning DNA/RNA bases according to a probability weightning<br>    * bases: list (default [\"A\",\"T\",\"C\",\"G\"])<br>        DNA RNA bases allowed<br>    * weights: list (default [0.280788,0.281691,0.193973,0.194773])<br>        Probability of each base to be returned. Should match the index of bases. The sum does not need to be equal to 1.<br>        If the list is empty bases will be returned with a flat probability. The default values represent the frequency in the human<br>        genome (excluding N).<br>    </p>"
      ],
      "text/plain": [
       "<IPython.core.display.HTML object>"
      ]
     },
     "metadata": {},
     "output_type": "display_data"
    },
    {
     "data": {
      "text/html": [
       "<p style=\"line-height:15px;\"><b>make_sequence</b> (bases=['A', 'T', 'C', 'G'], weights=[0.280788, 0.281691, 0.193973, 0.194773], length=1000, **kwargs)<br><br>    return a sequence of DNA/RNA bases according to a probability weightning<br>    * bases: list (default [\"A\",\"T\",\"C\",\"G\"])<br>        DNA RNA bases allowed in the sequence<br>    * weights: list (default [0.280788,0.281691,0.193973,0.194773])<br>        Probability of each base to be returned. Should match the index of bases. The sum does not need to be equal to 1.<br>        If the list is empty bases will be returned with a flat probability. The default values represent the frequency in the human<br>        genome (excluding N).<br>    * length: int (default 1000)<br>        length of the sequence to be returned<br>    </p>"
      ],
      "text/plain": [
       "<IPython.core.display.HTML object>"
      ]
     },
     "metadata": {},
     "output_type": "display_data"
    }
   ],
   "source": [
    "from inspect import getmembers, getsource\n",
    "from pycltools import pycltools\n",
    "\n",
    "for line in (getsource(pycltools)).split(\"\\n\"):\n",
    "    if line.startswith(\"##\"):\n",
    "        pycltools.jprint (line, bold=True, size=130)\n",
    "    if line.startswith(\"def\"):\n",
    "        name = line.split()[1]\n",
    "        method = getattr(pycltools, name)        \n",
    "        pycltools.jhelp (method)"
   ]
  }
 ],
 "metadata": {
  "celltoolbar": "Initialization Cell",
  "hide_input": false,
  "kernelspec": {
   "display_name": "test_pycltools",
   "language": "python",
   "name": "test_pycltools"
  },
  "language_info": {
   "codemirror_mode": {
    "name": "ipython",
    "version": 3
   },
   "file_extension": ".py",
   "mimetype": "text/x-python",
   "name": "python",
   "nbconvert_exporter": "python",
   "pygments_lexer": "ipython3",
   "version": "3.6.6"
  },
  "widgets": {
   "state": {},
   "version": "1.1.1"
  }
 },
 "nbformat": 4,
 "nbformat_minor": 1
}
