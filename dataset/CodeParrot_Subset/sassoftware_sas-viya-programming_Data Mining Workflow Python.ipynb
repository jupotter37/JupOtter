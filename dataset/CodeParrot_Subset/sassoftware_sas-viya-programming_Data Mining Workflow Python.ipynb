{
 "cells": [
  {
   "cell_type": "markdown",
   "metadata": {},
   "source": [
    "# Data Mining Workflow"
   ]
  },
  {
   "cell_type": "markdown",
   "metadata": {},
   "source": [
    "## Set Up the Jupyter Notebook for Analysis\n",
    "\n",
    "Note: We have our brand new package called swat - SAS Scripting Wrapper for Analytics Transfer - available on GitHub via pip install <br>\n",
    "Copyright (c) 2017 SAS Institute Inc."
   ]
  },
  {
   "cell_type": "code",
   "execution_count": 1,
   "metadata": {
    "collapsed": false,
    "slideshow": {
     "slide_type": "subslide"
    }
   },
   "outputs": [],
   "source": [
    "# Import necessary packages and modules\n",
    "import swat\n",
    "import pandas as pd\n",
    "import collections\n",
    "from matplotlib import pyplot as plt\n",
    "swat.options.cas.print_messages = False\n",
    "%matplotlib inline\n",
    "\n",
    "# Define directory and data file name\n",
    "indata_dir = '/viyafiles'\n",
    "indata     = 'hmeq'\n",
    "\n",
    "# Host, port, username, password\n",
    "s = swat.CAS(host, port, username, password)\n",
    "\n",
    "# Load actionsets for analysis (for data prep, modeling, assessing)\n",
    "actionsets = ['cardinality', 'sampling', 'fedSQL', 'decisionTree', 'neuralNet', 'svm', 'astore']\n",
    "[s.builtins.loadactionset(i) for i in actionsets]\n",
    "\n",
    "# Create a CAS library called DMLib pointing to the defined directory\n",
    "## Note, need to specify the srctype is path, otherwise it defaults to HDFS\n",
    "DMLib = s.table.addCaslib('DMlib', datasource = 'path', path = indata_dir)\n",
    "\n",
    "# Push the relevant table In-Memory\n",
    "## Note, this is a server side data load, not being loaded from the client\n",
    "inMem = s.table.loadTable(indata + '.sas7bdat', casOut = indata)"
   ]
  },
  {
   "cell_type": "markdown",
   "metadata": {
    "slideshow": {
     "slide_type": "slide"
    }
   },
   "source": [
    "# Data Exploration and Preparation"
   ]
  },
  {
   "cell_type": "markdown",
   "metadata": {},
   "source": [
    "## Investigate the data - CAS"
   ]
  },
  {
   "cell_type": "code",
   "execution_count": 2,
   "metadata": {
    "collapsed": false
   },
   "outputs": [
    {
     "data": {
      "text/html": [
       "<div>\n",
       "<table border=\"1\" class=\"dataframe\"><caption>Selected Rows from Table HMEQ</caption>\n",
       "  <thead>\n",
       "    <tr style=\"text-align: right;\">\n",
       "      <th title=\"\"></th>\n",
       "      <th title=\"BAD\">BAD</th>\n",
       "      <th title=\"LOAN\">LOAN</th>\n",
       "      <th title=\"MORTDUE\">MORTDUE</th>\n",
       "      <th title=\"VALUE\">VALUE</th>\n",
       "      <th title=\"REASON\">REASON</th>\n",
       "      <th title=\"JOB\">JOB</th>\n",
       "      <th title=\"YOJ\">YOJ</th>\n",
       "      <th title=\"DEROG\">DEROG</th>\n",
       "      <th title=\"DELINQ\">DELINQ</th>\n",
       "      <th title=\"CLAGE\">CLAGE</th>\n",
       "      <th title=\"NINQ\">NINQ</th>\n",
       "      <th title=\"CLNO\">CLNO</th>\n",
       "      <th title=\"DEBTINC\">DEBTINC</th>\n",
       "    </tr>\n",
       "  </thead>\n",
       "  <tbody>\n",
       "    <tr>\n",
       "      <th>0</th>\n",
       "      <td>1.0</td>\n",
       "      <td>1100.0</td>\n",
       "      <td>25860.0</td>\n",
       "      <td>39025.0</td>\n",
       "      <td>HomeImp</td>\n",
       "      <td>Other</td>\n",
       "      <td>10.5</td>\n",
       "      <td>0.0</td>\n",
       "      <td>0.0</td>\n",
       "      <td>94.366667</td>\n",
       "      <td>1.0</td>\n",
       "      <td>9.0</td>\n",
       "      <td>NaN</td>\n",
       "    </tr>\n",
       "    <tr>\n",
       "      <th>1</th>\n",
       "      <td>1.0</td>\n",
       "      <td>1300.0</td>\n",
       "      <td>70053.0</td>\n",
       "      <td>68400.0</td>\n",
       "      <td>HomeImp</td>\n",
       "      <td>Other</td>\n",
       "      <td>7.0</td>\n",
       "      <td>0.0</td>\n",
       "      <td>2.0</td>\n",
       "      <td>121.833333</td>\n",
       "      <td>0.0</td>\n",
       "      <td>14.0</td>\n",
       "      <td>NaN</td>\n",
       "    </tr>\n",
       "    <tr>\n",
       "      <th>2</th>\n",
       "      <td>1.0</td>\n",
       "      <td>1500.0</td>\n",
       "      <td>13500.0</td>\n",
       "      <td>16700.0</td>\n",
       "      <td>HomeImp</td>\n",
       "      <td>Other</td>\n",
       "      <td>4.0</td>\n",
       "      <td>0.0</td>\n",
       "      <td>0.0</td>\n",
       "      <td>149.466667</td>\n",
       "      <td>1.0</td>\n",
       "      <td>10.0</td>\n",
       "      <td>NaN</td>\n",
       "    </tr>\n",
       "    <tr>\n",
       "      <th>3</th>\n",
       "      <td>1.0</td>\n",
       "      <td>1500.0</td>\n",
       "      <td>NaN</td>\n",
       "      <td>NaN</td>\n",
       "      <td></td>\n",
       "      <td></td>\n",
       "      <td>NaN</td>\n",
       "      <td>NaN</td>\n",
       "      <td>NaN</td>\n",
       "      <td>NaN</td>\n",
       "      <td>NaN</td>\n",
       "      <td>NaN</td>\n",
       "      <td>NaN</td>\n",
       "    </tr>\n",
       "    <tr>\n",
       "      <th>4</th>\n",
       "      <td>0.0</td>\n",
       "      <td>1700.0</td>\n",
       "      <td>97800.0</td>\n",
       "      <td>112000.0</td>\n",
       "      <td>HomeImp</td>\n",
       "      <td>Office</td>\n",
       "      <td>3.0</td>\n",
       "      <td>0.0</td>\n",
       "      <td>0.0</td>\n",
       "      <td>93.333333</td>\n",
       "      <td>0.0</td>\n",
       "      <td>14.0</td>\n",
       "      <td>NaN</td>\n",
       "    </tr>\n",
       "    <tr>\n",
       "      <th>5</th>\n",
       "      <td>1.0</td>\n",
       "      <td>1700.0</td>\n",
       "      <td>30548.0</td>\n",
       "      <td>40320.0</td>\n",
       "      <td>HomeImp</td>\n",
       "      <td>Other</td>\n",
       "      <td>9.0</td>\n",
       "      <td>0.0</td>\n",
       "      <td>0.0</td>\n",
       "      <td>101.466002</td>\n",
       "      <td>1.0</td>\n",
       "      <td>8.0</td>\n",
       "      <td>37.113614</td>\n",
       "    </tr>\n",
       "    <tr>\n",
       "      <th>6</th>\n",
       "      <td>1.0</td>\n",
       "      <td>1800.0</td>\n",
       "      <td>48649.0</td>\n",
       "      <td>57037.0</td>\n",
       "      <td>HomeImp</td>\n",
       "      <td>Other</td>\n",
       "      <td>5.0</td>\n",
       "      <td>3.0</td>\n",
       "      <td>2.0</td>\n",
       "      <td>77.100000</td>\n",
       "      <td>1.0</td>\n",
       "      <td>17.0</td>\n",
       "      <td>NaN</td>\n",
       "    </tr>\n",
       "    <tr>\n",
       "      <th>7</th>\n",
       "      <td>1.0</td>\n",
       "      <td>1800.0</td>\n",
       "      <td>28502.0</td>\n",
       "      <td>43034.0</td>\n",
       "      <td>HomeImp</td>\n",
       "      <td>Other</td>\n",
       "      <td>11.0</td>\n",
       "      <td>0.0</td>\n",
       "      <td>0.0</td>\n",
       "      <td>88.766030</td>\n",
       "      <td>0.0</td>\n",
       "      <td>8.0</td>\n",
       "      <td>36.884894</td>\n",
       "    </tr>\n",
       "    <tr>\n",
       "      <th>8</th>\n",
       "      <td>1.0</td>\n",
       "      <td>2000.0</td>\n",
       "      <td>32700.0</td>\n",
       "      <td>46740.0</td>\n",
       "      <td>HomeImp</td>\n",
       "      <td>Other</td>\n",
       "      <td>3.0</td>\n",
       "      <td>0.0</td>\n",
       "      <td>2.0</td>\n",
       "      <td>216.933333</td>\n",
       "      <td>1.0</td>\n",
       "      <td>12.0</td>\n",
       "      <td>NaN</td>\n",
       "    </tr>\n",
       "    <tr>\n",
       "      <th>9</th>\n",
       "      <td>1.0</td>\n",
       "      <td>2000.0</td>\n",
       "      <td>NaN</td>\n",
       "      <td>62250.0</td>\n",
       "      <td>HomeImp</td>\n",
       "      <td>Sales</td>\n",
       "      <td>16.0</td>\n",
       "      <td>0.0</td>\n",
       "      <td>0.0</td>\n",
       "      <td>115.800000</td>\n",
       "      <td>0.0</td>\n",
       "      <td>13.0</td>\n",
       "      <td>NaN</td>\n",
       "    </tr>\n",
       "  </tbody>\n",
       "</table>\n",
       "</div>"
      ],
      "text/plain": [
       "Selected Rows from Table HMEQ\n",
       "\n",
       "   BAD    LOAN  MORTDUE     VALUE   REASON     JOB   YOJ  DEROG  DELINQ  \\\n",
       "0  1.0  1100.0  25860.0   39025.0  HomeImp   Other  10.5    0.0     0.0   \n",
       "1  1.0  1300.0  70053.0   68400.0  HomeImp   Other   7.0    0.0     2.0   \n",
       "2  1.0  1500.0  13500.0   16700.0  HomeImp   Other   4.0    0.0     0.0   \n",
       "3  1.0  1500.0      NaN       NaN                    NaN    NaN     NaN   \n",
       "4  0.0  1700.0  97800.0  112000.0  HomeImp  Office   3.0    0.0     0.0   \n",
       "5  1.0  1700.0  30548.0   40320.0  HomeImp   Other   9.0    0.0     0.0   \n",
       "6  1.0  1800.0  48649.0   57037.0  HomeImp   Other   5.0    3.0     2.0   \n",
       "7  1.0  1800.0  28502.0   43034.0  HomeImp   Other  11.0    0.0     0.0   \n",
       "8  1.0  2000.0  32700.0   46740.0  HomeImp   Other   3.0    0.0     2.0   \n",
       "9  1.0  2000.0      NaN   62250.0  HomeImp   Sales  16.0    0.0     0.0   \n",
       "\n",
       "        CLAGE  NINQ  CLNO    DEBTINC  \n",
       "0   94.366667   1.0   9.0        NaN  \n",
       "1  121.833333   0.0  14.0        NaN  \n",
       "2  149.466667   1.0  10.0        NaN  \n",
       "3         NaN   NaN   NaN        NaN  \n",
       "4   93.333333   0.0  14.0        NaN  \n",
       "5  101.466002   1.0   8.0  37.113614  \n",
       "6   77.100000   1.0  17.0        NaN  \n",
       "7   88.766030   0.0   8.0  36.884894  \n",
       "8  216.933333   1.0  12.0        NaN  \n",
       "9  115.800000   0.0  13.0        NaN  "
      ]
     },
     "execution_count": 2,
     "metadata": {},
     "output_type": "execute_result"
    }
   ],
   "source": [
    "# Point castbl to the CAS Table object (client-side view of distributed CAS data)\n",
    "castbl = s.CASTable(indata, replace = True)\n",
    "\n",
    "# Print out the first 10 rows of the dataset\n",
    "castbl.head(10)"
   ]
  },
  {
   "cell_type": "markdown",
   "metadata": {},
   "source": [
    "## Gather Summary Statistics - CAS/Python"
   ]
  },
  {
   "cell_type": "code",
   "execution_count": 3,
   "metadata": {
    "collapsed": false
   },
   "outputs": [
    {
     "name": "stdout",
     "output_type": "stream",
     "text": [
      "\n",
      "                                     Summary Statistics                                    \n"
     ]
    },
    {
     "data": {
      "text/html": [
       "<div>\n",
       "<table border=\"1\" class=\"dataframe\">\n",
       "  <thead>\n",
       "    <tr style=\"text-align: right;\">\n",
       "      <th title=\"\"></th>\n",
       "      <th title=\"_VARNAME_\">_VARNAME_</th>\n",
       "      <th title=\"_TYPE_\">_TYPE_</th>\n",
       "      <th title=\"_PCTMISS_\">_PCTMISS_</th>\n",
       "      <th title=\"_MIN_\">_MIN_</th>\n",
       "      <th title=\"_MAX_\">_MAX_</th>\n",
       "      <th title=\"_MEAN_\">_MEAN_</th>\n",
       "      <th title=\"_STDDEV_\">_STDDEV_</th>\n",
       "      <th title=\"_SKEWNESS_\">_SKEWNESS_</th>\n",
       "      <th title=\"_KURTOSIS_\">_KURTOSIS_</th>\n",
       "    </tr>\n",
       "  </thead>\n",
       "  <tbody>\n",
       "    <tr>\n",
       "      <th>0</th>\n",
       "      <td>BAD</td>\n",
       "      <td>N</td>\n",
       "      <td>0.00</td>\n",
       "      <td>0.00</td>\n",
       "      <td>1.00</td>\n",
       "      <td>0.20</td>\n",
       "      <td>0.40</td>\n",
       "      <td>1.50</td>\n",
       "      <td>0.26</td>\n",
       "    </tr>\n",
       "    <tr>\n",
       "      <th>1</th>\n",
       "      <td>LOAN</td>\n",
       "      <td>N</td>\n",
       "      <td>0.00</td>\n",
       "      <td>1100.00</td>\n",
       "      <td>89900.00</td>\n",
       "      <td>18607.97</td>\n",
       "      <td>11207.48</td>\n",
       "      <td>2.02</td>\n",
       "      <td>6.93</td>\n",
       "    </tr>\n",
       "    <tr>\n",
       "      <th>2</th>\n",
       "      <td>MORTDUE</td>\n",
       "      <td>N</td>\n",
       "      <td>8.69</td>\n",
       "      <td>2063.00</td>\n",
       "      <td>399550.00</td>\n",
       "      <td>73760.82</td>\n",
       "      <td>44457.61</td>\n",
       "      <td>1.81</td>\n",
       "      <td>6.48</td>\n",
       "    </tr>\n",
       "    <tr>\n",
       "      <th>3</th>\n",
       "      <td>VALUE</td>\n",
       "      <td>N</td>\n",
       "      <td>1.88</td>\n",
       "      <td>8000.00</td>\n",
       "      <td>855909.00</td>\n",
       "      <td>101776.05</td>\n",
       "      <td>57385.78</td>\n",
       "      <td>3.05</td>\n",
       "      <td>24.36</td>\n",
       "    </tr>\n",
       "    <tr>\n",
       "      <th>4</th>\n",
       "      <td>REASON</td>\n",
       "      <td>C</td>\n",
       "      <td>4.23</td>\n",
       "      <td>NaN</td>\n",
       "      <td>NaN</td>\n",
       "      <td>NaN</td>\n",
       "      <td>NaN</td>\n",
       "      <td>NaN</td>\n",
       "      <td>NaN</td>\n",
       "    </tr>\n",
       "    <tr>\n",
       "      <th>5</th>\n",
       "      <td>JOB</td>\n",
       "      <td>C</td>\n",
       "      <td>4.68</td>\n",
       "      <td>NaN</td>\n",
       "      <td>NaN</td>\n",
       "      <td>NaN</td>\n",
       "      <td>NaN</td>\n",
       "      <td>NaN</td>\n",
       "      <td>NaN</td>\n",
       "    </tr>\n",
       "    <tr>\n",
       "      <th>6</th>\n",
       "      <td>YOJ</td>\n",
       "      <td>N</td>\n",
       "      <td>8.64</td>\n",
       "      <td>0.00</td>\n",
       "      <td>41.00</td>\n",
       "      <td>8.92</td>\n",
       "      <td>7.57</td>\n",
       "      <td>0.99</td>\n",
       "      <td>0.37</td>\n",
       "    </tr>\n",
       "    <tr>\n",
       "      <th>7</th>\n",
       "      <td>DEROG</td>\n",
       "      <td>N</td>\n",
       "      <td>11.88</td>\n",
       "      <td>0.00</td>\n",
       "      <td>10.00</td>\n",
       "      <td>0.25</td>\n",
       "      <td>0.85</td>\n",
       "      <td>5.32</td>\n",
       "      <td>36.87</td>\n",
       "    </tr>\n",
       "    <tr>\n",
       "      <th>8</th>\n",
       "      <td>DELINQ</td>\n",
       "      <td>N</td>\n",
       "      <td>9.73</td>\n",
       "      <td>0.00</td>\n",
       "      <td>15.00</td>\n",
       "      <td>0.45</td>\n",
       "      <td>1.13</td>\n",
       "      <td>4.02</td>\n",
       "      <td>23.57</td>\n",
       "    </tr>\n",
       "    <tr>\n",
       "      <th>9</th>\n",
       "      <td>CLAGE</td>\n",
       "      <td>N</td>\n",
       "      <td>5.17</td>\n",
       "      <td>0.00</td>\n",
       "      <td>1168.23</td>\n",
       "      <td>179.77</td>\n",
       "      <td>85.81</td>\n",
       "      <td>1.34</td>\n",
       "      <td>7.60</td>\n",
       "    </tr>\n",
       "    <tr>\n",
       "      <th>10</th>\n",
       "      <td>NINQ</td>\n",
       "      <td>N</td>\n",
       "      <td>8.56</td>\n",
       "      <td>0.00</td>\n",
       "      <td>17.00</td>\n",
       "      <td>1.19</td>\n",
       "      <td>1.73</td>\n",
       "      <td>2.62</td>\n",
       "      <td>9.79</td>\n",
       "    </tr>\n",
       "    <tr>\n",
       "      <th>11</th>\n",
       "      <td>CLNO</td>\n",
       "      <td>N</td>\n",
       "      <td>3.72</td>\n",
       "      <td>0.00</td>\n",
       "      <td>71.00</td>\n",
       "      <td>21.30</td>\n",
       "      <td>10.14</td>\n",
       "      <td>0.78</td>\n",
       "      <td>1.16</td>\n",
       "    </tr>\n",
       "    <tr>\n",
       "      <th>12</th>\n",
       "      <td>DEBTINC</td>\n",
       "      <td>N</td>\n",
       "      <td>21.26</td>\n",
       "      <td>0.52</td>\n",
       "      <td>203.31</td>\n",
       "      <td>33.78</td>\n",
       "      <td>8.60</td>\n",
       "      <td>2.85</td>\n",
       "      <td>50.50</td>\n",
       "    </tr>\n",
       "  </tbody>\n",
       "</table>\n",
       "</div>"
      ],
      "text/plain": [
       "   _VARNAME_ _TYPE_  _PCTMISS_    _MIN_      _MAX_     _MEAN_  _STDDEV_  \\\n",
       "0        BAD      N       0.00     0.00       1.00       0.20      0.40   \n",
       "1       LOAN      N       0.00  1100.00   89900.00   18607.97  11207.48   \n",
       "2    MORTDUE      N       8.69  2063.00  399550.00   73760.82  44457.61   \n",
       "3      VALUE      N       1.88  8000.00  855909.00  101776.05  57385.78   \n",
       "4     REASON      C       4.23      NaN        NaN        NaN       NaN   \n",
       "5        JOB      C       4.68      NaN        NaN        NaN       NaN   \n",
       "6        YOJ      N       8.64     0.00      41.00       8.92      7.57   \n",
       "7      DEROG      N      11.88     0.00      10.00       0.25      0.85   \n",
       "8     DELINQ      N       9.73     0.00      15.00       0.45      1.13   \n",
       "9      CLAGE      N       5.17     0.00    1168.23     179.77     85.81   \n",
       "10      NINQ      N       8.56     0.00      17.00       1.19      1.73   \n",
       "11      CLNO      N       3.72     0.00      71.00      21.30     10.14   \n",
       "12   DEBTINC      N      21.26     0.52     203.31      33.78      8.60   \n",
       "\n",
       "    _SKEWNESS_  _KURTOSIS_  \n",
       "0         1.50        0.26  \n",
       "1         2.02        6.93  \n",
       "2         1.81        6.48  \n",
       "3         3.05       24.36  \n",
       "4          NaN         NaN  \n",
       "5          NaN         NaN  \n",
       "6         0.99        0.37  \n",
       "7         5.32       36.87  \n",
       "8         4.02       23.57  \n",
       "9         1.34        7.60  \n",
       "10        2.62        9.79  \n",
       "11        0.78        1.16  \n",
       "12        2.85       50.50  "
      ]
     },
     "execution_count": 3,
     "metadata": {},
     "output_type": "execute_result"
    }
   ],
   "source": [
    "# Create table of summary statistics in SAS\n",
    "castbl.cardinality.summarize(cardinality = dict(name = 'data_card', replace = True))\n",
    "df_data_card = s.CASTable('data_card').to_frame() # bring the data locally\n",
    "\n",
    "# Modify SAS output table using Python to present summary statistics\n",
    "df_data_card['_PCTMISS_'] = (df_data_card['_NMISS_']/df_data_card['_NOBS_'])*100\n",
    "print('\\n', 'Summary Statistics'.center(90, ' '))\n",
    "df_data_card[['_VARNAME_','_TYPE_','_PCTMISS_','_MIN_','_MAX_','_MEAN_','_STDDEV_','_SKEWNESS_','_KURTOSIS_']].round(2)"
   ]
  },
  {
   "cell_type": "markdown",
   "metadata": {},
   "source": [
    "## Plot Numeric Variable Distribution - CAS/Python"
   ]
  },
  {
   "cell_type": "code",
   "execution_count": 4,
   "metadata": {
    "collapsed": false
   },
   "outputs": [
    {
     "data": {
      "image/png": "[encoded data removed]",
      "text/plain": [
       "<matplotlib.figure.Figure at 0xb581278>"
      ]
     },
     "metadata": {},
     "output_type": "display_data"
    }
   ],
   "source": [
    "# Use the built in hist() method to plot the distribution of every variable\n",
    "castbl.hist(figsize = (15, 10));"
   ]
  },
  {
   "cell_type": "markdown",
   "metadata": {},
   "source": [
    "## Plot Missing Values - Python"
   ]
  },
  {
   "cell_type": "code",
   "execution_count": 5,
   "metadata": {
    "collapsed": false
   },
   "outputs": [
    {
     "data": {
      "image/png": "[encoded data removed]",
      "text/plain": [
       "<matplotlib.figure.Figure at 0xbb74e48>"
      ]
     },
     "metadata": {},
     "output_type": "display_data"
    }
   ],
   "source": [
    "# Plot missing values in matplotlib\n",
    "df_data_miss = df_data_card[df_data_card['_PCTMISS_'] > 0]\n",
    "tbl_forplot  = pd.Series(list(df_data_miss['_PCTMISS_']), index = list(df_data_miss['_VARNAME_']))\n",
    "missing_val  = tbl_forplot.plot(kind  = 'bar', title = 'Percentage of Missing Values', color = 'c', figsize = (10, 6))\n",
    "missing_val.set_ylabel('Percent Missing')\n",
    "missing_val.set_xlabel('Variable Names');"
   ]
  },
  {
   "cell_type": "markdown",
   "metadata": {
    "slideshow": {
     "slide_type": "slide"
    }
   },
   "source": [
    "## Perform Imputation on Missing Values - CAS"
   ]
  },
  {
   "cell_type": "code",
   "execution_count": 6,
   "metadata": {
    "collapsed": false,
    "scrolled": true
   },
   "outputs": [
    {
     "data": {
      "text/html": [
       "<div>\n",
       "<table border=\"1\" class=\"dataframe\"><caption>Selected Rows from Table HMEQ</caption>\n",
       "  <thead>\n",
       "    <tr style=\"text-align: right;\">\n",
       "      <th title=\"\"></th>\n",
       "      <th title=\"BAD\">BAD</th>\n",
       "      <th title=\"LOAN\">LOAN</th>\n",
       "      <th title=\"MORTDUE\">MORTDUE</th>\n",
       "      <th title=\"VALUE\">VALUE</th>\n",
       "      <th title=\"REASON\">REASON</th>\n",
       "      <th title=\"JOB\">JOB</th>\n",
       "      <th title=\"YOJ\">YOJ</th>\n",
       "      <th title=\"DEROG\">DEROG</th>\n",
       "      <th title=\"DELINQ\">DELINQ</th>\n",
       "      <th title=\"CLAGE\">CLAGE</th>\n",
       "      <th title=\"...\">...</th>\n",
       "      <th title=\"IMP_DEBTINC\">IMP_DEBTINC</th>\n",
       "      <th title=\"IMP_DELINQ\">IMP_DELINQ</th>\n",
       "      <th title=\"IMP_DEROG\">IMP_DEROG</th>\n",
       "      <th title=\"IMP_LOAN\">IMP_LOAN</th>\n",
       "      <th title=\"IMP_MORTDUE\">IMP_MORTDUE</th>\n",
       "      <th title=\"IMP_NINQ\">IMP_NINQ</th>\n",
       "      <th title=\"IMP_VALUE\">IMP_VALUE</th>\n",
       "      <th title=\"IMP_YOJ\">IMP_YOJ</th>\n",
       "      <th title=\"IMP_JOB\">IMP_JOB</th>\n",
       "      <th title=\"IMP_REASON\">IMP_REASON</th>\n",
       "    </tr>\n",
       "  </thead>\n",
       "  <tbody>\n",
       "    <tr>\n",
       "      <th>0</th>\n",
       "      <td>1.0</td>\n",
       "      <td>1100.0</td>\n",
       "      <td>25860.0</td>\n",
       "      <td>39025.0</td>\n",
       "      <td>HomeImp</td>\n",
       "      <td>Other</td>\n",
       "      <td>10.5</td>\n",
       "      <td>0.0</td>\n",
       "      <td>0.0</td>\n",
       "      <td>94.366667</td>\n",
       "      <td>...</td>\n",
       "      <td>34.818262</td>\n",
       "      <td>0.0</td>\n",
       "      <td>0.0</td>\n",
       "      <td>1100.0</td>\n",
       "      <td>25860.0</td>\n",
       "      <td>1.0</td>\n",
       "      <td>39025.0</td>\n",
       "      <td>10.5</td>\n",
       "      <td>Other</td>\n",
       "      <td>HomeImp</td>\n",
       "    </tr>\n",
       "    <tr>\n",
       "      <th>1</th>\n",
       "      <td>1.0</td>\n",
       "      <td>1300.0</td>\n",
       "      <td>70053.0</td>\n",
       "      <td>68400.0</td>\n",
       "      <td>HomeImp</td>\n",
       "      <td>Other</td>\n",
       "      <td>7.0</td>\n",
       "      <td>0.0</td>\n",
       "      <td>2.0</td>\n",
       "      <td>121.833333</td>\n",
       "      <td>...</td>\n",
       "      <td>34.818262</td>\n",
       "      <td>2.0</td>\n",
       "      <td>0.0</td>\n",
       "      <td>1300.0</td>\n",
       "      <td>70053.0</td>\n",
       "      <td>0.0</td>\n",
       "      <td>68400.0</td>\n",
       "      <td>7.0</td>\n",
       "      <td>Other</td>\n",
       "      <td>HomeImp</td>\n",
       "    </tr>\n",
       "    <tr>\n",
       "      <th>2</th>\n",
       "      <td>1.0</td>\n",
       "      <td>1500.0</td>\n",
       "      <td>13500.0</td>\n",
       "      <td>16700.0</td>\n",
       "      <td>HomeImp</td>\n",
       "      <td>Other</td>\n",
       "      <td>4.0</td>\n",
       "      <td>0.0</td>\n",
       "      <td>0.0</td>\n",
       "      <td>149.466667</td>\n",
       "      <td>...</td>\n",
       "      <td>34.818262</td>\n",
       "      <td>0.0</td>\n",
       "      <td>0.0</td>\n",
       "      <td>1500.0</td>\n",
       "      <td>13500.0</td>\n",
       "      <td>1.0</td>\n",
       "      <td>16700.0</td>\n",
       "      <td>4.0</td>\n",
       "      <td>Other</td>\n",
       "      <td>HomeImp</td>\n",
       "    </tr>\n",
       "    <tr>\n",
       "      <th>3</th>\n",
       "      <td>1.0</td>\n",
       "      <td>1500.0</td>\n",
       "      <td>NaN</td>\n",
       "      <td>NaN</td>\n",
       "      <td></td>\n",
       "      <td></td>\n",
       "      <td>NaN</td>\n",
       "      <td>NaN</td>\n",
       "      <td>NaN</td>\n",
       "      <td>NaN</td>\n",
       "      <td>...</td>\n",
       "      <td>34.818262</td>\n",
       "      <td>0.0</td>\n",
       "      <td>0.0</td>\n",
       "      <td>1500.0</td>\n",
       "      <td>65019.0</td>\n",
       "      <td>1.0</td>\n",
       "      <td>89235.5</td>\n",
       "      <td>7.0</td>\n",
       "      <td>Other</td>\n",
       "      <td>DebtCon</td>\n",
       "    </tr>\n",
       "    <tr>\n",
       "      <th>4</th>\n",
       "      <td>0.0</td>\n",
       "      <td>1700.0</td>\n",
       "      <td>97800.0</td>\n",
       "      <td>112000.0</td>\n",
       "      <td>HomeImp</td>\n",
       "      <td>Office</td>\n",
       "      <td>3.0</td>\n",
       "      <td>0.0</td>\n",
       "      <td>0.0</td>\n",
       "      <td>93.333333</td>\n",
       "      <td>...</td>\n",
       "      <td>34.818262</td>\n",
       "      <td>0.0</td>\n",
       "      <td>0.0</td>\n",
       "      <td>1700.0</td>\n",
       "      <td>97800.0</td>\n",
       "      <td>0.0</td>\n",
       "      <td>112000.0</td>\n",
       "      <td>3.0</td>\n",
       "      <td>Office</td>\n",
       "      <td>HomeImp</td>\n",
       "    </tr>\n",
       "  </tbody>\n",
       "</table>\n",
       "<p>5 rows × 25 columns</p>\n",
       "</div>"
      ],
      "text/plain": [
       "Selected Rows from Table HMEQ\n",
       "\n",
       "   BAD    LOAN  MORTDUE     VALUE   REASON     JOB   YOJ  DEROG  DELINQ  \\\n",
       "0  1.0  1100.0  25860.0   39025.0  HomeImp   Other  10.5    0.0     0.0   \n",
       "1  1.0  1300.0  70053.0   68400.0  HomeImp   Other   7.0    0.0     2.0   \n",
       "2  1.0  1500.0  13500.0   16700.0  HomeImp   Other   4.0    0.0     0.0   \n",
       "3  1.0  1500.0      NaN       NaN                    NaN    NaN     NaN   \n",
       "4  0.0  1700.0  97800.0  112000.0  HomeImp  Office   3.0    0.0     0.0   \n",
       "\n",
       "        CLAGE     ...      IMP_DEBTINC  IMP_DELINQ  IMP_DEROG  IMP_LOAN  \\\n",
       "0   94.366667     ...        34.818262         0.0        0.0    1100.0   \n",
       "1  121.833333     ...        34.818262         2.0        0.0    1300.0   \n",
       "2  149.466667     ...        34.818262         0.0        0.0    1500.0   \n",
       "3         NaN     ...        34.818262         0.0        0.0    1500.0   \n",
       "4   93.333333     ...        34.818262         0.0        0.0    1700.0   \n",
       "\n",
       "   IMP_MORTDUE  IMP_NINQ  IMP_VALUE  IMP_YOJ  IMP_JOB  IMP_REASON  \n",
       "0      25860.0       1.0    39025.0     10.5    Other     HomeImp  \n",
       "1      70053.0       0.0    68400.0      7.0    Other     HomeImp  \n",
       "2      13500.0       1.0    16700.0      4.0    Other     HomeImp  \n",
       "3      65019.0       1.0    89235.5      7.0    Other     DebtCon  \n",
       "4      97800.0       0.0   112000.0      3.0   Office     HomeImp  \n",
       "\n",
       "[5 rows x 25 columns]"
      ]
     },
     "execution_count": 6,
     "metadata": {},
     "output_type": "execute_result"
    }
   ],
   "source": [
    "# Impute missing values\n",
    "castbl.dataPreprocess.impute(\n",
    "    outVarsNamePrefix = 'IMP',\n",
    "    methodContinuous  = 'MEDIAN',\n",
    "    methodNominal     = 'MODE',\n",
    "    inputs            = list(df_data_card['_VARNAME_'])[1:],\n",
    "    copyAllVars       = True,\n",
    "    casOut            = castbl\n",
    ")\n",
    "\n",
    "# Print the first five rows with imputations\n",
    "castbl.head()"
   ]
  },
  {
   "cell_type": "markdown",
   "metadata": {
    "slideshow": {
     "slide_type": "slide"
    }
   },
   "source": [
    "## Partition Data into Training and Validation Sets - CAS"
   ]
  },
  {
   "cell_type": "code",
   "execution_count": 7,
   "metadata": {
    "collapsed": false
   },
   "outputs": [
    {
     "data": {
      "text/html": [
       "<div class=\"cas-results-key\"><b>&#167; Result Set</b></div>\n",
       "<div class=\"cas-results-body\">\n",
       "<div>\n",
       "<table border=\"1\" class=\"dataframe\">\n",
       "  <thead>\n",
       "    <tr style=\"text-align: right;\">\n",
       "      <th title=\"\"></th>\n",
       "      <th title=\"NAME\">NAME</th>\n",
       "      <th title=\"Partition Indicator\">_PartInd_</th>\n",
       "      <th title=\"PCT\">PCT</th>\n",
       "    </tr>\n",
       "  </thead>\n",
       "  <tbody>\n",
       "    <tr>\n",
       "      <th>0</th>\n",
       "      <td>Training</td>\n",
       "      <td>1.0</td>\n",
       "      <td>70.0</td>\n",
       "    </tr>\n",
       "    <tr>\n",
       "      <th>1</th>\n",
       "      <td>Validation</td>\n",
       "      <td>0.0</td>\n",
       "      <td>30.0</td>\n",
       "    </tr>\n",
       "  </tbody>\n",
       "</table>\n",
       "</div>\n",
       "</div>\n",
       "<div class=\"cas-output-area\"></div>\n",
       "<p class=\"cas-results-performance\"><small><span class=\"cas-elapsed\">elapsed 0.136s</span> &#183; <span class=\"cas-user\">user 0.132s</span> &#183; <span class=\"cas-sys\">sys 0.152s</span> &#183; <span class=\"cas-memory\">mem 39.7MB</span></small></p>"
      ],
      "text/plain": [
       "[Result Set]\n",
       "\n",
       "          NAME  _PartInd_   PCT\n",
       " 0    Training        1.0  70.0\n",
       " 1  Validation        0.0  30.0\n",
       "\n",
       "+ Elapsed: 0.136s, user: 0.132s, sys: 0.152s, mem: 39.7mb"
      ]
     },
     "execution_count": 7,
     "metadata": {},
     "output_type": "execute_result"
    }
   ],
   "source": [
    "# Create a 70/30 simple random sample split\n",
    "castbl.sampling.srs(\n",
    "    samppct = 70,\n",
    "    partind = True,\n",
    "    seed    = 1,\n",
    "    output  = dict(casOut = castbl, copyVars = 'ALL')\n",
    ")\n",
    "\n",
    "# Verify the partition worked properly using SQL\n",
    "s.fedSQL.execDirect('''\n",
    "    SELECT \n",
    "        CASE WHEN _PartInd_ = 1 THEN 'Training' ELSE 'Validation' END AS Name,\n",
    "        _PartInd_,\n",
    "        100.0*COUNT(*)/(SELECT COUNT(*) FROM ''' + indata + ''') AS Pct\n",
    "    FROM ''' + indata + '''\n",
    "    GROUP BY\n",
    "        CASE WHEN _PartInd_ = 1 THEN 'Training' ELSE 'Validation' END,\n",
    "        _PartInd_\n",
    "    ORDER BY _PartInd_ DESC;\n",
    "''')"
   ]
  },
  {
   "cell_type": "markdown",
   "metadata": {},
   "source": [
    "# Build Models"
   ]
  },
  {
   "cell_type": "markdown",
   "metadata": {},
   "source": [
    "## Set Modeling Shortcuts - Python"
   ]
  },
  {
   "cell_type": "markdown",
   "metadata": {},
   "source": [
    "### Models to be performed"
   ]
  },
  {
   "cell_type": "code",
   "execution_count": 8,
   "metadata": {
    "collapsed": true
   },
   "outputs": [],
   "source": [
    "# Models to be performed\n",
    "models = collections.OrderedDict()\n",
    "models['dt']  = 'Decision Tree'\n",
    "models['gbt'] = 'Gradient Boosting'\n",
    "models['nn']  = 'Neural Network'\n",
    "models['svm'] = 'Support Vector Machine'"
   ]
  },
  {
   "cell_type": "markdown",
   "metadata": {},
   "source": [
    "### Set variable shortcuts"
   ]
  },
  {
   "cell_type": "code",
   "execution_count": 9,
   "metadata": {
    "collapsed": true
   },
   "outputs": [],
   "source": [
    "# Set variables for later use by models\n",
    "## For models that can handle missing values\n",
    "target              = df_data_card['_VARNAME_'][0]\n",
    "class_inputs        = list(df_data_card.query('_TYPE_ == \"C\"')['_VARNAME_'])\n",
    "interval_inputs     = list(df_data_card.query('_TYPE_ == \"N\"')['_VARNAME_'])[1:]\n",
    "class_vars          = [target] + class_inputs\n",
    "all_inputs          = interval_inputs + class_inputs\n",
    "\n",
    "## For models that can't handle missing values\n",
    "imp_class_inputs    = ['IMP_' + s for s in class_inputs]\n",
    "imp_interval_inputs = ['IMP_' + s for s in interval_inputs]\n",
    "imp_class_vars      = [target] + imp_class_inputs\n",
    "imp_all_inputs      = imp_interval_inputs + imp_class_inputs"
   ]
  },
  {
   "cell_type": "markdown",
   "metadata": {},
   "source": [
    "### Set modeling argument shortcuts (**kwargs)"
   ]
  },
  {
   "cell_type": "code",
   "execution_count": 10,
   "metadata": {
    "collapsed": true
   },
   "outputs": [],
   "source": [
    "# Set key-word argument shortcuts (common model inputs)\n",
    "## For models that can handle missing values (decision tree, gradient boosting)\n",
    "params = dict(\n",
    "    table    = dict(name = indata, where = '_partind_ = 1'), \n",
    "    target   = target, \n",
    "    inputs   = all_inputs, \n",
    "    nominals = class_vars,\n",
    ")\n",
    "\n",
    "## For models that can't have missing values (neural network, support vector machine)\n",
    "imp_params = dict(\n",
    "    table    = dict(name = indata, where = '_partind_ = 1'), \n",
    "    target   = target, \n",
    "    inputs   = imp_all_inputs, \n",
    "    nominals = imp_class_vars,\n",
    ")"
   ]
  },
  {
   "cell_type": "markdown",
   "metadata": {},
   "source": [
    "## Decision Tree - CAS"
   ]
  },
  {
   "cell_type": "code",
   "execution_count": 11,
   "metadata": {
    "collapsed": false,
    "scrolled": true
   },
   "outputs": [
    {
     "data": {
      "text/html": [
       "<div class=\"cas-results-key\"><b>&#167; ModelInfo</b></div>\n",
       "<div class=\"cas-results-body\">\n",
       "<div>\n",
       "<table border=\"1\" class=\"dataframe\"><caption>Decision Tree for HMEQ</caption>\n",
       "  <thead>\n",
       "    <tr style=\"text-align: right;\">\n",
       "      <th title=\"\"></th>\n",
       "      <th title=\"Descr\">Descr</th>\n",
       "      <th title=\"Value\">Value</th>\n",
       "    </tr>\n",
       "  </thead>\n",
       "  <tbody>\n",
       "    <tr>\n",
       "      <th>0</th>\n",
       "      <td>Number of Tree Nodes</td>\n",
       "      <td>15.000000</td>\n",
       "    </tr>\n",
       "    <tr>\n",
       "      <th>1</th>\n",
       "      <td>Max Number of Branches</td>\n",
       "      <td>2.000000</td>\n",
       "    </tr>\n",
       "    <tr>\n",
       "      <th>2</th>\n",
       "      <td>Number of Levels</td>\n",
       "      <td>6.000000</td>\n",
       "    </tr>\n",
       "    <tr>\n",
       "      <th>3</th>\n",
       "      <td>Number of Leaves</td>\n",
       "      <td>8.000000</td>\n",
       "    </tr>\n",
       "    <tr>\n",
       "      <th>4</th>\n",
       "      <td>Number of Bins</td>\n",
       "      <td>20.000000</td>\n",
       "    </tr>\n",
       "    <tr>\n",
       "      <th>5</th>\n",
       "      <td>Minimum Size of Leaves</td>\n",
       "      <td>5.000000</td>\n",
       "    </tr>\n",
       "    <tr>\n",
       "      <th>6</th>\n",
       "      <td>Maximum Size of Leaves</td>\n",
       "      <td>3197.000000</td>\n",
       "    </tr>\n",
       "    <tr>\n",
       "      <th>7</th>\n",
       "      <td>Number of Variables</td>\n",
       "      <td>12.000000</td>\n",
       "    </tr>\n",
       "    <tr>\n",
       "      <th>8</th>\n",
       "      <td>Confidence Level for Pruning</td>\n",
       "      <td>0.250000</td>\n",
       "    </tr>\n",
       "    <tr>\n",
       "      <th>9</th>\n",
       "      <td>Number of Observations Used</td>\n",
       "      <td>4172.000000</td>\n",
       "    </tr>\n",
       "    <tr>\n",
       "      <th>10</th>\n",
       "      <td>Misclassification Error (%)</td>\n",
       "      <td>13.662512</td>\n",
       "    </tr>\n",
       "  </tbody>\n",
       "</table>\n",
       "</div>\n",
       "</div>\n",
       "<div class=\"cas-results-key\"><hr/><b>&#167; DTreeVarImpInfo</b></div>\n",
       "<div class=\"cas-results-body\">\n",
       "<div>\n",
       "<table border=\"1\" class=\"dataframe\"><caption>Decision Tree for HMEQ</caption>\n",
       "  <thead>\n",
       "    <tr style=\"text-align: right;\">\n",
       "      <th title=\"\"></th>\n",
       "      <th title=\"Analysis Variable\">Variable</th>\n",
       "      <th title=\"Importance\">Importance</th>\n",
       "      <th title=\"Std\">Std</th>\n",
       "      <th title=\"Count\">Count</th>\n",
       "    </tr>\n",
       "  </thead>\n",
       "  <tbody>\n",
       "    <tr>\n",
       "      <th>0</th>\n",
       "      <td>DEBTINC</td>\n",
       "      <td>429.060772</td>\n",
       "      <td>176.141329</td>\n",
       "      <td>2.0</td>\n",
       "    </tr>\n",
       "    <tr>\n",
       "      <th>1</th>\n",
       "      <td>DELINQ</td>\n",
       "      <td>82.141557</td>\n",
       "      <td>19.219140</td>\n",
       "      <td>3.0</td>\n",
       "    </tr>\n",
       "    <tr>\n",
       "      <th>2</th>\n",
       "      <td>CLNO</td>\n",
       "      <td>8.689791</td>\n",
       "      <td>0.000000</td>\n",
       "      <td>1.0</td>\n",
       "    </tr>\n",
       "    <tr>\n",
       "      <th>3</th>\n",
       "      <td>DEROG</td>\n",
       "      <td>2.615121</td>\n",
       "      <td>0.000000</td>\n",
       "      <td>1.0</td>\n",
       "    </tr>\n",
       "  </tbody>\n",
       "</table>\n",
       "</div>\n",
       "</div>\n",
       "<div class=\"cas-results-key\"><hr/><b>&#167; OutputCasTables</b></div>\n",
       "<div class=\"cas-results-body\">\n",
       "<div>\n",
       "<table border=\"1\" class=\"dataframe\">\n",
       "  <thead>\n",
       "    <tr style=\"text-align: right;\">\n",
       "      <th title=\"\"></th>\n",
       "      <th title=\"CAS Library\">casLib</th>\n",
       "      <th title=\"Name\">Name</th>\n",
       "      <th title=\"Number of Rows\">Rows</th>\n",
       "      <th title=\"Number of Columns\">Columns</th>\n",
       "      <th title=\"Table\">casTable</th>\n",
       "    </tr>\n",
       "  </thead>\n",
       "  <tbody>\n",
       "    <tr>\n",
       "      <th>0</th>\n",
       "      <td>DMlib</td>\n",
       "      <td>dt_model</td>\n",
       "      <td>15</td>\n",
       "      <td>27</td>\n",
       "      <td>CASTable('dt_model', caslib='DMlib')</td>\n",
       "    </tr>\n",
       "  </tbody>\n",
       "</table>\n",
       "</div>\n",
       "</div>\n",
       "<div class=\"cas-output-area\"></div>"
      ],
      "text/plain": [
       "[ModelInfo]\n",
       "\n",
       " Decision Tree for HMEQ\n",
       " \n",
       "                            Descr        Value\n",
       " 0           Number of Tree Nodes    15.000000\n",
       " 1         Max Number of Branches     2.000000\n",
       " 2               Number of Levels     6.000000\n",
       " 3               Number of Leaves     8.000000\n",
       " 4                 Number of Bins    20.000000\n",
       " 5         Minimum Size of Leaves     5.000000\n",
       " 6         Maximum Size of Leaves  3197.000000\n",
       " 7            Number of Variables    12.000000\n",
       " 8   Confidence Level for Pruning     0.250000\n",
       " 9    Number of Observations Used  4172.000000\n",
       " 10   Misclassification Error (%)    13.662512\n",
       "\n",
       "[DTreeVarImpInfo]\n",
       "\n",
       " Decision Tree for HMEQ\n",
       " \n",
       "   Variable  Importance         Std  Count\n",
       " 0  DEBTINC  429.060772  176.141329    2.0\n",
       " 1   DELINQ   82.141557   19.219140    3.0\n",
       " 2     CLNO    8.689791    0.000000    1.0\n",
       " 3    DEROG    2.615121    0.000000    1.0\n",
       "\n",
       "[OutputCasTables]\n",
       "\n",
       "   casLib      Name  Rows  Columns                              casTable\n",
       " 0  DMlib  dt_model    15       27  CASTable('dt_model', caslib='DMlib')\n",
       "\n"
      ]
     },
     "execution_count": 11,
     "metadata": {},
     "output_type": "execute_result"
    }
   ],
   "source": [
    "s.decisionTree.dtreeTrain(**params, varImp = True, casOut = dict(name = 'dt_model', replace = True))"
   ]
  },
  {
   "cell_type": "markdown",
   "metadata": {
    "slideshow": {
     "slide_type": "slide"
    }
   },
   "source": [
    "## Gradient Boosting - CAS"
   ]
  },
  {
   "cell_type": "code",
   "execution_count": 12,
   "metadata": {
    "collapsed": false,
    "scrolled": true
   },
   "outputs": [
    {
     "data": {
      "text/html": [
       "<div class=\"cas-results-key\"><b>&#167; ModelInfo</b></div>\n",
       "<div class=\"cas-results-body\">\n",
       "<div>\n",
       "<table border=\"1\" class=\"dataframe\"><caption>Gradient Boosting Tree for HMEQ</caption>\n",
       "  <thead>\n",
       "    <tr style=\"text-align: right;\">\n",
       "      <th title=\"\"></th>\n",
       "      <th title=\"Descr\">Descr</th>\n",
       "      <th title=\"Value\">Value</th>\n",
       "    </tr>\n",
       "  </thead>\n",
       "  <tbody>\n",
       "    <tr>\n",
       "      <th>0</th>\n",
       "      <td>Number of Trees</td>\n",
       "      <td>50.0</td>\n",
       "    </tr>\n",
       "    <tr>\n",
       "      <th>1</th>\n",
       "      <td>Distribution</td>\n",
       "      <td>2.0</td>\n",
       "    </tr>\n",
       "    <tr>\n",
       "      <th>2</th>\n",
       "      <td>Learning Rate</td>\n",
       "      <td>0.1</td>\n",
       "    </tr>\n",
       "    <tr>\n",
       "      <th>3</th>\n",
       "      <td>Subsampling Rate</td>\n",
       "      <td>0.5</td>\n",
       "    </tr>\n",
       "    <tr>\n",
       "      <th>4</th>\n",
       "      <td>Number of Selected Variables (M)</td>\n",
       "      <td>12.0</td>\n",
       "    </tr>\n",
       "    <tr>\n",
       "      <th>5</th>\n",
       "      <td>Number of Bins</td>\n",
       "      <td>20.0</td>\n",
       "    </tr>\n",
       "    <tr>\n",
       "      <th>6</th>\n",
       "      <td>Number of Variables</td>\n",
       "      <td>12.0</td>\n",
       "    </tr>\n",
       "    <tr>\n",
       "      <th>7</th>\n",
       "      <td>Max Number of Tree Nodes</td>\n",
       "      <td>61.0</td>\n",
       "    </tr>\n",
       "    <tr>\n",
       "      <th>8</th>\n",
       "      <td>Min Number of Tree Nodes</td>\n",
       "      <td>19.0</td>\n",
       "    </tr>\n",
       "    <tr>\n",
       "      <th>9</th>\n",
       "      <td>Max Number of Branches</td>\n",
       "      <td>2.0</td>\n",
       "    </tr>\n",
       "    <tr>\n",
       "      <th>10</th>\n",
       "      <td>Min Number of Branches</td>\n",
       "      <td>2.0</td>\n",
       "    </tr>\n",
       "    <tr>\n",
       "      <th>11</th>\n",
       "      <td>Max Number of Levels</td>\n",
       "      <td>6.0</td>\n",
       "    </tr>\n",
       "    <tr>\n",
       "      <th>12</th>\n",
       "      <td>Min Number of Levels</td>\n",
       "      <td>6.0</td>\n",
       "    </tr>\n",
       "    <tr>\n",
       "      <th>13</th>\n",
       "      <td>Max Number of Leaves</td>\n",
       "      <td>31.0</td>\n",
       "    </tr>\n",
       "    <tr>\n",
       "      <th>14</th>\n",
       "      <td>Min Number of Leaves</td>\n",
       "      <td>10.0</td>\n",
       "    </tr>\n",
       "    <tr>\n",
       "      <th>15</th>\n",
       "      <td>Maximum Size of Leaves</td>\n",
       "      <td>1814.0</td>\n",
       "    </tr>\n",
       "    <tr>\n",
       "      <th>16</th>\n",
       "      <td>Minimum Size of Leaves</td>\n",
       "      <td>5.0</td>\n",
       "    </tr>\n",
       "    <tr>\n",
       "      <th>17</th>\n",
       "      <td>Random Number Seed</td>\n",
       "      <td>1.0</td>\n",
       "    </tr>\n",
       "  </tbody>\n",
       "</table>\n",
       "</div>\n",
       "</div>\n",
       "<div class=\"cas-results-key\"><hr/><b>&#167; OutputCasTables</b></div>\n",
       "<div class=\"cas-results-body\">\n",
       "<div>\n",
       "<table border=\"1\" class=\"dataframe\">\n",
       "  <thead>\n",
       "    <tr style=\"text-align: right;\">\n",
       "      <th title=\"\"></th>\n",
       "      <th title=\"CAS Library\">casLib</th>\n",
       "      <th title=\"Name\">Name</th>\n",
       "      <th title=\"Number of Rows\">Rows</th>\n",
       "      <th title=\"Number of Columns\">Columns</th>\n",
       "      <th title=\"Table\">casTable</th>\n",
       "    </tr>\n",
       "  </thead>\n",
       "  <tbody>\n",
       "    <tr>\n",
       "      <th>0</th>\n",
       "      <td>DMlib</td>\n",
       "      <td>gbt_model</td>\n",
       "      <td>2436</td>\n",
       "      <td>31</td>\n",
       "      <td>CASTable('gbt_model', caslib='DMlib')</td>\n",
       "    </tr>\n",
       "  </tbody>\n",
       "</table>\n",
       "</div>\n",
       "</div>\n",
       "<div class=\"cas-output-area\"></div>"
      ],
      "text/plain": [
       "[ModelInfo]\n",
       "\n",
       " Gradient Boosting Tree for HMEQ\n",
       " \n",
       "                                Descr   Value\n",
       " 0                    Number of Trees    50.0\n",
       " 1                       Distribution     2.0\n",
       " 2                      Learning Rate     0.1\n",
       " 3                   Subsampling Rate     0.5\n",
       " 4   Number of Selected Variables (M)    12.0\n",
       " 5                     Number of Bins    20.0\n",
       " 6                Number of Variables    12.0\n",
       " 7           Max Number of Tree Nodes    61.0\n",
       " 8           Min Number of Tree Nodes    19.0\n",
       " 9             Max Number of Branches     2.0\n",
       " 10            Min Number of Branches     2.0\n",
       " 11              Max Number of Levels     6.0\n",
       " 12              Min Number of Levels     6.0\n",
       " 13              Max Number of Leaves    31.0\n",
       " 14              Min Number of Leaves    10.0\n",
       " 15            Maximum Size of Leaves  1814.0\n",
       " 16            Minimum Size of Leaves     5.0\n",
       " 17                Random Number Seed     1.0\n",
       "\n",
       "[OutputCasTables]\n",
       "\n",
       "   casLib       Name  Rows  Columns                               casTable\n",
       " 0  DMlib  gbt_model  2436       31  CASTable('gbt_model', caslib='DMlib')\n",
       "\n"
      ]
     },
     "execution_count": 12,
     "metadata": {},
     "output_type": "execute_result"
    }
   ],
   "source": [
    "s.decisionTree.gbtreeTrain(**params, seed = 1, casOut = dict(name = 'gbt_model', replace = True))"
   ]
  },
  {
   "cell_type": "markdown",
   "metadata": {
    "slideshow": {
     "slide_type": "slide"
    }
   },
   "source": [
    "## Neural Network - CAS"
   ]
  },
  {
   "cell_type": "code",
   "execution_count": 13,
   "metadata": {
    "collapsed": false,
    "scrolled": true
   },
   "outputs": [
    {
     "data": {
      "text/html": [
       "<div class=\"cas-results-key\"><b>&#167; OptIterHistory</b></div>\n",
       "<div class=\"cas-results-body\">\n",
       "<div>\n",
       "<table border=\"1\" class=\"dataframe\">\n",
       "  <thead>\n",
       "    <tr style=\"text-align: right;\">\n",
       "      <th title=\"\"></th>\n",
       "      <th title=\"Progress\">Progress</th>\n",
       "      <th title=\"Objective\">Objective</th>\n",
       "      <th title=\"Loss\">Loss</th>\n",
       "    </tr>\n",
       "  </thead>\n",
       "  <tbody>\n",
       "    <tr>\n",
       "      <th>0</th>\n",
       "      <td>1.0</td>\n",
       "      <td>5.470003</td>\n",
       "      <td>5.470003</td>\n",
       "    </tr>\n",
       "    <tr>\n",
       "      <th>1</th>\n",
       "      <td>2.0</td>\n",
       "      <td>3.101988</td>\n",
       "      <td>3.101988</td>\n",
       "    </tr>\n",
       "    <tr>\n",
       "      <th>2</th>\n",
       "      <td>3.0</td>\n",
       "      <td>1.618312</td>\n",
       "      <td>1.618312</td>\n",
       "    </tr>\n",
       "    <tr>\n",
       "      <th>3</th>\n",
       "      <td>4.0</td>\n",
       "      <td>1.580249</td>\n",
       "      <td>1.580249</td>\n",
       "    </tr>\n",
       "    <tr>\n",
       "      <th>4</th>\n",
       "      <td>5.0</td>\n",
       "      <td>1.545793</td>\n",
       "      <td>1.545793</td>\n",
       "    </tr>\n",
       "    <tr>\n",
       "      <th>5</th>\n",
       "      <td>6.0</td>\n",
       "      <td>1.538129</td>\n",
       "      <td>1.538129</td>\n",
       "    </tr>\n",
       "    <tr>\n",
       "      <th>6</th>\n",
       "      <td>7.0</td>\n",
       "      <td>1.532759</td>\n",
       "      <td>1.532759</td>\n",
       "    </tr>\n",
       "    <tr>\n",
       "      <th>7</th>\n",
       "      <td>8.0</td>\n",
       "      <td>1.529136</td>\n",
       "      <td>1.529136</td>\n",
       "    </tr>\n",
       "    <tr>\n",
       "      <th>8</th>\n",
       "      <td>9.0</td>\n",
       "      <td>1.527706</td>\n",
       "      <td>1.527706</td>\n",
       "    </tr>\n",
       "    <tr>\n",
       "      <th>9</th>\n",
       "      <td>10.0</td>\n",
       "      <td>1.527508</td>\n",
       "      <td>1.527508</td>\n",
       "    </tr>\n",
       "  </tbody>\n",
       "</table>\n",
       "</div>\n",
       "</div>\n",
       "<div class=\"cas-results-key\"><hr/><b>&#167; ConvergenceStatus</b></div>\n",
       "<div class=\"cas-results-body\">\n",
       "<div>\n",
       "<table border=\"1\" class=\"dataframe\">\n",
       "  <thead>\n",
       "    <tr style=\"text-align: right;\">\n",
       "      <th title=\"\"></th>\n",
       "      <th title=\"Convergence Status\">Reason</th>\n",
       "    </tr>\n",
       "  </thead>\n",
       "  <tbody>\n",
       "    <tr>\n",
       "      <th>0</th>\n",
       "      <td>The optimization exited on maximum iterations.</td>\n",
       "    </tr>\n",
       "  </tbody>\n",
       "</table>\n",
       "</div>\n",
       "</div>\n",
       "<div class=\"cas-results-key\"><hr/><b>&#167; ModelInfo</b></div>\n",
       "<div class=\"cas-results-body\">\n",
       "<div>\n",
       "<table border=\"1\" class=\"dataframe\"><caption>Neural Net Model Info for HMEQ</caption>\n",
       "  <thead>\n",
       "    <tr style=\"text-align: right;\">\n",
       "      <th title=\"\"></th>\n",
       "      <th title=\"Descr\">Descr</th>\n",
       "      <th title=\"Value\">Value</th>\n",
       "    </tr>\n",
       "  </thead>\n",
       "  <tbody>\n",
       "    <tr>\n",
       "      <th>0</th>\n",
       "      <td>Model</td>\n",
       "      <td>Neural Net</td>\n",
       "    </tr>\n",
       "    <tr>\n",
       "      <th>1</th>\n",
       "      <td>Number of Observations Used</td>\n",
       "      <td>4172</td>\n",
       "    </tr>\n",
       "    <tr>\n",
       "      <th>2</th>\n",
       "      <td>Number of Observations Read</td>\n",
       "      <td>4172</td>\n",
       "    </tr>\n",
       "    <tr>\n",
       "      <th>3</th>\n",
       "      <td>Target/Response Variable</td>\n",
       "      <td>BAD</td>\n",
       "    </tr>\n",
       "    <tr>\n",
       "      <th>4</th>\n",
       "      <td>Number of Nodes</td>\n",
       "      <td>20</td>\n",
       "    </tr>\n",
       "    <tr>\n",
       "      <th>5</th>\n",
       "      <td>Number of Input Nodes</td>\n",
       "      <td>18</td>\n",
       "    </tr>\n",
       "    <tr>\n",
       "      <th>6</th>\n",
       "      <td>Number of Output Nodes</td>\n",
       "      <td>2</td>\n",
       "    </tr>\n",
       "    <tr>\n",
       "      <th>7</th>\n",
       "      <td>Number of Hidden Nodes</td>\n",
       "      <td>0</td>\n",
       "    </tr>\n",
       "    <tr>\n",
       "      <th>8</th>\n",
       "      <td>Number of Weight Parameters</td>\n",
       "      <td>18</td>\n",
       "    </tr>\n",
       "    <tr>\n",
       "      <th>9</th>\n",
       "      <td>Number of Bias Parameters</td>\n",
       "      <td>2</td>\n",
       "    </tr>\n",
       "    <tr>\n",
       "      <th>10</th>\n",
       "      <td>Architecture</td>\n",
       "      <td>GLIM</td>\n",
       "    </tr>\n",
       "    <tr>\n",
       "      <th>11</th>\n",
       "      <td>Number of Neural Nets</td>\n",
       "      <td>1</td>\n",
       "    </tr>\n",
       "    <tr>\n",
       "      <th>12</th>\n",
       "      <td>Objective Value</td>\n",
       "      <td>1.5275084734</td>\n",
       "    </tr>\n",
       "  </tbody>\n",
       "</table>\n",
       "</div>\n",
       "</div>\n",
       "<div class=\"cas-results-key\"><hr/><b>&#167; OutputCasTables</b></div>\n",
       "<div class=\"cas-results-body\">\n",
       "<div>\n",
       "<table border=\"1\" class=\"dataframe\">\n",
       "  <thead>\n",
       "    <tr style=\"text-align: right;\">\n",
       "      <th title=\"\"></th>\n",
       "      <th title=\"CAS Library\">casLib</th>\n",
       "      <th title=\"Name\">Name</th>\n",
       "      <th title=\"Number of Rows\">Rows</th>\n",
       "      <th title=\"Number of Columns\">Columns</th>\n",
       "      <th title=\"Table\">casTable</th>\n",
       "    </tr>\n",
       "  </thead>\n",
       "  <tbody>\n",
       "    <tr>\n",
       "      <th>0</th>\n",
       "      <td>DMlib</td>\n",
       "      <td>nn_model</td>\n",
       "      <td>20</td>\n",
       "      <td>15</td>\n",
       "      <td>CASTable('nn_model', caslib='DMlib')</td>\n",
       "    </tr>\n",
       "  </tbody>\n",
       "</table>\n",
       "</div>\n",
       "</div>\n",
       "<div class=\"cas-output-area\"></div>"
      ],
      "text/plain": [
       "[OptIterHistory]\n",
       "\n",
       "    Progress  Objective      Loss\n",
       " 0       1.0   5.470003  5.470003\n",
       " 1       2.0   3.101988  3.101988\n",
       " 2       3.0   1.618312  1.618312\n",
       " 3       4.0   1.580249  1.580249\n",
       " 4       5.0   1.545793  1.545793\n",
       " 5       6.0   1.538129  1.538129\n",
       " 6       7.0   1.532759  1.532759\n",
       " 7       8.0   1.529136  1.529136\n",
       " 8       9.0   1.527706  1.527706\n",
       " 9      10.0   1.527508  1.527508\n",
       "\n",
       "[ConvergenceStatus]\n",
       "\n",
       "                                            Reason\n",
       " 0  The optimization exited on maximum iterations.\n",
       "\n",
       "[ModelInfo]\n",
       "\n",
       " Neural Net Model Info for HMEQ\n",
       " \n",
       "                           Descr         Value\n",
       " 0                         Model    Neural Net\n",
       " 1   Number of Observations Used          4172\n",
       " 2   Number of Observations Read          4172\n",
       " 3      Target/Response Variable           BAD\n",
       " 4               Number of Nodes            20\n",
       " 5         Number of Input Nodes            18\n",
       " 6        Number of Output Nodes             2\n",
       " 7        Number of Hidden Nodes             0\n",
       " 8   Number of Weight Parameters            18\n",
       " 9     Number of Bias Parameters             2\n",
       " 10                 Architecture          GLIM\n",
       " 11        Number of Neural Nets             1\n",
       " 12              Objective Value  1.5275084734\n",
       "\n",
       "[OutputCasTables]\n",
       "\n",
       "   casLib      Name  Rows  Columns                              casTable\n",
       " 0  DMlib  nn_model    20       15  CASTable('nn_model', caslib='DMlib')\n",
       "\n"
      ]
     },
     "execution_count": 13,
     "metadata": {},
     "output_type": "execute_result"
    }
   ],
   "source": [
    "s.neuralNet.annTrain(**imp_params, seed = 1, casOut = dict(name = 'nn_model', replace = True))"
   ]
  },
  {
   "cell_type": "markdown",
   "metadata": {
    "slideshow": {
     "slide_type": "slide"
    }
   },
   "source": [
    "## Support Vector Machine - CAS"
   ]
  },
  {
   "cell_type": "code",
   "execution_count": 14,
   "metadata": {
    "collapsed": false
   },
   "outputs": [
    {
     "data": {
      "text/html": [
       "<div class=\"cas-results-key\"><b>&#167; ModelInfo</b></div>\n",
       "<div class=\"cas-results-body\">\n",
       "<div>\n",
       "<table border=\"1\" class=\"dataframe\"><caption>Model Information</caption>\n",
       "  <thead>\n",
       "    <tr style=\"text-align: right;\">\n",
       "      <th title=\"\"></th>\n",
       "      <th title=\"Descr\">Descr</th>\n",
       "      <th title=\"Value\">Value</th>\n",
       "    </tr>\n",
       "  </thead>\n",
       "  <tbody>\n",
       "    <tr>\n",
       "      <th>0</th>\n",
       "      <td>Task Type</td>\n",
       "      <td>C_CLAS</td>\n",
       "    </tr>\n",
       "    <tr>\n",
       "      <th>1</th>\n",
       "      <td>Optimization Technique</td>\n",
       "      <td>Interior Point</td>\n",
       "    </tr>\n",
       "    <tr>\n",
       "      <th>2</th>\n",
       "      <td>Scale</td>\n",
       "      <td>YES</td>\n",
       "    </tr>\n",
       "    <tr>\n",
       "      <th>3</th>\n",
       "      <td>Kernel Function</td>\n",
       "      <td>Polynomial</td>\n",
       "    </tr>\n",
       "    <tr>\n",
       "      <th>4</th>\n",
       "      <td>Kernel Degree</td>\n",
       "      <td>2</td>\n",
       "    </tr>\n",
       "    <tr>\n",
       "      <th>5</th>\n",
       "      <td>Penalty Method</td>\n",
       "      <td>C</td>\n",
       "    </tr>\n",
       "    <tr>\n",
       "      <th>6</th>\n",
       "      <td>Penalty Parameter</td>\n",
       "      <td>1</td>\n",
       "    </tr>\n",
       "    <tr>\n",
       "      <th>7</th>\n",
       "      <td>Maximum Iterations</td>\n",
       "      <td>25</td>\n",
       "    </tr>\n",
       "    <tr>\n",
       "      <th>8</th>\n",
       "      <td>Tolerance</td>\n",
       "      <td>1e-06</td>\n",
       "    </tr>\n",
       "  </tbody>\n",
       "</table>\n",
       "</div>\n",
       "</div>\n",
       "<div class=\"cas-results-key\"><hr/><b>&#167; NObs</b></div>\n",
       "<div class=\"cas-results-body\">\n",
       "<div>\n",
       "<table border=\"1\" class=\"dataframe\"><caption>Observations</caption>\n",
       "  <thead>\n",
       "    <tr style=\"text-align: right;\">\n",
       "      <th title=\"\"></th>\n",
       "      <th title=\"Descr\">Descr</th>\n",
       "      <th title=\"N\">N</th>\n",
       "    </tr>\n",
       "  </thead>\n",
       "  <tbody>\n",
       "    <tr>\n",
       "      <th>0</th>\n",
       "      <td>Number of Observations Read</td>\n",
       "      <td>4172.0</td>\n",
       "    </tr>\n",
       "    <tr>\n",
       "      <th>1</th>\n",
       "      <td>Number of Observations Used</td>\n",
       "      <td>4172.0</td>\n",
       "    </tr>\n",
       "  </tbody>\n",
       "</table>\n",
       "</div>\n",
       "</div>\n",
       "<div class=\"cas-results-key\"><hr/><b>&#167; TrainingResult</b></div>\n",
       "<div class=\"cas-results-body\">\n",
       "<div>\n",
       "<table border=\"1\" class=\"dataframe\"><caption>Training Results</caption>\n",
       "  <thead>\n",
       "    <tr style=\"text-align: right;\">\n",
       "      <th title=\"\"></th>\n",
       "      <th title=\"Descr\">Descr</th>\n",
       "      <th title=\"Value\">Value</th>\n",
       "    </tr>\n",
       "  </thead>\n",
       "  <tbody>\n",
       "    <tr>\n",
       "      <th>0</th>\n",
       "      <td>Inner Product of Weights</td>\n",
       "      <td>86.704956</td>\n",
       "    </tr>\n",
       "    <tr>\n",
       "      <th>1</th>\n",
       "      <td>Bias</td>\n",
       "      <td>-0.979167</td>\n",
       "    </tr>\n",
       "    <tr>\n",
       "      <th>2</th>\n",
       "      <td>Total Slack (Constraint Violations)</td>\n",
       "      <td>1351.723772</td>\n",
       "    </tr>\n",
       "    <tr>\n",
       "      <th>3</th>\n",
       "      <td>Norm of Longest Vector</td>\n",
       "      <td>5.389855</td>\n",
       "    </tr>\n",
       "    <tr>\n",
       "      <th>4</th>\n",
       "      <td>Number of Support Vectors</td>\n",
       "      <td>1487.000000</td>\n",
       "    </tr>\n",
       "    <tr>\n",
       "      <th>5</th>\n",
       "      <td>Number of Support Vectors on Margin</td>\n",
       "      <td>1388.000000</td>\n",
       "    </tr>\n",
       "    <tr>\n",
       "      <th>6</th>\n",
       "      <td>Maximum F</td>\n",
       "      <td>10.120503</td>\n",
       "    </tr>\n",
       "    <tr>\n",
       "      <th>7</th>\n",
       "      <td>Minimum F</td>\n",
       "      <td>-3.491488</td>\n",
       "    </tr>\n",
       "    <tr>\n",
       "      <th>8</th>\n",
       "      <td>Number of Effects</td>\n",
       "      <td>12.000000</td>\n",
       "    </tr>\n",
       "    <tr>\n",
       "      <th>9</th>\n",
       "      <td>Columns in Data Matrix</td>\n",
       "      <td>18.000000</td>\n",
       "    </tr>\n",
       "    <tr>\n",
       "      <th>10</th>\n",
       "      <td>Columns in Kernel Matrix</td>\n",
       "      <td>190.000000</td>\n",
       "    </tr>\n",
       "  </tbody>\n",
       "</table>\n",
       "</div>\n",
       "</div>\n",
       "<div class=\"cas-results-key\"><hr/><b>&#167; IterHistory</b></div>\n",
       "<div class=\"cas-results-body\">\n",
       "<div>\n",
       "<table border=\"1\" class=\"dataframe\"><caption>Iteration History</caption>\n",
       "  <thead>\n",
       "    <tr style=\"text-align: right;\">\n",
       "      <th title=\"\"></th>\n",
       "      <th title=\"Iteration\">Iteration</th>\n",
       "      <th title=\"Complementarity\">Complementarity</th>\n",
       "      <th title=\"Feasibility\">Feasibility</th>\n",
       "    </tr>\n",
       "  </thead>\n",
       "  <tbody>\n",
       "    <tr>\n",
       "      <th>0</th>\n",
       "      <td>1.0</td>\n",
       "      <td>1.002211e+06</td>\n",
       "      <td>2.577112e+06</td>\n",
       "    </tr>\n",
       "    <tr>\n",
       "      <th>1</th>\n",
       "      <td>2.0</td>\n",
       "      <td>1.241817e+03</td>\n",
       "      <td>1.910915e+03</td>\n",
       "    </tr>\n",
       "    <tr>\n",
       "      <th>2</th>\n",
       "      <td>3.0</td>\n",
       "      <td>1.577725e+02</td>\n",
       "      <td>1.910915e-05</td>\n",
       "    </tr>\n",
       "    <tr>\n",
       "      <th>3</th>\n",
       "      <td>4.0</td>\n",
       "      <td>8.685757e+01</td>\n",
       "      <td>1.039168e-05</td>\n",
       "    </tr>\n",
       "    <tr>\n",
       "      <th>4</th>\n",
       "      <td>5.0</td>\n",
       "      <td>6.429771e+01</td>\n",
       "      <td>5.736051e-06</td>\n",
       "    </tr>\n",
       "    <tr>\n",
       "      <th>5</th>\n",
       "      <td>6.0</td>\n",
       "      <td>1.420735e+01</td>\n",
       "      <td>1.221079e-06</td>\n",
       "    </tr>\n",
       "    <tr>\n",
       "      <th>6</th>\n",
       "      <td>7.0</td>\n",
       "      <td>1.381885e+01</td>\n",
       "      <td>9.875620e-07</td>\n",
       "    </tr>\n",
       "    <tr>\n",
       "      <th>7</th>\n",
       "      <td>8.0</td>\n",
       "      <td>2.768728e+00</td>\n",
       "      <td>1.616651e-07</td>\n",
       "    </tr>\n",
       "    <tr>\n",
       "      <th>8</th>\n",
       "      <td>9.0</td>\n",
       "      <td>5.434797e-01</td>\n",
       "      <td>1.357558e-08</td>\n",
       "    </tr>\n",
       "    <tr>\n",
       "      <th>9</th>\n",
       "      <td>10.0</td>\n",
       "      <td>2.757961e-01</td>\n",
       "      <td>4.397931e-09</td>\n",
       "    </tr>\n",
       "    <tr>\n",
       "      <th>10</th>\n",
       "      <td>11.0</td>\n",
       "      <td>1.077543e-01</td>\n",
       "      <td>1.375412e-09</td>\n",
       "    </tr>\n",
       "    <tr>\n",
       "      <th>11</th>\n",
       "      <td>12.0</td>\n",
       "      <td>8.838879e-02</td>\n",
       "      <td>9.001024e-10</td>\n",
       "    </tr>\n",
       "    <tr>\n",
       "      <th>12</th>\n",
       "      <td>13.0</td>\n",
       "      <td>5.314032e-02</td>\n",
       "      <td>4.802319e-10</td>\n",
       "    </tr>\n",
       "    <tr>\n",
       "      <th>13</th>\n",
       "      <td>14.0</td>\n",
       "      <td>3.914535e-02</td>\n",
       "      <td>3.032341e-10</td>\n",
       "    </tr>\n",
       "    <tr>\n",
       "      <th>14</th>\n",
       "      <td>15.0</td>\n",
       "      <td>2.691541e-02</td>\n",
       "      <td>1.829287e-10</td>\n",
       "    </tr>\n",
       "    <tr>\n",
       "      <th>15</th>\n",
       "      <td>16.0</td>\n",
       "      <td>1.842940e-02</td>\n",
       "      <td>9.695830e-11</td>\n",
       "    </tr>\n",
       "    <tr>\n",
       "      <th>16</th>\n",
       "      <td>17.0</td>\n",
       "      <td>1.165560e-02</td>\n",
       "      <td>4.665354e-11</td>\n",
       "    </tr>\n",
       "    <tr>\n",
       "      <th>17</th>\n",
       "      <td>18.0</td>\n",
       "      <td>7.807987e-03</td>\n",
       "      <td>2.361417e-11</td>\n",
       "    </tr>\n",
       "    <tr>\n",
       "      <th>18</th>\n",
       "      <td>19.0</td>\n",
       "      <td>3.606079e-03</td>\n",
       "      <td>5.829948e-12</td>\n",
       "    </tr>\n",
       "    <tr>\n",
       "      <th>19</th>\n",
       "      <td>20.0</td>\n",
       "      <td>2.260171e-03</td>\n",
       "      <td>1.650596e-12</td>\n",
       "    </tr>\n",
       "    <tr>\n",
       "      <th>20</th>\n",
       "      <td>21.0</td>\n",
       "      <td>9.682564e-04</td>\n",
       "      <td>4.689582e-13</td>\n",
       "    </tr>\n",
       "    <tr>\n",
       "      <th>21</th>\n",
       "      <td>22.0</td>\n",
       "      <td>3.394274e-04</td>\n",
       "      <td>6.394885e-14</td>\n",
       "    </tr>\n",
       "    <tr>\n",
       "      <th>22</th>\n",
       "      <td>23.0</td>\n",
       "      <td>7.446301e-05</td>\n",
       "      <td>6.133982e-14</td>\n",
       "    </tr>\n",
       "    <tr>\n",
       "      <th>23</th>\n",
       "      <td>24.0</td>\n",
       "      <td>1.110313e-05</td>\n",
       "      <td>4.707346e-14</td>\n",
       "    </tr>\n",
       "    <tr>\n",
       "      <th>24</th>\n",
       "      <td>25.0</td>\n",
       "      <td>4.986841e-07</td>\n",
       "      <td>7.450566e-14</td>\n",
       "    </tr>\n",
       "  </tbody>\n",
       "</table>\n",
       "</div>\n",
       "</div>\n",
       "<div class=\"cas-results-key\"><hr/><b>&#167; Misclassification</b></div>\n",
       "<div class=\"cas-results-body\">\n",
       "<div>\n",
       "<table border=\"1\" class=\"dataframe\"><caption>Misclassification Matrix</caption>\n",
       "  <thead>\n",
       "    <tr style=\"text-align: right;\">\n",
       "      <th title=\"\"></th>\n",
       "      <th title=\"Observed\">Observed</th>\n",
       "      <th title=\"0\">PredEvent</th>\n",
       "      <th title=\"1\">PredNonEvent</th>\n",
       "      <th title=\"Total\">TotalTrain</th>\n",
       "    </tr>\n",
       "  </thead>\n",
       "  <tbody>\n",
       "    <tr>\n",
       "      <th>0</th>\n",
       "      <td>0</td>\n",
       "      <td>3316.0</td>\n",
       "      <td>33.0</td>\n",
       "      <td>3349.0</td>\n",
       "    </tr>\n",
       "    <tr>\n",
       "      <th>1</th>\n",
       "      <td>1</td>\n",
       "      <td>572.0</td>\n",
       "      <td>251.0</td>\n",
       "      <td>823.0</td>\n",
       "    </tr>\n",
       "    <tr>\n",
       "      <th>2</th>\n",
       "      <td>Total</td>\n",
       "      <td>3888.0</td>\n",
       "      <td>284.0</td>\n",
       "      <td>4172.0</td>\n",
       "    </tr>\n",
       "  </tbody>\n",
       "</table>\n",
       "</div>\n",
       "</div>\n",
       "<div class=\"cas-results-key\"><hr/><b>&#167; FitStatistics</b></div>\n",
       "<div class=\"cas-results-body\">\n",
       "<div>\n",
       "<table border=\"1\" class=\"dataframe\"><caption>Fit Statistics</caption>\n",
       "  <thead>\n",
       "    <tr style=\"text-align: right;\">\n",
       "      <th title=\"\"></th>\n",
       "      <th title=\"Statistic\">Statistic</th>\n",
       "      <th title=\"Training\">Training</th>\n",
       "    </tr>\n",
       "  </thead>\n",
       "  <tbody>\n",
       "    <tr>\n",
       "      <th>0</th>\n",
       "      <td>Accuracy</td>\n",
       "      <td>0.854986</td>\n",
       "    </tr>\n",
       "    <tr>\n",
       "      <th>1</th>\n",
       "      <td>Error</td>\n",
       "      <td>0.145014</td>\n",
       "    </tr>\n",
       "    <tr>\n",
       "      <th>2</th>\n",
       "      <td>Sensitivity</td>\n",
       "      <td>0.990146</td>\n",
       "    </tr>\n",
       "    <tr>\n",
       "      <th>3</th>\n",
       "      <td>Specificity</td>\n",
       "      <td>0.304982</td>\n",
       "    </tr>\n",
       "  </tbody>\n",
       "</table>\n",
       "</div>\n",
       "</div>\n",
       "<div class=\"cas-output-area\"></div>\n",
       "<p class=\"cas-results-performance\"><small><span class=\"cas-elapsed\">elapsed 0.683s</span> &#183; <span class=\"cas-user\">user 1.52s</span> &#183; <span class=\"cas-sys\">sys 1.9s</span> &#183; <span class=\"cas-memory\">mem 186MB</span></small></p>"
      ],
      "text/plain": [
       "[ModelInfo]\n",
       "\n",
       " Model Information\n",
       " \n",
       "                     Descr           Value\n",
       " 0               Task Type          C_CLAS\n",
       " 1  Optimization Technique  Interior Point\n",
       " 2                   Scale             YES\n",
       " 3         Kernel Function      Polynomial\n",
       " 4           Kernel Degree               2\n",
       " 5          Penalty Method               C\n",
       " 6       Penalty Parameter               1\n",
       " 7      Maximum Iterations              25\n",
       " 8               Tolerance           1e-06\n",
       "\n",
       "[NObs]\n",
       "\n",
       " Observations\n",
       " \n",
       "                          Descr       N\n",
       " 0  Number of Observations Read  4172.0\n",
       " 1  Number of Observations Used  4172.0\n",
       "\n",
       "[TrainingResult]\n",
       "\n",
       " Training Results\n",
       " \n",
       "                                   Descr        Value\n",
       " 0              Inner Product of Weights    86.704956\n",
       " 1                                  Bias    -0.979167\n",
       " 2   Total Slack (Constraint Violations)  1351.723772\n",
       " 3                Norm of Longest Vector     5.389855\n",
       " 4             Number of Support Vectors  1487.000000\n",
       " 5   Number of Support Vectors on Margin  1388.000000\n",
       " 6                             Maximum F    10.120503\n",
       " 7                             Minimum F    -3.491488\n",
       " 8                     Number of Effects    12.000000\n",
       " 9                Columns in Data Matrix    18.000000\n",
       " 10             Columns in Kernel Matrix   190.000000\n",
       "\n",
       "[IterHistory]\n",
       "\n",
       " Iteration History\n",
       " \n",
       "     Iteration  Complementarity   Feasibility\n",
       " 0         1.0     1.002211e+06  2.577112e+06\n",
       " 1         2.0     1.241817e+03  1.910915e+03\n",
       " 2         3.0     1.577725e+02  1.910915e-05\n",
       " 3         4.0     8.685757e+01  1.039168e-05\n",
       " 4         5.0     6.429771e+01  5.736051e-06\n",
       " 5         6.0     1.420735e+01  1.221079e-06\n",
       " 6         7.0     1.381885e+01  9.875620e-07\n",
       " 7         8.0     2.768728e+00  1.616651e-07\n",
       " 8         9.0     5.434797e-01  1.357558e-08\n",
       " 9        10.0     2.757961e-01  4.397931e-09\n",
       " 10       11.0     1.077543e-01  1.375412e-09\n",
       " 11       12.0     8.838879e-02  9.001024e-10\n",
       " 12       13.0     5.314032e-02  4.802319e-10\n",
       " 13       14.0     3.914535e-02  3.032341e-10\n",
       " 14       15.0     2.691541e-02  1.829287e-10\n",
       " 15       16.0     1.842940e-02  9.695830e-11\n",
       " 16       17.0     1.165560e-02  4.665354e-11\n",
       " 17       18.0     7.807987e-03  2.361417e-11\n",
       " 18       19.0     3.606079e-03  5.829948e-12\n",
       " 19       20.0     2.260171e-03  1.650596e-12\n",
       " 20       21.0     9.682564e-04  4.689582e-13\n",
       " 21       22.0     3.394274e-04  6.394885e-14\n",
       " 22       23.0     7.446301e-05  6.133982e-14\n",
       " 23       24.0     1.110313e-05  4.707346e-14\n",
       " 24       25.0     4.986841e-07  7.450566e-14\n",
       "\n",
       "[Misclassification]\n",
       "\n",
       " Misclassification Matrix\n",
       " \n",
       "   Observed  PredEvent  PredNonEvent  TotalTrain\n",
       " 0        0     3316.0          33.0      3349.0\n",
       " 1        1      572.0         251.0       823.0\n",
       " 2    Total     3888.0         284.0      4172.0\n",
       "\n",
       "[FitStatistics]\n",
       "\n",
       " Fit Statistics\n",
       " \n",
       "      Statistic  Training\n",
       " 0     Accuracy  0.854986\n",
       " 1        Error  0.145014\n",
       " 2  Sensitivity  0.990146\n",
       " 3  Specificity  0.304982\n",
       "\n",
       "+ Elapsed: 0.683s, user: 1.52s, sys: 1.9s, mem: 186mb"
      ]
     },
     "execution_count": 14,
     "metadata": {},
     "output_type": "execute_result"
    }
   ],
   "source": [
    "s.svm.svmTrain(**imp_params, seed = 1, kernel = 'polynomial', id = [target, '_partind_'], savestate = 'svm_model')"
   ]
  },
  {
   "cell_type": "markdown",
   "metadata": {
    "slideshow": {
     "slide_type": "slide"
    }
   },
   "source": [
    "# Model Comparison"
   ]
  },
  {
   "cell_type": "markdown",
   "metadata": {},
   "source": [
    "## Score the Models on Validation Data - CAS/Python"
   ]
  },
  {
   "cell_type": "code",
   "execution_count": 15,
   "metadata": {
    "collapsed": false
   },
   "outputs": [],
   "source": [
    "def score_model(model):\n",
    "    score = dict(\n",
    "        table      = indata,\n",
    "        modelTable = model + '_model',\n",
    "        copyVars   = [target, '_partind_'],\n",
    "        casOut     = dict(name = '_scored_' + model, replace = True)\n",
    "    )\n",
    "    return score\n",
    "\n",
    "### Decision Tree\n",
    "s.decisionTree.dtreeScore(**score_model('dt'))\n",
    "\n",
    "### Gradient Boosting\n",
    "s.decisionTree.gbtreeScore(**score_model('gbt'))\n",
    "\n",
    "### Neural Network\n",
    "s.neuralNet.annScore(**score_model('nn'))\n",
    "\n",
    "### Support Vector Machine\n",
    "castbl.astore.score(rstore = 'svm_model', out = dict(name = '_scored_svm', replace = True))\n",
    "\n",
    "### Create standardized prediction column\n",
    "for i in range(len(models)-1):\n",
    "    s.dataStep.runCode('''\n",
    "        data _scored_''' + list(models)[i] + '''; \n",
    "            set _scored_''' + list(models)[i] + ''';\n",
    "            if _''' + list(models)[i] + '''_predname_ = 1\n",
    "                then p_''' + target + '''1 = _''' + list(models)[i] + '''_predp_; \n",
    "                else p_''' + target + '''1 = 1 - _''' + list(models)[i] + '''_predp_;\n",
    "        run;\n",
    "    ''')"
   ]
  },
  {
   "cell_type": "markdown",
   "metadata": {
    "slideshow": {
     "slide_type": "slide"
    }
   },
   "source": [
    "## Assess the Performance - CAS/Python"
   ]
  },
  {
   "cell_type": "code",
   "execution_count": 16,
   "metadata": {
    "collapsed": false
   },
   "outputs": [
    {
     "name": "stdout",
     "output_type": "stream",
     "text": [
      "\n",
      "        Confusion Matrix Information       \n"
     ]
    },
    {
     "data": {
      "text/html": [
       "<div>\n",
       "<table border=\"1\" class=\"dataframe\">\n",
       "  <thead>\n",
       "    <tr style=\"text-align: right;\">\n",
       "      <th title=\"\"></th>\n",
       "      <th title=\"Model\">Model</th>\n",
       "      <th title=\"TP\">TP</th>\n",
       "      <th title=\"FP\">FP</th>\n",
       "      <th title=\"FN\">FN</th>\n",
       "      <th title=\"TN\">TN</th>\n",
       "    </tr>\n",
       "  </thead>\n",
       "  <tbody>\n",
       "    <tr>\n",
       "      <th>0</th>\n",
       "      <td>Decision Tree</td>\n",
       "      <td>253.0</td>\n",
       "      <td>145.0</td>\n",
       "      <td>113.0</td>\n",
       "      <td>1277.0</td>\n",
       "    </tr>\n",
       "    <tr>\n",
       "      <th>1</th>\n",
       "      <td>Gradient Boosting</td>\n",
       "      <td>241.0</td>\n",
       "      <td>55.0</td>\n",
       "      <td>125.0</td>\n",
       "      <td>1367.0</td>\n",
       "    </tr>\n",
       "    <tr>\n",
       "      <th>2</th>\n",
       "      <td>Neural Network</td>\n",
       "      <td>116.0</td>\n",
       "      <td>63.0</td>\n",
       "      <td>250.0</td>\n",
       "      <td>1359.0</td>\n",
       "    </tr>\n",
       "    <tr>\n",
       "      <th>3</th>\n",
       "      <td>Support Vector Machine</td>\n",
       "      <td>97.0</td>\n",
       "      <td>20.0</td>\n",
       "      <td>269.0</td>\n",
       "      <td>1402.0</td>\n",
       "    </tr>\n",
       "  </tbody>\n",
       "</table>\n",
       "</div>"
      ],
      "text/plain": [
       "                    Model     TP     FP     FN      TN\n",
       "0           Decision Tree  253.0  145.0  113.0  1277.0\n",
       "1       Gradient Boosting  241.0   55.0  125.0  1367.0\n",
       "2          Neural Network  116.0   63.0  250.0  1359.0\n",
       "3  Support Vector Machine   97.0   20.0  269.0  1402.0"
      ]
     },
     "execution_count": 16,
     "metadata": {},
     "output_type": "execute_result"
    }
   ],
   "source": [
    "# Model assessment function\n",
    "def assess_model(model):\n",
    "    assess = s.percentile.assess(\n",
    "        table    = dict(name = '_scored_' + model, where = '_partind_ = 0'),\n",
    "        inputs   = 'p_' + target + '1',      \n",
    "        response = target,\n",
    "        event    = '1',   \n",
    "    )\n",
    "    return assess\n",
    "\n",
    "# Loop through the models and append to the roc_df dataframe\n",
    "roc_df  = pd.DataFrame()\n",
    "for i in range(len(models)):\n",
    "    tmp = assess_model(list(models)[i])\n",
    "    tmp.ROCInfo['Model'] = list(models.values())[i]\n",
    "    roc_df = pd.concat([roc_df, tmp.ROCInfo])\n",
    "\n",
    "# Display stacked confusion matrix using Python\n",
    "print('\\n', 'Confusion Matrix Information'.center(42, ' '))\n",
    "roc_df[round(roc_df['CutOff'], 2) == 0.5][['Model', 'TP', 'FP', 'FN', 'TN']].reset_index(drop = True)"
   ]
  },
  {
   "cell_type": "markdown",
   "metadata": {
    "slideshow": {
     "slide_type": "slide"
    }
   },
   "source": [
    "## Compare Misclassification Rates - Python"
   ]
  },
  {
   "cell_type": "code",
   "execution_count": 17,
   "metadata": {
    "collapsed": false
   },
   "outputs": [
    {
     "name": "stdout",
     "output_type": "stream",
     "text": [
      "\n",
      "   Misclassification Rate Comparison  \n"
     ]
    },
    {
     "data": {
      "text/html": [
       "<div>\n",
       "<table border=\"1\" class=\"dataframe\">\n",
       "  <thead>\n",
       "    <tr style=\"text-align: right;\">\n",
       "      <th title=\"\"></th>\n",
       "      <th title=\"Model\">Model</th>\n",
       "      <th title=\"Misclassification\">Misclassification</th>\n",
       "    </tr>\n",
       "  </thead>\n",
       "  <tbody>\n",
       "    <tr>\n",
       "      <th>1</th>\n",
       "      <td>Gradient Boosting</td>\n",
       "      <td>0.100671</td>\n",
       "    </tr>\n",
       "    <tr>\n",
       "      <th>0</th>\n",
       "      <td>Decision Tree</td>\n",
       "      <td>0.144295</td>\n",
       "    </tr>\n",
       "    <tr>\n",
       "      <th>3</th>\n",
       "      <td>Support Vector Machine</td>\n",
       "      <td>0.161633</td>\n",
       "    </tr>\n",
       "    <tr>\n",
       "      <th>2</th>\n",
       "      <td>Neural Network</td>\n",
       "      <td>0.175056</td>\n",
       "    </tr>\n",
       "  </tbody>\n",
       "</table>\n",
       "</div>"
      ],
      "text/plain": [
       "                    Model  Misclassification\n",
       "1       Gradient Boosting           0.100671\n",
       "0           Decision Tree           0.144295\n",
       "3  Support Vector Machine           0.161633\n",
       "2          Neural Network           0.175056"
      ]
     },
     "execution_count": 17,
     "metadata": {},
     "output_type": "execute_result"
    }
   ],
   "source": [
    "# Add misclassification rate calculation\n",
    "roc_df['Misclassification'] = 1 - roc_df['ACC']\n",
    "\n",
    "print('\\n', 'Misclassification Rate Comparison'.center(37, ' '))\n",
    "miss = roc_df[round(roc_df['CutOff'], 2) == 0.5][['Model', 'Misclassification']].reset_index(drop = True)\n",
    "miss.sort_values('Misclassification')"
   ]
  },
  {
   "cell_type": "markdown",
   "metadata": {},
   "source": [
    "## Create ROC Curve - Python"
   ]
  },
  {
   "cell_type": "code",
   "execution_count": 18,
   "metadata": {
    "collapsed": false
   },
   "outputs": [
    {
     "data": {
      "image/png": "[encoded data removed]",
      "text/plain": [
       "<matplotlib.figure.Figure at 0xd801e10>"
      ]
     },
     "metadata": {},
     "output_type": "display_data"
    }
   ],
   "source": [
    "# Plot ROC curve\n",
    "plt.figure(figsize = (7, 6))\n",
    "for key, grp in roc_df.groupby(['Model']):\n",
    "    plt.plot(grp['FPR'], grp['Sensitivity'], label = key + ' (C = %0.2f)' % grp['C'].mean())\n",
    "plt.plot([0,1], [0,1], 'k--')\n",
    "plt.xlabel('False Postivie Rate')\n",
    "plt.ylabel('True Positive Rate')\n",
    "plt.legend(loc='lower right')\n",
    "plt.title('ROC Curve (using validation data)');"
   ]
  },
  {
   "cell_type": "markdown",
   "metadata": {},
   "source": [
    "## Compare Scikit-Learn Gradient Boosting - Python"
   ]
  },
  {
   "cell_type": "code",
   "execution_count": 19,
   "metadata": {
    "collapsed": false
   },
   "outputs": [
    {
     "name": "stdout",
     "output_type": "stream",
     "text": [
      "Confusion Matrix\n",
      " [[1379   43]\n",
      " [ 145  221]] \n",
      "\n",
      "Misclassification Rate\n",
      "  0.10514541387\n"
     ]
    }
   ],
   "source": [
    "# Bring specified columns to the client (note: Python models must be run locally)\n",
    "local_inputs = [target, '_PartInd_'] + imp_all_inputs\n",
    "local = castbl[local_inputs].to_frame()\n",
    "\n",
    "# Create dummy variables for class inputs (note: scikit-learn cannot have character variables)\n",
    "local = pd.concat([local, pd.get_dummies(local[imp_class_inputs])], axis = 1).drop(imp_class_inputs, axis = 1)\n",
    "\n",
    "# Split into training and validation\n",
    "train = local[local['_PartInd_'] == 1]\n",
    "valid = local[local['_PartInd_'] == 0]\n",
    "\n",
    "# Split target and inputs and remove unnecessary variables (note: scikit-learn Gradient Boosting can't handle missing values)\n",
    "X_train = train.drop(target, axis = 1)\n",
    "X_valid = valid.drop(target, axis = 1)\n",
    "y_train = train[target]\n",
    "y_valid = valid[target]\n",
    "\n",
    "# Build scikit-learn gradient boosting model using default values\n",
    "from sklearn.ensemble import GradientBoostingClassifier\n",
    "from sklearn.metrics  import confusion_matrix, accuracy_score\n",
    "gb = GradientBoostingClassifier()\n",
    "gb.fit(X_train, y_train)\n",
    "df = pd.DataFrame(dict(actual = y_valid, pred = gb.predict_proba(X_valid)[:,1])) # put results in pandas dataframe\n",
    "\n",
    "# Predict and assess model\n",
    "gb_y_score           = gb.predict(X_valid)\n",
    "gb_misclassification = 1 - accuracy_score(y_valid, gb_y_score)\n",
    "gb_confusion_matrix  = confusion_matrix(y_valid, gb_y_score)\n",
    "\n",
    "print('Confusion Matrix\\n', gb_confusion_matrix, '\\n') # note: scikit-learn reverses True Positives and True Negatives\n",
    "print('Misclassification Rate\\n ', gb_misclassification)"
   ]
  },
  {
   "cell_type": "markdown",
   "metadata": {},
   "source": [
    "## Add Python model results to CAS to assess - CAS/Python"
   ]
  },
  {
   "cell_type": "code",
   "execution_count": 20,
   "metadata": {
    "collapsed": false
   },
   "outputs": [
    {
     "data": {
      "text/html": [
       "<div class=\"cas-results-key\"><b>&#167; Fetch</b></div>\n",
       "<div class=\"cas-results-body\">\n",
       "<div>\n",
       "<table border=\"1\" class=\"dataframe\"><caption>Selected Rows from Table PYTHON</caption>\n",
       "  <thead>\n",
       "    <tr style=\"text-align: right;\">\n",
       "      <th title=\"\"></th>\n",
       "      <th title=\"actual\">actual</th>\n",
       "      <th title=\"pred\">pred</th>\n",
       "    </tr>\n",
       "  </thead>\n",
       "  <tbody>\n",
       "    <tr>\n",
       "      <th>0</th>\n",
       "      <td>1.0</td>\n",
       "      <td>0.897448</td>\n",
       "    </tr>\n",
       "    <tr>\n",
       "      <th>1</th>\n",
       "      <td>1.0</td>\n",
       "      <td>0.862536</td>\n",
       "    </tr>\n",
       "    <tr>\n",
       "      <th>2</th>\n",
       "      <td>1.0</td>\n",
       "      <td>0.751502</td>\n",
       "    </tr>\n",
       "    <tr>\n",
       "      <th>3</th>\n",
       "      <td>1.0</td>\n",
       "      <td>0.704959</td>\n",
       "    </tr>\n",
       "    <tr>\n",
       "      <th>4</th>\n",
       "      <td>1.0</td>\n",
       "      <td>0.933171</td>\n",
       "    </tr>\n",
       "  </tbody>\n",
       "</table>\n",
       "</div>\n",
       "</div>\n",
       "<div class=\"cas-output-area\"></div>\n",
       "<p class=\"cas-results-performance\"><small><span class=\"cas-elapsed\">elapsed 0.0159s</span> &#183; <span class=\"cas-user\">user 0.01s</span> &#183; <span class=\"cas-sys\">sys 0.014s</span> &#183; <span class=\"cas-memory\">mem 2.18MB</span></small></p>"
      ],
      "text/plain": [
       "[Fetch]\n",
       "\n",
       " Selected Rows from Table PYTHON\n",
       " \n",
       "    actual      pred\n",
       " 0     1.0  0.897448\n",
       " 1     1.0  0.862536\n",
       " 2     1.0  0.751502\n",
       " 3     1.0  0.704959\n",
       " 4     1.0  0.933171\n",
       "\n",
       "+ Elapsed: 0.0159s, user: 0.01s, sys: 0.014s, mem: 2.18mb"
      ]
     },
     "execution_count": 20,
     "metadata": {},
     "output_type": "execute_result"
    }
   ],
   "source": [
    "pytbl = s.upload_frame(df, casout=dict(name='Python', replace=True))\n",
    "\n",
    "# Verify that the Python actuals vs. predicted are in CAS\n",
    "pytbl.fetch(to = 5)"
   ]
  },
  {
   "cell_type": "markdown",
   "metadata": {
    "slideshow": {
     "slide_type": "slide"
    }
   },
   "source": [
    "## Compare Misclassification & ROC Curves - CAS/Python"
   ]
  },
  {
   "cell_type": "code",
   "execution_count": 21,
   "metadata": {
    "collapsed": false
   },
   "outputs": [
    {
     "name": "stdout",
     "output_type": "stream",
     "text": [
      "\n",
      "   Misclassification Rate Comparison  \n"
     ]
    },
    {
     "data": {
      "text/html": [
       "<div>\n",
       "<table border=\"1\" class=\"dataframe\">\n",
       "  <thead>\n",
       "    <tr style=\"text-align: right;\">\n",
       "      <th title=\"\"></th>\n",
       "      <th title=\"Model\">Model</th>\n",
       "      <th title=\"Misclassification\">Misclassification</th>\n",
       "    </tr>\n",
       "  </thead>\n",
       "  <tbody>\n",
       "    <tr>\n",
       "      <th>0</th>\n",
       "      <td>Gradient Boosting - CAS</td>\n",
       "      <td>0.100671</td>\n",
       "    </tr>\n",
       "    <tr>\n",
       "      <th>1</th>\n",
       "      <td>Gradient Boosting - Python</td>\n",
       "      <td>0.105145</td>\n",
       "    </tr>\n",
       "  </tbody>\n",
       "</table>\n",
       "</div>"
      ],
      "text/plain": [
       "                        Model  Misclassification\n",
       "0     Gradient Boosting - CAS           0.100671\n",
       "1  Gradient Boosting - Python           0.105145"
      ]
     },
     "execution_count": 21,
     "metadata": {},
     "output_type": "execute_result"
    }
   ],
   "source": [
    "# Assess the Python model using CAS\n",
    "python_assess = pytbl.percentile.assess(\n",
    "    inputs   = 'pred',      \n",
    "    response = 'actual',\n",
    "    event    = '1',   \n",
    ")\n",
    "python_assess.ROCInfo['Model'] = 'Gradient Boosting - Python'\n",
    "roc_df['Model'] = roc_df['Model'] + ' - CAS'\n",
    "roc_df = pd.concat([roc_df.query('Model == \"Gradient Boosting - CAS\"'), python_assess.ROCInfo])\n",
    "roc_df['Misclassification'] = 1 - roc_df['ACC']\n",
    "\n",
    "print('\\n', 'Misclassification Rate Comparison'.center(37, ' '))\n",
    "miss = roc_df[round(roc_df['CutOff'], 2) == 0.5][['Model', 'Misclassification']].reset_index(drop = True)\n",
    "miss.sort_values('Misclassification')"
   ]
  },
  {
   "cell_type": "markdown",
   "metadata": {},
   "source": [
    "# Save the CAS Gradient Boosting Model"
   ]
  },
  {
   "cell_type": "code",
   "execution_count": 22,
   "metadata": {
    "collapsed": false
   },
   "outputs": [],
   "source": [
    "# Generate the model code that can be leveraged by CAS in the future\n",
    "unload = s.table.save('gbt_model', name = 'gbt_model', replace = True)"
   ]
  },
  {
   "cell_type": "code",
   "execution_count": 23,
   "metadata": {
    "collapsed": false
   },
   "outputs": [
    {
     "data": {
      "text/html": [
       "<div class=\"cas-output-area\"></div>\n",
       "<p class=\"cas-results-performance\"><small><span class=\"cas-elapsed\">elapsed 0.00417s</span> &#183; <span class=\"cas-user\">user 0.001s</span> &#183; <span class=\"cas-sys\">sys 0.003s</span> &#183; <span class=\"cas-memory\">mem 0.113MB</span></small></p>"
      ],
      "text/plain": [
       "+ Elapsed: 0.00417s, user: 0.001s, sys: 0.003s, mem: 0.113mb"
      ]
     },
     "execution_count": 23,
     "metadata": {},
     "output_type": "execute_result"
    }
   ],
   "source": [
    "s.session.endsession() # end the session"
   ]
  }
 ],
 "metadata": {
  "anaconda-cloud": {},
  "kernelspec": {
   "display_name": "Python [Root]",
   "language": "python",
   "name": "Python [Root]"
  },
  "language_info": {
   "codemirror_mode": {
    "name": "ipython",
    "version": 3
   },
   "file_extension": ".py",
   "mimetype": "text/x-python",
   "name": "python",
   "nbconvert_exporter": "python",
   "pygments_lexer": "ipython3",
   "version": "3.5.2"
  },
  "nbpresent": {
   "slides": {
    "030bd4f0-cc10-4f7d-b57c-a9fabae235ea": {
     "id": "030bd4f0-cc10-4f7d-b57c-a9fabae235ea",
     "prev": "0a186647-1c1e-4155-baee-f6444fa594eb",
     "regions": {
      "90c1426b-39af-47ab-8690-1f9f8f82c895": {
       "attrs": {
        "height": 0.8,
        "width": 0.8,
        "x": 0.1,
        "y": 0.1
       },
       "content": {
        "cell": "23161e84-52d8-4f55-92cd-696b151c5b45",
        "part": "whole"
       },
       "id": "90c1426b-39af-47ab-8690-1f9f8f82c895"
      }
     }
    },
    "06f0ceb0-a5bf-4c4d-9d3d-06c30d31c2ed": {
     "id": "06f0ceb0-a5bf-4c4d-9d3d-06c30d31c2ed",
     "prev": "3941b7e7-7329-419f-ba1d-ae19a0a441df",
     "regions": {
      "98250a28-84df-47ae-b0e1-56df785edab4": {
       "attrs": {
        "height": 0.8,
        "width": 0.8,
        "x": 0.1,
        "y": 0.1
       },
       "content": {
        "cell": "e41c723f-4128-490f-a10e-041f3c4c1178",
        "part": "whole"
       },
       "id": "98250a28-84df-47ae-b0e1-56df785edab4"
      },
      "c94b85e4-7131-47a0-9a1c-f191bcb43c6c": {
       "attrs": {
        "height": 0.4,
        "width": 0.8,
        "x": 0.1,
        "y": 0.5
       },
       "content": {
        "cell": "7e7f00e3-94ff-45eb-8010-e850782378f7",
        "part": "whole"
       },
       "id": "c94b85e4-7131-47a0-9a1c-f191bcb43c6c"
      }
     }
    },
    "0a186647-1c1e-4155-baee-f6444fa594eb": {
     "id": "0a186647-1c1e-4155-baee-f6444fa594eb",
     "prev": "1569c5c1-f125-49e0-b130-2da7206af93c",
     "regions": {
      "56d8a7ae-3206-4d1a-a8d3-ded42fb4cf55": {
       "attrs": {
        "height": 0.8,
        "width": 0.8,
        "x": 0.1,
        "y": 0.1
       },
       "content": null,
       "id": "56d8a7ae-3206-4d1a-a8d3-ded42fb4cf55"
      }
     }
    },
    "1569c5c1-f125-49e0-b130-2da7206af93c": {
     "id": "1569c5c1-f125-49e0-b130-2da7206af93c",
     "prev": null,
     "regions": {
      "d147245f-45ce-455f-a865-9a89d442236c": {
       "attrs": {
        "height": 0.8,
        "width": 0.8,
        "x": 0.1,
        "y": 0.1
       },
       "content": {
        "cell": "443b3b11-c92f-4c66-8731-8044813742c0",
        "part": "whole"
       },
       "id": "d147245f-45ce-455f-a865-9a89d442236c"
      }
     }
    },
    "193db271-de91-429f-b9ef-660acf5e3503": {
     "id": "193db271-de91-429f-b9ef-660acf5e3503",
     "prev": "e0bab9f9-020a-40a7-9536-c62d4a8fa315",
     "regions": {
      "094880cf-2d01-4c35-a028-e209d5e4590a": {
       "attrs": {
        "height": 0.4,
        "width": 0.8,
        "x": 0.1,
        "y": 0.5
       },
       "content": {
        "cell": "1fdacafc-5783-44c3-ad7f-4752633ae23b",
        "part": "whole"
       },
       "id": "094880cf-2d01-4c35-a028-e209d5e4590a"
      },
      "299de44e-15ce-4814-b439-72eb4401ac06": {
       "attrs": {
        "height": 0.8,
        "width": 0.8,
        "x": 0.1,
        "y": 0.1
       },
       "content": {
        "cell": "01cd068f-7c36-430c-9ea3-35d5e8a9cde7",
        "part": "whole"
       },
       "id": "299de44e-15ce-4814-b439-72eb4401ac06"
      }
     }
    },
    "3941b7e7-7329-419f-ba1d-ae19a0a441df": {
     "id": "3941b7e7-7329-419f-ba1d-ae19a0a441df",
     "prev": "e0e60236-1984-4d0d-b2c8-106c894bd86e",
     "regions": {
      "06ed1f87-7f84-427a-8bd7-cce8e07e459e": {
       "attrs": {
        "height": 0.4,
        "width": 0.8,
        "x": 0.1,
        "y": 0.5
       },
       "content": {
        "cell": "d6d741fd-13e0-479d-b9fa-d66e45004266",
        "part": "whole"
       },
       "id": "06ed1f87-7f84-427a-8bd7-cce8e07e459e"
      },
      "906ce82b-6448-4ff8-b6dc-20ad46b5634f": {
       "attrs": {
        "height": 0.8,
        "width": 0.8,
        "x": 0.1,
        "y": 0.1
       },
       "content": {
        "cell": "9a07405c-9de4-4f27-942e-8184d4db7f64",
        "part": "whole"
       },
       "id": "906ce82b-6448-4ff8-b6dc-20ad46b5634f"
      },
      "b888d4ea-e583-4e60-8f09-c4e4f0e1e08a": {
       "attrs": {
        "height": 0.4,
        "width": 0.8,
        "x": 0.1,
        "y": 0.5
       },
       "content": {
        "cell": "a1d73e11-1c9e-4655-9210-b9024f5c58d4",
        "part": "whole"
       },
       "id": "b888d4ea-e583-4e60-8f09-c4e4f0e1e08a"
      }
     }
    },
    "57dd84fc-cd21-494e-b068-5c600f2d2456": {
     "id": "57dd84fc-cd21-494e-b068-5c600f2d2456",
     "prev": "652e4030-84b6-415b-a48e-cc6144f3771d",
     "regions": {
      "798ec311-bc2c-4fe5-9353-ff0aa2c80f98": {
       "attrs": {
        "height": 0.4,
        "width": 0.8,
        "x": 0.1,
        "y": 0.5
       },
       "content": {
        "cell": "cf155931-7c71-49da-abc5-9a4db77bec4a",
        "part": "whole"
       },
       "id": "798ec311-bc2c-4fe5-9353-ff0aa2c80f98"
      },
      "94b2646d-db70-4c06-9bda-f992e691ec39": {
       "attrs": {
        "height": 0.8,
        "width": 0.8,
        "x": 0.1,
        "y": 0.1
       },
       "content": {
        "cell": "fdc4e4b3-a0d2-4daa-9275-05bda7f54f4f",
        "part": "whole"
       },
       "id": "94b2646d-db70-4c06-9bda-f992e691ec39"
      }
     }
    },
    "652e4030-84b6-415b-a48e-cc6144f3771d": {
     "id": "652e4030-84b6-415b-a48e-cc6144f3771d",
     "prev": "a9ac6c5f-446c-4380-b530-677808ca4ca2",
     "regions": {
      "1dbd495a-9f45-42fa-8ae4-70a9a0618e90": {
       "attrs": {
        "height": 0.8,
        "width": 0.8,
        "x": 0.1,
        "y": 0.1
       },
       "content": {
        "cell": "0ec3114b-8ac6-402b-bb7c-04a3449b1fdb",
        "part": "whole"
       },
       "id": "1dbd495a-9f45-42fa-8ae4-70a9a0618e90"
      },
      "f28a0d9c-55bf-4b0f-bc03-2bf84b64323f": {
       "attrs": {
        "height": 0.4,
        "width": 0.8,
        "x": 0.1,
        "y": 0.5
       },
       "content": {
        "cell": "2191d3a8-741c-4064-868b-47aa3fe4b929",
        "part": "whole"
       },
       "id": "f28a0d9c-55bf-4b0f-bc03-2bf84b64323f"
      },
      "fc5d8310-05cf-478b-bb4e-bdcdce7b67cf": {
       "attrs": {
        "height": 0.4,
        "width": 0.8,
        "x": 0.1,
        "y": 0.5
       },
       "content": {
        "cell": "889d11ae-9c41-48d6-a64a-bdc569efdc8c",
        "part": "whole"
       },
       "id": "fc5d8310-05cf-478b-bb4e-bdcdce7b67cf"
      }
     }
    },
    "787db817-0ae7-4a99-9ac4-1c66978c4385": {
     "id": "787db817-0ae7-4a99-9ac4-1c66978c4385",
     "prev": "193db271-de91-429f-b9ef-660acf5e3503",
     "regions": {
      "ac2f4765-43f4-465d-be19-6286c2e0edfa": {
       "attrs": {
        "height": 0.4,
        "width": 0.8,
        "x": 0.1,
        "y": 0.5
       },
       "content": {
        "cell": "21bb57d1-0d13-49ae-8d41-37dd5883e9dd",
        "part": "whole"
       },
       "id": "ac2f4765-43f4-465d-be19-6286c2e0edfa"
      },
      "df81957e-bdd6-41bf-ba63-8d4ad8b17f28": {
       "attrs": {
        "height": 0.8,
        "width": 0.8,
        "x": 0.1,
        "y": 0.1
       },
       "content": {
        "cell": "4a9c06c6-461f-46d9-ac1d-019ba1d779ad",
        "part": "whole"
       },
       "id": "df81957e-bdd6-41bf-ba63-8d4ad8b17f28"
      }
     }
    },
    "903077e7-efe7-4c84-bca4-69d064f829ae": {
     "id": "903077e7-efe7-4c84-bca4-69d064f829ae",
     "prev": "9dade49e-03e5-4433-afcd-5cd51ff4caa0",
     "regions": {
      "1a648e78-1b52-4c91-b501-5ff4a42e3363": {
       "attrs": {
        "height": 0.8,
        "width": 0.8,
        "x": 0.1,
        "y": 0.1
       },
       "content": {
        "cell": "830de82c-9ad0-4d32-b0cb-2e9d6197ef00",
        "part": "whole"
       },
       "id": "1a648e78-1b52-4c91-b501-5ff4a42e3363"
      },
      "387a96e6-1771-4214-bf91-04e7e2fc43a0": {
       "attrs": {
        "height": 0.4,
        "width": 0.8,
        "x": 0.1,
        "y": 0.5
       },
       "content": {
        "cell": "4fc057e8-737a-4209-8f5d-0b9f1c2847c5",
        "part": "whole"
       },
       "id": "387a96e6-1771-4214-bf91-04e7e2fc43a0"
      }
     }
    },
    "9dade49e-03e5-4433-afcd-5cd51ff4caa0": {
     "id": "9dade49e-03e5-4433-afcd-5cd51ff4caa0",
     "prev": "787db817-0ae7-4a99-9ac4-1c66978c4385",
     "regions": {
      "907b005e-b91e-4d6f-8b59-9a0900b1a7db": {
       "attrs": {
        "height": 0.8,
        "width": 0.8,
        "x": 0.1,
        "y": 0.1
       },
       "content": {
        "cell": "4efa5030-de17-49ce-ab52-d74ead65b25e",
        "part": "whole"
       },
       "id": "907b005e-b91e-4d6f-8b59-9a0900b1a7db"
      },
      "fa512459-b7b8-4c5e-94b5-5412a32f0b3d": {
       "attrs": {
        "height": 0.4,
        "width": 0.8,
        "x": 0.1,
        "y": 0.5
       },
       "content": {
        "cell": "96123696-1a29-4a94-ae88-987c80634701",
        "part": "whole"
       },
       "id": "fa512459-b7b8-4c5e-94b5-5412a32f0b3d"
      }
     }
    },
    "a9ac6c5f-446c-4380-b530-677808ca4ca2": {
     "id": "a9ac6c5f-446c-4380-b530-677808ca4ca2",
     "prev": "903077e7-efe7-4c84-bca4-69d064f829ae",
     "regions": {
      "58ee868b-7a07-4b4d-aade-7aa5b0a51a19": {
       "attrs": {
        "height": 0.4,
        "width": 0.8,
        "x": 0.1,
        "y": 0.5
       },
       "content": {
        "cell": "18aa0394-3bfb-4fad-8b91-fc0fef852a2b",
        "part": "whole"
       },
       "id": "58ee868b-7a07-4b4d-aade-7aa5b0a51a19"
      },
      "e9942074-1132-4794-ba92-d8fef2dd5d45": {
       "attrs": {
        "height": 0.8,
        "width": 0.8,
        "x": 0.1,
        "y": 0.1
       },
       "content": {
        "cell": "527898bc-6c07-43a3-81cf-6a5dceb4cd91",
        "part": "whole"
       },
       "id": "e9942074-1132-4794-ba92-d8fef2dd5d45"
      }
     }
    },
    "e0bab9f9-020a-40a7-9536-c62d4a8fa315": {
     "id": "e0bab9f9-020a-40a7-9536-c62d4a8fa315",
     "prev": "f6dc6d41-3400-4cd7-829f-0c6f43968cd9",
     "regions": {
      "4058fd19-1d57-4e91-bdb7-619a31136564": {
       "attrs": {
        "height": 0.4,
        "width": 0.8,
        "x": 0.1,
        "y": 0.5
       },
       "content": {
        "cell": "f613ed8e-de90-4ada-ac8f-76cd75385bfd",
        "part": "whole"
       },
       "id": "4058fd19-1d57-4e91-bdb7-619a31136564"
      },
      "5312a1ca-524c-49ee-b4a6-eb700d405787": {
       "attrs": {
        "height": 0.8,
        "width": 0.8,
        "x": 0.1,
        "y": 0.1
       },
       "content": {
        "cell": "78b70fb9-46bd-4463-a8b3-15d637867705",
        "part": "whole"
       },
       "id": "5312a1ca-524c-49ee-b4a6-eb700d405787"
      }
     }
    },
    "e0e60236-1984-4d0d-b2c8-106c894bd86e": {
     "id": "e0e60236-1984-4d0d-b2c8-106c894bd86e",
     "prev": "030bd4f0-cc10-4f7d-b57c-a9fabae235ea",
     "regions": {
      "2954c09d-da88-45a6-9828-fc1e177f443a": {
       "attrs": {
        "height": 0.4,
        "width": 0.8,
        "x": 0.1,
        "y": 0.5
       },
       "content": {
        "cell": "9a66be0a-4683-4a63-a1da-256ba46f660c",
        "part": "whole"
       },
       "id": "2954c09d-da88-45a6-9828-fc1e177f443a"
      },
      "c93f21b5-b294-41f0-a9d0-d1f2833e6a94": {
       "attrs": {
        "height": 0.8,
        "width": 0.8,
        "x": 0.1,
        "y": 0.1
       },
       "content": {
        "cell": "61da6a05-dd61-4116-ab51-3f73824e5b14",
        "part": "whole"
       },
       "id": "c93f21b5-b294-41f0-a9d0-d1f2833e6a94"
      }
     }
    },
    "e1c65956-3295-46c7-b73a-b98e031d5be5": {
     "id": "e1c65956-3295-46c7-b73a-b98e031d5be5",
     "prev": "f94a88b7-9c35-47d5-b3e1-39333e6694c5",
     "regions": {
      "231e5ef0-6c11-45ad-abb7-0b964bdbcf36": {
       "attrs": {
        "height": 0.4,
        "width": 0.8,
        "x": 0.1,
        "y": 0.5
       },
       "content": {
        "cell": "bc835812-e0b8-460a-85f2-080e6388c67e",
        "part": "whole"
       },
       "id": "231e5ef0-6c11-45ad-abb7-0b964bdbcf36"
      },
      "b57edf07-b355-44c7-8d9c-a57fda916faf": {
       "attrs": {
        "height": 0.8,
        "width": 0.8,
        "x": 0.1,
        "y": 0.1
       },
       "content": {
        "cell": "77b5d276-db06-46b7-97dd-d8597628a23a",
        "part": "whole"
       },
       "id": "b57edf07-b355-44c7-8d9c-a57fda916faf"
      },
      "f96d1276-f6a4-410e-b836-e23c1b172624": {
       "attrs": {
        "height": 0.4,
        "width": 0.8,
        "x": 0.1,
        "y": 0.5
       },
       "content": {
        "cell": "0340640e-4d98-47cc-9cfd-2f5ab988db67",
        "part": "whole"
       },
       "id": "f96d1276-f6a4-410e-b836-e23c1b172624"
      }
     }
    },
    "f6dc6d41-3400-4cd7-829f-0c6f43968cd9": {
     "id": "f6dc6d41-3400-4cd7-829f-0c6f43968cd9",
     "prev": "06f0ceb0-a5bf-4c4d-9d3d-06c30d31c2ed",
     "regions": {
      "3e3aea15-7e5c-4ea4-8708-4698289edbe6": {
       "attrs": {
        "height": 0.8,
        "width": 0.8,
        "x": 0.1,
        "y": 0.1
       },
       "content": {
        "cell": "d1698087-708a-4540-aae1-6a4c2e243bfb",
        "part": "whole"
       },
       "id": "3e3aea15-7e5c-4ea4-8708-4698289edbe6"
      },
      "df3c2143-7cf3-4966-ad56-27131cbf6716": {
       "attrs": {
        "height": 0.4,
        "width": 0.8,
        "x": 0.1,
        "y": 0.5
       },
       "content": {
        "cell": "61905f8f-3774-442f-a2f4-26cfe604c899",
        "part": "whole"
       },
       "id": "df3c2143-7cf3-4966-ad56-27131cbf6716"
      }
     }
    },
    "f94a88b7-9c35-47d5-b3e1-39333e6694c5": {
     "id": "f94a88b7-9c35-47d5-b3e1-39333e6694c5",
     "prev": "57dd84fc-cd21-494e-b068-5c600f2d2456",
     "regions": {
      "63ef95b4-3a85-4a21-947a-bfc0aadbd6c4": {
       "attrs": {
        "height": 0.8,
        "width": 0.8,
        "x": 0.1,
        "y": 0.1
       },
       "content": {
        "cell": "35e39587-6272-4ebb-8339-c1fd75a44b39",
        "part": "whole"
       },
       "id": "63ef95b4-3a85-4a21-947a-bfc0aadbd6c4"
      },
      "9c5ee4da-3e04-4a30-b82a-7528d1bf6c47": {
       "attrs": {
        "height": 0.4,
        "width": 0.8,
        "x": 0.1,
        "y": 0.5
       },
       "content": {
        "cell": "fd13b97f-8eaf-4bc5-885b-b04e1b03aebe",
        "part": "whole"
       },
       "id": "9c5ee4da-3e04-4a30-b82a-7528d1bf6c47"
      }
     }
    }
   },
   "themes": {
    "default": "8e4ddc42-183e-4ba2-b60f-6dc5ce186ba8",
    "theme": {}
   }
  }
 },
 "nbformat": 4,
 "nbformat_minor": 0
}
