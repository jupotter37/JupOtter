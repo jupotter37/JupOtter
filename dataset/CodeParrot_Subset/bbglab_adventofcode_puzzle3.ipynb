{
 "cells": [
  {
   "cell_type": "code",
   "execution_count": 1,
   "id": "5080579b",
   "metadata": {},
   "outputs": [],
   "source": [
    "with open(\"i3.txt\", 'r') as f:\n",
    "    ii = f.read().splitlines()"
   ]
  },
  {
   "cell_type": "markdown",
   "id": "d8f344a3",
   "metadata": {},
   "source": [
    "### part 1"
   ]
  },
  {
   "cell_type": "markdown",
   "id": "d513e581",
   "metadata": {},
   "source": [
    "#### compute functions"
   ]
  },
  {
   "cell_type": "code",
   "execution_count": 2,
   "id": "d72fcb99",
   "metadata": {},
   "outputs": [],
   "source": [
    "def get_pos_mn( ii, k ):\n",
    "    return [sum([int(j[k]) for j in ii])/len(ii)]\n",
    "def get_most_common( ii ):\n",
    "    return [round(sum([int(j[k]) for j in ii])/len(ii)) for k in range(len(ii[0]))]\n",
    "def get_least_common( ii ):\n",
    "    return [abs(round(sum([int(j[k]) for j in ii])/len(ii)-1)) for k in range(len(ii[0]))]\n",
    "def get_gamma(ii):\n",
    "    most_common = get_most_common( ii )\n",
    "    return \"\".join([str(i) for i in most_common])\n",
    "def get_eps(ii):\n",
    "    least_common = get_least_common( ii )\n",
    "    return \"\".join([str(i) for i in least_common])"
   ]
  },
  {
   "cell_type": "markdown",
   "id": "3064c9af",
   "metadata": {},
   "source": [
    "#### solve"
   ]
  },
  {
   "cell_type": "code",
   "execution_count": 3,
   "id": "c3140d28",
   "metadata": {},
   "outputs": [
    {
     "data": {
      "text/plain": [
       "3374136"
      ]
     },
     "execution_count": 3,
     "metadata": {},
     "output_type": "execute_result"
    }
   ],
   "source": [
    "gamma_bin = get_gamma(ii) \n",
    "eps_bin = get_eps(ii)\n",
    "int(gamma_bin, 2)*int(eps_bin, 2)"
   ]
  },
  {
   "cell_type": "markdown",
   "id": "4701cac6",
   "metadata": {},
   "source": [
    "### part 2"
   ]
  },
  {
   "cell_type": "code",
   "execution_count": 4,
   "id": "3b08296b",
   "metadata": {},
   "outputs": [],
   "source": [
    "def get_common_pos( ll, pos ):\n",
    "    mn = sum([int(j[pos]) for j in ll])/len(ll)\n",
    "    if mn >= .5:\n",
    "        return 1\n",
    "    else:\n",
    "        return 0\n",
    "    \n",
    "def list_filter( ll, pos, common):\n",
    "    return [ i for i in ll if i[pos] == str(common) ]\n",
    "\n",
    "def get_oxygen( ll ):\n",
    "    pos = 0\n",
    "    while(len(ll) > 1):\n",
    "        ll = list_filter(ll, pos, get_common_pos(ll,pos) )\n",
    "        pos += 1\n",
    "    return ll[0]\n",
    "\n",
    "def get_co2(ll):\n",
    "    pos = 0\n",
    "    while(len(ll) > 1):\n",
    "        ll = list_filter(ll, pos, 1-get_common_pos(ll,pos))\n",
    "        pos += 1\n",
    "    return ll[0] "
   ]
  },
  {
   "cell_type": "markdown",
   "id": "57dcf71b",
   "metadata": {},
   "source": [
    "#### compute"
   ]
  },
  {
   "cell_type": "code",
   "execution_count": 5,
   "id": "a4e329f1",
   "metadata": {},
   "outputs": [
    {
     "data": {
      "text/plain": [
       "4432698"
      ]
     },
     "execution_count": 5,
     "metadata": {},
     "output_type": "execute_result"
    }
   ],
   "source": [
    "o2 = get_oxygen( ii )\n",
    "co2 = get_co2(ii)\n",
    "int(o2, 2)*int(co2, 2)"
   ]
  }
 ],
 "metadata": {
  "kernelspec": {
   "display_name": "Python 3 (ipykernel)",
   "language": "python",
   "name": "python3"
  },
  "language_info": {
   "codemirror_mode": {
    "name": "ipython",
    "version": 3
   },
   "file_extension": ".py",
   "mimetype": "text/x-python",
   "name": "python",
   "nbconvert_exporter": "python",
   "pygments_lexer": "ipython3",
   "version": "3.9.7"
  }
 },
 "nbformat": 4,
 "nbformat_minor": 5
}
