{
 "cells": [
  {
   "cell_type": "code",
   "execution_count": 1,
   "metadata": {
    "collapsed": true
   },
   "outputs": [],
   "source": [
    "import tensorflow as tf"
   ]
  },
  {
   "cell_type": "code",
   "execution_count": 3,
   "metadata": {},
   "outputs": [
    {
     "data": {
      "text/plain": [
       "<module 'tensorflow' from '/usr/local/lib/python3.6/site-packages/tensorflow/__init__.py'>"
      ]
     },
     "execution_count": 3,
     "metadata": {},
     "output_type": "execute_result"
    }
   ],
   "source": [
    "tf"
   ]
  },
  {
   "cell_type": "code",
   "execution_count": 4,
   "metadata": {},
   "outputs": [
    {
     "name": "stdout",
     "output_type": "stream",
     "text": [
      "Tensor(\"Const:0\", shape=(), dtype=float32) Tensor(\"Const_1:0\", shape=(), dtype=float32)\n"
     ]
    }
   ],
   "source": [
    "input1 = tf.constant(2.0)\n",
    "input2 = tf.constant(5.0)\n",
    "\n",
    "print(input1, input2)"
   ]
  },
  {
   "cell_type": "code",
   "execution_count": 5,
   "metadata": {
    "collapsed": true
   },
   "outputs": [],
   "source": [
    "sess = tf.Session()"
   ]
  },
  {
   "cell_type": "code",
   "execution_count": 6,
   "metadata": {},
   "outputs": [
    {
     "name": "stdout",
     "output_type": "stream",
     "text": [
      "[2.0, 5.0]\n"
     ]
    }
   ],
   "source": [
    "print(sess.run([input1, input2]))"
   ]
  },
  {
   "cell_type": "code",
   "execution_count": 11,
   "metadata": {
    "collapsed": true
   },
   "outputs": [],
   "source": [
    "# Geez, maybe should have been called 'sum' instead of 'add'?\n",
    "add_node = tf.add(input1, input2)"
   ]
  },
  {
   "cell_type": "code",
   "execution_count": 13,
   "metadata": {},
   "outputs": [
    {
     "name": "stdout",
     "output_type": "stream",
     "text": [
      "Tensor(\"Add_2:0\", shape=(), dtype=float32)\n",
      "7.0\n"
     ]
    }
   ],
   "source": [
    "print(add_node)\n",
    "print(sess.run(add_node))"
   ]
  },
  {
   "cell_type": "code",
   "execution_count": 14,
   "metadata": {
    "collapsed": true
   },
   "outputs": [],
   "source": [
    "p1 = tf.placeholder(tf.float32)\n",
    "p2 = tf.placeholder(tf.float32)"
   ]
  },
  {
   "cell_type": "code",
   "execution_count": 15,
   "metadata": {},
   "outputs": [
    {
     "name": "stdout",
     "output_type": "stream",
     "text": [
      "Tensor(\"Placeholder:0\", dtype=float32) Tensor(\"Placeholder_1:0\", dtype=float32)\n"
     ]
    }
   ],
   "source": [
    "print(p1, p2)"
   ]
  },
  {
   "cell_type": "code",
   "execution_count": 18,
   "metadata": {},
   "outputs": [
    {
     "name": "stdout",
     "output_type": "stream",
     "text": [
      "Tensor(\"add_2:0\", dtype=float32)\n"
     ]
    }
   ],
   "source": [
    "add_ph = p1 + p2 # Apparently equivalent to tf.add(p1, p2).\n",
    "print(add_ph)"
   ]
  },
  {
   "cell_type": "code",
   "execution_count": 19,
   "metadata": {},
   "outputs": [
    {
     "name": "stdout",
     "output_type": "stream",
     "text": [
      "7.0\n",
      "4.7\n",
      "[ 6. 10.]\n"
     ]
    }
   ],
   "source": [
    "print(sess.run(add_ph, feed_dict={p1: 2, p2: 5}))\n",
    "print(sess.run(add_ph, {p1: 1.2, p2: 3.5}))\n",
    "print(sess.run(add_ph, {p1: [1, 2], p2: [5, 8]}))"
   ]
  },
  {
   "cell_type": "code",
   "execution_count": 20,
   "metadata": {
    "collapsed": true
   },
   "outputs": [],
   "source": [
    "x = tf.placeholder(tf.float32)\n",
    "y = tf.placeholder(tf.float32)"
   ]
  },
  {
   "cell_type": "code",
   "execution_count": 21,
   "metadata": {
    "collapsed": true
   },
   "outputs": [],
   "source": [
    "a = tf.Variable([1], dtype=tf.float32)\n",
    "b = tf.Variable([-2], dtype=tf.float32)"
   ]
  },
  {
   "cell_type": "code",
   "execution_count": 23,
   "metadata": {},
   "outputs": [
    {
     "name": "stdout",
     "output_type": "stream",
     "text": [
      "<tf.Variable 'Variable:0' shape=(1,) dtype=float32_ref> <tf.Variable 'Variable_1:0' shape=(1,) dtype=float32_ref>\n"
     ]
    }
   ],
   "source": [
    "print(a, b)"
   ]
  },
  {
   "cell_type": "code",
   "execution_count": 24,
   "metadata": {},
   "outputs": [
    {
     "name": "stdout",
     "output_type": "stream",
     "text": [
      "Tensor(\"add_4:0\", dtype=float32)\n"
     ]
    }
   ],
   "source": [
    "linear_model = a*x + b\n",
    "print(linear_model)"
   ]
  },
  {
   "cell_type": "code",
   "execution_count": 25,
   "metadata": {},
   "outputs": [
    {
     "name": "stdout",
     "output_type": "stream",
     "text": [
      "name: \"init\"\n",
      "op: \"NoOp\"\n",
      "input: \"^Variable/Assign\"\n",
      "input: \"^Variable_1/Assign\"\n",
      "\n",
      "None\n"
     ]
    }
   ],
   "source": [
    "init = tf.global_variables_initializer()\n",
    "print(init)\n",
    "print(sess.run(init))"
   ]
  },
  {
   "cell_type": "code",
   "execution_count": 26,
   "metadata": {},
   "outputs": [
    {
     "name": "stdout",
     "output_type": "stream",
     "text": [
      "[-2. -1.  0.  1.  2.  3.]\n"
     ]
    }
   ],
   "source": [
    "print(sess.run(linear_model, {x: [0,1,2,3,4,5]}))"
   ]
  },
  {
   "cell_type": "code",
   "execution_count": 27,
   "metadata": {},
   "outputs": [
    {
     "name": "stdout",
     "output_type": "stream",
     "text": [
      "Tensor(\"Square:0\", dtype=float32)\n",
      "Tensor(\"Sum:0\", dtype=float32)\n"
     ]
    }
   ],
   "source": [
    "squared_deltas = tf.square(linear_model - y)\n",
    "print(squared_deltas)\n",
    "loss = tf.reduce_sum(squared_deltas)\n",
    "print(loss)"
   ]
  },
  {
   "cell_type": "code",
   "execution_count": 29,
   "metadata": {},
   "outputs": [
    {
     "name": "stdout",
     "output_type": "stream",
     "text": [
      "4.75\n"
     ]
    }
   ],
   "source": [
    "feed_dict = {\n",
    "    x: [0,1,2,3,4,5],\n",
    "    y: [-1,-0.5,0,0.5,1,1.5]\n",
    "}\n",
    "print(sess.run(loss, feed_dict))"
   ]
  },
  {
   "cell_type": "code",
   "execution_count": 34,
   "metadata": {},
   "outputs": [
    {
     "name": "stdout",
     "output_type": "stream",
     "text": [
      "Tensor(\"Assign_5:0\", shape=(1,), dtype=float32_ref)\n",
      "Tensor(\"Assign_6:0\", shape=(1,), dtype=float32_ref)\n",
      "[array([0.25], dtype=float32), array([0.], dtype=float32)]\n"
     ]
    }
   ],
   "source": [
    "assignA = tf.assign(a, [0.25])\n",
    "print(assignA)\n",
    "assignB = tf.assign(b, [0])\n",
    "print(assignB)\n",
    "print(sess.run([assignA, assignB]))"
   ]
  },
  {
   "cell_type": "code",
   "execution_count": 35,
   "metadata": {},
   "outputs": [
    {
     "name": "stdout",
     "output_type": "stream",
     "text": [
      "Tensor(\"Assign_7:0\", shape=(1,), dtype=float32_ref)\n",
      "Tensor(\"Assign_8:0\", shape=(1,), dtype=float32_ref)\n",
      "[array([0.5], dtype=float32), array([-1.], dtype=float32)]\n",
      "0.0\n"
     ]
    }
   ],
   "source": [
    "assignA = tf.assign(a, [0.5])\n",
    "print(assignA)\n",
    "assignB = tf.assign(b, [-1])\n",
    "print(assignB)\n",
    "print(sess.run([assignA, assignB]))\n",
    "print(sess.run(loss, feed_dict))"
   ]
  }
 ],
 "metadata": {
  "kernelspec": {
   "display_name": "Python 3",
   "language": "python",
   "name": "python3"
  },
  "language_info": {
   "codemirror_mode": {
    "name": "ipython",
    "version": 3
   },
   "file_extension": ".py",
   "mimetype": "text/x-python",
   "name": "python",
   "nbconvert_exporter": "python",
   "pygments_lexer": "ipython3",
   "version": "3.6.5"
  }
 },
 "nbformat": 4,
 "nbformat_minor": 2
}
