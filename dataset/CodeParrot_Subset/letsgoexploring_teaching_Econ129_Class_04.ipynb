{
 "cells": [
  {
   "cell_type": "markdown",
   "metadata": {},
   "source": [
    "# Class 4: matplotlib (and a quick Numpy example)\n",
    "\n",
    "Brief introduction to the matplotlib module.\n",
    "\n",
    "\n",
    "## Preliminary example: Economic growth\n",
    "\n",
    "A country with GDP in year $t-1$ denoted by $y_{t-1}$ and an annual GDP growth rate of $g$, will have GDP in year $t$ given by the *recursive* equation:\n",
    "\n",
    "\\begin{align}\n",
    "y_{t} & = (1+g)y_{t-1}\n",
    "\\end{align}\n",
    "\n",
    "Given an initial value of $y_0$, we can find $y_t$ for any given $t$ in one of two ways:\n",
    "1. By iterating on the equation\n",
    "2. Or by using substitution and deriving:\n",
    "    \\begin{align}\n",
    "    y_t & = (1+g)^t y_0\n",
    "    \\end{align}\n",
    "    \n",
    "In this example we'll do both."
   ]
  },
  {
   "cell_type": "markdown",
   "metadata": {},
   "source": [
    "#### Example: Economic growth\n",
    "\n",
    "A country with GDP in year $t-1$ denoted by $y_{t-1}$ and an annual GDP growth rate of $g$, will have GDP in year $t$ given by the *recursive* equation:\n",
    "\n",
    "\\begin{align}\n",
    "y_{t} & = (1+g)y_{t-1}\n",
    "\\end{align}\n",
    "\n",
    "Given an initial value of $y_0$, we can find $y_t$ for any given $t$ in one of two ways:\n",
    "1. By iterating on the equation\n",
    "2. Or by using substitution and deriving:\n",
    "    \\begin{align}\n",
    "    y_t & = (1+g)^t y_0\n",
    "    \\end{align}\n",
    "    \n",
    "In this example we'll do both."
   ]
  },
  {
   "cell_type": "code",
   "execution_count": null,
   "metadata": {
    "collapsed": true
   },
   "outputs": [],
   "source": [
    "# Define T and g\n",
    "T = 40\n",
    "y0 =50 \n",
    "g = 0\n",
    "\n",
    "# Compute yT using the direct approach and print\n",
    "\n",
    "\n",
    "# Initialize a 1-dimensional array called y that has T+1 zeros \n",
    "\n",
    "\n",
    "# Set the initial value of y to equal y0\n",
    "\n",
    "\n",
    "\n",
    "# Use a for loop to update the values of y one at a time\n",
    "\n",
    "\n",
    "\n",
    "# Print the final value in the array y\n"
   ]
  },
  {
   "cell_type": "markdown",
   "metadata": {},
   "source": [
    "## matplotlib\n",
    "\n",
    "matplotlib is a powerful plotting module that is part of Python's standard library. The website for matplotlib is at http://matplotlib.org/. And you can find a bunch of examples at the following two locations: http://matplotlib.org/examples/index.html and http://matplotlib.org/gallery.html.\n",
    "\n",
    "matplotlib contains a module called pyplot that was written to provide a Matlab-style ploting interface."
   ]
  },
  {
   "cell_type": "code",
   "execution_count": null,
   "metadata": {
    "collapsed": true
   },
   "outputs": [],
   "source": [
    "# Import matplotlib.pyplot\n"
   ]
  },
  {
   "cell_type": "markdown",
   "metadata": {},
   "source": [
    "Next, we want to make sure that the plots that we create are displayed in this notebook. To achieve this we have to issue a command to be interpretted by Jupyter -- called a *magic* command. A magic command is preceded by a `%` character. Magics are *not* Python and will create errs if used outside of the Jupyter notebook"
   ]
  },
  {
   "cell_type": "code",
   "execution_count": null,
   "metadata": {
    "collapsed": false
   },
   "outputs": [],
   "source": [
    "# Magic command for the Jupyter Notebook\n"
   ]
  },
  {
   "cell_type": "markdown",
   "metadata": {},
   "source": [
    "### A quick matplotlib example\n",
    "\n",
    "Create a plot of the sine function for x values between -6 and 6. Add axis labels and a title."
   ]
  },
  {
   "cell_type": "code",
   "execution_count": null,
   "metadata": {
    "collapsed": false
   },
   "outputs": [],
   "source": [
    "# Import numpy as np\n",
    "\n",
    "\n",
    "# Create an array of x values from -6 to 6\n",
    "\n",
    "\n",
    "# Create a variable y equal to the sin of x\n",
    "\n",
    "\n",
    "# Use the plot function to plot the \n",
    "\n",
    "\n",
    "# Add a title and axis labels\n"
   ]
  },
  {
   "cell_type": "markdown",
   "metadata": {},
   "source": [
    "### The `plot` function\n",
    "\n",
    "The `plot` function creates a two-dimensional plot of one variable against another. "
   ]
  },
  {
   "cell_type": "code",
   "execution_count": null,
   "metadata": {
    "collapsed": false,
    "scrolled": true
   },
   "outputs": [],
   "source": [
    "# Use the help function to see the documentation for plot\n"
   ]
  },
  {
   "cell_type": "markdown",
   "metadata": {},
   "source": [
    "#### Example\n",
    "\n",
    "Create a plot of $f(x) = x^2$ with $x$ between -2 and 2.\n",
    "* Set the linewidth to 3 points\n",
    "* Set the line transparency (alpha) to 0.6\n",
    "* Set axis labels and title\n",
    "* Add a grid to the plot"
   ]
  },
  {
   "cell_type": "code",
   "execution_count": null,
   "metadata": {
    "collapsed": false
   },
   "outputs": [],
   "source": [
    "# Create an array of x values from -6 to 6\n",
    "\n",
    "\n",
    "# Create a variable y equal to the x squared\n",
    "\n",
    "\n",
    "# Use the plot function to plot the line\n",
    "\n",
    "\n",
    "# Add a title and axis labels\n",
    "\n",
    "\n",
    "# Add grid\n"
   ]
  },
  {
   "cell_type": "markdown",
   "metadata": {},
   "source": [
    "#### Example\n",
    "\n",
    "Create plots of the functions $f(x) = \\log x$ (natural log) and $g(x) = 1/x$ between 0.01 and 5\n",
    "* Set the limits for the $x$-axis to (0,5)\n",
    "* Set the limits for the $y$-axis to (-2,5)\n",
    "* Make the line for $log(x)$ solid blue\n",
    "* Make the line for $1/x$ dashd magenta\n",
    "* Set the linewidth of each line to 3 points\n",
    "* Set the line transparency (alpha) for each line to 0.6\n",
    "* Set axis labels and title\n",
    "* Add a legend\n",
    "* Add a grid to the plot"
   ]
  },
  {
   "cell_type": "code",
   "execution_count": null,
   "metadata": {
    "collapsed": false
   },
   "outputs": [],
   "source": [
    "# Create an array of x values from -6 to 6\n",
    "\n",
    "\n",
    "# Create y variables\n",
    "\n",
    "\n",
    "# Use the plot function to plot the lines\n",
    "\n",
    "\n",
    "# Add a title and axis labels\n",
    "\n",
    "\n",
    "# Set axis limits\n",
    "\n",
    "\n",
    "# legend\n",
    "\n",
    "\n",
    "# Add grid\n"
   ]
  },
  {
   "cell_type": "markdown",
   "metadata": {},
   "source": [
    "#### Example\n",
    "\n",
    "\n",
    "Consider the linear regression model:\n",
    "\\begin{align}\n",
    "y_i = \\beta_0 + \\beta_1 x_i + \\epsilon_i\n",
    "\\end{align}\n",
    "where $x_i$ is the independent variable, $\\epsilon_i$ is a random regression error term, $y_i$ is the dependent variable and $\\beta_0$ and $\\beta_1$ are constants.\n",
    "\n",
    "Let's simulate the model\n",
    "* Set values for $\\beta_0$ and $\\beta_1$\n",
    "* Create an array of $x_i$ values from -5 to 5\n",
    "* Create an array of $\\epsilon_i$ values from the standard normal distribution equal in length to the array of $x_i$s\n",
    "* Create an array of $y_i$s\n",
    "* Plot y against x with either a circle ('o'), triangle ('^'), or square ('s') marker and transparency (alpha) to 0.5\n",
    "* Add axis lables, a title, and a grid to the plot"
   ]
  },
  {
   "cell_type": "code",
   "execution_count": null,
   "metadata": {
    "collapsed": false
   },
   "outputs": [],
   "source": [
    "# Set betas\n",
    "\n",
    "\n",
    "# Create x values\n",
    "\n",
    "\n",
    "# create epsilon values from the standard normal distribution\n",
    "\n",
    "\n",
    "# create y\n",
    "\n",
    "\n",
    "# plot\n",
    "\n",
    "\n",
    "# Add a title and axis labels\n",
    "\n",
    "\n",
    "# Set axis limits\n",
    "\n",
    "\n",
    "# Add grid\n"
   ]
  },
  {
   "cell_type": "markdown",
   "metadata": {},
   "source": [
    "#### Example\n",
    "\n",
    "Create plots of the functions $f(x) = x$, $g(x) = x^2$, and $h(x) = x^3$ for $x$ between -2 and 2\n",
    "* Use the optional string format argument to format the lines:\n",
    "  - $x$: solid blue line\n",
    "  - $x^2$: dashed green line\n",
    "  - $x^3$: dash-dot magenta line\n",
    "* Set the linewidth of each line to 3 points\n",
    "* Set transparency (alpha) for each line to 0.6\n",
    "* Add a legend to lower right with 3 columns\n",
    "* Set axis labels and title\n",
    "* Add a grid to the plot"
   ]
  },
  {
   "cell_type": "code",
   "execution_count": null,
   "metadata": {
    "collapsed": false
   },
   "outputs": [],
   "source": [
    "# Create an array of x values from -6 to 6\n",
    "\n",
    "\n",
    "# Create y variables\n",
    "\n",
    "\n",
    "# Use the plot function to plot the lines\n",
    "\n",
    "\n",
    "# Add a title and axis labels\n",
    "\n",
    "\n",
    "# Add grid\n",
    "\n",
    "\n",
    "# legend\n"
   ]
  },
  {
   "cell_type": "markdown",
   "metadata": {},
   "source": [
    "### Figures, axes, and subplots\n",
    "\n",
    "Often we want to create plots with multiple axes or we want to modify the size and shape of the plot areas. To be able to do these things, we need to explicity create a figure and then create the axes within the figure. The best way to see how this works is by example.\n",
    "\n",
    "\n",
    "#### Example: A single plot with double width\n",
    "\n",
    "The default dimensions of a matplotlib figure are 6 inches by 4 inches. As we saw above, this leaves some whitespace on the right side of the figure. Suppose we want to remove that by making the plot area twice as wide.\n",
    "\n",
    "Plot the sine function on -6 to 6 using a figure with dimensions 12 inches by 4 inches"
   ]
  },
  {
   "cell_type": "code",
   "execution_count": null,
   "metadata": {
    "collapsed": false
   },
   "outputs": [],
   "source": [
    "# Create data\n",
    "\n",
    "\n",
    "# Create a new figure\n",
    "\n",
    "\n",
    "# Create axis\n",
    "\n",
    "\n",
    "# Plot\n",
    "\n",
    "\n",
    "# Add grid\n"
   ]
  },
  {
   "cell_type": "markdown",
   "metadata": {},
   "source": [
    "In the previous example the `figure()` function creates a new figure and `add_subplot()` puts a new axis on the figure. The command `fig.add_subplot(1,1,1)` means divide the figure `fig` into a 1 by 1 grid and assign the first component of that grid to the variable `ax1`."
   ]
  },
  {
   "cell_type": "markdown",
   "metadata": {},
   "source": [
    "#### Example: Two plots side-by-side\n",
    "\n",
    "Create a new figure with two axes side-by-side and plot the sine function on -6 to 6 on the left axis and the cosine function on -6 to 6 on the right axis."
   ]
  },
  {
   "cell_type": "code",
   "execution_count": null,
   "metadata": {
    "collapsed": false
   },
   "outputs": [],
   "source": [
    "# Create data\n",
    "\n",
    "\n",
    "# Create a new figure\n",
    "\n",
    "\n",
    "# Create axis 1 and plot with title\n",
    "\n",
    "\n",
    "# Create axis 2 and plot with title\n"
   ]
  },
  {
   "cell_type": "markdown",
   "metadata": {},
   "source": [
    "#### Example: Block of four plots\n",
    "\n",
    "The default dimensions of a matplotlib figure are 6 inches by 4 inches. As we saw above, this leaves some whitespace on the right side of the figure. Suppose we want to remove that by making the plot area twice as wide.\n",
    "\n",
    "Create a new figure with four axes in a two-by-two grid. Plot the following functions on the interval -2 to 2:\n",
    "* $y = x$\n",
    "* $y = x^2$\n",
    "* $y = x^3$\n",
    "* $y = x^4$\n",
    "\n",
    "Leave the figure size at the default (6in. by 4in.) but run the command `plt.tight_layout()` to adust the figure's margins after creating your figure, axes, and plots."
   ]
  },
  {
   "cell_type": "code",
   "execution_count": null,
   "metadata": {
    "collapsed": false
   },
   "outputs": [],
   "source": [
    "# Create data\n",
    "\n",
    "\n",
    "# Create a new figure\n",
    "\n",
    "\n",
    "# Create axis 1 and plot with title\n",
    "\n",
    "\n",
    "# Create axis 2 and plot with title\n",
    "\n",
    "\n",
    "# Create axis 3 and plot with title\n",
    "\n",
    "\n",
    "# Create axis 4 and plot with title\n",
    "\n",
    "\n",
    "# Adjust margins\n"
   ]
  },
  {
   "cell_type": "markdown",
   "metadata": {},
   "source": [
    "### Exporting figures to image files\n",
    "\n",
    "Use the `plt.savefig()` function to save figures to images."
   ]
  },
  {
   "cell_type": "code",
   "execution_count": null,
   "metadata": {
    "collapsed": false,
    "scrolled": false
   },
   "outputs": [],
   "source": [
    "# Create data\n",
    "x = np.arange(-6,6,0.001)\n",
    "y = np.sin(x)\n",
    "\n",
    "# Create a new figure, axis, and plot\n",
    "fig = plt.figure()\n",
    "ax1 = fig.add_subplot(1,1,1)\n",
    "ax1.plot(x,y,lw=3,alpha = 0.6)\n",
    "ax1.grid()\n",
    "\n",
    "# Save\n",
    "plt.savefig('fig_econ129_class04_sine.png',dpi=120)"
   ]
  },
  {
   "cell_type": "markdown",
   "metadata": {},
   "source": [
    "In the previous example, the image is saved as a PNG file with 120 dots per inch. This resolution is high enough to look good even when projected on a large screen. The image format is inferred by the extension on the filename."
   ]
  }
 ],
 "metadata": {
  "anaconda-cloud": {},
  "kernelspec": {
   "display_name": "Python [default]",
   "language": "python",
   "name": "python3"
  },
  "language_info": {
   "codemirror_mode": {
    "name": "ipython",
    "version": 3
   },
   "file_extension": ".py",
   "mimetype": "text/x-python",
   "name": "python",
   "nbconvert_exporter": "python",
   "pygments_lexer": "ipython3",
   "version": "3.5.2"
  }
 },
 "nbformat": 4,
 "nbformat_minor": 1
}
