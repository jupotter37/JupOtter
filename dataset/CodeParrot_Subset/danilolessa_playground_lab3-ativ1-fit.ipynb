{
 "cells": [
  {
   "cell_type": "code",
   "execution_count": 367,
   "metadata": {
    "collapsed": false
   },
   "outputs": [],
   "source": [
    "import scipy.optimize as opt\n",
    "import numpy as np\n",
    "import csv\n",
    "import matplotlib.pyplot as plt\n",
    "from scipy.odr import *\n",
    "\n",
    "def fit_f(i, n, i0, r):\n",
    "    return n * 1.38e-23 * 300 * (1 / 1.6e-19) * np.log(i/i0 + 1) + r*i\n",
    "    \n",
    "def odr_f(beta, x):\n",
    "    return beta[0] * 1.38e-23 * 300 * (1 / 1.6e-19) * np.log(x/beta[1] + 1) + beta[2]*i"
   ]
  },
  {
   "cell_type": "code",
   "execution_count": 368,
   "metadata": {
    "collapsed": false
   },
   "outputs": [
    {
     "name": "stdout",
     "output_type": "stream",
     "text": [
      "<_csv.reader object at 0x7f2d9ae42ba8>\n",
      "['0.00224987556', '2.82', '0.01205', '0.00003752880736']\n",
      "['0.002020905923', '2.81', '0.012025', '0.00003456536056']\n",
      "['0.002727725236', '2.86', '0.01215', '0.00004384257635']\n",
      "['0.003524141364', '2.9', '0.01225', '0.0000546115372']\n",
      "['0.004539571926', '2.95', '0.012375', '0.00006858595491']\n",
      "['0.00537580886', '2.98', '0.01245', '0.00008020638176']\n",
      "['0.006510701842', '3.03', '0.012575', '0.00009606893925']\n",
      "['0.007068193131', '3.04', '0.0126', '0.0001038866743']\n",
      "['0.0081234445', '3.08', '0.0127', '0.0001187157236']\n",
      "['0.009427575908', '3.11', '0.012775', '0.0001370817172']\n",
      "['0.01058237929', '3.14', '0.01285', '0.0001533694413']\n",
      "['0.01143852663', '3.16', '0.0129', '0.0001654555704']\n",
      "['0.01432553509', '3.22', '0.01305', '0.000206255959']\n",
      "['0.01805873569', '3.29', '0.013225', '0.0002590757905']\n",
      "['0.02220009955', '3.34', '0.01335', '0.0003713959002']\n",
      "['0.024987556', '3.36', '0.0134', '0.0004079878345']\n",
      "['0.02458934793', '3.36', '0.0134', '0.0004027265509']\n",
      "['0.02429069189', '3.35', '0.013375', '0.0003987874851']\n",
      "['0.0175211548', '3.25', '0.013125', '0.000311585139']\n"
     ]
    }
   ],
   "source": [
    "with open(\"amp3\", 'r') as fil:\n",
    "    count = len(fil.readlines())\n",
    "    u_amp = np.zeros(count)\n",
    "    su_amp = np.zeros(count)\n",
    "    u_led = np.zeros(count)\n",
    "    su_led = np.zeros(count)\n",
    "    csvreader = csv.reader(fil, delimiter='\\t')\n",
    "    print(csvreader)\n",
    "    i = 0\n",
    "    fil.seek(0)\n",
    "    for row in csvreader:\n",
    "        if(row[0] == ''):\n",
    "            continue\n",
    "        print(row)\n",
    "        u_led[i]= float(row[1])\n",
    "        u_amp[i] = float(row[0])\n",
    "        su_amp[i] = float(row[3])\n",
    "        su_led[i] = float(row[2])\n",
    "        i += 1"
   ]
  },
  {
   "cell_type": "code",
   "execution_count": 371,
   "metadata": {
    "collapsed": false
   },
   "outputs": [
    {
     "name": "stdout",
     "output_type": "stream",
     "text": [
      "Beta: [  8.69365380e+00   1.43201332e-13  -1.30385743e-01]\n",
      "Beta Std Error: [  1.97551603e-01   1.22198870e-09   1.01028031e+02]\n",
      "Beta Covariance: [[  2.23313636e-02   3.52914787e-11   2.91702206e+00]\n",
      " [  3.52914787e-11   8.54453637e-19   7.06420349e-08]\n",
      " [  2.91702206e+00   7.06420349e-08   5.84033690e+03]]\n",
      "Residual Variance: 1.7476154515762563\n",
      "Inverse Condition #: 1.7267199744636945e-11\n",
      "Reason(s) for Halting:\n",
      "  Sum of squares convergence\n"
     ]
    }
   ],
   "source": [
    "ch1 = 2\n",
    "ch2 = 1e-15\n",
    "ch3 = 10\n",
    "\n",
    "#adj = opt.curve_fit(fit_f, u_amp, u_led, sigma=su_led, p0=[ch1,ch2,ch3])\n",
    "model = Model(odr_f)\n",
    "data = RealData(u_amp, u_led, sx=su_amp, sy=su_led)\n",
    "odr = ODR(data, model, [ch1, ch2, ch3])\n",
    "output = odr.run()\n",
    "output.pprint()"
   ]
  },
  {
   "cell_type": "code",
   "execution_count": 372,
   "metadata": {
    "collapsed": false
   },
   "outputs": [
    {
     "data": {
      "text/plain": [
       "array([  8.69365380e+00,   1.43201332e-13,  -1.30385743e-01])"
      ]
     },
     "execution_count": 372,
     "metadata": {},
     "output_type": "execute_result"
    }
   ],
   "source": [
    "output.beta"
   ]
  },
  {
   "cell_type": "code",
   "execution_count": 373,
   "metadata": {
    "collapsed": false
   },
   "outputs": [],
   "source": [
    "n = output.beta[0]\n",
    "i0 = output.beta[1]\n",
    "r = output.beta[2]\n",
    "\n",
    "x = np.linspace(0, 3e-2, 1e6)\n",
    "ohm = r*x\n",
    "diode = fit_f(x, n, i0, r)\n",
    "plt.plot(x, ohm, x, diode, x, ohm+diode)\n",
    "plt.show()"
   ]
  },
  {
   "cell_type": "code",
   "execution_count": 363,
   "metadata": {
    "collapsed": false
   },
   "outputs": [
    {
     "data": {
      "text/plain": [
       "6.8687131787245015"
      ]
     },
     "execution_count": 363,
     "metadata": {},
     "output_type": "execute_result"
    }
   ],
   "source": [
    "output.beta[0]"
   ]
  },
  {
   "cell_type": "code",
   "execution_count": 231,
   "metadata": {
    "collapsed": false
   },
   "outputs": [],
   "source": [
    "fit2=adj"
   ]
  },
  {
   "cell_type": "code",
   "execution_count": 233,
   "metadata": {
    "collapsed": false
   },
   "outputs": [
    {
     "data": {
      "text/plain": [
       "(array([  1.19568990e+01,   1.12738839e-07]),\n",
       " array([[  4.61205922e-01,   1.38415494e-08],\n",
       "        [  1.38415494e-08,   6.32253752e-16]]))"
      ]
     },
     "execution_count": 233,
     "metadata": {},
     "output_type": "execute_result"
    }
   ],
   "source": [
    "fit1"
   ]
  },
  {
   "cell_type": "code",
   "execution_count": 234,
   "metadata": {
    "collapsed": false
   },
   "outputs": [
    {
     "data": {
      "text/plain": [
       "(array([  1.44124376e+01,   1.73971011e-07,  -5.79823595e+01]),\n",
       " array([[  9.75668924e-01,   3.09476791e-08,  -1.27851715e+01],\n",
       "        [  3.09476791e-08,   1.31147625e-15,  -3.64284546e-07],\n",
       "        [ -1.27851715e+01,  -3.64284546e-07,   2.78531880e+02]]))"
      ]
     },
     "execution_count": 234,
     "metadata": {},
     "output_type": "execute_result"
    }
   ],
   "source": [
    "fit2"
   ]
  },
  {
   "cell_type": "code",
   "execution_count": 239,
   "metadata": {
    "collapsed": false
   },
   "outputs": [],
   "source": [
    "cor2=fit2[1]"
   ]
  },
  {
   "cell_type": "code",
   "execution_count": 240,
   "metadata": {
    "collapsed": false
   },
   "outputs": [
    {
     "data": {
      "text/plain": [
       "3.5640009647818921e-13"
      ]
     },
     "execution_count": 240,
     "metadata": {},
     "output_type": "execute_result"
    }
   ],
   "source": [
    "cor2[0][0]*cor2[1][1]*cor2[2][2]"
   ]
  },
  {
   "cell_type": "code",
   "execution_count": 374,
   "metadata": {
    "collapsed": false
   },
   "outputs": [
    {
     "data": {
      "text/plain": [
       "0.22494829197218666"
      ]
     },
     "execution_count": 374,
     "metadata": {},
     "output_type": "execute_result"
    }
   ],
   "source": [
    "output.beta[0] * 1.38e-23 * 300 * (1 / 1.6e-19)"
   ]
  },
  {
   "cell_type": "code",
   "execution_count": 375,
   "metadata": {
    "collapsed": false
   },
   "outputs": [
    {
     "data": {
      "text/plain": [
       "6983175262574.6406"
      ]
     },
     "execution_count": 375,
     "metadata": {},
     "output_type": "execute_result"
    }
   ],
   "source": [
    "1/output.beta[1]"
   ]
  },
  {
   "cell_type": "code",
   "execution_count": 376,
   "metadata": {
    "collapsed": false
   },
   "outputs": [
    {
     "data": {
      "text/plain": [
       "-0.13038574266224737"
      ]
     },
     "execution_count": 376,
     "metadata": {},
     "output_type": "execute_result"
    }
   ],
   "source": [
    "output.beta[2]"
   ]
  },
  {
   "cell_type": "code",
   "execution_count": 4,
   "metadata": {
    "collapsed": false
   },
   "outputs": [
    {
     "data": {
      "text/plain": [
       "0.051750000000000004"
      ]
     },
     "execution_count": 4,
     "metadata": {},
     "output_type": "execute_result"
    }
   ],
   "source": [
    "1.38e-23 * 300 * (1 / 1.6e-19) * 2"
   ]
  },
  {
   "cell_type": "code",
   "execution_count": 5,
   "metadata": {
    "collapsed": false
   },
   "outputs": [
    {
     "data": {
      "text/plain": [
       "1000000000000.0"
      ]
     },
     "execution_count": 5,
     "metadata": {},
     "output_type": "execute_result"
    }
   ],
   "source": [
    "1e12"
   ]
  },
  {
   "cell_type": "code",
   "execution_count": null,
   "metadata": {
    "collapsed": false
   },
   "outputs": [],
   "source": []
  }
 ],
 "metadata": {
  "kernelspec": {
   "display_name": "Python 3",
   "language": "python",
   "name": "python3"
  },
  "language_info": {
   "codemirror_mode": {
    "name": "ipython",
    "version": 3
   },
   "file_extension": ".py",
   "mimetype": "text/x-python",
   "name": "python",
   "nbconvert_exporter": "python",
   "pygments_lexer": "ipython3",
   "version": "3.4.3+"
  }
 },
 "nbformat": 4,
 "nbformat_minor": 0
}
