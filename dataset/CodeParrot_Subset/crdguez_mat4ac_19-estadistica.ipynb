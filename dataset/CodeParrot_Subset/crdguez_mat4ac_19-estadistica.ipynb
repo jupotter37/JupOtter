{
 "cells": [
  {
   "cell_type": "code",
   "execution_count": 1,
   "metadata": {
    "colab": {
     "base_uri": "https://localhost:8080/"
    },
    "id": "XLjKRF_kknDB",
    "outputId": "bf368ad3-b06b-4d98-c873-15e25c6e4091"
   },
   "outputs": [],
   "source": [
    "# Ejecutar para que funcione el parse_latex en google colab\n",
    " \n",
    "# !pip install sympy==1.5 antlr4-python3-runtime==4.7.1"
   ]
  },
  {
   "cell_type": "code",
   "execution_count": 1,
   "metadata": {
    "colab": {
     "base_uri": "https://localhost:8080/"
    },
    "id": "tVIMjcDSknDa",
    "outputId": "8a4c95fe-51d7-4ded-d63f-41e146567df4",
    "scrolled": true
   },
   "outputs": [
    {
     "name": "stdout",
     "output_type": "stream",
     "text": [
      "IPython console for SymPy 1.6.2 (Python 3.6.12-64-bit) (ground types: gmpy)\n",
      "\n",
      "These commands were executed:\n",
      ">>> from __future__ import division\n",
      ">>> from sympy import *\n",
      ">>> x, y, z, t = symbols('x y z t')\n",
      ">>> k, m, n = symbols('k m n', integer=True)\n",
      ">>> f, g, h = symbols('f g h', cls=Function)\n",
      ">>> init_printing()\n",
      "\n",
      "Documentation can be found at https://docs.sympy.org/1.6.2/\n",
      "\n"
     ]
    }
   ],
   "source": [
    "from sympy import init_session\n",
    "from sympy.parsing.latex import parse_latex\n",
    "from sympy.parsing.sympy_parser import parse_expr\n",
    "from IPython.display import Markdown as md\n",
    "from IPython.display import display\n",
    "\n",
    "import numpy as np\n",
    "import pandas as pd\n",
    "import matplotlib.pyplot as plt\n",
    "\n",
    "import scipy as sc\n",
    "from tabulate import tabulate\n",
    "from scipy.stats import cumfreq, relfreq, stats\n",
    "\n",
    "init_session()\n",
    "\n",
    "%matplotlib inline"
   ]
  },
  {
   "cell_type": "code",
   "execution_count": 4,
   "metadata": {},
   "outputs": [],
   "source": [
    "def texto_a_datos(str_datos) :\n",
    "    datos = np.loadtxt(str_datos.split())\n",
    "    datos = datos.astype(int)\n",
    "    return datos\n",
    "\n",
    "\n",
    "def analisis_discreto_ant(texto_ejercicio, str_datos, n_ejercicio='_'):\n",
    "    texto_ejercicio = texto_ejercicio + str_datos\n",
    "    enunciado_latex = [r'Realiza una tabla de frecuencias',\n",
    "                   r'Realiza un diagrama de barras',\n",
    "                   r'Calcular los parámetros de centralización',\n",
    "                   r'Calcular los parámetros de posición P70, Q1, Q3, D4',\n",
    "                   r'Calcular los parámetros de dispersión'\n",
    "                ]\n",
    "    enunciado, solucion = [], []\n",
    "    enunciado = enunciado_latex\n",
    "    datos = np.loadtxt(str_datos.split())\n",
    "    datos = datos.astype(int)  \n",
    "\n",
    "    #x_i, f_i, F_i, r_i  = np.unique(datos),np.bincount(datos), cumfreq(datos, numbins=len(np.unique(datos)))[0].astype(int), np.multiply(relfreq(datos, numbins=len(np.unique(datos)))[0],100)\n",
    "    tabla = pd.DataFrame({'x_i':np.unique(datos), 'f_i':np.unique(datos, return_counts=True)[1], 'F_i':np.unique(datos, return_counts=True)[1].cumsum(), 'h_i':np.unique(datos, return_counts=True)[1]/len(datos), 'H_i':(np.unique(datos, return_counts=True)[1]/len(datos)).cumsum(), '%_i':np.unique(datos, return_counts=True)[1]*100/len(datos), '%A_i':(np.unique(datos, return_counts=True)[1]*100/len(datos)).cumsum()}).set_index('x_i')\n",
    "    solucion.append(tabulate(tabla, headers=\"keys\", tablefmt=\"latex\"))\n",
    "\n",
    "    d = np.diff(np.unique(datos)).min()\n",
    "    left_of_first_bin = datos.min() - float(d)/2\n",
    "    right_of_last_bin = datos.max() + float(d)/2\n",
    "    plt.clf()\n",
    "    plt.hist(datos, np.arange(left_of_first_bin, right_of_last_bin + d, d), rwidth=0.9, cumulative = False)\n",
    "    plt.title(\"Diagrama \"+n_ejercicio)\n",
    "    plt.savefig(\"../img/\"+n_ejercicio)\n",
    "\n",
    "    solucion.append(r\"\\\\ \\includegraphics[width=1\\columnwidth]{%s}\" % n_ejercicio)\n",
    "\n",
    "    solucion.append({\"media\":datos.mean(), \"mediana\":np.percentile(datos,50), \"moda\":stats.mode(datos)})\n",
    "    solucion.append({\"P70\":np.percentile(datos,70), \"Q1\":np.percentile(datos,25),\"Q3\":np.percentile(datos,75),\"D4\":np.percentile(datos,40),})\n",
    "    solucion.append({\"rango\":np.amax(datos)-np.amin(datos), \"varianza\": np.var(datos), \"desviación típica\":sqrt(np.var(datos)), \"coeficiente variación\": sqrt(np.var(datos))/abs(np.mean(datos))})\n",
    "    display(tabla, solucion[2] , solucion[3], solucion[4])\n",
    "    return  texto_ejercicio, enunciado_latex, enunciado, solucion, tabla, n_ejercicio"
   ]
  },
  {
   "cell_type": "code",
   "execution_count": 2,
   "metadata": {
    "id": "U_EQ3XUBknDf"
   },
   "outputs": [],
   "source": [
    "def latex_exam(question, parts):\n",
    "    tex=r\"\\question \"+question+r\"\\begin{parts} \"\n",
    "    for p in parts :\n",
    "        tex+=r\"\\part[1] \"+p[0]+r\"\\begin{solution} \"+p[1]+r\"\\end{solution} \" \n",
    "    tex+=r\"\\end{parts} \"\n",
    "    \n",
    "    return tex\n",
    "\n",
    "def mostrar_ejercicio(ejercicio,solucion,tipo=0) :\n",
    "    #tipo=0 se pasa el ejercicio y la solucion en formato latex\n",
    "    if tipo == 0 :\n",
    "        display(md(\"#### Ejercicio:\"))\n",
    "        display(md(r\"{} $\\to$ {}\".format(ejercicio, solucion)))\n",
    "        print(\"enunciado_latex: \" + ejercicio)\n",
    "        print(\"solucion_latex: \" + solucion)\n",
    "        return ejercicio, solucion\n",
    "    elif tipo == 1:\n",
    "        # falta desarrollar ...\n",
    "        display(md(\"#### Ejercicio:\"))\n",
    "        display(md(r\"{} $\\to$ {}\".format(ejercicio, solucion)))\n",
    "        print(\"enunciado_latex: \" + ejercicio)\n",
    "        print(\"solucion_latex: \" + solucion)\n",
    "        return ejercicio, solucion\n",
    "\n",
    "        "
   ]
  },
  {
   "cell_type": "code",
   "execution_count": 9,
   "metadata": {},
   "outputs": [],
   "source": [
    "def texto_a_datos(str_datos, tipo=int) :\n",
    "    datos = np.loadtxt(str_datos.split())\n",
    "    datos = datos.astype(tipo)\n",
    "    return datos\n",
    "\n",
    "def datos_a_tabla(datos) :\n",
    "    tabla = pd.DataFrame({'x_i':np.unique(datos), \n",
    "                          'f_i':np.unique(datos, return_counts=True)[1],\n",
    "                          'F_i':np.unique(datos, return_counts=True)[1].cumsum(),\n",
    "                          'h_i':np.unique(datos, return_counts=True)[1]/len(datos),  \n",
    "                          'H_i':(np.unique(datos, return_counts=True)[1]/len(datos)).cumsum(), \n",
    "                          '%_i':np.unique(datos, return_counts=True)[1]*100/len(datos), \n",
    "                          '%A_i':(np.unique(datos, return_counts=True)[1]*100/len(datos)).cumsum(),\n",
    "                         })\n",
    "    tabla['x_if_i']=tabla['x_i']*tabla['f_i']\n",
    "    tabla['x^2_if_i']=tabla['x_i']**2*tabla['f_i']\n",
    "    \n",
    "    totales = pd.DataFrame([[np.nan,tabla.f_i.sum(),\n",
    "                         np.nan, tabla.h_i.sum(), np.nan, tabla['%_i'].sum(), np.nan,\n",
    "                        tabla.x_if_i.sum(),tabla['x^2_if_i'].sum()]],columns=list(tabla.columns))\n",
    "\n",
    "    tabla=tabla.append(totales,ignore_index=True)\n",
    "    return tabla\n",
    "\n",
    "def diagrama_barras(datos) :\n",
    "    d = np.diff(np.unique(datos)).min()\n",
    "    left_of_first_bin = datos.min() - float(d)/2\n",
    "    right_of_last_bin = datos.max() + float(d)/2\n",
    "    plt.clf()\n",
    "    plt.hist(datos, np.arange(left_of_first_bin, right_of_last_bin + d, d), rwidth=0.9, cumulative = False)\n",
    "    plt.title(\"Diagrama \")\n",
    "#     plt.savefig(\"../img/diagrama\"+n_ejercicio)\n",
    "    \n",
    "    return plt.figure\n",
    "\n",
    "def analisis_discreto(texto_ejercicio, datos, n_ejercicio='_'):\n",
    "    texto_ejercicio = texto_ejercicio + \" \". join(map(str,datos))\n",
    "    enunciado_latex = [r'Realiza una tabla de frecuencias',\n",
    "                   r'Realiza un diagrama de barras',\n",
    "                   r'Calcular los parámetros de centralización',\n",
    "                   r'Calcular los parámetros de posición P70, Q1, Q3, D4',\n",
    "                   r'Calcular los parámetros de dispersión'\n",
    "                ]\n",
    "\n",
    "    enunciado = texto_ejercicio+r\". \"+r\". \".join(enunciado_latex)\n",
    "    \n",
    "    tabla = datos_a_tabla(datos)\n",
    "\n",
    "    solucion=\"$\"+tabulate(tabla, headers=\"keys\", tablefmt=\"latex\", showindex=False)+r\"$\"\n",
    "\n",
    "\n",
    "#     d = np.diff(np.unique(datos)).min()\n",
    "#     left_of_first_bin = datos.min() - float(d)/2\n",
    "#     right_of_last_bin = datos.max() + float(d)/2\n",
    "#     plt.clf()\n",
    "#     plt.hist(datos, np.arange(left_of_first_bin, right_of_last_bin + d, d), rwidth=0.9, cumulative = False)\n",
    "#     plt.title(\"Diagrama \")\n",
    "#     plt.savefig(\"../img/diagrama\"+n_ejercicio)\n",
    "\n",
    "#     plt.show()\n",
    "    fig=diagrama_barras(datos)\n",
    "    plt.savefig(\"../img/diagrama\"+n_ejercicio)\n",
    "    plt.show()\n",
    "    \n",
    "    plt.boxplot([datos,datos], vert=False)\n",
    "    plt.savefig(\"../img/cajas\"+n_ejercicio)\n",
    "    plt.show()\n",
    "\n",
    "\n",
    "\n",
    "    solucion += r\"\\\\ \\includegraphics[width=1\\columnwidth]{%s}\" % (\"diagrama\"+n_ejercicio)\n",
    "    solucion += r\" \\\\ $\"+latex({\"media\":datos.mean().round(2), \"Me\":np.percentile(datos,50), \"Mo\":stats.mode(datos)})+r\"$ \\\\\"\n",
    "    solucion += \"$\"+latex({\"P70\":np.percentile(datos,70), \"Q1\":np.percentile(datos,25),\"Q3\":np.percentile(datos,75),\"D4\":np.percentile(datos,40),})+r\"$ \\\\\"\n",
    "    solucion += \"$\"+latex({\"rango\":np.amax(datos)-np.amin(datos), \"var\": np.var(datos).round(2), \"desv.tip\":sqrt(np.var(datos)).round(2), \"C.V\": (sqrt(np.var(datos))/abs(np.mean(datos))).round(2)})+r\"$\"\n",
    "\n",
    "    display(tabla, solucion[2] , solucion[3], solucion[4])\n",
    "    return  texto_ejercicio, enunciado_latex, enunciado, solucion, tabla, n_ejercicio\n",
    "\n"
   ]
  },
  {
   "cell_type": "code",
   "execution_count": 10,
   "metadata": {},
   "outputs": [
    {
     "data": {
      "image/png": "[encoded data removed]",
      "text/plain": [
       "<Figure size 432x288 with 1 Axes>"
      ]
     },
     "metadata": {
      "needs_background": "light"
     },
     "output_type": "display_data"
    },
    {
     "data": {
      "image/png": "[encoded data removed]",
      "text/plain": [
       "<Figure size 432x288 with 1 Axes>"
      ]
     },
     "metadata": {
      "needs_background": "light"
     },
     "output_type": "display_data"
    },
    {
     "data": {
      "text/html": [
       "<div>\n",
       "<style scoped>\n",
       "    .dataframe tbody tr th:only-of-type {\n",
       "        vertical-align: middle;\n",
       "    }\n",
       "\n",
       "    .dataframe tbody tr th {\n",
       "        vertical-align: top;\n",
       "    }\n",
       "\n",
       "    .dataframe thead th {\n",
       "        text-align: right;\n",
       "    }\n",
       "</style>\n",
       "<table border=\"1\" class=\"dataframe\">\n",
       "  <thead>\n",
       "    <tr style=\"text-align: right;\">\n",
       "      <th></th>\n",
       "      <th>x_i</th>\n",
       "      <th>f_i</th>\n",
       "      <th>F_i</th>\n",
       "      <th>h_i</th>\n",
       "      <th>H_i</th>\n",
       "      <th>%_i</th>\n",
       "      <th>%A_i</th>\n",
       "      <th>x_if_i</th>\n",
       "      <th>x^2_if_i</th>\n",
       "    </tr>\n",
       "  </thead>\n",
       "  <tbody>\n",
       "    <tr>\n",
       "      <th>0</th>\n",
       "      <td>0.0</td>\n",
       "      <td>1</td>\n",
       "      <td>1.0</td>\n",
       "      <td>0.029412</td>\n",
       "      <td>0.029412</td>\n",
       "      <td>2.941176</td>\n",
       "      <td>2.941176</td>\n",
       "      <td>0</td>\n",
       "      <td>0</td>\n",
       "    </tr>\n",
       "    <tr>\n",
       "      <th>1</th>\n",
       "      <td>1.0</td>\n",
       "      <td>2</td>\n",
       "      <td>3.0</td>\n",
       "      <td>0.058824</td>\n",
       "      <td>0.088235</td>\n",
       "      <td>5.882353</td>\n",
       "      <td>8.823529</td>\n",
       "      <td>2</td>\n",
       "      <td>2</td>\n",
       "    </tr>\n",
       "    <tr>\n",
       "      <th>2</th>\n",
       "      <td>2.0</td>\n",
       "      <td>3</td>\n",
       "      <td>6.0</td>\n",
       "      <td>0.088235</td>\n",
       "      <td>0.176471</td>\n",
       "      <td>8.823529</td>\n",
       "      <td>17.647059</td>\n",
       "      <td>6</td>\n",
       "      <td>12</td>\n",
       "    </tr>\n",
       "    <tr>\n",
       "      <th>3</th>\n",
       "      <td>3.0</td>\n",
       "      <td>2</td>\n",
       "      <td>8.0</td>\n",
       "      <td>0.058824</td>\n",
       "      <td>0.235294</td>\n",
       "      <td>5.882353</td>\n",
       "      <td>23.529412</td>\n",
       "      <td>6</td>\n",
       "      <td>18</td>\n",
       "    </tr>\n",
       "    <tr>\n",
       "      <th>4</th>\n",
       "      <td>4.0</td>\n",
       "      <td>3</td>\n",
       "      <td>11.0</td>\n",
       "      <td>0.088235</td>\n",
       "      <td>0.323529</td>\n",
       "      <td>8.823529</td>\n",
       "      <td>32.352941</td>\n",
       "      <td>12</td>\n",
       "      <td>48</td>\n",
       "    </tr>\n",
       "    <tr>\n",
       "      <th>5</th>\n",
       "      <td>5.0</td>\n",
       "      <td>6</td>\n",
       "      <td>17.0</td>\n",
       "      <td>0.176471</td>\n",
       "      <td>0.500000</td>\n",
       "      <td>17.647059</td>\n",
       "      <td>50.000000</td>\n",
       "      <td>30</td>\n",
       "      <td>150</td>\n",
       "    </tr>\n",
       "    <tr>\n",
       "      <th>6</th>\n",
       "      <td>6.0</td>\n",
       "      <td>5</td>\n",
       "      <td>22.0</td>\n",
       "      <td>0.147059</td>\n",
       "      <td>0.647059</td>\n",
       "      <td>14.705882</td>\n",
       "      <td>64.705882</td>\n",
       "      <td>30</td>\n",
       "      <td>180</td>\n",
       "    </tr>\n",
       "    <tr>\n",
       "      <th>7</th>\n",
       "      <td>7.0</td>\n",
       "      <td>6</td>\n",
       "      <td>28.0</td>\n",
       "      <td>0.176471</td>\n",
       "      <td>0.823529</td>\n",
       "      <td>17.647059</td>\n",
       "      <td>82.352941</td>\n",
       "      <td>42</td>\n",
       "      <td>294</td>\n",
       "    </tr>\n",
       "    <tr>\n",
       "      <th>8</th>\n",
       "      <td>8.0</td>\n",
       "      <td>3</td>\n",
       "      <td>31.0</td>\n",
       "      <td>0.088235</td>\n",
       "      <td>0.911765</td>\n",
       "      <td>8.823529</td>\n",
       "      <td>91.176471</td>\n",
       "      <td>24</td>\n",
       "      <td>192</td>\n",
       "    </tr>\n",
       "    <tr>\n",
       "      <th>9</th>\n",
       "      <td>9.0</td>\n",
       "      <td>2</td>\n",
       "      <td>33.0</td>\n",
       "      <td>0.058824</td>\n",
       "      <td>0.970588</td>\n",
       "      <td>5.882353</td>\n",
       "      <td>97.058824</td>\n",
       "      <td>18</td>\n",
       "      <td>162</td>\n",
       "    </tr>\n",
       "    <tr>\n",
       "      <th>10</th>\n",
       "      <td>10.0</td>\n",
       "      <td>1</td>\n",
       "      <td>34.0</td>\n",
       "      <td>0.029412</td>\n",
       "      <td>1.000000</td>\n",
       "      <td>2.941176</td>\n",
       "      <td>100.000000</td>\n",
       "      <td>10</td>\n",
       "      <td>100</td>\n",
       "    </tr>\n",
       "    <tr>\n",
       "      <th>11</th>\n",
       "      <td>NaN</td>\n",
       "      <td>34</td>\n",
       "      <td>NaN</td>\n",
       "      <td>1.000000</td>\n",
       "      <td>NaN</td>\n",
       "      <td>100.000000</td>\n",
       "      <td>NaN</td>\n",
       "      <td>180</td>\n",
       "      <td>1158</td>\n",
       "    </tr>\n",
       "  </tbody>\n",
       "</table>\n",
       "</div>"
      ],
      "text/plain": [
       "     x_i  f_i   F_i       h_i       H_i         %_i        %A_i  x_if_i  \\\n",
       "0    0.0    1   1.0  0.029412  0.029412    2.941176    2.941176       0   \n",
       "1    1.0    2   3.0  0.058824  0.088235    5.882353    8.823529       2   \n",
       "2    2.0    3   6.0  0.088235  0.176471    8.823529   17.647059       6   \n",
       "3    3.0    2   8.0  0.058824  0.235294    5.882353   23.529412       6   \n",
       "4    4.0    3  11.0  0.088235  0.323529    8.823529   32.352941      12   \n",
       "5    5.0    6  17.0  0.176471  0.500000   17.647059   50.000000      30   \n",
       "6    6.0    5  22.0  0.147059  0.647059   14.705882   64.705882      30   \n",
       "7    7.0    6  28.0  0.176471  0.823529   17.647059   82.352941      42   \n",
       "8    8.0    3  31.0  0.088235  0.911765    8.823529   91.176471      24   \n",
       "9    9.0    2  33.0  0.058824  0.970588    5.882353   97.058824      18   \n",
       "10  10.0    1  34.0  0.029412  1.000000    2.941176  100.000000      10   \n",
       "11   NaN   34   NaN  1.000000       NaN  100.000000         NaN     180   \n",
       "\n",
       "    x^2_if_i  \n",
       "0          0  \n",
       "1          2  \n",
       "2         12  \n",
       "3         18  \n",
       "4         48  \n",
       "5        150  \n",
       "6        180  \n",
       "7        294  \n",
       "8        192  \n",
       "9        162  \n",
       "10       100  \n",
       "11      1158  "
      ]
     },
     "metadata": {},
     "output_type": "display_data"
    },
    {
     "data": {
      "text/plain": [
       "'b'"
      ]
     },
     "metadata": {},
     "output_type": "display_data"
    },
    {
     "data": {
      "text/plain": [
       "'e'"
      ]
     },
     "metadata": {},
     "output_type": "display_data"
    },
    {
     "data": {
      "text/plain": [
       "'g'"
      ]
     },
     "metadata": {},
     "output_type": "display_data"
    },
    {
     "data": {
      "text/markdown": [
       "#### Ejercicio:"
      ],
      "text/plain": [
       "<IPython.core.display.Markdown object>"
      ]
     },
     "metadata": {},
     "output_type": "display_data"
    },
    {
     "data": {
      "text/markdown": [
       "Las calificaciones de un grupo de 34 alumnos han sido: 9 6 5 0 1 5 7 9 10 7 5 1 2 5 7 6 3 4 6 8 8 6 4 4 6 5 3 5 7 7 8 7 2 2. Realiza una tabla de frecuencias. Realiza un diagrama de barras. Calcular los parámetros de centralización. Calcular los parámetros de posición P70, Q1, Q3, D4. Calcular los parámetros de dispersión $\\to$ $\\begin{tabular}{rrrrrrrrr}\n",
       "\\hline\n",
       "   x\\_i &   f\\_i &   F\\_i &       h\\_i &         H\\_i &       \\%\\_i &      \\%A\\_i &   x\\_if\\_i &   x\\^{}2\\_if\\_i \\\\\n",
       "\\hline\n",
       "     0 &     1 &     1 & 0.0294118 &   0.0294118 &   2.94118 &   2.94118 &        0 &          0 \\\\\n",
       "     1 &     2 &     3 & 0.0588235 &   0.0882353 &   5.88235 &   8.82353 &        2 &          2 \\\\\n",
       "     2 &     3 &     6 & 0.0882353 &   0.176471  &   8.82353 &  17.6471  &        6 &         12 \\\\\n",
       "     3 &     2 &     8 & 0.0588235 &   0.235294  &   5.88235 &  23.5294  &        6 &         18 \\\\\n",
       "     4 &     3 &    11 & 0.0882353 &   0.323529  &   8.82353 &  32.3529  &       12 &         48 \\\\\n",
       "     5 &     6 &    17 & 0.176471  &   0.5       &  17.6471  &  50       &       30 &        150 \\\\\n",
       "     6 &     5 &    22 & 0.147059  &   0.647059  &  14.7059  &  64.7059  &       30 &        180 \\\\\n",
       "     7 &     6 &    28 & 0.176471  &   0.823529  &  17.6471  &  82.3529  &       42 &        294 \\\\\n",
       "     8 &     3 &    31 & 0.0882353 &   0.911765  &   8.82353 &  91.1765  &       24 &        192 \\\\\n",
       "     9 &     2 &    33 & 0.0588235 &   0.970588  &   5.88235 &  97.0588  &       18 &        162 \\\\\n",
       "    10 &     1 &    34 & 0.0294118 &   1         &   2.94118 & 100       &       10 &        100 \\\\\n",
       "   nan &    34 &   nan & 1         & nan         & 100       & nan       &      180 &       1158 \\\\\n",
       "\\hline\n",
       "\\end{tabular}$\\\\ \\includegraphics[width=1\\columnwidth]{diagrama0} \\\\ $\\left\\{ Me : 5.5, \\  Mo : \\left( [5], \\  [6]\\right), \\  media : 5.29\\right\\}$ \\\\$\\left\\{ D4 : 5.0, \\  P70 : 7.0, \\  Q1 : 4.0, \\  Q3 : 7.0\\right\\}$ \\\\$\\left\\{ C.V : 0.46, \\  desv.tip : 2.46, \\  rango : 10, \\  var : 6.03\\right\\}$"
      ],
      "text/plain": [
       "<IPython.core.display.Markdown object>"
      ]
     },
     "metadata": {},
     "output_type": "display_data"
    },
    {
     "name": "stdout",
     "output_type": "stream",
     "text": [
      "enunciado_latex: Las calificaciones de un grupo de 34 alumnos han sido: 9 6 5 0 1 5 7 9 10 7 5 1 2 5 7 6 3 4 6 8 8 6 4 4 6 5 3 5 7 7 8 7 2 2. Realiza una tabla de frecuencias. Realiza un diagrama de barras. Calcular los parámetros de centralización. Calcular los parámetros de posición P70, Q1, Q3, D4. Calcular los parámetros de dispersión\n",
      "solucion_latex: $\\begin{tabular}{rrrrrrrrr}\n",
      "\\hline\n",
      "   x\\_i &   f\\_i &   F\\_i &       h\\_i &         H\\_i &       \\%\\_i &      \\%A\\_i &   x\\_if\\_i &   x\\^{}2\\_if\\_i \\\\\n",
      "\\hline\n",
      "     0 &     1 &     1 & 0.0294118 &   0.0294118 &   2.94118 &   2.94118 &        0 &          0 \\\\\n",
      "     1 &     2 &     3 & 0.0588235 &   0.0882353 &   5.88235 &   8.82353 &        2 &          2 \\\\\n",
      "     2 &     3 &     6 & 0.0882353 &   0.176471  &   8.82353 &  17.6471  &        6 &         12 \\\\\n",
      "     3 &     2 &     8 & 0.0588235 &   0.235294  &   5.88235 &  23.5294  &        6 &         18 \\\\\n",
      "     4 &     3 &    11 & 0.0882353 &   0.323529  &   8.82353 &  32.3529  &       12 &         48 \\\\\n",
      "     5 &     6 &    17 & 0.176471  &   0.5       &  17.6471  &  50       &       30 &        150 \\\\\n",
      "     6 &     5 &    22 & 0.147059  &   0.647059  &  14.7059  &  64.7059  &       30 &        180 \\\\\n",
      "     7 &     6 &    28 & 0.176471  &   0.823529  &  17.6471  &  82.3529  &       42 &        294 \\\\\n",
      "     8 &     3 &    31 & 0.0882353 &   0.911765  &   8.82353 &  91.1765  &       24 &        192 \\\\\n",
      "     9 &     2 &    33 & 0.0588235 &   0.970588  &   5.88235 &  97.0588  &       18 &        162 \\\\\n",
      "    10 &     1 &    34 & 0.0294118 &   1         &   2.94118 & 100       &       10 &        100 \\\\\n",
      "   nan &    34 &   nan & 1         & nan         & 100       & nan       &      180 &       1158 \\\\\n",
      "\\hline\n",
      "\\end{tabular}$\\\\ \\includegraphics[width=1\\columnwidth]{diagrama0} \\\\ $\\left\\{ Me : 5.5, \\  Mo : \\left( [5], \\  [6]\\right), \\  media : 5.29\\right\\}$ \\\\$\\left\\{ D4 : 5.0, \\  P70 : 7.0, \\  Q1 : 4.0, \\  Q3 : 7.0\\right\\}$ \\\\$\\left\\{ C.V : 0.46, \\  desv.tip : 2.46, \\  rango : 10, \\  var : 6.03\\right\\}$\n"
     ]
    }
   ],
   "source": [
    "lista_problemas = [\n",
    "                  ['p089e01','Las calificaciones de un grupo de 34 alumnos han sido: ',r\"9 6 5 0 1 5 7 9 10 7 5 1 2 5 7 6 3 4 6 8 8 6 4 4 6 5 3 5 7 7 8 7 2 2\"], \n",
    "                                    ]\n",
    "for i,p in enumerate(lista_problemas):\n",
    "    texto_ejercicio, enunciado_latex, enunciado, solucion, tabla, n_ejercicio = analisis_discreto(texto_ejercicio=p[1], datos=texto_a_datos(p[2]), n_ejercicio=str(i))\n",
    "    mostrar_ejercicio(enunciado,solucion)\n",
    "#     datos = np.loadtxt(p[2].split())\n",
    "#     datos = datos.astype(int)\n",
    "#     display(datos)\n",
    "#     plt.boxplot(datos, vert=False)"
   ]
  },
  {
   "cell_type": "code",
   "execution_count": 20,
   "metadata": {},
   "outputs": [
    {
     "data": {
      "text/plain": [
       "array([ 9,  6,  5,  0,  1,  5,  7,  9, 10,  7,  5,  1,  2,  5,  7,  6,  3,\n",
       "        4,  6,  8,  8,  6,  4,  4,  6,  5,  3,  5,  7,  7,  8,  7,  2,  2])"
      ]
     },
     "metadata": {},
     "output_type": "display_data"
    },
    {
     "data": {
      "text/plain": [
       "array([10, 15, 11, 11, 14, 14, 11, 14, 17, 11, 17, 15, 10, 16, 12, 12, 13,\n",
       "       16, 13, 16, 18, 12, 18, 16])"
      ]
     },
     "metadata": {},
     "output_type": "display_data"
    },
    {
     "data": {
      "text/plain": [
       "array([174, 157, 168, 166, 169, 168, 173, 184, 176, 171, 172, 168, 167,\n",
       "       162, 162, 163, 166, 166, 167, 167, 174, 159, 170, 172, 173, 164,\n",
       "       161, 163, 176, 177])"
      ]
     },
     "metadata": {},
     "output_type": "display_data"
    },
    {
     "data": {
      "text/plain": [
       "array([16, 11, 17, 12, 10,  5,  1,  8, 10, 14, 15, 20, 10,  3,  8, 10,  2,\n",
       "        5, 12,  6, 16,  7,  6, 16, 10,  3,  3,  9,  4, 12])"
      ]
     },
     "metadata": {},
     "output_type": "display_data"
    },
    {
     "data": {
      "text/plain": [
       "array([4, 2, 6, 8, 3, 4, 3, 5, 7, 1, 3, 4, 5, 7, 2, 2, 1, 3, 4, 5])"
      ]
     },
     "metadata": {},
     "output_type": "display_data"
    }
   ],
   "source": [
    "lista_problemas = [\n",
    "                  ['p089e01','Las calificaciones de un grupo de 34 alumnos han sido: ',r\"9 6 5 0 1 5 7 9 10 7 5 1 2 5 7 6 3 4 6 8 8 6 4 4 6 5 3 5 7 7 8 7 2 2\"],\n",
    "                  ['p089e03','Estos datos reflejan el tiempo, en minutos, que tardan en llegar a su centro escolar varios alumnos. ',r\"10 15 11 11 14 14 11 14 17 11 17 15 10 16 12 12 13 16 13 16 18 12 18 16\"],\n",
    "                  ['p089e04','La altura en cm de 30 alumnos de un curso son:',r\"\"\"174 157 168 166 169 168 173 184 176 171 172 168 \n",
    "                  167 162 162 163 166 166 167 167 \n",
    "                  174 159 170 172 173 164 161 163 176 177\"\"\"],\n",
    "                  ['p089e02', \"\"\"En un grupo de personas de 1º de Bachillerato hemos preguntado por el número medio de días que\n",
    "                    practican deporte al mes. Las respuestas han sido las siguientes:\"\"\",\n",
    "                  \"\"\"16 11 17 12 10 5 1 8 10 14 15 20 10 3 8 10 2 5 12 6 16 7 6 16 10 3 3 9 4 12\"\"\"],\n",
    "                  ['autoevaluacion1',\"\"\"Se realiza una encuesta a un grupo de 20 personas acerca del número \n",
    "                  de veces que acuden al cine a lo largo de un año, obteniéndose los siguientes resultados:\"\"\",\n",
    "                  r\"\"\"4 2 6 8 3 4 3 5 7 1 3 4 5 7 2 2 1 3 4 5\"\"\"]  \n",
    "                                    ]\n",
    "for i,p in enumerate(lista_problemas):\n",
    "    texto_ejercicio, enunciado_latex, enunciado, solucion, tabla, n_ejercicio = analisis_discreto(texto_ejercicio=p[1], str_datos=p[2], n_ejercicio=p[0])\n",
    "\n",
    "\n"
   ]
  },
  {
   "cell_type": "code",
   "execution_count": 4,
   "metadata": {},
   "outputs": [],
   "source": [
    "import numpy as np\n",
    "import matplotlib.pyplot as plt\n",
    "\n",
    "%matplotlib inline"
   ]
  },
  {
   "cell_type": "code",
   "execution_count": 5,
   "metadata": {},
   "outputs": [],
   "source": [
    "# Funciones\n",
    "\n",
    "def dibujar_ejes(size=10) :\n",
    "#     xs = [0, 2, -3, -1.5]\n",
    "#     ys = [0, 3, 1, -2.5]\n",
    "#     colors = ['m', 'g', 'r', 'b']\n",
    "\n",
    "    # Select length of axes and the space between tick labels\n",
    "    xmin, xmax, ymin, ymax = -size, size , -size, size\n",
    "    ticks_frequency = 1\n",
    "    \n",
    "\n",
    "    # Plot points\n",
    "    fig, ax = plt.subplots(figsize=(10, 10))\n",
    "#     ax.scatter(xs, ys, c=colors)\n",
    "#     # Draw lines connecting points to axes\n",
    "#     for x, y, c in zip(xs, ys, colors):\n",
    "#         ax.plot([x, x], [0, y], c=c, ls='--', lw=1.5, alpha=0.5)\n",
    "#         ax.plot([0, x], [y, y], c=c, ls='--', lw=1.5, alpha=0.5)\n",
    "\n",
    "    # Set identical scales for both axes\n",
    "    ax.set(xlim=(xmin-1, xmax+1), ylim=(ymin-1, ymax+1), aspect='equal')\n",
    "\n",
    "    # Set bottom and left spines as x and y axes of coordinate system\n",
    "    ax.spines['bottom'].set_position('zero')\n",
    "    ax.spines['left'].set_position('zero')\n",
    "\n",
    "    # Remove top and right spines\n",
    "    ax.spines['top'].set_visible(False)\n",
    "    ax.spines['right'].set_visible(False)\n",
    "\n",
    "    # Create 'x' and 'y' labels placed at the end of the axes\n",
    "    ax.set_xlabel('x', size=14, labelpad=-24, x=1.03)\n",
    "    ax.set_ylabel('y', size=14, labelpad=-21, y=1.02, rotation=0)\n",
    "\n",
    "    # Create custom major ticks to determine position of tick labels\n",
    "    x_ticks = np.arange(xmin, xmax+1, ticks_frequency)\n",
    "    y_ticks = np.arange(ymin, ymax+1, ticks_frequency)\n",
    "    ax.set_xticks(x_ticks[x_ticks != 0])\n",
    "    ax.set_yticks(y_ticks[y_ticks != 0])\n",
    "\n",
    "    # Create minor ticks placed at each integer to enable drawing of minor grid\n",
    "    # lines: note that this has no effect in this example with ticks_frequency=1\n",
    "    ax.set_xticks(np.arange(xmin, xmax+1), minor=True)\n",
    "    ax.set_yticks(np.arange(ymin, ymax+1), minor=True)\n",
    "\n",
    "    # Draw major and minor grid lines\n",
    "    ax.grid(which='both', color='grey', linewidth=1, linestyle='-', alpha=0.2)\n",
    "\n",
    "    return fig, ax\n",
    "    \n",
    "\n",
    "\n",
    "def añadir_vectores(X,Y,U,V,T,fig,ax, clr='red') :\n",
    "#    puedes pasar listas o enteros. (X,Y) punto de origen, (u,v) vector\n",
    "    ax.quiver(X,Y,U,V, angles='xy', scale_units='xy', scale=1, width=0.004, headwidth=3., headlength=4., color=clr)\n",
    "    if type(X) == list :\n",
    "        for i in range(len(X)):\n",
    "            plt.text(X[i]+U[i]/2+0.75,Y[i]+V[i]/2-0.75,r\"$\\overrightarrow{\"+T[i]+r\"}$\",c=clr)\n",
    "    else :\n",
    "        plt.text(X+U/2+0.75,Y+V/2-0.75,r\"$\\overrightarrow{\"+T+r\"}$\",c=clr)\n",
    "#     plt.show()\n",
    "#     fig.savefig(\"a.png\")\n",
    "    \n",
    "\n"
   ]
  },
  {
   "cell_type": "code",
   "execution_count": 6,
   "metadata": {},
   "outputs": [
    {
     "data": {
      "image/png": "[encoded data removed]",
      "text/plain": [
       "<Figure size 720x720 with 1 Axes>"
      ]
     },
     "metadata": {
      "needs_background": "light"
     },
     "output_type": "display_data"
    }
   ],
   "source": [
    "# Ejemplo de uso\n",
    "\n",
    "fig, ax =dibujar_ejes(20)    \n",
    "\n",
    "# datos en listas\n",
    "X,Y,U,V,T = [-1,-5],[6,1],[1,8],[-4,2],['u','v']   \n",
    "añadir_vectores(X,Y,U,V,T,fig,ax)\n",
    "añadir_vectores([10],[10],[-5],[8],['s'],fig,ax)\n",
    "# datos en enteros\n",
    "añadir_vectores(-10,10,3,2,'t',fig,ax,'b')\n",
    "plt.show()"
   ]
  },
  {
   "cell_type": "code",
   "execution_count": 7,
   "metadata": {},
   "outputs": [
    {
     "data": {
      "text/markdown": [
       "**Representa y calcula las coordenadas de $\\overrightarrow{u}+\\overrightarrow{v}$**"
      ],
      "text/plain": [
       "<IPython.core.display.Markdown object>"
      ]
     },
     "metadata": {},
     "output_type": "display_data"
    },
    {
     "data": {
      "text/plain": [
       "'u'"
      ]
     },
     "metadata": {},
     "output_type": "display_data"
    },
    {
     "data": {
      "image/png": "[encoded data removed]",
      "text/latex": [
       "$\\displaystyle Point2D\\left(9, -4\\right)$"
      ],
      "text/plain": [
       "Point2D(9, -4)"
      ]
     },
     "metadata": {},
     "output_type": "display_data"
    },
    {
     "data": {
      "image/png": "[encoded data removed]",
      "text/plain": [
       "<Figure size 720x720 with 1 Axes>"
      ]
     },
     "metadata": {
      "needs_background": "light"
     },
     "output_type": "display_data"
    }
   ],
   "source": [
    "# Representar y calcular vectores suma\n",
    "\n",
    "texto_ejercicio = r'Representa y calcula las coordenadas de $\\overrightarrow{u}+\\overrightarrow{v}$'\n",
    "\n",
    "display(md(\"**\"+texto_ejercicio+\"**\"))\n",
    "\n",
    "datos = [       [[1,2,3,4, 'u'],[-10,-5,6,-8, 'v']],                    \n",
    "    \n",
    "                    ]\n",
    "\n",
    "\n",
    "for d in datos :\n",
    "    display(d[0][4])\n",
    "    fig, ax =dibujar_ejes(20)\n",
    "    for v in d:\n",
    "        X, Y, U, V, T = v\n",
    "        añadir_vectores(X, Y, U, V, T,fig,ax,'b')\n",
    "    sol=[x + y for x, y in zip(d[0],d[1])][-3:-1]\n",
    "    U,V=sol\n",
    "    añadir_vectores(0, 0, U, V, 'u+v',fig,ax,'r')\n",
    "    display(Point(sol))\n",
    "        \n",
    "    \n",
    "#     p1.save('sistema_ine_ex{}.png'.format(j))\n",
    "#     p1.show()\n",
    "#     mostrar_ejercicio(r\"$\"+sist_latex+r\"$\",r\"\"\"\\scalebox{.99}{\\includegraphics[width=1\\columnwidth]{sistema_ine_ex\"\"\"+latex(j)+r\"\"\".png}}\"\"\")\n",
    "#     lista.append([r\"$\"+sist_latex+r\"$\",r\"\"\"\\scalebox{.99}{\\includegraphics[width=1\\columnwidth]{sistema_ine_ex\"\"\"+latex(j)+r\"\"\".png}}\"\"\"])\n",
    "    \n",
    "# print(latex_exam('Resuelve el siguiente sistema de inecuaciones con dos incógnitas:',lista))"
   ]
  },
  {
   "cell_type": "code",
   "execution_count": 8,
   "metadata": {},
   "outputs": [
    {
     "data": {
      "text/markdown": [
       "**Representa y calcula las coordenadas de las siguientes combinaciones de $\\overrightarrow{u}$ y $\\overrightarrow{v}$: **"
      ],
      "text/plain": [
       "<IPython.core.display.Markdown object>"
      ]
     },
     "metadata": {},
     "output_type": "display_data"
    },
    {
     "data": {
      "text/plain": [
       "'$\\\\overrightarrow{u} + \\\\overrightarrow{v}$, $\\\\overrightarrow{u} + 2 \\\\overrightarrow{v}$, $- 2 \\\\overrightarrow{u}$. Siendo $\\\\overrightarrow{u}$ y $\\\\overrightarrow{v}$: \\\\\\\\\\\\scalebox{.65}{\\\\includegraphics[width=1\\\\columnwidth]{comb_lineal_0.png}} \\\\\\\\ '"
      ]
     },
     "metadata": {},
     "output_type": "display_data"
    },
    {
     "data": {
      "image/png": "[encoded data removed]",
      "text/latex": [
       "$\\displaystyle Point2D\\left(9, -4\\right)$"
      ],
      "text/plain": [
       "Point2D(9, -4)"
      ]
     },
     "metadata": {},
     "output_type": "display_data"
    },
    {
     "data": {
      "image/png": "[encoded data removed]",
      "text/latex": [
       "$\\displaystyle Point2D\\left(15, -12\\right)$"
      ],
      "text/plain": [
       "Point2D(15, -12)"
      ]
     },
     "metadata": {},
     "output_type": "display_data"
    },
    {
     "data": {
      "image/png": "[encoded data removed]",
      "text/latex": [
       "$\\displaystyle Point2D\\left(-6, -8\\right)$"
      ],
      "text/plain": [
       "Point2D(-6, -8)"
      ]
     },
     "metadata": {},
     "output_type": "display_data"
    },
    {
     "data": {
      "text/markdown": [
       "#### Ejercicio:"
      ],
      "text/plain": [
       "<IPython.core.display.Markdown object>"
      ]
     },
     "metadata": {},
     "output_type": "display_data"
    },
    {
     "data": {
      "text/markdown": [
       "$\\overrightarrow{u} + \\overrightarrow{v}$, $\\overrightarrow{u} + 2 \\overrightarrow{v}$, $- 2 \\overrightarrow{u}$. Siendo $\\overrightarrow{u}$ y $\\overrightarrow{v}$: \\\\\\scalebox{.65}{\\includegraphics[width=1\\columnwidth]{comb_lineal_0.png}} \\\\  $\\to$ \\scalebox{.65}{\\includegraphics[width=1\\columnwidth]{comb_lineal_sol_0.png}}\\\\ $Point2D\\left(9, -4\\right)$, $Point2D\\left(15, -12\\right)$, $Point2D\\left(-6, -8\\right)$"
      ],
      "text/plain": [
       "<IPython.core.display.Markdown object>"
      ]
     },
     "metadata": {},
     "output_type": "display_data"
    },
    {
     "name": "stdout",
     "output_type": "stream",
     "text": [
      "enunciado_latex: $\\overrightarrow{u} + \\overrightarrow{v}$, $\\overrightarrow{u} + 2 \\overrightarrow{v}$, $- 2 \\overrightarrow{u}$. Siendo $\\overrightarrow{u}$ y $\\overrightarrow{v}$: \\\\\\scalebox{.65}{\\includegraphics[width=1\\columnwidth]{comb_lineal_0.png}} \\\\ \n",
      "solucion_latex: \\scalebox{.65}{\\includegraphics[width=1\\columnwidth]{comb_lineal_sol_0.png}}\\\\ $Point2D\\left(9, -4\\right)$, $Point2D\\left(15, -12\\right)$, $Point2D\\left(-6, -8\\right)$\n"
     ]
    },
    {
     "data": {
      "text/plain": [
       "'$\\\\overrightarrow{u} + \\\\overrightarrow{v}$, $\\\\overrightarrow{u} - \\\\overrightarrow{v}$, $\\\\overrightarrow{u} + 2 \\\\overrightarrow{v}$, $2 \\\\overrightarrow{u} - \\\\overrightarrow{v}$, $- 2 \\\\overrightarrow{u}$. Siendo $\\\\overrightarrow{u}$ y $\\\\overrightarrow{v}$: \\\\\\\\\\\\scalebox{.65}{\\\\includegraphics[width=1\\\\columnwidth]{comb_lineal_1.png}} \\\\\\\\ '"
      ]
     },
     "metadata": {},
     "output_type": "display_data"
    },
    {
     "data": {
      "image/png": "[encoded data removed]",
      "text/latex": [
       "$\\displaystyle Point2D\\left(1, 7\\right)$"
      ],
      "text/plain": [
       "Point2D(1, 7)"
      ]
     },
     "metadata": {},
     "output_type": "display_data"
    },
    {
     "data": {
      "image/png": "[encoded data removed]",
      "text/latex": [
       "$\\displaystyle Point2D\\left(-7, 1\\right)$"
      ],
      "text/plain": [
       "Point2D(-7, 1)"
      ]
     },
     "metadata": {},
     "output_type": "display_data"
    },
    {
     "data": {
      "image/png": "[encoded data removed]",
      "text/latex": [
       "$\\displaystyle Point2D\\left(5, 10\\right)$"
      ],
      "text/plain": [
       "Point2D(5, 10)"
      ]
     },
     "metadata": {},
     "output_type": "display_data"
    },
    {
     "data": {
      "image/png": "[encoded data removed]",
      "text/latex": [
       "$\\displaystyle Point2D\\left(-10, 5\\right)$"
      ],
      "text/plain": [
       "Point2D(-10, 5)"
      ]
     },
     "metadata": {},
     "output_type": "display_data"
    },
    {
     "data": {
      "image/png": "[encoded data removed]",
      "text/latex": [
       "$\\displaystyle Point2D\\left(6, -8\\right)$"
      ],
      "text/plain": [
       "Point2D(6, -8)"
      ]
     },
     "metadata": {},
     "output_type": "display_data"
    },
    {
     "data": {
      "text/markdown": [
       "#### Ejercicio:"
      ],
      "text/plain": [
       "<IPython.core.display.Markdown object>"
      ]
     },
     "metadata": {},
     "output_type": "display_data"
    },
    {
     "data": {
      "text/markdown": [
       "$\\overrightarrow{u} + \\overrightarrow{v}$, $\\overrightarrow{u} - \\overrightarrow{v}$, $\\overrightarrow{u} + 2 \\overrightarrow{v}$, $2 \\overrightarrow{u} - \\overrightarrow{v}$, $- 2 \\overrightarrow{u}$. Siendo $\\overrightarrow{u}$ y $\\overrightarrow{v}$: \\\\\\scalebox{.65}{\\includegraphics[width=1\\columnwidth]{comb_lineal_1.png}} \\\\  $\\to$ \\scalebox{.65}{\\includegraphics[width=1\\columnwidth]{comb_lineal_sol_1.png}}\\\\ $Point2D\\left(1, 7\\right)$, $Point2D\\left(-7, 1\\right)$, $Point2D\\left(5, 10\\right)$, $Point2D\\left(-10, 5\\right)$, $Point2D\\left(6, -8\\right)$"
      ],
      "text/plain": [
       "<IPython.core.display.Markdown object>"
      ]
     },
     "metadata": {},
     "output_type": "display_data"
    },
    {
     "name": "stdout",
     "output_type": "stream",
     "text": [
      "enunciado_latex: $\\overrightarrow{u} + \\overrightarrow{v}$, $\\overrightarrow{u} - \\overrightarrow{v}$, $\\overrightarrow{u} + 2 \\overrightarrow{v}$, $2 \\overrightarrow{u} - \\overrightarrow{v}$, $- 2 \\overrightarrow{u}$. Siendo $\\overrightarrow{u}$ y $\\overrightarrow{v}$: \\\\\\scalebox{.65}{\\includegraphics[width=1\\columnwidth]{comb_lineal_1.png}} \\\\ \n",
      "solucion_latex: \\scalebox{.65}{\\includegraphics[width=1\\columnwidth]{comb_lineal_sol_1.png}}\\\\ $Point2D\\left(1, 7\\right)$, $Point2D\\left(-7, 1\\right)$, $Point2D\\left(5, 10\\right)$, $Point2D\\left(-10, 5\\right)$, $Point2D\\left(6, -8\\right)$\n",
      "\\question Representa y calcula las coordenadas de las siguientes combinaciones de $\\overrightarrow{u}$ y $\\overrightarrow{v}$: \\begin{parts} \\part[1] $\\overrightarrow{u} + \\overrightarrow{v}$, $\\overrightarrow{u} + 2 \\overrightarrow{v}$, $- 2 \\overrightarrow{u}$. Siendo $\\overrightarrow{u}$ y $\\overrightarrow{v}$: \\\\\\scalebox{.65}{\\includegraphics[width=1\\columnwidth]{comb_lineal_0.png}} \\\\ \\begin{solution} \\scalebox{.65}{\\includegraphics[width=1\\columnwidth]{comb_lineal_sol_0.png}}\\\\ $Point2D\\left(9, -4\\right)$, $Point2D\\left(15, -12\\right)$, $Point2D\\left(-6, -8\\right)$\\end{solution} \\part[1] $\\overrightarrow{u} + \\overrightarrow{v}$, $\\overrightarrow{u} - \\overrightarrow{v}$, $\\overrightarrow{u} + 2 \\overrightarrow{v}$, $2 \\overrightarrow{u} - \\overrightarrow{v}$, $- 2 \\overrightarrow{u}$. Siendo $\\overrightarrow{u}$ y $\\overrightarrow{v}$: \\\\\\scalebox{.65}{\\includegraphics[width=1\\columnwidth]{comb_lineal_1.png}} \\\\ \\begin{solution} \\scalebox{.65}{\\includegraphics[width=1\\columnwidth]{comb_lineal_sol_1.png}}\\\\ $Point2D\\left(1, 7\\right)$, $Point2D\\left(-7, 1\\right)$, $Point2D\\left(5, 10\\right)$, $Point2D\\left(-10, 5\\right)$, $Point2D\\left(6, -8\\right)$\\end{solution} \\end{parts} \n"
     ]
    },
    {
     "data": {
      "image/png": "[encoded data removed]",
      "text/plain": [
       "<Figure size 720x720 with 1 Axes>"
      ]
     },
     "metadata": {
      "needs_background": "light"
     },
     "output_type": "display_data"
    },
    {
     "data": {
      "image/png": "[encoded data removed]",
      "text/plain": [
       "<Figure size 720x720 with 1 Axes>"
      ]
     },
     "metadata": {
      "needs_background": "light"
     },
     "output_type": "display_data"
    }
   ],
   "source": [
    "# Representar y calcular vectores combinaciones lineales\n",
    "\n",
    "texto_ejercicio = r'Representa y calcula las coordenadas de las siguientes combinaciones de $\\overrightarrow{u}$ y $\\overrightarrow{v}$: '\n",
    "\n",
    "display(md(\"**\"+texto_ejercicio+\"**\"))\n",
    "\n",
    "datos = [       [[1,2,3,4, 'u'],[-10,-5,6,-8, 'v'],[(1,1),(1,2),(-2,0)]], \n",
    "         [[1,2,-3,4, 'u'],[-10,-5,4,3, 'v'],[(1,1),(1,-1),(1,2),(2,-1),(-2,0)]],   \n",
    "    \n",
    "                    ]\n",
    "question=texto_ejercicio\n",
    "parts=[]\n",
    "\n",
    "for n, d in enumerate(datos) :\n",
    "#     display(d[0][4])\n",
    "\n",
    "    fig, ax =dibujar_ejes(20)\n",
    "    for v in d[:-1]:\n",
    "        X, Y, U, V, T = v\n",
    "        añadir_vectores(X, Y, U, V, T,fig,ax,'b')\n",
    "    plt.savefig('../img/comb_lineal_'+latex(n)+'.png')\n",
    "#     sol=[x + y for x, y in zip(d[0],d[1])][-3:-1]\n",
    "#     U,V=sol\n",
    "#     añadir_vectores(0, 0, U, V, 'u+v',fig,ax,'r')\n",
    "\n",
    "    enun = \"$\"+r\"$, $\". join([latex(c[0]*x+c[1]*y).replace('x',r'\\overrightarrow{u}').replace('y',r'\\overrightarrow{v}') for c in d[-1]])+\"$\"\n",
    "    enun += r\". Siendo $\\overrightarrow{u}$ y $\\overrightarrow{v}$: \\\\\"\n",
    "    enun += r\"\\scalebox{.65}{\\includegraphics[width=1\\columnwidth]{comb_lineal_\"+latex(n)+r\".png}} \\\\ \"\n",
    "\n",
    "    display(enun)\n",
    "    puntos_solu=[]\n",
    "    for c in d[-1]:\n",
    "#         display([c[0]*x + c[1]*y for x, y in zip(d[0],d[1])][-3:-1])\n",
    "        U,V = [c[0]*x + c[1]*y for x, y in zip(d[0],d[1])][-3:-1]\n",
    "        añadir_vectores(0,0,U,V,latex(c[0]*x+c[1]*y).replace('x','u').replace('y','v'),fig,ax,'g')\n",
    "        display(Point(U,V))\n",
    "        puntos_solu.append(Point(U,V))\n",
    "    plt.savefig('../img/comb_lineal_sol_'+latex(n)+'.png')\n",
    "    sol = r\"\\scalebox{.65}{\\includegraphics[width=1\\columnwidth]{comb_lineal_sol_\"+latex(n)+r\".png}}\"\n",
    "    sol += r\"\\\\ $\"+\"$, $\".join(map(latex,puntos_solu))+\"$\"\n",
    "    mostrar_ejercicio(enun, sol) \n",
    "    parts.append([enun, sol])         \n",
    "\n",
    "print(latex_exam(question, parts))\n"
   ]
  },
  {
   "cell_type": "code",
   "execution_count": 9,
   "metadata": {},
   "outputs": [
    {
     "data": {
      "text/markdown": [
       "**Calcula el punto medio del segmento que une los puntos:**"
      ],
      "text/plain": [
       "<IPython.core.display.Markdown object>"
      ]
     },
     "metadata": {},
     "output_type": "display_data"
    },
    {
     "data": {
      "text/markdown": [
       "#### Ejercicio:"
      ],
      "text/plain": [
       "<IPython.core.display.Markdown object>"
      ]
     },
     "metadata": {},
     "output_type": "display_data"
    },
    {
     "data": {
      "text/markdown": [
       "$A\\left( -5, \\  1\\right) y \\ B\\left( 3, \\  7\\right)$  $\\to$ $M\\left( -1, \\  4\\right)$"
      ],
      "text/plain": [
       "<IPython.core.display.Markdown object>"
      ]
     },
     "metadata": {},
     "output_type": "display_data"
    },
    {
     "name": "stdout",
     "output_type": "stream",
     "text": [
      "enunciado_latex: $A\\left( -5, \\  1\\right) y \\ B\\left( 3, \\  7\\right)$ \n",
      "solucion_latex: $M\\left( -1, \\  4\\right)$\n"
     ]
    },
    {
     "data": {
      "text/markdown": [
       "#### Ejercicio:"
      ],
      "text/plain": [
       "<IPython.core.display.Markdown object>"
      ]
     },
     "metadata": {},
     "output_type": "display_data"
    },
    {
     "data": {
      "text/markdown": [
       "$A\\left( 4, \\  -1\\right) y \\ B\\left( -2, \\  -4\\right)$  $\\to$ $M\\left( 1, \\  - \\frac{5}{2}\\right)$"
      ],
      "text/plain": [
       "<IPython.core.display.Markdown object>"
      ]
     },
     "metadata": {},
     "output_type": "display_data"
    },
    {
     "name": "stdout",
     "output_type": "stream",
     "text": [
      "enunciado_latex: $A\\left( 4, \\  -1\\right) y \\ B\\left( -2, \\  -4\\right)$ \n",
      "solucion_latex: $M\\left( 1, \\  - \\frac{5}{2}\\right)$\n"
     ]
    },
    {
     "data": {
      "text/markdown": [
       "#### Ejercicio:"
      ],
      "text/plain": [
       "<IPython.core.display.Markdown object>"
      ]
     },
     "metadata": {},
     "output_type": "display_data"
    },
    {
     "data": {
      "text/markdown": [
       "$A\\left( 1, \\  -5\\right) y \\ B\\left( 5, \\  -3\\right)$  $\\to$ $M\\left( 3, \\  -4\\right)$"
      ],
      "text/plain": [
       "<IPython.core.display.Markdown object>"
      ]
     },
     "metadata": {},
     "output_type": "display_data"
    },
    {
     "name": "stdout",
     "output_type": "stream",
     "text": [
      "enunciado_latex: $A\\left( 1, \\  -5\\right) y \\ B\\left( 5, \\  -3\\right)$ \n",
      "solucion_latex: $M\\left( 3, \\  -4\\right)$\n",
      "\\question Calcula el punto medio del segmento que une los puntos:\\begin{parts} \\part[1] $A\\left( -5, \\  1\\right) y \\ B\\left( 3, \\  7\\right)$ \\begin{solution} $M\\left( -1, \\  4\\right)$\\end{solution} \\part[1] $A\\left( 4, \\  -1\\right) y \\ B\\left( -2, \\  -4\\right)$ \\begin{solution} $M\\left( 1, \\  - \\dfrac{5}{2}\\right)$\\end{solution} \\part[1] $A\\left( 1, \\  -5\\right) y \\ B\\left( 5, \\  -3\\right)$ \\begin{solution} $M\\left( 3, \\  -4\\right)$\\end{solution} \\end{parts} \n"
     ]
    }
   ],
   "source": [
    "# Calcular el punto medio\n",
    "\n",
    "texto_ejercicio = 'Calcula el punto medio del segmento que une los puntos:'\n",
    "display(md(\"**\"+texto_ejercicio+\"**\"))\n",
    "\n",
    "pre_enunciado_latex = [\n",
    "#     [(-5,0),(3,7)],\n",
    "    [(-5,1),(3,7)],\n",
    "    [(4,-1),(-2,-4)],\n",
    "    [(1,-5),(5,-3)],\n",
    "\n",
    "    \n",
    "                      ]\n",
    "question=texto_ejercicio\n",
    "parts=[]\n",
    "for i in pre_enunciado_latex :\n",
    "    enun = \"$A\"+latex(i[0])+\" y \\ B\"+latex(i[1])+\"$ \"\n",
    "#     enun = enun.replace(r'[',r'(').replace(r']',r')')\n",
    "    sol = \"$M\"+latex(list(Point(i[0]).midpoint(Point(i[1]))))+\"$\"\n",
    "    sol=sol.replace(r'[',r'(').replace(r']',r')')\n",
    "    mostrar_ejercicio(enun, sol) \n",
    "    parts.append([enun, sol])         \n",
    "\n",
    "print(latex_exam(question, parts).replace(r'\\frac',r'\\dfrac'))"
   ]
  },
  {
   "cell_type": "code",
   "execution_count": 10,
   "metadata": {},
   "outputs": [
    {
     "data": {
      "text/markdown": [
       "**Halla el valor de z para que los puntos A  , B    y C estén alineados. Siendo:**"
      ],
      "text/plain": [
       "<IPython.core.display.Markdown object>"
      ]
     },
     "metadata": {},
     "output_type": "display_data"
    },
    {
     "data": {
      "text/markdown": [
       "#### Ejercicio:"
      ],
      "text/plain": [
       "<IPython.core.display.Markdown object>"
      ]
     },
     "metadata": {},
     "output_type": "display_data"
    },
    {
     "data": {
      "text/markdown": [
       "$A\\left( 1, \\  -2\\right)$, $B \\left( 3, \\  1\\right)$ y $C\\left( 4, \\  z\\right)$  $\\to$ $Point2D\\left(2, 3\\right)\\parallel Point2D\\left(3, z + 2\\right) \\to z=\\left[ \\frac{5}{2}\\right]$"
      ],
      "text/plain": [
       "<IPython.core.display.Markdown object>"
      ]
     },
     "metadata": {},
     "output_type": "display_data"
    },
    {
     "name": "stdout",
     "output_type": "stream",
     "text": [
      "enunciado_latex: $A\\left( 1, \\  -2\\right)$, $B \\left( 3, \\  1\\right)$ y $C\\left( 4, \\  z\\right)$ \n",
      "solucion_latex: $Point2D\\left(2, 3\\right)\\parallel Point2D\\left(3, z + 2\\right) \\to z=\\left[ \\frac{5}{2}\\right]$\n"
     ]
    },
    {
     "data": {
      "text/markdown": [
       "#### Ejercicio:"
      ],
      "text/plain": [
       "<IPython.core.display.Markdown object>"
      ]
     },
     "metadata": {},
     "output_type": "display_data"
    },
    {
     "data": {
      "text/markdown": [
       "$A\\left( 2, \\  -4\\right)$, $B \\left( 5, \\  3\\right)$ y $C\\left( 6, \\  z\\right)$  $\\to$ $Point2D\\left(3, 7\\right)\\parallel Point2D\\left(4, z + 4\\right) \\to z=\\left[ \\frac{16}{3}\\right]$"
      ],
      "text/plain": [
       "<IPython.core.display.Markdown object>"
      ]
     },
     "metadata": {},
     "output_type": "display_data"
    },
    {
     "name": "stdout",
     "output_type": "stream",
     "text": [
      "enunciado_latex: $A\\left( 2, \\  -4\\right)$, $B \\left( 5, \\  3\\right)$ y $C\\left( 6, \\  z\\right)$ \n",
      "solucion_latex: $Point2D\\left(3, 7\\right)\\parallel Point2D\\left(4, z + 4\\right) \\to z=\\left[ \\frac{16}{3}\\right]$\n"
     ]
    },
    {
     "data": {
      "text/markdown": [
       "#### Ejercicio:"
      ],
      "text/plain": [
       "<IPython.core.display.Markdown object>"
      ]
     },
     "metadata": {},
     "output_type": "display_data"
    },
    {
     "data": {
      "text/markdown": [
       "$A\\left( 5, \\  4\\right)$, $B \\left( -5, \\  -2\\right)$ y $C\\left( 1, \\  z\\right)$  $\\to$ $Point2D\\left(-10, -6\\right)\\parallel Point2D\\left(-4, z - 4\\right) \\to z=\\left[ \\frac{8}{5}\\right]$"
      ],
      "text/plain": [
       "<IPython.core.display.Markdown object>"
      ]
     },
     "metadata": {},
     "output_type": "display_data"
    },
    {
     "name": "stdout",
     "output_type": "stream",
     "text": [
      "enunciado_latex: $A\\left( 5, \\  4\\right)$, $B \\left( -5, \\  -2\\right)$ y $C\\left( 1, \\  z\\right)$ \n",
      "solucion_latex: $Point2D\\left(-10, -6\\right)\\parallel Point2D\\left(-4, z - 4\\right) \\to z=\\left[ \\frac{8}{5}\\right]$\n",
      "\\question Halla el valor de z para que los puntos A  , B    y C estén alineados. Siendo:\\begin{parts} \\part[1] $A\\left( 1, \\  -2\\right)$, $B \\left( 3, \\  1\\right)$ y $C\\left( 4, \\  z\\right)$ \\begin{solution} $Point2D\\left(2, 3\\right)\\parallel Point2D\\left(3, z + 2\\right) \\to z=\\left[ \\frac{5}{2}\\right]$\\end{solution} \\part[1] $A\\left( 2, \\  -4\\right)$, $B \\left( 5, \\  3\\right)$ y $C\\left( 6, \\  z\\right)$ \\begin{solution} $Point2D\\left(3, 7\\right)\\parallel Point2D\\left(4, z + 4\\right) \\to z=\\left[ \\frac{16}{3}\\right]$\\end{solution} \\part[1] $A\\left( 5, \\  4\\right)$, $B \\left( -5, \\  -2\\right)$ y $C\\left( 1, \\  z\\right)$ \\begin{solution} $Point2D\\left(-10, -6\\right)\\parallel Point2D\\left(-4, z - 4\\right) \\to z=\\left[ \\frac{8}{5}\\right]$\\end{solution} \\end{parts} \n"
     ]
    }
   ],
   "source": [
    "# Calcular puntos alineados\n",
    "\n",
    "texto_ejercicio = 'Halla el valor de z para que los puntos A  , B    y C estén alineados. Siendo:'\n",
    "display(md(\"**\"+texto_ejercicio+\"**\"))\n",
    "\n",
    "pre_enunciado_latex = [\n",
    "#     [(1, -5), (3, 0) ,  (6,z)],\n",
    "    [(1, -2), (3, 1) ,  (4,z)],\n",
    "        [(2, -4), (5, 3) ,  (6,z)],\n",
    "            [(5, 4), (-5, -2) ,  (1,z)],\n",
    "                      ]\n",
    "question=texto_ejercicio\n",
    "parts=[]\n",
    "for i in pre_enunciado_latex :\n",
    "    enun = \"$A\"+latex(i[0])+\"$, $B \"+latex(i[1])+\"$ y $C\"+latex(i[2])+\"$ \"\n",
    "    A,B,C = map(Point,i)\n",
    "    u=B-A\n",
    "    v=C-A\n",
    "    s=solve(u[0]*v[1]-u[1]*v[0],z)\n",
    "    sol = \"$\"+latex(u)+r\"\\parallel \"+latex(v)+r\" \\to z=\"+latex(s)+\"$\"\n",
    "#     sol=enun\n",
    "    mostrar_ejercicio(enun, sol) \n",
    "    parts.append([enun, sol])         \n",
    "\n",
    "print(latex_exam(question, parts).replace(r'\\frac',r'\\frac'))"
   ]
  },
  {
   "cell_type": "code",
   "execution_count": 11,
   "metadata": {},
   "outputs": [
    {
     "data": {
      "text/markdown": [
       "**Calcula el punto simétrico:**"
      ],
      "text/plain": [
       "<IPython.core.display.Markdown object>"
      ]
     },
     "metadata": {},
     "output_type": "display_data"
    },
    {
     "data": {
      "text/markdown": [
       "#### Ejercicio:"
      ],
      "text/plain": [
       "<IPython.core.display.Markdown object>"
      ]
     },
     "metadata": {},
     "output_type": "display_data"
    },
    {
     "data": {
      "text/markdown": [
       "De $A\\left( 7, \\  6\\right)$ respecto  de  $M\\left( 2, \\  1\\right)$  $\\to$ $Point2D\\left(\\frac{x}{2} + \\frac{7}{2}, \\frac{y}{2} + 3\\right) = Point2D\\left(2, 1\\right)\\to A'\\left(-3,-4\\right)$"
      ],
      "text/plain": [
       "<IPython.core.display.Markdown object>"
      ]
     },
     "metadata": {},
     "output_type": "display_data"
    },
    {
     "name": "stdout",
     "output_type": "stream",
     "text": [
      "enunciado_latex: De $A\\left( 7, \\  6\\right)$ respecto  de  $M\\left( 2, \\  1\\right)$ \n",
      "solucion_latex: $Point2D\\left(\\frac{x}{2} + \\frac{7}{2}, \\frac{y}{2} + 3\\right) = Point2D\\left(2, 1\\right)\\to A'\\left(-3,-4\\right)$\n"
     ]
    },
    {
     "data": {
      "text/markdown": [
       "#### Ejercicio:"
      ],
      "text/plain": [
       "<IPython.core.display.Markdown object>"
      ]
     },
     "metadata": {},
     "output_type": "display_data"
    },
    {
     "data": {
      "text/markdown": [
       "De $A\\left( 5, \\  -3\\right)$ respecto  de  $M\\left( 1, \\  3\\right)$  $\\to$ $Point2D\\left(\\frac{x}{2} + \\frac{5}{2}, \\frac{y}{2} - \\frac{3}{2}\\right) = Point2D\\left(1, 3\\right)\\to A'\\left(-3,9\\right)$"
      ],
      "text/plain": [
       "<IPython.core.display.Markdown object>"
      ]
     },
     "metadata": {},
     "output_type": "display_data"
    },
    {
     "name": "stdout",
     "output_type": "stream",
     "text": [
      "enunciado_latex: De $A\\left( 5, \\  -3\\right)$ respecto  de  $M\\left( 1, \\  3\\right)$ \n",
      "solucion_latex: $Point2D\\left(\\frac{x}{2} + \\frac{5}{2}, \\frac{y}{2} - \\frac{3}{2}\\right) = Point2D\\left(1, 3\\right)\\to A'\\left(-3,9\\right)$\n"
     ]
    },
    {
     "data": {
      "text/markdown": [
       "#### Ejercicio:"
      ],
      "text/plain": [
       "<IPython.core.display.Markdown object>"
      ]
     },
     "metadata": {},
     "output_type": "display_data"
    },
    {
     "data": {
      "text/markdown": [
       "De $A\\left( 6, \\  -5\\right)$ respecto  de  $M\\left( -3, \\  2\\right)$  $\\to$ $Point2D\\left(\\frac{x}{2} + 3, \\frac{y}{2} - \\frac{5}{2}\\right) = Point2D\\left(-3, 2\\right)\\to A'\\left(-12,9\\right)$"
      ],
      "text/plain": [
       "<IPython.core.display.Markdown object>"
      ]
     },
     "metadata": {},
     "output_type": "display_data"
    },
    {
     "name": "stdout",
     "output_type": "stream",
     "text": [
      "enunciado_latex: De $A\\left( 6, \\  -5\\right)$ respecto  de  $M\\left( -3, \\  2\\right)$ \n",
      "solucion_latex: $Point2D\\left(\\frac{x}{2} + 3, \\frac{y}{2} - \\frac{5}{2}\\right) = Point2D\\left(-3, 2\\right)\\to A'\\left(-12,9\\right)$\n"
     ]
    },
    {
     "data": {
      "text/markdown": [
       "#### Ejercicio:"
      ],
      "text/plain": [
       "<IPython.core.display.Markdown object>"
      ]
     },
     "metadata": {},
     "output_type": "display_data"
    },
    {
     "data": {
      "text/markdown": [
       "De $A\\left( -6, \\  -2\\right)$ respecto  de  $M\\left( 4, \\  1\\right)$  $\\to$ $Point2D\\left(\\frac{x}{2} - 3, \\frac{y}{2} - 1\\right) = Point2D\\left(4, 1\\right)\\to A'\\left(14,4\\right)$"
      ],
      "text/plain": [
       "<IPython.core.display.Markdown object>"
      ]
     },
     "metadata": {},
     "output_type": "display_data"
    },
    {
     "name": "stdout",
     "output_type": "stream",
     "text": [
      "enunciado_latex: De $A\\left( -6, \\  -2\\right)$ respecto  de  $M\\left( 4, \\  1\\right)$ \n",
      "solucion_latex: $Point2D\\left(\\frac{x}{2} - 3, \\frac{y}{2} - 1\\right) = Point2D\\left(4, 1\\right)\\to A'\\left(14,4\\right)$\n",
      "\\question Calcula el punto simétrico:\\begin{parts} \\part[1] De $A\\left( 7, \\  6\\right)$ respecto  de  $M\\left( 2, \\  1\\right)$ \\begin{solution} $Point2D\\left(\\dfrac{x}{2} + \\dfrac{7}{2}, \\dfrac{y}{2} + 3\\right) = Point2D\\left(2, 1\\right)\\to A'\\left(-3,-4\\right)$\\end{solution} \\part[1] De $A\\left( 5, \\  -3\\right)$ respecto  de  $M\\left( 1, \\  3\\right)$ \\begin{solution} $Point2D\\left(\\dfrac{x}{2} + \\dfrac{5}{2}, \\dfrac{y}{2} - \\dfrac{3}{2}\\right) = Point2D\\left(1, 3\\right)\\to A'\\left(-3,9\\right)$\\end{solution} \\part[1] De $A\\left( 6, \\  -5\\right)$ respecto  de  $M\\left( -3, \\  2\\right)$ \\begin{solution} $Point2D\\left(\\dfrac{x}{2} + 3, \\dfrac{y}{2} - \\dfrac{5}{2}\\right) = Point2D\\left(-3, 2\\right)\\to A'\\left(-12,9\\right)$\\end{solution} \\part[1] De $A\\left( -6, \\  -2\\right)$ respecto  de  $M\\left( 4, \\  1\\right)$ \\begin{solution} $Point2D\\left(\\dfrac{x}{2} - 3, \\dfrac{y}{2} - 1\\right) = Point2D\\left(4, 1\\right)\\to A'\\left(14,4\\right)$\\end{solution} \\end{parts} \n"
     ]
    }
   ],
   "source": [
    "# Calcular el punto simétrico\n",
    "\n",
    "texto_ejercicio = 'Calcula el punto simétrico:'\n",
    "display(md(\"**\"+texto_ejercicio+\"**\"))\n",
    "\n",
    "pre_enunciado_latex = [\n",
    "#     [(-7,-15),(2,0)],\n",
    "    [(7,6),(2,1)],\n",
    "    [(5,-3),(1,3)],\n",
    "    [(6,-5),(-3,2)],\n",
    "    [(-6,-2),(4,1)],\n",
    "    \n",
    "                      ]\n",
    "question=texto_ejercicio\n",
    "parts=[]\n",
    "for i in pre_enunciado_latex :\n",
    "    enun = \"De $A\"+latex(i[0])+\"$ respecto  de  $M\"+latex(i[1])+\"$ \"\n",
    "#     enun = enun.replace(r'[',r'(').replace(r']',r')')\n",
    "    A,M = map(Point, i)\n",
    "    B=(x,y)\n",
    "    sol = \"$\"+latex(Eq(A.midpoint(B),M))+r\"\\to A'\\left(\"+\",\".join([latex(i[0]) for i in list(map(solve,list(A.midpoint(B)-M)))])+r\"\\right)$\"\n",
    "    sol=sol.replace(r'[',r'(').replace(r']',r')')\n",
    "    mostrar_ejercicio(enun, sol) \n",
    "    parts.append([enun, sol])         \n",
    "\n",
    "print(latex_exam(question, parts).replace(r'\\frac',r'\\dfrac'))"
   ]
  },
  {
   "cell_type": "code",
   "execution_count": 12,
   "metadata": {},
   "outputs": [
    {
     "data": {
      "text/markdown": [
       "**Halla las coordenadas del punto D, de modo que ABCD sea un paralelogramo siendo**"
      ],
      "text/plain": [
       "<IPython.core.display.Markdown object>"
      ]
     },
     "metadata": {},
     "output_type": "display_data"
    },
    {
     "data": {
      "text/markdown": [
       "#### Ejercicio:"
      ],
      "text/plain": [
       "<IPython.core.display.Markdown object>"
      ]
     },
     "metadata": {},
     "output_type": "display_data"
    },
    {
     "data": {
      "text/markdown": [
       "Siendo $A$, $B$ y $C$ respectivamente: $\\left( 2, \\  -3\\right) $, $\\left( 0, \\  1\\right) $, $\\left( 4, \\  3\\right)$ $\\to$ $\\overrightarrow{AB} = \\overrightarrow{DC} \\to Point2D\\left(-2, 4\\right) = Point2D\\left(4 - x, 3 - y\\right) \\to D\\left( 6, \\  -1\\right)$"
      ],
      "text/plain": [
       "<IPython.core.display.Markdown object>"
      ]
     },
     "metadata": {},
     "output_type": "display_data"
    },
    {
     "name": "stdout",
     "output_type": "stream",
     "text": [
      "enunciado_latex: Siendo $A$, $B$ y $C$ respectivamente: $\\left( 2, \\  -3\\right) $, $\\left( 0, \\  1\\right) $, $\\left( 4, \\  3\\right)$\n",
      "solucion_latex: $\\overrightarrow{AB} = \\overrightarrow{DC} \\to Point2D\\left(-2, 4\\right) = Point2D\\left(4 - x, 3 - y\\right) \\to D\\left( 6, \\  -1\\right)$\n"
     ]
    },
    {
     "data": {
      "text/markdown": [
       "#### Ejercicio:"
      ],
      "text/plain": [
       "<IPython.core.display.Markdown object>"
      ]
     },
     "metadata": {},
     "output_type": "display_data"
    },
    {
     "data": {
      "text/markdown": [
       "Siendo $A$, $B$ y $C$ respectivamente: $\\left( 1, \\  -1\\right) $, $\\left( 1, \\  1\\right) $, $\\left( 2, \\  3\\right)$ $\\to$ $\\overrightarrow{AB} = \\overrightarrow{DC} \\to Point2D\\left(0, 2\\right) = Point2D\\left(2 - x, 3 - y\\right) \\to D\\left( 2, \\  1\\right)$"
      ],
      "text/plain": [
       "<IPython.core.display.Markdown object>"
      ]
     },
     "metadata": {},
     "output_type": "display_data"
    },
    {
     "name": "stdout",
     "output_type": "stream",
     "text": [
      "enunciado_latex: Siendo $A$, $B$ y $C$ respectivamente: $\\left( 1, \\  -1\\right) $, $\\left( 1, \\  1\\right) $, $\\left( 2, \\  3\\right)$\n",
      "solucion_latex: $\\overrightarrow{AB} = \\overrightarrow{DC} \\to Point2D\\left(0, 2\\right) = Point2D\\left(2 - x, 3 - y\\right) \\to D\\left( 2, \\  1\\right)$\n"
     ]
    },
    {
     "data": {
      "text/markdown": [
       "#### Ejercicio:"
      ],
      "text/plain": [
       "<IPython.core.display.Markdown object>"
      ]
     },
     "metadata": {},
     "output_type": "display_data"
    },
    {
     "data": {
      "text/markdown": [
       "Siendo $A$, $B$ y $C$ respectivamente: $\\left( -2, \\  -3\\right) $, $\\left( -2, \\  2\\right) $, $\\left( 5, \\  4\\right)$ $\\to$ $\\overrightarrow{AB} = \\overrightarrow{DC} \\to Point2D\\left(0, 5\\right) = Point2D\\left(5 - x, 4 - y\\right) \\to D\\left( 5, \\  -1\\right)$"
      ],
      "text/plain": [
       "<IPython.core.display.Markdown object>"
      ]
     },
     "metadata": {},
     "output_type": "display_data"
    },
    {
     "name": "stdout",
     "output_type": "stream",
     "text": [
      "enunciado_latex: Siendo $A$, $B$ y $C$ respectivamente: $\\left( -2, \\  -3\\right) $, $\\left( -2, \\  2\\right) $, $\\left( 5, \\  4\\right)$\n",
      "solucion_latex: $\\overrightarrow{AB} = \\overrightarrow{DC} \\to Point2D\\left(0, 5\\right) = Point2D\\left(5 - x, 4 - y\\right) \\to D\\left( 5, \\  -1\\right)$\n",
      "\\question Halla las coordenadas del punto D, de modo que ABCD sea un paralelogramo siendo\\begin{parts} \\part[1] Siendo $A$, $B$ y $C$ respectivamente: $\\left( 2, \\  -3\\right) $, $\\left( 0, \\  1\\right) $, $\\left( 4, \\  3\\right)$\\begin{solution} $\\overrightarrow{AB} = \\overrightarrow{DC} \\to Point2D\\left(-2, 4\\right) = Point2D\\left(4 - x, 3 - y\\right) \\to D\\left( 6, \\  -1\\right)$\\end{solution} \\part[1] Siendo $A$, $B$ y $C$ respectivamente: $\\left( 1, \\  -1\\right) $, $\\left( 1, \\  1\\right) $, $\\left( 2, \\  3\\right)$\\begin{solution} $\\overrightarrow{AB} = \\overrightarrow{DC} \\to Point2D\\left(0, 2\\right) = Point2D\\left(2 - x, 3 - y\\right) \\to D\\left( 2, \\  1\\right)$\\end{solution} \\part[1] Siendo $A$, $B$ y $C$ respectivamente: $\\left( -2, \\  -3\\right) $, $\\left( -2, \\  2\\right) $, $\\left( 5, \\  4\\right)$\\begin{solution} $\\overrightarrow{AB} = \\overrightarrow{DC} \\to Point2D\\left(0, 5\\right) = Point2D\\left(5 - x, 4 - y\\right) \\to D\\left( 5, \\  -1\\right)$\\end{solution} \\end{parts} \n"
     ]
    }
   ],
   "source": [
    "# Calcular punto de paralelogramo\n",
    "\n",
    "texto_ejercicio = 'Halla las coordenadas del punto D, de modo que ABCD sea un paralelogramo siendo'\n",
    "display(md(\"**\"+texto_ejercicio+\"**\"))\n",
    "\n",
    "pre_enunciado_latex = [\n",
    "#     [(1, -1), (0, 2), (6, 5)],\n",
    "    [(2, -3), (0, 1), (4, 3)],\n",
    "    [(1, -1), (1, 1), (2, 3)],\n",
    "    [(-2, -3), (-2, 2), (5,4)],\n",
    "                      ]\n",
    "question=texto_ejercicio\n",
    "parts=[]\n",
    "for i in pre_enunciado_latex :\n",
    "    enun = \"Siendo $A$, $B$ y $C$ respectivamente: $\"+\" $, $\".join(map(latex,i))+\"$\"\n",
    "    A, B, C = map(Point,i)\n",
    "    D = Point(x,y)\n",
    "    sol=r\"$\\overrightarrow{AB} = \\overrightarrow{DC} \\to \"+latex(Eq(B-A, C-D))+r\" \\to D\"\n",
    "    sol += latex([i[0] for i in list(map(solve,list(B-A-C+D)))])+\"$\"\n",
    "    sol=sol.replace(r'[',r'(').replace(r']',r')')\n",
    "    mostrar_ejercicio(enun, sol) \n",
    "    parts.append([enun, sol])         \n",
    "\n",
    "print(latex_exam(question, parts).replace(r'\\frac',r'\\dfrac'))"
   ]
  },
  {
   "cell_type": "code",
   "execution_count": 22,
   "metadata": {},
   "outputs": [
    {
     "data": {
      "text/markdown": [
       "**Escribe las ecuaciones vectorial, paramétricas, en forma continua y explícita de la recta que:**"
      ],
      "text/plain": [
       "<IPython.core.display.Markdown object>"
      ]
     },
     "metadata": {},
     "output_type": "display_data"
    },
    {
     "data": {
      "text/markdown": [
       "#### Ejercicio:"
      ],
      "text/plain": [
       "<IPython.core.display.Markdown object>"
      ]
     },
     "metadata": {},
     "output_type": "display_data"
    },
    {
     "data": {
      "text/markdown": [
       "Pasa por el punto $P$ y tiene por vector dirección $\\overrightarrow{d}$ respectivamente: $\\left( 3, \\  -1\\right) $, $\\left( -2, \\  5\\right)$ $\\to$ Solución orientativa: $Point2D\\left(x, y\\right) = Point2D\\left(3 - 2 t, 5 t - 1\\right) \\to - 5 x - 2 y + 13 = 0 \\to y = \\frac{13}{2} - \\frac{5 x}{2}$"
      ],
      "text/plain": [
       "<IPython.core.display.Markdown object>"
      ]
     },
     "metadata": {},
     "output_type": "display_data"
    },
    {
     "name": "stdout",
     "output_type": "stream",
     "text": [
      "enunciado_latex: Pasa por el punto $P$ y tiene por vector dirección $\\overrightarrow{d}$ respectivamente: $\\left( 3, \\  -1\\right) $, $\\left( -2, \\  5\\right)$\n",
      "solucion_latex: Solución orientativa: $Point2D\\left(x, y\\right) = Point2D\\left(3 - 2 t, 5 t - 1\\right) \\to - 5 x - 2 y + 13 = 0 \\to y = \\frac{13}{2} - \\frac{5 x}{2}$\n"
     ]
    },
    {
     "data": {
      "text/markdown": [
       "#### Ejercicio:"
      ],
      "text/plain": [
       "<IPython.core.display.Markdown object>"
      ]
     },
     "metadata": {},
     "output_type": "display_data"
    },
    {
     "data": {
      "text/markdown": [
       "Pasa por el punto $P$ y tiene por vector dirección $\\overrightarrow{d}$ respectivamente: $\\left( 1, \\  -3\\right) $, $\\left( 3, \\  -2\\right)$ $\\to$ Solución orientativa: $Point2D\\left(x, y\\right) = Point2D\\left(3 t + 1, - 2 t - 3\\right) \\to 2 x + 3 y + 7 = 0 \\to y = - \\frac{2 x}{3} - \\frac{7}{3}$"
      ],
      "text/plain": [
       "<IPython.core.display.Markdown object>"
      ]
     },
     "metadata": {},
     "output_type": "display_data"
    },
    {
     "name": "stdout",
     "output_type": "stream",
     "text": [
      "enunciado_latex: Pasa por el punto $P$ y tiene por vector dirección $\\overrightarrow{d}$ respectivamente: $\\left( 1, \\  -3\\right) $, $\\left( 3, \\  -2\\right)$\n",
      "solucion_latex: Solución orientativa: $Point2D\\left(x, y\\right) = Point2D\\left(3 t + 1, - 2 t - 3\\right) \\to 2 x + 3 y + 7 = 0 \\to y = - \\frac{2 x}{3} - \\frac{7}{3}$\n"
     ]
    },
    {
     "data": {
      "text/markdown": [
       "#### Ejercicio:"
      ],
      "text/plain": [
       "<IPython.core.display.Markdown object>"
      ]
     },
     "metadata": {},
     "output_type": "display_data"
    },
    {
     "data": {
      "text/markdown": [
       "Pasa por el punto $P$ y tiene por vector dirección $\\overrightarrow{d}$ respectivamente: $\\left( 2, \\  3\\right) $, $\\left( -3, \\  5\\right)$ $\\to$ Solución orientativa: $Point2D\\left(x, y\\right) = Point2D\\left(2 - 3 t, 5 t + 3\\right) \\to - 5 x - 3 y + 19 = 0 \\to y = \\frac{19}{3} - \\frac{5 x}{3}$"
      ],
      "text/plain": [
       "<IPython.core.display.Markdown object>"
      ]
     },
     "metadata": {},
     "output_type": "display_data"
    },
    {
     "name": "stdout",
     "output_type": "stream",
     "text": [
      "enunciado_latex: Pasa por el punto $P$ y tiene por vector dirección $\\overrightarrow{d}$ respectivamente: $\\left( 2, \\  3\\right) $, $\\left( -3, \\  5\\right)$\n",
      "solucion_latex: Solución orientativa: $Point2D\\left(x, y\\right) = Point2D\\left(2 - 3 t, 5 t + 3\\right) \\to - 5 x - 3 y + 19 = 0 \\to y = \\frac{19}{3} - \\frac{5 x}{3}$\n",
      "\\question Escribe las ecuaciones vectorial, paramétricas, en forma continua y explícita de la recta que:\\begin{parts} \\part[1] Pasa por el punto $P$ y tiene por vector dirección $\\overrightarrow{d}$ respectivamente: $\\left( 3, \\  -1\\right) $, $\\left( -2, \\  5\\right)$\\begin{solution} Solución orientativa: $Point2D\\left(x, y\\right) = Point2D\\left(3 - 2 t, 5 t - 1\\right) \\to - 5 x - 2 y + 13 = 0 \\to y = \\dfrac{13}{2} - \\dfrac{5 x}{2}$\\end{solution} \\part[1] Pasa por el punto $P$ y tiene por vector dirección $\\overrightarrow{d}$ respectivamente: $\\left( 1, \\  -3\\right) $, $\\left( 3, \\  -2\\right)$\\begin{solution} Solución orientativa: $Point2D\\left(x, y\\right) = Point2D\\left(3 t + 1, - 2 t - 3\\right) \\to 2 x + 3 y + 7 = 0 \\to y = - \\dfrac{2 x}{3} - \\dfrac{7}{3}$\\end{solution} \\part[1] Pasa por el punto $P$ y tiene por vector dirección $\\overrightarrow{d}$ respectivamente: $\\left( 2, \\  3\\right) $, $\\left( -3, \\  5\\right)$\\begin{solution} Solución orientativa: $Point2D\\left(x, y\\right) = Point2D\\left(2 - 3 t, 5 t + 3\\right) \\to - 5 x - 3 y + 19 = 0 \\to y = \\dfrac{19}{3} - \\dfrac{5 x}{3}$\\end{solution} \\end{parts} \n"
     ]
    }
   ],
   "source": [
    "# Calcular rectas\n",
    "\n",
    "texto_ejercicio = 'Escribe las ecuaciones vectorial, paramétricas, en forma continua y explícita de la recta que:'\n",
    "display(md(\"**\"+texto_ejercicio+\"**\"))\n",
    "\n",
    "pre_enunciado_latex = [\n",
    "#     [(3, -2), (-1, 5)],\n",
    "        [(3, -1), (-2, 5)],\n",
    "        [(1, -3), (3, -2)],\n",
    "        [(2, 3), (-3, 5)],\n",
    "                      ]\n",
    "question=texto_ejercicio\n",
    "parts=[]\n",
    "for i in pre_enunciado_latex :\n",
    "    enun = r\"Pasa por el punto $P$ y tiene por vector dirección $\\overrightarrow{d}$ respectivamente: $\"+\" $, $\".join(map(latex,i))+\"$\"\n",
    "    P, d = map(Point,i)\n",
    "    r=Line(P, P+d)\n",
    "    sol=r\"Solución orientativa: $\"+latex(Eq(Point(x,y),(r.arbitrary_point())))+r\" \\to \"\n",
    "    sol += latex(Eq(r.equation(),0))+r\" \\to \"+latex(Eq(y,solve(r.equation(y=y),y)[0]))+\"$\"\n",
    "    mostrar_ejercicio(enun, sol) \n",
    "    parts.append([enun, sol])         \n",
    "\n",
    "print(latex_exam(question, parts).replace(r'\\frac',r'\\dfrac'))"
   ]
  },
  {
   "cell_type": "code",
   "execution_count": 23,
   "metadata": {},
   "outputs": [
    {
     "data": {
      "text/markdown": [
       "**Escribe las ecuaciones vectorial, paramétricas, en forma continua y explícita de la recta que:**"
      ],
      "text/plain": [
       "<IPython.core.display.Markdown object>"
      ]
     },
     "metadata": {},
     "output_type": "display_data"
    },
    {
     "data": {
      "text/markdown": [
       "#### Ejercicio:"
      ],
      "text/plain": [
       "<IPython.core.display.Markdown object>"
      ]
     },
     "metadata": {},
     "output_type": "display_data"
    },
    {
     "data": {
      "text/markdown": [
       "Pasa por los puntos $P$ y $Q$ respectivamente: $\\left( 2, \\  -1\\right) $, $\\left( -2, \\  5\\right)$ $\\to$ Solución orientativa: $Point2D\\left(x, y\\right) = Point2D\\left(2 - 4 t, 6 t - 1\\right) \\to - 6 x - 4 y + 8 = 0 \\to y = 2 - \\frac{3 x}{2}$"
      ],
      "text/plain": [
       "<IPython.core.display.Markdown object>"
      ]
     },
     "metadata": {},
     "output_type": "display_data"
    },
    {
     "name": "stdout",
     "output_type": "stream",
     "text": [
      "enunciado_latex: Pasa por los puntos $P$ y $Q$ respectivamente: $\\left( 2, \\  -1\\right) $, $\\left( -2, \\  5\\right)$\n",
      "solucion_latex: Solución orientativa: $Point2D\\left(x, y\\right) = Point2D\\left(2 - 4 t, 6 t - 1\\right) \\to - 6 x - 4 y + 8 = 0 \\to y = 2 - \\frac{3 x}{2}$\n"
     ]
    },
    {
     "data": {
      "text/markdown": [
       "#### Ejercicio:"
      ],
      "text/plain": [
       "<IPython.core.display.Markdown object>"
      ]
     },
     "metadata": {},
     "output_type": "display_data"
    },
    {
     "data": {
      "text/markdown": [
       "Pasa por los puntos $P$ y $Q$ respectivamente: $\\left( 2, \\  -3\\right) $, $\\left( 3, \\  -2\\right)$ $\\to$ Solución orientativa: $Point2D\\left(x, y\\right) = Point2D\\left(t + 2, t - 3\\right) \\to - x + y + 5 = 0 \\to y = x - 5$"
      ],
      "text/plain": [
       "<IPython.core.display.Markdown object>"
      ]
     },
     "metadata": {},
     "output_type": "display_data"
    },
    {
     "name": "stdout",
     "output_type": "stream",
     "text": [
      "enunciado_latex: Pasa por los puntos $P$ y $Q$ respectivamente: $\\left( 2, \\  -3\\right) $, $\\left( 3, \\  -2\\right)$\n",
      "solucion_latex: Solución orientativa: $Point2D\\left(x, y\\right) = Point2D\\left(t + 2, t - 3\\right) \\to - x + y + 5 = 0 \\to y = x - 5$\n"
     ]
    },
    {
     "data": {
      "text/markdown": [
       "#### Ejercicio:"
      ],
      "text/plain": [
       "<IPython.core.display.Markdown object>"
      ]
     },
     "metadata": {},
     "output_type": "display_data"
    },
    {
     "data": {
      "text/markdown": [
       "Pasa por los puntos $P$ y $Q$ respectivamente: $\\left( -4, \\  3\\right) $, $\\left( -3, \\  5\\right)$ $\\to$ Solución orientativa: $Point2D\\left(x, y\\right) = Point2D\\left(t - 4, 2 t + 3\\right) \\to - 2 x + y - 11 = 0 \\to y = 2 x + 11$"
      ],
      "text/plain": [
       "<IPython.core.display.Markdown object>"
      ]
     },
     "metadata": {},
     "output_type": "display_data"
    },
    {
     "name": "stdout",
     "output_type": "stream",
     "text": [
      "enunciado_latex: Pasa por los puntos $P$ y $Q$ respectivamente: $\\left( -4, \\  3\\right) $, $\\left( -3, \\  5\\right)$\n",
      "solucion_latex: Solución orientativa: $Point2D\\left(x, y\\right) = Point2D\\left(t - 4, 2 t + 3\\right) \\to - 2 x + y - 11 = 0 \\to y = 2 x + 11$\n",
      "\\question Escribe las ecuaciones vectorial, paramétricas, en forma continua y explícita de la recta que:\\begin{parts} \\part[1] Pasa por los puntos $P$ y $Q$ respectivamente: $\\left( 2, \\  -1\\right) $, $\\left( -2, \\  5\\right)$\\begin{solution} Solución orientativa: $Point2D\\left(x, y\\right) = Point2D\\left(2 - 4 t, 6 t - 1\\right) \\to - 6 x - 4 y + 8 = 0 \\to y = 2 - \\dfrac{3 x}{2}$\\end{solution} \\part[1] Pasa por los puntos $P$ y $Q$ respectivamente: $\\left( 2, \\  -3\\right) $, $\\left( 3, \\  -2\\right)$\\begin{solution} Solución orientativa: $Point2D\\left(x, y\\right) = Point2D\\left(t + 2, t - 3\\right) \\to - x + y + 5 = 0 \\to y = x - 5$\\end{solution} \\part[1] Pasa por los puntos $P$ y $Q$ respectivamente: $\\left( -4, \\  3\\right) $, $\\left( -3, \\  5\\right)$\\begin{solution} Solución orientativa: $Point2D\\left(x, y\\right) = Point2D\\left(t - 4, 2 t + 3\\right) \\to - 2 x + y - 11 = 0 \\to y = 2 x + 11$\\end{solution} \\end{parts} \n"
     ]
    }
   ],
   "source": [
    "# Calcular rectas\n",
    "\n",
    "texto_ejercicio = 'Escribe las ecuaciones vectorial, paramétricas, en forma continua y explícita de la recta que:'\n",
    "display(md(\"**\"+texto_ejercicio+\"**\"))\n",
    "\n",
    "pre_enunciado_latex = [\n",
    "#     [(3, -2), (-1, 5)],\n",
    "            [(2, -1), (-2, 5)],\n",
    "        [(2, -3), (3, -2)],\n",
    "        [(-4, 3), (-3, 5)],\n",
    "                      ]\n",
    "question=texto_ejercicio\n",
    "parts=[]\n",
    "for i in pre_enunciado_latex :\n",
    "    enun = r\"Pasa por los puntos $P$ y $Q$ respectivamente: $\"+\" $, $\".join(map(latex,i))+\"$\"\n",
    "    P, Q = map(Point,i)\n",
    "    r=Line(P, Q)\n",
    "    sol=r\"Solución orientativa: $\"+latex(Eq(Point(x,y),(r.arbitrary_point())))+r\" \\to \"\n",
    "    sol += latex(Eq(r.equation(),0))+r\" \\to \"+latex(Eq(y,solve(r.equation(y=y),y)[0]))+\"$\"\n",
    "    mostrar_ejercicio(enun, sol) \n",
    "    parts.append([enun, sol])         \n",
    "\n",
    "print(latex_exam(question, parts).replace(r'\\frac',r'\\dfrac'))"
   ]
  },
  {
   "cell_type": "code",
   "execution_count": 26,
   "metadata": {},
   "outputs": [
    {
     "data": {
      "text/markdown": [
       "**Calcula la recta $s$ que:**"
      ],
      "text/plain": [
       "<IPython.core.display.Markdown object>"
      ]
     },
     "metadata": {},
     "output_type": "display_data"
    },
    {
     "data": {
      "text/markdown": [
       "#### Ejercicio:"
      ],
      "text/plain": [
       "<IPython.core.display.Markdown object>"
      ]
     },
     "metadata": {},
     "output_type": "display_data"
    },
    {
     "data": {
      "text/markdown": [
       "pasa por P$\\left( 3, \\  1\\right)$ y es paralela a $r \\equiv 4 x - 2 y + 1 = 0$ $\\to$ $s\\equiv y = 2 x - 5$"
      ],
      "text/plain": [
       "<IPython.core.display.Markdown object>"
      ]
     },
     "metadata": {},
     "output_type": "display_data"
    },
    {
     "name": "stdout",
     "output_type": "stream",
     "text": [
      "enunciado_latex: pasa por P$\\left( 3, \\  1\\right)$ y es paralela a $r \\equiv 4 x - 2 y + 1 = 0$\n",
      "solucion_latex: $s\\equiv y = 2 x - 5$\n"
     ]
    },
    {
     "data": {
      "text/markdown": [
       "#### Ejercicio:"
      ],
      "text/plain": [
       "<IPython.core.display.Markdown object>"
      ]
     },
     "metadata": {},
     "output_type": "display_data"
    },
    {
     "data": {
      "text/markdown": [
       "pasa por P$\\left( -1, \\  2\\right)$ y es paralela a $r \\equiv 2 x - 3 y + 1 = 0$ $\\to$ $s\\equiv y = \\frac{2 x}{3} + \\frac{8}{3}$"
      ],
      "text/plain": [
       "<IPython.core.display.Markdown object>"
      ]
     },
     "metadata": {},
     "output_type": "display_data"
    },
    {
     "name": "stdout",
     "output_type": "stream",
     "text": [
      "enunciado_latex: pasa por P$\\left( -1, \\  2\\right)$ y es paralela a $r \\equiv 2 x - 3 y + 1 = 0$\n",
      "solucion_latex: $s\\equiv y = \\frac{2 x}{3} + \\frac{8}{3}$\n",
      "\\question Calcula la recta $s$ que:\\begin{parts} \\part[1] pasa por P$\\left( 3, \\  1\\right)$ y es paralela a $r \\equiv 4 x - 2 y + 1 = 0$\\begin{solution} $s\\equiv y = 2 x - 5$\\end{solution} \\part[1] pasa por P$\\left( -1, \\  2\\right)$ y es paralela a $r \\equiv 2 x - 3 y + 1 = 0$\\begin{solution} $s\\equiv y = \\dfrac{2 x}{3} + \\dfrac{8}{3}$\\end{solution} \\end{parts} \n"
     ]
    }
   ],
   "source": [
    "# Calcular rectas paralelas\n",
    "\n",
    "texto_ejercicio = 'Calcula la recta $s$ que:'\n",
    "display(md(\"**\"+texto_ejercicio+\"**\"))\n",
    "\n",
    "pre_enunciado_latex = [\n",
    "#     [(-3, 2), 8*x-3*y+6],\n",
    "              [(3, 1), 4*x-2*y+1],\n",
    "      [(-1, 2), 2*x-3*y+1],\n",
    "\n",
    "    \n",
    "                      ]\n",
    "question=texto_ejercicio\n",
    "parts=[]\n",
    "for i in pre_enunciado_latex :\n",
    "    enun = r\"pasa por P${}$ y es paralela a $r \\equiv {} = 0$\".format(latex(i[0]),latex(i[1]))\n",
    "    s=Line(i[1]).parallel_line(Point(i[0]))\n",
    "    sol=r\"$s\\equiv \"+latex(Eq(y,solve(s.equation(y=y),y)[0]))+r\"$\"\n",
    "    mostrar_ejercicio(enun, sol) \n",
    "    parts.append([enun, sol])         \n",
    "\n",
    "print(latex_exam(question, parts).replace(r'\\frac',r'\\dfrac'))"
   ]
  },
  {
   "cell_type": "code",
   "execution_count": 27,
   "metadata": {},
   "outputs": [
    {
     "data": {
      "text/markdown": [
       "**Calcula la recta $s$ que:**"
      ],
      "text/plain": [
       "<IPython.core.display.Markdown object>"
      ]
     },
     "metadata": {},
     "output_type": "display_data"
    },
    {
     "data": {
      "text/markdown": [
       "#### Ejercicio:"
      ],
      "text/plain": [
       "<IPython.core.display.Markdown object>"
      ]
     },
     "metadata": {},
     "output_type": "display_data"
    },
    {
     "data": {
      "text/markdown": [
       "pasa por P$\\left( -1, \\  2\\right)$ y es perpendicular a $\\overrightarrow{v}\\left( -2, \\  1\\right)$ $\\to$ $s\\equiv 2 x - y + 4 = 0$"
      ],
      "text/plain": [
       "<IPython.core.display.Markdown object>"
      ]
     },
     "metadata": {},
     "output_type": "display_data"
    },
    {
     "name": "stdout",
     "output_type": "stream",
     "text": [
      "enunciado_latex: pasa por P$\\left( -1, \\  2\\right)$ y es perpendicular a $\\overrightarrow{v}\\left( -2, \\  1\\right)$\n",
      "solucion_latex: $s\\equiv 2 x - y + 4 = 0$\n"
     ]
    },
    {
     "data": {
      "text/markdown": [
       "#### Ejercicio:"
      ],
      "text/plain": [
       "<IPython.core.display.Markdown object>"
      ]
     },
     "metadata": {},
     "output_type": "display_data"
    },
    {
     "data": {
      "text/markdown": [
       "pasa por P$\\left( 1, \\  -2\\right)$ y es perpendicular a $\\overrightarrow{v}\\left( 5, \\  -4\\right)$ $\\to$ $s\\equiv - 5 x + 4 y + 13 = 0$"
      ],
      "text/plain": [
       "<IPython.core.display.Markdown object>"
      ]
     },
     "metadata": {},
     "output_type": "display_data"
    },
    {
     "name": "stdout",
     "output_type": "stream",
     "text": [
      "enunciado_latex: pasa por P$\\left( 1, \\  -2\\right)$ y es perpendicular a $\\overrightarrow{v}\\left( 5, \\  -4\\right)$\n",
      "solucion_latex: $s\\equiv - 5 x + 4 y + 13 = 0$\n"
     ]
    },
    {
     "data": {
      "text/markdown": [
       "#### Ejercicio:"
      ],
      "text/plain": [
       "<IPython.core.display.Markdown object>"
      ]
     },
     "metadata": {},
     "output_type": "display_data"
    },
    {
     "data": {
      "text/markdown": [
       "pasa por P$\\left( 1, \\  -2\\right)$ y es perpendicular a $\\overrightarrow{v}\\left( -1, \\  0\\right)$ $\\to$ $s\\equiv x - 1 = 0$"
      ],
      "text/plain": [
       "<IPython.core.display.Markdown object>"
      ]
     },
     "metadata": {},
     "output_type": "display_data"
    },
    {
     "name": "stdout",
     "output_type": "stream",
     "text": [
      "enunciado_latex: pasa por P$\\left( 1, \\  -2\\right)$ y es perpendicular a $\\overrightarrow{v}\\left( -1, \\  0\\right)$\n",
      "solucion_latex: $s\\equiv x - 1 = 0$\n",
      "\\question Calcula la recta $s$ que:\\begin{parts} \\part[1] pasa por P$\\left( -1, \\  2\\right)$ y es perpendicular a $\\overrightarrow{v}\\left( -2, \\  1\\right)$\\begin{solution} $s\\equiv 2 x - y + 4 = 0$\\end{solution} \\part[1] pasa por P$\\left( 1, \\  -2\\right)$ y es perpendicular a $\\overrightarrow{v}\\left( 5, \\  -4\\right)$\\begin{solution} $s\\equiv - 5 x + 4 y + 13 = 0$\\end{solution} \\part[1] pasa por P$\\left( 1, \\  -2\\right)$ y es perpendicular a $\\overrightarrow{v}\\left( -1, \\  0\\right)$\\begin{solution} $s\\equiv x - 1 = 0$\\end{solution} \\end{parts} \n"
     ]
    }
   ],
   "source": [
    "# Calcular rectas y cortes\n",
    "\n",
    "texto_ejercicio = 'Calcula la recta $s$ que:'\n",
    "display(md(\"**\"+texto_ejercicio+\"**\"))\n",
    "\n",
    "pre_enunciado_latex = [\n",
    "#     [(3,-2), (2,1)],\n",
    "#     [(3,-2), (-5,4)],\n",
    "#     [(3,-2), (-1,0)],\n",
    "        [(-1,2), (-2,1)],\n",
    "    [(1,-2), (5,-4)],\n",
    "    [(1,-2), (-1,0)],\n",
    "                      ]\n",
    "question=texto_ejercicio\n",
    "parts=[]\n",
    "for i in pre_enunciado_latex :\n",
    "    enun = r\"pasa por P$\"+latex(i[0])+\"$ y es perpendicular a $\\overrightarrow{v}\"+latex(i[1])+\"$\"\n",
    "    p, v = map(Point,i)\n",
    "    s=Line(p,p+v).perpendicular_line(p)\n",
    "    sol=r\"$s\\equiv \"+latex(Eq(s.equation(),0))+\"$\"\n",
    "#     sol+=r\"$\\to s\\equiv \"+latex(Eq(y,solve(s.equation(y=y),y)[0]))+r\"$\"\n",
    "    mostrar_ejercicio(enun, sol) \n",
    "    parts.append([enun, sol])         \n",
    "\n",
    "print(latex_exam(question, parts).replace(r'\\frac',r'\\dfrac'))"
   ]
  },
  {
   "cell_type": "code",
   "execution_count": 28,
   "metadata": {},
   "outputs": [
    {
     "data": {
      "text/markdown": [
       "**Calcula la recta $s$ que:**"
      ],
      "text/plain": [
       "<IPython.core.display.Markdown object>"
      ]
     },
     "metadata": {},
     "output_type": "display_data"
    },
    {
     "data": {
      "text/markdown": [
       "#### Ejercicio:"
      ],
      "text/plain": [
       "<IPython.core.display.Markdown object>"
      ]
     },
     "metadata": {},
     "output_type": "display_data"
    },
    {
     "data": {
      "text/markdown": [
       "pasa por P$\\left( 3, \\  1\\right)$ y es perpendicular a $r \\equiv 4 x - 2 y + 1 = 0$ $\\to$ $s\\equiv y = \\frac{5}{2} - \\frac{x}{2}$"
      ],
      "text/plain": [
       "<IPython.core.display.Markdown object>"
      ]
     },
     "metadata": {},
     "output_type": "display_data"
    },
    {
     "name": "stdout",
     "output_type": "stream",
     "text": [
      "enunciado_latex: pasa por P$\\left( 3, \\  1\\right)$ y es perpendicular a $r \\equiv 4 x - 2 y + 1 = 0$\n",
      "solucion_latex: $s\\equiv y = \\frac{5}{2} - \\frac{x}{2}$\n"
     ]
    },
    {
     "data": {
      "text/markdown": [
       "#### Ejercicio:"
      ],
      "text/plain": [
       "<IPython.core.display.Markdown object>"
      ]
     },
     "metadata": {},
     "output_type": "display_data"
    },
    {
     "data": {
      "text/markdown": [
       "pasa por P$\\left( -1, \\  2\\right)$ y es perpendicular a $r \\equiv 2 x - 3 y + 1 = 0$ $\\to$ $s\\equiv y = \\frac{1}{2} - \\frac{3 x}{2}$"
      ],
      "text/plain": [
       "<IPython.core.display.Markdown object>"
      ]
     },
     "metadata": {},
     "output_type": "display_data"
    },
    {
     "name": "stdout",
     "output_type": "stream",
     "text": [
      "enunciado_latex: pasa por P$\\left( -1, \\  2\\right)$ y es perpendicular a $r \\equiv 2 x - 3 y + 1 = 0$\n",
      "solucion_latex: $s\\equiv y = \\frac{1}{2} - \\frac{3 x}{2}$\n",
      "\\question Calcula la recta $s$ que:\\begin{parts} \\part[1] pasa por P$\\left( 3, \\  1\\right)$ y es perpendicular a $r \\equiv 4 x - 2 y + 1 = 0$\\begin{solution} $s\\equiv y = \\dfrac{5}{2} - \\dfrac{x}{2}$\\end{solution} \\part[1] pasa por P$\\left( -1, \\  2\\right)$ y es perpendicular a $r \\equiv 2 x - 3 y + 1 = 0$\\begin{solution} $s\\equiv y = \\dfrac{1}{2} - \\dfrac{3 x}{2}$\\end{solution} \\end{parts} \n"
     ]
    }
   ],
   "source": [
    "# Calcular rectas y cortes\n",
    "\n",
    "texto_ejercicio = 'Calcula la recta $s$ que:'\n",
    "display(md(\"**\"+texto_ejercicio+\"**\"))\n",
    "\n",
    "pre_enunciado_latex = [\n",
    "#     [(-3, 2), 8*x-3*y+6],\n",
    "                  [(3, 1), 4*x-2*y+1],\n",
    "      [(-1, 2), 2*x-3*y+1],\n",
    "\n",
    "                      ]\n",
    "question=texto_ejercicio\n",
    "parts=[]\n",
    "for i in pre_enunciado_latex :\n",
    "    enun = r\"pasa por P${}$ y es perpendicular a $r \\equiv {} = 0$\".format(latex(i[0]),latex(i[1]))\n",
    "    s=Line(i[1]).perpendicular_line(Point(i[0]))\n",
    "    sol=r\"$s\\equiv \"+latex(Eq(y,solve(s.equation(y=y),y)[0]))+r\"$\"\n",
    "    mostrar_ejercicio(enun, sol) \n",
    "    parts.append([enun, sol])         \n",
    "\n",
    "print(latex_exam(question, parts).replace(r'\\frac',r'\\dfrac'))"
   ]
  },
  {
   "cell_type": "code",
   "execution_count": 33,
   "metadata": {
    "scrolled": true
   },
   "outputs": [
    {
     "data": {
      "text/markdown": [
       "**Obtén las ecuaciones de las rectas $r$ y $s$ y su punto de intersección sabiendo que:**"
      ],
      "text/plain": [
       "<IPython.core.display.Markdown object>"
      ]
     },
     "metadata": {},
     "output_type": "display_data"
    },
    {
     "data": {
      "text/markdown": [
       "#### Ejercicio:"
      ],
      "text/plain": [
       "<IPython.core.display.Markdown object>"
      ]
     },
     "metadata": {},
     "output_type": "display_data"
    },
    {
     "data": {
      "text/markdown": [
       "r pasa por $\\left( 1, \\  -2\\right)$ y es perpendicular a $6 x - 3 y + 6 = 0$. Y s pasa por $\\left( 3, \\  1\\right)$ y es paralela a $2 x + y - 7= 0$ $\\to$ Solución: \\\\ $r\\equiv y = - \\frac{x}{2} - \\frac{3}{2}$ \\\\ $s\\equiv y = 7 - 2 x\\to  $$\\left[ Point2D\\left(\\frac{17}{3}, - \\frac{13}{3}\\right)\\right] $ "
      ],
      "text/plain": [
       "<IPython.core.display.Markdown object>"
      ]
     },
     "metadata": {},
     "output_type": "display_data"
    },
    {
     "name": "stdout",
     "output_type": "stream",
     "text": [
      "enunciado_latex: r pasa por $\\left( 1, \\  -2\\right)$ y es perpendicular a $6 x - 3 y + 6 = 0$. Y s pasa por $\\left( 3, \\  1\\right)$ y es paralela a $2 x + y - 7= 0$\n",
      "solucion_latex: Solución: \\\\ $r\\equiv y = - \\frac{x}{2} - \\frac{3}{2}$ \\\\ $s\\equiv y = 7 - 2 x\\to  $$\\left[ Point2D\\left(\\frac{17}{3}, - \\frac{13}{3}\\right)\\right] $ \n"
     ]
    },
    {
     "data": {
      "text/markdown": [
       "#### Ejercicio:"
      ],
      "text/plain": [
       "<IPython.core.display.Markdown object>"
      ]
     },
     "metadata": {},
     "output_type": "display_data"
    },
    {
     "data": {
      "text/markdown": [
       "r pasa por $\\left( 1, \\  3\\right)$ y es perpendicular a $4 x - 2 y + 1 = 0$. Y s pasa por $\\left( 3, \\  1\\right)$ y es paralela a $2 x + y - 3= 0$ $\\to$ Solución: \\\\ $r\\equiv y = \\frac{7}{2} - \\frac{x}{2}$ \\\\ $s\\equiv y = 7 - 2 x\\to  $$\\left[ Point2D\\left(\\frac{7}{3}, \\frac{7}{3}\\right)\\right] $ "
      ],
      "text/plain": [
       "<IPython.core.display.Markdown object>"
      ]
     },
     "metadata": {},
     "output_type": "display_data"
    },
    {
     "name": "stdout",
     "output_type": "stream",
     "text": [
      "enunciado_latex: r pasa por $\\left( 1, \\  3\\right)$ y es perpendicular a $4 x - 2 y + 1 = 0$. Y s pasa por $\\left( 3, \\  1\\right)$ y es paralela a $2 x + y - 3= 0$\n",
      "solucion_latex: Solución: \\\\ $r\\equiv y = \\frac{7}{2} - \\frac{x}{2}$ \\\\ $s\\equiv y = 7 - 2 x\\to  $$\\left[ Point2D\\left(\\frac{7}{3}, \\frac{7}{3}\\right)\\right] $ \n",
      "\\question Obtén las ecuaciones de las rectas $r$ y $s$ y su punto de intersección sabiendo que:\\begin{parts} \\part[1] r pasa por $\\left( 1, \\  -2\\right)$ y es perpendicular a $6 x - 3 y + 6 = 0$. Y s pasa por $\\left( 3, \\  1\\right)$ y es paralela a $2 x + y - 7= 0$\\begin{solution} Solución: \\\\ $r\\equiv y = - \\dfrac{x}{2} - \\dfrac{3}{2}$ \\\\ $s\\equiv y = 7 - 2 x\\to  $$\\left[ Point2D\\left(\\dfrac{17}{3}, - \\dfrac{13}{3}\\right)\\right] $ \\end{solution} \\part[1] r pasa por $\\left( 1, \\  3\\right)$ y es perpendicular a $4 x - 2 y + 1 = 0$. Y s pasa por $\\left( 3, \\  1\\right)$ y es paralela a $2 x + y - 3= 0$\\begin{solution} Solución: \\\\ $r\\equiv y = \\dfrac{7}{2} - \\dfrac{x}{2}$ \\\\ $s\\equiv y = 7 - 2 x\\to  $$\\left[ Point2D\\left(\\dfrac{7}{3}, \\dfrac{7}{3}\\right)\\right] $ \\end{solution} \\end{parts} \n"
     ]
    }
   ],
   "source": [
    "# Calcular rectas y cortes\n",
    "\n",
    "texto_ejercicio = 'Obtén las ecuaciones de las rectas $r$ y $s$ y su punto de intersección sabiendo que:'\n",
    "display(md(\"**\"+texto_ejercicio+\"**\"))\n",
    "\n",
    "pre_enunciado_latex = [\n",
    "#     [(-3, 2), 8*x-3*y+6, (9, -5/2), 2*x+y-7],\n",
    "      [(1, -2), 6*x-3*y+6, (3, 1), 2*x+y-7],\n",
    "          [(1, 3), 4*x-2*y+1, (3, 1), 2*x+y-3],\n",
    "    \n",
    "                      ]\n",
    "question=texto_ejercicio\n",
    "parts=[]\n",
    "for i in pre_enunciado_latex :\n",
    "    enun = r\"r pasa por ${}$ y es perpendicular a ${} = 0$. Y s pasa por ${}$ y es paralela a ${}= 0$\".format(latex(i[0]),latex(i[1]),latex(i[2]),latex(i[3]))\n",
    "    r=Line(i[1]).perpendicular_line(Point(i[0]))\n",
    "    Eq(y,solve(r.equation(y=y),y)[0])\n",
    "\n",
    "    s=Line(i[3]).parallel_line(Point(i[2]))\n",
    "    Eq(y,solve(s.equation(y=y),y)[0])\n",
    "    sol=r\"Solución: \\\\ $r\\equiv \"+latex(Eq(y,solve(r.equation(y=y),y)[0]))+r\"$ \\\\ $s\\equiv \"+latex(Eq(y,solve(s.equation(y=y),y)[0]))+r\"\\to  $$\"+latex(r.intersection(s))+r\" $ \"\n",
    "    mostrar_ejercicio(enun, sol) \n",
    "    parts.append([enun, sol])         \n",
    "\n",
    "print(latex_exam(question, parts).replace(r'\\frac',r'\\dfrac'))"
   ]
  },
  {
   "cell_type": "code",
   "execution_count": 34,
   "metadata": {},
   "outputs": [
    {
     "data": {
      "text/markdown": [
       "**Calcula la distancia entre $P$ y $Q$ siendo:**"
      ],
      "text/plain": [
       "<IPython.core.display.Markdown object>"
      ]
     },
     "metadata": {},
     "output_type": "display_data"
    },
    {
     "data": {
      "text/markdown": [
       "#### Ejercicio:"
      ],
      "text/plain": [
       "<IPython.core.display.Markdown object>"
      ]
     },
     "metadata": {},
     "output_type": "display_data"
    },
    {
     "data": {
      "text/markdown": [
       "Siendo $P\\left( -2, \\  0\\right)$ y $Q\\left( 12, \\  0\\right)$ $\\to$ $dist(P,Q)=|Point2D\\left(14, 0\\right)|=14$"
      ],
      "text/plain": [
       "<IPython.core.display.Markdown object>"
      ]
     },
     "metadata": {},
     "output_type": "display_data"
    },
    {
     "name": "stdout",
     "output_type": "stream",
     "text": [
      "enunciado_latex: Siendo $P\\left( -2, \\  0\\right)$ y $Q\\left( 12, \\  0\\right)$\n",
      "solucion_latex: $dist(P,Q)=|Point2D\\left(14, 0\\right)|=14$\n"
     ]
    },
    {
     "data": {
      "text/markdown": [
       "#### Ejercicio:"
      ],
      "text/plain": [
       "<IPython.core.display.Markdown object>"
      ]
     },
     "metadata": {},
     "output_type": "display_data"
    },
    {
     "data": {
      "text/markdown": [
       "Siendo $P\\left( -1, \\  1\\right)$ y $Q\\left( 3, \\  1\\right)$ $\\to$ $dist(P,Q)=|Point2D\\left(4, 0\\right)|=4$"
      ],
      "text/plain": [
       "<IPython.core.display.Markdown object>"
      ]
     },
     "metadata": {},
     "output_type": "display_data"
    },
    {
     "name": "stdout",
     "output_type": "stream",
     "text": [
      "enunciado_latex: Siendo $P\\left( -1, \\  1\\right)$ y $Q\\left( 3, \\  1\\right)$\n",
      "solucion_latex: $dist(P,Q)=|Point2D\\left(4, 0\\right)|=4$\n"
     ]
    },
    {
     "data": {
      "text/markdown": [
       "#### Ejercicio:"
      ],
      "text/plain": [
       "<IPython.core.display.Markdown object>"
      ]
     },
     "metadata": {},
     "output_type": "display_data"
    },
    {
     "data": {
      "text/markdown": [
       "Siendo $P\\left( -2, \\  2\\right)$ y $Q\\left( 3, \\  -4\\right)$ $\\to$ $dist(P,Q)=|Point2D\\left(5, -6\\right)|=\\sqrt{61}$"
      ],
      "text/plain": [
       "<IPython.core.display.Markdown object>"
      ]
     },
     "metadata": {},
     "output_type": "display_data"
    },
    {
     "name": "stdout",
     "output_type": "stream",
     "text": [
      "enunciado_latex: Siendo $P\\left( -2, \\  2\\right)$ y $Q\\left( 3, \\  -4\\right)$\n",
      "solucion_latex: $dist(P,Q)=|Point2D\\left(5, -6\\right)|=\\sqrt{61}$\n",
      "\\question Calcula la distancia entre $P$ y $Q$ siendo:\\begin{parts} \\part[1] Siendo $P\\left( -2, \\  0\\right)$ y $Q\\left( 12, \\  0\\right)$\\begin{solution} $dist(P,Q)=|Point2D\\left(14, 0\\right)|=14$\\end{solution} \\part[1] Siendo $P\\left( -1, \\  1\\right)$ y $Q\\left( 3, \\  1\\right)$\\begin{solution} $dist(P,Q)=|Point2D\\left(4, 0\\right)|=4$\\end{solution} \\part[1] Siendo $P\\left( -2, \\  2\\right)$ y $Q\\left( 3, \\  -4\\right)$\\begin{solution} $dist(P,Q)=|Point2D\\left(5, -6\\right)|=\\sqrt{61}$\\end{solution} \\end{parts} \n"
     ]
    }
   ],
   "source": [
    "# Calcular distancias\n",
    "\n",
    "texto_ejercicio = 'Calcula la distancia entre $P$ y $Q$ siendo:'\n",
    "display(md(\"**\"+texto_ejercicio+\"**\"))\n",
    "\n",
    "pre_enunciado_latex = [\n",
    "#     [(3, 5), (3,-7)],\n",
    "#     [(-8, 3), (-6,1)],\n",
    "#     [(0, -3), (-5,1)],\n",
    "#     [(-3, 0), (15,0)],\n",
    "    [(-2, 0), (12,0)],\n",
    "    [(-1, 1), (3,1)],\n",
    "    [(-2, 2), (3,-4)],\n",
    "                      ]\n",
    "question=texto_ejercicio\n",
    "parts=[]\n",
    "for i in pre_enunciado_latex :\n",
    "    enun = r\"Siendo $P\"+latex(i[0])+\"$ y $Q\"+latex(i[1])+\"$\"\n",
    "    P,Q=map(Point,i)\n",
    "    d=P.distance(Q)\n",
    "    sol=r\"$dist(P,Q)=|\"+latex((Q-P))+\"|=\"+latex(d)+r\"$\"\n",
    "    mostrar_ejercicio(enun, sol) \n",
    "    parts.append([enun, sol])         \n",
    "\n",
    "print(latex_exam(question, parts).replace(r'\\frac',r'\\dfrac'))"
   ]
  },
  {
   "cell_type": "code",
   "execution_count": 35,
   "metadata": {},
   "outputs": [
    {
     "data": {
      "text/markdown": [
       "**Calcula el perímetro del triángulo de vértices $A$, $B$ y $C$ siendo:**"
      ],
      "text/plain": [
       "<IPython.core.display.Markdown object>"
      ]
     },
     "metadata": {},
     "output_type": "display_data"
    },
    {
     "data": {
      "text/markdown": [
       "#### Ejercicio:"
      ],
      "text/plain": [
       "<IPython.core.display.Markdown object>"
      ]
     },
     "metadata": {},
     "output_type": "display_data"
    },
    {
     "data": {
      "text/markdown": [
       "Siendo $A\\left( -2, \\  1\\right)$, $B\\left( 4, \\  1\\right)$ y $C\\left( -1, \\  -2\\right)$ $\\to$ Los lados miden $6$, $\\sqrt{10}$ y $\\sqrt{34}\\to Perímetro\\approx14.99$"
      ],
      "text/plain": [
       "<IPython.core.display.Markdown object>"
      ]
     },
     "metadata": {},
     "output_type": "display_data"
    },
    {
     "name": "stdout",
     "output_type": "stream",
     "text": [
      "enunciado_latex: Siendo $A\\left( -2, \\  1\\right)$, $B\\left( 4, \\  1\\right)$ y $C\\left( -1, \\  -2\\right)$\n",
      "solucion_latex: Los lados miden $6$, $\\sqrt{10}$ y $\\sqrt{34}\\to Perímetro\\approx14.99$\n",
      "\\question Calcula el perímetro del triángulo de vértices $A$, $B$ y $C$ siendo:\\begin{parts} \\part[1] Siendo $A\\left( -2, \\  1\\right)$, $B\\left( 4, \\  1\\right)$ y $C\\left( -1, \\  -2\\right)$\\begin{solution} Los lados miden $6$, $\\sqrt{10}$ y $\\sqrt{34}\\to Perímetro\\approx14.99$\\end{solution} \\end{parts} \n"
     ]
    }
   ],
   "source": [
    "# Calcular distancias de un triángulo\n",
    "\n",
    "texto_ejercicio = 'Calcula el perímetro del triángulo de vértices $A$, $B$ y $C$ siendo:'\n",
    "display(md(\"**\"+texto_ejercicio+\"**\"))\n",
    "\n",
    "pre_enunciado_latex = [\n",
    "#     [(-4, 1), (6,3),(-2,-3)],\n",
    "        [(-2, 1), (4,1),(-1,-2)],\n",
    "                      ]\n",
    "question=texto_ejercicio\n",
    "parts=[]\n",
    "for i in pre_enunciado_latex :\n",
    "    enun = r\"Siendo $A\"+latex(i[0])+\"$, $B\"+latex(i[1])+\"$ y $C\"+latex(i[2])+\"$\"\n",
    "    A,B,C=map(Point,i)\n",
    "    d1=A.distance(B)\n",
    "    d2=A.distance(C)\n",
    "    d3=B.distance(C)\n",
    "    sol=r\"Los lados miden $\"+latex(d1)+\"$, $\"+latex(d2)+\"$ y $\"+latex(d3)+r\"\\to Perímetro\\approx\"+latex(round(d1+d2+d3,2))+\"$\"\n",
    "#     sol=enun\n",
    "    mostrar_ejercicio(enun, sol) \n",
    "    parts.append([enun, sol])         \n",
    "\n",
    "print(latex_exam(question, parts).replace(r'\\frac',r'\\dfrac'))"
   ]
  }
 ],
 "metadata": {
  "colab": {
   "name": "7 Sistemas.ipynb",
   "provenance": []
  },
  "kernelspec": {
   "display_name": "Python 3",
   "language": "python",
   "name": "python3"
  },
  "language_info": {
   "codemirror_mode": {
    "name": "ipython",
    "version": 3
   },
   "file_extension": ".py",
   "mimetype": "text/x-python",
   "name": "python",
   "nbconvert_exporter": "python",
   "pygments_lexer": "ipython3",
   "version": "3.6.12"
  }
 },
 "nbformat": 4,
 "nbformat_minor": 4
}
