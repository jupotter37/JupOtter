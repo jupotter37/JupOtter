{
 "cells": [
  {
   "cell_type": "markdown",
   "metadata": {},
   "source": [
    "# Intro to *git* and GitHub\n",
    "\n",
    "*git* is a version control system, especially for software code, and other things too such as data.\n",
    "\n",
    "GitHub is an online service, which provides *git* service. GitHub has also other features, such as bug tracking and also website for projects. Both *git* and GitHub are very popular among software developers and other kinds of developers too.\n",
    "\n",
    "## *git* on Navigating Complexity\n",
    "\n",
    "On *Navigating Complexity* we use *git* and GitHub simply to download exercise sheets. You are encouraged to learn to use them for coordinating your group work too.\n",
    "\n",
    "Some of the [Thursday exercises are distributed via GitHub](https://github.com/ituethoslab/navcom-2017). Once you have git installed, get them on your computer by running the following command once on the command line, at the beginning of the course.\n",
    "\n",
    "    git clone https://github.com/ituethoslab/navcom-2017.git\n",
    "\n",
    "The above will create a directory called `navcom-2017`. Afterwards, when you run the following two commands on the command line once a week at the beginning of the exercises, you will receive updates\n",
    "\n",
    "    cd navcom-2017\n",
    "    git pull\n",
    "    \n",
    "Do that every Thursday when we work with exercises which are delivered via GitHub."
   ]
  }
 ],
 "metadata": {
  "kernelspec": {
   "display_name": "Python 3",
   "language": "python",
   "name": "python3"
  },
  "language_info": {
   "codemirror_mode": {
    "name": "ipython",
    "version": 3
   },
   "file_extension": ".py",
   "mimetype": "text/x-python",
   "name": "python",
   "nbconvert_exporter": "python",
   "pygments_lexer": "ipython3",
   "version": "3.6.2"
  }
 },
 "nbformat": 4,
 "nbformat_minor": 2
}
