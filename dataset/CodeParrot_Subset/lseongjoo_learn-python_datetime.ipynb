{
 "cells": [
  {
   "cell_type": "markdown",
   "metadata": {},
   "source": [
    "날짜시간"
   ]
  },
  {
   "cell_type": "code",
   "execution_count": 2,
   "metadata": {
    "collapsed": false,
    "scrolled": true
   },
   "outputs": [
    {
     "name": "stdout",
     "output_type": "stream",
     "text": [
      "2015년 07월 08일\n"
     ]
    }
   ],
   "source": [
    "time_str = '2015-07-08 11:39:28'\n",
    "year = time_str[:4]\n",
    "month = time_str[5:7]\n",
    "day = time_str[8:10]\n",
    "\n",
    "print('{}년 {}월 {}일'.format(year, month, day))"
   ]
  },
  {
   "cell_type": "code",
   "execution_count": 4,
   "metadata": {
    "collapsed": false
   },
   "outputs": [
    {
     "name": "stdout",
     "output_type": "stream",
     "text": [
      "July년 8 월 5일\n"
     ]
    }
   ],
   "source": [
    "time_str = 'July 8 15'\n",
    "\n",
    "year = time_str[:4]\n",
    "month = time_str[5:7]\n",
    "day = time_str[8:10]\n",
    "\n",
    "print('{}년 {}월 {}일'.format(year, month, day))"
   ]
  },
  {
   "cell_type": "code",
   "execution_count": 3,
   "metadata": {
    "collapsed": false
   },
   "outputs": [
    {
     "ename": "TypeError",
     "evalue": "unsupported operand type(s) for -: 'str' and 'str'",
     "output_type": "error",
     "traceback": [
      "\u001b[0;31m---------------------------------------------------------------------------\u001b[0m",
      "\u001b[0;31mTypeError\u001b[0m                                 Traceback (most recent call last)",
      "\u001b[0;32m<ipython-input-3-22d996439ef9>\u001b[0m in \u001b[0;36m<module>\u001b[0;34m()\u001b[0m\n\u001b[1;32m      1\u001b[0m \u001b[0mstart_day\u001b[0m \u001b[0;34m=\u001b[0m \u001b[0;34m'2014-06-28'\u001b[0m\u001b[0;34m\u001b[0m\u001b[0m\n\u001b[1;32m      2\u001b[0m \u001b[0mend_day\u001b[0m \u001b[0;34m=\u001b[0m \u001b[0;34m'2015-07-08'\u001b[0m\u001b[0;34m\u001b[0m\u001b[0m\n\u001b[0;32m----> 3\u001b[0;31m \u001b[0mhow_many_days\u001b[0m \u001b[0;34m=\u001b[0m \u001b[0mend_day\u001b[0m \u001b[0;34m-\u001b[0m \u001b[0mstart_day\u001b[0m\u001b[0;34m\u001b[0m\u001b[0m\n\u001b[0m\u001b[1;32m      4\u001b[0m \u001b[0;32mprint\u001b[0m\u001b[0;34m(\u001b[0m\u001b[0mhow_many_days\u001b[0m\u001b[0;34m)\u001b[0m\u001b[0;34m\u001b[0m\u001b[0m\n",
      "\u001b[0;31mTypeError\u001b[0m: unsupported operand type(s) for -: 'str' and 'str'"
     ]
    }
   ],
   "source": [
    "start_day = '2014-06-28'\n",
    "end_day = '2015-07-08'\n",
    "how_many_days = end_day - start_day\n",
    "print(how_many_days)"
   ]
  },
  {
   "cell_type": "code",
   "execution_count": 125,
   "metadata": {
    "collapsed": true
   },
   "outputs": [],
   "source": [
    "from datetime import datetime"
   ]
  },
  {
   "cell_type": "code",
   "execution_count": 12,
   "metadata": {
    "collapsed": false
   },
   "outputs": [
    {
     "data": {
      "text/plain": [
       "datetime.datetime(2015, 7, 8, 14, 27, 0, 243933)"
      ]
     },
     "execution_count": 12,
     "metadata": {},
     "output_type": "execute_result"
    }
   ],
   "source": [
    "now = datetime.now()\n",
    "now"
   ]
  },
  {
   "cell_type": "code",
   "execution_count": 4,
   "metadata": {
    "collapsed": false
   },
   "outputs": [
    {
     "name": "stdout",
     "output_type": "stream",
     "text": [
      "29\n",
      "30\n"
     ]
    }
   ],
   "source": [
    "dt = datetime(2011,10,29,20,30,21)\n",
    "print(dt.day)\n",
    "print(dt.minute)"
   ]
  },
  {
   "cell_type": "code",
   "execution_count": 127,
   "metadata": {
    "collapsed": false
   },
   "outputs": [
    {
     "data": {
      "text/plain": [
       "datetime.datetime(1050, 1, 1, 0, 0)"
      ]
     },
     "execution_count": 127,
     "metadata": {},
     "output_type": "execute_result"
    }
   ],
   "source": [
    "middle_age = datetime(1050, 1,1)\n",
    "middle_age"
   ]
  },
  {
   "cell_type": "code",
   "execution_count": 5,
   "metadata": {
    "collapsed": false
   },
   "outputs": [
    {
     "data": {
      "text/plain": [
       "datetime.date(2011, 10, 29)"
      ]
     },
     "execution_count": 5,
     "metadata": {},
     "output_type": "execute_result"
    }
   ],
   "source": [
    "dt.date()"
   ]
  },
  {
   "cell_type": "code",
   "execution_count": 6,
   "metadata": {
    "collapsed": false
   },
   "outputs": [
    {
     "data": {
      "text/plain": [
       "datetime.time(20, 30, 21)"
      ]
     },
     "execution_count": 6,
     "metadata": {},
     "output_type": "execute_result"
    }
   ],
   "source": [
    "dt.time()"
   ]
  },
  {
   "cell_type": "markdown",
   "metadata": {},
   "source": [
    "datetime을 특정한 문자열 형식으로 출력"
   ]
  },
  {
   "cell_type": "code",
   "execution_count": 19,
   "metadata": {
    "collapsed": false
   },
   "outputs": [
    {
     "name": "stdout",
     "output_type": "stream",
     "text": [
      "Jul/08/2015 14:36 Wednesday\n",
      "2015-07-08 14:36 Wed\n"
     ]
    }
   ],
   "source": [
    "now = datetime.now()\n",
    "\n",
    "print(now.strftime('%b/%d/%Y %H:%M %A'))\n",
    "print(now.strftime('%Y-%m-%d %H:%M %a'))"
   ]
  },
  {
   "cell_type": "markdown",
   "metadata": {},
   "source": [
    "문자열로부터 datetime 객체 생성"
   ]
  },
  {
   "cell_type": "code",
   "execution_count": 23,
   "metadata": {
    "collapsed": false
   },
   "outputs": [
    {
     "data": {
      "text/plain": [
       "datetime.datetime(2009, 9, 10, 0, 0)"
      ]
     },
     "execution_count": 23,
     "metadata": {},
     "output_type": "execute_result"
    }
   ],
   "source": [
    "datetime.strptime('20091009', '%Y%d%m')"
   ]
  },
  {
   "cell_type": "code",
   "execution_count": 25,
   "metadata": {
    "collapsed": false
   },
   "outputs": [
    {
     "data": {
      "text/plain": [
       "datetime.datetime(2015, 7, 8, 14, 20)"
      ]
     },
     "execution_count": 25,
     "metadata": {},
     "output_type": "execute_result"
    }
   ],
   "source": [
    "# 2015-07-08 14:20 문자열을 datetime 객체로 변환\n",
    "# 참조: https://docs.python.org/2/library/datetime.html\n",
    "datetime.strptime('15-07-08 14:20', '%y-%m-%d %H:%M')"
   ]
  },
  {
   "cell_type": "markdown",
   "metadata": {},
   "source": [
    "# 시간 계산"
   ]
  },
  {
   "cell_type": "code",
   "execution_count": 32,
   "metadata": {
    "collapsed": false
   },
   "outputs": [
    {
     "ename": "TypeError",
     "evalue": "unsupported operand type(s) for +: 'datetime.datetime' and 'int'",
     "output_type": "error",
     "traceback": [
      "\u001b[0;31m---------------------------------------------------------------------------\u001b[0m",
      "\u001b[0;31mTypeError\u001b[0m                                 Traceback (most recent call last)",
      "\u001b[0;32m<ipython-input-32-3c9bb2e99ec4>\u001b[0m in \u001b[0;36m<module>\u001b[0;34m()\u001b[0m\n\u001b[1;32m      1\u001b[0m \u001b[0mnow\u001b[0m \u001b[0;34m=\u001b[0m \u001b[0mdatetime\u001b[0m\u001b[0;34m.\u001b[0m\u001b[0mnow\u001b[0m\u001b[0;34m(\u001b[0m\u001b[0;34m)\u001b[0m\u001b[0;34m\u001b[0m\u001b[0m\n\u001b[0;32m----> 2\u001b[0;31m \u001b[0;32mprint\u001b[0m\u001b[0;34m(\u001b[0m\u001b[0mnow\u001b[0m\u001b[0;34m+\u001b[0m\u001b[0;36m100\u001b[0m\u001b[0;34m)\u001b[0m \u001b[0;31m# 오류! 100초? 100일? 100년?\u001b[0m\u001b[0;34m\u001b[0m\u001b[0m\n\u001b[0m",
      "\u001b[0;31mTypeError\u001b[0m: unsupported operand type(s) for +: 'datetime.datetime' and 'int'"
     ]
    }
   ],
   "source": [
    "now = datetime.now()\n",
    "print(now+100) # 오류! 100초? 100일? 100년?"
   ]
  },
  {
   "cell_type": "code",
   "execution_count": 35,
   "metadata": {
    "collapsed": false
   },
   "outputs": [
    {
     "name": "stdout",
     "output_type": "stream",
     "text": [
      "11881 days, 15:03:52.835288\n",
      "<type 'datetime.timedelta'>\n",
      "1982-12-27 00:00:00\n"
     ]
    }
   ],
   "source": [
    "now = datetime.now()\n",
    "diff = now-datetime(1982,12,27)\n",
    "print(diff)\n",
    "print(type(diff))\n",
    "print(now-diff)"
   ]
  },
  {
   "cell_type": "code",
   "execution_count": 36,
   "metadata": {
    "collapsed": false
   },
   "outputs": [
    {
     "data": {
      "text/plain": [
       "datetime.datetime(2015, 6, 8, 15, 3, 52, 835288)"
      ]
     },
     "execution_count": 36,
     "metadata": {},
     "output_type": "execute_result"
    }
   ],
   "source": [
    "from datetime import timedelta\n",
    "now-timedelta(days=30)"
   ]
  },
  {
   "cell_type": "markdown",
   "metadata": {},
   "source": [
    "시간값 비교"
   ]
  },
  {
   "cell_type": "code",
   "execution_count": 39,
   "metadata": {
    "collapsed": false
   },
   "outputs": [
    {
     "data": {
      "text/plain": [
       "True"
      ]
     },
     "execution_count": 39,
     "metadata": {},
     "output_type": "execute_result"
    }
   ],
   "source": [
    "now > datetime(1982, 12,27)"
   ]
  },
  {
   "cell_type": "code",
   "execution_count": 40,
   "metadata": {
    "collapsed": false
   },
   "outputs": [
    {
     "data": {
      "text/plain": [
       "False"
      ]
     },
     "execution_count": 40,
     "metadata": {},
     "output_type": "execute_result"
    }
   ],
   "source": [
    "now == datetime(1982, 12,27)"
   ]
  },
  {
   "cell_type": "code",
   "execution_count": 42,
   "metadata": {
    "collapsed": false
   },
   "outputs": [
    {
     "data": {
      "text/plain": [
       "True"
      ]
     },
     "execution_count": 42,
     "metadata": {},
     "output_type": "execute_result"
    }
   ],
   "source": [
    "datetime(2015,7,30) < now+timedelta(days=30)"
   ]
  },
  {
   "cell_type": "markdown",
   "metadata": {},
   "source": [
    "## 도전과제\n",
    "\n",
    "이성주는 SJ전자의 주식을 보유하고 있다. 날마다 장 종료 시점의 가격을 기록하였다. 오늘로부터 7일 이전을 기준으로 90일간의 수익률을 계산해 출력하시오."
   ]
  },
  {
   "cell_type": "code",
   "execution_count": 58,
   "metadata": {
    "collapsed": false
   },
   "outputs": [],
   "source": [
    "import random\n",
    "from datetime import datetime, timedelta\n",
    "# 주식 가격 시뮬레이션\n",
    "def gen_stock_price(output_file, days=1000):\n",
    "    # 주식의 최초 가격 설정\n",
    "    price = 1000\n",
    "    # 기록 시작일 설정\n",
    "    day = datetime.now() - timedelta(days=days)\n",
    "    # 지정된 일수만큼 모의 데이터 생성\n",
    "    logs = []\n",
    "    for i in range(days):\n",
    "        # [-3, 3] 범위의 무작위 정수값을 생성\n",
    "        random_diff = random.randint(-3,3)\n",
    "        # 주식 가격의 등락을 시뮬레이션\n",
    "        price += random_diff        \n",
    "        # 파일로 출력할 문자열 설정\n",
    "        price_log = '{}: {}\\n'.format(day.strftime('%Y-%m-%d'), price)\n",
    "        logs.append(price_log)\n",
    "        # 다음날로 설정\n",
    "        day += timedelta(days=1)\n",
    "\n",
    "    # 파일 출력\n",
    "    f = open(output_file, 'w')\n",
    "    f.writelines(logs)\n",
    "    f.close()"
   ]
  },
  {
   "cell_type": "code",
   "execution_count": 123,
   "metadata": {
    "collapsed": false
   },
   "outputs": [],
   "source": [
    "gen_stock_price('sim_stock.txt')"
   ]
  },
  {
   "cell_type": "code",
   "execution_count": 116,
   "metadata": {
    "collapsed": false
   },
   "outputs": [],
   "source": [
    "def calc_profit(filename):\n",
    "    # 파일에서 데이터를 읽어오기\n",
    "    f = open(filename)\n",
    "    price_log = []\n",
    "    for line in f.readlines():\n",
    "        datetime_str, price = tuple(line[:-1].split(':'))\n",
    "        day = datetime.strptime(datetime_str, '%Y-%m-%d')\n",
    "        price_log.append((day, int(price)))\n",
    "    f.close()\n",
    "        \n",
    "    # 수익률 계산 구간 날짜 지정\n",
    "    end_day = datetime.now() - timedelta(days=7)\n",
    "    start_day = end_day - timedelta(days=90)\n",
    "    \n",
    "    # 각 날짜의 가격 가져오기\n",
    "    start_end_price = []\n",
    "    for log in price_log:\n",
    "        if start_day.date() == log[0].date() or end_day.date() == log[0].date():\n",
    "            start_end_price.append(log)\n",
    "    \n",
    "    # 수익률 계산\n",
    "    profit = (start_end_price[1][1] - start_end_price[0][1])/float(start_end_price[0][1])\n",
    "    return profit"
   ]
  },
  {
   "cell_type": "code",
   "execution_count": 124,
   "metadata": {
    "collapsed": false
   },
   "outputs": [
    {
     "name": "stdout",
     "output_type": "stream",
     "text": [
      "0.38%\n"
     ]
    }
   ],
   "source": [
    "from __future__ import print_function\n",
    "profit = calc_profit('sim_stock.txt')\n",
    "print('{:.2%}'.format(profit))"
   ]
  },
  {
   "cell_type": "code",
   "execution_count": null,
   "metadata": {
    "collapsed": true
   },
   "outputs": [],
   "source": []
  }
 ],
 "metadata": {
  "kernelspec": {
   "display_name": "Python 2",
   "language": "python",
   "name": "python2"
  },
  "language_info": {
   "codemirror_mode": {
    "name": "ipython",
    "version": 2
   },
   "file_extension": ".py",
   "mimetype": "text/x-python",
   "name": "python",
   "nbconvert_exporter": "python",
   "pygments_lexer": "ipython2",
   "version": "2.7.10"
  }
 },
 "nbformat": 4,
 "nbformat_minor": 0
}
