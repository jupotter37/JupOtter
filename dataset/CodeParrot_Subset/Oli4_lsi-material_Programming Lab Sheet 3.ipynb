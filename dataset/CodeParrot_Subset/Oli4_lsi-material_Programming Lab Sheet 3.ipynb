{
 "cells": [
  {
   "cell_type": "markdown",
   "metadata": {},
   "source": [
    "# Exercise 1: Complement a DNA string"
   ]
  },
  {
   "cell_type": "code",
   "execution_count": 1,
   "metadata": {
    "collapsed": true
   },
   "outputs": [],
   "source": [
    "def complement(dna):\n",
    "    '''\n",
    "    This function complements DNA. If characters other than \n",
    "    \"ATGCatgc-\" are in your DNA, this function raises an ValueError.\n",
    "    An empty DNA complements to an empty DNA.\n",
    "    Whitespaces is not allowed in the input.\n",
    "    '''\n",
    "    # Raise a ValueErrer if invalid characters are in the DNA\n",
    "    valid_chars = list('atgcATGC')\n",
    "    if not all([(char in valid_chars) for char in dna]):\n",
    "        raise ValueError    \n",
    "    \n",
    "    # Keep the case of the DNA.\n",
    "    dna = dna.translate(str.maketrans('ATGCatgc','TACGtacg'))\n",
    "    return dna            "
   ]
  },
  {
   "cell_type": "code",
   "execution_count": 2,
   "metadata": {
    "collapsed": false
   },
   "outputs": [
    {
     "name": "stdout",
     "output_type": "stream",
     "text": [
      "The input \"atgc  agaggattcc\" has no valid complement.\n",
      "The input \"ATGCATblubAatAggcA\" has no valid complement.\n",
      "The Input: ATAATTTAGGCCAGATAC   Output: TATTAAATCCGGTCTATG\n",
      "The Input: GGGGGCCATATA         Output: CCCCCGGTATAT\n",
      "The input \"ga--atg-tgaat--gtga\" has no valid complement.\n",
      "The Input:                      Output: \n",
      "The input \"This is not DNA\" has no valid complement.\n"
     ]
    }
   ],
   "source": [
    "# Test the function with several strings\n",
    "test_dnas =['atgc  agaggattcc', 'ATGCATblubAatAggcA',\n",
    "            'ATAATTTAGGCCAGATAC', 'GGGGGCCATATA',\n",
    "            'ga--atg-tgaat--gtga', '', 'This is not DNA']\n",
    "\n",
    "for dna in test_dnas:\n",
    "    try:\n",
    "        print('The Input: {:20} Output: {}'.format(dna, complement(dna)))\n",
    "    except ValueError:\n",
    "        print('The input \"{}\" has no valid complement.'.format(dna))"
   ]
  },
  {
   "cell_type": "markdown",
   "metadata": {},
   "source": [
    "# Exercise 2: Multiply two polynomials "
   ]
  },
  {
   "cell_type": "code",
   "execution_count": 3,
   "metadata": {
    "collapsed": false
   },
   "outputs": [],
   "source": [
    "def sign(number):\n",
    "    '''\n",
    "    Return the sign of a given number.\n",
    "    '''\n",
    "    if number >= 0:\n",
    "        return '+'\n",
    "    else: \n",
    "        return '-'\n",
    "    \n",
    "def print_polynom(poly):\n",
    "    '''\n",
    "    Print the list representation of a polynom as an\n",
    "    easy readable string.\n",
    "    '''\n",
    "    output = ''\n",
    "    for i in range(len(poly)):\n",
    "        output += ' {} {}x^{} '.format(sign(poly[i]),\n",
    "                                      abs(poly[i]), i)\n",
    "        output = output.strip('+ ')\n",
    "    return output\n",
    "\n",
    "def clean_polynom(poly):\n",
    "    '''\n",
    "    This function removes\n",
    "    '''\n",
    "    for i in range(len(poly)-1,-1,-1):\n",
    "        if poly[i] == 0:\n",
    "            poly.pop(i)\n",
    "        else:\n",
    "            break\n",
    "        if poly == []:\n",
    "            poly = [0]\n",
    "    return poly\n",
    "\n",
    "def multiply_polynoms(polyA, polyB):\n",
    "    '''\n",
    "    This fuction takes two lists as parameters which represent polynoms.\n",
    "    It returns the product of those two polynomes.\n",
    "    '''\n",
    "    result = [0]*(len(polyA)+len(polyB)-1)\n",
    "    for i in range(len(polyA)):\n",
    "        for j in range(len(polyB)):\n",
    "            result[i+j] += polyA[i]*polyB[j]    \n",
    "    return clean_polynom(result)"
   ]
  },
  {
   "cell_type": "code",
   "execution_count": 4,
   "metadata": {
    "collapsed": false
   },
   "outputs": [
    {
     "name": "stdout",
     "output_type": "stream",
     "text": [
      "(1x^0 + 1x^1) * (1x^0 + 1x^1) = 1x^0 + 2x^1 + 1x^2\n",
      "(1x^0 + 1x^1 + 1x^2) * (1x^0 + 1x^1 + 1x^2) = 1x^0 + 2x^1 + 3x^2 + 2x^3 + 1x^4\n",
      "(1x^0 + 1x^1) * (0x^0) = 0x^0\n"
     ]
    }
   ],
   "source": [
    "# Test the functions for several polynoms\n",
    "polynoms = [[[1,1], [1,1], [1,2,1]],\n",
    "            [[1,1,1], [1,1,1], [1,2,3,2,1]],\n",
    "            [[1,1], [0], [0]],]\n",
    "\n",
    "for poly1, poly2, result in polynoms:\n",
    "    computed = multiply_polynoms(poly1, poly2)\n",
    "    if computed != result:\n",
    "        print('The function does not work proberly.')\n",
    "    else:\n",
    "        print('({}) * ({}) = {}'.format(print_polynom(poly1),\n",
    "                                        print_polynom(poly2),\n",
    "                                        print_polynom(computed)))\n",
    "\n"
   ]
  },
  {
   "cell_type": "markdown",
   "metadata": {},
   "source": [
    "# Exercise 3: Anagram checker "
   ]
  },
  {
   "cell_type": "code",
   "execution_count": 5,
   "metadata": {
    "collapsed": false
   },
   "outputs": [],
   "source": [
    "def is_anagram(text1, text2):\n",
    "    '''\n",
    "    The function returns True if it's parameter string is a anagram. \n",
    "    If it is not a palindrom it returns False.\n",
    "    '''\n",
    "    import string\n",
    "    # Remove all punctuation characters and whitespace\n",
    "    text1 = text1.translate(str.maketrans(\"\",\"\",\n",
    "                                        string.punctuation+\n",
    "                                        string.whitespace+\n",
    "                                        string.digits))\n",
    "    text2 = text2.translate(str.maketrans(\"\",\"\",\n",
    "                                        string.punctuation+\n",
    "                                        string.whitespace+\n",
    "                                        string.digits))\n",
    "    text1 = text1.lower()\n",
    "    text2 = text2.lower()\n",
    "    \n",
    "    x = {x:text1.count(x) for x in set(text1)}\n",
    "    y = {x:text2.count(x) for x in set(text2)}\n",
    "    if x == y:\n",
    "        return True\n",
    "    else:\n",
    "        return False"
   ]
  },
  {
   "cell_type": "code",
   "execution_count": 6,
   "metadata": {
    "collapsed": false
   },
   "outputs": [
    {
     "name": "stdout",
     "output_type": "stream",
     "text": [
      "\"Anna\" is a anagram of \"Anna\"\n",
      "\"\" is not a anagram of \"Anna\"\n",
      "\"Anna\" is not a anagram of \"\"\n",
      "\"UFO tofu?\" is a anagram of \"Tofu UFO!\"\n",
      "\"Anna\" is not a anagram of \"Paul\"\n",
      "\"Dichtungsring\" is a anagram of \"Richtungsding\"\n"
     ]
    }
   ],
   "source": [
    "# Test the function for several palindroms\n",
    "test_text =[['Anna','Anna'],\n",
    "            ['','Anna'],\n",
    "            ['Anna', ''],\n",
    "            ['UFO tofu?','Tofu UFO!'],\n",
    "            ['Anna', 'Paul'],\n",
    "            ['Dichtungsring', 'Richtungsding']]\n",
    "\n",
    "for text1, text2 in test_text:\n",
    "    #Remove all punctuation characters for a clean output.\n",
    "    if is_anagram(text1, text2):\n",
    "        print('\"{}\" is a anagram of \"{}\"'.format(text1, text2))\n",
    "    else:\n",
    "        print('\"{}\" is not a anagram of \"{}\"'.format(text1, text2))\n"
   ]
  }
 ],
 "metadata": {
  "kernelspec": {
   "display_name": "Python 3",
   "language": "python",
   "name": "python3"
  },
  "language_info": {
   "codemirror_mode": {
    "name": "ipython",
    "version": 3
   },
   "file_extension": ".py",
   "mimetype": "text/x-python",
   "name": "python",
   "nbconvert_exporter": "python",
   "pygments_lexer": "ipython3",
   "version": "3.5.2"
  }
 },
 "nbformat": 4,
 "nbformat_minor": 1
}
