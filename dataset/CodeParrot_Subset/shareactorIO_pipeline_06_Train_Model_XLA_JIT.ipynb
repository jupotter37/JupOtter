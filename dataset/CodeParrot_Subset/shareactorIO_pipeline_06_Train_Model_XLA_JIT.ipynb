{
 "cells": [
  {
   "cell_type": "markdown",
   "metadata": {},
   "source": [
    "# Train Model with XLA JIT Enabled"
   ]
  },
  {
   "cell_type": "markdown",
   "metadata": {},
   "source": [
    "## Run the Next Cell to Show XLA JIT Training Code"
   ]
  },
  {
   "cell_type": "code",
   "execution_count": null,
   "metadata": {},
   "outputs": [],
   "source": [
    "cat /root/src/main/python/xla/train_linear_xla.py"
   ]
  },
  {
   "cell_type": "markdown",
   "metadata": {},
   "source": [
    "## Run the Next Cell \n",
    "\n",
    "Note:  The cell below will report `Aborted (core dumped)`, but it still generate some useful info.\n",
    "\n",
    "Click on the following generated files in File Browser in Left Navigation\n",
    "* `train_linear_xla.log` **(Log File)**  \n",
    "* `hlo_graph_*` **(JIT Visualizations)** \n",
    "\n",
    "Reference of All XLA Operations\n",
    "* https://www.tensorflow.org/performance/xla/operation_semantics\n",
    "\n"
   ]
  },
  {
   "cell_type": "code",
   "execution_count": null,
   "metadata": {},
   "outputs": [],
   "source": [
    "%%bash\n",
    "\n",
    "python /root/src/main/python/xla/train_linear_xla.py &> train_linear_xla.log\n",
    "\n",
    "dot -T png /tmp/hlo_graph_1.*.dot -o /root/notebooks/hlo_graph_1.png &>/dev/null \n",
    "\n",
    "dot -T png /tmp/hlo_graph_10.*.dot -o /root/notebooks/hlo_graph_10.png &>/dev/null \n",
    "\n",
    "dot -T png /tmp/hlo_graph_25.*.dot -o /root/notebooks/hlo_graph_25.png &>/dev/null \n",
    "\n",
    "dot -T png /tmp/hlo_graph_50.*.dot -o /root/notebooks/hlo_graph_50.png &>/dev/null "
   ]
  },
  {
   "cell_type": "code",
   "execution_count": null,
   "metadata": {},
   "outputs": [],
   "source": []
  }
 ],
 "metadata": {
  "kernelspec": {
   "display_name": "Python [default]",
   "language": "python",
   "name": "python3"
  },
  "language_info": {
   "codemirror_mode": {
    "name": "ipython",
    "version": 3
   },
   "file_extension": ".py",
   "mimetype": "text/x-python",
   "name": "python",
   "nbconvert_exporter": "python",
   "pygments_lexer": "ipython3",
   "version": "3.5.3"
  }
 },
 "nbformat": 4,
 "nbformat_minor": 2
}
