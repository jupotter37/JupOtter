{
 "cells": [
  {
   "cell_type": "code",
   "execution_count": 1,
   "metadata": {
    "collapsed": false
   },
   "outputs": [
    {
     "name": "stdout",
     "output_type": "stream",
     "text": [
      "VIZUALISATION TIMER: igraph layouting : 2016-05-23 16:44:36.721799\n",
      "VIZUALISATION TIMER: returning coordinates : 2016-05-23 16:44:36.766165\n",
      "Layouting took : 0 seconds using Fruchterman-Reingold\n",
      "VIZUALISATION TIMER: returning response to frontend : 2016-05-23 16:44:36.766627\n"
     ]
    },
    {
     "data": {
      "text/html": [
       "\n",
       "\n",
       "    <!-- Beginning of javascript injected by multinet.js -->\n",
       "    <script type=\"text/javascript\" src=\"multinet/static/js/jquery-2.1.4.js\"></script>\n",
       "    <script type=\"text/javascript\" src=\"multinet/static/js/jquery-ui-1.11.4.js\"></script>\n",
       "\n",
       "    <script type=\"text/javascript\" src=\"multinet/static/js/threejs/three-r71.js\"></script>\n",
       "    <script type=\"text/javascript\" src=\"multinet/static/js/threejs/orbitcontrols.js\"></script>\n",
       "    <script type=\"text/javascript\" src=\"multinet/static/js/threejs/stats-r12.min.js\"></script>\n",
       "    <script type=\"text/javascript\" src=\"multinet/static/js/threejs/detector.js\"></script>\n",
       "\n",
       "    <script type=\"text/javascript\" src=\"multinet/static/js/multinet-core.js\"></script>\n",
       "    <script type=\"text/javascript\" src=\"multinet/static/js/multinet-ipython.js\"></script>\n",
       "    <script type=\"text/javascript\">\n",
       "        var multinet_javascript_injected = true;\n",
       "    </script>\n",
       "    <!-- End of javascript injected by multinet.js -->\n",
       "    "
      ],
      "text/plain": [
       "<IPython.core.display.HTML object>"
      ]
     },
     "metadata": {},
     "output_type": "display_data"
    },
    {
     "data": {
      "text/html": [
       "<h1>The Graph</h1>\n",
       "\n",
       "<div id=\"container\" style=\"width: 700px; height: 400px;\"></div>\n",
       "\n",
       "<div id=\"slider-container\" style=\"display: none;\">\n",
       "    <input type=\"text\" id=\"year\" readonly>\n",
       "    <div id=\"slider\" style=\"float:right;\"></div>\n",
       "</div>\n",
       "\n",
       "<script>\n",
       "var data = {\"layers\": [{\"maxDeg\": [0, 0, 0, 0, 0, 1.0], \"neighborhood\": {\"1\": [[\"2\", \"00-00-0000\"]], \"3\": [[\"4\", \"00-00-0000\"]], \"2\": [[\"3\", \"00-00-0000\"]], \"4\": [[\"1\", \"00-00-0000\"]], \"9\": [], \"8\": []}, \"name\": \"l1\", \"coords\": {\"1\": [[137.15370178222656, 176.9801788330078], 1, 0, 0, 0, 1], \"3\": [[123.90498352050781, 157.82745361328125], 1, 0, 0, 0, 1], \"2\": [[113.75052642822266, 192.21841430664062], 1, 0, 0, 0, 1], \"4\": [[178.77322387695312, 101.01006317138672], 0, 0, 0, 0, 1]}, \"edges\": [[\"1\", \"2\", \"00-00-0000\"], [\"2\", \"3\", \"00-00-0000\"], [\"3\", \"4\", \"00-00-0000\"], [\"4\", \"1\", \"00-00-0000\"]], \"edge_ct\": 0, \"out_degrees\": {}, \"in_degrees\": {}, \"nodes\": [\"1\", \"3\", \"2\", \"4\"], \"node_ct\": 0}, {\"maxDeg\": [0, 0, 0, 0, 0, 1.0], \"neighborhood\": {\"1\": [[\"3\", \"00-00-0000\"], [\"9\", \"00-00-0000\"]], \"3\": [], \"2\": [], \"4\": [], \"9\": [[\"2\", \"00-00-0000\"]], \"8\": [[\"3\", \"00-00-0000\"]]}, \"name\": \"l2\", \"coords\": {\"1\": [[137.15370178222656, 176.9801788330078], 1, 0, 0, 0, 1], \"9\": [[149.8124542236328, 131.32969665527344], 0, 0, 0, 0, 1], \"3\": [[123.90498352050781, 157.82745361328125], 1, 0, 0, 0, 1], \"2\": [[113.75052642822266, 192.21841430664062], 1, 0, 0, 0, 1], \"8\": [[61.824710845947266, 70.40167236328125], 0, 0, 0, 0, 1]}, \"edges\": [[\"1\", \"3\", \"00-00-0000\"], [\"1\", \"9\", \"00-00-0000\"], [\"9\", \"2\", \"00-00-0000\"], [\"8\", \"3\", \"00-00-0000\"]], \"edge_ct\": 0, \"out_degrees\": {}, \"in_degrees\": {}, \"nodes\": [\"1\", \"9\", \"3\", \"2\", \"8\"], \"node_ct\": 0}], \"directed\": true, \"layout\": \"Fruchterman-Reingold\", \"max_node_ct\": 5, \"layer_ct\": 2, \"width\": 246.36582946777344, \"l2\": {\"maxDeg\": [0, 0, 0, 0, 0, 1.0], \"neighborhood\": {\"1\": [[\"3\", \"00-00-0000\"], [\"9\", \"00-00-0000\"]], \"3\": [], \"2\": [], \"4\": [], \"9\": [[\"2\", \"00-00-0000\"]], \"8\": [[\"3\", \"00-00-0000\"]]}, \"name\": \"l2\", \"coords\": {\"1\": [[137.15370178222656, 176.9801788330078], 1, 0, 0, 0, 1], \"9\": [[149.8124542236328, 131.32969665527344], 0, 0, 0, 0, 1], \"3\": [[123.90498352050781, 157.82745361328125], 1, 0, 0, 0, 1], \"2\": [[113.75052642822266, 192.21841430664062], 1, 0, 0, 0, 1], \"8\": [[61.824710845947266, 70.40167236328125], 0, 0, 0, 0, 1]}, \"edges\": [[\"1\", \"3\", \"00-00-0000\"], [\"1\", \"9\", \"00-00-0000\"], [\"9\", \"2\", \"00-00-0000\"], [\"8\", \"3\", \"00-00-0000\"]], \"edge_ct\": 0, \"out_degrees\": {}, \"in_degrees\": {}, \"nodes\": [\"1\", \"9\", \"3\", \"2\", \"8\"], \"node_ct\": 0}, \"data_labels\": [], \"l1\": {\"maxDeg\": [0, 0, 0, 0, 0, 1.0], \"neighborhood\": {\"1\": [[\"2\", \"00-00-0000\"]], \"3\": [[\"4\", \"00-00-0000\"]], \"2\": [[\"3\", \"00-00-0000\"]], \"4\": [[\"1\", \"00-00-0000\"]], \"9\": [], \"8\": []}, \"name\": \"l1\", \"coords\": {\"1\": [[137.15370178222656, 176.9801788330078], 1, 0, 0, 0, 1], \"3\": [[123.90498352050781, 157.82745361328125], 1, 0, 0, 0, 1], \"2\": [[113.75052642822266, 192.21841430664062], 1, 0, 0, 0, 1], \"4\": [[178.77322387695312, 101.01006317138672], 0, 0, 0, 0, 1]}, \"edges\": [[\"1\", \"2\", \"00-00-0000\"], [\"2\", \"3\", \"00-00-0000\"], [\"3\", \"4\", \"00-00-0000\"], [\"4\", \"1\", \"00-00-0000\"]], \"edge_ct\": 0, \"out_degrees\": {}, \"in_degrees\": {}, \"nodes\": [\"1\", \"3\", \"2\", \"4\"], \"node_ct\": 0}, \"node_data\": {\"1\": [], \"3\": [], \"2\": [], \"4\": [], \"9\": [], \"8\": []}, \"custom_scale\": false, \"unique_keys\": [\"00-00-0000\"]}\n",
       "var globalData = data;\n",
       "\n",
       "console.log(data)\n",
       "createGraph3D(data, new RenderData());\n",
       "</script>"
      ],
      "text/plain": [
       "<IPython.core.display.HTML object>"
      ]
     },
     "metadata": {},
     "output_type": "display_data"
    }
   ],
   "source": [
    "from multinet.render import MultiGraph\n",
    "from multinet.ipython import plot_3d, init_3d\n",
    "\n",
    "g = MultiGraph()\n",
    "g.add_layer(\"l1\")\n",
    "g.add_layer(\"l2\")\n",
    "\n",
    "g.add_edge(\"1\", \"2\", \"l1\")\n",
    "g.add_edge(\"2\", \"3\", \"l1\")\n",
    "g.add_edge(\"3\", \"4\", \"l1\")\n",
    "g.add_edge(\"4\", \"1\", \"l1\")\n",
    "\n",
    "g.add_edge(\"1\", \"3\", \"l2\")\n",
    "g.add_edge(\"1\", \"9\", \"l2\")\n",
    "g.add_edge(\"9\", \"2\", \"l2\")\n",
    "g.add_edge(\"8\", \"3\", \"l2\")\n",
    "\n",
    "\n",
    "res = g.layout()\n",
    "#print(res)\n",
    "init_3d()\n",
    "plot_3d(res)"
   ]
  }
 ],
 "metadata": {
  "kernelspec": {
   "display_name": "Python 2",
   "language": "python",
   "name": "python2"
  },
  "language_info": {
   "codemirror_mode": {
    "name": "ipython",
    "version": 2
   },
   "file_extension": ".py",
   "mimetype": "text/x-python",
   "name": "python",
   "nbconvert_exporter": "python",
   "pygments_lexer": "ipython2",
   "version": "2.7.6"
  }
 },
 "nbformat": 4,
 "nbformat_minor": 0
}
