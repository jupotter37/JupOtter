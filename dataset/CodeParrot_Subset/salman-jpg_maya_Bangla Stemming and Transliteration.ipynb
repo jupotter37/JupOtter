{
 "cells": [
  {
   "cell_type": "markdown",
   "metadata": {},
   "source": [
    "# Using Indic NLP Library\n",
    "[https://github.com/anoopkunchukuttan/indic_nlp_library](https://github.com/anoopkunchukuttan/indic_nlp_library)"
   ]
  },
  {
   "cell_type": "markdown",
   "metadata": {},
   "source": [
    "## Morphological Analysis"
   ]
  },
  {
   "cell_type": "code",
   "execution_count": 1,
   "metadata": {
    "collapsed": true
   },
   "outputs": [],
   "source": [
    "from indicnlp.morph import unsupervised_morph "
   ]
  },
  {
   "cell_type": "code",
   "execution_count": 2,
   "metadata": {
    "collapsed": true
   },
   "outputs": [],
   "source": [
    "morph = unsupervised_morph.UnsupervisedMorphAnalyzer(\"bn\")"
   ]
  },
  {
   "cell_type": "code",
   "execution_count": 25,
   "metadata": {
    "collapsed": false
   },
   "outputs": [],
   "source": [
    "text = u\"\"\"\\\n",
    "করা করেছিলাম করেছি করতে করেছিল হয়েছে হয়েছিল হয় হওয়ার হবে আবিষ্কৃত আবিষ্কার অভিষিক্ত অভিষেক অভিষেকের আমি আমার আমাদের তুমি তোমার তোমাদের বসা বসেছিল বসে বসি বসেছিলাম বস বসার\\\n",
    "\"\"\""
   ]
  },
  {
   "cell_type": "code",
   "execution_count": 26,
   "metadata": {
    "collapsed": false
   },
   "outputs": [],
   "source": [
    "word_token = text.split(\" \")"
   ]
  },
  {
   "cell_type": "code",
   "execution_count": 5,
   "metadata": {
    "collapsed": true
   },
   "outputs": [],
   "source": [
    "word_morph = []\n",
    "\n",
    "for i in word_token:\n",
    "    word_morph.append(morph.morph_analyze(i))"
   ]
  },
  {
   "cell_type": "code",
   "execution_count": 6,
   "metadata": {
    "collapsed": false
   },
   "outputs": [],
   "source": [
    "import pandas as pd"
   ]
  },
  {
   "cell_type": "code",
   "execution_count": 7,
   "metadata": {
    "collapsed": true
   },
   "outputs": [],
   "source": [
    "indic = pd.DataFrame({\"1_Word\": word_token, \"2_Morpheme\": word_morph})"
   ]
  },
  {
   "cell_type": "code",
   "execution_count": 8,
   "metadata": {
    "collapsed": false
   },
   "outputs": [
    {
     "data": {
      "text/html": [
       "<div>\n",
       "<table border=\"1\" class=\"dataframe\">\n",
       "  <thead>\n",
       "    <tr style=\"text-align: right;\">\n",
       "      <th></th>\n",
       "      <th>1_Word</th>\n",
       "      <th>2_Morpheme</th>\n",
       "    </tr>\n",
       "  </thead>\n",
       "  <tbody>\n",
       "    <tr>\n",
       "      <th>0</th>\n",
       "      <td>করা</td>\n",
       "      <td>[করা]</td>\n",
       "    </tr>\n",
       "    <tr>\n",
       "      <th>1</th>\n",
       "      <td>করেছিলাম</td>\n",
       "      <td>[করে, ছিলাম]</td>\n",
       "    </tr>\n",
       "    <tr>\n",
       "      <th>2</th>\n",
       "      <td>করেছি</td>\n",
       "      <td>[করেছ, ি]</td>\n",
       "    </tr>\n",
       "    <tr>\n",
       "      <th>3</th>\n",
       "      <td>করতে</td>\n",
       "      <td>[কর, তে]</td>\n",
       "    </tr>\n",
       "    <tr>\n",
       "      <th>4</th>\n",
       "      <td>করেছিল</td>\n",
       "      <td>[করেছিল]</td>\n",
       "    </tr>\n",
       "    <tr>\n",
       "      <th>5</th>\n",
       "      <td>হয়েছে</td>\n",
       "      <td>[হয়ে, ছে]</td>\n",
       "    </tr>\n",
       "    <tr>\n",
       "      <th>6</th>\n",
       "      <td>হয়েছিল</td>\n",
       "      <td>[হয়ে, ছিল]</td>\n",
       "    </tr>\n",
       "    <tr>\n",
       "      <th>7</th>\n",
       "      <td>হয়</td>\n",
       "      <td>[হয়]</td>\n",
       "    </tr>\n",
       "    <tr>\n",
       "      <th>8</th>\n",
       "      <td>হওয়ার</td>\n",
       "      <td>[হওয়ার]</td>\n",
       "    </tr>\n",
       "    <tr>\n",
       "      <th>9</th>\n",
       "      <td>হবে</td>\n",
       "      <td>[হবে]</td>\n",
       "    </tr>\n",
       "    <tr>\n",
       "      <th>10</th>\n",
       "      <td>আবিষ্কৃত</td>\n",
       "      <td>[আবিষ্, কৃত]</td>\n",
       "    </tr>\n",
       "    <tr>\n",
       "      <th>11</th>\n",
       "      <td>আবিষ্কার</td>\n",
       "      <td>[আবিষ্কার]</td>\n",
       "    </tr>\n",
       "    <tr>\n",
       "      <th>12</th>\n",
       "      <td>অভিষিক্ত</td>\n",
       "      <td>[অভি, ষি, ক্ত]</td>\n",
       "    </tr>\n",
       "    <tr>\n",
       "      <th>13</th>\n",
       "      <td>অভিষেক</td>\n",
       "      <td>[অভিষেক]</td>\n",
       "    </tr>\n",
       "    <tr>\n",
       "      <th>14</th>\n",
       "      <td>অভিষেকের</td>\n",
       "      <td>[অভিষেক, ের]</td>\n",
       "    </tr>\n",
       "    <tr>\n",
       "      <th>15</th>\n",
       "      <td>আমি</td>\n",
       "      <td>[আমি]</td>\n",
       "    </tr>\n",
       "    <tr>\n",
       "      <th>16</th>\n",
       "      <td>আমার</td>\n",
       "      <td>[আমার]</td>\n",
       "    </tr>\n",
       "    <tr>\n",
       "      <th>17</th>\n",
       "      <td>আমাদের</td>\n",
       "      <td>[আমাদের]</td>\n",
       "    </tr>\n",
       "    <tr>\n",
       "      <th>18</th>\n",
       "      <td>তুমি</td>\n",
       "      <td>[তুমি]</td>\n",
       "    </tr>\n",
       "    <tr>\n",
       "      <th>19</th>\n",
       "      <td>তোমার</td>\n",
       "      <td>[তো, মার]</td>\n",
       "    </tr>\n",
       "    <tr>\n",
       "      <th>20</th>\n",
       "      <td>তোমাদের</td>\n",
       "      <td>[তোমাদের]</td>\n",
       "    </tr>\n",
       "    <tr>\n",
       "      <th>21</th>\n",
       "      <td>বসা</td>\n",
       "      <td>[বসা]</td>\n",
       "    </tr>\n",
       "    <tr>\n",
       "      <th>22</th>\n",
       "      <td>বসেছিল</td>\n",
       "      <td>[বসে, ছিল]</td>\n",
       "    </tr>\n",
       "    <tr>\n",
       "      <th>23</th>\n",
       "      <td>বসে</td>\n",
       "      <td>[বসে]</td>\n",
       "    </tr>\n",
       "    <tr>\n",
       "      <th>24</th>\n",
       "      <td>বসি</td>\n",
       "      <td>[ব, সি]</td>\n",
       "    </tr>\n",
       "    <tr>\n",
       "      <th>25</th>\n",
       "      <td>বসেছিলাম</td>\n",
       "      <td>[বসে, ছিলাম]</td>\n",
       "    </tr>\n",
       "    <tr>\n",
       "      <th>26</th>\n",
       "      <td>বস</td>\n",
       "      <td>[বস]</td>\n",
       "    </tr>\n",
       "    <tr>\n",
       "      <th>27</th>\n",
       "      <td>বসার</td>\n",
       "      <td>[বসা, র]</td>\n",
       "    </tr>\n",
       "  </tbody>\n",
       "</table>\n",
       "</div>"
      ],
      "text/plain": [
       "      1_Word      2_Morpheme\n",
       "0        করা           [করা]\n",
       "1   করেছিলাম    [করে, ছিলাম]\n",
       "2      করেছি       [করেছ, ি]\n",
       "3       করতে        [কর, তে]\n",
       "4     করেছিল        [করেছিল]\n",
       "5      হয়েছে       [হয়ে, ছে]\n",
       "6     হয়েছিল      [হয়ে, ছিল]\n",
       "7         হয়            [হয়]\n",
       "8      হওয়ার         [হওয়ার]\n",
       "9        হবে           [হবে]\n",
       "10  আবিষ্কৃত    [আবিষ্, কৃত]\n",
       "11  আবিষ্কার      [আবিষ্কার]\n",
       "12  অভিষিক্ত  [অভি, ষি, ক্ত]\n",
       "13    অভিষেক        [অভিষেক]\n",
       "14  অভিষেকের    [অভিষেক, ের]\n",
       "15       আমি           [আমি]\n",
       "16      আমার          [আমার]\n",
       "17    আমাদের        [আমাদের]\n",
       "18      তুমি          [তুমি]\n",
       "19     তোমার       [তো, মার]\n",
       "20   তোমাদের       [তোমাদের]\n",
       "21       বসা           [বসা]\n",
       "22    বসেছিল      [বসে, ছিল]\n",
       "23       বসে           [বসে]\n",
       "24       বসি         [ব, সি]\n",
       "25  বসেছিলাম    [বসে, ছিলাম]\n",
       "26        বস            [বস]\n",
       "27      বসার        [বসা, র]"
      ]
     },
     "execution_count": 8,
     "metadata": {},
     "output_type": "execute_result"
    }
   ],
   "source": [
    "indic"
   ]
  },
  {
   "cell_type": "markdown",
   "metadata": {},
   "source": [
    "## Transliteration"
   ]
  },
  {
   "cell_type": "code",
   "execution_count": 9,
   "metadata": {
    "collapsed": true
   },
   "outputs": [],
   "source": [
    "from indicnlp.transliterate.unicode_transliterate import ItransTransliterator"
   ]
  },
  {
   "cell_type": "code",
   "execution_count": 10,
   "metadata": {
    "collapsed": true
   },
   "outputs": [],
   "source": [
    "bangla_text = \"ami apni tumi tomar tomader amar apnar apnader akash\""
   ]
  },
  {
   "cell_type": "code",
   "execution_count": 11,
   "metadata": {
    "collapsed": true
   },
   "outputs": [],
   "source": [
    "text_trans = ItransTransliterator.from_itrans(bangla_text, \"bn\")"
   ]
  },
  {
   "cell_type": "code",
   "execution_count": 12,
   "metadata": {
    "collapsed": false
   },
   "outputs": [
    {
     "name": "stdout",
     "output_type": "stream",
     "text": [
      "u'অমি অপ্নি তুমি তোমর্ তোমদের্ অমর্ অপ্নর্ অপ্নদের্ অকশ্'\n"
     ]
    }
   ],
   "source": [
    "print repr(text_trans).decode(\"unicode_escape\")"
   ]
  },
  {
   "cell_type": "markdown",
   "metadata": {},
   "source": [
    "# Using Silpa\n",
    "[https://github.com/libindic/Silpa-Flask](https://github.com/libindic/Silpa-Flask)"
   ]
  },
  {
   "cell_type": "markdown",
   "metadata": {},
   "source": [
    "## Transliteration"
   ]
  },
  {
   "cell_type": "code",
   "execution_count": 13,
   "metadata": {
    "collapsed": true
   },
   "outputs": [],
   "source": [
    "from transliteration import getInstance "
   ]
  },
  {
   "cell_type": "code",
   "execution_count": 14,
   "metadata": {
    "collapsed": true
   },
   "outputs": [],
   "source": [
    "trans = getInstance()"
   ]
  },
  {
   "cell_type": "code",
   "execution_count": 15,
   "metadata": {
    "collapsed": false
   },
   "outputs": [
    {
     "name": "stdout",
     "output_type": "stream",
     "text": [
      "Found  6  rules.\n",
      "Found  6  rules.\n",
      "Found  6  rules.\n",
      "Found  6  rules.\n",
      "Found  6  rules.\n",
      "Found  6  rules.\n",
      "Found  6  rules.\n",
      "Found  6  rules.\n",
      "Found  6  rules.\n"
     ]
    }
   ],
   "source": [
    "text_trans = trans.transliterate(bangla_text, \"bn_IN\")"
   ]
  },
  {
   "cell_type": "code",
   "execution_count": 16,
   "metadata": {
    "collapsed": false
   },
   "outputs": [
    {
     "name": "stdout",
     "output_type": "stream",
     "text": [
      "u'ওমী     অমোর    '\n"
     ]
    }
   ],
   "source": [
    "print repr(text_trans).decode(\"unicode_escape\")"
   ]
  },
  {
   "cell_type": "markdown",
   "metadata": {},
   "source": [
    "# Using BengaliStemmer\n",
    "[https://github.com/gdebasis/BengaliStemmer](https://github.com/gdebasis/BengaliStemmer)"
   ]
  },
  {
   "cell_type": "markdown",
   "metadata": {},
   "source": [
    "## Stemming"
   ]
  },
  {
   "cell_type": "code",
   "execution_count": 17,
   "metadata": {
    "collapsed": true
   },
   "outputs": [],
   "source": [
    "import rbs"
   ]
  },
  {
   "cell_type": "code",
   "execution_count": 18,
   "metadata": {
    "collapsed": false
   },
   "outputs": [],
   "source": [
    "word_stem1 = []\n",
    "\n",
    "for i in word_token:\n",
    "    word_stem1.append(rbs.stemWord(i, True))"
   ]
  },
  {
   "cell_type": "code",
   "execution_count": 19,
   "metadata": {
    "collapsed": false
   },
   "outputs": [],
   "source": [
    "bs1 = pd.DataFrame({\"1_Word\": word_token, \"2_Stem\": word_stem1})"
   ]
  },
  {
   "cell_type": "code",
   "execution_count": 20,
   "metadata": {
    "collapsed": false
   },
   "outputs": [
    {
     "data": {
      "text/html": [
       "<div>\n",
       "<table border=\"1\" class=\"dataframe\">\n",
       "  <thead>\n",
       "    <tr style=\"text-align: right;\">\n",
       "      <th></th>\n",
       "      <th>1_Word</th>\n",
       "      <th>2_Stem</th>\n",
       "    </tr>\n",
       "  </thead>\n",
       "  <tbody>\n",
       "    <tr>\n",
       "      <th>0</th>\n",
       "      <td>করা</td>\n",
       "      <td>কর</td>\n",
       "    </tr>\n",
       "    <tr>\n",
       "      <th>1</th>\n",
       "      <td>করেছিলাম</td>\n",
       "      <td>করেছিলাম</td>\n",
       "    </tr>\n",
       "    <tr>\n",
       "      <th>2</th>\n",
       "      <td>করেছি</td>\n",
       "      <td>করেছ</td>\n",
       "    </tr>\n",
       "    <tr>\n",
       "      <th>3</th>\n",
       "      <td>করতে</td>\n",
       "      <td>করত</td>\n",
       "    </tr>\n",
       "    <tr>\n",
       "      <th>4</th>\n",
       "      <td>করেছিল</td>\n",
       "      <td>করেছিল</td>\n",
       "    </tr>\n",
       "    <tr>\n",
       "      <th>5</th>\n",
       "      <td>হয়েছে</td>\n",
       "      <td>হয়েছ</td>\n",
       "    </tr>\n",
       "    <tr>\n",
       "      <th>6</th>\n",
       "      <td>হয়েছিল</td>\n",
       "      <td>হয়েছিল</td>\n",
       "    </tr>\n",
       "    <tr>\n",
       "      <th>7</th>\n",
       "      <td>হয়</td>\n",
       "      <td>হ</td>\n",
       "    </tr>\n",
       "    <tr>\n",
       "      <th>8</th>\n",
       "      <td>হওয়ার</td>\n",
       "      <td>হ</td>\n",
       "    </tr>\n",
       "    <tr>\n",
       "      <th>9</th>\n",
       "      <td>হবে</td>\n",
       "      <td>হব</td>\n",
       "    </tr>\n",
       "    <tr>\n",
       "      <th>10</th>\n",
       "      <td>আবিষ্কৃত</td>\n",
       "      <td>আবিষ্কৃত</td>\n",
       "    </tr>\n",
       "    <tr>\n",
       "      <th>11</th>\n",
       "      <td>আবিষ্কার</td>\n",
       "      <td>আবিষ্ক</td>\n",
       "    </tr>\n",
       "    <tr>\n",
       "      <th>12</th>\n",
       "      <td>অভিষিক্ত</td>\n",
       "      <td>অভিষিক্ত</td>\n",
       "    </tr>\n",
       "    <tr>\n",
       "      <th>13</th>\n",
       "      <td>অভিষেক</td>\n",
       "      <td>অভিষেক</td>\n",
       "    </tr>\n",
       "    <tr>\n",
       "      <th>14</th>\n",
       "      <td>অভিষেকের</td>\n",
       "      <td>অভিষেক</td>\n",
       "    </tr>\n",
       "    <tr>\n",
       "      <th>15</th>\n",
       "      <td>আমি</td>\n",
       "      <td>আম</td>\n",
       "    </tr>\n",
       "    <tr>\n",
       "      <th>16</th>\n",
       "      <td>আমার</td>\n",
       "      <td>আমার</td>\n",
       "    </tr>\n",
       "    <tr>\n",
       "      <th>17</th>\n",
       "      <td>আমাদের</td>\n",
       "      <td>আম</td>\n",
       "    </tr>\n",
       "    <tr>\n",
       "      <th>18</th>\n",
       "      <td>তুমি</td>\n",
       "      <td>তুম</td>\n",
       "    </tr>\n",
       "    <tr>\n",
       "      <th>19</th>\n",
       "      <td>তোমার</td>\n",
       "      <td>তোম</td>\n",
       "    </tr>\n",
       "    <tr>\n",
       "      <th>20</th>\n",
       "      <td>তোমাদের</td>\n",
       "      <td>তোম</td>\n",
       "    </tr>\n",
       "    <tr>\n",
       "      <th>21</th>\n",
       "      <td>বসা</td>\n",
       "      <td>বস</td>\n",
       "    </tr>\n",
       "    <tr>\n",
       "      <th>22</th>\n",
       "      <td>বসেছিল</td>\n",
       "      <td>বসেছিল</td>\n",
       "    </tr>\n",
       "    <tr>\n",
       "      <th>23</th>\n",
       "      <td>বসে</td>\n",
       "      <td>বস</td>\n",
       "    </tr>\n",
       "    <tr>\n",
       "      <th>24</th>\n",
       "      <td>বসি</td>\n",
       "      <td>বস</td>\n",
       "    </tr>\n",
       "    <tr>\n",
       "      <th>25</th>\n",
       "      <td>বসেছিলাম</td>\n",
       "      <td>বসেছিলাম</td>\n",
       "    </tr>\n",
       "    <tr>\n",
       "      <th>26</th>\n",
       "      <td>বস</td>\n",
       "      <td>বস</td>\n",
       "    </tr>\n",
       "    <tr>\n",
       "      <th>27</th>\n",
       "      <td>বসার</td>\n",
       "      <td>বসার</td>\n",
       "    </tr>\n",
       "  </tbody>\n",
       "</table>\n",
       "</div>"
      ],
      "text/plain": [
       "      1_Word    2_Stem\n",
       "0        করা        কর\n",
       "1   করেছিলাম  করেছিলাম\n",
       "2      করেছি      করেছ\n",
       "3       করতে       করত\n",
       "4     করেছিল    করেছিল\n",
       "5      হয়েছে      হয়েছ\n",
       "6     হয়েছিল    হয়েছিল\n",
       "7         হয়         হ\n",
       "8      হওয়ার         হ\n",
       "9        হবে        হব\n",
       "10  আবিষ্কৃত  আবিষ্কৃত\n",
       "11  আবিষ্কার    আবিষ্ক\n",
       "12  অভিষিক্ত  অভিষিক্ত\n",
       "13    অভিষেক    অভিষেক\n",
       "14  অভিষেকের    অভিষেক\n",
       "15       আমি        আম\n",
       "16      আমার      আমার\n",
       "17    আমাদের        আম\n",
       "18      তুমি       তুম\n",
       "19     তোমার       তোম\n",
       "20   তোমাদের       তোম\n",
       "21       বসা        বস\n",
       "22    বসেছিল    বসেছিল\n",
       "23       বসে        বস\n",
       "24       বসি        বস\n",
       "25  বসেছিলাম  বসেছিলাম\n",
       "26        বস        বস\n",
       "27      বসার      বসার"
      ]
     },
     "execution_count": 20,
     "metadata": {},
     "output_type": "execute_result"
    }
   ],
   "source": [
    "bs1"
   ]
  },
  {
   "cell_type": "markdown",
   "metadata": {},
   "source": [
    "# Using BanglaStemmer\n",
    "[https://github.com/rafi-kamal/Bangla-Stemmer](https://github.com/rafi-kamal/Bangla-Stemmer)"
   ]
  },
  {
   "cell_type": "markdown",
   "metadata": {},
   "source": [
    "## Stemming"
   ]
  },
  {
   "cell_type": "code",
   "execution_count": 21,
   "metadata": {
    "collapsed": false
   },
   "outputs": [],
   "source": [
    "import jnius_config\n",
    "\n",
    "jnius_config.set_classpath(\".\", \"path to class\")"
   ]
  },
  {
   "cell_type": "code",
   "execution_count": 22,
   "metadata": {
    "collapsed": true
   },
   "outputs": [],
   "source": [
    "from jnius import autoclass"
   ]
  },
  {
   "cell_type": "code",
   "execution_count": 23,
   "metadata": {
    "collapsed": false
   },
   "outputs": [],
   "source": [
    "cls = autoclass(\"RuleFileParser\")"
   ]
  },
  {
   "cell_type": "code",
   "execution_count": 24,
   "metadata": {
    "collapsed": true
   },
   "outputs": [],
   "source": [
    "stemmer = cls()"
   ]
  },
  {
   "cell_type": "code",
   "execution_count": 27,
   "metadata": {
    "collapsed": false
   },
   "outputs": [],
   "source": [
    "word_stem2 = []\n",
    "\n",
    "for i in word_token:\n",
    "    word_stem2.append(stemmer.stemOfWord(i))"
   ]
  },
  {
   "cell_type": "code",
   "execution_count": 28,
   "metadata": {
    "collapsed": false
   },
   "outputs": [],
   "source": [
    "bs2 = pd.DataFrame({\"1_Word\": word_token, \"2_Stem\": word_stem2})"
   ]
  },
  {
   "cell_type": "code",
   "execution_count": 29,
   "metadata": {
    "collapsed": false
   },
   "outputs": [
    {
     "data": {
      "text/html": [
       "<div>\n",
       "<table border=\"1\" class=\"dataframe\">\n",
       "  <thead>\n",
       "    <tr style=\"text-align: right;\">\n",
       "      <th></th>\n",
       "      <th>1_Word</th>\n",
       "      <th>2_Stem</th>\n",
       "    </tr>\n",
       "  </thead>\n",
       "  <tbody>\n",
       "    <tr>\n",
       "      <th>0</th>\n",
       "      <td>করা</td>\n",
       "      <td>ক</td>\n",
       "    </tr>\n",
       "    <tr>\n",
       "      <th>1</th>\n",
       "      <td>করেছিলাম</td>\n",
       "      <td>করেছিলাম</td>\n",
       "    </tr>\n",
       "    <tr>\n",
       "      <th>2</th>\n",
       "      <td>করেছি</td>\n",
       "      <td>করে</td>\n",
       "    </tr>\n",
       "    <tr>\n",
       "      <th>3</th>\n",
       "      <td>করতে</td>\n",
       "      <td>কর</td>\n",
       "    </tr>\n",
       "    <tr>\n",
       "      <th>4</th>\n",
       "      <td>করেছিল</td>\n",
       "      <td>কর</td>\n",
       "    </tr>\n",
       "    <tr>\n",
       "      <th>5</th>\n",
       "      <td>হয়েছে</td>\n",
       "      <td>হ</td>\n",
       "    </tr>\n",
       "    <tr>\n",
       "      <th>6</th>\n",
       "      <td>হয়েছিল</td>\n",
       "      <td>হ</td>\n",
       "    </tr>\n",
       "    <tr>\n",
       "      <th>7</th>\n",
       "      <td>হয়</td>\n",
       "      <td>হ</td>\n",
       "    </tr>\n",
       "    <tr>\n",
       "      <th>8</th>\n",
       "      <td>হওয়ার</td>\n",
       "      <td>হওয়</td>\n",
       "    </tr>\n",
       "    <tr>\n",
       "      <th>9</th>\n",
       "      <td>হবে</td>\n",
       "      <td>হব</td>\n",
       "    </tr>\n",
       "    <tr>\n",
       "      <th>10</th>\n",
       "      <td>আবিষ্কৃত</td>\n",
       "      <td>আবিষ্কৃত</td>\n",
       "    </tr>\n",
       "    <tr>\n",
       "      <th>11</th>\n",
       "      <td>আবিষ্কার</td>\n",
       "      <td>আবিষ্ক</td>\n",
       "    </tr>\n",
       "    <tr>\n",
       "      <th>12</th>\n",
       "      <td>অভিষিক্ত</td>\n",
       "      <td>অভিষিক্ত</td>\n",
       "    </tr>\n",
       "    <tr>\n",
       "      <th>13</th>\n",
       "      <td>অভিষেক</td>\n",
       "      <td>অভিষেক</td>\n",
       "    </tr>\n",
       "    <tr>\n",
       "      <th>14</th>\n",
       "      <td>অভিষেকের</td>\n",
       "      <td>অভিষেক</td>\n",
       "    </tr>\n",
       "    <tr>\n",
       "      <th>15</th>\n",
       "      <td>আমি</td>\n",
       "      <td>আমি</td>\n",
       "    </tr>\n",
       "    <tr>\n",
       "      <th>16</th>\n",
       "      <td>আমার</td>\n",
       "      <td>আম</td>\n",
       "    </tr>\n",
       "    <tr>\n",
       "      <th>17</th>\n",
       "      <td>আমাদের</td>\n",
       "      <td>আমা</td>\n",
       "    </tr>\n",
       "    <tr>\n",
       "      <th>18</th>\n",
       "      <td>তুমি</td>\n",
       "      <td>তুমি</td>\n",
       "    </tr>\n",
       "    <tr>\n",
       "      <th>19</th>\n",
       "      <td>তোমার</td>\n",
       "      <td>তোম</td>\n",
       "    </tr>\n",
       "    <tr>\n",
       "      <th>20</th>\n",
       "      <td>তোমাদের</td>\n",
       "      <td>তোমা</td>\n",
       "    </tr>\n",
       "    <tr>\n",
       "      <th>21</th>\n",
       "      <td>বসা</td>\n",
       "      <td>বসা</td>\n",
       "    </tr>\n",
       "    <tr>\n",
       "      <th>22</th>\n",
       "      <td>বসেছিল</td>\n",
       "      <td>বস</td>\n",
       "    </tr>\n",
       "    <tr>\n",
       "      <th>23</th>\n",
       "      <td>বসে</td>\n",
       "      <td>বস</td>\n",
       "    </tr>\n",
       "    <tr>\n",
       "      <th>24</th>\n",
       "      <td>বসি</td>\n",
       "      <td>বসি</td>\n",
       "    </tr>\n",
       "    <tr>\n",
       "      <th>25</th>\n",
       "      <td>বসেছিলাম</td>\n",
       "      <td>বসেছিলাম</td>\n",
       "    </tr>\n",
       "    <tr>\n",
       "      <th>26</th>\n",
       "      <td>বস</td>\n",
       "      <td>বস</td>\n",
       "    </tr>\n",
       "    <tr>\n",
       "      <th>27</th>\n",
       "      <td>বসার</td>\n",
       "      <td>বস</td>\n",
       "    </tr>\n",
       "  </tbody>\n",
       "</table>\n",
       "</div>"
      ],
      "text/plain": [
       "      1_Word    2_Stem\n",
       "0        করা         ক\n",
       "1   করেছিলাম  করেছিলাম\n",
       "2      করেছি       করে\n",
       "3       করতে        কর\n",
       "4     করেছিল        কর\n",
       "5      হয়েছে         হ\n",
       "6     হয়েছিল         হ\n",
       "7         হয়         হ\n",
       "8      হওয়ার       হওয়\n",
       "9        হবে        হব\n",
       "10  আবিষ্কৃত  আবিষ্কৃত\n",
       "11  আবিষ্কার    আবিষ্ক\n",
       "12  অভিষিক্ত  অভিষিক্ত\n",
       "13    অভিষেক    অভিষেক\n",
       "14  অভিষেকের    অভিষেক\n",
       "15       আমি       আমি\n",
       "16      আমার        আম\n",
       "17    আমাদের       আমা\n",
       "18      তুমি      তুমি\n",
       "19     তোমার       তোম\n",
       "20   তোমাদের      তোমা\n",
       "21       বসা       বসা\n",
       "22    বসেছিল        বস\n",
       "23       বসে        বস\n",
       "24       বসি       বসি\n",
       "25  বসেছিলাম  বসেছিলাম\n",
       "26        বস        বস\n",
       "27      বসার        বস"
      ]
     },
     "execution_count": 29,
     "metadata": {},
     "output_type": "execute_result"
    }
   ],
   "source": [
    "bs2"
   ]
  },
  {
   "cell_type": "markdown",
   "metadata": {},
   "source": [
    "# Using Avro\n",
    "[https://github.com/kaustavdm/pyAvroPhonetic](https://github.com/kaustavdm/pyAvroPhonetic)"
   ]
  },
  {
   "cell_type": "markdown",
   "metadata": {},
   "source": [
    "## Transliteration"
   ]
  },
  {
   "cell_type": "code",
   "execution_count": 30,
   "metadata": {
    "collapsed": false
   },
   "outputs": [],
   "source": [
    "from pyavrophonetic import avro"
   ]
  },
  {
   "cell_type": "code",
   "execution_count": 31,
   "metadata": {
    "collapsed": false
   },
   "outputs": [],
   "source": [
    "trans_text = avro.parse(bangla_text)"
   ]
  },
  {
   "cell_type": "code",
   "execution_count": 32,
   "metadata": {
    "collapsed": false
   },
   "outputs": [
    {
     "name": "stdout",
     "output_type": "stream",
     "text": [
      "u'আমি আপ্নি তুমি তমার তমাদের আমার আপ্নার আপ্নাদের আকাশ'\n"
     ]
    }
   ],
   "source": [
    "print repr(trans_text).decode(\"unicode_escape\")"
   ]
  }
 ],
 "metadata": {
  "kernelspec": {
   "display_name": "Python 2",
   "language": "python",
   "name": "python2"
  },
  "language_info": {
   "codemirror_mode": {
    "name": "ipython",
    "version": 2
   },
   "file_extension": ".py",
   "mimetype": "text/x-python",
   "name": "python",
   "nbconvert_exporter": "python",
   "pygments_lexer": "ipython2",
   "version": "2.7.13"
  }
 },
 "nbformat": 4,
 "nbformat_minor": 2
}
