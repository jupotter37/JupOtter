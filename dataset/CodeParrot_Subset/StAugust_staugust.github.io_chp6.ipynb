{
 "cells": [
  {
   "cell_type": "code",
   "execution_count": 10,
   "metadata": {},
   "outputs": [],
   "source": [
    "from matplotlib import pyplot as plt\n",
    "from mpl_toolkits import axisartist\n",
    "import numpy as np"
   ]
  },
  {
   "cell_type": "code",
   "execution_count": 11,
   "metadata": {
    "collapsed": true
   },
   "outputs": [],
   "source": [
    "np.random.seed(12345678)\n",
    "x1 = np.random.normal(0.5,0.5,20)\n",
    "y1 = x1 + np.random.normal(0.5,0.2,20)\n",
    "x2 = np.random.normal(1.5,0.5,20)\n",
    "y2 = x2 - np.random.normal(0.5,0.2,20)\n",
    "lx = np.linspace(-0.5,2.5,20)   \n",
    "ly1 = lx * 1.2 - 0.2\n",
    "ly2 = lx * 0.9 + 0.2\n",
    "ly3 = lx "
   ]
  },
  {
   "cell_type": "code",
   "execution_count": 33,
   "metadata": {},
   "outputs": [
    {
     "data": {
      "image/png": "[encoded data removed]",
      "text/plain": [
       "<matplotlib.figure.Figure at 0x27b5bb82e10>"
      ]
     },
     "metadata": {},
     "output_type": "display_data"
    }
   ],
   "source": [
    "plt.scatter(x1,y1, marker=\"+\")\n",
    "plt.scatter(x2,y2,marker=\"_\")\n",
    "plt.plot(lx,ly1)\n",
    "plt.plot(lx,ly2)\n",
    "plt.plot(lx,ly3)\n",
    "\n",
    "ax = plt.gca().axes\n",
    "ax.spines['right'].set_visible(False)\n",
    "ax.spines['top'].set_visible(False)\n",
    "\n",
    "plt.show()"
   ]
  },
  {
   "cell_type": "code",
   "execution_count": 18,
   "metadata": {},
   "outputs": [],
   "source": [
    "axis = ax.axis['left']"
   ]
  },
  {
   "cell_type": "code",
   "execution_count": 28,
   "metadata": {},
   "outputs": [
    {
     "ename": "TypeError",
     "evalue": "'list' object is not callable",
     "output_type": "error",
     "traceback": [
      "\u001b[1;31m---------------------------------------------------------------------------\u001b[0m",
      "\u001b[1;31mTypeError\u001b[0m                                 Traceback (most recent call last)",
      "\u001b[1;32m<ipython-input-28-92bf73771278>\u001b[0m in \u001b[0;36m<module>\u001b[1;34m()\u001b[0m\n\u001b[1;32m----> 1\u001b[1;33m \u001b[0mfig\u001b[0m\u001b[1;33m.\u001b[0m\u001b[0maxes\u001b[0m\u001b[1;33m(\u001b[0m\u001b[1;33m)\u001b[0m\u001b[1;33m\u001b[0m\u001b[0m\n\u001b[0m",
      "\u001b[1;31mTypeError\u001b[0m: 'list' object is not callable"
     ]
    }
   ],
   "source": [
    "fig.axes()"
   ]
  },
  {
   "cell_type": "code",
   "execution_count": 35,
   "metadata": {},
   "outputs": [
    {
     "name": "stdout",
     "output_type": "stream",
     "text": [
      "Help on function axis in module matplotlib.pyplot:\n",
      "\n",
      "axis(*v, **kwargs)\n",
      "    Convenience method to get or set axis properties.\n",
      "    \n",
      "    Calling with no arguments::\n",
      "    \n",
      "      >>> axis()\n",
      "    \n",
      "    returns the current axes limits ``[xmin, xmax, ymin, ymax]``.::\n",
      "    \n",
      "      >>> axis(v)\n",
      "    \n",
      "    sets the min and max of the x and y axes, with\n",
      "    ``v = [xmin, xmax, ymin, ymax]``.::\n",
      "    \n",
      "      >>> axis('off')\n",
      "    \n",
      "    turns off the axis lines and labels.::\n",
      "    \n",
      "      >>> axis('equal')\n",
      "    \n",
      "    changes limits of *x* or *y* axis so that equal increments of *x*\n",
      "    and *y* have the same length; a circle is circular.::\n",
      "    \n",
      "      >>> axis('scaled')\n",
      "    \n",
      "    achieves the same result by changing the dimensions of the plot box instead\n",
      "    of the axis data limits.::\n",
      "    \n",
      "      >>> axis('tight')\n",
      "    \n",
      "    changes *x* and *y* axis limits such that all data is shown. If\n",
      "    all data is already shown, it will move it to the center of the\n",
      "    figure without modifying (*xmax* - *xmin*) or (*ymax* -\n",
      "    *ymin*). Note this is slightly different than in MATLAB.::\n",
      "    \n",
      "      >>> axis('image')\n",
      "    \n",
      "    is 'scaled' with the axis limits equal to the data limits.::\n",
      "    \n",
      "      >>> axis('auto')\n",
      "    \n",
      "    and::\n",
      "    \n",
      "      >>> axis('normal')\n",
      "    \n",
      "    are deprecated. They restore default behavior; axis limits are automatically\n",
      "    scaled to make the data fit comfortably within the plot box.\n",
      "    \n",
      "    if ``len(*v)==0``, you can pass in *xmin*, *xmax*, *ymin*, *ymax*\n",
      "    as kwargs selectively to alter just those limits without changing\n",
      "    the others.\n",
      "    \n",
      "      >>> axis('square')\n",
      "    \n",
      "    changes the limit ranges (*xmax*-*xmin*) and (*ymax*-*ymin*) of\n",
      "    the *x* and *y* axes to be the same, and have the same scaling,\n",
      "    resulting in a square plot.\n",
      "    \n",
      "    The xmin, xmax, ymin, ymax tuple is returned\n",
      "    \n",
      "    .. seealso::\n",
      "    \n",
      "        :func:`xlim`, :func:`ylim`\n",
      "           For setting the x- and y-limits individually.\n",
      "\n"
     ]
    }
   ],
   "source": [
    "help(plt.axis)"
   ]
  },
  {
   "cell_type": "code",
   "execution_count": 34,
   "metadata": {},
   "outputs": [
    {
     "data": {
      "image/png": "[encoded data removed]",
      "text/plain": [
       "<matplotlib.figure.Figure at 0x27b5b7c8d68>"
      ]
     },
     "metadata": {},
     "output_type": "display_data"
    }
   ],
   "source": [
    "x = [ -1,0,0,1]\n",
    "y = [1,1,0,0]\n",
    "\n",
    "plt.plot(x,y)\n",
    "plt.show()"
   ]
  },
  {
   "cell_type": "code",
   "execution_count": null,
   "metadata": {
    "collapsed": true
   },
   "outputs": [],
   "source": []
  }
 ],
 "metadata": {
  "kernelspec": {
   "display_name": "Python 3",
   "language": "python",
   "name": "python3"
  },
  "language_info": {
   "codemirror_mode": {
    "name": "ipython",
    "version": 3
   },
   "file_extension": ".py",
   "mimetype": "text/x-python",
   "name": "python",
   "nbconvert_exporter": "python",
   "pygments_lexer": "ipython3",
   "version": "3.6.1"
  }
 },
 "nbformat": 4,
 "nbformat_minor": 2
}
