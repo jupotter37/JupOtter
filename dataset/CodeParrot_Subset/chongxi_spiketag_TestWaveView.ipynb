{
 "cells": [
  {
   "cell_type": "code",
   "execution_count": 1,
   "metadata": {},
   "outputs": [
    {
     "name": "stdout",
     "output_type": "stream",
     "text": [
      "Populating the interactive namespace from numpy and matplotlib\n"
     ]
    }
   ],
   "source": [
    "%pylab inline\n",
    "import numexpr as ne\n",
    "import seaborn as sns\n",
    "from ipywidgets import interact\n",
    "import time\n",
    "import numpy as np"
   ]
  },
  {
   "cell_type": "code",
   "execution_count": 2,
   "metadata": {
    "collapsed": true
   },
   "outputs": [],
   "source": [
    "%load_ext autoreload\n",
    "%autoreload 2"
   ]
  },
  {
   "cell_type": "code",
   "execution_count": 3,
   "metadata": {
    "collapsed": true
   },
   "outputs": [],
   "source": [
    "import sys\n",
    "sys.path.append('../../..')"
   ]
  },
  {
   "cell_type": "code",
   "execution_count": 4,
   "metadata": {
    "collapsed": true
   },
   "outputs": [],
   "source": [
    "%gui qt"
   ]
  },
  {
   "cell_type": "code",
   "execution_count": 110,
   "metadata": {
    "collapsed": true
   },
   "outputs": [],
   "source": [
    "from spiketag.base.Binload import bload\n",
    "from spiketag.view import wave_view\n",
    "from spiketag.base import ProbeFactory"
   ]
  },
  {
   "cell_type": "markdown",
   "metadata": {},
   "source": [
    "# Read from raw data which export from fpga"
   ]
  },
  {
   "cell_type": "code",
   "execution_count": 6,
   "metadata": {
    "collapsed": true
   },
   "outputs": [],
   "source": [
    "nCh = 160\n",
    "fs  = 25e3\n",
    "bf  = bload(nCh, fs)"
   ]
  },
  {
   "cell_type": "code",
   "execution_count": 7,
   "metadata": {},
   "outputs": [
    {
     "name": "stderr",
     "output_type": "stream",
     "text": [
      "2017-07-10 10:04:38,080 - spiketag - INFO - #############  load data  ###################\n",
      "2017-07-10 10:04:38,081 - spiketag - INFO - /Users/chiy/Documents/HHMI/Github/spiketag/spiketag_test_data/mua.bin loaded, it contains: \n",
      "2017-07-10 10:04:38,083 - spiketag - INFO - 7361618 * 160 points (4711435520 bytes) \n",
      "2017-07-10 10:04:38,084 - spiketag - INFO - 160 channels with sampling rate of 25000.0000 \n",
      "2017-07-10 10:04:38,086 - spiketag - INFO - 294.465 secs (4.908 mins) of data\n",
      "2017-07-10 10:04:38,088 - spiketag - INFO - #############################################\n"
     ]
    }
   ],
   "source": [
    "bf.load('/Users/chiy/Documents/HHMI/Github/spiketag/spiketag_test_data/mua.bin')"
   ]
  },
  {
   "cell_type": "code",
   "execution_count": 8,
   "metadata": {
    "collapsed": true
   },
   "outputs": [],
   "source": [
    "def bf_to_mua(x):\n",
    "    y = x.reshape(-1, 32, 5)\n",
    "    z = np.swapaxes(y, 1, 2)\n",
    "    z = z.reshape(-1, 160)\n",
    "    return z"
   ]
  },
  {
   "cell_type": "code",
   "execution_count": 9,
   "metadata": {},
   "outputs": [],
   "source": [
    "_data = bf_to_mua(bf.npmm)"
   ]
  },
  {
   "cell_type": "code",
   "execution_count": 121,
   "metadata": {
    "collapsed": true
   },
   "outputs": [],
   "source": [
    "spk = np.fromfile('/Users/chiy/Documents/HHMI/Github/spiketag/spiketag_test_data/spk.bin', dtype=int32)"
   ]
  },
  {
   "cell_type": "code",
   "execution_count": 122,
   "metadata": {},
   "outputs": [],
   "source": [
    "ch = spk.reshape(-1,2)[:,0]\n",
    "t  = spk.reshape(-1,2)[:,1]"
   ]
  },
  {
   "cell_type": "code",
   "execution_count": 123,
   "metadata": {},
   "outputs": [
    {
     "data": {
      "text/plain": [
       "array([[      1,      17,      17, ..., 7361613, 7361613, 7361617],\n",
       "       [     79,      67,      70, ...,       9,      73,      20]], dtype=int32)"
      ]
     },
     "execution_count": 123,
     "metadata": {},
     "output_type": "execute_result"
    }
   ],
   "source": [
    "_spks = np.vstack((t,ch))\n",
    "_spks"
   ]
  },
  {
   "cell_type": "code",
   "execution_count": 18,
   "metadata": {},
   "outputs": [],
   "source": [
    "wv = wave_view(fs=fs, data=_data, spks=_spks, chs=range(96,160))"
   ]
  },
  {
   "cell_type": "code",
   "execution_count": 19,
   "metadata": {
    "collapsed": true
   },
   "outputs": [],
   "source": [
    "wv.show()"
   ]
  },
  {
   "cell_type": "markdown",
   "metadata": {},
   "source": [
    "# Process data which can be readed by spiketag"
   ]
  },
  {
   "cell_type": "code",
   "execution_count": 25,
   "metadata": {},
   "outputs": [],
   "source": [
    "_data[:,96:].ravel().tofile('/Users/chiy/Documents/HHMI/Github/spiketag/spiketag_test_data/pcie_64_25K_07_10_2017.bin')"
   ]
  },
  {
   "cell_type": "code",
   "execution_count": 124,
   "metadata": {
    "collapsed": true
   },
   "outputs": [],
   "source": [
    "offset = 96"
   ]
  },
  {
   "cell_type": "code",
   "execution_count": 125,
   "metadata": {},
   "outputs": [
    {
     "data": {
      "text/plain": [
       "array([[     25,      26,     303, ..., 7179855, 7179998, 7180087],\n",
       "       [     58,      36,      51, ...,      25,      59,      56]], dtype=int32)"
      ]
     },
     "execution_count": 125,
     "metadata": {},
     "output_type": "execute_result"
    }
   ],
   "source": [
    "_spks = _spks[:,np.where(np.in1d(_spks[1],range(96,161)))[0]]\n",
    "_spks[1] = _spks[1] - offset\n",
    "_spks"
   ]
  },
  {
   "cell_type": "code",
   "execution_count": 128,
   "metadata": {},
   "outputs": [],
   "source": [
    "_spks = np.delete(_spks, np.where(_spks[1] == 59)[0], axis=1)"
   ]
  },
  {
   "cell_type": "code",
   "execution_count": 129,
   "metadata": {},
   "outputs": [],
   "source": [
    "_spks.T.ravel().tofile('/Users/chiy/Documents/HHMI/Github/spiketag/spiketag_test_data/pcie_64_25K_07_10_2017.bin.spk')"
   ]
  },
  {
   "cell_type": "markdown",
   "metadata": {},
   "source": [
    "# Read data as spiketag"
   ]
  },
  {
   "cell_type": "code",
   "execution_count": 84,
   "metadata": {
    "collapsed": true
   },
   "outputs": [],
   "source": [
    "nCh = 64\n",
    "fs  = 25e3\n",
    "bf  = bload(nCh, fs)"
   ]
  },
  {
   "cell_type": "code",
   "execution_count": 85,
   "metadata": {},
   "outputs": [
    {
     "name": "stderr",
     "output_type": "stream",
     "text": [
      "2017-07-10 11:02:32,553 - spiketag - INFO - #############  load data  ###################\n",
      "2017-07-10 11:02:32,555 - spiketag - INFO - /Users/chiy/Documents/HHMI/Github/spiketag/spiketag_test_data/pcie_64_25K_07_10_2017.bin loaded, it contains: \n",
      "2017-07-10 11:02:32,556 - spiketag - INFO - 7361618 * 64 points (1884574208 bytes) \n",
      "2017-07-10 11:02:32,558 - spiketag - INFO - 64 channels with sampling rate of 25000.0000 \n",
      "2017-07-10 11:02:32,559 - spiketag - INFO - 294.465 secs (4.908 mins) of data\n",
      "2017-07-10 11:02:32,560 - spiketag - INFO - #############################################\n"
     ]
    }
   ],
   "source": [
    "bf.load('/Users/chiy/Documents/HHMI/Github/spiketag/spiketag_test_data/pcie_64_25K_07_10_2017.bin')"
   ]
  },
  {
   "cell_type": "code",
   "execution_count": 86,
   "metadata": {},
   "outputs": [],
   "source": [
    "_data = bf.npmm.reshape(-1, 64)"
   ]
  },
  {
   "cell_type": "code",
   "execution_count": 100,
   "metadata": {},
   "outputs": [
    {
     "data": {
      "text/plain": [
       "array([     25,      58,      26, ...,      59, 7180087,      56], dtype=int32)"
      ]
     },
     "execution_count": 100,
     "metadata": {},
     "output_type": "execute_result"
    }
   ],
   "source": [
    "_spk = np.fromfile('/Users/chiy/Documents/HHMI/Github/spiketag/spiketag_test_data/pcie_64_25K_07_10_2017.bin.spk', dtype=int32)\n",
    "_spk"
   ]
  },
  {
   "cell_type": "code",
   "execution_count": 88,
   "metadata": {},
   "outputs": [],
   "source": [
    "wv = wave_view(fs=fs, data=_data, spks=_spk)"
   ]
  },
  {
   "cell_type": "code",
   "execution_count": 89,
   "metadata": {
    "collapsed": true
   },
   "outputs": [],
   "source": [
    "wv.show()"
   ]
  }
 ],
 "metadata": {
  "anaconda-cloud": {},
  "kernelspec": {
   "display_name": "Python [default]",
   "language": "python",
   "name": "python2"
  },
  "language_info": {
   "codemirror_mode": {
    "name": "ipython",
    "version": 2
   },
   "file_extension": ".py",
   "mimetype": "text/x-python",
   "name": "python",
   "nbconvert_exporter": "python",
   "pygments_lexer": "ipython2",
   "version": "2.7.12"
  }
 },
 "nbformat": 4,
 "nbformat_minor": 1
}
