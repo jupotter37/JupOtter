{
 "cells": [
  {
   "cell_type": "markdown",
   "metadata": {
    "collapsed": false
   },
   "source": [
    "## Key Terms\n",
    "\n",
    "These key terms are the basic vocabulary that you should be familiar with so that we can start off on the right foot.  Please take a moment to read through them.  No need to memorize them, this is just so you know that they exist.\n",
    "\n",
    "* **Interactive Development Environment (IDE)** - An IDE is a program used by developers for managing large projects.  It provides a command line interface, a file tree viewer, and a text editor, all in the same window.\n",
    "\n",
    "* **Text Editor** - A text editor is simply a program that allows you to manipulate raw text.  Unlike type setting software, like Microsoft Word or TeX, a text editor does not gussy things up.  It is simply for editing.\n",
    "\n",
    "* **Shell** - This is the command line, or the user interface that you would use if interacting with Unix.\n",
    "\n",
    "* **Terminal** - This is the same thing as the shell!\n",
    "\n",
    "* **UNIX** - A computer operating system developed in the 1970's.  Funny enough, most operating systems still run on Unix, including Apple's OS X!\n",
    "\n",
    "* **Linux** - A Unix like operating system available as open source.  Not very prevelant in home computers, but the leading operating system for \"big iron\" systems, eg mainframe computers and supercomputers.  Weird though, since it's free!"
   ]
  }
 ],
 "metadata": {
  "kernelspec": {
   "display_name": "Python 2",
   "language": "python",
   "name": "python2"
  },
  "language_info": {
   "codemirror_mode": {
    "name": "ipython",
    "version": 2
   },
   "file_extension": ".py",
   "mimetype": "text/x-python",
   "name": "python",
   "nbconvert_exporter": "python",
   "pygments_lexer": "ipython2",
   "version": "2.7.9"
  },
  "name": "2015-09-29-172829.ipynb"
 },
 "nbformat": 4,
 "nbformat_minor": 0
}
