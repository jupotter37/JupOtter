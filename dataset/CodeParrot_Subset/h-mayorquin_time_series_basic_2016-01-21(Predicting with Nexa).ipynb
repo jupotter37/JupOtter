{
 "cells": [
  {
   "cell_type": "markdown",
   "metadata": {},
   "source": [
    "# Prediction with Nexa.\n",
    "This is a very simple example that extracts the code vectors (features) from nexa and uses these to make predictions with nexa."
   ]
  },
  {
   "cell_type": "code",
   "execution_count": 56,
   "metadata": {
    "collapsed": true
   },
   "outputs": [],
   "source": [
    "import numpy as np\n",
    "import h5py\n",
    "from sklearn import svm, cross_validation\n",
    "from sklearn.naive_bayes import MultinomialNB"
   ]
  },
  {
   "cell_type": "markdown",
   "metadata": {},
   "source": [
    "## Information extraction"
   ]
  },
  {
   "cell_type": "code",
   "execution_count": 57,
   "metadata": {
    "collapsed": true
   },
   "outputs": [],
   "source": [
    "# First we load the file \n",
    "file_location = '../results_database/text_wall_street.hdf5'\n",
    "run_name = '/low-resolution'"
   ]
  },
  {
   "cell_type": "code",
   "execution_count": 58,
   "metadata": {
    "collapsed": false
   },
   "outputs": [],
   "source": [
    "# Nexa parameters\n",
    "Nspatial_clusters = 5\n",
    "Ntime_clusters = 15\n",
    "Nembedding = 3\n",
    "\n",
    "parameters_string = '/' + str(Nspatial_clusters)\n",
    "parameters_string += '-' + str(Ntime_clusters)\n",
    "parameters_string += '-' + str(Nembedding)\n",
    "\n",
    "f = h5py.File(file_location, 'r')\n",
    "nexa = f[run_name + parameters_string]"
   ]
  },
  {
   "cell_type": "code",
   "execution_count": 59,
   "metadata": {
    "collapsed": true
   },
   "outputs": [],
   "source": [
    "# Now we extract the time and the code vectors\n",
    "time = nexa['time']\n",
    "code_vectors = nexa['code-vectors']\n",
    "code_vectors_distance = nexa['code-vectors-distance']\n",
    "code_vectors_softmax = nexa['code-vectors-softmax']\n",
    "code_vectors_winner = nexa['code-vectors-winner']"
   ]
  },
  {
   "cell_type": "code",
   "execution_count": 60,
   "metadata": {
    "collapsed": false
   },
   "outputs": [],
   "source": [
    "# Now we need to get the letters and align them\n",
    "text_directory = '../data/wall_street_letters.npy'\n",
    "letters_sequence = np.load(text_directory)\n",
    "Nletters = len(letters_sequence)\n",
    "symbols = set(letters_sequence)"
   ]
  },
  {
   "cell_type": "markdown",
   "metadata": {},
   "source": [
    "## Predictions"
   ]
  },
  {
   "cell_type": "code",
   "execution_count": 61,
   "metadata": {
    "collapsed": true
   },
   "outputs": [],
   "source": [
    "# Parameters\n",
    "N = 5000 \n",
    "delay = 5"
   ]
  },
  {
   "cell_type": "markdown",
   "metadata": {},
   "source": [
    "#### First let's use winner takes all"
   ]
  },
  {
   "cell_type": "code",
   "execution_count": 62,
   "metadata": {
    "collapsed": false
   },
   "outputs": [],
   "source": [
    "# Make prediction with scikit-learn\n",
    "X = code_vectors_winner[:(N-delay)]\n",
    "y = letters_sequence[delay:N]\n",
    "X_train, X_test, y_train, y_test = cross_validation.train_test_split(X, y, test_size=0.10)"
   ]
  },
  {
   "cell_type": "code",
   "execution_count": 63,
   "metadata": {
    "collapsed": false
   },
   "outputs": [
    {
     "name": "stdout",
     "output_type": "stream",
     "text": [
      "SVM linear score 74.6\n",
      "SVM RBF score 69.4\n",
      "Multinomial score 72.4\n"
     ]
    }
   ],
   "source": [
    "clf = svm.SVC(C=1.0, cache_size=200, kernel='linear')\n",
    "clf.fit(X_train, y_train)\n",
    "score = clf.score(X_test, y_test) * 100\n",
    "print('SVM linear score', score)\n",
    "\n",
    "clf_rbf = svm.SVC(C=1.0, cache_size=200, kernel='rbf')\n",
    "clf_rbf.fit(X_train, y_train)\n",
    "score = clf_rbf.score(X_test, y_test) * 100\n",
    "print('SVM RBF score', score)\n",
    "\n",
    "clf_b = MultinomialNB()\n",
    "clf_b.fit(X_train, y_train)\n",
    "score = clf_b.score(X_test, y_test) * 100\n",
    "print('Multinomial score', score)"
   ]
  },
  {
   "cell_type": "markdown",
   "metadata": {},
   "source": [
    "#### Now let's use softmax"
   ]
  },
  {
   "cell_type": "code",
   "execution_count": 64,
   "metadata": {
    "collapsed": false
   },
   "outputs": [],
   "source": [
    "# Make prediction with scikit-learn\n",
    "X = code_vectors_softmax[:(N-delay)]\n",
    "y = letters_sequence[delay:N]\n",
    "X_train, X_test, y_train, y_test = cross_validation.train_test_split(X, y, test_size=0.10)"
   ]
  },
  {
   "cell_type": "code",
   "execution_count": 65,
   "metadata": {
    "collapsed": false
   },
   "outputs": [
    {
     "name": "stdout",
     "output_type": "stream",
     "text": [
      "SVM linear score 76.4\n",
      "SVM RBF score 71.2\n",
      "Multinomial score 73.8\n"
     ]
    }
   ],
   "source": [
    "clf = svm.SVC(C=1.0, cache_size=200, kernel='linear')\n",
    "clf.fit(X_train, y_train)\n",
    "score = clf.score(X_test, y_test) * 100\n",
    "print('SVM linear score', score)\n",
    "\n",
    "clf_rbf = svm.SVC(C=1.0, cache_size=200, kernel='rbf')\n",
    "clf_rbf.fit(X_train, y_train)\n",
    "score = clf_rbf.score(X_test, y_test) * 100\n",
    "print('SVM RBF score', score)\n",
    "\n",
    "clf_b = MultinomialNB()\n",
    "clf_b.fit(X_train, y_train)\n",
    "score = clf_b.score(X_test, y_test) * 100\n",
    "print('Multinomial score', score)"
   ]
  },
  {
   "cell_type": "markdown",
   "metadata": {},
   "source": [
    "#### Let's use a normal representation (not binary)"
   ]
  },
  {
   "cell_type": "code",
   "execution_count": 66,
   "metadata": {
    "collapsed": true
   },
   "outputs": [],
   "source": [
    "# Make prediction with scikit-learn\n",
    "X = code_vectors[:(N-delay)]\n",
    "y = letters_sequence[delay:N]\n",
    "X_train, X_test, y_train, y_test = cross_validation.train_test_split(X, y, test_size=0.10)"
   ]
  },
  {
   "cell_type": "code",
   "execution_count": 67,
   "metadata": {
    "collapsed": false
   },
   "outputs": [
    {
     "name": "stdout",
     "output_type": "stream",
     "text": [
      "SVM linear score 33.6\n",
      "SVM RBF score 65.2\n",
      "Multinomial score 25.0\n"
     ]
    }
   ],
   "source": [
    "clf = svm.SVC(C=1.0, cache_size=200, kernel='linear')\n",
    "clf.fit(X_train, y_train)\n",
    "score = clf.score(X_test, y_test) * 100\n",
    "print('SVM linear score', score)\n",
    "\n",
    "clf_rbf = svm.SVC(C=1.0, cache_size=200, kernel='rbf')\n",
    "clf_rbf.fit(X_train, y_train)\n",
    "score = clf_rbf.score(X_test, y_test) * 100\n",
    "print('SVM RBF score', score)\n",
    "\n",
    "clf_b = MultinomialNB()\n",
    "clf_b.fit(X_train, y_train)\n",
    "score = clf_b.score(X_test, y_test) * 100\n",
    "print('Multinomial score', score)"
   ]
  },
  {
   "cell_type": "markdown",
   "metadata": {},
   "source": [
    "#### Now we move on and use distance (This sometimes does not converge!, this seems dodgy)"
   ]
  },
  {
   "cell_type": "code",
   "execution_count": 68,
   "metadata": {
    "collapsed": true
   },
   "outputs": [],
   "source": [
    "# Make prediction with scikit-learn\n",
    "X = code_vectors_distance[:(N-delay)]\n",
    "y = letters_sequence[delay:N]\n",
    "X_train, X_test, y_train, y_test = cross_validation.train_test_split(X, y, test_size=0.10)"
   ]
  },
  {
   "cell_type": "code",
   "execution_count": 69,
   "metadata": {
    "collapsed": false
   },
   "outputs": [
    {
     "name": "stdout",
     "output_type": "stream",
     "text": [
      "SVM linear score 98.6\n",
      "SVM RBF score 51.8\n",
      "Multinomial score 46.4\n"
     ]
    }
   ],
   "source": [
    "clf = svm.SVC(C=1.0, cache_size=200, kernel='linear')\n",
    "clf.fit(X_train, y_train)\n",
    "score = clf.score(X_test, y_test) * 100\n",
    "print('SVM linear score', score)\n",
    "\n",
    "clf_rbf = svm.SVC(C=1.0, cache_size=200, kernel='rbf')\n",
    "clf_rbf.fit(X_train, y_train)\n",
    "score = clf_rbf.score(X_test, y_test) * 100\n",
    "print('SVM RBF score', score)\n",
    "\n",
    "clf_b = MultinomialNB()\n",
    "clf_b.fit(X_train, y_train)\n",
    "score = clf_b.score(X_test, y_test) * 100\n",
    "print('Multinomial score', score)"
   ]
  },
  {
   "cell_type": "markdown",
   "metadata": {},
   "source": [
    "## Predictions with Standarization"
   ]
  },
  {
   "cell_type": "code",
   "execution_count": 70,
   "metadata": {
    "collapsed": true
   },
   "outputs": [],
   "source": [
    "from sklearn import preprocessing"
   ]
  },
  {
   "cell_type": "markdown",
   "metadata": {},
   "source": [
    "#### First let's use winner takes all"
   ]
  },
  {
   "cell_type": "code",
   "execution_count": 71,
   "metadata": {
    "collapsed": false
   },
   "outputs": [
    {
     "name": "stdout",
     "output_type": "stream",
     "text": [
      "SVM linear score 75.6\n",
      "SVM RBF score 80.4\n"
     ]
    }
   ],
   "source": [
    "# Make prediction with scikit-learn\n",
    "X = code_vectors_winner[:(N-delay)]\n",
    "y = letters_sequence[delay:N]\n",
    "X = preprocessing.scale(X)\n",
    "X_train, X_test, y_train, y_test = cross_validation.train_test_split(X, y, test_size=0.10)\n",
    "\n",
    "clf = svm.SVC(C=1.0, cache_size=200, kernel='linear')\n",
    "clf.fit(X_train, y_train)\n",
    "score = clf.score(X_test, y_test) * 100\n",
    "print('SVM linear score', score)\n",
    "\n",
    "clf_rbf = svm.SVC(C=1.0, cache_size=200, kernel='rbf')\n",
    "clf_rbf.fit(X_train, y_train)\n",
    "score = clf_rbf.score(X_test, y_test) * 100\n",
    "print('SVM RBF score', score)"
   ]
  },
  {
   "cell_type": "markdown",
   "metadata": {},
   "source": [
    "#### Softmax"
   ]
  },
  {
   "cell_type": "code",
   "execution_count": 72,
   "metadata": {
    "collapsed": false
   },
   "outputs": [
    {
     "name": "stdout",
     "output_type": "stream",
     "text": [
      "SVM linear score 79.4\n",
      "SVM RBF score 80.6\n"
     ]
    }
   ],
   "source": [
    "# Make prediction with scikit-learn\n",
    "X = code_vectors_softmax[:(N-delay)]\n",
    "y = letters_sequence[delay:N]\n",
    "X = preprocessing.scale(X)\n",
    "X_train, X_test, y_train, y_test = cross_validation.train_test_split(X, y, test_size=0.10)\n",
    "\n",
    "clf = svm.SVC(C=1.0, cache_size=200, kernel='linear')\n",
    "clf.fit(X_train, y_train)\n",
    "score = clf.score(X_test, y_test) * 100\n",
    "print('SVM linear score', score)\n",
    "\n",
    "clf_rbf = svm.SVC(C=1.0, cache_size=200, kernel='rbf')\n",
    "clf_rbf.fit(X_train, y_train)\n",
    "score = clf_rbf.score(X_test, y_test) * 100\n",
    "print('SVM RBF score', score)"
   ]
  },
  {
   "cell_type": "markdown",
   "metadata": {},
   "source": [
    "#### Normal representations"
   ]
  },
  {
   "cell_type": "code",
   "execution_count": 73,
   "metadata": {
    "collapsed": false
   },
   "outputs": [
    {
     "name": "stdout",
     "output_type": "stream",
     "text": [
      "SVM linear score 99.2\n",
      "SVM RBF score 90.8\n"
     ]
    }
   ],
   "source": [
    "# Make prediction with scikit-learn\n",
    "X = code_vectors_distance[:(N-delay)]\n",
    "y = letters_sequence[delay:N]\n",
    "X = preprocessing.scale(X)\n",
    "X_train, X_test, y_train, y_test = cross_validation.train_test_split(X, y, test_size=0.10)\n",
    "\n",
    "clf = svm.SVC(C=1.0, cache_size=200, kernel='linear')\n",
    "clf.fit(X_train, y_train)\n",
    "score = clf.score(X_test, y_test) * 100\n",
    "print('SVM linear score', score)\n",
    "\n",
    "clf_rbf = svm.SVC(C=1.0, cache_size=200, kernel='rbf')\n",
    "clf_rbf.fit(X_train, y_train)\n",
    "score = clf_rbf.score(X_test, y_test) * 100\n",
    "print('SVM RBF score', score)"
   ]
  },
  {
   "cell_type": "markdown",
   "metadata": {},
   "source": [
    "#### Now we move on and use distance (This sometimes does not converge!, this seems dodgy)"
   ]
  },
  {
   "cell_type": "code",
   "execution_count": 74,
   "metadata": {
    "collapsed": false
   },
   "outputs": [
    {
     "name": "stdout",
     "output_type": "stream",
     "text": [
      "SVM linear score 97.8\n",
      "SVM RBF score 55.8\n"
     ]
    }
   ],
   "source": [
    "# Make prediction with scikit-learn\n",
    "X = code_vectors_distance[:(N-delay)]\n",
    "y = letters_sequence[delay:N]\n",
    "X_train, X_test, y_train, y_test = cross_validation.train_test_split(X, y, test_size=0.10)\n",
    "\n",
    "clf = svm.SVC(C=1.0, cache_size=200, kernel='linear')\n",
    "clf.fit(X_train, y_train)\n",
    "score = clf.score(X_test, y_test) * 100\n",
    "print('SVM linear score', score)\n",
    "\n",
    "clf_rbf = svm.SVC(C=1.0, cache_size=200, kernel='rbf')\n",
    "clf_rbf.fit(X_train, y_train)\n",
    "score = clf_rbf.score(X_test, y_test) * 100\n",
    "print('SVM RBF score', score)"
   ]
  },
  {
   "cell_type": "code",
   "execution_count": null,
   "metadata": {
    "collapsed": false
   },
   "outputs": [],
   "source": []
  }
 ],
 "metadata": {
  "kernelspec": {
   "display_name": "Python 3",
   "language": "python",
   "name": "python3"
  },
  "language_info": {
   "codemirror_mode": {
    "name": "ipython",
    "version": 3
   },
   "file_extension": ".py",
   "mimetype": "text/x-python",
   "name": "python",
   "nbconvert_exporter": "python",
   "pygments_lexer": "ipython3",
   "version": "3.5.1"
  }
 },
 "nbformat": 4,
 "nbformat_minor": 0
}
