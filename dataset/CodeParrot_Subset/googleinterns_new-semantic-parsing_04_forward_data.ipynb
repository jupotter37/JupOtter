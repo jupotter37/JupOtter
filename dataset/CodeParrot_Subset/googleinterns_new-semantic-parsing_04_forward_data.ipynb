{
 "cells": [
  {
   "cell_type": "code",
   "execution_count": 1,
   "metadata": {},
   "outputs": [],
   "source": [
    "import sys\n",
    "sys.path.append('..')\n",
    "\n",
    "%load_ext autoreload\n",
    "%autoreload 2"
   ]
  },
  {
   "cell_type": "code",
   "execution_count": 2,
   "metadata": {},
   "outputs": [],
   "source": [
    "import torch\n",
    "\n",
    "import transformers\n",
    "import tokenizers\n",
    "\n",
    "from new_semantic_parsing import EncoderDecoderWPointerModel\n",
    "from new_semantic_parsing import TopSchemaTokenizer"
   ]
  },
  {
   "cell_type": "code",
   "execution_count": 3,
   "metadata": {},
   "outputs": [],
   "source": [
    "ENCODER_NAME = 'distilbert-base-uncased'\n",
    "HIDDEN = 768"
   ]
  },
  {
   "cell_type": "code",
   "execution_count": 4,
   "metadata": {},
   "outputs": [
    {
     "name": "stdout",
     "output_type": "stream",
     "text": [
      "9\n",
      "9\n"
     ]
    }
   ],
   "source": [
    "tokenizer = transformers.AutoTokenizer.from_pretrained(ENCODER_NAME, use_fast=True)\n",
    "encoder = transformers.AutoModel.from_pretrained(ENCODER_NAME)\n",
    "\n",
    "vocab = {'[', ']', 'IN:', 'SL:', 'GET_DIRECTIONS', 'DESTINATION',\n",
    "         'DATE_TIME_DEPARTURE', 'GET_ESTIMATED_ARRIVAL'}\n",
    "schema_tokenizer = TopSchemaTokenizer(vocab, tokenizer)\n",
    "\n",
    "print(len(vocab) + 1)  # plus padding\n",
    "print(schema_tokenizer.vocab_size)\n",
    "\n",
    "# BERTConfig is a generic transformer and is only decoder Transformers support by now\n",
    "decoder_config = transformers.BertConfig(\n",
    "    vocab_size=schema_tokenizer.vocab_size + encoder.config.vocab_size,\n",
    "    hidden_size=HIDDEN,\n",
    "    is_decoder=True,  # adds cross-attention modules and enables causal masking\n",
    ")\n",
    "\n",
    "decoder = transformers.BertModel(decoder_config)"
   ]
  },
  {
   "cell_type": "code",
   "execution_count": 5,
   "metadata": {},
   "outputs": [],
   "source": [
    "model = EncoderDecoderWPointerModel(encoder, decoder)"
   ]
  },
  {
   "cell_type": "code",
   "execution_count": 6,
   "metadata": {},
   "outputs": [
    {
     "name": "stdout",
     "output_type": "stream",
     "text": [
      "[101, 7826, 2000, 15521, 102]\n",
      "[2, 4, 5, 10, 11, 2, 6, 7, 12, 1, 1]\n"
     ]
    }
   ],
   "source": [
    "source_text = 'Directions to Lowell'\n",
    "schema_text = '[IN:GET_DIRECTIONS Directions to [SL:DESTINATION Lowell]]'\n",
    "\n",
    "source_ids = tokenizer.encode(source_text)\n",
    "schema_ids = schema_tokenizer.encode(schema_text, source_ids)\n",
    "\n",
    "print(source_ids)\n",
    "print(schema_ids)"
   ]
  },
  {
   "cell_type": "code",
   "execution_count": 7,
   "metadata": {},
   "outputs": [
    {
     "name": "stdout",
     "output_type": "stream",
     "text": [
      "[101, 7826, 2000, 15521, 102]\n",
      "[2, 4, 5, 10, 11, 2, 6, 7, 12, 1, 1]\n"
     ]
    }
   ],
   "source": [
    "source_text = 'Directions to Lowell'\n",
    "schema_text = '[IN:GET_DIRECTIONS Directions to [SL:DESTINATION Lowell]]'\n",
    "\n",
    "source_ids = tokenizer.encode(source_text)\n",
    "schema_ids = schema_tokenizer.encode(schema_text, source_ids)\n",
    "\n",
    "print(source_ids)\n",
    "print(schema_ids)"
   ]
  },
  {
   "cell_type": "code",
   "execution_count": 8,
   "metadata": {},
   "outputs": [
    {
     "name": "stdout",
     "output_type": "stream",
     "text": [
      "tensor([[  101,  7826,  2000, 15521,   102]]) torch.int64\n",
      "tensor([[ 2,  4,  5, 10, 11,  2,  6,  7, 12,  1,  1]]) torch.int64\n"
     ]
    }
   ],
   "source": [
    "x = torch.tensor([source_ids])\n",
    "y = torch.tensor([schema_ids])\n",
    "\n",
    "mask = torch.ones_like(x)\n",
    "mask[:, 0] = 0.\n",
    "mask[source_ids == tokenizer.sep_token_id] = 0.\n",
    "\n",
    "print(x, x.dtype)\n",
    "print(y, y.dtype)"
   ]
  },
  {
   "cell_type": "code",
   "execution_count": 18,
   "metadata": {},
   "outputs": [
    {
     "data": {
      "text/plain": [
       "(tensor([[0, 1, 1, 1, 1]]), torch.Size([1, 5]))"
      ]
     },
     "execution_count": 18,
     "metadata": {},
     "output_type": "execute_result"
    }
   ],
   "source": [
    "mask, mask.shape"
   ]
  },
  {
   "cell_type": "code",
   "execution_count": 19,
   "metadata": {},
   "outputs": [
    {
     "data": {
      "text/plain": [
       "False"
      ]
     },
     "execution_count": 19,
     "metadata": {},
     "output_type": "execute_result"
    }
   ],
   "source": [
    "source_ids == tokenizer.sep_token_id"
   ]
  },
  {
   "cell_type": "code",
   "execution_count": 20,
   "metadata": {},
   "outputs": [],
   "source": [
    "combined_logits = model(input_ids=x, decoder_input_ids=y, pointer_attention_mask=mask)[0]"
   ]
  },
  {
   "cell_type": "code",
   "execution_count": 21,
   "metadata": {},
   "outputs": [
    {
     "data": {
      "text/plain": [
       "True"
      ]
     },
     "execution_count": 21,
     "metadata": {},
     "output_type": "execute_result"
    }
   ],
   "source": [
    "combined_logits.shape == (1, 11, 14)"
   ]
  },
  {
   "cell_type": "code",
   "execution_count": 22,
   "metadata": {},
   "outputs": [
    {
     "data": {
      "text/plain": [
       "True"
      ]
     },
     "execution_count": 22,
     "metadata": {},
     "output_type": "execute_result"
    }
   ],
   "source": [
    "combined_logits.shape[2] == schema_tokenizer.vocab_size + len(source_ids)"
   ]
  },
  {
   "cell_type": "code",
   "execution_count": null,
   "metadata": {},
   "outputs": [],
   "source": []
  }
 ],
 "metadata": {
  "kernelspec": {
   "display_name": "Python 3",
   "language": "python",
   "name": "python3"
  },
  "language_info": {
   "codemirror_mode": {
    "name": "ipython",
    "version": 3
   },
   "file_extension": ".py",
   "mimetype": "text/x-python",
   "name": "python",
   "nbconvert_exporter": "python",
   "pygments_lexer": "ipython3",
   "version": "3.7.6"
  }
 },
 "nbformat": 4,
 "nbformat_minor": 4
}
