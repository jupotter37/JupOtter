{
 "cells": [
  {
   "cell_type": "markdown",
   "metadata": {},
   "source": [
    "# Maximum path sum II\n",
    "\n",
    "By starting at the top of the triangle below and moving to adjacent numbers on the row below, the maximum total from top to bottom is 23.\n",
    "\n",
    "3\n",
    "\n",
    "7  4 \n",
    "\n",
    "2  4  6 \n",
    "\n",
    "8  5  9  3\n",
    "\n",
    "\n",
    "That is, 3 + 7 + 4 + 9 = 23.\n",
    "\n",
    "Find the maximum total from top to bottom in triangle.txt, a 15K text file containing a triangle with one-hundred rows.\n",
    "\n",
    "NOTE: This is a much more difficult version of Problem 18. It is not possible to try every route to solve this problem, as there are 299 altogether! If you could check one trillion (1012) routes every second it would take over twenty billion years to check them all. There is an efficient algorithm to solve it. ;o)"
   ]
  },
  {
   "cell_type": "code",
   "execution_count": 14,
   "metadata": {
    "collapsed": false
   },
   "outputs": [
    {
     "name": "stdout",
     "output_type": "stream",
     "text": [
      "[[59],\n",
      " [73, 41],\n",
      " [52, 40, 9],\n",
      " [26, 53, 6, 34],\n",
      " [10, 51, 87, 86, 81],\n",
      " [61, 95, 66, 57, 25, 68],\n",
      " [90, 81, 80, 38, 92, 67, 73],\n",
      " [30, 28, 51, 76, 81, 18, 75, 44],\n",
      " [84, 14, 95, 87, 62, 81, 17, 78, 58],\n",
      " [21, 46, 71, 58, 2, 79, 62, 39, 31, 9]]\n"
     ]
    }
   ],
   "source": [
    "triangle = []\n",
    "with open('p067_triangle.txt', 'r') as f:\n",
    "    for line in f:\n",
    "        triangle.append([int(i) for i in line.split()])\n",
    "__import__('pprint').pprint(triangle[:10])"
   ]
  },
  {
   "cell_type": "code",
   "execution_count": 15,
   "metadata": {
    "collapsed": false
   },
   "outputs": [
    {
     "name": "stdout",
     "output_type": "stream",
     "text": [
      "7273\n"
     ]
    }
   ],
   "source": [
    "for row in reversed(range(len(triangle)-1)):\n",
    "    for col in range(row+1):\n",
    "        triangle[row][col] += max(triangle[row+1][col], triangle[row+1][col+1])\n",
    "print(triangle[0][0])\n",
    "        "
   ]
  },
  {
   "cell_type": "code",
   "execution_count": null,
   "metadata": {
    "collapsed": true
   },
   "outputs": [],
   "source": []
  }
 ],
 "metadata": {
  "kernelspec": {
   "display_name": "Python 3",
   "language": "python",
   "name": "python3"
  },
  "language_info": {
   "codemirror_mode": {
    "name": "ipython",
    "version": 3
   },
   "file_extension": ".py",
   "mimetype": "text/x-python",
   "name": "python",
   "nbconvert_exporter": "python",
   "pygments_lexer": "ipython3",
   "version": "3.6.0"
  }
 },
 "nbformat": 4,
 "nbformat_minor": 2
}
