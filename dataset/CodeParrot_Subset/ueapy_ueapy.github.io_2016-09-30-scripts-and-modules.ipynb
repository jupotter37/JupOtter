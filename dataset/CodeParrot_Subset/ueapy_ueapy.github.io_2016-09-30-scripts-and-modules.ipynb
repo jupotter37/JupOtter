{
 "cells": [
  {
   "cell_type": "code",
   "execution_count": 1,
   "metadata": {
    "collapsed": true
   },
   "outputs": [],
   "source": [
    "name = '2016-09-30-scripts-and-modules'\n",
    "title = 'Using Python scripts and modules '\n",
    "tags = 'basics'\n",
    "author = 'Denis Sergeev'"
   ]
  },
  {
   "cell_type": "code",
   "execution_count": 2,
   "metadata": {
    "collapsed": true
   },
   "outputs": [],
   "source": [
    "from nb_tools import connect_notebook_to_post\n",
    "from IPython.core.display import HTML\n",
    "\n",
    "html = connect_notebook_to_post(name, title, tags, author)"
   ]
  },
  {
   "cell_type": "markdown",
   "metadata": {},
   "source": [
    "You can type all the instructions in the Python interpreter. But for longer sets of instructions you definitely need to change track and write the code in text files, that are usually called *scripts*."
   ]
  },
  {
   "cell_type": "markdown",
   "metadata": {},
   "source": [
    "## Ways of running scripts"
   ]
  },
  {
   "cell_type": "markdown",
   "metadata": {},
   "source": [
    "There are several ways of executing, or running, a script. If you frequently work in a command line, you would run a Python script just by typing\n",
    "\n",
    "```bash\n",
    "$ python some_script.py\n",
    "```\n",
    "\n",
    "where `some_script` is of course the name of your script."
   ]
  },
  {
   "cell_type": "markdown",
   "metadata": {
    "collapsed": true
   },
   "source": [
    "On Unix machines, if the script starts with **`#!/usr/bin/env python`** and the script is executable, you can just type the name of the script to run it:\n",
    "```bash\n",
    "$ ./demo.py\n",
    "```"
   ]
  },
  {
   "cell_type": "markdown",
   "metadata": {},
   "source": [
    "If you want to run a script from a Python interpreter, you need to use `execfile` command:\n",
    "```python\n",
    ">>> execfile('some_script.py')\n",
    "```"
   ]
  },
  {
   "cell_type": "markdown",
   "metadata": {},
   "source": [
    "The IPython console offers another way of running a script. Yes, you guessed it, it's just literally `run` command:\n",
    "\n",
    "```ipython\n",
    "%run demo.py\n",
    "```\n",
    "In this case, not only the script was executed, but also the variables defined in the script are now available inside the interpreter's namespace."
   ]
  },
  {
   "cell_type": "markdown",
   "metadata": {},
   "source": [
    "## Debugging and profiling in IPython"
   ]
  },
  {
   "cell_type": "markdown",
   "metadata": {},
   "source": [
    "This section is shamelessly taken from [here](https://github.com/drivendata/data-science-is-software/blob/master/notebooks/lectures/3.0-refactoring.ipynb)."
   ]
  },
  {
   "cell_type": "markdown",
   "metadata": {},
   "source": [
    "#### Standard Python debugger: pdb"
   ]
  },
  {
   "cell_type": "markdown",
   "metadata": {},
   "source": [
    "Interrupt execution with:\n",
    "* `%debug` magic: drops you out into the most recent error stacktrace in pdb\n",
    "* `import q; q.d()`: drops you into pdb, even outside of IPython\n",
    "\n",
    "Interrupt execution on an `Exception` with `%pdb` magic. Use pdb the Python debugger to debug inside a notebook.\n",
    "\n",
    "**Key commands for pdb are:**\n",
    "\n",
    "* `p`: Evaluate and print Python code\n",
    "* `w`: Where in the stack trace am I?\n",
    "* `u`: Go up a frame in the stack trace.\n",
    "* `d`: Go down a frame in the stack trace.\n",
    "* `c`: Continue execution\n",
    "* `q`: Stop execution"
   ]
  },
  {
   "cell_type": "markdown",
   "metadata": {},
   "source": [
    "#### IPython profiler"
   ]
  },
  {
   "cell_type": "markdown",
   "metadata": {},
   "source": [
    "Sometimes your code is slow. See which functions are called, how many times, and how long they take!\n",
    "The `%prun` magic reports these to you right in the Jupyter notebook!"
   ]
  },
  {
   "cell_type": "markdown",
   "metadata": {},
   "source": [
    "#### The world beyond Jupyter"
   ]
  },
  {
   "cell_type": "markdown",
   "metadata": {},
   "source": [
    "Modern graphical IDEs are shipped with built-in profiling and debugging interfaces. One of the most powerful Python IDEs is PyCharm. It has tons of integrations with the normal development flow. Some of the features include:\n",
    "* git integration\n",
    "* interactive graphical debugger\n",
    "* flake8 linting\n",
    "* smart refactoring/go to"
   ]
  },
  {
   "cell_type": "markdown",
   "metadata": {},
   "source": [
    "## Reusing code by importing modules"
   ]
  },
  {
   "cell_type": "markdown",
   "metadata": {},
   "source": [
    "If you want to write larger and better organized programs (compared to simple scripts), where some objects are defined, (variables, functions, classes) and that you want to reuse several times, you have to create your own modules.\n",
    "\n",
    "Let us create a module demo contained in the file demo.py:\n",
    "```python\n",
    "# A demo module\n",
    "\n",
    "\n",
    "def show_me_a():\n",
    "    \"\"\"Prints a.\"\"\"\n",
    "    print('a')\n",
    "    \n",
    "def show_me_b():\n",
    "    \"\"\"Prints b.\"\"\"\n",
    "    print('b')\n",
    "\n",
    "c = 2\n",
    "d = 2\n",
    "```"
   ]
  },
  {
   "cell_type": "markdown",
   "metadata": {},
   "source": [
    "In this file, we defined two functions `show_me_a` and `show_me_b`. Suppose we want to call the `show_me_a` function from the interpreter. We could execute the file as a script, but since we just want to have access to the function `show_me_a`, we are rather going to import it as a module. The syntax is as follows.\n",
    "```ipython\n",
    "In [1]: import demo\n",
    "\n",
    "\n",
    "In [2]: demo.show_me_a()\n",
    "a\n",
    "```"
   ]
  },
  {
   "cell_type": "markdown",
   "metadata": {
    "collapsed": true
   },
   "source": [
    "### Pythonic import statements"
   ]
  },
  {
   "cell_type": "markdown",
   "metadata": {},
   "source": [
    "#### <font color='green'>Good</font>\n",
    "import <font color='green'>sys</font>\n",
    "\n",
    "from os import <font color='green'>path</font>\n",
    "\n",
    "import statistics <font color='green'>as stats</font>\n",
    "\n",
    "from custom_package import <font color='green'>mode</font>\n",
    "\n",
    "from statistics import <font color='green'>mean, median</font>"
   ]
  },
  {
   "cell_type": "markdown",
   "metadata": {
    "collapsed": true
   },
   "source": [
    "#### <font color='red'>Bad:</font> silently overwrites previous imports\n",
    "from pylab import <font color='red'><b>*</b></font>"
   ]
  },
  {
   "cell_type": "markdown",
   "metadata": {},
   "source": [
    "### Module caching"
   ]
  },
  {
   "cell_type": "markdown",
   "metadata": {},
   "source": [
    "Modules are cached: if you modify ``demo.py`` and re-import it in the\n",
    "old session, you will get the old one.\n",
    "\n",
    "Solution:\n",
    "\n",
    "```ipython\n",
    "    In [1]: reload(demo)\n",
    "```\n",
    "\n",
    "In Python 3 instead ``reload`` is not builtin, so you have to import the ``importlib`` module first and then do:\n",
    "\n",
    "```python\n",
    "    In [1]: importlib.reload(demo)\n",
    "```"
   ]
  },
  {
   "cell_type": "markdown",
   "metadata": {},
   "source": [
    "#### Auto-reloading in IPython"
   ]
  },
  {
   "cell_type": "markdown",
   "metadata": {},
   "source": [
    "```ipython\n",
    "%load_ext autoreload\n",
    "# always reload modules marked with \"%aimport\"\n",
    "%autoreload 1\n",
    "# reload all\n",
    "%autoreload 2\n",
    "```"
   ]
  },
  {
   "cell_type": "markdown",
   "metadata": {},
   "source": [
    "Let us test it out! First we import the module using the magic:"
   ]
  },
  {
   "cell_type": "code",
   "execution_count": 3,
   "metadata": {
    "collapsed": false
   },
   "outputs": [],
   "source": [
    "%load_ext autoreload\n",
    "%autoreload 2\n",
    "import demo"
   ]
  },
  {
   "cell_type": "code",
   "execution_count": 4,
   "metadata": {
    "collapsed": false
   },
   "outputs": [
    {
     "name": "stdout",
     "output_type": "stream",
     "text": [
      "a\n"
     ]
    }
   ],
   "source": [
    "demo.show_me_a()"
   ]
  },
  {
   "cell_type": "markdown",
   "metadata": {},
   "source": [
    "Then we change that function to so that it prints something else:"
   ]
  },
  {
   "cell_type": "markdown",
   "metadata": {},
   "source": [
    "```python\n",
    "# A demo module\n",
    "\n",
    "\n",
    "def show_me_a():\n",
    "    \"\"\"Prints a.\"\"\"\n",
    "    print('Something else')\n",
    "    \n",
    "def show_me_b():\n",
    "    \"\"\"Prints b.\"\"\"\n",
    "    print('b')\n",
    "\n",
    "c = 2\n",
    "d = 2\n",
    "```"
   ]
  },
  {
   "cell_type": "markdown",
   "metadata": {},
   "source": [
    "Now `demo.show_me_a()` prints out \"Something else\" instead of \"a\"."
   ]
  },
  {
   "cell_type": "markdown",
   "metadata": {
    "collapsed": true
   },
   "source": [
    "## `'__main__'` and how to use it"
   ]
  },
  {
   "cell_type": "markdown",
   "metadata": {
    "collapsed": false
   },
   "source": [
    "Sometimes we want code to be executed when a module is run directly, but not when it is imported by another module. `if __name__ == '__main__'` allows us to check whether the module is being run directly."
   ]
  },
  {
   "cell_type": "markdown",
   "metadata": {},
   "source": [
    "So now if the script demo.py looks like this:"
   ]
  },
  {
   "cell_type": "markdown",
   "metadata": {},
   "source": [
    "```python\n",
    "def show_me_a():\n",
    "    \"\"\"Prints a.\"\"\"\n",
    "    print('Something else')\n",
    "\n",
    "def show_me_b():\n",
    "    \"\"\"Prints b.\"\"\"\n",
    "    print('b')\n",
    "\n",
    "# show_me_b() runs on import\n",
    "show_me_b()\n",
    "\n",
    "if __name__ == '__main__':\n",
    "    # show_me_a() is only executed when the module is run directly.\n",
    "    show_me_a()\n",
    "```"
   ]
  },
  {
   "cell_type": "markdown",
   "metadata": {},
   "source": [
    "## Using packages and creating your own modules"
   ]
  },
  {
   "cell_type": "markdown",
   "metadata": {},
   "source": [
    "In order to import your local modules, you must do three things:\n",
    "* put the .py file in a separate folder\n",
    "* add an empty `__init__.py` file to the folder\n",
    "* add that folder to the Python path with `sys.path.append()`"
   ]
  },
  {
   "cell_type": "markdown",
   "metadata": {},
   "source": [
    "If you are getting too good at writing code and it's becoming useful for other projects or people, you should consider refactoring it into a standalone package. You can then make it available online via PyPi or Anaconda. There are great templates out there. To name but a few:\n",
    "* [Cookiecutter](https://github.com/wdm0006/cookiecutter-pipproject)\n",
    "* [Shablona](https://github.com/uwescience/shablona)"
   ]
  },
  {
   "cell_type": "markdown",
   "metadata": {},
   "source": [
    "## Resources\n",
    "* [TalkPython course \"Write Pythonic Code Like a Seasoned Developer\"](https://training.talkpython.fm/courses/details/write-pythonic-code-like-a-seasoned-developer)\n",
    "* [SciPy lectures](http://www.scipy-lectures.org/intro/language/reusing_code.html)\n",
    "* [Data Science is Software. SciPy 2016 Tutorial by Peter Bull & Isaac Slavitt](https://www.youtube.com/watch?v=EKUy0TSLg04&index=10&list=WL)"
   ]
  },
  {
   "cell_type": "code",
   "execution_count": 5,
   "metadata": {
    "collapsed": false
   },
   "outputs": [
    {
     "data": {
      "text/html": [
       "\n",
       "    <small>\n",
       "    <p> This post was written as an IPython (Jupyter) notebook. You can view or download it using\n",
       "    <a href=\"http://nbviewer.ipython.org/github/ueapy/ueapy.github.io/blob/src/content/notebooks/2016-09-30-scripts-and-modules.ipynb\">nbviewer</a>.</p>\n",
       "    "
      ],
      "text/plain": [
       "<IPython.core.display.HTML object>"
      ]
     },
     "execution_count": 5,
     "metadata": {},
     "output_type": "execute_result"
    }
   ],
   "source": [
    "HTML(html)"
   ]
  }
 ],
 "metadata": {
  "kernelspec": {
   "display_name": "Python 3",
   "language": "python",
   "name": "python3"
  },
  "language_info": {
   "codemirror_mode": {
    "name": "ipython",
    "version": 3
   },
   "file_extension": ".py",
   "mimetype": "text/x-python",
   "name": "python",
   "nbconvert_exporter": "python",
   "pygments_lexer": "ipython3",
   "version": "3.5.2"
  }
 },
 "nbformat": 4,
 "nbformat_minor": 0
}
