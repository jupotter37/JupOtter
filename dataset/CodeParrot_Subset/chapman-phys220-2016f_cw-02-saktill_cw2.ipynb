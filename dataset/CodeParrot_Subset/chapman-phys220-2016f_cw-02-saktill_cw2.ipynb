{
 "cells": [
  {
   "cell_type": "code",
   "execution_count": 2,
   "metadata": {
    "collapsed": false
   },
   "outputs": [],
   "source": [
    "import coor\n",
    "import pathlength\n",
    "import kinematix"
   ]
  },
  {
   "cell_type": "markdown",
   "metadata": {},
   "source": [
    "# Classwork 02\n",
    "## Saktill\n",
    "### 9/13/2016\n",
    "\n",
    "We finished 2/3 problems completely, which are coor.py and pathlength.py. We then kept running into an unresolvable list problem for kinematix.py. We couldn't get the function to append to an empty list after taking a list as a parameter. But that was the only problem we seemed to encounter."
   ]
  },
  {
   "cell_type": "markdown",
   "metadata": {},
   "source": [
    "Below we show the output for coor.py. This module takes in 3 parameters which are an interval and a number of divisions of that interval. We show this by example by choosing the interval [0,1] with 4 divisions."
   ]
  },
  {
   "cell_type": "code",
   "execution_count": 3,
   "metadata": {
    "collapsed": false
   },
   "outputs": [
    {
     "name": "stdout",
     "output_type": "stream",
     "text": [
      "[0.25, 0.5, 0.75, 1.0]\n"
     ]
    }
   ],
   "source": [
    "print coor.equalSpacedCoordinates(4,0,1)"
   ]
  },
  {
   "cell_type": "markdown",
   "metadata": {},
   "source": [
    "Now we show the output for pathlength.py. The function in this module takes in two lists as its parameters. Lists x and y can be thought of as the respective components of a certain vector."
   ]
  },
  {
   "cell_type": "code",
   "execution_count": 4,
   "metadata": {
    "collapsed": false
   },
   "outputs": [
    {
     "name": "stdout",
     "output_type": "stream",
     "text": [
      "7.2360679775\n"
     ]
    }
   ],
   "source": [
    "x = [1,3]\n",
    "y = [2,4]\n",
    "print pathlength.pathlength(x,y)"
   ]
  },
  {
   "cell_type": "markdown",
   "metadata": {},
   "source": [
    "## Kinematix.py\n",
    "This is a module that includes a function which returns velocity and acceleration based on approximation formulas. Here's the return from a test function, which sets $x_i = V t_i$ for some constant $V$. In this instance, $V$ is 6. "
   ]
  },
  {
   "cell_type": "code",
   "execution_count": 6,
   "metadata": {
    "collapsed": false
   },
   "outputs": [
    {
     "name": "stdout",
     "output_type": "stream",
     "text": [
      "((6.0, 0.0), (6.0000000000000036, 1.3322676295501878e-08))\n"
     ]
    }
   ],
   "source": [
    "print kinematix.test_kinematics()"
   ]
  },
  {
   "cell_type": "markdown",
   "metadata": {},
   "source": [
    "## INSTRUCTOR COMMENTS\n",
    "Try to structure your notebooks to read as a more professional report. This is a very casual document. Write both your names in full at the top. Separate problems into distinct sections. Give a description of the problem. Show the solution, and make sure you save the notebook with the outputs that you want to show (you only have inputs here). Imagine that you are sending this document to a future employer, and it is showcasing your work as a stand-alone and self-contained document."
   ]
  }
 ],
 "metadata": {
  "kernelspec": {
   "display_name": "Python 2 (SageMath)",
   "language": "python",
   "name": "python2"
  },
  "language_info": {
   "codemirror_mode": {
    "name": "ipython",
    "version": 2
   },
   "file_extension": ".py",
   "mimetype": "text/x-python",
   "name": "python",
   "nbconvert_exporter": "python",
   "pygments_lexer": "ipython2",
   "version": "2.7.10"
  }
 },
 "nbformat": 4,
 "nbformat_minor": 0
}
