{
 "cells": [
  {
   "cell_type": "markdown",
   "metadata": {},
   "source": [
    "# Oscilloskope USBTCM utility"
   ]
  },
  {
   "cell_type": "code",
   "execution_count": 2,
   "metadata": {},
   "outputs": [
    {
     "name": "stdout",
     "output_type": "stream",
     "text": [
      "Micsig, TO1072, 311070077, 6.11\n",
      "\n",
      "-1\n",
      "\n",
      "0\n",
      "\n"
     ]
    }
   ],
   "source": [
    "import matplotlib.pyplot as plt\n",
    "import sys\n",
    "import os\n",
    "import time\n",
    "import h5py\n",
    "import numpy as np\n",
    "\n",
    "\n",
    "# TRYING TO ADAPT THE SCRIPT FOR THE MICSIG oscilloscope\n",
    "\n",
    "# Create ownership rule as /etc/udev/rules.d/99-micsig.rules\n",
    "# SUBSYSTEMS==\"usb\", ATTRS{idVendor}==\"18d1\", ATTRS{idProduct}==\"0303\", GROUP=\"medved\", MODE=\"0666\"\n",
    "\n",
    "class UsbTmcDriver:\n",
    "\n",
    "    def __init__(self, device):\n",
    "        self.device = device\n",
    "        self.FILE = os.open(device, os.O_RDWR)\n",
    " \n",
    "    def write(self, command):\n",
    "        os.write(self.FILE, command);\n",
    " \n",
    "    def read(self, length = 2048):\n",
    "        return os.read(self.FILE, length)\n",
    " \n",
    "    def getName(self):\n",
    "        self.write(\"*IDN?\")\n",
    "        return self.read(300)\n",
    " \n",
    "    def sendReset(self):\n",
    "        self.write(\"*RST\")  # Be carefull, this real resets an oscilloscope\n",
    "\n",
    "# Looking for USBTMC device\n",
    "def getDeviceList(): \n",
    "    dirList=os.listdir(\"/dev\")\n",
    "    result=list()\n",
    "\n",
    "    for fname in dirList:\n",
    "        if(fname.startswith(\"usbtmc\")):\n",
    "            result.append(\"/dev/\" + fname)\n",
    "\n",
    "    return result\n",
    "\n",
    "# looking for oscilloscope\n",
    "devices =  getDeviceList()\n",
    "# initiate oscilloscope\n",
    "osc = UsbTmcDriver(devices[0])\n",
    "\n",
    "print osc.getName()\n",
    "osc.write(\":STOP\")\n",
    "time.sleep(.2)\n",
    "osc.write(':WAV:SOUR CHAN1')\n",
    "time.sleep(.2)\n",
    "osc.write(':WAV:XINC?')\n",
    "time.sleep(.2)\n",
    "data = bytearray(osc.read(500))\n",
    "print data\n",
    "osc.write(':WAV:YINC?')\n",
    "time.sleep(.2)\n",
    "data = bytearray(osc.read(500))\n",
    "print data\n"
   ]
  },
  {
   "cell_type": "code",
   "execution_count": 8,
   "metadata": {},
   "outputs": [],
   "source": [
    "osc.write(\"MENU:RUN\")\n",
    "time.sleep(1)\n",
    "\n",
    "'''\n",
    "osc.write(':WAV:SOUR CHAN1')\n",
    "time.sleep(.2)\n",
    "osc.write(':WAV:MODE NORM')\n",
    "time.sleep(.2)\n",
    "osc.write(':WAV:DATA?')\n",
    "time.sleep(.2)\n",
    "wave1 = bytearray(osc.read(500))\n",
    "print wave1\n",
    "time.sleep(.2)\n",
    "osc.write(\"MENU:STOP\")\n",
    "time.sleep(.2)\n",
    "osc.write(':WAV:SOUR CHAN1')\n",
    "time.sleep(.2)\n",
    "osc.write(':WAV:MODE RAW')\n",
    "time.sleep(.2)\n",
    "osc.write(':WAV:RESet')\n",
    "time.sleep(.2)\n",
    "osc.write(':WAV:BEGin')\n",
    "time.sleep(.2)\n",
    "osc.write(':WAV:STATus?')\n",
    "time.sleep(.2)\n",
    "wave1 = bytearray(osc.read(500))\n",
    "print wave1\n",
    "'''\n",
    "osc.write(\"MENU:STOP\")\n",
    "time.sleep(1)\n",
    "\n",
    "#osc.write(':STORage:SAVECH1,UDISK')\n",
    "osc.write(':STORage:CAPTure')\n"
   ]
  },
  {
   "cell_type": "code",
   "execution_count": 27,
   "metadata": {},
   "outputs": [
    {
     "name": "stdout",
     "output_type": "stream",
     "text": [
      "\n"
     ]
    }
   ],
   "source": [
    "osc.write(':WAV:DATA?')\n",
    "time.sleep(.2)\n",
    "wave1 = bytearray(osc.read(500))\n",
    "print wave1\n",
    "\n",
    "#osc.write(':WAV:END')\n",
    "#time.sleep(.2)\n"
   ]
  },
  {
   "cell_type": "code",
   "execution_count": null,
   "metadata": {
    "collapsed": true
   },
   "outputs": [],
   "source": []
  }
 ],
 "metadata": {
  "kernelspec": {
   "display_name": "Python 2",
   "language": "python",
   "name": "python2"
  },
  "language_info": {
   "codemirror_mode": {
    "name": "ipython",
    "version": 2
   },
   "file_extension": ".py",
   "mimetype": "text/x-python",
   "name": "python",
   "nbconvert_exporter": "python",
   "pygments_lexer": "ipython2",
   "version": "2.7.15+"
  }
 },
 "nbformat": 4,
 "nbformat_minor": 1
}
