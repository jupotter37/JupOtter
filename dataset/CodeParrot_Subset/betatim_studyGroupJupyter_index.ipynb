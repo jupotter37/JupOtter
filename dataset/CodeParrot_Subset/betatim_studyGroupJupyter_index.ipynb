{
 "cells": [
  {
   "cell_type": "markdown",
   "metadata": {
    "slideshow": {
     "slide_type": "slide"
    }
   },
   "source": [
    "<center>\n",
    "    <h1>Jupyter Notebooks</h1>\n",
    "    <br /><br />\n",
    "    Tim Head (<a href=\"https://twitter.com/betatim\">@betatim</a>)\n",
    "    <br /><br />\n",
    "</center>"
   ]
  },
  {
   "cell_type": "code",
   "execution_count": 1,
   "metadata": {
    "collapsed": false,
    "slideshow": {
     "slide_type": "skip"
    }
   },
   "outputs": [
    {
     "data": {
      "text/plain": [
       "{'height': 768, 'scroll': True, 'theme': 'simple', 'width': 1024}"
      ]
     },
     "execution_count": 1,
     "metadata": {},
     "output_type": "execute_result"
    }
   ],
   "source": [
    "# Global settings - skip me\n",
    "# Slideshow\n",
    "from notebook.services.config import ConfigManager\n",
    "cm = ConfigManager()\n",
    "cm.update('livereveal', {'width': 1024, 'height': 768, 'scroll': True, 'theme': 'simple'})"
   ]
  },
  {
   "cell_type": "markdown",
   "metadata": {
    "collapsed": true,
    "slideshow": {
     "slide_type": "slide"
    }
   },
   "source": [
    "<img src=\"imgs/leonardo.jpg\" width=1024 />"
   ]
  },
  {
   "cell_type": "markdown",
   "metadata": {
    "slideshow": {
     "slide_type": "slide"
    }
   },
   "source": [
    "\"The purpose of computing is insight, not numbers.\"\n",
    "\n",
    "-- *Hamming 1962*"
   ]
  },
  {
   "cell_type": "markdown",
   "metadata": {
    "slideshow": {
     "slide_type": "slide"
    }
   },
   "source": [
    "# This is a Notebook (and a slide show)\n",
    "\n",
    "A Jupyter notebook is a turbo charged REPL (Read-Eval-Print Loop).\n",
    "\n",
    "* type code\n",
    "* run it\n",
    "* see the result\n",
    "\n",
    "The result can be anything your browser can display!"
   ]
  },
  {
   "cell_type": "markdown",
   "metadata": {
    "slideshow": {
     "slide_type": "slide"
    }
   },
   "source": [
    "# All the languages\n",
    "\n",
    "Jupyter notebooks started as a `python` thing, then realised that the **UI** is completely independent of the `kernel`.\n",
    "\n",
    "* **UI**: The part you interact with, what we are looking at right now\n",
    "* **kernel**: The part that actually does the work\n",
    "\n",
    "There are [many different kernels](https://github.com/ipython/ipython/wiki/IPython-kernels-for-other-languages):\n",
    "* python (the default)\n",
    "* bash\n",
    "* R\n",
    "* Julia\n",
    "* (recently ROOT as well)"
   ]
  },
  {
   "cell_type": "markdown",
   "metadata": {
    "slideshow": {
     "slide_type": "slide"
    }
   },
   "source": [
    "# Let's go!\n",
    "\n",
    "Switching to code-along mode:\n",
    "\n",
    "* [taking notes](notes.ipynb)\n",
    "* [bash](bash.ipynb)\n",
    "* [python](python.ipynb)\n",
    "* [polyglot python](polyglot-python.ipynb)\n",
    "* [R](IRkernel.ipynb)"
   ]
  },
  {
   "cell_type": "code",
   "execution_count": 2,
   "metadata": {
    "collapsed": false,
    "slideshow": {
     "slide_type": "slide"
    }
   },
   "outputs": [
    {
     "data": {
      "text/html": [
       "<img src=\"http://i1185.photobucket.com/albums/z349/babybabydontbesoshy/NotBad.gif\"/>"
      ],
      "text/plain": [
       "<IPython.core.display.Image object>"
      ]
     },
     "execution_count": 2,
     "metadata": {},
     "output_type": "execute_result"
    }
   ],
   "source": [
    "from IPython.display import Image\n",
    "Image(url=\"http://i1185.photobucket.com/albums/z349/babybabydontbesoshy/NotBad.gif\")"
   ]
  }
 ],
 "metadata": {
  "celltoolbar": "Slideshow",
  "kernelspec": {
   "display_name": "Python 3",
   "language": "python",
   "name": "python3"
  },
  "language_info": {
   "codemirror_mode": {
    "name": "ipython",
    "version": 3
   },
   "file_extension": ".py",
   "mimetype": "text/x-python",
   "name": "python",
   "nbconvert_exporter": "python",
   "pygments_lexer": "ipython3",
   "version": "3.5.1"
  }
 },
 "nbformat": 4,
 "nbformat_minor": 0
}
