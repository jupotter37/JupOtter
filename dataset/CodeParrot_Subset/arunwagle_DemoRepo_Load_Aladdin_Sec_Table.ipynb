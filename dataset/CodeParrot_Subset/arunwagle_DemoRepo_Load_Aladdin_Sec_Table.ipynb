{
    "metadata": {
        "language_info": {
            "file_extension": ".py", 
            "name": "python", 
            "mimetype": "text/x-python", 
            "nbconvert_exporter": "python", 
            "version": "2.7.11", 
            "codemirror_mode": {
                "name": "ipython", 
                "version": 2
            }, 
            "pygments_lexer": "ipython2"
        }, 
        "kernelspec": {
            "display_name": "Python 2 with Spark 2.0", 
            "name": "python2-spark20", 
            "language": "python"
        }
    }, 
    "nbformat": 4, 
    "cells": [
        {
            "metadata": {}, 
            "source": "!pip install --user xlrd", 
            "execution_count": 1, 
            "cell_type": "code", 
            "outputs": [
                {
                    "name": "stdout", 
                    "output_type": "stream", 
                    "text": "Requirement already satisfied: xlrd in /gpfs/global_fs01/sym_shared/YPProdSpark/user/s1df-1767d8774d3251-73caa6cfaa60/.local/lib/python2.7/site-packages\r\n"
                }
            ]
        }, 
        {
            "metadata": {
                "collapsed": true
            }, 
            "source": "# Setup constants if any\n# FUNDS ID\nFUNDS_ID_LIST = ['I-CJF','I-MG1','I-SQGFSH2','I-SQGFSH2O']\n\n", 
            "execution_count": 129, 
            "cell_type": "code", 
            "outputs": []
        }, 
        {
            "metadata": {
                "collapsed": true
            }, 
            "source": "import pandas as pd\nfrom io import BytesIO\nimport requests\nimport json\nimport xlrd \n\nfrom pyspark.sql.functions import *\nfrom pyspark.sql.types import *\n\nfrom datetime import datetime\nfrom dateutil.parser import parse\n\nfrom ingest.Connectors import Connectors", 
            "execution_count": 2, 
            "cell_type": "code", 
            "outputs": []
        }, 
        {
            "metadata": {
                "collapsed": true
            }, 
            "source": "# The code was removed by DSX for sharing.", 
            "execution_count": 3, 
            "cell_type": "code", 
            "outputs": []
        }, 
        {
            "metadata": {
                "collapsed": true
            }, 
            "source": "# The code was removed by DSX for sharing.", 
            "execution_count": 4, 
            "cell_type": "code", 
            "outputs": []
        }, 
        {
            "metadata": {}, 
            "source": "\naladdinSecDF1 = pd.read_excel(getFileFromObjectStorage('MizuhoPOC', 'ALADDIN-SEC.xlsx'),index_col=[0], header=[0]).iloc[0:8]\n# Drop rows & columns with all 'NaN' values, axis 0 is for row\naladdinSecDFFiltered1 = aladdinSecDF1.dropna(axis=[0,1], how='all')\n# print aladdinSecDF1\n\nasOfDate = pd.to_datetime(aladdinSecDFFiltered1.loc['As Of Date:', 'Unnamed: 1']).strftime('%Y-%m-%d')\n\nprint \"\\nasOfDate = \" + asOfDate", 
            "execution_count": 30, 
            "cell_type": "code", 
            "outputs": [
                {
                    "name": "stdout", 
                    "output_type": "stream", 
                    "text": "\nasOfDate = 2017-07-31\n"
                }
            ]
        }, 
        {
            "metadata": {
                "scrolled": true
            }, 
            "source": "aladdinSecDF2 = pd.read_excel(getFileFromObjectStorage('MizuhoPOC', 'ALADDIN-SEC.xlsx'), header=[0], skipinitialspace=True, skiprows=9, index_col=[0,1])\n\n# Drop rows & columns with all 'NaN' values, axis 0 is for row\naladdinSecDF2FilterNullRowsCols = aladdinSecDF2.dropna(axis=[0,1], how='all').fillna('')\nprint aladdinSecDF2FilterNullRowsCols\n\n# aladdinSecDF2FilterNullRowsCols.index.names\n\n# aladdinSecDF2FilterNullRowsCols.index.get_level_values(\"Portfolio\")\n\n# aladdinSecDF2FilterNullRowsCols.columns\n\n# This step clears the first 2 rows of each fund as those are the aggregate columns and we do not need to store those\ndfNewArr = []\nfor id in FUNDS_ID_LIST:    \n    df = aladdinSecDF2FilterNullRowsCols.loc[id].iloc[2:]\n    df['fund_id']=id\n    dfNewArr.append(df)\n    \n# Concat all the funds together    \ndfNew=pd.concat(dfNewArr)\n\n# Flatten the list by removing all the index\ndfNew = dfNew.reset_index()\n\n# Rename column to match database columns\naladdinSecDF2Renamed = \\\n    dfNew.rename(index=str, \n                 columns={\"fund_id\": \"FUND_ID\", \n                          \"Currency\": \"CURRENCY\" ,\n                          \"CUSIP(Aladdin ID)\": \"CUSIP\", \n                          \"Sec Type\": \"SEC_TYPE\",\n                          \"Ticker/Coupon/Maturity\": \"TICKER_COUPON_MATURITY\",\n                          \"Sec Desc\": \"SEC_DESC\",\n                          \"ISIN\": \"ISIN\",\n                          \"Orig. Face\": \"ORIG_FACE\", \n                          \"Settled\": \"SETTLED\",\n                          \"Notional Market Value\": \"NOTIONAL_MKT_VAL\",\n                          \"Base Curr Market Val w/Acc Int\": \"BASE_CURR_MKT_VAL_ACC_INT\",\n                          \"Base Curr Accr Int\": \"BASE_CURR_MKT_INT\",\n                          \"Maturity\": \"MATURITY_DATE\",\n                          \"Issue Date\": \"ISSUE_DATE\",\n                          \"Base Curr FX Rate\": \"BASE_CURR_FX_RATE\",\n                          \"Market Price\": \"MKT_PRICE\",\n                          \"Coupon\": \"COUPON\",\n                          \"S&P Rating\": \"SNP_RATING\"\n                         })\\\n\n# Convert to float. TODO - Should everything be String as CSV files data is inconsistent    \naladdinSecDF2Renamed[['ORIG_FACE', 'SETTLED', 'NOTIONAL_MKT_VAL', 'BASE_CURR_MKT_VAL_ACC_INT', 'BASE_CURR_MKT_INT', 'BASE_CURR_FX_RATE', 'MKT_PRICE']]  \\\n= aladdinSecDF2Renamed[['ORIG_FACE', 'SETTLED', 'NOTIONAL_MKT_VAL', 'BASE_CURR_MKT_VAL_ACC_INT', 'BASE_CURR_MKT_INT', 'BASE_CURR_FX_RATE', 'MKT_PRICE']] \\\n.astype(float)\n    \naladdinSecDF2Renamed[['MATURITY_DATE','ISSUE_DATE']]=aladdinSecDF2Renamed[['MATURITY_DATE','ISSUE_DATE']].astype(str)\n    \n# aladdinSecDF2Renamed['MATURITY_DATE'] = pd.DatetimeIndex(aladdinSecDF2Renamed['MATURITY_DATE'], ambiguous='NaT').date\n#aladdinSecDF2Renamed['ISSUE_DATE'] = pd.DatetimeIndex(aladdinSecDF2Renamed['ISSUE_DATE']).date\n    \n#aladdinSecDF2Renamed = aladdinSecDF2Renamed.fillna('')   \n    \n    \n#aladdinSecDF2Renamed.dtypes \n# aladdinSecDF2Renamed.head(20)\n\n", 
            "execution_count": 207, 
            "cell_type": "code", 
            "outputs": [
                {
                    "name": "stdout", 
                    "output_type": "stream", 
                    "text": "                    CUSIP(Aladdin ID)  Sec Type   Ticker/Coupon/Maturity  \\\nPortfolio  Currency                                                        \nI-CJF      JPY              B7A0B81E2      GOVT    JGB 1.700 20-MAR-2018   \n           JPY              B7A0B81E2      GOVT    JGB 1.700 20-MAR-2018   \n           JPY              B7A0B81E2      GOVT    JGB 1.700 20-MAR-2018   \nI-MG1      USD                  (4/4)     (3/4)        (4/4) 0.000 (3/4)   \n           USD                  (4/4)     (3/4)        (4/4) 0.000 (3/4)   \n           USD              00771X500  OPEN_END                    FCAIX   \n           USD              BRS30C544      STIF                  JPMULCD   \n           USD              BMZ1ACYJ5      CORP    LEH 0.000 31-JAN-2024   \n           USD              BMZ1UBNV0      CORP  SQGFS 0.000 31-JAN-2099   \nI-SQGFSH2  USD                  (7/7)    EQUITY                    (7/7)   \n           USD                  (7/7)    EQUITY                    (7/7)   \n           USD              46432F339    EQUITY                     QUAL   \n           USD              46432F370    EQUITY                     SIZE   \n           USD              46432F388    EQUITY                     VLUE   \n           USD              46432F396    EQUITY                     MTUM   \n           USD              73935X302    EQUITY                      PEY   \n           USD              73935X682    EQUITY                     SPHQ   \n           USD              73937B779    EQUITY                     SPLV   \nI-SQGFSH2O USD                  (7/7)    EQUITY                    (7/7)   \n           USD                  (7/7)    EQUITY                    (7/7)   \n           USD              46432F339    EQUITY                     QUAL   \n           USD              46432F370    EQUITY                     SIZE   \n           USD              46432F388    EQUITY                     VLUE   \n           USD              46432F396    EQUITY                     MTUM   \n           USD              73935X302    EQUITY                      PEY   \n           USD              73935X682    EQUITY                     SPHQ   \n           USD              73937B779    EQUITY                     SPLV   \n(4/19)     (2/19)             (12/19)    (5/19)     (12/19) 0.000 (4/19)   \n\n                                               Sec Desc          ISIN  \\\nPortfolio  Currency                                                     \nI-CJF      JPY          JAPAN (GOVERNMENT OF) 10YR #292  JP1102921853   \n           JPY          JAPAN (GOVERNMENT OF) 10YR #292  JP1102921853   \n           JPY          JAPAN (GOVERNMENT OF) 10YR #292  JP1102921853   \nI-MG1      USD                                    (4/4)         (3/4)   \n           USD                                    (4/4)         (3/4)   \n           USD           FIERA CAP DIVERS ALTER CL INST  US00771X5005   \n           USD               JPM LIQ-USD LIQUIDITY-INSD  LU0103813712   \n           USD                             LEHMAN CLAIM                 \n           USD             BRIDGE INVESTMENT IN I-SQGFS                 \nI-SQGFSH2  USD                                    (7/7)         (7/7)   \n           USD                                    (7/7)         (7/7)   \n           USD       ISHARES EDGE MSCI USA QUALITY FACT  US46432F3394   \n           USD        ISHARES EDGE MSCI USA SIZE FACTOR  US46432F3709   \n           USD       ISHARES EDGE MSCI USA VALUE FACTOR  US46432F3881   \n           USD       ISHARES EDGE MSCI USA MOMENTUM FAC  US46432F3964   \n           USD       POWERSHARES HIGH YIELD EQUITY DIVI  US73935X3026   \n           USD                 POWERSHARES S&P HIGH ETF  US73935X6821   \n           USD        POWERSHARES S&P LOW VOLATILITY PO  US73937B7799   \nI-SQGFSH2O USD                                    (7/7)         (7/7)   \n           USD                                    (7/7)         (7/7)   \n           USD       ISHARES EDGE MSCI USA QUALITY FACT  US46432F3394   \n           USD        ISHARES EDGE MSCI USA SIZE FACTOR  US46432F3709   \n           USD       ISHARES EDGE MSCI USA VALUE FACTOR  US46432F3881   \n           USD       ISHARES EDGE MSCI USA MOMENTUM FAC  US46432F3964   \n           USD       POWERSHARES HIGH YIELD EQUITY DIVI  US73935X3026   \n           USD                 POWERSHARES S&P HIGH ETF  US73935X6821   \n           USD        POWERSHARES S&P LOW VOLATILITY PO  US73937B7799   \n(4/19)     (2/19)                               (12/19)       (11/19)   \n\n                       Orig. Face       Settled  Notional Market Value  \\\nPortfolio  Currency                                                      \nI-CJF      JPY       4.000000e+09  4.000000e+09           4.071178e+09   \n           JPY       4.000000e+09  4.000000e+09           4.071178e+09   \n           JPY       4.000000e+09  4.000000e+09           4.071178e+09   \nI-MG1      USD       1.855466e+07  1.855466e+07           1.054770e+08   \n           USD       1.855466e+07  1.855466e+07           1.054770e+08   \n           USD       5.295794e+06  5.295794e+06           5.115737e+07   \n           USD       1.000000e+07  1.000000e+07           1.000000e+07   \n           USD       3.213862e+06  3.213862e+06           4.660100e+05   \n           USD       4.500000e+04  4.500000e+04           4.385358e+07   \nI-SQGFSH2  USD       5.338430e+05  5.338430e+05           2.448747e+07   \n           USD       5.338430e+05  5.338430e+05           2.448747e+07   \n           USD       3.543200e+04  3.543200e+04           2.662006e+06   \n           USD       6.461900e+04  6.461900e+04           5.092623e+06   \n           USD       6.861800e+04  6.861800e+04           5.148409e+06   \n           USD       3.250500e+04  3.250500e+04           2.989810e+06   \n           USD       1.709870e+05  1.709870e+05           2.920458e+06   \n           USD       9.651000e+04  9.651000e+04           2.724477e+06   \n           USD       6.517200e+04  6.517200e+04           2.949685e+06   \nI-SQGFSH2O USD       6.546500e+04  6.546500e+04           3.002893e+06   \n           USD       6.546500e+04  6.546500e+04           3.002893e+06   \n           USD       4.345000e+03  4.345000e+03           3.264398e+05   \n           USD       7.924000e+03  7.924000e+03           6.244904e+05   \n           USD       8.415000e+03  8.415000e+03           6.313774e+05   \n           USD       3.986000e+03  3.986000e+03           3.666323e+05   \n           USD       2.096800e+04  2.096800e+04           3.581334e+05   \n           USD       1.183500e+04  1.183500e+04           3.341020e+05   \n           USD       7.992000e+03  7.992000e+03           3.617179e+05   \n(4/19)     (2/19)    4.019154e+09  4.019154e+09           4.204145e+09   \n\n                     Base Curr Market Val w/Acc Int  Base Curr Accr Int  \\\nPortfolio  Currency                                                       \nI-CJF      JPY                         3.684491e+07           224246.16   \n           JPY                         3.684491e+07           224246.16   \n           JPY                         3.684491e+07           224246.16   \nI-MG1      USD                         1.054770e+08                0.00   \n           USD                         1.054770e+08                0.00   \n           USD                         5.115737e+07                0.00   \n           USD                         1.000000e+07                0.00   \n           USD                         4.660100e+05                0.00   \n           USD                         4.385358e+07                0.00   \nI-SQGFSH2  USD                         2.448747e+07                0.00   \n           USD                         2.448747e+07                0.00   \n           USD                         2.662006e+06                0.00   \n           USD                         5.092623e+06                0.00   \n           USD                         5.148409e+06                0.00   \n           USD                         2.989810e+06                0.00   \n           USD                         2.920458e+06                0.00   \n           USD                         2.724477e+06                0.00   \n           USD                         2.949685e+06                0.00   \nI-SQGFSH2O USD                         3.002893e+06                0.00   \n           USD                         3.002893e+06                0.00   \n           USD                         3.264398e+05                0.00   \n           USD                         6.244904e+05                0.00   \n           USD                         6.313774e+05                0.00   \n           USD                         3.666323e+05                0.00   \n           USD                         3.581334e+05                0.00   \n           USD                         3.341020e+05                0.00   \n           USD                         3.617179e+05                0.00   \n(4/19)     (2/19)                      1.698122e+08           224246.16   \n\n                                Maturity           Issue Date  \\\nPortfolio  Currency                                             \nI-CJF      JPY       2018-03-20 00:00:00  2008-05-13 00:00:00   \n           JPY       2018-03-20 00:00:00  2008-05-13 00:00:00   \n           JPY       2018-03-20 00:00:00  2008-05-13 00:00:00   \nI-MG1      USD                     (3/4)                (4/4)   \n           USD                     (3/4)                (4/4)   \n           USD                                                  \n           USD                            1999-12-22 00:00:00   \n           USD       2024-01-31 00:00:00  2009-01-31 00:00:00   \n           USD       2099-01-31 00:00:00  2014-02-03 00:00:00   \nI-SQGFSH2  USD                                          (5/7)   \n           USD                                          (5/7)   \n           USD                                                  \n           USD                            2013-04-18 00:00:00   \n           USD                            2013-04-18 00:00:00   \n           USD                            2013-04-18 00:00:00   \n           USD                            2004-12-09 00:00:00   \n           USD                            2005-12-06 00:00:00   \n           USD                            2011-05-05 00:00:00   \nI-SQGFSH2O USD                                          (5/7)   \n           USD                                          (5/7)   \n           USD                                                  \n           USD                            2013-04-18 00:00:00   \n           USD                            2013-04-18 00:00:00   \n           USD                            2013-04-18 00:00:00   \n           USD                            2004-12-09 00:00:00   \n           USD                            2005-12-06 00:00:00   \n           USD                            2011-05-05 00:00:00   \n(4/19)     (2/19)                 (4/19)               (9/19)   \n\n                     Base Curr FX Rate Market Price  Coupon S&P Rating  \nPortfolio  Currency                                                     \nI-CJF      JPY                  0.0091       101.16     1.7         A+  \n           JPY                  0.0091       101.16     1.7         A+  \n           JPY                  0.0091       101.16     1.7         A+  \nI-MG1      USD                  4.0000        (4/4)   (2/4)      (2/4)  \n           USD                  4.0000        (4/4)   (2/4)      (2/4)  \n           USD                  1.0000         9.66                     \n           USD                  1.0000            1                     \n           USD                  1.0000        0.145       0         NR  \n           USD                  1.0000      974.524       0         NR  \nI-SQGFSH2  USD                  7.0000        (7/7)                     \n           USD                  7.0000        (7/7)                     \n           USD                  1.0000        75.13                     \n           USD                  1.0000        78.81                     \n           USD                  1.0000        75.03                     \n           USD                  1.0000        91.98                     \n           USD                  1.0000        17.08                     \n           USD                  1.0000        28.23                     \n           USD                  1.0000        45.26                     \nI-SQGFSH2O USD                  7.0000        (7/7)                     \n           USD                  7.0000        (7/7)                     \n           USD                  1.0000        75.13                     \n           USD                  1.0000        78.81                     \n           USD                  1.0000        75.03                     \n           USD                  1.0000        91.98                     \n           USD                  1.0000        17.08                     \n           USD                  1.0000        28.23                     \n           USD                  1.0000        45.26                     \n(4/19)     (2/19)              18.0091      (12/19)  (3/19)     (3/19)  \n"
                }
            ]
        }, 
        {
            "metadata": {}, 
            "source": "spark = SparkSession.builder.getOrCreate()  \n\ndef build_schema():\n    \"\"\"Build and return a schema to use for the sample data.\"\"\"\n    schema = StructType(\n        [            \n            StructField(\"CURRENCY\", StringType(), True),\n            StructField(\"CUSIP\", StringType(), False),\n            StructField(\"SEC_TYPE\", StringType(), True),\n            StructField(\"TICKER_COUPON_MATURITY\", StringType(), True),\n            StructField(\"SEC_DESC\", StringType(), True),\n            StructField(\"ISIN\", StringType(), True),\n            StructField(\"ORIG_FACE\", DoubleType(), True),\n            StructField(\"SETTLED\", DoubleType(), True),            \n            StructField(\"NOTIONAL_MKT_VAL\", DoubleType(), True),            \n            StructField(\"BASE_CURR_MKT_VAL_ACC_INT\", DoubleType(), True),            \n            StructField(\"BASE_CURR_MKT_INT\", DoubleType(), True),            \n            StructField(\"MATURITY_DATE\", StringType(), True),\n            StructField(\"ISSUE_DATE\", StringType(), True),   \n            StructField(\"BASE_CURR_FX_RATE\", DoubleType(), True), \n            StructField(\"MKT_PRICE\", DoubleType(), True),             \n            StructField(\"COUPON\", StringType(), True),   \n            StructField(\"SNP_RATING\", StringType(), True),            \n            StructField(\"FUND_ID\",  StringType(), False),            \n        ]\n    )\n    return schema\n\n\naladdinSecDF2SparkDF = spark.createDataFrame(aladdinSecDF2Renamed, schema=build_schema()) \\\n                                .withColumn(\"AS_OF_DATE\", lit(asOfDate).cast(\"date\"))\n\n\naladdinSecDF2SparkDF.printSchema()\naladdinSecDF2SparkDF.head(1)\n", 
            "execution_count": 203, 
            "cell_type": "code", 
            "outputs": [
                {
                    "name": "stdout", 
                    "output_type": "stream", 
                    "text": "root\n |-- CURRENCY: string (nullable = true)\n |-- CUSIP: string (nullable = false)\n |-- SEC_TYPE: string (nullable = true)\n |-- TICKER_COUPON_MATURITY: string (nullable = true)\n |-- SEC_DESC: string (nullable = true)\n |-- ISIN: string (nullable = true)\n |-- ORIG_FACE: double (nullable = true)\n |-- SETTLED: double (nullable = true)\n |-- NOTIONAL_MKT_VAL: double (nullable = true)\n |-- BASE_CURR_MKT_VAL_ACC_INT: double (nullable = true)\n |-- BASE_CURR_MKT_INT: double (nullable = true)\n |-- MATURITY_DATE: string (nullable = true)\n |-- ISSUE_DATE: string (nullable = true)\n |-- BASE_CURR_FX_RATE: double (nullable = true)\n |-- MKT_PRICE: double (nullable = true)\n |-- COUPON: string (nullable = true)\n |-- SNP_RATING: string (nullable = true)\n |-- FUND_ID: string (nullable = false)\n |-- AS_OF_DATE: date (nullable = true)\n\n"
                }, 
                {
                    "data": {
                        "text/plain": "[Row(CURRENCY=u'JPY', CUSIP=u'B7A0B81E2', SEC_TYPE=u'GOVT', TICKER_COUPON_MATURITY=u'JGB 1.700 20-MAR-2018', SEC_DESC=u'JAPAN (GOVERNMENT OF) 10YR #292', ISIN=u'JP1102921853', ORIG_FACE=4000000000.0, SETTLED=4000000000.0, NOTIONAL_MKT_VAL=4071178080.0, BASE_CURR_MKT_VAL_ACC_INT=36844907.73, BASE_CURR_MKT_INT=224246.16, MATURITY_DATE=u'2018-03-20 00:00:00', ISSUE_DATE=u'2008-05-13 00:00:00', BASE_CURR_FX_RATE=0.0091, MKT_PRICE=101.16, COUPON=u'1.7', SNP_RATING=u'A+', FUND_ID=u'I-CJF', AS_OF_DATE=datetime.date(2017, 7, 31))]"
                    }, 
                    "metadata": {}, 
                    "execution_count": 203, 
                    "output_type": "execute_result"
                }
            ]
        }, 
        {
            "metadata": {}, 
            "source": "dashDBloadOptions = { \n                    Connectors.DASHDB.HOST              : dashCredentials[\"host\"],\n                    Connectors.DASHDB.DATABASE          : dashCredentials[\"db\"],\n                    Connectors.DASHDB.USERNAME          : dashCredentials[\"username\"],\n                    Connectors.DASHDB.PASSWORD          : dashCredentials[\"password\"],\n                    Connectors.DASHDB.SOURCE_TABLE_NAME : dashCredentials[\"REF_FUND_TABLE\"],\n}\n\nrefFundDF = sqlContext.read.format(\"com.ibm.spark.discover\").options(**dashDBloadOptions).load()\nrefFundDF.printSchema()\nrefFundDF.show(1)", 
            "execution_count": 204, 
            "cell_type": "code", 
            "outputs": [
                {
                    "name": "stdout", 
                    "output_type": "stream", 
                    "text": "root\n |-- ID: string (nullable = false)\n\n+-----+\n|   ID|\n+-----+\n|I-CJF|\n+-----+\nonly showing top 1 row\n\n"
                }
            ]
        }, 
        {
            "metadata": {}, 
            "source": "aladdinSecJoinSparkDF = aladdinSecDF2SparkDF.join(refFundDF, \n                                               aladdinSecDF2SparkDF.FUND_ID == refFundDF.ID, \"inner\")\\\n                                        .select(\n                                            refFundDF.ID.alias(\"FUND_ID\"),\n                                            aladdinSecDF2SparkDF.CURRENCY,\n                                            aladdinSecDF2SparkDF.CUSIP,\n                                            aladdinSecDF2SparkDF.SEC_TYPE,\n                                            aladdinSecDF2SparkDF.TICKER_COUPON_MATURITY,\n                                            aladdinSecDF2SparkDF.SEC_DESC,\n                                            aladdinSecDF2SparkDF.ISIN,\n                                            aladdinSecDF2SparkDF.ORIG_FACE,\n                                            aladdinSecDF2SparkDF.SETTLED,\n                                            aladdinSecDF2SparkDF.NOTIONAL_MKT_VAL,\n                                            aladdinSecDF2SparkDF.BASE_CURR_MKT_VAL_ACC_INT,\n                                            aladdinSecDF2SparkDF.BASE_CURR_MKT_INT,\n                                            aladdinSecDF2SparkDF.MATURITY_DATE,\n                                            aladdinSecDF2SparkDF.ISSUE_DATE,\n                                            aladdinSecDF2SparkDF.BASE_CURR_FX_RATE,\n                                            aladdinSecDF2SparkDF.MKT_PRICE,\n                                            aladdinSecDF2SparkDF.COUPON,\n                                            aladdinSecDF2SparkDF.SNP_RATING,\n                                            aladdinSecDF2SparkDF.AS_OF_DATE,                                                    \n                                            )\n\naladdinSecJoinSparkDF.show(1)", 
            "execution_count": 205, 
            "cell_type": "code", 
            "outputs": [
                {
                    "name": "stdout", 
                    "output_type": "stream", 
                    "text": "+-------+--------+---------+--------+----------------------+--------------------+------------+---------+-------+----------------+-------------------------+-----------------+-------------------+-------------------+-----------------+---------+------+----------+----------+\n|FUND_ID|CURRENCY|    CUSIP|SEC_TYPE|TICKER_COUPON_MATURITY|            SEC_DESC|        ISIN|ORIG_FACE|SETTLED|NOTIONAL_MKT_VAL|BASE_CURR_MKT_VAL_ACC_INT|BASE_CURR_MKT_INT|      MATURITY_DATE|         ISSUE_DATE|BASE_CURR_FX_RATE|MKT_PRICE|COUPON|SNP_RATING|AS_OF_DATE|\n+-------+--------+---------+--------+----------------------+--------------------+------------+---------+-------+----------------+-------------------------+-----------------+-------------------+-------------------+-----------------+---------+------+----------+----------+\n|  I-CJF|     JPY|B7A0B81E2|    GOVT|  JGB 1.700 20-MAR-...|JAPAN (GOVERNMENT...|JP1102921853|    4.0E9|  4.0E9|    4.07117808E9|            3.684490773E7|        224246.16|2018-03-20 00:00:00|2008-05-13 00:00:00|           0.0091|   101.16|   1.7|        A+|2017-07-31|\n+-------+--------+---------+--------+----------------------+--------------------+------------+---------+-------+----------------+-------------------------+-----------------+-------------------+-------------------+-----------------+---------+------+----------+----------+\nonly showing top 1 row\n\n"
                }
            ]
        }, 
        {
            "metadata": {
                "collapsed": true
            }, 
            "source": "\n\n# Connection to Dash DB for writing the data\ndashdbsaveoption = {\n                     Connectors.DASHDB.HOST              : dashCredentials[\"host\"],\n                     Connectors.DASHDB.DATABASE          : dashCredentials[\"db\"],\n                     Connectors.DASHDB.USERNAME          : dashCredentials[\"username\"],\n                     Connectors.DASHDB.PASSWORD          : dashCredentials[\"password\"],\n                     Connectors.DASHDB.TARGET_TABLE_NAME : dashCredentials[\"tableName\"],\n                     Connectors.DASHDB.TARGET_WRITE_MODE : 'merge' \n}\n\naladdinSecDashDBDF = aladdinSecJoinSparkDF.write.format(\"com.ibm.spark.discover\").options(**dashdbsaveoption).save()\n", 
            "execution_count": 206, 
            "cell_type": "code", 
            "outputs": []
        }, 
        {
            "metadata": {
                "collapsed": true
            }, 
            "source": "", 
            "execution_count": null, 
            "cell_type": "code", 
            "outputs": []
        }
    ], 
    "nbformat_minor": 1
}