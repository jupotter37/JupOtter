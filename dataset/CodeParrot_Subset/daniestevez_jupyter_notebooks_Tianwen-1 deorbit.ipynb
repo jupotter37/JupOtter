{
 "cells": [
  {
   "cell_type": "code",
   "execution_count": 1,
   "metadata": {},
   "outputs": [],
   "source": [
    "%matplotlib inline\n",
    "import numpy as np\n",
    "import matplotlib.pyplot as plt\n",
    "import astropy.units as u\n",
    "from astropy.constants import g0"
   ]
  },
  {
   "cell_type": "code",
   "execution_count": 2,
   "metadata": {},
   "outputs": [],
   "source": [
    "def load_report(path):\n",
    "    return np.fromfile(path, sep = ' ').reshape((-1,7))\n",
    "\n",
    "mjd_unixtimestamp_offset = 10587.5\n",
    "seconds_in_day = 3600 * 24\n",
    "\n",
    "def mjd2unixtimestamp(m):\n",
    "    return (m - mjd_unixtimestamp_offset) * seconds_in_day"
   ]
  },
  {
   "cell_type": "code",
   "execution_count": 3,
   "metadata": {},
   "outputs": [],
   "source": [
    "pre = load_report('orbit/deorbit/Tianwen1_pre_deorbit.txt')\n",
    "post = load_report('orbit/deorbit/Tianwen1_post_deorbit.txt')[::-1]\n",
    "t = np.datetime64('1970-01-01') + (mjd2unixtimestamp(pre[:,0]) * 1e9) * np.timedelta64(1, 'ns')"
   ]
  },
  {
   "cell_type": "code",
   "execution_count": 4,
   "metadata": {},
   "outputs": [],
   "source": [
    "post_interp = np.empty_like(pre)\n",
    "post_interp[:,0] = pre[:,0]\n",
    "for j in range(1, post_interp.shape[1]):\n",
    "    post_interp[:,j] = np.interp(post_interp[:,0], post[:,0], post[:,j], left = np.nan, right = np.nan)"
   ]
  },
  {
   "cell_type": "code",
   "execution_count": 5,
   "metadata": {},
   "outputs": [
    {
     "data": {
      "image/png": "[encoded data removed]",
      "text/plain": [
       "<Figure size 864x432 with 1 Axes>"
      ]
     },
     "metadata": {},
     "output_type": "display_data"
    }
   ],
   "source": [
    "plt.figure(figsize = (12,6), facecolor = 'w')\n",
    "dist = np.sqrt(np.sum((pre[:,1:4] - post_interp[:,1:4])**2, axis = 1))\n",
    "plt.plot(t, dist)\n",
    "plt.grid()\n",
    "plt.title('Distance between pre-burn and post-burn trajectories')\n",
    "plt.xlabel('UTC time')\n",
    "plt.ylabel('Distance (km)');"
   ]
  },
  {
   "cell_type": "code",
   "execution_count": 6,
   "metadata": {},
   "outputs": [
    {
     "data": {
      "text/plain": [
       "numpy.datetime64('2021-05-14T17:17:27.847000064')"
      ]
     },
     "execution_count": 6,
     "metadata": {},
     "output_type": "execute_result"
    }
   ],
   "source": [
    "sel = ~np.isnan(dist)\n",
    "burn_idx = np.argmin(dist[sel])\n",
    "t[sel][burn_idx]"
   ]
  },
  {
   "cell_type": "code",
   "execution_count": 7,
   "metadata": {},
   "outputs": [
    {
     "data": {
      "text/plain": [
       "0.015700280611150884"
      ]
     },
     "execution_count": 7,
     "metadata": {},
     "output_type": "execute_result"
    }
   ],
   "source": [
    "dist[sel][burn_idx]"
   ]
  },
  {
   "cell_type": "code",
   "execution_count": 8,
   "metadata": {},
   "outputs": [
    {
     "data": {
      "text/plain": [
       "array([  2.75815972,   6.13514096, -20.11943565])"
      ]
     },
     "execution_count": 8,
     "metadata": {},
     "output_type": "execute_result"
    }
   ],
   "source": [
    "delta_v_ms = (post_interp[sel][burn_idx, 4:] - pre[sel][burn_idx, 4:]) * 1e3\n",
    "delta_v_ms"
   ]
  },
  {
   "cell_type": "code",
   "execution_count": 9,
   "metadata": {},
   "outputs": [
    {
     "data": {
      "text/plain": [
       "21.21412478785437"
      ]
     },
     "execution_count": 9,
     "metadata": {},
     "output_type": "execute_result"
    }
   ],
   "source": [
    "delta_v_norm = np.sqrt(np.sum(delta_v_ms**2))\n",
    "delta_v_norm"
   ]
  },
  {
   "cell_type": "code",
   "execution_count": 10,
   "metadata": {},
   "outputs": [
    {
     "data": {
      "text/latex": [
       "$23.609612 \\; \\mathrm{s}$"
      ],
      "text/plain": [
       "<Quantity 23.6096121 s>"
      ]
     },
     "execution_count": 10,
     "metadata": {},
     "output_type": "execute_result"
    }
   ],
   "source": [
    "# Burn of 3 kN\n",
    "ve = 321.6 * u.s * g0\n",
    "F = 3e3 * u.N\n",
    "m0 = 3350 * u.kg # estimate with 2500 kg dry mass and 850 kg fuel\n",
    "T = (ve * m0 / F * (1 - np.exp(-delta_v_norm * u.m/u.s / ve))).to(u.s)\n",
    "T"
   ]
  },
  {
   "cell_type": "code",
   "execution_count": 11,
   "metadata": {},
   "outputs": [
    {
     "data": {
      "text/latex": [
       "$-22.45812 \\; \\mathrm{kg}$"
      ],
      "text/plain": [
       "<Quantity -22.45811963 kg>"
      ]
     },
     "execution_count": 11,
     "metadata": {},
     "output_type": "execute_result"
    }
   ],
   "source": [
    "mdot = -(F/ve).to(u.kg/u.s)\n",
    "deltam = mdot * T\n",
    "deltam"
   ]
  },
  {
   "cell_type": "code",
   "execution_count": 12,
   "metadata": {},
   "outputs": [
    {
     "data": {
      "text/plain": [
       "matrix([[-10.20317239,   4.37304673, -18.07790989]])"
      ]
     },
     "execution_count": 12,
     "metadata": {},
     "output_type": "execute_result"
    }
   ],
   "source": [
    "# VNB frame\n",
    "r = pre[sel][burn_idx, 1:4]\n",
    "v = pre[sel][burn_idx, 4:]\n",
    "N = np.cross(r, v)\n",
    "N /= np.sqrt(np.sum(N**2))\n",
    "vv = v / np.sqrt(np.sum(v**2))\n",
    "B = np.cross(vv, N)\n",
    "U = np.matrix([vv, N, B]).T\n",
    "\n",
    "# Delta-V in VNB frame\n",
    "U.T @ delta_v_ms"
   ]
  },
  {
   "cell_type": "code",
   "execution_count": 13,
   "metadata": {},
   "outputs": [
    {
     "data": {
      "text/plain": [
       "matrix([[  0.66040511, -20.74799792,   4.37304673]])"
      ]
     },
     "execution_count": 13,
     "metadata": {},
     "output_type": "execute_result"
    }
   ],
   "source": [
    "# Frame with unit vector along r, unit vector along v_u (projection of v onto plane normal to r), and normal\n",
    "r = pre[sel][burn_idx, 1:4]\n",
    "v = pre[sel][burn_idx, 4:]\n",
    "rr = r / np.sqrt(np.sum(r**2))\n",
    "vr = np.dot(v,rr) * rr\n",
    "vu = v - vr\n",
    "vu_abs = np.sqrt(np.sum(vu**2))\n",
    "vu_norm = vu / vu_abs\n",
    "n = np.cross(rr, vu_norm)\n",
    "U = np.matrix([rr, vu_norm, n]).T\n",
    "\n",
    "# Delta-V in [r/|r|, v_u/|v_u|, N] frame\n",
    "U.T @ delta_v_ms"
   ]
  }
 ],
 "metadata": {
  "kernelspec": {
   "display_name": "Python 3",
   "language": "python",
   "name": "python3"
  },
  "language_info": {
   "codemirror_mode": {
    "name": "ipython",
    "version": 3
   },
   "file_extension": ".py",
   "mimetype": "text/x-python",
   "name": "python",
   "nbconvert_exporter": "python",
   "pygments_lexer": "ipython3",
   "version": "3.9.5"
  }
 },
 "nbformat": 4,
 "nbformat_minor": 4
}
