{
 "cells": [
  {
   "cell_type": "markdown",
   "metadata": {},
   "source": [
    "# CSE 6040, Fall 2015 [20]: Sparsity in Numpy/SciPy (wrap-up) + Least Squares (new topic)\n",
    "\n",
    "Today's lab continues [Lab 19](http://nbviewer.ipython.org/github/rvuduc/cse6040-ipynbs/blob/master/19--sparse-matrix.ipynb), which introduced different ways of storing a sparse matrix. We used these as a vehicle for thinking a little bit more about the _costs_ of code.\n",
    "\n",
    "By the way, a partial solution set for Lab 19 is also available [here](https://t-square.gatech.edu/access/content/group/gtc-7308-4387-56aa-b79e-a3f4c812167d/19--sparse-matrix-solns.ipynb)."
   ]
  },
  {
   "cell_type": "markdown",
   "metadata": {},
   "source": [
    "To repeat, the recommended importing convention for Numpy is (execute this now):"
   ]
  },
  {
   "cell_type": "markdown",
   "metadata": {},
   "source": [
    "## Getting started\n",
    "\n",
    "The following code cells repeat some of the things we need from Lab 19 to finish the topic."
   ]
  },
  {
   "cell_type": "code",
   "execution_count": null,
   "metadata": {
    "collapsed": true
   },
   "outputs": [],
   "source": [
    "import numpy as np\n",
    "import pandas as pd\n",
    "from IPython.display import display\n",
    "import cse6040utils as cse6040"
   ]
  },
  {
   "cell_type": "code",
   "execution_count": null,
   "metadata": {
    "collapsed": false
   },
   "outputs": [],
   "source": [
    "edges = pd.read_csv ('UserEdges-1M.csv')"
   ]
  },
  {
   "cell_type": "code",
   "execution_count": null,
   "metadata": {
    "collapsed": false
   },
   "outputs": [],
   "source": [
    "V_names = set (edges.Source)\n",
    "V_names.update (set (edges.Target))"
   ]
  },
  {
   "cell_type": "code",
   "execution_count": null,
   "metadata": {
    "collapsed": false
   },
   "outputs": [],
   "source": [
    "name2id = {v: k for (k, v) in enumerate (V_names)}\n",
    "A_numbered_keys = cse6040.sparse_matrix ()\n",
    "for (k, row) in edges.iterrows ():\n",
    "    i = name2id[row['Source']]\n",
    "    j = name2id[row['Target']]\n",
    "    A_numbered_keys[i][j] = 1.\n",
    "    A_numbered_keys[j][i] = 1."
   ]
  },
  {
   "cell_type": "code",
   "execution_count": null,
   "metadata": {
    "collapsed": false
   },
   "outputs": [],
   "source": [
    "nnz = len (edges) # Number of non-zeros (edges)\n",
    "n = len (V_names) # Matrix dimension\n",
    "\n",
    "# Build a dense vector\n",
    "x = cse6040.dense_vector (n)\n",
    "\n",
    "%timeit cse6040.spmv (n, A_numbered_keys, x)"
   ]
  },
  {
   "cell_type": "markdown",
   "metadata": {},
   "source": [
    "## Review: COO format\n",
    "\n",
    "Take a look at the slides that we just started in the last class, which cover the basics of sparse matrix storage formats: [link](http://cse6040.gatech.edu/fa15/slides/18.pdf)\n",
    "\n",
    "These are available as native formats in SciPy. However, last time we went ahead and implemented COO using pure native Python objects. The goals of doing so were two-fold:\n",
    "\n",
    "1. Learn about an alternative to the \"nested dictionary\" approach to storing a sparse matrix.\n",
    "2. Establish a baseline for comparison against a native Numpy/SciPy implementation.\n",
    "\n",
    "The following code reminds you how to build a matrix in COO format and measures the performance of a native Python implementation of sparse matrix-vector multiply that operates on COO matrices."
   ]
  },
  {
   "cell_type": "code",
   "execution_count": null,
   "metadata": {
    "collapsed": true
   },
   "outputs": [],
   "source": [
    "coo_rows = [name2id[e] for e in edges['Source']]\n",
    "coo_cols = [name2id[e] for e in edges['Target']]\n",
    "coo_vals = [1.] * len (coo_rows)\n",
    "\n",
    "assert len (coo_vals) == nnz # Sanity check against the raw data"
   ]
  },
  {
   "cell_type": "code",
   "execution_count": null,
   "metadata": {
    "collapsed": true
   },
   "outputs": [],
   "source": [
    "def coo_spmv (n, R, C, V, x):\n",
    "    \"\"\"\n",
    "    Returns y = A*x, where A has 'n' rows and is stored in\n",
    "    COO format by the array triples, (R, C, V).\n",
    "    \"\"\"\n",
    "    assert n > 0\n",
    "    assert type (x) is list\n",
    "    assert type (R) is list\n",
    "    assert type (C) is list\n",
    "    assert type (V) is list\n",
    "    assert len (R) == len (C) == len (V)\n",
    "    \n",
    "    y = cse6040.dense_vector (n)\n",
    "    \n",
    "    for k in range (len (V)):\n",
    "        i = R[k]\n",
    "        j = C[k]\n",
    "        aij = V[k]\n",
    "        y[i] += aij * x[j]\n",
    "        \n",
    "    return y"
   ]
  },
  {
   "cell_type": "code",
   "execution_count": null,
   "metadata": {
    "collapsed": false
   },
   "outputs": [],
   "source": [
    "%timeit coo_spmv (n, coo_rows, coo_cols, coo_vals, x)"
   ]
  },
  {
   "cell_type": "markdown",
   "metadata": {},
   "source": [
    "> What follows picks up from last time.\n",
    "\n",
    "## CSR format\n",
    "\n",
    "The _compressed sparse row_ (CSR) format is an alternative to COO. The basic idea is to compress COO a little, by recognizing that there is redundancy in the row indices. To see that redundancy, the example in the slides _sorts_ COO format by row."
   ]
  },
  {
   "cell_type": "markdown",
   "metadata": {},
   "source": [
    "**Exercise.** Now create a CSR data structure, again using native Python lists. Name your output CSR lists `csr_ptrs`, `csr_inds`, and `csr_vals`, starting from the COO representation."
   ]
  },
  {
   "cell_type": "code",
   "execution_count": null,
   "metadata": {
    "collapsed": false
   },
   "outputs": [],
   "source": [
    "# Aside: What does this do? Try running it to see.\n",
    "\n",
    "z1 = [  'q', 'v',  'c' ]\n",
    "z2 = [   3 ,  1 ,   2  ]\n",
    "z3 = ['dog',  7 , 'man']\n",
    "\n",
    "Z = list (zip (z1, z2, z3))\n",
    "print \"==> Before:\"\n",
    "print Z\n",
    "\n",
    "Z.sort (key=lambda z: z[1])\n",
    "print \"\\n==> After:\"\n",
    "print Z\n",
    "\n",
    "# Note: Alternative to using a lambda (anonymous) function:\n",
    "def get_second_coord (z):\n",
    "    return z[1]\n",
    "\n",
    "Z.sort (key=get_second_coord)"
   ]
  },
  {
   "cell_type": "code",
   "execution_count": null,
   "metadata": {
    "collapsed": false
   },
   "outputs": [],
   "source": [
    "C = list (zip (coo_rows, coo_cols, coo_vals))\n",
    "C.sort (key=lambda t: t[0])\n",
    "\n",
    "assert len (C) == nnz\n",
    "assert n == (C[-1][0] + 1)  # Why?\n",
    "\n",
    "csr_inds = [j for (i, j, a_ij) in C]\n",
    "csr_vals = [a_ij for (i, j, a_ij) in C]\n",
    "\n",
    "csr_ptrs = [0] * (n+1)\n",
    "i = 0 # next row to update\n",
    "for j in range (nnz):\n",
    "    while C[j][0] >= i:\n",
    "        csr_ptrs[i] = j\n",
    "        i += 1\n",
    "csr_ptrs[n] = nnz\n",
    "\n",
    "# Alternative solution: See https://piazza.com/class/idap9v1ktp94u9?cid=89"
   ]
  },
  {
   "cell_type": "code",
   "execution_count": null,
   "metadata": {
    "collapsed": false
   },
   "outputs": [],
   "source": [
    "# Some checks on your implementation: Look at the first 10 rows\n",
    "assert len (csr_ptrs) == (n+1)\n",
    "\n",
    "print (\"==> csr_ptrs[:10]:\\n\")\n",
    "print (csr_ptrs[:10])"
   ]
  },
  {
   "cell_type": "code",
   "execution_count": null,
   "metadata": {
    "collapsed": false
   },
   "outputs": [],
   "source": [
    "first_ten_tuples = [\"[%d] %s\" % (i, str (t))\n",
    "                    for (i, t) in enumerate (C[:csr_ptrs[10]])]\n",
    "print (\"==> First ten tuples, C[:%d]:\" % csr_ptrs[10])\n",
    "print (\"\\n\".join (first_ten_tuples))\n",
    "\n",
    "FIRST_TEN = [0, 1, 3, 60, 66, 72, 73, 74, 78, 82]\n",
    "assert all ([a==b for (a, b) in zip (csr_ptrs[0:10], FIRST_TEN)])\n",
    "print (\"\\n==> Passed quick test\")"
   ]
  },
  {
   "cell_type": "markdown",
   "metadata": {},
   "source": [
    "**Exercise.** Now implement a CSR-based sparse matrix-vector multiply."
   ]
  },
  {
   "cell_type": "code",
   "execution_count": null,
   "metadata": {
    "collapsed": true
   },
   "outputs": [],
   "source": [
    "def csr_spmv (n, ptr, ind, val, x):\n",
    "    assert n > 0\n",
    "    assert type (ptr) == list\n",
    "    assert type (ind) == list\n",
    "    assert type (val) == list\n",
    "    assert type (x) == list\n",
    "    assert len (ptr) >= (n+1)  # Why?\n",
    "    assert len (ind) >= ptr[n]  # Why?\n",
    "    assert len (val) >= ptr[n]  # Why?\n",
    "    \n",
    "    y = cse6040.dense_vector (n)\n",
    "    \n",
    "    # @YOUSE: Insert your implementation here\n",
    "    for i in range (n):\n",
    "        for k in range (ptr[i], ptr[i+1]):\n",
    "            y[i] += val[k] * x[ind[k]]\n",
    "    \n",
    "    return y"
   ]
  },
  {
   "cell_type": "code",
   "execution_count": null,
   "metadata": {
    "collapsed": false
   },
   "outputs": [],
   "source": [
    "%timeit csr_spmv (n, csr_ptrs, csr_inds, csr_vals, x)"
   ]
  },
  {
   "cell_type": "markdown",
   "metadata": {},
   "source": [
    "## Sparse matrix storage using SciPy (Numpy)\n",
    "\n",
    "\n",
    "Let's implement and time some of these routines below."
   ]
  },
  {
   "cell_type": "code",
   "execution_count": null,
   "metadata": {
    "collapsed": true
   },
   "outputs": [],
   "source": [
    "import scipy.sparse as sp"
   ]
  },
  {
   "cell_type": "markdown",
   "metadata": {},
   "source": [
    "Per the notes, here is how we can convert our COO representation from before into a SciPy implementation."
   ]
  },
  {
   "cell_type": "code",
   "execution_count": null,
   "metadata": {
    "collapsed": true
   },
   "outputs": [],
   "source": [
    "A_coo = sp.coo_matrix ((coo_vals, (coo_rows, coo_cols)))"
   ]
  },
  {
   "cell_type": "markdown",
   "metadata": {},
   "source": [
    "Now measure the time to do a sparse matrix-vector multiply in the COO representation. How does it compare to the nested default dictionary approach?"
   ]
  },
  {
   "cell_type": "code",
   "execution_count": null,
   "metadata": {
    "collapsed": false
   },
   "outputs": [],
   "source": [
    "x_np = np.array (x)\n",
    "\n",
    "%timeit A_coo.dot (x_np)"
   ]
  },
  {
   "cell_type": "markdown",
   "metadata": {},
   "source": [
    "**Exercise.** Repeat the same experiment for SciPy-based CSR."
   ]
  },
  {
   "cell_type": "code",
   "execution_count": null,
   "metadata": {
    "collapsed": false
   },
   "outputs": [],
   "source": [
    "# @YOUSE: Solution\n",
    "A_csr = A_coo.tocsr ()\n",
    "\n",
    "%timeit A_csr.dot (x_np)"
   ]
  },
  {
   "cell_type": "markdown",
   "metadata": {
    "collapsed": true
   },
   "source": [
    "## Linear regression and least squares\n",
    "\n",
    "Yay! Time for a new topic: linear regression by the method of least squares.\n",
    "\n",
    "For this topic, let's use the following dataset, which is a crimes dataset from 1960: http://cse6040.gatech.edu/fa15/uscrime.csv\n",
    "\n",
    "This dataset comes from: http://www.statsci.org/data/general/uscrime.html"
   ]
  },
  {
   "cell_type": "code",
   "execution_count": null,
   "metadata": {
    "collapsed": false
   },
   "outputs": [],
   "source": [
    "df = pd.read_csv ('uscrime.csv', skiprows=1)\n",
    "display (df.head ())"
   ]
  },
  {
   "cell_type": "markdown",
   "metadata": {},
   "source": [
    "Each row of this dataset is a US State. The columns are described here: http://www.statsci.org/data/general/uscrime.html"
   ]
  },
  {
   "cell_type": "code",
   "execution_count": null,
   "metadata": {
    "collapsed": true
   },
   "outputs": [],
   "source": [
    "import seaborn as sns\n",
    "%matplotlib inline"
   ]
  },
  {
   "cell_type": "code",
   "execution_count": null,
   "metadata": {
    "collapsed": false
   },
   "outputs": [],
   "source": [
    "# Look at a few relationships\n",
    "sns.pairplot (df[['Crime', 'Wealth', 'Ed', 'U1']])"
   ]
  },
  {
   "cell_type": "markdown",
   "metadata": {},
   "source": [
    "Suppose we wish to build a model of some quantity, called the _response_ variable, given some set of _predictors_. In the US crimes dataset, the response might be the crime rate (`Crime`), which we wish to predict from the predictors of income (`Wealth`), education (`Ed`), and the unemployment rate of young males (`U1`).\n",
    "\n",
    "In a linear regression model, we posit that the response is a linear function of the predictors. That is, suppose there are $m$ observations in total and consider the $i$-th observation. Let $b_i$ be the response of that observation. Then denote the $n$ predictors for observation $i$ as $\\{a_{i,1}, a_{i,2}, \\ldots, a_{i,n}\\}$. From this starting point, we might then posit a _linear_ model of $b$ having the form,\n",
    "\n",
    "$b_i = x_0 + a_{i,1} x_1 + a_{i,2} x_2 + \\cdots + a_{i,n} x_n$,\n",
    "\n",
    "where we wish to compute the \"best\" set of coefficients, $\\{x_0, x_1, \\ldots, x_n\\}$. Note that this model includes a constant offset term, $x_0$. Since we want this model to hold for observations, then we effectively want to solve the system of equations,\n",
    "\n",
    "$\\left(\n",
    "  \\begin{array}{c}\n",
    "  b_1 \\\\\n",
    "  b_2 \\\\\n",
    "  \\vdots \\\\\n",
    "  b_m\n",
    "  \\end{array}\n",
    " \\right)\n",
    "$\n",
    "=\n",
    "$\\left(\n",
    "   \\begin{array}{ccccc}\n",
    "     1. & a_{1,1} & a_{1,2} & \\ldots & a_{1,n} \\\\\n",
    "     1. & a_{2,1} & a_{2,2} & \\ldots & a_{2,n} \\\\\n",
    "        &         & \\cdots  &        &         \\\\\n",
    "     1. & a_{m,1} & a_{m,2} & \\ldots & a_{m,n}\n",
    "   \\end{array}\n",
    " \\right).\n",
    "$\n",
    " \n",
    "Typically, $m \\gg n$."
   ]
  },
  {
   "cell_type": "code",
   "execution_count": null,
   "metadata": {
    "collapsed": true
   },
   "outputs": [],
   "source": []
  }
 ],
 "metadata": {
  "kernelspec": {
   "display_name": "Python 2",
   "language": "python",
   "name": "python2"
  },
  "language_info": {
   "codemirror_mode": {
    "name": "ipython",
    "version": 2
   },
   "file_extension": ".py",
   "mimetype": "text/x-python",
   "name": "python",
   "nbconvert_exporter": "python",
   "pygments_lexer": "ipython2",
   "version": "2.7.10"
  }
 },
 "nbformat": 4,
 "nbformat_minor": 0
}
