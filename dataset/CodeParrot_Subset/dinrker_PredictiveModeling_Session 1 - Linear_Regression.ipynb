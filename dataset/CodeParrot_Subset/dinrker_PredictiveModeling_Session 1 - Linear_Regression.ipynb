{
 "cells": [
  {
   "cell_type": "markdown",
   "metadata": {},
   "source": [
    "![alt text](http://datascience.uci.edu/wp-content/uploads/sites/2/2014/09/data_science_logo_with_image1.png 'UCI_data_science')"
   ]
  },
  {
   "cell_type": "code",
   "execution_count": 2,
   "metadata": {
    "collapsed": false
   },
   "outputs": [],
   "source": [
    "import numpy as np\n",
    "import pandas as pd\n",
    "import matplotlib.pyplot as plt\n",
    "%matplotlib inline"
   ]
  },
  {
   "cell_type": "markdown",
   "metadata": {},
   "source": [
    "### Goals of this Lesson\n",
    " \n",
    "- Present the fundamentals of Linear Regression for Prediction\n",
    "    - Notation and Framework\n",
    "    - Gradient Descent for Linear Regression\n",
    "        - Advantages and Issues\n",
    "    - Closed form Matrix Solutions for Linear Regression\n",
    "        - Advantages and Issues\n",
    "- Demonstrate Python \n",
    "    - Exploratory Plotting\n",
    "        - Simple plotting with `pyplot` from `matplotlib`\n",
    "    - Code Gradient Descent\n",
    "    - Code Closed Form Matrix Solution\n",
    "    - Perform Linear Regression in scikit-learn\n",
    "\n",
    "\n",
    "### References for Linear Regression\n",
    "\n",
    "\n",
    "- Elements of Statistical Learning by Hastie, Tibshriani, Friedman - Chapter 3 \n",
    "- Alex Ihler's Course Notes on Linear Models for Regression - http://sli.ics.uci.edu/Classes/2015W-273a\n",
    "- scikit-learn Documentation - http://scikit-learn.org/stable/modules/linear_model.html#ordinary-least-squares\n",
    "- Linear Regression Analysis By Seber and Lee - http://www.wiley.com/WileyCDA/WileyTitle/productCd-0471415405,subjectCd-ST24.html\n",
    "- Applied Linear Regression by Weisberg - http://onlinelibrary.wiley.com/book/10.1002/0471704091\n",
    "- Wikipedia - http://en.wikipedia.org/wiki/Linear_regression"
   ]
  },
  {
   "cell_type": "markdown",
   "metadata": {},
   "source": [
    "### Linear Regression Notation and Framework\n",
    "\n",
    "Linear Regression is a supervised learning technique that is interested in predicting a response or target $\\mathbf{y}$, based on a linear combination of a set $D$ predictors or features, $\\mathbf{x}= (1, x_1,\\dots, x_D)$ such that,\n",
    "\n",
    "\\begin{equation*}\n",
    "y = \\beta_0 + \\beta_1 x_1 + \\dots + \\beta_D x_D = \\mathbf{x_i}^T\\mathbf{\\beta}\n",
    "\\end{equation*}\n",
    "\n",
    "_**Data We Observe**_\n",
    "\n",
    "\\begin{eqnarray*}\n",
    "y &:& \\mbox{response or target variable} \\\\\n",
    "\\mathbf{x} &:& \\mbox{set of $D$ predictor or explanatory variables } \\mathbf{x}^T = (1, x_1, \\dots, x_D) \n",
    "\\end{eqnarray*}\n",
    "\n",
    "_** What We Are Trying to Learn**_\n",
    "\n",
    "\\begin{eqnarray*}\n",
    "\\beta^T = (\\beta_0, \\beta_1, \\dots, \\beta_D) : \\mbox{Parameter values for a \"best\" prediction of } y \\rightarrow \\hat y\n",
    "\\end{eqnarray*}\n",
    "\n",
    "_**Outcomes We are Trying to Predict**_\n",
    "\n",
    "\\begin{eqnarray*}\n",
    "\\hat y : \\mbox{Prediction for the data that we observe}\n",
    "\\end{eqnarray*}\n",
    "\n",
    "_**Matrix Notation**_\n",
    "\n",
    "\\begin{equation*}\n",
    "\\mathbf{Y} = \\left( \\begin{array}{ccc}\n",
    "y_1 \\\\\n",
    "y_2 \\\\\n",
    "\\vdots \\\\\n",
    "y_i \\\\\n",
    "\\vdots \\\\\n",
    "y_N\n",
    "\\end{array} \\right)\n",
    "\\qquad\n",
    "\\mathbf{X} = \\left( \\begin{array}{ccc}\n",
    "1 & x_{1,1} & x_{1,2} & \\dots & x_{1,D} \\\\\n",
    "1 & x_{2,1} & x_{2,2} & \\dots & x_{2,D} \\\\\n",
    "\\vdots & \\vdots & \\vdots & \\ddots & \\vdots \\\\\n",
    "1 & x_{i,1} & x_{i,2} & \\dots & x_{i,D} \\\\\n",
    "\\vdots & \\vdots & \\vdots & \\ddots & \\vdots \\\\\n",
    "1 & x_{N,1} & x_{N,2} & \\dots & x_{N,D} \\\\\n",
    "\\end{array} \\right)\n",
    "\\qquad\n",
    "\\beta = \\left( \\begin{array}{ccc}\n",
    "\\beta_0 \\\\\n",
    "\\beta_1 \\\\\n",
    "\\vdots \\\\\n",
    "\\beta_j \\\\\n",
    "\\vdots \\\\\n",
    "\\beta_D\n",
    "\\end{array} \\right)\n",
    "\\end{equation*}\n",
    "\n",
    "\n",
    "_Why is it called Linear Regression?_\n",
    "\n",
    "It is often asked, why is it called linear regression if we can use polynomial terms and other transformations as the predictors.  That is \n",
    "\n",
    "\\begin{equation*}\n",
    "    y = \\beta_0 + \\beta_1 x_1 + \\beta_2 x_1^2 + \\beta_3 x_1^3 + \\beta_4 \\sin(x_1)\n",
    "\\end{equation*}\n",
    "\n",
    "is still a linear regression, though it contains polynomial and trigonometric transformations of $x_1$.  This is due to the fact that the term _linear_ applies to the learned coefficients $\\beta$ and not the input features $\\mathbf{x}$.  \n",
    "\n",
    "\n",
    "_** How can we Learn $\\beta$? **_\n",
    "\n",
    "Linear Regression can be thought of as an optimization problem where we want to minimize some loss function of the error between the prediction $\\hat y$ and the observed data $y$.  \n",
    "\n",
    "\\begin{eqnarray*}\n",
    "    error_i &=& y_i - \\hat y_i \\\\\n",
    "    &=& y_i - \\mathbf{x_i^T}\\beta\n",
    "\\end{eqnarray*}\n",
    "\n",
    "_Let's see what these errors look like..._\n",
    "\n",
    "Below we show a simulation where the observed $y$ was generated such that $y= 1 + 0.5 x + \\epsilon$ and $\\epsilon \\sim N(0,1)$.  If we assume that know the truth that $y=1 + 0.5 x$, the red lines demonstrate the error (or residuals) between the observed and the truth.  "
   ]
  },
  {
   "cell_type": "code",
   "execution_count": 4,
   "metadata": {
    "collapsed": false,
    "scrolled": false
   },
   "outputs": [
    {
     "data": {
      "image/png": "[encoded data removed]",
      "text/plain": [
       "<matplotlib.figure.Figure at 0x10708b490>"
      ]
     },
     "metadata": {},
     "output_type": "display_data"
    }
   ],
   "source": [
    "#############################################################\n",
    "# Demonstration - What do Residuals Look Like\n",
    "#############################################################\n",
    "\n",
    "np.random.seed(33)     # Setting a seed allows reproducability of experiments\n",
    "\n",
    "beta0 = 1              # Creating an intercept\n",
    "beta1 = 0.5            # Creating a slope\n",
    "\n",
    "# Randomly sampling data points\n",
    "x_example = np.random.uniform(0,5,10)\n",
    "y_example = beta0 + beta1 * x_example + np.random.normal(0,1,10)\n",
    "line1 = beta0 + beta1 * np.arange(-1, 6)\n",
    "\n",
    "f = plt.figure()\n",
    "plt.scatter(x_example,y_example)   # Plotting observed data\n",
    "plt.plot(np.arange(-1,6), line1)   # Plotting the true line\n",
    "for i, xi in enumerate(x_example):\n",
    "    plt.vlines(xi, beta0 + beta1 * xi, y_example[i], colors='red') # Plotting Residual Lines\n",
    "plt.annotate('Error or \"residual\"', xy = (x_example[5], 2), xytext = (-1.5,2.1),\n",
    "             arrowprops=dict(width=1,headwidth=7,facecolor='black', shrink=0.01))\n",
    "f.set_size_inches(10,5)\n",
    "plt.title('Errors in Linear Regression')\n",
    "plt.show()"
   ]
  },
  {
   "cell_type": "markdown",
   "metadata": {},
   "source": [
    "_Choosing a Loss Function to Optimize_\n",
    "\n",
    "Historically Linear Regression has been solved using the method of Least Squares where we are interested in minimizing the mean squared error loss function of the form:\n",
    "\n",
    "\\begin{eqnarray*}\n",
    "    Loss(\\beta) = MSE &=& \\frac{1}{N} \\sum_{i=1}^{N} (y_i - \\hat y_i)^2 \\\\\n",
    "    &=& \\frac{1}{N} \\sum_{i=1}^{N} (y_i - \\mathbf{x_i^T}\\beta)^2 \\\\\n",
    "\\end{eqnarray*}\n",
    "\n",
    "Where $N$ is the total number of observations.  Other loss functions can be used, but using mean squared error (also referred to sum of the squared residuals in other text) has very nice properities for closed form solutions.  We will use this loss function for both gradient descent and to create a closed form matrix solution."
   ]
  },
  {
   "cell_type": "markdown",
   "metadata": {
    "collapsed": true
   },
   "source": [
    "### Before We Present Solutions for Linear Regression: Introducing a Baseball Dataset\n",
    "\n",
    "We'll use this dataset to investigate Linear Regression.  The dataset consists of 337 observations and 18 variables from the set of Major League Baseball players who played at least one game in both the 1991 and 1992\n",
    "seasons, excluding pitchers.  The dataset contains the 1992 salaries for that population, along with performance measures for each player.  Four categorical variables indicate how free each player was to move to other teams.\n",
    "\n",
    "** Reference **\n",
    "\n",
    "- Pay for Play: Are Baseball Salaries Based on Performance?\n",
    "    - http://www.amstat.org/publications/jse/v6n2/datasets.watnik.html\n",
    "\n",
    "**Filename**\n",
    "\n",
    "- 'baseball.dat.txt'.\n",
    "\n",
    "**Variables**\n",
    "\n",
    "- _Salary_: Thousands of dollars\n",
    "- _AVG_: Batting average\n",
    "- _OBP_: On-base percentage\n",
    "- _Runs_: Number of runs\n",
    "- _Hits_: Number of hits\n",
    "- _Doubles_: Number of doubles\n",
    "- _Triples_: Number of triples\n",
    "- _HR_: Number of home runs\n",
    "- _RBI_: Number of runs batted in\n",
    "- _Walks_: Number of walks\n",
    "- _SO_: Number of strike-outs\n",
    "- _SB_: Number of stolen bases\n",
    "- _Errs_: Number of errors\n",
    "- _free agency eligibility_: Indicator of \"free agency eligibility\"\n",
    "- _free agent in 1991/2_: Indicator of \"free agent in 1991/2\"\n",
    "- _arbitration eligibility_: Indicator of \"arbitration eligibility\"\n",
    "- _arbitration in 1991/2_: Indicator of \"arbitration in 1991/2\"\n",
    "- _Name_: Player's name (in quotation marks)\n",
    "\n",
    "** What we will try to predict **\n",
    "\n",
    "We will attempt to predict the players salary based upon some predictor variables such as Hits, OBP, Walks, RBIs, etc. \n"
   ]
  },
  {
   "cell_type": "markdown",
   "metadata": {},
   "source": [
    "#### Load The Data\n",
    "\n",
    "Loading data in python from csv files in python can be done by a few different ways.  The numpy package has a function called 'genfromtxt' that can read csv files, while the pandas library has the 'read_csv' function.  Remember that we have imported numpy and pandas as `np` and `pd` respectively at the top of this notebook.  An example using pandas is as follows:\n",
    "\n",
    "    pd.read_csv(filename, **args)\n",
    "\n",
    "http://pandas.pydata.org/pandas-docs/dev/generated/pandas.io.parsers.read_csv.html\n",
    "\n",
    "\n",
    "###<span style=\"color:red\">STUDENT ACTIVITY (2 MINS)</span> \n",
    "_**Student Action - Load the 'baseball.dat.txt' file into a variable called 'baseball'.  Then use baseball.head() to view the first few entries**_"
   ]
  },
  {
   "cell_type": "code",
   "execution_count": 7,
   "metadata": {
    "collapsed": false
   },
   "outputs": [],
   "source": [
    "#######################################################################\n",
    "# Student Action - Load the file 'baseball.dat.txt' using pd.read_csv()\n",
    "#######################################################################\n",
    "baseball = pd.read_csv('data/baseball.dat.txt')"
   ]
  },
  {
   "cell_type": "markdown",
   "metadata": {},
   "source": [
    "_**Crash Course: Plotting with Matplotlib**_\n",
    "\n",
    "At the top of this notebook we have imported the the package `pyplot as plt` from the `matplotlib` library.  `matplotlib` is a great package for creating simple plots in Python.  Below is a link to their tutorial for basic plotting.\n",
    "\n",
    "_Tutorials_\n",
    "\n",
    "- http://matplotlib.org/users/pyplot_tutorial.html\n",
    "- https://scipy-lectures.github.io/intro/matplotlib/matplotlib.html\n",
    "\n",
    "_Simple Plotting_\n",
    "\n",
    "- Step 0: Import the packge pyplot from matplotlib for plotting \n",
    "    - `import matplotlib.pyplot as plt`\n",
    "- Step 1: Create a variable to store a new figure object\n",
    "    - `fig = plt.figure()`\n",
    "- Step 2: Create the plot of your choice\n",
    "    - Common Plots\n",
    "        - `plt.plot(x,y)` - A line plot\n",
    "        - `plt.scatter(x,y)` - Scatter Plots\n",
    "        - `plt.hist(x)` - Histogram of a variable\n",
    "        - Example Plots: http://matplotlib.org/gallery.html\n",
    "- Step 3: Create labels for your plot for better interpretability\n",
    "    - X Label\n",
    "        - `plt.xlabel('String')`\n",
    "    - Y Label\n",
    "        - `plt.ylabel('String')`\n",
    "    - Title\n",
    "        - `plt.title('String')`\n",
    "- Step 4: Change the figure size for better viewing within the iPython Notebook\n",
    "    - `fig.set_size_inches(width, height)`\n",
    "- Step 5: Show the plot\n",
    "    - `plt.show()`\n",
    "        - The above command allows the plot to be shown below the cell that you're currently in.  This is made possible by the `magic` command `%matplotlib inline`.  \n",
    "- _NOTE: This may not always be the best way to create plots, but it is a quick template to get you started._\n",
    "        \n",
    "_Transforming Variables_\n",
    "\n",
    "We'll talk more about numpy later, but to perform the logarithmic transformation use the command\n",
    "\n",
    "- `np.log(`$array$`)`"
   ]
  },
  {
   "cell_type": "code",
   "execution_count": 8,
   "metadata": {
    "collapsed": false
   },
   "outputs": [
    {
     "data": {
      "image/png": "[encoded data removed]",
      "text/plain": [
       "<matplotlib.figure.Figure at 0x10741b410>"
      ]
     },
     "metadata": {},
     "output_type": "display_data"
    }
   ],
   "source": [
    "#############################################################\n",
    "# Demonstration - Plot a Histogram of Hits \n",
    "#############################################################\n",
    "f = plt.figure()\n",
    "plt.hist(baseball['Hits'], bins=15)\n",
    "plt.xlabel('Number of Hits')\n",
    "plt.ylabel('Frequency')\n",
    "plt.title('Histogram of Number of Hits')\n",
    "f.set_size_inches(10, 5)\n",
    "plt.show()"
   ]
  },
  {
   "cell_type": "markdown",
   "metadata": {},
   "source": [
    "##<span style=\"color:red\">STUDENT ACTIVITY (7 MINS)</span> \n",
    "\n",
    "### Data Exploration - Investigating Variables\n",
    "\n",
    "Work in pairs to import the package `matplotlib.pyplot`, create the following two plots. \n",
    "\n",
    "- A histogram of the $log(Salary)$\n",
    "    - hint: `np.log()`\n",
    "- a scatterplot of $log(Salary)$ vs $Hits$."
   ]
  },
  {
   "cell_type": "code",
   "execution_count": 9,
   "metadata": {
    "collapsed": false,
    "scrolled": true
   },
   "outputs": [
    {
     "data": {
      "image/png": "[encoded data removed]",
      "text/plain": [
       "<matplotlib.figure.Figure at 0x107437d90>"
      ]
     },
     "metadata": {},
     "output_type": "display_data"
    }
   ],
   "source": [
    "#############################################################\n",
    "# Student Action - import matplotlib.pylot \n",
    "#                - Plot a Histogram of log(Salaries)\n",
    "#############################################################\n",
    "\n",
    "f = plt.figure()\n",
    "plt.hist(np.log(baseball['Salary']), bins = 15)\n",
    "plt.xlabel('log(Salaries)')\n",
    "plt.ylabel('Frequency')\n",
    "plt.title('Histogram of log Salaries')\n",
    "f.set_size_inches(10, 5)\n",
    "plt.show()"
   ]
  },
  {
   "cell_type": "code",
   "execution_count": 10,
   "metadata": {
    "collapsed": false,
    "scrolled": true
   },
   "outputs": [
    {
     "data": {
      "image/png": "[encoded data removed]",
      "text/plain": [
       "<matplotlib.figure.Figure at 0x1078a5f90>"
      ]
     },
     "metadata": {},
     "output_type": "display_data"
    }
   ],
   "source": [
    "#############################################################\n",
    "# Studdent Action - Plot a Scatter Plot of Salarie vs. Hitting\n",
    "#############################################################\n",
    "\n",
    "f = plt.figure()\n",
    "plt.scatter(baseball['Hits'], np.log(baseball['Salary']))\n",
    "plt.xlabel('Hits')\n",
    "plt.ylabel('log(Salaries)')\n",
    "plt.title('Scatter Plot of Salarie vs. Hitting')\n",
    "f.set_size_inches(10, 5)\n",
    "plt.show()"
   ]
  },
  {
   "cell_type": "markdown",
   "metadata": {},
   "source": [
    "## Gradient Descent for Linear Regression\n",
    "\n",
    "In Linear Regression we are interested in optimizing our loss function $Loss(\\beta)$ to find the optimatal $\\beta$ such that \n",
    "\n",
    "\\begin{eqnarray*}\n",
    "\\hat \\beta &=& \\arg \\min_{\\beta} \\frac{1}{N} \\sum_{i=1}^{N} (y_i - \\mathbf{x_i^T}\\beta)^2 \\\\\n",
    "&=& \\arg \\min_{\\beta} \\frac{1}{N} \\mathbf{(Y - X\\beta)^T (Y - X\\beta)} \\\\\n",
    "\\end{eqnarray*}\n",
    "\n",
    "One optimization technique called 'Gradient Descent' is useful for finding an optimal solution to this problem.  Gradient descent is a first order optimization technique that attempts to find a local minimum of a function by updating its position by taking steps proportional to the negative gradient of the function at its current point.  The gradient at the point indicates the direction of steepest ascent and is the best guess for which direction the algorithm should go.  \n",
    "\n",
    "If we consider $\\theta$ to be some parameters we are interested in optimizing, $L(\\theta)$ to be our loss function, and $\\alpha$ to be our step size proportionality, then we have the following algorithm:\n",
    "\n",
    "_________\n",
    "\n",
    "_**Algorithm - Gradient Descent**_\n",
    "\n",
    "- Initialize $\\theta$\n",
    "- Until $\\alpha || \\nabla L(\\theta) || < tol $:\n",
    "    - $\\theta^{(t+1)} = \\theta^{(t)} - \\alpha \\nabla_{\\theta} L(\\theta^{(t)})$\n",
    "__________\n",
    "\n",
    "For our problem at hand, we therefore need to find $\\nabla L(\\beta)$. The deriviative of $L(\\beta)$ due to the $j^{th}$ feature is:\n",
    "\n",
    "\\begin{eqnarray*}\n",
    "    \\frac{\\partial L(\\beta)}{\\partial \\beta_j} = -\\frac{2}{N}\\sum_{i=1}^{N} (y_i - \\mathbf{x_i^T}\\beta)\\cdot{x_{i,j}}\n",
    "\\end{eqnarray*}\n",
    "\n",
    "In matrix notation this can be written:\n",
    "\n",
    "\\begin{eqnarray*}\n",
    "Loss(\\beta) &=& \\frac{1}{N}\\mathbf{(Y - X\\beta)^T (Y - X\\beta)} \\\\\n",
    "&=& \\frac{1}{N}\\mathbf{(Y^TY} - 2 \\mathbf{\\beta^T X^T Y + \\beta^T X^T X\\beta)} \\\\\n",
    "\\nabla_{\\beta} L(\\beta) &=& \\frac{1}{N} (-2 \\mathbf{X^T Y} + 2 \\mathbf{X^T X \\beta)} \\\\\n",
    "&=& -\\frac{2}{N} \\mathbf{X^T (Y - X \\beta)} \\\\\n",
    "\\end{eqnarray*}"
   ]
  },
  {
   "cell_type": "markdown",
   "metadata": {},
   "source": [
    "###<span style=\"color:red\">STUDENT ACTIVITY (7 MINS)</span> \n",
    "### Create a function that returns the gradient of $L(\\beta)$"
   ]
  },
  {
   "cell_type": "code",
   "execution_count": 16,
   "metadata": {
    "collapsed": false
   },
   "outputs": [
    {
     "name": "stdout",
     "output_type": "stream",
     "text": [
      "Test Passed!\n"
     ]
    }
   ],
   "source": [
    "###################################################################\n",
    "# Student Action - Programming the Gradient\n",
    "###################################################################\n",
    "\n",
    "def gradient(X, y, betas):\n",
    "    #****************************\n",
    "    # Your code here!\n",
    "    return -2.0/len(X)*np.dot(X.T, y - np.dot(X, betas))\n",
    "    #****************************\n",
    "    \n",
    "\n",
    "#########################################################\n",
    "# Testing your gradient function\n",
    "#########################################################\n",
    "np.random.seed(33)\n",
    "X = pd.DataFrame({'ones':1, \n",
    "                  'X1':np.random.uniform(0,1,50)})\n",
    "y = np.random.normal(0,1,50)\n",
    "betas = np.array([-1,4])\n",
    "grad_expected = np.array([ 2.98018138,  7.09758971])\n",
    "grad = gradient(X,y,betas)\n",
    "try:\n",
    "    np.testing.assert_almost_equal(grad, grad_expected)\n",
    "    print \"Test Passed!\"\n",
    "except AssertionError:\n",
    "    print \"*******************************************\"\n",
    "    print \"ERROR: Something isn't right... Try Again!\"\n",
    "    print \"*******************************************\"\n"
   ]
  },
  {
   "cell_type": "markdown",
   "metadata": {},
   "source": [
    "###<span style=\"color:red\">STUDENT ACTIVITY (15 MINS)</span> \n",
    "\n",
    "_** Student Action - Use your Gradient Function to complete the Gradient Descent for the Baseball Dataset**_\n",
    "\n",
    "#### Code Gradient Descent Here\n",
    "\n",
    "We have set-up the all necessary matrices and starting values.  In the designated section below code the algorithm from the previous section above. "
   ]
  },
  {
   "cell_type": "code",
   "execution_count": 18,
   "metadata": {
    "collapsed": false
   },
   "outputs": [
    {
     "name": "stdout",
     "output_type": "stream",
     "text": [
      "33.0 [ 0.01513772  5.13000121]\n",
      "Test Passed!\n"
     ]
    }
   ],
   "source": [
    "# Setting up our matrices \n",
    "Y = np.log(baseball['Salary'])\n",
    "N = len(Y)\n",
    "X = pd.DataFrame({'ones' : np.ones(N), \n",
    "                  'Hits' : baseball['Hits']})\n",
    "p = len(X.columns)\n",
    "\n",
    "# Initializing the beta vector \n",
    "betas = np.array([0.015,5.13])\n",
    "\n",
    "# Initializing Alpha\n",
    "alph = 0.00001\n",
    "\n",
    "# Setting a tolerance \n",
    "tol = 1e-8\n",
    "\n",
    "###################################################################\n",
    "# Student Action - Programming the Gradient Descent Algorithm Below\n",
    "###################################################################\n",
    "\n",
    "niter = 1.\n",
    "while (alph*np.linalg.norm(gradient(X,Y,betas)) > tol) and (niter < 20000):\n",
    "    #****************************\n",
    "    # Your code here!\n",
    "    betas -= alph*gradient(X, Y, betas)\n",
    "    niter += 1\n",
    "    \n",
    "    #****************************\n",
    "\n",
    "print niter, betas\n",
    "\n",
    "try:\n",
    "    beta_expected = np.array([ 0.01513772, 5.13000121])\n",
    "    np.testing.assert_almost_equal(betas, beta_expected)\n",
    "    print \"Test Passed!\"\n",
    "except AssertionError:\n",
    "    print \"*******************************************\"\n",
    "    print \"ERROR: Something isn't right... Try Again!\"\n",
    "    print \"*******************************************\"\n"
   ]
  },
  {
   "cell_type": "markdown",
   "metadata": {},
   "source": [
    "** Comments on Gradient Descent**\n",
    "\n",
    "- Advantage: Very General Algorithm $\\rightarrow$ Gradient Descent and its variants are used throughout Machine Learning and Statistics\n",
    "- Disadvantage: Highly Sensitive to Initial Starting Conditions\n",
    "    - Not gauranteed to find the global optima\n",
    "- Disadvantage: How do you choose step size $\\alpha$?\n",
    "    - Too small $\\rightarrow$ May never find the minima\n",
    "    - Too large $\\rightarrow$ May step past the minima\n",
    "    - Can we fix it?\n",
    "        - Adaptive step sizes\n",
    "        - Newton's Method for Optimization\n",
    "            - http://en.wikipedia.org/wiki/Newton%27s_method_in_optimization\n",
    "        - Each correction obviously comes with it's own computational considerations.\n",
    "\n",
    "See the Supplementary Material for any help necessary with scripting this in Python."
   ]
  },
  {
   "cell_type": "markdown",
   "metadata": {},
   "source": [
    "### Visualizing Gradient Descent to Understand its Limitations \n",
    "\n",
    "Let's try to find the value of $X$ that maximizes the following function:\n",
    "\n",
    "\\begin{equation}\n",
    "    f(x) = w \\times \\frac{1}{\\sqrt{2\\pi \\sigma_1^2}}  \\exp \\left( - \\frac{(x-\\mu_1)^2}{2\\sigma_1^2}\\right) +  (1-w) \\times \\frac{1}{\\sqrt{2\\pi \\sigma_2^2}}  \\exp \\left( - \\frac{(x-\\mu_2)^2}{2\\sigma_2^2}\\right)\n",
    "\\end{equation}\n",
    "\n",
    "where $w=0.3$, $\\mu_1 = 3, \\sigma_1^2=1$ and $\\mu_2 = -1, \\sigma_2^2=0.5$\n",
    "\n",
    "Let's visualize this function"
   ]
  },
  {
   "cell_type": "code",
   "execution_count": 19,
   "metadata": {
    "collapsed": false
   },
   "outputs": [
    {
     "data": {
      "image/png": "[encoded data removed]",
      "text/plain": [
       "<matplotlib.figure.Figure at 0x107d0ea90>"
      ]
     },
     "metadata": {},
     "output_type": "display_data"
    }
   ],
   "source": [
    "x1 = np.arange(-10, 15, 0.05)\n",
    "mu1 = 6.5 \n",
    "var1 = 3\n",
    "mu2 = -1\n",
    "var2 = 10\n",
    "weight = 0.3\n",
    "def mixed_normal_distribution(x, mu1, var1, mu2, var2):\n",
    "    pdf1 = np.exp( - (x - mu1)**2 / (2*var1) ) / np.sqrt(2 * np.pi * var1)\n",
    "    pdf2 = np.exp( - (x - mu2)**2 / (2*var2) ) / np.sqrt(2 * np.pi * var2)\n",
    "    return weight * pdf1 + (1-weight )*pdf2\n",
    "\n",
    "pdf = mixed_normal_distribution(x1, mu1, var1, mu2, var2)\n",
    "fig = plt.figure()\n",
    "plt.plot(x1, pdf)\n",
    "fig.set_size_inches([10,5])\n",
    "plt.show()"
   ]
  },
  {
   "cell_type": "markdown",
   "metadata": {},
   "source": [
    "### Now let's show visualize happens for different starting conditions and different step sizes\n"
   ]
  },
  {
   "cell_type": "code",
   "execution_count": 20,
   "metadata": {
    "collapsed": false
   },
   "outputs": [
    {
     "name": "stdout",
     "output_type": "stream",
     "text": [
      "-0.998334050624 410.0\n"
     ]
    },
    {
     "data": {
      "image/png": "[encoded data removed]",
      "text/plain": [
       "<matplotlib.figure.Figure at 0x107178090>"
      ]
     },
     "metadata": {},
     "output_type": "display_data"
    }
   ],
   "source": [
    "def mixed_gradient(x, mu1, var1, mu2, var2):\n",
    "    grad_pdf1 =  np.exp( - (x - mu1)**2 / (2*var1) ) * ((x-mu1)/var1) / np.sqrt(2 * np.pi * var1)\n",
    "    grad_pdf2 =  np.exp( - (x - mu2)**2 / (2*var2) ) * ((x-mu2)/var2)  / np.sqrt(2 * np.pi * var2)\n",
    "    return weight * grad_pdf1 + (1-weight)*grad_pdf2\n",
    "\n",
    "# Initialize X\n",
    "x = 3.25\n",
    "# Initializing Alpha\n",
    "alph = 5\n",
    "# Setting a tolerance \n",
    "tol = 1e-8\n",
    "niter = 1.\n",
    "results = []\n",
    "while (alph*np.linalg.norm(mixed_gradient(x, mu1, var1, mu2, var2)) > tol) and (niter < 500000):\n",
    "    #****************************\n",
    "    results.append(x)\n",
    "    x = x - alph * mixed_gradient(x, mu1, var1, mu2, var2)\n",
    "    niter += 1\n",
    "    \n",
    "    #****************************\n",
    "print x, niter\n",
    "\n",
    "if niter < 500000:\n",
    "    exes = mixed_normal_distribution(np.array(results), mu1, var1, mu2, var2)\n",
    "    fig = plt.figure()\n",
    "    plt.plot(x1, pdf)\n",
    "    plt.plot(results, exes, color='red', marker='x')\n",
    "    plt.ylim([0,0.1])\n",
    "    fig.set_size_inches([20,10])\n",
    "    plt.show()"
   ]
  },
  {
   "cell_type": "markdown",
   "metadata": {},
   "source": [
    "## Linear Regression Matrix Solution\n",
    "\n",
    "From the last section, you may have recognized that we could actually solve for $\\beta$ directly.  \n",
    "\n",
    "\\begin{eqnarray*}\n",
    "Loss(\\beta) &=& \\frac{1}{N}\\mathbf{(Y - X\\beta)^T (Y - X\\beta)} \\\\\n",
    "\\nabla_{\\beta} L(\\beta) &=& \\frac{1}{N} (-2 \\mathbf{X^T Y} + 2 \\mathbf{X^T X \\beta}) \\\\\n",
    "\\end{eqnarray*}\n",
    "\n",
    "Setting to zero\n",
    "\n",
    "\\begin{eqnarray*}\n",
    "-2 \\mathbf{X^T Y} + 2 \\mathbf{X^T X} \\beta &=& 0 \\\\\n",
    "\\mathbf{X^T X \\beta}  &=& \\mathbf{X^T Y} \\\\\n",
    "\\end{eqnarray*}\n",
    "\n",
    "If we assume that the columns $X$ are linearly independent then\n",
    "\n",
    "\\begin{eqnarray*}\n",
    " \\hat \\beta  &=& \\mathbf{(X^T X)^{-1}X^T Y} \\\\\n",
    "\\end{eqnarray*}\n",
    "\n",
    "This is called the _Ordinary Least Squares_ (OLS) Estimator \n",
    "\n",
    "###<span style=\"color:red\">STUDENT ACTIVITY (10 MINS)</span> \n",
    "\n",
    "_** Student Action - Solve for $\\hat \\beta$ directly using OLS on the Baseball Dataset - 10 mins** _\n",
    "    \n",
    "- Review the Supplementary Materials for help with Linear Algebra"
   ]
  },
  {
   "cell_type": "code",
   "execution_count": 21,
   "metadata": {
    "collapsed": false
   },
   "outputs": [
    {
     "name": "stdout",
     "output_type": "stream",
     "text": [
      "Betas:  [ 0.01513353  5.13051682]\n",
      "Test Passed!\n"
     ]
    }
   ],
   "source": [
    "# Setting up our matrices \n",
    "y = np.log(baseball['Salary'])\n",
    "N = len(Y)\n",
    "X = pd.DataFrame({'ones' : np.ones(N), \n",
    "                  'Hits' : baseball['Hits']})\n",
    "\n",
    "#############################################################\n",
    "# Student Action - Program a closed form solution for \n",
    "#                  Linear Regression. Compare with Gradient\n",
    "#                  Descent.\n",
    "#############################################################\n",
    "\n",
    "def solve_linear_regression(X, y):\n",
    "    #****************************\n",
    "    return np.dot(np.linalg.inv(np.dot(X.T, X)), np.dot(X.T, y))\n",
    "    \n",
    "    #****************************\n",
    "\n",
    "betas = solve_linear_regression(X,y)\n",
    "\n",
    "try:\n",
    "    beta_expected = np.array([ 0.01513353, 5.13051682])\n",
    "    np.testing.assert_almost_equal(betas, beta_expected)\n",
    "    print \"Betas: \", betas\n",
    "    print \"Test Passed!\"\n",
    "except AssertionError:\n",
    "    print \"*******************************************\"\n",
    "    print \"ERROR: Something isn't right... Try Again!\"\n",
    "    print \"*******************************************\""
   ]
  },
  {
   "cell_type": "markdown",
   "metadata": {},
   "source": [
    "\n",
    "** Comments on solving the loss function directly **\n",
    "\n",
    "- Advantage: Simple solution to code \n",
    "- Disadvantage: The Design Matrix must be Full Rank to invert\n",
    "    - Can be corrected with a Generalized Inverse Solution\n",
    "- Disadvantage: Inverting a Matrix can be a computational expensive operation\n",
    "    - If we have a design matrix that has $N$ observations and $D$ predictors, then X is $(N\\times D)$ it follows then that\n",
    "    \n",
    "    \\begin{eqnarray*}\n",
    "        \\mathbf{X^TX} \\mbox{ is of size } (D \\times N) \\times (N \\times D) = (D \\times D) \\\\\n",
    "    \\end{eqnarray*}\n",
    "    \n",
    "    - If a matrix is of size $(D\\times D)$, the computational cost of inverting it is $O(D^3)$.  \n",
    "    - Thus inverting a matrix is directly related to the number of predictors that are included in the analysis.  \n"
   ]
  },
  {
   "cell_type": "markdown",
   "metadata": {},
   "source": [
    "## Sci-Kit Learn Linear Regression\n",
    "\n",
    "As we've shown in the previous two exercises, when coding these algorithms ourselves, we must consider many things such as selecting step sizes, considering the computational cost of inverting matrices.  For many applications though, packages have been created that have taken into consideration many of these parameter selections.  We now turn our attention to the Python package for Machine Learning called 'scikit-learn'.  \n",
    "\n",
    "- http://scikit-learn.org/stable/\n",
    "\n",
    "Included is the documentation for the scikit-learn implementation of Ordinary Least Squares from their linear models package\n",
    "\n",
    "- _Generalized Linear Models Documentation:_ \n",
    "    - http://scikit-learn.org/stable/modules/linear_model.html#ordinary-least-squares\n",
    "\n",
    "- _LinearRegression Class Documentation:_  \n",
    "    - http://scikit-learn.org/stable/modules/generated/sklearn.linear_model.LinearRegression.html#sklearn.linear_model.LinearRegression\n",
    "\n",
    "From this we that we'll need to import the module `linear_model` using the following:\n",
    "\n",
    "    from sklearn import linear_model\n",
    "    \n",
    "Let's examine an example using the `LinearRegression` class from scikit-learn.  We'll continue with the simulated data from the beginning of the exercise."
   ]
  },
  {
   "cell_type": "markdown",
   "metadata": {},
   "source": [
    "### _Example using the variables from the Residual Example_\n",
    "\n",
    "** Notes ** \n",
    "\n",
    "- Calling `linear_model.LinearRegression()` creates an object of class  `sklearn.linear_model.base.LinearRegression`\n",
    "    - Defaults \n",
    "        - `fit_intercept = True`: automatically adds a column vector of ones for an intercept\n",
    "        - `normalize = False`: defaults to not normalizing the input predictors\n",
    "        - `copy_X = False`: defaults to not copying X\n",
    "        - `n_jobs = 1`: The number of jobs to use for the computation. If -1 all CPUs are used. This will only provide speedup for n_targets > 1 and sufficient large problems.\n",
    "    - Example\n",
    "        - `lmr = linear_model.LinearRegression()\n",
    "- To fit a model, the method `.fit(X,y)` can be used\n",
    "    - X must be a column vector for scikit-learn\n",
    "        - This can be accomplished by creating a DataFrame using `pd.DataFrame()`\n",
    "    - Example\n",
    "        - lmr.fit(X,y)\n",
    "- To predict out of sample values, the method `.predict(X)` can be used\n",
    "- To see the $\\beta$ estimates use `.coef_` for the coefficients for the predictors and `.intercept` for $\\beta_0$"
   ]
  },
  {
   "cell_type": "code",
   "execution_count": 22,
   "metadata": {
    "collapsed": false
   },
   "outputs": [
    {
     "data": {
      "image/png": "[encoded data removed]",
      "text/plain": [
       "<matplotlib.figure.Figure at 0x10ee3d950>"
      ]
     },
     "metadata": {},
     "output_type": "display_data"
    },
    {
     "name": "stdout",
     "output_type": "stream",
     "text": [
      "[[ 0.26827489]] [ 1.23701501]\n"
     ]
    }
   ],
   "source": [
    "#############################################################\n",
    "# Demonstration - scikit-learn with Regression Example\n",
    "#############################################################\n",
    "\n",
    "from sklearn import linear_model\n",
    "\n",
    "lmr = linear_model.LinearRegression()\n",
    "lmr.fit(pd.DataFrame(x_example), pd.DataFrame(y_example))\n",
    "\n",
    "xTest = pd.DataFrame(np.arange(-1,6))\n",
    "yHat = lmr.predict(xTest)\n",
    "\n",
    "f = plt.figure()\n",
    "plt.scatter(x_example, y_example)\n",
    "p1, = plt.plot(np.arange(-1,6), line1)\n",
    "p2, = plt.plot(xTest, yHat)\n",
    "plt.legend([p1, p2], ['y = 1 + 0.5x', 'OLS Estimate'], loc=2)\n",
    "f.set_size_inches(10,5)\n",
    "plt.show()\n",
    "\n",
    "print lmr.coef_, lmr.intercept_"
   ]
  },
  {
   "cell_type": "markdown",
   "metadata": {},
   "source": [
    "###<span style=\"color:red\">STUDENT ACTIVITY (15 MINS)</span> \n",
    "\n",
    "### _**Final Student Task**_\n",
    "\n",
    "Programming Linear Regression using the scikit-learn method.  For the ambitious students, plot all results on one plot.  "
   ]
  },
  {
   "cell_type": "code",
   "execution_count": 24,
   "metadata": {
    "collapsed": false,
    "scrolled": true
   },
   "outputs": [
    {
     "data": {
      "image/png": "[encoded data removed]",
      "text/plain": [
       "<matplotlib.figure.Figure at 0x107b8ecd0>"
      ]
     },
     "metadata": {},
     "output_type": "display_data"
    },
    {
     "name": "stdout",
     "output_type": "stream",
     "text": [
      "[ 0.01513353] 5.13051681568\n"
     ]
    }
   ],
   "source": [
    "#######################################################################\n",
    "# Student Action - Use scikit-learn to calculate the beta coefficients\n",
    "#\n",
    "# Note: You no longer need the intercept column in your X matrix for \n",
    "#       sci-kit Learn.  It will add that column automatically.\n",
    "#######################################################################\n",
    "\n",
    "lmr2 = linear_model.LinearRegression(fit_intercept=True)\n",
    "lmr2.fit(pd.DataFrame(baseball['Hits']), np.log(baseball['Salary']))\n",
    "\n",
    "xtest = np.arange(0,200)\n",
    "ytest = lmr2.intercept_ + lmr2.coef_*xtest\n",
    "\n",
    "f = plt.figure()\n",
    "plt.scatter(baseball['Hits'], np.log(baseball['Salary']))\n",
    "plt.plot(xtest, ytest, color='r', linewidth=3)\n",
    "f.set_size_inches(10,5)\n",
    "plt.show()\n",
    "print lmr2.coef_, lmr2.intercept_"
   ]
  },
  {
   "cell_type": "markdown",
   "metadata": {},
   "source": [
    "## Linear Regression in the Real World\n",
    "\n",
    "In the real world, Linear Regression for predictive modeling doesn't end once you've fit the model. Models are often fit and used to predict user behavior, used to quantify business metrics, or sometimes used to identify cats faces for internet points.  In that pursuit, it isn't really interesting to fit a model and assess its performance on data that has already been observed.  The real interest lies in _**how it predicts future observations!**_\n",
    "\n",
    "Often times then, we may be susceptible to creating a model that is perfected for our observed data, but that does not generalize well to new data.  In order to assess how we perform to new data, we can _score_ the model on both the old and new data, and compare the models performance with the hope that the it generalizes well to the new data. After lunch we'll introduce some techniques and other methods to better our chances of performing well on new data. \n",
    "\n",
    "Before we break for lunch though, let's take a look at a simulated dataset to see what we mean...\n",
    "\n",
    "_Situation_\n",
    "\n",
    "Imagine that last year a talent management company managed 400 celebrities and tracked how popular they were within the public eye, as well various predictors for that metric.  The company is now interested in managing a few new celebrities, but wants to sign those stars that are above a certain 'popularity' threshold to maintain their image.\n",
    "\n",
    "Our job is to predict how popular each new celebrity will be over the course of the coming year so that we make that best decision about who to manage. For this analysis we'll use a function `l2_error` to compare our errors on a training set, and on a test set of celebrity data.\n",
    "\n",
    "The variable `celeb_data_old` represents things we know about the previous batch of celebrities.  Each row represents one celeb.  Each column represents some tangible measure about them -- their age at the time, number of Twitter followers, voice squeakiness, etc.  The specifics of what each column represents aren't important.\n",
    "\n",
    "Similarly, `popularity_score_old` is a previous measure of the celebrities popularity.\n",
    "\n",
    "Finally, `celeb_data_new` represents the same information that we had from `celeb_data_old` but for the new batch of internet wonders that we're considering.\n",
    "\n",
    "How can we predict how popular the NEW batch of celebrities will be ahead of time so that we can decide who to sign? And are these estimates stable from year to year?"
   ]
  },
  {
   "cell_type": "code",
   "execution_count": 25,
   "metadata": {
    "collapsed": false
   },
   "outputs": [
    {
     "name": "stdout",
     "output_type": "stream",
     "text": [
      "Predicted L2 Error: 18.1262825607\n"
     ]
    }
   ],
   "source": [
    "with np.load('data/mystery_data_old.npz') as data:\n",
    "    celeb_data_old = data['celeb_data_old']\n",
    "    popularity_old = data['popularity_old']\n",
    "    celeb_data_new = data['celeb_data_new']\n",
    "\n",
    "lmr3 = linear_model.LinearRegression()\n",
    "lmr3.fit(celeb_data_old, popularity_old)\n",
    "predicted_popularity_old = lmr3.predict(celeb_data_old)\n",
    "predicted_popularity_new = lmr3.predict(celeb_data_new)\n",
    "\n",
    "def l2_error(y_true, y_pred):\n",
    "    \"\"\"\n",
    "    calculate the sum of squared errors (i.e. \"L2 error\") \n",
    "    given a vector of true ys and a vector of predicted ys\n",
    "    \"\"\"\n",
    "    diff = (y_true-y_pred)\n",
    "    return np.sqrt(np.dot(diff, diff))\n",
    "\n",
    "print \"Predicted L2 Error:\", l2_error(popularity_old, predicted_popularity_old)"
   ]
  },
  {
   "cell_type": "markdown",
   "metadata": {
    "collapsed": false
   },
   "source": [
    "### Checking How We Did\n",
    "At the end of the year, we tally up the popularity numbers for each celeb and check how well we did on our predictions."
   ]
  },
  {
   "cell_type": "code",
   "execution_count": 26,
   "metadata": {
    "collapsed": false
   },
   "outputs": [
    {
     "name": "stdout",
     "output_type": "stream",
     "text": [
      "Predicted L2 Error: 24.173135433\n"
     ]
    }
   ],
   "source": [
    "with np.load('data/mystery_data_new.npz') as data:\n",
    "    popularity_new = data['popularity_new']\n",
    "\n",
    "print \"Predicted L2 Error:\", l2_error(popularity_new, predicted_popularity_new)"
   ]
  },
  {
   "cell_type": "markdown",
   "metadata": {},
   "source": [
    "Something's not right... our model seems to be performing worse on this data!  Our model performed so well on last year's data, why didn't it work on the data from this year?"
   ]
  }
 ],
 "metadata": {
  "kernelspec": {
   "display_name": "Python [Root]",
   "language": "python",
   "name": "Python [Root]"
  },
  "language_info": {
   "codemirror_mode": {
    "name": "ipython",
    "version": 2
   },
   "file_extension": ".py",
   "mimetype": "text/x-python",
   "name": "python",
   "nbconvert_exporter": "python",
   "pygments_lexer": "ipython2",
   "version": "2.7.12"
  }
 },
 "nbformat": 4,
 "nbformat_minor": 0
}
