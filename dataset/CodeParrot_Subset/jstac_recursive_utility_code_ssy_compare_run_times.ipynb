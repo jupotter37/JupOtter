{
 "cells": [
  {
   "cell_type": "markdown",
   "metadata": {},
   "source": [
    "# Compare Run Times\n",
    "\n",
    "## Relative speed of Monte Carlo and Spectral Radius Methods"
   ]
  },
  {
   "cell_type": "code",
   "execution_count": 1,
   "metadata": {},
   "outputs": [],
   "source": [
    "import numpy as np\n",
    "import matplotlib.pyplot as plt\n",
    "import quantecon as qe"
   ]
  },
  {
   "cell_type": "code",
   "execution_count": 2,
   "metadata": {},
   "outputs": [],
   "source": [
    "%run src/ssy_discretized_test.py"
   ]
  },
  {
   "cell_type": "code",
   "execution_count": 4,
   "metadata": {},
   "outputs": [],
   "source": [
    "s = SSY()"
   ]
  },
  {
   "cell_type": "code",
   "execution_count": 5,
   "metadata": {},
   "outputs": [],
   "source": [
    "def discrete_call(D):\n",
    "    return test_val_spec_rad(s, K=D, I=D, J=D)\n",
    "    "
   ]
  },
  {
   "cell_type": "code",
   "execution_count": 6,
   "metadata": {},
   "outputs": [],
   "source": [
    "def continuous_call(D):\n",
    "    f = mc_factory(s, K=D, I=D, J=D)\n",
    "    return f(n=1000, m=1000)"
   ]
  },
  {
   "cell_type": "code",
   "execution_count": 7,
   "metadata": {},
   "outputs": [
    {
     "name": "stdout",
     "output_type": "stream",
     "text": [
      "CPU times: user 7.65 s, sys: 8.54 ms, total: 7.66 s\n",
      "Wall time: 6.34 s\n"
     ]
    },
    {
     "data": {
      "text/plain": [
       "0.9991631792726985"
      ]
     },
     "execution_count": 7,
     "metadata": {},
     "output_type": "execute_result"
    }
   ],
   "source": [
    "%time discrete_call(10)"
   ]
  },
  {
   "cell_type": "code",
   "execution_count": 8,
   "metadata": {},
   "outputs": [
    {
     "name": "stdout",
     "output_type": "stream",
     "text": [
      "CPU times: user 2 s, sys: 6.71 ms, total: 2 s\n",
      "Wall time: 1.27 s\n"
     ]
    },
    {
     "data": {
      "text/plain": [
       "0.9995489581809913"
      ]
     },
     "execution_count": 8,
     "metadata": {},
     "output_type": "execute_result"
    }
   ],
   "source": [
    "%time continuous_call(10)"
   ]
  },
  {
   "cell_type": "code",
   "execution_count": 9,
   "metadata": {},
   "outputs": [],
   "source": [
    "comparisons = []\n",
    "calls = [discrete_call, continuous_call]\n",
    "results = np.empty(2)\n",
    "D1, D2 = 3, 20\n",
    "\n",
    "for d in range(D1, D2):\n",
    "    for i, call in enumerate(calls):\n",
    "        qe.tic()\n",
    "        call(d)\n",
    "        results[i] = qe.toc(verbose=False)\n",
    "    comparisons.append(results[0] / results[1])"
   ]
  },
  {
   "cell_type": "code",
   "execution_count": 10,
   "metadata": {},
   "outputs": [
    {
     "data": {
      "text/plain": [
       "[0.008002362254673285,\n",
       " 0.0329140651384151,\n",
       " 0.12295918798721613,\n",
       " 0.36972805699373323,\n",
       " 0.9130569448269507,\n",
       " 2.0609205815334084,\n",
       " 4.094267551736314,\n",
       " 7.699452540218056,\n",
       " 13.835929641313262,\n",
       " 23.01223830913612,\n",
       " 38.06257820188588,\n",
       " 63.27175760084404,\n",
       " 95.04972782994325,\n",
       " 131.6920478677399,\n",
       " 205.75292904771678,\n",
       " 302.1455123041245,\n",
       " 446.7517324901966]"
      ]
     },
     "execution_count": 10,
     "metadata": {},
     "output_type": "execute_result"
    }
   ],
   "source": [
    "comparisons"
   ]
  },
  {
   "cell_type": "code",
   "execution_count": 14,
   "metadata": {},
   "outputs": [
    {
     "data": {
      "image/png": "[encoded data removed]",
      "text/plain": [
       "<Figure size 576x288 with 1 Axes>"
      ]
     },
     "metadata": {
      "needs_background": "light"
     },
     "output_type": "display_data"
    }
   ],
   "source": [
    "fig, ax = plt.subplots(figsize=(8, 4))\n",
    "ax.plot(range(D1, D2), np.array(comparisons), label=\"spectral radius runtime / Monte Carlo runtime\")\n",
    "ax.set_xlabel(\"level of discretization $D$\", fontsize=12)\n",
    "ax.set_ylabel(\"relative time\", fontsize=12)\n",
    "ax.legend()\n",
    "plt.savefig(\"ssy_compare_run_times.pdf\")\n",
    "plt.show()"
   ]
  },
  {
   "cell_type": "code",
   "execution_count": null,
   "metadata": {},
   "outputs": [],
   "source": []
  }
 ],
 "metadata": {
  "kernelspec": {
   "display_name": "Python 3",
   "language": "python",
   "name": "python3"
  },
  "language_info": {
   "codemirror_mode": {
    "name": "ipython",
    "version": 3
   },
   "file_extension": ".py",
   "mimetype": "text/x-python",
   "name": "python",
   "nbconvert_exporter": "python",
   "pygments_lexer": "ipython3",
   "version": "3.7.3"
  }
 },
 "nbformat": 4,
 "nbformat_minor": 2
}
