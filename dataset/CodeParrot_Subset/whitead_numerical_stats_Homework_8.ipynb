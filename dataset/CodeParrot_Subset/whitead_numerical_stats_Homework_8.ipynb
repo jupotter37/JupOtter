{
 "cells": [
  {
   "cell_type": "markdown",
   "metadata": {},
   "source": [
    "Homework 8\n",
    "====\n",
    "#### CHE 116: Numerical Methods and Statistics\n",
    "\n",
    "3/22/2018\n",
    "\n",
    "----"
   ]
  },
  {
   "cell_type": "markdown",
   "metadata": {},
   "source": [
    "1.CLT Concepts (8 Points)\n",
    "====\n",
    "\n",
    "1. If you sum together 20 numbers sampled from a binomial distribution and 10 from a Poisson distribution, how is your sum distribted?\n",
    "\n",
    "2. If you sample 25 numbers from *different* beta distributions, how will each of the numbers be distributed?\n",
    "\n",
    "3. Assume a HW grade is determined as the average of 3 HW assignments. How is the HW grade distributed?\n",
    "\n",
    "4. You measure the height of 3 people. What distribution will the uncertainty of the mean of the heights follow?\n"
   ]
  },
  {
   "cell_type": "markdown",
   "metadata": {},
   "source": [
    "2. Confidence Interval (16 Points)\n",
    "===\n",
    "\n",
    "Report the given confidence interval for error in the mean using the data in the next cell and describe in words what the confidence interval is for each example. 4 points each\n",
    "\n",
    "1. 80% Double. \n",
    "2. 99% Upper ( a value such that the mean lies above that value 99% of the time)\n",
    "3. 95% Double\n",
    "4. Redo part 3 with a known standard deviation of 2\n",
    "\n",
    "`\n",
    "data_1 = [0.41,2.69,3.82,0.42,1.20]\n",
    "`\n",
    "\n",
    "`\n",
    "data_2 = [5.07,2.79,1.24,6.50,3.17,3.59,5.42,4.10,1.26,0.54,1.22,4.43,3.83,0.93,3.45,5.24,3.51,4.64,0.65,3.27,2.41,4.31,4.15,2.24,2.30,3.3]\n",
    "`\n",
    "\n",
    "`\n",
    "data_3 = [5.62,2.34,2.76,2.80,1.15,5.19,-0.91]\n",
    "`\n"
   ]
  },
  {
   "cell_type": "markdown",
   "metadata": {},
   "source": [
    "Confidence Intervals (8 Points)\n",
    "====\n",
    "\n",
    "State what distribution and its parameters for each of the following cases. 2 points each.\n",
    "\n",
    "1. $P(\\mu - \\bar{x})$, $\\sigma = 2.4$, $N = 4$\n",
    "2. $P(\\mu)$, $\\bar{x} = 11$, $\\sigma_x = 3.2$, $N = 11$\n",
    "3. $P(\\mu)$, $\\bar{x} = -3$, $\\sigma_x = 2.1$, $N = 35$\n",
    "4. $P(\\mu)$, $\\bar{x} = 6$, $\\sigma = 11$, $N = 30$"
   ]
  }
 ],
 "metadata": {
  "kernelspec": {
   "display_name": "Python 3",
   "language": "python",
   "name": "python3"
  },
  "language_info": {
   "codemirror_mode": {
    "name": "ipython",
    "version": 3
   },
   "file_extension": ".py",
   "mimetype": "text/x-python",
   "name": "python",
   "nbconvert_exporter": "python",
   "pygments_lexer": "ipython3",
   "version": "3.6.4"
  }
 },
 "nbformat": 4,
 "nbformat_minor": 2
}
