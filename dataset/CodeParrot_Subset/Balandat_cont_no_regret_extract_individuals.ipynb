{
 "cells": [
  {
   "cell_type": "code",
   "execution_count": 2,
   "metadata": {
    "collapsed": false
   },
   "outputs": [
    {
     "name": "stdout",
     "output_type": "stream",
     "text": [
      "/Users/balandat/Documents/Code/eclipse workspace/cont_no_regret\n"
     ]
    }
   ],
   "source": [
    "%cd /Users/balandat/Documents/Code/eclipse workspace/cont_no_regret\n",
    "import ContNoRegret\n",
    "from ContNoRegret.utils import plot_loglogs, plot_snapshots, plot_results\n",
    "from ContNoRegret.animate import save_animations\n",
    "import matplotlib\n",
    "import matplotlib.pyplot as plt\n",
    "import pickle\n",
    "import os"
   ]
  },
  {
   "cell_type": "markdown",
   "metadata": {},
   "source": [
    "# Comparison of Exp, pExp and ExpP"
   ]
  },
  {
   "cell_type": "code",
   "execution_count": 17,
   "metadata": {
    "collapsed": false
   },
   "outputs": [
    {
     "name": "stdout",
     "output_type": "stream",
     "text": [
      "['Greedy']\n"
     ]
    }
   ],
   "source": [
    "folder = '/Users/balandat/Documents/Code/Continuous_No-Regret/results/'\n",
    "file = '2015-05-25_21-35/NIPS2_CNR_pexp_comparison_Quadratic.piggl'\n",
    "with open(folder+file, 'rb') as f:\n",
    "    results = pickle.load(f)\n",
    "results = {r.label : r for r in results}\n",
    "print(list(results.keys()))"
   ]
  },
  {
   "cell_type": "code",
   "execution_count": 13,
   "metadata": {
    "collapsed": false
   },
   "outputs": [],
   "source": [
    "results = [{key:res for key,res in results.items() if 'p={1.25}' in key},\n",
    "           {key:res for key,res in results.items() if 'p={1.5}' in key},\n",
    "           {key:res for key,res in results.items() if 'p={1.75}' in key}]"
   ]
  },
  {
   "cell_type": "code",
   "execution_count": 16,
   "metadata": {
    "collapsed": false
   },
   "outputs": [],
   "source": [
    "plot_u0s([{key:res for key,res in results[2].items() if 'pExpPot' in key},\n",
    "          {key:res for key,res in results[2].items() if 'ExpPPot' in key}])"
   ]
  },
  {
   "cell_type": "code",
   "execution_count": 22,
   "metadata": {
    "collapsed": false
   },
   "outputs": [],
   "source": [
    "plot_u0s([results], bounds=False)"
   ]
  },
  {
   "cell_type": "markdown",
   "metadata": {},
   "source": [
    "# Effect of the bounds on the norms"
   ]
  },
  {
   "cell_type": "code",
   "execution_count": 3,
   "metadata": {
    "collapsed": false
   },
   "outputs": [
    {
     "name": "stdout",
     "output_type": "stream",
     "text": [
      "['norm_pExpPot, $p={2}, gamma={1}$', 'norm_pNormPot, $p={1.05}$', 'norm_ExpPot']\n"
     ]
    }
   ],
   "source": [
    "folder = '/Users/balandat/Documents/Code/Continuous_No-Regret/results/2015-05-27_11-48/'\n",
    "file = 'NIPS2_CNR_PolyNormBounds_Polynomial.piggl'\n",
    "with open(folder+file, 'rb') as f:\n",
    "    results = pickle.load(f)\n",
    "results = {r.label : r for r in results}\n",
    "print(list(results.keys()))"
   ]
  },
  {
   "cell_type": "code",
   "execution_count": 4,
   "metadata": {
    "collapsed": false
   },
   "outputs": [],
   "source": [
    "plot_loglogs([results], directory=None)"
   ]
  },
  {
   "cell_type": "markdown",
   "metadata": {},
   "source": [
    "# Effect of the dimension n"
   ]
  },
  {
   "cell_type": "code",
   "execution_count": 15,
   "metadata": {
    "collapsed": false
   },
   "outputs": [],
   "source": [
    "folder = '/Users/balandat/Documents/Code/Continuous_No-Regret/individ_results/dimension'\n",
    "pots = ['ExpPot', 'pNormPot', 'FTAL', 'OGD', 'ONS', 'GP', 'EWOO']\n",
    "results = {pot:[] for pot in pots}\n",
    "for pot in pots:\n",
    "    for filename in os.listdir(folder):\n",
    "        if pot in filename:\n",
    "            with open('{}/{}'.format(folder, filename), 'rb') as f:\n",
    "                res = pickle.load(f)\n",
    "                res.label = filename.strip('piggl')\n",
    "                results[pot].append(res)"
   ]
  },
  {
   "cell_type": "code",
   "execution_count": 16,
   "metadata": {
    "collapsed": false
   },
   "outputs": [
    {
     "ename": "NameError",
     "evalue": "name 'plot_results' is not defined",
     "output_type": "error",
     "traceback": [
      "\u001b[0;31m---------------------------------------------------------------------------\u001b[0m",
      "\u001b[0;31mNameError\u001b[0m                                 Traceback (most recent call last)",
      "\u001b[0;32m<ipython-input-16-e610e657ac98>\u001b[0m in \u001b[0;36m<module>\u001b[0;34m()\u001b[0m\n\u001b[0;32m----> 1\u001b[0;31m \u001b[0mplot_results\u001b[0m\u001b[0;34m(\u001b[0m\u001b[0mresults\u001b[0m\u001b[0;34m[\u001b[0m\u001b[0;34m'pNormPot'\u001b[0m\u001b[0;34m]\u001b[0m\u001b[0;34m)\u001b[0m\u001b[0;34m\u001b[0m\u001b[0m\n\u001b[0m",
      "\u001b[0;31mNameError\u001b[0m: name 'plot_results' is not defined"
     ]
    }
   ],
   "source": [
    "plot_results(results['pNormPot'])"
   ]
  },
  {
   "cell_type": "code",
   "execution_count": 48,
   "metadata": {
    "collapsed": false
   },
   "outputs": [],
   "source": [
    "dd = results['ExpPot'][0].regs_norate['tsavg'][0] / results['ExpPot'][1].regs_norate['tsavg'][0]"
   ]
  },
  {
   "cell_type": "code",
   "execution_count": 49,
   "metadata": {
    "collapsed": false
   },
   "outputs": [
    {
     "data": {
      "text/plain": [
       "[<matplotlib.lines.Line2D at 0x11f663f28>]"
      ]
     },
     "execution_count": 49,
     "metadata": {},
     "output_type": "execute_result"
    }
   ],
   "source": [
    "import matplotlib.pyplot as plt\n",
    "plt.plot(dd)"
   ]
  },
  {
   "cell_type": "markdown",
   "metadata": {},
   "source": [
    "# Effect of the uniform fatness parameter v"
   ]
  },
  {
   "cell_type": "code",
   "execution_count": 9,
   "metadata": {
    "collapsed": false
   },
   "outputs": [
    {
     "name": "stdout",
     "output_type": "stream",
     "text": [
      "['v=0.10, pNormPot, $p={1.75}$', 'v=0.05, pExpPot, $p={1.5}, gamma={1}$', 'v=0.50, ExpPot', 'v=0.05, pNormPot, $p={1.75}$', 'v=0.25, pExpPot, $p={1.5}, gamma={4}$', 'v=0.10, pNormPot, $p={1.05}$', 'v=0.25, ExpPot', 'v=0.50, pExpPot, $p={1.5}, gamma={4}$', 'v=0.05, ExpPot', 'v=0.50, pNormPot, $p={1.05}$', 'v=0.05, pNormPot, $p={1.05}$', 'v=0.10, pExpPot, $p={1.5}, gamma={4}$', 'v=0.25, pNormPot, $p={1.05}$', 'v=1.00, pExpPot, $p={1.5}, gamma={1}$', 'v=0.05, pNormPot, $p={1.5}$', 'v=1.00, pExpPot, $p={1.5}, gamma={4}$', 'v=0.25, pExpPot, $p={1.5}, gamma={1}$', 'v=1.00, ExpPot', 'v=0.25, pNormPot, $p={1.75}$', 'v=0.50, pNormPot, $p={1.5}$', 'v=0.25, pNormPot, $p={1.5}$', 'v=1.00, pNormPot, $p={1.05}$', 'v=1.00, pNormPot, $p={1.5}$', 'v=0.50, pExpPot, $p={1.5}, gamma={1}$', 'v=0.10, ExpPot', 'v=0.10, pExpPot, $p={1.5}, gamma={1}$', 'v=0.05, pExpPot, $p={1.5}, gamma={4}$', 'v=0.50, pNormPot, $p={1.75}$', 'v=1.00, pNormPot, $p={1.75}$', 'v=0.10, pNormPot, $p={1.5}$']\n"
     ]
    }
   ],
   "source": [
    "folder = '/Users/balandat/Documents/Code/Continuous_No-Regret/results/2015-05-27_08-36/'\n",
    "file = 'NIPS2_CNR_vs_Quadratic.piggl'\n",
    "with open(folder+file, 'rb') as f:\n",
    "    results = pickle.load(f)\n",
    "results = {r.label : r for r in results}\n",
    "print(list(results.keys()))"
   ]
  },
  {
   "cell_type": "code",
   "execution_count": 10,
   "metadata": {
    "collapsed": false
   },
   "outputs": [],
   "source": [
    "res = [[res for key,res in results.items() if ' ExpPot' in key],\n",
    "       [res for key,res in results.items() if 'pExpPot' in key],\n",
    "       [res for key,res in results.items() if 'pNormPot' in key]]\n",
    "pNres = [{key:res for key,res in results.items() if 'pNormPot, '+p in key} for p in ['$p={1.05}$', '$p={1.75}$']]\n",
    "Expres = [{key:res for key,res in results.items() if ' ExpPot' in key}]\n",
    "pNlabels = [[r.label.replace('pNormPot, ','') for r in rs.values()] for rs in pNres] \n",
    "plot_loglogs(pNres, directory=None, bounds=True)"
   ]
  },
  {
   "cell_type": "markdown",
   "metadata": {},
   "source": [
    "### Plot snapshots, create animations"
   ]
  },
  {
   "cell_type": "code",
   "execution_count": 9,
   "metadata": {
    "collapsed": false
   },
   "outputs": [
    {
     "data": {
      "text/plain": [
       "'v=0.05, $p={1.05}$'"
      ]
     },
     "execution_count": 9,
     "metadata": {},
     "output_type": "execute_result"
    }
   ],
   "source": [
    "plot_snapshots([val for val in results.values()], [10, 100, 225], show=True, directory=folder, figsize=(16,8),\n",
    "               elev=30, azim=120)"
   ]
  },
  {
   "cell_type": "markdown",
   "metadata": {},
   "source": [
    "# When Greedy fails"
   ]
  },
  {
   "cell_type": "code",
   "execution_count": 9,
   "metadata": {
    "collapsed": false
   },
   "outputs": [
    {
     "name": "stdout",
     "output_type": "stream",
     "text": [
      "['pNormPot, $p={1.75}$', 'pNormPot, $p={1.01}$', 'pExpPot, $p={1.5}, gamma={1}$', 'ExpPot', 'Greedy', 'ExpPPot, $p={1.5}, gamma={1}$']\n"
     ]
    }
   ],
   "source": [
    "folder = '/Users/balandat/Documents/Code/Continuous_No-Regret/results/2015-05-27_11-31/'\n",
    "file = 'NIPS2_CNR_greedyfail_Affine.piggl'\n",
    "with open(folder+file, 'rb') as f:\n",
    "    results = pickle.load(f)\n",
    "results = {r.label : r for r in results}\n",
    "print(list(results.keys()))"
   ]
  },
  {
   "cell_type": "code",
   "execution_count": 10,
   "metadata": {
    "collapsed": false
   },
   "outputs": [],
   "source": [
    "res2 = {key:results[key] for key in results.keys() if key!='ExpPPot, $p={1.5}, gamma={1}$'}"
   ]
  },
  {
   "cell_type": "code",
   "execution_count": 12,
   "metadata": {
    "collapsed": false
   },
   "outputs": [],
   "source": [
    "plot_loglogs([res2], directory=folder, loc='upper center')"
   ]
  },
  {
   "cell_type": "code",
   "execution_count": null,
   "metadata": {
    "collapsed": true
   },
   "outputs": [],
   "source": []
  }
 ],
 "metadata": {
  "kernelspec": {
   "display_name": "Python 3",
   "language": "python",
   "name": "python3"
  },
  "language_info": {
   "codemirror_mode": {
    "name": "ipython",
    "version": 3
   },
   "file_extension": ".py",
   "mimetype": "text/x-python",
   "name": "python",
   "nbconvert_exporter": "python",
   "pygments_lexer": "ipython3",
   "version": "3.4.3"
  }
 },
 "nbformat": 4,
 "nbformat_minor": 0
}
