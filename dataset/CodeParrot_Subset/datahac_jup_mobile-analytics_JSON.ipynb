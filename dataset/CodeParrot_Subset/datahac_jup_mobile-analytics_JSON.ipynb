{
 "cells": [
  {
   "cell_type": "markdown",
   "metadata": {},
   "source": [
    "# Mobile insights"
   ]
  },
  {
   "cell_type": "code",
   "execution_count": 3,
   "metadata": {
    "collapsed": false
   },
   "outputs": [],
   "source": [
    "request = \"POST https://analyticsreporting.googleapis.com/v4/reports:batchGet?fields=reports(columnHeader%2Cdata(rows%2Ctotals))&key={YOUR_API_KEY}\""
   ]
  },
  {
   "cell_type": "code",
   "execution_count": 5,
   "metadata": {
    "collapsed": true
   },
   "outputs": [],
   "source": [
    "request={\n",
    "  \"reportRequests\": [\n",
    "    {\n",
    "      \"viewId\": \"123303369\",\n",
    "      \"dateRanges\": [\n",
    "        {\n",
    "          \"startDate\": \"2017-01-01\",\n",
    "          \"endDate\": \"2017-04-30\"\n",
    "        }\n",
    "      ],\n",
    "      \"metrics\": [\n",
    "        {\n",
    "          \"expression\": \"ga:sessions\"\n",
    "        },\n",
    "        {\n",
    "          \"expression\": \"ga:bounces\"\n",
    "        },\n",
    "        {\n",
    "          \"expression\": \"ga:goal1Completions\" #instead of \"ga:goal1Completions\" use \"goal_to_use_in_request\" variable from tracking-tags code\n",
    "        }\n",
    "      ],\n",
    "      \"dimensions\": [\n",
    "        {\n",
    "          \"name\": \"ga:deviceCategory\"\n",
    "        }\n",
    "      ]\n",
    "    }\n",
    "  ]\n",
    "}"
   ]
  },
  {
   "cell_type": "code",
   "execution_count": 105,
   "metadata": {
    "collapsed": false
   },
   "outputs": [
    {
     "data": {
      "text/plain": [
       "{'reports': [{'columnHeader': {'dimensions': ['ga:deviceCategory'],\n",
       "    'metricHeader': {'metricHeaderEntries': [{'name': 'ga:sessions',\n",
       "       'type': 'INTEGER'},\n",
       "      {'name': 'ga:bounces', 'type': 'INTEGER'},\n",
       "      {'name': 'ga:goal1Completions', 'type': 'INTEGER'}]}},\n",
       "   'data': {'rows': [{'dimensions': ['desktop'],\n",
       "      'metrics': [{'values': ['4263', '2251', '117']}]},\n",
       "     {'dimensions': ['mobile'],\n",
       "      'metrics': [{'values': ['2352', '1468', '26']}]},\n",
       "     {'dimensions': ['tablet'],\n",
       "      'metrics': [{'values': ['278', '155', '3']}]}]}}]}"
      ]
     },
     "execution_count": 105,
     "metadata": {},
     "output_type": "execute_result"
    }
   ],
   "source": [
    "import json\n",
    "\n",
    "with open('files/TMRW_mob.json') as file:\n",
    "    input_dev = json.load(file)\n",
    "    \n",
    "input_dev"
   ]
  },
  {
   "cell_type": "code",
   "execution_count": 106,
   "metadata": {
    "collapsed": false
   },
   "outputs": [
    {
     "data": {
      "text/plain": [
       "['ga:deviceCategory']"
      ]
     },
     "execution_count": 106,
     "metadata": {},
     "output_type": "execute_result"
    }
   ],
   "source": [
    "# Define dimensions list\n",
    "input_dev_dimensions = input_dev['reports'][0]['columnHeader']['dimensions']\n",
    "\n",
    "input_dev_dimensions"
   ]
  },
  {
   "cell_type": "code",
   "execution_count": 107,
   "metadata": {
    "collapsed": false
   },
   "outputs": [
    {
     "data": {
      "text/plain": [
       "['ga:sessions', 'ga:bounces', 'ga:goal1Completions']"
      ]
     },
     "execution_count": 107,
     "metadata": {},
     "output_type": "execute_result"
    }
   ],
   "source": [
    "# Define metrics list\n",
    "input_dev_metrics = input_dev['reports'][0]['columnHeader']['metricHeader']['metricHeaderEntries']\n",
    "\n",
    "def create_metric_list(raw_data):\n",
    "    lst = []\n",
    "    for item in raw_data:\n",
    "        lst.append(item['name'])\n",
    "    return lst\n",
    "\n",
    "input_dev_metrics = create_metric_list(input_dev_metrics)\n",
    "\n",
    "input_dev_metrics"
   ]
  },
  {
   "cell_type": "code",
   "execution_count": 108,
   "metadata": {
    "collapsed": false
   },
   "outputs": [
    {
     "data": {
      "text/plain": [
       "[{'dimensions': ['desktop'], 'metrics': [{'values': ['4263', '2251', '117']}]},\n",
       " {'dimensions': ['mobile'], 'metrics': [{'values': ['2352', '1468', '26']}]},\n",
       " {'dimensions': ['tablet'], 'metrics': [{'values': ['278', '155', '3']}]}]"
      ]
     },
     "execution_count": 108,
     "metadata": {},
     "output_type": "execute_result"
    }
   ],
   "source": [
    "# Create input_dev_data\n",
    "\n",
    "input_dev_data = input_dev['reports'][0]['data']['rows']\n",
    "\n",
    "input_dev_data"
   ]
  },
  {
   "cell_type": "code",
   "execution_count": 109,
   "metadata": {
    "collapsed": false
   },
   "outputs": [
    {
     "name": "stdout",
     "output_type": "stream",
     "text": [
      "{'desktop': 4263, 'mobile': 2352, 'tablet': 278}\n",
      "{'desktop': 2251, 'mobile': 1468, 'tablet': 155}\n",
      "{'desktop': 117, 'mobile': 26, 'tablet': 3}\n"
     ]
    },
    {
     "data": {
      "text/plain": [
       "[{'desktop': 4263, 'mobile': 2352, 'tablet': 278},\n",
       " {'desktop': 2251, 'mobile': 1468, 'tablet': 155},\n",
       " {'desktop': 117, 'mobile': 26, 'tablet': 3}]"
      ]
     },
     "execution_count": 109,
     "metadata": {},
     "output_type": "execute_result"
    }
   ],
   "source": [
    "# Define each metric dict\n",
    "\n",
    "dev_sessions = {}\n",
    "dev_bounces = {}\n",
    "dev_conversions = {}\n",
    "\n",
    "\n",
    "for device in input_dev_data:\n",
    "    \n",
    "    device_name = device['dimensions'][0]\n",
    "        \n",
    "    sessions_metric = int(device['metrics'][0]['values'][0])\n",
    "    bounces_metric = int(device['metrics'][0]['values'][1])\n",
    "    conv_metric = int(device['metrics'][0]['values'][2])\n",
    "    \n",
    "    dev_sessions[device_name] = sessions_metric\n",
    "    dev_bounces[device_name] = bounces_metric\n",
    "    dev_conversions[device_name] = conv_metric\n",
    "    \n",
    "print(dev_sessions)\n",
    "print(dev_bounces)\n",
    "print(dev_conversions)\n",
    "    \n",
    "    \n",
    "new_data = [dev_sessions, dev_bounces, dev_conversions]\n",
    "new_data"
   ]
  },
  {
   "cell_type": "code",
   "execution_count": 110,
   "metadata": {
    "collapsed": false
   },
   "outputs": [
    {
     "data": {
      "text/plain": [
       "{'desktop': {'bounces': 2251, 'conversions': 117, 'sessions': 4263},\n",
       " 'mobile': {'bounces': 1468, 'conversions': 26, 'sessions': 2352},\n",
       " 'tablet': {'bounces': 155, 'conversions': 3, 'sessions': 278}}"
      ]
     },
     "execution_count": 110,
     "metadata": {},
     "output_type": "execute_result"
    }
   ],
   "source": [
    "# Create dev_data\n",
    "\n",
    "dev_data = {}  \n",
    "\n",
    "for metric_list in new_data:\n",
    "    #print(metric_list)\n",
    "    for device in metric_list:\n",
    "        #print (device)\n",
    "        dev_data[device] = {'sessions':0,\n",
    "                           'bounces':0,\n",
    "                           'conversions':0}\n",
    "        \n",
    "        \n",
    "        dev_data[device]['sessions'] = dev_sessions[device]      \n",
    "        dev_data[device]['bounces'] = dev_bounces[device]\n",
    "        dev_data[device]['conversions'] = dev_conversions[device]\n",
    "        \n",
    "dev_data"
   ]
  },
  {
   "cell_type": "code",
   "execution_count": 111,
   "metadata": {
    "collapsed": false
   },
   "outputs": [
    {
     "data": {
      "text/plain": [
       "{'desktop': {'bounces': 2251, 'conversions': 117, 'sessions': 4263},\n",
       " 'mobile devices': {'bounces': 1623, 'conversions': 29, 'sessions': 2630}}"
      ]
     },
     "execution_count": 111,
     "metadata": {},
     "output_type": "execute_result"
    }
   ],
   "source": [
    "# Group MOBILE and TABLET into MOBILE DEVICES\n",
    "dev_data['mobile devices'] = {}\n",
    "\n",
    "for device in dev_data:\n",
    "    \n",
    "    if device == 'mobile' or device == 'tablet':\n",
    "        metrics = dev_data[device]\n",
    "        \n",
    "        for metric in metrics:\n",
    "            dev_data['mobile devices'][metric] = 0\n",
    "            dev_data['mobile devices'][metric] += dev_data['mobile'][metric]+dev_data['tablet'][metric]\n",
    "            \n",
    "del dev_data['mobile']\n",
    "del dev_data['tablet']\n",
    "            \n",
    "dev_data"
   ]
  },
  {
   "cell_type": "code",
   "execution_count": 112,
   "metadata": {
    "collapsed": false
   },
   "outputs": [
    {
     "data": {
      "text/plain": [
       "{'desktop': {'bounces': 2251,\n",
       "  'conversion rate': 0.02744546094299789,\n",
       "  'conversions': 117,\n",
       "  'sessions': 4263},\n",
       " 'mobile devices': {'bounces': 1623,\n",
       "  'conversion rate': 0.011026615969581748,\n",
       "  'conversions': 29,\n",
       "  'sessions': 2630}}"
      ]
     },
     "execution_count": 112,
     "metadata": {},
     "output_type": "execute_result"
    }
   ],
   "source": [
    "# Calculate CONVERSION RATE\n",
    "\n",
    "for device in dev_data:\n",
    "    dev_data[device]['conversion rate'] = 0\n",
    "    dev_data[device]['conversion rate'] = dev_data[device]['conversions']/dev_data[device]['sessions']\n",
    "    \n",
    "dev_data"
   ]
  },
  {
   "cell_type": "markdown",
   "metadata": {},
   "source": [
    "### Print"
   ]
  },
  {
   "cell_type": "code",
   "execution_count": 113,
   "metadata": {
    "collapsed": false,
    "scrolled": true
   },
   "outputs": [
    {
     "data": {
      "text/plain": [
       "'38%'"
      ]
     },
     "execution_count": 113,
     "metadata": {},
     "output_type": "execute_result"
    }
   ],
   "source": [
    "# Calculate how conversions can increase in the next 4 monthes\n",
    "\n",
    "conv_increase =  int(dev_data['mobile devices']['sessions'] * dev_data['desktop']['conversion rate']\\\n",
    "                     - dev_data['mobile devices']['conversions'])\n",
    "\n",
    "mobile_CR = float(dev_data['mobile devices']['conversion rate'])\n",
    "mobile_CR = \"{0:.2f}%\".format(mobile_CR * 100)\n",
    "desktop_CR = float(dev_data['desktop']['conversion rate'])\n",
    "desktop_CR = \"{0:.2f}%\".format(desktop_CR * 100)\n",
    "\n",
    "mobile_session_share = dev_data['mobile devices']['sessions'] / (dev_data['mobile devices']['sessions']\\\n",
    "                                                                 + dev_data['desktop']['sessions'])\n",
    "mobile_session_share = \"{0:.0f}%\".format(mobile_session_share * 100)\n",
    "\n",
    "mobile_session_share"
   ]
  },
  {
   "cell_type": "code",
   "execution_count": 114,
   "metadata": {
    "collapsed": false,
    "scrolled": true
   },
   "outputs": [
    {
     "name": "stdout",
     "output_type": "stream",
     "text": [
      "Have 43 more conversions per month by optmising mobile UX\n",
      "Only 1.10% of all mobile visits end up completing a conversion\n"
     ]
    }
   ],
   "source": [
    "print (\"Have %s more conversions per month by optmising mobile UX\" % conv_increase)\n",
    "\n",
    "print (\"Only %s of all mobile visits end up completing a conversion\" % mobile_CR)"
   ]
  },
  {
   "cell_type": "code",
   "execution_count": 115,
   "metadata": {
    "collapsed": false
   },
   "outputs": [
    {
     "name": "stdout",
     "output_type": "stream",
     "text": [
      "Optimize Mobile UX to get additional 43 conversions per months from mobile devices. Mobile traffic is 38% of total however conversion rate is just 1.10% comparing to 2.74% of desktop.\n"
     ]
    }
   ],
   "source": [
    "print(\"Optimize Mobile UX to get additional %s conversions per months from mobile devices. Mobile traffic is %s of total however conversion rate is just %s comparing to %s of desktop.\" % (conv_increase, mobile_session_share, mobile_CR, desktop_CR))"
   ]
  },
  {
   "cell_type": "markdown",
   "metadata": {},
   "source": [
    "### Visualisation"
   ]
  },
  {
   "cell_type": "code",
   "execution_count": 98,
   "metadata": {
    "collapsed": false
   },
   "outputs": [],
   "source": [
    "import plotly"
   ]
  },
  {
   "cell_type": "code",
   "execution_count": 99,
   "metadata": {
    "collapsed": false
   },
   "outputs": [],
   "source": [
    "import plotly.plotly as py\n",
    "import plotly.figure_factory as ff\n",
    "from plotly import graph_objs as go\n",
    "from __future__ import division\n",
    "\n",
    "\n",
    "py.sign_in('m-nudha', 'NlSXxWgqIy6tgiVQIi6e')"
   ]
  },
  {
   "cell_type": "code",
   "execution_count": 100,
   "metadata": {
    "collapsed": false
   },
   "outputs": [
    {
     "data": {
      "text/plain": [
       "[2630, 1623, 29]"
      ]
     },
     "execution_count": 100,
     "metadata": {},
     "output_type": "execute_result"
    }
   ],
   "source": [
    "mob_metrics = []\n",
    "\n",
    "for metric in dev_data['mobile devices']:\n",
    "    if metric == \"sessions\" or metric == \"bounces\" or metric == \"conversions\":\n",
    "        mob_metrics.append(dev_data['mobile devices'][metric])\n",
    "\n",
    "mob_metrics"
   ]
  },
  {
   "cell_type": "code",
   "execution_count": 101,
   "metadata": {
    "collapsed": false
   },
   "outputs": [],
   "source": [
    "# chart stages data\n",
    "values = mob_metrics\n",
    "phases = ['All users', 'Engaged users', 'Converted users']\n",
    "\n",
    "# color of each funnel section\n",
    "colors = ['rgb(32,155,160)', 'rgb(253,93,124)', 'rgb(182,231,235)']"
   ]
  },
  {
   "cell_type": "code",
   "execution_count": 102,
   "metadata": {
    "collapsed": true
   },
   "outputs": [],
   "source": [
    "n_phase = len(phases)\n",
    "plot_width = 400\n",
    "\n",
    "# height of a section and difference between sections \n",
    "section_h = 100\n",
    "section_d = 10\n",
    "\n",
    "# multiplication factor to calculate the width of other sections\n",
    "unit_width = plot_width / max(values)\n",
    "\n",
    "# width of each funnel section relative to the plot width\n",
    "phase_w = [int(value * unit_width) for value in values]\n",
    "\n",
    "# plot height based on the number of sections and the gap in between them\n",
    "height = section_h * n_phase + section_d * (n_phase - 1)"
   ]
  },
  {
   "cell_type": "code",
   "execution_count": 103,
   "metadata": {
    "collapsed": true
   },
   "outputs": [],
   "source": [
    "# list containing all the plot shapes\n",
    "shapes = []\n",
    "\n",
    "# list containing the Y-axis location for each section's name and value text\n",
    "label_y = []\n",
    "\n",
    "for i in range(n_phase):\n",
    "        if (i == n_phase-1):\n",
    "                points = [phase_w[i] / 2, height, phase_w[i] / 2, height - section_h]\n",
    "        else:\n",
    "                points = [phase_w[i] / 2, height, phase_w[i+1] / 2, height - section_h]\n",
    "\n",
    "        path = 'M {0} {1} L {2} {3} L -{2} {3} L -{0} {1} Z'.format(*points)\n",
    "\n",
    "        shape = {\n",
    "                'type': 'path',\n",
    "                'path': path,\n",
    "                'fillcolor': colors[i],\n",
    "                'line': {\n",
    "                    'width': 1,\n",
    "                    'color': colors[i]\n",
    "                }\n",
    "        }\n",
    "        shapes.append(shape)\n",
    "        \n",
    "        # Y-axis location for this section's details (text)\n",
    "        label_y.append(height - (section_h / 2))\n",
    "\n",
    "        height = height - (section_h + section_d)"
   ]
  },
  {
   "cell_type": "code",
   "execution_count": 104,
   "metadata": {
    "collapsed": false
   },
   "outputs": [
    {
     "data": {
      "text/html": [
       "<iframe id=\"igraph\" scrolling=\"no\" style=\"border:none;\" seamless=\"seamless\" src=\"https://plot.ly/~m-nudha/32.embed\" height=\"560px\" width=\"800px\"></iframe>"
      ],
      "text/plain": [
       "<plotly.tools.PlotlyDisplay object>"
      ]
     },
     "execution_count": 104,
     "metadata": {},
     "output_type": "execute_result"
    }
   ],
   "source": [
    "# For phase names\n",
    "label_trace = go.Scatter(\n",
    "    x=[-350]*n_phase,\n",
    "    y=label_y,\n",
    "    mode='text',\n",
    "    text=phases,\n",
    "    textfont=dict(\n",
    "        color='rgb(200,200,200)',\n",
    "        size=15\n",
    "    )\n",
    ")\n",
    " \n",
    "# For phase values\n",
    "value_trace = go.Scatter(\n",
    "    x=[350]*n_phase,\n",
    "    y=label_y,\n",
    "    mode='text',\n",
    "    text=values,\n",
    "    textfont=dict(\n",
    "        color='rgb(200,200,200)',\n",
    "        size=15\n",
    "    )\n",
    ")\n",
    "\n",
    "data = [label_trace, value_trace]\n",
    " \n",
    "layout = go.Layout(\n",
    "    title=\"<b>Funnel Chart</b>\",\n",
    "    titlefont=dict(\n",
    "        size=20,\n",
    "        color='rgb(203,203,203)'\n",
    "    ),\n",
    "    shapes=shapes,\n",
    "    height=560,\n",
    "    width=800,\n",
    "    showlegend=False,\n",
    "    paper_bgcolor='rgba(44,58,71,1)',\n",
    "    plot_bgcolor='rgba(44,58,71,1)',\n",
    "    xaxis=dict(\n",
    "        showticklabels=False,\n",
    "        zeroline=False,\n",
    "    ),\n",
    "    yaxis=dict(\n",
    "        showticklabels=False,\n",
    "        zeroline=False\n",
    "    )\n",
    ")\n",
    " \n",
    "fig = go.Figure(data=data, layout=layout)\n",
    "py.iplot(fig)"
   ]
  },
  {
   "cell_type": "code",
   "execution_count": null,
   "metadata": {
    "collapsed": true
   },
   "outputs": [],
   "source": []
  },
  {
   "cell_type": "code",
   "execution_count": null,
   "metadata": {
    "collapsed": true
   },
   "outputs": [],
   "source": []
  }
 ],
 "metadata": {
  "anaconda-cloud": {},
  "kernelspec": {
   "display_name": "Python 3",
   "language": "python",
   "name": "python3"
  },
  "language_info": {
   "codemirror_mode": {
    "name": "ipython",
    "version": 3
   },
   "file_extension": ".py",
   "mimetype": "text/x-python",
   "name": "python",
   "nbconvert_exporter": "python",
   "pygments_lexer": "ipython3",
   "version": "3.6.0"
  }
 },
 "nbformat": 4,
 "nbformat_minor": 1
}
