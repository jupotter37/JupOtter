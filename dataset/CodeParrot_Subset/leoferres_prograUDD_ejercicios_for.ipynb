{
 "cells": [
  {
   "cell_type": "markdown",
   "metadata": {},
   "source": [
    "### Una contraseña es valida si cumple con lo siguiente:"
   ]
  },
  {
   "cell_type": "raw",
   "metadata": {},
   "source": [
    "    a) Debe tener un largo de al menos 8 caracteres\n",
    "    b) Al menos uno debe ser numerico\n",
    "    c) Debe contener exactamente un caracter que no sea letra ni numero.\n",
    "Cree un programa que solicite la contraseña e imprima si esta es valida."
   ]
  },
  {
   "cell_type": "code",
   "execution_count": 1,
   "metadata": {
    "collapsed": false
   },
   "outputs": [
    {
     "name": "stdout",
     "output_type": "stream",
     "text": [
      "Ingrese su contraseña: abcd123,\n"
     ]
    }
   ],
   "source": [
    "passwd = input(\"Ingrese su contraseña: \")"
   ]
  },
  {
   "cell_type": "code",
   "execution_count": 7,
   "metadata": {
    "collapsed": false
   },
   "outputs": [
    {
     "name": "stdout",
     "output_type": "stream",
     "text": [
      "Contraseña valida!!!\n"
     ]
    }
   ],
   "source": [
    "if len(passwd) < 8:\n",
    "    print(\"Contraseña no valida, faltan caracteres\")\n",
    "else:\n",
    "    cantnum = 0\n",
    "    cantsimb = 0\n",
    "    for i in passwd:\n",
    "        if i.isdigit():\n",
    "            cantnum += 1\n",
    "        elif not i.isalpha():\n",
    "            cantsimb += 1\n",
    "    if cantsimb != 1:\n",
    "        print(\"Contraseña no valida, debe tener solo un caracter no letra ni numero\")\n",
    "    elif cantnum == 0:\n",
    "        print(\"Contraseña no valida, no tiene numeros\")\n",
    "    else:\n",
    "        print(\"Contraseña valida!!!\")"
   ]
  },
  {
   "cell_type": "code",
   "execution_count": 6,
   "metadata": {
    "collapsed": false
   },
   "outputs": [
    {
     "name": "stdout",
     "output_type": "stream",
     "text": [
      "a False True\n",
      "b False True\n",
      "c False True\n",
      "d False True\n",
      "1 True False\n",
      "2 True False\n",
      "3 True False\n",
      ", False False\n"
     ]
    }
   ],
   "source": [
    "# aqui probamos primero para conocer las funciones con is.\n",
    "for i in passwd:\n",
    "    print(i, i.isdigit(), i.isalpha())"
   ]
  },
  {
   "cell_type": "markdown",
   "metadata": {},
   "source": [
    "### Imprima todos los numeros primos positivos menores que n, solicite el n."
   ]
  },
  {
   "cell_type": "code",
   "execution_count": 8,
   "metadata": {
    "collapsed": false
   },
   "outputs": [
    {
     "name": "stdout",
     "output_type": "stream",
     "text": [
      "Ingrese el n: 20\n"
     ]
    }
   ],
   "source": [
    "n = int(input(\"Ingrese el n: \"))"
   ]
  },
  {
   "cell_type": "code",
   "execution_count": 17,
   "metadata": {
    "collapsed": false
   },
   "outputs": [
    {
     "name": "stdout",
     "output_type": "stream",
     "text": [
      "2 es primo\n",
      "3 es primo\n",
      "5 es primo\n",
      "7 es primo\n",
      "11 es primo\n",
      "13 es primo\n",
      "17 es primo\n",
      "19 es primo\n"
     ]
    }
   ],
   "source": [
    "#ojo... podriamos saltar de a 2, desde el 3.\n",
    "for i in range(2,n):\n",
    "    cantdiv = 0\n",
    "    for j in range(2,int(i**0.5)+1):\n",
    "        if i%j == 0:\n",
    "            cantdiv += 1\n",
    "    if cantdiv == 0:\n",
    "        print(i, \"es primo\")"
   ]
  },
  {
   "cell_type": "markdown",
   "metadata": {},
   "source": [
    "### Solicite n y k y calcule $\\binom{n}{k}$"
   ]
  },
  {
   "cell_type": "raw",
   "metadata": {},
   "source": [
    "*** Realice la menor cantidad de calculos posibles"
   ]
  },
  {
   "cell_type": "code",
   "execution_count": 18,
   "metadata": {
    "collapsed": false
   },
   "outputs": [
    {
     "name": "stdout",
     "output_type": "stream",
     "text": [
      "Ingrese el n: 10\n"
     ]
    }
   ],
   "source": [
    "n = int(input(\"Ingrese el n: \"))"
   ]
  },
  {
   "cell_type": "code",
   "execution_count": 19,
   "metadata": {
    "collapsed": false
   },
   "outputs": [
    {
     "name": "stdout",
     "output_type": "stream",
     "text": [
      "Ingrese el k: 4\n"
     ]
    }
   ],
   "source": [
    "k = int(input(\"Ingrese el k: \"))"
   ]
  },
  {
   "cell_type": "code",
   "execution_count": 21,
   "metadata": {
    "collapsed": false
   },
   "outputs": [
    {
     "name": "stdout",
     "output_type": "stream",
     "text": [
      "El resultado es = 210.0\n"
     ]
    }
   ],
   "source": [
    "if n < 0 or k < 0:\n",
    "    print(\"No se puede calcular, hay un elemento negativo\")\n",
    "elif n < k:\n",
    "    print(\"No se puede calcular, n debe ser mayor o igual a k\")\n",
    "else:\n",
    "    menor = k\n",
    "    if (n-k) < menor:\n",
    "        menor = (n-k)\n",
    "    resultado = 1\n",
    "    for i in range(menor):\n",
    "        resultado *= (n-i)/(i+1)\n",
    "    print(\"El resultado es =\", resultado)"
   ]
  },
  {
   "cell_type": "markdown",
   "metadata": {},
   "source": [
    "## Se define como numero perfecto, aquél natural positivo en que la suma de sus divisores, no incluido si mismo, es el mismo número. "
   ]
  },
  {
   "cell_type": "raw",
   "metadata": {
    "collapsed": true
   },
   "source": [
    "Solicite un n e imprima los perfectos menores que n"
   ]
  },
  {
   "cell_type": "code",
   "execution_count": 23,
   "metadata": {
    "collapsed": false
   },
   "outputs": [
    {
     "name": "stdout",
     "output_type": "stream",
     "text": [
      "Ingrese su n: 10000\n"
     ]
    }
   ],
   "source": [
    "# obviaremos chequeo que sea positivo\n",
    "n = int(input(\"Ingrese su n: \"))"
   ]
  },
  {
   "cell_type": "code",
   "execution_count": 25,
   "metadata": {
    "collapsed": false
   },
   "outputs": [
    {
     "name": "stdout",
     "output_type": "stream",
     "text": [
      "6 es perfecto\n",
      "28 es perfecto\n",
      "496 es perfecto\n",
      "8128 es perfecto\n"
     ]
    }
   ],
   "source": [
    "for i in range(1, n+1):\n",
    "    suma = 0\n",
    "    for j in range(1,i):\n",
    "        if i%j == 0:\n",
    "            suma += j\n",
    "    if suma == i:\n",
    "        print(i, \"es perfecto\")"
   ]
  },
  {
   "cell_type": "code",
   "execution_count": 28,
   "metadata": {
    "collapsed": false
   },
   "outputs": [
    {
     "name": "stdout",
     "output_type": "stream",
     "text": [
      "1\n",
      "2\n",
      "4\n",
      "8\n",
      "16\n",
      "31\n",
      "62\n",
      "124\n",
      "248\n"
     ]
    }
   ],
   "source": [
    "for i in range(1, 496):\n",
    "    if 496%i == 0:\n",
    "        print(i)"
   ]
  }
 ],
 "metadata": {
  "kernelspec": {
   "display_name": "Python 3",
   "language": "python",
   "name": "python3"
  },
  "language_info": {
   "codemirror_mode": {
    "name": "ipython",
    "version": 3
   },
   "file_extension": ".py",
   "mimetype": "text/x-python",
   "name": "python",
   "nbconvert_exporter": "python",
   "pygments_lexer": "ipython3",
   "version": "3.6.0"
  }
 },
 "nbformat": 4,
 "nbformat_minor": 2
}
