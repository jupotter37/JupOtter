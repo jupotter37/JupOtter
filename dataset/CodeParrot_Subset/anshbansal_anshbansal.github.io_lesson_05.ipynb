{
 "cells": [
  {
   "cell_type": "markdown",
   "metadata": {},
   "source": [
    "# Lesson 5 - Datasets and Questions\n",
    "\n",
    "## What is a person of interest?\n",
    "- people who were sentenced\n",
    "- people who settled without admitting guilt\n",
    "- testified in exchange for immunity"
   ]
  },
  {
   "cell_type": "markdown",
   "metadata": {},
   "source": [
    "## Accuracy vs Training Set Size\n",
    "- size of training set is important as it has a big affect on the accuracy that we are able to achieve\n",
    "\n",
    "example\n",
    "- physics problem\n",
    "- was using naive bayes to classify particles\n",
    "- 1000 events\n",
    "- Was this much events enough to capture all trends in the data?\n",
    "- divided training data into batches of 200. Trained it with 200, 400, 600 and 800. Then test it with remaining 200 events\n",
    "\n",
    "![](accuracy_training_set_size.png)\n",
    "\n",
    "- we have around 30 people in our Enron data set. Is that enough? We don't really know. There is no good way except to try it out\n",
    "- we need to find how the accuracy changes with the number of training data. Can we get more data? If we can then asking this series of questions can be really helpful\n",
    "- Having more data almost always helps the performance of your algorithm  "
   ]
  },
  {
   "cell_type": "markdown",
   "metadata": {},
   "source": [
    "## Enron Data\n",
    "- Katie downloaded the data set and cross checked the mails with the persons of interest list\n",
    "- Found that the data set only had 4 or 5 people whose inbox was there in the data set. "
   ]
  },
  {
   "cell_type": "markdown",
   "metadata": {},
   "source": [
    "## Types of Data\n",
    "- Numerical \n",
    "- Categorical - limited number of discrete values (category)\n",
    "- time series - temporal values (date, timestamp)\n",
    "- text - words"
   ]
  }
 ],
 "metadata": {
  "kernelspec": {
   "display_name": "Python 2",
   "language": "python",
   "name": "python2"
  },
  "language_info": {
   "codemirror_mode": {
    "name": "ipython",
    "version": 2
   },
   "file_extension": ".py",
   "mimetype": "text/x-python",
   "name": "python",
   "nbconvert_exporter": "python",
   "pygments_lexer": "ipython2",
   "version": "2.7.12"
  }
 },
 "nbformat": 4,
 "nbformat_minor": 0
}
