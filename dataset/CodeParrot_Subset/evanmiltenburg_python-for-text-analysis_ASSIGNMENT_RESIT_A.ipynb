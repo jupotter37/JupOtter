{
  "nbformat": 4,
  "nbformat_minor": 0,
  "metadata": {
    "kernelspec": {
      "display_name": "Python 3",
      "language": "python",
      "name": "python3"
    },
    "language_info": {
      "codemirror_mode": {
        "name": "ipython",
        "version": 3
      },
      "file_extension": ".py",
      "mimetype": "text/x-python",
      "name": "python",
      "nbconvert_exporter": "python",
      "pygments_lexer": "ipython3",
      "version": "3.8.5"
    },
    "colab": {
      "name": "ASSIGNMENT-RESIT-A.ipynb",
      "provenance": [],
      "include_colab_link": true
    }
  },
  "cells": [
    {
      "cell_type": "markdown",
      "metadata": {
        "id": "view-in-github",
        "colab_type": "text"
      },
      "source": [
        "<a href=\"https://colab.research.google.com/github/cltl/python-for-text-analysis/blob/colab/Assignments-colab/ASSIGNMENT_RESIT_A.ipynb\" target=\"_parent\"><img src=\"https://colab.research.google.com/assets/colab-badge.svg\" alt=\"Open In Colab\"/></a>"
      ]
    },
    {
      "cell_type": "code",
      "metadata": {
        "id": "j8tiMr4sQhXs"
      },
      "source": [
        "%%capture\n",
        "!wget https://github.com/cltl/python-for-text-analysis/raw/master/zips/Data.zip\n",
        "!wget https://github.com/cltl/python-for-text-analysis/raw/master/zips/images.zip\n",
        "!wget https://github.com/cltl/python-for-text-analysis/raw/master/zips/Extra_Material.zip\n",
        "\n",
        "!unzip Data.zip -d ../\n",
        "!unzip images.zip -d ./\n",
        "!unzip Extra_Material.zip -d ../\n",
        "\n",
        "!rm Data.zip\n",
        "!rm Extra_Material.zip\n",
        "!rm images.zip"
      ],
      "execution_count": 1,
      "outputs": []
    },
    {
      "cell_type": "markdown",
      "metadata": {
        "id": "b5MPzjWHQgUv"
      },
      "source": [
        "# Resit Assignment part A\n",
        "\n",
        "**Deadline: Friday, November 13, 2020 before 17:00** \n",
        "\n",
        "- Please name your files: \n",
        "    * ASSIGNMENT-RESIT-A.ipynb\n",
        "    * utils.py (from part B)\n",
        "    * raw_text_to_coll.py (from part B)\n",
        "\n",
        "Please name your zip file as follows: RESIT-ASSIGNMENT.zip and upload it via Canvas (Resit Assignment). \n",
        "- Please submit your assignment on Canvas: Resit Assignment\n",
        "- If you have **questions** about this topic, please contact **cltl.python.course@gmail.com**.\n",
        "\n",
        "    \n",
        "Questions and answers will be collected in [this Q&A document](https://docs.google.com/document/d/1Yf2lE6HdApz4wSgNpxWL_nnVcXED1YNW8Rg__wCKcvs/edit?usp=sharing), \n",
        "so please check if your question has already been answered.\n",
        "\n",
        "All of the covered chapters are important to this assignment. However, please pay special attention to:\n",
        "- Chapter 10 - Dictionaries\n",
        "- Chapter 11 - Functions and scope\n",
        "* Chapter 14 - Reading and writing text files\n",
        "* Chapter 15 - Off to analyzing text \n",
        "- Chapter 17 - Data Formats II (JSON)\n",
        "- Chapter 19 - More about Natural Language Processing Tools (spaCy)\n",
        "\n",
        "\n",
        "In this assignment:\n",
        "* we are going to process the texts in ../Data/Dreams/*txt\n",
        "* for each file, we are going to determine:\n",
        "    * the number of characters\n",
        "    * the number of sentences\n",
        "    * the number of words\n",
        "    * the longest word\n",
        "    * the longest sentence"
      ]
    },
    {
      "cell_type": "markdown",
      "metadata": {
        "id": "xGo-rcx0QgUz"
      },
      "source": [
        "## Note\n",
        "This notebook should be placed in the same folder as the other Assignments!"
      ]
    },
    {
      "cell_type": "markdown",
      "metadata": {
        "id": "wRIdUhrKQgUz"
      },
      "source": [
        "## Loading spaCy"
      ]
    },
    {
      "cell_type": "markdown",
      "metadata": {
        "id": "AK2sqPb8QgU0"
      },
      "source": [
        "Please make sure that spaCy is installed on your computer"
      ]
    },
    {
      "cell_type": "code",
      "metadata": {
        "id": "RPDXvejPQgU0"
      },
      "source": [
        "import spacy"
      ],
      "execution_count": 2,
      "outputs": []
    },
    {
      "cell_type": "markdown",
      "metadata": {
        "id": "dMw_DCmIQgU1"
      },
      "source": [
        "Please make sure you can load the English spaCy model:"
      ]
    },
    {
      "cell_type": "code",
      "metadata": {
        "id": "LphmBOC8QgU1"
      },
      "source": [
        "nlp = spacy.load('en_core_web_sm')"
      ],
      "execution_count": 3,
      "outputs": []
    },
    {
      "cell_type": "markdown",
      "metadata": {
        "id": "H0N7k9KMQgU2"
      },
      "source": [
        "## Exercise 1: get paths"
      ]
    },
    {
      "cell_type": "markdown",
      "metadata": {
        "id": "08Q0fDERQgU3"
      },
      "source": [
        "Define a function called **get_paths** that has the following parameter: \n",
        "* **input_folder**: a string\n",
        "\n",
        "The function:\n",
        "* stores all paths to .txt files in the *input_folder* in a list\n",
        "* returns a list of strings, i.e., each string is a file path"
      ]
    },
    {
      "cell_type": "code",
      "metadata": {
        "id": "IqoYcOHIQgU3"
      },
      "source": [
        "# your code here"
      ],
      "execution_count": 4,
      "outputs": []
    },
    {
      "cell_type": "markdown",
      "metadata": {
        "id": "5Jr6byFjQgU3"
      },
      "source": [
        "Please test your function using the following function call"
      ]
    },
    {
      "cell_type": "code",
      "metadata": {
        "colab": {
          "base_uri": "https://localhost:8080/",
          "height": 183
        },
        "id": "6NnUwUS-QgU4",
        "outputId": "49c6aac1-40ed-4e12-ec1a-7cfeedfd6252"
      },
      "source": [
        "paths = get_paths(input_folder='../Data/Dreams')\n",
        "print(paths)"
      ],
      "execution_count": 5,
      "outputs": [
        {
          "output_type": "error",
          "ename": "NameError",
          "evalue": "ignored",
          "traceback": [
            "\u001b[0;31m---------------------------------------------------------------------------\u001b[0m",
            "\u001b[0;31mNameError\u001b[0m                                 Traceback (most recent call last)",
            "\u001b[0;32m<ipython-input-5-fe4b98dbbbf6>\u001b[0m in \u001b[0;36m<module>\u001b[0;34m()\u001b[0m\n\u001b[0;32m----> 1\u001b[0;31m \u001b[0mpaths\u001b[0m \u001b[0;34m=\u001b[0m \u001b[0mget_paths\u001b[0m\u001b[0;34m(\u001b[0m\u001b[0minput_folder\u001b[0m\u001b[0;34m=\u001b[0m\u001b[0;34m'../Data/Dreams'\u001b[0m\u001b[0;34m)\u001b[0m\u001b[0;34m\u001b[0m\u001b[0;34m\u001b[0m\u001b[0m\n\u001b[0m\u001b[1;32m      2\u001b[0m \u001b[0mprint\u001b[0m\u001b[0;34m(\u001b[0m\u001b[0mpaths\u001b[0m\u001b[0;34m)\u001b[0m\u001b[0;34m\u001b[0m\u001b[0;34m\u001b[0m\u001b[0m\n",
            "\u001b[0;31mNameError\u001b[0m: name 'get_paths' is not defined"
          ]
        }
      ]
    },
    {
      "cell_type": "markdown",
      "metadata": {
        "id": "555Gcum3QgU4"
      },
      "source": [
        "## Exercise 2: load text"
      ]
    },
    {
      "cell_type": "markdown",
      "metadata": {
        "id": "4Eqk0dHXQgU4"
      },
      "source": [
        "Define a function called **load_text** that has the following parameter: \n",
        "* **txt_path**: a string\n",
        "\n",
        "\n",
        "The function:\n",
        "* opens the **txt_path** for reading and loads the contents of the file as a string\n",
        "* returns a string, i.e., the content of the file"
      ]
    },
    {
      "cell_type": "code",
      "metadata": {
        "id": "StwFWdNuQgU5"
      },
      "source": [
        "# your code here"
      ],
      "execution_count": 6,
      "outputs": []
    },
    {
      "cell_type": "markdown",
      "metadata": {
        "id": "x7xkfnLDQgU5"
      },
      "source": [
        "## Exercise 3: return the longest"
      ]
    },
    {
      "cell_type": "markdown",
      "metadata": {
        "id": "jLViOXz3QgU5"
      },
      "source": [
        "Define a function called **return_the_longest** that has the following parameter: \n",
        "* **list_of_strings**: a list of strings\n",
        "\n",
        "\n",
        "The function:\n",
        "* returns the string with the highest number of characters. If multiple strings have the same length, return one of them."
      ]
    },
    {
      "cell_type": "code",
      "metadata": {
        "id": "r3FzxYGUQgU7"
      },
      "source": [
        "def return_the_longest(list_of_strings):\n",
        "    \"\"\"\n",
        "    given a list of strings, return the longest string\n",
        "    if multiple strings have the same length, return one of them.\n",
        "    \n",
        "    :param str list_of_strings: a list of strings\n",
        "    \n",
        "    \"\"\""
      ],
      "execution_count": 7,
      "outputs": []
    },
    {
      "cell_type": "markdown",
      "metadata": {
        "id": "IJcupO5RQgU8"
      },
      "source": [
        "Please test you function by running the following cell:"
      ]
    },
    {
      "cell_type": "code",
      "metadata": {
        "colab": {
          "base_uri": "https://localhost:8080/",
          "height": 200
        },
        "id": "xNabtw1xQgU8",
        "outputId": "b99144ea-48ba-4aa8-9266-d04ebc584f15"
      },
      "source": [
        "a_list_of_strings = [\"this\", \"is\", \"a\", \"sentence\"]\n",
        "longest_string = return_the_longest(a_list_of_strings)\n",
        "\n",
        "error_message = f'the longest string should be \"sentence\", you provided {longest_string}'\n",
        "assert longest_string == 'sentence', error_message"
      ],
      "execution_count": 8,
      "outputs": [
        {
          "output_type": "error",
          "ename": "AssertionError",
          "evalue": "ignored",
          "traceback": [
            "\u001b[0;31m---------------------------------------------------------------------------\u001b[0m",
            "\u001b[0;31mAssertionError\u001b[0m                            Traceback (most recent call last)",
            "\u001b[0;32m<ipython-input-8-67458fec4e1a>\u001b[0m in \u001b[0;36m<module>\u001b[0;34m()\u001b[0m\n\u001b[1;32m      3\u001b[0m \u001b[0;34m\u001b[0m\u001b[0m\n\u001b[1;32m      4\u001b[0m \u001b[0merror_message\u001b[0m \u001b[0;34m=\u001b[0m \u001b[0;34mf'the longest string should be \"sentence\", you provided {longest_string}'\u001b[0m\u001b[0;34m\u001b[0m\u001b[0;34m\u001b[0m\u001b[0m\n\u001b[0;32m----> 5\u001b[0;31m \u001b[0;32massert\u001b[0m \u001b[0mlongest_string\u001b[0m \u001b[0;34m==\u001b[0m \u001b[0;34m'sentence'\u001b[0m\u001b[0;34m,\u001b[0m \u001b[0merror_message\u001b[0m\u001b[0;34m\u001b[0m\u001b[0;34m\u001b[0m\u001b[0m\n\u001b[0m",
            "\u001b[0;31mAssertionError\u001b[0m: the longest string should be \"sentence\", you provided None"
          ]
        }
      ]
    },
    {
      "cell_type": "markdown",
      "metadata": {
        "id": "BxFBm1B3QgU8"
      },
      "source": [
        "## Exercise 4: extract statistics\n",
        "We are going to use spaCy to extract statistics from Vickie's dreams! Here are a few tips below about how to use spaCy:"
      ]
    },
    {
      "cell_type": "markdown",
      "metadata": {
        "id": "KvdyebpZQgU8"
      },
      "source": [
        "#### tip 1: process text with spaCy"
      ]
    },
    {
      "cell_type": "code",
      "metadata": {
        "id": "SXnkO4N1QgU8"
      },
      "source": [
        "a_text = 'this is one sentence. this is another.'\n",
        "doc = nlp(a_text)"
      ],
      "execution_count": 9,
      "outputs": []
    },
    {
      "cell_type": "markdown",
      "metadata": {
        "id": "MXVbcd8SQgU9"
      },
      "source": [
        "#### tip 2: the number of characters is the length of the document"
      ]
    },
    {
      "cell_type": "code",
      "metadata": {
        "colab": {
          "base_uri": "https://localhost:8080/"
        },
        "id": "bV-kDL_3QgU9",
        "outputId": "851f3445-51c4-4bc1-9765-76eec3254df7"
      },
      "source": [
        "num_chars = len(doc.text)\n",
        "print(num_chars)"
      ],
      "execution_count": 10,
      "outputs": [
        {
          "output_type": "stream",
          "name": "stdout",
          "text": [
            "38\n"
          ]
        }
      ]
    },
    {
      "cell_type": "markdown",
      "metadata": {
        "id": "f8bcSpWhQgU9"
      },
      "source": [
        "#### tip 3: loop through the sentences of a document"
      ]
    },
    {
      "cell_type": "code",
      "metadata": {
        "colab": {
          "base_uri": "https://localhost:8080/"
        },
        "id": "rXRz3EipQgU9",
        "outputId": "960dd8f8-d091-4669-d83a-65ceb9fef9fe"
      },
      "source": [
        "for sent in doc.sents:\n",
        "    sent = sent.text\n",
        "    print(sent)"
      ],
      "execution_count": 11,
      "outputs": [
        {
          "output_type": "stream",
          "name": "stdout",
          "text": [
            "this is one sentence.\n",
            "this is another.\n"
          ]
        }
      ]
    },
    {
      "cell_type": "markdown",
      "metadata": {
        "id": "TQQigbyVQgU9"
      },
      "source": [
        "#### tip 4: loop through the words of a document"
      ]
    },
    {
      "cell_type": "code",
      "metadata": {
        "colab": {
          "base_uri": "https://localhost:8080/"
        },
        "id": "vQsoRMNtQgU9",
        "outputId": "a26e605d-141a-40f4-c39b-e77225588116"
      },
      "source": [
        "for token in doc:\n",
        "    word = token.text\n",
        "    print(word)"
      ],
      "execution_count": 12,
      "outputs": [
        {
          "output_type": "stream",
          "name": "stdout",
          "text": [
            "this\n",
            "is\n",
            "one\n",
            "sentence\n",
            ".\n",
            "this\n",
            "is\n",
            "another\n",
            ".\n"
          ]
        }
      ]
    },
    {
      "cell_type": "markdown",
      "metadata": {
        "id": "UXfd8gY4QgU-"
      },
      "source": [
        "Define a function called **extract_statistics** that has the following parameters: \n",
        "* **nlp**: the result of calling spacy.load('en_core_web_sm')\n",
        "* **txt_path**: path to a txt file, e.g., '../Data/Dreams/vickie8.txt'\n",
        "\n",
        "The function:\n",
        "* loads the content of the file using the function **load_text**\n",
        "* processes the content of the file using **nlp(content)** (see tip 1 of this exercise)\n",
        "\n",
        "The function returns a dictionary with five keys:\n",
        "* **num_sents**: the number of sentences in the document\n",
        "* **num_chars**: the number of characters in the document\n",
        "* **num_tokens**: the number of words in the document\n",
        "* **longest_sent**: the longest sentence in the document\n",
        "    * Please make a list with all the sentences and call the function **return_the_longest** to retrieve the longest sentence\n",
        "* **longest_word**: the longest word in the document\n",
        "    * Please make a list with all the words and call the function **return_the_longest** to retrieve the longest word\n",
        "    \n",
        "Test the function on one of the files from Vickie's dreams."
      ]
    },
    {
      "cell_type": "code",
      "metadata": {
        "id": "KnlcLOB0QgU-"
      },
      "source": [
        "def extract_statistics(nlp, txt_path):\n",
        "    \"\"\"\n",
        "    given a txt_path\n",
        "    -use the load_text function to load the text\n",
        "    -process the text using spaCy\n",
        "    \n",
        "    :param nlp: loaded spaCy model (result of calling spacy.load('en_core_web_sm'))\n",
        "    :param str txt_path: path to txt file\n",
        "    \n",
        "    :rtype: dict\n",
        "    :return: a dictionary with the following keys:\n",
        "    -\"num_sents\" : the number of sentences\n",
        "    -\"num_chars\" : the number of characters \n",
        "    -\"num_tokens\" : the number of words \n",
        "    -\"longest_sent\" : the longest sentence\n",
        "    -\"longest_word\" : the longest word\n",
        "    \"\"\""
      ],
      "execution_count": 13,
      "outputs": []
    },
    {
      "cell_type": "code",
      "metadata": {
        "colab": {
          "base_uri": "https://localhost:8080/",
          "height": 183
        },
        "id": "fqErXzWhQgU-",
        "outputId": "4ce32880-8b3f-4064-f0b1-9258bcc8f955"
      },
      "source": [
        "stats = extract_statistics(nlp, txt_path=paths[0])\n",
        "stats"
      ],
      "execution_count": 14,
      "outputs": [
        {
          "output_type": "error",
          "ename": "NameError",
          "evalue": "ignored",
          "traceback": [
            "\u001b[0;31m---------------------------------------------------------------------------\u001b[0m",
            "\u001b[0;31mNameError\u001b[0m                                 Traceback (most recent call last)",
            "\u001b[0;32m<ipython-input-14-3567329601d5>\u001b[0m in \u001b[0;36m<module>\u001b[0;34m()\u001b[0m\n\u001b[0;32m----> 1\u001b[0;31m \u001b[0mstats\u001b[0m \u001b[0;34m=\u001b[0m \u001b[0mextract_statistics\u001b[0m\u001b[0;34m(\u001b[0m\u001b[0mnlp\u001b[0m\u001b[0;34m,\u001b[0m \u001b[0mtxt_path\u001b[0m\u001b[0;34m=\u001b[0m\u001b[0mpaths\u001b[0m\u001b[0;34m[\u001b[0m\u001b[0;36m0\u001b[0m\u001b[0;34m]\u001b[0m\u001b[0;34m)\u001b[0m\u001b[0;34m\u001b[0m\u001b[0;34m\u001b[0m\u001b[0m\n\u001b[0m\u001b[1;32m      2\u001b[0m \u001b[0mstats\u001b[0m\u001b[0;34m\u001b[0m\u001b[0;34m\u001b[0m\u001b[0m\n",
            "\u001b[0;31mNameError\u001b[0m: name 'paths' is not defined"
          ]
        }
      ]
    },
    {
      "cell_type": "markdown",
      "metadata": {
        "id": "7SjGKr1dQgU-"
      },
      "source": [
        "## Exercise 5: process all txt files"
      ]
    },
    {
      "cell_type": "markdown",
      "metadata": {
        "id": "TkdsrGH_QgU-"
      },
      "source": [
        "#### tip 1: how to obtain the basename of a file"
      ]
    },
    {
      "cell_type": "code",
      "metadata": {
        "id": "OJYQdyiyQgU-"
      },
      "source": [
        "import os"
      ],
      "execution_count": 15,
      "outputs": []
    },
    {
      "cell_type": "code",
      "metadata": {
        "colab": {
          "base_uri": "https://localhost:8080/"
        },
        "id": "PvGYNffVQgU_",
        "outputId": "50e1c1cd-dfcc-4faf-8a01-2136fa18655c"
      },
      "source": [
        "basename = os.path.basename('../Data/Dreams/vickie1.txt')[:-4]\n",
        "print(basename)"
      ],
      "execution_count": 16,
      "outputs": [
        {
          "output_type": "stream",
          "name": "stdout",
          "text": [
            "vickie1\n"
          ]
        }
      ]
    },
    {
      "cell_type": "markdown",
      "metadata": {
        "id": "D3NSsNSbQgU_"
      },
      "source": [
        "Define a function called **process_all_txt_files** that has the following parameters: \n",
        "* **nlp**: the result of calling spacy.load('en_core_web_sm')\n",
        "* **input_folder**: a string (we will test it using '../Data/Dreams')\n",
        "\n",
        "The function:\n",
        "* obtains a list of txt paths using the function **get_paths** with **input_folder** as an argument\n",
        "* loops through the txt paths one by one\n",
        "* for each iteration, the **extract_statistics** function is called with **txt_path** as an argument\n",
        "\n",
        "The function returns a dictionary:\n",
        "* the keys are the basenames of the txt files (see tip 1 of this exercise)\n",
        "* the values are the output of calling the function **extract_statistics** for a specific file\n",
        "\n",
        "Test your function using '../Data/Dreams' as a value for the parameter *input_folder*."
      ]
    },
    {
      "cell_type": "code",
      "metadata": {
        "id": "DyS21BoYQgU_"
      },
      "source": [
        "def process_all_txt_files(nlp, input_folder):\n",
        "    \"\"\"\n",
        "    given a list of txt_paths\n",
        "    -process each with the extract_statistics function\n",
        "    \n",
        "    :param nlp: loaded spaCy model (result of calling spacy.load('en_core_web_sm'))\n",
        "    :param list txt_paths: list of paths to txt files\n",
        "    \n",
        "    :rtype: dict\n",
        "    :return: dictionary mapping:\n",
        "    -basename -> output of extract_statistics function\n",
        "    \"\"\""
      ],
      "execution_count": 17,
      "outputs": []
    },
    {
      "cell_type": "code",
      "metadata": {
        "id": "R2Q6po1qQgU_"
      },
      "source": [
        "basename_to_stats = process_all_txt_files(nlp, input_folder='../Data/Dreams')\n",
        "basename_to_stats"
      ],
      "execution_count": 18,
      "outputs": []
    },
    {
      "cell_type": "markdown",
      "metadata": {
        "id": "L2kMZogkQgU_"
      },
      "source": [
        "## Exercise 6: write to disk"
      ]
    },
    {
      "cell_type": "markdown",
      "metadata": {
        "id": "XJwunv54QgU_"
      },
      "source": [
        "In this exercise, you are going to write our results to our computer.\n",
        "Please loop through **basename_to_stats** and create one JSON file for each dream.\n",
        "\n",
        "* the path is f'{basename}.json', i.e., 'vickie1.json', 'vickie2.json', etc. (please write them to the same folder as this notebook)\n",
        "* the content of each JSON file is each value of **basename_to_stats**"
      ]
    },
    {
      "cell_type": "code",
      "metadata": {
        "id": "v1zsDtKYQgU_"
      },
      "source": [
        "import json"
      ],
      "execution_count": 19,
      "outputs": []
    },
    {
      "cell_type": "code",
      "metadata": {
        "colab": {
          "base_uri": "https://localhost:8080/",
          "height": 183
        },
        "id": "b2-mGSBkQgVA",
        "outputId": "619418a2-1410-4851-f22a-1396004bcf0c"
      },
      "source": [
        "for basename, stats in basename_to_stats.items():\n",
        "    pass"
      ],
      "execution_count": 20,
      "outputs": [
        {
          "output_type": "error",
          "ename": "AttributeError",
          "evalue": "ignored",
          "traceback": [
            "\u001b[0;31m---------------------------------------------------------------------------\u001b[0m",
            "\u001b[0;31mAttributeError\u001b[0m                            Traceback (most recent call last)",
            "\u001b[0;32m<ipython-input-20-9b1a00c298dd>\u001b[0m in \u001b[0;36m<module>\u001b[0;34m()\u001b[0m\n\u001b[0;32m----> 1\u001b[0;31m \u001b[0;32mfor\u001b[0m \u001b[0mbasename\u001b[0m\u001b[0;34m,\u001b[0m \u001b[0mstats\u001b[0m \u001b[0;32min\u001b[0m \u001b[0mbasename_to_stats\u001b[0m\u001b[0;34m.\u001b[0m\u001b[0mitems\u001b[0m\u001b[0;34m(\u001b[0m\u001b[0;34m)\u001b[0m\u001b[0;34m:\u001b[0m\u001b[0;34m\u001b[0m\u001b[0;34m\u001b[0m\u001b[0m\n\u001b[0m\u001b[1;32m      2\u001b[0m     \u001b[0;32mpass\u001b[0m\u001b[0;34m\u001b[0m\u001b[0;34m\u001b[0m\u001b[0m\n",
            "\u001b[0;31mAttributeError\u001b[0m: 'NoneType' object has no attribute 'items'"
          ]
        }
      ]
    },
    {
      "cell_type": "code",
      "metadata": {
        "id": "9nPnFXmwQgVA"
      },
      "source": [
        ""
      ],
      "execution_count": 20,
      "outputs": []
    }
  ]
}