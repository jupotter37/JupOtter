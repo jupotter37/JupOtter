{
 "cells": [
  {
   "cell_type": "markdown",
   "metadata": {},
   "source": [
    "## Sample test 생성"
   ]
  },
  {
   "cell_type": "code",
   "execution_count": 42,
   "metadata": {},
   "outputs": [
    {
     "data": {
      "text/plain": [
       "[{'apple': 50,\n",
       "  'banana': 30,\n",
       "  'orange': 40,\n",
       "  'mango': 40,\n",
       "  'blueberry': 30,\n",
       "  'pizza': 40,\n",
       "  'cheese': 10,\n",
       "  'naruto': 20},\n",
       " {'banana': 20,\n",
       "  'orange': 20,\n",
       "  'blueberry': 40,\n",
       "  'pizza': 30,\n",
       "  'cheese': 30,\n",
       "  'naruto': 10},\n",
       " {'apple': 50, 'orange': 30, 'blueberry': 40, 'cheese': 50, 'naruto': 40},\n",
       " {'banana': 20, 'orange': 20, 'mango': 50, 'cheese': 10, 'naruto': 50},\n",
       " {'banana': 30,\n",
       "  'orange': 10,\n",
       "  'mango': 40,\n",
       "  'blueberry': 40,\n",
       "  'cheese': 50,\n",
       "  'naruto': 50}]"
      ]
     },
     "execution_count": 42,
     "metadata": {},
     "output_type": "execute_result"
    }
   ],
   "source": [
    "import random \n",
    "\n",
    "alldata = []\n",
    "all_words = \"apple banana orange mango blueberry pizza cheese naruto\".split()\n",
    "for _ in range(5):\n",
    "    fruit = {}\n",
    "    for word in all_words: \n",
    "        n = random.randint(0,5) * 10\n",
    "        if n != 0:\n",
    "            fruit[word] = n\n",
    "    # print fruit\n",
    "    alldata.append(fruit)\n",
    "\n",
    "alldata"
   ]
  },
  {
   "cell_type": "markdown",
   "metadata": {},
   "source": [
    "## pandas 에 추가"
   ]
  },
  {
   "cell_type": "code",
   "execution_count": 43,
   "metadata": {},
   "outputs": [],
   "source": [
    "import pandas as pd "
   ]
  },
  {
   "cell_type": "code",
   "execution_count": 44,
   "metadata": {},
   "outputs": [
    {
     "data": {
      "text/html": [
       "<div>\n",
       "<style scoped>\n",
       "    .dataframe tbody tr th:only-of-type {\n",
       "        vertical-align: middle;\n",
       "    }\n",
       "\n",
       "    .dataframe tbody tr th {\n",
       "        vertical-align: top;\n",
       "    }\n",
       "\n",
       "    .dataframe thead th {\n",
       "        text-align: right;\n",
       "    }\n",
       "</style>\n",
       "<table border=\"1\" class=\"dataframe\">\n",
       "  <thead>\n",
       "    <tr style=\"text-align: right;\">\n",
       "      <th></th>\n",
       "      <th>all</th>\n",
       "    </tr>\n",
       "  </thead>\n",
       "  <tbody>\n",
       "    <tr>\n",
       "      <th>0</th>\n",
       "      <td>{'apple': 50, 'banana': 30, 'orange': 40, 'man...</td>\n",
       "    </tr>\n",
       "    <tr>\n",
       "      <th>1</th>\n",
       "      <td>{'banana': 20, 'orange': 20, 'blueberry': 40, ...</td>\n",
       "    </tr>\n",
       "    <tr>\n",
       "      <th>2</th>\n",
       "      <td>{'apple': 50, 'orange': 30, 'blueberry': 40, '...</td>\n",
       "    </tr>\n",
       "    <tr>\n",
       "      <th>3</th>\n",
       "      <td>{'banana': 20, 'orange': 20, 'mango': 50, 'che...</td>\n",
       "    </tr>\n",
       "    <tr>\n",
       "      <th>4</th>\n",
       "      <td>{'banana': 30, 'orange': 10, 'mango': 40, 'blu...</td>\n",
       "    </tr>\n",
       "  </tbody>\n",
       "</table>\n",
       "</div>"
      ],
      "text/plain": [
       "                                                 all\n",
       "0  {'apple': 50, 'banana': 30, 'orange': 40, 'man...\n",
       "1  {'banana': 20, 'orange': 20, 'blueberry': 40, ...\n",
       "2  {'apple': 50, 'orange': 30, 'blueberry': 40, '...\n",
       "3  {'banana': 20, 'orange': 20, 'mango': 50, 'che...\n",
       "4  {'banana': 30, 'orange': 10, 'mango': 40, 'blu..."
      ]
     },
     "execution_count": 44,
     "metadata": {},
     "output_type": "execute_result"
    }
   ],
   "source": [
    "df = pd.DataFrame()\n",
    "df['all'] = alldata\n",
    "df"
   ]
  },
  {
   "cell_type": "markdown",
   "metadata": {},
   "source": [
    "## 함수 정의"
   ]
  },
  {
   "cell_type": "code",
   "execution_count": 45,
   "metadata": {},
   "outputs": [],
   "source": [
    "def getCount(item, **kwargs):\n",
    "    column = kwargs['name']\n",
    "    if column in item:\n",
    "        return item[column]\n",
    "    else:\n",
    "        return 0"
   ]
  },
  {
   "cell_type": "code",
   "execution_count": 46,
   "metadata": {},
   "outputs": [
    {
     "data": {
      "text/plain": [
       "{'apple': 50,\n",
       " 'banana': 30,\n",
       " 'orange': 40,\n",
       " 'mango': 40,\n",
       " 'blueberry': 30,\n",
       " 'pizza': 40,\n",
       " 'cheese': 10,\n",
       " 'naruto': 20}"
      ]
     },
     "execution_count": 46,
     "metadata": {},
     "output_type": "execute_result"
    }
   ],
   "source": [
    "i = df.loc[0]['all']\n",
    "i"
   ]
  },
  {
   "cell_type": "code",
   "execution_count": 47,
   "metadata": {},
   "outputs": [
    {
     "data": {
      "text/plain": [
       "50"
      ]
     },
     "execution_count": 47,
     "metadata": {},
     "output_type": "execute_result"
    }
   ],
   "source": [
    "getCount(i, name='apple')"
   ]
  },
  {
   "cell_type": "markdown",
   "metadata": {},
   "source": [
    "## apply에 사용하기"
   ]
  },
  {
   "cell_type": "code",
   "execution_count": 48,
   "metadata": {},
   "outputs": [
    {
     "data": {
      "text/plain": [
       "0    {'apple': 50, 'banana': 30, 'orange': 40, 'man...\n",
       "1    {'banana': 20, 'orange': 20, 'blueberry': 40, ...\n",
       "2    {'apple': 50, 'orange': 30, 'blueberry': 40, '...\n",
       "3    {'banana': 20, 'orange': 20, 'mango': 50, 'che...\n",
       "4    {'banana': 30, 'orange': 10, 'mango': 40, 'blu...\n",
       "Name: all, dtype: object"
      ]
     },
     "execution_count": 48,
     "metadata": {},
     "output_type": "execute_result"
    }
   ],
   "source": [
    "df['all']"
   ]
  },
  {
   "cell_type": "code",
   "execution_count": 49,
   "metadata": {},
   "outputs": [],
   "source": [
    "cols = ['apple', 'banana']\n",
    "for col in cols:\n",
    "    df[col] = df['all'].apply(getCount, name = col)"
   ]
  },
  {
   "cell_type": "code",
   "execution_count": 50,
   "metadata": {},
   "outputs": [
    {
     "data": {
      "text/html": [
       "<div>\n",
       "<style scoped>\n",
       "    .dataframe tbody tr th:only-of-type {\n",
       "        vertical-align: middle;\n",
       "    }\n",
       "\n",
       "    .dataframe tbody tr th {\n",
       "        vertical-align: top;\n",
       "    }\n",
       "\n",
       "    .dataframe thead th {\n",
       "        text-align: right;\n",
       "    }\n",
       "</style>\n",
       "<table border=\"1\" class=\"dataframe\">\n",
       "  <thead>\n",
       "    <tr style=\"text-align: right;\">\n",
       "      <th></th>\n",
       "      <th>all</th>\n",
       "      <th>apple</th>\n",
       "      <th>banana</th>\n",
       "    </tr>\n",
       "  </thead>\n",
       "  <tbody>\n",
       "    <tr>\n",
       "      <th>0</th>\n",
       "      <td>{'apple': 50, 'banana': 30, 'orange': 40, 'man...</td>\n",
       "      <td>50</td>\n",
       "      <td>30</td>\n",
       "    </tr>\n",
       "    <tr>\n",
       "      <th>1</th>\n",
       "      <td>{'banana': 20, 'orange': 20, 'blueberry': 40, ...</td>\n",
       "      <td>0</td>\n",
       "      <td>20</td>\n",
       "    </tr>\n",
       "    <tr>\n",
       "      <th>2</th>\n",
       "      <td>{'apple': 50, 'orange': 30, 'blueberry': 40, '...</td>\n",
       "      <td>50</td>\n",
       "      <td>0</td>\n",
       "    </tr>\n",
       "    <tr>\n",
       "      <th>3</th>\n",
       "      <td>{'banana': 20, 'orange': 20, 'mango': 50, 'che...</td>\n",
       "      <td>0</td>\n",
       "      <td>20</td>\n",
       "    </tr>\n",
       "    <tr>\n",
       "      <th>4</th>\n",
       "      <td>{'banana': 30, 'orange': 10, 'mango': 40, 'blu...</td>\n",
       "      <td>0</td>\n",
       "      <td>30</td>\n",
       "    </tr>\n",
       "  </tbody>\n",
       "</table>\n",
       "</div>"
      ],
      "text/plain": [
       "                                                 all  apple  banana\n",
       "0  {'apple': 50, 'banana': 30, 'orange': 40, 'man...     50      30\n",
       "1  {'banana': 20, 'orange': 20, 'blueberry': 40, ...      0      20\n",
       "2  {'apple': 50, 'orange': 30, 'blueberry': 40, '...     50       0\n",
       "3  {'banana': 20, 'orange': 20, 'mango': 50, 'che...      0      20\n",
       "4  {'banana': 30, 'orange': 10, 'mango': 40, 'blu...      0      30"
      ]
     },
     "execution_count": 50,
     "metadata": {},
     "output_type": "execute_result"
    }
   ],
   "source": [
    "df"
   ]
  },
  {
   "cell_type": "code",
   "execution_count": null,
   "metadata": {},
   "outputs": [],
   "source": []
  }
 ],
 "metadata": {
  "kernelspec": {
   "display_name": "Python 3",
   "language": "python",
   "name": "python3"
  },
  "language_info": {
   "codemirror_mode": {
    "name": "ipython",
    "version": 3
   },
   "file_extension": ".py",
   "mimetype": "text/x-python",
   "name": "python",
   "nbconvert_exporter": "python",
   "pygments_lexer": "ipython3",
   "version": "3.7.0"
  }
 },
 "nbformat": 4,
 "nbformat_minor": 2
}
