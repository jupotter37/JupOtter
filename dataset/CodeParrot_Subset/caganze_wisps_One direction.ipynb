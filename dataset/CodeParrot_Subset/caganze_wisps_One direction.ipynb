{
 "cells": [
  {
   "cell_type": "code",
   "execution_count": 1,
   "metadata": {},
   "outputs": [
    {
     "name": "stdout",
     "output_type": "stream",
     "text": [
      "Adding 145 sources from /Users/caganze/research/splat//resources/Spectra/Public/LRIS-RED/ to spectral database\n",
      "Adding 89 sources from /Users/caganze/research/splat//resources/Spectra/Public/MAGE/ to spectral database\n",
      "Adding 2404 sources from /Users/caganze/research/splat//resources/Spectra/Public/SPEX-PRISM/ to spectral database\n"
     ]
    }
   ],
   "source": [
    "import popsims\n",
    "import matplotlib.pyplot as plt\n",
    "#import wisps\n",
    "import pandas as pd\n",
    "from astropy.coordinates import SkyCoord\n",
    "%matplotlib inline\n",
    "import astropy.units as u\n",
    "import numpy as np\n",
    "from tqdm import tqdm"
   ]
  },
  {
   "cell_type": "code",
   "execution_count": 2,
   "metadata": {},
   "outputs": [],
   "source": [
    "Rsun=8300.\n",
    "Zsun=27."
   ]
  },
  {
   "cell_type": "code",
   "execution_count": 3,
   "metadata": {},
   "outputs": [],
   "source": [
    "def get_rz(ds, l, b):\n",
    "    rd=np.sqrt( (ds * np.cos( b ) )**2 + Rsun * (Rsun - 2 * ds * np.cos( b ) * np.cos( l ) ) )\n",
    "    zd=Zsun+ ds * np.sin( b - np.arctan( Zsun / Rsun) )\n",
    "    return rd, zd"
   ]
  },
  {
   "cell_type": "code",
   "execution_count": 4,
   "metadata": {},
   "outputs": [],
   "source": [
    "NSAMPLES=int(1e4)"
   ]
  },
  {
   "cell_type": "code",
   "execution_count": 13,
   "metadata": {},
   "outputs": [
    {
     "name": "stderr",
     "output_type": "stream",
     "text": [
      "100%|██████████| 50/50 [05:02<00:00,  6.05s/it]\n"
     ]
    }
   ],
   "source": [
    "coord=SkyCoord(l=np.random.uniform(-180, 180, 50 )*u.degree,\\\n",
    "               b=np.random.uniform(-90, 90, 50)*u.degree, frame='galactic')\n",
    "rs=[[], [], []]\n",
    "zs=[[], [], []]\n",
    "for c in tqdm(coord):\n",
    "    p= popsims.Pointing(coord=c)\n",
    "    dists0=p.draw_distances(0.1, 5000, \\\n",
    "                350, 2600, nsample=int(NSAMPLES))\n",
    "    dists1=p.draw_distances(0.1, 5000, \\\n",
    "                    500, 3000, nsample=int(NSAMPLES))\n",
    "    \n",
    "    dists2=p.draw_distances(0.1, 5000, \\\n",
    "                    900, 3600, nsample=int(NSAMPLES))\n",
    "                 \n",
    "    r0, z0=get_rz(  dists0, c.l.radian, c.b.radian)\n",
    "    r1, z1=get_rz(  dists1, c.l.radian, c.b.radian)\n",
    "    r2, z2=get_rz(  dists2, c.l.radian, c.b.radian)\n",
    "    \n",
    "    rs[0].append(r0)\n",
    "    rs[1].append(r1)\n",
    "    rs[2].append(r2)\n",
    "                 \n",
    "    zs[0].append(z0)\n",
    "    zs[1].append(z1)\n",
    "    zs[2].append(z2)\n"
   ]
  },
  {
   "cell_type": "code",
   "execution_count": 14,
   "metadata": {},
   "outputs": [
    {
     "data": {
      "text/plain": [
       "array([-1973.14253025,  -932.33209022,  -858.50927921, ...,\n",
       "       -1805.29535666, -2353.79459428, -1708.79439348])"
      ]
     },
     "execution_count": 14,
     "metadata": {},
     "output_type": "execute_result"
    }
   ],
   "source": [
    "z2"
   ]
  },
  {
   "cell_type": "code",
   "execution_count": 15,
   "metadata": {},
   "outputs": [],
   "source": [
    "#thick_dists=[p.draw_distances(0.1, 5000, \\\n",
    "#                350, 2600, nsample=int(NSAMPLES))\n",
    "#thin_dists=p.draw_distances(0.1, 5000, \\\n",
    "#                900, 3600, nsample=int(NSAMPLES))\n",
    "#\n",
    "#thin_dists_incorrect=p.draw_distances(0.1, 5000, \\\n",
    "#                900, 2600, nsample=int(NSAMPLES))"
   ]
  },
  {
   "cell_type": "code",
   "execution_count": 8,
   "metadata": {},
   "outputs": [
    {
     "data": {
      "text/plain": [
       "'exp'"
      ]
     },
     "execution_count": 8,
     "metadata": {},
     "output_type": "execute_result"
    }
   ],
   "source": [
    "p.dens_profile"
   ]
  },
  {
   "cell_type": "code",
   "execution_count": null,
   "metadata": {},
   "outputs": [],
   "source": []
  },
  {
   "cell_type": "code",
   "execution_count": 17,
   "metadata": {},
   "outputs": [],
   "source": [
    "zs=np.array(zs)"
   ]
  },
  {
   "cell_type": "code",
   "execution_count": 18,
   "metadata": {},
   "outputs": [
    {
     "data": {
      "image/png": "[encoded data removed]",
      "text/plain": [
       "<Figure size 432x288 with 1 Axes>"
      ]
     },
     "metadata": {
      "needs_background": "light"
     },
     "output_type": "display_data"
    }
   ],
   "source": [
    "fig, ax=plt.subplots()\n",
    "_= ax.hist(zs[0].flatten(), bins='auto', log=True, \\\n",
    "           histtype='step', color='b',  linewidth=3)\n",
    "_= ax.hist(zs[1].flatten(), bins='auto', log=True, \\\n",
    "           histtype='step', color='r',  linewidth=3)\n",
    "_= ax.hist(zs[-1].flatten(), bins='auto', log=True, \\\n",
    "           histtype='step', color='k',  linewidth=3)"
   ]
  },
  {
   "cell_type": "code",
   "execution_count": 20,
   "metadata": {},
   "outputs": [],
   "source": [
    "rs=np.array(rs)"
   ]
  },
  {
   "cell_type": "code",
   "execution_count": 21,
   "metadata": {},
   "outputs": [
    {
     "data": {
      "image/png": "[encoded data removed]",
      "text/plain": [
       "<Figure size 432x288 with 1 Axes>"
      ]
     },
     "metadata": {
      "needs_background": "light"
     },
     "output_type": "display_data"
    }
   ],
   "source": [
    "fig, ax=plt.subplots()\n",
    "_= ax.hist(rs[0].flatten(), bins='auto', log=True, \\\n",
    "           histtype='step', color='b',  linewidth=3)\n",
    "_= ax.hist(rs[1].flatten(), bins='auto', log=True, \\\n",
    "           histtype='step', color='r',  linewidth=3)\n",
    "_= ax.hist(rs[-1].flatten(), bins='auto', log=True, \\\n",
    "           histtype='step', color='k',  linewidth=3)"
   ]
  },
  {
   "cell_type": "code",
   "execution_count": null,
   "metadata": {},
   "outputs": [],
   "source": []
  }
 ],
 "metadata": {
  "kernelspec": {
   "display_name": "Python 3",
   "language": "python",
   "name": "python3"
  },
  "language_info": {
   "codemirror_mode": {
    "name": "ipython",
    "version": 3
   },
   "file_extension": ".py",
   "mimetype": "text/x-python",
   "name": "python",
   "nbconvert_exporter": "python",
   "pygments_lexer": "ipython3",
   "version": "3.8.5"
  }
 },
 "nbformat": 4,
 "nbformat_minor": 4
}
