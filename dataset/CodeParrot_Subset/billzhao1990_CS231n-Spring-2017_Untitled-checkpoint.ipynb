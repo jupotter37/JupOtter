{
 "cells": [
  {
   "cell_type": "code",
   "execution_count": 1,
   "metadata": {
    "collapsed": false
   },
   "outputs": [
    {
     "name": "stdout",
     "output_type": "stream",
     "text": [
      "('W=', array([[2, 1, 7],\n",
      "       [1, 1, 0]]))\n",
      "('X.dot(W)=', array([[ 4,  3,  7],\n",
      "       [25, 18, 49],\n",
      "       [11,  8, 21]]))\n"
     ]
    }
   ],
   "source": [
    "import numpy as np\n",
    "from cs231n.classifiers.linear_svm import svm_loss_naive\n",
    "\n",
    "W = np.array([[2,1,7],[1,1,0]]) \n",
    "print('W=',W)\n",
    "X = np.array([[1,2],[7,11],[3,5]])\n",
    "print('X.dot(W)=',X.dot(W))\n",
    "y = np.array([1,1,0])"
   ]
  },
  {
   "cell_type": "code",
   "execution_count": 3,
   "metadata": {
    "collapsed": false
   },
   "outputs": [
    {
     "data": {
      "text/plain": [
       "array([[ 2,  0,  5],\n",
       "       [ 8,  0, 32],\n",
       "       [ 0,  0, 11]])"
      ]
     },
     "execution_count": 3,
     "metadata": {},
     "output_type": "execute_result"
    }
   ],
   "source": [
    "num_train = y.shape[0]\n",
    "# N * C\n",
    "scores_all = X.dot(W)\n",
    "# N * 1, value of each row = the correct class score w.r.t corresponding input x_i  \n",
    "correct_class_scores_all = scores_all[range(num_train),y]  \n",
    "# raw loss matrix of shape (N, C)\n",
    "loss_matrix = scores_all - correct_class_scores_all[:, None] + 1\n",
    "# set loss value of correct class to 0\n",
    "loss_matrix[range(num_train),y] = 0\n",
    "loss_matrix[loss_matrix<.0] = 0 # zero out negative values\n",
    "loss_matrix"
   ]
  },
  {
   "cell_type": "code",
   "execution_count": 4,
   "metadata": {
    "collapsed": false
   },
   "outputs": [
    {
     "data": {
      "text/plain": [
       "array([[  5., -16.,  11.],\n",
       "       [  8., -26.,  18.]])"
      ]
     },
     "execution_count": 4,
     "metadata": {},
     "output_type": "execute_result"
    }
   ],
   "source": [
    "dW = np.zeros(W.shape) # initialize the gradient as zero\n",
    "\n",
    "# compute the loss and the gradient\n",
    "num_classes = W.shape[1]\n",
    "num_train = X.shape[0]\n",
    "for i in xrange(num_train):\n",
    "    scores = X[i].dot(W)\n",
    "    correct_class_score = scores[y[i]]\n",
    "\n",
    "    for j in xrange(num_classes):\n",
    "        if j == y[i]:\n",
    "            continue\n",
    "        margin = scores[j] - correct_class_score + 1 # note delta = 1\n",
    "        if margin > 0:\n",
    "            dW[:, j] += X[i]\n",
    "\n",
    "            dW[:, y[i]] -= X[i]\n",
    "dW"
   ]
  },
  {
   "cell_type": "code",
   "execution_count": null,
   "metadata": {
    "collapsed": false
   },
   "outputs": [],
   "source": []
  },
  {
   "cell_type": "code",
   "execution_count": 9,
   "metadata": {
    "collapsed": false
   },
   "outputs": [
    {
     "name": "stdout",
     "output_type": "stream",
     "text": [
      "[[0 0]\n",
      " [0 2]\n",
      " [1 0]\n",
      " [1 2]\n",
      " [2 2]]\n",
      "> \u001b[1;32m/home/Administrator/assignment1/.env/local/lib/python2.7/site-packages/IPython/core/compilerop.py\u001b[0m(100)\u001b[0;36mast_parse\u001b[1;34m()\u001b[0m\n",
      "\u001b[1;32m     99 \u001b[1;33m        and are passed to the built-in compile function.\"\"\"\n",
      "\u001b[0m\u001b[1;32m--> 100 \u001b[1;33m        \u001b[1;32mreturn\u001b[0m \u001b[0mcompile\u001b[0m\u001b[1;33m(\u001b[0m\u001b[0msource\u001b[0m\u001b[1;33m,\u001b[0m \u001b[0mfilename\u001b[0m\u001b[1;33m,\u001b[0m \u001b[0msymbol\u001b[0m\u001b[1;33m,\u001b[0m \u001b[0mself\u001b[0m\u001b[1;33m.\u001b[0m\u001b[0mflags\u001b[0m \u001b[1;33m|\u001b[0m \u001b[0mPyCF_ONLY_AST\u001b[0m\u001b[1;33m,\u001b[0m \u001b[1;36m1\u001b[0m\u001b[1;33m)\u001b[0m\u001b[1;33m\u001b[0m\u001b[0m\n",
      "\u001b[0m\u001b[1;32m    101 \u001b[1;33m\u001b[1;33m\u001b[0m\u001b[0m\n",
      "\u001b[0m\n",
      "ipdb> c\n",
      "[[  7.   0.   3.]\n",
      " [ 11.   0.   5.]]\n",
      "> \u001b[1;32m/home/Administrator/assignment1/.env/local/lib/python2.7/site-packages/IPython/core/compilerop.py\u001b[0m(100)\u001b[0;36mast_parse\u001b[1;34m()\u001b[0m\n",
      "\u001b[1;32m     99 \u001b[1;33m        and are passed to the built-in compile function.\"\"\"\n",
      "\u001b[0m\u001b[1;32m--> 100 \u001b[1;33m        \u001b[1;32mreturn\u001b[0m \u001b[0mcompile\u001b[0m\u001b[1;33m(\u001b[0m\u001b[0msource\u001b[0m\u001b[1;33m,\u001b[0m \u001b[0mfilename\u001b[0m\u001b[1;33m,\u001b[0m \u001b[0msymbol\u001b[0m\u001b[1;33m,\u001b[0m \u001b[0mself\u001b[0m\u001b[1;33m.\u001b[0m\u001b[0mflags\u001b[0m \u001b[1;33m|\u001b[0m \u001b[0mPyCF_ONLY_AST\u001b[0m\u001b[1;33m,\u001b[0m \u001b[1;36m1\u001b[0m\u001b[1;33m)\u001b[0m\u001b[1;33m\u001b[0m\u001b[0m\n",
      "\u001b[0m\u001b[1;32m    101 \u001b[1;33m\u001b[1;33m\u001b[0m\u001b[0m\n",
      "\u001b[0m\n",
      "\n",
      "KeyboardInterrupt\n"
     ]
    },
    {
     "data": {
      "text/plain": [
       "array([[  4., -14.,   3.],\n",
       "       [  6., -22.,   5.]])"
      ]
     },
     "execution_count": 9,
     "metadata": {},
     "output_type": "execute_result"
    }
   ],
   "source": [
    "dW = np.zeros(W.shape)\n",
    "positive_loss_index = np.argwhere(loss_matrix>0)\n",
    "print(positive_loss_index)\n",
    "%debug\n",
    "print(X[positive_loss_index[:,0],:].T)\n",
    "%debug\n",
    "dW[:,positive_loss_index[:,1]] += X[positive_loss_index[:,0],:].T\n",
    "print(dW)\n",
    "%debug\n",
    "loss_row_count = np.sum(loss_matrix>0, axis=1)\n",
    "dW[:,y] -= (loss_row_count[:,None] * X).T\n",
    "#print(dW[:,y_dev].shape)\n",
    "#print((loss_row_count[:,None] * X_dev).T.shape)\n",
    "dW"
   ]
  },
  {
   "cell_type": "code",
   "execution_count": null,
   "metadata": {
    "collapsed": true
   },
   "outputs": [],
   "source": []
  },
  {
   "cell_type": "code",
   "execution_count": null,
   "metadata": {
    "collapsed": true
   },
   "outputs": [],
   "source": []
  }
 ],
 "metadata": {
  "kernelspec": {
   "display_name": "Python 2",
   "language": "python",
   "name": "python2"
  },
  "language_info": {
   "codemirror_mode": {
    "name": "ipython",
    "version": 2
   },
   "file_extension": ".py",
   "mimetype": "text/x-python",
   "name": "python",
   "nbconvert_exporter": "python",
   "pygments_lexer": "ipython2",
   "version": "2.7.12"
  }
 },
 "nbformat": 4,
 "nbformat_minor": 0
}
