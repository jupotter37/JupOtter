{
 "cells": [
  {
   "cell_type": "markdown",
   "metadata": {},
   "source": [
    "## pair coding environment\n",
    "\n",
    "As graduates of Wyncode Academy, we want to be able to pair code while not sitting next to each other on the same network.\n",
    "\n",
    "At least one person does not edit text files in the terminal.\n",
    "\n",
    "Specifications:\n",
    "\n",
    "* ability to use voice chat\n",
    "\n",
    "**Trivially solved with any app that supports voice chatting.**\n",
    "\n",
    "* ability to see results of executed code: \n",
    "\n",
    "**Easily solved with shared tmux session after users are granted shell access via ssh.**\n",
    "\n",
    "* ability for all users to have immediately available sourced files that they can edit with any text editor of choice: \n",
    "\n",
    "*Not as trivial as the first 2 specs.*"
   ]
  },
  {
   "cell_type": "markdown",
   "metadata": {},
   "source": [
    "## possible solutions\n",
    "\n",
    "### combination of the following:\n",
    "\n",
    "* git: https://git-scm.com/\n",
    "* gitolite: http://gitolite.com/gitolite/index.html\n",
    "  \n",
    "  gitolite is for hosting git repositories.\n",
    "  \n",
    "* Python package watchdog: https://pypi.python.org/pypi/watchdog\n",
    "\n",
    "  For watching a directory and initiating an automated series of steps after file changes. \n",
    "    \n",
    "  The file changes trigger a commit and push to the git repo from which all other users can pull. \n",
    "    \n",
    "  The pull can be initiated by using watchdog to watch the designated gitolite repo"
   ]
  },
  {
   "cell_type": "markdown",
   "metadata": {},
   "source": [
    "#### setup\n",
    "\n",
    "* Install a virtualenv with python [`watchdog`](https://pypi.python.org/pypi/watchdog) package installed.\n",
    "* Set up a named repo for a project in the gitolite hosting git repository. This must be done by a gitolite administrator by editing `~/gitolite-admin/conf/gitolite.conf`. \n",
    "\n",
    "In this example let's call the new pair coding repo `$new_project_name`."
   ]
  },
  {
   "cell_type": "code",
   "execution_count": 5,
   "metadata": {
    "collapsed": true
   },
   "outputs": [],
   "source": [
    "new_project_name = 'trial-setup'"
   ]
  },
  {
   "cell_type": "markdown",
   "metadata": {},
   "source": [
    "It is possible to view the current repos with this command:"
   ]
  },
  {
   "cell_type": "code",
   "execution_count": 2,
   "metadata": {
    "collapsed": false
   },
   "outputs": [
    {
     "name": "stdout",
     "output_type": "stream",
     "text": [
      "hello dmmmd, this is gitolite@zip running gitolite3 v3.6.6-2-g8620d5f on git 1.9.1\r\n",
      "\r\n",
      " R W\tgitolite-admin\r\n",
      " R W\tpair-coding-template\r\n",
      " R W\tpractice\r\n",
      " R W\ttest-project\r\n",
      " R W\ttesting\r\n"
     ]
    }
   ],
   "source": [
    "!./bin/gitolite-info"
   ]
  },
  {
   "cell_type": "markdown",
   "metadata": {},
   "source": [
    "* clone the template repo that will become the working project repo set up earlier"
   ]
  },
  {
   "cell_type": "code",
   "execution_count": 11,
   "metadata": {
    "collapsed": false
   },
   "outputs": [
    {
     "name": "stdout",
     "output_type": "stream",
     "text": [
      "Cloning into 'trial-setup'...\n",
      "remote: Counting objects: 207, done.\u001b[K\n",
      "remote: Compressing objects: 100% (95/95), done.\u001b[K\n",
      "remote: Total 207 (delta 98), reused 190 (delta 94)\u001b[K\n",
      "Receiving objects: 100% (207/207), 26.64 KiB | 0 bytes/s, done.\n",
      "Resolving deltas: 100% (98/98), done.\n",
      "Checking connectivity... done.\n"
     ]
    }
   ],
   "source": [
    "!./bin/git-clone $new_project_name"
   ]
  },
  {
   "cell_type": "markdown",
   "metadata": {},
   "source": [
    "The cloned directory contains scripts to set up the direcotry for pair coding.\n",
    "\n",
    "`cd` into the directory"
   ]
  },
  {
   "cell_type": "code",
   "execution_count": 7,
   "metadata": {
    "collapsed": true
   },
   "outputs": [],
   "source": [
    "!cd $new_project_name"
   ]
  },
  {
   "cell_type": "markdown",
   "metadata": {},
   "source": [
    "* Run the setup executable: \n",
    "\n",
    "```bash\n",
    "./setup \"$new_project_name\"\n",
    "```\n",
    "\n"
   ]
  },
  {
   "cell_type": "markdown",
   "metadata": {},
   "source": [
    "Then run:\n",
    "\n",
    "```bash\n",
    "./watchdog\n",
    "```\n",
    "\n",
    "And the watching should begin. All file changes should result in a commit and push."
   ]
  },
  {
   "cell_type": "markdown",
   "metadata": {},
   "source": [
    "### More about the files\n",
    "\n",
    "#### watchdog file"
   ]
  },
  {
   "cell_type": "code",
   "execution_count": 22,
   "metadata": {
    "collapsed": true
   },
   "outputs": [],
   "source": [
    "# %load watchdog"
   ]
  },
  {
   "cell_type": "markdown",
   "metadata": {},
   "source": [
    "```bash\n",
    "#!/bin/bash\n",
    "\n",
    "./automated_git.sh 2>&1 > watchdog.log &  #  start watchdog and redirect output to log and put in background\n",
    "```"
   ]
  },
  {
   "cell_type": "code",
   "execution_count": 23,
   "metadata": {
    "collapsed": true
   },
   "outputs": [],
   "source": [
    "# %load automated_git.sh"
   ]
  },
  {
   "cell_type": "markdown",
   "metadata": {},
   "source": [
    "```bash\n",
    "#!/bin/bash\n",
    "watchmedo shell-command \\\n",
    "    --patterns='*' \\\n",
    "    --ignore-patterns='.git *.log' \\  # avoid race condition when these files update from the update\n",
    "    --command='git add -A && git commit -m replaced_by_hook && git push origin master'\n",
    "```"
   ]
  },
  {
   "cell_type": "markdown",
   "metadata": {},
   "source": [
    "* The process with watchdog has to be manually killed. This is done with the following script:\n",
    "\n",
    "```bash\n",
    "./get-watchdog-pid\n",
    "```\n",
    "\n",
    "* Then kill the process:\n",
    "\n",
    "```bash\n",
    "kill $pid\n",
    "```\n",
    "\n",
    "* This will kill all the watchdog processes.\n",
    "\n",
    "```bash\n",
    "./kill-all-watchdogs\n",
    "```"
   ]
  },
  {
   "cell_type": "markdown",
   "metadata": {},
   "source": [
    "#### expected result\n",
    "\n",
    "Every time a file other than those in the ignore-patterns is changed it will trigger a commit and push to the gitolite repo where it can be pulled by other users."
   ]
  },
  {
   "cell_type": "markdown",
   "metadata": {},
   "source": [
    "#### todo\n",
    "\n",
    "* Set up vim key mapping so when a non-terminal edit has occurred the repo is pulled and vim files are reloaded."
   ]
  },
  {
   "cell_type": "markdown",
   "metadata": {},
   "source": [
    "## Extras\n",
    "\n",
    "* rst directory: contains an rst file to use with https://github.com/Rykka/InstantRst\n",
    "\n",
    "As that file is updated another user can copy and paste items from it. Sometimes it's easier than saying what should be typed. Can be used as a scratch pad, too. It is instantly updated to all those subscribed to the web page it produces."
   ]
  }
 ],
 "metadata": {
  "kernelspec": {
   "display_name": "Python 3",
   "language": "python",
   "name": "python3"
  },
  "language_info": {
   "codemirror_mode": {
    "name": "ipython",
    "version": 3
   },
   "file_extension": ".py",
   "mimetype": "text/x-python",
   "name": "python",
   "nbconvert_exporter": "python",
   "pygments_lexer": "ipython3",
   "version": "3.4.3"
  }
 },
 "nbformat": 4,
 "nbformat_minor": 2
}
