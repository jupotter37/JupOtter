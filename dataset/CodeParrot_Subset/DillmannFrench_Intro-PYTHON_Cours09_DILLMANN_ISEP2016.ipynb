{
 "cells": [
  {
   "cell_type": "markdown",
   "metadata": {},
   "source": [
    "# Devoir à mi-parcours\n",
    "Exigeant d'avoir abordé les notions de : \n",
    "- Genéricité \n",
    "- Portée d'une Variable\n",
    "- Structures de Contrôle (Bases)\n",
    "- Types de base\n",
    "- Recursivité\n"
   ]
  },
  {
   "cell_type": "markdown",
   "metadata": {},
   "source": [
    "#  1) Rapels de cours, sur les declarations de contrôle\n",
    "(Control Statements)"
   ]
  },
  {
   "cell_type": "markdown",
   "metadata": {},
   "source": [
    "## 1.1) Nom de variable et valeur"
   ]
  },
  {
   "cell_type": "markdown",
   "metadata": {},
   "source": [
    "Quel est/quels sont le ou les cas en python où l’on peut déclarer une variable (donc un nom) en python sans lui assigner directement une valeur ? Comment s’appelle ce type de variable spécifiquement ?"
   ]
  },
  {
   "cell_type": "code",
   "execution_count": null,
   "metadata": {
    "collapsed": false
   },
   "outputs": [],
   "source": [
    "%reset\n",
    "global MyVariable\n",
    "globals()"
   ]
  },
  {
   "cell_type": "markdown",
   "metadata": {},
   "source": [
    "## 1.2) Boucles en python"
   ]
  },
  {
   "cell_type": "markdown",
   "metadata": {},
   "source": [
    "Expliquez brièvement le fonctionnement des deux principales boucles en python (**for** et **while**) en précisant notamment : \n",
    "\n",
    "> - qu’est ce qui change à chaque itération\n",
    "> - quand est-ce que le boucle s’arrête"
   ]
  },
  {
   "cell_type": "code",
   "execution_count": null,
   "metadata": {
    "collapsed": false
   },
   "outputs": [],
   "source": [
    "for it in range(10):\n",
    "    print(it)"
   ]
  },
  {
   "cell_type": "code",
   "execution_count": null,
   "metadata": {
    "collapsed": false
   },
   "outputs": [],
   "source": [
    "it=0\n",
    "while it < 10:\n",
    "    print(it)\n",
    "    it +=1"
   ]
  },
  {
   "cell_type": "markdown",
   "metadata": {},
   "source": [
    "## 1.3) Concept informatique"
   ]
  },
  {
   "cell_type": "markdown",
   "metadata": {},
   "source": [
    "Qu’est ce qu’est la **généricité** (le fait qu’un code soit générique) ?"
   ]
  },
  {
   "cell_type": "code",
   "execution_count": null,
   "metadata": {
    "collapsed": false
   },
   "outputs": [],
   "source": [
    "def Ajoute_dix(inputData):\n",
    "    if isinstance(inputData, int):\n",
    "        return inputData + 10\n",
    "    elif isinstance(inputData, str):\n",
    "        return int(inputData) + 10\n",
    "    else:\n",
    "        return 10\n",
    "\n",
    "# applications avec un INT\n",
    "a=15\n",
    "print(\"Le type de a est : {}\".format(type(a)))\n",
    "b=Ajoute_dix(a)\n",
    "print(\"En applicant la fonction Ajoute_dix à (a) on obtient : {}\".format(b))\n",
    "print(\"Qui est de type : {}\".format(type(b)))\n",
    "# applications avec un STR\n",
    "a='15'\n",
    "print(\"Le type de a est : {}\".format(type(a)))\n",
    "b=Ajoute_dix(a)\n",
    "print(\"En applicant la fonction Ajoute_dix à (a) on obtient : {}\".format(b))\n",
    "print(\"Qui est de type : {}\".format(type(b)))\n"
   ]
  },
  {
   "cell_type": "markdown",
   "metadata": {},
   "source": [
    "# 2)  Partie 2 : Operateurs Arithmétiques"
   ]
  },
  {
   "cell_type": "code",
   "execution_count": null,
   "metadata": {
    "collapsed": false
   },
   "outputs": [],
   "source": [
    "a=5%2\n",
    "print('a=5%2 is a {} of type {}'.format(a,type(a)))"
   ]
  },
  {
   "cell_type": "code",
   "execution_count": null,
   "metadata": {
    "collapsed": false
   },
   "outputs": [],
   "source": [
    "a=[1]+3\n",
    "print('a=[1]+3 is a {} of type {}'.format(a,type(a)))"
   ]
  },
  {
   "cell_type": "code",
   "execution_count": null,
   "metadata": {
    "collapsed": false
   },
   "outputs": [],
   "source": [
    "a=[1]*3\n",
    "print('a=a=[1]*3 is a {} of type {}'.format(a,type(a)))"
   ]
  },
  {
   "cell_type": "code",
   "execution_count": null,
   "metadata": {
    "collapsed": false
   },
   "outputs": [],
   "source": [
    "a=9.0*9\n",
    "print('a=9.0*9 is a {} of type {}'.format(a,type(a)))"
   ]
  },
  {
   "cell_type": "code",
   "execution_count": null,
   "metadata": {
    "collapsed": false
   },
   "outputs": [],
   "source": [
    "a=9*\"9\"\n",
    "print(\"a=9*“9” is a {} of type {}\".format(a,type(a)))"
   ]
  },
  {
   "cell_type": "code",
   "execution_count": null,
   "metadata": {
    "collapsed": false
   },
   "outputs": [],
   "source": [
    "a = 4 == \"4\"\n",
    "print(\"a=4=“4” is a {}\".format(a,type(a)))"
   ]
  },
  {
   "cell_type": "code",
   "execution_count": null,
   "metadata": {
    "collapsed": false
   },
   "outputs": [],
   "source": [
    "a=4=\"4\"\n",
    "print(\"a=4=“4” is a {}\".format(a)))"
   ]
  },
  {
   "cell_type": "markdown",
   "metadata": {},
   "source": [
    "## 2.2)  Question 2"
   ]
  },
  {
   "cell_type": "code",
   "execution_count": null,
   "metadata": {
    "collapsed": false
   },
   "outputs": [],
   "source": [
    "x=3\n",
    "y=5\n",
    "z=11\n",
    "\n",
    "a = True\n",
    "b = False"
   ]
  },
  {
   "cell_type": "code",
   "execution_count": null,
   "metadata": {
    "collapsed": false
   },
   "outputs": [],
   "source": [
    "(x < y ) and (a or b)"
   ]
  },
  {
   "cell_type": "code",
   "execution_count": null,
   "metadata": {
    "collapsed": false
   },
   "outputs": [],
   "source": [
    "(x < y < z) != (a != b)"
   ]
  },
  {
   "cell_type": "code",
   "execution_count": null,
   "metadata": {
    "collapsed": false
   },
   "outputs": [],
   "source": [
    "(a and (not b) and ( -y <= -z ) )"
   ]
  },
  {
   "cell_type": "code",
   "execution_count": null,
   "metadata": {
    "collapsed": false
   },
   "outputs": [],
   "source": [
    "(not (a and b)) or ((y**2 < z**2))"
   ]
  },
  {
   "cell_type": "markdown",
   "metadata": {},
   "source": [
    "## 2.3 Question 3"
   ]
  },
  {
   "cell_type": "code",
   "execution_count": null,
   "metadata": {
    "collapsed": true
   },
   "outputs": [],
   "source": [
    "liste1 = [\"a\", \"b\", \"c\", \"d\", \"e\"]"
   ]
  },
  {
   "cell_type": "markdown",
   "metadata": {},
   "source": [
    "###  2.3.1 Question 3.1 "
   ]
  },
  {
   "cell_type": "code",
   "execution_count": null,
   "metadata": {
    "collapsed": false
   },
   "outputs": [],
   "source": [
    "liste1[ len(liste1) ]"
   ]
  },
  {
   "cell_type": "code",
   "execution_count": null,
   "metadata": {
    "collapsed": false
   },
   "outputs": [],
   "source": [
    "liste1[ - len(liste1) ]"
   ]
  },
  {
   "cell_type": "markdown",
   "metadata": {},
   "source": [
    "## 2.4 Question 4"
   ]
  },
  {
   "cell_type": "code",
   "execution_count": null,
   "metadata": {
    "collapsed": false
   },
   "outputs": [],
   "source": [
    "a=2\n",
    "while a <= 7:\n",
    "    a = a*a + a + 1\n",
    "print(a)"
   ]
  },
  {
   "cell_type": "markdown",
   "metadata": {},
   "source": [
    "## 2.5 Question 5"
   ]
  },
  {
   "cell_type": "code",
   "execution_count": null,
   "metadata": {
    "collapsed": false
   },
   "outputs": [],
   "source": [
    "a=1\n",
    "for it in range(5):\n",
    "    a = a + it\n",
    "print(a)"
   ]
  },
  {
   "cell_type": "markdown",
   "metadata": {},
   "source": [
    "## 2.6 Question 6"
   ]
  },
  {
   "cell_type": "code",
   "execution_count": null,
   "metadata": {
    "collapsed": false
   },
   "outputs": [],
   "source": [
    "liste1 = [1,2,3]\n",
    "liste2 = liste1\n",
    "liste2.append(4)\n",
    "print(liste1)"
   ]
  },
  {
   "cell_type": "markdown",
   "metadata": {},
   "source": [
    "## 2.7 Question 7 "
   ]
  },
  {
   "cell_type": "code",
   "execution_count": null,
   "metadata": {
    "collapsed": false
   },
   "outputs": [],
   "source": [
    "x=8\n",
    "liste1 = [ ]\n",
    "for it in range(x//2):\n",
    "    liste1.append( x - it )\n",
    "print( liste1 )"
   ]
  },
  {
   "cell_type": "markdown",
   "metadata": {},
   "source": [
    "# 3) Debogage de code"
   ]
  },
  {
   "cell_type": "markdown",
   "metadata": {},
   "source": [
    "Dans cette partie les codes fournis ne fonctionnent pas, soit parce qu’ils provoquent une erreur, soit parce qu’ils ne produisent pas les résultats attendus.\n",
    "Le but est de les corriger."
   ]
  },
  {
   "cell_type": "markdown",
   "metadata": {},
   "source": [
    "## 3.1 Exercice 1 : Syntax error "
   ]
  },
  {
   "cell_type": "markdown",
   "metadata": {},
   "source": [
    "## 3.1.1 Exercice 1.1"
   ]
  },
  {
   "cell_type": "code",
   "execution_count": null,
   "metadata": {
    "collapsed": false
   },
   "outputs": [],
   "source": [
    "def cube_si_abs_plus_grande_que_un( x ):\n",
    "    if abs( x*x*x >= 1.0 :\n",
    "        print(\"Erreur\")\n",
    "        return\n",
    "    return x*x*x"
   ]
  },
  {
   "cell_type": "code",
   "execution_count": null,
   "metadata": {
    "collapsed": false
   },
   "outputs": [],
   "source": [
    "def cube_si_abs_plus_grande_que_un( x ):\n",
    "    if abs( x*x*x <= 1.0 ) : ## Condition mal formeé\n",
    "        print(\"Erreur\")\n",
    "        return\n",
    "    return x*x*x\n",
    "\n",
    "print(cube_si_abs_plus_grande_que_un(3))"
   ]
  },
  {
   "cell_type": "markdown",
   "metadata": {},
   "source": [
    "### 3.1.2 Exercice 1.2"
   ]
  },
  {
   "cell_type": "code",
   "execution_count": null,
   "metadata": {
    "collapsed": false
   },
   "outputs": [],
   "source": [
    "def factorielle( int( n ) ):\n",
    "    res = 1\n",
    "    for it in range(1,n+1):\n",
    "        res = res*it\n",
    "return res"
   ]
  },
  {
   "cell_type": "code",
   "execution_count": null,
   "metadata": {
    "collapsed": false
   },
   "outputs": [],
   "source": [
    "print( factorielle( 10 ) )"
   ]
  },
  {
   "cell_type": "code",
   "execution_count": null,
   "metadata": {
    "collapsed": false
   },
   "outputs": [],
   "source": [
    "def factorielle( n ):\n",
    "    res = 1\n",
    "    for it in range(1,n+1):\n",
    "        res = res*it\n",
    "    return res"
   ]
  },
  {
   "cell_type": "code",
   "execution_count": null,
   "metadata": {
    "collapsed": false
   },
   "outputs": [],
   "source": [
    "print( factorielle( 10 ) )"
   ]
  },
  {
   "cell_type": "markdown",
   "metadata": {},
   "source": [
    "### 3.1.3 Exercice 1.3"
   ]
  },
  {
   "cell_type": "code",
   "execution_count": null,
   "metadata": {
    "collapsed": true
   },
   "outputs": [],
   "source": [
    "def somme_carre( n ):\n",
    "    res = 0\n",
    "i=0\n",
    "while i < n:\n",
    "i += 1\n",
    "        res += i*i\n",
    "      return res"
   ]
  },
  {
   "cell_type": "code",
   "execution_count": null,
   "metadata": {
    "collapsed": false
   },
   "outputs": [],
   "source": [
    "def somme_carre( n ):\n",
    "    res = 0\n",
    "    i=0\n",
    "    while i < n:\n",
    "        i += 1\n",
    "        res += i*i\n",
    "    return res"
   ]
  },
  {
   "cell_type": "code",
   "execution_count": null,
   "metadata": {
    "collapsed": false
   },
   "outputs": [],
   "source": [
    "somme_carre(10)"
   ]
  },
  {
   "cell_type": "markdown",
   "metadata": {},
   "source": [
    "### 3.1.4) Exercice 1.4"
   ]
  },
  {
   "cell_type": "code",
   "execution_count": null,
   "metadata": {
    "collapsed": false
   },
   "outputs": [],
   "source": [
    "from math import srqt #Faute de frape\n",
    "def somme_sqrt( n ):\n",
    "res = 0 i=0 while i < n #On ne declare pas les vaiables sur la m ligne\n",
    "i += 1#Faute d'indentation\n",
    "        res += sqrt(i)\n",
    "    return res"
   ]
  },
  {
   "cell_type": "code",
   "execution_count": null,
   "metadata": {
    "collapsed": false
   },
   "outputs": [],
   "source": [
    "from math import sqrt #Faute de frape\n",
    "def somme_sqrt( n ):\n",
    "    res = 0 \n",
    "    i=0 \n",
    "    while (i < n):\n",
    "        i += 1\n",
    "        res += sqrt(i)\n",
    "    return res"
   ]
  },
  {
   "cell_type": "code",
   "execution_count": null,
   "metadata": {
    "collapsed": false
   },
   "outputs": [],
   "source": [
    "somme_sqrt(5)"
   ]
  },
  {
   "cell_type": "markdown",
   "metadata": {},
   "source": [
    "## 3.2 Exercice 3"
   ]
  },
  {
   "cell_type": "code",
   "execution_count": null,
   "metadata": {
    "collapsed": false
   },
   "outputs": [],
   "source": [
    "def somme_racine_cubique( n ):\n",
    "    res = 0\n",
    "    for it in range(n):\n",
    "        res += it**(1/3)\n",
    "    return res\n",
    "\n",
    "somme_racine_cubique(8)"
   ]
  },
  {
   "cell_type": "code",
   "execution_count": null,
   "metadata": {
    "collapsed": false
   },
   "outputs": [],
   "source": [
    "def somme_racine_cubique( n ):\n",
    "    res = 0\n",
    "    for it in range(n+1):\n",
    "        res += it**(1/3)\n",
    "    return res\n",
    "\n",
    "somme_racine_cubique(8)"
   ]
  },
  {
   "cell_type": "markdown",
   "metadata": {},
   "source": [
    "#  4) Analyse de code "
   ]
  },
  {
   "cell_type": "markdown",
   "metadata": {},
   "source": [
    "Dans cette partie les codes fonctionnent, le but étant de comprendre leur effet, ou d’être capable de les simplifier."
   ]
  },
  {
   "cell_type": "markdown",
   "metadata": {},
   "source": [
    "## 4.1 Exercice 1"
   ]
  },
  {
   "cell_type": "code",
   "execution_count": null,
   "metadata": {
    "collapsed": false
   },
   "outputs": [],
   "source": [
    "def f(liste):\n",
    "    for i in range(len(liste)):\n",
    "        for j in range(i):\n",
    "            if liste[i][j] != 0: \n",
    "                return False\n",
    "    return True"
   ]
  },
  {
   "cell_type": "code",
   "execution_count": null,
   "metadata": {
    "collapsed": false
   },
   "outputs": [],
   "source": [
    "a = f( [[1,1,1],\n",
    "        [0,1,1],\n",
    "        [0,0,1]] )\n",
    "print('Est ce que la matrice contient des 0 sous la diagonale ? {}'.format(a))"
   ]
  },
  {
   "cell_type": "code",
   "execution_count": null,
   "metadata": {
    "collapsed": false
   },
   "outputs": [],
   "source": [
    "a = f( [[1,0,0],\n",
    "        [0,1,0],\n",
    "        [0,0,1]] )\n",
    "print(a)\n",
    "\n",
    "b = f( [[1,1,1],\n",
    "        [0,1,1],\n",
    "        [0,0,1]] )\n",
    "print(b)\n",
    "\n",
    "c = f( [[1,0,0],\n",
    "        [1,1,0],\n",
    "        [1,1,1]] )\n",
    "print(c)\n",
    "\n",
    "d = f( [[1,1,1],\n",
    "        [1,1,1],\n",
    "        [1,1,1]] )\n",
    "print(d)"
   ]
  },
  {
   "cell_type": "markdown",
   "metadata": {},
   "source": [
    "## 4.2 Exercice 2 "
   ]
  },
  {
   "cell_type": "code",
   "execution_count": null,
   "metadata": {
    "collapsed": true
   },
   "outputs": [],
   "source": [
    "def f( n ):\n",
    "    if n == 0:\n",
    "        return False\n",
    "    return not f( n - 1 )"
   ]
  },
  {
   "cell_type": "code",
   "execution_count": null,
   "metadata": {
    "collapsed": false
   },
   "outputs": [],
   "source": [
    "a = f(12)\n",
    "b = f(8)\n",
    "c = f(13)\n",
    "print(a,b,c)"
   ]
  },
  {
   "cell_type": "code",
   "execution_count": null,
   "metadata": {
    "collapsed": false
   },
   "outputs": [],
   "source": [
    "for it in range(50):\n",
    "    print('le nombre {0} est il impair ? {1}'.format(it,f(it)))"
   ]
  },
  {
   "cell_type": "markdown",
   "metadata": {},
   "source": [
    "## 4.3 Exercice 3"
   ]
  },
  {
   "cell_type": "code",
   "execution_count": null,
   "metadata": {
    "collapsed": true
   },
   "outputs": [],
   "source": [
    "def f( n ):\n",
    "    res = 0\n",
    "    for it in range(n):\n",
    "        if it % 5 == 1:\n",
    "            res = res + it\n",
    "        if it % 7 == 1:\n",
    "            res = res + it\n",
    "        if it % 9 == 1:\n",
    "            res = res + it\n",
    "    return res"
   ]
  },
  {
   "cell_type": "code",
   "execution_count": null,
   "metadata": {
    "collapsed": false
   },
   "outputs": [],
   "source": [
    "for it in range(50):\n",
    "    print('Si on applique à {} la fonction on obtient {} '.format(it,f(it)))"
   ]
  },
  {
   "cell_type": "code",
   "execution_count": null,
   "metadata": {
    "collapsed": false
   },
   "outputs": [],
   "source": [
    "def f( n ):\n",
    "    res=0\n",
    "    for it in range(n):\n",
    "        if (it % 5 == 1): res += it\n",
    "        if (it % 7 == 1): res += it\n",
    "        if (it % 9 == 1): res += it          \n",
    "    return res"
   ]
  },
  {
   "cell_type": "code",
   "execution_count": null,
   "metadata": {
    "collapsed": false
   },
   "outputs": [],
   "source": [
    "def f (n ):\n",
    "    l=range(n)\n",
    "    liste1=[it for it in l if it % 5 == 1]\n",
    "    liste2=[it for it in l if it % 7 == 1]\n",
    "    liste3=[it for it in l if it % 9 == 1]\n",
    "    return (sum(liste1)+sum(liste2)+sum(liste3))"
   ]
  },
  {
   "cell_type": "code",
   "execution_count": null,
   "metadata": {
    "collapsed": false
   },
   "outputs": [],
   "source": [
    "for it in range(50):\n",
    "    print('Si on applique à {} la fonction on obtient {} '.format(it,f(it)))"
   ]
  },
  {
   "cell_type": "markdown",
   "metadata": {},
   "source": [
    "# 5) Codage"
   ]
  },
  {
   "cell_type": "markdown",
   "metadata": {},
   "source": [
    "## 5.1 Exercice 1 : somme de multiples pairs\n",
    "et evaluation de leur performance..."
   ]
  },
  {
   "cell_type": "code",
   "execution_count": null,
   "metadata": {
    "collapsed": false
   },
   "outputs": [],
   "source": [
    "from time import clock\n",
    "def duree(fonction, n=10):\n",
    "    debut = clock()\n",
    "    fonction(n)\n",
    "    fin = clock()\n",
    "    return fin - debut"
   ]
  },
  {
   "cell_type": "code",
   "execution_count": null,
   "metadata": {
    "collapsed": false
   },
   "outputs": [],
   "source": [
    "def somme_n_entiers1(n):\n",
    "    ref=0\n",
    "    l=range(n+1)\n",
    "    for it in l:\n",
    "        if it % 2 == 0:\n",
    "            ref += it\n",
    "    return ref"
   ]
  },
  {
   "cell_type": "code",
   "execution_count": null,
   "metadata": {
    "collapsed": false
   },
   "outputs": [],
   "source": [
    "def somme_n_entiers2(n):\n",
    "    it=0\n",
    "    ref=0\n",
    "    l=range(n+1)\n",
    "    while (it < len(l)):\n",
    "        if (l[it] % 2 == 0):\n",
    "            ref += it\n",
    "        it += 1\n",
    "    return ref"
   ]
  },
  {
   "cell_type": "code",
   "execution_count": null,
   "metadata": {
    "collapsed": true
   },
   "outputs": [],
   "source": [
    "def SumRec(n):\n",
    "    if n  == 0:\n",
    "        return(0)\n",
    "    elif n % 2 != 0:\n",
    "        return(n-1 + SumRec(n-3))\n",
    "    else :\n",
    "        return(n + SumRec(n-2))"
   ]
  },
  {
   "cell_type": "code",
   "execution_count": null,
   "metadata": {
    "collapsed": false
   },
   "outputs": [],
   "source": [
    "def SommePair(n):\n",
    "    return sum(range(0,n+1,2))"
   ]
  },
  {
   "cell_type": "code",
   "execution_count": null,
   "metadata": {
    "collapsed": false
   },
   "outputs": [],
   "source": []
  },
  {
   "cell_type": "code",
   "execution_count": null,
   "metadata": {
    "collapsed": false
   },
   "outputs": [],
   "source": [
    "print('{:>25}> {:f} s'.format('utilisation de la fonction for ',duree(somme_n_entiers1) ))\n",
    "print('{:>25}> {:f} s'.format('utilisation de la fonction while ',duree(somme_n_entiers2) ))\n",
    "print('{:>25}> {:f} s'.format('utilisation la plus simple ',duree(SommePair) ))\n",
    "print('{:>25}> {:f} s'.format('utilisation la recursivité ',duree(SumRec) ))"
   ]
  },
  {
   "cell_type": "markdown",
   "metadata": {},
   "source": [
    "## 5.2 Exercice 2 : recherche de multiple de 11 "
   ]
  },
  {
   "cell_type": "code",
   "execution_count": null,
   "metadata": {
    "collapsed": false
   },
   "outputs": [],
   "source": [
    "def Test_11(My_Liste):\n",
    "    for it in My_Liste:\n",
    "        if it % 11 == 0: \n",
    "            return True\n",
    "            break\n",
    "    return False"
   ]
  },
  {
   "cell_type": "code",
   "execution_count": null,
   "metadata": {
    "collapsed": false
   },
   "outputs": [],
   "source": [
    "Test_11([1, 2, 3, 22])\n"
   ]
  },
  {
   "cell_type": "markdown",
   "metadata": {},
   "source": [
    "# 6  Algorithme des différences successives"
   ]
  },
  {
   "cell_type": "code",
   "execution_count": null,
   "metadata": {
    "collapsed": true
   },
   "outputs": [],
   "source": [
    "def div_euclidiene(a,b):\n",
    "    q,r=0,a\n",
    "    while r>=b:\n",
    "        q,r=q+1,r-b\n",
    "    return(q,r)\n"
   ]
  },
  {
   "cell_type": "code",
   "execution_count": null,
   "metadata": {
    "collapsed": false
   },
   "outputs": [],
   "source": [
    "a=546\n",
    "b=34\n",
    "quotient, reste = div_euclidiene(a,b)\n",
    "print(\"La Division euclidienne peut s'ecrire \\n {0} = {1} x {2} + {3}\".format(a,b,quotient,reste))"
   ]
  }
 ],
 "metadata": {
  "kernelspec": {
   "display_name": "Python [Root]",
   "language": "python",
   "name": "Python [Root]"
  },
  "language_info": {
   "codemirror_mode": {
    "name": "ipython",
    "version": 3
   },
   "file_extension": ".py",
   "mimetype": "text/x-python",
   "name": "python",
   "nbconvert_exporter": "python",
   "pygments_lexer": "ipython3",
   "version": "3.5.1"
  }
 },
 "nbformat": 4,
 "nbformat_minor": 0
}
