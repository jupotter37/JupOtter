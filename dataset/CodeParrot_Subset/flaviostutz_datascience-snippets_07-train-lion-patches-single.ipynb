{
 "cells": [
  {
   "cell_type": "markdown",
   "metadata": {
    "deletable": true,
    "editable": true
   },
   "source": [
    "## Train sea lion classifier with a convnet"
   ]
  },
  {
   "cell_type": "code",
   "execution_count": 1,
   "metadata": {
    "collapsed": false,
    "deletable": true,
    "editable": true
   },
   "outputs": [],
   "source": [
    "INPUT_DIR = '../../input/kaggle-sea-lion/02/'\n",
    "OUTPUT_DIR = '../../output/kaggle-sea-lion/07/'\n",
    "IMAGE_DIMS = (84,84,3)#class0\n",
    "#IMAGE_DIMS = (84,84,3)#class1\n",
    "#IMAGE_DIMS = (56,56,3)#class2\n",
    "#IMAGE_DIMS = (42,42,3)#class3\n",
    "#IMAGE_DIMS = (26,26,3)#class4\n",
    "\n",
    "TRAIN_CLASS = 0\n",
    "SAVE_WEIGHTS_FILE = OUTPUT_DIR + 'last-weights-medium1-class0.h5'\n",
    "\n",
    "Y_CHANGE = [[1,2,3,4,5],[0]]\n",
    "TRAIN_WEIGHT_RAW = (1,0.2,0.2,0.2,0.2,0.2)\n",
    "TRAIN_WEIGHT = (1,1)\n",
    "TEST_WEIGHT_RAW = (1,0.2,0.2,0.2,0.2,0.2)\n",
    "TEST_WEIGHT = (1,1)\n",
    "\n",
    "SAVE_MODEL_FILE = None\n",
    "LOAD_WEIGHTS_FILE = SAVE_WEIGHTS_FILE\n",
    "LOAD_MODEL_FILE = None\n",
    "INPUT_DATASET_NAME = 'lion-patches-0px'\n",
    "\n",
    "RECREATE_OUTPUT_DIR = True\n",
    "RUN_TRAINING = True\n",
    "\n",
    "TRAIN_EPOCHS = 10\n",
    "INPUT_RANGE = 1\n",
    "DEBUG = False\n",
    "\n",
    "BATCH_SIZE=48"
   ]
  },
  {
   "cell_type": "code",
   "execution_count": 2,
   "metadata": {
    "collapsed": false,
    "deletable": true,
    "editable": true
   },
   "outputs": [
    {
     "name": "stderr",
     "output_type": "stream",
     "text": [
      "Using TensorFlow backend.\n"
     ]
    }
   ],
   "source": [
    "%matplotlib inline\n",
    "import numpy as np\n",
    "import pandas as pd\n",
    "import h5py\n",
    "import matplotlib.pyplot as plt\n",
    "import sklearn\n",
    "import os\n",
    "import glob\n",
    "\n",
    "import keras\n",
    "from keras.preprocessing.image import ImageDataGenerator\n",
    "from keras import models\n",
    "\n",
    "from modules.logging import logger\n",
    "import modules.utils as utils\n",
    "from modules.utils import Timer\n",
    "import modules.logging\n",
    "import modules.cnn as cnn\n",
    "import modules.lions as lions"
   ]
  },
  {
   "cell_type": "markdown",
   "metadata": {
    "deletable": true,
    "editable": true
   },
   "source": [
    "## Prepare"
   ]
  },
  {
   "cell_type": "markdown",
   "metadata": {
    "deletable": true,
    "editable": true
   },
   "source": [
    "### Prepare output dir"
   ]
  },
  {
   "cell_type": "code",
   "execution_count": 3,
   "metadata": {
    "collapsed": false,
    "deletable": true,
    "editable": true
   },
   "outputs": [
    {
     "name": "stderr",
     "output_type": "stream",
     "text": [
      "2017-06-11 13:39:45,548 INFO Output dirs created\n"
     ]
    }
   ],
   "source": [
    "utils.mkdirs(OUTPUT_DIR, dirs=['tf-logs','weights'], recreate=RECREATE_OUTPUT_DIR)\n",
    "modules.logging.setup_file_logger(OUTPUT_DIR + 'out.log')\n",
    "TF_LOGS_DIR = OUTPUT_DIR + 'tf-logs/'\n",
    "WEIGHTS_DIR = OUTPUT_DIR + 'weights/'\n",
    "input_dataset_path = INPUT_DIR + utils.dataset_name(INPUT_DATASET_NAME, IMAGE_DIMS)\n",
    "\n",
    "logger.info('Output dirs created')"
   ]
  },
  {
   "cell_type": "markdown",
   "metadata": {
    "deletable": true,
    "editable": true
   },
   "source": [
    "### Prepare train, validate and test data flows"
   ]
  },
  {
   "cell_type": "code",
   "execution_count": 4,
   "metadata": {
    "collapsed": false,
    "deletable": true,
    "editable": true,
    "scrolled": false
   },
   "outputs": [
    {
     "name": "stderr",
     "output_type": "stream",
     "text": [
      "2017-06-11 13:39:45,589 INFO Using dataset ../../input/kaggle-sea-lion/02/lion-patches-0px-84-84.h5 as input\n",
      "2017-06-11 13:39:45,604 INFO preparing train data\n",
      "2017-06-11 13:39:45,606 INFO loading input data for class distribution analysis...\n",
      "2017-06-11 13:39:45,607 INFO loading Y from raw dataset\n",
      "2017-06-11 13:39:45,609 INFO > [started] generator dump...\n"
     ]
    },
    {
     "name": "stdout",
     "output_type": "stream",
     "text": [
      "\r",
      "1600/2263"
     ]
    },
    {
     "name": "stderr",
     "output_type": "stream",
     "text": [
      "2017-06-11 13:39:46,004 INFO > [done]    generator dump (395.147 ms)\n",
      "2017-06-11 13:39:46,007 INFO raw sample class distribution\n",
      "2017-06-11 13:39:46,008 INFO 0: 78\n",
      "2017-06-11 13:39:46,010 INFO 1: 45\n",
      "2017-06-11 13:39:46,011 INFO 2: 675\n",
      "2017-06-11 13:39:46,013 INFO 3: 150\n",
      "2017-06-11 13:39:46,014 INFO 4: 281\n",
      "2017-06-11 13:39:46,015 INFO 5: 1034\n",
      "2017-06-11 13:39:46,017 INFO overall output samples per class: 90\n",
      "2017-06-11 13:39:46,018 INFO augmentation/undersampling ratio per class\n",
      "2017-06-11 13:39:46,020 INFO SETUP FLOW 0 0.7\n",
      "2017-06-11 13:39:46,021 INFO calculating source range according to start/end range of the desired output..\n",
      "2017-06-11 13:39:46,023 INFO output distribution for this flow\n",
      "2017-06-11 13:39:46,024 INFO 0: 62 (1.15)\n",
      "2017-06-11 13:39:46,026 INFO 1: 12 (0.40)\n",
      "2017-06-11 13:39:46,027 INFO 2: 12 (0.03)\n",
      "2017-06-11 13:39:46,028 INFO 3: 12 (0.12)\n",
      "2017-06-11 13:39:46,029 INFO 4: 12 (0.06)\n",
      "2017-06-11 13:39:46,031 INFO 5: 12 (0.02)\n",
      "2017-06-11 13:39:46,034 INFO source range: 0-1836 (1836)\n",
      "2017-06-11 13:39:46,035 INFO output range: 0-125 (125)\n",
      "2017-06-11 13:39:46,036 INFO loading input data for class distribution analysis...\n",
      "2017-06-11 13:39:46,038 INFO loading Y from raw dataset\n",
      "2017-06-11 13:39:46,039 INFO > [started] generator dump...\n",
      "2017-06-11 13:39:46,040 INFO starting new flow...\n",
      "2017-06-11 13:39:46,559 INFO > [done]    generator dump (519.571 ms)\n",
      "2017-06-11 13:39:46,562 INFO raw sample class distribution\n",
      "2017-06-11 13:39:46,563 INFO 0: 67\n",
      "2017-06-11 13:39:46,564 INFO 1: 58\n",
      "2017-06-11 13:39:46,566 INFO overall output samples per class: 116\n",
      "2017-06-11 13:39:46,567 INFO augmentation/undersampling ratio per class\n",
      "2017-06-11 13:39:46,569 INFO SETUP FLOW 0 1\n",
      "2017-06-11 13:39:46,570 INFO calculating source range according to start/end range of the desired output..\n",
      "2017-06-11 13:39:46,571 INFO output distribution for this flow\n",
      "2017-06-11 13:39:46,574 INFO 0: 115 (1.73)\n",
      "2017-06-11 13:39:46,575 INFO 1: 116 (2.00)\n",
      "2017-06-11 13:39:46,576 INFO source range: 0-123 (123)\n",
      "2017-06-11 13:39:46,577 INFO output range: 0-231 (231)\n",
      "2017-06-11 13:39:46,579 INFO train size=231 batches=5\n",
      "2017-06-11 13:39:46,580 INFO preparing valid data\n",
      "2017-06-11 13:39:46,582 INFO loading input data for class distribution analysis...\n",
      "2017-06-11 13:39:46,583 INFO loading Y from raw dataset\n",
      "2017-06-11 13:39:46,585 INFO > [started] generator dump...\n"
     ]
    },
    {
     "name": "stdout",
     "output_type": "stream",
     "text": [
      "\r",
      "1600/2263"
     ]
    },
    {
     "name": "stderr",
     "output_type": "stream",
     "text": [
      "2017-06-11 13:39:46,918 INFO > [done]    generator dump (333.349 ms)\n",
      "2017-06-11 13:39:46,921 INFO raw sample class distribution\n",
      "2017-06-11 13:39:46,923 INFO 0: 78\n",
      "2017-06-11 13:39:46,924 INFO 1: 45\n",
      "2017-06-11 13:39:46,926 INFO 2: 675\n",
      "2017-06-11 13:39:46,927 INFO 3: 150\n",
      "2017-06-11 13:39:46,929 INFO 4: 281\n",
      "2017-06-11 13:39:46,931 INFO 5: 1034\n",
      "2017-06-11 13:39:46,932 INFO overall output samples per class: 90\n",
      "2017-06-11 13:39:46,934 INFO augmentation/undersampling ratio per class\n",
      "2017-06-11 13:39:46,935 INFO SETUP FLOW 0.7 0.85\n",
      "2017-06-11 13:39:46,936 INFO calculating source range according to start/end range of the desired output..\n",
      "2017-06-11 13:39:46,938 INFO output distribution for this flow\n",
      "2017-06-11 13:39:46,939 INFO 0: 13 (1.15)\n",
      "2017-06-11 13:39:46,941 INFO 1: 2 (0.40)\n",
      "2017-06-11 13:39:46,942 INFO 2: 2 (0.03)\n",
      "2017-06-11 13:39:46,943 INFO 3: 2 (0.12)\n",
      "2017-06-11 13:39:46,945 INFO 4: 2 (0.06)\n",
      "2017-06-11 13:39:46,946 INFO 5: 2 (0.02)\n",
      "2017-06-11 13:39:46,949 INFO source range: 1588-1894 (306)\n",
      "2017-06-11 13:39:46,951 INFO output range: 126-152 (26)\n",
      "2017-06-11 13:39:46,952 INFO loading input data for class distribution analysis...\n",
      "2017-06-11 13:39:46,954 INFO loading Y from raw dataset\n",
      "2017-06-11 13:39:46,955 INFO > [started] generator dump...\n",
      "2017-06-11 13:39:46,956 INFO starting new flow...\n",
      "2017-06-11 13:39:47,056 INFO > [done]    generator dump (100.959 ms)\n",
      "2017-06-11 13:39:47,059 INFO raw sample class distribution\n",
      "2017-06-11 13:39:47,060 INFO 0: 15\n",
      "2017-06-11 13:39:47,062 INFO 1: 11\n",
      "2017-06-11 13:39:47,063 INFO overall output samples per class: 22\n",
      "2017-06-11 13:39:47,065 INFO augmentation/undersampling ratio per class\n",
      "2017-06-11 13:39:47,066 INFO SETUP FLOW 0 1\n",
      "2017-06-11 13:39:47,068 INFO calculating source range according to start/end range of the desired output..\n",
      "2017-06-11 13:39:47,069 INFO output distribution for this flow\n",
      "2017-06-11 13:39:47,071 INFO 0: 22 (1.47)\n",
      "2017-06-11 13:39:47,072 INFO 1: 22 (2.00)\n",
      "2017-06-11 13:39:47,074 INFO source range: 0-25 (25)\n",
      "2017-06-11 13:39:47,075 INFO output range: 0-44 (44)\n",
      "2017-06-11 13:39:47,076 INFO SETUP FLOW 0 25\n",
      "2017-06-11 13:39:47,078 INFO calculating source range according to start/end range of the desired output..\n",
      "2017-06-11 13:39:47,079 INFO output distribution for this flow\n",
      "2017-06-11 13:39:47,080 INFO 0: 2225 (1.15)\n",
      "2017-06-11 13:39:47,081 INFO 1: 450 (0.40)\n",
      "2017-06-11 13:39:47,082 INFO 2: 450 (0.03)\n",
      "2017-06-11 13:39:47,083 INFO 3: 450 (0.12)\n",
      "2017-06-11 13:39:47,085 INFO 4: 450 (0.06)\n",
      "2017-06-11 13:39:47,086 INFO 5: 450 (0.02)\n",
      "2017-06-11 13:39:47,089 INFO source range: 0-2262 (2262)\n",
      "2017-06-11 13:39:47,091 INFO output range: 0-4475 (4475)\n",
      "2017-06-11 13:39:47,092 INFO valid size=44 batches=1\n",
      "2017-06-11 13:39:47,094 INFO preparing test data\n",
      "2017-06-11 13:39:47,095 INFO loading input data for class distribution analysis...\n",
      "2017-06-11 13:39:47,097 INFO loading Y from raw dataset\n",
      "2017-06-11 13:39:47,098 INFO > [started] generator dump...\n"
     ]
    },
    {
     "name": "stdout",
     "output_type": "stream",
     "text": [
      "\r",
      "1600/2263"
     ]
    },
    {
     "name": "stderr",
     "output_type": "stream",
     "text": [
      "2017-06-11 13:39:47,423 INFO > [done]    generator dump (324.211 ms)\n",
      "2017-06-11 13:39:47,426 INFO raw sample class distribution\n",
      "2017-06-11 13:39:47,427 INFO 0: 78\n",
      "2017-06-11 13:39:47,429 INFO 1: 45\n",
      "2017-06-11 13:39:47,430 INFO 2: 675\n",
      "2017-06-11 13:39:47,431 INFO 3: 150\n",
      "2017-06-11 13:39:47,433 INFO 4: 281\n",
      "2017-06-11 13:39:47,434 INFO 5: 1034\n",
      "2017-06-11 13:39:47,436 INFO overall output samples per class: 90\n",
      "2017-06-11 13:39:47,437 INFO augmentation/undersampling ratio per class\n",
      "2017-06-11 13:39:47,438 INFO SETUP FLOW 0.85 1\n",
      "2017-06-11 13:39:47,440 INFO calculating source range according to start/end range of the desired output..\n",
      "2017-06-11 13:39:47,441 INFO output distribution for this flow\n",
      "2017-06-11 13:39:47,442 INFO 0: 13 (1.15)\n",
      "2017-06-11 13:39:47,444 INFO 1: 2 (0.40)\n",
      "2017-06-11 13:39:47,445 INFO 2: 2 (0.03)\n",
      "2017-06-11 13:39:47,446 INFO 3: 2 (0.12)\n",
      "2017-06-11 13:39:47,448 INFO 4: 2 (0.06)\n",
      "2017-06-11 13:39:47,449 INFO 5: 2 (0.02)\n",
      "2017-06-11 13:39:47,452 INFO source range: 1869-2090 (221)\n",
      "2017-06-11 13:39:47,453 INFO output range: 153-179 (26)\n",
      "2017-06-11 13:39:47,455 INFO loading input data for class distribution analysis...\n",
      "2017-06-11 13:39:47,457 INFO loading Y from raw dataset\n",
      "2017-06-11 13:39:47,458 INFO > [started] generator dump...\n",
      "2017-06-11 13:39:47,459 INFO starting new flow...\n",
      "2017-06-11 13:39:47,516 INFO > [done]    generator dump (58.177 ms)\n",
      "2017-06-11 13:39:47,520 INFO raw sample class distribution\n",
      "2017-06-11 13:39:47,522 INFO 0: 16\n",
      "2017-06-11 13:39:47,523 INFO 1: 10\n",
      "2017-06-11 13:39:47,524 INFO overall output samples per class: 20\n",
      "2017-06-11 13:39:47,526 INFO augmentation/undersampling ratio per class\n",
      "2017-06-11 13:39:47,527 INFO SETUP FLOW 0 1\n",
      "2017-06-11 13:39:47,528 INFO calculating source range according to start/end range of the desired output..\n",
      "2017-06-11 13:39:47,529 INFO output distribution for this flow\n",
      "2017-06-11 13:39:47,530 INFO 0: 20 (1.25)\n",
      "2017-06-11 13:39:47,532 INFO 1: 20 (2.00)\n",
      "2017-06-11 13:39:47,533 INFO source range: 0-25 (25)\n",
      "2017-06-11 13:39:47,535 INFO output range: 0-40 (40)\n",
      "2017-06-11 13:39:47,536 INFO SETUP FLOW 0 25\n",
      "2017-06-11 13:39:47,537 INFO calculating source range according to start/end range of the desired output..\n",
      "2017-06-11 13:39:47,538 INFO output distribution for this flow\n",
      "2017-06-11 13:39:47,540 INFO 0: 2225 (1.15)\n",
      "2017-06-11 13:39:47,541 INFO 1: 450 (0.40)\n",
      "2017-06-11 13:39:47,543 INFO 2: 450 (0.03)\n",
      "2017-06-11 13:39:47,544 INFO 3: 450 (0.12)\n",
      "2017-06-11 13:39:47,547 INFO 4: 450 (0.06)\n",
      "2017-06-11 13:39:47,549 INFO 5: 450 (0.02)\n",
      "2017-06-11 13:39:47,552 INFO source range: 0-2262 (2262)\n",
      "2017-06-11 13:39:47,553 INFO output range: 0-4475 (4475)\n",
      "2017-06-11 13:39:47,555 INFO test size=40 batches=1\n"
     ]
    }
   ],
   "source": [
    "logger.info('Using dataset ' + input_dataset_path + ' as input')\n",
    "h5file = h5py.File(input_dataset_path, 'r')\n",
    "\n",
    "#used for image augmentation (creating new images for balancing)\n",
    "image_augmentation_generator = ImageDataGenerator(\n",
    "        featurewise_center=False,\n",
    "        samplewise_center=False,\n",
    "        featurewise_std_normalization=False,\n",
    "        samplewise_std_normalization=False,\n",
    "        zca_whitening=False,\n",
    "        rotation_range=359,\n",
    "        width_shift_range=0,\n",
    "        height_shift_range=0,\n",
    "        shear_range=0,\n",
    "        horizontal_flip=True,\n",
    "        vertical_flip=True)\n",
    "\n",
    "#applied to all images during training\n",
    "image_randomize_generator = ImageDataGenerator(\n",
    "        featurewise_center=False,\n",
    "        samplewise_center=False,\n",
    "        featurewise_std_normalization=False,\n",
    "        samplewise_std_normalization=False,\n",
    "        zca_whitening=False,\n",
    "        rotation_range=359,\n",
    "        width_shift_range=0,\n",
    "        height_shift_range=0,\n",
    "        shear_range=0,\n",
    "        horizontal_flip=True,\n",
    "        vertical_flip=True)\n",
    "\n",
    "logger.info('preparing train data')\n",
    "train_batch_generator = utils.BatchGeneratorXYH5(h5file, start_ratio=0, end_ratio=INPUT_RANGE)\n",
    "train_balance_generator = utils.ClassBalancerGeneratorXY(train_batch_generator,\n",
    "                                                         image_augmentation=image_augmentation_generator,\n",
    "                                                         output_weight=TRAIN_WEIGHT_RAW,\n",
    "                                                         max_augmentation_ratio=1,\n",
    "                                                         max_undersampling_ratio=1,\n",
    "                                                         enforce_max_ratios=False,\n",
    "                                                         batch_size=BATCH_SIZE,\n",
    "                                                         start_ratio=0, end_ratio=0.7)\n",
    "train_image_generator = utils.ImageAugmentationXYGenerator(train_balance_generator, image_randomize_generator)\n",
    "train_generator = utils.ClassBalancerGeneratorXY(train_image_generator,\n",
    "                                                         image_augmentation=image_augmentation_generator,\n",
    "                                                         output_weight=TRAIN_WEIGHT,\n",
    "                                                         max_augmentation_ratio=1,\n",
    "                                                         max_undersampling_ratio=1,\n",
    "                                                         enforce_max_ratios=False,\n",
    "                                                         batch_size=BATCH_SIZE,\n",
    "                                                         start_ratio=0, end_ratio=1,\n",
    "                                                         change_y=Y_CHANGE)\n",
    "#train_generator = utils.ChangeXYGenerator(train_image_generator, categorical_to_boolean)\n",
    "logger.info('train size=' + str(train_generator.size) + ' batches=' + str(train_generator.nr_batches))\n",
    "\n",
    "\n",
    "logger.info('preparing valid data')\n",
    "valid_batch_generator = utils.BatchGeneratorXYH5(h5file, start_ratio=0, end_ratio=INPUT_RANGE)\n",
    "valid_balance_generator = utils.ClassBalancerGeneratorXY(valid_batch_generator,\n",
    "                                                         image_augmentation=image_augmentation_generator,\n",
    "                                                         output_weight=TEST_WEIGHT_RAW,\n",
    "                                                         max_augmentation_ratio=1,\n",
    "                                                         max_undersampling_ratio=1,\n",
    "                                                         enforce_max_ratios=False,\n",
    "                                                         batch_size=BATCH_SIZE,\n",
    "                                                         start_ratio=0.7, end_ratio=0.85)\n",
    "valid_generator = utils.ClassBalancerGeneratorXY(valid_balance_generator,\n",
    "                                                         image_augmentation=image_augmentation_generator,\n",
    "                                                         output_weight=TEST_WEIGHT,\n",
    "                                                         max_augmentation_ratio=1,\n",
    "                                                         max_undersampling_ratio=1,\n",
    "                                                         enforce_max_ratios=False,\n",
    "                                                         batch_size=BATCH_SIZE,\n",
    "                                                         start_ratio=0, end_ratio=1,\n",
    "                                                         change_y=Y_CHANGE)\n",
    "logger.info('valid size=' + str(valid_generator.size) + ' batches=' + str(valid_generator.nr_batches))\n",
    "\n",
    "\n",
    "\n",
    "logger.info('preparing test data')\n",
    "test_batch_generator = utils.BatchGeneratorXYH5(h5file, start_ratio=0, end_ratio=INPUT_RANGE)\n",
    "test_balance_generator = utils.ClassBalancerGeneratorXY(test_batch_generator,\n",
    "                                                         image_augmentation=image_augmentation_generator,\n",
    "                                                         output_weight=TEST_WEIGHT_RAW,\n",
    "                                                         max_augmentation_ratio=1,\n",
    "                                                         max_undersampling_ratio=1,\n",
    "                                                         enforce_max_ratios=False,\n",
    "                                                         batch_size=BATCH_SIZE,\n",
    "                                                         start_ratio=0.85, end_ratio=1)\n",
    "test_generator = utils.ClassBalancerGeneratorXY(test_balance_generator,\n",
    "                                                         image_augmentation=image_augmentation_generator,\n",
    "                                                         output_weight=TEST_WEIGHT,\n",
    "                                                         max_augmentation_ratio=1,\n",
    "                                                         max_undersampling_ratio=1,\n",
    "                                                         enforce_max_ratios=False,\n",
    "                                                         batch_size=BATCH_SIZE,\n",
    "                                                         start_ratio=0, end_ratio=1,\n",
    "                                                         change_y=Y_CHANGE)\n",
    "logger.info('test size=' + str(test_generator.size) + ' batches=' + str(test_generator.nr_batches))\n",
    "\n",
    "#FIXME when using 1 on end ratio size and nr_batches gets negative (h5 batch generator, not balancer...)"
   ]
  },
  {
   "cell_type": "code",
   "execution_count": 5,
   "metadata": {
    "collapsed": false,
    "deletable": true,
    "editable": true,
    "scrolled": false
   },
   "outputs": [],
   "source": [
    "#logger.info('INPUT DATASET DATA')\n",
    "#dataset_path = INPUT_DIR + utils.dataset_name(INPUT_DATASET_NAME, IMAGE_DIMS)\n",
    "#with h5py.File(input_dataset_path, 'r') as h5file:\n",
    "#    logger.info('generator')\n",
    "#    input_generator = utils.BatchGeneratorXYH5(h5file, start_ratio=0.001, end_ratio=0.0012, batch_size=64)\n",
    "#    X, Y = utils.dump_xy_to_array(input_generator.flow(), input_generator.size, x=True, y=True)\n",
    "#    utils.show_images(X, image_labels=utils.onehot_to_label(Y), group_by_label=False, cols=10, is_bgr=True, size=2)\n",
    "#\n",
    "#    logger.info('x ' + str(np.shape(X)))\n",
    "#    logger.info('y ' + str(np.shape(Y)))\n",
    "#    logger.info(str(utils.class_distribution(Y)))\n",
    "\n",
    "if(DEBUG):\n",
    "    logger.info('BALANCE GENERATOR DATA')\n",
    "    #dataset_path = INPUT_DIR + utils.dataset_name(INPUT_DATASET_NAME, IMAGE_DIMS)\n",
    "    X_train, Y_train = utils.dump_xy_to_array(train_generator.flow(), train_generator.size, x=False, y=True)\n",
    "    logger.info('y ' + str(np.shape(Y_train)))\n",
    "    #logger.info(str(utils.class_distribution(Y_train)))\n",
    "\n",
    "    for xs,ys in train_generator.flow():\n",
    "        utils.show_images(xs, image_labels=ys, cols=10, is_bgr=True, size=2)\n",
    "        break"
   ]
  },
  {
   "cell_type": "markdown",
   "metadata": {
    "deletable": true,
    "editable": true
   },
   "source": [
    "### Prepare CNN model"
   ]
  },
  {
   "cell_type": "code",
   "execution_count": 6,
   "metadata": {
    "collapsed": false,
    "deletable": true,
    "editable": true,
    "scrolled": false
   },
   "outputs": [
    {
     "name": "stderr",
     "output_type": "stream",
     "text": [
      "2017-06-11 13:39:47,595 INFO Load CNN model\n",
      "/notebooks/datascience-snippets/kaggle-sea-lion/modules/lions.py:164: UserWarning: Update your `Conv2D` call to the Keras 2 API: `Conv2D(64, (3, 3), activation=\"relu\", kernel_initializer=\"glorot_uniform\", padding=\"same\")`\n",
      "  model.add(convolutional.Conv2D(64, (3, 3), activation='relu', padding='same', init='glorot_uniform'))\n",
      "/notebooks/datascience-snippets/kaggle-sea-lion/modules/lions.py:166: UserWarning: Update your `Conv2D` call to the Keras 2 API: `Conv2D(128, (3, 3), activation=\"relu\", kernel_initializer=\"glorot_uniform\", padding=\"same\")`\n",
      "  model.add(convolutional.Conv2D(128, (3, 3), activation='relu', padding='same', init='glorot_uniform'))\n",
      "/notebooks/datascience-snippets/kaggle-sea-lion/modules/lions.py:168: UserWarning: Update your `Conv2D` call to the Keras 2 API: `Conv2D(256, (3, 3), activation=\"relu\", kernel_initializer=\"glorot_uniform\", padding=\"same\")`\n",
      "  model.add(convolutional.Conv2D(256, (3, 3), activation='relu', padding='same', init='glorot_uniform'))\n",
      "/notebooks/datascience-snippets/kaggle-sea-lion/modules/lions.py:173: UserWarning: Update your `Dense` call to the Keras 2 API: `Dense(1024, activation=\"relu\", kernel_initializer=\"glorot_uniform\")`\n",
      "  model.add(core.Dense(1024, activation='relu', init='glorot_uniform'))\n",
      "/notebooks/datascience-snippets/kaggle-sea-lion/modules/lions.py:175: UserWarning: Update your `Dense` call to the Keras 2 API: `Dense(1024, activation=\"relu\", kernel_initializer=\"glorot_uniform\")`\n",
      "  model.add(core.Dense(1024, activation='relu', init='glorot_uniform'))\n",
      "2017-06-11 13:39:47,756 INFO loaded model from function convnet_medium1_single\n",
      "2017-06-11 13:39:47,761 INFO Model prepared\n"
     ]
    }
   ],
   "source": [
    "logger.info('Load CNN model')\n",
    "#model = lions.convnet_alexnet2_lion_keras(IMAGE_DIMS)\n",
    "\n",
    "model = None\n",
    "if(LOAD_MODEL_FILE!=None and os.path.isfile(LOAD_MODEL_FILE)):\n",
    "    with open(LOAD_MODEL_FILE, 'r') as model_file:\n",
    "        my = model_file.read()\n",
    "        model = models.model_from_yaml(my)\n",
    "        logger.info('loaded model from file ' + LOAD_MODEL_FILE)\n",
    "else:\n",
    "    model = lions.convnet_medium1_boolean(IMAGE_DIMS)\n",
    "    logger.info('loaded model from function convnet_medium1_single')\n",
    "    \n",
    "\n",
    "if(LOAD_WEIGHTS_FILE!=None and os.path.isfile(LOAD_WEIGHTS_FILE)):\n",
    "    model.load_weights(LOAD_WEIGHTS_FILE)\n",
    "    logger.info('Loaded model weights from ' + LOAD_WEIGHTS_FILE)\n",
    "\n",
    "logger.info('Model prepared')"
   ]
  },
  {
   "cell_type": "markdown",
   "metadata": {
    "deletable": true,
    "editable": true
   },
   "source": [
    "## Train model"
   ]
  },
  {
   "cell_type": "code",
   "execution_count": 7,
   "metadata": {
    "collapsed": false,
    "deletable": true,
    "editable": true,
    "scrolled": false
   },
   "outputs": [
    {
     "name": "stderr",
     "output_type": "stream",
     "text": [
      "2017-06-11 13:39:47,772 INFO Starting CNN training...\n"
     ]
    },
    {
     "name": "stdout",
     "output_type": "stream",
     "text": [
      "INFO:tensorflow:Summary name conv2d_1/kernel:0 is illegal; using conv2d_1/kernel_0 instead.\n"
     ]
    },
    {
     "name": "stderr",
     "output_type": "stream",
     "text": [
      "2017-06-11 13:39:47,978 INFO Summary name conv2d_1/kernel:0 is illegal; using conv2d_1/kernel_0 instead.\n"
     ]
    },
    {
     "name": "stdout",
     "output_type": "stream",
     "text": [
      "INFO:tensorflow:Summary name conv2d_1/kernel:0 is illegal; using conv2d_1/kernel_0 instead.\n"
     ]
    },
    {
     "name": "stderr",
     "output_type": "stream",
     "text": [
      "2017-06-11 13:39:47,984 INFO Summary name conv2d_1/kernel:0 is illegal; using conv2d_1/kernel_0 instead.\n"
     ]
    },
    {
     "name": "stdout",
     "output_type": "stream",
     "text": [
      "INFO:tensorflow:Summary name conv2d_1/bias:0 is illegal; using conv2d_1/bias_0 instead.\n"
     ]
    },
    {
     "name": "stderr",
     "output_type": "stream",
     "text": [
      "2017-06-11 13:39:47,988 INFO Summary name conv2d_1/bias:0 is illegal; using conv2d_1/bias_0 instead.\n"
     ]
    },
    {
     "name": "stdout",
     "output_type": "stream",
     "text": [
      "INFO:tensorflow:Summary name conv2d_1/bias:0 is illegal; using conv2d_1/bias_0 instead.\n"
     ]
    },
    {
     "name": "stderr",
     "output_type": "stream",
     "text": [
      "2017-06-11 13:39:47,995 INFO Summary name conv2d_1/bias:0 is illegal; using conv2d_1/bias_0 instead.\n"
     ]
    },
    {
     "name": "stdout",
     "output_type": "stream",
     "text": [
      "INFO:tensorflow:Summary name conv2d_2/kernel:0 is illegal; using conv2d_2/kernel_0 instead.\n"
     ]
    },
    {
     "name": "stderr",
     "output_type": "stream",
     "text": [
      "2017-06-11 13:39:48,001 INFO Summary name conv2d_2/kernel:0 is illegal; using conv2d_2/kernel_0 instead.\n"
     ]
    },
    {
     "name": "stdout",
     "output_type": "stream",
     "text": [
      "INFO:tensorflow:Summary name conv2d_2/kernel:0 is illegal; using conv2d_2/kernel_0 instead.\n"
     ]
    },
    {
     "name": "stderr",
     "output_type": "stream",
     "text": [
      "2017-06-11 13:39:48,007 INFO Summary name conv2d_2/kernel:0 is illegal; using conv2d_2/kernel_0 instead.\n"
     ]
    },
    {
     "name": "stdout",
     "output_type": "stream",
     "text": [
      "INFO:tensorflow:Summary name conv2d_2/bias:0 is illegal; using conv2d_2/bias_0 instead.\n"
     ]
    },
    {
     "name": "stderr",
     "output_type": "stream",
     "text": [
      "2017-06-11 13:39:48,011 INFO Summary name conv2d_2/bias:0 is illegal; using conv2d_2/bias_0 instead.\n"
     ]
    },
    {
     "name": "stdout",
     "output_type": "stream",
     "text": [
      "INFO:tensorflow:Summary name conv2d_2/bias:0 is illegal; using conv2d_2/bias_0 instead.\n"
     ]
    },
    {
     "name": "stderr",
     "output_type": "stream",
     "text": [
      "2017-06-11 13:39:48,018 INFO Summary name conv2d_2/bias:0 is illegal; using conv2d_2/bias_0 instead.\n"
     ]
    },
    {
     "name": "stdout",
     "output_type": "stream",
     "text": [
      "INFO:tensorflow:Summary name conv2d_3/kernel:0 is illegal; using conv2d_3/kernel_0 instead.\n"
     ]
    },
    {
     "name": "stderr",
     "output_type": "stream",
     "text": [
      "2017-06-11 13:39:48,023 INFO Summary name conv2d_3/kernel:0 is illegal; using conv2d_3/kernel_0 instead.\n"
     ]
    },
    {
     "name": "stdout",
     "output_type": "stream",
     "text": [
      "INFO:tensorflow:Summary name conv2d_3/kernel:0 is illegal; using conv2d_3/kernel_0 instead.\n"
     ]
    },
    {
     "name": "stderr",
     "output_type": "stream",
     "text": [
      "2017-06-11 13:39:48,029 INFO Summary name conv2d_3/kernel:0 is illegal; using conv2d_3/kernel_0 instead.\n"
     ]
    },
    {
     "name": "stdout",
     "output_type": "stream",
     "text": [
      "INFO:tensorflow:Summary name conv2d_3/bias:0 is illegal; using conv2d_3/bias_0 instead.\n"
     ]
    },
    {
     "name": "stderr",
     "output_type": "stream",
     "text": [
      "2017-06-11 13:39:48,033 INFO Summary name conv2d_3/bias:0 is illegal; using conv2d_3/bias_0 instead.\n"
     ]
    },
    {
     "name": "stdout",
     "output_type": "stream",
     "text": [
      "INFO:tensorflow:Summary name conv2d_3/bias:0 is illegal; using conv2d_3/bias_0 instead.\n"
     ]
    },
    {
     "name": "stderr",
     "output_type": "stream",
     "text": [
      "2017-06-11 13:39:48,040 INFO Summary name conv2d_3/bias:0 is illegal; using conv2d_3/bias_0 instead.\n"
     ]
    },
    {
     "name": "stdout",
     "output_type": "stream",
     "text": [
      "INFO:tensorflow:Summary name dense_1/kernel:0 is illegal; using dense_1/kernel_0 instead.\n"
     ]
    },
    {
     "name": "stderr",
     "output_type": "stream",
     "text": [
      "2017-06-11 13:39:48,046 INFO Summary name dense_1/kernel:0 is illegal; using dense_1/kernel_0 instead.\n"
     ]
    },
    {
     "name": "stdout",
     "output_type": "stream",
     "text": [
      "INFO:tensorflow:Summary name dense_1/kernel:0 is illegal; using dense_1/kernel_0 instead.\n"
     ]
    },
    {
     "name": "stderr",
     "output_type": "stream",
     "text": [
      "2017-06-11 13:39:48,055 INFO Summary name dense_1/kernel:0 is illegal; using dense_1/kernel_0 instead.\n"
     ]
    },
    {
     "name": "stdout",
     "output_type": "stream",
     "text": [
      "INFO:tensorflow:Summary name dense_1/bias:0 is illegal; using dense_1/bias_0 instead.\n"
     ]
    },
    {
     "name": "stderr",
     "output_type": "stream",
     "text": [
      "2017-06-11 13:39:48,059 INFO Summary name dense_1/bias:0 is illegal; using dense_1/bias_0 instead.\n"
     ]
    },
    {
     "name": "stdout",
     "output_type": "stream",
     "text": [
      "INFO:tensorflow:Summary name dense_1/bias:0 is illegal; using dense_1/bias_0 instead.\n"
     ]
    },
    {
     "name": "stderr",
     "output_type": "stream",
     "text": [
      "2017-06-11 13:39:48,066 INFO Summary name dense_1/bias:0 is illegal; using dense_1/bias_0 instead.\n"
     ]
    },
    {
     "name": "stdout",
     "output_type": "stream",
     "text": [
      "INFO:tensorflow:Summary name dense_2/kernel:0 is illegal; using dense_2/kernel_0 instead.\n"
     ]
    },
    {
     "name": "stderr",
     "output_type": "stream",
     "text": [
      "2017-06-11 13:39:48,072 INFO Summary name dense_2/kernel:0 is illegal; using dense_2/kernel_0 instead.\n"
     ]
    },
    {
     "name": "stdout",
     "output_type": "stream",
     "text": [
      "INFO:tensorflow:Summary name dense_2/kernel:0 is illegal; using dense_2/kernel_0 instead.\n"
     ]
    },
    {
     "name": "stderr",
     "output_type": "stream",
     "text": [
      "2017-06-11 13:39:48,077 INFO Summary name dense_2/kernel:0 is illegal; using dense_2/kernel_0 instead.\n"
     ]
    },
    {
     "name": "stdout",
     "output_type": "stream",
     "text": [
      "INFO:tensorflow:Summary name dense_2/bias:0 is illegal; using dense_2/bias_0 instead.\n"
     ]
    },
    {
     "name": "stderr",
     "output_type": "stream",
     "text": [
      "2017-06-11 13:39:48,081 INFO Summary name dense_2/bias:0 is illegal; using dense_2/bias_0 instead.\n"
     ]
    },
    {
     "name": "stdout",
     "output_type": "stream",
     "text": [
      "INFO:tensorflow:Summary name dense_2/bias:0 is illegal; using dense_2/bias_0 instead.\n"
     ]
    },
    {
     "name": "stderr",
     "output_type": "stream",
     "text": [
      "2017-06-11 13:39:48,088 INFO Summary name dense_2/bias:0 is illegal; using dense_2/bias_0 instead.\n"
     ]
    },
    {
     "name": "stdout",
     "output_type": "stream",
     "text": [
      "INFO:tensorflow:Summary name dense_3/kernel:0 is illegal; using dense_3/kernel_0 instead.\n"
     ]
    },
    {
     "name": "stderr",
     "output_type": "stream",
     "text": [
      "2017-06-11 13:39:48,094 INFO Summary name dense_3/kernel:0 is illegal; using dense_3/kernel_0 instead.\n"
     ]
    },
    {
     "name": "stdout",
     "output_type": "stream",
     "text": [
      "INFO:tensorflow:Summary name dense_3/kernel:0 is illegal; using dense_3/kernel_0 instead.\n"
     ]
    },
    {
     "name": "stderr",
     "output_type": "stream",
     "text": [
      "2017-06-11 13:39:48,103 INFO Summary name dense_3/kernel:0 is illegal; using dense_3/kernel_0 instead.\n"
     ]
    },
    {
     "name": "stdout",
     "output_type": "stream",
     "text": [
      "INFO:tensorflow:Summary name dense_3/bias:0 is illegal; using dense_3/bias_0 instead.\n"
     ]
    },
    {
     "name": "stderr",
     "output_type": "stream",
     "text": [
      "2017-06-11 13:39:48,107 INFO Summary name dense_3/bias:0 is illegal; using dense_3/bias_0 instead.\n"
     ]
    },
    {
     "name": "stdout",
     "output_type": "stream",
     "text": [
      "INFO:tensorflow:Summary name dense_3/bias:0 is illegal; using dense_3/bias_0 instead.\n"
     ]
    },
    {
     "name": "stderr",
     "output_type": "stream",
     "text": [
      "2017-06-11 13:39:48,114 INFO Summary name dense_3/bias:0 is illegal; using dense_3/bias_0 instead.\n",
      "/usr/local/lib/python3.4/dist-packages/ipykernel/__main__.py:9: UserWarning: Update your `fit_generator` call to the Keras 2 API: `fit_generator(<generator..., steps_per_epoch=5, validation_data=<generator..., verbose=1, epochs=10, callbacks=[<keras.ca..., validation_steps=1)`\n",
      "2017-06-11 13:39:48,735 INFO starting new flow...\n",
      "2017-06-11 13:39:48,738 INFO starting new flow...\n"
     ]
    },
    {
     "name": "stdout",
     "output_type": "stream",
     "text": [
      "Epoch 1/10\n",
      "Epoch 1/10\n",
      "4/5 [=======================>......] - ETA: 2s - loss: 1.1947 - acc: 0.5990 \b\b\b\b\b\b\b\b\b\b\b\b\b\b\b\b\b\b\b\b\b\b\b\b\b\b\b\b\b\b\b\b\b\b\b\b\b\b\b\b\b\b\b\b\b\b\b\b\b\b\b\b\b\b\b\b\b\b\b\b\b\b\b\b\b\b\b\b\b\b\b\b\b\b\b\b\b\b\b\b\b\b\b\b\b\b\b\b\b\b\b\b\b\b\b\b\b\b\b\b\b\b\b\b\b\b\b\b\b\b\b\b\b\b\b\b\b\b\b\b\b\b\b\b\b\b\b\b\b\b\b\b\b\b\b\b\b\b\b\b\b\b\b\b\b\b\b\b\b\b\b\b\b\b\b\b\b\b\b\b\b\b\b\b\b\b\b\b\b\b\b\b\b\b\b\b\b\b\b\b\b\b\b\b\b\b\b\b\b\b\b\b\b\b\b\b\b\b\b\b\b\b\b\b\b\b\b\b\b\b\b\b\b\b\b\b\b\b\b\b\b\b\b\b\b\b\b\b\b\b\b\b\b\b\b\b\b\b\b\b\b\b\b\b\b\b\b\b\b\b\b\b\b\b\b\b\b\b\b\b\b\b\b\b\b\b\b\b\b\b\b\b\b\b\b\b\b\b\b\b\b\b\b\b\b\b\b\b\b\b\b\b\b\b\b\b\b\b\b\b\b\b\b\b\b\b\b\b\b\b\b\b\b\b\b\b\b\b\b\b\b\b\b\b\b\b\b\b\b\b\b\b\b\b\b\b\b\b\b\b\b\b\b\b\b\b\b\b\b\b\b\b\b\b\b\b\b\b\b\b\b\b\b\b\b\b\b\b\b\b\b\b\b\b\b\b\b\b\b\b\b\b\b\b\b\b\b\b\b\b\b\b\b\b\b\b\b\b\b\b\b\b\b\b\b\b\b\b\b\b\b\b\b\b\b\b\b\b\b\b\b\b\b\b\b\b\b\b\b\b\b\b\b\b\b\b\b\b\b\b\b\b\b\b\b\b\b\b\b\b\b\b"
     ]
    },
    {
     "name": "stderr",
     "output_type": "stream",
     "text": [
      "2017-06-11 13:39:58,966 INFO starting new flow...\n",
      "2017-06-11 13:39:58,968 INFO starting new flow...\n"
     ]
    },
    {
     "name": "stdout",
     "output_type": "stream",
     "text": [
      "Epoch 00000: val_acc improved from -inf to 0.25000, saving model to ../../output/kaggle-sea-lion/07/weights/weights-00-0.25.h5\n",
      "5/5 [==============================] - 12s - loss: 1.1029 - acc: 0.5292 - val_loss: 0.6992 - val_acc: 0.2500\n",
      "5/5 [==============================] - 12s - loss: 1.1029 - acc: 0.5292 - val_loss: 0.6992 - val_acc: 0.2500\n",
      "Epoch 2/10\n",
      "Epoch 2/10\n",
      "4/5 [=======================>......] - ETA: 1s - loss: 0.6893 - acc: 0.5365\b\b\b\b\b\b\b\b\b\b\b\b\b\b\b\b\b\b\b\b\b\b\b\b\b\b\b\b\b\b\b\b\b\b\b\b\b\b\b\b\b\b\b\b\b\b\b\b\b\b\b\b\b\b\b\b\b\b\b\b\b\b\b\b\b\b\b\b\b\b\b\b\b\b\b\b\b\b\b\b\b\b\b\b\b\b\b\b\b\b\b\b\b\b\b\b\b\b\b\b\b\b\b\b\b\b\b\b\b\b\b\b\b\b\b\b\b\b\b\b\b\b\b\b\b\b\b\b\b\b\b\b\b\b\b\b\b\b\b\b\b\b\b\b\b\b\b\b\b\b\b\b\b\b\b\b\b\b\b\b\b\b\b\b\b\b\b\b\b\b\b\b\b\b\b\b\b\b\b\b\b\b\b\b\b\b\b\b\b\b\b\b\b\b\b\b\b\b\b\b\b\b\b\b\b\b\b\b\b\b\b\b\b\b\b\b\b\b\b\b\b\b\b\b\b\b\b\b\b\b\b\b\b\b\b\b\b\b\b\b\b\b\b\b\b\b\b\b\b\b\b\b\b\b\b\b\b\b\b\b\b\b\b\b\b\b\b\b\b\b\b\b\b\b\b\b\b\b\b\b\b\b\b\b\b\b\b\b\b\b\b\b\b\b\b\b\b\b\b\b\b\b\b\b\b\b\b\b\b\b\b\b\b\b\b\b\b\b\b\b\b\b\b\b\b\b\b\b\b\b\b\b\b\b\b\b\b\b\b\b\b\b\b\b\b\b\b\b\b\b\b\b\b\b\b\b\b\b\b\b\b\b\b\b\b\b\b\b\b\b\b\b\b\b\b\b\b\b\b\b\b\b\b\b\b\b\b\b\b\b\b\b\b\b\b\b\b\b\b\b\b\b\b\b\b\b\b\b\b\b\b\b\b\b\b\b\b\b\b\b\b\b\b\b\b\b\b\b\b\b\b\b\b\b\b\b\b\b\b\b\b\b\b\b\b\b\b\b\b\bEpoch 00001: val_acc improved from 0.25000 to 0.35417, saving model to ../../output/kaggle-sea-lion/07/weights/weights-01-0.35.h5\n",
      "5/5 [==============================] - 11s - loss: 0.6761 - acc: 0.5958 - val_loss: 0.7925 - val_acc: 0.3542\n",
      "5/5 [==============================] - 12s - loss: 0.6761 - acc: 0.5958 - val_loss: 0.7925 - val_acc: 0.3542\n",
      "Epoch 3/10\n",
      "Epoch 3/10\n",
      "4/5 [=======================>......] - ETA: 1s - loss: 0.6275 - acc: 0.6562\b\b\b\b\b\b\b\b\b\b\b\b\b\b\b\b\b\b\b\b\b\b\b\b\b\b\b\b\b\b\b\b\b\b\b\b\b\b\b\b\b\b\b\b\b\b\b\b\b\b\b\b\b\b\b\b\b\b\b\b\b\b\b\b\b\b\b\b\b\b\b\b\b\b\b\b\b\b\b\b\b\b\b\b\b\b\b\b\b\b\b\b\b\b\b\b\b\b\b\b\b\b\b\b\b\b\b\b\b\b\b\b\b\b\b\b\b\b\b\b\b\b\b\b\b\b\b\b\b\b\b\b\b\b\b\b\b\b\b\b\b\b\b\b\b\b\b\b\b\b\b\b\b\b\b\b\b\b\b\b\b\b\b\b\b\b\b\b\b\b\b\b\b\b\b\b\b\b\b\b\b\b\b\b\b\b\b\b\b\b\b\b\b\b\b\b\b\b\b\b\b\b\b\b\b\b\b\b\b\b\b\b\b\b\b\b\b\b\b\b\b\b\b\b\b\b\b\b\b\b\b\b\b\b\b\b\b\b\b\b\b\b\b\b\b\b\b\b\b\b\b\b\b\b\b\b\b\b\b\b\b\b\b\b\b\b\b\b\b\b\b\b\b\b\b\b\b\b\b\b\b\b\b\b\b\b\b\b\b\b\b\b\b\b\b\b\b\b\b\b\b\b\b\b\b\b\b\b\b\b\b\b\b\b\b\b\b\b\b\b\b\b\b\b\b\b\b\b\b\b\b\b\b\b\b\b\b\b\b\b\b\b\b\b\b\b\b\b\b\b\b\b\b\b\b\b\b\b\b\b\b\b\b\b\b\b\b\b\b\b\b\b\b\b\b\b\b\b\b\b\b\b\b\b\b\b\b\b\b\b\b\b\b\b\b\b\b\b\b\b\b\b\b\b\b\b\b\b\b\b\b\b\b\b\b\b\b\b\b\b\b\b\b\b\b\b\b\b\b\b\b\b\b\b\b\b\b\b\b\b\b\b\b\b\b\b\b\b\b\bEpoch 00002: val_acc improved from 0.35417 to 0.75000, saving model to ../../output/kaggle-sea-lion/07/weights/weights-02-0.75.h5\n",
      "5/5 [==============================] - 12s - loss: 0.6161 - acc: 0.6583 - val_loss: 0.5861 - val_acc: 0.7500\n",
      "5/5 [==============================] - 12s - loss: 0.6161 - acc: 0.6583 - val_loss: 0.5861 - val_acc: 0.7500\n",
      "Epoch 4/10\n",
      "Epoch 4/10\n",
      "4/5 [=======================>......] - ETA: 2s - loss: 0.6611 - acc: 0.6615\b\b\b\b\b\b\b\b\b\b\b\b\b\b\b\b\b\b\b\b\b\b\b\b\b\b\b\b\b\b\b\b\b\b\b\b\b\b\b\b\b\b\b\b\b\b\b\b\b\b\b\b\b\b\b\b\b\b\b\b\b\b\b\b\b\b\b\b\b\b\b\b\b\b\b\b\b\b\b\b\b\b\b\b\b\b\b\b\b\b\b\b\b\b\b\b\b\b\b\b\b\b\b\b\b\b\b\b\b\b\b\b\b\b\b\b\b\b\b\b\b\b\b\b\b\b\b\b\b\b\b\b\b\b\b\b\b\b\b\b\b\b\b\b\b\b\b\b\b\b\b\b\b\b\b\b\b\b\b\b\b\b\b\b\b\b\b\b\b\b\b\b\b\b\b\b\b\b\b\b\b\b\b\b\b\b\b\b\b\b\b\b\b\b\b\b\b\b\b\b\b\b\b\b\b\b\b\b\b\b\b\b\b\b\b\b\b\b\b\b\b\b\b\b\b\b\b\b\b\b\b\b\b\b\b\b\b\b\b\b\b\b\b\b\b\b\b\b\b\b\b\b\b\b\b\b\b\b\b\b\b\b\b\b\b\b\b\b\b\b\b\b\b\b\b\b\b\b\b\b\b\b\b\b\b\b\b\b\b\b\b\b\b\b\b\b\b\b\b\b\b\b\b\b\b\b\b\b\b\b\b\b\b\b\b\b\b\b\b\b\b\b\b\b\b\b\b\b\b\b\b\b\b\b\b\b\b\b\b\b\b\b\b\b\b\b\b\b\b\b\b\b\b\b\b\b\b\b\b\b\b\b\b\b\b\b\b\b\b\b\b\b\b\b\b\b\b\b\b\b\b\b\b\b\b\b\b\b\b\b\b\b\b\b\b\b\b\b\b\b\b\b\b\b\b\b\b\b\b\b\b\b\b\b\b\b\b\b\b\b\b\b\b\b\b\b\b\b\b\b\b\b\b\b\b\b\b\b\b\b\b\b\b\b\b\b\b\b\b\bEpoch 00003: val_acc did not improve\n",
      "5/5 [==============================] - 11s - loss: 0.6723 - acc: 0.6250 - val_loss: 0.6176 - val_acc: 0.6458\n",
      "5/5 [==============================] - 11s - loss: 0.6723 - acc: 0.6250 - val_loss: 0.6176 - val_acc: 0.6458\n",
      "Epoch 5/10\n",
      "Epoch 5/10\n",
      "4/5 [=======================>......] - ETA: 2s - loss: 0.6367 - acc: 0.6250\b\b\b\b\b\b\b\b\b\b\b\b\b\b\b\b\b\b\b\b\b\b\b\b\b\b\b\b\b\b\b\b\b\b\b\b\b\b\b\b\b\b\b\b\b\b\b\b\b\b\b\b\b\b\b\b\b\b\b\b\b\b\b\b\b\b\b\b\b\b\b\b\b\b\b\b\b\b\b\b\b\b\b\b\b\b\b\b\b\b\b\b\b\b\b\b\b\b\b\b\b\b\b\b\b\b\b\b\b\b\b\b\b\b\b\b\b\b\b\b\b\b\b\b\b\b\b\b\b\b\b\b\b\b\b\b\b\b\b\b\b\b\b\b\b\b\b\b\b\b\b\b\b\b\b\b\b\b\b\b\b\b\b\b\b\b\b\b\b\b\b\b\b\b\b\b\b\b\b\b\b\b\b\b\b\b\b\b\b\b\b\b\b\b\b\b\b\b\b\b\b\b\b\b\b\b\b\b\b\b\b\b\b\b\b\b\b\b\b\b\b\b\b\b\b\b\b\b\b\b\b\b\b\b\b\b\b\b\b\b\b\b\b\b\b\b\b\b\b\b\b\b\b\b\b\b\b\b\b\b\b\b\b\b\b\b\b\b\b\b\b\b\b\b\b\b\b\b\b\b\b\b\b\b\b\b\b\b\b\b\b\b\b\b\b\b\b\b\b\b\b\b\b\b\b\b\b\b\b\b\b\b\b\b\b\b\b\b\b\b\b\b\b\b\b\b\b\b\b\b\b\b\b\b\b\b\b\b\b\b\b\b\b\b\b\b\b\b\b\b\b\b\b\b\b\b\b\b\b\b\b\b\b\b\b\b\b\b\b\b\b\b\b\b\b\b\b\b\b\b\b\b\b\b\b\b\b\b\b\b\b\b\b\b\b\b\b\b\b\b\b\b\b\b\b\b\b\b\b\b\b\b\b\b\b\b\b\b\b\b\b\b\b\b\b\b\b\b\b\b\b\b\b\b\b\b\b\b\b\b\b\b\b\b\b\b\b\b\b\bEpoch 00004: val_acc did not improve\n",
      "5/5 [==============================] - 11s - loss: 0.6287 - acc: 0.6375 - val_loss: 0.7277 - val_acc: 0.4167\n",
      "5/5 [==============================] - 11s - loss: 0.6287 - acc: 0.6375 - val_loss: 0.7277 - val_acc: 0.4167\n",
      "Epoch 6/10\n",
      "Epoch 6/10\n",
      "4/5 [=======================>......] - ETA: 2s - loss: 0.6058 - acc: 0.6510\b\b\b\b\b\b\b\b\b\b\b\b\b\b\b\b\b\b\b\b\b\b\b\b\b\b\b\b\b\b\b\b\b\b\b\b\b\b\b\b\b\b\b\b\b\b\b\b\b\b\b\b\b\b\b\b\b\b\b\b\b\b\b\b\b\b\b\b\b\b\b\b\b\b\b\b\b\b\b\b\b\b\b\b\b\b\b\b\b\b\b\b\b\b\b\b\b\b\b\b\b\b\b\b\b\b\b\b\b\b\b\b\b\b\b\b\b\b\b\b\b\b\b\b\b\b\b\b\b\b\b\b\b\b\b\b\b\b\b\b\b\b\b\b\b\b\b\b\b\b\b\b\b\b\b\b\b\b\b\b\b\b\b\b\b\b\b\b\b\b\b\b\b\b\b\b\b\b\b\b\b\b\b\b\b\b\b\b\b\b\b\b\b\b\b\b\b\b\b\b\b\b\b\b\b\b\b\b\b\b\b\b\b\b\b\b\b\b\b\b\b\b\b\b\b\b\b\b\b\b\b\b\b\b\b\b\b\b\b\b\b\b\b\b\b\b\b\b\b\b\b\b\b\b\b\b\b\b\b\b\b\b\b\b\b\b\b\b\b\b\b\b\b\b\b\b\b\b\b\b\b\b\b\b\b\b\b\b\b\b\b\b\b\b\b\b\b\b\b\b\b\b\b\b\b\b\b\b\b\b\b\b\b\b\b\b\b\b\b\b\b\b\b\b\b\b\b\b\b\b\b\b\b\b\b\b\b\b\b\b\b\b\b\b\b\b\b\b\b\b\b\b\b\b\b\b\b\b\b\b\b\b\b\b\b\b\b\b\b\b\b\b\b\b\b\b\b\b\b\b\b\b\b\b\b\b\b\b\b\b\b\b\b\b\b\b\b\b\b\b\b\b\b\b\b\b\b\b\b\b\b\b\b\b\b\b\b\b\b\b\b\b\b\b\b\b\b\b\b\b\b\b\b\b\b\b\b\b\b\b\b\b\b\b\b\b\b\b\b\bEpoch 00005: val_acc did not improve\n",
      "5/5 [==============================] - 11s - loss: 0.5948 - acc: 0.6708 - val_loss: 0.6680 - val_acc: 0.6042\n",
      "5/5 [==============================] - 11s - loss: 0.5948 - acc: 0.6708 - val_loss: 0.6680 - val_acc: 0.6042\n",
      "Epoch 7/10\n",
      "Epoch 7/10\n",
      "4/5 [=======================>......] - ETA: 2s - loss: 0.6184 - acc: 0.6146\b\b\b\b\b\b\b\b\b\b\b\b\b\b\b\b\b\b\b\b\b\b\b\b\b\b\b\b\b\b\b\b\b\b\b\b\b\b\b\b\b\b\b\b\b\b\b\b\b\b\b\b\b\b\b\b\b\b\b\b\b\b\b\b\b\b\b\b\b\b\b\b\b\b\b\b\b\b\b\b\b\b\b\b\b\b\b\b\b\b\b\b\b\b\b\b\b\b\b\b\b\b\b\b\b\b\b\b\b\b\b\b\b\b\b\b\b\b\b\b\b\b\b\b\b\b\b\b\b\b\b\b\b\b\b\b\b\b\b\b\b\b\b\b\b\b\b\b\b\b\b\b\b\b\b\b\b\b\b\b\b\b\b\b\b\b\b\b\b\b\b\b\b\b\b\b\b\b\b\b\b\b\b\b\b\b\b\b\b\b\b\b\b\b\b\b\b\b\b\b\b\b\b\b\b\b\b\b\b\b\b\b\b\b\b\b\b\b\b\b\b\b\b\b\b\b\b\b\b\b\b\b\b\b\b\b\b\b\b\b\b\b\b\b\b\b\b\b\b\b\b\b\b\b\b\b\b\b\b\b\b\b\b\b\b\b\b\b\b\b\b\b\b\b\b\b\b\b\b\b\b\b\b\b\b\b\b\b\b\b\b\b\b\b\b\b\b\b\b\b\b\b\b\b\b\b\b\b\b\b\b\b\b\b\b\b\b\b\b\b\b\b\b\b\b\b\b\b\b\b\b\b\b\b\b\b\b\b\b\b\b\b\b\b\b\b\b\b\b\b\b\b\b\b\b\b\b\b\b\b\b\b\b\b\b\b\b\b\b\b\b\b\b\b\b\b\b\b\b\b\b\b\b\b\b\b\b\b\b\b\b\b\b\b\b\b\b\b\b\b\b\b\b\b\b\b\b\b\b\b\b\b\b\b\b\b\b\b\b\b\b\b\b\b\b\b\b\b\b\b\b\b\b\b\b\b\b\b\b\b\b\b\b\b\b\b\b\b\b\bEpoch 00006: val_acc did not improve\n",
      "5/5 [==============================] - 11s - loss: 0.6096 - acc: 0.6167 - val_loss: 0.6454 - val_acc: 0.5833\n",
      "5/5 [==============================] - 11s - loss: 0.6096 - acc: 0.6167 - val_loss: 0.6454 - val_acc: 0.5833\n",
      "Epoch 8/10\n",
      "Epoch 8/10\n",
      "4/5 [=======================>......] - ETA: 2s - loss: 0.5230 - acc: 0.6771\b\b\b\b\b\b\b\b\b\b\b\b\b\b\b\b\b\b\b\b\b\b\b\b\b\b\b\b\b\b\b\b\b\b\b\b\b\b\b\b\b\b\b\b\b\b\b\b\b\b\b\b\b\b\b\b\b\b\b\b\b\b\b\b\b\b\b\b\b\b\b\b\b\b\b\b\b\b\b\b\b\b\b\b\b\b\b\b\b\b\b\b\b\b\b\b\b\b\b\b\b\b\b\b\b\b\b\b\b\b\b\b\b\b\b\b\b\b\b\b\b\b\b\b\b\b\b\b\b\b\b\b\b\b\b\b\b\b\b\b\b\b\b\b\b\b\b\b\b\b\b\b\b\b\b\b\b\b\b\b\b\b\b\b\b\b\b\b\b\b\b\b\b\b\b\b\b\b\b\b\b\b\b\b\b\b\b\b\b\b\b\b\b\b\b\b\b\b\b\b\b\b\b\b\b\b\b\b\b\b\b\b\b\b\b\b\b\b\b\b\b\b\b\b\b\b\b\b\b\b\b\b\b\b\b\b\b\b\b\b\b\b\b\b\b\b\b\b\b\b\b\b\b\b\b\b\b\b\b\b\b\b\b\b\b\b\b\b\b\b\b\b\b\b\b\b\b\b\b\b\b\b\b\b\b\b\b\b\b\b\b\b\b\b\b\b\b\b\b\b\b\b\b\b\b\b\b\b\b\b\b\b\b\b\b\b\b\b\b\b\b\b\b\b\b\b\b\b\b\b\b\b\b\b\b\b\b\b\b\b\b\b\b\b\b\b\b\b\b\b\b\b\b\b\b\b\b\b\b\b\b\b\b\b\b\b\b\b\b\b\b\b\b\b\b\b\b\b\b\b\b\b\b\b\b\b\b\b\b\b\b\b\b\b\b\b\b\b\b\b\b\b\b\b\b\b\b\b\b\b\b\b\b\b\b\b\b\b\b\b\b\b\b\b\b\b\b\b\b\b\b\b\b\b\b\b\b\b\b\b\b\b\b\b\b\b\b\b\b\bEpoch 00007: val_acc did not improve\n",
      "5/5 [==============================] - 11s - loss: 0.5276 - acc: 0.6625 - val_loss: 0.8927 - val_acc: 0.5833\n",
      "5/5 [==============================] - 11s - loss: 0.5276 - acc: 0.6625 - val_loss: 0.8927 - val_acc: 0.5833\n",
      "Epoch 9/10\n",
      "Epoch 9/10\n",
      "4/5 [=======================>......] - ETA: 2s - loss: 0.6056 - acc: 0.7396\b\b\b\b\b\b\b\b\b\b\b\b\b\b\b\b\b\b\b\b\b\b\b\b\b\b\b\b\b\b\b\b\b\b\b\b\b\b\b\b\b\b\b\b\b\b\b\b\b\b\b\b\b\b\b\b\b\b\b\b\b\b\b\b\b\b\b\b\b\b\b\b\b\b\b\b\b\b\b\b\b\b\b\b\b\b\b\b\b\b\b\b\b\b\b\b\b\b\b\b\b\b\b\b\b\b\b\b\b\b\b\b\b\b\b\b\b\b\b\b\b\b\b\b\b\b\b\b\b\b\b\b\b\b\b\b\b\b\b\b\b\b\b\b\b\b\b\b\b\b\b\b\b\b\b\b\b\b\b\b\b\b\b\b\b\b\b\b\b\b\b\b\b\b\b\b\b\b\b\b\b\b\b\b\b\b\b\b\b\b\b\b\b\b\b\b\b\b\b\b\b\b\b\b\b\b\b\b\b\b\b\b\b\b\b\b\b\b\b\b\b\b\b\b\b\b\b\b\b\b\b\b\b\b\b\b\b\b\b\b\b\b\b\b\b\b\b\b\b\b\b\b\b\b\b\b\b\b\b\b\b\b\b\b\b\b\b\b\b\b\b\b\b\b\b\b\b\b\b\b\b\b\b\b\b\b\b\b\b\b\b\b\b\b\b\b\b\b\b\b\b\b\b\b\b\b\b\b\b\b\b\b\b\b\b\b\b\b\b\b\b\b\b\b\b\b\b\b\b\b\b\b\b\b\b\b\b\b\b\b\b\b\b\b\b\b\b\b\b\b\b\b\b\b\b\b\b\b\b\b\b\b\b\b\b\b\b\b\b\b\b\b\b\b\b\b\b\b\b\b\b\b\b\b\b\b\b\b\b\b\b\b\b\b\b\b\b\b\b\b\b\b\b\b\b\b\b\b\b\b\b\b\b\b\b\b\b\b\b\b\b\b\b\b\b\b\b\b\b\b\b\b\b\b\b\b\b\b\b\b\b\b\b\b\b\b\b\b\b\bEpoch 00008: val_acc did not improve\n",
      "5/5 [==============================] - 10s - loss: 0.5998 - acc: 0.7375 - val_loss: 0.6058 - val_acc: 0.6875\n",
      "5/5 [==============================] - 10s - loss: 0.5998 - acc: 0.7375 - val_loss: 0.6058 - val_acc: 0.6875\n",
      "Epoch 10/10\n",
      "Epoch 10/10\n",
      "4/5 [=======================>......] - ETA: 2s - loss: 0.5036 - acc: 0.7448\b\b\b\b\b\b\b\b\b\b\b\b\b\b\b\b\b\b\b\b\b\b\b\b\b\b\b\b\b\b\b\b\b\b\b\b\b\b\b\b\b\b\b\b\b\b\b\b\b\b\b\b\b\b\b\b\b\b\b\b\b\b\b\b\b\b\b\b\b\b\b\b\b\b\b\b\b\b\b\b\b\b\b\b\b\b\b\b\b\b\b\b\b\b\b\b\b\b\b\b\b\b\b\b\b\b\b\b\b\b\b\b\b\b\b\b\b\b\b\b\b\b\b\b\b\b\b\b\b\b\b\b\b\b\b\b\b\b\b\b\b\b\b\b\b\b\b\b\b\b\b\b\b\b\b\b\b\b\b\b\b\b\b\b\b\b\b\b\b\b\b\b\b\b\b\b\b\b\b\b\b\b\b\b\b\b\b\b\b\b\b\b\b\b\b\b\b\b\b\b\b\b\b\b\b\b\b\b\b\b\b\b\b\b\b\b\b\b\b\b\b\b\b\b\b\b\b\b\b\b\b\b\b\b\b\b\b\b\b\b\b\b\b\b\b\b\b\b\b\b\b\b\b\b\b\b\b\b\b\b\b\b\b\b\b\b\b\b\b\b\b\b\b\b\b\b\b\b\b\b\b\b\b\b\b\b\b\b\b\b\b\b\b\b\b\b\b\b\b\b\b\b\b\b\b\b\b\b\b\b\b\b\b\b\b\b\b\b\b\b\b\b\b\b\b\b\b\b\b\b\b\b\b\b\b\b\b\b\b\b\b\b\b\b\b\b\b\b\b\b\b\b\b\b\b\b\b\b\b\b\b\b\b\b\b\b\b\b\b\b\b\b\b\b\b\b\b\b\b\b\b\b\b\b\b\b\b\b\b\b\b\b\b\b\b\b\b\b\b\b\b\b\b\b\b\b\b\b\b\b\b\b\b\b\b\b\b\b\b\b\b\b\b\b\b\b\b\b\b\b\b\b\b\b\b\b\b\b\b\b\b\b\b\b\b\b\b\b\b\bEpoch 00009: val_acc did not improve\n",
      "5/5 [==============================] - 11s - loss: 0.4638 - acc: 0.7625 - val_loss: 0.6294 - val_acc: 0.6875\n",
      "5/5 [==============================] - 11s - loss: 0.4638 - acc: 0.7625 - val_loss: 0.6294 - val_acc: 0.6875\n"
     ]
    },
    {
     "name": "stderr",
     "output_type": "stream",
     "text": [
      "2017-06-11 13:41:45,547 INFO Saved last weights to ../../output/kaggle-sea-lion/07/last-weights-medium1-class0.h5\n"
     ]
    }
   ],
   "source": [
    "if(RUN_TRAINING):\n",
    "    logger.info('Starting CNN training...')\n",
    "    history = model.fit_generator(train_generator.flow(),\n",
    "                  steps_per_epoch = train_generator.nr_batches,\n",
    "                  nb_epoch = TRAIN_EPOCHS,\n",
    "                  callbacks = cnn.get_callbacks_keras(model, WEIGHTS_DIR, TF_LOGS_DIR),\n",
    "                  validation_data = valid_generator.flow(), \n",
    "                  validation_steps = valid_generator.nr_batches,\n",
    "                  verbose = 1)\n",
    "\n",
    "    if(SAVE_MODEL_FILE!=None):\n",
    "        with open(SAVE_MODEL_FILE, 'w') as model_file:\n",
    "            model_file.write(model.to_yaml())\n",
    "            logger.info('Saved last model to ' + SAVE_MODEL_FILE)\n",
    "    \n",
    "    if(SAVE_WEIGHTS_FILE!=None):\n",
    "        model.save_weights(SAVE_WEIGHTS_FILE)\n",
    "        logger.info('Saved last weights to ' + SAVE_WEIGHTS_FILE)\n"
   ]
  },
  {
   "cell_type": "markdown",
   "metadata": {
    "deletable": true,
    "editable": true
   },
   "source": [
    "### Epoch accuracy/loss"
   ]
  },
  {
   "cell_type": "code",
   "execution_count": 8,
   "metadata": {
    "collapsed": false,
    "deletable": true,
    "editable": true
   },
   "outputs": [
    {
     "name": "stderr",
     "output_type": "stream",
     "text": [
      "2017-06-11 13:41:45,559 INFO Training info\n"
     ]
    },
    {
     "data": {
      "image/png": "[encoded data removed]",
      "text/plain": [
       "<matplotlib.figure.Figure at 0x7f028c8e6198>"
      ]
     },
     "metadata": {},
     "output_type": "display_data"
    }
   ],
   "source": [
    "if(RUN_TRAINING):\n",
    "    logger.info('Training info')\n",
    "    cnn.show_training_info_keras(history)"
   ]
  },
  {
   "cell_type": "markdown",
   "metadata": {
    "deletable": true,
    "editable": true
   },
   "source": [
    "### Confusion matrix"
   ]
  },
  {
   "cell_type": "code",
   "execution_count": 9,
   "metadata": {
    "collapsed": false,
    "deletable": true,
    "editable": true,
    "scrolled": false
   },
   "outputs": [
    {
     "name": "stderr",
     "output_type": "stream",
     "text": [
      "2017-06-11 13:41:45,812 INFO Evaluating model performance (40 samples)...\n",
      "2017-06-11 13:41:45,821 INFO starting new flow...\n",
      "2017-06-11 13:41:45,824 INFO starting new flow...\n",
      "2017-06-11 13:41:46,875 INFO Accuracy: 0.854166686535 - Loss: 0.325673669577\n",
      "2017-06-11 13:41:46,876 INFO Predicting Y for detailed analysis...\n",
      "/notebooks/datascience-snippets/kaggle-sea-lion/modules/cnn.py:59: FutureWarning: comparison to `None` will result in an elementwise object comparison in the future.\n",
      "  if(self.y_ds==None):\n",
      "2017-06-11 13:41:48,362 INFO Accuracy: 0.5\n",
      "2017-06-11 13:41:48,364 INFO Number of test samples: 40\n",
      "2017-06-11 13:41:48,365 INFO Kappa score: 0.137931034483 (-1 bad; 0 just luck; 1 great)\n",
      "2017-06-11 13:41:48,367 INFO \n",
      "             precision    recall  f1-score   support\n",
      "\n",
      "        any       1.00      0.17      0.29        24\n",
      "       male       0.44      1.00      0.62        16\n",
      "\n",
      "avg / total       0.78      0.50      0.42        40\n",
      "\n",
      "2017-06-11 13:41:48,368 INFO Accuracy per class:\n",
      "2017-06-11 13:41:48,370 INFO any: 100.0%\n",
      "2017-06-11 13:41:48,371 INFO male: 44.4%\n",
      "2017-06-11 13:41:48,372 INFO Confusion matrix:\n",
      "2017-06-11 13:41:48,374 INFO \n",
      "[[ 4 20]\n",
      " [ 0 16]]\n"
     ]
    },
    {
     "data": {
      "image/png": "[encoded data removed]",
      "text/plain": [
       "<matplotlib.figure.Figure at 0x7f02401b93c8>"
      ]
     },
     "metadata": {},
     "output_type": "display_data"
    }
   ],
   "source": [
    "cnn.evaluate_dataset_keras(test_generator.flow(), \n",
    "                       test_generator.nr_batches, \n",
    "                       test_generator.size, \n",
    "                       model, \n",
    "                       class_labels=['any', 'male'])"
   ]
  },
  {
   "cell_type": "code",
   "execution_count": 10,
   "metadata": {
    "collapsed": false,
    "deletable": true,
    "editable": true,
    "scrolled": false
   },
   "outputs": [],
   "source": [
    "if(DEBUG):\n",
    "    a = test_generator.flow()\n",
    "    cnn.show_predictions(a, 50, model)"
   ]
  },
  {
   "cell_type": "code",
   "execution_count": null,
   "metadata": {
    "collapsed": false,
    "deletable": true,
    "editable": true,
    "scrolled": false
   },
   "outputs": [],
   "source": []
  },
  {
   "cell_type": "code",
   "execution_count": null,
   "metadata": {
    "collapsed": false,
    "deletable": true,
    "editable": true
   },
   "outputs": [],
   "source": []
  },
  {
   "cell_type": "code",
   "execution_count": null,
   "metadata": {
    "collapsed": false,
    "deletable": true,
    "editable": true
   },
   "outputs": [],
   "source": []
  },
  {
   "cell_type": "code",
   "execution_count": null,
   "metadata": {
    "collapsed": false,
    "deletable": true,
    "editable": true
   },
   "outputs": [],
   "source": []
  },
  {
   "cell_type": "code",
   "execution_count": null,
   "metadata": {
    "collapsed": true,
    "deletable": true,
    "editable": true
   },
   "outputs": [],
   "source": []
  },
  {
   "cell_type": "code",
   "execution_count": null,
   "metadata": {
    "collapsed": true,
    "deletable": true,
    "editable": true
   },
   "outputs": [],
   "source": []
  }
 ],
 "metadata": {
  "kernelspec": {
   "display_name": "Python 3",
   "language": "python",
   "name": "python3"
  },
  "language_info": {
   "codemirror_mode": {
    "name": "ipython",
    "version": 3
   },
   "file_extension": ".py",
   "mimetype": "text/x-python",
   "name": "python",
   "nbconvert_exporter": "python",
   "pygments_lexer": "ipython3",
   "version": "3.4.3"
  }
 },
 "nbformat": 4,
 "nbformat_minor": 0
}
