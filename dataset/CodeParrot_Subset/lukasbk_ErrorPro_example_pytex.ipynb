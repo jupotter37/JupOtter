{
 "cells": [
  {
   "cell_type": "code",
   "execution_count": 16,
   "metadata": {
    "collapsed": false
   },
   "outputs": [],
   "source": [
    "import pytex\n",
    "import numpy as np\n",
    "from IPython.core.display import Latex\n",
    "\n",
    "# make sympy equations pretty\n",
    "from sympy.interactive import printing\n",
    "printing.init_printing(use_latex=True)"
   ]
  },
  {
   "cell_type": "code",
   "execution_count": 17,
   "metadata": {
    "collapsed": false
   },
   "outputs": [
    {
     "data": {
      "image/png": "[encoded data removed]",
      "text/latex": [
       "$$\\left ( 0, \\quad -2, \\quad 2\\right )$$"
      ],
      "text/plain": [
       "(0, -2, 2)"
      ]
     },
     "execution_count": 17,
     "metadata": {},
     "output_type": "execute_result"
    }
   ],
   "source": [
    "(pytex.magnitude(4), \n",
    " pytex.magnitude(-.04), \n",
    " pytex.magnitude(-499))"
   ]
  },
  {
   "cell_type": "code",
   "execution_count": 18,
   "metadata": {
    "collapsed": false,
    "scrolled": true
   },
   "outputs": [
    {
     "data": {
      "image/png": "[encoded data removed]",
      "text/latex": [
       "$$\\left ( -2, \\quad -1, \\quad 1\\right )$$"
      ],
      "text/plain": [
       "(-2, -1, 1)"
      ]
     },
     "execution_count": 18,
     "metadata": {},
     "output_type": "execute_result"
    }
   ],
   "source": [
    "# calculate magnitude to which error will be rounded\n",
    "(pytex.prec_by_err(0.29), \n",
    " pytex.prec_by_err(0.31), \n",
    " pytex.prec_by_err(100))"
   ]
  },
  {
   "cell_type": "code",
   "execution_count": 19,
   "metadata": {
    "collapsed": false
   },
   "outputs": [
    {
     "data": {
      "image/png": "[encoded data removed]",
      "text/latex": [
       "$$\\left ( -0.2, \\quad 0.05, \\quad 0.0\\right )$$"
      ],
      "text/plain": [
       "(-0.2, 0.05, 0.0)"
      ]
     },
     "execution_count": 19,
     "metadata": {},
     "output_type": "execute_result"
    }
   ],
   "source": [
    "(pytex.round_to_mag(-0.24, -1),\n",
    " pytex.round_to_mag(0.05, -2, rdg='UP'),\n",
    " pytex.round_to_mag(0.01, -1, rdg='DOWN'))"
   ]
  },
  {
   "cell_type": "code",
   "execution_count": 20,
   "metadata": {
    "collapsed": false
   },
   "outputs": [
    {
     "data": {
      "text/plain": [
       "('2.1', '2.1 \\\\times 10^{-33}')"
      ]
     },
     "execution_count": 20,
     "metadata": {},
     "output_type": "execute_result"
    }
   ],
   "source": [
    "(pytex.repr_float(2.1),\n",
    " pytex.repr_float(2.1e-33))"
   ]
  },
  {
   "cell_type": "code",
   "execution_count": 21,
   "metadata": {
    "collapsed": false
   },
   "outputs": [
    {
     "data": {
      "text/latex": [
       "$2.1 \\times 10^{33}$"
      ],
      "text/plain": [
       "<IPython.core.display.Latex object>"
      ]
     },
     "execution_count": 21,
     "metadata": {},
     "output_type": "execute_result"
    }
   ],
   "source": [
    "Latex('$%s$' % pytex.repr_float(2.1e33))"
   ]
  },
  {
   "cell_type": "code",
   "execution_count": 22,
   "metadata": {
    "collapsed": false
   },
   "outputs": [
    {
     "data": {
      "text/plain": [
       "('0.000000000000000000000001', '0.0000', '1.23', '1.24')"
      ]
     },
     "execution_count": 22,
     "metadata": {},
     "output_type": "execute_result"
    }
   ],
   "source": [
    "(pytex.repr_decimal(1e-23),\n",
    " pytex.repr_decimal(1e-23, -4),\n",
    " pytex.repr_decimal(1.2345, -2),\n",
    " pytex.repr_decimal(1.2345, -2, rdg='UP'))"
   ]
  },
  {
   "cell_type": "code",
   "execution_count": 23,
   "metadata": {
    "collapsed": false
   },
   "outputs": [
    {
     "data": {
      "text/plain": [
       "'1.3 \\\\times 10^{-33}'"
      ]
     },
     "execution_count": 23,
     "metadata": {},
     "output_type": "execute_result"
    }
   ],
   "source": [
    "pytex.repr_error(1.282e-33)"
   ]
  },
  {
   "cell_type": "code",
   "execution_count": 24,
   "metadata": {
    "collapsed": false
   },
   "outputs": [
    {
     "data": {
      "text/plain": [
       "'\\\\phantom{+0} 321.2 \\\\phantom{000}'"
      ]
     },
     "execution_count": 24,
     "metadata": {},
     "output_type": "execute_result"
    }
   ],
   "source": [
    "pytex.align_num(321.2, dleft=4, dright=4)"
   ]
  },
  {
   "cell_type": "code",
   "execution_count": 25,
   "metadata": {
    "collapsed": false
   },
   "outputs": [
    {
     "name": "stdout",
     "output_type": "stream",
     "text": [
      "\\phantom{+} 123.0 \\phantom{00}\\phantom{ \\times 10^{22}}\n",
      "\\phantom{+} 123.132\\phantom{ \\times 10^{22}}\n",
      "\\phantom{+00} 2 \\phantom{.000} \\times 10^{22}\n",
      "-\\phantom{0} 10.0 \\phantom{00}\\phantom{ \\times 10^{22}}\n",
      "\\phantom{+00} 1 \\phantom{.000} \\times 10^{24}\n"
     ]
    },
    {
     "data": {
      "text/latex": [
       "$\\phantom{+} 123.0 \\phantom{00}\\phantom{ \\times 10^{22}}$<br>$\\phantom{+} 123.132\\phantom{ \\times 10^{22}}$<br>$\\phantom{+00} 2 \\phantom{.000} \\times 10^{22}$<br>$-\\phantom{0} 10.0 \\phantom{00}\\phantom{ \\times 10^{22}}$<br>$\\phantom{+00} 1 \\phantom{.000} \\times 10^{24}$"
      ],
      "text/plain": [
       "<IPython.core.display.Latex object>"
      ]
     },
     "execution_count": 25,
     "metadata": {},
     "output_type": "execute_result"
    }
   ],
   "source": [
    "aligned_list = pytex.align_num_list([123, 123.132, 2e22, -10, 100e22])\n",
    "print('\\n'.join(aligned_list))\n",
    "Latex('<br>'.join([r'$%s$' % e for e in aligned_list]))"
   ]
  },
  {
   "cell_type": "code",
   "execution_count": 26,
   "metadata": {
    "collapsed": false
   },
   "outputs": [
    {
     "data": {
      "text/latex": [
       "$1231.0 \\pm 1.2$"
      ],
      "text/plain": [
       "<IPython.core.display.Latex object>"
      ]
     },
     "execution_count": 26,
     "metadata": {},
     "output_type": "execute_result"
    }
   ],
   "source": [
    "Latex(pytex.format_valerr(1231, 1.2))"
   ]
  },
  {
   "cell_type": "code",
   "execution_count": 27,
   "metadata": {
    "collapsed": false
   },
   "outputs": [
    {
     "data": {
      "text/latex": [
       "$(12310 \\pm 12) \\times 10^{9}$"
      ],
      "text/plain": [
       "<IPython.core.display.Latex object>"
      ]
     },
     "execution_count": 27,
     "metadata": {},
     "output_type": "execute_result"
    }
   ],
   "source": [
    "Latex(pytex.format_valerr(1231e10, 1.2e10))"
   ]
  },
  {
   "cell_type": "code",
   "execution_count": 28,
   "metadata": {
    "collapsed": false
   },
   "outputs": [
    {
     "data": {
      "text/latex": [
       "$-917 \\phantom{.0} \\pm 10 \\phantom{.0}$<br>$\\phantom{+} 654 \\phantom{.0} \\pm \\phantom{0} 8 \\phantom{.0}$<br>$-220 \\phantom{.0} \\pm \\phantom{0} 9 \\phantom{.0}$<br>$-335 \\phantom{.0} \\pm \\phantom{0} 9 \\phantom{.0}$<br>$\\phantom{+} 621.3 \\pm \\phantom{0} 1.9$<br>$\\phantom{+} 674.0 \\pm \\phantom{0} 2.9$<br>$\\phantom{+} 747 \\phantom{.0} \\pm 10 \\phantom{.0}$<br>$-420.0 \\pm \\phantom{0} 1.6$<br>$-841 \\phantom{.0} \\pm 10 \\phantom{.0}$<br>$\\phantom{+} 650.0 \\pm \\phantom{0} 2.2$"
      ],
      "text/plain": [
       "<IPython.core.display.Latex object>"
      ]
     },
     "execution_count": 28,
     "metadata": {},
     "output_type": "execute_result"
    }
   ],
   "source": [
    "values = (np.random.rand(10)-.5) * 2015\n",
    "errors = np.random.rand(10) * 10\n",
    "\n",
    "valerrs = pytex.format_valerr_list(values, errors)\n",
    "Latex('<br>'.join(valerrs))"
   ]
  },
  {
   "cell_type": "code",
   "execution_count": 29,
   "metadata": {
    "collapsed": false
   },
   "outputs": [
    {
     "data": {
      "text/latex": [
       "<table style=\"border:0;width:100%;border-collapse:collapse;\">\n",
       "\t<tr style=\"border:0;border-top:1px solid black;border-bottom:0;\">\n",
       "\t\t<td style=\"border:0;border-left:1px solid black;border-right:0;text-align:left;\">$-917 \\phantom{.0} \\pm 10 \\phantom{.0}$</td>\n",
       "\t\t<td style=\"border:0;border-left:0;border-right:1px solid black;text-align:center;\">$-917 \\phantom{.0} \\pm 10 \\phantom{.0}$</td>\n",
       "\t</tr>\n",
       "\t<tr style=\"border:0;border-top:0;border-bottom:0;\">\n",
       "\t\t<td style=\"border:0;border-left:1px solid black;border-right:0;text-align:left;\">$\\phantom{+} 654 \\phantom{.0} \\pm \\phantom{0} 8 \\phantom{.0}$</td>\n",
       "\t\t<td style=\"border:0;border-left:0;border-right:1px solid black;text-align:center;\">$\\phantom{+} 654 \\phantom{.0} \\pm \\phantom{0} 8 \\phantom{.0}$</td>\n",
       "\t</tr>\n",
       "\t<tr style=\"border:0;border-top:0;border-bottom:0;\">\n",
       "\t\t<td style=\"border:0;border-left:1px solid black;border-right:0;text-align:left;\">$-220 \\phantom{.0} \\pm \\phantom{0} 9 \\phantom{.0}$</td>\n",
       "\t\t<td style=\"border:0;border-left:0;border-right:1px solid black;text-align:center;\">$-220 \\phantom{.0} \\pm \\phantom{0} 9 \\phantom{.0}$</td>\n",
       "\t</tr>\n",
       "\t<tr style=\"border:0;border-top:0;border-bottom:0;\">\n",
       "\t\t<td style=\"border:0;border-left:1px solid black;border-right:0;text-align:left;\">$-335 \\phantom{.0} \\pm \\phantom{0} 9 \\phantom{.0}$</td>\n",
       "\t\t<td style=\"border:0;border-left:0;border-right:1px solid black;text-align:center;\">$-335 \\phantom{.0} \\pm \\phantom{0} 9 \\phantom{.0}$</td>\n",
       "\t</tr>\n",
       "\t<tr style=\"border:0;border-top:0;border-bottom:0;\">\n",
       "\t\t<td style=\"border:0;border-left:1px solid black;border-right:0;text-align:left;\">$\\phantom{+} 621.3 \\pm \\phantom{0} 1.9$</td>\n",
       "\t\t<td style=\"border:0;border-left:0;border-right:1px solid black;text-align:center;\">$\\phantom{+} 621.3 \\pm \\phantom{0} 1.9$</td>\n",
       "\t</tr>\n",
       "\t<tr style=\"border:0;border-top:0;border-bottom:0;\">\n",
       "\t\t<td style=\"border:0;border-left:1px solid black;border-right:0;text-align:left;\">$\\phantom{+} 674.0 \\pm \\phantom{0} 2.9$</td>\n",
       "\t\t<td style=\"border:0;border-left:0;border-right:1px solid black;text-align:center;\">$\\phantom{+} 674.0 \\pm \\phantom{0} 2.9$</td>\n",
       "\t</tr>\n",
       "\t<tr style=\"border:0;border-top:0;border-bottom:0;\">\n",
       "\t\t<td style=\"border:0;border-left:1px solid black;border-right:0;text-align:left;\">$\\phantom{+} 747 \\phantom{.0} \\pm 10 \\phantom{.0}$</td>\n",
       "\t\t<td style=\"border:0;border-left:0;border-right:1px solid black;text-align:center;\">$\\phantom{+} 747 \\phantom{.0} \\pm 10 \\phantom{.0}$</td>\n",
       "\t</tr>\n",
       "\t<tr style=\"border:0;border-top:0;border-bottom:0;\">\n",
       "\t\t<td style=\"border:0;border-left:1px solid black;border-right:0;text-align:left;\">$-420.0 \\pm \\phantom{0} 1.6$</td>\n",
       "\t\t<td style=\"border:0;border-left:0;border-right:1px solid black;text-align:center;\">$-420.0 \\pm \\phantom{0} 1.6$</td>\n",
       "\t</tr>\n",
       "\t<tr style=\"border:0;border-top:0;border-bottom:0;\">\n",
       "\t\t<td style=\"border:0;border-left:1px solid black;border-right:0;text-align:left;\">$-841 \\phantom{.0} \\pm 10 \\phantom{.0}$</td>\n",
       "\t\t<td style=\"border:0;border-left:0;border-right:1px solid black;text-align:center;\">$-841 \\phantom{.0} \\pm 10 \\phantom{.0}$</td>\n",
       "\t</tr>\n",
       "\t<tr style=\"border:0;border-top:0;border-bottom:0;\">\n",
       "\t\t<td style=\"border:0;border-left:1px solid black;border-right:0;text-align:left;\">$\\phantom{+} 650.0 \\pm \\phantom{0} 2.2$</td>\n",
       "\t\t<td style=\"border:0;border-left:0;border-right:1px solid black;text-align:center;\">$\\phantom{+} 650.0 \\pm \\phantom{0} 2.2$</td>\n",
       "\t</tr>\n",
       "\t<tr style=\"border:0;border-top:0;border-bottom:0;\">\n",
       "\t\t<td style=\"border:0;border-left:1px solid black;border-right:0;text-align:left;\">$-917 \\phantom{.0} \\pm 10 \\phantom{.0}$</td>\n",
       "\t\t<td style=\"border:0;border-left:0;border-right:1px solid black;text-align:center;\">-</td>\n",
       "\t</tr>\n",
       "\t<tr style=\"border:0;border-top:0;border-bottom:0;\">\n",
       "\t\t<td style=\"border:0;border-left:1px solid black;border-right:0;text-align:left;\">$\\phantom{+} 654 \\phantom{.0} \\pm \\phantom{0} 8 \\phantom{.0}$</td>\n",
       "\t\t<td style=\"border:0;border-left:0;border-right:1px solid black;text-align:center;\">-</td>\n",
       "\t</tr>\n",
       "\t<tr style=\"border:0;border-top:0;border-bottom:0;\">\n",
       "\t\t<td style=\"border:0;border-left:1px solid black;border-right:0;text-align:left;\">$-220 \\phantom{.0} \\pm \\phantom{0} 9 \\phantom{.0}$</td>\n",
       "\t\t<td style=\"border:0;border-left:0;border-right:1px solid black;text-align:center;\">-</td>\n",
       "\t</tr>\n",
       "\t<tr style=\"border:0;border-top:0;border-bottom:0;\">\n",
       "\t\t<td style=\"border:0;border-left:1px solid black;border-right:0;text-align:left;\">$-335 \\phantom{.0} \\pm \\phantom{0} 9 \\phantom{.0}$</td>\n",
       "\t\t<td style=\"border:0;border-left:0;border-right:1px solid black;text-align:center;\">-</td>\n",
       "\t</tr>\n",
       "\t<tr style=\"border:0;border-top:0;border-bottom:0;\">\n",
       "\t\t<td style=\"border:0;border-left:1px solid black;border-right:0;text-align:left;\">$\\phantom{+} 621.3 \\pm \\phantom{0} 1.9$</td>\n",
       "\t\t<td style=\"border:0;border-left:0;border-right:1px solid black;text-align:center;\">-</td>\n",
       "\t</tr>\n",
       "\t<tr style=\"border:0;border-top:0;border-bottom:0;\">\n",
       "\t\t<td style=\"border:0;border-left:1px solid black;border-right:0;text-align:left;\">$\\phantom{+} 674.0 \\pm \\phantom{0} 2.9$</td>\n",
       "\t\t<td style=\"border:0;border-left:0;border-right:1px solid black;text-align:center;\">-</td>\n",
       "\t</tr>\n",
       "\t<tr style=\"border:0;border-top:0;border-bottom:0;\">\n",
       "\t\t<td style=\"border:0;border-left:1px solid black;border-right:0;text-align:left;\">$\\phantom{+} 747 \\phantom{.0} \\pm 10 \\phantom{.0}$</td>\n",
       "\t\t<td style=\"border:0;border-left:0;border-right:1px solid black;text-align:center;\">-</td>\n",
       "\t</tr>\n",
       "\t<tr style=\"border:0;border-top:0;border-bottom:0;\">\n",
       "\t\t<td style=\"border:0;border-left:1px solid black;border-right:0;text-align:left;\">$-420.0 \\pm \\phantom{0} 1.6$</td>\n",
       "\t\t<td style=\"border:0;border-left:0;border-right:1px solid black;text-align:center;\">-</td>\n",
       "\t</tr>\n",
       "\t<tr style=\"border:0;border-top:0;border-bottom:0;\">\n",
       "\t\t<td style=\"border:0;border-left:1px solid black;border-right:0;text-align:left;\">$-841 \\phantom{.0} \\pm 10 \\phantom{.0}$</td>\n",
       "\t\t<td style=\"border:0;border-left:0;border-right:1px solid black;text-align:center;\">-</td>\n",
       "\t</tr>\n",
       "\t<tr style=\"border:0;border-top:0;border-bottom:1px solid black;\">\n",
       "\t\t<td style=\"border:0;border-left:1px solid black;border-right:0;text-align:left;\">$\\phantom{+} 650.0 \\pm \\phantom{0} 2.2$</td>\n",
       "\t\t<td style=\"border:0;border-left:0;border-right:1px solid black;text-align:center;\">-</td>\n",
       "\t</tr>\n",
       "</table>"
      ],
      "text/plain": [
       "<IPython.core.display.Latex object>"
      ]
     },
     "execution_count": 29,
     "metadata": {},
     "output_type": "execute_result"
    }
   ],
   "source": [
    "Latex(pytex.table_html([valerrs + valerrs, valerrs], fill='-', just='lc', vsep='| |', hsep={0, -1}))"
   ]
  },
  {
   "cell_type": "code",
   "execution_count": 30,
   "metadata": {
    "collapsed": false
   },
   "outputs": [
    {
     "name": "stdout",
     "output_type": "stream",
     "text": [
      "\\begin{table}[H]\n",
      "\\centering\n",
      "\t\\begin{tabular}{|c|c|}\n",
      "\t\\hline\n",
      "\t$-917 \\phantom{.0} \\pm 10 \\phantom{.0}$ & $-917 \\phantom{.0} \\pm 10 \\phantom{.0}$\\\\ \\hline\n",
      "\t$\\phantom{+} 654 \\phantom{.0} \\pm \\phantom{0} 8 \\phantom{.0}$ & $\\phantom{+} 654 \\phantom{.0} \\pm \\phantom{0} 8 \\phantom{.0}$\\\\ \n",
      "\t$-220 \\phantom{.0} \\pm \\phantom{0} 9 \\phantom{.0}$ & $-220 \\phantom{.0} \\pm \\phantom{0} 9 \\phantom{.0}$\\\\ \n",
      "\t$-335 \\phantom{.0} \\pm \\phantom{0} 9 \\phantom{.0}$ & $-335 \\phantom{.0} \\pm \\phantom{0} 9 \\phantom{.0}$\\\\ \n",
      "\t$\\phantom{+} 621.3 \\pm \\phantom{0} 1.9$ & $\\phantom{+} 621.3 \\pm \\phantom{0} 1.9$\\\\ \n",
      "\t$\\phantom{+} 674.0 \\pm \\phantom{0} 2.9$ & $\\phantom{+} 674.0 \\pm \\phantom{0} 2.9$\\\\ \n",
      "\t$\\phantom{+} 747 \\phantom{.0} \\pm 10 \\phantom{.0}$ & $\\phantom{+} 747 \\phantom{.0} \\pm 10 \\phantom{.0}$\\\\ \n",
      "\t$-420.0 \\pm \\phantom{0} 1.6$ & $-420.0 \\pm \\phantom{0} 1.6$\\\\ \n",
      "\t$-841 \\phantom{.0} \\pm 10 \\phantom{.0}$ & $-841 \\phantom{.0} \\pm 10 \\phantom{.0}$\\\\ \n",
      "\t$\\phantom{+} 650.0 \\pm \\phantom{0} 2.2$ & $\\phantom{+} 650.0 \\pm \\phantom{0} 2.2$\\\\ \\hline\n",
      "\t\\end{tabular}\n",
      "\\end{table}\n"
     ]
    }
   ],
   "source": [
    "print(pytex.table_latex([valerrs, valerrs]))"
   ]
  },
  {
   "cell_type": "code",
   "execution_count": null,
   "metadata": {
    "collapsed": true
   },
   "outputs": [],
   "source": []
  }
 ],
 "metadata": {
  "kernelspec": {
   "display_name": "Python 3",
   "language": "python",
   "name": "python3"
  },
  "language_info": {
   "codemirror_mode": {
    "name": "ipython",
    "version": 3
   },
   "file_extension": ".py",
   "mimetype": "text/x-python",
   "name": "python",
   "nbconvert_exporter": "python",
   "pygments_lexer": "ipython3",
   "version": "3.4.2"
  }
 },
 "nbformat": 4,
 "nbformat_minor": 0
}
