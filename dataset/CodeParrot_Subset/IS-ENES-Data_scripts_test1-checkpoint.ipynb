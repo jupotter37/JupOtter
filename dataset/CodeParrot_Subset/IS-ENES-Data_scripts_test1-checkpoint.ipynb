{
 "cells": [
  {
   "cell_type": "code",
   "execution_count": 8,
   "metadata": {
    "collapsed": false
   },
   "outputs": [
    {
     "name": "stdout",
     "output_type": "stream",
     "text": [
      "The autoreload extension is already loaded. To reload it, use:\n",
      "  %reload_ext autoreload\n"
     ]
    }
   ],
   "source": [
    "%load_ext autoreload\n",
    "%autoreload 2\n",
    "import web\n",
    "from IPython.core.display import HTML\n",
    "\n"
   ]
  },
  {
   "cell_type": "code",
   "execution_count": null,
   "metadata": {
    "collapsed": false
   },
   "outputs": [],
   "source": [
    "?json.load()"
   ]
  },
  {
   "cell_type": "code",
   "execution_count": 2,
   "metadata": {
    "collapsed": false,
    "scrolled": true
   },
   "outputs": [
    {
     "name": "stdout",
     "output_type": "stream",
     "text": [
      "1 Swedish Meteorological and Hydrological Institute, Rossby Centre\n",
      "3 Meteorology Group, University of Cantabria\n",
      "2 Technical University of Crete\n"
     ]
    }
   ],
   "source": [
    "\n",
    "result = web.jsonfile_to_dict(\"./cordex_bc.json\")\n",
    "for a,b in result.iteritems():\n",
    "   print a,b['institution']"
   ]
  },
  {
   "cell_type": "code",
   "execution_count": 12,
   "metadata": {
    "collapsed": false
   },
   "outputs": [
    {
     "data": {
      "text/html": [
       "\n",
       "    <!DOCTYPE html>\n",
       "       \n",
       "<html>\n",
       "\n",
       "</head>    \n",
       "    \n",
       "    \n",
       "    <body>\n",
       "    \n",
       "    <h1> bias correction vocabulary table </h1>\n",
       "    <p> Information automatically generated based on controled vocabulary </p>\n",
       "    <p> To register new vocabulary items pleas contact cordex-registration /at/ smhi.se  </p>\n",
       "    \n",
       "    \n",
       "    <table border=\"1\">\n",
       "      <tr>\n",
       "        <th>institution</th>\n",
       "        <th>institute_id</th>\n",
       "        <th>bc_method</th>\n",
       "        <th>bc_method_id</th>\n",
       "        <th>acronym</th>\n",
       "        <th>terms_of_use</th>\n",
       "        <th>CORDEX_domain</th>\n",
       "        <th>package</th>\n",
       "        <th>reference</th>\n",
       "          \n",
       "          \n",
       "        <tr>\n",
       "        <td>Swedish Meteorological and Hydrological Institute, Rossby Centre</td>\n",
       "        <td>SMHI</td>\n",
       "        <td>Distribution-Based Scaling</td>\n",
       "        <td>DBS45</td>\n",
       "        <td>SMHI-DBS45</td>\n",
       "        <td>unrestricted</td>\n",
       "        <td>EUR-44; EUR-11; AFR-44; WAS-44</td>\n",
       "        <td>na</td>\n",
       "        <td>test reference</td>\n",
       "        </tr>\n",
       "        <tr>\n",
       "        <td>Meteorology Group, University of Cantabria</td>\n",
       "        <td>UCAN</td>\n",
       "        <td>Generalized Quantile Mapping</td>\n",
       "        <td>GQM</td>\n",
       "        <td>UCAN-GQM</td>\n",
       "        <td>unrestricted</td>\n",
       "        <td>EUR-44; EUR-11; AFR-44; WAS-44</td>\n",
       "        <td>downscaleR, https://github.com/SantanderMetGroup/downscaleR/wiki</td>\n",
       "        <td>Gutjahr and Heinemann, 2013: Comparing precipitation bias correction methods for high-resolution regional climate simulations using COSMO-CLM Effects on extreme values and climate change signal. Theor. Appl. Climatol., 114, doi:10.1007/s00704-013-0834-z</td>\n",
       "        </tr>\n",
       "        <tr>\n",
       "        <td>Technical University of Crete</td>\n",
       "        <td>TUC</td>\n",
       "        <td>Multisegment Statistical Bias correction</td>\n",
       "        <td>MSBC</td>\n",
       "        <td>TUC-MSBC</td>\n",
       "        <td>unrestricted</td>\n",
       "        <td>EUR-44; EUR-11; AFR-44; WAS-44</td>\n",
       "        <td>na</td>\n",
       "        <td>Grillakis et al. 2013: Multisegment statistical bias correction of daily GCM precipitation output. Journal of Geophysical Research: Atmospheres, 118(8), 3150-3162, doi.org/10.1002/jgrd.50323</td>\n",
       "        </tr>\n",
       "      </tr>\n",
       "    </table>\n",
       "    \n",
       "    \n",
       "    </body>\n",
       "    </html>\n",
       "    "
      ],
      "text/plain": [
       "<IPython.core.display.HTML object>"
      ]
     },
     "execution_count": 12,
     "metadata": {},
     "output_type": "execute_result"
    }
   ],
   "source": [
    "html_out = web.generate_bias_table(result)\n",
    "HTML(html_out)"
   ]
  },
  {
   "cell_type": "code",
   "execution_count": null,
   "metadata": {
    "collapsed": true
   },
   "outputs": [],
   "source": [
    "?json.load()"
   ]
  },
  {
   "cell_type": "code",
   "execution_count": null,
   "metadata": {
    "collapsed": true
   },
   "outputs": [],
   "source": [
    "<td>${b['institute_id']}</td>\n",
    "            <td>${b['bc_method']}</td>\n",
    "            <td>${b['bc_method_id']}</td>\n",
    "            <td>${b['institute_id']+b['bc_method_id']}</td>\n",
    "            <td>${b['terms_of_use']}</td>\n",
    "            <td>${b['CORDEX_domain']}</td>\n",
    "            <td>${b['reference']}</td>\n",
    "            <td>${b['package']}</td>"
   ]
  }
 ],
 "metadata": {
  "kernelspec": {
   "display_name": "Python 2",
   "language": "python",
   "name": "python2"
  },
  "language_info": {
   "codemirror_mode": {
    "name": "ipython",
    "version": 2
   },
   "file_extension": ".py",
   "mimetype": "text/x-python",
   "name": "python",
   "nbconvert_exporter": "python",
   "pygments_lexer": "ipython2",
   "version": "2.7.11"
  }
 },
 "nbformat": 4,
 "nbformat_minor": 0
}
