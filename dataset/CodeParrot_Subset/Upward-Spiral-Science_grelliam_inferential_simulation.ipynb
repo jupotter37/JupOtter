{
 "cells": [
  {
   "cell_type": "markdown",
   "metadata": {},
   "source": [
    "## Formal Simulated Inference\n",
    "1. Define F (i.e. your model and assumptions)\n",
    "2. Formalize test\n",
    "3. Describe test statistic\n",
    "4. \n",
    "  1. Sample data from $F \\in \\mathscr{F}_0$\n",
    "  2. Sample data from $F \\in \\mathscr{F}_A$\n",
    "5. \n",
    "  1. Plot power vs n (i.e. perspective power analysis)\n",
    "  2. Plot power vs n (i.e. perspective power analysis)\n",
    "6. Apply to data\n",
    " \n",
    "### Step 1: Define model and assumptions\n",
    "###### Model\n",
    "\n",
    "$G_i, Y_i \\sim \\mathscr{F}_{G,Y} = \\{ F_{G,Y}(\\cdot; \\theta) : \\theta \\in \\Theta \\}$.\n",
    "\n",
    "Since, all samples observed are graph matched (i.e. nodes are equal across graphs), we can look at just the distribution of adjacency matrices:\n",
    "\n",
    "$F_{G,Y} = F_{X,Y}$.\n",
    "\n",
    "Thus,\n",
    "\n",
    "$X_i = \\prod_{u,v}^{\\mathcal{E}} A_{uv}$, where $\\mathcal{E} \\subset V \\times V$ <br/>\n",
    "$Y_i = \\{0,1\\}$\n",
    "\n",
    "\n",
    "###### Assumption\n",
    "\n",
    "$F_{X|0} = ER(p_0) = Bern(p_0)^{V \\times V}$ <br/>\n",
    "$F_{X|1} = ER(p_1) = Bern(p_1)^{V \\times V}$\n",
    "\n",
    "### Step 2: Formalize test\n",
    "\n",
    "(note: always start as simply as reasonable, but no simpler)\n",
    "\n",
    "$H_0: p_0 = p_1 $<br/>\n",
    "$H_A: p_0 \\neq p_1$\n",
    "\n",
    "$\\alpha$, the critical value, indicates the power of your null distribution under your test as n \\to \\infty\n",
    "\n",
    "### Step 3: Describe test statistic\n",
    "$\\hat{p_i} = \\frac{\\sum X}{| V \\times V |}$\n"
   ]
  },
  {
   "cell_type": "markdown",
   "metadata": {},
   "source": [
    "### Intermediate Step"
   ]
  },
  {
   "cell_type": "code",
   "execution_count": 1,
   "metadata": {
    "collapsed": false
   },
   "outputs": [],
   "source": [
    "import numpy as np\n",
    "from scipy import stats\n",
    "import matplotlib.pyplot as plt\n",
    "import itertools\n",
    "import os\n",
    "import csv\n",
    "import igraph as ig\n",
    "\n",
    "%matplotlib inline\n",
    "\n",
    "font = {'weight' : 'bold',\n",
    "        'size'   : 14}\n",
    "\n",
    "import matplotlib\n",
    "matplotlib.rc('font', **font)\n",
    "\n",
    "np.random.seed(123456789)  # for reproducibility, set random seed\n",
    "alpha = 0.05  # define alpha\n",
    "r = 20  # define number of rois\n",
    "N = 100 # number of samples at each iteration\n",
    "\n",
    "# define number of subjects per class\n",
    "S = np.array((4, 6, 8, 10, 14, 18, 20, 26, 30, 40,\n",
    "              50, 60, 70, 80, 100, 120, 150, 200, 250,\n",
    "              300, 400, 500, 750, 1000, 1500, 2000,\n",
    "              3000, 5000))"
   ]
  },
  {
   "cell_type": "markdown",
   "metadata": {},
   "source": [
    "###  Step 4A:  Sample data from null"
   ]
  },
  {
   "cell_type": "code",
   "execution_count": 2,
   "metadata": {
    "collapsed": false
   },
   "outputs": [
    {
     "name": "stderr",
     "output_type": "stream",
     "text": [
      "/usr/local/lib/python2.7/site-packages/scipy/stats/morestats.py:2384: UserWarning: Warning: sample size too small for normal approximation.\n",
      "  warnings.warn(\"Warning: sample size too small for normal approximation.\")\n"
     ]
    }
   ],
   "source": [
    "pow_null = np.array((), dtype=np.dtype('float64'))\n",
    "# compute this statistic for various sizes of datasets\n",
    "for s in S:\n",
    "    s0 = s/2\n",
    "    s1 = s - s0\n",
    "\n",
    "    # compute this many times for each operating point to get average\n",
    "    pval = np.array((), dtype=np.dtype('float64'))    \n",
    "    for _ in itertools.repeat(None,N):\n",
    "        g0 = 1 * (np.random.rand( r, r, s0) > 0.5) # (null), 0.52 (classes)\n",
    "        g1 = 1 * (np.random.rand( r, r, s1) > 0.5) # (null), 0.48 (classes)\n",
    "\n",
    "        # compute feature of data\n",
    "        pbar0 = 1.0*np.sum(g0, axis=(0,1))/( r**2 * s0)\n",
    "        pbar1 = 1.0*np.sum(g1, axis=(0,1))/( r**2 * s1)\n",
    "\n",
    "        # compute t-test on feature\n",
    "        pval = np.append(pval, stats.wilcoxon(pbar0, pbar1)[1])\n",
    "    \n",
    "    # record average p value at operating point\n",
    "    pow_null = np.append(pow_null, np.sum(1.0*(pval < alpha))/N)"
   ]
  },
  {
   "cell_type": "markdown",
   "metadata": {},
   "source": [
    "###  Step 4B:  Sample data from alternate"
   ]
  },
  {
   "cell_type": "code",
   "execution_count": 4,
   "metadata": {
    "collapsed": false
   },
   "outputs": [],
   "source": [
    "pow_alt = np.array((), dtype=np.dtype('float64'))\n",
    "# compute this statistic for various sizes of datasets\n",
    "for s in S:\n",
    "    s0 = s/2\n",
    "    s1 = s - s0\n",
    "\n",
    "    # compute this many times for each operating point to get average\n",
    "    pval = np.array((), dtype=np.dtype('float64'))    \n",
    "    for _ in itertools.repeat(None,N):\n",
    "        g0 = 1 * (np.random.rand( r, r, s0) > 0.52) # (null), 0.52 (classes)\n",
    "        g1 = 1 * (np.random.rand( r, r, s1) > 0.48) # (null), 0.48 (classes)\n",
    "\n",
    "        # compute feature of data\n",
    "        pbar0 = 1.0*np.sum(g0, axis=(0,1))/( r**2 * s0)\n",
    "        pbar1 = 1.0*np.sum(g1, axis=(0,1))/( r**2 * s0)\n",
    "\n",
    "        # compute t-test on feature\n",
    "        pval = np.append(pval, stats.wilcoxon(pbar0, pbar1)[1])\n",
    "    \n",
    "    # record average p value at operating point\n",
    "    pow_alt = np.append(pow_alt, np.sum(1.0*(pval < alpha))/N)"
   ]
  },
  {
   "cell_type": "markdown",
   "metadata": {},
   "source": [
    "### Step 5: Plot power vs n on null set"
   ]
  },
  {
   "cell_type": "code",
   "execution_count": 27,
   "metadata": {
    "collapsed": false
   },
   "outputs": [
    {
     "data": {
      "image/png": "[encoded data removed]",
      "text/plain": [
       "<matplotlib.figure.Figure at 0x10b531d90>"
      ]
     },
     "metadata": {},
     "output_type": "display_data"
    }
   ],
   "source": [
    "plt.figure(figsize=(8, 5))\n",
    "plt.scatter(S, pow_null, hold=True, label='null')\n",
    "plt.scatter(S, pow_alt, color='green', hold=True, label='alt')\n",
    "plt.xscale('log')\n",
    "plt.xlabel('Number of Samples')\n",
    "plt.xlim((0,10000))\n",
    "plt.ylim((-0.05, 1.05))\n",
    "plt.ylabel('Power')\n",
    "plt.title('Strength of Gender Classification Using Wilcoxon Test')\n",
    "plt.axhline(alpha, color='red', linestyle='--', label='alpha')\n",
    "plt.legend(loc='center left', bbox_to_anchor=(1, 0.5))\n",
    "plt.savefig('../figs/wilcoxon_classification.png')\n",
    "plt.show()"
   ]
  },
  {
   "cell_type": "markdown",
   "metadata": {},
   "source": [
    "### Step 6: Apply the above to data"
   ]
  },
  {
   "cell_type": "code",
   "execution_count": 22,
   "metadata": {
    "collapsed": false
   },
   "outputs": [
    {
     "name": "stdout",
     "output_type": "stream",
     "text": [
      "Dataset: ../data/desikan/KKI2009\n",
      "(70, 70, 42)\n"
     ]
    }
   ],
   "source": [
    "# Initializing dataset names\n",
    "dnames = list(['../data/desikan/KKI2009'])\n",
    "print \"Dataset: \" + \", \".join(dnames)\n",
    "\n",
    "# Getting graph names\n",
    "fs = list()\n",
    "for dd in dnames:\n",
    "        fs.extend([root+'/'+file for root, dir, files in os.walk(dd) for file in files])\n",
    "fs = fs[:]\n",
    "\n",
    "def loadGraphs(filenames, rois, printer=False):\n",
    "    A = np.zeros((rois, rois, len(filenames)))\n",
    "    for idx, files in enumerate(filenames):\n",
    "        if printer:\n",
    "            print \"Loading: \" + files\n",
    "        g = ig.Graph.Read_GraphML(files)\n",
    "        tempg = g.get_adjacency(attribute='weight')\n",
    "        A[:,:,idx] = np.asarray(tempg.data)\n",
    "        \n",
    "    return A\n",
    "\n",
    "# Load X\n",
    "X = loadGraphs(fs, 70)\n",
    "print X.shape\n",
    "\n",
    "# Load Y\n",
    "ys = csv.reader(open('../data/kki42_subjectinformation.csv'))\n",
    "y = [y[5] for y in ys]\n",
    "y = y[1:]"
   ]
  },
  {
   "cell_type": "code",
   "execution_count": 23,
   "metadata": {
    "collapsed": false
   },
   "outputs": [
    {
     "name": "stdout",
     "output_type": "stream",
     "text": [
      "(70, 70, 20)\n",
      "(70, 70, 22)\n"
     ]
    }
   ],
   "source": [
    "g_m = np.zeros((70, 70, sum([1 if x=='M' else 0 for x in y])))\n",
    "g_f = np.zeros((70, 70, sum([1 if x=='F' else 0 for x in y])))\n",
    "\n",
    "cf=0\n",
    "cm=0\n",
    "for idx, val in enumerate(y):\n",
    "    if val == 'M':\n",
    "        g_m[:,:,cm] = X[:,:,idx]\n",
    "        cm += 1\n",
    "    else:\n",
    "        g_f[:,:,cf] = X[:,:,idx]\n",
    "        cf +=1\n",
    "print g_f.shape\n",
    "print g_m.shape"
   ]
  },
  {
   "cell_type": "code",
   "execution_count": 24,
   "metadata": {
    "collapsed": false
   },
   "outputs": [
    {
     "name": "stdout",
     "output_type": "stream",
     "text": [
      "Mean p_f: 0.0140418367347\n",
      "Mean p_m: 0.0131303761174\n",
      "P-value: 0.0227687437189\n"
     ]
    }
   ],
   "source": [
    "# compute feature of data\n",
    "p_f = 1.0*np.sum(1.0*(g_f>0), axis=(0,1))/( 70**2 * 20)\n",
    "p_m = 1.0*np.sum(1.0*(g_m>0), axis=(0,1))/( 70**2 * 22)\n",
    "\n",
    "print \"Mean p_f: \" + str(np.mean(p_f))\n",
    "print \"Mean p_m: \" + str(np.mean(p_m))\n",
    "\n",
    "# compute t-test on feature\n",
    "pval = stats.wilcoxon(p_m[:20], p_f)[1]\n",
    "print \"P-value: \" + str(pval)\n"
   ]
  },
  {
   "cell_type": "markdown",
   "metadata": {},
   "source": [
    "### Step 7: Reflect\n",
    "\n",
    "The result I obtained from my data says that the probability of an edge between men and women is significantly different. I believe that the result is true, as literature has suggested that women have higher connectivity in their brains than men do. However, in order to feel more confident in this answer I would like a larger sample size."
   ]
  }
 ],
 "metadata": {
  "kernelspec": {
   "display_name": "Python 2",
   "language": "python",
   "name": "python2"
  },
  "language_info": {
   "codemirror_mode": {
    "name": "ipython",
    "version": 2
   },
   "file_extension": ".py",
   "mimetype": "text/x-python",
   "name": "python",
   "nbconvert_exporter": "python",
   "pygments_lexer": "ipython2",
   "version": "2.7.11"
  }
 },
 "nbformat": 4,
 "nbformat_minor": 0
}
