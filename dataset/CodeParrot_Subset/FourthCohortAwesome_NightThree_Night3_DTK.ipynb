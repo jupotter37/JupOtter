{
 "cells": [
  {
   "cell_type": "markdown",
   "metadata": {},
   "source": [
    "Similar type issue from last weeks problem\n",
    "3 File protocols now\n",
    "\n",
    "Protocol1 = 7Col x 3Row --> Alt1\n",
    "Protocol2 = 2Col x 9Row --> Alt2\n",
    "Protocol3 = 4Col x 7Row --> Alt3\n",
    "\n",
    "File rows might not be in the same order, need to retain the order from the original to the destination\n",
    "\n",
    "Output files naming schema - Dest_DTK_alt<#>.csv\n",
    "\n",
    "Pseudo Code -\n",
    "Identify file type\n",
    "write out appropriate file in the correct order"
   ]
  },
  {
   "cell_type": "code",
   "execution_count": 95,
   "metadata": {
    "collapsed": false
   },
   "outputs": [
    {
     "name": "stderr",
     "output_type": "stream",
     "text": [
      "/Users/xianarchangel/anaconda/lib/python3.6/site-packages/ipykernel/__main__.py:18: ParserWarning: Falling back to the 'python' engine because the 'c' engine does not support sep=None with delim_whitespace=False; you can avoid this warning by specifying engine='python'.\n"
     ]
    }
   ],
   "source": [
    "import csv\n",
    "import sys\n",
    "import pandas as pd \n",
    "\n",
    "if sys.argv[1] == None:\n",
    "    print(\"Export and run this: python3 <filename>.py <file to process>\")\n",
    "    quit()\n",
    "\n",
    "# Need to open file and peek at structure to make decision\n",
    "argfile = sys.argv[1]\n",
    "\n",
    "#debug code\n",
    "#argfile = 'source.csv'\n",
    "#argfile = 'alt2.csv'\n",
    "#argfile = 'alt3.csv'\n",
    "\n",
    "with open(argfile, 'r') as infile:\n",
    "    df = pd.read_csv(infile, sep=None)    \n",
    "    # extract number of cols\n",
    "    #print(df)\n",
    "    colNum = len(df.columns)\n",
    "    if colNum == 2:\n",
    "        print('logic for fixing the alt2 type')\n",
    "        # read data from each row, if present, replace data in second column\n",
    "        # if data is not present in first col then read second col and replace col 1\n",
    "                \n",
    "        # dictionary of all possible outcomes\n",
    "        type1 = ['1', '3']\n",
    "        type2 = ['2', '4']\n",
    "        type3 = ['3', '6']\n",
    "        \n",
    "        for i, row in df.iterrows():\n",
    "            if row['ONE'] == 1 or row['TWO'] == 3:\n",
    "                df.loc[i] = type1\n",
    "            elif row['ONE'] == 2 or row['TWO'] == 4:\n",
    "                df.loc[i] = type2\n",
    "            elif row['ONE'] == 3 or row['TWO'] == 6:\n",
    "                df.loc[i] = type3                \n",
    "            else:\n",
    "                # What have you given me?\n",
    "                print(\"The world is on FIRE!\")\n",
    "\n",
    "            df.to_csv('Dest_DTK_alt2.csv', sep='\\t', index = False)\n",
    "        \n",
    "        \n",
    "    elif colNum == 4:\n",
    "        #print('logic for fixing the source.csv')\n",
    "        data = ['a', 'b', 'c', 'd']\n",
    "        rowdata=[data]*7\n",
    "        df = pd.DataFrame(rowdata, columns=['One', 'Two', 'Three', 'Four'])\n",
    "        df.to_csv(r'Dest_DTK_source.csv', sep='\\t', index = False)\n",
    "    elif colNum == 7:\n",
    "        #print('logic for fixing the alt3 type')\n",
    "        data = ['1', '2', '3', '4', '5', '6', '7']\n",
    "        rowdata=[data]*3\n",
    "        df = pd.DataFrame(rowdata, columns=['One', 'Two', 'Three', 'Four', 'Five', 'Six', 'Seven'])\n",
    "        df.to_csv(r'Dest_DTK_alt3', sep='\\t', index = False)\n",
    "    else:\n",
    "        print(\"System Error Deleting File System.....Standby...\")\n",
    "        quit()\n",
    "\n",
    "\n",
    "\n"
   ]
  },
  {
   "cell_type": "code",
   "execution_count": null,
   "metadata": {
    "collapsed": true
   },
   "outputs": [],
   "source": []
  },
  {
   "cell_type": "code",
   "execution_count": null,
   "metadata": {
    "collapsed": true
   },
   "outputs": [],
   "source": []
  }
 ],
 "metadata": {
  "kernelspec": {
   "display_name": "Python 3",
   "language": "python",
   "name": "python3"
  },
  "language_info": {
   "codemirror_mode": {
    "name": "ipython",
    "version": 3
   },
   "file_extension": ".py",
   "mimetype": "text/x-python",
   "name": "python",
   "nbconvert_exporter": "python",
   "pygments_lexer": "ipython3",
   "version": "3.6.0"
  }
 },
 "nbformat": 4,
 "nbformat_minor": 2
}
