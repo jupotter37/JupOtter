{
 "cells": [
  {
   "cell_type": "markdown",
   "metadata": {},
   "source": [
    "## Python中的常用容器\n",
    "\n",
    "Python中的容器类型包括`序列类型`, `集合类型`, `映射类型`"
   ]
  },
  {
   "cell_type": "markdown",
   "metadata": {},
   "source": [
    "### 序列类型\n",
    "\n",
    "Python中有以下三种基本序列类型, 所谓序列(`Sequence`)即表示容器内的元素是有顺序的.\n",
    " * `tuple`(元组): 元组是不可变序列，通常用于储存异构数据的多项集, 当然也可以被用于储存同构数据.\n",
    " * `list`(列表): 列表是可变序列，通常用于存放同类项目的集合.\n",
    " * `range`: range对象表示不可变的数字序列，通常用于在 for 循环中循环指定的次数"
   ]
  },
  {
   "cell_type": "markdown",
   "metadata": {},
   "source": [
    "### `tuple`元组\n",
    "\n",
    "元组是不可变序列，通常用于储存异构数据的多项集(例如映射类型`dict`的`items()`方法的返回值)"
   ]
  },
  {
   "cell_type": "code",
   "execution_count": null,
   "metadata": {},
   "outputs": [],
   "source": [
    "# 空元祖可以直接使用 `()` 进行声明, 也可以使用tuple()进行声明\n",
    "(), type(()), tuple(), type(tuple())"
   ]
  },
  {
   "cell_type": "code",
   "execution_count": null,
   "metadata": {},
   "outputs": [],
   "source": [
    "# 单个元素的元组使用`()`的方式声明必须在元素之后增加`,`\n",
    "print( (1), (1,) )"
   ]
  },
  {
   "cell_type": "code",
   "execution_count": null,
   "metadata": {},
   "outputs": [],
   "source": [
    "t1 = (1, 2.33, (\"tuple\",), [\"hello\"])"
   ]
  },
  {
   "cell_type": "markdown",
   "metadata": {},
   "source": [
    "元组中为不可变序列, 具体体现为元组元素__指向__的内存地址不能变, 但是如果元素为可变类型, 那元素的内容可变."
   ]
  },
  {
   "cell_type": "code",
   "execution_count": null,
   "metadata": {},
   "outputs": [],
   "source": [
    "t1[0] = 2"
   ]
  },
  {
   "cell_type": "code",
   "execution_count": null,
   "metadata": {},
   "outputs": [],
   "source": [
    "t1[1] = 6.66"
   ]
  },
  {
   "cell_type": "code",
   "execution_count": null,
   "metadata": {},
   "outputs": [],
   "source": [
    "t1[2] = (\"variadic\",)"
   ]
  },
  {
   "cell_type": "code",
   "execution_count": null,
   "metadata": {},
   "outputs": [],
   "source": [
    "t1[3].append(\"world\")"
   ]
  },
  {
   "cell_type": "code",
   "execution_count": null,
   "metadata": {},
   "outputs": [],
   "source": [
    "print(t1)"
   ]
  },
  {
   "cell_type": "markdown",
   "metadata": {},
   "source": [
    "### list列表\n",
    "\n",
    "列表是可变序列，通常用于存放同类项目的集合, 通常用于储存相同类型的数据.当然也可以储存不同类型的数据."
   ]
  },
  {
   "cell_type": "code",
   "execution_count": null,
   "metadata": {},
   "outputs": [],
   "source": [
    "# 与tuple相同, 可以直接使用 [] 或者 list() 来声明一个空数组\n",
    "print( [], type([]), list(), type(list()) )"
   ]
  },
  {
   "cell_type": "code",
   "execution_count": null,
   "metadata": {},
   "outputs": [],
   "source": [
    "# 与tuple不同的是, 在声明单个元素的时候不需要在元素之后多写一个 ,"
   ]
  },
  {
   "cell_type": "code",
   "execution_count": null,
   "metadata": {},
   "outputs": [],
   "source": [
    "[1], type([1])"
   ]
  },
  {
   "cell_type": "code",
   "execution_count": null,
   "metadata": {},
   "outputs": [],
   "source": [
    "list1 = [1, 2.33, (\"tuple\",), [\"hello\"]]"
   ]
  },
  {
   "cell_type": "markdown",
   "metadata": {},
   "source": [
    "另一个与`tuple`不同的是, `list`中元素指向的内存地址是可变的. 这就意味着我们能修改元素的指向"
   ]
  },
  {
   "cell_type": "code",
   "execution_count": null,
   "metadata": {},
   "outputs": [],
   "source": [
    "list1[0] = 2"
   ]
  },
  {
   "cell_type": "code",
   "execution_count": null,
   "metadata": {},
   "outputs": [],
   "source": [
    "# 这里同时修改了类型\n",
    "list1[1] = \"6.66\""
   ]
  },
  {
   "cell_type": "code",
   "execution_count": null,
   "metadata": {},
   "outputs": [],
   "source": [
    "# 思考是否可以这样修改, 为什么?\n",
    "list1[2][0] = \"variadic\""
   ]
  },
  {
   "cell_type": "code",
   "execution_count": null,
   "metadata": {},
   "outputs": [],
   "source": [
    "# 思考是否可以这样修改, 为什么?\n",
    "list1[2] = \"variadic\""
   ]
  },
  {
   "cell_type": "code",
   "execution_count": null,
   "metadata": {},
   "outputs": [],
   "source": [
    "list1[3].append(\"world\")"
   ]
  },
  {
   "cell_type": "code",
   "execution_count": null,
   "metadata": {},
   "outputs": [],
   "source": [
    "print(list1)"
   ]
  },
  {
   "cell_type": "markdown",
   "metadata": {},
   "source": [
    "比较常用的是, 我们可以使用`sort`方法来排序列表中的字段"
   ]
  },
  {
   "cell_type": "code",
   "execution_count": null,
   "metadata": {},
   "outputs": [],
   "source": [
    "list2 = [1, 2, 0, -1, 9, 7, 6, 5]\n",
    "list2.sort()\n",
    "list2"
   ]
  },
  {
   "cell_type": "markdown",
   "metadata": {},
   "source": [
    "### range对象\n",
    "\n",
    "对于range对象, 我们之前有简单的介绍过, 这里我们复习一下.\n",
    "\n",
    "range类型表示不可变的数字序列，一般用于在 for 循环中循环指定的次数。\n",
    "\n",
    "range 类型相比常规 list 或 tuple 的优势在于一个 range 对象总是占用固定数量的（较小）内存.\n",
    "不论其所表示的范围有多大（因为它只保存了 start, stop 和 step 值，并会根据需要计算具体单项或子范围的值）"
   ]
  },
  {
   "cell_type": "code",
   "execution_count": null,
   "metadata": {},
   "outputs": [],
   "source": [
    "# 只传递一个参数的话, 表示从`0`开始到`X`的序列\n",
    "list(range(10))"
   ]
  },
  {
   "cell_type": "code",
   "execution_count": null,
   "metadata": {},
   "outputs": [],
   "source": [
    "# 如果传递2个参数, 表示从`i`到`j`之间的序列\n",
    "list(range(2, 8))"
   ]
  },
  {
   "cell_type": "code",
   "execution_count": null,
   "metadata": {},
   "outputs": [],
   "source": [
    "# 如果传递了3个参数, 表示从`i`到`j`步长为`k`的序列\n",
    "list(range(0, 10, 2))"
   ]
  },
  {
   "cell_type": "markdown",
   "metadata": {},
   "source": [
    "> 扩展阅读, 其实range的简单实现其实看做是一个生成器, 当然实际的range不是一个生成器这么简单"
   ]
  },
  {
   "cell_type": "code",
   "execution_count": null,
   "metadata": {},
   "outputs": [],
   "source": [
    "def my_range(stop: int):\n",
    "    start = 0\n",
    "    while start != stop:\n",
    "        yield start\n",
    "        start += 1\n",
    "list(my_range(10))"
   ]
  },
  {
   "cell_type": "markdown",
   "metadata": {},
   "source": [
    "## 容器中的基本操作"
   ]
  },
  {
   "cell_type": "markdown",
   "metadata": {},
   "source": [
    "### 判断元素是否存在于一个容器中\n",
    "\n",
    "使用`in`或者`not in`来判断一个元素是否存在于一个容器中"
   ]
  },
  {
   "cell_type": "code",
   "execution_count": null,
   "metadata": {},
   "outputs": [],
   "source": [
    "1 in [1, 2, 3], 2 not in [1, 2, 3]"
   ]
  },
  {
   "cell_type": "markdown",
   "metadata": {},
   "source": [
    "### 容器拼接\n",
    "\n",
    "在Python中我们可以非常简单的使用`+`进行容器的拼接."
   ]
  },
  {
   "cell_type": "code",
   "execution_count": null,
   "metadata": {},
   "outputs": [],
   "source": [
    "[1, 2, 3] + [4, 5, 6]"
   ]
  },
  {
   "cell_type": "code",
   "execution_count": null,
   "metadata": {},
   "outputs": [],
   "source": [
    "(1, 2, 3) + (4, 5, 6)"
   ]
  },
  {
   "cell_type": "code",
   "execution_count": null,
   "metadata": {},
   "outputs": [],
   "source": [
    "[1, 2, 3] + list(range(4, 10))"
   ]
  },
  {
   "cell_type": "markdown",
   "metadata": {},
   "source": [
    "### 重复容器内元素\n",
    "\n",
    "在Python中可以将一个容器 `*` 一个整数, 可以得到这个容器重复 X 次的结果."
   ]
  },
  {
   "cell_type": "code",
   "execution_count": null,
   "metadata": {},
   "outputs": [],
   "source": [
    "[[]] * 3, [[1, [2, ]]] * 3"
   ]
  },
  {
   "cell_type": "code",
   "execution_count": null,
   "metadata": {},
   "outputs": [],
   "source": [
    "list(range(5)) * 3"
   ]
  },
  {
   "attachments": {},
   "cell_type": "markdown",
   "metadata": {},
   "source": [
    "### 其余操作\n",
    "\n",
    "* 使用`len()`获取容器的长度\n",
    "* 使用`min()`获取容器中的最小项\n",
    "* 使用`max()`获取容器中的最大项\n",
    "* 使用`s.count(x)`获取容器`s`中`x`出现的次数"
   ]
  },
  {
   "cell_type": "code",
   "execution_count": null,
   "metadata": {},
   "outputs": [],
   "source": [
    "len([]), len([()]), len(([], [], [])), len(range(10))"
   ]
  },
  {
   "cell_type": "code",
   "execution_count": null,
   "metadata": {},
   "outputs": [],
   "source": [
    "min([1, 2, 3, 4, -1]), max([1, 2, 3, 4, -1])"
   ]
  },
  {
   "cell_type": "code",
   "execution_count": null,
   "metadata": {},
   "outputs": [],
   "source": [
    "import random\n",
    "\n",
    "list3 = []\n",
    "for _ in range(1000):\n",
    "    list3.append(random.randint(0, 10))\n",
    "print(list3.count(6))"
   ]
  },
  {
   "attachments": {},
   "cell_type": "markdown",
   "metadata": {},
   "source": [
    "## 容器切片(重点)\n",
    "\n",
    "\n",
    "在Python中, 切片是非常好用且非常常用的一个特性.\n",
    "\n",
    "* 使用`[i]`获取第`i`项数据(从0开始)\n",
    "* 使用`[i:j]`获取从`i`到`j`的切片(左闭右开)\n",
    "* 使用`[i:j:k]`获取`i`到`j`步长为`k`的切片"
   ]
  },
  {
   "cell_type": "code",
   "execution_count": null,
   "metadata": {},
   "outputs": [],
   "source": [
    "list4 = list(range(10)); print(list4)"
   ]
  },
  {
   "cell_type": "code",
   "execution_count": null,
   "metadata": {},
   "outputs": [],
   "source": [
    "# python中支持使用负数作为索引, 表示从尾部开始取, 注意: 负数的起始值为 -1\n",
    "list4[-1], list4[-2], list4[-3]"
   ]
  },
  {
   "cell_type": "code",
   "execution_count": null,
   "metadata": {},
   "outputs": [],
   "source": [
    "# 获取一个切片, 从第2个元素到底6个元素\n",
    "list4[2:6]"
   ]
  },
  {
   "cell_type": "code",
   "execution_count": null,
   "metadata": {},
   "outputs": [],
   "source": [
    "# 如果不写 i 表示从头部开始取\n",
    "list4[:5]"
   ]
  },
  {
   "cell_type": "code",
   "execution_count": null,
   "metadata": {},
   "outputs": [],
   "source": [
    "# 如果不写 j 表示取到尾部为止\n",
    "list4[5:]"
   ]
  },
  {
   "cell_type": "code",
   "execution_count": null,
   "metadata": {},
   "outputs": [],
   "source": [
    "# 思考: 如果 i 和 j 都不写, 那会打印什么?\n",
    "list4[:]"
   ]
  },
  {
   "cell_type": "code",
   "execution_count": null,
   "metadata": {},
   "outputs": [],
   "source": [
    "# 第三个参数为步长参数, 表示每次隔几个元素取一次值\n",
    "list4[1:8:2]"
   ]
  },
  {
   "cell_type": "code",
   "execution_count": null,
   "metadata": {},
   "outputs": [],
   "source": [
    "# 思考1: 如何反转一个容器?\n",
    "\n",
    "# 思考2: 如下打印什么\n",
    "list4[::]"
   ]
  },
  {
   "cell_type": "markdown",
   "metadata": {},
   "source": [
    "## 集合类型\n",
    "\n",
    "Python中的集合类型有`set`和`frozenset`(较少使用, 表示创建之后不可修改, 可以简单看做是`tuple`版本的`set`).\n",
    "\n",
    "`set`对象和`frozenset`对象是由具有唯一性的 hashable 对象所组成的__无序__多项集.\n",
    "\n",
    "常见的用途包括成员检测、从序列中去除重复项以及数学中的集合类计算，例如交集、并集、差集与对称差集等等。"
   ]
  },
  {
   "cell_type": "code",
   "execution_count": null,
   "metadata": {},
   "outputs": [],
   "source": [
    "set1 = set([1, 2, 3, 1, 4, 5, 5, 2])"
   ]
  },
  {
   "cell_type": "code",
   "execution_count": null,
   "metadata": {},
   "outputs": [],
   "source": [
    "set1.update([6, 7, 2, 3]); print(set1)"
   ]
  },
  {
   "cell_type": "code",
   "execution_count": null,
   "metadata": {},
   "outputs": [],
   "source": [
    "fset1 = frozenset([1, 2, 3, 1, 4, 5, 5, 2])"
   ]
  },
  {
   "cell_type": "code",
   "execution_count": null,
   "metadata": {
    "scrolled": true
   },
   "outputs": [],
   "source": [
    "# 可以使用 dir 来打印一个对象所包含的所有内容\n",
    "print(dir(fset1))"
   ]
  },
  {
   "cell_type": "markdown",
   "metadata": {},
   "source": [
    "## 映射类型\n",
    "\n",
    "在Python中仅有一种映射类型, 即`dict`. 即javascript中的对象, php中的命名数组. 映射属于无序可变对象.\n",
    "\n",
    "字典的键 几乎 可以是任何值。 非 hashable 的值，即包含列表、字典或其他可变类型的值（此类对象基于值而非对象标识进行比较）不可用作键。 数字类型用作键时遵循数字比较的一般规则：如果两个数值相等 (例如 1 和 1.0) 则两者可以被用来索引同一字典条目。 （但是请注意，由于计算机对于浮点数存储的只是近似值，因此将其用作字典键是不明智的。）"
   ]
  },
  {
   "cell_type": "code",
   "execution_count": null,
   "metadata": {},
   "outputs": [],
   "source": [
    "dict1 = {\n",
    "    \"key1\": \"value1\",\n",
    "    123: 456,\n",
    "    123.0: 789,\n",
    "    (\"k\", \"e\", \"y\"): (\"k\", \"e\", \"y\")\n",
    "}\n",
    "print(dict1)"
   ]
  },
  {
   "cell_type": "code",
   "execution_count": null,
   "metadata": {},
   "outputs": [],
   "source": [
    "# 如果获取字典中不存在的键, 则会发生KeyError错误\n",
    "dict1[\"key2\"]"
   ]
  },
  {
   "cell_type": "code",
   "execution_count": null,
   "metadata": {},
   "outputs": [],
   "source": [
    "# 为了避免这个问题我们可以使用get方法获取字典中的值, 并自定义获取不到的时候返回的默认值\n",
    "dict1.get(\"key2\", \"default value\")"
   ]
  },
  {
   "cell_type": "code",
   "execution_count": null,
   "metadata": {},
   "outputs": [],
   "source": [
    "# 这里我们可以更近一步, 使用setdefault方法来当获取不到指定键的值的时候自动新增一个默认值, 并且返回默认值\n",
    "print(dict1.setdefault(\"key2\", \"default value and set\"))\n",
    "print(dict1)"
   ]
  },
  {
   "cell_type": "code",
   "execution_count": null,
   "metadata": {},
   "outputs": [],
   "source": [
    "# 但是可以给字典中不存在的键赋值\n",
    "dict1[\"key3\"] = \"value3\"\n",
    "print(dict1)"
   ]
  },
  {
   "cell_type": "code",
   "execution_count": null,
   "metadata": {},
   "outputs": [],
   "source": [
    "# 在字典上, 我们也可以使用`in`和`not in`判断一个键是否存在于一个字典中\n",
    "\"key1\" in dict1, \"key2\" not in dict1"
   ]
  },
  {
   "attachments": {},
   "cell_type": "markdown",
   "metadata": {},
   "source": [
    "## 常用的原生扩展容器\n",
    "\n",
    "Python中的常用原生扩展容易位于包`collections`中\n",
    "\n",
    "* `namedtuple`命名元组: 简易的纯属性类声明方式, 实际上是一个元组\n",
    "* `deque`双向链表: 用于解决需要频繁插入删除的业务下原生`list`效率太差的问题\n",
    "* `OrderedDict`有序字典: 用于解决原生`dict`无序的问题"
   ]
  },
  {
   "cell_type": "markdown",
   "metadata": {},
   "source": [
    "### namedtuple命名元组"
   ]
  },
  {
   "cell_type": "code",
   "execution_count": null,
   "metadata": {},
   "outputs": [],
   "source": [
    "from collections import namedtuple\n",
    "\n",
    "Pointer = namedtuple('Pointer', 'x y')\n",
    "Coordinate = namedtuple('Coordinate', 'x, y, z')\n",
    "\n",
    "start, end = Pointer(0, 0), Pointer(9, 9)\n",
    "coord1, coord2 =Coordinate(0, 0, 0), Coordinate(9, 9, 9)\n",
    "\n",
    "print(start, end, coord1, coord2)\n",
    "print(start.x, start.y)\n",
    "print(coord2.x, coord2.y, coord2.z)"
   ]
  },
  {
   "cell_type": "markdown",
   "metadata": {},
   "source": [
    "### deque双向链表"
   ]
  },
  {
   "cell_type": "code",
   "execution_count": null,
   "metadata": {},
   "outputs": [],
   "source": [
    "from collections import deque\n",
    "\n",
    "print(dir(deque()))"
   ]
  },
  {
   "cell_type": "markdown",
   "metadata": {},
   "source": [
    "### OrderedDict有序字典"
   ]
  },
  {
   "cell_type": "code",
   "execution_count": null,
   "metadata": {},
   "outputs": [],
   "source": [
    "from collections import OrderedDict\n",
    "\n",
    "od = OrderedDict()\n",
    "od[\"k1\"] = 123\n",
    "od[\"k2\"] = 123\n",
    "od[\"k3\"] = 123\n",
    "\n",
    "for k, v in od.items():\n",
    "    print(k, v)"
   ]
  }
 ],
 "metadata": {
  "kernelspec": {
   "display_name": "Python 3",
   "language": "python",
   "name": "python3"
  },
  "language_info": {
   "codemirror_mode": {
    "name": "ipython",
    "version": 3
   },
   "file_extension": ".py",
   "mimetype": "text/x-python",
   "name": "python",
   "nbconvert_exporter": "python",
   "pygments_lexer": "ipython3",
   "version": "3.6.5"
  }
 },
 "nbformat": 4,
 "nbformat_minor": 2
}
