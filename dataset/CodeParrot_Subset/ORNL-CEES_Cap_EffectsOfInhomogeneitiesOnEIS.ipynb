{
 "cells": [
  {
   "cell_type": "markdown",
   "metadata": {},
   "source": [
    "# Studying the effect of pore size distribution on impedance spectroscopy"
   ]
  },
  {
   "cell_type": "code",
   "execution_count": null,
   "metadata": {
    "collapsed": false,
    "scrolled": false
   },
   "outputs": [],
   "source": [
    "%matplotlib inline\n",
    "from pycap import PropertyTree, EnergyStorageDevice, Experiment\n",
    "from pycap import NyquistPlot\n",
    "from helpers import RefreshDisplay, PrintColumns\n",
    "\n",
    "# build the energy storage device\n",
    "ptree = PropertyTree()\n",
    "ptree.parse_info('super_capacitor.info')\n",
    "device = EnergyStorageDevice(ptree)\n",
    "\n",
    "# set up the experiment\n",
    "ptree = PropertyTree()\n",
    "ptree.parse_info('impedance_spectroscopy.info')\n",
    "eis = Experiment(ptree)\n",
    "\n",
    "# attach observers\n",
    "observers = [\n",
    "    NyquistPlot(),\n",
    "    RefreshDisplay(),\n",
    "    PrintColumns(),\n",
    "]\n",
    "for o in observers:\n",
    "    eis.attach(o)\n",
    "\n",
    "# run the experiment\n",
    "%time eis.run(device)"
   ]
  },
  {
   "cell_type": "code",
   "execution_count": null,
   "metadata": {
    "collapsed": false
   },
   "outputs": [],
   "source": [
    "# Save the impedance spectrum data into a file\n",
    "from pickle import dump, load\n",
    "with open('homogeneous_electrolyte_conductivity_5.5e3.dat', 'wb') as fout:\n",
    "    dump(eis._data, fout)"
   ]
  },
  {
   "cell_type": "code",
   "execution_count": null,
   "metadata": {
    "collapsed": false
   },
   "outputs": [],
   "source": [
    "from pycap import plot_nyquist\n",
    "from matplotlib import pyplot\n",
    "fig = pyplot.figure(figsize=(14, 14))\n",
    "\n",
    "plot_nyquist(load(open('inhomogeneous.dat', 'rb')), figure=fig, ls='b:')\n",
    "plot_nyquist(load(open('inhomogeneous_electrolyte_conductivity.dat', 'rb')), figure=fig, ls='g--') # 1e3 to 1e4\n",
    "plot_nyquist(load(open('homogeneous_electrolyte_conductivity_1e3.dat', 'rb')), figure=fig, ls='k:') # 1e3\n",
    "plot_nyquist(load(open('homogeneous_electrolyte_conductivity_1e4.dat', 'rb')), figure=fig, ls='k--') # 1e4\n",
    "plot_nyquist(load(open('homogeneous_electrolyte_conductivity_5.5e3.dat', 'rb')), figure=fig, ls='k-.') # 5.5e3\n"
   ]
  },
  {
   "cell_type": "code",
   "execution_count": null,
   "metadata": {
    "collapsed": true
   },
   "outputs": [],
   "source": []
  }
 ],
 "metadata": {
  "kernelspec": {
   "display_name": "Python 3",
   "language": "python",
   "name": "python3"
  },
  "language_info": {
   "codemirror_mode": {
    "name": "ipython",
    "version": 3
   },
   "file_extension": ".py",
   "mimetype": "text/x-python",
   "name": "python",
   "nbconvert_exporter": "python",
   "pygments_lexer": "ipython3",
   "version": "3.5.1+"
  }
 },
 "nbformat": 4,
 "nbformat_minor": 0
}
