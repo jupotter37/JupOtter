{
 "cells": [
  {
   "cell_type": "markdown",
   "metadata": {},
   "source": [
    "## GA4GH 1000 Genomes Sequence Annotations Example\n",
    "\n",
    "This example illustrates how to access the sequence annotations for a given set of ...."
   ]
  },
  {
   "cell_type": "markdown",
   "metadata": {},
   "source": [
    "### Initialize Client\n",
    "In this step we create a client object which will be used to communicate with the server. It is initialized using the URL."
   ]
  },
  {
   "cell_type": "code",
   "execution_count": 1,
   "metadata": {
    "collapsed": true
   },
   "outputs": [],
   "source": [
    "from ga4gh.client import client\n",
    "c = client.HttpClient(\"http://1kgenomes.ga4gh.org\")"
   ]
  },
  {
   "cell_type": "code",
   "execution_count": 7,
   "metadata": {
    "collapsed": false
   },
   "outputs": [],
   "source": [
    "#Obtain dataSet id REF: -> `1kg_metadata_service`\n",
    "dataset = c.search_datasets().next() "
   ]
  },
  {
   "cell_type": "markdown",
   "metadata": {},
   "source": [
    "### Search Feature Sets\n",
    "Feature sets are the logical containers for genomic features that might be defined in a GFF3, or other file that describes features in genomic coordinates. They are mapped to a single reference set, and belong to specific datasets."
   ]
  },
  {
   "cell_type": "code",
   "execution_count": 8,
   "metadata": {
    "collapsed": false
   },
   "outputs": [
    {
     "name": "stdout",
     "output_type": "stream",
     "text": [
      "id: \"WyIxa2dlbm9tZXMiLCJnZW5jb2RlX3YyNGxpZnQzNyJd\"\n",
      "dataset_id: \"WyIxa2dlbm9tZXMiXQ\"\n",
      "reference_set_id: \"WyJOQ0JJMzciXQ\"\n",
      "name: \"gencode_v24lift37\"\n",
      "\n"
     ]
    }
   ],
   "source": [
    "for feature_set in c.search_feature_sets(dataset_id=dataset.id):\n",
    "    print feature_set\n",
    "    if feature_set.name == \"gencode_v24lift37\":\n",
    "        gencode = feature_set"
   ]
  },
  {
   "cell_type": "markdown",
   "metadata": {},
   "source": [
    "### Get Feature Set by ID\n",
    "With the identifier to a specific Feature Set, one can retrieve that feature set by ID."
   ]
  },
  {
   "cell_type": "code",
   "execution_count": 9,
   "metadata": {
    "collapsed": false
   },
   "outputs": [
    {
     "name": "stdout",
     "output_type": "stream",
     "text": [
      "id: \"WyIxa2dlbm9tZXMiLCJnZW5jb2RlX3YyNGxpZnQzNyJd\"\n",
      "dataset_id: \"WyIxa2dlbm9tZXMiXQ\"\n",
      "reference_set_id: \"WyJOQ0JJMzciXQ\"\n",
      "name: \"gencode_v24lift37\"\n",
      "\n"
     ]
    }
   ],
   "source": [
    "feature_set = c.get_feature_set(feature_set_id=gencode.id)\n",
    "print feature_set"
   ]
  },
  {
   "cell_type": "markdown",
   "metadata": {},
   "source": [
    "### Search Features\n",
    "With a Feature Set ID, it becomes possible to construct a Search Features Request. In this request, we can find genomic features by position, type, or name. In this request we simply return all features in the Feature Set."
   ]
  },
  {
   "cell_type": "code",
   "execution_count": 10,
   "metadata": {
    "collapsed": false
   },
   "outputs": [
    {
     "name": "stdout",
     "output_type": "stream",
     "text": [
      "Id: WyIxa2dlbm9tZXMiLCJnZW5jb2RlX3YyNGxpZnQzNyIsIjE0MDUwODI3NzM3MTc5MiJd,\n",
      " Name: exon:ENST00000621489.1:2,\n",
      " Gene Symbol: CH17-408M7.1,\n",
      " Parent Id: WyIxa2dlbm9tZXMiLCJnZW5jb2RlX3YyNGxpZnQzNyIsIjE0MDUwODI3NzM3MTQwOCJd,\n",
      " Feature Set Id: WyIxa2dlbm9tZXMiLCJnZW5jb2RlX3YyNGxpZnQzNyJd,\n",
      " Reference Name: GL000192.1,\n",
      " Start: 429710,\tEnd: 430271,\n",
      " Strand: 1,\n",
      "  Feature Type Id: SO:0000147,\n",
      "  Feature Type Term: exon,\n",
      "  Feature Type Sorce Name: so-xp,\n",
      "  Feature Type Source Version: so-xp/releases/2015-11-24/so-xp.owl\n",
      "\n",
      "Id: WyIxa2dlbm9tZXMiLCJnZW5jb2RlX3YyNGxpZnQzNyIsIjE0MDUwODI3NzM3MTAyNCJd,\n",
      " Name: ENSG00000277420.1,\n",
      " Gene Symbol: CH17-408M7.1,\n",
      " Parent Id: ,\n",
      " Child Ids: WyIxa2dlbm9tZXMiLCJnZW5jb2RlX3YyNGxpZnQzNyIsIjE0MDUwODI3NzM3MTQwOCJd\n",
      " Feature Set Id: WyIxa2dlbm9tZXMiLCJnZW5jb2RlX3YyNGxpZnQzNyJd,\n",
      " Reference Name: GL000192.1,\n",
      " Start: 429710,\tEnd: 440529,\n",
      " Strand: 1,\n",
      "  Feature Type Id: SO:0000704,\n",
      "  Feature Type Term: gene,\n",
      "  Feature Type Sorce Name: so-xp,\n",
      "  Feature Type Source Version: so-xp/releases/2015-11-24/so-xp.owl\n",
      "\n",
      "Id: WyIxa2dlbm9tZXMiLCJnZW5jb2RlX3YyNGxpZnQzNyIsIjE0MDUwODI3NzM3MTQwOCJd,\n",
      " Name: ENST00000621489.1,\n",
      " Gene Symbol: CH17-408M7.1,\n",
      " Parent Id: WyIxa2dlbm9tZXMiLCJnZW5jb2RlX3YyNGxpZnQzNyIsIjE0MDUwODI3NzM3MTAyNCJd,\n",
      " Child Ids: WyIxa2dlbm9tZXMiLCJnZW5jb2RlX3YyNGxpZnQzNyIsIjE0MDUwODI3NzM3MTc5MiJd\n",
      " Child Ids: WyIxa2dlbm9tZXMiLCJnZW5jb2RlX3YyNGxpZnQzNyIsIjE0MDUwODI3NzM3MTYwMCJd\n",
      " Feature Set Id: WyIxa2dlbm9tZXMiLCJnZW5jb2RlX3YyNGxpZnQzNyJd,\n",
      " Reference Name: GL000192.1,\n",
      " Start: 429710,\tEnd: 440529,\n",
      " Strand: 1,\n",
      "  Feature Type Id: SO:0000673,\n",
      "  Feature Type Term: transcript,\n",
      "  Feature Type Sorce Name: so-xp,\n",
      "  Feature Type Source Version: so-xp/releases/2015-11-24/so-xp.owl\n",
      "\n",
      "Id: WyIxa2dlbm9tZXMiLCJnZW5jb2RlX3YyNGxpZnQzNyIsIjE0MDUwODI3NzM3MTYwMCJd,\n",
      " Name: exon:ENST00000621489.1:1,\n",
      " Gene Symbol: CH17-408M7.1,\n",
      " Parent Id: WyIxa2dlbm9tZXMiLCJnZW5jb2RlX3YyNGxpZnQzNyIsIjE0MDUwODI3NzM3MTQwOCJd,\n",
      " Feature Set Id: WyIxa2dlbm9tZXMiLCJnZW5jb2RlX3YyNGxpZnQzNyJd,\n",
      " Reference Name: GL000192.1,\n",
      " Start: 438554,\tEnd: 440529,\n",
      " Strand: 1,\n",
      "  Feature Type Id: SO:0000147,\n",
      "  Feature Type Term: exon,\n",
      "  Feature Type Sorce Name: so-xp,\n",
      "  Feature Type Source Version: so-xp/releases/2015-11-24/so-xp.owl\n",
      "\n"
     ]
    }
   ],
   "source": [
    "counter = 0\n",
    "for features in c.search_features(feature_set_id=feature_set.id):\n",
    "    if counter > 3:\n",
    "        break\n",
    "    counter += 1\n",
    "    print\"Id: {},\".format(features.id)\n",
    "    print\" Name: {},\".format(features.name)\n",
    "    print\" Gene Symbol: {},\".format(features.gene_symbol)\n",
    "    print\" Parent Id: {},\".format(features.parent_id)\n",
    "    if features.child_ids:\n",
    "        for i in features.child_ids:\n",
    "            print\" Child Ids: {}\".format(i)\n",
    "    print\" Feature Set Id: {},\".format(features.feature_set_id)\n",
    "    print\" Reference Name: {},\".format(features.reference_name)\n",
    "    print\" Start: {},\\tEnd: {},\".format(features.start, features.end)\n",
    "    print\" Strand: {},\".format(features.strand)\n",
    "    print\"  Feature Type Id: {},\".format(features.feature_type.id)\n",
    "    print\"  Feature Type Term: {},\".format(features.feature_type.term)\n",
    "    print\"  Feature Type Sorce Name: {},\".format(features.feature_type.source_name)\n",
    "    print\"  Feature Type Source Version: {}\\n\".format(features.feature_type.source_version)"
   ]
  },
  {
   "cell_type": "markdown",
   "metadata": {},
   "source": [
    "###### Note: Not all of the elements returned in the response are present in the example. All of the parameters will be shown in the get by id method."
   ]
  },
  {
   "cell_type": "markdown",
   "metadata": {},
   "source": [
    "We can perform a similar search, this time restricting to a specific genomic region."
   ]
  },
  {
   "cell_type": "code",
   "execution_count": 11,
   "metadata": {
    "collapsed": false
   },
   "outputs": [
    {
     "name": "stdout",
     "output_type": "stream",
     "text": [
      "ENSG00000282199.1 41991801 42000369\n",
      "ENST00000585329.1 41991801 42000369\n",
      "exon:ENST00000621298.1:5 42000143 42000691\n",
      "ENSG00000267166.5 42000143 42004756\n",
      "ENST00000621298.1 42000143 42004756\n",
      "exon:ENST00000585329.1:1 42000144 42000369\n",
      "exon:ENST00000621298.1:4 42000883 42001329\n"
     ]
    }
   ],
   "source": [
    "for feature in c.search_features(feature_set_id=feature_set.id, reference_name=\"chr17\", start=42000000, end=42001000):\n",
    "    print feature.name, feature.start, feature.end"
   ]
  },
  {
   "cell_type": "code",
   "execution_count": 12,
   "metadata": {
    "collapsed": false
   },
   "outputs": [
    {
     "name": "stdout",
     "output_type": "stream",
     "text": [
      "Id: WyIxa2dlbm9tZXMiLCJnZW5jb2RlX3YyNGxpZnQzNyIsIjE0MDUwODI3NzM3MTIxNiJd,\n",
      " Name: exon:ENST00000614199.1:2,\n",
      " Gene Symbol: RP11-640M9.4,\n",
      " Parent Id: WyIxa2dlbm9tZXMiLCJnZW5jb2RlX3YyNGxpZnQzNyIsIjE0MDUwODI3NzI1NjA4MCJd,\n",
      " Feature Set Id: WyIxa2dlbm9tZXMiLCJnZW5jb2RlX3YyNGxpZnQzNyJd,\n",
      " Reference Name: GL000192.1,\n",
      " Start: 493155,\tEnd: 493368,\n",
      " Strand: 1,\n",
      "  Feature Type Id: SO:0000147,\n",
      "  Feature Type Term: exon,\n",
      "  Feature Type Sorce Name: so-xp,\n",
      "  Feature Type Source Version: so-xp/releases/2015-11-24/so-xp.owl\n",
      "\n",
      "remap_original_location: chr1:+:146461646-146461859\n",
      "gene_status: KNOWN\n",
      "havana_gene: OTTHUMG00000187535.3\n",
      "transcript_support_level: NA\n",
      "Parent: ENST00000614199.1\n",
      "level: 2\n",
      "transcript_status: KNOWN\n",
      "tag: basic\n",
      "gene_id: ENSG00000277655.1\n",
      "exon_id: ENSE00003723063.1\n",
      "transcript_type: unprocessed_pseudogene\n",
      "transcript_name: RP11-640M9.4-001\n",
      "exon_number: 2\n",
      "ont: PGO:0000005\n",
      "havana_transcript: OTTHUMT00000475232.3\n",
      "transcript_id: ENST00000614199.1\n",
      "gene_type: unprocessed_pseudogene\n",
      "remap_status: full_contig\n",
      "ID: exon:ENST00000614199.1:2\n",
      "gene_name: RP11-640M9.4\n"
     ]
    }
   ],
   "source": [
    "feature = c.get_feature(feature_id=features.id)\n",
    "print\"Id: {},\".format(feature.id)\n",
    "print\" Name: {},\".format(feature.name)\n",
    "print\" Gene Symbol: {},\".format(feature.gene_symbol)\n",
    "print\" Parent Id: {},\".format(feature.parent_id)\n",
    "if feature.child_ids:\n",
    "    for i in feature.child_ids:\n",
    "        print\" Child Ids: {}\".format(i)\n",
    "print\" Feature Set Id: {},\".format(feature.feature_set_id)\n",
    "print\" Reference Name: {},\".format(feature.reference_name)\n",
    "print\" Start: {},\\tEnd: {},\".format(feature.start, feature.end)\n",
    "print\" Strand: {},\".format(feature.strand)\n",
    "print\"  Feature Type Id: {},\".format(feature.feature_type.id)\n",
    "print\"  Feature Type Term: {},\".format(feature.feature_type.term)\n",
    "print\"  Feature Type Sorce Name: {},\".format(feature.feature_type.source_name)\n",
    "print\"  Feature Type Source Version: {}\\n\".format(feature.feature_type.source_version)\n",
    "for vals in feature.attributes.vals:\n",
    "    print\"{}: {}\".format(vals, feature.attributes.vals[vals].values[0].string_value)"
   ]
  },
  {
   "cell_type": "markdown",
   "metadata": {},
   "source": [
    "###### In this last call we represent all of the elements returned in the message. \n",
    "\n",
    "##### For documentation in the service, and more information go to:\n",
    "https://ga4gh-schemas.readthedocs.io/en/latest/schemas/allele_annotation_service.proto.html"
   ]
  }
 ],
 "metadata": {
  "kernelspec": {
   "display_name": "Python 2",
   "language": "python",
   "name": "python2"
  },
  "language_info": {
   "codemirror_mode": {
    "name": "ipython",
    "version": 2
   },
   "file_extension": ".py",
   "mimetype": "text/x-python",
   "name": "python",
   "nbconvert_exporter": "python",
   "pygments_lexer": "ipython2",
   "version": "2.7.11"
  },
  "widgets": {
   "state": {},
   "version": "1.1.1"
  }
 },
 "nbformat": 4,
 "nbformat_minor": 0
}
