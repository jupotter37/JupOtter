{
 "cells": [
  {
   "cell_type": "markdown",
   "metadata": {},
   "source": [
    "# Collation outputs\n",
    "\n",
    "\n",
    "- Introduction\n",
    "- In practice\n",
    "    - Table: HTML\n",
    "    - Table: JSON\n",
    "    - Table: XML and XML/TEI\n",
    "    - Graph: SVG\n",
    "- Exercise\n",
    "- What's next\n",
    "\n",
    "---\n",
    "\n",
    "\n",
    "## Introduction\n",
    "\n",
    "In this tutorial we will be trying different outputs for our collation, meaning different graphical representations, formats and visualizations of the result.\n",
    "\n",
    "The visualization of the collation result is an open discussion: several possibilities have been suggested and used and new ones are always being proposed. When the output of the collation is a printed format, such as a book, it is rare to see anything different from the traditional critical apparatus. Now that output formats are more frequently digital (or at least have a digital component), collation tools tend to offer more than one visualization option. This is the case for both Juxta and CollateX. The different visualizations are not incompatible; on the contrary, they can be complementary, highlighting different aspects of the result and suitable for different users or different stages of the workflow.\n",
    "\n",
    "In the previous tutorials we used the alignment table and the graph. The alignment table, in use since the 1960's, is the equivalent of the matrix of bioinformatic for sequence alignment (for example, strings of DNA). In contrast, the graph is meant to represent the fluidity of the text and its variation. The idea of a graph-oriented model for expressing textual variance has been originally developed by Desmond Schmidt [(2008)](http://multiversiondocs.blogspot.it/2008/03/whats-multi-version-document.html). You can refer to [this video](https://vimeo.com/114242362), for a presentation on *Apparatus vs. Graph – an Interface as Scholarly Argument* by Tara Andrews and Joris van Zundert.\n",
    "Other outputs, such as the histogram and the side-by-side visualization offered by Juxta, allow users to visualize the result of the comparison between two witnesses only. This reflects the way the algorithm is built and shows that the graphical representation is connected with the approach to collation that informs the software.\n",
    "\n",
    "CollateX has two main ways to conceive of the collation result: as a **table** (with many different formatting options) and as a **graph**:\n",
    "- table formats\n",
    "    - plain text table (no need to specify the output)\n",
    "    - HTML table (output='**html**')\n",
    "    - HTML vertical table with colors (output='**html2**')\n",
    "    - JSON (output='**json**')\n",
    "    - XML (output='**xml**')\n",
    "    - XML/TEI (output='**tei**')\n",
    "- graph format\n",
    "    - SVG (output='**svg**')"
   ]
  },
  {
   "cell_type": "markdown",
   "metadata": {},
   "source": [
    "## In practice\n",
    "\n",
    "Even though we have already encountered some of these outputs, it is worth going through them one more time focussing on part of the code that needs to change to produce the different formats. \n",
    "\n",
    "### Table: plain text\n",
    "\n",
    "In this tutorial we will use some simple texts already used in the previous tutorial: the *fox and dog* example.\n",
    "\n",
    "Let's start with the most simple output, for which we don't need to specify any output format (note that you can name the variable containing the output anything you like, but in this tutorial we call it *alignment_table*, *table* or *graph*)\n",
    "\n",
    "In the code cell below the lines starting with a hash (#) are comments and are not executed. They are there in this instance to help you remember what the different parts of the code do. You do not need to use them in your notebook (although sometimes it is helpful to add comments to your code so you remember what things do)."
   ]
  },
  {
   "cell_type": "code",
   "execution_count": 2,
   "metadata": {
    "collapsed": false
   },
   "outputs": [
    {
     "name": "stdout",
     "output_type": "stream",
     "text": [
      "+---+-----+-------+-------+---------------------+------+------+\n",
      "| A | The | quick | brown | fox jumped over the | lazy | dog. |\n",
      "| B | The | -     | brown | fox jumped over the | -    | dog. |\n",
      "| C | The | bad   | -     | fox jumped over the | lazy | dog. |\n",
      "+---+-----+-------+-------+---------------------+------+------+\n"
     ]
    }
   ],
   "source": [
    "#import the collatex library\n",
    "from collatex import *\n",
    "#create an instance of the collateX engine\n",
    "collation = Collation()\n",
    "#add witnesses to the collateX instance\n",
    "collation.add_plain_witness( \"A\", \"The quick brown fox jumped over the lazy dog.\")\n",
    "collation.add_plain_witness( \"B\", \"The brown fox jumped over the dog.\" )\n",
    "collation.add_plain_witness( \"C\", \"The bad fox jumped over the lazy dog.\" )\n",
    "#collate the witnesses and store the result in a vaiable called 'table'\n",
    "#as we have not specified an output this will be sored in plain text\n",
    "table = collate(collation)\n",
    "#print the collation result\n",
    "print(table)"
   ]
  },
  {
   "cell_type": "markdown",
   "metadata": {},
   "source": [
    "### Table: HTML\n",
    "\n",
    "Now let's try a different output. This time we still want a table format but instead of it being in plain text we would like it exported in HTML (the markup language used for web pages), and we would like it to be displayed vertically with nice colors to highlight the comparison. To achieve this all you need to do is add the keyword *output* to the *collate* command and give it that value *html2*."
   ]
  },
  {
   "cell_type": "code",
   "execution_count": 3,
   "metadata": {
    "collapsed": false
   },
   "outputs": [
    {
     "data": {
      "text/html": [
       "<TABLE style=\"border: 1px solid #000000; border-collapse: collapse;\" border=\"1\" cellpadding=\"4\">\n",
       " <TR>\n",
       "  <TH>A</TH>\n",
       "  <TH>B</TH>\n",
       "  <TH>C</TH>\n",
       " </TR>\n",
       " <TR>\n",
       "  <TD bgcolor=\"00FF00\">The</TD>\n",
       "  <TD bgcolor=\"00FF00\">The</TD>\n",
       "  <TD bgcolor=\"00FF00\">The</TD>\n",
       " </TR>\n",
       " <TR>\n",
       "  <TD bgcolor=\"FF0000\">quick</TD>\n",
       "  <TD bgcolor=\"FF0000\">-</TD>\n",
       "  <TD bgcolor=\"FF0000\">bad</TD>\n",
       " </TR>\n",
       " <TR>\n",
       "  <TD bgcolor=\"FF0000\">brown</TD>\n",
       "  <TD bgcolor=\"FF0000\">brown</TD>\n",
       "  <TD bgcolor=\"FF0000\">-</TD>\n",
       " </TR>\n",
       " <TR>\n",
       "  <TD bgcolor=\"00FF00\">fox jumped over the</TD>\n",
       "  <TD bgcolor=\"00FF00\">fox jumped over the</TD>\n",
       "  <TD bgcolor=\"00FF00\">fox jumped over the</TD>\n",
       " </TR>\n",
       " <TR>\n",
       "  <TD bgcolor=\"FF0000\">lazy</TD>\n",
       "  <TD bgcolor=\"FF0000\">-</TD>\n",
       "  <TD bgcolor=\"FF0000\">lazy</TD>\n",
       " </TR>\n",
       " <TR>\n",
       "  <TD bgcolor=\"00FF00\">dog.</TD>\n",
       "  <TD bgcolor=\"00FF00\">dog.</TD>\n",
       "  <TD bgcolor=\"00FF00\">dog.</TD>\n",
       " </TR>\n",
       "</TABLE>"
      ],
      "text/plain": [
       "<IPython.core.display.HTML object>"
      ]
     },
     "metadata": {},
     "output_type": "display_data"
    }
   ],
   "source": [
    "table = collate(collation, output='html2')"
   ]
  },
  {
   "cell_type": "markdown",
   "metadata": {},
   "source": [
    "Before moving to the other outputs, try to produce the simple HTML output by changing the code above. The value required in the *output* keyword should be *html*.\n",
    "\n",
    "### Table: JSON\n",
    "\n",
    "The same alignment table can be exported in a variety of formats, as we have seen, including JSON (Javascript Object Notation), a format widely used for storing and interchanging data nowadays. In order to produce JSON as output, we need to specify *json* as the output format."
   ]
  },
  {
   "cell_type": "code",
   "execution_count": 4,
   "metadata": {
    "collapsed": false,
    "scrolled": true
   },
   "outputs": [
    {
     "name": "stdout",
     "output_type": "stream",
     "text": [
      "{\"table\": [[[{\"n\": \"The\", \"t\": \"The \"}], [{\"n\": \"quick\", \"t\": \"quick \"}], [{\"n\": \"brown\", \"t\": \"brown \"}], [{\"n\": \"fox\", \"t\": \"fox \"}, {\"n\": \"jumped\", \"t\": \"jumped \"}, {\"n\": \"over\", \"t\": \"over \"}, {\"n\": \"the\", \"t\": \"the \"}], [{\"n\": \"lazy\", \"t\": \"lazy \"}], [{\"n\": \"dog\", \"t\": \"dog\"}, {\"n\": \".\", \"t\": \".\"}]], [[{\"n\": \"The\", \"t\": \"The \"}], null, [{\"n\": \"brown\", \"t\": \"brown \"}], [{\"n\": \"fox\", \"t\": \"fox \"}, {\"n\": \"jumped\", \"t\": \"jumped \"}, {\"n\": \"over\", \"t\": \"over \"}, {\"n\": \"the\", \"t\": \"the \"}], null, [{\"n\": \"dog\", \"t\": \"dog\"}, {\"n\": \".\", \"t\": \".\"}]], [[{\"n\": \"The\", \"t\": \"The \"}], [{\"n\": \"bad\", \"t\": \"bad \"}], null, [{\"n\": \"fox\", \"t\": \"fox \"}, {\"n\": \"jumped\", \"t\": \"jumped \"}, {\"n\": \"over\", \"t\": \"over \"}, {\"n\": \"the\", \"t\": \"the \"}], [{\"n\": \"lazy\", \"t\": \"lazy \"}], [{\"n\": \"dog\", \"t\": \"dog\"}, {\"n\": \".\", \"t\": \".\"}]]], \"witnesses\": [\"A\", \"B\", \"C\"]}\n"
     ]
    }
   ],
   "source": [
    "table = collate(collation, output='json')\n",
    "print(table)"
   ]
  },
  {
   "cell_type": "markdown",
   "metadata": {},
   "source": [
    "### Table: XML and XML/TEI\n",
    "\n",
    "We can use the same procedure in order to export the table in XML or XML/TEI (the latter produces a condensed version of the table only listing witnesses at points of divergence - also called a negative apparatus). To do this you just specify a different output format. Let's start with the XML output (that you can later post-process using XSLT or other tools)."
   ]
  },
  {
   "cell_type": "code",
   "execution_count": 5,
   "metadata": {
    "collapsed": false
   },
   "outputs": [
    {
     "name": "stdout",
     "output_type": "stream",
     "text": [
      "<root><app><rdg wit=\"#A\">The </rdg><rdg wit=\"#B\">The </rdg><rdg wit=\"#C\">The </rdg></app><app><rdg wit=\"#A\">quick </rdg><rdg wit=\"#C\">bad </rdg></app><app><rdg wit=\"#A\">brown </rdg><rdg wit=\"#B\">brown </rdg></app><app><rdg wit=\"#A\">fox jumped over the </rdg><rdg wit=\"#B\">fox jumped over the </rdg><rdg wit=\"#C\">fox jumped over the </rdg></app><app><rdg wit=\"#A\">lazy </rdg><rdg wit=\"#C\">lazy </rdg></app><app><rdg wit=\"#A\">dog.</rdg><rdg wit=\"#B\">dog.</rdg><rdg wit=\"#C\">dog.</rdg></app></root>\n"
     ]
    }
   ],
   "source": [
    "table = collate(collation, output='xml')\n",
    "print(table)"
   ]
  },
  {
   "cell_type": "markdown",
   "metadata": {},
   "source": [
    "And, finally, you can test the XML/TEI output that produces XML following the TEI parallel segmentation encoding guidelines."
   ]
  },
  {
   "cell_type": "code",
   "execution_count": 6,
   "metadata": {
    "collapsed": false
   },
   "outputs": [
    {
     "name": "stdout",
     "output_type": "stream",
     "text": [
      "<p>The <app><rdg wit=\"#A\">quick </rdg><rdg wit=\"#C\">bad </rdg></app><app><rdg wit=\"#A #B\">brown </rdg></app>fox jumped over the <app><rdg wit=\"#A #C\">lazy </rdg></app>dog.</p>\n"
     ]
    }
   ],
   "source": [
    "table = collate(collation, output='tei')\n",
    "print(table)"
   ]
  },
  {
   "cell_type": "markdown",
   "metadata": {},
   "source": [
    "\n",
    "### Graph: SVG\n",
    "\n",
    "And now for something different: try with the graph, exported in the SVG format"
   ]
  },
  {
   "cell_type": "code",
   "execution_count": 7,
   "metadata": {
    "collapsed": false
   },
   "outputs": [
    {
     "data": {
      "image/svg+xml": [
       "<svg height=\"140pt\" viewBox=\"0.00 0.00 1318.00 140.00\" width=\"1318pt\" xmlns=\"http://www.w3.org/2000/svg\" xmlns:xlink=\"http://www.w3.org/1999/xlink\">\n",
       "<g class=\"graph\" id=\"graph0\" transform=\"scale(1 1) rotate(0) translate(4 136)\">\n",
       "<title>%3</title>\n",
       "<polygon fill=\"white\" points=\"-4,4 -4,-136 1314,-136 1314,4 -4,4\" stroke=\"none\"/>\n",
       "<!-- 1 -->\n",
       "<g class=\"node\" id=\"node1\"><title>1</title>\n",
       "<polygon fill=\"none\" points=\"54,-97 0,-97 0,-61 54,-61 54,-97\" stroke=\"black\"/>\n",
       "<text font-family=\"Times,serif\" font-size=\"14.00\" text-anchor=\"middle\" x=\"27\" y=\"-74.8\">1</text>\n",
       "</g>\n",
       "<!-- 3 -->\n",
       "<g class=\"node\" id=\"node3\"><title>3</title>\n",
       "<polygon fill=\"none\" points=\"235.5,-104.5 134.5,-104.5 134.5,-53.5 235.5,-53.5 235.5,-104.5\" stroke=\"black\"/>\n",
       "<polygon fill=\"none\" points=\"144,-78 144,-99 179,-99 179,-78 144,-78\" stroke=\"black\"/>\n",
       "<text font-family=\"Times,serif\" font-size=\"14.00\" font-weight=\"bold\" text-anchor=\"start\" x=\"147\" y=\"-85.3\">The</text>\n",
       "<polygon fill=\"none\" points=\"179,-78 179,-99 227,-99 227,-78 179,-78\" stroke=\"black\"/>\n",
       "<text font-family=\"Times,serif\" font-size=\"14.00\" font-weight=\"bold\" text-anchor=\"start\" x=\"182\" y=\"-85.3\">Sigla</text>\n",
       "<polygon fill=\"none\" points=\"144,-58 144,-78 179,-78 179,-58 144,-58\" stroke=\"black\"/>\n",
       "<text font-family=\"Bukyvede\" font-size=\"14.00\" text-anchor=\"start\" x=\"147\" y=\"-63.8\">The </text>\n",
       "<polygon fill=\"none\" points=\"179,-58 179,-78 227,-78 227,-58 179,-58\" stroke=\"black\"/>\n",
       "<text font-family=\"Times,serif\" font-size=\"14.00\" text-anchor=\"start\" x=\"181.99\" y=\"-63.8\">B, C, A</text>\n",
       "<polygon fill=\"none\" points=\"142.5,-57.5 142.5,-100.5 227.5,-100.5 227.5,-57.5 142.5,-57.5\" stroke=\"black\"/>\n",
       "</g>\n",
       "<!-- 1&#45;&gt;3 -->\n",
       "<g class=\"edge\" id=\"edge1\"><title>1-&gt;3</title>\n",
       "<path d=\"M54.1109,-79C73.2364,-79 99.9793,-79 124.231,-79\" fill=\"none\" stroke=\"black\"/>\n",
       "<polygon fill=\"black\" points=\"124.443,-82.5001 134.443,-79 124.443,-75.5001 124.443,-82.5001\" stroke=\"black\"/>\n",
       "<text font-family=\"Times,serif\" font-size=\"14.00\" text-anchor=\"middle\" x=\"94\" y=\"-81.8\">A, B, C</text>\n",
       "</g>\n",
       "<!-- 2 -->\n",
       "<g class=\"node\" id=\"node2\"><title>2</title>\n",
       "<polygon fill=\"none\" points=\"601.5,-108.5 500.5,-108.5 500.5,-57.5 601.5,-57.5 601.5,-108.5\" stroke=\"black\"/>\n",
       "<polygon fill=\"none\" points=\"510,-82 510,-103 559,-103 559,-82 510,-82\" stroke=\"black\"/>\n",
       "<text font-family=\"Times,serif\" font-size=\"14.00\" font-weight=\"bold\" text-anchor=\"start\" x=\"513\" y=\"-89.3\">brown</text>\n",
       "<polygon fill=\"none\" points=\"559,-82 559,-103 593,-103 593,-82 559,-82\" stroke=\"black\"/>\n",
       "<text font-family=\"Times,serif\" font-size=\"14.00\" font-weight=\"bold\" text-anchor=\"start\" x=\"561.61\" y=\"-89.3\">Sigla</text>\n",
       "<polygon fill=\"none\" points=\"510,-62 510,-82 559,-82 559,-62 510,-62\" stroke=\"black\"/>\n",
       "<text font-family=\"Bukyvede\" font-size=\"14.00\" text-anchor=\"start\" x=\"513\" y=\"-67.8\">brown </text>\n",
       "<polygon fill=\"none\" points=\"559,-62 559,-82 593,-82 593,-62 559,-62\" stroke=\"black\"/>\n",
       "<text font-family=\"Times,serif\" font-size=\"14.00\" text-anchor=\"start\" x=\"562\" y=\"-67.8\">B, A</text>\n",
       "<polygon fill=\"none\" points=\"508.5,-61.5 508.5,-104.5 593.5,-104.5 593.5,-61.5 508.5,-61.5\" stroke=\"black\"/>\n",
       "</g>\n",
       "<!-- 4 -->\n",
       "<g class=\"node\" id=\"node4\"><title>4</title>\n",
       "<polygon fill=\"none\" points=\"863.5,-72.5 664.5,-72.5 664.5,-21.5 863.5,-21.5 863.5,-72.5\" stroke=\"black\"/>\n",
       "<polygon fill=\"none\" points=\"674,-46 674,-67 807,-67 807,-46 674,-46\" stroke=\"black\"/>\n",
       "<text font-family=\"Times,serif\" font-size=\"14.00\" font-weight=\"bold\" text-anchor=\"start\" x=\"677\" y=\"-53.3\">fox jumped over the</text>\n",
       "<polygon fill=\"none\" points=\"807,-46 807,-67 855,-67 855,-46 807,-46\" stroke=\"black\"/>\n",
       "<text font-family=\"Times,serif\" font-size=\"14.00\" font-weight=\"bold\" text-anchor=\"start\" x=\"810\" y=\"-53.3\">Sigla</text>\n",
       "<polygon fill=\"none\" points=\"674,-26 674,-46 807,-46 807,-26 674,-26\" stroke=\"black\"/>\n",
       "<text font-family=\"Bukyvede\" font-size=\"14.00\" text-anchor=\"start\" x=\"677\" y=\"-31.8\">fox jumped over the </text>\n",
       "<polygon fill=\"none\" points=\"807,-26 807,-46 855,-46 855,-26 807,-26\" stroke=\"black\"/>\n",
       "<text font-family=\"Times,serif\" font-size=\"14.00\" text-anchor=\"start\" x=\"809.99\" y=\"-31.8\">B, C, A</text>\n",
       "<polygon fill=\"none\" points=\"672.5,-25.5 672.5,-68.5 855.5,-68.5 855.5,-25.5 672.5,-25.5\" stroke=\"black\"/>\n",
       "</g>\n",
       "<!-- 2&#45;&gt;4 -->\n",
       "<g class=\"edge\" id=\"edge2\"><title>2-&gt;4</title>\n",
       "<path d=\"M601.737,-74.5141C617.641,-71.8005 635.919,-68.6821 654.325,-65.5417\" fill=\"none\" stroke=\"black\"/>\n",
       "<polygon fill=\"black\" points=\"654.98,-68.9807 664.249,-63.8486 653.802,-62.0804 654.98,-68.9807\" stroke=\"black\"/>\n",
       "<text font-family=\"Times,serif\" font-size=\"14.00\" text-anchor=\"middle\" x=\"633\" y=\"-74.8\">A, B</text>\n",
       "</g>\n",
       "<!-- 3&#45;&gt;2 -->\n",
       "<g class=\"edge\" id=\"edge3\"><title>3-&gt;2</title>\n",
       "<path d=\"M235.955,-100.305C250.53,-105.524 266.665,-110.365 282,-113 353.239,-125.243 436.027,-111.807 490.523,-99.2128\" fill=\"none\" stroke=\"black\"/>\n",
       "<polygon fill=\"black\" points=\"491.439,-102.593 500.36,-96.8774 489.822,-95.782 491.439,-102.593\" stroke=\"black\"/>\n",
       "<text font-family=\"Times,serif\" font-size=\"14.00\" text-anchor=\"middle\" x=\"330\" y=\"-120.8\">B</text>\n",
       "</g>\n",
       "<!-- 6 -->\n",
       "<g class=\"node\" id=\"node6\"><title>6</title>\n",
       "<polygon fill=\"none\" points=\"377.5,-104.5 282.5,-104.5 282.5,-53.5 377.5,-53.5 377.5,-104.5\" stroke=\"black\"/>\n",
       "<polygon fill=\"none\" points=\"292,-78 292,-99 335,-99 335,-78 292,-78\" stroke=\"black\"/>\n",
       "<text font-family=\"Times,serif\" font-size=\"14.00\" font-weight=\"bold\" text-anchor=\"start\" x=\"295\" y=\"-85.3\">quick</text>\n",
       "<polygon fill=\"none\" points=\"335,-78 335,-99 369,-99 369,-78 335,-78\" stroke=\"black\"/>\n",
       "<text font-family=\"Times,serif\" font-size=\"14.00\" font-weight=\"bold\" text-anchor=\"start\" x=\"337.61\" y=\"-85.3\">Sigla</text>\n",
       "<polygon fill=\"none\" points=\"292,-58 292,-78 335,-78 335,-58 292,-58\" stroke=\"black\"/>\n",
       "<text font-family=\"Bukyvede\" font-size=\"14.00\" text-anchor=\"start\" x=\"295\" y=\"-63.8\">quick </text>\n",
       "<polygon fill=\"none\" points=\"335,-58 335,-78 369,-78 369,-58 335,-58\" stroke=\"black\"/>\n",
       "<text font-family=\"Times,serif\" font-size=\"14.00\" text-anchor=\"start\" x=\"338\" y=\"-63.8\">A</text>\n",
       "<polygon fill=\"none\" points=\"290.5,-57.5 290.5,-100.5 369.5,-100.5 369.5,-57.5 290.5,-57.5\" stroke=\"black\"/>\n",
       "</g>\n",
       "<!-- 3&#45;&gt;6 -->\n",
       "<g class=\"edge\" id=\"edge4\"><title>3-&gt;6</title>\n",
       "<path d=\"M235.613,-79C247.461,-79 260.197,-79 272.335,-79\" fill=\"none\" stroke=\"black\"/>\n",
       "<polygon fill=\"black\" points=\"272.359,-82.5001 282.359,-79 272.359,-75.5001 272.359,-82.5001\" stroke=\"black\"/>\n",
       "<text font-family=\"Times,serif\" font-size=\"14.00\" text-anchor=\"middle\" x=\"259\" y=\"-81.8\">A</text>\n",
       "</g>\n",
       "<!-- 8 -->\n",
       "<g class=\"node\" id=\"node8\"><title>8</title>\n",
       "<polygon fill=\"none\" points=\"482,-50.5 396,-50.5 396,0.5 482,0.5 482,-50.5\" stroke=\"black\"/>\n",
       "<polygon fill=\"none\" points=\"405,-24 405,-45 439,-45 439,-24 405,-24\" stroke=\"black\"/>\n",
       "<text font-family=\"Times,serif\" font-size=\"14.00\" font-weight=\"bold\" text-anchor=\"start\" x=\"408\" y=\"-31.3\">bad</text>\n",
       "<polygon fill=\"none\" points=\"439,-24 439,-45 473,-45 473,-24 439,-24\" stroke=\"black\"/>\n",
       "<text font-family=\"Times,serif\" font-size=\"14.00\" font-weight=\"bold\" text-anchor=\"start\" x=\"441.61\" y=\"-31.3\">Sigla</text>\n",
       "<polygon fill=\"none\" points=\"405,-4 405,-24 439,-24 439,-4 405,-4\" stroke=\"black\"/>\n",
       "<text font-family=\"Bukyvede\" font-size=\"14.00\" text-anchor=\"start\" x=\"408\" y=\"-9.8\">bad </text>\n",
       "<polygon fill=\"none\" points=\"439,-4 439,-24 473,-24 473,-4 439,-4\" stroke=\"black\"/>\n",
       "<text font-family=\"Times,serif\" font-size=\"14.00\" text-anchor=\"start\" x=\"442\" y=\"-9.8\">C</text>\n",
       "<polygon fill=\"none\" points=\"404,-3.5 404,-46.5 474,-46.5 474,-3.5 404,-3.5\" stroke=\"black\"/>\n",
       "</g>\n",
       "<!-- 3&#45;&gt;8 -->\n",
       "<g class=\"edge\" id=\"edge5\"><title>3-&gt;8</title>\n",
       "<path d=\"M235.658,-58.4506C250.366,-53.0347 266.647,-47.6824 282,-44 316.086,-35.8245 355.25,-31.0695 385.81,-28.3609\" fill=\"none\" stroke=\"black\"/>\n",
       "<polygon fill=\"black\" points=\"386.153,-31.8445 395.824,-27.5188 385.566,-24.8691 386.153,-31.8445\" stroke=\"black\"/>\n",
       "<text font-family=\"Times,serif\" font-size=\"14.00\" text-anchor=\"middle\" x=\"259\" y=\"-54.8\">C</text>\n",
       "</g>\n",
       "<!-- 5 -->\n",
       "<g class=\"node\" id=\"node5\"><title>5</title>\n",
       "<polygon fill=\"none\" points=\"1013.5,-114.5 926.5,-114.5 926.5,-63.5 1013.5,-63.5 1013.5,-114.5\" stroke=\"black\"/>\n",
       "<polygon fill=\"none\" points=\"936,-88 936,-109 971,-109 971,-88 936,-88\" stroke=\"black\"/>\n",
       "<text font-family=\"Times,serif\" font-size=\"14.00\" font-weight=\"bold\" text-anchor=\"start\" x=\"939\" y=\"-95.3\">lazy</text>\n",
       "<polygon fill=\"none\" points=\"971,-88 971,-109 1005,-109 1005,-88 971,-88\" stroke=\"black\"/>\n",
       "<text font-family=\"Times,serif\" font-size=\"14.00\" font-weight=\"bold\" text-anchor=\"start\" x=\"973.61\" y=\"-95.3\">Sigla</text>\n",
       "<polygon fill=\"none\" points=\"936,-68 936,-88 971,-88 971,-68 936,-68\" stroke=\"black\"/>\n",
       "<text font-family=\"Bukyvede\" font-size=\"14.00\" text-anchor=\"start\" x=\"939\" y=\"-73.8\">lazy </text>\n",
       "<polygon fill=\"none\" points=\"971,-68 971,-88 1005,-88 1005,-68 971,-68\" stroke=\"black\"/>\n",
       "<text font-family=\"Times,serif\" font-size=\"14.00\" text-anchor=\"start\" x=\"974\" y=\"-73.8\">C, A</text>\n",
       "<polygon fill=\"none\" points=\"934.5,-67.5 934.5,-110.5 1005.5,-110.5 1005.5,-67.5 934.5,-67.5\" stroke=\"black\"/>\n",
       "</g>\n",
       "<!-- 4&#45;&gt;5 -->\n",
       "<g class=\"edge\" id=\"edge6\"><title>4-&gt;5</title>\n",
       "<path d=\"M863.713,-67.3233C881.817,-71.0506 900.059,-74.8063 916.155,-78.1202\" fill=\"none\" stroke=\"black\"/>\n",
       "<polygon fill=\"black\" points=\"915.899,-81.6408 926.399,-80.2293 917.311,-74.7846 915.899,-81.6408\" stroke=\"black\"/>\n",
       "<text font-family=\"Times,serif\" font-size=\"14.00\" text-anchor=\"middle\" x=\"895\" y=\"-78.8\">A, C</text>\n",
       "</g>\n",
       "<!-- 7 -->\n",
       "<g class=\"node\" id=\"node7\"><title>7</title>\n",
       "<polygon fill=\"none\" points=\"1176,-78.5 1076,-78.5 1076,-27.5 1176,-27.5 1176,-78.5\" stroke=\"black\"/>\n",
       "<polygon fill=\"none\" points=\"1085,-52 1085,-73 1119,-73 1119,-52 1085,-52\" stroke=\"black\"/>\n",
       "<text font-family=\"Times,serif\" font-size=\"14.00\" font-weight=\"bold\" text-anchor=\"start\" x=\"1088\" y=\"-59.3\">dog.</text>\n",
       "<polygon fill=\"none\" points=\"1119,-52 1119,-73 1167,-73 1167,-52 1119,-52\" stroke=\"black\"/>\n",
       "<text font-family=\"Times,serif\" font-size=\"14.00\" font-weight=\"bold\" text-anchor=\"start\" x=\"1122\" y=\"-59.3\">Sigla</text>\n",
       "<polygon fill=\"none\" points=\"1085,-32 1085,-52 1119,-52 1119,-32 1085,-32\" stroke=\"black\"/>\n",
       "<text font-family=\"Bukyvede\" font-size=\"14.00\" text-anchor=\"start\" x=\"1088\" y=\"-37.8\">dog.</text>\n",
       "<polygon fill=\"none\" points=\"1119,-32 1119,-52 1167,-52 1167,-32 1119,-32\" stroke=\"black\"/>\n",
       "<text font-family=\"Times,serif\" font-size=\"14.00\" text-anchor=\"start\" x=\"1121.99\" y=\"-37.8\">B, C, A</text>\n",
       "<polygon fill=\"none\" points=\"1084,-31.5 1084,-74.5 1168,-74.5 1168,-31.5 1084,-31.5\" stroke=\"black\"/>\n",
       "</g>\n",
       "<!-- 4&#45;&gt;7 -->\n",
       "<g class=\"edge\" id=\"edge7\"><title>4-&gt;7</title>\n",
       "<path d=\"M863.516,-40.318C909.302,-38.216 964.459,-37.1088 1014,-40 1030.84,-40.9829 1049.05,-42.7979 1065.75,-44.7663\" fill=\"none\" stroke=\"black\"/>\n",
       "<polygon fill=\"black\" points=\"1065.58,-48.2713 1075.93,-46.0057 1066.43,-41.3226 1065.58,-48.2713\" stroke=\"black\"/>\n",
       "<text font-family=\"Times,serif\" font-size=\"14.00\" text-anchor=\"middle\" x=\"970\" y=\"-42.8\">B</text>\n",
       "</g>\n",
       "<!-- 5&#45;&gt;7 -->\n",
       "<g class=\"edge\" id=\"edge8\"><title>5-&gt;7</title>\n",
       "<path d=\"M1013.9,-78.972C1029.97,-75.2154 1048.52,-70.8783 1065.81,-66.8373\" fill=\"none\" stroke=\"black\"/>\n",
       "<polygon fill=\"black\" points=\"1066.87,-70.1834 1075.81,-64.4989 1065.28,-63.3671 1066.87,-70.1834\" stroke=\"black\"/>\n",
       "<text font-family=\"Times,serif\" font-size=\"14.00\" text-anchor=\"middle\" x=\"1045\" y=\"-77.8\">A, C</text>\n",
       "</g>\n",
       "<!-- 6&#45;&gt;2 -->\n",
       "<g class=\"edge\" id=\"edge9\"><title>6-&gt;2</title>\n",
       "<path d=\"M377.712,-79.8532C410.526,-80.4525 454.703,-81.2594 490.106,-81.906\" fill=\"none\" stroke=\"black\"/>\n",
       "<polygon fill=\"black\" points=\"490.252,-85.4092 500.315,-82.0925 490.38,-78.4104 490.252,-85.4092\" stroke=\"black\"/>\n",
       "<text font-family=\"Times,serif\" font-size=\"14.00\" text-anchor=\"middle\" x=\"439\" y=\"-84.8\">A</text>\n",
       "</g>\n",
       "<!-- 9 -->\n",
       "<g class=\"node\" id=\"node9\"><title>9</title>\n",
       "<polygon fill=\"none\" points=\"1310,-71 1256,-71 1256,-35 1310,-35 1310,-71\" stroke=\"black\"/>\n",
       "<text font-family=\"Times,serif\" font-size=\"14.00\" text-anchor=\"middle\" x=\"1283\" y=\"-48.8\">9</text>\n",
       "</g>\n",
       "<!-- 7&#45;&gt;9 -->\n",
       "<g class=\"edge\" id=\"edge10\"><title>7-&gt;9</title>\n",
       "<path d=\"M1176.04,-53C1198.65,-53 1225.02,-53 1245.79,-53\" fill=\"none\" stroke=\"black\"/>\n",
       "<polygon fill=\"black\" points=\"1245.79,-56.5001 1255.79,-53 1245.79,-49.5001 1245.79,-56.5001\" stroke=\"black\"/>\n",
       "<text font-family=\"Times,serif\" font-size=\"14.00\" text-anchor=\"middle\" x=\"1216\" y=\"-55.8\">A, B, C</text>\n",
       "</g>\n",
       "<!-- 8&#45;&gt;4 -->\n",
       "<g class=\"edge\" id=\"edge11\"><title>8-&gt;4</title>\n",
       "<path d=\"M482.314,-27.0599C515.011,-28.7221 561.391,-31.2329 602,-34 618.839,-35.1474 636.659,-36.4739 654.069,-37.8318\" fill=\"none\" stroke=\"black\"/>\n",
       "<polygon fill=\"black\" points=\"654.018,-41.3384 664.261,-38.6338 654.567,-34.36 654.018,-41.3384\" stroke=\"black\"/>\n",
       "<text font-family=\"Times,serif\" font-size=\"14.00\" text-anchor=\"middle\" x=\"551\" y=\"-36.8\">C</text>\n",
       "</g>\n",
       "</g>\n",
       "</svg>"
      ],
      "text/plain": [
       "<IPython.core.display.SVG object>"
      ]
     },
     "metadata": {},
     "output_type": "display_data"
    }
   ],
   "source": [
    "graph = collate(collation, output='svg')"
   ]
  },
  {
   "cell_type": "markdown",
   "metadata": {},
   "source": [
    "NOTE: If you are working in an IDE such as PyCharm, you may get an error message when generating the graph. First make sure that you have GraphViz and its bindings installed correctly. If the error message regards the syntax,  however, rest assured that you have done nothing wrong: the error is related to the SVG generated code. We are aware of the problem. If you wish to generate a variant graph of your collation: Jupyter notebooks ignores the syntax error so you might consider working in Jupyter notebooks for the moment."
   ]
  },
  {
   "cell_type": "markdown",
   "metadata": {},
   "source": [
    "## Exercise\n",
    "\n",
    "In this tutorial we have used the *fox and dog* example. Now try to produce a JSON or TEI output of the first paragraph of Darwin's *On the origin of species*, that we have already used in the [first tutorial](http://nbviewer.jupyter.org/github/DiXiT-eu/collatex-tutorial/blob/master/unit5/1_collate-plain-text.ipynb). You can find the data in *fixtures/Darwin/txt* (only the first paragraph: *xxxx\\_par1*).\n",
    "\n",
    "Alternatively, or if you still have time, you can use the data in *fixtures/Woolf/Lighthouse-1* and produce new outputs."
   ]
  },
  {
   "cell_type": "code",
   "execution_count": null,
   "metadata": {
    "collapsed": true
   },
   "outputs": [],
   "source": []
  },
  {
   "cell_type": "markdown",
   "metadata": {},
   "source": [
    "## What's next\n",
    "\n",
    "In the next tutorial, [Collate outside the notebook](http://nbviewer.jupyter.org/github/DiXiT-eu/collatex-tutorial/blob/master/unit5/4_collate-outside-the-notebook.ipynb), we will leave the notebook and learn how to create and run Python scripts using PyCharm and the terminal, and how to save the collation results in a new file.\n"
   ]
  },
  {
   "cell_type": "code",
   "execution_count": null,
   "metadata": {
    "collapsed": true
   },
   "outputs": [],
   "source": []
  }
 ],
 "metadata": {
  "anaconda-cloud": {},
  "kernelspec": {
   "display_name": "Python [Root]",
   "language": "python",
   "name": "Python [Root]"
  },
  "language_info": {
   "codemirror_mode": {
    "name": "ipython",
    "version": 3
   },
   "file_extension": ".py",
   "mimetype": "text/x-python",
   "name": "python",
   "nbconvert_exporter": "python",
   "pygments_lexer": "ipython3",
   "version": "3.5.2"
  }
 },
 "nbformat": 4,
 "nbformat_minor": 0
}
