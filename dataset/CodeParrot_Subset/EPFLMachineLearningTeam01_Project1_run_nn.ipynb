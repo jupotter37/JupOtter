{
 "cells": [
  {
   "cell_type": "code",
   "execution_count": 12,
   "metadata": {},
   "outputs": [
    {
     "name": "stdout",
     "output_type": "stream",
     "text": [
      "The autoreload extension is already loaded. To reload it, use:\n",
      "  %reload_ext autoreload\n"
     ]
    }
   ],
   "source": [
    "# Imports\n",
    "%load_ext autoreload\n",
    "%autoreload 2\n",
    "%matplotlib inline\n",
    "from matplotlib import pyplot as plt\n",
    "import csv\n",
    "import importlib\n",
    "from tqdm import tqdm\n",
    "from scripts import proj1_helpers, helpers\n",
    "from scripts import implementation, feature_processing\n",
    "from scripts.model_nn import *\n",
    "import numpy as np"
   ]
  },
  {
   "cell_type": "code",
   "execution_count": 13,
   "metadata": {
    "collapsed": true
   },
   "outputs": [],
   "source": [
    "train_path = '../data/train.csv'\n",
    "test_path  = '../data/test.csv'"
   ]
  },
  {
   "cell_type": "code",
   "execution_count": 14,
   "metadata": {
    "collapsed": true,
    "scrolled": false
   },
   "outputs": [],
   "source": [
    "# loading data\n",
    "y, X, idx = proj1_helpers.load_csv_data(train_path)\n",
    "y_t, X_t, ids_t = proj1_helpers.load_csv_data(test_path)"
   ]
  },
  {
   "cell_type": "code",
   "execution_count": null,
   "metadata": {
    "collapsed": true
   },
   "outputs": [],
   "source": [
    "X_p, (x_mean, x_std) = feature_processing.process_X(X, 2)\n",
    "X_t_p, _ = feature_processing.process_X(X_t, 2, (x_mean, x_std))"
   ]
  },
  {
   "cell_type": "code",
   "execution_count": 16,
   "metadata": {},
   "outputs": [
    {
     "data": {
      "text/plain": [
       "(250000, 73)"
      ]
     },
     "execution_count": 16,
     "metadata": {},
     "output_type": "execute_result"
    }
   ],
   "source": [
    "X_p.shape"
   ]
  },
  {
   "cell_type": "code",
   "execution_count": 34,
   "metadata": {
    "collapsed": true
   },
   "outputs": [],
   "source": [
    "#Logistic\n",
    "y_01 = 1 * (helpers.y_to_01(np.array([y]).T).flatten() > 0)\n",
    "np.random.seed(1)\n",
    "w0 = np.zeros((X_p.shape[1], 1))"
   ]
  },
  {
   "cell_type": "code",
   "execution_count": 17,
   "metadata": {
    "collapsed": true
   },
   "outputs": [],
   "source": [
    "seed = np.random.randint(1e6)\n",
    "np.random.seed(seed)\n",
    "hid_layers = [FullyConnectedLayer(input_dim=73, hidden_dim=50, act_func=ReLU(), w_initializer=init_weights),\n",
    "                 FullyConnectedLayer(input_dim=50, hidden_dim=2, act_func=Softmax(), w_initializer=init_weights)]\n",
    "network = SoftmaxNetwork(hid_layers)"
   ]
  },
  {
   "cell_type": "code",
   "execution_count": 45,
   "metadata": {},
   "outputs": [
    {
     "name": "stderr",
     "output_type": "stream",
     "text": [
      "\n",
      "\n",
      "  0%|          | 0/10 [00:00<?, ?it/s]\u001b[A\u001b[A/home/sergei/Documents/repos/git/EPFL/ML/Project1/src/scripts/model_nn.py:25: RuntimeWarning: invalid value encountered in greater\n",
      "  return (1. * (x > 0))\n",
      "\n",
      "\n",
      " 10%|█         | 1/10 [00:00<00:07,  1.19it/s]\u001b[A\u001b[A\n",
      "\n",
      " 20%|██        | 2/10 [00:01<00:06,  1.18it/s]\u001b[A\u001b[A\n",
      "\n",
      " 30%|███       | 3/10 [00:02<00:05,  1.21it/s]\u001b[A\u001b[A\n",
      "\n",
      " 40%|████      | 4/10 [00:03<00:05,  1.20it/s]\u001b[A\u001b[A\n",
      "\n",
      " 50%|█████     | 5/10 [00:04<00:04,  1.21it/s]\u001b[A\u001b[A\n",
      "\n",
      " 60%|██████    | 6/10 [00:05<00:03,  1.18it/s]\u001b[A\u001b[A\n",
      "\n",
      " 70%|███████   | 7/10 [00:06<00:02,  1.15it/s]\u001b[A\u001b[A\n",
      "\n",
      " 80%|████████  | 8/10 [00:07<00:01,  1.13it/s]\u001b[A\u001b[A\n",
      "\n",
      " 90%|█████████ | 9/10 [00:08<00:00,  1.09it/s]\u001b[A\u001b[A\n",
      "\n",
      "100%|██████████| 10/10 [00:09<00:00,  1.10it/s]\u001b[A\u001b[A\n",
      "\n",
      "\u001b[A\u001b[A"
     ]
    },
    {
     "data": {
      "image/png": "[encoded data removed]",
      "text/plain": [
       "<matplotlib.figure.Figure at 0x7f775b1f6550>"
      ]
     },
     "metadata": {},
     "output_type": "display_data"
    },
    {
     "name": "stdout",
     "output_type": "stream",
     "text": [
      "Accuracy with last weights: 65.73%\n"
     ]
    }
   ],
   "source": [
    "acc = [network.calc_accuracy(X_p[:1000,:], y_01[:1000])]\n",
    "n_iter = 10\n",
    "for i in tqdm(range(n_iter)):\n",
    "    network.update_weights(x=X_p[:1000,:], y_tar=y_01[:1000], eps=1e-8)\n",
    "    acc.append(network.calc_accuracy(X_p, y_01))\n",
    "plt.plot(acc)\n",
    "plt.show()\n",
    "print('Accuracy with last weights: {:.2f}%'.format(acc[-1]*100))"
   ]
  },
  {
   "cell_type": "code",
   "execution_count": null,
   "metadata": {},
   "outputs": [],
   "source": [
    "y_01"
   ]
  },
  {
   "cell_type": "code",
   "execution_count": 14,
   "metadata": {
    "collapsed": true
   },
   "outputs": [],
   "source": [
    "y_pred = proj1_helpers.predict_labels(w, X_t_p)"
   ]
  },
  {
   "cell_type": "code",
   "execution_count": 15,
   "metadata": {
    "collapsed": true
   },
   "outputs": [],
   "source": [
    "output_path = '../data/example_submission.csv'\n",
    "proj1_helpers.create_csv_submission(ids_t, y_pred, output_path)"
   ]
  },
  {
   "cell_type": "code",
   "execution_count": 39,
   "metadata": {},
   "outputs": [],
   "source": [
    "tqdm.get_lock().locks = []"
   ]
  },
  {
   "cell_type": "code",
   "execution_count": null,
   "metadata": {
    "collapsed": true
   },
   "outputs": [],
   "source": []
  }
 ],
 "metadata": {
  "anaconda-cloud": {},
  "kernelspec": {
   "display_name": "Python 3",
   "language": "python",
   "name": "python3"
  },
  "language_info": {
   "codemirror_mode": {
    "name": "ipython",
    "version": 3
   },
   "file_extension": ".py",
   "mimetype": "text/x-python",
   "name": "python",
   "nbconvert_exporter": "python",
   "pygments_lexer": "ipython3",
   "version": "3.6.2"
  }
 },
 "nbformat": 4,
 "nbformat_minor": 1
}
