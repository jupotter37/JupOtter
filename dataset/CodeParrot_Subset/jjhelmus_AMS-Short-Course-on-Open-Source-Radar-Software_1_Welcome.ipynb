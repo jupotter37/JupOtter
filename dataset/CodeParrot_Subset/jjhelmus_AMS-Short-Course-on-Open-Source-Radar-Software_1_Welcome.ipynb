{
 "cells": [
  {
   "cell_type": "markdown",
   "metadata": {
    "slideshow": {
     "slide_type": "slide"
    }
   },
   "source": [
    "# <span class=\"hgviolet\">Welcome to the AMS Short Course on Open Source Radar Software</span>"
   ]
  },
  {
   "cell_type": "markdown",
   "metadata": {
    "slideshow": {
     "slide_type": "notes"
    }
   },
   "source": [
    "Stuff"
   ]
  },
  {
   "cell_type": "markdown",
   "metadata": {
    "slideshow": {
     "slide_type": "fragment"
    }
   },
   "source": [
    "\n",
    "- Scott Collis, Argonne National Laboratory\n",
    "- Jonathan Helmus, Argonne National Laboratory\n",
    "- Nick Guy, University of Wyoming\n",
    "- Timothy Lang, NASA Marshall Space Flight Center \n",
    "- Joseph Hardin, Pacific Northwest National Laboratory\n",
    "- Marcus van Lier-Walqui, NASA Goddard Institute of Space Studies\n",
    "\n",
    "<div>\n",
    "    <img class=\"logo\" src=\"./images/python-logo.png\" height=\"100\" width=\"250\" align=\"left\"/>\n",
    "    <img class=\"logo\" src=\"./images/arm_logo.png\" height=\"100\" width=\"250\" align=\"right\"/>\n",
    "</div>\n",
    "<img class=\"logo\" src=\"./images/ams.jpg\" height=\"150\" align='center'/>\n"
   ]
  },
  {
   "cell_type": "markdown",
   "metadata": {
    "slideshow": {
     "slide_type": "slide"
    }
   },
   "source": [
    "#What Is Open Source?\n"
   ]
  },
  {
   "cell_type": "markdown",
   "metadata": {
    "slideshow": {
     "slide_type": "fragment"
    }
   },
   "source": [
    "###\"Free software is a matter of liberty, not price. To understand the concept, you should think of free as in free speech, not as in free beer.\"\n",
    "  #####—Richard Stallman\n",
    "<img src='./images/freebeer.png'> \n",
    "######<h5><a href=\"https://commons.wikimedia.org/wiki/File:Isummit_2008,_Japan,_free_beer_crop.png#/media/File:Isummit_2008,_Japan,_free_beer_crop.png\">Isummit 2008, Japan, free beer crop</a>\" by shaddim - <a class=\"external free\" href=\"https://commons.wikimedia.org/wiki/File:Isummit_2008,_Japan,_free_beer.jpg\">https://commons.wikimedia.org/wiki/File:Isummit_2008,_Japan,_free_beer.jpg</a>. Licensed under <a title=\"Creative Commons Attribution-Share Alike 2.5\" href=\"http://creativecommons.org/licenses/by-sa/2.5\">CC BY-SA 2.5</a> via <a href=\"https://commons.wikimedia.org/wiki/\">Commons</a></h5>"
   ]
  },
  {
   "cell_type": "markdown",
   "metadata": {
    "slideshow": {
     "slide_type": "slide"
    }
   },
   "source": [
    "#Course Objectives "
   ]
  },
  {
   "cell_type": "markdown",
   "metadata": {
    "slideshow": {
     "slide_type": "fragment"
    }
   },
   "source": [
    "- To give a familiarity with Python and the Scientific Python ecosystem and IPython and project Jupyter"
   ]
  },
  {
   "cell_type": "markdown",
   "metadata": {
    "slideshow": {
     "slide_type": "fragment"
    }
   },
   "source": [
    "- To introduce the Python ARM Radar Toolkit and reveal the data model used"
   ]
  },
  {
   "cell_type": "markdown",
   "metadata": {
    "slideshow": {
     "slide_type": "fragment"
    }
   },
   "source": [
    "- To show how to plot a variety of different radar data with Py-ART"
   ]
  },
  {
   "cell_type": "markdown",
   "metadata": {
    "slideshow": {
     "slide_type": "fragment"
    }
   },
   "source": [
    "- Demonstrate how to add a field so you can do processing on your own data"
   ]
  },
  {
   "cell_type": "markdown",
   "metadata": {
    "slideshow": {
     "slide_type": "fragment"
    }
   },
   "source": [
    "- Introduce you to several tools in Py-ART including texture retrieval, dealiasing and gridding"
   ]
  },
  {
   "cell_type": "markdown",
   "metadata": {
    "slideshow": {
     "slide_type": "slide"
    }
   },
   "source": [
    "#Course objectives\n",
    "- Introduce you to ART-View"
   ]
  },
  {
   "cell_type": "markdown",
   "metadata": {
    "slideshow": {
     "slide_type": "fragment"
    }
   },
   "source": [
    "- Introduce you to an array of tools built on and independant of Py-ART for working with radar data"
   ]
  },
  {
   "cell_type": "markdown",
   "metadata": {
    "slideshow": {
     "slide_type": "slide"
    }
   },
   "source": [
    "8:30 a.m.\tARRIVAL AND INTRODUCTIONS AND INSTALLATION OF SOFTWARE AND DATA. Collis and Helmus\n",
    "<br>9:15 a.m.\tAN INTRODUCTION TO PYTHON AND IPYTHON Jonathan Helmus\t \n",
    "9:30 a.m.\tBASIC PY-ART AND THE PY-ART DATA MODEL Jonathan Helmus\n",
    "<br>10:00 a.m.\tCOFFEE BREAK "
   ]
  },
  {
   "cell_type": "markdown",
   "metadata": {
    "slideshow": {
     "slide_type": "fragment"
    }
   },
   "source": [
    "10:15 a.m.\tBASIC PY-ART AND THE PY-ART DATA MODEL (CONT) Jonathan Helmus\n",
    "<br>11:30 a.m.\tEXAMPLES OF RADAR PROCESSING USING PY-ART Scott Collis\n",
    "<br>12:00 a.m.\tLUNCH (included)"
   ]
  },
  {
   "cell_type": "markdown",
   "metadata": {
    "slideshow": {
     "slide_type": "slide"
    }
   },
   "source": [
    "1:30 p.m.\tEXAMPLES OF RADAR PROCESSING USING PY-ART (CONT) Scott Collis\n",
    "<br>2:00 p.m.\tPy-ART TOOLS, TEXTURE, DEALIAS AND GRID Scott Collis\n",
    "<br>2:30 p.m.\tPYTHON TOOLS 1: ART-VIEW Nick Guy.\n",
    "<br>3:00 p.m\tCOFFEE BREAK"
   ]
  },
  {
   "cell_type": "markdown",
   "metadata": {
    "slideshow": {
     "slide_type": "fragment"
    }
   },
   "source": [
    "3:30 p.m.\tPYTHON TOOLS 2: RADAR MET TOOLS. Tim Lang\n",
    "<br>4:15 p.m.\tWRAP UP AND FUTHER DISCUSSION. ALL\n",
    "<br>5:00 p.m.\tAdjourn. "
   ]
  },
  {
   "cell_type": "markdown",
   "metadata": {
    "collapsed": true,
    "slideshow": {
     "slide_type": "slide"
    }
   },
   "source": [
    "#This is a living course"
   ]
  },
  {
   "cell_type": "markdown",
   "metadata": {
    "collapsed": true,
    "slideshow": {
     "slide_type": "fragment"
    }
   },
   "source": [
    "- Data is at: <a href=\"http://figshare.com/articles/Data_for_AMS_Short_Course_on_Open_Source_Radar_Software/1537461\"> This figshare repository</a>\n"
   ]
  },
  {
   "cell_type": "markdown",
   "metadata": {
    "slideshow": {
     "slide_type": "fragment"
    }
   },
   "source": [
    "- Materials live <a href=\"https://github.com/openradar/AMS-Short-Course-on-Open-Source-Radar-Software\">This GitHub Repository</a>"
   ]
  },
  {
   "cell_type": "code",
   "execution_count": null,
   "metadata": {
    "collapsed": true
   },
   "outputs": [],
   "source": []
  }
 ],
 "metadata": {
  "celltoolbar": "Slideshow",
  "kernelspec": {
   "display_name": "Python 2",
   "language": "python",
   "name": "python2"
  },
  "language_info": {
   "codemirror_mode": {
    "name": "ipython",
    "version": 2
   },
   "file_extension": ".py",
   "mimetype": "text/x-python",
   "name": "python",
   "nbconvert_exporter": "python",
   "pygments_lexer": "ipython2",
   "version": "2.7.10"
  }
 },
 "nbformat": 4,
 "nbformat_minor": 0
}
