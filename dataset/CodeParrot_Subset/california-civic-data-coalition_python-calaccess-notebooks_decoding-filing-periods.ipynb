{
 "cells": [
  {
   "cell_type": "markdown",
   "metadata": {
    "collapsed": true
   },
   "source": [
    "# Decoding Filing Periods"
   ]
  },
  {
   "cell_type": "markdown",
   "metadata": {},
   "source": [
    "The raw data tables mix together filings from different reporting periods (e.g. quarterlys vs. semi-annual vs. pre-elections). But we need these filings to be sorted (or at least sortable) so that or users, for example, can compare the performance of two candidates in the same reporting period."
   ]
  },
  {
   "cell_type": "markdown",
   "metadata": {},
   "source": [
    "There are two vectors at play here:\n",
    "1. The \"Statement Type\", as described in CAL-ACCESS parlance, which indicates the length of time covered by the filing and how close it was filed to the election.\n",
    "2. The actual time interval the filing covers, denoted by a start date and an end date."
   ]
  },
  {
   "cell_type": "markdown",
   "metadata": {},
   "source": [
    "This notebook is pulling data from the downloads-website's dev database, which was last updated on..."
   ]
  },
  {
   "cell_type": "code",
   "execution_count": 2,
   "metadata": {
    "collapsed": false
   },
   "outputs": [],
   "source": [
    "from calaccess_processed.models.tracking import ProcessedDataVersion"
   ]
  },
  {
   "cell_type": "code",
   "execution_count": 3,
   "metadata": {
    "collapsed": false,
    "scrolled": true
   },
   "outputs": [
    {
     "data": {
      "text/plain": [
       "<ProcessedDataVersion: 2016-09-26 11:20:39+00:00>"
      ]
     },
     "execution_count": 3,
     "metadata": {},
     "output_type": "execute_result"
    }
   ],
   "source": [
    "ProcessedDataVersion.objects.latest()"
   ]
  },
  {
   "cell_type": "markdown",
   "metadata": {},
   "source": [
    "Will also need to execute some raw SQL, so I'll import a helper function in order to make the results more readable:"
   ]
  },
  {
   "cell_type": "code",
   "execution_count": 4,
   "metadata": {
    "collapsed": true
   },
   "outputs": [],
   "source": [
    "from project import sql_to_agate"
   ]
  },
  {
   "cell_type": "markdown",
   "metadata": {},
   "source": [
    "Let's start by examining the distinct values of the statement type  on `CVR_CAMPAIGN_DISCLOSURE_CD`. And let's narrow the scope to only the Form 460 filings."
   ]
  },
  {
   "cell_type": "code",
   "execution_count": 5,
   "metadata": {
    "collapsed": false
   },
   "outputs": [
    {
     "name": "stdout",
     "output_type": "stream",
     "text": [
      "|--------+---------|\n",
      "|  upper |  count  |\n",
      "|--------+---------|\n",
      "|  SA    | 62,439  |\n",
      "|  PE    | 48,984  |\n",
      "|  QT    |  4,208  |\n",
      "|  TS    |  4,152  |\n",
      "|  SY    |  1,829  |\n",
      "|  SE    |    696  |\n",
      "|  **    |     96  |\n",
      "|        |     56  |\n",
      "|  PR    |      5  |\n",
      "|  S2    |      4  |\n",
      "|  S1    |      3  |\n",
      "|  QS    |      2  |\n",
      "|  YE    |      1  |\n",
      "|  S     |      1  |\n",
      "|--------+---------|\n"
     ]
    }
   ],
   "source": [
    "sql_to_agate(\n",
    "    \"\"\"\n",
    "    SELECT UPPER(\"STMT_TYPE\"), COUNT(*)\n",
    "    FROM \"CVR_CAMPAIGN_DISCLOSURE_CD\"\n",
    "    WHERE \"FORM_TYPE\" = 'F460'\n",
    "    GROUP BY 1\n",
    "    ORDER BY COUNT(*) DESC;\n",
    "    \"\"\"\n",
    ").print_table()"
   ]
  },
  {
   "cell_type": "markdown",
   "metadata": {
    "collapsed": true
   },
   "source": [
    "Not all of these values are defined, as previously noted in our [docs](http://calaccess.californiacivicdata.org/documentation/calaccess-files/cvr-campaign-disclosure-cd/#fields):\n",
    "* `PR` might be pre-election\n",
    "* `QS` is pro probably quarterly statement\n",
    "* `YE` might be...I don't know \"Year-end\"?\n",
    "* `S` is probably semi-annual\n",
    "\n",
    "Maybe come back later and look at the actual filings. There aren't that many."
   ]
  },
  {
   "cell_type": "markdown",
   "metadata": {},
   "source": [
    "There's another similar-named column on `FILER_FILINGS_CD`, but this seems to be a completely different thing:"
   ]
  },
  {
   "cell_type": "code",
   "execution_count": 6,
   "metadata": {
    "collapsed": false
   },
   "outputs": [
    {
     "name": "stdout",
     "output_type": "stream",
     "text": [
      "|-------------+----------------------+------------|\n",
      "|  STMNT_TYPE | CODE_DESC            |     count  |\n",
      "|-------------+----------------------+------------|\n",
      "|      10,004 | REDESIGNATE THE A... |       335  |\n",
      "|      10,006 | LOG/AMENDMENT        |    97,221  |\n",
      "|      10,007 | AS FILED BY COMMI... |     1,281  |\n",
      "|      10,002 | AMENDMENT            |   108,166  |\n",
      "|      10,003 | TERMINATION          |    57,391  |\n",
      "|      10,005 | LOG                  |   459,319  |\n",
      "|      10,001 | ORIGINAL/INITIAL     | 1,191,192  |\n",
      "|-------------+----------------------+------------|\n"
     ]
    }
   ],
   "source": [
    "sql_to_agate(\n",
    "    \"\"\"\n",
    "    SELECT FF.\"STMNT_TYPE\", LU.\"CODE_DESC\", COUNT(*)\n",
    "    FROM \"FILER_FILINGS_CD\" FF\n",
    "    JOIN \"LOOKUP_CODES_CD\" LU\n",
    "    ON FF.\"STMNT_TYPE\" = LU.\"CODE_ID\"\n",
    "    AND LU.\"CODE_TYPE\" = 10000\n",
    "    GROUP BY 1, 2;\n",
    "    \"\"\"\n",
    ").print_table()"
   ]
  },
  {
   "cell_type": "markdown",
   "metadata": {},
   "source": [
    "One of the tables that caught my eye is `FILING_PERIOD_CD`, which appears to have a row for each quarterly filing period:"
   ]
  },
  {
   "cell_type": "code",
   "execution_count": 7,
   "metadata": {
    "collapsed": false
   },
   "outputs": [
    {
     "name": "stdout",
     "output_type": "stream",
     "text": [
      "|----------+-----------+------------+------------+-------------+--------------+------|\n",
      "|       id | PERIOD_ID | START_DATE |   END_DATE | PERIOD_TYPE | PER_GRP_TYPE | ...  |\n",
      "|----------+-----------+------------+------------+-------------+--------------+------|\n",
      "|  124,529 |       889 | 2182-01-01 | 2182-03-31 |       1,500 |        1,500 | ...  |\n",
      "|  124,530 |       890 | 2182-04-01 | 2182-06-30 |       1,500 |        1,500 | ...  |\n",
      "|  124,531 |       891 | 2182-07-01 | 2182-09-30 |       1,500 |        1,500 | ...  |\n",
      "|  124,532 |       826 | 2166-04-01 | 2166-06-30 |       1,500 |        1,500 | ...  |\n",
      "|  124,533 |       827 | 2166-07-01 | 2166-09-30 |       1,500 |        1,500 | ...  |\n",
      "|  124,534 |       828 | 2166-10-01 | 2166-12-31 |       1,500 |        1,500 | ...  |\n",
      "|  124,535 |       829 | 2167-01-01 | 2167-03-31 |       1,500 |        1,500 | ...  |\n",
      "|  124,536 |       830 | 2167-04-01 | 2167-06-30 |       1,500 |        1,500 | ...  |\n",
      "|  124,537 |       831 | 2167-07-01 | 2167-09-30 |       1,500 |        1,500 | ...  |\n",
      "|  124,538 |       832 | 2167-10-01 | 2167-12-31 |       1,500 |        1,500 | ...  |\n",
      "|  124,539 |       833 | 2168-01-01 | 2168-03-31 |       1,500 |        1,500 | ...  |\n",
      "|  124,540 |       834 | 2168-04-01 | 2168-06-30 |       1,500 |        1,500 | ...  |\n",
      "|  124,541 |       835 | 2168-07-01 | 2168-09-30 |       1,500 |        1,500 | ...  |\n",
      "|  124,542 |       836 | 2168-10-01 | 2168-12-31 |       1,500 |        1,500 | ...  |\n",
      "|  124,543 |       837 | 2169-01-01 | 2169-03-31 |       1,500 |        1,500 | ...  |\n",
      "|  124,544 |       838 | 2169-04-01 | 2169-06-30 |       1,500 |        1,500 | ...  |\n",
      "|  124,545 |       839 | 2169-07-01 | 2169-09-30 |       1,500 |        1,500 | ...  |\n",
      "|  124,546 |       840 | 2169-10-01 | 2169-12-31 |       1,500 |        1,500 | ...  |\n",
      "|  124,547 |       841 | 2170-01-01 | 2170-03-31 |       1,500 |        1,500 | ...  |\n",
      "|  124,548 |       842 | 2170-04-01 | 2170-06-30 |       1,500 |        1,500 | ...  |\n",
      "|      ... |       ... |        ... |        ... |         ... |          ... | ...  |\n",
      "|----------+-----------+------------+------------+-------------+--------------+------|\n"
     ]
    }
   ],
   "source": [
    "sql_to_agate(\n",
    "    \"\"\"\n",
    "    SELECT *\n",
    "    FROM \"FILING_PERIOD_CD\"\n",
    "    \"\"\"\n",
    ").print_table()"
   ]
  },
  {
   "cell_type": "markdown",
   "metadata": {},
   "source": [
    "Every period is described as a quarter, and the records are equally divided among them:"
   ]
  },
  {
   "cell_type": "code",
   "execution_count": 8,
   "metadata": {
    "collapsed": false
   },
   "outputs": [
    {
     "name": "stdout",
     "output_type": "stream",
     "text": [
      "|--------------+--------|\n",
      "|  PERIOD_DESC | count  |\n",
      "|--------------+--------|\n",
      "|  QUARTER 3   |   362  |\n",
      "|  QUARTER 4   |   362  |\n",
      "|  QUARTER 1   |   362  |\n",
      "|  QUARTER 2   |   362  |\n",
      "|--------------+--------|\n"
     ]
    }
   ],
   "source": [
    "sql_to_agate(\n",
    "    \"\"\"\n",
    "    SELECT \"PERIOD_DESC\", COUNT(*)\n",
    "    FROM \"FILING_PERIOD_CD\"\n",
    "    GROUP BY 1;\n",
    "    \"\"\"\n",
    ").print_table()"
   ]
  },
  {
   "cell_type": "markdown",
   "metadata": {},
   "source": [
    "The difference between every `START_DATE` and `END_DATE` is actually a three-month interval:"
   ]
  },
  {
   "cell_type": "code",
   "execution_count": 9,
   "metadata": {
    "collapsed": false
   },
   "outputs": [
    {
     "name": "stdout",
     "output_type": "stream",
     "text": [
      "|-----------+--------|\n",
      "|  duration | count  |\n",
      "|-----------+--------|\n",
      "|        89 |   275  |\n",
      "|        91 |   724  |\n",
      "|        90 |   449  |\n",
      "|-----------+--------|\n"
     ]
    }
   ],
   "source": [
    "sql_to_agate(\n",
    "    \"\"\"\n",
    "    SELECT \"END_DATE\" - \"START_DATE\" AS duration, COUNT(*)\n",
    "    FROM \"FILING_PERIOD_CD\"\n",
    "    GROUP BY 1;\n",
    "    \"\"\"\n",
    ").print_table()"
   ]
  },
  {
   "cell_type": "markdown",
   "metadata": {},
   "source": [
    "And they have covered every year between 1973 and 2334 (how optimistic!):"
   ]
  },
  {
   "cell_type": "code",
   "execution_count": 10,
   "metadata": {
    "collapsed": false
   },
   "outputs": [
    {
     "name": "stdout",
     "output_type": "stream",
     "text": [
      "|--------+--------|\n",
      "|   year | count  |\n",
      "|--------+--------|\n",
      "|  2,334 |     4  |\n",
      "|  2,333 |     4  |\n",
      "|  2,332 |     4  |\n",
      "|  2,331 |     4  |\n",
      "|  2,330 |     4  |\n",
      "|  2,329 |     4  |\n",
      "|  2,328 |     4  |\n",
      "|  2,327 |     4  |\n",
      "|  2,326 |     4  |\n",
      "|  2,325 |     4  |\n",
      "|  2,324 |     4  |\n",
      "|  2,323 |     4  |\n",
      "|  2,322 |     4  |\n",
      "|  2,321 |     4  |\n",
      "|  2,320 |     4  |\n",
      "|  2,319 |     4  |\n",
      "|  2,318 |     4  |\n",
      "|  2,317 |     4  |\n",
      "|  2,316 |     4  |\n",
      "|  2,315 |     4  |\n",
      "|    ... |   ...  |\n",
      "|--------+--------|\n"
     ]
    }
   ],
   "source": [
    "sql_to_agate(\n",
    "    \"\"\"\n",
    "    SELECT DATE_PART('year', \"START_DATE\")::int as year, COUNT(*)\n",
    "    FROM \"FILING_PERIOD_CD\"\n",
    "    GROUP BY 1\n",
    "    ORDER BY 1 DESC;\n",
    "    \"\"\"\n",
    ").print_table()"
   ]
  },
  {
   "cell_type": "markdown",
   "metadata": {},
   "source": [
    "Filings are linked to filing periods via `FILER_FILINGS_CD.PERIOD_ID`. While that column is not always populated, it is if you limit your results to just the Form 460 filings:"
   ]
  },
  {
   "cell_type": "code",
   "execution_count": 11,
   "metadata": {
    "collapsed": false
   },
   "outputs": [
    {
     "name": "stdout",
     "output_type": "stream",
     "text": [
      "|------------+------------+------------+-------------+--------|\n",
      "|  PERIOD_ID | START_DATE |   END_DATE | PERIOD_DESC | count  |\n",
      "|------------+------------+------------+-------------+--------|\n",
      "|        450 | 2072-04-01 | 2072-06-30 | QUARTER 2   |     1  |\n",
      "|        227 | 2016-07-01 | 2016-09-30 | QUARTER 3   |    53  |\n",
      "|        226 | 2016-04-01 | 2016-06-30 | QUARTER 2   | 2,612  |\n",
      "|        225 | 2016-01-01 | 2016-03-31 | QUARTER 1   | 2,786  |\n",
      "|        224 | 2015-10-01 | 2015-12-31 | QUARTER 4   |   282  |\n",
      "|        223 | 2015-07-01 | 2015-09-30 | QUARTER 3   | 2,330  |\n",
      "|        222 | 2015-04-01 | 2015-06-30 | QUARTER 2   |   409  |\n",
      "|        221 | 2015-01-01 | 2015-03-31 | QUARTER 1   | 2,780  |\n",
      "|        220 | 2014-10-01 | 2014-12-31 | QUARTER 4   | 2,934  |\n",
      "|        219 | 2014-07-01 | 2014-09-30 | QUARTER 3   | 2,676  |\n",
      "|        218 | 2014-04-01 | 2014-06-30 | QUARTER 2   | 1,563  |\n",
      "|        217 | 2014-01-01 | 2014-03-31 | QUARTER 1   | 4,522  |\n",
      "|        216 | 2013-10-01 | 2013-12-31 | QUARTER 4   |   452  |\n",
      "|        215 | 2013-07-01 | 2013-09-30 | QUARTER 3   | 2,595  |\n",
      "|        214 | 2013-04-01 | 2013-06-30 | QUARTER 2   |   488  |\n",
      "|        213 | 2013-01-01 | 2013-03-31 | QUARTER 1   | 2,881  |\n",
      "|        212 | 2012-10-01 | 2012-12-31 | QUARTER 4   | 3,181  |\n",
      "|        211 | 2012-07-01 | 2012-09-30 | QUARTER 3   | 2,710  |\n",
      "|        210 | 2012-04-01 | 2012-06-30 | QUARTER 2   | 1,537  |\n",
      "|        209 | 2012-01-01 | 2012-03-31 | QUARTER 1   | 4,379  |\n",
      "|        ... |        ... |        ... | ...         |   ...  |\n",
      "|------------+------------+------------+-------------+--------|\n"
     ]
    }
   ],
   "source": [
    "sql_to_agate(\n",
    "    \"\"\"\n",
    "    SELECT ff.\"PERIOD_ID\", fp.\"START_DATE\", fp.\"END_DATE\", fp.\"PERIOD_DESC\", COUNT(*)\n",
    "    FROM \"FILER_FILINGS_CD\" ff\n",
    "    JOIN \"CVR_CAMPAIGN_DISCLOSURE_CD\" cvr\n",
    "    ON ff.\"FILING_ID\" = cvr.\"FILING_ID\"\n",
    "    AND ff.\"FILING_SEQUENCE\" = cvr.\"AMEND_ID\"\n",
    "    AND cvr.\"FORM_TYPE\" = 'F460'\n",
    "    JOIN \"FILING_PERIOD_CD\" fp\n",
    "    ON ff.\"PERIOD_ID\" = fp.\"PERIOD_ID\"\n",
    "    GROUP BY 1, 2, 3, 4\n",
    "    ORDER BY fp.\"START_DATE\" DESC;\n",
    "    \"\"\"\n",
    ").print_table()"
   ]
  },
  {
   "cell_type": "markdown",
   "metadata": {},
   "source": [
    "Also, is Schwarzenegger running this cycle? Who else could be filing from so far into the future?"
   ]
  },
  {
   "cell_type": "markdown",
   "metadata": {},
   "source": [
    "AAANNNNYYYway...Also need to check to make sure the join between `FILER_FILINGS_CD` and `CVR_CAMPAIGN_DISCLOSURE_CD` isn't filtering out too many filings:"
   ]
  },
  {
   "cell_type": "code",
   "execution_count": 12,
   "metadata": {
    "collapsed": false
   },
   "outputs": [
    {
     "name": "stdout",
     "output_type": "stream",
     "text": [
      "|------------+-----------+---------------------------------------------------------------|\n",
      "|  FILING_ID | FORM_TYPE | FILER_NAML                                                    |\n",
      "|------------+-----------+---------------------------------------------------------------|\n",
      "|    591,533 | F460      | Damian Jones for Assembly                                     |\n",
      "|    602,619 | F460      | United Teachers Los Angeles-Political Action Council of E...  |\n",
      "|    670,063 | F460      | Carl Washington For CA St Assembly 52nd District              |\n",
      "|    786,716 | F460      | Ernst & Young LLP - Los Angeles Political Action Committee    |\n",
      "|    983,030 | F460      | John Doe for Senate                                           |\n",
      "|  1,643,669 | F460      | TEST EFS 2012 CAMPAIGN 460                                    |\n",
      "|  1,643,696 | F460      | TEST EFS 2012 460 CTL CMTT                                    |\n",
      "|------------+-----------+---------------------------------------------------------------|\n"
     ]
    }
   ],
   "source": [
    "sql_to_agate(\n",
    "    \"\"\"\n",
    "    SELECT cvr.\"FILING_ID\", cvr.\"FORM_TYPE\", cvr.\"FILER_NAML\"\n",
    "    FROM \"CVR_CAMPAIGN_DISCLOSURE_CD\" cvr\n",
    "    LEFT JOIN  \"FILER_FILINGS_CD\" ff\n",
    "    ON cvr.\"FILING_ID\" = ff.\"FILING_ID\"\n",
    "    AND cvr.\"AMEND_ID\" = ff.\"FILING_SEQUENCE\" \n",
    "    WHERE cvr.\"FORM_TYPE\" = 'F460'\n",
    "    AND (ff.\"FILING_ID\" IS NULL OR ff.\"FILING_SEQUENCE\" IS NULL)\n",
    "    ORDER BY cvr.\"FILING_ID\";\n",
    "    \"\"\"\n",
    ").print_table(max_column_width=60)"
   ]
  },
  {
   "cell_type": "markdown",
   "metadata": {},
   "source": [
    "So only a handful, mostly local campaigns or just nonsense test data."
   ]
  },
  {
   "cell_type": "markdown",
   "metadata": {},
   "source": [
    "So another important thing to check is how well these the dates from the filing period look-up records line up with the dates on the Form 460 filing records. It would be bad if the `CVR_CAMPAIGN_DISCLOSURE_CD.FROM_DATE` were before `FILING_PERIOD_CD.START_DATE` or if `CVR_CAMPAIGN_DISCLOSURE_CD.THRU_DATE` were after `FILING_PERIOD_CD.END_DATE`."
   ]
  },
  {
   "cell_type": "code",
   "execution_count": 13,
   "metadata": {
    "collapsed": false
   },
   "outputs": [
    {
     "name": "stdout",
     "output_type": "stream",
     "text": [
      "|--------------------------------------------+---------|\n",
      "|  test                                      |  count  |\n",
      "|--------------------------------------------+---------|\n",
      "|  filing from_date before period start_date |     12  |\n",
      "|  filing thru_date after period end_date    | 54,769  |\n",
      "|  okay                                      | 67,688  |\n",
      "|--------------------------------------------+---------|\n"
     ]
    }
   ],
   "source": [
    "sql_to_agate(\n",
    "    \"\"\"\n",
    "    SELECT \n",
    "        CASE \n",
    "            WHEN cvr.\"FROM_DATE\" < fp.\"START_DATE\" THEN 'filing from_date before period start_date'\n",
    "            WHEN cvr.\"THRU_DATE\" > fp.\"END_DATE\" THEN 'filing thru_date after period end_date'\n",
    "            ELSE 'okay'\n",
    "        END as test,\n",
    "        COUNT(*) \n",
    "    FROM \"CVR_CAMPAIGN_DISCLOSURE_CD\" cvr\n",
    "    JOIN \"FILER_FILINGS_CD\" ff\n",
    "    ON cvr.\"FILING_ID\" = ff.\"FILING_ID\"\n",
    "    AND cvr.\"AMEND_ID\" = ff.\"FILING_SEQUENCE\"\n",
    "    JOIN \"FILING_PERIOD_CD\" fp\n",
    "    ON ff.\"PERIOD_ID\" = fp.\"PERIOD_ID\"\n",
    "    WHERE cvr.\"FORM_TYPE\" = 'F460'\n",
    "    GROUP BY 1;\n",
    "    \"\"\"\n",
    ").print_table(max_column_width=60)"
   ]
  },
  {
   "cell_type": "markdown",
   "metadata": {},
   "source": [
    "So half of the time, the `THRU_DATE` on the filing is later than the `FROM_DATE` on the filing period. How big of a difference can exist between these two dates?"
   ]
  },
  {
   "cell_type": "code",
   "execution_count": 14,
   "metadata": {
    "collapsed": false
   },
   "outputs": [
    {
     "name": "stdout",
     "output_type": "stream",
     "text": [
      "|------------+---------|\n",
      "|  date_diff |  count  |\n",
      "|------------+---------|\n",
      "|         91 | 23,057  |\n",
      "|         92 | 16,499  |\n",
      "|         47 |  3,029  |\n",
      "|         52 |  1,722  |\n",
      "|         49 |  1,657  |\n",
      "|        275 |  1,605  |\n",
      "|         50 |  1,586  |\n",
      "|         23 |  1,509  |\n",
      "|         22 |    394  |\n",
      "|        183 |    343  |\n",
      "|         18 |    301  |\n",
      "|         16 |    260  |\n",
      "|         20 |    205  |\n",
      "|         51 |    186  |\n",
      "|         21 |    173  |\n",
      "|         19 |    166  |\n",
      "|          4 |    137  |\n",
      "|         17 |    113  |\n",
      "|         32 |     96  |\n",
      "|          6 |     92  |\n",
      "|        ... |    ...  |\n",
      "|------------+---------|\n"
     ]
    }
   ],
   "source": [
    "sql_to_agate(\n",
    "    \"\"\"\n",
    "    SELECT \n",
    "            cvr.\"THRU_DATE\" - fp.\"END_DATE\" as date_diff,\n",
    "            COUNT(*) \n",
    "    FROM \"CVR_CAMPAIGN_DISCLOSURE_CD\" cvr\n",
    "    JOIN \"FILER_FILINGS_CD\" ff\n",
    "    ON cvr.\"FILING_ID\" = ff.\"FILING_ID\"\n",
    "    AND cvr.\"AMEND_ID\" = ff.\"FILING_SEQUENCE\"\n",
    "    JOIN \"FILING_PERIOD_CD\" fp\n",
    "    ON ff.\"PERIOD_ID\" = fp.\"PERIOD_ID\"\n",
    "    WHERE cvr.\"FORM_TYPE\" = 'F460'\n",
    "    AND cvr.\"THRU_DATE\" > fp.\"END_DATE\"\n",
    "    GROUP BY 1\n",
    "    ORDER BY COUNT(*) DESC;\n",
    "    \"\"\"\n",
    ").print_table(max_column_width=60)"
   ]
  },
  {
   "cell_type": "markdown",
   "metadata": {},
   "source": [
    "Ugh. Looks like, in most of the problem cases, the from date can be a whole quarter later than the end date of the filing period. Let's take a closer look at these..."
   ]
  },
  {
   "cell_type": "code",
   "execution_count": 15,
   "metadata": {
    "collapsed": false
   },
   "outputs": [
    {
     "name": "stdout",
     "output_type": "stream",
     "text": [
      "|------------+----------+------------+------------+------------+-------------|\n",
      "|  FILING_ID | AMEND_ID |  FROM_DATE |  THRU_DATE | START_DATE |   END_DATE  |\n",
      "|------------+----------+------------+------------+------------+-------------|\n",
      "|  2,025,877 |        1 | 2016-07-01 | 2016-12-31 | 2016-07-01 | 2016-09-30  |\n",
      "|  2,025,893 |        0 | 2016-07-01 | 2016-12-31 | 2016-07-01 | 2016-09-30  |\n",
      "|  2,025,877 |        0 | 2016-07-01 | 2016-12-31 | 2016-07-01 | 2016-09-30  |\n",
      "|  2,002,159 |        0 | 2016-07-01 | 2016-12-31 | 2016-07-01 | 2016-09-30  |\n",
      "|  2,002,159 |        1 | 2016-07-01 | 2016-12-31 | 2016-07-01 | 2016-09-30  |\n",
      "|  2,076,271 |        0 | 2016-01-01 | 2016-07-01 | 2016-01-01 | 2016-03-31  |\n",
      "|  2,063,670 |        0 | 2016-01-01 | 2016-06-30 | 2016-01-01 | 2016-03-31  |\n",
      "|  2,063,664 |        0 | 2016-01-01 | 2016-06-30 | 2016-01-01 | 2016-03-31  |\n",
      "|  2,063,657 |        0 | 2016-01-01 | 2016-06-30 | 2016-01-01 | 2016-03-31  |\n",
      "|  2,063,650 |        0 | 2016-01-01 | 2016-06-30 | 2016-01-01 | 2016-03-31  |\n",
      "|  2,063,624 |        0 | 2016-01-01 | 2016-06-30 | 2016-01-01 | 2016-03-31  |\n",
      "|  2,063,622 |        0 | 2016-01-01 | 2016-06-30 | 2016-01-01 | 2016-03-31  |\n",
      "|  2,063,584 |        0 | 2016-01-01 | 2016-06-30 | 2016-01-01 | 2016-03-31  |\n",
      "|  2,063,575 |        0 | 2016-01-01 | 2016-06-30 | 2016-01-01 | 2016-03-31  |\n",
      "|  2,063,574 |        0 | 2016-01-01 | 2016-06-30 | 2016-01-01 | 2016-03-31  |\n",
      "|  2,063,571 |        0 | 2016-01-01 | 2016-06-30 | 2016-01-01 | 2016-03-31  |\n",
      "|  2,063,566 |        0 | 2016-01-01 | 2016-06-30 | 2016-01-01 | 2016-03-31  |\n",
      "|  2,063,537 |        0 | 2016-01-01 | 2016-06-30 | 2016-01-01 | 2016-03-31  |\n",
      "|  2,063,444 |        0 | 2016-01-01 | 2016-06-30 | 2016-01-01 | 2016-03-31  |\n",
      "|  2,063,428 |        0 | 2016-01-01 | 2016-06-30 | 2016-01-01 | 2016-03-31  |\n",
      "|        ... |      ... |        ... |        ... |        ... |        ...  |\n",
      "|------------+----------+------------+------------+------------+-------------|\n"
     ]
    }
   ],
   "source": [
    "sql_to_agate(\n",
    "    \"\"\"\n",
    "    SELECT \n",
    "            cvr.\"FILING_ID\",\n",
    "            cvr.\"AMEND_ID\",\n",
    "            cvr.\"FROM_DATE\",\n",
    "            cvr.\"THRU_DATE\",\n",
    "            fp.\"START_DATE\",\n",
    "            fp.\"END_DATE\"\n",
    "    FROM \"CVR_CAMPAIGN_DISCLOSURE_CD\" cvr\n",
    "    JOIN \"FILER_FILINGS_CD\" ff\n",
    "    ON cvr.\"FILING_ID\" = ff.\"FILING_ID\"\n",
    "    AND cvr.\"AMEND_ID\" = ff.\"FILING_SEQUENCE\"\n",
    "    JOIN \"FILING_PERIOD_CD\" fp\n",
    "    ON ff.\"PERIOD_ID\" = fp.\"PERIOD_ID\"\n",
    "    WHERE cvr.\"FORM_TYPE\" = 'F460'\n",
    "    AND 90 < cvr.\"THRU_DATE\" - fp.\"END_DATE\" \n",
    "    AND cvr.\"THRU_DATE\" - fp.\"END_DATE\" < 93\n",
    "    ORDER BY cvr.\"THRU_DATE\" DESC;\n",
    "    \"\"\"\n",
    ").print_table(max_column_width=60)"
   ]
  },
  {
   "cell_type": "markdown",
   "metadata": {},
   "source": [
    "So, actually, this sort of makes sense: Quarterly filings are for three month intervals, while the semi-annual filings are for six month intervals. And `FILING_PERIOD_CD` only has records for three month intervals. Let's test this theory by getting the distinct `CVR_CAMPAIGN_DISCLOSURE_CD.STMT_TYPE` values from these records:"
   ]
  },
  {
   "cell_type": "code",
   "execution_count": 16,
   "metadata": {
    "collapsed": false
   },
   "outputs": [
    {
     "name": "stdout",
     "output_type": "stream",
     "text": [
      "|--------+---------|\n",
      "|  upper |  count  |\n",
      "|--------+---------|\n",
      "|  SA    | 37,523  |\n",
      "|  TS    |  1,393  |\n",
      "|  PE    |    502  |\n",
      "|  QT    |     85  |\n",
      "|  **    |     19  |\n",
      "|  SY    |     16  |\n",
      "|        |      6  |\n",
      "|  SE    |      4  |\n",
      "|  S2    |      4  |\n",
      "|  S1    |      3  |\n",
      "|  S     |      1  |\n",
      "|--------+---------|\n"
     ]
    }
   ],
   "source": [
    "sql_to_agate(\n",
    "    \"\"\"\n",
    "    SELECT UPPER(cvr.\"STMT_TYPE\"), COUNT(*)\n",
    "    FROM \"CVR_CAMPAIGN_DISCLOSURE_CD\" cvr\n",
    "    JOIN \"FILER_FILINGS_CD\" ff\n",
    "    ON cvr.\"FILING_ID\" = ff.\"FILING_ID\"\n",
    "    AND cvr.\"AMEND_ID\" = ff.\"FILING_SEQUENCE\"\n",
    "    JOIN \"FILING_PERIOD_CD\" fp\n",
    "    ON ff.\"PERIOD_ID\" = fp.\"PERIOD_ID\"\n",
    "    WHERE cvr.\"FORM_TYPE\" = 'F460'\n",
    "    AND 90 < cvr.\"THRU_DATE\" - fp.\"END_DATE\" \n",
    "    AND cvr.\"THRU_DATE\" - fp.\"END_DATE\" < 93\n",
    "    GROUP BY 1\n",
    "    ORDER BY COUNT(*) DESC;\n",
    "    \"\"\"\n",
    ").print_table(max_column_width=60)"
   ]
  },
  {
   "cell_type": "markdown",
   "metadata": {},
   "source": [
    "At least this is mostly true."
   ]
  },
  {
   "cell_type": "code",
   "execution_count": null,
   "metadata": {
    "collapsed": true
   },
   "outputs": [],
   "source": []
  }
 ],
 "metadata": {
  "kernelspec": {
   "display_name": "Django Shell-Plus",
   "language": "python",
   "name": "django_extensions"
  },
  "language_info": {
   "codemirror_mode": {
    "name": "ipython",
    "version": 2
   },
   "file_extension": ".py",
   "mimetype": "text/x-python",
   "name": "python",
   "nbconvert_exporter": "python",
   "pygments_lexer": "ipython2",
   "version": "2.7.11"
  }
 },
 "nbformat": 4,
 "nbformat_minor": 1
}
