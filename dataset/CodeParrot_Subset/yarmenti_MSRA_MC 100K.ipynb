{
 "cells": [
  {
   "cell_type": "code",
   "execution_count": 1,
   "metadata": {
    "ExecuteTime": {
     "end_time": "2017-03-10T14:18:04.898000",
     "start_time": "2017-03-10T14:18:04.895000"
    },
    "collapsed": true
   },
   "outputs": [],
   "source": [
    "import sys\n",
    "\n",
    "sys.path.append('../../..')"
   ]
  },
  {
   "cell_type": "code",
   "execution_count": 2,
   "metadata": {
    "ExecuteTime": {
     "end_time": "2017-03-10T14:18:05.237000",
     "start_time": "2017-03-10T14:18:04.905000"
    },
    "collapsed": false
   },
   "outputs": [],
   "source": [
    "import numpy\n",
    "import scipy.stats\n",
    "\n",
    "from lib.msra_loss import MSRALossFunctionAbs"
   ]
  },
  {
   "cell_type": "code",
   "execution_count": 3,
   "metadata": {
    "ExecuteTime": {
     "end_time": "2017-03-10T14:18:05.273000",
     "start_time": "2017-03-10T14:18:05.239000"
    },
    "collapsed": false
   },
   "outputs": [],
   "source": [
    "class MCLossFunction(MSRALossFunctionAbs):\n",
    "    def __init__(self, distrib, alpha, c=None):\n",
    "        self.__alpha = alpha\n",
    "        super(MCLossFunction, self).__init__(distrib, c)\n",
    "        \n",
    "    def shortfall_risk(self, m=None):\n",
    "        m = self._check_argument(m)\n",
    "        x_minus_m = numpy.subtract(self.x, m)\n",
    "        \n",
    "        mean_sum_ = numpy.mean(x_minus_m.sum(axis=1))\n",
    "        \n",
    "        pos_part = numpy.maximum(x_minus_m, 0.)\n",
    "        pos_part_squared = numpy.square(pos_part)\n",
    "        mean_sum_2_ = numpy.mean(pos_part_squared.sum(axis=1))\n",
    "        \n",
    "        to_add = 0.\n",
    "        if self.__alpha != 0.:\n",
    "            for i in xrange(self.dim):\n",
    "                for j in xrange(i + 1, self.dim):\n",
    "                    to_add += numpy.mean(numpy.multiply(pos_part[:, i], pos_part[:, j]))\n",
    "                        \n",
    "        return mean_sum_ + 0.5 * mean_sum_2_ + self.__alpha * to_add\n",
    "\n",
    "    def shortfall_risk_jac(self, m):\n",
    "        m = self._check_argument(m)\n",
    "        x_minus_m = numpy.subtract(self.x, m)\n",
    "        \n",
    "        pos_part = numpy.maximum(x_minus_m, 0.)\n",
    "        mean_pos_part = numpy.mean(pos_part, axis=0)\n",
    "        \n",
    "        if self.__alpha == 0.:\n",
    "            return mean_pos_part + 1.\n",
    "        \n",
    "        dbl = []\n",
    "        for i in xrange(self.dim):            \n",
    "            indic_i = numpy.sign(pos_part[:, i])\n",
    "            tmp = 0.\n",
    "            for j in xrange(self.dim):\n",
    "                if i != j:\n",
    "                    tmp += numpy.mean(numpy.multiply(indic_i, pos_part[:, j]))\n",
    "                \n",
    "            dbl.append(self.__alpha * tmp)\n",
    "        \n",
    "        return mean_pos_part + 1. + dbl"
   ]
  },
  {
   "cell_type": "code",
   "execution_count": 4,
   "metadata": {
    "ExecuteTime": {
     "end_time": "2017-03-10T14:18:05.342000",
     "start_time": "2017-03-10T14:18:05.275000"
    },
    "collapsed": false
   },
   "outputs": [],
   "source": [
    "M = 100000\n",
    "\n",
    "mu = numpy.zeros(10)\n",
    "sigma = numpy.array([[ 2.11,  0.37, -0.42, -0.2 , -1.73, -0.54,  0.42,  0.81, -0.2 , -0.94],\n",
    "                     [ 0.37,  1.78, -0.45, -0.25, -1.73,  0.04,  0.35,  0.38, -0.91, -0.48],\n",
    "                     [-0.42, -0.45,  0.87,  0.09,  0.4 , -0.05, -0.25,  0.06,  0.16,  0.45],\n",
    "                     [-0.2 , -0.25,  0.09,  0.19,  0.38, -0.04, -0.11, -0.04,  0.22,  0.17],\n",
    "                     [-1.73, -1.73,  0.4 ,  0.38,  5.3 ,  0.61,  0.46,  0.26,  1.74,  1.46],\n",
    "                     [-0.54,  0.04, -0.05, -0.04,  0.61,  0.53,  0.1 , -0.3 , -0.1 ,  0.17],\n",
    "                     [ 0.42,  0.35, -0.25, -0.11,  0.46,  0.1 ,  0.91,  0.51, -0.17, -0.25],\n",
    "                     [ 0.81,  0.38,  0.06, -0.04,  0.26, -0.3 ,  0.51,  1.55,  0.49,  0.08],\n",
    "                     [-0.2 , -0.91,  0.16,  0.22,  1.74, -0.1 , -0.17,  0.49,  1.33,  0.65],\n",
    "                     [-0.94, -0.48,  0.45,  0.17,  1.46,  0.17, -0.25,  0.08,  0.65,  0.88]])\n",
    "\n",
    "\n",
    "rv = scipy.stats.multivariate_normal(mean=mu, cov=sigma, allow_singular=True)\n",
    "X = rv.rvs(size=M)\n",
    "\n",
    "c = 1.\n",
    "\n",
    "loss = MCLossFunction(X, 0., 1.)"
   ]
  },
  {
   "cell_type": "code",
   "execution_count": 5,
   "metadata": {
    "ExecuteTime": {
     "end_time": "2017-03-10T14:18:05.346000",
     "start_time": "2017-03-10T14:18:05.344000"
    },
    "collapsed": true
   },
   "outputs": [],
   "source": [
    "from scipy.optimize import minimize\n",
    "\n",
    "maxiter = 3500"
   ]
  },
  {
   "cell_type": "code",
   "execution_count": 6,
   "metadata": {
    "ExecuteTime": {
     "end_time": "2017-03-10T14:18:05.359000",
     "start_time": "2017-03-10T14:18:05.348000"
    },
    "collapsed": true
   },
   "outputs": [],
   "source": [
    "guess = 0. * numpy.ones(loss.dim)"
   ]
  },
  {
   "cell_type": "code",
   "execution_count": 7,
   "metadata": {
    "ExecuteTime": {
     "end_time": "2017-03-10T14:18:05.366000",
     "start_time": "2017-03-10T14:18:05.361000"
    },
    "collapsed": true
   },
   "outputs": [],
   "source": [
    "cons = ({'type': 'ineq',\n",
    "         'fun' : lambda x: loss.ineq_constraint(x),\n",
    "         'jac' : lambda x: loss.ineq_constraint_jac(x)})"
   ]
  },
  {
   "cell_type": "code",
   "execution_count": 8,
   "metadata": {
    "ExecuteTime": {
     "end_time": "2017-03-10T14:18:05.729000",
     "start_time": "2017-03-10T14:18:05.368000"
    },
    "collapsed": false
   },
   "outputs": [
    {
     "name": "stdout",
     "output_type": "stream",
     "text": [
      "Optimization terminated successfully.    (Exit mode 0)\n",
      "            Current function value: 1.73184510748\n",
      "            Iterations: 9\n",
      "            Function evaluations: 10\n",
      "            Gradient evaluations: 9\n"
     ]
    }
   ],
   "source": [
    "res = minimize(loss.objective, guess, \n",
    "               jac=loss.objective_jac, \n",
    "               constraints=cons, \n",
    "               method='SLSQP',\n",
    "               options={'maxiter': maxiter, 'disp': True})"
   ]
  },
  {
   "cell_type": "raw",
   "metadata": {
    "ExecuteTime": {
     "end_time": "2016-12-14T15:36:37.192000",
     "start_time": "2016-12-14T15:35:49.017000"
    },
    "collapsed": false
   },
   "source": [
    "%%timeit\n",
    "\n",
    "res2 = minimize(loss.objective, guess, \n",
    "                jac=loss.objective_jac, \n",
    "                constraints=cons, \n",
    "                method='SLSQP',\n",
    "                options={'maxiter': maxiter})"
   ]
  },
  {
   "cell_type": "code",
   "execution_count": 9,
   "metadata": {
    "ExecuteTime": {
     "end_time": "2017-03-10T14:18:05.754000",
     "start_time": "2017-03-10T14:18:05.730000"
    },
    "collapsed": false
   },
   "outputs": [
    {
     "name": "stdout",
     "output_type": "stream",
     "text": [
      "     fun: 1.7318451074816463\n",
      "     jac: array([ 1.,  1.,  1.,  1.,  1.,  1.,  1.,  1.,  1.,  1.,  0.])\n",
      " message: 'Optimization terminated successfully.'\n",
      "    nfev: 10\n",
      "     nit: 9\n",
      "    njev: 9\n",
      "  status: 0\n",
      " success: True\n",
      "       x: array([ 0.41862473,  0.29684273, -0.0588768 , -0.34309574,  1.33068063,\n",
      "       -0.19498927, -0.03096563,  0.22686875,  0.13787517, -0.05111945])\n",
      "\n",
      "-2.83558547309e-07\n"
     ]
    }
   ],
   "source": [
    "print res\n",
    "print\n",
    "print loss.ineq_constraint(res.x)"
   ]
  }
 ],
 "metadata": {
  "anaconda-cloud": {},
  "kernelspec": {
   "display_name": "Python [default]",
   "language": "python",
   "name": "python2"
  },
  "language_info": {
   "codemirror_mode": {
    "name": "ipython",
    "version": 2
   },
   "file_extension": ".py",
   "mimetype": "text/x-python",
   "name": "python",
   "nbconvert_exporter": "python",
   "pygments_lexer": "ipython2",
   "version": "2.7.12"
  }
 },
 "nbformat": 4,
 "nbformat_minor": 0
}
