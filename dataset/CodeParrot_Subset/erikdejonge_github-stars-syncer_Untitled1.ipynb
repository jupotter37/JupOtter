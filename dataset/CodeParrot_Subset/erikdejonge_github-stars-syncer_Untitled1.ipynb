{
 "cells": [
  {
   "cell_type": "code",
   "execution_count": 2,
   "metadata": {
    "collapsed": false
   },
   "outputs": [
    {
     "data": {
      "text/plain": [
       "[{'archive_url': 'https://api.github.com/repos/pouchdb/pouchdb/{archive_format}{/ref}',\n",
       "  'assignees_url': 'https://api.github.com/repos/pouchdb/pouchdb/assignees{/user}',\n",
       "  'blobs_url': 'https://api.github.com/repos/pouchdb/pouchdb/git/blobs{/sha}',\n",
       "  'branches_url': 'https://api.github.com/repos/pouchdb/pouchdb/branches{/branch}',\n",
       "  'clone_url': 'https://github.com/pouchdb/pouchdb.git',\n",
       "  'collaborators_url': 'https://api.github.com/repos/pouchdb/pouchdb/collaborators{/collaborator}',\n",
       "  'comments_url': 'https://api.github.com/repos/pouchdb/pouchdb/comments{/number}',\n",
       "  'commits_url': 'https://api.github.com/repos/pouchdb/pouchdb/commits{/sha}',\n",
       "  'compare_url': 'https://api.github.com/repos/pouchdb/pouchdb/compare/{base}...{head}',\n",
       "  'contents_url': 'https://api.github.com/repos/pouchdb/pouchdb/contents/{+path}',\n",
       "  'contributors_url': 'https://api.github.com/repos/pouchdb/pouchdb/contributors',\n",
       "  'created_at': '2010-06-10T18:34:24Z',\n",
       "  'default_branch': 'master',\n",
       "  'description': ':koala: - PouchDB is a pocket-sized database.',\n",
       "  'downloads_url': 'https://api.github.com/repos/pouchdb/pouchdb/downloads',\n",
       "  'events_url': 'https://api.github.com/repos/pouchdb/pouchdb/events',\n",
       "  'fork': False,\n",
       "  'forks': 612,\n",
       "  'forks_count': 612,\n",
       "  'forks_url': 'https://api.github.com/repos/pouchdb/pouchdb/forks',\n",
       "  'full_name': 'pouchdb/pouchdb',\n",
       "  'git_commits_url': 'https://api.github.com/repos/pouchdb/pouchdb/git/commits{/sha}',\n",
       "  'git_refs_url': 'https://api.github.com/repos/pouchdb/pouchdb/git/refs{/sha}',\n",
       "  'git_tags_url': 'https://api.github.com/repos/pouchdb/pouchdb/git/tags{/sha}',\n",
       "  'git_url': 'git://github.com/pouchdb/pouchdb.git',\n",
       "  'has_downloads': True,\n",
       "  'has_issues': True,\n",
       "  'has_pages': True,\n",
       "  'has_wiki': True,\n",
       "  'homepage': 'http://pouchdb.com/',\n",
       "  'hooks_url': 'https://api.github.com/repos/pouchdb/pouchdb/hooks',\n",
       "  'html_url': 'https://github.com/pouchdb/pouchdb',\n",
       "  'id': 714074,\n",
       "  'issue_comment_url': 'https://api.github.com/repos/pouchdb/pouchdb/issues/comments{/number}',\n",
       "  'issue_events_url': 'https://api.github.com/repos/pouchdb/pouchdb/issues/events{/number}',\n",
       "  'issues_url': 'https://api.github.com/repos/pouchdb/pouchdb/issues{/number}',\n",
       "  'keys_url': 'https://api.github.com/repos/pouchdb/pouchdb/keys{/key_id}',\n",
       "  'labels_url': 'https://api.github.com/repos/pouchdb/pouchdb/labels{/name}',\n",
       "  'language': 'JavaScript',\n",
       "  'languages_url': 'https://api.github.com/repos/pouchdb/pouchdb/languages',\n",
       "  'merges_url': 'https://api.github.com/repos/pouchdb/pouchdb/merges',\n",
       "  'milestones_url': 'https://api.github.com/repos/pouchdb/pouchdb/milestones{/number}',\n",
       "  'mirror_url': None,\n",
       "  'name': 'pouchdb',\n",
       "  'notifications_url': 'https://api.github.com/repos/pouchdb/pouchdb/notifications{?since,all,participating}',\n",
       "  'open_issues': 137,\n",
       "  'open_issues_count': 137,\n",
       "  'owner': {'avatar_url': 'https://avatars.githubusercontent.com/u/3406112?v=3',\n",
       "   'events_url': 'https://api.github.com/users/pouchdb/events{/privacy}',\n",
       "   'followers_url': 'https://api.github.com/users/pouchdb/followers',\n",
       "   'following_url': 'https://api.github.com/users/pouchdb/following{/other_user}',\n",
       "   'gists_url': 'https://api.github.com/users/pouchdb/gists{/gist_id}',\n",
       "   'gravatar_id': '',\n",
       "   'html_url': 'https://github.com/pouchdb',\n",
       "   'id': 3406112,\n",
       "   'login': 'pouchdb',\n",
       "   'organizations_url': 'https://api.github.com/users/pouchdb/orgs',\n",
       "   'received_events_url': 'https://api.github.com/users/pouchdb/received_events',\n",
       "   'repos_url': 'https://api.github.com/users/pouchdb/repos',\n",
       "   'site_admin': False,\n",
       "   'starred_url': 'https://api.github.com/users/pouchdb/starred{/owner}{/repo}',\n",
       "   'subscriptions_url': 'https://api.github.com/users/pouchdb/subscriptions',\n",
       "   'type': 'Organization',\n",
       "   'url': 'https://api.github.com/users/pouchdb'},\n",
       "  'private': False,\n",
       "  'pulls_url': 'https://api.github.com/repos/pouchdb/pouchdb/pulls{/number}',\n",
       "  'pushed_at': '2016-01-17T22:07:22Z',\n",
       "  'releases_url': 'https://api.github.com/repos/pouchdb/pouchdb/releases{/id}',\n",
       "  'size': 143761,\n",
       "  'ssh_url': 'git@github.com:pouchdb/pouchdb.git',\n",
       "  'stargazers_count': 5582,\n",
       "  'stargazers_url': 'https://api.github.com/repos/pouchdb/pouchdb/stargazers',\n",
       "  'statuses_url': 'https://api.github.com/repos/pouchdb/pouchdb/statuses/{sha}',\n",
       "  'subscribers_url': 'https://api.github.com/repos/pouchdb/pouchdb/subscribers',\n",
       "  'subscription_url': 'https://api.github.com/repos/pouchdb/pouchdb/subscription',\n",
       "  'svn_url': 'https://github.com/pouchdb/pouchdb',\n",
       "  'tags_url': 'https://api.github.com/repos/pouchdb/pouchdb/tags',\n",
       "  'teams_url': 'https://api.github.com/repos/pouchdb/pouchdb/teams',\n",
       "  'trees_url': 'https://api.github.com/repos/pouchdb/pouchdb/git/trees{/sha}',\n",
       "  'updated_at': '2016-01-17T22:16:07Z',\n",
       "  'url': 'https://api.github.com/repos/pouchdb/pouchdb',\n",
       "  'watchers': 5582,\n",
       "  'watchers_count': 5582}]"
      ]
     },
     "execution_count": 2,
     "metadata": {},
     "output_type": "execute_result"
    }
   ],
   "source": [
    "import pickle\n",
    "d = pickle.load(open('starlist.pickle', 'rb'))\n",
    "d"
   ]
  }
 ],
 "metadata": {
  "kernelspec": {
   "display_name": "Python 3",
   "language": "python",
   "name": "python3"
  },
  "language_info": {
   "codemirror_mode": {
    "name": "ipython",
    "version": 3
   },
   "file_extension": ".py",
   "mimetype": "text/x-python",
   "name": "python",
   "nbconvert_exporter": "python",
   "pygments_lexer": "ipython3",
   "version": "3.5.1"
  }
 },
 "nbformat": 4,
 "nbformat_minor": 0
}
