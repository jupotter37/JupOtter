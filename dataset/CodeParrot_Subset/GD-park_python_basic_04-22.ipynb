{
 "cells": [
  {
   "cell_type": "code",
   "execution_count": 1,
   "metadata": {
    "collapsed": true
   },
   "outputs": [],
   "source": [
    "def fibonacci(n):\n",
    "    \n",
    "    prev_n = 0\n",
    "    cur_n = 1\n",
    "    i = 1\n",
    "    \n",
    "    while i< n:\n",
    "        cur_n = cur_n + prev_n\n",
    "        prev_n = cur_n\n",
    "        i += 1\n",
    "    return cur_n"
   ]
  },
  {
   "cell_type": "code",
   "execution_count": 3,
   "metadata": {
    "collapsed": false
   },
   "outputs": [
    {
     "data": {
      "text/plain": [
       "8"
      ]
     },
     "execution_count": 3,
     "metadata": {},
     "output_type": "execute_result"
    }
   ],
   "source": [
    "fibonacci(5)"
   ]
  },
  {
   "cell_type": "code",
   "execution_count": 11,
   "metadata": {
    "collapsed": false
   },
   "outputs": [
    {
     "name": "stdout",
     "output_type": "stream",
     "text": [
      "{'fast': 1}\n"
     ]
    }
   ],
   "source": [
    "def check_keyword(keyword, keyword_dict):\n",
    "    for key in keyword_dict:\n",
    "        if keyword == key:\n",
    "            return true\n",
    "    return False\n",
    "\n",
    "def histogram(keyword_list):\n",
    "    keyword_dict = {}\n",
    "    for keyword in keyword_list:\n",
    "        if check_keyword(keyword, keyword_dict):\n",
    "            keyword_dict[keyword] += 1\n",
    "            \n",
    "        else :\n",
    "            keyword_dict[keyword] = 1\n",
    "        return keyword_dict\n",
    "    \n",
    "def disp_keyword_str(keyword_dict):\n",
    "    \n",
    "    max_length = 0\n",
    "    for keyword in keyword_dict.items():\n",
    "        if len(keyword) > max_length:\n",
    "            max_length = len(keyword)\n",
    "            \n",
    "    for key, value in keyword_dict:\n",
    "        space = \"  \" * ((max_length - len(keyword)) + 4)\n",
    "        count = \"-\" * value\n",
    "        print(\"{key}{space}{count}\".format(key = key, space = sace, count = count))\n",
    "    \n",
    "    \n",
    "\n",
    "\n",
    "keyword_dict = histogram([\"fast\",\"fast\",\"campus\",\"fastcampus\",\"fast\",\"track\",\"asia\"])\n",
    "\n",
    "print(keyword_dict)"
   ]
  }
 ],
 "metadata": {
  "kernelspec": {
   "display_name": "Python 2",
   "language": "python",
   "name": "python2"
  },
  "language_info": {
   "codemirror_mode": {
    "name": "ipython",
    "version": 2
   },
   "file_extension": ".py",
   "mimetype": "text/x-python",
   "name": "python",
   "nbconvert_exporter": "python",
   "pygments_lexer": "ipython2",
   "version": "2.7.13"
  }
 },
 "nbformat": 4,
 "nbformat_minor": 2
}
