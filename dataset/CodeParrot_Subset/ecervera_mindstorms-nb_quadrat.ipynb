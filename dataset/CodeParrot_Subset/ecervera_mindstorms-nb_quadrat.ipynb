{
 "cells": [
  {
   "cell_type": "markdown",
   "metadata": {},
   "source": [
    "# Exercici: fer un quadrat\n",
    "\n",
    "<img src=\"img/bart-simpson-chalkboard.jpg\" align=\"right\" width=250>\n",
    "A partir de les instruccions dels moviments bàsics, heu de fer un programa per a que el robot avance i gire 90 graus, de manera de faça una trajectòria quadrada.\n",
    "\n",
    "L'estratègia és simple: repetiu quatre vegades el codi necessari per a fer avançar el robot un temps, i girar (a l'esquerra o a la dreta).\n",
    "\n",
    "Abans que res, no oblideu connectar-vos al robot!"
   ]
  },
  {
   "cell_type": "code",
   "execution_count": null,
   "metadata": {
    "collapsed": false
   },
   "outputs": [],
   "source": [
    "from functions import connect, forward, stop, left, right, disconnect, next_notebook\n",
    "from time import sleep\n",
    "\n",
    "connect()  # Executeu, polsant Majúscules + Enter"
   ]
  },
  {
   "cell_type": "markdown",
   "metadata": {},
   "source": [
    "### Programa principal\n",
    "Substituïu els comentaris per les ordres necessàries:"
   ]
  },
  {
   "cell_type": "code",
   "execution_count": null,
   "metadata": {
    "collapsed": false
   },
   "outputs": [],
   "source": [
    "# avançar\n",
    "# girar\n",
    "# avançar\n",
    "# girar\n",
    "# avançar\n",
    "# girar\n",
    "# avançar\n",
    "# girar\n",
    "# parar"
   ]
  },
  {
   "cell_type": "markdown",
   "metadata": {},
   "source": [
    "Ha funcionat a la primera? Fer un quadrat perfecte no és fàcil, i el més normal és que calga ajustar un parell de coses:\n",
    "\n",
    "* el gir de 90 graus: si el robot gira massa, heu de disminuir el temps del `sleep`; si gira massa poc, augmentar-lo (podeu posar decimals)\n",
    "\n",
    "* si no va recte: és normal que un dels motors gire una mica més ràpid que l'altre; podeu ajustar les velocitats de cada motor individualment entre 0 (mínim) i 100 (màxim), per exemple:\n",
    "\n",
    "    `forward(speed_B=90,speed_C=75)`\n",
    "    \n",
    "Canvieu els valors i torneu a provar fins aconseguir un quadrat decent (la perfecció és impossible)."
   ]
  },
  {
   "cell_type": "markdown",
   "metadata": {},
   "source": [
    "---\n",
    "### Versió pro\n",
    "\n",
    "Els llenguatges de programació tenen estructures per a repetir blocs d'instruccions sense haver d'escriure-les tantes vegades. És el que s'anomena **bucle** o, en anglès, [*for loop*](https://en.wikipedia.org/wiki/For_loop).\n",
    "\n",
    "En Python, un bucle per a repetir un bloc d'instruccions quatre vegades s'escriu així:"
   ]
  },
  {
   "cell_type": "code",
   "execution_count": null,
   "metadata": {
    "collapsed": true
   },
   "outputs": [],
   "source": [
    "for i in range(4):\n",
    "    # avançar\n",
    "    # girar\n",
    "# parar"
   ]
  },
  {
   "cell_type": "markdown",
   "metadata": {},
   "source": [
    "És important que les instruccions de *dins* del bucle estiguen desplaçades cap a la dreta, és a dir [**indentades**](https://es.wikipedia.org/wiki/Indentaci%C3%B3n).\n",
    "\n",
    "Substituïu els comentaris per les instruccions i proveu."
   ]
  },
  {
   "cell_type": "markdown",
   "metadata": {},
   "source": [
    "---\n",
    "### Recapitulem\n",
    "Per a acabar l'exercici, i abans de passar a la següent pàgina, desconnecteu el robot:"
   ]
  },
  {
   "cell_type": "code",
   "execution_count": null,
   "metadata": {
    "collapsed": false
   },
   "outputs": [],
   "source": [
    "disconnect()\n",
    "next_notebook('sensors')"
   ]
  }
 ],
 "metadata": {
  "anaconda-cloud": {},
  "kernelspec": {
   "display_name": "Python [conda env:py34]",
   "language": "python",
   "name": "conda-env-py34-py"
  },
  "language_info": {
   "codemirror_mode": {
    "name": "ipython",
    "version": 3
   },
   "file_extension": ".py",
   "mimetype": "text/x-python",
   "name": "python",
   "nbconvert_exporter": "python",
   "pygments_lexer": "ipython3",
   "version": "3.4.2"
  }
 },
 "nbformat": 4,
 "nbformat_minor": 2
}
