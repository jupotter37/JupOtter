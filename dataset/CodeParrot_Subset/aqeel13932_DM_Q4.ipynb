{
 "cells": [
  {
   "cell_type": "code",
   "execution_count": 10,
   "metadata": {
    "collapsed": false
   },
   "outputs": [],
   "source": [
    "import itertools"
   ]
  },
  {
   "cell_type": "code",
   "execution_count": 11,
   "metadata": {
    "collapsed": false
   },
   "outputs": [],
   "source": [
    "main =[]\n",
    "main.append(sorted(['B','C', 'A' ,'F', 'H']))\n",
    "main.append(sorted(['F', 'E', 'C', 'H']))\n",
    "main.append(sorted(['E' ,'D', 'B']))\n",
    "main.append(sorted(['A', 'C' ,'H', 'F']))\n",
    "main.append(sorted(['E', 'F' ,'A']))\n",
    "main.append(sorted(['D', 'H' ,'B']))\n",
    "main.append(sorted(['E', 'C' ,'F', 'B', 'D']))\n",
    "main.append(sorted(['A', 'H' ,'C', 'E']))\n",
    "main.append(sorted(['G', 'A', 'E']))\n",
    "main.append(sorted(['B', 'H', 'E']))"
   ]
  },
  {
   "cell_type": "code",
   "execution_count": 12,
   "metadata": {
    "collapsed": false
   },
   "outputs": [],
   "source": [
    "lst={}\n",
    "def addelement(element):\n",
    "    if element not in lst.keys():\n",
    "        lst[element]=1\n",
    "    else:\n",
    "        lst[element]+=1"
   ]
  },
  {
   "cell_type": "code",
   "execution_count": 13,
   "metadata": {
    "collapsed": true
   },
   "outputs": [],
   "source": [
    "for i in main:\n",
    "    for j in i:\n",
    "        addelement(j)"
   ]
  },
  {
   "cell_type": "code",
   "execution_count": 14,
   "metadata": {
    "collapsed": false,
    "scrolled": true
   },
   "outputs": [
    {
     "name": "stdout",
     "output_type": "stream",
     "text": [
      "8\n",
      "A 5\n",
      "C 5\n",
      "B 5\n",
      "E 7\n",
      "D 3\n",
      "G 1\n",
      "F 5\n",
      "H 6\n",
      "------ after cleaning--------\n",
      "A 5\n",
      "C 5\n",
      "B 5\n",
      "E 7\n",
      "D 3\n",
      "G 1\n",
      "F 5\n",
      "H 6\n",
      "8\n"
     ]
    }
   ],
   "source": [
    "print len(lst.keys())\n",
    "for key in lst.keys():\n",
    "    print key,lst[key]\n",
    "    #if lst[key]<3:\n",
    "    #    lst.pop(key,None)\n",
    "print '------ after cleaning--------'\n",
    "for key in lst.keys():\n",
    "    print key,lst[key]\n",
    "print len(lst.keys())"
   ]
  },
  {
   "cell_type": "code",
   "execution_count": 15,
   "metadata": {
    "collapsed": true
   },
   "outputs": [],
   "source": [
    "lst2items={}\n",
    "def addelement2(el):\n",
    "    el = ''.join(map(str.strip,el))\n",
    "    if el not in lst2items.keys():\n",
    "        lst2items[el]=1\n",
    "    else:\n",
    "        lst2items[el]+=1"
   ]
  },
  {
   "cell_type": "code",
   "execution_count": 16,
   "metadata": {
    "collapsed": true
   },
   "outputs": [],
   "source": [
    "def checkcontain(myelements,thelist):\n",
    "    for i in myelements:\n",
    "        if i.strip() not in thelist:\n",
    "            return False\n",
    "    return True"
   ]
  },
  {
   "cell_type": "code",
   "execution_count": 17,
   "metadata": {
    "collapsed": false,
    "scrolled": false
   },
   "outputs": [],
   "source": [
    "newcomb = itertools.combinations(lst.keys(), 2)\n",
    "\n",
    "for i in newcomb:\n",
    "    for j in main:\n",
    "        if checkcontain(i,j):\n",
    "            addelement2(i)"
   ]
  },
  {
   "cell_type": "code",
   "execution_count": 18,
   "metadata": {
    "collapsed": false,
    "scrolled": true
   },
   "outputs": [
    {
     "name": "stdout",
     "output_type": "stream",
     "text": [
      "BD 3\n",
      "BE 3\n",
      "BF 2\n",
      "DH 1\n",
      "DF 1\n",
      "BH 3\n",
      "CH 4\n",
      "FH 3\n",
      "ED 2\n",
      "CB 2\n",
      "AC 3\n",
      "AB 1\n",
      "AE 3\n",
      "EH 3\n",
      "AG 1\n",
      "AF 3\n",
      "AH 3\n",
      "EG 1\n",
      "EF 3\n",
      "CF 4\n",
      "CE 3\n",
      "CD 1\n",
      "------ after cleaning--------\n",
      "BD 3\n",
      "BE 3\n",
      "BH 3\n",
      "CH 4\n",
      "FH 3\n",
      "AC 3\n",
      "AE 3\n",
      "EH 3\n",
      "AF 3\n",
      "AH 3\n",
      "EF 3\n",
      "CF 4\n",
      "CE 3\n"
     ]
    }
   ],
   "source": [
    "for key in lst2items.keys():\n",
    "    print key,lst2items[key]\n",
    "    if lst2items[key]<3:\n",
    "        lst2items.pop(key,None)\n",
    "print '------ after cleaning--------'\n",
    "for key in lst2items.keys():\n",
    "    print key,lst2items[key]"
   ]
  }
 ],
 "metadata": {
  "kernelspec": {
   "display_name": "Python 2",
   "language": "python",
   "name": "python2"
  },
  "language_info": {
   "codemirror_mode": {
    "name": "ipython",
    "version": 2
   },
   "file_extension": ".py",
   "mimetype": "text/x-python",
   "name": "python",
   "nbconvert_exporter": "python",
   "pygments_lexer": "ipython2",
   "version": "2.7.10"
  }
 },
 "nbformat": 4,
 "nbformat_minor": 0
}
