{
 "cells": [
  {
   "cell_type": "markdown",
   "metadata": {},
   "source": [
    "# Pandas\n",
    "\n",
    "Read the input data for all Netrunner cards:\n",
    "\n",
    "<https://github.com/Alsciende/netrunner-cards-json>"
   ]
  },
  {
   "cell_type": "code",
   "execution_count": 1,
   "metadata": {},
   "outputs": [],
   "source": [
    "import glob\n",
    "import pandas\n",
    "\n",
    "# read all files from pack/\n",
    "files = glob.glob('pack/*.json')\n",
    "packs = []\n",
    "for file in files:\n",
    "    packs.append(pandas.read_json(file,orient='records'))\n",
    "\n",
    "# Use Pandas for data analysis\n",
    "cards = pandas.concat(packs,sort=False)\n",
    "\n",
    "# use the unique card identifier as index\n",
    "cards.set_index('code',inplace=True)\n",
    "\n",
    "# remove duplicate cards (i.e. from the Core sets)\n",
    "cards.drop_duplicates('title',inplace=True)"
   ]
  },
  {
   "cell_type": "markdown",
   "metadata": {},
   "source": [
    "[README.md](README.md) describes the card JSON schema."
   ]
  },
  {
   "cell_type": "markdown",
   "metadata": {},
   "source": [
    "## Cards\n",
    "\n",
    "List all card titles:"
   ]
  },
  {
   "cell_type": "code",
   "execution_count": 2,
   "metadata": {},
   "outputs": [
    {
     "data": {
      "text/html": [
       "<div>\n",
       "<style scoped>\n",
       "    .dataframe tbody tr th:only-of-type {\n",
       "        vertical-align: middle;\n",
       "    }\n",
       "\n",
       "    .dataframe tbody tr th {\n",
       "        vertical-align: top;\n",
       "    }\n",
       "\n",
       "    .dataframe thead th {\n",
       "        text-align: right;\n",
       "    }\n",
       "</style>\n",
       "<table border=\"1\" class=\"dataframe\">\n",
       "  <thead>\n",
       "    <tr style=\"text-align: right;\">\n",
       "      <th></th>\n",
       "      <th>title</th>\n",
       "      <th>type_code</th>\n",
       "    </tr>\n",
       "    <tr>\n",
       "      <th>code</th>\n",
       "      <th></th>\n",
       "      <th></th>\n",
       "    </tr>\n",
       "  </thead>\n",
       "  <tbody>\n",
       "    <tr>\n",
       "      <th>10052</th>\n",
       "      <td>\"Clones are not People\"</td>\n",
       "      <td>operation</td>\n",
       "    </tr>\n",
       "    <tr>\n",
       "      <th>10045</th>\n",
       "      <td>\"Freedom Through Equality\"</td>\n",
       "      <td>event</td>\n",
       "    </tr>\n",
       "    <tr>\n",
       "      <th>9004</th>\n",
       "      <td>15 Minutes</td>\n",
       "      <td>agenda</td>\n",
       "    </tr>\n",
       "    <tr>\n",
       "      <th>9019</th>\n",
       "      <td>24/7 News Cycle</td>\n",
       "      <td>operation</td>\n",
       "    </tr>\n",
       "    <tr>\n",
       "      <th>21063</th>\n",
       "      <td>419: Amoral Scammer</td>\n",
       "      <td>identity</td>\n",
       "    </tr>\n",
       "    <tr>\n",
       "      <th>22036</th>\n",
       "      <td>API-S Keeper Isobel</td>\n",
       "      <td>asset</td>\n",
       "    </tr>\n",
       "    <tr>\n",
       "      <th>12115</th>\n",
       "      <td>AR-Enhanced Security</td>\n",
       "      <td>agenda</td>\n",
       "    </tr>\n",
       "    <tr>\n",
       "      <th>11106</th>\n",
       "      <td>Aaron Marrón</td>\n",
       "      <td>resource</td>\n",
       "    </tr>\n",
       "    <tr>\n",
       "      <th>13006</th>\n",
       "      <td>Abagnale</td>\n",
       "      <td>program</td>\n",
       "    </tr>\n",
       "    <tr>\n",
       "      <th>21021</th>\n",
       "      <td>Acacia</td>\n",
       "      <td>hardware</td>\n",
       "    </tr>\n",
       "  </tbody>\n",
       "</table>\n",
       "</div>"
      ],
      "text/plain": [
       "                            title  type_code\n",
       "code                                        \n",
       "10052     \"Clones are not People\"  operation\n",
       "10045  \"Freedom Through Equality\"      event\n",
       "9004                   15 Minutes     agenda\n",
       "9019              24/7 News Cycle  operation\n",
       "21063         419: Amoral Scammer   identity\n",
       "22036         API-S Keeper Isobel      asset\n",
       "12115        AR-Enhanced Security     agenda\n",
       "11106                Aaron Marrón   resource\n",
       "13006                    Abagnale    program\n",
       "21021                      Acacia   hardware"
      ]
     },
     "execution_count": 2,
     "metadata": {},
     "output_type": "execute_result"
    }
   ],
   "source": [
    "# read columns card title and type, sort by title\n",
    "cards[['title','type_code']].sort_values(by='title').head(10)"
   ]
  },
  {
   "cell_type": "markdown",
   "metadata": {},
   "source": [
    "Find a specific card"
   ]
  },
  {
   "cell_type": "code",
   "execution_count": 10,
   "metadata": {},
   "outputs": [
    {
     "data": {
      "text/html": [
       "<div>\n",
       "<style scoped>\n",
       "    .dataframe tbody tr th:only-of-type {\n",
       "        vertical-align: middle;\n",
       "    }\n",
       "\n",
       "    .dataframe tbody tr th {\n",
       "        vertical-align: top;\n",
       "    }\n",
       "\n",
       "    .dataframe thead th {\n",
       "        text-align: right;\n",
       "    }\n",
       "</style>\n",
       "<table border=\"1\" class=\"dataframe\">\n",
       "  <thead>\n",
       "    <tr style=\"text-align: right;\">\n",
       "      <th></th>\n",
       "      <th>type_code</th>\n",
       "      <th>faction_code</th>\n",
       "      <th>title</th>\n",
       "      <th>text</th>\n",
       "    </tr>\n",
       "    <tr>\n",
       "      <th>code</th>\n",
       "      <th></th>\n",
       "      <th></th>\n",
       "      <th></th>\n",
       "      <th></th>\n",
       "    </tr>\n",
       "  </thead>\n",
       "  <tbody>\n",
       "    <tr>\n",
       "      <th>1001</th>\n",
       "      <td>identity</td>\n",
       "      <td>anarch</td>\n",
       "      <td>Noise: Hacker Extraordinaire</td>\n",
       "      <td>Whenever you install a &lt;strong&gt;virus&lt;/strong&gt; program, the Corp trashes the top card of R&amp;D.</td>\n",
       "    </tr>\n",
       "  </tbody>\n",
       "</table>\n",
       "</div>"
      ],
      "text/plain": [
       "     type_code faction_code                         title  \\\n",
       "code                                                        \n",
       "1001  identity  anarch       Noise: Hacker Extraordinaire   \n",
       "\n",
       "                                                                                              text  \n",
       "code                                                                                                \n",
       "1001  Whenever you install a <strong>virus</strong> program, the Corp trashes the top card of R&D.  "
      ]
     },
     "execution_count": 10,
     "metadata": {},
     "output_type": "execute_result"
    }
   ],
   "source": [
    "# do not truncate strings\n",
    "pandas.set_option('display.max_colwidth', -1)\n",
    "\n",
    "cards[cards['title'].str.match('Noise')][['type_code','faction_code','title','text']]"
   ]
  },
  {
   "cell_type": "markdown",
   "metadata": {},
   "source": [
    "## Card Types\n",
    "\n",
    "List all card types, and the number of cards for a given type"
   ]
  },
  {
   "cell_type": "code",
   "execution_count": 4,
   "metadata": {},
   "outputs": [
    {
     "data": {
      "text/plain": [
       "ice          221\n",
       "program      173\n",
       "resource     165\n",
       "event        158\n",
       "operation    153\n",
       "asset        147\n",
       "agenda       116\n",
       "hardware     100\n",
       "identity     97 \n",
       "upgrade      81 \n",
       "Name: type_code, dtype: int64"
      ]
     },
     "execution_count": 4,
     "metadata": {},
     "output_type": "execute_result"
    }
   ],
   "source": [
    "cards['type_code'].value_counts()"
   ]
  },
  {
   "cell_type": "code",
   "execution_count": 8,
   "metadata": {},
   "outputs": [
    {
     "data": {
      "text/plain": [
       "<matplotlib.axes._subplots.AxesSubplot at 0x7f8156a939b0>"
      ]
     },
     "execution_count": 8,
     "metadata": {},
     "output_type": "execute_result"
    },
    {
     "data": {
      "image/png": "[encoded data removed]",
      "text/plain": [
       "<Figure size 432x288 with 1 Axes>"
      ]
     },
     "metadata": {},
     "output_type": "display_data"
    }
   ],
   "source": [
    "cards['type_code'].value_counts().plot(kind='bar')"
   ]
  },
  {
   "cell_type": "markdown",
   "metadata": {},
   "source": [
    "### By Faction\n",
    "\n",
    "Select a specific card-type and count the cards per faction"
   ]
  },
  {
   "cell_type": "code",
   "execution_count": 6,
   "metadata": {},
   "outputs": [
    {
     "data": {
      "text/plain": [
       "shaper            62\n",
       "anarch            52\n",
       "criminal          46\n",
       "neutral-runner    4 \n",
       "apex              4 \n",
       "sunny-lebeau      3 \n",
       "adam              2 \n",
       "Name: faction_code, dtype: int64"
      ]
     },
     "execution_count": 6,
     "metadata": {},
     "output_type": "execute_result"
    }
   ],
   "source": [
    "programs = cards[cards['type_code'] == 'program']\n",
    "programs['faction_code'].value_counts()"
   ]
  },
  {
   "cell_type": "markdown",
   "metadata": {},
   "source": [
    "ICE with faction and keywords"
   ]
  },
  {
   "cell_type": "code",
   "execution_count": 11,
   "metadata": {},
   "outputs": [
    {
     "data": {
      "text/html": [
       "<div>\n",
       "<style scoped>\n",
       "    .dataframe tbody tr th:only-of-type {\n",
       "        vertical-align: middle;\n",
       "    }\n",
       "\n",
       "    .dataframe tbody tr th {\n",
       "        vertical-align: top;\n",
       "    }\n",
       "\n",
       "    .dataframe thead th {\n",
       "        text-align: right;\n",
       "    }\n",
       "</style>\n",
       "<table border=\"1\" class=\"dataframe\">\n",
       "  <thead>\n",
       "    <tr style=\"text-align: right;\">\n",
       "      <th></th>\n",
       "      <th>title</th>\n",
       "      <th>faction_code</th>\n",
       "      <th>keywords</th>\n",
       "    </tr>\n",
       "    <tr>\n",
       "      <th>code</th>\n",
       "      <th></th>\n",
       "      <th></th>\n",
       "      <th></th>\n",
       "    </tr>\n",
       "  </thead>\n",
       "  <tbody>\n",
       "    <tr>\n",
       "      <th>11075</th>\n",
       "      <td>Data Ward</td>\n",
       "      <td>nbn</td>\n",
       "      <td>Barrier</td>\n",
       "    </tr>\n",
       "    <tr>\n",
       "      <th>11078</th>\n",
       "      <td>Bulwark</td>\n",
       "      <td>weyland-consortium</td>\n",
       "      <td>Barrier - Illicit</td>\n",
       "    </tr>\n",
       "    <tr>\n",
       "      <th>10032</th>\n",
       "      <td>Harvester</td>\n",
       "      <td>jinteki</td>\n",
       "      <td>Code Gate</td>\n",
       "    </tr>\n",
       "    <tr>\n",
       "      <th>9013</th>\n",
       "      <td>Archangel</td>\n",
       "      <td>nbn</td>\n",
       "      <td>Code Gate - Tracer - Ambush</td>\n",
       "    </tr>\n",
       "    <tr>\n",
       "      <th>9014</th>\n",
       "      <td>News Hound</td>\n",
       "      <td>nbn</td>\n",
       "      <td>Sentry - Tracer</td>\n",
       "    </tr>\n",
       "    <tr>\n",
       "      <th>9015</th>\n",
       "      <td>Resistor</td>\n",
       "      <td>nbn</td>\n",
       "      <td>Barrier - Tracer</td>\n",
       "    </tr>\n",
       "    <tr>\n",
       "      <th>9016</th>\n",
       "      <td>Special Offer</td>\n",
       "      <td>nbn</td>\n",
       "      <td>Trap - Advertisement</td>\n",
       "    </tr>\n",
       "    <tr>\n",
       "      <th>9017</th>\n",
       "      <td>TL;DR</td>\n",
       "      <td>nbn</td>\n",
       "      <td>Code Gate</td>\n",
       "    </tr>\n",
       "    <tr>\n",
       "      <th>9018</th>\n",
       "      <td>Turnpike</td>\n",
       "      <td>nbn</td>\n",
       "      <td>Sentry - Tracer</td>\n",
       "    </tr>\n",
       "    <tr>\n",
       "      <th>9028</th>\n",
       "      <td>Assassin</td>\n",
       "      <td>neutral-corp</td>\n",
       "      <td>Sentry - Destroyer - AP - Tracer</td>\n",
       "    </tr>\n",
       "  </tbody>\n",
       "</table>\n",
       "</div>"
      ],
      "text/plain": [
       "               title        faction_code                          keywords\n",
       "code                                                                      \n",
       "11075  Data Ward      nbn                 Barrier                         \n",
       "11078  Bulwark        weyland-consortium  Barrier - Illicit               \n",
       "10032  Harvester      jinteki             Code Gate                       \n",
       "9013   Archangel      nbn                 Code Gate - Tracer - Ambush     \n",
       "9014   News Hound     nbn                 Sentry - Tracer                 \n",
       "9015   Resistor       nbn                 Barrier - Tracer                \n",
       "9016   Special Offer  nbn                 Trap - Advertisement            \n",
       "9017   TL;DR          nbn                 Code Gate                       \n",
       "9018   Turnpike       nbn                 Sentry - Tracer                 \n",
       "9028   Assassin       neutral-corp        Sentry - Destroyer - AP - Tracer"
      ]
     },
     "execution_count": 11,
     "metadata": {},
     "output_type": "execute_result"
    }
   ],
   "source": [
    "ice = cards[cards['type_code'] == 'ice']\n",
    "ice[['title','faction_code','keywords']].head(10)"
   ]
  },
  {
   "cell_type": "code",
   "execution_count": null,
   "metadata": {},
   "outputs": [],
   "source": []
  }
 ],
 "metadata": {
  "kernelspec": {
   "display_name": "Python 3",
   "language": "python",
   "name": "python3"
  },
  "language_info": {
   "codemirror_mode": {
    "name": "ipython",
    "version": 3
   },
   "file_extension": ".py",
   "mimetype": "text/x-python",
   "name": "python",
   "nbconvert_exporter": "python",
   "pygments_lexer": "ipython3",
   "version": "3.7.0"
  }
 },
 "nbformat": 4,
 "nbformat_minor": 2
}
