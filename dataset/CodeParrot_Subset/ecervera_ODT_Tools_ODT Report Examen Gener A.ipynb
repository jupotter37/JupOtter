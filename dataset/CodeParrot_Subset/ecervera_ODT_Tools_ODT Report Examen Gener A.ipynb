{
 "cells": [
  {
   "cell_type": "code",
   "execution_count": 1,
   "metadata": {
    "collapsed": true
   },
   "outputs": [],
   "source": [
    "from odt_parse import OdtData\n",
    "from odt_diff import find_style_by_name"
   ]
  },
  {
   "cell_type": "code",
   "execution_count": 2,
   "metadata": {
    "collapsed": true
   },
   "outputs": [],
   "source": [
    "import csv, glob, zipfile"
   ]
  },
  {
   "cell_type": "code",
   "execution_count": 3,
   "metadata": {
    "collapsed": true
   },
   "outputs": [],
   "source": [
    "HOME_FOLDER = '/Users/ecervera/Google Drive/Docencia/Curs1718/PS1002/Examen Enero 1718/'\n",
    "SUBMISSION_FOLDER = HOME_FOLDER + 'PS1002-2-20172018-Entrega ejercicios prácticos-3118842'\n",
    "user_folder = glob.glob(SUBMISSION_FOLDER + '/*')"
   ]
  },
  {
   "cell_type": "code",
   "execution_count": 4,
   "metadata": {
    "collapsed": true
   },
   "outputs": [],
   "source": [
    "ref_name_v1 = HOME_FOLDER + 'solucionA_v1.odt'\n",
    "ref_name_v2 = HOME_FOLDER + 'solucionA_v2.odt'\n",
    "\n",
    "par_prop = ['backgroundcolor', 'textalign', 'marginleft', 'marginright', 'margintop', 'marginbottom', 'textindent']\n",
    "text_prop = ['fontsize', 'fontstyle', 'fontfamily', 'fontrelief', 'fontvariant', 'fontweight']\n",
    "page_prop=['nextstylename']\n",
    "\n",
    "ref_v1 = OdtData(ref_name_v1, par_prop, text_prop, page_prop)\n",
    "ref_v2 = OdtData(ref_name_v2, par_prop, text_prop, page_prop)"
   ]
  },
  {
   "cell_type": "code",
   "execution_count": 5,
   "metadata": {
    "collapsed": true
   },
   "outputs": [],
   "source": [
    "sp_dict = {'Heading':'Título', 'Heading_1':'Título_1', 'breakbefore':'salto de página antes',\n",
    "           'backgroundcolor':'color de fondo', 'textalign':'alineación', \n",
    "           'Quotations':'Cita', 'fontsize':'tamaño de letra', 'fontstyle':'efecto tipográfico', \n",
    "           'marginleft':'sangría izquierda', 'marginright':'sangría derecha', \n",
    "           'margintop':'espacio superior', 'marginbottom':'espacio inferior',\n",
    "           'justify':'justificada', 'end':'derecha', 'start':'izquierda',\n",
    "           'nextstylename': 'estilo de página siguiente'}\n",
    "def sp_trans(s):\n",
    "    try:\n",
    "        t = sp_dict[s]\n",
    "    except KeyError:\n",
    "        t = s\n",
    "    return t"
   ]
  },
  {
   "cell_type": "code",
   "execution_count": 6,
   "metadata": {
    "collapsed": false
   },
   "outputs": [],
   "source": [
    "errors = []\n",
    "def compare_style_attr(ref, doc, family, style_name, attr_list):\n",
    "    stref = find_style_by_name(ref.style[family], style_name)\n",
    "    stdoc = find_style_by_name(doc.style[family], style_name)\n",
    "    if stdoc:\n",
    "        for attr in attr_list:\n",
    "            try:\n",
    "                val_ref = stref[attr]\n",
    "                try:\n",
    "                    val_doc = stdoc[attr]\n",
    "                    if val_ref != val_doc:\n",
    "                        f.write('Estilo %s tiene %s \\n  %s en lugar de %s.\\n\\n' % (sp_trans(style_name), sp_trans(attr),\n",
    "                                                                                     sp_trans(val_doc), sp_trans(val_ref)))\n",
    "                except KeyError:\n",
    "                        f.write('Estilo %s no tiene %s definido.\\n\\n' % (sp_trans(style_name), sp_trans(attr)))\n",
    "                #except TypeError:\n",
    "                #        f.write('Estilo %s no está definido.\\n\\n' % (sp_trans(style_name)))\n",
    "            except KeyError:\n",
    "                err = style_name + \"_\" + attr\n",
    "                if not err in errors:\n",
    "                    errors.append(err)\n",
    "                    print('Estilo %s no tiene %s definido en el fichero de referencia.' % (sp_trans(style_name), sp_trans(attr)))\n",
    "    else:\n",
    "        f.write('Estilo %s no está definido.\\n\\n' % (sp_trans(style_name)))"
   ]
  },
  {
   "cell_type": "code",
   "execution_count": 7,
   "metadata": {
    "collapsed": true
   },
   "outputs": [],
   "source": [
    "def compare_style_attrs_v1(ref, doc):\n",
    "    compare_style_attr(ref, doc, 'page', 'miPágina', \n",
    "                       ['name'])\n",
    "    compare_style_attr(ref, doc, 'page', 'miPortada', \n",
    "                       ['nextstylename'])\n",
    "    compare_style_attr(ref, doc, 'paragraph', 'title', \n",
    "                       ['fontsize', 'marginbottom', 'margintop', 'textalign'])\n",
    "    compare_style_attr(ref, doc, 'paragraph', 'subtitle', \n",
    "                       ['textalign'])\n",
    "    compare_style_attr(ref, doc, 'paragraph', 'text_body', \n",
    "                       ['marginbottom', 'textalign', 'textindent'])\n",
    "    compare_style_attr(ref, doc, 'paragraph', 'entradilla', \n",
    "                       ['fontstyle', 'margintop', 'marginleft','marginright', \n",
    "                        'marginbottom', 'textalign', 'parent'])\n",
    "    compare_style_attr(ref, doc, 'paragraph', 'numbering_1', \n",
    "                       ['marginleft'])\n",
    "    compare_style_attr(ref, doc, 'paragraph', 'list_1', \n",
    "                       ['marginleft', 'marginbottom'])\n",
    "    compare_style_attr(ref, doc, 'paragraph', 'miprimerparrafo', \n",
    "                       ['textindent'])\n",
    "    compare_style_attr(ref, doc, 'text', 'midestacado', \n",
    "                       ['fontfamily', 'fontweight'])"
   ]
  },
  {
   "cell_type": "code",
   "execution_count": 8,
   "metadata": {
    "collapsed": true
   },
   "outputs": [],
   "source": [
    "def compare_style_attrs_v2(ref, doc):\n",
    "    \n",
    "    compare_style_attr(ref, doc, 'page', 'páginaNormal', \n",
    "                       ['name'])\n",
    "    compare_style_attr(ref, doc, 'page', 'primeraPágina', \n",
    "                       ['nextstylename'])\n",
    "    compare_style_attr(ref, doc, 'paragraph', 'title', \n",
    "                       ['fontsize', 'marginbottom', 'margintop', 'textalign'])\n",
    "    compare_style_attr(ref, doc, 'paragraph', 'subtitle', \n",
    "                       ['textalign'])\n",
    "    compare_style_attr(ref, doc, 'paragraph', 'text_body', \n",
    "                       ['marginbottom', 'margintop', 'textalign', 'textindent'])\n",
    "    compare_style_attr(ref, doc, 'paragraph', 'resumen', \n",
    "                       ['fontstyle', 'margintop', 'marginleft','marginright', \n",
    "                        'marginbottom', 'textalign', 'parent'])\n",
    "    compare_style_attr(ref, doc, 'text', 'citadestacada', \n",
    "                       ['fontfamily', 'fontstyle'])\n",
    "    compare_style_attr(ref, doc, 'text', 'autornombrado', \n",
    "                       ['fontfamily', 'fontweight'])"
   ]
  },
  {
   "cell_type": "code",
   "execution_count": 10,
   "metadata": {
    "collapsed": false
   },
   "outputs": [
    {
     "data": {
      "text/plain": [
       "{'marginbottom': '0.101cm',\n",
       " 'marginleft': '1cm',\n",
       " 'marginright': '0cm',\n",
       " 'margintop': '0cm',\n",
       " 'name': 'list_1',\n",
       " 'parent': 'list',\n",
       " 'textindent': '-0.64cm'}"
      ]
     },
     "execution_count": 10,
     "metadata": {},
     "output_type": "execute_result"
    }
   ],
   "source": [
    "find_style_by_name(ref_v1.style['paragraph'], 'list_1')"
   ]
  },
  {
   "cell_type": "code",
   "execution_count": 10,
   "metadata": {
    "collapsed": false
   },
   "outputs": [
    {
     "data": {
      "text/plain": [
       "{'fontfamily': \"'Liberation Sans Narrow'\",\n",
       " 'fontstyle': 'italic',\n",
       " 'name': 'cita_destacada',\n",
       " 'parent': None}"
      ]
     },
     "execution_count": 10,
     "metadata": {},
     "output_type": "execute_result"
    }
   ],
   "source": [
    "find_style_by_name(ref_v2.style['text'], 'cita_destacada')"
   ]
  },
  {
   "cell_type": "code",
   "execution_count": null,
   "metadata": {
    "collapsed": true
   },
   "outputs": [],
   "source": []
  },
  {
   "cell_type": "code",
   "execution_count": 9,
   "metadata": {
    "collapsed": false
   },
   "outputs": [
    {
     "name": "stdout",
     "output_type": "stream",
     "text": [
      "101 ficheros procesados.\n"
     ]
    }
   ],
   "source": [
    "with open(SUBMISSION_FOLDER + '.txt', 'w', encoding='utf-8') as f:\n",
    "    counter = 0\n",
    "    for ufo in user_folder:\n",
    "        user_files = glob.glob(ufo + '/*')\n",
    "        for ufi in user_files:\n",
    "            tokens = ufi.split('/')\n",
    "            filename = tokens[-1]\n",
    "            user_data = tokens[-2]\n",
    "            user_name, user_id, _, submission_type, _ = user_data.split('_')\n",
    "            fns = filename.split('.')\n",
    "            if len(fns) > 1:\n",
    "                extension = fns[-1]\n",
    "            else:\n",
    "                extension = ''\n",
    "            row = [user_name, user_id, submission_type, filename, extension]\n",
    "            #if filename != ref_name:\n",
    "            #    f.write('\\nNombre de fichero: %s\\n\\n' % filename)\n",
    "            if extension == 'odt':\n",
    "                f.write(user_name + '\\n' + '-'*len(user_name) + '\\n')\n",
    "                doc = OdtData( ufi, par_prop, text_prop, page_prop )\n",
    "                if doc.err:\n",
    "                    f.write('Error de lectura de fichero\\n')                   \n",
    "                else:\n",
    "                    if 'AV1' in filename:\n",
    "                        f.write(\"Version 1\\n\\n\")\n",
    "                        compare_style_attrs_v1(ref_v1, doc)\n",
    "                    elif 'AV2' in filename:\n",
    "                        f.write(\"Version 2\\n\\n\")\n",
    "                        compare_style_attrs_v2(ref_v2, doc)\n",
    "                    else:\n",
    "                        f.write(\"Nombre incorrecto: version desconocida\")\n",
    "                        print(\"Error: nombre incorrecto, version desconocida\")\n",
    "                f.write('\\n' + '#'*40 + '\\n\\n')\n",
    "                counter += 1\n",
    "            #else:\n",
    "            #    f.write('Extensión de fichero incorrecta\\n')\n",
    "    print('%d ficheros procesados.' % counter)"
   ]
  },
  {
   "cell_type": "code",
   "execution_count": null,
   "metadata": {
    "collapsed": true
   },
   "outputs": [],
   "source": []
  }
 ],
 "metadata": {
  "kernelspec": {
   "display_name": "Python 3",
   "language": "python",
   "name": "python3"
  },
  "language_info": {
   "codemirror_mode": {
    "name": "ipython",
    "version": 3
   },
   "file_extension": ".py",
   "mimetype": "text/x-python",
   "name": "python",
   "nbconvert_exporter": "python",
   "pygments_lexer": "ipython3",
   "version": "3.5.2"
  }
 },
 "nbformat": 4,
 "nbformat_minor": 2
}
