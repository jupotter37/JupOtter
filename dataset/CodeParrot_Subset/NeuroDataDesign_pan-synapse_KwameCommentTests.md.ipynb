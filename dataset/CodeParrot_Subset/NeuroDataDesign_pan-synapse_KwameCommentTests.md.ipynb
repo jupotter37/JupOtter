{
 "cells": [
  {
   "cell_type": "markdown",
   "metadata": {},
   "source": [
    "# Kwame Comment Tests\n",
    "I met with Kwame again on 1/23, and he was able to come up with a few suggestions that may help improve registration accuracy. His comments are *briefly* explored here"
   ]
  },
  {
   "cell_type": "code",
   "execution_count": 1,
   "metadata": {
    "collapsed": true
   },
   "outputs": [],
   "source": [
    "import sys\n",
    "sys.path.insert(0, '../../../ndreg/')\n",
    "sys.path.insert(0,'../code/functions/')\n",
    "\n",
    "import ndreg\n",
    "import math\n",
    "import cv2\n",
    "import pickle\n",
    "\n",
    "import numpy as np\n",
    "import SimpleITK as itk\n",
    "import matplotlib.pyplot as plt\n",
    "import plosLib as pLib\n",
    "import connectLib as cLib\n",
    "import connectLib as cLib\n",
    "\n",
    "from affine import Affine\n",
    "from matplotlib import cm\n",
    "from mpl_toolkits.mplot3d import Axes3D\n",
    "from random import randrange as rand\n",
    "from random import uniform as floatRand\n",
    "from PIL import Image"
   ]
  },
  {
   "cell_type": "code",
   "execution_count": 19,
   "metadata": {
    "collapsed": true
   },
   "outputs": [],
   "source": [
    "def register(inImg, baseImg, iterations, MI=False):\n",
    "    return ndreg.imgAffineComposite(inImg,\n",
    "                           baseImg,\n",
    "                           iterations=iterations,\n",
    "                           useMI=MI,\n",
    "                           verbose=False)"
   ]
  },
  {
   "cell_type": "code",
   "execution_count": 3,
   "metadata": {
    "collapsed": true
   },
   "outputs": [],
   "source": [
    "def getTransform(pitchRange = .1,\n",
    "                 rollRange = .1,\n",
    "                 yawRange = .1,\n",
    "                 xRange = 0.,\n",
    "                 yRange = 0.,\n",
    "                 zRange = 0.,\n",
    "                 pitch=None,\n",
    "                 yaw=None,\n",
    "                 roll=None,\n",
    "                 zT=None,\n",
    "                 yT=None,\n",
    "                 xT=None):\n",
    "    \n",
    "    #generate a random rigid body transform in given bounds\n",
    "    a = floatRand(pitchRange-(pitchRange/2.), pitchRange+(pitchRange/2.))\n",
    "    b = floatRand(yawRange-(yawRange/2.), yawRange+(yawRange/2.))\n",
    "    c = floatRand(rollRange-(rollRange/2.), rollRange+(rollRange/2.))\n",
    "\n",
    "    xt = floatRand(xRange-(xRange/2.), xRange+(xRange/2.))\n",
    "    yt = floatRand(yRange-(yRange/2.), yRange+(yRange/2.))\n",
    "    zt = floatRand(zRange-(zRange/2.), zRange+(zRange/2.))\n",
    "\n",
    "    #set default params, if passed\n",
    "    if yaw is not None:\n",
    "        a = yaw\n",
    "    if pitch is not None:\n",
    "        b = pitch\n",
    "    if roll is not None:\n",
    "        c = roll \n",
    "    if xT is not None:\n",
    "        xt = xT\n",
    "    if yT is not None:\n",
    "        yt = yT\n",
    "    if zT is not None:\n",
    "        zt = zT\n",
    "\n",
    "    #generate the transform\n",
    "    transform = np.stack([\n",
    "        [math.cos(a)*math.cos(b), math.cos(a)*math.sin(b)*math.sin(c)-math.sin(a)*math.cos(c), math.cos(a)*math.sin(b)*math.cos(c)+math.sin(a)*math.sin(c), xt],\n",
    "        [math.sin(a)*math.cos(b), math.sin(a)*math.sin(b)*math.sin(c)+math.cos(a)*math.cos(c), math.sin(a)*math.sin(b)*math.cos(c)-math.cos(a)*math.sin(c), yt],\n",
    "        [-math.sin(b), math.cos(b)*math.sin(c), math.cos(b)*math.cos(c), zt],\n",
    "        [0., 0., 0., 1.]\n",
    "    ])\n",
    "    return transform\n",
    "    \n",
    "    \n",
    "def applyRigid(initialVolume, transform, verbose=False):\n",
    "    #create a body to hold return values\n",
    "    rigidMatrix = np.zeros_like(initialVolume)  \n",
    "    \n",
    "    #create vars to keep track of out of bounds percent\n",
    "    out = 0.\n",
    "    \n",
    "    #convert every voxel\n",
    "    for z in range(initialVolume.shape[0]):\n",
    "        for y in range(initialVolume.shape[1]):\n",
    "            for x in range(initialVolume.shape[2]):\n",
    "                \n",
    "                #shift the volume so that the transform is applied to the center, and not the top left back edge\n",
    "                shift = [initialVolume.shape[2]/2., initialVolume.shape[1]/2., initialVolume.shape[0]/2.]\n",
    "                shiftedPoint = list(np.subtract([x, y, z], shift))\n",
    "                shiftedPoint.append(1.)\n",
    "                \n",
    "                #calculate the transform, drop the irrelavent 1 at the end\n",
    "                new = np.dot(transform, shiftedPoint)[:3]\n",
    "                \n",
    "                #shift the volume back to its original spot after transform\n",
    "                final = np.add(new, shift)\n",
    "                \n",
    "                #attempt to assign new spot\n",
    "                try:\n",
    "                    rigidMatrix[int(final[2]), int(final[1]), int(final[0])] = initialVolume[z, y, x]\n",
    "                    \n",
    "                #if transformed place is out of bounds, dont assign it\n",
    "                except IndexError:\n",
    "                        out+=1.\n",
    "                        continue\n",
    "    #print information, if required\n",
    "    if verbose:\n",
    "        print 'Out of bounds fraction: ', out/float(initialVolume.shape[0]*initialVolume.shape[1]*initialVolume.shape[2])\n",
    "    \n",
    "    return rigidMatrix"
   ]
  },
  {
   "cell_type": "code",
   "execution_count": 4,
   "metadata": {
    "collapsed": false
   },
   "outputs": [
    {
     "name": "stdout",
     "output_type": "stream",
     "text": [
      "(280, 1024, 1024)\n"
     ]
    }
   ],
   "source": [
    "realData = pickle.load(open('../code/tests/synthDat/realDataRaw_t0.synth', 'r'))\n",
    "print realData.shape"
   ]
  },
  {
   "cell_type": "code",
   "execution_count": 5,
   "metadata": {
    "collapsed": false
   },
   "outputs": [
    {
     "name": "stdout",
     "output_type": "stream",
     "text": [
      "(7, 1024, 1024)\n"
     ]
    }
   ],
   "source": [
    "testData = realData[:7]\n",
    "print testData.shape"
   ]
  },
  {
   "cell_type": "markdown",
   "metadata": {},
   "source": [
    "# Spacing Test\n",
    "The goal of the spacing test is the determine if there is an effect of setting image spacing on NDReg outputs"
   ]
  },
  {
   "cell_type": "code",
   "execution_count": 10,
   "metadata": {
    "collapsed": true
   },
   "outputs": [],
   "source": [
    "def executeTest(testImg, baseImg, gradientIterations = 200, verbose=True):\n",
    "    \n",
    "    initialErr = np.sum((np.subtract(baseImg, testImg))**2)\n",
    "    \n",
    "    testImgITK = itk.GetImageFromArray(testImg)\n",
    "    testImgITK.SetSpacing([.12, .12, .5])\n",
    "    baseImgITK = itk.GetImageFromArray(baseImg)\n",
    "    baseImgITK.SetSpacing([.12, .12, .5])\n",
    "    \n",
    "    if verbose:\n",
    "        print '\\tInitial Error: ', initialErr\n",
    "    transform = register(testImgITK, baseImgITK, gradientIterations)\n",
    "    \n",
    "    if verbose:\n",
    "        print '\\tTransform:'\n",
    "        print transform\n",
    "         \n",
    "    regImg = itk.GetArrayFromImage(\n",
    "        ndreg.imgApplyAffine(\n",
    "            testImgITK,\n",
    "            transform,\n",
    "            size=testImgITK.GetSize(),\n",
    "            spacing=testImgITK.GetSpacing()\n",
    "            )\n",
    "        )\n",
    "\n",
    "    finalErr = np.sum((np.subtract(baseImg, regImg))**2)\n",
    "    errReductionRatio = np.subtract(initialErr, finalErr)/float(initialErr)\n",
    "    \n",
    "    if verbose:\n",
    "        print '\\tFinal Error: ', finalErr\n",
    "        print '\\tError Reduction Ratio: ', errReductionRatio\n",
    "    \n",
    "    return regImg, initialErr, finalErr, errReductionRatio    "
   ]
  },
  {
   "cell_type": "code",
   "execution_count": 7,
   "metadata": {
    "collapsed": true
   },
   "outputs": [],
   "source": [
    "outVolume = cLib.otsuVox(pLib.pipeline(testData))"
   ]
  },
  {
   "cell_type": "code",
   "execution_count": 8,
   "metadata": {
    "collapsed": false
   },
   "outputs": [
    {
     "name": "stdout",
     "output_type": "stream",
     "text": [
      "(5, 1024, 1024)\n"
     ]
    }
   ],
   "source": [
    "#As expected, slices 0 and 6 are ill defined, so remove them\n",
    "outVolume = outVolume[1:6]\n",
    "print outVolume.shape"
   ]
  },
  {
   "cell_type": "code",
   "execution_count": 9,
   "metadata": {
    "collapsed": false
   },
   "outputs": [
    {
     "name": "stdout",
     "output_type": "stream",
     "text": [
      "Out of bounds fraction:  0.0318670272827\n"
     ]
    }
   ],
   "source": [
    "#generate and apply a basic transform to the output\n",
    "transform = getTransform(pitch=0., yaw=.15, roll=0., xT=0., yT=0., zT=0.)\n",
    "transformVolume = applyRigid(outVolume, transform, True)"
   ]
  },
  {
   "cell_type": "code",
   "execution_count": 20,
   "metadata": {
    "collapsed": false
   },
   "outputs": [
    {
     "name": "stdout",
     "output_type": "stream",
     "text": [
      "\tInitial Error:  110266.0\n",
      "\tTransform:\n",
      "[0.9975932877997035, 0.05842507161859518, -0.05792548260651925, -0.06162104745726014, 0.9975625945148371, -0.055072088456448946, 0.054513273971632206, 0.05845168451847105, 0.9977840056493715, 0.04733375669943689, -0.053518760362313074, 0.07005213287769078]\n",
      "\tFinal Error:  60874.0\n",
      "\tError Reduction Ratio:  0.447934993561\n"
     ]
    }
   ],
   "source": [
    "#Check if NDReg handles the basic case\n",
    "regImg, initialErr, finalErr, reductionRatio = executeTest(transformVolume, outVolume, 200, verbose=True)"
   ]
  },
  {
   "cell_type": "markdown",
   "metadata": {},
   "source": [
    "# Spacing Test Results\n",
    "Error reduction ratio and Final Error are the same in this test as the baseline\n",
    "\n",
    "# Affine Test\n",
    "The goal of this test is to see if changing the registration method from a composite function to an affine only function will improve NDReg's capability to work on our current data"
   ]
  },
  {
   "cell_type": "code",
   "execution_count": 21,
   "metadata": {
    "collapsed": true
   },
   "outputs": [],
   "source": [
    "def executeTest(testImg, baseImg, gradientIterations = 200, verbose=True):\n",
    "    \n",
    "    initialErr = np.sum((np.subtract(baseImg, testImg))**2)\n",
    "    \n",
    "    testImgITK = itk.GetImageFromArray(testImg)\n",
    "    baseImgITK = itk.GetImageFromArray(baseImg)\n",
    "    \n",
    "    if verbose:\n",
    "        print '\\tInitial Error: ', initialErr\n",
    "    transform = register(testImgITK, baseImgITK, gradientIterations)\n",
    "    \n",
    "    if verbose:\n",
    "        print '\\tTransform:'\n",
    "        print transform\n",
    "         \n",
    "    regImg = itk.GetArrayFromImage(\n",
    "        ndreg.imgApplyAffine(\n",
    "            testImgITK,\n",
    "            transform,\n",
    "            size=testImgITK.GetSize(),\n",
    "            spacing=testImgITK.GetSpacing()\n",
    "            )\n",
    "        )\n",
    "\n",
    "    finalErr = np.sum((np.subtract(baseImg, regImg))**2)\n",
    "    errReductionRatio = np.subtract(initialErr, finalErr)/float(initialErr)\n",
    "    \n",
    "    if verbose:\n",
    "        print '\\tFinal Error: ', finalErr\n",
    "        print '\\tError Reduction Ratio: ', errReductionRatio\n",
    "    \n",
    "    return regImg, initialErr, finalErr, errReductionRatio    "
   ]
  },
  {
   "cell_type": "code",
   "execution_count": 22,
   "metadata": {
    "collapsed": true
   },
   "outputs": [],
   "source": [
    "def register(inImg, baseImg, iterations, MI=False):\n",
    "    return ndreg.imgAffine(inImg,\n",
    "                           baseImg,\n",
    "                           iterations=iterations,\n",
    "                           useMI=MI,\n",
    "                           verbose=False)"
   ]
  },
  {
   "cell_type": "code",
   "execution_count": 23,
   "metadata": {
    "collapsed": false
   },
   "outputs": [
    {
     "name": "stdout",
     "output_type": "stream",
     "text": [
      "\tInitial Error:  110266.0\n",
      "\tTransform:\n",
      "[1.0314913643177692, 0.023057167756149584, 0.00012169425691472045, -0.020255069538658053, 0.9710260065164376, -0.0001237295433937009, 0.06257475638247516, 0.05753484988843319, 0.9990004111255613, 5.280293545418143e-05, -5.970241331080096e-05, 7.817365375544298e-05]\n",
      "\tFinal Error:  60874.0\n",
      "\tError Reduction Ratio:  0.447934993561\n"
     ]
    }
   ],
   "source": [
    "regImg, initialErr, finalErr, reductionRatio = executeTest(transformVolume, outVolume, 200, verbose=True)"
   ]
  },
  {
   "cell_type": "markdown",
   "metadata": {},
   "source": [
    "# Affine Function Test Conclusion\n",
    "Results have not changed"
   ]
  },
  {
   "cell_type": "code",
   "execution_count": null,
   "metadata": {
    "collapsed": true
   },
   "outputs": [],
   "source": []
  }
 ],
 "metadata": {
  "kernelspec": {
   "display_name": "Python 2",
   "language": "python",
   "name": "python2"
  },
  "language_info": {
   "codemirror_mode": {
    "name": "ipython",
    "version": 2
   },
   "file_extension": ".py",
   "mimetype": "text/x-python",
   "name": "python",
   "nbconvert_exporter": "python",
   "pygments_lexer": "ipython2",
   "version": "2.7.12"
  }
 },
 "nbformat": 4,
 "nbformat_minor": 1
}
