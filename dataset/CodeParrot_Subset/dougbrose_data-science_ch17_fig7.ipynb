{
 "cells": [
  {
   "cell_type": "markdown",
   "metadata": {
    "collapsed": true
   },
   "source": [
    "### Ch17 Figure7"
   ]
  },
  {
   "cell_type": "code",
   "execution_count": 1,
   "metadata": {
    "collapsed": false,
    "scrolled": true
   },
   "outputs": [
    {
     "data": {
      "text/html": [
       "<div>\n",
       "<table border=\"1\" class=\"dataframe\">\n",
       "  <thead>\n",
       "    <tr style=\"text-align: right;\">\n",
       "      <th></th>\n",
       "      <th>id</th>\n",
       "      <th>gender</th>\n",
       "      <th>test taker</th>\n",
       "    </tr>\n",
       "  </thead>\n",
       "  <tbody>\n",
       "    <tr>\n",
       "      <th>0</th>\n",
       "      <td>0</td>\n",
       "      <td>male</td>\n",
       "      <td>Y</td>\n",
       "    </tr>\n",
       "    <tr>\n",
       "      <th>1</th>\n",
       "      <td>1</td>\n",
       "      <td>female</td>\n",
       "      <td>Y</td>\n",
       "    </tr>\n",
       "    <tr>\n",
       "      <th>2</th>\n",
       "      <td>2</td>\n",
       "      <td>male</td>\n",
       "      <td>N</td>\n",
       "    </tr>\n",
       "    <tr>\n",
       "      <th>3</th>\n",
       "      <td>3</td>\n",
       "      <td>female</td>\n",
       "      <td>Y</td>\n",
       "    </tr>\n",
       "    <tr>\n",
       "      <th>4</th>\n",
       "      <td>4</td>\n",
       "      <td>female</td>\n",
       "      <td>N</td>\n",
       "    </tr>\n",
       "  </tbody>\n",
       "</table>\n",
       "</div>"
      ],
      "text/plain": [
       "   id  gender test taker\n",
       "0   0    male          Y\n",
       "1   1  female          Y\n",
       "2   2    male          N\n",
       "3   3  female          Y\n",
       "4   4  female          N"
      ]
     },
     "execution_count": 1,
     "metadata": {},
     "output_type": "execute_result"
    }
   ],
   "source": [
    "# I once worked for an organization that was trying to figure out why more men than women were participating in their medical studies. They got a report from the labs that men were 60% more likely to participate in a medical study. The data science team was tasked with trying to figure out why this was the case.\n",
    "\n",
    "data = []\n",
    "\n",
    "for i in range(5000):\n",
    "    \n",
    "    if rd.random() <= .4:\n",
    "        gender = 'male'\n",
    "    else:\n",
    "        gender = 'female'\n",
    "    \n",
    "    if gender == 'male':\n",
    "        if rd.random() <= .8:\n",
    "            tested = 'Y'\n",
    "        else:\n",
    "            tested = 'N'\n",
    "    else:\n",
    "        if rd.random () <= .3:\n",
    "            tested = 'Y'\n",
    "        else:\n",
    "            tested = 'N'\n",
    "    data.append([i, gender, tested])\n",
    "\n",
    "df = pd.DataFrame(data, columns=['id', 'gender', 'test taker'])\n",
    "# df.to_csv('csv_output/ch17_fig6.csv', index=False)\n",
    "df = pd.read_csv('csv_output/ch17_fig7.csv')\n",
    "df.head()"
   ]
  },
  {
   "cell_type": "code",
   "execution_count": 2,
   "metadata": {
    "collapsed": false
   },
   "outputs": [
    {
     "data": {
      "image/png": "[encoded data removed]",
      "text/plain": [
       "<matplotlib.figure.Figure at 0xbca9be0>"
      ]
     },
     "metadata": {},
     "output_type": "display_data"
    }
   ],
   "source": [
    "df = pd.read_csv('csv_output/ch17_fig7.csv')\n",
    "\n",
    "%matplotlib inline\n",
    "sns.set_style(\"white\")\n",
    "cm = sns.color_palette('Blues', 2)\n",
    "\n",
    "f, ax = plt.subplots(1,2, figsize=(8,4))\n",
    "ax1 = ax[1]\n",
    "ax = ax[0]\n",
    "\n",
    "dgb = df.groupby(['gender', 'test taker']).id.count().reset_index().sort_values('id', ascending=False)\n",
    "# print(dgb[(dgb['took test'] == 'Y') & (dgb['gender']=='male')].id.values / dgb[(dgb['took test'] == 'Y') & (dgb['gender']=='female')].id.values)\n",
    "ax.bar(left= np.arange(2), height=[dgb[dgb['gender']=='male'].id.sum(), dgb[dgb['gender']=='female'].id.sum()], color=cm[0]);\n",
    "ax.bar(left= np.arange(2), height=[dgb[(dgb['gender']=='male') & (dgb['test taker']=='Y')].id.sum(), dgb[(dgb['gender']=='female') & (dgb['test taker']=='Y')].id.sum()], color=cm[1]);\n",
    "\n",
    "ax.legend(['non-test taker', 'test taker'], loc='upper left')\n",
    "ax.set_title('male and female \\n (test taker versus non-test takers)')\n",
    "ax.set_xticks(np.arange(2)+.5);\n",
    "ax.set_xticklabels(['male', 'female'])\n",
    "ax.set_ylabel('total count')\n",
    "\n",
    "ax1.bar(left=np.arange(2), height=[dgb[(dgb['gender']=='male') & (dgb['test taker']=='Y')].id.sum(), 0], color=cm[0])\n",
    "ax1.bar(left=np.arange(2), height=[dgb[(dgb['gender']=='female') & (dgb['test taker']=='Y')].id.sum(), 0], color=cm[1])\n",
    "ax1.bar(left=np.arange(2), height=[0, dgb[(dgb['gender']=='female') & (dgb['test taker']=='N')].id.sum()], color=cm[1])\n",
    "ax1.bar(left=np.arange(2), height=[0, dgb[(dgb['gender']=='male') & (dgb['test taker']=='N')].id.sum()], color=cm[0])\n",
    "\n",
    "ax1.set_xticks(np.arange(2)+.5);\n",
    "ax1.set_xticklabels(['test-taker', 'non-test taker'])\n",
    "ax1.set_title('test taker versus non-test takers \\n (male and female)');\n",
    "ax1.legend(['male', 'female'], loc='upper left')\n",
    "\n",
    "f.tight_layout()\n",
    "f.savefig('svg_output/ch17_fig7.svg', format='svg')"
   ]
  },
  {
   "cell_type": "markdown",
   "metadata": {},
   "source": [
    "We can pivot the table two ways, on the left is by male and female, about 80% of male are test takers versus only 30% of female are test takers. On the right is by test takers and non-test takers, 60% of test takers are male versus only 15% of non-test takers are male."
   ]
  }
 ],
 "metadata": {
  "kernelspec": {
   "display_name": "Python 3",
   "language": "python",
   "name": "python3"
  },
  "language_info": {
   "codemirror_mode": {
    "name": "ipython",
    "version": 3
   },
   "file_extension": ".py",
   "mimetype": "text/x-python",
   "name": "python",
   "nbconvert_exporter": "python",
   "pygments_lexer": "ipython3",
   "version": "3.5.1"
  }
 },
 "nbformat": 4,
 "nbformat_minor": 0
}
