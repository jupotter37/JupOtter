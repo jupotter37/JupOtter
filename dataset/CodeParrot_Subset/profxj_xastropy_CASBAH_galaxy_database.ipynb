{
 "cells": [
  {
   "cell_type": "markdown",
   "metadata": {},
   "source": [
    "# Building the CASBAH Galaxy Database (v1.0)"
   ]
  },
  {
   "cell_type": "markdown",
   "metadata": {},
   "source": [
    "## SDSS"
   ]
  },
  {
   "cell_type": "markdown",
   "metadata": {},
   "source": [
    "### Targeting\n",
    "I am unclear on how to sensibly extract targeting information from the\n",
    "SDSS.  But this may well be an issue for various analyses."
   ]
  },
  {
   "cell_type": "markdown",
   "metadata": {},
   "source": [
    "### Extracting Galaxy data\n",
    "The script build_sdss loops through the listed fields with SDSS\n",
    "coverage and calls the grab_sdss_spectra script to grab photometric\n",
    "and spectral data.  It is currently grabbing DR12.\n",
    "\n",
    "Here are some defaults:\n",
    "* Box of 2deg on a side\n",
    "* Photometry is Petrosian ugriz\n",
    "* Galaxies are cut down to 20Mpc separation (LCDM cosmology)\n",
    "* z > 500km/s to cut stars\n",
    "\n",
    "Here is the basic procedure:\n",
    "* Query photometry all objects in search box with spectra\n",
    "* Query list of spectra from SDSS in search box\n",
    "    * This list often contain duplicates from multiple passes\n",
    "* Cut on 20Mpc using redshifts, RA+DEC of obj, and RA+DEC of QSO\n",
    "* Loop on sources to build table\n",
    "    * Take BOSS data over SDSS\n",
    "* Generate a binary FITS table, including photometry, redshift and spectra"
   ]
  },
  {
   "cell_type": "code",
   "execution_count": 5,
   "metadata": {
    "collapsed": false
   },
   "outputs": [
    {
     "name": "stdout",
     "output_type": "stream",
     "text": [
      "grab_sdss_spectra: Found 12 sources in the search box.\n",
      "grab_sdss_spectra: Grabbing data for 12 sources.\n",
      "Wrote SDSS table to None\n"
     ]
    },
    {
     "data": {
      "text/html": [
       "&lt;Table masked=False length=5&gt;\n",
       "<table id=\"table4446065744\">\n",
       "<thead><tr><th>RA</th><th>DEC</th><th>Z</th><th>Z_ERR</th><th>SDSS_MAG [5]</th><th>SDSS_MAGERR [5]</th><th>TELESCOPE</th><th>INSTRUMENT</th><th>FLUX [5000]</th><th>SIG [5000]</th><th>WAVE [5000]</th></tr></thead>\n",
       "<thead><tr><th>float64</th><th>float64</th><th>float64</th><th>float64</th><th>float64</th><th>float64</th><th>string640</th><th>string640</th><th>float32</th><th>float32</th><th>float64</th></tr></thead>\n",
       "<tr><td>212.35102636</td><td>26.3415403908</td><td>3.21771526337</td><td>0.000997702358291</td><td>23.70004 .. 7.34031909445e+223</td><td>1.576056 .. 6.013470017e-154</td><td>SDSS 2.5-M</td><td>BOSS</td><td>3.5592 .. 1.35632e-19</td><td>2.65591 .. 1.35632e-19</td><td>3592.52587891 .. -1.22810024928e-296</td></tr>\n",
       "<tr><td>212.349627859</td><td>26.3058613203</td><td>0.0</td><td>0.0</td><td>16.10909 .. -6.11925950261e-220</td><td>0.004779854 .. -2.78592920103e-305</td><td>SDSS 2.5-M</td><td>SDSS</td><td>0.0 .. 1.77053e-38</td><td>0.0 .. -1.21568e-37</td><td>3811.53564453 .. 1.57733159326e-52</td></tr>\n",
       "<tr><td>212.370094746</td><td>26.3254555654</td><td>0.327256381512</td><td>5.58089996048e-05</td><td>21.36104 .. 6.013470017e-154</td><td>1.245788 .. 1.83037365249e-94</td><td>SDSS 2.5-M</td><td>BOSS</td><td>3.59836 .. -1.19132e+14</td><td>3.71348 .. -9.48227e+21</td><td>3590.87353516 .. 8.31176848954e+46</td></tr>\n",
       "<tr><td>212.363198097</td><td>26.3766678271</td><td>0.673991203308</td><td>0.000221190101001</td><td>21.94763 .. 1.76807794921e+258</td><td>1.772229 .. -1.47312822905e-204</td><td>SDSS 2.5-M</td><td>BOSS</td><td>-0.0600585 .. 1.35632e-19</td><td>2.7654 .. -1.47499e+12</td><td>3592.52587891 .. 7.86200159392e-51</td></tr>\n",
       "<tr><td>212.272722288</td><td>26.305233155</td><td>0.321305960417</td><td>8.39712593006e-05</td><td>21.33263 .. 3.00282156321e-142</td><td>0.844611 .. -1.19464315864e-195</td><td>SDSS 2.5-M</td><td>BOSS</td><td>-0.931015 .. 168.798</td><td>2.87149 .. 3.81592e+09</td><td>3590.87353516 .. -1.10999478584e-51</td></tr>\n",
       "</table>"
      ],
      "text/plain": [
       "<Table masked=False length=5>\n",
       "      RA           DEC      ...             WAVE [5000]             \n",
       "   float64       float64    ...               float64               \n",
       "------------- ------------- ... ------------------------------------\n",
       " 212.35102636 26.3415403908 ... 3592.52587891 .. -1.22810024928e-296\n",
       "212.349627859 26.3058613203 ...   3811.53564453 .. 1.57733159326e-52\n",
       "212.370094746 26.3254555654 ...   3590.87353516 .. 8.31176848954e+46\n",
       "212.363198097 26.3766678271 ...   3592.52587891 .. 7.86200159392e-51\n",
       "212.272722288  26.305233155 ...  3590.87353516 .. -1.10999478584e-51"
      ]
     },
     "execution_count": 5,
     "metadata": {},
     "output_type": "execute_result"
    }
   ],
   "source": [
    "# Example call\n",
    "from xastropy.casbah import galaxy_data as xcgd\n",
    "reload(xcgd)\n",
    "radec = (212.34957*u.deg,26.30585*u.deg)\n",
    "tab=xcgd.grab_sdss_spectra(radec, radius=1.*u.degree/12.) \n",
    "Table(tab[0:5])"
   ]
  },
  {
   "cell_type": "markdown",
   "metadata": {},
   "source": [
    "### Open questions/issues\n",
    "1.  Should we be recording other observing meta-data?\n",
    "1.  How about SFR, M*, etc.?"
   ]
  },
  {
   "cell_type": "markdown",
   "metadata": {},
   "source": [
    "## DEIMOS"
   ]
  },
  {
   "cell_type": "markdown",
   "metadata": {
    "collapsed": true
   },
   "source": [
    "### Targeting\n",
    "\n",
    "* Pull mask target info from Mask files :: parse_deimos_mask_file\n",
    "* Pull other target info from SExtractor output\n",
    "  * Requires yaml file describing target criteria\n",
    "  * And the SExtractor output file\n",
    "\n",
    "#### Sample output of MULTI_OBS file\n",
    "\n",
    "MULTI_OBJ file:\n",
    "\n",
    "|  INSTR |        MASK_NAME |     MASK_RA |   MASK_DEC | MASK_EPOCH | MASK_PA |    DATE_OBS | DISPERSER |   TEXP |         CONDITIONS |\n",
    "\n",
    "| DEIMOS | PG1407_may_early | 14:09:34.10 | 26:18:45.1 |     2000.0 |   -96.1 | 23-Jul-2015 |      G600 | 3600.0 | POOR_SEEING,CLOUDS |\n",
    "\n",
    "| DEIMOS | PG1407_may_early | 14:09:34.10 | 26:18:45.1 |     2000.0 |   -96.1 | 24-Jul-2015 |      G600 | 3600.0 |              CLEAR |\n"
   ]
  },
  {
   "cell_type": "code",
   "execution_count": 75,
   "metadata": {
    "collapsed": false
   },
   "outputs": [
    {
     "data": {
      "text/html": [
       "&lt;Table masked=True length=5&gt;\n",
       "<table id=\"table4454366096\">\n",
       "<thead><tr><th>TARG_RA</th><th>TARG_DEC</th><th>EPOCH</th><th>TARG_ID</th><th>TARG_MAG</th><th>TARG_IMG</th><th>INSTR</th><th>MASK_NAME</th></tr></thead>\n",
       "<thead><tr><th>float64</th><th>float64</th><th>float64</th><th>int32</th><th>float32</th><th>string136</th><th>string192</th><th>string512</th></tr></thead>\n",
       "<tr><td>212.39539331</td><td>26.1409489801</td><td>2000.0</td><td>556</td><td>23.7325</td><td>pg1407.V.mos.fits</td><td>DEIMOS</td><td>PG1407_may_mid2</td></tr>\n",
       "<tr><td>212.386193606</td><td>26.1464415539</td><td>2000.0</td><td>703</td><td>23.8043</td><td>pg1407.V.mos.fits</td><td>DEIMOS</td><td>PG1407_may_mid2</td></tr>\n",
       "<tr><td>212.365282515</td><td>26.149680065</td><td>2000.0</td><td>742</td><td>20.7288</td><td>pg1407.V.mos.fits</td><td>DEIMOS</td><td>PG1407_may_mid2</td></tr>\n",
       "<tr><td>212.392594184</td><td>26.1567769971</td><td>2000.0</td><td>901</td><td>19.9971</td><td>pg1407.V.mos.fits</td><td>DEIMOS</td><td>PG1407_may_mid2</td></tr>\n",
       "<tr><td>212.390583821</td><td>26.1596075882</td><td>2000.0</td><td>1037</td><td>24.3026</td><td>pg1407.V.mos.fits</td><td>DEIMOS</td><td>PG1407_may_mid2</td></tr>\n",
       "</table>"
      ],
      "text/plain": [
       "<Table masked=True length=5>\n",
       "   TARG_RA       TARG_DEC    EPOCH  ...   INSTR      MASK_NAME   \n",
       "   float64       float64    float64 ... string192    string512   \n",
       "------------- ------------- ------- ... --------- ---------------\n",
       " 212.39539331 26.1409489801  2000.0 ...    DEIMOS PG1407_may_mid2\n",
       "212.386193606 26.1464415539  2000.0 ...    DEIMOS PG1407_may_mid2\n",
       "212.365282515  26.149680065  2000.0 ...    DEIMOS PG1407_may_mid2\n",
       "212.392594184 26.1567769971  2000.0 ...    DEIMOS PG1407_may_mid2\n",
       "212.390583821 26.1596075882  2000.0 ...    DEIMOS PG1407_may_mid2"
      ]
     },
     "execution_count": 75,
     "metadata": {},
     "output_type": "execute_result"
    }
   ],
   "source": [
    "#### Sample of target file\n",
    "fil='/Users/xavier/CASBAH/Galaxies/PG1407+265/PG1407+265_targets.fits'\n",
    "targ = Table.read(fil)\n",
    "#\n",
    "mt = np.where(targ['MASK_NAME'] != 'N/A')[0]\n",
    "targ[mt[0:5]]"
   ]
  },
  {
   "cell_type": "markdown",
   "metadata": {},
   "source": [
    "## Testing"
   ]
  },
  {
   "cell_type": "code",
   "execution_count": 77,
   "metadata": {
    "collapsed": false
   },
   "outputs": [
    {
     "ename": "TypeError",
     "evalue": "read_table_fits() got an unexpected keyword argument 'fill_values'",
     "output_type": "error",
     "traceback": [
      "\u001b[0;31m---------------------------------------------------------------------------\u001b[0m",
      "\u001b[0;31mTypeError\u001b[0m                                 Traceback (most recent call last)",
      "\u001b[0;32m<ipython-input-77-8e522a9ae1fa>\u001b[0m in \u001b[0;36m<module>\u001b[0;34m()\u001b[0m\n\u001b[1;32m      1\u001b[0m \u001b[0mfil\u001b[0m\u001b[0;34m=\u001b[0m\u001b[0;34m'/Users/xavier/CASBAH/Galaxies/PG1407+265/PG1407+265_targets.fits'\u001b[0m\u001b[0;34m\u001b[0m\u001b[0m\n\u001b[0;32m----> 2\u001b[0;31m \u001b[0mtmp\u001b[0m \u001b[0;34m=\u001b[0m \u001b[0mTable\u001b[0m\u001b[0;34m.\u001b[0m\u001b[0mread\u001b[0m\u001b[0;34m(\u001b[0m\u001b[0mfil\u001b[0m\u001b[0;34m,\u001b[0m\u001b[0mfill_values\u001b[0m\u001b[0;34m=\u001b[0m\u001b[0;34m[\u001b[0m\u001b[0;34m(\u001b[0m\u001b[0;34m'N/A'\u001b[0m\u001b[0;34m,\u001b[0m\u001b[0;34m'0'\u001b[0m\u001b[0;34m,\u001b[0m\u001b[0;34m'MASK_NAME'\u001b[0m\u001b[0;34m)\u001b[0m\u001b[0;34m]\u001b[0m\u001b[0;34m,\u001b[0m\u001b[0mformat\u001b[0m\u001b[0;34m=\u001b[0m\u001b[0;34m'fits'\u001b[0m\u001b[0;34m)\u001b[0m\u001b[0;34m\u001b[0m\u001b[0m\n\u001b[0m",
      "\u001b[0;32m/Users/xavier/local/Python/astropy/astropy/table/table.pyc\u001b[0m in \u001b[0;36mread\u001b[0;34m(cls, *args, **kwargs)\u001b[0m\n\u001b[1;32m   1954\u001b[0m         \u001b[0mpassed\u001b[0m \u001b[0mthrough\u001b[0m \u001b[0mto\u001b[0m \u001b[0mthe\u001b[0m \u001b[0munderlying\u001b[0m \u001b[0mdata\u001b[0m \u001b[0mreader\u001b[0m \u001b[0;34m(\u001b[0m\u001b[0me\u001b[0m\u001b[0;34m.\u001b[0m\u001b[0mg\u001b[0m\u001b[0;34m.\u001b[0m \u001b[0;34m`\u001b[0m\u001b[0;34m~\u001b[0m\u001b[0mastropy\u001b[0m\u001b[0;34m.\u001b[0m\u001b[0mio\u001b[0m\u001b[0;34m.\u001b[0m\u001b[0mascii\u001b[0m\u001b[0;34m.\u001b[0m\u001b[0mread\u001b[0m\u001b[0;34m`\u001b[0m\u001b[0;34m)\u001b[0m\u001b[0;34m.\u001b[0m\u001b[0;34m\u001b[0m\u001b[0m\n\u001b[1;32m   1955\u001b[0m         \"\"\"\n\u001b[0;32m-> 1956\u001b[0;31m         \u001b[0;32mreturn\u001b[0m \u001b[0mio_registry\u001b[0m\u001b[0;34m.\u001b[0m\u001b[0mread\u001b[0m\u001b[0;34m(\u001b[0m\u001b[0mcls\u001b[0m\u001b[0;34m,\u001b[0m \u001b[0;34m*\u001b[0m\u001b[0margs\u001b[0m\u001b[0;34m,\u001b[0m \u001b[0;34m**\u001b[0m\u001b[0mkwargs\u001b[0m\u001b[0;34m)\u001b[0m\u001b[0;34m\u001b[0m\u001b[0m\n\u001b[0m\u001b[1;32m   1957\u001b[0m \u001b[0;34m\u001b[0m\u001b[0m\n\u001b[1;32m   1958\u001b[0m     \u001b[0;32mdef\u001b[0m \u001b[0mwrite\u001b[0m\u001b[0;34m(\u001b[0m\u001b[0mself\u001b[0m\u001b[0;34m,\u001b[0m \u001b[0;34m*\u001b[0m\u001b[0margs\u001b[0m\u001b[0;34m,\u001b[0m \u001b[0;34m**\u001b[0m\u001b[0mkwargs\u001b[0m\u001b[0;34m)\u001b[0m\u001b[0;34m:\u001b[0m\u001b[0;34m\u001b[0m\u001b[0m\n",
      "\u001b[0;32m/Users/xavier/local/Python/astropy/astropy/io/registry.pyc\u001b[0m in \u001b[0;36mread\u001b[0;34m(cls, *args, **kwargs)\u001b[0m\n\u001b[1;32m    324\u001b[0m \u001b[0;34m\u001b[0m\u001b[0m\n\u001b[1;32m    325\u001b[0m         \u001b[0mreader\u001b[0m \u001b[0;34m=\u001b[0m \u001b[0mget_reader\u001b[0m\u001b[0;34m(\u001b[0m\u001b[0mformat\u001b[0m\u001b[0;34m,\u001b[0m \u001b[0mcls\u001b[0m\u001b[0;34m)\u001b[0m\u001b[0;34m\u001b[0m\u001b[0m\n\u001b[0;32m--> 326\u001b[0;31m         \u001b[0mdata\u001b[0m \u001b[0;34m=\u001b[0m \u001b[0mreader\u001b[0m\u001b[0;34m(\u001b[0m\u001b[0;34m*\u001b[0m\u001b[0margs\u001b[0m\u001b[0;34m,\u001b[0m \u001b[0;34m**\u001b[0m\u001b[0mkwargs\u001b[0m\u001b[0;34m)\u001b[0m\u001b[0;34m\u001b[0m\u001b[0m\n\u001b[0m\u001b[1;32m    327\u001b[0m \u001b[0;34m\u001b[0m\u001b[0m\n\u001b[1;32m    328\u001b[0m         \u001b[0;32mif\u001b[0m \u001b[0;32mnot\u001b[0m \u001b[0misinstance\u001b[0m\u001b[0;34m(\u001b[0m\u001b[0mdata\u001b[0m\u001b[0;34m,\u001b[0m \u001b[0mcls\u001b[0m\u001b[0;34m)\u001b[0m\u001b[0;34m:\u001b[0m\u001b[0;34m\u001b[0m\u001b[0m\n",
      "\u001b[0;31mTypeError\u001b[0m: read_table_fits() got an unexpected keyword argument 'fill_values'"
     ]
    }
   ],
   "source": [
    "fil='/Users/xavier/CASBAH/Galaxies/PG1407+265/PG1407+265_targets.fits'\n",
    "tmp = Table.read(fil,fill_values=[('N/A','0','MASK_NAME')],format='fits')"
   ]
  },
  {
   "cell_type": "code",
   "execution_count": null,
   "metadata": {
    "collapsed": true
   },
   "outputs": [],
   "source": []
  }
 ],
 "metadata": {
  "kernelspec": {
   "display_name": "Python 2",
   "language": "python",
   "name": "python2"
  },
  "language_info": {
   "codemirror_mode": {
    "name": "ipython",
    "version": 2
   },
   "file_extension": ".py",
   "mimetype": "text/x-python",
   "name": "python",
   "nbconvert_exporter": "python",
   "pygments_lexer": "ipython2",
   "version": "2.7.10"
  }
 },
 "nbformat": 4,
 "nbformat_minor": 0
}
