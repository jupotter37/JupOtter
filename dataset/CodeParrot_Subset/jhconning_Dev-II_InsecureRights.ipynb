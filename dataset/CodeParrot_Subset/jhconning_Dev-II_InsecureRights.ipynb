{
 "cells": [
  {
   "cell_type": "markdown",
   "metadata": {},
   "source": [
    "# Causes and consequences of insecure Property Rights to land\n",
    "\n",
    "Insecure property rights to land can affect investement decisions and the nature and efficiency of agrarian production organization by affecting the market for tenancies and land sales. \n",
    "\n",
    "The relationship between property rights insecurity and investment is not as obvious as it might appear at first.  While it might seem obvious that property rights insecurity (e.g. the possibility of expropriation) could only reduce incentives to invest and trade this is less obvious once you consider that informal investments might be undertaken to strengthen property rights claims in environments where they might be contested. Think of the homesteader or the informal slum dweller who builds a solid foundation for their home, fences what they consider their property, and builds other 'defences' in the hope that this will exclude others and dissuade a would-be-evicter.\n",
    "\n",
    "There's a rich literature on this topic, including the readings by Besley (1995), de Soto's *Mystery of Capital*, and *The Other Path* books, the survey by Conning and Deb (2008) and many many others.  In time I'll try to find time to fill out this introduction, in the meantime the rest of the notebook focuses on a short synthesis of Conning and Robinson (2007)."
   ]
  },
  {
   "cell_type": "markdown",
   "metadata": {},
   "source": [
    "## Conning & Robinson (2007): Property Rights and the Political Organization of Agriculture\n",
    "\n",
    "This is a simplified version of Conning and Robinson's 2007 paper in the Journal of Development Economics, a \"general equilibrium model where the organization of agriculture and the political equilibrium determining the security of property rights are jointly determined.\n",
    "\n",
    "In its present form this notebook focuses primarily on the economic side of the model which demonstrates how insecure property rights to land (e.g. the risk of expropriation) might affect the equilibrium level of land leasing and equilibrium factor prices.  The dull details of the probabilistic voting model that determines the equilibrium political risk of expropriation are left for another time.\n",
    "\n",
    "The model is another in the family of general equilibrium models of the size distribution of farms that we've already analyzed.  In all cases we have an economy with an agricultural technology that is linear homogenous in farming skill $S$, land $T$ and labor $L$. We showed that even though there was no market for farm management skills (so $S$ is a non-traded asset) efficient resource allocations could be achieved if we had competitive land and labor markets that allowed households to achieve their efficient scale. This model is similar to Lucas' 1978 size distribution of business firms and would explain the size distribution of farms as determined by an underlying distribution of farming skills across households. In this model efficiency of allocation is independent of the initial distribution of factors $S, T,$ and $L$ in the population.\n",
    "\n",
    "If, in addition to the imperfection in the market for non-traded farming skills, we add a distortion to either the market for land or labor, efficiency can no longer be achieved.\n",
    "\n",
    "Eswaran and Kotwal 1996 paper on \"Access to Capital and Production Organization\" can be viewed as a variant on this type of benchmark model.  They introduce two simultaneous distortions. They require that supervisory labor be used at increasing cost to supervise any hired labor.  This is loosely analogous to our shutting down the market for farming skill (or supervision) ability.  The second constraint is a distortion in the market for working capital which determines that households with low initial wealth (principally ownership of land) will be constrained in the market for working capital (in our benchmark model we implicitly assumed working capital could always be financed).  The interaction of these two types of distortion determines that allocations cannot be efficient and also the shape of the equilibrium agrarian 'class structure' or occupational choice hiearchy).  Even though in effect all farms have the same farming skill, households with less ownership of land are more likely to be constrained in access to working capital and hence have to drop out of production entirely (to become 'pure laborers') or may be a constrained 'labor-cultivator' who runs a small farm and then sells labor on the market.  In addition households may be constrained or unconstrained 'capitalist' farms that hire other workers. \n",
    "\n",
    "Conning and Robinson's paper sets itself up against a similar benchmark model, but in a two period world.  In a world with complete security of property rights land and labor markets will allocate land efficiently across farms in agriculture and labor efficiently across farms in agriculture and manufacturing activities in urban areas. The size distribution of farms in agriculture will be efficient and completely determined by the initial distribution of non-traded farming skills.  Land tenancy markets will be efficient and active.  Take the case of all households having the same farming skill. If landlords have relatively large amounts of land they will lease it out to tenants to bring the distribution of operational farm sizes in line with the distribution of farming skills.  \n",
    "\n",
    "Starting with this benchmark the model asks what would happen if we introduce property rights insecurity in the form of the possibility of a 'land to the tiller' land or tenancy reform. "
   ]
  },
  {
   "cell_type": "markdown",
   "metadata": {
    "collapsed": true
   },
   "source": [
    "### The Model with secure property rights"
   ]
  },
  {
   "cell_type": "markdown",
   "metadata": {},
   "source": [
    "To simplify greatly assume there are just two population groups: landlords and peasant households. They have access to the follwowing production technologies:\n",
    "\n",
    "_Peasants_: $F(T,L)$ \n",
    "_Landlords_:$G(T,L)=A_l F(T,L)$\n",
    "\n",
    "When $A_l = 1$ landlord and peasant production technologies are identical, when $A_l > 1$ landlords are more skilled farmers and we associate that with higher productivity of labor and capital.  For the moment assume $A_l = 1$.  \n",
    "\n",
    "Landlord and peasant housholds are each endowed with 1 unit of labor. There are $\\bar L$ households overall of which proportion $n_p$ are peasant households and proportion $n_l$ are landlord households.  For example if $\\bar L = 100$ and $n_p = 0.90$ there would be 90 peasant households and 10 landlord households.\n",
    "\n",
    "We will assume there is an urban sector where production takes place using production function $H(L)$ which is subject to decreasing returns. In equilibrium $L_u$ units of labor will leave agriculture to work in the city."
   ]
  },
  {
   "cell_type": "markdown",
   "metadata": {},
   "source": [
    "The only difference between landlord and peasant households then is their ownership of land. Landlords as a group own fraction $\\theta$ of the overall land endowment. That means that each landlord household owns\n",
    "\n",
    "$$\\frac{\\theta}{n_l} \\bar t $$\n",
    "\n",
    "units of land where $\\bar t = \\frac{\\bar T}{\\bar L}$\n",
    "\n",
    "Since by definition landlords own more land then peasants $\\theta > n_l$"
   ]
  },
  {
   "cell_type": "markdown",
   "metadata": {},
   "source": [
    "In a world of secure property rights the first period allocations will be identical to the second period allocations, and in any given period efficient allocation will be characterized by:\n",
    "\n",
    "$$w = F_L(T_p,L_p) = G_L(T_l,L_l) = H(L_u)$$\n",
    "\n",
    "$$r = F_T(T_p,L_p) = G_T(T_l,L_l)$$"
   ]
  },
  {
   "cell_type": "markdown",
   "metadata": {
    "collapsed": true
   },
   "source": [
    "In the special case where landlord and peasant farming skill is identical efficient production allocations will be identical on all $\\bar L$ farms and equal to \n",
    "\n",
    "$$T^e = \\frac{\\bar T}{\\bar L}$$\n",
    "\n",
    "$$L^e = \\frac{\\bar L -L^e_u} {\\bar L}$$\n",
    "\n",
    "where $L^e_u$ is pinned down by $F_L(T^e,L^e) = w = H_L(L^e_u)$.  "
   ]
  },
  {
   "cell_type": "markdown",
   "metadata": {},
   "source": [
    "It's easy to show the efficient share of cultivated land under tenancy should be \n",
    "\n",
    "$$\\tau_e = \\theta - n_l$$\n",
    "\n",
    "Intuitively, the higher the concentration of land $\\theta$ the more land needs to be under tenancy to equalize farm sizes."
   ]
  },
  {
   "cell_type": "markdown",
   "metadata": {},
   "source": [
    "### The Model with insecure property rights"
   ]
  },
  {
   "cell_type": "markdown",
   "metadata": {},
   "source": [
    "We now extend the setting to allow the initial production period to be followed by a political contest that will decide the likelihood of future property rights reforms that may affect ownership claims in a final production period.\n",
    "\n",
    "Households will choose factors of production as before except that there is now the threat that a tenancy reform may occur with (possibly zero) probability $\\alpha$. \n",
    "\n",
    "If a reform takes place all sitting tenants obtain protection from eviction on fraction (1-κ) of the land they leased in the pre-reform period and they will only have to pay a new capped rental rate v for those leases in the following period, where v will generally be set at or below the post-reform market equilibrium rental rate $v^e$"
   ]
  },
  {
   "cell_type": "markdown",
   "metadata": {},
   "source": [
    "One interpretation of κ is that the reform beneficiary might have to pay monetary expenses $κ(v^e-\\bar v)$ per unit land transferred to cover such things as property registration paperwork, new taxes, excess loan financing costs, or other transaction or setup costs.  The value of κ will be a key parameter establishing the size of the gap between the value of property rights lost by the landlord and the value of benefits transferred to the tenant or squatter.\n",
    "\n",
    "In a post-reform competitive equilibrium this transaction cost will be reflected in land rent and sale prices and how its burden is shared between landlord and tenant it would not matter if we had instead imposed these transaction costs directly on the landlord."
   ]
  },
  {
   "cell_type": "markdown",
   "metadata": {},
   "source": [
    "To simplify matters it is assumed that no further alteration of property rights can take place after the reform.  This implies that in the post-reform production period efficient resource allocation $(T_{e},L_{e},L_{ue})$ will be achieved at market factor prices $v^{e}=F_{T}(T_{e},L_{e})$ and $w^{e}=F_{L}(T_{e},L_{e})$, except of course that reform beneficiaries now earn additional incomes generated by the transfer of property rights. "
   ]
  },
  {
   "cell_type": "markdown",
   "metadata": {},
   "source": [
    "We can model agrarian reforms of different type and depth by varying the three parameters $α,v$ and $κ$.   For example, one may think of $v =0$ as expropriation without compensation to the landlord while $0<v <v^{e}$ could be thought of as a tenancy reform with a rent ceiling, or as a land reform with partial compensation.  From a landlord's perspective a property rights reform means facing the prospect of being forced to cede the $(θt/n^{l}-T_{l})$ units of land they put under lease in the pre-reform phase at below-market rental rate v in the post-reform period. "
   ]
  },
  {
   "cell_type": "markdown",
   "metadata": {},
   "source": [
    "Anticipating this the landlord will now choose $L_{l}$ and $T_{l}$ (and hence also how much land to lease out) in a preemptive manner, considering the risk that tenants may become squatters or agrarian reform beneficiaries.  \n",
    "\n",
    "(Each individual landlord and peasant is assumed too small to internalize how their own production decisions might affect the subsequent political equilibrium and takes α as given.)"
   ]
  },
  {
   "cell_type": "markdown",
   "metadata": {},
   "source": [
    "Taking their conjecture of α as given, each landlord now chooses pre-reform factor inputs $T_{l}$ and $L_{l}$ to maximize the expected discounted value of farm profits plus factor sales taking into account that property rights over land leased out will be challenged in the event of reform:"
   ]
  },
  {
   "cell_type": "markdown",
   "metadata": {},
   "source": [
    "\n",
    "$$V^{l} = [Π^{l}(T_{l},L_{l})+w+vθt/n^{l}]$$\n",
    "$$+\\alpha [Π^{l}(T_{e},L_{e})+w+v^{e}θt/n^{l}-(v^{e}-v)[θt/n^{l}-T_{l}]]$$\n",
    "$$+(1-α)[Π^{l}(T_{e},L_{e})+w^{e}+v^{e}θt/n^{l}]$$\n",
    "\n"
   ]
  },
  {
   "cell_type": "markdown",
   "metadata": {
    "collapsed": true
   },
   "source": [
    "Stated more compactly:"
   ]
  },
  {
   "cell_type": "markdown",
   "metadata": {},
   "source": [
    "$$ V^{l}=[Π^{l}(T_{l},L_{l})+w+vθt/n^{l}]+[Π^{l}(T_{e},L_{e})+w+v_{e}θt/n^{l}]$$\n",
    "$$-\\alpha (v^{e}-\\bar v)(θt/n^{l}-T_{l})$$"
   ]
  },
  {
   "cell_type": "markdown",
   "metadata": {},
   "source": [
    "The first two bracketed terms measure expected returns over the two periods under secure property rights (albeit with distortions in the first period) while the last term captures the expected loss of income from having to possibly cede property rights to a squatter or reform beneficiary in the second period."
   ]
  },
  {
   "cell_type": "markdown",
   "metadata": {},
   "source": [
    "The peasant household will similarly choose $T_{p}$ and $L_{p}$ to maximize earnings from farm profits plus factor sales taking into account the prospect (summarized by α) that they may acquire squatter rights over any land that they leased in the first period.  We assume that in a post-reform period a tenant has to pay only the regulated rate v but can lease that land back out onto the market, to earn a windfall rent of $(v^{e}-\\bar v)$ per unit land. The tenant's discounted expected payoff is therefore:"
   ]
  },
  {
   "cell_type": "markdown",
   "metadata": {},
   "source": [
    "$$V^{p}=[Π^{p}(T_{p},L_{p})+w+v(1-θ)t/n^{p}]+[Π^{p}(T_{e},L_{e})+w^{e}+v^{e}(1-θ)t/n^{p}]$$\n",
    "$$+α(1-κ)(v^{e}-\\bar v)(T_{p}-(1-θ)t/n^{p})$$"
   ]
  },
  {
   "cell_type": "markdown",
   "metadata": {},
   "source": [
    "The second line captures the expected windfall gain the peasant/tenant from a transfer of rights toward the tenant."
   ]
  },
  {
   "cell_type": "markdown",
   "metadata": {},
   "source": [
    "The first-order conditions for a competitive equilibrium with respect to first period land input choices are now given by:"
   ]
  },
  {
   "cell_type": "markdown",
   "metadata": {},
   "source": [
    "$$G_{T}(T_{l},L_{l})=F_{T}(T_{p},L_{p})-ακ(v^{e}-v)$$\n",
    "\n",
    "$$G_{L}(T_{l},L_{l})=F_{T}(T_{p},L_{p})=H_{L}(L_{u})$$"
   ]
  },
  {
   "cell_type": "markdown",
   "metadata": {},
   "source": [
    "**REMARK** *Even with a positive threat of property rights reform α>0, equilibrium allocations will remain efficient as long as κ=0*"
   ]
  },
  {
   "cell_type": "markdown",
   "metadata": {},
   "source": [
    "At first blush this might seem slightly surprising.  When there are no transaction costs involved in transferring land under a reform market allocations will be efficient even though there may be a positive probability (or even a certainty) of a property rights reforms.\n",
    "\n",
    "Yes a reform will compel a landlord to surrender property rights to tenant-cum-squatters in the following period but this possibility is fully anticipated and causes no distortion because we have in effect left open a market for \"squatter rights\". Tenants understand that they may capture a windfall rent from the reform and in effect pay the going market rate for the right to be a sitting tenant/squatter. "
   ]
  },
  {
   "cell_type": "markdown",
   "metadata": {},
   "source": [
    "Now this might sound somewhat incredible but in fact if you read *The Other Path: the invisible revolution in the third world* the book that made Hernando de Soto world famous and that describes in great detail the organization of land squatting invasions in Lima Peru you will find de Soto dedicating several pages to describing precisely such arrangements. He argues in effect that many land-invasions take place with the explicit cooperation of owners who often in fact demand payments in advance for allowing the squatters into their properties ahead of staged invasions.  This happens in particular in situations where land is not zoned for residential occupancy.\n",
    "\n",
    "But even more striking evidence of this happening comes from work of Jeon and Kim (2000) who analyze what happened in the land market in Korea following when the Japanese were forced to suddently and completely abandon the Korean peninsula and Korea came under the US military administration in August 1945.  Tenancy under the Japanese colonial administration 1919-45 had been a widespread phenomenon as by one measure over 56 percent of farmer households were tenants and 58 percent of farmland was under tenancy in 1939. Although tenant protests demanding lower rents were not uncommon, the Japanese colonial military presence had strictly enforced landlord's property rights. With the Japanese military suddenly gone the eventuality of land reform became a near certainty.  The interesting thing is that the authors document that in the period just prior to this anticipated reform 60 percent of landlords -- mostly the larger ones -- sold their land to tenants via the market at reduced prices before 1950. More than twice as much land was sold by landlords in anticipation of the reform than was eventually transferred directly via the land reform process.\n",
    "\n",
    "Most land reforms are however messy and somewhat uncertain affairs. A more realistic assumption is that the transfer of property rights will not be costless and without leakage, and therefore that $\\kappa >0$. When this is the case:"
   ]
  },
  {
   "cell_type": "markdown",
   "metadata": {},
   "source": [
    "**Proposition:** When κ>0, and as long as non-traded input S remains an essential input, then the expectation of reform (α>0) leads landlords to defensively *suppress* tenancy, or $T_l<T^e$.  Landlord farms will become larger and more land-intensive, and peasant farms smaller and more labor-intensive than the first best efficient scale. Peasant off-farm labor supply and rural to urban migration will increase.  "
   ]
  },
  {
   "cell_type": "markdown",
   "metadata": {},
   "source": [
    "Anythin that increases the size of the wedge between the effective rental rate the tenant pays and the landlord can expect to recover $\\alpha \\kappa(v^{e}-\\bar v)$ will strengthen tenancy suppression.  So a higher probability of reform $\\alpha$ a higher leakage rate $\\kappa$ or a lower cap $\\bar v$ on the rental rate in the post-reform period all contribute to a landlord trying to protect a larger fraction of his land from tenancy-would-be-reform-beneficiaries in the first period.  It can be shown that in equilibrium this witholding of land makes landlord farms bigger, peasant farms smaller and leads peasant off-farm labor supply to increase which would drive down equilibrium wages."
   ]
  }
 ],
 "metadata": {
  "kernelspec": {
   "display_name": "Python 3",
   "language": "python",
   "name": "python3"
  },
  "language_info": {
   "codemirror_mode": {
    "name": "ipython",
    "version": 3
   },
   "file_extension": ".py",
   "mimetype": "text/x-python",
   "name": "python",
   "nbconvert_exporter": "python",
   "pygments_lexer": "ipython3",
   "version": "3.5.1"
  }
 },
 "nbformat": 4,
 "nbformat_minor": 0
}
