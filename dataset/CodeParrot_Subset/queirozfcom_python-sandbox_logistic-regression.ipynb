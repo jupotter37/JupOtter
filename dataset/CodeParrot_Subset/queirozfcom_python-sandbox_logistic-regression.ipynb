{
 "cells": [
  {
   "cell_type": "code",
   "execution_count": 1,
   "metadata": {},
   "outputs": [
    {
     "name": "stderr",
     "output_type": "stream",
     "text": [
      "Using TensorFlow backend.\n"
     ]
    }
   ],
   "source": [
    "import keras\n",
    "import numpy as np\n",
    "import pandas as pd\n",
    "\n",
    "from keras.layers import Input, Dense\n",
    "from keras.models import Model, Sequential\n",
    "\n",
    "from sklearn.preprocessing import StandardScaler, MinMaxScaler, Normalizer"
   ]
  },
  {
   "cell_type": "code",
   "execution_count": 2,
   "metadata": {
    "collapsed": true
   },
   "outputs": [],
   "source": [
    "df = pd.read_csv(\"../housing-conditions-in-copenhagen/data.csv\",sep=\"\\s+\")"
   ]
  },
  {
   "cell_type": "code",
   "execution_count": 3,
   "metadata": {},
   "outputs": [
    {
     "data": {
      "text/html": [
       "<div>\n",
       "<style>\n",
       "    .dataframe thead tr:only-child th {\n",
       "        text-align: right;\n",
       "    }\n",
       "\n",
       "    .dataframe thead th {\n",
       "        text-align: left;\n",
       "    }\n",
       "\n",
       "    .dataframe tbody tr th {\n",
       "        vertical-align: top;\n",
       "    }\n",
       "</style>\n",
       "<table border=\"1\" class=\"dataframe\">\n",
       "  <thead>\n",
       "    <tr style=\"text-align: right;\">\n",
       "      <th></th>\n",
       "      <th>housing</th>\n",
       "      <th>influence</th>\n",
       "      <th>contact_with_neighbours</th>\n",
       "      <th>satisfaction</th>\n",
       "      <th>n</th>\n",
       "    </tr>\n",
       "  </thead>\n",
       "  <tbody>\n",
       "    <tr>\n",
       "      <th>1</th>\n",
       "      <td>1</td>\n",
       "      <td>1</td>\n",
       "      <td>1</td>\n",
       "      <td>1</td>\n",
       "      <td>21</td>\n",
       "    </tr>\n",
       "    <tr>\n",
       "      <th>2</th>\n",
       "      <td>1</td>\n",
       "      <td>1</td>\n",
       "      <td>1</td>\n",
       "      <td>2</td>\n",
       "      <td>21</td>\n",
       "    </tr>\n",
       "    <tr>\n",
       "      <th>3</th>\n",
       "      <td>1</td>\n",
       "      <td>1</td>\n",
       "      <td>1</td>\n",
       "      <td>3</td>\n",
       "      <td>28</td>\n",
       "    </tr>\n",
       "    <tr>\n",
       "      <th>4</th>\n",
       "      <td>1</td>\n",
       "      <td>1</td>\n",
       "      <td>2</td>\n",
       "      <td>1</td>\n",
       "      <td>14</td>\n",
       "    </tr>\n",
       "    <tr>\n",
       "      <th>5</th>\n",
       "      <td>1</td>\n",
       "      <td>1</td>\n",
       "      <td>2</td>\n",
       "      <td>2</td>\n",
       "      <td>19</td>\n",
       "    </tr>\n",
       "  </tbody>\n",
       "</table>\n",
       "</div>"
      ],
      "text/plain": [
       "   housing  influence  contact_with_neighbours  satisfaction   n\n",
       "1        1          1                        1             1  21\n",
       "2        1          1                        1             2  21\n",
       "3        1          1                        1             3  28\n",
       "4        1          1                        2             1  14\n",
       "5        1          1                        2             2  19"
      ]
     },
     "execution_count": 3,
     "metadata": {},
     "output_type": "execute_result"
    }
   ],
   "source": [
    "df.head()"
   ]
  },
  {
   "cell_type": "code",
   "execution_count": 4,
   "metadata": {},
   "outputs": [
    {
     "data": {
      "text/html": [
       "<div>\n",
       "<style>\n",
       "    .dataframe thead tr:only-child th {\n",
       "        text-align: right;\n",
       "    }\n",
       "\n",
       "    .dataframe thead th {\n",
       "        text-align: left;\n",
       "    }\n",
       "\n",
       "    .dataframe tbody tr th {\n",
       "        vertical-align: top;\n",
       "    }\n",
       "</style>\n",
       "<table border=\"1\" class=\"dataframe\">\n",
       "  <thead>\n",
       "    <tr style=\"text-align: right;\">\n",
       "      <th></th>\n",
       "      <th>housing</th>\n",
       "      <th>influence</th>\n",
       "      <th>contact_with_neighbours</th>\n",
       "      <th>satisfaction</th>\n",
       "      <th>n</th>\n",
       "    </tr>\n",
       "  </thead>\n",
       "  <tbody>\n",
       "    <tr>\n",
       "      <th>count</th>\n",
       "      <td>72.00000</td>\n",
       "      <td>72.000000</td>\n",
       "      <td>72.000000</td>\n",
       "      <td>72.000000</td>\n",
       "      <td>72.000000</td>\n",
       "    </tr>\n",
       "    <tr>\n",
       "      <th>mean</th>\n",
       "      <td>2.50000</td>\n",
       "      <td>2.000000</td>\n",
       "      <td>1.500000</td>\n",
       "      <td>2.000000</td>\n",
       "      <td>23.347222</td>\n",
       "    </tr>\n",
       "    <tr>\n",
       "      <th>std</th>\n",
       "      <td>1.12588</td>\n",
       "      <td>0.822226</td>\n",
       "      <td>0.503509</td>\n",
       "      <td>0.822226</td>\n",
       "      <td>17.666041</td>\n",
       "    </tr>\n",
       "    <tr>\n",
       "      <th>min</th>\n",
       "      <td>1.00000</td>\n",
       "      <td>1.000000</td>\n",
       "      <td>1.000000</td>\n",
       "      <td>1.000000</td>\n",
       "      <td>3.000000</td>\n",
       "    </tr>\n",
       "    <tr>\n",
       "      <th>25%</th>\n",
       "      <td>1.75000</td>\n",
       "      <td>1.000000</td>\n",
       "      <td>1.000000</td>\n",
       "      <td>1.000000</td>\n",
       "      <td>10.000000</td>\n",
       "    </tr>\n",
       "    <tr>\n",
       "      <th>50%</th>\n",
       "      <td>2.50000</td>\n",
       "      <td>2.000000</td>\n",
       "      <td>1.500000</td>\n",
       "      <td>2.000000</td>\n",
       "      <td>19.500000</td>\n",
       "    </tr>\n",
       "    <tr>\n",
       "      <th>75%</th>\n",
       "      <td>3.25000</td>\n",
       "      <td>3.000000</td>\n",
       "      <td>2.000000</td>\n",
       "      <td>3.000000</td>\n",
       "      <td>31.750000</td>\n",
       "    </tr>\n",
       "    <tr>\n",
       "      <th>max</th>\n",
       "      <td>4.00000</td>\n",
       "      <td>3.000000</td>\n",
       "      <td>2.000000</td>\n",
       "      <td>3.000000</td>\n",
       "      <td>86.000000</td>\n",
       "    </tr>\n",
       "  </tbody>\n",
       "</table>\n",
       "</div>"
      ],
      "text/plain": [
       "        housing  influence  contact_with_neighbours  satisfaction          n\n",
       "count  72.00000  72.000000                72.000000     72.000000  72.000000\n",
       "mean    2.50000   2.000000                 1.500000      2.000000  23.347222\n",
       "std     1.12588   0.822226                 0.503509      0.822226  17.666041\n",
       "min     1.00000   1.000000                 1.000000      1.000000   3.000000\n",
       "25%     1.75000   1.000000                 1.000000      1.000000  10.000000\n",
       "50%     2.50000   2.000000                 1.500000      2.000000  19.500000\n",
       "75%     3.25000   3.000000                 2.000000      3.000000  31.750000\n",
       "max     4.00000   3.000000                 2.000000      3.000000  86.000000"
      ]
     },
     "execution_count": 4,
     "metadata": {},
     "output_type": "execute_result"
    }
   ],
   "source": [
    "df.describe()"
   ]
  },
  {
   "cell_type": "code",
   "execution_count": 5,
   "metadata": {
    "collapsed": true
   },
   "outputs": [],
   "source": [
    "df_new = pd.concat([df,pd.get_dummies(df[\"housing\"],prefix=\"housing\")],axis=1).drop([\"housing\"],axis=1)\n",
    "df_new = pd.concat([df_new,pd.get_dummies(df[\"influence\"],prefix=\"influence\")],axis=1).drop([\"influence\"],axis=1)\n",
    "df_new = pd.concat([df_new,pd.get_dummies(df[\"satisfaction\"],prefix=\"satisfaction\")],axis=1).drop([\"satisfaction\"],axis=1)"
   ]
  },
  {
   "cell_type": "code",
   "execution_count": 6,
   "metadata": {
    "collapsed": true
   },
   "outputs": [],
   "source": [
    "df_new[\"contact_with_neighbours\"] = df_new[\"contact_with_neighbours\"].map(lambda v: 0 if v == 1 else 1)\n",
    "\n",
    "df_new = df_new.drop([\"n\"])"
   ]
  },
  {
   "cell_type": "code",
   "execution_count": 7,
   "metadata": {
    "scrolled": true
   },
   "outputs": [
    {
     "data": {
      "text/html": [
       "<div>\n",
       "<style>\n",
       "    .dataframe thead tr:only-child th {\n",
       "        text-align: right;\n",
       "    }\n",
       "\n",
       "    .dataframe thead th {\n",
       "        text-align: left;\n",
       "    }\n",
       "\n",
       "    .dataframe tbody tr th {\n",
       "        vertical-align: top;\n",
       "    }\n",
       "</style>\n",
       "<table border=\"1\" class=\"dataframe\">\n",
       "  <thead>\n",
       "    <tr style=\"text-align: right;\">\n",
       "      <th></th>\n",
       "      <th>contact_with_neighbours</th>\n",
       "      <th>n</th>\n",
       "      <th>housing_1</th>\n",
       "      <th>housing_2</th>\n",
       "      <th>housing_3</th>\n",
       "      <th>housing_4</th>\n",
       "      <th>influence_1</th>\n",
       "      <th>influence_2</th>\n",
       "      <th>influence_3</th>\n",
       "      <th>satisfaction_1</th>\n",
       "      <th>satisfaction_2</th>\n",
       "      <th>satisfaction_3</th>\n",
       "    </tr>\n",
       "  </thead>\n",
       "  <tbody>\n",
       "    <tr>\n",
       "      <th>1</th>\n",
       "      <td>0</td>\n",
       "      <td>21</td>\n",
       "      <td>1</td>\n",
       "      <td>0</td>\n",
       "      <td>0</td>\n",
       "      <td>0</td>\n",
       "      <td>1</td>\n",
       "      <td>0</td>\n",
       "      <td>0</td>\n",
       "      <td>1</td>\n",
       "      <td>0</td>\n",
       "      <td>0</td>\n",
       "    </tr>\n",
       "    <tr>\n",
       "      <th>2</th>\n",
       "      <td>0</td>\n",
       "      <td>21</td>\n",
       "      <td>1</td>\n",
       "      <td>0</td>\n",
       "      <td>0</td>\n",
       "      <td>0</td>\n",
       "      <td>1</td>\n",
       "      <td>0</td>\n",
       "      <td>0</td>\n",
       "      <td>0</td>\n",
       "      <td>1</td>\n",
       "      <td>0</td>\n",
       "    </tr>\n",
       "    <tr>\n",
       "      <th>3</th>\n",
       "      <td>0</td>\n",
       "      <td>28</td>\n",
       "      <td>1</td>\n",
       "      <td>0</td>\n",
       "      <td>0</td>\n",
       "      <td>0</td>\n",
       "      <td>1</td>\n",
       "      <td>0</td>\n",
       "      <td>0</td>\n",
       "      <td>0</td>\n",
       "      <td>0</td>\n",
       "      <td>1</td>\n",
       "    </tr>\n",
       "    <tr>\n",
       "      <th>4</th>\n",
       "      <td>1</td>\n",
       "      <td>14</td>\n",
       "      <td>1</td>\n",
       "      <td>0</td>\n",
       "      <td>0</td>\n",
       "      <td>0</td>\n",
       "      <td>1</td>\n",
       "      <td>0</td>\n",
       "      <td>0</td>\n",
       "      <td>1</td>\n",
       "      <td>0</td>\n",
       "      <td>0</td>\n",
       "    </tr>\n",
       "    <tr>\n",
       "      <th>5</th>\n",
       "      <td>1</td>\n",
       "      <td>19</td>\n",
       "      <td>1</td>\n",
       "      <td>0</td>\n",
       "      <td>0</td>\n",
       "      <td>0</td>\n",
       "      <td>1</td>\n",
       "      <td>0</td>\n",
       "      <td>0</td>\n",
       "      <td>0</td>\n",
       "      <td>1</td>\n",
       "      <td>0</td>\n",
       "    </tr>\n",
       "  </tbody>\n",
       "</table>\n",
       "</div>"
      ],
      "text/plain": [
       "   contact_with_neighbours   n  housing_1  housing_2  housing_3  housing_4  \\\n",
       "1                        0  21          1          0          0          0   \n",
       "2                        0  21          1          0          0          0   \n",
       "3                        0  28          1          0          0          0   \n",
       "4                        1  14          1          0          0          0   \n",
       "5                        1  19          1          0          0          0   \n",
       "\n",
       "   influence_1  influence_2  influence_3  satisfaction_1  satisfaction_2  \\\n",
       "1            1            0            0               1               0   \n",
       "2            1            0            0               0               1   \n",
       "3            1            0            0               0               0   \n",
       "4            1            0            0               1               0   \n",
       "5            1            0            0               0               1   \n",
       "\n",
       "   satisfaction_3  \n",
       "1               0  \n",
       "2               0  \n",
       "3               1  \n",
       "4               0  \n",
       "5               0  "
      ]
     },
     "execution_count": 7,
     "metadata": {},
     "output_type": "execute_result"
    }
   ],
   "source": [
    "df_new.head()"
   ]
  },
  {
   "cell_type": "code",
   "execution_count": 89,
   "metadata": {
    "collapsed": true
   },
   "outputs": [],
   "source": [
    "y = df_new[\"contact_with_neighbours\"].values.reshape(-1,1)\n",
    "X = df_new.drop([\"contact_with_neighbours\"], axis=1).values"
   ]
  },
  {
   "cell_type": "code",
   "execution_count": 90,
   "metadata": {},
   "outputs": [],
   "source": [
    "# sc = StandardScaler()\n",
    "# X = sc.fit_transform(X)"
   ]
  },
  {
   "cell_type": "code",
   "execution_count": 91,
   "metadata": {},
   "outputs": [
    {
     "data": {
      "text/plain": [
       "((72, 1), (72, 11))"
      ]
     },
     "execution_count": 91,
     "metadata": {},
     "output_type": "execute_result"
    }
   ],
   "source": [
    "y.shape, X.shape"
   ]
  },
  {
   "cell_type": "code",
   "execution_count": 92,
   "metadata": {
    "collapsed": true
   },
   "outputs": [],
   "source": [
    "indices = np.arange(72)\n",
    "np.random.shuffle(indices)\n",
    "num_validation_samples = int(0.2*72)\n",
    "\n",
    "y = y[indices]\n",
    "X = X[indices]\n",
    "\n",
    "X_train = X[:-num_validation_samples]\n",
    "y_train = y[:-num_validation_samples]\n",
    "X_val = X[-num_validation_samples:]\n",
    "y_val = y[-num_validation_samples:]"
   ]
  },
  {
   "cell_type": "code",
   "execution_count": 93,
   "metadata": {},
   "outputs": [
    {
     "data": {
      "text/plain": [
       "((58, 11), (58, 1), (14, 11), (14, 1))"
      ]
     },
     "execution_count": 93,
     "metadata": {},
     "output_type": "execute_result"
    }
   ],
   "source": [
    "X_train.shape,y_train.shape,X_val.shape, y_val.shape"
   ]
  },
  {
   "cell_type": "code",
   "execution_count": 99,
   "metadata": {
    "scrolled": true
   },
   "outputs": [
    {
     "name": "stderr",
     "output_type": "stream",
     "text": [
      "/home/felipe/tf-venv3/lib/python3.5/site-packages/ipykernel_launcher.py:8: UserWarning: Update your `Dense` call to the Keras 2 API: `Dense(1, kernel_initializer=\"glorot_uniform\", activation=\"sigmoid\", input_dim=11)`\n",
      "  \n"
     ]
    },
    {
     "name": "stdout",
     "output_type": "stream",
     "text": [
      "Train on 58 samples, validate on 14 samples\n",
      "Epoch 1/30\n",
      "58/58 [==============================] - 0s - loss: 3.6872 - val_loss: 4.8987\n",
      "Epoch 2/30\n",
      "58/58 [==============================] - 0s - loss: 3.1931 - val_loss: 4.3503\n",
      "Epoch 3/30\n",
      "58/58 [==============================] - 0s - loss: 2.7570 - val_loss: 3.8347\n",
      "Epoch 4/30\n",
      "58/58 [==============================] - 0s - loss: 2.4010 - val_loss: 3.3106\n",
      "Epoch 5/30\n",
      "58/58 [==============================] - 0s - loss: 2.0814 - val_loss: 2.8140\n",
      "Epoch 6/30\n",
      "58/58 [==============================] - 0s - loss: 1.7635 - val_loss: 2.3486\n",
      "Epoch 7/30\n",
      "58/58 [==============================] - 0s - loss: 1.4866 - val_loss: 1.9665\n",
      "Epoch 8/30\n",
      "58/58 [==============================] - 0s - loss: 1.2881 - val_loss: 1.6689\n",
      "Epoch 9/30\n",
      "58/58 [==============================] - 0s - loss: 1.1107 - val_loss: 1.3813\n",
      "Epoch 10/30\n",
      "58/58 [==============================] - 0s - loss: 0.9732 - val_loss: 1.1473\n",
      "Epoch 11/30\n",
      "58/58 [==============================] - 0s - loss: 0.8849 - val_loss: 0.9791\n",
      "Epoch 12/30\n",
      "58/58 [==============================] - 0s - loss: 0.8177 - val_loss: 0.8943\n",
      "Epoch 13/30\n",
      "58/58 [==============================] - 0s - loss: 0.8037 - val_loss: 0.8291\n",
      "Epoch 14/30\n",
      "58/58 [==============================] - 0s - loss: 0.7842 - val_loss: 0.8239\n",
      "Epoch 15/30\n",
      "58/58 [==============================] - 0s - loss: 0.7753 - val_loss: 0.8058\n",
      "Epoch 16/30\n",
      "58/58 [==============================] - 0s - loss: 0.7701 - val_loss: 0.8029\n",
      "Epoch 17/30\n",
      "58/58 [==============================] - 0s - loss: 0.7877 - val_loss: 0.7680\n",
      "Epoch 18/30\n",
      "58/58 [==============================] - 0s - loss: 0.7633 - val_loss: 0.7721\n",
      "Epoch 19/30\n",
      "58/58 [==============================] - 0s - loss: 0.7587 - val_loss: 0.7935\n",
      "Epoch 20/30\n",
      "58/58 [==============================] - 0s - loss: 0.7576 - val_loss: 0.8060\n",
      "Epoch 21/30\n",
      "58/58 [==============================] - 0s - loss: 0.7571 - val_loss: 0.8120\n",
      "Epoch 22/30\n",
      "58/58 [==============================] - 0s - loss: 0.7453 - val_loss: 0.7862\n",
      "Epoch 23/30\n",
      "58/58 [==============================] - 0s - loss: 0.7415 - val_loss: 0.7701\n"
     ]
    },
    {
     "data": {
      "text/plain": [
       "<keras.callbacks.History at 0x7f461326bdd8>"
      ]
     },
     "execution_count": 99,
     "metadata": {},
     "output_type": "execute_result"
    }
   ],
   "source": [
    "from keras.regularizers import l1_l2\n",
    "reg = l1_l2(l1=0.01, l2=0.01)\n",
    "\n",
    "model = Sequential()\n",
    "model.add(Dense(1,\n",
    "                init='glorot_uniform',\n",
    "                activation='sigmoid', \n",
    "                input_dim=X.shape[1]))\n",
    "\n",
    "\n",
    "rmsprop = keras.optimizers.RMSprop(lr=0.01)# y = sc.fit_transform(y)\n",
    "sgd = keras.optimizers.SGD(lr=0.1)\n",
    "model.compile(optimizer=rmsprop, loss='binary_crossentropy')\n",
    "\n",
    "early_stopping = keras.callbacks.EarlyStopping(monitor='val_loss', min_delta=0, patience=5, verbose=0, mode='auto')\n",
    "\n",
    "model.fit(X_train, \n",
    "          y_train,\n",
    "          epochs=30, \n",
    "          validation_data=(X_val, y_val),\n",
    "          callbacks=[early_stopping])"
   ]
  },
  {
   "cell_type": "code",
   "execution_count": null,
   "metadata": {
    "collapsed": true
   },
   "outputs": [],
   "source": []
  }
 ],
 "metadata": {
  "kernelspec": {
   "display_name": "Global TF Kernel (Python 3)",
   "language": "python",
   "name": "global-tf-python-3"
  },
  "language_info": {
   "codemirror_mode": {
    "name": "ipython",
    "version": 3
   },
   "file_extension": ".py",
   "mimetype": "text/x-python",
   "name": "python",
   "nbconvert_exporter": "python",
   "pygments_lexer": "ipython3",
   "version": "3.5.2"
  }
 },
 "nbformat": 4,
 "nbformat_minor": 2
}
