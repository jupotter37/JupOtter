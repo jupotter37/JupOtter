{
 "cells": [
  {
   "cell_type": "code",
   "execution_count": 1,
   "metadata": {
    "collapsed": false
   },
   "outputs": [
    {
     "name": "stdout",
     "output_type": "stream",
     "text": [
      "Populating the interactive namespace from numpy and matplotlib\n"
     ]
    }
   ],
   "source": [
    "%pylab inline\n",
    "\n",
    "from sklearn.metrics import mean_squared_error\n",
    "import pandas as pd\n",
    "import xgboost as xgb\n",
    "\n",
    "from soln import expert_params\n",
    "from soln.dataset import AllCategoricalsFeaturizer\n",
    "from soln.dataset import generate_xv_splits\n",
    "from soln.dataset import get_augmented_train_and_test_set\n",
    "from soln.experts import get_predictions\n",
    "from soln.experts import train_and_save_expert\n",
    "from soln.experts import xv_eval_experts\n",
    "from soln.utils import eval_model\n",
    "from soln.utils import train_model\n",
    "\n",
    "pd.set_option('display.max_columns', None)"
   ]
  },
  {
   "cell_type": "code",
   "execution_count": 2,
   "metadata": {
    "collapsed": false
   },
   "outputs": [
    {
     "name": "stdout",
     "output_type": "stream",
     "text": [
      "CPU times: user 13.5 s, sys: 184 ms, total: 13.6 s\n",
      "Wall time: 13.8 s\n"
     ]
    }
   ],
   "source": [
    "%time aug_train_set, aug_test_set = get_augmented_train_and_test_set()"
   ]
  },
  {
   "cell_type": "code",
   "execution_count": 3,
   "metadata": {
    "collapsed": false
   },
   "outputs": [
    {
     "name": "stdout",
     "output_type": "stream",
     "text": [
      "CPU times: user 112 ms, sys: 24 ms, total: 136 ms\n",
      "Wall time: 138 ms\n",
      "(27270, 53) (27270,) (2943, 53) (2943,)\n"
     ]
    }
   ],
   "source": [
    "from itertools import islice\n",
    "fold_number = 0\n",
    "%time X_train, y_train, X_test, y_test = next(islice(generate_xv_splits(aug_train_set), fold_number, None))\n",
    "print X_train.shape, y_train.shape, X_test.shape, y_test.shape"
   ]
  },
  {
   "cell_type": "code",
   "execution_count": 4,
   "metadata": {
    "collapsed": false
   },
   "outputs": [
    {
     "name": "stdout",
     "output_type": "stream",
     "text": [
      "CPU times: user 2min 42s, sys: 1.76 s, total: 2min 43s\n",
      "Wall time: 1min 42s\n"
     ]
    }
   ],
   "source": [
    "# Baseline: Train a single model on everything.\n",
    "\n",
    "baseline_params = {\n",
    "    'objective': 'reg:linear',\n",
    "    'silent': 1,\n",
    "    'num_rounds': 1000,\n",
    "    'gamma': 0.0,\n",
    "    'eta': 0.02,\n",
    "    'max_depth': 8,\n",
    "    'min_child_weight': 6,\n",
    "    'subsample': 0.7,\n",
    "    'colsample_bytree': 0.6,\n",
    "}\n",
    "\n",
    "def all_get_indices(X):\n",
    "    return np.ones(len(X), dtype=bool)\n",
    "\n",
    "baseline_featurizer = AllCategoricalsFeaturizer()\n",
    "%time baseline = train_model(baseline_params, all_get_indices, baseline_featurizer, X_train, y_train)"
   ]
  },
  {
   "cell_type": "code",
   "execution_count": 5,
   "metadata": {
    "collapsed": false
   },
   "outputs": [
    {
     "name": "stdout",
     "output_type": "stream",
     "text": [
      "Train on everything, test on everything:\n",
      "(27270, 53)\n",
      "(27270, 53)\n",
      "(2943, 53)\n",
      "train RMSLE 0.124960740984\n",
      "test RMSLE 0.227403087285\n"
     ]
    }
   ],
   "source": [
    "baseline_train_results = eval_model(baseline['model'], all_get_indices, baseline_featurizer, X_train, y_train)\n",
    "baseline_test_results = eval_model(baseline['model'], all_get_indices, baseline_featurizer, X_test, y_test)\n",
    "print \"Train on everything, test on everything:\"\n",
    "print baseline['X_train'].shape\n",
    "print baseline_train_results['X_eval'].shape\n",
    "print baseline_test_results['X_eval'].shape\n",
    "print \"train RMSLE\", baseline_train_results['rmsle']\n",
    "print \"test RMSLE\", baseline_test_results['rmsle']"
   ]
  },
  {
   "cell_type": "code",
   "execution_count": 79,
   "metadata": {
    "collapsed": false
   },
   "outputs": [
    {
     "name": "stdout",
     "output_type": "stream",
     "text": [
      "X_train has 27270 rows and 7960 unique taids\n",
      "----- bag 0:\n",
      "this bag has 24486 rows (0.897909790979 of all) and 7164 (0.9 of all) unique taids\n",
      "CPU times: user 3min 5s, sys: 1.08 s, total: 3min 6s\n",
      "Wall time: 2min 24s\n",
      "train RMSLE 0.123432578577\n",
      "test RMSLE 0.229418813724\n",
      "----- bag 1:\n",
      "this bag has 24586 rows (0.901576824349 of all) and 7164 (0.9 of all) unique taids\n",
      "CPU times: user 2min 55s, sys: 988 ms, total: 2min 56s\n",
      "Wall time: 2min 10s\n",
      "train RMSLE 0.122111587117\n",
      "test RMSLE 0.227541088433\n",
      "----- bag 2:\n",
      "this bag has 24717 rows (0.906380638064 of all) and 7164 (0.9 of all) unique taids\n",
      "CPU times: user 2min 32s, sys: 900 ms, total: 2min 33s\n",
      "Wall time: 1min 37s\n",
      "train RMSLE 0.121361805697\n",
      "test RMSLE 0.229519295813\n",
      "----- bag 3:\n",
      "this bag has 24601 rows (0.902126879355 of all) and 7164 (0.9 of all) unique taids\n",
      "CPU times: user 2min 31s, sys: 840 ms, total: 2min 32s\n",
      "Wall time: 1min 35s\n",
      "train RMSLE 0.12122519513\n",
      "test RMSLE 0.228024319671\n",
      "----- bag 4:\n",
      "this bag has 24556 rows (0.900476714338 of all) and 7164 (0.9 of all) unique taids\n",
      "CPU times: user 2min 38s, sys: 680 ms, total: 2min 39s\n",
      "Wall time: 1min 48s\n",
      "train RMSLE 0.123122970152\n",
      "test RMSLE 0.225918550374\n",
      "----- bag 5:\n",
      "this bag has 24489 rows (0.89801980198 of all) and 7164 (0.9 of all) unique taids\n",
      "CPU times: user 2min 21s, sys: 736 ms, total: 2min 21s\n",
      "Wall time: 1min 19s\n",
      "train RMSLE 0.120961715396\n",
      "test RMSLE 0.23123137468\n",
      "----- bag 6:\n",
      "this bag has 24612 rows (0.902530253025 of all) and 7164 (0.9 of all) unique taids\n",
      "CPU times: user 2min 20s, sys: 640 ms, total: 2min 21s\n",
      "Wall time: 1min 18s\n",
      "train RMSLE 0.121177518095\n",
      "test RMSLE 0.230244874745\n",
      "----- bag 7:\n",
      "this bag has 24573 rows (0.901100110011 of all) and 7164 (0.9 of all) unique taids\n",
      "CPU times: user 2min 19s, sys: 692 ms, total: 2min 20s\n",
      "Wall time: 1min 16s\n",
      "train RMSLE 0.120974039334\n",
      "test RMSLE 0.227374436674\n",
      "----- bag 8:\n",
      "this bag has 24593 rows (0.901833516685 of all) and 7164 (0.9 of all) unique taids\n",
      "CPU times: user 2min 18s, sys: 652 ms, total: 2min 19s\n",
      "Wall time: 1min 16s\n",
      "train RMSLE 0.1206663763\n",
      "test RMSLE 0.22666532693\n"
     ]
    }
   ],
   "source": [
    "# Bagging:\n",
    "\n",
    "bag_params = {\n",
    "    'objective': 'reg:linear',\n",
    "    'silent': 1,\n",
    "    'num_rounds': 1000,\n",
    "    'gamma': 0.0,\n",
    "    'eta': 0.02,\n",
    "    'max_depth': 8,\n",
    "    'min_child_weight': 6,\n",
    "    'subsample': 0.7,\n",
    "    'colsample_bytree': 0.6,\n",
    "}\n",
    "\n",
    "all_taids = np.unique(X_train.tube_assembly_id.values)\n",
    "print \"X_train has {} rows and {} unique taids\".format(len(X_train), len(all_taids))\n",
    "\n",
    "n_bags = 9\n",
    "bags = []\n",
    "for i in xrange(n_bags):\n",
    "    print \"----- bag {}:\".format(i)\n",
    "    \n",
    "    n_bag_taids = 0.9 * len(all_taids)\n",
    "    bag_taids = np.random.choice(all_taids, size=n_bag_taids, replace=False)\n",
    "    unique_bag_taids = np.unique(bag_taids)\n",
    "    bag_is = X_train.tube_assembly_id.isin(bag_taids)\n",
    "    bag_X_train = X_train[bag_is].reset_index(drop=True)\n",
    "    bag_y_train = y_train[bag_is].reset_index(drop=True)\n",
    "    print \"this bag has {} rows ({} of all) and {} ({} of all) unique taids\".format(\n",
    "        len(bag_X_train), 1.0 * len(bag_X_train) / len(X_train),\n",
    "        len(unique_bag_taids), 1.0 * len(unique_bag_taids) / len(all_taids))\n",
    "\n",
    "    featurizer = AllCategoricalsFeaturizer()\n",
    "    %time bag = train_model(bag_params, all_get_indices, featurizer, bag_X_train, bag_y_train)\n",
    "\n",
    "    train_results = eval_model(bag['model'], all_get_indices, featurizer, bag_X_train, bag_y_train)\n",
    "    test_results = eval_model(bag['model'], all_get_indices, featurizer, X_test, y_test)\n",
    "    print \"train RMSLE\", train_results['rmsle']\n",
    "    print \"test RMSLE\", test_results['rmsle']\n",
    "\n",
    "    store_bag = {\n",
    "        'taids': bag_taids,\n",
    "        'is': bag_is,\n",
    "        'featurizer': featurizer,\n",
    "        'model': bag['model'],\n",
    "        'train_results': train_results,\n",
    "        'test_results': test_results,\n",
    "    }\n",
    "    bags.append(store_bag)"
   ]
  },
  {
   "cell_type": "code",
   "execution_count": 80,
   "metadata": {
    "collapsed": false
   },
   "outputs": [
    {
     "name": "stdout",
     "output_type": "stream",
     "text": [
      "best bag RMSLE: 0.225918550374\n",
      "worst bag RMSLE: 0.23123137468\n",
      "mean bag RMSLE: 0.22843756456\n",
      "median bag RMSLE: 0.228024319671\n"
     ]
    }
   ],
   "source": [
    "print \"best bag RMSLE:\", np.min([bag['test_results']['rmsle'] for bag in bags])\n",
    "print \"worst bag RMSLE:\", np.max([bag['test_results']['rmsle'] for bag in bags])\n",
    "print \"mean bag RMSLE:\", np.mean([bag['test_results']['rmsle'] for bag in bags])\n",
    "print \"median bag RMSLE:\", np.median([bag['test_results']['rmsle'] for bag in bags])"
   ]
  },
  {
   "cell_type": "code",
   "execution_count": 81,
   "metadata": {
    "collapsed": false
   },
   "outputs": [
    {
     "name": "stdout",
     "output_type": "stream",
     "text": [
      "mean-combined RMSLE: 0.225020920942\n",
      "median-combined RMSLE: 0.22524214179\n"
     ]
    }
   ],
   "source": [
    "y_pred_all = np.vstack([bag['test_results']['y_eval_pred'].T for bag in bags]).T\n",
    "y_pred_avg = np.mean(y_pred_all, axis=1)\n",
    "y_pred_median = np.median(y_pred_all, axis=1)\n",
    "print \"mean-combined RMSLE:\", np.sqrt(mean_squared_error(y_test, y_pred_avg))\n",
    "print \"median-combined RMSLE:\", np.sqrt(mean_squared_error(y_test, y_pred_median))"
   ]
  },
  {
   "cell_type": "code",
   "execution_count": null,
   "metadata": {
    "collapsed": true
   },
   "outputs": [],
   "source": []
  }
 ],
 "metadata": {
  "kernelspec": {
   "display_name": "Python 2",
   "language": "python",
   "name": "python2"
  },
  "language_info": {
   "codemirror_mode": {
    "name": "ipython",
    "version": 2
   },
   "file_extension": ".py",
   "mimetype": "text/x-python",
   "name": "python",
   "nbconvert_exporter": "python",
   "pygments_lexer": "ipython2",
   "version": "2.7.3"
  }
 },
 "nbformat": 4,
 "nbformat_minor": 0
}
