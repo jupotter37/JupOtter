{
 "cells": [
  {
   "cell_type": "markdown",
   "metadata": {},
   "source": [
    "# Why using fito?"
   ]
  },
  {
   "cell_type": "code",
   "execution_count": 79,
   "metadata": {
    "collapsed": true
   },
   "outputs": [],
   "source": [
    "# Some printing boilerplate\n",
    "\n",
    "from IPython.display import Markdown, display\n",
    "def printmd(string):\n",
    "    display(Markdown(string))\n",
    "    \n",
    "def print_expr(expr, new_line=False):\n",
    "    print \"{:<20} {:<20}{}{}\".format(\n",
    "        expr, \n",
    "        \"evaluates to\", \n",
    "        \"\\n\" if new_line else \"\", \n",
    "        eval(expr)\n",
    "    )\n",
    "\n",
    "def print_title(title):\n",
    "    printmd(\"**{}**\".format(title))"
   ]
  },
  {
   "cell_type": "code",
   "execution_count": 68,
   "metadata": {
    "collapsed": false
   },
   "outputs": [
    {
     "name": "stdout",
     "output_type": "stream",
     "text": [
      "f(1)                 evaluates to          f(a=1, b=2)\n",
      "f(1).execute()       evaluates to          3\n"
     ]
    }
   ],
   "source": [
    "from pprint import pprint\n",
    "from fito import as_operation, Spec\n",
    "\n",
    "# Define the f operation\n",
    "@as_operation()\n",
    "def f(a, b=2): return a+b\n",
    "\n",
    "print_expr(\"f(1)\")\n",
    "print_expr(\"f(1).execute()\")"
   ]
  },
  {
   "cell_type": "code",
   "execution_count": 69,
   "metadata": {
    "collapsed": false
   },
   "outputs": [],
   "source": [
    "# Define the g operation. \n",
    "# This decorator call specifies that parameter a come from instances of f\n",
    "@as_operation(a=f)\n",
    "def g(a, c): return a*c\n",
    "\n",
    "# This call instances operation g\n",
    "operation = g.auto_instance(\n",
    "    {\n",
    "        'c': 1,\n",
    "        'a': {\n",
    "            'a': 2\n",
    "        }\n",
    "    }\n",
    ")"
   ]
  },
  {
   "cell_type": "code",
   "execution_count": 80,
   "metadata": {
    "collapsed": false
   },
   "outputs": [
    {
     "data": {
      "text/markdown": [
       "**It is human readable**"
      ],
      "text/plain": [
       "<IPython.core.display.Markdown object>"
      ]
     },
     "metadata": {},
     "output_type": "display_data"
    },
    {
     "name": "stdout",
     "output_type": "stream",
     "text": [
      "operation            evaluates to        g(a=f(a=2, b=2), c=1)\n"
     ]
    },
    {
     "data": {
      "text/markdown": [
       "**It works! (lot of testing)**"
      ],
      "text/plain": [
       "<IPython.core.display.Markdown object>"
      ]
     },
     "metadata": {},
     "output_type": "display_data"
    },
    {
     "name": "stdout",
     "output_type": "stream",
     "text": [
      "operation.execute()  evaluates to        4\n"
     ]
    },
    {
     "data": {
      "text/markdown": [
       "**Wanna send it to a some API?**"
      ],
      "text/plain": [
       "<IPython.core.display.Markdown object>"
      ]
     },
     "metadata": {},
     "output_type": "display_data"
    },
    {
     "name": "stdout",
     "output_type": "stream",
     "text": [
      "operation.json.dumps() evaluates to        \n",
      "{\n",
      "  \"a\": {\n",
      "    \"a\": 2, \n",
      "    \"b\": 2, \n",
      "    \"type\": \"__main__:f\"\n",
      "  }, \n",
      "  \"c\": 1, \n",
      "  \"type\": \"__main__:g\"\n",
      "}\n"
     ]
    },
    {
     "data": {
      "text/markdown": [
       "**Wanna write it on a config file?**"
      ],
      "text/plain": [
       "<IPython.core.display.Markdown object>"
      ]
     },
     "metadata": {},
     "output_type": "display_data"
    },
    {
     "name": "stdout",
     "output_type": "stream",
     "text": [
      "operation.yaml.dumps() evaluates to        \n",
      "a:\n",
      "  a: 2\n",
      "  b: 2\n",
      "  type: __main__:f\n",
      "c: 1\n",
      "type: __main__:g\n",
      "\n"
     ]
    },
    {
     "data": {
      "text/markdown": [
       "**Wanna read it back? :P**"
      ],
      "text/plain": [
       "<IPython.core.display.Markdown object>"
      ]
     },
     "metadata": {},
     "output_type": "display_data"
    },
    {
     "name": "stdout",
     "output_type": "stream",
     "text": [
      "Spec.from_yaml().loads(operation.yaml.dumps()) evaluates to        g(a=f(a=2, b=2), c=1)\n"
     ]
    },
    {
     "data": {
      "text/markdown": [
       "**In case you were doubting...**"
      ],
      "text/plain": [
       "<IPython.core.display.Markdown object>"
      ]
     },
     "metadata": {},
     "output_type": "display_data"
    },
    {
     "name": "stdout",
     "output_type": "stream",
     "text": [
      "Spec.from_yaml().loads(operation.yaml.dumps()).execute() evaluates to        4\n"
     ]
    },
    {
     "data": {
      "text/markdown": [
       "**Wanna hash it into a key value store?**"
      ],
      "text/plain": [
       "<IPython.core.display.Markdown object>"
      ]
     },
     "metadata": {},
     "output_type": "display_data"
    },
    {
     "name": "stdout",
     "output_type": "stream",
     "text": [
      "{operation: {'precision': 0.8, 'recall':0.1}} evaluates to        \n",
      "{g(a=f(a=2, b=2), c=1): {'recall': 0.1, 'precision': 0.8}}\n",
      "d[operation]         evaluates to        {'recall': 0.1, 'precision': 0.8}\n"
     ]
    },
    {
     "data": {
      "text/markdown": [
       "**Wanna get it back from the config file? ^j^**"
      ],
      "text/plain": [
       "<IPython.core.display.Markdown object>"
      ]
     },
     "metadata": {},
     "output_type": "display_data"
    },
    {
     "name": "stdout",
     "output_type": "stream",
     "text": [
      "d[Spec.from_yaml().loads(operation.yaml.dumps())] evaluates to        {'recall': 0.1, 'precision': 0.8}\n"
     ]
    }
   ],
   "source": [
    "print_title(\"It is human readable\")\n",
    "print_expr(\"operation\")\n",
    "\n",
    "print_title(\"It works! (lot of testing)\")\n",
    "print_expr(\"operation.execute()\")\n",
    "\n",
    "print_title(\"Wanna send it to a some API?\")\n",
    "print_expr(\"operation.json.dumps()\", new_line=True)\n",
    "\n",
    "print_title(\"Wanna write it on a config file?\")\n",
    "print_expr(\"operation.yaml.dumps()\", new_line=True)\n",
    "\n",
    "print_title(\"Wanna read it back? :P\")\n",
    "print_expr(\"Spec.from_yaml().loads(operation.yaml.dumps())\")\n",
    "\n",
    "print_title(\"In case you were doubting...\")\n",
    "print_expr(\"Spec.from_yaml().loads(operation.yaml.dumps()).execute()\")\n",
    "\n",
    "print_title(\"Wanna hash it into a key value store?\")\n",
    "print_expr(\"{operation: {'precision': 0.8, 'recall':0.1}}\", new_line=True)\n",
    "d = {operation: {'precision': 0.8, 'recall':0.1}}\n",
    "print_expr(\"d[operation]\")\n",
    "\n",
    "print_title(\"Wanna get it back from the config file? ^j^\")\n",
    "print_expr(\"d[Spec.from_yaml().loads(operation.yaml.dumps())]\")\n",
    "\n"
   ]
  }
 ],
 "metadata": {
  "kernelspec": {
   "display_name": "Python 2",
   "language": "python",
   "name": "python2"
  },
  "language_info": {
   "codemirror_mode": {
    "name": "ipython",
    "version": 2
   },
   "file_extension": ".py",
   "mimetype": "text/x-python",
   "name": "python",
   "nbconvert_exporter": "python",
   "pygments_lexer": "ipython2",
   "version": "2.7.12"
  }
 },
 "nbformat": 4,
 "nbformat_minor": 0
}
