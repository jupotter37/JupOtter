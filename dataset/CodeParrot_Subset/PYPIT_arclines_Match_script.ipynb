{
 "cells": [
  {
   "cell_type": "markdown",
   "metadata": {},
   "source": [
    "# Script to match an input spectrum to the line lists"
   ]
  },
  {
   "cell_type": "code",
   "execution_count": 4,
   "metadata": {
    "collapsed": true
   },
   "outputs": [],
   "source": [
    "# imports\n",
    "import json\n",
    "\n",
    "from astropy.table import Table\n",
    "\n",
    "import arclines"
   ]
  },
  {
   "cell_type": "markdown",
   "metadata": {},
   "source": [
    "## Testing"
   ]
  },
  {
   "cell_type": "markdown",
   "metadata": {},
   "source": [
    "### LRISb spectrum"
   ]
  },
  {
   "cell_type": "code",
   "execution_count": 3,
   "metadata": {
    "collapsed": true
   },
   "outputs": [],
   "source": [
    "test_arc_path = arclines.__path__[0]+'/data/sources/'\n",
    "src_file = 'lrisb_600_4000_PYPIT.json'\n",
    "with open(test_arc_path+src_file,'r') as f:\n",
    "    pypit_fit = json.load(f)"
   ]
  },
  {
   "cell_type": "code",
   "execution_count": 6,
   "metadata": {
    "collapsed": false
   },
   "outputs": [],
   "source": [
    "spec = pypit_fit['spec']\n",
    "tbl = Table()\n",
    "tbl['spec'] = spec\n",
    "tbl.write(arclines.__path__[0]+'/tests/files/LRISb_600_spec.ascii',format='ascii')"
   ]
  },
  {
   "cell_type": "markdown",
   "metadata": {},
   "source": [
    "#### Run\n",
    "    arclines_match LRISb_600_spec.ascii 4000. 1.26 CdI,HgI,ZnI"
   ]
  },
  {
   "cell_type": "markdown",
   "metadata": {},
   "source": [
    "### Kastr"
   ]
  },
  {
   "cell_type": "code",
   "execution_count": 7,
   "metadata": {
    "collapsed": true
   },
   "outputs": [],
   "source": [
    "test_arc_path = '/Users/xavier/local/Python/PYPIT-development-suite/REDUX_OUT/Kast_red/600_7500_d55/MF_kast_red/'\n",
    "src_file = 'MasterWaveCalib_A_01_aa.json'\n",
    "with open(test_arc_path+src_file,'r') as f:\n",
    "    pypit_fit = json.load(f)"
   ]
  },
  {
   "cell_type": "code",
   "execution_count": 8,
   "metadata": {
    "collapsed": true
   },
   "outputs": [],
   "source": [
    "spec = pypit_fit['spec']\n",
    "tbl = Table()\n",
    "tbl['spec'] = spec\n",
    "tbl.write(arclines.__path__[0]+'/tests/files/Kastr_600_7500_spec.ascii',format='ascii')"
   ]
  },
  {
   "cell_type": "markdown",
   "metadata": {},
   "source": [
    "#### Run\n",
    "    arclines_match Kastr_600_7500_spec.ascii 7500. 2.35 HgI,NeI,ArI"
   ]
  },
  {
   "cell_type": "markdown",
   "metadata": {},
   "source": [
    "#### Check dispersion"
   ]
  },
  {
   "cell_type": "code",
   "execution_count": 10,
   "metadata": {
    "collapsed": false
   },
   "outputs": [
    {
     "data": {
      "text/plain": [
       "array([ 2.34131867,  2.28662701,  2.3032545 ,  2.31847492,  2.34357542,\n",
       "        2.30925354,  2.33332071,  2.36453387,  2.32462773,  2.3749673 ,\n",
       "        2.31999043,  2.33874475,  2.34388078,  2.35997203,  2.32940272,\n",
       "        2.36848258,  2.3063928 ,  2.36044792,  2.36702026,  2.36280899,\n",
       "        2.35944074,  2.37837135,  2.36594476,  2.37554864,  2.36812976,\n",
       "        2.37014177,  2.35869518,  2.37151191,  2.36478659,  2.31255329,\n",
       "        2.3683453 ,  2.35900124,  2.33726945,  2.33102636,  2.32923909])"
      ]
     },
     "execution_count": 10,
     "metadata": {},
     "output_type": "execute_result"
    }
   ],
   "source": [
    "pix = np.array(pypit_fit['xfit'])*(len(spec)-1.)\n",
    "wave = np.array(pypit_fit['yfit'])\n",
    "disp = (wave-np.roll(wave,1))/(pix-np.roll(pix,1))\n",
    "disp"
   ]
  },
  {
   "cell_type": "markdown",
   "metadata": {},
   "source": [
    "#### Ran without UNKNWN -- Excellent"
   ]
  },
  {
   "cell_type": "markdown",
   "metadata": {},
   "source": [
    "### LRISr -- 600/7500"
   ]
  },
  {
   "cell_type": "code",
   "execution_count": 11,
   "metadata": {
    "collapsed": true
   },
   "outputs": [],
   "source": [
    "test_arc_path = arclines.__path__[0]+'/data/sources/'\n",
    "src_file = 'lrisr_600_7500_PYPIT.json'\n",
    "with open(test_arc_path+src_file,'r') as f:\n",
    "    pypit_fit = json.load(f)"
   ]
  },
  {
   "cell_type": "code",
   "execution_count": 12,
   "metadata": {
    "collapsed": true
   },
   "outputs": [],
   "source": [
    "spec = pypit_fit['spec']\n",
    "tbl = Table()\n",
    "tbl['spec'] = spec\n",
    "tbl.write(arclines.__path__[0]+'/tests/files/LRISr_600_7500_spec.ascii',format='ascii')"
   ]
  },
  {
   "cell_type": "markdown",
   "metadata": {},
   "source": [
    "#### Run\n",
    "    arclines_match LRISr_600_7500_spec.ascii 7000. 1.6 ArI,HgI,KrI,NeI,XeI\n",
    "    Need UNKNOWNS for better performance\n",
    "    arclines_match LRISr_600_7500_spec.ascii 7000. 1.6 ArI,HgI,KrI,NeI,XeI --unknowns"
   ]
  },
  {
   "cell_type": "markdown",
   "metadata": {},
   "source": [
    "### Am scanning now (successfully)"
   ]
  },
  {
   "cell_type": "markdown",
   "metadata": {},
   "source": [
    "## RCS at MMT"
   ]
  },
  {
   "cell_type": "code",
   "execution_count": 14,
   "metadata": {
    "collapsed": false
   },
   "outputs": [
    {
     "data": {
      "text/plain": [
       "[5, 4, 3, 2, 1, 0]"
      ]
     },
     "execution_count": 14,
     "metadata": {},
     "output_type": "execute_result"
    }
   ],
   "source": [
    "range(5,-1,-1)"
   ]
  },
  {
   "cell_type": "markdown",
   "metadata": {},
   "source": [
    "### Run\n",
    "    arclines_match data/test_arcs/MMT_RCS_600_6310.hdf5 7000. 1.6 ArI,NeI"
   ]
  },
  {
   "cell_type": "code",
   "execution_count": null,
   "metadata": {
    "collapsed": true
   },
   "outputs": [],
   "source": []
  }
 ],
 "metadata": {
  "kernelspec": {
   "display_name": "Python 2",
   "language": "python",
   "name": "python2"
  },
  "language_info": {
   "codemirror_mode": {
    "name": "ipython",
    "version": 2
   },
   "file_extension": ".py",
   "mimetype": "text/x-python",
   "name": "python",
   "nbconvert_exporter": "python",
   "pygments_lexer": "ipython2",
   "version": "2.7.11"
  }
 },
 "nbformat": 4,
 "nbformat_minor": 0
}
