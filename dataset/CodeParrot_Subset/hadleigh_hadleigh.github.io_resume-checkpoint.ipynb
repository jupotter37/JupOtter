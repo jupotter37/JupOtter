{
 "cells": [
  {
   "cell_type": "markdown",
   "metadata": {},
   "source": [
    "## Resume: Hadleigh Thompson \n",
    "\n",
    "**Mr Hadleigh David Thompson**\n",
    "\n",
    "**DOB: 6th June, 1979**\n",
    "\n",
    "**New Zealand Citizen**\n",
    "\n",
    "**Canadian Permanent Resident**"
   ]
  },
  {
   "cell_type": "markdown",
   "metadata": {},
   "source": [
    "# ------------------------------------------------------------------------------------------------------"
   ]
  },
  {
   "cell_type": "markdown",
   "metadata": {},
   "source": [
    "## Objective:  \n",
    "To develop and utilize the meteorological theory and tools provided my Atmospheric Science degree. I\n",
    "hope in the future to combine these with my interest in outdoor pursuits and research in wildeness locations.\n"
   ]
  },
  {
   "cell_type": "markdown",
   "metadata": {},
   "source": [
    "# -------------------------------------------------------------------------------------------------------"
   ]
  },
  {
   "cell_type": "markdown",
   "metadata": {},
   "source": [
    "## Education:\n",
    "\n",
    "**University of British Columbia (UBC), Vancouver 2014 - Present**\n",
    "\n",
    "- Currently completing a Bachelor of Science degree – with a major in Atmospheric Science. Main interests include: mountain and cold region meteorology, snow and ice region thermodynamics, hydro-meteorology. Completion of this will be by July 2016.\n",
    "\n",
    "\n",
    "**Thompson Rivers University (TRU), Kamloops 2012 - 2014**\n",
    "\n",
    "- Pre-requisites and lower level Bachelor of Science courses – aiming for admittance to University of British Columbia.\n",
    "\n",
    "\n",
    "**Canadian Avalanche Association (CAA), British Columbia 2010 - 2012**\n",
    "\n",
    "Courses:\n",
    "\n",
    "- Introduction and Advanced ‘Weather for Avalanche workers’ – 5 days total.\n",
    "\n",
    "\n",
    "- Avalanche operations level one – 7 days."
   ]
  },
  {
   "cell_type": "markdown",
   "metadata": {},
   "source": [
    "# -------------------------------------------------------------------------------------------------------"
   ]
  },
  {
   "cell_type": "markdown",
   "metadata": {},
   "source": [
    "## Employable Skills:\n",
    "\n",
    "**Computing and Technical:**\n",
    "\n",
    "- Python coding and Numerical modelling - extensive acedeamic experience in writing Python code to solve problems in Atmospheric and Earth sciences.\n",
    "\n",
    "\n",
    "- Github workflow and collaboration in an academic environment.\n",
    "\n",
    "\n",
    "- Self-taught webpage design and HTML scripting - see http://hadleigh.github.io\n",
    "\n",
    "\n",
    "- Linux environment and command line computational operations.\n",
    "\n",
    "\n",
    "- High level of numerical modelling and mathematical analysis using matlab, python, iPython notebooks, and Pandas dataframes.\n",
    "\n",
    "\n",
    "**Practical Skills:**\n",
    "\n",
    "- Comfortable in wide range of outdoor environments including wilderness worksites. \n",
    "\n",
    "\n",
    "- Organizational and logistical skills obtained from both military experience and adventure tourism company management\n",
    "\n",
    "\n",
    "- Operational skills include: boat handling; travelling in mountainous terrain in all seasons; working on ocean going vessels; experience with heavy machinery; comfortable operating alternative transportation such as buses, ATVs, and snowmobiles.  \n",
    "\n",
    "\n",
    "- Ability to adapt and solve practical problems with limited resources.\n",
    "\n",
    "\n",
    "- Extensive experience in working in marginal and difficult operational conditions.\n",
    "\n",
    "\n",
    "- Proficient in the operation of Meteorological data collection and instrumentation. "
   ]
  },
  {
   "cell_type": "markdown",
   "metadata": {},
   "source": [
    "# -------------------------------------------------------------------------------------------------------"
   ]
  },
  {
   "cell_type": "markdown",
   "metadata": {},
   "source": [
    "## Relevant Experience:\n",
    "\n",
    "**OWL Rafting on the Ottawa River. Ontario Canada – Operations Manager: 2010 - Present**\n",
    "\n",
    "- Managing logistics and maintenance personnel. Operational Health and Safety.\n",
    "\n",
    "\n",
    "- Boat (flat-water and swift water) and vehicle operation. Bus driving. Expenditure accounting and department financial responsibility.\n",
    "\n",
    "\n",
    "**Mustang Powder Cats. British Columbia Canada – Tail-guide Practicum program: Winter 2009/2010**\n",
    "\n",
    "- Lodge and operation maintenance. Collection of near surface weather observations. Snowpack profile analysis and recording. Avalanche observation and investigation. Guest safety and assistance while skiing.\n",
    "\n",
    "\n",
    "**Franz Josef Glacier. New Zealand – Glacier Guide: 2008 - 2009**\n",
    "\n",
    "- Leading guests on Glacier hikes. Helicopter loading. Ice climbing instruction. Crevasse extraction. Alpine cliff rescue team member.\n",
    "\n",
    "\n",
    "**Alpine Resort, British Columbia. Canada – Ski Patrol team member: 2007 - 2008**\n",
    "\n",
    "- Guest liaison, information, and assistance. First aid and emergency response. Avalanche control. Near surface weather observations. Avalanche and snowpack investigations and recording. Snow blasting.\n",
    "\n",
    "\n",
    "**Collets Mountain Holidays, Central Dolomites. Italy – Hiking Guide: 2005 - 2007**\n",
    "\n",
    "- Summer hiking and via ferrata; Winter snowshoeing and cross-country skiing. Personnel and chalet management. Expenditure accounting and recording. Chalet operations and management.\n",
    "\n",
    "\n",
    "**Royal New Zealand Army Medical Corps. New Zealand – Field and Surgical team medic: 1997 - 2003**\n",
    "\n",
    "- 2 years in-house medical, first aid, and emergency response training. 3 years operational service including 3 overseas deployments; UN sanctioned peacekeeping missions."
   ]
  },
  {
   "cell_type": "markdown",
   "metadata": {},
   "source": [
    "# -------------------------------------------------------------------------------------------------------"
   ]
  },
  {
   "cell_type": "markdown",
   "metadata": {},
   "source": [
    "## Additional Skills:\n",
    "\n",
    "- Full drivers license, including passenger Bus (Ontario)\n",
    "\n",
    "\n",
    "- Work place first aid and CPR certified\n",
    "\n",
    "\n",
    "- Previous field research work and experience with Oxford University Ecology Department, (Summer 2003)\n",
    "\n",
    "\n",
    "- Transport Canada 'Limited Masters' certificate\n",
    "\n",
    "\n",
    "- Canadian Ski instructors alliance level 2 certified"
   ]
  },
  {
   "cell_type": "markdown",
   "metadata": {},
   "source": [
    "# -------------------------------------------------------------------------------------------------------"
   ]
  },
  {
   "cell_type": "markdown",
   "metadata": {},
   "source": [
    "## Interests \n",
    "\n",
    "- Road cycling\n",
    "\n",
    "\n",
    "- Alpine, Nordic, and Backcountry skiing\n",
    "\n",
    "\n",
    "- Mountaineering (Summer, and Ski)\n",
    "\n",
    "\n",
    "- Outdoor photography – www.istockphoto.com/madhadders\n",
    "\n",
    "\n",
    "- Whitewater rafting and Sea Kayaking"
   ]
  },
  {
   "cell_type": "markdown",
   "metadata": {},
   "source": [
    "# -------------------------------------------------------------------------------------------------------"
   ]
  },
  {
   "cell_type": "markdown",
   "metadata": {
    "collapsed": true
   },
   "source": [
    "## Contact Details\n",
    "\n",
    "- Email: hadleighthompson@gmail.com\n",
    "\n",
    "\n",
    "- Ph: 1 (613) 316-4679\n",
    "\n",
    "\n",
    "- Current postal address: 763 Sussex Bvld, Kingstin. ON K7M 5B4"
   ]
  },
  {
   "cell_type": "markdown",
   "metadata": {},
   "source": [
    "# -------------------------------------------------------------------------------------------------------"
   ]
  },
  {
   "cell_type": "markdown",
   "metadata": {},
   "source": [
    "*This Resume was written by Hadleigh Thompson in an IPython notebook : Hosted by Github.*"
   ]
  }
 ],
 "metadata": {
  "kernelspec": {
   "display_name": "Python 3",
   "language": "python",
   "name": "python3"
  },
  "language_info": {
   "codemirror_mode": {
    "name": "ipython",
    "version": 3
   },
   "file_extension": ".py",
   "mimetype": "text/x-python",
   "name": "python",
   "nbconvert_exporter": "python",
   "pygments_lexer": "ipython3",
   "version": "3.5.1"
  }
 },
 "nbformat": 4,
 "nbformat_minor": 0
}
