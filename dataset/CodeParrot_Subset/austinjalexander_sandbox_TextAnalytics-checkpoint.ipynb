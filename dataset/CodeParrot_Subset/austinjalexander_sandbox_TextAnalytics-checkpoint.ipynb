{
 "cells": [
  {
   "cell_type": "code",
   "execution_count": 3,
   "metadata": {
    "collapsed": true
   },
   "outputs": [],
   "source": [
    "from nltk.corpus import gutenberg"
   ]
  },
  {
   "cell_type": "code",
   "execution_count": 8,
   "metadata": {
    "collapsed": false
   },
   "outputs": [
    {
     "name": "stdout",
     "output_type": "stream",
     "text": [
      "18 files\n",
      "[u'austen-emma.txt', u'austen-persuasion.txt', u'austen-sense.txt', u'bible-kjv.txt', u'blake-poems.txt', u'bryant-stories.txt', u'burgess-busterbrown.txt', u'carroll-alice.txt', u'chesterton-ball.txt', u'chesterton-brown.txt', u'chesterton-thursday.txt', u'edgeworth-parents.txt', u'melville-moby_dick.txt', u'milton-paradise.txt', u'shakespeare-caesar.txt', u'shakespeare-hamlet.txt', u'shakespeare-macbeth.txt', u'whitman-leaves.txt']\n"
     ]
    }
   ],
   "source": [
    "fileids = gutenberg.fileids()\n",
    "print len(fileids), \"files\"\n",
    "print fileids"
   ]
  },
  {
   "cell_type": "code",
   "execution_count": 10,
   "metadata": {
    "collapsed": false
   },
   "outputs": [],
   "source": [
    "alice_raw = gutenberg.raw(fileids=['carroll-alice.txt'])"
   ]
  },
  {
   "cell_type": "code",
   "execution_count": 11,
   "metadata": {
    "collapsed": false
   },
   "outputs": [
    {
     "name": "stdout",
     "output_type": "stream",
     "text": [
      "type:  <type 'unicode'>\n"
     ]
    }
   ],
   "source": [
    "print 'type: ', type(alice_raw)"
   ]
  },
  {
   "cell_type": "code",
   "execution_count": 13,
   "metadata": {
    "collapsed": false
   },
   "outputs": [
    {
     "name": "stdout",
     "output_type": "stream",
     "text": [
      "[Alice's Adventures in Wonderland by Lewis Carroll 1865]\n",
      "\n",
      "CHAPTER I. Down the Rabbit-Hole\n",
      "\n",
      "Alice was beginning to get very tired of sitting by her sister on the\n",
      "bank, and of having nothing to do: once or twice she had peeped into the\n",
      "book her sister \n"
     ]
    }
   ],
   "source": [
    "print alice_raw[:250]"
   ]
  },
  {
   "cell_type": "code",
   "execution_count": 14,
   "metadata": {
    "collapsed": true
   },
   "outputs": [],
   "source": [
    "from nltk.corpus import genesis"
   ]
  },
  {
   "cell_type": "code",
   "execution_count": 16,
   "metadata": {
    "collapsed": false
   },
   "outputs": [
    {
     "name": "stdout",
     "output_type": "stream",
     "text": [
      "8 files\n",
      "[u'english-kjv.txt', u'english-web.txt', u'finnish.txt', u'french.txt', u'german.txt', u'lolcat.txt', u'portuguese.txt', u'swedish.txt']\n"
     ]
    }
   ],
   "source": [
    "fileids = genesis.fileids()\n",
    "print len(fileids), \"files\"\n",
    "print fileids"
   ]
  },
  {
   "cell_type": "code",
   "execution_count": 23,
   "metadata": {
    "collapsed": false
   },
   "outputs": [
    {
     "name": "stdout",
     "output_type": "stream",
     "text": [
      "In the beginning God created the heaven and the earth.\n",
      "And the earth was without form, and void; and\n",
      "\n",
      "In the beginning God created the heavens and the earth.\n",
      "Now the earth was formless and empty.  Darkn\n",
      "\n",
      "Alussa Jumala loi taivaan ja maan. \n",
      "Maa oli\n",
      "autio ja tyhjä, pimeys peitti syvyydet, ja Jumalan\n",
      "henki\n",
      "\n",
      "Au commencement, Dieu créa les cieux et la terre.\n",
      "La terre était informe et vide: il y avait des tén\n",
      "\n",
      "Am Anfang schuf Gott Himmel und Erde.\n",
      "Und die Erde war wüst und leer, und es war finster auf der Tie\n",
      "\n",
      "Oh hai. In teh beginnin Ceiling Cat maded teh skiez An da Urfs, but he did not eated dem.\n",
      "Da Urfs no\n",
      "\n",
      "No princípio, criou Deus os céus e a terra.\n",
      "E a terra era sem forma e vazia; e {havia} trevas sobre \n",
      "\n",
      "I begynnelsen skapade Gud himmel och jord.\n",
      "Och jorden var öde och tom, och mörker var över djupet, o\n",
      "\n"
     ]
    }
   ],
   "source": [
    "for fileid in fileids:\n",
    "    print genesis.raw(fileids=[fileid])[:100] + \"\\n\""
   ]
  },
  {
   "cell_type": "markdown",
   "metadata": {},
   "source": [
    "---"
   ]
  },
  {
   "cell_type": "code",
   "execution_count": 26,
   "metadata": {
    "collapsed": false
   },
   "outputs": [],
   "source": [
    "import nltk\n",
    "text = nltk.bigrams('Hello')"
   ]
  },
  {
   "cell_type": "code",
   "execution_count": 27,
   "metadata": {
    "collapsed": false
   },
   "outputs": [
    {
     "name": "stdout",
     "output_type": "stream",
     "text": [
      "('H', 'e')\n",
      "('e', 'l')\n",
      "('l', 'l')\n",
      "('l', 'o')\n"
     ]
    }
   ],
   "source": [
    "for b in text:\n",
    "    print b"
   ]
  },
  {
   "cell_type": "code",
   "execution_count": 28,
   "metadata": {
    "collapsed": true
   },
   "outputs": [],
   "source": [
    "words = nltk.bigrams(['This', 'is', 'gonna', 'be', 'great!'])"
   ]
  },
  {
   "cell_type": "code",
   "execution_count": 29,
   "metadata": {
    "collapsed": false
   },
   "outputs": [
    {
     "name": "stdout",
     "output_type": "stream",
     "text": [
      "('This', 'is')\n",
      "('is', 'gonna')\n",
      "('gonna', 'be')\n",
      "('be', 'great!')\n"
     ]
    }
   ],
   "source": [
    "for b in words:\n",
    "    print b"
   ]
  },
  {
   "cell_type": "markdown",
   "metadata": {},
   "source": [
    "---"
   ]
  },
  {
   "cell_type": "code",
   "execution_count": 30,
   "metadata": {
    "collapsed": false
   },
   "outputs": [],
   "source": [
    "from langdetect import detect"
   ]
  },
  {
   "cell_type": "code",
   "execution_count": 32,
   "metadata": {
    "collapsed": false
   },
   "outputs": [
    {
     "name": "stdout",
     "output_type": "stream",
     "text": [
      "en\n",
      "de\n"
     ]
    }
   ],
   "source": [
    "print detect(\"War doesn't show who's right, just who's left.\")\n",
    "print detect(\"Ein, zwei, drei, vier\")"
   ]
  },
  {
   "cell_type": "code",
   "execution_count": 34,
   "metadata": {
    "collapsed": false
   },
   "outputs": [],
   "source": [
    "import unicodecsv"
   ]
  },
  {
   "cell_type": "code",
   "execution_count": null,
   "metadata": {
    "collapsed": true
   },
   "outputs": [],
   "source": [
    "!cat data/language"
   ]
  }
 ],
 "metadata": {
  "kernelspec": {
   "display_name": "Python 2",
   "language": "python",
   "name": "python2"
  },
  "language_info": {
   "codemirror_mode": {
    "name": "ipython",
    "version": 2
   },
   "file_extension": ".py",
   "mimetype": "text/x-python",
   "name": "python",
   "nbconvert_exporter": "python",
   "pygments_lexer": "ipython2",
   "version": "2.7.9"
  }
 },
 "nbformat": 4,
 "nbformat_minor": 0
}
