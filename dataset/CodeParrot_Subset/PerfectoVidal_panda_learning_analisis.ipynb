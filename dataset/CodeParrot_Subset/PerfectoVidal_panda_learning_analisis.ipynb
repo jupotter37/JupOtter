{
 "cells": [
  {
   "cell_type": "code",
   "execution_count": 2,
   "metadata": {
    "collapsed": true
   },
   "outputs": [],
   "source": [
    "#importamos numpy y pandas\n",
    "import numpy as np\n",
    "import pandas as pd\n",
    "#cargamos para manejar fechas\n",
    "import datetime\n",
    "from datetime import datetime, date\n",
    "\n",
    "#configuramos el pandas para que nos muestre por pantalla como queremos\n",
    "pd.set_option('display.notebook_repr_html', False)\n",
    "pd.set_option('display.max_columns', 8)\n",
    "pd.set_option('display.max_rows', 10)\n",
    "pd.set_option('display.width', 60)\n",
    "\n",
    "#usaremos matplotlib para los gráficos\n",
    "import matplotlib.pyplot as plt\n",
    "%matplotlib inline\n",
    "\n",
    "#cargamos los datos y solamente leemos las columnas de la posicion 0 2 3 y 7\n",
    "\n",
    "sp500 = pd.read_csv(\"tratamiento_datos/data/sp500.csv\", index_col='Symbol', usecols=[0,2,3,7])\n",
    "\n",
    "\n"
   ]
  },
  {
   "cell_type": "code",
   "execution_count": 3,
   "metadata": {
    "collapsed": true
   },
   "outputs": [],
   "source": [
    "#creamos un dataframe aleatorio para practicar\n",
    "np.random.seed(123456)\n",
    "df=pd.DataFrame({'foo':np.random.random(1000000), 'key':range(100,1000100)})"
   ]
  },
  {
   "cell_type": "code",
   "execution_count": 4,
   "metadata": {},
   "outputs": [
    {
     "data": {
      "text/plain": [
       "           foo    key\n",
       "9999  0.272283  10099"
      ]
     },
     "execution_count": 4,
     "metadata": {},
     "output_type": "execute_result"
    }
   ],
   "source": [
    "#obtenemos un dato solamente\n",
    "df[df.key==10099]\n"
   ]
  },
  {
   "cell_type": "code",
   "execution_count": 5,
   "metadata": {},
   "outputs": [
    {
     "name": "stdout",
     "output_type": "stream",
     "text": [
      "1.3 ms ± 57.1 µs per loop (mean ± std. dev. of 7 runs, 1000 loops each)\n"
     ]
    }
   ],
   "source": [
    "#Cuanto tiempo tardamos al hacer la selección por llave\n",
    "%timeit df[df.key==10099]"
   ]
  },
  {
   "cell_type": "code",
   "execution_count": 6,
   "metadata": {},
   "outputs": [
    {
     "data": {
      "text/plain": [
       "          foo\n",
       "key          \n",
       "100  0.126970\n",
       "101  0.966718\n",
       "102  0.260476\n",
       "103  0.897237\n",
       "104  0.376750"
      ]
     },
     "execution_count": 6,
     "metadata": {},
     "output_type": "execute_result"
    }
   ],
   "source": [
    "#pasamos las keys a que sean indices\n",
    "df_with_index=df.set_index(['key'])\n",
    "df_with_index[:5]"
   ]
  },
  {
   "cell_type": "code",
   "execution_count": 7,
   "metadata": {},
   "outputs": [
    {
     "data": {
      "text/plain": [
       "foo    0.272283\n",
       "Name: 10099, dtype: float64"
      ]
     },
     "execution_count": 7,
     "metadata": {},
     "output_type": "execute_result"
    }
   ],
   "source": [
    "df_with_index.loc[10099]"
   ]
  },
  {
   "cell_type": "code",
   "execution_count": 8,
   "metadata": {},
   "outputs": [
    {
     "name": "stdout",
     "output_type": "stream",
     "text": [
      "89.7 µs ± 1.03 µs per loop (mean ± std. dev. of 7 runs, 10000 loops each)\n"
     ]
    }
   ],
   "source": [
    "#ahora con loc vemos a ver lo rapido que es\n",
    "%timeit df_with_index.loc[10099]"
   ]
  },
  {
   "cell_type": "code",
   "execution_count": 9,
   "metadata": {},
   "outputs": [
    {
     "name": "stdout",
     "output_type": "stream",
     "text": [
      "   Temperature          city\n",
      "0           70      Missoula\n",
      "1           80  Philadelphia\n",
      "Index(['Temperature', 'city'], dtype='object')\n"
     ]
    }
   ],
   "source": [
    "#indices básicos\n",
    "temps = pd.DataFrame({'city':[\"Missoula\", \"Philadelphia\"],\"Temperature\": [70, 80]})\n",
    "print(temps)\n",
    "print(temps.columns)"
   ]
  },
  {
   "cell_type": "code",
   "execution_count": 10,
   "metadata": {},
   "outputs": [
    {
     "name": "stdout",
     "output_type": "stream",
     "text": [
      "    0\n",
      "0  10\n",
      "1  11\n",
      "2  12\n",
      "3  13\n",
      "4  14\n",
      "Int64Index([0, 1, 2, 3, 4, 5, 6, 7, 8, 9], dtype='int64')\n"
     ]
    }
   ],
   "source": [
    "#vamos a trabajar con indices\n",
    "df_i64 = pd.DataFrame(np.arange(10,20), index=np.arange(0,10))\n",
    "print(df_i64[:5])\n",
    "print(df_i64.index)"
   ]
  },
  {
   "cell_type": "code",
   "execution_count": 12,
   "metadata": {},
   "outputs": [
    {
     "data": {
      "text/plain": [
       "      0\n",
       "0.0   0\n",
       "0.5   5\n",
       "1.0  10\n",
       "1.5  15\n",
       "2.0  20"
      ]
     },
     "execution_count": 12,
     "metadata": {},
     "output_type": "execute_result"
    }
   ],
   "source": [
    "df_f64 = pd.DataFrame(np.arange(0,1000,5), np.arange(0.0, 100.0, 0.5))\n",
    "df_f64.iloc[:5]"
   ]
  },
  {
   "cell_type": "code",
   "execution_count": 13,
   "metadata": {},
   "outputs": [
    {
     "data": {
      "text/plain": [
       "Float64Index([ 0.0,  0.5,  1.0,  1.5,  2.0,  2.5,  3.0,\n",
       "               3.5,  4.0,  4.5,\n",
       "              ...\n",
       "              95.0, 95.5, 96.0, 96.5, 97.0, 97.5, 98.0,\n",
       "              98.5, 99.0, 99.5],\n",
       "             dtype='float64', length=200)"
      ]
     },
     "execution_count": 13,
     "metadata": {},
     "output_type": "execute_result"
    }
   ],
   "source": [
    "df_f64.index"
   ]
  },
  {
   "cell_type": "code",
   "execution_count": 15,
   "metadata": {},
   "outputs": [
    {
     "data": {
      "text/plain": [
       "            A\n",
       "(0.0, 0.5]  1\n",
       "(0.5, 1.0]  2\n",
       "(1.0, 1.5]  3\n",
       "(1.5, 2.0]  4"
      ]
     },
     "execution_count": 15,
     "metadata": {},
     "output_type": "execute_result"
    }
   ],
   "source": [
    "#extraemos un intervalo\n",
    "df_interval = pd.DataFrame({\"A\":[1,2,3,4]}, index= pd.IntervalIndex.from_breaks([0, 0.5, 1.0, 1.5, 2.0]))\n",
    "df_interval"
   ]
  },
  {
   "cell_type": "code",
   "execution_count": 16,
   "metadata": {},
   "outputs": [
    {
     "data": {
      "text/plain": [
       "IntervalIndex([(0.0, 0.5], (0.5, 1.0], (1.0, 1.5], (1.5, 2.0]]\n",
       "              closed='right',\n",
       "              dtype='interval[float64]')"
      ]
     },
     "execution_count": 16,
     "metadata": {},
     "output_type": "execute_result"
    }
   ],
   "source": [
    "df_interval.index"
   ]
  },
  {
   "cell_type": "code",
   "execution_count": 18,
   "metadata": {},
   "outputs": [
    {
     "name": "stdout",
     "output_type": "stream",
     "text": [
      "   A  B\n",
      "0  0  a\n",
      "1  1  a\n",
      "2  2  b\n",
      "3  3  b\n",
      "4  4  c\n",
      "5  5  a\n"
     ]
    }
   ],
   "source": [
    "df_categorical = pd.DataFrame({'A': np.arange(6), 'B':list('aabbca')})\n",
    "print(df_categorical)"
   ]
  },
  {
   "cell_type": "code",
   "execution_count": 19,
   "metadata": {},
   "outputs": [
    {
     "data": {
      "text/plain": [
       "                        Sector   Price  Book Value\n",
       "Symbol                                            \n",
       "MMM                Industrials  141.14      26.668\n",
       "ABT                Health Care   39.60      15.573\n",
       "ABBV               Health Care   53.95       2.954\n",
       "ACN     Information Technology   79.79       8.326\n",
       "ACE                 Financials  102.91      86.897"
      ]
     },
     "execution_count": 19,
     "metadata": {},
     "output_type": "execute_result"
    }
   ],
   "source": [
    "sp500[:5]"
   ]
  },
  {
   "cell_type": "code",
   "execution_count": 20,
   "metadata": {},
   "outputs": [
    {
     "data": {
      "text/plain": [
       "  Symbol                  Sector   Price  Book Value\n",
       "0    MMM             Industrials  141.14      26.668\n",
       "1    ABT             Health Care   39.60      15.573\n",
       "2   ABBV             Health Care   53.95       2.954\n",
       "3    ACN  Information Technology   79.79       8.326\n",
       "4    ACE              Financials  102.91      86.897"
      ]
     },
     "execution_count": 20,
     "metadata": {},
     "output_type": "execute_result"
    }
   ],
   "source": [
    "index_mov_to_column = sp500.reset_index()\n",
    "index_mov_to_column[:5]"
   ]
  },
  {
   "cell_type": "code",
   "execution_count": 21,
   "metadata": {},
   "outputs": [
    {
     "data": {
      "text/plain": [
       "                       Symbol   Price  Book Value\n",
       "Sector                                           \n",
       "Industrials               MMM  141.14      26.668\n",
       "Health Care               ABT   39.60      15.573\n",
       "Health Care              ABBV   53.95       2.954\n",
       "Information Technology    ACN   79.79       8.326\n",
       "Financials                ACE  102.91      86.897"
      ]
     },
     "execution_count": 21,
     "metadata": {},
     "output_type": "execute_result"
    }
   ],
   "source": [
    "index_mov_to_column.set_index('Sector')[:5]"
   ]
  },
  {
   "cell_type": "code",
   "execution_count": 23,
   "metadata": {},
   "outputs": [
    {
     "data": {
      "text/plain": [
       "             Sector   Price  Book Value\n",
       "Symbol                                 \n",
       "MMM     Industrials  141.14      26.668\n",
       "ABBV    Health Care   53.95       2.954\n",
       "FOO             NaN     NaN         NaN"
      ]
     },
     "execution_count": 23,
     "metadata": {},
     "output_type": "execute_result"
    }
   ],
   "source": [
    "reindexed = sp500.reindex(index=['MMM','ABBV','FOO'])\n",
    "reindexed"
   ]
  },
  {
   "cell_type": "code",
   "execution_count": 24,
   "metadata": {},
   "outputs": [
    {
     "data": {
      "text/plain": [
       "         Price  Book Value  NewCol\n",
       "Symbol                            \n",
       "MMM     141.14      26.668     NaN\n",
       "ABT      39.60      15.573     NaN\n",
       "ABBV     53.95       2.954     NaN\n",
       "ACN      79.79       8.326     NaN\n",
       "ACE     102.91      86.897     NaN"
      ]
     },
     "execution_count": 24,
     "metadata": {},
     "output_type": "execute_result"
    }
   ],
   "source": [
    "sp500.reindex(columns=['Price','Book Value','NewCol'])[:5]"
   ]
  },
  {
   "cell_type": "code",
   "execution_count": null,
   "metadata": {
    "collapsed": true
   },
   "outputs": [],
   "source": []
  }
 ],
 "metadata": {
  "kernelspec": {
   "display_name": "Python 3",
   "language": "python",
   "name": "python3"
  },
  "language_info": {
   "codemirror_mode": {
    "name": "ipython",
    "version": 3
   },
   "file_extension": ".py",
   "mimetype": "text/x-python",
   "name": "python",
   "nbconvert_exporter": "python",
   "pygments_lexer": "ipython3",
   "version": "3.4.3"
  }
 },
 "nbformat": 4,
 "nbformat_minor": 2
}
