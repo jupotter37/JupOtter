{
 "cells": [
  {
   "cell_type": "code",
   "execution_count": 8,
   "metadata": {
    "collapsed": true
   },
   "outputs": [],
   "source": [
    "import pandas as pd\n",
    "import numpy as np\n",
    "import matplotlib.pyplot as plt\n",
    "\n",
    "years=range(1880, 2017)\n",
    "\n",
    "pieces = []\n",
    "columns = [ 'name', 'sex', 'births' ]\n",
    "for year in years:\n",
    "    path = 'C:/Users/User/Desktop/python/pandas/Pandas_Python3/names/yob%d.txt' %year\n",
    "    frame = pd.read_csv(path, names=columns)\n",
    "    frame['year'] = year\n",
    "    pieces.append(frame)\n",
    "\n",
    "names = pd.concat(pieces, ignore_index = True)"
   ]
  },
  {
   "cell_type": "code",
   "execution_count": 11,
   "metadata": {
    "collapsed": false
   },
   "outputs": [],
   "source": [
    "names_uniq = names.name.unique()"
   ]
  },
  {
   "cell_type": "code",
   "execution_count": 12,
   "metadata": {
    "collapsed": false
   },
   "outputs": [
    {
     "data": {
      "text/plain": [
       "96174"
      ]
     },
     "execution_count": 12,
     "metadata": {},
     "output_type": "execute_result"
    }
   ],
   "source": [
    "len(names.name.unique())"
   ]
  },
  {
   "cell_type": "code",
   "execution_count": 24,
   "metadata": {
    "collapsed": false
   },
   "outputs": [],
   "source": [
    "group1 = difflib.get_close_matches('Mary', names_uniq, n=100, cutoff=0.8)"
   ]
  },
  {
   "cell_type": "code",
   "execution_count": 25,
   "metadata": {
    "collapsed": false,
    "scrolled": true
   },
   "outputs": [
    {
     "name": "stdout",
     "output_type": "stream",
     "text": [
      "81\n"
     ]
    },
    {
     "data": {
      "text/plain": [
       "['Mary',\n",
       " 'Mmary',\n",
       " 'Maury',\n",
       " 'Maryn',\n",
       " 'Maryl',\n",
       " 'Marye',\n",
       " 'Marya',\n",
       " 'Marty',\n",
       " 'Marry',\n",
       " 'Marny',\n",
       " 'Marly',\n",
       " 'Marky',\n",
       " 'Margy',\n",
       " 'Marey',\n",
       " 'Mardy',\n",
       " 'Marcy',\n",
       " 'Maray',\n",
       " 'Mabry',\n",
       " 'Mry',\n",
       " 'May',\n",
       " 'Mar',\n",
       " 'Merary',\n",
       " 'Mavryk',\n",
       " 'Mavery',\n",
       " 'Mauryn',\n",
       " 'Maurya',\n",
       " 'Maurey',\n",
       " 'Maudry',\n",
       " 'Maryum',\n",
       " 'Maryse',\n",
       " 'Marysa',\n",
       " 'Maryon',\n",
       " 'Maryna',\n",
       " 'Marylu',\n",
       " 'Maryln',\n",
       " 'Maryla',\n",
       " 'Maryke',\n",
       " 'Maryka',\n",
       " 'Maryjo',\n",
       " 'Maryia',\n",
       " 'Maryha',\n",
       " 'Maryem',\n",
       " 'Maryel',\n",
       " 'Maryan',\n",
       " 'Maryam',\n",
       " 'Maryah',\n",
       " 'Marvyn',\n",
       " 'Marvyl',\n",
       " 'Martyn',\n",
       " 'Marthy',\n",
       " 'Martay',\n",
       " 'Marryn',\n",
       " 'Marney',\n",
       " 'Marnay',\n",
       " 'Marlys',\n",
       " 'Marlyn',\n",
       " 'Marlye',\n",
       " 'Marley',\n",
       " 'Markya',\n",
       " 'Markey',\n",
       " 'Markay',\n",
       " 'Mariya',\n",
       " 'Marivy',\n",
       " 'Marily',\n",
       " 'Mariby',\n",
       " 'Margey',\n",
       " 'Mareya',\n",
       " 'Marely',\n",
       " 'Marcys',\n",
       " 'Marcey',\n",
       " 'Maraya',\n",
       " 'Malory',\n",
       " 'Malery',\n",
       " 'Malary',\n",
       " 'Mairyn',\n",
       " 'Maevry',\n",
       " 'Maeryn',\n",
       " 'Maebry',\n",
       " 'Macray',\n",
       " 'Mabrey',\n",
       " 'Mary']"
      ]
     },
     "execution_count": 25,
     "metadata": {},
     "output_type": "execute_result"
    }
   ],
   "source": [
    "group1.append('Mary')\n",
    "print (len(group1))\n",
    "group1"
   ]
  },
  {
   "cell_type": "code",
   "execution_count": 26,
   "metadata": {
    "collapsed": false
   },
   "outputs": [
    {
     "name": "stderr",
     "output_type": "stream",
     "text": [
      "C:\\Users\\User\\Anaconda3\\lib\\site-packages\\ipykernel\\__main__.py:3: UserWarning: Boolean Series key will be reindexed to match DataFrame index.\n",
      "  app.launch_new_instance()\n",
      "C:\\Users\\User\\Anaconda3\\lib\\site-packages\\ipykernel\\__main__.py:8: UserWarning: Boolean Series key will be reindexed to match DataFrame index.\n"
     ]
    }
   ],
   "source": [
    "f_total = []\n",
    " \n",
    "f_names = names[names['name'].isin(group1)][names.sex == 'F']\n",
    "\n",
    "for year in years:\n",
    "    #все имена для мальчиков и девочек в год year\n",
    "    f_names_for_year = f_names[f_names.year == year] \n",
    "    names_for_year = names[names['name'].isin(group1)][names.year == year]\n",
    "    f_total.append((f_names_for_year['births'].sum() / names_for_year['births'].sum() )* 100) "
   ]
  },
  {
   "cell_type": "code",
   "execution_count": 27,
   "metadata": {
    "collapsed": false
   },
   "outputs": [
    {
     "data": {
      "image/png": "[encoded data removed]",
      "text/plain": [
       "<matplotlib.figure.Figure at 0xdc482e8>"
      ]
     },
     "metadata": {},
     "output_type": "display_data"
    }
   ],
   "source": [
    "plt.plot(years, f_total, color = 'red')\n",
    "plt.title('Доли популярных имен в разрезе полов')\n",
    "plt.xlabel('Года')\n",
    "plt.ylabel('Доля в %')\n",
    "plt.legend(['Ж'])\n",
    "plt.show()"
   ]
  },
  {
   "cell_type": "code",
   "execution_count": null,
   "metadata": {
    "collapsed": false
   },
   "outputs": [],
   "source": [
    "f_total"
   ]
  },
  {
   "cell_type": "code",
   "execution_count": null,
   "metadata": {
    "collapsed": true
   },
   "outputs": [],
   "source": []
  }
 ],
 "metadata": {
  "kernelspec": {
   "display_name": "Python 3",
   "language": "python",
   "name": "python3"
  },
  "language_info": {
   "codemirror_mode": {
    "name": "ipython",
    "version": 3
   },
   "file_extension": ".py",
   "mimetype": "text/x-python",
   "name": "python",
   "nbconvert_exporter": "python",
   "pygments_lexer": "ipython3",
   "version": "3.6.0"
  }
 },
 "nbformat": 4,
 "nbformat_minor": 2
}
