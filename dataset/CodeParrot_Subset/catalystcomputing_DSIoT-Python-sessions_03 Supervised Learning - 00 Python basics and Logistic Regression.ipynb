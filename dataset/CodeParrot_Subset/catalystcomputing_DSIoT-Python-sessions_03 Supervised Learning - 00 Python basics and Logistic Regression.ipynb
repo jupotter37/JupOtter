{
 "cells": [
  {
   "cell_type": "code",
   "execution_count": null,
   "metadata": {
    "collapsed": false
   },
   "outputs": [],
   "source": [
    "# Here we introduce Data science by starting with a common regression model(logistic regression). The example uses the Iris Dataset\n",
    "# We also introduce Python as we develop the model. (The Iris dataset section is adatped from an example from Analyics Vidhya) \n",
    "# Python uses some libraries which we load first. \n",
    "# numpy is used for Array operations\n",
    "# mathplotlib is used for visualization\n",
    "\n",
    "import numpy as np\n",
    "import matplotlib as mp\n",
    "from sklearn import datasets\n",
    "from sklearn import metrics\n",
    "from sklearn.linear_model import LogisticRegression"
   ]
  },
  {
   "cell_type": "code",
   "execution_count": null,
   "metadata": {
    "collapsed": true
   },
   "outputs": [],
   "source": [
    "dataset = datasets.load_iris()"
   ]
  },
  {
   "cell_type": "code",
   "execution_count": null,
   "metadata": {
    "collapsed": false
   },
   "outputs": [],
   "source": [
    "# Display the data\n",
    "dataset"
   ]
  },
  {
   "cell_type": "code",
   "execution_count": null,
   "metadata": {
    "collapsed": false
   },
   "outputs": [],
   "source": [
    "# first we need to understand the data\n",
    "\n",
    "from IPython.display import Image\n",
    "from IPython.core.display import HTML\n",
    "Image(\"https://upload.wikimedia.org/wikipedia/commons/5/56/Kosaciec_szczecinkowaty_Iris_setosa.jpg\")"
   ]
  },
  {
   "cell_type": "code",
   "execution_count": null,
   "metadata": {
    "collapsed": false
   },
   "outputs": [],
   "source": [
    "Image(\"http://www.opengardensblog.futuretext.com/wp-content/uploads/2016/01/iris-dataset-sample.jpg\")"
   ]
  },
  {
   "cell_type": "code",
   "execution_count": null,
   "metadata": {
    "collapsed": false
   },
   "outputs": [],
   "source": [
    "# In statistics, linear regression is an approach for modeling the relationship between a scalar dependent variable y \n",
    "# and one or more explanatory variables (or independent variables) denoted X. There are differnt types of regressions that model the\n",
    "# relationship between the independent and the dependent variables \n",
    "\n",
    "# In linear regression, the relationships are modeled using linear predictor functions whose unknown model \n",
    "# parameters are estimated from the data. Such models are called linear models.\n",
    "\n",
    "# In mathematics, a linear combination is an expression constructed from a set of terms by multiplying \n",
    "# each term by a constant and adding the results (e.g. a linear combination of x and y would be any expression of the \n",
    "# form ax + by, where a and b are constants)\n",
    "\n",
    "# Linear regression\n",
    "Image(\"https://www.biomedware.com/files/documentation/spacestat/Statistics/Multivariate_Modeling/Regression/regression_line.png\")"
   ]
  },
  {
   "cell_type": "code",
   "execution_count": null,
   "metadata": {
    "collapsed": false
   },
   "outputs": [],
   "source": [
    "Image(url=\"http://31.media.tumblr.com/e00b481257fac723638b32271e611a2f/tumblr_inline_ntui2ohGy41sfzcxh_500.gif\")"
   ]
  },
  {
   "cell_type": "markdown",
   "metadata": {},
   "source": [
    "We use the <b> Iris dataset </b> \n",
    "\n",
    "https://en.m.wikipedia.org/wiki/Iris_flower_data_set\n",
    "\n",
    "The data set consists of 50 samples from each of three species of Iris (Iris setosa, Iris virginica and Iris versicolor). Four features were measured from each sample: the length and the width of the sepals and petals, in centimetres. Based on the combination of these four features, Fisher developed a linear discriminant model to distinguish the species from each other.\n",
    "\n",
    "logistic regression\n",
    "\n",
    "While logistic regression gives each predictor (independent variable) a coefficient ‘b’ which measures its independent contribution to variations in the dependent variable, the dependent variable can only take on one of the two values: 0 or 1. What we want to predict from knowledge of relevant independent variables and coefficients is therefore not a numerical value of a dependent variable as in linear regression, but rather the probability (p) that it is 1 rather than 0 (belonging to one group rather than the other). \n",
    "\n",
    "The outcome of the regression is not a prediction of a Y value, as in linear regression, but a probability of belonging to one of two conditions of Y, which can take on any value between 0 and 1 rather than just 0 and 1. \n",
    "\n",
    "The crucial limitation of linear regression is that it cannot deal with dependent variable’s that are dichotomous and categorical. Many interesting variables are dichotomous: for example, consumers make a decision to buy or not buy, a product may pass or fail quality control, there are good or poor credit risks, an employee may be promoted or not. A range of regression techniques have been developed for analysing data with categorical dependent variables, including logistic regression and discriminant analysis. \n",
    "\n"
   ]
  },
  {
   "cell_type": "code",
   "execution_count": null,
   "metadata": {
    "collapsed": false
   },
   "outputs": [],
   "source": [
    "model = LogisticRegression()\n",
    "model.fit(dataset.data, dataset.target)"
   ]
  },
  {
   "cell_type": "code",
   "execution_count": null,
   "metadata": {
    "collapsed": true
   },
   "outputs": [],
   "source": [
    "expected = dataset.target\n",
    "predicted = model.predict(dataset.data)"
   ]
  },
  {
   "cell_type": "code",
   "execution_count": null,
   "metadata": {
    "collapsed": false
   },
   "outputs": [],
   "source": [
    "# classification metrics report builds a text report showing the main classification metrics\n",
    "# In pattern recognition and information retrieval with binary classification, \n",
    "# precision (also called positive predictive value) is the fraction of retrieved instances that are relevant, \n",
    "# while recall (also known as sensitivity) is the fraction of relevant instances that are retrieved. \n",
    "# Both precision and recall are therefore based on an understanding and measure of relevance. \n",
    "# Suppose a computer program for recognizing dogs in scenes from a video identifies 7 dogs in a scene containing 9 dogs \n",
    "# and some cats. If 4 of the identifications are correct, but 3 are actually cats, the program's precision is 4/7 \n",
    "# while its recall is 4/9.\n",
    "\n",
    "# In statistical analysis of binary classification, the F1 score (also F-score or F-measure) is a measure of a test's accuracy. \n",
    "# It considers both the precision p and the recall r of the test to compute the score: \n",
    "# p is the number of correct positive results divided by the number of all positive results, \n",
    "# and r is the number of correct positive results divided by the number of positive results that should have been returned. \n",
    "# The F1 score can be interpreted as a weighted average of the precision and recall\n",
    "\n",
    "print(metrics.classification_report(expected, predicted))"
   ]
  },
  {
   "cell_type": "code",
   "execution_count": null,
   "metadata": {
    "collapsed": false
   },
   "outputs": [],
   "source": [
    "# Confusion matrix \n",
    "# https://en.wikipedia.org/wiki/Confusion_matrix\n",
    "# In the field of machine learning, a confusion matrix is a table layout that allows visualization of the performance \n",
    "# of an algorithm, typically a supervised learning one. \n",
    "# Each column of the matrix represents the instances in a predicted class \n",
    "# while each row represents the instances in an actual class (or vice-versa)\n"
   ]
  },
  {
   "cell_type": "code",
   "execution_count": null,
   "metadata": {
    "collapsed": false
   },
   "outputs": [],
   "source": [
    "# If a classification system has been trained to distinguish between cats, dogs and rabbits, \n",
    "# a confusion matrix will summarize the results of testing the algorithm for further inspection. \n",
    "# Assuming a sample of 27 animals — 8 cats, 6 dogs, and 13 rabbits, the resulting confusion matrix \n",
    "# could look like the table below:\n",
    "\n",
    "Image(\"http://www.opengardensblog.futuretext.com/wp-content/uploads/2016/01/confusion-matrix.jpg\")\n",
    "\n",
    "# In this confusion matrix, of the 8 actual cats, the system predicted that three were dogs, \n",
    "# and of the six dogs, it predicted that one was a rabbit and two were cats. \n",
    "# We can see from the matrix that the system in question has trouble distinguishing between cats and dogs, \n",
    "# but can make the distinction between rabbits and other types of animals pretty well. \n",
    "# All correct guesses are located in the diagonal of the table, so it's easy to visually \n",
    "# inspect the table for errors, as they will be represented by values outside the diagonal."
   ]
  },
  {
   "cell_type": "code",
   "execution_count": null,
   "metadata": {
    "collapsed": false
   },
   "outputs": [],
   "source": [
    "print (metrics.confusion_matrix(expected, predicted))"
   ]
  },
  {
   "cell_type": "code",
   "execution_count": null,
   "metadata": {
    "collapsed": true
   },
   "outputs": [],
   "source": [
    "import pandas as pd"
   ]
  },
  {
   "cell_type": "markdown",
   "metadata": {},
   "source": [
    "We typically need the following libraries:\n",
    "\n",
    "<b> NumPy </b> Numerical Python - mainly used for n-dimensional array(which is absent in traditional Python).\n",
    "Also contains basic linear algebra functions, Fourier transforms,  advanced random number capabilities and tools for integration with other low level languages like Fortran, C and C++\n",
    "\n",
    "<b>SciPy</b> Scientific Python (built on NumPy). Contains a variety of high level science and engineering modules like discrete Fourier transform, Linear Algebra, Optimization and Sparse matrices.\n",
    "\n",
    "<b> Matplotlib </b> for plotting vast variety of graphs ex histograms, line plots and heat maps.\n",
    "\n",
    "<b> Pandas </b> for structured data operations and data manipulation. It is extensively used for pre processing. \n",
    "\n",
    "<b> Scikit Learn </b>  for machine learning. Built on NumPy, SciPy and matplotlib, this library contains a lot of effiecient tools for machine learning and statistical modeling including classification, regression, clustering and dimensionality reduction.\n",
    "Statsmodels for statistical modeling. Statsmodels is a Python module that allows users to explore data, estimate statistical models, and perform statistical tests. An extensive list of descriptive statistics, statistical tests, plotting functions, and result statistics are available for different types of data and each estimator.\n",
    "Seaborn for statistical data visualization. Seaborn is a library for making attractive and informative statistical graphics in Python. It is based on matplotlib. Seaborn aims to make visualization a central part of exploring and understanding data.\n",
    " \n",
    "\n",
    "<b>Additional libraries, you might need:</b>\n",
    "\n",
    "urllib for web based operations like opening URLs and performing operations\n",
    "os for Operating system and file operations\n",
    "networkx and igraph for graph based data manipulations\n",
    "regular expressions for finding patterns in text data\n",
    "BeautifulSoup for scrapping web"
   ]
  },
  {
   "cell_type": "code",
   "execution_count": null,
   "metadata": {
    "collapsed": false
   },
   "outputs": [],
   "source": [
    "integers_list = [1,3,5,7,9] # lists are seperated by square brackets\n",
    "print(integers_list)\n",
    "tuple_integers = 1,3,5,7,9 #tuples are seperated by commas and are immutable\n",
    "print(tuple_integers)\n",
    "tuple_integers[0] = 11"
   ]
  },
  {
   "cell_type": "code",
   "execution_count": null,
   "metadata": {
    "collapsed": true
   },
   "outputs": [],
   "source": [
    "#Python strings can be in single or double quotes\n",
    "string_ds = \"Data Science\""
   ]
  },
  {
   "cell_type": "code",
   "execution_count": null,
   "metadata": {
    "collapsed": true
   },
   "outputs": [],
   "source": [
    "string_iot = \"Internet of Things\""
   ]
  },
  {
   "cell_type": "code",
   "execution_count": null,
   "metadata": {
    "collapsed": true
   },
   "outputs": [],
   "source": [
    "string_dsiot = string_ds + \" for \" + string_iot"
   ]
  },
  {
   "cell_type": "code",
   "execution_count": null,
   "metadata": {
    "collapsed": false
   },
   "outputs": [],
   "source": [
    "print (string_dsiot)"
   ]
  },
  {
   "cell_type": "code",
   "execution_count": null,
   "metadata": {
    "collapsed": false
   },
   "outputs": [],
   "source": [
    "len(string_dsiot)"
   ]
  },
  {
   "cell_type": "code",
   "execution_count": null,
   "metadata": {
    "collapsed": false
   },
   "outputs": [],
   "source": [
    "# sets are unordered collections with no duplicate elements\n",
    "prog_languages = set(['Python', 'Java', 'Scala'])\n",
    "prog_languages"
   ]
  },
  {
   "cell_type": "code",
   "execution_count": null,
   "metadata": {
    "collapsed": true
   },
   "outputs": [],
   "source": [
    "# Dictionaies are comma seperated key value pairs seperated by braces\n",
    "dict_marks = {'John':95, 'Mark': 100, 'Anna': 99}"
   ]
  },
  {
   "cell_type": "code",
   "execution_count": null,
   "metadata": {
    "collapsed": false
   },
   "outputs": [],
   "source": [
    "dict_marks['John']"
   ]
  },
  {
   "cell_type": "code",
   "execution_count": null,
   "metadata": {
    "collapsed": true
   },
   "outputs": [],
   "source": []
  }
 ],
 "metadata": {
  "kernelspec": {
   "display_name": "Python 2",
   "language": "python",
   "name": "python2"
  },
  "language_info": {
   "codemirror_mode": {
    "name": "ipython",
    "version": 2
   },
   "file_extension": ".py",
   "mimetype": "text/x-python",
   "name": "python",
   "nbconvert_exporter": "python",
   "pygments_lexer": "ipython2",
   "version": "2.7.11"
  }
 },
 "nbformat": 4,
 "nbformat_minor": 0
}
