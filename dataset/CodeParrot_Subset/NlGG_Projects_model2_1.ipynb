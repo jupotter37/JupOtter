{
 "cells": [
  {
   "cell_type": "code",
   "execution_count": 1,
   "metadata": {
    "collapsed": false
   },
   "outputs": [
    {
     "name": "stderr",
     "output_type": "stream",
     "text": [
      "/Users/NIGG/anaconda/lib/python3.5/site-packages/matplotlib/__init__.py:1035: UserWarning: Duplicate key in file \"/Users/NIGG/.matplotlib/matplotlibrc\", line #515\n",
      "  (fname, cnt))\n",
      "/Users/NIGG/anaconda/lib/python3.5/site-packages/matplotlib/__init__.py:1035: UserWarning: Duplicate key in file \"/Users/NIGG/.matplotlib/matplotlibrc\", line #516\n",
      "  (fname, cnt))\n"
     ]
    }
   ],
   "source": [
    "%matplotlib inline"
   ]
  },
  {
   "cell_type": "code",
   "execution_count": 2,
   "metadata": {
    "collapsed": false
   },
   "outputs": [],
   "source": [
    "import numpy as np\n",
    "import pandas as pd\n",
    "\n",
    "#　統計用ツール\n",
    "import statsmodels.api as sm\n",
    "import statsmodels.tsa.api as tsa\n",
    "from patsy import dmatrices\n",
    "\n",
    "#　自作の空間統計用ツール\n",
    "from spatialstat import *\n",
    "\n",
    "#描画\n",
    "import matplotlib.pyplot as plt\n",
    "from pandas.tools.plotting import autocorrelation_plot\n",
    "import seaborn as sns\n",
    "sns.set(font=['IPAmincho'])\n",
    "\n",
    "#深層学習\n",
    "import chainer\n",
    "from chainer import cuda, Function, gradient_check, Variable, optimizers, serializers, utils\n",
    "from chainer import Link, Chain, ChainList\n",
    "import chainer.functions as F\n",
    "import chainer.links as L\n",
    "\n",
    "import pyper"
   ]
  },
  {
   "cell_type": "markdown",
   "metadata": {},
   "source": [
    "### 変数名とデータの内容メモ\n",
    "\tCENSUS: 市区町村コード(9桁)\n",
    "\tP:      成約価格\n",
    "\tS:      専有面積\n",
    "\tL:      土地面積\n",
    "\tR:      部屋数\n",
    "\tRW:     前面道路幅員\n",
    "\tCY:     建築年\n",
    "\tA:      建築後年数(成約時)\n",
    "\tTS:     最寄駅までの距離\n",
    "\tTT:     東京駅までの時間\n",
    "\tACC:    ターミナル駅までの時間\n",
    "\tWOOD:   木造ダミー\n",
    "\tSOUTH:  南向きダミー\n",
    "\tRSD:    住居系地域ダミー\n",
    "\tCMD:    商業系地域ダミー\n",
    "\tIDD:    工業系地域ダミー\n",
    "\tFAR:    建ぺい率\n",
    "\tFLR:    容積率\n",
    "\tTDQ:    成約時点(四半期)\n",
    "\tX:      緯度\n",
    "\tY:      経度\n",
    "\tCITY_CODE: 市区町村コード(5桁)\n",
    "\tCITY_NAME: 市区町村名\n",
    "\tBLOCK:     地域ブロック名"
   ]
  },
  {
   "cell_type": "code",
   "execution_count": 9,
   "metadata": {
    "collapsed": false
   },
   "outputs": [],
   "source": [
    "data = pd.read_csv(\"TokyoSingle.csv\")\n",
    "data = data.dropna()\n",
    "CITY_NAME = data['CITY_CODE'].copy()"
   ]
  },
  {
   "cell_type": "code",
   "execution_count": 10,
   "metadata": {
    "collapsed": false
   },
   "outputs": [],
   "source": [
    "CITY_NAME[CITY_NAME == 13101] = '01千代田区'\n",
    "CITY_NAME[CITY_NAME == 13102] = \"02中央区\"\n",
    "CITY_NAME[CITY_NAME == 13103] = \"03港区\"\n",
    "CITY_NAME[CITY_NAME == 13104] = \"04新宿区\"\n",
    "CITY_NAME[CITY_NAME == 13105] = \"05文京区\"\n",
    "CITY_NAME[CITY_NAME == 13106] = \"06台東区\"\n",
    "CITY_NAME[CITY_NAME == 13107] = \"07墨田区\"\n",
    "CITY_NAME[CITY_NAME == 13108] = \"08江東区\"\n",
    "CITY_NAME[CITY_NAME == 13109] = \"09品川区\"\n",
    "CITY_NAME[CITY_NAME == 13110] = \"10目黒区\"\n",
    "CITY_NAME[CITY_NAME == 13111] = \"11大田区\"\n",
    "CITY_NAME[CITY_NAME == 13112] = \"12世田谷区\"\n",
    "CITY_NAME[CITY_NAME == 13113] = \"13渋谷区\"\n",
    "CITY_NAME[CITY_NAME == 13114] = \"14中野区\"\n",
    "CITY_NAME[CITY_NAME == 13115] = \"15杉並区\"\n",
    "CITY_NAME[CITY_NAME == 13116] = \"16豊島区\"\n",
    "CITY_NAME[CITY_NAME == 13117] = \"17北区\"\n",
    "CITY_NAME[CITY_NAME == 13118] = \"18荒川区\"\n",
    "CITY_NAME[CITY_NAME == 13119] = \"19板橋区\"\n",
    "CITY_NAME[CITY_NAME == 13120] = \"20練馬区\"\n",
    "CITY_NAME[CITY_NAME == 13121] = \"21足立区\"\n",
    "CITY_NAME[CITY_NAME == 13122] = \"22葛飾区\"\n",
    "CITY_NAME[CITY_NAME == 13123] = \"23江戸川区\""
   ]
  },
  {
   "cell_type": "code",
   "execution_count": 11,
   "metadata": {
    "collapsed": false
   },
   "outputs": [],
   "source": [
    "#Make Japanese Block name\n",
    "BLOCK = data[\"CITY_CODE\"].copy()\n",
    "BLOCK[BLOCK == 13101] = \"01都心・城南\"\n",
    "BLOCK[BLOCK == 13102] = \"01都心・城南\"\n",
    "BLOCK[BLOCK == 13103] = \"01都心・城南\"\n",
    "BLOCK[BLOCK == 13104] = \"01都心・城南\"\n",
    "BLOCK[BLOCK == 13109] = \"01都心・城南\"\n",
    "BLOCK[BLOCK == 13110] = \"01都心・城南\"\n",
    "BLOCK[BLOCK == 13111] = \"01都心・城南\"\n",
    "BLOCK[BLOCK == 13112] = \"01都心・城南\"\n",
    "BLOCK[BLOCK == 13113] = \"01都心・城南\"\n",
    "BLOCK[BLOCK == 13114] = \"02城西・城北\"\n",
    "BLOCK[BLOCK == 13115] = \"02城西・城北\"\n",
    "BLOCK[BLOCK == 13105] = \"02城西・城北\"\n",
    "BLOCK[BLOCK == 13106] = \"02城西・城北\"\n",
    "BLOCK[BLOCK == 13116] = \"02城西・城北\"\n",
    "BLOCK[BLOCK == 13117] = \"02城西・城北\"\n",
    "BLOCK[BLOCK == 13119] = \"02城西・城北\"\n",
    "BLOCK[BLOCK == 13120] = \"02城西・城北\"\n",
    "BLOCK[BLOCK == 13107] = \"03城東\"\n",
    "BLOCK[BLOCK == 13108] = \"03城東\"\n",
    "BLOCK[BLOCK == 13118] = \"03城東\"\n",
    "BLOCK[BLOCK == 13121] = \"03城東\"\n",
    "BLOCK[BLOCK == 13122] = \"03城東\"\n",
    "BLOCK[BLOCK == 13123] = \"03城東\""
   ]
  },
  {
   "cell_type": "code",
   "execution_count": 12,
   "metadata": {
    "collapsed": false
   },
   "outputs": [],
   "source": [
    "names = list(data.columns) + ['CITY_NAME', 'BLOCK']\n",
    "data = pd.concat((data, CITY_NAME, BLOCK), axis = 1)\n",
    "data.columns = names"
   ]
  },
  {
   "cell_type": "markdown",
   "metadata": {},
   "source": [
    "#### 市区町村別の件数を集計"
   ]
  },
  {
   "cell_type": "code",
   "execution_count": 13,
   "metadata": {
    "collapsed": false
   },
   "outputs": [
    {
     "name": "stdout",
     "output_type": "stream",
     "text": [
      "12世田谷区    12340\n",
      "20練馬区      9979\n",
      "15杉並区      8131\n",
      "11大田区      7052\n",
      "21足立区      6479\n",
      "19板橋区      4827\n",
      "14中野区      3924\n",
      "10目黒区      3418\n",
      "22葛飾区      3165\n",
      "23江戸川区     3156\n",
      "09品川区      2424\n",
      "16豊島区      2153\n",
      "04新宿区      1885\n",
      "17北区       1799\n",
      "13渋谷区      1487\n",
      "05文京区      1242\n",
      "18荒川区      1005\n",
      "08江東区       981\n",
      "03港区        757\n",
      "07墨田区       725\n",
      "06台東区       371\n",
      "02中央区        56\n",
      "01千代田区       32\n",
      "Name: CITY_NAME, dtype: int64\n"
     ]
    }
   ],
   "source": [
    "print(data['CITY_NAME'].value_counts())                       "
   ]
  },
  {
   "cell_type": "code",
   "execution_count": 23,
   "metadata": {
    "collapsed": false
   },
   "outputs": [],
   "source": [
    "vars = ['P', 'S', 'L', 'R', 'RW', 'A', 'TS', 'TT', 'WOOD', 'SOUTH', 'CMD', 'IDD', 'FAR', 'X', 'Y']\n",
    "eq = fml_build(vars)\n",
    "\n",
    "y, X = dmatrices(eq, data=data, return_type='dataframe')\n",
    "\n",
    "CITY_NAME = pd.get_dummies(data['CITY_NAME'])\n",
    "TDQ = pd.get_dummies(data['TDQ'])\n",
    "\n",
    "X = pd.concat((X, CITY_NAME, TDQ), axis=1)\n",
    "\n",
    "datas = pd.concat((y, X), axis=1)\n",
    "datas = datas[datas['12世田谷区'] == 1][0:5000]"
   ]
  },
  {
   "cell_type": "code",
   "execution_count": 24,
   "metadata": {
    "collapsed": false
   },
   "outputs": [],
   "source": [
    "class CAR(Chain):\n",
    "    def __init__(self, unit1, unit2, unit3, col_num):\n",
    "        self.unit1 = unit1\n",
    "        self.unit2 = unit2\n",
    "        self.unit3 = unit3\n",
    "        super(CAR, self).__init__(\n",
    "            l1 = L.Linear(col_num, unit1),\n",
    "            l2 = L.Linear(self.unit1, self.unit1),\n",
    "            l3 = L.Linear(self.unit1, self.unit2),\n",
    "            l4 = L.Linear(self.unit2, self.unit3),\n",
    "            l5 = L.Linear(self.unit3, self.unit3),\n",
    "            l6 = L.Linear(self.unit3, 1),\n",
    "        )\n",
    "    \n",
    "    def __call__(self, x, y):\n",
    "        fv = self.fwd(x, y)\n",
    "        loss = F.mean_squared_error(fv, y)\n",
    "        return loss\n",
    "    \n",
    "    def fwd(self, x, y):\n",
    "        h1 = F.sigmoid(self.l1(x))\n",
    "        h2 = F.sigmoid(self.l2(h1))\n",
    "        h3 = F.sigmoid(self.l3(h2))\n",
    "        h4 = F.sigmoid(self.l4(h3))\n",
    "        h5 = F.sigmoid(self.l5(h4))\n",
    "        h6 = self.l6(h5)\n",
    "        return h6"
   ]
  },
  {
   "cell_type": "code",
   "execution_count": 75,
   "metadata": {
    "collapsed": false
   },
   "outputs": [],
   "source": [
    "class DLmodel(object):\n",
    "    def __init__(self, data, vars, bs=200, n=1000):\n",
    "        self.vars = vars\n",
    "        eq = fml_build(vars)\n",
    "        y, X = dmatrices(eq, data=datas, return_type='dataframe')\n",
    "        self.y_in = y[:-n]\n",
    "        self.X_in = X[:-n]\n",
    "        self.y_ex = y[-n:]\n",
    "        self.X_ex = X[-n:]\n",
    "        \n",
    "        self.logy_in = np.log(self.y_in)\n",
    "        self.logy_ex = np.log(self.y_ex)\n",
    "        \n",
    "        self.bs = bs\n",
    "        \n",
    "    def DL(self, ite=100, bs=200, add=False):\n",
    "        y_in = np.array(self.y_in, dtype='float32')       \n",
    "        X_in = np.array(self.X_in, dtype='float32')\n",
    "\n",
    "        y = Variable(y_in)\n",
    "        x = Variable(X_in)\n",
    "\n",
    "        num, col_num = X_in.shape\n",
    "        \n",
    "        if add is False:\n",
    "            self.model1 = CAR(13, 13, 3, col_num)\n",
    "            \n",
    "        optimizer = optimizers.Adam()\n",
    "        optimizer.setup(self.model1)\n",
    "        \n",
    "        loss_val = 100000000\n",
    "\n",
    "        for j in range(ite + 10000):\n",
    "            sffindx = np.random.permutation(num)\n",
    "            for i in range(0, num, bs):\n",
    "                x = Variable(X_in[sffindx[i:(i+bs) if (i+bs) < num else num]])\n",
    "                y = Variable(y_in[sffindx[i:(i+bs) if (i+bs) < num else num]])\n",
    "                self.model1.zerograds()\n",
    "                loss = self.model1(x, y)\n",
    "                loss.backward()\n",
    "                optimizer.update()\n",
    "            if loss_val >= loss.data:\n",
    "                loss_val = loss.data\n",
    "            if j > ite:\n",
    "                if loss_val >= loss.data:\n",
    "                    loss_val = loss.data\n",
    "                    print('epoch:', j)\n",
    "                    print('train mean loss={}'.format(loss_val))\n",
    "                    print(' - - - - - - - - - ')\n",
    "                    break\n",
    "            if j % 1000 == 0:\n",
    "                print('epoch:', j)\n",
    "                print('train mean loss={}'.format(loss_val))\n",
    "                print(' - - - - - - - - - ')\n",
    "            \n",
    "    def predict(self):\n",
    "        y_ex = np.array(self.y_ex, dtype='float32').reshape(len(self.y_ex))\n",
    "        \n",
    "        X_ex = np.array(self.X_ex, dtype='float32')\n",
    "        X_ex = Variable(X_ex)\n",
    "        resid_pred =  self.model1.fwd(X_ex, X_ex).data  \n",
    "        print(resid_pred[:10])\n",
    "        \n",
    "        self.pred = resid_pred\n",
    "        self.error = np.array(y_ex - self.pred.reshape(len(self.pred),))[0]\n",
    "        \n",
    "    def compare(self):\n",
    "        plt.hist(self.error)"
   ]
  },
  {
   "cell_type": "code",
   "execution_count": 76,
   "metadata": {
    "collapsed": false
   },
   "outputs": [],
   "source": [
    "vars = ['P', 'S', 'L', 'R', 'RW', 'A', 'TS', 'TT', 'WOOD', 'SOUTH', 'CMD', 'IDD', 'FAR']\n",
    "#vars += vars + list(TDQ.columns)"
   ]
  },
  {
   "cell_type": "code",
   "execution_count": 77,
   "metadata": {
    "collapsed": false
   },
   "outputs": [],
   "source": [
    "model = DLmodel(datas, vars)"
   ]
  },
  {
   "cell_type": "code",
   "execution_count": 78,
   "metadata": {
    "collapsed": false
   },
   "outputs": [
    {
     "name": "stdout",
     "output_type": "stream",
     "text": [
      "epoch: 0\n",
      "train mean loss=56888976.0\n",
      " - - - - - - - - - \n",
      "epoch: 1000\n",
      "train mean loss=48387068.0\n",
      " - - - - - - - - - \n",
      "epoch: 2000\n",
      "train mean loss=46748284.0\n",
      " - - - - - - - - - \n",
      "epoch: 3000\n",
      "train mean loss=44967768.0\n",
      " - - - - - - - - - \n",
      "epoch: 4000\n",
      "train mean loss=41678352.0\n",
      " - - - - - - - - - \n",
      "epoch: 5000\n",
      "train mean loss=41678352.0\n",
      " - - - - - - - - - \n",
      "epoch: 6000\n",
      "train mean loss=41678352.0\n",
      " - - - - - - - - - \n",
      "epoch: 7000\n",
      "train mean loss=40469888.0\n",
      " - - - - - - - - - \n",
      "epoch: 8000\n",
      "train mean loss=40469888.0\n",
      " - - - - - - - - - \n",
      "epoch: 9000\n",
      "train mean loss=38288768.0\n",
      " - - - - - - - - - \n",
      "epoch: 10000\n",
      "train mean loss=37253708.0\n",
      " - - - - - - - - - \n",
      "epoch: 11000\n",
      "train mean loss=37253708.0\n",
      " - - - - - - - - - \n",
      "epoch: 12000\n",
      "train mean loss=37020724.0\n",
      " - - - - - - - - - \n",
      "epoch: 13000\n",
      "train mean loss=35186492.0\n",
      " - - - - - - - - - \n",
      "epoch: 14000\n",
      "train mean loss=34883460.0\n",
      " - - - - - - - - - \n",
      "epoch: 15000\n",
      "train mean loss=33269868.0\n",
      " - - - - - - - - - \n",
      "epoch: 16000\n",
      "train mean loss=33269868.0\n",
      " - - - - - - - - - \n",
      "epoch: 17000\n",
      "train mean loss=31171240.0\n",
      " - - - - - - - - - \n",
      "epoch: 18000\n",
      "train mean loss=31171240.0\n",
      " - - - - - - - - - \n",
      "epoch: 19000\n",
      "train mean loss=30821448.0\n",
      " - - - - - - - - - \n",
      "epoch: 20000\n",
      "train mean loss=29305584.0\n",
      " - - - - - - - - - \n",
      "epoch: 21000\n",
      "train mean loss=29305584.0\n",
      " - - - - - - - - - \n",
      "epoch: 21037\n",
      "train mean loss=29037132.0\n",
      " - - - - - - - - - \n",
      "epoch: 21609\n",
      "train mean loss=28761692.0\n",
      " - - - - - - - - - \n",
      "epoch: 22000\n",
      "train mean loss=28761692.0\n",
      " - - - - - - - - - \n",
      "epoch: 22391\n",
      "train mean loss=28700480.0\n",
      " - - - - - - - - - \n",
      "epoch: 22637\n",
      "train mean loss=28154572.0\n",
      " - - - - - - - - - \n",
      "epoch: 23000\n",
      "train mean loss=28154572.0\n",
      " - - - - - - - - - \n",
      "epoch: 23155\n",
      "train mean loss=28066752.0\n",
      " - - - - - - - - - \n",
      "epoch: 23589\n",
      "train mean loss=27559478.0\n",
      " - - - - - - - - - \n",
      "epoch: 23716\n",
      "train mean loss=26798796.0\n",
      " - - - - - - - - - \n",
      "epoch: 24000\n",
      "train mean loss=26798796.0\n",
      " - - - - - - - - - \n",
      "epoch: 24378\n",
      "train mean loss=25748072.0\n",
      " - - - - - - - - - \n",
      "epoch: 25000\n",
      "train mean loss=25748072.0\n",
      " - - - - - - - - - \n",
      "epoch: 25087\n",
      "train mean loss=24504744.0\n",
      " - - - - - - - - - \n",
      "epoch: 25880\n",
      "train mean loss=24191330.0\n",
      " - - - - - - - - - \n",
      "epoch: 26000\n",
      "train mean loss=24191330.0\n",
      " - - - - - - - - - \n",
      "epoch: 27000\n",
      "train mean loss=24191330.0\n",
      " - - - - - - - - - \n",
      "epoch: 28000\n",
      "train mean loss=24191330.0\n",
      " - - - - - - - - - \n",
      "epoch: 28167\n",
      "train mean loss=23600912.0\n",
      " - - - - - - - - - \n",
      "epoch: 28654\n",
      "train mean loss=23484652.0\n",
      " - - - - - - - - - \n",
      "epoch: 29000\n",
      "train mean loss=23484652.0\n",
      " - - - - - - - - - \n",
      "epoch: 29516\n",
      "train mean loss=22430598.0\n",
      " - - - - - - - - - \n",
      "epoch: 29634\n",
      "train mean loss=22330502.0\n",
      " - - - - - - - - - \n",
      "epoch: 29937\n",
      "train mean loss=22088384.0\n",
      " - - - - - - - - - \n"
     ]
    }
   ],
   "source": [
    "model.DL(ite=20000, bs=200)"
   ]
  },
  {
   "cell_type": "code",
   "execution_count": 79,
   "metadata": {
    "collapsed": false
   },
   "outputs": [
    {
     "name": "stdout",
     "output_type": "stream",
     "text": [
      "epoch: 0\n",
      "train mean loss=22346982.0\n",
      " - - - - - - - - - \n",
      "epoch: 1000\n",
      "train mean loss=21413112.0\n",
      " - - - - - - - - - \n",
      "epoch: 2000\n",
      "train mean loss=21413112.0\n",
      " - - - - - - - - - \n",
      "epoch: 3000\n",
      "train mean loss=20903448.0\n",
      " - - - - - - - - - \n",
      "epoch: 4000\n",
      "train mean loss=19988990.0\n",
      " - - - - - - - - - \n",
      "epoch: 5000\n",
      "train mean loss=18561308.0\n",
      " - - - - - - - - - \n",
      "epoch: 6000\n",
      "train mean loss=18561308.0\n",
      " - - - - - - - - - \n",
      "epoch: 7000\n",
      "train mean loss=18013032.0\n",
      " - - - - - - - - - \n",
      "epoch: 8000\n",
      "train mean loss=16432581.0\n",
      " - - - - - - - - - \n",
      "epoch: 9000\n",
      "train mean loss=16432581.0\n",
      " - - - - - - - - - \n",
      "epoch: 10000\n",
      "train mean loss=16432581.0\n",
      " - - - - - - - - - \n",
      "epoch: 11000\n",
      "train mean loss=15418825.0\n",
      " - - - - - - - - - \n",
      "epoch: 12000\n",
      "train mean loss=15239754.0\n",
      " - - - - - - - - - \n",
      "epoch: 13000\n",
      "train mean loss=15239754.0\n",
      " - - - - - - - - - \n",
      "epoch: 14000\n",
      "train mean loss=14351450.0\n",
      " - - - - - - - - - \n",
      "epoch: 15000\n",
      "train mean loss=14333427.0\n",
      " - - - - - - - - - \n",
      "epoch: 16000\n",
      "train mean loss=11407301.0\n",
      " - - - - - - - - - \n",
      "epoch: 17000\n",
      "train mean loss=11407301.0\n",
      " - - - - - - - - - \n",
      "epoch: 18000\n",
      "train mean loss=11407301.0\n",
      " - - - - - - - - - \n",
      "epoch: 19000\n",
      "train mean loss=11407301.0\n",
      " - - - - - - - - - \n",
      "epoch: 20000\n",
      "train mean loss=10856371.0\n",
      " - - - - - - - - - \n",
      "epoch: 21000\n",
      "train mean loss=10856371.0\n",
      " - - - - - - - - - \n",
      "epoch: 22000\n",
      "train mean loss=10856371.0\n",
      " - - - - - - - - - \n",
      "epoch: 22204\n",
      "train mean loss=10669836.0\n",
      " - - - - - - - - - \n",
      "epoch: 22764\n",
      "train mean loss=10097909.0\n",
      " - - - - - - - - - \n",
      "epoch: 23000\n",
      "train mean loss=10097909.0\n",
      " - - - - - - - - - \n",
      "epoch: 24000\n",
      "train mean loss=10097909.0\n",
      " - - - - - - - - - \n",
      "epoch: 24106\n",
      "train mean loss=10008961.0\n",
      " - - - - - - - - - \n",
      "epoch: 25000\n",
      "train mean loss=10008961.0\n",
      " - - - - - - - - - \n",
      "epoch: 25033\n",
      "train mean loss=9990300.0\n",
      " - - - - - - - - - \n",
      "epoch: 25227\n",
      "train mean loss=8940188.0\n",
      " - - - - - - - - - \n",
      "epoch: 26000\n",
      "train mean loss=8940188.0\n",
      " - - - - - - - - - \n",
      "epoch: 27000\n",
      "train mean loss=8940188.0\n",
      " - - - - - - - - - \n",
      "epoch: 27170\n",
      "train mean loss=8830927.0\n",
      " - - - - - - - - - \n",
      "epoch: 27503\n",
      "train mean loss=8301732.5\n",
      " - - - - - - - - - \n",
      "epoch: 27717\n",
      "train mean loss=7827611.0\n",
      " - - - - - - - - - \n",
      "epoch: 28000\n",
      "train mean loss=7827611.0\n",
      " - - - - - - - - - \n",
      "epoch: 29000\n",
      "train mean loss=7827611.0\n",
      " - - - - - - - - - \n"
     ]
    }
   ],
   "source": [
    "model.DL(ite=20000, bs=200, add=True)"
   ]
  },
  {
   "cell_type": "code",
   "execution_count": 303,
   "metadata": {
    "collapsed": false
   },
   "outputs": [
    {
     "name": "stdout",
     "output_type": "stream",
     "text": [
      "[[-200.914505  ]\n",
      " [ 813.39611816]\n",
      " [-176.11975098]\n",
      " [  97.72927856]\n",
      " [ 813.26416016]\n",
      " [ 806.31604004]\n",
      " [-188.42362976]\n",
      " [-201.4822998 ]\n",
      " [  57.99349976]\n",
      " [-201.93777466]]\n"
     ]
    }
   ],
   "source": [
    "model.predict()"
   ]
  },
  {
   "cell_type": "markdown",
   "metadata": {},
   "source": [
    "青がOLSの誤差、緑がOLSと深層学習を組み合わせた誤差。"
   ]
  },
  {
   "cell_type": "code",
   "execution_count": 51,
   "metadata": {
    "collapsed": false
   },
   "outputs": [
    {
     "data": {
      "image/png": "[encoded data removed]",
      "text/plain": [
       "<matplotlib.figure.Figure at 0x1158240f0>"
      ]
     },
     "metadata": {},
     "output_type": "display_data"
    }
   ],
   "source": [
    "model.compare()"
   ]
  },
  {
   "cell_type": "code",
   "execution_count": 52,
   "metadata": {
    "collapsed": false
   },
   "outputs": [
    {
     "ename": "AttributeError",
     "evalue": "'DLmodel' object has no attribute 'error1'",
     "output_type": "error",
     "traceback": [
      "\u001b[0;31m---------------------------------------------------------------------------\u001b[0m",
      "\u001b[0;31mAttributeError\u001b[0m                            Traceback (most recent call last)",
      "\u001b[0;32m<ipython-input-52-a8639f66dddd>\u001b[0m in \u001b[0;36m<module>\u001b[0;34m()\u001b[0m\n\u001b[0;32m----> 1\u001b[0;31m \u001b[0mprint\u001b[0m\u001b[0;34m(\u001b[0m\u001b[0mnp\u001b[0m\u001b[0;34m.\u001b[0m\u001b[0mmean\u001b[0m\u001b[0;34m(\u001b[0m\u001b[0mmodel\u001b[0m\u001b[0;34m.\u001b[0m\u001b[0merror1\u001b[0m\u001b[0;34m)\u001b[0m\u001b[0;34m)\u001b[0m\u001b[0;34m\u001b[0m\u001b[0m\n\u001b[0m\u001b[1;32m      2\u001b[0m \u001b[0mprint\u001b[0m\u001b[0;34m(\u001b[0m\u001b[0mnp\u001b[0m\u001b[0;34m.\u001b[0m\u001b[0mmean\u001b[0m\u001b[0;34m(\u001b[0m\u001b[0mmodel\u001b[0m\u001b[0;34m.\u001b[0m\u001b[0merror2\u001b[0m\u001b[0;34m)\u001b[0m\u001b[0;34m)\u001b[0m\u001b[0;34m\u001b[0m\u001b[0m\n",
      "\u001b[0;31mAttributeError\u001b[0m: 'DLmodel' object has no attribute 'error1'"
     ]
    }
   ],
   "source": [
    "print(np.mean(model.error1))\n",
    "print(np.mean(model.error2))"
   ]
  },
  {
   "cell_type": "code",
   "execution_count": 53,
   "metadata": {
    "collapsed": false
   },
   "outputs": [
    {
     "ename": "AttributeError",
     "evalue": "'DLmodel' object has no attribute 'error1'",
     "output_type": "error",
     "traceback": [
      "\u001b[0;31m---------------------------------------------------------------------------\u001b[0m",
      "\u001b[0;31mAttributeError\u001b[0m                            Traceback (most recent call last)",
      "\u001b[0;32m<ipython-input-53-49cb976b3e2b>\u001b[0m in \u001b[0;36m<module>\u001b[0;34m()\u001b[0m\n\u001b[0;32m----> 1\u001b[0;31m \u001b[0mprint\u001b[0m\u001b[0;34m(\u001b[0m\u001b[0mnp\u001b[0m\u001b[0;34m.\u001b[0m\u001b[0mmean\u001b[0m\u001b[0;34m(\u001b[0m\u001b[0mnp\u001b[0m\u001b[0;34m.\u001b[0m\u001b[0mabs\u001b[0m\u001b[0;34m(\u001b[0m\u001b[0mmodel\u001b[0m\u001b[0;34m.\u001b[0m\u001b[0merror1\u001b[0m\u001b[0;34m)\u001b[0m\u001b[0;34m)\u001b[0m\u001b[0;34m)\u001b[0m\u001b[0;34m\u001b[0m\u001b[0m\n\u001b[0m\u001b[1;32m      2\u001b[0m \u001b[0mprint\u001b[0m\u001b[0;34m(\u001b[0m\u001b[0mnp\u001b[0m\u001b[0;34m.\u001b[0m\u001b[0mmean\u001b[0m\u001b[0;34m(\u001b[0m\u001b[0mnp\u001b[0m\u001b[0;34m.\u001b[0m\u001b[0mabs\u001b[0m\u001b[0;34m(\u001b[0m\u001b[0mmodel\u001b[0m\u001b[0;34m.\u001b[0m\u001b[0merror2\u001b[0m\u001b[0;34m)\u001b[0m\u001b[0;34m)\u001b[0m\u001b[0;34m)\u001b[0m\u001b[0;34m\u001b[0m\u001b[0m\n",
      "\u001b[0;31mAttributeError\u001b[0m: 'DLmodel' object has no attribute 'error1'"
     ]
    }
   ],
   "source": [
    "print(np.mean(np.abs(model.error1)))\n",
    "print(np.mean(np.abs(model.error2)))"
   ]
  },
  {
   "cell_type": "code",
   "execution_count": 54,
   "metadata": {
    "collapsed": false
   },
   "outputs": [
    {
     "ename": "AttributeError",
     "evalue": "'DLmodel' object has no attribute 'error1'",
     "output_type": "error",
     "traceback": [
      "\u001b[0;31m---------------------------------------------------------------------------\u001b[0m",
      "\u001b[0;31mAttributeError\u001b[0m                            Traceback (most recent call last)",
      "\u001b[0;32m<ipython-input-54-74a0f30af4ac>\u001b[0m in \u001b[0;36m<module>\u001b[0;34m()\u001b[0m\n\u001b[0;32m----> 1\u001b[0;31m \u001b[0mprint\u001b[0m\u001b[0;34m(\u001b[0m\u001b[0mmax\u001b[0m\u001b[0;34m(\u001b[0m\u001b[0mnp\u001b[0m\u001b[0;34m.\u001b[0m\u001b[0mabs\u001b[0m\u001b[0;34m(\u001b[0m\u001b[0mmodel\u001b[0m\u001b[0;34m.\u001b[0m\u001b[0merror1\u001b[0m\u001b[0;34m)\u001b[0m\u001b[0;34m)\u001b[0m\u001b[0;34m)\u001b[0m\u001b[0;34m\u001b[0m\u001b[0m\n\u001b[0m\u001b[1;32m      2\u001b[0m \u001b[0mprint\u001b[0m\u001b[0;34m(\u001b[0m\u001b[0mmax\u001b[0m\u001b[0;34m(\u001b[0m\u001b[0mnp\u001b[0m\u001b[0;34m.\u001b[0m\u001b[0mabs\u001b[0m\u001b[0;34m(\u001b[0m\u001b[0mmodel\u001b[0m\u001b[0;34m.\u001b[0m\u001b[0merror2\u001b[0m\u001b[0;34m)\u001b[0m\u001b[0;34m)\u001b[0m\u001b[0;34m)\u001b[0m\u001b[0;34m\u001b[0m\u001b[0m\n",
      "\u001b[0;31mAttributeError\u001b[0m: 'DLmodel' object has no attribute 'error1'"
     ]
    }
   ],
   "source": [
    "print(max(np.abs(model.error1)))\n",
    "print(max(np.abs(model.error2)))"
   ]
  },
  {
   "cell_type": "code",
   "execution_count": 55,
   "metadata": {
    "collapsed": false
   },
   "outputs": [
    {
     "ename": "AttributeError",
     "evalue": "'DLmodel' object has no attribute 'error1'",
     "output_type": "error",
     "traceback": [
      "\u001b[0;31m---------------------------------------------------------------------------\u001b[0m",
      "\u001b[0;31mAttributeError\u001b[0m                            Traceback (most recent call last)",
      "\u001b[0;32m<ipython-input-55-6c0a4f9e73d3>\u001b[0m in \u001b[0;36m<module>\u001b[0;34m()\u001b[0m\n\u001b[0;32m----> 1\u001b[0;31m \u001b[0mprint\u001b[0m\u001b[0;34m(\u001b[0m\u001b[0mnp\u001b[0m\u001b[0;34m.\u001b[0m\u001b[0mvar\u001b[0m\u001b[0;34m(\u001b[0m\u001b[0mmodel\u001b[0m\u001b[0;34m.\u001b[0m\u001b[0merror1\u001b[0m\u001b[0;34m)\u001b[0m\u001b[0;34m)\u001b[0m\u001b[0;34m\u001b[0m\u001b[0m\n\u001b[0m\u001b[1;32m      2\u001b[0m \u001b[0mprint\u001b[0m\u001b[0;34m(\u001b[0m\u001b[0mnp\u001b[0m\u001b[0;34m.\u001b[0m\u001b[0mvar\u001b[0m\u001b[0;34m(\u001b[0m\u001b[0mmodel\u001b[0m\u001b[0;34m.\u001b[0m\u001b[0merror2\u001b[0m\u001b[0;34m)\u001b[0m\u001b[0;34m)\u001b[0m\u001b[0;34m\u001b[0m\u001b[0m\n",
      "\u001b[0;31mAttributeError\u001b[0m: 'DLmodel' object has no attribute 'error1'"
     ]
    }
   ],
   "source": [
    "print(np.var(model.error1))\n",
    "print(np.var(model.error2))"
   ]
  },
  {
   "cell_type": "code",
   "execution_count": 316,
   "metadata": {
    "collapsed": false
   },
   "outputs": [
    {
     "data": {
      "image/png": "[encoded data removed]",
      "text/plain": [
       "<matplotlib.figure.Figure at 0x118583c18>"
      ]
     },
     "metadata": {},
     "output_type": "display_data"
    }
   ],
   "source": [
    "fig = plt.figure()\n",
    "ax = fig.add_subplot(111)\n",
    "\n",
    "errors = [model.error1, model.error2]\n",
    "\n",
    "bp = ax.boxplot(errors)\n",
    "\n",
    "plt.grid()\n",
    "plt.ylim([-5000,5000])\n",
    "\n",
    "plt.title('分布の箱ひげ図')\n",
    "\n",
    "plt.show()"
   ]
  },
  {
   "cell_type": "code",
   "execution_count": 317,
   "metadata": {
    "collapsed": false
   },
   "outputs": [],
   "source": [
    "X = model.X_ex['X'].values\n",
    "Y = model.X_ex['Y'].values"
   ]
  },
  {
   "cell_type": "code",
   "execution_count": 318,
   "metadata": {
    "collapsed": false
   },
   "outputs": [],
   "source": [
    "e = model.error2"
   ]
  },
  {
   "cell_type": "code",
   "execution_count": 319,
   "metadata": {
    "collapsed": false
   },
   "outputs": [
    {
     "data": {
      "image/png": "[encoded data removed]",
      "text/plain": [
       "<matplotlib.figure.Figure at 0x1160de5c0>"
      ]
     },
     "metadata": {},
     "output_type": "display_data"
    }
   ],
   "source": [
    "import numpy\n",
    "import matplotlib.pyplot as plt\n",
    "from mpl_toolkits.mplot3d.axes3d import Axes3D\n",
    "\n",
    "fig=plt.figure()\n",
    "ax=Axes3D(fig)\n",
    " \n",
    "ax.scatter3D(X, Y, e)\n",
    "plt.show()"
   ]
  },
  {
   "cell_type": "code",
   "execution_count": 249,
   "metadata": {
    "collapsed": false
   },
   "outputs": [
    {
     "data": {
      "text/plain": [
       "array([ 35.66455,  35.65134,  35.63957,  35.60207,  35.66327,  35.65029,\n",
       "        35.64262,  35.62602,  35.60105,  35.64538,  35.63457,  35.64502,\n",
       "        35.66455,  35.65314,  35.62616,  35.61948,  35.66079,  35.63714,\n",
       "        35.65052,  35.65285,  35.66081,  35.65083,  35.65156,  35.62632,\n",
       "        35.66519,  35.66333,  35.62063,  35.66388,  35.61562,  35.61499,\n",
       "        35.61528,  35.59893,  35.60094,  35.60108,  35.65905,  35.64066,\n",
       "        35.6026 ,  35.67156,  35.59519,  35.66376,  35.63561,  35.63352,\n",
       "        35.66988,  35.65884,  35.67615,  35.64243,  35.64283,  35.65176,\n",
       "        35.66519,  35.65055,  35.63795,  35.63552,  35.65722,  35.63948,\n",
       "        35.6573 ,  35.63795,  35.63536,  35.66584,  35.63999,  35.64131,\n",
       "        35.59604,  35.66175,  35.65339,  35.67573,  35.63049,  35.65297,\n",
       "        35.62073,  35.65945,  35.64087,  35.63558,  35.65117,  35.65121,\n",
       "        35.64002,  35.65805,  35.62836,  35.62884,  35.60686,  35.6357 ,\n",
       "        35.60126,  35.64529,  35.64953,  35.64086,  35.64087,  35.67482,\n",
       "        35.6604 ,  35.61882,  35.63772,  35.66388,  35.629  ,  35.64018,\n",
       "        35.65722,  35.65805,  35.63635,  35.63635,  35.629  ,  35.6357 ,\n",
       "        35.60186,  35.60167,  35.63684,  35.66676,  35.6233 ,  35.65425,\n",
       "        35.61969,  35.63188,  35.62841,  35.65902,  35.64165,  35.64747,\n",
       "        35.66146,  35.62018,  35.59893,  35.63811,  35.65907,  35.65722,\n",
       "        35.65219,  35.61958,  35.63969,  35.63821,  35.63795,  35.66439,\n",
       "        35.64775,  35.64712,  35.65314,  35.65285,  35.63681,  35.63496,\n",
       "        35.63753,  35.62465,  35.64226,  35.64176,  35.66451,  35.67651,\n",
       "        35.65781,  35.66298,  35.66298,  35.66237,  35.63262,  35.66222,\n",
       "        35.66034,  35.6573 ,  35.65176,  35.64915,  35.6269 ,  35.66336,\n",
       "        35.6344 ,  35.65227,  35.62104,  35.61906,  35.62021,  35.65617,\n",
       "        35.62073,  35.63787,  35.64086,  35.60166,  35.61883,  35.63839,\n",
       "        35.64301,  35.68041,  35.64822,  35.66089,  35.60163,  35.66145,\n",
       "        35.65727,  35.60392,  35.62003,  35.66682,  35.65776,  35.65626,\n",
       "        35.64225,  35.61039,  35.64093,  35.65502,  35.66023,  35.6623 ,\n",
       "        35.6233 ,  35.66248,  35.61986,  35.67714,  35.61941,  35.64136,\n",
       "        35.641  ,  35.66824,  35.64747,  35.64165,  35.62073,  35.62073,\n",
       "        35.61787,  35.64703,  35.65219,  35.66145,  35.65596,  35.63716,\n",
       "        35.62988,  35.64887,  35.66552,  35.62336,  35.63873,  35.64384,\n",
       "        35.64887,  35.64661,  35.65626,  35.65431,  35.60861,  35.66163,\n",
       "        35.64973,  35.64884,  35.63143,  35.63961,  35.65502,  35.65617,\n",
       "        35.65617,  35.64001,  35.61688,  35.64165,  35.65922,  35.66126,\n",
       "        35.63467,  35.65055,  35.66576,  35.6045 ,  35.64089,  35.65233,\n",
       "        35.64747,  35.63518,  35.62668,  35.65494,  35.67666,  35.6382 ,\n",
       "        35.64977,  35.62066,  35.62923,  35.62994,  35.60823,  35.6348 ,\n",
       "        35.63916,  35.60968,  35.59604,  35.64093,  35.63517,  35.6493 ,\n",
       "        35.65815,  35.61724,  35.65922,  35.65922,  35.63274,  35.67625,\n",
       "        35.65156,  35.63627,  35.63538,  35.65902,  35.67096,  35.61947,\n",
       "        35.62089,  35.63585,  35.61882,  35.63111,  35.66934,  35.65922,\n",
       "        35.67028,  35.6798 ,  35.62073,  35.64621,  35.64452,  35.67573,\n",
       "        35.60233,  35.60233,  35.64063,  35.63128,  35.64742,  35.66962,\n",
       "        35.63519,  35.63634,  35.60332,  35.61476,  35.65502,  35.67001,\n",
       "        35.60744,  35.6266 ,  35.65815,  35.65902,  35.64845,  35.63561,\n",
       "        35.66586,  35.65377,  35.67693,  35.6513 ,  35.67957,  35.63474,\n",
       "        35.65262,  35.65271,  35.64202,  35.65029,  35.61434,  35.63457,\n",
       "        35.64933,  35.66969,  35.64147,  35.62261,  35.61682,  35.61947,\n",
       "        35.62673,  35.64341,  35.65719,  35.61046,  35.61307,  35.62365,\n",
       "        35.62038,  35.6738 ,  35.63251,  35.64151,  35.62619,  35.66988,\n",
       "        35.60126,  35.64917,  35.6526 ,  35.61787,  35.63503,  35.66084,\n",
       "        35.66453,  35.63795,  35.661  ,  35.63957,  35.64063,  35.59325,\n",
       "        35.6249 ,  35.61365,  35.66388,  35.64341,  35.64147,  35.65958,\n",
       "        35.65494,  35.65857,  35.60823,  35.65464,  35.65488,  35.64147,\n",
       "        35.65455,  35.65554,  35.60228,  35.62112,  35.63562,  35.63143,\n",
       "        35.65931,  35.6587 ,  35.62104,  35.6623 ,  35.65922,  35.64741,\n",
       "        35.64742,  35.65018,  35.65973,  35.61842,  35.61842,  35.64923,\n",
       "        35.64669,  35.60207,  35.63771,  35.6171 ,  35.59361,  35.63873,\n",
       "        35.64747,  35.64761,  35.63552,  35.64251,  35.60312,  35.66036,\n",
       "        35.62994,  35.63814,  35.62207,  35.66485,  35.67437,  35.63506,\n",
       "        35.65502,  35.62238,  35.63873,  35.63561,  35.63561,  35.64208,\n",
       "        35.641  ,  35.6526 ,  35.66298,  35.6078 ,  35.65253,  35.64747,\n",
       "        35.64387,  35.63518,  35.63518,  35.63123,  35.62032,  35.64089,\n",
       "        35.66969,  35.64736,  35.63345,  35.66453,  35.629  ,  35.62982,\n",
       "        35.64708,  35.66283,  35.66388,  35.66542,  35.63123,  35.65331,\n",
       "        35.65285,  35.66676,  35.63085,  35.63552,  35.63457,  35.64147,\n",
       "        35.61741,  35.61958,  35.62261,  35.61947,  35.65496,  35.63457,\n",
       "        35.65383,  35.67043,  35.66973,  35.62498,  35.64274,  35.63827,\n",
       "        35.63799,  35.6374 ,  35.66775,  35.59604,  35.66848,  35.65018,\n",
       "        35.63561,  35.64741,  35.64669,  35.64968,  35.64644,  35.66283,\n",
       "        35.61958,  35.63123,  35.61365,  35.65596,  35.61947,  35.61947,\n",
       "        35.61759,  35.66973,  35.65494,  35.65262,  35.65596,  35.65371,\n",
       "        35.64949,  35.6357 ,  35.64548,  35.64548,  35.63528,  35.64243,\n",
       "        35.65107,  35.63552,  35.66647,  35.66036,  35.61958,  35.63382,\n",
       "        35.64642,  35.60559,  35.60659,  35.60228,  35.63457,  35.60395,\n",
       "        35.63143,  35.64429,  35.64541,  35.63561,  35.63873,  35.6566 ,\n",
       "        35.64777,  35.61083,  35.63839,  35.63382,  35.66576,  35.67957,\n",
       "        35.62982,  35.66388,  35.65525,  35.63067,  35.62261,  35.60312,\n",
       "        35.61763,  35.62261,  35.66089,  35.62592,  35.63017,  35.61046,\n",
       "        35.66334,  35.64341,  35.63518,  35.64911,  35.60765,  35.661  ,\n",
       "        35.63717,  35.6242 ,  35.66163,  35.59945,  35.65596,  35.61046,\n",
       "        35.63999,  35.65667,  35.65902,  35.66334,  35.62502,  35.63561,\n",
       "        35.66298,  35.67054,  35.64747,  35.60571,  35.64747,  35.61787,\n",
       "        35.66416,  35.64028,  35.62698,  35.66084,  35.65262,  35.64975,\n",
       "        35.61601,  35.63552,  35.65176,  35.63874,  35.64473,  35.66841,\n",
       "        35.61511,  35.62986,  35.63517,  35.63151,  35.61307,  35.62569,\n",
       "        35.64774,  35.61901,  35.61986,  35.66848,  35.67028,  35.66642,\n",
       "        35.66145,  35.64619,  35.64736,  35.64619,  35.63964,  35.64712,\n",
       "        35.66234,  35.66655,  35.63536,  35.6286 ,  35.66973,  35.65791,\n",
       "        35.65719,  35.67505,  35.63961,  35.64408,  35.65314,  35.61702,\n",
       "        35.63873,  35.65271,  35.59361,  35.60225,  35.60721,  35.66453,\n",
       "        35.63836,  35.66126,  35.66586,  35.66005,  35.63166,  35.65494,\n",
       "        35.6149 ,  35.63836,  35.66439,  35.66336,  35.64857,  35.61582,\n",
       "        35.65595,  35.66303,  35.66837,  35.6623 ,  35.65922,  35.65464,\n",
       "        35.64701,  35.60571,  35.63805,  35.67184,  35.65167,  35.65167,\n",
       "        35.64139,  35.63691,  35.60312,  35.66962,  35.60823,  35.66682,\n",
       "        35.66682,  35.59923,  35.60171,  35.61402,  35.64657,  35.6279 ,\n",
       "        35.62757,  35.67555,  35.65271,  35.64628,  35.65083,  35.60233,\n",
       "        35.60233,  35.67573,  35.65107,  35.64637,  35.64975,  35.66328,\n",
       "        35.62354,  35.63128,  35.60312,  35.61398,  35.627  ,  35.64887,\n",
       "        35.66364,  35.65525,  35.63164,  35.61046,  35.62798,  35.6389 ,\n",
       "        35.59356,  35.65342,  35.62148,  35.59519,  35.63033,  35.66546,\n",
       "        35.66542,  35.61738,  35.6623 ,  35.63626,  35.64703,  35.60233,\n",
       "        35.63629,  35.67977,  35.62927,  35.67523,  35.67666,  35.65907,\n",
       "        35.63924,  35.60385,  35.61873,  35.60004,  35.66089,  35.6581 ,\n",
       "        35.65776,  35.63677,  35.63691,  35.63483,  35.61884,  35.64147,\n",
       "        35.64193,  35.67043,  35.66089,  35.66163,  35.61307,  35.62334,\n",
       "        35.59746,  35.64281,  35.61688,  35.64028,  35.6045 ,  35.66128,\n",
       "        35.62187,  35.63518,  35.62062,  35.64085,  35.66412,  35.66412,\n",
       "        35.63747,  35.65805,  35.65945,  35.629  ,  35.63704,  35.6573 ,\n",
       "        35.65987,  35.63992,  35.60312,  35.64677,  35.67063,  35.64761,\n",
       "        35.64147,  35.65914,  35.66175,  35.62724,  35.66441,  35.59633,\n",
       "        35.62757,  35.65083,  35.63638,  35.6347 ,  35.60721,  35.60571,\n",
       "        35.66128,  35.64085,  35.64496,  35.62586,  35.66653,  35.64933,\n",
       "        35.61884,  35.65719,  35.63524,  35.64135,  35.65922,  35.65881,\n",
       "        35.65394,  35.59299,  35.6488 ,  35.66234,  35.65573,  35.6617 ,\n",
       "        35.64496,  35.64502,  35.64496,  35.6516 ,  35.5942 ,  35.65262,\n",
       "        35.61691,  35.6512 ,  35.65083,  35.67154,  35.63274,  35.61702,\n",
       "        35.60847,  35.65862,  35.66001,  35.59746,  35.61787,  35.66362,\n",
       "        35.61884,  35.67645,  35.66969,  35.66036,  35.66227,  35.63642,\n",
       "        35.64598,  35.66296,  35.64637,  35.65573,  35.63116,  35.6617 ,\n",
       "        35.64842,  35.63704,  35.63821,  35.63842,  35.64842,  35.64341,\n",
       "        35.65464,  35.65587,  35.63457,  35.64547,  35.64521,  35.63067,\n",
       "        35.64499,  35.64628,  35.64628,  35.64421,  35.64028,  35.6171 ,\n",
       "        35.6623 ,  35.64628,  35.61787,  35.64747,  35.65776,  35.66767,\n",
       "        35.62054,  35.63873,  35.66676,  35.61738,  35.6105 ,  35.63799,\n",
       "        35.64641,  35.66676,  35.65048,  35.64845,  35.64311,  35.64747,\n",
       "        35.64541,  35.67573,  35.61798,  35.65271,  35.61906,  35.62381,\n",
       "        35.6242 ,  35.64387,  35.63433,  35.65776,  35.59325,  35.627  ,\n",
       "        35.66233,  35.64384,  35.64677,  35.64148,  35.60346,  35.64301,\n",
       "        35.62238,  35.65596,  35.61506,  35.64897,  35.61986,  35.66416,\n",
       "        35.62357,  35.62718,  35.65192,  35.66294,  35.66294,  35.65805,\n",
       "        35.66034,  35.59325,  35.627  ,  35.61367,  35.65676,  35.65805,\n",
       "        35.64086,  35.64161,  35.63388,  35.6344 ,  35.65955,  35.61989,\n",
       "        35.65233,  35.62718,  35.65014,  35.6171 ,  35.62698,  35.62378,\n",
       "        35.65573,  35.60362,  35.6344 ,  35.66269,  35.66269,  35.62249,\n",
       "        35.64724,  35.66327,  35.66327,  35.65201,  35.66294,  35.63493,\n",
       "        35.61626,  35.64669,  35.66436,  35.627  ,  35.63748,  35.66412,\n",
       "        35.64302,  35.64999,  35.64429,  35.63033,  35.62614,  35.62799,\n",
       "        35.62087,  35.63836,  35.62322,  35.64341,  35.66327,  35.64833,\n",
       "        35.65304,  35.66962,  35.6249 ,  35.64637,  35.5942 ,  35.59909,\n",
       "        35.64883,  35.65596,  35.61703,  35.617  ,  35.67216,  35.6738 ,\n",
       "        35.6642 ,  35.64931,  35.64855,  35.61644,  35.61854,  35.66056,\n",
       "        35.66634,  35.62054,  35.64712,  35.65371,  35.67675,  35.62632,\n",
       "        35.66294,  35.64387,  35.627  ,  35.6622 ,  35.64789,  35.66142,\n",
       "        35.62646,  35.65958,  35.63116,  35.61883,  35.62135,  35.66622,\n",
       "        35.5942 ,  35.62923,  35.6526 ,  35.61702,  35.67148,  35.63211,\n",
       "        35.64623,  35.64521,  35.62534,  35.59776,  35.61309,  35.65174,\n",
       "        35.64685,  35.64708,  35.6149 ,  35.64599,  35.62103,  35.61525,\n",
       "        35.64431,  35.64813,  35.65283,  35.63836,  35.63839,  35.67216,\n",
       "        35.64883,  35.66249,  35.62502,  35.6825 ,  35.65659,  35.65291,\n",
       "        35.6622 ,  35.65596,  35.65525,  35.5942 ,  35.63391,  35.63877,\n",
       "        35.6149 ,  35.66767,  35.65907,  35.61499,  35.61883,  35.65554,\n",
       "        35.61978,  35.65574,  35.64148,  35.6273 ,  35.67736,  35.61868,\n",
       "        35.62038,  35.61986,  35.6486 ,  35.65304,  35.67148,  35.66362,\n",
       "        35.63016,  35.60011,  35.66426,  35.63391,  35.62066,  35.64391,\n",
       "        35.6238 ,  35.64675,  35.6149 ,  35.61499,  35.63621,  35.64804,\n",
       "        35.6149 ,  35.64369,  35.62864,  35.6206 ,  35.6389 ,  35.64795,\n",
       "        35.63748,  35.63802,  35.61196,  35.61234,  35.65116,  35.65083,\n",
       "        35.62357,  35.67216,  35.64623,  35.62322,  35.67216,  35.65156,\n",
       "        35.65371,  35.63836,  35.63771,  35.64547,  35.64309,  35.66145,\n",
       "        35.65025,  35.65371,  35.63795,  35.67045,  35.63537,  35.61476,\n",
       "        35.6618 ,  35.60758,  35.62207,  35.65706,  35.67216,  35.64075,\n",
       "        35.62261,  35.66034,  35.66459,  35.61499,  35.64797,  35.60118,\n",
       "        35.64445,  35.64127,  35.63538,  35.62555])"
      ]
     },
     "execution_count": 249,
     "metadata": {},
     "output_type": "execute_result"
    }
   ],
   "source": []
  },
  {
   "cell_type": "code",
   "execution_count": 265,
   "metadata": {
    "collapsed": false
   },
   "outputs": [],
   "source": [
    "import numpy as np\n",
    "import matplotlib.pyplot as plt\n",
    "from mpl_toolkits.mplot3d import Axes3D\n",
    "import matplotlib.tri as mtri\n",
    "\n",
    "\n",
    "\n",
    "#============\n",
    "# First plot\n",
    "#============\n",
    "# Plot the surface.  The triangles in parameter space determine which x, y, z\n",
    "# points are connected by an edge.\n",
    "ax = fig.add_subplot(1, 2, 1, projection='3d')\n",
    "ax.plot_trisurf(X, Y, e)\n",
    "ax.set_zlim(-1, 1)\n",
    "plt.show()"
   ]
  },
  {
   "cell_type": "code",
   "execution_count": null,
   "metadata": {
    "collapsed": true
   },
   "outputs": [],
   "source": []
  }
 ],
 "metadata": {
  "kernelspec": {
   "display_name": "Python 3",
   "language": "python",
   "name": "python3"
  },
  "language_info": {
   "codemirror_mode": {
    "name": "ipython",
    "version": 3
   },
   "file_extension": ".py",
   "mimetype": "text/x-python",
   "name": "python",
   "nbconvert_exporter": "python",
   "pygments_lexer": "ipython3",
   "version": "3.5.1"
  }
 },
 "nbformat": 4,
 "nbformat_minor": 0
}
