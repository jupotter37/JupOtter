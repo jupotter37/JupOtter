{
 "cells": [
  {
   "cell_type": "code",
   "execution_count": 2,
   "metadata": {
    "collapsed": true,
    "deletable": true,
    "editable": true
   },
   "outputs": [],
   "source": [
    "import numpy as np\n",
    "import pandas as pd\n",
    "from tqdm import tqdm\n",
    "from multihist import Histdd, Hist1d\n",
    "\n",
    "import matplotlib\n",
    "import matplotlib.pyplot as plt\n",
    "%matplotlib inline\n",
    "\n",
    "import hax\n",
    "from hax import cuts\n",
    "hax.init(pax_version_policy='6.8',\n",
    "         minitree_paths=['./sr1_s1shape_minitrees/', \n",
    "                         '/project2/lgrandi/xenon1t/minitrees/pax_v6.8.0/',\n",
    "                         '/project/lgrandi/xenon1t/minitrees/pax_v6.8.0/'])\n",
    "\n",
    "from pax import units, configuration\n",
    "pax_config = configuration.load_configuration('XENON1T')\n",
    "tpc_r = pax_config['DEFAULT']['tpc_radius']\n",
    "tpc_z = -pax_config['DEFAULT']['tpc_length']"
   ]
  },
  {
   "cell_type": "markdown",
   "metadata": {
    "deletable": true,
    "editable": true
   },
   "source": [
    "# Select clean 83mKr events"
   ]
  },
  {
   "cell_type": "markdown",
   "metadata": {
    "deletable": true,
    "editable": true
   },
   "source": [
    "KR83m cuts similar to Adam's note: \n",
    "https://github.com/XENON1T/FirstResults/blob/master/PositionReconstructionSignalCorrections/S2map/s2-correction-xy-kr83m-fit-in-bins.ipynb\n",
    "\n",
    " * Valid second interaction\n",
    " * Time between S1s in [0.6, 2] $\\mu s$\n",
    " * z in [-90, -5] cm"
   ]
  },
  {
   "cell_type": "code",
   "execution_count": 3,
   "metadata": {
    "collapsed": false,
    "deletable": true,
    "editable": true
   },
   "outputs": [
    {
     "data": {
      "text/plain": [
       "array([4584, 4596, 4643, 4628, 4657, 4615, 4635, 4633, 4667, 4679])"
      ]
     },
     "execution_count": 3,
     "metadata": {},
     "output_type": "execute_result"
    }
   ],
   "source": [
    "# Get SR1 krypton datasets\n",
    "dsets = hax.runs.datasets\n",
    "dsets = dsets[dsets['source__type'] == 'Kr83m']\n",
    "dsets = dsets[dsets['trigger__events_built'] > 10000]   # Want a lot of Kr, not diffusion mode \n",
    "dsets = hax.runs.tags_selection(dsets, include='sciencerun0')\n",
    "\n",
    "# Sample ten datasets randomly (with fixed seed, so the analysis is reproducible)\n",
    "dsets = dsets.sample(10, random_state=0)\n",
    "dsets.number.values"
   ]
  },
  {
   "cell_type": "code",
   "execution_count": 4,
   "metadata": {
    "collapsed": false,
    "deletable": true,
    "editable": true,
    "scrolled": true
   },
   "outputs": [
    {
     "name": "stderr",
     "output_type": "stream",
     "text": [
      "WARNING:hax.minitrees] You're mixing blind and unblind datasets. The blinding cut will be applied to all data you're loading.\n",
      "DEBUG:hax.minitrees] Found minitree at /project2/lgrandi/xenon1t/minitrees/pax_v6.8.0/161114_1140_Basics.root\n",
      "DEBUG:hax.minitrees] Found minitree at /project2/lgrandi/xenon1t/minitrees/pax_v6.8.0/161114_1140_DoubleScatter.root\n",
      "DEBUG:hax.minitrees] Found minitree at /project2/lgrandi/xenon1t/minitrees/pax_v6.8.0/161114_1140_Corrections.root\n",
      "DEBUG:hax.minitrees] Found minitree at /project2/lgrandi/xenon1t/minitrees/pax_v6.8.0/161114_1140_Basics.root\n",
      "DEBUG:hax.minitrees] Found minitree at /project2/lgrandi/xenon1t/minitrees/pax_v6.8.0/161114_2107_Basics.root\n",
      "DEBUG:hax.minitrees] Found minitree at /project2/lgrandi/xenon1t/minitrees/pax_v6.8.0/161117_0741_Basics.root\n",
      "DEBUG:hax.minitrees] Found minitree at /project2/lgrandi/xenon1t/minitrees/pax_v6.8.0/161116_1735_Basics.root\n",
      "DEBUG:hax.minitrees] Found minitree at /project2/lgrandi/xenon1t/minitrees/pax_v6.8.0/161116_1030_Basics.root\n",
      "DEBUG:hax.minitrees] Found minitree at /project2/lgrandi/xenon1t/minitrees/pax_v6.8.0/161114_1140_DoubleScatter.root\n",
      "DEBUG:hax.minitrees] Found minitree at /project2/lgrandi/xenon1t/minitrees/pax_v6.8.0/161116_1030_DoubleScatter.root\n",
      "DEBUG:hax.minitrees] Found minitree at /project2/lgrandi/xenon1t/minitrees/pax_v6.8.0/161116_1030_Corrections.root\n",
      "DEBUG:hax.minitrees] Found minitree at /project2/lgrandi/xenon1t/minitrees/pax_v6.8.0/161114_1140_Corrections.root\n",
      "DEBUG:hax.minitrees] Found minitree at /project2/lgrandi/xenon1t/minitrees/pax_v6.8.0/161114_2107_DoubleScatter.root\n",
      "DEBUG:hax.minitrees] Found minitree at /project2/lgrandi/xenon1t/minitrees/pax_v6.8.0/161115_1600_Basics.root\n",
      "DEBUG:hax.minitrees] Found minitree at /project2/lgrandi/xenon1t/minitrees/pax_v6.8.0/161116_1202_Basics.root\n",
      "DEBUG:hax.minitrees] Found minitree at /project2/lgrandi/xenon1t/minitrees/pax_v6.8.0/161116_1202_DoubleScatter.root\n",
      "DEBUG:hax.minitrees] Found minitree at /project2/lgrandi/xenon1t/minitrees/pax_v6.8.0/161116_1735_DoubleScatter.root\n",
      "DEBUG:hax.minitrees] Found minitree at /project2/lgrandi/xenon1t/minitrees/pax_v6.8.0/161117_0741_DoubleScatter.root\n",
      "DEBUG:hax.minitrees] Found minitree at /project2/lgrandi/xenon1t/minitrees/pax_v6.8.0/161115_1600_DoubleScatter.root\n",
      "DEBUG:hax.minitrees] Found minitree at /project2/lgrandi/xenon1t/minitrees/pax_v6.8.0/161116_1202_Corrections.root\n",
      "DEBUG:hax.minitrees] Found minitree at /project2/lgrandi/xenon1t/minitrees/pax_v6.8.0/161114_2107_Corrections.root\n",
      "DEBUG:hax.minitrees] Found minitree at /project2/lgrandi/xenon1t/minitrees/pax_v6.8.0/161116_1141_Basics.root\n",
      "DEBUG:hax.minitrees] Found minitree at /project2/lgrandi/xenon1t/minitrees/pax_v6.8.0/161116_1141_DoubleScatter.root\n",
      "DEBUG:hax.minitrees] Found minitree at /project2/lgrandi/xenon1t/minitrees/pax_v6.8.0/161115_1600_Corrections.root\n",
      "DEBUG:hax.minitrees] Found minitree at /project2/lgrandi/xenon1t/minitrees/pax_v6.8.0/161116_1141_Corrections.root\n",
      "DEBUG:hax.minitrees] Found minitree at /project2/lgrandi/xenon1t/minitrees/pax_v6.8.0/161117_1734_Basics.root\n",
      "DEBUG:hax.minitrees] Found minitree at /project2/lgrandi/xenon1t/minitrees/pax_v6.8.0/161117_1734_DoubleScatter.root\n",
      "DEBUG:hax.minitrees] Found minitree at /project2/lgrandi/xenon1t/minitrees/pax_v6.8.0/161117_1734_Corrections.root\n",
      "DEBUG:hax.minitrees] Found minitree at /project2/lgrandi/xenon1t/minitrees/pax_v6.8.0/161116_1735_Corrections.root\n",
      "DEBUG:hax.minitrees] Found minitree at /project2/lgrandi/xenon1t/minitrees/pax_v6.8.0/161118_0538_Basics.root\n",
      "DEBUG:hax.minitrees] Found minitree at /project2/lgrandi/xenon1t/minitrees/pax_v6.8.0/161118_0538_DoubleScatter.root\n",
      "DEBUG:hax.minitrees] Found minitree at /project2/lgrandi/xenon1t/minitrees/pax_v6.8.0/161117_0741_Corrections.root\n",
      "DEBUG:hax.minitrees] Found minitree at /project2/lgrandi/xenon1t/minitrees/pax_v6.8.0/161118_0538_Corrections.root\n",
      "DEBUG:hax.minitrees] Removing weird index column\n"
     ]
    },
    {
     "name": "stdout",
     "output_type": "stream",
     "text": [
      "(log(cs2/cs1)/log(10) > exp(-0.720893+(-0.032622)*cs1) + 1.883038 + (-7.185652e-04)*cs1) | (cs1 > 200) | (s2<150) | (largest_other_s2>200) selection: 62417 rows removed (94.06% passed)\n",
      "int_b_x>-60.0 selection: 670140 rows removed (32.19% passed)\n",
      "600 < s1_b_center_time - s1_a_center_time < 2000 selection: 244036 rows removed (23.30% passed)\n",
      "-90 < z < -5 selection: 11517 rows removed (84.47% passed)\n"
     ]
    }
   ],
   "source": [
    "# Suppress rootpy warning about root2rec.. too lazy to fix. \n",
    "import warnings\n",
    "with warnings.catch_warnings():\n",
    "    warnings.simplefilter(\"ignore\")\n",
    "    \n",
    "    data = hax.minitrees.load(dsets.number, \n",
    "                              'Basics DoubleScatter Corrections'.split(),\n",
    "                              num_workers=5,\n",
    "                              preselection=['int_b_x>-60.0',\n",
    "                                            '600 < s1_b_center_time - s1_a_center_time < 2000',\n",
    "                                            '-90 < z < -5'])"
   ]
  },
  {
   "cell_type": "markdown",
   "metadata": {
    "deletable": true,
    "editable": true
   },
   "source": [
    "# Get S1s from these events"
   ]
  },
  {
   "cell_type": "code",
   "execution_count": 5,
   "metadata": {
    "collapsed": true,
    "deletable": true,
    "editable": true
   },
   "outputs": [],
   "source": [
    "from hax.treemakers.peak_treemakers import PeakExtractor\n",
    "\n",
    "dt = 10 * units.ns\n",
    "wv_length = pax_config['BasicProperties.SumWaveformProperties']['peak_waveform_length']\n",
    "waveform_ts = np.arange(-wv_length/2, wv_length/2 + 0.1, dt)\n",
    "\n",
    "class GetS1s(PeakExtractor):\n",
    "    __version__ = '0.0.1'\n",
    "    uses_arrays = True\n",
    "    # (don't actually need all properties, but useful to check if there's some problem)\n",
    "    peak_fields = ['area', 'range_50p_area', 'area_fraction_top', \n",
    "                   'n_contributing_channels', 'left', 'hit_time_std', 'n_hits',\n",
    "                   'type', 'detector', 'center_time', 'index_of_maximum',\n",
    "                   'sum_waveform',\n",
    "                  ]\n",
    "    peak_cut_list = ['detector == \"tpc\"', 'type == \"s1\"']\n",
    "    \n",
    "    def get_data(self, dataset, event_list=None):\n",
    "        # Get the event list from the dataframe selected above\n",
    "        event_list = data[data['run_number'] == hax.runs.get_run_number(dataset)]['event_number'].values\n",
    "        \n",
    "        return PeakExtractor.get_data(self, dataset, event_list=event_list)\n",
    "    \n",
    "    def extract_data(self, event):\n",
    "        peak_data = PeakExtractor.extract_data(self, event)\n",
    "        \n",
    "        # Convert sum waveforms from arcane pyroot buffer type to proper numpy arrays\n",
    "        for p in peak_data:\n",
    "            p['sum_waveform'] = np.array(list(p['sum_waveform']))\n",
    "            \n",
    "        return peak_data"
   ]
  },
  {
   "cell_type": "code",
   "execution_count": 6,
   "metadata": {
    "collapsed": false,
    "deletable": true,
    "editable": true,
    "scrolled": true
   },
   "outputs": [
    {
     "name": "stderr",
     "output_type": "stream",
     "text": [
      "/project/lgrandi/anaconda3/envs/pax_head/lib/python3.4/site-packages/pandas/computation/align.py:98: RuntimeWarning: divide by zero encountered in log10\n",
      "  ordm = np.log10(abs(reindexer_size - term_axis_size))\n",
      "DEBUG:hax.minitrees] Minitree 161114_1140_GetS1s.root not found\n",
      "DEBUG:hax.minitrees] Not found in non-preferred formats either. Minitree will be created.\n",
      "Run 4584: Making GetS1s minitree: 100%|██████████| 1881/1881 [00:49<00:00, 38.14it/s]\n",
      "DEBUG:hax.__init__] Extraction completed, now concatenating data\n",
      "DEBUG:hax.minitrees] Retrieved GetS1s minitree data for dataset 4584\n",
      "DEBUG:hax.minitrees] Found minitree at ./sr1_s1shape_minitrees/161114_1140_GetS1s.root\n",
      "/home/aalbers/root_numpy/root_numpy/_tree.py:271: DeprecationWarning: root2rec is deprecated and will be removed in 5.0.0. Instead use root2array(...).view(np.recarray)\n",
      "  DeprecationWarning)\n",
      "DEBUG:hax.minitrees] Minitree 161114_2107_GetS1s.root not found\n",
      "DEBUG:hax.minitrees] Not found in non-preferred formats either. Minitree will be created.\n",
      "DEBUG:hax.minitrees] Minitree 161116_1735_GetS1s.root not found\n",
      "Run 4596: Making GetS1s minitree:   0%|          | 0/7815 [00:00<?, ?it/s]DEBUG:hax.minitrees] Not found in non-preferred formats either. Minitree will be created.\n",
      "Run 4596: Making GetS1s minitree:   0%|          | 1/7815 [00:00<22:10,  5.87it/s]DEBUG:hax.minitrees] Minitree 161116_1030_GetS1s.root not found\n",
      "DEBUG:hax.minitrees] Not found in non-preferred formats either. Minitree will be created.\n",
      "Run 4628: Making GetS1s minitree:   0%|          | 0/18 [00:00<?, ?it/s]/s]04it/s]DEBUG:hax.minitrees] Minitree 161117_0741_GetS1s.root not found\n",
      "DEBUG:hax.minitrees] Not found in non-preferred formats either. Minitree will be created.\n",
      "Run 4643: Making GetS1s minitree:   0%|          | 36/18617 [00:01<24:01, 12.89it/s]DEBUG:hax.minitrees] Minitree 161115_1600_GetS1s.root not found\n",
      "DEBUG:hax.minitrees] Not found in non-preferred formats either. Minitree will be created.\n",
      "Run 4628: Making GetS1s minitree: 100%|██████████| 18/18 [00:09<00:00,  1.99it/s]/s]]\n",
      "DEBUG:hax.__init__] Extraction completed, now concatenating data\n",
      "Run 4657: Making GetS1s minitree:   2%|▏         | 347/20573 [00:09<13:16, 25.38it/s]DEBUG:hax.minitrees] Retrieved GetS1s minitree data for dataset 4628\n",
      "Run 4643: Making GetS1s minitree:   2%|▏         | 390/18617 [00:10<07:11, 42.21it/s]DEBUG:hax.minitrees] Minitree 161116_1202_GetS1s.root not found\n",
      "DEBUG:hax.minitrees] Not found in non-preferred formats either. Minitree will be created.\n",
      "Run 4635: Making GetS1s minitree: 100%|██████████| 1670/1670 [00:36<00:00, 45.18it/s]]\n",
      "DEBUG:hax.__init__] Extraction completed, now concatenating data\n",
      "DEBUG:hax.minitrees] Retrieved GetS1s minitree data for dataset 4635\n",
      "Run 4596: Making GetS1s minitree:  28%|██▊       | 2166/7815 [00:50<03:09, 29.82it/s]]DEBUG:hax.minitrees] Minitree 161116_1141_GetS1s.root not found\n",
      "DEBUG:hax.minitrees] Not found in non-preferred formats either. Minitree will be created.\n",
      "Run 4633: Making GetS1s minitree: 100%|██████████| 1397/1397 [00:31<00:00, 48.90it/s]]\n",
      "DEBUG:hax.__init__] Extraction completed, now concatenating data\n",
      "DEBUG:hax.minitrees] Retrieved GetS1s minitree data for dataset 4633\n",
      "Run 4596: Making GetS1s minitree:  47%|████▋     | 3646/7815 [01:24<02:14, 31.11it/s]]DEBUG:hax.minitrees] Minitree 161117_1734_GetS1s.root not found\n",
      "DEBUG:hax.minitrees] Not found in non-preferred formats either. Minitree will be created.\n",
      "Run 4667: Making GetS1s minitree: 100%|██████████| 2663/2663 [01:18<00:00, 33.80it/s]]\n",
      "DEBUG:hax.__init__] Extraction completed, now concatenating data\n",
      "DEBUG:hax.minitrees] Retrieved GetS1s minitree data for dataset 4667\n",
      "Run 4643: Making GetS1s minitree:  36%|███▌      | 6672/18617 [02:47<04:10, 47.75it/s]DEBUG:hax.minitrees] Minitree 161118_0538_GetS1s.root not found\n",
      "DEBUG:hax.minitrees] Not found in non-preferred formats either. Minitree will be created.\n",
      "Run 4615: Making GetS1s minitree: 100%|██████████| 7940/7940 [02:54<00:00, 45.60it/s]]\n",
      "Run 4643: Making GetS1s minitree:  38%|███▊      | 7011/18617 [02:55<04:03, 47.70it/s]DEBUG:hax.__init__] Extraction completed, now concatenating data\n",
      "DEBUG:hax.minitrees] Retrieved GetS1s minitree data for dataset 4615\n",
      "Run 4679: Making GetS1s minitree: 100%|██████████| 57/57 [00:14<00:00,  2.90it/s]it/s]\n",
      "DEBUG:hax.__init__] Extraction completed, now concatenating data\n",
      "DEBUG:hax.minitrees] Retrieved GetS1s minitree data for dataset 4679\n",
      "Run 4596: Making GetS1s minitree: 100%|██████████| 7815/7815 [03:05<00:00, 47.80it/s]]\n",
      "Run 4643: Making GetS1s minitree:  40%|███▉      | 7432/18617 [03:05<03:36, 51.58it/s]DEBUG:hax.__init__] Extraction completed, now concatenating data\n",
      "DEBUG:hax.minitrees] Retrieved GetS1s minitree data for dataset 4596\n",
      "Run 4643: Making GetS1s minitree: 100%|██████████| 18617/18617 [07:48<00:00, 39.76it/s]\n",
      "DEBUG:hax.__init__] Extraction completed, now concatenating data\n",
      "DEBUG:hax.minitrees] Retrieved GetS1s minitree data for dataset 4643\n",
      "Run 4657: Making GetS1s minitree: 100%|██████████| 20573/20573 [08:55<00:00, 38.40it/s]\n",
      "DEBUG:hax.__init__] Extraction completed, now concatenating data\n",
      "DEBUG:hax.minitrees] Retrieved GetS1s minitree data for dataset 4657\n"
     ]
    }
   ],
   "source": [
    "s1s = hax.minitrees.load(dsets.number, GetS1s, num_workers=5)"
   ]
  },
  {
   "cell_type": "markdown",
   "metadata": {
    "deletable": true,
    "editable": true
   },
   "source": [
    "# Save to disk"
   ]
  },
  {
   "cell_type": "markdown",
   "metadata": {
    "deletable": true,
    "editable": true
   },
   "source": [
    "Pandas object array is very memory-ineficient. Takes about 25 MB/dataset to store it in this format (even compressed). If we'd want to extract more than O(10) datasets we'd get into trouble already at the extraction stage.\n",
    "\n",
    "Least we can do is convert to sensible format (waveform matrix, ordinary dataframe) now. Unfortunately dataframe retains 'object' mark even after deleting sum waveform column. Converting to and from a record array removes this."
   ]
  },
  {
   "cell_type": "code",
   "execution_count": 7,
   "metadata": {
    "collapsed": false,
    "deletable": true,
    "editable": true
   },
   "outputs": [],
   "source": [
    "waveforms = np.vstack(s1s['sum_waveform'].values)\n",
    "del s1s['sum_waveform']\n",
    "s1s = pd.DataFrame(s1s.to_records())"
   ]
  },
  {
   "cell_type": "markdown",
   "metadata": {
    "deletable": true,
    "editable": true
   },
   "source": [
    "Merge with the per-event data (which is useful e.g. for making position-dependent selections)"
   ]
  },
  {
   "cell_type": "code",
   "execution_count": 8,
   "metadata": {
    "collapsed": false,
    "deletable": true,
    "editable": true
   },
   "outputs": [],
   "source": [
    "merged_data = hax.minitrees._merge_minitrees(s1s, data)\n",
    "del merged_data['index']"
   ]
  },
  {
   "cell_type": "code",
   "execution_count": 9,
   "metadata": {
    "collapsed": false,
    "deletable": true,
    "editable": true
   },
   "outputs": [],
   "source": [
    "np.savez_compressed('sr0_kr_s1s.npz', waveforms=waveforms)\n",
    "merged_data.to_hdf('sr0_kr_s1s.hdf5', 'data')"
   ]
  },
  {
   "cell_type": "markdown",
   "metadata": {
    "deletable": true,
    "editable": true
   },
   "source": [
    "# Quick look"
   ]
  },
  {
   "cell_type": "code",
   "execution_count": 10,
   "metadata": {
    "collapsed": false,
    "deletable": true,
    "editable": true
   },
   "outputs": [
    {
     "data": {
      "text/plain": [
       "134920"
      ]
     },
     "execution_count": 10,
     "metadata": {},
     "output_type": "execute_result"
    }
   ],
   "source": [
    "len(s1s)"
   ]
  },
  {
   "cell_type": "code",
   "execution_count": 11,
   "metadata": {
    "collapsed": false,
    "deletable": true,
    "editable": true
   },
   "outputs": [
    {
     "data": {
      "image/png": "[encoded data removed]",
      "text/plain": [
       "<matplotlib.figure.Figure at 0x2b4ccdecc400>"
      ]
     },
     "metadata": {},
     "output_type": "display_data"
    }
   ],
   "source": [
    "from pax import units\n",
    "plt.hist(s1s.left * 10 * units.ns / units.ms, bins=np.linspace(0, 2.5, 100));\n",
    "plt.yscale('log')"
   ]
  },
  {
   "cell_type": "markdown",
   "metadata": {
    "deletable": true,
    "editable": true
   },
   "source": [
    "S1 is usually at trigger."
   ]
  },
  {
   "cell_type": "code",
   "execution_count": 12,
   "metadata": {
    "collapsed": false,
    "deletable": true,
    "editable": true
   },
   "outputs": [
    {
     "data": {
      "image/png": "[encoded data removed]",
      "text/plain": [
       "<matplotlib.figure.Figure at 0x2b4cce1fd668>"
      ]
     },
     "metadata": {},
     "output_type": "display_data"
    }
   ],
   "source": [
    "plt.hist(s1s.area, bins=np.logspace(0, 3, 100));\n",
    "plt.axvline(35, color='r')\n",
    "plt.yscale('log')\n",
    "plt.xscale('log')"
   ]
  },
  {
   "cell_type": "code",
   "execution_count": 13,
   "metadata": {
    "collapsed": false,
    "deletable": true,
    "editable": true
   },
   "outputs": [
    {
     "data": {
      "text/plain": [
       "0.92600059294396675"
      ]
     },
     "execution_count": 13,
     "metadata": {},
     "output_type": "execute_result"
    }
   ],
   "source": [
    "np.sum(s1s['area'] > 35)/len(s1s)"
   ]
  },
  {
   "cell_type": "markdown",
   "metadata": {
    "deletable": true,
    "editable": true
   },
   "source": [
    "Single electron contamination is not so severe."
   ]
  }
 ],
 "metadata": {
  "kernelspec": {
   "display_name": "Python 3",
   "language": "python",
   "name": "python3"
  },
  "language_info": {
   "codemirror_mode": {
    "name": "ipython",
    "version": 3
   },
   "file_extension": ".py",
   "mimetype": "text/x-python",
   "name": "python",
   "nbconvert_exporter": "python",
   "pygments_lexer": "ipython3",
   "version": "3.4.4"
  }
 },
 "nbformat": 4,
 "nbformat_minor": 0
}
