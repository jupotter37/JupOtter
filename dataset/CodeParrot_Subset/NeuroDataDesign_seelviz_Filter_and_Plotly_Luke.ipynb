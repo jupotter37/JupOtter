{
 "cells": [
  {
   "cell_type": "markdown",
   "metadata": {},
   "source": [
    "1. Filter image\n",
    "2. Random 100,000 points\n",
    "3. Plotly\n",
    "4. Filter image\n",
    "5. Histogram Equalization\n",
    "6. 100,000 points\n",
    "7. Plotly"
   ]
  },
  {
   "cell_type": "code",
   "execution_count": 1,
   "metadata": {
    "collapsed": true
   },
   "outputs": [],
   "source": [
    "import os"
   ]
  },
  {
   "cell_type": "code",
   "execution_count": 2,
   "metadata": {
    "collapsed": false
   },
   "outputs": [],
   "source": [
    "import matplotlib\n",
    "matplotlib.use('Agg')\n",
    "import matplotlib.pyplot as plt\n",
    "from ndreg import *\n",
    "import ndio.remote.neurodata as neurodata\n",
    "import nibabel as nb"
   ]
  },
  {
   "cell_type": "code",
   "execution_count": 3,
   "metadata": {
    "collapsed": true
   },
   "outputs": [],
   "source": [
    "refToken = \"ara_ccf2\"\n",
    "refImg = imgDownload(refToken)"
   ]
  },
  {
   "cell_type": "code",
   "execution_count": 4,
   "metadata": {
    "collapsed": true
   },
   "outputs": [],
   "source": [
    "refAnnoImg = imgDownload(refToken, channel=\"annotation\")"
   ]
  },
  {
   "cell_type": "code",
   "execution_count": 5,
   "metadata": {
    "collapsed": true
   },
   "outputs": [],
   "source": [
    "randValues = np.random.rand(1000,3)\n",
    "randValues = np.concatenate(([[0,0,0]],randValues))\n",
    "randCmap = matplotlib.colors.ListedColormap (randValues)"
   ]
  },
  {
   "cell_type": "code",
   "execution_count": 6,
   "metadata": {
    "collapsed": false
   },
   "outputs": [],
   "source": [
    "inToken = \"Aut1367\"\n",
    "nd = neurodata()\n",
    "\n",
    "inImg = imgDownload(inToken, resolution=5)"
   ]
  },
  {
   "cell_type": "code",
   "execution_count": 7,
   "metadata": {
    "collapsed": false
   },
   "outputs": [],
   "source": [
    "rawestImg = sitk.GetArrayFromImage(inImg)  ##convert to simpleITK image to normal numpy ndarray"
   ]
  },
  {
   "cell_type": "code",
   "execution_count": 8,
   "metadata": {
    "collapsed": false
   },
   "outputs": [
    {
     "name": "stdout",
     "output_type": "stream",
     "text": [
      "(1225, 912, 595)\n"
     ]
    }
   ],
   "source": [
    "print rawestImg.shape"
   ]
  },
  {
   "cell_type": "markdown",
   "metadata": {},
   "source": [
    "## Rawest Plot (100k sampling)"
   ]
  },
  {
   "cell_type": "code",
   "execution_count": 9,
   "metadata": {
    "collapsed": true
   },
   "outputs": [],
   "source": [
    "rawestImg = sitk.GetArrayFromImage(inImg)  ##convert to simpleITK image to normal numpy ndarray"
   ]
  },
  {
   "cell_type": "code",
   "execution_count": null,
   "metadata": {
    "collapsed": false
   },
   "outputs": [],
   "source": [
    "## Randomly sample 100k points\n",
    "import random\n",
    "x = rawestImg[:,0,0]\n",
    "y = rawestImg[0,:,0]\n",
    "z = rawestImg[0,0,:]\n",
    "\n",
    "# mod by x to get x, mod by y to get y, mod by z to get z\n",
    "\n",
    "xdimensions = len(x)\n",
    "ydimensions = len(y)\n",
    "zdimensions = len(z)\n",
    "# index = random.sample(xrange(0,xdimensions*ydimensions*zdimensions),100000)  #66473400 is multiplying xshape by yshape by zshape\n",
    "\n",
    "\n",
    "####   random sampling of values > 250 ######\n",
    "# X_val = []\n",
    "# Y_val = []\n",
    "# Z_val = []\n",
    "\n",
    "# for i in index:\n",
    "#     z_val = int(i/(xdimensions*ydimensions))\n",
    "#     z_rem = i%(xdimensions*ydimensions)\n",
    "#     y_val = int(z_rem/xdimensions)\n",
    "#     x_val = int(z_rem/ydimensions)\n",
    "    \n",
    "#     X_val.append(x_val)\n",
    "#     Y_val.append(y_val)\n",
    "#     Z_val.append(z_val)\n",
    "\n",
    "# xlist = []\n",
    "# ylist = []\n",
    "# zlist = []\n",
    "xyz = []\n",
    "# for i in range(100000):\n",
    "#     value = 0\n",
    "#     while(value == 0):\n",
    "#         xval = random.sample(xrange(0,xdimensions), 1)[0]\n",
    "#         yval = random.sample(xrange(0,ydimensions), 1)[0]\n",
    "#         zval = random.sample(xrange(0,zdimensions), 1)[0]\n",
    "#         value = rawestImg[xval,yval,zval]\n",
    "#         if [xval, yval, zval] not in xyz and value > 250:\n",
    "#             xyz.append([xval, yval, zval])\n",
    "#         else:\n",
    "#             value = 0\n",
    "# print xyz\n",
    "\n",
    "\n",
    "####  obtaining 100000 brightest points #######\n",
    "total = 100000\n",
    "bright = np.max(rawestImg)\n",
    "allpoints = []\n",
    "brightpoints = []\n",
    "for (x,y,z),value in np.ndenumerate(rawestImg):\n",
    "#     print (x,y,z)\n",
    "#     print (x,z,z)[0]\n",
    "#     print value\n",
    "    if value == bright:\n",
    "        brightpoints.append([(x,y,z)])\n",
    "    else:\n",
    "        allpoints.append([(x,y,z),value])\n",
    "\n",
    "total -= len(brightpoints)\n",
    "bright -= 1\n",
    "if total < 0:\n",
    "    index = random.sample(xrange(0, len(brightpoints)), total)\n",
    "    for ind in index:\n",
    "        xyz.append(brightpoints[ind])\n",
    "else:\n",
    "    xyz = xyz + brightpoints\n",
    "#     for item in brightpoints:\n",
    "#         outfile.write(\",\".join(item) + \"\\n\")\n",
    "\n",
    "while(total > 0):\n",
    "    del brightpoints[:]\n",
    "    for item in allpoints:\n",
    "        if item[3] == bright:\n",
    "            brightpoins.append(item)\n",
    "            allpoints.remove(item)\n",
    "    total -= len(brightpoints)\n",
    "    bright -= 1\n",
    "    if total < 0:\n",
    "        index = random.sample(xrange(0, len(brightpoints)), total)\n",
    "        for ind in index:\n",
    "            xyz.append(brightpoints[ind])\n",
    "    else:\n",
    "        xyz = xyz + brightpoints\n",
    "#         for item in brightpoints:\n",
    "#             outfile.write(\",\".join(item) + \"\\n\")\n",
    "print len(xyz)"
   ]
  },
  {
   "cell_type": "code",
   "execution_count": null,
   "metadata": {
    "collapsed": false
   },
   "outputs": [],
   "source": [
    "from plotly.offline import download_plotlyjs, init_notebook_mode, iplot\n",
    "from plotly import tools\n",
    "import plotly\n",
    "plotly.offline.init_notebook_mode()\n",
    "import plotly.graph_objs as go\n",
    "\n",
    "# x = X_val\n",
    "# y = Y_val\n",
    "# z = Z_val\n",
    "xlist = []\n",
    "ylist = []\n",
    "zlist = []\n",
    "for i in xyz:\n",
    "    xlist.append(i[0])\n",
    "    ylist.append(i[1])\n",
    "    zlist.append(i[2])\n",
    "x = xlist\n",
    "y = ylist\n",
    "z = zlist\n",
    "\n",
    "trace1 = go.Scatter3d(\n",
    "    x = x,\n",
    "    y = y,\n",
    "    z = z,\n",
    "    mode='markers',\n",
    "    marker=dict(\n",
    "        size=1.2,\n",
    "        color='purple',                # set color to an array/list of desired values\n",
    "        colorscale='Viridis',          # choose a colorscale\n",
    "        opacity=0.15\n",
    "    )\n",
    ")\n",
    "data = [trace1]\n",
    "layout = go.Layout(\n",
    "    margin=dict(\n",
    "        l=0,\n",
    "        r=0,\n",
    "        b=0,\n",
    "        t=0\n",
    "    )\n",
    ")\n",
    "\n",
    "fig = go.Figure(data=data, layout=layout)\n",
    "print('Aut1367rawest' + \"plotly\")\n",
    "iplot(fig)"
   ]
  },
  {
   "cell_type": "code",
   "execution_count": null,
   "metadata": {
    "collapsed": true
   },
   "outputs": [],
   "source": []
  },
  {
   "cell_type": "code",
   "execution_count": null,
   "metadata": {
    "collapsed": false
   },
   "outputs": [],
   "source": [
    "plotly.offline.plot(fig, filename= 'AUT1367rawestluke200' + \"plotly.html\")"
   ]
  },
  {
   "cell_type": "markdown",
   "metadata": {},
   "source": [
    "## Filter image"
   ]
  },
  {
   "cell_type": "code",
   "execution_count": null,
   "metadata": {
    "collapsed": true
   },
   "outputs": [],
   "source": [
    "## Clean out noise (Filter Image)\n",
    "\n",
    "(values, bins) = np.histogram(sitk.GetArrayFromImage(inImg), bins=100, range=(0,500))\n",
    "plt.plot(bins[:-1], values)\n",
    "\n",
    "counts = np.bincount(values)\n",
    "maximum = np.argmax(counts)\n",
    "\n",
    "lowerThreshold = 100 #maximum\n",
    "upperThreshold = sitk.GetArrayFromImage(inImg).max()+1\n",
    "\n",
    "filteredImg = sitk.Threshold(inImg,lowerThreshold,upperThreshold,lowerThreshold) - lowerThreshold"
   ]
  },
  {
   "cell_type": "markdown",
   "metadata": {},
   "source": [
    "## Randomly sample 100k points"
   ]
  },
  {
   "cell_type": "code",
   "execution_count": null,
   "metadata": {
    "collapsed": false
   },
   "outputs": [],
   "source": [
    "filterImg = sitk.GetArrayFromImage(filteredImg)  ##convert to simpleITK image to normal numpy ndarray"
   ]
  },
  {
   "cell_type": "code",
   "execution_count": null,
   "metadata": {
    "collapsed": false
   },
   "outputs": [],
   "source": [
    "print filterImg[0][0]"
   ]
  },
  {
   "cell_type": "code",
   "execution_count": null,
   "metadata": {
    "collapsed": false
   },
   "outputs": [],
   "source": [
    "## Randomly sample 100k points after filtering\n",
    "x = filterImg[:,0,0]\n",
    "y = filterImg[0,:,0]\n",
    "z = filterImg[0,0,:]\n",
    "\n",
    "# mod by x to get x, mod by y to get y, mod by z to get z\n",
    "\n",
    "xdimensions = len(x)\n",
    "ydimensions = len(y)\n",
    "zdimensions = len(z)\n",
    "index = random.sample(xrange(0,xdimensions*ydimensions*zdimensions),100000)  #66473400 is multiplying xshape by yshape by zshape\n",
    "\n",
    "X_val = []\n",
    "Y_val = []\n",
    "Z_val = []\n",
    "\n",
    "for i in index:\n",
    "    z_val = int(i/(xdimensions*ydimensions))\n",
    "    z_rem = i%(xdimensions*ydimensions)\n",
    "    y_val = int(z_rem/xdimensions)\n",
    "    x_val = int(z_rem/ydimensions)\n",
    "    \n",
    "    X_val.append(x_val)\n",
    "    Y_val.append(y_val)\n",
    "    Z_val.append(z_val)\n",
    "\n",
    "xlist = []\n",
    "ylist = []\n",
    "zlist = []\n",
    "for i in range(100000):\n",
    "    xlist.append(random.sample(xrange(0,xdimensions), 1)[0])\n",
    "    ylist.append(random.sample(xrange(0,ydimensions), 1)[0])\n",
    "    zlist.append(random.sample(xrange(0,zdimensions), 1)[0])\n",
    "print xlist"
   ]
  },
  {
   "cell_type": "code",
   "execution_count": null,
   "metadata": {
    "collapsed": false
   },
   "outputs": [],
   "source": [
    "print X_val\n",
    "print Y_val\n",
    "print Z_val\n",
    "\n",
    "print len(X_val)\n",
    "print len(Y_val)\n",
    "print len(Z_val)"
   ]
  },
  {
   "cell_type": "markdown",
   "metadata": {},
   "source": [
    "UNUSED:  \n",
    "spacingImg = inImg.GetSpacing()  \n",
    "spacing = tuple(i * 50 for i in spacingImg)  \n",
    "print spacingImg  \n",
    "print spacing  \n",
    "inImg.SetSpacing(spacingImg)  \n",
    "inImg_download = inImg  # Aut1367 set to default spacing  \n",
    "inImg = imgResample(inImg, spacing=refImg.GetSpacing())  \n",
    "Img_reorient = imgReorient(inImg, \"LPS\", \"RSA\") #specific reoriented Aut1367  \n",
    "inImg_reorient = Img_reorient  \n",
    "refImg_ds = imgResample(refImg, spacing=spacing)   # atlas downsample 50x"
   ]
  },
  {
   "cell_type": "markdown",
   "metadata": {},
   "source": [
    "## Plot of 100k data post filtering"
   ]
  },
  {
   "cell_type": "code",
   "execution_count": null,
   "metadata": {
    "collapsed": false
   },
   "outputs": [],
   "source": [
    "from plotly.offline import download_plotlyjs, init_notebook_mode, iplot\n",
    "from plotly import tools\n",
    "import plotly\n",
    "plotly.offline.init_notebook_mode()\n",
    "import plotly.graph_objs as go\n",
    "\n",
    "x = X_val\n",
    "y = Y_val\n",
    "z = Z_val\n",
    "\n",
    "trace1 = go.Scatter3d(\n",
    "    x = x,\n",
    "    y = y,\n",
    "    z = z,\n",
    "    mode='markers',\n",
    "    marker=dict(\n",
    "        size=1.2,\n",
    "        color='purple',                # set color to an array/list of desired values\n",
    "        colorscale='Viridis',          # choose a colorscale\n",
    "        opacity=0.15\n",
    "    )\n",
    ")\n",
    "data = [trace1]\n",
    "layout = go.Layout(\n",
    "    margin=dict(\n",
    "        l=0,\n",
    "        r=0,\n",
    "        b=0,\n",
    "        t=0\n",
    "    )\n",
    ")\n",
    "\n",
    "fig = go.Figure(data=data, layout=layout)\n",
    "print('Aut1367filter' + \"plotly\")\n",
    "plotly.offline.plot(fig, filename= 'AUT1367filter' + \"plotly.html\")"
   ]
  },
  {
   "cell_type": "markdown",
   "metadata": {},
   "source": [
    "## Filter Image Again\n",
    "Don't do this"
   ]
  },
  {
   "cell_type": "markdown",
   "metadata": {
    "collapsed": false
   },
   "source": [
    "## Clean out noise (Filter Image)\n",
    "\n",
    "(values, bins) = np.histogram(filterImg, bins=100, range=(0,500))\n",
    "plt.plot(bins[:-1], values)\n",
    "\n",
    "counts = np.bincount(values)\n",
    "maximum = np.argmax(counts)\n",
    "\n",
    "lowerThreshold = maximum\n",
    "upperThreshold = filterImg.max()+1\n",
    "\n",
    "filterX2Img = sitk.Threshold(inImg,lowerThreshold,upperThreshold,lowerThreshold) - lowerThreshold"
   ]
  },
  {
   "cell_type": "markdown",
   "metadata": {
    "collapsed": true
   },
   "source": [
    "newImg = sitk.GetArrayFromImage(filterX2Img)  ##convert to simpleITK image to normal numpy ndarray"
   ]
  },
  {
   "cell_type": "code",
   "execution_count": null,
   "metadata": {
    "collapsed": false
   },
   "outputs": [],
   "source": [
    "## Histogram Equalization\n",
    "## Cut from generateHistogram from clarityviz\n",
    "import cv2\n",
    "im = filterImg\n",
    "img = im[:,:,:]\n",
    "shape = im.shape\n",
    "#affine = im.get_affine()\n",
    "x_value = shape[0]\n",
    "y_value = shape[1]\n",
    "z_value = shape[2]\n",
    "#####################################################\n",
    "imgflat = img.reshape(-1)\n",
    "#img_grey = np.array(imgflat * 255, dtype = np.uint8)\n",
    "#img_eq = exposure.equalize_hist(img_grey)#new_img = img_eq.reshape(x_value, y_value, z_value)\n",
    "#globaleq = nib.Nifti1Image(new_img, np.eye(4))\n",
    "    \n",
    "#nb.save(globaleq, '/home/albert/Thumbo/AutAglobaleq.nii')\n",
    "######################################################\n",
    "#clahe = cv2.createCLAHE(clipLimit=2.0, tileGridSize=(8,8))\n",
    "clahe = cv2.createCLAHE(clipLimit=2.0, tileGridSize=(8,8))\n",
    "img_grey = np.array(imgflat * 255, dtype = np.uint8)\n",
    "#threshed = cv2.adaptiveThreshold(img_grey, 255, cv2.ADAPTIVE_THRESH_MEAN_C, cv2.THRESH_BINARY, 3, 0)\n",
    "cl1 = clahe.apply(img_grey)\n",
    "#cv2.imwrite('clahe_2.jpg',cl1)\n",
    "#cv2.startWindowThread()\n",
    "#cv2.namedWindow(\"adaptive\")\n",
    "#cv2.imshow(\"adaptive\", cl1)\n",
    "#cv2.imshow(\"adaptive\", threshed)\n",
    "#plt.imshow(threshed)\n",
    "localimgflat = cl1 #cl1.reshape(-1)\n",
    "newer_img = localimgflat.reshape(x_value, y_value, z_value)  ##this is the numpy.ndarray version\n",
    "localeq = nb.Nifti1Image(newer_img, np.eye(4))"
   ]
  },
  {
   "cell_type": "code",
   "execution_count": null,
   "metadata": {
    "collapsed": false
   },
   "outputs": [],
   "source": [
    "print newer_img.shape"
   ]
  },
  {
   "cell_type": "markdown",
   "metadata": {},
   "source": [
    "## Plotting post filtering/HistEq"
   ]
  },
  {
   "cell_type": "code",
   "execution_count": null,
   "metadata": {
    "collapsed": false
   },
   "outputs": [],
   "source": [
    "x_histeq = newer_img[:,0,0]\n",
    "y_histeq = newer_img[0,:,0]\n",
    "z_histeq = newer_img[0,0,:]\n",
    "\n",
    "## Randomly sample 100k points after filtering\n",
    "\n",
    "xdimensions = len(x)\n",
    "ydimensions = len(y)\n",
    "zdimensions = len(z)\n",
    "index = random.sample(xrange(0,xdimensions*ydimensions*zdimensions),100000)  #66473400 is multiplying xshape by yshape by zshape\n",
    "\n",
    "X_val = []\n",
    "Y_val = []\n",
    "Z_val = []\n",
    "\n",
    "for i in index:\n",
    "    z_val = int(i/(xdimensions*ydimensions))\n",
    "    z_rem = i%(xdimensions*ydimensions)\n",
    "    y_val = int(z_rem/xdimensions)\n",
    "    x_val = int(z_rem/ydimensions)\n",
    "    \n",
    "    X_val.append(x_val)\n",
    "    Y_val.append(y_val)\n",
    "    Z_val.append(z_val)\n",
    "\n",
    "xlist = []\n",
    "ylist = []\n",
    "zlist = []\n",
    "\n",
    "for i in range(100000):\n",
    "    xlist.append(random.sample(xrange(0,xdimensions), 1)[0])\n",
    "    ylist.append(random.sample(xrange(0,ydimensions), 1)[0])\n",
    "    zlist.append(random.sample(xrange(0,zdimensions), 1)[0])\n",
    "\n",
    "for i in index:\n",
    "    z_val = int(i/(xdimensions*ydimensions))\n",
    "    z_rem = i%(xdimensions*ydimensions)\n",
    "    y_val = int(z_rem/xdimensions)\n",
    "    x_val = int(z_rem/ydimensions)\n",
    "    \n",
    "    X_val.append(x_val)\n",
    "    Y_val.append(y_val)\n",
    "    Z_val.append(z_val)\n",
    "    \n",
    "trace1 = go.Scatter3d(\n",
    "    x = x,\n",
    "    y = y,\n",
    "    z = z,\n",
    "    mode='markers',\n",
    "    marker=dict(\n",
    "        size=1.2,\n",
    "        color='purple',                # set color to an array/list of desired values\n",
    "        colorscale='Viridis',          # choose a colorscale\n",
    "        opacity=0.15\n",
    "    )\n",
    ")\n",
    "data = [trace1]\n",
    "layout = go.Layout(\n",
    "    margin=dict(\n",
    "        l=0,\n",
    "        r=0,\n",
    "        b=0,\n",
    "        t=0\n",
    "    )\n",
    ")\n",
    "\n",
    "fig = go.Figure(data=data, layout=layout)\n",
    "print('Aut1367postfilterHistEq' + \"plotly\")\n",
    "plotly.offline.plot(fig, filename= 'Aut1367postfilterHistEq' + \"plotly.html\")"
   ]
  },
  {
   "cell_type": "code",
   "execution_count": null,
   "metadata": {
    "collapsed": false
   },
   "outputs": [],
   "source": [
    "print \"done\""
   ]
  },
  {
   "cell_type": "code",
   "execution_count": null,
   "metadata": {
    "collapsed": true
   },
   "outputs": [],
   "source": []
  }
 ],
 "metadata": {
  "kernelspec": {
   "display_name": "Python 2",
   "language": "python",
   "name": "python2"
  },
  "language_info": {
   "codemirror_mode": {
    "name": "ipython",
    "version": 2
   },
   "file_extension": ".py",
   "mimetype": "text/x-python",
   "name": "python",
   "nbconvert_exporter": "python",
   "pygments_lexer": "ipython2",
   "version": "2.7.12"
  }
 },
 "nbformat": 4,
 "nbformat_minor": 1
}
