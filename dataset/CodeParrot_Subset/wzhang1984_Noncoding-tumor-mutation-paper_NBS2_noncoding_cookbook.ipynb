{
 "cells": [
  {
   "cell_type": "code",
   "execution_count": 1,
   "metadata": {
    "collapsed": true
   },
   "outputs": [],
   "source": [
    "%load_ext autoreload\n",
    "%autoreload 2"
   ]
  },
  {
   "cell_type": "code",
   "execution_count": 2,
   "metadata": {
    "collapsed": true
   },
   "outputs": [],
   "source": [
    "import numpy as np\n",
    "import pandas as pd\n",
    "import os\n",
    "import pyNBS as nbs\n",
    "import glob"
   ]
  },
  {
   "cell_type": "markdown",
   "metadata": {},
   "source": [
    "# Preprocess data"
   ]
  },
  {
   "cell_type": "code",
   "execution_count": 3,
   "metadata": {},
   "outputs": [
    {
     "name": "stdout",
     "output_type": "stream",
     "text": [
      "832\n"
     ]
    }
   ],
   "source": [
    "# Some old code...\n",
    "\n",
    "dirs=[\"survival\",\"network\"]\n",
    "for d in dirs:\n",
    "    if not os.path.exists(d):\n",
    "        os.makedirs(d)\n",
    "\n",
    "DIR4NBS = \"/cellar/data/users/wzhang1984/forNBS/\"\n",
    "\n",
    "id2gene = {}\n",
    "for line in open(DIR4NBS+\"Homo_sapiens.gene_info\").read().rstrip().split(\"\\n\")[1:]:\n",
    "    row = line.split(\"\\t\")\n",
    "    id2gene[row[1]] = row[2]\n",
    "\n",
    "gene2id={}\n",
    "for line in open(DIR4NBS+\"gene2id.txt\").read().rstrip().split(\"\\n\"):\n",
    "    row = line.split(\"\\t\")\n",
    "    gene2id[row[0]] = row[1]\n",
    "\n",
    "\n",
    "id2hallmark = {}\n",
    "for line in open(DIR4NBS+\"hallmarks.txt\").read().rstrip().split(\"\\n\"):\n",
    "    row = line.split(\"\\t\")\n",
    "    if len(row)>1:\n",
    "        for ID in row[2:]:\n",
    "            if not ID in id2hallmark:\n",
    "                id2hallmark[ID] = {}\n",
    "            id2hallmark[ID][row[0].split(\"|\")[1]] = 1\n",
    "\n",
    "for line in open(DIR4NBS+\"oncogene_tsg.txt\").read().rstrip().split(\"\\n\"):\n",
    "    row = line.split(\"\\t\")\n",
    "    if row[0] in gene2id:\n",
    "        ID = gene2id[row[0]]\n",
    "        if ID not in id2hallmark:\n",
    "            id2hallmark[ID] = {}\n",
    "        id2hallmark[ID][row[1]] = 1\n",
    "\n",
    "rearrangements_fns=glob.glob(DIR4NBS+\"rearrangements_*.txt\")\n",
    "for fn in rearrangements_fns:\n",
    "    for line in open(fn).read().rstrip().split(\"\\n\"):\n",
    "        row = line.split(\"\\t\")\n",
    "        anno = fn.split(\"/\")[-1].split(\".\")[0]\n",
    "        g_list = row[0].split(\",\")\n",
    "        g_list.extend(row[1].split(\",\"))\n",
    "        for g in g_list:\n",
    "            if g in gene2id:\n",
    "                ID = gene2id[g]\n",
    "                if ID not in id2hallmark:\n",
    "                    id2hallmark[ID] = {}\n",
    "                id2hallmark[ID][anno] = 1\n",
    "\n",
    "for line in open(DIR4NBS+\"cancerPredispositionGenes.txt\").read().rstrip().split(\"\\n\"):\n",
    "    row = line.split(\"\\t\")\n",
    "    if row[0] in gene2id:\n",
    "        ID = gene2id[row[0]]\n",
    "        if ID not in id2hallmark:\n",
    "            id2hallmark[ID] = {}\n",
    "        id2hallmark[ID][\"predisposition\"] = 1\n",
    "\n",
    "whitelist=set()\n",
    "for line in open('../eQTL_rev/whitelist.txt').read().rstrip().split('\\n'):\n",
    "    gene = line\n",
    "    whitelist.add(gene)\n",
    "\n",
    "pat2mut = {}\n",
    "pat2mut_source = {}\n",
    "gene2score = {}\n",
    "gene2og_tsg = {}\n",
    "for line in open('../eQTL_rev/summarize_muts2info_min.txt').read().rstrip().split('\\n')[1:]:\n",
    "    row = line.split('\\t')\n",
    "    gene = row[0]\n",
    "    gene2score[gene] = float(row[-1])\n",
    "    gene2og_tsg[gene] = row[1]\n",
    "\n",
    "mut2pat = {}\n",
    "pats = set()\n",
    "for line in open('../eQTL_rev/summarize_muts4oncoprinter.txt').read().rstrip().split('\\n')[1:]:\n",
    "    row = line.split('\\t')\n",
    "    pat = row[0]\n",
    "    pats.add(pat)\n",
    "    if len(row) == 1:\n",
    "        continue\n",
    "    if pat not in pat2mut:\n",
    "        pat2mut[pat] = {}\n",
    "        pat2mut_source[pat] = set()\n",
    "    gene = row[1]\n",
    "#     if gene not in whitelist:\n",
    "#         continue\n",
    "    if gene not in gene2score:\n",
    "        continue\n",
    "    if gene not in mut2pat:\n",
    "        mut2pat[gene] = [set(), set(), '']\n",
    "    if gene2score[gene] > 0:\n",
    "        mut2pat[gene][2] = 'up'\n",
    "        if row[2]=='UP':\n",
    "            if gene not in pat2mut[pat]:\n",
    "                pat2mut[pat][gene] = set()\n",
    "            pat2mut[pat][gene].add('nc\\tup')\n",
    "            pat2mut_source[pat].add(gene+'|ncmut')\n",
    "            mut2pat[gene][1].add(pat)\n",
    "        elif gene2og_tsg[gene] == 'ncmut' and gene != 'TERT':\n",
    "            continue\n",
    "        if (gene2og_tsg[gene] == 'Oncogene' and row[3] == 'MISSENSE') or row[2] == 'AMP':\n",
    "            if gene not in pat2mut[pat]:\n",
    "                pat2mut[pat][gene] = set()\n",
    "            pat2mut[pat][gene].add('cds\\tup')\n",
    "            pat2mut_source[pat].add(gene+'|cds')\n",
    "            mut2pat[gene][0].add(pat)\n",
    "    elif gene2score[gene] < 0:\n",
    "        mut2pat[gene][2] = 'down'\n",
    "        if row[2] == 'DOWN':\n",
    "            if gene not in pat2mut[pat]:\n",
    "                pat2mut[pat][gene] = set()\n",
    "            pat2mut[pat][gene].add('nc\\tdown')\n",
    "            pat2mut_source[pat].add(gene+'|ncmut')\n",
    "            mut2pat[gene][1].add(pat)\n",
    "        elif gene2og_tsg[gene] == 'ncmut':\n",
    "            continue\n",
    "        if row[3]=='TRUNC' or row[3]=='MISSENSE' or row[2]=='HOMDEL':\n",
    "            if gene not in pat2mut[pat]:\n",
    "                pat2mut[pat][gene] = set()\n",
    "            pat2mut[pat][gene].add('cds\\tdown')\n",
    "            pat2mut_source[pat].add(gene+'|cds')\n",
    "            mut2pat[gene][0].add(pat)\n",
    "        \n",
    "print len(pats)\n",
    "line_out = 'gene\\tmut_c\\tmut_nc\\tintersect\\tunion\\tup_down\\thallmarks\\n'\n",
    "for g in mut2pat:\n",
    "    mut_c = mut2pat[g][0]\n",
    "    mut_nc = mut2pat[g][1]\n",
    "    hallmarks = ''\n",
    "    if g in gene2id and gene2id[g] in id2hallmark:\n",
    "        hallmarks = ', '.join(id2hallmark[gene2id[g]])\n",
    "    line_out += '{}\\t{}\\t{}\\t{}\\t{}\\t{}\\t{}\\n'.format(g,float(len(mut_c-mut_nc))/len(pats),\n",
    "                                                      float(len(mut_nc-mut_c))/len(pats),\n",
    "                                                      float(len(mut_c&mut_nc))/len(pats),\n",
    "                                                      float(len(mut_c|mut_nc))/len(pats),\n",
    "                                                      mut2pat[g][2],\n",
    "                                                      hallmarks)\n",
    "open('./network/FI_id_mut2n.noa', 'w').write(line_out)\n",
    "\n",
    "pat2batch={}\n",
    "\n",
    "for line in open(\"../pat2clin4surv.txt\").read().rstrip().split(\"\\n\")[1:]:\n",
    "    row = line.split(\"\\t\")\n",
    "    pat2batch[row[0]] = [row[0].split(\"-\")[1], row[1].upper()]\n",
    "\n",
    "\n",
    "line_pat = \"\"\n",
    "disease2count = {}\n",
    "for pat in sorted(pat2mut):\n",
    "    line_pat += \"\\t\".join([pat, pat2batch[pat][0], pat2batch[pat][1],\n",
    "                           str(len(pat2mut[pat])), \",\".join(pat2mut_source[pat])]) + \"\\n\"\n",
    "    if not pat2batch[pat][1] in disease2count:\n",
    "        disease2count[pat2batch[pat][1]] = 0\n",
    "    disease2count[pat2batch[pat][1]] += 1\n",
    "\n",
    "open(\"pat2mut_pat.txt\", \"w\").write(line_pat)\n",
    "\n",
    "open(\"disease2count.txt\", \"w\").write(\"\\n\".join([i+\"\\t\"+str(disease2count[i]) for i in disease2count]))\n",
    "\n",
    "line_out = ''\n",
    "for pat in pat2mut:\n",
    "    for gene in pat2mut[pat]:\n",
    "        for anno in pat2mut[pat][gene]:\n",
    "            line_out += '{}\\t{}\\t{}\\n'.format(pat[:12],gene,anno)\n",
    "open('pat2mut.txt','wb').write(line_out)"
   ]
  },
  {
   "cell_type": "markdown",
   "metadata": {},
   "source": [
    "# Create Personalized PageRank matrix"
   ]
  },
  {
   "cell_type": "code",
   "execution_count": 4,
   "metadata": {},
   "outputs": [
    {
     "name": "stdout",
     "output_type": "stream",
     "text": [
      "* Loading PPI...\n",
      "\t- Edges: 228919\n",
      "\t- Nodes: 12175\n",
      "* Removing self-loops, multi-edges, and restricting to largest connected component...\n",
      "\t- Largest CC Edges: 228827\n",
      "\t- Largest CC Nodes: 12033\n",
      "* Saving updated node list to file...\n"
     ]
    }
   ],
   "source": [
    "file_name = '/cellar/data/users/wzhang1984/forNBS/FIsInGene_031516_with_annotations.txt'\n",
    "network_output_dir = 'FI_prop'\n",
    "network, gene2index = nbs.load_network(file_name, network_output_dir)"
   ]
  },
  {
   "cell_type": "code",
   "execution_count": 5,
   "metadata": {},
   "outputs": [
    {
     "name": "stdout",
     "output_type": "stream",
     "text": [
      "* Creating PPR  matrix...\n"
     ]
    }
   ],
   "source": [
    "# It takes a long time to compute the inverse matrix. But it only has to be done once.\n",
    "\n",
    "rst_prob = 0.3\n",
    "\n",
    "PPR = nbs.create_ppr_matrix(network, rst_prob, network_output_dir)"
   ]
  },
  {
   "cell_type": "markdown",
   "metadata": {},
   "source": [
    "# Load PPR matrix"
   ]
  },
  {
   "cell_type": "code",
   "execution_count": 23,
   "metadata": {
    "collapsed": true
   },
   "outputs": [],
   "source": [
    "network_output_dir = 'FI_prop'\n",
    "\n",
    "PPR = np.load('{}/ppr_0.3.npy'.format(network_output_dir))"
   ]
  },
  {
   "cell_type": "markdown",
   "metadata": {},
   "source": [
    "# Network propagation"
   ]
  },
  {
   "cell_type": "code",
   "execution_count": 24,
   "metadata": {},
   "outputs": [
    {
     "name": "stdout",
     "output_type": "stream",
     "text": [
      "\t- Genes in adjacency matrix: 222\n",
      "* Saving patient list to file...\n"
     ]
    }
   ],
   "source": [
    "output_dir = network_output_dir\n",
    "file_name = 'pat2mut.txt'\n",
    "mutation_profile, pat2index = nbs.load_mutation(file_name,output_dir,gene2index)"
   ]
  },
  {
   "cell_type": "code",
   "execution_count": 25,
   "metadata": {},
   "outputs": [
    {
     "name": "stdout",
     "output_type": "stream",
     "text": [
      "Finish propagating the data...\n"
     ]
    }
   ],
   "source": [
    "pat_diff = nbs.run_diffusion_PPR(PPR,mutation_profile)\n",
    "\n",
    "# write propagated network on hard disk\n",
    "with open('{}/prop_pat_mut.npy'.format(output_dir),'w') as file_handle:\n",
    "    np.save(file_handle,pat_diff)\n",
    "\n",
    "print 'Finish propagating the data...'"
   ]
  },
  {
   "cell_type": "markdown",
   "metadata": {},
   "source": [
    "# Clustering"
   ]
  },
  {
   "cell_type": "code",
   "execution_count": 26,
   "metadata": {
    "collapsed": true
   },
   "outputs": [],
   "source": [
    "M_prop = np.load('FI_prop/prop_pat_mut.npy')\n",
    "with open('FI_prop/index_genes') as file_handle:\n",
    "    genes = [a[1] for a in [line.split() for line in file_handle.read().splitlines()]]\n",
    "with open('FI_prop/index_patients') as file_handle:\n",
    "    pats = [a[1] for a in [line.split() for line in file_handle.read().splitlines()]]\n",
    "M_prop = pd.DataFrame(data=M_prop, index=pats, columns=genes)"
   ]
  },
  {
   "cell_type": "code",
   "execution_count": 27,
   "metadata": {
    "collapsed": true
   },
   "outputs": [],
   "source": [
    "M_prop_pca, pca_components, explained_variance_ratio = nbs.run_pca(M_prop)"
   ]
  },
  {
   "cell_type": "code",
   "execution_count": 28,
   "metadata": {
    "collapsed": true
   },
   "outputs": [],
   "source": [
    "explained_variance_ratio.tofile('explained_variance_ratio.txt',sep='\\n')"
   ]
  },
  {
   "cell_type": "code",
   "execution_count": 29,
   "metadata": {},
   "outputs": [
    {
     "data": {
      "text/plain": [
       "0.73682161318738548"
      ]
     },
     "execution_count": 29,
     "metadata": {},
     "output_type": "execute_result"
    }
   ],
   "source": [
    "explained_variance_ratio[:70].sum()"
   ]
  },
  {
   "cell_type": "code",
   "execution_count": 39,
   "metadata": {
    "collapsed": true
   },
   "outputs": [],
   "source": [
    "labels = nbs.run_clustering_mp(M_prop_pca.iloc[:, :70], 10, nbs.run_SpectralClustering)"
   ]
  },
  {
   "cell_type": "code",
   "execution_count": 40,
   "metadata": {},
   "outputs": [
    {
     "data": {
      "text/plain": [
       "7    192\n",
       "2     89\n",
       "0     82\n",
       "5     74\n",
       "8     72\n",
       "4     71\n",
       "1     68\n",
       "6     59\n",
       "3     54\n",
       "9     49\n",
       "Name: K10, dtype: int64"
      ]
     },
     "execution_count": 40,
     "metadata": {},
     "output_type": "execute_result"
    }
   ],
   "source": [
    "labels.K10.value_counts()"
   ]
  },
  {
   "cell_type": "markdown",
   "metadata": {},
   "source": [
    "# Survival analysis"
   ]
  },
  {
   "cell_type": "code",
   "execution_count": 41,
   "metadata": {},
   "outputs": [
    {
     "data": {
      "text/plain": [
       "0"
      ]
     },
     "execution_count": 41,
     "metadata": {},
     "output_type": "execute_result"
    }
   ],
   "source": [
    "nbs.run_coxph('../pat2clin4surv.txt', labels, 'survival/')"
   ]
  },
  {
   "cell_type": "markdown",
   "metadata": {},
   "source": [
    "# Subnetworks"
   ]
  },
  {
   "cell_type": "code",
   "execution_count": 42,
   "metadata": {},
   "outputs": [
    {
     "name": "stdout",
     "output_type": "stream",
     "text": [
      "Finish ttest\n",
      "Finish Fisher exact test\n",
      "Summarizing subtype signatures\n",
      "Summarizing subnetworks\n"
     ]
    },
    {
     "data": {
      "text/plain": [
       "0"
      ]
     },
     "execution_count": 42,
     "metadata": {},
     "output_type": "execute_result"
    }
   ],
   "source": [
    "M = pd.DataFrame(data=mutation_profile,index=pats,columns=genes)\n",
    "K = labels.loc[:,'K10']\n",
    "test_n_processes = 24\n",
    "pat2mut_fn = 'pat2mut.txt'\n",
    "network_fn = '/cellar/data/users/wzhang1984/forNBS/FIsInGene_031516_with_annotations.txt'\n",
    "output_dir = 'network'\n",
    "ttest_fdr_cut = 0.3\n",
    "\n",
    "# nbs.subnetwork_wrapper(M.loc[:,sorted(M.columns & whitelist)], M_prop.loc[:,sorted(M_prop.columns & whitelist)], K, \n",
    "#                        test_n_processes, pat2mut_fn, network_fn, output_dir, ttest_fdr_cut)\n",
    "nbs.subnetwork_wrapper(M, M_prop, K, \n",
    "                       test_n_processes, pat2mut_fn, network_fn, output_dir, ttest_fdr_cut)"
   ]
  },
  {
   "cell_type": "markdown",
   "metadata": {},
   "source": [
    "# postProcess"
   ]
  },
  {
   "cell_type": "code",
   "execution_count": 43,
   "metadata": {
    "collapsed": true
   },
   "outputs": [],
   "source": [
    "# Compare subtypes and tissues\n",
    "\n",
    "pat2surv=pd.read_table('survival/pat2surv2labels.txt',index_col=0)\n",
    "subtype2disease=pat2surv.set_index(['K10','DISEASE'])\n",
    "subtype2disease['counter']=1\n",
    "subtype2disease.counter.groupby(level=[1, 0]).sum().unstack().to_csv('subtype2disease.txt',sep='\\t')"
   ]
  },
  {
   "cell_type": "code",
   "execution_count": 44,
   "metadata": {},
   "outputs": [
    {
     "name": "stdout",
     "output_type": "stream",
     "text": [
      "2\n",
      "3\n",
      "4\n",
      "5\n",
      "6\n",
      "7\n",
      "8\n",
      "9\n"
     ]
    }
   ],
   "source": [
    "# Trace the hierarchy of clustering\n",
    "\n",
    "nPats_cut=10\n",
    "\n",
    "pat2surv=pd.read_table('survival/pat2surv2labels.txt',index_col=0)\n",
    "K2pat={}\n",
    "for index,row in pat2surv.iterrows():\n",
    "    pat=index\n",
    "    for k in range(2,11):\n",
    "        column='K{}'.format(k)\n",
    "        if k not in K2pat:\n",
    "            K2pat[k]={}\n",
    "        subtype=str(row[column])\n",
    "        if subtype not in K2pat[k]:\n",
    "            K2pat[k][subtype]=set()\n",
    "        K2pat[k][subtype].add(pat)        \n",
    "\n",
    "line_out=''\n",
    "line_sif='subtype1\\tsubtype2\\tnPats\\n'\n",
    "for k in sorted(K2pat.keys()[:-1]):\n",
    "    print k\n",
    "    line_out+='\\n'+str(k)+'\\n'\n",
    "    for subtype_2 in sorted(K2pat[k+1].keys()):\n",
    "        line_out+='\\t'+subtype_2\n",
    "    line_out+='\\n'\n",
    "    for subtype in sorted(K2pat[k].keys()):\n",
    "        line_out+=subtype\n",
    "        for subtype_2 in sorted(K2pat[k+1].keys()):\n",
    "            nPats=len(K2pat[k][subtype] & K2pat[k+1][subtype_2])\n",
    "            line_out+='\\t{}'.format(nPats)\n",
    "            if nPats<nPats_cut:\n",
    "                continue\n",
    "            line_sif+='{}-{}\\t{}-{}\\t{}\\n'.format(k,subtype,k+1,subtype_2,nPats)\n",
    "        line_out+='\\n'\n",
    "\n",
    "open('hierarchy.txt','wb').write(line_out)\n",
    "open('hierarchy_network.txt','wb').write(line_sif)\n",
    "\n",
    "line_noa='subtype\\tnPats\\n'\n",
    "for k in sorted(K2pat.keys()):\n",
    "    for subtype in sorted(K2pat[k].keys()):\n",
    "        line_noa+='{}-{}\\t{}\\n'.format(k,subtype,len(K2pat[k][subtype]))\n",
    "open('hierarchy_network.noa','wb').write(line_noa)"
   ]
  },
  {
   "cell_type": "code",
   "execution_count": 8,
   "metadata": {
    "collapsed": true
   },
   "outputs": [],
   "source": [
    "# Create files for oncoprinter plot\n",
    "# Old code...\n",
    "\n",
    "'''\n",
    "To override the input of the OncoPrinter from cBioPortal\n",
    "non-coding mutation -> UP/DOWN EXP\n",
    "'''\n",
    "\n",
    "import os\n",
    "\n",
    "K=10\n",
    "cluster2g={}\n",
    "for cluster in range(K):\n",
    "    cluster2g[cluster]=set()\n",
    "    for line in open(\"network/subtype_{}.noa\".format(cluster)).read().splitlines()[1:]:\n",
    "        a=line.split(\"\\t\")\n",
    "        if float(a[3])<=0.1 and float(a[4])<=0.05:\n",
    "            cluster2g[cluster].add(a[0])\n",
    "\n",
    "pat2surv=pd.read_table('survival/pat2surv2labels.txt',index_col=0)\n",
    "\n",
    "gene2score={}\n",
    "gene2og_tsg={}\n",
    "for line in open('../eQTL_rev/summarize_muts2info_min.txt').read().splitlines()[1:]:\n",
    "    a=line.split('\\t')\n",
    "    gene2score[a[0]]=float(a[-1])\n",
    "    gene2og_tsg[a[0]]=a[1]\n",
    "\n",
    "header='Sample\\tgene\\tAlteration\\tType\\n'\n",
    "cluster2line_out={}\n",
    "for line in open('../eQTL_rev/summarize_muts4oncoprinter.txt').read().splitlines()[1:]:\n",
    "    a=line.split('\\t')\n",
    "    if len(a)==1:\n",
    "        continue\n",
    "    pat=a[0][:12]\n",
    "    if pat not in pat2surv.index:\n",
    "        continue\n",
    "    cluster=pat2surv.loc[pat,'K10']\n",
    "    if cluster not in cluster2line_out:\n",
    "        cluster2line_out[cluster]=header\n",
    "    g=a[1]\n",
    "    if g not in cluster2g[cluster]:\n",
    "        continue\n",
    "    Alteration=a[2]\n",
    "    Type=a[3]\n",
    "    if gene2score[g]>0:\n",
    "        if (gene2og_tsg[g]=='Oncogene' and a[3]=='MISSENSE') or a[2]=='AMP' or a[2]=='UP':\n",
    "            if Alteration=='AMP':\n",
    "                if gene2og_tsg[g]=='ncmut' and g!='TERT':\n",
    "                    continue\n",
    "                Alteration='UP'\n",
    "                Type='EXP'\n",
    "            elif Alteration=='UP':\n",
    "                Alteration='AMP'\n",
    "                Type='CNA'\n",
    "            cluster2line_out[cluster]+='{}\\t{}\\t{}\\t{}\\n'.format(pat,a[1],Alteration,Type)\n",
    "    elif gene2score[g]<0:\n",
    "        if a[3]=='TRUNC' or a[3]=='MISSENSE' or a[2]=='HOMDEL' or a[2]=='DOWN':\n",
    "            if Alteration=='HOMDEL':\n",
    "                if gene2og_tsg[g]=='ncmut':\n",
    "                    continue\n",
    "                Alteration='DOWN'\n",
    "                Type='EXP'\n",
    "            elif Alteration=='DOWN':\n",
    "                Alteration='HOMDEL'\n",
    "                Type='CNA'\n",
    "            cluster2line_out[cluster]+='{}\\t{}\\t{}\\t{}\\n'.format(pat,a[1],Alteration,Type)\n",
    "\n",
    "os.system('mkdir -p forOncoPrinter')\n",
    "\n",
    "for cluster in cluster2line_out:\n",
    "    open('./forOncoPrinter/{}.txt'.format(cluster),'wb').write(cluster2line_out[cluster])"
   ]
  },
  {
   "cell_type": "code",
   "execution_count": 46,
   "metadata": {},
   "outputs": [
    {
     "data": {
      "image/png": "[encoded data removed]",
      "text/plain": [
       "<matplotlib.figure.Figure at 0x7f08f58c0690>"
      ]
     },
     "metadata": {},
     "output_type": "display_data"
    }
   ],
   "source": [
    "# plot affinity matrix\n",
    "\n",
    "from sklearn.cluster import SpectralClustering\n",
    "cluster = SpectralClustering(affinity='nearest_neighbors', n_clusters=10, n_neighbors=85, assign_labels='discretize')\n",
    "cluster.fit(M_prop_pca.iloc[:,:70])\n",
    "pat_affinity_matrix=pd.DataFrame(cluster.affinity_matrix_.todense(),index=M_prop_pca.index,columns=M_prop_pca.index)\n",
    "pat2surv=pd.read_table('survival/pat2surv2labels.txt',index_col=0)\n",
    "labels=pat2surv.loc[:,'K10']\n",
    "pat_affinity_matrix=pd.concat([pat_affinity_matrix,labels],join='inner',axis=1).sort_values('K10')\n",
    "pat_affinity_matrix=pd.concat([pat_affinity_matrix.T,labels],join='inner',axis=1).sort_values('K10')\n",
    "pat_affinity_matrix=pat_affinity_matrix.drop('K10',axis=1)\n",
    "\n",
    "%matplotlib inline\n",
    "import matplotlib.pyplot as plt\n",
    "import seaborn as sns\n",
    "ax = sns.heatmap(pat_affinity_matrix,xticklabels=False, yticklabels=False,cmap='Reds',square=True)\n",
    "plt.savefig('PatByPat_affinity_matrix.png', dpi=600)\n",
    "plt.show()\n",
    "pat_affinity_matrix[pat_affinity_matrix<0.5]=np.NAN\n",
    "\n",
    "pat_affinity_matrix.stack().to_csv('affinity_matrix_stack.txt', sep='\\t')"
   ]
  },
  {
   "cell_type": "code",
   "execution_count": 47,
   "metadata": {},
   "outputs": [
    {
     "name": "stdout",
     "output_type": "stream",
     "text": [
      "0\n",
      "1\n",
      "2\n",
      "3\n",
      "4\n",
      "5\n",
      "6\n",
      "7\n",
      "8\n",
      "9\n"
     ]
    }
   ],
   "source": [
    "ttest_fdr_cut=0.3\n",
    "fisher_p_cut=0.05\n",
    "\n",
    "for subtype in range(10):\n",
    "    print subtype\n",
    "    essential_genes=set()\n",
    "    gene2info={}\n",
    "    for line in open('network/subtype_{}.noa'.format(subtype)).read().splitlines()[1:]:\n",
    "        a=line.split('\\t')\n",
    "        ttest_fdr=float(a[3])\n",
    "        fisher_p=float(a[4])\n",
    "        if ttest_fdr<=ttest_fdr_cut:\n",
    "            if fisher_p<=fisher_p_cut:\n",
    "                essential_genes.add(a[0])\n",
    "            gene2info[a[0]]=[ttest_fdr,fisher_p]\n",
    "    header=True\n",
    "    line_out=set()\n",
    "    gene2line={}\n",
    "    for line in open('network/subtype_{}.txt'.format(subtype)).read().splitlines():\n",
    "        if header:\n",
    "            line_header=line+'\\n'\n",
    "            header=False\n",
    "            continue\n",
    "        a=line.split('\\t')\n",
    "        if (a[0] in essential_genes) and (a[1] in essential_genes):\n",
    "            line_out.add(line)\n",
    "        elif a[0] in essential_genes:\n",
    "            if a[1] not in gene2line:\n",
    "                gene2line[a[1]]=set()\n",
    "            gene2line[a[1]].add(line)\n",
    "        elif a[1] in essential_genes:\n",
    "            if a[0] not in gene2line:\n",
    "                gene2line[a[0]]=set()\n",
    "            gene2line[a[0]].add(line)\n",
    "    for gene in gene2line:\n",
    "        if len(gene2line[gene])>1:\n",
    "            for line in gene2line[gene]:\n",
    "                line_out.add(line)\n",
    "    open('network/subtype_{}_dist1.txt'.format(subtype),'wb').write(line_header+'\\n'.join(line_out)+'\\n'+\n",
    "                                                                    '\\n'.join(essential_genes))"
   ]
  },
  {
   "cell_type": "markdown",
   "metadata": {
    "collapsed": true
   },
   "source": [
    "#### Fisher test subtype vs. disease"
   ]
  },
  {
   "cell_type": "code",
   "execution_count": 3,
   "metadata": {
    "collapsed": true
   },
   "outputs": [],
   "source": [
    "import scipy.stats as stats"
   ]
  },
  {
   "cell_type": "code",
   "execution_count": 4,
   "metadata": {
    "collapsed": true
   },
   "outputs": [],
   "source": [
    "df = pd.read_table('subtype2disease_wnames.txt', index_col=0)\n",
    "df = df.fillna(0)"
   ]
  },
  {
   "cell_type": "code",
   "execution_count": 5,
   "metadata": {
    "collapsed": true
   },
   "outputs": [],
   "source": [
    "df_fisher = df.copy()"
   ]
  },
  {
   "cell_type": "code",
   "execution_count": 7,
   "metadata": {
    "collapsed": true
   },
   "outputs": [],
   "source": [
    "for index, row in df.iterrows():\n",
    "    for column in df.columns:\n",
    "        odds_ratio, p = stats.fisher_exact([[df.loc[index,column], \n",
    "                                             df.loc[index,df.columns!=column].sum()], \n",
    "                                            [df.loc[df.index!=index,column].sum(), \n",
    "                                             df.loc[df.index!=index,df.columns!=column].sum().sum()]], \n",
    "                                           alternative='greater')\n",
    "        df_fisher.loc[index,column] = p"
   ]
  },
  {
   "cell_type": "code",
   "execution_count": 8,
   "metadata": {
    "collapsed": true
   },
   "outputs": [],
   "source": [
    "df_fisher.to_csv('subtype2disease_fisher_p.txt', sep='\\t')"
   ]
  },
  {
   "cell_type": "code",
   "execution_count": 9,
   "metadata": {
    "collapsed": true
   },
   "outputs": [],
   "source": [
    "df_fisher_fdr = pd.read_table('subtype2disease_fisher_fdr.txt', index_col=0)"
   ]
  },
  {
   "cell_type": "code",
   "execution_count": 10,
   "metadata": {},
   "outputs": [
    {
     "data": {
      "image/png": "[encoded data removed]",
      "text/plain": [
       "<matplotlib.figure.Figure at 0x7f5fcd61cb90>"
      ]
     },
     "metadata": {},
     "output_type": "display_data"
    }
   ],
   "source": [
    "%matplotlib inline\n",
    "import matplotlib.pyplot as plt\n",
    "import seaborn as sns\n",
    "ax = sns.heatmap((-np.log10(df_fisher_fdr)).fillna(0).T.clip(lower=0,upper=5),cmap='Reds', square=True)\n",
    "plt.savefig('subtype2disease_fisher_fdr.pdf')"
   ]
  },
  {
   "cell_type": "code",
   "execution_count": null,
   "metadata": {
    "collapsed": true
   },
   "outputs": [],
   "source": []
  },
  {
   "cell_type": "code",
   "execution_count": null,
   "metadata": {
    "collapsed": true
   },
   "outputs": [],
   "source": []
  },
  {
   "cell_type": "code",
   "execution_count": null,
   "metadata": {
    "collapsed": true
   },
   "outputs": [],
   "source": []
  },
  {
   "cell_type": "code",
   "execution_count": null,
   "metadata": {
    "collapsed": true
   },
   "outputs": [],
   "source": []
  },
  {
   "cell_type": "code",
   "execution_count": null,
   "metadata": {
    "collapsed": true
   },
   "outputs": [],
   "source": []
  },
  {
   "cell_type": "code",
   "execution_count": null,
   "metadata": {
    "collapsed": true
   },
   "outputs": [],
   "source": []
  },
  {
   "cell_type": "code",
   "execution_count": null,
   "metadata": {
    "collapsed": true
   },
   "outputs": [],
   "source": []
  },
  {
   "cell_type": "code",
   "execution_count": null,
   "metadata": {
    "collapsed": true
   },
   "outputs": [],
   "source": []
  },
  {
   "cell_type": "code",
   "execution_count": null,
   "metadata": {
    "collapsed": true
   },
   "outputs": [],
   "source": []
  },
  {
   "cell_type": "code",
   "execution_count": null,
   "metadata": {
    "collapsed": true
   },
   "outputs": [],
   "source": []
  },
  {
   "cell_type": "code",
   "execution_count": null,
   "metadata": {
    "collapsed": true
   },
   "outputs": [],
   "source": []
  },
  {
   "cell_type": "code",
   "execution_count": null,
   "metadata": {
    "collapsed": true
   },
   "outputs": [],
   "source": []
  },
  {
   "cell_type": "code",
   "execution_count": null,
   "metadata": {
    "collapsed": true
   },
   "outputs": [],
   "source": []
  },
  {
   "cell_type": "code",
   "execution_count": null,
   "metadata": {
    "collapsed": true
   },
   "outputs": [],
   "source": []
  }
 ],
 "metadata": {
  "kernelspec": {
   "display_name": "Python 2",
   "language": "python",
   "name": "python2"
  },
  "language_info": {
   "codemirror_mode": {
    "name": "ipython",
    "version": 2
   },
   "file_extension": ".py",
   "mimetype": "text/x-python",
   "name": "python",
   "nbconvert_exporter": "python",
   "pygments_lexer": "ipython2",
   "version": "2.7.13"
  }
 },
 "nbformat": 4,
 "nbformat_minor": 1
}

