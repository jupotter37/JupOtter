{
 "cells": [
  {
   "cell_type": "code",
   "execution_count": 3,
   "metadata": {
    "collapsed": false
   },
   "outputs": [
    {
     "name": "stdout",
     "output_type": "stream",
     "text": [
      "Complete\n"
     ]
    }
   ],
   "source": [
    "import facebook\n",
    "\n",
    "graph = facebook.GraphAPI(access_token='EAACEdEose0cBACA4F6YxYS1qWU1xdra03NMafl5Wwg8CwzA52wYZCn6HIuEUZC6okqnd51PBU1okcFTWIZCzZABq9dqaz8UJLkWZCLlh6xzAsAogWEbUEYIxFiZBsiryEMLDy0ZBqymRHITyA61FmeDK6C67h2te4mdnHZAREZCwFBfUFhHhT6OjgaZBfpg167ZByAZD', version='2.2')\n",
    "\n",
    "file = open('similar.txt')\n",
    "out = open('similar_expand.csv', 'w')\n",
    "out.write('page1,page2,link1,link2,similarity\\n')\n",
    "\n",
    "for line in file:\n",
    "    p1, p2, dis = line.split()\n",
    "    try:\n",
    "        page1 = graph.get_object(id=p1)\n",
    "        page2 = graph.get_object(id=p2)\n",
    "#         print(page1['name'], page2['name'], page1['link'], page2['link'], dis)\n",
    "        out.write('\"'+page1['name']+'\",\"'+page2['name']+'\",\"'+page1['link']+'\",\"'+page2['link']+'\",\"'+dis+'\"\\n')\n",
    "    except:\n",
    "        pass\n",
    "    \n",
    "file.close()\n",
    "out.close()\n",
    "print('Complete')\n",
    "# post = graph.get_object(id='465374246921091')\n",
    "# for key in post:\n",
    "#     print(key, post[key])"
   ]
  },
  {
   "cell_type": "code",
   "execution_count": 2,
   "metadata": {
    "collapsed": false
   },
   "outputs": [
    {
     "name": "stdout",
     "output_type": "stream",
     "text": [
      "Complete\n"
     ]
    }
   ],
   "source": [
    "import facebook\n",
    "\n",
    "graph = facebook.GraphAPI(access_token='EAACEdEose0cBACA4F6YxYS1qWU1xdra03NMafl5Wwg8CwzA52wYZCn6HIuEUZC6okqnd51PBU1okcFTWIZCzZABq9dqaz8UJLkWZCLlh6xzAsAogWEbUEYIxFiZBsiryEMLDy0ZBqymRHITyA61FmeDK6C67h2te4mdnHZAREZCwFBfUFhHhT6OjgaZBfpg167ZByAZD', version='2.2')\n",
    "\n",
    "file = open('cluster.txt')\n",
    "out = open('cluster_expand.csv', 'w')\n",
    "out.write('page,name,category,cluster\\n')\n",
    "\n",
    "for line in file:\n",
    "    page, cluster = line.split()\n",
    "    try:\n",
    "        obj = graph.get_object(id=page, fields='name,category')\n",
    "        out.write('\"'+page+'\",\"'+obj['name']+'\",\"'+obj['category']+'\",\"'+cluster+'\"\\n')\n",
    "    except:\n",
    "        pass\n",
    "\n",
    "file.close()\n",
    "out.close()\n",
    "print('Complete')\n",
    "# post = graph.get_object(id='465374246921091')\n",
    "# for key in post:\n",
    "#     print(key, post[key])"
   ]
  },
  {
   "cell_type": "code",
   "execution_count": 1,
   "metadata": {
    "collapsed": false
   },
   "outputs": [
    {
     "name": "stdout",
     "output_type": "stream",
     "text": [
      "Complete\n"
     ]
    }
   ],
   "source": [
    "file = open('similar.txt')\n",
    "out = open('similar.csv', 'w')\n",
    "out.write('page1,page2,similarity\\n')\n",
    "\n",
    "for line in file:\n",
    "    p1, p2, dis = line.split()\n",
    "    out.write(p1+','+p2+','+dis+'\\n')\n",
    "    \n",
    "file.close()\n",
    "out.close()\n",
    "print('Complete')"
   ]
  },
  {
   "cell_type": "code",
   "execution_count": null,
   "metadata": {
    "collapsed": true
   },
   "outputs": [],
   "source": []
  }
 ],
 "metadata": {
  "kernelspec": {
   "display_name": "Python 3",
   "language": "python",
   "name": "python3"
  },
  "language_info": {
   "codemirror_mode": {
    "name": "ipython",
    "version": 3
   },
   "file_extension": ".py",
   "mimetype": "text/x-python",
   "name": "python",
   "nbconvert_exporter": "python",
   "pygments_lexer": "ipython3",
   "version": "3.5.2"
  }
 },
 "nbformat": 4,
 "nbformat_minor": 1
}
