{
 "cells": [
  {
   "cell_type": "code",
   "execution_count": 1,
   "metadata": {},
   "outputs": [],
   "source": [
    "import pandas as pd\n",
    "import requests\n",
    "from datetime import datetime"
   ]
  },
  {
   "cell_type": "markdown",
   "metadata": {},
   "source": [
    "# Deal with Injurty data"
   ]
  },
  {
   "cell_type": "code",
   "execution_count": null,
   "metadata": {},
   "outputs": [],
   "source": [
    "df = pd.read_csv('injury.csv', header=0)"
   ]
  },
  {
   "cell_type": "code",
   "execution_count": null,
   "metadata": {},
   "outputs": [],
   "source": [
    "df"
   ]
  },
  {
   "cell_type": "code",
   "execution_count": null,
   "metadata": {},
   "outputs": [],
   "source": [
    "df['Date'] = df['Date'].apply(lambda x:'0'+str(x) if len(str(x)) == 1 else str(x))\n"
   ]
  },
  {
   "cell_type": "code",
   "execution_count": null,
   "metadata": {},
   "outputs": [],
   "source": [
    "for n in df['Content'].unique():\n",
    "    if 'rest' in n or 'returned' in n or 'sore' in n:\n",
    "        print(n)"
   ]
  },
  {
   "cell_type": "code",
   "execution_count": null,
   "metadata": {},
   "outputs": [],
   "source": [
    "delete = ['sore left foot', 'sore right knee','sore left shin','rest','general soreness / rest','returned to lineup','sore right shoulder']\n",
    "for n in delete:\n",
    "    df = df.drop(df.loc[df.Content == n].index)"
   ]
  },
  {
   "cell_type": "code",
   "execution_count": null,
   "metadata": {},
   "outputs": [],
   "source": [
    "df.set_index('Date').to_csv('injury.csv',index='Date')"
   ]
  },
  {
   "cell_type": "code",
   "execution_count": null,
   "metadata": {},
   "outputs": [],
   "source": [
    "df.drop_duplicates().set_index('Date').to_csv('injury.csv')"
   ]
  },
  {
   "cell_type": "markdown",
   "metadata": {},
   "source": [
    "# Get data from NBA stats"
   ]
  },
  {
   "cell_type": "code",
   "execution_count": null,
   "metadata": {},
   "outputs": [],
   "source": [
    "HEADERS = {'user-agent': ('Mozilla/5.0 (Macintosh; Intel Mac OS X 10_10_5) '\n",
    "                          'AppleWebKit/537.36 (KHTML, like Gecko) '\n",
    "                          'Chrome/45.0.2454.101 Safari/537.36'),\n",
    "           'referer': 'http://stats.nba.com/scores/'\n",
    "          }"
   ]
  },
  {
   "cell_type": "code",
   "execution_count": null,
   "metadata": {},
   "outputs": [],
   "source": [
    "# Get all Kobe shot data from 1996 to 2016 and put it into an array\n",
    "# This player ID comes from stats.nba.com (http://stats.nba.com/player/#!/977/stats/)\n",
    "playerID = \"977\"\n",
    "seasons = []\n",
    "for season in range(1996,2016):\n",
    "    # The stats.nba.com API wants season as \"1996-97\"\n",
    "    seasonString = str(season) + '-' + str(season+1)[2:]\n",
    "\n",
    "    # The stats.nba.com endpoint we are using is http://stats.nba.com/stats/shotchartdetail\n",
    "    # More info on endpoints: https://github.com/seemethere/nba_py/wiki/stats.nba.com-Endpoint-Documentation\n",
    "    shot_chart_url = 'http://stats.nba.com/stats/shotchartdetail?Period=0&VsConference=&LeagueID=00&LastNGames=0&TeamID=0&Position=&Location=&Outcome=&ContextMeasure=FGA&DateFrom=&StartPeriod=&DateTo=&OpponentTeamID=0&ContextFilter=&RangeType=&Season=' + seasonString + '&AheadBehind=&EndRange=&VsDivision=&PointDiff=&RookieYear=&GameSegment=&Month=0&ClutchTime=&StartRange=&EndPeriod=&SeasonType=Regular+Season&SeasonSegment=&GameID=&PlayerID=' + playerID + '&CFID=&PlayerPosition='\n",
    "    response = requests.get(shot_chart_url, headers=HEADERS)\n",
    "    # Split response into headers and content\n",
    "    headers = response.json()['resultSets'][0]['headers']\n",
    "    shots = response.json()['resultSets'][0]['rowSet']\n",
    "\n",
    "    # Create pandas dataframe to hold the data\n",
    "    shot_df = pd.DataFrame(shots, columns=headers)\n",
    "\n",
    "    # add extra column for season\n",
    "    shot_df['SEASON'] = seasonString\n",
    "\n",
    "    # add extra column for playoff flag\n",
    "    shot_df['playoffs'] = 0\n",
    "    \n",
    "    seasons.append(shot_df)\n",
    "    \n",
    "\n",
    "# Do the same thing for all the playoff shots\n",
    "for season in range(1996,2016):\n",
    "    seasonString = str(season) + '-' + str(season+1)[2:]\n",
    "\n",
    "    # This URL is the same except for the parameter SeasonType=Playoffs\n",
    "    shot_chart_url = 'http://stats.nba.com/stats/shotchartdetail?Period=0&VsConference=&LeagueID=00&LastNGames=0&TeamID=0&Position=&Location=&Outcome=&ContextMeasure=FGA&DateFrom=&StartPeriod=&DateTo=&OpponentTeamID=0&ContextFilter=&RangeType=&Season=' + seasonString + '&AheadBehind=&EndRange=&VsDivision=&PointDiff=&RookieYear=&GameSegment=&Month=0&ClutchTime=&StartRange=&EndPeriod=&SeasonType=Playoffs&SeasonSegment=&GameID=&PlayerID=' + playerID + '&CFID=&PlayerPosition='\n",
    "    response = requests.get(shot_chart_url, headers=HEADERS)\n",
    "    \n",
    "    headers = response.json()['resultSets'][0]['headers']\n",
    "    shots = response.json()['resultSets'][0]['rowSet']\n",
    "    \n",
    "    shot_df = pd.DataFrame(shots, columns=headers)\n",
    "    shot_df['SEASON'] = str(season) + '-' + str(season+1)[2:]\n",
    "    shot_df['playoffs'] = 1\n",
    "    \n",
    "    seasons.append(shot_df)"
   ]
  },
  {
   "cell_type": "code",
   "execution_count": null,
   "metadata": {},
   "outputs": [],
   "source": [
    "# combine all season and playoffs dataframes into one dataframe\n",
    "kobe_all_shots = pd.concat(seasons)\n",
    "kobe_all_shots.columns = [n.lower() for n in kobe_all_shots.columns]\n",
    "# dump a csv file\n",
    "kobe_all_shots.to_csv(\"kobe_all_shots.csv\")"
   ]
  },
  {
   "cell_type": "markdown",
   "metadata": {},
   "source": [
    "# Add Score column for each shot"
   ]
  },
  {
   "cell_type": "code",
   "execution_count": null,
   "metadata": {},
   "outputs": [],
   "source": [
    "df = pd.read_csv('kobe.csv', index_col=0)"
   ]
  },
  {
   "cell_type": "code",
   "execution_count": null,
   "metadata": {},
   "outputs": [],
   "source": [
    "df['score'] = df['shot_made_flag'] * 1"
   ]
  },
  {
   "cell_type": "code",
   "execution_count": null,
   "metadata": {},
   "outputs": [],
   "source": [
    "df['score'] = df['score'] * df['shot_type'].apply(lambda x:2 if '2' in x else 3)"
   ]
  },
  {
   "cell_type": "code",
   "execution_count": null,
   "metadata": {},
   "outputs": [],
   "source": [
    "df.to_csv(\"kobe.csv\")"
   ]
  },
  {
   "cell_type": "markdown",
   "metadata": {},
   "source": [
    "# Add opponent column"
   ]
  },
  {
   "cell_type": "code",
   "execution_count": null,
   "metadata": {},
   "outputs": [],
   "source": [
    "data = pd.read_csv('kobe.csv', index_col=0)"
   ]
  },
  {
   "cell_type": "code",
   "execution_count": null,
   "metadata": {},
   "outputs": [],
   "source": [
    "data.shape"
   ]
  },
  {
   "cell_type": "code",
   "execution_count": null,
   "metadata": {},
   "outputs": [],
   "source": [
    "data['opponent'] = data['htm'].apply(lambda x: '' if x=='LAL' else x) + data['vtm'].apply(lambda x: '' if x=='LAL' else x)"
   ]
  },
  {
   "cell_type": "code",
   "execution_count": null,
   "metadata": {},
   "outputs": [],
   "source": [
    "data.to_csv(\"kobe.csv\")"
   ]
  },
  {
   "cell_type": "code",
   "execution_count": null,
   "metadata": {},
   "outputs": [],
   "source": [
    "data = pd.read_csv('stat.csv')"
   ]
  },
  {
   "cell_type": "code",
   "execution_count": null,
   "metadata": {},
   "outputs": [],
   "source": [
    "for n in data.columns:\n",
    "    print('''<a class=\"dropdown-item\" >{a}</a>'''.format(a=n))"
   ]
  },
  {
   "cell_type": "markdown",
   "metadata": {},
   "source": [
    "# Algorithm"
   ]
  },
  {
   "cell_type": "code",
   "execution_count": 2,
   "metadata": {},
   "outputs": [],
   "source": [
    "df = pd.read_csv('stat.csv')"
   ]
  },
  {
   "cell_type": "code",
   "execution_count": 3,
   "metadata": {},
   "outputs": [],
   "source": [
    "# stats\n",
    "stat = df.iloc[:20]"
   ]
  },
  {
   "cell_type": "code",
   "execution_count": 4,
   "metadata": {},
   "outputs": [],
   "source": [
    "stat_median = stat.median()"
   ]
  },
  {
   "cell_type": "code",
   "execution_count": 5,
   "metadata": {},
   "outputs": [],
   "source": [
    "# offense: ORB 0.25, FG 0.03125, FGA 0.03125, 3P 0.03125, 3PA 0.03125, 2P 0.03125, 2PA 0.03125, FT 0.03125, FTA 0.03125, AST 0.25, TOV 0.25\n",
    "stat_off = stat[['Season', 'ORB', 'FG', 'FGA', '3P', '3PA', '2P', '2PA', 'FT', 'FTA', 'AST', 'TOV']]\n",
    "stat_median_off = stat_median[['ORB', 'FG', 'FGA', '3P', '3PA', '2P', '2PA', 'FT', 'FTA', 'AST', 'TOV']]\n",
    "\n",
    "# defencse: DRB 0.33, STL 0.33, BLK 0.33\n",
    "stat_def = stat[['Season','DRB', 'STL', 'BLK']]\n",
    "stat_median_def = stat_median[['Season','DRB', 'STL', 'BLK']]\n",
    "\n",
    "# Efficiency: MP 0.5, FG% 0.1, 3P% 0.1, 2P% 0.1, eFG% 0.1, FT% 0.1\n",
    "stat_eff = stat[['Season','MP', 'FG%', '2P%', 'eFG%', 'FT%']]\n",
    "stat_median_eff = stat_median[['MP', 'FG%', '2P%', 'eFG%', 'FT%']]"
   ]
  },
  {
   "cell_type": "code",
   "execution_count": 6,
   "metadata": {},
   "outputs": [],
   "source": [
    "weights = {'ORB':0.25,\n",
    "           'FG': 0.03125, \n",
    "           'FGA': 0.03125, \n",
    "           '3P': 0.03125,\n",
    "           '3PA': 0.03125,\n",
    "           '2P': 0.03125,\n",
    "           '2PA': 0.03125,\n",
    "           'FT': 0.03125,\n",
    "           'FTA': 0.03125,\n",
    "           'AST':0.25,\n",
    "           'TOV':0.25,\n",
    "           'DRB':1.0/3, \n",
    "           'STL':1.0/3, \n",
    "           'BLK':1.0/3,\n",
    "           'MP':0.1,\n",
    "           'FG%':0.1,\n",
    "           '2P%':0.1,\n",
    "           'eFG%':0.1,\n",
    "           'FT%':0.1\n",
    "          }"
   ]
  },
  {
   "cell_type": "code",
   "execution_count": 7,
   "metadata": {},
   "outputs": [],
   "source": [
    "scores = pd.DataFrame(columns=['Season','Off', 'Def', 'Eff'])\n",
    "for n in stat['Season']:\n",
    "    temp = stat.loc[stat['Season']==n]\n",
    "    off_score = 0\n",
    "    def_score = 0\n",
    "    eff_score = 0\n",
    "    total = 0\n",
    "    \n",
    "    for i in ['ORB', 'FG', 'FGA', '3P', '3PA', '2P', '2PA', 'FT', 'FTA', 'AST', 'TOV']:\n",
    "        off_score += temp[i] * weights[i]\n",
    "    for i in ['DRB', 'STL', 'BLK']:\n",
    "        def_score += temp[i] * weights[i]\n",
    "    for i in ['MP', 'FG%', '2P%', 'eFG%', 'FT%']:\n",
    "        eff_score += temp[i] * weights[i]\n",
    "    total = off_score + def_score + eff_score\n",
    "    scores = scores.append(pd.DataFrame(data=[[n, off_score.values[0], def_score.values[0], eff_score.values[0]]], \n",
    "                               columns=['Season','Off', 'Def', 'Eff']))\n",
    "scores[['Off','Def','Eff']] = scores[['Off','Def','Eff']]/scores[['Off','Def','Eff']].max()"
   ]
  },
  {
   "cell_type": "code",
   "execution_count": 8,
   "metadata": {},
   "outputs": [],
   "source": [
    "js_object = {}\n",
    "for n in scores.values:\n",
    "    temp = []\n",
    "    temp.append({'axis':'Offense','value':n[1]})\n",
    "    temp.append({'axis':'Defence','value':n[2]})\n",
    "    temp.append({'axis':'Efficiency','value':n[3]})\n",
    "    js_object[n[0]] = [temp]"
   ]
  },
  {
   "cell_type": "code",
   "execution_count": 9,
   "metadata": {},
   "outputs": [
    {
     "data": {
      "text/plain": [
       "{'1996-97': [[{'axis': 'Offense', 'value': 0.29328621908127206},\n",
       "   {'axis': 'Defence', 'value': 0.2558139534883721},\n",
       "   {'axis': 'Efficiency', 'value': 0.40350235471629103}]],\n",
       " '1997-98': [[{'axis': 'Offense', 'value': 0.5147232037691402},\n",
       "   {'axis': 'Defence', 'value': 0.4069767441860466},\n",
       "   {'axis': 'Efficiency', 'value': 0.6434776644872205}]],\n",
       " '1998-99': [[{'axis': 'Offense', 'value': 0.7084805653710247},\n",
       "   {'axis': 'Defence', 'value': 0.7674418604651163},\n",
       "   {'axis': 'Efficiency', 'value': 0.9185679667139134}]],\n",
       " '1999-00': [[{'axis': 'Offense', 'value': 0.8133097762073026},\n",
       "   {'axis': 'Defence', 'value': 0.8372093023255814},\n",
       "   {'axis': 'Efficiency', 'value': 0.9251063051529423}]],\n",
       " '2000-01': [[{'axis': 'Offense', 'value': 0.929328621908127},\n",
       "   {'axis': 'Defence', 'value': 0.7674418604651163},\n",
       "   {'axis': 'Efficiency', 'value': 0.98738054958621}]],\n",
       " '2001-02': [[{'axis': 'Offense', 'value': 0.8828032979976442},\n",
       "   {'axis': 'Defence', 'value': 0.6976744186046512},\n",
       "   {'axis': 'Efficiency', 'value': 0.9273924374742811}]],\n",
       " '2002-03': [[{'axis': 'Offense', 'value': 1.0},\n",
       "   {'axis': 'Defence', 'value': 1.0},\n",
       "   {'axis': 'Efficiency', 'value': 1.0}]],\n",
       " '2003-04': [[{'axis': 'Offense', 'value': 0.8339222614840989},\n",
       "   {'axis': 'Defence', 'value': 0.6976744186046512},\n",
       "   {'axis': 'Efficiency', 'value': 0.9103607516803073}]],\n",
       " '2004-05': [[{'axis': 'Offense', 'value': 0.9888103651354533},\n",
       "   {'axis': 'Defence', 'value': 0.7674418604651164},\n",
       "   {'axis': 'Efficiency', 'value': 0.9808193498239678}]],\n",
       " '2005-06': [[{'axis': 'Offense', 'value': 0.9764428739693758},\n",
       "   {'axis': 'Defence', 'value': 0.7674418604651164},\n",
       "   {'axis': 'Efficiency', 'value': 0.9892780394129213}]],\n",
       " '2006-07': [[{'axis': 'Offense', 'value': 0.9605418138987044},\n",
       "   {'axis': 'Defence', 'value': 0.7674418604651163},\n",
       "   {'axis': 'Efficiency', 'value': 0.9860088701934067}]],\n",
       " '2007-08': [[{'axis': 'Offense', 'value': 0.9040047114252061},\n",
       "   {'axis': 'Defence', 'value': 0.8720930232558141},\n",
       "   {'axis': 'Efficiency', 'value': 0.9417036258058614}]],\n",
       " '2008-09': [[{'axis': 'Offense', 'value': 0.8415783274440518},\n",
       "   {'axis': 'Defence', 'value': 0.7093023255813954},\n",
       "   {'axis': 'Efficiency', 'value': 0.8783548991815646}]],\n",
       " '2009-10': [[{'axis': 'Offense', 'value': 0.8863368669022379},\n",
       "   {'axis': 'Defence', 'value': 0.7093023255813954},\n",
       "   {'axis': 'Efficiency', 'value': 0.9382744273238536}]],\n",
       " '2010-11': [[{'axis': 'Offense', 'value': 0.8274440518256773},\n",
       "   {'axis': 'Defence', 'value': 0.627906976744186},\n",
       "   {'axis': 'Efficiency', 'value': 0.8265054181336018}]],\n",
       " '2011-12': [[{'axis': 'Offense', 'value': 0.9057714958775028},\n",
       "   {'axis': 'Defence', 'value': 0.6744186046511628},\n",
       "   {'axis': 'Efficiency', 'value': 0.9304787161080883}]],\n",
       " '2012-13': [[{'axis': 'Offense', 'value': 0.9334511189634864},\n",
       "   {'axis': 'Defence', 'value': 0.744186046511628},\n",
       "   {'axis': 'Efficiency', 'value': 0.9353939005989668}]],\n",
       " '2013-14': [[{'axis': 'Offense', 'value': 0.8227326266195523},\n",
       "   {'axis': 'Defence', 'value': 0.627906976744186},\n",
       "   {'axis': 'Efficiency', 'value': 0.7251154496822277}]],\n",
       " '2014-15': [[{'axis': 'Offense', 'value': 0.8745583038869258},\n",
       "   {'axis': 'Defence', 'value': 0.744186046511628},\n",
       "   {'axis': 'Efficiency', 'value': 0.8343925746422204}]],\n",
       " '2015-16': [[{'axis': 'Offense', 'value': 0.570082449941107},\n",
       "   {'axis': 'Defence', 'value': 0.48837209302325585},\n",
       "   {'axis': 'Efficiency', 'value': 0.6906634355996526}]]}"
      ]
     },
     "execution_count": 9,
     "metadata": {},
     "output_type": "execute_result"
    }
   ],
   "source": [
    "js_object"
   ]
  },
  {
   "cell_type": "code",
   "execution_count": null,
   "metadata": {},
   "outputs": [],
   "source": []
  }
 ],
 "metadata": {
  "kernelspec": {
   "display_name": "Python 3",
   "language": "python",
   "name": "python3"
  },
  "language_info": {
   "codemirror_mode": {
    "name": "ipython",
    "version": 3
   },
   "file_extension": ".py",
   "mimetype": "text/x-python",
   "name": "python",
   "nbconvert_exporter": "python",
   "pygments_lexer": "ipython3",
   "version": "3.6.2"
  }
 },
 "nbformat": 4,
 "nbformat_minor": 2
}
