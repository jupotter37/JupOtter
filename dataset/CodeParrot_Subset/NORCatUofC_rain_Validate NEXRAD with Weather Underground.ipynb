{
 "cells": [
  {
   "cell_type": "code",
   "execution_count": 1,
   "metadata": {
    "collapsed": true
   },
   "outputs": [],
   "source": [
    "import numpy as np\n",
    "import pandas as pd\n",
    "import os, re, boto3\n",
    "from botocore.handlers import disable_signing\n",
    "import matplotlib.pyplot as plt\n",
    "%matplotlib inline"
   ]
  },
  {
   "cell_type": "markdown",
   "metadata": {},
   "source": [
    "### Processing Test\n",
    "\n",
    "* Consolidating the returned CSVs into one is relatively painless\n",
    "* Main issue is that for some reason the time is still in GMT, and needs 5 hours in milliseconds subtracted from the epoch\n",
    "* Validating against [Weather Underground read from O'Hare](https://www.wunderground.com/history/airport/KORD/2016/8/12/DailyHistory.html?req_city=Chicago+O%27Hare&req_state=IL&req_statename=&reqdb.zip=60666&reqdb.magic=8&reqdb.wmo=99999&MR=1)"
   ]
  },
  {
   "cell_type": "code",
   "execution_count": 2,
   "metadata": {
    "collapsed": false
   },
   "outputs": [
    {
     "name": "stdout",
     "output_type": "stream",
     "text": [
      "193\n"
     ]
    }
   ],
   "source": [
    "s3_client = boto3.client('s3')\n",
    "resource = boto3.resource('s3')\n",
    "# Disable signing for anonymous requests to public bucket\n",
    "resource.meta.client.meta.events.register('choose-signer.s3.*', disable_signing)\n",
    "\n",
    "def file_list(client, bucket, prefix=''):\n",
    "    paginator = client.get_paginator('list_objects')\n",
    "    for result in client.list_objects(Bucket=bucket, Prefix=prefix, Delimiter='/')['Contents']:\n",
    "        yield result.get('Key')\n",
    "\n",
    "gen_s3_files = list(file_list(s3_client, 'nexrad-etl', prefix='test-aug3/'))\n",
    "\n",
    "for i, f in enumerate(gen_s3_files):\n",
    "   s3_client.download_file('nexrad-etl',f,'test-aug3/nexrad{}.csv'.format(i))\n",
    "\n",
    "folder_files = os.listdir(os.path.join(os.getcwd(), 'test-aug3'))\n",
    "nexrad_df_list = list()\n",
    "for f in folder_files:\n",
    "    if f.endswith('.csv'):\n",
    "        try:\n",
    "            nexrad_df_list.append(pd.read_csv('test-aug3/{}'.format(f)))\n",
    "        except:\n",
    "            #print(f)\n",
    "            pass\n",
    "print(len(nexrad_df_list))"
   ]
  },
  {
   "cell_type": "code",
   "execution_count": 36,
   "metadata": {
    "collapsed": false
   },
   "outputs": [
    {
     "name": "stdout",
     "output_type": "stream",
     "text": [
      "(648, 61)\n"
     ]
    }
   ],
   "source": [
    "merged_nexrad = pd.concat(nexrad_df_list)\n",
    "merged_nexrad['timestamp'] = pd.to_datetime(((merged_nexrad['timestamp'] / 1000) - (5*3600*1000)), unit='ms')\n",
    "#merged_nexrad['timestamp'] = pd.to_datetime(merged_nexrad['timestamp'] / 1000, unit='ms')\n",
    "merged_nexrad = merged_nexrad.set_index(pd.DatetimeIndex(merged_nexrad['timestamp']))\n",
    "merged_nexrad = merged_nexrad.sort_values('timestamp')\n",
    "merged_nexrad = merged_nexrad.fillna(0.0)\n",
    "# Get diff between previous two reads\n",
    "merged_nexrad['diff'] = merged_nexrad['timestamp'].diff()\n",
    "merged_nexrad = merged_nexrad[1:]\n",
    "print(merged_nexrad.shape)"
   ]
  },
  {
   "cell_type": "code",
   "execution_count": 22,
   "metadata": {
    "collapsed": false
   },
   "outputs": [
    {
     "data": {
      "text/plain": [
       "Timestamp('2016-08-11 11:45:44')"
      ]
     },
     "execution_count": 22,
     "metadata": {},
     "output_type": "execute_result"
    }
   ],
   "source": [
    "merged_nexrad.index.min()"
   ]
  },
  {
   "cell_type": "code",
   "execution_count": 23,
   "metadata": {
    "collapsed": false
   },
   "outputs": [
    {
     "data": {
      "text/html": [
       "<div>\n",
       "<table border=\"1\" class=\"dataframe\">\n",
       "  <thead>\n",
       "    <tr style=\"text-align: right;\">\n",
       "      <th></th>\n",
       "      <th>timestamp</th>\n",
       "      <th>60601</th>\n",
       "      <th>60655</th>\n",
       "      <th>60651</th>\n",
       "      <th>60609</th>\n",
       "      <th>60625</th>\n",
       "      <th>60624</th>\n",
       "      <th>60631</th>\n",
       "      <th>60626</th>\n",
       "      <th>60613</th>\n",
       "      <th>...</th>\n",
       "      <th>60646</th>\n",
       "      <th>60617</th>\n",
       "      <th>60623</th>\n",
       "      <th>60636</th>\n",
       "      <th>60634</th>\n",
       "      <th>60659</th>\n",
       "      <th>60607</th>\n",
       "      <th>60654</th>\n",
       "      <th>60657</th>\n",
       "      <th>diff</th>\n",
       "    </tr>\n",
       "  </thead>\n",
       "  <tbody>\n",
       "    <tr>\n",
       "      <th>2016-08-11 11:45:44</th>\n",
       "      <td>2016-08-11 11:45:44</td>\n",
       "      <td>0.0</td>\n",
       "      <td>0.000000</td>\n",
       "      <td>0.0</td>\n",
       "      <td>0.0</td>\n",
       "      <td>0.0</td>\n",
       "      <td>0.0</td>\n",
       "      <td>0.0</td>\n",
       "      <td>0.0</td>\n",
       "      <td>0.0</td>\n",
       "      <td>...</td>\n",
       "      <td>0.0</td>\n",
       "      <td>0.0</td>\n",
       "      <td>0.000000</td>\n",
       "      <td>0.0</td>\n",
       "      <td>0.0</td>\n",
       "      <td>0.0</td>\n",
       "      <td>0.0</td>\n",
       "      <td>0.000000</td>\n",
       "      <td>0.0</td>\n",
       "      <td>0.080000</td>\n",
       "    </tr>\n",
       "    <tr>\n",
       "      <th>2016-08-11 11:50:33</th>\n",
       "      <td>2016-08-11 11:50:33</td>\n",
       "      <td>0.0</td>\n",
       "      <td>0.000000</td>\n",
       "      <td>0.0</td>\n",
       "      <td>0.0</td>\n",
       "      <td>0.0</td>\n",
       "      <td>0.0</td>\n",
       "      <td>0.0</td>\n",
       "      <td>0.0</td>\n",
       "      <td>0.0</td>\n",
       "      <td>...</td>\n",
       "      <td>0.0</td>\n",
       "      <td>0.0</td>\n",
       "      <td>0.748783</td>\n",
       "      <td>0.0</td>\n",
       "      <td>0.0</td>\n",
       "      <td>0.0</td>\n",
       "      <td>0.0</td>\n",
       "      <td>0.000000</td>\n",
       "      <td>0.0</td>\n",
       "      <td>0.080278</td>\n",
       "    </tr>\n",
       "    <tr>\n",
       "      <th>2016-08-11 11:55:21</th>\n",
       "      <td>2016-08-11 11:55:21</td>\n",
       "      <td>0.0</td>\n",
       "      <td>0.000000</td>\n",
       "      <td>0.0</td>\n",
       "      <td>0.0</td>\n",
       "      <td>0.0</td>\n",
       "      <td>0.0</td>\n",
       "      <td>0.0</td>\n",
       "      <td>0.0</td>\n",
       "      <td>0.0</td>\n",
       "      <td>...</td>\n",
       "      <td>0.0</td>\n",
       "      <td>0.0</td>\n",
       "      <td>0.000000</td>\n",
       "      <td>0.0</td>\n",
       "      <td>0.0</td>\n",
       "      <td>0.0</td>\n",
       "      <td>0.0</td>\n",
       "      <td>0.000000</td>\n",
       "      <td>0.0</td>\n",
       "      <td>0.080000</td>\n",
       "    </tr>\n",
       "    <tr>\n",
       "      <th>2016-08-11 12:00:10</th>\n",
       "      <td>2016-08-11 12:00:10</td>\n",
       "      <td>0.0</td>\n",
       "      <td>0.000000</td>\n",
       "      <td>0.0</td>\n",
       "      <td>0.0</td>\n",
       "      <td>0.0</td>\n",
       "      <td>0.0</td>\n",
       "      <td>0.0</td>\n",
       "      <td>0.0</td>\n",
       "      <td>0.0</td>\n",
       "      <td>...</td>\n",
       "      <td>0.0</td>\n",
       "      <td>0.0</td>\n",
       "      <td>0.000000</td>\n",
       "      <td>0.0</td>\n",
       "      <td>0.0</td>\n",
       "      <td>0.0</td>\n",
       "      <td>0.0</td>\n",
       "      <td>0.929194</td>\n",
       "      <td>0.0</td>\n",
       "      <td>0.080278</td>\n",
       "    </tr>\n",
       "    <tr>\n",
       "      <th>2016-08-11 12:04:58</th>\n",
       "      <td>2016-08-11 12:04:58</td>\n",
       "      <td>0.0</td>\n",
       "      <td>0.748783</td>\n",
       "      <td>0.0</td>\n",
       "      <td>0.0</td>\n",
       "      <td>0.0</td>\n",
       "      <td>0.0</td>\n",
       "      <td>0.0</td>\n",
       "      <td>0.0</td>\n",
       "      <td>0.0</td>\n",
       "      <td>...</td>\n",
       "      <td>0.0</td>\n",
       "      <td>0.0</td>\n",
       "      <td>0.000000</td>\n",
       "      <td>0.0</td>\n",
       "      <td>0.0</td>\n",
       "      <td>0.0</td>\n",
       "      <td>0.0</td>\n",
       "      <td>0.000000</td>\n",
       "      <td>0.0</td>\n",
       "      <td>0.080000</td>\n",
       "    </tr>\n",
       "  </tbody>\n",
       "</table>\n",
       "<p>5 rows × 61 columns</p>\n",
       "</div>"
      ],
      "text/plain": [
       "                              timestamp  60601     60655  60651  60609  60625  \\\n",
       "2016-08-11 11:45:44 2016-08-11 11:45:44    0.0  0.000000    0.0    0.0    0.0   \n",
       "2016-08-11 11:50:33 2016-08-11 11:50:33    0.0  0.000000    0.0    0.0    0.0   \n",
       "2016-08-11 11:55:21 2016-08-11 11:55:21    0.0  0.000000    0.0    0.0    0.0   \n",
       "2016-08-11 12:00:10 2016-08-11 12:00:10    0.0  0.000000    0.0    0.0    0.0   \n",
       "2016-08-11 12:04:58 2016-08-11 12:04:58    0.0  0.748783    0.0    0.0    0.0   \n",
       "\n",
       "                     60624  60631  60626  60613    ...     60646  60617  \\\n",
       "2016-08-11 11:45:44    0.0    0.0    0.0    0.0    ...       0.0    0.0   \n",
       "2016-08-11 11:50:33    0.0    0.0    0.0    0.0    ...       0.0    0.0   \n",
       "2016-08-11 11:55:21    0.0    0.0    0.0    0.0    ...       0.0    0.0   \n",
       "2016-08-11 12:00:10    0.0    0.0    0.0    0.0    ...       0.0    0.0   \n",
       "2016-08-11 12:04:58    0.0    0.0    0.0    0.0    ...       0.0    0.0   \n",
       "\n",
       "                        60623  60636  60634  60659  60607     60654  60657  \\\n",
       "2016-08-11 11:45:44  0.000000    0.0    0.0    0.0    0.0  0.000000    0.0   \n",
       "2016-08-11 11:50:33  0.748783    0.0    0.0    0.0    0.0  0.000000    0.0   \n",
       "2016-08-11 11:55:21  0.000000    0.0    0.0    0.0    0.0  0.000000    0.0   \n",
       "2016-08-11 12:00:10  0.000000    0.0    0.0    0.0    0.0  0.929194    0.0   \n",
       "2016-08-11 12:04:58  0.000000    0.0    0.0    0.0    0.0  0.000000    0.0   \n",
       "\n",
       "                         diff  \n",
       "2016-08-11 11:45:44  0.080000  \n",
       "2016-08-11 11:50:33  0.080278  \n",
       "2016-08-11 11:55:21  0.080000  \n",
       "2016-08-11 12:00:10  0.080278  \n",
       "2016-08-11 12:04:58  0.080000  \n",
       "\n",
       "[5 rows x 61 columns]"
      ]
     },
     "execution_count": 23,
     "metadata": {},
     "output_type": "execute_result"
    }
   ],
   "source": [
    "merged_nexrad['diff'] = (merged_nexrad['diff'] / np.timedelta64(1, 'm')).astype(float) / 60\n",
    "merged_nexrad.head()"
   ]
  },
  {
   "cell_type": "code",
   "execution_count": 24,
   "metadata": {
    "collapsed": false
   },
   "outputs": [
    {
     "data": {
      "text/html": [
       "<div>\n",
       "<table border=\"1\" class=\"dataframe\">\n",
       "  <thead>\n",
       "    <tr style=\"text-align: right;\">\n",
       "      <th></th>\n",
       "      <th>timestamp</th>\n",
       "      <th>60666</th>\n",
       "      <th>diff</th>\n",
       "    </tr>\n",
       "  </thead>\n",
       "  <tbody>\n",
       "    <tr>\n",
       "      <th>2016-08-12 00:02:58</th>\n",
       "      <td>2016-08-12 00:02:58</td>\n",
       "      <td>0.0</td>\n",
       "      <td>0.069167</td>\n",
       "    </tr>\n",
       "    <tr>\n",
       "      <th>2016-08-12 00:07:08</th>\n",
       "      <td>2016-08-12 00:07:08</td>\n",
       "      <td>0.0</td>\n",
       "      <td>0.069444</td>\n",
       "    </tr>\n",
       "    <tr>\n",
       "      <th>2016-08-12 00:11:17</th>\n",
       "      <td>2016-08-12 00:11:17</td>\n",
       "      <td>0.0</td>\n",
       "      <td>0.069167</td>\n",
       "    </tr>\n",
       "    <tr>\n",
       "      <th>2016-08-12 00:15:26</th>\n",
       "      <td>2016-08-12 00:15:26</td>\n",
       "      <td>0.0</td>\n",
       "      <td>0.069167</td>\n",
       "    </tr>\n",
       "    <tr>\n",
       "      <th>2016-08-12 00:19:35</th>\n",
       "      <td>2016-08-12 00:19:35</td>\n",
       "      <td>0.0</td>\n",
       "      <td>0.069167</td>\n",
       "    </tr>\n",
       "  </tbody>\n",
       "</table>\n",
       "</div>"
      ],
      "text/plain": [
       "                              timestamp  60666      diff\n",
       "2016-08-12 00:02:58 2016-08-12 00:02:58    0.0  0.069167\n",
       "2016-08-12 00:07:08 2016-08-12 00:07:08    0.0  0.069444\n",
       "2016-08-12 00:11:17 2016-08-12 00:11:17    0.0  0.069167\n",
       "2016-08-12 00:15:26 2016-08-12 00:15:26    0.0  0.069167\n",
       "2016-08-12 00:19:35 2016-08-12 00:19:35    0.0  0.069167"
      ]
     },
     "execution_count": 24,
     "metadata": {},
     "output_type": "execute_result"
    }
   ],
   "source": [
    "aug_day_ohare = merged_nexrad['2016-08-12'][['timestamp','60666','diff']]\n",
    "aug_day_ohare.head()"
   ]
  },
  {
   "cell_type": "code",
   "execution_count": 25,
   "metadata": {
    "collapsed": false
   },
   "outputs": [
    {
     "data": {
      "text/html": [
       "<div>\n",
       "<table border=\"1\" class=\"dataframe\">\n",
       "  <thead>\n",
       "    <tr style=\"text-align: right;\">\n",
       "      <th></th>\n",
       "      <th>timestamp</th>\n",
       "      <th>60666</th>\n",
       "      <th>diff</th>\n",
       "    </tr>\n",
       "  </thead>\n",
       "  <tbody>\n",
       "    <tr>\n",
       "      <th>2016-08-12 00:02:58</th>\n",
       "      <td>2016-08-12 00:02:58</td>\n",
       "      <td>0.0</td>\n",
       "      <td>0.069167</td>\n",
       "    </tr>\n",
       "    <tr>\n",
       "      <th>2016-08-12 00:07:08</th>\n",
       "      <td>2016-08-12 00:07:08</td>\n",
       "      <td>0.0</td>\n",
       "      <td>0.069444</td>\n",
       "    </tr>\n",
       "    <tr>\n",
       "      <th>2016-08-12 00:11:17</th>\n",
       "      <td>2016-08-12 00:11:17</td>\n",
       "      <td>0.0</td>\n",
       "      <td>0.069167</td>\n",
       "    </tr>\n",
       "    <tr>\n",
       "      <th>2016-08-12 00:15:26</th>\n",
       "      <td>2016-08-12 00:15:26</td>\n",
       "      <td>0.0</td>\n",
       "      <td>0.069167</td>\n",
       "    </tr>\n",
       "    <tr>\n",
       "      <th>2016-08-12 00:19:35</th>\n",
       "      <td>2016-08-12 00:19:35</td>\n",
       "      <td>0.0</td>\n",
       "      <td>0.069167</td>\n",
       "    </tr>\n",
       "  </tbody>\n",
       "</table>\n",
       "</div>"
      ],
      "text/plain": [
       "                              timestamp  60666      diff\n",
       "2016-08-12 00:02:58 2016-08-12 00:02:58    0.0  0.069167\n",
       "2016-08-12 00:07:08 2016-08-12 00:07:08    0.0  0.069444\n",
       "2016-08-12 00:11:17 2016-08-12 00:11:17    0.0  0.069167\n",
       "2016-08-12 00:15:26 2016-08-12 00:15:26    0.0  0.069167\n",
       "2016-08-12 00:19:35 2016-08-12 00:19:35    0.0  0.069167"
      ]
     },
     "execution_count": 25,
     "metadata": {},
     "output_type": "execute_result"
    }
   ],
   "source": [
    "aug_day_ohare['60666'] = (aug_day_ohare['60666']*aug_day_ohare['diff'])/25.4\n",
    "aug_day_ohare.head()"
   ]
  },
  {
   "cell_type": "markdown",
   "metadata": {},
   "source": [
    "### NEXRAD at O'Hare Zip 60666"
   ]
  },
  {
   "cell_type": "code",
   "execution_count": 51,
   "metadata": {
    "collapsed": false
   },
   "outputs": [
    {
     "name": "stdout",
     "output_type": "stream",
     "text": [
      "0.956272464747\n"
     ]
    },
    {
     "data": {
      "text/plain": [
       "<matplotlib.axes._subplots.AxesSubplot at 0x916b0f0>"
      ]
     },
     "execution_count": 51,
     "metadata": {},
     "output_type": "execute_result"
    },
    {
     "data": {
      "image/png": "[encoded data removed]",
      "text/plain": [
       "<matplotlib.figure.Figure at 0x8b14518>"
      ]
     },
     "metadata": {},
     "output_type": "display_data"
    }
   ],
   "source": [
    "# Checking against Weather Underground read for O'Hare on this day\n",
    "print(aug_day_ohare['60666'].sum())\n",
    "aug_day_ohare['60666'].plot()"
   ]
  },
  {
   "cell_type": "markdown",
   "metadata": {},
   "source": [
    "### Wunderground"
   ]
  },
  {
   "cell_type": "code",
   "execution_count": 50,
   "metadata": {
    "collapsed": false
   },
   "outputs": [
    {
     "name": "stdout",
     "output_type": "stream",
     "text": [
      "0.96\n"
     ]
    },
    {
     "data": {
      "text/plain": [
       "<matplotlib.axes._subplots.AxesSubplot at 0x8b1c0f0>"
      ]
     },
     "execution_count": 50,
     "metadata": {},
     "output_type": "execute_result"
    },
    {
     "data": {
      "image/png": "[encoded data removed]",
      "text/plain": [
       "<matplotlib.figure.Figure at 0x8b077b8>"
      ]
     },
     "metadata": {},
     "output_type": "display_data"
    }
   ],
   "source": [
    "wunderground = pd.read_csv('test-aug3/aug-12.csv')\n",
    "wunderground['PrecipitationIn'] = wunderground['PrecipitationIn'].fillna(0.0)\n",
    "wunderground['TimeCDT'] = pd.to_datetime(wunderground['TimeCDT'])\n",
    "wunderground = wunderground.set_index(pd.DatetimeIndex(wunderground['TimeCDT']))\n",
    "wund_hour = wunderground['PrecipitationIn'].resample('1H').max()\n",
    "print(wund_hour.sum())\n",
    "wund_hour.plot()"
   ]
  },
  {
   "cell_type": "code",
   "execution_count": null,
   "metadata": {
    "collapsed": true
   },
   "outputs": [],
   "source": []
  }
 ],
 "metadata": {
  "kernelspec": {
   "display_name": "Python 3",
   "language": "python",
   "name": "python3"
  },
  "language_info": {
   "codemirror_mode": {
    "name": "ipython",
    "version": 3
   },
   "file_extension": ".py",
   "mimetype": "text/x-python",
   "name": "python",
   "nbconvert_exporter": "python",
   "pygments_lexer": "ipython3",
   "version": "3.5.1"
  }
 },
 "nbformat": 4,
 "nbformat_minor": 0
}
