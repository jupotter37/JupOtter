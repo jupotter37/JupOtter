{
 "cells": [
  {
   "cell_type": "markdown",
   "metadata": {},
   "source": [
    "# ForEST Demo 1\n",
    "This Notebook provide a brief demonstration of a domain-specific programming language For Expressing Spatial-Temporal computing called ForEST. In short, ForEST makes it easier to write programs for Geographic Information Science, because it is a programming language for GIScience. ForEST also strives to be a 'community‐owned innovation platform for GIScience research'  quoted from Mark Gahegan's publication entitled ['Our GIS is too small'](https://onlinelibrary.wiley.com/doi/full/10.1111/cag.12434) published in the _Canadian Geographer_ by providing a way to express the computational components that undergird GIScience."
   ]
  },
  {
   "cell_type": "markdown",
   "metadata": {},
   "source": [
    "## Let's get started\n",
    "First, we will import the ForEST programming langauge."
   ]
  },
  {
   "cell_type": "code",
   "execution_count": 2,
   "metadata": {},
   "outputs": [],
   "source": [
    "# Let's pull ForEST in using import\n",
    "from forest import *"
   ]
  },
  {
   "cell_type": "code",
   "execution_count": 3,
   "metadata": {},
   "outputs": [
    {
     "name": "stdout",
     "output_type": "stream",
     "text": [
      "10.0 10.0\n",
      "10.0 10.0\n",
      "Bob (0.000000,0.000000) [10.000000,10.000000]\n",
      "[[0. 0. 0. 0. 0. 0. 0. 0. 0. 0.]\n",
      " [0. 0. 0. 0. 0. 0. 0. 0. 0. 0.]\n",
      " [0. 0. 0. 0. 0. 0. 0. 0. 0. 0.]\n",
      " [0. 0. 0. 0. 0. 0. 0. 0. 0. 0.]\n",
      " [0. 0. 0. 0. 0. 0. 0. 0. 0. 0.]\n",
      " [0. 0. 0. 0. 0. 0. 0. 0. 0. 0.]\n",
      " [0. 0. 0. 0. 0. 0. 0. 0. 0. 0.]\n",
      " [0. 0. 0. 0. 0. 0. 0. 0. 0. 0.]\n",
      " [0. 0. 0. 0. 0. 0. 0. 0. 0. 0.]\n",
      " [0. 0. 0. 0. 0. 0. 0. 0. 0. 0.]]\n"
     ]
    }
   ],
   "source": [
    "# A choice of Engines (Multi-Processing, Tile, or the Pass (do nothing) Engine)\n",
    "Config.engine=mp_engine\n",
    "Config.engine=tile_engine\n",
    "Config.engine=pass_engine\n",
    "\n",
    "# Create two 10x10 rasters for demonstration purposes\n",
    "r1 = Raster()\n",
    "r2 = Raster()\n",
    "\n",
    "# Print out raster 1 and it's data\n",
    "print(r1)\n",
    "print(r1.data)"
   ]
  },
  {
   "cell_type": "code",
   "execution_count": 4,
   "metadata": {},
   "outputs": [
    {
     "name": "stdout",
     "output_type": "stream",
     "text": [
      "Bob (0.000000,0.000000) [10.000000,10.000000]\n",
      "[[10.  0.  0.  0.  0.  0.  0.  0.  0.  0.]\n",
      " [ 0.  0.  0.  0.  0.  0.  0.  0.  0.  0.]\n",
      " [ 0.  0.  0.  0.  0.  0.  0.  0.  0.  0.]\n",
      " [ 0.  0.  0. 20.  0.  0.  0.  0.  0.  0.]\n",
      " [ 0.  0.  0.  0.  0.  0.  0.  0.  0.  0.]\n",
      " [ 0.  0.  0.  0.  0.  0.  0.  0.  0.  0.]\n",
      " [ 0.  0.  0.  0.  0.  0.  0.  0.  0.  0.]\n",
      " [ 0.  0.  0.  0.  0.  0.  0.  0.  0.  0.]\n",
      " [ 0.  0.  0.  0.  0.  0.  0.  0.  0.  0.]\n",
      " [ 0.  0.  0.  0.  0.  0.  0.  0.  0.  0.]]\n"
     ]
    }
   ],
   "source": [
    "# Modify 2 cells in raster 1\n",
    "\n",
    "r1.data[0][0]=10\n",
    "r1.data[3][3]=20\n",
    "\n",
    "# Print out raster 1 and it's data\n",
    "print(r1)\n",
    "print(r1.data)"
   ]
  },
  {
   "cell_type": "code",
   "execution_count": 5,
   "metadata": {},
   "outputs": [
    {
     "name": "stdout",
     "output_type": "stream",
     "text": [
      "Bob (0.000000,0.000000) [10.000000,10.000000]\n",
      "[[1. 2. 3. 4. 0. 0. 0. 0. 0. 0.]\n",
      " [0. 0. 0. 0. 0. 0. 0. 0. 0. 0.]\n",
      " [0. 0. 0. 0. 0. 0. 0. 0. 0. 0.]\n",
      " [0. 0. 0. 0. 0. 0. 0. 0. 0. 0.]\n",
      " [0. 0. 0. 0. 0. 0. 0. 0. 0. 0.]\n",
      " [0. 0. 0. 0. 0. 0. 0. 0. 0. 0.]\n",
      " [0. 0. 0. 0. 0. 0. 0. 0. 0. 0.]\n",
      " [0. 0. 0. 0. 0. 0. 0. 0. 0. 0.]\n",
      " [0. 0. 0. 0. 0. 0. 0. 0. 0. 0.]\n",
      " [0. 0. 0. 0. 0. 0. 0. 0. 0. 0.]]\n"
     ]
    }
   ],
   "source": [
    "# Modify a few cells in raster 2\n",
    "\n",
    "r2.data[0][0]=1\n",
    "r2.data[0][1]=2\n",
    "r2.data[0][2]=3\n",
    "r2.data[0][3]=4\n",
    "\n",
    "# Print out raster 2 and it's data\n",
    "print(r2)\n",
    "print(r2.data)"
   ]
  },
  {
   "cell_type": "code",
   "execution_count": 6,
   "metadata": {},
   "outputs": [
    {
     "name": "stdout",
     "output_type": "stream",
     "text": [
      "PUSH Bob (0.000000,0.000000) [10.000000,10.000000]\n",
      "PUSH Bob (0.000000,0.000000) [10.000000,10.000000]\n",
      "POP\n",
      "POP\n",
      "PUSH Bob (0.000000,0.000000) [10.000000,10.000000]\n",
      "POP\n",
      "Bob (0.000000,0.000000) [10.000000,10.000000]\n",
      "[[11.  2.  3.  4.  0.  0.  0.  0.  0.  0.]\n",
      " [ 0.  0.  0.  0.  0.  0.  0.  0.  0.  0.]\n",
      " [ 0.  0.  0.  0.  0.  0.  0.  0.  0.  0.]\n",
      " [ 0.  0.  0. 20.  0.  0.  0.  0.  0.  0.]\n",
      " [ 0.  0.  0.  0.  0.  0.  0.  0.  0.  0.]\n",
      " [ 0.  0.  0.  0.  0.  0.  0.  0.  0.  0.]\n",
      " [ 0.  0.  0.  0.  0.  0.  0.  0.  0.  0.]\n",
      " [ 0.  0.  0.  0.  0.  0.  0.  0.  0.  0.]\n",
      " [ 0.  0.  0.  0.  0.  0.  0.  0.  0.  0.]\n",
      " [ 0.  0.  0.  0.  0.  0.  0.  0.  0.  0.]]\n"
     ]
    }
   ],
   "source": [
    "# Apply local sum and print out the results\n",
    "# Notice: We can do map algebra here using ForEST!\n",
    "\n",
    "ro = r1+r2\n",
    "\n",
    "# You will see some PUSH/POP messages when calling LocalSum\n",
    "# This is ForEST processing r1 and r2 using the data stack.\n",
    "\n",
    "# Print out the output\n",
    "print(ro)\n",
    "print(ro.data)"
   ]
  },
  {
   "cell_type": "code",
   "execution_count": 7,
   "metadata": {},
   "outputs": [
    {
     "name": "stdout",
     "output_type": "stream",
     "text": [
      "PUSH Bob (0.000000,0.000000) [10.000000,10.000000]\n",
      "PUSH Bob (0.000000,0.000000) [10.000000,10.000000]\n",
      "POP\n",
      "POP\n",
      "PUSH Bob (0.000000,0.000000) [10.000000,10.000000]\n",
      "POP\n",
      "Bob (0.000000,0.000000) [10.000000,10.000000]\n",
      "[[11.  2.  3.  4.  0.  0.  0.  0.  0.  0.]\n",
      " [ 0.  0.  0.  0.  0.  0.  0.  0.  0.  0.]\n",
      " [ 0.  0.  0.  0.  0.  0.  0.  0.  0.  0.]\n",
      " [ 0.  0.  0. 20.  0.  0.  0.  0.  0.  0.]\n",
      " [ 0.  0.  0.  0.  0.  0.  0.  0.  0.  0.]\n",
      " [ 0.  0.  0.  0.  0.  0.  0.  0.  0.  0.]\n",
      " [ 0.  0.  0.  0.  0.  0.  0.  0.  0.  0.]\n",
      " [ 0.  0.  0.  0.  0.  0.  0.  0.  0.  0.]\n",
      " [ 0.  0.  0.  0.  0.  0.  0.  0.  0.  0.]\n",
      " [ 0.  0.  0.  0.  0.  0.  0.  0.  0.  0.]]\n"
     ]
    }
   ],
   "source": [
    "# Try adding them and printing out the results again (hint they should be identical)\n",
    "\n",
    "o = r1+r2\n",
    "\n",
    "print(o)\n",
    "print(o.data)"
   ]
  },
  {
   "cell_type": "code",
   "execution_count": 8,
   "metadata": {},
   "outputs": [
    {
     "name": "stdout",
     "output_type": "stream",
     "text": [
      "PUSH Bob (0.000000,0.000000) [10.000000,10.000000]\n",
      "PUSH Bob (0.000000,0.000000) [10.000000,10.000000]\n",
      "POP\n",
      "POP\n",
      "PUSH Bob (0.000000,0.000000) [10.000000,10.000000]\n",
      "POP\n",
      "o2 Bob (0.000000,0.000000) [10.000000,10.000000]\n",
      "[[22.  4.  6.  8.  0.  0.  0.  0.  0.  0.]\n",
      " [ 0.  0.  0.  0.  0.  0.  0.  0.  0.  0.]\n",
      " [ 0.  0.  0.  0.  0.  0.  0.  0.  0.  0.]\n",
      " [ 0.  0.  0. 40.  0.  0.  0.  0.  0.  0.]\n",
      " [ 0.  0.  0.  0.  0.  0.  0.  0.  0.  0.]\n",
      " [ 0.  0.  0.  0.  0.  0.  0.  0.  0.  0.]\n",
      " [ 0.  0.  0.  0.  0.  0.  0.  0.  0.  0.]\n",
      " [ 0.  0.  0.  0.  0.  0.  0.  0.  0.  0.]\n",
      " [ 0.  0.  0.  0.  0.  0.  0.  0.  0.  0.]\n",
      " [ 0.  0.  0.  0.  0.  0.  0.  0.  0.  0.]]\n"
     ]
    }
   ],
   "source": [
    "# Try adding the two results together and print them out\n",
    "\n",
    "o2 = ro + o\n",
    "\n",
    "print(\"o2\",o2)\n",
    "print(o2.data)"
   ]
  },
  {
   "cell_type": "code",
   "execution_count": 9,
   "metadata": {},
   "outputs": [
    {
     "name": "stdout",
     "output_type": "stream",
     "text": [
      "PUSH Bob (0.000000,0.000000) [10.000000,10.000000]\n",
      "PUSH Bob (0.000000,0.000000) [10.000000,10.000000]\n",
      "POP\n",
      "POP\n",
      "PUSH Bob (0.000000,0.000000) [10.000000,10.000000]\n",
      "POP\n",
      "sub Bob (0.000000,0.000000) [10.000000,10.000000]\n",
      "[[0. 0. 0. 0. 0. 0. 0. 0. 0. 0.]\n",
      " [0. 0. 0. 0. 0. 0. 0. 0. 0. 0.]\n",
      " [0. 0. 0. 0. 0. 0. 0. 0. 0. 0.]\n",
      " [0. 0. 0. 0. 0. 0. 0. 0. 0. 0.]\n",
      " [0. 0. 0. 0. 0. 0. 0. 0. 0. 0.]\n",
      " [0. 0. 0. 0. 0. 0. 0. 0. 0. 0.]\n",
      " [0. 0. 0. 0. 0. 0. 0. 0. 0. 0.]\n",
      " [0. 0. 0. 0. 0. 0. 0. 0. 0. 0.]\n",
      " [0. 0. 0. 0. 0. 0. 0. 0. 0. 0.]\n",
      " [0. 0. 0. 0. 0. 0. 0. 0. 0. 0.]]\n"
     ]
    }
   ],
   "source": [
    "# Subtract the first result from the second result, see what you get.\n",
    "\n",
    "sub = ro - o\n",
    "\n",
    "print(\"sub\",sub)\n",
    "print(sub.data)"
   ]
  },
  {
   "cell_type": "code",
   "execution_count": 10,
   "metadata": {},
   "outputs": [
    {
     "name": "stdout",
     "output_type": "stream",
     "text": [
      "PUSH Bob (0.000000,0.000000) [10.000000,10.000000]\n",
      "PUSH Bob (0.000000,0.000000) [10.000000,10.000000]\n",
      "POP\n",
      "POP\n",
      "PUSH Bob (0.000000,0.000000) [10.000000,10.000000]\n",
      "POP\n",
      "div Bob (0.000000,0.000000) [10.000000,10.000000]\n",
      "[[0.5 0.5 0.5 0.5 nan nan nan nan nan nan]\n",
      " [nan nan nan nan nan nan nan nan nan nan]\n",
      " [nan nan nan nan nan nan nan nan nan nan]\n",
      " [nan nan nan 0.5 nan nan nan nan nan nan]\n",
      " [nan nan nan nan nan nan nan nan nan nan]\n",
      " [nan nan nan nan nan nan nan nan nan nan]\n",
      " [nan nan nan nan nan nan nan nan nan nan]\n",
      " [nan nan nan nan nan nan nan nan nan nan]\n",
      " [nan nan nan nan nan nan nan nan nan nan]\n",
      " [nan nan nan nan nan nan nan nan nan nan]]\n"
     ]
    },
    {
     "name": "stderr",
     "output_type": "stream",
     "text": [
      "/home/shook/Github/Forest/forest/primitives/PrimitivesRaster.py:66: RuntimeWarning: invalid value encountered in true_divide\n",
      "  return np.divide(l,r)\n"
     ]
    }
   ],
   "source": [
    "# Now let's try to divide them.\n",
    "# Notice we should get some not-a-number (nan) results and a warning.\n",
    "# This is due to the fact that o2 has some zeros.\n",
    "\n",
    "div = ro / o2\n",
    "\n",
    "print(\"div\",div)\n",
    "print(div.data)"
   ]
  },
  {
   "cell_type": "code",
   "execution_count": 11,
   "metadata": {},
   "outputs": [
    {
     "name": "stdout",
     "output_type": "stream",
     "text": [
      "PUSH Bob (0.000000,0.000000) [10.000000,10.000000]\n",
      "PUSH Bob (0.000000,0.000000) [10.000000,10.000000]\n",
      "POP\n",
      "POP\n",
      "PUSH Bob (0.000000,0.000000) [10.000000,10.000000]\n",
      "POP\n",
      "mul Bob (0.000000,0.000000) [10.000000,10.000000]\n",
      "[[121.   4.   9.  16.   0.   0.   0.   0.   0.   0.]\n",
      " [  0.   0.   0.   0.   0.   0.   0.   0.   0.   0.]\n",
      " [  0.   0.   0.   0.   0.   0.   0.   0.   0.   0.]\n",
      " [  0.   0.   0. 400.   0.   0.   0.   0.   0.   0.]\n",
      " [  0.   0.   0.   0.   0.   0.   0.   0.   0.   0.]\n",
      " [  0.   0.   0.   0.   0.   0.   0.   0.   0.   0.]\n",
      " [  0.   0.   0.   0.   0.   0.   0.   0.   0.   0.]\n",
      " [  0.   0.   0.   0.   0.   0.   0.   0.   0.   0.]\n",
      " [  0.   0.   0.   0.   0.   0.   0.   0.   0.   0.]\n",
      " [  0.   0.   0.   0.   0.   0.   0.   0.   0.   0.]]\n"
     ]
    }
   ],
   "source": [
    "# What about multiply? Yay it works too!\n",
    "\n",
    "mul = ro * o\n",
    "\n",
    "print(\"mul\",mul)\n",
    "print(mul.data)"
   ]
  }
 ],
 "metadata": {
  "kernelspec": {
   "display_name": "Python 3",
   "language": "python",
   "name": "python3"
  },
  "language_info": {
   "codemirror_mode": {
    "name": "ipython",
    "version": 3
   },
   "file_extension": ".py",
   "mimetype": "text/x-python",
   "name": "python",
   "nbconvert_exporter": "python",
   "pygments_lexer": "ipython3",
   "version": "3.5.2"
  }
 },
 "nbformat": 4,
 "nbformat_minor": 2
}
