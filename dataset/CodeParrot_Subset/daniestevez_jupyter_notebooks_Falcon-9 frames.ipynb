{
 "cells": [
  {
   "cell_type": "code",
   "execution_count": 1,
   "metadata": {},
   "outputs": [],
   "source": [
    "%matplotlib inline\n",
    "import numpy as np\n",
    "import matplotlib.pyplot as plt\n",
    "\n",
    "import collections\n",
    "\n",
    "plt.rcParams['figure.figsize'] = (12,6)\n",
    "plt.rcParams['figure.facecolor'] = 'w'"
   ]
  },
  {
   "cell_type": "markdown",
   "metadata": {},
   "source": [
    "This notebook shows an analysis of the Falcon-9 upper stage S-band telemetry frames. It is based on [r00t.cz's analysis](https://www.r00t.cz/Sats/Falcon9).\n",
    "\n",
    "The frames are CCSDS Reed-Solomon frames with an interleaving depth of 5, a (255,239) code, and an (uncoded) frame size of 1195 bytes."
   ]
  },
  {
   "cell_type": "code",
   "execution_count": 2,
   "metadata": {},
   "outputs": [],
   "source": [
    "x = np.fromfile('falcon9_frames_20210324_084608.u8', dtype = 'uint8')\n",
    "x = x.reshape((-1, 1195))"
   ]
  },
  {
   "cell_type": "markdown",
   "metadata": {},
   "source": [
    "The first byte of all the frames is `0xe0`. Here we see that one of the frames has an error in this byte."
   ]
  },
  {
   "cell_type": "code",
   "execution_count": 3,
   "metadata": {},
   "outputs": [
    {
     "data": {
      "text/plain": [
       "Counter({224: 11132, 124: 1})"
      ]
     },
     "execution_count": 3,
     "metadata": {},
     "output_type": "execute_result"
    }
   ],
   "source": [
    "collections.Counter(x[:,0])"
   ]
  },
  {
   "cell_type": "markdown",
   "metadata": {},
   "source": [
    "The next three bytes form a header composed of a 13 bit frame counter and an 11 bit field that indicates where the first packet inside the payload starts (akin to a first header pointer in CCSDS protocols)."
   ]
  },
  {
   "cell_type": "code",
   "execution_count": 4,
   "metadata": {},
   "outputs": [],
   "source": [
    "header = np.unpackbits(x[:,1:4], axis = 1)\n",
    "counter = header[:,:13]\n",
    "counter = np.concatenate((np.zeros((x.shape[0], 3), dtype = 'uint8'), counter), axis = 1)\n",
    "counter = np.packbits(counter, axis = 1)\n",
    "counter = counter.ravel().view('uint16').byteswap()\n",
    "start_offset = header[:,-11:]\n",
    "start_offset = np.concatenate((np.zeros((x.shape[0], 5), dtype = 'uint8'), start_offset), axis = 1)\n",
    "start_offset = np.packbits(start_offset, axis = 1)\n",
    "start_offset = start_offset.ravel().view('uint16').byteswap()"
   ]
  },
  {
   "cell_type": "code",
   "execution_count": 5,
   "metadata": {},
   "outputs": [
    {
     "data": {
      "image/png": "[encoded data removed]",
      "text/plain": [
       "<Figure size 864x432 with 1 Axes>"
      ]
     },
     "metadata": {},
     "output_type": "display_data"
    }
   ],
   "source": [
    "plt.plot(counter, '.')\n",
    "plt.title('Falcon-9 frame counter')\n",
    "plt.ylabel('13-bit frame counter')\n",
    "plt.xlabel('Decoded frame');"
   ]
  },
  {
   "cell_type": "markdown",
   "metadata": {},
   "source": [
    "Valid packets contain a 2 byte header where the 4 MSBs are set to 1 and the remaining 12 bits indicate the size of the packet payload in bytes (so the total packet size is this value plus 2). Using this header, the packets can be defragmented in the same way as CCSDS Space Packets transmitted using the M_PDU protocol."
   ]
  },
  {
   "cell_type": "code",
   "execution_count": 6,
   "metadata": {},
   "outputs": [],
   "source": [
    "def packet_len(packet):\n",
    "    packet = np.frombuffer(packet[:2], dtype = 'uint8')\n",
    "    return (packet.view('uint16').byteswap()[0] & 0xfff) + 2\n",
    "\n",
    "def valid_packet(packet):\n",
    "    return packet[0] >> 4 == 0xf\n",
    "\n",
    "def defrag(x, counter, start_offset):\n",
    "    packet = bytearray()\n",
    "    frame_count = None\n",
    "    \n",
    "    for frame, count, first in zip(x, counter, start_offset):\n",
    "        frame = frame[4:]\n",
    "        if frame_count is not None \\\n",
    "          and count != ((frame_count + 1) % 2**13):\n",
    "            # broken stream\n",
    "            packet = bytearray()\n",
    "        frame_count = count\n",
    "\n",
    "        if first == 0x7fe:\n",
    "            # only idle\n",
    "            continue\n",
    "        elif first == 0x7ff:\n",
    "            # no packet starts\n",
    "            if packet:\n",
    "                packet.extend(frame)\n",
    "            continue\n",
    "        \n",
    "        if packet:\n",
    "            packet.extend(frame[:first])\n",
    "            packet = bytes(packet)\n",
    "            yield packet, frame_count\n",
    "\n",
    "        while True:\n",
    "            packet = bytearray(frame[first:][:2])\n",
    "            if len(packet) < 2:\n",
    "                # not full header inside frame\n",
    "                break\n",
    "            first += 2\n",
    "            if not valid_packet(packet):\n",
    "                # padding found\n",
    "                packet = bytearray()\n",
    "                break\n",
    "            length = packet_len(packet) - 2\n",
    "            packet.extend(frame[first:][:length])\n",
    "            first += length\n",
    "            if first > len(frame):\n",
    "                # packet does not end in this frame\n",
    "                break\n",
    "            packet = bytes(packet)\n",
    "            yield packet, frame_count\n",
    "            packet = bytearray()\n",
    "            if first == len(frame):\n",
    "                # packet just ends in this frame\n",
    "                break\n"
   ]
  },
  {
   "cell_type": "code",
   "execution_count": 7,
   "metadata": {},
   "outputs": [],
   "source": [
    "packets = list(defrag(x, counter, start_offset))"
   ]
  },
  {
   "cell_type": "markdown",
   "metadata": {},
   "source": [
    "Only ~76% of the frames payload contains packets. The rest is padding."
   ]
  },
  {
   "cell_type": "code",
   "execution_count": 8,
   "metadata": {},
   "outputs": [
    {
     "data": {
      "text/plain": [
       "0.7581248567526004"
      ]
     },
     "execution_count": 8,
     "metadata": {},
     "output_type": "execute_result"
    }
   ],
   "source": [
    "sum([len(p[0]) for p in packets])/x[:,4:].size"
   ]
  },
  {
   "cell_type": "markdown",
   "metadata": {},
   "source": [
    "After the 2 byte header, the next 8 bytes of the packet can be used to identify its source or type."
   ]
  },
  {
   "cell_type": "code",
   "execution_count": 9,
   "metadata": {},
   "outputs": [
    {
     "data": {
      "text/plain": [
       "Counter({'0012420100110C09': 2260,\n",
       "         '0112520107DC0504': 357,\n",
       "         '0012620100640C08': 1603,\n",
       "         '0012420100640C08': 1600,\n",
       "         '00122201000D0C09': 5668,\n",
       "         '00124201000D0C09': 5656,\n",
       "         '00126201000D0C09': 5673,\n",
       "         '0012620100110C09': 2246,\n",
       "         '01123201042E1403': 2996,\n",
       "         '00126201006A0C08': 800,\n",
       "         '0112520107DB0504': 364,\n",
       "         '0012620100690C08': 328,\n",
       "         '0012220100110C09': 2272,\n",
       "         '0112320107D80504': 1111,\n",
       "         '0112520107D50504': 2612,\n",
       "         '00124D0100650108': 310,\n",
       "         '0012220100150C09': 215,\n",
       "         '0012620100150C09': 213,\n",
       "         '0112320107DD0504': 370,\n",
       "         '0112520107E00504': 183,\n",
       "         '0112520107E10504': 184,\n",
       "         '0012420100150C09': 206,\n",
       "         '0112520107E40504': 125,\n",
       "         '0017FE08D0440108': 148,\n",
       "         '0017FE08D0480108': 162,\n",
       "         '0017FE08D0420108': 163,\n",
       "         '0012620100650C08': 31,\n",
       "         '0012620103EE0C08': 31,\n",
       "         '0012420100650C08': 31,\n",
       "         '0117FE0800320303': 64,\n",
       "         '00124201001D0C09': 20,\n",
       "         '00126201001D0C09': 19,\n",
       "         '00122201001D0C09': 21,\n",
       "         '0017FE08D0470108': 1,\n",
       "         '00127201010D0C08': 6,\n",
       "         '0017FE08D0490108': 18})"
      ]
     },
     "execution_count": 9,
     "metadata": {},
     "output_type": "execute_result"
    }
   ],
   "source": [
    "source_ids = [p[0][2:10].hex().upper() for p in packets]\n",
    "collections.Counter(source_ids)"
   ]
  },
  {
   "cell_type": "markdown",
   "metadata": {},
   "source": [
    "Some packets have 64-bit timestamps starting 3 bytes after the packet source ID. These give nanoseconds since the GPS epoch."
   ]
  },
  {
   "cell_type": "code",
   "execution_count": 10,
   "metadata": {},
   "outputs": [],
   "source": [
    "timestamps = np.datetime64('1980-01-06') + \\\n",
    "    np.array([np.frombuffer(p[0][13:][:8], dtype = 'uint64').byteswap()[0] for p in packets]) \\\n",
    "        * np.timedelta64(1, 'ns')\n",
    "timestamps_valid = (timestamps >= np.datetime64('2021-01-01')) & (timestamps <= np.datetime64('2022-01-01'))"
   ]
  },
  {
   "cell_type": "code",
   "execution_count": 11,
   "metadata": {},
   "outputs": [
    {
     "data": {
      "image/png": "[encoded data removed]",
      "text/plain": [
       "<Figure size 864x432 with 1 Axes>"
      ]
     },
     "metadata": {},
     "output_type": "display_data"
    }
   ],
   "source": [
    "plt.plot(timestamps[timestamps_valid],\n",
    "         np.array([p[1] for p in packets])[timestamps_valid], '.')\n",
    "plt.title('Falcon-9 packet timestamps')\n",
    "plt.xlabel('Timestamp (GPS time)')\n",
    "plt.ylabel('Frame counter');"
   ]
  },
  {
   "cell_type": "markdown",
   "metadata": {},
   "source": [
    "### Video packets"
   ]
  },
  {
   "cell_type": "markdown",
   "metadata": {},
   "source": [
    "Video packets are stored in a particular source ID. If we remove the first 25 and last 2 bytes of these packets, we obtain 5 188-byte transport stream packets."
   ]
  },
  {
   "cell_type": "code",
   "execution_count": 12,
   "metadata": {},
   "outputs": [],
   "source": [
    "video_source = '01123201042E1403'\n",
    "video_packets = [p for p,s in zip(packets, source_ids)\n",
    "                if s == video_source]\n",
    "video_ts = bytes().join([p[0][25:-2] for p in video_packets])"
   ]
  },
  {
   "cell_type": "markdown",
   "metadata": {},
   "source": [
    "Only around 28% of the transmitted data is the transport stream video."
   ]
  },
  {
   "cell_type": "code",
   "execution_count": 13,
   "metadata": {},
   "outputs": [
    {
     "data": {
      "text/plain": [
       "0.2801592434275875"
      ]
     },
     "execution_count": 13,
     "metadata": {},
     "output_type": "execute_result"
    }
   ],
   "source": [
    "len(video_ts)/sum([len(p[0]) for p in packets])"
   ]
  },
  {
   "cell_type": "code",
   "execution_count": 14,
   "metadata": {},
   "outputs": [],
   "source": [
    "with open('/tmp/falcon9.ts', 'wb') as f:\n",
    "    f.write(video_ts)"
   ]
  },
  {
   "cell_type": "code",
   "execution_count": 15,
   "metadata": {},
   "outputs": [],
   "source": [
    "ts = np.frombuffer(video_ts, dtype = 'uint8').reshape((-1,188))"
   ]
  },
  {
   "cell_type": "code",
   "execution_count": 16,
   "metadata": {},
   "outputs": [
    {
     "data": {
      "text/plain": [
       "array([71], dtype=uint8)"
      ]
     },
     "execution_count": 16,
     "metadata": {},
     "output_type": "execute_result"
    }
   ],
   "source": [
    "# sync byte 71 = 0x47\n",
    "np.unique(ts[:,0])"
   ]
  },
  {
   "cell_type": "code",
   "execution_count": 17,
   "metadata": {},
   "outputs": [
    {
     "data": {
      "text/plain": [
       "array([0], dtype=uint8)"
      ]
     },
     "execution_count": 17,
     "metadata": {},
     "output_type": "execute_result"
    }
   ],
   "source": [
    "# TEI = 0\n",
    "np.unique(ts[:,1] >> 7)"
   ]
  },
  {
   "cell_type": "code",
   "execution_count": 18,
   "metadata": {},
   "outputs": [
    {
     "data": {
      "text/plain": [
       "array([0], dtype=uint8)"
      ]
     },
     "execution_count": 18,
     "metadata": {},
     "output_type": "execute_result"
    }
   ],
   "source": [
    "pusi = (ts[:,1] >> 6) & 1\n",
    "# priority = 0\n",
    "np.unique((ts[:,1] >> 5) & 1)"
   ]
  },
  {
   "cell_type": "code",
   "execution_count": 19,
   "metadata": {},
   "outputs": [
    {
     "data": {
      "text/plain": [
       "array([   0,   32,  511, 2748, 4112, 8191], dtype=uint16)"
      ]
     },
     "execution_count": 19,
     "metadata": {},
     "output_type": "execute_result"
    }
   ],
   "source": [
    "pid = ts[:,1:3].ravel().view('uint16').byteswap() & 0x1fff\n",
    "np.unique(pid)"
   ]
  },
  {
   "cell_type": "code",
   "execution_count": 20,
   "metadata": {},
   "outputs": [
    {
     "name": "stdout",
     "output_type": "stream",
     "text": [
      "PID 0 ratio 0.4%\n",
      "PID 32 ratio 0.4%\n",
      "PID 511 ratio 6.5%\n",
      "PID 2748 ratio 11.8%\n",
      "PID 4112 ratio 79.4%\n",
      "PID 8191 ratio 1.4%\n"
     ]
    }
   ],
   "source": [
    "for p in np.unique(pid):\n",
    "    print(f'PID {p} ratio {np.average(pid == p) * 100:.1f}%')"
   ]
  },
  {
   "cell_type": "code",
   "execution_count": 21,
   "metadata": {},
   "outputs": [
    {
     "data": {
      "text/plain": [
       "array([0], dtype=uint8)"
      ]
     },
     "execution_count": 21,
     "metadata": {},
     "output_type": "execute_result"
    }
   ],
   "source": [
    "# TSC = 0\n",
    "np.unique(ts[:,3] >> 6)"
   ]
  },
  {
   "cell_type": "code",
   "execution_count": 22,
   "metadata": {},
   "outputs": [
    {
     "data": {
      "text/plain": [
       "array([1, 2, 3], dtype=uint8)"
      ]
     },
     "execution_count": 22,
     "metadata": {},
     "output_type": "execute_result"
    }
   ],
   "source": [
    "adaptation = (ts[:,3] >> 4) & 0x3\n",
    "np.unique(adaptation)"
   ]
  },
  {
   "cell_type": "code",
   "execution_count": 23,
   "metadata": {},
   "outputs": [],
   "source": [
    "continuity = ts[:,3] & 0xf"
   ]
  },
  {
   "cell_type": "code",
   "execution_count": 24,
   "metadata": {},
   "outputs": [
    {
     "name": "stdout",
     "output_type": "stream",
     "text": [
      "PID 0 PUSI values [1] adaptation field values [1]\n",
      "PID 32 PUSI values [1] adaptation field values [1]\n",
      "PID 511 PUSI values [0] adaptation field values [2]\n",
      "PID 2748 PUSI values [1] adaptation field values [3]\n",
      "PID 4112 PUSI values [0 1] adaptation field values [1 3]\n",
      "PID 8191 PUSI values [0] adaptation field values [1]\n"
     ]
    }
   ],
   "source": [
    "for p in np.unique(pid):\n",
    "    print('PID', p, 'PUSI values', np.unique(pusi[pid == p]),\n",
    "          'adaptation field values', np.unique(adaptation[pid == p]))"
   ]
  },
  {
   "cell_type": "code",
   "execution_count": 25,
   "metadata": {},
   "outputs": [],
   "source": [
    "pcr_pid = ts[pid == 511]\n",
    "pcr = np.concatenate((np.zeros((pcr_pid.shape[0], 2), dtype = 'uint8'), pcr_pid[:,6:12]), axis = 1)\n",
    "pcr = pcr.view('uint64').byteswap().ravel()\n",
    "pcr_base = pcr >> 15\n",
    "pcr_extension = pcr & 0x1ff\n",
    "pcr_value = (pcr_base * 300 + pcr_extension) / 27e6"
   ]
  },
  {
   "cell_type": "code",
   "execution_count": 26,
   "metadata": {},
   "outputs": [],
   "source": [
    "video_timestamps = timestamps[[s == video_source for s in source_ids]]\n",
    "ts_timestamps = np.repeat(video_timestamps, 5)\n",
    "pcr_pid_timestamps = ts_timestamps[pid == 511]"
   ]
  },
  {
   "cell_type": "code",
   "execution_count": 27,
   "metadata": {},
   "outputs": [
    {
     "data": {
      "image/png": "[encoded data removed]",
      "text/plain": [
       "<Figure size 864x432 with 1 Axes>"
      ]
     },
     "metadata": {},
     "output_type": "display_data"
    }
   ],
   "source": [
    "plt.plot(pcr_pid_timestamps, pcr_value, '.')\n",
    "plt.title('Falcon-9 PCR timestamps')\n",
    "plt.ylabel('PID 511 PCR (s)')\n",
    "plt.xlabel('Packet timestamp (GPS time)');"
   ]
  },
  {
   "cell_type": "markdown",
   "metadata": {},
   "source": [
    "### GPS log"
   ]
  },
  {
   "cell_type": "code",
   "execution_count": 28,
   "metadata": {},
   "outputs": [],
   "source": [
    "gps_source = '0117FE0800320303'\n",
    "gps_packets = [p for p,s in zip(packets, source_ids)\n",
    "                if s == gps_source]"
   ]
  },
  {
   "cell_type": "code",
   "execution_count": 29,
   "metadata": {
    "scrolled": false
   },
   "outputs": [
    {
     "name": "stdout",
     "output_type": "stream",
     "text": [
      "1300610994400436905> 23 PLL stress\n",
      "1300611017022690372> Track: [21s 10s 32e 23s 25e 01c 20s  .  .  .  .  .  .  .  .  . | 01s 28s 19s  .611017204400061> Running hot start for sid:5 TOW_ms 291017118!\n",
      "1300611017204597275> Tracking! PRN:5\n",
      "1300611026057717790> 1 PLL stress\n",
      "1300611031677221262> 23 PLL stress\n",
      "1300611032023066595> Track: [21c 10s 32e 23s 25e 01c 20s  .  .  .  .  .  .  .  .  . | 01s 28s 19s  . 17s  . 23c 13s 24s 12s 05e 15s 21s  . 14s  . ]\n",
      "1300611032023330905>    dB: [34  42  41  40  38  33  38   .  .  .  .  .  .  .  .  . | 38  44  48   . 48   . 26  48  45  39  36  46  35   . 41   . ]\n",
      "1300611032215555222> solution x/y/z: 4134817.9 257063.8 5103019.7 PDOP=1.7 n_sats=12\n",
      "1300611032215837521> solution tow:291031.8257235776, wn:2150\n",
      "1300611034525282910> 23 PLL stress\n",
      "1300611039022514132> 23 low CN0 too long, dropping (@ 103712228202000000.000)\n",
      "1300611040045135624> Tracking! PRN:6\n",
      "1300611040049727411> Found 6 over 120.0 kHz in 351 ms, CN0:37.2 dB\n",
      "1300611042023334560> Track: [21c 10s 32e 23s 25e 01c 20s 06f  .  .  .  .  .  .  .  . | 01s 28s 19s  . 17s  .  . 13s 24s 12s 05e 15s 21s  . 14s  . ]\n",
      "1300611042023788264>    dB: [37  42  42  38  39  32 611042415694256> solution x/y/z: 4148881.9 330812.5 5088143.2 PDOP=1.7 n_sats=13\n",
      "13006110424158396681300611047022176101> SPI Usage: 31%\n",
      "1300611047023339673> Track: [21c 10s 32e 23s 25e 01c 20s  .  .  .  .  .  .  .  .  . | 01s 28s 19s  . 17s  .  . 13s 24s 12s 05e 15s 21s  . 14s  . ]\n",
      "1300611047023633682>    dB: [37  40  41  39  42  31  37   .  .  .  .  .  .  .  .  . | 38  43  46   . 49   .  . 51  46  36  39  48  38   . 41   . ]\n",
      "1300611048072040182> Tracking! PRN:16\n",
      "1300611048075843614> Found 16 over 120.0 kHz in 349 ms, CN0:37.0 dB\n",
      "1300611049047563556> 1 PLL stress\n",
      "1300611049267786224> New ephemeris(valid: 1) for GPS L1CA 24, fi:14400\n",
      "1300611049269743486> New ephemeris(valid: 1) for GPS L1CA 15, fi:14400\n",
      "1300611049274042188> New ephemeris(valid: 1) for GPS L1CA 13, fi:14400\n",
      "1300611049275736844> New ephemeris(valid: 1) for GPS L1CA 23, fi:14400\n",
      "1300611049276025096> New ephemeris(valid: 1) for GPS L1CA 19, fi:14400\n",
      "1300611049276089286> New ephemeris(valid: 1) 1300611055288333542> GPS L1CA 21 Nav phase flip - half cycle slip detected, but not corrected\n",
      "1300611056047443389> Tracking! PRN:30\n",
      "1300611056051622393> Found 30 over 120.0 kHz in 351 ms, CN0:37.4 dB\n",
      "1300611057023867233> Track: [21s 10s 32e 23s 25e 01c 20s  .  .  .  .  .  .  .  .  . | 01s 28s 19s 30f 17s  .  . 13s 24s 12s 05e 15s 21c  . 14s  . ]\n",
      "1300611057024141399>    dB: [36  41  44  41  41  21  38   .  .  .  .  .  .  .  .  . | 40  43  48  41  51   .  . 47  46  38  39  46  31   . 42   . ]\n",
      "1300611057025518321> 1 PLL stress\n",
      "1300611057587603019> 30 synced @ 1536 ms, 37.9 dBHz, 34804 Hz, -0.10 code err\n",
      "1300611062023354576> Track: [21s 10s 32e 23s 25e 01c 20s  .  .  .  .  .  .  .  .  . | 01s 28s 19s 30e 17s  .  . 13s 24s 12s 05e 15s 21c  . 14s  . ]\n",
      "1300611062023648177>    dB: [38  39  41  38  36  24  36   .  .  .  .  .  .  .  .  . | 38  46  47  43  46   .  . 50  43  38  37  43  37   . 44   . ]\n",
      "1300611062815688897> solution x/y/z: 4175538.8 478094.6 5056175.4 PDOP=1.7 n_sats=12\n",
      "1300611062815772957> solution tow:291062.4256663217, wn:2150\n",
      "1300611072022586022> Track: [21c 10s 32e 23s 25e 01c 20s  .  .  .  .  .  .  .  .  . | 01s 28s 19s 30e 17s  .  . 13s 24s 12s 05e 15s 21s  . 14s  . ]\n",
      "1300611072022789733>    dB: [33  38  41  40  37  21  40   .  .  .  .  .  .  .  .  . | 40  44  47  42  47   .  . 50  41  41  35  45  34   . 46   . ]\n",
      "1300611073015721896> solution x/y/z: 4188124.5 551606.8 5039080.0 PDOP=1.7 n_sats=12\n",
      "1300611073015803844> solution tow:291072.6256922208, wn:2150\n",
      "1300611073287751158> GPS L1CA 21 subframe parity mismatch (word 5)\n",
      "1300611073821442473> 1 PLL stress\n",
      "meris(valid: 1) for GPS L1CA 15, fi:14400\n",
      "1300611079273785243> New ephemeris(valid: 1) for GPS L1CA 13, fi:14400\n",
      "1300611079274795263> New ephemeris(valid: 1) for GPS L1CA 19, fi:14400\n",
      "1300611079274864959> New ephemeris(valid: 1) for GPS L1CA 17, fi:14400\n",
      "1300611079276795298> New ephemeris(valid: 1) for GPS L1CA 23, fi:14400\n",
      "1300611079276872325> New ephemeris(valid: 1) for GPS L1CA 12, fi:14400\n",
      "1300611079277785924> New ephemeris(valid: 1) for GPS L1CA 20, fi:14400\n",
      "1300611079277853753> New ephemeris(valid: 1) for GPS L1CA 28, fi:14400\n",
      "1300611079278801714> New ephemeris(valid: 1) for GPS L1CA 14, fi:14400\n",
      "1300611079279789312> New ephemeris(valid: 1) for GPS L1CA 10, fi:14400\n",
      "1300611079283793374> New ephemeris(valid: 1) for GPS L1CA 1, fi:14400\n",
      "1300611079287783689> New ephemeris(valid: 1) for GPS L1CA 30, fi:14400\n",
      "1300611079289747977> New ephemeris(valid: 1) for GPS L1CA 32, fi:14400\n",
      "1300611079289848356> New ephemeris(valid: 1) for GPS L1CA 25, fi:14400\n",
      "1300611079290749987> New ephemeris(valid: 1) for GPS L1CA 5, fi:14400\n",
      "1300611080459645540> Tracking! PRN:4\n",
      "1300611080463966765> Found 4 over 120.0 kHz in 386 ms, CN0:37.1 dB\n",
      "1300611082024723680> Track: [21c 10s 32e 23s 25e 01c 20s 04f  .  .  .  .  .  .  .  . | 01s 28s 19s 30e 17s  .  . 13s 24s 12s 05e 15s 21s  . 14s  . ]\n",
      "1300611082024928640>    dB: [33  37  41  44  40  291300611107022157462> SPI Usage: 31%\n",
      "1300611107023191559> Track: [21c 10s 32e 23s 25e 01c 20s  .  .  .  .  .  .  .  .  . | 01s 28s 19s 30\n"
     ]
    }
   ],
   "source": [
    "gps_log = ''.join([str(g[0][25:-2], encoding = 'ascii') for g in gps_packets])\n",
    "with open('/tmp/gps.txt', 'w') as f:\n",
    "    f.write(gps_log)\n",
    "print(gps_log)"
   ]
  }
 ],
 "metadata": {
  "kernelspec": {
   "display_name": "Python 3",
   "language": "python",
   "name": "python3"
  },
  "language_info": {
   "codemirror_mode": {
    "name": "ipython",
    "version": 3
   },
   "file_extension": ".py",
   "mimetype": "text/x-python",
   "name": "python",
   "nbconvert_exporter": "python",
   "pygments_lexer": "ipython3",
   "version": "3.7.9"
  }
 },
 "nbformat": 4,
 "nbformat_minor": 4
}
