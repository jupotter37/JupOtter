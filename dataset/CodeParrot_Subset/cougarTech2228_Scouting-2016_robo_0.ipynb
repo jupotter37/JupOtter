{
 "cells": [
  {
   "cell_type": "code",
   "execution_count": 39,
   "metadata": {
    "collapsed": false
   },
   "outputs": [],
   "source": [
    "class Robot(object):\n",
    "    \n",
    "    def __init__(self, points):\n",
    "        self.points = points\n",
    "    def points_per_sec(self):\n",
    "        return self.points / 150\n",
    "\n",
    "my_bot = Robot(300)\n",
    "his_robot = Robot(5550)\n",
    "\n",
    "points_over_time2 = his_robot.points_per_sec()\n",
    "points_over_time = my_bot.points_per_sec()"
   ]
  },
  {
   "cell_type": "code",
   "execution_count": 40,
   "metadata": {
    "collapsed": false
   },
   "outputs": [
    {
     "name": "stdout",
     "output_type": "stream",
     "text": [
      "2\n",
      "37\n"
     ]
    }
   ],
   "source": [
    "print points_over_time\n",
    "print points_over_time2"
   ]
  }
 ],
 "metadata": {
  "kernelspec": {
   "display_name": "Python 2",
   "language": "python",
   "name": "python2"
  },
  "language_info": {
   "codemirror_mode": {
    "name": "ipython",
    "version": 2
   },
   "file_extension": ".py",
   "mimetype": "text/x-python",
   "name": "python",
   "nbconvert_exporter": "python",
   "pygments_lexer": "ipython2",
   "version": "2.7.11"
  }
 },
 "nbformat": 4,
 "nbformat_minor": 0
}
