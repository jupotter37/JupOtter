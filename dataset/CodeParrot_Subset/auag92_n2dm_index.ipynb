{
 "cells": [
  {
   "cell_type": "code",
   "execution_count": 1,
   "metadata": {
    "collapsed": false
   },
   "outputs": [
    {
     "name": "stdout",
     "output_type": "stream",
     "text": [
      "Hello, World!\n"
     ]
    }
   ],
   "source": [
    "print(\"Hello, World!\")"
   ]
  },
  {
   "cell_type": "markdown",
   "metadata": {},
   "source": [
    "### Importing Relevant Modules"
   ]
  },
  {
   "cell_type": "code",
   "execution_count": 2,
   "metadata": {
    "collapsed": true
   },
   "outputs": [],
   "source": [
    "import scipy"
   ]
  },
  {
   "cell_type": "code",
   "execution_count": 3,
   "metadata": {
    "collapsed": true
   },
   "outputs": [],
   "source": [
    "import matplotlib"
   ]
  },
  {
   "cell_type": "code",
   "execution_count": 4,
   "metadata": {
    "collapsed": true
   },
   "outputs": [],
   "source": [
    "import pandas"
   ]
  },
  {
   "cell_type": "code",
   "execution_count": 5,
   "metadata": {
    "collapsed": true
   },
   "outputs": [],
   "source": [
    "import numpy"
   ]
  },
  {
   "cell_type": "code",
   "execution_count": 6,
   "metadata": {
    "collapsed": false
   },
   "outputs": [
    {
     "data": {
      "text/plain": [
       "'/home/main/notebooks'"
      ]
     },
     "execution_count": 6,
     "metadata": {},
     "output_type": "execute_result"
    }
   ],
   "source": [
    "import os\n",
    "os.getcwd()"
   ]
  },
  {
   "cell_type": "code",
   "execution_count": 7,
   "metadata": {
    "collapsed": false
   },
   "outputs": [
    {
     "name": "stdout",
     "output_type": "stream",
     "text": [
      "['', '/home/main/anaconda2/lib/python27.zip', '/home/main/anaconda2/lib/python2.7', '/home/main/anaconda2/lib/python2.7/plat-linux2', '/home/main/anaconda2/lib/python2.7/lib-tk', '/home/main/anaconda2/lib/python2.7/lib-old', '/home/main/anaconda2/lib/python2.7/lib-dynload', '/home/main/anaconda2/lib/python2.7/site-packages/Sphinx-1.3.5-py2.7.egg', '/home/main/anaconda2/lib/python2.7/site-packages/setuptools-20.3-py2.7.egg', '/home/main/anaconda2/lib/python2.7/site-packages', '/home/main/anaconda2/lib/python2.7/site-packages/IPython/extensions', '/home/main/.ipython', '/home/main/notebooks/Asap-3.8.4/Python/']\n"
     ]
    }
   ],
   "source": [
    "import sys\n",
    "sys.path.append(\"/home/main/notebooks/Asap-3.8.4/Python/\")\n",
    "print sys.path"
   ]
  },
  {
   "cell_type": "code",
   "execution_count": 8,
   "metadata": {
    "collapsed": true
   },
   "outputs": [],
   "source": [
    "os.chdir(\"/home/main/notebooks/Asap-3.8.4/\")"
   ]
  },
  {
   "cell_type": "code",
   "execution_count": 9,
   "metadata": {
    "collapsed": false
   },
   "outputs": [
    {
     "data": {
      "text/plain": [
       "['OpenKIMimport',\n",
       " 'Depend',\n",
       " 'campos-asap.spec',\n",
       " 'makefile-UbuntuVBox',\n",
       " 'scripts',\n",
       " 'setup-filelist.txt',\n",
       " 'gentoo-setup.sh',\n",
       " 'Projects',\n",
       " 'makefile-niflheim6',\n",
       " 'INSTALLATION',\n",
       " 'makefile-dl160g6-el6',\n",
       " 'asapmpiinfo-input.py',\n",
       " 'recordversion.py',\n",
       " 'build',\n",
       " 'compiling.m',\n",
       " 'makefile-ppc64',\n",
       " 'LICENSE',\n",
       " 'makefile-x86_64-gnu',\n",
       " 'makefile-niflheim',\n",
       " 'setup.py',\n",
       " 'makefile-default',\n",
       " 'doc',\n",
       " 'ParallelInterface',\n",
       " 'makefile-macos',\n",
       " 'detect.py',\n",
       " 'Interface',\n",
       " 'makefile-x86_64-debug',\n",
       " 'Python',\n",
       " 'compile-niflheim.sh',\n",
       " 'makefile-i686-debug',\n",
       " 'makefile-demokrit',\n",
       " 'makefile-i686-gnu',\n",
       " 'LICENSE.LESSER',\n",
       " 'Brenner',\n",
       " 'makefile-sun4u-cc',\n",
       " 'makefile-sun4u',\n",
       " 'Distutils-autogen',\n",
       " 'makefile-sl230s-el6',\n",
       " 'makefile-alpha',\n",
       " 'Tools',\n",
       " 'makefile-x3455-el6',\n",
       " 'BUGS',\n",
       " 'makefile-AMD-Opteron-el5',\n",
       " 'Parallel',\n",
       " 'Test',\n",
       " 'README',\n",
       " 'makefile-Intel-Nehalem-el5',\n",
       " 'makefile-x86_64-profile',\n",
       " 'makefile-x86_64-pathscale',\n",
       " 'getconfig.py',\n",
       " 'makefile-i686-intel',\n",
       " 'Examples',\n",
       " 'makefile-demokrit.local',\n",
       " 'Makefile',\n",
       " 'Doxyfile',\n",
       " 'makefile-demokrit.fysik.dtu.dk',\n",
       " 'TODO',\n",
       " 'depend.CHANGES',\n",
       " 'Basics',\n",
       " 'x86_64',\n",
       " 'makefile-x86_64-intel',\n",
       " 'backtrace-special',\n",
       " 'findnonascii.py',\n",
       " 'Debug',\n",
       " 'OpenKIMexport']"
      ]
     },
     "execution_count": 9,
     "metadata": {},
     "output_type": "execute_result"
    }
   ],
   "source": [
    "os.listdir('.')"
   ]
  },
  {
   "cell_type": "code",
   "execution_count": 12,
   "metadata": {
    "collapsed": false
   },
   "outputs": [],
   "source": [
    "from asap3.analysis.rdf import RadialDistributionFunction"
   ]
  },
  {
   "cell_type": "code",
   "execution_count": null,
   "metadata": {
    "collapsed": true
   },
   "outputs": [],
   "source": []
  }
 ],
 "metadata": {
  "kernelspec": {
   "display_name": "Python 2",
   "language": "python",
   "name": "python2"
  },
  "language_info": {
   "codemirror_mode": {
    "name": "ipython",
    "version": 2
   },
   "file_extension": ".py",
   "mimetype": "text/x-python",
   "name": "python",
   "nbconvert_exporter": "python",
   "pygments_lexer": "ipython2",
   "version": "2.7.12"
  }
 },
 "nbformat": 4,
 "nbformat_minor": 0
}
