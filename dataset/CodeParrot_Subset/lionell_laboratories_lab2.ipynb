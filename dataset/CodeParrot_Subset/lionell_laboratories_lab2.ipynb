{
 "cells": [
  {
   "cell_type": "code",
   "execution_count": 1,
   "metadata": {},
   "outputs": [],
   "source": [
    "import numpy as np\n",
    "from scipy.stats import rankdata"
   ]
  },
  {
   "cell_type": "markdown",
   "metadata": {},
   "source": [
    "# Clusterized ranking"
   ]
  },
  {
   "cell_type": "markdown",
   "metadata": {},
   "source": [
    "![Image](https://harzing.com/img/i/inclrank.jpeg)"
   ]
  },
  {
   "cell_type": "code",
   "execution_count": 2,
   "metadata": {},
   "outputs": [],
   "source": [
    "M = np.array([\n",
    "    [5, 3, 1, 2, 8, 4, 6, 7],\n",
    "    [5, 4, 3, 1, 8, 2, 6, 7],\n",
    "    [1, 7, 5, 4, 8, 2, 3, 6],\n",
    "    [6, 4, 2.5, 2.5, 8, 1, 7, 5],\n",
    "    [8, 2, 4, 6, 3, 5, 1, 7],\n",
    "    [5, 6, 4, 3, 2, 1, 7, 8],\n",
    "    [6, 1, 2, 3, 5, 4, 8, 7],\n",
    "    [5, 1, 3, 2, 7, 4, 6, 8],\n",
    "    [6, 1, 3, 2, 5, 4, 7, 8],\n",
    "    [5, 3, 2, 1, 8, 4, 6, 7],\n",
    "    [7, 1, 3, 2, 6, 4, 5, 8],\n",
    "    [1, 6, 5, 3, 8, 4, 2, 7]\n",
    "])\n",
    "n, m = M.shape"
   ]
  },
  {
   "cell_type": "markdown",
   "metadata": {},
   "source": [
    "Here is how we find **average** ranking."
   ]
  },
  {
   "cell_type": "code",
   "execution_count": 3,
   "metadata": {},
   "outputs": [
    {
     "data": {
      "text/plain": [
       "array([ 5. ,  3.5,  2. ,  1. ,  7. ,  3.5,  6. ,  8. ])"
      ]
     },
     "execution_count": 3,
     "metadata": {},
     "output_type": "execute_result"
    }
   ],
   "source": [
    "average_rank = rankdata(np.average(M, axis=0))\n",
    "average_rank"
   ]
  },
  {
   "cell_type": "markdown",
   "metadata": {},
   "source": [
    "And this way we can get **median** ranking."
   ]
  },
  {
   "cell_type": "code",
   "execution_count": 4,
   "metadata": {},
   "outputs": [
    {
     "data": {
      "text/plain": [
       "array([ 5. ,  2.5,  2.5,  1. ,  8. ,  4. ,  6. ,  7. ])"
      ]
     },
     "execution_count": 4,
     "metadata": {},
     "output_type": "execute_result"
    }
   ],
   "source": [
    "median_rank = rankdata(np.median(M, axis=0))\n",
    "median_rank"
   ]
  },
  {
   "cell_type": "markdown",
   "metadata": {},
   "source": [
    "Next we need to compute **kernel of disagreement**."
   ]
  },
  {
   "cell_type": "code",
   "execution_count": 5,
   "metadata": {},
   "outputs": [
    {
     "data": {
      "text/plain": [
       "[[4, 7]]"
      ]
     },
     "execution_count": 5,
     "metadata": {},
     "output_type": "execute_result"
    }
   ],
   "source": [
    "adj = np.zeros((m, m), dtype=np.bool)\n",
    "kernel = []\n",
    "for i in range(m):\n",
    "    for j in range(i + 1, m):\n",
    "        if (average_rank[i] - average_rank[j])*(median_rank[i] - median_rank[j]) < 0:\n",
    "            kernel.append([i, j])\n",
    "            adj[i][j] = adj[j][i] = True\n",
    "kernel"
   ]
  },
  {
   "cell_type": "markdown",
   "metadata": {},
   "source": [
    "Now that we have a graph of the disagreement, we can easily find a full component via Depth First Search."
   ]
  },
  {
   "cell_type": "code",
   "execution_count": 6,
   "metadata": {},
   "outputs": [],
   "source": [
    "def dfs(i, used):\n",
    "    if i in used:\n",
    "        return []\n",
    "    used.add(i)\n",
    "    \n",
    "    res = [i]\n",
    "    for j in range(m):\n",
    "        if adj[i][j]:\n",
    "            res += dfs(j, used)\n",
    "    return res"
   ]
  },
  {
   "cell_type": "markdown",
   "metadata": {},
   "source": [
    "Last thing to do, is to iterate in the correct order, and don't forget to print a whole cluster when needed."
   ]
  },
  {
   "cell_type": "code",
   "execution_count": 7,
   "metadata": {},
   "outputs": [
    {
     "data": {
      "text/plain": [
       "[3, 2, 1, 5, 0, 6, 4, 7]"
      ]
     },
     "execution_count": 7,
     "metadata": {},
     "output_type": "execute_result"
    }
   ],
   "source": [
    "order = sorted(range(m), key=lambda i: (average_rank[i], median_rank[i]))\n",
    "order"
   ]
  },
  {
   "cell_type": "code",
   "execution_count": 8,
   "metadata": {},
   "outputs": [
    {
     "data": {
      "text/plain": [
       "[[3], [2], [1], [5], [0], [6], [4, 7]]"
      ]
     },
     "execution_count": 8,
     "metadata": {},
     "output_type": "execute_result"
    }
   ],
   "source": [
    "result = []\n",
    "used = set()\n",
    "for i in order:\n",
    "    cluster = dfs(i, used)\n",
    "    if len(cluster) > 0:\n",
    "        result.append(cluster)\n",
    "result"
   ]
  },
  {
   "cell_type": "markdown",
   "metadata": {},
   "source": [
    "# Kemeny distance"
   ]
  },
  {
   "cell_type": "markdown",
   "metadata": {},
   "source": [
    "![Image](https://encrypted-tbn0.gstatic.com/images?q=tbn:ANd9GcR9tc8lC8WFpftjfLNbRNz1YXqf-PWSIiil1loBcY7kWieR68YpKQ)"
   ]
  },
  {
   "cell_type": "code",
   "execution_count": 9,
   "metadata": {},
   "outputs": [],
   "source": [
    "rankings = np.array([\n",
    "    [[1], [2, 3], [4], [5], [6, 7]],\n",
    "    [[1, 3], [4], [2], [5], [7], [6]],\n",
    "    [[1], [4], [2], [3], [6], [5], [7]],\n",
    "    [[1], [2, 4], [3], [5], [7], [6]],\n",
    "    [[2], [3], [4], [5], [1], [6], [7]],\n",
    "    [[1], [3], [2], [5], [6], [7], [4]],\n",
    "    [[1], [5], [3], [4], [2], [6], [7]]\n",
    "])\n",
    "n = rankings.shape[0]"
   ]
  },
  {
   "cell_type": "markdown",
   "metadata": {},
   "source": [
    "We need to be able to build relation matrix out of the ranking."
   ]
  },
  {
   "cell_type": "code",
   "execution_count": 10,
   "metadata": {},
   "outputs": [],
   "source": [
    "def build(x):\n",
    "    n = sum(map(lambda r: len(r), x)) # Total amount of objects\n",
    "    m = np.zeros((n, n), dtype=np.bool)\n",
    "    for r in x:\n",
    "        for i in r:\n",
    "            for j in range(n):\n",
    "                if not m[j][i - 1] or j + 1 in r:\n",
    "                    m[i - 1][j] = True\n",
    "    return m"
   ]
  },
  {
   "cell_type": "markdown",
   "metadata": {},
   "source": [
    "Now we can calculate Kemedy distances between each two rankings."
   ]
  },
  {
   "cell_type": "code",
   "execution_count": 11,
   "metadata": {},
   "outputs": [
    {
     "data": {
      "text/plain": [
       "array([[  0.,   5.,   8.,   5.,  10.,   8.,  10.],\n",
       "       [  5.,   0.,   9.,   6.,  13.,  11.,   9.],\n",
       "       [  8.,   9.,   0.,   5.,  14.,  14.,  12.],\n",
       "       [  5.,   6.,   5.,   0.,  13.,  13.,  13.],\n",
       "       [ 10.,  13.,  14.,  13.,   0.,  16.,  18.],\n",
       "       [  8.,  11.,  14.,  13.,  16.,   0.,  10.],\n",
       "       [ 10.,   9.,  12.,  13.,  18.,  10.,   0.]])"
      ]
     },
     "execution_count": 11,
     "metadata": {},
     "output_type": "execute_result"
    }
   ],
   "source": [
    "dist = np.zeros((n, n))\n",
    "for i in range(n):\n",
    "    for j in range(n):\n",
    "        dist[i][j] = np.sum(build(rankings[i]) ^ build(rankings[j]))\n",
    "dist"
   ]
  },
  {
   "cell_type": "markdown",
   "metadata": {},
   "source": [
    "Let's find **Kemeny median** for the ranks."
   ]
  },
  {
   "cell_type": "code",
   "execution_count": 12,
   "metadata": {},
   "outputs": [
    {
     "data": {
      "text/plain": [
       "[[1], [2, 3], [4], [5], [6, 7]]"
      ]
     },
     "execution_count": 12,
     "metadata": {},
     "output_type": "execute_result"
    }
   ],
   "source": [
    "median = np.argmin(np.sum(dist, axis=1))\n",
    "rankings[median]"
   ]
  }
 ],
 "metadata": {
  "kernelspec": {
   "display_name": "Python 3",
   "language": "python",
   "name": "python3"
  },
  "language_info": {
   "codemirror_mode": {
    "name": "ipython",
    "version": 3
   },
   "file_extension": ".py",
   "mimetype": "text/x-python",
   "name": "python",
   "nbconvert_exporter": "python",
   "pygments_lexer": "ipython3",
   "version": "3.6.3"
  }
 },
 "nbformat": 4,
 "nbformat_minor": 2
}
