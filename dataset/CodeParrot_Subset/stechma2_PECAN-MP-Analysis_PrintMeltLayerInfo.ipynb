{
 "cells": [
  {
   "cell_type": "code",
   "execution_count": 1,
   "metadata": {
    "ExecuteTime": {
     "end_time": "2017-12-10T17:22:48.109278",
     "start_time": "2017-12-10T17:22:46.946631"
    },
    "collapsed": false,
    "run_control": {
     "frozen": false,
     "read_only": false
    }
   },
   "outputs": [],
   "source": [
    "import numpy as np\n",
    "import datetime as dt"
   ]
  },
  {
   "cell_type": "code",
   "execution_count": 2,
   "metadata": {
    "ExecuteTime": {
     "end_time": "2017-12-10T17:22:48.185777",
     "start_time": "2017-12-10T17:22:48.110986"
    },
    "collapsed": true
   },
   "outputs": [],
   "source": [
    "flight = '20150709'"
   ]
  },
  {
   "cell_type": "code",
   "execution_count": 3,
   "metadata": {
    "ExecuteTime": {
     "end_time": "2017-12-10T17:22:48.569981",
     "start_time": "2017-12-10T17:22:48.197565"
    },
    "collapsed": true
   },
   "outputs": [],
   "source": [
    "if flight == '20150617':\n",
    "\n",
    "    # Time/[temp at same time] when last evidence of ice was observed\n",
    "    mlBotTemp = np.array([np.nan, 2.3943, np.nan, 3.3489, 4.3656, 2.5243, 5.2405],dtype=float)\n",
    "    mlBotTime = np.array([np.nan, 17018, np.nan, 20530, 22632, 23810, 25750],dtype=float)\n",
    "    # S1 - No particles warmer than -5\n",
    "    # S2 - No particles between +2 and +8, so ML bottom actually warmer than +2\n",
    "    # S3 - No particles warmer than -4\n",
    "\n",
    "    # Time/[temp at same time] when first evidence of liquid water was observed\n",
    "    mlTopTemp = np.array([np.nan, 0.3578, np.nan, 0.9657, 0.4826, 0.1111, 0.3433],dtype=float)\n",
    "    mlTopTime = np.array([np.nan, 17074, np.nan, 20580, 22512, 23857, 25635],dtype=float)\n",
    "    # S1 - No particles warmer than -5\n",
    "    # S3 - No particles warmer than -4\n",
    "\n",
    "elif flight == '20150620':\n",
    "\n",
    "    mlBotTemp = np.array([np.nan, 6.8400, np.nan, 5.9069, 5.7851, 4.6184, 4.7246],dtype=float)\n",
    "    mlBotTime = np.array([np.nan, 18647, np.nan, 21219, 22080, 24352, 28124],dtype=float)\n",
    "    # S1 - No particles warmer than -9\n",
    "    # S2 - Very little melting all the way through +7 (nothing recorded warmer)\n",
    "    # S3 - No particles warmer than -6\n",
    "\n",
    "    mlTopTemp = np.array([np.nan, 0.0282, np.nan, 0.1974, 0.1935, 2.2460, 0.0326],dtype=float)\n",
    "    mlTopTime = np.array([np.nan, 18582, np.nan, 21122, 22210, 24276, 28268],dtype=float)\n",
    "    # S1 - No particles warmer than -9\n",
    "    # S3 - No particles warmer than -6\n",
    "\n",
    "elif flight == '20150701':\n",
    "\n",
    "    mlBotTemp = np.array([3.4335],dtype=float)\n",
    "    mlBotTime = np.array([22482],dtype=float)\n",
    "\n",
    "    mlTopTemp = np.array([0.7108],dtype=float)\n",
    "    mlTopTime = np.array([22375],dtype=float)\n",
    "\n",
    "\n",
    "elif flight == '20150702':\n",
    "\n",
    "    mlBotTemp = np.array([np.nan, 1.5034, np.nan],dtype=float)\n",
    "    mlBotTime = np.array([np.nan, 15826, np.nan],dtype=float)\n",
    "    # S1 - No particles warmer than -13\n",
    "    # S3 - No particles between ~+1 and +9.59 - ML bottom somewhere in here\n",
    "\n",
    "    mlTopTemp = np.array([np.nan, 0.7152, np.nan],dtype=float)\n",
    "    mlTopTime = np.array([np.nan, 15852, np.nan],dtype=float)\n",
    "    # S1 - No particles warmer than -13\n",
    "    # S3 - Melting not observed at T<0.79; no particles warmer than this before +9.59\n",
    "\n",
    "\n",
    "elif flight == '20150706':\n",
    "\n",
    "    mlBotTemp = np.array([np.nan, 1.9535, 3.7707, 4.9644, 1.9219, 3.5011, 3.0759, 3.6202],dtype=float) \n",
    "    mlBotTime = np.array([np.nan, 13099, 16228, 17252, 20851, 21872, 23420, 24383],dtype=float) \n",
    "\n",
    "    mlTopTemp = np.array([np.nan, 0.8741, 0.0271, 0.2957, 0.0111, 0.3134, 0.1221, 0.0554],dtype=float) \n",
    "    mlTopTime = np.array([np.nan, 13054, 16336, 17156, 20917, 21792, 23492, 24281],dtype=float)\n",
    "\n",
    "\n",
    "elif flight == '20150709':\n",
    "\n",
    "\n",
    "    mlBotTemp = np.array([0.827, 2.76, 1.584, 2.2527, 2.8054, 4.7628, 3.823, 5.7988, 3.7277, \n",
    "                          5.6487, 2.3316, 4.7067, 3.6857, 4.9586, 2.5909, 5.7844],dtype=float)\n",
    "    mlBotTime = np.array([9166, 10102, 10997, 11769, 13072, 14202, 14867, 15861, 16956, 17932, \n",
    "                          19429, 20445, 21312, 22169, 23075, 23942],dtype=float)\n",
    "\n",
    "    mlTopTemp = np.array([0.0104, 0.0034, 0.0423, 0.1119, 0.4757, 3.4426, 1.3057, 2.5534, 0.4398, \n",
    "                          2.0643, 0.0656, 1.5315, 0.6095, 2.740, 0.6454, 2.5692],dtype=float)\n",
    "    mlTopTime = np.array([9185, 10028, 11036, 11711, 13146, 14163, 14903, 15820, 17038, \n",
    "                          17866, 19494, 20391, 21391, 22136, 23121, 23882],dtype=float)\n",
    "    \n"
   ]
  },
  {
   "cell_type": "code",
   "execution_count": 4,
   "metadata": {
    "ExecuteTime": {
     "end_time": "2017-12-10T17:22:48.657741",
     "start_time": "2017-12-10T17:22:48.583085"
    },
    "collapsed": false
   },
   "outputs": [],
   "source": [
    "mlBtime_hhmmss = np.floor(mlBotTime/3600)*10000 + np.floor(np.mod(mlBotTime,3600)/60)*100 + np.floor(np.mod(mlBotTime,60))\n",
    "mlTtime_hhmmss = np.floor(mlTopTime/3600)*10000 + np.floor(np.mod(mlTopTime,3600)/60)*100 + np.floor(np.mod(mlTopTime,60))"
   ]
  },
  {
   "cell_type": "code",
   "execution_count": 5,
   "metadata": {
    "ExecuteTime": {
     "end_time": "2017-12-10T17:22:48.909958",
     "start_time": "2017-12-10T17:22:48.693174"
    },
    "collapsed": false
   },
   "outputs": [
    {
     "name": "stdout",
     "output_type": "stream",
     "text": [
      "Melting layer top times (hhmmss)\n",
      "\t23246\n",
      "\t24822\n",
      "\t30317\n",
      "\t31609\n",
      "\t33752\n",
      "\t35642\n",
      "\t40747\n",
      "\t42421\n",
      "\t44236\n",
      "\t45852\n",
      "\t52349\n",
      "\t54045\n",
      "\t55512\n",
      "\t60929\n",
      "\t62435\n",
      "\t63902\n",
      "\n",
      "Melting layer bottom times (hhmmss)\n",
      "\t23305\n",
      "\t24708\n",
      "\t30356\n",
      "\t31511\n",
      "\t33906\n",
      "\t35603\n",
      "\t40823\n",
      "\t42340\n",
      "\t44358\n",
      "\t45746\n",
      "\t52454\n",
      "\t53951\n",
      "\t55631\n",
      "\t60856\n",
      "\t62521\n",
      "\t63802\n",
      "\n",
      "Melting layer top temp (deg C)\n",
      "\t0.01\n",
      "\t0.00\n",
      "\t0.04\n",
      "\t0.11\n",
      "\t0.48\n",
      "\t3.44\n",
      "\t1.31\n",
      "\t2.55\n",
      "\t0.44\n",
      "\t2.06\n",
      "\t0.07\n",
      "\t1.53\n",
      "\t0.61\n",
      "\t2.74\n",
      "\t0.65\n",
      "\t2.57\n",
      "\n",
      "Melting layer bottom temp (deg C)\n",
      "\t0.83\n",
      "\t2.76\n",
      "\t1.58\n",
      "\t2.25\n",
      "\t2.81\n",
      "\t4.76\n",
      "\t3.82\n",
      "\t5.80\n",
      "\t3.73\n",
      "\t5.65\n",
      "\t2.33\n",
      "\t4.71\n",
      "\t3.69\n",
      "\t4.96\n",
      "\t2.59\n",
      "\t5.78\n"
     ]
    }
   ],
   "source": [
    "print('Melting layer top times (hhmmss)')\n",
    "for t in mlBtime_hhmmss:\n",
    "    if np.isnan(t):\n",
    "        print('\\tN/A')\n",
    "    else:\n",
    "        print('\\t{:.0f}'.format(t))\n",
    "\n",
    "print('\\nMelting layer bottom times (hhmmss)')\n",
    "for t in mlTtime_hhmmss:\n",
    "    if np.isnan(t):\n",
    "        print('\\tN/A')\n",
    "    else:\n",
    "        print('\\t{:.0f}'.format(t))\n",
    "        \n",
    "print('\\nMelting layer top temp (deg C)')\n",
    "for t in mlTopTemp:\n",
    "    if np.isnan(t):\n",
    "        print('\\tN/A')\n",
    "    else:\n",
    "        print('\\t{:.2f}'.format(t))\n",
    "        \n",
    "print('\\nMelting layer bottom temp (deg C)')\n",
    "for t in mlBotTemp:\n",
    "    if np.isnan(t):\n",
    "        print('\\tN/A')\n",
    "    else:\n",
    "        print('\\t{:.2f}'.format(t))"
   ]
  }
 ],
 "metadata": {
  "anaconda-cloud": {},
  "kernelspec": {
   "display_name": "Python [default]",
   "language": "python",
   "name": "python3"
  },
  "language_info": {
   "codemirror_mode": {
    "name": "ipython",
    "version": 3
   },
   "file_extension": ".py",
   "mimetype": "text/x-python",
   "name": "python",
   "nbconvert_exporter": "python",
   "pygments_lexer": "ipython3",
   "version": "3.5.2"
  }
 },
 "nbformat": 4,
 "nbformat_minor": 1
}
