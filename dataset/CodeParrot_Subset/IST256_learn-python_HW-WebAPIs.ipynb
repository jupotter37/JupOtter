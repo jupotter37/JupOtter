{
 "cells": [
  {
   "cell_type": "markdown",
   "metadata": {},
   "source": [
    "# Homework: TLDL: The Gist of a Song\n",
    "\n",
    "## The Problem\n",
    "\n",
    "TLDL: Too Long didn't listen. In this assignment you are tasked with producing the gist of any song through its lyrics. The parts you need for this are:\n",
    "\n",
    "    1. An API to find the song given a title and artist\n",
    "    2. An API to retrieve the lyrics for the song\n",
    "    3. Run key phrase extraction over the lyrics to discover what the song is about\n",
    "    4. Run sentiment analysis over the lyrics to identify the mood\n",
    "\n",
    "A bottom-up approach is suggested. Solve problems 1-4 first and then assemble into a working program that when given a title and author will provide a song LTDL gist. `{title} by {artist} is a {sentiment} song about {key phrases}`.\n",
    "\n",
    "For example:\n",
    "\n",
    "    Song: First world problems\n",
    "    Artist: Weird Al Yankovic\n",
    "    \n",
    "    TLDL (Output): \n",
    "    First World Problems by Weird Al Yankovic is a mixed song about ['world problems', 'wallet small', 'corner', 'vending machine', 'water', 'hour', 'laptop screen', 'bills', 'maid', 'bathroom', 'breakfast menu', 'bread', 'tiramisu', 'pixel', 'shower', 'idiot', 'phone']\n",
    "    \n",
    "    \n",
    "For style points use `@interact_manual`, of course.\n",
    "\n",
    "HINTS and ADVICE:\n",
    "\n",
    "- You can use the Musixmatch API https://developer.musixmatch.com/ to search for songs and retrieve the lyrics. \n",
    "    - The free version of the API provides access to 30% of the lyrics. This should be sufficient. \n",
    "    - Similar to Zomato, this API has a playground mode where you can try it out in the browser. https://playground.musixmatch.com/\n",
    "- Take a bottom up approach! Implement each step as a function, solving that problem then putting the entire program together from the pieces\n",
    "- Leverage what you learned from the lab to perform sentiment and key-phrase analysis. That code should be easy to incorporate.\n",
    "- Don't worry about coding around errors, but do think about how you might handle them (there's a question about it).\n",
    "\n",
    "\n"
   ]
  },
  {
   "cell_type": "markdown",
   "metadata": {
    "label": "problem_analysis_cell"
   },
   "source": [
    "## Part 1: Problem Analysis\n",
    "\n",
    "Inputs:\n",
    "\n",
    "```\n",
    "TODO: Inputs\n",
    "```\n",
    "\n",
    "Outputs:\n",
    "\n",
    "```\n",
    "TODO: Outputs\n",
    "```\n",
    "\n",
    "Algorithm (Steps in Program):  \n",
    "\n",
    "```\n",
    "TODO:Steps Here\n",
    "\n",
    "```"
   ]
  },
  {
   "cell_type": "markdown",
   "metadata": {},
   "source": [
    "## Part 2: Code Solution\n",
    "\n",
    "You may write your code in several cells, but place the complete, final working copy of your code solution within this single cell below. Only the within this cell will be considered your solution. Any imports or user-defined functions should be copied into this cell. "
   ]
  },
  {
   "cell_type": "code",
   "execution_count": null,
   "metadata": {
    "label": "code_solution_cell"
   },
   "outputs": [],
   "source": [
    "# Step 2: Write code here\n"
   ]
  },
  {
   "cell_type": "markdown",
   "metadata": {
    "label": "homework_questions_cell"
   },
   "source": [
    "## Part 3: Questions\n",
    "\n",
    "1. Does your code handle errors? Such as track not found or no lyrics? If yes, explain how you did it, if not describe how you would address this issue.\n",
    "\n",
    "`--== Double-Click and Write Your Answer Below This Line ==--`  \n",
    "\n",
    "\n",
    "2. In what way can we make key-phrase extraction better?\n",
    "\n",
    "`--== Double-Click and Write Your Answer Below This Line ==--`  \n",
    "\n",
    "3. Do you feel the sentiment from the lyrics accurately reflects the mood of a song? Explain your answer.\n",
    "\n",
    "`--== Double-Click and Write Your Answer Below This Line ==--`  \n",
    "\n",
    "\n"
   ]
  },
  {
   "cell_type": "markdown",
   "metadata": {
    "label": "reflection_cell"
   },
   "source": [
    "## Part 4: Reflection\n",
    "\n",
    "Reflect upon your experience completing this assignment. This should be a personal narrative, in your own voice, and cite specifics relevant to the activity as to help the grader understand how you arrived at the code you submitted. Things to consider touching upon: Elaborate on the process itself. Did your original problem analysis work as designed?  How many iterations did you go through before you arrived at the solution? Where did you struggle along the way and how did you overcome it? What did you learn from completing the assignment? What do you need to work on to get better? What was most valuable and least valuable about this exercise? Do you have any suggestions for improvements?\n",
    "\n",
    "To make a good reflection, you should journal your thoughts, questions and comments while you complete the exercise.\n",
    "\n",
    "Keep your response to between 100 and 250 words.\n",
    "\n",
    "`--== Double-Click and Write Your Reflection Below Here ==--`  \n"
   ]
  },
  {
   "cell_type": "code",
   "execution_count": null,
   "metadata": {},
   "outputs": [],
   "source": [
    "# run this code to turn in your work!\n",
    "from coursetools.submission import Submission\n",
    "Submission().submit()"
   ]
  }
 ],
 "metadata": {
  "anaconda-cloud": {},
  "kernelspec": {
   "display_name": "Python 3",
   "language": "python",
   "name": "python3"
  },
  "language_info": {
   "codemirror_mode": {
    "name": "ipython",
    "version": 3
   },
   "file_extension": ".py",
   "mimetype": "text/x-python",
   "name": "python",
   "nbconvert_exporter": "python",
   "pygments_lexer": "ipython3",
   "version": "3.8.6"
  },
  "toc": {
   "base_numbering": 1,
   "nav_menu": {},
   "number_sections": false,
   "sideBar": false,
   "skip_h1_title": false,
   "title_cell": "Table of Contents",
   "title_sidebar": "Contents",
   "toc_cell": false,
   "toc_position": {},
   "toc_section_display": false,
   "toc_window_display": false
  }
 },
 "nbformat": 4,
 "nbformat_minor": 4
}
