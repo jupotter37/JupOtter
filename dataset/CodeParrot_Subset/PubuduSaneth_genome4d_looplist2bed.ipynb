{
 "cells": [
  {
   "cell_type": "markdown",
   "metadata": {},
   "source": [
    "# Convert looplist file to different file formats"
   ]
  },
  {
   "cell_type": "markdown",
   "metadata": {},
   "source": [
    "## [Looplist file format](http://dx.doi.org/10.1016/j.cell.2014.11.021) <br>\n",
    "\n",
    "1. chromosome = the chromosome that the loop is located on\n",
    "\n",
    "2. x1,x2 = the coordinates of the upstream locus corresponding to the peak pixel (see the Experimental Procedures and VI.a.5.iv of the Extended Experimental Procedures of Rao, Huntley, et al., Cell 2014 for a definition of the peak pixel)\n",
    "\n",
    "3. chromosome\n",
    "\n",
    "4. y1,y2 = the coordinates of the downstream locus corresponding to the peak pixel (see the Experimental Procedures and VI.a.5.iv of the Extended Experimental Procedures of Rao, Huntley, et al., Cell 2014 for a definition of the peak pixel)\n",
    "\n",
    "5. color = the color that the feature will be rendered as if loaded in [Juicebox](www.aidenlab.org/juicebox)\n",
    "\n",
    "6. observed = the raw observed counts at the peak pixel (see the Experimental Procedures and VI.a.5.iv of the Extended Experimental Procedures of Rao, Huntley, et al., Cell 2014 for a definition of the peak pixel)\n",
    "\n",
    "7. expected_[bottom_left, donut, horizontal, vertical] = the expected counts calculated using the [bottom_left, donut, horizontal, vertical] filter (see Figure 3 and section VI.a.5.i of the Extended Experimental Procedures of Rao, Huntley, et al., Cell 2014)\n",
    "\n",
    "8. fdr_[bottom_left, donut, horizontal, vertical] = the q-value of the loop calculated using the [bottom_left, donut, horizontal, vertical] filter (see VI.a.5.ii of the Extended Experimental Procedures of Rao, Huntley, et al., Cell 2014)\n",
    "\n",
    "9. number_collapsed = the number of pixels that were clustered together as part of the loop call (see section VI.a.5.iv of the Extended Experimental Procedures of Rao, Huntley, et al., Cell 2014)\n",
    "\n",
    "10. centroid1 = the upstream coordinate of the centroid of the cluster of pixels corresponding to the loop (see section VI.a.5.iv of the Extended Experimental Procedures of Rao, Huntley, et al., Cell 2014)\n",
    "\n",
    "11. centroid2 = the downstream coordinate of the centroid of the cluster of pixels corresponding to the loop (see section VI.a.5.iv of the Extended Experimental Procedures of Rao, Huntley, et al., Cell 2014)\n",
    "\n",
    "12. radius = the Euclidean distance from the centroid of the cluster of pixels to the farthest pixel in the cluster of pixels (see section VI.a.5.iv of the Extended Experimental Procedures of Rao, Huntley, et al., Cell 2014)"
   ]
  },
  {
   "cell_type": "markdown",
   "metadata": {},
   "source": [
    "## [BED12 output file format](http://bedtools.readthedocs.io/en/latest/content/general-usage.html)</br>\n",
    "\n",
    "1. chromosome_1 (upstream locus)\n",
    "2. start_1 (upstream locus)\n",
    "3. end_2 (downstream locus)\n",
    "4. interaction (eg. chr:start_1..end_1-chr:start_2..end_2)\n",
    "5. Score\n",
    "6. strand\n",
    "7. start_1\n",
    "8. end_2\n",
    "9. itemRgb\n",
    "10. blockCount\n",
    "11. blockSizes\n",
    "12. blockStarts(distance)"
   ]
  },
  {
   "cell_type": "markdown",
   "metadata": {},
   "source": [
    "## [BEDPE output file format](http://bedtools.readthedocs.io/en/latest/content/general-usage.html)</br>\n",
    "\n",
    "1. chromosome_1 (upstream locus)\n",
    "2. start_1 (upstream locus)\n",
    "3. end_1 (upstream locus)\n",
    "4. chromosome_2 (downstream locus)\n",
    "5. Start_2 (downstream locus)\n",
    "6. end_2 (downstream locus)\n",
    "7. interaction (eg. chr:start_1..end_1-chr:start_2..end_2)\n",
    "8. score (fdr_donut)\n",
    "9. strand_1\n",
    "10. strand_2\n",
    "11. fdr_bl\n",
    "12. fdr_h\n",
    "13. fdr_v\n",
    "14. distance"
   ]
  },
  {
   "cell_type": "markdown",
   "metadata": {},
   "source": [
    "## [HOMER](http://homer.salk.edu/homer/interactions/HiCinteractions.html)</br>\n",
    "\n",
    "1. Interaction ID (must be unique)\n",
    "2. Peak ID for region 1\n",
    "3. chr for region 1\n",
    "4. start position for region 1\n",
    "5. end position for region 1\n",
    "6. strand for region 1\n",
    "7. total reads for region 1\n",
    "8. Peak ID for region 2\n",
    "9. chr for region 2\n",
    "10. start position for region 2\n",
    "11. end position for region 2\n",
    "12. strand for region 2\n",
    "13. total reads for region 2\n",
    "14. Distance between regions (or \"interchromosomal\")\n",
    "15. Interaction Reads (total Hi-C reads connecting the regions)\n",
    "16. Expected Interaction Reads (total expected Hi-C reads based on background model)\n",
    "17. Modified Z-score\n",
    "18. Natural log of the p-value for the interaction (binomial)\n",
    "19. False Discovery Rate (based on Benjamini correction)\n",
    "20. Circos Thickness (used for visualization by Circos)"
   ]
  },
  {
   "cell_type": "markdown",
   "metadata": {},
   "source": [
    "___"
   ]
  },
  {
   "cell_type": "code",
   "execution_count": 1,
   "metadata": {
    "collapsed": false
   },
   "outputs": [],
   "source": [
    "#header of a looplist file\n",
    "loop_head = ['chr1', 'x1', 'x2', 'chr2', 'y1', 'y2', 'color', 'o', 'e_bl', 'e_donut', 'e_h', 'e_v', 'fdr_bl', 'fdr_donut', 'fdr_h', 'fdr_v', 'number collapsed', 'centroid1', 'centroid2', 'radius']"
   ]
  },
  {
   "cell_type": "code",
   "execution_count": 2,
   "metadata": {
    "collapsed": false
   },
   "outputs": [],
   "source": [
    "def to_bed12(looplist, out_file):\n",
    "    # conver a looplist file to bed12\n",
    "    #i=0\n",
    "    bed = open(out_file, \"w\")\n",
    "    with open (looplist, \"r\") as f:\n",
    "        f.readline()\n",
    "        for l in f:\n",
    "            l = l.replace(\"\\n\",\"\").split(\"\\t\")\n",
    "            d = dict(zip(loop_head,l))\n",
    "            out = (\"{}\\t{}\\t{}\\t\".format(d['chr1'],d['x1'],d['y2']) + \n",
    "                   \"{}:{}..{}-{}:{}-{}\\t\".format(d['chr1'],d['x1'],d['x2'],d['chr2'],d['y1'],d['y2']) +\n",
    "                    \"{}\\t\".format(d['fdr_donut']) +\n",
    "                    \".\\t\" +\n",
    "                    \"{}\\t{}\\t\".format(d['x1'],d['y2']) +\n",
    "                    \"0,0,0\\t\" +\n",
    "                    \"2\\t\" +\n",
    "                    \"100000,100000\\t\" +\n",
    "                    \"0,{}\\n\".format(int(d['y2'])-int(d['x1'])) )\n",
    "            bed.write(out)\n"
   ]
  },
  {
   "cell_type": "code",
   "execution_count": 3,
   "metadata": {
    "collapsed": true
   },
   "outputs": [],
   "source": [
    "def to_bedpe(looplist, out_file):\n",
    "    #i=0\n",
    "    bedpe = open(out_file, \"w\")\n",
    "    with open (looplist, \"r\") as f:\n",
    "        f.readline()\n",
    "        for l in f:\n",
    "            l = l.replace(\"\\n\",\"\").split(\"\\t\")\n",
    "            d = dict(zip(loop_head,l))\n",
    "            #print l\n",
    "            out = (\"{}\\t{}\\t{}\\t\".format(d['chr1'],d['x1'],d['x2']) + \n",
    "                   \"{}\\t{}\\t{}\\t\".format(d['chr2'],d['y1'],d['y2']) + \n",
    "                   \"{}:{}..{}-{}:{}-{}\\t\".format(d['chr1'],d['x1'],d['x2'],d['chr2'],d['y1'],d['y2']) +\n",
    "                   \"{}\\t\".format(d['fdr_donut']) +\n",
    "                   \"*\\t*\\t\" +\n",
    "                   \"{}\\t{}\\t{}\\t\".format(d['fdr_bl'], d['fdr_h'], d['fdr_v']) + \n",
    "                   \"0,{}\\n\".format(int(d['y2'])-int(d['x1'])) )\n",
    "            bedpe.write(out)"
   ]
  },
  {
   "cell_type": "code",
   "execution_count": 4,
   "metadata": {
    "collapsed": false
   },
   "outputs": [],
   "source": [
    "def to_hiBrowsein(looplist, out_file):\n",
    "    #i=0\n",
    "    hibrowsein = open(out_file, \"w\")\n",
    "    hibrowsein_head = (\"chr1\\tx1\\tx2\\tchr2\\ty1\\ty2\\tfdr_bl\\n\")\n",
    "    hibrowsein.write(hibrowsein_head)\n",
    "    #chr1\tx1\tx2\tchr2\ty1\ty2\tfdr_bl\n",
    "    with open (looplist, \"r\") as f:\n",
    "        f.readline()\n",
    "        for l in f:\n",
    "            l = l.replace(\"\\n\",\"\").split(\"\\t\")\n",
    "            d = dict(zip(loop_head,l))\n",
    "            #print l\n",
    "            out = (\"{}\\t{}\\t{}\\t{}\\t{}\\t{}\\t{}\\n\".format(d['chr1'],d['x1'],d['x2'],d['chr2'],d['y1'],d['y2'],d['fdr_bl']))\n",
    "            hibrowsein.write(out)"
   ]
  },
  {
   "cell_type": "code",
   "execution_count": 5,
   "metadata": {
    "collapsed": true
   },
   "outputs": [],
   "source": [
    "def to_homer(looplist, out_file):\n",
    "    #i=0\n",
    "    homer = open(out_file, \"w\")\n",
    "    homer_head = (\"InteractionID\\t\" +\n",
    "                  \"PeakID(1)\\t\" + \n",
    "                  \"chr(1)\\t\" + \n",
    "                  \"start(1)\\t\" + \n",
    "                  \"end(1)\\t\" + \n",
    "                  \"strand(1)\\t\" + \n",
    "                  \"Total Reads(1)\\t\" + \n",
    "                  \"PeakID(2)\\t\" + \n",
    "                  \"chr(2)\\t\" + \n",
    "                  \"start(2)\\t\" + \n",
    "                  \"end(2)\\t\" + \n",
    "                  \"strand(2)\\t\" + \n",
    "                  \"Total Reads(2)\\t\" + \n",
    "                  \"Distance\\t\" + \n",
    "                  \"Interaction Reads\\t\" + \n",
    "                  \"Expected Reads\\t\" + \n",
    "                  \"Z-score\\t\" + \"LogP\\t\" + \"FDR\\t\" + \"Circos Thickness\\n\") #(Benjamini, based on 4.90e+08 total tests)\n",
    "    homer.write(homer_head)\n",
    "    with open (looplist, \"r\") as f:\n",
    "        f.readline()\n",
    "        for l in f:\n",
    "            l = l.replace(\"\\n\",\"\").split(\"\\t\")\n",
    "            d = dict(zip(loop_head,l))\n",
    "            #print l\n",
    "            out = (\"{}:{}..{}-{}:{}-{}\\t\".format(d['chr1'],d['x1'],d['x2'],d['chr2'],d['y1'],d['y2']) +\n",
    "                   \"{}-{}\\t\".format(d['chr1'],d['x1']) +\n",
    "                   \"{}\\t{}\\t{}\\t\".format(d['chr1'],d['x1'],d['x2']) + \n",
    "                   \".\\t0\\t\" +\n",
    "                   \"{}-{}\\t\".format(d['chr2'],d['y1']) +\n",
    "                   \"{}\\t{}\\t{}\\t\".format(d['chr2'],d['y1'],d['y2']) + \n",
    "                   \".\\t0\\t\" +\n",
    "                   \"{}\\t\".format(int(d['y2'])-int(d['x1'])) + \n",
    "                   \"0\\t0\\t0\\t\" +\n",
    "                   \"{}\\t{}\\t\".format(d['fdr_bl'], d['fdr_donut']) +\n",
    "                   \"2\\n\" )\n",
    "            homer.write(out)"
   ]
  },
  {
   "cell_type": "code",
   "execution_count": 6,
   "metadata": {
    "collapsed": false
   },
   "outputs": [],
   "source": [
    "to_bedpe(\"/Users/pubudu/Documents/HiC-runs/hic_formatConversion/chr1-looplist.txt\",'/Users/pubudu/Documents/HiC-runs/hic_formatConversion/chr1-looplist.bedpe2.bed') # to_bedpe(<looplist file>, <output file name>)"
   ]
  },
  {
   "cell_type": "code",
   "execution_count": 7,
   "metadata": {
    "collapsed": false
   },
   "outputs": [],
   "source": [
    "to_homer(\"/Users/pubudu/Documents/HiC-runs/hic_formatConversion/chr1-looplist.txt\",'/Users/pubudu/Documents/HiC-runs/hic_formatConversion/chr1-looplist.homer2.bed') # to_homer(<looplist file>, <output file name>)"
   ]
  },
  {
   "cell_type": "code",
   "execution_count": 8,
   "metadata": {
    "collapsed": false
   },
   "outputs": [],
   "source": [
    "to_hiBrowsein(\"/Users/pubudu/Documents/HiC-runs/hic_formatConversion/chr1-looplist.txt\",'/Users/pubudu/Documents/HiC-runs/hic_formatConversion/chr1-looplist.hibrowseIn.txt') # to_homer(<looplist file>, <output file name>)"
   ]
  },
  {
   "cell_type": "code",
   "execution_count": null,
   "metadata": {
    "collapsed": true
   },
   "outputs": [],
   "source": []
  }
 ],
 "metadata": {
  "anaconda-cloud": {},
  "kernelspec": {
   "display_name": "Python (saneth)",
   "language": "python",
   "name": "saneth"
  },
  "language_info": {
   "codemirror_mode": {
    "name": "ipython",
    "version": 2
   },
   "file_extension": ".py",
   "mimetype": "text/x-python",
   "name": "python",
   "nbconvert_exporter": "python",
   "pygments_lexer": "ipython2",
   "version": "2.7.12"
  }
 },
 "nbformat": 4,
 "nbformat_minor": 2
}
