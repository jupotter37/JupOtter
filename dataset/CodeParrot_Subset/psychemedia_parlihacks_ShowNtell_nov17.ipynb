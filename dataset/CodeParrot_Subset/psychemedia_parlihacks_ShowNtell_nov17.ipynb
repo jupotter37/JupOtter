{
 "cells": [
  {
   "cell_type": "markdown",
   "metadata": {
    "slideshow": {
     "slide_type": "slide"
    }
   },
   "source": [
    "# Postcards of Parliament From A Digital Flâneur"
   ]
  },
  {
   "cell_type": "markdown",
   "metadata": {
    "slideshow": {
     "slide_type": "slide"
    }
   },
   "source": [
    "__Flâneur__, *noun*, A man who saunters around observing society."
   ]
  },
  {
   "cell_type": "markdown",
   "metadata": {
    "slideshow": {
     "slide_type": "-"
    }
   },
   "source": [
    "*The flâneur wandered in the shopping arcades, but he did not give in to the temptations of consumerism; the arcade was primarily a pathway to a rich sensory experience — and only then a temple of consumption. His goal was to observe, to bathe in the crowd, taking in its noises, its chaos, its heterogeneity, its cosmopolitanism. Occasionally, he would narrate what he saw — surveying both his private self and the world at large — in the form of short essays for daily newspapers.*\n",
    "\n",
    "__The Death of the Cyberflâneur__, Evgeny Morozov, New York Times, Sunday Review,  February 4, 2012"
   ]
  },
  {
   "cell_type": "markdown",
   "metadata": {
    "slideshow": {
     "slide_type": "slide"
    }
   },
   "source": [
    "# APIs\n",
    "\n",
    "![](images/DDP_Explorer.png)"
   ]
  },
  {
   "cell_type": "markdown",
   "metadata": {
    "slideshow": {
     "slide_type": "slide"
    }
   },
   "source": [
    "## Using the APIs\n",
    "\n",
    "![](images/olihawkins_mnis.png)"
   ]
  },
  {
   "cell_type": "markdown",
   "metadata": {
    "slideshow": {
     "slide_type": "slide"
    }
   },
   "source": [
    "## Packages Make Life Easier (?)"
   ]
  },
  {
   "cell_type": "code",
   "execution_count": 6,
   "metadata": {},
   "outputs": [
    {
     "data": {
      "text/plain": [
       "{'@Dods_Id': '25790',\n",
       " '@Member_Id': '172',\n",
       " '@Pims_Id': '3572',\n",
       " 'Constituencies': {'Constituency': [{'@Id': '3506',\n",
       "    'Election': {'@Id': '377',\n",
       "     'Date': '2017-06-08T00:00:00',\n",
       "     'Name': '2017 General Election',\n",
       "     'Type': 'General Election'},\n",
       "    'EndDate': {'@xmlns:xsi': 'http://www.w3.org/2001/XMLSchema-instance',\n",
       "     '@xsi:nil': 'true'},\n",
       "    'EndReason': None,\n",
       "    'EntryType': 'Continuation',\n",
       "    'Name': 'Hackney North and Stoke Newington',\n",
       "    'Notes': 'Created at General Election',\n",
       "    'StartDate': '2017-06-08T00:00:00',\n",
       "    'SwearInOrder': '32',\n",
       "    'SwornInForename': None,\n",
       "    'SwornInMiddleNames': None,\n",
       "    'SwornInSurname': None,\n",
       "    'SwornInTitle': None},\n",
       "   {'@Id': '3506',\n",
       "    'Election': {'@Id': '369',\n",
       "     'Date': '2015-05-07T00:00:00',\n",
       "     'Name': '2015 General Election',\n",
       "     'Type': 'General Election'},\n",
       "    'EndDate': '2017-05-03T00:00:00',\n",
       "    'EndReason': 'General Election',\n",
       "    'EntryType': 'Continuation',\n",
       "    'Name': 'Hackney North and Stoke Newington',\n",
       "    'Notes': 'Created at General Election',\n",
       "    'StartDate': '2015-05-07T00:00:00',\n",
       "    'SwearInOrder': None,\n",
       "    'SwornInForename': None,\n",
       "    'SwornInMiddleNames': None,\n",
       "    'SwornInSurname': None,\n",
       "    'SwornInTitle': None},\n",
       "   {'@Id': '3506',\n",
       "    'Election': {'@Id': '19',\n",
       "     'Date': '2010-05-06T00:00:00',\n",
       "     'Name': '2010 General Election',\n",
       "     'Type': 'General Election'},\n",
       "    'EndDate': '2015-03-30T00:00:00',\n",
       "    'EndReason': 'General Election',\n",
       "    'EntryType': 'Continuation',\n",
       "    'Name': 'Hackney North and Stoke Newington',\n",
       "    'Notes': None,\n",
       "    'StartDate': '2010-05-06T00:00:00',\n",
       "    'SwearInOrder': '320',\n",
       "    'SwornInForename': 'Diane',\n",
       "    'SwornInMiddleNames': 'Julie',\n",
       "    'SwornInSurname': 'Abbott',\n",
       "    'SwornInTitle': None},\n",
       "   {'@Id': '1333',\n",
       "    'Election': {'@Id': '17',\n",
       "     'Date': '2005-05-05T00:00:00',\n",
       "     'Name': '2005 General Election',\n",
       "     'Type': 'General Election'},\n",
       "    'EndDate': '2010-05-06T00:00:00',\n",
       "    'EndReason': 'General Election',\n",
       "    'EntryType': 'Continuation',\n",
       "    'Name': 'Hackney North and Stoke Newington',\n",
       "    'Notes': None,\n",
       "    'StartDate': '2005-05-05T00:00:00',\n",
       "    'SwearInOrder': '109',\n",
       "    'SwornInForename': None,\n",
       "    'SwornInMiddleNames': None,\n",
       "    'SwornInSurname': None,\n",
       "    'SwornInTitle': None},\n",
       "   {'@Id': '1333',\n",
       "    'Election': {'@Id': '16',\n",
       "     'Date': '2001-06-07T00:00:00',\n",
       "     'Name': '2001 General Election',\n",
       "     'Type': 'General Election'},\n",
       "    'EndDate': '2005-05-05T00:00:00',\n",
       "    'EndReason': 'General Election',\n",
       "    'EntryType': 'Continuation',\n",
       "    'Name': 'Hackney North and Stoke Newington',\n",
       "    'Notes': None,\n",
       "    'StartDate': '2001-06-07T00:00:00',\n",
       "    'SwearInOrder': '153',\n",
       "    'SwornInForename': None,\n",
       "    'SwornInMiddleNames': None,\n",
       "    'SwornInSurname': None,\n",
       "    'SwornInTitle': None},\n",
       "   {'@Id': '1333',\n",
       "    'Election': {'@Id': '15',\n",
       "     'Date': '1997-05-01T00:00:00',\n",
       "     'Name': '1997 General Election',\n",
       "     'Type': 'General Election'},\n",
       "    'EndDate': '2001-06-07T00:00:00',\n",
       "    'EndReason': 'General Election',\n",
       "    'EntryType': 'Continuation',\n",
       "    'Name': 'Hackney North and Stoke Newington',\n",
       "    'Notes': None,\n",
       "    'StartDate': '1997-05-01T00:00:00',\n",
       "    'SwearInOrder': '0',\n",
       "    'SwornInForename': None,\n",
       "    'SwornInMiddleNames': None,\n",
       "    'SwornInSurname': None,\n",
       "    'SwornInTitle': None},\n",
       "   {'@Id': '1332',\n",
       "    'Election': {'@Id': '14',\n",
       "     'Date': '1992-04-09T00:00:00',\n",
       "     'Name': '1992 General Election',\n",
       "     'Type': 'General Election'},\n",
       "    'EndDate': '1997-05-01T00:00:00',\n",
       "    'EndReason': 'General Election',\n",
       "    'EntryType': 'Continuation',\n",
       "    'Name': 'Hackney North and Stoke Newington',\n",
       "    'Notes': None,\n",
       "    'StartDate': '1992-04-09T00:00:00',\n",
       "    'SwearInOrder': '0',\n",
       "    'SwornInForename': None,\n",
       "    'SwornInMiddleNames': None,\n",
       "    'SwornInSurname': None,\n",
       "    'SwornInTitle': None},\n",
       "   {'@Id': '1332',\n",
       "    'Election': {'@Id': '13',\n",
       "     'Date': '1987-06-11T00:00:00',\n",
       "     'Name': '1987 General Election',\n",
       "     'Type': 'General Election'},\n",
       "    'EndDate': '1992-04-09T00:00:00',\n",
       "    'EndReason': 'General Election',\n",
       "    'EntryType': 'First entry',\n",
       "    'Name': 'Hackney North and Stoke Newington',\n",
       "    'Notes': None,\n",
       "    'StartDate': '1987-06-11T00:00:00',\n",
       "    'SwearInOrder': '63',\n",
       "    'SwornInForename': None,\n",
       "    'SwornInMiddleNames': None,\n",
       "    'SwornInSurname': None,\n",
       "    'SwornInTitle': None}]},\n",
       " 'CurrentStatus': {'@Id': '0',\n",
       "  '@IsActive': 'True',\n",
       "  'Name': 'Current Member',\n",
       "  'Reason': None,\n",
       "  'StartDate': '2017-06-08T00:00:00'},\n",
       " 'DateOfBirth': '1953-09-27T00:00:00',\n",
       " 'DateOfDeath': {'@xmlns:xsi': 'http://www.w3.org/2001/XMLSchema-instance',\n",
       "  '@xsi:nil': 'true'},\n",
       " 'DisplayAs': 'Ms Diane Abbott',\n",
       " 'FullTitle': 'Rt Hon Diane Abbott MP',\n",
       " 'Gender': 'F',\n",
       " 'House': 'Commons',\n",
       " 'HouseEndDate': {'@xmlns:xsi': 'http://www.w3.org/2001/XMLSchema-instance',\n",
       "  '@xsi:nil': 'true'},\n",
       " 'HouseMemberships': {'HouseMembership': {'EndDate': {'@xmlns:xsi': 'http://www.w3.org/2001/XMLSchema-instance',\n",
       "    '@xsi:nil': 'true'},\n",
       "   'EndNotes': None,\n",
       "   'EndReason': None,\n",
       "   'House': 'Commons',\n",
       "   'StartDate': '1987-06-11T00:00:00'}},\n",
       " 'HouseStartDate': '1987-06-11T00:00:00',\n",
       " 'LayingMinisterName': None,\n",
       " 'ListAs': 'Abbott, Ms Diane',\n",
       " 'MemberFrom': 'Hackney North and Stoke Newington',\n",
       " 'Parties': {'Party': [{'@Id': '15',\n",
       "    'EndDate': {'@xmlns:xsi': 'http://www.w3.org/2001/XMLSchema-instance',\n",
       "     '@xsi:nil': 'true'},\n",
       "    'Name': 'Labour',\n",
       "    'Note': 'Created at General Election',\n",
       "    'SitsOppositeSideToParty': 'False',\n",
       "    'StartDate': '2017-06-08T00:00:00',\n",
       "    'SubType': None},\n",
       "   {'@Id': '15',\n",
       "    'EndDate': '2017-05-03T00:00:00',\n",
       "    'Name': 'Labour',\n",
       "    'Note': 'Dissolution of Parliament',\n",
       "    'SitsOppositeSideToParty': 'False',\n",
       "    'StartDate': '2015-05-07T00:00:00',\n",
       "    'SubType': None},\n",
       "   {'@Id': '15',\n",
       "    'EndDate': '2015-03-30T00:00:00',\n",
       "    'Name': 'Labour',\n",
       "    'Note': 'Dissolution of Parliament',\n",
       "    'SitsOppositeSideToParty': 'False',\n",
       "    'StartDate': '1987-06-11T00:00:00',\n",
       "    'SubType': None}]},\n",
       " 'Party': {'#text': 'Labour', '@Id': '15'}}"
      ]
     },
     "execution_count": 6,
     "metadata": {},
     "output_type": "execute_result"
    }
   ],
   "source": [
    "import mnis\n",
    "import datetime\n",
    "\n",
    "# Create a date for the analysis\n",
    "d = datetime.date.today()\n",
    "\n",
    "# Download the full data for MPs serving on the given date as a list\n",
    "mnis.getCommonsMembersOn(d)[0]"
   ]
  },
  {
   "cell_type": "markdown",
   "metadata": {
    "slideshow": {
     "slide_type": "slide"
    }
   },
   "source": [
    "## Creating Custom `pandas` Data Reader Packages"
   ]
  },
  {
   "cell_type": "code",
   "execution_count": 14,
   "metadata": {},
   "outputs": [],
   "source": [
    "import pd_datareader_nhs.nhs_digital_ods as ods"
   ]
  },
  {
   "cell_type": "code",
   "execution_count": 15,
   "metadata": {
    "slideshow": {
     "slide_type": "fragment"
    }
   },
   "outputs": [
    {
     "data": {
      "text/html": [
       "<div>\n",
       "<style>\n",
       "    .dataframe thead tr:only-child th {\n",
       "        text-align: right;\n",
       "    }\n",
       "\n",
       "    .dataframe thead th {\n",
       "        text-align: left;\n",
       "    }\n",
       "\n",
       "    .dataframe tbody tr th {\n",
       "        vertical-align: top;\n",
       "    }\n",
       "</style>\n",
       "<table border=\"1\" class=\"dataframe\">\n",
       "  <thead>\n",
       "    <tr style=\"text-align: right;\">\n",
       "      <th></th>\n",
       "      <th>Dataset</th>\n",
       "      <th>Date</th>\n",
       "      <th>Label</th>\n",
       "      <th>Period</th>\n",
       "      <th>Type</th>\n",
       "      <th>URL</th>\n",
       "    </tr>\n",
       "  </thead>\n",
       "  <tbody>\n",
       "    <tr>\n",
       "      <th>45</th>\n",
       "      <td>eprison</td>\n",
       "      <td>25 Aug 2017</td>\n",
       "      <td>Prisons in England and Wales</td>\n",
       "      <td>Quarterly</td>\n",
       "      <td>non-nhs</td>\n",
       "      <td>https://digital.nhs.uk/media/401/eprison/zip/e...</td>\n",
       "    </tr>\n",
       "  </tbody>\n",
       "</table>\n",
       "</div>"
      ],
      "text/plain": [
       "    Dataset         Date                         Label     Period     Type  \\\n",
       "45  eprison  25 Aug 2017  Prisons in England and Wales  Quarterly  non-nhs   \n",
       "\n",
       "                                                  URL  \n",
       "45  https://digital.nhs.uk/media/401/eprison/zip/e...  "
      ]
     },
     "execution_count": 15,
     "metadata": {},
     "output_type": "execute_result"
    }
   ],
   "source": [
    "ods.search(string='Prison', field='Label')"
   ]
  },
  {
   "cell_type": "code",
   "execution_count": 12,
   "metadata": {
    "slideshow": {
     "slide_type": "subslide"
    }
   },
   "outputs": [
    {
     "data": {
      "text/html": [
       "<div>\n",
       "<style>\n",
       "    .dataframe thead tr:only-child th {\n",
       "        text-align: right;\n",
       "    }\n",
       "\n",
       "    .dataframe thead th {\n",
       "        text-align: left;\n",
       "    }\n",
       "\n",
       "    .dataframe tbody tr th {\n",
       "        vertical-align: top;\n",
       "    }\n",
       "</style>\n",
       "<table border=\"1\" class=\"dataframe\">\n",
       "  <thead>\n",
       "    <tr style=\"text-align: right;\">\n",
       "      <th></th>\n",
       "      <th>Organisation Code</th>\n",
       "      <th>Name</th>\n",
       "      <th>Address Line 1</th>\n",
       "      <th>Address Line 2</th>\n",
       "      <th>Address Line 3</th>\n",
       "      <th>Address Line 4</th>\n",
       "      <th>Address Line 5</th>\n",
       "      <th>Postcode</th>\n",
       "      <th>Open Date</th>\n",
       "      <th>Close Date</th>\n",
       "      <th>Contact Telephone Number</th>\n",
       "      <th>Amended Record Indicator</th>\n",
       "    </tr>\n",
       "  </thead>\n",
       "  <tbody>\n",
       "    <tr>\n",
       "      <th>0</th>\n",
       "      <td>YDE01</td>\n",
       "      <td>HMP NORTHUMBERLAND</td>\n",
       "      <td>ACKLINGTON</td>\n",
       "      <td>NaN</td>\n",
       "      <td>NaN</td>\n",
       "      <td>MORPETH</td>\n",
       "      <td>NORTHUMBERLAND</td>\n",
       "      <td>NE65 9XG</td>\n",
       "      <td>2003-04-01</td>\n",
       "      <td>NaT</td>\n",
       "      <td>NaN</td>\n",
       "      <td>0</td>\n",
       "    </tr>\n",
       "    <tr>\n",
       "      <th>1</th>\n",
       "      <td>YDE02</td>\n",
       "      <td>HMP ISLE OF WIGHT</td>\n",
       "      <td>CLISSOLD ROAD</td>\n",
       "      <td>NaN</td>\n",
       "      <td>NaN</td>\n",
       "      <td>NEWPORT</td>\n",
       "      <td>ISLE OF WIGHT</td>\n",
       "      <td>PO30 5RS</td>\n",
       "      <td>2003-04-01</td>\n",
       "      <td>NaT</td>\n",
       "      <td>NaN</td>\n",
       "      <td>0</td>\n",
       "    </tr>\n",
       "    <tr>\n",
       "      <th>2</th>\n",
       "      <td>YDE03</td>\n",
       "      <td>HMP ALTCOURSE</td>\n",
       "      <td>HIGHER LANE</td>\n",
       "      <td>FAZAKERLEY</td>\n",
       "      <td>NaN</td>\n",
       "      <td>LIVERPOOL</td>\n",
       "      <td>MERSEYSIDE</td>\n",
       "      <td>L9 7LH</td>\n",
       "      <td>2003-04-01</td>\n",
       "      <td>NaT</td>\n",
       "      <td>NaN</td>\n",
       "      <td>0</td>\n",
       "    </tr>\n",
       "    <tr>\n",
       "      <th>3</th>\n",
       "      <td>YDE05</td>\n",
       "      <td>HMP BEDFORD</td>\n",
       "      <td>ST. LOYES STREET</td>\n",
       "      <td>NaN</td>\n",
       "      <td>NaN</td>\n",
       "      <td>BEDFORD</td>\n",
       "      <td>BEDFORDSHIRE</td>\n",
       "      <td>MK40 1HG</td>\n",
       "      <td>2003-04-01</td>\n",
       "      <td>NaT</td>\n",
       "      <td>NaN</td>\n",
       "      <td>0</td>\n",
       "    </tr>\n",
       "    <tr>\n",
       "      <th>4</th>\n",
       "      <td>YDE06</td>\n",
       "      <td>HMP BELMARSH</td>\n",
       "      <td>1 BELMARSH ROAD</td>\n",
       "      <td>WESTERN WAY</td>\n",
       "      <td>THAMESMEAD</td>\n",
       "      <td>LONDON</td>\n",
       "      <td>GREATER LONDON</td>\n",
       "      <td>SE28 0EB</td>\n",
       "      <td>2003-04-01</td>\n",
       "      <td>NaT</td>\n",
       "      <td>NaN</td>\n",
       "      <td>0</td>\n",
       "    </tr>\n",
       "  </tbody>\n",
       "</table>\n",
       "</div>"
      ],
      "text/plain": [
       "  Organisation Code                Name    Address Line 1 Address Line 2  \\\n",
       "0             YDE01  HMP NORTHUMBERLAND        ACKLINGTON            NaN   \n",
       "1             YDE02   HMP ISLE OF WIGHT     CLISSOLD ROAD            NaN   \n",
       "2             YDE03       HMP ALTCOURSE       HIGHER LANE     FAZAKERLEY   \n",
       "3             YDE05         HMP BEDFORD  ST. LOYES STREET            NaN   \n",
       "4             YDE06        HMP BELMARSH   1 BELMARSH ROAD    WESTERN WAY   \n",
       "\n",
       "  Address Line 3 Address Line 4  Address Line 5  Postcode  Open Date  \\\n",
       "0            NaN        MORPETH  NORTHUMBERLAND  NE65 9XG 2003-04-01   \n",
       "1            NaN        NEWPORT   ISLE OF WIGHT  PO30 5RS 2003-04-01   \n",
       "2            NaN      LIVERPOOL      MERSEYSIDE    L9 7LH 2003-04-01   \n",
       "3            NaN        BEDFORD    BEDFORDSHIRE  MK40 1HG 2003-04-01   \n",
       "4     THAMESMEAD         LONDON  GREATER LONDON  SE28 0EB 2003-04-01   \n",
       "\n",
       "  Close Date  Contact Telephone Number  Amended Record Indicator  \n",
       "0        NaT                       NaN                         0  \n",
       "1        NaT                       NaN                         0  \n",
       "2        NaT                       NaN                         0  \n",
       "3        NaT                       NaN                         0  \n",
       "4        NaT                       NaN                         0  "
      ]
     },
     "execution_count": 12,
     "metadata": {},
     "output_type": "execute_result"
    }
   ],
   "source": [
    "dd=ods.download('eprison')\n",
    "dd.head()"
   ]
  },
  {
   "cell_type": "markdown",
   "metadata": {
    "slideshow": {
     "slide_type": "slide"
    }
   },
   "source": [
    "# Package Issues"
   ]
  },
  {
   "cell_type": "markdown",
   "metadata": {
    "slideshow": {
     "slide_type": "fragment"
    }
   },
   "source": [
    "- development"
   ]
  },
  {
   "cell_type": "markdown",
   "metadata": {
    "slideshow": {
     "slide_type": "fragment"
    }
   },
   "source": [
    "- building up example and reusable recipes"
   ]
  },
  {
   "cell_type": "markdown",
   "metadata": {
    "slideshow": {
     "slide_type": "fragment"
    }
   },
   "source": [
    "- ownership and production quality (participation in development)"
   ]
  },
  {
   "cell_type": "markdown",
   "metadata": {
    "slideshow": {
     "slide_type": "slide"
    }
   },
   "source": [
    "## Notebooks as Open / Shared Recipes\n",
    "\n",
    "![](images/github_parlihacks.png)"
   ]
  },
  {
   "cell_type": "markdown",
   "metadata": {
    "slideshow": {
     "slide_type": "slide"
    }
   },
   "source": [
    "# But How Do I Share *Working* Examples?"
   ]
  },
  {
   "cell_type": "markdown",
   "metadata": {
    "slideshow": {
     "slide_type": "fragment"
    }
   },
   "source": [
    "![](images/parlihacks_binder.png)"
   ]
  },
  {
   "cell_type": "markdown",
   "metadata": {
    "slideshow": {
     "slide_type": "slide"
    }
   },
   "source": [
    "## BinderHub Build Sequence\n",
    "\n",
    "*\"[P]hilosophically similar to Heroku Build Packs\"*"
   ]
  },
  {
   "cell_type": "markdown",
   "metadata": {
    "slideshow": {
     "slide_type": "subslide"
    }
   },
   "source": [
    "- `requirements.txt`\n",
    "  - python packages\n",
    "- `environment.yml`\n",
    "  - conda environment specification\n",
    "-  `apt.txt`\n",
    "  - debian packages that should be installed (latest version of Ubuntu)"
   ]
  },
  {
   "cell_type": "markdown",
   "metadata": {
    "slideshow": {
     "slide_type": "subslide"
    }
   },
   "source": [
    "- `postBuild`\n",
    "  - arbitrary commands to be run after the whole repository has been built\n",
    "- `REQUIRE`\n",
    "  - Julia packages\n",
    "- `Dockerfile`\n",
    "  - treated as a regular Dockerfile. __The presence of a Dockerfile will cause all other building behavior to not be triggered.__"
   ]
  },
  {
   "cell_type": "markdown",
   "metadata": {
    "slideshow": {
     "slide_type": "slide"
    }
   },
   "source": [
    "## Building a Local Docker Image From a Github Repository"
   ]
  },
  {
   "cell_type": "markdown",
   "metadata": {
    "slideshow": {
     "slide_type": "-"
    }
   },
   "source": [
    "```bash\n",
    "pip3 install jupyter-repo2docker\n",
    "\n",
    "jupyter-repo2docker --image-name psychemedia/parlihacks --no-run https://github.com/psychemedia/parlihacks\n",
    "\n",
    "\n",
    "docker push psychemedia/parlihacks\n",
    "```"
   ]
  },
  {
   "cell_type": "markdown",
   "metadata": {},
   "source": [
    "## Creating Simple Service APIs"
   ]
  },
  {
   "cell_type": "markdown",
   "metadata": {
    "slideshow": {
     "slide_type": "fragment"
    }
   },
   "source": [
    "In terminal:\n",
    " \n",
    "```\n",
    "jupyter kernelgateway --KernelGatewayApp.api='kernel_gateway.notebook_http' --KernelGatewayApp.seed_uri='./SimpleAPI2.ipynb' --port 8899\n",
    "```"
   ]
  },
  {
   "cell_type": "code",
   "execution_count": 24,
   "metadata": {
    "slideshow": {
     "slide_type": "fragment"
    }
   },
   "outputs": [
    {
     "data": {
      "text/plain": [
       "{'result': [{'id': '5', 'name': 'bobbie', 'role': 'worker'},\n",
       "  {'id': '7', 'name': 'sam', 'role': 'worker'}]}"
      ]
     },
     "execution_count": 24,
     "metadata": {},
     "output_type": "execute_result"
    }
   ],
   "source": [
    "import requests\n",
    "requests.get('http://127.0.0.1:8899/demo/role/worker').json()"
   ]
  },
  {
   "cell_type": "code",
   "execution_count": 26,
   "metadata": {
    "slideshow": {
     "slide_type": "subslide"
    }
   },
   "outputs": [
    {
     "data": {
      "text/plain": [
       "{'result': [{'id': '3', 'name': 'jo', 'role': 'boss'}]}"
      ]
     },
     "execution_count": 26,
     "metadata": {},
     "output_type": "execute_result"
    }
   ],
   "source": [
    "requests.get('http://127.0.0.1:8899/demo/name/jo').json()"
   ]
  },
  {
   "cell_type": "markdown",
   "metadata": {
    "slideshow": {
     "slide_type": "slide"
    }
   },
   "source": [
    "## Possible DIY Service Types"
   ]
  },
  {
   "cell_type": "markdown",
   "metadata": {
    "slideshow": {
     "slide_type": "fragment"
    }
   },
   "source": [
    "- *data servers*: for example, API defined against a CSV file or simple SQLite3 database"
   ]
  },
  {
   "cell_type": "markdown",
   "metadata": {
    "slideshow": {
     "slide_type": "fragment"
    }
   },
   "source": [
    "- *known entity taggers*: for example, identify members mentioned within a text"
   ]
  },
  {
   "cell_type": "markdown",
   "metadata": {
    "slideshow": {
     "slide_type": "fragment"
    }
   },
   "source": [
    "- *classifiers*: for example, attempt to associate a text with a particular topic, or subject expert who can best handle a particular question, relative to a particular trained classifier / model"
   ]
  },
  {
   "cell_type": "markdown",
   "metadata": {
    "slideshow": {
     "slide_type": "slide"
    }
   },
   "source": [
    "## Reporting Patterns\n",
    "\n",
    "- generate report for a single MP about their constituency\n",
    "    - as a standalone item\n",
    "    - in comparison to all other consituencies nationally\n",
    "    - in comparison to a subset of other constitutencies eg neighbouring, similar"
   ]
  },
  {
   "cell_type": "markdown",
   "metadata": {
    "slideshow": {
     "slide_type": "fragment"
    }
   },
   "source": [
    "- generate a report over all consituencies nationally"
   ]
  },
  {
   "cell_type": "markdown",
   "metadata": {
    "slideshow": {
     "slide_type": "fragment"
    }
   },
   "source": [
    "- generate a report of wards within a particular constituency"
   ]
  },
  {
   "cell_type": "code",
   "execution_count": null,
   "metadata": {},
   "outputs": [],
   "source": []
  }
 ],
 "metadata": {
  "celltoolbar": "Slideshow",
  "kernelspec": {
   "display_name": "Python 3",
   "language": "python",
   "name": "python3"
  },
  "language_info": {
   "codemirror_mode": {
    "name": "ipython",
    "version": 3
   },
   "file_extension": ".py",
   "mimetype": "text/x-python",
   "name": "python",
   "nbconvert_exporter": "python",
   "pygments_lexer": "ipython3",
   "version": "3.6.1"
  }
 },
 "nbformat": 4,
 "nbformat_minor": 2
}
