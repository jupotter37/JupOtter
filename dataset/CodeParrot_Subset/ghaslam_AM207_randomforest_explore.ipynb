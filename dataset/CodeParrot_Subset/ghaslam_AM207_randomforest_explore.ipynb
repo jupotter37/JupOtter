{
 "cells": [
  {
   "cell_type": "markdown",
   "metadata": {},
   "source": [
    "###Random Forests\n",
    "\n",
    "Random forests are a type of machine learning technique in which an ensemble of decision trees are built and the predictions of the decision tree are averaged or the majority vote is taken as the final prediction. Each decision tree is trained with some stochasticity to decrease bias at the cost of variance.\n",
    "\n",
    "We do basic feature extraction in which we only keep 10 out of 39 features and convert these into 1-of-k encoding. Even with this basic feature extraction we get a prediction accuracy of 79%. \n",
    "\n",
    "By including more features and performing some more advanced feature engineering, we can reach prediction accuracies up to 83% (not shown in this notebook)."
   ]
  },
  {
   "cell_type": "code",
   "execution_count": 1,
   "metadata": {
    "collapsed": true
   },
   "outputs": [],
   "source": [
    "from sklearn.tree import DecisionTreeClassifier as Tree\n",
    "from sklearn.ensemble import RandomForestClassifier as Forest\n",
    "import numpy as np\n",
    "import pandas as pd\n",
    "import matplotlib.pyplot as plt\n",
    "import sklearn\n",
    "%matplotlib qt"
   ]
  },
  {
   "cell_type": "code",
   "execution_count": 4,
   "metadata": {
    "collapsed": false
   },
   "outputs": [],
   "source": [
    "train_data = pd.read_csv(\"WaterPump-training-values.csv\")\n",
    "train_labels = pd.read_csv(\"WaterPump-training-labels.csv\")\n",
    "N = train_data.shape[0]"
   ]
  },
  {
   "cell_type": "code",
   "execution_count": 23,
   "metadata": {
    "collapsed": false
   },
   "outputs": [],
   "source": [
    "#picking features that we want to keep\n",
    "features = ['longitude','latitude','gps_height','population','construction_year','water_quality','quantity','region_code',\n",
    "           'source','waterpoint_type']\n",
    "train = train_data[features]\n",
    "#converting categorical features to 1-of-k representation\n",
    "train1 = pd.concat([train_data, pd.get_dummies(train['water_quality']), pd.get_dummies(train['quantity']), \n",
    "                    pd.get_dummies(train['source']), pd.get_dummies(train['waterpoint_type'])], axis=1)\n",
    "#removing the categorical features after we converted them\n",
    "train1 = train1.drop(['water_quality','quantity','region_code', 'source', 'waterpoint_type'], axis=1, inPlace=True)"
   ]
  },
  {
   "cell_type": "code",
   "execution_count": 24,
   "metadata": {
    "collapsed": false
   },
   "outputs": [],
   "source": [
    "#separating dataset into training and testing for cross-validation\n",
    "test_idx = np.random.uniform(0, 1, len(train1)) <= 0.9\n",
    "train = train1[test_idx==True]\n",
    "trainLabels = train_labels[test_idx==True]\n",
    "test = train1[test_idx==False]\n",
    "testLabels = train_labels[test_idx==False]"
   ]
  },
  {
   "cell_type": "code",
   "execution_count": 26,
   "metadata": {
    "collapsed": false
   },
   "outputs": [
    {
     "data": {
      "text/plain": [
       "RandomForestClassifier(bootstrap=True, compute_importances=None,\n",
       "            criterion='gini', max_depth=None, max_features='auto',\n",
       "            max_leaf_nodes=None, min_density=None, min_samples_leaf=1,\n",
       "            min_samples_split=2, n_estimators=100, n_jobs=1,\n",
       "            oob_score=False, random_state=None, verbose=0)"
      ]
     },
     "execution_count": 26,
     "metadata": {},
     "output_type": "execute_result"
    }
   ],
   "source": [
    "#training the random forest\n",
    "forest = Forest(n_estimators=100,criterion='gini')\n",
    "forest.fit(train,trainLabels['status_group'])"
   ]
  },
  {
   "cell_type": "code",
   "execution_count": 29,
   "metadata": {
    "collapsed": false
   },
   "outputs": [
    {
     "name": "stdout",
     "output_type": "stream",
     "text": [
      "0.790258449304\n"
     ]
    }
   ],
   "source": [
    "#making predictions on the withheld data\n",
    "preds = forest.predict(test)\n",
    "accuracy = np.where(preds==testLabels['status_group'], 1, 0).sum() / float(len(test))\n",
    "#print \"Neighbors: %d, Accuracy: %3f\" % (n, accuracy)\n",
    "print accuracy"
   ]
  },
  {
   "cell_type": "markdown",
   "metadata": {},
   "source": [
    "Above is the prediction accuracy of 79%!\n",
    "\n",
    "Below we can look at which features have the most predictive power. These tend to be nearer to the root of the decision trees. We can also steal these results for our model!"
   ]
  },
  {
   "cell_type": "code",
   "execution_count": 33,
   "metadata": {
    "collapsed": false
   },
   "outputs": [],
   "source": [
    "#importance of each data feature that we kept\n",
    "importances = zip(forest.feature_importances_,list(train.columns.values))"
   ]
  },
  {
   "cell_type": "code",
   "execution_count": 35,
   "metadata": {
    "collapsed": false
   },
   "outputs": [
    {
     "data": {
      "text/plain": [
       "[(4.157248750361075e-05, 'dam'),\n",
       " (8.5802760153608722e-05, 'fluoride abandoned'),\n",
       " (0.00041373472890740434, 'unknown'),\n",
       " (0.00045397805951696829, 'cattle trough'),\n",
       " (0.00065079516735029065, 'fluoride'),\n",
       " (0.00079645670256850995, 'other'),\n",
       " (0.001171466300827778, 'salty abandoned'),\n",
       " (0.0012568216446781314, 'hand dtw'),\n",
       " (0.0012682113324976728, 'coloured'),\n",
       " (0.0014836707289752279, 'milky'),\n",
       " (0.0015663430362202501, 'improved spring'),\n",
       " (0.0021102186909650288, 'dam'),\n",
       " (0.0022838528373634297, 'unknown'),\n",
       " (0.0037050525654342709, 'salty'),\n",
       " (0.0037206671572899861, 'lake'),\n",
       " (0.0041189533059318925, 'rainwater harvesting'),\n",
       " (0.0057334878694563027, 'river'),\n",
       " (0.0065885452857120906, 'soft'),\n",
       " (0.0068209060906524446, 'seasonal'),\n",
       " (0.0070876581603355419, 'machine dbh'),\n",
       " (0.0086162268978782607, 'shallow well'),\n",
       " (0.0088090275722504281, 'communal standpipe multiple'),\n",
       " (0.0088500016424302025, 'spring'),\n",
       " (0.0088694981054384843, 'unknown'),\n",
       " (0.013998056932112398, 'insufficient'),\n",
       " (0.014753203455023909, 'communal standpipe'),\n",
       " (0.016176880044451083, 'hand pump'),\n",
       " (0.029274129586423212, 'enough'),\n",
       " (0.042610336816350937, 'other'),\n",
       " (0.070824578713865799, 'population'),\n",
       " (0.080924359030801168, 'dry'),\n",
       " (0.083194269443448848, 'construction_year'),\n",
       " (0.10541471600260641, 'gps_height'),\n",
       " (0.22798973110441112, 'longitude'),\n",
       " (0.22833678974016725, 'latitude')]"
      ]
     },
     "execution_count": 35,
     "metadata": {},
     "output_type": "execute_result"
    }
   ],
   "source": [
    "sorted(importances,key=lambda x: x[0])"
   ]
  },
  {
   "cell_type": "code",
   "execution_count": null,
   "metadata": {
    "collapsed": true
   },
   "outputs": [],
   "source": []
  }
 ],
 "metadata": {
  "kernelspec": {
   "display_name": "Python 2",
   "language": "python",
   "name": "python2"
  },
  "language_info": {
   "codemirror_mode": {
    "name": "ipython",
    "version": 2
   },
   "file_extension": ".py",
   "mimetype": "text/x-python",
   "name": "python",
   "nbconvert_exporter": "python",
   "pygments_lexer": "ipython2",
   "version": "2.7.8"
  }
 },
 "nbformat": 4,
 "nbformat_minor": 0
}
