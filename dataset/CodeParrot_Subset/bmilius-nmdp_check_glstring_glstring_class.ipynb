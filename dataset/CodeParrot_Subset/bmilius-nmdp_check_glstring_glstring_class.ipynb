{
 "cells": [
  {
   "cell_type": "markdown",
   "metadata": {},
   "source": [
    "# glstring\n",
    "## examples using the GlString class"
   ]
  },
  {
   "cell_type": "code",
   "execution_count": 1,
   "metadata": {
    "collapsed": false,
    "deletable": true,
    "editable": true
   },
   "outputs": [
    {
     "name": "stdout",
     "output_type": "stream",
     "text": [
      "gls = HLA-A*01:01/HLA-A*01:02+HLA-A*24:02|HLA-A*01:03+HLA-A*24:03^HLA-B*08:01+HLA-B*44:01/HLA-B*44:02^HLA-C*01:02^HLA-DRB5*01:01~HLA-DRB1*03:01+HLA-DRB1*04:07:01/HLA-DRB1*04:92\n",
      "ver = 3.23.0\n"
     ]
    }
   ],
   "source": [
    "from glstring.glstring import *\n",
    "\n",
    "gls = (\"HLA-A*01:01/HLA-A*01:02+HLA-A*24:02|HLA-A*01:03+HLA-A*24:03^\"\n",
    " \"HLA-B*08:01+HLA-B*44:01/HLA-B*44:02^\"\n",
    " \"HLA-C*01:02^\"\n",
    " \"HLA-DRB5*01:01~HLA-DRB1*03:01+HLA-DRB1*04:07:01/HLA-DRB1*04:92\")\n",
    "\n",
    "ver = \"3.23.0\"\n",
    "\n",
    "print('gls =', gls)\n",
    "print('ver =', ver)"
   ]
  },
  {
   "cell_type": "code",
   "execution_count": 2,
   "metadata": {
    "collapsed": false,
    "deletable": true,
    "editable": true
   },
   "outputs": [
    {
     "name": "stdout",
     "output_type": "stream",
     "text": [
      "HLA-A*01:01/HLA-A*01:02+HLA-A*24:02|HLA-A*01:03+HLA-A*24:03^HLA-B*08:01+HLA-B*44:01/HLA-B*44:02^HLA-C*01:02^HLA-DRB5*01:01~HLA-DRB1*03:01+HLA-DRB1*04:07:01/HLA-DRB1*04:92\n"
     ]
    }
   ],
   "source": [
    "g = GlString(gls, ver)\n",
    "print(g.gls)"
   ]
  },
  {
   "cell_type": "code",
   "execution_count": 3,
   "metadata": {
    "collapsed": false,
    "deletable": true,
    "editable": true
   },
   "outputs": [
    {
     "name": "stdout",
     "output_type": "stream",
     "text": [
      "3.23.0\n"
     ]
    }
   ],
   "source": [
    "print(g.ver)"
   ]
  },
  {
   "cell_type": "code",
   "execution_count": 4,
   "metadata": {
    "collapsed": false,
    "deletable": true,
    "editable": true
   },
   "outputs": [
    {
     "data": {
      "text/plain": [
       "[GlString('HLA-A*01:01/HLA-A*01:02+HLA-A*24:02|HLA-A*01:03+HLA-A*24:03', '3.23.0'),\n",
       " GlString('HLA-B*08:01+HLA-B*44:01/HLA-B*44:02', '3.23.0'),\n",
       " GlString('HLA-C*01:02', '3.23.0'),\n",
       " GlString('HLA-DRB5*01:01~HLA-DRB1*03:01+HLA-DRB1*04:07:01/HLA-DRB1*04:92', '3.23.0')]"
      ]
     },
     "execution_count": 4,
     "metadata": {},
     "output_type": "execute_result"
    }
   ],
   "source": [
    "g.locus_blocks()"
   ]
  },
  {
   "cell_type": "code",
   "execution_count": 5,
   "metadata": {
    "collapsed": false,
    "deletable": true,
    "editable": true
   },
   "outputs": [
    {
     "name": "stdout",
     "output_type": "stream",
     "text": [
      "HLA-A*01:01/HLA-A*01:02+HLA-A*24:02|HLA-A*01:03+HLA-A*24:03\n",
      "HLA-B*08:01+HLA-B*44:01/HLA-B*44:02\n",
      "HLA-C*01:02\n",
      "HLA-DRB5*01:01~HLA-DRB1*03:01+HLA-DRB1*04:07:01/HLA-DRB1*04:92\n"
     ]
    }
   ],
   "source": [
    "for locus_block in g.locus_blocks():\n",
    "    print(locus_block.gls)"
   ]
  },
  {
   "cell_type": "code",
   "execution_count": 6,
   "metadata": {
    "collapsed": false,
    "deletable": true,
    "editable": true
   },
   "outputs": [
    {
     "data": {
      "text/plain": [
       "'HLA-A*01:01/HLA-A*01:02+HLA-A*24:02|HLA-A*01:03+HLA-A*24:03'"
      ]
     },
     "execution_count": 6,
     "metadata": {},
     "output_type": "execute_result"
    }
   ],
   "source": [
    "g.locus_blocks()[0].gls"
   ]
  },
  {
   "cell_type": "code",
   "execution_count": 7,
   "metadata": {
    "collapsed": false,
    "deletable": true,
    "editable": true
   },
   "outputs": [
    {
     "data": {
      "text/plain": [
       "'3.23.0'"
      ]
     },
     "execution_count": 7,
     "metadata": {},
     "output_type": "execute_result"
    }
   ],
   "source": [
    "g.locus_blocks()[0].ver"
   ]
  },
  {
   "cell_type": "code",
   "execution_count": 8,
   "metadata": {
    "collapsed": false,
    "deletable": true,
    "editable": true
   },
   "outputs": [
    {
     "data": {
      "text/plain": [
       "[GlString('HLA-A*01:01/HLA-A*01:02+HLA-A*24:02', '3.23.0'),\n",
       " GlString('HLA-A*01:03+HLA-A*24:03', '3.23.0'),\n",
       " GlString('HLA-B*08:01+HLA-B*44:01/HLA-B*44:02', '3.23.0'),\n",
       " GlString('HLA-DRB5*01:01~HLA-DRB1*03:01+HLA-DRB1*04:07:01/HLA-DRB1*04:92', '3.23.0')]"
      ]
     },
     "execution_count": 8,
     "metadata": {},
     "output_type": "execute_result"
    }
   ],
   "source": [
    "g.genotypes()"
   ]
  },
  {
   "cell_type": "code",
   "execution_count": 9,
   "metadata": {
    "collapsed": false
   },
   "outputs": [
    {
     "name": "stdout",
     "output_type": "stream",
     "text": [
      "HLA-A*01:01/HLA-A*01:02+HLA-A*24:02\n",
      "HLA-A*01:03+HLA-A*24:03\n",
      "HLA-B*08:01+HLA-B*44:01/HLA-B*44:02\n",
      "HLA-DRB5*01:01~HLA-DRB1*03:01+HLA-DRB1*04:07:01/HLA-DRB1*04:92\n"
     ]
    }
   ],
   "source": [
    "for genotype in g.genotypes():\n",
    "    print(genotype.gls)"
   ]
  },
  {
   "cell_type": "code",
   "execution_count": 10,
   "metadata": {
    "collapsed": false,
    "deletable": true,
    "editable": true
   },
   "outputs": [
    {
     "name": "stdout",
     "output_type": "stream",
     "text": [
      "----------------------------------------\n",
      "HLA-A*01:01/HLA-A*01:02+HLA-A*24:02|HLA-A*01:03+HLA-A*24:03\n",
      "  > HLA-A*01:01/HLA-A*01:02+HLA-A*24:02\n",
      "  > HLA-A*01:03+HLA-A*24:03\n",
      "----------------------------------------\n",
      "HLA-B*08:01+HLA-B*44:01/HLA-B*44:02\n",
      "  > HLA-B*08:01+HLA-B*44:01/HLA-B*44:02\n",
      "----------------------------------------\n",
      "HLA-C*01:02\n",
      "----------------------------------------\n",
      "HLA-DRB5*01:01~HLA-DRB1*03:01+HLA-DRB1*04:07:01/HLA-DRB1*04:92\n",
      "  > HLA-DRB5*01:01~HLA-DRB1*03:01+HLA-DRB1*04:07:01/HLA-DRB1*04:92\n"
     ]
    }
   ],
   "source": [
    "for locus_block in g.locus_blocks():\n",
    "    print('-' * 40)\n",
    "    print(locus_block.gls)\n",
    "    for genotype in locus_block.genotypes():\n",
    "        print('  >', genotype.gls)"
   ]
  },
  {
   "cell_type": "code",
   "execution_count": 11,
   "metadata": {
    "collapsed": false
   },
   "outputs": [
    {
     "name": "stdout",
     "output_type": "stream",
     "text": [
      "----------------------------------------\n",
      "HLA-A*01:01/HLA-A*01:02+HLA-A*24:02|HLA-A*01:03+HLA-A*24:03\n",
      "> HLA-A*01:01/HLA-A*01:02+HLA-A*24:02\n",
      "  > HLA-A*01:01/HLA-A*01:02\n",
      "  > HLA-A*24:02\n",
      "> HLA-A*01:03+HLA-A*24:03\n",
      "  > HLA-A*01:03\n",
      "  > HLA-A*24:03\n",
      "----------------------------------------\n",
      "HLA-B*08:01+HLA-B*44:01/HLA-B*44:02\n",
      "> HLA-B*08:01+HLA-B*44:01/HLA-B*44:02\n",
      "  > HLA-B*08:01\n",
      "  > HLA-B*44:01/HLA-B*44:02\n",
      "----------------------------------------\n",
      "HLA-C*01:02\n",
      "----------------------------------------\n",
      "HLA-DRB5*01:01~HLA-DRB1*03:01+HLA-DRB1*04:07:01/HLA-DRB1*04:92\n",
      "> HLA-DRB5*01:01~HLA-DRB1*03:01+HLA-DRB1*04:07:01/HLA-DRB1*04:92\n",
      "  > HLA-DRB5*01:01~HLA-DRB1*03:01\n",
      "  > HLA-DRB1*04:07:01/HLA-DRB1*04:92\n"
     ]
    }
   ],
   "source": [
    "for locus_block in g.locus_blocks():\n",
    "    print('-'*40)\n",
    "    print(locus_block.gls)\n",
    "    for genotype in locus_block.genotypes():\n",
    "        print('>', genotype.gls)\n",
    "        for genotype_block in genotype.genotype_blocks():\n",
    "            print('  >', genotype_block.gls)"
   ]
  },
  {
   "cell_type": "code",
   "execution_count": 12,
   "metadata": {
    "collapsed": false,
    "deletable": true,
    "editable": true
   },
   "outputs": [
    {
     "name": "stdout",
     "output_type": "stream",
     "text": [
      "----------------------------------------\n",
      "HLA-A*01:01/HLA-A*01:02+HLA-A*24:02|HLA-A*01:03+HLA-A*24:03\n",
      "-> HLA-A*01:01/HLA-A*01:02+HLA-A*24:02|HLA-A*01:03+HLA-A*24:03\n",
      "--> HLA-A*01:01/HLA-A*01:02+HLA-A*24:02\n",
      "--> HLA-A*01:03+HLA-A*24:03\n",
      "----------------------------------------\n",
      "HLA-B*08:01+HLA-B*44:01/HLA-B*44:02\n",
      "----------------------------------------\n",
      "HLA-C*01:02\n",
      "----------------------------------------\n",
      "HLA-DRB5*01:01~HLA-DRB1*03:01+HLA-DRB1*04:07:01/HLA-DRB1*04:92\n"
     ]
    }
   ],
   "source": [
    "for locus_block in g.locus_blocks():\n",
    "    print('-'*40)\n",
    "    print(locus_block.gls)\n",
    "    for genotype_list in locus_block.genotype_lists():\n",
    "        print('->', genotype_list.gls)\n",
    "        for genotype_list_block in genotype_list.genotype_list_blocks():\n",
    "            print('-->', genotype_list_block.gls)"
   ]
  },
  {
   "cell_type": "code",
   "execution_count": null,
   "metadata": {
    "collapsed": true
   },
   "outputs": [],
   "source": []
  },
  {
   "cell_type": "code",
   "execution_count": null,
   "metadata": {
    "collapsed": true
   },
   "outputs": [],
   "source": []
  }
 ],
 "metadata": {
  "kernelspec": {
   "display_name": "Python 3",
   "language": "python",
   "name": "python3"
  },
  "language_info": {
   "codemirror_mode": {
    "name": "ipython",
    "version": 3
   },
   "file_extension": ".py",
   "mimetype": "text/x-python",
   "name": "python",
   "nbconvert_exporter": "python",
   "pygments_lexer": "ipython3",
   "version": "3.6.0"
  }
 },
 "nbformat": 4,
 "nbformat_minor": 2
}
