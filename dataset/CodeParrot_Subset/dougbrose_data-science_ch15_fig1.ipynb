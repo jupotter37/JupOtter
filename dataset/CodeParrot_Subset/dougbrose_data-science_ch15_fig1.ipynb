{
 "cells": [
  {
   "cell_type": "markdown",
   "metadata": {
    "collapsed": true
   },
   "source": [
    "### Ch15 Figure1"
   ]
  },
  {
   "cell_type": "code",
   "execution_count": 1,
   "metadata": {
    "collapsed": false,
    "scrolled": true
   },
   "outputs": [
    {
     "data": {
      "text/html": [
       "<div>\n",
       "<table border=\"1\" class=\"dataframe\">\n",
       "  <thead>\n",
       "    <tr style=\"text-align: right;\">\n",
       "      <th></th>\n",
       "      <th>id</th>\n",
       "      <th>coupon_code</th>\n",
       "      <th>discount</th>\n",
       "      <th>sku</th>\n",
       "      <th>quantity</th>\n",
       "    </tr>\n",
       "  </thead>\n",
       "  <tbody>\n",
       "    <tr>\n",
       "      <th>0</th>\n",
       "      <td>0</td>\n",
       "      <td>None</td>\n",
       "      <td>1.0</td>\n",
       "      <td>9</td>\n",
       "      <td>3</td>\n",
       "    </tr>\n",
       "    <tr>\n",
       "      <th>1</th>\n",
       "      <td>1</td>\n",
       "      <td>coupon80</td>\n",
       "      <td>0.8</td>\n",
       "      <td>9</td>\n",
       "      <td>2</td>\n",
       "    </tr>\n",
       "    <tr>\n",
       "      <th>2</th>\n",
       "      <td>2</td>\n",
       "      <td>xmas70</td>\n",
       "      <td>0.7</td>\n",
       "      <td>1</td>\n",
       "      <td>3</td>\n",
       "    </tr>\n",
       "    <tr>\n",
       "      <th>3</th>\n",
       "      <td>3</td>\n",
       "      <td>coupon80</td>\n",
       "      <td>0.8</td>\n",
       "      <td>14</td>\n",
       "      <td>3</td>\n",
       "    </tr>\n",
       "    <tr>\n",
       "      <th>4</th>\n",
       "      <td>4</td>\n",
       "      <td>None</td>\n",
       "      <td>1.0</td>\n",
       "      <td>4</td>\n",
       "      <td>4</td>\n",
       "    </tr>\n",
       "  </tbody>\n",
       "</table>\n",
       "</div>"
      ],
      "text/plain": [
       "   id coupon_code  discount  sku  quantity\n",
       "0   0        None       1.0    9         3\n",
       "1   1    coupon80       0.8    9         2\n",
       "2   2      xmas70       0.7    1         3\n",
       "3   3    coupon80       0.8   14         3\n",
       "4   4        None       1.0    4         4"
      ]
     },
     "execution_count": 1,
     "metadata": {},
     "output_type": "execute_result"
    }
   ],
   "source": [
    "# They gave out customer coupons and had a one-day sales event. At the end of the month the data analyst ran a report that showed a 10% increase in sales.\n",
    "\n",
    "coupon_code = ['xmas70', 'happynewyear60', 'coupon80', 'freeshipping', 'family75', 'None']\n",
    "discount = {'xmas70': .7, 'happynewyear60': .6, 'coupon80': .8, 'freeshipping': 1, 'family75': .75, 'None': 1}\n",
    "\n",
    "data = []\n",
    "\n",
    "for i in range(1000):\n",
    "    \n",
    "    sku = rd.randint(0,15)\n",
    "    quantity = rd.randint(1,3)\n",
    "    coupon = coupon_code[rd.randint(0, len(coupon_code)-1)]\n",
    "    disc = discount[coupon]\n",
    "    if coupon != '':\n",
    "        if rd.random() <= .7:\n",
    "            quantity = quantity + 2\n",
    "            \n",
    "    data.append([i, coupon, disc, sku, quantity])\n",
    "\n",
    "df = pd.DataFrame(data, columns=['id', 'coupon_code', 'discount', 'sku', 'quantity'])\n",
    "# df.to_csv('csv_output/ch15_fig1.csv', index=False)\n",
    "df = pd.read_csv('csv_output/ch15_fig1.csv')\n",
    "df.head()"
   ]
  },
  {
   "cell_type": "code",
   "execution_count": 1,
   "metadata": {
    "collapsed": false,
    "scrolled": false
   },
   "outputs": [
    {
     "data": {
      "image/png": "[encoded data removed]",
      "text/plain": [
       "<matplotlib.figure.Figure at 0xb278400>"
      ]
     },
     "metadata": {},
     "output_type": "display_data"
    }
   ],
   "source": [
    "df = pd.read_csv('csv_output/ch15_fig1.csv')\n",
    "\n",
    "%matplotlib inline\n",
    "sns.set_style(\"white\")\n",
    "\n",
    "f, ax = plt.subplots(1, figsize=(8,6))\n",
    "\n",
    "\n",
    "pvt = df.pivot_table(index='sku', columns='coupon_code', values='quantity', aggfunc=np.mean)\n",
    "df2 = pd.DataFrame((pvt.values - pvt.values[:,0:1])[:,1:], columns=pvt.columns[1:])\n",
    "ax.bar(left=np.arange(5), height=df2.mean())\n",
    "ax.set_xticks(np.arange(5)+.5);\n",
    "ax.set_xticklabels(df2.columns);\n",
    "\n",
    "ax.set_title('average sales quantity comparing with no coupon code')\n",
    "\n",
    "f.savefig('svg_output/ch15_fig1.svg', format='svg')"
   ]
  },
  {
   "cell_type": "markdown",
   "metadata": {},
   "source": [
    "Pivoting average sales quantity by item sku and by coupon code (including no coupon code), taking average sales quantity of each coupon code and minus the average sales quantity of no coupon code, we get how many more units sold on average when using each of the coupon code versus not using coupon code. With the coupon code with most discount (60%), it shows on averagely 0.1 more unit sales than not using any."
   ]
  }
 ],
 "metadata": {
  "kernelspec": {
   "display_name": "Python 3",
   "language": "python",
   "name": "python3"
  },
  "language_info": {
   "codemirror_mode": {
    "name": "ipython",
    "version": 3
   },
   "file_extension": ".py",
   "mimetype": "text/x-python",
   "name": "python",
   "nbconvert_exporter": "python",
   "pygments_lexer": "ipython3",
   "version": "3.5.1"
  }
 },
 "nbformat": 4,
 "nbformat_minor": 0
}
