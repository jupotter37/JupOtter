{
 "cells": [
  {
   "cell_type": "markdown",
   "metadata": {},
   "source": [
    "# Correlation function of DR12G SDSS CMASS Catalog"
   ]
  },
  {
   "cell_type": "markdown",
   "metadata": {},
   "source": [
    "First import all the modules such as healpy and astropy needed for analyzing the structure"
   ]
  },
  {
   "cell_type": "code",
   "execution_count": 1,
   "metadata": {
    "collapsed": true
   },
   "outputs": [],
   "source": [
    "import healpix_util as hu\n",
    "import astropy as ap\n",
    "import numpy as np\n",
    "from astropy.io import fits\n",
    "from astropy.table import Table\n",
    "import astropy.io.ascii as ascii\n",
    "from astropy.io import fits\n",
    "from astropy.constants import c\n",
    "import matplotlib.pyplot as plt\n",
    "import math as m\n",
    "from math import pi\n",
    "#from scipy.constants import c\n",
    "import scipy.special as sp\n",
    "from astroML.decorators import pickle_results\n",
    "from scipy import integrate\n",
    "import warnings\n",
    "from sklearn.neighbors import BallTree\n",
    "import pickle\n",
    "import multiprocessing as mp\n",
    "import time\n",
    "from cython_metric import *\n",
    "from lcck0metric import *\n",
    "from progressbar import *\n",
    "from tqdm import *\n",
    "from functools import partial\n",
    "import pymangle\n",
    "#from astroML.datasets import fetch_sdss_specgals\n",
    "#from astroML.correlation import bootstrap_two_point_angular\n",
    "%matplotlib inline"
   ]
  },
  {
   "cell_type": "markdown",
   "metadata": {},
   "source": [
    "Read the data file (taken from http://cosmo.nyu.edu/~eak306/SDSS-LRG.html ) converted to ascii with comoving distance etc. in V01 reading from pkl files for faster read"
   ]
  },
  {
   "cell_type": "code",
   "execution_count": 2,
   "metadata": {
    "collapsed": true
   },
   "outputs": [],
   "source": [
    "data=ascii.read(\"./output/dr12gcmnsrarfLC.dat\")"
   ]
  },
  {
   "cell_type": "code",
   "execution_count": 3,
   "metadata": {},
   "outputs": [
    {
     "data": {
      "text/html": [
       "&lt;Table length=618806&gt;\n",
       "<table id=\"table4337971152\" class=\"table-striped table-bordered table-condensed\">\n",
       "<thead><tr><th>z</th><th>ra</th><th>dec</th><th>s</th><th>rar</th><th>decr</th></tr></thead>\n",
       "<thead><tr><th>float64</th><th>float64</th><th>float64</th><th>float64</th><th>float64</th><th>float64</th></tr></thead>\n",
       "<tr><td>0.54253</td><td>129.176188</td><td>48.946499</td><td>0.433424</td><td>2.25455</td><td>0.854278</td></tr>\n",
       "<tr><td>0.399682</td><td>117.416963</td><td>39.276759</td><td>0.336245</td><td>2.049313</td><td>0.685509</td></tr>\n",
       "<tr><td>0.537702</td><td>116.912724</td><td>39.443311</td><td>0.430289</td><td>2.040512</td><td>0.688416</td></tr>\n",
       "<tr><td>0.519172</td><td>116.950172</td><td>39.490769</td><td>0.418165</td><td>2.041166</td><td>0.689244</td></tr>\n",
       "<tr><td>0.543191</td><td>117.528471</td><td>40.176493</td><td>0.433852</td><td>2.051259</td><td>0.701212</td></tr>\n",
       "<tr><td>0.589608</td><td>123.816159</td><td>46.636784</td><td>0.463487</td><td>2.161</td><td>0.813965</td></tr>\n",
       "<tr><td>0.548197</td><td>127.601277</td><td>49.775937</td><td>0.437091</td><td>2.227062</td><td>0.868754</td></tr>\n",
       "<tr><td>0.555224</td><td>122.816418</td><td>43.940864</td><td>0.44162</td><td>2.143551</td><td>0.766913</td></tr>\n",
       "<tr><td>0.380021</td><td>122.937804</td><td>44.033184</td><td>0.322099</td><td>2.145669</td><td>0.768524</td></tr>\n",
       "<tr><td>0.562535</td><td>123.132378</td><td>44.200812</td><td>0.44631</td><td>2.149065</td><td>0.77145</td></tr>\n",
       "<tr><td>...</td><td>...</td><td>...</td><td>...</td><td>...</td><td>...</td></tr>\n",
       "<tr><td>0.482233</td><td>225.499984</td><td>58.361607</td><td>0.39355</td><td>3.935717</td><td>1.018602</td></tr>\n",
       "<tr><td>0.476738</td><td>172.852073</td><td>60.085187</td><td>0.389836</td><td>3.016838</td><td>1.048684</td></tr>\n",
       "<tr><td>0.474484</td><td>173.448708</td><td>60.332544</td><td>0.388308</td><td>3.027251</td><td>1.053002</td></tr>\n",
       "<tr><td>0.456862</td><td>173.667282</td><td>60.181836</td><td>0.376285</td><td>3.031066</td><td>1.050371</td></tr>\n",
       "<tr><td>0.471463</td><td>174.140124</td><td>60.81971</td><td>0.386257</td><td>3.039319</td><td>1.061504</td></tr>\n",
       "<tr><td>0.526395</td><td>213.817287</td><td>64.462038</td><td>0.422909</td><td>3.731816</td><td>1.125075</td></tr>\n",
       "<tr><td>0.479835</td><td>215.483846</td><td>63.98142</td><td>0.391931</td><td>3.760903</td><td>1.116686</td></tr>\n",
       "<tr><td>0.448259</td><td>218.302727</td><td>63.158747</td><td>0.370362</td><td>3.810101</td><td>1.102328</td></tr>\n",
       "<tr><td>0.473205</td><td>216.816829</td><td>64.036989</td><td>0.38744</td><td>3.784168</td><td>1.117656</td></tr>\n",
       "<tr><td>0.485066</td><td>215.166779</td><td>65.041442</td><td>0.395459</td><td>3.755369</td><td>1.135187</td></tr>\n",
       "</table>"
      ],
      "text/plain": [
       "<Table length=618806>\n",
       "   z         ra        dec       s       rar      decr  \n",
       "float64   float64    float64  float64  float64  float64 \n",
       "-------- ---------- --------- -------- -------- --------\n",
       " 0.54253 129.176188 48.946499 0.433424  2.25455 0.854278\n",
       "0.399682 117.416963 39.276759 0.336245 2.049313 0.685509\n",
       "0.537702 116.912724 39.443311 0.430289 2.040512 0.688416\n",
       "0.519172 116.950172 39.490769 0.418165 2.041166 0.689244\n",
       "0.543191 117.528471 40.176493 0.433852 2.051259 0.701212\n",
       "0.589608 123.816159 46.636784 0.463487    2.161 0.813965\n",
       "0.548197 127.601277 49.775937 0.437091 2.227062 0.868754\n",
       "0.555224 122.816418 43.940864  0.44162 2.143551 0.766913\n",
       "0.380021 122.937804 44.033184 0.322099 2.145669 0.768524\n",
       "0.562535 123.132378 44.200812  0.44631 2.149065  0.77145\n",
       "     ...        ...       ...      ...      ...      ...\n",
       "0.482233 225.499984 58.361607  0.39355 3.935717 1.018602\n",
       "0.476738 172.852073 60.085187 0.389836 3.016838 1.048684\n",
       "0.474484 173.448708 60.332544 0.388308 3.027251 1.053002\n",
       "0.456862 173.667282 60.181836 0.376285 3.031066 1.050371\n",
       "0.471463 174.140124  60.81971 0.386257 3.039319 1.061504\n",
       "0.526395 213.817287 64.462038 0.422909 3.731816 1.125075\n",
       "0.479835 215.483846  63.98142 0.391931 3.760903 1.116686\n",
       "0.448259 218.302727 63.158747 0.370362 3.810101 1.102328\n",
       "0.473205 216.816829 64.036989  0.38744 3.784168 1.117656\n",
       "0.485066 215.166779 65.041442 0.395459 3.755369 1.135187"
      ]
     },
     "execution_count": 3,
     "metadata": {},
     "output_type": "execute_result"
    }
   ],
   "source": [
    "data"
   ]
  },
  {
   "cell_type": "code",
   "execution_count": 4,
   "metadata": {
    "collapsed": true
   },
   "outputs": [],
   "source": [
    "data.remove_column('z')\n",
    "data.remove_column('ra')\n",
    "data.remove_column('dec')"
   ]
  },
  {
   "cell_type": "code",
   "execution_count": 5,
   "metadata": {},
   "outputs": [
    {
     "data": {
      "text/html": [
       "&lt;Table length=618806&gt;\n",
       "<table id=\"table4337971152\" class=\"table-striped table-bordered table-condensed\">\n",
       "<thead><tr><th>s</th><th>rar</th><th>decr</th></tr></thead>\n",
       "<thead><tr><th>float64</th><th>float64</th><th>float64</th></tr></thead>\n",
       "<tr><td>0.433424</td><td>2.25455</td><td>0.854278</td></tr>\n",
       "<tr><td>0.336245</td><td>2.049313</td><td>0.685509</td></tr>\n",
       "<tr><td>0.430289</td><td>2.040512</td><td>0.688416</td></tr>\n",
       "<tr><td>0.418165</td><td>2.041166</td><td>0.689244</td></tr>\n",
       "<tr><td>0.433852</td><td>2.051259</td><td>0.701212</td></tr>\n",
       "<tr><td>0.463487</td><td>2.161</td><td>0.813965</td></tr>\n",
       "<tr><td>0.437091</td><td>2.227062</td><td>0.868754</td></tr>\n",
       "<tr><td>0.44162</td><td>2.143551</td><td>0.766913</td></tr>\n",
       "<tr><td>0.322099</td><td>2.145669</td><td>0.768524</td></tr>\n",
       "<tr><td>0.44631</td><td>2.149065</td><td>0.77145</td></tr>\n",
       "<tr><td>...</td><td>...</td><td>...</td></tr>\n",
       "<tr><td>0.39355</td><td>3.935717</td><td>1.018602</td></tr>\n",
       "<tr><td>0.389836</td><td>3.016838</td><td>1.048684</td></tr>\n",
       "<tr><td>0.388308</td><td>3.027251</td><td>1.053002</td></tr>\n",
       "<tr><td>0.376285</td><td>3.031066</td><td>1.050371</td></tr>\n",
       "<tr><td>0.386257</td><td>3.039319</td><td>1.061504</td></tr>\n",
       "<tr><td>0.422909</td><td>3.731816</td><td>1.125075</td></tr>\n",
       "<tr><td>0.391931</td><td>3.760903</td><td>1.116686</td></tr>\n",
       "<tr><td>0.370362</td><td>3.810101</td><td>1.102328</td></tr>\n",
       "<tr><td>0.38744</td><td>3.784168</td><td>1.117656</td></tr>\n",
       "<tr><td>0.395459</td><td>3.755369</td><td>1.135187</td></tr>\n",
       "</table>"
      ],
      "text/plain": [
       "<Table length=618806>\n",
       "   s       rar      decr  \n",
       "float64  float64  float64 \n",
       "-------- -------- --------\n",
       "0.433424  2.25455 0.854278\n",
       "0.336245 2.049313 0.685509\n",
       "0.430289 2.040512 0.688416\n",
       "0.418165 2.041166 0.689244\n",
       "0.433852 2.051259 0.701212\n",
       "0.463487    2.161 0.813965\n",
       "0.437091 2.227062 0.868754\n",
       " 0.44162 2.143551 0.766913\n",
       "0.322099 2.145669 0.768524\n",
       " 0.44631 2.149065  0.77145\n",
       "     ...      ...      ...\n",
       " 0.39355 3.935717 1.018602\n",
       "0.389836 3.016838 1.048684\n",
       "0.388308 3.027251 1.053002\n",
       "0.376285 3.031066 1.050371\n",
       "0.386257 3.039319 1.061504\n",
       "0.422909 3.731816 1.125075\n",
       "0.391931 3.760903 1.116686\n",
       "0.370362 3.810101 1.102328\n",
       " 0.38744 3.784168 1.117656\n",
       "0.395459 3.755369 1.135187"
      ]
     },
     "execution_count": 5,
     "metadata": {},
     "output_type": "execute_result"
    }
   ],
   "source": [
    "data"
   ]
  },
  {
   "cell_type": "code",
   "execution_count": 6,
   "metadata": {
    "collapsed": true
   },
   "outputs": [],
   "source": [
    "rs=np.array(data['s'])\n",
    "rrar=np.array(data['rar'])\n",
    "rdecr=np.array(data['decr'])"
   ]
  },
  {
   "cell_type": "code",
   "execution_count": 7,
   "metadata": {
    "collapsed": true
   },
   "outputs": [],
   "source": [
    "dat=np.array([rs,rrar,rdecr])"
   ]
  },
  {
   "cell_type": "code",
   "execution_count": 8,
   "metadata": {},
   "outputs": [
    {
     "data": {
      "text/plain": [
       "array([[ 0.433424,  0.336245,  0.430289, ...,  0.370362,  0.38744 ,\n",
       "         0.395459],\n",
       "       [ 2.25455 ,  2.049313,  2.040512, ...,  3.810101,  3.784168,\n",
       "         3.755369],\n",
       "       [ 0.854278,  0.685509,  0.688416, ...,  1.102328,  1.117656,\n",
       "         1.135187]])"
      ]
     },
     "execution_count": 8,
     "metadata": {},
     "output_type": "execute_result"
    }
   ],
   "source": [
    "dat"
   ]
  },
  {
   "cell_type": "code",
   "execution_count": 9,
   "metadata": {},
   "outputs": [
    {
     "data": {
      "text/plain": [
       "array([[ 0.433424,  0.336245,  0.430289, ...,  0.370362,  0.38744 ,\n",
       "         0.395459],\n",
       "       [ 2.25455 ,  2.049313,  2.040512, ...,  3.810101,  3.784168,\n",
       "         3.755369],\n",
       "       [ 0.854278,  0.685509,  0.688416, ...,  1.102328,  1.117656,\n",
       "         1.135187]])"
      ]
     },
     "execution_count": 9,
     "metadata": {},
     "output_type": "execute_result"
    }
   ],
   "source": [
    "dat.reshape(3,len(data))"
   ]
  },
  {
   "cell_type": "code",
   "execution_count": 10,
   "metadata": {
    "collapsed": true
   },
   "outputs": [],
   "source": [
    "dat=dat.transpose()"
   ]
  },
  {
   "cell_type": "code",
   "execution_count": 11,
   "metadata": {},
   "outputs": [
    {
     "data": {
      "text/plain": [
       "array([[ 0.433424,  2.25455 ,  0.854278],\n",
       "       [ 0.336245,  2.049313,  0.685509],\n",
       "       [ 0.430289,  2.040512,  0.688416],\n",
       "       ..., \n",
       "       [ 0.370362,  3.810101,  1.102328],\n",
       "       [ 0.38744 ,  3.784168,  1.117656],\n",
       "       [ 0.395459,  3.755369,  1.135187]])"
      ]
     },
     "execution_count": 11,
     "metadata": {},
     "output_type": "execute_result"
    }
   ],
   "source": [
    "dat"
   ]
  },
  {
   "cell_type": "code",
   "execution_count": 16,
   "metadata": {
    "collapsed": true
   },
   "outputs": [],
   "source": [
    "# Saving the objects:\n",
    "with open('dr12gcmnLC.pkl', 'w') as f:  # Python 3: open(..., 'wb')\n",
    "    pickle.dump(dat, f)"
   ]
  },
  {
   "cell_type": "code",
   "execution_count": 17,
   "metadata": {},
   "outputs": [
    {
     "data": {
      "text/plain": [
       "array([[ 0.433424,  2.25455 ,  0.854278],\n",
       "       [ 0.336245,  2.049313,  0.685509],\n",
       "       [ 0.430289,  2.040512,  0.688416],\n",
       "       ..., \n",
       "       [ 0.370362,  3.810101,  1.102328],\n",
       "       [ 0.38744 ,  3.784168,  1.117656],\n",
       "       [ 0.395459,  3.755369,  1.135187]])"
      ]
     },
     "execution_count": 17,
     "metadata": {},
     "output_type": "execute_result"
    }
   ],
   "source": [
    "# Getting back the objects:\n",
    "with open('dr12gcmnLC.pkl') as f:  # Python 3: open(..., 'rb')\n",
    "    dat = pickle.load(f)\n",
    "dat"
   ]
  },
  {
   "cell_type": "code",
   "execution_count": 15,
   "metadata": {},
   "outputs": [
    {
     "data": {
      "text/plain": [
       "8.181494949043856e-07"
      ]
     },
     "execution_count": 15,
     "metadata": {},
     "output_type": "execute_result"
    }
   ],
   "source": [
    "from lcck0metric import *\n",
    "LCck0metric(dat[0],dat[1])"
   ]
  },
  {
   "cell_type": "code",
   "execution_count": 18,
   "metadata": {},
   "outputs": [
    {
     "name": "stdout",
     "output_type": "stream",
     "text": [
      "CPU times: user 32.2 s, sys: 326 ms, total: 32.6 s\n",
      "Wall time: 33 s\n"
     ]
    }
   ],
   "source": [
    "%%time\n",
    "BT_D = BallTree(dat,metric='pyfunc',func=LCck0metric) \n",
    "\n",
    "with open('BTDdr12gcmnsLCf.pkl', 'w') as f:\n",
    "    pickle.dump(BT_D,f)"
   ]
  },
  {
   "cell_type": "code",
   "execution_count": 19,
   "metadata": {},
   "outputs": [
    {
     "data": {
      "text/plain": [
       "<sklearn.neighbors.ball_tree.BinaryTree at 0x7fcff0e58ff0>"
      ]
     },
     "execution_count": 19,
     "metadata": {},
     "output_type": "execute_result"
    }
   ],
   "source": [
    "with open('BTDdr12gcmnsLCf.pkl') as f:\n",
    "    BTD = pickle.load(f)\n",
    "    \n",
    "BTD"
   ]
  },
  {
   "cell_type": "code",
   "execution_count": 20,
   "metadata": {},
   "outputs": [
    {
     "data": {
      "text/plain": [
       "array([ 0.001,  0.002,  0.003,  0.004,  0.005,  0.006,  0.007,  0.008,\n",
       "        0.009,  0.01 ,  0.011,  0.012,  0.013,  0.014,  0.015,  0.016,\n",
       "        0.017,  0.018,  0.019,  0.02 ])"
      ]
     },
     "execution_count": 20,
     "metadata": {},
     "output_type": "execute_result"
    }
   ],
   "source": [
    "bins=np.arange(0.004,0.084,0.004)\n",
    "bins"
   ]
  },
  {
   "cell_type": "code",
   "execution_count": 21,
   "metadata": {},
   "outputs": [
    {
     "data": {
      "text/plain": [
       "array([  1.00000000e-06,   4.00000000e-06,   9.00000000e-06,\n",
       "         1.60000000e-05,   2.50000000e-05,   3.60000000e-05,\n",
       "         4.90000000e-05,   6.40000000e-05,   8.10000000e-05,\n",
       "         1.00000000e-04,   1.21000000e-04,   1.44000000e-04,\n",
       "         1.69000000e-04,   1.96000000e-04,   2.25000000e-04,\n",
       "         2.56000000e-04,   2.89000000e-04,   3.24000000e-04,\n",
       "         3.61000000e-04,   4.00000000e-04])"
      ]
     },
     "execution_count": 21,
     "metadata": {},
     "output_type": "execute_result"
    }
   ],
   "source": [
    "binsq=(bins*0.007)**2\n",
    "binsq"
   ]
  },
  {
   "cell_type": "code",
   "execution_count": 22,
   "metadata": {},
   "outputs": [
    {
     "name": "stdout",
     "output_type": "stream",
     "text": [
      "[ 38109750510 151178922283 271882047064 348256898894 379493862537\n",
      " 382919358899 382920865636 382920865636 382920865636 382920865636\n",
      " 382920865636 382920865636 382920865636 382920865636 382920865636\n",
      " 382920865636 382920865636 382920865636 382920865636 382920865636]\n",
      "Total run time:\n",
      "20195.2507951\n",
      "CPU times: user 5h 31min 28s, sys: 1min 7s, total: 5h 32min 35s\n",
      "Wall time: 5h 36min 35s\n"
     ]
    }
   ],
   "source": [
    "%%time\n",
    "start_time=time.time()\n",
    "counts_DD=BTD.two_point_correlation(dat,binsq)\n",
    "print counts_DD\n",
    "end_time=time.time()\n",
    "tottime=end_time-start_time\n",
    "print \"Total run time:\"\n",
    "print tottime\n",
    "\n",
    "with open('BTDdr12gcmnsDDLCf.pkl', 'w') as f:\n",
    "    pickle.dump(counts_DD,f)\n",
    "\n",
    "with open('BTDdr12gcmnsDDLCf.pkl') as f:\n",
    "    counts_DD = pickle.load(f)\n",
    "    \n",
    "counts_DD"
   ]
  },
  {
   "cell_type": "code",
   "execution_count": 23,
   "metadata": {},
   "outputs": [
    {
     "data": {
      "text/plain": [
       "array([ 38109750510, 151178922283, 271882047064, 348256898894,\n",
       "       379493862537, 382919358899, 382920865636, 382920865636,\n",
       "       382920865636, 382920865636, 382920865636, 382920865636,\n",
       "       382920865636, 382920865636, 382920865636, 382920865636,\n",
       "       382920865636, 382920865636, 382920865636, 382920865636])"
      ]
     },
     "execution_count": 23,
     "metadata": {},
     "output_type": "execute_result"
    }
   ],
   "source": [
    "counts_DD"
   ]
  },
  {
   "cell_type": "code",
   "execution_count": 24,
   "metadata": {
    "collapsed": true
   },
   "outputs": [],
   "source": [
    "DD=np.diff(counts_DD)"
   ]
  },
  {
   "cell_type": "code",
   "execution_count": 25,
   "metadata": {},
   "outputs": [
    {
     "data": {
      "text/plain": [
       "array([113069171773, 120703124781,  76374851830,  31236963643,\n",
       "         3425496362,      1506737,            0,            0,\n",
       "                  0,            0,            0,            0,\n",
       "                  0,            0,            0,            0,\n",
       "                  0,            0,            0])"
      ]
     },
     "execution_count": 25,
     "metadata": {},
     "output_type": "execute_result"
    }
   ],
   "source": [
    "DD"
   ]
  },
  {
   "cell_type": "code",
   "execution_count": 26,
   "metadata": {},
   "outputs": [
    {
     "data": {
      "text/plain": [
       "[<matplotlib.lines.Line2D at 0x11235d110>]"
      ]
     },
     "execution_count": 26,
     "metadata": {},
     "output_type": "execute_result"
    },
    {
     "data": {
      "image/png": "[encoded data removed]",
      "text/plain": [
       "<matplotlib.figure.Figure at 0x10bf5d4d0>"
      ]
     },
     "metadata": {},
     "output_type": "display_data"
    }
   ],
   "source": [
    "plt.plot(bins[1:len(bins)],DD,'bo-')"
   ]
  },
  {
   "cell_type": "code",
   "execution_count": 30,
   "metadata": {
    "collapsed": true
   },
   "outputs": [],
   "source": [
    "RR_zero = (RR == 0)\n",
    "RR[RR_zero] = 1"
   ]
  },
  {
   "cell_type": "code",
   "execution_count": 42,
   "metadata": {
    "collapsed": true
   },
   "outputs": [],
   "source": [
    "correl=4.0*DD/RR-1.0"
   ]
  },
  {
   "cell_type": "code",
   "execution_count": 43,
   "metadata": {},
   "outputs": [
    {
     "data": {
      "text/plain": [
       "array([ 1.50498415,  0.26478836,  0.08084476,  0.03974161,  0.02578027,\n",
       "        0.02243945,  0.02628759,  0.02791146,  0.02888038,  0.03076744,\n",
       "        0.03112052,  0.03297988,  0.03271199,  0.03416311,  0.0350347 ])"
      ]
     },
     "execution_count": 43,
     "metadata": {},
     "output_type": "execute_result"
    }
   ],
   "source": [
    "correl"
   ]
  },
  {
   "cell_type": "code",
   "execution_count": 44,
   "metadata": {},
   "outputs": [
    {
     "data": {
      "text/plain": [
       "[<matplotlib.lines.Line2D at 0x113c4c5d0>]"
      ]
     },
     "execution_count": 44,
     "metadata": {},
     "output_type": "execute_result"
    },
    {
     "data": {
      "image/png": "[encoded data removed]",
      "text/plain": [
       "<matplotlib.figure.Figure at 0x113b56f50>"
      ]
     },
     "metadata": {},
     "output_type": "display_data"
    }
   ],
   "source": [
    "plt.plot(bins[1:len(bins)],correl,'go-')"
   ]
  },
  {
   "cell_type": "code",
   "execution_count": 45,
   "metadata": {},
   "outputs": [
    {
     "data": {
      "text/plain": [
       "[<matplotlib.lines.Line2D at 0x113d5fed0>]"
      ]
     },
     "execution_count": 45,
     "metadata": {},
     "output_type": "execute_result"
    },
    {
     "data": {
      "image/png": "[encoded data removed]",
      "text/plain": [
       "<matplotlib.figure.Figure at 0x11057d390>"
      ]
     },
     "metadata": {},
     "output_type": "display_data"
    }
   ],
   "source": [
    "plt.plot(bins[1:len(bins)],bins[1:len(bins)]*bins[1:len(bins)]*correl,'go-')"
   ]
  },
  {
   "cell_type": "code",
   "execution_count": 46,
   "metadata": {},
   "outputs": [
    {
     "data": {
      "text/plain": [
       "[<matplotlib.lines.Line2D at 0x113e8ba90>]"
      ]
     },
     "execution_count": 46,
     "metadata": {},
     "output_type": "execute_result"
    },
    {
     "data": {
      "image/png": "[encoded data removed]",
      "text/plain": [
       "<matplotlib.figure.Figure at 0x113d86fd0>"
      ]
     },
     "metadata": {},
     "output_type": "display_data"
    }
   ],
   "source": [
    "plt.plot(bins[2:len(bins)],bins[2:len(bins)]*bins[2:len(bins)]*correl[1:len(bins)],'go-')"
   ]
  },
  {
   "cell_type": "code",
   "execution_count": 47,
   "metadata": {},
   "outputs": [
    {
     "data": {
      "text/plain": [
       "[<matplotlib.lines.Line2D at 0x11054ac90>]"
      ]
     },
     "execution_count": 47,
     "metadata": {},
     "output_type": "execute_result"
    },
    {
     "data": {
      "image/png": "[encoded data removed]",
      "text/plain": [
       "<matplotlib.figure.Figure at 0x113eeaf90>"
      ]
     },
     "metadata": {},
     "output_type": "display_data"
    }
   ],
   "source": [
    "plt.plot(bins[2:len(bins)],correl[1:len(bins)],'go-')"
   ]
  },
  {
   "cell_type": "code",
   "execution_count": 48,
   "metadata": {},
   "outputs": [
    {
     "data": {
      "image/png": "[encoded data removed]",
      "text/plain": [
       "<matplotlib.figure.Figure at 0x114fe6110>"
      ]
     },
     "metadata": {},
     "output_type": "display_data"
    }
   ],
   "source": [
    "plt.plot(bins[2:len(bins)],correl[1:len(bins)],'go-')\n",
    "plt.savefig(\"correl2x.pdf\")"
   ]
  },
  {
   "cell_type": "code",
   "execution_count": 53,
   "metadata": {},
   "outputs": [
    {
     "data": {
      "image/png": "[encoded data removed]",
      "text/plain": [
       "<matplotlib.figure.Figure at 0x114498b50>"
      ]
     },
     "metadata": {},
     "output_type": "display_data"
    }
   ],
   "source": [
    "plt.plot(bins[2:len(bins)]*c/1e5,correl[1:len(bins)],'bo-')\n",
    "plt.savefig(\"correl2x1.pdf\")"
   ]
  },
  {
   "cell_type": "code",
   "execution_count": 50,
   "metadata": {},
   "outputs": [
    {
     "data": {
      "text/plain": [
       "[<matplotlib.lines.Line2D at 0x10f65f690>]"
      ]
     },
     "execution_count": 50,
     "metadata": {},
     "output_type": "execute_result"
    },
    {
     "data": {
      "image/png": "[encoded data removed]",
      "text/plain": [
       "<matplotlib.figure.Figure at 0x10f65f6d0>"
      ]
     },
     "metadata": {},
     "output_type": "display_data"
    }
   ],
   "source": [
    "plt.yscale('log')\n",
    "plt.plot(bins[1:len(bins)],correl,'bo-')"
   ]
  },
  {
   "cell_type": "code",
   "execution_count": 52,
   "metadata": {},
   "outputs": [
    {
     "data": {
      "text/plain": [
       "[<matplotlib.lines.Line2D at 0x1142e1f10>]"
      ]
     },
     "execution_count": 52,
     "metadata": {},
     "output_type": "execute_result"
    },
    {
     "data": {
      "image/png": "[encoded data removed]",
      "text/plain": [
       "<matplotlib.figure.Figure at 0x1142e1f90>"
      ]
     },
     "metadata": {},
     "output_type": "display_data"
    }
   ],
   "source": [
    "plt.yscale('log')\n",
    "plt.plot(bins[2:len(bins)]*c/1e5,correl[1:len(bins)],'ro-')"
   ]
  },
  {
   "cell_type": "code",
   "execution_count": 54,
   "metadata": {},
   "outputs": [
    {
     "name": "stdout",
     "output_type": "stream",
     "text": [
      "[        0    236152   1835676   6024256  13930163  26635863  45156095\n",
      "  70428809 103344608 144719046 195306049 255767295 326645884 408522145\n",
      " 501808240 606822439]\n",
      "Total run time:\n",
      "5362.83386302\n",
      "CPU times: user 1h 29min 5s, sys: 7.79 s, total: 1h 29min 13s\n",
      "Wall time: 1h 29min 23s\n"
     ]
    }
   ],
   "source": [
    "%%time\n",
    "start_time=time.time()\n",
    "counts_DR=BTR.two_point_correlation(dat,bins)\n",
    "print counts_DR\n",
    "end_time=time.time()\n",
    "tottime=end_time-start_time\n",
    "print \"Total run time:\"\n",
    "print tottime\n",
    "\n",
    "with open('BTR200kcDRLCDM.pkl', 'w') as f:\n",
    "    pickle.dump(counts_DR,f)"
   ]
  },
  {
   "cell_type": "code",
   "execution_count": 55,
   "metadata": {},
   "outputs": [
    {
     "data": {
      "text/plain": [
       "array([        0,    236152,   1835676,   6024256,  13930163,  26635863,\n",
       "        45156095,  70428809, 103344608, 144719046, 195306049, 255767295,\n",
       "       326645884, 408522145, 501808240, 606822439])"
      ]
     },
     "execution_count": 55,
     "metadata": {},
     "output_type": "execute_result"
    }
   ],
   "source": [
    "with open('BTR200kcDRLCDM.pkl') as f:\n",
    "    counts_DR = pickle.load(f)\n",
    "    \n",
    "counts_DR"
   ]
  },
  {
   "cell_type": "code",
   "execution_count": 56,
   "metadata": {
    "collapsed": true
   },
   "outputs": [],
   "source": [
    "DR=np.diff(counts_DR)"
   ]
  },
  {
   "cell_type": "code",
   "execution_count": 57,
   "metadata": {
    "collapsed": true
   },
   "outputs": [],
   "source": [
    "corrells=(4.0 * DD - 4.0 * DR + RR) / RR"
   ]
  },
  {
   "cell_type": "code",
   "execution_count": 58,
   "metadata": {},
   "outputs": [
    {
     "data": {
      "text/plain": [
       "array([   236152,   1599524,   4188580,   7905907,  12705700,  18520232,\n",
       "        25272714,  32915799,  41374438,  50587003,  60461246,  70878589,\n",
       "        81876261,  93286095, 105014199])"
      ]
     },
     "execution_count": 58,
     "metadata": {},
     "output_type": "execute_result"
    }
   ],
   "source": [
    "DR"
   ]
  },
  {
   "cell_type": "code",
   "execution_count": 59,
   "metadata": {},
   "outputs": [
    {
     "data": {
      "text/plain": [
       "array([ 1.7052646 ,  0.29978504,  0.10500558,  0.05797354,  0.03719729,\n",
       "        0.02859312,  0.02948462,  0.02686032,  0.02325382,  0.02064449,\n",
       "        0.01721195,  0.01703756,  0.01286895,  0.01164703,  0.01089049])"
      ]
     },
     "execution_count": 59,
     "metadata": {},
     "output_type": "execute_result"
    }
   ],
   "source": [
    "corrells"
   ]
  },
  {
   "cell_type": "code",
   "execution_count": 60,
   "metadata": {},
   "outputs": [
    {
     "data": {
      "text/plain": [
       "[<matplotlib.lines.Line2D at 0x114929c10>]"
      ]
     },
     "execution_count": 60,
     "metadata": {},
     "output_type": "execute_result"
    },
    {
     "data": {
      "image/png": "[encoded data removed]",
      "text/plain": [
       "<matplotlib.figure.Figure at 0x1144a3e10>"
      ]
     },
     "metadata": {},
     "output_type": "display_data"
    }
   ],
   "source": [
    "plt.plot(bins[1:len(bins)],corrells,'go-')"
   ]
  },
  {
   "cell_type": "code",
   "execution_count": 61,
   "metadata": {},
   "outputs": [
    {
     "data": {
      "text/plain": [
       "[<matplotlib.lines.Line2D at 0x1143fea50>]"
      ]
     },
     "execution_count": 61,
     "metadata": {},
     "output_type": "execute_result"
    },
    {
     "data": {
      "image/png": "[encoded data removed]",
      "text/plain": [
       "<matplotlib.figure.Figure at 0x11494f190>"
      ]
     },
     "metadata": {},
     "output_type": "display_data"
    }
   ],
   "source": [
    "plt.plot(bins[1:len(bins)],bins[1:len(bins)]*bins[1:len(bins)]*corrells*(c*1e-5)**2,'go-')"
   ]
  },
  {
   "cell_type": "code",
   "execution_count": 62,
   "metadata": {},
   "outputs": [
    {
     "data": {
      "text/plain": [
       "[<matplotlib.lines.Line2D at 0x113f16490>]"
      ]
     },
     "execution_count": 62,
     "metadata": {},
     "output_type": "execute_result"
    },
    {
     "data": {
      "image/png": "[encoded data removed]",
      "text/plain": [
       "<matplotlib.figure.Figure at 0x1144dd290>"
      ]
     },
     "metadata": {},
     "output_type": "display_data"
    }
   ],
   "source": [
    "plt.plot(bins[2:len(bins)],bins[2:len(bins)]*bins[2:len(bins)]*corrells[1:len(bins)]*(c*1e-5)**2,'go-')"
   ]
  },
  {
   "cell_type": "code",
   "execution_count": 64,
   "metadata": {},
   "outputs": [
    {
     "data": {
      "text/plain": [
       "[<matplotlib.lines.Line2D at 0x1144d4690>]"
      ]
     },
     "execution_count": 64,
     "metadata": {},
     "output_type": "execute_result"
    },
    {
     "data": {
      "image/png": "[encoded data removed]",
      "text/plain": [
       "<matplotlib.figure.Figure at 0x114fafe10>"
      ]
     },
     "metadata": {},
     "output_type": "display_data"
    }
   ],
   "source": [
    "plt.plot(bins[2:len(bins)],corrells[1:len(bins)],'go-')"
   ]
  },
  {
   "cell_type": "code",
   "execution_count": 69,
   "metadata": {},
   "outputs": [
    {
     "data": {
      "image/png": "[encoded data removed]",
      "text/plain": [
       "<matplotlib.figure.Figure at 0x115337d50>"
      ]
     },
     "metadata": {},
     "output_type": "display_data"
    }
   ],
   "source": [
    "plt.plot(bins[2:len(bins)],corrells[1:len(bins)],'go-')\n",
    "plt.savefig(\"correl2xls.pdf\")"
   ]
  },
  {
   "cell_type": "code",
   "execution_count": 70,
   "metadata": {},
   "outputs": [
    {
     "data": {
      "image/png": "[encoded data removed]",
      "text/plain": [
       "<matplotlib.figure.Figure at 0x11543b810>"
      ]
     },
     "metadata": {},
     "output_type": "display_data"
    }
   ],
   "source": [
    "plt.plot(bins[2:len(bins)]*c/1e5,corrells[1:len(bins)],'bo-')\n",
    "plt.savefig(\"correl2x1ls.pdf\")"
   ]
  },
  {
   "cell_type": "code",
   "execution_count": 72,
   "metadata": {},
   "outputs": [
    {
     "data": {
      "image/png": "[encoded data removed]",
      "text/plain": [
       "<matplotlib.figure.Figure at 0x11535a210>"
      ]
     },
     "metadata": {},
     "output_type": "display_data"
    }
   ],
   "source": [
    "plt.yscale('log')\n",
    "plt.plot(bins[1:len(bins)]*c/1e5,corrells,'bo-')\n",
    "plt.savefig(\"correllsfiglog.pdf\")"
   ]
  },
  {
   "cell_type": "code",
   "execution_count": 71,
   "metadata": {},
   "outputs": [
    {
     "data": {
      "image/png": "[encoded data removed]",
      "text/plain": [
       "<matplotlib.figure.Figure at 0x1150b4e90>"
      ]
     },
     "metadata": {},
     "output_type": "display_data"
    }
   ],
   "source": [
    "plt.yscale('log')\n",
    "plt.plot(bins[2:len(bins)]*c/1e5,corrells[1:len(bins)],'ro-')\n",
    "plt.savefig(\"correllslog2x.pdf\")"
   ]
  },
  {
   "cell_type": "code",
   "execution_count": 73,
   "metadata": {},
   "outputs": [
    {
     "data": {
      "image/png": "[encoded data removed]",
      "text/plain": [
       "<matplotlib.figure.Figure at 0x1155bd610>"
      ]
     },
     "metadata": {},
     "output_type": "display_data"
    }
   ],
   "source": [
    "plt.yscale('log')\n",
    "plt.xscale('log')\n",
    "plt.plot(bins[1:len(bins)]*c/1e5,corrells,'bo-')\n",
    "plt.savefig(\"correllsloglog.pdf\")"
   ]
  },
  {
   "cell_type": "code",
   "execution_count": null,
   "metadata": {
    "collapsed": true
   },
   "outputs": [],
   "source": []
  },
  {
   "cell_type": "code",
   "execution_count": null,
   "metadata": {
    "collapsed": true
   },
   "outputs": [],
   "source": []
  },
  {
   "cell_type": "code",
   "execution_count": null,
   "metadata": {
    "collapsed": true
   },
   "outputs": [],
   "source": [
    "from functools import partial\n",
    "\n",
    "def harvester(text, case):\n",
    "    X = case[0]\n",
    "    return text + str(X)\n",
    "\n",
    "\n",
    "partial_harvester = partial(harvester, case=RAW_DATASET)\n",
    "\n",
    "partial_qr=partial(BTD.query_radius,count_only=True)\n",
    "\n",
    "if __name__ == '__main__':\n",
    "    pool = multiprocessing.Pool(processes=6)\n",
    "    case_data = RAW_DATASET\n",
    "    pool.map(partial_harvester, case_data, 1)\n",
    "    pool.close()\n",
    "    pool.join()\n",
    "\n",
    "mapfunc = partial(BTD.query_radius, count_only=True)\n",
    "map(mapfunc, volume_ids)\n"
   ]
  },
  {
   "cell_type": "code",
   "execution_count": null,
   "metadata": {
    "collapsed": true
   },
   "outputs": [],
   "source": []
  },
  {
   "cell_type": "code",
   "execution_count": null,
   "metadata": {
    "collapsed": true
   },
   "outputs": [],
   "source": [
    "#ascii.write(\"DR72DDbinned.dat\",(bins[1:len(bins)],DDresult))\n",
    "start_time=time.time()\n",
    "@pickle_results(\"DR72DDmp1.pkl\")\n",
    "def ddcal(BTD,dat,bins,Nbins):\n",
    "    counts_DD=np.zeros(Nbins)\n",
    "    for i in tqdm(range(Nbins)):\n",
    "        counts_DD[i]=np.sum(BTD.query_radius(dat, bins[i],count_only=True))\n",
    "    DD = np.diff(counts_DD)\n",
    "    print counts_DD\n",
    "    print DD\n",
    "    return DD\n",
    "\n",
    "def mf_wrap(args):\n",
    "    return ddcal(*args)\n",
    "\n",
    "pool=mp.Pool(8)\n",
    "\n",
    "arg=[(BTD,dat,bins,Nbins)]\n",
    "%timeit DDresult=pool.map(mf_wrap,arg) \n",
    "#DDresult = ddcal(BTD,dat,bins,Nbins)\n",
    "end_time=time.time()\n",
    "tottime=end_time-start_time\n",
    "print \"Total run time:\"\n",
    "print tottime"
   ]
  },
  {
   "cell_type": "code",
   "execution_count": null,
   "metadata": {
    "collapsed": true
   },
   "outputs": [],
   "source": [
    "%timeit dat"
   ]
  },
  {
   "cell_type": "code",
   "execution_count": null,
   "metadata": {
    "collapsed": true
   },
   "outputs": [],
   "source": [
    "DDresult[0]"
   ]
  },
  {
   "cell_type": "code",
   "execution_count": null,
   "metadata": {
    "collapsed": true
   },
   "outputs": [],
   "source": [
    "DDresult[1]"
   ]
  },
  {
   "cell_type": "code",
   "execution_count": null,
   "metadata": {
    "collapsed": true
   },
   "outputs": [],
   "source": [
    "plt.plot(bins[1:len(bins)],DDresult[0],'ro')"
   ]
  },
  {
   "cell_type": "code",
   "execution_count": null,
   "metadata": {
    "collapsed": true
   },
   "outputs": [],
   "source": []
  },
  {
   "cell_type": "code",
   "execution_count": null,
   "metadata": {
    "collapsed": true
   },
   "outputs": [],
   "source": []
  },
  {
   "cell_type": "code",
   "execution_count": null,
   "metadata": {
    "collapsed": true
   },
   "outputs": [],
   "source": [
    "def myfun(a,b):\n",
    "  print a + b\n",
    "  return a+b\n",
    "\n",
    "def mf_wrap(args):\n",
    "  return myfun(*args)\n",
    "\n",
    "p = mp.Pool(4)\n",
    "\n",
    "fl = [(a,b) for a in range(3) for b in range(2)]\n",
    "\n",
    "p.map(mf_wrap, fl)"
   ]
  },
  {
   "cell_type": "code",
   "execution_count": null,
   "metadata": {
    "collapsed": true
   },
   "outputs": [],
   "source": []
  },
  {
   "cell_type": "code",
   "execution_count": null,
   "metadata": {
    "collapsed": true
   },
   "outputs": [],
   "source": []
  },
  {
   "cell_type": "code",
   "execution_count": null,
   "metadata": {
    "collapsed": true
   },
   "outputs": [],
   "source": []
  },
  {
   "cell_type": "code",
   "execution_count": null,
   "metadata": {
    "collapsed": true
   },
   "outputs": [],
   "source": [
    "counts_DD=np.zeros(Nbins)\n",
    "\n",
    "for i in range(Nbins):\n",
    "    counts_DD[i]=np.sum(BTD.query_radius(dat, bins[i],count_only=True))\n",
    "DD = np.diff(counts_DD)"
   ]
  },
  {
   "cell_type": "code",
   "execution_count": null,
   "metadata": {
    "collapsed": true
   },
   "outputs": [],
   "source": [
    "print counts_DD\n",
    "print DD"
   ]
  },
  {
   "cell_type": "code",
   "execution_count": null,
   "metadata": {
    "collapsed": true
   },
   "outputs": [],
   "source": [
    "plt.plot(bins[1:len(bins)],DD,'ro')"
   ]
  },
  {
   "cell_type": "code",
   "execution_count": null,
   "metadata": {
    "collapsed": true
   },
   "outputs": [],
   "source": []
  },
  {
   "cell_type": "code",
   "execution_count": null,
   "metadata": {
    "collapsed": true
   },
   "outputs": [],
   "source": []
  },
  {
   "cell_type": "code",
   "execution_count": null,
   "metadata": {
    "collapsed": true
   },
   "outputs": [],
   "source": []
  },
  {
   "cell_type": "code",
   "execution_count": null,
   "metadata": {
    "collapsed": true
   },
   "outputs": [],
   "source": []
  },
  {
   "cell_type": "code",
   "execution_count": null,
   "metadata": {
    "collapsed": true
   },
   "outputs": [],
   "source": []
  },
  {
   "cell_type": "code",
   "execution_count": null,
   "metadata": {
    "collapsed": true
   },
   "outputs": [],
   "source": []
  },
  {
   "cell_type": "code",
   "execution_count": null,
   "metadata": {
    "collapsed": true
   },
   "outputs": [],
   "source": [
    "dataR=fits.open(\"/Users/rohin/Downloads/random-DR7-Full.fits\")"
   ]
  },
  {
   "cell_type": "code",
   "execution_count": null,
   "metadata": {
    "collapsed": true
   },
   "outputs": [],
   "source": [
    "dataR=dataR[1].data"
   ]
  },
  {
   "cell_type": "code",
   "execution_count": null,
   "metadata": {
    "collapsed": true
   },
   "outputs": [],
   "source": [
    "len(dataR)"
   ]
  },
  {
   "cell_type": "code",
   "execution_count": null,
   "metadata": {
    "collapsed": true
   },
   "outputs": [],
   "source": []
  },
  {
   "cell_type": "code",
   "execution_count": null,
   "metadata": {
    "collapsed": true
   },
   "outputs": [],
   "source": [
    "tdata=np.array(data)"
   ]
  },
  {
   "cell_type": "code",
   "execution_count": null,
   "metadata": {
    "collapsed": true
   },
   "outputs": [],
   "source": [
    "type(tdata[4])"
   ]
  },
  {
   "cell_type": "code",
   "execution_count": null,
   "metadata": {
    "collapsed": true
   },
   "outputs": [],
   "source": [
    "tdata.shape"
   ]
  },
  {
   "cell_type": "code",
   "execution_count": null,
   "metadata": {
    "collapsed": true
   },
   "outputs": [],
   "source": []
  },
  {
   "cell_type": "code",
   "execution_count": null,
   "metadata": {
    "collapsed": true
   },
   "outputs": [],
   "source": [
    "tdata.shape"
   ]
  },
  {
   "cell_type": "code",
   "execution_count": null,
   "metadata": {
    "collapsed": true
   },
   "outputs": [],
   "source": [
    "tdata=np.atleast_d(tdata)"
   ]
  },
  {
   "cell_type": "code",
   "execution_count": null,
   "metadata": {
    "collapsed": true
   },
   "outputs": [],
   "source": [
    "tdata.shape"
   ]
  },
  {
   "cell_type": "code",
   "execution_count": null,
   "metadata": {
    "collapsed": true
   },
   "outputs": [],
   "source": [
    "tdata.reshape(len(tdata),3)"
   ]
  },
  {
   "cell_type": "code",
   "execution_count": null,
   "metadata": {
    "collapsed": true
   },
   "outputs": [],
   "source": [
    "tdata=np.asarray(data)\n",
    "tdata=tdata.transpose()"
   ]
  },
  {
   "cell_type": "code",
   "execution_count": null,
   "metadata": {
    "collapsed": true
   },
   "outputs": [],
   "source": []
  },
  {
   "cell_type": "code",
   "execution_count": null,
   "metadata": {
    "collapsed": true
   },
   "outputs": [],
   "source": []
  },
  {
   "cell_type": "code",
   "execution_count": null,
   "metadata": {
    "collapsed": true
   },
   "outputs": [],
   "source": [
    "tdata"
   ]
  },
  {
   "cell_type": "code",
   "execution_count": null,
   "metadata": {
    "collapsed": true
   },
   "outputs": [],
   "source": [
    "len(tdata)"
   ]
  },
  {
   "cell_type": "code",
   "execution_count": null,
   "metadata": {
    "collapsed": true
   },
   "outputs": [],
   "source": []
  },
  {
   "cell_type": "code",
   "execution_count": null,
   "metadata": {
    "collapsed": true
   },
   "outputs": [],
   "source": [
    "BTD.two_point_correlationpoint_correlationpoint_correlationpoint_correlationtime\n",
    "stime=time.time()\n",
    "tpcf=BTD.two_point_correlation(dat,bins)\n",
    "print time.time()-stime\n",
    "print tpcf\n",
    "plt.plot(bins,tpcf)"
   ]
  },
  {
   "cell_type": "code",
   "execution_count": null,
   "metadata": {
    "collapsed": true
   },
   "outputs": [],
   "source": [
    "stime=time.time()\n",
    "tpcfd=BTD.two_point_correlation(dat,bins,dualtree=True)\n",
    "print time.time()-stime\n",
    "print tpcfd\n",
    "plt.plot(bins,tpcfd)"
   ]
  },
  {
   "cell_type": "code",
   "execution_count": null,
   "metadata": {
    "collapsed": true
   },
   "outputs": [],
   "source": []
  },
  {
   "cell_type": "code",
   "execution_count": null,
   "metadata": {
    "collapsed": true
   },
   "outputs": [],
   "source": []
  },
  {
   "cell_type": "code",
   "execution_count": null,
   "metadata": {
    "collapsed": true
   },
   "outputs": [],
   "source": []
  },
  {
   "cell_type": "code",
   "execution_count": null,
   "metadata": {
    "collapsed": true
   },
   "outputs": [],
   "source": [
    "X"
   ]
  },
  {
   "cell_type": "code",
   "execution_count": null,
   "metadata": {
    "collapsed": true
   },
   "outputs": [],
   "source": []
  },
  {
   "cell_type": "code",
   "execution_count": null,
   "metadata": {
    "collapsed": true
   },
   "outputs": [],
   "source": [
    "np.random.seed(0)\n",
    "X = np.random.random((30,3))\n",
    "r = np.linspace(0, 1, 10)\n",
    "tree = BallTree(X,metric='pyfunc',func=LCDMmetric)                \n",
    "s = pickle.dumps(tree)                     \n",
    "treedump = pickle.loads(s) \n",
    "treedump.two_point_correlation(X,r)"
   ]
  },
  {
   "cell_type": "code",
   "execution_count": null,
   "metadata": {
    "collapsed": true
   },
   "outputs": [],
   "source": [
    "BT_D = BallTree(data)\n",
    "        BT_R = BallTree(data_R)\n",
    "\n",
    "        counts_DD = np.zeros(Nbins + 1)\n",
    "        counts_RR = np.zeros(Nbins + 1)\n",
    "\n",
    "        for i in range(Nbins + 1):\n",
    "            counts_DD[i] = np.sum(BT_D.query_radius(data, bins[i],\n",
    "                                                    count_only=True))\n",
    "            counts_RR[i] = np.sum(BT_R.query_radius(data_R, bins[i],\n",
    "                                                    count_only=True))\n",
    "\n",
    "    DD = np.diff(counts_DD)\n",
    "    RR = np.diff(counts_RR)\n",
    "\n",
    "    # check for zero in the denominator\n",
    "    RR_zero = (RR == 0)\n",
    "    RR[RR_zero] = 1\n",
    "\n",
    "    if method == 'standard':\n",
    "        corr = factor ** 2 * DD / RR - 1\n",
    "    elif method == 'landy-szalay':\n",
    "        if sklearn_has_two_point:\n",
    "            counts_DR = KDT_R.two_point_correlation(data, bins)\n",
    "        else:\n",
    "            counts_DR = np.zeros(Nbins + 1)\n",
    "            for i in range(Nbins + 1):\n",
    "                counts_DR[i] = np.sum(BT_R.query_radius(data, bins[i],\n",
    "                                                        count_only=True))\n",
    "        DR = np.diff(counts_DR)\n",
    "\n",
    "        corr = (factor ** 2 * DD - 2 * factor * DR + RR) / RR\n",
    "\n",
    "    corr[RR_zero] = np.nan\n",
    "\n",
    "    return corr"
   ]
  },
  {
   "cell_type": "code",
   "execution_count": null,
   "metadata": {
    "collapsed": true
   },
   "outputs": [],
   "source": []
  },
  {
   "cell_type": "code",
   "execution_count": null,
   "metadata": {
    "collapsed": true
   },
   "outputs": [],
   "source": []
  },
  {
   "cell_type": "code",
   "execution_count": null,
   "metadata": {
    "collapsed": true
   },
   "outputs": [],
   "source": []
  },
  {
   "cell_type": "code",
   "execution_count": null,
   "metadata": {
    "collapsed": true
   },
   "outputs": [],
   "source": []
  },
  {
   "cell_type": "code",
   "execution_count": null,
   "metadata": {
    "collapsed": true
   },
   "outputs": [],
   "source": []
  },
  {
   "cell_type": "code",
   "execution_count": null,
   "metadata": {
    "collapsed": true
   },
   "outputs": [],
   "source": [
    "dr7fdat=np.array([data['s'][0:300] data['rar'][0:300] data['decr'][0:300]])\n",
    "dr7fdat"
   ]
  },
  {
   "cell_type": "code",
   "execution_count": null,
   "metadata": {
    "collapsed": true
   },
   "outputs": [],
   "source": [
    "dr7fdat[2]"
   ]
  },
  {
   "cell_type": "code",
   "execution_count": null,
   "metadata": {
    "collapsed": true
   },
   "outputs": [],
   "source": []
  },
  {
   "cell_type": "code",
   "execution_count": null,
   "metadata": {
    "collapsed": true
   },
   "outputs": [],
   "source": [
    "def LCDMmetric(p1,p2):\n",
    "    costheta=m.sin(dec1)*m.sin(dec2)+m.cos(dec1)*m.cos(dec2)*m.cos(ra1-ra2)\n",
    "    s1=DC_LCDM(z1)\n",
    "    s2=DC_LCDM(z2)\n",
    "    return np.sqrt(s1**2+s2**2-2.0*s1*s2*costheta)"
   ]
  },
  {
   "cell_type": "code",
   "execution_count": null,
   "metadata": {
    "collapsed": true
   },
   "outputs": [],
   "source": []
  },
  {
   "cell_type": "code",
   "execution_count": null,
   "metadata": {
    "collapsed": true
   },
   "outputs": [],
   "source": [
    "#fdata=fits.open(\"/Users/rohin/Downloads/DR7-Full.fits\")"
   ]
  },
  {
   "cell_type": "code",
   "execution_count": null,
   "metadata": {
    "collapsed": true
   },
   "outputs": [],
   "source": [
    "#fdata.writeto(\"./output/DR7fulltrim.fits\")"
   ]
  },
  {
   "cell_type": "code",
   "execution_count": null,
   "metadata": {
    "collapsed": true
   },
   "outputs": [],
   "source": [
    "fdata=fits.open(\"./output/DR7fulltrim.fits\")"
   ]
  },
  {
   "cell_type": "code",
   "execution_count": null,
   "metadata": {
    "collapsed": true
   },
   "outputs": [],
   "source": [
    "cols=fdata[1].columns"
   ]
  },
  {
   "cell_type": "code",
   "execution_count": null,
   "metadata": {
    "collapsed": true
   },
   "outputs": [],
   "source": [
    "cols.del_col('ZTYPE')"
   ]
  },
  {
   "cell_type": "code",
   "execution_count": null,
   "metadata": {
    "collapsed": true
   },
   "outputs": [],
   "source": [
    "cols.del_col('SECTOR')\n",
    "cols.del_col('FGOTMAIN')\n",
    "cols.del_col('QUALITY')\n",
    "cols.del_col('ISBAD')\n",
    "cols.del_col('M')\n",
    "cols.del_col('MMAX')\n",
    "cols.del_col('ILSS')\n",
    "cols.del_col('ICOMB')\n",
    "cols.del_col('VAGC_SELECT')\n",
    "cols.del_col('LSS_INDEX')\n",
    "cols.del_col('FIBERWEIGHT')\n",
    "cols.del_col('PRIMTARGET')\n",
    "cols.del_col('MG')\n",
    "cols.del_col('SECTOR_COMPLETENESS')\n",
    "cols.del_col('COMOV_DENSITY')\n",
    "cols.del_col('RADIAL_WEIGHT')"
   ]
  },
  {
   "cell_type": "code",
   "execution_count": null,
   "metadata": {
    "collapsed": true
   },
   "outputs": [],
   "source": [
    "fdata[1].columns"
   ]
  },
  {
   "cell_type": "code",
   "execution_count": null,
   "metadata": {
    "collapsed": true
   },
   "outputs": [],
   "source": [
    "fdata.writeto(\"./output/DR7fullzradec.fits\")"
   ]
  },
  {
   "cell_type": "code",
   "execution_count": null,
   "metadata": {
    "collapsed": true
   },
   "outputs": [],
   "source": [
    "fdat=fits.open(\"./output/DR7fullzradec.fits\")"
   ]
  },
  {
   "cell_type": "code",
   "execution_count": null,
   "metadata": {
    "collapsed": true
   },
   "outputs": [],
   "source": [
    "fdat[1].columns"
   ]
  },
  {
   "cell_type": "code",
   "execution_count": null,
   "metadata": {
    "collapsed": true
   },
   "outputs": [],
   "source": [
    "fdat[1].data['Z']"
   ]
  },
  {
   "cell_type": "code",
   "execution_count": null,
   "metadata": {
    "collapsed": true
   },
   "outputs": [],
   "source": [
    "fdat[1].data['RA']"
   ]
  },
  {
   "cell_type": "code",
   "execution_count": null,
   "metadata": {
    "collapsed": true
   },
   "outputs": [],
   "source": []
  },
  {
   "cell_type": "code",
   "execution_count": null,
   "metadata": {
    "collapsed": true
   },
   "outputs": [],
   "source": [
    "comovlcdm=DC_LCDM(fdat[1].data['Z'])"
   ]
  },
  {
   "cell_type": "code",
   "execution_count": null,
   "metadata": {
    "collapsed": true
   },
   "outputs": [],
   "source": [
    "fdat[1].data['Z']"
   ]
  },
  {
   "cell_type": "code",
   "execution_count": null,
   "metadata": {
    "collapsed": true
   },
   "outputs": [],
   "source": [
    "comovlcdm"
   ]
  },
  {
   "cell_type": "code",
   "execution_count": null,
   "metadata": {
    "collapsed": true
   },
   "outputs": [],
   "source": [
    "comovlcdm.dtype"
   ]
  },
  {
   "cell_type": "code",
   "execution_count": null,
   "metadata": {
    "collapsed": true
   },
   "outputs": [],
   "source": [
    "#cols=fdat[1].columns"
   ]
  },
  {
   "cell_type": "code",
   "execution_count": null,
   "metadata": {
    "collapsed": true
   },
   "outputs": [],
   "source": [
    "nc=fits.Column(name='COMOV',format='D',array=comovlcdm)"
   ]
  },
  {
   "cell_type": "code",
   "execution_count": null,
   "metadata": {
    "collapsed": true
   },
   "outputs": [],
   "source": [
    "nc1=fits.Column(name='COMOV',format='D')"
   ]
  },
  {
   "cell_type": "code",
   "execution_count": null,
   "metadata": {
    "collapsed": true
   },
   "outputs": [],
   "source": [
    "fdata[1].data['Z']"
   ]
  },
  {
   "cell_type": "code",
   "execution_count": null,
   "metadata": {
    "collapsed": true
   },
   "outputs": [],
   "source": [
    "fdata[1].data['RA']"
   ]
  },
  {
   "cell_type": "code",
   "execution_count": null,
   "metadata": {
    "collapsed": true
   },
   "outputs": [],
   "source": [
    "nc"
   ]
  },
  {
   "cell_type": "code",
   "execution_count": null,
   "metadata": {
    "collapsed": true
   },
   "outputs": [],
   "source": [
    "nc.dtype"
   ]
  },
  {
   "cell_type": "code",
   "execution_count": null,
   "metadata": {
    "collapsed": true
   },
   "outputs": [],
   "source": [
    "#cols.add_col(nc)"
   ]
  },
  {
   "cell_type": "code",
   "execution_count": null,
   "metadata": {
    "collapsed": true
   },
   "outputs": [],
   "source": [
    "fdat[1].columns"
   ]
  },
  {
   "cell_type": "code",
   "execution_count": null,
   "metadata": {
    "collapsed": true
   },
   "outputs": [],
   "source": [
    "fdat[1].columns.info()"
   ]
  },
  {
   "cell_type": "code",
   "execution_count": null,
   "metadata": {
    "collapsed": true
   },
   "outputs": [],
   "source": [
    "fdat[1].columns.add_col(nc1)"
   ]
  },
  {
   "cell_type": "code",
   "execution_count": null,
   "metadata": {
    "collapsed": true
   },
   "outputs": [],
   "source": [
    "fdat[1].data['COMOV']=comovlcdm"
   ]
  },
  {
   "cell_type": "code",
   "execution_count": null,
   "metadata": {
    "collapsed": true
   },
   "outputs": [],
   "source": [
    "comovlcdm"
   ]
  },
  {
   "cell_type": "code",
   "execution_count": null,
   "metadata": {
    "collapsed": true
   },
   "outputs": [],
   "source": [
    "fdat[1].data['Z']"
   ]
  },
  {
   "cell_type": "code",
   "execution_count": null,
   "metadata": {
    "collapsed": true
   },
   "outputs": [],
   "source": [
    "fdat[1].data['COMOV']"
   ]
  },
  {
   "cell_type": "code",
   "execution_count": null,
   "metadata": {
    "collapsed": true
   },
   "outputs": [],
   "source": [
    "fdat[1].data['RA']"
   ]
  },
  {
   "cell_type": "code",
   "execution_count": null,
   "metadata": {
    "collapsed": true
   },
   "outputs": [],
   "source": [
    "fdat[1].data['RA']=fdat[1].data['RA']*pi/180.0"
   ]
  },
  {
   "cell_type": "code",
   "execution_count": null,
   "metadata": {
    "collapsed": true
   },
   "outputs": [],
   "source": [
    "comovlcdm=DC_LCDM(fdat[1].data['Z'])\n",
    "comovlcdm"
   ]
  },
  {
   "cell_type": "code",
   "execution_count": null,
   "metadata": {
    "collapsed": true
   },
   "outputs": [],
   "source": []
  },
  {
   "cell_type": "code",
   "execution_count": null,
   "metadata": {
    "collapsed": true
   },
   "outputs": [],
   "source": []
  },
  {
   "cell_type": "markdown",
   "metadata": {},
   "source": [
    "Random catalog created based on the survey limitations also taken from http://cosmo.nyu.edu/~eak306/SDSS-LRG.html"
   ]
  },
  {
   "cell_type": "code",
   "execution_count": null,
   "metadata": {
    "collapsed": true
   },
   "outputs": [],
   "source": [
    "dataR=fits.open(\"/Users/rohin/Downloads/random-DR7-Full.fits\")"
   ]
  },
  {
   "cell_type": "code",
   "execution_count": null,
   "metadata": {
    "collapsed": true
   },
   "outputs": [],
   "source": [
    "dataR"
   ]
  },
  {
   "cell_type": "code",
   "execution_count": null,
   "metadata": {
    "collapsed": true
   },
   "outputs": [],
   "source": [
    "dataR=dataR[1].data"
   ]
  },
  {
   "cell_type": "code",
   "execution_count": null,
   "metadata": {
    "collapsed": true
   },
   "outputs": [],
   "source": [
    "len(dataR)"
   ]
  },
  {
   "cell_type": "code",
   "execution_count": null,
   "metadata": {
    "collapsed": true
   },
   "outputs": [],
   "source": [
    "NSIDE=512\n",
    "dr72hpix=hu.HealPix(\"ring\",NSIDE)"
   ]
  },
  {
   "cell_type": "code",
   "execution_count": null,
   "metadata": {
    "collapsed": true
   },
   "outputs": [],
   "source": [
    "pixdata = open(\"./output/pixdatadr72VAGCfullrand.dat\",'w')\n",
    "pixdata.write(\"z\\t pix \\n\")\n",
    "\n",
    "for i in range(0,len(data)-1):\n",
    "    pixdata.write(\"%f\\t\" %data['z'][i])\n",
    "    pixdata.write(\"%d\\n\" %dr72hpix.eq2pix(dataR['ra'][i],dataR['dec'][i]))\n",
    "pixdata.close()"
   ]
  },
  {
   "cell_type": "code",
   "execution_count": null,
   "metadata": {
    "collapsed": true
   },
   "outputs": [],
   "source": [
    "pixdata = ascii.read(\"./output/pixdatadr72VAGCfullrand.dat\")\n",
    "hpixdata=np.array(np.zeros(hu.nside2npix(NSIDE)))\n",
    "for j in range(len(pixdata)):\n",
    "    hpixdata[pixdata[j]['pix']]+=1"
   ]
  },
  {
   "cell_type": "code",
   "execution_count": null,
   "metadata": {
    "collapsed": true
   },
   "outputs": [],
   "source": [
    "hpixdata"
   ]
  },
  {
   "cell_type": "code",
   "execution_count": null,
   "metadata": {
    "collapsed": true
   },
   "outputs": [],
   "source": [
    "hu.mollview(hpixdata,rot=180)"
   ]
  },
  {
   "cell_type": "code",
   "execution_count": null,
   "metadata": {
    "collapsed": true
   },
   "outputs": [],
   "source": [
    "hu.orthview(hpixdata)"
   ]
  },
  {
   "cell_type": "code",
   "execution_count": null,
   "metadata": {
    "collapsed": true
   },
   "outputs": [],
   "source": [
    "\"\"\"\n",
    "Tools for computing two-point correlation functions.\n",
    "\"\"\"\n",
    "\n",
    "#from .utils import check_random_state\n",
    "# From scikit-learn utilities:\n",
    "def check_random_state(seed):\n",
    "    \"\"\"Turn seed into a np.random.RandomState instance\n",
    "\n",
    "    If seed is None, return the RandomState singleton used by np.random.\n",
    "    If seed is an int, return a new RandomState instance seeded with seed.\n",
    "    If seed is already a RandomState instance, return it.\n",
    "    Otherwise raise ValueError.\n",
    "    \"\"\"\n",
    "    if seed is None or seed is np.random:\n",
    "        return np.random.mtrand._rand\n",
    "    if isinstance(seed, (int, np.integer)):\n",
    "        return np.random.RandomState(seed)\n",
    "    if isinstance(seed, np.random.RandomState):\n",
    "        return seed\n",
    "    raise ValueError('%r cannot be used to seed a numpy.random.RandomState'\n",
    "                     ' instance' % seed)\n",
    "\n",
    "# Check if scikit-learn's two-point functionality is available.\n",
    "# This was added in scikit-learn version 0.14\n",
    "try:\n",
    "    from sklearn.neighbors import KDTree\n",
    "    sklearn_has_two_point = True\n",
    "except ImportError:\n",
    "    import warnings\n",
    "    sklearn_has_two_point = False\n",
    "\n",
    "\n",
    "def uniform_sphere(RAlim, DEClim, size=1):\n",
    "    \"\"\"Draw a uniform sample on a sphere\n",
    "\n",
    "    Parameters\n",
    "    ----------\n",
    "    RAlim : tuple\n",
    "        select Right Ascension between RAlim[0] and RAlim[1]\n",
    "        units are degrees\n",
    "    DEClim : tuple\n",
    "        select Declination between DEClim[0] and DEClim[1]\n",
    "    size : int (optional)\n",
    "        the size of the random arrays to return (default = 1)\n",
    "\n",
    "    Returns\n",
    "    -------\n",
    "    RA, DEC : ndarray\n",
    "        the random sample on the sphere within the given limits.\n",
    "        arrays have shape equal to size.\n",
    "    \"\"\"\n",
    "    zlim = np.sin(np.pi * np.asarray(DEClim) / 180.)\n",
    "\n",
    "    z = zlim[0] + (zlim[1] - zlim[0]) * np.random.random(size)\n",
    "    DEC = (180. / np.pi) * np.arcsin(z)\n",
    "    RA = RAlim[0] + (RAlim[1] - RAlim[0]) * np.random.random(size)\n",
    "\n",
    "    return RA, DEC\n",
    "\n",
    "\n",
    "def ra_dec_to_xyz(ra, dec):\n",
    "    \"\"\"Convert ra & dec to Euclidean points\n",
    "\n",
    "    Parameters\n",
    "    ----------\n",
    "    ra, dec : ndarrays\n",
    "\n",
    "    Returns\n",
    "    x, y, z : ndarrays\n",
    "    \"\"\"\n",
    "    sin_ra = np.sin(ra * np.pi / 180.)\n",
    "    cos_ra = np.cos(ra * np.pi / 180.)\n",
    "\n",
    "    sin_dec = np.sin(np.pi / 2. - dec * np.pi / 180.)\n",
    "    cos_dec = np.cos(np.pi / 2. - dec * np.pi / 180.)\n",
    "\n",
    "    return (cos_ra * sin_dec,\n",
    "            sin_ra * sin_dec,\n",
    "            cos_dec)\n",
    "\n",
    "\n",
    "def angular_dist_to_euclidean_dist(D, r=1):\n",
    "    \"\"\"convert angular distances to euclidean distances\"\"\"\n",
    "    return 2 * r * np.sin(0.5 * D * np.pi / 180.)\n",
    "\n",
    "\n",
    "def two_point(data, bins, method='standard',\n",
    "              data_R=None, random_state=None):\n",
    "    \"\"\"Two-point correlation function\n",
    "\n",
    "    Parameters\n",
    "    ----------\n",
    "    data : array_like\n",
    "        input data, shape = [n_samples, n_features]\n",
    "    bins : array_like\n",
    "        bins within which to compute the 2-point correlation.\n",
    "        shape = Nbins + 1\n",
    "    method : string\n",
    "        \"standard\" or \"landy-szalay\".\n",
    "    data_R : array_like (optional)\n",
    "        if specified, use this as the random comparison sample\n",
    "    random_state : integer, np.random.RandomState, or None\n",
    "        specify the random state to use for generating background\n",
    "\n",
    "    Returns\n",
    "    -------\n",
    "    corr : ndarray\n",
    "        the estimate of the correlation function within each bin\n",
    "        shape = Nbins\n",
    "    \"\"\"\n",
    "    data = np.asarray(data)\n",
    "    bins = np.asarray(bins)\n",
    "    rng = check_random_state(random_state)\n",
    "\n",
    "    if method not in ['standard', 'landy-szalay']:\n",
    "        raise ValueError(\"method must be 'standard' or 'landy-szalay'\")\n",
    "\n",
    "    if bins.ndim != 1:\n",
    "        raise ValueError(\"bins must be a 1D array\")\n",
    "\n",
    "    if data.ndim == 1:\n",
    "        data = data[:, np.newaxis]\n",
    "    elif data.ndim != 2:\n",
    "        raise ValueError(\"data should be 1D or 2D\")\n",
    "\n",
    "    n_samples, n_features = data.shape\n",
    "    Nbins = len(bins) - 1\n",
    "\n",
    "    # shuffle all but one axis to get background distribution\n",
    "    if data_R is None:\n",
    "        data_R = data.copy()\n",
    "        for i in range(n_features - 1):\n",
    "            rng.shuffle(data_R[:, i])\n",
    "    else:\n",
    "        data_R = np.asarray(data_R)\n",
    "        if (data_R.ndim != 2) or (data_R.shape[-1] != n_features):\n",
    "            raise ValueError('data_R must have same n_features as data')\n",
    "\n",
    "    factor = len(data_R) * 1. / len(data)\n",
    "\n",
    "    if sklearn_has_two_point:\n",
    "        # Fast two-point correlation functions added in scikit-learn v. 0.14\n",
    "        KDT_D = KDTree(data)\n",
    "        KDT_R = KDTree(data_R)\n",
    "\n",
    "        counts_DD = KDT_D.two_point_correlation(data, bins)\n",
    "        counts_RR = KDT_R.two_point_correlation(data_R, bins)\n",
    "\n",
    "    else:\n",
    "        warnings.warn(\"Version 0.3 of astroML will require scikit-learn \"\n",
    "                      \"version 0.14 or higher for correlation function \"\n",
    "                      \"calculations. Upgrade to sklearn 0.14+ now for much \"\n",
    "                      \"faster correlation function calculations.\")\n",
    "\n",
    "        BT_D = BallTree(data)\n",
    "        BT_R = BallTree(data_R)\n",
    "\n",
    "        counts_DD = np.zeros(Nbins + 1)\n",
    "        counts_RR = np.zeros(Nbins + 1)\n",
    "\n",
    "        for i in range(Nbins + 1):\n",
    "            counts_DD[i] = np.sum(BT_D.query_radius(data, bins[i],\n",
    "                                                    count_only=True))\n",
    "            counts_RR[i] = np.sum(BT_R.query_radius(data_R, bins[i],\n",
    "                                                    count_only=True))\n",
    "\n",
    "    DD = np.diff(counts_DD)\n",
    "    RR = np.diff(counts_RR)\n",
    "\n",
    "    # check for zero in the denominator\n",
    "    RR_zero = (RR == 0)\n",
    "    RR[RR_zero] = 1\n",
    "\n",
    "    if method == 'standard':\n",
    "        corr = factor ** 2 * DD / RR - 1\n",
    "    elif method == 'landy-szalay':\n",
    "        if sklearn_has_two_point:\n",
    "            counts_DR = KDT_R.two_point_correlation(data, bins)\n",
    "        else:\n",
    "            counts_DR = np.zeros(Nbins + 1)\n",
    "            for i in range(Nbins + 1):\n",
    "                counts_DR[i] = np.sum(BT_R.query_radius(data, bins[i],\n",
    "                                                        count_only=True))\n",
    "        DR = np.diff(counts_DR)\n",
    "\n",
    "        corr = (factor ** 2 * DD - 2 * factor * DR + RR) / RR\n",
    "\n",
    "    corr[RR_zero] = np.nan\n",
    "\n",
    "    return corr\n",
    "\n",
    "\n",
    "def bootstrap_two_point(data, bins, Nbootstrap=10,\n",
    "                        method='standard', return_bootstraps=False,\n",
    "                        random_state=None):\n",
    "    \"\"\"Bootstrapped two-point correlation function\n",
    "\n",
    "    Parameters\n",
    "    ----------\n",
    "    data : array_like\n",
    "        input data, shape = [n_samples, n_features]\n",
    "    bins : array_like\n",
    "        bins within which to compute the 2-point correlation.\n",
    "        shape = Nbins + 1\n",
    "    Nbootstrap : integer\n",
    "        number of bootstrap resamples to perform (default = 10)\n",
    "    method : string\n",
    "        \"standard\" or \"landy-szalay\".\n",
    "    return_bootstraps: bool\n",
    "        if True, return full bootstrapped samples\n",
    "    random_state : integer, np.random.RandomState, or None\n",
    "        specify the random state to use for generating background\n",
    "\n",
    "    Returns\n",
    "    -------\n",
    "    corr, corr_err : ndarrays\n",
    "        the estimate of the correlation function and the bootstrap\n",
    "        error within each bin. shape = Nbins\n",
    "    \"\"\"\n",
    "    data = np.asarray(data)\n",
    "    bins = np.asarray(bins)\n",
    "    rng = check_random_state(random_state)\n",
    "\n",
    "    if method not in ['standard', 'landy-szalay']:\n",
    "        raise ValueError(\"method must be 'standard' or 'landy-szalay'\")\n",
    "\n",
    "    if bins.ndim != 1:\n",
    "        raise ValueError(\"bins must be a 1D array\")\n",
    "\n",
    "    if data.ndim == 1:\n",
    "        data = data[:, np.newaxis]\n",
    "    elif data.ndim != 2:\n",
    "        raise ValueError(\"data should be 1D or 2D\")\n",
    "\n",
    "    if Nbootstrap < 2:\n",
    "        raise ValueError(\"Nbootstrap must be greater than 1\")\n",
    "\n",
    "    n_samples, n_features = data.shape\n",
    "\n",
    "    # get the baseline estimate\n",
    "    corr = two_point(data, bins, method=method, random_state=rng)\n",
    "\n",
    "    bootstraps = np.zeros((Nbootstrap, len(corr)))\n",
    "\n",
    "    for i in range(Nbootstrap):\n",
    "        indices = rng.randint(0, n_samples, n_samples)\n",
    "        bootstraps[i] = two_point(data[indices, :], bins, method=method,\n",
    "                                  random_state=rng)\n",
    "\n",
    "    # use masked std dev in case of NaNs\n",
    "    corr_err = np.asarray(np.ma.masked_invalid(bootstraps).std(0, ddof=1))\n",
    "\n",
    "    if return_bootstraps:\n",
    "        return corr, corr_err, bootstraps\n",
    "    else:\n",
    "        return corr, corr_err\n",
    "\n",
    "\n",
    "def two_point_angular(ra, dec, bins, method='standard', random_state=None):\n",
    "    \"\"\"Angular two-point correlation function\n",
    "\n",
    "    A separate function is needed because angular distances are not\n",
    "    euclidean, and random sampling needs to take into account the\n",
    "    spherical volume element.\n",
    "\n",
    "    Parameters\n",
    "    ----------\n",
    "    ra : array_like\n",
    "        input right ascention, shape = (n_samples,)\n",
    "    dec : array_like\n",
    "        input declination\n",
    "    bins : array_like\n",
    "        bins within which to compute the 2-point correlation.\n",
    "        shape = Nbins + 1\n",
    "    method : string\n",
    "        \"standard\" or \"landy-szalay\".\n",
    "    random_state : integer, np.random.RandomState, or None\n",
    "        specify the random state to use for generating background\n",
    "\n",
    "    Returns\n",
    "    -------\n",
    "    corr : ndarray\n",
    "        the estimate of the correlation function within each bin\n",
    "        shape = Nbins\n",
    "    \"\"\"\n",
    "    ra = np.asarray(ra)\n",
    "    dec = np.asarray(dec)\n",
    "    rng = check_random_state(random_state)\n",
    "\n",
    "    if method not in ['standard', 'landy-szalay']:\n",
    "        raise ValueError(\"method must be 'standard' or 'landy-szalay'\")\n",
    "\n",
    "    if bins.ndim != 1:\n",
    "        raise ValueError(\"bins must be a 1D array\")\n",
    "\n",
    "    if (ra.ndim != 1) or (dec.ndim != 1) or (ra.shape != dec.shape):\n",
    "        raise ValueError('ra and dec must be 1-dimensional '\n",
    "                         'arrays of the same length')\n",
    "\n",
    "    n_features = len(ra)\n",
    "    Nbins = len(bins) - 1\n",
    "\n",
    "    # draw a random sample with N points\n",
    "    ra_R, dec_R = uniform_sphere((min(ra), max(ra)),\n",
    "                                 (min(dec), max(dec)),\n",
    "                                 2 * len(ra))\n",
    "\n",
    "    data = np.asarray(ra_dec_to_xyz(ra, dec), order='F').T\n",
    "    data_R = np.asarray(ra_dec_to_xyz(ra_R, dec_R), order='F').T\n",
    "\n",
    "    # convert spherical bins to cartesian bins\n",
    "    bins_transform = angular_dist_to_euclidean_dist(bins)\n",
    "\n",
    "    return two_point(data, bins_transform, method=method,\n",
    "                     data_R=data_R, random_state=rng)\n",
    "\n",
    "\n",
    "def bootstrap_two_point_angular(ra, dec, bins, method='standard',\n",
    "                                Nbootstraps=10, random_state=None):\n",
    "    # type: (object, object, object, object, object, object) -> object\n",
    "    \"\"\"Angular two-point correlation function\n",
    "\n",
    "    A separate function is needed because angular distances are not\n",
    "    euclidean, and random sampling needs to take into account the\n",
    "    spherical volume element.\n",
    "\n",
    "    Parameters\n",
    "    ----------\n",
    "    ra : array_like\n",
    "        input right ascention, shape = (n_samples,)\n",
    "    dec : array_like\n",
    "        input declination\n",
    "    bins : array_like\n",
    "        bins within which to compute the 2-point correlation.\n",
    "        shape = Nbins + 1\n",
    "    method : string\n",
    "        \"standard\" or \"landy-szalay\".\n",
    "    Nbootstraps : int\n",
    "        number of bootstrap resamples\n",
    "    random_state : integer, np.random.RandomState, or None\n",
    "        specify the random state to use for generating background\n",
    "\n",
    "    Returns\n",
    "    -------\n",
    "    corr : ndarray\n",
    "        the estimate of the correlation function within each bin\n",
    "        shape = Nbins\n",
    "    dcorr : ndarray\n",
    "        error estimate on dcorr (sample standard deviation of\n",
    "        bootstrap resamples)\n",
    "    bootstraps : ndarray\n",
    "        The full sample of bootstraps used to compute corr and dcorr\n",
    "    \"\"\"\n",
    "    ra = np.asarray(ra)\n",
    "    dec = np.asarray(dec)\n",
    "    rng = check_random_state(random_state)\n",
    "\n",
    "    if method not in ['standard', 'landy-szalay']:\n",
    "        raise ValueError(\"method must be 'standard' or 'landy-szalay'\")\n",
    "\n",
    "    if bins.ndim != 1:\n",
    "        raise ValueError(\"bins must be a 1D array\")\n",
    "\n",
    "    if (ra.ndim != 1) or (dec.ndim != 1) or (ra.shape != dec.shape):\n",
    "        raise ValueError('ra and dec must be 1-dimensional '\n",
    "                         'arrays of the same length')\n",
    "\n",
    "    n_features = len(ra)\n",
    "    Nbins = len(bins) - 1\n",
    "    data = np.asarray(ra_dec_to_xyz(ra, dec), order='F').T\n",
    "\n",
    "    # convert spherical bins to cartesian bins\n",
    "    bins_transform = angular_dist_to_euclidean_dist(bins)\n",
    "\n",
    "    bootstraps = []\n",
    "\n",
    "    for i in range(Nbootstraps):\n",
    "        # draw a random sample with N points\n",
    "        ra_R, dec_R = uniform_sphere((min(ra), max(ra)),\n",
    "                                     (min(dec), max(dec)),\n",
    "                                     2 * len(ra))\n",
    "\n",
    "        data_R = np.asarray(ra_dec_to_xyz(ra_R, dec_R), order='F').T\n",
    "\n",
    "        if i > 0:\n",
    "            # random sample of the data\n",
    "            ind = np.random.randint(0, data.shape[0], data.shape[0])\n",
    "            data_b = data[ind]\n",
    "        else:\n",
    "            data_b = data\n",
    "\n",
    "        bootstraps.append(two_point(data_b, bins_transform, method=method,\n",
    "                                    data_R=data_R, random_state=rng))\n",
    "\n",
    "    bootstraps = np.asarray(bootstraps)\n",
    "    corr = np.mean(bootstraps, 0)\n",
    "    corr_err = np.std(bootstraps, 0, ddof=1)\n",
    "\n",
    "    return corr, corr_err, bootstraps"
   ]
  },
  {
   "cell_type": "code",
   "execution_count": null,
   "metadata": {
    "collapsed": true
   },
   "outputs": [],
   "source": [
    "sklearn_has_two_point"
   ]
  },
  {
   "cell_type": "code",
   "execution_count": null,
   "metadata": {
    "collapsed": true
   },
   "outputs": [],
   "source": [
    "help(KDTree)"
   ]
  },
  {
   "cell_type": "code",
   "execution_count": null,
   "metadata": {
    "collapsed": true
   },
   "outputs": [],
   "source": [
    "dataxyz=ra_dec_to_xyz(data['ra'],data['dec'])"
   ]
  },
  {
   "cell_type": "code",
   "execution_count": null,
   "metadata": {
    "collapsed": true
   },
   "outputs": [],
   "source": [
    "dataxyz=np.asarray(dataxyz)"
   ]
  },
  {
   "cell_type": "code",
   "execution_count": null,
   "metadata": {
    "collapsed": true
   },
   "outputs": [],
   "source": [
    "dataxyz=dataxyz.transpose()"
   ]
  },
  {
   "cell_type": "code",
   "execution_count": null,
   "metadata": {
    "collapsed": true
   },
   "outputs": [],
   "source": [
    "dataxyz"
   ]
  },
  {
   "cell_type": "code",
   "execution_count": null,
   "metadata": {
    "collapsed": true
   },
   "outputs": [],
   "source": [
    "dataxyzR=ra_dec_to_xyz(dataR['ra'],dataR['dec'])"
   ]
  },
  {
   "cell_type": "code",
   "execution_count": null,
   "metadata": {
    "collapsed": true
   },
   "outputs": [],
   "source": [
    "dataxyzR=np.asarray(dataxyzR)"
   ]
  },
  {
   "cell_type": "code",
   "execution_count": null,
   "metadata": {
    "collapsed": true
   },
   "outputs": [],
   "source": [
    "dataxyzR=dataxyzR.transpose()"
   ]
  },
  {
   "cell_type": "code",
   "execution_count": null,
   "metadata": {
    "collapsed": true
   },
   "outputs": [],
   "source": [
    "dataxyzR"
   ]
  },
  {
   "cell_type": "code",
   "execution_count": null,
   "metadata": {
    "collapsed": true
   },
   "outputs": [],
   "source": [
    "bins=np.arange(0.0,1.05,0.05)"
   ]
  },
  {
   "cell_type": "code",
   "execution_count": null,
   "metadata": {
    "collapsed": true
   },
   "outputs": [],
   "source": [
    "bins"
   ]
  },
  {
   "cell_type": "code",
   "execution_count": null,
   "metadata": {
    "collapsed": true
   },
   "outputs": [],
   "source": []
  },
  {
   "cell_type": "code",
   "execution_count": null,
   "metadata": {
    "collapsed": true
   },
   "outputs": [],
   "source": [
    "#@pickle_results(\"tpcf_std.pkl\")\n",
    "tpcf=two_point(dataxyz,bins,method='standard',data_R=dataxyzR, random_state=None)"
   ]
  },
  {
   "cell_type": "code",
   "execution_count": null,
   "metadata": {
    "collapsed": true
   },
   "outputs": [],
   "source": [
    "tpcf "
   ]
  },
  {
   "cell_type": "code",
   "execution_count": null,
   "metadata": {
    "collapsed": true
   },
   "outputs": [],
   "source": [
    "plt.plot(bins[1:],tpcf,'ro')"
   ]
  },
  {
   "cell_type": "code",
   "execution_count": null,
   "metadata": {
    "collapsed": true
   },
   "outputs": [],
   "source": [
    "tpcfam=two_point(dataxyz,bins,method='standard',data_R=None, random_state=None)"
   ]
  },
  {
   "cell_type": "code",
   "execution_count": null,
   "metadata": {
    "collapsed": true
   },
   "outputs": [],
   "source": [
    "tpcfam"
   ]
  },
  {
   "cell_type": "code",
   "execution_count": null,
   "metadata": {
    "collapsed": true
   },
   "outputs": [],
   "source": [
    "plt.plot(bins[1:],tpcfam,'bo')"
   ]
  },
  {
   "cell_type": "code",
   "execution_count": null,
   "metadata": {
    "collapsed": true
   },
   "outputs": [],
   "source": [
    "bins2=np.arange(0.2,0.6,0.02)"
   ]
  },
  {
   "cell_type": "code",
   "execution_count": null,
   "metadata": {
    "collapsed": true
   },
   "outputs": [],
   "source": [
    "tpcfamb2=two_point(dataxyz,bins2,method='standard',data_R=None, random_state=None)"
   ]
  },
  {
   "cell_type": "code",
   "execution_count": null,
   "metadata": {
    "collapsed": true
   },
   "outputs": [],
   "source": [
    "plt.plot(bins2[1:],tpcfamb2,'go')"
   ]
  },
  {
   "cell_type": "markdown",
   "metadata": {},
   "source": [
    "The above doesn't show any BAO feature... It used inbuilt astroML method to generate random catalog... by shuffling the original data's content... That way all of the random points fall in the same survey area and will adhere to all the filtering criteria... the factor or ratio of data pts vs. random pts will be 1... instead of large no. in case if we take existing random catalog or create one"
   ]
  },
  {
   "cell_type": "code",
   "execution_count": null,
   "metadata": {
    "collapsed": true
   },
   "outputs": [],
   "source": [
    "rng = check_random_state(None)\n",
    "\n",
    "n_samples, n_features = dataxyz.shape\n",
    "Nbins = len(bins) - 1\n",
    "\n",
    "# shuffle all but one axis to get background distribution\n",
    "data_Rxyz = dataxyz.copy()\n",
    "print data_Rxyz\n",
    "for i in range(n_features - 1):\n",
    "    rng.shuffle(data_Rxyz[:, i])\n",
    "print data_Rxyz"
   ]
  },
  {
   "cell_type": "markdown",
   "metadata": {},
   "source": [
    "Lets see how it looks with a healpix map"
   ]
  },
  {
   "cell_type": "code",
   "execution_count": null,
   "metadata": {
    "collapsed": true
   },
   "outputs": [],
   "source": []
  },
  {
   "cell_type": "code",
   "execution_count": null,
   "metadata": {
    "collapsed": true
   },
   "outputs": [],
   "source": [
    "NSIDE=512\n",
    "dr72hpix=hu.HealPix(\"ring\",NSIDE)"
   ]
  },
  {
   "cell_type": "code",
   "execution_count": null,
   "metadata": {
    "collapsed": true
   },
   "outputs": [],
   "source": [
    "import math as m\n",
    "\n",
    "def cart2sph(x,y,z):\n",
    "    XsqPlusYsq = x**2 + y**2\n",
    "    r = m.sqrt(XsqPlusYsq + z**2)               # r\n",
    "    elev = m.atan2(z,m.sqrt(XsqPlusYsq))     # theta\n",
    "    az = m.atan2(y,x)                           # phi\n",
    "    return r, elev, az\n",
    "\n",
    "def cart2sphA(pts):\n",
    "    return np.array([cart2sph(x,y,z) for x,y,z in pts])\n",
    "\n",
    "def appendSpherical(xyz):\n",
    "    np.hstack((xyz, cart2sphA(xyz)))"
   ]
  },
  {
   "cell_type": "code",
   "execution_count": null,
   "metadata": {
    "collapsed": true
   },
   "outputs": [],
   "source": [
    "ang=cart2sphA(data_Rxyz)"
   ]
  },
  {
   "cell_type": "code",
   "execution_count": null,
   "metadata": {
    "collapsed": true
   },
   "outputs": [],
   "source": [
    "ang"
   ]
  },
  {
   "cell_type": "code",
   "execution_count": null,
   "metadata": {
    "collapsed": true
   },
   "outputs": [],
   "source": [
    "ang.shape"
   ]
  },
  {
   "cell_type": "code",
   "execution_count": null,
   "metadata": {
    "collapsed": true
   },
   "outputs": [],
   "source": [
    "#ang.resize((105831, 2))\n",
    "np.squeeze(ang, axis=None)"
   ]
  },
  {
   "cell_type": "code",
   "execution_count": null,
   "metadata": {
    "collapsed": true
   },
   "outputs": [],
   "source": [
    "help(ang.squeeze)"
   ]
  },
  {
   "cell_type": "code",
   "execution_count": null,
   "metadata": {
    "collapsed": true
   },
   "outputs": [],
   "source": [
    "ang2=ang[:,1:]"
   ]
  },
  {
   "cell_type": "code",
   "execution_count": null,
   "metadata": {
    "collapsed": true
   },
   "outputs": [],
   "source": [
    "ang2"
   ]
  },
  {
   "cell_type": "code",
   "execution_count": null,
   "metadata": {
    "collapsed": true
   },
   "outputs": [],
   "source": [
    "ang2.shape"
   ]
  },
  {
   "cell_type": "code",
   "execution_count": null,
   "metadata": {
    "collapsed": true
   },
   "outputs": [],
   "source": [
    "ang2[2,0]"
   ]
  },
  {
   "cell_type": "code",
   "execution_count": null,
   "metadata": {
    "collapsed": true
   },
   "outputs": [],
   "source": []
  },
  {
   "cell_type": "code",
   "execution_count": null,
   "metadata": {
    "collapsed": true
   },
   "outputs": [],
   "source": [
    "pixdata = open(\"./output/pixdatadr72VAGCfullrandam.dat\",'w')\n",
    "pixdata.write(\"pix \\n\")\n",
    "for i in range(0,len(ang2)-1):\n",
    "    #pixdata.write(\"%f\\t\" %data['z'][i])\n",
    "    pixdata.write(\"%d\\n\" %dr72hpix.ang2pix(ang2[i,0],ang2[i,1]))\n",
    "pixdata.close()"
   ]
  },
  {
   "cell_type": "code",
   "execution_count": null,
   "metadata": {
    "collapsed": true
   },
   "outputs": [],
   "source": [
    "pixdata = ascii.read(\"./output/pixdatadr72VAGCfullrandam.dat\")\n",
    "hpixdata=np.array(np.zeros(hu.nside2npix(NSIDE)))\n",
    "for j in range(len(pixdata)):\n",
    "    hpixdata[pixdata[j]['pix']]+=1"
   ]
  },
  {
   "cell_type": "code",
   "execution_count": null,
   "metadata": {
    "collapsed": true
   },
   "outputs": [],
   "source": [
    "hpixdata"
   ]
  },
  {
   "cell_type": "code",
   "execution_count": null,
   "metadata": {
    "collapsed": true
   },
   "outputs": [],
   "source": [
    "hu.mollview(hpixdata,rot=180)"
   ]
  },
  {
   "cell_type": "code",
   "execution_count": null,
   "metadata": {
    "collapsed": true
   },
   "outputs": [],
   "source": [
    "hu.orthview(hpixdata)"
   ]
  },
  {
   "cell_type": "markdown",
   "metadata": {},
   "source": [
    "This method doesnt seem to produce right random catalogs...doing it with ra and dec as follows"
   ]
  },
  {
   "cell_type": "code",
   "execution_count": null,
   "metadata": {
    "collapsed": true
   },
   "outputs": [],
   "source": [
    "data"
   ]
  },
  {
   "cell_type": "code",
   "execution_count": null,
   "metadata": {
    "collapsed": true
   },
   "outputs": [],
   "source": [
    "data['z'],data['ra'],data['dec']"
   ]
  },
  {
   "cell_type": "code",
   "execution_count": null,
   "metadata": {
    "collapsed": true
   },
   "outputs": [],
   "source": [
    "datzradec=np.array([data['z'], data['ra'], data['dec']])"
   ]
  },
  {
   "cell_type": "code",
   "execution_count": null,
   "metadata": {
    "collapsed": true
   },
   "outputs": [],
   "source": [
    "datzradec"
   ]
  },
  {
   "cell_type": "code",
   "execution_count": null,
   "metadata": {
    "collapsed": true
   },
   "outputs": [],
   "source": [
    "rng = check_random_state(None)\n",
    "\n",
    "n_features, n_samples  = datzradec.shape\n",
    "\n",
    "# shuffle all but one axis to get background distribution\n",
    "data_Rzradec = datzradec.copy()\n",
    "print data_Rzradec\n",
    "for i in range(1,n_features):\n",
    "    rng.shuffle(data_Rzradec[:, i])\n",
    "print data_Rzradec"
   ]
  },
  {
   "cell_type": "code",
   "execution_count": null,
   "metadata": {
    "collapsed": true
   },
   "outputs": [],
   "source": [
    "min(data_Rzradec[:, 1])"
   ]
  },
  {
   "cell_type": "code",
   "execution_count": null,
   "metadata": {
    "collapsed": true
   },
   "outputs": [],
   "source": [
    "max(data_Rzradec[:, 1])"
   ]
  },
  {
   "cell_type": "code",
   "execution_count": null,
   "metadata": {
    "collapsed": true
   },
   "outputs": [],
   "source": [
    "min(data_Rzradec[:, 2])"
   ]
  },
  {
   "cell_type": "code",
   "execution_count": null,
   "metadata": {
    "collapsed": true
   },
   "outputs": [],
   "source": [
    "max(data_Rzradec[:, 2])"
   ]
  },
  {
   "cell_type": "code",
   "execution_count": null,
   "metadata": {
    "collapsed": true
   },
   "outputs": [],
   "source": []
  },
  {
   "cell_type": "code",
   "execution_count": null,
   "metadata": {
    "collapsed": true
   },
   "outputs": [],
   "source": [
    "min(datzradec[:, 1])"
   ]
  },
  {
   "cell_type": "code",
   "execution_count": null,
   "metadata": {
    "collapsed": true
   },
   "outputs": [],
   "source": [
    "max(datzradec[:, 1])"
   ]
  },
  {
   "cell_type": "code",
   "execution_count": null,
   "metadata": {
    "collapsed": true
   },
   "outputs": [],
   "source": [
    "min(datzradec[:, 2])"
   ]
  },
  {
   "cell_type": "code",
   "execution_count": null,
   "metadata": {
    "collapsed": true
   },
   "outputs": [],
   "source": [
    "max(datzradec[:, 2])"
   ]
  },
  {
   "cell_type": "code",
   "execution_count": null,
   "metadata": {
    "collapsed": true
   },
   "outputs": [],
   "source": [
    "range(1,3)"
   ]
  },
  {
   "cell_type": "code",
   "execution_count": null,
   "metadata": {
    "collapsed": true
   },
   "outputs": [],
   "source": []
  },
  {
   "cell_type": "code",
   "execution_count": null,
   "metadata": {
    "collapsed": true
   },
   "outputs": [],
   "source": []
  },
  {
   "cell_type": "code",
   "execution_count": null,
   "metadata": {
    "collapsed": true
   },
   "outputs": [],
   "source": [
    "help(rng.shuffle)"
   ]
  },
  {
   "cell_type": "code",
   "execution_count": null,
   "metadata": {
    "collapsed": true
   },
   "outputs": [],
   "source": [
    "n_samples"
   ]
  },
  {
   "cell_type": "code",
   "execution_count": null,
   "metadata": {
    "collapsed": true
   },
   "outputs": [],
   "source": [
    "n_features"
   ]
  },
  {
   "cell_type": "code",
   "execution_count": null,
   "metadata": {
    "collapsed": true
   },
   "outputs": [],
   "source": [
    "data_Rzradec"
   ]
  },
  {
   "cell_type": "code",
   "execution_count": null,
   "metadata": {
    "collapsed": true
   },
   "outputs": [],
   "source": [
    "data_Rzradec[0][2]"
   ]
  },
  {
   "cell_type": "code",
   "execution_count": null,
   "metadata": {
    "collapsed": true
   },
   "outputs": [],
   "source": [
    "len(data_Rzradec[0][:])"
   ]
  },
  {
   "cell_type": "code",
   "execution_count": null,
   "metadata": {
    "collapsed": true
   },
   "outputs": [],
   "source": [
    "data_Rzradec[0][:]"
   ]
  },
  {
   "cell_type": "code",
   "execution_count": null,
   "metadata": {
    "collapsed": true
   },
   "outputs": [],
   "source": [
    "pixdata = open(\"./output/pixdatadr72VAGCfullrandamrd.dat\",'w')\n",
    "pixdata.write(\"z\\t pix \\n\")\n",
    "for i in range(0,len(data_Rzradec[0][:])-1):\n",
    "    pixdata.write(\"%f\\t\" %data_Rzradec[0][i])\n",
    "    pixdata.write(\"%d\\n\" %dr72hpix.eq2pix(data_Rzradec[1][i],data_Rzradec[2][i]))\n",
    "pixdata.close()"
   ]
  },
  {
   "cell_type": "code",
   "execution_count": null,
   "metadata": {
    "collapsed": true
   },
   "outputs": [],
   "source": [
    "pixdata = ascii.read(\"./output/pixdatadr72VAGCfullrandamrd.dat\")\n",
    "hpixdata=np.array(np.zeros(hu.nside2npix(NSIDE)))\n",
    "for j in range(len(pixdata)):\n",
    "    hpixdata[pixdata[j]['pix']]+=1"
   ]
  },
  {
   "cell_type": "code",
   "execution_count": null,
   "metadata": {
    "collapsed": true
   },
   "outputs": [],
   "source": [
    "hpixdata"
   ]
  },
  {
   "cell_type": "code",
   "execution_count": null,
   "metadata": {
    "collapsed": true
   },
   "outputs": [],
   "source": [
    "hu.mollview(hpixdata,rot=180)"
   ]
  },
  {
   "cell_type": "code",
   "execution_count": null,
   "metadata": {
    "collapsed": true
   },
   "outputs": [],
   "source": [
    "hu.orthview(hpixdata)"
   ]
  },
  {
   "cell_type": "code",
   "execution_count": null,
   "metadata": {
    "collapsed": true
   },
   "outputs": [],
   "source": [
    "dataxyz"
   ]
  },
  {
   "cell_type": "code",
   "execution_count": null,
   "metadata": {
    "collapsed": true
   },
   "outputs": [],
   "source": [
    "dataxyzR1=ra_dec_to_xyz(data_Rzradec[1][:],data_Rzradec[2][:])"
   ]
  },
  {
   "cell_type": "code",
   "execution_count": null,
   "metadata": {
    "collapsed": true
   },
   "outputs": [],
   "source": [
    "data_Rzradec[1][:]"
   ]
  },
  {
   "cell_type": "code",
   "execution_count": null,
   "metadata": {
    "collapsed": true
   },
   "outputs": [],
   "source": []
  },
  {
   "cell_type": "code",
   "execution_count": null,
   "metadata": {
    "collapsed": true
   },
   "outputs": [],
   "source": []
  },
  {
   "cell_type": "code",
   "execution_count": null,
   "metadata": {
    "collapsed": true
   },
   "outputs": [],
   "source": [
    "dataxyzR1"
   ]
  },
  {
   "cell_type": "code",
   "execution_count": null,
   "metadata": {
    "collapsed": true
   },
   "outputs": [],
   "source": [
    "dataxyzR1=np.asarray(dataxyzR1)"
   ]
  },
  {
   "cell_type": "code",
   "execution_count": null,
   "metadata": {
    "collapsed": true
   },
   "outputs": [],
   "source": []
  },
  {
   "cell_type": "code",
   "execution_count": null,
   "metadata": {
    "collapsed": true
   },
   "outputs": [],
   "source": [
    "dataxyzR1=dataxyzR1.transpose()"
   ]
  },
  {
   "cell_type": "code",
   "execution_count": null,
   "metadata": {
    "collapsed": true
   },
   "outputs": [],
   "source": [
    "dataxyzR1"
   ]
  },
  {
   "cell_type": "code",
   "execution_count": null,
   "metadata": {
    "collapsed": true
   },
   "outputs": [],
   "source": [
    "bins=np.arange(0.025,1.025,0.025)"
   ]
  },
  {
   "cell_type": "code",
   "execution_count": null,
   "metadata": {
    "collapsed": true
   },
   "outputs": [],
   "source": [
    "bins"
   ]
  },
  {
   "cell_type": "code",
   "execution_count": null,
   "metadata": {
    "collapsed": true
   },
   "outputs": [],
   "source": []
  },
  {
   "cell_type": "code",
   "execution_count": null,
   "metadata": {
    "collapsed": true
   },
   "outputs": [],
   "source": [
    "#@pickle_results(\"tpcf_std.pkl\")\n",
    "tpcf=two_point(dataxyz,bins,method='standard',data_R=dataxyzR1, random_state=None)"
   ]
  },
  {
   "cell_type": "code",
   "execution_count": null,
   "metadata": {
    "collapsed": true
   },
   "outputs": [],
   "source": [
    "tpcf "
   ]
  },
  {
   "cell_type": "code",
   "execution_count": null,
   "metadata": {
    "collapsed": true
   },
   "outputs": [],
   "source": [
    "plt.plot(bins[1:],tpcf,'ro')"
   ]
  },
  {
   "cell_type": "code",
   "execution_count": null,
   "metadata": {
    "collapsed": true
   },
   "outputs": [],
   "source": [
    "bins=np.arange(0.0,1.05,0.05)"
   ]
  },
  {
   "cell_type": "code",
   "execution_count": null,
   "metadata": {
    "collapsed": true
   },
   "outputs": [],
   "source": [
    "#@pickle_results(\"tpcf_std.pkl\")\n",
    "tpcf=two_point(dataxyz,bins,method='standard',data_R=dataxyzR1, random_state=None)"
   ]
  },
  {
   "cell_type": "code",
   "execution_count": null,
   "metadata": {
    "collapsed": true
   },
   "outputs": [],
   "source": [
    "tpcf "
   ]
  },
  {
   "cell_type": "code",
   "execution_count": null,
   "metadata": {
    "collapsed": true
   },
   "outputs": [],
   "source": [
    "plt.plot(bins[1:],tpcf,'ro')"
   ]
  },
  {
   "cell_type": "code",
   "execution_count": null,
   "metadata": {
    "collapsed": true
   },
   "outputs": [],
   "source": [
    "btpcf=bootstrap_two_point(dataxyz, bins, Nbootstrap=10,\n",
    "                        method='standard', return_bootstraps=False,\n",
    "                        random_state=None)"
   ]
  },
  {
   "cell_type": "code",
   "execution_count": null,
   "metadata": {
    "collapsed": true
   },
   "outputs": [],
   "source": [
    "btpcf"
   ]
  },
  {
   "cell_type": "code",
   "execution_count": null,
   "metadata": {
    "collapsed": true
   },
   "outputs": [],
   "source": [
    "plt.errorbar(bins[1:],btpcf[0],yerr=btpcf[1],fmt='ro-')"
   ]
  },
  {
   "cell_type": "code",
   "execution_count": null,
   "metadata": {
    "collapsed": true
   },
   "outputs": [],
   "source": [
    "help(plt.errorbar)"
   ]
  },
  {
   "cell_type": "code",
   "execution_count": null,
   "metadata": {
    "collapsed": true
   },
   "outputs": [],
   "source": [
    "@pickle_results(\"tpcf_ls.pkl\")\n",
    "tpcfls=two_point(dataxyz,bins,method='landy-szalay',\n",
    "              data_R=dataxyzR, random_state=None)"
   ]
  },
  {
   "cell_type": "code",
   "execution_count": null,
   "metadata": {
    "collapsed": true
   },
   "outputs": [],
   "source": []
  },
  {
   "cell_type": "code",
   "execution_count": null,
   "metadata": {
    "collapsed": true
   },
   "outputs": [],
   "source": []
  },
  {
   "cell_type": "code",
   "execution_count": null,
   "metadata": {
    "collapsed": true
   },
   "outputs": [],
   "source": []
  },
  {
   "cell_type": "code",
   "execution_count": null,
   "metadata": {
    "collapsed": true
   },
   "outputs": [],
   "source": []
  },
  {
   "cell_type": "code",
   "execution_count": null,
   "metadata": {
    "collapsed": true
   },
   "outputs": [],
   "source": []
  },
  {
   "cell_type": "code",
   "execution_count": null,
   "metadata": {
    "collapsed": true
   },
   "outputs": [],
   "source": []
  },
  {
   "cell_type": "code",
   "execution_count": null,
   "metadata": {
    "collapsed": true
   },
   "outputs": [],
   "source": []
  },
  {
   "cell_type": "code",
   "execution_count": null,
   "metadata": {
    "collapsed": true
   },
   "outputs": [],
   "source": []
  },
  {
   "cell_type": "code",
   "execution_count": null,
   "metadata": {
    "collapsed": true
   },
   "outputs": [],
   "source": [
    "#------------------------------------------------------------\n",
    "# Set up correlation function computation\n",
    "#  This calculation takes a long time with the bootstrap resampling,\n",
    "#  so we'll save the results.\n",
    "@pickle_results(\"correlation_functionsdr72.pkl\")\n",
    "def compute_results(Nbins=16, Nbootstraps=10,  method='landy-szalay', rseed=0):\n",
    "    np.random.seed(rseed)\n",
    "    bins = 10 ** np.linspace(np.log10(1. / 60.), np.log10(6), 16)\n",
    "\n",
    "    results = [bins]\n",
    "    for D in [data]:\n",
    "        results += bootstrap_two_point_angular(D['ra'],\n",
    "                                               D['dec'],\n",
    "                                               bins=bins,\n",
    "                                               method=method,\n",
    "                                               Nbootstraps=Nbootstraps)\n",
    "\n",
    "    return results\n",
    "\n",
    "(bins, r_corr, r_corr_err, r_bootstraps) = compute_results()\n",
    "\n",
    "bin_centers = 0.5 * (bins[1:] + bins[:-1])"
   ]
  },
  {
   "cell_type": "code",
   "execution_count": null,
   "metadata": {
    "collapsed": true
   },
   "outputs": [],
   "source": [
    "bins"
   ]
  },
  {
   "cell_type": "code",
   "execution_count": null,
   "metadata": {
    "collapsed": true
   },
   "outputs": [],
   "source": [
    "r_corr"
   ]
  },
  {
   "cell_type": "code",
   "execution_count": null,
   "metadata": {
    "collapsed": true
   },
   "outputs": [],
   "source": [
    "r_corr_err"
   ]
  },
  {
   "cell_type": "code",
   "execution_count": null,
   "metadata": {
    "collapsed": true
   },
   "outputs": [],
   "source": [
    "r_bootstraps"
   ]
  },
  {
   "cell_type": "code",
   "execution_count": null,
   "metadata": {
    "collapsed": true
   },
   "outputs": [],
   "source": [
    "#------------------------------------------------------------\n",
    "# Plot the results\n",
    "\n",
    "label = '$0.15<z<0.25$\\n$N=33813$' \n",
    "\n",
    "fig = plt.figure(figsize=(6, 6))\n",
    "plt.xscale('log')\n",
    "plt.yscale('log')\n",
    "plt.errorbar(bin_centers, r_corr, r_corr_err,fmt='.k', ecolor='gray', lw=1)\n",
    "fig.text(0.8, 0.8, label, ha='right', va='top')\n",
    "plt.xlabel(r'$\\theta\\ (deg)$')\n",
    "plt.ylabel(r'$w(\\theta)$')\n",
    "plt.show()\n",
    "\n",
    "plt.show()\n",
    "fig.savefig(\"wth_dr72015025.pdf\")"
   ]
  },
  {
   "cell_type": "code",
   "execution_count": null,
   "metadata": {
    "collapsed": true
   },
   "outputs": [],
   "source": []
  },
  {
   "cell_type": "code",
   "execution_count": null,
   "metadata": {
    "collapsed": true
   },
   "outputs": [],
   "source": [
    "data=ascii.read('./input/sdssdr72_sorted_z.dat')"
   ]
  },
  {
   "cell_type": "code",
   "execution_count": null,
   "metadata": {
    "collapsed": true
   },
   "outputs": [],
   "source": [
    "data"
   ]
  },
  {
   "cell_type": "code",
   "execution_count": null,
   "metadata": {
    "collapsed": true
   },
   "outputs": [],
   "source": [
    "#m_max = 19\n",
    "\n",
    "# redshift and magnitude cuts\n",
    "data = data[data['z'] > 0.05]\n",
    "data = data[data['z'] < 0.15]\n",
    "#data = data[data['petroMag_r'] < m_max]\n",
    "\n",
    "# RA/DEC cuts\n",
    "RAmin, RAmax = 140, 220\n",
    "DECmin, DECmax = 5, 45\n",
    "data = data[data['ra'] < RAmax]\n",
    "data = data[data['ra'] > RAmin]\n",
    "data = data[data['dec'] < DECmax]\n",
    "data = data[data['dec'] > DECmin]\n",
    "\n",
    "#ur = data['modelMag_u'] - data['modelMag_r']\n",
    "#flag_red = (ur > 2.22)\n",
    "#flag_blue = ~flag_red\n",
    "\n",
    "#datag \n",
    "\n",
    "print \"data size:\"\n",
    "print \"  total gals: \", len(data)\n",
    "#print \"  blue gals:\", len(data_blue)"
   ]
  },
  {
   "cell_type": "code",
   "execution_count": null,
   "metadata": {
    "collapsed": true
   },
   "outputs": [],
   "source": [
    "NSIDE=512\n",
    "dr72hpix=hu.HealPix(\"ring\",NSIDE)"
   ]
  },
  {
   "cell_type": "code",
   "execution_count": null,
   "metadata": {
    "collapsed": true
   },
   "outputs": [],
   "source": [
    "pixdata = open(\"./output/pixdatadr72005015.dat\",'w')\n",
    "pixdata.write(\"z\\t pix \\n\")\n",
    "\n",
    "for i in range(0,len(data)-1):\n",
    "    pixdata.write(\"%f\\t\" %data['z'][i])\n",
    "    pixdata.write(\"%d\\n\" %dr72hpix.eq2pix(data['ra'][i],data['dec'][i]))\n",
    "pixdata.close()"
   ]
  },
  {
   "cell_type": "code",
   "execution_count": null,
   "metadata": {
    "collapsed": true
   },
   "outputs": [],
   "source": [
    "pixdata = ascii.read(\"./output/pixdatadr72005015.dat\")\n",
    "hpixdata=np.array(np.zeros(hu.nside2npix(NSIDE)))\n",
    "for j in range(len(pixdata)):\n",
    "    hpixdata[pixdata[j]['pix']]+=1"
   ]
  },
  {
   "cell_type": "code",
   "execution_count": null,
   "metadata": {
    "collapsed": true
   },
   "outputs": [],
   "source": [
    "hpixdata"
   ]
  },
  {
   "cell_type": "code",
   "execution_count": null,
   "metadata": {
    "collapsed": true
   },
   "outputs": [],
   "source": [
    "hu.mollview(hpixdata,rot=180)"
   ]
  },
  {
   "cell_type": "code",
   "execution_count": null,
   "metadata": {
    "collapsed": true
   },
   "outputs": [],
   "source": [
    "hu.orthview(hpixdata)"
   ]
  },
  {
   "cell_type": "code",
   "execution_count": null,
   "metadata": {
    "collapsed": true
   },
   "outputs": [],
   "source": [
    "#------------------------------------------------------------\n",
    "# Set up correlation function computation\n",
    "#  This calculation takes a long time with the bootstrap resampling,\n",
    "#  so we'll save the results.\n",
    "@pickle_results(\"correlation_functionsdr720515.pkl\")\n",
    "def compute_results(Nbins=16, Nbootstraps=10,  method='landy-szalay', rseed=0):\n",
    "    np.random.seed(rseed)\n",
    "    bins = 10 ** np.linspace(np.log10(1. / 60.), np.log10(6), 16)\n",
    "\n",
    "    results = [bins]\n",
    "    for D in [data]:\n",
    "        results += bootstrap_two_point_angular(D['ra'],\n",
    "                                               D['dec'],\n",
    "                                               bins=bins,\n",
    "                                               method=method,\n",
    "                                               Nbootstraps=Nbootstraps)\n",
    "\n",
    "    return results\n",
    "\n",
    "(bins, r_corr, r_corr_err, r_bootstraps) = compute_results()\n",
    "\n",
    "bin_centers = 0.5 * (bins[1:] + bins[:-1])"
   ]
  },
  {
   "cell_type": "code",
   "execution_count": null,
   "metadata": {
    "collapsed": true
   },
   "outputs": [],
   "source": [
    "bins"
   ]
  },
  {
   "cell_type": "code",
   "execution_count": null,
   "metadata": {
    "collapsed": true
   },
   "outputs": [],
   "source": [
    "r_corr"
   ]
  },
  {
   "cell_type": "code",
   "execution_count": null,
   "metadata": {
    "collapsed": true
   },
   "outputs": [],
   "source": [
    "r_corr_err"
   ]
  },
  {
   "cell_type": "code",
   "execution_count": null,
   "metadata": {
    "collapsed": true
   },
   "outputs": [],
   "source": [
    "r_bootstraps"
   ]
  },
  {
   "cell_type": "code",
   "execution_count": null,
   "metadata": {
    "collapsed": true
   },
   "outputs": [],
   "source": [
    "#------------------------------------------------------------\n",
    "# Plot the results\n",
    "label = '$0.05<z<0.15$\\n$N=138051$'\n",
    "\n",
    "fig = plt.figure(figsize=(6, 6))\n",
    "plt.xscale('log')\n",
    "plt.yscale('log')\n",
    "plt.errorbar(bin_centers, r_corr, r_corr_err,fmt='.k', ecolor='gray', lw=1)\n",
    "fig.text(0.8, 0.8, label, ha='right', va='top')\n",
    "plt.xlabel(r'$\\theta\\ (deg)$')\n",
    "plt.ylabel(r'$w(\\theta)$')\n",
    "plt.show()\n",
    "fig.savefig(\"wth_dr72005015.pdf\")"
   ]
  },
  {
   "cell_type": "code",
   "execution_count": null,
   "metadata": {
    "collapsed": true
   },
   "outputs": [],
   "source": [
    "plt.errorbar(bins[0:len(bins)-1],r_corr,r_corr_err)"
   ]
  },
  {
   "cell_type": "code",
   "execution_count": null,
   "metadata": {
    "collapsed": true
   },
   "outputs": [],
   "source": [
    "data=ascii.read('./input/sdssdr72_sorted_z.dat')"
   ]
  },
  {
   "cell_type": "code",
   "execution_count": null,
   "metadata": {
    "collapsed": true
   },
   "outputs": [],
   "source": [
    "data"
   ]
  },
  {
   "cell_type": "code",
   "execution_count": null,
   "metadata": {
    "collapsed": true
   },
   "outputs": [],
   "source": [
    "data['z']"
   ]
  },
  {
   "cell_type": "code",
   "execution_count": null,
   "metadata": {
    "collapsed": true
   },
   "outputs": [],
   "source": [
    "#m_max = 19\n",
    "\n",
    "# redshift and magnitude cuts\n",
    "data = data[data['z'] > 0.05]\n",
    "data = data[data['z'] <= 0.10]\n",
    "#data = data[data['petroMag_r'] < m_max]\n",
    "\n",
    "# RA/DEC cuts\n",
    "RAmin, RAmax = 140, 220\n",
    "DECmin, DECmax = 5, 45\n",
    "data = data[data['ra'] < RAmax]\n",
    "data = data[data['ra'] > RAmin]\n",
    "data = data[data['dec'] < DECmax]\n",
    "data = data[data['dec'] > DECmin]\n",
    "\n",
    "#ur = data['modelMag_u'] - data['modelMag_r']\n",
    "#flag_red = (ur > 2.22)\n",
    "#flag_blue = ~flag_red\n",
    "\n",
    "#datag \n",
    "\n",
    "print \"data size:\"\n",
    "print \"  total gals: \", len(data)\n",
    "#print \"  blue gals:\", len(data_blue)"
   ]
  },
  {
   "cell_type": "code",
   "execution_count": null,
   "metadata": {
    "collapsed": true
   },
   "outputs": [],
   "source": [
    "NSIDE=512\n",
    "dr72hpix=hu.HealPix(\"ring\",NSIDE)"
   ]
  },
  {
   "cell_type": "code",
   "execution_count": null,
   "metadata": {
    "collapsed": true
   },
   "outputs": [],
   "source": [
    "pixdata = open(\"./output/pixdatadr7200501.dat\",'w')\n",
    "pixdata.write(\"z\\t pix \\n\")\n",
    "\n",
    "for i in range(0,len(data)-1):\n",
    "    pixdata.write(\"%f\\t\" %data['z'][i])\n",
    "    pixdata.write(\"%d\\n\" %dr72hpix.eq2pix(data['ra'][i],data['dec'][i]))\n",
    "pixdata.close()"
   ]
  },
  {
   "cell_type": "code",
   "execution_count": null,
   "metadata": {
    "collapsed": true
   },
   "outputs": [],
   "source": [
    "pixdata = ascii.read(\"./output/pixdatadr7200501.dat\")\n",
    "hpixdata=np.array(np.zeros(hu.nside2npix(NSIDE)))\n",
    "for j in range(len(pixdata)):\n",
    "    hpixdata[pixdata[j]['pix']]+=1"
   ]
  },
  {
   "cell_type": "code",
   "execution_count": null,
   "metadata": {
    "collapsed": true
   },
   "outputs": [],
   "source": [
    "hpixdata"
   ]
  },
  {
   "cell_type": "code",
   "execution_count": null,
   "metadata": {
    "collapsed": true
   },
   "outputs": [],
   "source": [
    "hu.mollview(hpixdata,rot=180)"
   ]
  },
  {
   "cell_type": "code",
   "execution_count": null,
   "metadata": {
    "collapsed": true
   },
   "outputs": [],
   "source": [
    "hu.orthview(hpixdata)"
   ]
  },
  {
   "cell_type": "code",
   "execution_count": null,
   "metadata": {
    "collapsed": true
   },
   "outputs": [],
   "source": [
    "#------------------------------------------------------------\n",
    "# Set up correlation function computation\n",
    "#  This calculation takes a long time with the bootstrap resampling,\n",
    "#  so we'll save the results.\n",
    "@pickle_results(\"correlation_functionsdr720501.pkl\")\n",
    "def compute_results(Nbins=16, Nbootstraps=10,  method='landy-szalay', rseed=0):\n",
    "    np.random.seed(rseed)\n",
    "    bins = 10 ** np.linspace(np.log10(1. / 60.), np.log10(6), 16)\n",
    "\n",
    "    results = [bins]\n",
    "    for D in [data]:\n",
    "        results += bootstrap_two_point_angular(D['ra'],\n",
    "                                               D['dec'],\n",
    "                                               bins=bins,\n",
    "                                               method=method,\n",
    "                                               Nbootstraps=Nbootstraps)\n",
    "\n",
    "    return results\n",
    "\n",
    "(bins, r_corr, r_corr_err, r_bootstraps) = compute_results()\n",
    "\n",
    "bin_centers = 0.5 * (bins[1:] + bins[:-1])"
   ]
  },
  {
   "cell_type": "code",
   "execution_count": null,
   "metadata": {
    "collapsed": true
   },
   "outputs": [],
   "source": [
    "bins"
   ]
  },
  {
   "cell_type": "code",
   "execution_count": null,
   "metadata": {
    "collapsed": true
   },
   "outputs": [],
   "source": [
    "r_corr"
   ]
  },
  {
   "cell_type": "code",
   "execution_count": null,
   "metadata": {
    "collapsed": true
   },
   "outputs": [],
   "source": [
    "r_corr_err"
   ]
  },
  {
   "cell_type": "code",
   "execution_count": null,
   "metadata": {
    "collapsed": true
   },
   "outputs": [],
   "source": [
    "r_bootstraps"
   ]
  },
  {
   "cell_type": "code",
   "execution_count": null,
   "metadata": {
    "collapsed": true
   },
   "outputs": [],
   "source": [
    "#------------------------------------------------------------\n",
    "# Plot the results\n",
    "\n",
    "label = '$0.05<z<0.10$\\n$N=78939$'\n",
    "\n",
    "fig = plt.figure(figsize=(6, 6))\n",
    "plt.xscale('log')\n",
    "plt.yscale('log')\n",
    "plt.errorbar(bin_centers, r_corr, r_corr_err,fmt='.k', ecolor='gray', lw=1)\n",
    "fig.text(0.8, 0.8, label, ha='right', va='top')\n",
    "plt.xlabel(r'$\\theta\\ (deg)$')\n",
    "plt.ylabel(r'$w(\\theta)$')\n",
    "plt.show()\n",
    "fig.savefig(\"wth_dr720501.pdf\")"
   ]
  },
  {
   "cell_type": "code",
   "execution_count": null,
   "metadata": {
    "collapsed": true
   },
   "outputs": [],
   "source": [
    "plt.errorbar(bins[0:len(bins)-1],r_corr,r_corr_err)"
   ]
  },
  {
   "cell_type": "code",
   "execution_count": null,
   "metadata": {
    "collapsed": true
   },
   "outputs": [],
   "source": []
  },
  {
   "cell_type": "code",
   "execution_count": null,
   "metadata": {
    "collapsed": true
   },
   "outputs": [],
   "source": [
    "data=ascii.read('./input/sdssdr72_sorted_z.dat')"
   ]
  },
  {
   "cell_type": "code",
   "execution_count": null,
   "metadata": {
    "collapsed": true
   },
   "outputs": [],
   "source": [
    "data"
   ]
  },
  {
   "cell_type": "code",
   "execution_count": null,
   "metadata": {
    "collapsed": true
   },
   "outputs": [],
   "source": [
    "data['z']"
   ]
  },
  {
   "cell_type": "code",
   "execution_count": null,
   "metadata": {
    "collapsed": true
   },
   "outputs": [],
   "source": [
    "#m_max = 19\n",
    "\n",
    "# redshift and magnitude cuts\n",
    "data = data[data['z'] > 0.10]\n",
    "data = data[data['z'] <= 0.15]\n",
    "#data = data[data['petroMag_r'] < m_max]\n",
    "\n",
    "# RA/DEC cuts\n",
    "RAmin, RAmax = 140, 220\n",
    "DECmin, DECmax = 5, 45\n",
    "data = data[data['ra'] < RAmax]\n",
    "data = data[data['ra'] > RAmin]\n",
    "data = data[data['dec'] < DECmax]\n",
    "data = data[data['dec'] > DECmin]\n",
    "\n",
    "#ur = data['modelMag_u'] - data['modelMag_r']\n",
    "#flag_red = (ur > 2.22)\n",
    "#flag_blue = ~flag_red\n",
    "\n",
    "#datag \n",
    "\n",
    "print \"data size:\"\n",
    "print \"  total gals: \", len(data)\n",
    "#print \"  blue gals:\", len(data_blue)"
   ]
  },
  {
   "cell_type": "code",
   "execution_count": null,
   "metadata": {
    "collapsed": true
   },
   "outputs": [],
   "source": [
    "NSIDE=512\n",
    "dr72hpix=hu.HealPix(\"ring\",NSIDE)"
   ]
  },
  {
   "cell_type": "code",
   "execution_count": null,
   "metadata": {
    "collapsed": true
   },
   "outputs": [],
   "source": [
    "pixdata = open(\"./output/pixdatadr72001015.dat\",'w')\n",
    "pixdata.write(\"z\\t pix \\n\")\n",
    "\n",
    "for i in range(0,len(data)-1):\n",
    "    pixdata.write(\"%f\\t\" %data['z'][i])\n",
    "    pixdata.write(\"%d\\n\" %dr72hpix.eq2pix(data['ra'][i],data['dec'][i]))\n",
    "pixdata.close()"
   ]
  },
  {
   "cell_type": "code",
   "execution_count": null,
   "metadata": {
    "collapsed": true
   },
   "outputs": [],
   "source": [
    "pixdata = ascii.read(\"./output/pixdatadr72001015.dat\")\n",
    "hpixdata=np.array(np.zeros(hu.nside2npix(NSIDE)))\n",
    "for j in range(len(pixdata)):\n",
    "    hpixdata[pixdata[j]['pix']]+=1"
   ]
  },
  {
   "cell_type": "code",
   "execution_count": null,
   "metadata": {
    "collapsed": true
   },
   "outputs": [],
   "source": [
    "hpixdata"
   ]
  },
  {
   "cell_type": "code",
   "execution_count": null,
   "metadata": {
    "collapsed": true
   },
   "outputs": [],
   "source": [
    "hu.mollview(hpixdata,rot=180)"
   ]
  },
  {
   "cell_type": "code",
   "execution_count": null,
   "metadata": {
    "collapsed": true
   },
   "outputs": [],
   "source": [
    "hu.orthview(hpixdata)"
   ]
  },
  {
   "cell_type": "code",
   "execution_count": null,
   "metadata": {
    "collapsed": true
   },
   "outputs": [],
   "source": [
    "#------------------------------------------------------------\n",
    "# Set up correlation function computation\n",
    "#  This calculation takes a long time with the bootstrap resampling,\n",
    "#  so we'll save the results.\n",
    "@pickle_results(\"correlation_functionsdr72001015.pkl\")\n",
    "def compute_results(Nbins=16, Nbootstraps=10,  method='landy-szalay', rseed=0):\n",
    "    np.random.seed(rseed)\n",
    "    bins = 10 ** np.linspace(np.log10(1. / 60.), np.log10(6), 16)\n",
    "\n",
    "    results = [bins]\n",
    "    for D in [data]:\n",
    "        results += bootstrap_two_point_angular(D['ra'],\n",
    "                                               D['dec'],\n",
    "                                               bins=bins,\n",
    "                                               method=method,\n",
    "                                               Nbootstraps=Nbootstraps)\n",
    "\n",
    "    return results\n",
    "\n",
    "(bins, r_corr, r_corr_err, r_bootstraps) = compute_results()\n",
    "\n",
    "bin_centers = 0.5 * (bins[1:] + bins[:-1])"
   ]
  },
  {
   "cell_type": "code",
   "execution_count": null,
   "metadata": {
    "collapsed": true
   },
   "outputs": [],
   "source": [
    "bins"
   ]
  },
  {
   "cell_type": "code",
   "execution_count": null,
   "metadata": {
    "collapsed": true
   },
   "outputs": [],
   "source": [
    "r_corr"
   ]
  },
  {
   "cell_type": "code",
   "execution_count": null,
   "metadata": {
    "collapsed": true
   },
   "outputs": [],
   "source": [
    "r_corr_err"
   ]
  },
  {
   "cell_type": "code",
   "execution_count": null,
   "metadata": {
    "collapsed": true
   },
   "outputs": [],
   "source": [
    "r_bootstraps"
   ]
  },
  {
   "cell_type": "code",
   "execution_count": null,
   "metadata": {
    "collapsed": true
   },
   "outputs": [],
   "source": [
    "#------------------------------------------------------------\n",
    "# Plot the results\n",
    "\n",
    "label = '$0.10<z<0.15$\\n$N=59112$'\n",
    "fig = plt.figure(figsize=(6, 6))\n",
    "plt.xscale('log')\n",
    "plt.yscale('log')\n",
    "plt.errorbar(bin_centers, r_corr, r_corr_err,fmt='.k', ecolor='gray', lw=1)\n",
    "fig.text(0.8, 0.8, label, ha='right', va='top')\n",
    "plt.xlabel(r'$\\theta\\ (deg)$')\n",
    "plt.ylabel(r'$w(\\theta)$')\n",
    "plt.show()\n",
    "fig.savefig(\"wth_dr7201015.pdf\")"
   ]
  },
  {
   "cell_type": "code",
   "execution_count": null,
   "metadata": {
    "collapsed": true
   },
   "outputs": [],
   "source": [
    "plt.errorbar(bins[0:len(bins)-1],r_corr,r_corr_err)"
   ]
  },
  {
   "cell_type": "code",
   "execution_count": null,
   "metadata": {
    "collapsed": true
   },
   "outputs": [],
   "source": [
    "hu.mollview(hpixdatab,rot=180)"
   ]
  },
  {
   "cell_type": "code",
   "execution_count": null,
   "metadata": {
    "collapsed": true
   },
   "outputs": [],
   "source": [
    "hu.orthview(hpixdatab)"
   ]
  },
  {
   "cell_type": "code",
   "execution_count": null,
   "metadata": {
    "collapsed": true
   },
   "outputs": [],
   "source": []
  },
  {
   "cell_type": "code",
   "execution_count": null,
   "metadata": {
    "collapsed": true
   },
   "outputs": [],
   "source": []
  },
  {
   "cell_type": "code",
   "execution_count": null,
   "metadata": {
    "collapsed": true
   },
   "outputs": [],
   "source": []
  },
  {
   "cell_type": "code",
   "execution_count": null,
   "metadata": {
    "collapsed": true
   },
   "outputs": [],
   "source": []
  },
  {
   "cell_type": "code",
   "execution_count": null,
   "metadata": {
    "collapsed": true
   },
   "outputs": [],
   "source": [
    "help(hu.mollview)"
   ]
  },
  {
   "cell_type": "code",
   "execution_count": null,
   "metadata": {
    "collapsed": true
   },
   "outputs": [],
   "source": [
    "\n",
    "from astroML.datasets import fetch_sdss_specgals\n",
    "from astroML.correlation import bootstrap_two_point_angular"
   ]
  },
  {
   "cell_type": "code",
   "execution_count": null,
   "metadata": {
    "collapsed": true
   },
   "outputs": [],
   "source": [
    "help(bootstrap_two_point_angular)"
   ]
  },
  {
   "cell_type": "code",
   "execution_count": null,
   "metadata": {
    "collapsed": true
   },
   "outputs": [],
   "source": [
    "help(astroML.correlation)"
   ]
  },
  {
   "cell_type": "code",
   "execution_count": null,
   "metadata": {
    "collapsed": true
   },
   "outputs": [],
   "source": [
    "import astroML.correlation"
   ]
  },
  {
   "cell_type": "code",
   "execution_count": null,
   "metadata": {
    "collapsed": true
   },
   "outputs": [],
   "source": [
    "import sklearn.neighbors"
   ]
  },
  {
   "cell_type": "code",
   "execution_count": null,
   "metadata": {
    "collapsed": true
   },
   "outputs": [],
   "source": [
    "help(sklearn.neighbors)"
   ]
  },
  {
   "cell_type": "markdown",
   "metadata": {},
   "source": [
    "Sorted and reduced column set data can now be 'read' to reduce RAM requirements of the table reading. "
   ]
  },
  {
   "cell_type": "code",
   "execution_count": null,
   "metadata": {
    "collapsed": true
   },
   "outputs": [],
   "source": [
    "sdssdr72=ascii.read('./input/dssdr72_sorted_z.dat')"
   ]
  },
  {
   "cell_type": "markdown",
   "metadata": {},
   "source": [
    "Create a healpix map with NSIDE=64 (no. of pixels = 49152 as $NPIX=12\\times NSIDE^2$) because the no. of galaxies in the survey are less. For higher resolution (later for dr12) we will consider NSIDE=512 or even 1024. For now, we will create a 64 NSIDE map."
   ]
  },
  {
   "cell_type": "code",
   "execution_count": null,
   "metadata": {
    "collapsed": true
   },
   "outputs": [],
   "source": [
    "NSIDE=64\n",
    "dt72hpix=hu.HealPix(\"ring\",NSIDE)"
   ]
  },
  {
   "cell_type": "markdown",
   "metadata": {},
   "source": [
    "We have data of galaxies with redshifts between 0 and 0.5 ($0<z<0.5$). To look at a time slice/at a certain epoch we need to choose the list of galaxies within a redshift window. As, measurement of redshift has $\\pm 0.05$ error. We can bin all the data into redshifts with range limited to 0.05 variation each. So, we have 10 databins with almost identical redshifts. We save each databin in a different file. "
   ]
  },
  {
   "cell_type": "code",
   "execution_count": null,
   "metadata": {
    "collapsed": true
   },
   "outputs": [],
   "source": [
    "j=0\n",
    "for i in range(1,17):\n",
    "    pixdata = open(\"/home/rohin/Desktop/healpix/binned1/pixdata%d_%d.dat\"%(NSIDE,i),'w')\n",
    "    pixdata.write(\"ra\\t dec\\t z\\t pix \\n\")\n",
    "    #for j in range(len(sdssdr72)):\n",
    "    try:\n",
    "        while sdssdr72[j]['z']<0.03*i:\n",
    "            pixdata.write(\"%f\\t\" %sdssdr72[j]['ra'])\n",
    "            pixdata.write(\"%f\\t\" %sdssdr72[j]['dec'])\n",
    "            pixdata.write(\"%f\\t\" %sdssdr72[j]['z'])\n",
    "            pixdata.write(\"%d\\n\" %dt72hpix.eq2pix(sdssdr72[j]['ra'],sdssdr72[j]['dec']))\n",
    "            #print dt72hpix.eq2pix(sdssdr72[j]['ra'],sdssdr72[j]['dec'])\n",
    "            j=j+1\n",
    "    except:\n",
    "        pass\n",
    "    pixdata.close()"
   ]
  },
  {
   "cell_type": "code",
   "execution_count": null,
   "metadata": {
    "collapsed": true
   },
   "outputs": [],
   "source": [
    "for i in range(1,17):\n",
    "    pixdata = ascii.read(\"/home/rohin/Desktop/healpix/binned1/pixdata%d_%d.dat\"%(NSIDE,i))\n",
    "    mpixdata = open(\"/home/rohin/Desktop/healpix/binned1/masked/pixdata%d_%d.dat\"%(NSIDE,i),'w')\n",
    "    mpixdata.write(\"ra\\t dec\\t z\\t pix \\n\")\n",
    "    for j in range((len(pixdata)-1)):\n",
    "        if 100<pixdata[j]['ra']<250:\n",
    "            mpixdata.write(\"%f\\t\" %pixdata[j]['ra'])\n",
    "            mpixdata.write(\"%f\\t\" %pixdata[j]['dec'])\n",
    "            mpixdata.write(\"%f\\t\" %pixdata[j]['z'])\n",
    "            mpixdata.write(\"%d\\n\" %pixdata[j]['pix'])\n",
    "    #pixdata.write(\"/home/rohin/Desktop/healpix/binned1/masked/pixdata_%d.dat\"%i,format='ascii')\n",
    "                \n",
    "                \n",
    "            #print dt72hpix.eq2pix(sdssdr72[j]['ra'],sdssdr72[j]['dec'])\n",
    "    mpixdata.close()"
   ]
  },
  {
   "cell_type": "markdown",
   "metadata": {},
   "source": [
    "We now, take each databin and assign the total no. of galaxies as the value of each pixel. The following routine will calculate the no. of galaxies by couting the occurence of pixel numbers in the file."
   ]
  },
  {
   "cell_type": "code",
   "execution_count": null,
   "metadata": {
    "collapsed": true
   },
   "outputs": [],
   "source": [
    "pixdata = ascii.read(\"/home/rohin/Desktop/healpix/binned1/masked/pixdata%d_2.dat\"%NSIDE)\n",
    "hpixdata=np.array(np.zeros(hu.nside2npix(NSIDE)))\n",
    "for j in range(len(pixdata)):\n",
    "    hpixdata[pixdata[j]['pix']]+=1"
   ]
  },
  {
   "cell_type": "code",
   "execution_count": null,
   "metadata": {
    "collapsed": true
   },
   "outputs": [],
   "source": [
    "hpixdata"
   ]
  },
  {
   "cell_type": "code",
   "execution_count": null,
   "metadata": {
    "collapsed": true
   },
   "outputs": [],
   "source": [
    "hu.orthview(hpixdata,rot=180)"
   ]
  },
  {
   "cell_type": "code",
   "execution_count": null,
   "metadata": {
    "collapsed": true
   },
   "outputs": [],
   "source": [
    "pixcl=hu.anafast(hpixdata,lmax=300)\n",
    "ell = np.arange(len(pixcl))\n",
    "plt.figure()\n",
    "plt.plot(ell,np.log(pixcl))\n",
    "plt.show()"
   ]
  },
  {
   "cell_type": "code",
   "execution_count": null,
   "metadata": {
    "collapsed": true
   },
   "outputs": [],
   "source": [
    "pixcl=hu.anafast(hpixdata,lmax=300)\n",
    "ell = np.arange(len(pixcl))\n",
    "plt.figure()\n",
    "plt.plot(ell,np.sqrt(ell*(ell+1)*pixcl/(4*math.pi)))\n",
    "plt.show()"
   ]
  },
  {
   "cell_type": "code",
   "execution_count": null,
   "metadata": {
    "collapsed": true
   },
   "outputs": [],
   "source": [
    "theta=np.arange(0,np.pi,0.001)"
   ]
  },
  {
   "cell_type": "code",
   "execution_count": null,
   "metadata": {
    "collapsed": true
   },
   "outputs": [],
   "source": [
    "correldat = np.polynomial.legendre.legval(np.cos(theta),(2*ell+1)*np.absolute(pixcl))/(4*math.pi)"
   ]
  },
  {
   "cell_type": "code",
   "execution_count": null,
   "metadata": {
    "collapsed": true
   },
   "outputs": [],
   "source": [
    "plt.figure()\n",
    "plt.plot(theta[0:600]*180/math.pi,correldat[0:600])\n",
    "plt.show()"
   ]
  },
  {
   "cell_type": "code",
   "execution_count": null,
   "metadata": {
    "collapsed": true
   },
   "outputs": [],
   "source": [
    "plt.figure()\n",
    "plt.plot(theta*180/math.pi,correldat)\n",
    "plt.show()"
   ]
  },
  {
   "cell_type": "code",
   "execution_count": null,
   "metadata": {
    "collapsed": true
   },
   "outputs": [],
   "source": [
    "randra,randdec=hu.randsphere(2200000)"
   ]
  },
  {
   "cell_type": "code",
   "execution_count": null,
   "metadata": {
    "collapsed": true
   },
   "outputs": [],
   "source": [
    "randhp=hu.HealPix(\"RING\",NSIDE)"
   ]
  },
  {
   "cell_type": "code",
   "execution_count": null,
   "metadata": {
    "collapsed": true
   },
   "outputs": [],
   "source": [
    "randhppix=randhp.eq2pix(randra,randdec)"
   ]
  },
  {
   "cell_type": "code",
   "execution_count": null,
   "metadata": {
    "collapsed": true
   },
   "outputs": [],
   "source": [
    "randpixdat=np.array(np.zeros(hu.nside2npix(NSIDE)))"
   ]
  },
  {
   "cell_type": "code",
   "execution_count": null,
   "metadata": {
    "collapsed": true
   },
   "outputs": [],
   "source": [
    "for j in range(len(randhppix)):\n",
    "    randpixdat[randhppix[j]]+=1"
   ]
  },
  {
   "cell_type": "code",
   "execution_count": null,
   "metadata": {
    "collapsed": true
   },
   "outputs": [],
   "source": [
    "randmaphp=hu.mollview(randpixdat)"
   ]
  },
  {
   "cell_type": "code",
   "execution_count": null,
   "metadata": {
    "collapsed": true
   },
   "outputs": [],
   "source": [
    "randcl=hu.anafast(randpixdat,lmax=300)\n",
    "ell = np.arange(len(randcl))\n",
    "plt.figure()\n",
    "plt.plot(ell,np.sqrt(ell*(ell+1)*randcl/(4*math.pi)))\n",
    "plt.show()"
   ]
  },
  {
   "cell_type": "code",
   "execution_count": null,
   "metadata": {
    "collapsed": true
   },
   "outputs": [],
   "source": [
    "correlrand = np.polynomial.legendre.legval(np.cos(theta),(2*ell+1)*np.absolute(randcl))/(4*math.pi)\n",
    "plt.figure()\n",
    "plt.plot(theta[0:600]*180/math.pi,correlrand[0:600])\n",
    "plt.show()"
   ]
  },
  {
   "cell_type": "code",
   "execution_count": null,
   "metadata": {
    "collapsed": true
   },
   "outputs": [],
   "source": [
    "finalcorrel=correldat-correlrand\n",
    "plt.figure()\n",
    "plt.plot(theta[0:600]*180/math.pi,finalcorrel[0:600])\n",
    "plt.show()"
   ]
  },
  {
   "cell_type": "code",
   "execution_count": null,
   "metadata": {
    "collapsed": true
   },
   "outputs": [],
   "source": [
    "finalpix=hpixdata-randpixdat"
   ]
  },
  {
   "cell_type": "code",
   "execution_count": null,
   "metadata": {
    "collapsed": true
   },
   "outputs": [],
   "source": [
    "hu.mollview(finalpix,rot=180)"
   ]
  },
  {
   "cell_type": "code",
   "execution_count": null,
   "metadata": {
    "collapsed": true
   },
   "outputs": [],
   "source": [
    "cl=hu.anafast(finalpix,lmax=300)\n",
    "ell = np.arange(len(cl))\n",
    "plt.figure()\n",
    "plt.plot(ell,np.sqrt(ell*(ell+1)*cl/(4*math.pi)))\n",
    "plt.show()"
   ]
  },
  {
   "cell_type": "code",
   "execution_count": null,
   "metadata": {
    "collapsed": true
   },
   "outputs": [],
   "source": [
    "correlrand = np.polynomial.legendre.legval(np.cos(theta),(2*ell+1)*np.absolute(cl))/(4*math.pi)\n",
    "plt.figure()\n",
    "plt.plot(theta[0:600]*180/math.pi,correlrand[0:600])\n",
    "plt.show()"
   ]
  },
  {
   "cell_type": "code",
   "execution_count": null,
   "metadata": {
    "collapsed": true
   },
   "outputs": [],
   "source": [
    "finalcl=pixcl-randcl\n",
    "correlrand = np.polynomial.legendre.legval(np.cos(theta),(2*ell+1)*np.absolute(finalcl))/(4*math.pi)\n",
    "plt.figure()\n",
    "plt.plot(theta[0:600]*180/math.pi,correlrand[0:600])\n",
    "plt.show()"
   ]
  },
  {
   "cell_type": "code",
   "execution_count": null,
   "metadata": {
    "collapsed": true
   },
   "outputs": [],
   "source": [
    "help(fits)"
   ]
  },
  {
   "cell_type": "code",
   "execution_count": null,
   "metadata": {
    "collapsed": true
   },
   "outputs": [],
   "source": [
    "data[1].data['z']"
   ]
  },
  {
   "cell_type": "code",
   "execution_count": null,
   "metadata": {
    "collapsed": true
   },
   "outputs": [],
   "source": []
  }
 ],
 "metadata": {
  "kernelspec": {
   "display_name": "Python 2",
   "language": "python",
   "name": "python2"
  },
  "language_info": {
   "codemirror_mode": {
    "name": "ipython",
    "version": 2
   },
   "file_extension": ".py",
   "mimetype": "text/x-python",
   "name": "python",
   "nbconvert_exporter": "python",
   "pygments_lexer": "ipython2",
   "version": "2.7.13"
  }
 },
 "nbformat": 4,
 "nbformat_minor": 1
}
