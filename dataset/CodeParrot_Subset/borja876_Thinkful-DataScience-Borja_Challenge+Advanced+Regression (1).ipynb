{
 "cells": [
  {
   "cell_type": "code",
   "execution_count": 212,
   "metadata": {},
   "outputs": [],
   "source": [
    "%matplotlib inline\n",
    "import numpy as np\n",
    "import pandas as pd\n",
    "import scipy\n",
    "import sklearn\n",
    "import matplotlib.pyplot as plt\n",
    "import seaborn as sns\n",
    "import math\n",
    "from matplotlib.mlab import PCA as mlabPCA\n",
    "from sklearn.preprocessing import StandardScaler\n",
    "from sklearn.decomposition import PCA \n",
    "from sklearn import preprocessing\n",
    "from sklearn.feature_selection import SelectKBest\n",
    "import seaborn as sns\n",
    "import scipy.stats as stats\n",
    "from sklearn.naive_bayes import GaussianNB\n",
    "from sklearn.naive_bayes import MultinomialNB\n",
    "from sklearn.naive_bayes import BernoulliNB\n",
    "from sklearn.metrics import confusion_matrix\n",
    "from sklearn.model_selection import cross_val_score, KFold\n",
    "import matplotlib.pyplot as plt\n",
    "from sklearn.model_selection import StratifiedKFold\n",
    "from sklearn.feature_selection import RFECV\n",
    "from sklearn.datasets import make_classification\n",
    "from sklearn.feature_selection import RFE\n",
    "from sklearn.model_selection import cross_val_predict\n",
    "from sklearn import metrics\n",
    "from sklearn.decomposition import PCA as sklearn_pca\n",
    "import locale\n",
    "from locale import atof\n",
    "import warnings\n",
    "from IPython.display import display\n",
    "from sklearn import linear_model\n",
    "from sklearn.model_selection import cross_val_score, cross_val_predict\n",
    "from sklearn.feature_selection import f_regression\n",
    "import statsmodels.api as sm\n",
    "from statsmodels.sandbox.regression.predstd import wls_prediction_std\n",
    "import xlrd\n",
    "from sklearn.linear_model import LogisticRegression\n",
    "from sklearn.linear_model import Ridge\n",
    "from sklearn.linear_model import Lasso\n",
    "from sklearn.linear_model import RidgeCV\n",
    "from sklearn.decomposition import PCA\n",
    "from sklearn import decomposition"
   ]
  },
  {
   "cell_type": "code",
   "execution_count": 213,
   "metadata": {},
   "outputs": [
    {
     "data": {
      "text/html": [
       "<div>\n",
       "<style>\n",
       "    .dataframe thead tr:only-child th {\n",
       "        text-align: right;\n",
       "    }\n",
       "\n",
       "    .dataframe thead th {\n",
       "        text-align: left;\n",
       "    }\n",
       "\n",
       "    .dataframe tbody tr th {\n",
       "        vertical-align: top;\n",
       "    }\n",
       "</style>\n",
       "<table border=\"1\" class=\"dataframe\">\n",
       "  <thead>\n",
       "    <tr style=\"text-align: right;\">\n",
       "      <th></th>\n",
       "      <th>Table 8</th>\n",
       "      <th>Unnamed: 1</th>\n",
       "      <th>Unnamed: 2</th>\n",
       "      <th>Unnamed: 3</th>\n",
       "      <th>Unnamed: 4</th>\n",
       "      <th>Unnamed: 5</th>\n",
       "      <th>Unnamed: 6</th>\n",
       "      <th>Unnamed: 7</th>\n",
       "      <th>Unnamed: 8</th>\n",
       "      <th>Unnamed: 9</th>\n",
       "      <th>Unnamed: 10</th>\n",
       "      <th>Unnamed: 11</th>\n",
       "      <th>Unnamed: 12</th>\n",
       "    </tr>\n",
       "  </thead>\n",
       "  <tbody>\n",
       "    <tr>\n",
       "      <th>0</th>\n",
       "      <td>NEW YORK</td>\n",
       "      <td>NaN</td>\n",
       "      <td>NaN</td>\n",
       "      <td>NaN</td>\n",
       "      <td>NaN</td>\n",
       "      <td>NaN</td>\n",
       "      <td>NaN</td>\n",
       "      <td>NaN</td>\n",
       "      <td>NaN</td>\n",
       "      <td>NaN</td>\n",
       "      <td>NaN</td>\n",
       "      <td>NaN</td>\n",
       "      <td>NaN</td>\n",
       "    </tr>\n",
       "    <tr>\n",
       "      <th>1</th>\n",
       "      <td>Offenses Known to Law Enforcement</td>\n",
       "      <td>NaN</td>\n",
       "      <td>NaN</td>\n",
       "      <td>NaN</td>\n",
       "      <td>NaN</td>\n",
       "      <td></td>\n",
       "      <td>NaN</td>\n",
       "      <td>NaN</td>\n",
       "      <td>NaN</td>\n",
       "      <td>NaN</td>\n",
       "      <td>NaN</td>\n",
       "      <td>NaN</td>\n",
       "      <td>NaN</td>\n",
       "    </tr>\n",
       "    <tr>\n",
       "      <th>2</th>\n",
       "      <td>by City, 2013</td>\n",
       "      <td>NaN</td>\n",
       "      <td>NaN</td>\n",
       "      <td>NaN</td>\n",
       "      <td>NaN</td>\n",
       "      <td>NaN</td>\n",
       "      <td>NaN</td>\n",
       "      <td>NaN</td>\n",
       "      <td>NaN</td>\n",
       "      <td>NaN</td>\n",
       "      <td>NaN</td>\n",
       "      <td>NaN</td>\n",
       "      <td>NaN</td>\n",
       "    </tr>\n",
       "    <tr>\n",
       "      <th>3</th>\n",
       "      <td>City</td>\n",
       "      <td>Population</td>\n",
       "      <td>Violent\\ncrime</td>\n",
       "      <td>Murder and\\nnonnegligent\\nmanslaughter</td>\n",
       "      <td>Rape\\n(revised\\ndefinition)1</td>\n",
       "      <td>Rape\\n(legacy\\ndefinition)2</td>\n",
       "      <td>Robbery</td>\n",
       "      <td>Aggravated\\nassault</td>\n",
       "      <td>Property\\ncrime</td>\n",
       "      <td>Burglary</td>\n",
       "      <td>Larceny-\\ntheft</td>\n",
       "      <td>Motor\\nvehicle\\ntheft</td>\n",
       "      <td>Arson3</td>\n",
       "    </tr>\n",
       "    <tr>\n",
       "      <th>4</th>\n",
       "      <td>Adams Village</td>\n",
       "      <td>1,861</td>\n",
       "      <td>0</td>\n",
       "      <td>0</td>\n",
       "      <td>NaN</td>\n",
       "      <td>0</td>\n",
       "      <td>0</td>\n",
       "      <td>0</td>\n",
       "      <td>12</td>\n",
       "      <td>2</td>\n",
       "      <td>10</td>\n",
       "      <td>0</td>\n",
       "      <td>0</td>\n",
       "    </tr>\n",
       "  </tbody>\n",
       "</table>\n",
       "</div>"
      ],
      "text/plain": [
       "                             Table 8  Unnamed: 1      Unnamed: 2  \\\n",
       "0                           NEW YORK         NaN             NaN   \n",
       "1  Offenses Known to Law Enforcement         NaN             NaN   \n",
       "2                      by City, 2013         NaN             NaN   \n",
       "3                               City  Population  Violent\\ncrime   \n",
       "4                      Adams Village       1,861               0   \n",
       "\n",
       "                               Unnamed: 3                    Unnamed: 4  \\\n",
       "0                                     NaN                           NaN   \n",
       "1                                     NaN                           NaN   \n",
       "2                                     NaN                           NaN   \n",
       "3  Murder and\\nnonnegligent\\nmanslaughter  Rape\\n(revised\\ndefinition)1   \n",
       "4                                       0                           NaN   \n",
       "\n",
       "                    Unnamed: 5 Unnamed: 6           Unnamed: 7  \\\n",
       "0                          NaN        NaN                  NaN   \n",
       "1                                     NaN                  NaN   \n",
       "2                          NaN        NaN                  NaN   \n",
       "3  Rape\\n(legacy\\ndefinition)2    Robbery  Aggravated\\nassault   \n",
       "4                            0          0                    0   \n",
       "\n",
       "        Unnamed: 8 Unnamed: 9      Unnamed: 10            Unnamed: 11  \\\n",
       "0              NaN        NaN              NaN                    NaN   \n",
       "1              NaN        NaN              NaN                    NaN   \n",
       "2              NaN        NaN              NaN                    NaN   \n",
       "3  Property\\ncrime   Burglary  Larceny-\\ntheft  Motor\\nvehicle\\ntheft   \n",
       "4               12          2               10                      0   \n",
       "\n",
       "  Unnamed: 12  \n",
       "0         NaN  \n",
       "1         NaN  \n",
       "2         NaN  \n",
       "3      Arson3  \n",
       "4           0  "
      ]
     },
     "execution_count": 213,
     "metadata": {},
     "output_type": "execute_result"
    }
   ],
   "source": [
    "# Import FBI Raw Data\n",
    "\n",
    "fbidata = pd.read_csv('https://raw.githubusercontent.com/Thinkful-Ed/data-201-resources/master/New_York_offenses/NEW_YORK-Offenses_Known_to_Law_Enforcement_by_City_2013%20-%2013tbl8ny.csv', delimiter=\",\", thousands=',',decimal=\".\")\n",
    "fbiraw = pd.DataFrame(fbidata)\n",
    "fbiraw.head()"
   ]
  },
  {
   "cell_type": "code",
   "execution_count": 214,
   "metadata": {
    "collapsed": true
   },
   "outputs": [],
   "source": [
    "#Transform FBI Raw Data\n",
    "#Rename columns with row 3 from the original data set\n",
    "fbiraw_t1 = fbiraw.rename(columns=fbiraw.iloc[3])\n",
    "\n",
    "#Delete first three rows don´t contain data for the regression model\n",
    "fbiraw_t2 = fbiraw_t1.drop(fbiraw_t1.index[0:4])"
   ]
  },
  {
   "cell_type": "code",
   "execution_count": 215,
   "metadata": {
    "collapsed": true
   },
   "outputs": [],
   "source": [
    "#Delete column \"Rape (revised definition)1 as it contains no data\n",
    "fbiraw_t2 = fbiraw_t2.drop('Rape\\n(revised\\ndefinition)1', axis = 1)"
   ]
  },
  {
   "cell_type": "code",
   "execution_count": 216,
   "metadata": {
    "collapsed": true
   },
   "outputs": [],
   "source": [
    "#Delete Arson Column as there is insufficient data\n",
    "# 'The FBI does not publish arson data unless it receives data from either the agency or the state\n",
    "#  for all 12 months of the calendar year.'\n",
    "fbiraw_t2 = fbiraw_t2.drop('Arson3', axis = 1)"
   ]
  },
  {
   "cell_type": "code",
   "execution_count": 217,
   "metadata": {
    "collapsed": true
   },
   "outputs": [],
   "source": [
    "#Clean tail from the data set\n",
    "\n",
    "#Re-shape dataset excluding the last 3 rows of the dataset as they don´t contain relevant information for the model\n",
    "fbiraw_t2 = fbiraw_t2[:-3]\n",
    "\n",
    "#Change names in Columns\n",
    "fbiraw_t2= fbiraw_t2.rename(columns={'Violent\\ncrime': 'Violent Crime', 'Murder and\\nnonnegligent\\nmanslaughter': 'Murder','Rape\\n(legacy\\ndefinition)2': 'Rape', 'Robbery': 'Robbery', 'Aggravated\\nassault': 'Assault', 'Property\\ncrime': 'PropertyCrime', 'Burglary': 'Burglary', 'Larceny-\\ntheft': 'Larceny & Theft', 'Motor\\nvehicle\\ntheft': 'MotorVehicleTheft'})"
   ]
  },
  {
   "cell_type": "code",
   "execution_count": 218,
   "metadata": {},
   "outputs": [
    {
     "name": "stdout",
     "output_type": "stream",
     "text": [
      "<class 'pandas.core.frame.DataFrame'>\n",
      "Int64Index: 348 entries, 4 to 351\n",
      "Data columns (total 11 columns):\n",
      "City                 348 non-null object\n",
      "Population           348 non-null object\n",
      "Violent Crime        348 non-null object\n",
      "Murder               348 non-null object\n",
      "Rape                 348 non-null object\n",
      "Robbery              348 non-null object\n",
      "Assault              348 non-null object\n",
      "PropertyCrime        348 non-null object\n",
      "Burglary             348 non-null object\n",
      "Larceny & Theft      348 non-null object\n",
      "MotorVehicleTheft    348 non-null object\n",
      "dtypes: object(11)\n",
      "memory usage: 32.6+ KB\n"
     ]
    }
   ],
   "source": [
    "#Analyse missing information\n",
    "fbiraw_t2.info()"
   ]
  },
  {
   "cell_type": "code",
   "execution_count": 219,
   "metadata": {},
   "outputs": [
    {
     "name": "stdout",
     "output_type": "stream",
     "text": [
      "<class 'pandas.core.frame.DataFrame'>\n",
      "Int64Index: 348 entries, 4 to 351\n",
      "Data columns (total 11 columns):\n",
      "City                 348 non-null object\n",
      "Population           348 non-null float64\n",
      "Violent Crime        348 non-null float64\n",
      "Murder               348 non-null float64\n",
      "Rape                 348 non-null float64\n",
      "Robbery              348 non-null float64\n",
      "Assault              348 non-null float64\n",
      "PropertyCrime        348 non-null float64\n",
      "Burglary             348 non-null float64\n",
      "Larceny & Theft      348 non-null float64\n",
      "MotorVehicleTheft    348 non-null float64\n",
      "dtypes: float64(10), object(1)\n",
      "memory usage: 32.6+ KB\n"
     ]
    }
   ],
   "source": [
    "#Change all columns from object to float\n",
    "locale.setlocale(locale.LC_NUMERIC, '')\n",
    "fbiraw_t2['Population'] = fbiraw_t2['Population'].apply(atof)\n",
    "fbiraw_t2['Violent Crime'] = fbiraw_t2['Violent Crime'].apply(atof)\n",
    "fbiraw_t2['Murder'] = fbiraw_t2['Murder'].apply(atof)\n",
    "fbiraw_t2['Rape'] = fbiraw_t2['Rape'].apply(atof)\n",
    "fbiraw_t2['Robbery'] = fbiraw_t2['Robbery'].apply(atof)\n",
    "fbiraw_t2['Assault'] = fbiraw_t2['Assault'].apply(atof)\n",
    "fbiraw_t2['PropertyCrime'] = fbiraw_t2['PropertyCrime'].apply(atof)\n",
    "fbiraw_t2['Burglary'] = fbiraw_t2['Burglary'].apply(atof)\n",
    "fbiraw_t2['Larceny & Theft'] = fbiraw_t2['Larceny & Theft'].apply(atof)\n",
    "fbiraw_t2['MotorVehicleTheft'] = fbiraw_t2['MotorVehicleTheft'].apply(atof)\n",
    "fbiraw_t2.info()"
   ]
  },
  {
   "cell_type": "code",
   "execution_count": 220,
   "metadata": {},
   "outputs": [
    {
     "data": {
      "text/html": [
       "<div>\n",
       "<style>\n",
       "    .dataframe thead tr:only-child th {\n",
       "        text-align: right;\n",
       "    }\n",
       "\n",
       "    .dataframe thead th {\n",
       "        text-align: left;\n",
       "    }\n",
       "\n",
       "    .dataframe tbody tr th {\n",
       "        vertical-align: top;\n",
       "    }\n",
       "</style>\n",
       "<table border=\"1\" class=\"dataframe\">\n",
       "  <thead>\n",
       "    <tr style=\"text-align: right;\">\n",
       "      <th></th>\n",
       "      <th>City</th>\n",
       "      <th>Population</th>\n",
       "      <th>Violent Crime</th>\n",
       "      <th>Murder</th>\n",
       "      <th>Rape</th>\n",
       "      <th>Robbery</th>\n",
       "      <th>Assault</th>\n",
       "      <th>PropertyCrime</th>\n",
       "      <th>Burglary</th>\n",
       "      <th>Larceny &amp; Theft</th>\n",
       "      <th>MotorVehicleTheft</th>\n",
       "    </tr>\n",
       "  </thead>\n",
       "  <tbody>\n",
       "    <tr>\n",
       "      <th>4</th>\n",
       "      <td>Adams Village</td>\n",
       "      <td>1861.0</td>\n",
       "      <td>0.0</td>\n",
       "      <td>0.0</td>\n",
       "      <td>0.0</td>\n",
       "      <td>0.0</td>\n",
       "      <td>0.0</td>\n",
       "      <td>12.0</td>\n",
       "      <td>2.0</td>\n",
       "      <td>10.0</td>\n",
       "      <td>0.0</td>\n",
       "    </tr>\n",
       "    <tr>\n",
       "      <th>5</th>\n",
       "      <td>Addison Town and Village</td>\n",
       "      <td>2577.0</td>\n",
       "      <td>3.0</td>\n",
       "      <td>0.0</td>\n",
       "      <td>0.0</td>\n",
       "      <td>0.0</td>\n",
       "      <td>3.0</td>\n",
       "      <td>24.0</td>\n",
       "      <td>3.0</td>\n",
       "      <td>20.0</td>\n",
       "      <td>1.0</td>\n",
       "    </tr>\n",
       "    <tr>\n",
       "      <th>6</th>\n",
       "      <td>Akron Village</td>\n",
       "      <td>2846.0</td>\n",
       "      <td>3.0</td>\n",
       "      <td>0.0</td>\n",
       "      <td>0.0</td>\n",
       "      <td>0.0</td>\n",
       "      <td>3.0</td>\n",
       "      <td>16.0</td>\n",
       "      <td>1.0</td>\n",
       "      <td>15.0</td>\n",
       "      <td>0.0</td>\n",
       "    </tr>\n",
       "    <tr>\n",
       "      <th>7</th>\n",
       "      <td>Albany</td>\n",
       "      <td>97956.0</td>\n",
       "      <td>791.0</td>\n",
       "      <td>8.0</td>\n",
       "      <td>30.0</td>\n",
       "      <td>227.0</td>\n",
       "      <td>526.0</td>\n",
       "      <td>4090.0</td>\n",
       "      <td>705.0</td>\n",
       "      <td>3243.0</td>\n",
       "      <td>142.0</td>\n",
       "    </tr>\n",
       "    <tr>\n",
       "      <th>8</th>\n",
       "      <td>Albion Village</td>\n",
       "      <td>6388.0</td>\n",
       "      <td>23.0</td>\n",
       "      <td>0.0</td>\n",
       "      <td>3.0</td>\n",
       "      <td>4.0</td>\n",
       "      <td>16.0</td>\n",
       "      <td>223.0</td>\n",
       "      <td>53.0</td>\n",
       "      <td>165.0</td>\n",
       "      <td>5.0</td>\n",
       "    </tr>\n",
       "  </tbody>\n",
       "</table>\n",
       "</div>"
      ],
      "text/plain": [
       "                       City  Population  Violent Crime  Murder  Rape  Robbery  \\\n",
       "4             Adams Village      1861.0            0.0     0.0   0.0      0.0   \n",
       "5  Addison Town and Village      2577.0            3.0     0.0   0.0      0.0   \n",
       "6             Akron Village      2846.0            3.0     0.0   0.0      0.0   \n",
       "7                    Albany     97956.0          791.0     8.0  30.0    227.0   \n",
       "8            Albion Village      6388.0           23.0     0.0   3.0      4.0   \n",
       "\n",
       "   Assault  PropertyCrime  Burglary  Larceny & Theft  MotorVehicleTheft  \n",
       "4      0.0           12.0       2.0             10.0                0.0  \n",
       "5      3.0           24.0       3.0             20.0                1.0  \n",
       "6      3.0           16.0       1.0             15.0                0.0  \n",
       "7    526.0         4090.0     705.0           3243.0              142.0  \n",
       "8     16.0          223.0      53.0            165.0                5.0  "
      ]
     },
     "execution_count": 220,
     "metadata": {},
     "output_type": "execute_result"
    }
   ],
   "source": [
    "#Reindex the dataframe\n",
    "\n",
    "fbiraw_t3 = fbiraw_t2.reset_index(drop=True)\n",
    "fbiraw_t2.head()"
   ]
  },
  {
   "cell_type": "code",
   "execution_count": 221,
   "metadata": {
    "collapsed": true
   },
   "outputs": [],
   "source": [
    "#Extract only the columns that are needed\n",
    "\n",
    "fbiraw_t3 = fbiraw_t2"
   ]
  },
  {
   "cell_type": "code",
   "execution_count": 222,
   "metadata": {},
   "outputs": [
    {
     "data": {
      "text/html": [
       "<div>\n",
       "<style>\n",
       "    .dataframe thead tr:only-child th {\n",
       "        text-align: right;\n",
       "    }\n",
       "\n",
       "    .dataframe thead th {\n",
       "        text-align: left;\n",
       "    }\n",
       "\n",
       "    .dataframe tbody tr th {\n",
       "        vertical-align: top;\n",
       "    }\n",
       "</style>\n",
       "<table border=\"1\" class=\"dataframe\">\n",
       "  <thead>\n",
       "    <tr style=\"text-align: right;\">\n",
       "      <th></th>\n",
       "      <th>Population</th>\n",
       "      <th>Violent Crime</th>\n",
       "      <th>Murder</th>\n",
       "      <th>Rape</th>\n",
       "      <th>Robbery</th>\n",
       "      <th>Assault</th>\n",
       "      <th>PropertyCrime</th>\n",
       "      <th>Burglary</th>\n",
       "      <th>Larceny &amp; Theft</th>\n",
       "      <th>MotorVehicleTheft</th>\n",
       "    </tr>\n",
       "  </thead>\n",
       "  <tbody>\n",
       "    <tr>\n",
       "      <th>count</th>\n",
       "      <td>3.480000e+02</td>\n",
       "      <td>348.000000</td>\n",
       "      <td>348.000000</td>\n",
       "      <td>348.000000</td>\n",
       "      <td>348.000000</td>\n",
       "      <td>348.000000</td>\n",
       "      <td>348.000000</td>\n",
       "      <td>348.000000</td>\n",
       "      <td>348.000000</td>\n",
       "      <td>348.000000</td>\n",
       "    </tr>\n",
       "    <tr>\n",
       "      <th>mean</th>\n",
       "      <td>4.003763e+04</td>\n",
       "      <td>201.594828</td>\n",
       "      <td>1.566092</td>\n",
       "      <td>5.864943</td>\n",
       "      <td>72.902299</td>\n",
       "      <td>121.261494</td>\n",
       "      <td>792.606322</td>\n",
       "      <td>119.683908</td>\n",
       "      <td>637.017241</td>\n",
       "      <td>35.905172</td>\n",
       "    </tr>\n",
       "    <tr>\n",
       "      <th>std</th>\n",
       "      <td>4.500374e+05</td>\n",
       "      <td>2815.268504</td>\n",
       "      <td>18.303673</td>\n",
       "      <td>60.425452</td>\n",
       "      <td>1031.032873</td>\n",
       "      <td>1706.131730</td>\n",
       "      <td>7659.724746</td>\n",
       "      <td>924.948789</td>\n",
       "      <td>6346.054451</td>\n",
       "      <td>403.423826</td>\n",
       "    </tr>\n",
       "    <tr>\n",
       "      <th>min</th>\n",
       "      <td>5.260000e+02</td>\n",
       "      <td>0.000000</td>\n",
       "      <td>0.000000</td>\n",
       "      <td>0.000000</td>\n",
       "      <td>0.000000</td>\n",
       "      <td>0.000000</td>\n",
       "      <td>0.000000</td>\n",
       "      <td>0.000000</td>\n",
       "      <td>0.000000</td>\n",
       "      <td>0.000000</td>\n",
       "    </tr>\n",
       "    <tr>\n",
       "      <th>25%</th>\n",
       "      <td>3.003000e+03</td>\n",
       "      <td>2.000000</td>\n",
       "      <td>0.000000</td>\n",
       "      <td>0.000000</td>\n",
       "      <td>0.000000</td>\n",
       "      <td>1.000000</td>\n",
       "      <td>40.500000</td>\n",
       "      <td>6.000000</td>\n",
       "      <td>31.000000</td>\n",
       "      <td>0.000000</td>\n",
       "    </tr>\n",
       "    <tr>\n",
       "      <th>50%</th>\n",
       "      <td>7.233500e+03</td>\n",
       "      <td>6.000000</td>\n",
       "      <td>0.000000</td>\n",
       "      <td>0.000000</td>\n",
       "      <td>1.000000</td>\n",
       "      <td>4.000000</td>\n",
       "      <td>112.500000</td>\n",
       "      <td>17.500000</td>\n",
       "      <td>94.000000</td>\n",
       "      <td>2.000000</td>\n",
       "    </tr>\n",
       "    <tr>\n",
       "      <th>75%</th>\n",
       "      <td>1.842750e+04</td>\n",
       "      <td>22.000000</td>\n",
       "      <td>0.000000</td>\n",
       "      <td>2.000000</td>\n",
       "      <td>5.000000</td>\n",
       "      <td>14.000000</td>\n",
       "      <td>341.000000</td>\n",
       "      <td>51.250000</td>\n",
       "      <td>287.250000</td>\n",
       "      <td>7.000000</td>\n",
       "    </tr>\n",
       "    <tr>\n",
       "      <th>max</th>\n",
       "      <td>8.396126e+06</td>\n",
       "      <td>52384.000000</td>\n",
       "      <td>335.000000</td>\n",
       "      <td>1112.000000</td>\n",
       "      <td>19170.000000</td>\n",
       "      <td>31767.000000</td>\n",
       "      <td>141971.000000</td>\n",
       "      <td>16606.000000</td>\n",
       "      <td>117931.000000</td>\n",
       "      <td>7434.000000</td>\n",
       "    </tr>\n",
       "  </tbody>\n",
       "</table>\n",
       "</div>"
      ],
      "text/plain": [
       "         Population  Violent Crime      Murder         Rape       Robbery  \\\n",
       "count  3.480000e+02     348.000000  348.000000   348.000000    348.000000   \n",
       "mean   4.003763e+04     201.594828    1.566092     5.864943     72.902299   \n",
       "std    4.500374e+05    2815.268504   18.303673    60.425452   1031.032873   \n",
       "min    5.260000e+02       0.000000    0.000000     0.000000      0.000000   \n",
       "25%    3.003000e+03       2.000000    0.000000     0.000000      0.000000   \n",
       "50%    7.233500e+03       6.000000    0.000000     0.000000      1.000000   \n",
       "75%    1.842750e+04      22.000000    0.000000     2.000000      5.000000   \n",
       "max    8.396126e+06   52384.000000  335.000000  1112.000000  19170.000000   \n",
       "\n",
       "            Assault  PropertyCrime      Burglary  Larceny & Theft  \\\n",
       "count    348.000000     348.000000    348.000000       348.000000   \n",
       "mean     121.261494     792.606322    119.683908       637.017241   \n",
       "std     1706.131730    7659.724746    924.948789      6346.054451   \n",
       "min        0.000000       0.000000      0.000000         0.000000   \n",
       "25%        1.000000      40.500000      6.000000        31.000000   \n",
       "50%        4.000000     112.500000     17.500000        94.000000   \n",
       "75%       14.000000     341.000000     51.250000       287.250000   \n",
       "max    31767.000000  141971.000000  16606.000000    117931.000000   \n",
       "\n",
       "       MotorVehicleTheft  \n",
       "count         348.000000  \n",
       "mean           35.905172  \n",
       "std           403.423826  \n",
       "min             0.000000  \n",
       "25%             0.000000  \n",
       "50%             2.000000  \n",
       "75%             7.000000  \n",
       "max          7434.000000  "
      ]
     },
     "execution_count": 222,
     "metadata": {},
     "output_type": "execute_result"
    }
   ],
   "source": [
    "#Eliminate outliers\n",
    "\n",
    "#fbiraw_t3 = fbiraw_t3[fbiraw_t3.PropertyCrime < 450].reset_index(drop=True)\n",
    "\n",
    "#Describe the dataset\n",
    "fbiraw_t3.describe()"
   ]
  },
  {
   "cell_type": "code",
   "execution_count": 223,
   "metadata": {},
   "outputs": [
    {
     "name": "stdout",
     "output_type": "stream",
     "text": [
      "348 0\n"
     ]
    },
    {
     "data": {
      "text/html": [
       "<div>\n",
       "<style>\n",
       "    .dataframe thead tr:only-child th {\n",
       "        text-align: right;\n",
       "    }\n",
       "\n",
       "    .dataframe thead th {\n",
       "        text-align: left;\n",
       "    }\n",
       "\n",
       "    .dataframe tbody tr th {\n",
       "        vertical-align: top;\n",
       "    }\n",
       "</style>\n",
       "<table border=\"1\" class=\"dataframe\">\n",
       "  <thead>\n",
       "    <tr style=\"text-align: right;\">\n",
       "      <th></th>\n",
       "      <th>City</th>\n",
       "      <th>Population</th>\n",
       "      <th>Violent Crime</th>\n",
       "      <th>Murder</th>\n",
       "      <th>Rape</th>\n",
       "      <th>Robbery</th>\n",
       "      <th>Assault</th>\n",
       "      <th>PropertyCrime</th>\n",
       "      <th>Burglary</th>\n",
       "      <th>Larceny &amp; Theft</th>\n",
       "      <th>MotorVehicleTheft</th>\n",
       "    </tr>\n",
       "  </thead>\n",
       "  <tbody>\n",
       "    <tr>\n",
       "      <th>220</th>\n",
       "      <td>New York</td>\n",
       "      <td>8396126.0</td>\n",
       "      <td>52384.0</td>\n",
       "      <td>335.0</td>\n",
       "      <td>1112.0</td>\n",
       "      <td>19170.0</td>\n",
       "      <td>31767.0</td>\n",
       "      <td>141971.0</td>\n",
       "      <td>16606.0</td>\n",
       "      <td>117931.0</td>\n",
       "      <td>7434.0</td>\n",
       "    </tr>\n",
       "    <tr>\n",
       "      <th>39</th>\n",
       "      <td>Buffalo</td>\n",
       "      <td>258789.0</td>\n",
       "      <td>3249.0</td>\n",
       "      <td>47.0</td>\n",
       "      <td>145.0</td>\n",
       "      <td>1322.0</td>\n",
       "      <td>1735.0</td>\n",
       "      <td>12491.0</td>\n",
       "      <td>3458.0</td>\n",
       "      <td>8076.0</td>\n",
       "      <td>957.0</td>\n",
       "    </tr>\n",
       "    <tr>\n",
       "      <th>276</th>\n",
       "      <td>Rochester</td>\n",
       "      <td>210562.0</td>\n",
       "      <td>2107.0</td>\n",
       "      <td>42.0</td>\n",
       "      <td>92.0</td>\n",
       "      <td>918.0</td>\n",
       "      <td>1055.0</td>\n",
       "      <td>10051.0</td>\n",
       "      <td>2587.0</td>\n",
       "      <td>6855.0</td>\n",
       "      <td>609.0</td>\n",
       "    </tr>\n",
       "    <tr>\n",
       "      <th>314</th>\n",
       "      <td>Syracuse</td>\n",
       "      <td>143834.0</td>\n",
       "      <td>1192.0</td>\n",
       "      <td>21.0</td>\n",
       "      <td>75.0</td>\n",
       "      <td>400.0</td>\n",
       "      <td>696.0</td>\n",
       "      <td>6473.0</td>\n",
       "      <td>1781.0</td>\n",
       "      <td>4298.0</td>\n",
       "      <td>394.0</td>\n",
       "    </tr>\n",
       "    <tr>\n",
       "      <th>7</th>\n",
       "      <td>Albany</td>\n",
       "      <td>97956.0</td>\n",
       "      <td>791.0</td>\n",
       "      <td>8.0</td>\n",
       "      <td>30.0</td>\n",
       "      <td>227.0</td>\n",
       "      <td>526.0</td>\n",
       "      <td>4090.0</td>\n",
       "      <td>705.0</td>\n",
       "      <td>3243.0</td>\n",
       "      <td>142.0</td>\n",
       "    </tr>\n",
       "  </tbody>\n",
       "</table>\n",
       "</div>"
      ],
      "text/plain": [
       "          City  Population  Violent Crime  Murder    Rape  Robbery  Assault  \\\n",
       "220   New York   8396126.0        52384.0   335.0  1112.0  19170.0  31767.0   \n",
       "39     Buffalo    258789.0         3249.0    47.0   145.0   1322.0   1735.0   \n",
       "276  Rochester    210562.0         2107.0    42.0    92.0    918.0   1055.0   \n",
       "314   Syracuse    143834.0         1192.0    21.0    75.0    400.0    696.0   \n",
       "7       Albany     97956.0          791.0     8.0    30.0    227.0    526.0   \n",
       "\n",
       "     PropertyCrime  Burglary  Larceny & Theft  MotorVehicleTheft  \n",
       "220       141971.0   16606.0         117931.0             7434.0  \n",
       "39         12491.0    3458.0           8076.0              957.0  \n",
       "276        10051.0    2587.0           6855.0              609.0  \n",
       "314         6473.0    1781.0           4298.0              394.0  \n",
       "7           4090.0     705.0           3243.0              142.0  "
      ]
     },
     "execution_count": 223,
     "metadata": {},
     "output_type": "execute_result"
    }
   ],
   "source": [
    "#Print length of dataset and sort values by Population to see how many datapoints are excluded\n",
    "print(len(fbiraw_t3), len(fbiraw_t2) - len(fbiraw_t3))\n",
    "fbiraw_t3.sort_values('PropertyCrime',ascending=False).head()"
   ]
  },
  {
   "cell_type": "code",
   "execution_count": 224,
   "metadata": {
    "collapsed": true
   },
   "outputs": [],
   "source": [
    "#Convert Robbery into a categorical feature\n",
    "\n",
    "fbiraw_t3.loc[fbiraw_t3['Robbery'] > 0, 'Robbery'] = 1"
   ]
  },
  {
   "cell_type": "code",
   "execution_count": 225,
   "metadata": {
    "collapsed": true
   },
   "outputs": [],
   "source": [
    "#Convert Murder into a categorical feature\n",
    "\n",
    "fbiraw_t3.loc[fbiraw_t3['Murder'] > 0, 'Murder'] = 1"
   ]
  },
  {
   "cell_type": "code",
   "execution_count": 226,
   "metadata": {
    "collapsed": true
   },
   "outputs": [],
   "source": [
    "#Transform dataset into final dataset with features\n",
    "\n",
    "fbidata = fbiraw_t3.drop('City',axis=1)"
   ]
  },
  {
   "cell_type": "code",
   "execution_count": 227,
   "metadata": {
    "collapsed": true
   },
   "outputs": [],
   "source": [
    "#Create new features\n",
    "#10\n",
    "fbidata['logpopulation'] = np.log(fbidata.Population)\n",
    "#11\n",
    "fbidata['TotalCrime'] = np.sqrt(fbidata['Violent Crime']*fbidata['PropertyCrime']+1)\n",
    "#12\n",
    "fbidata['PropertyCrimeperAssault'] = fbidata['PropertyCrime']*(fbidata['Assault']+1)\n",
    "#13\n",
    "fbidata['Theft'] = np.sqrt(fbidata['Larceny & Theft']*fbidata['MotorVehicleTheft'])\n",
    "#14\n",
    "fbidata['Unit Larceny & Theft'] = (fbidata['Larceny & Theft']/fbidata['Population'])*100\n",
    "#14\n",
    "fbidata['logviolentcrimes'] = np.log(fbidata['Violent Crime']+1)"
   ]
  },
  {
   "cell_type": "code",
   "execution_count": 228,
   "metadata": {
    "collapsed": true
   },
   "outputs": [],
   "source": [
    "names = fbidata.columns\n",
    "fbidata_scaled = pd.DataFrame(preprocessing.scale(fbidata), columns = names)"
   ]
  },
  {
   "cell_type": "code",
   "execution_count": 229,
   "metadata": {},
   "outputs": [
    {
     "data": {
      "image/png": "[encoded data removed]",
      "text/plain": [
       "<matplotlib.figure.Figure at 0x22e3d159eb8>"
      ]
     },
     "metadata": {},
     "output_type": "display_data"
    }
   ],
   "source": [
    "sns.heatmap(fbidata_scaled.corr())\n",
    "plt.show()"
   ]
  },
  {
   "cell_type": "code",
   "execution_count": 230,
   "metadata": {
    "collapsed": true
   },
   "outputs": [],
   "source": [
    "#Set up the outcome variable and predictors\n",
    "\n",
    "y = fbidata['Murder']\n",
    "\n",
    "#Iteration1: X = fbidata_scaled[['Population', 'Violent Crime','Rape','Robbery','Assault', 'PropertyCrime','Burglary','Larceny & Theft','MotorVehicleTheft','logpopulation','TotalCrime','PropertyCrimeperAssault','Theft','Unit Larceny & Theft','logviolentcrimes']]\n",
    "\n",
    "#Iteration 2: X = fbidata_scaled[['Rape','Robbery','Burglary','logpopulation','PropertyCrimeperAssault']]\n",
    "\n",
    "#Iteration 3: X = fbidata_scaled[['Rape','Burglary','logpopulation']]\n",
    "\n",
    "#Iteration 4:\n",
    "\n",
    "X = fbidata_scaled[['Rape','Robbery','Burglary','logpopulation']]\n",
    "\n",
    "names = ['Rape','Robbery','Burglary','logpopulation']"
   ]
  },
  {
   "cell_type": "code",
   "execution_count": 231,
   "metadata": {
    "collapsed": true
   },
   "outputs": [],
   "source": [
    "#Initiating the cross validation generator, N splits = 10\n",
    "\n",
    "kf = KFold(10)"
   ]
  },
  {
   "cell_type": "code",
   "execution_count": 232,
   "metadata": {},
   "outputs": [
    {
     "name": "stdout",
     "output_type": "stream",
     "text": [
      "[[ 1.27726159  0.6272494   1.40010427  1.25804375]]\n",
      "[-2.48931209]\n"
     ]
    },
    {
     "data": {
      "text/plain": [
       "0.88773109243697468"
      ]
     },
     "execution_count": 232,
     "metadata": {},
     "output_type": "execute_result"
    }
   ],
   "source": [
    "# Declare a logistic regression classifier.\n",
    "lr = LogisticRegression(C=1)\n",
    "\n",
    "# Fit the model.\n",
    "fit = lr.fit(X, y)\n",
    "\n",
    "print(fit.coef_)\n",
    "print(fit.intercept_)\n",
    "cross_val_score(lr, X, y, cv=kf).mean()"
   ]
  },
  {
   "cell_type": "code",
   "execution_count": 233,
   "metadata": {
    "collapsed": true
   },
   "outputs": [],
   "source": [
    "# Build up the correlation mtrix\n",
    "Z = X\n",
    "correlation_matrix = Z.corr()"
   ]
  },
  {
   "cell_type": "code",
   "execution_count": 234,
   "metadata": {},
   "outputs": [
    {
     "name": "stdout",
     "output_type": "stream",
     "text": [
      "Eigenvector 1: \n",
      "[[ 0.58747999]\n",
      " [ 0.28021126]\n",
      " [ 0.59866354]\n",
      " [ 0.4668521 ]]\n",
      "Eigenvalue 1: 2.3407042157499434\n",
      "----------------------------------------\n",
      "Eigenvector 2: \n",
      "[[ 0.37119845]\n",
      " [-0.72025596]\n",
      " [ 0.34326541]\n",
      " [-0.47498623]]\n",
      "Eigenvalue 2: 1.2976617249101652\n",
      "----------------------------------------\n",
      "Eigenvector 3: \n",
      "[[ 0.69883032]\n",
      " [-0.00685464]\n",
      " [-0.71411001]\n",
      " [ 0.04044867]]\n",
      "Eigenvalue 3: 0.006438348359629793\n",
      "----------------------------------------\n",
      "Eigenvector 4: \n",
      "[[-0.16945548]\n",
      " [-0.6345597 ]\n",
      " [-0.1175488 ]\n",
      " [ 0.74484972]]\n",
      "Eigenvalue 4: 0.3551957109802616\n",
      "----------------------------------------\n",
      "The percentage of total variance in the dataset explained by each component from Sklearn PCA.\n",
      " [  9.21255587e-01   7.85727630e-02   1.71650445e-04   1.37065375e-33]\n"
     ]
    }
   ],
   "source": [
    "#Eigenvectores & Eigenvalues\n",
    "\n",
    "eig_vals, eig_vecs = np.linalg.eig(correlation_matrix)\n",
    "\n",
    "# Inspecting the eigenvalues and eigenvectors.\n",
    "for i in range(len(eig_vals)):\n",
    "    eigvecs = eig_vecs[:, i].reshape(1, len(X.columns)).T\n",
    "    print('Eigenvector {}: \\n{}'.format(i + 1, eigvecs))\n",
    "    print('Eigenvalue {}: {}'.format(i + 1, eig_vals[i]))\n",
    "    print(40 * '-')\n",
    "\n",
    "\n",
    "sklearn_pca = PCA(n_components=len(X.columns))\n",
    "Y_sklearn = sklearn_pca.fit_transform(correlation_matrix)\n",
    "\n",
    "print(\n",
    "    'The percentage of total variance in the dataset explained by each',\n",
    "    'component from Sklearn PCA.\\n',\n",
    "    sklearn_pca.explained_variance_ratio_\n",
    ")"
   ]
  },
  {
   "cell_type": "code",
   "execution_count": 235,
   "metadata": {},
   "outputs": [
    {
     "data": {
      "image/png": "[encoded data removed]",
      "text/plain": [
       "<matplotlib.figure.Figure at 0x22e3d0ef710>"
      ]
     },
     "metadata": {},
     "output_type": "display_data"
    }
   ],
   "source": [
    "#From the Scree plot.\n",
    "\n",
    "plt.plot(eig_vals)\n",
    "plt.show()"
   ]
  },
  {
   "cell_type": "code",
   "execution_count": 249,
   "metadata": {},
   "outputs": [
    {
     "data": {
      "text/plain": [
       "(348, 4)"
      ]
     },
     "execution_count": 249,
     "metadata": {},
     "output_type": "execute_result"
    }
   ],
   "source": [
    "# Create a scaler object\n",
    "sc = StandardScaler()\n",
    "\n",
    "# Fit the scaler to the features and transform\n",
    "X_std = sc.fit_transform(fbidata_scaled)\n",
    "\n",
    "# Create a PCA object with the 10 components as a parameter\n",
    "pca = decomposition.PCA(n_components=4)\n",
    "\n",
    "# Fit the PCA and transform the data\n",
    "X_std_pca = pca.fit_transform(X_std)\n",
    "\n",
    "# View the new feature data's shape\n",
    "X_std_pca.shape"
   ]
  },
  {
   "cell_type": "code",
   "execution_count": 250,
   "metadata": {
    "collapsed": true
   },
   "outputs": [],
   "source": [
    "# Create a new dataframe with the new features\n",
    "\n",
    "X1 = pd.DataFrame(X_std_pca)"
   ]
  },
  {
   "cell_type": "code",
   "execution_count": 251,
   "metadata": {},
   "outputs": [
    {
     "data": {
      "image/png": "[encoded data removed]",
      "text/plain": [
       "<matplotlib.figure.Figure at 0x22e3cf68048>"
      ]
     },
     "metadata": {},
     "output_type": "display_data"
    }
   ],
   "source": [
    "# Build heatmap based on the Correlation Matrix\n",
    "\n",
    "sns.heatmap(X1.corr())\n",
    "plt.show()"
   ]
  },
  {
   "cell_type": "code",
   "execution_count": 239,
   "metadata": {},
   "outputs": [
    {
     "data": {
      "text/html": [
       "<div>\n",
       "<style>\n",
       "    .dataframe thead tr:only-child th {\n",
       "        text-align: right;\n",
       "    }\n",
       "\n",
       "    .dataframe thead th {\n",
       "        text-align: left;\n",
       "    }\n",
       "\n",
       "    .dataframe tbody tr th {\n",
       "        vertical-align: top;\n",
       "    }\n",
       "</style>\n",
       "<table border=\"1\" class=\"dataframe\">\n",
       "  <thead>\n",
       "    <tr style=\"text-align: right;\">\n",
       "      <th></th>\n",
       "      <th>Features</th>\n",
       "      <th>Ranking</th>\n",
       "      <th>Support</th>\n",
       "    </tr>\n",
       "  </thead>\n",
       "  <tbody>\n",
       "    <tr>\n",
       "      <th>0</th>\n",
       "      <td>Rape</td>\n",
       "      <td>1</td>\n",
       "      <td>True</td>\n",
       "    </tr>\n",
       "    <tr>\n",
       "      <th>1</th>\n",
       "      <td>Robbery</td>\n",
       "      <td>1</td>\n",
       "      <td>True</td>\n",
       "    </tr>\n",
       "    <tr>\n",
       "      <th>2</th>\n",
       "      <td>Burglary</td>\n",
       "      <td>1</td>\n",
       "      <td>True</td>\n",
       "    </tr>\n",
       "    <tr>\n",
       "      <th>3</th>\n",
       "      <td>logpopulation</td>\n",
       "      <td>1</td>\n",
       "      <td>True</td>\n",
       "    </tr>\n",
       "  </tbody>\n",
       "</table>\n",
       "</div>"
      ],
      "text/plain": [
       "        Features  Ranking  Support\n",
       "0           Rape        1     True\n",
       "1        Robbery        1     True\n",
       "2       Burglary        1     True\n",
       "3  logpopulation        1     True"
      ]
     },
     "execution_count": 239,
     "metadata": {},
     "output_type": "execute_result"
    }
   ],
   "source": [
    "# create the RFE model and select features\n",
    "\n",
    "nfeatures = (len(X.columns))\n",
    "rfe = RFE(lr,nfeatures)\n",
    "fit = rfe.fit(X,y)\n",
    "\n",
    "# summarize the selection of the features\n",
    "\n",
    "result_RFE = pd.DataFrame(list(zip(X.head(0), rfe.ranking_, rfe.support_)),columns=['Features','Ranking','Support'] )\n",
    "result_RFE.sort_values('Ranking')"
   ]
  },
  {
   "cell_type": "code",
   "execution_count": 240,
   "metadata": {},
   "outputs": [
    {
     "data": {
      "image/png": "[encoded data removed]",
      "text/plain": [
       "<matplotlib.figure.Figure at 0x22e3cf6d5c0>"
      ]
     },
     "metadata": {},
     "output_type": "display_data"
    }
   ],
   "source": [
    "#Feature Selection using Lasso\n",
    "\n",
    "\n",
    "for lambd in [x * 0.01 for x in range(1, 100)]:\n",
    "    lasso = Lasso(alpha=lambd)\n",
    "    lasso_coef = lasso.fit(X, y).coef_\n",
    "    plt.xticks(range(len(names)), names, rotation=90)\n",
    "    plt.ylabel('Coefficients')\n",
    "    plt.plot(range(len(names)), lasso_coef)\n",
    "\n",
    "plt.show()"
   ]
  },
  {
   "cell_type": "markdown",
   "metadata": {},
   "source": [
    "***Lasso feature selection shows that 'logpopulation','Unit Larceny & Theft' & 'logviolentcrimes' are the most significant features***"
   ]
  },
  {
   "cell_type": "markdown",
   "metadata": {},
   "source": [
    "#### Cross Validation - KFold"
   ]
  },
  {
   "cell_type": "markdown",
   "metadata": {},
   "source": [
    "##### Vanilla Logistic Regression"
   ]
  },
  {
   "cell_type": "code",
   "execution_count": 241,
   "metadata": {},
   "outputs": [
    {
     "data": {
      "text/html": [
       "<div>\n",
       "<style>\n",
       "    .dataframe thead tr:only-child th {\n",
       "        text-align: right;\n",
       "    }\n",
       "\n",
       "    .dataframe thead th {\n",
       "        text-align: left;\n",
       "    }\n",
       "\n",
       "    .dataframe tbody tr th {\n",
       "        vertical-align: top;\n",
       "    }\n",
       "</style>\n",
       "<table border=\"1\" class=\"dataframe\">\n",
       "  <thead>\n",
       "    <tr style=\"text-align: right;\">\n",
       "      <th></th>\n",
       "      <th>R2</th>\n",
       "      <th>lambda</th>\n",
       "    </tr>\n",
       "  </thead>\n",
       "  <tbody>\n",
       "    <tr>\n",
       "      <th>0</th>\n",
       "      <td>0.887731</td>\n",
       "      <td>0.0</td>\n",
       "    </tr>\n",
       "    <tr>\n",
       "      <th>1</th>\n",
       "      <td>0.887731</td>\n",
       "      <td>1.0</td>\n",
       "    </tr>\n",
       "    <tr>\n",
       "      <th>2</th>\n",
       "      <td>0.887731</td>\n",
       "      <td>2.0</td>\n",
       "    </tr>\n",
       "    <tr>\n",
       "      <th>3</th>\n",
       "      <td>0.887731</td>\n",
       "      <td>3.0</td>\n",
       "    </tr>\n",
       "    <tr>\n",
       "      <th>4</th>\n",
       "      <td>0.887731</td>\n",
       "      <td>4.0</td>\n",
       "    </tr>\n",
       "    <tr>\n",
       "      <th>5</th>\n",
       "      <td>0.887731</td>\n",
       "      <td>5.0</td>\n",
       "    </tr>\n",
       "    <tr>\n",
       "      <th>6</th>\n",
       "      <td>0.890588</td>\n",
       "      <td>6.0</td>\n",
       "    </tr>\n",
       "    <tr>\n",
       "      <th>7</th>\n",
       "      <td>0.890588</td>\n",
       "      <td>7.0</td>\n",
       "    </tr>\n",
       "    <tr>\n",
       "      <th>8</th>\n",
       "      <td>0.893445</td>\n",
       "      <td>8.0</td>\n",
       "    </tr>\n",
       "    <tr>\n",
       "      <th>9</th>\n",
       "      <td>0.893445</td>\n",
       "      <td>9.0</td>\n",
       "    </tr>\n",
       "  </tbody>\n",
       "</table>\n",
       "</div>"
      ],
      "text/plain": [
       "         R2  lambda\n",
       "0  0.887731     0.0\n",
       "1  0.887731     1.0\n",
       "2  0.887731     2.0\n",
       "3  0.887731     3.0\n",
       "4  0.887731     4.0\n",
       "5  0.887731     5.0\n",
       "6  0.890588     6.0\n",
       "7  0.890588     7.0\n",
       "8  0.893445     8.0\n",
       "9  0.893445     9.0"
      ]
     },
     "execution_count": 241,
     "metadata": {},
     "output_type": "execute_result"
    }
   ],
   "source": [
    "# Store estimates\n",
    "\n",
    "scores = np.append(cross_val_score(lr, X, y, cv=kf).mean(),[0])\n",
    "\n",
    "#Run the model for many alphas\n",
    "\n",
    "for lambd in range(1, 10):\n",
    "    lr = LogisticRegression(C=lambd)\n",
    "    lr.fit(X, y)\n",
    "    scores = np.row_stack((\n",
    "        scores,\n",
    "        np.append(cross_val_score(lr, X, y, cv=kf).mean(),[lambd])))\n",
    "\n",
    "#Make the data pretty\n",
    "\n",
    "scores_df = pd.DataFrame(\n",
    "    scores,columns = ['R2','lambda'])\n",
    "scores_df.sort_values(by='lambda', inplace=True, ascending=True)\n",
    "scores_df"
   ]
  },
  {
   "cell_type": "code",
   "execution_count": 242,
   "metadata": {},
   "outputs": [
    {
     "data": {
      "text/plain": [
       "Text(0,0.5,'R2')"
      ]
     },
     "execution_count": 242,
     "metadata": {},
     "output_type": "execute_result"
    },
    {
     "data": {
      "image/png": "[encoded data removed]",
      "text/plain": [
       "<matplotlib.figure.Figure at 0x22e3cf6dda0>"
      ]
     },
     "metadata": {},
     "output_type": "display_data"
    }
   ],
   "source": [
    "#Plot changes in R2 vs C\n",
    "\n",
    "plt.plot(scores_df['lambda'], scores_df['R2'])\n",
    "plt.title('Logistic Regression')\n",
    "plt.xlabel('lambda')\n",
    "plt.ylabel('R2')"
   ]
  },
  {
   "cell_type": "markdown",
   "metadata": {},
   "source": [
    "#### Ridge regression"
   ]
  },
  {
   "cell_type": "code",
   "execution_count": 243,
   "metadata": {},
   "outputs": [
    {
     "name": "stdout",
     "output_type": "stream",
     "text": [
      "[-0.09617623  0.01765296  0.11308052  0.14957571]\n",
      "0.140804597701\n"
     ]
    },
    {
     "data": {
      "text/plain": [
       "-0.45253003617000143"
      ]
     },
     "execution_count": 243,
     "metadata": {},
     "output_type": "execute_result"
    }
   ],
   "source": [
    "# Declare a Ridge regression classifier.\n",
    "\n",
    "ridgeregr = Ridge(alpha = 9) \n",
    "\n",
    "# Fit the model.\n",
    "fit = ridgeregr.fit(X, y)\n",
    "print(fit.coef_)\n",
    "print(fit.intercept_)\n",
    "cross_val_score(ridgeregr, X, y, cv=kf).mean()"
   ]
  },
  {
   "cell_type": "code",
   "execution_count": 244,
   "metadata": {
    "collapsed": true
   },
   "outputs": [],
   "source": [
    "# Prepare Ridge Regression\n",
    "\n",
    "# Store estimates\n",
    "\n",
    "scores = np.append(cross_val_score(ridgeregr, X, y, cv=kf).mean(),[0])\n",
    "\n",
    "#Run the model for many alphas\n",
    "\n",
    "for lambd in range(1, 100):\n",
    "    ridgeregr = Ridge(alpha=lambd)\n",
    "    ridgeregr.fit(X, y)\n",
    "    scores = np.row_stack((\n",
    "        scores,np.append(cross_val_score(ridgeregr, X, y, cv=kf).mean(),[lambd])))\n",
    " \n",
    "# Make the data pretty\n",
    "scores_df = pd.DataFrame(\n",
    "    scores,columns = ['R2','lambd'])\n",
    "scores_df.sort_values(by='lambd', inplace=True, ascending=True)"
   ]
  },
  {
   "cell_type": "code",
   "execution_count": 245,
   "metadata": {},
   "outputs": [
    {
     "data": {
      "text/plain": [
       "Text(0,0.5,'R2')"
      ]
     },
     "execution_count": 245,
     "metadata": {},
     "output_type": "execute_result"
    },
    {
     "data": {
      "image/png": "[encoded data removed]",
      "text/plain": [
       "<matplotlib.figure.Figure at 0x22e3ceb1fd0>"
      ]
     },
     "metadata": {},
     "output_type": "display_data"
    }
   ],
   "source": [
    "#Plot changes in R2 vs lambda\n",
    "\n",
    "plt.plot(scores_df['lambd'], scores_df['R2'])\n",
    "plt.title('Ridge Regression')\n",
    "plt.xlabel('lambd')\n",
    "plt.ylabel('R2')"
   ]
  },
  {
   "cell_type": "markdown",
   "metadata": {
    "collapsed": true
   },
   "source": [
    "#### Lasso regression"
   ]
  },
  {
   "cell_type": "code",
   "execution_count": 246,
   "metadata": {},
   "outputs": [
    {
     "name": "stdout",
     "output_type": "stream",
     "text": [
      "[ 0.          0.00634429  0.00834542  0.15766585]\n",
      "0.140804597701\n"
     ]
    },
    {
     "data": {
      "text/plain": [
       "-0.036843180707531079"
      ]
     },
     "execution_count": 246,
     "metadata": {},
     "output_type": "execute_result"
    }
   ],
   "source": [
    "# Declare a Lasso regression classifier.\n",
    "\n",
    "lass = linear_model.Lasso(alpha = 0.01 )\n",
    "\n",
    "# Fit the model.\n",
    "fit = lass.fit(X, y)\n",
    "print(fit.coef_)\n",
    "print(fit.intercept_)\n",
    "cross_val_score(lass, X, y, cv=kf).mean()"
   ]
  },
  {
   "cell_type": "code",
   "execution_count": 247,
   "metadata": {
    "collapsed": true
   },
   "outputs": [],
   "source": [
    "# Prepare Lasso Regression\n",
    "\n",
    "# Store estimates\n",
    "\n",
    "scores = np.append(cross_val_score(lass, X, y, cv=kf).mean(),[0])\n",
    "\n",
    "#Run the model for many alphas\n",
    "\n",
    "for lambd in [x * 0.01 for x in range(1, 10)]:\n",
    "    lass = linear_model.Lasso(alpha=lambd)\n",
    "    lass.fit(X, y)\n",
    "    scores = np.row_stack((\n",
    "        scores,\n",
    "        np.append(cross_val_score(lass, X, y, cv=kf).mean(),[lambd])))\n",
    "    \n",
    "#Make the data pretty\n",
    "\n",
    "scores_df = pd.DataFrame(\n",
    "    scores,columns = ['R2','lambd'])\n",
    "scores_df.sort_values(by='lambd', inplace=True, ascending=True)"
   ]
  },
  {
   "cell_type": "code",
   "execution_count": 248,
   "metadata": {},
   "outputs": [
    {
     "data": {
      "text/plain": [
       "Text(0,0.5,'R2')"
      ]
     },
     "execution_count": 248,
     "metadata": {},
     "output_type": "execute_result"
    },
    {
     "data": {
      "image/png": "[encoded data removed]",
      "text/plain": [
       "<matplotlib.figure.Figure at 0x22e3b7bf4e0>"
      ]
     },
     "metadata": {},
     "output_type": "display_data"
    }
   ],
   "source": [
    "#Plot changes in R2 vs lambda\n",
    "\n",
    "plt.plot(scores_df['lambd'], scores_df['R2'])\n",
    "plt.title('Lasso Regression')\n",
    "plt.xlabel('lambd')\n",
    "plt.ylabel('R2')"
   ]
  },
  {
   "cell_type": "markdown",
   "metadata": {},
   "source": [
    "#### Evaluate all three models and decide on your best.\n",
    "***Be clear about the decisions you made that led to these models (feature selection, regularization parameter selection, model evaluation criteria) and why you think that particular model is the best of the three.***\n",
    "\n",
    "From the three models I would choose the model based on the cross-validation score. In this case, the best model would be the Ridge Regression with an alpha of 9 giving a R2 = 80% approx. The Logistic Regression gives a value of 89% with a C of 6 and the Lasso regression, to achieve the max R2 requires to have an alhpa that is closer to an OLS.\n",
    "\n",
    "The selected features have been: ['Robbery','Rape','Burglary']. They have been chosen considering the increase of information that they bring to R2.\n",
    "\n",
    "Models have been evaluated following the R2 criteria\n",
    "\n",
    "***Also reflect on the strengths and limitations of regression as a modeling approach.***\n",
    "\n",
    "Were there things you couldn't do but you wish you could have done?"
   ]
  },
  {
   "cell_type": "code",
   "execution_count": null,
   "metadata": {
    "collapsed": true
   },
   "outputs": [],
   "source": []
  }
 ],
 "metadata": {
  "kernelspec": {
   "display_name": "Python 3",
   "language": "python",
   "name": "python3"
  },
  "language_info": {
   "codemirror_mode": {
    "name": "ipython",
    "version": 3
   },
   "file_extension": ".py",
   "mimetype": "text/x-python",
   "name": "python",
   "nbconvert_exporter": "python",
   "pygments_lexer": "ipython3",
   "version": "3.5.4"
  }
 },
 "nbformat": 4,
 "nbformat_minor": 2
}
