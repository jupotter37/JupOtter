{
 "cells": [
  {
   "cell_type": "code",
   "execution_count": 1,
   "metadata": {
    "collapsed": true
   },
   "outputs": [],
   "source": [
    "import pandas as pd\n",
    "import os\n",
    "import sys\n",
    "import pybedtools"
   ]
  },
  {
   "cell_type": "code",
   "execution_count": 26,
   "metadata": {
    "collapsed": true
   },
   "outputs": [],
   "source": [
    "pybedtools.cleanup(remove_all=True)"
   ]
  },
  {
   "cell_type": "code",
   "execution_count": 27,
   "metadata": {
    "collapsed": false
   },
   "outputs": [],
   "source": [
    "chromsizes = {'NC_000913.3': (0, 4641651)}\n",
    "arcz = pybedtools.BedTool('../results/arcz.fixed.bed')\n",
    "dsra = pybedtools.BedTool('../results/dsra.fixed.bed')\n",
    "rpra = pybedtools.BedTool('../results/rpra.fixed.bed')\n",
    "utr5 = pybedtools.BedTool('../results/redux/wt_tmut.utrs.corr.old.bed')"
   ]
  },
  {
   "cell_type": "code",
   "execution_count": 28,
   "metadata": {
    "collapsed": true
   },
   "outputs": [],
   "source": [
    "utr5_arcz = utr5.intersect(arcz, wa=True, wb=True)"
   ]
  },
  {
   "cell_type": "code",
   "execution_count": 29,
   "metadata": {
    "collapsed": false
   },
   "outputs": [
    {
     "name": "stdout",
     "output_type": "stream",
     "text": [
      "NC_000913.3\t83708\t84024\t-\tleuL\tNC_000913.3\t83823\t83841\tb0075\n",
      " NC_000913.3\t103561\t103982\t+\tftsA\tNC_000913.3\t103761\t103766\tb0093\n",
      " NC_000913.3\t310671\t310797\t-\tecpA\tNC_000913.3\t310677\t310683\tb0293\n",
      " NC_000913.3\t320001\t320215\t-\tykgC\tNC_000913.3\t320209\t320232\tb0305\n",
      " NC_000913.3\t346337\t346435\t-\tyahN\tNC_000913.3\t346344\t346359\tb0329\n",
      " NC_000913.3\t346337\t346436\t-\tyahN\tNC_000913.3\t346344\t346359\tb0329\n",
      " NC_000913.3\t475245\t475379\t+\tybaY\tNC_000913.3\t475246\t475272\tb0453\n",
      " NC_000913.3\t540359\t540565\t+\tybbY\tNC_000913.3\t540465\t540482\tb0513\n",
      " NC_000913.3\t742619\t742827\t+\tybgI\tNC_000913.3\t742693\t742698\tb0710\n",
      " NC_000913.3\t755404\t755560\t+\tsdhD\tNC_000913.3\t755515\t755536\tb0721\n",
      " "
     ]
    }
   ],
   "source": [
    "utr5_arcz.head()"
   ]
  },
  {
   "cell_type": "code",
   "execution_count": 30,
   "metadata": {
    "collapsed": false
   },
   "outputs": [
    {
     "data": {
      "text/plain": [
       "<BedTool(../../results/redux/utr5_arcz.bed)>"
      ]
     },
     "execution_count": 30,
     "metadata": {},
     "output_type": "execute_result"
    }
   ],
   "source": [
    "utr5_arcz.saveas('../results/redux/utr5_arcz.bed')"
   ]
  },
  {
   "cell_type": "code",
   "execution_count": 31,
   "metadata": {
    "collapsed": false
   },
   "outputs": [
    {
     "data": {
      "text/plain": [
       "46"
      ]
     },
     "execution_count": 31,
     "metadata": {},
     "output_type": "execute_result"
    }
   ],
   "source": [
    "arcz_genes = set()\n",
    "with open('../../results/redux/utr5_arcz.bed') as fi:\n",
    "    for line in fi:\n",
    "        fields = line.strip().split('\\t')\n",
    "        arcz_genes.update(fields[4])\n",
    "        \n",
    "len(arcz_genes)"
   ]
  },
  {
   "cell_type": "code",
   "execution_count": 53,
   "metadata": {
    "collapsed": false
   },
   "outputs": [],
   "source": [
    "arcz.set_chromsizes(chromsizes)\n",
    "result = arcz.randomstats(utr5,\n",
    "                          iterations=10000,\n",
    "                          processes=30,\n",
    "                          shuffle_kwargs={'chrom': True})"
   ]
  },
  {
   "cell_type": "code",
   "execution_count": 54,
   "metadata": {
    "collapsed": false
   },
   "outputs": [
    {
     "data": {
      "text/plain": [
       "{'../../results/arcz.fixed.bed': 4318,\n",
       " '../../results/redux/wt_tmut.utrs.corr.old.bed': 499,\n",
       " 'actual': 74,\n",
       " 'file_a': '../../results/arcz.fixed.bed',\n",
       " 'file_b': '../../results/redux/wt_tmut.utrs.corr.old.bed',\n",
       " 'frac randomized above actual': 0.0161,\n",
       " 'frac randomized below actual': 0.97770000000000001,\n",
       " 'iterations': 10000,\n",
       " 'lower_2.5th': 44.0,\n",
       " 'median randomized': 58.0,\n",
       " 'normalized': 1.2758620689655173,\n",
       " 'other': 499,\n",
       " 'percentile': 98.084999999999994,\n",
       " 'self': 4318,\n",
       " 'upper_97.5th': 73.0}"
      ]
     },
     "execution_count": 54,
     "metadata": {},
     "output_type": "execute_result"
    }
   ],
   "source": [
    "result"
   ]
  },
  {
   "cell_type": "code",
   "execution_count": 57,
   "metadata": {
    "collapsed": true
   },
   "outputs": [],
   "source": [
    "dsra.set_chromsizes(chromsizes)\n",
    "result_dsra = dsra.randomstats(utr5,\n",
    "                          iterations=10000,\n",
    "                          processes=30,\n",
    "                          shuffle_kwargs={'chrom': True})"
   ]
  },
  {
   "cell_type": "code",
   "execution_count": 58,
   "metadata": {
    "collapsed": false
   },
   "outputs": [
    {
     "data": {
      "text/plain": [
       "{'../../results/dsra.fixed.bed': 4318,\n",
       " '../../results/redux/wt_tmut.utrs.corr.old.bed': 499,\n",
       " 'actual': 88,\n",
       " 'file_a': '../../results/dsra.fixed.bed',\n",
       " 'file_b': '../../results/redux/wt_tmut.utrs.corr.old.bed',\n",
       " 'frac randomized above actual': 0.0001,\n",
       " 'frac randomized below actual': 0.99960000000000004,\n",
       " 'iterations': 10000,\n",
       " 'lower_2.5th': 43.0,\n",
       " 'median randomized': 58.0,\n",
       " 'normalized': 1.5172413793103448,\n",
       " 'other': 499,\n",
       " 'percentile': 99.980000000000004,\n",
       " 'self': 4318,\n",
       " 'upper_97.5th': 73.0}"
      ]
     },
     "execution_count": 58,
     "metadata": {},
     "output_type": "execute_result"
    }
   ],
   "source": [
    "result_dsra"
   ]
  },
  {
   "cell_type": "code",
   "execution_count": 59,
   "metadata": {
    "collapsed": true
   },
   "outputs": [],
   "source": [
    "rpra.set_chromsizes(chromsizes)\n",
    "result_rpra = rpra.randomstats(utr5,\n",
    "                          iterations=10000,\n",
    "                          processes=30,\n",
    "                          shuffle_kwargs={'chrom': True})"
   ]
  },
  {
   "cell_type": "code",
   "execution_count": 60,
   "metadata": {
    "collapsed": false
   },
   "outputs": [
    {
     "data": {
      "text/plain": [
       "{'../../results/redux/wt_tmut.utrs.corr.old.bed': 499,\n",
       " '../../results/rpra.fixed.bed': 4318,\n",
       " 'actual': 67,\n",
       " 'file_a': '../../results/rpra.fixed.bed',\n",
       " 'file_b': '../../results/redux/wt_tmut.utrs.corr.old.bed',\n",
       " 'frac randomized above actual': 0.12139999999999999,\n",
       " 'frac randomized below actual': 0.85060000000000002,\n",
       " 'iterations': 10000,\n",
       " 'lower_2.5th': 44.0,\n",
       " 'median randomized': 58.0,\n",
       " 'normalized': 1.1551724137931034,\n",
       " 'other': 499,\n",
       " 'percentile': 86.465000000000003,\n",
       " 'self': 4318,\n",
       " 'upper_97.5th': 74.0}"
      ]
     },
     "execution_count": 60,
     "metadata": {},
     "output_type": "execute_result"
    }
   ],
   "source": [
    "result_rpra"
   ]
  },
  {
   "cell_type": "code",
   "execution_count": null,
   "metadata": {
    "collapsed": true
   },
   "outputs": [],
   "source": [
    "#### pybedtools.cleanup(remove_all=True)"
   ]
  }
 ],
 "metadata": {
  "kernelspec": {
   "display_name": "Python 3",
   "language": "python",
   "name": "python3"
  },
  "language_info": {
   "codemirror_mode": {
    "name": "ipython",
    "version": 3
   },
   "file_extension": ".py",
   "mimetype": "text/x-python",
   "name": "python",
   "nbconvert_exporter": "python",
   "pygments_lexer": "ipython3",
   "version": "3.5.2"
  },
  "widgets": {
   "state": {},
   "version": "1.1.1"
  }
 },
 "nbformat": 4,
 "nbformat_minor": 0
}
