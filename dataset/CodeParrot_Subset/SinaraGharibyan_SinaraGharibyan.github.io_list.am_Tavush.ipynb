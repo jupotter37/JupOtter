{
 "cells": [
  {
   "cell_type": "code",
   "execution_count": 1,
   "metadata": {
    "collapsed": true
   },
   "outputs": [],
   "source": [
    "from BeautifulSoup import *\n",
    "import requests\n",
    "import re\n",
    "list_aragacotn=[\"2\",\"3\",\"4\",\"5\"]\n",
    "url_aragacotn=[]\n",
    "for link in list_aragacotn:\n",
    "    url=\"https://www.list.am/category/60/\"+link+\"?crc=-1&_a4=1%2C2%2C3%2C4&n=57\"\n",
    "    url_aragacotn.append(url)\n",
    "url_aragacotn.append('https://www.list.am/category/60?crc=-1&_a4=1%2C2%2C3%2C4&n=57')  \n"
   ]
  },
  {
   "cell_type": "code",
   "execution_count": 2,
   "metadata": {
    "collapsed": true
   },
   "outputs": [],
   "source": [
    "list_soup=[]\n",
    "for i in range(0,len(url_aragacotn)):\n",
    "    response=requests.get(url_aragacotn[i])\n",
    "    page=response.text\n",
    "    soup=BeautifulSoup(page)\n",
    "    list_soup.append(soup)"
   ]
  },
  {
   "cell_type": "code",
   "execution_count": 3,
   "metadata": {
    "collapsed": true
   },
   "outputs": [],
   "source": [
    "land_list1=[]\n",
    "for i in  list_soup:\n",
    "    m=i.findAll('div',attrs={'class':'gl'})\n",
    "    land_list1.append(m)\n",
    "land_list11=[]\n",
    "for j in range(len(land_list1)):\n",
    "    \n",
    "    for i in range(len(land_list1[j])):\n",
    "        \n",
    "        land_list11.append(land_list1[j][i])        "
   ]
  },
  {
   "cell_type": "code",
   "execution_count": 4,
   "metadata": {
    "collapsed": true
   },
   "outputs": [],
   "source": [
    "list_views1=[]\n",
    "for i in land_list11:\n",
    "    m=re.findall('<a\\shref=\"(/item/[0-9]+)\">',str(i))\n",
    "    list_views1.append(m)\n",
    "land_list11=[]\n",
    "for j in range(len(list_views1)):\n",
    "    \n",
    "    for i in range(len(list_views1[j])):\n",
    "        \n",
    "        land_list11.append(list_views1[j][i])    "
   ]
  },
  {
   "cell_type": "code",
   "execution_count": 5,
   "metadata": {
    "collapsed": true
   },
   "outputs": [],
   "source": [
    "for i in range(len(list_views1)):\n",
    "    list_views1[i]=list_views1[i][0]\n",
    "list_item=[]\n",
    "for i in land_list11:\n",
    "    m=\"https://www.list.am\"+i\n",
    "    list_item.append(m)"
   ]
  },
  {
   "cell_type": "code",
   "execution_count": 6,
   "metadata": {
    "collapsed": true
   },
   "outputs": [],
   "source": [
    "list_soup=[]\n",
    "for i in range(0,len(list_item)):\n",
    "    response=requests.get(list_item[i])\n",
    "    page=response.text\n",
    "    soup=BeautifulSoup(page)\n",
    "    list_soup.append(soup)"
   ]
  },
  {
   "cell_type": "code",
   "execution_count": 8,
   "metadata": {
    "collapsed": false
   },
   "outputs": [
    {
     "name": "stdout",
     "output_type": "stream",
     "text": [
      "1 m2 flat in Tavush is  329.483002113 $\n"
     ]
    }
   ],
   "source": [
    "flat_list=[]\n",
    "for i in  list_soup:\n",
    "    m=i.findAll('div',attrs={'id':'pcontent'})\n",
    "    flat_list.append(m)\n",
    "price_list=[]\n",
    "space_list=[]\n",
    "for i in  flat_list:\n",
    "    m=re.findall('>([0-9]+)\\sm',str(i))\n",
    "    space_list.append(m)\n",
    "    n=re.findall('\"price\">(?:(\\$[0-9]+,*[0-9]*|[0-9]+,*[0-9]*\\s*֏))</span',str(i))\n",
    "    price_list.append(n)\n",
    "for i in range(len(price_list)):\n",
    "    if len(price_list[i])==1:\n",
    "        \n",
    "        price_list[i]=price_list[i][0]\n",
    "for i in range(len(space_list)):\n",
    "     if len(space_list[i])==1:\n",
    "            \n",
    "            space_list[i]=space_list[i][0]    \n",
    "for i in range(len(price_list)):\n",
    "    if type(price_list[i])==str:\n",
    "        price_list[i] =re.sub(',',\"\",price_list[i])\n",
    "for i in range(len(price_list)):\n",
    "    if type(price_list[i])==str:\n",
    "        price_list[i] =re.sub('\\xd6\\x8f',\"\",price_list[i])\n",
    "for i in range(len(price_list)):\n",
    "    if type(price_list[i])==str:\n",
    "        price_list[i]=re.sub('\\$',\"\",price_list[i])\n",
    "list_unit_price=[]\n",
    "for i in range(len(price_list)):\n",
    "    if type(price_list[i])==str and type(space_list[i])==str:\n",
    "        m=float(price_list[i])/float(space_list[i])\n",
    "        list_unit_price.append(m)\n",
    "sum=0\n",
    "for j in list_unit_price:\n",
    "    sum=sum+j\n",
    "mean=sum/len(list_unit_price)    \n",
    "print '1 m2 flat in Tavush is  ' + str(mean)+ ' $'                                    "
   ]
  },
  {
   "cell_type": "code",
   "execution_count": null,
   "metadata": {
    "collapsed": true
   },
   "outputs": [],
   "source": []
  },
  {
   "cell_type": "code",
   "execution_count": null,
   "metadata": {
    "collapsed": true
   },
   "outputs": [],
   "source": []
  }
 ],
 "metadata": {
  "kernelspec": {
   "display_name": "Python 2",
   "language": "python",
   "name": "python2"
  },
  "language_info": {
   "codemirror_mode": {
    "name": "ipython",
    "version": 2
   },
   "file_extension": ".py",
   "mimetype": "text/x-python",
   "name": "python",
   "nbconvert_exporter": "python",
   "pygments_lexer": "ipython2",
   "version": "2.7.13"
  }
 },
 "nbformat": 4,
 "nbformat_minor": 2
}
