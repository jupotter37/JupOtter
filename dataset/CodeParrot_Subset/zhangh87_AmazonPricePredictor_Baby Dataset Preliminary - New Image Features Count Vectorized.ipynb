{
 "cells": [
  {
   "cell_type": "code",
   "execution_count": 1,
   "metadata": {
    "collapsed": true
   },
   "outputs": [],
   "source": [
    "import pandas as pd\n",
    "import numpy as np\n",
    "import struct\n",
    "import gzip\n",
    "import matplotlib.pyplot as plt\n",
    "import seaborn\n",
    "    \n",
    "def parse(path):\n",
    "    g = gzip.open(path, 'rb')\n",
    "    for l in g:\n",
    "        yield eval(l)\n",
    "\n",
    "def getDF(path):\n",
    "    i = 0\n",
    "    df = {}\n",
    "    for d in parse(path):\n",
    "        df[i] = d\n",
    "        i += 1\n",
    "    return pd.DataFrame.from_dict(df, orient='index')"
   ]
  },
  {
   "cell_type": "code",
   "execution_count": 14,
   "metadata": {
    "collapsed": true
   },
   "outputs": [],
   "source": [
    "reviews = getDF('reviews_Baby.json.gz')\n",
    "meta = getDF('meta_Baby.json.gz')"
   ]
  },
  {
   "cell_type": "code",
   "execution_count": 15,
   "metadata": {
    "collapsed": true
   },
   "outputs": [],
   "source": [
    "img_feat = pd.read_csv('rcnn_image_features_stephan_1.tar')"
   ]
  },
  {
   "cell_type": "code",
   "execution_count": 16,
   "metadata": {
    "collapsed": true
   },
   "outputs": [],
   "source": [
    "reviewsDF = reviews.set_index('asin').groupby(level = 0)['unixReviewTime','overall'].agg(np.average)\n",
    "del reviews"
   ]
  },
  {
   "cell_type": "code",
   "execution_count": 17,
   "metadata": {
    "collapsed": true
   },
   "outputs": [],
   "source": [
    "meta = meta[['price','asin','title']].set_index('asin')"
   ]
  },
  {
   "cell_type": "code",
   "execution_count": 18,
   "metadata": {},
   "outputs": [
    {
     "data": {
      "text/html": [
       "<div>\n",
       "<style>\n",
       "    .dataframe thead tr:only-child th {\n",
       "        text-align: right;\n",
       "    }\n",
       "\n",
       "    .dataframe thead th {\n",
       "        text-align: left;\n",
       "    }\n",
       "\n",
       "    .dataframe tbody tr th {\n",
       "        vertical-align: top;\n",
       "    }\n",
       "</style>\n",
       "<table border=\"1\" class=\"dataframe\">\n",
       "  <thead>\n",
       "    <tr style=\"text-align: right;\">\n",
       "      <th></th>\n",
       "      <th>price</th>\n",
       "      <th>title</th>\n",
       "      <th>unixReviewTime</th>\n",
       "      <th>overall</th>\n",
       "    </tr>\n",
       "    <tr>\n",
       "      <th>asin</th>\n",
       "      <th></th>\n",
       "      <th></th>\n",
       "      <th></th>\n",
       "      <th></th>\n",
       "    </tr>\n",
       "  </thead>\n",
       "  <tbody>\n",
       "    <tr>\n",
       "      <th>0188399313</th>\n",
       "      <td>69.99</td>\n",
       "      <td>Lifefactory 4oz BPA Free Glass Baby Bottles - ...</td>\n",
       "      <td>1.369613e+09</td>\n",
       "      <td>5.000000</td>\n",
       "    </tr>\n",
       "    <tr>\n",
       "      <th>0188399518</th>\n",
       "      <td>15.95</td>\n",
       "      <td>Planetwise Flannel Wipes</td>\n",
       "      <td>1.382789e+09</td>\n",
       "      <td>3.500000</td>\n",
       "    </tr>\n",
       "    <tr>\n",
       "      <th>0188399399</th>\n",
       "      <td>10.95</td>\n",
       "      <td>Planetwise Wipe Pouch</td>\n",
       "      <td>1.365466e+09</td>\n",
       "      <td>5.000000</td>\n",
       "    </tr>\n",
       "    <tr>\n",
       "      <th>0316967297</th>\n",
       "      <td>109.95</td>\n",
       "      <td>Annas Dream Full Quilt with 2 Shams</td>\n",
       "      <td>1.371168e+09</td>\n",
       "      <td>4.500000</td>\n",
       "    </tr>\n",
       "    <tr>\n",
       "      <th>0615447279</th>\n",
       "      <td>16.95</td>\n",
       "      <td>Stop Pacifier Sucking without tears with Thumb...</td>\n",
       "      <td>1.348464e+09</td>\n",
       "      <td>4.333333</td>\n",
       "    </tr>\n",
       "  </tbody>\n",
       "</table>\n",
       "</div>"
      ],
      "text/plain": [
       "             price                                              title  \\\n",
       "asin                                                                    \n",
       "0188399313   69.99  Lifefactory 4oz BPA Free Glass Baby Bottles - ...   \n",
       "0188399518   15.95                           Planetwise Flannel Wipes   \n",
       "0188399399   10.95                              Planetwise Wipe Pouch   \n",
       "0316967297  109.95                Annas Dream Full Quilt with 2 Shams   \n",
       "0615447279   16.95  Stop Pacifier Sucking without tears with Thumb...   \n",
       "\n",
       "            unixReviewTime   overall  \n",
       "asin                                  \n",
       "0188399313    1.369613e+09  5.000000  \n",
       "0188399518    1.382789e+09  3.500000  \n",
       "0188399399    1.365466e+09  5.000000  \n",
       "0316967297    1.371168e+09  4.500000  \n",
       "0615447279    1.348464e+09  4.333333  "
      ]
     },
     "execution_count": 18,
     "metadata": {},
     "output_type": "execute_result"
    }
   ],
   "source": [
    "df = meta.merge(reviewsDF, how = 'inner', left_index = True, right_index = True).dropna(how = 'any')\n",
    "df.head()"
   ]
  },
  {
   "cell_type": "code",
   "execution_count": 19,
   "metadata": {
    "collapsed": true
   },
   "outputs": [],
   "source": [
    "df['time'] = pd.to_datetime(df['unixReviewTime'], unit = 's')\n",
    "df = df.drop('unixReviewTime',axis = 1)"
   ]
  },
  {
   "cell_type": "code",
   "execution_count": 20,
   "metadata": {},
   "outputs": [
    {
     "data": {
      "image/png": "[encoded data removed]",
      "text/plain": [
       "<matplotlib.figure.Figure at 0x219394bc208>"
      ]
     },
     "metadata": {},
     "output_type": "display_data"
    }
   ],
   "source": [
    "plt.figure()\n",
    "df.set_index('time')['price'].groupby(pd.TimeGrouper(freq='6M')).count().plot(kind='bar')\n",
    "plt.ylabel('Frequency')\n",
    "plt.show()"
   ]
  },
  {
   "cell_type": "code",
   "execution_count": 29,
   "metadata": {},
   "outputs": [
    {
     "data": {
      "image/png": "[encoded data removed]",
      "text/plain": [
       "<matplotlib.figure.Figure at 0x2196c43ab38>"
      ]
     },
     "metadata": {},
     "output_type": "display_data"
    }
   ],
   "source": [
    "plt.figure()\n",
    "np.log(df['price']).plot.hist(bins = 50,)\n",
    "plt.xlabel('ln(price)')\n",
    "plt.show()"
   ]
  },
  {
   "cell_type": "code",
   "execution_count": 30,
   "metadata": {},
   "outputs": [
    {
     "data": {
      "text/plain": [
       "(33378, 4)"
      ]
     },
     "execution_count": 30,
     "metadata": {},
     "output_type": "execute_result"
    }
   ],
   "source": [
    "df = df[df['time'] > '2013-01-01']\n",
    "df.shape\n",
    "#33378"
   ]
  },
  {
   "cell_type": "code",
   "execution_count": 44,
   "metadata": {},
   "outputs": [
    {
     "data": {
      "image/png": "[encoded data removed]",
      "text/plain": [
       "<matplotlib.figure.Figure at 0x2190ac7afd0>"
      ]
     },
     "metadata": {},
     "output_type": "display_data"
    }
   ],
   "source": [
    "plt.figure()\n",
    "df[df.apply(lambda x: 'sock' in x['title'].lower(), axis = 1)]['price'].plot.hist(bins = 20)\n",
    "plt.xlabel('Price')\n",
    "plt.show()"
   ]
  },
  {
   "cell_type": "code",
   "execution_count": 49,
   "metadata": {
    "scrolled": true
   },
   "outputs": [
    {
     "data": {
      "image/png": "[encoded data removed]",
      "text/plain": [
       "<matplotlib.figure.Figure at 0x2190c14b9e8>"
      ]
     },
     "metadata": {},
     "output_type": "display_data"
    }
   ],
   "source": [
    "plt.figure()\n",
    "df[df.apply(lambda x: 'stroller' in x['title'].lower(), axis = 1)]['price'].plot.hist(bins = 20)\n",
    "plt.xlabel('Price')\n",
    "plt.show()"
   ]
  },
  {
   "cell_type": "code",
   "execution_count": 52,
   "metadata": {},
   "outputs": [
    {
     "name": "stdout",
     "output_type": "stream",
     "text": [
      "360191\n",
      "344911\n"
     ]
    }
   ],
   "source": [
    "import nltk\n",
    "from nltk.collocations import *\n",
    "from nltk.corpus import stopwords\n",
    "words = nltk.word_tokenize(' '.join(df['title']))\n",
    "print(len(words))\n",
    "stopset = set(stopwords.words('english'))\n",
    "bigram_measures = nltk.collocations.BigramAssocMeasures()\n",
    "filtered_words = [w for w in words if not w in stopwords.words('english')]\n",
    "print(len(filtered_words))"
   ]
  },
  {
   "cell_type": "code",
   "execution_count": 53,
   "metadata": {},
   "outputs": [
    {
     "name": "stdout",
     "output_type": "stream",
     "text": [
      "293700\n"
     ]
    }
   ],
   "source": [
    "import string\n",
    "filtered_words = [x for x in filtered_words if x not in string.punctuation]\n",
    "print(len(filtered_words))"
   ]
  },
  {
   "cell_type": "code",
   "execution_count": 54,
   "metadata": {},
   "outputs": [
    {
     "data": {
      "text/plain": [
       "[('Bedding', 'Set'),\n",
       " ('Car', 'Seat'),\n",
       " ('Diaper', 'Bag'),\n",
       " ('2', 'Pack'),\n",
       " ('Carter', \"'s\"),\n",
       " ('Crib', 'Bedding'),\n",
       " ('Jojo', 'Designs'),\n",
       " ('Sweet', 'Jojo'),\n",
       " ('Cloth', 'Diaper'),\n",
       " ('Summer', 'Infant'),\n",
       " ('One', 'Size'),\n",
       " ('BPA', 'Free'),\n",
       " ('Safety', '1st'),\n",
       " ('Changing', 'Pad'),\n",
       " ('Crib', 'Sheet'),\n",
       " ('Lambs', 'amp'),\n",
       " ('amp', 'Ivy'),\n",
       " ('3', 'Pack'),\n",
       " ('Gift', 'Set'),\n",
       " ('4', 'Piece')]"
      ]
     },
     "execution_count": 54,
     "metadata": {},
     "output_type": "execute_result"
    }
   ],
   "source": [
    "finder = BigramCollocationFinder.from_words(filtered_words)\n",
    "finder.nbest(bigram_measures.raw_freq, 20)"
   ]
  },
  {
   "cell_type": "code",
   "execution_count": 58,
   "metadata": {},
   "outputs": [
    {
     "data": {
      "image/png": "[encoded data removed]",
      "text/plain": [
       "<matplotlib.figure.Figure at 0x2197893c6d8>"
      ]
     },
     "metadata": {},
     "output_type": "display_data"
    }
   ],
   "source": [
    "word_fd = nltk.FreqDist(filtered_words)\n",
    "word_fd.plot(35,cumulative=False)"
   ]
  },
  {
   "cell_type": "code",
   "execution_count": 59,
   "metadata": {},
   "outputs": [
    {
     "data": {
      "text/plain": [
       "13978"
      ]
     },
     "execution_count": 59,
     "metadata": {},
     "output_type": "execute_result"
    }
   ],
   "source": [
    "words_only = [w for w in filtered_words if w.isalpha()]\n",
    "unique = set([w.lower() for w in words_only])\n",
    "len(unique)"
   ]
  },
  {
   "cell_type": "code",
   "execution_count": 60,
   "metadata": {},
   "outputs": [
    {
     "data": {
      "image/png": "[encoded data removed]",
      "text/plain": [
       "<matplotlib.figure.Figure at 0x2190225d9b0>"
      ]
     },
     "metadata": {},
     "output_type": "display_data"
    }
   ],
   "source": [
    "word_fd = nltk.FreqDist(filtered_words)\n",
    "plt.figure()\n",
    "plt.plot(list(range(len(word_fd))),np.log(sorted(word_fd.values(),reverse = True)))\n",
    "plt.xlabel('# Words')\n",
    "plt.ylabel('Log Frequency')\n",
    "plt.show()"
   ]
  },
  {
   "cell_type": "code",
   "execution_count": 61,
   "metadata": {},
   "outputs": [
    {
     "data": {
      "image/png": "[encoded data removed]",
      "text/plain": [
       "<matplotlib.figure.Figure at 0x2190bdf3e10>"
      ]
     },
     "metadata": {},
     "output_type": "display_data"
    }
   ],
   "source": [
    "word_fd = nltk.FreqDist(filtered_words)\n",
    "plt.figure()\n",
    "plt.plot(list(range(len(word_fd))),np.array(sorted(word_fd.values(),reverse = True)).cumsum())\n",
    "plt.xlabel('# Words')\n",
    "plt.ylabel('Cumulative Frequency')\n",
    "plt.show()"
   ]
  },
  {
   "cell_type": "code",
   "execution_count": 63,
   "metadata": {
    "collapsed": true
   },
   "outputs": [],
   "source": [
    "df = img_feat.set_index('rcnn_image_features.csv').merge(df, how = 'inner', left_index = True, right_index = True).dropna(how = 'any')"
   ]
  },
  {
   "cell_type": "code",
   "execution_count": 64,
   "metadata": {
    "collapsed": true
   },
   "outputs": [],
   "source": [
    "price = df['price']\n",
    "rating = df['overall']\n",
    "df = df.drop(['price','overall','time'],axis = 1)"
   ]
  },
  {
   "cell_type": "code",
   "execution_count": 65,
   "metadata": {
    "collapsed": true
   },
   "outputs": [],
   "source": [
    "del img_feat"
   ]
  },
  {
   "cell_type": "code",
   "execution_count": 66,
   "metadata": {},
   "outputs": [
    {
     "data": {
      "text/plain": [
       "(33378, 4097)"
      ]
     },
     "execution_count": 66,
     "metadata": {},
     "output_type": "execute_result"
    }
   ],
   "source": [
    "df.shape"
   ]
  },
  {
   "cell_type": "code",
   "execution_count": 67,
   "metadata": {
    "collapsed": true
   },
   "outputs": [],
   "source": [
    "from sklearn.feature_extraction.text import CountVectorizer\n",
    "countvect = CountVectorizer(analyzer = 'word', tokenizer = nltk.word_tokenize\n",
    "                , stop_words = 'english', max_features = 1000)"
   ]
  },
  {
   "cell_type": "code",
   "execution_count": 68,
   "metadata": {
    "collapsed": true
   },
   "outputs": [],
   "source": [
    "from scipy.sparse import hstack\n",
    "allFeatures = hstack((df.drop('title',axis = 1).values, countvect.fit_transform(df['title'])))"
   ]
  },
  {
   "cell_type": "code",
   "execution_count": 69,
   "metadata": {
    "collapsed": true
   },
   "outputs": [],
   "source": [
    "from sklearn.ensemble import GradientBoostingRegressor\n",
    "from sklearn.model_selection import train_test_split\n",
    "from sklearn.metrics import r2_score\n",
    "from sklearn.model_selection import GridSearchCV\n",
    "from sklearn.neighbors import KNeighborsRegressor\n",
    "\n",
    "X_train, X_test, y_train, y_test = train_test_split(allFeatures,price, test_size = 0.2, random_state = 1)"
   ]
  },
  {
   "cell_type": "code",
   "execution_count": 62,
   "metadata": {
    "collapsed": true
   },
   "outputs": [],
   "source": [
    "gb = GradientBoostingRegressor(random_state = 1, n_estimators = 100)\n",
    "param_grid = {'learning_rate': [0.01, 0.1, 1, 10],\n",
    "             'max_depth': [3,5, 7]}"
   ]
  },
  {
   "cell_type": "code",
   "execution_count": 63,
   "metadata": {},
   "outputs": [
    {
     "name": "stdout",
     "output_type": "stream",
     "text": [
      "Fitting 3 folds for each of 12 candidates, totalling 36 fits\n"
     ]
    },
    {
     "name": "stderr",
     "output_type": "stream",
     "text": [
      "[Parallel(n_jobs=3)]: Done   2 tasks      | elapsed: 10.2min\n",
      "[Parallel(n_jobs=3)]: Done   7 tasks      | elapsed: 51.2min\n",
      "[Parallel(n_jobs=3)]: Done  12 tasks      | elapsed: 61.0min\n",
      "[Parallel(n_jobs=3)]: Done  19 tasks      | elapsed: 110.7min\n",
      "[Parallel(n_jobs=3)]: Done  26 tasks      | elapsed: 149.9min\n",
      "[Parallel(n_jobs=3)]: Done  36 out of  36 | elapsed: 201.3min finished\n",
      "C:\\ProgramData\\Anaconda3\\lib\\site-packages\\sklearn\\model_selection\\_search.py:672: RuntimeWarning: overflow encountered in square\n",
      "  array_means[:, np.newaxis]) ** 2,\n"
     ]
    }
   ],
   "source": [
    "gs = GridSearchCV(estimator = gb, param_grid = param_grid, scoring = 'r2', cv = 3, n_jobs = 3, verbose = 10).fit(X_train, y_train)\n"
   ]
  },
  {
   "cell_type": "code",
   "execution_count": 64,
   "metadata": {
    "collapsed": true
   },
   "outputs": [],
   "source": [
    "import pickle\n",
    "pickle.dump(gs, open('gsgd','wb'))"
   ]
  },
  {
   "cell_type": "code",
   "execution_count": 65,
   "metadata": {
    "collapsed": true
   },
   "outputs": [],
   "source": [
    "gs = pickle.load(open('gsgd','rb'))"
   ]
  },
  {
   "cell_type": "code",
   "execution_count": 67,
   "metadata": {},
   "outputs": [
    {
     "data": {
      "text/html": [
       "<div>\n",
       "<style>\n",
       "    .dataframe thead tr:only-child th {\n",
       "        text-align: right;\n",
       "    }\n",
       "\n",
       "    .dataframe thead th {\n",
       "        text-align: left;\n",
       "    }\n",
       "\n",
       "    .dataframe tbody tr th {\n",
       "        vertical-align: top;\n",
       "    }\n",
       "</style>\n",
       "<table border=\"1\" class=\"dataframe\">\n",
       "  <thead>\n",
       "    <tr style=\"text-align: right;\">\n",
       "      <th></th>\n",
       "      <th>mean_fit_time</th>\n",
       "      <th>mean_score_time</th>\n",
       "      <th>mean_test_score</th>\n",
       "      <th>mean_train_score</th>\n",
       "      <th>param_learning_rate</th>\n",
       "      <th>param_max_depth</th>\n",
       "      <th>params</th>\n",
       "      <th>rank_test_score</th>\n",
       "      <th>split0_test_score</th>\n",
       "      <th>split0_train_score</th>\n",
       "      <th>split1_test_score</th>\n",
       "      <th>split1_train_score</th>\n",
       "      <th>split2_test_score</th>\n",
       "      <th>split2_train_score</th>\n",
       "      <th>std_fit_time</th>\n",
       "      <th>std_score_time</th>\n",
       "      <th>std_test_score</th>\n",
       "      <th>std_train_score</th>\n",
       "    </tr>\n",
       "  </thead>\n",
       "  <tbody>\n",
       "    <tr>\n",
       "      <th>0</th>\n",
       "      <td>566.670623</td>\n",
       "      <td>0.114586</td>\n",
       "      <td>2.786318e-01</td>\n",
       "      <td>3.243149e-01</td>\n",
       "      <td>0.01</td>\n",
       "      <td>3</td>\n",
       "      <td>{'learning_rate': 0.01, 'max_depth': 3}</td>\n",
       "      <td>6</td>\n",
       "      <td>2.746436e-01</td>\n",
       "      <td>3.206852e-01</td>\n",
       "      <td>2.756077e-01</td>\n",
       "      <td>3.257986e-01</td>\n",
       "      <td>2.856449e-01</td>\n",
       "      <td>3.264610e-01</td>\n",
       "      <td>0.880525</td>\n",
       "      <td>7.364516e-03</td>\n",
       "      <td>0.004974</td>\n",
       "      <td>0.002581</td>\n",
       "    </tr>\n",
       "    <tr>\n",
       "      <th>1</th>\n",
       "      <td>986.255134</td>\n",
       "      <td>0.119795</td>\n",
       "      <td>3.309793e-01</td>\n",
       "      <td>4.812772e-01</td>\n",
       "      <td>0.01</td>\n",
       "      <td>5</td>\n",
       "      <td>{'learning_rate': 0.01, 'max_depth': 5}</td>\n",
       "      <td>5</td>\n",
       "      <td>3.311018e-01</td>\n",
       "      <td>4.812723e-01</td>\n",
       "      <td>3.247332e-01</td>\n",
       "      <td>4.761615e-01</td>\n",
       "      <td>3.371035e-01</td>\n",
       "      <td>4.863977e-01</td>\n",
       "      <td>1.923422</td>\n",
       "      <td>7.367271e-03</td>\n",
       "      <td>0.005051</td>\n",
       "      <td>0.004179</td>\n",
       "    </tr>\n",
       "    <tr>\n",
       "      <th>2</th>\n",
       "      <td>1485.886665</td>\n",
       "      <td>0.145834</td>\n",
       "      <td>3.545946e-01</td>\n",
       "      <td>5.994504e-01</td>\n",
       "      <td>0.01</td>\n",
       "      <td>7</td>\n",
       "      <td>{'learning_rate': 0.01, 'max_depth': 7}</td>\n",
       "      <td>4</td>\n",
       "      <td>3.550735e-01</td>\n",
       "      <td>6.018290e-01</td>\n",
       "      <td>3.471884e-01</td>\n",
       "      <td>5.952919e-01</td>\n",
       "      <td>3.615226e-01</td>\n",
       "      <td>6.012302e-01</td>\n",
       "      <td>7.834503</td>\n",
       "      <td>7.365808e-03</td>\n",
       "      <td>0.005862</td>\n",
       "      <td>0.002951</td>\n",
       "    </tr>\n",
       "    <tr>\n",
       "      <th>3</th>\n",
       "      <td>562.740034</td>\n",
       "      <td>0.114584</td>\n",
       "      <td>4.494290e-01</td>\n",
       "      <td>6.398482e-01</td>\n",
       "      <td>0.1</td>\n",
       "      <td>3</td>\n",
       "      <td>{'learning_rate': 0.1, 'max_depth': 3}</td>\n",
       "      <td>3</td>\n",
       "      <td>4.584442e-01</td>\n",
       "      <td>6.370217e-01</td>\n",
       "      <td>4.378416e-01</td>\n",
       "      <td>6.420067e-01</td>\n",
       "      <td>4.520016e-01</td>\n",
       "      <td>6.405162e-01</td>\n",
       "      <td>0.943872</td>\n",
       "      <td>7.366033e-03</td>\n",
       "      <td>0.008606</td>\n",
       "      <td>0.002089</td>\n",
       "    </tr>\n",
       "    <tr>\n",
       "      <th>4</th>\n",
       "      <td>989.149054</td>\n",
       "      <td>0.139613</td>\n",
       "      <td>4.848307e-01</td>\n",
       "      <td>8.158985e-01</td>\n",
       "      <td>0.1</td>\n",
       "      <td>5</td>\n",
       "      <td>{'learning_rate': 0.1, 'max_depth': 5}</td>\n",
       "      <td>2</td>\n",
       "      <td>4.922831e-01</td>\n",
       "      <td>8.141078e-01</td>\n",
       "      <td>4.711908e-01</td>\n",
       "      <td>8.157892e-01</td>\n",
       "      <td>4.910190e-01</td>\n",
       "      <td>8.177984e-01</td>\n",
       "      <td>0.990014</td>\n",
       "      <td>1.433218e-03</td>\n",
       "      <td>0.009659</td>\n",
       "      <td>0.001509</td>\n",
       "    </tr>\n",
       "    <tr>\n",
       "      <th>5</th>\n",
       "      <td>1452.639853</td>\n",
       "      <td>0.145834</td>\n",
       "      <td>4.886593e-01</td>\n",
       "      <td>9.063788e-01</td>\n",
       "      <td>0.1</td>\n",
       "      <td>7</td>\n",
       "      <td>{'learning_rate': 0.1, 'max_depth': 7}</td>\n",
       "      <td>1</td>\n",
       "      <td>4.976960e-01</td>\n",
       "      <td>9.064331e-01</td>\n",
       "      <td>4.791010e-01</td>\n",
       "      <td>9.076069e-01</td>\n",
       "      <td>4.891809e-01</td>\n",
       "      <td>9.050965e-01</td>\n",
       "      <td>4.112546</td>\n",
       "      <td>7.365639e-03</td>\n",
       "      <td>0.007600</td>\n",
       "      <td>0.001026</td>\n",
       "    </tr>\n",
       "    <tr>\n",
       "      <th>6</th>\n",
       "      <td>565.015646</td>\n",
       "      <td>0.120319</td>\n",
       "      <td>1.792066e-02</td>\n",
       "      <td>8.619998e-01</td>\n",
       "      <td>1</td>\n",
       "      <td>3</td>\n",
       "      <td>{'learning_rate': 1, 'max_depth': 3}</td>\n",
       "      <td>7</td>\n",
       "      <td>4.932588e-02</td>\n",
       "      <td>8.617218e-01</td>\n",
       "      <td>-3.529163e-02</td>\n",
       "      <td>8.642543e-01</td>\n",
       "      <td>3.973017e-02</td>\n",
       "      <td>8.600232e-01</td>\n",
       "      <td>0.675001</td>\n",
       "      <td>7.765183e-03</td>\n",
       "      <td>0.037831</td>\n",
       "      <td>0.001738</td>\n",
       "    </tr>\n",
       "    <tr>\n",
       "      <th>7</th>\n",
       "      <td>970.525649</td>\n",
       "      <td>0.140625</td>\n",
       "      <td>-1.198566e-01</td>\n",
       "      <td>9.623524e-01</td>\n",
       "      <td>1</td>\n",
       "      <td>5</td>\n",
       "      <td>{'learning_rate': 1, 'max_depth': 5}</td>\n",
       "      <td>8</td>\n",
       "      <td>-1.098837e-01</td>\n",
       "      <td>9.611571e-01</td>\n",
       "      <td>-1.242398e-01</td>\n",
       "      <td>9.622157e-01</td>\n",
       "      <td>-1.254470e-01</td>\n",
       "      <td>9.636842e-01</td>\n",
       "      <td>0.890323</td>\n",
       "      <td>3.893359e-07</td>\n",
       "      <td>0.007069</td>\n",
       "      <td>0.001036</td>\n",
       "    </tr>\n",
       "    <tr>\n",
       "      <th>8</th>\n",
       "      <td>1368.443473</td>\n",
       "      <td>0.145834</td>\n",
       "      <td>-1.649937e-01</td>\n",
       "      <td>9.907511e-01</td>\n",
       "      <td>1</td>\n",
       "      <td>7</td>\n",
       "      <td>{'learning_rate': 1, 'max_depth': 7}</td>\n",
       "      <td>9</td>\n",
       "      <td>-1.382360e-01</td>\n",
       "      <td>9.904348e-01</td>\n",
       "      <td>-2.061176e-01</td>\n",
       "      <td>9.913164e-01</td>\n",
       "      <td>-1.506260e-01</td>\n",
       "      <td>9.905020e-01</td>\n",
       "      <td>5.178201</td>\n",
       "      <td>7.365527e-03</td>\n",
       "      <td>0.029516</td>\n",
       "      <td>0.000401</td>\n",
       "    </tr>\n",
       "    <tr>\n",
       "      <th>9</th>\n",
       "      <td>563.856970</td>\n",
       "      <td>0.104178</td>\n",
       "      <td>-1.796564e+190</td>\n",
       "      <td>-1.918447e+190</td>\n",
       "      <td>10</td>\n",
       "      <td>3</td>\n",
       "      <td>{'learning_rate': 10, 'max_depth': 3}</td>\n",
       "      <td>10</td>\n",
       "      <td>-1.592175e+190</td>\n",
       "      <td>-1.868740e+190</td>\n",
       "      <td>-1.839157e+190</td>\n",
       "      <td>-1.942958e+190</td>\n",
       "      <td>-1.958380e+190</td>\n",
       "      <td>-1.943643e+190</td>\n",
       "      <td>1.106056</td>\n",
       "      <td>7.351815e-03</td>\n",
       "      <td>inf</td>\n",
       "      <td>inf</td>\n",
       "    </tr>\n",
       "    <tr>\n",
       "      <th>10</th>\n",
       "      <td>981.543549</td>\n",
       "      <td>0.119794</td>\n",
       "      <td>-2.579831e+190</td>\n",
       "      <td>-2.902438e+190</td>\n",
       "      <td>10</td>\n",
       "      <td>5</td>\n",
       "      <td>{'learning_rate': 10, 'max_depth': 5}</td>\n",
       "      <td>11</td>\n",
       "      <td>-2.521610e+190</td>\n",
       "      <td>-2.819105e+190</td>\n",
       "      <td>-2.814671e+190</td>\n",
       "      <td>-2.901231e+190</td>\n",
       "      <td>-2.403191e+190</td>\n",
       "      <td>-2.986977e+190</td>\n",
       "      <td>0.944962</td>\n",
       "      <td>7.363448e-03</td>\n",
       "      <td>inf</td>\n",
       "      <td>inf</td>\n",
       "    </tr>\n",
       "    <tr>\n",
       "      <th>11</th>\n",
       "      <td>1519.095625</td>\n",
       "      <td>0.130208</td>\n",
       "      <td>-4.126538e+190</td>\n",
       "      <td>-3.936789e+190</td>\n",
       "      <td>10</td>\n",
       "      <td>7</td>\n",
       "      <td>{'learning_rate': 10, 'max_depth': 7}</td>\n",
       "      <td>12</td>\n",
       "      <td>-3.475897e+190</td>\n",
       "      <td>-3.940914e+190</td>\n",
       "      <td>-5.155596e+190</td>\n",
       "      <td>-3.937756e+190</td>\n",
       "      <td>-3.748079e+190</td>\n",
       "      <td>-3.931695e+190</td>\n",
       "      <td>18.480392</td>\n",
       "      <td>7.365415e-03</td>\n",
       "      <td>inf</td>\n",
       "      <td>inf</td>\n",
       "    </tr>\n",
       "  </tbody>\n",
       "</table>\n",
       "</div>"
      ],
      "text/plain": [
       "    mean_fit_time  mean_score_time  mean_test_score  mean_train_score  \\\n",
       "0      566.670623         0.114586     2.786318e-01      3.243149e-01   \n",
       "1      986.255134         0.119795     3.309793e-01      4.812772e-01   \n",
       "2     1485.886665         0.145834     3.545946e-01      5.994504e-01   \n",
       "3      562.740034         0.114584     4.494290e-01      6.398482e-01   \n",
       "4      989.149054         0.139613     4.848307e-01      8.158985e-01   \n",
       "5     1452.639853         0.145834     4.886593e-01      9.063788e-01   \n",
       "6      565.015646         0.120319     1.792066e-02      8.619998e-01   \n",
       "7      970.525649         0.140625    -1.198566e-01      9.623524e-01   \n",
       "8     1368.443473         0.145834    -1.649937e-01      9.907511e-01   \n",
       "9      563.856970         0.104178   -1.796564e+190    -1.918447e+190   \n",
       "10     981.543549         0.119794   -2.579831e+190    -2.902438e+190   \n",
       "11    1519.095625         0.130208   -4.126538e+190    -3.936789e+190   \n",
       "\n",
       "   param_learning_rate param_max_depth  \\\n",
       "0                 0.01               3   \n",
       "1                 0.01               5   \n",
       "2                 0.01               7   \n",
       "3                  0.1               3   \n",
       "4                  0.1               5   \n",
       "5                  0.1               7   \n",
       "6                    1               3   \n",
       "7                    1               5   \n",
       "8                    1               7   \n",
       "9                   10               3   \n",
       "10                  10               5   \n",
       "11                  10               7   \n",
       "\n",
       "                                     params  rank_test_score  \\\n",
       "0   {'learning_rate': 0.01, 'max_depth': 3}                6   \n",
       "1   {'learning_rate': 0.01, 'max_depth': 5}                5   \n",
       "2   {'learning_rate': 0.01, 'max_depth': 7}                4   \n",
       "3    {'learning_rate': 0.1, 'max_depth': 3}                3   \n",
       "4    {'learning_rate': 0.1, 'max_depth': 5}                2   \n",
       "5    {'learning_rate': 0.1, 'max_depth': 7}                1   \n",
       "6      {'learning_rate': 1, 'max_depth': 3}                7   \n",
       "7      {'learning_rate': 1, 'max_depth': 5}                8   \n",
       "8      {'learning_rate': 1, 'max_depth': 7}                9   \n",
       "9     {'learning_rate': 10, 'max_depth': 3}               10   \n",
       "10    {'learning_rate': 10, 'max_depth': 5}               11   \n",
       "11    {'learning_rate': 10, 'max_depth': 7}               12   \n",
       "\n",
       "    split0_test_score  split0_train_score  split1_test_score  \\\n",
       "0        2.746436e-01        3.206852e-01       2.756077e-01   \n",
       "1        3.311018e-01        4.812723e-01       3.247332e-01   \n",
       "2        3.550735e-01        6.018290e-01       3.471884e-01   \n",
       "3        4.584442e-01        6.370217e-01       4.378416e-01   \n",
       "4        4.922831e-01        8.141078e-01       4.711908e-01   \n",
       "5        4.976960e-01        9.064331e-01       4.791010e-01   \n",
       "6        4.932588e-02        8.617218e-01      -3.529163e-02   \n",
       "7       -1.098837e-01        9.611571e-01      -1.242398e-01   \n",
       "8       -1.382360e-01        9.904348e-01      -2.061176e-01   \n",
       "9      -1.592175e+190      -1.868740e+190     -1.839157e+190   \n",
       "10     -2.521610e+190      -2.819105e+190     -2.814671e+190   \n",
       "11     -3.475897e+190      -3.940914e+190     -5.155596e+190   \n",
       "\n",
       "    split1_train_score  split2_test_score  split2_train_score  std_fit_time  \\\n",
       "0         3.257986e-01       2.856449e-01        3.264610e-01      0.880525   \n",
       "1         4.761615e-01       3.371035e-01        4.863977e-01      1.923422   \n",
       "2         5.952919e-01       3.615226e-01        6.012302e-01      7.834503   \n",
       "3         6.420067e-01       4.520016e-01        6.405162e-01      0.943872   \n",
       "4         8.157892e-01       4.910190e-01        8.177984e-01      0.990014   \n",
       "5         9.076069e-01       4.891809e-01        9.050965e-01      4.112546   \n",
       "6         8.642543e-01       3.973017e-02        8.600232e-01      0.675001   \n",
       "7         9.622157e-01      -1.254470e-01        9.636842e-01      0.890323   \n",
       "8         9.913164e-01      -1.506260e-01        9.905020e-01      5.178201   \n",
       "9       -1.942958e+190     -1.958380e+190      -1.943643e+190      1.106056   \n",
       "10      -2.901231e+190     -2.403191e+190      -2.986977e+190      0.944962   \n",
       "11      -3.937756e+190     -3.748079e+190      -3.931695e+190     18.480392   \n",
       "\n",
       "    std_score_time  std_test_score  std_train_score  \n",
       "0     7.364516e-03        0.004974         0.002581  \n",
       "1     7.367271e-03        0.005051         0.004179  \n",
       "2     7.365808e-03        0.005862         0.002951  \n",
       "3     7.366033e-03        0.008606         0.002089  \n",
       "4     1.433218e-03        0.009659         0.001509  \n",
       "5     7.365639e-03        0.007600         0.001026  \n",
       "6     7.765183e-03        0.037831         0.001738  \n",
       "7     3.893359e-07        0.007069         0.001036  \n",
       "8     7.365527e-03        0.029516         0.000401  \n",
       "9     7.351815e-03             inf              inf  \n",
       "10    7.363448e-03             inf              inf  \n",
       "11    7.365415e-03             inf              inf  "
      ]
     },
     "execution_count": 67,
     "metadata": {},
     "output_type": "execute_result"
    }
   ],
   "source": [
    "pd.DataFrame(gs.cv_results_)"
   ]
  },
  {
   "cell_type": "code",
   "execution_count": 70,
   "metadata": {},
   "outputs": [],
   "source": [
    "gb = GradientBoostingRegressor(random_state = 1, n_estimators = 100)\n",
    "param_grid = {'learning_rate': [0.01, 0.05, 0.1, 0.5],\n",
    "             'max_depth': [8, 10, 13]}"
   ]
  },
  {
   "cell_type": "code",
   "execution_count": null,
   "metadata": {},
   "outputs": [
    {
     "name": "stdout",
     "output_type": "stream",
     "text": [
      "Fitting 3 folds for each of 12 candidates, totalling 36 fits\n"
     ]
    }
   ],
   "source": [
    "gs2 = GridSearchCV(estimator = gb, param_grid = param_grid, scoring = 'r2', cv = 3, n_jobs = 3, verbose = 10).fit(X_train, y_train)\n"
   ]
  }
 ],
 "metadata": {
  "kernelspec": {
   "display_name": "Python 3",
   "language": "python",
   "name": "python3"
  },
  "language_info": {
   "codemirror_mode": {
    "name": "ipython",
    "version": 3
   },
   "file_extension": ".py",
   "mimetype": "text/x-python",
   "name": "python",
   "nbconvert_exporter": "python",
   "pygments_lexer": "ipython3",
   "version": "3.6.1"
  }
 },
 "nbformat": 4,
 "nbformat_minor": 2
}
