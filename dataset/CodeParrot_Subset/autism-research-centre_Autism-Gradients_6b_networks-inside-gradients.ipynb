{
 "cells": [
  {
   "cell_type": "markdown",
   "metadata": {
    "deletable": true,
    "editable": true
   },
   "source": [
    "## 6b Calculate binned gradient-network overlap\n",
    "\n",
    "#### This file works out the average z-score inside a gradient percentile area\n",
    "\n",
    "##### written by Jan Freyberg for the Brainhack 2017 Project_\n",
    "\n",
    "This should reproduce [this analysis](https://github.com/NeuroanatomyAndConnectivity/gradient_analysis/blob/master/05_metaanalysis_neurosynth.ipynb)"
   ]
  },
  {
   "cell_type": "code",
   "execution_count": 1,
   "metadata": {
    "collapsed": true,
    "deletable": true,
    "editable": true
   },
   "outputs": [],
   "source": [
    "% matplotlib inline \n",
    "\n",
    "from __future__ import print_function\n",
    "\n",
    "import nibabel as nib\n",
    "from nilearn.image import resample_img\n",
    "\n",
    "import matplotlib.pyplot as plt\n",
    "import numpy as np\n",
    "import pandas as pd\n",
    "\n",
    "import os\n",
    "import os.path\n",
    "\n",
    "# The following are a progress bar, these are not strictly necessary:\n",
    "from ipywidgets import FloatProgress\n",
    "from IPython.display import display"
   ]
  },
  {
   "cell_type": "markdown",
   "metadata": {
    "deletable": true,
    "editable": true
   },
   "source": [
    "Define the variables for this analysis. \n",
    "1. how many percentiles the data is divided into\n",
    "2. where the Z-Maps (from neurosynth) lie\n",
    "3. where the binned gradient maps lie\n",
    "4. where a mask of the brain lies (not used at the moment)."
   ]
  },
  {
   "cell_type": "code",
   "execution_count": 20,
   "metadata": {
    "collapsed": true,
    "deletable": true,
    "editable": true
   },
   "outputs": [],
   "source": [
    "percentiles = range(10)\n",
    "\n",
    "# unthresholded z-maps from neurosynth:\n",
    "zmaps = [os.path.join(os.getcwd(), 'ROIs_Mask', fname) for fname in os.listdir(os.path.join(os.getcwd(), 'ROIs_Mask'))\n",
    "         if 'z.nii' in fname]\n",
    "\n",
    "# individual, binned gradient maps, in a list of lists:\n",
    "gradmaps = [[os.path.join(os.getcwd(), 'data', 'Outputs', 'Bins', str(percentile), fname)\n",
    "             for fname in os.listdir(os.path.join(os.getcwd(), 'data', 'Outputs', 'Bins', str(percentile)))]\n",
    "            for percentile in percentiles]\n",
    "\n",
    "# a brain mask file:\n",
    "brainmaskfile = os.path.join(os.getcwd(), 'ROIs_Mask', 'rbgmask.nii')"
   ]
  },
  {
   "cell_type": "markdown",
   "metadata": {
    "deletable": true,
    "editable": true
   },
   "source": [
    "Next define a function to take the average of an image inside a mask and return it:"
   ]
  },
  {
   "cell_type": "code",
   "execution_count": 22,
   "metadata": {
    "collapsed": true,
    "deletable": true,
    "editable": true
   },
   "outputs": [],
   "source": [
    "def zinsidemask(zmap, mask):\n",
    "    # \n",
    "    zaverage = zmap.dataobj[\n",
    "        np.logical_and(np.not_equal(mask.dataobj, 0), brainmask.dataobj>0)\n",
    "    ].mean()\n",
    "    return zaverage"
   ]
  },
  {
   "cell_type": "markdown",
   "metadata": {
    "deletable": true,
    "editable": true
   },
   "source": [
    "This next cell will step through each combination of gradient, subject and network file to calculate the average z-score inside the mask defined by the gradient percentile. This will take a long time to run!"
   ]
  },
  {
   "cell_type": "code",
   "execution_count": 23,
   "metadata": {
    "collapsed": false,
    "deletable": true,
    "editable": true
   },
   "outputs": [
    {
     "data": {
      "application/vnd.jupyter.widget-view+json": {
       "model_id": "34aeb942db6d4529aab3997a7af2a8f4"
      }
     },
     "metadata": {},
     "output_type": "display_data"
    }
   ],
   "source": [
    "zaverages = np.zeros([len(zmaps), len(gradmaps), len(gradmaps[0])])\n",
    "\n",
    "# load first gradmap just for resampling\n",
    "gradmap = nib.load(gradmaps[0][0])\n",
    "\n",
    "# Load a brainmask\n",
    "brainmask = nib.load(brainmaskfile)\n",
    "brainmask = resample_img(brainmask, target_affine=gradmap.affine, target_shape=gradmap.shape)\n",
    "\n",
    "# Initialise a progress bar:\n",
    "progbar = FloatProgress(min=0, max=zaverages.size)\n",
    "display(progbar)\n",
    "\n",
    "# loop through the network files:\n",
    "for i1, zmapfile in enumerate(zmaps):\n",
    "    # load the neurosynth activation file:\n",
    "    zmap = nib.load(zmapfile)\n",
    "    # make sure the images are in the same space:\n",
    "    zmap = resample_img(zmap,\n",
    "                        target_affine=gradmap.affine,\n",
    "                        target_shape=gradmap.shape)\n",
    "    # loop through the bins:\n",
    "    for i2, percentile in enumerate(percentiles):\n",
    "        # loop through the subjects:\n",
    "        for i3, gradmapfile in enumerate(gradmaps[percentile]):\n",
    "            gradmap = nib.load(gradmapfile)  # load image\n",
    "            zaverages[i1, i2, i3] = zinsidemask(zmap, gradmap)  # calculate av. z-score\n",
    "            progbar.value += 1  # update progressbar (only works in jupyter notebooks)\n"
   ]
  },
  {
   "cell_type": "markdown",
   "metadata": {
    "deletable": true,
    "editable": true
   },
   "source": [
    "To save time next time, we'll save the result of this to file:"
   ]
  },
  {
   "cell_type": "code",
   "execution_count": 5,
   "metadata": {
    "collapsed": true,
    "deletable": true,
    "editable": true
   },
   "outputs": [],
   "source": [
    "# np.save(os.path.join(os.getcwd(), 'data', 'average-abs-z-scores'), zaverages)"
   ]
  },
  {
   "cell_type": "code",
   "execution_count": 26,
   "metadata": {
    "collapsed": false,
    "deletable": true,
    "editable": true
   },
   "outputs": [],
   "source": [
    "zaverages = np.load(os.path.join(os.getcwd(), 'data', 'average-z-scores.npy'))"
   ]
  },
  {
   "cell_type": "markdown",
   "metadata": {
    "deletable": true,
    "editable": true
   },
   "source": [
    "Extract a list of which group contains which participants."
   ]
  },
  {
   "cell_type": "code",
   "execution_count": 27,
   "metadata": {
    "collapsed": false,
    "deletable": true,
    "editable": true,
    "scrolled": false
   },
   "outputs": [
    {
     "name": "stdout",
     "output_type": "stream",
     "text": [
      "(160,)\n"
     ]
    }
   ],
   "source": [
    "df_phen = pd.read_csv('data' + os.sep + 'SelectedSubjects.csv')\n",
    "diagnosis = df_phen.loc[:, 'DX_GROUP']\n",
    "fileids = df_phen.loc[:, 'FILE_ID']\n",
    "\n",
    "groupvec = np.zeros(len(gradmaps[0]))\n",
    "for filenum, filename in enumerate(gradmaps[0]):\n",
    "    fileid = os.path.split(filename)[-1][5:-22]\n",
    "    groupvec[filenum] = (diagnosis[fileids.str.contains(fileid)])\n",
    "\n",
    "print(groupvec.shape)"
   ]
  },
  {
   "cell_type": "markdown",
   "metadata": {
    "deletable": true,
    "editable": true
   },
   "source": [
    "Make a plot of the z-scores inside each parcel for each gradient, split by group!"
   ]
  },
  {
   "cell_type": "code",
   "execution_count": 58,
   "metadata": {
    "collapsed": false,
    "deletable": true,
    "editable": true
   },
   "outputs": [
    {
     "data": {
      "image/png": "[encoded data removed]",
      "text/plain": [
       "<matplotlib.figure.Figure at 0x10fce79d0>"
      ]
     },
     "metadata": {},
     "output_type": "display_data"
    }
   ],
   "source": [
    "fig = plt.figure(figsize=(15, 8))\n",
    "grouplabels = ['Control group', 'Autism group']\n",
    "for group in np.unique(groupvec):\n",
    "    \n",
    "    ylabels = [os.path.split(fname)[-1][0:-23].replace('_', ' ') for fname in zmaps]\n",
    "    # remove duplicates!\n",
    "    includenetworks = []\n",
    "    seen = set()\n",
    "    for string in ylabels:\n",
    "        includenetworks.append(string not in seen)\n",
    "        seen.add(string)\n",
    "    \n",
    "    ylabels = [string for index, string in enumerate(ylabels) if includenetworks[index]]\n",
    "    \n",
    "    tmp_zaverages = zaverages[includenetworks, :, :]\n",
    "    tmp_zaverages = tmp_zaverages[:, :, groupvec==group]\n",
    "    \n",
    "    tmp_zaverages = tmp_zaverages[np.argsort(np.argmax(tmp_zaverages.mean(axis=2), axis=1)), :, :]\n",
    "    \n",
    "    # make the figure\n",
    "    plt.subplot(1, 2, group)\n",
    "    cax = plt.imshow(tmp_zaverages.mean(axis=2),\n",
    "               cmap='bwr', interpolation='nearest',\n",
    "               vmin=zaverages.mean(axis=2).min(),\n",
    "               vmax=zaverages.mean(axis=2).max())\n",
    "    \n",
    "    ax = plt.gca()\n",
    "    plt.title(grouplabels[int(group-1)])\n",
    "\n",
    "    plt.xlabel('Percentile of principle gradient')\n",
    "    ax.set_xticks(np.arange(0, len(percentiles), 3))\n",
    "    ax.set_xticklabels(['100-90', '70-60', '40-30', '10-0'])\n",
    "    \n",
    "    ax.set_yticks(np.arange(0, len(seen), 1))\n",
    "    ax.set_yticklabels(ylabels)\n",
    "\n",
    "    ax.set_yticks(np.arange(-0.5, len(seen), 1), minor=True)\n",
    "    ax.set_xticks(np.arange(-0.5, 10, 1), minor=True)\n",
    "    ax.grid(which='minor', color='w', linewidth=2)\n",
    "    \n",
    "    fig.subplots_adjust(right=0.8)\n",
    "    cbar_ax = fig.add_axes([0.85, 0.15, 0.01, 0.7])\n",
    "    fig.colorbar(cax, cax=cbar_ax, label='Average Z-Score')\n",
    "    #fig.colorbar(cax, cmap='bwr', orientation='horizontal')\n",
    "\n",
    "plt.savefig('./figures/z-scores-inside-gradient-bins.png')"
   ]
  },
  {
   "cell_type": "code",
   "execution_count": null,
   "metadata": {
    "collapsed": true
   },
   "outputs": [],
   "source": []
  }
 ],
 "metadata": {
  "kernelspec": {
   "display_name": "Python 2",
   "language": "python",
   "name": "python2"
  },
  "language_info": {
   "codemirror_mode": {
    "name": "ipython",
    "version": 2
   },
   "file_extension": ".py",
   "mimetype": "text/x-python",
   "name": "python",
   "nbconvert_exporter": "python",
   "pygments_lexer": "ipython2",
   "version": "2.7.12"
  }
 },
 "nbformat": 4,
 "nbformat_minor": 2
}
