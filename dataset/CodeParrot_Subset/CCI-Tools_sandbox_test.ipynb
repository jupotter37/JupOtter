{
 "cells": [
  {
   "cell_type": "code",
   "execution_count": 3,
   "metadata": {
    "collapsed": false
   },
   "outputs": [
    {
     "data": {
      "text/html": [
       "<div id=\"2d86bd60-feba-49e7-acbc-1509fa7bd033\" style=\"height: 525; width: 100%;\" class=\"plotly-graph-div\"></div><script type=\"text/javascript\">window.PLOTLYENV=window.PLOTLYENV || {};window.PLOTLYENV.BASE_URL=\"https://plot.ly\";Plotly.newPlot(\"2d86bd60-feba-49e7-acbc-1509fa7bd033\", [{\"type\": \"scatter\", \"y\": [10, 15, 13, 17], \"x\": [1, 2, 3, 4]}, {\"type\": \"scatter\", \"y\": [16, 5, 11, 9], \"x\": [1, 2, 3, 4]}], {}, {\"linkText\": \"Export to plot.ly\", \"showLink\": true})</script>"
      ],
      "text/plain": [
       "<IPython.core.display.HTML object>"
      ]
     },
     "metadata": {},
     "output_type": "execute_result"
    }
   ],
   "source": [
    "import plotly.offline as py\n",
    "from plotly.graph_objs import *\n",
    "\n",
    "py.init_notebook_mode()\n",
    "trace0 = Scatter(\n",
    "  x=[1, 2, 3, 4],\n",
    "  y=[10, 15, 13, 17]\n",
    ")\n",
    "trace1 = Scatter(\n",
    "  x=[1, 2, 3, 4],\n",
    "  y=[16, 5, 11, 9]\n",
    "    \n",
    ")\n",
    "data = Data([trace0, trace1])\n",
    "\n",
    "py.iplot(data)"
   ]
  },
  {
   "cell_type": "code",
   "execution_count": 4,
   "metadata": {
    "collapsed": false
   },
   "outputs": [
    {
     "data": {
      "text/html": [
       "<div id=\"1b8edbc7-242a-49fc-ad2f-77921c112b48\" style=\"height: 525; width: 100%;\" class=\"plotly-graph-div\"></div><script type=\"text/javascript\">window.PLOTLYENV=window.PLOTLYENV || {};window.PLOTLYENV.BASE_URL=\"https://plot.ly\";Plotly.newPlot(\"1b8edbc7-242a-49fc-ad2f-77921c112b48\", [{\"y\": [3, 1, 6], \"x\": [1, 2, 3]}], {}, {\"linkText\": \"Export to plot.ly\", \"showLink\": true})</script>"
      ],
      "text/plain": [
       "<IPython.core.display.HTML object>"
      ]
     },
     "metadata": {},
     "output_type": "execute_result"
    }
   ],
   "source": [
    "py.iplot([{\"x\": [1, 2, 3], \"y\": [3, 1, 6]}])"
   ]
  },
  {
   "cell_type": "code",
   "execution_count": null,
   "metadata": {
    "collapsed": true
   },
   "outputs": [],
   "source": [
    ""
   ]
  }
 ],
 "metadata": {
  "kernelspec": {
   "display_name": "Python 3",
   "language": "python",
   "name": "python3"
  },
  "language_info": {
   "codemirror_mode": {
    "name": "ipython",
    "version": 3.0
   },
   "file_extension": ".py",
   "mimetype": "text/x-python",
   "name": "python",
   "nbconvert_exporter": "python",
   "pygments_lexer": "ipython3",
   "version": "3.5.0rc4"
  }
 },
 "nbformat": 4,
 "nbformat_minor": 0
}