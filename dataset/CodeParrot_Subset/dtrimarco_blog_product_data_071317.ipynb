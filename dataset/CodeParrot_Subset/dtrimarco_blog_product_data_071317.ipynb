{
 "cells": [
  {
   "cell_type": "markdown",
   "metadata": {},
   "source": [
    "# Pandas for Product Analysis Part 1: Apply and Transform\n",
    " \n",
    "Python's [pandas](http://pandas.pydata.org/) package is one of the most powerful tools for data analysis in the Python ecosystem. Built on top of NumPy, it makes working with tabular data quite effective and adds an astounding amount of functionality to your toolkit. Despite its strengths, there are some very useful functions that are challenging to grasp based on the pandas docs. `apply` and `transform` are two such examples. \n",
    "\n",
    "One quick note before we dive in: this series assumes basic working knowledge of pandas. There are several resources like [Dataquest](https://dataquest.io), [Data Camp](https://www.datacamp.com/) and pandas cheat sheets to get you up to speed if this is hard to follow."
   ]
  },
  {
   "cell_type": "markdown",
   "metadata": {},
   "source": [
    "## What are `apply` and `transform`?\n",
    "\n",
    "In short, these two functions are used to operate on data structures, similarly to Python's built in `map` function. We will get into the differences, but typically they are used in combination with `groupby` to perform aggregate functions on various groups of a dataset. This a direct analogy to `GROUP BY` in SQL and I am going to assume familiarity with how it works (if you aren't, [here is a decent intro](http://pandas.pydata.org/pandas-docs/stable/groupby.html#splitting-an-object-into-groups)). The major difference is that we can leverage the flexibility of Python and pandas DataFrames to do basically whatever we want."
   ]
  },
  {
   "cell_type": "markdown",
   "metadata": {},
   "source": [
    "## Data\n",
    "To keep things practical, let's start with event data from a hypothetical mobile game. I created some [randomly generated, but logical data](https://github.com/dtrimarco/blog/blob/master/utils/create_fake_data.ipynb) for us to analyze."
   ]
  },
  {
   "cell_type": "code",
   "execution_count": 1,
   "metadata": {
    "collapsed": false
   },
   "outputs": [
    {
     "name": "stdout",
     "output_type": "stream",
     "text": [
      "   user_id      event_timestamp        lat        lon event_type\n",
      "0     5000  2016-01-03 00:40:59  41.795738  87.517197      login\n",
      "1     5000  2016-01-03 00:50:59  41.795738  87.517197    level_1\n",
      "2     5000  2016-01-03 00:56:59  41.795738  87.517197    level_2\n",
      "3     5000  2016-01-03 01:01:59  41.795738  87.517197    level_3\n",
      "4     5000  2016-01-03 01:13:59  41.795738  87.517197    level_4\n",
      "5     5000  2016-01-03 01:28:59  41.795738  87.517197    level_5\n",
      "6     5000  2016-01-03 01:35:59  41.795738  87.517197    level_6\n",
      "7     5000  2016-01-03 01:45:59  41.795738  87.517197    level_7\n",
      "8     5000  2016-01-17 10:07:19  41.593679  87.719833      login\n",
      "9     5000  2016-01-17 10:19:19  41.593679  87.719833    level_8\n"
     ]
    }
   ],
   "source": [
    "import pandas as pd\n",
    "\n",
    "data = pd.read_csv('test_user_data.csv')\n",
    "print(data.head(10))"
   ]
  },
  {
   "cell_type": "markdown",
   "metadata": {
    "collapsed": true
   },
   "source": [
    "The data contains one event per row and has 5 variables:\n",
    "\n",
    "* **user_id**: Identifier for each user.\n",
    "* **event_timestamp**: The time each event happened.\n",
    "* **lat**: The latitude of the user when the event occurred.\n",
    "* **lon**: The longitude of the user when the event occurred.\n",
    "* **event_type**: The type of event that occurred: login, level, buy_coins and megapack."
   ]
  },
  {
   "cell_type": "markdown",
   "metadata": {},
   "source": [
    "## Basic differences between `apply` and `transform`\n",
    "\n",
    "Suppose we wanted to count the number of events for each user. Both functions can do this, but in different ways. Let's try it first with `apply`."
   ]
  },
  {
   "cell_type": "code",
   "execution_count": 2,
   "metadata": {
    "collapsed": false
   },
   "outputs": [
    {
     "name": "stdout",
     "output_type": "stream",
     "text": [
      "user_id\n",
      "5000    230\n",
      "5001    207\n",
      "5002    242\n",
      "5003    190\n",
      "5004    116\n",
      "dtype: int64\n"
     ]
    }
   ],
   "source": [
    "apply_ex = data.groupby('user_id').apply(len)\n",
    "print(apply_ex.head())"
   ]
  },
  {
   "cell_type": "markdown",
   "metadata": {},
   "source": [
    "The output here is a pandas Series with each user_id as the index and the count of the number of events as values. Now to try the same thing with `transform`."
   ]
  },
  {
   "cell_type": "code",
   "execution_count": 3,
   "metadata": {
    "collapsed": false
   },
   "outputs": [
    {
     "name": "stdout",
     "output_type": "stream",
     "text": [
      "   event_timestamp  lat  lon  event_type\n",
      "0              230  230  230         230\n",
      "1              230  230  230         230\n",
      "2              230  230  230         230\n",
      "3              230  230  230         230\n",
      "4              230  230  230         230\n"
     ]
    }
   ],
   "source": [
    "transform_ex = data.groupby('user_id').transform(len)\n",
    "print(transform_ex.head())"
   ]
  },
  {
   "cell_type": "markdown",
   "metadata": {},
   "source": [
    "What the heck happened here? This odd DataFrame highlights a key difference: `apply` by default returns an object with one element per group and `transform` returns an object of the exact same size as the input object. Unless specified, it operates column by column in order.\n",
    "\n",
    "How about we clean this up a bit and create a new column in our original DataFrame that contains the total event count for each group in it."
   ]
  },
  {
   "cell_type": "code",
   "execution_count": 4,
   "metadata": {
    "collapsed": false
   },
   "outputs": [
    {
     "name": "stdout",
     "output_type": "stream",
     "text": [
      "   user_id      event_timestamp        lat        lon event_type  event_count\n",
      "0     5000  2016-01-03 00:40:59  41.795738  87.517197      login          230\n",
      "1     5000  2016-01-03 00:50:59  41.795738  87.517197    level_1          230\n",
      "2     5000  2016-01-03 00:56:59  41.795738  87.517197    level_2          230\n",
      "3     5000  2016-01-03 01:01:59  41.795738  87.517197    level_3          230\n",
      "4     5000  2016-01-03 01:13:59  41.795738  87.517197    level_4          230\n",
      "5     5000  2016-01-03 01:28:59  41.795738  87.517197    level_5          230\n",
      "6     5000  2016-01-03 01:35:59  41.795738  87.517197    level_6          230\n"
     ]
    }
   ],
   "source": [
    "data['event_count'] = data.groupby('user_id')['user_id'].transform(len)\n",
    "print(data.head(7))"
   ]
  },
  {
   "cell_type": "markdown",
   "metadata": {},
   "source": [
    "Much better. All we had to do was assign to the new `event_count` column and then specify the `['user_id']` column after the `groupby` statement. Whether you would prefer to have this additional column of repeating values depends on what you intend to do with the data afterwards. Let's assume this is acceptable. Now for something a bit more involved."
   ]
  },
  {
   "cell_type": "markdown",
   "metadata": {},
   "source": [
    "## Custom Functions\n",
    "\n",
    "Say we didn't have Google Analytics or Mixpanel implemented into our app and wanted to assign a monetary value to each event. Of course, we could loop through the entire DataFrame, but this can be very inefficient with a lot of data. Let's try it using a custom function."
   ]
  },
  {
   "cell_type": "code",
   "execution_count": 5,
   "metadata": {
    "collapsed": false
   },
   "outputs": [],
   "source": [
    "def add_value(x):\n",
    "    if x == 'buy_coins':\n",
    "        y = 1.00\n",
    "    elif x == 'megapack':\n",
    "        y = 10.00\n",
    "    else:\n",
    "        y=0.0\n",
    "    \n",
    "    return y"
   ]
  },
  {
   "cell_type": "markdown",
   "metadata": {},
   "source": [
    "Here we've defined a very simple custom function that assigns values to each of the four event types. Now to `apply` it to our data."
   ]
  },
  {
   "cell_type": "code",
   "execution_count": 6,
   "metadata": {
    "collapsed": false
   },
   "outputs": [
    {
     "name": "stdout",
     "output_type": "stream",
     "text": [
      "   user_id      event_timestamp        lat        lon event_type  event_count  \\\n",
      "0     5000  2016-01-03 00:40:59  41.795738  87.517197      login          230   \n",
      "1     5000  2016-01-03 00:50:59  41.795738  87.517197    level_1          230   \n",
      "2     5000  2016-01-03 00:56:59  41.795738  87.517197    level_2          230   \n",
      "3     5000  2016-01-03 01:01:59  41.795738  87.517197    level_3          230   \n",
      "4     5000  2016-01-03 01:13:59  41.795738  87.517197    level_4          230   \n",
      "5     5000  2016-01-03 01:28:59  41.795738  87.517197    level_5          230   \n",
      "6     5000  2016-01-03 01:35:59  41.795738  87.517197    level_6          230   \n",
      "\n",
      "   event_value  \n",
      "0          0.0  \n",
      "1          0.0  \n",
      "2          0.0  \n",
      "3          0.0  \n",
      "4          0.0  \n",
      "5          0.0  \n",
      "6          0.0  \n"
     ]
    }
   ],
   "source": [
    "data['event_value'] = data['event_type'].apply(add_value)\n",
    "print(data.head(7))"
   ]
  },
  {
   "cell_type": "markdown",
   "metadata": {},
   "source": [
    "That worked out nicely. Since we didn't care about event_values per user, `groupby` wasn't necessary. If we were to run this using `transform`, we'd get an error. Since it is run column-by-column, there isn't a practical way to reference other columns like with `apply`."
   ]
  },
  {
   "cell_type": "markdown",
   "metadata": {},
   "source": [
    "In the next post of the series, we'll continue using pandas to answer more interesting product questions like:\n",
    " \n",
    "* How much time does it take our users to purchase after downloading the app?\n",
    "* How many logins does it take our users for in-app purchases?\n",
    "* What is the lifetime value of our users?"
   ]
  }
 ],
 "metadata": {
  "kernelspec": {
   "display_name": "Python 3",
   "language": "python",
   "name": "python3"
  },
  "language_info": {
   "codemirror_mode": {
    "name": "ipython",
    "version": 3
   },
   "file_extension": ".py",
   "mimetype": "text/x-python",
   "name": "python",
   "nbconvert_exporter": "python",
   "pygments_lexer": "ipython3",
   "version": "3.5.1"
  }
 },
 "nbformat": 4,
 "nbformat_minor": 2
}
