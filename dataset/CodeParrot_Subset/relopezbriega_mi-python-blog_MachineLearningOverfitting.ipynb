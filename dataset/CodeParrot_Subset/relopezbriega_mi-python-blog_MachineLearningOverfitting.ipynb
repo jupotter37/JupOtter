{
 "cells": [
  {
   "cell_type": "markdown",
   "metadata": {},
   "source": [
    "# Machine Learning con Python - Sobreajuste"
   ]
  },
  {
   "cell_type": "markdown",
   "metadata": {},
   "source": [
    "*Esta notebook fue creada originalmente como un blog post por [Raúl E. López Briega](https://relopezbriega.com.ar/) en [Matemáticas, Analisis de datos y Python](https://relopezbriega.github.io). El contenido esta bajo la licencia BSD.*"
   ]
  },
  {
   "cell_type": "markdown",
   "metadata": {},
   "source": [
    "<img alt=\"Machine Learning\" title=\"Machine Learning\" src=\"https://relopezbriega.github.io/images/machine-learning.jpg\">"
   ]
  },
  {
   "cell_type": "markdown",
   "metadata": {},
   "source": [
    "## Introducción"
   ]
  },
  {
   "cell_type": "markdown",
   "metadata": {},
   "source": [
    "Uno de los conceptos más importantes en [Machine Learning](https://relopezbriega.github.io/tag/machine-learning.html) es el ***[overfitting](https://en.wikipedia.org/wiki/Overfitting) o [sobreajuste](https://es.wikipedia.org/wiki/Sobreajuste)*** del modelo. Comprender como un modelo se *ajusta* a los datos es muy importante para entender las causas de baja precisión en las predicciones. Un modelo va a estar *[sobreajustado](https://es.wikipedia.org/wiki/Sobreajuste)* cuando vemos que se desempeña bien con los datos de entrenamiento, pero su precisión es notablemente más baja con los datos de evaluación; esto se debe a que el modelo ha memorizado los datos que ha visto y no pudo *generalizar* las reglas para predecir los datos que no ha visto. De aquí también la importancia de siempre contar con dos [conjuntos de datos](https://es.wikipedia.org/wiki/Conjunto_de_datos) distintos, uno para entrenar el modelo y otro para evaluar su precisión; ya que si utilizamos el mismo [dataset](https://es.wikipedia.org/wiki/Conjunto_de_datos) para las dos tareas, no tendríamos forma de determinar como el modelo se comporta con datos que nunca ha visto."
   ]
  },
  {
   "cell_type": "markdown",
   "metadata": {},
   "source": [
    "## ¿Cómo reconocer el sobreajuste?\n",
    "\n",
    "En líneas generales el [sobreajuste](https://es.wikipedia.org/wiki/Sobreajuste) va a estar relacionado con la complejidad del modelo, mientras más complejidad le agreguemos, mayor va a ser la tendencia a *[sobreajustarse](https://es.wikipedia.org/wiki/Sobreajuste)* a los datos, ya que va a contar con mayor flexibilidad para realizar las predicciones y puede ser que los patrones que encuentre estén relacionados con el *ruido* (pequeños errores aleatorios) en los datos y no con la verdadera señal o relación subyacente. \n",
    "\n",
    "No existe una regla general para establecer cual es el nivel ideal de complejidad que le podemos otorgar a nuestro modelo sin caer en el [sobreajuste](https://es.wikipedia.org/wiki/Sobreajuste); pero podemos valernos de algunas herramientas analíticas para intentar entender como el modelo se ajusta a los datos y reconocer el [sobreajuste](https://es.wikipedia.org/wiki/Sobreajuste). Veamos un ejemplo."
   ]
  },
  {
   "cell_type": "markdown",
   "metadata": {},
   "source": [
    "### Árboles de Decisión y sobreajuste\n",
    "\n",
    "Los [Árboles de Decisión](https://es.wikipedia.org/wiki/%C3%81rbol_de_decisi%C3%B3n) pueden ser muchas veces una herramienta muy precisa, pero también con mucha tendencia al [sobreajuste](https://es.wikipedia.org/wiki/Sobreajuste). Para construir estos modelos aplicamos un procedimiento recursivo para encontrar los atributos que nos proporcionan más información sobre distintos subconjuntos de datos, cada vez más pequeños. Si aplicamos este procedimiento en forma reiterada, eventualmente podemos llegar a un árbol en el que cada *hoja* tenga una sola instancia de nuestra variable objetivo a clasificar. En este caso extremo, el [Árbol de Decisión](https://es.wikipedia.org/wiki/%C3%81rbol_de_decisi%C3%B3n) va a tener una pobre *generalización* y estar bastante [sobreajustado](https://es.wikipedia.org/wiki/Sobreajuste); ya que cada instancia de los datos de entrenamiento va a encontrar el camino que lo lleve eventualmente a la hoja que lo contiene, alcanzando así una precisión del 100% con los datos de entrenamiento. Veamos un ejemplo sencillo con la ayuda de [Python](https://python.org/)."
   ]
  },
  {
   "cell_type": "code",
   "execution_count": 1,
   "metadata": {
    "collapsed": false
   },
   "outputs": [],
   "source": [
    "# <!-- collapse=True -->\n",
    "# Importando las librerías que vamos a utilizar\n",
    "import pandas as pd\n",
    "import numpy as np \n",
    "import matplotlib.pyplot as plt \n",
    "import seaborn as sns \n",
    "from sklearn.cross_validation import train_test_split\n",
    "from sklearn.datasets import make_classification\n",
    "from sklearn.svm import SVC\n",
    "from sklearn.tree import DecisionTreeClassifier\n",
    "import random; random.seed(1982)\n",
    "\n",
    "# graficos incrustados\n",
    "%matplotlib inline\n",
    "\n",
    "# parametros esteticos de seaborn\n",
    "sns.set_palette(\"deep\", desat=.6)\n",
    "sns.set_context(rc={\"figure.figsize\": (8, 4)})"
   ]
  },
  {
   "cell_type": "code",
   "execution_count": 2,
   "metadata": {
    "collapsed": false
   },
   "outputs": [
    {
     "data": {
      "text/plain": [
       "DecisionTreeClassifier(class_weight=None, criterion='entropy', max_depth=None,\n",
       "            max_features=None, max_leaf_nodes=None, min_samples_leaf=1,\n",
       "            min_samples_split=2, min_weight_fraction_leaf=0.0,\n",
       "            presort=False, random_state=None, splitter='best')"
      ]
     },
     "execution_count": 2,
     "metadata": {},
     "output_type": "execute_result"
    }
   ],
   "source": [
    "# Ejemplo en python - árboles de decisión\n",
    "# dummy data con 100 atributos y 2 clases\n",
    "X, y = make_classification(10000, 100, n_informative=3, n_classes=2,\n",
    "                          random_state=1982)\n",
    "\n",
    "# separ los datos en train y eval\n",
    "x_train, x_eval, y_train, y_eval = train_test_split(X, y, test_size=0.35, \n",
    "                                                    train_size=0.65,\n",
    "                                                    random_state=1982)\n",
    "\n",
    "# creando el modelo sin control de profundidad, va a continuar hasta\n",
    "# que todas las hojas sean puras\n",
    "arbol = DecisionTreeClassifier(criterion='entropy')\n",
    "\n",
    "# Ajustando el modelo\n",
    "arbol.fit(x_train, y_train)"
   ]
  },
  {
   "cell_type": "code",
   "execution_count": 3,
   "metadata": {
    "collapsed": false
   },
   "outputs": [
    {
     "name": "stdout",
     "output_type": "stream",
     "text": [
      "precisión entranamiento:  1.00\n"
     ]
    }
   ],
   "source": [
    "# precisión del modelo en datos de entrenamiento.\n",
    "print(\"precisión entranamiento: {0: .2f}\".format(\n",
    "        arbol.score(x_train, y_train)))"
   ]
  },
  {
   "cell_type": "markdown",
   "metadata": {},
   "source": [
    "Logramos una precisión del 100 %, increíble, este modelo no se equivoca! deberíamos utilizarlo para jugar a la lotería y ver si ganamos algunos millones; o tal vez, no?. Veamos como se comporta con los datos de evaluación."
   ]
  },
  {
   "cell_type": "code",
   "execution_count": 4,
   "metadata": {
    "collapsed": false
   },
   "outputs": [
    {
     "name": "stdout",
     "output_type": "stream",
     "text": [
      "precisión evaluación:  0.87\n"
     ]
    }
   ],
   "source": [
    "# precisión del modelo en datos de evaluación.\n",
    "print(\"precisión evaluación: {0: .2f}\".format(\n",
    "        arbol.score(x_eval, y_eval)))"
   ]
  },
  {
   "cell_type": "markdown",
   "metadata": {},
   "source": [
    "Ah, ahora nuestro modelo ya no se muestra tan preciso, esto se debe a que seguramente esta [sobreajustado](https://es.wikipedia.org/wiki/Sobreajuste), ya que dejamos crecer el árbol hasta que cada hoja estuviera pura (es decir que solo contenga datos de una sola de las clases a predecir). Una alternativa para reducir el [sobreajuste](https://es.wikipedia.org/wiki/Sobreajuste) y ver si podemos lograr que *generalice* mejor y por tanto tenga más precisión para datos nunca vistos, es tratar de reducir la complejidad del modelo por medio de controlar la profundidad que puede alcanzar el [Árbol de Decisión](https://es.wikipedia.org/wiki/%C3%81rbol_de_decisi%C3%B3n). "
   ]
  },
  {
   "cell_type": "code",
   "execution_count": 5,
   "metadata": {
    "collapsed": false
   },
   "outputs": [
    {
     "data": {
      "text/plain": [
       "22"
      ]
     },
     "execution_count": 5,
     "metadata": {},
     "output_type": "execute_result"
    }
   ],
   "source": [
    "# profundidad del arbol de decisión.\n",
    "arbol.tree_.max_depth"
   ]
  },
  {
   "cell_type": "markdown",
   "metadata": {},
   "source": [
    "Este caso nuestro modelo tiene una profundidad de 22 nodos; veamos si reduciendo esa cantidad podemos mejorar la precisión en los datos de evaluación. Por ejemplo, pongamos un máximo de profundidad de tan solo 5 nodos."
   ]
  },
  {
   "cell_type": "code",
   "execution_count": 6,
   "metadata": {
    "collapsed": false
   },
   "outputs": [
    {
     "data": {
      "text/plain": [
       "DecisionTreeClassifier(class_weight=None, criterion='entropy', max_depth=5,\n",
       "            max_features=None, max_leaf_nodes=None, min_samples_leaf=1,\n",
       "            min_samples_split=2, min_weight_fraction_leaf=0.0,\n",
       "            presort=False, random_state=None, splitter='best')"
      ]
     },
     "execution_count": 6,
     "metadata": {},
     "output_type": "execute_result"
    }
   ],
   "source": [
    "# modelo dos, con control de profundiad de 5 nodos\n",
    "arbol2 = DecisionTreeClassifier(criterion='entropy', max_depth=5)\n",
    "\n",
    "# Ajustando el modelo\n",
    "arbol2.fit(x_train, y_train)"
   ]
  },
  {
   "cell_type": "code",
   "execution_count": 7,
   "metadata": {
    "collapsed": false
   },
   "outputs": [
    {
     "name": "stdout",
     "output_type": "stream",
     "text": [
      "precisión entranamiento:  0.92\n"
     ]
    }
   ],
   "source": [
    "# precisión del modelo en datos de entrenamiento.\n",
    "print(\"precisión entranamiento: {0: .2f}\".format(\n",
    "        arbol2.score(x_train, y_train)))"
   ]
  },
  {
   "cell_type": "markdown",
   "metadata": {},
   "source": [
    "Ahora podemos ver que ya no tenemos un modelo con 100% de precisión en los datos de entrenamiento, sino que la precisión es bastante inferior, 92%, sin embargo si ahora medimos la precisión con los datos de evaluación vemos que la precisión es del 90%, 3 puntos por arriba de lo que habíamos conseguido con el primer modelo que nunca se equivocaba en los datos de entrenamiento. "
   ]
  },
  {
   "cell_type": "code",
   "execution_count": 9,
   "metadata": {
    "collapsed": false
   },
   "outputs": [
    {
     "name": "stdout",
     "output_type": "stream",
     "text": [
      "precisión evaluación:  0.90\n"
     ]
    }
   ],
   "source": [
    "# precisión del modelo en datos de evaluación.\n",
    "print(\"precisión evaluación: {0: .2f}\".format(\n",
    "        arbol2.score(x_eval, y_eval)))"
   ]
  },
  {
   "cell_type": "markdown",
   "metadata": {
    "collapsed": true
   },
   "source": [
    "Esta diferencia se debe a que reducimos la complejidad del modelo para intentar ganar en generalización. También debemos tener en cuenta que si seguimos reduciendo la complejidad, podemos crear un modelo demasiado simple que en vez de estar [sobreajustado](https://es.wikipedia.org/wiki/Sobreajuste) puede tener un desempeño muy por debajo del que podría tener; podríamos decir que el modelo estaría *infraajustado* y tendría un alto nivel de *sesgo*. Para ayudarnos a encontrar el término medio entre la complejidad del modelo y su *ajuste* a los datos, podemos ayudarnos de herramientas gráficas. Por ejemplo podríamos crear diferentes modelos, con distintos grados de complejidad y luego graficar la precisión en función de la complejidad."
   ]
  },
  {
   "cell_type": "code",
   "execution_count": 10,
   "metadata": {
    "collapsed": false
   },
   "outputs": [
    {
     "data": {
      "image/png": "[encoded data removed]",
      "text/plain": [
       "<matplotlib.figure.Figure at 0x7fdd5d9a9550>"
      ]
     },
     "metadata": {},
     "output_type": "display_data"
    }
   ],
   "source": [
    "# Grafico de ajuste del árbol de decisión\n",
    "train_prec =  []\n",
    "eval_prec = []\n",
    "max_deep_list = list(range(3, 23))\n",
    "\n",
    "for deep in max_deep_list:\n",
    "    arbol3 = DecisionTreeClassifier(criterion='entropy', max_depth=deep)\n",
    "    arbol3.fit(x_train, y_train)\n",
    "    train_prec.append(arbol3.score(x_train, y_train))\n",
    "    eval_prec.append(arbol3.score(x_eval, y_eval))\n",
    "\n",
    "# graficar los resultados.\n",
    "plt.plot(max_deep_list, train_prec, color='r', label='entrenamiento')\n",
    "plt.plot(max_deep_list, eval_prec, color='b', label='evaluacion')\n",
    "plt.title('Grafico de ajuste arbol de decision')\n",
    "plt.legend()\n",
    "plt.ylabel('precision')\n",
    "plt.xlabel('cant de nodos')\n",
    "plt.show()"
   ]
  },
  {
   "cell_type": "markdown",
   "metadata": {},
   "source": [
    "El gráfico que acabamos de construir se llama *gráfico de ajuste* y muestra la precisión del modelo en función de su complejidad. En nuestro ejemplo, podemos ver que el punto con mayor precisión, en los datos de evaluación, lo obtenemos con un nivel de profundidad de aproximadamente 5 nodos; a partir de allí el modelo pierde en *generalización* y comienza a estar [sobreajustado](https://es.wikipedia.org/wiki/Sobreajuste). También podemos crear un gráfico similar con la ayuda de [Scikit-learn](https://scikit-learn.org/stable/), utilizando `validation_curve`."
   ]
  },
  {
   "cell_type": "code",
   "execution_count": 11,
   "metadata": {
    "collapsed": false
   },
   "outputs": [],
   "source": [
    "# utilizando validation curve de sklearn\n",
    "from sklearn.learning_curve import validation_curve\n",
    "\n",
    "train_prec, eval_prec = validation_curve(estimator=arbol, X=x_train,\n",
    "                                        y=y_train, param_name='max_depth',\n",
    "                                        param_range=max_deep_list, cv=5)\n",
    "\n",
    "train_mean = np.mean(train_prec, axis=1)\n",
    "train_std = np.std(train_prec, axis=1)\n",
    "test_mean = np.mean(eval_prec, axis=1)\n",
    "test_std = np.std(eval_prec, axis=1)"
   ]
  },
  {
   "cell_type": "code",
   "execution_count": 12,
   "metadata": {
    "collapsed": false
   },
   "outputs": [
    {
     "data": {
      "image/png": "[encoded data removed]",
      "text/plain": [
       "<matplotlib.figure.Figure at 0x7fdd5d93b6d8>"
      ]
     },
     "metadata": {},
     "output_type": "display_data"
    }
   ],
   "source": [
    "# graficando las curvas\n",
    "plt.plot(max_deep_list, train_mean, color='r', marker='o', markersize=5,\n",
    "         label='entrenamiento')\n",
    "plt.fill_between(max_deep_list, train_mean + train_std, \n",
    "                 train_mean - train_std, alpha=0.15, color='r')\n",
    "plt.plot(max_deep_list, test_mean, color='b', linestyle='--', \n",
    "         marker='s', markersize=5, label='evaluacion')\n",
    "plt.fill_between(max_deep_list, test_mean + test_std, \n",
    "                 test_mean - test_std, alpha=0.15, color='b')\n",
    "plt.grid()\n",
    "plt.legend(loc='center right')\n",
    "plt.xlabel('Cant de nodos')\n",
    "plt.ylabel('Precision')\n",
    "plt.show()"
   ]
  },
  {
   "cell_type": "markdown",
   "metadata": {},
   "source": [
    "En este gráfico, también podemos ver que nuestro modelo tiene bastante *[varianza](https://es.wikipedia.org/wiki/Varianza)*, representada por el área esfumada.\n",
    "\n",
    "## Métodos para reducir el Sobreajuste\n",
    "\n",
    "Algunas de las técnicas que podemos utilizar para reducir el [Sobreajuste](https://es.wikipedia.org/wiki/Sobreajuste), son:\n",
    "\n",
    "* Utilizar *[validación cruzada](https://es.wikipedia.org/wiki/Validaci%C3%B3n_cruzada)*.\n",
    "* Recolectar más datos.\n",
    "* Introducir una penalización a la complejidad con alguna técnica de regularización.\n",
    "* Optimizar los parámetros del modelo con *grid search*.\n",
    "* Reducir la dimensión de los datos.\n",
    "* Aplicar técnicas de [selección de atributos](https://relopezbriega.github.io/blog/2016/04/15/ejemplo-de-machine-learning-con-python-seleccion-de-atributos/).\n",
    "* Utilizar modelos *ensamblados*.\n",
    "\n",
    "Veamos algunos ejemplos."
   ]
  },
  {
   "cell_type": "markdown",
   "metadata": {},
   "source": [
    "### Validación cruzada\n",
    "\n",
    "La *[validación cruzada](https://es.wikipedia.org/wiki/Validaci%C3%B3n_cruzada)* se inicia mediante el fraccionamiento de un [conjunto de datos](https://es.wikipedia.org/wiki/Conjunto_de_datos) en un número $k$ de particiones (generalmente entre 5 y 10) llamadas *pliegues*. La *[validación cruzada](https://es.wikipedia.org/wiki/Validaci%C3%B3n_cruzada)* luego itera entre los datos de *evaluación* y *entrenamiento* $k$ veces, de un modo particular. En cada iteración de la *[validación cruzada](https://es.wikipedia.org/wiki/Validaci%C3%B3n_cruzada)*, un *pliegue* diferente se elige como los datos de *evaluación*. En esta iteración, los otros *pliegues* $k-1$ se combinan para formar los datos de *entrenamiento*. Por lo tanto, en cada iteración tenemos $(k-1) / k$ de los datos utilizados para el *entrenamiento* y $1 / k$ utilizado para la *evaluación*.\n",
    "Cada iteración produce un modelo, y por lo tanto una estimación del rendimiento de la *generalización*, por ejemplo, una estimación de la precisión. Una vez finalizada la *[validación cruzada](https://es.wikipedia.org/wiki/Validaci%C3%B3n_cruzada)*, todos los ejemplos se han utilizado sólo una vez para *evaluar* pero $k -1$ veces para *entrenar*. En este punto tenemos estimaciones de rendimiento de todos los *pliegues* y podemos calcular la [media](https://es.wikipedia.org/wiki/Media_aritm%C3%A9tica) y la [desviación estándar](https://es.wikipedia.org/wiki/Desviaci%C3%B3n_t%C3%ADpica) de la precisión del modelo. Veamos un ejemplo\n",
    "\n",
    "<img alt=\"Validacion cruzada\" title=\"Validacion cruzada\" src=\"https://relopezbriega.github.io/images/validacion_cruzada.png\">"
   ]
  },
  {
   "cell_type": "code",
   "execution_count": 13,
   "metadata": {
    "collapsed": false
   },
   "outputs": [
    {
     "name": "stdout",
     "output_type": "stream",
     "text": [
      "Pliegue: 1, Dist Clase: [2918 2931], Prec: 0.909\n",
      "Pliegue: 2, Dist Clase: [2918 2931], Prec: 0.896\n",
      "Pliegue: 3, Dist Clase: [2918 2931], Prec: 0.897\n",
      "Pliegue: 4, Dist Clase: [2919 2931], Prec: 0.920\n",
      "Pliegue: 5, Dist Clase: [2919 2931], Prec: 0.895\n",
      "Pliegue: 6, Dist Clase: [2919 2931], Prec: 0.912\n",
      "Pliegue: 7, Dist Clase: [2919 2931], Prec: 0.871\n",
      "Pliegue: 8, Dist Clase: [2919 2932], Prec: 0.906\n",
      "Pliegue: 9, Dist Clase: [2919 2932], Prec: 0.884\n",
      "Pliegue: 10, Dist Clase: [2919 2932], Prec: 0.891\n",
      "Precision promedio:  0.898 +/-  0.014\n"
     ]
    }
   ],
   "source": [
    "# Ejemplo cross-validation\n",
    "from sklearn import cross_validation\n",
    "\n",
    "# creando pliegues\n",
    "kpliegues = cross_validation.StratifiedKFold(y=y_train, n_folds=10,\n",
    "                                        random_state=2016)\n",
    "# iterando entre los plieges\n",
    "precision = []\n",
    "for k, (train, test) in enumerate(kpliegues):\n",
    "    arbol2.fit(x_train[train], y_train[train]) \n",
    "    score = arbol2.score(x_train[test], y_train[test])\n",
    "    precision.append(score)\n",
    "    print('Pliegue: {0:}, Dist Clase: {1:}, Prec: {2:.3f}'.format(k+1,\n",
    "                        np.bincount(y_train[train]), score))\n",
    "\n",
    "# imprimir promedio y desvio estandar\n",
    "print('Precision promedio: {0: .3f} +/- {1: .3f}'.format(np.mean(precision),\n",
    "                                          np.std(precision)))"
   ]
  },
  {
   "cell_type": "markdown",
   "metadata": {},
   "source": [
    "En este ejemplo, utilizamos el <a href=\"https://es.wikipedia.org/wiki/Iterador_(patr%C3%B3n_de_dise%C3%B1o)\">iterador</a> `StratifiedKFold` que nos proporciona [Scikit-learn](https://scikit-learn.org/stable/). Este <a href=\"https://es.wikipedia.org/wiki/Iterador_(patr%C3%B3n_de_dise%C3%B1o)\">iterador</a> es una versión mejorada de la *[validación cruzada](https://es.wikipedia.org/wiki/Validaci%C3%B3n_cruzada)*, ya que cada *pliegue* va a estar estratificado para mantener las proporciones entre las *clases* del [conjunto de datos](https://es.wikipedia.org/wiki/Conjunto_de_datos) original, lo que suele dar mejores estimaciones del sesgo y la varianza del modelo. También podríamos utilizar `cross_val_score` que ya nos proporciona los resultados de la precisión que tuvo el modelo en cada *pliegue*."
   ]
  },
  {
   "cell_type": "code",
   "execution_count": 14,
   "metadata": {
    "collapsed": false
   },
   "outputs": [
    {
     "name": "stdout",
     "output_type": "stream",
     "text": [
      "precisiones: [ 0.906298    0.89708141  0.89708141  0.91846154  0.89538462  0.91230769\n",
      "  0.87076923  0.90755008  0.8844376   0.89060092]\n",
      "Precision promedio:  0.898 +/-  0.013\n"
     ]
    }
   ],
   "source": [
    "# Ejemplo con cross_val_score\n",
    "precision = cross_validation.cross_val_score(estimator=arbol2,\n",
    "                                            X=x_train, y=y_train,\n",
    "                                            cv=10, n_jobs=-1)\n",
    "\n",
    "print('precisiones: {}'.format(precision))\n",
    "print('Precision promedio: {0: .3f} +/- {1: .3f}'.format(np.mean(precision),\n",
    "                                          np.std(precision)))"
   ]
  },
  {
   "cell_type": "markdown",
   "metadata": {},
   "source": [
    "### Más datos y curvas de aprendizaje\n",
    "\n",
    "Muchas veces, reducir el [Sobreajuste](https://es.wikipedia.org/wiki/Sobreajuste) es tan fácil como conseguir más datos, dame más datos y te predeciré el futuro!. Aunque en la vida real nunca es una tarea tan sencilla conseguir más datos. Otra herramienta analítica que nos ayuda a entender como reducimos el [Sobreajuste](https://es.wikipedia.org/wiki/Sobreajuste) con la ayuda de más datos, son las *curvas de aprendizaje*, las cuales grafican la precisión en función del tamaño de los datos de entrenamiento. Veamos como podemos graficarlas con la ayuda de [Python](https://python.org/).\n",
    "\n",
    "<img alt=\"Curva de aprendizaje\" title=\"Curva de aprendizaje\" src=\"https://relopezbriega.github.io/images/curva_aprendizaje.png\" width=\"600px\" height=\"600px\" >"
   ]
  },
  {
   "cell_type": "code",
   "execution_count": 15,
   "metadata": {
    "collapsed": false
   },
   "outputs": [],
   "source": [
    "# Ejemplo Curvas de aprendizaje\n",
    "from sklearn.learning_curve import learning_curve\n",
    "\n",
    "train_sizes, train_scores, test_scores = learning_curve(estimator=arbol2,\n",
    "                        X=x_train, y=y_train, \n",
    "                        train_sizes=np.linspace(0.1, 1.0, 10), cv=10,\n",
    "                        n_jobs=-1)\n",
    "\n",
    "train_mean = np.mean(train_scores, axis=1)\n",
    "train_std = np.std(train_scores, axis=1)\n",
    "test_mean = np.mean(test_scores, axis=1)\n",
    "test_std = np.std(test_scores, axis=1)"
   ]
  },
  {
   "cell_type": "code",
   "execution_count": 16,
   "metadata": {
    "collapsed": false
   },
   "outputs": [
    {
     "data": {
      "image/png": "[encoded data removed]",
      "text/plain": [
       "<matplotlib.figure.Figure at 0x7fdd5d9247b8>"
      ]
     },
     "metadata": {},
     "output_type": "display_data"
    }
   ],
   "source": [
    "# graficando las curvas\n",
    "plt.plot(train_sizes, train_mean, color='r', marker='o', markersize=5,\n",
    "         label='entrenamiento')\n",
    "plt.fill_between(train_sizes, train_mean + train_std, \n",
    "                 train_mean - train_std, alpha=0.15, color='r')\n",
    "plt.plot(train_sizes, test_mean, color='b', linestyle='--', \n",
    "         marker='s', markersize=5, label='evaluacion')\n",
    "plt.fill_between(train_sizes, test_mean + test_std, \n",
    "                 test_mean - test_std, alpha=0.15, color='b')\n",
    "plt.grid()\n",
    "plt.title('Curva de aprendizaje')\n",
    "plt.legend(loc='upper right')\n",
    "plt.xlabel('Cant de ejemplos de entrenamiento')\n",
    "plt.ylabel('Precision')\n",
    "plt.show()"
   ]
  },
  {
   "cell_type": "markdown",
   "metadata": {},
   "source": [
    "En este gráfico podemos ver claramente como con pocos datos la precisión entre los datos de entrenamiento y los de evaluación son muy distintas y luego a medida que la cantidad de datos va aumentando, el modelo puede generalizar mucho mejor y las precisiones se comienzan a emparejar. Este gráfico también puede ser importante a la hora de decidir invertir en la obtención de más datos, ya que por ejemplo nos indica que a partir las 2500 muestras, el modelo ya no gana mucha más precisión a pesar de obtener más datos.\n",
    "\n",
    "### Optimización de parámetros con Grid Search\n",
    "\n",
    "La mayoría de los modelos de [Machine Learning](https://relopezbriega.github.io/tag/machine-learning.html) cuentan con varios parámetros para ajustar su comportamiento, por lo tanto otra alternativa que tenemos para reducir el [Sobreajuste](https://es.wikipedia.org/wiki/Sobreajuste) es optimizar estos parámetros por medio de un proceso conocido como *grid search* e intentar encontrar la combinación ideal que nos proporcione mayor precisión. El enfoque que utiliza *grid search* es bastante simple, se trata de una búsqueda exhaustiva por el paradigma de fuerza bruta en el que se especifica una lista de valores para diferentes parámetros, y la computadora evalúa el rendimiento del modelo para cada combinación de éstos parámetros para obtener el conjunto óptimo que nos brinda el mayor rendimiento. \n",
    "\n",
    "Veamos un ejemplo utilizando un modelo de [SVM o Máquinas de vectores de soporte](https://es.wikipedia.org/wiki/M%C3%A1quinas_de_vectores_de_soporte), la idea va a ser optimizar los parámetros `gamma` y `C` de este modelo. El parámetro `gamma` define cuan lejos llega la influencia de un solo ejemplo de entrenamiento, con valores bajos que significan \"lejos\" y los valores altos significan \"cerca\". El parámetro `C` es el que establece la penalización por error en la clasificación un valor bajo de este parámetro hace que la superficie de decisión sea más lisa, mientras que un valor alto tiene como objetivo que todos los ejemplos se clasifiquen correctamente, dándole más libertad al modelo para elegir más ejemplos como vectores de soporte. Tengan en cuenta que como todo proceso por fuerza bruta, puede tomar bastante tiempo según la cantidad de parámetros que utilicemos para la optimización."
   ]
  },
  {
   "cell_type": "code",
   "execution_count": 17,
   "metadata": {
    "collapsed": false
   },
   "outputs": [],
   "source": [
    "# Ejemplo de grid search con SVM.\n",
    "from sklearn.grid_search import GridSearchCV\n",
    "\n",
    "# creación del modelo\n",
    "svm = SVC(random_state=1982)\n",
    "\n",
    "# rango de parametros\n",
    "rango_C = np.logspace(-2, 10, 10)\n",
    "rango_gamma = np.logspace(-9, 3, 10)\n",
    "param_grid = dict(gamma=rango_gamma, C=rango_C)\n",
    "\n",
    "# crear grid search\n",
    "gs = GridSearchCV(estimator=svm, param_grid=param_grid, scoring='accuracy',\n",
    "                  cv=5,n_jobs=-1)\n",
    "\n",
    "# comenzar el ajuste\n",
    "gs = gs.fit(x_train, y_train)"
   ]
  },
  {
   "cell_type": "code",
   "execution_count": 18,
   "metadata": {
    "collapsed": false
   },
   "outputs": [
    {
     "name": "stdout",
     "output_type": "stream",
     "text": [
      "0.870461538462\n",
      "{'C': 4.6415888336127775, 'gamma': 0.0046415888336127729}\n"
     ]
    }
   ],
   "source": [
    "# imprimir resultados\n",
    "print(gs.best_score_)\n",
    "print(gs.best_params_)"
   ]
  },
  {
   "cell_type": "code",
   "execution_count": 21,
   "metadata": {
    "collapsed": false
   },
   "outputs": [
    {
     "name": "stdout",
     "output_type": "stream",
     "text": [
      "Precisión: 0.864\n"
     ]
    }
   ],
   "source": [
    "# utilizando el mejor modelo\n",
    "mejor_modelo = gs.best_estimator_\n",
    "mejor_modelo.fit(x_train, y_train)\n",
    "print('Precisión: {0:.3f}'.format(mejor_modelo.score(x_eval, y_eval)))"
   ]
  },
  {
   "cell_type": "markdown",
   "metadata": {},
   "source": [
    "En este ejemplo, primero utilizamos el objeto `GridSearchCV` que nos permite realizar *grid search* junto con *[validación cruzada](https://es.wikipedia.org/wiki/Validaci%C3%B3n_cruzada)*, luego comenzamos a ajustar el modelo con las diferentes combinaciones de los valores de los parámetros `gamma` y `C`. Finalmente imprimimos el mejor resultado de precisión y los valores de los parámetros que utilizamos para obtenerlos; por último utilizamos este mejor modelo para realizar las predicciones con los datos de *evaluación*. Podemos ver que la precisión que obtuvimos con los datos de evaluación es casi idéntica a la que nos indicó *grid search*, lo que indica que el modelo *generaliza* muy bien.\n",
    "\n",
    "Aquí termina este artículo, sobre la [selección de atributos](https://relopezbriega.github.io/blog/2016/04/15/ejemplo-de-machine-learning-con-python-seleccion-de-atributos/), pueden visitar el artículo que dedique a ese tema en este [link](https://relopezbriega.github.io/blog/2016/04/15/ejemplo-de-machine-learning-con-python-seleccion-de-atributos/); en cuando a modelos ensamblados y reducción de dimensiones de los datos, espero escribir sobre esos temas en artículos futuros, no se los pierdan!\n",
    "\n",
    "Gracias por visitar el blog y saludos!\n",
    "\n",
    "*Este post fue escrito utilizando IPython notebook. Pueden descargar este [notebook](https://github.com/relopezbriega/relopezbriega.github.io/blob/master/downloads/MachineLearningOverfitting.ipynb) o ver su version estática en [nbviewer](https://nbviewer.ipython.org/github/relopezbriega/relopezbriega.github.io/blob/master/downloads/MachineLearningOverfitting.ipynb).*"
   ]
  }
 ],
 "metadata": {
  "kernelspec": {
   "display_name": "Python 3",
   "language": "python",
   "name": "python3"
  },
  "language_info": {
   "codemirror_mode": {
    "name": "ipython",
    "version": 3
   },
   "file_extension": ".py",
   "mimetype": "text/x-python",
   "name": "python",
   "nbconvert_exporter": "python",
   "pygments_lexer": "ipython3",
   "version": "3.5.1+"
  }
 },
 "nbformat": 4,
 "nbformat_minor": 0
}
