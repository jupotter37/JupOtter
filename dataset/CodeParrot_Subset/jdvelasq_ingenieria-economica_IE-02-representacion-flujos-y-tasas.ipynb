{
 "cells": [
  {
   "cell_type": "markdown",
   "metadata": {},
   "source": [
    "Representación de flujos de caja y tasas de interés\n",
    "==="
   ]
  },
  {
   "cell_type": "markdown",
   "metadata": {},
   "source": [
    "Notas de clase sobre ingeniería economica avanzada usando Python\n",
    "\n",
    "**Juan David Velásquez Henao**  \n",
    "jdvelasq@unal.edu.co   \n",
    "Universidad Nacional de Colombia, Sede Medellín  \n",
    "Facultad de Minas  \n",
    "Medellín, Colombia "
   ]
  },
  {
   "cell_type": "markdown",
   "metadata": {},
   "source": [
    "**Software utilizado**\n",
    ">Este es un documento interactivo escrito como un notebook de [Jupyter](http://jupyter.org/) , en el cual se presenta un tutorial sobre finanzas corporativas usando Python. Los notebooks de Jupyter permiten incoporar simultáneamente código, texto, gráficos y ecuaciones. El código presentado en este notebook puede ejecutarse en los sistemas operativos Linux y OS X.  \n",
    "\n",
    ">Haga click [aquí](https://github.com/jdvelasq/guias-de-instalacion) para obtener instrucciones detalladas sobre como instalar Jupyter en Windows y Mac OS X.\n",
    "\n",
    ">Descargue la última versión de este documento a su disco duro; luego, carguelo y ejecutelo en línea en Try [Jupyter!](https://try.jupyter.org/)\n",
    "\n"
   ]
  },
  {
   "cell_type": "markdown",
   "metadata": {},
   "source": [
    "#### Contenido"
   ]
  },
  {
   "cell_type": "markdown",
   "metadata": {},
   "source": [
    ">"
   ]
  },
  {
   "cell_type": "markdown",
   "metadata": {},
   "source": [
    "**Bibliografía**  "
   ]
  },
  {
   "cell_type": "markdown",
   "metadata": {},
   "source": [
    "> * [1] SAS/ETS 14.1 User's Guide, 2015.   \n",
    "* [2] **hp** 12c platinum financial calculator. User's guide. \n",
    "* [3] HP Business Consultant II Owner's manual.\n",
    "* [4] C.S. Park and G.P. Sharp-Bette. Advanced Engineering Economics. John Wiley & Sons, Inc., 1990."
   ]
  },
  {
   "cell_type": "code",
   "execution_count": 1,
   "metadata": {
    "collapsed": false
   },
   "outputs": [],
   "source": [
    "import cashflows as cf"
   ]
  },
  {
   "cell_type": "markdown",
   "metadata": {
    "collapsed": true
   },
   "source": [
    "# Conversión de tasas de interés"
   ]
  },
  {
   "cell_type": "markdown",
   "metadata": {},
   "source": [
    "## Interés anticipado e interés vencido"
   ]
  },
  {
   "cell_type": "markdown",
   "metadata": {},
   "source": [
    "[Contenido](#Contenido)"
   ]
  },
  {
   "cell_type": "markdown",
   "metadata": {},
   "source": [
    "<img src=\"images/antxven.png\" width=500>"
   ]
  },
  {
   "cell_type": "markdown",
   "metadata": {},
   "source": [
    "**Interés vencido:** se paga al final del periodo.  "
   ]
  },
  {
   "cell_type": "markdown",
   "metadata": {},
   "source": [
    "$$F=P(1+r)$$"
   ]
  },
  {
   "cell_type": "markdown",
   "metadata": {},
   "source": [
    "**Interés anticipado:** se paga al inicio del periodo (antes de su causación). En este caso surge una paradoja, que el interés se puede reinvertir a la misma tasa de interés (anticipadamente):"
   ]
  },
  {
   "cell_type": "markdown",
   "metadata": {},
   "source": [
    "$$F = P + Pr_*  + Pr_*^2 + ...$$"
   ]
  },
  {
   "cell_type": "markdown",
   "metadata": {},
   "source": [
    "La suma infinita anterior puede reescribirse como:"
   ]
  },
  {
   "cell_type": "markdown",
   "metadata": {},
   "source": [
    "$$F=P \\frac{1}{1 - r_*}$$"
   ]
  },
  {
   "cell_type": "markdown",
   "metadata": {},
   "source": [
    "Igualando las dos ecuaciones anteriores:"
   ]
  },
  {
   "cell_type": "markdown",
   "metadata": {},
   "source": [
    "$$\\frac{1}{1 - r_*}=1+r ~,~~ r=\\frac{r_*}{1 - r_*} ~,~~ r_*=\\frac{r}{1 + r}$$  "
   ]
  },
  {
   "cell_type": "markdown",
   "metadata": {},
   "source": [
    "Interés efectivo anual: "
   ]
  },
  {
   "cell_type": "markdown",
   "metadata": {},
   "source": [
    "$$r_a=\\left[1+\\left (\\frac{r_*}{1-r_*}\\right)\\right]^n-1$$"
   ]
  },
  {
   "cell_type": "markdown",
   "metadata": {},
   "source": [
    "**`cashflow`** tiene las funciones `nom2eff()` y `eff2nom()` para realizar las conversiones entre nominal (anticipado y vencido) y efectivo respectivamente."
   ]
  },
  {
   "cell_type": "markdown",
   "metadata": {},
   "source": [
    "**Ejemplo.--** Se solicita un prestamo a un año con un interés anticipado del 20%. ¿Determine el interés efectivo pagado por el dinero?"
   ]
  },
  {
   "cell_type": "code",
   "execution_count": 2,
   "metadata": {
    "collapsed": false
   },
   "outputs": [
    {
     "data": {
      "text/plain": [
       "0.25"
      ]
     },
     "execution_count": 2,
     "metadata": {},
     "output_type": "execute_result"
    }
   ],
   "source": [
    "0.2 / (1 - 0.2)"
   ]
  },
  {
   "cell_type": "markdown",
   "metadata": {},
   "source": [
    "**Ejemplo.--** Si se desea obtener una tasa efectiva anual del 36%, ¿cuánto se deberá cobrar en forma anticipada anual para obenerla?"
   ]
  },
  {
   "cell_type": "code",
   "execution_count": 3,
   "metadata": {
    "collapsed": false
   },
   "outputs": [
    {
     "data": {
      "text/plain": [
       "0.2647058823529412"
      ]
     },
     "execution_count": 3,
     "metadata": {},
     "output_type": "execute_result"
    }
   ],
   "source": [
    "0.36 / (1 + 0.36)"
   ]
  },
  {
   "cell_type": "markdown",
   "metadata": {},
   "source": [
    "## Interés nominal e interés efectivo"
   ]
  },
  {
   "cell_type": "markdown",
   "metadata": {},
   "source": [
    "[Contenido](#Contenido)"
   ]
  },
  {
   "cell_type": "markdown",
   "metadata": {},
   "source": [
    "**Interés nominal** (r): expresado sobre una base anual para un número M de periodos de pago en el año. "
   ]
  },
  {
   "cell_type": "markdown",
   "metadata": {},
   "source": [
    "**Interés efectivo por periodo de pago **($i$): representa el interés real para cada periodo de pago en el año.  "
   ]
  },
  {
   "cell_type": "markdown",
   "metadata": {},
   "source": [
    "**Interés efectivo anual** ($i_a$): interés real para un periodo único de pago de un año.  "
   ]
  },
  {
   "cell_type": "markdown",
   "metadata": {},
   "source": [
    "$$ i= \\frac{r}{M},$$  \n",
    "$$i_\\alpha = \\left( \\displaystyle 1 + \\frac{r}{M}\\right)^M - 1 $$"
   ]
  },
  {
   "cell_type": "markdown",
   "metadata": {},
   "source": [
    "**Ejemplo.--** Se está considerando abrir una cuenta de ahorros en uno de tres bancos. Cuál banco tienen la tasa de interés más favorable?"
   ]
  },
  {
   "cell_type": "markdown",
   "metadata": {},
   "source": [
    "* Banco #1: 6.72% anual, compuesto semestralmente"
   ]
  },
  {
   "cell_type": "markdown",
   "metadata": {},
   "source": [
    "* Banco #1: 6.70% anual, compuesto trimestralmente."
   ]
  },
  {
   "cell_type": "markdown",
   "metadata": {},
   "source": [
    "* Banco #2: 6.65% anual, compuesto mensualmente."
   ]
  },
  {
   "cell_type": "code",
   "execution_count": 4,
   "metadata": {
    "collapsed": false
   },
   "outputs": [
    {
     "data": {
      "text/plain": [
       "(6.8328960000000105, 3.36)"
      ]
     },
     "execution_count": 4,
     "metadata": {},
     "output_type": "execute_result"
    }
   ],
   "source": [
    "cf.iconv(nrate = 6.72, pyr =  2)  ## Banco 1"
   ]
  },
  {
   "cell_type": "code",
   "execution_count": 5,
   "metadata": {
    "collapsed": false
   },
   "outputs": [
    {
     "data": {
      "text/plain": [
       "(6.8702251402816605, 1.675)"
      ]
     },
     "execution_count": 5,
     "metadata": {},
     "output_type": "execute_result"
    }
   ],
   "source": [
    "cf.iconv(nrate = 6.70, pyr =  4)  ## Banco 2 -- mejor opción "
   ]
  },
  {
   "cell_type": "code",
   "execution_count": 6,
   "metadata": {
    "collapsed": false
   },
   "outputs": [
    {
     "data": {
      "text/plain": [
       "(6.85647762811652, 0.5541666666666667)"
      ]
     },
     "execution_count": 6,
     "metadata": {},
     "output_type": "execute_result"
    }
   ],
   "source": [
    "cf.iconv(nrate = 6.65, pyr = 12)  ## Banco 3"
   ]
  },
  {
   "cell_type": "code",
   "execution_count": 7,
   "metadata": {
    "collapsed": false
   },
   "outputs": [
    {
     "data": {
      "text/plain": [
       "([6.8328960000000105, 6.964855220821997, 6.85647762811652],\n",
       " [3.36, 1.6975, 0.5541666666666667])"
      ]
     },
     "execution_count": 7,
     "metadata": {},
     "output_type": "execute_result"
    }
   ],
   "source": [
    "## Otra forma\n",
    "cf.iconv(nrate = [6.72, 6.79, 6.65], pyr = [2, 4, 12])"
   ]
  },
  {
   "cell_type": "markdown",
   "metadata": {},
   "source": [
    "**Ejemplo.--** Convierta una tasa del 12% anual compuesto semestralmente a anual compuesto mensualmente."
   ]
  },
  {
   "cell_type": "code",
   "execution_count": 8,
   "metadata": {
    "collapsed": false
   },
   "outputs": [
    {
     "data": {
      "text/plain": [
       "12.360000000000015"
      ]
     },
     "execution_count": 8,
     "metadata": {},
     "output_type": "execute_result"
    }
   ],
   "source": [
    "erate, _ = cf.iconv(nrate = 12.0, pyr = 2) ## efectiva por año \n",
    "erate"
   ]
  },
  {
   "cell_type": "code",
   "execution_count": 9,
   "metadata": {
    "collapsed": false
   },
   "outputs": [
    {
     "data": {
      "text/plain": [
       "11.710553015030811"
      ]
     },
     "execution_count": 9,
     "metadata": {},
     "output_type": "execute_result"
    }
   ],
   "source": [
    "nrate, _ = cf.iconv(erate = erate, pyr = 12)       ## nominal compuesta mensualmente\n",
    "nrate"
   ]
  },
  {
   "cell_type": "markdown",
   "metadata": {},
   "source": [
    "**Ejemplo.--** Sea un interés nominal del 12% capitalizado mensualmente. Calcule:\n",
    "\n",
    "* Tasa efectiva mensual\n",
    "* Tasa efectiva trimestral\n",
    "* Tasa efectiva anual\n",
    "\n",
    "<img src=\"images/tasa-nominal-efectiva.png\" width=600>"
   ]
  },
  {
   "cell_type": "code",
   "execution_count": 10,
   "metadata": {
    "collapsed": false
   },
   "outputs": [
    {
     "data": {
      "text/plain": [
       "0.01"
      ]
     },
     "execution_count": 10,
     "metadata": {},
     "output_type": "execute_result"
    }
   ],
   "source": [
    "## tasa efectiva mensual\n",
    "0.12 / 12"
   ]
  },
  {
   "cell_type": "code",
   "execution_count": 11,
   "metadata": {
    "collapsed": false
   },
   "outputs": [
    {
     "data": {
      "text/plain": [
       "0.030003000099987354"
      ]
     },
     "execution_count": 11,
     "metadata": {},
     "output_type": "execute_result"
    }
   ],
   "source": [
    "## tasa efectiva trimestral\n",
    "erate, _ = cf.iconv(nrate = 3 * 0.12 / 12, pyr = 3)\n",
    "erate"
   ]
  },
  {
   "cell_type": "code",
   "execution_count": 12,
   "metadata": {
    "collapsed": false
   },
   "outputs": [
    {
     "data": {
      "text/plain": [
       "12.682503013196978"
      ]
     },
     "execution_count": 12,
     "metadata": {},
     "output_type": "execute_result"
    }
   ],
   "source": [
    "## tasa efectiva anual\n",
    "erate, _ = cf.iconv(nrate = 12.0, pyr = 12)\n",
    "erate"
   ]
  },
  {
   "cell_type": "markdown",
   "metadata": {},
   "source": [
    "## Nomenclatura"
   ]
  },
  {
   "cell_type": "markdown",
   "metadata": {},
   "source": [
    "[Contenido](#Contenido)"
   ]
  },
  {
   "cell_type": "markdown",
   "metadata": {},
   "source": [
    "<img src=\"images/nomenclatura.png\" width=600>"
   ]
  },
  {
   "cell_type": "markdown",
   "metadata": {},
   "source": [
    "---"
   ]
  },
  {
   "cell_type": "markdown",
   "metadata": {},
   "source": [
    "## Ejercicios"
   ]
  },
  {
   "cell_type": "markdown",
   "metadata": {},
   "source": [
    "**Ejercicio.--** Cuál es la tasa efectiva anual equivalente a 15% N.A.M.V. (nominal anual mes vencido)?"
   ]
  },
  {
   "cell_type": "code",
   "execution_count": null,
   "metadata": {
    "collapsed": true
   },
   "outputs": [],
   "source": []
  },
  {
   "cell_type": "markdown",
   "metadata": {},
   "source": [
    "**Ejercicio.--** Cuál es la tasa efectiva anual equivalente a 23% N.A.T.A. (nominal anual trimestre anticipado)?"
   ]
  },
  {
   "cell_type": "code",
   "execution_count": null,
   "metadata": {
    "collapsed": true
   },
   "outputs": [],
   "source": []
  },
  {
   "cell_type": "markdown",
   "metadata": {},
   "source": [
    "**Ejercicio.--** Sea un interés nominal del 39.29% capitalizado mensualmente a cuánto equivale en términos semestrales? (R/ 6.15%)"
   ]
  },
  {
   "cell_type": "code",
   "execution_count": null,
   "metadata": {
    "collapsed": true
   },
   "outputs": [],
   "source": []
  },
  {
   "cell_type": "markdown",
   "metadata": {},
   "source": [
    "**Ejercicio.--** ¿Cuál es el valor futuro de \\$ 609 dentro de 2 años a una tasa del 2% NATV? "
   ]
  },
  {
   "cell_type": "code",
   "execution_count": null,
   "metadata": {
    "collapsed": true
   },
   "outputs": [],
   "source": []
  },
  {
   "cell_type": "markdown",
   "metadata": {},
   "source": [
    "**Ejercicio.--** ¿Cuál es el valor presente de un pago único de \\$ 890 recibido dentro de 6 años a una tasa de 2.7% NATA?   "
   ]
  },
  {
   "cell_type": "code",
   "execution_count": null,
   "metadata": {
    "collapsed": true
   },
   "outputs": [],
   "source": []
  },
  {
   "cell_type": "markdown",
   "metadata": {},
   "source": [
    "**Ejercicio.--** ¿Qué cantidad de dinero se poseerá después de prestar \\$ 2300 al 27% NAMA durante 3 años?"
   ]
  },
  {
   "cell_type": "code",
   "execution_count": null,
   "metadata": {
    "collapsed": true
   },
   "outputs": [],
   "source": []
  },
  {
   "cell_type": "markdown",
   "metadata": {},
   "source": [
    "**Ejercicio.--** ¿Cuál es la tasa efectiva semestral equivalente al 14% NMTA?"
   ]
  },
  {
   "cell_type": "code",
   "execution_count": null,
   "metadata": {
    "collapsed": true
   },
   "outputs": [],
   "source": []
  },
  {
   "cell_type": "markdown",
   "metadata": {},
   "source": [
    "**Ejercicio.--** ¿Cuánto dinero mensual se debe empezar a abonar hoy si se desea reunir \\$ 28700 al final de 5 años y los ahorros rentan el 16%?"
   ]
  },
  {
   "cell_type": "code",
   "execution_count": null,
   "metadata": {
    "collapsed": true
   },
   "outputs": [],
   "source": []
  },
  {
   "cell_type": "markdown",
   "metadata": {
    "collapsed": true
   },
   "source": [
    "**Ejercicio.--**  Se decide ahorrar mensualmente \\$ 900 los cuales depositará al principio de cada mes en una entidad financiera que paga un interés del 30%. ¿Cuánto habrá acumulado al cabo de 2 años?"
   ]
  },
  {
   "cell_type": "code",
   "execution_count": null,
   "metadata": {
    "collapsed": true
   },
   "outputs": [],
   "source": []
  },
  {
   "cell_type": "markdown",
   "metadata": {},
   "source": [
    "---"
   ]
  },
  {
   "cell_type": "markdown",
   "metadata": {},
   "source": [
    "# Representación de tasas de interés usando `cashflow`"
   ]
  },
  {
   "cell_type": "markdown",
   "metadata": {},
   "source": [
    "En la modelación financiera es común tener que representar tasas de interés que cambian en el tiempo. La librería **`cashflow`** permite realizar esta tarea. En la tabla que se presenta a continuación, la columna `n`  indica para que periodos se aplica el valor correspondiente de la tasa (columna `rate`). Por definición, la tasa para el periodo 0 siempre es 0."
   ]
  },
  {
   "cell_type": "code",
   "execution_count": 13,
   "metadata": {
    "collapsed": false
   },
   "outputs": [
    {
     "data": {
      "text/plain": [
       "      Qtr0  Qtr1  Qtr2  Qtr3\n",
       "2000 10.00 10.00 10.00 10.00\n",
       "2001 10.00 10.00 10.00 10.00"
      ]
     },
     "execution_count": 13,
     "metadata": {},
     "output_type": "execute_result"
    }
   ],
   "source": [
    "cf.nominal_rate(const_value=10, start=(2000, 0), nper=8, pyr=4) "
   ]
  },
  {
   "cell_type": "code",
   "execution_count": 14,
   "metadata": {
    "collapsed": false
   },
   "outputs": [
    {
     "data": {
      "text/plain": [
       "Time Series:\n",
       "Start = (2000, 0)\n",
       "End = (2001, 1)\n",
       "pyr = 6\n",
       "Data = (2000, 0)-(2001, 1) [8] 10.00 "
      ]
     },
     "execution_count": 14,
     "metadata": {},
     "output_type": "execute_result"
    }
   ],
   "source": [
    "cf.nominal_rate(const_value=10, start=(2000, 0), nper=8, pyr=6) "
   ]
  },
  {
   "cell_type": "code",
   "execution_count": 15,
   "metadata": {
    "collapsed": false
   },
   "outputs": [
    {
     "data": {
      "text/plain": [
       "      Qtr0  Qtr1  Qtr2  Qtr3\n",
       "2000  1.00  1.00  1.00 10.00\n",
       "2001 10.00 10.00 10.00 10.00"
      ]
     },
     "execution_count": 15,
     "metadata": {},
     "output_type": "execute_result"
    }
   ],
   "source": [
    "spec = ((2000, 3), 10)\n",
    "cf.nominal_rate(const_value=1, start=(2000, 0), nper=8, pyr=4, spec=spec) "
   ]
  },
  {
   "cell_type": "code",
   "execution_count": 16,
   "metadata": {
    "collapsed": false
   },
   "outputs": [
    {
     "data": {
      "text/plain": [
       "      Qtr0  Qtr1  Qtr2  Qtr3\n",
       "2000  1.00  1.00  1.00 10.00\n",
       "2001 10.00 10.00 20.00 20.00"
      ]
     },
     "execution_count": 16,
     "metadata": {},
     "output_type": "execute_result"
    }
   ],
   "source": [
    "spec = [(3, 10), (6, 20)]\n",
    "cf.nominal_rate(const_value=1, start=(2000, 0), nper=8, pyr=4, spec=spec) "
   ]
  },
  {
   "cell_type": "code",
   "execution_count": 17,
   "metadata": {
    "collapsed": false
   },
   "outputs": [
    {
     "data": {
      "text/plain": [
       "   Qtr0  Qtr1  Qtr2  Qtr3\n",
       "0 10.00 20.00 10.00 20.00\n",
       "1 10.00 20.00 10.00 20.00\n",
       "2 10.00 20.00 10.00 20.00\n",
       "3 10.00 20.00 10.00 20.00\n",
       "4 10.00 20.00 10.00 20.00"
      ]
     },
     "execution_count": 17,
     "metadata": {},
     "output_type": "execute_result"
    }
   ],
   "source": [
    "cf.nominal_rate(const_value=[10, 20]*10, pyr=4)  "
   ]
  },
  {
   "cell_type": "markdown",
   "metadata": {},
   "source": [
    "**Ejemplo.--** Se va a tomar un crédito a 48 meses. La tasa inicial es del 3% y aumenta un punto cada año. Represente la tasa de interés."
   ]
  },
  {
   "cell_type": "code",
   "execution_count": 18,
   "metadata": {
    "collapsed": false
   },
   "outputs": [
    {
     "data": {
      "text/plain": [
       "      Jan  Feb  Mar  Apr  May  Jun  Jul  Aug  Sep  Oct  Nov  Dec\n",
       "2000 3.00 3.00 3.00 3.00 3.00 3.00 3.00 3.00 3.00 3.00 3.00 3.00\n",
       "2001 4.00 4.00 4.00 4.00 4.00 4.00 4.00 4.00 4.00 4.00 4.00 4.00\n",
       "2002 5.00 5.00 5.00 5.00 5.00 5.00 5.00 5.00 5.00 5.00 5.00 5.00\n",
       "2003 6.00 6.00 6.00 6.00 6.00 6.00 6.00 6.00 6.00 6.00 6.00 6.00"
      ]
     },
     "execution_count": 18,
     "metadata": {},
     "output_type": "execute_result"
    }
   ],
   "source": [
    "cf.nominal_rate(const_value = 3, \n",
    "                start = (2000, 0),\n",
    "                nper = 48,  \n",
    "                pyr = 12, \n",
    "                spec= [(12, 4),      # tasa para el año 2\n",
    "                       (24, 5),      # tasa para el año 3\n",
    "                       (36, 6)])     # tasa para el año 4) "
   ]
  },
  {
   "cell_type": "code",
   "execution_count": 19,
   "metadata": {
    "collapsed": false
   },
   "outputs": [
    {
     "data": {
      "text/plain": [
       "        Jan    Feb    Mar    Apr    May    Jun    Jul    Aug    Sep    Oct    Nov    Dec\n",
       "2000   3.00   3.00   3.00   3.00   3.00 100.00   3.00   3.00   3.00   3.00   3.00   3.00\n",
       "2001   4.00   4.00   4.00   4.00   4.00   4.00   4.00   4.00   4.00   4.00   4.00   4.00\n",
       "2002   5.00   5.00   5.00   5.00   5.00   5.00   5.00   5.00   5.00   5.00   5.00   5.00\n",
       "2003   6.00   6.00   6.00   6.00   6.00   6.00   6.00   6.00   6.00   6.00   6.00   6.00"
      ]
     },
     "execution_count": 19,
     "metadata": {},
     "output_type": "execute_result"
    }
   ],
   "source": [
    "x = cf.nominal_rate(const_value = 3, \n",
    "                    start = (2000, 0),\n",
    "                    nper = 48,  \n",
    "                    pyr = 12, \n",
    "                    spec= [(12, 4),      # tasa para el año 2\n",
    "                           (24, 5),      # tasa para el año 3\n",
    "                           (36, 6)])     # tasa para el año 4) \n",
    "x[5] = 100\n",
    "x"
   ]
  },
  {
   "cell_type": "markdown",
   "metadata": {},
   "source": [
    "# Representación de flujos genéricos de caja"
   ]
  },
  {
   "cell_type": "markdown",
   "metadata": {},
   "source": [
    "**`cashflow`** también permite la representación de flujos de efectivo en forma similar (pero no igual) a las tasas de interés, pero en este caso las tuplas (time, value) representan valores puntuales en el tiempo.  "
   ]
  },
  {
   "cell_type": "code",
   "execution_count": 20,
   "metadata": {
    "collapsed": false
   },
   "outputs": [
    {
     "data": {
      "text/plain": [
       "     Qtr0 Qtr1 Qtr2 Qtr3\n",
       "2000 1.00 1.00 1.00 1.00\n",
       "2001 1.00 1.00 1.00 1.00"
      ]
     },
     "execution_count": 20,
     "metadata": {},
     "output_type": "execute_result"
    }
   ],
   "source": [
    "cf.cashflow(const_value=1,   # valor constante\n",
    "            start=(2000, 0), # (periodo mayor, periodo menor)\n",
    "            nper=8,          # número total de periodos\n",
    "            pyr=4)           # número de periodos por año"
   ]
  },
  {
   "cell_type": "code",
   "execution_count": 21,
   "metadata": {
    "collapsed": false,
    "scrolled": true
   },
   "outputs": [
    {
     "data": {
      "text/plain": [
       "      Qtr0  Qtr1  Qtr2  Qtr3\n",
       "2000  1.00  1.00  1.00 10.00\n",
       "2001  1.00  1.00  1.00  1.00"
      ]
     },
     "execution_count": 21,
     "metadata": {},
     "output_type": "execute_result"
    }
   ],
   "source": [
    "## un valor puntual puede ser introducido mediante una tupla\n",
    "spec = ((2000, 3), 10)  # ((major, minor), value)\n",
    "cf.cashflow(const_value=1, start=(2000, 0), nper=8, pyr=4, spec=spec) "
   ]
  },
  {
   "cell_type": "code",
   "execution_count": 22,
   "metadata": {
    "collapsed": false
   },
   "outputs": [
    {
     "data": {
      "text/plain": [
       "      Qtr0  Qtr1  Qtr2  Qtr3\n",
       "2000  1.00  1.00  1.00 10.00\n",
       "2001  1.00  1.00  1.00  1.00"
      ]
     },
     "execution_count": 22,
     "metadata": {},
     "output_type": "execute_result"
    }
   ],
   "source": [
    "cf.cashflow(const_value=1, start=(2000, 0), nper=8, pyr=4, spec=((2000, 3), 10))"
   ]
  },
  {
   "cell_type": "code",
   "execution_count": 23,
   "metadata": {
    "collapsed": false
   },
   "outputs": [
    {
     "data": {
      "text/plain": [
       "      Qtr0  Qtr1  Qtr2  Qtr3\n",
       "2000  1.00  1.00  1.00 10.00\n",
       "2001  1.00  1.00  1.00 10.00"
      ]
     },
     "execution_count": 23,
     "metadata": {},
     "output_type": "execute_result"
    }
   ],
   "source": [
    "spec = [((2000, 3), 10), ((2001, 3), 10)]\n",
    "cf.cashflow(const_value=1, start=(2000, 0), nper=8, pyr=4, spec=spec) "
   ]
  },
  {
   "cell_type": "code",
   "execution_count": 24,
   "metadata": {
    "collapsed": false
   },
   "outputs": [
    {
     "data": {
      "text/plain": [
       "      Qtr0  Qtr1  Qtr2  Qtr3\n",
       "2000  1.00  1.00  1.00 10.00\n",
       "2001  1.00  1.00  1.00  1.00"
      ]
     },
     "execution_count": 24,
     "metadata": {},
     "output_type": "execute_result"
    }
   ],
   "source": [
    "spec = (3, 10)\n",
    "cf.cashflow(const_value=1, start=(2000, 0), nper=8, pyr=4, spec=spec) "
   ]
  },
  {
   "cell_type": "code",
   "execution_count": 25,
   "metadata": {
    "collapsed": false
   },
   "outputs": [
    {
     "data": {
      "text/plain": [
       "      Qtr0  Qtr1  Qtr2  Qtr3\n",
       "2000  1.00  1.00  1.00 10.00\n",
       "2001  1.00  1.00  1.00  1.00"
      ]
     },
     "execution_count": 25,
     "metadata": {},
     "output_type": "execute_result"
    }
   ],
   "source": [
    "cf.cashflow(const_value=1, start=(2000, 0), nper=8, pyr=4, spec=(3, 10)) "
   ]
  },
  {
   "cell_type": "code",
   "execution_count": 26,
   "metadata": {
    "collapsed": false
   },
   "outputs": [
    {
     "data": {
      "text/plain": [
       "      Qtr0  Qtr1  Qtr2  Qtr3\n",
       "2000  1.00  1.00  1.00 10.00\n",
       "2001  1.00  1.00  1.00 10.00"
      ]
     },
     "execution_count": 26,
     "metadata": {},
     "output_type": "execute_result"
    }
   ],
   "source": [
    "spec = [(3, 10), (7, 10)]\n",
    "cf.cashflow(const_value=1, start=(2000, 0), nper=8, pyr=4, spec=spec) "
   ]
  },
  {
   "cell_type": "code",
   "execution_count": 27,
   "metadata": {
    "collapsed": false
   },
   "outputs": [
    {
     "data": {
      "text/plain": [
       "   Qtr0  Qtr1  Qtr2  Qtr3\n",
       "0 10.00 10.00 10.00 10.00\n",
       "1 10.00 10.00 10.00 10.00\n",
       "2 10.00 10.00"
      ]
     },
     "execution_count": 27,
     "metadata": {},
     "output_type": "execute_result"
    }
   ],
   "source": [
    "cf.cashflow(const_value=[10]*10, pyr=4) "
   ]
  },
  {
   "cell_type": "code",
   "execution_count": 28,
   "metadata": {
    "collapsed": false
   },
   "outputs": [
    {
     "data": {
      "text/plain": [
       "Time Series:\n",
       "Start = (0,)\n",
       "End = (3,)\n",
       "pyr = 1\n",
       "Data = (0,)-(3,) [4] -10.00 "
      ]
     },
     "execution_count": 28,
     "metadata": {},
     "output_type": "execute_result"
    }
   ],
   "source": [
    "cf.cashflow(const_value=[-10]*4) "
   ]
  },
  {
   "cell_type": "code",
   "execution_count": 29,
   "metadata": {
    "collapsed": false
   },
   "outputs": [
    {
     "data": {
      "text/plain": [
       "   Qtr0  Qtr1  Qtr2  Qtr3\n",
       "0  0.00  1.00  2.00 10.00"
      ]
     },
     "execution_count": 29,
     "metadata": {},
     "output_type": "execute_result"
    }
   ],
   "source": [
    "## un flujo de caja es un objeto que puede guardarse \n",
    "## en una variable para usarse después\n",
    "x = cf.cashflow(const_value=[0, 1, 2, 3], pyr=4)\n",
    "x[3] = 10\n",
    "x  "
   ]
  },
  {
   "cell_type": "code",
   "execution_count": 30,
   "metadata": {
    "collapsed": false
   },
   "outputs": [
    {
     "data": {
      "text/plain": [
       "10"
      ]
     },
     "execution_count": 30,
     "metadata": {},
     "output_type": "execute_result"
    }
   ],
   "source": [
    "## es posible alterar y acceder a valores individuales \n",
    "## para cada periodo de tiempo usando []\n",
    "x[3]"
   ]
  },
  {
   "cell_type": "code",
   "execution_count": 31,
   "metadata": {
    "collapsed": true
   },
   "outputs": [],
   "source": [
    "x[(0, 3)] = 0"
   ]
  },
  {
   "cell_type": "code",
   "execution_count": 32,
   "metadata": {
    "collapsed": false
   },
   "outputs": [
    {
     "data": {
      "text/plain": [
       "  Qtr0 Qtr1 Qtr2 Qtr3\n",
       "0 0.00 1.00 2.00 0.00"
      ]
     },
     "execution_count": 32,
     "metadata": {},
     "output_type": "execute_result"
    }
   ],
   "source": [
    "x"
   ]
  },
  {
   "cell_type": "code",
   "execution_count": 33,
   "metadata": {
    "collapsed": false
   },
   "outputs": [
    {
     "data": {
      "text/plain": [
       "2"
      ]
     },
     "execution_count": 33,
     "metadata": {},
     "output_type": "execute_result"
    }
   ],
   "source": [
    "x[(0,2)]  "
   ]
  },
  {
   "cell_type": "code",
   "execution_count": 34,
   "metadata": {
    "collapsed": false
   },
   "outputs": [
    {
     "data": {
      "text/plain": [
       "   Qtr0  Qtr1  Qtr2  Qtr3\n",
       "0 10.00 10.00 10.00 10.00"
      ]
     },
     "execution_count": 34,
     "metadata": {},
     "output_type": "execute_result"
    }
   ],
   "source": [
    "abs(cf.cashflow(const_value=[-10]*4, pyr=4)) "
   ]
  },
  {
   "cell_type": "code",
   "execution_count": 35,
   "metadata": {
    "collapsed": false
   },
   "outputs": [
    {
     "data": {
      "text/plain": [
       "  Qtr0 Qtr1 Qtr2 Qtr3\n",
       "0 3.00 3.00 3.00 3.00"
      ]
     },
     "execution_count": 35,
     "metadata": {},
     "output_type": "execute_result"
    }
   ],
   "source": [
    "cf.cashflow(const_value=[1]*4, pyr=4) + cf.cashflow(const_value=[2]*4, pyr=4)"
   ]
  },
  {
   "cell_type": "code",
   "execution_count": 36,
   "metadata": {
    "collapsed": false
   },
   "outputs": [
    {
     "data": {
      "text/plain": [
       "  Qtr0 Qtr1 Qtr2 Qtr3\n",
       "0 1.00 1.00 1.00 1.00"
      ]
     },
     "execution_count": 36,
     "metadata": {},
     "output_type": "execute_result"
    }
   ],
   "source": [
    "cf.cashflow(const_value=[6]*4, pyr=4) // cf.cashflow(const_value=[4]*4, pyr=4) "
   ]
  },
  {
   "cell_type": "code",
   "execution_count": 37,
   "metadata": {
    "collapsed": false
   },
   "outputs": [
    {
     "data": {
      "text/plain": [
       "  Qtr0 Qtr1 Qtr2 Qtr3\n",
       "0 5.00 5.00 5.00 5.00"
      ]
     },
     "execution_count": 37,
     "metadata": {},
     "output_type": "execute_result"
    }
   ],
   "source": [
    "x = cf.cashflow( const_value=[2]*4, pyr=4)\n",
    "x += cf.cashflow( const_value=[3]*4, pyr=4)\n",
    "x "
   ]
  },
  {
   "cell_type": "code",
   "execution_count": 38,
   "metadata": {
    "collapsed": false
   },
   "outputs": [
    {
     "data": {
      "text/plain": [
       "  Qtr0 Qtr1 Qtr2 Qtr3\n",
       "0 1.00 1.00 1.00 1.00"
      ]
     },
     "execution_count": 38,
     "metadata": {},
     "output_type": "execute_result"
    }
   ],
   "source": [
    "x = cf.cashflow( const_value=[6]*4, pyr=4)\n",
    "x //= cf.cashflow( const_value=[4]*4, pyr=4)\n",
    "x"
   ]
  },
  {
   "cell_type": "code",
   "execution_count": 39,
   "metadata": {
    "collapsed": false
   },
   "outputs": [
    {
     "data": {
      "text/plain": [
       "  Qtr0 Qtr1 Qtr2 Qtr3\n",
       "0 6.00 6.00 6.00 6.00"
      ]
     },
     "execution_count": 39,
     "metadata": {},
     "output_type": "execute_result"
    }
   ],
   "source": [
    "x = cf.cashflow( const_value=[2]*4, pyr=4)\n",
    "x *= cf.cashflow( const_value=[3]*4, pyr=4)\n",
    "x "
   ]
  },
  {
   "cell_type": "code",
   "execution_count": 40,
   "metadata": {
    "collapsed": false
   },
   "outputs": [
    {
     "data": {
      "text/plain": [
       "  Qtr0 Qtr1 Qtr2 Qtr3\n",
       "0 2.00 2.00 2.00 2.00"
      ]
     },
     "execution_count": 40,
     "metadata": {},
     "output_type": "execute_result"
    }
   ],
   "source": [
    "x = cf.cashflow( const_value=[6]*4, pyr=4)\n",
    "x -= cf.cashflow( const_value=[4]*4, pyr=4)\n",
    "x"
   ]
  },
  {
   "cell_type": "code",
   "execution_count": 41,
   "metadata": {
    "collapsed": false
   },
   "outputs": [
    {
     "data": {
      "text/plain": [
       "  Qtr0 Qtr1 Qtr2 Qtr3\n",
       "0 6.00 6.00 6.00 6.00"
      ]
     },
     "execution_count": 41,
     "metadata": {},
     "output_type": "execute_result"
    }
   ],
   "source": [
    "cf.cashflow( const_value=[2]*4, pyr=4) * cf.cashflow( const_value=[3]*4, pyr=4)"
   ]
  },
  {
   "cell_type": "code",
   "execution_count": 42,
   "metadata": {
    "collapsed": false
   },
   "outputs": [
    {
     "data": {
      "text/plain": [
       "  Qtr0 Qtr1 Qtr2 Qtr3\n",
       "0 2.00 2.00 2.00 2.00"
      ]
     },
     "execution_count": 42,
     "metadata": {},
     "output_type": "execute_result"
    }
   ],
   "source": [
    "cf.cashflow( const_value=[6]*4, pyr=4) - cf.cashflow( const_value=[4]*4, pyr=4)"
   ]
  },
  {
   "cell_type": "code",
   "execution_count": 43,
   "metadata": {
    "collapsed": false
   },
   "outputs": [
    {
     "data": {
      "text/plain": [
       "[6, 6, 6, 6]"
      ]
     },
     "execution_count": 43,
     "metadata": {},
     "output_type": "execute_result"
    }
   ],
   "source": [
    "cf.cashflow( const_value=[6]*4, pyr=4).tolist()"
   ]
  },
  {
   "cell_type": "code",
   "execution_count": 44,
   "metadata": {
    "collapsed": false,
    "scrolled": true
   },
   "outputs": [
    {
     "name": "stdout",
     "output_type": "stream",
     "text": [
      "time    value +------------------+------------------+\n",
      "(0, 0) -10.00           **********\n",
      "(0, 1)   5.00                    *****\n",
      "(0, 2)   0.00                    *\n",
      "(0, 3)  20.00                    ********************\n",
      "(1, 0) -10.00           **********\n",
      "(1, 1)   5.00                    *****\n",
      "(1, 2)   0.00                    *\n",
      "(1, 3)  20.00                    ********************\n",
      "(2, 0) -10.00           **********\n",
      "(2, 1)   5.00                    *****\n",
      "(2, 2)   0.00                    *\n",
      "(2, 3)  20.00                    ********************\n"
     ]
    }
   ],
   "source": [
    "cflo = cf.cashflow(const_value=[-10, 5, 0, 20] * 3, pyr=4)\n",
    "cf.cfloplot(cflo)"
   ]
  },
  {
   "cell_type": "code",
   "execution_count": null,
   "metadata": {
    "collapsed": true
   },
   "outputs": [],
   "source": []
  },
  {
   "cell_type": "markdown",
   "metadata": {},
   "source": [
    "En algunos casos es necesario introducir patrones de flujo más complejos. "
   ]
  },
  {
   "cell_type": "code",
   "execution_count": 45,
   "metadata": {
    "collapsed": false
   },
   "outputs": [
    {
     "data": {
      "text/plain": [
       "Time Series:\n",
       "Start = (0,)\n",
       "End = (8,)\n",
       "pyr = 1\n",
       "Data = (0,)          0.00 \n",
       "       (1,)          1.00 \n",
       "       (2,)-(3,) [2] 2.00 \n",
       "       (3,)          5.00 \n",
       "       (4,)          6.00 \n",
       "       (5,)          7.00 \n",
       "       (6,)          8.00 "
      ]
     },
     "execution_count": 45,
     "metadata": {},
     "output_type": "execute_result"
    }
   ],
   "source": [
    "cf.cashflow(const_value=[0, 1, 2, 2, 4, 5, 6, 7, 8])"
   ]
  },
  {
   "cell_type": "code",
   "execution_count": 46,
   "metadata": {
    "collapsed": false
   },
   "outputs": [
    {
     "data": {
      "text/plain": [
       "Time Series:\n",
       "Start = (0,)\n",
       "End = (14,)\n",
       "pyr = 1\n",
       "Data = (0,)-(4,)  [5]   0.00 \n",
       "       (4,)-(7,)  [4] 100.00 \n",
       "       (7,)-(10,) [4]   0.00 "
      ]
     },
     "execution_count": 46,
     "metadata": {},
     "output_type": "execute_result"
    }
   ],
   "source": [
    "## para  5 <= t < 10, el valor es $ 100, y 0 en el resto de los casos\n",
    "cf.cashflow(const_value=0, nper=15, pyr=1, spec=[(t,100) for t in range(5,10)]) "
   ]
  },
  {
   "cell_type": "code",
   "execution_count": 47,
   "metadata": {
    "collapsed": false
   },
   "outputs": [
    {
     "data": {
      "text/plain": [
       "Time Series:\n",
       "Start = (0,)\n",
       "End = (19,)\n",
       "pyr = 1\n",
       "Data = (0,)             0.00 \n",
       "       (1,)-(4,)  [4] 100.00 \n",
       "       (4,)-(7,)  [4] 150.00 \n",
       "       (7,)-(8,)  [2] 200.00 \n",
       "       (8,)-(13,) [6]   0.00 "
      ]
     },
     "execution_count": 47,
     "metadata": {},
     "output_type": "execute_result"
    }
   ],
   "source": [
    "## un flujo escalonado\n",
    "a = [(t, 100) for t in range( 1,  5)]\n",
    "b = [(t, 150) for t in range( 6, 10)]\n",
    "c = [(t, 200) for t in range(11, 13)]\n",
    "cf.cashflow(const_value=0, nper=20, pyr=1, spec=a + b + c)"
   ]
  },
  {
   "cell_type": "code",
   "execution_count": 48,
   "metadata": {
    "collapsed": false
   },
   "outputs": [
    {
     "data": {
      "text/plain": [
       "Time Series:\n",
       "Start = (0,)\n",
       "End = (19,)\n",
       "pyr = 1\n",
       "Data = (0,)-(4,)  [5]    0.00 \n",
       "       (4,)            105.00 \n",
       "       (5,)            110.25 \n",
       "       (6,)            115.76 \n",
       "       (7,)            121.55 \n",
       "       (8,)-(17,) [10]   0.00 "
      ]
     },
     "execution_count": 48,
     "metadata": {},
     "output_type": "execute_result"
    }
   ],
   "source": [
    "## flujo con gradiente geométrico (aumento del 5% por periodo)\n",
    "cf.cashflow(const_value=0, nper=20, pyr=1, spec=[(t, 100 * 1.05 ** (t-5)) for t in range(5,10)])"
   ]
  },
  {
   "cell_type": "markdown",
   "metadata": {},
   "source": [
    "---"
   ]
  },
  {
   "cell_type": "markdown",
   "metadata": {},
   "source": [
    "[Contenido](#Contenido)"
   ]
  }
 ],
 "metadata": {
  "kernelspec": {
   "display_name": "Python [default]",
   "language": "python",
   "name": "python3"
  },
  "language_info": {
   "codemirror_mode": {
    "name": "ipython",
    "version": 3
   },
   "file_extension": ".py",
   "mimetype": "text/x-python",
   "name": "python",
   "nbconvert_exporter": "python",
   "pygments_lexer": "ipython3",
   "version": "3.5.2"
  }
 },
 "nbformat": 4,
 "nbformat_minor": 0
}
