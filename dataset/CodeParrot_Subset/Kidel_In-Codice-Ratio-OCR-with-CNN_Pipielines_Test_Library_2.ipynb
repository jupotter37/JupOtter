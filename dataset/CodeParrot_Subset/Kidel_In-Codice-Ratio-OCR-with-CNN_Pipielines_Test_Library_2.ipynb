{
 "cells": [
  {
   "cell_type": "markdown",
   "metadata": {},
   "source": [
    "# Pipelines Test Library Notebook"
   ]
  },
  {
   "cell_type": "markdown",
   "metadata": {},
   "source": [
    "# Imports"
   ]
  },
  {
   "cell_type": "code",
   "execution_count": 1,
   "metadata": {
    "collapsed": false
   },
   "outputs": [
    {
     "name": "stderr",
     "output_type": "stream",
     "text": [
      "Using TensorFlow backend.\n"
     ]
    }
   ],
   "source": [
    "# Import piplines\n",
    "\n",
    "from binary_nets import binary_nets_wrapper # this is actually pipeline1\n",
    "from pipeline2 import pipeline2\n",
    "from pipeline3 import pipeline3\n",
    "from pipeline4 import pipeline4\n",
    "\n",
    "from ensemble_builder import ensemble_builder\n",
    "\n",
    "import image_utils as iu\n",
    "\n",
    "#Import datasets\n",
    "import dataset_generator as dataset\n",
    "\n",
    "from time import time\n",
    "import os\n",
    "import numpy as np"
   ]
  },
  {
   "cell_type": "markdown",
   "metadata": {},
   "source": [
    "# Data Load"
   ]
  },
  {
   "cell_type": "code",
   "execution_count": 2,
   "metadata": {
    "collapsed": false
   },
   "outputs": [
    {
     "name": "stdout",
     "output_type": "stream",
     "text": [
      "Loaded dataset for all characters\n",
      "Loaded dataset for segmentator\n",
      "Loaded dataset for character a\n",
      "Loaded dataset for character c\n",
      "Loaded dataset for character d_mediana\n",
      "Loaded dataset for character e\n",
      "Loaded dataset for character i\n",
      "Loaded dataset for character m\n",
      "Loaded dataset for character n\n",
      "Loaded dataset for character o\n",
      "Loaded dataset for character r\n",
      "Loaded dataset for character s_mediana\n",
      "Loaded dataset for character t\n",
      "Loaded dataset for character u\n",
      "Loaded dataset for character d_alta\n",
      "Loaded dataset for character s_alta\n",
      "Loaded dataset for character b\n",
      "Loaded dataset for character f\n",
      "Loaded dataset for character h\n",
      "Loaded dataset for character l\n",
      "Loaded dataset for character g\n",
      "Loaded dataset for character p\n",
      "Loaded dataset for character q\n",
      "Loaded dataset for character s_bassa\n"
     ]
    }
   ],
   "source": [
    "(X_train_ocr, y_train_ocr, X_test_ocr, y_test_ocr, _) = dataset.generate_all_chars_with_class(verbose=0, plot=False)\n",
    "print(\"Loaded dataset for all characters\")\n",
    "\n",
    "(X_train_cut, y_train_cut, X_test_cut, y_test_cut) = dataset.generate_dataset_for_segmentator(verbose=0, plot=False)\n",
    "print(\"Loaded dataset for segmentator\")\n",
    "\n",
    "X_train_char = {}\n",
    "y_train_char = {}\n",
    "X_test_char = {}\n",
    "y_test_char = {}\n",
    "\n",
    "for char in dataset.ALPHABET_ALL:\n",
    "    (X_train_char[char], y_train_char[char], X_test_char[char], y_test_char[char]) = \\\n",
    "                                                    dataset.generate_positive_and_negative_labeled(char, verbose=0)\n",
    "    print(\"Loaded dataset for character \" + char)"
   ]
  },
  {
   "cell_type": "markdown",
   "metadata": {},
   "source": [
    "## Setting and training of the nets"
   ]
  },
  {
   "cell_type": "markdown",
   "metadata": {},
   "source": [
    "## Cut classifier"
   ]
  },
  {
   "cell_type": "code",
   "execution_count": 3,
   "metadata": {
    "collapsed": false
   },
   "outputs": [],
   "source": [
    "path_cut_classifier = \"checkpoints/letter_not_letter\"\n",
    "\n",
    "cut_class = ensemble_builder(2, 800, number_of_nets=2,\\\n",
    "                 path=path_cut_classifier, nb_filters1=50, nb_filters2=100,\\\n",
    "                 dense_layer_size1=250)\n",
    "\n",
    "#cut_class.fit(X_train_cut, y_train_cut, X_test_cut, y_test_cut, forceRetrain=True)"
   ]
  },
  {
   "cell_type": "markdown",
   "metadata": {},
   "source": [
    "## Ocr classifier"
   ]
  },
  {
   "cell_type": "code",
   "execution_count": 4,
   "metadata": {
    "collapsed": false
   },
   "outputs": [],
   "source": [
    "path_ocr_class = \"checkpoints/09_22-classes\"\n",
    "\n",
    "ocr_classifier = ensemble_builder(22, 800, number_of_nets=2, path=path_ocr_class,\\\n",
    "            nb_filters1=50, nb_filters2=100, dense_layer_size1=250)\n",
    "\n",
    "#ocr_classifier.fit(X_train_ocr, y_train_ocr, X_test_ocr, y_test_ocr, forceRetrain=False)"
   ]
  },
  {
   "cell_type": "markdown",
   "metadata": {},
   "source": [
    "# Classification"
   ]
  },
  {
   "cell_type": "markdown",
   "metadata": {},
   "source": [
    "\n",
    "## Pipeline 2\n",
    "\n",
    "\n"
   ]
  },
  {
   "cell_type": "code",
   "execution_count": 5,
   "metadata": {
    "collapsed": false
   },
   "outputs": [],
   "source": [
    "pip2 = pipeline2(cut_class, ocr_classifier)\n",
    "\n",
    "asseras_good_cuts = iu.open_many_samples( \\\n",
    "                    [\"not_code/words/good_cuts/asseras/a1.png\",\n",
    "                     \"not_code/words/good_cuts/asseras/f1.png\",\n",
    "                     \"not_code/words/good_cuts/asseras/f2.png\",\n",
    "                     \"not_code/words/good_cuts/asseras/e.png\",\n",
    "                     \"not_code/words/good_cuts/asseras/r.png\",\n",
    "                     \"not_code/words/good_cuts/asseras/a2.png\",\n",
    "                     \"not_code/words/good_cuts/asseras/s.png\"])\n",
    "\n",
    "prediction_pip2 = pip2.predict(asseras_good_cuts)"
   ]
  },
  {
   "cell_type": "code",
   "execution_count": 6,
   "metadata": {
    "collapsed": false
   },
   "outputs": [
    {
     "data": {
      "text/plain": [
       "[(True, array([('a',   9.99758005e+01), ('o',   1.13711780e-02),\n",
       "         ('i',   7.22903933e-03)], \n",
       "        dtype=[('letters', '<U16'), ('grades', '<f8')])),\n",
       " (True,\n",
       "  array([('s_alta',  96.79138064), ('l',   3.00127901), ('f',   0.20640711)], \n",
       "        dtype=[('letters', '<U16'), ('grades', '<f8')])),\n",
       " (False, []),\n",
       " (True, array([('e',  98.46054316), ('c',   1.17276963), ('o',   0.17953472)], \n",
       "        dtype=[('letters', '<U16'), ('grades', '<f8')])),\n",
       " (True, array([('r',  95.26131153), ('e',   3.89830396), ('i',   0.29342179)], \n",
       "        dtype=[('letters', '<U16'), ('grades', '<f8')])),\n",
       " (True, array([('a',   9.99343634e+01), ('o',   2.17619818e-02),\n",
       "         ('i',   2.11800376e-02)], \n",
       "        dtype=[('letters', '<U16'), ('grades', '<f8')])),\n",
       " (True, array([('s_alta',   9.99579728e+01), ('f',   4.13175847e-02),\n",
       "         ('l',   7.13807640e-04)], \n",
       "        dtype=[('letters', '<U16'), ('grades', '<f8')]))]"
      ]
     },
     "execution_count": 6,
     "metadata": {},
     "output_type": "execute_result"
    }
   ],
   "source": [
    "prediction_pip2"
   ]
  },
  {
   "cell_type": "markdown",
   "metadata": {},
   "source": [
    "## OCR only"
   ]
  },
  {
   "cell_type": "code",
   "execution_count": 7,
   "metadata": {
    "collapsed": true
   },
   "outputs": [],
   "source": [
    "prediction_ocr = ocr_classifier.predict(asseras_good_cuts)"
   ]
  },
  {
   "cell_type": "code",
   "execution_count": 10,
   "metadata": {
    "collapsed": false
   },
   "outputs": [
    {
     "data": {
      "text/plain": [
       "array([[  9.99758005e-01,   8.25010318e-07,   7.22997555e-08,\n",
       "          1.27235296e-07,   7.22903933e-05,   1.33472123e-14,\n",
       "          6.79485890e-09,   1.13711780e-04,   8.05368472e-07,\n",
       "          1.28696684e-07,   2.46105574e-05,   2.37562775e-10,\n",
       "          8.82225066e-08,   6.82115653e-09,   9.23949894e-09,\n",
       "          1.31897477e-12,   3.61448788e-11,   3.64067958e-08,\n",
       "          4.31447278e-09,   1.28284536e-10,   2.94126148e-05,\n",
       "          1.29770239e-09],\n",
       "       [  2.80618909e-12,   2.19876980e-14,   2.45565625e-19,\n",
       "          2.26161407e-12,   4.87990383e-06,   4.85573276e-21,\n",
       "          9.10305729e-18,   5.44996245e-15,   2.00463431e-11,\n",
       "          1.18415737e-12,   3.26492375e-11,   5.52152742e-15,\n",
       "          5.33688653e-13,   9.67913806e-01,   3.48455160e-06,\n",
       "          2.06407113e-03,   8.03345586e-07,   3.00127901e-02,\n",
       "          5.42448438e-14,   3.09895581e-10,   9.27629154e-12,\n",
       "          1.02551965e-07],\n",
       "       [  1.24780253e-12,   8.26853499e-16,   2.19702440e-16,\n",
       "          4.40592929e-14,   1.49518387e-09,   2.37754877e-22,\n",
       "          2.93496000e-12,   1.15925234e-14,   2.74912537e-09,\n",
       "          3.71334612e-16,   5.67781499e-13,   6.46906167e-16,\n",
       "          2.17692592e-15,   4.66622472e-01,   3.09813186e-05,\n",
       "          5.16422806e-05,   2.79413634e-05,   5.33203423e-01,\n",
       "          1.80271502e-15,   5.41954432e-06,   3.30844182e-06,\n",
       "          5.47717646e-05],\n",
       "       [  1.97351328e-04,   1.17276963e-02,   4.43819488e-07,\n",
       "          9.84605432e-01,   5.90862706e-04,   1.86609412e-08,\n",
       "          4.01596225e-07,   1.79534720e-03,   1.84416655e-04,\n",
       "          4.46717240e-06,   8.82566150e-04,   1.03798379e-06,\n",
       "          1.15785133e-06,   2.10760891e-06,   1.21922639e-07,\n",
       "          2.69693086e-08,   1.79202893e-08,   1.82679486e-07,\n",
       "          2.94458630e-07,   1.21745160e-07,   3.19225677e-08,\n",
       "          5.97949338e-06],\n",
       "       [  2.40467815e-03,   3.87310924e-04,   1.41676992e-07,\n",
       "          3.89830396e-02,   2.93421792e-03,   1.82639270e-09,\n",
       "          2.67756914e-05,   1.09157227e-04,   9.52613115e-01,\n",
       "          1.99650259e-07,   1.72440356e-04,   2.35180929e-03,\n",
       "          3.08441798e-07,   8.88067575e-08,   5.79647804e-06,\n",
       "          1.98462180e-09,   2.68912203e-07,   5.95310121e-06,\n",
       "          6.30195771e-08,   9.97321536e-07,   5.64769778e-08,\n",
       "          3.69100144e-06],\n",
       "       [  9.99343634e-01,   1.66848821e-07,   1.30660374e-06,\n",
       "          1.56745937e-05,   2.11800376e-04,   1.10034104e-09,\n",
       "          5.28247183e-05,   2.17619818e-04,   1.10810970e-06,\n",
       "          2.22251265e-06,   1.09689550e-04,   2.88280535e-05,\n",
       "          4.19408991e-07,   2.22359901e-07,   4.44418674e-06,\n",
       "          6.64126754e-09,   7.61007044e-08,   4.61437793e-07,\n",
       "          1.60214270e-07,   2.96649816e-08,   8.40677512e-06,\n",
       "          8.55761868e-07],\n",
       "       [  4.47273928e-18,   1.03764524e-18,   2.32555670e-21,\n",
       "          1.70375189e-14,   1.42360134e-11,   4.61558837e-28,\n",
       "          1.11592986e-21,   6.70414118e-19,   3.85800807e-15,\n",
       "          2.60021009e-15,   1.40887153e-13,   7.56701949e-23,\n",
       "          1.60847952e-20,   9.99579728e-01,   1.60868964e-12,\n",
       "          4.13175847e-04,   4.49734271e-13,   7.13807640e-06,\n",
       "          2.20958057e-17,   6.33302369e-11,   1.10816606e-16,\n",
       "          1.07725417e-09]], dtype=float32)"
      ]
     },
     "execution_count": 10,
     "metadata": {},
     "output_type": "execute_result"
    }
   ],
   "source": [
    "prediction_ocr"
   ]
  },
  {
   "cell_type": "markdown",
   "metadata": {},
   "source": [
    "### Obtaining the ranking"
   ]
  },
  {
   "cell_type": "code",
   "execution_count": 8,
   "metadata": {
    "collapsed": false
   },
   "outputs": [],
   "source": [
    "prediction = []\n",
    "\n",
    "for i,_ in enumerate(asseras_good_cuts):\n",
    "    sorted_indexes = (-prediction_ocr[i]).argsort()[:3]\n",
    "    ranking = [(dataset.ALPHABET_ALL[j], prediction_ocr[i][j]*100) for j in sorted_indexes]\n",
    "    dt = np.dtype([('letters', np.str_, 16), ('grades', np.float64)])\n",
    "    ranking = np.array(ranking, dtype=dt)\n",
    "    prediction.append((True, ranking))"
   ]
  },
  {
   "cell_type": "code",
   "execution_count": 9,
   "metadata": {
    "collapsed": false
   },
   "outputs": [
    {
     "data": {
      "text/plain": [
       "[(True, array([('a',   9.99758005e+01), ('o',   1.13711780e-02),\n",
       "         ('i',   7.22903933e-03)], \n",
       "        dtype=[('letters', '<U16'), ('grades', '<f8')])),\n",
       " (True,\n",
       "  array([('s_alta',  96.79138064), ('l',   3.00127901), ('f',   0.20640711)], \n",
       "        dtype=[('letters', '<U16'), ('grades', '<f8')])),\n",
       " (True, array([('l',   5.33203423e+01), ('s_alta',   4.66622472e+01),\n",
       "         ('s_bassa',   5.47717646e-03)], \n",
       "        dtype=[('letters', '<U16'), ('grades', '<f8')])),\n",
       " (True, array([('e',  98.46054316), ('c',   1.17276963), ('o',   0.17953472)], \n",
       "        dtype=[('letters', '<U16'), ('grades', '<f8')])),\n",
       " (True, array([('r',  95.26131153), ('e',   3.89830396), ('i',   0.29342179)], \n",
       "        dtype=[('letters', '<U16'), ('grades', '<f8')])),\n",
       " (True, array([('a',   9.99343634e+01), ('o',   2.17619818e-02),\n",
       "         ('i',   2.11800376e-02)], \n",
       "        dtype=[('letters', '<U16'), ('grades', '<f8')])),\n",
       " (True, array([('s_alta',   9.99579728e+01), ('f',   4.13175847e-02),\n",
       "         ('l',   7.13807640e-04)], \n",
       "        dtype=[('letters', '<U16'), ('grades', '<f8')]))]"
      ]
     },
     "execution_count": 9,
     "metadata": {},
     "output_type": "execute_result"
    }
   ],
   "source": [
    "prediction"
   ]
  }
 ],
 "metadata": {
  "anaconda-cloud": {},
  "kernelspec": {
   "display_name": "Python [default]",
   "language": "python",
   "name": "python3"
  },
  "language_info": {
   "codemirror_mode": {
    "name": "ipython",
    "version": 3
   },
   "file_extension": ".py",
   "mimetype": "text/x-python",
   "name": "python",
   "nbconvert_exporter": "python",
   "pygments_lexer": "ipython3",
   "version": "3.5.2"
  }
 },
 "nbformat": 4,
 "nbformat_minor": 1
}
