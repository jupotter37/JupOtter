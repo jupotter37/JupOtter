{
 "cells": [
  {
   "cell_type": "code",
   "execution_count": 17,
   "metadata": {
    "collapsed": false
   },
   "outputs": [
    {
     "name": "stdout",
     "output_type": "stream",
     "text": [
      "The autoreload extension is already loaded. To reload it, use:\n",
      "  %reload_ext autoreload\n"
     ]
    }
   ],
   "source": [
    "top_directory = '/Users/iaincarmichael/Dropbox/Research/law/law-net/'\n",
    "\n",
    "from __future__ import division\n",
    "\n",
    "import os\n",
    "import sys\n",
    "import time\n",
    "from math import *\n",
    "import numpy as np\n",
    "import pandas as pd\n",
    "import matplotlib.pyplot as plt\n",
    "import igraph as ig\n",
    "import copy\n",
    "\n",
    "# our code\n",
    "sys.path.append(top_directory + 'code/')\n",
    "from load_data import load_and_clean_graph, case_info\n",
    "\n",
    "from make_snapshots import *\n",
    "from make_edge_df import *\n",
    "from attachment_model_inference import *\n",
    "from compute_ranking_metrics import *\n",
    "from pipeline_helper_functions import *\n",
    "\n",
    "\n",
    "# directory set up\n",
    "data_dir = top_directory + 'data/'\n",
    "experiment_data_dir = top_directory + 'explore/vertex_metrics_experiment/experiment_data/'\n",
    "\n",
    "court_name = 'scotus'\n",
    "\n",
    "# jupyter notebook settings\n",
    "%load_ext autoreload\n",
    "%autoreload 2\n",
    "%matplotlib inline"
   ]
  },
  {
   "cell_type": "code",
   "execution_count": 2,
   "metadata": {
    "collapsed": false
   },
   "outputs": [],
   "source": [
    "G = load_and_clean_graph(data_dir, court_name)"
   ]
  },
  {
   "cell_type": "markdown",
   "metadata": {},
   "source": [
    "# Make snapshots"
   ]
  },
  {
   "cell_type": "code",
   "execution_count": null,
   "metadata": {
    "collapsed": true
   },
   "outputs": [],
   "source": [
    "vertex_metrics = ['indegree', 's_pagerank']\n",
    "snapshot_year_list = np.array([year for year in range(1760, 2021) if year % 10 == 0])"
   ]
  },
  {
   "cell_type": "code",
   "execution_count": 9,
   "metadata": {
    "collapsed": false
   },
   "outputs": [
    {
     "name": "stdout",
     "output_type": "stream",
     "text": [
      "make_snapshot_vertex_metrics took 4 seconds\n"
     ]
    }
   ],
   "source": [
    "start = time.time()\n",
    "make_snapshot_vertex_metrics(G, snapshot_year_list, vertex_metrics,\n",
    "                                 experiment_data_dir)\n",
    "runtime = time.time() - start\n",
    "print 'make_snapshot_vertex_metrics took %d seconds' % runtime"
   ]
  },
  {
   "cell_type": "markdown",
   "metadata": {},
   "source": [
    "# make edge dataframe"
   ]
  },
  {
   "cell_type": "code",
   "execution_count": 11,
   "metadata": {
    "collapsed": true
   },
   "outputs": [],
   "source": [
    "num_non_edges_to_add = len(G.es())\n",
    "seed_edgedf = 432"
   ]
  },
  {
   "cell_type": "code",
   "execution_count": 22,
   "metadata": {
    "collapsed": false
   },
   "outputs": [
    {
     "name": "stdout",
     "output_type": "stream",
     "text": [
      "make_edge_df took 474 seconds\n"
     ]
    }
   ],
   "source": [
    "start = time.time()\n",
    "make_edge_df(G, experiment_data_dir, snapshot_year_list,\n",
    "              num_non_edges_to_add, columns_to_use, seed=seed_edgedf)\n",
    "runtime = time.time() - start\n",
    "print 'make_edge_df took %d seconds' % runtime"
   ]
  },
  {
   "cell_type": "markdown",
   "metadata": {},
   "source": [
    "# run inference"
   ]
  },
  {
   "cell_type": "code",
   "execution_count": 24,
   "metadata": {
    "collapsed": false
   },
   "outputs": [
    {
     "name": "stdout",
     "output_type": "stream",
     "text": [
      "make_edge_df took 2 seconds\n"
     ]
    }
   ],
   "source": [
    "start = time.time()\n",
    "LogReg = fit_logistic_regression(experiment_data_dir, columns_to_use)\n",
    "runtime = time.time() - start\n",
    "print 'make_edge_df took %d seconds' % runtime"
   ]
  },
  {
   "cell_type": "markdown",
   "metadata": {},
   "source": [
    "# compute ranking metrics"
   ]
  },
  {
   "cell_type": "code",
   "execution_count": 29,
   "metadata": {
    "collapsed": true
   },
   "outputs": [],
   "source": [
    "columns_to_use = ['indegree', 's_pagerank', 'age', 'similarity']\n",
    "R = 100\n",
    "\n",
    "seed_ranking = 654242"
   ]
  },
  {
   "cell_type": "code",
   "execution_count": 33,
   "metadata": {
    "collapsed": false
   },
   "outputs": [
    {
     "name": "stdout",
     "output_type": "stream",
     "text": [
      "compute_ranking_metrics took 20 seconds for 100 test cases (0.203)\n"
     ]
    }
   ],
   "source": [
    "start = time.time()\n",
    "test_case_rank_scores = compute_ranking_metrics(G,\n",
    "                                                LogReg,\n",
    "                                                columns_to_use,\n",
    "                                                experiment_data_dir,\n",
    "                                                snapshot_year_list,\n",
    "                                                R,\n",
    "                                                seed=seed_ranking)\n",
    "runtime = time.time() - start \n",
    "print 'compute_ranking_metrics took %d seconds for %d test cases (%1.3f)' % (runtime, R, runtime/R)"
   ]
  },
  {
   "cell_type": "code",
   "execution_count": null,
   "metadata": {
    "collapsed": true
   },
   "outputs": [],
   "source": []
  }
 ],
 "metadata": {
  "kernelspec": {
   "display_name": "Python 2",
   "language": "python",
   "name": "python2"
  },
  "language_info": {
   "codemirror_mode": {
    "name": "ipython",
    "version": 2
   },
   "file_extension": ".py",
   "mimetype": "text/x-python",
   "name": "python",
   "nbconvert_exporter": "python",
   "pygments_lexer": "ipython2",
   "version": "2.7.12"
  }
 },
 "nbformat": 4,
 "nbformat_minor": 0
}
