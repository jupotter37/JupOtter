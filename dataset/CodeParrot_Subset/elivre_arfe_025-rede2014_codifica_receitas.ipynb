{
 "cells": [
  {
   "cell_type": "markdown",
   "metadata": {},
   "source": [
    "# 025-rede_codifica_receitas"
   ]
  },
  {
   "cell_type": "code",
   "execution_count": 1,
   "metadata": {},
   "outputs": [],
   "source": [
    "ano_eleicao = '2014'"
   ]
  },
  {
   "cell_type": "code",
   "execution_count": 2,
   "metadata": {},
   "outputs": [],
   "source": [
    "dbschema = f'rede{ano_eleicao}'\n",
    "table_receitas = f'{dbschema}.receitas_{ano_eleicao}'\n",
    "table_origem_receitas = f'{dbschema}.origem_receitas_{ano_eleicao}'\n",
    "table_fonte_receitas = f'{dbschema}.fonte_receitas_{ano_eleicao}'\n",
    "table_municipios = f\"{dbschema}.municipios_{ano_eleicao}\"\n",
    "table_partidos = f'{dbschema}.partidos_{ano_eleicao}'"
   ]
  },
  {
   "cell_type": "code",
   "execution_count": 3,
   "metadata": {},
   "outputs": [],
   "source": [
    "import os\n",
    "import sys\n",
    "sys.path.append('../')\n",
    "import mod_tse as mtse\n",
    "home = os.environ[\"HOME\"]"
   ]
  },
  {
   "cell_type": "code",
   "execution_count": 4,
   "metadata": {},
   "outputs": [],
   "source": [
    "mtse.execute_query(f'CREATE SCHEMA IF NOT EXISTS {dbschema};')"
   ]
  },
  {
   "cell_type": "markdown",
   "metadata": {},
   "source": [
    "# ATENÇÂO "
   ]
  },
  {
   "cell_type": "code",
   "execution_count": 2,
   "metadata": {},
   "outputs": [
    {
     "ename": "SyntaxError",
     "evalue": "invalid syntax (<ipython-input-2-27e3207f851a>, line 1)",
     "output_type": "error",
     "traceback": [
      "\u001b[0;36m  File \u001b[0;32m\"<ipython-input-2-27e3207f851a>\"\u001b[0;36m, line \u001b[0;32m1\u001b[0m\n\u001b[0;31m    atualizar receptor_cargo_ds (vice s suplentee 2014?????\u001b[0m\n\u001b[0m                              ^\u001b[0m\n\u001b[0;31mSyntaxError\u001b[0m\u001b[0;31m:\u001b[0m invalid syntax\n"
     ]
    }
   ],
   "source": [
    "atualizar receptor_cargo_ds (vice s suplentee 2014?????"
   ]
  },
  {
   "cell_type": "markdown",
   "metadata": {},
   "source": [
    "## CODIFICA DESCRIÇÃO, CÓDIGO E SIGLA DA ORIGEM DA RECEITA"
   ]
  },
  {
   "cell_type": "code",
   "execution_count": 5,
   "metadata": {},
   "outputs": [],
   "source": [
    "query_update_origem_receita = f\"\"\"\n",
    "update {table_receitas} as r\n",
    "    set receita_origem_sg = o.sg_origem_receita,\n",
    "        receita_origem_cd = o.cd_origem_receita,\n",
    "        receita_origem_ds = o.ds_origem_receita\n",
    "from {table_origem_receitas} as o\n",
    "where \n",
    "(\n",
    "    r.receita_origem_cd not in ('#NULO#','#NULO','#NE','') \n",
    "    and\n",
    "    r.receita_origem_sg in ('#NULO#','#NULO','#NE','') \n",
    "    and\n",
    "    upper(r.receita_origem_cd) = upper(o.cd_origem_receita)\n",
    ")\n",
    "or \n",
    "(    \n",
    "    r.receita_origem_ds    not in ('#NULO#','#NULO','#NE','') \n",
    "    and\n",
    "    upper(r.receita_origem_cd) in ('#NULO#','#NULO','#NE','') \n",
    "    and\n",
    "    upper(r.receita_origem_ds) = upper(o.tx_origem_receita)\n",
    ")\n",
    ";\n",
    "\"\"\"\n",
    "\n",
    "mtse.execute_query(query_update_origem_receita)"
   ]
  },
  {
   "cell_type": "markdown",
   "metadata": {},
   "source": [
    "## CODIFICA DESCRIÇÃO E CÓDIGO DA FONTE DA RECEITA"
   ]
  },
  {
   "cell_type": "code",
   "execution_count": 6,
   "metadata": {},
   "outputs": [],
   "source": [
    "query_update_fonte_receita = f\"\"\"\n",
    "update {table_receitas} as r\n",
    "    set receita_fonte_cd = f.cd_fonte_receita,\n",
    "        receita_fonte_ds = f.ds_fonte_receita\n",
    "from {table_fonte_receitas} as f\n",
    "where \n",
    "(\n",
    "    r.receita_fonte_cd  not in ('#NULO#','#NULO','#NE','') \n",
    "    and\n",
    "    r.receita_fonte_ds  in ('#NULO#','#NULO','#NE','')\n",
    "    and\n",
    "    upper(r.receita_fonte_cd) = upper(f.cd_fonte_receita)\n",
    ")\n",
    "or\n",
    "(\n",
    "    receita_fonte_ds not in ('#NULO#','#NULO','#NE','') \n",
    "    and\n",
    "    receita_fonte_cd in ('#NULO#','#NULO','#NE','') \n",
    "    and\n",
    "    upper(r.receita_fonte_ds) = upper(f.tx_fonte_receita)\n",
    ")\n",
    ";\n",
    "\"\"\"\n",
    "\n",
    "mtse.execute_query(query_update_fonte_receita)"
   ]
  },
  {
   "cell_type": "markdown",
   "metadata": {},
   "source": [
    "## CODIFICA UF E MUNICÍPIO DO DOADOR "
   ]
  },
  {
   "cell_type": "code",
   "execution_count": 7,
   "metadata": {},
   "outputs": [],
   "source": [
    "siglas_ue = mtse.get_federacao_siglas_ue()\n",
    "\n",
    "query_update_uf_ue_doador = f\"\"\"\n",
    "update {table_receitas} as r\n",
    "    set doador_uf      = m.sg_uf,\n",
    "        doador_ue_nome = m.nm_municipio,\n",
    "        doador_ue      = m.cd_municipio\n",
    "from {table_municipios} as m\n",
    "where \n",
    "    (\n",
    "        doador_ue not in ('#NULO#','#NULO','#NE','') \n",
    "        and \n",
    "        doador_ue = m.cd_municipio \n",
    "        and \n",
    "        doador_ue_nome in ('#NULO#','#NULO','#NE','') \n",
    "    )\n",
    "    or\n",
    "    (\n",
    "        doador_ue_nome not  in ('#NULO#','#NULO','#NE','')  \n",
    "        and \n",
    "        upper(doador_ue_nome) = upper(m.nm_municipio) \n",
    "        and \n",
    "        doador_ue in ('#NULO#','#NULO','#NE','') \n",
    "    )\n",
    ";\n",
    "\n",
    "update {table_receitas} as r\n",
    "    set doador_uf      = doador_ue,\n",
    "        doador_ue_nome = doador_ue\n",
    "where\n",
    "    doador_uf in ('#NULO#','#NULO','#NE','','-1')\n",
    "    and \n",
    "    doador_ue in ({siglas_ue})\n",
    ";   \n",
    "\n",
    "\"\"\"\n",
    "\n",
    "mtse.execute_query(query_update_uf_ue_doador)"
   ]
  },
  {
   "cell_type": "code",
   "execution_count": null,
   "metadata": {},
   "outputs": [],
   "source": []
  },
  {
   "cell_type": "markdown",
   "metadata": {},
   "source": [
    "## CODIFICA UF E MUNICÍPIO DO RECEPTOR"
   ]
  },
  {
   "cell_type": "code",
   "execution_count": 8,
   "metadata": {},
   "outputs": [],
   "source": [
    "siglas_ue = mtse.get_federacao_siglas_ue()\n",
    "\n",
    "query_update_uf_ue_receptor = f\"\"\"\n",
    "update {table_receitas} as r\n",
    "    set receptor_uf      = m.sg_uf,\n",
    "        receptor_ue_nome = m.nm_municipio,\n",
    "        receptor_ue      = m.cd_municipio\n",
    "from {table_municipios} as m\n",
    "where \n",
    "    (\n",
    "        receptor_ue not in  ('#NULO#','#NULO','#NE','') \n",
    "        and \n",
    "        receptor_ue = m.cd_municipio \n",
    "        and \n",
    "        receptor_ue_nome in ('#NULO#','#NULO','#NE','')  \n",
    "    )\n",
    "    or\n",
    "    (\n",
    "        receptor_ue_nome not  in ('#NULO#','#NULO','#NE','')  \n",
    "        and \n",
    "        upper(receptor_ue_nome) = upper(m.nm_municipio) \n",
    "        and \n",
    "        receptor_ue in  ('#NULO#','#NULO','#NE','') \n",
    "    )\n",
    ";\n",
    "\n",
    "update {table_receitas} as r\n",
    "    set receptor_uf = receptor_ue,\n",
    "        receptor_ue_nome = receptor_ue\n",
    "where\n",
    "    receptor_uf in ('#NULO#','#NULO','#NE','','-1')\n",
    "    and \n",
    "    receptor_ue in ({siglas_ue})\n",
    ";   \n",
    "\n",
    "\"\"\"\n",
    "\n",
    "mtse.execute_query(query_update_uf_ue_receptor)"
   ]
  },
  {
   "cell_type": "markdown",
   "metadata": {},
   "source": [
    "## CODIFICA SIGLA/NUMERO DO PARTIDO DO DOADOR "
   ]
  },
  {
   "cell_type": "code",
   "execution_count": 9,
   "metadata": {},
   "outputs": [],
   "source": [
    "query_update_doador_partido_sg = f\"\"\"\n",
    "\n",
    "update {table_receitas} \n",
    "    set \n",
    "        doador_partido_sg   = sg_partido,\n",
    "        doador_partido_nr   = nr_partido        \n",
    "from {table_partidos} \n",
    "where \n",
    "    (\n",
    "        doador_partido_sg not in ('#NULO#','#NULO','#NE','') \n",
    "        and\n",
    "        upper(doador_partido_sg) = upper(sg_partido)\n",
    "        and\n",
    "        doador_partido_nr in  ('#NULO#','#NULO','#NE','') \n",
    "    )\n",
    "    or\n",
    "    (\n",
    "        doador_partido_nr not in ('#NULO#','#NULO','#NE','')  \n",
    "        and\n",
    "        upper(doador_partido_nr) = upper(nr_partido)\n",
    "        and\n",
    "        doador_partido_sg in  ('#NULO#','#NULO','#NE','')  \n",
    "    )\n",
    "    or\n",
    "    (\n",
    "        doador_nome_rfb not in ('#NULO#','#NULO','#NE','') \n",
    "        and\n",
    "        receita_origem_sg ='RPP'\n",
    "        and \n",
    "        (\n",
    "            upper(doador_nome_rfb) like '%'||upper(nm_partido)||'%' \n",
    "            or\n",
    "            upper(doador_nome_rfb) like '%'||upper(sg_partido)||'%' \n",
    "        ) \n",
    "    )\n",
    ";\n",
    "\"\"\"\n",
    "\n",
    "mtse.execute_query(query_update_doador_partido_sg)"
   ]
  },
  {
   "cell_type": "markdown",
   "metadata": {},
   "source": [
    "## CODIFICA SIGLA/NUMERO DO PARTIDO DO RECEPTOR"
   ]
  },
  {
   "cell_type": "code",
   "execution_count": 10,
   "metadata": {},
   "outputs": [],
   "source": [
    "query_update_receptor_partido_sg = f\"\"\"\n",
    "update {table_receitas} \n",
    "    set \n",
    "        receptor_partido_sg   = sg_partido,\n",
    "        receptor_partido_nr   = nr_partido       \n",
    "from {table_partidos} \n",
    "where \n",
    "    (\n",
    "        receptor_partido_sg not in ('#NULO#','#NULO','#NE','') \n",
    "        and\n",
    "        upper(receptor_partido_sg) = upper(sg_partido)\n",
    "        and\n",
    "        receptor_partido_nr in  ('#NULO#','#NULO','#NE','') \n",
    "    )\n",
    "    or\n",
    "    (\n",
    "        receptor_partido_nr not in ('#NULO#','#NULO','#NE','')  \n",
    "        and\n",
    "        upper(receptor_partido_nr) = upper(nr_partido)\n",
    "        and\n",
    "        receptor_partido_sg in  ('#NULO#','#NULO','#NE','')  \n",
    "    )\n",
    ";\n",
    "\"\"\"\n",
    "\n",
    "mtse.execute_query(query_update_receptor_partido_sg)"
   ]
  },
  {
   "cell_type": "code",
   "execution_count": null,
   "metadata": {},
   "outputs": [],
   "source": []
  },
  {
   "cell_type": "code",
   "execution_count": 11,
   "metadata": {},
   "outputs": [],
   "source": [
    "table_esferas_partidarias = f'{dbschema}.esferas_partidarias_{ano_eleicao}'\n",
    "query_update_esfera_partidaria = f\"\"\"\n",
    "update {table_receitas} as r\n",
    "    set receptor_esfera_partidaria_cd = e.cd,\n",
    "        receptor_esfera_partidaria_ds = e.ds\n",
    "from {table_esferas_partidarias} as e\n",
    "where \n",
    "    upper(r.receptor_nome) = upper(e.tipo)\n",
    "    or\n",
    "    upper(r.receptor_nome) = upper(e.ds)    \n",
    ";\n",
    "\n",
    "update {table_receitas} as r\n",
    "    set doador_esfera_partidaria_cd = e.cd,\n",
    "        doador_esfera_partidaria_ds = e.ds\n",
    "from {table_esferas_partidarias} as e\n",
    "where \n",
    "    upper(r.doador_nome) = upper(e.tipo)\n",
    "    or\n",
    "    upper(r.doador_nome) = upper(e.ds)    \n",
    ";\n",
    "\"\"\"\n",
    "\n",
    "mtse.execute_query(query_update_esfera_partidaria)"
   ]
  },
  {
   "cell_type": "code",
   "execution_count": 12,
   "metadata": {},
   "outputs": [],
   "source": [
    "copia_receitas = f\"\"\"\n",
    "DROP TABLE IF EXISTS  {table_receitas}_codificada CASCADE;\n",
    "create table {table_receitas}_codificada as\n",
    "select *  from {table_receitas}\n",
    ";\n",
    "\"\"\"\n",
    "mtse.execute_query(copia_receitas)"
   ]
  },
  {
   "cell_type": "code",
   "execution_count": 13,
   "metadata": {},
   "outputs": [
    {
     "name": "stdout",
     "output_type": "stream",
     "text": [
      "2020-10-20 22:52:08.603597\n"
     ]
    }
   ],
   "source": [
    "import datetime\n",
    "print(datetime.datetime.now())"
   ]
  },
  {
   "cell_type": "code",
   "execution_count": null,
   "metadata": {},
   "outputs": [],
   "source": []
  }
 ],
 "metadata": {
  "anaconda-cloud": {},
  "kernelspec": {
   "display_name": "Python 3",
   "language": "python",
   "name": "python3"
  },
  "language_info": {
   "codemirror_mode": {
    "name": "ipython",
    "version": 3
   },
   "file_extension": ".py",
   "mimetype": "text/x-python",
   "name": "python",
   "nbconvert_exporter": "python",
   "pygments_lexer": "ipython3",
   "version": "3.7.6"
  }
 },
 "nbformat": 4,
 "nbformat_minor": 4
}
