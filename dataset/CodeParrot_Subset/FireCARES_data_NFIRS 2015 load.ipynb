{
 "cells": [
  {
   "cell_type": "markdown",
   "metadata": {},
   "source": [
    "##### 2015 NFIRS FireCARES data statistics and loading\n",
    "\n",
    "## Overview\n",
    "\n",
    "The purpose of this collection of scripts is to load the NFIRS yearly data into a dump of the existing Firecares Database.  The individual 18 incident types and ancillary tables (fireincident, hazchem, hazmat, etc) are loaded into temporary tables and then appended to the master \"fireincident\", etc tables.  The bulk of this script has to do w/ matching addresses in geocoding results to the new incidents in the \"incidentaddress_2014\" and appending that to the \"incidentaddress\" table.  The incident_address_2014_aa/ab/ac/ad/ae tables contain the geocoding information from shapefiles and will be used to augment the incidentaddress_2014 table's records with geometries.\n",
    "\n",
    "## Assumptions\n",
    "\n",
    "* You have jupyter>=1.0.0 and psycopg2 and dependencies installed\n",
    "* See append_nfirs_yearly_data.sh for more information / prereqs and initial data loading\n",
    "* Database has been restored as \"nfirs2\"\n",
    "* All of the `incident_address_2015_a*.shp` data has been loaded into the database as \"incident_address_2015_aa/ab/ac/ad/ae\" tables\n",
    "* Dates have been converted to a Postgres-parseable date (MM/DD/YYYY) in:\n",
    "    * `fireincident.txt`\n",
    "    * `incidentaddress.txt`\n",
    "    * `arsonjuvsub.txt`\n",
    "    * `basicincident.txt`\n",
    "    * `civiliancasualty.txt`\n",
    "    * `ffcasualty.txt`\n",
    "* Null (`\\000`) characters have been stripped from `incidentaddress.txt` and `fdheader.txt`\n",
    "* `RISK_FACT1` codes in `arsonjuvsub.txt` have been replaced with their single-character equivalent (eg. \"U\", \"1\", etc)\n",
    "* The 18 ancillary tables have been loaded as [FILENAME w/o extension]_2014 and include data from:\n",
    "    * `fireincident.txt` => maps to `fireincident_2015`\n",
    "    * `hazchem.txt`\n",
    "    * `hazmat.txt`\n",
    "    * `hazmatequipinvolved.txt`\n",
    "    * `hazmobprop.txt`\n",
    "    * `incidentaddress.txt`\n",
    "    * `wildlands.txt`\n",
    "    * `arson.txt`\n",
    "    * `arsonagencyreferal.txt`\n",
    "    * `arsonjuvsub.txt`\n",
    "    * `basicaid.txt`\n",
    "    * `basicincident.txt`\n",
    "    * `civiliancasualty.txt`\n",
    "    * `codelookup.txt`\n",
    "    * `ems.txt`\n",
    "    * `fdheader.txt`\n",
    "    * `ffcasualty.txt`\n",
    "    * `ffequipfail.txt`\n",
    "* An `id` serial primary key has been added to the \"incidentaddress_2015\" table\n",
    "* \"incidentaddress\" table has `source` column added\n",
    "\n",
    "The rest continues from (as of this writing) line 101 of `append_nfirs_yearly_data.sh`"
   ]
  },
  {
   "cell_type": "code",
   "execution_count": 2,
   "metadata": {},
   "outputs": [
    {
     "ename": "OperationalError",
     "evalue": "FATAL:  role \"vagrant\" does not exist\n",
     "output_type": "error",
     "traceback": [
      "\u001b[0;31m---------------------------------------------------------------------------\u001b[0m",
      "\u001b[0;31mOperationalError\u001b[0m                          Traceback (most recent call last)",
      "\u001b[0;32m<ipython-input-2-6a49d54b1a8b>\u001b[0m in \u001b[0;36m<module>\u001b[0;34m()\u001b[0m\n\u001b[1;32m      2\u001b[0m \u001b[0;32mimport\u001b[0m \u001b[0mpsycopg2\u001b[0m\u001b[0;34m\u001b[0m\u001b[0m\n\u001b[1;32m      3\u001b[0m \u001b[0;34m\u001b[0m\u001b[0m\n\u001b[0;32m----> 4\u001b[0;31m \u001b[0mconn\u001b[0m \u001b[0;34m=\u001b[0m \u001b[0mpsycopg2\u001b[0m\u001b[0;34m.\u001b[0m\u001b[0mconnect\u001b[0m\u001b[0;34m(\u001b[0m\u001b[0;34m\"dbname=geocoding_2015\"\u001b[0m\u001b[0;34m)\u001b[0m\u001b[0;34m\u001b[0m\u001b[0m\n\u001b[0m",
      "\u001b[0;32m/usr/local/lib/python2.7/dist-packages/psycopg2/__init__.pyc\u001b[0m in \u001b[0;36mconnect\u001b[0;34m(dsn, connection_factory, cursor_factory, **kwargs)\u001b[0m\n\u001b[1;32m    128\u001b[0m \u001b[0;34m\u001b[0m\u001b[0m\n\u001b[1;32m    129\u001b[0m     \u001b[0mdsn\u001b[0m \u001b[0;34m=\u001b[0m \u001b[0m_ext\u001b[0m\u001b[0;34m.\u001b[0m\u001b[0mmake_dsn\u001b[0m\u001b[0;34m(\u001b[0m\u001b[0mdsn\u001b[0m\u001b[0;34m,\u001b[0m \u001b[0;34m**\u001b[0m\u001b[0mkwargs\u001b[0m\u001b[0;34m)\u001b[0m\u001b[0;34m\u001b[0m\u001b[0m\n\u001b[0;32m--> 130\u001b[0;31m     \u001b[0mconn\u001b[0m \u001b[0;34m=\u001b[0m \u001b[0m_connect\u001b[0m\u001b[0;34m(\u001b[0m\u001b[0mdsn\u001b[0m\u001b[0;34m,\u001b[0m \u001b[0mconnection_factory\u001b[0m\u001b[0;34m=\u001b[0m\u001b[0mconnection_factory\u001b[0m\u001b[0;34m,\u001b[0m \u001b[0;34m**\u001b[0m\u001b[0mkwasync\u001b[0m\u001b[0;34m)\u001b[0m\u001b[0;34m\u001b[0m\u001b[0m\n\u001b[0m\u001b[1;32m    131\u001b[0m     \u001b[0;32mif\u001b[0m \u001b[0mcursor_factory\u001b[0m \u001b[0;32mis\u001b[0m \u001b[0;32mnot\u001b[0m \u001b[0mNone\u001b[0m\u001b[0;34m:\u001b[0m\u001b[0;34m\u001b[0m\u001b[0m\n\u001b[1;32m    132\u001b[0m         \u001b[0mconn\u001b[0m\u001b[0;34m.\u001b[0m\u001b[0mcursor_factory\u001b[0m \u001b[0;34m=\u001b[0m \u001b[0mcursor_factory\u001b[0m\u001b[0;34m\u001b[0m\u001b[0m\n",
      "\u001b[0;31mOperationalError\u001b[0m: FATAL:  role \"vagrant\" does not exist\n"
     ]
    }
   ],
   "source": [
    "#import pandas as pd\n",
    "import psycopg2\n",
    "\n",
    "conn = psycopg2.connect(\"dbname=geocoding_2015\")"
   ]
  },
  {
   "cell_type": "code",
   "execution_count": 306,
   "metadata": {},
   "outputs": [
    {
     "name": "stdout",
     "output_type": "stream",
     "text": [
      "2111101\n"
     ]
    }
   ],
   "source": [
    "# Need to change the zip5 datatype to match incidentaddress_2014\n",
    "with conn.cursor() as cursor:\n",
    "    cursor.execute(\"alter table geocoding_2015.geocoded_addresses alter column zip5 type character varying(5);\")\n",
    "    cursor.execute(\"update geocoding_2015.geocoded_addresses set zip5 = lpad(zip5, 5, '0')\")\n",
    "    print cursor.rowcount\n",
    "conn.commit()"
   ]
  },
  {
   "cell_type": "code",
   "execution_count": 308,
   "metadata": {},
   "outputs": [
    {
     "name": "stdout",
     "output_type": "stream",
     "text": [
      "-1\n"
     ]
    }
   ],
   "source": [
    "# Need to change the loc_type datatype to match incidentaddress_2014\n",
    "with conn.cursor() as cursor:\n",
    "    cursor.execute(\"alter table geocoding_2015.geocoded_addresses alter column loc_type type character varying(1);\")\n",
    "conn.commit()"
   ]
  },
  {
   "cell_type": "code",
   "execution_count": 311,
   "metadata": {},
   "outputs": [
    {
     "name": "stdout",
     "output_type": "stream",
     "text": [
      "1959751\n"
     ]
    }
   ],
   "source": [
    "# Ugh, forgot to update the apt_no\n",
    "with conn.cursor() as cursor:\n",
    "    cursor.execute(\"update geocoding_2015.geocoded_addresses set apt_no = '' where apt_no is null\")\n",
    "    print cursor.rowcount\n",
    "conn.commit()"
   ]
  },
  {
   "cell_type": "code",
   "execution_count": 322,
   "metadata": {},
   "outputs": [
    {
     "name": "stdout",
     "output_type": "stream",
     "text": [
      "[('', 316L),\n",
      " ('AK', 5479L),\n",
      " ('AL', 22411L),\n",
      " ('AR', 32438L),\n",
      " ('AS', 1L),\n",
      " ('AZ', 23583L),\n",
      " ('CA', 121490L),\n",
      " ('CO', 28841L),\n",
      " ('CT', 31352L),\n",
      " ('CZ', 14L),\n",
      " ('DC', 2852L),\n",
      " ('DE', 7722L),\n",
      " ('FL', 111954L),\n",
      " ('FM', 4L),\n",
      " ('GA', 78479L),\n",
      " ('GU', 3L),\n",
      " ('HI', 4643L),\n",
      " ('IA', 19825L),\n",
      " ('ID', 12369L),\n",
      " ('IL', 110442L),\n",
      " ('IN', 9042L),\n",
      " ('KS', 33279L),\n",
      " ('KY', 34278L),\n",
      " ('LA', 37369L),\n",
      " ('MA', 71458L),\n",
      " ('MD', 42167L),\n",
      " ('ME', 13142L),\n",
      " ('MH', 6L),\n",
      " ('MI', 68991L),\n",
      " ('MN', 29437L),\n",
      " ('MO', 50266L),\n",
      " ('MP', 2L),\n",
      " ('MS', 26934L),\n",
      " ('MT', 6569L),\n",
      " ('NA', 67L),\n",
      " ('NC', 93999L),\n",
      " ('ND', 3335L),\n",
      " ('NE', 8427L),\n",
      " ('NH', 17134L),\n",
      " ('NJ', 80926L),\n",
      " ('NM', 15651L),\n",
      " ('NV', 12967L),\n",
      " ('NY', 169930L),\n",
      " ('OH', 106017L),\n",
      " ('OK', 33544L),\n",
      " ('OO', 10945L),\n",
      " ('OR', 23105L),\n",
      " ('PA', 66202L),\n",
      " ('PR', 1L),\n",
      " ('RI', 5736L),\n",
      " ('SC', 44799L),\n",
      " ('SD', 4089L),\n",
      " ('TN', 46226L),\n",
      " ('TR', 3L),\n",
      " ('TX', 166568L),\n",
      " ('UM', 3L),\n",
      " ('UT', 12183L),\n",
      " ('VA', 55501L),\n",
      " ('VI', 27L),\n",
      " ('VT', 7107L),\n",
      " ('WA', 37057L),\n",
      " ('WI', 32502L),\n",
      " ('WV', 22887L),\n",
      " ('WY', 2650L)]\n"
     ]
    }
   ],
   "source": [
    "# Lets see how many incidents there are in each state for 2014\n",
    "from pretty import pprint\n",
    "with conn.cursor() as cursor:\n",
    "    cursor.execute(\"select state_id, count(state_id) from geocoding_2015.geocoded_addresses group by state_id order by state_id;\")\n",
    "    pprint(cursor.fetchall())\n",
    "conn.commit()"
   ]
  },
  {
   "cell_type": "code",
   "execution_count": null,
   "metadata": {
    "collapsed": true
   },
   "outputs": [],
   "source": []
  },
  {
   "cell_type": "code",
   "execution_count": 3,
   "metadata": {},
   "outputs": [],
   "source": [
    "# Create some indexes so this query doesn't take years to complete\n",
    "with conn.cursor() as cursor:\n",
    "    cursor.execute(\"\"\"\n",
    "create index on geocoding_2015.geocoded_addresses (num_mile, upper(apt_no), upper(city), zip5, upper(street_pre),\n",
    "    loc_type, upper(streetname), upper(streettype), upper(streetsuf), upper(state_id));\"\"\")\n",
    "    \n",
    "    cursor.execute(\"\"\"\n",
    "create index on geocoding_2015.geocoded_addresses (num_mile, upper(apt_no), upper(city_1), zip5, upper(street_pre), loc_type, upper(streetname), upper(streettype), upper(streetsuf), upper(state_id));\n",
    "create index on geocoding_2015.geocoded_addresses (state_id);\n",
    "create index on geocoding_2015.geocoded_addresses (source);\"\"\")\n",
    "\n",
    "conn.commit()"
   ]
  },
  {
   "cell_type": "code",
   "execution_count": 4,
   "metadata": {},
   "outputs": [
    {
     "name": "stdout",
     "output_type": "stream",
     "text": [
      "1579373\n"
     ]
    }
   ],
   "source": [
    "# Execute the matching of the geocoded addresses to incident address for 2014, updating the geometry associated w/ each incident\n",
    "\n",
    "with conn.cursor() as cursor:\n",
    "    cursor.execute(\"\"\"\n",
    "update incidentaddress_2014 as ia set geom = res.wkb_geometry, source = res.source\n",
    "from (\n",
    "    select ia.id, aa.wkb_geometry, aa.source from address_to_geo_2014 aa inner join incidentaddress_2014 ia on (\n",
    "    aa.num_mile = ia.num_mile and\n",
    "    upper(aa.apt_no) = upper(ia.apt_no) and\n",
    "    upper(aa.city_1) = upper(ia.city) and\n",
    "    aa.zip5 = ia.zip5 and\n",
    "    upper(aa.street_pre) = upper(ia.street_pre) and\n",
    "    aa.loc_type = ia.loc_type and\n",
    "    upper(aa.streetname) = upper(ia.streetname) and\n",
    "    upper(aa.streettype) = upper(ia.streettype) and\n",
    "    upper(aa.streetsuf) = upper(ia.streetsuf) and\n",
    "    upper(aa.state_id) = upper(ia.state_id)\n",
    ") where aa.num_mile != '' and score != 0) as res\n",
    "where ia.id = res.id\n",
    "\"\"\")\n",
    "    print cursor.rowcount\n",
    "conn.commit()"
   ]
  },
  {
   "cell_type": "code",
   "execution_count": 18,
   "metadata": {},
   "outputs": [
    {
     "name": "stdout",
     "output_type": "stream",
     "text": [
      "% | Has geom | State | Total rows\n",
      "100.0000000000000000 | 2 | MP | 2\n",
      "100.0000000000000000 | 1 | PR | 1\n",
      "87.0118549511854951 | 4991 | RI | 5736\n",
      "85.6591865357643759 | 2443 | DC | 2852\n",
      "84.9580727619155418 | 90070 | OH | 106017\n",
      "83.6550344259400930 | 142155 | NY | 169930\n",
      "83.4364421617835882 | 14296 | NH | 17134\n",
      "82.8301752555315768 | 34927 | MD | 42167\n",
      "82.7683308886112167 | 91411 | IL | 110442\n",
      "82.7382418123614873 | 10080 | UT | 12183\n",
      "82.1075517206237049 | 24170 | MN | 29437\n",
      "82.0735623498934075 | 30414 | WA | 37057\n",
      "82.0090122869377816 | 58602 | MA | 71458\n",
      "81.7176793056190041 | 8944 | OO | 10945\n",
      "81.1706811706811707 | 6268 | DE | 7722\n",
      "80.7551144161108097 | 75909 | NC | 93999\n",
      "78.9861286254728878 | 15659 | IA | 19825\n",
      "78.9305851487875230 | 54455 | MI | 68991\n",
      "78.5714285714285714 | 11 | CZ | 14\n",
      "78.1289760932163664 | 35001 | SC | 44799\n",
      "77.9928388486091821 | 61208 | GA | 78479\n",
      "77.2948462729484627 | 6989 | IN | 9042\n",
      "77.2868957316084395 | 42895 | VA | 55501\n",
      "77.2565495464154781 | 28870 | LA | 37369\n",
      "76.8803131453820662 | 128058 | TX | 166568\n",
      "76.6869746279015964 | 9944 | NV | 12967\n",
      "76.4040361318389173 | 50581 | PA | 66202\n",
      "75.2969048058581010 | 24473 | WI | 32502\n",
      "75.0097381519151699 | 17331 | OR | 23105\n",
      "74.0222188403591539 | 9728 | ME | 13142\n",
      "73.9848750710525665 | 59873 | NJ | 80926\n",
      "73.7145955600918602 | 23111 | CT | 31352\n",
      "73.7124176000857495 | 82524 | FL | 111954\n",
      "73.0790290198941413 | 4004 | AK | 5479\n",
      "72.5715050644772656 | 16264 | AL | 22411\n",
      "71.9342528321163496 | 23939 | KS | 33279\n",
      "71.5231788079470199 | 20628 | CO | 28841\n",
      "70.1996927803379416 | 8683 | ID | 12369\n",
      "69.8957296759399472 | 32310 | TN | 46226\n",
      "67.6510884457299437 | 4444 | MT | 6569\n",
      "67.4348481585181994 | 3131 | HI | 4643\n",
      "67.0254247403811722 | 33691 | MO | 50266\n",
      "66.6666666666666667 | 18 | VI | 27\n",
      "66.2264150943396226 | 1755 | WY | 2650\n",
      "65.8597365610537558 | 5550 | NE | 8427\n",
      "65.3440270156184044 | 4644 | VT | 7107\n",
      "64.2767708084903410 | 21561 | OK | 33544\n",
      "63.5103188294677656 | 9940 | NM | 15651\n",
      "63.0155989888402491 | 20441 | AR | 32438\n",
      "62.8785607196401799 | 2097 | ND | 3335\n",
      "60.5108784436028811 | 16298 | MS | 26934\n",
      "59.8167921115584340 | 20504 | KY | 34278\n",
      "56.9350803544926430 | 13427 | AZ | 23583\n",
      "50.0122279285888970 | 2045 | SD | 4089\n",
      "47.9693801959008972 | 58278 | CA | 121490\n",
      "47.7611940298507463 | 32 | NA | 67\n",
      "44.9643902652160615 | 10291 | WV | 22887\n",
      "33.3333333333333333 | 1 | GU | 3\n",
      "33.3333333333333333 | 1 | UM | 3\n",
      "25.0000000000000000 | 1 | FM | 4\n",
      "16.6666666666666667 | 1 | MH | 6\n",
      "0E-20 | 0 | AS | 1\n",
      "0E-20 | 0 | TR | 3\n",
      "0E-20 | 0 |  | 316\n",
      "# geocode matches: 1579373, Percent geocoded: 74.6132507159574177, Total 2116746\n"
     ]
    }
   ],
   "source": [
    "# Now lets see how many incidents there are in each state for 2014 that are geocoded vs not geocoded\n",
    "from decimal import *\n",
    "from pretty import pprint\n",
    "\n",
    "with conn.cursor() as cursor:\n",
    "    cursor.execute(\"\"\"\n",
    "select (100.0 * sum(case when geom is null then 0 else 1 end) / count(1)) as percent_with_geom,\n",
    "    sum(case when geom is null then 0 else 1 end) as with_geom, state_id,\n",
    "    count(state_id) as total_incidents\n",
    "from incidentaddress_2014 group by state_id order by percent_with_geom desc;\n",
    "\"\"\")\n",
    "    print '% | Has geom | State | Total rows'\n",
    "    for row in cursor.fetchall():\n",
    "        print '{} | {} | {} | {}'.format(row[0], row[1], row[2], row[3])\n",
    "    \n",
    "    cursor.execute(\"\"\"\n",
    "select sum(case when geom is null then 0 else 1 end) as matches,\n",
    "    (100.0 * sum(case when geom is null then 0 else 1 end) / count(1)) as percent,\n",
    "    count(1) as total\n",
    "from incidentaddress_2014 order by percent desc;\"\"\")\n",
    "    row = cursor.fetchone()\n",
    "    print '# geocode matches: {}, Percent geocoded: {}, Total {}'.format(row[0], row[1], row[2])\n",
    "conn.commit()"
   ]
  },
  {
   "cell_type": "code",
   "execution_count": 31,
   "metadata": {},
   "outputs": [
    {
     "name": "stdout",
     "output_type": "stream",
     "text": [
      "Table: arson, col diffs: set([])\n",
      "Table: arsonagencyreferal, col diffs: set([])\n",
      "Table: arsonjuvsub, col diffs: set([])\n",
      "Table: basicaid, col diffs: set([])\n",
      "Table: basicincident, col diffs: set([])\n",
      "Table: civiliancasualty, col diffs: set([])\n",
      "Table: codelookup, col diffs: set([])\n",
      "Table: ems, col diffs: set([])\n",
      "Table: fdheader, col diffs: set([])\n",
      "Table: ffcasualty, col diffs: set([])\n",
      "Table: ffequipfail, col diffs: set([])\n",
      "Table: fireincident, col diffs: set([])\n",
      "Table: hazchem, col diffs: set([])\n",
      "Table: hazmat, col diffs: set([])\n",
      "Table: hazmatequipinvolved, col diffs: set([])\n",
      "Table: hazmobprop, col diffs: set([])\n",
      "Table: incidentaddress, col diffs: set([])\n",
      "Table: wildlands, col diffs: set([])\n"
     ]
    }
   ],
   "source": [
    "# Just for sanity sake, make sure that the column types are the same between the 2014 and base data\n",
    "\n",
    "addl_tables = ['arson', 'arsonagencyreferal', 'arsonjuvsub', 'basicaid', 'basicincident', 'civiliancasualty', 'codelookup', 'ems', 'fdheader', 'ffcasualty', 'ffequipfail', 'fireincident', 'hazchem', 'hazmat', 'hazmatequipinvolved', 'hazmobprop', 'incidentaddress', 'wildlands']\n",
    "\n",
    "for table in addl_tables:\n",
    "    t = pd.read_sql_query(\"select column_name, data_type from information_schema.columns where table_name='%s'\" % table, conn)\n",
    "    t_2014 = pd.read_sql_query(\"select column_name, data_type from information_schema.columns where table_name='%s_2014'\" % table, conn)\n",
    "    t_cols = set([(x.items()[1][1], x.items()[0][1]) for x in arson.to_dict('records')])\n",
    "    t2014_cols = set([(x.items()[1][1], x.items()[0][1]) for x in arson2014.to_dict('records')])\n",
    "    print 'Table: {}, col diffs: {}'.format(table, t2014_cols - t_cols)"
   ]
  },
  {
   "cell_type": "code",
   "execution_count": 32,
   "metadata": {},
   "outputs": [
    {
     "name": "stdout",
     "output_type": "stream",
     "text": [
      "('arson', 566083L)\n",
      "('arsonagencyreferal', 310659L)\n",
      "('arsonjuvsub', 500459L)\n",
      "('basicaid', 3280569L)\n",
      "('basicincident', 38518740L)\n",
      "('civiliancasualty', 140780L)\n",
      "('codelookup', 6622L)\n",
      "('ems', 1291244L)\n",
      "('fdheader', 39385L)\n",
      "('ffcasualty', 109327L)\n",
      "('ffequipfail', 35214L)\n",
      "('fireincident', 7155944L)\n",
      "('hazchem', 89683L)\n",
      "('hazmat', 121318L)\n",
      "('hazmatequipinvolved', 26399L)\n",
      "('hazmobprop', 46351L)\n",
      "('incidentaddress', 38518754L)\n",
      "('wildlands', 625323L)\n"
     ]
    }
   ],
   "source": [
    "# get some pre counts\n",
    "\n",
    "with conn.cursor() as cursor:\n",
    "    for t in addl_tables:\n",
    "        cursor.execute(\"select '{table}', count(1) from {table};\".format(table=t))\n",
    "        print cursor.fetchone()\n",
    "conn.commit()"
   ]
  },
  {
   "cell_type": "code",
   "execution_count": 43,
   "metadata": {},
   "outputs": [
    {
     "name": "stdout",
     "output_type": "stream",
     "text": [
      "fdheader_2014 count: 38096\n",
      "FDHeader Pre: 39385, Post: 39494, Insert count: 109, Post - pre: 109\n"
     ]
    }
   ],
   "source": [
    "# Update the fdheader table first\n",
    "\n",
    "with conn.cursor() as cursor:\n",
    "    cursor.execute(\"select count(1) from fdheader_2014;\")\n",
    "    print 'fdheader_2014 count: %s' % cursor.fetchone()[0]\n",
    "    cursor.execute(\"select count(1) from fdheader;\")\n",
    "    pre = cursor.fetchone()[0]\n",
    "    cursor.execute(\"\"\"INSERT INTO fdheader(\n",
    "            state, fdid, fd_name, fd_str_no, fd_str_pre, fd_street, fd_str_typ,\n",
    "            fd_str_suf, fd_city, fd_zip, fd_phone, fd_fax, fd_email, fd_fip_cty,\n",
    "            no_station, no_pd_ff, no_vol_ff, no_vol_pdc)\n",
    "    (SELECT distinct on (state, fdid) state, fdid, fd_name, fd_str_no, fd_str_pre, fd_street, fd_str_typ,\n",
    "       fd_str_suf, fd_city, fd_zip, fd_phone, fd_fax, fd_email, fd_fip_cty,\n",
    "       no_station, no_pd_ff, no_vol_ff, no_vol_pdc\n",
    "  FROM fdheader_2014 where (state, fdid) not in (select state, fdid from fdheader));\"\"\")\n",
    "    inserted = cursor.rowcount\n",
    "    cursor.execute(\"select count(1) from fdheader;\")\n",
    "    post = cursor.fetchone()[0]\n",
    "    print 'FDHeader Pre: {}, Post: {}, Insert count: {}, Post - pre: {}'.format(pre, post, inserted, post - pre)\n",
    "conn.commit()"
   ]
  },
  {
   "cell_type": "code",
   "execution_count": 55,
   "metadata": {},
   "outputs": [
    {
     "name": "stdout",
     "output_type": "stream",
     "text": [
      "Deleted: 6622\n",
      "Inserted: 6622\n"
     ]
    }
   ],
   "source": [
    "# Update the \"codeloop\" (appears to be a static table) w/ the 2014 data (truncate and load)\n",
    "with conn.cursor() as cursor:\n",
    "    cursor.execute(\"delete from codelookup;\")\n",
    "    print 'Deleted: %s' % cursor.rowcount\n",
    "    cursor.execute(\"insert into codelookup select * from codelookup_2014;\")\n",
    "    print 'Inserted: %s' % cursor.rowcount\n",
    "conn.commit()"
   ]
  },
  {
   "cell_type": "code",
   "execution_count": null,
   "metadata": {},
   "outputs": [],
   "source": [
    "# Insert the 2014 data into the foundation data\n",
    "def load_2014(table, commit=True):\n",
    "    with conn.cursor() as cursor:\n",
    "        cursor.execute(\"select count(1) from %s;\" % table)\n",
    "        pre = cursor.fetchone()[0]\n",
    "        cursor.execute(\"insert into %s select * from %s_2014;\" % (table, table))\n",
    "        inserted = cursor.rowcount\n",
    "        cursor.execute(\"select count(1) from %s;\" % table)\n",
    "        post = cursor.fetchone()[0]\n",
    "\n",
    "        print 'Table: {}, Pre: {}, Post: {}, Insert count: {}, Post - pre: {}'.format(table, pre, post, inserted, post - pre)\n",
    "    if commit:\n",
    "        conn.commit()\n",
    "        print 'COMMITTED'\n",
    "    else:\n",
    "        conn.rollback()\n",
    "        print 'ROLLBACK'"
   ]
  },
  {
   "cell_type": "code",
   "execution_count": 8,
   "metadata": {},
   "outputs": [
    {
     "name": "stdout",
     "output_type": "stream",
     "text": [
      "Table: arson, Pre: 566083, Post: 605099, Insert count: 39016, Post - pre: 39016\n",
      "Table: arsonagencyreferal, Pre: 310659, Post: 318630, Insert count: 7971, Post - pre: 7971\n",
      "Table: arsonjuvsub, Pre: 500459, Post: 505154, Insert count: 4695, Post - pre: 4695\n",
      "Table: basicaid, Pre: 3280569, Post: 3532902, Insert count: 252333, Post - pre: 252333\n",
      "Table: civiliancasualty, Pre: 140780, Post: 152166, Insert count: 11386, Post - pre: 11386\n",
      "Table: ems, Pre: 1291244, Post: 1294841, Insert count: 3597, Post - pre: 3597\n",
      "Table: ffcasualty, Pre: 109327, Post: 118027, Insert count: 8700, Post - pre: 8700\n",
      "Table: ffequipfail, Pre: 35214, Post: 35588, Insert count: 374, Post - pre: 374\n",
      "Table: hazchem, Pre: 89683, Post: 98271, Insert count: 8588, Post - pre: 8588\n",
      "Table: hazmat, Pre: 121318, Post: 133177, Insert count: 11859, Post - pre: 11859\n",
      "Table: hazmatequipinvolved, Pre: 26399, Post: 38258, Insert count: 11859, Post - pre: 11859\n",
      "Table: hazmobprop, Pre: 46351, Post: 58210, Insert count: 11859, Post - pre: 11859\n",
      "Table: wildlands, Pre: 625323, Post: 676124, Insert count: 50801, Post - pre: 50801\n"
     ]
    }
   ],
   "source": [
    "# Load EVERYTHING except for basicincident, fireincident, incidentaddress\n",
    "for table in ['arson', 'arsonagencyreferal', 'arsonjuvsub', 'basicaid', 'civiliancasualty', 'ems', 'ffcasualty',\n",
    "              'ffequipfail', 'hazchem', 'hazmat', 'hazmatequipinvolved', 'hazmobprop', 'wildlands']:\n",
    "    load_2014(table)"
   ]
  },
  {
   "cell_type": "code",
   "execution_count": 17,
   "metadata": {},
   "outputs": [
    {
     "name": "stdout",
     "output_type": "stream",
     "text": [
      "[(101L, 'MO', '06101')]\n",
      "[(867L,)]\n",
      "[(0L,)]\n"
     ]
    }
   ],
   "source": [
    "# There must have been an error with the MO 06101 entry in \"fdheader_2014\", since there are 101 references to it in \"basicincident_2014\"\n",
    "\n",
    "with conn.cursor() as cursor:\n",
    "    cursor.execute(\"\"\"select count(state), state, fdid from basicincident_2014 bi\n",
    "where (state, fdid) not in (select state, fdid from fdheader)\n",
    "and (state, fdid) not in (select state, fdid from fdheader_2014)\n",
    "group by state, fdid\"\"\")\n",
    "    print cursor.fetchall()\n",
    "    \n",
    "    cursor.execute(\"select count(1) from basicincident where state = 'MO' and fdid = '6101'\")\n",
    "    print cursor.fetchall()\n",
    "    \n",
    "    cursor.execute(\"select count(1) from basicincident_2014 where state = 'MO' and fdid = '6101'\")\n",
    "    print cursor.fetchall()"
   ]
  },
  {
   "cell_type": "code",
   "execution_count": 19,
   "metadata": {},
   "outputs": [
    {
     "name": "stdout",
     "output_type": "stream",
     "text": [
      "101\n"
     ]
    }
   ],
   "source": [
    "# Going to do a one-off update of (MO,6101) => (MO,06101) since that's the only offender\n",
    "with conn.cursor() as cursor:\n",
    "    cursor.execute(\"update basicincident_2014 set fdid = '6101' where state = 'MO' and fdid = '06101'\")\n",
    "    print cursor.rowcount\n",
    "    conn.commit()"
   ]
  },
  {
   "cell_type": "code",
   "execution_count": 21,
   "metadata": {},
   "outputs": [
    {
     "name": "stdout",
     "output_type": "stream",
     "text": [
      "[('fireincident_2014', 596521L), ('basicincident_2014', 2116746L), ('incidentaddress_2014', 2116746L)]\n"
     ]
    }
   ],
   "source": [
    "with conn.cursor() as cursor:\n",
    "    cursor.execute(\"\"\"select 'fireincident_2014', count(1) from fireincident_2014\n",
    "union select 'basicincident_2014', count(1) from basicincident_2014\n",
    "union select 'incidentaddress_2014', count(1) from incidentaddress_2014\"\"\")\n",
    "    print cursor.fetchall()"
   ]
  },
  {
   "cell_type": "code",
   "execution_count": 22,
   "metadata": {
    "scrolled": true
   },
   "outputs": [
    {
     "name": "stdout",
     "output_type": "stream",
     "text": [
      "Table: basicincident, Pre: 38518740, Post: 40635486, Insert count: 2116746, Post - pre: 2116746\n"
     ]
    }
   ],
   "source": [
    "load_2014('basicincident', commit=True)"
   ]
  },
  {
   "cell_type": "code",
   "execution_count": 25,
   "metadata": {},
   "outputs": [
    {
     "name": "stdout",
     "output_type": "stream",
     "text": [
      "[(21L, 'MO', '06101')]\n",
      "[(268L,)]\n",
      "[(0L,)]\n"
     ]
    }
   ],
   "source": [
    "# Looks like fireincident_2014 has the same issue w/ that MO 6101 fire department\n",
    "\n",
    "with conn.cursor() as cursor:\n",
    "    cursor.execute(\"\"\"select count(state), state, fdid from fireincident_2014 bi\n",
    "where (state, fdid) not in (select state, fdid from fdheader)\n",
    "and (state, fdid) not in (select state, fdid from fdheader_2014)\n",
    "group by state, fdid\"\"\")\n",
    "    print cursor.fetchall()\n",
    "    \n",
    "    cursor.execute(\"select count(1) from fireincident where state = 'MO' and fdid = '6101'\")\n",
    "    print cursor.fetchall()\n",
    "    \n",
    "    cursor.execute(\"select count(1) from fireincident_2014 where state = 'MO' and fdid = '6101'\")\n",
    "    print cursor.fetchall()"
   ]
  },
  {
   "cell_type": "code",
   "execution_count": 27,
   "metadata": {},
   "outputs": [
    {
     "name": "stdout",
     "output_type": "stream",
     "text": [
      "21\n"
     ]
    }
   ],
   "source": [
    "# Going to do a one-off update of (MO,6101) => (MO,06101) since that's the only offender\n",
    "with conn.cursor() as cursor:\n",
    "    cursor.execute(\"update fireincident_2014 set fdid = '6101' where state = 'MO' and fdid = '06101'\")\n",
    "    print cursor.rowcount\n",
    "    conn.commit()"
   ]
  },
  {
   "cell_type": "code",
   "execution_count": 29,
   "metadata": {
    "scrolled": true
   },
   "outputs": [
    {
     "name": "stdout",
     "output_type": "stream",
     "text": [
      "Table: fireincident, Pre: 7155944, Post: 7752465, Insert count: 596521, Post - pre: 596521\n"
     ]
    }
   ],
   "source": [
    "load_2014('fireincident', commit=True)"
   ]
  },
  {
   "cell_type": "code",
   "execution_count": 31,
   "metadata": {},
   "outputs": [
    {
     "name": "stdout",
     "output_type": "stream",
     "text": [
      "incidentaddress_2014 count: 2116746\n",
      "Incident address Pre: 38518754, Post: 40635500, Insert count: 2116746, Post - pre: 2116746\n"
     ]
    }
   ],
   "source": [
    "# Loading all of the 2014 incident addresses into the master \"incidentaddress\" table\n",
    "with conn.cursor() as cursor:\n",
    "    cursor.execute(\"select count(1) from incidentaddress_2014;\")\n",
    "    print 'incidentaddress_2014 count: %s' % cursor.fetchone()[0]\n",
    "    cursor.execute(\"select count(1) from incidentaddress;\")\n",
    "    pre = cursor.fetchone()[0]\n",
    "    cursor.execute(\"\"\"INSERT INTO incidentaddress(\n",
    "            state, fdid, inc_date, inc_no, exp_no, loc_type, num_mile, street_pre,\n",
    "            streetname, streettype, streetsuf, apt_no, city, state_id, zip5,\n",
    "            zip4, x_street, addid, addid_try, geom, bkgpidfp00, bkgpidfp10)\n",
    "    (SELECT state, fdid, inc_date, inc_no, exp_no, loc_type, num_mile, street_pre,\n",
    "       streetname, streettype, streetsuf, apt_no, city, state_id, zip5,\n",
    "       zip4, x_street, addid, addid_try, geom, bkgpidfp00, bkgpidfp10\n",
    "  FROM incidentaddress_2014);\"\"\")\n",
    "    inserted = cursor.rowcount\n",
    "    cursor.execute(\"select count(1) from incidentaddress;\")\n",
    "    post = cursor.fetchone()[0]\n",
    "    print 'Incident address Pre: {}, Post: {}, Insert count: {}, Post - pre: {}'.format(pre, post, inserted, post - pre)\n",
    "conn.commit()"
   ]
  },
  {
   "cell_type": "code",
   "execution_count": 69,
   "metadata": {
    "collapsed": true
   },
   "outputs": [],
   "source": [
    "# Start moving things over to a separate schema\n",
    "with conn.cursor() as cursor:\n",
    "    cursor.execute(\"create schema if not exists geocoding_2014;\")\n",
    "conn.commit()"
   ]
  },
  {
   "cell_type": "code",
   "execution_count": 35,
   "metadata": {},
   "outputs": [],
   "source": [
    "with conn.cursor() as cursor:\n",
    "    cursor.execute(\"alter table address_to_geo_2014 set schema geocoding_2014;\")\n",
    "conn.commit()"
   ]
  },
  {
   "cell_type": "code",
   "execution_count": 36,
   "metadata": {
    "collapsed": true
   },
   "outputs": [],
   "source": [
    "tables = [\"incident_address_2014_aa\", \"incident_address_2014_ab\", \"incident_address_2014_ac\", \"incident_address_2014_ad\",\n",
    "          \"incident_address_2014_ae\"]\n",
    "with conn.cursor() as cursor:\n",
    "    for table in tables:\n",
    "        cursor.execute(\"alter table %s set schema geocoding_2014;\" % table)\n",
    "conn.commit()"
   ]
  },
  {
   "cell_type": "code",
   "execution_count": 37,
   "metadata": {
    "collapsed": true
   },
   "outputs": [],
   "source": [
    "# We should be able to drop all of the 2014 tables now\n",
    "\n",
    "tables_2014 = ['arson_2014', 'arsonagencyreferal_2014', 'arsonjuvsub_2014', 'basicaid_2014', 'basicincident_2014',\n",
    "               'civiliancasualty_2014', 'codelookup_2014', 'ems_2014', 'fdheader_2014', 'ffcasualty_2014',\n",
    "               'ffequipfail_2014', 'fireincident_2014', 'hazchem_2014', 'hazmat_2014', 'hazmatequipinvolved_2014',\n",
    "               'hazmobprop_2014', 'incidentaddress_2014', 'wildlands_2014']\n",
    "with conn.cursor() as cursor:\n",
    "    for table in addl_tables_2014:\n",
    "        cursor.execute(\"drop table %s;\" % table)\n",
    "conn.commit()"
   ]
  },
  {
   "cell_type": "markdown",
   "metadata": {
    "collapsed": true
   },
   "source": [
    "[x] - arson_2014 -> arson\n",
    "[x] - arsonagencyreferal_2014 -> arsonagencyreferal\n",
    "[x] - arsonjuvsub_2014 -> arsonjuvsub\n",
    "[x] - basicaid_2014 -> basicaid\n",
    "[x] - basicincident_2014 -> basicincident\n",
    "[x] - civiliancasualty_2014 -> civiliancasualty\n",
    "[x] - codelookup_2014 -> codelookup\n",
    "[x] - ems_2014 -> ems\n",
    "[x] - fdheader_2014 -> fdheader\n",
    "[x] - ffcasualty_2014 -> ffcasualty\n",
    "[x] - ffequipfail_2014 -> ffequipfail\n",
    "[x] - fireincident_2014 -> fireincident\n",
    "[x] - hazchem_2014 -> hazchem\n",
    "[x] - hazmat_2014 - > hazmat\n",
    "[x] - hazmatequipinvolved_2014 -> hazmatequipinvolved\n",
    "[x] - hazmobprop_2014 -> hazmobprop\n",
    "[x] - incidentaddress_2014 -> incidentaddress\n",
    "[x] - wildlands_2014 -> wildlands"
   ]
  },
  {
   "cell_type": "markdown",
   "metadata": {},
   "source": [
    "### Dumping the db / compressing\n",
    "\n",
    "```bash\n",
    "pg_dump -O -x nfirs_2014 > nfirs_2014.sql\n",
    "mv nfirs_2014.sql nfirs_2014_addresses_matched.sql\n",
    "gzip nfirs_2014_addresses_matched.sql\n",
    "```"
   ]
  },
  {
   "cell_type": "code",
   "execution_count": null,
   "metadata": {
    "collapsed": true
   },
   "outputs": [],
   "source": []
  }
 ],
 "metadata": {
  "kernelspec": {
   "display_name": "Python 3",
   "language": "python",
   "name": "python3"
  },
  "language_info": {
   "codemirror_mode": {
    "name": "ipython",
    "version": 3
   },
   "file_extension": ".py",
   "mimetype": "text/x-python",
   "name": "python",
   "nbconvert_exporter": "python",
   "pygments_lexer": "ipython3",
   "version": "3.7.6"
  }
 },
 "nbformat": 4,
 "nbformat_minor": 1
}
