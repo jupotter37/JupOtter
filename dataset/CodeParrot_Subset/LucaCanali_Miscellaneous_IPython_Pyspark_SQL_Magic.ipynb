{
 "cells": [
  {
   "cell_type": "markdown",
   "metadata": {},
   "source": [
    "# IPython magic functions for Pyspark\n",
    "# Examples of shortcuts for executing SQL in Spark"
   ]
  },
  {
   "cell_type": "code",
   "execution_count": 1,
   "metadata": {
    "collapsed": false
   },
   "outputs": [],
   "source": [
    "#\n",
    "# IPython magic functions to use with Pyspark and Spark SQL\n",
    "# The following code is intended as examples of shorcuts to simplify the use of SQL in pyspark\n",
    "# The defined functions are:\n",
    "#\n",
    "# %sql <statement>          - return a Spark DataFrame for lazy evaluation of the SQL\n",
    "# %sql_show <statement>     - run the SQL statement and show max_show_lines (50) lines\n",
    "# %sql_display <statement>  - run the SQL statement and display the results using a HTML table\n",
    "#                           - this is implemented passing via Pandas and displays up to max_show_lines (50)\n",
    "# %sql_explain <statement>  - display the execution plan of the SQL statement\n",
    "#\n",
    "# Use: %<magic> for line magic or %%<magic> for cell magic.\n",
    "#\n",
    "# Author: Luca.Canali@cern.ch\n",
    "# September 2016\n",
    "#\n",
    "\n",
    "from IPython.core.magic import register_line_cell_magic\n",
    "\n",
    "# Configuration parameters\n",
    "max_show_lines = 50         # Limit on the number of lines to show with %sql_show and %sql_display\n",
    "detailed_explain = True     # Set to False if you want to see only the physical plan when running explain\n",
    "\n",
    "\n",
    "@register_line_cell_magic\n",
    "def sql(line, cell=None):\n",
    "    \"Return a Spark DataFrame for lazy evaluation of the sql. Use: %sql or %%sql\"\n",
    "    val = cell if cell is not None else line \n",
    "    return spark.sql(val)\n",
    "\n",
    "@register_line_cell_magic\n",
    "def sql_show(line, cell=None):\n",
    "    \"Execute sql and show the first max_show_lines lines. Use: %sql_show or %%sql_show\"\n",
    "    val = cell if cell is not None else line \n",
    "    return spark.sql(val).show(max_show_lines) \n",
    "\n",
    "@register_line_cell_magic\n",
    "def sql_display(line, cell=None):\n",
    "    \"\"\"Execute sql and convert results to Pandas DataFrame for pretty display or further processing.\n",
    "    Use: %sql_display or %%sql_display\"\"\"\n",
    "    val = cell if cell is not None else line \n",
    "    return spark.sql(val).limit(max_show_lines).toPandas() \n",
    "\n",
    "@register_line_cell_magic\n",
    "def sql_explain(line, cell=None):\n",
    "    \"Display the execution plan of the sql. Use: %sql_explain or %%sql_explain\"\n",
    "    val = cell if cell is not None else line \n",
    "    return spark.sql(val).explain(detailed_explain)\n"
   ]
  },
  {
   "cell_type": "markdown",
   "metadata": {},
   "source": [
    "## Define test tables"
   ]
  },
  {
   "cell_type": "code",
   "execution_count": 2,
   "metadata": {
    "collapsed": false
   },
   "outputs": [],
   "source": [
    "# Define test data and register it as tables \n",
    "# This is a classic example of employee and department relational tables\n",
    "# Test data will be used in the examples later in this notebook\n",
    "\n",
    "from pyspark.sql import Row\n",
    "\n",
    "Employee = Row(\"id\", \"name\", \"email\", \"manager_id\", \"dep_id\")\n",
    "df_emp = sqlContext.createDataFrame([\n",
    "        Employee(1234, 'John', 'john@mail.com', 1236, 10),\n",
    "        Employee(1235, 'Mike', 'mike@mail.com', 1237, 10),\n",
    "        Employee(1236, 'Pat', 'pat@mail.com', 1237, 20),\n",
    "        Employee(1237, 'Claire', 'claire@mail.com', None, 20),\n",
    "        Employee(1238, 'Jim', 'jim@mail.com', 1236, 30)\n",
    "        ])\n",
    "\n",
    "df_emp.registerTempTable(\"employee\")\n",
    "\n",
    "Department = Row(\"dep_id\", \"dep_name\")\n",
    "df_dep = sqlContext.createDataFrame([\n",
    "        Department(10, 'Engineering'),\n",
    "        Department(20, 'Head Quarter'),\n",
    "        Department(30, 'Human resources')\n",
    "        ])\n",
    "\n",
    "df_dep.registerTempTable(\"department\")"
   ]
  },
  {
   "cell_type": "markdown",
   "metadata": {},
   "source": [
    "## Examples of how to use %SQL magic functions with Spark"
   ]
  },
  {
   "cell_type": "markdown",
   "metadata": {},
   "source": [
    "### Use %sql to run SQL and return a DataFrame, lazy evaluation "
   ]
  },
  {
   "cell_type": "code",
   "execution_count": 3,
   "metadata": {
    "collapsed": false
   },
   "outputs": [
    {
     "data": {
      "text/plain": [
       "DataFrame[id: bigint, name: string, email: string, manager_id: bigint, dep_id: bigint]"
      ]
     },
     "execution_count": 3,
     "metadata": {},
     "output_type": "execute_result"
    }
   ],
   "source": [
    "# Example of line magic, a shortcut to run SQL in pyspark\n",
    "# Pyspark has lazy evaluation, so the query is not executed in this exmaple\n",
    "\n",
    "df = %sql select * from employee\n",
    "df"
   ]
  },
  {
   "cell_type": "markdown",
   "metadata": {},
   "source": [
    "### Use %sql_show to run SQL and show the top lines of the result set"
   ]
  },
  {
   "cell_type": "code",
   "execution_count": 4,
   "metadata": {
    "collapsed": false
   },
   "outputs": [
    {
     "name": "stdout",
     "output_type": "stream",
     "text": [
      "+----+------+---------------+----------+------+\n",
      "|  id|  name|          email|manager_id|dep_id|\n",
      "+----+------+---------------+----------+------+\n",
      "|1234|  John|  john@mail.com|      1236|    10|\n",
      "|1235|  Mike|  mike@mail.com|      1237|    10|\n",
      "|1236|   Pat|   pat@mail.com|      1237|    20|\n",
      "|1237|Claire|claire@mail.com|      null|    20|\n",
      "|1238|   Jim|   jim@mail.com|      1236|    30|\n",
      "+----+------+---------------+----------+------+\n",
      "\n"
     ]
    }
   ],
   "source": [
    "# Example of line magic, the SQL is executed and the result is displayed\n",
    "# the maximum number of displayed lines is configurable (max_show_lines)\n",
    "\n",
    "%sql_show select * from employee"
   ]
  },
  {
   "cell_type": "markdown",
   "metadata": {},
   "source": [
    "### Example of cell magic to run SQL spanning multiple lines"
   ]
  },
  {
   "cell_type": "code",
   "execution_count": 8,
   "metadata": {
    "collapsed": false
   },
   "outputs": [
    {
     "name": "stdout",
     "output_type": "stream",
     "text": [
      "+----+------+---------------+----------+---------------+\n",
      "|  id|  name|          email|manager_id|       dep_name|\n",
      "+----+------+---------------+----------+---------------+\n",
      "|1234|  John|  john@mail.com|      1236|    Engineering|\n",
      "|1235|  Mike|  mike@mail.com|      1237|    Engineering|\n",
      "|1238|   Jim|   jim@mail.com|      1236|Human resources|\n",
      "|1236|   Pat|   pat@mail.com|      1237|   Head Quarter|\n",
      "|1237|Claire|claire@mail.com|      null|   Head Quarter|\n",
      "+----+------+---------------+----------+---------------+\n",
      "\n"
     ]
    }
   ],
   "source": [
    "%%sql_show \n",
    "select emp.id, emp.name, emp.email, emp.manager_id, dep.dep_name \n",
    "from employee emp, department dep \n",
    "where emp.dep_id=dep.dep_id"
   ]
  },
  {
   "cell_type": "markdown",
   "metadata": {},
   "source": [
    "### Use %sql_display to run SQL and display the results as a HTML table\n",
    "Example of cell magic that runs SQL and then transforms it to Pandas. This will display the output as a HTML table in Jupyter notebooks"
   ]
  },
  {
   "cell_type": "code",
   "execution_count": 10,
   "metadata": {
    "collapsed": false
   },
   "outputs": [
    {
     "data": {
      "text/html": [
       "<div>\n",
       "<table border=\"1\" class=\"dataframe\">\n",
       "  <thead>\n",
       "    <tr style=\"text-align: right;\">\n",
       "      <th></th>\n",
       "      <th>id</th>\n",
       "      <th>name</th>\n",
       "      <th>email</th>\n",
       "      <th>manager_name</th>\n",
       "      <th>dep_name</th>\n",
       "    </tr>\n",
       "  </thead>\n",
       "  <tbody>\n",
       "    <tr>\n",
       "      <th>0</th>\n",
       "      <td>1234</td>\n",
       "      <td>John</td>\n",
       "      <td>john@mail.com</td>\n",
       "      <td>Pat</td>\n",
       "      <td>Engineering</td>\n",
       "    </tr>\n",
       "    <tr>\n",
       "      <th>1</th>\n",
       "      <td>1235</td>\n",
       "      <td>Mike</td>\n",
       "      <td>mike@mail.com</td>\n",
       "      <td>Claire</td>\n",
       "      <td>Engineering</td>\n",
       "    </tr>\n",
       "    <tr>\n",
       "      <th>2</th>\n",
       "      <td>1238</td>\n",
       "      <td>Jim</td>\n",
       "      <td>jim@mail.com</td>\n",
       "      <td>Pat</td>\n",
       "      <td>Human resources</td>\n",
       "    </tr>\n",
       "    <tr>\n",
       "      <th>3</th>\n",
       "      <td>1237</td>\n",
       "      <td>Claire</td>\n",
       "      <td>claire@mail.com</td>\n",
       "      <td>None</td>\n",
       "      <td>Head Quarter</td>\n",
       "    </tr>\n",
       "    <tr>\n",
       "      <th>4</th>\n",
       "      <td>1236</td>\n",
       "      <td>Pat</td>\n",
       "      <td>pat@mail.com</td>\n",
       "      <td>Claire</td>\n",
       "      <td>Head Quarter</td>\n",
       "    </tr>\n",
       "  </tbody>\n",
       "</table>\n",
       "</div>"
      ],
      "text/plain": [
       "     id    name            email manager_name         dep_name\n",
       "0  1234    John    john@mail.com          Pat      Engineering\n",
       "1  1235    Mike    mike@mail.com       Claire      Engineering\n",
       "2  1238     Jim     jim@mail.com          Pat  Human resources\n",
       "3  1237  Claire  claire@mail.com         None     Head Quarter\n",
       "4  1236     Pat     pat@mail.com       Claire     Head Quarter"
      ]
     },
     "execution_count": 10,
     "metadata": {},
     "output_type": "execute_result"
    }
   ],
   "source": [
    "%%sql_display \n",
    "select emp.id, emp.name, emp.email, emp2.name as manager_name, dep.dep_name \n",
    "from employee emp \n",
    "     left outer join employee emp2 on emp2.id=emp.manager_id\n",
    "     join department dep on emp.dep_id=dep.dep_id"
   ]
  },
  {
   "cell_type": "markdown",
   "metadata": {},
   "source": [
    "### Use %sql_explain to display the execution plan"
   ]
  },
  {
   "cell_type": "code",
   "execution_count": 11,
   "metadata": {
    "collapsed": false
   },
   "outputs": [
    {
     "name": "stdout",
     "output_type": "stream",
     "text": [
      "== Parsed Logical Plan ==\n",
      "'Project ['emp.id, 'emp.name, 'emp.email, 'emp2.name AS manager_name#68, 'dep.dep_name]\n",
      "+- 'Join Inner, ('emp.dep_id = 'dep.dep_id)\n",
      "   :- 'Join LeftOuter, ('emp2.id = 'emp.manager_id)\n",
      "   :  :- 'UnresolvedRelation `employee`, emp\n",
      "   :  +- 'UnresolvedRelation `employee`, emp2\n",
      "   +- 'UnresolvedRelation `department`, dep\n",
      "\n",
      "== Analyzed Logical Plan ==\n",
      "id: bigint, name: string, email: string, manager_name: string, dep_name: string\n",
      "Project [id#0L, name#1, email#2, name#80 AS manager_name#68, dep_name#13]\n",
      "+- Join Inner, (dep_id#4L = dep_id#12L)\n",
      "   :- Join LeftOuter, (id#79L = manager_id#3L)\n",
      "   :  :- SubqueryAlias emp\n",
      "   :  :  +- SubqueryAlias employee\n",
      "   :  :     +- LogicalRDD [id#0L, name#1, email#2, manager_id#3L, dep_id#4L]\n",
      "   :  +- SubqueryAlias emp2\n",
      "   :     +- SubqueryAlias employee\n",
      "   :        +- LogicalRDD [id#79L, name#80, email#81, manager_id#82L, dep_id#83L]\n",
      "   +- SubqueryAlias dep\n",
      "      +- SubqueryAlias department\n",
      "         +- LogicalRDD [dep_id#12L, dep_name#13]\n",
      "\n",
      "== Optimized Logical Plan ==\n",
      "Project [id#0L, name#1, email#2, name#80 AS manager_name#68, dep_name#13]\n",
      "+- Join Inner, (dep_id#4L = dep_id#12L)\n",
      "   :- Project [id#0L, name#1, email#2, dep_id#4L, name#80]\n",
      "   :  +- Join LeftOuter, (id#79L = manager_id#3L)\n",
      "   :     :- Filter isnotnull(dep_id#4L)\n",
      "   :     :  +- LogicalRDD [id#0L, name#1, email#2, manager_id#3L, dep_id#4L]\n",
      "   :     +- Project [id#79L, name#80]\n",
      "   :        +- LogicalRDD [id#79L, name#80, email#81, manager_id#82L, dep_id#83L]\n",
      "   +- Filter isnotnull(dep_id#12L)\n",
      "      +- LogicalRDD [dep_id#12L, dep_name#13]\n",
      "\n",
      "== Physical Plan ==\n",
      "*Project [id#0L, name#1, email#2, name#80 AS manager_name#68, dep_name#13]\n",
      "+- *SortMergeJoin [dep_id#4L], [dep_id#12L], Inner\n",
      "   :- *Sort [dep_id#4L ASC], false, 0\n",
      "   :  +- Exchange hashpartitioning(dep_id#4L, 200)\n",
      "   :     +- *Project [id#0L, name#1, email#2, dep_id#4L, name#80]\n",
      "   :        +- SortMergeJoin [manager_id#3L], [id#79L], LeftOuter\n",
      "   :           :- *Sort [manager_id#3L ASC], false, 0\n",
      "   :           :  +- Exchange hashpartitioning(manager_id#3L, 200)\n",
      "   :           :     +- *Filter isnotnull(dep_id#4L)\n",
      "   :           :        +- Scan ExistingRDD[id#0L,name#1,email#2,manager_id#3L,dep_id#4L]\n",
      "   :           +- *Sort [id#79L ASC], false, 0\n",
      "   :              +- Exchange hashpartitioning(id#79L, 200)\n",
      "   :                 +- *Project [id#79L, name#80]\n",
      "   :                    +- Scan ExistingRDD[id#79L,name#80,email#81,manager_id#82L,dep_id#83L]\n",
      "   +- *Sort [dep_id#12L ASC], false, 0\n",
      "      +- Exchange hashpartitioning(dep_id#12L, 200)\n",
      "         +- *Filter isnotnull(dep_id#12L)\n",
      "            +- Scan ExistingRDD[dep_id#12L,dep_name#13]\n"
     ]
    }
   ],
   "source": [
    "%%sql_explain\n",
    "select emp.id, emp.name, emp.email, emp2.name as manager_name, dep.dep_name \n",
    "from employee emp \n",
    "     left outer join employee emp2 on emp2.id=emp.manager_id\n",
    "     join department dep on emp.dep_id=dep.dep_id"
   ]
  },
  {
   "cell_type": "code",
   "execution_count": null,
   "metadata": {
    "collapsed": true
   },
   "outputs": [],
   "source": []
  }
 ],
 "metadata": {
  "kernelspec": {
   "display_name": "Python [Root]",
   "language": "python",
   "name": "Python [Root]"
  },
  "language_info": {
   "codemirror_mode": {
    "name": "ipython",
    "version": 2
   },
   "file_extension": ".py",
   "mimetype": "text/x-python",
   "name": "python",
   "nbconvert_exporter": "python",
   "pygments_lexer": "ipython2",
   "version": "2.7.12"
  }
 },
 "nbformat": 4,
 "nbformat_minor": 0
}
