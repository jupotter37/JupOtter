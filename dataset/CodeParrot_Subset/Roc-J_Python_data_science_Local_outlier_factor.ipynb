{
 "cells": [
  {
   "cell_type": "markdown",
   "metadata": {},
   "source": [
    "## 局部异常因子方法发现异常点\n",
    "\n",
    "局部异常因子(Local Outlier Factor,LOF)也是一种异常检测算法，它对数据实例的局部密度和邻居进行比较，判断这个数据是否属于相似的密度的区域，它适合从那些簇个数未知，簇的密度和大小各不相同的数据中筛选出异常点。  \n",
    "\n",
    "从k近邻算法启发来"
   ]
  },
  {
   "cell_type": "code",
   "execution_count": 1,
   "metadata": {
    "collapsed": true
   },
   "outputs": [],
   "source": [
    "from collections import defaultdict\n",
    "import numpy as np\n",
    "import matplotlib.pyplot as plt\n",
    "\n",
    "instance = np.matrix([[0,0],[0,1],[1,1],[1,0],[5,0]])"
   ]
  },
  {
   "cell_type": "code",
   "execution_count": 2,
   "metadata": {},
   "outputs": [
    {
     "data": {
      "image/png": "[encoded data removed]",
      "text/plain": [
       "<matplotlib.figure.Figure at 0x66279f0>"
      ]
     },
     "metadata": {},
     "output_type": "display_data"
    }
   ],
   "source": [
    "x = np.squeeze(np.asarray(instance[:,0]))\n",
    "y = np.squeeze(np.asarray(instance[:,1]))\n",
    "plt.cla()\n",
    "plt.figure(1)\n",
    "plt.scatter(x,y)\n",
    "plt.show()"
   ]
  },
  {
   "cell_type": "markdown",
   "metadata": {},
   "source": [
    "局部异常因子计算出每个点的局部密度，通过它与K最近邻的点的距离来评估点的局部密度，并与邻居的密度进行比较，以此找出异常点--异常点比邻居的密度要低得多\n",
    "\n",
    "为了理解LOF,先了解一些术语的定义\n",
    "* 对象P的K距离：对象P与它第K个最近邻的距离，K是算法的参数  \n",
    "* P的K距离邻居：到P的距离小于或等于P到第K个最邻近的距离的所有对象的集合Q\n",
    "* 从P到Q的可达距离：P与它的第K个最近邻的距离和P和Q之间的距离中的最大者。  \n",
    "* P的局部可达密度（local Reachability Density of P）：K距离邻居和K与其邻居的可达距离之和的比值  \n",
    "* P的局部异常因子（Local Outlier Factor of P):P与它的K最近邻的局部可达性的比值的平均值"
   ]
  },
  {
   "cell_type": "code",
   "execution_count": 4,
   "metadata": {},
   "outputs": [],
   "source": [
    "# 获取点两两之间的距离pairwise_distance\n",
    "distance = 'manhattan'\n",
    "from sklearn.metrics import pairwise_distances\n",
    "dist = pairwise_distances(instance,metric=distance)"
   ]
  },
  {
   "cell_type": "code",
   "execution_count": 5,
   "metadata": {},
   "outputs": [
    {
     "name": "stdout",
     "output_type": "stream",
     "text": [
      "[[ 0.  1.  2.  1.  5.]\n",
      " [ 1.  0.  1.  2.  6.]\n",
      " [ 2.  1.  0.  1.  5.]\n",
      " [ 1.  2.  1.  0.  4.]\n",
      " [ 5.  6.  5.  4.  0.]]\n"
     ]
    }
   ],
   "source": [
    "print dist"
   ]
  },
  {
   "cell_type": "code",
   "execution_count": 6,
   "metadata": {
    "collapsed": true
   },
   "outputs": [],
   "source": [
    "# 计算K距离，使用heapq来获得K最近邻\n",
    "k = 2\n",
    "# 计算K距离\n",
    "import heapq\n",
    "# k_distance的值是tuple\n",
    "k_distance = defaultdict(tuple)\n",
    "# 对每个点计算\n",
    "for i in range(instance.shape[0]):\n",
    "    # 获取它与所有其点之间的距离\n",
    "    distances = dist[i].tolist()\n",
    "    # 获得K最近邻\n",
    "    ksmallest = heapq.nsmallest(k+1,distances)[1:][k-1]\n",
    "    # 获取索引号\n",
    "    ksmallest_idx = distances.index(ksmallest)\n",
    "    # 记录下每个点到第K个最近邻以及到它的距离\n",
    "    k_distance[i]=(ksmallest,ksmallest_idx)"
   ]
  },
  {
   "cell_type": "code",
   "execution_count": 7,
   "metadata": {
    "collapsed": true
   },
   "outputs": [],
   "source": [
    "# 计算K距离邻居\n",
    "def all_indices(value,inlist):\n",
    "    out_indices = []\n",
    "    idx = -1\n",
    "    while True:\n",
    "        try:\n",
    "            idx = inlist.index(value,idx+1)\n",
    "            out_indices.append(idx)\n",
    "        except ValueError:\n",
    "            break\n",
    "    return out_indices"
   ]
  },
  {
   "cell_type": "code",
   "execution_count": 9,
   "metadata": {},
   "outputs": [
    {
     "name": "stdout",
     "output_type": "stream",
     "text": [
      "k distance neighbourhood 0\n",
      "[0.0, 1.0, 2.0, 1.0, 5.0]\n",
      "[1.0, 1.0]\n",
      "set([1.0])\n",
      "k distance neighbourhood 1\n",
      "[1.0, 0.0, 1.0, 2.0, 6.0]\n",
      "[1.0, 1.0]\n",
      "set([1.0])\n",
      "k distance neighbourhood 2\n",
      "[2.0, 1.0, 0.0, 1.0, 5.0]\n",
      "[1.0, 1.0]\n",
      "set([1.0])\n",
      "k distance neighbourhood 3\n",
      "[1.0, 2.0, 1.0, 0.0, 4.0]\n",
      "[1.0, 1.0]\n",
      "set([1.0])\n",
      "k distance neighbourhood 4\n",
      "[5.0, 6.0, 5.0, 4.0, 0.0]\n",
      "[4.0, 5.0]\n",
      "set([4.0, 5.0])\n"
     ]
    }
   ],
   "source": [
    "# 计算K距离邻居\n",
    "k_distance_neig = defaultdict(list)\n",
    "for i in range(instance.shape[0]):\n",
    "    # 获得它到所有邻居点的距离\n",
    "    distances = dist[i].tolist()\n",
    "    print 'k distance neighbourhood',i\n",
    "    print distances\n",
    "    # 获得从第1到第k的最近邻\n",
    "    ksmallest = heapq.nsmallest(k+1,distances)[1:]\n",
    "    print ksmallest\n",
    "    ksmallest_set = set(ksmallest)\n",
    "    print ksmallest_set\n",
    "    ksmallest_idx = []\n",
    "    # 获取k里最小的元素的索引号\n",
    "    for x in ksmallest_set:\n",
    "        ksmallest_idx.append(all_indices(x,distances))\n",
    "    # 将列表的列表转换为列表\n",
    "    ksmallest_idx = [item for sublist in ksmallest_idx for item in sublist]\n",
    "    # 对每个点保存\n",
    "    k_distance_neig[i].extend(zip(ksmallest,ksmallest_idx))"
   ]
  },
  {
   "cell_type": "code",
   "execution_count": 10,
   "metadata": {},
   "outputs": [
    {
     "name": "stdout",
     "output_type": "stream",
     "text": [
      "defaultdict(<type 'list'>, {0: [(1.0, 1), (1.0, 3)], 1: [(1.0, 0), (1.0, 2)], 2: [(1.0, 1), (1.0, 3)], 3: [(1.0, 0), (1.0, 2)], 4: [(4.0, 3), (5.0, 0)]})\n"
     ]
    }
   ],
   "source": [
    "print k_distance_neig"
   ]
  },
  {
   "cell_type": "code",
   "execution_count": 11,
   "metadata": {
    "collapsed": true
   },
   "outputs": [],
   "source": [
    "# 计算可达距离和LRD\n",
    "# 局部可达密度\n",
    "local_reach_density = defaultdict(float)\n",
    "for i in range(instance.shape[0]):\n",
    "    # LRD分子，k距离邻居的个数\n",
    "    no_neighbours = len(k_distance_neig[i])\n",
    "    denom_sum = 0\n",
    "    # 可达距离求和\n",
    "    for neigh in k_distance_neig[i]:\n",
    "        denom_sum += max(k_distance[neigh[1]][0],neigh[0])\n",
    "    local_reach_density[i] = no_neighbours/(1.0*denom_sum)"
   ]
  },
  {
   "cell_type": "code",
   "execution_count": 12,
   "metadata": {},
   "outputs": [
    {
     "name": "stdout",
     "output_type": "stream",
     "text": [
      "[(0, 4.0), (1, 4.0), (2, 4.0), (3, 4.0), (4, 18.0)]\n"
     ]
    }
   ],
   "source": [
    "# 计算LOF\n",
    "lof_list = []\n",
    "for i in range(instance.shape[0]):\n",
    "    lrd_sum = 0\n",
    "    rdist_sum = 0\n",
    "    for neigh in k_distance_neig[i]:\n",
    "        lrd_sum +=local_reach_density[neigh[1]]\n",
    "        rdist_sum += max(k_distance[neigh[1]][0],neigh[0])\n",
    "    lof_list.append((i,lrd_sum*rdist_sum))\n",
    "print lof_list"
   ]
  },
  {
   "cell_type": "markdown",
   "metadata": {},
   "source": [
    "一个点的LOF很高，则认为它是一个异常点"
   ]
  }
 ],
 "metadata": {
  "kernelspec": {
   "display_name": "Python 2",
   "language": "python",
   "name": "python2"
  },
  "language_info": {
   "codemirror_mode": {
    "name": "ipython",
    "version": 2
   },
   "file_extension": ".py",
   "mimetype": "text/x-python",
   "name": "python",
   "nbconvert_exporter": "python",
   "pygments_lexer": "ipython2",
   "version": "2.7.12"
  }
 },
 "nbformat": 4,
 "nbformat_minor": 2
}
