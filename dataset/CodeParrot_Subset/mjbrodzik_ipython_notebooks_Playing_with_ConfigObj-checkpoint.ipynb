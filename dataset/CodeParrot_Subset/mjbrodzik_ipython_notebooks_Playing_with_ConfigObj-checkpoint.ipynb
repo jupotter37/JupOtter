{
 "cells": [
  {
   "cell_type": "code",
   "execution_count": 1,
   "metadata": {
    "collapsed": false
   },
   "outputs": [],
   "source": [
    "from configobj import ConfigObj"
   ]
  },
  {
   "cell_type": "code",
   "execution_count": 13,
   "metadata": {
    "collapsed": false
   },
   "outputs": [],
   "source": [
    "config = ConfigObj()\n",
    "config.indent_type = '    '\n",
    "config.initial_comment = [\n",
    "    \"Configuration file for CHARIS melt modeling\",\n",
    "]\n",
    "input_section = {\n",
    "    'forcing': {\n",
    "        'temperature': {\n",
    "            'path': '/path/to/temperature/data',\n",
    "            'pattern': 'filename%pattern%',\n",
    "            'type': 'type_of_file(binary, etc)'\n",
    "        }\n",
    "    }\n",
    "}\n",
    "config['input'] = input_section\n",
    "config['output'] = {}\n",
    "config['validation'] = {}\n",
    "config.filename = 'test_config.ini'\n",
    "config.write()\n",
    "\n"
   ]
  },
  {
   "cell_type": "code",
   "execution_count": 21,
   "metadata": {
    "collapsed": false
   },
   "outputs": [
    {
     "name": "stdout",
     "output_type": "stream",
     "text": [
      "Untitled.ipynb          Untitled.txt            modis_tiles_config.ini~\r\n",
      "Untitled.py             modis_tiles_config.ini  test_config.ini\r\n"
     ]
    }
   ],
   "source": [
    "!ls\n"
   ]
  },
  {
   "cell_type": "code",
   "execution_count": 2,
   "metadata": {
    "collapsed": false
   },
   "outputs": [
    {
     "name": "stdout",
     "output_type": "stream",
     "text": [
      "2400\n",
      "/projects/CHARIS/basins/major_basins_from_GRDC/MODIStiles\n",
      "%DRAINAGEID%.basin_mask.%TILEID%.tif\n",
      "1\n",
      "%DRAINAGEID%.%TILEID%.tif\n"
     ]
    }
   ],
   "source": [
    "config = ConfigObj('modis_tiles_config.ini')\n",
    "print config['modis_tile']['rows']\n",
    "print config['input']['fixed']['basin_mask']['dir']\n",
    "print config['input']['fixed']['basin_mask']['pattern']\n",
    "print config['input']['fixed']['basin_mask']['type']\n",
    "print config['input']['fixed']['country_mask']['pattern']\n"
   ]
  },
  {
   "cell_type": "code",
   "execution_count": 3,
   "metadata": {
    "collapsed": false
   },
   "outputs": [
    {
     "name": "stdout",
     "output_type": "stream",
     "text": [
      "['# Data processing configuration for MODIS-tile data', '# used by CHARIS melt modeling', '#', '# First section contains general information', '# about MODIS tiles (dimensions/resolutions)', '#', '# Each section thereafter contains information for reading', '# a type of MODIS tile data', '# directory, filename pattern and expected data type (byte, float)', '# Use IDL SIZE() type values until I figure out the python equivalents,', '# e.g.:', '# 1 = byte', '# 2 = int', '# 4 = float', '']\n"
     ]
    }
   ],
   "source": [
    "print config.initial_comment\n"
   ]
  },
  {
   "cell_type": "code",
   "execution_count": 36,
   "metadata": {
    "collapsed": false
   },
   "outputs": [
    {
     "name": "stdout",
     "output_type": "stream",
     "text": [
      "{'forcing': ['', '    # Model forcing data that varies by time (annual, daily)'], 'fixed': ['']}\n"
     ]
    }
   ],
   "source": [
    "print config['input'].comments"
   ]
  },
  {
   "cell_type": "code",
   "execution_count": null,
   "metadata": {
    "collapsed": true
   },
   "outputs": [],
   "source": []
  },
  {
   "cell_type": "code",
   "execution_count": null,
   "metadata": {
    "collapsed": true
   },
   "outputs": [],
   "source": []
  }
 ],
 "metadata": {
  "kernelspec": {
   "display_name": "Python 2",
   "language": "python",
   "name": "python2"
  },
  "language_info": {
   "codemirror_mode": {
    "name": "ipython",
    "version": 2
   },
   "file_extension": ".py",
   "mimetype": "text/x-python",
   "name": "python",
   "nbconvert_exporter": "python",
   "pygments_lexer": "ipython2",
   "version": "2.7.10"
  }
 },
 "nbformat": 4,
 "nbformat_minor": 0
}
