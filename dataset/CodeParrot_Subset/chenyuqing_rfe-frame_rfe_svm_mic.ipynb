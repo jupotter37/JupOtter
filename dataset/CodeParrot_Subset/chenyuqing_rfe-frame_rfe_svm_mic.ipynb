{
 "cells": [
  {
   "cell_type": "code",
   "execution_count": 19,
   "metadata": {
    "collapsed": false
   },
   "outputs": [],
   "source": [
    "from sklearn.svm import SVR\n",
    "from minepy import MINE\n",
    "import pandas as pd\n",
    "import numpy as np"
   ]
  },
  {
   "cell_type": "code",
   "execution_count": 20,
   "metadata": {
    "collapsed": false
   },
   "outputs": [],
   "source": [
    "filename = \"./data/nci60.csv\"\n",
    "df = pd.read_csv(filename)\n",
    "X = df.iloc[:,2:]\n",
    "y = df.iloc[:,1]"
   ]
  },
  {
   "cell_type": "code",
   "execution_count": 21,
   "metadata": {
    "collapsed": true
   },
   "outputs": [],
   "source": [
    "# Define the rfe-svm function\n",
    "def rfe_svm_mic(X, y, num_feature_to_selected):\n",
    "    import time\n",
    "    clf = SVR()\n",
    "    model = clf.set_params(kernel='linear')\n",
    "    X_new = X\n",
    "    record = {}\n",
    "    del_ = X.shape[1]-num_feature_to_selected\n",
    "    start_time = time.time()\n",
    "    for i in range(del_):\n",
    "        # get the column name\n",
    "        names = list(X_new)\n",
    "        # fit the svm and get the weights of features\n",
    "        fit = model.fit(X_new, y)\n",
    "        # compute the mic scores\n",
    "        mine = MINE()\n",
    "        mic_scores = []\n",
    "        for i in range(X_new.shape[1]):\n",
    "            mine.compute_score(X_new.iloc[:,i], y)\n",
    "            m = mine.mic()\n",
    "            mic_scores.append(m)\n",
    "        sum_cor = {}\n",
    "        # sum_cor = (1-0.3)*svm_coef + 0.3 * mic_scores\n",
    "        for i in range(X_new.shape[1]):\n",
    "            sum_cor[names[i]] = 0.5 * fit.coef_[0][i] + 0.5 * mic_scores[i]\n",
    "        # get the column name with the samllest value\n",
    "        min_colname = min(sum_cor, key=sum_cor.get)\n",
    "        # print(min_colname)\n",
    "        # get the column number with the samllest value\n",
    "        min_colnum = X.columns.get_loc(min_colname)\n",
    "        # print(min_colnum)\n",
    "        # print(sum_cor[min_colname])\n",
    "        # remove the feature with the smallest weight\n",
    "        X_new = X_new.drop(min_colname, axis=1)\n",
    "        # record the index and value of the deleted feature\n",
    "        # record.update({min_colname:sum_cor[min_colname]})\n",
    "        record[min_colname] = sum_cor[min_colname]\n",
    "    elapsed_time = time.time() - start_time\n",
    "    return X_new, record, elapsed_time"
   ]
  },
  {
   "cell_type": "code",
   "execution_count": 22,
   "metadata": {
    "collapsed": false
   },
   "outputs": [
    {
     "data": {
      "text/plain": [
       "20999.64202952385"
      ]
     },
     "execution_count": 22,
     "metadata": {},
     "output_type": "execute_result"
    }
   ],
   "source": [
    "# Do the feature selecltion and get the selected features\n",
    "X_new, record, elapsed_time = rfe_svm_mic(X, y, 50)\n",
    "#for key,value in record.items():\n",
    "#    print(key,':',value)\n",
    "len(record)\n",
    "elapsed_time"
   ]
  },
  {
   "cell_type": "code",
   "execution_count": 23,
   "metadata": {
    "collapsed": true
   },
   "outputs": [],
   "source": [
    "# combine the label and write to the local destination\n",
    "X_new.insert(0, \"IC50\", y)\n",
    "X_new.to_csv(\"./selected_features/rfe_svm_mic_out_50_with_50percent.csv\")"
   ]
  }
 ],
 "metadata": {
  "anaconda-cloud": {},
  "kernelspec": {
   "display_name": "Python [default]",
   "language": "python",
   "name": "python3"
  },
  "language_info": {
   "codemirror_mode": {
    "name": "ipython",
    "version": 3
   },
   "file_extension": ".py",
   "mimetype": "text/x-python",
   "name": "python",
   "nbconvert_exporter": "python",
   "pygments_lexer": "ipython3",
   "version": "3.5.2"
  }
 },
 "nbformat": 4,
 "nbformat_minor": 1
}
