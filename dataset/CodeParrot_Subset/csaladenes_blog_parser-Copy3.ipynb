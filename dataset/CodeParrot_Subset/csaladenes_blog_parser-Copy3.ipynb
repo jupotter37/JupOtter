{
 "cells": [
  {
   "cell_type": "code",
   "execution_count": 1,
   "metadata": {
    "ExecuteTime": {
     "end_time": "2019-04-17T22:02:40.317480Z",
     "start_time": "2019-04-17T22:02:33.993819Z"
    }
   },
   "outputs": [],
   "source": [
    "import pandas as pd, numpy as np"
   ]
  },
  {
   "cell_type": "code",
   "execution_count": 2,
   "metadata": {
    "ExecuteTime": {
     "end_time": "2019-04-17T22:02:40.335466Z",
     "start_time": "2019-04-17T22:02:40.330479Z"
    }
   },
   "outputs": [],
   "source": [
    "url='https://en.wikipedia.org/wiki/List_of_International_Space_Station_expeditions'"
   ]
  },
  {
   "cell_type": "code",
   "execution_count": 9,
   "metadata": {
    "ExecuteTime": {
     "end_time": "2019-04-17T22:15:51.226318Z",
     "start_time": "2019-04-17T22:15:49.887841Z"
    }
   },
   "outputs": [],
   "source": [
    "import bs4\n",
    "import requests\n",
    "r=requests.get(url)\n",
    "soup = bs4.BeautifulSoup(r.content)\n",
    "tables=soup.findAll(\"table\")"
   ]
  },
  {
   "cell_type": "code",
   "execution_count": 32,
   "metadata": {
    "ExecuteTime": {
     "end_time": "2019-04-17T22:22:47.491027Z",
     "start_time": "2019-04-17T22:22:47.451030Z"
    }
   },
   "outputs": [],
   "source": [
    "ppls={}\n",
    "for trs in [tables[0].findAll(\"tr\"),tables[1].findAll(\"tr\")]:\n",
    "    for i,tr in enumerate(trs):\n",
    "        if i>0:\n",
    "            tds=tr.findAll(\"td\")\n",
    "            for j,td in enumerate(tds):\n",
    "                aas=td.findAll(\"a\")\n",
    "                for a in aas:\n",
    "                    if a:\n",
    "                        txt=a.text\n",
    "                        if txt:\n",
    "                            if '[' not in txt:\n",
    "                                if txt not in ppls: \n",
    "                                    if j==0:\n",
    "                                        ppls[txt]=a['href']"
   ]
  },
  {
   "cell_type": "code",
   "execution_count": 34,
   "metadata": {
    "ExecuteTime": {
     "end_time": "2019-04-17T22:22:52.799034Z",
     "start_time": "2019-04-17T22:22:52.406705Z"
    }
   },
   "outputs": [],
   "source": [
    "df=pd.read_html(url)\n",
    "df=pd.concat(df[:2]).reset_index()"
   ]
  },
  {
   "cell_type": "code",
   "execution_count": 35,
   "metadata": {
    "ExecuteTime": {
     "end_time": "2019-04-17T22:22:53.266991Z",
     "start_time": "2019-04-17T22:22:53.260988Z"
    }
   },
   "outputs": [],
   "source": [
    "def find_names(s,ppls,z):\n",
    "    nms=s.split(' ')\n",
    "    l=2\n",
    "    while l<4:\n",
    "        ppl=' '.join(nms[:l])\n",
    "        if ppl in ppls:\n",
    "            z.append(ppl)\n",
    "            rest=' '.join(nms[l:])\n",
    "            find_names(rest,ppls,z)\n",
    "            l=4\n",
    "        l+=1\n",
    "    return z"
   ]
  },
  {
   "cell_type": "code",
   "execution_count": 36,
   "metadata": {
    "ExecuteTime": {
     "end_time": "2019-04-17T22:22:55.016989Z",
     "start_time": "2019-04-17T22:22:54.050441Z"
    }
   },
   "outputs": [],
   "source": [
    "dgs=[]\n",
    "for i in df.index:\n",
    "    crew=df.loc[i]['Crew'].replace('\\n','')\n",
    "    crews=find_names(crew,ppls,[])\n",
    "    for c in crews:\n",
    "        dg=df.loc[[i]][['Expedition','Duration(days)']].copy()\n",
    "        dg['Crew']=c\n",
    "        date=df.loc[i]['Launch date']\n",
    "        date=date.split(' ')\n",
    "        if ',' in date[1]:\n",
    "            date=date[1].replace(',','')+' '+date[0]+' '+date[2][:4]\n",
    "        else:\n",
    "            date=date[0]+' '+date[1]+' '+date[2][:4]\n",
    "        dg['Date']=date\n",
    "        dgs.append(dg)"
   ]
  },
  {
   "cell_type": "code",
   "execution_count": 37,
   "metadata": {
    "ExecuteTime": {
     "end_time": "2019-04-17T22:22:55.163978Z",
     "start_time": "2019-04-17T22:22:55.018966Z"
    }
   },
   "outputs": [],
   "source": [
    "dgs=pd.concat(dgs).reset_index()\n",
    "dhs=dgs.set_index(['Expedition','Crew'])"
   ]
  },
  {
   "cell_type": "code",
   "execution_count": 38,
   "metadata": {
    "ExecuteTime": {
     "end_time": "2019-04-17T22:22:55.188969Z",
     "start_time": "2019-04-17T22:22:55.178971Z"
    }
   },
   "outputs": [],
   "source": [
    "def get_duration(duration):\n",
    "    default='160'\n",
    "    duration=str(duration)\n",
    "    if duration=='nan':\n",
    "        return default\n",
    "    if 'ransfer' in duration:\n",
    "            duration=' '.join(duration.split(' ')[-2:])\n",
    "            try:\n",
    "                duration=dhs.loc[duration].loc[crew]['Duration(days)']\n",
    "            except:\n",
    "                print(crew,duration)\n",
    "                return default\n",
    "    return duration"
   ]
  },
  {
   "cell_type": "code",
   "execution_count": 39,
   "metadata": {
    "ExecuteTime": {
     "end_time": "2019-04-17T22:22:55.991021Z",
     "start_time": "2019-04-17T22:22:55.666483Z"
    }
   },
   "outputs": [
    {
     "name": "stdout",
     "output_type": "stream",
     "text": [
      "Mikhail Korniyenko year mission\n",
      "Scott J. Kelly year mission\n",
      "Yuri Malenchenko Expedition 47\n",
      "Timothy Peake Expedition 47\n",
      "Aleksey Ovchinin Expedition 60\n",
      "Christina Koch Expedition 60\n",
      "Nick Hague Expedition 60\n"
     ]
    }
   ],
   "source": [
    "data=[]\n",
    "for i in dgs.index:\n",
    "    crew=dgs.loc[i]['Crew']\n",
    "    date=dgs.loc[i]['Date']\n",
    "    if 'ransfer' not in date:\n",
    "        duration=dgs.loc[i]['Duration(days)']\n",
    "        duration=get_duration(duration)\n",
    "        duration=get_duration(duration)\n",
    "        duration=get_duration(duration)\n",
    "        if '[' in duration:\n",
    "            duration=duration[:duration.find('[')]\n",
    "        duration=int(np.round(float(duration.replace('days','').replace('day','').strip()),0))\n",
    "        data.append({'Crew':crew,'Date':date,'Duration':duration})      "
   ]
  },
  {
   "cell_type": "code",
   "execution_count": 40,
   "metadata": {
    "ExecuteTime": {
     "end_time": "2019-04-17T22:22:56.094162Z",
     "start_time": "2019-04-17T22:22:56.081155Z"
    }
   },
   "outputs": [],
   "source": [
    "data=pd.DataFrame(data)"
   ]
  },
  {
   "cell_type": "code",
   "execution_count": 41,
   "metadata": {
    "ExecuteTime": {
     "end_time": "2019-04-17T22:22:57.532506Z",
     "start_time": "2019-04-17T22:22:57.521508Z"
    }
   },
   "outputs": [
    {
     "data": {
      "text/html": [
       "<div>\n",
       "<style scoped>\n",
       "    .dataframe tbody tr th:only-of-type {\n",
       "        vertical-align: middle;\n",
       "    }\n",
       "\n",
       "    .dataframe tbody tr th {\n",
       "        vertical-align: top;\n",
       "    }\n",
       "\n",
       "    .dataframe thead th {\n",
       "        text-align: right;\n",
       "    }\n",
       "</style>\n",
       "<table border=\"1\" class=\"dataframe\">\n",
       "  <thead>\n",
       "    <tr style=\"text-align: right;\">\n",
       "      <th></th>\n",
       "      <th>Crew</th>\n",
       "      <th>Date</th>\n",
       "      <th>Duration</th>\n",
       "    </tr>\n",
       "  </thead>\n",
       "  <tbody>\n",
       "    <tr>\n",
       "      <th>0</th>\n",
       "      <td>Yuri Malenchenko</td>\n",
       "      <td>26 April 2003</td>\n",
       "      <td>185</td>\n",
       "    </tr>\n",
       "    <tr>\n",
       "      <th>1</th>\n",
       "      <td>Gennady Padalka</td>\n",
       "      <td>19 April 2004</td>\n",
       "      <td>186</td>\n",
       "    </tr>\n",
       "    <tr>\n",
       "      <th>2</th>\n",
       "      <td>Pavel Vinogradov</td>\n",
       "      <td>30 March 2006</td>\n",
       "      <td>183</td>\n",
       "    </tr>\n",
       "    <tr>\n",
       "      <th>3</th>\n",
       "      <td>Jeffrey N. Williams</td>\n",
       "      <td>30 March 2006</td>\n",
       "      <td>183</td>\n",
       "    </tr>\n",
       "    <tr>\n",
       "      <th>4</th>\n",
       "      <td>Thomas Reiter</td>\n",
       "      <td>4 July 2006</td>\n",
       "      <td>171</td>\n",
       "    </tr>\n",
       "  </tbody>\n",
       "</table>\n",
       "</div>"
      ],
      "text/plain": [
       "                  Crew           Date  Duration\n",
       "0     Yuri Malenchenko  26 April 2003       185\n",
       "1      Gennady Padalka  19 April 2004       186\n",
       "2     Pavel Vinogradov  30 March 2006       183\n",
       "3  Jeffrey N. Williams  30 March 2006       183\n",
       "4        Thomas Reiter    4 July 2006       171"
      ]
     },
     "execution_count": 41,
     "metadata": {},
     "output_type": "execute_result"
    }
   ],
   "source": [
    "data.head()"
   ]
  },
  {
   "cell_type": "code",
   "execution_count": 42,
   "metadata": {
    "ExecuteTime": {
     "end_time": "2019-04-17T22:22:57.803323Z",
     "start_time": "2019-04-17T22:22:57.738318Z"
    }
   },
   "outputs": [],
   "source": [
    "links={}\n",
    "country_map={}\n",
    "for trs in [tables[0].findAll(\"tr\"),tables[1].findAll(\"tr\")]:\n",
    "    for i,tr in enumerate(trs):\n",
    "        if i>0:\n",
    "            aas=tr.findAll(\"a\")\n",
    "            for j,a in enumerate(aas):\n",
    "                if a:\n",
    "                    txt=a.text\n",
    "                    if txt:\n",
    "                        if '[' not in txt:\n",
    "                            links[txt]=a['href']\n",
    "                            if txt in data['Crew'].values:\n",
    "                                if txt not in country_map:\n",
    "                                    country=aas[j-1].find('img')['alt']\n",
    "                                    country_map[txt]=country\n",
    "                    else:\n",
    "                        if j>1:\n",
    "                            country=a.find('img')['alt']\n",
    "                            links[country]=a.find('img')['src']"
   ]
  },
  {
   "cell_type": "code",
   "execution_count": 43,
   "metadata": {
    "ExecuteTime": {
     "end_time": "2019-04-17T22:22:58.001357Z",
     "start_time": "2019-04-17T22:22:57.936321Z"
    }
   },
   "outputs": [],
   "source": [
    "countries=pd.DataFrame(country_map,index=['Country']).T\n",
    "links=pd.DataFrame(links,index=['Link']).T"
   ]
  },
  {
   "cell_type": "code",
   "execution_count": 44,
   "metadata": {
    "ExecuteTime": {
     "end_time": "2019-04-17T22:22:58.684615Z",
     "start_time": "2019-04-17T22:22:58.664612Z"
    }
   },
   "outputs": [],
   "source": [
    "data=data.join(countries,on='Crew')\n",
    "data['Crew_link']=data.join(links,on='Crew')['Link']\n",
    "data['Country_link']=data.join(links,on='Country')['Link']"
   ]
  },
  {
   "cell_type": "code",
   "execution_count": 45,
   "metadata": {
    "ExecuteTime": {
     "end_time": "2019-04-17T22:23:00.055513Z",
     "start_time": "2019-04-17T22:22:59.060533Z"
    }
   },
   "outputs": [],
   "source": [
    "data.to_csv('data.csv')"
   ]
  },
  {
   "cell_type": "code",
   "execution_count": 46,
   "metadata": {
    "ExecuteTime": {
     "end_time": "2019-04-17T22:23:02.637225Z",
     "start_time": "2019-04-17T22:23:00.058510Z"
    }
   },
   "outputs": [],
   "source": [
    "ndata={}\n",
    "for i in data.index:\n",
    "    start=pd.to_datetime(data.loc[i]['Date'])\n",
    "    periods=data.loc[i]['Duration']\n",
    "    crew=data.loc[i]['Crew']\n",
    "    country=data.loc[i]['Country']\n",
    "    for idate in pd.date_range(start,periods=periods,freq='1D'):\n",
    "        date=str(idate)[:10]\n",
    "        if date not in ndata: ndata[date]={}\n",
    "        if country not in ndata[date]: ndata[date][country]=0\n",
    "        ndata[date][country]+=1"
   ]
  },
  {
   "cell_type": "code",
   "execution_count": 47,
   "metadata": {
    "ExecuteTime": {
     "end_time": "2019-04-17T22:23:03.479316Z",
     "start_time": "2019-04-17T22:23:02.639202Z"
    }
   },
   "outputs": [],
   "source": [
    "pd.DataFrame(ndata).to_csv('ndata.csv')"
   ]
  },
  {
   "cell_type": "code",
   "execution_count": 48,
   "metadata": {
    "ExecuteTime": {
     "end_time": "2019-04-17T22:23:03.487302Z",
     "start_time": "2019-04-17T22:23:03.482306Z"
    }
   },
   "outputs": [],
   "source": [
    "import json"
   ]
  },
  {
   "cell_type": "code",
   "execution_count": 49,
   "metadata": {
    "ExecuteTime": {
     "end_time": "2019-04-17T22:23:03.532299Z",
     "start_time": "2019-04-17T22:23:03.492304Z"
    }
   },
   "outputs": [
    {
     "data": {
      "text/plain": [
       "288546"
      ]
     },
     "execution_count": 49,
     "metadata": {},
     "output_type": "execute_result"
    }
   ],
   "source": [
    "open('ndata.json','w').write(json.dumps(ndata))"
   ]
  },
  {
   "cell_type": "code",
   "execution_count": 50,
   "metadata": {
    "ExecuteTime": {
     "end_time": "2019-04-17T22:23:04.237324Z",
     "start_time": "2019-04-17T22:23:03.536301Z"
    }
   },
   "outputs": [],
   "source": [
    "ndata2=[]\n",
    "for i in data.index:\n",
    "    start=pd.to_datetime(data.loc[i]['Date'])\n",
    "    periods=data.loc[i]['Duration']\n",
    "    crew=data.loc[i]['Crew']\n",
    "    country=data.loc[i]['Country']\n",
    "    for idate in pd.date_range(start,periods=periods,freq='1D'):\n",
    "        date=str(idate)[:10]\n",
    "        ndata2.append({'Date':date,'Name':crew,'Country':country,'Crew':1})"
   ]
  },
  {
   "cell_type": "code",
   "execution_count": 51,
   "metadata": {
    "ExecuteTime": {
     "end_time": "2019-04-17T22:23:04.363327Z",
     "start_time": "2019-04-17T22:23:04.240322Z"
    }
   },
   "outputs": [
    {
     "data": {
      "text/plain": [
       "1868353"
      ]
     },
     "execution_count": 51,
     "metadata": {},
     "output_type": "execute_result"
    }
   ],
   "source": [
    "open('ndata2.json','w').write(json.dumps(ndata2))"
   ]
  },
  {
   "cell_type": "code",
   "execution_count": 52,
   "metadata": {
    "ExecuteTime": {
     "end_time": "2019-04-17T22:23:04.430326Z",
     "start_time": "2019-04-17T22:23:04.368329Z"
    }
   },
   "outputs": [
    {
     "data": {
      "text/plain": [
       "86130"
      ]
     },
     "execution_count": 52,
     "metadata": {},
     "output_type": "execute_result"
    }
   ],
   "source": [
    "open('ndata2a.json','w').write(json.dumps(ndata2[:1000]))"
   ]
  },
  {
   "cell_type": "code",
   "execution_count": 53,
   "metadata": {
    "ExecuteTime": {
     "end_time": "2019-04-17T22:23:04.968872Z",
     "start_time": "2019-04-17T22:23:04.435326Z"
    }
   },
   "outputs": [],
   "source": [
    "pd.DataFrame(ndata).T.to_csv('ndataT.csv')"
   ]
  },
  {
   "cell_type": "code",
   "execution_count": 54,
   "metadata": {
    "ExecuteTime": {
     "end_time": "2019-04-17T22:23:05.386861Z",
     "start_time": "2019-04-17T22:23:04.970857Z"
    }
   },
   "outputs": [],
   "source": [
    "df=pd.DataFrame(ndata).T.fillna(0)\n",
    "df.index.name='Date'\n",
    "df=df.reset_index()"
   ]
  },
  {
   "cell_type": "code",
   "execution_count": 55,
   "metadata": {
    "ExecuteTime": {
     "end_time": "2019-04-17T22:23:05.465396Z",
     "start_time": "2019-04-17T22:23:05.391858Z"
    }
   },
   "outputs": [],
   "source": [
    "edata={}\n",
    "for c in df.columns:\n",
    "    if c!='Date':\n",
    "        edata[c]=list(df[c].values.astype(int).astype(str))\n",
    "    else:\n",
    "        edata[c]=list(df[c].values)"
   ]
  },
  {
   "cell_type": "code",
   "execution_count": 56,
   "metadata": {
    "ExecuteTime": {
     "end_time": "2019-04-17T22:23:05.475394Z",
     "start_time": "2019-04-17T22:23:05.467387Z"
    }
   },
   "outputs": [
    {
     "data": {
      "text/plain": [
       "dict_keys(['Date', 'Belgium', 'Canada', 'France', 'Germany', 'Italy', 'Japan', 'Netherlands', 'Russia', 'United Kingdom', 'United States'])"
      ]
     },
     "execution_count": 56,
     "metadata": {},
     "output_type": "execute_result"
    }
   ],
   "source": [
    "edata.keys()"
   ]
  },
  {
   "cell_type": "code",
   "execution_count": 57,
   "metadata": {
    "ExecuteTime": {
     "end_time": "2019-04-17T22:23:05.647393Z",
     "start_time": "2019-04-17T22:23:05.479396Z"
    },
    "scrolled": true
   },
   "outputs": [],
   "source": [
    "json.dump(edata,open('edata.json','w'))"
   ]
  },
  {
   "cell_type": "code",
   "execution_count": null,
   "metadata": {},
   "outputs": [],
   "source": []
  }
 ],
 "metadata": {
  "kernelspec": {
   "display_name": "Python 3",
   "language": "python",
   "name": "python3"
  },
  "language_info": {
   "codemirror_mode": {
    "name": "ipython",
    "version": 3
   },
   "file_extension": ".py",
   "mimetype": "text/x-python",
   "name": "python",
   "nbconvert_exporter": "python",
   "pygments_lexer": "ipython3",
   "version": "3.7.0"
  },
  "toc": {
   "base_numbering": 1,
   "nav_menu": {},
   "number_sections": true,
   "sideBar": true,
   "skip_h1_title": false,
   "title_cell": "Table of Contents",
   "title_sidebar": "Contents",
   "toc_cell": false,
   "toc_position": {},
   "toc_section_display": true,
   "toc_window_display": false
  }
 },
 "nbformat": 4,
 "nbformat_minor": 2
}
