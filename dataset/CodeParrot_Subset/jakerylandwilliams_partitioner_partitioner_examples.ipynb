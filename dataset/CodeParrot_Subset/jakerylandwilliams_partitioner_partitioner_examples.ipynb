{
 "cells": [
  {
   "cell_type": "markdown",
   "metadata": {},
   "source": [
    "## Partitioner examples\n",
    "### This is a jupyter notebook with a few vignettes that present some of the Python partitioner package's functionality.\n",
    "Note: Cleaning of text and determination of clauses  occurs in the partitionText method.  Because of this, it is unwise to pass large, uncleaned pieces of text as 'clauses' directly through the .partition() method (regardless of the type of partition being taken), as this will simply tokenize the text by splitting on \" \", producing many long, punctuation-filled phrases, and likely run very slow. As such, best practices only use .partition() for testing and exploring the tool on case-interested clauses.\n"
   ]
  },
  {
   "cell_type": "code",
   "execution_count": 7,
   "metadata": {
    "collapsed": false
   },
   "outputs": [],
   "source": [
    "from partitioner import partitioner\n",
    "from partitioner.methods import *"
   ]
  },
  {
   "cell_type": "markdown",
   "metadata": {},
   "source": [
    "### Process the English Wiktionary to generate the (default) partition probabilities.\n",
    "Note: this step can take significant time for large dictionaries (~5 min)."
   ]
  },
  {
   "cell_type": "code",
   "execution_count": 4,
   "metadata": {
    "collapsed": true
   },
   "outputs": [],
   "source": [
    "## Vignette 1: Build informed partition data from a dictionary, \n",
    "##             and store to local collection\n",
    "def preprocessENwiktionary():\n",
    "    pa = partitioner(informed = True, dictionary = \"./dictionaries/enwiktionary.txt\")\n",
    "    pa.dumpqs(qsname=\"enwiktionary\")"
   ]
  },
  {
   "cell_type": "code",
   "execution_count": 5,
   "metadata": {
    "collapsed": false
   },
   "outputs": [],
   "source": [
    "preprocessENwiktionary()"
   ]
  },
  {
   "cell_type": "markdown",
   "metadata": {},
   "source": [
    "### Perform a few one-off partitions."
   ]
  },
  {
   "cell_type": "code",
   "execution_count": 4,
   "metadata": {
    "collapsed": true
   },
   "outputs": [],
   "source": [
    "## Vignette 2: An informed, one-off partition of a single clause\n",
    "def informedOneOffPartition(clause = \"How are you doing today?\"):\n",
    "    pa = oneoff()\n",
    "    print pa.partition(clause)"
   ]
  },
  {
   "cell_type": "code",
   "execution_count": 5,
   "metadata": {
    "collapsed": false
   },
   "outputs": [
    {
     "name": "stdout",
     "output_type": "stream",
     "text": [
      "['How are you doing', 'today?']\n",
      "['Fine,', 'thanks a bunch', 'for', 'asking!']\n"
     ]
    }
   ],
   "source": [
    "informedOneOffPartition()\n",
    "informedOneOffPartition(\"Fine, thanks a bunch for asking!\")"
   ]
  },
  {
   "cell_type": "markdown",
   "metadata": {},
   "source": [
    "### Solve for the informed stochastic expectation partition (given the informed partition probabilities)."
   ]
  },
  {
   "cell_type": "code",
   "execution_count": 6,
   "metadata": {
    "collapsed": true
   },
   "outputs": [],
   "source": [
    "## Vignette 3: An informed, stochastic expectation partition of a single clause\n",
    "def informedStochasticPartition(clause = \"How are you doing today?\"):\n",
    "    pa = stochastic()\n",
    "    print pa.partition(clause)"
   ]
  },
  {
   "cell_type": "code",
   "execution_count": 7,
   "metadata": {
    "collapsed": false
   },
   "outputs": [
    {
     "name": "stdout",
     "output_type": "stream",
     "text": [
      "{'are you': 1.407092428930965e-09, 'How are you': 0.00025712526951610467, 'How': 5.472370457590498e-06, 'doing': 0.000257136448270894, 'you doing': 3.79920846523168e-05, 'How are': 3.800164835444141e-05, 'are': 2.0796023583003835e-10, 'are you doing': 5.47075540492574e-06, 'today?': 1.0, 'you': 9.771662360456963e-09, 'How are you doing': 0.999699400711672}\n"
     ]
    }
   ],
   "source": [
    "informedStochasticPartition()"
   ]
  },
  {
   "cell_type": "markdown",
   "metadata": {},
   "source": [
    "### Perform a pure random (uniform) one-off partition."
   ]
  },
  {
   "cell_type": "code",
   "execution_count": 8,
   "metadata": {
    "collapsed": true
   },
   "outputs": [],
   "source": [
    "## Vignette 4: An uniform, one-off partition of a single clause\n",
    "def uniformOneOffPartition(informed = False, clause = \"How are you doing today?\", qunif = 0.25):\n",
    "    pa = oneoff(informed = informed, qunif = qunif)\n",
    "    print pa.partition(clause)"
   ]
  },
  {
   "cell_type": "code",
   "execution_count": 15,
   "metadata": {
    "collapsed": false
   },
   "outputs": [
    {
     "name": "stdout",
     "output_type": "stream",
     "text": [
      "['How are', 'you doing today?']\n",
      "['How', 'are', 'you doing today?']\n"
     ]
    }
   ],
   "source": [
    "uniformOneOffPartition()\n",
    "uniformOneOffPartition(qunif = 0.75)"
   ]
  },
  {
   "cell_type": "markdown",
   "metadata": {},
   "source": [
    "### Solve for the uniform stochastic expectation partition (given the uniform partition probabilities)."
   ]
  },
  {
   "cell_type": "code",
   "execution_count": 16,
   "metadata": {
    "collapsed": true
   },
   "outputs": [],
   "source": [
    "## Vignette 5: An uniform, stochastic expectation partition of a single clause\n",
    "def uniformStochasticPartition(informed = False, clause = \"How are you doing today?\", qunif = 0.25):\n",
    "    pa = stochastic(informed = informed, qunif = qunif)\n",
    "    print pa.partition(clause)"
   ]
  },
  {
   "cell_type": "code",
   "execution_count": 17,
   "metadata": {
    "collapsed": false
   },
   "outputs": [
    {
     "name": "stdout",
     "output_type": "stream",
     "text": [
      "{'are you doing today?': 0.10546875000000001, 'How are you': 0.14062499999999997, 'How': 0.25, 'doing': 0.0625, 'How are': 0.1875, 'How are you doing today?': 0.31640625, 'doing today?': 0.1875, 'you doing': 0.046875, 'are you doing': 0.03515624999999999, 'are': 0.0625, 'you doing today?': 0.14062499999999997, 'today?': 0.25, 'are you': 0.046875, 'you': 0.0625, 'How are you doing': 0.10546875000000001}\n",
      "{'a': 0.0625, 'Fine,': 0.25, 'thanks a': 0.046875, 'Fine, thanks a bunch for asking!': 0.23730468749999997, 'bunch for asking!': 0.14062499999999997, 'a bunch for': 0.03515624999999999, 'for': 0.0625, 'thanks a bunch for': 0.026367187499999993, 'Fine, thanks a bunch': 0.10546875000000001, 'Fine, thanks a bunch for': 0.0791015625, 'a bunch': 0.046875, 'Fine, thanks a': 0.14062499999999997, 'Fine, thanks': 0.1875, 'thanks': 0.0625, 'a bunch for asking!': 0.10546875000000001, 'asking!': 0.25, 'bunch for': 0.046875, 'for asking!': 0.1875, 'thanks a bunch for asking!': 0.0791015625, 'thanks a bunch': 0.03515624999999999, 'bunch': 0.0625}\n"
     ]
    }
   ],
   "source": [
    "uniformStochasticPartition()\n",
    "uniformStochasticPartition(clause = \"Fine, thanks a bunch for asking!\")"
   ]
  },
  {
   "cell_type": "markdown",
   "metadata": {},
   "source": [
    "### Build a rank-frequency distribution for a text and determine its Zipf/Simon (bag-of-phrase) $R^2$."
   ]
  },
  {
   "cell_type": "code",
   "execution_count": 18,
   "metadata": {
    "collapsed": false
   },
   "outputs": [],
   "source": [
    "## Vignette 6: Use the default partitioning method to partition the main partitioner.py file and compute rsq\n",
    "def testPartitionTextAndFit():\n",
    "    pa = oneoff()\n",
    "    pa.partitionText(textfile = pa.home+\"/../README.md\")\n",
    "    pa.testFit()\n",
    "    print \"R-squared: \",round(pa.rsq,2)\n",
    "    print\n",
    "    phrases = sorted(pa.counts, key = lambda x: pa.counts[x], reverse = True)\n",
    "    for j in range(25):\n",
    "        phrase = phrases[j]\n",
    "        print phrase, pa.counts[phrase]"
   ]
  },
  {
   "cell_type": "code",
   "execution_count": 19,
   "metadata": {
    "collapsed": false,
    "scrolled": true
   },
   "outputs": [
    {
     "name": "stdout",
     "output_type": "stream",
     "text": [
      "R-squared:  0.11\n",
      "\n",
      "project 7.0\n",
      " 5.0\n",
      "the 5.0\n",
      "code 4.0\n",
      "to 4.0\n",
      "and 4.0\n",
      "of the 3.0\n",
      "API 3.0\n",
      "should 2.0\n",
      "docs 2.0\n",
      "A short 2.0\n",
      "This 2.0\n",
      "etc 2.0\n",
      "your 2.0\n",
      "size 2.0\n",
      "reference 2.0\n",
      "can 2.0\n",
      "examples 2.0\n",
      "is 2.0\n",
      "how 2.0\n",
      "added 2.0\n",
      "description 2.0\n",
      "important 2.0\n",
      "Make sure 1.0\n",
      "show 1.0\n"
     ]
    }
   ],
   "source": [
    "testPartitionTextAndFit()"
   ]
  },
  {
   "cell_type": "markdown",
   "metadata": {},
   "source": [
    "### Process the some other Wiktionaries to generate the partition probabilities.\n",
    "Note: These dictionaries are not as well curated and potentially contain phrases from other languages (a consequence of wiktionary construction). As a result, they hold many many more phrases and will take longer to process. However, since the vast majority of these dictionaries are language-correct, effects on the partitioner and its (course) partition probabilities is likely negligable."
   ]
  },
  {
   "cell_type": "code",
   "execution_count": 6,
   "metadata": {
    "collapsed": true
   },
   "outputs": [],
   "source": [
    "## Vignette X1: Build informed partition data from other dictionaries, \n",
    "##             and store to local collection\n",
    "def preprocessOtherWiktionaries():\n",
    "    for lang in [\"ru\", \"pt\", \"pl\", \"nl\", \"it\", \"fr\", \"fi\", \"es\", \"el\", \"de\", \"en\"]:\n",
    "        print \"working on \"+lang+\"...\"\n",
    "        pa = partitioner(informed = True, dictionary = \"./dictionaries/\"+lang+\".txt\")\n",
    "        pa.dumpqs(qsname=lang)"
   ]
  },
  {
   "cell_type": "code",
   "execution_count": 7,
   "metadata": {
    "collapsed": false
   },
   "outputs": [
    {
     "name": "stdout",
     "output_type": "stream",
     "text": [
      "working on ru...\n",
      "working on pt...\n",
      "working on pl...\n",
      "working on nl...\n",
      "working on it...\n",
      "working on fr...\n",
      "working on fi...\n",
      "working on es...\n",
      "working on el...\n",
      "working on de...\n",
      "working on en...\n"
     ]
    }
   ],
   "source": [
    "preprocessOtherWiktionaries()"
   ]
  },
  {
   "cell_type": "markdown",
   "metadata": {},
   "source": [
    "### Test partitioner on some other languages."
   ]
  },
  {
   "cell_type": "code",
   "execution_count": 95,
   "metadata": {
    "collapsed": true
   },
   "outputs": [],
   "source": [
    "from partitioner import partitioner\n",
    "from partitioner.methods import *\n",
    "## Vignette X2: Use the default partitioning method to partition the main partitioner.py file and compute rsq\n",
    "def testFrPartitionTextAndFit():\n",
    "    for lang in [\"ru\", \"pt\", \"pl\", \"nl\", \"it\", \"fr\", \"fi\", \"es\", \"el\", \"de\", \"en\"]:\n",
    "        pa = oneoff(qsname = lang)\n",
    "        pa.partitionText(textfile = \"./tests/test_\"+lang+\".txt\")\n",
    "        pa.testFit()\n",
    "        print\n",
    "        print lang+\" R-squared: \",round(pa.rsq,2)\n",
    "        print\n",
    "        phrases = sorted(pa.counts, key = lambda x: pa.counts[x], reverse = True)\n",
    "        for j in range(5):\n",
    "            phrase = phrases[j]\n",
    "            print phrase, pa.counts[phrase]"
   ]
  },
  {
   "cell_type": "code",
   "execution_count": 96,
   "metadata": {
    "collapsed": false,
    "scrolled": true
   },
   "outputs": [
    {
     "name": "stdout",
     "output_type": "stream",
     "text": [
      "\n",
      "ru R-squared:  0.07\n",
      "\n",
      "и 328.0\n",
      "въ 204.0\n",
      "я 126.0\n",
      "е 106.0\n",
      "на 101.0\n",
      "\n",
      "pt R-squared:  0.75\n",
      "\n",
      "de 470.0\n",
      "e 265.0\n",
      "que 243.0\n",
      "da 234.0\n",
      "a 193.0\n",
      "\n",
      "pl R-squared:  0.04\n",
      "\n",
      "i 40.0\n",
      "Illustration 26.0\n",
      "się 23.0\n",
      "z 20.0\n",
      "w 18.0\n",
      "\n",
      "nl R-squared:  0.74\n",
      "\n",
      "ik 980.0\n",
      "een 741.0\n",
      "dat 705.0\n",
      "van 644.0\n",
      "de 634.0\n",
      "\n",
      "it R-squared:  0.7\n",
      "\n",
      "e 6646.0\n",
      "che 5656.0\n",
      "di 5393.0\n",
      "a 3873.0\n",
      "il 3692.0\n",
      "\n",
      "fr R-squared:  0.87\n",
      "\n",
      "et 2001.0\n",
      "a 1486.0\n",
      "de 1333.0\n",
      "les 1139.0\n",
      "des 1060.0\n",
      "\n",
      "fi R-squared:  0.31\n",
      "\n",
      "ja 246.0\n",
      "oli 150.0\n",
      "hän 147.0\n",
      "Lopo 109.0\n",
      "että 88.0\n",
      "\n",
      "es R-squared:  0.67\n",
      "\n",
      "de 1981.0\n",
      "y 1651.0\n",
      "que 1311.0\n",
      "el 698.0\n",
      "en 684.0\n",
      "\n",
      "el R-squared:  0.6\n",
      "\n",
      "να 332.0\n",
      "του 253.0\n",
      "τον 250.0\n",
      "και 205.0\n",
      "ΟΙΔΙΠΟΥΣ 192.0\n",
      "\n",
      "de R-squared:  0.77\n",
      "\n",
      "und 2691.0\n",
      "die 2521.0\n",
      "der 2282.0\n",
      "zu 2145.0\n",
      "sie 1702.0\n",
      "\n",
      "en R-squared:  0.91\n",
      "\n",
      "and 3691.0\n",
      "the 2838.0\n",
      "that 1556.0\n",
      "of 1472.0\n",
      "to 1358.0\n"
     ]
    }
   ],
   "source": [
    "testFrPartitionTextAndFit()"
   ]
  },
  {
   "cell_type": "code",
   "execution_count": null,
   "metadata": {
    "collapsed": true
   },
   "outputs": [],
   "source": []
  }
 ],
 "metadata": {
  "kernelspec": {
   "display_name": "Python 2",
   "language": "python",
   "name": "python2"
  },
  "language_info": {
   "codemirror_mode": {
    "name": "ipython",
    "version": 2
   },
   "file_extension": ".py",
   "mimetype": "text/x-python",
   "name": "python",
   "nbconvert_exporter": "python",
   "pygments_lexer": "ipython2",
   "version": "2.7.11"
  }
 },
 "nbformat": 4,
 "nbformat_minor": 0
}
