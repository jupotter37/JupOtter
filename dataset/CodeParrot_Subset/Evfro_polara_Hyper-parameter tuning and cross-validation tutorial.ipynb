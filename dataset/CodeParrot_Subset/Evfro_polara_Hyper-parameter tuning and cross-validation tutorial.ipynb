{
 "cells": [
  {
   "cell_type": "markdown",
   "metadata": {},
   "source": [
    "# Introduction"
   ]
  },
  {
   "cell_type": "markdown",
   "metadata": {},
   "source": [
    "<div class=\"alert alert-block alert-info\">In this tutorial we will go through a full cycle of model tuning and evaluation to perform a fair comparison of recommendation algorithms with Polara.</div>"
   ]
  },
  {
   "cell_type": "markdown",
   "metadata": {},
   "source": [
    "This will include 2 phases: grid-search for finding  (almost) optimal values of hyper-parameters and verification of results via 5-fold cross-validation. We will compare a popular ALS-based matrix factorization (MF) model called **Weighted Regularized Matrix Factorization (WRMF a.k.a. iALS)** [Hu, 2008] with much simpler SVD-based models.\n",
    "\n",
    "We will use a standard sparse implementation of SVD from [*Scipy*](https://docs.scipy.org/doc/scipy/reference/generated/scipy.sparse.linalg.svds.html) for the latter and a great library called [*implicit*](https://github.com/benfred/implicit) for iALS. Both are wrapped by Polara and can be accessed via the corresponding recommender model classes. Due to its practicality the *implicit* library is often recommended to beginners and sometimes even serves as a default tool in production. On the other hand, there are some important yet often overlooked features, which make SVD-based models stand out. Ignoring them in my opinion leads to certain misconceptions and myths, not to say that it also overcomplicates things quite a bit.\n",
    "\n",
    "Note that by saying SVD I really mean *Singular Value Decomposition*, not just an arbitrary matrix factorization. In that sense, **methods like FunkSVD, SVD++, SVDFeature, etc., are not SVD-based at all**, even though historically they use SVD acronym in their names and are often referenced as if they are real substitutes for SVD. These methods utilize another optimization algorithm, typically based on stochastic gradient descent, and do not preserve the algebraic properties of SVD. This is really an important distinction, especially in the view of the following remarks:\n",
    "\n",
    "1. **SVD-based approach has a number of unique and beneficial properties**. To name a few, it produces stable and determenistic output with global guarantees (can be critical for non-regression testing). It admits the same prediction formula for both known and previously unseen users as long as at least one user rating is known (this is especially handy for online regime). It requires minimal tuning and allows to compute and store a single latent feature matrix - either for users or for items - instead of computing and storing both of them. This luxury is not available in the majority of other matrix factorization approaches, definitely not in popular ones.  \n",
    "2. Thanks to the Lanczos procedure, computational complexity of truncated SVD **scales linearly with the number of known observations and with the number of users/items**. It scales quadratically only with the rank of decomposition. There are [open source implementations](https://github.com/criteo/rsvd), allowing to handle nearly *billion-scale problems* with one of its [efficient randomized versions](https://medium.com/criteo-labs/sparkrsvd-open-sourced-by-criteo-for-large-scale-recommendation-engines-6695b649f519).  \n",
    "3. At least **in some cases the simplest possible model called PureSVD outperforms other more sophisticated matrix factorization methods** [Cremonesi, 2010].\n",
    "4. Moreover, **PureSVD can be quite easily tuned to perform much better** [Nikolakopoulos, 2019].\n",
    "5. Finally, it can take a **hybrid form to include side information** via the generalized formulation (see Chapter 6 of [my thesis](https://www.skoltech.ru/en/2018/09/phd-thesis-defense-evgeny-frolov)). Even without hybridization it can be quite **successfully applied in the cold start regime** [Frolov, 2019]. \n",
    "\n",
    "Despite that impresisve list, SVD-based models **rarely get into the list of baselines** to compare or to start with."
   ]
  },
  {
   "cell_type": "markdown",
   "metadata": {},
   "source": [
    "<div class=\"alert alert-block alert-info\">Hence, this tutorial also aims at performing an assessment of the default choice of many practitioners to see whether it really stays advantageous over the simpler SVD-based approach after a thorough tuning of both models.</div>"
   ]
  },
  {
   "cell_type": "markdown",
   "metadata": {},
   "source": [
    "## References"
   ]
  },
  {
   "cell_type": "markdown",
   "metadata": {},
   "source": [
    "* [Hu, 2008] Hu Y., Koren, Y. and Volinsky, C., 2008. *Collaborative Filtering for Implicit Feedback Datasets*. In ICDM (Vol. 8, pp. 263-272). [Link](http://yifanhu.net/PUB/cf.pdf).  \n",
    "* [Cremonesi, 2010] Cremonesi, P., Koren, Y. and Turrin, R., 2010. *Performance of recommender algorithms on top-n recommendation tasks*. In Proceedings of the fourth ACM conference on Recommender systems (pp. 39-46). ACM. [Link](https://www.researchgate.net/publication/221141030_Performance_of_recommender_algorithms_on_top-N_recommendation_tasks).  \n",
    "* [Nikolakopoulos, 2019] Nikolakopoulos, A.N., Kalantzis, V., Gallopoulos, E. and Garofalakis, J.D., 2019. *EigenRec: generalizing PureSVD for effective and efficient top-N recommendations*. Knowledge and Information Systems, 58(1), pp.59-81. [Link](https://arxiv.org/abs/1511.06033).\n",
    "* [Frolov, 2019] Frolov, E. and Oseledets, I., 2019. *HybridSVD: When Collaborative Information is Not Enough*. To appear in Proceedings of the Thirteenth ACM Conference on Recommender Systems. ACM. [Link](https://arxiv.org/abs/1802.06398)"
   ]
  },
  {
   "cell_type": "markdown",
   "metadata": {},
   "source": [
    "# Downloading data"
   ]
  },
  {
   "cell_type": "markdown",
   "metadata": {},
   "source": [
    "We will use the **[Movielens-10M](https://grouplens.org/datasets/movielens/)** dataset for our experiments. It's large enough to perform reliable evaluation; however, not that large that you would spend too many hours waiting for results. If you don't plan to play with the code, you may want to run all cells with a single command and leave the notebook running in the background, while reading the text. It takes around 1.5h to complete this notebook on a modern laptop."
   ]
  },
  {
   "cell_type": "markdown",
   "metadata": {},
   "source": [
    "<div class=\"alert alert-block alert-warning\">Note that you'll need an internet connection in order to run the cell below.</div>"
   ]
  },
  {
   "cell_type": "markdown",
   "metadata": {},
   "source": [
    "It will automatically download data, store it in a temporary location, and convert into a `pandas` dataframe. Alternatively, if you have already downloaded the dataset, you can use its local path as an input for the `get_movielens_data` function instead of `tmp_file`."
   ]
  },
  {
   "cell_type": "code",
   "execution_count": 1,
   "metadata": {},
   "outputs": [],
   "source": [
    "import urllib\n",
    "from polara import (get_movielens_data, # returns data in the pandas dataframe format\n",
    "                    RecommenderData) # provides common interface to access data \n",
    "\n",
    "url = 'http://files.grouplens.org/datasets/movielens/ml-10m.zip'\n",
    "tmp_file, _ = urllib.request.urlretrieve(url) # this may take some time depending on your internet connection\n",
    "\n",
    "data = get_movielens_data(tmp_file, include_time=True)\n",
    "data.head()"
   ]
  },
  {
   "cell_type": "markdown",
   "metadata": {},
   "source": [
    "The resulting dataframe has a bit more than 10M ratings, as expected."
   ]
  },
  {
   "cell_type": "code",
   "execution_count": 3,
   "metadata": {},
   "outputs": [
    {
     "data": {
      "text/plain": [
       "(10000054, 4)"
      ]
     },
     "execution_count": 3,
     "metadata": {},
     "output_type": "execute_result"
    }
   ],
   "source": [
    "data.shape"
   ]
  },
  {
   "cell_type": "markdown",
   "metadata": {},
   "source": [
    "Basic data stats:"
   ]
  },
  {
   "cell_type": "code",
   "execution_count": 4,
   "metadata": {},
   "outputs": [
    {
     "data": {
      "text/plain": [
       "userid         69878\n",
       "movieid        10677\n",
       "rating            10\n",
       "timestamp    7096905\n",
       "dtype: int64"
      ]
     },
     "execution_count": 4,
     "metadata": {},
     "output_type": "execute_result"
    }
   ],
   "source": [
    "data.apply('nunique')"
   ]
  },
  {
   "cell_type": "markdown",
   "metadata": {},
   "source": [
    "# Preparing data"
   ]
  },
  {
   "cell_type": "markdown",
   "metadata": {},
   "source": [
    "As always, you need to firstly define a data model that will provide a common interface for all recommendation algorithms used in experiments:"
   ]
  },
  {
   "cell_type": "code",
   "execution_count": 5,
   "metadata": {},
   "outputs": [
    {
     "data": {
      "text/plain": [
       "Fields(userid='userid', itemid='movieid', feedback='rating')"
      ]
     },
     "execution_count": 5,
     "metadata": {},
     "output_type": "execute_result"
    }
   ],
   "source": [
    "data_model = RecommenderData(data, 'userid', 'movieid', 'rating', custom_order='timestamp', seed=0)\n",
    "data_model.fields"
   ]
  },
  {
   "cell_type": "markdown",
   "metadata": {},
   "source": [
    "Setting `seed=0` ensures controllable randomization when sampling test data, which enhances reproducibility; `custom_order` allows to select observations for evaluation based on their timestamp, rather than on rating value (more on that later). "
   ]
  },
  {
   "cell_type": "markdown",
   "metadata": {},
   "source": [
    "Let's look at the default configuration of data model:"
   ]
  },
  {
   "cell_type": "code",
   "execution_count": 6,
   "metadata": {},
   "outputs": [
    {
     "data": {
      "text/plain": [
       "{'test_ratio': 0.2,\n",
       " 'negative_prediction': False,\n",
       " 'warm_start': True,\n",
       " 'permute_tops': False,\n",
       " 'test_sample': None,\n",
       " 'random_holdout': False,\n",
       " 'test_fold': 5,\n",
       " 'shuffle_data': False,\n",
       " 'holdout_size': 3}"
      ]
     },
     "execution_count": 6,
     "metadata": {},
     "output_type": "execute_result"
    }
   ],
   "source": [
    "data_model.get_configuration()"
   ]
  },
  {
   "cell_type": "markdown",
   "metadata": {},
   "source": [
    "By default, `Polara` samples 20% of users and marks them for test (`test_ratio` attribute). These users would be excluded from the training dataset, if `warm_start` attribute remained set to `True` (strong generalization test). However, in the iALS case such setting would require running additional half-step optimization (folding-in) for each test user in order to obtain their latent representation. To avoid that we turn the \"warm start\" setting off and perform standard evaluation (weak generalization test). In that case test users are part of the training (except for the ratings that were held out for evaluation) and one can directly invoke scalar products of latent factors. Note that *SVD recommendations do not depend on this setting due to uniform projection formula applicable to both known and \"warm\" users*: $r = VV^\\top p$, where $r$ is a vector of predicted relevance scores, $p$ is a vector of *any* known preferences and $V$ is an item latent features matrix."
   ]
  },
  {
   "cell_type": "code",
   "execution_count": 7,
   "metadata": {},
   "outputs": [
    {
     "name": "stdout",
     "output_type": "stream",
     "text": [
      "Preparing data...\n",
      "Done.\n",
      "There are 9986078 events in the training and 13976 events in the holdout.\n"
     ]
    }
   ],
   "source": [
    "data_model.holdout_size = 1 # hold out 1 item from every test user\n",
    "data_model.random_holdout = False # take items with the latest timstamp\n",
    "data_model.warm_start = False # standard case\n",
    "data_model.prepare()"
   ]
  },
  {
   "cell_type": "markdown",
   "metadata": {},
   "source": [
    "The `holdout_size` attribute controls how many user preferences will be used for evaluation. Current configuration instructs data model to holdout one item from every test user. The `random_holdout=False` setting along with `custom_order` input argumment of data model make sure that only the latest rated item is taken for evaluation, allowing to avoid \"recommendations from future\". All these items are available via `data_model.test.holdout`."
   ]
  },
  {
   "cell_type": "markdown",
   "metadata": {},
   "source": [
    "# General configuration"
   ]
  },
  {
   "cell_type": "markdown",
   "metadata": {},
   "source": [
    "## technical settings"
   ]
  },
  {
   "cell_type": "markdown",
   "metadata": {},
   "source": [
    "Sometimes due to the size of dataset evaluation make take considerably longer than actual training time. If that's the case, you may want to give Polara more resources to perform evaluation, which is mostly controlled by changing `memory_hard_limit` and `max_test_workers` settings from their defaults. The former defines how much memory is allowed to use when generating predictions for test users. Essentially, Polara avoids running an inefficient by-user-loop for that task and makes calculation in bulk, which allos to invoke linear algebra kernels and speed up calculations. This, however, generates dense $M \\times N$ matrix, where $M$ is the number of test users and $N$ is the number of all items seen during training. If this matrix doesn't fit into the memory constraint defined by `memory_hard_limit` (1Gb by default), calculations will be perfomed on a sequence of groups of $m<M$ users so that each group respects the constraint. If you have enough resources it can be a good idea to increase this memory limit. However, depending on hardware specs, manipulating huge amount of test data can be also slow. In that case it can be useful to still split test users into smaller group, however run calculations on each group in parallel. This can be achieved by setting `max_test_workers` integer to some number above 0, which will spawn the corresponding number of parallel threads. For example, instead of generating 60Gb matrix in a single run, one can define `memory_hard_limit=15` and `max_test_workers=4`, which may help complete calculations faster.\n",
    "\n",
    "In our case simply increasing the memory limit to 2Gb is sufficient for optimal performance."
   ]
  },
  {
   "cell_type": "code",
   "execution_count": 8,
   "metadata": {},
   "outputs": [],
   "source": [
    "from polara.recommender import defaults"
   ]
  },
  {
   "cell_type": "code",
   "execution_count": 9,
   "metadata": {},
   "outputs": [],
   "source": [
    "defaults.memory_hard_limit = 2\n",
    "defaults.max_test_workers = None # None is the default value"
   ]
  },
  {
   "cell_type": "markdown",
   "metadata": {},
   "source": [
    "## common config"
   ]
  },
  {
   "cell_type": "markdown",
   "metadata": {},
   "source": [
    "#### evaluation"
   ]
  },
  {
   "cell_type": "markdown",
   "metadata": {},
   "source": [
    "In order to avoid undesired effects, related to the [positivity bias](https://arxiv.org/abs/1607.04228), models will be trained only on interactions with ratings not lower than 4. This can be achieved by setting `feedback_threshold` attribute of models to 4. Due to the same reason, during the evaluation only items rated with ratings $\\geq 4$ will be counted as true positive and used to calculate evaluation scores. This is controlled by the `switch_positive` setting."
   ]
  },
  {
   "cell_type": "code",
   "execution_count": 10,
   "metadata": {},
   "outputs": [],
   "source": [
    "defaults.switch_positive = 4\n",
    "init_config = {'feedback_threshold': 4} # alternatively could set defaults.feedback_threshold"
   ]
  },
  {
   "cell_type": "markdown",
   "metadata": {},
   "source": [
    " The default metric for tuning hyper-parameters and selecting the best model will be [Mean Reciprocal Rank](https://en.wikipedia.org/wiki/Mean_reciprocal_rank) (MRR)."
   ]
  },
  {
   "cell_type": "code",
   "execution_count": 11,
   "metadata": {},
   "outputs": [],
   "source": [
    "target_metric = 'mrr'"
   ]
  },
  {
   "cell_type": "markdown",
   "metadata": {},
   "source": [
    "#### model tuning"
   ]
  },
  {
   "cell_type": "markdown",
   "metadata": {},
   "source": [
    "All MF models will be tested on the following grid of rank values (number of latent features):"
   ]
  },
  {
   "cell_type": "code",
   "execution_count": 12,
   "metadata": {},
   "outputs": [],
   "source": [
    "max_rank = 150\n",
    "rank_grid = range(10, max_rank+1, 10)"
   ]
  },
  {
   "cell_type": "markdown",
   "metadata": {},
   "source": [
    "# Creating and tuning models"
   ]
  },
  {
   "cell_type": "markdown",
   "metadata": {},
   "source": [
    "We will start from a simple [PureSVD model](https://dl.acm.org/citation.cfm?id=1864721) and use it as a baseline in comparison with its own [scaling modification](https://arxiv.org/abs/1511.06033) and [iALS algorithm](http://yifanhu.net/PUB/cf.pdf)."
   ]
  },
  {
   "cell_type": "markdown",
   "metadata": {},
   "source": [
    "## PureSVD"
   ]
  },
  {
   "cell_type": "markdown",
   "metadata": {},
   "source": [
    "On one hand, tuning SVD is limited due to its strict least squares formulation, which doesn't leave too much freedom comparing to more general matrix factorization approaches. On the other hand, this means less parameters to tune. Moreover, for whatever configuration of hyper-parameters, once you compute some SVD-based model of rank $r$ you can immediately obtain a model of rank $r' < r$ by a simple truncation procedure, which doesn't require recomputing the model. This makes grid-search with SVD very efficient and allows to explore a broader hyper-parameter space with less time."
   ]
  },
  {
   "cell_type": "code",
   "execution_count": 13,
   "metadata": {},
   "outputs": [],
   "source": [
    "try: # import package to track grid search progress\n",
    "    from ipypb import track # lightweight progressbar, doesn't depend on widgets\n",
    "except ImportError:\n",
    "    from tqdm import tqdm_notebook as track\n",
    "\n",
    "from polara import SVDModel\n",
    "from polara.evaluation.pipelines import find_optimal_svd_rank\n",
    "\n",
    "%matplotlib inline"
   ]
  },
  {
   "cell_type": "code",
   "execution_count": 14,
   "metadata": {},
   "outputs": [],
   "source": [
    "psvd = SVDModel(data_model)"
   ]
  },
  {
   "cell_type": "code",
   "execution_count": 15,
   "metadata": {},
   "outputs": [
    {
     "data": {
      "text/html": [
       "<div><span class=\"Text-label\" style=\"display:inline-block; overflow:hidden; white-space:nowrap; text-overflow:ellipsis; min-width:0; max-width:15ex; vertical-align:middle; text-align:right\"></span>\n",
       "<progress style=\"width:60ex\" max=\"15\" value=\"15\" class=\"Progress-main\"/></progress>\n",
       "<span class=\"Progress-label\"><strong>100%</strong></span>\n",
       "<span class=\"Iteration-label\">15/15</span>\n",
       "<span class=\"Time-label\">[01:03<00:04, 4.21s/it]</span></div>"
      ],
      "text/plain": [
       "\u001b[A\u001b[2K\r",
       " [████████████████████████████████████████████████████████████] 15/15 [01:03<00:04, 4.21s/it]"
      ]
     },
     "metadata": {},
     "output_type": "display_data"
    }
   ],
   "source": [
    "# the model will be computed only once for the max value of rank\n",
    "psvd_best_rank, psvd_rank_scores = find_optimal_svd_rank(psvd,\n",
    "                                                         rank_grid,\n",
    "                                                         target_metric,\n",
    "                                                         config=init_config,\n",
    "                                                         return_scores=True,\n",
    "                                                         iterator=track)"
   ]
  },
  {
   "cell_type": "markdown",
   "metadata": {},
   "source": [
    "Note that in this case the most of the time is spent on evaluation, rather than on model computation. The model was computed only once. You can verify it by calling `psvd.training_time` list attribute and seeing that it contains only one entry:"
   ]
  },
  {
   "cell_type": "code",
   "execution_count": 16,
   "metadata": {},
   "outputs": [
    {
     "data": {
      "text/plain": [
       "[9.6594064]"
      ]
     },
     "execution_count": 16,
     "metadata": {},
     "output_type": "execute_result"
    }
   ],
   "source": [
    "psvd.training_time"
   ]
  },
  {
   "cell_type": "markdown",
   "metadata": {},
   "source": [
    "Let's see how quality of recommendations changes with rank (number of latent features)."
   ]
  },
  {
   "cell_type": "code",
   "execution_count": 17,
   "metadata": {},
   "outputs": [
    {
     "data": {
      "image/png": "[encoded data removed]",
      "text/plain": [
       "<Figure size 432x288 with 1 Axes>"
      ]
     },
     "metadata": {},
     "output_type": "display_data"
    }
   ],
   "source": [
    "ax = psvd_rank_scores.plot(ylim=(0, None))\n",
    "ax.set_xlabel('# of latent factors')\n",
    "ax.set_ylabel(target_metric.upper());"
   ]
  },
  {
   "cell_type": "markdown",
   "metadata": {},
   "source": [
    "## Scaled PureSVD model"
   ]
  },
  {
   "cell_type": "markdown",
   "metadata": {},
   "source": [
    "We will employ a simple scaling trick over the rating matrix $R$ that was proposed by the authors of the [EIGENREC model](https://arxiv.org/abs/1511.06033) [Nikolakopoulos2019]: $R \\rightarrow RD^{f-1},$\n",
    "where $D$ is a diagonal scaling matrix with elements corresponding to the norm of the matrix columns (or square root of the number of nonzero elements in each column for the binary case). Parameter $f$ controls the effect of scaling and typically lies in the range [0, 1]. Finding the optimal value is an experimental task and will be performed via grid-search. We will use built-in support for such model in Polara. If you're interested in technical aspects of this implementation, see [Reproducing EIGENREC results](./Reproducing_EIGENREC_results.ipynb) tutorial."
   ]
  },
  {
   "cell_type": "markdown",
   "metadata": {},
   "source": [
    "### Grid search"
   ]
  },
  {
   "cell_type": "code",
   "execution_count": 18,
   "metadata": {},
   "outputs": [],
   "source": [
    "from polara.recommender.models import ScaledSVD\n",
    "from polara.evaluation.pipelines import find_optimal_config # generic routine for grid-search"
   ]
  },
  {
   "cell_type": "markdown",
   "metadata": {},
   "source": [
    "Now we have to compute SVD model for every value of $f$. However, we can still avoid computing the model for each rank value by the virtue of rank truncation."
   ]
  },
  {
   "cell_type": "code",
   "execution_count": 19,
   "metadata": {},
   "outputs": [],
   "source": [
    "def fine_tune_scaledsvd(model, ranks, scale_params, target_metric, config=None):\n",
    "    rev_ranks = sorted(ranks, key=lambda x: -x) # descending order helps avoiding model recomputation\n",
    "    param_grid = [(s1, r) for s1 in scale_params for r in rev_ranks]\n",
    "    param_names = ('col_scaling', 'rank')\n",
    "    return find_optimal_config(model,\n",
    "                               param_grid,\n",
    "                               param_names,\n",
    "                               target_metric,\n",
    "                               init_config=config,\n",
    "                               return_scores=True,\n",
    "                               force_build=False, # avoid recomputing the model\n",
    "                               iterator=track)"
   ]
  },
  {
   "cell_type": "markdown",
   "metadata": {},
   "source": [
    "We already know an approximate range of values for the scaling factor. You may also want to play with other values, especially when working with a different dataset."
   ]
  },
  {
   "cell_type": "code",
   "execution_count": 20,
   "metadata": {},
   "outputs": [
    {
     "data": {
      "text/html": [
       "<div><span class=\"Text-label\" style=\"display:inline-block; overflow:hidden; white-space:nowrap; text-overflow:ellipsis; min-width:0; max-width:15ex; vertical-align:middle; text-align:right\"></span>\n",
       "<progress style=\"width:60ex\" max=\"60\" value=\"60\" class=\"Progress-main\"/></progress>\n",
       "<span class=\"Progress-label\"><strong>100%</strong></span>\n",
       "<span class=\"Iteration-label\">60/60</span>\n",
       "<span class=\"Time-label\">[05:03<00:04, 5.05s/it]</span></div>"
      ],
      "text/plain": [
       "\u001b[A\u001b[2K\r",
       " [████████████████████████████████████████████████████████████] 60/60 [05:03<00:04, 5.05s/it]"
      ]
     },
     "metadata": {},
     "output_type": "display_data"
    }
   ],
   "source": [
    "ssvd = ScaledSVD(data_model) # create model\n",
    "scaling = [0.2, 0.4, 0.6, 0.8]\n",
    "\n",
    "ssvd_best_config, ssvd_scores = fine_tune_scaledsvd(ssvd,\n",
    "                                                    rank_grid,\n",
    "                                                    scaling,\n",
    "                                                    target_metric,\n",
    "                                                    config=init_config)"
   ]
  },
  {
   "cell_type": "markdown",
   "metadata": {},
   "source": [
    "Note that during this grid search the model was computed only `len(scaling)=4` number of times, other points were found via rank truncation. Let's see how quality changes with different values of scaling parameter $f$."
   ]
  },
  {
   "cell_type": "code",
   "execution_count": 21,
   "metadata": {},
   "outputs": [
    {
     "data": {
      "image/png": "[encoded data removed]",
      "text/plain": [
       "<Figure size 432x288 with 1 Axes>"
      ]
     },
     "metadata": {},
     "output_type": "display_data"
    }
   ],
   "source": [
    "for cs in scaling:\n",
    "    cs_scores = ssvd_scores.xs(cs, level='col_scaling')\n",
    "    ax = cs_scores.plot(label=f'col_scaling: {cs}')\n",
    "ax.set_title(f'Recommendations quality for {ssvd.method} model')\n",
    "ax.set_ylim(0, None)\n",
    "ax.set_ylabel(target_metric.upper())\n",
    "ax.legend();"
   ]
  },
  {
   "cell_type": "code",
   "execution_count": 22,
   "metadata": {},
   "outputs": [],
   "source": [
    "ssvd_rank_scores = ssvd_scores.xs(ssvd_best_config['col_scaling'], level='col_scaling')"
   ]
  },
  {
   "cell_type": "markdown",
   "metadata": {},
   "source": [
    "The optimal set of hyper-parameters:"
   ]
  },
  {
   "cell_type": "code",
   "execution_count": 23,
   "metadata": {},
   "outputs": [
    {
     "data": {
      "text/plain": [
       "{'col_scaling': 0.6, 'rank': 130}"
      ]
     },
     "execution_count": 23,
     "metadata": {},
     "output_type": "execute_result"
    }
   ],
   "source": [
    "ssvd_best_config"
   ]
  },
  {
   "cell_type": "markdown",
   "metadata": {},
   "source": [
    "## iALS"
   ]
  },
  {
   "cell_type": "markdown",
   "metadata": {},
   "source": [
    "Using *implicit* library in Polara is almost as simple as using SVD-based models. Make sure you have it installed in your python environment (follow instructions at https://github.com/benfred/implicit )."
   ]
  },
  {
   "cell_type": "code",
   "execution_count": 24,
   "metadata": {},
   "outputs": [],
   "source": [
    "import os; os.environ[\"MKL_NUM_THREADS\"] = \"1\" # as required by implicit\n",
    "import numpy as np\n",
    "\n",
    "from polara.recommender.external.implicit.ialswrapper import ImplicitALS\n",
    "from polara.evaluation.pipelines import random_grid, set_config"
   ]
  },
  {
   "cell_type": "markdown",
   "metadata": {},
   "source": [
    "### defining hyper-parameter grid"
   ]
  },
  {
   "cell_type": "markdown",
   "metadata": {},
   "source": [
    "Hyper-parameter space in that case is much broader. We will start by adjusting all hyper-parameters expect the rank value and then, once an optimal config is found, we will perform full grid-search over the range of rank values defined by `rank_grid`."
   ]
  },
  {
   "cell_type": "code",
   "execution_count": 25,
   "metadata": {},
   "outputs": [],
   "source": [
    "als_params = dict(alpha = [0.01, 0.03, 0.1, 0.3, 1, 3, 10, 30, 100],\n",
    "                  epsilon = [0.01, 0.03, 0.1, 0.3, 1],\n",
    "                  weight_func = [None, np.sign, np.sqrt, np.log2, np.log10],\n",
    "                  regularization = [0.001, 0.003, 0.01, 0.03, 0.1, 0.3, 1, 3],\n",
    "                  rank = [40] # enforce rank value for quick exploration of other parameters\n",
    "                 )"
   ]
  },
  {
   "cell_type": "markdown",
   "metadata": {},
   "source": [
    "In order to avoid too long computation time, grid-search is performed over 60 random points, which is [enough to get within 5% of the optimum with 95% confidence](http://www.jmlr.org/papers/volume13/bergstra12a/bergstra12a.pdf). The grid is generated with the built-in `random_grid` function."
   ]
  },
  {
   "cell_type": "code",
   "execution_count": 26,
   "metadata": {},
   "outputs": [],
   "source": [
    "als_param_grid, als_param_names = random_grid(als_params, n=60)"
   ]
  },
  {
   "cell_type": "markdown",
   "metadata": {},
   "source": [
    "### random grid search "
   ]
  },
  {
   "cell_type": "code",
   "execution_count": 27,
   "metadata": {},
   "outputs": [],
   "source": [
    "ials = ImplicitALS(data_model) # create model"
   ]
  },
  {
   "cell_type": "code",
   "execution_count": 28,
   "metadata": {},
   "outputs": [
    {
     "data": {
      "text/html": [
       "<div><span class=\"Text-label\" style=\"display:inline-block; overflow:hidden; white-space:nowrap; text-overflow:ellipsis; min-width:0; max-width:15ex; vertical-align:middle; text-align:right\"></span>\n",
       "<progress style=\"width:60ex\" max=\"60\" value=\"60\" class=\"Progress-main\"/></progress>\n",
       "<span class=\"Progress-label\"><strong>100%</strong></span>\n",
       "<span class=\"Iteration-label\">60/60</span>\n",
       "<span class=\"Time-label\">[24:18<00:26, 24.30s/it]</span></div>"
      ],
      "text/plain": [
       "\u001b[A\u001b[2K\r",
       " [████████████████████████████████████████████████████████████] 60/60 [24:18<00:26, 24.30s/it]"
      ]
     },
     "metadata": {},
     "output_type": "display_data"
    }
   ],
   "source": [
    "ials_best_config, ials_grid_scores = find_optimal_config(ials,\n",
    "                                                         als_param_grid, # hyper-parameters grid\n",
    "                                                         als_param_names, # hyper-parameters' names\n",
    "                                                         target_metric,\n",
    "                                                         init_config=init_config,\n",
    "                                                         return_scores=True,\n",
    "                                                         iterator=track)"
   ]
  },
  {
   "cell_type": "markdown",
   "metadata": {},
   "source": [
    "### rank tuning"
   ]
  },
  {
   "cell_type": "markdown",
   "metadata": {},
   "source": [
    "In contrast to the case of SVD-based algorithms, iALS requires recomputing the model for every new rank value, therefore in addition to the previous 60 times, the model will be computed `len(rank_grid)` more times for all rank values."
   ]
  },
  {
   "cell_type": "code",
   "execution_count": 29,
   "metadata": {},
   "outputs": [
    {
     "data": {
      "text/html": [
       "<div><span class=\"Text-label\" style=\"display:inline-block; overflow:hidden; white-space:nowrap; text-overflow:ellipsis; min-width:0; max-width:15ex; vertical-align:middle; text-align:right\"></span>\n",
       "<progress style=\"width:60ex\" max=\"15\" value=\"15\" class=\"Progress-main\"/></progress>\n",
       "<span class=\"Progress-label\"><strong>100%</strong></span>\n",
       "<span class=\"Iteration-label\">15/15</span>\n",
       "<span class=\"Time-label\">[07:56<00:45, 31.71s/it]</span></div>"
      ],
      "text/plain": [
       "\u001b[A\u001b[2K\r",
       " [████████████████████████████████████████████████████████████] 15/15 [07:56<00:45, 31.71s/it]"
      ]
     },
     "metadata": {},
     "output_type": "display_data"
    }
   ],
   "source": [
    "ials_best_rank, ials_rank_scores = find_optimal_config(ials,\n",
    "                                                       rank_grid,\n",
    "                                                       'rank',\n",
    "                                                       target_metric,\n",
    "                                                       # configs are applied in the order they're provided\n",
    "                                                       init_config=[init_config,\n",
    "                                                                    ials_best_config],\n",
    "                                                       return_scores=True,\n",
    "                                                       iterator=track)"
   ]
  },
  {
   "cell_type": "markdown",
   "metadata": {},
   "source": [
    "Let's combine the best rank value with other optimal parameters:"
   ]
  },
  {
   "cell_type": "code",
   "execution_count": 30,
   "metadata": {},
   "outputs": [
    {
     "data": {
      "text/plain": [
       "{'alpha': 0.3,\n",
       " 'epsilon': 0.3,\n",
       " 'weight_func': <ufunc 'sqrt'>,\n",
       " 'regularization': 0.03,\n",
       " 'rank': 60}"
      ]
     },
     "execution_count": 30,
     "metadata": {},
     "output_type": "execute_result"
    }
   ],
   "source": [
    "ials_best_config.update(ials_best_rank)\n",
    "ials_best_config"
   ]
  },
  {
   "cell_type": "markdown",
   "metadata": {},
   "source": [
    "### visualizing rank tuning results"
   ]
  },
  {
   "cell_type": "markdown",
   "metadata": {},
   "source": [
    "We can now see how all three algorithms compare to each other."
   ]
  },
  {
   "cell_type": "code",
   "execution_count": 31,
   "metadata": {},
   "outputs": [],
   "source": [
    "def plot_rank_scores(scores):\n",
    "    ax = None\n",
    "    for sc in scores:\n",
    "        ax = sc.sort_index().plot(label=sc.name, ax=ax)\n",
    "    ax.set_ylim(0, None)\n",
    "    ax.set_title('Recommendations quality')\n",
    "    ax.set_xlabel('# of latent factors')\n",
    "    ax.set_ylabel(target_metric.upper());\n",
    "    ax.legend()\n",
    "    return ax"
   ]
  },
  {
   "cell_type": "code",
   "execution_count": 32,
   "metadata": {},
   "outputs": [
    {
     "data": {
      "image/png": "[encoded data removed]",
      "text/plain": [
       "<Figure size 432x288 with 1 Axes>"
      ]
     },
     "metadata": {},
     "output_type": "display_data"
    }
   ],
   "source": [
    "plot_rank_scores([ssvd_rank_scores,\n",
    "                  ials_rank_scores,\n",
    "                  psvd_rank_scores]);"
   ]
  },
  {
   "cell_type": "markdown",
   "metadata": {},
   "source": [
    "It can be seen that scaling (`PureSVD-s` line) has a significant impact on the quality of recommendations. This is, however, a preliminary result, which is yet to be verified via cross-validation."
   ]
  },
  {
   "cell_type": "markdown",
   "metadata": {},
   "source": [
    "# Models comparison"
   ]
  },
  {
   "cell_type": "markdown",
   "metadata": {},
   "source": [
    "The results above were computed only with a single split into train-test corresponding to a single fold. In order to verify the obtained results, perform a full CV with optimal parameters fixed. It can be achieved with the built-in `run_cv_experiment` function from Polara's evaluation engine as shown below."
   ]
  },
  {
   "cell_type": "markdown",
   "metadata": {},
   "source": [
    "## cross-validation experiment"
   ]
  },
  {
   "cell_type": "code",
   "execution_count": 33,
   "metadata": {},
   "outputs": [],
   "source": [
    "from polara.evaluation import evaluation_engine as ee"
   ]
  },
  {
   "cell_type": "markdown",
   "metadata": {},
   "source": [
    "Fixing optimal configurations:"
   ]
  },
  {
   "cell_type": "code",
   "execution_count": 34,
   "metadata": {},
   "outputs": [],
   "source": [
    "set_config(psvd, {'rank': psvd_best_rank})\n",
    "set_config(ssvd, ssvd_best_config)\n",
    "set_config(ials, ials_best_config)"
   ]
  },
  {
   "cell_type": "markdown",
   "metadata": {},
   "source": [
    "Performing 5-fold CV:"
   ]
  },
  {
   "cell_type": "code",
   "execution_count": 35,
   "metadata": {},
   "outputs": [
    {
     "data": {
      "text/html": [
       "<div><span class=\"Text-label\" style=\"display:inline-block; overflow:hidden; white-space:nowrap; text-overflow:ellipsis; min-width:0; max-width:15ex; vertical-align:middle; text-align:right\"></span>\n",
       "<progress style=\"width:60ex\" max=\"5\" value=\"5\" class=\"Progress-main\"/></progress>\n",
       "<span class=\"Progress-label\"><strong>100%</strong></span>\n",
       "<span class=\"Iteration-label\">5/5</span>\n",
       "<span class=\"Time-label\">[05:23<01:07, 64.52s/it]</span></div>"
      ],
      "text/plain": [
       "\u001b[A\u001b[2K\r",
       " [████████████████████████████████████████████████████████████] 5/5 [05:23<01:07, 64.52s/it]"
      ]
     },
     "metadata": {},
     "output_type": "display_data"
    }
   ],
   "source": [
    "models = [psvd, ssvd, ials]\n",
    "metrics = ['ranking', 'relevance', 'experience']\n",
    "\n",
    "# run experiments silently\n",
    "data_model.verbose = False\n",
    "for model in models:\n",
    "    model.verbose = False\n",
    "\n",
    "# perform cross-validation on models, report scores according to metrics\n",
    "cv_results = ee.run_cv_experiment(models,\n",
    "                                  metrics=metrics,\n",
    "                                  iterator=track)"
   ]
  },
  {
   "cell_type": "markdown",
   "metadata": {},
   "source": [
    "The output contains results for all folds:"
   ]
  },
  {
   "cell_type": "code",
   "execution_count": 36,
   "metadata": {},
   "outputs": [
    {
     "data": {
      "text/html": [
       "<div>\n",
       "<style scoped>\n",
       "    .dataframe tbody tr th:only-of-type {\n",
       "        vertical-align: middle;\n",
       "    }\n",
       "\n",
       "    .dataframe tbody tr th {\n",
       "        vertical-align: top;\n",
       "    }\n",
       "\n",
       "    .dataframe thead tr th {\n",
       "        text-align: left;\n",
       "    }\n",
       "\n",
       "    .dataframe thead tr:last-of-type th {\n",
       "        text-align: right;\n",
       "    }\n",
       "</style>\n",
       "<table border=\"1\" class=\"dataframe\">\n",
       "  <thead>\n",
       "    <tr>\n",
       "      <th></th>\n",
       "      <th>type</th>\n",
       "      <th>relevance</th>\n",
       "      <th>ranking</th>\n",
       "      <th>experience</th>\n",
       "    </tr>\n",
       "    <tr>\n",
       "      <th></th>\n",
       "      <th>metric</th>\n",
       "      <th>hr</th>\n",
       "      <th>mrr</th>\n",
       "      <th>coverage</th>\n",
       "    </tr>\n",
       "    <tr>\n",
       "      <th>fold</th>\n",
       "      <th>model</th>\n",
       "      <th></th>\n",
       "      <th></th>\n",
       "      <th></th>\n",
       "    </tr>\n",
       "  </thead>\n",
       "  <tbody>\n",
       "    <tr>\n",
       "      <th rowspan=\"3\" valign=\"top\">1</th>\n",
       "      <th>PureSVD</th>\n",
       "      <td>0.076857</td>\n",
       "      <td>0.029101</td>\n",
       "      <td>0.085902</td>\n",
       "    </tr>\n",
       "    <tr>\n",
       "      <th>PureSVD-s</th>\n",
       "      <td>0.084729</td>\n",
       "      <td>0.032221</td>\n",
       "      <td>0.148946</td>\n",
       "    </tr>\n",
       "    <tr>\n",
       "      <th>iALS</th>\n",
       "      <td>0.076428</td>\n",
       "      <td>0.028240</td>\n",
       "      <td>0.093489</td>\n",
       "    </tr>\n",
       "    <tr>\n",
       "      <th rowspan=\"2\" valign=\"top\">2</th>\n",
       "      <th>PureSVD</th>\n",
       "      <td>0.079868</td>\n",
       "      <td>0.029385</td>\n",
       "      <td>0.089836</td>\n",
       "    </tr>\n",
       "    <tr>\n",
       "      <th>PureSVD-s</th>\n",
       "      <td>0.086953</td>\n",
       "      <td>0.034059</td>\n",
       "      <td>0.150539</td>\n",
       "    </tr>\n",
       "  </tbody>\n",
       "</table>\n",
       "</div>"
      ],
      "text/plain": [
       "type           relevance   ranking experience\n",
       "metric                hr       mrr   coverage\n",
       "fold model                                   \n",
       "1    PureSVD    0.076857  0.029101   0.085902\n",
       "     PureSVD-s  0.084729  0.032221   0.148946\n",
       "     iALS       0.076428  0.028240   0.093489\n",
       "2    PureSVD    0.079868  0.029385   0.089836\n",
       "     PureSVD-s  0.086953  0.034059   0.150539"
      ]
     },
     "execution_count": 36,
     "metadata": {},
     "output_type": "execute_result"
    }
   ],
   "source": [
    "cv_results.head()"
   ]
  },
  {
   "cell_type": "markdown",
   "metadata": {},
   "source": [
    "## plotting results"
   ]
  },
  {
   "cell_type": "markdown",
   "metadata": {},
   "source": [
    "We will plot average scores and confidence intervals for them. The following function will do this based on raw input from CV:"
   ]
  },
  {
   "cell_type": "code",
   "execution_count": 37,
   "metadata": {},
   "outputs": [],
   "source": [
    "def plot_cv_results(scores, subplot_size=(6, 3.5)):\n",
    "    scores_mean = scores.mean(level='model')\n",
    "    scores_errs = ee.sample_ci(scores, level='model')\n",
    "    # remove top-level columns with classes of metrics (for convenience)\n",
    "    scores_mean.columns = scores_mean.columns.get_level_values(1)\n",
    "    scores_errs.columns = scores_errs.columns.get_level_values(1)\n",
    "    # plot results\n",
    "    n = len(scores_mean.columns)\n",
    "    return scores_mean.plot.bar(yerr=scores_errs, rot=0,\n",
    "                                subplots=True, layout=(1, n),\n",
    "                                figsize=(subplot_size[0]*n, subplot_size[1]),\n",
    "                                legend=False);"
   ]
  },
  {
   "cell_type": "code",
   "execution_count": 38,
   "metadata": {},
   "outputs": [
    {
     "data": {
      "image/png": "[encoded data removed]",
      "text/plain": [
       "<Figure size 1296x252 with 3 Axes>"
      ]
     },
     "metadata": {},
     "output_type": "display_data"
    }
   ],
   "source": [
    "plot_cv_results(cv_results);"
   ]
  },
  {
   "cell_type": "markdown",
   "metadata": {},
   "source": [
    "The difference between PureSVD and iALS is not significant.\n",
    "<div class=\"alert alert-block alert-success\">In contrast, the advantage of the scaled version of PureSVD denoted as `PureSVD-s` over the other models is much more pronounced making it a clear favorite.</div>\n",
    "Interestingly, the difference is especially pronounced in terms of the `coverage` metric, which is defined as the ratio of unique recommendations generated for all test users to the total number of items in the training data.  This indicates that generated recommendations are not only more relevant but also are significantly more diverse. "
   ]
  },
  {
   "cell_type": "markdown",
   "metadata": {},
   "source": [
    "## comparing training time"
   ]
  },
  {
   "cell_type": "markdown",
   "metadata": {},
   "source": [
    "Another important practical aspect is how long does it take to compute a model? Sometimes the best model in terms of quality of recommendations can be the slowest to compute. You can check each model's training time by accessing the `training_time` list attribute. It holds the history of trainings, hence, if you have just performed 5-fold CV experiment, the last 5 entries in this list will correspond to the training time on each fold. This information can be used to get average time with some error bounds as shown below."
   ]
  },
  {
   "cell_type": "code",
   "execution_count": 39,
   "metadata": {},
   "outputs": [],
   "source": [
    "import pandas as pd"
   ]
  },
  {
   "cell_type": "code",
   "execution_count": 40,
   "metadata": {},
   "outputs": [],
   "source": [
    "timings = {}\n",
    "for model in models:\n",
    "    timings[f'{model.method} rank {model.rank}'] = model.training_time[-5:]"
   ]
  },
  {
   "cell_type": "code",
   "execution_count": 41,
   "metadata": {},
   "outputs": [
    {
     "data": {
      "image/png": "[encoded data removed]",
      "text/plain": [
       "<Figure size 432x288 with 1 Axes>"
      ]
     },
     "metadata": {},
     "output_type": "display_data"
    }
   ],
   "source": [
    "time_df = pd.DataFrame(timings)\n",
    "time_df.mean().plot.bar(yerr=time_df.std(), rot=0, title='Computation time for optimal config, s');"
   ]
  },
  {
   "cell_type": "markdown",
   "metadata": {},
   "source": [
    "`PureSVD-s` compares favoribly to the iALS, even though it requires higher rank value, which results in a longer training time comparing to `PureSVD`. Another interesting measure is what time does it take to achieve approximately the same quality by all models. \n",
    "Note that all models give approximately the same quality at the optimal rank of iALS. Let's compare training time for this value of rank."
   ]
  },
  {
   "cell_type": "code",
   "execution_count": 42,
   "metadata": {},
   "outputs": [
    {
     "data": {
      "text/plain": [
       "<matplotlib.axes._subplots.AxesSubplot at 0x211016ee4a8>"
      ]
     },
     "execution_count": 42,
     "metadata": {},
     "output_type": "execute_result"
    },
    {
     "data": {
      "image/png": "[encoded data removed]",
      "text/plain": [
       "<Figure size 432x288 with 1 Axes>"
      ]
     },
     "metadata": {},
     "output_type": "display_data"
    }
   ],
   "source": [
    "fixed_rank_timings = {}\n",
    "for model in models:\n",
    "    model.rank = ials_best_config['rank']\n",
    "    model.build()\n",
    "    fixed_rank_timings[model.method] = model.training_time[-1]\n",
    "\n",
    "pd.Series(fixed_rank_timings).plot.bar(rot=0, title=f'Rank {ials.rank} computation time, s')"
   ]
  },
  {
   "cell_type": "markdown",
   "metadata": {},
   "source": [
    "By all means computing SVD on this dataset is much faster than ALS. This may, however, vary on other datasets due to a different sparsity structure. Nevertheless, you can still expect, that SVD-based models will be perfroming well due to the usage of highly optimized BLAS and LAPACK routines."
   ]
  },
  {
   "cell_type": "markdown",
   "metadata": {},
   "source": [
    "# Bonus: scaling for iALS"
   ]
  },
  {
   "cell_type": "markdown",
   "metadata": {},
   "source": [
    "You may reasonably question whether that scaling trick also works for non SVD-based models. Let's verify its applicability for iALS. We will reuse Polara's built-in scaling functions in order to create a new class of the *scaled iALS-based model*."
   ]
  },
  {
   "cell_type": "code",
   "execution_count": 43,
   "metadata": {},
   "outputs": [],
   "source": [
    "from polara.recommender.models import ScaledMatrixMixin"
   ]
  },
  {
   "cell_type": "code",
   "execution_count": 44,
   "metadata": {},
   "outputs": [],
   "source": [
    "class ScaledIALS(ScaledMatrixMixin, ImplicitALS): pass # similarly to how PureSVD is extended to its scaled version"
   ]
  },
  {
   "cell_type": "code",
   "execution_count": 45,
   "metadata": {},
   "outputs": [],
   "source": [
    "sals = ScaledIALS(data_model)"
   ]
  },
  {
   "cell_type": "markdown",
   "metadata": {},
   "source": [
    "In order to save time, we will utilize the optimal configuration for scaling, found by tuning scaled version of PureSVD. Alternatively, you could include scaling parameters into the grid search step by extending `als_param_grid` and `als_param_names` variables. However, taking configuration of PureSVD-s should be a good enough approximation at least for verifying the effect of scaling. The tuning itself has to be repeated from the beginning."
   ]
  },
  {
   "cell_type": "markdown",
   "metadata": {},
   "source": [
    "### hyper-parameter tuning"
   ]
  },
  {
   "cell_type": "code",
   "execution_count": 46,
   "metadata": {},
   "outputs": [
    {
     "data": {
      "text/html": [
       "<div><span class=\"Text-label\" style=\"display:inline-block; overflow:hidden; white-space:nowrap; text-overflow:ellipsis; min-width:0; max-width:15ex; vertical-align:middle; text-align:right\"></span>\n",
       "<progress style=\"width:60ex\" max=\"60\" value=\"60\" class=\"Progress-main\"/></progress>\n",
       "<span class=\"Progress-label\"><strong>100%</strong></span>\n",
       "<span class=\"Iteration-label\">60/60</span>\n",
       "<span class=\"Time-label\">[26:27<00:30, 26.45s/it]</span></div>"
      ],
      "text/plain": [
       "\u001b[A\u001b[2K\r",
       " [████████████████████████████████████████████████████████████] 60/60 [26:27<00:30, 26.45s/it]"
      ]
     },
     "metadata": {},
     "output_type": "display_data"
    }
   ],
   "source": [
    "sals_best_config, sals_param_scores = find_optimal_config(sals,\n",
    "                                                          als_param_grid,\n",
    "                                                          als_param_names,\n",
    "                                                          target_metric,\n",
    "                                                          init_config=[init_config,\n",
    "                                                                       ssvd_best_config], # the rank value will be overriden\n",
    "                                                          return_scores=True,\n",
    "                                                          iterator=track)"
   ]
  },
  {
   "cell_type": "code",
   "execution_count": 47,
   "metadata": {},
   "outputs": [
    {
     "data": {
      "text/html": [
       "<div><span class=\"Text-label\" style=\"display:inline-block; overflow:hidden; white-space:nowrap; text-overflow:ellipsis; min-width:0; max-width:15ex; vertical-align:middle; text-align:right\"></span>\n",
       "<progress style=\"width:60ex\" max=\"15\" value=\"15\" class=\"Progress-main\"/></progress>\n",
       "<span class=\"Progress-label\"><strong>100%</strong></span>\n",
       "<span class=\"Iteration-label\">15/15</span>\n",
       "<span class=\"Time-label\">[09:09<00:46, 36.58s/it]</span></div>"
      ],
      "text/plain": [
       "\u001b[A\u001b[2K\r",
       " [████████████████████████████████████████████████████████████] 15/15 [09:09<00:46, 36.58s/it]"
      ]
     },
     "metadata": {},
     "output_type": "display_data"
    }
   ],
   "source": [
    "sals_best_rank, sals_rank_scores = find_optimal_config(sals,\n",
    "                                                       rank_grid,\n",
    "                                                       'rank',\n",
    "                                                       target_metric,\n",
    "                                                       init_config=[init_config,\n",
    "                                                                    ssvd_best_config,\n",
    "                                                                    sals_best_config],\n",
    "                                                       return_scores=True,\n",
    "                                                       iterator=track)"
   ]
  },
  {
   "cell_type": "markdown",
   "metadata": {},
   "source": [
    "### visualizing rank tuning results"
   ]
  },
  {
   "cell_type": "code",
   "execution_count": 48,
   "metadata": {},
   "outputs": [
    {
     "data": {
      "image/png": "[encoded data removed]",
      "text/plain": [
       "<Figure size 432x288 with 1 Axes>"
      ]
     },
     "metadata": {},
     "output_type": "display_data"
    }
   ],
   "source": [
    "plot_rank_scores([ssvd_rank_scores,\n",
    "                  sals_rank_scores,\n",
    "                  ials_rank_scores,\n",
    "                  psvd_rank_scores]);"
   ]
  },
  {
   "cell_type": "markdown",
   "metadata": {},
   "source": [
    "There seem to be no difference between the original and scaled versions of iALS. Let's verify this with CV experiment."
   ]
  },
  {
   "cell_type": "markdown",
   "metadata": {},
   "source": [
    "### cross-validation"
   ]
  },
  {
   "cell_type": "markdown",
   "metadata": {},
   "source": [
    "You only need to perform CV computations for the new model. Configuration of data will be the same as previously, as the `data_model` instance ensures reproducible data state."
   ]
  },
  {
   "cell_type": "code",
   "execution_count": 49,
   "metadata": {},
   "outputs": [
    {
     "data": {
      "text/plain": [
       "{'alpha': 0.1,\n",
       " 'epsilon': 0.01,\n",
       " 'weight_func': <ufunc 'sqrt'>,\n",
       " 'regularization': 3.0,\n",
       " 'rank': 60}"
      ]
     },
     "execution_count": 49,
     "metadata": {},
     "output_type": "execute_result"
    }
   ],
   "source": [
    "sals_best_config.update(sals_best_rank)\n",
    "sals_best_config"
   ]
  },
  {
   "cell_type": "code",
   "execution_count": 50,
   "metadata": {},
   "outputs": [],
   "source": [
    "set_config(sals, sals_best_config)"
   ]
  },
  {
   "cell_type": "code",
   "execution_count": 51,
   "metadata": {},
   "outputs": [
    {
     "data": {
      "text/html": [
       "<div><span class=\"Text-label\" style=\"display:inline-block; overflow:hidden; white-space:nowrap; text-overflow:ellipsis; min-width:0; max-width:15ex; vertical-align:middle; text-align:right\"></span>\n",
       "<progress style=\"width:60ex\" max=\"5\" value=\"5\" class=\"Progress-main\"/></progress>\n",
       "<span class=\"Progress-label\"><strong>100%</strong></span>\n",
       "<span class=\"Iteration-label\">5/5</span>\n",
       "<span class=\"Time-label\">[03:36<00:44, 43.26s/it]</span></div>"
      ],
      "text/plain": [
       "\u001b[A\u001b[2K\r",
       " [████████████████████████████████████████████████████████████] 5/5 [03:36<00:44, 43.26s/it]"
      ]
     },
     "metadata": {},
     "output_type": "display_data"
    }
   ],
   "source": [
    "sals.verbose = False\n",
    "sals_cv_results = ee.run_cv_experiment([sals],\n",
    "                                       metrics=metrics,\n",
    "                                       iterator=track)"
   ]
  },
  {
   "cell_type": "code",
   "execution_count": 52,
   "metadata": {},
   "outputs": [
    {
     "data": {
      "image/png": "[encoded data removed]",
      "text/plain": [
       "<Figure size 1296x252 with 3 Axes>"
      ]
     },
     "metadata": {},
     "output_type": "display_data"
    }
   ],
   "source": [
    "plot_cv_results(cv_results.append(sals_cv_results));"
   ]
  },
  {
   "cell_type": "markdown",
   "metadata": {},
   "source": [
    "<div class=\"alert alert-block alert-warning\">Surprisingly, the iALS model remains largely insensitive to the scaling trick. At least in the current settings and for the current dataset.</div>"
   ]
  },
  {
   "cell_type": "markdown",
   "metadata": {},
   "source": [
    "**Remark**: You may want to repeat all experiments in a different setting with `random_holdout` set to `True`. My own results indicate that in this case iALS performs slightly better than PureSVD and also becomes more responsive to scaling, *giving the same result as the scaled version of SVD*. However, the scaled version of SVD is still easier to compute and tune."
   ]
  },
  {
   "cell_type": "markdown",
   "metadata": {},
   "source": [
    "# Conclusion"
   ]
  },
  {
   "cell_type": "markdown",
   "metadata": {},
   "source": [
    "With a proper tuning the quality of recommendations of one of the simplest SVD-based models can be substantially improved. Despite common beliefs, it turns out that PureSVD with simple scaling trick compares favorably to a much more popular iALS algorithm. The former not only generates more relevant recommendations, but also makes them more diverse and potentially more interesting. In addition to that, it has a number of unique advantages and merely requires to do `from scipy.sparse.linalg import svds` to get started. Of course, the obtained results may not necessarily hold on all other datasets and require further verification."
   ]
  },
  {
   "cell_type": "markdown",
   "metadata": {},
   "source": [
    "<div class=\"alert alert-block alert-success\">However, in the view of all its features and advantages, the scaled SVD-based model certainly deserves to be included into the list of the default baselines.</div>"
   ]
  },
  {
   "cell_type": "markdown",
   "metadata": {},
   "source": [
    "The result obtained here resembles situation in the Natural Language Processing field, where simple SVD-based model with proper tuning [turns out to be competitive](http://www.aclweb.org/anthology/Q15-1016) on a variety of downstream tasks even in comparison with Neural Network-based models. In the end it's all about adequate tuning and fair comparison.\n",
    "\n",
    "As a final remark, this tutorial is a part of a series of tutorials demonstrating usage scenarios for the Polara framework. **Polara is designed to support openness and reproducibility of research**. It provides controlled environment and rich functionality with high level abstractions, which allows conducting thorough experiments with minimal efforts and can be used to either quickly test known ideas or implement something new."
   ]
  }
 ],
 "metadata": {
  "kernelspec": {
   "display_name": "Python 3",
   "language": "python",
   "name": "python3"
  },
  "language_info": {
   "codemirror_mode": {
    "name": "ipython",
    "version": 3
   },
   "file_extension": ".py",
   "mimetype": "text/x-python",
   "name": "python",
   "nbconvert_exporter": "python",
   "pygments_lexer": "ipython3",
   "version": "3.6.9"
  },
  "toc": {
   "nav_menu": {},
   "number_sections": true,
   "sideBar": true,
   "skip_h1_title": false,
   "title_cell": "Table of Contents",
   "title_sidebar": "Contents",
   "toc_cell": false,
   "toc_position": {},
   "toc_section_display": true,
   "toc_window_display": false
  }
 },
 "nbformat": 4,
 "nbformat_minor": 4
}
