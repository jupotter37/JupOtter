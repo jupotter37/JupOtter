{
 "cells": [
  {
   "cell_type": "code",
   "execution_count": null,
   "metadata": {
    "scrolled": true
   },
   "outputs": [],
   "source": [
    "print (\"hello world\")"
   ]
  },
  {
   "cell_type": "markdown",
   "metadata": {},
   "source": [
    "<a name=\"top\"></a> Table of Contents\n",
    "====================================\n",
    "\n",
    "- [Introduction to Git and Python](#intro)\n",
    "  - [Overview of Git](#overview-git)\n",
    "  - [Overview of Python](#overview-python)\n",
    "- [Getting Started with Git](#start-git)\n",
    "- [The Flying Circus (Getting Started with Python)](#start-python)\n",
    "  - Statements\n",
    "    - [Python Futures](#python-futures)\n",
    "    - [Hello World](#hello-world)\n",
    "    - [Your Second Statement](#import-statement)\n",
    "    - [Functions and Debugging](#hello-world-future)\n",
    "  - [Input/Output](#input-output)\n",
    "    - [Input](#input)\n",
    "      - [Raw](#input-raw)\n",
    "      - [Plain Text](#input-plain)\n",
    "      - [JSON](#input-json)\n",
    "      - [ROOT and HDF5](#input-root-hdf5)\n",
    "    - [Output](#output)\n",
    "      - [Hello World](#output-hello-world)\n",
    "      - [Plain Text](#output-plain)\n",
    "      - [JSON](#output-json)\n",
    "  - [Iterating Iterables](#iterables)\n",
    "    - Iterables\n",
    "      - [List](#iterables-list)\n",
    "      - [Set](#iterables-set)\n",
    "      - [Dictionary](#iterables-dict)\n",
    "      - [Tuple](#iterables-tuple)\n",
    "      - [String](#iterables-str)\n",
    "      - [File](#iterables-file)\n",
    "      - [NumPy Array](#iterables-numpy)\n",
    "    - [Common Sequence Operations](#iterables-common-ops)\n",
    "      - [Comprehensions](#comprehensions)\n",
    "      - [Slice and Filter](#slice-filter)\n",
    "      - [Zipping](#zip)"
   ]
  },
  {
   "cell_type": "markdown",
   "metadata": {},
   "source": [
    "<img src=\"https://git-scm.com/images/logos/downloads/Git-Logo-2Color.png\" alt=\"git logo\" width=\"125\" />\n",
    "\n",
    "<img src=\"https://www.python.org/static/community_logos/python-logo-master-v3-TM.png\" alt=\"python logo\" width=\"250\"/>\n",
    "\n",
    "------\n",
    "\n",
    "<a name=\"intro\"></a> [[top]](#top) Introduction to Git and Python\n",
    "===================================================\n",
    "\n",
    "Welcome to the first tutorial of the EFI workshop. The goal for today:\n",
    "- familiarity with ``Python``\n",
    "- familiarity with ``Git``\n",
    "- understand common Python concepts\n",
    "- gain foundation to succeed in the rest of the workshop\n",
    "\n",
    "<a name=\"overview-git\"></a> [[top]](#top) Overview of Git\n",
    "-------------------------------------------\n",
    "\n",
    "**What is git?**\n",
    "- distributed revision control system\n",
    "- blazing fast\n",
    "- free and open-sourced software\n",
    "\n",
    "**Git as a historical tree**\n",
    "\n",
    "- All changes start on the ``master`` timeline -- a ``branch``\n",
    "- Can create a new ``branch`` to diverge, make changes, and then merge it back in to ``master``\n",
    "- Always have a mental image of a tree like the below diagram\n",
    "\n",
    "```\n",
    "                  Branch A\n",
    "               o--o--o--o----o-------....\n",
    "              /               \\ Merge\n",
    "Master o--o--o ----------------o-----....\n",
    "             \\\n",
    "              o--o--o-----o----o-----....\n",
    "                  Branch B\n",
    "```\n",
    "\n",
    "**Who uses Git?**\n",
    "- [GitHub](<https://github.com/>) -- online community that is free for anyone to create and share public projects and repositories\n",
    "- [GitLab](https://about.gitlab.com/) -- online, open-sourced software that you can install on a server, maintain it yourself, and have your collaborators contribute.\n",
    "\n",
    "CERN, for example, maintains a [GitLab instance](http://information-technology.web.cern.ch/services/git-service) for all CERN users and experiments including (but not limited to) LHC, ATLAS, and CMS.\n",
    "\n",
    "| GitHub | GitLab |\n",
    "|:------:|:------:|\n",
    "|<img src=\"https://assets-cdn.github.com/images/modules/logos_page/GitHub-Mark.png\" alt=\"github logo\" width=\"100\" /> | <img src=\"https://cdn.worldvectorlogo.com/logos/gitlab.svg\" alt=\"gitlab logo\" width=\"100\" /> |\n",
    "\n",
    "There is a lot more to Git which will not be covered today, but if you have time to learn some more advanced concepts, try [learning about Git branching](https://learngitbranching.js.org/)!\n",
    "\n",
    "<a name=\"overview-python\"></a> [[top]](#top) Overview of Python\n",
    "-------------------------------------------------\n",
    "\n",
    "**What is [Python](https://docs.python.org/3/tutorial/appetite.html)?**\n",
    "- a *real* [high-level] programming language\n",
    "- simple to use, easy to learn\n",
    "- extensible and can execute compiled C-code directly\n",
    "\n",
    "I will include a very brief example of being able to compile an existing C/C++ libary to allow it to interface with ``Python`` as if it was a ``Python`` package!\n",
    "\n",
    "<a name=\"start-git\"></a> [[top]](#top) Getting Started with Git\n",
    "===========================================================\n",
    "\n",
    "Click this link and enjoy the interactive tutorial: https://try.github.io ."
   ]
  },
  {
   "cell_type": "markdown",
   "metadata": {},
   "source": [
    "# <a name=\"start-python\"></a> [[top]](#top) The Flying Circus (Getting started with Python)\n",
    "\n",
    "## <a name=\"python-futures\"></a> [[top]](#top) Python Futures\n",
    "\n",
    "For the point of the tutorial today, we'll focus on Python 2.7 - however Python 3 does exist.\n",
    "\n",
    "**Why are there two Pythons?**\n",
    "\n",
    "- [Python 3 is a newer version of Python.](https://wiki.python.org/moin/Python2orPython3)\n",
    "- Many people stil use Python 2.\n",
    "\n",
    "Physicists in CERN rely primarily on python 2.7 as part of their analysis and development efforts. That doesn't mean you should use 2.7 or you will be forced to use it. Feel free to do the research and understand the differences, but realize that **2.X is on end-of-life releases while 3.X undergoes active development**."
   ]
  },
  {
   "cell_type": "markdown",
   "metadata": {},
   "source": [
    "## <a name=\"hello-world\"></a> [[top]](#top) Hello World\n",
    "\n",
    "When programmers are learning a new language, we tend to write a one-line program that prints some version of the message \"Hello world!\" this is a simple program that shows whether your computer is properly set up to run Python programs. Let's try it out."
   ]
  },
  {
   "cell_type": "code",
   "execution_count": null,
   "metadata": {},
   "outputs": [],
   "source": [
    "print (\"Hello World!\")"
   ]
  },
  {
   "cell_type": "markdown",
   "metadata": {},
   "source": [
    "What just happened? A string defined in python ``\"Hello World!\"`` is printed out to ``STDOUT`` - your console, this Jupyter notebook, along with an automatically added newline character."
   ]
  },
  {
   "cell_type": "code",
   "execution_count": null,
   "metadata": {},
   "outputs": [],
   "source": [
    "type(\"Hello World!\")"
   ]
  },
  {
   "cell_type": "code",
   "execution_count": null,
   "metadata": {},
   "outputs": [],
   "source": [
    "timon = \"Hakuna Matata!\"\n",
    "print (timon)\n",
    "print (\"What a wonderful phrase...\")\n",
    "print (timon)\n",
    "print (\"It ain't no passing craze...\")\n",
    "print (\"It means no worries...\", \"for the rest of your days\")"
   ]
  },
  {
   "cell_type": "markdown",
   "metadata": {},
   "source": [
    "and so clearly, you can already start understand how easy it is to print anything that has a representation. Variables can be printed, functions and classes can also be printed. But what if you wanted to print something on the same line? You can use ``print foo, bar`` of course, but what about using two ``print`` statements?\n",
    "\n",
    "It might seem annoying sometimes that there's always a newline appended - unless you change ending using ``end`` parameter:"
   ]
  },
  {
   "cell_type": "code",
   "execution_count": null,
   "metadata": {},
   "outputs": [],
   "source": [
    "print (timon)\n",
    "print (\"What a wonderful phrase...\")\n",
    "print (timon,end='')\n",
    "print (\"It ain't no passing craze...\",end='')\n",
    "print (\"It means no worries...\", \"for the rest of your days\")"
   ]
  },
  {
   "cell_type": "markdown",
   "metadata": {},
   "source": [
    "## <a name=\"import-statement\"></a> [[top]](#top) Your Second Statement\n",
    "\n",
    "To being the process of python coding, you should get introduced to your second statement: ``import``. This allows you to import modules and packages into the scope of your code and interface with other peoples sweat and tears. Let's start with the classic easter egg:"
   ]
  },
  {
   "cell_type": "code",
   "execution_count": null,
   "metadata": {},
   "outputs": [],
   "source": [
    "import antigravity"
   ]
  },
  {
   "cell_type": "markdown",
   "metadata": {},
   "source": [
    "Now, it's time for your first exercise. Try importing a module called ``this``"
   ]
  },
  {
   "cell_type": "code",
   "execution_count": null,
   "metadata": {},
   "outputs": [],
   "source": [
    "# go ahead and import it!"
   ]
  },
  {
   "cell_type": "markdown",
   "metadata": {},
   "source": [
    "When you import a module, the name of that module goes into scope and its API is accessible under the same name. If the above two modules actually imported anything, you would be able to access it via ``antigravity.something`` or ``this.that``. As a concrete example, let's import the [``types`` library](https://docs.python.org/2/library/types.html) and see what sorts of things are included when importing it.\n",
    "\n",
    "Note: not all modules print a message when they get imported. ``this`` is a slight exception / easter egg."
   ]
  },
  {
   "cell_type": "code",
   "execution_count": null,
   "metadata": {},
   "outputs": [],
   "source": [
    "import types\n",
    "dir(types)"
   ]
  },
  {
   "cell_type": "code",
   "execution_count": null,
   "metadata": {},
   "outputs": [],
   "source": [
    "types.CellType"
   ]
  },
  {
   "cell_type": "markdown",
   "metadata": {},
   "source": [
    "This means that I can do something like ``from types import BooleanType`` to only extract a specific variable, class, or function instead! I can even rename it during ``import`` if I have name-conflicts:"
   ]
  },
  {
   "cell_type": "code",
   "execution_count": null,
   "metadata": {},
   "outputs": [],
   "source": [
    "import types as MyTypes\n",
    "from types import CellType as AnotherBooleanType"
   ]
  },
  {
   "cell_type": "markdown",
   "metadata": {},
   "source": [
    "## <a name=\"hello-world-future\"></a> [[top]](#top) Functions and Debugging\n",
    "\n",
    "In Python, functions are defined"
   ]
  },
  {
   "cell_type": "code",
   "execution_count": null,
   "metadata": {},
   "outputs": [],
   "source": [
    "# define a function named \"what_does_the_fox_say\"\n",
    "def what_does_the_fox_say():\n",
    "    print (\"Ring-ding-ding-ding-dingeringeding\")"
   ]
  },
  {
   "cell_type": "markdown",
   "metadata": {},
   "source": [
    "and then executed"
   ]
  },
  {
   "cell_type": "code",
   "execution_count": null,
   "metadata": {},
   "outputs": [],
   "source": [
    "what_does_the_fox_say()"
   ]
  },
  {
   "cell_type": "markdown",
   "metadata": {},
   "source": [
    "and we get all sorts of remarkable properties on these functions, which you can view by running the [``dir``](https://docs.python.org/2/library/functions.html#dir) command"
   ]
  },
  {
   "cell_type": "code",
   "execution_count": null,
   "metadata": {},
   "outputs": [],
   "source": [
    "dir(what_does_the_fox_say)"
   ]
  },
  {
   "cell_type": "markdown",
   "metadata": {},
   "source": [
    "such as maybe printing out the name of the function"
   ]
  },
  {
   "cell_type": "code",
   "execution_count": null,
   "metadata": {},
   "outputs": [],
   "source": [
    "what_does_the_fox_say.__name__"
   ]
  },
  {
   "cell_type": "markdown",
   "metadata": {},
   "source": [
    "which seems a little redundant right now. But imagine you alias a function to another variable, but you want to do something based on the name of the function..."
   ]
  },
  {
   "cell_type": "code",
   "execution_count": null,
   "metadata": {},
   "outputs": [],
   "source": [
    "# assign another variable that points to the function\n",
    "wdtfs = what_does_the_fox_say\n",
    "# execute the function\n",
    "wdtfs()\n",
    "# what is the name of the function?\n",
    "wdtfs.__name__"
   ]
  },
  {
   "cell_type": "markdown",
   "metadata": {},
   "source": [
    "As you can see, functions are objects in Python, otherwise known as [*first class citizens*](https://stackoverflow.com/a/27392443/1532974):\n",
    "- passed around and manipulated similarly to integers and strings\n",
    "- assign a function to a variable\n",
    "- pass a function as an argument to another function, etc...\n",
    "\n",
    "Notice how the function in Python has two parentheses wrapping the arguments (or the function signature). Is the ``print`` statement a function?"
   ]
  },
  {
   "cell_type": "code",
   "execution_count": null,
   "metadata": {},
   "outputs": [],
   "source": [
    "# try it out: print(....) with a single string or a single variable of your choice!"
   ]
  },
  {
   "cell_type": "markdown",
   "metadata": {},
   "source": [
    "But this isn't quite right! In fact, the parentheses here, as we'll talking about, defines a [tuple](#tuple). This is somewhat deceiving but check it out:"
   ]
  },
  {
   "cell_type": "code",
   "execution_count": null,
   "metadata": {},
   "outputs": [],
   "source": [
    "print(timon,timon)"
   ]
  },
  {
   "cell_type": "markdown",
   "metadata": {},
   "source": [
    "so it seems to be printing out two strings in a tuple format... Is ``(timon, timon)`` a tuple?"
   ]
  },
  {
   "cell_type": "code",
   "execution_count": null,
   "metadata": {},
   "outputs": [],
   "source": [
    "type( (timon,timon) )"
   ]
  },
  {
   "cell_type": "markdown",
   "metadata": {},
   "source": [
    "It appears to be! But how would I know if something is a function or not? Use the ``type`` class!"
   ]
  },
  {
   "cell_type": "code",
   "execution_count": null,
   "metadata": {},
   "outputs": [],
   "source": [
    "type(what_does_the_fox_say)"
   ]
  },
  {
   "cell_type": "code",
   "execution_count": null,
   "metadata": {},
   "outputs": [],
   "source": [
    "type(print)"
   ]
  },
  {
   "cell_type": "markdown",
   "metadata": {},
   "source": [
    "My personal opinion is that this sort of thing can start to get confusing having a very special *statement* in Python. For the rest of the notebook, we'll replace the ``print`` statement with the ``print`` function instead, which is a lot more powerful as we shall soon see.\n",
    "\n",
    "Let's try and fix the error we've seen:"
   ]
  },
  {
   "cell_type": "code",
   "execution_count": null,
   "metadata": {},
   "outputs": [],
   "source": [
    "# go ahead and import print_function from the __future__ module\n",
    "\n",
    "type(print)"
   ]
  },
  {
   "cell_type": "markdown",
   "metadata": {},
   "source": [
    "<img src=\"https://upload.wikimedia.org/wikipedia/commons/9/92/CPT_Hardware-InputOutput.svg\" width=\"250\" alt=\"input-output diagram\" />\n",
    "\n",
    "## <a name=\"input-output\"></a> [[top]](#top) Input/Output\n",
    "\n",
    "In this section, I hope to highlight some of the different ways that you should be able to input data into your python scripts, as well as being able to extract it out.\n",
    "\n",
    "Lots of times, you might want to treat a python script as a single step in your processing chain. There could be a lot of variables, many places where something can go wrong. Rather than trying to create a one-stop-shop piece of code in Python that could do the full processing - it is much easier to build small snippets, process the data, output an intermediate result that gets fed into the next script down the chain.\n",
    "\n",
    "For now, let's focus on the different ways to input data. Passing command line arguments will be handled in a [later section](#argparse) since we'll focus on data first, not configuration. Editing a python script and re-running is a beginner (and slow) way to do configuration, but if it works, don't knock it!\n",
    "\n",
    "### <a name=\"input\"></a> [[top]](#top) Input\n",
    "\n",
    "In this section, we'll focus on the following ways to input files:\n",
    "- [raw input](https://docs.python.org/2/library/functions.html#raw_input) / user prompt\n",
    "- plain and delimited text files (comma, tabs/spaces, etc...)\n",
    "- [JSON (**J**ava**S**cript **O**bject **N**otation)](http://www.json.org/)\n",
    "- [ROOT](https://root.cern.ch/) data files\n",
    "- [HDF5](https://en.wikipedia.org/wiki/Hierarchical_Data_Format) data files\n",
    "\n",
    "For more information, see [python's tutorial](https://docs.python.org/2/tutorial/inputoutput.html) on input/output."
   ]
  },
  {
   "cell_type": "markdown",
   "metadata": {},
   "source": [
    "### <a name=\"input-raw\"></a> [[top]](#top) Raw Input\n",
    "\n",
    "Raw input is what I call prompting the user for input. This is done using the ``input`` built-in function. This blocks your script from continuing until the user has put some input in."
   ]
  },
  {
   "cell_type": "code",
   "execution_count": null,
   "metadata": {},
   "outputs": [],
   "source": [
    "name = input(\"What is your name?\")\n",
    "print(\"Greetings\", name)"
   ]
  },
  {
   "cell_type": "markdown",
   "metadata": {},
   "source": [
    "This is the most dangerous form as you will need to santize and validate the user input. Imagine that the person typing input to your script is a chimpanzee and you need to program your script to allow them to use it without breaking it.\n",
    "\n",
    "Try running the above code with anything, or just press enter and type nothing in! You can get an idea of how to break a script if you're not careful about validating **all** crazy monkey inputs.\n",
    "\n",
    "But this alone can let you create some really clever or useful helper programs. I like to think of ``raw_input`` as a way to make my python script become a customized calculator for very specific calculations I do repetitively. This way, my script asks me for input, I give it the input, and let it calculate something for me.\n",
    "\n",
    "As an example of this idea, I'll demonstrate how you could create an adder with an infinite ``while`` loop."
   ]
  },
  {
   "cell_type": "code",
   "execution_count": null,
   "metadata": {},
   "outputs": [],
   "source": [
    "# start with nothing\n",
    "total = 0\n",
    "# loop infinitely\n",
    "while True:\n",
    "    number = input(\"Gimme a number or press enter to continue: \")\n",
    "    if number.isdigit():\n",
    "        # as long as we're given something that\n",
    "        #  looks like a number... add it.\n",
    "        total += int(number)\n",
    "    else:\n",
    "        # break the loop\n",
    "        break\n",
    "# let's tell them what they've won!\n",
    "print(\"Your total is\", total)"
   ]
  },
  {
   "cell_type": "markdown",
   "metadata": {},
   "source": [
    "### <a name=\"input-plain\"></a> [[top]](#top) Plain Text\n",
    "\n",
    "Next up on input is dealing with plain text files. I would like to focus a little bit on the different ways you can read a text file. In the ``data`` directory are three files we will look at in this section. I will provide an explanation of how you might read them, and leave another as an exercise up to you. Feel free to play with these files."
   ]
  },
  {
   "cell_type": "code",
   "execution_count": null,
   "metadata": {},
   "outputs": [],
   "source": [
    "! ls -lavh plain_data/*"
   ]
  },
  {
   "cell_type": "markdown",
   "metadata": {},
   "source": [
    "The first file is ``animals`` which is a (non-exhaustive) list of animals, one animal per line. We would like to read this file into a Python [list](#list). Don't worry about what a Python list is (if you're unfamiliar) but it is like an array. The goal here is just to load the data file in.\n",
    "\n",
    "I will demonstrate some different ways to do it using [``open()``](https://docs.python.org/2/library/functions.html#open) a built-in function. This returns a file handler (or a file pointer). This means that you will need to make sure you manually close this file yourself when you are done with it, or you will leak a little bit of memory which is usually caught by the python garbage collection."
   ]
  },
  {
   "cell_type": "code",
   "execution_count": null,
   "metadata": {},
   "outputs": [],
   "source": [
    "# r means open this file in read-only mode\n",
    "fh = open(\"plain_data/animals\", \"r\")\n",
    "print(fh, type(fh))\n",
    "\n",
    "# do something in between\n",
    "\n",
    "# always make sure to close the file when you are done with it\n",
    "fh.close()\n",
    "print(fh, type(fh))"
   ]
  },
  {
   "cell_type": "markdown",
   "metadata": {},
   "source": [
    "If you keep re-running the above code, notice that the file pointer changes. You really are opening this file, and then closing it. Obviously, we would like to read the contents of the file. There's a really handy intuitive method called ``read()`` that lets us do that!\n",
    "\n",
    "To read a file’s contents, call ``f.read(size)``, which reads some quantity of data and returns it as a string. ``size`` is an optional numeric argument. When ``size`` is omitted or negative, the entire contents of the file will be read and returned; it’s **your** problem if the file is twice as large as your machine’s memory. Otherwise, at most ``size`` bytes are read and returned. If the end of the file has been reached, ``f.read()`` will return an empty string (``\"\"``).\n",
    "\n",
    "Let's try it out."
   ]
  },
  {
   "cell_type": "code",
   "execution_count": null,
   "metadata": {},
   "outputs": [],
   "source": [
    "# r means open this file in read-only mode\n",
    "fh = open(\"plain_data/animals\", \"r\")\n",
    "print(fh, type(fh))\n",
    "\n",
    "# read the first 128 bytes from the file\n",
    "#    leave this blank (fh.read()) to read it all\n",
    "#    but there are a lot of animals, so let's not read it all\n",
    "data = fh.read(128)\n",
    "print(data, \"\\n\")\n",
    "print(repr(data))\n",
    "print(\"Data type: \", type(data))\n",
    "\n",
    "# always make sure to close the file when you are done with it\n",
    "fh.close()\n",
    "print(fh, type(fh))"
   ]
  },
  {
   "cell_type": "markdown",
   "metadata": {},
   "source": [
    "Notice that Python's ``print`` function will print the newline characters ``\\n`` by default. You can force it not to do this by wrapping the text in [``repr()``](https://docs.python.org/2/library/functions.html#func-repr) which prints the **repr**esentation of the text.\n",
    "\n",
    "This is a single string object. That's not entirely useful for our purposes, is it? We want to read this file, line by line. Perhaps we can read the entire file, then split it up by the newline delimiter -- but maybe we're limited by application memory. As it turns out, there is a ``readline()`` command.\n",
    "\n",
    "``f.readline()`` reads a single line from the file; a newline character (``\\n``) is left at the end of the string, and is only omitted on the last line of the file if the file doesn’t end in a newline. This makes the return value unambiguous; if ``f.readline()`` returns an empty string, the end of the file has been reached, while a blank line is represented by ``'\\n'``, a string containing only a single newline."
   ]
  },
  {
   "cell_type": "code",
   "execution_count": null,
   "metadata": {},
   "outputs": [],
   "source": [
    "# r means open this file in read-only mode\n",
    "fh = open(\"plain_data/animals\", \"r\")\n",
    "print(fh, type(fh))\n",
    "\n",
    "data = fh.readline()\n",
    "print(repr(data))\n",
    "\n",
    "data = fh.readline()\n",
    "print(repr(data))\n",
    "\n",
    "# always make sure to close the file when you are done with it\n",
    "fh.close()\n",
    "print(fh, type(fh))"
   ]
  },
  {
   "cell_type": "markdown",
   "metadata": {},
   "source": [
    "and so now, we can read this file, line by line. But maybe you want all the lines. There's also a nifty ``readlines()`` command:"
   ]
  },
  {
   "cell_type": "code",
   "execution_count": null,
   "metadata": {},
   "outputs": [],
   "source": [
    "# r means open this file in read-only mode\n",
    "fh = open(\"plain_data/animals\", \"r\")\n",
    "print(fh, type(fh))\n",
    "\n",
    "data = fh.readlines()\n",
    "# let's not print out all the animals\n",
    "print(\"There are\", len(data), \"animals in the file.\")\n",
    "\n",
    "# always make sure to close the file when you are done with it\n",
    "fh.close()\n",
    "print(fh, type(fh))"
   ]
  },
  {
   "cell_type": "markdown",
   "metadata": {},
   "source": [
    "Another, somewhat less undocumented way, is to use ``list()`` to cast the file pointer into a list object. In Python, this is a special case that automatically gives you a list."
   ]
  },
  {
   "cell_type": "code",
   "execution_count": null,
   "metadata": {},
   "outputs": [],
   "source": [
    "# r means open this file in read-only mode\n",
    "fh = open(\"plain_data/animals\", \"r\")\n",
    "print(fh, type(fh))\n",
    "\n",
    "data = list(fh)\n",
    "# let's not print out all the animals\n",
    "print(\"There are\", len(data), \"animals in the file.\")\n",
    "\n",
    "# always make sure to close the file when you are done with it\n",
    "fh.close()\n",
    "print(fh, type(fh))"
   ]
  },
  {
   "cell_type": "markdown",
   "metadata": {},
   "source": [
    "Just beware that each element in this list will contain that pesky newline character at the end which is great for printing it to the screen... but not so much when you're trying to do data analysis. The [``strip()`` commands](https://docs.python.org/2/library/string.html#string.lstrip) (also ``lstrip()`` and ``rstrip()``) on ``str`` objects will remove the specified characters from the beginning/end of the string. If you don't specify a character to truncate, whitespace characters will be truncated by default."
   ]
  },
  {
   "cell_type": "code",
   "execution_count": null,
   "metadata": {},
   "outputs": [],
   "source": [
    "print(\"left\", \"     outer space      \", \"right\")\n",
    "print(\"left\", \"     outer space      \".strip(), \"right\")"
   ]
  },
  {
   "cell_type": "markdown",
   "metadata": {},
   "source": [
    "Feel free to go back over some of the above examples and try using ``line.strip()`` instead! When reading plain text files, ``strip()`` and ``repr()`` are your friends.\n",
    "\n",
    "As you can imagine so far, it can start getting annoying to constanly remember to close the file when you're done. In fact, there's a statement for it! The [``with`` statement](https://docs.python.org/2/reference/compound_stmts.html#the-with-statement) will call the ``file.__enter__()`` and ``file.__exit__()`` methods automatically. Luckily for us, this means we can open files for reading and then immediately close them after when we are done. Here's a nice example:"
   ]
  },
  {
   "cell_type": "code",
   "execution_count": null,
   "metadata": {},
   "outputs": [],
   "source": [
    "with open(\"plain_data/animals\", \"r\") as fh:\n",
    "    print(fh, type(fh))\n",
    "\n",
    "print(fh, type(fh))"
   ]
  },
  {
   "cell_type": "markdown",
   "metadata": {},
   "source": [
    "So now, we can use the scope of the ``with`` statement to encapsulate the logic we need for reading files in this example. This is incredibly convenient. Let's try to do the same thing with a comma-separated file!"
   ]
  },
  {
   "cell_type": "code",
   "execution_count": null,
   "metadata": {},
   "outputs": [],
   "source": [
    "! ls -lavh plain_data/*"
   ]
  },
  {
   "cell_type": "markdown",
   "metadata": {},
   "source": [
    "The other two files here to focus on are comma-separated and tab-separated. These are plain text files as well. Like the ``animals`` file we just looked at where there was an animal for each line -- the other files have an entry, or event, or item for each line. The difference is that now, we have a delimiter that encodes more information per line that we need to extract in a meaningful way."
   ]
  },
  {
   "cell_type": "markdown",
   "metadata": {},
   "source": [
    "Using the [``csv`` library](https://docs.python.org/2/library/csv.html) provided, let's try reading in the comma-separated file!\n",
    "\n",
    "Let's look at what ``plain_data/example.csv`` contains so we know how to configure the reader:"
   ]
  },
  {
   "cell_type": "code",
   "execution_count": null,
   "metadata": {},
   "outputs": [],
   "source": [
    "! cat plain_data/example.csv"
   ]
  },
  {
   "cell_type": "markdown",
   "metadata": {},
   "source": [
    "As you can see, we want to make sure that the comma inside the quoted string, like ``\"Venture, Extended Edition\"`` isn't considered a delimiter. We will use ``\"`` as a quote character which is a way to let the csv reader flag when to split on the delimiter and when to not."
   ]
  },
  {
   "cell_type": "code",
   "execution_count": null,
   "metadata": {},
   "outputs": [],
   "source": [
    "import csv\n",
    "with open(\"plain_data/example.csv\") as fh:\n",
    "    reader = csv.reader(fh, delimiter=',', quotechar='\"')\n",
    "    # use next() to get the first line/entry/row/event from the file, which are the headers\n",
    "    headers = next(reader)\n",
    "    # use the list(fh) trick to just get a list of everything else!\n",
    "    data = list(reader)\n",
    "    \n",
    "print(\"Headers:\", repr(headers))\n",
    "print(\"Data:\", repr(data))"
   ]
  },
  {
   "cell_type": "markdown",
   "metadata": {},
   "source": [
    "As you can see, it was remarkably easy to extract out a comma-separated file correctly. What you see above is the list representation for the headers -- a list of 4 items. We called the ``next()`` on the reader (which acts like a file pointer for us).\n",
    "\n",
    "The data is represented as a list of lists. The important part here is that we were able to split up the file and extract out the data in a meaningful way. That's the goal of this section, to input data. We haven't discussed understanding it, or parsing it, or validating it, or doing calculations with it. This is where the crux of your time will be spent - analyzing and calculating. I hope these pieces of the code become less challenging and easier so you can focus on what really matters.\n",
    "\n",
    "Now for the **exercise**! There is one more file in here, a tab-separated file with the same data. Using the above code as inspiration, copied below for you -- can you produce the same ``print`` output as in the comma-separated case? Make sure you understan what each piece of code is doing. Don't be shy about bedazzling this code with ``print`` functions everywhere!"
   ]
  },
  {
   "cell_type": "code",
   "execution_count": null,
   "metadata": {},
   "outputs": [],
   "source": [
    "import csv\n",
    "with open(\"plain_data/example.tsv\") as fh:\n",
    "    reader = csv.reader(fh, delimiter=',', quotechar='\"') # use the tab delimiter: \\t\n",
    "    # do some stuff here\n",
    "    headers = ''\n",
    "    data = ''\n",
    "    \n",
    "print(\"Headers:\", repr(headers))\n",
    "print(\"Data:\", repr(data))"
   ]
  },
  {
   "cell_type": "markdown",
   "metadata": {},
   "source": [
    "### <a name=\"input-json\"></a> [[top]](#top) JSON\n",
    "\n",
    "JSON is one of the most useful plain text formats you can get. Most languages have a JSON parser as you can see from the list at the bottom of [this page on JSON.org](http://www.json.org/). It also happens to be a very nice way to provide configuration for any script as well as a way to serialize data to pass between scripts in different languages that also happens to be human-readable. A more advanced version of JSON is known as [protobuf](https://github.com/google/protobuf) but I won't cover that.\n",
    "\n",
    "Let's just show a very simple example of reading a JSON file in ``json_data/``."
   ]
  },
  {
   "cell_type": "code",
   "execution_count": null,
   "metadata": {},
   "outputs": [],
   "source": [
    "! ls -lavh json_data/*"
   ]
  },
  {
   "cell_type": "code",
   "execution_count": null,
   "metadata": {},
   "outputs": [],
   "source": [
    "! cat json_data/example.json"
   ]
  },
  {
   "cell_type": "markdown",
   "metadata": {},
   "source": [
    "As you can see, the JSON data looks perfectly readable. With Python, we just use the JSON library in order to load this up."
   ]
  },
  {
   "cell_type": "code",
   "execution_count": null,
   "metadata": {},
   "outputs": [],
   "source": [
    "import json\n",
    "json.load(\"json_data/example.json\")"
   ]
  },
  {
   "cell_type": "markdown",
   "metadata": {},
   "source": [
    "Uh-oh! What happened here? It looks like the python call was expecting a file pointer instead. Let's fix that."
   ]
  },
  {
   "cell_type": "code",
   "execution_count": null,
   "metadata": {},
   "outputs": [],
   "source": [
    "import json\n",
    "data = json.load(open(\"json_data/example.json\"))\n",
    "print(repr(data))"
   ]
  },
  {
   "cell_type": "markdown",
   "metadata": {},
   "source": [
    "And that's it! There is really not that much more to do here. You've just loaded in a file containing JSON data and you can now do things with it."
   ]
  },
  {
   "cell_type": "markdown",
   "metadata": {},
   "source": [
    "### <a name=\"input-root-hdf5\"></a> [[top]](#top) ROOT and HDF5\n",
    "\n",
    "As you probably can already guess - JSON is not the best format when it comes to storing a lot of raw data in very complicated layouts. In fact, when you start having so much data that it costs a lot of money to maintain the storage for the data - you care a lot about being able to compress it while still maintaining as fast access as possible. This is where data formats like [ROOT](https://root.cern.ch/) and [HDF](https://www.hdfgroup.org/) become important.\n",
    "\n",
    "These are file formats that are usually bottlenecked by I/O (input/output) but still allows for very fast access of a large amount of data that cannot fit into physical memory. At this point, you start getting into parallel processing, and thinking about distributed computing, and a lot of interesting technologies come into play. For now, we'll just briefly show two different ways of opening a ROOT file. There will be more of a focus on HDF5 later during the workshop."
   ]
  },
  {
   "cell_type": "code",
   "execution_count": null,
   "metadata": {},
   "outputs": [],
   "source": [
    "import ROOT"
   ]
  },
  {
   "cell_type": "markdown",
   "metadata": {},
   "source": [
    "ROOT has a python library known as [PyROOT](https://root.cern.ch/pyroot) which we will take advantage of. There is also a NumPy wrapper around PyROOT which is known as [root_numpy](http://scikit-hep.org/root_numpy/) which contains some test data for the purposes of demonstrating that we can read in a ROOT file."
   ]
  },
  {
   "cell_type": "code",
   "execution_count": null,
   "metadata": {},
   "outputs": [],
   "source": [
    "import ROOT\n",
    "from root_numpy import testdata\n",
    "print(testdata.get_filepath('single1.root'))\n",
    "# open for reading\n",
    "f = ROOT.TFile.Open(testdata.get_filepath('single1.root'))\n",
    "print(f, type(f))\n",
    "\n",
    "# close the file pointer\n",
    "f.Close()\n",
    "print(f, type(f))"
   ]
  },
  {
   "cell_type": "markdown",
   "metadata": {},
   "source": [
    "Like we've seen with [``open()``](#input-plain) before, PyROOT will create the file pointer from you given a filename. You do not need to pass in a file object. In this case, ``ROOT.TFile.Open()`` replaces ``open()`` when we need to open a file pointer for ROOT files.\n",
    "\n",
    "With HDF5, there is a similar pattern. When you start looking into the machine learning tutorials later - you will be able to open and read ``hdf5`` files like so\n",
    "\n",
    "```python\n",
    "import h5py\n",
    "#open for reading\n",
    "f = h5py.File('example.hdf5, 'r')\n",
    "print(f, type(f))\n",
    "\n",
    "f.close()\n",
    "print(f, type(f))\n",
    "# Get the data\n",
    "```\n",
    "\n",
    "so like ROOT, you give the [H5Py](http://docs.h5py.org/en/latest/) library the name of the file to open, and it returns a pointer. For JSON, and other plain text files -- you use ``open()`` to create the file pointer."
   ]
  },
  {
   "cell_type": "markdown",
   "metadata": {},
   "source": [
    "## <a name=\"output\"></a> [[top]](#top) Output\n",
    "\n",
    "### <a name=\"output-hello-world\"></a> [[top]](#top) Saying Hello World to a file\n",
    "\n",
    "Recall that in [The Future of Hello World](#hello-world-future), we used the ``print()`` function from Python 3 by importing from ``__future__``. We also saw that we can use the ``end`` attribute for the function to remove the newline that would get added when printing to screen. What if you wanted to print directly to a file? Well, you can!\n",
    "\n",
    "If you are using the ``print`` statement, you could do\n",
    "\n",
    "```python\n",
    "with open('out.txt', 'w') as f:\n",
    "  print (>>f, 'Hello World!')\n",
    "```\n",
    "\n",
    "but since we're wise beyond our years and use the print function... You can use the ``file`` attribute.\n",
    "\n",
    "But before we get to the next exercise, I would like to remind you that you can open a file for reading ``r``, writing ``w``, or appending ``a`` -- as well as in binary mode by adding the ``b`` flag. In order to write to a file, you must use ``w``, ``wb``, ``a``, or ``ab`` at the very least for the ``open`` file-mode call.\n",
    "\n",
    "So now, the exercise! Fix the below code to make it work using the ``print(..., file=<file pointer>)`` function to redirect your output to ``hello_world.log``"
   ]
  },
  {
   "cell_type": "code",
   "execution_count": null,
   "metadata": {},
   "outputs": [],
   "source": [
    "from __future__ import print_function\n",
    "with open('hello_world.log', 'w') as fh:\n",
    "    print (>>fh, \"Hello World!\") # rewrite this line"
   ]
  },
  {
   "cell_type": "markdown",
   "metadata": {},
   "source": [
    "The other thing you could do is to have ``STDOUT`` point to a file instead. Then all print statements get redirected for you. How do you access your system's information about which file the kernel writes into? Why, using the python [``sys``](https://docs.python.org/2/library/sys.html) library!"
   ]
  },
  {
   "cell_type": "code",
   "execution_count": null,
   "metadata": {},
   "outputs": [],
   "source": [
    "import sys\n",
    "# let's just show we can write to the notebook as usual\n",
    "print(sys.stdout)\n",
    "# hold on to the regular stdout \n",
    "temp_stdout = sys.stdout\n",
    "# now redirect to a file\n",
    "sys.stdout = open(\"stdout.log\", \"w\")\n",
    "print(sys.stdout)\n",
    "# now redirect back\n",
    "sys.stdout.close()\n",
    "sys.stdout = temp_stdout\n",
    "# this should print again to the notebook\n",
    "print(sys.stdout)"
   ]
  },
  {
   "cell_type": "markdown",
   "metadata": {},
   "source": [
    "and we can see that running the above will make a ``stdout.log`` file containing"
   ]
  },
  {
   "cell_type": "code",
   "execution_count": null,
   "metadata": {},
   "outputs": [],
   "source": [
    "! cat stdout.log"
   ]
  },
  {
   "cell_type": "markdown",
   "metadata": {},
   "source": [
    "So this is pretty neat. This should give you an idea of how you have some control over being able to stream output on your system. You can start to do more complicated things such as redirecting output to multiple files based on what function is being called or something more clever. To learn more about some advanced features, such as using the python [``logging``](https://docs.python.org/2/library/logging.html) facility, you can check out the [advanced section](#logging) in this tutorial.\n",
    "\n",
    "Let's go ahead and delete the files we just created in this tutorial"
   ]
  },
  {
   "cell_type": "code",
   "execution_count": null,
   "metadata": {},
   "outputs": [],
   "source": [
    "! rm hello_world.log stdout.log"
   ]
  },
  {
   "cell_type": "markdown",
   "metadata": {},
   "source": [
    "### <a name=\"output-plain\"></a> [[top]](#top) Plain Text\n",
    "\n",
    "We've just seen how you can redirect ``print`` output to a file in two different ways:\n",
    "- redirect individual ``print`` statements/functions on a case-by-case basis\n",
    "- globally redirect all ``print`` calls by changing where ``sys.stdout`` points to\n",
    "\n",
    "To write output directly to a file using a file pointer is just as easy as [reading it](#input-plain). Instead of using the ``file::read()`` command, you will use the ``file::write()`` command. Unlike ``print`` calls which add a newline character to the end for you, you need to add one manually in order to make newlines in a file. Time for the next exercise!"
   ]
  },
  {
   "cell_type": "code",
   "execution_count": null,
   "metadata": {},
   "outputs": [],
   "source": [
    "name = input(\"What is your name? \")\n",
    "with open('plain_output.log', 'w') as fh:\n",
    "    # rewrite these lines to use fh.write(....) instead\n",
    "    print(\"Hello \", file=fh, end='') #no newline\n",
    "    print(name, file=fh) #newline\n",
    "    print(\"How are you today?\", file=fh) #newline"
   ]
  },
  {
   "cell_type": "markdown",
   "metadata": {},
   "source": [
    "I would like you to play around with the ``fh.write()`` by adding multiple lines in, and try to understand how this works. This above example combines a few pieces of what you've learned previously using [``raw_input``](#input-raw) as well as how to suppress a newline with a ``print`` call. You can check your work by running"
   ]
  },
  {
   "cell_type": "code",
   "execution_count": null,
   "metadata": {},
   "outputs": [],
   "source": [
    "! cat plain_output.log"
   ]
  },
  {
   "cell_type": "markdown",
   "metadata": {},
   "source": [
    "When you're satisfied that you understand plain text printing, go ahead and clean up the file you made"
   ]
  },
  {
   "cell_type": "code",
   "execution_count": null,
   "metadata": {},
   "outputs": [],
   "source": [
    "! rm plain_output.log"
   ]
  },
  {
   "cell_type": "markdown",
   "metadata": {},
   "source": [
    "### <a name=\"output-json\"></a> [[top]](#top) JSON\n",
    "\n",
    "[JSON](http://www.json.org/) is a very nice way to serialize many python objects into a plain text format that can be re-imported at a later time. It's as simple as loading the JSON library and calling the ``dumps()`` method to see the JSON representation, or calling the ``dump(data, fh)`` method to write to a file pointer.\n",
    "\n",
    "Imagine a scenario where you have lots of plain text files, but you want to convert them to JSON. In this case, maybe we'll just load one of the [plain data examples](#input-plain) where we loaded the data into a list, and then just dump that list into a file in JSON format. Starting from a previous exercise, let's extend it more...\n",
    "\n",
    "I've added the ``import json`` and ``json.dumps()`` calls for you. All you need to do is create a ``with`` statement that gives you an open file handle to write into using ``json.dump()``. You can see a pretty JSON representation of the object we will write to the file. I use the nifty ``indent=4`` to make it look pretty. The object we're dumping is a tuple ``(a, b)`` of two different lists: headers and data."
   ]
  },
  {
   "cell_type": "code",
   "execution_count": null,
   "metadata": {},
   "outputs": [],
   "source": [
    "import csv, json\n",
    "with open(\"plain_data/example.csv\") as fh:\n",
    "    reader = csv.reader(fh, delimiter=',', quotechar='\"')\n",
    "    # use next() to get the first line/entry/row/event from the file, which are the headers\n",
    "    headers = next(reader)\n",
    "    # use the list(fh) trick to just get a list of everything else!\n",
    "    data = list(reader)\n",
    "\n",
    "# I want to write this to a file called: example.json\n",
    "#    using the with statement to pass in a file pointer\n",
    "print(json.dumps((headers, data), indent=4))"
   ]
  },
  {
   "cell_type": "markdown",
   "metadata": {},
   "source": [
    "When all is said and done, you should verify that you wrote to the file correctly"
   ]
  },
  {
   "cell_type": "code",
   "execution_count": null,
   "metadata": {},
   "outputs": [],
   "source": [
    "! cat example.json"
   ]
  },
  {
   "cell_type": "markdown",
   "metadata": {},
   "source": [
    "Compare this to ``plain_data/example.csv`` to get an idea of how the two representations are a bit different, but both are still plain text!"
   ]
  },
  {
   "cell_type": "code",
   "execution_count": null,
   "metadata": {},
   "outputs": [],
   "source": [
    "! cat plain_data/example.csv"
   ]
  },
  {
   "cell_type": "markdown",
   "metadata": {},
   "source": [
    "and then clean up and remove the JSON file you just made."
   ]
  },
  {
   "cell_type": "code",
   "execution_count": null,
   "metadata": {},
   "outputs": [],
   "source": [
    "! rm example.json"
   ]
  },
  {
   "cell_type": "markdown",
   "metadata": {},
   "source": [
    "## <a name=\"iterables\"></a> [[top]](#top) Iterating Iterables\n",
    "\n",
    "In this section, I will introduce you to the next powerful concept of Python which are iterables. An iterable, as its name implies, is something you can iterate over in some sort of a loop: ``for``, ``do/while``, and so on.\n",
    "\n",
    "From the [python glossary](https://docs.python.org/2/glossary.html), an iterable is:\n",
    "- a sequence\n",
    "- capable of returning its members one at a time\n",
    "- used in for loop or many other places where a sequence can be used\n",
    "\n",
    "Some of the sequences we will cover include:\n",
    "- lists\n",
    "- sets\n",
    "- dictionaries\n",
    "- tuples\n",
    "- strings\n",
    "- files\n",
    "- numpy arrays\n",
    "\n",
    "For more information, see [this tutorial](http://anandology.com/python-practice-book/iterators.html). See also [iterator](https://docs.python.org/2/glossary.html#term-iterator), [sequence](https://docs.python.org/2/glossary.html#term-sequence), and [generator](https://docs.python.org/2/glossary.html#term-generator)."
   ]
  },
  {
   "cell_type": "code",
   "execution_count": null,
   "metadata": {},
   "outputs": [],
   "source": [
    "# a list of stuff\n",
    "a_list = [1,2,'three',2*2,\"five\",\"6\", [1,2,3]]\n",
    "print(type(a_list), a_list)"
   ]
  },
  {
   "cell_type": "code",
   "execution_count": null,
   "metadata": {},
   "outputs": [],
   "source": [
    "# sets contain unique objects\n",
    "a_set = {1,'two',3,3,1,1,1,1,1,1}\n",
    "print(type(a_set), a_set)"
   ]
  },
  {
   "cell_type": "code",
   "execution_count": null,
   "metadata": {},
   "outputs": [],
   "source": [
    "# dictionaries are key-value stores\n",
    "a_dict = {\"name\": \"Giordon Stark\", \"age\": 27, \"favorite_number\": 3.1415926, (\"dead\",\"alive\"): False}\n",
    "print(type(a_dict), a_dict)"
   ]
  },
  {
   "cell_type": "code",
   "execution_count": null,
   "metadata": {},
   "outputs": [],
   "source": [
    "# tuples are fixed and cannot be changed after you define it\n",
    "a_tuple = (\"Enrico\",\"Fermi\",\"Institute\")\n",
    "print(type(a_tuple), a_tuple)"
   ]
  },
  {
   "cell_type": "code",
   "execution_count": null,
   "metadata": {},
   "outputs": [],
   "source": [
    "# you know what a string is\n",
    "a_string = \"Hello World!\"\n",
    "print(type(a_string), a_string)"
   ]
  },
  {
   "cell_type": "code",
   "execution_count": null,
   "metadata": {},
   "outputs": [],
   "source": [
    "# and what a file is\n",
    "a_file = open(\"plain_data/example.tsv\", \"r\")\n",
    "print(type(a_file), a_file)\n",
    "a_file.close()"
   ]
  },
  {
   "cell_type": "markdown",
   "metadata": {},
   "source": [
    "## Iterating over these objects  [[top]](#top)\n",
    "\n",
    "So let's show you how to iterate over each of these types of objects."
   ]
  },
  {
   "cell_type": "markdown",
   "metadata": {},
   "source": [
    "### <a name=\"iterables-list\"></a> [[top]](#top) List"
   ]
  },
  {
   "cell_type": "code",
   "execution_count": null,
   "metadata": {},
   "outputs": [],
   "source": [
    "for item in a_list:\n",
    "    print(type(item), item, repr(item))"
   ]
  },
  {
   "cell_type": "markdown",
   "metadata": {},
   "source": [
    "### <a name=\"iterables-set\"></a> [[top]](#top) Set"
   ]
  },
  {
   "cell_type": "code",
   "execution_count": null,
   "metadata": {},
   "outputs": [],
   "source": [
    "for item in a_set:\n",
    "    print(type(item), item, repr(item))"
   ]
  },
  {
   "cell_type": "markdown",
   "metadata": {},
   "source": [
    "### <a name=\"iterables-dict\"></a> [[top]](#top) Dictionary"
   ]
  },
  {
   "cell_type": "code",
   "execution_count": null,
   "metadata": {},
   "outputs": [],
   "source": [
    "for k, v in a_dict.items():\n",
    "    print(type(k), k, type(v), v)"
   ]
  },
  {
   "cell_type": "markdown",
   "metadata": {},
   "source": [
    "but as you've noticed, dictionaries are a little special since they contain key/value pairs. How do you print the value of the dictionary? You can iterate over the keys of a dictionary and then access the values from a dictionary using either it's ``__getitem__()`` method with ``[]`` accessor, or using ``dict::get()`` which also allows you to set a default value... or just use ``dict.iteritems()`` to loop over ``(key, value)`` tuples that represent the dictionary instead."
   ]
  },
  {
   "cell_type": "code",
   "execution_count": null,
   "metadata": {},
   "outputs": [],
   "source": [
    "a_dict.items()"
   ]
  },
  {
   "cell_type": "code",
   "execution_count": null,
   "metadata": {},
   "outputs": [],
   "source": [
    "for item in a_dict:\n",
    "    print(type(item), item, a_dict[item])"
   ]
  },
  {
   "cell_type": "code",
   "execution_count": null,
   "metadata": {},
   "outputs": [],
   "source": [
    "for item in a_dict:\n",
    "    print(type(item), item, a_dict.get(item))\n",
    "    \n",
    "print(a_dict.get('FakeKey'))\n",
    "print(a_dict.get('FakeKey', 'DefaultValue'))"
   ]
  },
  {
   "cell_type": "markdown",
   "metadata": {},
   "source": [
    "### <a name=\"iterables-tuple\"></a> [[top]](#top) Tuple"
   ]
  },
  {
   "cell_type": "code",
   "execution_count": null,
   "metadata": {},
   "outputs": [],
   "source": [
    "for item in a_tuple:\n",
    "    print(type(item), item, repr(item))"
   ]
  },
  {
   "cell_type": "markdown",
   "metadata": {},
   "source": [
    "### <a name=\"iterables-str\"></a> [[top]](#top) String"
   ]
  },
  {
   "cell_type": "code",
   "execution_count": null,
   "metadata": {},
   "outputs": [],
   "source": [
    "for item in a_string:\n",
    "    print(type(item), item, repr(item))"
   ]
  },
  {
   "cell_type": "markdown",
   "metadata": {},
   "source": [
    "### <a name=\"iterables-file\"></a> [[top]](#top) Files"
   ]
  },
  {
   "cell_type": "code",
   "execution_count": null,
   "metadata": {},
   "outputs": [],
   "source": [
    "\"\"\" Remember that below code is equivalent to:\n",
    "\n",
    "a_file = open(\"plain_data/example.tsv\")\n",
    "for item in a_file:\n",
    "    print(type(item), item, repr(item))\n",
    "a_file.close()\n",
    "\n",
    "\"\"\"\n",
    "\n",
    "with open(\"plain_data/example.tsv\") as f:\n",
    "    for item in f:\n",
    "        print(type(item), repr(item))"
   ]
  },
  {
   "cell_type": "markdown",
   "metadata": {},
   "source": [
    "Notice that with iterating over a file pointer is like iterating over the ``readlines`` method we've seen [previously in this tutorial](#input-plain)."
   ]
  },
  {
   "cell_type": "markdown",
   "metadata": {},
   "source": [
    "### <a name=\"iterables-numpy\"></a> [[top]](#top) NumPy Array"
   ]
  },
  {
   "cell_type": "code",
   "execution_count": null,
   "metadata": {},
   "outputs": [],
   "source": [
    "import numpy as np\n",
    "arr = np.array([1,2,3,4,5,6,7,8,9])\n",
    "print(type(arr), repr(arr))\n",
    "for item in arr:\n",
    "    print(type(item), repr(item))"
   ]
  },
  {
   "cell_type": "markdown",
   "metadata": {},
   "source": [
    "NumPy arrays are often just called ``ndarray`` which means \"n-dimensional array\". In fact, these arrays can have arbitrary dimension and are used **heavily** with data science in Python. In the next tutorial, I'll show some interesting features of NumPy arrays so that you can be more familiar with how to handle them."
   ]
  },
  {
   "cell_type": "markdown",
   "metadata": {},
   "source": [
    "## <a name=\"iterables-common-ops\"></a> [[top]](#top) Common Sequence Operations\n",
    "\n",
    "To close off this tutorial into Python, let's look at some common list operations and manipulations you should be familiar with.\n",
    "\n",
    "| **Operation** | **Result** |\n",
    "|:--------------|:-----------|\n",
    "| ``range(j)`` | Sequence of integers from ``[0,j)`` in steps of size 1 |\n",
    "| ``range(i,j)`` | Sequence of integers from ``[i, j)`` in steps of size 1 |\n",
    "| ``range(i, j, k)`` | Sequence of integers from ``[i, j)`` in steps of size ``k`` |\n",
    "| ``x in s`` | ``True`` if an item of ``s`` is equal to ``x``, else ``False`` |\n",
    "| ``x not in s`` | ``False`` if an item of ``s`` is equal to ``x``, else ``True`` |\n",
    "| ``s + t`` | The concatenation of ``s`` and ``t``, extending a sequence |\n",
    "| ``s * n`` or ``n * s`` | equivalent to adding ``s`` to itself ``n`` times | \n",
    "| ``s[i]`` | *i*th item of ``s``, starting from 0 |\n",
    "| ``s[i:j]`` | slice of ``s`` from ``i`` to ``j`` |\n",
    "| ``s[i:j:k]`` | slice of ``s`` from ``i`` to ``j`` with step ``k`` |\n",
    "| ``len(s)`` | length of ``s`` |\n",
    "| ``min(s)`` | smallest item of ``s`` |\n",
    "| ``max(s)`` | largest item of ``s`` |\n",
    "| ``s.index(x[, i[, j]])`` | index of the first occurence of ``x`` in ``s`` (at or after index ``i`` and before index ``j``) |\n",
    "| ``s.count(x)`` | total number of occurrences of ``x`` in ``s`` |\n",
    "| ``s.sort()`` | sorting ``s`` in place |\n",
    "| ``sorted(s)`` | return a sorted copy of ``s`` |\n",
    "| ``map(f, s)`` | return a copy of ``s`` with ``f`` applied to every element |\n",
    "\n",
    "For more information, see [python documentation](https://docs.python.org/2/library/stdtypes.html#typesseq). Let's see examples of the above in action."
   ]
  },
  {
   "cell_type": "code",
   "execution_count": null,
   "metadata": {},
   "outputs": [],
   "source": [
    "print(range(10))\n",
    "print(range(2,9))\n",
    "print(range(2,9,3))"
   ]
  },
  {
   "cell_type": "code",
   "execution_count": null,
   "metadata": {},
   "outputs": [],
   "source": [
    "print(3 in range(10))\n",
    "print(3 in range(2,9))\n",
    "print(3 in range(2,9,3))"
   ]
  },
  {
   "cell_type": "code",
   "execution_count": null,
   "metadata": {},
   "outputs": [],
   "source": [
    "range(3)+range(11,20,2)"
   ]
  },
  {
   "cell_type": "code",
   "execution_count": null,
   "metadata": {},
   "outputs": [],
   "source": [
    "range(3)*3"
   ]
  },
  {
   "cell_type": "code",
   "execution_count": null,
   "metadata": {},
   "outputs": [],
   "source": [
    "print(range(10)[2])\n",
    "print(range(10)[2:6])\n",
    "print(range(10)[2:6:3])"
   ]
  },
  {
   "cell_type": "code",
   "execution_count": null,
   "metadata": {},
   "outputs": [],
   "source": [
    "print(len(range(10)))\n",
    "print(min(range(10)))\n",
    "print(max(range(10)))"
   ]
  },
  {
   "cell_type": "code",
   "execution_count": null,
   "metadata": {},
   "outputs": [],
   "source": [
    "range(10).index(2)"
   ]
  },
  {
   "cell_type": "code",
   "execution_count": null,
   "metadata": {},
   "outputs": [],
   "source": [
    "import math\n",
    "map(math.sqrt, range(10))"
   ]
  },
  {
   "cell_type": "markdown",
   "metadata": {},
   "source": [
    "## <a name=\"comprehensions\"></a> [[top]](#top) Comprehensions\n",
    "\n",
    "Comprehensions are one of the most amazing things about Python. What better way then to show off some of the power?"
   ]
  },
  {
   "cell_type": "code",
   "execution_count": null,
   "metadata": {},
   "outputs": [],
   "source": [
    "[i for i in range(10)]"
   ]
  },
  {
   "cell_type": "markdown",
   "metadata": {},
   "source": [
    "How do you read this? \"Make a list of ``i``, for ``i`` in ``range(10)`` and return it to me\". Why is this powerful? If you think about it, you could replace ``map()`` with list comprehension! Let's use that last example of ``map()`` and rewrite it using list comprehension."
   ]
  },
  {
   "cell_type": "code",
   "execution_count": null,
   "metadata": {},
   "outputs": [],
   "source": [
    "import math\n",
    "map(math.sqrt, range(10)) #rewrite me!!!"
   ]
  },
  {
   "cell_type": "markdown",
   "metadata": {},
   "source": [
    "You can even combine multiple loops, such as generating all possible combinations of two different lists. Let's take an example of combining a letter from my first name with a letter from my last name and generating all possible unique combinations:"
   ]
  },
  {
   "cell_type": "code",
   "execution_count": null,
   "metadata": {},
   "outputs": [],
   "source": [
    "result = []\n",
    "for first in \"giordon\":\n",
    "    for last in \"stark\":\n",
    "        result.append(first+last)\n",
    "set(result)"
   ]
  },
  {
   "cell_type": "markdown",
   "metadata": {},
   "source": [
    "How can we make this shorter, and perhaps more clearer, with comprehensions?"
   ]
  },
  {
   "cell_type": "code",
   "execution_count": null,
   "metadata": {},
   "outputs": [],
   "source": [
    "set([first+last for last in \"stark\" for first in \"giordon\"])"
   ]
  },
  {
   "cell_type": "markdown",
   "metadata": {},
   "source": [
    "## <a name=\"slice-filter\"></a> [[top]](#top) Slicing and Filtering\n",
    "\n",
    "Slicing and filtering are the two cornerstones of data analysis. You need to constantly be able to clean/sanitize your data, as well as slice it based on conditions. For now, let's discuss how we slice/filter vanilla Python sequences. In the next tutorial focusing on NumPy arrays, I'll show you some more interesting examples."
   ]
  },
  {
   "cell_type": "code",
   "execution_count": null,
   "metadata": {},
   "outputs": [],
   "source": [
    "reverse_me = range(10)\n",
    "reverse_me.reverse()\n",
    "print(reverse_me)"
   ]
  },
  {
   "cell_type": "markdown",
   "metadata": {},
   "source": [
    "Can you think of a way to reverse this list using slicing? As a reminder, here's an excerpt from the table above:\n",
    "\n",
    "| **Operation** | **Result** |\n",
    "|:--------------|:-----------|\n",
    "| ``s[i:j:k]`` | slice of ``s`` from ``i`` to ``j`` with step ``k`` |"
   ]
  },
  {
   "cell_type": "code",
   "execution_count": null,
   "metadata": {},
   "outputs": [],
   "source": [
    "# rewrite me into one line!\n",
    "reverse_me = range(10)\n",
    "reverse_me.reverse()\n",
    "print(reverse_me)"
   ]
  },
  {
   "cell_type": "markdown",
   "metadata": {},
   "source": [
    "Why do I care about this? The problem is that the ``reverse()`` function only exists on lists, but not all sequences. So you might want to do ``\"giordon\".reverse()`` only to find out that string objects do not have this method! That's unfortunate.\n",
    "\n",
    "Once you've figured out the above exercise, try it with a string to see if your solution is able to work on strings too."
   ]
  },
  {
   "cell_type": "code",
   "execution_count": null,
   "metadata": {},
   "outputs": [],
   "source": [
    "# rewrite me using your solution!\n",
    "''.join(reversed(\"giordon\"))"
   ]
  },
  {
   "cell_type": "markdown",
   "metadata": {},
   "source": [
    "Filtering becomes much easier in Python once you realize you can take advantage of comprehensions. Let's look at the example we had from above for combining the letters from my first and last names. Let's say I only wanted to include combinations that had at least one vowel - how would I do this?\n",
    "\n",
    "```python\n",
    "set([first+last for last in \"stark\" for first in \"giordon\"])\n",
    "```"
   ]
  },
  {
   "cell_type": "code",
   "execution_count": null,
   "metadata": {},
   "outputs": [],
   "source": [
    "set([first+last for last in \"stark\" for first in \"giordon\" if first in \"aeiou\" or last in \"aeiou\"])"
   ]
  },
  {
   "cell_type": "markdown",
   "metadata": {},
   "source": [
    "and again, in English, you would say \"give me ``first`` plus ``last`` for ``last`` in 'stark', for ``first`` in 'giordon', only if ``first`` is in 'aeiou' or ``last`` is in 'aeiou'\"."
   ]
  },
  {
   "cell_type": "markdown",
   "metadata": {},
   "source": [
    "## <a name=\"zip\"></a> [[top]](#top) Zipping\n",
    "\n",
    "The very last thing (I promise) for this tutorial is to talk about the [``zip()``](https://docs.python.org/2/library/functions.html#zip) function. This function allows you to iterate over multiple iterables simultaneously by returning the *i*th element from each iterable at the same time. Let's demonstrate by example:"
   ]
  },
  {
   "cell_type": "code",
   "execution_count": null,
   "metadata": {},
   "outputs": [],
   "source": [
    "for first,middle,last in zip(\"giordon\",\"holtsberg\",\"stark\"):\n",
    "    print(first,middle,last)"
   ]
  },
  {
   "cell_type": "markdown",
   "metadata": {},
   "source": [
    "You can think of this as a way to transpose a series of lists, but it will only iterate as far as the shortest list can go. In the above case, the shortest list was ``\"stark\"`` with a length of 5. You can try adding spaces to get something that might look aesthetically better:"
   ]
  },
  {
   "cell_type": "code",
   "execution_count": null,
   "metadata": {},
   "outputs": [],
   "source": [
    "for first,middle,last in zip(\" giordon \",\"holtsberg\",\"  stark  \"):\n",
    "    print(first,middle,last)"
   ]
  },
  {
   "cell_type": "markdown",
   "metadata": {},
   "source": [
    "But an incredibly neat trick, and you will see how to transpose NumPy arrays soon, is when you need to effectively transpose a list of lists."
   ]
  },
  {
   "cell_type": "code",
   "execution_count": null,
   "metadata": {},
   "outputs": [],
   "source": [
    "list_of_lists = [range(10)]*5\n",
    "list_of_lists"
   ]
  },
  {
   "cell_type": "code",
   "execution_count": null,
   "metadata": {},
   "outputs": [],
   "source": [
    "zip(*list_of_lists) #splat!"
   ]
  },
  {
   "cell_type": "markdown",
   "metadata": {},
   "source": [
    "In Python, ``*`` has many meanings depending on the context it is found in. Here, we use it as the ``splat`` or ``unpack`` operator, which literally [unpacks](https://codeyarns.com/2012/04/26/unpack-operator-in-python/) our lists for us. What this means is the following:\n",
    "\n",
    "```python\n",
    "a_list = [a, b, c, d, e]\n",
    "some_func(a_list) #equivalent to: some_func([a, b, c, d, e])\n",
    "```\n",
    "\n",
    "which calls ```some_func``` with one argument - a list. What if you wanted to pass the list items as arguments too? Unpack the list!\n",
    "\n",
    "```python\n",
    "some_func(*a_list) #equivalent to: some_func(a, b, c, d, e)\n",
    "```\n",
    "\n",
    "which calls ```some_func``` with five arguments."
   ]
  },
  {
   "cell_type": "markdown",
   "metadata": {},
   "source": [
    "[//]: # (## Python Packaging and Advanced Examples)\n",
    "[//]: # (### What is ``__init__.py`` and ``sys.path`` and ``$PYTHONPATH``?)\n",
    "[//]: # (### How to write a user-configurable script?)\n",
    "[//]: # (### All the shebangs and whistles)\n",
    "[//]: # (### Lumberjack Training)\n",
    "[//]: # (### C/C++ Interfacing)\n",
    "[//]: # (See [hello_world_cython](hello_world_cython/README.rst).)\n",
    "[//]: # (### Comments, Docstrings, and Documentation - Oh My!)\n",
    "[//]: # (### Debugging Code))\n",
    "\n",
    "# [Go back to Overview](0_Overview.ipynb)"
   ]
  }
 ],
 "metadata": {
  "kernelspec": {
   "display_name": "Python 2",
   "language": "python",
   "name": "python2"
  },
  "language_info": {
   "codemirror_mode": {
    "name": "ipython",
    "version": 2
   },
   "file_extension": ".py",
   "mimetype": "text/x-python",
   "name": "python",
   "nbconvert_exporter": "python",
   "pygments_lexer": "ipython2",
   "version": "2.7.12"
  }
 },
 "nbformat": 4,
 "nbformat_minor": 2
}
