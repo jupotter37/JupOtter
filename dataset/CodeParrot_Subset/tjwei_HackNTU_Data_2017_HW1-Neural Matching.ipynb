{
 "cells": [
  {
   "cell_type": "markdown",
   "metadata": {},
   "source": [
    "實作 https://github.com/tjwei/Neural-Matching/blob/master/matching-theano-VGG-one-patch.ipynb\n",
    "\n",
    "可參考： \n",
    "* https://arxiv.org/abs/1601.04589\n",
    "* https://github.com/awentzonline/image-analogies"
   ]
  }
 ],
 "metadata": {
  "kernelspec": {
   "display_name": "Python 3",
   "language": "python",
   "name": "python3"
  },
  "language_info": {
   "codemirror_mode": {
    "name": "ipython",
    "version": 3
   },
   "file_extension": ".py",
   "mimetype": "text/x-python",
   "name": "python",
   "nbconvert_exporter": "python",
   "pygments_lexer": "ipython3",
   "version": "3.5.3"
  }
 },
 "nbformat": 4,
 "nbformat_minor": 1
}
