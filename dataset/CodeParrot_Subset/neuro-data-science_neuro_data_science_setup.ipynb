{
 "cells": [
  {
   "cell_type": "markdown",
   "metadata": {},
   "source": [
    "This notebook is used to set up important files for running the notebooks. It will create a \"data\" folder in the root of the repository, and download approximately 60MB of data."
   ]
  },
  {
   "cell_type": "code",
   "execution_count": 1,
   "metadata": {
    "collapsed": false
   },
   "outputs": [],
   "source": [
    "import sys\n",
    "sys.path.append('./src/')\n",
    "import opencourse as oc"
   ]
  },
  {
   "cell_type": "code",
   "execution_count": 2,
   "metadata": {
    "collapsed": false
   },
   "outputs": [
    {
     "name": "stdout",
     "output_type": "stream",
     "text": [
      "Saved to: /Users/choldgraf/Dropbox/github/publicRepos/neuro_datasci_open_course/data/matrices_connectivity.mat\n",
      "Saved to: /Users/choldgraf/Dropbox/github/publicRepos/neuro_datasci_open_course/data/StevensonV2.mat\n",
      "Saved to: /Users/choldgraf/Dropbox/github/publicRepos/neuro_datasci_open_course/data/StevensonV4.mat\n"
     ]
    }
   ],
   "source": [
    "# Download all data\n",
    "oc.download_all_files()"
   ]
  },
  {
   "cell_type": "markdown",
   "metadata": {
    "collapsed": true
   },
   "source": [
    "# Ensure that you have the right dependencies\n",
    "All of the below packages should import:"
   ]
  },
  {
   "cell_type": "code",
   "execution_count": 5,
   "metadata": {
    "collapsed": false
   },
   "outputs": [],
   "source": [
    "import mne  # <-- Package for electrophysiology analysis\n",
    "import pandas  # <-- Package for representing data as a DataFrame\n",
    "import bct  # <-- Brain Connectivity Toolbox"
   ]
  },
  {
   "cell_type": "code",
   "execution_count": null,
   "metadata": {
    "collapsed": true
   },
   "outputs": [],
   "source": []
  }
 ],
 "metadata": {
  "hide_input": false,
  "kernelspec": {
   "display_name": "Python 2",
   "language": "python",
   "name": "python2"
  },
  "language_info": {
   "codemirror_mode": {
    "name": "ipython",
    "version": 2
   },
   "file_extension": ".py",
   "mimetype": "text/x-python",
   "name": "python",
   "nbconvert_exporter": "python",
   "pygments_lexer": "ipython2",
   "version": "2.7.11"
  }
 },
 "nbformat": 4,
 "nbformat_minor": 1
}
