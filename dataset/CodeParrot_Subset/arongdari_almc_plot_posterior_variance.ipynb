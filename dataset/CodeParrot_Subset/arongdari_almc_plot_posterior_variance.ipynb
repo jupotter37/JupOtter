{
 "cells": [
  {
   "cell_type": "code",
   "execution_count": 1,
   "metadata": {
    "collapsed": true
   },
   "outputs": [],
   "source": [
    "import re\n",
    "import os\n",
    "import numpy as np\n",
    "import matplotlib\n",
    "import matplotlib.pyplot as plt\n",
    "from collections import defaultdict\n",
    "%matplotlib inline"
   ]
  },
  {
   "cell_type": "code",
   "execution_count": 2,
   "metadata": {
    "collapsed": true
   },
   "outputs": [],
   "source": [
    "color = [(31, 119, 180), (174, 199, 232), (255, 127, 14), (255, 187, 120),    \n",
    "             (44, 160, 44), (152, 223, 138), (214, 39, 40), (255, 152, 150),    \n",
    "             (148, 103, 189), (197, 176, 213), (140, 86, 75), (196, 156, 148),    \n",
    "             (227, 119, 194), (247, 182, 210), (127, 127, 127), (199, 199, 199),    \n",
    "             (188, 189, 34), (219, 219, 141), (23, 190, 207), (158, 218, 229)]    \n",
    "  \n",
    "# Scale the RGB values to the [0, 1] range, which is the format matplotlib accepts.    \n",
    "for i in range(len(color)):    \n",
    "    r, g, b = color[i]    \n",
    "    color[i] = (r / 255., g / 255., b / 255.)"
   ]
  },
  {
   "cell_type": "code",
   "execution_count": 3,
   "metadata": {
    "collapsed": false
   },
   "outputs": [],
   "source": [
    "models = ['brescal', 'bcomp_mul', 'bcomp_add', 'bcomp_mul_10', \n",
    "          'bcomp_add_10', 'bcomp_mul_comp_10', 'bcomp_add_comp_10',\n",
    "          'bcomp_mul_var_1_comp_10','bcomp_add_var_1_comp_10']\n",
    "\n",
    "models = ['brescal', 'bcomp_mul', 'bcomp_add']\n",
    "\n",
    "model_colors = {'brescal':color[0], 'amdc_pop':color[8], 'amdc_pred':color[7], \n",
    "                'bcomp_mul':color[2], 'bcomp_add':color[3], 'logit':color[5], \n",
    "                'rescal':'grey',\n",
    "                'brescal_passive':'grey', 'bcomp_mul_10': color[8], 'bcomp_add_10':color[9], \n",
    "                'bcomp_mul_comp_10':color[11], 'bcomp_add_comp_10':color[13], \n",
    "                'bcomp_mul_var_1_comp_10': color[15], 'bcomp_add_var_1_comp_10': color[17]}\n",
    "\n",
    "model_names = {'rescal':'rescal', 'brescal':'pnormal-ts', 'amdc_pop':'amdc_pop', 'amdc_pred':'amdc_pred', \n",
    "               'bcomp_mul':'pcomp-mul-ts', 'bcomp_add':'pcomp-add-ts', 'logit':'blogit', \n",
    "               'brescal_passive':'brescal_passive'}\n",
    "\n",
    "data_lim = {'kinship':2000, 'umls':2000, 'nation':1000}\n",
    "cumsum_lim = {'kinship':10000, 'umls':10000, 'nation':4000}"
   ]
  },
  {
   "cell_type": "code",
   "execution_count": 5,
   "metadata": {
    "collapsed": false
   },
   "outputs": [
    {
     "data": {
      "image/png": "[encoded data removed]",
      "text/plain": [
       "<matplotlib.figure.Figure at 0x1947ea3c8>"
      ]
     },
     "metadata": {},
     "output_type": "display_data"
    }
   ],
   "source": [
    "datasets = ['nation','kinship','umls']\n",
    "datasets = ['kinship']\n",
    "for dataset in datasets:\n",
    "#dataset = 'nation'\n",
    "\n",
    "    x_lim = data_lim[dataset]\n",
    "    second_start = x_lim/2\n",
    "\n",
    "    file_name = {'brescal':'brescal_var_%s.out' % (dataset), \n",
    "                 'bcomp_mul':'bcomp_mul_var_%s.out' % (dataset),\n",
    "                 'bcomp_add':'bcomp_add_var_%s.out' % (dataset),\n",
    "#                 'bcomp_mul':'bcomp_mul_var_10_comp_var_1000_%s.out' % (dataset),\n",
    "#                 'bcomp_add':'bcomp_add_var_10_comp_var_1000_%s.out' % (dataset),\n",
    "                 'bcomp_mul_10':'bcomp_mul_var_er_10_%s.out' % (dataset),\n",
    "                 'bcomp_add_10':'bcomp_add_var_er_10_%s.out' % (dataset),              \n",
    "                 'bcomp_mul_comp_10':'bcomp_mul_comp_var_10_%s.out' % (dataset),\n",
    "                 'bcomp_add_comp_10':'bcomp_add_comp_var_10_%s.out' % (dataset),\n",
    "                 'bcomp_mul_var_1_comp_10': 'bcomp_mul_var_1_comp_var_10_%s.out' % (dataset),\n",
    "                 'bcomp_add_var_1_comp_10': 'bcomp_add_var_1_comp_var_10_%s.out' % (dataset)\n",
    "                }\n",
    "\n",
    "    legend_size = 9\n",
    "\n",
    "#    fig = plt.figure(figsize=(18,5))\n",
    "    fig = plt.figure(figsize=(6,2.5))\n",
    "    for model in models:\n",
    "        filepath = '../result_posterior_variance/%s' % file_name[model]\n",
    "        if os.path.exists(filepath):\n",
    "            logs = open(filepath, 'r').readlines()\n",
    "            e_p  = re.compile(r'Mean variance E, ([0-9]+), ([0-9]+.[0-9]+|[0-9]+)')\n",
    "            r_p  = re.compile(r'Mean variance R, ([0-9]+), ([0-9]+.[0-9]+|[0-9]+)')\n",
    "            e_vars = defaultdict(list)\n",
    "            for line in logs:\n",
    "                m = e_p.search(line)\n",
    "                if m is not None:\n",
    "                    en = int(m.group(1))\n",
    "                    e_vars[en].append(float(m.group(2)))\n",
    "            mean_var = np.zeros(x_lim)\n",
    "            cnt = 0\n",
    "            for key in e_vars.keys():\n",
    "                mean_var += e_vars[key][::10][:x_lim]\n",
    "                cnt += 1.\n",
    "            mean_var /= cnt\n",
    "            c = model_colors[model]\n",
    "            model_name = model_names[model].upper()\n",
    "            plt.subplot(1, 2, 1)        \n",
    "            plt.plot(mean_var, label=model_name, color=c)\n",
    "            plt.subplot(1, 2, 2)\n",
    "#             plt.plot(mean_var[second_start:], label=model_name, color=c)\n",
    "            plt.plot(mean_var[200:700], label=model_name, color=c)            \n",
    "            plt.xticks(np.arange(0, 500, 250), np.arange(200, 700, 250))\n",
    "    plt.subplot(1, 2, 1)    \n",
    "    plt.legend(loc='upper right', numpoints=1, frameon=False, prop={'size':legend_size})\n",
    "#     plt.title(dataset.upper())\n",
    "    plt.savefig('../paper/cikm2016/images/posterior_variance_trace_%s.pdf' % dataset, format='PDF', bbox_inches='tight', pad_inches=0.1)\n",
    "\n",
    "#     plt.subplot(1, 3, 3)\n",
    "    \n",
    "#     x_lim = cumsum_lim[dataset]\n",
    "#     for model in models:\n",
    "#         filepath = '../result_posterior_variance/%s' % file_name[model]\n",
    "#         if os.path.exists(filepath):\n",
    "#             logs = open(filepath, 'r').readlines()\n",
    "#             p_p = re.compile(r'population: ([0-9]+)/([0-9]+)')\n",
    "\n",
    "#             population = list()\n",
    "#             for line in logs:\n",
    "#                 m = p_p.search(line)\n",
    "#                 if m is not None:\n",
    "#                     population.append(int(m.group(1)))\n",
    "\n",
    "#             c = model_colors[model]\n",
    "#             model_name = model_names[model].upper()\n",
    "#             plt.plot(population[:x_lim*2:2], label=model_name, color=c)\n",
    "#             print(model, len(population), population[-1])\n",
    "#     plt.legend(loc='upper left', numpoints=1, frameon=False, prop={'size':legend_size})\n",
    "#     #plt.savefig('../paper/cikm2016/images/.pdf', format='PDF', bbox_inches='tight', pad_inches=0.1)"
   ]
  },
  {
   "cell_type": "raw",
   "metadata": {},
   "source": []
  },
  {
   "cell_type": "markdown",
   "metadata": {},
   "source": [
    "# Beta-Bernoulli Model Posterior Variance Trace Plot"
   ]
  },
  {
   "cell_type": "code",
   "execution_count": 153,
   "metadata": {
    "collapsed": false
   },
   "outputs": [
    {
     "data": {
      "text/plain": [
       "[<matplotlib.lines.Line2D at 0x11c1f9240>]"
      ]
     },
     "execution_count": 153,
     "metadata": {},
     "output_type": "execute_result"
    },
    {
     "data": {
      "image/png": "[encoded data removed]",
      "text/plain": [
       "<matplotlib.figure.Figure at 0x129ca8e48>"
      ]
     },
     "metadata": {},
     "output_type": "display_data"
    }
   ],
   "source": [
    "theta = 0.9\n",
    "alpha = 0.1\n",
    "beta = 0.1\n",
    "\n",
    "max_trial = 200\n",
    "max_test = 100\n",
    "\n",
    "vars = np.zeros([max_test, max_trial])\n",
    "for n_test in range(max_test):\n",
    "    obs = list()\n",
    "    for i in range(max_trial):\n",
    "        x = np.random.binomial(1, theta, size=1)\n",
    "        obs.append(x)\n",
    "        new_alpha = i+1-np.sum(obs) + alpha\n",
    "        new_beta = np.sum(obs) + beta\n",
    "        var = new_alpha*new_beta/((new_alpha+new_beta)*(new_alpha+new_beta)*(new_alpha+new_beta+1))\n",
    "        vars[n_test,i] = var\n",
    "\n",
    "plt.plot(np.mean(vars, 0))"
   ]
  },
  {
   "cell_type": "code",
   "execution_count": null,
   "metadata": {
    "collapsed": true
   },
   "outputs": [],
   "source": []
  }
 ],
 "metadata": {
  "kernelspec": {
   "display_name": "Python 3",
   "language": "python",
   "name": "python3"
  },
  "language_info": {
   "codemirror_mode": {
    "name": "ipython",
    "version": 3
   },
   "file_extension": ".py",
   "mimetype": "text/x-python",
   "name": "python",
   "nbconvert_exporter": "python",
   "pygments_lexer": "ipython3",
   "version": "3.4.3"
  }
 },
 "nbformat": 4,
 "nbformat_minor": 0
}
