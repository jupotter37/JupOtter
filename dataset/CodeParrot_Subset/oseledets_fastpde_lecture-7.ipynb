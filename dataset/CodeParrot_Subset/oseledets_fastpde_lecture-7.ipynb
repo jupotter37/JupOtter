{
 "cells": [
  {
   "cell_type": "markdown",
   "metadata": {
    "slideshow": {
     "slide_type": "slide"
    }
   },
   "source": [
    "#Lecture 7: Fast sparse solvers"
   ]
  },
  {
   "cell_type": "markdown",
   "metadata": {
    "slideshow": {
     "slide_type": "slide"
    }
   },
   "source": [
    "##Sparse matrix \n",
    "\n",
    " **DEF:** Sparse matrix is a matrix that contains $\\mathcal{O}(n)$ nonzero elements.\n"
   ]
  },
  {
   "cell_type": "markdown",
   "metadata": {
    "slideshow": {
     "slide_type": "fragment"
    }
   },
   "source": [
    "###Sparse matrices are ubiquitous in PDEs\n",
    "\n",
    "Consider for example a 3D Poisson equation:\n",
    "\n",
    "\n",
    "\n",
    "$$\\Delta T = \\frac{\\partial^2T}{\\partial x^2}+\\frac{\\partial^2T}{\\partial y^2}+\\frac{\\partial^2T}{\\partial z^2}=f.$$\n"
   ]
  },
  {
   "cell_type": "markdown",
   "metadata": {
    "slideshow": {
     "slide_type": "subslide"
    }
   },
   "source": [
    "After discretization we obtain five diagonal matrix A:"
   ]
  },
  {
   "cell_type": "code",
   "execution_count": 25,
   "metadata": {
    "collapsed": true,
    "slideshow": {
     "slide_type": "skip"
    }
   },
   "outputs": [],
   "source": [
    "import matplotlib.pyplot as plt\n",
    "import numpy as np\n",
    "import scipy as sp\n",
    "import matplotlib.cm as cm\n",
    "%matplotlib inline\n",
    "N = 3\n",
    "B = np.diag(2*np.ones(N))  + np.diag((-1)*np.ones(N-1),k=-1)+ np.diag((-1)*np.ones(N-1),k = 1)\n",
    "Id = np.diag(np.ones(N));\n",
    "# Assembling a 3D operator:\n",
    "A = np.kron(Id,np.kron(Id,B)) + np.kron(Id,np.kron(B,Id)) +np.kron(B,np.kron(Id,Id))"
   ]
  },
  {
   "cell_type": "code",
   "execution_count": 10,
   "metadata": {
    "collapsed": false,
    "slideshow": {
     "slide_type": "fragment"
    }
   },
   "outputs": [
    {
     "data": {
      "text/plain": [
       "<matplotlib.lines.Line2D at 0x12ad428d0>"
      ]
     },
     "execution_count": 10,
     "metadata": {},
     "output_type": "execute_result"
    },
    {
     "data": {
      "image/png": "[encoded data removed]",
      "text/plain": [
       "<matplotlib.figure.Figure at 0x10c841150>"
      ]
     },
     "metadata": {},
     "output_type": "display_data"
    }
   ],
   "source": [
    "plt.spy(A,markersize=34/N**2)"
   ]
  },
  {
   "cell_type": "markdown",
   "metadata": {
    "slideshow": {
     "slide_type": "fragment"
    }
   },
   "source": [
    "this matrix has $\\mathcal{O}(1)$ elements in a row, therefore it is sparse."
   ]
  },
  {
   "cell_type": "markdown",
   "metadata": {
    "slideshow": {
     "slide_type": "fragment"
    }
   },
   "source": [
    "Finite elements method is also likely to give you a system with a sparse matrix."
   ]
  },
  {
   "cell_type": "markdown",
   "metadata": {
    "slideshow": {
     "slide_type": "slide"
    }
   },
   "source": [
    "##How to store a sparse matrix"
   ]
  },
  {
   "cell_type": "markdown",
   "metadata": {
    "slideshow": {
     "slide_type": "subslide"
    }
   },
   "source": [
    "### Coordinate format (coo)\n",
    "\n",
    "**(i, j, value)**\n",
    "\n",
    "i.e. store two integer arrays and one real array.\n",
    "**Easy** to add elements.\n",
    "But how to multiply a matrix by a vector?"
   ]
  },
  {
   "cell_type": "markdown",
   "metadata": {
    "slideshow": {
     "slide_type": "subslide"
    }
   },
   "source": [
    "###CSR format\n",
    "\n",
    "A matrix is stored as 3 different arrays:\n",
    "\n",
    "  **sa, ja, ia**\n",
    "\n",
    "where:\n",
    "\n",
    "* **nnz** is the total number of non-zeros for the matrix\n",
    "* **sa** is an real-value array of non-zeros for the matrix (length nnz)\n",
    "* **ja** is an integer array of  column number of the non-zeros (length nnz)\n",
    "* **ia** is an integer array of locations of the first non-zero element in each row (length n+1)\n"
   ]
  },
  {
   "cell_type": "markdown",
   "metadata": {
    "slideshow": {
     "slide_type": "skip"
    }
   },
   "source": [
    "(Blackboard figure)\n",
    "###Idea behind CSR\n",
    "* For each row i we store the column number of the non-zeros (and their) values\n",
    "* We stack this all together into ja and sa arrays\n",
    "* We save the location of the first non-zero element in each row"
   ]
  },
  {
   "cell_type": "markdown",
   "metadata": {
    "slideshow": {
     "slide_type": "subslide"
    }
   },
   "source": [
    "###CSR helps for matrix-by-vector product as well\n",
    "```\n",
    "   for i in xrange(n):\n",
    "       for k in xrange(ia(i):ia(i+1)-1):\n",
    "           y(i) += sa(k) * x(ja(k))\n",
    "```\n",
    "Let us do a short timing test"
   ]
  },
  {
   "cell_type": "code",
   "execution_count": 26,
   "metadata": {
    "collapsed": false,
    "slideshow": {
     "slide_type": "skip"
    }
   },
   "outputs": [],
   "source": [
    "import numpy as np\n",
    "import scipy as sp\n",
    "import scipy.sparse\n",
    "import scipy.sparse.linalg\n",
    "from scipy.sparse import csc_matrix, csr_matrix, coo_matrix, lil_matrix\n",
    " \n",
    "A = csr_matrix([10,10])\n",
    "B = lil_matrix([10,10])\n",
    "A[0,0] = 1\n",
    "#print A\n",
    "B[0,0] = 1\n",
    "#print B"
   ]
  },
  {
   "cell_type": "code",
   "execution_count": 44,
   "metadata": {
    "collapsed": false,
    "slideshow": {
     "slide_type": "subslide"
    }
   },
   "outputs": [
    {
     "name": "stdout",
     "output_type": "stream",
     "text": [
      "100 loops, best of 3: 10.5 ms per loop\n",
      "100 loops, best of 3: 14 ms per loop\n"
     ]
    }
   ],
   "source": [
    "import numpy as np\n",
    "import scipy as sp\n",
    "import scipy.sparse\n",
    "import scipy.sparse.linalg\n",
    "from scipy.sparse import csc_matrix, csr_matrix, coo_matrix\n",
    "import matplotlib.pyplot as plt\n",
    "import time\n",
    "%matplotlib inline\n",
    "n = 1000\n",
    "ex = np.ones(n);\n",
    "lp1 = sp.sparse.spdiags(np.vstack((ex,  -2*ex, ex)), [-1, 0, 1], n, n, 'csr'); \n",
    "e = sp.sparse.eye(n)\n",
    "A = sp.sparse.kron(lp1, e) + sp.sparse.kron(e, lp1)\n",
    "A = csr_matrix(A)\n",
    "rhs = np.ones(n * n)\n",
    "B = coo_matrix(A)\n",
    "#t0 = time.time()\n",
    "%timeit A.dot(rhs)\n",
    "#print time.time() - t0\n",
    "#t0 = time.time()\n",
    "%timeit B.dot(rhs)\n",
    "#print time.time() - t0"
   ]
  },
  {
   "cell_type": "markdown",
   "metadata": {
    "slideshow": {
     "slide_type": "fragment"
    }
   },
   "source": [
    "As you see, CSR is faster, and for more unstructured patterns the gain will be larger. \n",
    "\n",
    "CSR format has difficulties with adding new elements."
   ]
  },
  {
   "cell_type": "markdown",
   "metadata": {
    "collapsed": true,
    "slideshow": {
     "slide_type": "slide"
    }
   },
   "source": [
    "##How to solve linear systems?\n",
    "\n",
    "\n",
    "\n",
    "###Direct or iterative solvers\n",
    "\n"
   ]
  },
  {
   "cell_type": "markdown",
   "metadata": {
    "slideshow": {
     "slide_type": "subslide"
    }
   },
   "source": [
    "###Direct solvers\n",
    "\n",
    "The direct methods use **sparse Gaussian elimination**, i.e.\n",
    "they eliminate variables while trying to keep the matrix as sparse as possible. \n",
    "\n",
    "And often, the inverse of a sparse matrix is not \n",
    "sparse:\n",
    "(it corresponds to some integral operator, so it has block low-rank structure. Details will be later in this course)"
   ]
  },
  {
   "cell_type": "code",
   "execution_count": 63,
   "metadata": {
    "collapsed": false,
    "slideshow": {
     "slide_type": "fragment"
    }
   },
   "outputs": [
    {
     "data": {
      "text/plain": [
       "<matplotlib.lines.Line2D at 0x10fd4eed0>"
      ]
     },
     "execution_count": 63,
     "metadata": {},
     "output_type": "execute_result"
    },
    {
     "data": {
      "image/png": "[encoded data removed]",
      "text/plain": [
       "<matplotlib.figure.Figure at 0x10eca1450>"
      ]
     },
     "metadata": {},
     "output_type": "display_data"
    }
   ],
   "source": [
    "N = n = 100\n",
    "ex = np.ones(n);\n",
    "a = sp.sparse.spdiags(np.vstack((ex,  -2*ex, ex)), [-1, 0, 1], n, n, 'csr'); \n",
    "a = a.todense()\n",
    "b = np.array(np.linalg.inv(a))\n",
    "fig,axes = plt.subplots(1, 2)\n",
    "axes[0].spy(a)\n",
    "axes[1].spy(b,markersize=2)"
   ]
  },
  {
   "cell_type": "markdown",
   "metadata": {
    "slideshow": {
     "slide_type": "fragment"
    }
   },
   "source": [
    "Looks woefully."
   ]
  },
  {
   "cell_type": "code",
   "execution_count": 65,
   "metadata": {
    "collapsed": false,
    "slideshow": {
     "slide_type": "subslide"
    }
   },
   "outputs": [
    {
     "name": "stdout",
     "output_type": "stream",
     "text": [
      "[[-0.83333333 -0.66666667 -0.5        -0.33333333 -0.16666667]\n",
      " [-0.66666667 -1.33333333 -1.         -0.66666667 -0.33333333]\n",
      " [-0.5        -1.         -1.5        -1.         -0.5       ]\n",
      " [-0.33333333 -0.66666667 -1.         -1.33333333 -0.66666667]\n",
      " [-0.16666667 -0.33333333 -0.5        -0.66666667 -0.83333333]]\n"
     ]
    }
   ],
   "source": [
    "N = n = 5\n",
    "ex = np.ones(n);\n",
    "A = sp.sparse.spdiags(np.vstack((ex,  -2*ex, ex)), [-1, 0, 1], n, n, 'csr'); \n",
    "A = A.todense()\n",
    "B = np.array(np.linalg.inv(A))\n",
    "\n",
    "print B"
   ]
  },
  {
   "cell_type": "markdown",
   "metadata": {
    "slideshow": {
     "slide_type": "subslide"
    }
   },
   "source": [
    "But occasionally L and U factors can be sparse."
   ]
  },
  {
   "cell_type": "code",
   "execution_count": 57,
   "metadata": {
    "collapsed": false,
    "slideshow": {
     "slide_type": "fragment"
    }
   },
   "outputs": [
    {
     "data": {
      "text/plain": [
       "<matplotlib.image.AxesImage at 0x10d719350>"
      ]
     },
     "execution_count": 57,
     "metadata": {},
     "output_type": "execute_result"
    },
    {
     "data": {
      "image/png": "[encoded data removed]",
      "text/plain": [
       "<matplotlib.figure.Figure at 0x12b5d01d0>"
      ]
     },
     "metadata": {},
     "output_type": "display_data"
    }
   ],
   "source": [
    "p, l, u = scipy.linalg.lu(a)\n",
    "fig,axes = plt.subplots(1, 2)\n",
    "axes[0].spy(l)\n",
    "axes[1].spy(u)"
   ]
  },
  {
   "cell_type": "markdown",
   "metadata": {
    "slideshow": {
     "slide_type": "fragment"
    }
   },
   "source": [
    "In 1D factors **L**  and **U** are bidiagonal."
   ]
  },
  {
   "cell_type": "markdown",
   "metadata": {
    "slideshow": {
     "slide_type": "subslide"
    }
   },
   "source": [
    "In 2D factors **L**  and **U** looks less optimistic, but still ok.) "
   ]
  },
  {
   "cell_type": "code",
   "execution_count": 71,
   "metadata": {
    "collapsed": false,
    "slideshow": {
     "slide_type": "fragment"
    }
   },
   "outputs": [
    {
     "data": {
      "text/plain": [
       "<matplotlib.lines.Line2D at 0x110e0a110>"
      ]
     },
     "execution_count": 71,
     "metadata": {},
     "output_type": "execute_result"
    },
    {
     "data": {
      "image/png": "[encoded data removed]",
      "text/plain": [
       "<matplotlib.figure.Figure at 0x110954750>"
      ]
     },
     "metadata": {},
     "output_type": "display_data"
    }
   ],
   "source": [
    "n = 3\n",
    "\n",
    "ex = np.ones(n);\n",
    "lp1 = sp.sparse.spdiags(np.vstack((ex,  -2*ex, ex)), [-1, 0, 1], n, n, 'csr'); \n",
    "e = sp.sparse.eye(n)\n",
    "A = sp.sparse.kron(lp1, e) + sp.sparse.kron(e, lp1)\n",
    "A = csc_matrix(A)\n",
    "T = scipy.sparse.linalg.splu(A)\n",
    "fig,axes = plt.subplots(1, 2)\n",
    "axes[0].spy(a,  markersize=1)\n",
    "axes[1].spy(T.L, marker='.', markersize=0.4)"
   ]
  },
  {
   "cell_type": "markdown",
   "metadata": {
    "slideshow": {
     "slide_type": "slide"
    }
   },
   "source": [
    "## Sparse matrices and graph ordering\n",
    "The number of non-zeros in the LU decomposition has a deep connection to the graph theory.  \n",
    "(I.e., there is an edge between $(i, j)$ if $a_{ij} \\ne 0$."
   ]
  },
  {
   "cell_type": "code",
   "execution_count": 36,
   "metadata": {
    "collapsed": false,
    "slideshow": {
     "slide_type": "subslide"
    }
   },
   "outputs": [
    {
     "data": {
      "image/png": "[encoded data removed]",
      "text/plain": [
       "<matplotlib.figure.Figure at 0x12b29c3d0>"
      ]
     },
     "metadata": {},
     "output_type": "display_data"
    }
   ],
   "source": [
    "import networkx as nx\n",
    "n = 13\n",
    "ex = np.ones(n);\n",
    "lp1 = sp.sparse.spdiags(np.vstack((ex,  -2*ex, ex)), [-1, 0, 1], n, n, 'csr'); \n",
    "e = sp.sparse.eye(n)\n",
    "A = sp.sparse.kron(lp1, e) + sp.sparse.kron(e, lp1)\n",
    "A = csc_matrix(A)\n",
    "G = nx.Graph(A)\n",
    "nx.draw(G, pos=nx.spring_layout(G), node_size=10)"
   ]
  },
  {
   "cell_type": "markdown",
   "metadata": {
    "slideshow": {
     "slide_type": "subslide"
    }
   },
   "source": [
    "## Strategies for elimination\n",
    "The reordering that minimizes the fill-in is important, so we can use **graph theory** to find one.\n",
    "\n",
    "- **Minimum degree ordering** - order by the degree of the vertex\n",
    "- **Cuthill–McKee algorithm** (and reverse Cuthill-McKee) -- order for a small bandwidth\n",
    "- **Nested dissection**: split the graph into two with minimal number of vertices on the separator"
   ]
  },
  {
   "cell_type": "code",
   "execution_count": 38,
   "metadata": {
    "collapsed": false,
    "slideshow": {
     "slide_type": "subslide"
    }
   },
   "outputs": [
    {
     "data": {
      "text/plain": [
       "<matplotlib.lines.Line2D at 0x10fa37f10>"
      ]
     },
     "execution_count": 38,
     "metadata": {},
     "output_type": "execute_result"
    },
    {
     "data": {
      "image/png": "[encoded data removed]",
      "text/plain": [
       "<matplotlib.figure.Figure at 0x10f55d8d0>"
      ]
     },
     "metadata": {},
     "output_type": "display_data"
    }
   ],
   "source": [
    "import networkx as nx\n",
    "from networkx.utils import reverse_cuthill_mckee_ordering, cuthill_mckee_ordering\n",
    "n = 13\n",
    "ex = np.ones(n);\n",
    "lp1 = sp.sparse.spdiags(np.vstack((ex,  -2*ex, ex)), [-1, 0, 1], n, n, 'csr'); \n",
    "e = sp.sparse.eye(n)\n",
    "A = sp.sparse.kron(lp1, e) + sp.sparse.kron(e, lp1)\n",
    "A = csc_matrix(A)\n",
    "G = nx.Graph(A)\n",
    "#rcm = list(reverse_cuthill_mckee_ordering(G))\n",
    "rcm = list(reverse_cuthill_mckee_ordering(G))\n",
    "A1 = A[rcm, :][:, rcm]\n",
    "plt.spy(A1, marker='.', markersize=3)\n",
    "#p, L, U = scipy.linalg.lu(A1.todense())\n",
    "#plt.spy(L, marker='.', markersize=0.8)\n",
    "#nx.draw(G, pos=nx.spring_layout(G), node_size=10)"
   ]
  },
  {
   "cell_type": "markdown",
   "metadata": {
    "slideshow": {
     "slide_type": "slide"
    }
   },
   "source": [
    "## Florida sparse matrix collection\n",
    "[Florida sparse matrix collection](http://www.cise.ufl.edu/research/sparse/matrices/) which contains all sorts of matrices for different applications.  It also allows for finding test matrices as well! Let's have a look."
   ]
  },
  {
   "cell_type": "code",
   "execution_count": 1,
   "metadata": {
    "collapsed": false,
    "slideshow": {
     "slide_type": "subslide"
    }
   },
   "outputs": [
    {
     "data": {
      "text/html": [
       "<iframe src=http://yifanhu.net/GALLERY/GRAPHS/search.html width=700 height=450></iframe>"
      ],
      "text/plain": [
       "<IPython.core.display.HTML object>"
      ]
     },
     "execution_count": 1,
     "metadata": {},
     "output_type": "execute_result"
    }
   ],
   "source": [
    "from IPython.display import HTML\n",
    "HTML('<iframe src=http://yifanhu.net/GALLERY/GRAPHS/search.html width=700 height=450></iframe>')"
   ]
  },
  {
   "cell_type": "markdown",
   "metadata": {
    "slideshow": {
     "slide_type": "subslide"
    }
   },
   "source": [
    "## Test some\n",
    "Let us check some sparse matrix (and its LU)."
   ]
  },
  {
   "cell_type": "code",
   "execution_count": 40,
   "metadata": {
    "collapsed": false,
    "slideshow": {
     "slide_type": "fragment"
    }
   },
   "outputs": [
    {
     "name": "stdout",
     "output_type": "stream",
     "text": [
      "--2015-04-13 17:45:26--  http://www.cise.ufl.edu/research/sparse/mat/Boeing/crystm02.mat\n",
      "Resolving www.cise.ufl.edu... 128.227.248.40\n",
      "Connecting to www.cise.ufl.edu|128.227.248.40|:80... connected.\n",
      "HTTP request sent, awaiting response... 200 OK\n",
      "Length: 797624 (779K) [text/plain]\n",
      "Saving to: 'crystm02.mat.3'\n",
      "\n",
      "crystm02.mat.3      100%[=====================>] 778.93K   464KB/s   in 1.7s   \n",
      "\n",
      "2015-04-13 17:45:29 (464 KB/s) - 'crystm02.mat.3' saved [797624/797624]\n",
      "\n"
     ]
    }
   ],
   "source": [
    "fname = 'crystm02.mat'\n",
    "!wget http://www.cise.ufl.edu/research/sparse/mat/Boeing/$fname"
   ]
  },
  {
   "cell_type": "code",
   "execution_count": 41,
   "metadata": {
    "collapsed": false,
    "slideshow": {
     "slide_type": "subslide"
    }
   },
   "outputs": [],
   "source": [
    "from scipy.io import loadmat\n",
    "import scipy.sparse\n",
    "q = loadmat(fname)\n",
    "#print q\n",
    "mat = q['Problem']['A'][0, 0]\n",
    "T = scipy.sparse.linalg.splu(mat)"
   ]
  },
  {
   "cell_type": "code",
   "execution_count": 42,
   "metadata": {
    "collapsed": false,
    "slideshow": {
     "slide_type": "fragment"
    }
   },
   "outputs": [
    {
     "data": {
      "text/plain": [
       "<matplotlib.lines.Line2D at 0x10efc0c90>"
      ]
     },
     "execution_count": 42,
     "metadata": {},
     "output_type": "execute_result"
    },
    {
     "data": {
      "image/png": "[encoded data removed]",
      "text/plain": [
       "<matplotlib.figure.Figure at 0x10d1a8690>"
      ]
     },
     "metadata": {},
     "output_type": "display_data"
    }
   ],
   "source": [
    "#Compute its LU\n",
    "%matplotlib inline\n",
    "import matplotlib.pyplot as plt\n",
    "plt.spy(T.L, markersize=0.1)"
   ]
  },
  {
   "cell_type": "markdown",
   "metadata": {
    "slideshow": {
     "slide_type": "slide"
    }
   },
   "source": [
    "##Iterative solvers\n",
    "\n",
    "The main disadvantage of factorization methods is there computational complexity.\n",
    "\n",
    "A more efficient solution of linear systems can be obtained by iterative methods.\n",
    "\n"
   ]
  },
  {
   "cell_type": "markdown",
   "metadata": {
    "slideshow": {
     "slide_type": "fragment"
    }
   },
   "source": [
    "This requires **a high convergence rate** of the iterative process and **low arithmetic cost of each iteration**."
   ]
  },
  {
   "cell_type": "markdown",
   "metadata": {
    "slideshow": {
     "slide_type": "fragment"
    }
   },
   "source": [
    "Modern iterative methods are mainly based on the idea of iteration on Krylov subspace.\n",
    "\n",
    "$$ \\mathcal{K}_i = span\\{b,~Ab,~A^2b,~ ..,~ A^{i-1}b\\}, ~~ i = 1,2,..$$\n",
    "$$ x_i = argmin\\{  \\|b-Ax\\|_{\\text{some norm}}:x\\in \\mathcal{K}_i\\} $$"
   ]
  },
  {
   "cell_type": "markdown",
   "metadata": {
    "slideshow": {
     "slide_type": "fragment"
    }
   },
   "source": [
    "In fact, to apply iterative solver to a system with matrix **$~A$** all you need to know is\n",
    "\n",
    "* how to multiply matrix by vector\n",
    "\n",
    "* how to apply preconditioner"
   ]
  },
  {
   "cell_type": "markdown",
   "metadata": {
    "collapsed": true,
    "slideshow": {
     "slide_type": "subslide"
    }
   },
   "source": [
    "###Preconditioners\n",
    "\n",
    "If A is **ill conditioned** then iterative methods give you **a lot of iterations**."
   ]
  },
  {
   "cell_type": "markdown",
   "metadata": {
    "slideshow": {
     "slide_type": "fragment"
    }
   },
   "source": [
    "You can reduce number of iterations if you find matrix **$~B$** (called **preconditioner**), such that   **$~AB$** or **$~BA$** matrices has less conditional number.\n",
    "\n",
    "$$Ax=y \\Rightarrow BAx= By$$\n",
    "\n",
    "$$ABz= y, x= Bz.$$\n",
    "\n",
    "\n"
   ]
  },
  {
   "cell_type": "markdown",
   "metadata": {
    "slideshow": {
     "slide_type": "fragment"
    }
   },
   "source": [
    "To be a good preconditioner matrix **$~B$** must  be  somehow close to inverse  matrix of **$~A$**\n",
    "\n",
    "$$B \\approx A^{-1}.$$\n",
    "\n",
    "Note that $B = A^{-1}$ is a perfect preconditioner and gives you **1** iteration to converge.\n",
    "\n",
    "**But** building this preconditioner requires as much operations as the direct solution requires."
   ]
  },
  {
   "cell_type": "markdown",
   "metadata": {
    "slideshow": {
     "slide_type": "fragment"
    }
   },
   "source": [
    "Building a preconditioner requires some compromise between time for building it and iterations time."
   ]
  },
  {
   "cell_type": "markdown",
   "metadata": {
    "slideshow": {
     "slide_type": "subslide"
    }
   },
   "source": [
    "##Two basic strategies for building preconditioner:\n",
    "\n",
    "\n",
    "* Use information about elements of matrix $A$\n",
    " \n",
    "\n",
    "* Use additional information about problem."
   ]
  },
  {
   "cell_type": "markdown",
   "metadata": {
    "slideshow": {
     "slide_type": "subslide"
    }
   },
   "source": [
    "###The first strategy, where we use information about elements of matrix $A$\n",
    "\n",
    "For sparse matrices we use only non-zero elements.\n",
    "\n",
    "\n"
   ]
  },
  {
   "cell_type": "markdown",
   "metadata": {
    "slideshow": {
     "slide_type": "fragment"
    }
   },
   "source": [
    "Good example is a method of **Incomplete matrix factorization**\n",
    "\n",
    "The main idea here is to avoid full factorization by dropping some elements in the factorization.\n",
    "Drop rules specify type of incomplete factorization and type of **preconditioner**.\n",
    "\n",
    "Standard ILU preconditioners:\n",
    "\n",
    "* [ILU($0$)](http://en.wikipedia.org/wiki/Incomplete_LU_factorization)\n",
    "* [ILU(k)](http://en.wikipedia.org/wiki/Incomplete_LU_factorization)\n",
    "* [ILUt](http://www-users.cs.umn.edu/~saad/PDF/umsi-92-38.pdf)\n",
    "* [ILU2](https://scholar.google.ru/citations?view_op=view_citation&hl=ru&user=2HaTUbkAAAAJ&citation_for_view=2HaTUbkAAAAJ:u5HHmVD_uO8C)"
   ]
  },
  {
   "cell_type": "markdown",
   "metadata": {
    "slideshow": {
     "slide_type": "subslide"
    }
   },
   "source": [
    "###The second strategy, where we use additional information about a problem\n",
    "\n",
    "Here we use additional information about where the matrix came from.\n",
    "\n",
    "For example, **Multigrid** and **Domain Decomposition** methods (see next lecture for multigrid)"
   ]
  },
  {
   "cell_type": "code",
   "execution_count": 2,
   "metadata": {
    "collapsed": false,
    "slideshow": {
     "slide_type": "slide"
    }
   },
   "outputs": [
    {
     "data": {
      "text/html": [
       "<link href='http://fonts.googleapis.com/css?family=Fenix' rel='stylesheet' type='text/css'>\n",
       "<link href='http://fonts.googleapis.com/css?family=Alegreya+Sans:100,300,400,500,700,800,900,100italic,300italic,400italic,500italic,700italic,800italic,900italic' rel='stylesheet' type='text/css'>\n",
       "<link href='http://fonts.googleapis.com/css?family=Source+Code+Pro:300,400' rel='stylesheet' type='text/css'>\n",
       "<style>\n",
       "    @font-face {\n",
       "        font-family: \"Computer Modern\";\n",
       "        src: url('http://mirrors.ctan.org/fonts/cm-unicode/fonts/otf/cmunss.otf');\n",
       "    }\n",
       "    div.cell{\n",
       "        /*width:80%;*/\n",
       "        /*margin-left:auto !important;\n",
       "        margin-right:auto;*/\n",
       "    }\n",
       "    h1 {\n",
       "        font-family: 'Alegreya Sans', sans-serif;\n",
       "    }\n",
       "    h2 {\n",
       "        font-family: 'Fenix', serif;\n",
       "    }\n",
       "    h3{\n",
       "\t\tfont-family: 'Fenix', serif;\n",
       "        margin-top:12px;\n",
       "        margin-bottom: 3px;\n",
       "       }\n",
       "\th4{\n",
       "\t\tfont-family: 'Fenix', serif;\n",
       "       }\n",
       "    h5 {\n",
       "        font-family: 'Alegreya Sans', sans-serif;\n",
       "    }\t   \n",
       "    div.text_cell_render{\n",
       "        font-family: 'Alegreya Sans',Computer Modern, \"Helvetica Neue\", Arial, Helvetica, Geneva, sans-serif;\n",
       "        line-height: 1.2;\n",
       "        font-size: 160%;\n",
       "        /*width:70%;*/\n",
       "        /*margin-left:auto;*/\n",
       "        margin-right:auto;\n",
       "    }\n",
       "    .CodeMirror{\n",
       "            font-family: \"Source Code Pro\";\n",
       "\t\t\tfont-size: 90%;\n",
       "    }\n",
       "/*    .prompt{\n",
       "        display: None;\n",
       "    }*/\n",
       "    .text_cell_render h1 {\n",
       "        font-weight: 200;\n",
       "        font-size: 50pt;\n",
       "\t\tline-height: 110%;\n",
       "        color:#CD2305;\n",
       "        margin-bottom: 0.5em;\n",
       "        margin-top: 0.5em;\n",
       "        display: block;\n",
       "    }\t\n",
       "    .text_cell_render h5 {\n",
       "        font-weight: 300;\n",
       "        font-size: 16pt;\n",
       "        color: #CD2305;\n",
       "        font-style: italic;\n",
       "        margin-bottom: .5em;\n",
       "        margin-top: 0.5em;\n",
       "        display: block;\n",
       "    }\n",
       "    \n",
       "    li {\n",
       "        line-height: 110%;\n",
       "    }\n",
       "    .warning{\n",
       "        color: rgb( 240, 20, 20 )\n",
       "        }  \n",
       "</style>\n",
       "<script>\n",
       "    MathJax.Hub.Config({\n",
       "                        TeX: {\n",
       "                           extensions: [\"AMSmath.js\"]\n",
       "                           },\n",
       "                tex2jax: {\n",
       "                    inlineMath: [ ['$','$'], [\"\\\\(\",\"\\\\)\"] ],\n",
       "                    displayMath: [ ['$$','$$'], [\"\\\\[\",\"\\\\]\"] ]\n",
       "                },\n",
       "                displayAlign: 'center', // Change this to 'center' to center equations.\n",
       "                \"HTML-CSS\": {\n",
       "                    styles: {'.MathJax_Display': {\"margin\": 4}}\n",
       "                }\n",
       "        });\n",
       "</script>\n"
      ],
      "text/plain": [
       "<IPython.core.display.HTML object>"
      ]
     },
     "execution_count": 2,
     "metadata": {},
     "output_type": "execute_result"
    }
   ],
   "source": [
    "from IPython.core.display import HTML\n",
    "def css_styling():\n",
    "    styles = open(\"./styles/custom.css\", \"r\").read()\n",
    "    return HTML(styles)\n",
    "css_styling()\n"
   ]
  },
  {
   "cell_type": "code",
   "execution_count": null,
   "metadata": {
    "collapsed": true
   },
   "outputs": [],
   "source": []
  }
 ],
 "metadata": {
  "celltoolbar": "Slideshow",
  "kernelspec": {
   "display_name": "Python 2",
   "language": "python",
   "name": "python2"
  },
  "language_info": {
   "codemirror_mode": {
    "name": "ipython",
    "version": 2
   },
   "file_extension": ".py",
   "mimetype": "text/x-python",
   "name": "python",
   "nbconvert_exporter": "python",
   "pygments_lexer": "ipython2",
   "version": "2.7.9"
  }
 },
 "nbformat": 4,
 "nbformat_minor": 0
}
