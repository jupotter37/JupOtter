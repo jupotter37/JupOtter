{
 "cells": [
  {
   "cell_type": "markdown",
   "metadata": {},
   "source": [
    "# TasLUG July 2016\n",
    "\n",
    "## ESP8266 Hackfest"
   ]
  },
  {
   "cell_type": "markdown",
   "metadata": {},
   "source": [
    "## Agenda\n",
    "\n",
    "- 6pm Arrive and Setup - order Pizza?\n",
    "- 6.30pm - Introduction to ESP8266\n",
    "- 7pm - Hack Hack Hack\n"
   ]
  },
  {
   "cell_type": "markdown",
   "metadata": {},
   "source": [
    "## Coming Up\n",
    "\n",
    "- NOW until August 5th - LCA2017 CFP is Open!\n",
    "- July 29-31 - GovHACK\n",
    "- August 12-16 - PyCon-AU - Melbourne\n",
    "- August 18 - Hobart Meeting - Andrew Elwell"
   ]
  },
  {
   "cell_type": "markdown",
   "metadata": {},
   "source": [
    "# https://git.scriptforge.org/TasLUG/esp8266-hackfest-july-2016\n",
    "# https://pad.taslug.org.au/p/esp8266"
   ]
  },
  {
   "cell_type": "code",
   "execution_count": null,
   "metadata": {
    "collapsed": true
   },
   "outputs": [],
   "source": []
  }
 ],
 "metadata": {
  "kernelspec": {
   "display_name": "Python 2",
   "language": "python",
   "name": "python2"
  },
  "language_info": {
   "codemirror_mode": {
    "name": "ipython",
    "version": 2
   },
   "file_extension": ".py",
   "mimetype": "text/x-python",
   "name": "python",
   "nbconvert_exporter": "python",
   "pygments_lexer": "ipython2",
   "version": "2.7.10"
  }
 },
 "nbformat": 4,
 "nbformat_minor": 0
}
