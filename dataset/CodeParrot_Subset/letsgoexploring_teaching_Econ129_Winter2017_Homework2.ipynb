{
 "cells": [
  {
   "cell_type": "code",
   "execution_count": null,
   "metadata": {
    "collapsed": true
   },
   "outputs": [],
   "source": [
    "import matplotlib.pyplot as plt\n",
    "import numpy as np\n",
    "import pandas as pd\n",
    "%matplotlib inline"
   ]
  },
  {
   "cell_type": "markdown",
   "metadata": {},
   "source": [
    "# Homework 2 (DUE: Thursday February 16)\n",
    "\n",
    "*Instructions:* Complete the instructions in this notebook. You may work together with other students in the class and you may take full advantage of any internet resources available. You must provide thorough comments in your code so that it's clear that you understand what your code is doing and so that your code is readable.\n",
    "\n",
    "Submit the assignment by saving your notebook as an html file (File -> Download as -> HTML) and uploading it to the appropriate Dropbox folder on EEE."
   ]
  },
  {
   "cell_type": "markdown",
   "metadata": {
    "collapsed": true
   },
   "source": [
    "## Question 1\n",
    "\n",
    "For each of the following first-difference processes, compute the values of $y$ from $t=0$ through $t = 20$. For each, assume that $y_0 = 0$, $w_1 = 1$, and $w_2 = w_3 = \\cdots w_T = 0$. \n",
    "\n",
    "* $y_t = 0.99y_{t-1} + w_t$\n",
    "* $y_t = y_{t-1} + w_t$\n",
    "* $y_t = 1.01y_{t-1} + w_t$\n",
    "\n",
    "Plot the the simulated values for each process on the same axes and be sure to include a legend."
   ]
  },
  {
   "cell_type": "code",
   "execution_count": null,
   "metadata": {
    "collapsed": false
   },
   "outputs": [],
   "source": [
    "# Question 1\n",
    "\n"
   ]
  },
  {
   "cell_type": "markdown",
   "metadata": {
    "collapsed": true
   },
   "source": [
    "## Question 2\n",
    "\n",
    "For each of the following first-difference processes, compute the values of $y$ from $t=0$ through $t = 12$. For each, assume that $y_0 = 0$. \n",
    "\n",
    "* $y_t = 1 + 0.5y_{t-1}$\n",
    "* $y_t = 0.5y_{t-1}$\n",
    "* $y_t = -1 + 0.5y_{t-1}$\n",
    "\n",
    "Plot the the simulated values for each process on the same axes and be sure to include a legend. Set the $y$-axis limits to $[-3,3]$."
   ]
  },
  {
   "cell_type": "code",
   "execution_count": null,
   "metadata": {
    "collapsed": false
   },
   "outputs": [],
   "source": [
    "# Question 2\n",
    "\n"
   ]
  },
  {
   "cell_type": "markdown",
   "metadata": {},
   "source": [
    "## Question 3\n",
    "\n",
    "Download a file called `Econ129_US_Production_A_Data.csv` from the link \"Production data for the US\" under the \"Data\" section on the course website. The file contains annual production data for the US economy including ouput, consumption, investment, and labor hours, among others. The capital stock of the US is only given for 1948. Import the data into a Pandas DataFrame and do the following:\n",
    "\n",
    "1. Suppose that the depreciation rate for the US is $\\delta = 0.0375$. Use the capital accumulation equation $K_{t+1} = I_t + (1-\\delta)K_t$ to fill in the missing values for the capital column. Construct a plot of the computed capital stock.\n",
    "2. Add columns to your DataFrame equal to capital per worker and output per worker by dividing the capital and output columns by the labor column. Print the first five rows of the DataFrame.\n",
    "3. Print the average annual growth rates of capital per worker and output per worker for the US.\n",
    "\n",
    "Recall that the average annnual growth rate of a quantity $y$ from date $0$ to date $T$ is:\n",
    "\\begin{align}\n",
    "g & = \\left(\\frac{y_T}{y_0}\\right)^{\\frac{1}{T}}-1\n",
    "\\end{align}"
   ]
  },
  {
   "cell_type": "code",
   "execution_count": null,
   "metadata": {
    "collapsed": true
   },
   "outputs": [],
   "source": [
    "# Question 3.1\n"
   ]
  },
  {
   "cell_type": "code",
   "execution_count": null,
   "metadata": {
    "collapsed": true
   },
   "outputs": [],
   "source": [
    "# Question 3.2\n"
   ]
  },
  {
   "cell_type": "code",
   "execution_count": null,
   "metadata": {
    "collapsed": true
   },
   "outputs": [],
   "source": [
    "# Question 3.3\n"
   ]
  },
  {
   "cell_type": "markdown",
   "metadata": {},
   "source": [
    "## Question 4: The Solow model with exogenous population and TFP growth\n",
    "\n",
    "\n",
    "Suppose that the aggregate production function is given by:\n",
    "\n",
    "\\begin{align}\n",
    "Y_t & = A_tK_t^{\\alpha} L_t^{1-\\alpha}, \\tag{1}\n",
    "\\end{align}\n",
    "\n",
    "where $Y_t$ denotes output, $K_t$ denotes the capital stock, $L_t$ denotes the labor supply, and $A_t$ denotes total factor productivity $TFP$. $\\alpha$ is a constant.\n",
    "\n",
    "The supply of labor grows at an exogenously determined rate $n$ and so it's value is determined recursively by a first-order difference equation:\n",
    "\n",
    "\\begin{align}\n",
    "L_{t+1} & = (1+n) L_t. \\tag{2}\n",
    "\\end{align}\n",
    "\n",
    "Likewise, TFP grows at an exogenously determined rate $g$:\n",
    "\n",
    "\\begin{align}\n",
    "A_{t+1} & = (1+g) A_t. \\tag{3}\n",
    "\\end{align}\n",
    "\n",
    "\n",
    "The rest of the economy is characterized by the same equations as before:\n",
    "\n",
    "\\begin{align}\n",
    "C_t & = (1-s)Y_t \\tag{4}\\\\\n",
    "Y_t & = C_t + I_t \\tag{5}\\\\\n",
    "K_{t+1} & = I_t + ( 1- \\delta)K_t. \\tag{6}\\\\\n",
    "\\end{align}\n",
    "\n",
    "\n",
    "Equation (4) is the consumption function where $s$ denotes the exogenously given saving rate. Equation (5) is the aggregate market clearing condition. Finally, Equation (6) is the capital evolution equation specifying that capital in year $t+1$ is the sum of newly created capital $I_t$ and the capital stock from year $t$ that has not depreciated $(1-\\delta)K_t$.\n",
    "\n",
    "Combine Equations (1) and (4) through (6) to eliminate $C_t$, $I_t$, and $Y_t$ and obtain a recurrence relation specifying $K_{t+1}$ as a funtion of $K_t$, $A_t$, and $L_t$:\n",
    "\\begin{align}\n",
    "K_{t+1} & =  sA_tK_t^{\\alpha}L_t^{1-\\alpha} + ( 1- \\delta)K_t \\tag{7}\n",
    "\\end{align}\n",
    "\n",
    "Given an initial values for capital and labor, Equations (2), (3), and (7) can be iterated on to compute the values of the capital stock and labor supply at some future date $T$. Furthermore, the values of consumption, output, and investment at date $T$ can also be computed using Equations (1), (4), (5), and (6).\n",
    "\n",
    "### Simulation\n",
    "\n",
    "Simulate the Solow growth model with exogenous labor growth for $t=0\\ldots 100$. For the simulation, assume the following values of the parameters:\n",
    "\n",
    "\\begin{align}\n",
    "A & = 10\\\\\n",
    "\\alpha & = 0.35\\\\\n",
    "s & = 0.15\\\\\n",
    "\\delta & = 0.1\\\\\n",
    "g & = 0.015 \\\\\n",
    "n & = 0.01\n",
    "\\end{align}\n",
    "\n",
    "Furthermore, suppose that the initial values of capital and labor are:\n",
    "\n",
    "\\begin{align}\n",
    "K_0 & = 2\\\\\n",
    "A_0 & = 1\\\\\n",
    "L_0 & = 1\n",
    "\\end{align}"
   ]
  },
  {
   "cell_type": "code",
   "execution_count": null,
   "metadata": {
    "collapsed": false
   },
   "outputs": [],
   "source": [
    "# Initialize parameters for the simulation (A, s, T, delta, alpha, g, n, K0, A0, L0)\n",
    "\n",
    "\n",
    "# Initialize a variable called tfp as a (T+1)x1 array of zeros and set first value to A0\n",
    "\n",
    "\n",
    "# Compute all subsequent tfp values by iterating over t from 0 through T\n",
    "    \n",
    "    \n",
    "# Plot the simulated tfp series\n",
    "\n"
   ]
  },
  {
   "cell_type": "code",
   "execution_count": null,
   "metadata": {
    "collapsed": true
   },
   "outputs": [],
   "source": [
    "# Initialize a variable called labor as a (T+1)x1 array of zeros and set first value to L0\n",
    "\n",
    "\n",
    "# Compute all subsequent labor values by iterating over t from 0 through T\n",
    "    \n",
    "    \n",
    "# Plot the simulated labor series\n",
    "\n"
   ]
  },
  {
   "cell_type": "code",
   "execution_count": null,
   "metadata": {
    "collapsed": true
   },
   "outputs": [],
   "source": [
    "# Initialize a variable called capital as a (T+1)x1 array of zeros and set first value to K0\n",
    "\n",
    "\n",
    "# Compute all subsequent capital values by iterating over t from 0 through T\n",
    "\n",
    "    \n",
    "# Plot the simulated capital series\n",
    "\n"
   ]
  },
  {
   "cell_type": "code",
   "execution_count": null,
   "metadata": {
    "collapsed": true
   },
   "outputs": [],
   "source": [
    "# Store the simulated capital, labor, and tfp data in a pandas DataFrame called data\n",
    "\n",
    "\n",
    "# Print the first 5 frows of the DataFrame\n"
   ]
  },
  {
   "cell_type": "code",
   "execution_count": null,
   "metadata": {
    "collapsed": true
   },
   "outputs": [],
   "source": [
    "# Create columns in the DataFrame to store computed values of the other endogenous variables: Y, C, and I\n",
    "\n",
    "\n",
    "# Print the first five rows of the DataFrame\n"
   ]
  },
  {
   "cell_type": "code",
   "execution_count": null,
   "metadata": {
    "collapsed": true
   },
   "outputs": [],
   "source": [
    "# Create columns in the DataFrame to store capital per worker, output per worker, consumption per worker, and investment per worker\n",
    "\n",
    "\n",
    "# Print the first five rows of the DataFrame\n"
   ]
  },
  {
   "cell_type": "code",
   "execution_count": null,
   "metadata": {
    "collapsed": true
   },
   "outputs": [],
   "source": [
    "# Create a 2x2 grid of plots of capital, output, consumption, and investment\n"
   ]
  },
  {
   "cell_type": "code",
   "execution_count": null,
   "metadata": {
    "collapsed": true
   },
   "outputs": [],
   "source": [
    "# Create a 2x2 grid of plots of capital per worker, output per worker, consumption per worker, and investment per worker\n"
   ]
  },
  {
   "cell_type": "markdown",
   "metadata": {},
   "source": [
    "## Question 5\n",
    "\n",
    "Recall the Solow growth model with exogenous growth in labor and TFP:\n",
    "\n",
    "\\begin{align}\n",
    "Y_t & = A_tK_t^{\\alpha} L_t^{1-\\alpha}, \\tag{1}\\\\\n",
    "C_t & = (1-s)Y_t \\tag{2}\\\\\n",
    "Y_t & = C_t + I_t \\tag{3}\\\\\n",
    "K_{t+1} & = I_t + ( 1- \\delta)K_t \\tag{4}\\\\\n",
    "L_{t+1} & = (1+n) L_t \\tag{5} \\\\\n",
    "A_{t+1} & = (1+g) A_t. \\tag{6}\n",
    "\\end{align}\n",
    "\n",
    "Suppose that two countries called Westeros and Essos are identical except that TFP in Westeros grows faster than in Essos. Specifically:\n",
    "\n",
    "\\begin{align}\n",
    "g_{Westeros} & = 0.03\\\\\n",
    "g_{Essos} & = 0.01\n",
    "\\end{align}\n",
    "\n",
    "Otherwise, the parameters for each economy are the same including the initial values of capital, labor, and TFP:\n",
    "\n",
    "\\begin{align}\n",
    "\\alpha & = 0.35\\\\\n",
    "s & = 0.15\\\\\n",
    "\\delta & = 0.1\\\\\n",
    "n & = 0.01\\\\\n",
    "K_0 & = 20\\\\\n",
    "A_0 & = 10\\\\\n",
    "L_0 & = 1\n",
    "\\end{align}\n",
    "\n",
    "Do the following:\n",
    "\n",
    "1. Find the date (value for $t$) at which output per worker in Westeros becomes at least twice as large as output per worker in Essos. Print the value for t and the values of ouput per worker for each country.\n",
    "\n",
    "2. On a single set of axes, plot simulated values of output per worker for each country for t = $1, 2, \\ldots 100$. \n",
    "\n",
    "*Hint*: Copy into this notebook the function that simulates the Solow model with exogenous labor growth from the end of the Notebook from Class 9. Modify the function to fit this problem."
   ]
  },
  {
   "cell_type": "code",
   "execution_count": null,
   "metadata": {
    "collapsed": true
   },
   "outputs": [],
   "source": [
    "# Question 5.1\n"
   ]
  },
  {
   "cell_type": "code",
   "execution_count": null,
   "metadata": {
    "collapsed": true
   },
   "outputs": [],
   "source": [
    "# Question 5.2\n"
   ]
  }
 ],
 "metadata": {
  "anaconda-cloud": {},
  "kernelspec": {
   "display_name": "Python [default]",
   "language": "python",
   "name": "python3"
  },
  "language_info": {
   "codemirror_mode": {
    "name": "ipython",
    "version": 3
   },
   "file_extension": ".py",
   "mimetype": "text/x-python",
   "name": "python",
   "nbconvert_exporter": "python",
   "pygments_lexer": "ipython3",
   "version": "3.5.2"
  }
 },
 "nbformat": 4,
 "nbformat_minor": 1
}
