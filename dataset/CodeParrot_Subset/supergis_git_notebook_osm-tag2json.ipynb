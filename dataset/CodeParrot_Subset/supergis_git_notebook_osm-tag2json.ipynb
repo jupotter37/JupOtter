{
 "cells": [
  {
   "cell_type": "code",
   "execution_count": 9,
   "metadata": {
    "collapsed": true
   },
   "outputs": [],
   "source": [
    "#!/usr/bin/python\n",
    "#coding=utf-8"
   ]
  },
  {
   "cell_type": "markdown",
   "metadata": {},
   "source": [
    "# OSM文件分类捡取工具。\n",
    "by openthings@163.com, 2016-05-04.   \n",
    "### 将osm文件按照tag分类，并转为不同的文件，以方便后续的处理。  \n",
    "* 每一个tag对象转为独立的一行（去掉换行符），以便Spark读入。\n",
    "* 采用递归方式处理，占用内存较少，可以处理大型文件。\n",
    "\n",
    "### 后续工作：  \n",
    "每一tag对象数据转为dict并保存为json到一行。  \n",
    "每一tag对象数据转为wkt格式。"
   ]
  },
  {
   "cell_type": "code",
   "execution_count": 2,
   "metadata": {
    "collapsed": true
   },
   "outputs": [],
   "source": [
    "import os\n",
    "import lxml\n",
    "from lxml import etree\n",
    "import xmltodict, sys, gc\n",
    "from pymongo import MongoClient\n",
    "\n",
    "gc.enable() #Enable Garbadge Collection\n",
    "\n",
    "client = MongoClient()\n",
    "db = client.re\n",
    "streetsDB = db.streets\n",
    "\n",
    "hwTypes = ['motorway', 'trunk', 'primary', 'secondary', 'tertiary', 'pedestrian', 'unclassified', 'service']"
   ]
  },
  {
   "cell_type": "markdown",
   "metadata": {},
   "source": [
    "### 递归方式读取osm的xml结构数据。\n",
    "http://www.ibm.com/developerworks/xml/library/x-hiperfparse/"
   ]
  },
  {
   "cell_type": "code",
   "execution_count": 39,
   "metadata": {
    "collapsed": false
   },
   "outputs": [],
   "source": [
    "def process_element(elem):\n",
    "    print(\"element:\",str(elem.attrib))\n",
    "    if (elem.tag==\"node\"): \n",
    "        fnode.write((etree.tostring(elem).decode('utf-8'))+\"\\r\\n\")\n",
    "    elif (elem.tag==\"way\"): \n",
    "        fway.write((etree.tostring(elem).decode('utf-8'))+\"\\r\\n\")\n",
    "    elif (elem.tag==\"relation\"): \n",
    "        frelation.write((etree.tostring(elem)).decode('utf-8')+\"\\r\\n\")\n",
    "    data = etree.tostring(elem)\n",
    "    \n",
    "    #data = etree.tostring(elem)\n",
    "    #data = xmltodict.parse(data)\n",
    "    #print(data.decode('ascii'))\n",
    "    #print(str(elem))"
   ]
  },
  {
   "cell_type": "markdown",
   "metadata": {},
   "source": [
    "### 快速迭代处理，func为迭代的element处理函数。"
   ]
  },
  {
   "cell_type": "code",
   "execution_count": 165,
   "metadata": {
    "collapsed": false
   },
   "outputs": [],
   "source": [
    "from pprint import *\n",
    "\n",
    "def fast_iter(context, func, file, maxline):\n",
    "    print('Process XML...')\n",
    "    placement = 0\n",
    "    try:\n",
    "        for event, elem in context:\n",
    "            placement += 1\n",
    "            if (maxline > 0):\n",
    "                if (placement >= maxline): break\n",
    "            print(placement,\"elem: \")\n",
    "\n",
    "            #print(\"element\",str(elem.attrib)) \n",
    "            data = etree.tostring(elem)\n",
    "            print(data)\n",
    "            \n",
    "            global data2\n",
    "            data2 = xmltodict.parse(data)\n",
    "            pprint(data2)\n",
    "\n",
    "            #if (file):\n",
    "            #    file.write(str(elem.attrib) + \"\\n\")\n",
    "            #else:\n",
    "            #    print(\"file is null.\")\n",
    "            #func(elem)\n",
    "                           \n",
    "            elem.clear()\n",
    "            #while elem.getprevious() is not None:\n",
    "            #   del elem.getparent()[0]\n",
    "    except Exception as ex:\n",
    "        print(\"Error:\",ex)\n",
    "        \n",
    "    del context"
   ]
  },
  {
   "cell_type": "markdown",
   "metadata": {},
   "source": [
    "### 将指定tag的对象提取，写入json文件。  \n",
    "***osmfile：输入的\\*.osm文件 ***  \n",
    "***tagname：'node','way','relation' ***"
   ]
  },
  {
   "cell_type": "code",
   "execution_count": 166,
   "metadata": {
    "collapsed": true
   },
   "outputs": [],
   "source": [
    "def process_tag(osmfile, tagname, maxline):\n",
    "    filename_tag = osmfile + \"_\" + tagname + \".json\"\n",
    "    print(\"Filename output: \",filename_tag)\n",
    "    ftag = open(filename_tag,\"w+\")\n",
    "    context = etree.iterparse(osmfile, tag = tagname)\n",
    "    fast_iter(context,process_element,ftag,maxline)\n",
    "    ftag.close()"
   ]
  },
  {
   "cell_type": "code",
   "execution_count": 167,
   "metadata": {
    "collapsed": false
   },
   "outputs": [
    {
     "name": "stdout",
     "output_type": "stream",
     "text": [
      "Filename output:  ../data/muenchen.osm_way.json\n",
      "Process XML...\n",
      "1 elem: \n",
      "b'<way id=\"24665462\" visible=\"true\" version=\"5\" changeset=\"31566605\" timestamp=\"2015-05-29T16:01:23Z\" user=\"zarl\" uid=\"29003\">\\n  <nd ref=\"21585827\"/>\\n  <nd ref=\"3556567936\"/>\\n  <nd ref=\"2475797158\"/>\\n  <nd ref=\"268098186\"/>\\n  <nd ref=\"268101008\"/>\\n  <nd ref=\"268098217\"/>\\n  <nd ref=\"268098189\"/>\\n  <tag k=\"bicycle\" v=\"yes\"/>\\n  <tag k=\"highway\" v=\"footway\"/>\\n  <tag k=\"lit\" v=\"yes\"/>\\n  <tag k=\"smoothness\" v=\"good\"/>\\n  <tag k=\"surface\" v=\"asphalt\"/>\\n </way>\\n '\n",
      "OrderedDict([('way',\n",
      "              OrderedDict([('@id', '24665462'),\n",
      "                           ('@visible', 'true'),\n",
      "                           ('@version', '5'),\n",
      "                           ('@changeset', '31566605'),\n",
      "                           ('@timestamp', '2015-05-29T16:01:23Z'),\n",
      "                           ('@user', 'zarl'),\n",
      "                           ('@uid', '29003'),\n",
      "                           ('nd',\n",
      "                            [OrderedDict([('@ref', '21585827')]),\n",
      "                             OrderedDict([('@ref', '3556567936')]),\n",
      "                             OrderedDict([('@ref', '2475797158')]),\n",
      "                             OrderedDict([('@ref', '268098186')]),\n",
      "                             OrderedDict([('@ref', '268101008')]),\n",
      "                             OrderedDict([('@ref', '268098217')]),\n",
      "                             OrderedDict([('@ref', '268098189')])]),\n",
      "                           ('tag',\n",
      "                            [OrderedDict([('@k', 'bicycle'), ('@v', 'yes')]),\n",
      "                             OrderedDict([('@k', 'highway'),\n",
      "                                          ('@v', 'footway')]),\n",
      "                             OrderedDict([('@k', 'lit'), ('@v', 'yes')]),\n",
      "                             OrderedDict([('@k', 'smoothness'),\n",
      "                                          ('@v', 'good')]),\n",
      "                             OrderedDict([('@k', 'surface'),\n",
      "                                          ('@v', 'asphalt')])])]))])\n"
     ]
    }
   ],
   "source": [
    "osmfile = '../data/muenchen.osm'\n",
    "\n",
    "#process_tag(osmfile,'node',5)\n",
    "process_tag(osmfile,'way',2)\n",
    "#process_tag(osmfile,'relation',0)\n"
   ]
  },
  {
   "cell_type": "code",
   "execution_count": 152,
   "metadata": {
    "collapsed": false
   },
   "outputs": [
    {
     "name": "stdout",
     "output_type": "stream",
     "text": [
      "OrderedDict([('way',\n",
      "              OrderedDict([('@id', '24665462'),\n",
      "                           ('@visible', 'true'),\n",
      "                           ('@version', '5'),\n",
      "                           ('@changeset', '31566605'),\n",
      "                           ('@timestamp', '2015-05-29T16:01:23Z'),\n",
      "                           ('@user', 'zarl'),\n",
      "                           ('@uid', '29003'),\n",
      "                           ('nd',\n",
      "                            [OrderedDict([('@ref', '21585827')]),\n",
      "                             OrderedDict([('@ref', '3556567936')]),\n",
      "                             OrderedDict([('@ref', '2475797158')]),\n",
      "                             OrderedDict([('@ref', '268098186')]),\n",
      "                             OrderedDict([('@ref', '268101008')]),\n",
      "                             OrderedDict([('@ref', '268098217')]),\n",
      "                             OrderedDict([('@ref', '268098189')])]),\n",
      "                           ('tag',\n",
      "                            [OrderedDict([('@k', 'bicycle'), ('@v', 'yes')]),\n",
      "                             OrderedDict([('@k', 'highway'),\n",
      "                                          ('@v', 'footway')]),\n",
      "                             OrderedDict([('@k', 'lit'), ('@v', 'yes')]),\n",
      "                             OrderedDict([('@k', 'smoothness'),\n",
      "                                          ('@v', 'good')]),\n",
      "                             OrderedDict([('@k', 'surface'),\n",
      "                                          ('@v', 'asphalt')])])]))])\n"
     ]
    }
   ],
   "source": [
    "pprint(data2)"
   ]
  },
  {
   "cell_type": "code",
   "execution_count": 164,
   "metadata": {
    "collapsed": false
   },
   "outputs": [
    {
     "name": "stdout",
     "output_type": "stream",
     "text": [
      "nd= 21585827\n",
      "nd= 3556567936\n",
      "nd= 2475797158\n",
      "nd= 268098186\n",
      "nd= 268101008\n",
      "nd= 268098217\n",
      "nd= 268098189\n"
     ]
    }
   ],
   "source": [
    "for i in data2[\"way\"][\"nd\"]:\n",
    "    print(\"nd=\",i[\"@ref\"])"
   ]
  },
  {
   "cell_type": "code",
   "execution_count": 163,
   "metadata": {
    "collapsed": false
   },
   "outputs": [
    {
     "name": "stdout",
     "output_type": "stream",
     "text": [
      "bicycle = yes\n",
      "highway = footway\n",
      "lit = yes\n",
      "smoothness = good\n",
      "surface = asphalt\n"
     ]
    }
   ],
   "source": [
    "for i in data2[\"way\"][\"tag\"]:\n",
    "    print(i[\"@k\"],\"=\",i[\"@v\"])"
   ]
  },
  {
   "cell_type": "code",
   "execution_count": 171,
   "metadata": {
    "collapsed": false
   },
   "outputs": [
    {
     "name": "stdout",
     "output_type": "stream",
     "text": [
      "('{\"way\": {\"@id\": \"24665462\", \"@visible\": \"true\", \"@version\": \"5\", '\n",
      " '\"@changeset\": \"31566605\", \"@timestamp\": \"2015-05-29T16:01:23Z\", \"@user\": '\n",
      " '\"zarl\", \"@uid\": \"29003\", \"nd\": [{\"@ref\": \"21585827\"}, {\"@ref\": '\n",
      " '\"3556567936\"}, {\"@ref\": \"2475797158\"}, {\"@ref\": \"268098186\"}, {\"@ref\": '\n",
      " '\"268101008\"}, {\"@ref\": \"268098217\"}, {\"@ref\": \"268098189\"}], \"tag\": [{\"@k\": '\n",
      " '\"bicycle\", \"@v\": \"yes\"}, {\"@k\": \"highway\", \"@v\": \"footway\"}, {\"@k\": \"lit\", '\n",
      " '\"@v\": \"yes\"}, {\"@k\": \"smoothness\", \"@v\": \"good\"}, {\"@k\": \"surface\", \"@v\": '\n",
      " '\"asphalt\"}]}}')\n"
     ]
    }
   ],
   "source": [
    "import json\n",
    "jsonStr = json.dumps(data2)\n",
    "pprint(jsonStr)"
   ]
  },
  {
   "cell_type": "code",
   "execution_count": 182,
   "metadata": {
    "collapsed": false
   },
   "outputs": [
    {
     "name": "stdout",
     "output_type": "stream",
     "text": [
      "{'way': {'@changeset': '31566605',\n",
      "         '@id': '24665462',\n",
      "         '@timestamp': '2015-05-29T16:01:23Z',\n",
      "         '@uid': '29003',\n",
      "         '@user': 'zarl',\n",
      "         '@version': '5',\n",
      "         '@visible': 'true',\n",
      "         'nd': [{'@ref': '21585827'},\n",
      "                {'@ref': '3556567936'},\n",
      "                {'@ref': '2475797158'},\n",
      "                {'@ref': '268098186'},\n",
      "                {'@ref': '268101008'},\n",
      "                {'@ref': '268098217'},\n",
      "                {'@ref': '268098189'}],\n",
      "         'tag': [{'@k': 'bicycle', '@v': 'yes'},\n",
      "                 {'@k': 'highway', '@v': 'footway'},\n",
      "                 {'@k': 'lit', '@v': 'yes'},\n",
      "                 {'@k': 'smoothness', '@v': 'good'},\n",
      "                 {'@k': 'surface', '@v': 'asphalt'}]}}\n"
     ]
    }
   ],
   "source": [
    "jsonobj = json.loads(jsonStr)\n",
    "pprint(jsonobj)"
   ]
  },
  {
   "cell_type": "code",
   "execution_count": 186,
   "metadata": {
    "collapsed": false
   },
   "outputs": [
    {
     "data": {
      "text/plain": [
       "[{'@k': 'bicycle', '@v': 'yes'},\n",
       " {'@k': 'highway', '@v': 'footway'},\n",
       " {'@k': 'lit', '@v': 'yes'},\n",
       " {'@k': 'smoothness', '@v': 'good'},\n",
       " {'@k': 'surface', '@v': 'asphalt'}]"
      ]
     },
     "execution_count": 186,
     "metadata": {},
     "output_type": "execute_result"
    }
   ],
   "source": [
    "jsonobj[\"way\"][\"tag\"]"
   ]
  },
  {
   "cell_type": "code",
   "execution_count": null,
   "metadata": {
    "collapsed": true
   },
   "outputs": [],
   "source": []
  }
 ],
 "metadata": {
  "kernelspec": {
   "display_name": "Python 3",
   "language": "python",
   "name": "python3"
  },
  "language_info": {
   "codemirror_mode": {
    "name": "ipython",
    "version": 3
   },
   "file_extension": ".py",
   "mimetype": "text/x-python",
   "name": "python",
   "nbconvert_exporter": "python",
   "pygments_lexer": "ipython3",
   "version": "3.5.1"
  }
 },
 "nbformat": 4,
 "nbformat_minor": 0
}
