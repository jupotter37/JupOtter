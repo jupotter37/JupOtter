{
 "cells": [
  {
   "cell_type": "code",
   "execution_count": null,
   "metadata": {
    "collapsed": false
   },
   "outputs": [],
   "source": [
    "%matplotlib inline"
   ]
  },
  {
   "cell_type": "code",
   "execution_count": null,
   "metadata": {
    "collapsed": false
   },
   "outputs": [],
   "source": [
    "import matplotlib.pyplot as plt\n",
    "import numpy as np\n",
    "import pandas as pd\n",
    "import sympy as sym\n",
    "\n",
    "import solowpy"
   ]
  },
  {
   "cell_type": "markdown",
   "metadata": {},
   "source": [
    "# 4. Solving the model\n",
    "\n",
    "## 4.1 Solow model as an initial value problem\n",
    "\n",
    "The Solow model with can be formulated as an initial value problem (IVP) as follows.\n",
    "\n",
    "$$ \\dot{k}(t) = sf(k(t)) - (g + n + \\delta)k(t),\\ t\\ge t_0,\\ k(t_0) = k_0 \\tag{4.1.0} $$\n",
    "\n",
    "The solution to this IVP is a function $k(t)$ describing the time-path of capital stock (per unit effective labor). Our objective in this section will be to explore methods for approximating the function $k(t)$. The methods we will learn are completely general and can be used to solve any IVP. Those interested in learning more about these methods should start by reading Chapter 10 of [*Numerical Methods for Economists*](http://mitpress.mit.edu/books/numerical-methods-economics) by Ken Judd before proceeding to John Butcher's excellent book entitled [*Numerical Methods for solving Ordinary Differential Equations*](http://www.shivanian.com/teaching%20avtivities/Butcher.pdf).\n",
    "\n",
    "Before discussing numerical methods we should stop and consider whether or not there are any special cases (i.e., combintions of parameters) for which the the initial value problem defined in 4.2.1 might have an analytic solution. Analytic results can be very useful in building intuition about the economic mechanisms at play in a model and are invaluable for debugging code."
   ]
  },
  {
   "cell_type": "markdown",
   "metadata": {},
   "source": [
    "## 4.2 Analytic methods\n",
    "\n",
    "### 4.2.1 Analytic solution for a model with Cobb-Douglas production\n",
    "\n",
    "The Solow model with Cobb-Douglas production happens to have a completely [general analytic solution](https://github.com/davidrpugh/numerical-methods/raw/master/labs/lab-1/solow-analytic-solution.pdf):\n",
    "\n",
    "$$ k(t) = \\left[\\left(\\frac{s}{n+g+\\delta}\\right)\\left(1 -  e^{-(n + g + \\delta) (1-\\alpha) t}\\right) + k_0^{1-\\alpha}e^{-(n + g + \\delta) (1-\\alpha) t}\\right]^{\\frac{1}{1-\\alpha}} \\tag{4.2.0}$$\n",
    "\n",
    "This analytic result is available via the `analytic_solution` method of the `solow.CobbDouglasModel` class."
   ]
  },
  {
   "cell_type": "code",
   "execution_count": null,
   "metadata": {
    "collapsed": false
   },
   "outputs": [],
   "source": [
    "solowpy.CobbDouglasModel.analytic_solution?"
   ]
  },
  {
   "cell_type": "markdown",
   "metadata": {},
   "source": [
    "### Example: Computing the analytic trajectory\n",
    "We can compute an analytic solution for our Solow model like so..."
   ]
  },
  {
   "cell_type": "code",
   "execution_count": null,
   "metadata": {
    "collapsed": false
   },
   "outputs": [],
   "source": [
    "# define model parameters\n",
    "cobb_douglas_params = {'A0': 1.0, 'L0': 1.0, 'g': 0.02, 'n': 0.03, 's': 0.15,\n",
    "                      'delta': 0.05, 'alpha': 0.33}\n",
    "\n",
    "# create an instance of the solow.Model class\n",
    "cobb_douglas_model = solowpy.CobbDouglasModel(params=cobb_douglas_params)"
   ]
  },
  {
   "cell_type": "code",
   "execution_count": null,
   "metadata": {
    "collapsed": false
   },
   "outputs": [],
   "source": [
    "# specify some initial condition\n",
    "k0 = 0.5 * cobb_douglas_model.steady_state\n",
    "\n",
    "# grid of t values for which we want the value of k(t)\n",
    "ti = np.linspace(0, 100, 10)\n",
    "\n",
    "# generate a trajectory!\n",
    "cobb_douglas_model.analytic_solution(ti, k0)"
   ]
  },
  {
   "cell_type": "markdown",
   "metadata": {},
   "source": [
    "...and we can make a plot of this solution like so..."
   ]
  },
  {
   "cell_type": "code",
   "execution_count": null,
   "metadata": {
    "collapsed": false
   },
   "outputs": [],
   "source": [
    "fig, ax = plt.subplots(1, 1, figsize=(8,6))\n",
    "\n",
    "# compute the solution\n",
    "ti = np.linspace(0, 100, 1000)\n",
    "analytic_traj = cobb_douglas_model.analytic_solution(ti, k0)\n",
    "\n",
    "# plot this trajectory\n",
    "ax.plot(ti, analytic_traj[:,1], 'r-')\n",
    "\n",
    "# equilibrium value of capital stock (per unit effective labor)\n",
    "ax.axhline(cobb_douglas_model.steady_state, linestyle='dashed',\n",
    "           color='k', label='$k^*$')\n",
    "\n",
    "# axes, labels, title, etc\n",
    "ax.set_xlabel('Time, $t$', fontsize=20, family='serif')\n",
    "ax.set_ylabel('$k(t)$', rotation='horizontal', fontsize=20, family='serif')\n",
    "ax.set_title('Analytic solution to a Solow model\\nwith Cobb-Douglas production',\n",
    "             fontsize=25, family='serif')\n",
    "ax.legend(loc=0, frameon=False, bbox_to_anchor=(1.0, 1.0))\n",
    "ax.grid('on')\n",
    "\n",
    "plt.show()"
   ]
  },
  {
   "cell_type": "markdown",
   "metadata": {},
   "source": [
    "### 4.2.2 Linearized solution to general model\n",
    "\n",
    "In general there will not be closed-form solutions for the Solow model. The standard approach to obtaining general analytical results for the Solow model is to linearize the equation of motion for capital stock (per unit effective labor). Linearizing the equation of motion of capital (per unit effective labor) amounts to taking a first-order [Taylor approximation](http://en.wikipedia.org/wiki/Taylor_series) of equation 4.1.0 around its long-run equilibrium $k^*$:\n",
    "\n",
    "$$ \\dot{k}(t) \\approx -\\lambda (k(t) - k^*),\\ t \\ge t_0,\\ k(t_0)=k_0 \\tag{4.2.1}$$\n",
    "\n",
    "where the *speed of convergence*, $\\lambda$, is defined as \n",
    "\n",
    "$$ \\lambda = -\\frac{\\partial \\dot{k}(k(t))}{\\partial k(t)}\\bigg|_{k(t)=k^*} \\tag{4.2.2} $$\n",
    "\n",
    "The solution the the linear differential equation 4.2.1 is\n",
    "\n",
    "$$ k(t) = k^* + e^{-\\lambda t}(k_0 - k^*). \\tag{4.2.3} $$\n",
    "\n",
    "To complete the solution it remains to find an expression for the speed of convergence $\\lambda$:\n",
    "\n",
    "\\begin{align}\n",
    "    \\lambda \\equiv -\\frac{\\partial \\dot{k}(k(t))}{\\partial k(t)}\\bigg|_{k(t)=k^*} =& -[sf'(k^*) - (g + n+ \\delta)] \\\\\n",
    "    =& (g + n+ \\delta) - sf'(k^*) \\\\\n",
    "    =& (g + n + \\delta) - (g + n + \\delta)\\frac{k^*f'(k^*)}{f(k^*)} \\\\\n",
    "    =& (1 - \\alpha_K(k^*))(g + n + \\delta) \\tag{4.2.4}\n",
    "\\end{align}\n",
    "where the elasticity of output with respect to capital, $\\alpha_K(k)$, is\n",
    "\n",
    "$$\\alpha_K(k) = \\frac{k^*f'(k^*)}{f(k^*)}. \\tag{4.2.5}$$"
   ]
  },
  {
   "cell_type": "markdown",
   "metadata": {},
   "source": [
    "### Example: Computing the linearized trajectory\n",
    "One can compute a linear approximation of the model solution using the `linearized_solution` method of the `solow.Model` class as follows."
   ]
  },
  {
   "cell_type": "code",
   "execution_count": null,
   "metadata": {
    "collapsed": false
   },
   "outputs": [],
   "source": [
    "# specify some initial condition\n",
    "k0 = 0.5 * cobb_douglas_model.steady_state\n",
    "\n",
    "# grid of t values for which we want the value of k(t)\n",
    "ti = np.linspace(0, 100, 10)\n",
    "\n",
    "# generate a trajectory!\n",
    "cobb_douglas_model.linearized_solution(ti, k0)"
   ]
  },
  {
   "cell_type": "markdown",
   "metadata": {},
   "source": [
    "### 4.2.3 Accuracy of the linear approximation"
   ]
  },
  {
   "cell_type": "code",
   "execution_count": null,
   "metadata": {
    "collapsed": false
   },
   "outputs": [],
   "source": [
    "# initial condition\n",
    "t0, k0 = 0.0, 0.5 * cobb_douglas_model.steady_state\n",
    "\n",
    "# grid of t values for which we want the value of k(t)\n",
    "ti = np.linspace(t0, 100, 1000)\n",
    "\n",
    "# generate the trajectories\n",
    "analytic = cobb_douglas_model.analytic_solution(ti, k0)\n",
    "linearized = cobb_douglas_model.linearized_solution(ti, k0)"
   ]
  },
  {
   "cell_type": "code",
   "execution_count": null,
   "metadata": {
    "collapsed": false
   },
   "outputs": [],
   "source": [
    "fig, ax = plt.subplots(1, 1, figsize=(8,6))\n",
    "\n",
    "ax.plot(ti, analytic[:,1], 'r-', label='Analytic')\n",
    "ax.plot(ti, linearized[:,1], 'b-', label='Linearized')\n",
    "\n",
    "# demarcate k*\n",
    "ax.axhline(cobb_douglas_model.steady_state, linestyle='dashed', \n",
    "            color='k', label='$k^*$')\n",
    "\n",
    "# axes, labels, title, etc\n",
    "ax.set_xlabel('Time, $t$', fontsize=20, family='serif')\n",
    "ax.set_ylabel('$k(t)$', rotation='horizontal', fontsize=20, family='serif')\n",
    "ax.set_title('Analytic vs. linearized solutions', fontsize=25, family='serif')\n",
    "ax.legend(loc='best', frameon=False, prop={'family':'serif'},\n",
    "          bbox_to_anchor=(1.0, 1.0))\n",
    "ax.grid('on')\n",
    "\n",
    "fig.show()"
   ]
  },
  {
   "cell_type": "markdown",
   "metadata": {},
   "source": [
    "## 4.3 Finite-difference methods\n",
    "\n",
    "Four of the best, most widely used ODE integrators have been implemented in the `scipy.integrate` module (they are called `dopri5`, `dop85`, `lsoda`, and `vode`). Each of these integrators uses some type of adaptive step-size control: the integrator adaptively adjusts the step size $h$ in order to keep the approximation error below some user-specified threshold). The cells below contain code which compares the approximation error of the forward Euler with those of [`lsoda`](http://computation.llnl.gov/casc/nsde/pubs/u113855.pdf) and [`vode`](http://jeffreydk.site50.net/papers/BDFmethodpaper.pdf). Instead of simple linear interpolation (i.e., `k=`1), I set `k=5` for 5th order [B-spline](http://en.wikipedia.org/wiki/B-spline) interpolation."
   ]
  },
  {
   "cell_type": "markdown",
   "metadata": {},
   "source": [
    "...finally, we can plot trajectories for different initial conditions. Note that the analytic solutions converge to the long-run equilibrium no matter the initial condition of capital stock (per unit of effective labor) providing a nice graphical demonstration that the Solow model is globally stable."
   ]
  },
  {
   "cell_type": "code",
   "execution_count": null,
   "metadata": {
    "collapsed": false
   },
   "outputs": [],
   "source": [
    "fig, ax = plt.subplots(1, 1, figsize=(8,6))\n",
    "\n",
    "# lower and upper bounds for initial conditions\n",
    "k_star = solow.cobb_douglas.analytic_steady_state(cobb_douglas_model)\n",
    "k_l = 0.5 * k_star\n",
    "k_u = 2.0 * k_star\n",
    "\n",
    "for k0 in np.linspace(k_l, k_u, 5):\n",
    "\n",
    "    # compute the solution\n",
    "    ti = np.linspace(0, 100, 1000)\n",
    "    analytic_traj = solow.cobb_douglas.analytic_solution(cobb_douglas_model, ti, k0)\n",
    "    \n",
    "    # plot this trajectory\n",
    "    ax.plot(ti, analytic_traj[:,1])\n",
    "\n",
    "# equilibrium value of capital stock (per unit effective labor)\n",
    "ax.axhline(k_star, linestyle='dashed', color='k', label='$k^*$')\n",
    "\n",
    "# axes, labels, title, etc\n",
    "ax.set_xlabel('Time, $t$', fontsize=15, family='serif')\n",
    "ax.set_ylabel('$k(t)$', rotation='horizontal', fontsize=20, family='serif')\n",
    "ax.set_title('Analytic solution to a Solow model\\nwith Cobb-Douglas production',\n",
    "             fontsize=20, family='serif')\n",
    "ax.legend(loc=0, frameon=False, bbox_to_anchor=(1.0, 1.0))\n",
    "ax.grid('on')\n",
    "\n",
    "plt.show()"
   ]
  },
  {
   "cell_type": "code",
   "execution_count": null,
   "metadata": {
    "collapsed": false
   },
   "outputs": [],
   "source": [
    "k0 = 0.5 * ces_model.steady_state\n",
    "numeric_trajectory = ces_model.ivp.solve(t0=0, y0=k0, h=0.5, T=100, integrator='dopri5')\n",
    "\n",
    "ti = numeric_trajectory[:,0]\n",
    "linearized_trajectory = ces_model.linearized_solution(ti, k0)\n"
   ]
  },
  {
   "cell_type": "markdown",
   "metadata": {},
   "source": [
    "### 4.3.2 Accuracy of finite-difference methods"
   ]
  },
  {
   "cell_type": "code",
   "execution_count": null,
   "metadata": {
    "collapsed": false
   },
   "outputs": [],
   "source": [
    "t0, k0 = 0.0, 0.5\n",
    "numeric_soln = cobb_douglas_model.ivp.solve(t0, k0, T=100, integrator='lsoda')"
   ]
  },
  {
   "cell_type": "code",
   "execution_count": null,
   "metadata": {
    "collapsed": false
   },
   "outputs": [],
   "source": [
    "fig, ax = plt.subplots(1, 1, figsize=(8,6))\n",
    "\n",
    "# compute and plot the numeric approximation\n",
    "t0, k0 = 0.0, 0.5\n",
    "numeric_soln = cobb_douglas_model.ivp.solve(t0, k0, T=100, integrator='lsoda')\n",
    "ax.plot(numeric_soln[:,0], numeric_soln[:,1], 'bo', markersize=3.0)\n",
    "\n",
    "# compute and plot the analytic solution\n",
    "ti = np.linspace(0, 100, 1000)\n",
    "analytic_soln = solow.cobb_douglas.analytic_solution(cobb_douglas_model, ti, k0)\n",
    "ax.plot(ti, analytic_soln[:,1], 'r-')\n",
    "\n",
    "# equilibrium value of capital stock (per unit effective labor)\n",
    "k_star = solow.cobb_douglas.analytic_steady_state(cobb_douglas_model)\n",
    "ax.axhline(k_star, linestyle='dashed', color='k', label='$k^*$')\n",
    "\n",
    "# axes, labels, title, etc\n",
    "ax.set_xlabel('Time, $t$', fontsize=15, family='serif')\n",
    "ax.set_ylabel('$k(t)$', rotation='horizontal', fontsize=20, family='serif')\n",
    "ax.set_title('Numerical approximation of the solution',\n",
    "             fontsize=20, family='serif')\n",
    "ax.legend(loc=0, frameon=False, bbox_to_anchor=(1.0, 1.0))\n",
    "ax.grid('on')\n",
    "\n",
    "plt.show()"
   ]
  },
  {
   "cell_type": "code",
   "execution_count": null,
   "metadata": {
    "collapsed": false
   },
   "outputs": [],
   "source": [
    "ti = np.linspace(0, 100, 1000)\n",
    "interpolated_soln = cobb_douglas_model.ivp.interpolate(numeric_soln, ti, k=3)"
   ]
  },
  {
   "cell_type": "code",
   "execution_count": null,
   "metadata": {
    "collapsed": false
   },
   "outputs": [],
   "source": [
    "fig, ax = plt.subplots(1, 1, figsize=(8,6))\n",
    "\n",
    "# compute and plot the numeric approximation\n",
    "ti = np.linspace(0, 100, 1000)\n",
    "interpolated_soln = cobb_douglas_model.ivp.interpolate(numeric_soln, ti, k=3)\n",
    "ax.plot(ti, interpolated_soln[:,1], 'b-')\n",
    "\n",
    "# compute and plot the analytic solution\n",
    "analytic_soln = solow.cobb_douglas.analytic_solution(cobb_douglas_model, ti, k0)\n",
    "ax.plot(ti, analytic_soln[:,1], 'r-')\n",
    "\n",
    "# equilibrium value of capital stock (per unit effective labor)\n",
    "k_star = solow.cobb_douglas.analytic_steady_state(cobb_douglas_model)\n",
    "ax.axhline(k_star, linestyle='dashed', color='k', label='$k^*$')\n",
    "\n",
    "# axes, labels, title, etc\n",
    "ax.set_xlabel('Time, $t$', fontsize=15, family='serif')\n",
    "ax.set_ylabel('$k(t)$', rotation='horizontal', fontsize=20, family='serif')\n",
    "ax.set_title('Numerical approximation of the solution',\n",
    "             fontsize=20, family='serif')\n",
    "ax.legend(loc=0, frameon=False, bbox_to_anchor=(1.0, 1.0))\n",
    "ax.grid('on')\n",
    "\n",
    "plt.show()"
   ]
  },
  {
   "cell_type": "code",
   "execution_count": null,
   "metadata": {
    "collapsed": false
   },
   "outputs": [],
   "source": []
  },
  {
   "cell_type": "code",
   "execution_count": null,
   "metadata": {
    "collapsed": false
   },
   "outputs": [],
   "source": [
    "ti = np.linspace(0, 100, 1000)\n",
    "residual = cobb_douglas_model.ivp.compute_residual(numeric_soln, ti, k=3)"
   ]
  },
  {
   "cell_type": "code",
   "execution_count": null,
   "metadata": {
    "collapsed": false
   },
   "outputs": [],
   "source": [
    "# extract the raw residuals\n",
    "capital_residual = residual[:, 1]\n",
    "\n",
    "# typically, normalize residual by the level of the variable\n",
    "norm_capital_residual = np.abs(capital_residual) / interpolated_soln[:,1]\n",
    "\n",
    "# create the plot\n",
    "fig = plt.figure(figsize=(8, 6))\n",
    "plt.plot(ti, norm_capital_residual, 'b-', label='$k(t)$')\n",
    "plt.axhline(np.finfo('float').eps, linestyle='dashed', color='k', label='Machine eps')\n",
    "plt.xlabel('Time', fontsize=15)\n",
    "plt.ylim(1e-16, 1)\n",
    "plt.ylabel('Residuals (normalized)', fontsize=15, family='serif')\n",
    "plt.yscale('log')\n",
    "plt.title('Residual', fontsize=20, family='serif')\n",
    "plt.grid()\n",
    "plt.legend(loc=0, frameon=False, bbox_to_anchor=(1.0,1.0))\n",
    "plt.show()"
   ]
  },
  {
   "cell_type": "code",
   "execution_count": null,
   "metadata": {
    "collapsed": false
   },
   "outputs": [],
   "source": []
  }
 ],
 "metadata": {
  "kernelspec": {
   "display_name": "Python 2",
   "language": "python",
   "name": "python2"
  },
  "language_info": {
   "codemirror_mode": {
    "name": "ipython",
    "version": 2
   },
   "file_extension": ".py",
   "mimetype": "text/x-python",
   "name": "python",
   "nbconvert_exporter": "python",
   "pygments_lexer": "ipython2",
   "version": "2.7.9"
  }
 },
 "nbformat": 4,
 "nbformat_minor": 0
}
