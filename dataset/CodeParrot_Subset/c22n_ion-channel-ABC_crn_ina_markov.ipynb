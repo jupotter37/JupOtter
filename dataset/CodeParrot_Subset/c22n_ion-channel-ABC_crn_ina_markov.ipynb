{
 "cells": [
  {
   "cell_type": "markdown",
   "metadata": {},
   "source": [
    "## Create and test ion channel model"
   ]
  },
  {
   "cell_type": "code",
   "execution_count": 1,
   "metadata": {},
   "outputs": [
    {
     "name": "stderr",
     "output_type": "stream",
     "text": [
      "INFO:myokit:Loading Myokit version 1.28.3\n"
     ]
    }
   ],
   "source": [
    "from channels.cm_ina_markov import (protocols,\n",
    "                                    observations,\n",
    "                                    simulations,\n",
    "                                    times,\n",
    "                                    summary_statistics)"
   ]
  },
  {
   "cell_type": "code",
   "execution_count": 2,
   "metadata": {},
   "outputs": [],
   "source": [
    "from functools import wraps\n",
    "\n",
    "def simulate_model(**pars):\n",
    "    \"\"\"Wrapper function around simulations.\"\"\"\n",
    "    data = []\n",
    "    for sim, time in zip(simulations, times):\n",
    "        for p, v in pars.items():\n",
    "            try:\n",
    "                sim.set_constant(p, v)\n",
    "            except:\n",
    "                raise RuntimeWarning('Could not set value of {}'.format(p))\n",
    "                return None\n",
    "        sim.reset()\n",
    "        try:\n",
    "            data.append(sim.run(time, log=['environment.time','ina.i_Na','ina.g','ina.m','ina.h','membrane.V']))\n",
    "        except:\n",
    "            # Failed simulation\n",
    "            del(data)\n",
    "            return None\n",
    "    return data\n",
    "\n",
    "def log_transform(f):\n",
    "    @wraps(f)\n",
    "    def log_transformed(**log_kwargs):\n",
    "        kwargs = dict([(key[4:], 10**value) if key.startswith(\"log\")\n",
    "                       else (key, value)\n",
    "                       for key, value in log_kwargs.items()])\n",
    "        return f(**kwargs)\n",
    "    return log_transformed\n",
    "\n",
    "def log_model(x):\n",
    "    return log_transform(simulate_model)(**x)"
   ]
  },
  {
   "cell_type": "code",
   "execution_count": 3,
   "metadata": {},
   "outputs": [],
   "source": [
    "test = simulate_model()"
   ]
  },
  {
   "cell_type": "code",
   "execution_count": 4,
   "metadata": {
    "scrolled": false
   },
   "outputs": [],
   "source": [
    "ss = summary_statistics(test)"
   ]
  },
  {
   "cell_type": "code",
   "execution_count": 5,
   "metadata": {},
   "outputs": [],
   "source": [
    "assert(len(ss)==len(observations))"
   ]
  },
  {
   "cell_type": "code",
   "execution_count": 6,
   "metadata": {},
   "outputs": [
    {
     "data": {
      "text/plain": [
       "[<matplotlib.lines.Line2D at 0x7fe298359f98>]"
      ]
     },
     "execution_count": 6,
     "metadata": {},
     "output_type": "execute_result"
    },
    {
     "data": {
      "image/png": "[encoded data removed]",
      "text/plain": [
       "<Figure size 432x288 with 1 Axes>"
      ]
     },
     "metadata": {
      "needs_background": "light"
     },
     "output_type": "display_data"
    }
   ],
   "source": [
    "import matplotlib.pyplot as plt\n",
    "key = observations.exp_id=='0'\n",
    "plt.plot(observations[key].x, observations[key].y, '.')\n",
    "plt.plot(observations[key].x, list(ss.values())[:13])"
   ]
  },
  {
   "cell_type": "markdown",
   "metadata": {},
   "source": [
    "## Set limits and generate uniform initial priors"
   ]
  },
  {
   "cell_type": "code",
   "execution_count": 7,
   "metadata": {},
   "outputs": [],
   "source": [
    "from pyabc import Distribution, RV\n",
    "limits = {'log_ina.p_1': (-7., 3.),\n",
    "          'ina.p_2': (1e-7, 0.4),\n",
    "          'log_ina.p_3': (-7., 3.),\n",
    "          'ina.p_4': (1e-7, 0.4),\n",
    "          'log_ina.p_5': (-7., 3.),\n",
    "          'ina.p_6': (1e-7, 0.4),\n",
    "          'log_ina.p_7': (-7., 3.),\n",
    "          'ina.p_8': (1e-7, 0.4)}\n",
    "prior = Distribution(**{key: RV(\"uniform\", a, b - a)\n",
    "                        for key, (a,b) in limits.items()})"
   ]
  },
  {
   "cell_type": "code",
   "execution_count": 8,
   "metadata": {
    "scrolled": true
   },
   "outputs": [
    {
     "name": "stdout",
     "output_type": "stream",
     "text": [
      "<Parameter 'log_ina.p_1': -4.730772158126457, 'ina.p_2': 0.11538931843749385, 'log_ina.p_3': -1.657933373606971, 'ina.p_4': 0.2246286185257344, 'log_ina.p_5': 2.6313573175611538, 'ina.p_6': 0.09271178987141845, 'log_ina.p_7': 1.8539034917104296, 'ina.p_8': 0.29622821126990845>\n"
     ]
    }
   ],
   "source": [
    "print(prior.rvs())\n",
    "test = log_model(prior.rvs())"
   ]
  },
  {
   "cell_type": "markdown",
   "metadata": {},
   "source": [
    "## Run ABC calibration"
   ]
  },
  {
   "cell_type": "code",
   "execution_count": 9,
   "metadata": {},
   "outputs": [
    {
     "name": "stdout",
     "output_type": "stream",
     "text": [
      "sqlite:////scratch/cph211/tmp/cm_ina_markov.db\n"
     ]
    }
   ],
   "source": [
    "import os, tempfile\n",
    "db_path = (\"sqlite:///\" +\n",
    "           os.path.join(tempfile.gettempdir(), \"cm_ina_markov.db\"))\n",
    "print(db_path)"
   ]
  },
  {
   "cell_type": "code",
   "execution_count": 10,
   "metadata": {},
   "outputs": [],
   "source": [
    "# Let's log all the sh!t\n",
    "import logging\n",
    "logging.basicConfig()\n",
    "abc_logger = logging.getLogger('ABC')\n",
    "abc_logger.setLevel(logging.DEBUG)\n",
    "eps_logger = logging.getLogger('Epsilon')\n",
    "eps_logger.setLevel(logging.DEBUG)\n",
    "cv_logger = logging.getLogger('CV Estimation')\n",
    "cv_logger.setLevel(logging.DEBUG)"
   ]
  },
  {
   "cell_type": "code",
   "execution_count": 11,
   "metadata": {},
   "outputs": [
    {
     "name": "stdout",
     "output_type": "stream",
     "text": [
      "Theoretical minimum population size is 256 particles\n"
     ]
    }
   ],
   "source": [
    "from pyabc.populationstrategy import AdaptivePopulationSize, ConstantPopulationSize\n",
    "from ionchannelABC import theoretical_population_size\n",
    "pop_size = theoretical_population_size(2, len(limits))\n",
    "print(\"Theoretical minimum population size is {} particles\".format(pop_size))"
   ]
  },
  {
   "cell_type": "code",
   "execution_count": 12,
   "metadata": {
    "scrolled": true
   },
   "outputs": [
    {
     "name": "stderr",
     "output_type": "stream",
     "text": [
      "DEBUG:ABC:ion channel weights: {'0': 1.5585327376534017, '1': 1.5585327376534017, '2': 1.5585327376534017, '3': 1.5585327376534017, '4': 1.5585327376534017, '5': 0.5922502978635686, '6': 0.48479560247060055, '7': 0.6880033400331257, '8': 0.9191724622842619, '9': 1.5585327376534017, '10': 1.5585327376534017, '11': 1.5585327376534017, '12': 1.5585327376534017, '13': 1.6660177540432917, '14': 1.6660177540432917, '15': 1.6660177540432917, '16': 1.6660177540432917, '17': 1.6660177540432917, '18': 0.6141022916123275, '19': 0.4000666394868585, '20': 0.46000171656354155, '21': 0.7676278645154099, '22': 1.6660177540432917, '23': 1.6660177540432917, '24': 0.02906218941217941, '25': 0.03367374906920667, '26': 0.03457895737751867, '27': 0.046999392320876986, '28': 0.08141374774960093, '29': 0.10610649611527939, '30': 0.20902979734710037, '31': 0.07785094873262584, '32': 0.2188793689498433, '33': 0.05927794792597441, '34': 0.11670345997926211, '35': 0.16237003127549512, '36': 0.2667507656668848, '37': 1.988472803212961, '38': 1.988472803212961, '39': 1.988472803212961, '40': 1.988472803212961, '41': 1.988472803212961}\n",
      "DEBUG:Epsilon:init quantile_epsilon initial_epsilon=20, quantile_multiplier=1\n"
     ]
    }
   ],
   "source": [
    "from pyabc import ABCSMC\n",
    "from pyabc.epsilon import MedianEpsilon\n",
    "from pyabc.sampler import MulticoreEvalParallelSampler, SingleCoreSampler\n",
    "from ionchannelABC import IonChannelDistance, EfficientMultivariateNormalTransition, IonChannelAcceptor\n",
    "\n",
    "abc = ABCSMC(models=log_model,\n",
    "             parameter_priors=prior,\n",
    "             distance_function=IonChannelDistance(\n",
    "                 exp_id=list(observations.exp_id),\n",
    "                 variance=list(observations.variance),\n",
    "                 delta=0.05),\n",
    "             population_size=ConstantPopulationSize(5000),\n",
    "             #population_size=AdaptivePopulationSize(\n",
    "             #    start_nr_particles=10000,\n",
    "             #    mean_cv=0.4,\n",
    "             #    max_population_size=30000,\n",
    "             #    min_population_size=pop_size),\n",
    "             summary_statistics=summary_statistics,\n",
    "             transitions=EfficientMultivariateNormalTransition(),\n",
    "             eps=MedianEpsilon(initial_epsilon=20),\n",
    "             sampler=MulticoreEvalParallelSampler(n_procs=6),\n",
    "             acceptor=IonChannelAcceptor())"
   ]
  },
  {
   "cell_type": "code",
   "execution_count": 13,
   "metadata": {},
   "outputs": [],
   "source": [
    "obs = observations.to_dict()['y']\n",
    "obs = {str(k): v for k, v in obs.items()}"
   ]
  },
  {
   "cell_type": "code",
   "execution_count": 14,
   "metadata": {
    "scrolled": true
   },
   "outputs": [
    {
     "name": "stderr",
     "output_type": "stream",
     "text": [
      "INFO:History:Start <ABCSMC(id=6, start_time=2019-06-29 10:09:07.637847, end_time=None)>\n"
     ]
    }
   ],
   "source": [
    "abc_id = abc.new(db_path, obs)"
   ]
  },
  {
   "cell_type": "code",
   "execution_count": null,
   "metadata": {
    "scrolled": true
   },
   "outputs": [
    {
     "name": "stderr",
     "output_type": "stream",
     "text": [
      "INFO:ABC:t:0 eps:20\n",
      "DEBUG:ABC:now submitting population 0\n"
     ]
    }
   ],
   "source": [
    "history = abc.run(minimum_epsilon=0.1, max_nr_populations=100, min_acceptance_rate=0.001)"
   ]
  },
  {
   "cell_type": "markdown",
   "metadata": {},
   "source": [
    "# Results analysis"
   ]
  },
  {
   "cell_type": "code",
   "execution_count": 16,
   "metadata": {},
   "outputs": [],
   "source": [
    "from pyabc import History"
   ]
  },
  {
   "cell_type": "code",
   "execution_count": 17,
   "metadata": {},
   "outputs": [
    {
     "data": {
      "text/plain": [
       "[<ABCSMC(id=1, start_time=2019-06-18 14:52:12.431003, end_time=None)>,\n",
       " <ABCSMC(id=2, start_time=2019-06-18 20:11:26.143916, end_time=None)>,\n",
       " <ABCSMC(id=3, start_time=2019-06-18 20:29:22.954218, end_time=None)>,\n",
       " <ABCSMC(id=4, start_time=2019-06-19 10:20:59.428907, end_time=None)>,\n",
       " <ABCSMC(id=5, start_time=2019-06-29 10:08:20.338693, end_time=None)>,\n",
       " <ABCSMC(id=6, start_time=2019-06-29 10:09:07.637847, end_time=None)>]"
      ]
     },
     "execution_count": 17,
     "metadata": {},
     "output_type": "execute_result"
    }
   ],
   "source": [
    "history = History('sqlite:////scratch/cph211/tmp/cm_ina_markov.db')\n",
    "history.all_runs()"
   ]
  },
  {
   "cell_type": "code",
   "execution_count": 18,
   "metadata": {},
   "outputs": [],
   "source": [
    "history.id = 6"
   ]
  },
  {
   "cell_type": "code",
   "execution_count": 19,
   "metadata": {},
   "outputs": [],
   "source": [
    "df, w = history.get_distribution(m=0)"
   ]
  },
  {
   "cell_type": "code",
   "execution_count": 20,
   "metadata": {
    "scrolled": true
   },
   "outputs": [
    {
     "data": {
      "text/html": [
       "<div>\n",
       "<style scoped>\n",
       "    .dataframe tbody tr th:only-of-type {\n",
       "        vertical-align: middle;\n",
       "    }\n",
       "\n",
       "    .dataframe tbody tr th {\n",
       "        vertical-align: top;\n",
       "    }\n",
       "\n",
       "    .dataframe thead th {\n",
       "        text-align: right;\n",
       "    }\n",
       "</style>\n",
       "<table border=\"1\" class=\"dataframe\">\n",
       "  <thead>\n",
       "    <tr style=\"text-align: right;\">\n",
       "      <th>name</th>\n",
       "      <th>ina.p_2</th>\n",
       "      <th>ina.p_4</th>\n",
       "      <th>ina.p_6</th>\n",
       "      <th>ina.p_8</th>\n",
       "      <th>log_ina.p_1</th>\n",
       "      <th>log_ina.p_3</th>\n",
       "      <th>log_ina.p_5</th>\n",
       "      <th>log_ina.p_7</th>\n",
       "    </tr>\n",
       "  </thead>\n",
       "  <tbody>\n",
       "    <tr>\n",
       "      <th>count</th>\n",
       "      <td>5000.000000</td>\n",
       "      <td>5000.000000</td>\n",
       "      <td>5000.000000</td>\n",
       "      <td>5000.000000</td>\n",
       "      <td>5000.000000</td>\n",
       "      <td>5000.000000</td>\n",
       "      <td>5000.000000</td>\n",
       "      <td>5000.000000</td>\n",
       "    </tr>\n",
       "    <tr>\n",
       "      <th>mean</th>\n",
       "      <td>0.049582</td>\n",
       "      <td>0.035859</td>\n",
       "      <td>0.055313</td>\n",
       "      <td>0.080864</td>\n",
       "      <td>1.671760</td>\n",
       "      <td>-0.219698</td>\n",
       "      <td>0.479220</td>\n",
       "      <td>-3.887915</td>\n",
       "    </tr>\n",
       "    <tr>\n",
       "      <th>std</th>\n",
       "      <td>0.001082</td>\n",
       "      <td>0.001934</td>\n",
       "      <td>0.000556</td>\n",
       "      <td>0.000681</td>\n",
       "      <td>0.034047</td>\n",
       "      <td>0.046252</td>\n",
       "      <td>0.016921</td>\n",
       "      <td>0.025445</td>\n",
       "    </tr>\n",
       "    <tr>\n",
       "      <th>min</th>\n",
       "      <td>0.046032</td>\n",
       "      <td>0.029836</td>\n",
       "      <td>0.053545</td>\n",
       "      <td>0.078735</td>\n",
       "      <td>1.549543</td>\n",
       "      <td>-0.398926</td>\n",
       "      <td>0.423652</td>\n",
       "      <td>-3.972059</td>\n",
       "    </tr>\n",
       "    <tr>\n",
       "      <th>25%</th>\n",
       "      <td>0.048846</td>\n",
       "      <td>0.034449</td>\n",
       "      <td>0.054911</td>\n",
       "      <td>0.080376</td>\n",
       "      <td>1.650153</td>\n",
       "      <td>-0.250974</td>\n",
       "      <td>0.467000</td>\n",
       "      <td>-3.905972</td>\n",
       "    </tr>\n",
       "    <tr>\n",
       "      <th>50%</th>\n",
       "      <td>0.049610</td>\n",
       "      <td>0.035858</td>\n",
       "      <td>0.055316</td>\n",
       "      <td>0.080872</td>\n",
       "      <td>1.674283</td>\n",
       "      <td>-0.219722</td>\n",
       "      <td>0.479291</td>\n",
       "      <td>-3.888102</td>\n",
       "    </tr>\n",
       "    <tr>\n",
       "      <th>75%</th>\n",
       "      <td>0.050355</td>\n",
       "      <td>0.037270</td>\n",
       "      <td>0.055714</td>\n",
       "      <td>0.081346</td>\n",
       "      <td>1.695769</td>\n",
       "      <td>-0.188508</td>\n",
       "      <td>0.491190</td>\n",
       "      <td>-3.869600</td>\n",
       "    </tr>\n",
       "    <tr>\n",
       "      <th>max</th>\n",
       "      <td>0.052571</td>\n",
       "      <td>0.041473</td>\n",
       "      <td>0.056880</td>\n",
       "      <td>0.083155</td>\n",
       "      <td>1.760951</td>\n",
       "      <td>-0.061034</td>\n",
       "      <td>0.527093</td>\n",
       "      <td>-3.804887</td>\n",
       "    </tr>\n",
       "  </tbody>\n",
       "</table>\n",
       "</div>"
      ],
      "text/plain": [
       "name       ina.p_2      ina.p_4      ina.p_6      ina.p_8  log_ina.p_1  \\\n",
       "count  5000.000000  5000.000000  5000.000000  5000.000000  5000.000000   \n",
       "mean      0.049582     0.035859     0.055313     0.080864     1.671760   \n",
       "std       0.001082     0.001934     0.000556     0.000681     0.034047   \n",
       "min       0.046032     0.029836     0.053545     0.078735     1.549543   \n",
       "25%       0.048846     0.034449     0.054911     0.080376     1.650153   \n",
       "50%       0.049610     0.035858     0.055316     0.080872     1.674283   \n",
       "75%       0.050355     0.037270     0.055714     0.081346     1.695769   \n",
       "max       0.052571     0.041473     0.056880     0.083155     1.760951   \n",
       "\n",
       "name   log_ina.p_3  log_ina.p_5  log_ina.p_7  \n",
       "count  5000.000000  5000.000000  5000.000000  \n",
       "mean     -0.219698     0.479220    -3.887915  \n",
       "std       0.046252     0.016921     0.025445  \n",
       "min      -0.398926     0.423652    -3.972059  \n",
       "25%      -0.250974     0.467000    -3.905972  \n",
       "50%      -0.219722     0.479291    -3.888102  \n",
       "75%      -0.188508     0.491190    -3.869600  \n",
       "max      -0.061034     0.527093    -3.804887  "
      ]
     },
     "execution_count": 20,
     "metadata": {},
     "output_type": "execute_result"
    }
   ],
   "source": [
    "df.describe()"
   ]
  },
  {
   "cell_type": "code",
   "execution_count": 21,
   "metadata": {
    "scrolled": true
   },
   "outputs": [
    {
     "name": "stderr",
     "output_type": "stream",
     "text": [
      "/scratch/cph211/miniconda3/envs/ionchannelABC/lib/python3.7/site-packages/matplotlib/tight_layout.py:211: UserWarning: Tight layout not applied. tight_layout cannot make axes height small enough to accommodate all axes decorations\n",
      "  warnings.warn('Tight layout not applied. '\n",
      "/scratch/cph211/miniconda3/envs/ionchannelABC/lib/python3.7/site-packages/matplotlib/tight_layout.py:211: UserWarning: Tight layout not applied. tight_layout cannot make axes height small enough to accommodate all axes decorations\n",
      "  warnings.warn('Tight layout not applied. '\n",
      "/scratch/cph211/miniconda3/envs/ionchannelABC/lib/python3.7/site-packages/matplotlib/tight_layout.py:211: UserWarning: Tight layout not applied. tight_layout cannot make axes height small enough to accommodate all axes decorations\n",
      "  warnings.warn('Tight layout not applied. '\n",
      "/scratch/cph211/miniconda3/envs/ionchannelABC/lib/python3.7/site-packages/matplotlib/tight_layout.py:211: UserWarning: Tight layout not applied. tight_layout cannot make axes height small enough to accommodate all axes decorations\n",
      "  warnings.warn('Tight layout not applied. '\n",
      "/scratch/cph211/miniconda3/envs/ionchannelABC/lib/python3.7/site-packages/matplotlib/tight_layout.py:211: UserWarning: Tight layout not applied. tight_layout cannot make axes height small enough to accommodate all axes decorations\n",
      "  warnings.warn('Tight layout not applied. '\n"
     ]
    },
    {
     "data": {
      "image/png": "[encoded data removed]",
      "text/plain": [
       "<Figure size 518.4x345.6 with 8 Axes>"
      ]
     },
     "metadata": {},
     "output_type": "display_data"
    }
   ],
   "source": [
    "from ionchannelABC import plot_parameters_kde\n",
    "g = plot_parameters_kde(df, w, limits, aspect=12,height=0.6)"
   ]
  },
  {
   "cell_type": "markdown",
   "metadata": {},
   "source": [
    "# Samples for quantitative analysis"
   ]
  },
  {
   "cell_type": "code",
   "execution_count": 22,
   "metadata": {},
   "outputs": [],
   "source": [
    "# Generate parameter samples\n",
    "n_samples = 100\n",
    "df, w = history.get_distribution(m=0)\n",
    "th_samples = df.sample(n=n_samples, weights=w, replace=True).to_dict(orient='records')"
   ]
  },
  {
   "cell_type": "code",
   "execution_count": 9,
   "metadata": {},
   "outputs": [],
   "source": [
    "plotting_obs = observations.copy()"
   ]
  },
  {
   "cell_type": "code",
   "execution_count": 10,
   "metadata": {},
   "outputs": [],
   "source": [
    "plotting_obs.rename({'exp_id': 'exp', 'variance': 'errs'}, axis=1, inplace=True)"
   ]
  },
  {
   "cell_type": "code",
   "execution_count": 11,
   "metadata": {},
   "outputs": [],
   "source": [
    "import numpy as np\n",
    "plotting_obs['errs'] = np.sqrt(plotting_obs['errs'])"
   ]
  },
  {
   "cell_type": "code",
   "execution_count": 23,
   "metadata": {},
   "outputs": [],
   "source": [
    "# Generate sim results samples\n",
    "import pandas as pd\n",
    "samples = pd.DataFrame({})\n",
    "for i, th in enumerate(th_samples):\n",
    "    results = summary_statistics(log_model(th))\n",
    "    output = pd.DataFrame({'x': observations.x, 'y': list(results.values()),\n",
    "                           'exp_id': observations.exp_id})\n",
    "    #output = model.sample(pars=th, n_x=50)\n",
    "    output['sample'] = i\n",
    "    output['distribution'] = 'post'\n",
    "    samples = samples.append(output, ignore_index=True)"
   ]
  },
  {
   "cell_type": "code",
   "execution_count": 24,
   "metadata": {
    "scrolled": true
   },
   "outputs": [
    {
     "data": {
      "image/png": "[encoded data removed]",
      "text/plain": [
       "<Figure size 1888.53x360 with 5 Axes>"
      ]
     },
     "metadata": {},
     "output_type": "display_data"
    }
   ],
   "source": [
    "from ionchannelABC import plot_sim_results\n",
    "import seaborn as sns\n",
    "sns.set_context('talk')\n",
    "g = plot_sim_results(samples, obs=observations)\n",
    "\n",
    "# Set axis labels\n",
    "#xlabels = [\"voltage, mV\", \"voltage, mV\", \"voltage, mV\", \"time, ms\", \"time, ms\",\"voltage, mV\"]\n",
    "#ylabels = [\"current density, pA/pF\", \"activation\", \"inactivation\", \"recovery\", \"normalised current\",\"current density, pA/pF\"]\n",
    "#for ax, xl in zip(g.axes.flatten(), xlabels):\n",
    "#    ax.set_xlabel(xl)\n",
    "#for ax, yl in zip(g.axes.flatten(), ylabels):\n",
    "#    ax.set_ylabel(yl)"
   ]
  },
  {
   "cell_type": "code",
   "execution_count": 31,
   "metadata": {},
   "outputs": [],
   "source": [
    "#g.savefig('results/icat-generic/icat_sim_results.pdf')"
   ]
  },
  {
   "cell_type": "code",
   "execution_count": 51,
   "metadata": {},
   "outputs": [],
   "source": [
    "def plot_sim_results_all(samples: pd.DataFrame):\n",
    "    with sns.color_palette(\"gray\"):\n",
    "        grid = sns.relplot(x='x', y='y',\n",
    "                           col='exp',\n",
    "                           units='sample',\n",
    "                           kind='line',\n",
    "                           data=samples,\n",
    "                           estimator=None, lw=0.5,\n",
    "                           alpha=0.5,\n",
    "                           #estimator=np.median,\n",
    "                           facet_kws={'sharex': 'col',\n",
    "                                      'sharey': 'col'})\n",
    "    return grid"
   ]
  },
  {
   "cell_type": "code",
   "execution_count": 52,
   "metadata": {},
   "outputs": [
    {
     "data": {
      "image/png": "[encoded data removed]",
      "text/plain": [
       "<Figure size 1440x360 with 4 Axes>"
      ]
     },
     "metadata": {},
     "output_type": "display_data"
    }
   ],
   "source": [
    "grid2 = plot_sim_results_all(samples)"
   ]
  },
  {
   "cell_type": "code",
   "execution_count": 33,
   "metadata": {},
   "outputs": [],
   "source": [
    "#grid2.savefig('results/icat-generic/icat_sim_results_all.pdf')"
   ]
  },
  {
   "cell_type": "code",
   "execution_count": 35,
   "metadata": {},
   "outputs": [],
   "source": [
    "import numpy as np"
   ]
  },
  {
   "cell_type": "code",
   "execution_count": 42,
   "metadata": {},
   "outputs": [
    {
     "name": "stdout",
     "output_type": "stream",
     "text": [
      "-0.9792263129382246\n",
      "0.060452038127623814\n"
     ]
    }
   ],
   "source": [
    "# Mean current density\n",
    "print(np.mean(samples[samples.exp=='0'].groupby('sample').min()['y']))\n",
    "# Std current density\n",
    "print(np.std(samples[samples.exp=='0'].groupby('sample').min()['y']))"
   ]
  },
  {
   "cell_type": "code",
   "execution_count": 43,
   "metadata": {},
   "outputs": [],
   "source": [
    "import scipy.stats as st\n",
    "peak_current = samples[samples['exp']=='0'].groupby('sample').min()['y'].tolist()\n",
    "rv = st.rv_discrete(values=(peak_current, [1/len(peak_current),]*len(peak_current)))"
   ]
  },
  {
   "cell_type": "code",
   "execution_count": 44,
   "metadata": {},
   "outputs": [
    {
     "name": "stdout",
     "output_type": "stream",
     "text": [
      "median: -0.9929750589235674\n",
      "95% CI: (-1.0714884415582595, -0.8489199437971181)\n"
     ]
    }
   ],
   "source": [
    "print(\"median: {}\".format(rv.median()))\n",
    "print(\"95% CI: {}\".format(rv.interval(0.95)))"
   ]
  },
  {
   "cell_type": "code",
   "execution_count": 45,
   "metadata": {},
   "outputs": [
    {
     "name": "stdout",
     "output_type": "stream",
     "text": [
      "mean: -20.1\n",
      "STD: 0.7\n"
     ]
    }
   ],
   "source": [
    "# Voltage of peak current density\n",
    "idxs = samples[samples.exp=='0'].groupby('sample').idxmin()['y']\n",
    "print(\"mean: {}\".format(np.mean(samples.iloc[idxs]['x'])))\n",
    "print(\"STD: {}\".format(np.std(samples.iloc[idxs]['x'])))"
   ]
  },
  {
   "cell_type": "code",
   "execution_count": 46,
   "metadata": {},
   "outputs": [
    {
     "name": "stdout",
     "output_type": "stream",
     "text": [
      "median: -20.0\n",
      "95% CI: (-20.0, -20.0)\n"
     ]
    }
   ],
   "source": [
    "voltage_peak = samples.iloc[idxs]['x'].tolist()\n",
    "rv = st.rv_discrete(values=(voltage_peak, [1/len(voltage_peak),]*len(voltage_peak)))\n",
    "print(\"median: {}\".format(rv.median()))\n",
    "print(\"95% CI: {}\".format(rv.interval(0.95)))"
   ]
  },
  {
   "cell_type": "code",
   "execution_count": 48,
   "metadata": {},
   "outputs": [],
   "source": [
    "# Half activation potential\n",
    "# Fit of activation to Boltzmann equation\n",
    "from scipy.optimize import curve_fit\n",
    "grouped = samples[samples['exp']=='1'].groupby('sample')\n",
    "def fit_boltzmann(group):\n",
    "    def boltzmann(V, Vhalf, K):\n",
    "        return 1/(1+np.exp((Vhalf-V)/K))\n",
    "    guess = (-30, 10)\n",
    "    popt, _ = curve_fit(boltzmann, group.x, group.y)\n",
    "    return popt\n",
    "output = grouped.apply(fit_boltzmann).apply(pd.Series)"
   ]
  },
  {
   "cell_type": "code",
   "execution_count": 49,
   "metadata": {},
   "outputs": [
    {
     "name": "stdout",
     "output_type": "stream",
     "text": [
      "0   -33.399071\n",
      "1     5.739255\n",
      "dtype: float64\n",
      "0    0.823473\n",
      "1    0.366996\n",
      "dtype: float64\n"
     ]
    }
   ],
   "source": [
    "print(np.mean(output))\n",
    "print(np.std(output))"
   ]
  },
  {
   "cell_type": "code",
   "execution_count": 50,
   "metadata": {},
   "outputs": [
    {
     "name": "stdout",
     "output_type": "stream",
     "text": [
      "median: -33.407394098238164\n",
      "95% CI: (-34.93130871417603, -31.973122716861205)\n"
     ]
    }
   ],
   "source": [
    "Vhalf = output[0].tolist()\n",
    "rv = st.rv_discrete(values=(Vhalf, [1/len(Vhalf),]*len(Vhalf)))\n",
    "print(\"median: {}\".format(rv.median()))\n",
    "print(\"95% CI: {}\".format(rv.interval(0.95)))"
   ]
  },
  {
   "cell_type": "code",
   "execution_count": 51,
   "metadata": {},
   "outputs": [
    {
     "name": "stdout",
     "output_type": "stream",
     "text": [
      "median: 5.728938366573993\n",
      "95% CI: (5.117385157850234, 6.485585591389819)\n"
     ]
    }
   ],
   "source": [
    "slope = output[1].tolist()\n",
    "rv = st.rv_discrete(values=(slope, [1/len(slope),]*len(slope)))\n",
    "print(\"median: {}\".format(rv.median()))\n",
    "print(\"95% CI: {}\".format(rv.interval(0.95)))"
   ]
  },
  {
   "cell_type": "code",
   "execution_count": 52,
   "metadata": {},
   "outputs": [],
   "source": [
    "# Half activation potential\n",
    "grouped = samples[samples['exp']=='2'].groupby('sample')\n",
    "def fit_boltzmann(group):\n",
    "    def boltzmann(V, Vhalf, K):\n",
    "        return 1-1/(1+np.exp((Vhalf-V)/K))\n",
    "    guess = (-100, 10)\n",
    "    popt, _ = curve_fit(boltzmann, group.x, group.y,\n",
    "                        bounds=([-100, 1], [0, 30]))\n",
    "    return popt\n",
    "output = grouped.apply(fit_boltzmann).apply(pd.Series)"
   ]
  },
  {
   "cell_type": "code",
   "execution_count": 53,
   "metadata": {},
   "outputs": [
    {
     "name": "stdout",
     "output_type": "stream",
     "text": [
      "0   -49.011222\n",
      "1     4.399126\n",
      "dtype: float64\n",
      "0    0.613833\n",
      "1    0.306758\n",
      "dtype: float64\n"
     ]
    }
   ],
   "source": [
    "print(np.mean(output))\n",
    "print(np.std(output))"
   ]
  },
  {
   "cell_type": "code",
   "execution_count": 54,
   "metadata": {},
   "outputs": [
    {
     "name": "stdout",
     "output_type": "stream",
     "text": [
      "median: -49.01404281457659\n",
      "95% CI: (-50.06478757419054, -47.57952101705519)\n"
     ]
    }
   ],
   "source": [
    "Vhalf = output[0].tolist()\n",
    "rv = st.rv_discrete(values=(Vhalf, [1/len(Vhalf),]*len(Vhalf)))\n",
    "print(\"median: {}\".format(rv.median()))\n",
    "print(\"95% CI: {}\".format(rv.interval(0.95)))"
   ]
  },
  {
   "cell_type": "code",
   "execution_count": 55,
   "metadata": {},
   "outputs": [
    {
     "name": "stdout",
     "output_type": "stream",
     "text": [
      "median: 4.420440009120772\n",
      "95% CI: (3.7821747606540193, 4.959106709731536)\n"
     ]
    }
   ],
   "source": [
    "slope = output[1].tolist()\n",
    "rv = st.rv_discrete(values=(slope, [1/len(slope),]*len(slope)))\n",
    "print(\"median: {}\".format(rv.median()))\n",
    "print(\"95% CI: {}\".format(rv.interval(0.95)))"
   ]
  },
  {
   "cell_type": "code",
   "execution_count": 56,
   "metadata": {},
   "outputs": [],
   "source": [
    "# Recovery time constant\n",
    "grouped = samples[samples.exp=='3'].groupby('sample')\n",
    "def fit_single_exp(group):\n",
    "    def single_exp(t, I_max, tau):\n",
    "        return I_max*(1-np.exp(-t/tau))\n",
    "    guess = (1, 50)\n",
    "    popt, _ = curve_fit(single_exp, group.x, group.y, guess)\n",
    "    return popt[1]\n",
    "output = grouped.apply(fit_single_exp)"
   ]
  },
  {
   "cell_type": "code",
   "execution_count": 57,
   "metadata": {
    "scrolled": true
   },
   "outputs": [
    {
     "name": "stdout",
     "output_type": "stream",
     "text": [
      "114.50830523453935\n",
      "5.781251582667316\n"
     ]
    }
   ],
   "source": [
    "print(np.mean(output))\n",
    "print(np.std(output))"
   ]
  },
  {
   "cell_type": "code",
   "execution_count": 58,
   "metadata": {},
   "outputs": [
    {
     "name": "stdout",
     "output_type": "stream",
     "text": [
      "median: 113.75533911706513\n",
      "95% CI: (104.11137902797657, 125.98102619971708)\n"
     ]
    }
   ],
   "source": [
    "tau = output.tolist()\n",
    "rv = st.rv_discrete(values=(tau, [1/len(tau),]*len(tau)))\n",
    "print(\"median: {}\".format(rv.median()))\n",
    "print(\"95% CI: {}\".format(rv.interval(0.95)))"
   ]
  },
  {
   "cell_type": "code",
   "execution_count": null,
   "metadata": {},
   "outputs": [],
   "source": []
  }
 ],
 "metadata": {
  "kernelspec": {
   "display_name": "Python 3",
   "language": "python",
   "name": "python3"
  },
  "language_info": {
   "codemirror_mode": {
    "name": "ipython",
    "version": 3
   },
   "file_extension": ".py",
   "mimetype": "text/x-python",
   "name": "python",
   "nbconvert_exporter": "python",
   "pygments_lexer": "ipython3",
   "version": "3.7.3"
  }
 },
 "nbformat": 4,
 "nbformat_minor": 2
}
