{
 "cells": [
  {
   "cell_type": "code",
   "execution_count": 1,
   "metadata": {
    "collapsed": true
   },
   "outputs": [],
   "source": [
    "from itertools import product, starmap\n",
    "import operator as op\n"
   ]
  },
  {
   "cell_type": "markdown",
   "metadata": {},
   "source": [
    "### product\n",
    "- 笛卡尔积"
   ]
  },
  {
   "cell_type": "code",
   "execution_count": 2,
   "metadata": {},
   "outputs": [
    {
     "data": {
      "text/plain": [
       "[('A', 0), ('A', 1), ('B', 0), ('B', 1), ('C', 0), ('C', 1)]"
      ]
     },
     "execution_count": 2,
     "metadata": {},
     "output_type": "execute_result"
    }
   ],
   "source": [
    "list(product('ABC', range(2)))"
   ]
  },
  {
   "cell_type": "markdown",
   "metadata": {},
   "source": [
    "### enumerate"
   ]
  },
  {
   "cell_type": "code",
   "execution_count": 20,
   "metadata": {},
   "outputs": [
    {
     "data": {
      "text/plain": [
       "['AA', 'BBB', 'CCCC']"
      ]
     },
     "execution_count": 20,
     "metadata": {},
     "output_type": "execute_result"
    }
   ],
   "source": [
    "list(starmap(op.mul, enumerate('ABC', start=2)))"
   ]
  },
  {
   "cell_type": "code",
   "execution_count": 4,
   "metadata": {},
   "outputs": [
    {
     "name": "stdout",
     "output_type": "stream",
     "text": [
      "Help on class lock in module _thread:\n",
      "\n",
      "class lock(builtins.object)\n",
      " |  A lock object is a synchronization primitive.  To create a lock,\n",
      " |  call threading.Lock().  Methods are:\n",
      " |  \n",
      " |  acquire() -- lock the lock, possibly blocking until it can be obtained\n",
      " |  release() -- unlock of the lock\n",
      " |  locked() -- test whether the lock is currently locked\n",
      " |  \n",
      " |  A lock is not owned by the thread that locked it; another thread may\n",
      " |  unlock it.  A thread attempting to lock a lock that it has already locked\n",
      " |  will block until another thread unlocks it.  Deadlocks may ensue.\n",
      " |  \n",
      " |  Methods defined here:\n",
      " |  \n",
      " |  __enter__(...)\n",
      " |      acquire(blocking=True, timeout=-1) -> bool\n",
      " |      (acquire_lock() is an obsolete synonym)\n",
      " |      \n",
      " |      Lock the lock.  Without argument, this blocks if the lock is already\n",
      " |      locked (even by the same thread), waiting for another thread to release\n",
      " |      the lock, and return True once the lock is acquired.\n",
      " |      With an argument, this will only block if the argument is true,\n",
      " |      and the return value reflects whether the lock is acquired.\n",
      " |      The blocking operation is interruptible.\n",
      " |  \n",
      " |  __exit__(...)\n",
      " |      release()\n",
      " |      (release_lock() is an obsolete synonym)\n",
      " |      \n",
      " |      Release the lock, allowing another thread that is blocked waiting for\n",
      " |      the lock to acquire the lock.  The lock must be in the locked state,\n",
      " |      but it needn't be locked by the same thread that unlocks it.\n",
      " |  \n",
      " |  __repr__(self, /)\n",
      " |      Return repr(self).\n",
      " |  \n",
      " |  acquire(...)\n",
      " |      acquire(blocking=True, timeout=-1) -> bool\n",
      " |      (acquire_lock() is an obsolete synonym)\n",
      " |      \n",
      " |      Lock the lock.  Without argument, this blocks if the lock is already\n",
      " |      locked (even by the same thread), waiting for another thread to release\n",
      " |      the lock, and return True once the lock is acquired.\n",
      " |      With an argument, this will only block if the argument is true,\n",
      " |      and the return value reflects whether the lock is acquired.\n",
      " |      The blocking operation is interruptible.\n",
      " |  \n",
      " |  acquire_lock(...)\n",
      " |      acquire(blocking=True, timeout=-1) -> bool\n",
      " |      (acquire_lock() is an obsolete synonym)\n",
      " |      \n",
      " |      Lock the lock.  Without argument, this blocks if the lock is already\n",
      " |      locked (even by the same thread), waiting for another thread to release\n",
      " |      the lock, and return True once the lock is acquired.\n",
      " |      With an argument, this will only block if the argument is true,\n",
      " |      and the return value reflects whether the lock is acquired.\n",
      " |      The blocking operation is interruptible.\n",
      " |  \n",
      " |  locked(...)\n",
      " |      locked() -> bool\n",
      " |      (locked_lock() is an obsolete synonym)\n",
      " |      \n",
      " |      Return whether the lock is in the locked state.\n",
      " |  \n",
      " |  locked_lock(...)\n",
      " |      locked() -> bool\n",
      " |      (locked_lock() is an obsolete synonym)\n",
      " |      \n",
      " |      Return whether the lock is in the locked state.\n",
      " |  \n",
      " |  release(...)\n",
      " |      release()\n",
      " |      (release_lock() is an obsolete synonym)\n",
      " |      \n",
      " |      Release the lock, allowing another thread that is blocked waiting for\n",
      " |      the lock to acquire the lock.  The lock must be in the locked state,\n",
      " |      but it needn't be locked by the same thread that unlocks it.\n",
      " |  \n",
      " |  release_lock(...)\n",
      " |      release()\n",
      " |      (release_lock() is an obsolete synonym)\n",
      " |      \n",
      " |      Release the lock, allowing another thread that is blocked waiting for\n",
      " |      the lock to acquire the lock.  The lock must be in the locked state,\n",
      " |      but it needn't be locked by the same thread that unlocks it.\n",
      "\n"
     ]
    }
   ],
   "source": [
    "import threading\n",
    "\n",
    "help(type(threading.Lock()))"
   ]
  }
 ],
 "metadata": {
  "kernelspec": {
   "display_name": "Python 3",
   "language": "python",
   "name": "python3"
  },
  "language_info": {
   "codemirror_mode": {
    "name": "ipython",
    "version": 3
   },
   "file_extension": ".py",
   "mimetype": "text/x-python",
   "name": "python",
   "nbconvert_exporter": "python",
   "pygments_lexer": "ipython3",
   "version": "3.6.1"
  }
 },
 "nbformat": 4,
 "nbformat_minor": 2
}
