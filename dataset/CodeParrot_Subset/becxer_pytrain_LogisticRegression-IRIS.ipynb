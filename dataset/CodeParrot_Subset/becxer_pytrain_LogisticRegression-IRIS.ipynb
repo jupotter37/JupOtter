{
 "cells": [
  {
   "cell_type": "code",
   "execution_count": 2,
   "metadata": {
    "collapsed": true
   },
   "outputs": [],
   "source": [
    "# \n",
    "# LogisticRegression Example\n",
    "#\n",
    "# @author becxer\n",
    "# @email becxer87@gmail.com\n",
    "#\n",
    "\n",
    "import numpy as np\n",
    "from pytrain.LogisticRegression import LogisticRegression\n",
    "from pytrain.lib import dataset\n",
    "from pytrain.lib import autotest"
   ]
  },
  {
   "cell_type": "code",
   "execution_count": 3,
   "metadata": {
    "collapsed": false
   },
   "outputs": [
    {
     "name": "stdout",
     "output_type": "stream",
     "text": [
      "Dataset sample_data/iris is already exist\n",
      "Dataset sample_data/iris is already exist\n"
     ]
    }
   ],
   "source": [
    "# Load IRIS data\n",
    "iris_mat_train, iris_label_train = dataset.load_iris(\"sample_data\", \"training\", one_hot=True)\n",
    "iris_mat_test, iris_label_test = dataset.load_iris(\"sample_data\", \"testing\", one_hot=True)"
   ]
  },
  {
   "cell_type": "code",
   "execution_count": 3,
   "metadata": {
    "collapsed": false
   },
   "outputs": [
    {
     "name": "stdout",
     "output_type": "stream",
     "text": [
      "train mat size (120, 4)\n",
      "train label size (120, 3)\n"
     ]
    }
   ],
   "source": [
    "# Confirm dataset size\n",
    "print (\"train mat size \" + str(np.array(iris_mat_train).shape))\n",
    "print (\"train label size \" + str(np.array(iris_label_train).shape))"
   ]
  },
  {
   "cell_type": "code",
   "execution_count": 4,
   "metadata": {
    "collapsed": true
   },
   "outputs": [],
   "source": [
    "# Train model\n",
    "logit_reg = LogisticRegression(iris_mat_train, iris_label_train)\n",
    "logit_reg.fit(lr = 0.0001, epoch = 10000, batch_size = 20)"
   ]
  },
  {
   "cell_type": "code",
   "execution_count": 5,
   "metadata": {
    "collapsed": false
   },
   "outputs": [
    {
     "name": "stdout",
     "output_type": "stream",
     "text": [
      "input : '['4.9', '3.0', '1.4']' --> predicted : '[1, 0, 0]' --? origin : '[1, 0, 0]'\n",
      "input : '['7.7', '3.8', '6.7']' --> predicted : '[0, 0, 1]' --? origin : '[0, 0, 1]'\n",
      "input : '['5.6', '3.0', '4.5']' --> predicted : '[0, 0, 1]' --? origin : '[0, 1, 0]'\n",
      "input : '['5.0', '3.4', '1.6']' --> predicted : '[1, 0, 0]' --? origin : '[1, 0, 0]'\n",
      "input : '['6.3', '2.8', '5.1']' --> predicted : '[0, 0, 1]' --? origin : '[0, 0, 1]'\n",
      "input : '['6.7', '3.1', '4.4']' --> predicted : '[1, 0, 0]' --? origin : '[0, 1, 0]'\n",
      "input : '['5.4', '3.9', '1.7']' --> predicted : '[1, 0, 0]' --? origin : '[1, 0, 0]'\n",
      "input : '['6.1', '2.6', '5.6']' --> predicted : '[0, 0, 1]' --? origin : '[0, 0, 1]'\n",
      "input : '['5.5', '2.6', '4.4']' --> predicted : '[0, 0, 1]' --? origin : '[0, 1, 0]'\n",
      "input : '['5.0', '3.5', '1.3']' --> predicted : '[1, 0, 0]' --? origin : '[1, 0, 0]'\n",
      "input : '['6.7', '3.1', '5.6']' --> predicted : '[0, 0, 1]' --? origin : '[0, 0, 1]'\n",
      "input : '['5.4', '3.0', '4.5']' --> predicted : '[0, 0, 1]' --? origin : '[0, 1, 0]'\n",
      "input : '['4.8', '3.0', '1.4']' --> predicted : '[1, 0, 0]' --? origin : '[1, 0, 0]'\n",
      "input : '['5.9', '3.0', '5.1']' --> predicted : '[0, 0, 1]' --? origin : '[0, 0, 1]'\n",
      "input : '['5.2', '2.7', '3.9']' --> predicted : '[1, 0, 0]' --? origin : '[0, 1, 0]'\n",
      "input : '['5.5', '4.2', '1.4']' --> predicted : '[1, 0, 0]' --? origin : '[1, 0, 0]'\n",
      "input : '['6.9', '3.1', '5.1']' --> predicted : '[0, 0, 1]' --? origin : '[0, 0, 1]'\n",
      "input : '['6.0', '3.4', '4.5']' --> predicted : '[1, 0, 0]' --? origin : '[0, 1, 0]'\n",
      "input : '['5.1', '3.8', '1.5']' --> predicted : '[1, 0, 0]' --? origin : '[1, 0, 0]'\n",
      "input : '['6.4', '2.8', '5.6']' --> predicted : '[0, 0, 1]' --? origin : '[0, 0, 1]'\n",
      "input : '['6.7', '3.0', '5.0']' --> predicted : '[0, 0, 1]' --? origin : '[0, 1, 0]'\n",
      "input : '['5.4', '3.9', '1.3']' --> predicted : '[1, 0, 0]' --? origin : '[1, 0, 0]'\n",
      "input : '['7.7', '2.8', '6.7']' --> predicted : '[0, 0, 1]' --? origin : '[0, 0, 1]'\n",
      "input : '['6.1', '2.8', '4.7']' --> predicted : '[0, 0, 1]' --? origin : '[0, 1, 0]'\n",
      "input : '['4.4', '2.9', '1.4']' --> predicted : '[1, 0, 0]' --? origin : '[1, 0, 0]'\n",
      "input : '['6.5', '3.2', '5.1']' --> predicted : '[0, 0, 1]' --? origin : '[0, 0, 1]'\n",
      "input : '['5.5', '2.5', '4.0']' --> predicted : '[1, 0, 0]' --? origin : '[0, 1, 0]'\n",
      "input : '['5.2', '3.5', '1.5']' --> predicted : '[1, 0, 0]' --? origin : '[1, 0, 0]'\n",
      "input : '['7.2', '3.6', '6.1']' --> predicted : '[0, 0, 1]' --? origin : '[0, 0, 1]'\n",
      "input : '['6.3', '3.3', '4.7']' --> predicted : '[1, 0, 0]' --? origin : '[0, 1, 0]'\n",
      "<LogisticRegression> error rate is 0.333333333333\n",
      "iris predict (with logistic regression) error rate :0.333333333333\n"
     ]
    }
   ],
   "source": [
    "# Auto-test model\n",
    "logging = True\n",
    "error_rate = autotest.eval_predict(logit_reg,\\\n",
    "                                iris_mat_test, iris_label_test,\\\n",
    "                                logging, one_hot=True)\n",
    "\n",
    "print(\"iris predict (with logistic regression) error rate :\" + str(error_rate))"
   ]
  }
 ],
 "metadata": {
  "kernelspec": {
   "display_name": "Python 2",
   "language": "python",
   "name": "python2"
  },
  "language_info": {
   "codemirror_mode": {
    "name": "ipython",
    "version": 2
   },
   "file_extension": ".py",
   "mimetype": "text/x-python",
   "name": "python",
   "nbconvert_exporter": "python",
   "pygments_lexer": "ipython2",
   "version": "2.7.12"
  }
 },
 "nbformat": 4,
 "nbformat_minor": 0
}
