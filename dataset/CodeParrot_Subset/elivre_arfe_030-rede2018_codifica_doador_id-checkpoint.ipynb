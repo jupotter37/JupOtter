{
 "cells": [
  {
   "cell_type": "markdown",
   "metadata": {},
   "source": [
    "# 035-rede2018_codifica_doador_id"
   ]
  },
  {
   "cell_type": "code",
   "execution_count": 1,
   "metadata": {},
   "outputs": [],
   "source": [
    "ano_eleicao = '2018'"
   ]
  },
  {
   "cell_type": "code",
   "execution_count": 2,
   "metadata": {},
   "outputs": [],
   "source": [
    "dbschema = f'rede{ano_eleicao}'\n",
    "dbschema_tse = f'tse{ano_eleicao}'\n",
    "\n",
    "table_receitas = f'{dbschema}.receitas_{ano_eleicao}'\n",
    "\n",
    "table_receitas_candidatos = f'{dbschema_tse}.receitas_candidatos_{ano_eleicao}'\n",
    "table_receitas_orgaos_partidarios = f'{dbschema_tse}.receitas_orgaos_partidarios_{ano_eleicao}'\n",
    "table_consulta_cand = f'{dbschema_tse}.consulta_cand_{ano_eleicao}'\n",
    "\n",
    "table_candidaturas = f\"{dbschema}.candidaturas_{ano_eleicao}\"\n",
    "table_municipios = f\"{dbschema}.municipios_{ano_eleicao}\"\n",
    "table_partidos = f'{dbschema}.partidos_{ano_eleicao}'\n",
    "table_orgaos_partidarios =  f\"{dbschema}.orgaos_partidarios_{ano_eleicao}\"\n",
    "table_origem_receitas = f'{dbschema}.origem_receitas_{ano_eleicao}'\n",
    "table_fonte_receitas = f'{dbschema}.fonte_receitas_{ano_eleicao}'"
   ]
  },
  {
   "cell_type": "code",
   "execution_count": null,
   "metadata": {},
   "outputs": [],
   "source": []
  },
  {
   "cell_type": "code",
   "execution_count": 3,
   "metadata": {},
   "outputs": [],
   "source": [
    "import os\n",
    "import sys\n",
    "sys.path.append('../')\n",
    "import mod_tse as mtse\n",
    "home = os.environ[\"HOME\"]"
   ]
  },
  {
   "cell_type": "code",
   "execution_count": 4,
   "metadata": {},
   "outputs": [],
   "source": [
    "mtse.execute_query(f'CREATE SCHEMA IF NOT EXISTS {dbschema};')"
   ]
  },
  {
   "cell_type": "code",
   "execution_count": 5,
   "metadata": {},
   "outputs": [],
   "source": [
    "copia_receitas = f\"\"\"\n",
    "DROP TABLE IF EXISTS  {table_receitas} CASCADE;\n",
    "create table {table_receitas} as\n",
    "select *  from {table_receitas}_codificada\n",
    ";\n",
    "\"\"\"\n",
    "mtse.execute_query(copia_receitas)"
   ]
  },
  {
   "cell_type": "code",
   "execution_count": null,
   "metadata": {},
   "outputs": [],
   "source": []
  },
  {
   "cell_type": "markdown",
   "metadata": {},
   "source": [
    "# Neilor, anota aí para a gente verificar a situação do Henrique Meireles em 2018, há um loop de 114 milhões (CA-->CA), acho que a auto-doação dele para ele foi de 45milh, não localizei a origem do restante.."
   ]
  },
  {
   "cell_type": "code",
   "execution_count": null,
   "metadata": {},
   "outputs": [],
   "source": []
  },
  {
   "cell_type": "code",
   "execution_count": 6,
   "metadata": {},
   "outputs": [],
   "source": [
    "query_update_doador_id_cnpj_de_candidato = f\"\"\"\n",
    "with candidatos as\n",
    "(\n",
    "select candidato_id, candidatura_id, sg_uf, nr_candidato, nr_cpf_candidato, nm_candidato, ds_cargo ,nr_cnpj_prestador_conta\n",
    "from {table_candidaturas}\n",
    ")\n",
    "update {table_receitas} as r\n",
    "    set doador_id      = c.candidato_id,\n",
    "        doador_tipo_cd = 'CD',\n",
    "        doador_tipo_ds = 'Candidato',\n",
    "        doador_candidatura_id = c.candidatura_id\n",
    "    from candidatos as c\n",
    "    where \n",
    "        doador_cpf_cnpj = c.nr_cnpj_prestador_conta\n",
    ";        \n",
    ";\n",
    "\n",
    "\n",
    "with candidatos as\n",
    "(\n",
    "select candidato_id, candidatura_id, sg_uf, nr_candidato, nr_cpf_candidato, nm_candidato, ds_cargo ,nr_cnpj_prestador_conta\n",
    "from {table_candidaturas}\n",
    ")\n",
    "update {table_receitas} as r\n",
    "    set doador_id      = c.candidato_id,\n",
    "        doador_tipo_cd = 'CD',\n",
    "        doador_tipo_ds = 'Candidato',\n",
    "        doador_candidatura_id = c.candidatura_id\n",
    "    from candidatos as c\n",
    "    where \n",
    "        doador_tipo_cd <> 'CD'\n",
    "        and\n",
    "        doador_cpf_cnpj = c.nr_cpf_candidato\n",
    ";\n",
    "\"\"\"\n",
    "\n",
    "mtse.execute_query(query_update_doador_id_cnpj_de_candidato)"
   ]
  },
  {
   "cell_type": "code",
   "execution_count": null,
   "metadata": {},
   "outputs": [],
   "source": []
  },
  {
   "cell_type": "markdown",
   "metadata": {},
   "source": [
    "### RECEITA DE ORGÃO PARTIDÁRIO"
   ]
  },
  {
   "cell_type": "code",
   "execution_count": null,
   "metadata": {},
   "outputs": [],
   "source": []
  },
  {
   "cell_type": "code",
   "execution_count": 7,
   "metadata": {},
   "outputs": [],
   "source": [
    "query_update_doadores_id_origem_RPP_OP_2014= f\"\"\"\n",
    "update {table_receitas}\n",
    "    set doador_id       =  op.receptor_id,\n",
    "        doador_tipo_cd  = 'OP',\n",
    "        doador_tipo_ds  = 'Órgão Partidário' \n",
    "    from (select receptor_id,prestador_contas_cnpj from  {table_receitas} where receptor_tipo_cd = 'OP' group by receptor_id,prestador_contas_cnpj) as op\n",
    "    where\n",
    "        {ano_eleicao} = '2014'\n",
    "        and\n",
    "        receita_origem_sg in ('RPP', 'ROC')\n",
    "        and \n",
    "        doador_tipo_cd = 'PJ'\n",
    "        and\n",
    "        doador_cpf_cnpj = op.prestador_contas_cnpj\n",
    ";\n",
    "\"\"\"\n",
    "\n",
    "mtse.execute_query(query_update_doadores_id_origem_RPP_OP_2014)"
   ]
  },
  {
   "cell_type": "code",
   "execution_count": null,
   "metadata": {},
   "outputs": [],
   "source": []
  },
  {
   "cell_type": "code",
   "execution_count": 8,
   "metadata": {},
   "outputs": [],
   "source": [
    "query_update_doadores_id_origem_RPP_OP_2018= f\"\"\"\n",
    "update {table_receitas}\n",
    "    set doador_id       =  op.receptor_id,\n",
    "        doador_tipo_cd  = 'OP',\n",
    "        doador_tipo_ds  = 'Órgão Partidário' \n",
    "    from (select receptor_id,prestador_contas_cnpj from  {table_receitas} where receptor_tipo_cd = 'OP' group by receptor_id,prestador_contas_cnpj) as op\n",
    "    where\n",
    "        {ano_eleicao} = '2018'\n",
    "        and\n",
    "        receita_origem_sg = 'RPP'\n",
    "        and \n",
    "        doador_tipo_cd = 'PJ'\n",
    "        and\n",
    "        doador_cpf_cnpj = op.prestador_contas_cnpj\n",
    ";\n",
    "\"\"\"\n",
    "\n",
    "mtse.execute_query(query_update_doadores_id_origem_RPP_OP_2018)"
   ]
  },
  {
   "cell_type": "code",
   "execution_count": 9,
   "metadata": {},
   "outputs": [
    {
     "data": {
      "text/html": [
       "<div>\n",
       "<style scoped>\n",
       "    .dataframe tbody tr th:only-of-type {\n",
       "        vertical-align: middle;\n",
       "    }\n",
       "\n",
       "    .dataframe tbody tr th {\n",
       "        vertical-align: top;\n",
       "    }\n",
       "\n",
       "    .dataframe thead th {\n",
       "        text-align: right;\n",
       "    }\n",
       "</style>\n",
       "<table border=\"1\" class=\"dataframe\">\n",
       "  <thead>\n",
       "    <tr style=\"text-align: right;\">\n",
       "      <th></th>\n",
       "      <th>count</th>\n",
       "    </tr>\n",
       "  </thead>\n",
       "  <tbody>\n",
       "    <tr>\n",
       "      <th>0</th>\n",
       "      <td>2628</td>\n",
       "    </tr>\n",
       "  </tbody>\n",
       "</table>\n",
       "</div>"
      ],
      "text/plain": [
       "   count\n",
       "0   2628"
      ]
     },
     "execution_count": 9,
     "metadata": {},
     "output_type": "execute_result"
    }
   ],
   "source": [
    "mtse.pandas_query(f\"\"\"\n",
    "select count(*) from {table_receitas}\n",
    "where\n",
    "receita_origem_sg in ('RPP')\n",
    "and\n",
    "doador_tipo_cd = 'PJ'\"\"\")"
   ]
  },
  {
   "cell_type": "code",
   "execution_count": 10,
   "metadata": {},
   "outputs": [],
   "source": [
    "query_update_doador_id_RPP_OP_2014 = f\"\"\"\n",
    "\n",
    "update {table_receitas} as r\n",
    "    set doador_id      = get_orgao_partidario_id(doador_cpf_cnpj),\n",
    "        doador_tipo_cd = 'OP',\n",
    "        doador_tipo_ds = 'Órgão Partidário' \n",
    "    where\n",
    "        {ano_eleicao} = '2014'\n",
    "        and\n",
    "        receita_origem_sg in ('RPP', 'ROC')\n",
    "        and doador_tipo_cd = 'PJ'\n",
    "        and upper(doador_nome_rfb) not like '%ELEI%'\n",
    "        and\n",
    "        (\n",
    "               upper(doador_nome_rfb) like '%COMISSAO%'\n",
    "            or upper(doador_nome_rfb) like '%COMITE%'\n",
    "            or upper(doador_nome_rfb) like '%DEMOCRATAS%'\n",
    "            or upper(doador_nome_rfb) like '%DIRECAO%'\n",
    "            or upper(doador_nome_rfb) like '%DIRETORIO%'\n",
    "            or upper(doador_nome_rfb) like '%PARTIDO%'\n",
    "        )    \n",
    "\"\"\"    \n",
    "\n",
    "mtse.execute_query(query_update_doador_id_RPP_OP_2014)"
   ]
  },
  {
   "cell_type": "code",
   "execution_count": 11,
   "metadata": {},
   "outputs": [
    {
     "data": {
      "text/html": [
       "<div>\n",
       "<style scoped>\n",
       "    .dataframe tbody tr th:only-of-type {\n",
       "        vertical-align: middle;\n",
       "    }\n",
       "\n",
       "    .dataframe tbody tr th {\n",
       "        vertical-align: top;\n",
       "    }\n",
       "\n",
       "    .dataframe thead th {\n",
       "        text-align: right;\n",
       "    }\n",
       "</style>\n",
       "<table border=\"1\" class=\"dataframe\">\n",
       "  <thead>\n",
       "    <tr style=\"text-align: right;\">\n",
       "      <th></th>\n",
       "      <th>count</th>\n",
       "    </tr>\n",
       "  </thead>\n",
       "  <tbody>\n",
       "    <tr>\n",
       "      <th>0</th>\n",
       "      <td>2628</td>\n",
       "    </tr>\n",
       "  </tbody>\n",
       "</table>\n",
       "</div>"
      ],
      "text/plain": [
       "   count\n",
       "0   2628"
      ]
     },
     "execution_count": 11,
     "metadata": {},
     "output_type": "execute_result"
    }
   ],
   "source": [
    "mtse.pandas_query(f\"\"\"\n",
    "select count(*) from {table_receitas}\n",
    "where\n",
    "receita_origem_sg = 'RPP'\n",
    "and\n",
    "doador_tipo_cd = 'PJ'\"\"\")"
   ]
  },
  {
   "cell_type": "code",
   "execution_count": null,
   "metadata": {},
   "outputs": [],
   "source": []
  },
  {
   "cell_type": "code",
   "execution_count": 12,
   "metadata": {},
   "outputs": [],
   "source": [
    "query_update_doador_id_RPP_OP_2018 = f\"\"\"\n",
    "\n",
    "update {table_receitas} as r\n",
    "    set doador_id      = get_orgao_partidario_id(doador_cpf_cnpj),\n",
    "        doador_tipo_cd = 'OP',\n",
    "        doador_tipo_ds = 'Órgão Partidário' \n",
    "    where \n",
    "        {ano_eleicao} = '2018'\n",
    "        and\n",
    "        receita_origem_sg = 'RPP'\n",
    "        and doador_tipo_cd = 'PJ'\n",
    "        and upper(doador_nome_rfb) not  like 'ELEI%'\n",
    "        and \n",
    "        (\n",
    "               upper(doador_nome_rfb)  like '%SUSTENTABILIDADE%'\n",
    "            or upper(doador_nome_rfb)  like '%PATRIOTA%'\n",
    "            or upper(doador_nome_rfb)  like '%DEMOCRATAS%'\n",
    "            or upper(doador_nome_rfb)  like '%PROGRESSISTAS%'\n",
    "            or upper(doador_nome_rfb)  like '%SOLIDARIEDADE%'\n",
    "            or upper(doador_nome_rfb)  like '%PODEMOS%'\n",
    "            or upper(doador_nome_rfb)  like '%AVANTE%'\n",
    "            or upper(doador_nome_rfb)  like '%TRIBUNAL SUPERIOR%'\n",
    "            or upper(doador_nome_rfb)  like '%PARTIDO%'\n",
    "            or upper(doador_nome_rfb)  like '%DIRETORIO%'\n",
    "            or upper(doador_nome_rfb)  like '%COMISSAO%'\n",
    "            or upper(doador_nome_rfb)  like '%ORGAO%'\n",
    "        )    \n",
    "\"\"\"    \n",
    "\n",
    "mtse.execute_query(query_update_doador_id_RPP_OP_2018)\n"
   ]
  },
  {
   "cell_type": "code",
   "execution_count": 13,
   "metadata": {},
   "outputs": [
    {
     "data": {
      "text/html": [
       "<div>\n",
       "<style scoped>\n",
       "    .dataframe tbody tr th:only-of-type {\n",
       "        vertical-align: middle;\n",
       "    }\n",
       "\n",
       "    .dataframe tbody tr th {\n",
       "        vertical-align: top;\n",
       "    }\n",
       "\n",
       "    .dataframe thead th {\n",
       "        text-align: right;\n",
       "    }\n",
       "</style>\n",
       "<table border=\"1\" class=\"dataframe\">\n",
       "  <thead>\n",
       "    <tr style=\"text-align: right;\">\n",
       "      <th></th>\n",
       "      <th>count</th>\n",
       "    </tr>\n",
       "  </thead>\n",
       "  <tbody>\n",
       "    <tr>\n",
       "      <th>0</th>\n",
       "      <td>184</td>\n",
       "    </tr>\n",
       "  </tbody>\n",
       "</table>\n",
       "</div>"
      ],
      "text/plain": [
       "   count\n",
       "0    184"
      ]
     },
     "execution_count": 13,
     "metadata": {},
     "output_type": "execute_result"
    }
   ],
   "source": [
    "mtse.pandas_query(f\"\"\"\n",
    "select count(*) from {table_receitas}\n",
    "where\n",
    "receita_origem_sg = 'RPP'\n",
    "and\n",
    "doador_tipo_cd = 'PJ'\"\"\")"
   ]
  },
  {
   "cell_type": "code",
   "execution_count": 14,
   "metadata": {},
   "outputs": [],
   "source": [
    "query_update_doador_id_RPP_OP_2018_2 = f\"\"\"\n",
    "\n",
    "update {table_receitas} as r\n",
    "    set doador_id      = get_orgao_partidario_id(doador_cpf_cnpj),\n",
    "        doador_tipo_cd = 'OP',\n",
    "        doador_tipo_ds = 'Órgão Partidário' \n",
    "    where \n",
    "        {ano_eleicao} = '2018'\n",
    "        and\n",
    "        receita_origem_sg = 'RPP'\n",
    "        and doador_tipo_cd = 'PJ'\n",
    "        and doador_nome   like 'Direção%'\n",
    "\"\"\"    \n",
    "\n",
    "mtse.execute_query(query_update_doador_id_RPP_OP_2018_2)"
   ]
  },
  {
   "cell_type": "code",
   "execution_count": 15,
   "metadata": {},
   "outputs": [],
   "source": [
    "query_update_doador_id_RPP_OP_2014_2 = f\"\"\"\n",
    "\n",
    "update {table_receitas} as r\n",
    "    set doador_id      = get_orgao_partidario_id(doador_cpf_cnpj),\n",
    "        doador_tipo_cd = 'OP',\n",
    "        doador_tipo_ds = 'Órgão Partidário' \n",
    "    where \n",
    "        {ano_eleicao} = '2014'\n",
    "        and\n",
    "        receita_origem_sg in ('RPP', 'ROC')\n",
    "        and doador_tipo_cd = 'PJ'\n",
    "        and \n",
    "        (\n",
    "        doador_nome   like 'Direção%'\n",
    "        or\n",
    "        doador_nome   like 'Comitê%'\n",
    "        )\n",
    "\"\"\"    \n",
    "\n",
    "mtse.execute_query(query_update_doador_id_RPP_OP_2014_2)"
   ]
  },
  {
   "cell_type": "code",
   "execution_count": 16,
   "metadata": {},
   "outputs": [
    {
     "data": {
      "text/html": [
       "<div>\n",
       "<style scoped>\n",
       "    .dataframe tbody tr th:only-of-type {\n",
       "        vertical-align: middle;\n",
       "    }\n",
       "\n",
       "    .dataframe tbody tr th {\n",
       "        vertical-align: top;\n",
       "    }\n",
       "\n",
       "    .dataframe thead th {\n",
       "        text-align: right;\n",
       "    }\n",
       "</style>\n",
       "<table border=\"1\" class=\"dataframe\">\n",
       "  <thead>\n",
       "    <tr style=\"text-align: right;\">\n",
       "      <th></th>\n",
       "      <th>count</th>\n",
       "    </tr>\n",
       "  </thead>\n",
       "  <tbody>\n",
       "    <tr>\n",
       "      <th>0</th>\n",
       "      <td>0</td>\n",
       "    </tr>\n",
       "  </tbody>\n",
       "</table>\n",
       "</div>"
      ],
      "text/plain": [
       "   count\n",
       "0      0"
      ]
     },
     "execution_count": 16,
     "metadata": {},
     "output_type": "execute_result"
    }
   ],
   "source": [
    "mtse.pandas_query(f\"\"\"\n",
    "select count(*) from {table_receitas}\n",
    "where\n",
    "receita_origem_sg = 'RPP'\n",
    "and\n",
    "doador_tipo_cd = 'PJ'\"\"\")"
   ]
  },
  {
   "cell_type": "markdown",
   "metadata": {},
   "source": [
    "### RECEITA DE OUTRO CANDIDATO"
   ]
  },
  {
   "cell_type": "code",
   "execution_count": 17,
   "metadata": {},
   "outputs": [
    {
     "data": {
      "text/html": [
       "<div>\n",
       "<style scoped>\n",
       "    .dataframe tbody tr th:only-of-type {\n",
       "        vertical-align: middle;\n",
       "    }\n",
       "\n",
       "    .dataframe tbody tr th {\n",
       "        vertical-align: top;\n",
       "    }\n",
       "\n",
       "    .dataframe thead th {\n",
       "        text-align: right;\n",
       "    }\n",
       "</style>\n",
       "<table border=\"1\" class=\"dataframe\">\n",
       "  <thead>\n",
       "    <tr style=\"text-align: right;\">\n",
       "      <th></th>\n",
       "      <th>count</th>\n",
       "    </tr>\n",
       "  </thead>\n",
       "  <tbody>\n",
       "    <tr>\n",
       "      <th>0</th>\n",
       "      <td>755</td>\n",
       "    </tr>\n",
       "  </tbody>\n",
       "</table>\n",
       "</div>"
      ],
      "text/plain": [
       "   count\n",
       "0    755"
      ]
     },
     "execution_count": 17,
     "metadata": {},
     "output_type": "execute_result"
    }
   ],
   "source": [
    "mtse.pandas_query(f\"\"\"\n",
    "select count(*) from {table_receitas}\n",
    "where\n",
    "receita_origem_sg = 'ROC'\n",
    "and\n",
    "doador_tipo_cd = 'PJ'\"\"\")"
   ]
  },
  {
   "cell_type": "markdown",
   "metadata": {},
   "source": [
    "### OUTRO CANDIDATO PESSOA JURÍDICA"
   ]
  },
  {
   "cell_type": "code",
   "execution_count": 18,
   "metadata": {},
   "outputs": [],
   "source": [
    "query_update_doador_id_ROC_PJ = f\"\"\"\n",
    "with candidatos as\n",
    "(\n",
    "select candidato_id, candidatura_id, sg_uf, nr_candidato, nr_cpf_candidato, nr_cnpj_prestador_conta \n",
    "from {table_candidaturas}\n",
    ")\n",
    "update {table_receitas} as r\n",
    "    set doador_id             = c.candidato_id,\n",
    "        doador_tipo_cd        = 'CD',\n",
    "        doador_tipo_ds        = 'Candidato',\n",
    "        doador_candidatura_id = c.candidatura_id\n",
    "    from candidatos as c\n",
    "    where\n",
    "        receita_origem_sg = 'ROC' \n",
    "        and\n",
    "        doador_tipo_cd = 'PJ'\n",
    "        and\n",
    "        doador_cpf_cnpj = c.nr_cnpj_prestador_conta \n",
    ";\n",
    "\"\"\"\n",
    "mtse.execute_query(query_update_doador_id_ROC_PJ)"
   ]
  },
  {
   "cell_type": "markdown",
   "metadata": {},
   "source": [
    "### OUTRO CANDIDATO PESSOA FÍSICA"
   ]
  },
  {
   "cell_type": "code",
   "execution_count": 19,
   "metadata": {},
   "outputs": [],
   "source": [
    "query_update_doador_id_ROC_PF = f\"\"\"  \n",
    "with candidatos as\n",
    "(\n",
    "select candidato_id, candidatura_id, sg_uf, nr_candidato, nr_cpf_candidato, nr_cnpj_prestador_conta \n",
    "from {table_candidaturas}\n",
    ")\n",
    "update {table_receitas} as r\n",
    "    set doador_id             = c.candidato_id,\n",
    "        doador_tipo_cd        = 'CD',\n",
    "        doador_tipo_ds        = 'Candidato',\n",
    "        doador_candidatura_id = c.candidatura_id\n",
    "    from candidatos as c\n",
    "    where\n",
    "        receita_origem_sg = 'ROC' \n",
    "        and\n",
    "        doador_tipo_cd = 'PJ'\n",
    "        and\n",
    "        doador_cpf_cnpj = c.nr_cpf_candidato \n",
    ";\n",
    "\"\"\"\n",
    "mtse.execute_query(query_update_doador_id_ROC_PF)"
   ]
  },
  {
   "cell_type": "code",
   "execution_count": 20,
   "metadata": {},
   "outputs": [
    {
     "data": {
      "text/html": [
       "<div>\n",
       "<style scoped>\n",
       "    .dataframe tbody tr th:only-of-type {\n",
       "        vertical-align: middle;\n",
       "    }\n",
       "\n",
       "    .dataframe tbody tr th {\n",
       "        vertical-align: top;\n",
       "    }\n",
       "\n",
       "    .dataframe thead th {\n",
       "        text-align: right;\n",
       "    }\n",
       "</style>\n",
       "<table border=\"1\" class=\"dataframe\">\n",
       "  <thead>\n",
       "    <tr style=\"text-align: right;\">\n",
       "      <th></th>\n",
       "      <th>count</th>\n",
       "    </tr>\n",
       "  </thead>\n",
       "  <tbody>\n",
       "    <tr>\n",
       "      <th>0</th>\n",
       "      <td>755</td>\n",
       "    </tr>\n",
       "  </tbody>\n",
       "</table>\n",
       "</div>"
      ],
      "text/plain": [
       "   count\n",
       "0    755"
      ]
     },
     "execution_count": 20,
     "metadata": {},
     "output_type": "execute_result"
    }
   ],
   "source": [
    "mtse.pandas_query(f\"\"\"\n",
    "select count(*) from {table_receitas}\n",
    "where\n",
    "receita_origem_sg = 'ROC'\n",
    "and\n",
    "doador_tipo_cd = 'PJ'\"\"\")"
   ]
  },
  {
   "cell_type": "code",
   "execution_count": 21,
   "metadata": {},
   "outputs": [],
   "source": [
    "query_update_doador_id_ROC_NUMERO_CARGO = f\"\"\"\n",
    "with candidatos as\n",
    "(\n",
    "select candidato_id, candidatura_id, sg_uf, nr_candidato, nr_cpf_candidato, ds_cargo\n",
    "from {table_candidaturas}\n",
    ")\n",
    "update {table_receitas} as r\n",
    "    set doador_id      = c.candidato_id,\n",
    "        doador_tipo_cd = 'CD',\n",
    "        doador_tipo_ds = 'Candidato',\n",
    "        doador_candidatura_id = c.candidatura_id\n",
    "    from candidatos as c\n",
    "    where\n",
    "        receita_origem_sg = 'ROC' \n",
    "        and\n",
    "        doador_tipo_cd = 'PJ'\n",
    "        and\n",
    "        doador_candidato_nr = c.nr_candidato\n",
    "        and\n",
    "        upper(doador_candidato_cargo_ds) = upper(c.ds_cargo)\n",
    "        and\n",
    "        doador_uf = c.sg_uf\n",
    "\"\"\"\n",
    "mtse.execute_query(query_update_doador_id_ROC_NUMERO_CARGO)"
   ]
  },
  {
   "cell_type": "code",
   "execution_count": 22,
   "metadata": {},
   "outputs": [
    {
     "data": {
      "text/html": [
       "<div>\n",
       "<style scoped>\n",
       "    .dataframe tbody tr th:only-of-type {\n",
       "        vertical-align: middle;\n",
       "    }\n",
       "\n",
       "    .dataframe tbody tr th {\n",
       "        vertical-align: top;\n",
       "    }\n",
       "\n",
       "    .dataframe thead th {\n",
       "        text-align: right;\n",
       "    }\n",
       "</style>\n",
       "<table border=\"1\" class=\"dataframe\">\n",
       "  <thead>\n",
       "    <tr style=\"text-align: right;\">\n",
       "      <th></th>\n",
       "      <th>count</th>\n",
       "    </tr>\n",
       "  </thead>\n",
       "  <tbody>\n",
       "    <tr>\n",
       "      <th>0</th>\n",
       "      <td>16</td>\n",
       "    </tr>\n",
       "  </tbody>\n",
       "</table>\n",
       "</div>"
      ],
      "text/plain": [
       "   count\n",
       "0     16"
      ]
     },
     "execution_count": 22,
     "metadata": {},
     "output_type": "execute_result"
    }
   ],
   "source": [
    "mtse.pandas_query(f\"\"\"\n",
    "select count(*) from {table_receitas}\n",
    "where\n",
    "receita_origem_sg = 'ROC'\n",
    "and\n",
    "doador_tipo_cd = 'PJ'\"\"\")"
   ]
  },
  {
   "cell_type": "code",
   "execution_count": 23,
   "metadata": {},
   "outputs": [],
   "source": [
    "query_update_doador_id_ROC_NOME = f\"\"\"\n",
    "with candidatos as\n",
    "(\n",
    "select candidato_id, candidatura_id, sg_uf, nr_candidato, nr_cpf_candidato, nm_candidato, ds_cargo \n",
    "from {table_candidaturas}\n",
    ")\n",
    "update {table_receitas} as r\n",
    "    set doador_id      = c.candidato_id,\n",
    "        doador_tipo_cd = 'CD',\n",
    "        doador_tipo_ds = 'Candidato',\n",
    "        doador_candidatura_id = c.candidatura_id\n",
    "    from candidatos as c\n",
    "    where\n",
    "        receita_origem_sg = 'ROC' \n",
    "        and\n",
    "        doador_tipo_cd = 'PJ'\n",
    "        and\n",
    "        (\n",
    "        doador_nome like '%'||c.nm_candidato||'%'\n",
    "        or\n",
    "        doador_nome_rfb like '%'||c.nm_candidato||'%'\n",
    "        )\n",
    ";\n",
    "\"\"\"\n",
    "mtse.execute_query(query_update_doador_id_ROC_NOME)"
   ]
  },
  {
   "cell_type": "code",
   "execution_count": 24,
   "metadata": {},
   "outputs": [
    {
     "data": {
      "text/html": [
       "<div>\n",
       "<style scoped>\n",
       "    .dataframe tbody tr th:only-of-type {\n",
       "        vertical-align: middle;\n",
       "    }\n",
       "\n",
       "    .dataframe tbody tr th {\n",
       "        vertical-align: top;\n",
       "    }\n",
       "\n",
       "    .dataframe thead th {\n",
       "        text-align: right;\n",
       "    }\n",
       "</style>\n",
       "<table border=\"1\" class=\"dataframe\">\n",
       "  <thead>\n",
       "    <tr style=\"text-align: right;\">\n",
       "      <th></th>\n",
       "      <th>count</th>\n",
       "    </tr>\n",
       "  </thead>\n",
       "  <tbody>\n",
       "    <tr>\n",
       "      <th>0</th>\n",
       "      <td>5</td>\n",
       "    </tr>\n",
       "  </tbody>\n",
       "</table>\n",
       "</div>"
      ],
      "text/plain": [
       "   count\n",
       "0      5"
      ]
     },
     "execution_count": 24,
     "metadata": {},
     "output_type": "execute_result"
    }
   ],
   "source": [
    "mtse.pandas_query(f\"\"\"\n",
    "select count(*) from {table_receitas}\n",
    "where\n",
    "receita_origem_sg = 'ROC'\n",
    "and\n",
    "doador_tipo_cd = 'PJ'\"\"\")"
   ]
  },
  {
   "cell_type": "markdown",
   "metadata": {},
   "source": [
    "### ACERTOS ESPECÍFICOS"
   ]
  },
  {
   "cell_type": "markdown",
   "metadata": {},
   "source": [
    "### 2014"
   ]
  },
  {
   "cell_type": "code",
   "execution_count": 25,
   "metadata": {},
   "outputs": [],
   "source": [
    "query_update_doador_id_ACERTOS_2014 = f\"\"\" \n",
    "update {table_receitas} \n",
    "    set doador_id      = \n",
    "    case\n",
    "        when doador_nome like  'BETO RICHA%'                                     then  'CD54191750968' \n",
    "        when doador_nome like  'EL 2014 ROGERIO NOGUEIRA LOPES CRUZ DEPUTADO E%' then  'CD13022771894'\n",
    "        when doador_nome like  'ELEIÇÃO 2014 MARLENE O DE C MACHADO%'            then  'CD85885177872'\n",
    "        when doador_nome like  'ELEIÇÃO 2014 SAGUAS MORAES SOUSA%'               then  'CD28638115172'\n",
    "        when doador_nome like  'FERNANDO LESSA LEAO DEPUTADO ESTADUAL%'          then  'CD85642304887'\n",
    "        when doador_nome like  'JOSE PEDRO CORDEIRO%'                            then  'CD77795520634'\n",
    "        when doador_nome like  'MARIA IZABEL BEZZERA DE SÁ DEPUTADA ESTADUAL%'   then  'CD09296252857'\n",
    "        when doador_nome like  'RODRIGO BETHLEM%'                                then  'CD99736870782'\n",
    "        when doador_nome like  'RODRIGO ROLLEMBERG%'                             then  'CD24529850153'\n",
    "        \n",
    "    end,\n",
    "        doador_tipo_cd = 'CD',\n",
    "        doador_tipo_ds = 'Candidato',\n",
    "        doador_candidatura_id = ''  \n",
    "where \n",
    "        {ano_eleicao} = '2014'\n",
    "        and\n",
    "        receita_origem_sg = 'ROC' \n",
    "        and\n",
    "        doador_tipo_cd = 'PJ'\n",
    "\"\"\"\n",
    "\n",
    "mtse.execute_query(query_update_doador_id_ACERTOS_2014)"
   ]
  },
  {
   "cell_type": "markdown",
   "metadata": {},
   "source": [
    "### 2018"
   ]
  },
  {
   "cell_type": "code",
   "execution_count": 26,
   "metadata": {},
   "outputs": [],
   "source": [
    "query_update_doador_id_ACERTOS_2018 = f\"\"\"\n",
    "with candidatos as\n",
    "(\n",
    "select candidato_id, candidatura_id, sg_uf, nr_candidato, nr_cpf_candidato, nm_candidato, ds_cargo \n",
    "from {table_candidaturas}\n",
    ")\n",
    "update {table_receitas} as r\n",
    "    set doador_id      = c.candidato_id,\n",
    "        doador_tipo_cd = 'CD',\n",
    "        doador_tipo_ds = 'Candidato',\n",
    "        doador_candidatura_id = c.candidatura_id\n",
    "    from candidatos as c\n",
    "    where\n",
    "        {ano_eleicao} = '2018'\n",
    "        and\n",
    "        receita_origem_sg = 'ROC' \n",
    "        and\n",
    "        doador_tipo_cd = 'PJ'\n",
    "        and\n",
    "        (\n",
    "            c.nm_candidato like '%MARCOS ABRÃO RORIZ SOARES DE CARVALHO%'\n",
    "            and\n",
    "            doador_nome like '%MARCOS ABRAO RORIZ S. DE CARVALHO%'\n",
    "        )\n",
    "        or\n",
    "        (\n",
    "            c.nm_candidato like '%REBECCA MARTINS GARCIA%'\n",
    "            and\n",
    "            doador_nome like '%ELEICAO 2018 REBECCA MARTINS GARCIA VICE GOVERNADORA%'      \n",
    "        )\n",
    "\n",
    "\"\"\"\n",
    "\n",
    "mtse.execute_query(query_update_doador_id_ACERTOS_2018)"
   ]
  },
  {
   "cell_type": "code",
   "execution_count": 27,
   "metadata": {},
   "outputs": [
    {
     "data": {
      "text/html": [
       "<div>\n",
       "<style scoped>\n",
       "    .dataframe tbody tr th:only-of-type {\n",
       "        vertical-align: middle;\n",
       "    }\n",
       "\n",
       "    .dataframe tbody tr th {\n",
       "        vertical-align: top;\n",
       "    }\n",
       "\n",
       "    .dataframe thead th {\n",
       "        text-align: right;\n",
       "    }\n",
       "</style>\n",
       "<table border=\"1\" class=\"dataframe\">\n",
       "  <thead>\n",
       "    <tr style=\"text-align: right;\">\n",
       "      <th></th>\n",
       "      <th>count</th>\n",
       "    </tr>\n",
       "  </thead>\n",
       "  <tbody>\n",
       "    <tr>\n",
       "      <th>0</th>\n",
       "      <td>0</td>\n",
       "    </tr>\n",
       "  </tbody>\n",
       "</table>\n",
       "</div>"
      ],
      "text/plain": [
       "   count\n",
       "0      0"
      ]
     },
     "execution_count": 27,
     "metadata": {},
     "output_type": "execute_result"
    }
   ],
   "source": [
    "mtse.pandas_query(f\"\"\"\n",
    "select count(*) from {table_receitas}\n",
    "where\n",
    "receita_origem_sg = 'ROC'\n",
    "and\n",
    "doador_tipo_cd = 'PJ'\"\"\")"
   ]
  },
  {
   "cell_type": "code",
   "execution_count": 28,
   "metadata": {},
   "outputs": [
    {
     "data": {
      "text/html": [
       "<div>\n",
       "<style scoped>\n",
       "    .dataframe tbody tr th:only-of-type {\n",
       "        vertical-align: middle;\n",
       "    }\n",
       "\n",
       "    .dataframe tbody tr th {\n",
       "        vertical-align: top;\n",
       "    }\n",
       "\n",
       "    .dataframe thead th {\n",
       "        text-align: right;\n",
       "    }\n",
       "</style>\n",
       "<table border=\"1\" class=\"dataframe\">\n",
       "  <thead>\n",
       "    <tr style=\"text-align: right;\">\n",
       "      <th></th>\n",
       "      <th>count</th>\n",
       "    </tr>\n",
       "  </thead>\n",
       "  <tbody>\n",
       "    <tr>\n",
       "      <th>0</th>\n",
       "      <td>5594</td>\n",
       "    </tr>\n",
       "  </tbody>\n",
       "</table>\n",
       "</div>"
      ],
      "text/plain": [
       "   count\n",
       "0   5594"
      ]
     },
     "execution_count": 28,
     "metadata": {},
     "output_type": "execute_result"
    }
   ],
   "source": [
    "mtse.pandas_query(f\"\"\"\n",
    "select count(*) from {table_receitas}\n",
    "where\n",
    "doador_tipo_cd = 'PJ'\n",
    "\"\"\")"
   ]
  },
  {
   "cell_type": "code",
   "execution_count": 29,
   "metadata": {},
   "outputs": [
    {
     "data": {
      "text/html": [
       "<div>\n",
       "<style scoped>\n",
       "    .dataframe tbody tr th:only-of-type {\n",
       "        vertical-align: middle;\n",
       "    }\n",
       "\n",
       "    .dataframe tbody tr th {\n",
       "        vertical-align: top;\n",
       "    }\n",
       "\n",
       "    .dataframe thead th {\n",
       "        text-align: right;\n",
       "    }\n",
       "</style>\n",
       "<table border=\"1\" class=\"dataframe\">\n",
       "  <thead>\n",
       "    <tr style=\"text-align: right;\">\n",
       "      <th></th>\n",
       "      <th>count</th>\n",
       "    </tr>\n",
       "  </thead>\n",
       "  <tbody>\n",
       "    <tr>\n",
       "      <th>0</th>\n",
       "      <td>88592</td>\n",
       "    </tr>\n",
       "  </tbody>\n",
       "</table>\n",
       "</div>"
      ],
      "text/plain": [
       "   count\n",
       "0  88592"
      ]
     },
     "execution_count": 29,
     "metadata": {},
     "output_type": "execute_result"
    }
   ],
   "source": [
    "mtse.pandas_query(f\"\"\"\n",
    "select count(*) from {table_receitas}\n",
    "where\n",
    "doador_tipo_cd = 'CD'\n",
    "\"\"\")"
   ]
  },
  {
   "cell_type": "markdown",
   "metadata": {},
   "source": [
    "### receitas origem RPP que não são de partido ou candidato (com PJ)"
   ]
  },
  {
   "cell_type": "code",
   "execution_count": 30,
   "metadata": {},
   "outputs": [
    {
     "data": {
      "text/html": [
       "<div>\n",
       "<style scoped>\n",
       "    .dataframe tbody tr th:only-of-type {\n",
       "        vertical-align: middle;\n",
       "    }\n",
       "\n",
       "    .dataframe tbody tr th {\n",
       "        vertical-align: top;\n",
       "    }\n",
       "\n",
       "    .dataframe thead th {\n",
       "        text-align: right;\n",
       "    }\n",
       "</style>\n",
       "<table border=\"1\" class=\"dataframe\">\n",
       "  <thead>\n",
       "    <tr style=\"text-align: right;\">\n",
       "      <th></th>\n",
       "      <th>doador_nome</th>\n",
       "      <th>valor</th>\n",
       "    </tr>\n",
       "  </thead>\n",
       "  <tbody>\n",
       "  </tbody>\n",
       "</table>\n",
       "</div>"
      ],
      "text/plain": [
       "Empty DataFrame\n",
       "Columns: [doador_nome, valor]\n",
       "Index: []"
      ]
     },
     "execution_count": 30,
     "metadata": {},
     "output_type": "execute_result"
    }
   ],
   "source": [
    "mtse.pandas_query(f\"\"\"\n",
    "select doador_nome, sum(receita_valor) as valor from {table_receitas}\n",
    "where\n",
    "receita_origem_sg in ('RPP')\n",
    "and doador_tipo_cd = 'PJ'\n",
    "group by doador_nome\n",
    "order by valor desc\n",
    "\"\"\")"
   ]
  },
  {
   "cell_type": "code",
   "execution_count": 31,
   "metadata": {},
   "outputs": [
    {
     "data": {
      "text/html": [
       "<div>\n",
       "<style scoped>\n",
       "    .dataframe tbody tr th:only-of-type {\n",
       "        vertical-align: middle;\n",
       "    }\n",
       "\n",
       "    .dataframe tbody tr th {\n",
       "        vertical-align: top;\n",
       "    }\n",
       "\n",
       "    .dataframe thead th {\n",
       "        text-align: right;\n",
       "    }\n",
       "</style>\n",
       "<table border=\"1\" class=\"dataframe\">\n",
       "  <thead>\n",
       "    <tr style=\"text-align: right;\">\n",
       "      <th></th>\n",
       "      <th>doador_nome</th>\n",
       "      <th>doador_nome_rfb</th>\n",
       "      <th>doador_uf</th>\n",
       "      <th>doador_candidato_nr</th>\n",
       "      <th>valor</th>\n",
       "    </tr>\n",
       "  </thead>\n",
       "  <tbody>\n",
       "  </tbody>\n",
       "</table>\n",
       "</div>"
      ],
      "text/plain": [
       "Empty DataFrame\n",
       "Columns: [doador_nome, doador_nome_rfb, doador_uf, doador_candidato_nr, valor]\n",
       "Index: []"
      ]
     },
     "execution_count": 31,
     "metadata": {},
     "output_type": "execute_result"
    }
   ],
   "source": [
    "mtse.pandas_query(f\"\"\"\n",
    "select doador_nome, doador_nome_rfb, doador_uf, doador_candidato_nr, sum(receita_valor) as valor from {table_receitas}\n",
    "where\n",
    "receita_origem_sg in ('ROC')\n",
    "and doador_tipo_cd = 'PJ'\n",
    "and upper(doador_nome_rfb) not  like 'ELEI%'\n",
    "group by doador_nome, doador_nome_rfb, doador_uf, doador_candidato_nr\n",
    "order by valor desc\n",
    "\"\"\")"
   ]
  },
  {
   "cell_type": "code",
   "execution_count": null,
   "metadata": {},
   "outputs": [],
   "source": []
  },
  {
   "cell_type": "markdown",
   "metadata": {},
   "source": [
    "### RECEITA PRÓPRIA"
   ]
  },
  {
   "cell_type": "code",
   "execution_count": 32,
   "metadata": {},
   "outputs": [
    {
     "data": {
      "text/html": [
       "<div>\n",
       "<style scoped>\n",
       "    .dataframe tbody tr th:only-of-type {\n",
       "        vertical-align: middle;\n",
       "    }\n",
       "\n",
       "    .dataframe tbody tr th {\n",
       "        vertical-align: top;\n",
       "    }\n",
       "\n",
       "    .dataframe thead th {\n",
       "        text-align: right;\n",
       "    }\n",
       "</style>\n",
       "<table border=\"1\" class=\"dataframe\">\n",
       "  <thead>\n",
       "    <tr style=\"text-align: right;\">\n",
       "      <th></th>\n",
       "      <th>count</th>\n",
       "    </tr>\n",
       "  </thead>\n",
       "  <tbody>\n",
       "    <tr>\n",
       "      <th>0</th>\n",
       "      <td>0</td>\n",
       "    </tr>\n",
       "  </tbody>\n",
       "</table>\n",
       "</div>"
      ],
      "text/plain": [
       "   count\n",
       "0      0"
      ]
     },
     "execution_count": 32,
     "metadata": {},
     "output_type": "execute_result"
    }
   ],
   "source": [
    "mtse.pandas_query(f\"\"\"\n",
    "select count(*) from {table_receitas}\n",
    "where\n",
    "receita_origem_sg = 'RP'\n",
    "and\n",
    "doador_tipo_cd = 'PF'\"\"\")"
   ]
  },
  {
   "cell_type": "code",
   "execution_count": 33,
   "metadata": {},
   "outputs": [],
   "source": [
    "query_update_doador_id_RP=f\"\"\"\n",
    "    with candidatos as\n",
    "    (\n",
    "    select candidato_id,candidatura_id,sg_uf, nr_candidato, nr_cpf_candidato \n",
    "    from {table_candidaturas}\n",
    "    )\n",
    "    update {table_receitas} as r\n",
    "        set doador_id                  = c.candidato_id,\n",
    "            doador_tipo_cd             = 'CA',\n",
    "            doador_tipo_ds             = 'Candidato',\n",
    "            doador_candidatura_id      = c.candidatura_id\n",
    "        from candidatos c\n",
    "        WHERE\n",
    "            receita_origem_sg   = 'RP'\n",
    "            and \n",
    "            doador_tipo_cd  = 'PF'\n",
    "            and \n",
    "            doador_cpf_cnpj = c.nr_cpf_candidato             \n",
    "    ;        \n",
    "    \"\"\"\n",
    "\n",
    "mtse.execute_query(query_update_doador_id_RP)"
   ]
  },
  {
   "cell_type": "code",
   "execution_count": 34,
   "metadata": {},
   "outputs": [],
   "source": [
    "query_update_doador_id_RP_2=f\"\"\"\n",
    "    update {table_receitas} as r\n",
    "        set doador_id                  = get_candidato_id(receptor_candidato_cpf),\n",
    "            doador_tipo_cd             = 'CA',\n",
    "            doador_tipo_ds             = 'Candidato',\n",
    "            doador_candidatura_id      = 'CA'||receptor_uf||receptor_candidato_nr\n",
    "        WHERE\n",
    "            receita_origem_sg   = 'RP'\n",
    "            and \n",
    "            doador_tipo_cd  = 'PF'           \n",
    "    ;        \n",
    "    \"\"\"\n",
    "\n",
    "mtse.execute_query(query_update_doador_id_RP_2)"
   ]
  },
  {
   "cell_type": "code",
   "execution_count": null,
   "metadata": {},
   "outputs": [],
   "source": []
  },
  {
   "cell_type": "code",
   "execution_count": 35,
   "metadata": {},
   "outputs": [],
   "source": [
    "mtse.execute_query(f\"\"\" \n",
    "update {table_receitas} \n",
    "    set doador_id      = \n",
    "    case\n",
    "        when doador_nome like  'TAMARA JOANA BIOLO SOARES%'                      then  'CD99509334049' \n",
    "        when doador_nome like  'JOSE FERNANDO IBANEZ%'                           then  'CD14787721828'\n",
    "        when doador_nome like  'CLAUDIO SARKIS ASSIS%'                           then  'CD79248454704'\n",
    "        when doador_nome like  'SEBASTIAO BRAZ DA CUNHA DOS REIS%'               then  'CD21982694149'      \n",
    "    end\n",
    "    ,\n",
    "        doador_tipo_cd = 'CD',\n",
    "        doador_tipo_ds = 'Candidato',\n",
    "        doador_candidatura_id = ''  \n",
    "where \n",
    "        {ano_eleicao} = '2014'\n",
    "        and\n",
    "        receita_origem_sg = 'RP' \n",
    "        and\n",
    "        doador_tipo_cd = 'PJ'\n",
    "    ;\n",
    "\"\"\"\n",
    "                 )"
   ]
  },
  {
   "cell_type": "code",
   "execution_count": 36,
   "metadata": {},
   "outputs": [
    {
     "data": {
      "text/html": [
       "<div>\n",
       "<style scoped>\n",
       "    .dataframe tbody tr th:only-of-type {\n",
       "        vertical-align: middle;\n",
       "    }\n",
       "\n",
       "    .dataframe tbody tr th {\n",
       "        vertical-align: top;\n",
       "    }\n",
       "\n",
       "    .dataframe thead th {\n",
       "        text-align: right;\n",
       "    }\n",
       "</style>\n",
       "<table border=\"1\" class=\"dataframe\">\n",
       "  <thead>\n",
       "    <tr style=\"text-align: right;\">\n",
       "      <th></th>\n",
       "      <th>count</th>\n",
       "    </tr>\n",
       "  </thead>\n",
       "  <tbody>\n",
       "    <tr>\n",
       "      <th>0</th>\n",
       "      <td>0</td>\n",
       "    </tr>\n",
       "  </tbody>\n",
       "</table>\n",
       "</div>"
      ],
      "text/plain": [
       "   count\n",
       "0      0"
      ]
     },
     "execution_count": 36,
     "metadata": {},
     "output_type": "execute_result"
    }
   ],
   "source": [
    "mtse.pandas_query(f\"\"\"\n",
    "select count(*) from {table_receitas}\n",
    "where\n",
    "receita_origem_sg = 'RP'\n",
    "and\n",
    "doador_tipo_cd = 'PF'\"\"\")"
   ]
  },
  {
   "cell_type": "code",
   "execution_count": 37,
   "metadata": {},
   "outputs": [
    {
     "data": {
      "text/html": [
       "<div>\n",
       "<style scoped>\n",
       "    .dataframe tbody tr th:only-of-type {\n",
       "        vertical-align: middle;\n",
       "    }\n",
       "\n",
       "    .dataframe tbody tr th {\n",
       "        vertical-align: top;\n",
       "    }\n",
       "\n",
       "    .dataframe thead th {\n",
       "        text-align: right;\n",
       "    }\n",
       "</style>\n",
       "<table border=\"1\" class=\"dataframe\">\n",
       "  <thead>\n",
       "    <tr style=\"text-align: right;\">\n",
       "      <th></th>\n",
       "      <th>count</th>\n",
       "    </tr>\n",
       "  </thead>\n",
       "  <tbody>\n",
       "    <tr>\n",
       "      <th>0</th>\n",
       "      <td>0</td>\n",
       "    </tr>\n",
       "  </tbody>\n",
       "</table>\n",
       "</div>"
      ],
      "text/plain": [
       "   count\n",
       "0      0"
      ]
     },
     "execution_count": 37,
     "metadata": {},
     "output_type": "execute_result"
    }
   ],
   "source": [
    "mtse.pandas_query(f\"\"\"\n",
    "select count(*) from {table_receitas}\n",
    "where\n",
    "receita_origem_sg = 'RP'\n",
    "and\n",
    "doador_tipo_cd = 'PJ'\"\"\")"
   ]
  },
  {
   "cell_type": "markdown",
   "metadata": {},
   "source": [
    "### RECEITA DE FINANCIAMENTO COLETIVO"
   ]
  },
  {
   "cell_type": "code",
   "execution_count": 38,
   "metadata": {},
   "outputs": [
    {
     "data": {
      "text/html": [
       "<div>\n",
       "<style scoped>\n",
       "    .dataframe tbody tr th:only-of-type {\n",
       "        vertical-align: middle;\n",
       "    }\n",
       "\n",
       "    .dataframe tbody tr th {\n",
       "        vertical-align: top;\n",
       "    }\n",
       "\n",
       "    .dataframe thead th {\n",
       "        text-align: right;\n",
       "    }\n",
       "</style>\n",
       "<table border=\"1\" class=\"dataframe\">\n",
       "  <thead>\n",
       "    <tr style=\"text-align: right;\">\n",
       "      <th></th>\n",
       "      <th>count</th>\n",
       "    </tr>\n",
       "  </thead>\n",
       "  <tbody>\n",
       "    <tr>\n",
       "      <th>0</th>\n",
       "      <td>5594</td>\n",
       "    </tr>\n",
       "  </tbody>\n",
       "</table>\n",
       "</div>"
      ],
      "text/plain": [
       "   count\n",
       "0   5594"
      ]
     },
     "execution_count": 38,
     "metadata": {},
     "output_type": "execute_result"
    }
   ],
   "source": [
    "mtse.pandas_query(f\"\"\"\n",
    "select count(*) from {table_receitas}\n",
    "where\n",
    "receita_origem_sg = 'RFC'\n",
    "and\n",
    "doador_tipo_cd = 'PJ'\"\"\")"
   ]
  },
  {
   "cell_type": "code",
   "execution_count": 39,
   "metadata": {},
   "outputs": [],
   "source": [
    "query_update_tipo_doador_id_RFC = f\"\"\"\n",
    "update {table_receitas} as r\n",
    "    set doador_id = 'RFC'||doador_cpf_cnpj,\n",
    "        doador_tipo_cd = receita_origem_sg,\n",
    "        doador_tipo_ds = receita_origem_ds\n",
    "where\n",
    "    receita_origem_sg = 'RFC'\n",
    "    and\n",
    "    doador_tipo_cd = 'PJ'\n",
    ";\n",
    "\"\"\"\n",
    "\n",
    "mtse.execute_query(query_update_tipo_doador_id_RFC)"
   ]
  },
  {
   "cell_type": "markdown",
   "metadata": {},
   "source": [
    "### RECEITA DE APLICAÇÃO FINANCEIRA"
   ]
  },
  {
   "cell_type": "code",
   "execution_count": 40,
   "metadata": {},
   "outputs": [
    {
     "data": {
      "text/html": [
       "<div>\n",
       "<style scoped>\n",
       "    .dataframe tbody tr th:only-of-type {\n",
       "        vertical-align: middle;\n",
       "    }\n",
       "\n",
       "    .dataframe tbody tr th {\n",
       "        vertical-align: top;\n",
       "    }\n",
       "\n",
       "    .dataframe thead th {\n",
       "        text-align: right;\n",
       "    }\n",
       "</style>\n",
       "<table border=\"1\" class=\"dataframe\">\n",
       "  <thead>\n",
       "    <tr style=\"text-align: right;\">\n",
       "      <th></th>\n",
       "      <th>count</th>\n",
       "    </tr>\n",
       "  </thead>\n",
       "  <tbody>\n",
       "    <tr>\n",
       "      <th>0</th>\n",
       "      <td>0</td>\n",
       "    </tr>\n",
       "  </tbody>\n",
       "</table>\n",
       "</div>"
      ],
      "text/plain": [
       "   count\n",
       "0      0"
      ]
     },
     "execution_count": 40,
     "metadata": {},
     "output_type": "execute_result"
    }
   ],
   "source": [
    "mtse.pandas_query(f\"\"\"\n",
    "select count(*) from {table_receitas}\n",
    "where\n",
    "receita_origem_sg = 'RAF'\n",
    "and\n",
    "doador_tipo_cd = 'PJ'\"\"\")"
   ]
  },
  {
   "cell_type": "code",
   "execution_count": 41,
   "metadata": {},
   "outputs": [],
   "source": [
    "query_update_tipo_doador_id_RAF = f\"\"\"\n",
    "update {table_receitas} as r\n",
    "    set doador_id      = receita_origem_sg,\n",
    "        doador_tipo_cd = receita_origem_sg,\n",
    "        doador_tipo_ds = receita_origem_ds,\n",
    "        doador_cpf_cnpj = '-1',\n",
    "        doador_nome    = receita_origem_ds\n",
    "from  {table_origem_receitas} ro\n",
    "where\n",
    "        receita_origem_sg = 'RAF'\n",
    ";\n",
    "\"\"\"\n",
    "\n",
    "mtse.execute_query(query_update_tipo_doador_id_RAF)"
   ]
  },
  {
   "cell_type": "markdown",
   "metadata": {},
   "source": [
    "### RECEITA DE ORIGEM NÃO IDENTIFICADA"
   ]
  },
  {
   "cell_type": "code",
   "execution_count": 42,
   "metadata": {},
   "outputs": [],
   "source": [
    "query_update_tipo_doador_id_RONI = f\"\"\"\n",
    "update {table_receitas} as r\n",
    "    set doador_id      = receita_origem_sg,\n",
    "        doador_tipo_cd = receita_origem_sg,\n",
    "        doador_tipo_ds = receita_origem_ds,\n",
    "        doador_cpf_cnpj = '-1',\n",
    "        doador_nome    = receita_origem_ds\n",
    "from  {table_origem_receitas} ro\n",
    "where\n",
    "        receita_origem_sg = 'RONI'\n",
    ";\n",
    "\"\"\"\n",
    "\n",
    "mtse.execute_query(query_update_tipo_doador_id_RONI)"
   ]
  },
  {
   "cell_type": "markdown",
   "metadata": {},
   "source": [
    "### RECEITA DE DOADOR NÃO IDENTIFICADO"
   ]
  },
  {
   "cell_type": "code",
   "execution_count": 43,
   "metadata": {},
   "outputs": [
    {
     "data": {
      "text/html": [
       "<div>\n",
       "<style scoped>\n",
       "    .dataframe tbody tr th:only-of-type {\n",
       "        vertical-align: middle;\n",
       "    }\n",
       "\n",
       "    .dataframe tbody tr th {\n",
       "        vertical-align: top;\n",
       "    }\n",
       "\n",
       "    .dataframe thead th {\n",
       "        text-align: right;\n",
       "    }\n",
       "</style>\n",
       "<table border=\"1\" class=\"dataframe\">\n",
       "  <thead>\n",
       "    <tr style=\"text-align: right;\">\n",
       "      <th></th>\n",
       "      <th>count</th>\n",
       "    </tr>\n",
       "  </thead>\n",
       "  <tbody>\n",
       "    <tr>\n",
       "      <th>0</th>\n",
       "      <td>0</td>\n",
       "    </tr>\n",
       "  </tbody>\n",
       "</table>\n",
       "</div>"
      ],
      "text/plain": [
       "   count\n",
       "0      0"
      ]
     },
     "execution_count": 43,
     "metadata": {},
     "output_type": "execute_result"
    }
   ],
   "source": [
    "mtse.pandas_query(f\"\"\"\n",
    "select count(*) from {table_receitas}\n",
    "where\n",
    "doador_tipo_cd = 'PJ'\"\"\")"
   ]
  },
  {
   "cell_type": "code",
   "execution_count": 44,
   "metadata": {},
   "outputs": [],
   "source": [
    "query_update_tipo_doador_id_NI = f\"\"\"\n",
    "update {table_receitas} as r\n",
    "    set \n",
    "        doador_id      = 'RONI',\n",
    "        doador_tipo_cd = 'RONI',\n",
    "        doador_tipo_ds = 'Recursos de origens não identificadas',\n",
    "        doador_cpf_cnpj = '-1'\n",
    "from  {table_origem_receitas} ro\n",
    "where\n",
    "        doador_id = 'NI'\n",
    ";\n",
    "\"\"\"\n",
    "\n",
    "mtse.execute_query(query_update_tipo_doador_id_NI)"
   ]
  },
  {
   "cell_type": "code",
   "execution_count": 45,
   "metadata": {},
   "outputs": [
    {
     "data": {
      "text/html": [
       "<div>\n",
       "<style scoped>\n",
       "    .dataframe tbody tr th:only-of-type {\n",
       "        vertical-align: middle;\n",
       "    }\n",
       "\n",
       "    .dataframe tbody tr th {\n",
       "        vertical-align: top;\n",
       "    }\n",
       "\n",
       "    .dataframe thead th {\n",
       "        text-align: right;\n",
       "    }\n",
       "</style>\n",
       "<table border=\"1\" class=\"dataframe\">\n",
       "  <thead>\n",
       "    <tr style=\"text-align: right;\">\n",
       "      <th></th>\n",
       "      <th>count</th>\n",
       "    </tr>\n",
       "  </thead>\n",
       "  <tbody>\n",
       "    <tr>\n",
       "      <th>0</th>\n",
       "      <td>0</td>\n",
       "    </tr>\n",
       "  </tbody>\n",
       "</table>\n",
       "</div>"
      ],
      "text/plain": [
       "   count\n",
       "0      0"
      ]
     },
     "execution_count": 45,
     "metadata": {},
     "output_type": "execute_result"
    }
   ],
   "source": [
    "mtse.pandas_query(f\"\"\"\n",
    "select count(*) from {table_receitas}\n",
    "where\n",
    "doador_tipo_cd = 'PJ'\"\"\")"
   ]
  },
  {
   "cell_type": "code",
   "execution_count": 46,
   "metadata": {},
   "outputs": [
    {
     "data": {
      "text/html": [
       "<div>\n",
       "<style scoped>\n",
       "    .dataframe tbody tr th:only-of-type {\n",
       "        vertical-align: middle;\n",
       "    }\n",
       "\n",
       "    .dataframe tbody tr th {\n",
       "        vertical-align: top;\n",
       "    }\n",
       "\n",
       "    .dataframe thead th {\n",
       "        text-align: right;\n",
       "    }\n",
       "</style>\n",
       "<table border=\"1\" class=\"dataframe\">\n",
       "  <thead>\n",
       "    <tr style=\"text-align: right;\">\n",
       "      <th></th>\n",
       "      <th>doador_id</th>\n",
       "      <th>doador_nome</th>\n",
       "      <th>doador_cpf_cnpj</th>\n",
       "      <th>doador_partido_sg</th>\n",
       "      <th>doador_uf</th>\n",
       "      <th>receita_origem_sg</th>\n",
       "      <th>sum</th>\n",
       "    </tr>\n",
       "  </thead>\n",
       "  <tbody>\n",
       "  </tbody>\n",
       "</table>\n",
       "</div>"
      ],
      "text/plain": [
       "Empty DataFrame\n",
       "Columns: [doador_id, doador_nome, doador_cpf_cnpj, doador_partido_sg, doador_uf, receita_origem_sg, sum]\n",
       "Index: []"
      ]
     },
     "execution_count": 46,
     "metadata": {},
     "output_type": "execute_result"
    }
   ],
   "source": [
    "mtse.pandas_query(f\"\"\"\n",
    "    select doador_id,doador_nome, doador_cpf_cnpj, doador_partido_sg, doador_uf, receita_origem_sg, sum(receita_valor) \n",
    "    from {table_receitas}\n",
    "    where\n",
    "        {ano_eleicao} = '2018'\n",
    "        and\n",
    "        doador_tipo_cd = 'PJ'\n",
    "    group by \n",
    "    doador_id,doador_nome, doador_cpf_cnpj, doador_partido_sg, doador_uf, receita_origem_sg\n",
    "    order by doador_nome, doador_partido_sg, doador_uf, receita_origem_sg\n",
    "\"\"\"\n",
    "    )"
   ]
  },
  {
   "cell_type": "code",
   "execution_count": 47,
   "metadata": {},
   "outputs": [],
   "source": [
    "query_update_doador_candidatura_id=f\"\"\"\n",
    "    with candidatos as\n",
    "    (\n",
    "    select candidato_id,candidatura_id \n",
    "    from {table_candidaturas}\n",
    "    )\n",
    "    update {table_receitas} as r\n",
    "        set doador_id                  = c.candidato_id,\n",
    "            doador_tipo_cd             = 'CD',\n",
    "            doador_tipo_ds             = 'Candidato',\n",
    "            doador_candidatura_id      = c.candidatura_id\n",
    "        from candidatos c\n",
    "        WHERE\n",
    "            doador_id = c.candidato_id             \n",
    "    ;        \n",
    "    \"\"\"\n",
    "\n",
    "mtse.execute_query(query_update_doador_candidatura_id)"
   ]
  },
  {
   "cell_type": "code",
   "execution_count": 48,
   "metadata": {},
   "outputs": [
    {
     "name": "stdout",
     "output_type": "stream",
     "text": [
      "2020-10-20 23:18:23.301024\n"
     ]
    }
   ],
   "source": [
    "import datetime\n",
    "print(datetime.datetime.now())"
   ]
  },
  {
   "cell_type": "code",
   "execution_count": null,
   "metadata": {},
   "outputs": [],
   "source": []
  }
 ],
 "metadata": {
  "anaconda-cloud": {},
  "kernelspec": {
   "display_name": "Python 3",
   "language": "python",
   "name": "python3"
  },
  "language_info": {
   "codemirror_mode": {
    "name": "ipython",
    "version": 3
   },
   "file_extension": ".py",
   "mimetype": "text/x-python",
   "name": "python",
   "nbconvert_exporter": "python",
   "pygments_lexer": "ipython3",
   "version": "3.7.6"
  }
 },
 "nbformat": 4,
 "nbformat_minor": 4
}
