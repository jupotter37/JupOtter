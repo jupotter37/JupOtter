{
 "cells": [
  {
   "cell_type": "markdown",
   "metadata": {},
   "source": [
    "# Model 1 with FPC mask\n",
    "\n",
    "## Level 1:\n",
    "### EVs:\n",
    "stimulus appication  \n",
    "stimulus learning  \n",
    "stimulus na  \n",
    "feedback correct  \n",
    "feedback incorrect  \n",
    "feedback na  \n",
    "\n",
    "### Contrasts:\n",
    "stimulus appication>0  \n",
    "stimulus learning>0  \n",
    "stimulus appication>stimulus learning  \n",
    "\n",
    "## Level 2:\n",
    "task001 task1  \n",
    "task001 task2   \n",
    "task001 task1>task2  \n",
    "task001 task2>task1   \n",
    "\n",
    "## Level 3:\n",
    "positive contrast  \n",
    "negative contrast  \n",
    "\n",
    "## FPC mask\n",
    "*Images from randomise (cluster mass with t=2.49 and v=8) are thresholded at .95 and overlaid with unthresholded t-maps."
   ]
  },
  {
   "cell_type": "markdown",
   "metadata": {},
   "source": [
    "### Prepare stuff"
   ]
  },
  {
   "cell_type": "code",
   "execution_count": 1,
   "metadata": {},
   "outputs": [],
   "source": [
    "import os\n",
    "from IPython.display import IFrame\n",
    "from IPython.display import Image\n",
    "\n",
    "# This function renders interactive brain images\n",
    "def render(name,brain_list):\n",
    "    \n",
    "    #prepare file paths\n",
    "    brain_files = []\n",
    "    for b in brain_list:\n",
    "        brain_files.append(os.path.join(\"data\",b))\n",
    "    \n",
    "    wdata = \"\"\"\n",
    "    <!DOCTYPE html>\n",
    "\n",
    "<html xmlns=\"http://www.w3.org/1999/xhtml\" lang=\"en\">\n",
    "\t<head>\n",
    "    \t<meta http-equiv=\"Content-Type\" content=\"text/html; charset=utf-8\"/>\n",
    "    \n",
    "    \t<!-- iOS meta tags -->\n",
    "    \t<meta name=\"viewport\" content=\"width=device-width, initial-scale=1.0, user-scalable=no\"/>\n",
    "    \t<meta name=\"apple-mobile-web-app-capable\" content=\"yes\">\n",
    "    \t<meta name=\"apple-mobile-web-app-status-bar-style\" content=\"black-translucent\">\n",
    "    \n",
    "    \t<link rel=\"stylesheet\" type=\"text/css\" href=\"../papaya/papaya.css?build=1420\" />\n",
    "    \t<script type=\"text/javascript\" src=\"../papaya/papaya.js?build=1422\"></script>\n",
    "    \n",
    "    \t<title>Papaya Viewer</title>\n",
    "    \n",
    "\t<script type=\"text/javascript\">\n",
    "    \n",
    "    var params = [];\n",
    "    params[\"worldSpace\"] = true;\n",
    "    params[\"atlas\"] = \"MNI (Nearest Grey Matter)\";\n",
    "    params[\"images\"] = %s;\n",
    "    \n",
    "    </script>\n",
    "\n",
    "\t</head>\n",
    "\n",
    "\t<body>\n",
    "\t\t\n",
    "\t\t<div class=\"papaya\" data-params=\"params\"></div>\n",
    "\t\t\n",
    "\t</body>\n",
    "</html>\n",
    "    \"\"\" % str(brain_files)\n",
    "    \n",
    "    fname=name+\"index.html\"\n",
    "    with open (fname, 'w') as f: f.write (wdata)\n",
    "\n",
    "    return IFrame(fname, width=800, height=600)"
   ]
  },
  {
   "cell_type": "code",
   "execution_count": 2,
   "metadata": {
    "collapsed": true
   },
   "outputs": [],
   "source": [
    "# variables\n",
    "l1cope=\"0\"\n",
    "l2cope=\"0\"\n",
    "l3cope=\"0\"\n",
    "def paths():\n",
    "    sliced_img = os.path.join(\"data\", \"img_\"+l1cope+\"_\"+l2cope+\"_\"+l3cope+\"_wb.png\")\n",
    "    wb_img = \"WB.nii.gz\"\n",
    "    cluster_corr = \"rand_\"+l1cope+\"_\"+l2cope+\"_\"+l3cope+\".nii.gz\"\n",
    "    tstat_img = os.path.join(\"data\", \"imgt_\"+l1cope+\"_\"+l2cope+\"_\"+l3cope+\"_wb.png\")\n",
    "    html_cl = l1cope+\"_\"+l2cope+\"_\"+l3cope\n",
    "    html_t = l1cope+\"_\"+l2cope+\"_\"+l3cope+\"t\"\n",
    "    return sliced_img,wb_img,cluster_corr,tstat_img,html_cl,html_t"
   ]
  },
  {
   "cell_type": "markdown",
   "metadata": {
    "scrolled": false
   },
   "source": [
    "# Model results"
   ]
  },
  {
   "cell_type": "markdown",
   "metadata": {},
   "source": [
    "# Rule learning and rule application in the matching task"
   ]
  },
  {
   "cell_type": "markdown",
   "metadata": {},
   "source": [
    "## Rule Learning > Rule Application"
   ]
  },
  {
   "cell_type": "code",
   "execution_count": 3,
   "metadata": {
    "scrolled": false
   },
   "outputs": [],
   "source": [
    "l1cope=\"3\"\n",
    "l2cope=\"1\"\n",
    "l3cope=\"2\"\n",
    "sliced_img,wb_img,cluster_corr,tstat_img,html_cl,html_t = paths()"
   ]
  },
  {
   "cell_type": "code",
   "execution_count": 4,
   "metadata": {
    "scrolled": false
   },
   "outputs": [
    {
     "data": {
      "text/html": [
       "\n",
       "        <iframe\n",
       "            width=\"800\"\n",
       "            height=\"600\"\n",
       "            src=\"3_1_2index.html\"\n",
       "            frameborder=\"0\"\n",
       "            allowfullscreen\n",
       "        ></iframe>\n",
       "        "
      ],
      "text/plain": [
       "<IPython.lib.display.IFrame at 0x7f1a247207f0>"
      ]
     },
     "execution_count": 4,
     "metadata": {},
     "output_type": "execute_result"
    }
   ],
   "source": [
    "render(html_cl,[wb_img,cluster_corr])"
   ]
  },
  {
   "cell_type": "markdown",
   "metadata": {},
   "source": [
    "## Rule Application > Rule Learning "
   ]
  },
  {
   "cell_type": "code",
   "execution_count": 5,
   "metadata": {
    "scrolled": false
   },
   "outputs": [],
   "source": [
    "l1cope=\"3\"\n",
    "l2cope=\"1\"\n",
    "l3cope=\"1\"\n",
    "sliced_img,wb_img,cluster_corr,tstat_img,html_cl,html_t = paths()"
   ]
  },
  {
   "cell_type": "code",
   "execution_count": 6,
   "metadata": {
    "scrolled": false
   },
   "outputs": [
    {
     "data": {
      "text/html": [
       "\n",
       "        <iframe\n",
       "            width=\"800\"\n",
       "            height=\"600\"\n",
       "            src=\"3_1_1index.html\"\n",
       "            frameborder=\"0\"\n",
       "            allowfullscreen\n",
       "        ></iframe>\n",
       "        "
      ],
      "text/plain": [
       "<IPython.lib.display.IFrame at 0x7f1a24720b70>"
      ]
     },
     "execution_count": 6,
     "metadata": {},
     "output_type": "execute_result"
    }
   ],
   "source": [
    "render(html_cl,[wb_img,cluster_corr])"
   ]
  },
  {
   "cell_type": "markdown",
   "metadata": {},
   "source": [
    "## Rule Learning > Baseline"
   ]
  },
  {
   "cell_type": "code",
   "execution_count": 7,
   "metadata": {
    "scrolled": false
   },
   "outputs": [],
   "source": [
    "l1cope=\"2\"\n",
    "l2cope=\"1\"\n",
    "l3cope=\"1\"\n",
    "sliced_img,wb_img,cluster_corr,tstat_img,html_cl,html_t = paths()"
   ]
  },
  {
   "cell_type": "code",
   "execution_count": 8,
   "metadata": {
    "scrolled": false
   },
   "outputs": [
    {
     "data": {
      "text/html": [
       "\n",
       "        <iframe\n",
       "            width=\"800\"\n",
       "            height=\"600\"\n",
       "            src=\"2_1_1index.html\"\n",
       "            frameborder=\"0\"\n",
       "            allowfullscreen\n",
       "        ></iframe>\n",
       "        "
      ],
      "text/plain": [
       "<IPython.lib.display.IFrame at 0x7f1a247206a0>"
      ]
     },
     "execution_count": 8,
     "metadata": {},
     "output_type": "execute_result"
    }
   ],
   "source": [
    "render(html_cl,[wb_img,cluster_corr])"
   ]
  },
  {
   "cell_type": "markdown",
   "metadata": {},
   "source": [
    "## Baseline > Rule Learning"
   ]
  },
  {
   "cell_type": "code",
   "execution_count": 9,
   "metadata": {
    "scrolled": false
   },
   "outputs": [],
   "source": [
    "l1cope=\"2\"\n",
    "l2cope=\"1\"\n",
    "l3cope=\"2\"\n",
    "sliced_img,wb_img,cluster_corr,tstat_img,html_cl,html_t = paths()"
   ]
  },
  {
   "cell_type": "code",
   "execution_count": 10,
   "metadata": {
    "scrolled": false
   },
   "outputs": [
    {
     "data": {
      "text/html": [
       "\n",
       "        <iframe\n",
       "            width=\"800\"\n",
       "            height=\"600\"\n",
       "            src=\"2_1_2index.html\"\n",
       "            frameborder=\"0\"\n",
       "            allowfullscreen\n",
       "        ></iframe>\n",
       "        "
      ],
      "text/plain": [
       "<IPython.lib.display.IFrame at 0x7f1a24720550>"
      ]
     },
     "execution_count": 10,
     "metadata": {},
     "output_type": "execute_result"
    }
   ],
   "source": [
    "render(html_cl,[wb_img,cluster_corr])"
   ]
  },
  {
   "cell_type": "markdown",
   "metadata": {},
   "source": [
    "## Rule Application > Baseline"
   ]
  },
  {
   "cell_type": "code",
   "execution_count": 11,
   "metadata": {
    "scrolled": false
   },
   "outputs": [],
   "source": [
    "l1cope=\"1\"\n",
    "l2cope=\"1\"\n",
    "l3cope=\"1\"\n",
    "sliced_img,wb_img,cluster_corr,tstat_img,html_cl,html_t = paths()"
   ]
  },
  {
   "cell_type": "code",
   "execution_count": 12,
   "metadata": {
    "scrolled": false
   },
   "outputs": [
    {
     "data": {
      "text/html": [
       "\n",
       "        <iframe\n",
       "            width=\"800\"\n",
       "            height=\"600\"\n",
       "            src=\"1_1_1index.html\"\n",
       "            frameborder=\"0\"\n",
       "            allowfullscreen\n",
       "        ></iframe>\n",
       "        "
      ],
      "text/plain": [
       "<IPython.lib.display.IFrame at 0x7f1a24720da0>"
      ]
     },
     "execution_count": 12,
     "metadata": {},
     "output_type": "execute_result"
    }
   ],
   "source": [
    "render(html_cl,[wb_img,cluster_corr])"
   ]
  },
  {
   "cell_type": "markdown",
   "metadata": {},
   "source": [
    "## Baseline > Rule Application  "
   ]
  },
  {
   "cell_type": "code",
   "execution_count": 13,
   "metadata": {
    "scrolled": false
   },
   "outputs": [
    {
     "data": {
      "image/png": "data/img_1_1_2_wb.png",
      "text/plain": [
       "<IPython.core.display.Image object>"
      ]
     },
     "execution_count": 13,
     "metadata": {},
     "output_type": "execute_result"
    }
   ],
   "source": [
    "l1cope=\"1\"\n",
    "l2cope=\"1\"\n",
    "l3cope=\"2\"\n",
    "sliced_img,wb_img,cluster_corr,tstat_img,html_cl,html_t = paths()\n",
    "Image(sliced_img)"
   ]
  },
  {
   "cell_type": "code",
   "execution_count": 14,
   "metadata": {
    "scrolled": false
   },
   "outputs": [
    {
     "data": {
      "text/html": [
       "\n",
       "        <iframe\n",
       "            width=\"800\"\n",
       "            height=\"600\"\n",
       "            src=\"1_1_2index.html\"\n",
       "            frameborder=\"0\"\n",
       "            allowfullscreen\n",
       "        ></iframe>\n",
       "        "
      ],
      "text/plain": [
       "<IPython.lib.display.IFrame at 0x7f1a2471b6a0>"
      ]
     },
     "execution_count": 14,
     "metadata": {},
     "output_type": "execute_result"
    }
   ],
   "source": [
    "render(html_cl,[wb_img,cluster_corr])"
   ]
  },
  {
   "cell_type": "markdown",
   "metadata": {},
   "source": [
    "# Rule learning and rule application in the classification task"
   ]
  },
  {
   "cell_type": "markdown",
   "metadata": {},
   "source": [
    "## Rule Learning > Rule Application"
   ]
  },
  {
   "cell_type": "code",
   "execution_count": 15,
   "metadata": {
    "scrolled": false
   },
   "outputs": [],
   "source": [
    "l1cope=\"3\"\n",
    "l2cope=\"2\"\n",
    "l3cope=\"2\"\n",
    "sliced_img,wb_img,cluster_corr,tstat_img,html_cl,html_t = paths()"
   ]
  },
  {
   "cell_type": "code",
   "execution_count": 16,
   "metadata": {
    "scrolled": false
   },
   "outputs": [
    {
     "data": {
      "text/html": [
       "\n",
       "        <iframe\n",
       "            width=\"800\"\n",
       "            height=\"600\"\n",
       "            src=\"3_2_2index.html\"\n",
       "            frameborder=\"0\"\n",
       "            allowfullscreen\n",
       "        ></iframe>\n",
       "        "
      ],
      "text/plain": [
       "<IPython.lib.display.IFrame at 0x7f1a2471b550>"
      ]
     },
     "execution_count": 16,
     "metadata": {},
     "output_type": "execute_result"
    }
   ],
   "source": [
    "render(html_cl,[wb_img,cluster_corr])"
   ]
  },
  {
   "cell_type": "markdown",
   "metadata": {},
   "source": [
    "## Rule Learning > Baseline "
   ]
  },
  {
   "cell_type": "code",
   "execution_count": 17,
   "metadata": {
    "scrolled": false
   },
   "outputs": [],
   "source": [
    "l1cope=\"2\"\n",
    "l2cope=\"2\"\n",
    "l3cope=\"1\"\n",
    "sliced_img,wb_img,cluster_corr,tstat_img,html_cl,html_t = paths()"
   ]
  },
  {
   "cell_type": "code",
   "execution_count": 18,
   "metadata": {
    "scrolled": false
   },
   "outputs": [
    {
     "data": {
      "text/html": [
       "\n",
       "        <iframe\n",
       "            width=\"800\"\n",
       "            height=\"600\"\n",
       "            src=\"2_2_1index.html\"\n",
       "            frameborder=\"0\"\n",
       "            allowfullscreen\n",
       "        ></iframe>\n",
       "        "
      ],
      "text/plain": [
       "<IPython.lib.display.IFrame at 0x7f1a2471b2b0>"
      ]
     },
     "execution_count": 18,
     "metadata": {},
     "output_type": "execute_result"
    }
   ],
   "source": [
    "render(html_cl,[wb_img,cluster_corr])"
   ]
  },
  {
   "cell_type": "markdown",
   "metadata": {},
   "source": [
    "## Baseline > Rule Learning  "
   ]
  },
  {
   "cell_type": "code",
   "execution_count": 19,
   "metadata": {
    "scrolled": false
   },
   "outputs": [],
   "source": [
    "l1cope=\"2\"\n",
    "l2cope=\"2\"\n",
    "l3cope=\"2\"\n",
    "sliced_img,wb_img,cluster_corr,tstat_img,html_cl,html_t = paths()"
   ]
  },
  {
   "cell_type": "code",
   "execution_count": 20,
   "metadata": {
    "scrolled": false
   },
   "outputs": [
    {
     "data": {
      "text/html": [
       "\n",
       "        <iframe\n",
       "            width=\"800\"\n",
       "            height=\"600\"\n",
       "            src=\"2_2_2index.html\"\n",
       "            frameborder=\"0\"\n",
       "            allowfullscreen\n",
       "        ></iframe>\n",
       "        "
      ],
      "text/plain": [
       "<IPython.lib.display.IFrame at 0x7f1a2471b828>"
      ]
     },
     "execution_count": 20,
     "metadata": {},
     "output_type": "execute_result"
    }
   ],
   "source": [
    "render(html_cl,[wb_img,cluster_corr])"
   ]
  },
  {
   "cell_type": "markdown",
   "metadata": {},
   "source": [
    "## Rule Application > Baseline"
   ]
  },
  {
   "cell_type": "code",
   "execution_count": 21,
   "metadata": {
    "scrolled": false
   },
   "outputs": [],
   "source": [
    "l1cope=\"1\"\n",
    "l2cope=\"2\"\n",
    "l3cope=\"1\"\n",
    "sliced_img,wb_img,cluster_corr,tstat_img,html_cl,html_t = paths()"
   ]
  },
  {
   "cell_type": "code",
   "execution_count": 22,
   "metadata": {
    "scrolled": false
   },
   "outputs": [
    {
     "data": {
      "text/html": [
       "\n",
       "        <iframe\n",
       "            width=\"800\"\n",
       "            height=\"600\"\n",
       "            src=\"1_2_1index.html\"\n",
       "            frameborder=\"0\"\n",
       "            allowfullscreen\n",
       "        ></iframe>\n",
       "        "
      ],
      "text/plain": [
       "<IPython.lib.display.IFrame at 0x7f1a2471ba90>"
      ]
     },
     "execution_count": 22,
     "metadata": {},
     "output_type": "execute_result"
    }
   ],
   "source": [
    "render(html_cl,[wb_img,cluster_corr])"
   ]
  },
  {
   "cell_type": "markdown",
   "metadata": {},
   "source": [
    "## Baseline > Rule Application"
   ]
  },
  {
   "cell_type": "code",
   "execution_count": 23,
   "metadata": {
    "scrolled": false
   },
   "outputs": [],
   "source": [
    "l1cope=\"1\"\n",
    "l2cope=\"2\"\n",
    "l3cope=\"2\"\n",
    "sliced_img,wb_img,cluster_corr,tstat_img,html_cl,html_t = paths()"
   ]
  },
  {
   "cell_type": "code",
   "execution_count": 24,
   "metadata": {
    "scrolled": false
   },
   "outputs": [
    {
     "data": {
      "text/html": [
       "\n",
       "        <iframe\n",
       "            width=\"800\"\n",
       "            height=\"600\"\n",
       "            src=\"1_2_2index.html\"\n",
       "            frameborder=\"0\"\n",
       "            allowfullscreen\n",
       "        ></iframe>\n",
       "        "
      ],
      "text/plain": [
       "<IPython.lib.display.IFrame at 0x7f1a2471b0b8>"
      ]
     },
     "execution_count": 24,
     "metadata": {},
     "output_type": "execute_result"
    }
   ],
   "source": [
    "render(html_cl,[wb_img,cluster_corr])"
   ]
  },
  {
   "cell_type": "markdown",
   "metadata": {},
   "source": [
    "# Rule learning in the matching and classification tasks"
   ]
  },
  {
   "cell_type": "markdown",
   "metadata": {},
   "source": [
    "## Matching > Classification "
   ]
  },
  {
   "cell_type": "code",
   "execution_count": 25,
   "metadata": {
    "scrolled": false
   },
   "outputs": [],
   "source": [
    "l1cope=\"2\"\n",
    "l2cope=\"3\"\n",
    "l3cope=\"1\"\n",
    "sliced_img,wb_img,cluster_corr,tstat_img,html_cl,html_t = paths()"
   ]
  },
  {
   "cell_type": "code",
   "execution_count": 26,
   "metadata": {
    "scrolled": false
   },
   "outputs": [
    {
     "data": {
      "text/html": [
       "\n",
       "        <iframe\n",
       "            width=\"800\"\n",
       "            height=\"600\"\n",
       "            src=\"2_3_1index.html\"\n",
       "            frameborder=\"0\"\n",
       "            allowfullscreen\n",
       "        ></iframe>\n",
       "        "
      ],
      "text/plain": [
       "<IPython.lib.display.IFrame at 0x7f1a2471b358>"
      ]
     },
     "execution_count": 26,
     "metadata": {},
     "output_type": "execute_result"
    }
   ],
   "source": [
    "render(html_cl,[wb_img,cluster_corr])"
   ]
  },
  {
   "cell_type": "markdown",
   "metadata": {},
   "source": [
    "## Classification > Matching"
   ]
  },
  {
   "cell_type": "code",
   "execution_count": 27,
   "metadata": {
    "scrolled": false
   },
   "outputs": [],
   "source": [
    "l1cope=\"2\"\n",
    "l2cope=\"3\"\n",
    "l3cope=\"2\"\n",
    "sliced_img,wb_img,cluster_corr,tstat_img,html_cl,html_t = paths()"
   ]
  },
  {
   "cell_type": "code",
   "execution_count": 28,
   "metadata": {
    "scrolled": false
   },
   "outputs": [
    {
     "data": {
      "text/html": [
       "\n",
       "        <iframe\n",
       "            width=\"800\"\n",
       "            height=\"600\"\n",
       "            src=\"2_3_2index.html\"\n",
       "            frameborder=\"0\"\n",
       "            allowfullscreen\n",
       "        ></iframe>\n",
       "        "
      ],
      "text/plain": [
       "<IPython.lib.display.IFrame at 0x7f1a2471bc50>"
      ]
     },
     "execution_count": 28,
     "metadata": {},
     "output_type": "execute_result"
    }
   ],
   "source": [
    "render(html_cl,[wb_img,cluster_corr])"
   ]
  },
  {
   "cell_type": "markdown",
   "metadata": {},
   "source": [
    "# Rule application in the matching and classification tasks"
   ]
  },
  {
   "cell_type": "markdown",
   "metadata": {},
   "source": [
    "## Matching > Classification"
   ]
  },
  {
   "cell_type": "code",
   "execution_count": 29,
   "metadata": {
    "scrolled": false
   },
   "outputs": [],
   "source": [
    "l1cope=\"1\"\n",
    "l2cope=\"3\"\n",
    "l3cope=\"1\"\n",
    "sliced_img,wb_img,cluster_corr,tstat_img,html_cl,html_t = paths()"
   ]
  },
  {
   "cell_type": "code",
   "execution_count": 30,
   "metadata": {
    "scrolled": false
   },
   "outputs": [
    {
     "data": {
      "text/html": [
       "\n",
       "        <iframe\n",
       "            width=\"800\"\n",
       "            height=\"600\"\n",
       "            src=\"1_3_1index.html\"\n",
       "            frameborder=\"0\"\n",
       "            allowfullscreen\n",
       "        ></iframe>\n",
       "        "
      ],
      "text/plain": [
       "<IPython.lib.display.IFrame at 0x7f1a2471b438>"
      ]
     },
     "execution_count": 30,
     "metadata": {},
     "output_type": "execute_result"
    }
   ],
   "source": [
    "render(html_cl,[wb_img,cluster_corr])"
   ]
  },
  {
   "cell_type": "markdown",
   "metadata": {},
   "source": [
    "## Classification > Matching"
   ]
  },
  {
   "cell_type": "code",
   "execution_count": 31,
   "metadata": {
    "scrolled": false
   },
   "outputs": [],
   "source": [
    "l1cope=\"1\"\n",
    "l2cope=\"3\"\n",
    "l3cope=\"2\"\n",
    "sliced_img,wb_img,cluster_corr,tstat_img,html_cl,html_t = paths()"
   ]
  },
  {
   "cell_type": "code",
   "execution_count": 32,
   "metadata": {
    "scrolled": false
   },
   "outputs": [
    {
     "data": {
      "text/html": [
       "\n",
       "        <iframe\n",
       "            width=\"800\"\n",
       "            height=\"600\"\n",
       "            src=\"1_3_2index.html\"\n",
       "            frameborder=\"0\"\n",
       "            allowfullscreen\n",
       "        ></iframe>\n",
       "        "
      ],
      "text/plain": [
       "<IPython.lib.display.IFrame at 0x7f1a2471b908>"
      ]
     },
     "execution_count": 32,
     "metadata": {},
     "output_type": "execute_result"
    }
   ],
   "source": [
    "render(html_cl,[wb_img,cluster_corr])"
   ]
  }
 ],
 "metadata": {
  "anaconda-cloud": {},
  "kernelspec": {
   "display_name": "Python 3",
   "language": "python",
   "name": "python3"
  },
  "language_info": {
   "codemirror_mode": {
    "name": "ipython",
    "version": 3
   },
   "file_extension": ".py",
   "mimetype": "text/x-python",
   "name": "python",
   "nbconvert_exporter": "python",
   "pygments_lexer": "ipython3",
   "version": "3.6.3"
  }
 },
 "nbformat": 4,
 "nbformat_minor": 1
}
