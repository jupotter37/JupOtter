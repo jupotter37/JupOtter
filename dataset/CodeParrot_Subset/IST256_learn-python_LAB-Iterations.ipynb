{
 "cells": [
  {
   "cell_type": "markdown",
   "metadata": {},
   "source": [
    "# Class Coding Lab: Iterations\n",
    "\n",
    "The goals of this lab are to help you to understand:\n",
    "\n",
    "- How loops work.\n",
    "- The difference between definite and indefinite loops, and when to use each.\n",
    "- How to build an indefinite loop with complex exit conditions.\n",
    "- How to create a program from a complex idea.\n"
   ]
  },
  {
   "cell_type": "markdown",
   "metadata": {},
   "source": [
    "# Understanding Iterations\n",
    "\n",
    "Iterations permit us to repeat code until a Boolean expression is `False`. Iterations or **loops** allow us to write succinct, compact code. Here's an example, which counts to 3 before [Blitzing the Quarterback in backyard American Football](https://www.quora.com/What-is-the-significance-of-counting-one-Mississippi-two-Mississippi-and-so-on):"
   ]
  },
  {
   "cell_type": "code",
   "execution_count": null,
   "metadata": {
    "code_cell_type": "run_code"
   },
   "outputs": [],
   "source": [
    "i = 1\n",
    "while i <= 3:\n",
    "    print(i,\"Mississippi...\")\n",
    "    i=i+1\n",
    "print(\"Blitz!\")"
   ]
  },
  {
   "cell_type": "markdown",
   "metadata": {},
   "source": [
    "## Breaking it down...\n",
    "\n",
    "The `while` statement on line 2 starts the loop. The code indented beneath the `while` (lines 3-4) will repeat, in a linear fashion until the Boolean expression on line 2 `i <= 3` is `False`, at which time the program continues with line 5.\n",
    "\n",
    "### Some Terminology\n",
    "\n",
    "We call `i <=3` the loop's **exit condition**. The variable `i` inside the exit condition is the only thing that we can change to make the exit condition `False`, therefore it is the **loop control variable**. On line 4 we change the loop control variable by adding one to it, this is called an **increment**.\n",
    "\n",
    "Furthermore, we know how many times this loop will execute before it actually runs: 3. Even if we allowed the user to enter a number, and looped that many times, we would still know. We call this a **definite loop**. Whenever we iterate over a fixed number of values, regardless of whether those values are determined at run-time or not, we're using a definite loop.\n",
    "\n",
    "If the loop control variable never forces the exit condition to be `False`, we have an **infinite loop**. As the name implies, an Infinite loop never ends and typically causes our computer to crash or lock up.   "
   ]
  },
  {
   "cell_type": "code",
   "execution_count": null,
   "metadata": {
    "code_cell_type": "run_code"
   },
   "outputs": [],
   "source": [
    "## WARNING!!! INFINITE LOOP AHEAD\n",
    "## IF YOU RUN THIS CODE YOU WILL NEED TO STOP OR RESTART THE KERNEL AFTER RUNNING THIS!!!\n",
    "\n",
    "i = 1\n",
    "while i <= 3:\n",
    "    print(i,\"Mississippi...\")\n",
    "print(\"Blitz!\")"
   ]
  },
  {
   "cell_type": "markdown",
   "metadata": {},
   "source": [
    "### For loops\n",
    "\n",
    "To prevent an infinite loop when the loop is definite, we use the `for` statement. Here's the same program using `for`:"
   ]
  },
  {
   "cell_type": "code",
   "execution_count": null,
   "metadata": {
    "code_cell_type": "run_code"
   },
   "outputs": [],
   "source": [
    "for i in range(1,4):\n",
    "    print(i,\"Mississippi...\")\n",
    "print(\"Blitz!\")"
   ]
  },
  {
   "cell_type": "markdown",
   "metadata": {},
   "source": [
    "One confusing aspect of this loop is `range(1,4)` why does this loop from 1 to 3? Why not 1 to 4? Well it has to do with the fact that computers start counting at zero. The easier way to understand it is if you subtract the two numbers you get the number of times it will loop. So for example, 4-1 == 3.\n",
    "\n",
    "### 1.1 You Code\n",
    "\n",
    "In the space below, Re-Write the above program to count Mississippi from 10 to 15. You need practice **writing** loops, so make sure you do NOT copy the code.\n",
    "\n",
    "Note: How many times will that loop?"
   ]
  },
  {
   "cell_type": "code",
   "execution_count": null,
   "metadata": {
    "code_cell_type": "write_code",
    "label": "1.1",
    "solution": [
     "for i in range(10,16):\n",
     "    print(i,\"Mississippi...\")\n",
     "print(\"Blitz!\")\n"
    ]
   },
   "outputs": [],
   "source": [
    "# TODO Write code here\n"
   ]
  },
  {
   "cell_type": "markdown",
   "metadata": {},
   "source": [
    "## Indefinite loops\n",
    "\n",
    "With **indefinite loops** we do not know how many times the program will execute. This is typically based on user action, and therefore our loop is subject to the whims of whoever interacts with it. Most applications like spreadsheets, photo editors, and games use indefinite loops. They'll run on your computer, seemingly forever, until you choose to quit the application.  \n",
    "\n",
    "The classic indefinite loop pattern involves getting input from the user inside the loop. We then inspect the input and based on that input we might exit the loop. Here's an example:"
   ]
  },
  {
   "cell_type": "code",
   "execution_count": null,
   "metadata": {
    "code_cell_type": "run_code"
   },
   "outputs": [],
   "source": [
    "name = \"\"\n",
    "while name != 'mike':\n",
    "    name = input(\"Say my name! : \")\n",
    "    print(f\"Nope, my name is not {name}!\")"
   ]
  },
  {
   "cell_type": "markdown",
   "metadata": {},
   "source": [
    "In the above example, the loop will keep on looping until we enter `mike`. The value `mike` is called the **sentinal** value - a value we look out for, and when it exists we stop the loop. For this reason indefinite loops are also known as **sentinal-controlled loops**.\n",
    "\n",
    "The classic problem with indefinite/sentinal controlled loops is that its really difficult to get the application's logic to line up with the exit condition. For example we need to set `name = \"\"` in line 1 so that line 2 starts out as `True`. Also we have this wonky logic where when we say `'mike'` it still prints `Nope, my name is not mike!` before exiting.\n",
    "\n",
    "### Break statement\n",
    "\n",
    "The solution to this problem is to use the break statement. **break** tells Python to exit the loop immediately. We then re-structure all of our indefinite loops to look like this:\n",
    "\n",
    "```\n",
    "while True:\n",
    "    if sentinel-controlled-exit-condition:\n",
    "        break\n",
    "```\n",
    "\n",
    "Here's our program we-written with the break statement. **This is the recommended way to write indefinite loops in this course.**\n",
    "\n",
    "NOTE: We always check for the sentinal value immediately AFTER the `input()` function."
   ]
  },
  {
   "cell_type": "code",
   "execution_count": null,
   "metadata": {
    "code_cell_type": "run_code"
   },
   "outputs": [],
   "source": [
    "while True:\n",
    "    name = input(\"Say my name!: \")\n",
    "    if name == 'mike':\n",
    "        break\n",
    "    print(\"Nope, my name is not %s!\" %(name))"
   ]
  },
  {
   "cell_type": "markdown",
   "metadata": {},
   "source": [
    "### 1.2 You Code: Debug This loop\n",
    "\n",
    "This program should count the number of times you input the value `ni`. As soon as you enter a value other than `ni` the program will stop looping and print the count of `ni`'s.\n",
    "\n",
    "Example Run:\n",
    "\n",
    "    What say you? ni\n",
    "    What say you? ni\n",
    "    What say you? ni\n",
    "    What say you? nay\n",
    "    You said 'ni' 3 times.\n",
    "    \n",
    "The problem of course, is this code wasn't written correctly. Its up to you to get it working!"
   ]
  },
  {
   "cell_type": "code",
   "execution_count": null,
   "metadata": {
    "code_cell_type": "debug_code",
    "label": "1.2",
    "solution": [
     "nicount=0\n",
     "while True:\n",
     "    say = input(\"What say you? \")\n",
     "    if say != 'ni':\n",
     "        break\n",
     "    nicount = nicount + 1\n",
     "print(f\"You said 'ni' P {nicount} times.\")\n"
    ]
   },
   "outputs": [],
   "source": [
    "#TODO Debug this code\n",
    "nicount=0\n",
    "while True:\n",
    "    say = input \"What say you? \")\n",
    "    if say == 'ni':\n",
    "        break\n",
    "    nicount = 1\n",
    "print(f\"You said 'ni' P {nicount} times.\")    "
   ]
  },
  {
   "cell_type": "markdown",
   "metadata": {},
   "source": [
    "## Multiple exit conditions\n",
    "\n",
    "This indefinite loop pattern makes it easy to add additional exit conditions. For example, here's the program again, but it now stops when you say my name or type in 3 wrong names. \n",
    "\n",
    "Make sure to run this program a couple of times to understand what is happening:\n",
    "\n",
    "- First enter mike to exit the program, \n",
    "- Next enter the wrong name 3 times."
   ]
  },
  {
   "cell_type": "code",
   "execution_count": null,
   "metadata": {
    "code_cell_type": "run_code"
   },
   "outputs": [],
   "source": [
    "times = 0\n",
    "while True:\n",
    "    name = input(\"Say my name!: \")\n",
    "    times = times + 1\n",
    "    if name == 'mike': # sentinal 1\n",
    "        print(\"You got it!\")\n",
    "        break\n",
    "    if times == 3: # sentinal 2\n",
    "        print(\"Game over. Too many tries!\")\n",
    "        break\n",
    "    print(f\"Nope, my name is not {name}\")"
   ]
  },
  {
   "cell_type": "markdown",
   "metadata": {},
   "source": [
    "# Counting Characters in Text\n",
    "\n",
    "Let's conclude the lab with you writing your own program that uses both definite and indefinite loops. This program should input some text and then a character, counting the number of characters in the text. This process will repeat until the text entered is empty. \n",
    "\n",
    "The program should work as follows. Example run:\n",
    "\n",
    "    Enter a text, or press ENTER quit: mississippi\n",
    "    Which character are you searching for? i\n",
    "    There are 4 i's in mississippi\n",
    "    \n",
    "    Enter a text, or press ENTER quit: port-au-prince\n",
    "    Which character are you searching for? -\n",
    "    There are 4 -'s in port-au-prince\n",
    "\n",
    "    Enter a text, or press ENTER quit:\n",
    "    Goodbye!\n",
    "    \n",
    "    \n",
    "This seems complicated, so let's break the problem up using the **problem simplification** approach.\n",
    "\n",
    "First write code to count the numbers of characters in any text. Here is the algorithm:\n",
    "\n",
    "    set count to 0\n",
    "    input the text\n",
    "    input the search character\n",
    "    for ch in text\n",
    "        if ch equals the search character\n",
    "            increment the count\n",
    "    print there are {count} {search characters} in {text}\n",
    "    \n",
    "    \n",
    "### 1.3 You Code\n",
    "\n",
    "Implement the algorithm above in code in the cell below."
   ]
  },
  {
   "cell_type": "code",
   "execution_count": null,
   "metadata": {
    "code_cell_type": "write_code",
    "label": "1.3",
    "solution": [
     "count = 0\n",
     "text = input(\"Enter text: \")\n",
     "search = input(\"Which character are you searching for? \")\n",
     "for ch in text:\n",
     "    if ch == search:\n",
     "        count +=1\n",
     "print(f\"There are {count} {search}'s in {text}.\")\n"
    ]
   },
   "outputs": [],
   "source": [
    "# TODO Write code here\n"
   ]
  },
  {
   "cell_type": "markdown",
   "metadata": {},
   "source": [
    "Next, we surround the code we wrote in 1.4 with a sentinal-controlled indefinite loop. The sentinal (the part that exits the loop is when the text is empty (`text==\"\"`) The algorithm is:\n",
    "\n",
    "    loop\n",
    "        set count to 0\n",
    "        input the text\n",
    "        if text is empty quit loop\n",
    "        input the search character\n",
    "        for ch in text\n",
    "            if ch equals the search character\n",
    "                increment the count\n",
    "        print there are {count} {search characters} in {text}\n",
    "\n",
    "### 1.4 You Code\n",
    "\n",
    "Implement the algorithm above in code."
   ]
  },
  {
   "cell_type": "code",
   "execution_count": null,
   "metadata": {
    "code_cell_type": "write_code",
    "label": "1.4",
    "solution": [
     "while True:\n",
     "    count = 0\n",
     "    text = input(\"Enter text or press ENTER to quit: \")\n",
     "    if text == \"\":\n",
     "        break\n",
     "    search = input(\"Which character are you searching for? \")\n",
     "    for ch in text:\n",
     "        if ch == search:\n",
     "            count +=1\n",
     "    print(f\"There are {count} {search}'s in {text}.\")\n",
     "print(\"Goodbye!\")\n"
    ]
   },
   "outputs": [],
   "source": [
    "# TODO Write Code here:\n"
   ]
  },
  {
   "cell_type": "markdown",
   "metadata": {},
   "source": [
    "# Metacognition\n"
   ]
  },
  {
   "cell_type": "markdown",
   "metadata": {
    "label": "comfort_cell"
   },
   "source": [
    "\n",
    "### Rate your comfort level with this week's material so far.   \n",
    "\n",
    "**1** ==> I don't understand this at all yet and need extra help. If you choose this please try to articulate that which you do not understand to the best of your ability in the questions and comments section below.  \n",
    "**2** ==> I can do this with help or guidance from other people or resources. If you choose this level, please indicate HOW this person helped you in the questions and comments section below.   \n",
    "**3** ==> I can do this on my own without any help.   \n",
    "**4** ==> I can do this on my own and can explain/teach how to do it to others.\n",
    "\n",
    "`--== Double-Click Here then Enter a Number 1 through 4 Below This Line ==--`  \n",
    "\n"
   ]
  },
  {
   "cell_type": "markdown",
   "metadata": {
    "label": "questions_cell"
   },
   "source": [
    "###  Questions And Comments \n",
    "\n",
    "Record any questions or comments you have about this lab that you would like to discuss in your recitation. It is expected you will have questions if you did not complete the code sections correctly.  Learning how to articulate what you do not understand is an important skill of critical thinking. Write them down here so that you remember to ask them in your recitation. We expect you will take responsilbity for your learning and ask questions in class.\n",
    "\n",
    "`--== Double-click Here then Enter Your Questions Below this Line ==--`    \n",
    "\n"
   ]
  },
  {
   "cell_type": "code",
   "execution_count": null,
   "metadata": {},
   "outputs": [],
   "source": [
    "# run this code to turn in your work!\n",
    "from coursetools.submission import Submission\n",
    "Submission().submit()"
   ]
  }
 ],
 "metadata": {
  "anaconda-cloud": {},
  "kernelspec": {
   "display_name": "Python 3",
   "language": "python",
   "name": "python3"
  },
  "language_info": {
   "codemirror_mode": {
    "name": "ipython",
    "version": 3
   },
   "file_extension": ".py",
   "mimetype": "text/x-python",
   "name": "python",
   "nbconvert_exporter": "python",
   "pygments_lexer": "ipython3",
   "version": "3.8.6"
  },
  "toc": {
   "base_numbering": 1,
   "nav_menu": {},
   "number_sections": false,
   "sideBar": false,
   "skip_h1_title": false,
   "title_cell": "Table of Contents",
   "title_sidebar": "Contents",
   "toc_cell": false,
   "toc_position": {},
   "toc_section_display": false,
   "toc_window_display": false
  }
 },
 "nbformat": 4,
 "nbformat_minor": 4
}
