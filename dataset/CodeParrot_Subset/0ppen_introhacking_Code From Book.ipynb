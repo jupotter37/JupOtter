{
 "cells": [
  {
   "cell_type": "markdown",
   "metadata": {},
   "source": [
    "## Code from Book"
   ]
  },
  {
   "cell_type": "markdown",
   "metadata": {},
   "source": [
    "### 2. Getting Started"
   ]
  },
  {
   "cell_type": "code",
   "execution_count": null,
   "metadata": {
    "collapsed": true
   },
   "outputs": [],
   "source": [
    "! whoami"
   ]
  },
  {
   "cell_type": "code",
   "execution_count": null,
   "metadata": {
    "collapsed": false
   },
   "outputs": [],
   "source": [
    "%%bash \n",
    "echo $0"
   ]
  },
  {
   "cell_type": "code",
   "execution_count": null,
   "metadata": {
    "collapsed": false
   },
   "outputs": [],
   "source": [
    "! echo 'hello'"
   ]
  },
  {
   "cell_type": "code",
   "execution_count": null,
   "metadata": {
    "collapsed": true
   },
   "outputs": [],
   "source": [
    "import os\n",
    "os.__file__"
   ]
  },
  {
   "cell_type": "code",
   "execution_count": null,
   "metadata": {
    "collapsed": false
   },
   "outputs": [],
   "source": [
    "%timeit 9999 in range(10000)"
   ]
  },
  {
   "cell_type": "code",
   "execution_count": null,
   "metadata": {
    "collapsed": false
   },
   "outputs": [],
   "source": [
    "%%javascript\n",
    "var d = 10\n",
    "alert(\"d = \" + d)"
   ]
  },
  {
   "cell_type": "markdown",
   "metadata": {},
   "source": [
    "### 3. Thinking in Binary"
   ]
  },
  {
   "cell_type": "code",
   "execution_count": null,
   "metadata": {
    "collapsed": true
   },
   "outputs": [],
   "source": [
    "! file my_image.jpg"
   ]
  },
  {
   "cell_type": "code",
   "execution_count": null,
   "metadata": {
    "collapsed": true
   },
   "outputs": [],
   "source": [
    "import magic\n",
    "print magic.from_file(\"my_image.jpg\")"
   ]
  },
  {
   "cell_type": "code",
   "execution_count": null,
   "metadata": {
    "collapsed": true
   },
   "outputs": [],
   "source": [
    "if magic.from_file(\"upload.jpg\", mime=True) == \"image/jpeg\":\n",
    "    continue_uploading(\"upload.jpg\")\n",
    "else:\n",
    "    alert(\"Sorry! This file type is not allowed\")"
   ]
  },
  {
   "cell_type": "code",
   "execution_count": null,
   "metadata": {
    "collapsed": true
   },
   "outputs": [],
   "source": [
    "import imghdr\n",
    "print imghdr.what(\"path/to/my/file.ext\")"
   ]
  },
  {
   "cell_type": "code",
   "execution_count": null,
   "metadata": {
    "collapsed": true
   },
   "outputs": [],
   "source": [
    "import binascii\n",
    "\n",
    "def spoof_file(file, magic_number):\n",
    "    magic_number = binascii.unhexlify(magic_number)\n",
    "    with open(file, \"r+b\") as f:\n",
    "        old = f.read()\n",
    "        f.seek(0)\n",
    "        f.write(magic_number + old)"
   ]
  },
  {
   "cell_type": "code",
   "execution_count": null,
   "metadata": {
    "collapsed": true
   },
   "outputs": [],
   "source": [
    "! xxd -b my_file.docx | less"
   ]
  },
  {
   "cell_type": "code",
   "execution_count": null,
   "metadata": {
    "collapsed": true
   },
   "outputs": [],
   "source": [
    "! du -h my_file.docx"
   ]
  },
  {
   "cell_type": "code",
   "execution_count": null,
   "metadata": {
    "collapsed": true
   },
   "outputs": [],
   "source": [
    "def to_ascii_bytes(string):\n",
    "    return \" \".join(format(ord(char), '08b') for char in string)"
   ]
  },
  {
   "cell_type": "code",
   "execution_count": null,
   "metadata": {
    "collapsed": false
   },
   "outputs": [],
   "source": [
    "string = \"my ascii string\"\n",
    "\"\".join(hex(ord(char))[2:] for char in string)"
   ]
  },
  {
   "cell_type": "code",
   "execution_count": null,
   "metadata": {
    "collapsed": false
   },
   "outputs": [],
   "source": [
    "hex_string = \"6d7920617363696920737472696e67\"\n",
    "print hex_string.decode(\"hex\")\n",
    "print \"\".join(chr(int(hex_string[i:i+2], 16)) for i in range(0, len(hex_string), 2))"
   ]
  },
  {
   "cell_type": "code",
   "execution_count": null,
   "metadata": {
    "collapsed": false
   },
   "outputs": [],
   "source": [
    "# adapted from https://code.activestate.com/recipes/142812-hex-dumper/\n",
    "def hexdump(string, length=8):\n",
    "    result = []\n",
    "    digits = 4 if isinstance(string, unicode) else 2\n",
    "\n",
    "    for i in xrange(0, len(string), length):\n",
    "        s = string[i:i + length]\n",
    "        hexa = \"\".join(\"{:0{}X}\".format(ord(x), digits) for x in s)\n",
    "        text = \"\".join(x if 0x20 <= ord(x) < 0x7F else '.' for x in s)\n",
    "        result.append(\"{:04X}   {:{}}   {}\".format(i, hexa, length * (digits + 1), text))\n",
    "\n",
    "    return '\\n'.join(result)"
   ]
  },
  {
   "cell_type": "code",
   "execution_count": null,
   "metadata": {
    "collapsed": false
   },
   "outputs": [],
   "source": [
    "print hexdump(\"The quick brown fox jumps over the lazy dog\")"
   ]
  },
  {
   "cell_type": "code",
   "execution_count": null,
   "metadata": {
    "collapsed": false
   },
   "outputs": [],
   "source": [
    "import struct\n",
    "\n",
    "num = 0x103e4\n",
    "struct.pack(\"I\", 0x103e4)"
   ]
  },
  {
   "cell_type": "code",
   "execution_count": null,
   "metadata": {
    "collapsed": false
   },
   "outputs": [],
   "source": [
    "string = '\\xe4\\x03\\x01\\x00'\n",
    "struct.unpack(\"i\", string)"
   ]
  },
  {
   "cell_type": "code",
   "execution_count": null,
   "metadata": {
    "collapsed": false
   },
   "outputs": [],
   "source": [
    "bytes = '\\x01\\xc2'\n",
    "struct.pack(\"<h\", struct.unpack(\">h\", bytes)[0])"
   ]
  },
  {
   "cell_type": "code",
   "execution_count": null,
   "metadata": {
    "collapsed": false
   },
   "outputs": [],
   "source": [
    "import base64\n",
    "\n",
    "base64.b64encode('encodings are fun...')"
   ]
  },
  {
   "cell_type": "code",
   "execution_count": null,
   "metadata": {
    "collapsed": false
   },
   "outputs": [],
   "source": [
    "print base64.b64decode(_)"
   ]
  },
  {
   "cell_type": "code",
   "execution_count": null,
   "metadata": {
    "collapsed": false
   },
   "outputs": [],
   "source": [
    "string = \"hello\\x00\"\n",
    "binary_string = ' '.join('{:08b}'.format(ord(char)) for char in string)\n",
    "\" \".join(binary_string[i:i+6] for i in range(0, len(binary_string), 6))"
   ]
  },
  {
   "cell_type": "code",
   "execution_count": null,
   "metadata": {
    "collapsed": false
   },
   "outputs": [],
   "source": [
    "bin_string = '011010 000110 010101 101100 011011 000110 111100 000000'\n",
    "[int(b, 2) for b in bin_string.split()]"
   ]
  },
  {
   "cell_type": "code",
   "execution_count": null,
   "metadata": {
    "collapsed": false
   },
   "outputs": [],
   "source": [
    "%%bash\n",
    "echo -n hello | base64\n",
    "echo aGVsbG8= | base64 --decode && echo"
   ]
  },
  {
   "cell_type": "code",
   "execution_count": null,
   "metadata": {
    "collapsed": false
   },
   "outputs": [],
   "source": [
    "u'◑ \\u2020'.encode('utf8')"
   ]
  },
  {
   "cell_type": "code",
   "execution_count": null,
   "metadata": {
    "collapsed": false
   },
   "outputs": [],
   "source": [
    "'\\xe2\\x97\\x91 \\xe2\\x80\\xa0'.decode('utf8')"
   ]
  },
  {
   "cell_type": "code",
   "execution_count": null,
   "metadata": {
    "collapsed": false
   },
   "outputs": [],
   "source": [
    "unicode('\\xe2\\x97\\x91 \\xe2\\x80\\xa0', encoding='utf8')"
   ]
  },
  {
   "cell_type": "code",
   "execution_count": null,
   "metadata": {
    "collapsed": false
   },
   "outputs": [],
   "source": [
    "utf8_string = 'Åêíòü'\n",
    "utf8_string"
   ]
  },
  {
   "cell_type": "code",
   "execution_count": null,
   "metadata": {
    "collapsed": false
   },
   "outputs": [],
   "source": [
    "unicode_string = utf8_string.decode('utf8')\n",
    "unicode_string"
   ]
  },
  {
   "cell_type": "code",
   "execution_count": null,
   "metadata": {
    "collapsed": false
   },
   "outputs": [],
   "source": [
    "unicode_string.encode('mac roman')"
   ]
  },
  {
   "cell_type": "code",
   "execution_count": null,
   "metadata": {
    "collapsed": false
   },
   "outputs": [],
   "source": [
    "'Åêíòü'.decode('utf8').encode('ascii') # Raises UnicodeEncodeError"
   ]
  },
  {
   "cell_type": "code",
   "execution_count": null,
   "metadata": {
    "collapsed": true
   },
   "outputs": [],
   "source": [
    "! chardetect uni.txt another_file.txt"
   ]
  },
  {
   "cell_type": "code",
   "execution_count": null,
   "metadata": {
    "collapsed": false
   },
   "outputs": [],
   "source": [
    "file = \"\"\"潍楪慢敫椠⁳桴⁥慧扲敬⁤整瑸琠慨⁴獩琠敨爠獥汵⁴景琠硥⁴敢湩⁧敤潣敤⁤獵湩⁧湡甠楮瑮湥敤⁤档\n",
    "牡捡整⁲湥潣楤杮楷桴挠浯汰瑥汥⁹湵敲慬整⁤湯獥景整⁮牦浯愠搠晩敦敲瑮眠楲楴杮猠獹整⹭‧⠊慔敫⁮\n",
    "牦浯攠⹮楷楫数楤⹡牯⥧\"\"\"\n",
    "\n",
    "print file.decode('utf8').encode('utf16')"
   ]
  },
  {
   "cell_type": "code",
   "execution_count": null,
   "metadata": {
    "collapsed": false
   },
   "outputs": [],
   "source": [
    "import ftfy\n",
    "ftfy.fix_text(u\"â€œMojibakeâ€œ can be fixed.\")"
   ]
  },
  {
   "cell_type": "code",
   "execution_count": null,
   "metadata": {
    "collapsed": false
   },
   "outputs": [],
   "source": [
    "x = 0b1111\n",
    "y = 0b1010\n",
    "bin(int(\"{:b}{:b}\".format(x, y), 2))"
   ]
  },
  {
   "cell_type": "code",
   "execution_count": null,
   "metadata": {
    "collapsed": false
   },
   "outputs": [],
   "source": [
    "bin(x << 4 | y)"
   ]
  },
  {
   "cell_type": "markdown",
   "metadata": {},
   "source": [
    "### 4. Cryptography"
   ]
  },
  {
   "cell_type": "code",
   "execution_count": null,
   "metadata": {
    "collapsed": false
   },
   "outputs": [],
   "source": [
    "import random\n",
    "import string\n",
    "\n",
    "r = random.SystemRandom()\n",
    "\n",
    "# Get a random integer between 0 and 20\n",
    "r.randint(0, 20)\n",
    "\n",
    "# Get a random number between 0 and 1\n",
    "r.random()\n",
    "\n",
    "# Generate a random 40-bit number\n",
    "r.getrandbits(40)\n",
    "\n",
    "# Choose a random item from a string or list\n",
    "chars = string.printable\n",
    "r.choice(chars)\n",
    "\n",
    "# Randomize the order of a sequence\n",
    "seq = ['a', 'b', 'c', 'd', 'e']\n",
    "r.shuffle(seq)"
   ]
  },
  {
   "cell_type": "code",
   "execution_count": null,
   "metadata": {
    "collapsed": false
   },
   "outputs": [],
   "source": [
    "\"ALLIGATOR\".encode('rot13')"
   ]
  },
  {
   "cell_type": "code",
   "execution_count": null,
   "metadata": {
    "collapsed": false
   },
   "outputs": [],
   "source": [
    "\"NYYVTNGBE\".encode('rot13')"
   ]
  },
  {
   "cell_type": "code",
   "execution_count": null,
   "metadata": {
    "collapsed": false
   },
   "outputs": [],
   "source": [
    "plaintext = \"A secret-ish message!\"\n",
    "\"\".join(chr((ord(c) + 20) % 256) for c in plaintext)"
   ]
  },
  {
   "cell_type": "code",
   "execution_count": null,
   "metadata": {
    "collapsed": false
   },
   "outputs": [],
   "source": [
    "ciphertext = 'U4\\x87yw\\x86y\\x88A}\\x87|4\\x81y\\x87\\x87u{y5'\n",
    "\"\".join(chr((ord(c) - 20) % 256) for c in ciphertext)"
   ]
  },
  {
   "cell_type": "code",
   "execution_count": null,
   "metadata": {
    "collapsed": false
   },
   "outputs": [],
   "source": [
    "plaintext = 0b110100001101001\n",
    "one_time_pad = 0b110000011100001\n",
    "bin(plaintext ^ one_time_pad)"
   ]
  },
  {
   "cell_type": "code",
   "execution_count": null,
   "metadata": {
    "collapsed": false
   },
   "outputs": [],
   "source": [
    "decrypted = 0b100010001000 ^ one_time_pad\n",
    "format(decrypted, 'x').decode('hex')"
   ]
  },
  {
   "cell_type": "code",
   "execution_count": null,
   "metadata": {
    "collapsed": false
   },
   "outputs": [],
   "source": [
    "import os\n",
    "import binascii\n",
    "\n",
    "# ASCII-encoded plaintext\n",
    "plaintext = \"this is a secret message\"\n",
    "plaintext_bits = int(binascii.hexlify(plaintext), 16)\n",
    "\n",
    "print \"plaintext (ascii):\", plaintext\n",
    "print \"plaintext (hex):\", plaintext_bits\n",
    "\n",
    "# Generate the one-time pad\n",
    "onetime_pad = int(binascii.hexlify(os.urandom(len(plaintext))), 16)\n",
    "\n",
    "print \"one-time pad: (hex):\", onetime_pad\n",
    "\n",
    "# Encrypt plaintext using XOR operation with one-time pad\n",
    "ciphertext_bits = plaintext_bits ^ onetime_pad\n",
    "\n",
    "print \"encrypted text (hex):\", ciphertext_bits\n",
    "\n",
    "# Decrypt using XOR operation with one-time pad\n",
    "decrypted_text = ciphertext_bits ^ onetime_pad\n",
    "decrypted_text = binascii.unhexlify(hex(decrypted_text)[2:-1])\n",
    "\n",
    "print \"decrypted text (ascii):\", decrypted_text"
   ]
  },
  {
   "cell_type": "code",
   "execution_count": null,
   "metadata": {
    "collapsed": false
   },
   "outputs": [],
   "source": [
    "import random\n",
    "import binascii\n",
    "\n",
    "p1 = \"this is the part where you run away\"\n",
    "p2 = \"from bad cryptography practices.\"\n",
    "\n",
    "# pad plaintexts with spaces to ensure equal length\n",
    "p1 = p1.ljust(len(p2))\n",
    "p2 = p2.ljust(len(p1))\n",
    "    \n",
    "p1 = int(binascii.hexlify(p1), 16)\n",
    "p2 = int(binascii.hexlify(p2), 16)\n",
    "\n",
    "# get random one-time pad\n",
    "otp = random.SystemRandom().getrandbits(p1.bit_length())\n",
    "\n",
    "# encrypt\n",
    "c1 = p1 ^ otp\n",
    "c2 = p2 ^ otp  # otp reuse...not good!\n",
    "\n",
    "print \"c1 ^ c2 == p1 ^ p2 ?\", c1 ^ c2 == p1 ^ p2\n",
    "print \"c1 ^ c2 =\", hex(c1 ^ c2)\n",
    "\n",
    "# the crib\n",
    "crib = \" the \"\n",
    "crib = int(binascii.hexlify(crib), 16)\n",
    "\n",
    "xored = c1 ^ c2\n",
    "\n",
    "print \"crib =\", hex(crib)\n",
    "\n",
    "cbl = crib.bit_length()\n",
    "xbl = xored.bit_length()\n",
    "\n",
    "print\n",
    "mask = (2**(cbl + 1) - 1)\n",
    "fill = len(str(xbl / 8))\n",
    "\n",
    "# crib dragging\n",
    "for s in range(0, xbl - cbl + 8, 8):\n",
    "    xor = (xored ^ (crib << s)) & (mask << s)\n",
    "    out = binascii.unhexlify(hex(xor)[2:-1])\n",
    "    \n",
    "    print \"{:>{}}   {}\".format(s/8, fill, out)"
   ]
  },
  {
   "cell_type": "code",
   "execution_count": null,
   "metadata": {
    "collapsed": false
   },
   "outputs": [],
   "source": [
    "from cryptography.fernet import Fernet\n",
    "key = Fernet.generate_key()\n",
    "f = Fernet(key)\n",
    "ciphertext = f.encrypt(\"this is my plaintext\")\n",
    "decrypted = f.decrypt(ciphertext)\n",
    "print decrypted"
   ]
  },
  {
   "cell_type": "code",
   "execution_count": null,
   "metadata": {
    "collapsed": false
   },
   "outputs": [],
   "source": [
    "import os\n",
    "from cryptography.hazmat.primitives import padding\n",
    "from cryptography.hazmat.primitives.ciphers import Cipher, algorithms, modes\n",
    "from cryptography.hazmat.backends import default_backend\n",
    "\n",
    "pt = \"my plaintext\"\n",
    "\n",
    "backend = default_backend()\n",
    "key = os.urandom(32)\n",
    "iv = os.urandom(16)\n",
    "\n",
    "padder = padding.PKCS7(128).padder()\n",
    "pt = padder.update(pt) + padder.finalize()\n",
    "\n",
    "cipher = Cipher(algorithms.AES(key), modes.CBC(iv), backend=backend)\n",
    "encryptor = cipher.encryptor()\n",
    "ct = encryptor.update(pt) + encryptor.finalize()\n",
    "decryptor = cipher.decryptor()\n",
    "out = decryptor.update(ct) + decryptor.finalize()\n",
    "\n",
    "unpadder = padding.PKCS7(128).unpadder()\n",
    "out = unpadder.update(out) + unpadder.finalize()\n",
    "print out\n"
   ]
  },
  {
   "cell_type": "code",
   "execution_count": null,
   "metadata": {
    "collapsed": false
   },
   "outputs": [],
   "source": [
    "nonce = os.urandom(64/8)\n",
    "nonce"
   ]
  },
  {
   "cell_type": "code",
   "execution_count": null,
   "metadata": {
    "collapsed": false
   },
   "outputs": [],
   "source": [
    "import hashlib\n",
    "hashlib.md5(\"hash me please\").hexdigest()"
   ]
  },
  {
   "cell_type": "code",
   "execution_count": null,
   "metadata": {
    "collapsed": false
   },
   "outputs": [],
   "source": [
    "! md5 -s 'hash me please'"
   ]
  },
  {
   "cell_type": "code",
   "execution_count": null,
   "metadata": {
    "collapsed": false
   },
   "outputs": [],
   "source": [
    "hashlib.sha1(\"hash me please\").hexdigest()"
   ]
  },
  {
   "cell_type": "code",
   "execution_count": null,
   "metadata": {
    "collapsed": false
   },
   "outputs": [],
   "source": [
    "! echo 'hash me please' | openssl dgst -sha1"
   ]
  },
  {
   "cell_type": "code",
   "execution_count": null,
   "metadata": {
    "collapsed": false
   },
   "outputs": [],
   "source": [
    "m1 = binascii.unhexlify(\"d131dd02c5e6eec4693d9a0698aff95c2fcab58712467eab4004583eb8fb7f8955ad340609f4b30283e488832571415a085125e8f7cdc99fd91dbdf280373c5bd8823e3156348f5bae6dacd436c919c6dd53e2b487da03fd02396306d248cda0e99f33420f577ee8ce54b67080a80d1ec69821bcb6a8839396f9652b6ff72a70\")\n",
    "\n",
    "m2 = binascii.unhexlify(\"d131dd02c5e6eec4693d9a0698aff95c2fcab50712467eab4004583eb8fb7f8955ad340609f4b30283e4888325f1415a085125e8f7cdc99fd91dbd7280373c5bd8823e3156348f5bae6dacd436c919c6dd53e23487da03fd02396306d248cda0e99f33420f577ee8ce54b67080280d1ec69821bcb6a8839396f965ab6ff72a70\")\n",
    "\n",
    "hashlib.md5(m1).hexdigest() == hashlib.md5(m1).hexdigest() "
   ]
  },
  {
   "cell_type": "code",
   "execution_count": null,
   "metadata": {
    "collapsed": false
   },
   "outputs": [],
   "source": [
    "import os\n",
    "from cryptography.hazmat.primitives.kdf.scrypt import Scrypt\n",
    "from cryptography.hazmat.backends import default_backend\n",
    "\n",
    "backend = default_backend()\n",
    "salt = os.urandom(16)\n",
    "\n",
    "kdf = Scrypt(salt=salt, length=64, n=2**14, r=8, p=1, backend=backend)\n",
    "key = kdf.derive(\"your favorite password\")\n",
    "key"
   ]
  },
  {
   "cell_type": "code",
   "execution_count": null,
   "metadata": {
    "collapsed": true
   },
   "outputs": [],
   "source": [
    "kdf = Scrypt(salt=salt, length=64, n=2**14, r=8, p=1, backend=backend)\n",
    "kdf.verify(\"your favorite password\", key)"
   ]
  },
  {
   "cell_type": "code",
   "execution_count": null,
   "metadata": {
    "collapsed": false
   },
   "outputs": [],
   "source": [
    "import hmac\n",
    "import hashlib\n",
    "\n",
    "secret_key = \"my secret key\"\n",
    "ciphertext = \"my ciphertext\"\n",
    "\n",
    "# generate HMAC\n",
    "h = hmac.new(key=secret_key, msg=ciphertext, digestmod=hashlib.sha256)\n",
    "print h.hexdigest()\n",
    "\n",
    "# verify HMAC\n",
    "hmac.compare_digest(h.hexdigest(), h.hexdigest())"
   ]
  },
  {
   "cell_type": "code",
   "execution_count": null,
   "metadata": {
    "collapsed": false
   },
   "outputs": [],
   "source": [
    "p = 9576890767\n",
    "q = 1299827\n",
    "n = p * q\n",
    "print n"
   ]
  },
  {
   "cell_type": "code",
   "execution_count": null,
   "metadata": {
    "collapsed": false
   },
   "outputs": [],
   "source": [
    "e = 65537\n",
    "phi = (p - 1) * (q - 1)\n",
    "phi % e != 0"
   ]
  },
  {
   "cell_type": "code",
   "execution_count": null,
   "metadata": {
    "collapsed": false
   },
   "outputs": [],
   "source": [
    "import sympy\n",
    "\n",
    "d = sympy.numbers.igcdex(e, phi)[0]\n",
    "print d"
   ]
  },
  {
   "cell_type": "code",
   "execution_count": null,
   "metadata": {
    "collapsed": false
   },
   "outputs": [],
   "source": [
    "m = 12345\n",
    "c = pow(m, e, n)\n",
    "print c"
   ]
  },
  {
   "cell_type": "code",
   "execution_count": null,
   "metadata": {
    "collapsed": false
   },
   "outputs": [],
   "source": [
    "pow(c, d, n)"
   ]
  },
  {
   "cell_type": "code",
   "execution_count": null,
   "metadata": {
    "collapsed": false
   },
   "outputs": [],
   "source": [
    "m = 0\n",
    "while pow(m, e, n) != c:\n",
    "    m += 1\n",
    "print m"
   ]
  },
  {
   "cell_type": "code",
   "execution_count": null,
   "metadata": {
    "collapsed": false
   },
   "outputs": [],
   "source": [
    "from cryptography.hazmat.backends import default_backend\n",
    "from cryptography.hazmat.primitives.asymmetric import rsa\n",
    "from cryptography.hazmat.primitives import serialization\n",
    "\n",
    "private_key = rsa.generate_private_key(public_exponent=65537, key_size=2048, backend=default_backend())\n",
    "\n",
    "public_key = private_key.public_key()\n",
    "\n",
    "private_pem = private_key.private_bytes(encoding=serialization.Encoding.PEM,  \n",
    "                                        format=serialization.PrivateFormat.PKCS8, \n",
    "                                        encryption_algorithm=serialization.BestAvailableEncryption('your password here'))\n",
    "\n",
    "public_pem = public_key.public_bytes(encoding=serialization.Encoding.PEM,  \n",
    "                                     format=serialization.PublicFormat.SubjectPublicKeyInfo)\n",
    "\n",
    "print public_pem\n",
    "print private_pem "
   ]
  },
  {
   "cell_type": "code",
   "execution_count": null,
   "metadata": {
    "collapsed": true
   },
   "outputs": [],
   "source": [
    "from cryptography.hazmat.primitives import hashes\n",
    "from cryptography.hazmat.primitives.asymmetric import padding\n",
    "import base64\n",
    "\n",
    "with open(\"path/to/public_key.pem\", \"rb\") as key_file:\n",
    "    public_key = serialization.load_pem_public_key(key_file.read(), \n",
    "                                                   backend=default_backend())\n",
    "\n",
    "message = \"your secret message\"\n",
    "ciphertext = public_key.encrypt(message, \n",
    "                                padding.OAEP(mgf=padding.MGF1(algorithm=hashes.SHA256()), \n",
    "                                             algorithm=hashes.SHA256(), \n",
    "                                             label=None))\n",
    "b64_ciphertext = base64.urlsafe_b64encode(ciphertext)\n",
    "print b64_ciphertext\n"
   ]
  },
  {
   "cell_type": "code",
   "execution_count": null,
   "metadata": {
    "collapsed": true
   },
   "outputs": [],
   "source": [
    "plaintext = private_key.decrypt(ciphertext, \n",
    "                                padding.OAEP(mgf=padding.MGF1(algorithm=hashes.SHA256()), \n",
    "                                             algorithm=hashes.SHA256(), \n",
    "                                             label=None))\n",
    "print plaintext"
   ]
  },
  {
   "cell_type": "code",
   "execution_count": null,
   "metadata": {
    "collapsed": false
   },
   "outputs": [],
   "source": [
    "from cryptography.hazmat.primitives import hashes\n",
    "from cryptography.hazmat.primitives.asymmetric import padding\n",
    "\n",
    "signer = private_key.signer(padding.PSS(mgf=padding.MGF1(hashes.SHA256()), \n",
    "                                        salt_length=padding.PSS.MAX_LENGTH), \n",
    "                            hashes.SHA256())\n",
    "message = \"A message of arbitrary length\"\n",
    "signer.update(message)\n",
    "signature = signer.finalize()\n",
    "signature"
   ]
  },
  {
   "cell_type": "code",
   "execution_count": null,
   "metadata": {
    "collapsed": true
   },
   "outputs": [],
   "source": [
    "public_key = private_key.public_key()\n",
    "verifier = public_key.verifier(signature, \n",
    "                               padding.PSS(mgf=padding.MGF1(hashes.SHA256()), \n",
    "                                           salt_length=padding.PSS.MAX_LENGTH), \n",
    "                               hashes.SHA256())\n",
    "verifier.update(message)\n",
    "verifier.verify()"
   ]
  },
  {
   "cell_type": "markdown",
   "metadata": {},
   "source": [
    "### 5. Networking"
   ]
  },
  {
   "cell_type": "code",
   "execution_count": null,
   "metadata": {
    "collapsed": false
   },
   "outputs": [],
   "source": [
    "import requests\n",
    "r = requests.get('https://www.google.com/imghp')\n",
    "r.content[:200]"
   ]
  },
  {
   "cell_type": "code",
   "execution_count": null,
   "metadata": {
    "collapsed": false
   },
   "outputs": [],
   "source": [
    "r.status_code"
   ]
  },
  {
   "cell_type": "code",
   "execution_count": null,
   "metadata": {
    "collapsed": true
   },
   "outputs": [],
   "source": [
    "r.headers"
   ]
  },
  {
   "cell_type": "code",
   "execution_count": null,
   "metadata": {
    "collapsed": false
   },
   "outputs": [],
   "source": [
    "len(r.content)"
   ]
  },
  {
   "cell_type": "code",
   "execution_count": null,
   "metadata": {
    "collapsed": false
   },
   "outputs": [],
   "source": [
    "r.apparent_encoding"
   ]
  },
  {
   "cell_type": "code",
   "execution_count": null,
   "metadata": {
    "collapsed": false
   },
   "outputs": [],
   "source": [
    "r.elapsed"
   ]
  },
  {
   "cell_type": "code",
   "execution_count": null,
   "metadata": {
    "collapsed": false
   },
   "outputs": [],
   "source": [
    "r.request.headers"
   ]
  },
  {
   "cell_type": "code",
   "execution_count": null,
   "metadata": {
    "collapsed": false
   },
   "outputs": [],
   "source": [
    "custom_headers = {\"user-agent\": \"Mozilla/5.0 (Macintosh; Intel Mac OS X 10_11_6) AppleWebKit/537.36 (KHTML, like Gecko) Chrome/56.0.2924.87 Safari/537.36\"}\n",
    "r = requests.get(\"https://www.google.com/imghp\", headers=custom_headers)\n",
    "r.request.headers"
   ]
  },
  {
   "cell_type": "code",
   "execution_count": null,
   "metadata": {
    "collapsed": false
   },
   "outputs": [],
   "source": [
    "import requests\n",
    "import logging\n",
    "import http.client\n",
    "\n",
    "# Enable logging\n",
    "http.client.HTTPConnection.debuglevel = 1\n",
    "\n",
    "logging.basicConfig()\n",
    "logging.getLogger().setLevel(logging.DEBUG)\n",
    "requests_log = logging.getLogger(\"requests.packages.urllib3\")\n",
    "requests_log.setLevel(logging.DEBUG)\n",
    "requests_log.propagate = True\n",
    "r = requests.get('https://www.google.com/')"
   ]
  },
  {
   "cell_type": "code",
   "execution_count": null,
   "metadata": {
    "collapsed": false
   },
   "outputs": [],
   "source": [
    "import urlparse\n",
    "simple_url = \"http://www.example.com/path/to/my/page\"\n",
    "parsed = urlparse.urlparse(simple_url)"
   ]
  },
  {
   "cell_type": "code",
   "execution_count": null,
   "metadata": {
    "collapsed": false
   },
   "outputs": [],
   "source": [
    "parsed.scheme"
   ]
  },
  {
   "cell_type": "code",
   "execution_count": null,
   "metadata": {
    "collapsed": false
   },
   "outputs": [],
   "source": [
    "parsed.hostname"
   ]
  },
  {
   "cell_type": "code",
   "execution_count": null,
   "metadata": {
    "collapsed": false
   },
   "outputs": [],
   "source": [
    "parsed.path"
   ]
  },
  {
   "cell_type": "code",
   "execution_count": null,
   "metadata": {
    "collapsed": false
   },
   "outputs": [],
   "source": [
    "url_with_query = \"http://www.example.com/?page=1&key=Anvn4mo24\"\n",
    "query = urlparse.urlparse(url_with_query).query\n",
    "urlparse.parse_qs(query)"
   ]
  },
  {
   "cell_type": "code",
   "execution_count": null,
   "metadata": {
    "collapsed": false
   },
   "outputs": [],
   "source": [
    "import urllib\n",
    "url = 'https://www.example.com/%5EA-url-with-%-and-%5E?page=page+with%20spaces'\n",
    "urllib.unquote(url)"
   ]
  },
  {
   "cell_type": "code",
   "execution_count": null,
   "metadata": {
    "collapsed": false
   },
   "outputs": [],
   "source": [
    "chars = '!@#$%^%$#)'\n",
    "urllib.quote(chars)"
   ]
  },
  {
   "cell_type": "code",
   "execution_count": null,
   "metadata": {
    "collapsed": false
   },
   "outputs": [],
   "source": [
    "urllib.unquote_plus(url)"
   ]
  },
  {
   "cell_type": "code",
   "execution_count": null,
   "metadata": {
    "collapsed": false
   },
   "outputs": [],
   "source": [
    "urllib.quote_plus('one two')"
   ]
  },
  {
   "cell_type": "code",
   "execution_count": null,
   "metadata": {
    "collapsed": false
   },
   "outputs": [],
   "source": [
    "import requests\n",
    "from bs4 import BeautifulSoup\n",
    "\n",
    "http_client.HTTPConnection.debuglevel = 0  # Logging off\n",
    "r = requests.get(\"http://www.google.com\")\n",
    "soup = BeautifulSoup(r.content, \"lxml\")\n",
    "\n",
    "soup.find_all('p')"
   ]
  },
  {
   "cell_type": "code",
   "execution_count": null,
   "metadata": {
    "collapsed": false
   },
   "outputs": [],
   "source": [
    "soup.find_all('a')"
   ]
  },
  {
   "cell_type": "code",
   "execution_count": null,
   "metadata": {
    "collapsed": false
   },
   "outputs": [],
   "source": [
    "for link in soup.find_all('a'):\n",
    "    print link.text, link[\"href\"]"
   ]
  },
  {
   "cell_type": "code",
   "execution_count": null,
   "metadata": {
    "collapsed": true
   },
   "outputs": [],
   "source": [
    "import dryscrape\n",
    "from bs4 import BeautifulSoup\n",
    "session = dryscrape.Session()\n",
    "session.visit(\"http://www.google.com\")\n",
    "r = session.body()\n",
    "soup = BeautifulSoup(r, \"lxml\") "
   ]
  },
  {
   "cell_type": "code",
   "execution_count": null,
   "metadata": {
    "collapsed": true
   },
   "outputs": [],
   "source": [
    "from selenium import webdriver\n",
    "driver = webdriver.Chrome(\"/path/to/chromedriver\")\n",
    "driver.get(\"http://www.google.com\")\n",
    "html = driver.page_source\n",
    "driver.save_screenshot(\"screenshot.png\")\n",
    "driver.quit()"
   ]
  },
  {
   "cell_type": "code",
   "execution_count": null,
   "metadata": {
    "collapsed": true
   },
   "outputs": [],
   "source": [
    "import smtplib\n",
    "\n",
    "server = smtplib.SMTP('localhost', port=1025)\n",
    "server.set_debuglevel(True)\n",
    "server.sendmail(\"me@localhost\", \"you@localhost\", \"This is an email message\")\n",
    "server.quit()"
   ]
  },
  {
   "cell_type": "code",
   "execution_count": null,
   "metadata": {
    "collapsed": false
   },
   "outputs": [],
   "source": [
    "! host google.com"
   ]
  },
  {
   "cell_type": "code",
   "execution_count": null,
   "metadata": {
    "collapsed": false
   },
   "outputs": [],
   "source": [
    "! host 172.217.11.14"
   ]
  }
 ],
 "metadata": {
  "anaconda-cloud": {},
  "kernelspec": {
   "display_name": "Python [Root]",
   "language": "python",
   "name": "Python [Root]"
  },
  "language_info": {
   "codemirror_mode": {
    "name": "ipython",
    "version": 2
   },
   "file_extension": ".py",
   "mimetype": "text/x-python",
   "name": "python",
   "nbconvert_exporter": "python",
   "pygments_lexer": "ipython2",
   "version": "2.7.12"
  }
 },
 "nbformat": 4,
 "nbformat_minor": 0
}
