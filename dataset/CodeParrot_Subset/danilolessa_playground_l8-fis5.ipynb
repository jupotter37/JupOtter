{
 "cells": [
  {
   "cell_type": "code",
   "execution_count": 9,
   "metadata": {
    "collapsed": false
   },
   "outputs": [],
   "source": [
    "import numpy as np\n",
    "import scipy.integrate as intg"
   ]
  },
  {
   "cell_type": "code",
   "execution_count": 29,
   "metadata": {
    "collapsed": false
   },
   "outputs": [
    {
     "name": "stdout",
     "output_type": "stream",
     "text": [
      "Probabilidade: 0.03(0.000000)\n"
     ]
    }
   ],
   "source": [
    "### 2 ###\n",
    "a = 1\n",
    "pi = np.pi\n",
    "sqrt_pi = np.sqrt(pi)\n",
    "const = 1 / (a * sqrt_pi)\n",
    "const2 = -2 * a ** 2\n",
    "def erf_int(x):\n",
    "    return const * np.exp((x ** 2)/const2)\n",
    "\n",
    "\n",
    "res = intg.quad(erf_int, -a, a)\n",
    "prob = 1 - res[0]\n",
    "err = res[1]\n",
    "print(\"Probabilidade: %.2f(%f)\" % (prob, err))"
   ]
  },
  {
   "cell_type": "code",
   "execution_count": null,
   "metadata": {
    "collapsed": true
   },
   "outputs": [],
   "source": []
  }
 ],
 "metadata": {
  "kernelspec": {
   "display_name": "Python 3",
   "language": "python",
   "name": "python3"
  },
  "language_info": {
   "codemirror_mode": {
    "name": "ipython",
    "version": 3
   },
   "file_extension": ".py",
   "mimetype": "text/x-python",
   "name": "python",
   "nbconvert_exporter": "python",
   "pygments_lexer": "ipython3",
   "version": "3.5.1+"
  }
 },
 "nbformat": 4,
 "nbformat_minor": 0
}
