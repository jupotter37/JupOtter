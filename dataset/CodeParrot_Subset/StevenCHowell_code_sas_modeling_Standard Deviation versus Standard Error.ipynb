{
 "cells": [
  {
   "cell_type": "markdown",
   "metadata": {
    "nbpresent": {
     "id": "81c0606f-dc29-4fae-895c-f5f4c6d8d58d"
    },
    "slideshow": {
     "slide_type": "slide"
    }
   },
   "source": [
    "# Standard Deviation versus Standard Error\n",
    "## Steven C. Howell\n",
    "### 5 January 2017"
   ]
  },
  {
   "cell_type": "markdown",
   "metadata": {
    "nbpresent": {
     "id": "c3b4e8ae-7bdd-490d-bd9e-a3ed0719d7e9"
    },
    "slideshow": {
     "slide_type": "slide"
    }
   },
   "source": [
    "## References:\n",
    "1. [Brown, G. W. Standard deviation, standard error: Which ‘standard’ should we use? American Journal of Diseases of Children 136, 937–941 (1982).](http://archpedi.jamanetwork.com/article.aspx?articleid=510667)\n",
    "2. [Cumming, G., Fidler, F. & Vaux, D. L. Error bars in experimental biology. The Journal of Cell Biology 177, 7–11 (2007).](http://jcb.rupress.org/content/177/1/7)\n",
    "3. [Biau, D. J. In Brief: Standard Deviation and Standard Error. Clin Orthop Relat Res 469, 2661–2664 (2011).](http://www.ncbi.nlm.nih.gov/pmc/articles/PMC3148365/)"
   ]
  },
  {
   "cell_type": "markdown",
   "metadata": {
    "nbpresent": {
     "id": "3f08db14-4e69-408b-bd93-f325d77b2270"
    },
    "slideshow": {
     "slide_type": "slide"
    }
   },
   "source": [
    "## Representing a Distribution\n",
    "What is the best way to represent or summarize a group of measurements or counts?"
   ]
  },
  {
   "cell_type": "markdown",
   "metadata": {
    "nbpresent": {
     "id": "da9029e9-f2cc-4fa2-bab3-f2ea0e2ceb0a"
    },
    "slideshow": {
     "slide_type": "subslide"
    }
   },
   "source": [
    "### central value\n",
    "- mode: the most frequent value\n",
    "- median: the value midway between the lowest and highest value\n",
    "- mean ($\\mu$): the average of all values "
   ]
  },
  {
   "cell_type": "markdown",
   "metadata": {
    "collapsed": true
   },
   "source": [
    "### dispersion\n",
    "- range: lowest and highest value\n",
    "- quartile range: range for percentiles (ideal for asymmetric distributions)\n",
    "- variance: average of the squared distances from the mean \n",
    "- standard deviation ($\\sigma$): square root of the variance (also referred to as the \"root-mean-square\").  Typical or (roughly speaking) average difference between the data points and their mean."
   ]
  },
  {
   "cell_type": "markdown",
   "metadata": {},
   "source": [
    "## Standard Deviation (descriptive statistic)"
   ]
  },
  {
   "cell_type": "markdown",
   "metadata": {},
   "source": [
    "Mean of a population: $\\quad \\mu = \\frac{\\sum_i^N x_i}{N}$\n",
    "\n",
    "Variance of a population: $\\quad \\sigma^2 = \\frac{\\sum_i^N{(x_i - \\mu)^2}}{N}$\n",
    "\n",
    "Standard deviation of a population: $\\quad \\sigma = \\sqrt{\\frac{\\sum_i^N{(x_i - \\mu)^2}}{N}}$\n",
    "\n",
    "Number in Population: $\\quad N$"
   ]
  },
  {
   "cell_type": "markdown",
   "metadata": {},
   "source": [
    "For gaussion distributions, the mean and standard deviation completely describe the distribution.  "
   ]
  },
  {
   "cell_type": "markdown",
   "metadata": {},
   "source": [
    "### What about non-gaussian distributions?\n",
    "\n",
    "A frequent pitfall occurs when reporting a mean and standard deviation for a non-gaussian distribution.  When a distribution is not gaussian, the standard deviation can still be calculated and reported, but the meaning is easily misinterpreted.\n",
    "\n",
    "Consider the example from reference [1] in which certain 1976 medical articles had an average of 4.9 authors $\\pm7.3$ (SD).  As face value, this indicates that 95% of articles had $4.9\\pm(1.96\\times7.3)$ authors, or from $-9.4$ to $+19.2$; or that 25% of articles had zero or fewer authors.  \n",
    "\n",
    "In this situation, a better description would be provided using the mean and range, or quartile ranges."
   ]
  },
  {
   "cell_type": "markdown",
   "metadata": {},
   "source": [
    "## Absolute versus Estimate Statistics for a Population\n",
    "The mean and standard deviation are used to describe the distribution of a population of measurements and to estimate the distribution a population based on a sample of measurements.  \n",
    "\n",
    "This difference means there are two slight changes in the calculation of the standard deviation for the second case.  First instead of the mean being the exact population mean, $\\mu$, the mean is an estimate of the larger population mean, $\\bar{x}$, though it is calculated the same way.  The second difference, which actually changes the result, is that the sum of the squared differences from the mean is divided by $n-1$ rather than $N$.  This change produces a wider distribution, corresponding to the sample underestimating the full spread of values present in the entire population."
   ]
  },
  {
   "cell_type": "markdown",
   "metadata": {},
   "source": [
    "Estimate of the population mean: $\\quad \\bar{x} = \\frac{\\sum_i^n x_i}{n}$\n",
    "\n",
    "Estimate of the population standard deviation from a sample: Typical or average difference between the data points and their mean. $$\\quad SD = \\sqrt{\\frac{\\sum_i^n{(x_i - \\bar{x})^2}}{n-1}}$$\n",
    "\n",
    "Number in Sample: $\\quad n$"
   ]
  },
  {
   "cell_type": "markdown",
   "metadata": {},
   "source": [
    "While there is only a slight difference in calculating these two standard deviations, there is a real difference in their meaning.  Unfortunately it is rare to see a distinction made when reporting a standard deviation value."
   ]
  },
  {
   "cell_type": "markdown",
   "metadata": {},
   "source": [
    "## Standard Error (inferential statistic)\n",
    "The standard error provides a prediction of the confidence interval for which the true value should be; it does not describe the distribution of values (it also has nothing to do with standards or errors).  Whenever used, it should be described what statistic it corresponds to, e.g., standard error of the mean (SEM).\n"
   ]
  },
  {
   "cell_type": "markdown",
   "metadata": {},
   "source": [
    "### Standard Error of the Mean, SEM"
   ]
  },
  {
   "cell_type": "markdown",
   "metadata": {},
   "source": [
    "Standard error of the mean: A measure of hov variable the mean will be, if you repeat the whole study many times. $$\\quad SEM = SD_{\\bar{x}} = \\frac{SD}{\\sqrt{n}} = \\sqrt{\\frac{\\sum_i^n{(x_i - \\bar{x})^2}}{n\\, (n-1)}}$$ "
   ]
  },
  {
   "cell_type": "markdown",
   "metadata": {},
   "source": [
    "The SEM can be use to declare something like the following: \"The mean of the sample was 73 mg/dL, with an SE of the mean of 73 mg/dL. This implies that the mean of the population from which the sample was randomly taken will fall, with 95% probability, in the interval of $73\\pm(1.96*3) mg/dL, which is from 67.12 to 78.88 mg/dL.\" (from reference [1])"
   ]
  },
  {
   "cell_type": "markdown",
   "metadata": {},
   "source": [
    "The above formula for the $SEM$ can be rearranged for more efficient computation as follows.\n",
    "$$ SEM^2 = \\frac{\\sum_i^n{(x_i-\\bar{x})^2}}{n (n-1)}$$\n",
    "\n",
    "$$ SEM^2 = \\frac{\\sum_i^n{(x_i^2 - 2x_i\\bar{x} + (\\bar{x})^2)}}{n (n-1)}$$\n",
    "\n",
    "$$ SEM^2 = \\frac{1}{n-1} \\left[\\frac{\\sum_i^n x_i^2}{n} - 2\\,\\bar{x}\\,\\frac{\\sum_i^n x_i}{n} + (\\bar{x})^2\\,\\frac{\\sum_i^n 1}{n}\\right]$$\n",
    "Note that $$\\frac{\\sum_i^n x_i}{n} = \\bar{n}\\,,$$ and $$\\frac{\\sum_i^n 1}{n} = 1\\,.$$  Making these replacements, we are left with,\n",
    "$$ SEM^2 = \\frac{1}{n-1} \\left[\\frac{\\sum_i^n x_i^2}{n} - 2(\\bar{x})^2 + (\\bar{x})^2\\right]\\,,$$\n",
    "or simply,\n",
    "$$ SEM^2 = \\frac{1}{n-1} \\left[\\frac{\\sum_i^n x_i^2}{n} - (\\bar{x})^2\\right]\\,.$$\n",
    "\n",
    "Written with angled braces to represent averages this is simply,\n",
    "$$ SEM^2 = \\frac{\\langle x^2 \\rangle - \\langle x \\rangle^2}{n-1}\\,.$$\n",
    "\n",
    "This form allows for calculating the variance (part in square braces) in two passes of the numerical series, one summing $x^2$ (first term in square braces), and another summaing $x$ to get the mean. \n"
   ]
  },
  {
   "cell_type": "markdown",
   "metadata": {},
   "source": [
    "### Standard Error of Proportion, SEp"
   ]
  },
  {
   "cell_type": "markdown",
   "metadata": {},
   "source": [
    "The standard error of proportion is used when describing the proportion of group that have a certain classification.  An example from reference [1] is when six of ten patients with zymurgy exhibit so-and-so.  The natural interpretation is that we should expect to see so-and-so for 60% of patients with zymurgy.  \n",
    "\n",
    "The standard error of proportion provide an estimate for confidence intervals in this situation.  \n",
    "\n",
    "Standard error of proportion: $\\quad SE_p = \\sqrt{\\frac{p (1-p)}{n}} $\n",
    "\n",
    "Proportion estimated from sample: $\\quad p$"
   ]
  },
  {
   "cell_type": "code",
   "execution_count": 7,
   "metadata": {
    "collapsed": true
   },
   "outputs": [],
   "source": [
    "def calc_sep(p, n):\n",
    "    return np.sqrt(p * (1-p)/n)\n",
    "\n",
    "p = 0.6"
   ]
  },
  {
   "cell_type": "markdown",
   "metadata": {},
   "source": [
    "### Example with 10 patients"
   ]
  },
  {
   "cell_type": "code",
   "execution_count": 16,
   "metadata": {
    "collapsed": false
   },
   "outputs": [
    {
     "name": "stdout",
     "output_type": "stream",
     "text": [
      "sep : 0.155\n",
      "95% ci for n=10: 0.296 to 0.904\n"
     ]
    }
   ],
   "source": [
    "n=10\n",
    "sep = calc_sep(p, n)\n",
    "ci95 = 1.96 * sep\n",
    "interval = p - ci95, p + ci95\n",
    "print('sep : {:0.3}\\n95% ci for n={}: {:0.3} to {:0.3}'.format(sep, n, interval[0], interval[1]))"
   ]
  },
  {
   "cell_type": "markdown",
   "metadata": {},
   "source": [
    "So when 6 of 10 patients have a certain classification, the 95% confidence interval for predicting the classification of the entire population is $60\\% \\pm (1.96\\times 0.155)$ or from $29.6\\%$ to $90.4\\%$."
   ]
  },
  {
   "cell_type": "markdown",
   "metadata": {},
   "source": [
    "### Example with large patients populations"
   ]
  },
  {
   "cell_type": "code",
   "execution_count": 17,
   "metadata": {
    "collapsed": false
   },
   "outputs": [
    {
     "name": "stdout",
     "output_type": "stream",
     "text": [
      "sep : 0.049\n",
      "95% ci for n=100: 0.504 to 0.696\n"
     ]
    }
   ],
   "source": [
    "n=100\n",
    "sep = calc_sep(p, n)\n",
    "ci95 = 1.96 * sep\n",
    "interval = p - ci95, p + ci95\n",
    "print('sep : {:0.3}\\n95% ci for n={}: {:0.3} to {:0.3}'.format(sep, n, interval[0], interval[1]))"
   ]
  },
  {
   "cell_type": "markdown",
   "metadata": {},
   "source": [
    "Increasing the population size to 100 reduces the 95% confidence interval that the population exhibit so-and-so to be between $50.4\\%$ to $69.6\\%$."
   ]
  },
  {
   "cell_type": "code",
   "execution_count": 18,
   "metadata": {
    "collapsed": false
   },
   "outputs": [
    {
     "name": "stdout",
     "output_type": "stream",
     "text": [
      "sep : 0.0155\n",
      "95% ci for n=1000: 0.57 to 0.63\n"
     ]
    }
   ],
   "source": [
    "n=1000\n",
    "sep = calc_sep(p, n)\n",
    "ci95 = 1.96 * sep\n",
    "interval = p - ci95, p + ci95\n",
    "print('sep : {:0.3}\\n95% ci for n={}: {:0.3} to {:0.3}'.format(sep, n, interval[0], interval[1]))"
   ]
  },
  {
   "cell_type": "markdown",
   "metadata": {},
   "source": [
    "Increasing the population size to 1000 reduces the 95% confidence interval that the population exhibit so-and-so to be between $57\\%$ to $63\\%$."
   ]
  },
  {
   "cell_type": "markdown",
   "metadata": {},
   "source": [
    "## Notes\n",
    "- SEM is most appropriate for comparing two different curves to conclude similarity or difference (how likely are the differences due to random noise?)\n",
    "- In small-angle scattering (SAS), the error reported relates to the fidelity with which repeated measurement were performed, either from repeated scans or from measurements of different pixels at the same $q$-vector.\n",
    "- \"Whenever you see a figure with very small error bars (such as Fig. 3), you should ask yourself whether the very small variation implied by the error bars is due to analysis of replicates rather than independent samples. If so, the bars are useless for making the inference you are considering.\""
   ]
  },
  {
   "cell_type": "markdown",
   "metadata": {},
   "source": [
    "## Rules for effective use and interpretation of error bars (reference [2])\n",
    "1. when showing error bars, always describe in the figure legends what they are\n",
    "2. the value of $n$ (i.e., the sample size, or the number of independently performed experiments) must be stated in the figure legend.\n",
    "3. error bars and statistics should only be shown for independently repeated experiments, and never for replicates. If a “representative” experiment is shown, it should not have error bars or P values, because in such an experiment, n = 1 (Fig. 3 shows what not to do).\n",
    "4. because experimental biologists are usually trying to compare experimental results with controls, it is usually appropriate to show inferential error bars, such as SE or CI, rather than SD. However, if n is very small (for example n = 3), rather than showing error bars and statistics, it is better to simply plot the individual data points.\n",
    "5. 95% CIs capture $\\mu$ on 95% of occasions, so you can be 95% confident your interval includes $\\mu$.  SE bars can be doubled in width to get the approximate 95% CI, provided n is 10 or more. If n = 3, SE bars must be multiplied by 4 to get the approximate 95% CI.\n",
    "6. when n = 3, and double the SE bars don’t overlap, P < 0.05, and if double the SE bars just touch, P is close to 0.05.  If n is 10 or more, a gap of SE indicates P ≈ 0.05 and a gap of 2 SE indicates P ≈ 0.01.\n",
    "7. with 95% CIs and n=3, overlap of one full arm indicates $P\\approx 0.05$, and overlap of half an arm indicates $P\\approx 0.01$.\n",
    "8. in the case of repeated measurements on the same group (e.g., of animals, individuals, cultures, or reactions), CIs or SE bars are irrelevant to comparisons within the same group."
   ]
  },
  {
   "cell_type": "markdown",
   "metadata": {},
   "source": [
    "## Standard Error or Standard Deviation\n",
    "If one wishes to provide a\n",
    "description of the sample, then the standard deviations of\n",
    "the relevant parameters are of interest. For instance we\n",
    "would provide the mean age of the patients and standard\n",
    "deviation, the mean size of tumors and standard deviation,\n",
    "etc. \n",
    "\n",
    "If, on the other hand, one wishes to have the precision\n",
    "of the sample value as it relates to that of the true value in\n",
    "the population, then it is the standard error that should be\n",
    "reported. For instance, when reporting the survival probability\n",
    "of a sample we should provide the standard error\n",
    "together with this estimated probability.  However, because\n",
    "the confidence interval is more useful and readable than the\n",
    "standard error, it can be provided instead as it avoids\n",
    "having the readers do the math."
   ]
  },
  {
   "cell_type": "markdown",
   "metadata": {
    "collapsed": true
   },
   "source": [
    "## How does this apply to Small-Angle Scattering (SAS)?  What error is reported, and where does it originate?\n",
    "\n",
    "1. Pauw, B. R. Everything SAXS: small-angle scattering pattern collection and correction. Journal of Physics: Condensed Matter 25, 383201 (2013).\n",
    "2. Hura G, Sorenson J M, Glaeser R M and Head-Gordon T 2000 A J. Chem. Phys. 113 9140–9148\n",
    "3. Ilavsky, J. Nika : software for two-dimensional data reduction. Journal of Applied Crystallography 45, 324–328 (2012).\n"
   ]
  },
  {
   "cell_type": "markdown",
   "metadata": {},
   "source": [
    "Uncertainty in the scattering intensity should be calculated from two sources, the photon counting statistics, and the standard error of the mean of the pixel values.  \"The photon counting (Poisson) statistics defines the absolute minimum possible uncertainty in any counting procedure. It does not consider other contributors to noise such as the variance between pixel sensitivities or electronic noise\" [1].  Additionally, we can set a lower limit on the error in scattering intensity to never have a relative uncertainty estimate lower than 1%, as beamlines report it is challenging to be more accurate than this [2]."
   ]
  },
  {
   "cell_type": "markdown",
   "metadata": {},
   "source": [
    "$$\n",
    "\\sigma_{\\!_{Q_\\text{bin}}} \\!= \\max\\left\\{{\n",
    "    \\begin{array}{l l l}\n",
    "      \\dfrac{1}{N_{Q_\\text{bin}}}\\sqrt{\\displaystyle\\sum_{Q_j\\in\\left[Q_k,\\,Q_{k+1}\\right]}\\!\\!\\!\\!\\!\\!\\!\\!\\sigma_j^2} & {\\text{photon counting error}}\\\\\n",
    "      \\dfrac{1}{\\sqrt{N_{Q_\\text{bin}}}}\\sqrt{\\dfrac{\\displaystyle\\sum_{Q_j\\in\\left[Q_k,\\,Q_{k+1}\\right]}\\!\\!\\!\\!\\!\\!\\!\\!\\left(I_j-I_{Q_\\text{bin}}\\right)^2}{N_{Q_\\text{bin}}-1}}  & \\mbox{standard error of the mean}\\\\\n",
    "      \\dfrac{I_{Q_\\text{bin}}}{100} & \\mbox{1% of } I_{Q_\\text{bin}}\n",
    "    \\end{array}} \\right\\}\\,,\n",
    "$$"
   ]
  },
  {
   "cell_type": "markdown",
   "metadata": {},
   "source": [
    "This leaves the choice as to what the grid spacing should be.  Typically users opt for either uniform, or logaritmically spaced $Q$-grids, the later providing more points at lower $Q$ values [3]."
   ]
  },
  {
   "cell_type": "markdown",
   "metadata": {},
   "source": [
    "So in SAS, the error is the standard error of the mean.  Least-squares fits should be weighted by the variance, but typically the number of $Q$-bins, $N_{Q_\\text{bin}}$, is not reported.  "
   ]
  },
  {
   "cell_type": "markdown",
   "metadata": {},
   "source": [
    "$$\n",
    "y = m x + b"
   ]
  },
  {
   "cell_type": "markdown",
   "metadata": {},
   "source": [
    "## Standard deviation in $Q$: $\\sigma_Q$"
   ]
  },
  {
   "cell_type": "markdown",
   "metadata": {},
   "source": [
    "Often, the standard deviation of the $Q$-values are also reported.  Similar to the procedure for the scattering intensity, this can be converted to a standard error of the mean by dividing by $\\sqrt{N_{Q_\\text{bin}}}$,\n",
    "\n",
    "$$\n",
    "\\sigma_{Q} = \\dfrac{1}{\\sqrt{N_{Q_\\text{bin}}}} \\sqrt{\\dfrac{\\displaystyle\\sum_{Q_j\\in\\left[Q_k,\\,Q_{k+1}\\right]}\\!\\!\\!\\!\\!\\!\\!\\!\\left(Q_j-\\bar{Q}\\right)^2}{N_{Q_\\text{bin}}-1}} \\,,\n",
    "$$\n",
    "\n",
    "where \n",
    "\n",
    "$$\n",
    "\\bar{Q} = \\langle Q_j\\in\\left[Q_k,\\,Q_{k+1}\\right]\\rangle\\,.\n",
    "$$\n",
    "\n"
   ]
  },
  {
   "cell_type": "markdown",
   "metadata": {},
   "source": [
    "I have never seen the $Q$ standard deviation or standard error of the mean factored into the Guinier fitting, or even plotted for that matter.  What difference would this make?  Should it be included?"
   ]
  },
  {
   "cell_type": "code",
   "execution_count": null,
   "metadata": {
    "collapsed": true
   },
   "outputs": [],
   "source": []
  }
 ],
 "metadata": {
  "anaconda-cloud": {},
  "kernelspec": {
   "display_name": "Python [default]",
   "language": "python",
   "name": "python2"
  },
  "language_info": {
   "codemirror_mode": {
    "name": "ipython",
    "version": 2
   },
   "file_extension": ".py",
   "mimetype": "text/x-python",
   "name": "python",
   "nbconvert_exporter": "python",
   "pygments_lexer": "ipython2",
   "version": "2.7.12"
  },
  "nbpresent": {
   "slides": {
    "1dcbefd1-24fd-4754-8021-f45d9d0a07c1": {
     "id": "1dcbefd1-24fd-4754-8021-f45d9d0a07c1",
     "prev": "bd96302d-8017-4e13-bc20-710b9c8d9ac0",
     "regions": {
      "88723684-eca3-417b-b746-cb61c2a3d0bc": {
       "attrs": {
        "height": 1,
        "width": 1,
        "x": 0,
        "y": 0
       },
       "content": {
        "cell": "c3b4e8ae-7bdd-490d-bd9e-a3ed0719d7e9",
        "part": "source"
       },
       "id": "88723684-eca3-417b-b746-cb61c2a3d0bc"
      }
     }
    },
    "bd96302d-8017-4e13-bc20-710b9c8d9ac0": {
     "id": "bd96302d-8017-4e13-bc20-710b9c8d9ac0",
     "layout": "grid",
     "prev": null,
     "regions": {
      "b8735555-9def-4f5a-ab0b-5ec0b2d4539f": {
       "attrs": {
        "height": 1,
        "pad": 0.01,
        "width": 1,
        "x": 0,
        "y": 0
       },
       "content": {
        "cell": "81c0606f-dc29-4fae-895c-f5f4c6d8d58d",
        "part": "source"
       },
       "id": "b8735555-9def-4f5a-ab0b-5ec0b2d4539f"
      }
     },
     "theme": "6512020a-7986-4271-9272-b6b9ce45531e"
    }
   },
   "themes": {
    "default": "d78ce4e1-fcc1-4c0e-828d-20859bb9f9f4",
    "theme": {
     "6512020a-7986-4271-9272-b6b9ce45531e": {
      "backgrounds": {
       "backgroundColor": {
        "background-color": "backgroundColor",
        "id": "backgroundColor"
       }
      },
      "id": "6512020a-7986-4271-9272-b6b9ce45531e",
      "palette": {
       "backgroundColor": {
        "id": "backgroundColor",
        "rgb": [
         43,
         43,
         43
        ]
       },
       "headingColor": {
        "id": "headingColor",
        "rgb": [
         238,
         238,
         238
        ]
       },
       "linkColor": {
        "id": "linkColor",
        "rgb": [
         19,
         218,
         236
        ]
       },
       "mainColor": {
        "id": "mainColor",
        "rgb": [
         238,
         238,
         238
        ]
       }
      },
      "rules": {
       "a": {
        "color": "linkColor"
       },
       "h1": {
        "color": "headingColor",
        "font-family": "Oswald",
        "font-size": 7
       },
       "h2": {
        "color": "headingColor",
        "font-family": "Oswald",
        "font-size": 5
       },
       "h3": {
        "color": "headingColor",
        "font-family": "Oswald",
        "font-size": 3.75
       },
       "h4": {
        "color": "headingColor",
        "font-family": "Oswald",
        "font-size": 3
       },
       "h5": {
        "color": "headingColor",
        "font-family": "Oswald"
       },
       "h6": {
        "color": "headingColor",
        "font-family": "Oswald"
       },
       "h7": {
        "color": "headingColor",
        "font-family": "Oswald"
       },
       "li": {
        "color": "mainColor",
        "font-family": "Lato",
        "font-size": 5
       },
       "p": {
        "color": "mainColor",
        "font-family": "Lato",
        "font-size": 5
       }
      },
      "text-base": {
       "color": "mainColor",
       "font-family": "Lato",
       "font-size": 5
      }
     },
     "a2a3e2be-a421-474f-ab27-891053c8e267": {
      "backgrounds": {
       "backgroundColor": {
        "background-color": "backgroundColor",
        "id": "backgroundColor"
       }
      },
      "id": "a2a3e2be-a421-474f-ab27-891053c8e267",
      "palette": {
       "backgroundColor": {
        "id": "backgroundColor",
        "rgb": [
         256,
         256,
         256
        ]
       },
       "headingColor": {
        "id": "headingColor",
        "rgb": [
         34,
         34,
         34
        ]
       },
       "linkColor": {
        "id": "linkColor",
        "rgb": [
         42,
         118,
         221
        ]
       },
       "mainColor": {
        "id": "mainColor",
        "rgb": [
         34,
         34,
         34
        ]
       }
      },
      "rules": {
       "a": {
        "color": "linkColor"
       },
       "h1": {
        "color": "headingColor",
        "font-family": "Source Sans Pro",
        "font-size": 5.25
       },
       "h2": {
        "color": "headingColor",
        "font-family": "Source Sans Pro",
        "font-size": 4
       },
       "h3": {
        "color": "headingColor",
        "font-family": "Source Sans Pro",
        "font-size": 3.5
       },
       "h4": {
        "color": "headingColor",
        "font-family": "Source Sans Pro",
        "font-size": 3
       },
       "h5": {
        "color": "headingColor",
        "font-family": "Source Sans Pro"
       },
       "h6": {
        "color": "headingColor",
        "font-family": "Source Sans Pro"
       },
       "h7": {
        "color": "headingColor",
        "font-family": "Source Sans Pro"
       },
       "li": {
        "color": "mainColor",
        "font-family": "Source Sans Pro",
        "font-size": 6
       },
       "p": {
        "color": "mainColor",
        "font-family": "Source Sans Pro",
        "font-size": 6
       }
      },
      "text-base": {
       "color": "mainColor",
       "font-family": "Source Sans Pro",
       "font-size": 6
      }
     },
     "c965ffc4-88d2-41cc-a609-191b2949f92f": {
      "backgrounds": {
       "backgroundColor": {
        "background-color": "backgroundColor",
        "id": "backgroundColor"
       }
      },
      "id": "c965ffc4-88d2-41cc-a609-191b2949f92f",
      "palette": {
       "backgroundColor": {
        "id": "backgroundColor",
        "rgb": [
         17,
         17,
         17
        ]
       },
       "headingColor": {
        "id": "headingColor",
        "rgb": [
         238,
         238,
         238
        ]
       },
       "linkColor": {
        "id": "linkColor",
        "rgb": [
         231,
         173,
         82
        ]
       },
       "mainColor": {
        "id": "mainColor",
        "rgb": [
         238,
         238,
         238
        ]
       }
      },
      "rules": {
       "a": {
        "color": "linkColor"
       },
       "h1": {
        "color": "headingColor",
        "font-family": "Montserrat",
        "font-size": 7
       },
       "h2": {
        "color": "headingColor",
        "font-family": "Montserrat",
        "font-size": 5
       },
       "h3": {
        "color": "headingColor",
        "font-family": "Montserrat",
        "font-size": 3.75
       },
       "h4": {
        "color": "headingColor",
        "font-family": "Montserrat",
        "font-size": 3
       },
       "h5": {
        "color": "headingColor",
        "font-family": "Montserrat"
       },
       "h6": {
        "color": "headingColor",
        "font-family": "Montserrat"
       },
       "h7": {
        "color": "headingColor",
        "font-family": "Montserrat"
       },
       "li": {
        "color": "mainColor",
        "font-family": "Open Sans",
        "font-size": 4
       },
       "p": {
        "color": "mainColor",
        "font-family": "Open Sans",
        "font-size": 4
       }
      },
      "text-base": {
       "color": "mainColor",
       "font-family": "Open Sans",
       "font-size": 4
      }
     },
     "d78ce4e1-fcc1-4c0e-828d-20859bb9f9f4": {
      "backgrounds": {
       "backgroundColor": {
        "background-color": "backgroundColor",
        "id": "backgroundColor"
       }
      },
      "id": "d78ce4e1-fcc1-4c0e-828d-20859bb9f9f4",
      "palette": {
       "backgroundColor": {
        "id": "backgroundColor",
        "rgb": [
         34,
         34,
         34
        ]
       },
       "headingColor": {
        "id": "headingColor",
        "rgb": [
         238,
         238,
         238
        ]
       },
       "linkColor": {
        "id": "linkColor",
        "rgb": [
         170,
         34,
         51
        ]
       },
       "mainColor": {
        "id": "mainColor",
        "rgb": [
         238,
         238,
         238
        ]
       }
      },
      "rules": {
       "a": {
        "color": "linkColor"
       },
       "h1": {
        "color": "headingColor",
        "font-family": "Ubuntu",
        "font-size": 7
       },
       "h2": {
        "color": "headingColor",
        "font-family": "Ubuntu",
        "font-size": 5
       },
       "h3": {
        "color": "headingColor",
        "font-family": "Ubuntu",
        "font-size": 3.75
       },
       "h4": {
        "color": "headingColor",
        "font-family": "Ubuntu",
        "font-size": 3
       },
       "h5": {
        "color": "headingColor",
        "font-family": "Ubuntu"
       },
       "h6": {
        "color": "headingColor",
        "font-family": "Ubuntu"
       },
       "h7": {
        "color": "headingColor",
        "font-family": "Ubuntu"
       },
       "li": {
        "color": "mainColor",
        "font-family": "Ubuntu",
        "font-size": 5
       },
       "p": {
        "color": "mainColor",
        "font-family": "Ubuntu",
        "font-size": 5
       }
      },
      "text-base": {
       "color": "mainColor",
       "font-family": "Ubuntu",
       "font-size": 5
      }
     }
    }
   }
  }
 },
 "nbformat": 4,
 "nbformat_minor": 1
}
