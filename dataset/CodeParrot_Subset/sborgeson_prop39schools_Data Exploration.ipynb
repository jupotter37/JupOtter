{
 "cells": [
  {
   "cell_type": "code",
   "execution_count": 3,
   "metadata": {
    "collapsed": false
   },
   "outputs": [],
   "source": [
    "from matplotlib import pyplot as plt\n",
    "%matplotlib inline\n",
    "\n",
    "import pandas as pd\n",
    "import numpy as np\n",
    "\n",
    "from datetime import datetime, timedelta"
   ]
  },
  {
   "cell_type": "markdown",
   "metadata": {},
   "source": [
    "# Consumption data"
   ]
  },
  {
   "cell_type": "code",
   "execution_count": null,
   "metadata": {
    "collapsed": true
   },
   "outputs": [],
   "source": []
  },
  {
   "cell_type": "code",
   "execution_count": 2,
   "metadata": {
    "collapsed": false
   },
   "outputs": [],
   "source": [
    "kwhs = pd.read_csv(\"../../prop39schools/sample_data/15634040000000_2012-2013_SCE_ELECTRIC_20150722.xml_INTERVAL.csv\", header=None)"
   ]
  },
  {
   "cell_type": "code",
   "execution_count": 3,
   "metadata": {
    "collapsed": false
   },
   "outputs": [],
   "source": [
    "kwhs.rename(columns={0:\"id\", 1:\"date\"}, inplace=True)\n",
    "\n",
    "# date is in Unix timestamp format, convert to ISO format\n",
    "kwhs['date'] = kwhs['date'].apply(lambda x: datetime.fromtimestamp(int(x)).strftime('%Y-%m-%d'))\n",
    "agreement_id = kwhs['id'].iloc[0]\n",
    "kwhs.drop(\"id\", axis=1, inplace=True)\n",
    "\n",
    "kwhs.set_index([\"date\"], inplace=True)"
   ]
  },
  {
   "cell_type": "code",
   "execution_count": 4,
   "metadata": {
    "collapsed": false
   },
   "outputs": [
    {
     "data": {
      "text/html": [
       "<div>\n",
       "<table border=\"1\" class=\"dataframe\">\n",
       "  <thead>\n",
       "    <tr style=\"text-align: right;\">\n",
       "      <th></th>\n",
       "      <th>2</th>\n",
       "      <th>3</th>\n",
       "      <th>4</th>\n",
       "      <th>5</th>\n",
       "      <th>6</th>\n",
       "      <th>7</th>\n",
       "      <th>8</th>\n",
       "      <th>9</th>\n",
       "      <th>10</th>\n",
       "      <th>11</th>\n",
       "      <th>...</th>\n",
       "      <th>192</th>\n",
       "      <th>193</th>\n",
       "      <th>194</th>\n",
       "      <th>195</th>\n",
       "      <th>196</th>\n",
       "      <th>197</th>\n",
       "      <th>198</th>\n",
       "      <th>199</th>\n",
       "      <th>200</th>\n",
       "      <th>201</th>\n",
       "    </tr>\n",
       "    <tr>\n",
       "      <th>date</th>\n",
       "      <th></th>\n",
       "      <th></th>\n",
       "      <th></th>\n",
       "      <th></th>\n",
       "      <th></th>\n",
       "      <th></th>\n",
       "      <th></th>\n",
       "      <th></th>\n",
       "      <th></th>\n",
       "      <th></th>\n",
       "      <th></th>\n",
       "      <th></th>\n",
       "      <th></th>\n",
       "      <th></th>\n",
       "      <th></th>\n",
       "      <th></th>\n",
       "      <th></th>\n",
       "      <th></th>\n",
       "      <th></th>\n",
       "      <th></th>\n",
       "      <th></th>\n",
       "    </tr>\n",
       "  </thead>\n",
       "  <tbody>\n",
       "    <tr>\n",
       "      <th>2012-06-30</th>\n",
       "      <td>0.72</td>\n",
       "      <td>4.32</td>\n",
       "      <td>3.06</td>\n",
       "      <td>0.66</td>\n",
       "      <td>0.60</td>\n",
       "      <td>0.66</td>\n",
       "      <td>0.66</td>\n",
       "      <td>0.72</td>\n",
       "      <td>0.72</td>\n",
       "      <td>0.60</td>\n",
       "      <td>...</td>\n",
       "      <td>0</td>\n",
       "      <td>0</td>\n",
       "      <td>0</td>\n",
       "      <td>0</td>\n",
       "      <td>0</td>\n",
       "      <td>0</td>\n",
       "      <td>NaN</td>\n",
       "      <td>NaN</td>\n",
       "      <td>NaN</td>\n",
       "      <td>NaN</td>\n",
       "    </tr>\n",
       "    <tr>\n",
       "      <th>2012-07-01</th>\n",
       "      <td>0.66</td>\n",
       "      <td>0.72</td>\n",
       "      <td>0.66</td>\n",
       "      <td>0.66</td>\n",
       "      <td>0.66</td>\n",
       "      <td>0.72</td>\n",
       "      <td>0.66</td>\n",
       "      <td>0.66</td>\n",
       "      <td>0.72</td>\n",
       "      <td>0.66</td>\n",
       "      <td>...</td>\n",
       "      <td>0</td>\n",
       "      <td>0</td>\n",
       "      <td>0</td>\n",
       "      <td>0</td>\n",
       "      <td>0</td>\n",
       "      <td>0</td>\n",
       "      <td>NaN</td>\n",
       "      <td>NaN</td>\n",
       "      <td>NaN</td>\n",
       "      <td>NaN</td>\n",
       "    </tr>\n",
       "    <tr>\n",
       "      <th>2012-07-02</th>\n",
       "      <td>0.72</td>\n",
       "      <td>0.72</td>\n",
       "      <td>0.66</td>\n",
       "      <td>0.66</td>\n",
       "      <td>0.66</td>\n",
       "      <td>0.66</td>\n",
       "      <td>0.66</td>\n",
       "      <td>0.66</td>\n",
       "      <td>0.72</td>\n",
       "      <td>0.72</td>\n",
       "      <td>...</td>\n",
       "      <td>0</td>\n",
       "      <td>0</td>\n",
       "      <td>0</td>\n",
       "      <td>0</td>\n",
       "      <td>0</td>\n",
       "      <td>0</td>\n",
       "      <td>NaN</td>\n",
       "      <td>NaN</td>\n",
       "      <td>NaN</td>\n",
       "      <td>NaN</td>\n",
       "    </tr>\n",
       "    <tr>\n",
       "      <th>2012-07-03</th>\n",
       "      <td>0.72</td>\n",
       "      <td>0.66</td>\n",
       "      <td>0.66</td>\n",
       "      <td>0.72</td>\n",
       "      <td>0.66</td>\n",
       "      <td>0.78</td>\n",
       "      <td>0.66</td>\n",
       "      <td>0.72</td>\n",
       "      <td>0.66</td>\n",
       "      <td>0.78</td>\n",
       "      <td>...</td>\n",
       "      <td>0</td>\n",
       "      <td>0</td>\n",
       "      <td>0</td>\n",
       "      <td>0</td>\n",
       "      <td>0</td>\n",
       "      <td>0</td>\n",
       "      <td>NaN</td>\n",
       "      <td>NaN</td>\n",
       "      <td>NaN</td>\n",
       "      <td>NaN</td>\n",
       "    </tr>\n",
       "    <tr>\n",
       "      <th>2012-07-04</th>\n",
       "      <td>0.66</td>\n",
       "      <td>0.72</td>\n",
       "      <td>0.66</td>\n",
       "      <td>0.72</td>\n",
       "      <td>0.72</td>\n",
       "      <td>0.78</td>\n",
       "      <td>0.66</td>\n",
       "      <td>0.72</td>\n",
       "      <td>0.66</td>\n",
       "      <td>0.66</td>\n",
       "      <td>...</td>\n",
       "      <td>0</td>\n",
       "      <td>0</td>\n",
       "      <td>0</td>\n",
       "      <td>0</td>\n",
       "      <td>0</td>\n",
       "      <td>0</td>\n",
       "      <td>NaN</td>\n",
       "      <td>NaN</td>\n",
       "      <td>NaN</td>\n",
       "      <td>NaN</td>\n",
       "    </tr>\n",
       "  </tbody>\n",
       "</table>\n",
       "<p>5 rows × 200 columns</p>\n",
       "</div>"
      ],
      "text/plain": [
       "             2     3     4     5     6     7     8     9     10    11  ...   \\\n",
       "date                                                                   ...    \n",
       "2012-06-30  0.72  4.32  3.06  0.66  0.60  0.66  0.66  0.72  0.72  0.60 ...    \n",
       "2012-07-01  0.66  0.72  0.66  0.66  0.66  0.72  0.66  0.66  0.72  0.66 ...    \n",
       "2012-07-02  0.72  0.72  0.66  0.66  0.66  0.66  0.66  0.66  0.72  0.72 ...    \n",
       "2012-07-03  0.72  0.66  0.66  0.72  0.66  0.78  0.66  0.72  0.66  0.78 ...    \n",
       "2012-07-04  0.66  0.72  0.66  0.72  0.72  0.78  0.66  0.72  0.66  0.66 ...    \n",
       "\n",
       "            192  193  194  195  196  197  198  199  200  201  \n",
       "date                                                          \n",
       "2012-06-30    0    0    0    0    0    0  NaN  NaN  NaN  NaN  \n",
       "2012-07-01    0    0    0    0    0    0  NaN  NaN  NaN  NaN  \n",
       "2012-07-02    0    0    0    0    0    0  NaN  NaN  NaN  NaN  \n",
       "2012-07-03    0    0    0    0    0    0  NaN  NaN  NaN  NaN  \n",
       "2012-07-04    0    0    0    0    0    0  NaN  NaN  NaN  NaN  \n",
       "\n",
       "[5 rows x 200 columns]"
      ]
     },
     "execution_count": 4,
     "metadata": {},
     "output_type": "execute_result"
    }
   ],
   "source": [
    "kwhs.head()"
   ]
  },
  {
   "cell_type": "code",
   "execution_count": 5,
   "metadata": {
    "collapsed": false
   },
   "outputs": [
    {
     "data": {
      "text/plain": [
       "(1428, 200)"
      ]
     },
     "execution_count": 5,
     "metadata": {},
     "output_type": "execute_result"
    }
   ],
   "source": [
    "kwhs.shape"
   ]
  },
  {
   "cell_type": "code",
   "execution_count": 6,
   "metadata": {
    "collapsed": false
   },
   "outputs": [
    {
     "data": {
      "text/plain": [
       "98"
      ]
     },
     "execution_count": 6,
     "metadata": {},
     "output_type": "execute_result"
    }
   ],
   "source": [
    "(kwhs.sum(0)>0).sum()"
   ]
  },
  {
   "cell_type": "code",
   "execution_count": 7,
   "metadata": {
    "collapsed": false
   },
   "outputs": [
    {
     "data": {
      "text/plain": [
       "194"
      ]
     },
     "execution_count": 7,
     "metadata": {},
     "output_type": "execute_result"
    }
   ],
   "source": [
    "(kwhs.count()>0).sum()-2"
   ]
  },
  {
   "cell_type": "code",
   "execution_count": 8,
   "metadata": {
    "collapsed": false
   },
   "outputs": [
    {
     "data": {
      "text/html": [
       "<div>\n",
       "<table border=\"1\" class=\"dataframe\">\n",
       "  <thead>\n",
       "    <tr style=\"text-align: right;\">\n",
       "      <th></th>\n",
       "      <th>2</th>\n",
       "      <th>3</th>\n",
       "      <th>4</th>\n",
       "      <th>5</th>\n",
       "      <th>6</th>\n",
       "      <th>7</th>\n",
       "      <th>8</th>\n",
       "      <th>9</th>\n",
       "      <th>10</th>\n",
       "      <th>11</th>\n",
       "      <th>...</th>\n",
       "      <th>192</th>\n",
       "      <th>193</th>\n",
       "      <th>194</th>\n",
       "      <th>195</th>\n",
       "      <th>196</th>\n",
       "      <th>197</th>\n",
       "      <th>198</th>\n",
       "      <th>199</th>\n",
       "      <th>200</th>\n",
       "      <th>201</th>\n",
       "    </tr>\n",
       "    <tr>\n",
       "      <th>date</th>\n",
       "      <th></th>\n",
       "      <th></th>\n",
       "      <th></th>\n",
       "      <th></th>\n",
       "      <th></th>\n",
       "      <th></th>\n",
       "      <th></th>\n",
       "      <th></th>\n",
       "      <th></th>\n",
       "      <th></th>\n",
       "      <th></th>\n",
       "      <th></th>\n",
       "      <th></th>\n",
       "      <th></th>\n",
       "      <th></th>\n",
       "      <th></th>\n",
       "      <th></th>\n",
       "      <th></th>\n",
       "      <th></th>\n",
       "      <th></th>\n",
       "      <th></th>\n",
       "    </tr>\n",
       "  </thead>\n",
       "  <tbody>\n",
       "    <tr>\n",
       "      <th>2013-06-03</th>\n",
       "      <td>0.6000</td>\n",
       "      <td>0.660</td>\n",
       "      <td>0.660</td>\n",
       "      <td>0.600</td>\n",
       "      <td>0.6</td>\n",
       "      <td>0.660</td>\n",
       "      <td>0.72</td>\n",
       "      <td>0.600</td>\n",
       "      <td>0.660</td>\n",
       "      <td>0.600</td>\n",
       "      <td>...</td>\n",
       "      <td>0</td>\n",
       "      <td>0</td>\n",
       "      <td>0</td>\n",
       "      <td>0</td>\n",
       "      <td>0</td>\n",
       "      <td>0</td>\n",
       "      <td>NaN</td>\n",
       "      <td>NaN</td>\n",
       "      <td>NaN</td>\n",
       "      <td>NaN</td>\n",
       "    </tr>\n",
       "    <tr>\n",
       "      <th>2013-06-03</th>\n",
       "      <td>4.0000</td>\n",
       "      <td>3.200</td>\n",
       "      <td>3.600</td>\n",
       "      <td>4.000</td>\n",
       "      <td>3.6</td>\n",
       "      <td>3.600</td>\n",
       "      <td>3.60</td>\n",
       "      <td>4.000</td>\n",
       "      <td>3.600</td>\n",
       "      <td>3.600</td>\n",
       "      <td>...</td>\n",
       "      <td>0</td>\n",
       "      <td>0</td>\n",
       "      <td>0</td>\n",
       "      <td>0</td>\n",
       "      <td>0</td>\n",
       "      <td>0</td>\n",
       "      <td>NaN</td>\n",
       "      <td>NaN</td>\n",
       "      <td>NaN</td>\n",
       "      <td>NaN</td>\n",
       "    </tr>\n",
       "    <tr>\n",
       "      <th>2013-06-03</th>\n",
       "      <td>1.9981</td>\n",
       "      <td>1.926</td>\n",
       "      <td>1.818</td>\n",
       "      <td>2.034</td>\n",
       "      <td>1.8</td>\n",
       "      <td>1.818</td>\n",
       "      <td>1.80</td>\n",
       "      <td>2.034</td>\n",
       "      <td>1.944</td>\n",
       "      <td>1.746</td>\n",
       "      <td>...</td>\n",
       "      <td>0</td>\n",
       "      <td>0</td>\n",
       "      <td>0</td>\n",
       "      <td>0</td>\n",
       "      <td>0</td>\n",
       "      <td>0</td>\n",
       "      <td>NaN</td>\n",
       "      <td>NaN</td>\n",
       "      <td>NaN</td>\n",
       "      <td>NaN</td>\n",
       "    </tr>\n",
       "    <tr>\n",
       "      <th>2013-06-03</th>\n",
       "      <td>1.1700</td>\n",
       "      <td>1.140</td>\n",
       "      <td>1.110</td>\n",
       "      <td>1.210</td>\n",
       "      <td>1.2</td>\n",
       "      <td>1.320</td>\n",
       "      <td>1.40</td>\n",
       "      <td>1.410</td>\n",
       "      <td>1.410</td>\n",
       "      <td>1.180</td>\n",
       "      <td>...</td>\n",
       "      <td>0</td>\n",
       "      <td>0</td>\n",
       "      <td>0</td>\n",
       "      <td>0</td>\n",
       "      <td>0</td>\n",
       "      <td>0</td>\n",
       "      <td>NaN</td>\n",
       "      <td>NaN</td>\n",
       "      <td>NaN</td>\n",
       "      <td>NaN</td>\n",
       "    </tr>\n",
       "  </tbody>\n",
       "</table>\n",
       "<p>4 rows × 200 columns</p>\n",
       "</div>"
      ],
      "text/plain": [
       "               2      3      4      5    6      7     8      9      10   \\\n",
       "date                                                                      \n",
       "2013-06-03  0.6000  0.660  0.660  0.600  0.6  0.660  0.72  0.600  0.660   \n",
       "2013-06-03  4.0000  3.200  3.600  4.000  3.6  3.600  3.60  4.000  3.600   \n",
       "2013-06-03  1.9981  1.926  1.818  2.034  1.8  1.818  1.80  2.034  1.944   \n",
       "2013-06-03  1.1700  1.140  1.110  1.210  1.2  1.320  1.40  1.410  1.410   \n",
       "\n",
       "              11  ...   192  193  194  195  196  197  198  199  200  201  \n",
       "date              ...                                                     \n",
       "2013-06-03  0.600 ...     0    0    0    0    0    0  NaN  NaN  NaN  NaN  \n",
       "2013-06-03  3.600 ...     0    0    0    0    0    0  NaN  NaN  NaN  NaN  \n",
       "2013-06-03  1.746 ...     0    0    0    0    0    0  NaN  NaN  NaN  NaN  \n",
       "2013-06-03  1.180 ...     0    0    0    0    0    0  NaN  NaN  NaN  NaN  \n",
       "\n",
       "[4 rows x 200 columns]"
      ]
     },
     "execution_count": 8,
     "metadata": {},
     "output_type": "execute_result"
    }
   ],
   "source": [
    "kwhs.ix['2013-06-03']"
   ]
  },
  {
   "cell_type": "code",
   "execution_count": 9,
   "metadata": {
    "collapsed": false,
    "scrolled": false
   },
   "outputs": [
    {
     "data": {
      "text/plain": [
       "<matplotlib.legend.Legend at 0x7c61a90>"
      ]
     },
     "execution_count": 9,
     "metadata": {},
     "output_type": "execute_result"
    },
    {
     "data": {
      "image/png": "[encoded data removed]",
      "text/plain": [
       "<matplotlib.figure.Figure at 0x7ab1c88>"
      ]
     },
     "metadata": {},
     "output_type": "display_data"
    }
   ],
   "source": [
    "# It looks like this is 15-minute interval data?\n",
    "\n",
    "plt.figure(figsize=(8,4))\n",
    "plt.plot(kwhs.max().values, label=\"max\", lw=2)\n",
    "plt.plot(kwhs.std().values, label=\"std\", lw=2)\n",
    "plt.plot(kwhs.mean().values, label=\"avg\", lw=2)\n",
    "\n",
    "idx = np.random.choice(kwhs.index.values, 5)\n",
    "for i in idx:\n",
    "    plt.plot(kwhs.ix[i].values[0], label=i)\n",
    "    \n",
    "plt.ylabel(\"kWh\")\n",
    "plt.legend()\n"
   ]
  },
  {
   "cell_type": "code",
   "execution_count": 10,
   "metadata": {
    "collapsed": false
   },
   "outputs": [
    {
     "data": {
      "text/plain": [
       "array(['2012-07-26', '2012-12-25', '2012-12-24', '2012-12-31', '2012-09-18'], dtype=object)"
      ]
     },
     "execution_count": 10,
     "metadata": {},
     "output_type": "execute_result"
    }
   ],
   "source": [
    "idx"
   ]
  },
  {
   "cell_type": "code",
   "execution_count": 11,
   "metadata": {
    "collapsed": false
   },
   "outputs": [
    {
     "data": {
      "text/plain": [
       "<matplotlib.image.AxesImage at 0x7fecd30>"
      ]
     },
     "execution_count": 11,
     "metadata": {},
     "output_type": "execute_result"
    },
    {
     "data": {
      "image/png": "[encoded data removed]",
      "text/plain": [
       "<matplotlib.figure.Figure at 0x7ab12e8>"
      ]
     },
     "metadata": {},
     "output_type": "display_data"
    }
   ],
   "source": [
    "plt.figure(figsize=(8,6))\n",
    "plt.imshow(kwhs.iloc[:,:96].values, interpolation='nearest', aspect='auto')"
   ]
  },
  {
   "cell_type": "markdown",
   "metadata": {},
   "source": [
    "# Billing data"
   ]
  },
  {
   "cell_type": "code",
   "execution_count": 12,
   "metadata": {
    "collapsed": false
   },
   "outputs": [
    {
     "data": {
      "text/plain": [
       "customer_name                            NaN\n",
       "customer_city                            NaN\n",
       "customer_zip                             NaN\n",
       "customer_account                         NaN\n",
       "lea_customer         Delano Union Elementary\n",
       "cds_code                      15634040000000\n",
       "school_site_name     Delano Union Elementary\n",
       "school_city                           Delano\n",
       "school_site_zip                   93215-2416\n",
       "agreement                            1183021\n",
       "units                                    kWh\n",
       "demandUnits                               kW\n",
       "rate_schedule_id                  GS-2-TOU-A\n",
       "n_days                                    29\n",
       "generation                             False\n",
       "start_time                        1343088000\n",
       "last_period                          2296.88\n",
       "consumption_total                       7714\n",
       "on_peak                                  NaN\n",
       "semi_peak                                NaN\n",
       "off_peak                                 NaN\n",
       "on_peak_demand                         36.48\n",
       "semi_peak_demand                       31.68\n",
       "off_peak_demand                        27.84\n",
       "Name: 1, dtype: object"
      ]
     },
     "execution_count": 12,
     "metadata": {},
     "output_type": "execute_result"
    }
   ],
   "source": [
    "bill = pd.read_csv(\"../../prop39schools/sample_data/15634040000000_2012-2013_SCE_ELECTRIC_20150722.xml_BILL.csv\")\n",
    "bill.iloc[1]"
   ]
  },
  {
   "cell_type": "code",
   "execution_count": 13,
   "metadata": {
    "collapsed": false
   },
   "outputs": [
    {
     "data": {
      "text/plain": [
       "(69, 24)"
      ]
     },
     "execution_count": 13,
     "metadata": {},
     "output_type": "execute_result"
    }
   ],
   "source": [
    "bill.shape"
   ]
  },
  {
   "cell_type": "code",
   "execution_count": 14,
   "metadata": {
    "collapsed": true
   },
   "outputs": [],
   "source": [
    "bill['start_time'] = bill['start_time'].apply(lambda x: datetime.fromtimestamp(int(x)).strftime('%Y-%m-%d'))\n",
    "\n",
    "zipcode = bill['school_site_zip'].iloc[0]"
   ]
  },
  {
   "cell_type": "code",
   "execution_count": 15,
   "metadata": {
    "collapsed": false
   },
   "outputs": [
    {
     "data": {
      "text/plain": [
       "<matplotlib.axes._subplots.AxesSubplot at 0x7fa8278>"
      ]
     },
     "execution_count": 15,
     "metadata": {},
     "output_type": "execute_result"
    },
    {
     "data": {
      "image/png": "[encoded data removed]",
      "text/plain": [
       "<matplotlib.figure.Figure at 0x7a3b7b8>"
      ]
     },
     "metadata": {},
     "output_type": "display_data"
    }
   ],
   "source": [
    "bill['off_peak_demand'].hist(bins=20)"
   ]
  },
  {
   "cell_type": "code",
   "execution_count": 16,
   "metadata": {
    "collapsed": false
   },
   "outputs": [
    {
     "data": {
      "text/plain": [
       "<matplotlib.axes._subplots.AxesSubplot at 0x9ef9588>"
      ]
     },
     "execution_count": 16,
     "metadata": {},
     "output_type": "execute_result"
    },
    {
     "data": {
      "image/png": "[encoded data removed]",
      "text/plain": [
       "<matplotlib.figure.Figure at 0x9f77048>"
      ]
     },
     "metadata": {},
     "output_type": "display_data"
    }
   ],
   "source": [
    "bill['on_peak_demand'].hist(bins=20)"
   ]
  },
  {
   "cell_type": "code",
   "execution_count": 17,
   "metadata": {
    "collapsed": false
   },
   "outputs": [
    {
     "data": {
      "text/html": [
       "<div>\n",
       "<table border=\"1\" class=\"dataframe\">\n",
       "  <thead>\n",
       "    <tr style=\"text-align: right;\">\n",
       "      <th></th>\n",
       "      <th>customer_name</th>\n",
       "      <th>customer_city</th>\n",
       "      <th>customer_zip</th>\n",
       "      <th>customer_account</th>\n",
       "      <th>lea_customer</th>\n",
       "      <th>cds_code</th>\n",
       "      <th>school_site_name</th>\n",
       "      <th>school_city</th>\n",
       "      <th>school_site_zip</th>\n",
       "      <th>agreement</th>\n",
       "      <th>...</th>\n",
       "      <th>generation</th>\n",
       "      <th>start_time</th>\n",
       "      <th>last_period</th>\n",
       "      <th>consumption_total</th>\n",
       "      <th>on_peak</th>\n",
       "      <th>semi_peak</th>\n",
       "      <th>off_peak</th>\n",
       "      <th>on_peak_demand</th>\n",
       "      <th>semi_peak_demand</th>\n",
       "      <th>off_peak_demand</th>\n",
       "    </tr>\n",
       "  </thead>\n",
       "  <tbody>\n",
       "    <tr>\n",
       "      <th>0</th>\n",
       "      <td>NaN</td>\n",
       "      <td>NaN</td>\n",
       "      <td>NaN</td>\n",
       "      <td>NaN</td>\n",
       "      <td>Delano Union Elementary</td>\n",
       "      <td>15634040000000</td>\n",
       "      <td>Delano Union Elementary</td>\n",
       "      <td>Delano</td>\n",
       "      <td>93215-2416</td>\n",
       "      <td>1183021</td>\n",
       "      <td>...</td>\n",
       "      <td>False</td>\n",
       "      <td>2012-06-20</td>\n",
       "      <td>2144.97</td>\n",
       "      <td>7544</td>\n",
       "      <td>NaN</td>\n",
       "      <td>NaN</td>\n",
       "      <td>NaN</td>\n",
       "      <td>33.36</td>\n",
       "      <td>30.96</td>\n",
       "      <td>24.48</td>\n",
       "    </tr>\n",
       "    <tr>\n",
       "      <th>1</th>\n",
       "      <td>NaN</td>\n",
       "      <td>NaN</td>\n",
       "      <td>NaN</td>\n",
       "      <td>NaN</td>\n",
       "      <td>Delano Union Elementary</td>\n",
       "      <td>15634040000000</td>\n",
       "      <td>Delano Union Elementary</td>\n",
       "      <td>Delano</td>\n",
       "      <td>93215-2416</td>\n",
       "      <td>1183021</td>\n",
       "      <td>...</td>\n",
       "      <td>False</td>\n",
       "      <td>2012-07-23</td>\n",
       "      <td>2296.88</td>\n",
       "      <td>7714</td>\n",
       "      <td>NaN</td>\n",
       "      <td>NaN</td>\n",
       "      <td>NaN</td>\n",
       "      <td>36.48</td>\n",
       "      <td>31.68</td>\n",
       "      <td>27.84</td>\n",
       "    </tr>\n",
       "    <tr>\n",
       "      <th>2</th>\n",
       "      <td>NaN</td>\n",
       "      <td>NaN</td>\n",
       "      <td>NaN</td>\n",
       "      <td>NaN</td>\n",
       "      <td>Delano Union Elementary</td>\n",
       "      <td>15634040000000</td>\n",
       "      <td>Delano Union Elementary</td>\n",
       "      <td>Delano</td>\n",
       "      <td>93215-2416</td>\n",
       "      <td>1183021</td>\n",
       "      <td>...</td>\n",
       "      <td>False</td>\n",
       "      <td>2012-08-21</td>\n",
       "      <td>1933.79</td>\n",
       "      <td>6498</td>\n",
       "      <td>NaN</td>\n",
       "      <td>NaN</td>\n",
       "      <td>NaN</td>\n",
       "      <td>31.92</td>\n",
       "      <td>26.16</td>\n",
       "      <td>22.32</td>\n",
       "    </tr>\n",
       "    <tr>\n",
       "      <th>3</th>\n",
       "      <td>NaN</td>\n",
       "      <td>NaN</td>\n",
       "      <td>NaN</td>\n",
       "      <td>NaN</td>\n",
       "      <td>Delano Union Elementary</td>\n",
       "      <td>15634040000000</td>\n",
       "      <td>Delano Union Elementary</td>\n",
       "      <td>Delano</td>\n",
       "      <td>93215-2416</td>\n",
       "      <td>1183021</td>\n",
       "      <td>...</td>\n",
       "      <td>False</td>\n",
       "      <td>2012-09-20</td>\n",
       "      <td>1190.14</td>\n",
       "      <td>5721</td>\n",
       "      <td>NaN</td>\n",
       "      <td>NaN</td>\n",
       "      <td>NaN</td>\n",
       "      <td>27.84</td>\n",
       "      <td>30.48</td>\n",
       "      <td>19.68</td>\n",
       "    </tr>\n",
       "    <tr>\n",
       "      <th>4</th>\n",
       "      <td>NaN</td>\n",
       "      <td>NaN</td>\n",
       "      <td>NaN</td>\n",
       "      <td>NaN</td>\n",
       "      <td>Delano Union Elementary</td>\n",
       "      <td>15634040000000</td>\n",
       "      <td>Delano Union Elementary</td>\n",
       "      <td>Delano</td>\n",
       "      <td>93215-2416</td>\n",
       "      <td>1183021</td>\n",
       "      <td>...</td>\n",
       "      <td>False</td>\n",
       "      <td>2012-10-23</td>\n",
       "      <td>757.61</td>\n",
       "      <td>4727</td>\n",
       "      <td>0</td>\n",
       "      <td>2964</td>\n",
       "      <td>1763</td>\n",
       "      <td>0.00</td>\n",
       "      <td>22.08</td>\n",
       "      <td>14.64</td>\n",
       "    </tr>\n",
       "  </tbody>\n",
       "</table>\n",
       "<p>5 rows × 24 columns</p>\n",
       "</div>"
      ],
      "text/plain": [
       "   customer_name  customer_city  customer_zip  customer_account  \\\n",
       "0            NaN            NaN           NaN               NaN   \n",
       "1            NaN            NaN           NaN               NaN   \n",
       "2            NaN            NaN           NaN               NaN   \n",
       "3            NaN            NaN           NaN               NaN   \n",
       "4            NaN            NaN           NaN               NaN   \n",
       "\n",
       "              lea_customer        cds_code         school_site_name  \\\n",
       "0  Delano Union Elementary  15634040000000  Delano Union Elementary   \n",
       "1  Delano Union Elementary  15634040000000  Delano Union Elementary   \n",
       "2  Delano Union Elementary  15634040000000  Delano Union Elementary   \n",
       "3  Delano Union Elementary  15634040000000  Delano Union Elementary   \n",
       "4  Delano Union Elementary  15634040000000  Delano Union Elementary   \n",
       "\n",
       "  school_city school_site_zip  agreement       ...        generation  \\\n",
       "0      Delano      93215-2416    1183021       ...             False   \n",
       "1      Delano      93215-2416    1183021       ...             False   \n",
       "2      Delano      93215-2416    1183021       ...             False   \n",
       "3      Delano      93215-2416    1183021       ...             False   \n",
       "4      Delano      93215-2416    1183021       ...             False   \n",
       "\n",
       "   start_time last_period  consumption_total on_peak semi_peak  off_peak  \\\n",
       "0  2012-06-20     2144.97               7544     NaN       NaN       NaN   \n",
       "1  2012-07-23     2296.88               7714     NaN       NaN       NaN   \n",
       "2  2012-08-21     1933.79               6498     NaN       NaN       NaN   \n",
       "3  2012-09-20     1190.14               5721     NaN       NaN       NaN   \n",
       "4  2012-10-23      757.61               4727       0      2964      1763   \n",
       "\n",
       "   on_peak_demand  semi_peak_demand  off_peak_demand  \n",
       "0           33.36             30.96            24.48  \n",
       "1           36.48             31.68            27.84  \n",
       "2           31.92             26.16            22.32  \n",
       "3           27.84             30.48            19.68  \n",
       "4            0.00             22.08            14.64  \n",
       "\n",
       "[5 rows x 24 columns]"
      ]
     },
     "execution_count": 17,
     "metadata": {},
     "output_type": "execute_result"
    }
   ],
   "source": [
    "bill.head()"
   ]
  },
  {
   "cell_type": "code",
   "execution_count": 18,
   "metadata": {
    "collapsed": false
   },
   "outputs": [
    {
     "data": {
      "text/plain": [
       "Delano Union Elementary    69\n",
       "Name: school_site_name, dtype: int64"
      ]
     },
     "execution_count": 18,
     "metadata": {},
     "output_type": "execute_result"
    }
   ],
   "source": [
    "bill['school_site_name'].value_counts()"
   ]
  },
  {
   "cell_type": "code",
   "execution_count": null,
   "metadata": {
    "collapsed": true
   },
   "outputs": [],
   "source": []
  },
  {
   "cell_type": "code",
   "execution_count": null,
   "metadata": {
    "collapsed": true
   },
   "outputs": [],
   "source": []
  }
 ],
 "metadata": {
  "anaconda-cloud": {},
  "kernelspec": {
   "display_name": "Python [default]",
   "language": "python",
   "name": "python2"
  },
  "language_info": {
   "codemirror_mode": {
    "name": "ipython",
    "version": 2
   },
   "file_extension": ".py",
   "mimetype": "text/x-python",
   "name": "python",
   "nbconvert_exporter": "python",
   "pygments_lexer": "ipython2",
   "version": "2.7.12"
  }
 },
 "nbformat": 4,
 "nbformat_minor": 0
}
