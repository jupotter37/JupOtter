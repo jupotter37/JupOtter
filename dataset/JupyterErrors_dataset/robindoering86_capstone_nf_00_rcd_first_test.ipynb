{
 "cells": [
  {
   "cell_type": "code",
   "execution_count": 5,
   "metadata": {},
   "outputs": [],
   "source": [
    "from atomm.Indicators import MomentumIndicators\n",
    "from atomm.DataManager.main import MSDataManager"
   ]
  },
  {
   "cell_type": "markdown",
   "metadata": {},
   "source": [
    "# "
   ]
  },
  {
   "cell_type": "code",
   "execution_count": null,
   "metadata": {},
   "outputs": [],
   "source": []
  },
  {
   "cell_type": "code",
   "execution_count": 7,
   "metadata": {},
   "outputs": [],
   "source": [
    "from src.data import make_dataset"
   ]
  },
  {
   "cell_type": "code",
   "execution_count": 8,
   "metadata": {},
   "outputs": [],
   "source": [
    "import os\n",
    "from dotenv import find_dotenv, load_dotenv"
   ]
  },
  {
   "cell_type": "code",
   "execution_count": 9,
   "metadata": {},
   "outputs": [],
   "source": [
    "envs = find_dotenv()"
   ]
  },
  {
   "cell_type": "code",
   "execution_count": 12,
   "metadata": {},
   "outputs": [
    {
     "data": {
      "text/plain": [
       "True"
      ]
     },
     "execution_count": 12,
     "metadata": {},
     "output_type": "execute_result"
    }
   ],
   "source": [
    "load_dotenv(find_dotenv())"
   ]
  },
  {
   "cell_type": "code",
   "execution_count": 22,
   "metadata": {},
   "outputs": [
    {
     "data": {
      "text/plain": [
       "True"
      ]
     },
     "execution_count": 22,
     "metadata": {},
     "output_type": "execute_result"
    }
   ],
   "source": [
    "load_dotenv(find_dotenv())"
   ]
  },
  {
   "cell_type": "code",
   "execution_count": 13,
   "metadata": {},
   "outputs": [],
   "source": [
    "iex_token = os.environ.get('APCA-API-SECRET-KEY')"
   ]
  },
  {
   "cell_type": "code",
   "execution_count": 15,
   "metadata": {},
   "outputs": [
    {
     "data": {
      "text/plain": [
       "'0I7wO9I6dl7CSxULlnU0jo5PPxSBNUu8Wh1kRwbV'"
      ]
     },
     "execution_count": 15,
     "metadata": {},
     "output_type": "execute_result"
    }
   ],
   "source": [
    "iex_token"
   ]
  },
  {
   "cell_type": "code",
   "execution_count": null,
   "metadata": {},
   "outputs": [],
   "source": []
  },
  {
   "cell_type": "code",
   "execution_count": 103,
   "metadata": {},
   "outputs": [],
   "source": [
    "import pandas as pd"
   ]
  },
  {
   "cell_type": "code",
   "execution_count": 105,
   "metadata": {},
   "outputs": [],
   "source": [
    "symbols = pd.read_csv('../data/symbols.csv')"
   ]
  },
  {
   "cell_type": "code",
   "execution_count": 111,
   "metadata": {},
   "outputs": [],
   "source": [
    "djia = symbols[symbols['index_name'] == 'DJIA']['trading_symbol'].to_list()"
   ]
  },
  {
   "cell_type": "code",
   "execution_count": 112,
   "metadata": {},
   "outputs": [
    {
     "name": "stdout",
     "output_type": "stream",
     "text": [
      "['MMM', 'AXP', 'AAPL', 'BA', 'CAT', 'CVX', 'CSCO', 'KO', 'DOW', 'XOM', 'GS', 'HD', 'IBM', 'INTC', 'JNJ', 'JPM', 'MCD', 'MRK', 'MSFT', 'NKE', 'PFE', 'PG', 'TRV', 'UNH', 'UTX', 'VZ', 'V', 'WMT', 'WBA', 'DIS']\n"
     ]
    }
   ],
   "source": [
    "print(djia)"
   ]
  },
  {
   "cell_type": "code",
   "execution_count": null,
   "metadata": {},
   "outputs": [],
   "source": []
  },
  {
   "cell_type": "code",
   "execution_count": 33,
   "metadata": {},
   "outputs": [],
   "source": [
    "symbols_list = ['AAPL', 'AXP', 'BA', 'CAT', 'CSCO', 'CVX', 'DIS', 'DOW', 'GS', 'HD', 'IBM', 'INTC', 'JNJ', 'JPM', 'KO', 'MCD', 'MMM', 'MRK', 'MSFT', 'NKE', 'PFE', 'PG', 'TRV', 'UNH', 'UTX', 'V', 'VZ', 'WBA', 'WMT', 'XOM']"
   ]
  },
  {
   "cell_type": "code",
   "execution_count": 155,
   "metadata": {},
   "outputs": [],
   "source": [
    "import alpaca_trade_api as tradeapi\n",
    "\n",
    "api = tradeapi.REST()"
   ]
  },
  {
   "cell_type": "code",
   "execution_count": 156,
   "metadata": {},
   "outputs": [],
   "source": [
    "start0 = '2009-12-06'\n",
    "end0 = '2010-12-06'"
   ]
  },
  {
   "cell_type": "code",
   "execution_count": 157,
   "metadata": {},
   "outputs": [],
   "source": [
    "# Get daily price data for AAPL over the last 5 trading days.\n",
    "djia0 = api.get_barset(symbols_list+['DJIA'], 'day', limit=1000).df"
   ]
  },
  {
   "cell_type": "code",
   "execution_count": 158,
   "metadata": {},
   "outputs": [
    {
     "data": {
      "text/plain": [
       "(1002, 155)"
      ]
     },
     "execution_count": 158,
     "metadata": {},
     "output_type": "execute_result"
    }
   ],
   "source": [
    "djia0.shape"
   ]
  },
  {
   "cell_type": "code",
   "execution_count": 106,
   "metadata": {},
   "outputs": [
    {
     "data": {
      "text/plain": [
       "['MCD',\n",
       " 'DJIA',\n",
       " 'CSCO',\n",
       " 'TRV',\n",
       " 'CAT',\n",
       " 'WMT',\n",
       " 'HD',\n",
       " 'AXP',\n",
       " 'INTC',\n",
       " 'V',\n",
       " 'DIS',\n",
       " 'VZ',\n",
       " 'WBA',\n",
       " 'JNJ',\n",
       " 'KO',\n",
       " 'DOW',\n",
       " 'MSFT',\n",
       " 'MMM',\n",
       " 'GS',\n",
       " 'NKE',\n",
       " 'AAPL',\n",
       " 'UTX',\n",
       " 'UNH',\n",
       " 'CVX',\n",
       " 'JPM',\n",
       " 'BA',\n",
       " 'PG',\n",
       " 'IBM',\n",
       " 'PFE',\n",
       " 'XOM',\n",
       " 'MRK']"
      ]
     },
     "execution_count": 106,
     "metadata": {},
     "output_type": "execute_result"
    }
   ],
   "source": [
    "list(set([x[0] for x in djia0.columns]))"
   ]
  },
  {
   "cell_type": "code",
   "execution_count": 111,
   "metadata": {},
   "outputs": [
    {
     "data": {
      "text/html": [
       "<div>\n",
       "<style scoped>\n",
       "    .dataframe tbody tr th:only-of-type {\n",
       "        vertical-align: middle;\n",
       "    }\n",
       "\n",
       "    .dataframe tbody tr th {\n",
       "        vertical-align: top;\n",
       "    }\n",
       "\n",
       "    .dataframe thead tr th {\n",
       "        text-align: left;\n",
       "    }\n",
       "\n",
       "    .dataframe thead tr:last-of-type th {\n",
       "        text-align: right;\n",
       "    }\n",
       "</style>\n",
       "<table border=\"1\" class=\"dataframe\">\n",
       "  <thead>\n",
       "    <tr>\n",
       "      <th></th>\n",
       "      <th colspan=\"5\" halign=\"left\">VOW3</th>\n",
       "    </tr>\n",
       "    <tr>\n",
       "      <th></th>\n",
       "      <th>open</th>\n",
       "      <th>high</th>\n",
       "      <th>low</th>\n",
       "      <th>close</th>\n",
       "      <th>volume</th>\n",
       "    </tr>\n",
       "    <tr>\n",
       "      <th>time</th>\n",
       "      <th></th>\n",
       "      <th></th>\n",
       "      <th></th>\n",
       "      <th></th>\n",
       "      <th></th>\n",
       "    </tr>\n",
       "  </thead>\n",
       "  <tbody>\n",
       "  </tbody>\n",
       "</table>\n",
       "</div>"
      ],
      "text/plain": [
       "Empty DataFrame\n",
       "Columns: [(VOW3, open), (VOW3, high), (VOW3, low), (VOW3, close), (VOW3, volume)]\n",
       "Index: []"
      ]
     },
     "execution_count": 111,
     "metadata": {},
     "output_type": "execute_result"
    }
   ],
   "source": [
    "djia0.tail()"
   ]
  },
  {
   "cell_type": "code",
   "execution_count": 118,
   "metadata": {},
   "outputs": [],
   "source": [
    "djia0 = api.get_barset(['AAPL'], '15Min', limit=1000).df"
   ]
  },
  {
   "cell_type": "code",
   "execution_count": 146,
   "metadata": {},
   "outputs": [
    {
     "data": {
      "text/plain": [
       "<matplotlib.collections.PathCollection at 0x1268973d0>"
      ]
     },
     "execution_count": 146,
     "metadata": {},
     "output_type": "execute_result"
    },
    {
     "data": {
      "image/png": "[encoded data removed]",
      "text/plain": [
       "<Figure size 432x288 with 1 Axes>"
      ]
     },
     "metadata": {
      "needs_background": "light"
     },
     "output_type": "display_data"
    }
   ],
   "source": [
    "import matplotlib.pyplot as plt\n",
    "import datetime as dt\n",
    "fig = plt.figure()\n",
    "\n",
    "plt.scatter(djia0['AAPL'].index[0:20], djia0['AAPL']['close'][:20])\n"
   ]
  },
  {
   "cell_type": "code",
   "execution_count": 145,
   "metadata": {},
   "outputs": [
    {
     "data": {
      "text/plain": [
       "DatetimeIndex(['2019-10-14 10:00:00-04:00', '2019-10-14 10:15:00-04:00',\n",
       "               '2019-10-14 10:30:00-04:00', '2019-10-14 10:45:00-04:00',\n",
       "               '2019-10-14 11:00:00-04:00', '2019-10-14 11:15:00-04:00',\n",
       "               '2019-10-14 11:30:00-04:00', '2019-10-14 11:45:00-04:00',\n",
       "               '2019-10-14 12:00:00-04:00', '2019-10-14 12:15:00-04:00',\n",
       "               '2019-10-14 12:30:00-04:00', '2019-10-14 12:45:00-04:00',\n",
       "               '2019-10-14 13:00:00-04:00', '2019-10-14 13:15:00-04:00',\n",
       "               '2019-10-14 13:30:00-04:00', '2019-10-14 13:45:00-04:00',\n",
       "               '2019-10-14 14:00:00-04:00', '2019-10-14 14:15:00-04:00',\n",
       "               '2019-10-14 14:30:00-04:00', '2019-10-14 14:45:00-04:00'],\n",
       "              dtype='datetime64[ns, America/New_York]', name='time', freq=None)"
      ]
     },
     "execution_count": 145,
     "metadata": {},
     "output_type": "execute_result"
    }
   ],
   "source": [
    "djia0['AAPL'].index[0:20]"
   ]
  },
  {
   "cell_type": "code",
   "execution_count": 51,
   "metadata": {},
   "outputs": [],
   "source": [
    "fname = open(b'djia.pkl', 'wb')"
   ]
  },
  {
   "cell_type": "code",
   "execution_count": 53,
   "metadata": {},
   "outputs": [],
   "source": [
    "pickle.dump(barset, fname)"
   ]
  },
  {
   "cell_type": "code",
   "execution_count": 55,
   "metadata": {},
   "outputs": [],
   "source": [
    "df_loaded = pickle.load(open('djia.pkl', 'rb'))"
   ]
  },
  {
   "cell_type": "code",
   "execution_count": 73,
   "metadata": {},
   "outputs": [
    {
     "ename": "AttributeError",
     "evalue": "'numpy.float64' object has no attribute 'isnan'",
     "output_type": "error",
     "traceback": [
      "\u001b[0;31m---------------------------------------------------------------------------\u001b[0m",
      "\u001b[0;31mAttributeError\u001b[0m                            Traceback (most recent call last)",
      "\u001b[0;32m<ipython-input-73-413d65f58a62>\u001b[0m in \u001b[0;36m<module>\u001b[0;34m\u001b[0m\n\u001b[0;32m----> 1\u001b[0;31m \u001b[0mdf_loaded\u001b[0m\u001b[0;34m[\u001b[0m\u001b[0;34m'AAPL'\u001b[0m\u001b[0;34m]\u001b[0m\u001b[0;34m[\u001b[0m\u001b[0;34m'open'\u001b[0m\u001b[0;34m]\u001b[0m\u001b[0;34m[\u001b[0m\u001b[0;36m0\u001b[0m\u001b[0;34m]\u001b[0m\u001b[0;34m.\u001b[0m\u001b[0misnan\u001b[0m\u001b[0;34m(\u001b[0m\u001b[0;34m)\u001b[0m\u001b[0;34m\u001b[0m\u001b[0;34m\u001b[0m\u001b[0m\n\u001b[0m",
      "\u001b[0;31mAttributeError\u001b[0m: 'numpy.float64' object has no attribute 'isnan'"
     ]
    }
   ],
   "source": [
    "df_loaded['AAPL']['open'][0]"
   ]
  },
  {
   "cell_type": "code",
   "execution_count": 32,
   "metadata": {},
   "outputs": [
    {
     "name": "stdout",
     "output_type": "stream",
     "text": [
      "AAPL moved 1.2833464287050576% over the last 5 days\n"
     ]
    }
   ],
   "source": [
    "aapl_bars = barset['AAPL']\n",
    "\n",
    "# See how much AAPL moved in that timeframe.\n",
    "week_open = aapl_bars[0].o\n",
    "week_close = aapl_bars[-1].c\n",
    "percent_change = (week_close - week_open) / week_open * 100\n",
    "print('AAPL moved {}% over the last 5 days'.format(percent_change))"
   ]
  },
  {
   "cell_type": "code",
   "execution_count": 17,
   "metadata": {},
   "outputs": [
    {
     "ename": "NameError",
     "evalue": "name 'APCA_API_SECRET_KEY' is not defined",
     "output_type": "error",
     "traceback": [
      "\u001b[0;31m---------------------------------------------------------------------------\u001b[0m",
      "\u001b[0;31mNameError\u001b[0m                                 Traceback (most recent call last)",
      "\u001b[0;32m<ipython-input-17-94f0ac685cf1>\u001b[0m in \u001b[0;36m<module>\u001b[0;34m\u001b[0m\n\u001b[0;32m----> 1\u001b[0;31m \u001b[0mAPCA_API_SECRET_KEY\u001b[0m\u001b[0;34m\u001b[0m\u001b[0;34m\u001b[0m\u001b[0m\n\u001b[0m",
      "\u001b[0;31mNameError\u001b[0m: name 'APCA_API_SECRET_KEY' is not defined"
     ]
    }
   ],
   "source": [
    "APCA_API_SECRET_KEY"
   ]
  },
  {
   "cell_type": "code",
   "execution_count": 30,
   "metadata": {},
   "outputs": [
    {
     "data": {
      "text/plain": [
       "True"
      ]
     },
     "execution_count": 30,
     "metadata": {},
     "output_type": "execute_result"
    }
   ],
   "source": [
    "load_dotenv(find_dotenv())"
   ]
  },
  {
   "cell_type": "code",
   "execution_count": 31,
   "metadata": {},
   "outputs": [
    {
     "data": {
      "text/plain": [
       "'0I7wO9I6dl7CSxULlnU0jo5PPxSBNUu8Wh1kRwbV'"
      ]
     },
     "execution_count": 31,
     "metadata": {},
     "output_type": "execute_result"
    }
   ],
   "source": [
    "os.environ.get('APCA-API-SECRET-KEY')"
   ]
  },
  {
   "cell_type": "code",
   "execution_count": 29,
   "metadata": {},
   "outputs": [
    {
     "data": {
      "text/plain": [
       "'PKLESJ8SNGS88UHWM1C4'"
      ]
     },
     "execution_count": 29,
     "metadata": {},
     "output_type": "execute_result"
    }
   ],
   "source": [
    "os.environ.get('APCA-API-KEY-ID')"
   ]
  },
  {
   "cell_type": "code",
   "execution_count": null,
   "metadata": {},
   "outputs": [],
   "source": []
  },
  {
   "cell_type": "code",
   "execution_count": 189,
   "metadata": {},
   "outputs": [
    {
     "name": "stderr",
     "output_type": "stream",
     "text": [
      "List of S&P 500 companies[1][1]: dropping field from unknown column: Celgene\n",
      "List of S&P 500 companies[1][1]: dropping field from unknown column: Bristol-Myers Squibb Co. (NYSE:BMY) acquired Celgene.\n",
      "List of S&P 500 companies[1][2]: dropping field from unknown column: Nektar Therapeutics\n",
      "List of S&P 500 companies[1][2]: dropping field from unknown column: Market Cap changes\n",
      "List of S&P 500 companies[1][3]: dropping field from unknown column: Jefferies Financial Group Inc\n",
      "List of S&P 500 companies[1][3]: dropping field from unknown column: JEF spinning off SPB\n",
      "List of S&P 500 companies[1][4]: dropping field from unknown column: TSYS\n",
      "List of S&P 500 companies[1][4]: dropping field from unknown column: S&P 500 constituent Global Payments Inc. (NYSE: GPN) acquired TSS.\n",
      "List of S&P 500 companies[1][5]: dropping field from unknown column: Anadarko Petroleum\n",
      "List of S&P 500 companies[1][5]: dropping field from unknown column: S&P 500 & 100 constituent Occidental Petroleum Corp. (NYSE:OXY) acquired Anadarko Petroleum.\n",
      "List of S&P 500 companies[1][6]: dropping field from unknown column: Foot Locker\n",
      "List of S&P 500 companies[1][6]: dropping field from unknown column: Foot Locker moved to the S&P MidCap 400.\n",
      "List of S&P 500 companies[1][7]: dropping field from unknown column: Red Hat\n",
      "List of S&P 500 companies[1][7]: dropping field from unknown column: S&P 500 & 100 constituent IBM acquired Red Hat.\n",
      "List of S&P 500 companies[1][8]: dropping field from unknown column: L3 Technologies\n",
      "List of S&P 500 companies[1][8]: dropping field from unknown column: L3 purchased by Harris Corporation\n",
      "List of S&P 500 companies[1][9]: dropping field from unknown column: Mattel Inc\n",
      "List of S&P 500 companies[1][9]: dropping field from unknown column: Bemis merges with Amcor; subsequently renamed to Amcor plc\n",
      "List of S&P 500 companies[1][10]: dropping field from unknown column: Fluor Corporation\n",
      "List of S&P 500 companies[1][10]: dropping field from unknown column: CTVA spun off from DWDP (which then changed symbol to DD)\n",
      "List of S&P 500 companies[1][11]: dropping field from unknown column: Brighthouse Financial\n",
      "List of S&P 500 companies[1][11]: dropping field from unknown column: DOW spun off from DWDP\n",
      "List of S&P 500 companies[1][12]: dropping field from unknown column: The Goodyear Tire & Rubber Company\n",
      "List of S&P 500 companies[1][12]: dropping field from unknown column: WAB acquired GE transportation business\n",
      "List of S&P 500 companies[1][13]: dropping field from unknown column: Newfield Exploration\n",
      "List of S&P 500 companies[1][13]: dropping field from unknown column: ECA acquired NFX\n",
      "List of S&P 500 companies[1][14]: dropping field from unknown column: PG&E Corp\n",
      "List of S&P 500 companies[1][14]: dropping field from unknown column: PCG filed for bankruptcy\n",
      "List of S&P 500 companies[1][15]: dropping field from unknown column: SCANA\n",
      "List of S&P 500 companies[1][15]: dropping field from unknown column: Dominion Energy acquired SCANA Corporation\n",
      "List of S&P 500 companies[1][16]: dropping field from unknown column: Express Scripts\n",
      "List of S&P 500 companies[1][16]: dropping field from unknown column: S&P 500 constituent Cigna (NYSE: CI) acquired ESRX\n",
      "List of S&P 500 companies[1][17]: dropping field from unknown column: Rockwell Collins\n",
      "List of S&P 500 companies[1][17]: dropping field from unknown column: UTX acquired COL\n",
      "List of S&P 500 companies[1][18]: dropping field from unknown column: Aetna Inc\n",
      "List of S&P 500 companies[1][18]: dropping field from unknown column: CVS acquired Aetna\n",
      "List of S&P 500 companies[1][19]: dropping field from unknown column: Stericycle\n",
      "List of S&P 500 companies[1][19]: dropping field from unknown column: Market Capitalization change\n",
      "List of S&P 500 companies[1][20]: dropping field from unknown column: EQT Corp\n",
      "List of S&P 500 companies[1][20]: dropping field from unknown column: EQT spun off ETRN\n",
      "List of S&P 500 companies[1][21]: dropping field from unknown column: CA Inc.\n",
      "List of S&P 500 companies[1][21]: dropping field from unknown column: CA acquired by Broadcom Inc. .\n",
      "List of S&P 500 companies[1][22]: dropping field from unknown column: Envision Healthcare\n",
      "List of S&P 500 companies[1][22]: dropping field from unknown column: EVHC acquired by Kohlberg Kravis Roberts .\n",
      "List of S&P 500 companies[1][23]: dropping field from unknown column: Andeavor\n",
      "List of S&P 500 companies[1][23]: dropping field from unknown column: ANDV acquired by Marathon Petroleum .\n",
      "List of S&P 500 companies[1][24]: dropping field from unknown column: XL Group\n",
      "List of S&P 500 companies[1][24]: dropping field from unknown column: XL acquired by AXA .\n",
      "List of S&P 500 companies[1][25]: dropping field from unknown column: GGP Inc.\n",
      "List of S&P 500 companies[1][25]: dropping field from unknown column: GGP acquired by Brookfield Property Partners .\n",
      "List of S&P 500 companies[1][26]: dropping field from unknown column: Dr Pepper Snapple Group\n",
      "List of S&P 500 companies[1][26]: dropping field from unknown column: DPS acquired by Keurig Green Mountain .\n",
      "List of S&P 500 companies[1][27]: dropping field from unknown column: Time Warner\n",
      "List of S&P 500 companies[1][27]: dropping field from unknown column: AT&T acquired Time Warner.\n",
      "List of S&P 500 companies[1][28]: dropping field from unknown column: Range Resources\n",
      "List of S&P 500 companies[1][28]: dropping field from unknown column: Capitalization rebalance.\n",
      "List of S&P 500 companies[1][29]: dropping field from unknown column: Acuity Brands\n",
      "List of S&P 500 companies[1][29]: dropping field from unknown column: Capitalization rebalance.\n",
      "List of S&P 500 companies[1][30]: dropping field from unknown column: Monsanto\n",
      "List of S&P 500 companies[1][30]: dropping field from unknown column: Bayer acquired Monsanto.\n",
      "List of S&P 500 companies[1][31]: dropping field from unknown column: Navient Corp\n",
      "List of S&P 500 companies[1][31]: dropping field from unknown column: Westar Energy (NYSE: WR) acquired Great Plains Energy (NYSE: GXP) and changed name to Evergy.\n",
      "List of S&P 500 companies[1][32]: dropping field from unknown column: Wyndham Worldwide\n",
      "List of S&P 500 companies[1][32]: dropping field from unknown column: Wyndham Worldwide spun off Wyndham Hotels & Resorts Inc. (NYSE:WH).\n",
      "List of S&P 500 companies[1][33]: dropping field from unknown column: CSRA Inc.\n",
      "List of S&P 500 companies[1][33]: dropping field from unknown column: S&P 500 constituent General Dynamics Corp. (NYSE: GD) acquired CSRA.\n",
      "List of S&P 500 companies[1][34]: dropping field from unknown column: Signet Jewelers\n",
      "List of S&P 500 companies[1][34]: dropping field from unknown column: Market capitalization changes.\n",
      "List of S&P 500 companies[1][35]: dropping field from unknown column: Patterson Companies\n",
      "List of S&P 500 companies[1][35]: dropping field from unknown column: Market capitalization changes.\n",
      "List of S&P 500 companies[1][36]: dropping field from unknown column: Chesapeake Energy\n",
      "List of S&P 500 companies[1][36]: dropping field from unknown column: Market capitalization changes.\n",
      "List of S&P 500 companies[1][37]: dropping field from unknown column: Scripps Networks Interactive\n",
      "List of S&P 500 companies[1][37]: dropping field from unknown column: Discovery Communications acquired SNI.\n",
      "List of S&P 500 companies[1][38]: dropping field from unknown column: CR Bard\n",
      "List of S&P 500 companies[1][38]: dropping field from unknown column: Becton Dickinson acquired BCR.\n",
      "List of S&P 500 companies[1][39]: dropping field from unknown column: Level 3 Communications\n",
      "List of S&P 500 companies[1][39]: dropping field from unknown column: CenturyLink Inc acquired LVLT.\n",
      "List of S&P 500 companies[1][40]: dropping field from unknown column: Staples Inc.\n",
      "List of S&P 500 companies[1][40]: dropping field from unknown column: Sycamore Partners acquired Staples.\n",
      "List of S&P 500 companies[1][41]: dropping field from unknown column: DuPont\n",
      "List of S&P 500 companies[1][41]: dropping field from unknown column: The Dow Chemical Company acquired DuPont.\n",
      "List of S&P 500 companies[1][42]: dropping field from unknown column: Whole Foods Market\n",
      "List of S&P 500 companies[1][42]: dropping field from unknown column: Amazon.com Inc. acquired Whole Foods Market.\n",
      "List of S&P 500 companies[1][43]: dropping field from unknown column: AutoNation Inc\n",
      "List of S&P 500 companies[1][43]: dropping field from unknown column: BHF replaced AN, MET spun off BHF\n",
      "List of S&P 500 companies[1][44]: dropping field from unknown column: Transocean\n",
      "List of S&P 500 companies[1][44]: dropping field from unknown column: Market capitalization changes.\n",
      "List of S&P 500 companies[1][45]: dropping field from unknown column: Bed Bath & Beyond\n",
      "List of S&P 500 companies[1][45]: dropping field from unknown column: Market capitalization changes.\n",
      "List of S&P 500 companies[1][46]: dropping field from unknown column: Murphy Oil\n",
      "List of S&P 500 companies[1][46]: dropping field from unknown column: Market capitalization changes.\n",
      "List of S&P 500 companies[1][47]: dropping field from unknown column: Mallinckrodt\n",
      "List of S&P 500 companies[1][47]: dropping field from unknown column: Market capitalization changes.\n",
      "List of S&P 500 companies[1][48]: dropping field from unknown column: Reynolds American\n",
      "List of S&P 500 companies[1][48]: dropping field from unknown column: British American Tobacco plc (NYSE MKT:BTI) acquired Reynolds American.\n",
      "List of S&P 500 companies[1][49]: dropping field from unknown column: Yahoo! Inc.\n",
      "List of S&P 500 companies[1][49]: dropping field from unknown column: VZ acquired YHOO operations; remainder of YHOO converted to closed-end company known as Altaba .\n",
      "List of S&P 500 companies[1][50]: dropping field from unknown column: Teradata Corp.\n",
      "List of S&P 500 companies[1][50]: dropping field from unknown column: Market capitalization changes.\n",
      "List of S&P 500 companies[1][51]: dropping field from unknown column: Ryder Systems Inc.\n",
      "List of S&P 500 companies[1][52]: dropping field from unknown column: Mead Johnson\n",
      "List of S&P 500 companies[1][52]: dropping field from unknown column: Reckitt Benckiser Group plc acquired Mead Johnson Nutrition.\n",
      "List of S&P 500 companies[1][53]: dropping field from unknown column: Tegna, Inc.\n",
      "List of S&P 500 companies[1][53]: dropping field from unknown column: TGNA spins off Cars.com\n",
      "List of S&P 500 companies[1][54]: dropping field from unknown column: Dun & Bradstreet\n",
      "List of S&P 500 companies[1][54]: dropping field from unknown column: IT acquiring CEB\n",
      "List of S&P 500 companies[1][55]: dropping field from unknown column: Southwestern Energy\n",
      "List of S&P 500 companies[1][55]: dropping field from unknown column: HPE spins off Everett Inc., merged with CSC to form DXC\n",
      "List of S&P 500 companies[1][56]: dropping field from unknown column: Urban Outfitters\n",
      "List of S&P 500 companies[1][56]: dropping field from unknown column: Market capitalization changes.\n",
      "List of S&P 500 companies[1][57]: dropping field from unknown column: Frontier Communications\n",
      "List of S&P 500 companies[1][57]: dropping field from unknown column: Market capitalization changes.\n",
      "List of S&P 500 companies[1][58]: dropping field from unknown column: First Solar\n",
      "List of S&P 500 companies[1][58]: dropping field from unknown column: Market capitalization changes.\n",
      "List of S&P 500 companies[1][59]: dropping field from unknown column: Harman Int'l Industries\n",
      "List of S&P 500 companies[1][59]: dropping field from unknown column: Samsung Electronics Co. Ltd. acquired Harman International Industries.\n",
      "List of S&P 500 companies[1][60]: dropping field from unknown column: Linear Technology\n",
      "List of S&P 500 companies[1][60]: dropping field from unknown column: S&P 500 constituent Analog Devices Inc. (NASD:ADI) acquired Linear Technology.\n",
      "List of S&P 500 companies[1][61]: dropping field from unknown column: Endo International plc\n",
      "List of S&P 500 companies[1][61]: dropping field from unknown column: REG acquires EQY\n",
      "List of S&P 500 companies[1][62]: dropping field from unknown column: Pitney Bowes Inc\n",
      "List of S&P 500 companies[1][62]: dropping field from unknown column: CBOE acquires BATS\n",
      "List of S&P 500 companies[1][63]: dropping field from unknown column: Spectra Energy Corp\n",
      "List of S&P 500 companies[1][63]: dropping field from unknown column: SE acquired by ENB\n",
      "List of S&P 500 companies[1][64]: dropping field from unknown column: St. Jude Medical\n",
      "List of S&P 500 companies[1][64]: dropping field from unknown column: S&P 100 & 500 constituent Abbott Laboratories (NYSE:ABT) acquired St. Jude Medical.\n",
      "List of S&P 500 companies[1][65]: dropping field from unknown column: Owens-Illinois\n",
      "List of S&P 500 companies[1][65]: dropping field from unknown column: Market capitalization changes\n",
      "List of S&P 500 companies[1][66]: dropping field from unknown column: Legg Mason\n",
      "List of S&P 500 companies[1][66]: dropping field from unknown column: Market capitalization changes\n",
      "List of S&P 500 companies[1][67]: dropping field from unknown column: Diamond Offshore Drilling\n",
      "List of S&P 500 companies[1][67]: dropping field from unknown column: COTY replaces DO\n",
      "List of S&P 500 companies[1][68]: dropping field from unknown column: Starwood Hotels & Resorts Worldwide Inc\n",
      "List of S&P 500 companies[1][68]: dropping field from unknown column: MAR acquires HOT\n",
      "List of S&P 500 companies[1][69]: dropping field from unknown column: EMC Corporation\n",
      "List of S&P 500 companies[1][69]: dropping field from unknown column: Dell acquires EMC\n",
      "List of S&P 500 companies[1][70]: dropping field from unknown column: Johnson Controls Inc\n",
      "List of S&P 500 companies[1][70]: dropping field from unknown column: TYC acquires JCI (and becomes new JCI).\n",
      "List of S&P 500 companies[1][71]: dropping field from unknown column: Columbia Pipeline Group\n",
      "List of S&P 500 companies[1][71]: dropping field from unknown column: CPGX acquired by TRP\n",
      "List of S&P 500 companies[1][72]: dropping field from unknown column: AGL Resources\n",
      "List of S&P 500 companies[1][72]: dropping field from unknown column: GAS acquired by SO\n",
      "List of S&P 500 companies[1][73]: dropping field from unknown column: TECO Energy\n",
      "List of S&P 500 companies[1][73]: dropping field from unknown column: TE acquired by EMA\n",
      "List of S&P 500 companies[1][74]: dropping field from unknown column: Cablevision Systems\n",
      "List of S&P 500 companies[1][74]: dropping field from unknown column: CVC acquired by Altice NV\n",
      "List of S&P 500 companies[1][75]: dropping field from unknown column: \n",
      "List of S&P 500 companies[1][75]: dropping field from unknown column: Under Armour distribution of second class of stock\n",
      "List of S&P 500 companies[1][76]: dropping field from unknown column: Baxalta Inc\n",
      "List of S&P 500 companies[1][76]: dropping field from unknown column: SHPG acquiring BXLT\n",
      "List of S&P 500 companies[1][77]: dropping field from unknown column: Coca-Cola Enterprises\n",
      "List of S&P 500 companies[1][77]: dropping field from unknown column: CCE merging with European bottlers\n",
      "List of S&P 500 companies[1][78]: dropping field from unknown column: Airgas Inc\n",
      "List of S&P 500 companies[1][78]: dropping field from unknown column: ARG acquired by Air Liquide\n",
      "List of S&P 500 companies[1][79]: dropping field from unknown column: Time Warner Cable\n",
      "List of S&P 500 companies[1][79]: dropping field from unknown column: TWC acquired by CHTR\n",
      "List of S&P 500 companies[1][80]: dropping field from unknown column: SanDisk Corporation\n",
      "List of S&P 500 companies[1][80]: dropping field from unknown column: SNDK acquired by WDC\n",
      "List of S&P 500 companies[1][81]: dropping field from unknown column: ADT Corp\n",
      "List of S&P 500 companies[1][81]: dropping field from unknown column: ADT acquired by APO\n",
      "List of S&P 500 companies[1][82]: dropping field from unknown column: GameStop\n",
      "List of S&P 500 companies[1][82]: dropping field from unknown column: Global Payments is acquiring Heartland Payment Systems\n",
      "List of S&P 500 companies[1][83]: dropping field from unknown column: Tenet Healthcare\n",
      "List of S&P 500 companies[1][83]: dropping field from unknown column: Ulta replaces Tenet\n",
      "List of S&P 500 companies[1][84]: dropping field from unknown column: Cameron International\n",
      "List of S&P 500 companies[1][84]: dropping field from unknown column: Schlumberger acquired Cameron\n",
      "List of S&P 500 companies[1][85]: dropping field from unknown column: Pepco Holdings Inc\n",
      "List of S&P 500 companies[1][85]: dropping field from unknown column: Exelon Corp acquired Pepco\n",
      "List of S&P 500 companies[1][86]: dropping field from unknown column: Ensco plc (now Valaris plc\n",
      "List of S&P 500 companies[1][86]: dropping field from unknown column: Centene acquired Health Net\n",
      "List of S&P 500 companies[1][87]: dropping field from unknown column: Keurig Green Mountain\n",
      "List of S&P 500 companies[1][87]: dropping field from unknown column: JAB Holding Company acquired Keurig Green Mountain\n",
      "List of S&P 500 companies[1][88]: dropping field from unknown column: Consol Energy\n",
      "List of S&P 500 companies[1][88]: dropping field from unknown column: AWK replaces CNX\n",
      "List of S&P 500 companies[1][89]: dropping field from unknown column: Plum Creek Timber\n",
      "List of S&P 500 companies[1][89]: dropping field from unknown column: PCL taken over by WY\n",
      "List of S&P 500 companies[1][90]: dropping field from unknown column: Precision Castparts Corp.\n",
      "List of S&P 500 companies[1][90]: dropping field from unknown column: CFG replaces PCP\n",
      "List of S&P 500 companies[1][91]: dropping field from unknown column: Broadcom Corporation\n",
      "List of S&P 500 companies[1][91]: dropping field from unknown column: FRT replaces BRCM\n",
      "List of S&P 500 companies[1][92]: dropping field from unknown column: Chubb Corp\n",
      "List of S&P 500 companies[1][92]: dropping field from unknown column: EXR replaces CB\n",
      "List of S&P 500 companies[1][93]: dropping field from unknown column: Fossil Group\n",
      "List of S&P 500 companies[1][93]: dropping field from unknown column: WSH merges with TW (and renames to WLTW)\n",
      "List of S&P 500 companies[1][94]: dropping field from unknown column: Altera Corp\n",
      "List of S&P 500 companies[1][94]: dropping field from unknown column: ALTR taken over by INTC\n",
      "List of S&P 500 companies[1][95]: dropping field from unknown column: Comcast K Corp\n",
      "List of S&P 500 companies[1][95]: dropping field from unknown column: CMCSK shares no longer listed\n",
      "List of S&P 500 companies[1][96]: dropping field from unknown column: Computer Sciences Corp\n",
      "List of S&P 500 companies[1][96]: dropping field from unknown column: CSC spins off CSRA\n",
      "List of S&P 500 companies[1][97]: dropping field from unknown column: Sigma-Aldrich Corp\n",
      "List of S&P 500 companies[1][97]: dropping field from unknown column: Sigma-Aldrich acquired by Merck KGaA (MKGAY)\n",
      "List of S&P 500 companies[1][98]: dropping field from unknown column: Genworth Financial\n",
      "List of S&P 500 companies[1][98]: dropping field from unknown column: GE spinning off Synchrony Financial\n",
      "List of S&P 500 companies[1][99]: dropping field from unknown column: Hudson City Bancorp Inc\n",
      "List of S&P 500 companies[1][99]: dropping field from unknown column: HPQ spins off HPE\n",
      "List of S&P 500 companies[1][100]: dropping field from unknown column: Joy Global\n",
      "List of S&P 500 companies[1][100]: dropping field from unknown column: Market capitalization change.\n",
      "List of S&P 500 companies[1][101]: dropping field from unknown column: \n",
      "List of S&P 500 companies[1][101]: dropping field from unknown column: Share class methodology change\n",
      "List of S&P 500 companies[1][102]: dropping field from unknown column: \n",
      "List of S&P 500 companies[1][102]: dropping field from unknown column: Share class methodology change\n",
      "List of S&P 500 companies[1][103]: dropping field from unknown column: \n",
      "List of S&P 500 companies[1][103]: dropping field from unknown column: Share class methodology change\n",
      "List of S&P 500 companies[1][104]: dropping field from unknown column: Hospira Inc\n",
      "List of S&P 500 companies[1][104]: dropping field from unknown column: Hospira taken over\n",
      "List of S&P 500 companies[1][105]: dropping field from unknown column: Pall Corp\n",
      "List of S&P 500 companies[1][105]: dropping field from unknown column: Pall taken over\n",
      "List of S&P 500 companies[1][106]: dropping field from unknown column: DirecTV\n",
      "List of S&P 500 companies[1][106]: dropping field from unknown column: DirectTV acquired by AT&T\n",
      "List of S&P 500 companies[1][107]: dropping field from unknown column: Noble Corp\n",
      "List of S&P 500 companies[1][107]: dropping field from unknown column: PayPal Spun off by eBay\n",
      "List of S&P 500 companies[1][108]: dropping field from unknown column: Family Dollar Stores Inc.\n",
      "List of S&P 500 companies[1][108]: dropping field from unknown column: Family Dollar Acquired.\n",
      "List of S&P 500 companies[1][109]: dropping field from unknown column: Kraft Foods Group\n",
      "List of S&P 500 companies[1][109]: dropping field from unknown column: Kraft merger with Heinz.\n",
      "List of S&P 500 companies[1][110]: dropping field from unknown column: Allegheny Technologies\n",
      "List of S&P 500 companies[1][110]: dropping field from unknown column: Spin off of Columbia Pipeline.\n",
      "List of S&P 500 companies[1][111]: dropping field from unknown column: Integrys Energy Group Inc.\n",
      "List of S&P 500 companies[1][111]: dropping field from unknown column: Integris taken over.\n",
      "List of S&P 500 companies[1][112]: dropping field from unknown column: QEP Resources\n",
      "List of S&P 500 companies[1][112]: dropping field from unknown column: Baxalta spun off by Baxter.\n",
      "List of S&P 500 companies[1][113]: dropping field from unknown column: Lorillard Inc.\n",
      "List of S&P 500 companies[1][113]: dropping field from unknown column: Lorillard Inc. gets acquired.\n",
      "List of S&P 500 companies[1][114]: dropping field from unknown column: Windstream Holdings Inc\n",
      "List of S&P 500 companies[1][114]: dropping field from unknown column: Market capitalization change.\n",
      "List of S&P 500 companies[1][115]: dropping field from unknown column: Allergan, Inc\n",
      "List of S&P 500 companies[1][115]: dropping field from unknown column: Allergan acquired by Actavis plc (and changed name to Allergan, pl.\n",
      "List of S&P 500 companies[1][116]: dropping field from unknown column: Denbury Resources\n",
      "List of S&P 500 companies[1][116]: dropping field from unknown column: Market Capitalization Changes.\n",
      "List of S&P 500 companies[1][117]: dropping field from unknown column: Nabors Industries\n",
      "List of S&P 500 companies[1][117]: dropping field from unknown column: Market Capitalization Changes.\n",
      "List of S&P 500 companies[1][118]: dropping field from unknown column: Avon Products\n",
      "List of S&P 500 companies[1][118]: dropping field from unknown column: Market Capitalization Changes.\n",
      "List of S&P 500 companies[1][119]: dropping field from unknown column: Carefusion\n",
      "List of S&P 500 companies[1][119]: dropping field from unknown column: Carefusion acquired by Becton Dickinson\n",
      "List of S&P 500 companies[1][120]: dropping field from unknown column: PetSmart Inc.\n",
      "List of S&P 500 companies[1][120]: dropping field from unknown column: PetSmart acquired by private equity consortium\n",
      "List of S&P 500 companies[1][121]: dropping field from unknown column: Safeway Inc\n",
      "List of S&P 500 companies[1][121]: dropping field from unknown column: Safeway acquired by private equity consortium\n",
      "List of S&P 500 companies[1][122]: dropping field from unknown column: Covidien\n",
      "List of S&P 500 companies[1][122]: dropping field from unknown column: Covidien acquired by Medtronic\n",
      "List of S&P 500 companies[1][123]: dropping field from unknown column: Bemis Company\n",
      "List of S&P 500 companies[1][123]: dropping field from unknown column: Market cap changes\n",
      "List of S&P 500 companies[1][124]: dropping field from unknown column: Jabil Circuit\n",
      "List of S&P 500 companies[1][124]: dropping field from unknown column: Market cap changes\n",
      "List of S&P 500 companies[1][125]: dropping field from unknown column: Peabody Energy\n",
      "List of S&P 500 companies[1][125]: dropping field from unknown column: Market cap changes\n",
      "List of S&P 500 companies[1][126]: dropping field from unknown column: Graham Holdings\n",
      "List of S&P 500 companies[1][126]: dropping field from unknown column: Market cap changes\n",
      "List of S&P 500 companies[1][127]: dropping field from unknown column: Rowan Companies plc\n",
      "List of S&P 500 companies[1][127]: dropping field from unknown column: Market cap changes\n",
      "List of S&P 500 companies[1][128]: dropping field from unknown column: \n",
      "List of S&P 500 companies[1][128]: dropping field from unknown column: Class C share distribution\n",
      "List of S&P 500 companies[1][129]: dropping field from unknown column: United States Steel Corporation\n",
      "List of S&P 500 companies[1][129]: dropping field from unknown column: Market capitalization changes\n",
      "List of S&P 500 companies[1][130]: dropping field from unknown column: Forest Laboratories\n",
      "List of S&P 500 companies[1][130]: dropping field from unknown column: Actavis acquires Forest Laboratories\n",
      "List of S&P 500 companies[1][131]: dropping field from unknown column: International Game Technology\n",
      "List of S&P 500 companies[1][131]: dropping field from unknown column: Market capitalization changes\n",
      "List of S&P 500 companies[1][132]: dropping field from unknown column: LSI Corporation\n",
      "List of S&P 500 companies[1][132]: dropping field from unknown column: Avago acquires LSI\n",
      "List of S&P 500 companies[1][133]: dropping field from unknown column: Beam Inc.\n",
      "List of S&P 500 companies[1][133]: dropping field from unknown column: Beam acquired by Suntory\n",
      "List of S&P 500 companies[1][134]: dropping field from unknown column: SLM Corporation\n",
      "List of S&P 500 companies[1][134]: dropping field from unknown column: Navient Spun off from SLM\n",
      "List of S&P 500 companies[1][135]: dropping field from unknown column: \n",
      "List of S&P 500 companies[1][135]: dropping field from unknown column: Google Class C share distribution\n",
      "List of S&P 500 companies[1][136]: dropping field from unknown column: Cliffs Natural Resources\n",
      "List of S&P 500 companies[1][136]: dropping field from unknown column: Market capitalization changes\n",
      "List of S&P 500 companies[1][137]: dropping field from unknown column: WPX Energy, Inc.\n",
      "List of S&P 500 companies[1][137]: dropping field from unknown column: Market capitalization changes\n",
      "List of S&P 500 companies[1][138]: dropping field from unknown column: Life Technologies\n",
      "List of S&P 500 companies[1][138]: dropping field from unknown column: Life Technologies acquired by Thermo Fisher Scientific Inc\n",
      "List of S&P 500 companies[1][139]: dropping field from unknown column: Abercrombie & Fitch\n",
      "List of S&P 500 companies[1][139]: dropping field from unknown column: Market capitalization changes\n",
      "List of S&P 500 companies[1][140]: dropping field from unknown column: JDS Uniphase\n",
      "List of S&P 500 companies[1][140]: dropping field from unknown column: Market capitalization changes\n",
      "List of S&P 500 companies[1][141]: dropping field from unknown column: Teradyne\n",
      "List of S&P 500 companies[1][141]: dropping field from unknown column: Market capitalization changes\n",
      "List of S&P 500 companies[1][142]: dropping field from unknown column: Molex Inc.\n",
      "List of S&P 500 companies[1][142]: dropping field from unknown column: MOLX acquired by Koch Industries .\n",
      "List of S&P 500 companies[1][143]: dropping field from unknown column: J.C. Penney\n",
      "List of S&P 500 companies[1][143]: dropping field from unknown column: Allegion spun off by Ingersoll Rand\n",
      "List of S&P 500 companies[1][144]: dropping field from unknown column: NYSE Euronext\n",
      "List of S&P 500 companies[1][144]: dropping field from unknown column: ICE Exchange acquired NYSE Euronext\n",
      "List of S&P 500 companies[1][145]: dropping field from unknown column: Dell, Inc.\n",
      "List of S&P 500 companies[1][145]: dropping field from unknown column: Founder Michael Dell and Silver Lake Partners acquired Dell.\n",
      "List of S&P 500 companies[1][146]: dropping field from unknown column: Advanced Micro Devices\n",
      "List of S&P 500 companies[1][146]: dropping field from unknown column: Market capitalization changes\n",
      "List of S&P 500 companies[1][147]: dropping field from unknown column: SAIC\n",
      "List of S&P 500 companies[1][147]: dropping field from unknown column: Market capitalization changes\n",
      "List of S&P 500 companies[1][148]: dropping field from unknown column: BMC Software\n",
      "List of S&P 500 companies[1][148]: dropping field from unknown column: BMC taken private by consortium\n",
      "List of S&P 500 companies[1][149]: dropping field from unknown column: Sprint Nextel Corp.\n",
      "List of S&P 500 companies[1][149]: dropping field from unknown column: Softbank consortium purchase results in public float below 50%\n",
      "List of S&P 500 companies[1][150]: dropping field from unknown column: Apollo Group Inc.\n",
      "List of S&P 500 companies[1][150]: dropping field from unknown column: Apollo Group's market cap more representative of a mid-cap\n",
      "List of S&P 500 companies[1][151]: dropping field from unknown column: First Horizon\n",
      "List of S&P 500 companies[1][151]: dropping field from unknown column: Zoetis spun off by Pfizer\n",
      "List of S&P 500 companies[1][152]: dropping field from unknown column: H. J. Heinz Company\n",
      "List of S&P 500 companies[1][152]: dropping field from unknown column: HNZ acquired by consortium\n",
      "List of S&P 500 companies[1][153]: dropping field from unknown column: Dean Foods\n",
      "List of S&P 500 companies[1][153]: dropping field from unknown column: DF too small after spinoff of White Wave Foods\n",
      "List of S&P 500 companies[1][154]: dropping field from unknown column: Coventry Health Care\n",
      "List of S&P 500 companies[1][154]: dropping field from unknown column: Acquired by Aetna (AET)\n",
      "List of S&P 500 companies[1][155]: dropping field from unknown column: MetroPCS\n",
      "List of S&P 500 companies[1][155]: dropping field from unknown column: A majority of MetroPCS was acquired by T-Mobile\n",
      "List of S&P 500 companies[1][156]: dropping field from unknown column: Big Lots Inc.\n",
      "List of S&P 500 companies[1][156]: dropping field from unknown column: Market capitalization changes\n",
      "List of S&P 500 companies[1][157]: dropping field from unknown column: Federated Investors\n",
      "List of S&P 500 companies[1][157]: dropping field from unknown column: ABBV spun off from Abbott Labs (ABT)\n",
      "List of S&P 500 companies[1][158]: dropping field from unknown column: Titanium Metals\n",
      "List of S&P 500 companies[1][158]: dropping field from unknown column: TIE acquired by Precision Cast Parts (PCP)\n",
      "List of S&P 500 companies[1][159]: dropping field from unknown column: R.R. Donnelley\n",
      "List of S&P 500 companies[1][159]: dropping field from unknown column: Market capitalization changes\n",
      "List of S&P 500 companies[1][160]: dropping field from unknown column: Cooper Industries\n",
      "List of S&P 500 companies[1][160]: dropping field from unknown column: Acquired by Eaton Corp. (ETN)\n",
      "List of S&P 500 companies[1][161]: dropping field from unknown column: Sunoco Inc.\n",
      "List of S&P 500 companies[1][161]: dropping field from unknown column: Acquired by Energy Transfer Partners (ETP)\n",
      "List of S&P 500 companies[1][162]: dropping field from unknown column: Alpha Natural Resources\n",
      "List of S&P 500 companies[1][162]: dropping field from unknown column: Kraft split into two companies\n",
      "List of S&P 500 companies[1][163]: dropping field from unknown column: Lexmark Int'l Inc\n",
      "List of S&P 500 companies[1][163]: dropping field from unknown column: Tyco spun off ADT\n",
      "List of S&P 500 companies[1][164]: dropping field from unknown column: DeVry, Inc.\n",
      "List of S&P 500 companies[1][164]: dropping field from unknown column: Tyco spin-off merged w/Pentair\n",
      "List of S&P 500 companies[1][165]: dropping field from unknown column: Sears Holding Corporation\n",
      "List of S&P 500 companies[1][165]: dropping field from unknown column: SHLD below public float threshold\n",
      "List of S&P 500 companies[1][166]: dropping field from unknown column: Goodrich Corporation\n",
      "List of S&P 500 companies[1][166]: dropping field from unknown column: Acquired by United Technologies (UTX)\n",
      "List of S&P 500 companies[1][167]: dropping field from unknown column: Progress Energy Inc\n",
      "List of S&P 500 companies[1][167]: dropping field from unknown column: Acquired by Duke Energy (DUK)\n",
      "List of S&P 500 companies[1][168]: dropping field from unknown column: Sara Lee Corp.\n",
      "List of S&P 500 companies[1][168]: dropping field from unknown column: Split up of Sara Lee\n",
      "List of S&P 500 companies[1][169]: dropping field from unknown column: Novellus Systems\n",
      "List of S&P 500 companies[1][169]: dropping field from unknown column: Acquired by Lam Research (LRCX)\n",
      "List of S&P 500 companies[1][170]: dropping field from unknown column: Motorola Mobility\n",
      "List of S&P 500 companies[1][170]: dropping field from unknown column: Acquired by Google (GOOG)\n",
      "List of S&P 500 companies[1][171]: dropping field from unknown column: El Paso Corp.\n",
      "List of S&P 500 companies[1][171]: dropping field from unknown column: Acquired by Kinder Morgan (KMI)\n",
      "List of S&P 500 companies[1][172]: dropping field from unknown column: Supervalu Inc.\n",
      "List of S&P 500 companies[1][172]: dropping field from unknown column: ConocoPhillips spun off Phillips 66\n",
      "List of S&P 500 companies[1][173]: dropping field from unknown column: Medco Health Solutions Inc.\n",
      "List of S&P 500 companies[1][173]: dropping field from unknown column: Acquired by Express Scripts (ESRX)\n",
      "List of S&P 500 companies[1][174]: dropping field from unknown column: Constellation Energy Group\n",
      "List of S&P 500 companies[1][174]: dropping field from unknown column: Acquired by Exelon Corp. (EXC)\n",
      "List of S&P 500 companies[1][175]: dropping field from unknown column: Compuware\n",
      "List of S&P 500 companies[1][175]: dropping field from unknown column: Market capitalization changes\n",
      "List of S&P 500 companies[1][176]: dropping field from unknown column: Tellabs Inc.\n",
      "List of S&P 500 companies[1][176]: dropping field from unknown column: Expedia Inc. spun off TripAdvisor Inc.\n",
      "List of S&P 500 companies[1][177]: dropping field from unknown column: AK Steel Holding Corp.\n",
      "List of S&P 500 companies[1][177]: dropping field from unknown column: Market capitalization changes\n",
      "List of S&P 500 companies[1][178]: dropping field from unknown column: Monster Worldwide Inc.\n",
      "List of S&P 500 companies[1][178]: dropping field from unknown column: Market capitalization changes\n",
      "List of S&P 500 companies[1][179]: dropping field from unknown column: MEMC Electronic Materials Inc.\n",
      "List of S&P 500 companies[1][179]: dropping field from unknown column: Market capitalization changes\n",
      "List of S&P 500 companies[1][180]: dropping field from unknown column: Nicor Inc.\n",
      "List of S&P 500 companies[1][180]: dropping field from unknown column: Nicor acquired by AGL, which retained the GAS ticker.\n",
      "List of S&P 500 companies[1][181]: dropping field from unknown column: Janus Capital Group\n",
      "List of S&P 500 companies[1][181]: dropping field from unknown column: Janus Capital Group's market capitalization is less than $1.2 billion and is no longer representative of the large cap market space.\n",
      "List of S&P 500 companies[1][182]: dropping field from unknown column: ITT Corp.\n",
      "List of S&P 500 companies[1][182]: dropping field from unknown column: Spun off from ITT Corp.\n",
      "List of S&P 500 companies[1][183]: dropping field from unknown column: Cephalon Inc.\n",
      "List of S&P 500 companies[1][183]: dropping field from unknown column: Acquired by Teva Pharmaceutical Industries (TEVA).\n",
      "List of S&P 500 companies[1][184]: dropping field from unknown column: National Semiconductor Corp.\n",
      "List of S&P 500 companies[1][184]: dropping field from unknown column: Acquired by Texas Instruments (TXN).\n",
      "List of S&P 500 companies[1][185]: dropping field from unknown column: Marshall & Iisley Corp.\n",
      "List of S&P 500 companies[1][185]: dropping field from unknown column: Marshall & Iisley is being bought by Bank of Montreal\n",
      "List of S&P 500 companies[1][186]: dropping field from unknown column: RadioShack Corp.\n",
      "List of S&P 500 companies[1][186]: dropping field from unknown column: Market capitalization adjustments.\n",
      "List of S&P 500 companies[1][187]: dropping field from unknown column: Massey Energy Company\n",
      "List of S&P 500 companies[1][187]: dropping field from unknown column: Alpha Natural Resources is acquiring Massey Energy in a deal expected to be completed on or about that date pending final approvals.\n",
      "List of S&P 500 companies[1][188]: dropping field from unknown column: Novell, Inc.\n",
      "List of S&P 500 companies[1][188]: dropping field from unknown column: Acquired by private equity firms.\n",
      "List of S&P 500 companies[1][189]: dropping field from unknown column: Genzyme Corp.\n",
      "List of S&P 500 companies[1][189]: dropping field from unknown column: Acquired by Sanofi-aventis (SNY)\n",
      "List of S&P 500 companies[1][190]: dropping field from unknown column: Qwest Communications\n",
      "List of S&P 500 companies[1][190]: dropping field from unknown column: Acquired by CenturyLink\n",
      "List of S&P 500 companies[1][191]: dropping field from unknown column: McAfee Inc.\n",
      "List of S&P 500 companies[1][191]: dropping field from unknown column: Acquired by Intel Corp. (INTC)\n",
      "List of S&P 500 companies[1][192]: dropping field from unknown column: Allegheny Energy Inc.\n",
      "List of S&P 500 companies[1][192]: dropping field from unknown column: Acquired by First Energy (FE).\n",
      "List of S&P 500 companies[1][193]: dropping field from unknown column: King Pharmaceuticals Inc.\n",
      "List of S&P 500 companies[1][193]: dropping field from unknown column: Acquired by Pfizer Inc. (PFE).\n",
      "List of S&P 500 companies[1][194]: dropping field from unknown column: Eastman Kodak Co.\n",
      "List of S&P 500 companies[1][194]: dropping field from unknown column: Market Cap changes.\n",
      "List of S&P 500 companies[1][195]: dropping field from unknown column: Office Depot Inc.\n",
      "List of S&P 500 companies[1][195]: dropping field from unknown column: Market Cap changes.\n",
      "List of S&P 500 companies[1][196]: dropping field from unknown column: The New York Times Co.\n",
      "List of S&P 500 companies[1][196]: dropping field from unknown column: Market Cap changes.\n",
      "List of S&P 500 companies[1][197]: dropping field from unknown column: Smith International Inc.\n",
      "List of S&P 500 companies[1][197]: dropping field from unknown column: Acquired by Schlumberger Ltd. (SLB)\n",
      "List of S&P 500 companies[1][198]: dropping field from unknown column: Millipore Inc.\n",
      "List of S&P 500 companies[1][198]: dropping field from unknown column: Acquired by Merck KGaA (MKGAY)\n",
      "List of S&P 500 companies[1][199]: dropping field from unknown column: Questar Corp.\n",
      "List of S&P 500 companies[1][199]: dropping field from unknown column: Company split. QEP retained, but ticker changed.\n",
      "List of S&P 500 companies[1][200]: dropping field from unknown column: XTO Energy Inc.\n",
      "List of S&P 500 companies[1][200]: dropping field from unknown column: Acquired by ExxonMobil Inc. (XOM)\n",
      "List of S&P 500 companies[1][201]: dropping field from unknown column: BJ Services Company\n",
      "List of S&P 500 companies[1][201]: dropping field from unknown column: Acquired by Baker Hughes Inc. (BHI)\n",
      "List of S&P 500 companies[1][202]: dropping field from unknown column: IMS Health\n",
      "List of S&P 500 companies[1][202]: dropping field from unknown column: Taken private\n",
      "List of S&P 500 companies[1][203]: dropping field from unknown column: Schering-Plough Corp.\n",
      "List of S&P 500 companies[1][203]: dropping field from unknown column: Acquired by Merck & Co. (MRK)\n",
      "List of S&P 500 companies[1][204]: dropping field from unknown column: Cooper Industries Ltd.\n",
      "List of S&P 500 companies[1][204]: dropping field from unknown column: Redomesticated to Ireland\n",
      "List of S&P 500 companies[1][205]: dropping field from unknown column: American Capital\n",
      "List of S&P 500 companies[1][205]: dropping field from unknown column: Capitalization rebalance.\n",
      "List of S&P 500 companies[1][206]: dropping field from unknown column: Jones Apparel Group\n",
      "List of S&P 500 companies[1][206]: dropping field from unknown column: Capitalization rebalance.\n",
      "List of S&P 500 companies[1][207]: dropping field from unknown column: Ambac Financial\n",
      "List of S&P 500 companies[1][207]: dropping field from unknown column: Market Value Decline\n",
      "List of S&P 500 companies[1][208]: dropping field from unknown column: Tribune Co.\n",
      "List of S&P 500 companies[1][208]: dropping field from unknown column: Taken private\n",
      "List of S&P 500 companies[1][209]: dropping field from unknown column: Dow Jones\n",
      "List of S&P 500 companies[1][209]: dropping field from unknown column: Acquired by News Corp.\n",
      "List of S&P 500 companies[1][210]: dropping field from unknown column: Avaya Inc.\n",
      "List of S&P 500 companies[1][210]: dropping field from unknown column: Taken private\n",
      "List of S&P 500 companies[1][211]: dropping field from unknown column: KeySpan\n",
      "List of S&P 500 companies[1][211]: dropping field from unknown column: Acquired by National Grid plc\n",
      "List of S&P 500 companies[1][212]: dropping field from unknown column: Sabre Holdings\n",
      "List of S&P 500 companies[1][212]: dropping field from unknown column: Taken Private\n",
      "List of S&P 500 companies[1][213]: dropping field from unknown column: Symbol Technologies\n",
      "List of S&P 500 companies[1][213]: dropping field from unknown column: Acquired by Motorola\n",
      "List of S&P 500 companies[1][214]: dropping field from unknown column: Great Lakes Chemical\n",
      "List of S&P 500 companies[1][214]: dropping field from unknown column: Acquired by Crompton Corp.\n",
      "List of S&P 500 companies[1][215]: dropping field from unknown column: Quintiles Transnational\n",
      "List of S&P 500 companies[1][215]: dropping field from unknown column: Taken private\n",
      "List of S&P 500 companies[1][216]: dropping field from unknown column: Bethlehem Steel\n",
      "List of S&P 500 companies[1][216]: dropping field from unknown column: Market Cap changes.\n",
      "List of S&P 500 companies[1][217]: dropping field from unknown column: Owens-Illinois\n",
      "List of S&P 500 companies[1][217]: dropping field from unknown column: Market Cap changes.\n",
      "List of S&P 500 companies[1][218]: dropping field from unknown column: W.R. Grace\n",
      "List of S&P 500 companies[1][218]: dropping field from unknown column: Market Cap changes.\n",
      "List of S&P 500 companies[1][219]: dropping field from unknown column: Crown Holdings\n",
      "List of S&P 500 companies[1][219]: dropping field from unknown column: Market Cap changes.\n"
     ]
    },
    {
     "data": {
      "text/html": [
       "<div>\n",
       "<style scoped>\n",
       "    .dataframe tbody tr th:only-of-type {\n",
       "        vertical-align: middle;\n",
       "    }\n",
       "\n",
       "    .dataframe tbody tr th {\n",
       "        vertical-align: top;\n",
       "    }\n",
       "\n",
       "    .dataframe thead th {\n",
       "        text-align: right;\n",
       "    }\n",
       "</style>\n",
       "<table border=\"1\" class=\"dataframe\">\n",
       "  <thead>\n",
       "    <tr style=\"text-align: right;\">\n",
       "      <th></th>\n",
       "      <th>Symbol</th>\n",
       "      <th>Security</th>\n",
       "      <th>SEC filings</th>\n",
       "      <th>GICS Sector</th>\n",
       "      <th>GICS Sub Industry</th>\n",
       "      <th>Headquarters Location</th>\n",
       "      <th>Date first added</th>\n",
       "      <th>CIK</th>\n",
       "      <th>Founded</th>\n",
       "    </tr>\n",
       "  </thead>\n",
       "  <tbody>\n",
       "    <tr>\n",
       "      <th>0</th>\n",
       "      <td>MMM</td>\n",
       "      <td>3M Company</td>\n",
       "      <td>[https://www.sec.gov/cgi-bin/browse-edgar?CIK=...</td>\n",
       "      <td>Industrials</td>\n",
       "      <td>Industrial Conglomerates</td>\n",
       "      <td>St. Paul, Minnesota</td>\n",
       "      <td></td>\n",
       "      <td>66740</td>\n",
       "      <td>1902</td>\n",
       "    </tr>\n",
       "    <tr>\n",
       "      <th>1</th>\n",
       "      <td>ABT</td>\n",
       "      <td>Abbott Laboratories</td>\n",
       "      <td>[https://www.sec.gov/cgi-bin/browse-edgar?CIK=...</td>\n",
       "      <td>Health Care</td>\n",
       "      <td>Health Care Equipment</td>\n",
       "      <td>North Chicago, Illinois</td>\n",
       "      <td>1964-03-31</td>\n",
       "      <td>1800</td>\n",
       "      <td>1888</td>\n",
       "    </tr>\n",
       "    <tr>\n",
       "      <th>2</th>\n",
       "      <td>ABBV</td>\n",
       "      <td>AbbVie Inc.</td>\n",
       "      <td>[https://www.sec.gov/cgi-bin/browse-edgar?CIK=...</td>\n",
       "      <td>Health Care</td>\n",
       "      <td>Pharmaceuticals</td>\n",
       "      <td>North Chicago, Illinois</td>\n",
       "      <td>2012-12-31</td>\n",
       "      <td>1551152</td>\n",
       "      <td>2013 (1888)</td>\n",
       "    </tr>\n",
       "    <tr>\n",
       "      <th>3</th>\n",
       "      <td>ABMD</td>\n",
       "      <td>ABIOMED Inc</td>\n",
       "      <td>[https://www.sec.gov/cgi-bin/browse-edgar?CIK=...</td>\n",
       "      <td>Health Care</td>\n",
       "      <td>Health Care Equipment</td>\n",
       "      <td>Danvers, Massachusetts</td>\n",
       "      <td>2018-05-31</td>\n",
       "      <td>815094</td>\n",
       "      <td>1981</td>\n",
       "    </tr>\n",
       "    <tr>\n",
       "      <th>4</th>\n",
       "      <td>ACN</td>\n",
       "      <td>Accenture plc</td>\n",
       "      <td>[https://www.sec.gov/cgi-bin/browse-edgar?CIK=...</td>\n",
       "      <td>Information Technology</td>\n",
       "      <td>IT Consulting &amp; Other Services</td>\n",
       "      <td>Dublin, Ireland</td>\n",
       "      <td>2011-07-06</td>\n",
       "      <td>1467373</td>\n",
       "      <td>1989</td>\n",
       "    </tr>\n",
       "    <tr>\n",
       "      <th>...</th>\n",
       "      <td>...</td>\n",
       "      <td>...</td>\n",
       "      <td>...</td>\n",
       "      <td>...</td>\n",
       "      <td>...</td>\n",
       "      <td>...</td>\n",
       "      <td>...</td>\n",
       "      <td>...</td>\n",
       "      <td>...</td>\n",
       "    </tr>\n",
       "    <tr>\n",
       "      <th>500</th>\n",
       "      <td>XYL</td>\n",
       "      <td>Xylem Inc.</td>\n",
       "      <td>[https://www.sec.gov/cgi-bin/browse-edgar?CIK=...</td>\n",
       "      <td>Industrials</td>\n",
       "      <td>Industrial Machinery</td>\n",
       "      <td>White Plains, New York</td>\n",
       "      <td>2011-11-01</td>\n",
       "      <td>1524472</td>\n",
       "      <td></td>\n",
       "    </tr>\n",
       "    <tr>\n",
       "      <th>501</th>\n",
       "      <td>YUM</td>\n",
       "      <td>Yum! Brands Inc</td>\n",
       "      <td>[https://www.sec.gov/cgi-bin/browse-edgar?CIK=...</td>\n",
       "      <td>Consumer Discretionary</td>\n",
       "      <td>Restaurants</td>\n",
       "      <td>Louisville, Kentucky</td>\n",
       "      <td>1997-10-06</td>\n",
       "      <td>1041061</td>\n",
       "      <td></td>\n",
       "    </tr>\n",
       "    <tr>\n",
       "      <th>502</th>\n",
       "      <td>ZBH</td>\n",
       "      <td>Zimmer Biomet Holdings</td>\n",
       "      <td>[https://www.sec.gov/cgi-bin/browse-edgar?CIK=...</td>\n",
       "      <td>Health Care</td>\n",
       "      <td>Health Care Equipment</td>\n",
       "      <td>Warsaw, Indiana</td>\n",
       "      <td>2001-08-07</td>\n",
       "      <td>1136869</td>\n",
       "      <td></td>\n",
       "    </tr>\n",
       "    <tr>\n",
       "      <th>503</th>\n",
       "      <td>ZION</td>\n",
       "      <td>Zions Bancorp</td>\n",
       "      <td>[https://www.sec.gov/cgi-bin/browse-edgar?CIK=...</td>\n",
       "      <td>Financials</td>\n",
       "      <td>Regional Banks</td>\n",
       "      <td>Salt Lake City, Utah</td>\n",
       "      <td>2001-06-22</td>\n",
       "      <td>109380</td>\n",
       "      <td></td>\n",
       "    </tr>\n",
       "    <tr>\n",
       "      <th>504</th>\n",
       "      <td>ZTS</td>\n",
       "      <td>Zoetis</td>\n",
       "      <td>[https://www.sec.gov/cgi-bin/browse-edgar?CIK=...</td>\n",
       "      <td>Health Care</td>\n",
       "      <td>Pharmaceuticals</td>\n",
       "      <td>Florham Park, New Jersey</td>\n",
       "      <td>2013-06-21</td>\n",
       "      <td>1555280</td>\n",
       "      <td></td>\n",
       "    </tr>\n",
       "  </tbody>\n",
       "</table>\n",
       "<p>505 rows × 9 columns</p>\n",
       "</div>"
      ],
      "text/plain": [
       "    Symbol                Security  \\\n",
       "0      MMM              3M Company   \n",
       "1      ABT     Abbott Laboratories   \n",
       "2     ABBV             AbbVie Inc.   \n",
       "3     ABMD             ABIOMED Inc   \n",
       "4      ACN           Accenture plc   \n",
       "..     ...                     ...   \n",
       "500    XYL              Xylem Inc.   \n",
       "501    YUM         Yum! Brands Inc   \n",
       "502    ZBH  Zimmer Biomet Holdings   \n",
       "503   ZION           Zions Bancorp   \n",
       "504    ZTS                  Zoetis   \n",
       "\n",
       "                                           SEC filings  \\\n",
       "0    [https://www.sec.gov/cgi-bin/browse-edgar?CIK=...   \n",
       "1    [https://www.sec.gov/cgi-bin/browse-edgar?CIK=...   \n",
       "2    [https://www.sec.gov/cgi-bin/browse-edgar?CIK=...   \n",
       "3    [https://www.sec.gov/cgi-bin/browse-edgar?CIK=...   \n",
       "4    [https://www.sec.gov/cgi-bin/browse-edgar?CIK=...   \n",
       "..                                                 ...   \n",
       "500  [https://www.sec.gov/cgi-bin/browse-edgar?CIK=...   \n",
       "501  [https://www.sec.gov/cgi-bin/browse-edgar?CIK=...   \n",
       "502  [https://www.sec.gov/cgi-bin/browse-edgar?CIK=...   \n",
       "503  [https://www.sec.gov/cgi-bin/browse-edgar?CIK=...   \n",
       "504  [https://www.sec.gov/cgi-bin/browse-edgar?CIK=...   \n",
       "\n",
       "                GICS Sector               GICS Sub Industry  \\\n",
       "0               Industrials        Industrial Conglomerates   \n",
       "1               Health Care           Health Care Equipment   \n",
       "2               Health Care                 Pharmaceuticals   \n",
       "3               Health Care           Health Care Equipment   \n",
       "4    Information Technology  IT Consulting & Other Services   \n",
       "..                      ...                             ...   \n",
       "500             Industrials            Industrial Machinery   \n",
       "501  Consumer Discretionary                     Restaurants   \n",
       "502             Health Care           Health Care Equipment   \n",
       "503              Financials                  Regional Banks   \n",
       "504             Health Care                 Pharmaceuticals   \n",
       "\n",
       "        Headquarters Location Date first added      CIK      Founded  \n",
       "0         St. Paul, Minnesota                     66740         1902  \n",
       "1     North Chicago, Illinois       1964-03-31     1800         1888  \n",
       "2     North Chicago, Illinois       2012-12-31  1551152  2013 (1888)  \n",
       "3      Danvers, Massachusetts       2018-05-31   815094         1981  \n",
       "4             Dublin, Ireland       2011-07-06  1467373         1989  \n",
       "..                        ...              ...      ...          ...  \n",
       "500    White Plains, New York       2011-11-01  1524472               \n",
       "501      Louisville, Kentucky       1997-10-06  1041061               \n",
       "502           Warsaw, Indiana       2001-08-07  1136869               \n",
       "503      Salt Lake City, Utah       2001-06-22   109380               \n",
       "504  Florham Park, New Jersey       2013-06-21  1555280               \n",
       "\n",
       "[505 rows x 9 columns]"
      ]
     },
     "execution_count": 189,
     "metadata": {},
     "output_type": "execute_result"
    }
   ],
   "source": [
    "# Reads the S&P 500 companies from wikipedia\n",
    "\n",
    "import wikitables\n",
    "import json\n",
    "import pandas as pd\n",
    "\n",
    "tables = wikitables.import_tables(article='List of S&P 500 companies',) \n",
    "sp500_json = json.loads(tables[0].json())\n",
    "pd.DataFrame(sp500_json)"
   ]
  },
  {
   "cell_type": "code",
   "execution_count": null,
   "metadata": {},
   "outputs": [],
   "source": []
  }
 ],
 "metadata": {
  "kernelspec": {
   "display_name": "capstone_nf",
   "language": "python",
   "name": "capstone_nf"
  },
  "language_info": {
   "codemirror_mode": {
    "name": "ipython",
    "version": 3
   },
   "file_extension": ".py",
   "mimetype": "text/x-python",
   "name": "python",
   "nbconvert_exporter": "python",
   "pygments_lexer": "ipython3",
   "version": "3.7.5"
  }
 },
 "nbformat": 4,
 "nbformat_minor": 4
}
