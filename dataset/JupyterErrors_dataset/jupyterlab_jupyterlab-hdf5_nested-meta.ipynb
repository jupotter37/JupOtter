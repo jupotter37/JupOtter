{
 "cells": [
  {
   "cell_type": "code",
   "execution_count": 2,
   "metadata": {},
   "outputs": [],
   "source": [
    "%reload_ext autoreload\n",
    "%autoreload 2\n",
    "\n",
    "from collections import namedtuple\n",
    "import h5py\n",
    "import os\n",
    "import re\n",
    "\n",
    "from genNested import genNested"
   ]
  },
  {
   "cell_type": "code",
   "execution_count": 4,
   "metadata": {},
   "outputs": [],
   "source": [
    "# genNested('nested', shape=(10,10))\n",
    "genNested('nested_int_one_d', N=2, fillRange=True, shape=(1000,)*1)\n",
    "# genNested('nested_int_high_d', N=2, fillRange=True, shape=(50,)*4)"
   ]
  },
  {
   "cell_type": "markdown",
   "metadata": {},
   "source": [
    "# get metadata as list"
   ]
  },
  {
   "cell_type": "code",
   "execution_count": 19,
   "metadata": {},
   "outputs": [],
   "source": [
    "Meta = namedtuple('Meta', ('kind', 'name', 'uri'))\n",
    "\n",
    "def getMeta(group, prefix='/'):    \n",
    "    return [Meta(\n",
    "        'group' if isinstance(val, h5py.Group) else 'dataset', \n",
    "        key,\n",
    "        os.path.join(prefix, key)\n",
    "    ) for key,val in group.items()]\n",
    "\n",
    "def getMetaAll(group, prefix='/', meta=None):\n",
    "    if meta is None: meta = []\n",
    "    \n",
    "    for key,val in group.items():\n",
    "        uri = os.path.join(prefix, key)\n",
    "        if isinstance(val, h5py.Group):\n",
    "            meta.append(Meta('group', key, uri))\n",
    "            getMetaAll(val, uri, meta)\n",
    "        else:\n",
    "            meta.append(Meta('dataset', key, uri))\n",
    "    \n",
    "    return meta"
   ]
  },
  {
   "cell_type": "code",
   "execution_count": 17,
   "metadata": {},
   "outputs": [
    {
     "name": "stdout",
     "output_type": "stream",
     "text": [
      "[Meta(kind='dataset', name='data02', uri='/leaf01/leaf02/data02'), Meta(kind='group', name='leaf03', uri='/leaf01/leaf02/leaf03')]\n"
     ]
    }
   ],
   "source": [
    "prefix='/leaf01/leaf02'\n",
    "\n",
    "with h5py.File('nested.hdf5', 'r') as f:\n",
    "    meta = getMeta(f[prefix], prefix)\n",
    "\n",
    "print(meta)"
   ]
  },
  {
   "cell_type": "code",
   "execution_count": 20,
   "metadata": {},
   "outputs": [
    {
     "name": "stdout",
     "output_type": "stream",
     "text": [
      "[Meta(kind='dataset', name='data00', uri='/data00'), Meta(kind='group', name='leaf01', uri='/leaf01'), Meta(kind='dataset', name='data01', uri='/leaf01/data01'), Meta(kind='group', name='leaf02', uri='/leaf01/leaf02'), Meta(kind='dataset', name='data02', uri='/leaf01/leaf02/data02'), Meta(kind='group', name='leaf03', uri='/leaf01/leaf02/leaf03'), Meta(kind='dataset', name='data03', uri='/leaf01/leaf02/leaf03/data03'), Meta(kind='group', name='leaf04', uri='/leaf01/leaf02/leaf03/leaf04'), Meta(kind='dataset', name='data04', uri='/leaf01/leaf02/leaf03/leaf04/data04'), Meta(kind='group', name='leaf05', uri='/leaf01/leaf02/leaf03/leaf04/leaf05')]\n"
     ]
    }
   ],
   "source": [
    "with h5py.File('nested.hdf5', 'r') as f:\n",
    "    metaAll = getMetaAll(f)\n",
    "\n",
    "print(metaAll)"
   ]
  },
  {
   "cell_type": "markdown",
   "metadata": {},
   "source": [
    "# metadata generator"
   ]
  },
  {
   "cell_type": "code",
   "execution_count": 30,
   "metadata": {},
   "outputs": [],
   "source": [
    "MetaHdf = namedtuple('Meta', ('kind', 'name', 'uri'))\n",
    "\n",
    "_emptyUriRe = re.compile('//')\n",
    "def uriJoin(*parts):\n",
    "    return _emptyUriRe.sub('/', '/'.join(parts))\n",
    "\n",
    "def genMetaHdf(group, prefix='/'):\n",
    "    return (MetaHdf(\n",
    "        'group' if isinstance(val, h5py.Group) else 'dataset',\n",
    "        key,\n",
    "        uriJoin(prefix, key)\n",
    "    ) for key,val in group.items())\n",
    "\n",
    "def genMetaAllHdf(group, prefix='/'):\n",
    "    yield from genMetaHdf(group, prefix)\n",
    "    \n",
    "    for key,val in group.items():\n",
    "        if isinstance(val, h5py.Group):\n",
    "            yield from genMetaAllHdf(val, uriJoin(prefix, key))"
   ]
  },
  {
   "cell_type": "code",
   "execution_count": 27,
   "metadata": {},
   "outputs": [
    {
     "name": "stdout",
     "output_type": "stream",
     "text": [
      "Meta(kind='dataset', name='data02', uri='/leaf01/leaf02/data02')\n",
      "Meta(kind='group', name='leaf03', uri='/leaf01/leaf02/leaf03')\n"
     ]
    }
   ],
   "source": [
    "prefix='/leaf01/leaf02'\n",
    "\n",
    "with h5py.File('nested.hdf5', 'r') as f:\n",
    "    for m in genMetaHdf(f[prefix], prefix):\n",
    "        print(m)"
   ]
  },
  {
   "cell_type": "code",
   "execution_count": 31,
   "metadata": {},
   "outputs": [
    {
     "name": "stdout",
     "output_type": "stream",
     "text": [
      "Meta(kind='dataset', name='data00', uri='/data00')\n",
      "Meta(kind='group', name='leaf01', uri='/leaf01')\n",
      "Meta(kind='dataset', name='data01', uri='/leaf01/data01')\n",
      "Meta(kind='group', name='leaf02', uri='/leaf01/leaf02')\n",
      "Meta(kind='dataset', name='data02', uri='/leaf01/leaf02/data02')\n",
      "Meta(kind='group', name='leaf03', uri='/leaf01/leaf02/leaf03')\n",
      "Meta(kind='dataset', name='data03', uri='/leaf01/leaf02/leaf03/data03')\n",
      "Meta(kind='group', name='leaf04', uri='/leaf01/leaf02/leaf03/leaf04')\n",
      "Meta(kind='dataset', name='data04', uri='/leaf01/leaf02/leaf03/leaf04/data04')\n",
      "Meta(kind='group', name='leaf05', uri='/leaf01/leaf02/leaf03/leaf04/leaf05')\n"
     ]
    }
   ],
   "source": [
    "with h5py.File('nested.hdf5', 'r') as f:\n",
    "    for m in genMetaAllHdf(f):\n",
    "        print(m)"
   ]
  },
  {
   "cell_type": "markdown",
   "metadata": {},
   "source": [
    "# misc"
   ]
  },
  {
   "cell_type": "code",
   "execution_count": 5,
   "metadata": {},
   "outputs": [
    {
     "name": "stdout",
     "output_type": "stream",
     "text": [
      "/\n",
      "data01\n",
      "<HDF5 dataset \"data01\": shape (20, 10), type \"<i8\">\n",
      "leaf02\n",
      "<HDF5 group \"/leaf01/leaf02\" (2 members)>\n"
     ]
    }
   ],
   "source": [
    "with h5py.File('nested.hdf5', 'r') as f:\n",
    "    print(f.name)\n",
    "    for key,val in f['/leaf01'].items():\n",
    "        print(key)\n",
    "        print(val)"
   ]
  },
  {
   "cell_type": "code",
   "execution_count": 11,
   "metadata": {},
   "outputs": [
    {
     "ename": "AttributeError",
     "evalue": "can't set attribute",
     "output_type": "error",
     "traceback": [
      "\u001b[0;31m---------------------------------------------------------------------------\u001b[0m",
      "\u001b[0;31mAttributeError\u001b[0m                            Traceback (most recent call last)",
      "\u001b[0;32m<ipython-input-11-0dea21403607>\u001b[0m in \u001b[0;36m<module>\u001b[0;34m\u001b[0m\n\u001b[1;32m      1\u001b[0m \u001b[0mm\u001b[0m \u001b[0;34m=\u001b[0m \u001b[0mMeta\u001b[0m\u001b[0;34m(\u001b[0m\u001b[0;34m)\u001b[0m\u001b[0;34m\u001b[0m\u001b[0;34m\u001b[0m\u001b[0m\n\u001b[0;32m----> 2\u001b[0;31m \u001b[0mm\u001b[0m\u001b[0;34m.\u001b[0m\u001b[0mkind\u001b[0m \u001b[0;34m=\u001b[0m \u001b[0;34m'group'\u001b[0m\u001b[0;34m\u001b[0m\u001b[0;34m\u001b[0m\u001b[0m\n\u001b[0m\u001b[1;32m      3\u001b[0m \u001b[0mprint\u001b[0m\u001b[0;34m(\u001b[0m\u001b[0mm\u001b[0m\u001b[0;34m)\u001b[0m\u001b[0;34m\u001b[0m\u001b[0;34m\u001b[0m\u001b[0m\n",
      "\u001b[0;31mAttributeError\u001b[0m: can't set attribute"
     ]
    }
   ],
   "source": [
    "m = Meta()\n",
    "m.kind = 'group'\n",
    "print(m)"
   ]
  },
  {
   "cell_type": "code",
   "execution_count": null,
   "metadata": {},
   "outputs": [],
   "source": []
  }
 ],
 "metadata": {
  "kernelspec": {
   "display_name": "Python 3.7",
   "language": "python",
   "name": "python3"
  },
  "language_info": {
   "codemirror_mode": {
    "name": "ipython",
    "version": 3
   },
   "file_extension": ".py",
   "mimetype": "text/x-python",
   "name": "python",
   "nbconvert_exporter": "python",
   "pygments_lexer": "ipython3",
   "version": "3.7.9"
  }
 },
 "nbformat": 4,
 "nbformat_minor": 4
}
