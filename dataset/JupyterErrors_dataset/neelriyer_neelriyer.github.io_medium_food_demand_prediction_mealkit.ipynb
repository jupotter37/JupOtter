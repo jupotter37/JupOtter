{
  "nbformat": 4,
  "nbformat_minor": 0,
  "metadata": {
    "kernelspec": {
      "display_name": "Python 3",
      "language": "python",
      "name": "python3"
    },
    "colab": {
      "name": "medium_food_demand_prediction_mealkit.ipynb",
      "provenance": [],
      "collapsed_sections": [],
      "toc_visible": true,
      "machine_shape": "hm"
    },
    "accelerator": "GPU"
  },
  "cells": [
    {
      "cell_type": "markdown",
      "metadata": {
        "id": "hC_b4Le4LzgQ",
        "colab_type": "text"
      },
      "source": [
        "# Forecasting Food Demand \n",
        "\n",
        "## Applying Neural Networks to the Meal kit Industry\n",
        "\n",
        "So this is going to overfit"
      ]
    },
    {
      "cell_type": "markdown",
      "metadata": {
        "id": "3v9rCgqbMKUQ",
        "colab_type": "text"
      },
      "source": [
        "![alt text](https://media.self.com/photos/5dfd1730e313510008a38574/16:9/w_1280,h_720,c_limit/best%20meal%20kits%20lede.png)"
      ]
    },
    {
      "cell_type": "markdown",
      "metadata": {
        "id": "_r78dTNKH3Df",
        "colab_type": "text"
      },
      "source": [
        "# Get Data\n",
        "Data available from: https://datahack.analyticsvidhya.com/contest/genpact-machine-learning-hackathon-1/\n",
        "\n",
        "You'll have to sign up. Then go to 'Problem Statement' and scroll to the bottom. Download the train zip file and the test csv file."
      ]
    },
    {
      "cell_type": "code",
      "metadata": {
        "id": "NGw92sexBvI8",
        "colab_type": "code",
        "colab": {}
      },
      "source": [
        "%reload_ext autoreload\n",
        "%autoreload 2\n",
        "from fastai.tabular import *"
      ],
      "execution_count": 1,
      "outputs": []
    },
    {
      "cell_type": "code",
      "metadata": {
        "id": "9xpW0p7IU6re",
        "colab_type": "code",
        "colab": {
          "base_uri": "https://localhost:8080/",
          "height": 122
        },
        "outputId": "6c7bf718-be2b-4fa3-8fb3-60dbf8ba0715"
      },
      "source": [
        "# mount google drive (if in google colab)\n",
        "import sys\n",
        "\n",
        "IN_COLAB = 'google.colab' in sys.modules\n",
        "\n",
        "if (IN_COLAB):\n",
        "  from google.colab import drive\n",
        "  drive.mount('/content/drive')"
      ],
      "execution_count": 5,
      "outputs": [
        {
          "output_type": "stream",
          "text": [
            "Go to this URL in a browser: https://accounts.google.com/o/oauth2/auth?client_id=947318989803-6bn6qk8qdgf4n4g3pfee6491hc0brc4i.apps.googleusercontent.com&redirect_uri=urn%3aietf%3awg%3aoauth%3a2.0%3aoob&response_type=code&scope=email%20https%3a%2f%2fwww.googleapis.com%2fauth%2fdocs.test%20https%3a%2f%2fwww.googleapis.com%2fauth%2fdrive%20https%3a%2f%2fwww.googleapis.com%2fauth%2fdrive.photos.readonly%20https%3a%2f%2fwww.googleapis.com%2fauth%2fpeopleapi.readonly\n",
            "\n",
            "Enter your authorization code:\n",
            "··········\n",
            "Mounted at /content/drive\n"
          ],
          "name": "stdout"
        }
      ]
    },
    {
      "cell_type": "code",
      "metadata": {
        "id": "OBcTjLw45u40",
        "colab_type": "code",
        "colab": {}
      },
      "source": [
        "import glob\n",
        "import shutil\n",
        "\n",
        "if (IN_COLAB):\n",
        "  files = glob.glob('/content/drive/My Drive/food_demand_prediction/*.zip')\n",
        "  for file in files:\n",
        "    shutil.copyfile(file, '/content/zipfile.zip')"
      ],
      "execution_count": 6,
      "outputs": []
    },
    {
      "cell_type": "code",
      "metadata": {
        "id": "Verc8nao9gwz",
        "colab_type": "code",
        "colab": {
          "base_uri": "https://localhost:8080/",
          "height": 85
        },
        "outputId": "14554052-7141-4357-cd20-30ea808a448a"
      },
      "source": [
        "!unzip \\*.zip"
      ],
      "execution_count": 7,
      "outputs": [
        {
          "output_type": "stream",
          "text": [
            "Archive:  zipfile.zip\n",
            "  inflating: fulfilment_center_info.csv  \n",
            "  inflating: meal_info.csv           \n",
            "  inflating: train.csv               \n"
          ],
          "name": "stdout"
        }
      ]
    },
    {
      "cell_type": "markdown",
      "metadata": {
        "id": "m6mkMxds-TOa",
        "colab_type": "text"
      },
      "source": [
        "# Neural Network with Category embeddings"
      ]
    },
    {
      "cell_type": "markdown",
      "metadata": {
        "id": "m4norKouBvJH",
        "colab_type": "text"
      },
      "source": [
        "## Data preparation"
      ]
    },
    {
      "cell_type": "code",
      "metadata": {
        "id": "fBhbt09LDINP",
        "colab_type": "code",
        "colab": {}
      },
      "source": [
        "train_df = pd.read_csv('/content/train.csv')\n",
        "test_df = pd.read_csv('/content/drive/My Drive/food_demand_prediction/test_QoiMO9B.csv')\n",
        "orig_test_cols = test_df.columns"
      ],
      "execution_count": null,
      "outputs": []
    },
    {
      "cell_type": "code",
      "metadata": {
        "id": "kGWOOtbb_dAU",
        "colab_type": "code",
        "colab": {}
      },
      "source": [
        "import datetime\n",
        "import math\n",
        "\n",
        "# competition starts from 2018\n",
        "start_year = 2018\n",
        "\n",
        "def convert_week_number_to_date(week_number):\n",
        "\n",
        "  # round down\n",
        "  years_adding = int(week_number/52)\n",
        "  new_year = start_year + years_adding\n",
        "\n",
        "  # remainder\n",
        "  remainder = week_number %52\n",
        "\n",
        "  d = str(new_year)+\"-W\"+str(remainder)\n",
        "  r = datetime.datetime.strptime(d + '-1', \"%Y-W%W-%w\")\n",
        "  # print(r)\n",
        "\n",
        "  return r.date()\n",
        "\n",
        "train_df['Date'] = train_df['week'].apply(lambda text: convert_week_number_to_date(text))\n",
        "test_df['Date'] = test_df['week'].apply(lambda text: convert_week_number_to_date(text))"
      ],
      "execution_count": null,
      "outputs": []
    },
    {
      "cell_type": "code",
      "metadata": {
        "id": "Xly8Kitwk1j6",
        "colab_type": "code",
        "colab": {}
      },
      "source": [
        "train_df['Date'] =  pd.to_datetime(train_df['Date'], format='%Y-%m-%d')\n",
        "test_df['Date'] =  pd.to_datetime(test_df['Date'], format='%Y-%m-%d')"
      ],
      "execution_count": null,
      "outputs": []
    },
    {
      "cell_type": "code",
      "metadata": {
        "id": "NCOTEbPfBvJL",
        "colab_type": "code",
        "colab": {
          "base_uri": "https://localhost:8080/",
          "height": 309
        },
        "outputId": "11c5071d-5b75-4733-e9c5-9c208487ab58"
      },
      "source": [
        "train_df.head()"
      ],
      "execution_count": null,
      "outputs": [
        {
          "output_type": "execute_result",
          "data": {
            "text/html": [
              "<div>\n",
              "<style scoped>\n",
              "    .dataframe tbody tr th:only-of-type {\n",
              "        vertical-align: middle;\n",
              "    }\n",
              "\n",
              "    .dataframe tbody tr th {\n",
              "        vertical-align: top;\n",
              "    }\n",
              "\n",
              "    .dataframe thead th {\n",
              "        text-align: right;\n",
              "    }\n",
              "</style>\n",
              "<table border=\"1\" class=\"dataframe\">\n",
              "  <thead>\n",
              "    <tr style=\"text-align: right;\">\n",
              "      <th></th>\n",
              "      <th>id</th>\n",
              "      <th>week</th>\n",
              "      <th>center_id</th>\n",
              "      <th>meal_id</th>\n",
              "      <th>checkout_price</th>\n",
              "      <th>base_price</th>\n",
              "      <th>emailer_for_promotion</th>\n",
              "      <th>homepage_featured</th>\n",
              "      <th>num_orders</th>\n",
              "      <th>Date</th>\n",
              "    </tr>\n",
              "  </thead>\n",
              "  <tbody>\n",
              "    <tr>\n",
              "      <th>0</th>\n",
              "      <td>1379560</td>\n",
              "      <td>1</td>\n",
              "      <td>55</td>\n",
              "      <td>1885</td>\n",
              "      <td>136.83</td>\n",
              "      <td>152.29</td>\n",
              "      <td>0</td>\n",
              "      <td>0</td>\n",
              "      <td>177</td>\n",
              "      <td>2018-01-01</td>\n",
              "    </tr>\n",
              "    <tr>\n",
              "      <th>1</th>\n",
              "      <td>1466964</td>\n",
              "      <td>1</td>\n",
              "      <td>55</td>\n",
              "      <td>1993</td>\n",
              "      <td>136.83</td>\n",
              "      <td>135.83</td>\n",
              "      <td>0</td>\n",
              "      <td>0</td>\n",
              "      <td>270</td>\n",
              "      <td>2018-01-01</td>\n",
              "    </tr>\n",
              "    <tr>\n",
              "      <th>2</th>\n",
              "      <td>1346989</td>\n",
              "      <td>1</td>\n",
              "      <td>55</td>\n",
              "      <td>2539</td>\n",
              "      <td>134.86</td>\n",
              "      <td>135.86</td>\n",
              "      <td>0</td>\n",
              "      <td>0</td>\n",
              "      <td>189</td>\n",
              "      <td>2018-01-01</td>\n",
              "    </tr>\n",
              "    <tr>\n",
              "      <th>3</th>\n",
              "      <td>1338232</td>\n",
              "      <td>1</td>\n",
              "      <td>55</td>\n",
              "      <td>2139</td>\n",
              "      <td>339.50</td>\n",
              "      <td>437.53</td>\n",
              "      <td>0</td>\n",
              "      <td>0</td>\n",
              "      <td>54</td>\n",
              "      <td>2018-01-01</td>\n",
              "    </tr>\n",
              "    <tr>\n",
              "      <th>4</th>\n",
              "      <td>1448490</td>\n",
              "      <td>1</td>\n",
              "      <td>55</td>\n",
              "      <td>2631</td>\n",
              "      <td>243.50</td>\n",
              "      <td>242.50</td>\n",
              "      <td>0</td>\n",
              "      <td>0</td>\n",
              "      <td>40</td>\n",
              "      <td>2018-01-01</td>\n",
              "    </tr>\n",
              "  </tbody>\n",
              "</table>\n",
              "</div>"
            ],
            "text/plain": [
              "        id  week  center_id  ...  homepage_featured  num_orders       Date\n",
              "0  1379560     1         55  ...                  0         177 2018-01-01\n",
              "1  1466964     1         55  ...                  0         270 2018-01-01\n",
              "2  1346989     1         55  ...                  0         189 2018-01-01\n",
              "3  1338232     1         55  ...                  0          54 2018-01-01\n",
              "4  1448490     1         55  ...                  0          40 2018-01-01\n",
              "\n",
              "[5 rows x 10 columns]"
            ]
          },
          "metadata": {
            "tags": []
          },
          "execution_count": 8
        }
      ]
    },
    {
      "cell_type": "code",
      "metadata": {
        "id": "rhFLh5Z-NaGV",
        "colab_type": "code",
        "colab": {
          "base_uri": "https://localhost:8080/",
          "height": 204
        },
        "outputId": "a6ca54d7-8cb9-4d1d-a649-1f65dc92f21f"
      },
      "source": [
        "meal = pd.read_csv('meal_info.csv')\n",
        "meal.head()"
      ],
      "execution_count": null,
      "outputs": [
        {
          "output_type": "execute_result",
          "data": {
            "text/html": [
              "<div>\n",
              "<style scoped>\n",
              "    .dataframe tbody tr th:only-of-type {\n",
              "        vertical-align: middle;\n",
              "    }\n",
              "\n",
              "    .dataframe tbody tr th {\n",
              "        vertical-align: top;\n",
              "    }\n",
              "\n",
              "    .dataframe thead th {\n",
              "        text-align: right;\n",
              "    }\n",
              "</style>\n",
              "<table border=\"1\" class=\"dataframe\">\n",
              "  <thead>\n",
              "    <tr style=\"text-align: right;\">\n",
              "      <th></th>\n",
              "      <th>meal_id</th>\n",
              "      <th>category</th>\n",
              "      <th>cuisine</th>\n",
              "    </tr>\n",
              "  </thead>\n",
              "  <tbody>\n",
              "    <tr>\n",
              "      <th>0</th>\n",
              "      <td>1885</td>\n",
              "      <td>Beverages</td>\n",
              "      <td>Thai</td>\n",
              "    </tr>\n",
              "    <tr>\n",
              "      <th>1</th>\n",
              "      <td>1993</td>\n",
              "      <td>Beverages</td>\n",
              "      <td>Thai</td>\n",
              "    </tr>\n",
              "    <tr>\n",
              "      <th>2</th>\n",
              "      <td>2539</td>\n",
              "      <td>Beverages</td>\n",
              "      <td>Thai</td>\n",
              "    </tr>\n",
              "    <tr>\n",
              "      <th>3</th>\n",
              "      <td>1248</td>\n",
              "      <td>Beverages</td>\n",
              "      <td>Indian</td>\n",
              "    </tr>\n",
              "    <tr>\n",
              "      <th>4</th>\n",
              "      <td>2631</td>\n",
              "      <td>Beverages</td>\n",
              "      <td>Indian</td>\n",
              "    </tr>\n",
              "  </tbody>\n",
              "</table>\n",
              "</div>"
            ],
            "text/plain": [
              "   meal_id   category cuisine\n",
              "0     1885  Beverages    Thai\n",
              "1     1993  Beverages    Thai\n",
              "2     2539  Beverages    Thai\n",
              "3     1248  Beverages  Indian\n",
              "4     2631  Beverages  Indian"
            ]
          },
          "metadata": {
            "tags": []
          },
          "execution_count": 9
        }
      ]
    },
    {
      "cell_type": "code",
      "metadata": {
        "id": "583Fb_mbNmm3",
        "colab_type": "code",
        "colab": {
          "base_uri": "https://localhost:8080/",
          "height": 309
        },
        "outputId": "3b79a2c1-71a0-48bc-be5f-712236e3b5df"
      },
      "source": [
        "train_df = train_df.merge(meal,on='meal_id')\n",
        "test_df = test_df.merge(meal,on='meal_id')\n",
        "train_df.head()"
      ],
      "execution_count": null,
      "outputs": [
        {
          "output_type": "execute_result",
          "data": {
            "text/html": [
              "<div>\n",
              "<style scoped>\n",
              "    .dataframe tbody tr th:only-of-type {\n",
              "        vertical-align: middle;\n",
              "    }\n",
              "\n",
              "    .dataframe tbody tr th {\n",
              "        vertical-align: top;\n",
              "    }\n",
              "\n",
              "    .dataframe thead th {\n",
              "        text-align: right;\n",
              "    }\n",
              "</style>\n",
              "<table border=\"1\" class=\"dataframe\">\n",
              "  <thead>\n",
              "    <tr style=\"text-align: right;\">\n",
              "      <th></th>\n",
              "      <th>id</th>\n",
              "      <th>week</th>\n",
              "      <th>center_id</th>\n",
              "      <th>meal_id</th>\n",
              "      <th>checkout_price</th>\n",
              "      <th>base_price</th>\n",
              "      <th>emailer_for_promotion</th>\n",
              "      <th>homepage_featured</th>\n",
              "      <th>num_orders</th>\n",
              "      <th>Date</th>\n",
              "      <th>category</th>\n",
              "      <th>cuisine</th>\n",
              "    </tr>\n",
              "  </thead>\n",
              "  <tbody>\n",
              "    <tr>\n",
              "      <th>0</th>\n",
              "      <td>1379560</td>\n",
              "      <td>1</td>\n",
              "      <td>55</td>\n",
              "      <td>1885</td>\n",
              "      <td>136.83</td>\n",
              "      <td>152.29</td>\n",
              "      <td>0</td>\n",
              "      <td>0</td>\n",
              "      <td>177</td>\n",
              "      <td>2018-01-01</td>\n",
              "      <td>Beverages</td>\n",
              "      <td>Thai</td>\n",
              "    </tr>\n",
              "    <tr>\n",
              "      <th>1</th>\n",
              "      <td>1040403</td>\n",
              "      <td>1</td>\n",
              "      <td>24</td>\n",
              "      <td>1885</td>\n",
              "      <td>136.83</td>\n",
              "      <td>136.83</td>\n",
              "      <td>0</td>\n",
              "      <td>0</td>\n",
              "      <td>1498</td>\n",
              "      <td>2018-01-01</td>\n",
              "      <td>Beverages</td>\n",
              "      <td>Thai</td>\n",
              "    </tr>\n",
              "    <tr>\n",
              "      <th>2</th>\n",
              "      <td>1103215</td>\n",
              "      <td>1</td>\n",
              "      <td>11</td>\n",
              "      <td>1885</td>\n",
              "      <td>136.83</td>\n",
              "      <td>136.83</td>\n",
              "      <td>0</td>\n",
              "      <td>0</td>\n",
              "      <td>959</td>\n",
              "      <td>2018-01-01</td>\n",
              "      <td>Beverages</td>\n",
              "      <td>Thai</td>\n",
              "    </tr>\n",
              "    <tr>\n",
              "      <th>3</th>\n",
              "      <td>1034383</td>\n",
              "      <td>1</td>\n",
              "      <td>83</td>\n",
              "      <td>1885</td>\n",
              "      <td>121.31</td>\n",
              "      <td>120.31</td>\n",
              "      <td>0</td>\n",
              "      <td>1</td>\n",
              "      <td>1025</td>\n",
              "      <td>2018-01-01</td>\n",
              "      <td>Beverages</td>\n",
              "      <td>Thai</td>\n",
              "    </tr>\n",
              "    <tr>\n",
              "      <th>4</th>\n",
              "      <td>1118999</td>\n",
              "      <td>1</td>\n",
              "      <td>32</td>\n",
              "      <td>1885</td>\n",
              "      <td>114.52</td>\n",
              "      <td>113.52</td>\n",
              "      <td>0</td>\n",
              "      <td>1</td>\n",
              "      <td>445</td>\n",
              "      <td>2018-01-01</td>\n",
              "      <td>Beverages</td>\n",
              "      <td>Thai</td>\n",
              "    </tr>\n",
              "  </tbody>\n",
              "</table>\n",
              "</div>"
            ],
            "text/plain": [
              "        id  week  center_id  meal_id  ...  num_orders       Date   category  cuisine\n",
              "0  1379560     1         55     1885  ...         177 2018-01-01  Beverages     Thai\n",
              "1  1040403     1         24     1885  ...        1498 2018-01-01  Beverages     Thai\n",
              "2  1103215     1         11     1885  ...         959 2018-01-01  Beverages     Thai\n",
              "3  1034383     1         83     1885  ...        1025 2018-01-01  Beverages     Thai\n",
              "4  1118999     1         32     1885  ...         445 2018-01-01  Beverages     Thai\n",
              "\n",
              "[5 rows x 12 columns]"
            ]
          },
          "metadata": {
            "tags": []
          },
          "execution_count": 10
        }
      ]
    },
    {
      "cell_type": "code",
      "metadata": {
        "id": "FLmAw6EQNpRc",
        "colab_type": "code",
        "colab": {
          "base_uri": "https://localhost:8080/",
          "height": 204
        },
        "outputId": "166fd20d-c8ce-40fe-f65f-64b2b68b3ec4"
      },
      "source": [
        "fulfilment_df = pd.read_csv('fulfilment_center_info.csv')\n",
        "fulfilment_df.head()"
      ],
      "execution_count": null,
      "outputs": [
        {
          "output_type": "execute_result",
          "data": {
            "text/html": [
              "<div>\n",
              "<style scoped>\n",
              "    .dataframe tbody tr th:only-of-type {\n",
              "        vertical-align: middle;\n",
              "    }\n",
              "\n",
              "    .dataframe tbody tr th {\n",
              "        vertical-align: top;\n",
              "    }\n",
              "\n",
              "    .dataframe thead th {\n",
              "        text-align: right;\n",
              "    }\n",
              "</style>\n",
              "<table border=\"1\" class=\"dataframe\">\n",
              "  <thead>\n",
              "    <tr style=\"text-align: right;\">\n",
              "      <th></th>\n",
              "      <th>center_id</th>\n",
              "      <th>city_code</th>\n",
              "      <th>region_code</th>\n",
              "      <th>center_type</th>\n",
              "      <th>op_area</th>\n",
              "    </tr>\n",
              "  </thead>\n",
              "  <tbody>\n",
              "    <tr>\n",
              "      <th>0</th>\n",
              "      <td>11</td>\n",
              "      <td>679</td>\n",
              "      <td>56</td>\n",
              "      <td>TYPE_A</td>\n",
              "      <td>3.7</td>\n",
              "    </tr>\n",
              "    <tr>\n",
              "      <th>1</th>\n",
              "      <td>13</td>\n",
              "      <td>590</td>\n",
              "      <td>56</td>\n",
              "      <td>TYPE_B</td>\n",
              "      <td>6.7</td>\n",
              "    </tr>\n",
              "    <tr>\n",
              "      <th>2</th>\n",
              "      <td>124</td>\n",
              "      <td>590</td>\n",
              "      <td>56</td>\n",
              "      <td>TYPE_C</td>\n",
              "      <td>4.0</td>\n",
              "    </tr>\n",
              "    <tr>\n",
              "      <th>3</th>\n",
              "      <td>66</td>\n",
              "      <td>648</td>\n",
              "      <td>34</td>\n",
              "      <td>TYPE_A</td>\n",
              "      <td>4.1</td>\n",
              "    </tr>\n",
              "    <tr>\n",
              "      <th>4</th>\n",
              "      <td>94</td>\n",
              "      <td>632</td>\n",
              "      <td>34</td>\n",
              "      <td>TYPE_C</td>\n",
              "      <td>3.6</td>\n",
              "    </tr>\n",
              "  </tbody>\n",
              "</table>\n",
              "</div>"
            ],
            "text/plain": [
              "   center_id  city_code  region_code center_type  op_area\n",
              "0         11        679           56      TYPE_A      3.7\n",
              "1         13        590           56      TYPE_B      6.7\n",
              "2        124        590           56      TYPE_C      4.0\n",
              "3         66        648           34      TYPE_A      4.1\n",
              "4         94        632           34      TYPE_C      3.6"
            ]
          },
          "metadata": {
            "tags": []
          },
          "execution_count": 11
        }
      ]
    },
    {
      "cell_type": "code",
      "metadata": {
        "id": "IxjTCJwBNuvz",
        "colab_type": "code",
        "colab": {
          "base_uri": "https://localhost:8080/",
          "height": 309
        },
        "outputId": "fe43df0f-9201-4017-9e38-91eed62dfb49"
      },
      "source": [
        "train_df = train_df.merge(fulfilment_df,on='center_id')\n",
        "test_df = test_df.merge(fulfilment_df,on='center_id')\n",
        "train_df.head()"
      ],
      "execution_count": null,
      "outputs": [
        {
          "output_type": "execute_result",
          "data": {
            "text/html": [
              "<div>\n",
              "<style scoped>\n",
              "    .dataframe tbody tr th:only-of-type {\n",
              "        vertical-align: middle;\n",
              "    }\n",
              "\n",
              "    .dataframe tbody tr th {\n",
              "        vertical-align: top;\n",
              "    }\n",
              "\n",
              "    .dataframe thead th {\n",
              "        text-align: right;\n",
              "    }\n",
              "</style>\n",
              "<table border=\"1\" class=\"dataframe\">\n",
              "  <thead>\n",
              "    <tr style=\"text-align: right;\">\n",
              "      <th></th>\n",
              "      <th>id</th>\n",
              "      <th>week</th>\n",
              "      <th>center_id</th>\n",
              "      <th>meal_id</th>\n",
              "      <th>checkout_price</th>\n",
              "      <th>base_price</th>\n",
              "      <th>emailer_for_promotion</th>\n",
              "      <th>homepage_featured</th>\n",
              "      <th>num_orders</th>\n",
              "      <th>Date</th>\n",
              "      <th>category</th>\n",
              "      <th>cuisine</th>\n",
              "      <th>city_code</th>\n",
              "      <th>region_code</th>\n",
              "      <th>center_type</th>\n",
              "      <th>op_area</th>\n",
              "    </tr>\n",
              "  </thead>\n",
              "  <tbody>\n",
              "    <tr>\n",
              "      <th>0</th>\n",
              "      <td>1379560</td>\n",
              "      <td>1</td>\n",
              "      <td>55</td>\n",
              "      <td>1885</td>\n",
              "      <td>136.83</td>\n",
              "      <td>152.29</td>\n",
              "      <td>0</td>\n",
              "      <td>0</td>\n",
              "      <td>177</td>\n",
              "      <td>2018-01-01</td>\n",
              "      <td>Beverages</td>\n",
              "      <td>Thai</td>\n",
              "      <td>647</td>\n",
              "      <td>56</td>\n",
              "      <td>TYPE_C</td>\n",
              "      <td>2.0</td>\n",
              "    </tr>\n",
              "    <tr>\n",
              "      <th>1</th>\n",
              "      <td>1018704</td>\n",
              "      <td>2</td>\n",
              "      <td>55</td>\n",
              "      <td>1885</td>\n",
              "      <td>135.83</td>\n",
              "      <td>152.29</td>\n",
              "      <td>0</td>\n",
              "      <td>0</td>\n",
              "      <td>323</td>\n",
              "      <td>2018-01-08</td>\n",
              "      <td>Beverages</td>\n",
              "      <td>Thai</td>\n",
              "      <td>647</td>\n",
              "      <td>56</td>\n",
              "      <td>TYPE_C</td>\n",
              "      <td>2.0</td>\n",
              "    </tr>\n",
              "    <tr>\n",
              "      <th>2</th>\n",
              "      <td>1196273</td>\n",
              "      <td>3</td>\n",
              "      <td>55</td>\n",
              "      <td>1885</td>\n",
              "      <td>132.92</td>\n",
              "      <td>133.92</td>\n",
              "      <td>0</td>\n",
              "      <td>0</td>\n",
              "      <td>96</td>\n",
              "      <td>2018-01-15</td>\n",
              "      <td>Beverages</td>\n",
              "      <td>Thai</td>\n",
              "      <td>647</td>\n",
              "      <td>56</td>\n",
              "      <td>TYPE_C</td>\n",
              "      <td>2.0</td>\n",
              "    </tr>\n",
              "    <tr>\n",
              "      <th>3</th>\n",
              "      <td>1116527</td>\n",
              "      <td>4</td>\n",
              "      <td>55</td>\n",
              "      <td>1885</td>\n",
              "      <td>135.86</td>\n",
              "      <td>134.86</td>\n",
              "      <td>0</td>\n",
              "      <td>0</td>\n",
              "      <td>163</td>\n",
              "      <td>2018-01-22</td>\n",
              "      <td>Beverages</td>\n",
              "      <td>Thai</td>\n",
              "      <td>647</td>\n",
              "      <td>56</td>\n",
              "      <td>TYPE_C</td>\n",
              "      <td>2.0</td>\n",
              "    </tr>\n",
              "    <tr>\n",
              "      <th>4</th>\n",
              "      <td>1343872</td>\n",
              "      <td>5</td>\n",
              "      <td>55</td>\n",
              "      <td>1885</td>\n",
              "      <td>146.50</td>\n",
              "      <td>147.50</td>\n",
              "      <td>0</td>\n",
              "      <td>0</td>\n",
              "      <td>215</td>\n",
              "      <td>2018-01-29</td>\n",
              "      <td>Beverages</td>\n",
              "      <td>Thai</td>\n",
              "      <td>647</td>\n",
              "      <td>56</td>\n",
              "      <td>TYPE_C</td>\n",
              "      <td>2.0</td>\n",
              "    </tr>\n",
              "  </tbody>\n",
              "</table>\n",
              "</div>"
            ],
            "text/plain": [
              "        id  week  center_id  ...  region_code  center_type  op_area\n",
              "0  1379560     1         55  ...           56       TYPE_C      2.0\n",
              "1  1018704     2         55  ...           56       TYPE_C      2.0\n",
              "2  1196273     3         55  ...           56       TYPE_C      2.0\n",
              "3  1116527     4         55  ...           56       TYPE_C      2.0\n",
              "4  1343872     5         55  ...           56       TYPE_C      2.0\n",
              "\n",
              "[5 rows x 16 columns]"
            ]
          },
          "metadata": {
            "tags": []
          },
          "execution_count": 12
        }
      ]
    },
    {
      "cell_type": "code",
      "metadata": {
        "id": "pSYY1GHyBvJQ",
        "colab_type": "code",
        "colab": {
          "base_uri": "https://localhost:8080/",
          "height": 34
        },
        "outputId": "71490f4d-bbcd-4da0-c17f-54da45f63502"
      },
      "source": [
        "n = len(train_df); n"
      ],
      "execution_count": null,
      "outputs": [
        {
          "output_type": "execute_result",
          "data": {
            "text/plain": [
              "456548"
            ]
          },
          "metadata": {
            "tags": []
          },
          "execution_count": 13
        }
      ]
    },
    {
      "cell_type": "code",
      "metadata": {
        "id": "Wm94ghD1OjVO",
        "colab_type": "code",
        "colab": {}
      },
      "source": [
        "train_df = add_datepart(train_df, \"Date\", drop=False)\n",
        "test_df = add_datepart(test_df, \"Date\", drop=False)"
      ],
      "execution_count": null,
      "outputs": []
    },
    {
      "cell_type": "markdown",
      "metadata": {
        "id": "J6eeJ9aaeK5a",
        "colab_type": "text"
      },
      "source": [
        "## Feature Engineering"
      ]
    },
    {
      "cell_type": "code",
      "metadata": {
        "id": "KmlzmslVeMwy",
        "colab_type": "code",
        "colab": {}
      },
      "source": [
        "def feature_engineering(df_train, df_test):\n",
        "\n",
        "  # inspired by: https://varunbpatil.github.io/2018/12/25/genpact-ml-hackathon.html\n",
        "\n",
        "  # percent difference between base price and checkout price.\n",
        "  df_train['price_diff_percent'] = \\\n",
        "          (df_train['base_price'] - df_train['checkout_price']) / \\\n",
        "          df_train['base_price']\n",
        "\n",
        "  df_test['price_diff_percent'] = \\\n",
        "          (df_test['base_price'] - df_test['checkout_price']) / \\\n",
        "          df_test['base_price']\n",
        "\n",
        "\n",
        "  # Convert email and homepage features into a single feature - 'email_plus_homepage'.\n",
        "  df_train['email_plus_homepage'] = \\\n",
        "          df_train['emailer_for_promotion'] + \\\n",
        "          df_train['homepage_featured']\n",
        "\n",
        "  df_test['email_plus_homepage'] = \\\n",
        "          df_test['emailer_for_promotion'] + \\\n",
        "          df_test['homepage_featured']\n",
        "\n",
        "  # df_train = df_train.apply(lambda row: emailer_and_homepage(row))\n",
        "  # df_test = df_test.apply(lambda row: emailer_and_homepage(row))\n",
        "\n",
        "  return df_train,df_test\n",
        "\n",
        "train_df,test_df = feature_engineering(df_train=train_df, df_test=test_df)"
      ],
      "execution_count": null,
      "outputs": []
    },
    {
      "cell_type": "markdown",
      "metadata": {
        "id": "gcQ1fx3QBvJy",
        "colab_type": "text"
      },
      "source": [
        "## Preparing full data set"
      ]
    },
    {
      "cell_type": "code",
      "metadata": {
        "id": "9n9HDnaDBvJ0",
        "colab_type": "code",
        "colab": {
          "base_uri": "https://localhost:8080/",
          "height": 34
        },
        "outputId": "5845482c-8985-4c08-e959-dc7dc0cced10"
      },
      "source": [
        "len(train_df),len(test_df)"
      ],
      "execution_count": null,
      "outputs": [
        {
          "output_type": "execute_result",
          "data": {
            "text/plain": [
              "(456548, 32573)"
            ]
          },
          "metadata": {
            "tags": []
          },
          "execution_count": 18
        }
      ]
    },
    {
      "cell_type": "code",
      "metadata": {
        "id": "xBtNCeGSBvJ8",
        "colab_type": "code",
        "colab": {}
      },
      "source": [
        "# Fill Missing values\n",
        "# Encode categorical variables\n",
        "# Normalize continous variables\n",
        "procs=[FillMissing, Categorify, Normalize]\n",
        "\n",
        "cont_vars = [i for i in ['checkout_price', \n",
        "             'base_price', \n",
        "             'Elapsed',\n",
        "             'week_sin', \n",
        "             'week_cos',  \n",
        "             'price_diff_percent'] if i in train_df.columns and i in test_df.columns]\n",
        "\n",
        "cat_vars = [i for i in ['week', 'center_id', 'meal_id',\n",
        "       'emailer_for_promotion', 'homepage_featured', \n",
        "       'category', 'cuisine', 'city_code', 'region_code', 'center_type',\n",
        "       'op_area', 'Year', 'Month', 'Week', 'Day', 'Dayofweek', 'Dayofyear',\n",
        "       'Is_month_end', 'Is_month_start', 'Is_quarter_end', 'Is_quarter_start',\n",
        "       'Is_year_end', 'Is_year_start',\n",
        "       'email_plus_homepage'] if i in train_df.columns and i in test_df.columns]\n",
        "\n",
        "dep_var = 'num_orders'\n",
        "df = train_df[cat_vars + cont_vars + [dep_var,'Date']].copy()\n",
        "\n",
        "\n",
        "bs = 2**12 # max this out\n",
        "path = Path('.')\n",
        "\n",
        "# create tabular data bunch\n",
        "# validation set will be 5000 rows (ordered)\n",
        "# label cls\n",
        "data = (TabularList.from_df(df, cat_names=cat_vars, cont_names=cont_vars, procs=procs)\n",
        "                .split_by_idx(list(range(1000,1000+5000))) \n",
        "                .label_from_df(cols=dep_var, label_cls=FloatList, log = True)\n",
        "                .add_test(TabularList.from_df(test_df, path=path, cat_names=cat_vars, cont_names=cont_vars, procs = procs))\n",
        "                .databunch(bs=bs))\n"
      ],
      "execution_count": null,
      "outputs": []
    },
    {
      "cell_type": "code",
      "metadata": {
        "id": "J6BjYMPABvKI",
        "colab_type": "code",
        "colab": {
          "base_uri": "https://localhost:8080/",
          "height": 221
        },
        "outputId": "739ae81a-f84e-48a5-ba48-716c39931f49"
      },
      "source": [
        "df[dep_var].value_counts()"
      ],
      "execution_count": null,
      "outputs": [
        {
          "output_type": "execute_result",
          "data": {
            "text/plain": [
              "13      12397\n",
              "15      12294\n",
              "14      12270\n",
              "28      11548\n",
              "27      11462\n",
              "        ...  \n",
              "4819        1\n",
              "7262        1\n",
              "6750        1\n",
              "7007        1\n",
              "5629        1\n",
              "Name: num_orders, Length: 1250, dtype: int64"
            ]
          },
          "metadata": {
            "tags": []
          },
          "execution_count": 20
        }
      ]
    },
    {
      "cell_type": "code",
      "metadata": {
        "id": "bi4iVlB8vQ9x",
        "colab_type": "code",
        "colab": {
          "base_uri": "https://localhost:8080/",
          "height": 411
        },
        "outputId": "42de667b-49a5-4023-c208-c9d3b7e152b5"
      },
      "source": [
        "data"
      ],
      "execution_count": null,
      "outputs": [
        {
          "output_type": "execute_result",
          "data": {
            "text/plain": [
              "TabularDataBunch;\n",
              "\n",
              "Train: LabelList (451548 items)\n",
              "x: TabularList\n",
              "week 1; center_id 55; meal_id 1885; emailer_for_promotion 0; homepage_featured 0; category Beverages; cuisine Thai; city_code 647; region_code 56; center_type TYPE_C; op_area 2.0; Year 2018; Month 1; Week 1; Day 1; Dayofweek 0; Dayofyear 1; Is_month_end False; Is_month_start True; Is_quarter_end False; Is_quarter_start True; Is_year_end False; Is_year_start True; email_plus_homepage 0; checkout_price -1.2775; base_price -1.2558; Elapsed -1.7750; price_diff_percent 0.3910; ,week 2; center_id 55; meal_id 1885; emailer_for_promotion 0; homepage_featured 0; category Beverages; cuisine Thai; city_code 647; region_code 56; center_type TYPE_C; op_area 2.0; Year 2018; Month 1; Week 2; Day 8; Dayofweek 0; Dayofyear 8; Is_month_end False; Is_month_start False; Is_quarter_end False; Is_quarter_start False; Is_year_end False; Is_year_start False; email_plus_homepage 0; checkout_price -1.2841; base_price -1.2558; Elapsed -1.7511; price_diff_percent 0.4488; ,week 3; center_id 55; meal_id 1885; emailer_for_promotion 0; homepage_featured 0; category Beverages; cuisine Thai; city_code 647; region_code 56; center_type TYPE_C; op_area 2.0; Year 2018; Month 1; Week 3; Day 15; Dayofweek 0; Dayofyear 15; Is_month_end False; Is_month_start False; Is_quarter_end False; Is_quarter_start False; Is_year_end False; Is_year_start False; email_plus_homepage 0; checkout_price -1.3031; base_price -1.3701; Elapsed -1.7273; price_diff_percent -0.4371; ,week 4; center_id 55; meal_id 1885; emailer_for_promotion 0; homepage_featured 0; category Beverages; cuisine Thai; city_code 647; region_code 56; center_type TYPE_C; op_area 2.0; Year 2018; Month 1; Week 4; Day 22; Dayofweek 0; Dayofyear 22; Is_month_end False; Is_month_start False; Is_quarter_end False; Is_quarter_start False; Is_year_end False; Is_year_start False; email_plus_homepage 0; checkout_price -1.2839; base_price -1.3642; Elapsed -1.7034; price_diff_percent -0.5682; ,week 5; center_id 55; meal_id 1885; emailer_for_promotion 0; homepage_featured 0; category Beverages; cuisine Thai; city_code 647; region_code 56; center_type TYPE_C; op_area 2.0; Year 2018; Month 1; Week 5; Day 29; Dayofweek 0; Dayofyear 29; Is_month_end False; Is_month_start False; Is_quarter_end False; Is_quarter_start False; Is_year_end False; Is_year_start False; email_plus_homepage 0; checkout_price -1.2143; base_price -1.2856; Elapsed -1.6795; price_diff_percent -0.4432; \n",
              "y: FloatList\n",
              "5.17615,5.7776523,4.564348,5.09375,5.370638\n",
              "Path: .;\n",
              "\n",
              "Valid: LabelList (5000 items)\n",
              "x: TabularList\n",
              "week 68; center_id 55; meal_id 1062; emailer_for_promotion 0; homepage_featured 0; category Beverages; cuisine Italian; city_code 647; region_code 56; center_type TYPE_C; op_area 2.0; Year 2019; Month 4; Week 17; Day 22; Dayofweek 0; Dayofyear 112; Is_month_end False; Is_month_start False; Is_quarter_end False; Is_quarter_start False; Is_year_end False; Is_year_start False; email_plus_homepage 0; checkout_price -1.1129; base_price -1.0687; Elapsed -0.1529; price_diff_percent 0.4792; ,week 69; center_id 55; meal_id 1062; emailer_for_promotion 0; homepage_featured 0; category Beverages; cuisine Italian; city_code 647; region_code 56; center_type TYPE_C; op_area 2.0; Year 2019; Month 4; Week 18; Day 29; Dayofweek 0; Dayofyear 119; Is_month_end False; Is_month_start False; Is_quarter_end False; Is_quarter_start False; Is_year_end False; Is_year_start False; email_plus_homepage 0; checkout_price -1.0114; base_price -1.1049; Elapsed -0.1291; price_diff_percent -0.5528; ,week 70; center_id 55; meal_id 1062; emailer_for_promotion 0; homepage_featured 0; category Beverages; cuisine Italian; city_code 647; region_code 56; center_type TYPE_C; op_area 2.0; Year 2019; Month 5; Week 19; Day 6; Dayofweek 0; Dayofyear 126; Is_month_end False; Is_month_start False; Is_quarter_end False; Is_quarter_start False; Is_year_end False; Is_year_start False; email_plus_homepage 0; checkout_price -0.9860; base_price -1.0807; Elapsed -0.1052; price_diff_percent -0.5517; ,week 71; center_id 55; meal_id 1062; emailer_for_promotion 0; homepage_featured 0; category Beverages; cuisine Italian; city_code 647; region_code 56; center_type TYPE_C; op_area 2.0; Year 2019; Month 5; Week 20; Day 13; Dayofweek 0; Dayofyear 133; Is_month_end False; Is_month_start False; Is_quarter_end False; Is_quarter_start False; Is_year_end False; Is_year_start False; email_plus_homepage 0; checkout_price -0.9731; base_price -1.0685; Elapsed -0.0814; price_diff_percent -0.5512; ,week 72; center_id 55; meal_id 1062; emailer_for_promotion 0; homepage_featured 0; category Beverages; cuisine Italian; city_code 647; region_code 56; center_type TYPE_C; op_area 2.0; Year 2019; Month 5; Week 21; Day 20; Dayofweek 0; Dayofyear 140; Is_month_end False; Is_month_start False; Is_quarter_end False; Is_quarter_start False; Is_year_end False; Is_year_start False; email_plus_homepage 0; checkout_price -0.9925; base_price -1.0745; Elapsed -0.0575; price_diff_percent -0.4544; \n",
              "y: FloatList\n",
              "6.0684257,5.6489744,5.497168,5.09375,5.6970935\n",
              "Path: .;\n",
              "\n",
              "Test: LabelList (32573 items)\n",
              "x: TabularList\n",
              "week #na#; center_id 55; meal_id 1885; emailer_for_promotion 0; homepage_featured 0; category Beverages; cuisine Thai; city_code 647; region_code 56; center_type TYPE_C; op_area 2.0; Year 2020; Month 10; Week 43; Day 19; Dayofweek 0; Dayofyear #na#; Is_month_end False; Is_month_start False; Is_quarter_end False; Is_quarter_start False; Is_year_end False; Is_year_start False; email_plus_homepage 0; checkout_price -1.1384; base_price -1.2133; Elapsed 1.7076; price_diff_percent -0.4476; ,week #na#; center_id 55; meal_id 1885; emailer_for_promotion 0; homepage_featured 0; category Beverages; cuisine Thai; city_code 647; region_code 56; center_type TYPE_C; op_area 2.0; Year 2020; Month 10; Week 44; Day 26; Dayofweek 0; Dayofyear #na#; Is_month_end False; Is_month_start False; Is_quarter_end False; Is_quarter_start False; Is_year_end False; Is_year_start False; email_plus_homepage 0; checkout_price -1.1319; base_price -1.2133; Elapsed 1.7315; price_diff_percent -0.5029; ,week #na#; center_id 55; meal_id 1885; emailer_for_promotion 0; homepage_featured 0; category Beverages; cuisine Thai; city_code 647; region_code 56; center_type TYPE_C; op_area 2.0; Year 2020; Month 11; Week 46; Day 9; Dayofweek 0; Dayofyear #na#; Is_month_end False; Is_month_start False; Is_quarter_end False; Is_quarter_start False; Is_year_end False; Is_year_start False; email_plus_homepage 0; checkout_price -1.1448; base_price -1.2194; Elapsed 1.7792; price_diff_percent -0.4472; ,week #na#; center_id 55; meal_id 1885; emailer_for_promotion 0; homepage_featured 0; category Beverages; cuisine Thai; city_code 647; region_code 56; center_type TYPE_C; op_area 2.0; Year 2020; Month 11; Week 47; Day 16; Dayofweek 0; Dayofyear #na#; Is_month_end False; Is_month_start False; Is_quarter_end False; Is_quarter_start False; Is_year_end False; Is_year_start False; email_plus_homepage 0; checkout_price -1.1317; base_price -1.2256; Elapsed 1.8030; price_diff_percent -0.6150; ,week #na#; center_id 55; meal_id 1885; emailer_for_promotion 0; homepage_featured 0; category Beverages; cuisine Thai; city_code 647; region_code 56; center_type TYPE_C; op_area 2.0; Year 2020; Month 11; Week 48; Day 23; Dayofweek 0; Dayofyear #na#; Is_month_end False; Is_month_start False; Is_quarter_end False; Is_quarter_start False; Is_year_end False; Is_year_start False; email_plus_homepage 0; checkout_price -1.1253; base_price -1.2133; Elapsed 1.8269; price_diff_percent -0.5582; \n",
              "y: EmptyLabelList\n",
              ",,,,\n",
              "Path: ."
            ]
          },
          "metadata": {
            "tags": []
          },
          "execution_count": 21
        }
      ]
    },
    {
      "cell_type": "code",
      "metadata": {
        "id": "WrdZu9tuUwDW",
        "colab_type": "code",
        "colab": {
          "base_uri": "https://localhost:8080/",
          "height": 224
        },
        "outputId": "cd2fe830-0d4a-49b3-9850-713e102c5d82"
      },
      "source": [
        "data.show_batch()"
      ],
      "execution_count": null,
      "outputs": [
        {
          "output_type": "display_data",
          "data": {
            "text/html": [
              "<table border=\"1\" class=\"dataframe\">\n",
              "  <thead>\n",
              "    <tr style=\"text-align: right;\">\n",
              "      <th>week</th>\n",
              "      <th>center_id</th>\n",
              "      <th>meal_id</th>\n",
              "      <th>emailer_for_promotion</th>\n",
              "      <th>homepage_featured</th>\n",
              "      <th>category</th>\n",
              "      <th>cuisine</th>\n",
              "      <th>city_code</th>\n",
              "      <th>region_code</th>\n",
              "      <th>center_type</th>\n",
              "      <th>op_area</th>\n",
              "      <th>Year</th>\n",
              "      <th>Month</th>\n",
              "      <th>Week</th>\n",
              "      <th>Day</th>\n",
              "      <th>Dayofweek</th>\n",
              "      <th>Dayofyear</th>\n",
              "      <th>Is_month_end</th>\n",
              "      <th>Is_month_start</th>\n",
              "      <th>Is_quarter_end</th>\n",
              "      <th>Is_quarter_start</th>\n",
              "      <th>Is_year_end</th>\n",
              "      <th>Is_year_start</th>\n",
              "      <th>email_plus_homepage</th>\n",
              "      <th>checkout_price</th>\n",
              "      <th>base_price</th>\n",
              "      <th>Elapsed</th>\n",
              "      <th>price_diff_percent</th>\n",
              "      <th>target</th>\n",
              "    </tr>\n",
              "  </thead>\n",
              "  <tbody>\n",
              "    <tr>\n",
              "      <td>3</td>\n",
              "      <td>174</td>\n",
              "      <td>1803</td>\n",
              "      <td>0</td>\n",
              "      <td>0</td>\n",
              "      <td>Extras</td>\n",
              "      <td>Thai</td>\n",
              "      <td>700</td>\n",
              "      <td>56</td>\n",
              "      <td>TYPE_A</td>\n",
              "      <td>7.0</td>\n",
              "      <td>2018</td>\n",
              "      <td>1</td>\n",
              "      <td>3</td>\n",
              "      <td>15</td>\n",
              "      <td>0</td>\n",
              "      <td>15</td>\n",
              "      <td>False</td>\n",
              "      <td>False</td>\n",
              "      <td>False</td>\n",
              "      <td>False</td>\n",
              "      <td>False</td>\n",
              "      <td>False</td>\n",
              "      <td>0</td>\n",
              "      <td>-0.8780</td>\n",
              "      <td>-0.9842</td>\n",
              "      <td>-1.7273</td>\n",
              "      <td>-0.5928</td>\n",
              "      <td>5.17615</td>\n",
              "    </tr>\n",
              "    <tr>\n",
              "      <td>125</td>\n",
              "      <td>124</td>\n",
              "      <td>2306</td>\n",
              "      <td>0</td>\n",
              "      <td>0</td>\n",
              "      <td>Pasta</td>\n",
              "      <td>Italian</td>\n",
              "      <td>590</td>\n",
              "      <td>56</td>\n",
              "      <td>TYPE_C</td>\n",
              "      <td>4.0</td>\n",
              "      <td>2020</td>\n",
              "      <td>5</td>\n",
              "      <td>22</td>\n",
              "      <td>25</td>\n",
              "      <td>0</td>\n",
              "      <td>146</td>\n",
              "      <td>False</td>\n",
              "      <td>False</td>\n",
              "      <td>False</td>\n",
              "      <td>False</td>\n",
              "      <td>False</td>\n",
              "      <td>False</td>\n",
              "      <td>0</td>\n",
              "      <td>-0.5865</td>\n",
              "      <td>-0.1150</td>\n",
              "      <td>1.2067</td>\n",
              "      <td>1.9394</td>\n",
              "      <td>3.295837</td>\n",
              "    </tr>\n",
              "    <tr>\n",
              "      <td>32</td>\n",
              "      <td>152</td>\n",
              "      <td>2581</td>\n",
              "      <td>0</td>\n",
              "      <td>0</td>\n",
              "      <td>Pizza</td>\n",
              "      <td>Continental</td>\n",
              "      <td>576</td>\n",
              "      <td>34</td>\n",
              "      <td>TYPE_B</td>\n",
              "      <td>4.0</td>\n",
              "      <td>2018</td>\n",
              "      <td>8</td>\n",
              "      <td>32</td>\n",
              "      <td>6</td>\n",
              "      <td>0</td>\n",
              "      <td>218</td>\n",
              "      <td>False</td>\n",
              "      <td>False</td>\n",
              "      <td>False</td>\n",
              "      <td>False</td>\n",
              "      <td>False</td>\n",
              "      <td>False</td>\n",
              "      <td>0</td>\n",
              "      <td>2.0138</td>\n",
              "      <td>1.7741</td>\n",
              "      <td>-1.0355</td>\n",
              "      <td>-0.5167</td>\n",
              "      <td>4.9972124</td>\n",
              "    </tr>\n",
              "    <tr>\n",
              "      <td>61</td>\n",
              "      <td>67</td>\n",
              "      <td>1311</td>\n",
              "      <td>0</td>\n",
              "      <td>0</td>\n",
              "      <td>Extras</td>\n",
              "      <td>Thai</td>\n",
              "      <td>638</td>\n",
              "      <td>56</td>\n",
              "      <td>TYPE_B</td>\n",
              "      <td>7.0</td>\n",
              "      <td>2019</td>\n",
              "      <td>3</td>\n",
              "      <td>10</td>\n",
              "      <td>4</td>\n",
              "      <td>0</td>\n",
              "      <td>63</td>\n",
              "      <td>False</td>\n",
              "      <td>False</td>\n",
              "      <td>False</td>\n",
              "      <td>False</td>\n",
              "      <td>False</td>\n",
              "      <td>False</td>\n",
              "      <td>0</td>\n",
              "      <td>-1.3285</td>\n",
              "      <td>-1.1950</td>\n",
              "      <td>-0.3199</td>\n",
              "      <td>1.2908</td>\n",
              "      <td>6.289716</td>\n",
              "    </tr>\n",
              "    <tr>\n",
              "      <td>111</td>\n",
              "      <td>153</td>\n",
              "      <td>1971</td>\n",
              "      <td>0</td>\n",
              "      <td>0</td>\n",
              "      <td>Sandwich</td>\n",
              "      <td>Italian</td>\n",
              "      <td>590</td>\n",
              "      <td>56</td>\n",
              "      <td>TYPE_A</td>\n",
              "      <td>3.9</td>\n",
              "      <td>2020</td>\n",
              "      <td>2</td>\n",
              "      <td>8</td>\n",
              "      <td>17</td>\n",
              "      <td>0</td>\n",
              "      <td>48</td>\n",
              "      <td>False</td>\n",
              "      <td>False</td>\n",
              "      <td>False</td>\n",
              "      <td>False</td>\n",
              "      <td>False</td>\n",
              "      <td>False</td>\n",
              "      <td>0</td>\n",
              "      <td>-0.0666</td>\n",
              "      <td>-0.1995</td>\n",
              "      <td>0.8727</td>\n",
              "      <td>-0.5029</td>\n",
              "      <td>5.09375</td>\n",
              "    </tr>\n",
              "  </tbody>\n",
              "</table>"
            ],
            "text/plain": [
              "<IPython.core.display.HTML object>"
            ]
          },
          "metadata": {
            "tags": []
          }
        }
      ]
    },
    {
      "cell_type": "markdown",
      "metadata": {
        "id": "DabTMn90BvKR",
        "colab_type": "text"
      },
      "source": [
        "## Model"
      ]
    },
    {
      "cell_type": "code",
      "metadata": {
        "id": "9obr3MiTBvKS",
        "colab_type": "code",
        "colab": {}
      },
      "source": [
        "max_log_y = np.log(np.max(train_df[dep_var])*1.2)\n",
        "y_range = torch.tensor([0, max_log_y], device=defaults.device)"
      ],
      "execution_count": null,
      "outputs": []
    },
    {
      "cell_type": "code",
      "metadata": {
        "id": "EkfPbvuFiYRh",
        "colab_type": "code",
        "colab": {
          "base_uri": "https://localhost:8080/",
          "height": 408
        },
        "outputId": "a5c01148-0e01-4b00-8a82-cbe7afc29654"
      },
      "source": [
        "# emb_szs={'native-country': 10}\n",
        "min_size = 50\n",
        "emb_szs = {cat_vars[i]:min(len(df[cat_vars[i]].value_counts().index)//2, min_size) for i in range(1, len(cat_vars))}\n",
        "emb_szs"
      ],
      "execution_count": null,
      "outputs": [
        {
          "output_type": "execute_result",
          "data": {
            "text/plain": [
              "{'Day': 15,\n",
              " 'Dayofweek': 0,\n",
              " 'Dayofyear': 50,\n",
              " 'Is_month_end': 1,\n",
              " 'Is_month_start': 1,\n",
              " 'Is_quarter_end': 1,\n",
              " 'Is_quarter_start': 1,\n",
              " 'Is_year_end': 1,\n",
              " 'Is_year_start': 1,\n",
              " 'Month': 6,\n",
              " 'Week': 26,\n",
              " 'Year': 1,\n",
              " 'category': 7,\n",
              " 'center_id': 38,\n",
              " 'center_type': 1,\n",
              " 'city_code': 25,\n",
              " 'cuisine': 2,\n",
              " 'email_plus_homepage': 1,\n",
              " 'emailer_for_promotion': 1,\n",
              " 'homepage_featured': 1,\n",
              " 'meal_id': 25,\n",
              " 'op_area': 15,\n",
              " 'region_code': 4}"
            ]
          },
          "metadata": {
            "tags": []
          },
          "execution_count": 24
        }
      ]
    },
    {
      "cell_type": "code",
      "metadata": {
        "id": "BrVz6oUIfSUW",
        "colab_type": "code",
        "colab": {}
      },
      "source": [
        "def get_learner(emb_szs=emb_szs, layers=[1000,500], ps=[0.02,0.04], emb_drop=0.08):\n",
        "\n",
        "  return (tabular_learner(data,\n",
        "                          layers=layers,\n",
        "                          ps=ps,\n",
        "                          emb_drop=emb_drop,\n",
        "                          y_range=y_range,\n",
        "                          emb_szs=emb_szs,\n",
        "                          metrics=exp_rmspe))"
      ],
      "execution_count": null,
      "outputs": []
    },
    {
      "cell_type": "code",
      "metadata": {
        "id": "RF7VbP77fTf-",
        "colab_type": "code",
        "colab": {}
      },
      "source": [
        "learn = get_learner(emb_szs=emb_szs, layers = [1000,500], ps = [0.2,0.4], emb_drop = 0.04)"
      ],
      "execution_count": null,
      "outputs": []
    },
    {
      "cell_type": "code",
      "metadata": {
        "id": "sMGe-4Lf3hB7",
        "colab_type": "code",
        "colab": {}
      },
      "source": [
        "from google.colab import files\n",
        "\n",
        "def copy_to_drive():\n",
        "\n",
        "  learn.export()\n",
        "  model_path = learn.path/'export.pkl'\n",
        "\n",
        "  # if in colab copy to drive\n",
        "  if (IN_COLAB):\n",
        "  \n",
        "    !mkdir /content/drive/\"My Drive\"/food_demand_pred\n",
        "    !cp $model_path /content/drive/\"My Drive\"/food_demand_pred/"
      ],
      "execution_count": null,
      "outputs": []
    },
    {
      "cell_type": "code",
      "metadata": {
        "id": "cC9UAs14BvKX",
        "colab_type": "code",
        "colab": {
          "base_uri": "https://localhost:8080/",
          "height": 714
        },
        "outputId": "f9d2922a-1877-4b88-a41c-be2de03e863b"
      },
      "source": [
        "learn.model"
      ],
      "execution_count": null,
      "outputs": [
        {
          "output_type": "execute_result",
          "data": {
            "text/plain": [
              "TabularModel(\n",
              "  (embeds): ModuleList(\n",
              "    (0): Embedding(146, 26)\n",
              "    (1): Embedding(78, 38)\n",
              "    (2): Embedding(52, 25)\n",
              "    (3): Embedding(3, 1)\n",
              "    (4): Embedding(3, 1)\n",
              "    (5): Embedding(15, 7)\n",
              "    (6): Embedding(5, 2)\n",
              "    (7): Embedding(52, 25)\n",
              "    (8): Embedding(9, 4)\n",
              "    (9): Embedding(4, 1)\n",
              "    (10): Embedding(31, 15)\n",
              "    (11): Embedding(4, 1)\n",
              "    (12): Embedding(13, 6)\n",
              "    (13): Embedding(53, 26)\n",
              "    (14): Embedding(32, 15)\n",
              "    (15): Embedding(2, 0)\n",
              "    (16): Embedding(146, 50)\n",
              "    (17): Embedding(3, 1)\n",
              "    (18): Embedding(3, 1)\n",
              "    (19): Embedding(3, 1)\n",
              "    (20): Embedding(3, 1)\n",
              "    (21): Embedding(3, 1)\n",
              "    (22): Embedding(3, 1)\n",
              "    (23): Embedding(4, 1)\n",
              "  )\n",
              "  (emb_drop): Dropout(p=0.04, inplace=False)\n",
              "  (bn_cont): BatchNorm1d(4, eps=1e-05, momentum=0.1, affine=True, track_running_stats=True)\n",
              "  (layers): Sequential(\n",
              "    (0): Linear(in_features=254, out_features=1000, bias=True)\n",
              "    (1): ReLU(inplace=True)\n",
              "    (2): BatchNorm1d(1000, eps=1e-05, momentum=0.1, affine=True, track_running_stats=True)\n",
              "    (3): Dropout(p=0.2, inplace=False)\n",
              "    (4): Linear(in_features=1000, out_features=500, bias=True)\n",
              "    (5): ReLU(inplace=True)\n",
              "    (6): BatchNorm1d(500, eps=1e-05, momentum=0.1, affine=True, track_running_stats=True)\n",
              "    (7): Dropout(p=0.4, inplace=False)\n",
              "    (8): Linear(in_features=500, out_features=1, bias=True)\n",
              "  )\n",
              ")"
            ]
          },
          "metadata": {
            "tags": []
          },
          "execution_count": 28
        }
      ]
    },
    {
      "cell_type": "markdown",
      "metadata": {
        "colab_type": "text",
        "id": "hYA_YudnYaov"
      },
      "source": [
        "## Targetted Gridsearch\n",
        "\n",
        "Results saved to a file called `data.json` in the same directory. "
      ]
    },
    {
      "cell_type": "code",
      "metadata": {
        "colab_type": "code",
        "id": "ognq1p6dYaow",
        "colab": {}
      },
      "source": [
        "# this will take a long time (~45 mins)\n",
        "\n",
        "from itertools import product\n",
        "from tqdm.notebook import tqdm\n",
        "\n",
        "lrs = []\n",
        "losses = []\n",
        "wds = []\n",
        "ps = []\n",
        "emb_drops = []\n",
        "layers = []\n",
        "iter_count = 600\n",
        "curr_wd = 1e-3\n",
        "layers = [1000,500]\n",
        "# layers = [500,250]\n",
        "ps = [0.002,0.02]\n",
        "emb_drop = 0.04\n",
        "min_loss = 1000\n",
        "\n",
        "params = {\n",
        "    'wd':[i for i in np.linspace(0,1,11)],\n",
        "    'ps':[[0.002,0.02], [0.02,0.2]],\n",
        "    'emb_drop': [0.04, 0.06, 0.08, 0.1],\n",
        "    'layers': [[1000, 500], [500, 250], [250, 125], [200, 100], [100, 50], [50, 25]]\n",
        "}\n",
        "\n",
        "parameter_combinations = []\n",
        "\n",
        "for i in tqdm(list(product(*params.values()))):\n",
        "\n",
        "  curr_wd = i[0]\n",
        "  curr_ps = i[1]\n",
        "  curr_emb_drop = i[2]\n",
        "  curr_layers = i[3]\n",
        "\n",
        "  print(\"curr_wd = {}\\ncurr_ps = {}\\ncurr_emb_drop = {}\\ncurr_layers = {}\\n\".format(i[0], i[1], i[2], i[3]))\n",
        "\n",
        "  learner = get_learner(emb_szs=emb_szs, layers = curr_layers, ps = curr_ps, emb_drop = curr_emb_drop) \n",
        "\n",
        "  learner.lr_find(wd=curr_wd, num_it=15)\n",
        "\n",
        "  curr_lowest_loss = min(learner.recorder.losses)\n",
        "\n",
        "  if (curr_lowest_loss<min_loss):\n",
        "\n",
        "    min_loss = curr_lowest_loss\n",
        "\n",
        "    wds.append(curr_wd)\n",
        "    layers.append(curr_layers)\n",
        "    emb_drops.append(curr_emb_drop)\n",
        "    ps.append(curr_ps)\n",
        "    lrs.append(learner.recorder.lrs)\n",
        "    losses.append(learner.recorder.losses)\n",
        "\n",
        "    combination = [dict(curr_wd=curr_wd, curr_layers=curr_layers, curr_emb_drop=curr_emb_drop,\\\n",
        "                        curr_ps=curr_ps, min_loss=min_loss.item())]\n",
        "\n",
        "    parameter_combinations += combination\n"
      ],
      "execution_count": null,
      "outputs": []
    },
    {
      "cell_type": "code",
      "metadata": {
        "id": "vptPu4joHr-l",
        "colab_type": "code",
        "colab": {}
      },
      "source": [
        "import json\n",
        "with open('data.json', 'w') as fp:\n",
        "    json.dump(parameter_combinations, fp)"
      ],
      "execution_count": null,
      "outputs": []
    },
    {
      "cell_type": "code",
      "metadata": {
        "colab_type": "code",
        "id": "S4w1Xk1gYaoz",
        "colab": {}
      },
      "source": [
        "from matplotlib import rcParams, cycler\n",
        "\n",
        "N = len(parameter_combinations)\n",
        "cmap = plt.cm.coolwarm\n",
        "rcParams['axes.prop_cycle'] = cycler(color=cmap(np.linspace(0, 1, N)))\n",
        "\n",
        "_, axes = plt.subplots(1,1, figsize = (10,10))\n",
        "min_y = 0.5\n",
        "max_y = 3\n",
        "for i in range(len(losses)):\n",
        "  axes.plot(lrs[i], losses[i])\n",
        "  min_y = min(np.asarray(losses[i]).min(), min_y)\n",
        "axes.set_ylabel(\"Loss\")\n",
        "axes.set_xlabel(\"Learning Rate\")\n",
        "axes.set_xscale('log')\n",
        "axes.set_xlim((1e-3,1e-1*10))\n",
        "axes.set_ylim((min_y - 0.02,max_y))\n",
        "\n",
        "\n",
        "\n",
        "axes.legend(layers)\n",
        "\n",
        "legend = axes.legend(wds, loc='upper right')\n",
        "axes.add_artist(legend)\n",
        "\n",
        "legend = axes.legend(ps, loc='upper left')\n",
        "axes.add_artist(legend)\n",
        "\n",
        "\n",
        "legend = axes.legend(parameter_combinations, loc='upper left')\n",
        "axes.add_artist(legend)\n",
        "\n",
        "axes.xaxis.set_major_formatter(plt.FormatStrFormatter('%.0e'))\n"
      ],
      "execution_count": null,
      "outputs": []
    },
    {
      "cell_type": "markdown",
      "metadata": {
        "id": "QAShJpYig_JX",
        "colab_type": "text"
      },
      "source": [
        "## Training"
      ]
    },
    {
      "cell_type": "markdown",
      "metadata": {
        "id": "SCQdLbt05imo",
        "colab_type": "text"
      },
      "source": [
        "### main training"
      ]
    },
    {
      "cell_type": "code",
      "metadata": {
        "id": "dTjPrIHpBvKj",
        "colab_type": "code",
        "colab": {}
      },
      "source": [
        "learn.lr_find()\n",
        "learn.recorder.plot()\n",
        "learn.recorder.plot(suggestion=True)"
      ],
      "execution_count": null,
      "outputs": []
    },
    {
      "cell_type": "code",
      "metadata": {
        "id": "rlv-vZm4GEO4",
        "colab_type": "code",
        "colab": {
          "base_uri": "https://localhost:8080/",
          "height": 34
        },
        "outputId": "519f0e21-7c7b-498e-a058-233f675a4cdd"
      },
      "source": [
        "lr = 1e-2\n",
        "lr"
      ],
      "execution_count": null,
      "outputs": [
        {
          "output_type": "execute_result",
          "data": {
            "text/plain": [
              "0.01"
            ]
          },
          "metadata": {
            "tags": []
          },
          "execution_count": 30
        }
      ]
    },
    {
      "cell_type": "code",
      "metadata": {
        "id": "-y_Tr96kNg-Q",
        "colab_type": "code",
        "colab": {}
      },
      "source": [
        "learner = get_learner(emb_szs=emb_szs, layers = [1000, 500], ps = [0.02,0.2], emb_drop = 0.08) "
      ],
      "execution_count": null,
      "outputs": []
    },
    {
      "cell_type": "code",
      "metadata": {
        "id": "vLiB5oXfInsK",
        "colab_type": "code",
        "colab": {
          "base_uri": "https://localhost:8080/",
          "height": 204
        },
        "outputId": "96e1e398-7c6d-4066-a408-fa563e988e9f"
      },
      "source": [
        "learn.fit_one_cycle(5, lr, wd = 0.6)"
      ],
      "execution_count": null,
      "outputs": [
        {
          "output_type": "display_data",
          "data": {
            "text/html": [
              "<table border=\"1\" class=\"dataframe\">\n",
              "  <thead>\n",
              "    <tr style=\"text-align: left;\">\n",
              "      <th>epoch</th>\n",
              "      <th>train_loss</th>\n",
              "      <th>valid_loss</th>\n",
              "      <th>exp_rmspe</th>\n",
              "      <th>time</th>\n",
              "    </tr>\n",
              "  </thead>\n",
              "  <tbody>\n",
              "    <tr>\n",
              "      <td>0</td>\n",
              "      <td>0.794834</td>\n",
              "      <td>0.527638</td>\n",
              "      <td>1.394083</td>\n",
              "      <td>00:40</td>\n",
              "    </tr>\n",
              "    <tr>\n",
              "      <td>1</td>\n",
              "      <td>0.337046</td>\n",
              "      <td>0.393367</td>\n",
              "      <td>1.015117</td>\n",
              "      <td>00:38</td>\n",
              "    </tr>\n",
              "    <tr>\n",
              "      <td>2</td>\n",
              "      <td>0.269606</td>\n",
              "      <td>0.340642</td>\n",
              "      <td>0.889653</td>\n",
              "      <td>00:39</td>\n",
              "    </tr>\n",
              "    <tr>\n",
              "      <td>3</td>\n",
              "      <td>0.246331</td>\n",
              "      <td>0.319316</td>\n",
              "      <td>0.967042</td>\n",
              "      <td>00:39</td>\n",
              "    </tr>\n",
              "    <tr>\n",
              "      <td>4</td>\n",
              "      <td>0.225082</td>\n",
              "      <td>0.301406</td>\n",
              "      <td>0.918722</td>\n",
              "      <td>00:39</td>\n",
              "    </tr>\n",
              "  </tbody>\n",
              "</table>"
            ],
            "text/plain": [
              "<IPython.core.display.HTML object>"
            ]
          },
          "metadata": {
            "tags": []
          }
        }
      ]
    },
    {
      "cell_type": "code",
      "metadata": {
        "id": "164Abn54BvK5",
        "colab_type": "code",
        "colab": {}
      },
      "source": [
        "learn.save('1')"
      ],
      "execution_count": null,
      "outputs": []
    },
    {
      "cell_type": "code",
      "metadata": {
        "id": "9L_KUz8QBvK9",
        "colab_type": "code",
        "colab": {
          "base_uri": "https://localhost:8080/",
          "height": 281
        },
        "outputId": "33848f89-ddc8-4233-f38a-d5cfc59f4c11"
      },
      "source": [
        "learn.load('1')\n",
        "learn.recorder.plot_losses()"
      ],
      "execution_count": null,
      "outputs": [
        {
          "output_type": "display_data",
          "data": {
            "image/png": "[encoded data removed]",
            "text/plain": [
              "<Figure size 432x288 with 1 Axes>"
            ]
          },
          "metadata": {
            "tags": [],
            "needs_background": "light"
          }
        }
      ]
    },
    {
      "cell_type": "code",
      "metadata": {
        "id": "y_6yoDmzeTGG",
        "colab_type": "code",
        "colab": {}
      },
      "source": [
        "lr = 1e-2"
      ],
      "execution_count": null,
      "outputs": []
    },
    {
      "cell_type": "code",
      "metadata": {
        "id": "Y4CwMsiOBvLQ",
        "colab_type": "code",
        "colab": {
          "base_uri": "https://localhost:8080/",
          "height": 204
        },
        "outputId": "7660d940-0748-494b-9b41-f2f35d4048df"
      },
      "source": [
        "learn.fit_one_cycle(5, lr, wd = 0.6)"
      ],
      "execution_count": null,
      "outputs": [
        {
          "output_type": "display_data",
          "data": {
            "text/html": [
              "<table border=\"1\" class=\"dataframe\">\n",
              "  <thead>\n",
              "    <tr style=\"text-align: left;\">\n",
              "      <th>epoch</th>\n",
              "      <th>train_loss</th>\n",
              "      <th>valid_loss</th>\n",
              "      <th>exp_rmspe</th>\n",
              "      <th>time</th>\n",
              "    </tr>\n",
              "  </thead>\n",
              "  <tbody>\n",
              "    <tr>\n",
              "      <td>0</td>\n",
              "      <td>0.242569</td>\n",
              "      <td>0.430389</td>\n",
              "      <td>1.384022</td>\n",
              "      <td>00:39</td>\n",
              "    </tr>\n",
              "    <tr>\n",
              "      <td>1</td>\n",
              "      <td>0.259906</td>\n",
              "      <td>0.392157</td>\n",
              "      <td>0.942048</td>\n",
              "      <td>00:39</td>\n",
              "    </tr>\n",
              "    <tr>\n",
              "      <td>2</td>\n",
              "      <td>0.250479</td>\n",
              "      <td>0.312155</td>\n",
              "      <td>0.848800</td>\n",
              "      <td>00:39</td>\n",
              "    </tr>\n",
              "    <tr>\n",
              "      <td>3</td>\n",
              "      <td>0.233924</td>\n",
              "      <td>0.288306</td>\n",
              "      <td>0.843052</td>\n",
              "      <td>00:39</td>\n",
              "    </tr>\n",
              "    <tr>\n",
              "      <td>4</td>\n",
              "      <td>0.216123</td>\n",
              "      <td>0.288398</td>\n",
              "      <td>0.872830</td>\n",
              "      <td>00:39</td>\n",
              "    </tr>\n",
              "  </tbody>\n",
              "</table>"
            ],
            "text/plain": [
              "<IPython.core.display.HTML object>"
            ]
          },
          "metadata": {
            "tags": []
          }
        }
      ]
    },
    {
      "cell_type": "code",
      "metadata": {
        "id": "H30nvQHPZgGD",
        "colab_type": "code",
        "colab": {}
      },
      "source": [
        "learn.save('2')"
      ],
      "execution_count": null,
      "outputs": []
    },
    {
      "cell_type": "code",
      "metadata": {
        "id": "w3vc_viyaRUW",
        "colab_type": "code",
        "colab": {
          "base_uri": "https://localhost:8080/",
          "height": 279
        },
        "outputId": "b60f0e15-9b6c-44d1-af2a-d11e08cc14ef"
      },
      "source": [
        "learn.load('2')\n",
        "learn.recorder.plot_losses()"
      ],
      "execution_count": null,
      "outputs": [
        {
          "output_type": "display_data",
          "data": {
            "image/png": "[encoded data removed]",
            "text/plain": [
              "<Figure size 432x288 with 1 Axes>"
            ]
          },
          "metadata": {
            "tags": [],
            "needs_background": "light"
          }
        }
      ]
    },
    {
      "cell_type": "code",
      "metadata": {
        "id": "NEViiblY8ANm",
        "colab_type": "code",
        "colab": {}
      },
      "source": [
        "lr = 1e-4"
      ],
      "execution_count": null,
      "outputs": []
    },
    {
      "cell_type": "code",
      "metadata": {
        "id": "HLjnSJczZ3_U",
        "colab_type": "code",
        "colab": {
          "base_uri": "https://localhost:8080/",
          "height": 204
        },
        "outputId": "4fbbabe9-0ea4-4cdd-bf1b-70ab0a6e3791"
      },
      "source": [
        "learn.fit_one_cycle(5, lr)"
      ],
      "execution_count": null,
      "outputs": [
        {
          "output_type": "display_data",
          "data": {
            "text/html": [
              "<table border=\"1\" class=\"dataframe\">\n",
              "  <thead>\n",
              "    <tr style=\"text-align: left;\">\n",
              "      <th>epoch</th>\n",
              "      <th>train_loss</th>\n",
              "      <th>valid_loss</th>\n",
              "      <th>exp_rmspe</th>\n",
              "      <th>time</th>\n",
              "    </tr>\n",
              "  </thead>\n",
              "  <tbody>\n",
              "    <tr>\n",
              "      <td>0</td>\n",
              "      <td>0.208563</td>\n",
              "      <td>0.287762</td>\n",
              "      <td>0.878464</td>\n",
              "      <td>00:40</td>\n",
              "    </tr>\n",
              "    <tr>\n",
              "      <td>1</td>\n",
              "      <td>0.208334</td>\n",
              "      <td>0.287900</td>\n",
              "      <td>0.879273</td>\n",
              "      <td>00:40</td>\n",
              "    </tr>\n",
              "    <tr>\n",
              "      <td>2</td>\n",
              "      <td>0.206633</td>\n",
              "      <td>0.288176</td>\n",
              "      <td>0.891041</td>\n",
              "      <td>00:40</td>\n",
              "    </tr>\n",
              "    <tr>\n",
              "      <td>3</td>\n",
              "      <td>0.205744</td>\n",
              "      <td>0.286725</td>\n",
              "      <td>0.885953</td>\n",
              "      <td>00:39</td>\n",
              "    </tr>\n",
              "    <tr>\n",
              "      <td>4</td>\n",
              "      <td>0.205233</td>\n",
              "      <td>0.286854</td>\n",
              "      <td>0.887262</td>\n",
              "      <td>00:39</td>\n",
              "    </tr>\n",
              "  </tbody>\n",
              "</table>"
            ],
            "text/plain": [
              "<IPython.core.display.HTML object>"
            ]
          },
          "metadata": {
            "tags": []
          }
        }
      ]
    },
    {
      "cell_type": "code",
      "metadata": {
        "id": "F_Ts_vZUbNNf",
        "colab_type": "code",
        "colab": {}
      },
      "source": [
        "learn.save('3')"
      ],
      "execution_count": null,
      "outputs": []
    },
    {
      "cell_type": "code",
      "metadata": {
        "id": "Bw7ZmCczbLiS",
        "colab_type": "code",
        "colab": {
          "base_uri": "https://localhost:8080/",
          "height": 576
        },
        "outputId": "81b7450c-7f72-40d8-ea82-037ece39eb61"
      },
      "source": [
        "learn.load('3')\n",
        "learn.recorder.plot_losses()"
      ],
      "execution_count": null,
      "outputs": [
        {
          "output_type": "error",
          "ename": "AttributeError",
          "evalue": "ignored",
          "traceback": [
            "\u001b[0;31m---------------------------------------------------------------------------\u001b[0m",
            "\u001b[0;31mAttributeError\u001b[0m                            Traceback (most recent call last)",
            "\u001b[0;32m<ipython-input-47-ed549bb60d53>\u001b[0m in \u001b[0;36m<module>\u001b[0;34m()\u001b[0m\n\u001b[1;32m      1\u001b[0m \u001b[0mlearn\u001b[0m\u001b[0;34m.\u001b[0m\u001b[0mload\u001b[0m\u001b[0;34m(\u001b[0m\u001b[0;34m'3'\u001b[0m\u001b[0;34m)\u001b[0m\u001b[0;34m\u001b[0m\u001b[0;34m\u001b[0m\u001b[0m\n\u001b[0;32m----> 2\u001b[0;31m \u001b[0mlearn\u001b[0m\u001b[0;34m.\u001b[0m\u001b[0mrecorder\u001b[0m\u001b[0;34m.\u001b[0m\u001b[0mplot_losses\u001b[0m\u001b[0;34m(\u001b[0m\u001b[0;34m)\u001b[0m\u001b[0;34m\u001b[0m\u001b[0;34m\u001b[0m\u001b[0m\n\u001b[0m",
            "\u001b[0;32m/usr/local/lib/python3.6/dist-packages/fastai/basic_train.py\u001b[0m in \u001b[0;36mplot_losses\u001b[0;34m(self, skip_start, skip_end, return_fig, show_grid)\u001b[0m\n\u001b[1;32m    568\u001b[0m         \u001b[0;34m\"Plot training and validation losses.\"\u001b[0m\u001b[0;34m\u001b[0m\u001b[0;34m\u001b[0m\u001b[0m\n\u001b[1;32m    569\u001b[0m         \u001b[0mfig\u001b[0m\u001b[0;34m,\u001b[0m \u001b[0max\u001b[0m \u001b[0;34m=\u001b[0m \u001b[0mplt\u001b[0m\u001b[0;34m.\u001b[0m\u001b[0msubplots\u001b[0m\u001b[0;34m(\u001b[0m\u001b[0;36m1\u001b[0m\u001b[0;34m,\u001b[0m\u001b[0;36m1\u001b[0m\u001b[0;34m)\u001b[0m\u001b[0;34m\u001b[0m\u001b[0;34m\u001b[0m\u001b[0m\n\u001b[0;32m--> 570\u001b[0;31m         \u001b[0mlosses\u001b[0m \u001b[0;34m=\u001b[0m \u001b[0mself\u001b[0m\u001b[0;34m.\u001b[0m\u001b[0m_split_list\u001b[0m\u001b[0;34m(\u001b[0m\u001b[0mself\u001b[0m\u001b[0;34m.\u001b[0m\u001b[0mlosses\u001b[0m\u001b[0;34m,\u001b[0m \u001b[0mskip_start\u001b[0m\u001b[0;34m,\u001b[0m \u001b[0mskip_end\u001b[0m\u001b[0;34m)\u001b[0m\u001b[0;34m\u001b[0m\u001b[0;34m\u001b[0m\u001b[0m\n\u001b[0m\u001b[1;32m    571\u001b[0m         \u001b[0miterations\u001b[0m \u001b[0;34m=\u001b[0m \u001b[0mself\u001b[0m\u001b[0;34m.\u001b[0m\u001b[0m_split_list\u001b[0m\u001b[0;34m(\u001b[0m\u001b[0mrange_of\u001b[0m\u001b[0;34m(\u001b[0m\u001b[0mself\u001b[0m\u001b[0;34m.\u001b[0m\u001b[0mlosses\u001b[0m\u001b[0;34m)\u001b[0m\u001b[0;34m,\u001b[0m \u001b[0mskip_start\u001b[0m\u001b[0;34m,\u001b[0m \u001b[0mskip_end\u001b[0m\u001b[0;34m)\u001b[0m\u001b[0;34m\u001b[0m\u001b[0;34m\u001b[0m\u001b[0m\n\u001b[1;32m    572\u001b[0m         \u001b[0max\u001b[0m\u001b[0;34m.\u001b[0m\u001b[0mplot\u001b[0m\u001b[0;34m(\u001b[0m\u001b[0miterations\u001b[0m\u001b[0;34m,\u001b[0m \u001b[0mlosses\u001b[0m\u001b[0;34m,\u001b[0m \u001b[0mlabel\u001b[0m\u001b[0;34m=\u001b[0m\u001b[0;34m'Train'\u001b[0m\u001b[0;34m)\u001b[0m\u001b[0;34m\u001b[0m\u001b[0;34m\u001b[0m\u001b[0m\n",
            "\u001b[0;32m/usr/local/lib/python3.6/dist-packages/fastai/basic_train.py\u001b[0m in \u001b[0;36m__getattr__\u001b[0;34m(self, k)\u001b[0m\n\u001b[1;32m    441\u001b[0m         \u001b[0msetattr\u001b[0m\u001b[0;34m(\u001b[0m\u001b[0mself\u001b[0m\u001b[0;34m.\u001b[0m\u001b[0mlearn\u001b[0m\u001b[0;34m,\u001b[0m \u001b[0mself\u001b[0m\u001b[0;34m.\u001b[0m\u001b[0mcb_name\u001b[0m\u001b[0;34m,\u001b[0m \u001b[0mself\u001b[0m\u001b[0;34m)\u001b[0m\u001b[0;34m\u001b[0m\u001b[0;34m\u001b[0m\u001b[0m\n\u001b[1;32m    442\u001b[0m \u001b[0;34m\u001b[0m\u001b[0m\n\u001b[0;32m--> 443\u001b[0;31m     \u001b[0;32mdef\u001b[0m \u001b[0m__getattr__\u001b[0m\u001b[0;34m(\u001b[0m\u001b[0mself\u001b[0m\u001b[0;34m,\u001b[0m\u001b[0mk\u001b[0m\u001b[0;34m)\u001b[0m\u001b[0;34m:\u001b[0m \u001b[0;32mreturn\u001b[0m \u001b[0mgetattr\u001b[0m\u001b[0;34m(\u001b[0m\u001b[0mself\u001b[0m\u001b[0;34m.\u001b[0m\u001b[0mlearn\u001b[0m\u001b[0;34m,\u001b[0m \u001b[0mk\u001b[0m\u001b[0;34m)\u001b[0m\u001b[0;34m\u001b[0m\u001b[0;34m\u001b[0m\u001b[0m\n\u001b[0m\u001b[1;32m    444\u001b[0m     \u001b[0;32mdef\u001b[0m \u001b[0m__setstate__\u001b[0m\u001b[0;34m(\u001b[0m\u001b[0mself\u001b[0m\u001b[0;34m,\u001b[0m\u001b[0mdata\u001b[0m\u001b[0;34m:\u001b[0m\u001b[0mAny\u001b[0m\u001b[0;34m)\u001b[0m\u001b[0;34m:\u001b[0m \u001b[0mself\u001b[0m\u001b[0;34m.\u001b[0m\u001b[0m__dict__\u001b[0m\u001b[0;34m.\u001b[0m\u001b[0mupdate\u001b[0m\u001b[0;34m(\u001b[0m\u001b[0mdata\u001b[0m\u001b[0;34m)\u001b[0m\u001b[0;34m\u001b[0m\u001b[0;34m\u001b[0m\u001b[0m\n\u001b[1;32m    445\u001b[0m \u001b[0;34m\u001b[0m\u001b[0m\n",
            "\u001b[0;31mAttributeError\u001b[0m: 'Learner' object has no attribute 'losses'"
          ]
        },
        {
          "output_type": "display_data",
          "data": {
            "image/png": "[encoded data removed]",
            "text/plain": [
              "<Figure size 432x288 with 1 Axes>"
            ]
          },
          "metadata": {
            "tags": [],
            "needs_background": "light"
          }
        }
      ]
    },
    {
      "cell_type": "code",
      "metadata": {
        "id": "wPf1lbC48YOQ",
        "colab_type": "code",
        "colab": {}
      },
      "source": [
        "lr = 1e-3"
      ],
      "execution_count": null,
      "outputs": []
    },
    {
      "cell_type": "code",
      "metadata": {
        "id": "cLvAKq4TeBp-",
        "colab_type": "code",
        "colab": {
          "base_uri": "https://localhost:8080/",
          "height": 514
        },
        "outputId": "f6cd0492-bb14-49fc-8f6e-809ca65b6c2a"
      },
      "source": [
        "learn.fit_one_cycle(15, lr)"
      ],
      "execution_count": null,
      "outputs": [
        {
          "output_type": "display_data",
          "data": {
            "text/html": [
              "<table border=\"1\" class=\"dataframe\">\n",
              "  <thead>\n",
              "    <tr style=\"text-align: left;\">\n",
              "      <th>epoch</th>\n",
              "      <th>train_loss</th>\n",
              "      <th>valid_loss</th>\n",
              "      <th>exp_rmspe</th>\n",
              "      <th>time</th>\n",
              "    </tr>\n",
              "  </thead>\n",
              "  <tbody>\n",
              "    <tr>\n",
              "      <td>0</td>\n",
              "      <td>0.205200</td>\n",
              "      <td>0.286195</td>\n",
              "      <td>0.887856</td>\n",
              "      <td>00:40</td>\n",
              "    </tr>\n",
              "    <tr>\n",
              "      <td>1</td>\n",
              "      <td>0.205745</td>\n",
              "      <td>0.294301</td>\n",
              "      <td>0.928834</td>\n",
              "      <td>00:40</td>\n",
              "    </tr>\n",
              "    <tr>\n",
              "      <td>2</td>\n",
              "      <td>0.207058</td>\n",
              "      <td>0.290699</td>\n",
              "      <td>0.906366</td>\n",
              "      <td>00:39</td>\n",
              "    </tr>\n",
              "    <tr>\n",
              "      <td>3</td>\n",
              "      <td>0.207849</td>\n",
              "      <td>0.273724</td>\n",
              "      <td>0.829066</td>\n",
              "      <td>00:39</td>\n",
              "    </tr>\n",
              "    <tr>\n",
              "      <td>4</td>\n",
              "      <td>0.207573</td>\n",
              "      <td>0.276190</td>\n",
              "      <td>0.836388</td>\n",
              "      <td>00:39</td>\n",
              "    </tr>\n",
              "    <tr>\n",
              "      <td>5</td>\n",
              "      <td>0.204099</td>\n",
              "      <td>0.274907</td>\n",
              "      <td>0.842802</td>\n",
              "      <td>00:39</td>\n",
              "    </tr>\n",
              "    <tr>\n",
              "      <td>6</td>\n",
              "      <td>0.202215</td>\n",
              "      <td>0.270555</td>\n",
              "      <td>0.808639</td>\n",
              "      <td>00:39</td>\n",
              "    </tr>\n",
              "    <tr>\n",
              "      <td>7</td>\n",
              "      <td>0.199274</td>\n",
              "      <td>0.286915</td>\n",
              "      <td>0.859098</td>\n",
              "      <td>00:39</td>\n",
              "    </tr>\n",
              "    <tr>\n",
              "      <td>8</td>\n",
              "      <td>0.196542</td>\n",
              "      <td>0.275454</td>\n",
              "      <td>0.863882</td>\n",
              "      <td>00:39</td>\n",
              "    </tr>\n",
              "    <tr>\n",
              "      <td>9</td>\n",
              "      <td>0.193491</td>\n",
              "      <td>0.284747</td>\n",
              "      <td>0.882402</td>\n",
              "      <td>00:40</td>\n",
              "    </tr>\n",
              "    <tr>\n",
              "      <td>10</td>\n",
              "      <td>0.190062</td>\n",
              "      <td>0.288410</td>\n",
              "      <td>0.885366</td>\n",
              "      <td>00:40</td>\n",
              "    </tr>\n",
              "    <tr>\n",
              "      <td>11</td>\n",
              "      <td>0.187192</td>\n",
              "      <td>0.280628</td>\n",
              "      <td>0.885126</td>\n",
              "      <td>00:40</td>\n",
              "    </tr>\n",
              "    <tr>\n",
              "      <td>12</td>\n",
              "      <td>0.185455</td>\n",
              "      <td>0.286963</td>\n",
              "      <td>0.907332</td>\n",
              "      <td>00:40</td>\n",
              "    </tr>\n",
              "    <tr>\n",
              "      <td>13</td>\n",
              "      <td>0.183730</td>\n",
              "      <td>0.283956</td>\n",
              "      <td>0.888748</td>\n",
              "      <td>00:40</td>\n",
              "    </tr>\n",
              "    <tr>\n",
              "      <td>14</td>\n",
              "      <td>0.182402</td>\n",
              "      <td>0.284411</td>\n",
              "      <td>0.893434</td>\n",
              "      <td>00:40</td>\n",
              "    </tr>\n",
              "  </tbody>\n",
              "</table>"
            ],
            "text/plain": [
              "<IPython.core.display.HTML object>"
            ]
          },
          "metadata": {
            "tags": []
          }
        }
      ]
    },
    {
      "cell_type": "code",
      "metadata": {
        "id": "BZPG444z740K",
        "colab_type": "code",
        "colab": {}
      },
      "source": [
        "learn.save('4')"
      ],
      "execution_count": null,
      "outputs": []
    },
    {
      "cell_type": "code",
      "metadata": {
        "id": "Lhk5nAm57snF",
        "colab_type": "code",
        "colab": {
          "base_uri": "https://localhost:8080/",
          "height": 279
        },
        "outputId": "216f6b09-fe3f-462a-aa43-e977629537f6"
      },
      "source": [
        "learn.load('4')\n",
        "learn.recorder.plot_losses()"
      ],
      "execution_count": null,
      "outputs": [
        {
          "output_type": "display_data",
          "data": {
            "image/png": "[encoded data removed]",
            "text/plain": [
              "<Figure size 432x288 with 1 Axes>"
            ]
          },
          "metadata": {
            "tags": [],
            "needs_background": "light"
          }
        }
      ]
    },
    {
      "cell_type": "code",
      "metadata": {
        "id": "-S4epqDf3cAc",
        "colab_type": "code",
        "colab": {}
      },
      "source": [
        "copy_to_drive()"
      ],
      "execution_count": null,
      "outputs": []
    },
    {
      "cell_type": "markdown",
      "metadata": {
        "id": "Z4nMh4F7-Ct4",
        "colab_type": "text"
      },
      "source": [
        "## Predict"
      ]
    },
    {
      "cell_type": "code",
      "metadata": {
        "id": "jXbGa7mfNyDt",
        "colab_type": "code",
        "colab": {
          "base_uri": "https://localhost:8080/",
          "height": 136
        },
        "outputId": "e3b23cf5-851e-4b07-c83e-a48f6e9c3dcd"
      },
      "source": [
        "test_preds = learn.get_preds(DatasetType.Test)\n",
        "test_preds"
      ],
      "execution_count": null,
      "outputs": [
        {
          "output_type": "display_data",
          "data": {
            "text/html": [
              ""
            ],
            "text/plain": [
              "<IPython.core.display.HTML object>"
            ]
          },
          "metadata": {
            "tags": []
          }
        },
        {
          "output_type": "execute_result",
          "data": {
            "text/plain": [
              "[tensor([[5.1426],\n",
              "         [5.2189],\n",
              "         [5.2689],\n",
              "         ...,\n",
              "         [3.8276],\n",
              "         [3.7355],\n",
              "         [3.7832]]), tensor([0, 0, 0,  ..., 0, 0, 0])]"
            ]
          },
          "metadata": {
            "tags": []
          },
          "execution_count": 54
        }
      ]
    },
    {
      "cell_type": "code",
      "metadata": {
        "id": "TEqNYveVNd_j",
        "colab_type": "code",
        "colab": {}
      },
      "source": [
        "test_df[\"num_orders\"]=np.exp(test_preds[0].data).numpy().T[0]\n",
        "# test_df[[\"Id\",\"num_orders\"]]=test_df[[\"Id\",\"num_order\"]].astype(\"int\")"
      ],
      "execution_count": null,
      "outputs": []
    },
    {
      "cell_type": "code",
      "metadata": {
        "id": "JkHh0nNpQc94",
        "colab_type": "code",
        "colab": {
          "base_uri": "https://localhost:8080/",
          "height": 309
        },
        "outputId": "342c22df-6d11-46c2-c0d8-e2d06879e745"
      },
      "source": [
        "test_df.head()"
      ],
      "execution_count": null,
      "outputs": [
        {
          "output_type": "execute_result",
          "data": {
            "text/html": [
              "<div>\n",
              "<style scoped>\n",
              "    .dataframe tbody tr th:only-of-type {\n",
              "        vertical-align: middle;\n",
              "    }\n",
              "\n",
              "    .dataframe tbody tr th {\n",
              "        vertical-align: top;\n",
              "    }\n",
              "\n",
              "    .dataframe thead th {\n",
              "        text-align: right;\n",
              "    }\n",
              "</style>\n",
              "<table border=\"1\" class=\"dataframe\">\n",
              "  <thead>\n",
              "    <tr style=\"text-align: right;\">\n",
              "      <th></th>\n",
              "      <th>id</th>\n",
              "      <th>week</th>\n",
              "      <th>center_id</th>\n",
              "      <th>meal_id</th>\n",
              "      <th>checkout_price</th>\n",
              "      <th>base_price</th>\n",
              "      <th>emailer_for_promotion</th>\n",
              "      <th>homepage_featured</th>\n",
              "      <th>Date</th>\n",
              "      <th>category</th>\n",
              "      <th>cuisine</th>\n",
              "      <th>city_code</th>\n",
              "      <th>region_code</th>\n",
              "      <th>center_type</th>\n",
              "      <th>op_area</th>\n",
              "      <th>Year</th>\n",
              "      <th>Month</th>\n",
              "      <th>Week</th>\n",
              "      <th>Day</th>\n",
              "      <th>Dayofweek</th>\n",
              "      <th>Dayofyear</th>\n",
              "      <th>Is_month_end</th>\n",
              "      <th>Is_month_start</th>\n",
              "      <th>Is_quarter_end</th>\n",
              "      <th>Is_quarter_start</th>\n",
              "      <th>Is_year_end</th>\n",
              "      <th>Is_year_start</th>\n",
              "      <th>Elapsed</th>\n",
              "      <th>price_diff_percent</th>\n",
              "      <th>email_plus_homepage</th>\n",
              "      <th>num_orders</th>\n",
              "    </tr>\n",
              "  </thead>\n",
              "  <tbody>\n",
              "    <tr>\n",
              "      <th>0</th>\n",
              "      <td>1028232</td>\n",
              "      <td>146</td>\n",
              "      <td>55</td>\n",
              "      <td>1885</td>\n",
              "      <td>158.11</td>\n",
              "      <td>159.11</td>\n",
              "      <td>0</td>\n",
              "      <td>0</td>\n",
              "      <td>2020-10-19</td>\n",
              "      <td>Beverages</td>\n",
              "      <td>Thai</td>\n",
              "      <td>647</td>\n",
              "      <td>56</td>\n",
              "      <td>TYPE_C</td>\n",
              "      <td>2.0</td>\n",
              "      <td>2020</td>\n",
              "      <td>10</td>\n",
              "      <td>43</td>\n",
              "      <td>19</td>\n",
              "      <td>0</td>\n",
              "      <td>293</td>\n",
              "      <td>False</td>\n",
              "      <td>False</td>\n",
              "      <td>False</td>\n",
              "      <td>False</td>\n",
              "      <td>False</td>\n",
              "      <td>False</td>\n",
              "      <td>1603065600</td>\n",
              "      <td>0.006285</td>\n",
              "      <td>0</td>\n",
              "      <td>171.168045</td>\n",
              "    </tr>\n",
              "    <tr>\n",
              "      <th>1</th>\n",
              "      <td>1262649</td>\n",
              "      <td>147</td>\n",
              "      <td>55</td>\n",
              "      <td>1885</td>\n",
              "      <td>159.11</td>\n",
              "      <td>159.11</td>\n",
              "      <td>0</td>\n",
              "      <td>0</td>\n",
              "      <td>2020-10-26</td>\n",
              "      <td>Beverages</td>\n",
              "      <td>Thai</td>\n",
              "      <td>647</td>\n",
              "      <td>56</td>\n",
              "      <td>TYPE_C</td>\n",
              "      <td>2.0</td>\n",
              "      <td>2020</td>\n",
              "      <td>10</td>\n",
              "      <td>44</td>\n",
              "      <td>26</td>\n",
              "      <td>0</td>\n",
              "      <td>300</td>\n",
              "      <td>False</td>\n",
              "      <td>False</td>\n",
              "      <td>False</td>\n",
              "      <td>False</td>\n",
              "      <td>False</td>\n",
              "      <td>False</td>\n",
              "      <td>1603670400</td>\n",
              "      <td>0.000000</td>\n",
              "      <td>0</td>\n",
              "      <td>184.727646</td>\n",
              "    </tr>\n",
              "    <tr>\n",
              "      <th>2</th>\n",
              "      <td>1453211</td>\n",
              "      <td>149</td>\n",
              "      <td>55</td>\n",
              "      <td>1885</td>\n",
              "      <td>157.14</td>\n",
              "      <td>158.14</td>\n",
              "      <td>0</td>\n",
              "      <td>0</td>\n",
              "      <td>2020-11-09</td>\n",
              "      <td>Beverages</td>\n",
              "      <td>Thai</td>\n",
              "      <td>647</td>\n",
              "      <td>56</td>\n",
              "      <td>TYPE_C</td>\n",
              "      <td>2.0</td>\n",
              "      <td>2020</td>\n",
              "      <td>11</td>\n",
              "      <td>46</td>\n",
              "      <td>9</td>\n",
              "      <td>0</td>\n",
              "      <td>314</td>\n",
              "      <td>False</td>\n",
              "      <td>False</td>\n",
              "      <td>False</td>\n",
              "      <td>False</td>\n",
              "      <td>False</td>\n",
              "      <td>False</td>\n",
              "      <td>1604880000</td>\n",
              "      <td>0.006324</td>\n",
              "      <td>0</td>\n",
              "      <td>194.197388</td>\n",
              "    </tr>\n",
              "    <tr>\n",
              "      <th>3</th>\n",
              "      <td>1262599</td>\n",
              "      <td>150</td>\n",
              "      <td>55</td>\n",
              "      <td>1885</td>\n",
              "      <td>159.14</td>\n",
              "      <td>157.14</td>\n",
              "      <td>0</td>\n",
              "      <td>0</td>\n",
              "      <td>2020-11-16</td>\n",
              "      <td>Beverages</td>\n",
              "      <td>Thai</td>\n",
              "      <td>647</td>\n",
              "      <td>56</td>\n",
              "      <td>TYPE_C</td>\n",
              "      <td>2.0</td>\n",
              "      <td>2020</td>\n",
              "      <td>11</td>\n",
              "      <td>47</td>\n",
              "      <td>16</td>\n",
              "      <td>0</td>\n",
              "      <td>321</td>\n",
              "      <td>False</td>\n",
              "      <td>False</td>\n",
              "      <td>False</td>\n",
              "      <td>False</td>\n",
              "      <td>False</td>\n",
              "      <td>False</td>\n",
              "      <td>1605484800</td>\n",
              "      <td>-0.012728</td>\n",
              "      <td>0</td>\n",
              "      <td>185.959991</td>\n",
              "    </tr>\n",
              "    <tr>\n",
              "      <th>4</th>\n",
              "      <td>1495848</td>\n",
              "      <td>151</td>\n",
              "      <td>55</td>\n",
              "      <td>1885</td>\n",
              "      <td>160.11</td>\n",
              "      <td>159.11</td>\n",
              "      <td>0</td>\n",
              "      <td>0</td>\n",
              "      <td>2020-11-23</td>\n",
              "      <td>Beverages</td>\n",
              "      <td>Thai</td>\n",
              "      <td>647</td>\n",
              "      <td>56</td>\n",
              "      <td>TYPE_C</td>\n",
              "      <td>2.0</td>\n",
              "      <td>2020</td>\n",
              "      <td>11</td>\n",
              "      <td>48</td>\n",
              "      <td>23</td>\n",
              "      <td>0</td>\n",
              "      <td>328</td>\n",
              "      <td>False</td>\n",
              "      <td>False</td>\n",
              "      <td>False</td>\n",
              "      <td>False</td>\n",
              "      <td>False</td>\n",
              "      <td>False</td>\n",
              "      <td>1606089600</td>\n",
              "      <td>-0.006285</td>\n",
              "      <td>0</td>\n",
              "      <td>167.116623</td>\n",
              "    </tr>\n",
              "  </tbody>\n",
              "</table>\n",
              "</div>"
            ],
            "text/plain": [
              "        id  week  ...  email_plus_homepage  num_orders\n",
              "0  1028232   146  ...                    0  171.168045\n",
              "1  1262649   147  ...                    0  184.727646\n",
              "2  1453211   149  ...                    0  194.197388\n",
              "3  1262599   150  ...                    0  185.959991\n",
              "4  1495848   151  ...                    0  167.116623\n",
              "\n",
              "[5 rows x 31 columns]"
            ]
          },
          "metadata": {
            "tags": []
          },
          "execution_count": 56
        }
      ]
    },
    {
      "cell_type": "markdown",
      "metadata": {
        "id": "tmeU6hBqNe2A",
        "colab_type": "text"
      },
      "source": [
        "## To CSV"
      ]
    },
    {
      "cell_type": "code",
      "metadata": {
        "id": "gmPAdJbqBvLb",
        "colab_type": "code",
        "colab": {}
      },
      "source": [
        "test_df[[\"id\",\"num_orders\"]].to_csv(\"mealkit_submission.csv\",index=False)"
      ],
      "execution_count": null,
      "outputs": []
    },
    {
      "cell_type": "code",
      "metadata": {
        "id": "FJkRo8wThPW_",
        "colab_type": "code",
        "colab": {}
      },
      "source": [
        "!mkdir /content/drive/\"My Drive\"/mealkit_nn/\n",
        "!cp /content/mealkit_submission.csv /content/drive/\"My Drive\"/mealkit_nn/"
      ],
      "execution_count": null,
      "outputs": []
    },
    {
      "cell_type": "markdown",
      "metadata": {
        "colab_type": "text",
        "id": "iu30XF6JX5JQ"
      },
      "source": [
        "# Other models"
      ]
    },
    {
      "cell_type": "code",
      "metadata": {
        "colab_type": "code",
        "id": "CwyaclC-X5JR",
        "colab": {
          "base_uri": "https://localhost:8080/",
          "height": 292
        },
        "outputId": "0d81426f-105b-4440-9d83-846df2afd085"
      },
      "source": [
        "!pip install category_encoders"
      ],
      "execution_count": null,
      "outputs": [
        {
          "output_type": "stream",
          "text": [
            "Collecting category_encoders\n",
            "\u001b[?25l  Downloading https://files.pythonhosted.org/packages/44/57/fcef41c248701ee62e8325026b90c432adea35555cbc870aff9cfba23727/category_encoders-2.2.2-py2.py3-none-any.whl (80kB)\n",
            "\r\u001b[K     |████                            | 10kB 28.4MB/s eta 0:00:01\r\u001b[K     |████████▏                       | 20kB 1.7MB/s eta 0:00:01\r\u001b[K     |████████████▏                   | 30kB 2.2MB/s eta 0:00:01\r\u001b[K     |████████████████▎               | 40kB 2.5MB/s eta 0:00:01\r\u001b[K     |████████████████████▎           | 51kB 2.0MB/s eta 0:00:01\r\u001b[K     |████████████████████████▍       | 61kB 2.3MB/s eta 0:00:01\r\u001b[K     |████████████████████████████▍   | 71kB 2.5MB/s eta 0:00:01\r\u001b[K     |████████████████████████████████| 81kB 2.2MB/s \n",
            "\u001b[?25hRequirement already satisfied: scikit-learn>=0.20.0 in /usr/local/lib/python3.6/dist-packages (from category_encoders) (0.22.2.post1)\n",
            "Requirement already satisfied: patsy>=0.5.1 in /usr/local/lib/python3.6/dist-packages (from category_encoders) (0.5.1)\n",
            "Requirement already satisfied: statsmodels>=0.9.0 in /usr/local/lib/python3.6/dist-packages (from category_encoders) (0.10.2)\n",
            "Requirement already satisfied: pandas>=0.21.1 in /usr/local/lib/python3.6/dist-packages (from category_encoders) (1.0.5)\n",
            "Requirement already satisfied: numpy>=1.14.0 in /usr/local/lib/python3.6/dist-packages (from category_encoders) (1.18.5)\n",
            "Requirement already satisfied: scipy>=1.0.0 in /usr/local/lib/python3.6/dist-packages (from category_encoders) (1.4.1)\n",
            "Requirement already satisfied: joblib>=0.11 in /usr/local/lib/python3.6/dist-packages (from scikit-learn>=0.20.0->category_encoders) (0.15.1)\n",
            "Requirement already satisfied: six in /usr/local/lib/python3.6/dist-packages (from patsy>=0.5.1->category_encoders) (1.12.0)\n",
            "Requirement already satisfied: python-dateutil>=2.6.1 in /usr/local/lib/python3.6/dist-packages (from pandas>=0.21.1->category_encoders) (2.8.1)\n",
            "Requirement already satisfied: pytz>=2017.2 in /usr/local/lib/python3.6/dist-packages (from pandas>=0.21.1->category_encoders) (2018.9)\n",
            "Installing collected packages: category-encoders\n",
            "Successfully installed category-encoders-2.2.2\n"
          ],
          "name": "stdout"
        }
      ]
    },
    {
      "cell_type": "code",
      "metadata": {
        "colab_type": "code",
        "id": "B-Q6gazsX5JV",
        "colab": {
          "base_uri": "https://localhost:8080/",
          "height": 71
        },
        "outputId": "f5549fed-5aaa-415c-9c82-c959b5777c18"
      },
      "source": [
        "# inspired by https://www.martinalarcon.org/2018-12-31-b-water-pumps/\n",
        "\n",
        "from category_encoders.binary import BinaryEncoder\n",
        "class convert_tabular_learner_to_df():\n",
        "\n",
        "  def __init__(self, cat_names, tabular_data_bunch):\n",
        "    self.cat_names = cat_names\n",
        "    self.tabular_data_bunch = tabular_data_bunch\n",
        "\n",
        "  def driver(self):\n",
        "\n",
        "    # convert tabular data to dataframe\n",
        "    X_train, y_train = self.list_to_df(self.tabular_data_bunch.train_ds)\n",
        "    X_valid, y_valid = self.list_to_df(self.tabular_data_bunch.valid_ds)\n",
        "\n",
        "    # label encode data\n",
        "    encoder = BinaryEncoder(cols = self.cat_names)\n",
        "    X_train = encoder.fit_transform(X_train)\n",
        "    X_valid = encoder.transform(X_valid)\n",
        "\n",
        "    return X_train, X_valid, y_train, y_valid\n",
        "\n",
        "  def list_to_df(self, tabular_learner):\n",
        "\n",
        "    # create X df\n",
        "    x_vals = np.concatenate([tabular_learner.x.codes, tabular_learner.x.conts], axis=1)\n",
        "    cols = tabular_learner.x.cat_names + tabular_learner.x.cont_names\n",
        "    x_df = pd.DataFrame(data=x_vals, columns=cols)\n",
        "\n",
        "    # reorder cols\n",
        "    x_df = x_df[[c for c in tabular_learner.inner_df.columns if c in cols]]\n",
        "\n",
        "    # create y labels\n",
        "    cols = [i.obj for i in tabular_learner.y]\n",
        "    y_vals = np.array(cols, dtype=\"float64\")\n",
        "\n",
        "    return x_df, y_vals\n"
      ],
      "execution_count": null,
      "outputs": [
        {
          "output_type": "stream",
          "text": [
            "/usr/local/lib/python3.6/dist-packages/statsmodels/tools/_testing.py:19: FutureWarning: pandas.util.testing is deprecated. Use the functions in the public API at pandas.testing instead.\n",
            "  import pandas.util.testing as tm\n"
          ],
          "name": "stderr"
        }
      ]
    },
    {
      "cell_type": "code",
      "metadata": {
        "colab_type": "code",
        "id": "EXa8p4tfX5JZ",
        "colab": {}
      },
      "source": [
        "converter = convert_tabular_learner_to_df(cat_vars, data)\n",
        "X_train, X_valid, y_train, y_valid = converter.driver()"
      ],
      "execution_count": null,
      "outputs": []
    },
    {
      "cell_type": "code",
      "metadata": {
        "colab_type": "code",
        "id": "e9pIPGe0X5Jc",
        "colab": {}
      },
      "source": [
        "# from sklearn.model_selection import train_test_split\n",
        "\n",
        "# X = df.drop('num_orders', axis = 1)\n",
        "# y = df['num_orders']\n",
        "# X_train, X_test, y_train, y_test = train_test_split(X, y, test_size=0.33, random_state=42)"
      ],
      "execution_count": null,
      "outputs": []
    },
    {
      "cell_type": "code",
      "metadata": {
        "colab_type": "code",
        "id": "kEA0fqnlX5Jf",
        "colab": {
          "base_uri": "https://localhost:8080/",
          "height": 34
        },
        "outputId": "0ae5cb8c-54c6-4d77-8440-52e9c94dc97b"
      },
      "source": [
        "y_valid"
      ],
      "execution_count": null,
      "outputs": [
        {
          "output_type": "execute_result",
          "data": {
            "text/plain": [
              "array([6.068426, 5.648974, 5.497168, 5.09375 , ..., 6.838405, 7.114769, 6.238325, 7.276556])"
            ]
          },
          "metadata": {
            "tags": []
          },
          "execution_count": 34
        }
      ]
    },
    {
      "cell_type": "code",
      "metadata": {
        "colab_type": "code",
        "id": "SDk48dzCX5Jh",
        "colab": {
          "base_uri": "https://localhost:8080/",
          "height": 54
        },
        "outputId": "d148a43c-6522-429e-b69b-ec17710eabdf"
      },
      "source": [
        "from sklearn.ensemble import RandomForestRegressor\n",
        "import xgboost as xgb\n",
        "import lightgbm as lgb\n",
        "\n",
        "def rmspe_calc(y_true, y_pred):\n",
        "    # Compute Root Mean Square Percentage Error between two arrays.\n",
        "    return np.sqrt(np.mean(np.square(((y_true - y_pred) / y_true)), axis=0))\n",
        "\n",
        "\n",
        "models = [\n",
        "  xgb.XGBRegressor(),\n",
        "  lgb.LGBMRegressor(),\n",
        "  RandomForestRegressor()\n",
        "]\n",
        "\n",
        "results = pd.DataFrame(columns=[\"Regressor\", \"RMSPE\"])\n",
        "\n",
        "for model in models:\n",
        "\n",
        "  name = model.__class__.__name__\n",
        "  \n",
        "  model.fit(X_train, y_train)\n",
        "\n",
        "  rmspe = rmspe_calc(y_valid, model.predict(X_valid))\n",
        "  \n",
        "  df2 = pd.DataFrame(\n",
        "    {\"Regressor\": name, \\\n",
        "     \"RMSPE\": rmspe*100}, index = [0]\n",
        "  )\n",
        "\n",
        "  results = results.append(df2, ignore_index = True)"
      ],
      "execution_count": null,
      "outputs": [
        {
          "output_type": "stream",
          "text": [
            "[04:29:10] WARNING: /workspace/src/objective/regression_obj.cu:152: reg:linear is now deprecated in favor of reg:squarederror.\n"
          ],
          "name": "stdout"
        }
      ]
    },
    {
      "cell_type": "code",
      "metadata": {
        "colab_type": "code",
        "id": "djq8BUuXX5Jl",
        "colab": {
          "base_uri": "https://localhost:8080/",
          "height": 376
        },
        "outputId": "ade2b84f-cbaa-4f69-cb23-b453f366659d"
      },
      "source": [
        "results = results.append(pd.DataFrame({\"Regressor\": 'Fastai', \"RMSPE\": 0.287369*100}, index = [0]), ignore_index = True)\n",
        "\n",
        "results = results.sort_values('RMSPE', ascending=False)\n",
        "\n",
        "fig, ax = plt.subplots(1,1, figsize=(6,5))\n",
        "ax.barh(results['Regressor'], results['RMSPE'], color=\"g\")\n",
        "ax.tick_params(axis=\"y\", labelsize=14)\n",
        "ax.set_xlabel('RMSPE %', fontsize=14)\n",
        "ax.set_title('Regressor RMSPE', fontsize=20)\n",
        "\n"
      ],
      "execution_count": null,
      "outputs": [
        {
          "output_type": "execute_result",
          "data": {
            "text/plain": [
              "Text(0.5, 1.0, 'Regressor RMSPE')"
            ]
          },
          "metadata": {
            "tags": []
          },
          "execution_count": 82
        },
        {
          "output_type": "display_data",
          "data": {
            "image/png": "[encoded data removed]",
            "text/plain": [
              "<Figure size 432x360 with 1 Axes>"
            ]
          },
          "metadata": {
            "tags": [],
            "needs_background": "light"
          }
        }
      ]
    }
  ]
}