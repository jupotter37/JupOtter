{
 "cells": [
  {
   "cell_type": "markdown",
   "id": "a45960e1",
   "metadata": {},
   "source": [
    "# Deployment to Snowpark Container Service Demo"
   ]
  },
  {
   "cell_type": "markdown",
   "id": "aa7a329a",
   "metadata": {},
   "source": [
    "### Snowflake-ML-Python Installation"
   ]
  },
  {
   "cell_type": "markdown",
   "id": "cb3d7a96",
   "metadata": {},
   "source": [
    "- Please refer to our [landing page](https://docs.snowflake.com/en/developer-guide/snowpark-ml/index) to install `snowflake-ml-python`."
   ]
  },
  {
   "cell_type": "markdown",
   "id": "3b50d774",
   "metadata": {},
   "source": [
    "## Train a model with Snowpark ML API "
   ]
  },
  {
   "cell_type": "code",
   "execution_count": 1,
   "id": "18a75d71",
   "metadata": {},
   "outputs": [],
   "source": [
    "from typing import Tuple\n",
    "from snowflake.ml.modeling import linear_model\n",
    "from sklearn import datasets\n",
    "import pandas as pd\n",
    "import numpy as np\n",
    "\n",
    "def prepare_logistic_model() -> Tuple[linear_model.LogisticRegression, pd.DataFrame]:\n",
    "    iris = datasets.load_iris()\n",
    "    df = pd.DataFrame(data=np.c_[iris[\"data\"], iris[\"target\"]], columns=iris[\"feature_names\"] + [\"target\"])\n",
    "    df.columns = [s.replace(\" (CM)\", \"\").replace(\" \", \"\") for s in df.columns.str.upper()]\n",
    "\n",
    "    input_cols = [\"SEPALLENGTH\", \"SEPALWIDTH\", \"PETALLENGTH\", \"PETALWIDTH\"]\n",
    "    label_cols = \"TARGET\"\n",
    "    output_cols = \"PREDICTED_TARGET\"\n",
    "\n",
    "    estimator = linear_model.LogisticRegression(\n",
    "        input_cols=input_cols, output_cols=output_cols, label_cols=label_cols, random_state=0, max_iter=1000\n",
    "    ).fit(df)\n",
    "\n",
    "    return estimator, df.drop(columns=label_cols).head(10)"
   ]
  },
  {
   "cell_type": "markdown",
   "id": "db6734fa",
   "metadata": {},
   "source": [
    "## Start Snowpark Session"
   ]
  },
  {
   "cell_type": "code",
   "execution_count": 2,
   "id": "58dd3604",
   "metadata": {},
   "outputs": [
    {
     "name": "stderr",
     "output_type": "stream",
     "text": [
      "SnowflakeLoginOptions() is in private preview since 0.2.0. Do not use it in production. \n"
     ]
    }
   ],
   "source": [
    "from snowflake.ml.utils.connection_params import SnowflakeLoginOptions\n",
    "from snowflake.snowpark import Session\n",
    "\n",
    "session = Session.builder.configs(SnowflakeLoginOptions()).create()\n"
   ]
  },
  {
   "cell_type": "code",
   "execution_count": 3,
   "id": "27dfbc42",
   "metadata": {},
   "outputs": [
    {
     "name": "stderr",
     "output_type": "stream",
     "text": [
      "WARNING:snowflake.snowpark:create_model_registry() is in private preview since 0.2.0. Do not use it in production. \n",
      "WARNING:absl:The database SHULIN_DB already exists. Skipping creation.\n",
      "WARNING:absl:The schema SHULIN_DB.SHULIN_SCHEMA already exists. Skipping creation.\n"
     ]
    }
   ],
   "source": [
    "from snowflake.ml.registry import model_registry\n",
    "from snowflake.ml._internal.utils import identifier\n",
    "\n",
    "db = identifier._get_unescaped_name(session.get_current_database())\n",
    "schema = identifier._get_unescaped_name(session.get_current_schema())\n",
    "\n",
    "# will be a no-op if registry already exists\n",
    "model_registry.create_model_registry(session=session, database_name=db, schema_name=schema) \n",
    "registry = model_registry.ModelRegistry(session=session, database_name=db, schema_name=schema)"
   ]
  },
  {
   "cell_type": "markdown",
   "id": "38e0a975",
   "metadata": {},
   "source": [
    "## Register SnowML Model"
   ]
  },
  {
   "cell_type": "code",
   "execution_count": 4,
   "id": "574e7a43",
   "metadata": {},
   "outputs": [
    {
     "name": "stderr",
     "output_type": "stream",
     "text": [
      "WARNING:snowflake.snowpark:ModelRegistry.log_model() is in private preview since 0.2.0. Do not use it in production. \n",
      "WARNING:snowflake.snowpark:ModelRegistry.list_models() is in private preview since 0.2.0. Do not use it in production. \n",
      "/Users/shchen/micromamba/envs/snowml_1.0.12/lib/python3.10/site-packages/snowflake/ml/_internal/env_utils.py:217: UserWarning: Package requirement snowflake-snowpark-python<2,>=1.8.0 specified, while version 1.6.1 is installed. Local version will be ignored to conform to package requirement.\n",
      "  warnings.warn(\n",
      "/Users/shchen/micromamba/envs/snowml_1.0.12/lib/python3.10/site-packages/snowflake/ml/_internal/env_utils.py:217: UserWarning: Package requirement snowflake-snowpark-python<2,>=1.8.0 specified, while version 1.6.1 is installed. Local version will be ignored to conform to package requirement.\n",
      "  warnings.warn(\n"
     ]
    },
    {
     "data": {
      "text/plain": [
       "'\\nIf your model has been logged and you want to reference it, you can use:\\nmodel_ref = model_registry.ModelReference(\\n    registry=registry, model_name=model_name, model_version=model_version\\n)\\n'"
      ]
     },
     "execution_count": 4,
     "metadata": {},
     "output_type": "execute_result"
    }
   ],
   "source": [
    "logistic_model, test_features = prepare_logistic_model()\n",
    "model_name = \"snowpark_ml_logistic\"\n",
    "model_version = \"v1\"\n",
    "\n",
    "model_ref = registry.log_model(\n",
    "    model_name=model_name,\n",
    "    model_version=model_version,\n",
    "    model=logistic_model,\n",
    "    sample_input_data=test_features,\n",
    ")\n",
    "\n",
    "\"\"\"\n",
    "If your model has been logged and you want to reference it, you can use:\n",
    "model_ref = model_registry.ModelReference(\n",
    "    registry=registry, model_name=model_name, model_version=model_version\n",
    ")\n",
    "\"\"\""
   ]
  },
  {
   "cell_type": "markdown",
   "id": "054a3862",
   "metadata": {},
   "source": [
    "## Model Deployment to Snowpark Container Service"
   ]
  },
  {
   "cell_type": "code",
   "execution_count": 5,
   "id": "64d286fb-bc80-4ce4-85e6-bcc46b38ce7c",
   "metadata": {},
   "outputs": [],
   "source": [
    "# Optionally enable INFO log level to show more logging during model deployment.\n",
    "import logging\n",
    "logging.basicConfig()\n",
    "logging.getLogger().setLevel(logging.INFO)"
   ]
  },
  {
   "cell_type": "code",
   "execution_count": 6,
   "id": "72ff114f",
   "metadata": {},
   "outputs": [
    {
     "name": "stderr",
     "output_type": "stream",
     "text": [
      "WARNING:snowflake.snowpark:ModelRegistry.deploy() is in private preview since 0.2.0. Do not use it in production. \n",
      "INFO:snowflake.connector.cursor:query: [SHOW TABLES LIKE '_SYSTEM_REGISTRY_SCHEMA_VERSION' IN SHULIN_DB.SHULIN_SCHEMA]\n",
      "INFO:snowflake.connector.cursor:query execution done\n",
      "INFO:snowflake.connector.cursor:Number of results in first chunk: 1\n",
      "INFO:snowflake.connector.cursor:query: [SELECT MAX(VERSION) AS MAX_VERSION FROM SHULIN_DB.SHULIN_SCHEMA._SYSTEM_REGISTRY...]\n",
      "INFO:snowflake.connector.cursor:query execution done\n",
      "INFO:snowflake.connector.cursor:Number of results in first chunk: 1\n",
      "INFO:snowflake.connector.cursor:query: [CREATE STAGE IF NOT EXISTS SHULIN_DB.SHULIN_SCHEMA._SYSTEM_REGISTRY_DEPLOYMENTS_...]\n",
      "INFO:snowflake.connector.cursor:query execution done\n",
      "INFO:snowflake.connector.cursor:Number of results in first chunk: 1\n",
      "INFO:snowflake.connector.cursor:query: [SELECT * FROM SHULIN_DB.SHULIN_SCHEMA._SYSTEM_REGISTRY_MODELS_VIEW]\n",
      "INFO:snowflake.connector.cursor:query execution done\n",
      "INFO:snowflake.connector.cursor:Number of results in first chunk: 0\n",
      "INFO:snowflake.connector.cursor:query: [SELECT  *  FROM (SELECT * FROM SHULIN_DB.SHULIN_SCHEMA._SYSTEM_REGISTRY_MODELS_V...]\n",
      "INFO:snowflake.connector.cursor:query execution done\n",
      "INFO:snowflake.connector.cursor:Number of results in first chunk: 1\n",
      "INFO:snowflake.connector.cursor:query: [LIST @SHULIN_DB.SHULIN_SCHEMA.SNOWML_MODEL_704EB1EE858011EE9DC05AC3F3B698E0]\n",
      "INFO:snowflake.connector.cursor:query execution done\n",
      "INFO:snowflake.connector.cursor:Number of results in first chunk: 9\n",
      "INFO:snowflake.connector.cursor:query: [SELECT * FROM SHULIN_DB.SHULIN_SCHEMA._SYSTEM_REGISTRY_MODELS_VIEW]\n",
      "INFO:snowflake.connector.cursor:query execution done\n",
      "INFO:snowflake.connector.cursor:Number of results in first chunk: 0\n",
      "INFO:snowflake.connector.cursor:query: [SELECT  *  FROM (SELECT * FROM SHULIN_DB.SHULIN_SCHEMA._SYSTEM_REGISTRY_MODELS_V...]\n",
      "INFO:snowflake.connector.cursor:query execution done\n",
      "INFO:snowflake.connector.cursor:Number of results in first chunk: 1\n",
      "INFO:snowflake.connector.cursor:query: [ls @SHULIN_DB.SHULIN_SCHEMA.SNOWML_MODEL_704EB1EE858011EE9DC05AC3F3B698E0]\n",
      "INFO:snowflake.connector.cursor:query execution done\n",
      "INFO:snowflake.connector.cursor:Number of results in first chunk: 9\n",
      "INFO:snowflake.connector.cursor:query: [GET '@SHULIN_DB.SHULIN_SCHEMA.SNOWML_MODEL_704EB1EE858011EE9DC05AC3F3B698E0/MANI...]\n",
      "INFO:snowflake.connector.cursor:query execution done\n",
      "INFO:snowflake.connector.cursor:query: [GET '@SHULIN_DB.SHULIN_SCHEMA.SNOWML_MODEL_704EB1EE858011EE9DC05AC3F3B698E0/mode...]\n",
      "INFO:snowflake.connector.cursor:query execution done\n",
      "INFO:snowflake.connector.cursor:query: [GET '@SHULIN_DB.SHULIN_SCHEMA.SNOWML_MODEL_704EB1EE858011EE9DC05AC3F3B698E0/modu...]\n",
      "INFO:snowflake.connector.cursor:query execution done\n",
      "INFO:snowflake.connector.cursor:query: [GET '@SHULIN_DB.SHULIN_SCHEMA.SNOWML_MODEL_704EB1EE858011EE9DC05AC3F3B698E0/modu...]\n",
      "INFO:snowflake.connector.cursor:query execution done\n",
      "INFO:snowflake.connector.cursor:query: [GET '@SHULIN_DB.SHULIN_SCHEMA.SNOWML_MODEL_704EB1EE858011EE9DC05AC3F3B698E0/modu...]\n",
      "INFO:snowflake.connector.cursor:query execution done\n",
      "INFO:snowflake.connector.cursor:query: [GET '@SHULIN_DB.SHULIN_SCHEMA.SNOWML_MODEL_704EB1EE858011EE9DC05AC3F3B698E0/modu...]\n",
      "INFO:snowflake.connector.cursor:query execution done\n",
      "INFO:snowflake.connector.cursor:query: [GET '@SHULIN_DB.SHULIN_SCHEMA.SNOWML_MODEL_704EB1EE858011EE9DC05AC3F3B698E0/runt...]\n",
      "INFO:snowflake.connector.cursor:query execution done\n",
      "INFO:snowflake.connector.cursor:query: [GET '@SHULIN_DB.SHULIN_SCHEMA.SNOWML_MODEL_704EB1EE858011EE9DC05AC3F3B698E0/runt...]\n",
      "INFO:snowflake.connector.cursor:query execution done\n",
      "INFO:snowflake.connector.cursor:query: [GET '@SHULIN_DB.SHULIN_SCHEMA.SNOWML_MODEL_704EB1EE858011EE9DC05AC3F3B698E0/runt...]\n",
      "INFO:snowflake.connector.cursor:query execution done\n",
      "WARNING:snowflake.ml.model._deploy_client.snowservice.deploy:Similar environment detected. Using existing image sfengineering-mlplatformtest.registry.snowflakecomputing.com/shulin_db/shulin_schema/snowml_repo/260e5812c5d0c81981b30ab72d53a291a894a505:latest to skip image build. To disable this feature, set 'force_image_build=True' in deployment options\n",
      "INFO:snowflake.ml.model._deploy_client.utils.snowservice_client:Creating service SHULIN_DB.SHULIN_SCHEMA.service_704eb1ee858011ee9dc05ac3f3b698e0\n",
      "INFO:snowflake.ml.model._deploy_client.snowservice.deploy:Wait for service SHULIN_DB.SHULIN_SCHEMA.service_704eb1ee858011ee9dc05ac3f3b698e0 to become ready...\n",
      "WARNING:snowflake.ml.model._deploy_client.utils.snowservice_client:Best-effort log streaming from SPCS will be enabled when python logging level is set to INFO.Alternatively, you can also query the logs by running the query 'CALL SYSTEM$GET_SERVICE_LOGS('SHULIN_DB.SHULIN_SCHEMA.service_704eb1ee858011ee9dc05ac3f3b698e0', '0', 'inference-server')'\n",
      "INFO:snowflake.ml._internal.utils.log_stream_processor:Number of CPU cores: 4\n",
      "INFO:snowflake.ml._internal.utils.log_stream_processor:Setting number of workers to 9\n",
      "INFO:snowflake.ml._internal.utils.log_stream_processor:[2023-11-17 19:35:41 +0000] [1] [INFO] Starting gunicorn 21.2.0\n",
      "INFO:snowflake.ml._internal.utils.log_stream_processor:[2023-11-17 19:35:41 +0000] [1] [INFO] Listening at: http://0.0.0.0:5000 (1)\n",
      "INFO:snowflake.ml._internal.utils.log_stream_processor:[2023-11-17 19:35:41 +0000] [1] [INFO] Using worker: uvicorn.workers.UvicornWorker\n",
      "INFO:snowflake.ml._internal.utils.log_stream_processor:[2023-11-17 19:35:41 +0000] [20] [INFO] Booting worker with pid: 20\n",
      "INFO:snowflake.ml._internal.utils.log_stream_processor:[2023-11-17 19:35:41 +0000] [21] [INFO] Booting worker with pid: 21\n",
      "INFO:snowflake.ml._internal.utils.log_stream_processor:[2023-11-17 19:35:41 +0000] [22] [INFO] Booting worker with pid: 22\n",
      "INFO:snowflake.ml._internal.utils.log_stream_processor:[2023-11-17 19:35:41 +0000] [23] [INFO] Booting worker with pid: 23\n",
      "INFO:snowflake.ml._internal.utils.log_stream_processor:[2023-11-17 19:35:41 +0000] [24] [INFO] Booting worker with pid: 24\n",
      "INFO:snowflake.ml._internal.utils.log_stream_processor:[2023-11-17 19:35:41 +0000] [26] [INFO] Booting worker with pid: 26\n",
      "INFO:snowflake.ml._internal.utils.log_stream_processor:[2023-11-17 19:35:41 +0000] [32] [INFO] Booting worker with pid: 32\n",
      "INFO:snowflake.ml._internal.utils.log_stream_processor:[2023-11-17 19:35:41 +0000] [37] [INFO] Booting worker with pid: 37\n",
      "INFO:snowflake.ml._internal.utils.log_stream_processor:[2023-11-17 19:35:42 +0000] [39] [INFO] Booting worker with pid: 39\n",
      "INFO:snowflake.ml._internal.utils.log_stream_processor:[2023-11-17 19:35:42 +0000] [20] [INFO] ENV: environ({'SERVICE_SERVICE_HOST': '10.102.169.166', 'KUBERNETES_SERVICE_PORT_HTTPS': '443', 'KUBERNETES_SERVICE_PORT': '443', 'ENV_NAME': 'base', 'MAMBA_USER': 'mambauser', 'SERVICE_PORT_5000_TCP_PROTO': 'tcp', 'HOSTNAME': 'statefulset-0', 'stage_uid': '1000', 'NUM_WORKERS': 'None', 'SNOWFLAKE_PORT': '443', 'PWD': '/tmp', 'CONDA_PREFIX': '/opt/conda', 'SERVICE_SERVICE_PORT_PREDICT': '5000', 'MAMBA_ROOT_PREFIX': '/opt/conda', 'SNOWFLAKE_ACCOUNT': 'FAB02971', 'SNOWFLAKE_DATABASE': 'SHULIN_DB', 'TARGET_METHOD': 'predict', 'vol1_gid': '0', 'vol1_uid': '0', 'HOME': '/home/mambauser', 'SERVICE_PORT_5000_TCP_ADDR': '10.102.169.166', 'LANG': 'C.UTF-8', 'KUBERNETES_PORT_443_TCP': 'tcp://10.96.0.1:443', 'CONDA_PROMPT_MODIFIER': '(base) ', 'SNOWML_USE_GPU': 'false', 'SNOWFLAKE_SCHEMA': 'SHULIN_SCHEMA', 'SERVICE_PORT_5000_TCP': 'tcp://10.102.169.166:5000', 'stage_gid': '1000', 'MAMBA_EXE': '/bin/micromamba', 'SNOWFLAKE_HOST': 'snowflake.prod3.us-west-2.aws.snowflakecomputing.com', 'USER': 'mambauser', 'SERVICE_PORT_5000_TCP_PORT': '5000', 'CONDA_SHLVL': '1', 'SHLVL': '0', 'SERVICE_SERVICE_PORT': '5000', 'KUBERNETES_PORT_443_TCP_PROTO': 'tcp', 'KUBERNETES_PORT_443_TCP_ADDR': '10.96.0.1', 'CONDA_DEFAULT_ENV': 'base', 'KUBERNETES_SERVICE_HOST': '10.96.0.1', 'LC_ALL': 'C.UTF-8', 'KUBERNETES_PORT': 'tcp://10.96.0.1:443', 'KUBERNETES_PORT_443_TCP_PORT': '443', 'SERVICE_PORT': 'tcp://10.102.169.166:5000', 'PATH': '/opt/conda/bin:/opt/conda/condabin:/usr/local/sbin:/usr/local/bin:/usr/sbin:/usr/bin:/sbin:/bin', 'MODEL_ZIP_STAGE_PATH': '/SHULIN_DB.SHULIN_SCHEMA.SNOWML_MODEL_704EB1EE858011EE9DC05AC3F3B698E0/model.zip', 'SERVER_SOFTWARE': 'gunicorn/21.2.0'})\n",
      "INFO:snowflake.ml._internal.utils.log_stream_processor:[2023-11-17 19:35:42 +0000] [20] [INFO] Started server process [20]\n",
      "INFO:snowflake.ml._internal.utils.log_stream_processor:[2023-11-17 19:35:42 +0000] [20] [INFO] Waiting for application startup.\n",
      "INFO:snowflake.ml._internal.utils.log_stream_processor:[2023-11-17 19:35:42 +0000] [20] [INFO] Application startup complete.\n",
      "INFO:snowflake.ml._internal.utils.log_stream_processor:[2023-11-17 19:35:42 +0000] [20] [INFO] Extracting model zip from /SHULIN_DB.SHULIN_SCHEMA.SNOWML_MODEL_704EB1EE858011EE9DC05AC3F3B698E0/model.zip to /tmp/tmpb0qnwx1b/extracted_model_dir\n",
      "INFO:snowflake.ml._internal.utils.log_stream_processor:[2023-11-17 19:35:42 +0000] [22] [INFO] ENV: environ({'SERVICE_SERVICE_HOST': '10.102.169.166', 'KUBERNETES_SERVICE_PORT_HTTPS': '443', 'KUBERNETES_SERVICE_PORT': '443', 'ENV_NAME': 'base', 'MAMBA_USER': 'mambauser', 'SERVICE_PORT_5000_TCP_PROTO': 'tcp', 'HOSTNAME': 'statefulset-0', 'stage_uid': '1000', 'NUM_WORKERS': 'None', 'SNOWFLAKE_PORT': '443', 'PWD': '/tmp', 'CONDA_PREFIX': '/opt/conda', 'SERVICE_SERVICE_PORT_PREDICT': '5000', 'MAMBA_ROOT_PREFIX': '/opt/conda', 'SNOWFLAKE_ACCOUNT': 'FAB02971', 'SNOWFLAKE_DATABASE': 'SHULIN_DB', 'TARGET_METHOD': 'predict', 'vol1_gid': '0', 'vol1_uid': '0', 'HOME': '/home/mambauser', 'SERVICE_PORT_5000_TCP_ADDR': '10.102.169.166', 'LANG': 'C.UTF-8', 'KUBERNETES_PORT_443_TCP': 'tcp://10.96.0.1:443', 'CONDA_PROMPT_MODIFIER': '(base) ', 'SNOWML_USE_GPU': 'false', 'SNOWFLAKE_SCHEMA': 'SHULIN_SCHEMA', 'SERVICE_PORT_5000_TCP': 'tcp://10.102.169.166:5000', 'stage_gid': '1000', 'MAMBA_EXE': '/bin/micromamba', 'SNOWFLAKE_HOST': 'snowflake.prod3.us-west-2.aws.snowflakecomputing.com', 'USER': 'mambauser', 'SERVICE_PORT_5000_TCP_PORT': '5000', 'CONDA_SHLVL': '1', 'SHLVL': '0', 'SERVICE_SERVICE_PORT': '5000', 'KUBERNETES_PORT_443_TCP_PROTO': 'tcp', 'KUBERNETES_PORT_443_TCP_ADDR': '10.96.0.1', 'CONDA_DEFAULT_ENV': 'base', 'KUBERNETES_SERVICE_HOST': '10.96.0.1', 'LC_ALL': 'C.UTF-8', 'KUBERNETES_PORT': 'tcp://10.96.0.1:443', 'KUBERNETES_PORT_443_TCP_PORT': '443', 'SERVICE_PORT': 'tcp://10.102.169.166:5000', 'PATH': '/opt/conda/bin:/opt/conda/condabin:/usr/local/sbin:/usr/local/bin:/usr/sbin:/usr/bin:/sbin:/bin', 'MODEL_ZIP_STAGE_PATH': '/SHULIN_DB.SHULIN_SCHEMA.SNOWML_MODEL_704EB1EE858011EE9DC05AC3F3B698E0/model.zip', 'SERVER_SOFTWARE': 'gunicorn/21.2.0'})\n",
      "INFO:snowflake.ml._internal.utils.log_stream_processor:[2023-11-17 19:35:42 +0000] [21] [INFO] ENV: environ({'SERVICE_SERVICE_HOST': '10.102.169.166', 'KUBERNETES_SERVICE_PORT_HTTPS': '443', 'KUBERNETES_SERVICE_PORT': '443', 'ENV_NAME': 'base', 'MAMBA_USER': 'mambauser', 'SERVICE_PORT_5000_TCP_PROTO': 'tcp', 'HOSTNAME': 'statefulset-0', 'stage_uid': '1000', 'NUM_WORKERS': 'None', 'SNOWFLAKE_PORT': '443', 'PWD': '/tmp', 'CONDA_PREFIX': '/opt/conda', 'SERVICE_SERVICE_PORT_PREDICT': '5000', 'MAMBA_ROOT_PREFIX': '/opt/conda', 'SNOWFLAKE_ACCOUNT': 'FAB02971', 'SNOWFLAKE_DATABASE': 'SHULIN_DB', 'TARGET_METHOD': 'predict', 'vol1_gid': '0', 'vol1_uid': '0', 'HOME': '/home/mambauser', 'SERVICE_PORT_5000_TCP_ADDR': '10.102.169.166', 'LANG': 'C.UTF-8', 'KUBERNETES_PORT_443_TCP': 'tcp://10.96.0.1:443', 'CONDA_PROMPT_MODIFIER': '(base) ', 'SNOWML_USE_GPU': 'false', 'SNOWFLAKE_SCHEMA': 'SHULIN_SCHEMA', 'SERVICE_PORT_5000_TCP': 'tcp://10.102.169.166:5000', 'stage_gid': '1000', 'MAMBA_EXE': '/bin/micromamba', 'SNOWFLAKE_HOST': 'snowflake.prod3.us-west-2.aws.snowflakecomputing.com', 'USER': 'mambauser', 'SERVICE_PORT_5000_TCP_PORT': '5000', 'CONDA_SHLVL': '1', 'SHLVL': '0', 'SERVICE_SERVICE_PORT': '5000', 'KUBERNETES_PORT_443_TCP_PROTO': 'tcp', 'KUBERNETES_PORT_443_TCP_ADDR': '10.96.0.1', 'CONDA_DEFAULT_ENV': 'base', 'KUBERNETES_SERVICE_HOST': '10.96.0.1', 'LC_ALL': 'C.UTF-8', 'KUBERNETES_PORT': 'tcp://10.96.0.1:443', 'KUBERNETES_PORT_443_TCP_PORT': '443', 'SERVICE_PORT': 'tcp://10.102.169.166:5000', 'PATH': '/opt/conda/bin:/opt/conda/condabin:/usr/local/sbin:/usr/local/bin:/usr/sbin:/usr/bin:/sbin:/bin', 'MODEL_ZIP_STAGE_PATH': '/SHULIN_DB.SHULIN_SCHEMA.SNOWML_MODEL_704EB1EE858011EE9DC05AC3F3B698E0/model.zip', 'SERVER_SOFTWARE': 'gunicorn/21.2.0'})\n",
      "INFO:snowflake.ml._internal.utils.log_stream_processor:[2023-11-17 19:35:42 +0000] [23] [INFO] ENV: environ({'SERVICE_SERVICE_HOST': '10.102.169.166', 'KUBERNETES_SERVICE_PORT_HTTPS': '443', 'KUBERNETES_SERVICE_PORT': '443', 'ENV_NAME': 'base', 'MAMBA_USER': 'mambauser', 'SERVICE_PORT_5000_TCP_PROTO': 'tcp', 'HOSTNAME': 'statefulset-0', 'stage_uid': '1000', 'NUM_WORKERS': 'None', 'SNOWFLAKE_PORT': '443', 'PWD': '/tmp', 'CONDA_PREFIX': '/opt/conda', 'SERVICE_SERVICE_PORT_PREDICT': '5000', 'MAMBA_ROOT_PREFIX': '/opt/conda', 'SNOWFLAKE_ACCOUNT': 'FAB02971', 'SNOWFLAKE_DATABASE': 'SHULIN_DB', 'TARGET_METHOD': 'predict', 'vol1_gid': '0', 'vol1_uid': '0', 'HOME': '/home/mambauser', 'SERVICE_PORT_5000_TCP_ADDR': '10.102.169.166', 'LANG': 'C.UTF-8', 'KUBERNETES_PORT_443_TCP': 'tcp://10.96.0.1:443', 'CONDA_PROMPT_MODIFIER': '(base) ', 'SNOWML_USE_GPU': 'false', 'SNOWFLAKE_SCHEMA': 'SHULIN_SCHEMA', 'SERVICE_PORT_5000_TCP': 'tcp://10.102.169.166:5000', 'stage_gid': '1000', 'MAMBA_EXE': '/bin/micromamba', 'SNOWFLAKE_HOST': 'snowflake.prod3.us-west-2.aws.snowflakecomputing.com', 'USER': 'mambauser', 'SERVICE_PORT_5000_TCP_PORT': '5000', 'CONDA_SHLVL': '1', 'SHLVL': '0', 'SERVICE_SERVICE_PORT': '5000', 'KUBERNETES_PORT_443_TCP_PROTO': 'tcp', 'KUBERNETES_PORT_443_TCP_ADDR': '10.96.0.1', 'CONDA_DEFAULT_ENV': 'base', 'KUBERNETES_SERVICE_HOST': '10.96.0.1', 'LC_ALL': 'C.UTF-8', 'KUBERNETES_PORT': 'tcp://10.96.0.1:443', 'KUBERNETES_PORT_443_TCP_PORT': '443', 'SERVICE_PORT': 'tcp://10.102.169.166:5000', 'PATH': '/opt/conda/bin:/opt/conda/condabin:/usr/local/sbin:/usr/local/bin:/usr/sbin:/usr/bin:/sbin:/bin', 'MODEL_ZIP_STAGE_PATH': '/SHULIN_DB.SHULIN_SCHEMA.SNOWML_MODEL_704EB1EE858011EE9DC05AC3F3B698E0/model.zip', 'SERVER_SOFTWARE': 'gunicorn/21.2.0'})\n",
      "INFO:snowflake.ml._internal.utils.log_stream_processor:[2023-11-17 19:35:42 +0000] [22] [INFO] Started server process [22]\n",
      "INFO:snowflake.ml._internal.utils.log_stream_processor:[2023-11-17 19:35:42 +0000] [22] [INFO] Waiting for application startup.\n",
      "INFO:snowflake.ml._internal.utils.log_stream_processor:[2023-11-17 19:35:42 +0000] [22] [INFO] Application startup complete.\n",
      "INFO:snowflake.ml._internal.utils.log_stream_processor:[2023-11-17 19:35:42 +0000] [21] [INFO] Started server process [21]\n",
      "INFO:snowflake.ml._internal.utils.log_stream_processor:[2023-11-17 19:35:42 +0000] [21] [INFO] Waiting for application startup.\n",
      "INFO:snowflake.ml._internal.utils.log_stream_processor:[2023-11-17 19:35:42 +0000] [21] [INFO] Application startup complete.\n",
      "INFO:snowflake.ml._internal.utils.log_stream_processor:[2023-11-17 19:35:42 +0000] [21] [INFO] Extracting model zip from /SHULIN_DB.SHULIN_SCHEMA.SNOWML_MODEL_704EB1EE858011EE9DC05AC3F3B698E0/model.zip to /tmp/tmp7gqnk72j/extracted_model_dir\n",
      "INFO:snowflake.ml._internal.utils.log_stream_processor:[2023-11-17 19:35:42 +0000] [22] [INFO] Extracting model zip from /SHULIN_DB.SHULIN_SCHEMA.SNOWML_MODEL_704EB1EE858011EE9DC05AC3F3B698E0/model.zip to /tmp/tmpybmydbd8/extracted_model_dir\n",
      "INFO:snowflake.ml._internal.utils.log_stream_processor:[2023-11-17 19:35:42 +0000] [23] [INFO] Started server process [23]\n",
      "INFO:snowflake.ml._internal.utils.log_stream_processor:[2023-11-17 19:35:42 +0000] [23] [INFO] Waiting for application startup.\n",
      "INFO:snowflake.ml._internal.utils.log_stream_processor:[2023-11-17 19:35:42 +0000] [23] [INFO] Application startup complete.\n",
      "INFO:snowflake.ml._internal.utils.log_stream_processor:[2023-11-17 19:35:42 +0000] [23] [INFO] Extracting model zip from /SHULIN_DB.SHULIN_SCHEMA.SNOWML_MODEL_704EB1EE858011EE9DC05AC3F3B698E0/model.zip to /tmp/tmplvgh7e5w/extracted_model_dir\n",
      "INFO:snowflake.ml._internal.utils.log_stream_processor:[2023-11-17 19:35:42 +0000] [32] [INFO] ENV: environ({'SERVICE_SERVICE_HOST': '10.102.169.166', 'KUBERNETES_SERVICE_PORT_HTTPS': '443', 'KUBERNETES_SERVICE_PORT': '443', 'ENV_NAME': 'base', 'MAMBA_USER': 'mambauser', 'SERVICE_PORT_5000_TCP_PROTO': 'tcp', 'HOSTNAME': 'statefulset-0', 'stage_uid': '1000', 'NUM_WORKERS': 'None', 'SNOWFLAKE_PORT': '443', 'PWD': '/tmp', 'CONDA_PREFIX': '/opt/conda', 'SERVICE_SERVICE_PORT_PREDICT': '5000', 'MAMBA_ROOT_PREFIX': '/opt/conda', 'SNOWFLAKE_ACCOUNT': 'FAB02971', 'SNOWFLAKE_DATABASE': 'SHULIN_DB', 'TARGET_METHOD': 'predict', 'vol1_gid': '0', 'vol1_uid': '0', 'HOME': '/home/mambauser', 'SERVICE_PORT_5000_TCP_ADDR': '10.102.169.166', 'LANG': 'C.UTF-8', 'KUBERNETES_PORT_443_TCP': 'tcp://10.96.0.1:443', 'CONDA_PROMPT_MODIFIER': '(base) ', 'SNOWML_USE_GPU': 'false', 'SNOWFLAKE_SCHEMA': 'SHULIN_SCHEMA', 'SERVICE_PORT_5000_TCP': 'tcp://10.102.169.166:5000', 'stage_gid': '1000', 'MAMBA_EXE': '/bin/micromamba', 'SNOWFLAKE_HOST': 'snowflake.prod3.us-west-2.aws.snowflakecomputing.com', 'USER': 'mambauser', 'SERVICE_PORT_5000_TCP_PORT': '5000', 'CONDA_SHLVL': '1', 'SHLVL': '0', 'SERVICE_SERVICE_PORT': '5000', 'KUBERNETES_PORT_443_TCP_PROTO': 'tcp', 'KUBERNETES_PORT_443_TCP_ADDR': '10.96.0.1', 'CONDA_DEFAULT_ENV': 'base', 'KUBERNETES_SERVICE_HOST': '10.96.0.1', 'LC_ALL': 'C.UTF-8', 'KUBERNETES_PORT': 'tcp://10.96.0.1:443', 'KUBERNETES_PORT_443_TCP_PORT': '443', 'SERVICE_PORT': 'tcp://10.102.169.166:5000', 'PATH': '/opt/conda/bin:/opt/conda/condabin:/usr/local/sbin:/usr/local/bin:/usr/sbin:/usr/bin:/sbin:/bin', 'MODEL_ZIP_STAGE_PATH': '/SHULIN_DB.SHULIN_SCHEMA.SNOWML_MODEL_704EB1EE858011EE9DC05AC3F3B698E0/model.zip', 'SERVER_SOFTWARE': 'gunicorn/21.2.0'})\n",
      "INFO:snowflake.ml._internal.utils.log_stream_processor:[2023-11-17 19:35:42 +0000] [20] [INFO] Loading model from /tmp/tmpb0qnwx1b/extracted_model_dir into memory\n",
      "INFO:snowflake.ml._internal.utils.log_stream_processor:[2023-11-17 19:35:42 +0000] [37] [INFO] ENV: environ({'SERVICE_SERVICE_HOST': '10.102.169.166', 'KUBERNETES_SERVICE_PORT_HTTPS': '443', 'KUBERNETES_SERVICE_PORT': '443', 'ENV_NAME': 'base', 'MAMBA_USER': 'mambauser', 'SERVICE_PORT_5000_TCP_PROTO': 'tcp', 'HOSTNAME': 'statefulset-0', 'stage_uid': '1000', 'NUM_WORKERS': 'None', 'SNOWFLAKE_PORT': '443', 'PWD': '/tmp', 'CONDA_PREFIX': '/opt/conda', 'SERVICE_SERVICE_PORT_PREDICT': '5000', 'MAMBA_ROOT_PREFIX': '/opt/conda', 'SNOWFLAKE_ACCOUNT': 'FAB02971', 'SNOWFLAKE_DATABASE': 'SHULIN_DB', 'TARGET_METHOD': 'predict', 'vol1_gid': '0', 'vol1_uid': '0', 'HOME': '/home/mambauser', 'SERVICE_PORT_5000_TCP_ADDR': '10.102.169.166', 'LANG': 'C.UTF-8', 'KUBERNETES_PORT_443_TCP': 'tcp://10.96.0.1:443', 'CONDA_PROMPT_MODIFIER': '(base) ', 'SNOWML_USE_GPU': 'false', 'SNOWFLAKE_SCHEMA': 'SHULIN_SCHEMA', 'SERVICE_PORT_5000_TCP': 'tcp://10.102.169.166:5000', 'stage_gid': '1000', 'MAMBA_EXE': '/bin/micromamba', 'SNOWFLAKE_HOST': 'snowflake.prod3.us-west-2.aws.snowflakecomputing.com', 'USER': 'mambauser', 'SERVICE_PORT_5000_TCP_PORT': '5000', 'CONDA_SHLVL': '1', 'SHLVL': '0', 'SERVICE_SERVICE_PORT': '5000', 'KUBERNETES_PORT_443_TCP_PROTO': 'tcp', 'KUBERNETES_PORT_443_TCP_ADDR': '10.96.0.1', 'CONDA_DEFAULT_ENV': 'base', 'KUBERNETES_SERVICE_HOST': '10.96.0.1', 'LC_ALL': 'C.UTF-8', 'KUBERNETES_PORT': 'tcp://10.96.0.1:443', 'KUBERNETES_PORT_443_TCP_PORT': '443', 'SERVICE_PORT': 'tcp://10.102.169.166:5000', 'PATH': '/opt/conda/bin:/opt/conda/condabin:/usr/local/sbin:/usr/local/bin:/usr/sbin:/usr/bin:/sbin:/bin', 'MODEL_ZIP_STAGE_PATH': '/SHULIN_DB.SHULIN_SCHEMA.SNOWML_MODEL_704EB1EE858011EE9DC05AC3F3B698E0/model.zip', 'SERVER_SOFTWARE': 'gunicorn/21.2.0'})\n",
      "INFO:snowflake.ml._internal.utils.log_stream_processor:[2023-11-17 19:35:42 +0000] [32] [INFO] Extracting model zip from /SHULIN_DB.SHULIN_SCHEMA.SNOWML_MODEL_704EB1EE858011EE9DC05AC3F3B698E0/model.zip to /tmp/tmpmfhs5e6d/extracted_model_dir\n",
      "INFO:snowflake.ml._internal.utils.log_stream_processor:[2023-11-17 19:35:42 +0000] [23] [INFO] Loading model from /tmp/tmplvgh7e5w/extracted_model_dir into memory\n",
      "INFO:snowflake.ml._internal.utils.log_stream_processor:[2023-11-17 19:35:42 +0000] [37] [INFO] Started server process [37]\n",
      "INFO:snowflake.ml._internal.utils.log_stream_processor:[2023-11-17 19:35:42 +0000] [37] [INFO] Waiting for application startup.\n",
      "INFO:snowflake.ml._internal.utils.log_stream_processor:[2023-11-17 19:35:43 +0000] [32] [INFO] Started server process [32]\n",
      "INFO:snowflake.ml._internal.utils.log_stream_processor:[2023-11-17 19:35:43 +0000] [32] [INFO] Waiting for application startup.\n",
      "INFO:snowflake.ml._internal.utils.log_stream_processor:[2023-11-17 19:35:43 +0000] [32] [INFO] Application startup complete.\n",
      "INFO:snowflake.ml._internal.utils.log_stream_processor:[2023-11-17 19:35:42 +0000] [37] [INFO] Application startup complete.\n",
      "INFO:snowflake.ml._internal.utils.log_stream_processor:[2023-11-17 19:35:43 +0000] [37] [INFO] Extracting model zip from /SHULIN_DB.SHULIN_SCHEMA.SNOWML_MODEL_704EB1EE858011EE9DC05AC3F3B698E0/model.zip to /tmp/tmp756rou0h/extracted_model_dir\n",
      "INFO:snowflake.ml._internal.utils.log_stream_processor:[2023-11-17 19:35:43 +0000] [21] [INFO] Loading model from /tmp/tmp7gqnk72j/extracted_model_dir into memory\n",
      "INFO:snowflake.ml._internal.utils.log_stream_processor:[2023-11-17 19:35:43 +0000] [22] [INFO] Loading model from /tmp/tmpybmydbd8/extracted_model_dir into memory\n",
      "INFO:snowflake.ml._internal.utils.log_stream_processor:[2023-11-17 19:35:43 +0000] [26] [INFO] ENV: environ({'SERVICE_SERVICE_HOST': '10.102.169.166', 'KUBERNETES_SERVICE_PORT_HTTPS': '443', 'KUBERNETES_SERVICE_PORT': '443', 'ENV_NAME': 'base', 'MAMBA_USER': 'mambauser', 'SERVICE_PORT_5000_TCP_PROTO': 'tcp', 'HOSTNAME': 'statefulset-0', 'stage_uid': '1000', 'NUM_WORKERS': 'None', 'SNOWFLAKE_PORT': '443', 'PWD': '/tmp', 'CONDA_PREFIX': '/opt/conda', 'SERVICE_SERVICE_PORT_PREDICT': '5000', 'MAMBA_ROOT_PREFIX': '/opt/conda', 'SNOWFLAKE_ACCOUNT': 'FAB02971', 'SNOWFLAKE_DATABASE': 'SHULIN_DB', 'TARGET_METHOD': 'predict', 'vol1_gid': '0', 'vol1_uid': '0', 'HOME': '/home/mambauser', 'SERVICE_PORT_5000_TCP_ADDR': '10.102.169.166', 'LANG': 'C.UTF-8', 'KUBERNETES_PORT_443_TCP': 'tcp://10.96.0.1:443', 'CONDA_PROMPT_MODIFIER': '(base) ', 'SNOWML_USE_GPU': 'false', 'SNOWFLAKE_SCHEMA': 'SHULIN_SCHEMA', 'SERVICE_PORT_5000_TCP': 'tcp://10.102.169.166:5000', 'stage_gid': '1000', 'MAMBA_EXE': '/bin/micromamba', 'SNOWFLAKE_HOST': 'snowflake.prod3.us-west-2.aws.snowflakecomputing.com', 'USER': 'mambauser', 'SERVICE_PORT_5000_TCP_PORT': '5000', 'CONDA_SHLVL': '1', 'SHLVL': '0', 'SERVICE_SERVICE_PORT': '5000', 'KUBERNETES_PORT_443_TCP_PROTO': 'tcp', 'KUBERNETES_PORT_443_TCP_ADDR': '10.96.0.1', 'CONDA_DEFAULT_ENV': 'base', 'KUBERNETES_SERVICE_HOST': '10.96.0.1', 'LC_ALL': 'C.UTF-8', 'KUBERNETES_PORT': 'tcp://10.96.0.1:443', 'KUBERNETES_PORT_443_TCP_PORT': '443', 'SERVICE_PORT': 'tcp://10.102.169.166:5000', 'PATH': '/opt/conda/bin:/opt/conda/condabin:/usr/local/sbin:/usr/local/bin:/usr/sbin:/usr/bin:/sbin:/bin', 'MODEL_ZIP_STAGE_PATH': '/SHULIN_DB.SHULIN_SCHEMA.SNOWML_MODEL_704EB1EE858011EE9DC05AC3F3B698E0/model.zip', 'SERVER_SOFTWARE': 'gunicorn/21.2.0'})\n",
      "INFO:snowflake.ml._internal.utils.log_stream_processor:[2023-11-17 19:35:43 +0000] [37] [INFO] Loading model from /tmp/tmp756rou0h/extracted_model_dir into memory\n",
      "INFO:snowflake.ml._internal.utils.log_stream_processor:[2023-11-17 19:35:43 +0000] [26] [INFO] Started server process [26]\n",
      "INFO:snowflake.ml._internal.utils.log_stream_processor:[2023-11-17 19:35:43 +0000] [26] [INFO] Waiting for application startup.\n",
      "INFO:snowflake.ml._internal.utils.log_stream_processor:[2023-11-17 19:35:43 +0000] [26] [INFO] Application startup complete.\n",
      "INFO:snowflake.ml._internal.utils.log_stream_processor:[2023-11-17 19:35:43 +0000] [26] [INFO] Extracting model zip from /SHULIN_DB.SHULIN_SCHEMA.SNOWML_MODEL_704EB1EE858011EE9DC05AC3F3B698E0/model.zip to /tmp/tmps97gvf92/extracted_model_dir\n",
      "INFO:snowflake.ml._internal.utils.log_stream_processor:[2023-11-17 19:35:43 +0000] [32] [INFO] Loading model from /tmp/tmpmfhs5e6d/extracted_model_dir into memory\n",
      "INFO:snowflake.ml._internal.utils.log_stream_processor:[2023-11-17 19:35:43 +0000] [26] [INFO] Loading model from /tmp/tmps97gvf92/extracted_model_dir into memory\n",
      "INFO:snowflake.ml._internal.utils.log_stream_processor:[2023-11-17 19:35:44 +0000] [24] [INFO] ENV: environ({'SERVICE_SERVICE_HOST': '10.102.169.166', 'KUBERNETES_SERVICE_PORT_HTTPS': '443', 'KUBERNETES_SERVICE_PORT': '443', 'ENV_NAME': 'base', 'MAMBA_USER': 'mambauser', 'SERVICE_PORT_5000_TCP_PROTO': 'tcp', 'HOSTNAME': 'statefulset-0', 'stage_uid': '1000', 'NUM_WORKERS': 'None', 'SNOWFLAKE_PORT': '443', 'PWD': '/tmp', 'CONDA_PREFIX': '/opt/conda', 'SERVICE_SERVICE_PORT_PREDICT': '5000', 'MAMBA_ROOT_PREFIX': '/opt/conda', 'SNOWFLAKE_ACCOUNT': 'FAB02971', 'SNOWFLAKE_DATABASE': 'SHULIN_DB', 'TARGET_METHOD': 'predict', 'vol1_gid': '0', 'vol1_uid': '0', 'HOME': '/home/mambauser', 'SERVICE_PORT_5000_TCP_ADDR': '10.102.169.166', 'LANG': 'C.UTF-8', 'KUBERNETES_PORT_443_TCP': 'tcp://10.96.0.1:443', 'CONDA_PROMPT_MODIFIER': '(base) ', 'SNOWML_USE_GPU': 'false', 'SNOWFLAKE_SCHEMA': 'SHULIN_SCHEMA', 'SERVICE_PORT_5000_TCP': 'tcp://10.102.169.166:5000', 'stage_gid': '1000', 'MAMBA_EXE': '/bin/micromamba', 'SNOWFLAKE_HOST': 'snowflake.prod3.us-west-2.aws.snowflakecomputing.com', 'USER': 'mambauser', 'SERVICE_PORT_5000_TCP_PORT': '5000', 'CONDA_SHLVL': '1', 'SHLVL': '0', 'SERVICE_SERVICE_PORT': '5000', 'KUBERNETES_PORT_443_TCP_PROTO': 'tcp', 'KUBERNETES_PORT_443_TCP_ADDR': '10.96.0.1', 'CONDA_DEFAULT_ENV': 'base', 'KUBERNETES_SERVICE_HOST': '10.96.0.1', 'LC_ALL': 'C.UTF-8', 'KUBERNETES_PORT': 'tcp://10.96.0.1:443', 'KUBERNETES_PORT_443_TCP_PORT': '443', 'SERVICE_PORT': 'tcp://10.102.169.166:5000', 'PATH': '/opt/conda/bin:/opt/conda/condabin:/usr/local/sbin:/usr/local/bin:/usr/sbin:/usr/bin:/sbin:/bin', 'MODEL_ZIP_STAGE_PATH': '/SHULIN_DB.SHULIN_SCHEMA.SNOWML_MODEL_704EB1EE858011EE9DC05AC3F3B698E0/model.zip', 'SERVER_SOFTWARE': 'gunicorn/21.2.0'})\n",
      "INFO:snowflake.ml._internal.utils.log_stream_processor:[2023-11-17 19:35:44 +0000] [39] [INFO] ENV: environ({'SERVICE_SERVICE_HOST': '10.102.169.166', 'KUBERNETES_SERVICE_PORT_HTTPS': '443', 'KUBERNETES_SERVICE_PORT': '443', 'ENV_NAME': 'base', 'MAMBA_USER': 'mambauser', 'SERVICE_PORT_5000_TCP_PROTO': 'tcp', 'HOSTNAME': 'statefulset-0', 'stage_uid': '1000', 'NUM_WORKERS': 'None', 'SNOWFLAKE_PORT': '443', 'PWD': '/tmp', 'CONDA_PREFIX': '/opt/conda', 'SERVICE_SERVICE_PORT_PREDICT': '5000', 'MAMBA_ROOT_PREFIX': '/opt/conda', 'SNOWFLAKE_ACCOUNT': 'FAB02971', 'SNOWFLAKE_DATABASE': 'SHULIN_DB', 'TARGET_METHOD': 'predict', 'vol1_gid': '0', 'vol1_uid': '0', 'HOME': '/home/mambauser', 'SERVICE_PORT_5000_TCP_ADDR': '10.102.169.166', 'LANG': 'C.UTF-8', 'KUBERNETES_PORT_443_TCP': 'tcp://10.96.0.1:443', 'CONDA_PROMPT_MODIFIER': '(base) ', 'SNOWML_USE_GPU': 'false', 'SNOWFLAKE_SCHEMA': 'SHULIN_SCHEMA', 'SERVICE_PORT_5000_TCP': 'tcp://10.102.169.166:5000', 'stage_gid': '1000', 'MAMBA_EXE': '/bin/micromamba', 'SNOWFLAKE_HOST': 'snowflake.prod3.us-west-2.aws.snowflakecomputing.com', 'USER': 'mambauser', 'SERVICE_PORT_5000_TCP_PORT': '5000', 'CONDA_SHLVL': '1', 'SHLVL': '0', 'SERVICE_SERVICE_PORT': '5000', 'KUBERNETES_PORT_443_TCP_PROTO': 'tcp', 'KUBERNETES_PORT_443_TCP_ADDR': '10.96.0.1', 'CONDA_DEFAULT_ENV': 'base', 'KUBERNETES_SERVICE_HOST': '10.96.0.1', 'LC_ALL': 'C.UTF-8', 'KUBERNETES_PORT': 'tcp://10.96.0.1:443', 'KUBERNETES_PORT_443_TCP_PORT': '443', 'SERVICE_PORT': 'tcp://10.102.169.166:5000', 'PATH': '/opt/conda/bin:/opt/conda/condabin:/usr/local/sbin:/usr/local/bin:/usr/sbin:/usr/bin:/sbin:/bin', 'MODEL_ZIP_STAGE_PATH': '/SHULIN_DB.SHULIN_SCHEMA.SNOWML_MODEL_704EB1EE858011EE9DC05AC3F3B698E0/model.zip', 'SERVER_SOFTWARE': 'gunicorn/21.2.0'})\n",
      "INFO:snowflake.ml._internal.utils.log_stream_processor:[2023-11-17 19:35:44 +0000] [24] [INFO] Started server process [24]\n",
      "INFO:snowflake.ml._internal.utils.log_stream_processor:[2023-11-17 19:35:44 +0000] [24] [INFO] Waiting for application startup.\n",
      "INFO:snowflake.ml._internal.utils.log_stream_processor:[2023-11-17 19:35:44 +0000] [24] [INFO] Application startup complete.\n",
      "INFO:snowflake.ml._internal.utils.log_stream_processor:[2023-11-17 19:35:44 +0000] [24] [INFO] Extracting model zip from /SHULIN_DB.SHULIN_SCHEMA.SNOWML_MODEL_704EB1EE858011EE9DC05AC3F3B698E0/model.zip to /tmp/tmp0xbrnt1_/extracted_model_dir\n",
      "INFO:snowflake.ml._internal.utils.log_stream_processor:[2023-11-17 19:35:44 +0000] [39] [INFO] Started server process [39]\n",
      "INFO:snowflake.ml._internal.utils.log_stream_processor:[2023-11-17 19:35:44 +0000] [39] [INFO] Waiting for application startup.\n",
      "INFO:snowflake.ml._internal.utils.log_stream_processor:[2023-11-17 19:35:44 +0000] [39] [INFO] Application startup complete.\n",
      "INFO:snowflake.ml._internal.utils.log_stream_processor:[2023-11-17 19:35:44 +0000] [39] [INFO] Extracting model zip from /SHULIN_DB.SHULIN_SCHEMA.SNOWML_MODEL_704EB1EE858011EE9DC05AC3F3B698E0/model.zip to /tmp/tmp_f0jegpx/extracted_model_dir\n",
      "INFO:snowflake.ml._internal.utils.log_stream_processor:[2023-11-17 19:35:44 +0000] [39] [INFO] Loading model from /tmp/tmp_f0jegpx/extracted_model_dir into memory\n",
      "INFO:snowflake.ml._internal.utils.log_stream_processor:[2023-11-17 19:35:44 +0000] [24] [INFO] Loading model from /tmp/tmp0xbrnt1_/extracted_model_dir into memory\n",
      "INFO:snowflake.ml._internal.utils.log_stream_processor:[2023-11-17 19:35:46 +0000] [26] [INFO] Successfully loaded model into memory\n",
      "INFO:snowflake.ml._internal.utils.log_stream_processor:[2023-11-17 19:35:46 +0000] [21] [INFO] Successfully loaded model into memory\n",
      "INFO:snowflake.ml._internal.utils.log_stream_processor:[2023-11-17 19:35:46 +0000] [23] [INFO] Successfully loaded model into memory\n",
      "INFO:snowflake.ml._internal.utils.log_stream_processor:[2023-11-17 19:35:46 +0000] [20] [INFO] Successfully loaded model into memory\n",
      "INFO:snowflake.ml._internal.utils.log_stream_processor:[2023-11-17 19:35:46 +0000] [32] [INFO] Successfully loaded model into memory\n",
      "INFO:snowflake.ml._internal.utils.log_stream_processor:[2023-11-17 19:35:46 +0000] [22] [INFO] Successfully loaded model into memory\n",
      "INFO:snowflake.ml._internal.utils.log_stream_processor:[2023-11-17 19:35:46 +0000] [37] [INFO] Successfully loaded model into memory\n",
      "INFO:snowflake.ml._internal.utils.log_stream_processor:[2023-11-17 19:35:47 +0000] [24] [INFO] Successfully loaded model into memory\n",
      "INFO:snowflake.ml._internal.utils.log_stream_processor:[2023-11-17 19:35:47 +0000] [39] [INFO] Successfully loaded model into memory\n",
      "INFO:snowflake.ml._internal.utils.log_stream_processor:\n",
      "INFO:snowflake.ml.model._deploy_client.snowservice.deploy:Service SHULIN_DB.SHULIN_SCHEMA.service_704eb1ee858011ee9dc05ac3f3b698e0 is ready. Creating service function...\n",
      "INFO:snowflake.ml.model._deploy_client.snowservice.deploy:Service function SHULIN_DB.SHULIN_SCHEMA.LOGISTIC_FUNC is created. Deployment completed successfully!\n",
      "INFO:snowflake.connector.cursor:query: [INSERT INTO SHULIN_DB.SHULIN_SCHEMA._SYSTEM_REGISTRY_DEPLOYMENTS ( CREATION_TIME...]\n",
      "INFO:snowflake.connector.cursor:query execution done\n",
      "INFO:snowflake.connector.cursor:query: [SELECT * FROM SHULIN_DB.SHULIN_SCHEMA._SYSTEM_REGISTRY_MODELS_VIEW]\n",
      "INFO:snowflake.connector.cursor:query execution done\n",
      "INFO:snowflake.connector.cursor:Number of results in first chunk: 0\n",
      "INFO:snowflake.connector.cursor:query: [SELECT  *  FROM (SELECT * FROM SHULIN_DB.SHULIN_SCHEMA._SYSTEM_REGISTRY_MODELS_V...]\n",
      "INFO:snowflake.connector.cursor:query execution done\n",
      "INFO:snowflake.connector.cursor:Number of results in first chunk: 1\n",
      "INFO:snowflake.connector.cursor:query: [INSERT INTO SHULIN_DB.SHULIN_SCHEMA._SYSTEM_REGISTRY_METADATA ( ATTRIBUTE_NAME,E...]\n",
      "INFO:snowflake.connector.cursor:query execution done\n"
     ]
    },
    {
     "data": {
      "text/plain": [
       "{'name': 'SHULIN_DB.SHULIN_SCHEMA.LOGISTIC_FUNC',\n",
       " 'platform': <TargetPlatform.SNOWPARK_CONTAINER_SERVICES: 'SNOWPARK_CONTAINER_SERVICES'>,\n",
       " 'target_method': 'predict',\n",
       " 'signature': ModelSignature(\n",
       "                     inputs=[\n",
       "                         FeatureSpec(dtype=DataType.DOUBLE, name='SEPALLENGTH'),\n",
       " \t\tFeatureSpec(dtype=DataType.DOUBLE, name='SEPALWIDTH'),\n",
       " \t\tFeatureSpec(dtype=DataType.DOUBLE, name='PETALLENGTH'),\n",
       " \t\tFeatureSpec(dtype=DataType.DOUBLE, name='PETALWIDTH')\n",
       "                     ],\n",
       "                     outputs=[\n",
       "                         FeatureSpec(dtype=DataType.DOUBLE, name='SEPALLENGTH'),\n",
       " \t\tFeatureSpec(dtype=DataType.DOUBLE, name='SEPALWIDTH'),\n",
       " \t\tFeatureSpec(dtype=DataType.DOUBLE, name='PETALLENGTH'),\n",
       " \t\tFeatureSpec(dtype=DataType.DOUBLE, name='PETALWIDTH'),\n",
       " \t\tFeatureSpec(dtype=DataType.DOUBLE, name='PREDICTED_TARGET')\n",
       "                     ]\n",
       "                 ),\n",
       " 'options': {'compute_pool': 'DEV_INFERENCE_CPU_POOL', 'enable_ingress': True},\n",
       " 'details': {'service_info': {'name': 'SERVICE_704EB1EE858011EE9DC05AC3F3B698E0',\n",
       "   'database_name': 'SHULIN_DB',\n",
       "   'schema_name': 'SHULIN_SCHEMA',\n",
       "   'owner': 'ENGINEER',\n",
       "   'compute_pool': 'DEV_INFERENCE_CPU_POOL',\n",
       "   'spec': '---\\nspec:\\n  containers:\\n  - name: \"inference-server\"\\n    image: \"sfengineering-mlplatformtest.registry.snowflakecomputing.com/shulin_db/shulin_schema/snowml_repo/260e5812c5d0c81981b30ab72d53a291a894a505:latest\"\\n    env:\\n      MODEL_ZIP_STAGE_PATH: \"/SHULIN_DB.SHULIN_SCHEMA.SNOWML_MODEL_704EB1EE858011EE9DC05AC3F3B698E0/model.zip\"\\n      NUM_WORKERS: \"None\"\\n      SNOWML_USE_GPU: \"false\"\\n      TARGET_METHOD: \"predict\"\\n    readinessProbe:\\n      port: 5000\\n      path: \"/health\"\\n    volumeMounts:\\n    - name: \"vol1\"\\n      mountPath: \"/local/user/vol1\"\\n    - name: \"stage\"\\n      mountPath: \"SHULIN_DB.SHULIN_SCHEMA.SNOWML_MODEL_704EB1EE858011EE9DC05AC3F3B698E0\"\\n  volumes:\\n  - name: \"vol1\"\\n    source: \"local\"\\n  - name: \"stage\"\\n    source: \"@SHULIN_DB.SHULIN_SCHEMA.SNOWML_MODEL_704EB1EE858011EE9DC05AC3F3B698E0\"\\n    uid: 1000\\n    gid: 1000\\n  endpoints:\\n  - name: \"predict\"\\n    port: 5000\\n    public: true\\n',\n",
       "   'dns_name': 'service-704eb1ee858011ee9dc05ac3f3b698e0.shulin-schema.shulin-db.snowflakecomputing.internal',\n",
       "   'public_endpoints': 'Endpoints provisioning in progress... check back in a few minutes',\n",
       "   'min_instances': 1,\n",
       "   'max_instances': 1,\n",
       "   'auto_resume': 'true',\n",
       "   'created_on': datetime.datetime(2023, 11, 17, 11, 35, 39, 754000, tzinfo=<DstTzInfo 'America/Los_Angeles' PST-1 day, 16:00:00 STD>),\n",
       "   'updated_on': datetime.datetime(2023, 11, 17, 11, 35, 40, 289000, tzinfo=<DstTzInfo 'America/Los_Angeles' PST-1 day, 16:00:00 STD>),\n",
       "   'comment': None},\n",
       "  'service_function_sql': \"\\nCREATE OR REPLACE FUNCTION SHULIN_DB.SHULIN_SCHEMA.LOGISTIC_FUNC(input OBJECT)\\n    RETURNS OBJECT\\n    SERVICE=SHULIN_DB.SHULIN_SCHEMA.service_704eb1ee858011ee9dc05ac3f3b698e0\\n    ENDPOINT=predict\\n\\n    AS '/predict'\\n\"}}"
      ]
     },
     "execution_count": 6,
     "metadata": {},
     "output_type": "execute_result"
    }
   ],
   "source": [
    "from snowflake.ml.model import deploy_platforms\n",
    "from snowflake import snowpark\n",
    "\n",
    "compute_pool = \"DEV_INFERENCE_CPU_POOL\" # Pre-created compute pool\n",
    "deployment_name = \"LOGISTIC_FUNC\" # Name of the resulting UDF\n",
    "\n",
    "deployment_info = model_ref.deploy(\n",
    "    deployment_name=deployment_name, \n",
    "    platform=deploy_platforms.TargetPlatform.SNOWPARK_CONTAINER_SERVICES,\n",
    "    target_method=\"predict\",\n",
    "    options={\n",
    "        \"compute_pool\": compute_pool,\n",
    "        \"enable_ingress\": True,\n",
    "        #num_gpus: 1 # Specify the number of GPUs for GPU inferenc\n",
    "    }\n",
    ")\n",
    "\n",
    "deployment_info"
   ]
  },
  {
   "cell_type": "code",
   "execution_count": 7,
   "id": "8709ee24-f7c0-458a-bc54-a2b78d5cc2cb",
   "metadata": {},
   "outputs": [],
   "source": [
    "import logging\n",
    "logging.basicConfig()\n",
    "logging.getLogger().setLevel(logging.WARNING)"
   ]
  },
  {
   "cell_type": "markdown",
   "id": "1c754e72",
   "metadata": {},
   "source": [
    "## Batch Prediction on Snowpark Container Service"
   ]
  },
  {
   "cell_type": "code",
   "execution_count": 8,
   "id": "a5c02328",
   "metadata": {},
   "outputs": [
    {
     "name": "stderr",
     "output_type": "stream",
     "text": [
      "WARNING:snowflake.snowpark:ModelReference.predict() is in private preview since 0.2.0. Do not use it in production. \n",
      "WARNING:snowflake.snowpark:ModelRegistry.get_deployment() is in private preview since 1.0.1. Do not use it in production. \n",
      "WARNING:snowflake.snowpark:ModelRegistry.list_deployments() is in private preview since 1.0.1. Do not use it in production. \n"
     ]
    },
    {
     "data": {
      "text/html": [
       "<div>\n",
       "<style scoped>\n",
       "    .dataframe tbody tr th:only-of-type {\n",
       "        vertical-align: middle;\n",
       "    }\n",
       "\n",
       "    .dataframe tbody tr th {\n",
       "        vertical-align: top;\n",
       "    }\n",
       "\n",
       "    .dataframe thead th {\n",
       "        text-align: right;\n",
       "    }\n",
       "</style>\n",
       "<table border=\"1\" class=\"dataframe\">\n",
       "  <thead>\n",
       "    <tr style=\"text-align: right;\">\n",
       "      <th></th>\n",
       "      <th>SEPALLENGTH</th>\n",
       "      <th>SEPALWIDTH</th>\n",
       "      <th>PETALLENGTH</th>\n",
       "      <th>PETALWIDTH</th>\n",
       "      <th>PREDICTED_TARGET</th>\n",
       "    </tr>\n",
       "  </thead>\n",
       "  <tbody>\n",
       "    <tr>\n",
       "      <th>0</th>\n",
       "      <td>5.1</td>\n",
       "      <td>3.5</td>\n",
       "      <td>1.4</td>\n",
       "      <td>0.2</td>\n",
       "      <td>0.0</td>\n",
       "    </tr>\n",
       "    <tr>\n",
       "      <th>1</th>\n",
       "      <td>4.9</td>\n",
       "      <td>3.0</td>\n",
       "      <td>1.4</td>\n",
       "      <td>0.2</td>\n",
       "      <td>0.0</td>\n",
       "    </tr>\n",
       "    <tr>\n",
       "      <th>2</th>\n",
       "      <td>4.7</td>\n",
       "      <td>3.2</td>\n",
       "      <td>1.3</td>\n",
       "      <td>0.2</td>\n",
       "      <td>0.0</td>\n",
       "    </tr>\n",
       "    <tr>\n",
       "      <th>3</th>\n",
       "      <td>4.6</td>\n",
       "      <td>3.1</td>\n",
       "      <td>1.5</td>\n",
       "      <td>0.2</td>\n",
       "      <td>0.0</td>\n",
       "    </tr>\n",
       "    <tr>\n",
       "      <th>4</th>\n",
       "      <td>5.0</td>\n",
       "      <td>3.6</td>\n",
       "      <td>1.4</td>\n",
       "      <td>0.2</td>\n",
       "      <td>0.0</td>\n",
       "    </tr>\n",
       "    <tr>\n",
       "      <th>5</th>\n",
       "      <td>5.4</td>\n",
       "      <td>3.9</td>\n",
       "      <td>1.7</td>\n",
       "      <td>0.4</td>\n",
       "      <td>0.0</td>\n",
       "    </tr>\n",
       "    <tr>\n",
       "      <th>6</th>\n",
       "      <td>4.6</td>\n",
       "      <td>3.4</td>\n",
       "      <td>1.4</td>\n",
       "      <td>0.3</td>\n",
       "      <td>0.0</td>\n",
       "    </tr>\n",
       "    <tr>\n",
       "      <th>7</th>\n",
       "      <td>5.0</td>\n",
       "      <td>3.4</td>\n",
       "      <td>1.5</td>\n",
       "      <td>0.2</td>\n",
       "      <td>0.0</td>\n",
       "    </tr>\n",
       "    <tr>\n",
       "      <th>8</th>\n",
       "      <td>4.4</td>\n",
       "      <td>2.9</td>\n",
       "      <td>1.4</td>\n",
       "      <td>0.2</td>\n",
       "      <td>0.0</td>\n",
       "    </tr>\n",
       "    <tr>\n",
       "      <th>9</th>\n",
       "      <td>4.9</td>\n",
       "      <td>3.1</td>\n",
       "      <td>1.5</td>\n",
       "      <td>0.1</td>\n",
       "      <td>0.0</td>\n",
       "    </tr>\n",
       "  </tbody>\n",
       "</table>\n",
       "</div>"
      ],
      "text/plain": [
       "   SEPALLENGTH  SEPALWIDTH  PETALLENGTH  PETALWIDTH  PREDICTED_TARGET\n",
       "0          5.1         3.5          1.4         0.2               0.0\n",
       "1          4.9         3.0          1.4         0.2               0.0\n",
       "2          4.7         3.2          1.3         0.2               0.0\n",
       "3          4.6         3.1          1.5         0.2               0.0\n",
       "4          5.0         3.6          1.4         0.2               0.0\n",
       "5          5.4         3.9          1.7         0.4               0.0\n",
       "6          4.6         3.4          1.4         0.3               0.0\n",
       "7          5.0         3.4          1.5         0.2               0.0\n",
       "8          4.4         2.9          1.4         0.2               0.0\n",
       "9          4.9         3.1          1.5         0.1               0.0"
      ]
     },
     "execution_count": 8,
     "metadata": {},
     "output_type": "execute_result"
    }
   ],
   "source": [
    "model_ref.predict(deployment_name, test_features)"
   ]
  },
  {
   "cell_type": "markdown",
   "id": "add87e4c-986c-4757-a3f5-5109f66d94c6",
   "metadata": {},
   "source": [
    "## Invoke Service Public Endpoint on Snowpark Container Service"
   ]
  },
  {
   "cell_type": "markdown",
   "id": "829eac06-b760-443f-aaee-0915b0208005",
   "metadata": {},
   "source": [
    "### Prerequisites:\n",
    "- For Limited Private Preview, the ACCOUNTADMIN of your Snowflake account must execute the following command:\n",
    "```\n",
    "CREATE SECURITY INTEGRATION SNOWSERVICES_INGRESS_OAUTH\n",
    "TYPE=oauth\n",
    "OAUTH_CLIENT=snowservices_ingress\n",
    "ENABLED=true;\n",
    "```\n",
    "\n",
    "### Notes:\n",
    "- Because Snowpark Containers uses Snowflake OAuth to enable ingress, the default role of the user cannot be any of the privileged roles, including ACCOUNTADMIN, SECURITYADMIN, and ORGADMIN. For more information, see Blocking Specific Roles from Using the Integration.\n",
    "\n",
    "- Not everyone can access the public endpoints a service exposes. Only users in the same Snowflake account having a role with USAGE privilege on a service can access the public endpoints of the service.\n",
    "\n",
    "For more details, please refers to https://docs.snowflake.com/LIMITEDACCESS/snowpark-containers/working-with-services#ingress-using-a-service-from-outside-snowflake for detailed setup to enable public endpoint on Snowpark Container Service.\n",
    "\n",
    "\n",
    "\n"
   ]
  },
  {
   "cell_type": "code",
   "execution_count": 9,
   "id": "5d35ef90-0a5d-4c2f-80a9-ca6d6c2eb60c",
   "metadata": {},
   "outputs": [],
   "source": [
    "import json\n",
    "def get_service_endpoint():\n",
    "    service_info = deployment_info[\"details\"][\"service_info\"]\n",
    "    rows = session.sql(f'DESCRIBE SERVICE {service_info[\"database_name\"]}.{service_info[\"schema_name\"]}.{service_info[\"name\"]}').collect()\n",
    "    res = rows[0][\"public_endpoints\"]\n",
    "    if \"provisioning in progress\" in res:\n",
    "        raise Valuere(\"Endpoints provisioning in progress. Please retry in a few seconds\")        \n",
    "    res_json = json.loads(res)\n",
    "    target_method = deployment_info[\"target_method\"]\n",
    "    return res_json[target_method]\n",
    "\n",
    "def get_session_token(session) -> str:\n",
    "    \"\"\"\n",
    "    Gets session token from Snowflake client.\n",
    "    \"\"\"\n",
    "    return session._conn._conn._rest._token_request(\"ISSUE\")[\"data\"][\"sessionToken\"]"
   ]
  },
  {
   "cell_type": "code",
   "execution_count": 10,
   "id": "5f2c6442-1026-4761-b1cd-64a6a8bf3fa8",
   "metadata": {},
   "outputs": [],
   "source": [
    "data = {\"data\": [[index, {\"_ID\": index, **row.to_dict()}] for index, row in test_features.iterrows()]}"
   ]
  },
  {
   "cell_type": "code",
   "execution_count": 11,
   "id": "5d90c42c-678b-449c-9b11-4ca34fa23d6b",
   "metadata": {
    "scrolled": true
   },
   "outputs": [
    {
     "ename": "NameError",
     "evalue": "name 'Valuere' is not defined",
     "output_type": "error",
     "traceback": [
      "\u001b[0;31m---------------------------------------------------------------------------\u001b[0m",
      "\u001b[0;31mNameError\u001b[0m                                 Traceback (most recent call last)",
      "Cell \u001b[0;32mIn[11], line 12\u001b[0m\n\u001b[1;32m      6\u001b[0m session_token \u001b[38;5;241m=\u001b[39m get_session_token(session)\n\u001b[1;32m      7\u001b[0m headers \u001b[38;5;241m=\u001b[39m {\n\u001b[1;32m      8\u001b[0m     \u001b[38;5;124m\"\u001b[39m\u001b[38;5;124mAuthorization\u001b[39m\u001b[38;5;124m\"\u001b[39m: \u001b[38;5;124mf\u001b[39m\u001b[38;5;124m'\u001b[39m\u001b[38;5;124mSnowflake Token=\u001b[39m\u001b[38;5;124m\"\u001b[39m\u001b[38;5;132;01m{\u001b[39;00msession_token\u001b[38;5;132;01m}\u001b[39;00m\u001b[38;5;124m\"\u001b[39m\u001b[38;5;124m'\u001b[39m,\n\u001b[1;32m      9\u001b[0m }\n\u001b[0;32m---> 12\u001b[0m api_endpoint \u001b[38;5;241m=\u001b[39m \u001b[38;5;124mf\u001b[39m\u001b[38;5;124m\"\u001b[39m\u001b[38;5;124mhttps://\u001b[39m\u001b[38;5;132;01m{\u001b[39;00m\u001b[43mget_service_endpoint\u001b[49m\u001b[43m(\u001b[49m\u001b[43m)\u001b[49m\u001b[38;5;132;01m}\u001b[39;00m\u001b[38;5;124m/predict\u001b[39m\u001b[38;5;124m\"\u001b[39m\n\u001b[1;32m     14\u001b[0m res \u001b[38;5;241m=\u001b[39m requests\u001b[38;5;241m.\u001b[39mpost(api_endpoint, json\u001b[38;5;241m=\u001b[39mdata, headers\u001b[38;5;241m=\u001b[39mheaders)\n\u001b[1;32m     16\u001b[0m session\u001b[38;5;241m.\u001b[39msql(\u001b[38;5;124m\"\u001b[39m\u001b[38;5;124mALTER SESSION SET PYTHON_CONNECTOR_QUERY_RESULT_FORMAT = \u001b[39m\u001b[38;5;124m'\u001b[39m\u001b[38;5;124marrow\u001b[39m\u001b[38;5;124m'\u001b[39m\u001b[38;5;124m\"\u001b[39m)\u001b[38;5;241m.\u001b[39mcollect()\n",
      "Cell \u001b[0;32mIn[9], line 7\u001b[0m, in \u001b[0;36mget_service_endpoint\u001b[0;34m()\u001b[0m\n\u001b[1;32m      5\u001b[0m res \u001b[38;5;241m=\u001b[39m rows[\u001b[38;5;241m0\u001b[39m][\u001b[38;5;124m\"\u001b[39m\u001b[38;5;124mpublic_endpoints\u001b[39m\u001b[38;5;124m\"\u001b[39m]\n\u001b[1;32m      6\u001b[0m \u001b[38;5;28;01mif\u001b[39;00m \u001b[38;5;124m\"\u001b[39m\u001b[38;5;124mprovisioning in progress\u001b[39m\u001b[38;5;124m\"\u001b[39m \u001b[38;5;129;01min\u001b[39;00m res:\n\u001b[0;32m----> 7\u001b[0m     \u001b[38;5;28;01mraise\u001b[39;00m \u001b[43mValuere\u001b[49m(\u001b[38;5;124m\"\u001b[39m\u001b[38;5;124mEndpoints provisioning in progress. Please retry in a few seconds\u001b[39m\u001b[38;5;124m\"\u001b[39m)        \n\u001b[1;32m      8\u001b[0m res_json \u001b[38;5;241m=\u001b[39m json\u001b[38;5;241m.\u001b[39mloads(res)\n\u001b[1;32m      9\u001b[0m target_method \u001b[38;5;241m=\u001b[39m deployment_info[\u001b[38;5;124m\"\u001b[39m\u001b[38;5;124mtarget_method\u001b[39m\u001b[38;5;124m\"\u001b[39m]\n",
      "\u001b[0;31mNameError\u001b[0m: name 'Valuere' is not defined"
     ]
    }
   ],
   "source": [
    "import requests\n",
    "\n",
    "# Temporarily reset PYTHON_CONNECTOR_QUERY_RESULT_FORMAT needed for obtaining session token. \n",
    "session.sql(\"ALTER SESSION SET PYTHON_CONNECTOR_QUERY_RESULT_FORMAT = 'json'\").collect()\n",
    "\n",
    "session_token = get_session_token(session)\n",
    "headers = {\n",
    "    \"Authorization\": f'Snowflake Token=\"{session_token}\"',\n",
    "}\n",
    "\n",
    "\n",
    "api_endpoint = f\"https://{get_service_endpoint()}/predict\"\n",
    "\n",
    "res = requests.post(api_endpoint, json=data, headers=headers)\n",
    "\n",
    "session.sql(\"ALTER SESSION SET PYTHON_CONNECTOR_QUERY_RESULT_FORMAT = 'arrow'\").collect()\n",
    "\n",
    "res.json()[\"da\"]\n"
   ]
  },
  {
   "cell_type": "markdown",
   "id": "2b45f922-7b36-4555-a148-e78af0a4cf5d",
   "metadata": {},
   "source": [
    "## Cleanup "
   ]
  },
  {
   "cell_type": "code",
   "execution_count": null,
   "id": "12991f07",
   "metadata": {},
   "outputs": [],
   "source": [
    "model_ref.delete_deployment(deployment_name=deployment_name)"
   ]
  },
  {
   "cell_type": "code",
   "execution_count": null,
   "id": "09f337d2",
   "metadata": {},
   "outputs": [],
   "source": [
    "model_ref.delete_model()"
   ]
  }
 ],
 "metadata": {
  "kernelspec": {
   "display_name": "Python [conda env:micromamba-snowml_1.0.12] *",
   "language": "python",
   "name": "conda-env-micromamba-snowml_1.0.12-py"
  },
  "language_info": {
   "codemirror_mode": {
    "name": "ipython",
    "version": 3
   },
   "file_extension": ".py",
   "mimetype": "text/x-python",
   "name": "python",
   "nbconvert_exporter": "python",
   "pygments_lexer": "ipython3",
   "version": "3.10.8"
  }
 },
 "nbformat": 4,
 "nbformat_minor": 5
}
