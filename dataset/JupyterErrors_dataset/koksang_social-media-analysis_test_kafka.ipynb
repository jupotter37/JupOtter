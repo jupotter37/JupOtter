{
 "cells": [
  {
   "cell_type": "code",
   "execution_count": 1,
   "id": "7ccfdaab-f31d-4505-9ecf-ba814e56c500",
   "metadata": {},
   "outputs": [],
   "source": [
    "%load_ext autoreload\n",
    "%autoreload 2"
   ]
  },
  {
   "cell_type": "code",
   "execution_count": 1,
   "id": "b4471d91-6e10-4d6b-8439-67ae304867c3",
   "metadata": {},
   "outputs": [],
   "source": [
    "CONFIG = \"./kafka.yaml\"\n",
    "TOPIC = \"tweet\""
   ]
  },
  {
   "cell_type": "code",
   "execution_count": 2,
   "id": "ecdec0cf",
   "metadata": {},
   "outputs": [],
   "source": [
    "import os\n",
    "import sys\n",
    "import yaml\n",
    "import json\n",
    "\n",
    "from tqdm import tqdm\n",
    "from confluent_kafka import Producer, Consumer\n",
    "\n",
    "with open(CONFIG) as f:\n",
    "    config = yaml.safe_load(f)\n",
    "\n",
    "p = Producer(config['default'])\n",
    "\n",
    "consumer_config = config[\"consumer\"].copy()\n",
    "consumer_config.update(config[\"default\"])\n",
    "c = Consumer(consumer_config)\n",
    "c.subscribe([TOPIC])"
   ]
  },
  {
   "cell_type": "code",
   "execution_count": 3,
   "id": "e3219503-664d-4e39-86d5-2714733a0e8c",
   "metadata": {},
   "outputs": [
    {
     "name": "stderr",
     "output_type": "stream",
     "text": [
      "100%|██████████████████████████████████████████████████████████████████████████████████████████████████████████████| 100/100 [00:00<00:00, 83802.28it/s]\n"
     ]
    },
    {
     "data": {
      "text/plain": [
       "0"
      ]
     },
     "execution_count": 3,
     "metadata": {},
     "output_type": "execute_result"
    }
   ],
   "source": [
    "message = dict(gg=\"123\", lala=\"asdas\")\n",
    "\n",
    "for i in tqdm(range(50)):\n",
    "    p.produce(TOPIC, json.dumps(message), \"message\")\n",
    "    \n",
    "p.flush()"
   ]
  },
  {
   "cell_type": "code",
   "execution_count": 4,
   "id": "31ab633d-07b2-4ac8-af8b-4204763eb064",
   "metadata": {},
   "outputs": [
    {
     "name": "stderr",
     "output_type": "stream",
     "text": [
      "100%|███████████████████████████████████████████████████████████████████████████████████████████████████████████████████| 10/10 [00:00<00:00, 85.04it/s]\n"
     ]
    },
    {
     "data": {
      "text/plain": [
       "[<cimpl.Message at 0x10c8a3840>,\n",
       " <cimpl.Message at 0x10c8a38c0>,\n",
       " <cimpl.Message at 0x10c8a3940>,\n",
       " <cimpl.Message at 0x10c8a39c0>,\n",
       " <cimpl.Message at 0x10c8a3a40>,\n",
       " <cimpl.Message at 0x10c8a3ac0>,\n",
       " <cimpl.Message at 0x10c8a3b40>,\n",
       " <cimpl.Message at 0x10c8a3bc0>,\n",
       " <cimpl.Message at 0x10c8a3c40>,\n",
       " <cimpl.Message at 0x10c8a3d40>]"
      ]
     },
     "execution_count": 4,
     "metadata": {},
     "output_type": "execute_result"
    }
   ],
   "source": [
    "msg = []\n",
    "\n",
    "for _ in tqdm(range(10)):\n",
    "    msg.append(c.poll(0.5))\n",
    "    \n",
    "msg\n",
    "# msg[0].topic(), msg[0].key().decode(\"utf-8\"), msg[0].value().decode(\"utf-8\")"
   ]
  },
  {
   "cell_type": "code",
   "execution_count": 8,
   "id": "b6c56a76-1ede-45db-964d-51540e716a68",
   "metadata": {},
   "outputs": [
    {
     "data": {
      "text/plain": [
       "{'gg': '123', 'lala': 'asdas'}"
      ]
     },
     "execution_count": 8,
     "metadata": {},
     "output_type": "execute_result"
    },
    {
     "name": "stderr",
     "output_type": "stream",
     "text": [
      "%4|1658506754.295|MAXPOLL|rdkafka#consumer-2| [thrd:main]: Application maximum poll interval (300000ms) exceeded by 130ms (adjust max.poll.interval.ms for long-running message processing): leaving group\n"
     ]
    }
   ],
   "source": [
    "json.loads( msg[-1].value().decode(\"utf-8\") )"
   ]
  },
  {
   "cell_type": "code",
   "execution_count": 15,
   "id": "29ff1405-c9e2-43c8-b690-7b26bfe99868",
   "metadata": {},
   "outputs": [
    {
     "ename": "AttributeError",
     "evalue": "'str' object has no attribute 'items'",
     "output_type": "error",
     "traceback": [
      "\u001b[0;31m---------------------------------------------------------------------------\u001b[0m",
      "\u001b[0;31mAttributeError\u001b[0m                            Traceback (most recent call last)",
      "Input \u001b[0;32mIn [15]\u001b[0m, in \u001b[0;36m<cell line: 3>\u001b[0;34m()\u001b[0m\n\u001b[1;32m      1\u001b[0m \u001b[38;5;28;01mimport\u001b[39;00m \u001b[38;5;21;01mjson\u001b[39;00m\n\u001b[0;32m----> 3\u001b[0m \u001b[43mjson\u001b[49m\u001b[38;5;241;43m.\u001b[39;49m\u001b[43mloads\u001b[49m\u001b[43m(\u001b[49m\u001b[43m \u001b[49m\u001b[43mjson\u001b[49m\u001b[38;5;241;43m.\u001b[39;49m\u001b[43mdumps\u001b[49m\u001b[43m(\u001b[49m\u001b[43mmsg\u001b[49m\u001b[43m[\u001b[49m\u001b[38;5;241;43m-\u001b[39;49m\u001b[38;5;241;43m1\u001b[39;49m\u001b[43m]\u001b[49m\u001b[38;5;241;43m.\u001b[39;49m\u001b[43mvalue\u001b[49m\u001b[43m(\u001b[49m\u001b[43m)\u001b[49m\u001b[38;5;241;43m.\u001b[39;49m\u001b[43mdecode\u001b[49m\u001b[43m(\u001b[49m\u001b[38;5;124;43m'\u001b[39;49m\u001b[38;5;124;43mutf-8\u001b[39;49m\u001b[38;5;124;43m'\u001b[39;49m\u001b[43m)\u001b[49m\u001b[43m)\u001b[49m\u001b[43m \u001b[49m\u001b[43m)\u001b[49m\u001b[38;5;241;43m.\u001b[39;49m\u001b[43mitems\u001b[49m()\n",
      "\u001b[0;31mAttributeError\u001b[0m: 'str' object has no attribute 'items'"
     ]
    }
   ],
   "source": [
    "import json\n",
    "\n",
    "json.loads( json.dumps(msg[-1].value().decode('utf-8')) )"
   ]
  },
  {
   "cell_type": "code",
   "execution_count": 7,
   "id": "089f147e-e419-4b65-8aa0-15773a24718c",
   "metadata": {},
   "outputs": [],
   "source": [
    "import sys\n",
    "\n",
    "sys.path.insert(0, \"/Users/klim/Projects/twitter-trends-crawling/src\")\n",
    "\n",
    "from base.model import Queue, Crawler\n",
    "from module.queue.queue import App"
   ]
  },
  {
   "cell_type": "code",
   "execution_count": 10,
   "id": "821a72dd-f204-40fe-b773-fd3a51d1ec70",
   "metadata": {},
   "outputs": [
    {
     "name": "stderr",
     "output_type": "stream",
     "text": [
      "2022-06-12 23:45 | [  INFO  ] base.model.__attrs_post_init__.42  - config: {'config': {'default': {'bootstrap.servers': 'localhost:9092'}, 'consumer': {'group.id': 'app', 'auto.offset.reset': 'earliest'}}, 'run_mode': 'CONSUME'}\n"
     ]
    }
   ],
   "source": [
    "q = App(config=config, run_mode=\"CONSUME\")"
   ]
  },
  {
   "cell_type": "code",
   "execution_count": 11,
   "id": "8a43909e-bbe1-4043-9031-23cf360b7d15",
   "metadata": {},
   "outputs": [
    {
     "name": "stdout",
     "output_type": "stream",
     "text": [
      "{'bootstrap.servers': 'localhost:9092', 'group.id': 'app', 'auto.offset.reset': 'earliest'}\n"
     ]
    }
   ],
   "source": [
    "q.run()"
   ]
  },
  {
   "cell_type": "code",
   "execution_count": null,
   "id": "b6bec714-f6ae-4710-b8a2-30c89943a45b",
   "metadata": {},
   "outputs": [],
   "source": []
  }
 ],
 "metadata": {
  "interpreter": {
   "hash": "0bcb3d2749583f9744ca1908632df761bb606a278d7e0c334f267413729cac7c"
  },
  "kernelspec": {
   "display_name": "Python 3 (ipykernel)",
   "language": "python",
   "name": "python3"
  },
  "language_info": {
   "codemirror_mode": {
    "name": "ipython",
    "version": 3
   },
   "file_extension": ".py",
   "mimetype": "text/x-python",
   "name": "python",
   "nbconvert_exporter": "python",
   "pygments_lexer": "ipython3",
   "version": "3.9.6"
  }
 },
 "nbformat": 4,
 "nbformat_minor": 5
}
