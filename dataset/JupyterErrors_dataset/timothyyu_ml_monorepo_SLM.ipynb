{
 "cells": [
  {
   "cell_type": "code",
   "execution_count": 1,
   "metadata": {},
   "outputs": [],
   "source": [
    "### Prepare the workbook\n",
    "import numpy\n",
    "import pandas as pd\n",
    "import pyfolio as pf\n",
    "#import tushare as ts\n",
    "import matplotlib.pyplot as plt\n",
    "from scipy import stats\n",
    "from sklearn import linear_model\n",
    "\n",
    "\n",
    "\n",
    "%matplotlib inline"
   ]
  },
  {
   "cell_type": "code",
   "execution_count": 2,
   "metadata": {},
   "outputs": [],
   "source": [
    "#### function: get Patterns with specified nr of days lookingback\n",
    "def get_patterns(n, ret) :\n",
    "    signals = pd.DataFrame()\n",
    "    scores = [];\n",
    "    for i in range(n) :\n",
    "        signals[i] = (ret.shift(n-i-1) > 0) * 1\n",
    "        if (i == 0) :\n",
    "            scores = signals[i];\n",
    "        else :\n",
    "            scores = scores + signals[i] * pow(2, i);\n",
    "    return scores;\n",
    "\n",
    "def get_patterns1(n, ret) :\n",
    "    signals = pd.DataFrame();\n",
    "    scores = [];\n",
    "    for i in range(0, n) :\n",
    "        signals[i] = 2*(ret.shift(n - i-1) > 0.0075)\n",
    "        signals[i] = signals[i] + 1*((ret.shift(n - i - 1) > -0.0075) & (signals[i] != 2))\n",
    "        if (i == 0) :\n",
    "            scores = signals[i];\n",
    "        else :\n",
    "            scores = scores + signals[i] * pow(3, i);\n",
    "    return scores;"
   ]
  },
  {
   "cell_type": "markdown",
   "metadata": {},
   "source": [
    "reading data"
   ]
  },
  {
   "cell_type": "code",
   "execution_count": 3,
   "metadata": {},
   "outputs": [],
   "source": [
    "data = pd.read_csv('../../data/index_shanghai.csv', index_col='date', parse_dates=True)\n",
    "data = data['19950101'::]\n",
    "#data = pd.read_excel('../../data/500ETF_510500_1d_20151028.xlsx', index_col='date', parse_dates=True)\n",
    "\n",
    "#### Return calculation\n",
    "ret_cc = data['close'] / data['close'].shift(1) - 1\n",
    "ret_co = data['close'] / data['open'] - 1\n",
    "ret_oc = data['open'] / data['close'].shift(1) - 1\n",
    "data['ret_cc'] = ret_cc;\n",
    "data['ret_co'] = ret_co;\n",
    "data['ret_oc'] = ret_oc;\n",
    "ret_all = data.ix[:, ('ret_cc', 'ret_co', 'ret_oc')]\n",
    "\n",
    "### cleaning\n",
    "data = data.dropna()"
   ]
  },
  {
   "cell_type": "code",
   "execution_count": 4,
   "metadata": {},
   "outputs": [
    {
     "data": {
      "text/plain": [
       "5022"
      ]
     },
     "execution_count": 4,
     "output_type": "execute_result",
     "metadata": {}
    }
   ],
   "source": [
    "len(data)"
   ]
  },
  {
   "cell_type": "code",
   "execution_count": 17,
   "metadata": {},
   "outputs": [],
   "source": [
    "ret = data['ret_cc']\n",
    "#ret = ret.ix[2000:3000]\n",
    "n = 5\n",
    "annualized_factor = 365\n",
    "\n",
    "### function: get patterns, and calculate the historical insample returns, sharpe ratios and \n",
    "### other risk measures for each pattern. \n",
    "def pattern_characters(n, ret, annualized_factor=365) :\n",
    "    pattern = get_patterns(n, ret)\n",
    "    ret_pattern = pd.DataFrame(pattern.shift(1), columns=['pattern']).join(ret)\n",
    "    ret_pattern_grouped = ret_pattern.groupby('pattern')\n",
    "\n",
    "    nr_group = ret_pattern_grouped.count().shape[0]\n",
    "    counts = {}\n",
    "    probs = {}\n",
    "    profit_factor = {}\n",
    "    sharpes = {}\n",
    "    for i in range(nr_group) :\n",
    "        ret_test = ret_pattern_grouped.get_group(i).ix[:, 1]\n",
    "        counts[i] = len(ret_test)\n",
    "        probs[i] = sum(ret_test > 0) / counts[i]\n",
    "        profit_factor[i] = sum(ret_test[ret_test > 0]) / sum(-ret_test[ret_test < 0])\n",
    "        sharpes[i] = numpy.mean(ret_test) / numpy.std(ret_test) * numpy.sqrt(annualized_factor)\n",
    "    prob_list = pd.DataFrame(pd.Series(counts, name='count'), index = range(nr_group))\n",
    "    prob_list = prob_list.join(pd.Series(probs, name='win_rate'))\n",
    "    prob_list = prob_list.join(pd.Series(profit_factor, name='profit_factor'))\n",
    "    prob_list = prob_list.join(pd.Series(sharpes, name='sharpes'))\n",
    "    \n",
    "    return prob_list\n",
    "\n",
    "### function: determine the best trading strategy, based on the pattern,and its historical risk measure\n",
    "def optimize_returns(n, ret, prob_list) :\n",
    "    n_total = len(ret)\n",
    "    patterns = get_patterns(n, ret);\n",
    "    ret_patterns = pd.DataFrame(patterns.shift(1), columns=['patterns']).join(ret)\n",
    "    \n",
    "    signal = pd.Series(0, index=ret_patterns.index)\n",
    "    for i in range(n_total) :\n",
    "        pattern = ret_patterns['patterns'].ix[i]\n",
    "        if numpy.isnan(pattern):\n",
    "            sharpe = 0;\n",
    "            win_ratio = 0;\n",
    "        else :\n",
    "            sharpe = prob_list['sharpes'].ix[pattern]\n",
    "            win_ratio = prob_list['win_rate'].ix[pattern]\n",
    "        if ( win_ratio > 0.55) :\n",
    "            signal[i] = 1\n",
    "        elif (win_ratio < 0.45) :\n",
    "            signal[i] = -1\n",
    "        else:\n",
    "            signal[i] = 0\n",
    "        #signal[i] = sharpe\n",
    "    #print(ret_patterns.ix[:, 1])      \n",
    "    ret_strategy = ret_patterns.ix[:, 1] * pd.Series(signal, index=ret_patterns.index)\n",
    "    return ret_strategy"
   ]
  },
  {
   "cell_type": "markdown",
   "metadata": {},
   "source": [
    "### Out of Sample (OOS) test \n",
    "Here is the oos test function for the strategy. We implemented 3 types of OOS\n",
    "1. fixed lookback period (in sample), the rest of the data goes to oos test\n",
    "2. Insample window has a fixed starting point ( at 0) and sliding. The oos window is defined as n_sliding\n",
    "3. "
   ]
  },
  {
   "cell_type": "code",
   "execution_count": 18,
   "metadata": {},
   "outputs": [],
   "source": [
    "### function: 3 types of out-of-sample test for the pattern trading\n",
    "def strategy_oos_test(n, ret, type = 1, n_lookback = 0, n_sliding = 0) :\n",
    "    n_total = len(ret)\n",
    "    ret_oos = pd.DataFrame();\n",
    "    \n",
    "    ## type = 1: single train set defined by n_lookback, single test set from n_lookback:n_total\n",
    "    if type == 1 or type == 0:\n",
    "        ret_train = ret[0:(n_lookback - 1)]\n",
    "        ret_test = ret[n_lookback::]\n",
    "\n",
    "        prob_list = pattern_characters(n, ret_train)\n",
    "        ret_strategy = optimize_returns(n, ret_test, prob_list)\n",
    "        ret_oos['t1'] = ret_strategy\n",
    "        #(1+ret_strategy).cumprod().plot()\n",
    "    ## type 2: sliding insample window, defined by n_lookback and sliding forward. The test set window is defined as n_      \n",
    "    if type == 2 or type == 0:\n",
    "        k = n_lookback\n",
    "        ret_strategy = pd.Series()\n",
    "        while k < n_total-1 :\n",
    "            ret_train = ret[0:(k - 1)]\n",
    "            if (k+n_sliding) <= n_total :\n",
    "                k2 = k + n_sliding - 1\n",
    "            else :\n",
    "                k2 = n_total - 1\n",
    "            ret_test = ret[k:k2]\n",
    "\n",
    "            ## trading\n",
    "            prob_list = pattern_characters(n, ret_train)\n",
    "            ret_strategy = ret_strategy.append(optimize_returns(n, ret_test, prob_list))\n",
    "            k = k2;\n",
    "        ret_oos['t2'] = ret_strategy\n",
    "        #(1+ret_strategy).cumprod().plot()\n",
    "    ## type 3: sliding insample window, defined by n_lookback and sliding forward. The test set window is defined as n_      \n",
    "    if type == 3 or type == 0:\n",
    "        k = n_lookback\n",
    "        ret_strategy = pd.Series()\n",
    "        while k < n_total-1 :\n",
    "            ret_train = ret[(k-n_lookback):(k - 1)]\n",
    "            if (k+n_sliding) <= n_total :\n",
    "                k2 = k + n_sliding - 1\n",
    "            else :\n",
    "                k2 = n_total - 1\n",
    "            ret_test = ret[k:k2]\n",
    "\n",
    "            ## trading\n",
    "            prob_list = pattern_characters(n, ret_train)\n",
    "            ret_strategy = ret_strategy.append(optimize_returns(n, ret_test, prob_list))\n",
    "            k = k2;\n",
    "        ret_oos['t3'] = ret_strategy\n",
    "        #(1+ret_strategy).cumprod().plot()\n",
    "        \n",
    "    return ret_oos;"
   ]
  },
  {
   "cell_type": "markdown",
   "metadata": {},
   "source": [
    "now we use the out-of-sample test , to show how the performance can be using pattern to trade. "
   ]
  },
  {
   "cell_type": "code",
   "execution_count": 21,
   "metadata": {},
   "outputs": [
    {
     "name": "stderr",
     "output_type": "stream",
     "text": [
      "/Applications/anaconda/lib/python3.5/site-packages/pandas/core/indexing.py:1186: FutureWarning: scalar indexers for index type Int64Index should be integers and not floating point\n",
      "  self._convert_scalar_indexer(key, axis)\n",
      "/Applications/anaconda/lib/python3.5/site-packages/pandas/core/indexing.py:81: FutureWarning: scalar indexers for index type Int64Index should be integers and not floating point\n",
      "  return self.obj[label]\n"
     ]
    },
    {
     "data": {
      "text/plain": [
       "{1: 0.36424664346096469, 2: 0.25733465937344607, 3: 0.3167578319244157}"
      ]
     },
     "execution_count": 21,
     "output_type": "execute_result",
     "metadata": {}
    },
    {
     "data": {
      "image/png": "[encoded data removed]"
     },
     "output_type": "display_data",
     "metadata": {}
    }
   ],
   "source": [
    "n=5\n",
    "n_lookback = 1000\n",
    "n_sliding = 100\n",
    "ret_oos = strategy_oos_test(n, ret, 0, n_lookback, n_sliding)\n",
    "(1+ret_oos).cumprod().plot()\n",
    "\n",
    "winrate = {}\n",
    "winrate[1] = sum(ret_oos.t1>0) / len(ret_oos.t1)\n",
    "winrate[2] = sum(ret_oos.t2 > 0) / len(ret_oos.t2)\n",
    "winrate[3] = sum(ret_oos.t3 > 0) / len(ret_oos.t3)\n",
    "winrate"
   ]
  },
  {
   "cell_type": "code",
   "execution_count": 22,
   "metadata": {},
   "outputs": [
    {
     "data": {
      "text/html": [
       "<div>\n",
       "<table border=\"1\" class=\"dataframe\">\n",
       "  <thead>\n",
       "    <tr style=\"text-align: right;\">\n",
       "      <th></th>\n",
       "      <th>count</th>\n",
       "      <th>win_rate</th>\n",
       "      <th>profit_factor</th>\n",
       "      <th>sharpes</th>\n",
       "    </tr>\n",
       "  </thead>\n",
       "  <tbody>\n",
       "    <tr>\n",
       "      <th>0</th>\n",
       "      <td>127</td>\n",
       "      <td>0.511811</td>\n",
       "      <td>1.111484</td>\n",
       "      <td>0.700578</td>\n",
       "    </tr>\n",
       "    <tr>\n",
       "      <th>1</th>\n",
       "      <td>150</td>\n",
       "      <td>0.566667</td>\n",
       "      <td>1.084951</td>\n",
       "      <td>0.528594</td>\n",
       "    </tr>\n",
       "    <tr>\n",
       "      <th>2</th>\n",
       "      <td>150</td>\n",
       "      <td>0.506667</td>\n",
       "      <td>0.997335</td>\n",
       "      <td>-0.016039</td>\n",
       "    </tr>\n",
       "    <tr>\n",
       "      <th>3</th>\n",
       "      <td>135</td>\n",
       "      <td>0.437037</td>\n",
       "      <td>0.804250</td>\n",
       "      <td>-1.472817</td>\n",
       "    </tr>\n",
       "    <tr>\n",
       "      <th>4</th>\n",
       "      <td>143</td>\n",
       "      <td>0.482517</td>\n",
       "      <td>0.974785</td>\n",
       "      <td>-0.169352</td>\n",
       "    </tr>\n",
       "    <tr>\n",
       "      <th>5</th>\n",
       "      <td>144</td>\n",
       "      <td>0.472222</td>\n",
       "      <td>0.669468</td>\n",
       "      <td>-2.511056</td>\n",
       "    </tr>\n",
       "    <tr>\n",
       "      <th>6</th>\n",
       "      <td>169</td>\n",
       "      <td>0.532544</td>\n",
       "      <td>1.416649</td>\n",
       "      <td>2.460804</td>\n",
       "    </tr>\n",
       "    <tr>\n",
       "      <th>7</th>\n",
       "      <td>130</td>\n",
       "      <td>0.569231</td>\n",
       "      <td>1.477969</td>\n",
       "      <td>2.712338</td>\n",
       "    </tr>\n",
       "    <tr>\n",
       "      <th>8</th>\n",
       "      <td>147</td>\n",
       "      <td>0.489796</td>\n",
       "      <td>0.974658</td>\n",
       "      <td>-0.154744</td>\n",
       "    </tr>\n",
       "    <tr>\n",
       "      <th>9</th>\n",
       "      <td>146</td>\n",
       "      <td>0.534247</td>\n",
       "      <td>0.900906</td>\n",
       "      <td>-0.717268</td>\n",
       "    </tr>\n",
       "    <tr>\n",
       "      <th>10</th>\n",
       "      <td>115</td>\n",
       "      <td>0.452174</td>\n",
       "      <td>0.506397</td>\n",
       "      <td>-4.655205</td>\n",
       "    </tr>\n",
       "    <tr>\n",
       "      <th>11</th>\n",
       "      <td>155</td>\n",
       "      <td>0.477419</td>\n",
       "      <td>0.833189</td>\n",
       "      <td>-1.192576</td>\n",
       "    </tr>\n",
       "    <tr>\n",
       "      <th>12</th>\n",
       "      <td>152</td>\n",
       "      <td>0.565789</td>\n",
       "      <td>0.821793</td>\n",
       "      <td>-1.303955</td>\n",
       "    </tr>\n",
       "    <tr>\n",
       "      <th>13</th>\n",
       "      <td>193</td>\n",
       "      <td>0.466321</td>\n",
       "      <td>0.600278</td>\n",
       "      <td>-3.202614</td>\n",
       "    </tr>\n",
       "    <tr>\n",
       "      <th>14</th>\n",
       "      <td>152</td>\n",
       "      <td>0.611842</td>\n",
       "      <td>1.268946</td>\n",
       "      <td>1.687381</td>\n",
       "    </tr>\n",
       "    <tr>\n",
       "      <th>15</th>\n",
       "      <td>183</td>\n",
       "      <td>0.612022</td>\n",
       "      <td>1.917925</td>\n",
       "      <td>4.379730</td>\n",
       "    </tr>\n",
       "    <tr>\n",
       "      <th>16</th>\n",
       "      <td>151</td>\n",
       "      <td>0.456954</td>\n",
       "      <td>0.581852</td>\n",
       "      <td>-3.743186</td>\n",
       "    </tr>\n",
       "    <tr>\n",
       "      <th>17</th>\n",
       "      <td>135</td>\n",
       "      <td>0.518519</td>\n",
       "      <td>1.172553</td>\n",
       "      <td>1.102500</td>\n",
       "    </tr>\n",
       "    <tr>\n",
       "      <th>18</th>\n",
       "      <td>137</td>\n",
       "      <td>0.547445</td>\n",
       "      <td>1.348799</td>\n",
       "      <td>2.164130</td>\n",
       "    </tr>\n",
       "    <tr>\n",
       "      <th>19</th>\n",
       "      <td>164</td>\n",
       "      <td>0.487805</td>\n",
       "      <td>1.363745</td>\n",
       "      <td>1.451429</td>\n",
       "    </tr>\n",
       "    <tr>\n",
       "      <th>20</th>\n",
       "      <td>150</td>\n",
       "      <td>0.586667</td>\n",
       "      <td>1.704514</td>\n",
       "      <td>3.617256</td>\n",
       "    </tr>\n",
       "    <tr>\n",
       "      <th>21</th>\n",
       "      <td>126</td>\n",
       "      <td>0.579365</td>\n",
       "      <td>1.697761</td>\n",
       "      <td>3.708723</td>\n",
       "    </tr>\n",
       "    <tr>\n",
       "      <th>22</th>\n",
       "      <td>175</td>\n",
       "      <td>0.622857</td>\n",
       "      <td>2.459790</td>\n",
       "      <td>6.211083</td>\n",
       "    </tr>\n",
       "    <tr>\n",
       "      <th>23</th>\n",
       "      <td>205</td>\n",
       "      <td>0.565854</td>\n",
       "      <td>1.252813</td>\n",
       "      <td>1.611085</td>\n",
       "    </tr>\n",
       "    <tr>\n",
       "      <th>24</th>\n",
       "      <td>139</td>\n",
       "      <td>0.424460</td>\n",
       "      <td>0.855955</td>\n",
       "      <td>-1.030603</td>\n",
       "    </tr>\n",
       "    <tr>\n",
       "      <th>25</th>\n",
       "      <td>155</td>\n",
       "      <td>0.535484</td>\n",
       "      <td>1.234769</td>\n",
       "      <td>1.266995</td>\n",
       "    </tr>\n",
       "    <tr>\n",
       "      <th>26</th>\n",
       "      <td>161</td>\n",
       "      <td>0.434783</td>\n",
       "      <td>0.607139</td>\n",
       "      <td>-2.874380</td>\n",
       "    </tr>\n",
       "    <tr>\n",
       "      <th>27</th>\n",
       "      <td>225</td>\n",
       "      <td>0.546667</td>\n",
       "      <td>1.300155</td>\n",
       "      <td>1.653459</td>\n",
       "    </tr>\n",
       "    <tr>\n",
       "      <th>28</th>\n",
       "      <td>142</td>\n",
       "      <td>0.591549</td>\n",
       "      <td>1.657887</td>\n",
       "      <td>3.021863</td>\n",
       "    </tr>\n",
       "    <tr>\n",
       "      <th>29</th>\n",
       "      <td>193</td>\n",
       "      <td>0.512953</td>\n",
       "      <td>1.327025</td>\n",
       "      <td>1.697365</td>\n",
       "    </tr>\n",
       "    <tr>\n",
       "      <th>30</th>\n",
       "      <td>183</td>\n",
       "      <td>0.486339</td>\n",
       "      <td>0.843806</td>\n",
       "      <td>-0.869345</td>\n",
       "    </tr>\n",
       "    <tr>\n",
       "      <th>31</th>\n",
       "      <td>189</td>\n",
       "      <td>0.529101</td>\n",
       "      <td>0.971352</td>\n",
       "      <td>-0.179639</td>\n",
       "    </tr>\n",
       "  </tbody>\n",
       "</table>\n",
       "</div>"
      ]
     },
     "output_type": "execute_result",
     "metadata": {}
    }
   ],
   "source": [
    "prob_list = pattern_characters(5, ret)\n",
    "prob_list"
   ]
  },
  {
   "cell_type": "code",
   "execution_count": 8,
   "metadata": {},
   "outputs": [
    {
     "ename": "NameError",
     "evalue": "name 'prob_list' is not defined",
     "output_type": "error",
     "traceback": [
      "\u001b[0;31m---------------------------------------------------------------------------\u001b[0m",
      "\u001b[0;31mNameError\u001b[0m                                 Traceback (most recent call last)",
      "\u001b[0;32m<ipython-input-8-648d111e4095>\u001b[0m in \u001b[0;36m<module>\u001b[0;34m()\u001b[0m\n\u001b[1;32m      1\u001b[0m \u001b[0;34m\u001b[0m\u001b[0m\n\u001b[0;32m----> 2\u001b[0;31m \u001b[0;34m(\u001b[0m\u001b[0mprob_list\u001b[0m\u001b[0;34m)\u001b[0m\u001b[0;34m\u001b[0m\u001b[0m\n\u001b[0m\u001b[1;32m      3\u001b[0m \u001b[0;34m(\u001b[0m\u001b[0;36m1\u001b[0m\u001b[0;34m+\u001b[0m\u001b[0mret_cc\u001b[0m\u001b[0;34m[\u001b[0m\u001b[0;36m1000\u001b[0m\u001b[0;34m:\u001b[0m\u001b[0;34m:\u001b[0m\u001b[0;34m]\u001b[0m\u001b[0;34m)\u001b[0m\u001b[0;34m.\u001b[0m\u001b[0mcumprod\u001b[0m\u001b[0;34m(\u001b[0m\u001b[0;34m)\u001b[0m\u001b[0;34m.\u001b[0m\u001b[0mplot\u001b[0m\u001b[0;34m(\u001b[0m\u001b[0;34m)\u001b[0m\u001b[0;34m\u001b[0m\u001b[0m\n",
      "\u001b[0;31mNameError\u001b[0m: name 'prob_list' is not defined"
     ]
    }
   ],
   "source": [
    "(prob_list)\n",
    "(1+ret_cc[1000::]).cumprod().plot()"
   ]
  },
  {
   "cell_type": "markdown",
   "metadata": {},
   "source": [
    "## Testing Optunity Parameter Optimization Algorithm"
   ]
  },
  {
   "cell_type": "code",
   "execution_count": null,
   "metadata": {},
   "outputs": [],
   "source": [
    "# comment this line when running the notebook yourself\n",
    "%matplotlib inline\n",
    "\n",
    "import math\n",
    "import optunity\n",
    "import random\n",
    "import numpy as np\n",
    "import matplotlib.pyplot as plt\n",
    "import matplotlib.ticker as ticker"
   ]
  },
  {
   "cell_type": "code",
   "execution_count": null,
   "metadata": {},
   "outputs": [],
   "source": [
    "def objective_fun_strategy(ret, n, long_sharpe, short_sharpe, long_win_rate, short_win_rate):\n",
    "    n = int(n)\n",
    "    prob_list = pattern_characters(n, ret)\n",
    "    \n",
    "    def optimize_returns(n, ret, prob_list, long_sharpe, short_sharpe, long_win_rate, short_win_rate) :\n",
    "        n_total = len(ret)\n",
    "        patterns = get_patterns(n, ret);\n",
    "        ret_patterns = pd.DataFrame(patterns.shift(1), columns=['patterns']).join(ret)\n",
    "\n",
    "        signal = pd.Series(0, index=ret_patterns.index)\n",
    "        for i in range(n_total) :\n",
    "            pattern = ret_patterns['patterns'].ix[i]\n",
    "            if numpy.isnan(pattern):\n",
    "                sharpe = 0;\n",
    "                win_ratio = 0;\n",
    "            else :\n",
    "                sharpe = prob_list['sharpes'].ix[pattern]\n",
    "                win_ratio = prob_list['win_rate'].ix[pattern]\n",
    "            if (sharpe > long_sharpe and win_ratio > long_win_rate) :\n",
    "                signal[i] = 1\n",
    "            elif (sharpe < short_sharpe and win_ratio < short_win_rate) :\n",
    "                signal[i] = -1\n",
    "            else:\n",
    "                signal[i] = 0\n",
    "            #signal[i] = sharpe\n",
    "        #print(ret_patterns.ix[:, 1])      \n",
    "        ret_strategy = ret_patterns.ix[:, 1] * pd.Series(signal, index=ret_patterns.index)\n",
    "        return ret_strategy\n",
    "    ret_strategy = optimize_returns(n, ret_test, prob_list)\n",
    "    return"
   ]
  },
  {
   "cell_type": "code",
   "execution_count": null,
   "metadata": {},
   "outputs": [],
   "source": [
    "### function: determine the best trading strategy, based on the pattern,and its historical risk measure"
   ]
  },
  {
   "cell_type": "markdown",
   "metadata": {},
   "source": [
    "### Case1: 上证指数"
   ]
  },
  {
   "cell_type": "code",
   "execution_count": null,
   "metadata": {},
   "outputs": [],
   "source": [
    "data = pd.read_csv('../../data/index_shanghai.csv', index_col='date', parse_dates=True)\n",
    "data = data['19950101'::]\n",
    "#data = pd.read_excel('../../data/500ETF_510500_1d_20151028.xlsx', index_col='date', parse_dates=True)\n",
    "\n",
    "#### Return calculation\n",
    "ret_cc = data['close'] / data['close'].shift(1) - 1\n",
    "ret_co = data['close'] / data['open'] - 1\n",
    "ret_oc = data['open'] / data['close'].shift(1) - 1\n",
    "data['ret_cc'] = ret_cc;\n",
    "data['ret_co'] = ret_co;\n",
    "data['ret_oc'] = ret_oc;\n",
    "ret_all = data.ix[:, ('ret_cc', 'ret_co', 'ret_oc')]\n",
    "\n",
    "### cleaning\n",
    "data = data.dropna()\n",
    "\n",
    "\n",
    "### capture the pattern\n",
    "pattern = get_patterns(3, data['ret_cc'])\n",
    "ret_pattern = pd.DataFrame(pattern.shift(1), columns=['pattern']).join(ret_all)\n",
    "#ret_pattern = ret_pattern[~numpy.isnan(ret_pattern['pattern'])]\n",
    "ret_pattern_grouped = ret_pattern.groupby('pattern')\n",
    "\n",
    "### data to test\n",
    "nr_group = ret_pattern_grouped.count().shape[0]\n",
    "plt.figure(figsize=(12,10),dpi=98)\n",
    "for i in range(nr_group) :\n",
    "    plt.subplot(3,3,i+1)\n",
    "    ret_test = ret_pattern_grouped.get_group(i).ix[:, 1]\n",
    "    plt.plot(ret_test.cumsum())"
   ]
  },
  {
   "cell_type": "code",
   "execution_count": null,
   "metadata": {},
   "outputs": [],
   "source": [
    ""
   ]
  },
  {
   "cell_type": "code",
   "execution_count": null,
   "metadata": {},
   "outputs": [],
   "source": [
    "ret_"
   ]
  },
  {
   "cell_type": "code",
   "execution_count": null,
   "metadata": {},
   "outputs": [],
   "source": [
    "pattern = get_patterns(1, data['ret_co'])\n",
    "ret_pattern = pd.DataFrame(pattern.shift(1), columns=['pattern']).join(ret_all)\n",
    "ret_pattern_grouped = ret_pattern.groupby('pattern')\n",
    "ret_pattern_grouped.get_group(0)"
   ]
  },
  {
   "cell_type": "code",
   "execution_count": null,
   "metadata": {},
   "outputs": [],
   "source": [
    "ret_strategy = data['ret_cc'] * 0;\n",
    "ret_strategy = pd.DataFrame.merge(ret_strategy, ret_pattern_grouped.get_group(6).ix[:,1])\n",
    "ret_strategy[numpy.isnan(ret_strategy) ]  = 0\n",
    "ret_strategy = ret_strategy + ret_pattern_grouped.get_group(4).ix[:,1]\n",
    "ret_strategy[numpy.isnan(ret_strategy)] = 0\n",
    "\n",
    "#ret_strategy = pd.DataFrame.merge((data['ret_cc']*0), ret_pattern_grouped.get_group(6).ix[:,1], how='outer')\n",
    "#ret_pattern_grouped.get_group(4).ix[:,1]\n",
    "#pf.create_returns_tear_sheet(ret_strategy, benchmark_rets=data['ret_cc'])"
   ]
  },
  {
   "cell_type": "code",
   "execution_count": null,
   "metadata": {},
   "outputs": [],
   "source": [
    "pd.DataFrame.merge?"
   ]
  },
  {
   "cell_type": "markdown",
   "metadata": {},
   "source": []
  },
  {
   "cell_type": "code",
   "execution_count": null,
   "metadata": {},
   "outputs": [],
   "source": [
    ""
   ]
  },
  {
   "cell_type": "code",
   "execution_count": null,
   "metadata": {},
   "outputs": [],
   "source": [
    "pd."
   ]
  },
  {
   "cell_type": "markdown",
   "metadata": {},
   "source": [
    "### 测试中证500 IC期货和指数投资"
   ]
  },
  {
   "cell_type": "code",
   "execution_count": null,
   "metadata": {},
   "outputs": [],
   "source": [
    "### loading data\n",
    "data = pd.read_excel('../../data/IC500_CurrentMonth_20151027.xlsx', index_col='date', parse_dates=True)\n",
    "data_future = data.ix[:,0:7]\n",
    "data_index = data.ix[:, 8:]\n",
    "\n",
    "### calculate returns of the indicies\n",
    "ret_index_cc = data['bm_close'] / data['bm_close'].shift(1) - 1\n",
    "ret_index_co = data['bm_close'] / data['bm_open'] - 1\n",
    "ret_index_oc = data['bm_open'] / data['bm_close'].shift(1) - 1\n",
    "ret_index_all = pd.DataFrame()\n",
    "ret_index_all['cc'] = ret_index_cc\n",
    "ret_index_all['co'] = ret_index_co\n",
    "ret_index_all['oc'] = ret_index_oc\n",
    "ret_index_all = ret_index_all.dropna()\n",
    "\n",
    "### calculate returns of the future\n",
    "ret_future_cc = data['fu_close'] / data['fu_close'].shift(1) - 1\n",
    "ret_future_co = data['fu_close'] / data['fu_open'] - 1\n",
    "ret_future_oc = data['fu_open'] / data['fu_close'].shift(1) - 1\n",
    "ret_future_all = pd.DataFrame()\n",
    "ret_future_all['cc'] = ret_future_cc\n",
    "ret_future_all['co'] = ret_future_co \n",
    "ret_future_all['oc'] = ret_future_oc\n",
    "ret_future_all = ret_future_all.dropna()"
   ]
  },
  {
   "cell_type": "code",
   "execution_count": null,
   "metadata": {},
   "outputs": [],
   "source": [
    "### capture the pattern\n",
    "pattern = get_patterns(1, ret_index_all['co'])\n",
    "ret_pattern = pd.DataFrame(pattern.shift(1), columns=['pattern']).join(ret_future_all)\n",
    "ret_pattern = ret_pattern[~numpy.isnan(ret_pattern['pattern'])]\n",
    "ret_pattern_grouped = ret_pattern.groupby('pattern')\n",
    "\n",
    "### data to test\n",
    "nr_group = ret_pattern_grouped.count().shape[0]\n",
    "plt.figure(figsize=(12,10),dpi=98)\n",
    "for i in range(0, nr_group) :\n",
    "    plt.subplot(3,3,i+1)\n",
    "    ret_test = ret_pattern_grouped.get_group(i)\n",
    "    plt.plot(ret_test.cumsum())\n",
    "\n",
    "ret_pattern_grouped"
   ]
  },
  {
   "cell_type": "code",
   "execution_count": null,
   "metadata": {},
   "outputs": [],
   "source": [
    "pf.create_full_tear_sheet(ret_pattern_grouped.get_group(1).ix[:, 2], benchmark_rets=ret_future_all['cc'])"
   ]
  },
  {
   "cell_type": "code",
   "execution_count": null,
   "metadata": {},
   "outputs": [],
   "source": [
    ""
   ]
  }
 ],
 "metadata": {
  "kernelspec": {
   "display_name": "Python 2",
   "language": "python",
   "name": "python2"
  },
  "language_info": {
   "codemirror_mode": {
    "name": "ipython",
    "version": 2.0
   },
   "file_extension": ".py",
   "mimetype": "text/x-python",
   "name": "python",
   "nbconvert_exporter": "python",
   "pygments_lexer": "ipython2",
   "version": "2.7.11"
  }
 },
 "nbformat": 4,
 "nbformat_minor": 0
}