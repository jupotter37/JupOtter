{
 "cells": [
  {
   "cell_type": "code",
   "execution_count": 1,
   "metadata": {},
   "outputs": [],
   "source": [
    "import numpy as np\n",
    "import pandas as pd\n",
    "import geopandas as gpd\n",
    "import matplotlib.pyplot as plt\n",
    "from scipy.sparse import csr_matrix\n",
    "from scipy.sparse.csgraph import shortest_path\n",
    "import math\n",
    "import descartes\n",
    "from shapely.geometry import Point,Polygon"
   ]
  },
  {
   "cell_type": "markdown",
   "metadata": {},
   "source": [
    "You need Middle_Layer_Super_Output_Areas_December_2011_Boundaries_EW_BGC and Local_Authority_Districts_December_2019_Boundaries_UK_BFC as well as SAPE21DT4-mid-2018-msoa-syoa-estimates-unformatted.xlsx and ukmidyearestimates20182019ladcodes.xls and finally wu02ew_msoa and a version CurrentState that you produce in MakingCurrentStateOutOfInferenceData.ipynb for which you need to run the extremely long inference code on the English death data with literature parameters (or equivalent).\n",
    "The data needed to run this notebook can be found [here](https://universityofcambridgecloud-my.sharepoint.com/:u:/g/personal/pbr28_cam_ac_uk/Ec-3aa6AR_xNvPbr7WqL7UsBhTxG-4TsVfzrrG7i_32GIw?e=l8ooyM). (Download the full zip archive, otherwise OneDrive complains.)"
   ]
  },
  {
   "cell_type": "code",
   "execution_count": 2,
   "metadata": {},
   "outputs": [],
   "source": [
    "\n",
    "# Available options for generating the commuterverse network are listed here:\n",
    "\n",
    "# Without cutting out small commute directions, the commuter network is very dense.\n",
    "# We allow two types of cutoffs (that can be deactivated by setting them to 0):\n",
    "# Ignore connection if fewer than this many people commute between two nodes (all ages)\n",
    "all_age_cutoff = 10\n",
    "# Ignore connection if fewer than this many people of a certain age group commute between two nodes\n",
    "individual_age_cutoff = 3\n",
    "\n",
    "# When the cutoffs are > 0, the number of nodes in the commuterverse gets reduced, which also\n",
    "# reduces the overall number of people that commute to work. If this value is set to true,\n",
    "# the the remaining nodes in the commuterverse get rescaled such that the overall number of\n",
    "# people commuting remains the same.\n",
    "rescale_work_population = True \n",
    "\n",
    "# Edit this function to add infected (or recovered) people to the network\n",
    "def add_infected(table):\n",
    "    # Example:\n",
    "    #     table.loc[0, '16-24'] -= 5  # Susceptible \n",
    "    #     table.loc[0, '16-24_I'] += 5  # Infected\n",
    "    #     table.loc[0, '16-24_R'] += 0  # Recovered\n",
    "    # Adds 5 infected people in the City of London. First index is node id, second index is age group.\n",
    "    pass  # No infected added\n",
    "\n",
    "\n",
    "# Define average commute speed. The commute time is then computed using the distance between different MSOAs.\n",
    "avg_commuting_speed = 20.0  # in km/h\n",
    "\n",
    "# TODO: add choices for computing the commuting window here. At the moment, the logic for this is in the function\n",
    "#       that saves the files, at the end of this notebook.\n",
    "\n",
    "# TODO2: At the moment, people that work in the same node as they live are not added to the commuterverse. I am happy\n",
    "#        to implement this when needed, however, we would need to decide on a value for the commute time then."
   ]
  },
  {
   "cell_type": "markdown",
   "metadata": {},
   "source": [
    "First we make the map of Britain, load scottish LADS and EW MSOAs and combine them. Check ONS coding if you do not understand"
   ]
  },
  {
   "cell_type": "code",
   "execution_count": 3,
   "metadata": {},
   "outputs": [
    {
     "ename": "DriverError",
     "evalue": "shape/Local_Authority_Districts_December_2019_Boundaries_UK_BFC.shp: No such file or directory",
     "output_type": "error",
     "traceback": [
      "\u001b[0;31m---------------------------------------------------------------------------\u001b[0m",
      "\u001b[0;31mCPLE_OpenFailedError\u001b[0m                      Traceback (most recent call last)",
      "\u001b[0;32mfiona/_shim.pyx\u001b[0m in \u001b[0;36mfiona._shim.gdal_open_vector\u001b[0;34m()\u001b[0m\n",
      "\u001b[0;32mfiona/_err.pyx\u001b[0m in \u001b[0;36mfiona._err.exc_wrap_pointer\u001b[0;34m()\u001b[0m\n",
      "\u001b[0;31mCPLE_OpenFailedError\u001b[0m: shape/Local_Authority_Districts_December_2019_Boundaries_UK_BFC.shp: No such file or directory",
      "\nDuring handling of the above exception, another exception occurred:\n",
      "\u001b[0;31mDriverError\u001b[0m                               Traceback (most recent call last)",
      "\u001b[0;32m<ipython-input-3-600704de772e>\u001b[0m in \u001b[0;36m<module>\u001b[0;34m\u001b[0m\n\u001b[1;32m      1\u001b[0m \u001b[0mScotLads\u001b[0m\u001b[0;34m=\u001b[0m\u001b[0;34m{\u001b[0m\u001b[0;34m'Na h-Eileanan Siar'\u001b[0m\u001b[0;34m,\u001b[0m\u001b[0;34m\"Clackmannanshire\"\u001b[0m\u001b[0;34m,\u001b[0m\u001b[0;34m'Dumfries and Galloway'\u001b[0m\u001b[0;34m,\u001b[0m\u001b[0;34m\"East Ayrshire\"\u001b[0m\u001b[0;34m,\u001b[0m\u001b[0;34m\"East Lothian\"\u001b[0m\u001b[0;34m,\u001b[0m\u001b[0;34m\"East Renfrewshire\"\u001b[0m\u001b[0;34m,\u001b[0m\u001b[0;34m\"Eilean Siar\"\u001b[0m\u001b[0;34m,\u001b[0m\u001b[0;34m\"Falkirk\"\u001b[0m\u001b[0;34m,\u001b[0m \u001b[0;34m\"Fife\"\u001b[0m\u001b[0;34m,\u001b[0m\u001b[0;34m\"Highland\"\u001b[0m\u001b[0;34m,\u001b[0m\u001b[0;34m\"Inverclyde\"\u001b[0m\u001b[0;34m,\u001b[0m \u001b[0;34m\"Midlothian\"\u001b[0m\u001b[0;34m,\u001b[0m\u001b[0;34m\"Moray\"\u001b[0m\u001b[0;34m,\u001b[0m\u001b[0;34m\"North Ayrshire\"\u001b[0m\u001b[0;34m,\u001b[0m\u001b[0;34m\"Orkney Islands\"\u001b[0m\u001b[0;34m,\u001b[0m\u001b[0;34m\"Perth and Kinross\"\u001b[0m\u001b[0;34m,\u001b[0m\u001b[0;34m\"Scottish Borders\"\u001b[0m\u001b[0;34m,\u001b[0m    \u001b[0;34m\"Shetland Islands\"\u001b[0m\u001b[0;34m,\u001b[0m     \u001b[0;34m\"South Ayrshire\"\u001b[0m\u001b[0;34m,\u001b[0m \u001b[0;34m\"South Lanarkshire\"\u001b[0m\u001b[0;34m,\u001b[0m \u001b[0;34m\"Stirling\"\u001b[0m\u001b[0;34m,\u001b[0m \u001b[0;34m\"Aberdeen City\"\u001b[0m\u001b[0;34m,\u001b[0m     \u001b[0;34m\"Aberdeenshire\"\u001b[0m\u001b[0;34m,\u001b[0m \u001b[0;34m\"Argyll and Bute\"\u001b[0m\u001b[0;34m,\u001b[0m     \u001b[0;34m\"City of Edinburgh\"\u001b[0m\u001b[0;34m,\u001b[0m \u001b[0;34m\"Renfrewshire\"\u001b[0m\u001b[0;34m,\u001b[0m \u001b[0;34m\"West Dunbartonshire\"\u001b[0m\u001b[0;34m,\u001b[0m     \u001b[0;34m\"West Lothian\"\u001b[0m\u001b[0;34m,\u001b[0m\u001b[0;34m\"Angus\"\u001b[0m\u001b[0;34m,\u001b[0m \u001b[0;34m\"Dundee City\"\u001b[0m\u001b[0;34m,\u001b[0m  \u001b[0;34m\"North Lanarkshire\"\u001b[0m\u001b[0;34m,\u001b[0m    \u001b[0;34m\"East Dunbartonshire\"\u001b[0m\u001b[0;34m,\u001b[0m  \u001b[0;34m\"Glasgow City\"\u001b[0m\u001b[0;34m}\u001b[0m\u001b[0;34m\u001b[0m\u001b[0;34m\u001b[0m\u001b[0m\n\u001b[0;32m----> 2\u001b[0;31m \u001b[0mLads\u001b[0m\u001b[0;34m=\u001b[0m\u001b[0mgpd\u001b[0m\u001b[0;34m.\u001b[0m\u001b[0mread_file\u001b[0m\u001b[0;34m(\u001b[0m\u001b[0;34m\"shape/Local_Authority_Districts_December_2019_Boundaries_UK_BFC.shp\"\u001b[0m\u001b[0;34m)\u001b[0m\u001b[0;34m\u001b[0m\u001b[0;34m\u001b[0m\u001b[0m\n\u001b[0m\u001b[1;32m      3\u001b[0m \u001b[0mSLads\u001b[0m\u001b[0;34m=\u001b[0m\u001b[0mLads\u001b[0m\u001b[0;34m[\u001b[0m\u001b[0mLads\u001b[0m\u001b[0;34m.\u001b[0m\u001b[0mlad19nm\u001b[0m\u001b[0;34m.\u001b[0m\u001b[0misin\u001b[0m\u001b[0;34m(\u001b[0m\u001b[0mScotLads\u001b[0m\u001b[0;34m)\u001b[0m\u001b[0;34m]\u001b[0m\u001b[0;34m\u001b[0m\u001b[0;34m\u001b[0m\u001b[0m\n\u001b[1;32m      4\u001b[0m \u001b[0mSLads\u001b[0m\u001b[0;34m=\u001b[0m\u001b[0mSLads\u001b[0m\u001b[0;34m.\u001b[0m\u001b[0mdrop\u001b[0m\u001b[0;34m(\u001b[0m\u001b[0mcolumns\u001b[0m\u001b[0;34m=\u001b[0m\u001b[0;34m[\u001b[0m\u001b[0;34m'objectid'\u001b[0m\u001b[0;34m,\u001b[0m\u001b[0;34m\"lad19nm\"\u001b[0m\u001b[0;34m,\u001b[0m\u001b[0;34m'lad19nmw'\u001b[0m\u001b[0;34m,\u001b[0m\u001b[0;34m'bng_e'\u001b[0m\u001b[0;34m,\u001b[0m\u001b[0;34m'bng_n'\u001b[0m\u001b[0;34m,\u001b[0m\u001b[0;34m'long'\u001b[0m\u001b[0;34m,\u001b[0m\u001b[0;34m'lat'\u001b[0m\u001b[0;34m,\u001b[0m\u001b[0;34m'st_lengths'\u001b[0m\u001b[0;34m]\u001b[0m\u001b[0;34m)\u001b[0m\u001b[0;34m\u001b[0m\u001b[0;34m\u001b[0m\u001b[0m\n\u001b[1;32m      5\u001b[0m \u001b[0mSLads\u001b[0m\u001b[0;34m=\u001b[0m\u001b[0mSLads\u001b[0m\u001b[0;34m.\u001b[0m\u001b[0mrename\u001b[0m\u001b[0;34m(\u001b[0m\u001b[0mcolumns\u001b[0m\u001b[0;34m=\u001b[0m\u001b[0;34m{\u001b[0m\u001b[0;34m'lad19cd'\u001b[0m\u001b[0;34m:\u001b[0m\u001b[0;34m'AreaCode'\u001b[0m\u001b[0;34m}\u001b[0m\u001b[0;34m)\u001b[0m\u001b[0;34m\u001b[0m\u001b[0;34m\u001b[0m\u001b[0m\n",
      "\u001b[0;32m~/anaconda3/lib/python3.7/site-packages/geopandas/io/file.py\u001b[0m in \u001b[0;36mread_file\u001b[0;34m(filename, bbox, **kwargs)\u001b[0m\n\u001b[1;32m     74\u001b[0m \u001b[0;34m\u001b[0m\u001b[0m\n\u001b[1;32m     75\u001b[0m     \u001b[0;32mwith\u001b[0m \u001b[0mfiona_env\u001b[0m\u001b[0;34m(\u001b[0m\u001b[0;34m)\u001b[0m\u001b[0;34m:\u001b[0m\u001b[0;34m\u001b[0m\u001b[0;34m\u001b[0m\u001b[0m\n\u001b[0;32m---> 76\u001b[0;31m         \u001b[0;32mwith\u001b[0m \u001b[0mreader\u001b[0m\u001b[0;34m(\u001b[0m\u001b[0mpath_or_bytes\u001b[0m\u001b[0;34m,\u001b[0m \u001b[0;34m**\u001b[0m\u001b[0mkwargs\u001b[0m\u001b[0;34m)\u001b[0m \u001b[0;32mas\u001b[0m \u001b[0mfeatures\u001b[0m\u001b[0;34m:\u001b[0m\u001b[0;34m\u001b[0m\u001b[0;34m\u001b[0m\u001b[0m\n\u001b[0m\u001b[1;32m     77\u001b[0m \u001b[0;34m\u001b[0m\u001b[0m\n\u001b[1;32m     78\u001b[0m             \u001b[0;31m# In a future Fiona release the crs attribute of features will\u001b[0m\u001b[0;34m\u001b[0m\u001b[0;34m\u001b[0m\u001b[0;34m\u001b[0m\u001b[0m\n",
      "\u001b[0;32m~/anaconda3/lib/python3.7/site-packages/fiona/env.py\u001b[0m in \u001b[0;36mwrapper\u001b[0;34m(*args, **kwargs)\u001b[0m\n\u001b[1;32m    394\u001b[0m     \u001b[0;32mdef\u001b[0m \u001b[0mwrapper\u001b[0m\u001b[0;34m(\u001b[0m\u001b[0;34m*\u001b[0m\u001b[0margs\u001b[0m\u001b[0;34m,\u001b[0m \u001b[0;34m**\u001b[0m\u001b[0mkwargs\u001b[0m\u001b[0;34m)\u001b[0m\u001b[0;34m:\u001b[0m\u001b[0;34m\u001b[0m\u001b[0;34m\u001b[0m\u001b[0m\n\u001b[1;32m    395\u001b[0m         \u001b[0;32mif\u001b[0m \u001b[0mlocal\u001b[0m\u001b[0;34m.\u001b[0m\u001b[0m_env\u001b[0m\u001b[0;34m:\u001b[0m\u001b[0;34m\u001b[0m\u001b[0;34m\u001b[0m\u001b[0m\n\u001b[0;32m--> 396\u001b[0;31m             \u001b[0;32mreturn\u001b[0m \u001b[0mf\u001b[0m\u001b[0;34m(\u001b[0m\u001b[0;34m*\u001b[0m\u001b[0margs\u001b[0m\u001b[0;34m,\u001b[0m \u001b[0;34m**\u001b[0m\u001b[0mkwargs\u001b[0m\u001b[0;34m)\u001b[0m\u001b[0;34m\u001b[0m\u001b[0;34m\u001b[0m\u001b[0m\n\u001b[0m\u001b[1;32m    397\u001b[0m         \u001b[0;32melse\u001b[0m\u001b[0;34m:\u001b[0m\u001b[0;34m\u001b[0m\u001b[0;34m\u001b[0m\u001b[0m\n\u001b[1;32m    398\u001b[0m             \u001b[0;32mif\u001b[0m \u001b[0misinstance\u001b[0m\u001b[0;34m(\u001b[0m\u001b[0margs\u001b[0m\u001b[0;34m[\u001b[0m\u001b[0;36m0\u001b[0m\u001b[0;34m]\u001b[0m\u001b[0;34m,\u001b[0m \u001b[0mstr\u001b[0m\u001b[0;34m)\u001b[0m\u001b[0;34m:\u001b[0m\u001b[0;34m\u001b[0m\u001b[0;34m\u001b[0m\u001b[0m\n",
      "\u001b[0;32m~/anaconda3/lib/python3.7/site-packages/fiona/__init__.py\u001b[0m in \u001b[0;36mopen\u001b[0;34m(fp, mode, driver, schema, crs, encoding, layer, vfs, enabled_drivers, crs_wkt, **kwargs)\u001b[0m\n\u001b[1;32m    251\u001b[0m         \u001b[0;32mif\u001b[0m \u001b[0mmode\u001b[0m \u001b[0;32min\u001b[0m \u001b[0;34m(\u001b[0m\u001b[0;34m'a'\u001b[0m\u001b[0;34m,\u001b[0m \u001b[0;34m'r'\u001b[0m\u001b[0;34m)\u001b[0m\u001b[0;34m:\u001b[0m\u001b[0;34m\u001b[0m\u001b[0;34m\u001b[0m\u001b[0m\n\u001b[1;32m    252\u001b[0m             c = Collection(path, mode, driver=driver, encoding=encoding,\n\u001b[0;32m--> 253\u001b[0;31m                            layer=layer, enabled_drivers=enabled_drivers, **kwargs)\n\u001b[0m\u001b[1;32m    254\u001b[0m         \u001b[0;32melif\u001b[0m \u001b[0mmode\u001b[0m \u001b[0;34m==\u001b[0m \u001b[0;34m'w'\u001b[0m\u001b[0;34m:\u001b[0m\u001b[0;34m\u001b[0m\u001b[0;34m\u001b[0m\u001b[0m\n\u001b[1;32m    255\u001b[0m             \u001b[0;32mif\u001b[0m \u001b[0mschema\u001b[0m\u001b[0;34m:\u001b[0m\u001b[0;34m\u001b[0m\u001b[0;34m\u001b[0m\u001b[0m\n",
      "\u001b[0;32m~/anaconda3/lib/python3.7/site-packages/fiona/collection.py\u001b[0m in \u001b[0;36m__init__\u001b[0;34m(self, path, mode, driver, schema, crs, encoding, layer, vsi, archive, enabled_drivers, crs_wkt, ignore_fields, ignore_geometry, **kwargs)\u001b[0m\n\u001b[1;32m    157\u001b[0m             \u001b[0;32mif\u001b[0m \u001b[0mself\u001b[0m\u001b[0;34m.\u001b[0m\u001b[0mmode\u001b[0m \u001b[0;34m==\u001b[0m \u001b[0;34m'r'\u001b[0m\u001b[0;34m:\u001b[0m\u001b[0;34m\u001b[0m\u001b[0;34m\u001b[0m\u001b[0m\n\u001b[1;32m    158\u001b[0m                 \u001b[0mself\u001b[0m\u001b[0;34m.\u001b[0m\u001b[0msession\u001b[0m \u001b[0;34m=\u001b[0m \u001b[0mSession\u001b[0m\u001b[0;34m(\u001b[0m\u001b[0;34m)\u001b[0m\u001b[0;34m\u001b[0m\u001b[0;34m\u001b[0m\u001b[0m\n\u001b[0;32m--> 159\u001b[0;31m                 \u001b[0mself\u001b[0m\u001b[0;34m.\u001b[0m\u001b[0msession\u001b[0m\u001b[0;34m.\u001b[0m\u001b[0mstart\u001b[0m\u001b[0;34m(\u001b[0m\u001b[0mself\u001b[0m\u001b[0;34m,\u001b[0m \u001b[0;34m**\u001b[0m\u001b[0mkwargs\u001b[0m\u001b[0;34m)\u001b[0m\u001b[0;34m\u001b[0m\u001b[0;34m\u001b[0m\u001b[0m\n\u001b[0m\u001b[1;32m    160\u001b[0m             \u001b[0;32melif\u001b[0m \u001b[0mself\u001b[0m\u001b[0;34m.\u001b[0m\u001b[0mmode\u001b[0m \u001b[0;32min\u001b[0m \u001b[0;34m(\u001b[0m\u001b[0;34m'a'\u001b[0m\u001b[0;34m,\u001b[0m \u001b[0;34m'w'\u001b[0m\u001b[0;34m)\u001b[0m\u001b[0;34m:\u001b[0m\u001b[0;34m\u001b[0m\u001b[0;34m\u001b[0m\u001b[0m\n\u001b[1;32m    161\u001b[0m                 \u001b[0mself\u001b[0m\u001b[0;34m.\u001b[0m\u001b[0msession\u001b[0m \u001b[0;34m=\u001b[0m \u001b[0mWritingSession\u001b[0m\u001b[0;34m(\u001b[0m\u001b[0;34m)\u001b[0m\u001b[0;34m\u001b[0m\u001b[0;34m\u001b[0m\u001b[0m\n",
      "\u001b[0;32mfiona/ogrext.pyx\u001b[0m in \u001b[0;36mfiona.ogrext.Session.start\u001b[0;34m()\u001b[0m\n",
      "\u001b[0;32mfiona/_shim.pyx\u001b[0m in \u001b[0;36mfiona._shim.gdal_open_vector\u001b[0;34m()\u001b[0m\n",
      "\u001b[0;31mDriverError\u001b[0m: shape/Local_Authority_Districts_December_2019_Boundaries_UK_BFC.shp: No such file or directory"
     ]
    }
   ],
   "source": [
    "ScotLads={'Na h-Eileanan Siar',\"Clackmannanshire\",'Dumfries and Galloway',\"East Ayrshire\",\"East Lothian\",\"East Renfrewshire\",\"Eilean Siar\",\"Falkirk\", \"Fife\",\"Highland\",\"Inverclyde\", \"Midlothian\",\"Moray\",\"North Ayrshire\",\"Orkney Islands\",\"Perth and Kinross\",\"Scottish Borders\",\t\"Shetland Islands\",\t\"South Ayrshire\", \"South Lanarkshire\", \"Stirling\", \"Aberdeen City\",\t\"Aberdeenshire\", \"Argyll and Bute\",\t\"City of Edinburgh\", \"Renfrewshire\", \"West Dunbartonshire\",\t\"West Lothian\",\"Angus\",\t\"Dundee City\",\t\"North Lanarkshire\",\t\"East Dunbartonshire\",\t\"Glasgow City\"}\n",
    "Lads=gpd.read_file(\"shape/Local_Authority_Districts_December_2019_Boundaries_UK_BFC.shp\")\n",
    "SLads=Lads[Lads.lad19nm.isin(ScotLads)]\n",
    "SLads=SLads.drop(columns=['objectid',\"lad19nm\",'lad19nmw','bng_e','bng_n','long','lat','st_lengths'])\n",
    "SLads=SLads.rename(columns={'lad19cd':'AreaCode'})\n",
    "SLads=SLads.to_crs(epsg=3395)\n",
    "# SLads"
   ]
  },
  {
   "cell_type": "code",
   "execution_count": 4,
   "metadata": {},
   "outputs": [
    {
     "data": {
      "text/html": [
       "<div>\n",
       "<style scoped>\n",
       "    .dataframe tbody tr th:only-of-type {\n",
       "        vertical-align: middle;\n",
       "    }\n",
       "\n",
       "    .dataframe tbody tr th {\n",
       "        vertical-align: top;\n",
       "    }\n",
       "\n",
       "    .dataframe thead th {\n",
       "        text-align: right;\n",
       "    }\n",
       "</style>\n",
       "<table border=\"1\" class=\"dataframe\">\n",
       "  <thead>\n",
       "    <tr style=\"text-align: right;\">\n",
       "      <th></th>\n",
       "      <th>AreaCode</th>\n",
       "      <th>st_areasha</th>\n",
       "      <th>geometry</th>\n",
       "    </tr>\n",
       "  </thead>\n",
       "  <tbody>\n",
       "    <tr>\n",
       "      <th>0</th>\n",
       "      <td>E02000001</td>\n",
       "      <td>2.905399e+06</td>\n",
       "      <td>MULTIPOLYGON (((-10774.144 6680905.516, -10739...</td>\n",
       "    </tr>\n",
       "    <tr>\n",
       "      <th>1</th>\n",
       "      <td>E02000002</td>\n",
       "      <td>2.165634e+06</td>\n",
       "      <td>POLYGON ((16484.756 6694037.987, 16482.035 669...</td>\n",
       "    </tr>\n",
       "    <tr>\n",
       "      <th>2</th>\n",
       "      <td>E02000003</td>\n",
       "      <td>2.143565e+06</td>\n",
       "      <td>POLYGON ((16767.621 6691585.838, 16517.775 669...</td>\n",
       "    </tr>\n",
       "    <tr>\n",
       "      <th>3</th>\n",
       "      <td>E02000004</td>\n",
       "      <td>2.490215e+06</td>\n",
       "      <td>POLYGON ((20603.001 6688323.301, 20482.619 668...</td>\n",
       "    </tr>\n",
       "    <tr>\n",
       "      <th>4</th>\n",
       "      <td>E02000005</td>\n",
       "      <td>1.186180e+06</td>\n",
       "      <td>POLYGON ((16684.345 6688907.596, 16781.998 668...</td>\n",
       "    </tr>\n",
       "  </tbody>\n",
       "</table>\n",
       "</div>"
      ],
      "text/plain": [
       "    AreaCode    st_areasha                                           geometry\n",
       "0  E02000001  2.905399e+06  MULTIPOLYGON (((-10774.144 6680905.516, -10739...\n",
       "1  E02000002  2.165634e+06  POLYGON ((16484.756 6694037.987, 16482.035 669...\n",
       "2  E02000003  2.143565e+06  POLYGON ((16767.621 6691585.838, 16517.775 669...\n",
       "3  E02000004  2.490215e+06  POLYGON ((20603.001 6688323.301, 20482.619 668...\n",
       "4  E02000005  1.186180e+06  POLYGON ((16684.345 6688907.596, 16781.998 668..."
      ]
     },
     "execution_count": 4,
     "metadata": {},
     "output_type": "execute_result"
    }
   ],
   "source": [
    "geometry_msoa = gpd.read_file(\"shape/Middle_Layer_Super_Output_Areas_December_2011_Boundaries_EW_BGC.shp\")\n",
    "geometry_msoa=geometry_msoa.drop(columns=['objectid',\"msoa11nm\",'msoa11nmw','st_lengths'])\n",
    "geometry_msoa=geometry_msoa.rename(columns={'msoa11cd':'AreaCode'})\n",
    "geometry_msoa=geometry_msoa.to_crs(epsg=3395)\n",
    "geometry_msoa.head()"
   ]
  },
  {
   "cell_type": "markdown",
   "metadata": {},
   "source": [
    "As a check we plot all of the places we have loaded and get a represntative point of each location to estimate travel times"
   ]
  },
  {
   "cell_type": "code",
   "execution_count": 5,
   "metadata": {},
   "outputs": [
    {
     "data": {
      "text/plain": [
       "<matplotlib.axes._subplots.AxesSubplot at 0x7fc0538dbe50>"
      ]
     },
     "execution_count": 5,
     "metadata": {},
     "output_type": "execute_result"
    },
    {
     "data": {
      "image/png": "[encoded data removed]",
      "text/plain": [
       "<Figure size 432x288 with 1 Axes>"
      ]
     },
     "metadata": {
      "needs_background": "light"
     },
     "output_type": "display_data"
    }
   ],
   "source": [
    "GB = gpd.GeoDataFrame(pd.concat([geometry_msoa,SLads], ignore_index=True), crs=geometry_msoa.crs)\n",
    "GB[\"Center\"]=GB.representative_point() \n",
    "GB.plot()"
   ]
  },
  {
   "cell_type": "code",
   "execution_count": 6,
   "metadata": {},
   "outputs": [],
   "source": [
    "Lads=Lads.rename(columns={\"lad19cd\":'AreaCode'})"
   ]
  },
  {
   "cell_type": "markdown",
   "metadata": {},
   "source": [
    "Next we load the current state of the infection which we got from Inference in the files for the individual E.csv,A.csv etc that we manipulate into CurrentState0-15.csv etc in MakingCurrentStates"
   ]
  },
  {
   "cell_type": "code",
   "execution_count": 7,
   "metadata": {},
   "outputs": [],
   "source": [
    "InfecctionGroups=[\"S\",'E','A','Ia','Is','Ih','Ic', \"Im\"]\n",
    "CurrentState15=pd.read_csv('CurrentStateAge/CurrentState0-15.csv')\n",
    "CurrentState15=CurrentState15.drop(columns=['Unnamed: 0'])\n",
    "CurrentState15=CurrentState15.rename(columns={'Name':'ladcd',\"S\":\"S15\",\"E\":\"E15\", \"A\":\"A15\", \"Ia\":\"Ia15\", \"Is\":\"Is15\",\"R\":\"R15\",\"Im\":\"Im15\"})\n"
   ]
  },
  {
   "cell_type": "code",
   "execution_count": 8,
   "metadata": {},
   "outputs": [],
   "source": [
    "resident_data_20182_raw = pd.read_excel('data/ukmidyearestimates20182019ladcodes.xls', 'MYE2-All', skiprows=4)\n",
    "resident_data_20182_raw=resident_data_20182_raw.drop(columns=['Geography1',\"Name\"])\n",
    "resident_data_20182_raw=resident_data_20182_raw.rename(columns={90:'90+'})\n",
    "resident_data_20182_raw=resident_data_20182_raw.rename(columns={'Code':'AreaCode','All ages':'All Ages'})\n",
    "resident_data_20182_raw =resident_data_20182_raw[resident_data_20182_raw['AreaCode'].isin(CurrentState15.ladcd)]"
   ]
  },
  {
   "cell_type": "code",
   "execution_count": 9,
   "metadata": {},
   "outputs": [],
   "source": [
    "CurrentState24=pd.read_csv('CurrentStateAge/CurrentState16-24.csv')\n",
    "CurrentState24=CurrentState24.drop(columns=['Unnamed: 0'])\n",
    "CurrentState24=CurrentState24.rename(columns={'Name':'ladcd',\"S\":\"S24\",\"E\":\"E24\", \"A\":\"A24\", \"Ia\":\"Ia24\", \"Is\":\"Is24\",\"R\":\"R24\",\"Im\":\"Im24\"})"
   ]
  },
  {
   "cell_type": "code",
   "execution_count": 10,
   "metadata": {},
   "outputs": [],
   "source": [
    "CurrentState34=pd.read_csv('CurrentStateAge/CurrentState25-34.csv')\n",
    "CurrentState34=CurrentState34.drop(columns=['Unnamed: 0'])\n",
    "CurrentState34=CurrentState34.rename(columns={'Name':'ladcd',\"S\":\"S34\",\"E\":\"E34\", \"A\":\"A34\", \"Ia\":\"Ia34\", \"Is\":\"Is34\",\"R\":\"R34\",\"Im\":\"Im34\"})\n"
   ]
  },
  {
   "cell_type": "code",
   "execution_count": 11,
   "metadata": {},
   "outputs": [],
   "source": [
    "CurrentState49=pd.read_csv('CurrentStateAge/CurrentState35-49.csv')\n",
    "CurrentState49=CurrentState49.drop(columns=['Unnamed: 0'])\n",
    "CurrentState49=CurrentState49.rename(columns={'Name':'ladcd',\"S\":\"S49\",\"E\":\"E49\", \"A\":\"A49\", \"Ia\":\"Ia49\", \"Is\":\"Is49\",\"R\":\"R49\",\"Im\":\"Im49\"})\n"
   ]
  },
  {
   "cell_type": "code",
   "execution_count": 12,
   "metadata": {},
   "outputs": [],
   "source": [
    "CurrentState64=pd.read_csv('CurrentStateAge/CurrentState50-64.csv')\n",
    "CurrentState64=CurrentState64.drop(columns=['Unnamed: 0'])\n",
    "CurrentState64=CurrentState64.rename(columns={'Name':'ladcd',\"S\":\"S64\",\"E\":\"E64\", \"A\":\"A64\", \"Ia\":\"Ia64\", \"Is\":\"Is64\",\"R\":\"R64\",\"Im\":\"Im64\"})\n"
   ]
  },
  {
   "cell_type": "code",
   "execution_count": 13,
   "metadata": {},
   "outputs": [],
   "source": [
    "CurrentState74=pd.read_csv('CurrentStateAge/CurrentState65-74.csv')\n",
    "CurrentState74=CurrentState74.drop(columns=['Unnamed: 0'])\n",
    "CurrentState74=CurrentState74.rename(columns={'Name':'ladcd',\"S\":\"S74\",\"E\":\"E74\", \"A\":\"A74\", \"Ia\":\"Ia74\", \"Is\":\"Is74\",\"R\":\"R74\",\"Im\":\"Im74\"})\n"
   ]
  },
  {
   "cell_type": "code",
   "execution_count": 14,
   "metadata": {},
   "outputs": [],
   "source": [
    "CurrentStateOldest=pd.read_csv('CurrentStateAge/CurrentState75+.csv')\n",
    "CurrentStateOldest=CurrentStateOldest.drop(columns=['Unnamed: 0'])\n",
    "CurrentStateOldest=CurrentStateOldest.rename(columns={'Name':'ladcd',\"S\":\"S75+\",\"E\":\"E75+\", \"A\":\"A75+\", \"Ia\":\"Ia75+\", \"Is\":\"Is75+\",\"R\":\"R75+\",\"Im\":\"Im75+\"})\n"
   ]
  },
  {
   "cell_type": "markdown",
   "metadata": {},
   "source": [
    "Next we will find the link between the LADs in which the current state is and the MSOAs which is what we will simulating in England and Wales."
   ]
  },
  {
   "cell_type": "code",
   "execution_count": 15,
   "metadata": {},
   "outputs": [],
   "source": [
    "Lads=Lads.rename(columns={'lad19cd':'AreaCode'})\n",
    "msoa_to_lad = pd.read_csv('data/PCD_OA_LSOA_MSOA_LAD_FEB20_UK_LU.csv', encoding=\"latin_1\", low_memory=False)\n",
    "msoa_to_lad=msoa_to_lad.drop(columns=['pcd7','pcd8','pcds','dointr','doterm','usertype','oa11cd','lsoa11cd','lsoa11nm','msoa11nm','ladnm','ladnmw'])\n",
    "msoa_to_lad=msoa_to_lad.rename(columns={'ladcd':'AreaCode'})\n",
    "listUno=msoa_to_lad[msoa_to_lad['AreaCode'].isin(GB.AreaCode)]\n",
    "listUno=listUno.drop_duplicates(subset=['AreaCode'], keep='first')\n",
    "listUno=listUno.drop(columns=['msoa11cd'])\n",
    "listUno['ladcd']=listUno['AreaCode']\n",
    "listDuo=msoa_to_lad[msoa_to_lad['AreaCode'].isin(GB.AreaCode)==False]\n",
    "listDuo=listDuo.rename(columns={'AreaCode':'ladcd','msoa11cd':'AreaCode'})\n",
    "listDuo=listDuo.drop_duplicates(subset=['AreaCode'], keep='first')\n",
    "msoa_to_lad=pd.concat([listUno, listDuo], ignore_index=True)"
   ]
  },
  {
   "cell_type": "code",
   "execution_count": 16,
   "metadata": {},
   "outputs": [],
   "source": [
    "resident_data_20182_raw = pd.read_excel('data/ukmidyearestimates20182019ladcodes.xls', 'MYE2-All', skiprows=4)\n",
    "resident_data_20182_raw=resident_data_20182_raw.drop(columns=['Geography1',\"Name\"])\n",
    "resident_data_20182_raw_mid=resident_data_20182_raw.rename(columns={'Code':'ladcd'})\n",
    "CurrentState2=CurrentState15.merge(resident_data_20182_raw_mid, on='ladcd')\n",
    "CurrentState2=CurrentState2.rename(columns={'ladcd':'AreaCode'})\n",
    "CurrentState2=CurrentState2.merge(Lads, on='AreaCode')\n",
    "CurrentState15['DensityLAD']=CurrentState2['All ages']/CurrentState2['st_areasha']*1000*1000"
   ]
  },
  {
   "cell_type": "code",
   "execution_count": 17,
   "metadata": {},
   "outputs": [],
   "source": [
    "msoa_to_ladInfec=msoa_to_lad.merge(CurrentState15, on='ladcd')\n",
    "msoa_to_ladInfec=msoa_to_ladInfec.merge(CurrentState24, on='ladcd')\n",
    "msoa_to_ladInfec=msoa_to_ladInfec.merge(CurrentState34, on='ladcd')\n",
    "msoa_to_ladInfec=msoa_to_ladInfec.merge(CurrentState49, on='ladcd')\n",
    "msoa_to_ladInfec=msoa_to_ladInfec.merge(CurrentState64, on='ladcd')\n",
    "msoa_to_ladInfec=msoa_to_ladInfec.merge(CurrentState74, on='ladcd')\n",
    "msoa_to_ladInfec=msoa_to_ladInfec.merge(CurrentStateOldest, on='ladcd')\n"
   ]
  },
  {
   "cell_type": "markdown",
   "metadata": {},
   "source": [
    "Now we load the resident data from ONS and put it into the usual commuting age groups"
   ]
  },
  {
   "cell_type": "code",
   "execution_count": 73,
   "metadata": {},
   "outputs": [],
   "source": [
    "resident_data_20181_raw = pd.read_excel('data/SAPE21DT4-mid-2018-msoa-syoa-estimates-unformatted.xlsx', 'Mid-2018 Persons', skiprows=4)\n",
    "resident_data_20181_raw=resident_data_20181_raw.rename(columns={'Area Codes':'AreaCode'})\n",
    "resident_data_20181_raw =resident_data_20181_raw[resident_data_20181_raw['AreaCode'].isin(GB.AreaCode)]\n",
    "resident_data_20181_raw=resident_data_20181_raw.drop(columns=[\"Area Names\"])\n",
    "resident_data_20181_raw=resident_data_20181_raw.rename(columns={'90+':90})\n",
    "resident_data_20182_raw = pd.read_excel('data/ukmidyearestimates20182019ladcodes.xls', 'MYE2-All', skiprows=4)\n",
    "# resident_data_20182_raw=resident_data_20182_raw.drop(columns=['Geography1',\"Name\"])\n",
    "resident_data_20182_raw=resident_data_20182_raw.rename(columns={'90+':90})\n",
    "resident_data_20182_raw=resident_data_20182_raw.rename(columns={'Code':'AreaCode','All ages':'All Ages'})\n",
    "resident_data_20182_raw =resident_data_20182_raw[resident_data_20182_raw['AreaCode'].isin(GB.AreaCode)]\n",
    "resident_data_2018_raw=pd.concat([resident_data_20181_raw,resident_data_20182_raw],ignore_index=True)\n"
   ]
  },
  {
   "cell_type": "code",
   "execution_count": 74,
   "metadata": {},
   "outputs": [
    {
     "name": "stderr",
     "output_type": "stream",
     "text": [
      "/home/jakub/anaconda3/lib/python3.7/site-packages/ipykernel_launcher.py:15: SettingWithCopyWarning: \n",
      "A value is trying to be set on a copy of a slice from a DataFrame.\n",
      "Try using .loc[row_indexer,col_indexer] = value instead\n",
      "\n",
      "See the caveats in the documentation: https://pandas.pydata.org/pandas-docs/stable/user_guide/indexing.html#returning-a-view-versus-a-copy\n",
      "  from ipykernel import kernelapp as app\n",
      "/home/jakub/anaconda3/lib/python3.7/site-packages/ipykernel_launcher.py:23: SettingWithCopyWarning: \n",
      "A value is trying to be set on a copy of a slice from a DataFrame.\n",
      "Try using .loc[row_indexer,col_indexer] = value instead\n",
      "\n",
      "See the caveats in the documentation: https://pandas.pydata.org/pandas-docs/stable/user_guide/indexing.html#returning-a-view-versus-a-copy\n"
     ]
    }
   ],
   "source": [
    "# # We need to age-group the data to match the census workplace data\n",
    "resident_data_2018 = resident_data_2018_raw[['AreaCode', 'All Ages']]\n",
    "# resident_data_2018 = resident_data_2018.rename(columns={'Area Codes':'msoa', 'Area Names':'Name'})\n",
    "age_groups = [5, 12, 16, 25, 35, 50, 65, 75]\n",
    "i = 0\n",
    "for i_end in age_groups:\n",
    "    label = '{}-'.format(i)\n",
    "    age_sum = resident_data_2018_raw[i].copy()\n",
    "    i += 1\n",
    "    while i < i_end:\n",
    "        age_sum += resident_data_2018_raw[i]\n",
    "        i += 1\n",
    "\n",
    "    label = label + '{}'.format(i-1)\n",
    "    resident_data_2018[label] = age_sum\n",
    "\n",
    "age_sum = resident_data_2018_raw[i].copy()\n",
    "i += 1\n",
    "while i < 90:\n",
    "    age_sum += resident_data_2018_raw[i]\n",
    "    i += 1\n",
    "age_sum += resident_data_2018_raw[90]\n",
    "resident_data_2018['75+'] = age_sum\n"
   ]
  },
  {
   "cell_type": "code",
   "execution_count": 51,
   "metadata": {},
   "outputs": [
    {
     "name": "stderr",
     "output_type": "stream",
     "text": [
      "/home/jakub/anaconda3/lib/python3.7/site-packages/ipykernel_launcher.py:13: SettingWithCopyWarning: \n",
      "A value is trying to be set on a copy of a slice from a DataFrame\n",
      "\n",
      "See the caveats in the documentation: https://pandas.pydata.org/pandas-docs/stable/user_guide/indexing.html#returning-a-view-versus-a-copy\n",
      "  del sys.path[0]\n",
      "/home/jakub/anaconda3/lib/python3.7/site-packages/ipykernel_launcher.py:19: SettingWithCopyWarning: \n",
      "A value is trying to be set on a copy of a slice from a DataFrame\n",
      "\n",
      "See the caveats in the documentation: https://pandas.pydata.org/pandas-docs/stable/user_guide/indexing.html#returning-a-view-versus-a-copy\n",
      "/home/jakub/anaconda3/lib/python3.7/site-packages/ipykernel_launcher.py:17: SettingWithCopyWarning: \n",
      "A value is trying to be set on a copy of a slice from a DataFrame\n",
      "\n",
      "See the caveats in the documentation: https://pandas.pydata.org/pandas-docs/stable/user_guide/indexing.html#returning-a-view-versus-a-copy\n",
      "/home/jakub/anaconda3/lib/python3.7/site-packages/ipykernel_launcher.py:15: SettingWithCopyWarning: \n",
      "A value is trying to be set on a copy of a slice from a DataFrame\n",
      "\n",
      "See the caveats in the documentation: https://pandas.pydata.org/pandas-docs/stable/user_guide/indexing.html#returning-a-view-versus-a-copy\n",
      "  from ipykernel import kernelapp as app\n",
      "/home/jakub/anaconda3/lib/python3.7/site-packages/ipykernel_launcher.py:36: SettingWithCopyWarning: \n",
      "A value is trying to be set on a copy of a slice from a DataFrame.\n",
      "Try using .loc[row_indexer,col_indexer] = value instead\n",
      "\n",
      "See the caveats in the documentation: https://pandas.pydata.org/pandas-docs/stable/user_guide/indexing.html#returning-a-view-versus-a-copy\n",
      "/home/jakub/anaconda3/lib/python3.7/site-packages/ipykernel_launcher.py:44: SettingWithCopyWarning: \n",
      "A value is trying to be set on a copy of a slice from a DataFrame.\n",
      "Try using .loc[row_indexer,col_indexer] = value instead\n",
      "\n",
      "See the caveats in the documentation: https://pandas.pydata.org/pandas-docs/stable/user_guide/indexing.html#returning-a-view-versus-a-copy\n",
      "/home/jakub/anaconda3/lib/python3.7/site-packages/ipykernel_launcher.py:66: SettingWithCopyWarning: \n",
      "A value is trying to be set on a copy of a slice from a DataFrame.\n",
      "Try using .loc[row_indexer,col_indexer] = value instead\n",
      "\n",
      "See the caveats in the documentation: https://pandas.pydata.org/pandas-docs/stable/user_guide/indexing.html#returning-a-view-versus-a-copy\n",
      "/home/jakub/anaconda3/lib/python3.7/site-packages/ipykernel_launcher.py:74: SettingWithCopyWarning: \n",
      "A value is trying to be set on a copy of a slice from a DataFrame.\n",
      "Try using .loc[row_indexer,col_indexer] = value instead\n",
      "\n",
      "See the caveats in the documentation: https://pandas.pydata.org/pandas-docs/stable/user_guide/indexing.html#returning-a-view-versus-a-copy\n"
     ]
    }
   ],
   "source": [
    "ScotLads={'Na h-Eileanan Siar',\"Clackmannanshire\",'Dumfries and Galloway',\"East Ayrshire\",\"East Lothian\",\"East Renfrewshire\",\"Eilean Siar\",\"Falkirk\", \"Fife\",\"Highland\",\"Inverclyde\", \"Midlothian\",\"Moray\",\"North Ayrshire\",\"Orkney Islands\",\"Perth and Kinross\",\"Scottish Borders\",\t\"Shetland Islands\",\t\"South Ayrshire\", \"South Lanarkshire\", \"Stirling\", \"Aberdeen City\",\t\"Aberdeenshire\", \"Argyll and Bute\",\t\"City of Edinburgh\", \"Renfrewshire\", \"West Dunbartonshire\",\t\"West Lothian\",\"Angus\",\t\"Dundee City\",\t\"North Lanarkshire\",\t\"East Dunbartonshire\",\t\"Glasgow City\"}\n",
    "\n",
    "# The data of all residents in MSOAs from the 2011 census.\n",
    "#From here https://www.nomisweb.co.uk/census/2011/qs103uk and download for MSOA and rename\n",
    "resident_data_20112_raw = pd.read_excel('data/Mid-2011-unformatted-syoa-data-fileEdit.xls', 'Mid-2011 Persons')\n",
    "resident_data_20112_raw=resident_data_20112_raw.rename(columns={'90+':90,' ALL AGES':'All Ages'})\n",
    "resident_data_20112_raw=resident_data_20112_raw.rename(columns={'Code':'AreaCode','All ages':'All Ages'})\n",
    "resident_data_20112_raw =resident_data_20112_raw[resident_data_20112_raw['Name'].isin(ScotLads)]\n",
    "resident_data_20112_raw=resident_data_20112_raw.reset_index(drop=True)\n",
    "resident_data_20182_raw=resident_data_20182_raw.reset_index(drop=True)\n",
    "for i in range(0,len(resident_data_20112_raw)):\n",
    "    if(resident_data_20112_raw['AreaCode'][i]=='S12000015'):\n",
    "        resident_data_20112_raw['AreaCode'][i]='S12000047'\n",
    "    if(resident_data_20112_raw['AreaCode'][i]=='S12000024'):\n",
    "        resident_data_20112_raw['AreaCode'][i]='S12000048'\n",
    "    if(resident_data_20112_raw['AreaCode'][i]=='S12000044'):\n",
    "        resident_data_20112_raw['AreaCode'][i]='S12000050'\n",
    "    if(resident_data_20112_raw['AreaCode'][i]=='S12000046'):\n",
    "        resident_data_20112_raw['AreaCode'][i]='S12000049'\n",
    "    if(resident_data_20112_raw['AreaCode'][i]=='S12000046'):\n",
    "        resident_data_20112_raw['AreaCode'][i]='S12000049'\n",
    "# # We need to age-group the data to match the census workplace data\n",
    "resident_data_20112 = resident_data_20112_raw[['AreaCode', 'All Ages']]\n",
    "# resident_data_2018 = resident_data_2018.rename(columns={'Area Codes':'msoa', 'Area Names':'Name'})\n",
    "age_groups = [5,12,16, 25, 35, 50, 65, 75]\n",
    "i = 0\n",
    "for i_end in age_groups:\n",
    "    label = '{}-'.format(i)\n",
    "    age_sum = resident_data_20112_raw[i].copy()\n",
    "    i += 1\n",
    "    while i < i_end:\n",
    "        age_sum += resident_data_20112_raw[i]\n",
    "        i += 1\n",
    "\n",
    "    label = label + '{}'.format(i-1)\n",
    "    resident_data_20112[label] = age_sum\n",
    "\n",
    "age_sum = resident_data_20112_raw[i].copy()\n",
    "i += 1\n",
    "while i < 90:\n",
    "    age_sum += resident_data_20112_raw[i]\n",
    "    i += 1\n",
    "age_sum += resident_data_20112_raw[90]\n",
    "resident_data_20112['75+'] = age_sum\n",
    "\n",
    "resident_data_20111_raw = pd.read_csv('data/QS103UK_msoa.csv')\n",
    "resident_data_20111_raw = resident_data_20111_raw.rename(columns={'geography code':'AreaCode', 'Age: All categories: Age; measures: Value':'All Ages'})\n",
    "resident_data_2011Eng = resident_data_20111_raw[['AreaCode', 'All Ages']]\n",
    "\n",
    "# We again need to group the data according to the workplace age structure.\n",
    "age_groups = [5,12, 16, 25, 35, 50, 65, 75]\n",
    "i = 0\n",
    "age_sum = 0\n",
    "for i_end in age_groups:\n",
    "    label = '{}-'.format(i)\n",
    "    if i == 0:\n",
    "        age_sum = resident_data_20111_raw['Age: Age under 1; measures: Value'].copy()\n",
    "    else:\n",
    "        age_sum = resident_data_20111_raw['Age: Age {}; measures: Value'.format(i)].copy()\n",
    "    i += 1\n",
    "    while i < i_end:\n",
    "        age_sum += resident_data_20111_raw['Age: Age {}; measures: Value'.format(i)]\n",
    "        i += 1\n",
    "\n",
    "    label = label + '{}'.format(i-1)\n",
    "    resident_data_2011Eng[label] = age_sum\n",
    "\n",
    "age_sum = resident_data_20111_raw['Age: Age {}; measures: Value'.format(i)].copy()\n",
    "i += 1\n",
    "while i < 100:\n",
    "    age_sum += resident_data_20111_raw['Age: Age {}; measures: Value'.format(i)]\n",
    "    i += 1\n",
    "age_sum += resident_data_20111_raw['Age: Age 100 and over; measures: Value']\n",
    "resident_data_2011Eng['75+'] = age_sum\n",
    "\n",
    "resident_data_2011=pd.concat([resident_data_2011Eng,resident_data_20112],ignore_index=True)\n"
   ]
  },
  {
   "cell_type": "markdown",
   "metadata": {},
   "source": [
    "We load the commuting groups and set a cutoff of 10 to not simulate too few people"
   ]
  },
  {
   "cell_type": "code",
   "execution_count": 54,
   "metadata": {},
   "outputs": [],
   "source": [
    "cutoff=10\n",
    "seriesEW=geometry_msoa['AreaCode']\n",
    "#Load Scottish commute data\n",
    "ScotCom=pd.read_csv(\"ScottishCommute.csv\")\n",
    "age_commute_table = pd.read_csv(\"data/wu02ew_msoa.csv\")\n",
    "#Trim down to data that is in the map\n",
    "age_commute_table=age_commute_table[age_commute_table['Area of residence'].isin(seriesEW)]\n",
    "age_commute_table=age_commute_table[age_commute_table['Area of workplace'].isin(seriesEW)]\n",
    "ScotCom=ScotCom.drop(columns=[\"index\"])\n",
    "age_commute_table=pd.concat([age_commute_table,ScotCom], ignore_index=True)\n",
    "age_commute_tableTot=age_commute_table[age_commute_table['All categories: Age 16 and over']>cutoff].reset_index(drop=True)\n",
    "age_commute_table=age_commute_table[age_commute_table['Area of residence']!=age_commute_table['Area of workplace']]\n",
    "age_commute_table=age_commute_table[age_commute_table['All categories: Age 16 and over']>cutoff].reset_index(drop=True)\n",
    "\n"
   ]
  },
  {
   "cell_type": "code",
   "execution_count": 55,
   "metadata": {},
   "outputs": [
    {
     "name": "stderr",
     "output_type": "stream",
     "text": [
      "/home/jakub/anaconda3/lib/python3.7/site-packages/ipykernel_launcher.py:11: SettingWithCopyWarning: \n",
      "A value is trying to be set on a copy of a slice from a DataFrame\n",
      "\n",
      "See the caveats in the documentation: https://pandas.pydata.org/pandas-docs/stable/user_guide/indexing.html#returning-a-view-versus-a-copy\n",
      "  # This is added back by InteractiveShellApp.init_path()\n"
     ]
    }
   ],
   "source": [
    "age_commute_tableSummed=age_commute_tableTot[age_commute_tableTot['Area of residence']==age_commute_tableTot['Area of workplace']]\n",
    "age_commute_tableSummed=age_commute_tableSummed.reset_index(drop=True)\n",
    "age_commute_tableSummed=age_commute_tableSummed.rename(columns={\"Area of residence\":\"AreaCode\"})\n",
    "# If you chose to rescale this is where you rescale to 2018 population\n",
    "work_age_groups = ['16-24', '25-34', '35-49', '50-64', '65-74', '75+']\n",
    "if rescale_work_population:\n",
    "    for i in range(0,len(age_commute_tableSummed)):\n",
    "        j=resident_data_2011.loc[resident_data_2011['AreaCode'] == age_commute_tableSummed['AreaCode'][i]]\n",
    "        k=resident_data_2018.loc[resident_data_2018['AreaCode']  == age_commute_tableSummed['AreaCode'][i]]\n",
    "        for (l, age_group) in enumerate(work_age_groups[0:]):\n",
    "            age_commute_tableSummed[age_group][i]=age_commute_tableSummed[age_group][i]*k[age_group].values/j[age_group].values\n",
    "# age_commute_tableSummed=GB.merge(age_commute_tableSummed, on='AreaCode')\n",
    "# age_commute_tableSummed=age_commute_tableSummed.merge(resident_data_2018, on='AreaCode')\n"
   ]
  },
  {
   "cell_type": "markdown",
   "metadata": {},
   "source": [
    "Next we compute the time that each commuting person takes to get to there destination and transform from ONS coding to the code of the algorithm, this might take a while"
   ]
  },
  {
   "cell_type": "code",
   "execution_count": null,
   "metadata": {},
   "outputs": [],
   "source": [
    "speed=20000\n",
    "series=GB['AreaCode']\n",
    "work_age_groups = ['16-24', '25-34', '35-49', '50-64', '65-74', '75+']\n",
    "Tdistance=np.zeros(len(age_commute_table))\n",
    "for i in range(0,len(age_commute_table)):\n",
    "    # If you chose to rescale this is where you rescale to 2018 population\n",
    "    if rescale_work_population:\n",
    "        j=resident_data_2011.loc[resident_data_2011['AreaCode'] == age_commute_table['Area of residence'][i]]\n",
    "        k=resident_data_2018.loc[resident_data_2018['AreaCode']  == age_commute_table['Area of residence'][i]]\n",
    "        for (l, age_group) in enumerate(work_age_groups):\n",
    "            age_commute_table[age_group][i]=age_commute_table[age_group][i]*k[age_group].values/j[age_group].values\n",
    "    j=series[series==age_commute_table['Area of residence'][i]].index[0]\n",
    "    k=series[series==age_commute_table['Area of workplace'][i]].index[0]\n",
    "    age_commute_table['Area of residence'][i]=j\n",
    "    age_commute_table['Area of workplace'][i]=k\n",
    "    x1=GB['Center'][j].x\n",
    "    y1=GB['Center'][j].y\n",
    "    x2=GB['Center'][k].x\n",
    "    y2=GB['Center'][k].y\n",
    "    distance=(x1-x2)*(x1-x2)+(y1-y2)*(y1-y2)\n",
    "    Tdistance[i]=np.sqrt(distance)/speed\n",
    "    if(Tdistance[i]>3):\n",
    "        Tdistance[i]=3\n",
    "age_commute_table['TemporalDistance']=Tdistance\n",
    "age_commute_table.insert(2, '0-15', np.zeros(len(age_commute_table.index), dtype=int))\n"
   ]
  },
  {
   "cell_type": "code",
   "execution_count": 86,
   "metadata": {},
   "outputs": [],
   "source": [
    "# 1. Write down the commute network:\n",
    "\n",
    "# Get into the format neede for the algorithm: Rows of the form\n",
    "#     Age group nr, residence index, residence index, work index, number of people commuting (scaled to 2019), \n",
    "#     commute start 1, commute start 2, commute end 1, commute end 2, allow S, allow I, allow R\n",
    "# written in a CSV file.\n",
    "# This may take a while!\n",
    "filename = 'commuter_networks.csv'\n",
    "allow_S = 1\n",
    "allow_E = 1\n",
    "allow_A = 1\n",
    "allow_Ia1 = 1\n",
    "allow_Ia2 = 1\n",
    "allow_Ia3 = 1\n",
    "allow_Is1 = 0\n",
    "allow_Is2 = 0\n",
    "allow_Is3 = 0\n",
    "allow_R = 1\n",
    "work_age_groups = ['0-15', '16-24', '25-34', '35-49', '50-64', '65-74', '75+']\n",
    "with open(filename,  'w') as f:\n",
    "    f.write(\"Home,From,To,Age,#to_move,%to_move,t1,t2,ct1,ct2,allow_S, allow_E, allow_A, allow_Ia1, allow_Ia2, allow_Ia3, allow_Is1,  allow_Is2,  allow_Is3, allow_R)\\n\")\n",
    "    for j in age_commute_table.index:\n",
    "        row = age_commute_table.loc[j]\n",
    "        for (i, age_group) in enumerate(work_age_groups[1:]):\n",
    "            count = row[age_group].astype(int)\n",
    "\n",
    "            # Everyone is in office between 9:00 and 10:00 and leaves between 17:00 and 18:00:\n",
    "            buffer = min(row.TemporalDistance, 1.0)\n",
    "            \n",
    "            morning_start_1 = 9 - row.TemporalDistance\n",
    "            morning_start_2 = 9 - row.TemporalDistance + buffer\n",
    "            morning_end_1 = 9\n",
    "            morning_end_2 = 9 + buffer\n",
    "            \n",
    "            evening_start_1 = 17\n",
    "            evening_start_2 = 17 + buffer\n",
    "            evening_end_1 = 17 + row.TemporalDistance\n",
    "            evening_end_2 = 17 + row.TemporalDistance + buffer\n",
    "\n",
    "            if count > individual_age_cutoff:\n",
    "                # home -> work\n",
    "                f.write(\"{}, {}, {}, {}, {}, {}, {}, {}, {}, {}, {}, {}, {}, {}, {}, {}, {}, {}, {}, {}  \\n\".format(\n",
    "                        int(row['Area of residence']), int(row['Area of residence']),  int(row['Area of workplace']),  i+3,\n",
    "                        count,-1, morning_start_1, morning_start_2, morning_end_1, morning_end_2,\n",
    "                        allow_S, allow_E, allow_A, allow_Ia1, allow_Ia2, allow_Ia3, allow_Is1,  allow_Is2,  allow_Is3, allow_R)\n",
    "                    )\n",
    "                # work -> home\n",
    "                f.write(\"{}, {}, {}, {}, {}, {}, {}, {}, {}, {}, {}, {}, {}, {}, {}, {}, {}, {}, {} , {} \\n\".format(\n",
    "                        int(row['Area of residence']), int(row['Area of workplace']),  int(row['Area of residence']),  i+3, \n",
    "                        -1, 1, evening_start_1, evening_start_2, evening_end_1, evening_end_2,\n",
    "                        allow_S, allow_E, allow_A, allow_Ia1, allow_Ia2, allow_Ia3, allow_Is1,  allow_Is2,  allow_Is3, allow_R)\n",
    "                    )"
   ]
  },
  {
   "cell_type": "code",
   "execution_count": 60,
   "metadata": {},
   "outputs": [],
   "source": [
    "# 2. Write down the nodes and geographical location:\n",
    "\n",
    "# We again use a representative point in each MSOA as its location. This point is guaranteed to\n",
    "# be in the MSOA and is given in meters.\n",
    "filename = 'node_positions.csv'\n",
    "with open(filename,  'w') as f:\n",
    "    f.write('Node,x,y\\n')\n",
    "    for i in GB.index:\n",
    "        x = GB['Center'][i].x\n",
    "        y = GB['Center'][i].y\n",
    "        f.write('{}, {:1f}, {:1f}\\n'.format(i, x, y))"
   ]
  },
  {
   "cell_type": "code",
   "execution_count": 78,
   "metadata": {},
   "outputs": [],
   "source": [
    "# 3. Write down population and infected numbers\n",
    "\n",
    "filename = 'node_populations.csv'\n",
    "age_groups = ['0-4','5-11', '12-15', '16-24', '25-34', '35-49', '50-64', '65-74', '75+']\n",
    "ages = ['15','15', '15', '24', '34', '49', '64', '74', '75+']\n",
    "\n",
    "midPanda=msoa_to_ladInfec.merge(resident_data_2018, on='AreaCode')\n",
    "node_population_table = GB.merge(midPanda, on='AreaCode')\n",
    "# node_population_table['DensityMsoa']=node_population_table['All Ages']/node_population_table['st_areasha']*1000*1000\n",
    "# x=node_population_table['DensityLAD'].values\n",
    "# y=node_population_table['DensityMsoa'].values\n",
    "\n",
    "# #the density dependence of infection, set the ratio to 1 if detail is not necessary\n",
    "# p=[0.00400384, 0.28323853]\n",
    "# def func(x):\n",
    "#     a=p[0]*np.power(x,p[1])\n",
    "#     return a\n",
    "# VectorFunc=np.vectorize(func)\n",
    "# ratio=VectorFunc(x)/VectorFunc(y)\n",
    "# node_population_table['ratio']=ratio\n",
    "\n",
    "\n",
    "\n",
    "# We get the individual infected/Susceptible/other people here\n",
    "for (age_group, age) in zip(age_groups, ages):\n",
    "    S=node_population_table['S'+age]*node_population_table[age_group]\n",
    "    node_population_table[age_group+'_S'] = S.astype(int)\n",
    "    E =node_population_table['E'+age]*node_population_table[age_group]\n",
    "    node_population_table[age_group+'_E']=E.astype(int)\n",
    "    A=node_population_table['A'+age]*node_population_table[age_group]\n",
    "    node_population_table[age_group+'_A'] =A.astype(int)\n",
    "    Ia1=node_population_table['Ia'+age]*node_population_table[age_group]/3*2\n",
    "    node_population_table[age_group+'_Ia1']=Ia1.astype(int)\n",
    "    Ia2=node_population_table['Ia'+age]*node_population_table[age_group]/9\n",
    "    node_population_table[age_group+'_Ia2']=Ia2.astype(int)\n",
    "    Ia3=node_population_table['Ia'+age]*node_population_table[age_group]/9\n",
    "    node_population_table[age_group+'_Ia3']=Ia3.astype(int)\n",
    "    Is1=node_population_table['Is'+age]*node_population_table[age_group]/3*2\n",
    "    node_population_table[age_group+'_Is1'] =Is1.astype(int)\n",
    "    R=node_population_table['R'+age]*node_population_table[age_group]\n",
    "    Is2=node_population_table['Is'+age]*node_population_table[age_group]/6\n",
    "    node_population_table[age_group+'_Is2'] =Is2.astype(int)\n",
    "    Is3=node_population_table['Is'+age]*node_population_table[age_group]/9\n",
    "    node_population_table[age_group+'_Is3'] =Is3.astype(int)\n",
    "    node_population_table[age_group+'_R'] =R.astype(int)\n",
    "# Change population table here to add infected or recovered persons:\n",
    "# add_infected(node_population_table)\n",
    "\n",
    "# Write to file:\n",
    "with open(filename, 'w') as f:\n",
    "    f.write('Home, Location, Area, S0, E0, A0, Ia01, Ia02, Ia03, Is01, Is02, Is03, R0, S1, E1, A1, Ia11, Ia12, Ia13, Is11, Is12, Is13, R1, S2, E2, A2, Ia21, Ia22, Ia23, Is21, Is22, Is23, R2\\n')\n",
    "    \n",
    "    for i in node_population_table.index:\n",
    "            row = node_population_table.loc[i, :]\n",
    "            line = '{}, {}, {}'.format(i, i, row['st_areasha'])\n",
    "            for (j, age_group) in enumerate(age_groups):\n",
    "                line += ', {}, {}, {}, {}, {}, {}, {}, {}, {} , {}'.format(row[age_group+'_S'] , row[age_group+'_E'], row[age_group+'_A'], row[age_group+'_Ia1'], row[age_group+'_Ia2'], row[age_group+'_Ia3'], row[age_group + '_Is1'], row[age_group + '_Is2'], row[age_group + '_Is3'], row[age_group + '_R'])\n",
    "            line += '\\n'\n",
    "            f.write(line)\n",
    "#     for l in range(len(node_population_table), len(Combined)):\n",
    "#             line = '{}, {}, {}'.format(l, l, 0.01)\n",
    "#             for (j, age_group) in enumerate(work_age_groups):\n",
    "#                 line += ', {}, {}, {}, {}, {}, {}, {}, {}, {}, {}'.format(0 , 0, 0, 0, 0, 0, 0, 0, 0, 0)\n",
    "#             line += '\\n'\n",
    "#             f.write(line)"
   ]
  },
  {
   "cell_type": "code",
   "execution_count": 85,
   "metadata": {},
   "outputs": [],
   "source": [
    "# 4. Write down the percentage of people working:\n",
    "\n",
    "# Get into the format neede dfor the algorithm: Rows of the form\n",
    "#     Age group nr, residence index, number of people working (scaled to 2019), number of people\n",
    "# written in a CSV file.\n",
    "# This may take a while!\n",
    "filename = 'work percentage.csv'\n",
    "popTable = GB.merge(resident_data_2018, on='AreaCode')\n",
    "age_groups = ['0-4','5-11', '12-15', '16-24', '25-34', '35-49', '50-64', '65-74', '75+']\n",
    "with open(filename,  'w') as f:\n",
    "    f.write(\"loc,age,Nworking,N \\n\")\n",
    "    for j in age_commute_tableSummed.index:\n",
    "        row2 = popTable.loc[j]\n",
    "        row = age_commute_tableSummed.loc[age_commute_tableSummed['AreaCode']  == popTable[\"AreaCode\"][j]]\n",
    "        for (i, age_group) in enumerate(age_groups[1:]):\n",
    "            # Age group nr, residence index, number of people working (scaled to 2019), number of people\n",
    "            if((age_group=='5-11') or (age_group=='12-15')):\n",
    "                f.write(\"{}, {}, {}, {}  \\n\".format(\n",
    "                        j, i+1,  int(row2[age_group]), int(row2[age_group])  )\n",
    "                    )\n",
    "            else:\n",
    "                count = row[age_group].astype(int)\n",
    "                f.write(\"{}, {}, {}, {}  \\n\".format(\n",
    "                        j, i+1,  int(row[age_group]), int(row2[age_group])  )\n",
    "                    )"
   ]
  }
 ],
 "metadata": {
  "kernelspec": {
   "display_name": "Python 3",
   "language": "python",
   "name": "python3"
  },
  "language_info": {
   "codemirror_mode": {
    "name": "ipython",
    "version": 3
   },
   "file_extension": ".py",
   "mimetype": "text/x-python",
   "name": "python",
   "nbconvert_exporter": "python",
   "pygments_lexer": "ipython3",
   "version": "3.7.4"
  }
 },
 "nbformat": 4,
 "nbformat_minor": 4
}
