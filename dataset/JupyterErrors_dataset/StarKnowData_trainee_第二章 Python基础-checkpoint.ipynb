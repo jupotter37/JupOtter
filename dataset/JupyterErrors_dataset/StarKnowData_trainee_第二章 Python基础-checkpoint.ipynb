{
 "cells": [
  {
   "cell_type": "markdown",
   "metadata": {},
   "source": [
    "## 2.1 我们的选择：Python\n",
    "\n",
    "鉴于 Python 编程语言的可读性和使用的简易性，本书选用它来描述算\n",
    "法。在工业领域，Python 通常用于制作程序的原型。Python 也用于如\n",
    "SAGE 这类重要的项目系统，因为其中的核心内容大多用实现速度快很\n",
    "多的语言编写，如 C 或 C++。\n",
    "\n",
    "\n",
    "现在我们说说 Python 编程语言的一些细节。在 Python 中有四个基本数\n",
    "据类型：**布尔型、整型、浮点型和字符串**。与其他大多数的编程语言不\n",
    "同，Python 中的整数不受数字占用的二进制位数限制，而使用高精度计\n",
    "算方式。\n",
    "\n",
    "Python 中的高级数据类型包括字典（dictionary）、列表（list）和元组\n",
    "（tuple）。列表和元组的区别是，元组是不可变数据，因此可以用作字\n",
    "典中键值对数据的键。\n",
    "\n",
    "网络上有很多 Python 的入门教程，如官网 python.org。David Eppstein\n",
    "创建了一个名为“Python 算法和数据结构”（PADS）的元件库，其中也\n",
    "有很好的讲解。\n",
    "在编写本书代码的过程中，我们遵循了 PEP8 规范。该规范细致地规定\n",
    "了空格的使用方法、变量命名规则，等等。我们建议读者也遵循上述规\n",
    "范。"
   ]
  },
  {
   "cell_type": "markdown",
   "metadata": {},
   "source": [
    "### Python 2 还是 Python 3 ？\n",
    "\n",
    "Python 3.x 版本已经于 2008 年发布。但直到今天，由于仍有大量的\n",
    "类库没有迁移到 Python 3.x，使得许多开发工作还继续停留在\n",
    "Python 2.x 版本。尽管如此，我们仍然选择使用 Python 3.x 来实现\n",
    "算法。Python 2.x 和 Python 3.x 对本书中代码的主要影响在于 print\n",
    "语句的使用方式，以及整数除法的使用方式。在 Python 3.x 中，对\n",
    "于两个整数 a 和 b，表达式 a/b 会返回除法的浮点型的商，表达式\n",
    "a//b 返回的则是两者的欧几里得商，即商的整数部分。print 的用\n",
    "法区别在于，在 Python 2.x 中 print 是语句，而在 Python 3.x 中\n",
    "print() 是需要使用括号包围的参数来调用的函数。如果程序运行存在性能问题，可以考虑使用 pypy 或 pypy3 解释器\n",
    "来执行，因为这都是实时编译器。也就是说，Python 代码会先被翻\n",
    "译为机器码，然后才被干净而迅速执行。但 pypy 的弱点在于它仍\n",
    "处在开发过程中，很多 Python 类库尚无法支持。"
   ]
  },
  {
   "cell_type": "markdown",
   "metadata": {},
   "source": [
    "### 无穷\n",
    "\n",
    "Python 使用高精度计算方式进行计算，而不用二进制位数来限制整\n",
    "数的大小。所以，在 Python 语言中不存在哪个数可以指代正无穷\n",
    "大或负无穷大的值。但对于浮点数，我们可以用 float('inf') 和\n",
    "float('-inf') 来指代正、负无穷大。"
   ]
  },
  {
   "cell_type": "markdown",
   "metadata": {},
   "source": [
    "### 一些建议\n",
    "\n",
    "\n",
    "Python 的初学者在复制列表数据时经常犯一个错误。在下面的例子\n",
    "里，列表 B 只是一个指向列表 A 的引用。对 B[0] 的修改同样会修\n",
    "改 A[0]。"
   ]
  },
  {
   "cell_type": "code",
   "execution_count": 2,
   "metadata": {},
   "outputs": [
    {
     "name": "stdout",
     "output_type": "stream",
     "text": [
      "[10, 2, 3]\n"
     ]
    }
   ],
   "source": [
    "A = [1, 2, 3]\n",
    "B = A\n",
    "\n",
    "B[0] = 10\n",
    "\n",
    "print(A)"
   ]
  },
  {
   "cell_type": "markdown",
   "metadata": {},
   "source": [
    "当复制一个 A 的独立副本时，我们可以使用以下语法格式："
   ]
  },
  {
   "cell_type": "code",
   "execution_count": 3,
   "metadata": {},
   "outputs": [
    {
     "name": "stdout",
     "output_type": "stream",
     "text": [
      "[1, 2, 3]\n"
     ]
    }
   ],
   "source": [
    "A = [1, 2, 3]\n",
    "B = A[:]\n",
    "\n",
    "B[0] = 10\n",
    "\n",
    "print(A)"
   ]
  },
  {
   "cell_type": "markdown",
   "metadata": {},
   "source": [
    "语句 [:] 用以复制一个列表。我们也可以复制一个去掉首元素的列\n",
    "表 A[1:]，或者去掉末尾元素的列表 A[:-1]，或者逆序的列表\n",
    "A[::-1]。\n",
    "\n",
    "举例来说，下面的代码会生成一个所有行完全相同的矩阵\n",
    "M，而对 M[0][0] 元素的修改会导致第一列所有元素被修改。"
   ]
  },
  {
   "cell_type": "code",
   "execution_count": 4,
   "metadata": {},
   "outputs": [],
   "source": [
    "M = [[0] * 10] * 10"
   ]
  },
  {
   "cell_type": "markdown",
   "metadata": {},
   "source": [
    "我们可以用下面两种正确的方式来初始化一个这样的矩阵："
   ]
  },
  {
   "cell_type": "code",
   "execution_count": 5,
   "metadata": {},
   "outputs": [],
   "source": [
    "M1 = [[0] * 10 for _ in range(10)]"
   ]
  },
  {
   "cell_type": "code",
   "execution_count": 6,
   "metadata": {},
   "outputs": [],
   "source": [
    "M2 = [[0 for j in range(10)] for i in range(10)]"
   ]
  },
  {
   "cell_type": "markdown",
   "metadata": {},
   "source": [
    "操作矩阵的简单方式是使用 numpy 模块.\n",
    "\n",
    "另一个典型错误经常发生在使用 range 语句时。比如，下面的代\n",
    "码会顺序处理列表 A 中 0 至 9 号元素（包括 0 号和 9 号元素）："
   ]
  },
  {
   "cell_type": "code",
   "execution_count": 8,
   "metadata": {},
   "outputs": [
    {
     "ename": "NameError",
     "evalue": "name 'treat' is not defined",
     "output_type": "error",
     "traceback": [
      "\u001b[0;31m---------------------------------------------------------------------------\u001b[0m",
      "\u001b[0;31mNameError\u001b[0m                                 Traceback (most recent call last)",
      "\u001b[0;32m<ipython-input-8-1d6b62836ba6>\u001b[0m in \u001b[0;36m<module>\u001b[0;34m\u001b[0m\n\u001b[1;32m      1\u001b[0m \u001b[0;32mfor\u001b[0m \u001b[0mi\u001b[0m \u001b[0;32min\u001b[0m \u001b[0mrange\u001b[0m\u001b[0;34m(\u001b[0m\u001b[0;36m0\u001b[0m\u001b[0;34m,\u001b[0m \u001b[0;36m10\u001b[0m\u001b[0;34m)\u001b[0m\u001b[0;34m:\u001b[0m \u001b[0;31m# 包括0，不包括10\u001b[0m\u001b[0;34m\u001b[0m\u001b[0;34m\u001b[0m\u001b[0m\n\u001b[0;32m----> 2\u001b[0;31m     \u001b[0mtreat\u001b[0m\u001b[0;34m(\u001b[0m\u001b[0mA\u001b[0m\u001b[0;34m[\u001b[0m\u001b[0mi\u001b[0m\u001b[0;34m]\u001b[0m\u001b[0;34m)\u001b[0m\u001b[0;34m\u001b[0m\u001b[0;34m\u001b[0m\u001b[0m\n\u001b[0m",
      "\u001b[0;31mNameError\u001b[0m: name 'treat' is not defined"
     ]
    }
   ],
   "source": [
    "for i in range(0, 10): # 包括0，不包括10\n",
    "    treat(A[i])"
   ]
  },
  {
   "cell_type": "markdown",
   "metadata": {},
   "source": [
    "如果想逆序处理上述元素，仅反转参数是不够的。语句 range(10,\n",
    "0, -1) 中的第三个参数代表循环的步长，语句会导致被处理元素\n",
    "中的 10 号元素被包含在内，而 0 号元素被排除在外。因此需要用\n",
    "以下方式来处理："
   ]
  },
  {
   "cell_type": "code",
   "execution_count": 9,
   "metadata": {},
   "outputs": [
    {
     "ename": "NameError",
     "evalue": "name 'treat' is not defined",
     "output_type": "error",
     "traceback": [
      "\u001b[0;31m---------------------------------------------------------------------------\u001b[0m",
      "\u001b[0;31mNameError\u001b[0m                                 Traceback (most recent call last)",
      "\u001b[0;32m<ipython-input-9-345e7008618a>\u001b[0m in \u001b[0;36m<module>\u001b[0;34m\u001b[0m\n\u001b[1;32m      1\u001b[0m \u001b[0;32mfor\u001b[0m \u001b[0mi\u001b[0m \u001b[0;32min\u001b[0m \u001b[0mrange\u001b[0m\u001b[0;34m(\u001b[0m\u001b[0;36m9\u001b[0m\u001b[0;34m,\u001b[0m \u001b[0;34m-\u001b[0m\u001b[0;36m1\u001b[0m\u001b[0;34m,\u001b[0m \u001b[0;34m-\u001b[0m\u001b[0;36m1\u001b[0m\u001b[0;34m)\u001b[0m\u001b[0;34m:\u001b[0m \u001b[0;31m# 包括9， 不包括 -1\u001b[0m\u001b[0;34m\u001b[0m\u001b[0;34m\u001b[0m\u001b[0m\n\u001b[0;32m----> 2\u001b[0;31m     \u001b[0mtreat\u001b[0m\u001b[0;34m(\u001b[0m\u001b[0mA\u001b[0m\u001b[0;34m[\u001b[0m\u001b[0mi\u001b[0m\u001b[0;34m]\u001b[0m\u001b[0;34m)\u001b[0m\u001b[0;34m\u001b[0m\u001b[0;34m\u001b[0m\u001b[0m\n\u001b[0m",
      "\u001b[0;31mNameError\u001b[0m: name 'treat' is not defined"
     ]
    }
   ],
   "source": [
    "for i in range(9, -1, -1): # 包括9， 不包括 -1\n",
    "    treat(A[i])"
   ]
  },
  {
   "cell_type": "markdown",
   "metadata": {},
   "source": [
    "## 2.2 输入输出\n",
    "\n",
    "### 2.2.1 读取标准输入\n",
    "\n",
    "> 使用组合快捷键是个好习惯。在 Windows 环境下，Windows 7 和 windows XP 系统都可以使\n",
    "用上述方式，而在 Windows 8、Windows 10 和 Windows Server 环境下，建议使用 Windows+R\n",
    "组合键呼出“运行命令”窗口，再输入 cmd 打开控制台，或在 Windows 8 和 Windows 10 环境\n",
    "下，直接按 Windows 键打开“开始”屏幕，输入 cmd 后回车，也可以快速打开控制台。—\n",
    "\n",
    "在大部分编程竞赛的题目中，源数据都需要从标准输入设备来读取，并\n",
    "把输出显示到标准输出设备上。如果输入文件名叫 test.in，你的程序\n",
    "名叫 prog.py，那就可以在控制台执行以下命令，将输入文件的内容重\n",
    "定向到你的程序：\n",
    "\n",
    "\n",
    "```python\n",
    "python prog.py < test.in\n",
    "```\n",
    "\n",
    "如果你想把程序的输出记录到名为 test.out 的输出文件中，使用的命\n",
    "令格式如下：\n",
    "\n",
    "```python\n",
    "python prog.py < test.in > test.out\n",
    "```\n",
    "\n",
    "\n",
    "输入数据文件可以使用 input() 语句按行读取。input() 语句把读取\n",
    "到的行用字符串的形式返回，但不会返回行尾的换行符 。在 sys 模块\n",
    "中有一个类似的方法 stdin.readline()，这个方法不会删除行尾的换\n",
    "行符，但根据我们的经验，它的执行速度是 input() 语句的 4 倍。\n",
    "\n",
    "如果读取到的行包含的应当是一个整数，我们使用 int 方法进行类型转\n",
    "换；如果是一个浮点数，我们使用 float 方法。当一行中包含多个空\n",
    "格分隔的整数时，我们首先使用 split() 方法把这一行拆分成独立的\n",
    "部分，然后用 map 方法把它们全部转换成整数。举例来说，当用空格分\n",
    "隔的两个整数——高度和宽度，需要在同一行内被读取时，可以使用以\n",
    "下命令\n"
   ]
  },
  {
   "cell_type": "code",
   "execution_count": 10,
   "metadata": {},
   "outputs": [
    {
     "ename": "ValueError",
     "evalue": "not enough values to unpack (expected 2, got 0)",
     "output_type": "error",
     "traceback": [
      "\u001b[0;31m---------------------------------------------------------------------------\u001b[0m",
      "\u001b[0;31mValueError\u001b[0m                                Traceback (most recent call last)",
      "\u001b[0;32m<ipython-input-10-85fae728b64f>\u001b[0m in \u001b[0;36m<module>\u001b[0;34m\u001b[0m\n\u001b[1;32m      1\u001b[0m \u001b[0;32mimport\u001b[0m \u001b[0msys\u001b[0m\u001b[0;34m\u001b[0m\u001b[0;34m\u001b[0m\u001b[0m\n\u001b[0;32m----> 2\u001b[0;31m \u001b[0mheight\u001b[0m\u001b[0;34m,\u001b[0m \u001b[0mwidth\u001b[0m \u001b[0;34m=\u001b[0m \u001b[0mmap\u001b[0m\u001b[0;34m(\u001b[0m\u001b[0mint\u001b[0m\u001b[0;34m,\u001b[0m \u001b[0msys\u001b[0m\u001b[0;34m.\u001b[0m\u001b[0mstdin\u001b[0m\u001b[0;34m.\u001b[0m\u001b[0mreadline\u001b[0m\u001b[0;34m(\u001b[0m\u001b[0;34m)\u001b[0m\u001b[0;34m.\u001b[0m\u001b[0msplit\u001b[0m\u001b[0;34m(\u001b[0m\u001b[0;34m)\u001b[0m\u001b[0;34m)\u001b[0m\u001b[0;34m\u001b[0m\u001b[0;34m\u001b[0m\u001b[0m\n\u001b[0m",
      "\u001b[0;31mValueError\u001b[0m: not enough values to unpack (expected 2, got 0)"
     ]
    }
   ],
   "source": [
    "import sys\n",
    "height, width = map(int, sys.stdin.readline().split())"
   ]
  },
  {
   "cell_type": "markdown",
   "metadata": {},
   "source": [
    "如果你的程序在读取数据时遇到性能问题，根据我们的经验，可以仅使\n",
    "用一次系统调用，把整个输入文件读入，速度即可提升 2 倍。在下列语\n",
    "句中，假设输入数据中只有来自多行输入的整数， os.read() 方法的\n",
    "参数 0 表示标准输入流，常量 M 必须是一个大于文件大小的限值。比\n",
    "如，文件中包含了 10<sup>7</sup> 个大小在 0 至 10<sup>9</sup> 之间的整数，那么每个整数最\n",
    "多只能有 10 个字符，而两个整数中间最多只有两个分隔符（\\r 和 \\n，即回车和换行），我们可以选择 M = 12·10<sup>7</sup> 。"
   ]
  },
  {
   "cell_type": "code",
   "execution_count": 11,
   "metadata": {},
   "outputs": [
    {
     "ename": "TypeError",
     "evalue": "'list' object cannot be interpreted as an integer",
     "output_type": "error",
     "traceback": [
      "\u001b[0;31m---------------------------------------------------------------------------\u001b[0m",
      "\u001b[0;31mTypeError\u001b[0m                                 Traceback (most recent call last)",
      "\u001b[0;32m<ipython-input-11-97bfbd7308be>\u001b[0m in \u001b[0;36m<module>\u001b[0;34m\u001b[0m\n\u001b[1;32m      1\u001b[0m \u001b[0;32mimport\u001b[0m \u001b[0mos\u001b[0m\u001b[0;34m\u001b[0m\u001b[0;34m\u001b[0m\u001b[0m\n\u001b[0;32m----> 2\u001b[0;31m \u001b[0minputs\u001b[0m \u001b[0;34m=\u001b[0m \u001b[0mlist\u001b[0m\u001b[0;34m(\u001b[0m\u001b[0mmap\u001b[0m\u001b[0;34m(\u001b[0m\u001b[0mint\u001b[0m\u001b[0;34m,\u001b[0m \u001b[0mos\u001b[0m\u001b[0;34m.\u001b[0m\u001b[0mread\u001b[0m\u001b[0;34m(\u001b[0m\u001b[0;36m0\u001b[0m\u001b[0;34m,\u001b[0m \u001b[0mM\u001b[0m\u001b[0;34m)\u001b[0m\u001b[0;34m.\u001b[0m\u001b[0msplit\u001b[0m\u001b[0;34m(\u001b[0m\u001b[0;34m)\u001b[0m\u001b[0;34m)\u001b[0m\u001b[0;34m)\u001b[0m\u001b[0;34m\u001b[0m\u001b[0;34m\u001b[0m\u001b[0m\n\u001b[0m",
      "\u001b[0;31mTypeError\u001b[0m: 'list' object cannot be interpreted as an integer"
     ]
    }
   ],
   "source": [
    "import os\n",
    "inputs = list(map(int, os.read(0, M).split()))"
   ]
  },
  {
   "cell_type": "markdown",
   "metadata": {},
   "source": [
    "## 例子 读取三个矩阵 A、B、C，并测试是否 AB = C"
   ]
  },
  {
   "cell_type": "markdown",
   "metadata": {},
   "source": [
    "在此例子中，输入格式如下：第一行包含一个唯一的整数 n，接下\n",
    "来的 3n 行，每行包含 n 个被空格分隔的整数。这些行代表三个\n",
    "n×n 矩阵 A、B、C 内包含的所有元素。例子的目的是测试矩阵\n",
    "A×B 的结果是否等于矩阵 C。最简单的方法是使用矩阵乘法的解\n",
    "法，复杂度是 O(n<sup>3</sup>)。但是，有一个可能的解法，复杂度仅有\n",
    "O(n<sup>2</sup>)，即随机选择一个向量 x，并测试 A(Bx) = Cx。这种测试方法\n",
    "叫作 Freivalds 比较算法。那么，程序计算出的结果相等，而实际上 AB ≠ C 的概率有多大呢？如果计算以 d 为\n",
    "模，错误的最大概率是 1/d。这个概率在多次重复测试后可以变得极小。以下代码产生错误的概率已经低至 10-6 量级。"
   ]
  },
  {
   "cell_type": "code",
   "execution_count": 15,
   "metadata": {},
   "outputs": [
    {
     "ename": "ValueError",
     "evalue": "invalid literal for int() with base 10: ''",
     "output_type": "error",
     "traceback": [
      "\u001b[0;31m---------------------------------------------------------------------------\u001b[0m",
      "\u001b[0;31mValueError\u001b[0m                                Traceback (most recent call last)",
      "\u001b[0;32m<ipython-input-15-baaef0bedabb>\u001b[0m in \u001b[0;36m<module>\u001b[0;34m\u001b[0m\n\u001b[1;32m     33\u001b[0m \u001b[0;34m\u001b[0m\u001b[0m\n\u001b[1;32m     34\u001b[0m \u001b[0;34m\u001b[0m\u001b[0m\n\u001b[0;32m---> 35\u001b[0;31m \u001b[0mn\u001b[0m \u001b[0;34m=\u001b[0m \u001b[0mreadint\u001b[0m\u001b[0;34m(\u001b[0m\u001b[0;34m)\u001b[0m\u001b[0;34m\u001b[0m\u001b[0;34m\u001b[0m\u001b[0m\n\u001b[0m\u001b[1;32m     36\u001b[0m \u001b[0mA\u001b[0m \u001b[0;34m=\u001b[0m \u001b[0mreadmatrix\u001b[0m\u001b[0;34m(\u001b[0m\u001b[0mn\u001b[0m\u001b[0;34m)\u001b[0m\u001b[0;34m\u001b[0m\u001b[0;34m\u001b[0m\u001b[0m\n\u001b[1;32m     37\u001b[0m \u001b[0mB\u001b[0m \u001b[0;34m=\u001b[0m \u001b[0mreadmatrix\u001b[0m\u001b[0;34m(\u001b[0m\u001b[0mn\u001b[0m\u001b[0;34m)\u001b[0m\u001b[0;34m\u001b[0m\u001b[0;34m\u001b[0m\u001b[0m\n",
      "\u001b[0;32m<ipython-input-15-baaef0bedabb>\u001b[0m in \u001b[0;36mreadint\u001b[0;34m()\u001b[0m\n\u001b[1;32m      3\u001b[0m \u001b[0;34m\u001b[0m\u001b[0m\n\u001b[1;32m      4\u001b[0m \u001b[0;32mdef\u001b[0m \u001b[0mreadint\u001b[0m\u001b[0;34m(\u001b[0m\u001b[0;34m)\u001b[0m\u001b[0;34m:\u001b[0m\u001b[0;34m\u001b[0m\u001b[0;34m\u001b[0m\u001b[0m\n\u001b[0;32m----> 5\u001b[0;31m     \u001b[0;32mreturn\u001b[0m \u001b[0mint\u001b[0m\u001b[0;34m(\u001b[0m\u001b[0mstdin\u001b[0m\u001b[0;34m.\u001b[0m\u001b[0mreadline\u001b[0m\u001b[0;34m(\u001b[0m\u001b[0;34m)\u001b[0m\u001b[0;34m)\u001b[0m\u001b[0;34m\u001b[0m\u001b[0;34m\u001b[0m\u001b[0m\n\u001b[0m\u001b[1;32m      6\u001b[0m \u001b[0;34m\u001b[0m\u001b[0m\n\u001b[1;32m      7\u001b[0m \u001b[0;32mdef\u001b[0m \u001b[0mreadarray\u001b[0m\u001b[0;34m(\u001b[0m\u001b[0mtyp\u001b[0m\u001b[0;34m)\u001b[0m\u001b[0;34m:\u001b[0m\u001b[0;34m\u001b[0m\u001b[0;34m\u001b[0m\u001b[0m\n",
      "\u001b[0;31mValueError\u001b[0m: invalid literal for int() with base 10: ''"
     ]
    }
   ],
   "source": [
    "from random import randint\n",
    "from sys import stdin\n",
    "\n",
    "def readint():\n",
    "    return int(stdin.readline())\n",
    "\n",
    "def readarray(typ):\n",
    "    return list(map(typ, stdin.readline().split()))\n",
    "\n",
    "def readmatrix(n):\n",
    "    M = []\n",
    "    for _ in range(n):\n",
    "        row = readarray(int)\n",
    "        assert len(row) == n\n",
    "        M. append(row)\n",
    "    return M\n",
    "\n",
    "def mult(M, v):\n",
    "    n = len(M)\n",
    "    return[sum(M[i][j] * v[j] for j in range(n)) for i in range(n)]\n",
    "\n",
    "def freivalds(A, B, C):\n",
    "    n = len(A)\n",
    "    x = [randint(0, 1000000) for j in range(n)]\n",
    "    return mult(A, mult(B, x)) == mult(C, x)\n",
    "\n",
    "if __name__ == \" __main__ \":\n",
    "    n = readint()\n",
    "    A = readmatrix(n)\n",
    "    B = readmatrix(n)\n",
    "    C = readmatrix(n)\n",
    "    print(freivalds(A, B, C))\n",
    "\n",
    "\n"
   ]
  },
  {
   "cell_type": "markdown",
   "metadata": {},
   "source": [
    "### 显示格式\n",
    "\n",
    "程序的输出必须使用 print 命令，它会根据你提供的参数生成一个新\n",
    "的行。行尾的换行符可以通过在参数中传递 end=\" 取消掉。为显示指\n",
    "定小数位数的浮点数，可以使用 % 运算符，方法为“格式 % 值”。第 i\n",
    "个占位符会被值列表中的第 i 个值替换。以下例子显示了一行格式类\n",
    "似“Case #1: 51.10 Paris”的字符串：\n",
    "\n",
    "\n",
    "```python\n",
    "print(\"Case #%i: %.02f %s\" % (testCase, percentage, city))\n",
    "```\n",
    "\n",
    "在上面例子中，%i 被整型变量 testCase 的值所替换，%.02f 被浮点型\n",
    "变量 percentage 的值所替换并保留两位小数，%s 被字符串型变量\n",
    "city 的值所替换。"
   ]
  },
  {
   "cell_type": "markdown",
   "metadata": {},
   "source": [
    "## 2.3 抽象类型和基本数据结构"
   ]
  },
  {
   "cell_type": "markdown",
   "metadata": {},
   "source": [
    "我们将首先讲述高效编程的核心内容——程序解决问题的基础，即数据\n",
    "结构。\n",
    "抽象类型是关于一系列对象的规范，它归纳了对象可以取的值、可以执\n",
    "行的操作以及操作的具体内容。我们也可以把一个抽象类型理解为对象\n",
    "的统一规格。\n",
    "数据结构是根据统一规格的定义，为高效处理特定数据而总结出的具体\n",
    "数据组织方式。因此，我们可以使用一个或多个数据结构来实现一个抽\n",
    "象类型，并设定每个操作的时间复杂度和所需内存。如此一来，根据操\n",
    "作被执行的频率，我们会选择某一种抽象类型的实现方式来解答不同问\n",
    "题。\n",
    "为了更好地编写程序，必须掌握编程语言和标准库所提供的数据结构。\n",
    "在下面几节中，我们来讲解一下竞赛中最实用的数据结构。"
   ]
  },
  {
   "cell_type": "markdown",
   "metadata": {},
   "source": [
    "### 2.3.1 栈"
   ]
  },
  {
   "cell_type": "markdown",
   "metadata": {},
   "source": [
    "\n",
    "![](https://tva1.sinaimg.cn/large/006tNbRwly1g9wbn5qvzaj30jc0fwwh6.jpg)\n",
    "\n",
    "栈（stack）是把元素组织起来并提供如下操作的对象：测试\n",
    "一个栈是否为空，在其顶部添加一个元素（入栈），从顶部访问并删除\n",
    "一个元素（出栈）。Python 语言的基本类型列表（list）实现了栈。我\n",
    "们使用 append(element) 方法执行入栈操作，使用 pop() 方法执行出\n",
    "栈操作。如果一个列表被用于布尔运算，比如一个 if 或 while 语句中\n",
    "的条件测试，语句当且仅当它非空的时候值为真。此外，其他所有实现\n",
    "了 \\_\\_len\\_\\_ 方法的对象也是如此。以上所有操作需要的时间都是一个\n",
    "常数"
   ]
  },
  {
   "cell_type": "markdown",
   "metadata": {},
   "source": [
    "### 2.3.2 字典\n",
    "\n",
    "字典能采用表格和下标的方式把键和值关联起来。其内部运行方式以散\n",
    "列表结构为基础；散列表结构使用散列算法把元素与表中的某个下标关\n",
    "联，并在多个元素与同一个下标关联的时候实现冲突处理机制。在最好\n",
    "的情况下，字典的读、写操作时间都是常数。但在最坏的情况下，所需\n",
    "时间是线性的，因为系统必须顺序访问一系列键和值，以便处理冲突(顺序访问所有拥有同一个下标或散列值的键，直到找到需要的对象。)\n",
    "。在实际应用中，最坏的情况很少发生。我们总体上都假\n",
    "设访问一个字典元素的时间是常数。如果键值的形式为 0, 1,…, n-1，我\n",
    "们通常建议使用简单的表结构而不是字典，令程序效率更高。"
   ]
  },
  {
   "cell_type": "markdown",
   "metadata": {},
   "source": [
    "### 2.3.3 队列\n",
    "\n",
    "队列与栈类似，差别仅在于向队列里添加元素时，元素被加到尾部（入\n",
    "队），而提取元素时则从队列头部开始（出队）。这种机制也称作\n",
    "FIFO（first in, first out，先进先出），就像排队一样；而栈则被称作\n",
    "LIFO（last in, first out，后进先出），就像垒一堆盘子一样。\n",
    "在 Python 的标准库中，有两个类实现了队列。第一是 Queue 类，这是\n",
    "一个同步实现，意味着多个进程可以同时访问同一个对象。由于本书的\n",
    "代码不涉及并发机制，我们不推荐使用这个类，因为它在执行同步的时\n",
    "候使用的信号机制会拖慢执行速度。第二是 Deque 类（Double Ended\n",
    "Queue，即双向队列），除了提供标准方法，即在尾部使用\n",
    "append(element) 添加元素和在头部使用 popleft() 提取元素之外，\n",
    "它还提供了额外方法，用于在队列头部使用 appendleft(element) 添\n",
    "加元素和在尾部使用 pop() 提取元素。我们把这种队列称作双向队\n",
    "列。在路径权重是 0 和 1\n",
    "的图中查找最短路径算法中，这种结构非常有用。\n",
    "\n",
    "我们推荐使用 Deque 类。但为了举例说明，以下代码展示了如何使用\n",
    "两个栈实现一个队列的方式。一个栈作为队列头部，用于提取元素，另\n",
    "一个栈作为队列尾部用于插入元素。当作为头部的栈为空的时候，它会\n",
    "与作为尾部的栈相互替换。通过 len(q)，\\_\\_len\\_\\_ 方法能获取队列 q\n",
    "中的元素数量，并通过 if q 测试队列是否为空。幸运的是，这些操作\n",
    "所需时间都是常数。"
   ]
  },
  {
   "cell_type": "code",
   "execution_count": 16,
   "metadata": {},
   "outputs": [],
   "source": [
    "class OurQueue:\n",
    "    def __init__(self):\n",
    "        self.in_stack = [] # 队列的尾部\n",
    "        self.out_stack = [] # 队列的头部\n",
    "        \n",
    "    def __len__(self):\n",
    "        return len(self.in_stack) + len(self.out_stack)\n",
    "    \n",
    "    def push(self, obj):\n",
    "        self.in_stack.append(obj)\n",
    "        \n",
    "    def pop(self):\n",
    "        if not self.out_stack: # 队列头为空\n",
    "            self.out_stack = self.in_stack[::-1]\n",
    "            self.in_stack = []\n",
    "        return self.out_stack.pop()"
   ]
  },
  {
   "cell_type": "markdown",
   "metadata": {},
   "source": [
    "### 2.3.4 优先级队列和最小堆\n",
    "\n",
    "优先级队列是一个抽象类型数据，能够添加元素，并取出键数字最小的\n",
    "那个元素。在生成哈夫曼编码（和在图中找到两个点的最\n",
    "短路径时，利用优先级队列对一个数组进行\n",
    "排序（用堆排序算法），十分有用。优先级队列通常是通过堆的方式来\n",
    "实现的，堆的数据格式类似于一棵树。\n",
    "\n",
    "- 满二叉树和完全二叉树\n",
    "\n",
    "如果一棵二叉树的所有叶子节点与根节点之间的距离都相同，则二\n",
    "叉树被称作满二叉树。如果一棵二叉树的所有叶子节点最多位于两\n",
    "层，所有浅层叶子节点全满，而最深层的叶子节点集中在最左边，\n",
    "这就是一棵完全二叉树。使用数组可以很容易表示这样的树形结构\n",
    "。这棵树下标为 0 的元素被忽略，根节点的下标是 1，\n",
    "节点 i 的两个子节点是 2i 和 2i+1。利用简单的计算即可操作和遍历\n",
    "这棵树。有其他表示树形结构的数据结构。\n",
    "\n",
    "![](https://tva1.sinaimg.cn/large/006tNbRwly1g9wc5iznx6j30gl0bhdiz.jpg)\n",
    "\n",
    "- 优先级队列和堆\n",
    "\n",
    "堆（heap）是一个能检查元素优先级的反转树状结构。假如每个节\n",
    "点的键值（也就是优先级）比其子节点小，那这就是一个最小堆。\n",
    "最小堆根节点的键值一定是堆中最小的一个。同样也存在最大堆的\n",
    "概念，即每个节点的键值都比其所有子节点的键值要大。\n",
    "人们通常更感兴趣的是二叉堆，即完全二叉树。这类数据结构能在\n",
    "对数时间内提取最小元素和插入新元素。总的来说，这里所讲的是\n",
    "有一定顺序关系的元素集合。堆也能更新一个元素的优先级，在使\n",
    "用 Dijkstra 算法寻找一条向顶端的最短路径时，这个操作非常有\n",
    "用。\n",
    "在 Python 语言中，堆排列是用 heapq 模块实现的。这个模块提供\n",
    "了把数组转化成堆的方法，即 heapify(table)。而转化后的数组\n",
    "仍是前面提到的完全二叉树，唯一的区别是其根节点下标为 0 的元\n",
    "素非空。这个模块同样可以插入一个新元素，即 heappush(heap,\n",
    "element)，以及抽出最小元素，即 heappop(heap)。\n",
    "相反，heapq 模块不能修改堆中的元素值，而这个操作在 Dijkstra\n",
    "算法中可以优化时间复杂度。因此，我们推荐下面更完整的实现方\n",
    "式。\n",
    "实现的细节\n",
    "相关结构包含了 heap 数组结构，储存着一个纯粹意义上的堆；结\n",
    "构中还包含一个 rank 字典，用于查找堆中元素的下标。主要操作\n",
    "是 push 和 pop。当用 push 方法插入一个新元素时，元素被当作\n",
    "堆中最后一个叶子节点加入，然后，堆会根据其排序规则重新组\n",
    "织。使用 pop 方法可以提取最小元素，根节点被堆的最后一个叶子\n",
    "节点所替换，然后堆会再次根据自身规则重新组织。展示了\n",
    "这一过程。\n",
    "\n",
    "![](https://tva1.sinaimg.cn/large/006tNbRwly1g9wc8o0j9kj30h70d0mzf.jpg)\n",
    "\n",
    "\n",
    "操作 \\_\\_len\\_\\_ 返回堆的元素数量。这个操作通过 Python 隐式地把\n",
    "一个堆转换成一个布尔值，比如，在堆 h 非空的时候，可以将\n",
    "while h 这样的判断语句作为继续循环的条件。\n",
    "堆的平均复杂度是 O(logn)，但在最差情况下，由于使用了字典\n",
    "rank，复杂度会增加到 O(n)。"
   ]
  },
  {
   "cell_type": "code",
   "execution_count": null,
   "metadata": {},
   "outputs": [],
   "source": [
    "class OurHeap:\n",
    "    \n",
    "    def __init__(self, items):\n",
    "        self.n = 0\n",
    "        self.heap = [None] # index 0 会被替换\n",
    "        self.rank = {}\n",
    "        for x in items :\n",
    "            self.push(x)\n",
    "            \n",
    "    def __len__(self):\n",
    "        return len(self.heap) - 1\n",
    "    \n",
    "    def push(self, x):\n",
    "        assert x not in self.rank\n",
    "        i = len(self.heap)\n",
    "        self.heap.append(x) # 添加一个新的叶子节点\n",
    "        self.rank[x] = i\n",
    "        self.up(i) # 保持堆排序\n",
    "        \n",
    "    def pop(self):\n",
    "        root = self.heap[1]\n",
    "        del self.rank[root]\n",
    "        x = self.heap.pop() # 移除最后一个叶子节点\n",
    "        if self: # 堆非空\n",
    "            self.heap[1] = x # 移动到根节点\n",
    "            self.rank[x] = 1\n",
    "            self.down(1) # 保持堆排序\n",
    "        return root"
   ]
  },
  {
   "cell_type": "markdown",
   "metadata": {},
   "source": [
    "堆的重新组织通过 up(i) 和 down(i) 操作实现：当一个下标为 i\n",
    "的元素比其父节点小，此时用 up 操作；当元素比其子节点大，则\n",
    "用 down 操作。因此，up 操作让某节点完成与其父节点的一系列交\n",
    "换，直到满足堆的规则。而 down 操作的效果类似，用于节点及其子节点的交换。"
   ]
  },
  {
   "cell_type": "code",
   "execution_count": null,
   "metadata": {},
   "outputs": [],
   "source": [
    "def up(self, i):\n",
    "    x = self.heap[i]\n",
    "    while i > 1 and x < self.heap[i // 2]:\n",
    "        self.heap[i] = self.heap[i // 2]\n",
    "        self.rank[self.heap[i // 2]] = i\n",
    "        i //= 2\n",
    "    self.heap[i] = x # 找到了插入点\n",
    "    self.rank[x] = i\n",
    "    \n",
    "def down(self, i):\n",
    "    x = self.heap[i]\n",
    "    n = len(self.heap)\n",
    "    while True:\n",
    "        left = 2 * i # 在二叉树中下降\n",
    "        right = left + 1\n",
    "        if right < n and \\\n",
    "            self.heap[right] < x and self.heap[right] < self.heap[left]:\n",
    "            self.heap[i] = self.heap[right]\n",
    "            self.rank[self.heap[right]] = i # 提升右侧子节点\n",
    "            i = right\n",
    "        elif left < n and self.heap[left] < x:\n",
    "            self.heap[i] = self.heap[left]\n",
    "            self.rank[self.heap[left]] = i # 提升左侧子节点\n",
    "            i = left\n",
    "        else:\n",
    "            self.heap[i] = x # 找到了插入点\n",
    "            self.rank[x] = i\n",
    "            return\n",
    "\n",
    "def update(self, old, new):\n",
    "    i = self.rank[old] # 交换下标为i 的元素\n",
    "    del self.rank[old]\n",
    "    self.heap[i] = new\n",
    "    self.rank[new] = i\n",
    "    if old < new: # 保持堆排序\n",
    "        self.down(i)\n",
    "    else:\n",
    "        self.up(i)"
   ]
  },
  {
   "cell_type": "markdown",
   "metadata": {},
   "source": [
    "### 2.3.5 并查集\n",
    "\n",
    "并查集（Union-find）这种数据结构存储了一系列 V 字形集合（分\n",
    "片），并能完成一些指定操作。这些操作在动态数据结构中也被称\n",
    "为查询。\n",
    "\n",
    "- find(v) 返回元素 v 所在集合内的一个特定元素。如果想检验\n",
    "元素 u 和元素 v 是否在同一个集合中，只需比较 find(u) 和\n",
    "find(v)。\n",
    "- union(u, v) 合并分别包含 u 和 v 的两个集合。\n",
    "\n",
    "\n",
    "这种数据结构主要应用于检测图的元素连通性。每次添加路径都调用一次 union 和 find，以此测试两个顶点是否在同\n",
    "一个集合中。并查集还可用于 Kruskal 算法对最小生成树的判断。\n",
    "\n",
    "数据结构对每个查询所需的时间基本为常量\n",
    "\n",
    "我们把集合中的有向树元素指向一个特定元素。每个 v\n",
    "元素有一个指向树中更高层级节点的引用 parent[v]。根节点 v 是集\n",
    "合的特定元素，在 parent[v] 中用一个特殊值来标注，我们可以选择\n",
    "0 或 -1，或在值相关情况下选择 v 元素本身。整个元素的大小保存\n",
    "在数组 length[v] 中，其中 v 是特定元素。在这个数据结构中有两个\n",
    "概念。\n",
    "\n",
    "01. 当朝向根节点遍历一个元素的时候，我们将借机压缩路径；也就是说，把遍历路径上的所有节点直接挂在根节点上。\n",
    "02. 当执行合并操作 union 的时候，我们把序列最低的树挂在阶最高的树的根节点上。一棵树的阶指的是在树没有被压缩时，本应有的深度。\n",
    "\n",
    "![](https://tva1.sinaimg.cn/large/006tNbRwly1g9wclu6gavj30hh08utbe.jpg)\n",
    "\n",
    "于是我们得到如下代码：\n"
   ]
  },
  {
   "cell_type": "code",
   "execution_count": null,
   "metadata": {},
   "outputs": [],
   "source": [
    "class UnionFind :\n",
    "    def __init__(self, n):\n",
    "        self.up = list(range(n))\n",
    "        self.rank = [0] * n\n",
    "        \n",
    "    def find(self, x):\n",
    "        if self.up[x] == x:\n",
    "            return x\n",
    "        else:\n",
    "            self.up[x] = self.find(self.up[x])\n",
    "            return self.up[x]\n",
    "        \n",
    "    def union(self, x, y):\n",
    "        repr_x = self.find(x)\n",
    "        repr_y = self.find(y)\n",
    "        if repr_x == repr_y: # 已在同一个集合中\n",
    "            return False\n",
    "        if self.rank[repr_x] == self.rank[repr_y]:\n",
    "            self.rank[repr_x] += 1\n",
    "            self.up[repr_y] = repr_x\n",
    "        elif self.rank[repr_x] > self.rank[repr_y]:\n",
    "            self.up[repr_y] = repr_x\n",
    "        else:\n",
    "            self.up[repr_x] = repr_y\n",
    "        return True"
   ]
  },
  {
   "cell_type": "markdown",
   "metadata": {},
   "source": [
    "可以证明，对于一个大小为 n 的集合，任何 m 次 union 或 find 操\n",
    "作所需要的时间复杂度都是 O((m+n) α(n))，其中 α 是 Ackermann\n",
    "函数的反函数，一般可以视为常量 4。"
   ]
  },
  {
   "cell_type": "markdown",
   "metadata": {},
   "source": [
    "## 2.4 常用技术与技巧\n",
    "\n",
    "### 2.4.1 比较\n",
    "\n",
    "在 Python 语言中，元组比较采用字典序。例如，这种方式能找到一个\n",
    "数组中的最大元素，同时还能找到它的下标，当有重复值的时候取最大\n",
    "的下标。\n",
    "\n",
    "```python\n",
    "max((tab[i], i) for i in range(len(tab)))\n",
    "```\n",
    "\n",
    "举例来说，为了找到一个数组中的多数元素（majority element），我们\n",
    "可以用字典来统计每个元素的出现次数，并用以上代码来选择其中的多\n",
    "数元素。这种实现方式的平均时间复杂度是 O(nk)；而在最差情况下，\n",
    "由于使用了字典，时间复杂度是 O(n<sup>2</sup>k)。其中 n 是给定输入的单词数\n",
    "量，而 k 是一个单词的最大长度。\n",
    "这里顺便讲一下，字典数据类型的使用方式存储键值对 (key, value)。一\n",
    "个空字典用 {} 来表示。测试一个字典中是否存在键的方法是 in 和 not\n",
    "in。下面代码中的 for 循环可以遍历字典中所有的键来完成查找。\n",
    "\n",
    "```python\n",
    "def majority(L):\n",
    "    compute = {}\n",
    "    for word in L:\n",
    "        if word in compute:\n",
    "            compute[word] += 1\n",
    "        else:\n",
    "            compute[word] = 1\n",
    "    valmin, argmin = min((-compute[word], word) for word in compute)\n",
    "    return argmin\n",
    "```\n",
    "\n",
    "### 2.4.2 排序\n",
    "\n",
    "Python 语言中包含 n 个元素的数组排序的时间复杂度是 O(n logn)。排序分为以下两种。\n",
    "\n",
    "- sort() 排序：这个方法会直接修改被排序的列表内容，称为“原地”修改。\n",
    "\n",
    "- sorted() 排序：这个方法会返回相关列表的一个排好序的副本。\n",
    "假设包含 n 个整数的数组 L，我们想在其中找到两个差值最小的整\n",
    "数。为了解决这个问题，可以先对数组 L 进行排序，然后对其进行\n",
    "遍历，最终找到数值最接近的两个整数。使用 min 方法结合字典排\n",
    "序法，可以找到集合中的多组整数对。同样，valmin 变量包含着\n",
    "数组 L 中两个连续元素的最小差值（即数组 L 中两个值最近的数的\n",
    "差值）；argmin 变量则是这两个数中较大一个数的下标。\n",
    "\n",
    "```python\n",
    "\n",
    "def closest_values(L):\n",
    "    assert len(L) >= 2\n",
    "    L.sort()\n",
    "    valmin, argmin = min((L[i] - L[i - 1], i) for i in range(1, len(L)))\n",
    "    return L[argmin - 1], L[argmin]\n",
    "\n",
    "```\n",
    "\n",
    "在最差情况下，对 n 个元素排序所需的时间复杂度是Ω(n logn)。为了证\n",
    "明这一点，我们假设有一个包含 n 个不同整数的数组。算法必须在 n!\n",
    "种可能序列中找到一种排好的序列。每次比较会返回两种可能中的一个\n",
    "值（更大或更小），并把结果空间切分为两部分。最终，在最坏情况\n",
    "下，需要 [log<sub>2</sub>(n!)] 次比较才能找到这个特定序列，从而得到复杂度的\n",
    "下限Ω(log(n!)) = Ω(n logn)。\n",
    "\n",
    "\n",
    "### 2.4.3 扫描\n",
    "\n",
    "众多几何学问题都可以用扫描算法来解决。许多关于区间（interval），\n",
    "也就是一维几何对象的问题也一样。扫描算法旨在从左往右地遍历输入\n",
    "元素，并对每个遇到的元素做特定处理。\n",
    "\n",
    "- 例子：区间交叉\n",
    "\n",
    "对于给定的 n 个区间 [l<sub>i</sub>, r<sub>i</sub>)，其中 i = 0,…, n-1，我们希望找到一个x 值，它被最多的区间包括。以下是一个时间复杂度为 O(n logn) 的解决方案。我们把所有极限值一起排序，然后用一个假想的指针 x从左到右遍历这些极限值；再用一个计数器 c 来记录只看到起始值却看不到终止值的区间的数量，于是，最后这个区间数量就包含了x。注意，B 元素的处理顺序保证了每个区间的终止值在区间的起始值之前得到处理，这对我们处理的右侧半开放区间的情况非常必要。\n",
    "\n",
    "\n",
    "```python\n",
    "\n",
    "def max_interval_intersec(S):\n",
    "    B = ([(left, +1) for left, right in S] +\n",
    "        [(right, -1) for left, right in S])\n",
    "    B.sort()\n",
    "    c = 0\n",
    "    best = (c, None)\n",
    "    for x, d in B:\n",
    "        c += d\n",
    "        if best[0] < c:\n",
    "            best = (c, x)\n",
    "    return best\n",
    "\n",
    "```\n",
    "\n",
    "### 2.4.4 贪婪算法\n",
    "\n",
    "我们在这里要介绍一种构成贪婪算法的主要算法技巧。笼统来说，这种算法在寻找解决方案的每个步骤中都选择了一个让局部结果最大化的参数。比较正式的说法是，这种算法通过拟阵组合结构，能够证明贪婪算法的优化和不优化程度。\n",
    "\n",
    "- 例子：最小点积\n",
    "\n",
    "我们使用一个简单的例子来介绍这种算法。对于两个给定的向量 x和 y，它们均由 n 个正整数或空组成，首先需找到一种元素的排列π{1,…, n}，使得![](https://tva1.sinaimg.cn/large/006tNbRwly1g9wd2guwlij302901d3ya.jpg)最小。\n",
    "\n",
    "应用:\n",
    "\n",
    "假设以映射方式将 n 项任务交给 n 个工人完成，也就是说，每项任务必须分别分配给不同的工人。每项任务都有一个完成小时数，每个工人都有一个按每小时计算的工资数。目标是，找到一种排列方式，使得支付给工人的工资总数最少。\n",
    "\n",
    "- 时间复杂度为 O(n logn) 的算法\n",
    "\n",
    "![](https://tva1.sinaimg.cn/large/006tNbRwly1g9wd5evoysj30gk0a1423.jpg)\n",
    "\n",
    "```python\n",
    "\n",
    "def min_scalar_prod(x, y):\n",
    "    x = sorted(x) # 得到排好序的副本\n",
    "    y = sorted(y) # 提前准备参数\n",
    "    return sum(x[i] * y[-i - 1] for i in range(len(x)))\n",
    "\n",
    "```\n",
    "\n",
    "\n",
    "### 2.4.5 动态规划算法\n",
    "\n",
    "动态规划算法如同程序员随身携带的瑞士军刀，是一项必备的工具。其思路是把问题分解成若干子问题，并基于子问题的解决方案找到原始问题的最优解。\n",
    "一个经典例子就是计算斐波那契数列第 n 个数的算法。斐波那契数列以如下递归方式定义：\n",
    "\n",
    "![](https://tva1.sinaimg.cn/large/006tNbRwly1g9wd7rhzo4j30hr02ua9y.jpg)\n",
    "\n",
    "比如在我们爬楼梯的时候，这个算法可以计算在一次登上 1 或 2 级台阶\n",
    "的情况下，登上 n 级台阶有多少种走法。使用递归方式计算 F 效率很\n",
    "低，因为对于相同的参数 i，F(i) 需要进行多次计算。而以动\n",
    "态规划算法作为解决方案时，只需简单地把 F(0) 到 F(n) 的数值储存在\n",
    "一个大小为 n ＋ 1 的数组中，并按照下标升序填充数组。如此一来，在\n",
    "计算 F(i) 时，F(i–1) 和 F(i–2) 的值已经被计算好，并存储在数组相应的\n",
    "位置上。\n",
    "\n",
    "![](https://tva1.sinaimg.cn/large/006tNbRwly1g9wd9rcdzhj30i60cdjug.jpg)\n",
    "\n",
    "### 2.4.6 用整数编码集合\n",
    "\n",
    "这是一种用一群集合编成整数的高效算法，集合中元素都是介于 0 至 k\n",
    "的 63 次幂 范围内的整数。更准确地说，是使用二进制转换的方式把\n",
    "子集编码成特征向量。编码方式如下表所示。\n",
    "\n",
    "![](https://tva1.sinaimg.cn/large/006tNbRwly1g9wddzg8utj30iq0koju3.jpg)\n",
    "\n",
    "![](https://tva1.sinaimg.cn/large/006tNbRwly1g9wdfhuje0j30i90a1ju0.jpg)\n",
    "\n",
    "\n",
    "```python\n",
    "\n",
    "def three_partition(x):\n",
    "    f = [0] * (1 << len(x))\n",
    "    for i in range(len(x)):\n",
    "        for S in range(1 << i):\n",
    "            f[S | (1 << i)] = f[S] + x[i]\n",
    "        for A in range(1 << len(x)):\n",
    "            for B in range(1 << len(x)):\n",
    "                if A & B == 0 and f[A] == f[B] and 3 * f[A] == f[-1]:\n",
    "                    return(A, B, ((1 << len(x)) -1) ^ A ^ B)\n",
    "    return None\n",
    "```\n",
    "\n",
    "\n",
    "### 2.4.7 二分查找\n",
    "\n",
    "Python 标准模块 bisect 中提供了二分查找算法，所以在某些情况\n",
    "下，我们不需要自己来实现。假设有一个数组 tab，由 n 个已排序\n",
    "好的元素组成。现在要为新元素 x 找到插入点 ，那么需要执行\n",
    "bisect_left(tab, x, 0, n)，而其返回值就是第一个满足 tab[i] ≥ x 的数组元素的下标 i。"
   ]
  },
  {
   "cell_type": "code",
   "execution_count": null,
   "metadata": {},
   "outputs": [],
   "source": []
  }
 ],
 "metadata": {
  "kernelspec": {
   "display_name": "Python 3",
   "language": "python",
   "name": "python3"
  },
  "language_info": {
   "codemirror_mode": {
    "name": "ipython",
    "version": 3
   },
   "file_extension": ".py",
   "mimetype": "text/x-python",
   "name": "python",
   "nbconvert_exporter": "python",
   "pygments_lexer": "ipython3",
   "version": "3.6.8"
  }
 },
 "nbformat": 4,
 "nbformat_minor": 2
}
