{
 "cells": [
  {
   "cell_type": "markdown",
   "metadata": {},
   "source": [
    "# Connecting and publishing to Google pubsub"
   ]
  },
  {
   "cell_type": "code",
   "execution_count": 2,
   "metadata": {},
   "outputs": [],
   "source": [
    "import os\n",
    "import base64\n",
    "import json\n",
    "import ndjson\n",
    "from google.cloud import pubsub_v1\n",
    "from google.oauth2 import service_account"
   ]
  },
  {
   "cell_type": "code",
   "execution_count": 3,
   "metadata": {},
   "outputs": [
    {
     "data": {
      "text/plain": [
       "'projects/kind-lab/topics/mimic-fhir-bundles'"
      ]
     },
     "execution_count": 3,
     "metadata": {},
     "output_type": "execute_result"
    }
   ],
   "source": [
    "project = 'kind-lab' # 'kind-lab\n",
    "\n",
    "publisher = pubsub_v1.PublisherClient()\n",
    "topic_path = publisher.topic_path(project, 'mimic-fhir-bundles')\n",
    "topic_path"
   ]
  },
  {
   "cell_type": "code",
   "execution_count": 4,
   "metadata": {},
   "outputs": [],
   "source": [
    "# auth = os.popen(\"gcloud auth application-default print-access-token\").read().strip()\n",
    "blob_dir='bundle-loading/custom-folder'\n",
    "\n",
    "org_bundle=b'{\"resourceType\": \"Bundle\", \"id\":\"org-bundle\",\"type\":\"transaction\",\"entry\":[{\"fullUrl\": \"ee172322-118b-5716-abbc-18e4c5437e15\", \"resource\":{\"id\": \"ee172322-118b-5716-abbc-18e4c5437e15\", \"meta\": {\"profile\": [\"http://mimic.mit.edu/fhir/mimic/StructureDefinition/mimic-organization\"]}, \"name\": \"Beth Israel Deaconess Medical Center\", \"type\": [{\"coding\": [{\"code\": \"prov\", \"system\": \"http://terminology.hl7.org/CodeSystem/organization-type\", \"display\": \"Healthcare Provider\"}]}], \"active\": true, \"identifier\": [{\"value\": \"1194052720\", \"system\": \"http://hl7.org/fhir/sid/us-npi\"}], \"resourceType\": \"Organization\"},\"request\":{\"method\":\"PUT\",\"url\":\"Organization/ee172322-118b-5716-abbc-18e4c5437e15\"}}]}'\n",
    "bundle= b'{\"resourceType\":\"Bundle\",\"id\":\"bundle-transaction\",\"type\":\"transaction\",\"entry\":[{\"fullUrl\":\"ba83e5fd-2a2d-5a24-94cc-a08d1294f3d6\",\"resource\":{\"id\":\"ba83e5fd-2a2d-5a24-94cc-a08d1294f3d6\",\"meta\":{\"profile\":[\"http://mimic.mit.edu/fhir/mimic/StructureDefinition/mimic-encounter\"]},\"type\":[{\"coding\":[{\"code\":\"99218\",\"system\":\"http://mimic.mit.edu/fhir/mimic/CodeSystem/mimic-hcpcs-cd\",\"display\":\"Hospital observation services\"}]},{\"coding\":[{\"code\":\"36252\",\"system\":\"http://mimic.mit.edu/fhir/mimic/CodeSystem/mimic-hcpcs-cd\",\"display\":\"Cardiovascular system\"}]}],\"class\":{\"code\":\"AMB\",\"system\":\"http://terminology.hl7.org/CodeSystem/v3-ActCode\",\"display\":\"ambulatory\"},\"period\":{\"end\":\"2143-03-19T12:00:00-04:00\",\"start\":\"2143-03-18T12:34:00-04:00\"},\"status\":\"finished\",\"subject\":{\"reference\":\"Patient/adde1635-3110-5e92-b9f0-7a6d845a1784\"},\"location\":[{\"period\":{\"end\":\"2143-03-19T12:03:31-04:00\",\"start\":\"2143-03-18T12:34:29-04:00\"},\"location\":{\"reference\":\"Location/25fdf8f3-5c5e-517b-b732-8f4501f25c33\"}}],\"priority\":{\"coding\":[{\"code\":\"R\",\"system\":\"http://terminology.hl7.org/CodeSystem/v3-ActPriority\",\"display\":\"routine\"}]},\"identifier\":[{\"use\":\"usual\",\"value\":\"27125816\",\"system\":\"http://mimic.mit.edu/fhir/mimic/identifier/encounter-hosp\",\"assigner\":{\"reference\":\"Organization/ee172322-118b-5716-abbc-18e4c5437e15\"}}],\"serviceType\":{\"coding\":[{\"code\":\"CMED\",\"system\":\"http://mimic.mit.edu/fhir/mimic/CodeSystem/mimic-services\"}]},\"resourceType\":\"Encounter\",\"hospitalization\":{\"admitSource\":{\"coding\":[{\"code\":\"PROCEDURE SITE\",\"system\":\"http://mimic.mit.edu/fhir/mimic/CodeSystem/mimic-admit-source\"}]}},\"serviceProvider\":{\"reference\":\"Organization/ee172322-118b-5716-abbc-18e4c5437e15\"}},\"request\":{\"method\":\"PUT\",\"url\":\"Encounter/ba83e5fd-2a2d-5a24-94cc-a08d1294f3d6\"}},{\"fullUrl\":\"1f9c4560-e98f-55ea-815f-0c1a0f7a5ae7\",\"resource\":{\"id\":\"1f9c4560-e98f-55ea-815f-0c1a0f7a5ae7\",\"meta\":{\"profile\":[\"http://mimic.mit.edu/fhir/mimic/StructureDefinition/mimic-encounter\"]},\"type\":[{\"coding\":[{\"code\":\"308335008\",\"system\":\"http://snomed.info/sct\",\"display\":\"Patient encounter procedure\"}]}],\"class\":{\"code\":\"AMB\",\"system\":\"http://terminology.hl7.org/CodeSystem/v3-ActCode\",\"display\":\"ambulatory\"},\"period\":{\"end\":\"2143-03-10T11:35:00-04:00\",\"start\":\"2143-03-09T11:10:00-05:00\"},\"status\":\"finished\",\"subject\":{\"reference\":\"Patient/b410dd44-7d65-56f9-974f-2751e8aa80e2\"},\"location\":[{\"period\":{\"end\":\"2143-03-09T16:25:33-05:00\",\"start\":\"2143-03-09T11:11:33-05:00\"},\"location\":{\"reference\":\"Location/f4ed77ed-3be3-5700-bc6a-3622ca10f90f\"}},{\"period\":{\"end\":\"2143-03-10T12:00:01-04:00\",\"start\":\"2143-03-09T16:25:33-05:00\"},\"location\":{\"reference\":\"Location/25fdf8f3-5c5e-517b-b732-8f4501f25c33\"}}],\"priority\":{\"coding\":[{\"code\":\"R\",\"system\":\"http://terminology.hl7.org/CodeSystem/v3-ActPriority\",\"display\":\"routine\"}]},\"identifier\":[{\"use\":\"usual\",\"value\":\"21216581\",\"system\":\"http://mimic.mit.edu/fhir/mimic/identifier/encounter-hosp\",\"assigner\":{\"reference\":\"Organization/ee172322-118b-5716-abbc-18e4c5437e15\"}}],\"serviceType\":{\"coding\":[{\"code\":\"CMED\",\"system\":\"http://mimic.mit.edu/fhir/mimic/CodeSystem/mimic-services\"}]},\"resourceType\":\"Encounter\",\"hospitalization\":{\"admitSource\":{\"coding\":[{\"code\":\"PROCEDURE SITE\",\"system\":\"http://mimic.mit.edu/fhir/mimic/CodeSystem/mimic-admit-source\"}]}},\"serviceProvider\":{\"reference\":\"Organization/ee172322-118b-5716-abbc-18e4c5437e15\"}},\"request\":{\"method\":\"PUT\",\"url\":\"Encounter/1f9c4560-e98f-55ea-815f-0c1a0f7a5ae7\"}}]}'"
   ]
  },
  {
   "cell_type": "code",
   "execution_count": 5,
   "metadata": {},
   "outputs": [
    {
     "data": {
      "text/plain": [
       "<Future at 0x7fb22598a790 state=pending>"
      ]
     },
     "execution_count": 5,
     "metadata": {},
     "output_type": "execute_result"
    }
   ],
   "source": [
    "future = publisher.publish(topic_path, org_bundle, blob_dir=blob_dir)\n",
    "future"
   ]
  },
  {
   "cell_type": "code",
   "execution_count": 11,
   "metadata": {},
   "outputs": [
    {
     "ename": "AttributeError",
     "evalue": "'dict' object has no attribute 'encode'",
     "output_type": "error",
     "traceback": [
      "\u001b[0;31m---------------------------------------------------------------------------\u001b[0m",
      "\u001b[0;31mAttributeError\u001b[0m                            Traceback (most recent call last)",
      "\u001b[1;32m/home/alex/git/mimic-fhir/notebooks/google-pubsb.ipynb Cell 6'\u001b[0m in \u001b[0;36m<cell line: 2>\u001b[0;34m()\u001b[0m\n\u001b[1;32m      <a href='vscode-notebook-cell:/home/alex/git/mimic-fhir/notebooks/google-pubsb.ipynb#ch0000005?line=0'>1</a>\u001b[0m bundle_json \u001b[39m=\u001b[39m json\u001b[39m.\u001b[39mloads(bundle\u001b[39m.\u001b[39mdecode(\u001b[39m'\u001b[39m\u001b[39mutf-8\u001b[39m\u001b[39m'\u001b[39m))\n\u001b[0;32m----> <a href='vscode-notebook-cell:/home/alex/git/mimic-fhir/notebooks/google-pubsb.ipynb#ch0000005?line=1'>2</a>\u001b[0m bundle_json\u001b[39m.\u001b[39;49mencode()\n",
      "\u001b[0;31mAttributeError\u001b[0m: 'dict' object has no attribute 'encode'"
     ]
    }
   ],
   "source": [
    "bundle_json = json.loads(bundle.decode('utf-8'))\n",
    "bundle_json.encode()"
   ]
  },
  {
   "cell_type": "code",
   "execution_count": 59,
   "metadata": {},
   "outputs": [],
   "source": [
    "loaded_bundle = json.loads(bundle.decode(\"utf-8\"))\n",
    "err_bundle = {\"bundle\": loaded_bundle, \"error\": 'some error message, really bad stuff'}"
   ]
  },
  {
   "cell_type": "code",
   "execution_count": 56,
   "metadata": {},
   "outputs": [],
   "source": [
    "from google.cloud import storage"
   ]
  },
  {
   "cell_type": "code",
   "execution_count": 62,
   "metadata": {},
   "outputs": [],
   "source": [
    "storage_client = storage.Client()\n",
    "bucket = storage_client.get_bucket('mimic-fhir')\n",
    "blob = bucket.blob('bundle-loading/error/some-file3.json')\n",
    "blob.upload_from_string(json.dumps(err_bundle))"
   ]
  },
  {
   "cell_type": "code",
   "execution_count": 86,
   "metadata": {},
   "outputs": [
    {
     "name": "stdout",
     "output_type": "stream",
     "text": [
      "{'error': 'some error', 'bundle_id': 'bundle-transaction'}\n",
      "{'error': 'some error', 'bundle_id': 'bundle-transaction'}\n"
     ]
    }
   ],
   "source": [
    "# Test out creating a summary error file\n",
    "error_folder = f'{blob_dir}/error'\n",
    "local_dir = '/home/alex/Downloads'\n",
    "summary_err_file = f'{local_dir}/summary_err.ndjson'\n",
    "client = storage.Client(project='kind-lab')\n",
    "with open(summary_err_file, 'w') as f:\n",
    "    writer = ndjson.writer(f, ensure_ascii=False)\n",
    "    for blob in client.list_blobs('mimic-fhir', prefix=error_folder):\n",
    "        blob_data = json.loads(blob.download_as_string())\n",
    "        err_line = {\"error\": blob_data['error'], \"bundle_id\": blob_data['bundle']['id']}\n",
    "        print(err_line)\n",
    "        writer.writerow(err_line)\n",
    "\n",
    "blob = bucket.blob(f'{blob_dir}/err_summary.ndson')\n",
    "blob.upload_from_filename(summary_err_file)\n",
    "\n",
    "\n"
   ]
  },
  {
   "cell_type": "code",
   "execution_count": 77,
   "metadata": {},
   "outputs": [
    {
     "data": {
      "text/plain": [
       "'bundle-loading/custom-folder/errror'"
      ]
     },
     "execution_count": 77,
     "metadata": {},
     "output_type": "execute_result"
    }
   ],
   "source": [
    "error_folder"
   ]
  },
  {
   "cell_type": "code",
   "execution_count": 90,
   "metadata": {},
   "outputs": [
    {
     "data": {
      "text/plain": [
       "{'resourceType': 'Bundle',\n",
       " 'id': 'org_bundle',\n",
       " 'type': 'transaction',\n",
       " 'entry': [{'fullUrl': 'ee172322-118b-5716-abbc-18e4c5437e15',\n",
       "   'resource': {'id': 'ee172322-118b-5716-abbc-18e4c5437e15',\n",
       "    'meta': {'profile': ['http://fhir.mimic.mit.edu/StructureDefinition/mimic-organization']},\n",
       "    'name': 'Beth Israel Deaconess Medical Center',\n",
       "    'type': [{'coding': [{'code': 'prov',\n",
       "        'system': 'http://terminology.hl7.org/CodeSystem/organization-type',\n",
       "        'display': 'Healthcare Provider'}]}],\n",
       "    'active': True,\n",
       "    'identifier': [{'value': '1194052720',\n",
       "      'system': 'http://hl7.org/fhir/sid/us-npi'}],\n",
       "    'resourceType': 'Organization'},\n",
       "   'request': {'method': 'PUT',\n",
       "    'url': 'Organization/ee172322-118b-5716-abbc-18e4c5437e15'}}]}"
      ]
     },
     "execution_count": 90,
     "metadata": {},
     "output_type": "execute_result"
    }
   ],
   "source": [
    "json.loads(org_bundle.decode('utf-8'))"
   ]
  },
  {
   "cell_type": "code",
   "execution_count": 13,
   "metadata": {},
   "outputs": [],
   "source": [
    "from uuid import uuid4"
   ]
  },
  {
   "cell_type": "code",
   "execution_count": 15,
   "metadata": {},
   "outputs": [
    {
     "data": {
      "text/plain": [
       "'6bf8d00d-c6b0-4318-8f85-0aa95ce06c9a'"
      ]
     },
     "execution_count": 15,
     "metadata": {},
     "output_type": "execute_result"
    }
   ],
   "source": [
    "str(uuid4())"
   ]
  },
  {
   "cell_type": "code",
   "execution_count": null,
   "metadata": {},
   "outputs": [],
   "source": []
  }
 ],
 "metadata": {
  "interpreter": {
   "hash": "cc120b1e18bb4a5f2e2642a03748ea27e23f9ca213fbd8a1e99c84606e813ff8"
  },
  "kernelspec": {
   "display_name": "Python 3.9.12 ('mimic-fhir')",
   "language": "python",
   "name": "python3"
  },
  "language_info": {
   "codemirror_mode": {
    "name": "ipython",
    "version": 3
   },
   "file_extension": ".py",
   "mimetype": "text/x-python",
   "name": "python",
   "nbconvert_exporter": "python",
   "pygments_lexer": "ipython3",
   "version": "3.9.12"
  },
  "orig_nbformat": 4
 },
 "nbformat": 4,
 "nbformat_minor": 2
}
