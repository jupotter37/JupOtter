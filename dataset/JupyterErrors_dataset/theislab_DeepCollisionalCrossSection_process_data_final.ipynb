{
 "cells": [
  {
   "cell_type": "markdown",
   "metadata": {},
   "source": [
    "# CCS\n",
    "preprocessing for CCS prediction"
   ]
  },
  {
   "cell_type": "code",
   "execution_count": 11,
   "metadata": {},
   "outputs": [],
   "source": [
    "import pandas as pd\n",
    "import numpy as np\n",
    "from sklearn.preprocessing import OneHotEncoder\n",
    "import re, os, csv\n",
    "import pickle\n",
    "\n",
    "data_path = 'data/combined.csv'\n",
    "outpath = 'data_final/Tests/200206_ward_min2_PTtest/'"
   ]
  },
  {
   "cell_type": "code",
   "execution_count": 12,
   "metadata": {},
   "outputs": [
    {
     "name": "stdout",
     "output_type": "stream",
     "text": [
      "read data\n"
     ]
    }
   ],
   "source": [
    "data6 = pd.read_csv(data_path)\n",
    "data6 = data6.rename(index=str, columns={\"Modified sequence\": \"Modified_sequence\"})\n",
    "data6['Modified_sequence'] = data6['Modified_sequence'].str.replace('_','')\n",
    "print('read data')"
   ]
  },
  {
   "cell_type": "code",
   "execution_count": 13,
   "metadata": {},
   "outputs": [],
   "source": [
    "def remove10(data):\n",
    "    #remove upper/lower 10 percent\n",
    "    print(data.shape)\n",
    "    low = np.percentile(data['Sum_intensity'], 10)\n",
    "    high = np.percentile(data['Sum_intensity'], 90)\n",
    "    print(low, high)\n",
    "    d=data\n",
    "    d = d[d['Sum_intensity'] > low]\n",
    "    #d = d[d['Sum_intensity'] < high]\n",
    "    print(d.shape)\n",
    "    #d6 = d6.groupby(['Modified_sequence', 'Charge'], group_keys=False).apply(lambda x: x.loc[x.Intensity.idxmax()])\n",
    "    return d\n",
    "\n",
    "def ensure_dir(file_path):\n",
    "    directory = os.path.dirname(file_path)\n",
    "    if not os.path.exists(directory):\n",
    "        os.makedirs(directory)\n",
    "\n",
    "\n",
    "def split(data, name, s, label_encoder_path='data_final/enc.pickle', ids=None, calc_minval=True):\n",
    "    ensure_dir(name)\n",
    "    np.random.seed(s)\n",
    "    with open(label_encoder_path, 'rb') as handle:\n",
    "        label_encoder = pickle.load(handle)\n",
    "    data['encseq'] = data['Modified_sequence'].apply(lambda x: label_encoder.transform(list(x)))\n",
    "    if calc_minval:\n",
    "        data['minval'] = np.min(data['label'])\n",
    "        data['maxval'] = np.max(data['label'])\n",
    "    else:\n",
    "        data['minval']=275.440277\n",
    "        data['maxval']=1112.030762\n",
    "        \n",
    "    if ids == None:\n",
    "        #a = np.random.uniform(0.0,1.0,len(data)) > 0.98\n",
    "        data['test'] = data['PT']\n",
    "        print('Using proteome tools testsset')\n",
    "        \n",
    "    else:\n",
    "        print('using predefined testset')\n",
    "        data['test'] = ~data['Modified_sequence'].isin(ids)\n",
    "\n",
    "    data['task'] = 0\n",
    "    print('Name: ', name, 'Seed: ', s, 'Len test: ', len(data[data['test']]),'Len set test: ', len(set(data[data['test']])),'Len not test: ', len(data[~data['test']]),'Len set not test: ', len(set(data[~data['test']])))\n",
    "    data[~data['test']].to_pickle(name + str(s) + '_train.pkl')\n",
    "    data[data['test']].to_pickle(name +str(s) + '_test.pkl')\n",
    "    return data\n",
    "def kill_new_seqs(df):\n",
    "    df['label']=np.zeros(len(df))\n",
    "    print(len(df), 'total seqs')\n",
    "    seqs = df['Modified_sequence'].values.tolist()\n",
    "    flat_list = [item for sublist in seqs for item in sublist]\n",
    "    s = set(flat_list)\n",
    "    with open('data_final/enc_list.csv') as f:\n",
    "        reader = csv.reader(f)\n",
    "        enc_list = list(reader)[0]\n",
    "        print(enc_list)\n",
    "    new_acids = list(set(s)-set(enc_list))\n",
    "    if len(new_acids) != 0:\n",
    "        df_red = df[~df['Modified_sequence'].str.contains('|'.join(new_acids))]\n",
    "    else:\n",
    "        df_red = df\n",
    "    print(len(df_red), 'reduced seqs', new_acids)\n",
    "    return df_red"
   ]
  },
  {
   "cell_type": "code",
   "execution_count": 14,
   "metadata": {},
   "outputs": [
    {
     "data": {
      "text/html": [
       "<div>\n",
       "<style scoped>\n",
       "    .dataframe tbody tr th:only-of-type {\n",
       "        vertical-align: middle;\n",
       "    }\n",
       "\n",
       "    .dataframe tbody tr th {\n",
       "        vertical-align: top;\n",
       "    }\n",
       "\n",
       "    .dataframe thead th {\n",
       "        text-align: right;\n",
       "    }\n",
       "</style>\n",
       "<table border=\"1\" class=\"dataframe\">\n",
       "  <thead>\n",
       "    <tr style=\"text-align: right;\">\n",
       "      <th></th>\n",
       "      <th>Unnamed: 0</th>\n",
       "      <th>Modified_sequence</th>\n",
       "      <th>Sequence</th>\n",
       "      <th>Charge</th>\n",
       "      <th>Mass</th>\n",
       "      <th>m/z</th>\n",
       "      <th>Experiment</th>\n",
       "      <th>id</th>\n",
       "      <th>Intensity</th>\n",
       "      <th>Score</th>\n",
       "      <th>Length</th>\n",
       "      <th>Retention time</th>\n",
       "      <th>CCS</th>\n",
       "      <th>PT</th>\n",
       "    </tr>\n",
       "  </thead>\n",
       "  <tbody>\n",
       "    <tr>\n",
       "      <th>0</th>\n",
       "      <td>830179</td>\n",
       "      <td>(ac)AAAAAAAAAAGAAGGR</td>\n",
       "      <td>AAAAAAAAAAGAAGGR</td>\n",
       "      <td>2</td>\n",
       "      <td>1239.63200</td>\n",
       "      <td>620.823275</td>\n",
       "      <td>HeLa_Trp_2</td>\n",
       "      <td>9</td>\n",
       "      <td>149810.0</td>\n",
       "      <td>162.800</td>\n",
       "      <td>16</td>\n",
       "      <td>70.140</td>\n",
       "      <td>409.092529</td>\n",
       "      <td>False</td>\n",
       "    </tr>\n",
       "    <tr>\n",
       "      <th>1</th>\n",
       "      <td>11</td>\n",
       "      <td>(ac)AAAAAAAAEQQSSNGPVKK</td>\n",
       "      <td>AAAAAAAAEQQSSNGPVKK</td>\n",
       "      <td>2</td>\n",
       "      <td>1810.91734</td>\n",
       "      <td>906.465946</td>\n",
       "      <td>Proteotypic</td>\n",
       "      <td>11</td>\n",
       "      <td>21349.0</td>\n",
       "      <td>89.382</td>\n",
       "      <td>19</td>\n",
       "      <td>19.645</td>\n",
       "      <td>481.229248</td>\n",
       "      <td>True</td>\n",
       "    </tr>\n",
       "    <tr>\n",
       "      <th>2</th>\n",
       "      <td>2044072</td>\n",
       "      <td>(ac)AAAAAAAGAAGSAAPAAAAGAPGSGGAPSGSQGVLIGDR</td>\n",
       "      <td>AAAAAAAGAAGSAAPAAAAGAPGSGGAPSGSQGVLIGDR</td>\n",
       "      <td>3</td>\n",
       "      <td>3144.55482</td>\n",
       "      <td>1049.192220</td>\n",
       "      <td>HeLa_Trypsin_1</td>\n",
       "      <td>124</td>\n",
       "      <td>194000.0</td>\n",
       "      <td>71.438</td>\n",
       "      <td>39</td>\n",
       "      <td>3947.700</td>\n",
       "      <td>772.098083</td>\n",
       "      <td>False</td>\n",
       "    </tr>\n",
       "    <tr>\n",
       "      <th>3</th>\n",
       "      <td>830196</td>\n",
       "      <td>(ac)AAAAAAAGDSDSWDADAFSVEDPVRK</td>\n",
       "      <td>AAAAAAAGDSDSWDADAFSVEDPVRK</td>\n",
       "      <td>2</td>\n",
       "      <td>2634.18340</td>\n",
       "      <td>1318.098980</td>\n",
       "      <td>HeLa_Trp_2</td>\n",
       "      <td>26</td>\n",
       "      <td>6416400.0</td>\n",
       "      <td>111.750</td>\n",
       "      <td>26</td>\n",
       "      <td>94.079</td>\n",
       "      <td>573.213196</td>\n",
       "      <td>False</td>\n",
       "    </tr>\n",
       "    <tr>\n",
       "      <th>4</th>\n",
       "      <td>830200</td>\n",
       "      <td>(ac)AAAAAAAGDSDSWDADAFSVEDPVRK</td>\n",
       "      <td>AAAAAAAGDSDSWDADAFSVEDPVRK</td>\n",
       "      <td>3</td>\n",
       "      <td>2634.18340</td>\n",
       "      <td>879.068411</td>\n",
       "      <td>HeLa_Trp_2</td>\n",
       "      <td>30</td>\n",
       "      <td>5400600.0</td>\n",
       "      <td>42.218</td>\n",
       "      <td>26</td>\n",
       "      <td>94.841</td>\n",
       "      <td>635.000549</td>\n",
       "      <td>False</td>\n",
       "    </tr>\n",
       "  </tbody>\n",
       "</table>\n",
       "</div>"
      ],
      "text/plain": [
       "   Unnamed: 0                            Modified_sequence  \\\n",
       "0      830179                         (ac)AAAAAAAAAAGAAGGR   \n",
       "1          11                      (ac)AAAAAAAAEQQSSNGPVKK   \n",
       "2     2044072  (ac)AAAAAAAGAAGSAAPAAAAGAPGSGGAPSGSQGVLIGDR   \n",
       "3      830196               (ac)AAAAAAAGDSDSWDADAFSVEDPVRK   \n",
       "4      830200               (ac)AAAAAAAGDSDSWDADAFSVEDPVRK   \n",
       "\n",
       "                                  Sequence  Charge        Mass          m/z  \\\n",
       "0                         AAAAAAAAAAGAAGGR       2  1239.63200   620.823275   \n",
       "1                      AAAAAAAAEQQSSNGPVKK       2  1810.91734   906.465946   \n",
       "2  AAAAAAAGAAGSAAPAAAAGAPGSGGAPSGSQGVLIGDR       3  3144.55482  1049.192220   \n",
       "3               AAAAAAAGDSDSWDADAFSVEDPVRK       2  2634.18340  1318.098980   \n",
       "4               AAAAAAAGDSDSWDADAFSVEDPVRK       3  2634.18340   879.068411   \n",
       "\n",
       "       Experiment   id  Intensity    Score  Length  Retention time  \\\n",
       "0      HeLa_Trp_2    9   149810.0  162.800      16          70.140   \n",
       "1     Proteotypic   11    21349.0   89.382      19          19.645   \n",
       "2  HeLa_Trypsin_1  124   194000.0   71.438      39        3947.700   \n",
       "3      HeLa_Trp_2   26  6416400.0  111.750      26          94.079   \n",
       "4      HeLa_Trp_2   30  5400600.0   42.218      26          94.841   \n",
       "\n",
       "          CCS     PT  \n",
       "0  409.092529  False  \n",
       "1  481.229248   True  \n",
       "2  772.098083  False  \n",
       "3  573.213196  False  \n",
       "4  635.000549  False  "
      ]
     },
     "execution_count": 14,
     "metadata": {},
     "output_type": "execute_result"
    }
   ],
   "source": [
    "data6.head()"
   ]
  },
  {
   "cell_type": "markdown",
   "metadata": {},
   "source": [
    "# Create Sequence one hot encoder"
   ]
  },
  {
   "cell_type": "code",
   "execution_count": 15,
   "metadata": {},
   "outputs": [
    {
     "name": "stdout",
     "output_type": "stream",
     "text": [
      "['(' ')' 'A' 'C' 'D' 'E' 'F' 'G' 'H' 'I' 'K' 'L' 'M' 'N' 'P' 'Q' 'R' 'S'\n",
      " 'T' 'V' 'W' 'Y' '_' 'a' 'c' 'o' 'x'] 27\n"
     ]
    }
   ],
   "source": [
    "from sklearn.preprocessing import LabelEncoder, StandardScaler, OneHotEncoder\n",
    "\n",
    "data=data6\n",
    "dat = data['Modified_sequence']\n",
    "dat = [list(d) for d in dat]    \n",
    "\n",
    "#process data into one hot encoding\n",
    "flat_list = ['_'] + [item for sublist in dat for item in sublist]\n",
    "\n",
    "# define example\n",
    "values = np.array(flat_list)\n",
    "\n",
    "label_encoder = LabelEncoder()\n",
    "label_encoder.fit(values)\n",
    "\n",
    "print(label_encoder.classes_, len(label_encoder.classes_))\n",
    "with open('data_final/enc.pickle', 'wb') as handle:\n",
    "    pickle.dump(label_encoder, handle)\n",
    "import csv\n",
    "with open('data_final/enc_list.csv', 'w') as myfile:\n",
    "    wr = csv.writer(myfile, quoting=csv.QUOTE_ALL)\n",
    "    wr.writerow(list(label_encoder.classes_))\n",
    "    \n",
    "    \n",
    "    "
   ]
  },
  {
   "cell_type": "code",
   "execution_count": 16,
   "metadata": {},
   "outputs": [
    {
     "name": "stdout",
     "output_type": "stream",
     "text": [
      "[22] 22\n"
     ]
    },
    {
     "name": "stderr",
     "output_type": "stream",
     "text": [
      "/usr/local/lib/python3.6/dist-packages/sklearn/preprocessing/label.py:252: DataConversionWarning: A column-vector y was passed when a 1d array was expected. Please change the shape of y to (n_samples, ), for example using ravel().\n",
      "  y = column_or_1d(y, warn=True)\n"
     ]
    }
   ],
   "source": [
    "print(label_encoder.transform([['_']]), 22)\n"
   ]
  },
  {
   "cell_type": "markdown",
   "metadata": {},
   "source": [
    "# Convert CSS training data"
   ]
  },
  {
   "cell_type": "code",
   "execution_count": 7,
   "metadata": {},
   "outputs": [
    {
     "data": {
      "text/plain": [
       "(1057682, 4)"
      ]
     },
     "execution_count": 7,
     "metadata": {},
     "output_type": "execute_result"
    }
   ],
   "source": [
    "data6.shape"
   ]
  },
  {
   "cell_type": "code",
   "execution_count": 10,
   "metadata": {},
   "outputs": [
    {
     "name": "stdout",
     "output_type": "stream",
     "text": [
      "done grouping\n"
     ]
    },
    {
     "ename": "KeyError",
     "evalue": "'CCS'",
     "output_type": "error",
     "traceback": [
      "\u001b[0;31m---------------------------------------------------------------------------\u001b[0m",
      "\u001b[0;31mKeyError\u001b[0m                                  Traceback (most recent call last)",
      "\u001b[0;32m/usr/local/lib/python3.6/dist-packages/pandas/core/indexes/base.py\u001b[0m in \u001b[0;36mget_loc\u001b[0;34m(self, key, method, tolerance)\u001b[0m\n\u001b[1;32m   3077\u001b[0m             \u001b[0;32mtry\u001b[0m\u001b[0;34m:\u001b[0m\u001b[0;34m\u001b[0m\u001b[0;34m\u001b[0m\u001b[0m\n\u001b[0;32m-> 3078\u001b[0;31m                 \u001b[0;32mreturn\u001b[0m \u001b[0mself\u001b[0m\u001b[0;34m.\u001b[0m\u001b[0m_engine\u001b[0m\u001b[0;34m.\u001b[0m\u001b[0mget_loc\u001b[0m\u001b[0;34m(\u001b[0m\u001b[0mkey\u001b[0m\u001b[0;34m)\u001b[0m\u001b[0;34m\u001b[0m\u001b[0;34m\u001b[0m\u001b[0m\n\u001b[0m\u001b[1;32m   3079\u001b[0m             \u001b[0;32mexcept\u001b[0m \u001b[0mKeyError\u001b[0m\u001b[0;34m:\u001b[0m\u001b[0;34m\u001b[0m\u001b[0;34m\u001b[0m\u001b[0m\n",
      "\u001b[0;32mpandas/_libs/index.pyx\u001b[0m in \u001b[0;36mpandas._libs.index.IndexEngine.get_loc\u001b[0;34m()\u001b[0m\n",
      "\u001b[0;32mpandas/_libs/index.pyx\u001b[0m in \u001b[0;36mpandas._libs.index.IndexEngine.get_loc\u001b[0;34m()\u001b[0m\n",
      "\u001b[0;32mpandas/_libs/hashtable_class_helper.pxi\u001b[0m in \u001b[0;36mpandas._libs.hashtable.PyObjectHashTable.get_item\u001b[0;34m()\u001b[0m\n",
      "\u001b[0;32mpandas/_libs/hashtable_class_helper.pxi\u001b[0m in \u001b[0;36mpandas._libs.hashtable.PyObjectHashTable.get_item\u001b[0;34m()\u001b[0m\n",
      "\u001b[0;31mKeyError\u001b[0m: 'CCS'",
      "\nDuring handling of the above exception, another exception occurred:\n",
      "\u001b[0;31mKeyError\u001b[0m                                  Traceback (most recent call last)",
      "\u001b[0;32m<ipython-input-10-fe166fa2016b>\u001b[0m in \u001b[0;36m<module>\u001b[0;34m()\u001b[0m\n\u001b[1;32m      7\u001b[0m \u001b[0md6\u001b[0m \u001b[0;34m=\u001b[0m \u001b[0mdata6\u001b[0m\u001b[0;34m\u001b[0m\u001b[0;34m\u001b[0m\u001b[0m\n\u001b[1;32m      8\u001b[0m \u001b[0mprint\u001b[0m\u001b[0;34m(\u001b[0m\u001b[0;34m'done grouping'\u001b[0m\u001b[0;34m)\u001b[0m\u001b[0;34m\u001b[0m\u001b[0;34m\u001b[0m\u001b[0m\n\u001b[0;32m----> 9\u001b[0;31m \u001b[0md6\u001b[0m\u001b[0;34m[\u001b[0m\u001b[0;34m'label'\u001b[0m\u001b[0;34m]\u001b[0m\u001b[0;34m=\u001b[0m\u001b[0md6\u001b[0m\u001b[0;34m[\u001b[0m\u001b[0;34m'CCS'\u001b[0m\u001b[0;34m]\u001b[0m\u001b[0;34m.\u001b[0m\u001b[0mvalues\u001b[0m\u001b[0;34m.\u001b[0m\u001b[0mtolist\u001b[0m\u001b[0;34m(\u001b[0m\u001b[0;34m)\u001b[0m\u001b[0;34m\u001b[0m\u001b[0;34m\u001b[0m\u001b[0m\n\u001b[0m\u001b[1;32m     10\u001b[0m \u001b[0mdd\u001b[0m \u001b[0;34m=\u001b[0m \u001b[0msplit\u001b[0m\u001b[0;34m(\u001b[0m\u001b[0md6\u001b[0m\u001b[0;34m,\u001b[0m \u001b[0moutpath\u001b[0m\u001b[0;34m,\u001b[0m \u001b[0;36m2\u001b[0m\u001b[0;34m)\u001b[0m\u001b[0;34m\u001b[0m\u001b[0;34m\u001b[0m\u001b[0m\n",
      "\u001b[0;32m/usr/local/lib/python3.6/dist-packages/pandas/core/frame.py\u001b[0m in \u001b[0;36m__getitem__\u001b[0;34m(self, key)\u001b[0m\n\u001b[1;32m   2686\u001b[0m             \u001b[0;32mreturn\u001b[0m \u001b[0mself\u001b[0m\u001b[0;34m.\u001b[0m\u001b[0m_getitem_multilevel\u001b[0m\u001b[0;34m(\u001b[0m\u001b[0mkey\u001b[0m\u001b[0;34m)\u001b[0m\u001b[0;34m\u001b[0m\u001b[0;34m\u001b[0m\u001b[0m\n\u001b[1;32m   2687\u001b[0m         \u001b[0;32melse\u001b[0m\u001b[0;34m:\u001b[0m\u001b[0;34m\u001b[0m\u001b[0;34m\u001b[0m\u001b[0m\n\u001b[0;32m-> 2688\u001b[0;31m             \u001b[0;32mreturn\u001b[0m \u001b[0mself\u001b[0m\u001b[0;34m.\u001b[0m\u001b[0m_getitem_column\u001b[0m\u001b[0;34m(\u001b[0m\u001b[0mkey\u001b[0m\u001b[0;34m)\u001b[0m\u001b[0;34m\u001b[0m\u001b[0;34m\u001b[0m\u001b[0m\n\u001b[0m\u001b[1;32m   2689\u001b[0m \u001b[0;34m\u001b[0m\u001b[0m\n\u001b[1;32m   2690\u001b[0m     \u001b[0;32mdef\u001b[0m \u001b[0m_getitem_column\u001b[0m\u001b[0;34m(\u001b[0m\u001b[0mself\u001b[0m\u001b[0;34m,\u001b[0m \u001b[0mkey\u001b[0m\u001b[0;34m)\u001b[0m\u001b[0;34m:\u001b[0m\u001b[0;34m\u001b[0m\u001b[0;34m\u001b[0m\u001b[0m\n",
      "\u001b[0;32m/usr/local/lib/python3.6/dist-packages/pandas/core/frame.py\u001b[0m in \u001b[0;36m_getitem_column\u001b[0;34m(self, key)\u001b[0m\n\u001b[1;32m   2693\u001b[0m         \u001b[0;31m# get column\u001b[0m\u001b[0;34m\u001b[0m\u001b[0;34m\u001b[0m\u001b[0;34m\u001b[0m\u001b[0m\n\u001b[1;32m   2694\u001b[0m         \u001b[0;32mif\u001b[0m \u001b[0mself\u001b[0m\u001b[0;34m.\u001b[0m\u001b[0mcolumns\u001b[0m\u001b[0;34m.\u001b[0m\u001b[0mis_unique\u001b[0m\u001b[0;34m:\u001b[0m\u001b[0;34m\u001b[0m\u001b[0;34m\u001b[0m\u001b[0m\n\u001b[0;32m-> 2695\u001b[0;31m             \u001b[0;32mreturn\u001b[0m \u001b[0mself\u001b[0m\u001b[0;34m.\u001b[0m\u001b[0m_get_item_cache\u001b[0m\u001b[0;34m(\u001b[0m\u001b[0mkey\u001b[0m\u001b[0;34m)\u001b[0m\u001b[0;34m\u001b[0m\u001b[0;34m\u001b[0m\u001b[0m\n\u001b[0m\u001b[1;32m   2696\u001b[0m \u001b[0;34m\u001b[0m\u001b[0m\n\u001b[1;32m   2697\u001b[0m         \u001b[0;31m# duplicate columns & possible reduce dimensionality\u001b[0m\u001b[0;34m\u001b[0m\u001b[0;34m\u001b[0m\u001b[0;34m\u001b[0m\u001b[0m\n",
      "\u001b[0;32m/usr/local/lib/python3.6/dist-packages/pandas/core/generic.py\u001b[0m in \u001b[0;36m_get_item_cache\u001b[0;34m(self, item)\u001b[0m\n\u001b[1;32m   2487\u001b[0m         \u001b[0mres\u001b[0m \u001b[0;34m=\u001b[0m \u001b[0mcache\u001b[0m\u001b[0;34m.\u001b[0m\u001b[0mget\u001b[0m\u001b[0;34m(\u001b[0m\u001b[0mitem\u001b[0m\u001b[0;34m)\u001b[0m\u001b[0;34m\u001b[0m\u001b[0;34m\u001b[0m\u001b[0m\n\u001b[1;32m   2488\u001b[0m         \u001b[0;32mif\u001b[0m \u001b[0mres\u001b[0m \u001b[0;32mis\u001b[0m \u001b[0;32mNone\u001b[0m\u001b[0;34m:\u001b[0m\u001b[0;34m\u001b[0m\u001b[0;34m\u001b[0m\u001b[0m\n\u001b[0;32m-> 2489\u001b[0;31m             \u001b[0mvalues\u001b[0m \u001b[0;34m=\u001b[0m \u001b[0mself\u001b[0m\u001b[0;34m.\u001b[0m\u001b[0m_data\u001b[0m\u001b[0;34m.\u001b[0m\u001b[0mget\u001b[0m\u001b[0;34m(\u001b[0m\u001b[0mitem\u001b[0m\u001b[0;34m)\u001b[0m\u001b[0;34m\u001b[0m\u001b[0;34m\u001b[0m\u001b[0m\n\u001b[0m\u001b[1;32m   2490\u001b[0m             \u001b[0mres\u001b[0m \u001b[0;34m=\u001b[0m \u001b[0mself\u001b[0m\u001b[0;34m.\u001b[0m\u001b[0m_box_item_values\u001b[0m\u001b[0;34m(\u001b[0m\u001b[0mitem\u001b[0m\u001b[0;34m,\u001b[0m \u001b[0mvalues\u001b[0m\u001b[0;34m)\u001b[0m\u001b[0;34m\u001b[0m\u001b[0;34m\u001b[0m\u001b[0m\n\u001b[1;32m   2491\u001b[0m             \u001b[0mcache\u001b[0m\u001b[0;34m[\u001b[0m\u001b[0mitem\u001b[0m\u001b[0;34m]\u001b[0m \u001b[0;34m=\u001b[0m \u001b[0mres\u001b[0m\u001b[0;34m\u001b[0m\u001b[0;34m\u001b[0m\u001b[0m\n",
      "\u001b[0;32m/usr/local/lib/python3.6/dist-packages/pandas/core/internals.py\u001b[0m in \u001b[0;36mget\u001b[0;34m(self, item, fastpath)\u001b[0m\n\u001b[1;32m   4113\u001b[0m \u001b[0;34m\u001b[0m\u001b[0m\n\u001b[1;32m   4114\u001b[0m             \u001b[0;32mif\u001b[0m \u001b[0;32mnot\u001b[0m \u001b[0misna\u001b[0m\u001b[0;34m(\u001b[0m\u001b[0mitem\u001b[0m\u001b[0;34m)\u001b[0m\u001b[0;34m:\u001b[0m\u001b[0;34m\u001b[0m\u001b[0;34m\u001b[0m\u001b[0m\n\u001b[0;32m-> 4115\u001b[0;31m                 \u001b[0mloc\u001b[0m \u001b[0;34m=\u001b[0m \u001b[0mself\u001b[0m\u001b[0;34m.\u001b[0m\u001b[0mitems\u001b[0m\u001b[0;34m.\u001b[0m\u001b[0mget_loc\u001b[0m\u001b[0;34m(\u001b[0m\u001b[0mitem\u001b[0m\u001b[0;34m)\u001b[0m\u001b[0;34m\u001b[0m\u001b[0;34m\u001b[0m\u001b[0m\n\u001b[0m\u001b[1;32m   4116\u001b[0m             \u001b[0;32melse\u001b[0m\u001b[0;34m:\u001b[0m\u001b[0;34m\u001b[0m\u001b[0;34m\u001b[0m\u001b[0m\n\u001b[1;32m   4117\u001b[0m                 \u001b[0mindexer\u001b[0m \u001b[0;34m=\u001b[0m \u001b[0mnp\u001b[0m\u001b[0;34m.\u001b[0m\u001b[0marange\u001b[0m\u001b[0;34m(\u001b[0m\u001b[0mlen\u001b[0m\u001b[0;34m(\u001b[0m\u001b[0mself\u001b[0m\u001b[0;34m.\u001b[0m\u001b[0mitems\u001b[0m\u001b[0;34m)\u001b[0m\u001b[0;34m)\u001b[0m\u001b[0;34m[\u001b[0m\u001b[0misna\u001b[0m\u001b[0;34m(\u001b[0m\u001b[0mself\u001b[0m\u001b[0;34m.\u001b[0m\u001b[0mitems\u001b[0m\u001b[0;34m)\u001b[0m\u001b[0;34m]\u001b[0m\u001b[0;34m\u001b[0m\u001b[0;34m\u001b[0m\u001b[0m\n",
      "\u001b[0;32m/usr/local/lib/python3.6/dist-packages/pandas/core/indexes/base.py\u001b[0m in \u001b[0;36mget_loc\u001b[0;34m(self, key, method, tolerance)\u001b[0m\n\u001b[1;32m   3078\u001b[0m                 \u001b[0;32mreturn\u001b[0m \u001b[0mself\u001b[0m\u001b[0;34m.\u001b[0m\u001b[0m_engine\u001b[0m\u001b[0;34m.\u001b[0m\u001b[0mget_loc\u001b[0m\u001b[0;34m(\u001b[0m\u001b[0mkey\u001b[0m\u001b[0;34m)\u001b[0m\u001b[0;34m\u001b[0m\u001b[0;34m\u001b[0m\u001b[0m\n\u001b[1;32m   3079\u001b[0m             \u001b[0;32mexcept\u001b[0m \u001b[0mKeyError\u001b[0m\u001b[0;34m:\u001b[0m\u001b[0;34m\u001b[0m\u001b[0;34m\u001b[0m\u001b[0m\n\u001b[0;32m-> 3080\u001b[0;31m                 \u001b[0;32mreturn\u001b[0m \u001b[0mself\u001b[0m\u001b[0;34m.\u001b[0m\u001b[0m_engine\u001b[0m\u001b[0;34m.\u001b[0m\u001b[0mget_loc\u001b[0m\u001b[0;34m(\u001b[0m\u001b[0mself\u001b[0m\u001b[0;34m.\u001b[0m\u001b[0m_maybe_cast_indexer\u001b[0m\u001b[0;34m(\u001b[0m\u001b[0mkey\u001b[0m\u001b[0;34m)\u001b[0m\u001b[0;34m)\u001b[0m\u001b[0;34m\u001b[0m\u001b[0;34m\u001b[0m\u001b[0m\n\u001b[0m\u001b[1;32m   3081\u001b[0m \u001b[0;34m\u001b[0m\u001b[0m\n\u001b[1;32m   3082\u001b[0m         \u001b[0mindexer\u001b[0m \u001b[0;34m=\u001b[0m \u001b[0mself\u001b[0m\u001b[0;34m.\u001b[0m\u001b[0mget_indexer\u001b[0m\u001b[0;34m(\u001b[0m\u001b[0;34m[\u001b[0m\u001b[0mkey\u001b[0m\u001b[0;34m]\u001b[0m\u001b[0;34m,\u001b[0m \u001b[0mmethod\u001b[0m\u001b[0;34m=\u001b[0m\u001b[0mmethod\u001b[0m\u001b[0;34m,\u001b[0m \u001b[0mtolerance\u001b[0m\u001b[0;34m=\u001b[0m\u001b[0mtolerance\u001b[0m\u001b[0;34m)\u001b[0m\u001b[0;34m\u001b[0m\u001b[0;34m\u001b[0m\u001b[0m\n",
      "\u001b[0;32mpandas/_libs/index.pyx\u001b[0m in \u001b[0;36mpandas._libs.index.IndexEngine.get_loc\u001b[0;34m()\u001b[0m\n",
      "\u001b[0;32mpandas/_libs/index.pyx\u001b[0m in \u001b[0;36mpandas._libs.index.IndexEngine.get_loc\u001b[0;34m()\u001b[0m\n",
      "\u001b[0;32mpandas/_libs/hashtable_class_helper.pxi\u001b[0m in \u001b[0;36mpandas._libs.hashtable.PyObjectHashTable.get_item\u001b[0;34m()\u001b[0m\n",
      "\u001b[0;32mpandas/_libs/hashtable_class_helper.pxi\u001b[0m in \u001b[0;36mpandas._libs.hashtable.PyObjectHashTable.get_item\u001b[0;34m()\u001b[0m\n",
      "\u001b[0;31mKeyError\u001b[0m: 'CCS'"
     ]
    }
   ],
   "source": [
    "data6 = data6[~data6['Intensity'].isnull()]\n",
    "data6 = data6[~data6['CCS'].isnull()]\n",
    "#data6['Modified_sequence'] = data6['Modified_sequence'].str.replace('_','')\n",
    "\n",
    "# for multiple with same sequence and charge take the one with highest intensity\n",
    "#d6 = data6.groupby(['Modified_sequence', 'Charge'], group_keys=False).apply(lambda x: x.loc[x.Intensity.idxmax()])\n",
    "d6 = data6\n",
    "print('done grouping')\n",
    "d6['label']=d6['CCS'].values.tolist()\n",
    "dd = split(d6, outpath, 2)"
   ]
  },
  {
   "cell_type": "code",
   "execution_count": null,
   "metadata": {},
   "outputs": [],
   "source": [
    "trainseqs = dd[~dd['test']]['Modified_sequence'].values.tolist()\n",
    "ddd = dd[dd['test']]\n",
    "ddd[ddd['Modified_sequence'].isin(trainseqs)].shape"
   ]
  },
  {
   "cell_type": "code",
   "execution_count": null,
   "metadata": {},
   "outputs": [],
   "source": [
    "dd = split(d6, outpath, 2, ids=trainseqs)"
   ]
  },
  {
   "cell_type": "code",
   "execution_count": null,
   "metadata": {},
   "outputs": [],
   "source": [
    "trainseqs = dd[~dd['test']]['Modified_sequence'].values.tolist()\n",
    "ddd = dd[dd['test']]\n",
    "ddd[ddd['Modified_sequence'].isin(trainseqs)].shape"
   ]
  },
  {
   "cell_type": "code",
   "execution_count": null,
   "metadata": {},
   "outputs": [],
   "source": [
    "len(ddd)"
   ]
  },
  {
   "cell_type": "code",
   "execution_count": null,
   "metadata": {},
   "outputs": [],
   "source": []
  }
 ],
 "metadata": {
  "kernelspec": {
   "display_name": "Python 3",
   "language": "python",
   "name": "python3"
  },
  "language_info": {
   "codemirror_mode": {
    "name": "ipython",
    "version": 3
   },
   "file_extension": ".py",
   "mimetype": "text/x-python",
   "name": "python",
   "nbconvert_exporter": "python",
   "pygments_lexer": "ipython3",
   "version": "3.6.9"
  }
 },
 "nbformat": 4,
 "nbformat_minor": 2
}
