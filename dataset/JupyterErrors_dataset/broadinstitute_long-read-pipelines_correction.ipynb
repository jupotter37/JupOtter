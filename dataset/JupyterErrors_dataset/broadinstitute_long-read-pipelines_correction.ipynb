{
 "cells": [
  {
   "cell_type": "markdown",
   "metadata": {},
   "source": [
    "# Barcode and UMI Correction"
   ]
  },
  {
   "cell_type": "markdown",
   "metadata": {},
   "source": [
    "## UMI Correction"
   ]
  },
  {
   "cell_type": "markdown",
   "metadata": {},
   "source": [
    "Number of possible sequences for one 16 bp barcode considering 1 SNP:"
   ]
  },
  {
   "cell_type": "code",
   "execution_count": 6,
   "metadata": {},
   "outputs": [
    {
     "data": {
      "text/plain": [
       "48"
      ]
     },
     "execution_count": 6,
     "metadata": {},
     "output_type": "execute_result"
    }
   ],
   "source": [
    "inflations_snp = 16*3\n",
    "inflations_snp"
   ]
  },
  {
   "cell_type": "markdown",
   "metadata": {},
   "source": [
    "Number of possible 1bp indels:"
   ]
  },
  {
   "cell_type": "code",
   "execution_count": 7,
   "metadata": {},
   "outputs": [
    {
     "data": {
      "text/plain": [
       "132"
      ]
     },
     "execution_count": 7,
     "metadata": {},
     "output_type": "execute_result"
    }
   ],
   "source": [
    "inflations_indel = (16+1)*4 + 16 * 4\n",
    "inflations_indel"
   ]
  },
  {
   "cell_type": "markdown",
   "metadata": {},
   "source": [
    "Number of inflated barcodes given a list of N barcodes:"
   ]
  },
  {
   "cell_type": "code",
   "execution_count": 12,
   "metadata": {},
   "outputs": [
    {
     "name": "stdout",
     "output_type": "stream",
     "text": [
      "1,260,000\n"
     ]
    }
   ],
   "source": [
    "barcode_list_size = 7000\n",
    "inflations = barcode_list_size * (inflations_snp + inflations_indel)\n",
    "print('{:,}'.format(inflations))"
   ]
  },
  {
   "cell_type": "markdown",
   "metadata": {},
   "source": [
    "Ratio to original list (fix):"
   ]
  },
  {
   "cell_type": "code",
   "execution_count": 13,
   "metadata": {},
   "outputs": [
    {
     "name": "stdout",
     "output_type": "stream",
     "text": [
      "180.0\n"
     ]
    }
   ],
   "source": [
    "print(inflations / barcode_list_size)"
   ]
  },
  {
   "cell_type": "code",
   "execution_count": 14,
   "metadata": {},
   "outputs": [
    {
     "name": "stdout",
     "output_type": "stream",
     "text": [
      "1260000.0\n"
     ]
    }
   ],
   "source": [
    "barcodes_in_whitelist = 7000\n",
    "print(barcodes_in_whitelist * inflations / barcode_list_size)"
   ]
  },
  {
   "cell_type": "markdown",
   "metadata": {},
   "source": [
    "### Error Rate Calculation"
   ]
  },
  {
   "cell_type": "code",
   "execution_count": 27,
   "metadata": {},
   "outputs": [],
   "source": [
    "q_value = 27\n",
    "error_probability = 10 ** (-q_value/10)"
   ]
  },
  {
   "cell_type": "code",
   "execution_count": 28,
   "metadata": {},
   "outputs": [],
   "source": [
    "barcode_length = 16\n",
    "probability_all_correct = (1 - error_probability) ** barcode_length"
   ]
  },
  {
   "cell_type": "code",
   "execution_count": 29,
   "metadata": {},
   "outputs": [
    {
     "data": {
      "text/plain": [
       "0.9685491120344801"
      ]
     },
     "execution_count": 29,
     "metadata": {},
     "output_type": "execute_result"
    }
   ],
   "source": [
    "probability_all_correct"
   ]
  },
  {
   "cell_type": "markdown",
   "metadata": {},
   "source": [
    "# Barcode Correction"
   ]
  },
  {
   "cell_type": "code",
   "execution_count": 2,
   "metadata": {},
   "outputs": [],
   "source": [
    "barcodes_not_found = 147756"
   ]
  },
  {
   "cell_type": "markdown",
   "metadata": {},
   "source": [
    "## Method 1: CellRanger\n",
    "In this method, each barcode that is not contained in the whitelist is inflated and compared if a sequence that is 1 Hamming distance away from the observed barcode is within the whitelist. The sequence is more likely to be corrected to this whitelisted barcode if that barcode occurred frequently and the read base quality of the given sequence is low."
   ]
  },
  {
   "cell_type": "code",
   "execution_count": 5,
   "metadata": {},
   "outputs": [
    {
     "name": "stdout",
     "output_type": "stream",
     "text": [
      "9.3%\n"
     ]
    }
   ],
   "source": [
    "corrected_1 = 13789\n",
    "print('{:.2}%'.format(corrected_1 / barcodes_not_found * 100))"
   ]
  },
  {
   "cell_type": "markdown",
   "metadata": {},
   "source": [
    "## Method 2: Inflated Graph\n",
    "This method does not use a whitelist. Each observed barcode sequence is inflated (Levenshtein distance 1). If any of these inflated codes match an observed barcode, an edge is created between the observed barcode and the inflated code (i.e. another observed barcode). Subsequently, for all edges it is evaluated whether or not the number of occurrences of one barcode is significantly larger than that of the other code. If so, the less frequently observed barcode is corrected."
   ]
  },
  {
   "cell_type": "code",
   "execution_count": 6,
   "metadata": {},
   "outputs": [
    {
     "name": "stdout",
     "output_type": "stream",
     "text": [
      "6.5%\n"
     ]
    }
   ],
   "source": [
    "corrected_2 = 9539\n",
    "print('{:.2}%'.format(corrected_2 / barcodes_not_found * 100))"
   ]
  },
  {
   "cell_type": "markdown",
   "metadata": {},
   "source": [
    "## Method 3: Correct to Whitelist\n",
    "In this method, each observed barcode is inflated (Levenshtein distance 1) and compared to a whitelist. If there is only one whitelisted barcode with distance 1 away from the observed code, it is corrected accordingly."
   ]
  },
  {
   "cell_type": "code",
   "execution_count": 7,
   "metadata": {},
   "outputs": [
    {
     "name": "stdout",
     "output_type": "stream",
     "text": [
      "9.3%\n"
     ]
    }
   ],
   "source": [
    "corrected_3 = 13766\n",
    "print('{:.2}%'.format(corrected_3 / barcodes_not_found * 100))"
   ]
  },
  {
   "cell_type": "markdown",
   "metadata": {},
   "source": [
    "## Method 4: Compare two Min Hamming Distances\n",
    "For this method, the Hamming distances to the closest and second closest barcode in the whitelist is calculated. If the closest whitelisted code is less/equal than 2 away and the second closest code is more/equal than 3 away, the sequence is corrected."
   ]
  },
  {
   "cell_type": "code",
   "execution_count": null,
   "metadata": {},
   "outputs": [],
   "source": []
  },
  {
   "cell_type": "markdown",
   "metadata": {},
   "source": [
    "## Method 5: Starcode"
   ]
  },
  {
   "cell_type": "code",
   "execution_count": 9,
   "metadata": {},
   "outputs": [
    {
     "name": "stdout",
     "output_type": "stream",
     "text": [
      "48.52%\n"
     ]
    }
   ],
   "source": [
    "corrected_5 = 71687\n",
    "print('{:.2f}%'.format(corrected_5 / barcodes_not_found * 100))"
   ]
  },
  {
   "cell_type": "markdown",
   "metadata": {},
   "source": [
    "# Analysis"
   ]
  },
  {
   "cell_type": "code",
   "execution_count": 44,
   "metadata": {},
   "outputs": [],
   "source": [
    "import csv\n",
    "import os\n",
    "import gzip\n",
    "\n",
    "def read_rg_stats(filename):\n",
    "    csv_data = dict()\n",
    "    with open(filename) as csv_file:\n",
    "        reader = csv.DictReader(csv_file, delimiter='\\t')\n",
    "        for line in reader:\n",
    "            csv_data[line['rg']] = line\n",
    "    return csv_data\n",
    "def read_barcode_stats(filename):\n",
    "    barcode_histogram = dict()\n",
    "    with open(filename) as csv_file:\n",
    "        reader = csv.DictReader(csv_file, delimiter='\\t')\n",
    "        for line in reader:\n",
    "            barcode_histogram[line['barcode']] = barcode_histogram.get('barcode', 0) + int(line['occurrence'])\n",
    "    return barcode_histogram\n",
    "def read_barcodes(barcodes_filename):\n",
    "    barcodes = set()\n",
    "    _, barcodes_file_extension = os.path.splitext(barcodes_filename)\n",
    "    is_gzip = barcodes_file_extension == '.gz'\n",
    "    with (open(barcodes_filename) if not is_gzip else gzip.open(barcodes_filename)) as barcodes_file:\n",
    "        for line in barcodes_file:\n",
    "            if is_gzip:\n",
    "                line = line.decode('utf-8')\n",
    "            if line[-3:-1] == '-1':\n",
    "                barcodes.add(line[:-3])\n",
    "            else:\n",
    "                barcodes.add(line[:-1])\n",
    "    return barcodes\n",
    "def read_starcode_clusters(filename):\n",
    "    starcode_clusters = dict()\n",
    "    with open(filename) as csv_file:\n",
    "        reader = csv.DictReader(csv_file, delimiter='\\t')\n",
    "        for line in reader:\n",
    "            starcode_clusters[line['cluster']] = int(line['occurrence'])\n",
    "    return starcode_clusters"
   ]
  },
  {
   "cell_type": "markdown",
   "metadata": {},
   "source": [
    "# PacBio"
   ]
  },
  {
   "cell_type": "code",
   "execution_count": 81,
   "metadata": {},
   "outputs": [],
   "source": [
    "data = read_rg_stats('results/pacbio/SM-HLD5O_sw_rg_stats.tsv')['all']\n",
    "barcode_histogram = read_barcode_stats('results/pacbio/SM-HLD5O_sw_barcode_stats.tsv')\n",
    "whitelist_10x = read_barcodes('/Users/mgatzen/files/bam/10x_tool/barcodes/3M-february-2018.txt')\n",
    "whitelist_illumina = read_barcodes('/Users/mgatzen/files/bam/10x_tool/barcodes.1.tsv')\n",
    "starcode_data = read_starcode_clusters('results/pacbio/SM-HLD5O_sw_starcode.tsv')"
   ]
  },
  {
   "cell_type": "code",
   "execution_count": 82,
   "metadata": {},
   "outputs": [
    {
     "name": "stdout",
     "output_type": "stream",
     "text": [
      "Adapters found:                        4,427,717\n",
      "Barcodes in 10x + Illumina whitelist:  3,726,334 (84.16%)\n",
      "Barcodes in 10x whitelist:               540,037 (12.20%)\n",
      "Barcodes in no whitelist:                161,346 ( 3.64%)\n",
      "\n",
      "Number of unique barcodes:               164,743\n",
      "Unique barcodes in 10x + Illumina:         7,626 ( 4.63%)\n",
      "Unique barcodes in 10x:                   99,827 (60.60%)\n",
      "Unique barcodes not in any:               57,290 (34.78%)\n"
     ]
    }
   ],
   "source": [
    "adapter_found = int(data['adapter_found'])\n",
    "barcodes_in_10x_and_illumina = int(data['barcode_in_10x_and_illumina_whitelist'])\n",
    "barcodes_in_10x = int(data['barcode_in_10x_whitelist'])\n",
    "barcodes_not_in_any = int(data['barcode_not_in_any_whitelist'])\n",
    "\n",
    "unique_barcodes = set(barcode_histogram.keys())\n",
    "unique_barcodes_in_10x_and_illumina = set()\n",
    "unique_barcodes_in_10x = set()\n",
    "unique_barcodes_not_in_any = set()\n",
    "\n",
    "for barcode in unique_barcodes:\n",
    "    if barcode in whitelist_10x:\n",
    "        if barcode in whitelist_illumina:\n",
    "            unique_barcodes_in_10x_and_illumina.add(barcode)\n",
    "        else:\n",
    "            unique_barcodes_in_10x.add(barcode)\n",
    "    else:\n",
    "        unique_barcodes_not_in_any.add(barcode)\n",
    "\n",
    "\n",
    "print('Adapters found:                       {:10,}'.format(adapter_found))\n",
    "print('Barcodes in 10x + Illumina whitelist: {:10,} ({:5.2f}%)'.format(barcodes_in_10x_and_illumina, barcodes_in_10x_and_illumina / adapter_found * 100))\n",
    "print('Barcodes in 10x whitelist:            {:10,} ({:5.2f}%)'.format(barcodes_in_10x, barcodes_in_10x / adapter_found * 100))\n",
    "print('Barcodes in no whitelist:             {:10,} ({:5.2f}%)'.format(barcodes_not_in_any, barcodes_not_in_any / adapter_found * 100))\n",
    "print()\n",
    "print('Number of unique barcodes:            {:10,}'.format(len(unique_barcodes)))\n",
    "print('Unique barcodes in 10x + Illumina:    {:10,} ({:5.2f}%)'.format(len(unique_barcodes_in_10x_and_illumina), len(unique_barcodes_in_10x_and_illumina) / len(unique_barcodes) * 100))\n",
    "print('Unique barcodes in 10x:               {:10,} ({:5.2f}%)'.format(len(unique_barcodes_in_10x), len(unique_barcodes_in_10x) / len(unique_barcodes) * 100))\n",
    "print('Unique barcodes not in any:           {:10,} ({:5.2f}%)'.format(len(unique_barcodes_not_in_any), len(unique_barcodes_not_in_any) / len(unique_barcodes) * 100))"
   ]
  },
  {
   "cell_type": "markdown",
   "metadata": {},
   "source": [
    "### Starcode"
   ]
  },
  {
   "cell_type": "code",
   "execution_count": 83,
   "metadata": {},
   "outputs": [
    {
     "name": "stdout",
     "output_type": "stream",
     "text": [
      "Clusters in starcode: 113,094\n",
      "Illumina clusters covered by starcode:      7,551 (99.02%)\n",
      "Illumina clusters not in starcode:             75 ( 0.98%)\n",
      "Starcode clusters covered by Illumina:      7,551 ( 6.68%)\n",
      "Starcode clusters not in Illumina:        105,543 (93.32%)\n"
     ]
    }
   ],
   "source": [
    "starcode_clusters = set(starcode_data.keys())\n",
    "illumina_in_starcode = [barcode for barcode in whitelist_illumina if barcode in starcode_clusters]\n",
    "illumina_not_in_starcode = [barcode for barcode in whitelist_illumina if barcode not in starcode_clusters]\n",
    "starcode_in_illumina = [barcode for barcode in starcode_clusters if barcode in whitelist_illumina]\n",
    "starcode_not_in_illumina = [barcode for barcode in starcode_clusters if barcode not in whitelist_illumina]\n",
    "\n",
    "\n",
    "print('Clusters in starcode: {:,}'.format(len(starcode_clusters)))\n",
    "print('Illumina clusters covered by starcode: {:10,} ({:5.2f}%)'.format(len(illumina_in_starcode), len(illumina_in_starcode) / len(whitelist_illumina) * 100))\n",
    "print('Illumina clusters not in starcode:     {:10,} ({:5.2f}%)'.format(len(illumina_not_in_starcode), len(illumina_not_in_starcode) / len(whitelist_illumina) * 100))\n",
    "print('Starcode clusters covered by Illumina: {:10,} ({:5.2f}%)'.format(len(starcode_in_illumina), len(starcode_in_illumina) / len(starcode_clusters) * 100))\n",
    "print('Starcode clusters not in Illumina:     {:10,} ({:5.2f}%)'.format(len(starcode_not_in_illumina), len(starcode_not_in_illumina) / len(starcode_clusters) * 100))"
   ]
  },
  {
   "cell_type": "code",
   "execution_count": 84,
   "metadata": {},
   "outputs": [
    {
     "name": "stdout",
     "output_type": "stream",
     "text": [
      "3861162\n"
     ]
    },
    {
     "ename": "KeyError",
     "evalue": "'ACTGTCCTCCATCACC'",
     "output_type": "error",
     "traceback": [
      "\u001b[0;31m---------------------------------------------------------------------------\u001b[0m",
      "\u001b[0;31mKeyError\u001b[0m                                  Traceback (most recent call last)",
      "\u001b[0;32m<ipython-input-84-a1f3ce211e8d>\u001b[0m in \u001b[0;36m<module>\u001b[0;34m\u001b[0m\n\u001b[1;32m      3\u001b[0m     \u001b[0mstarcode_corrected\u001b[0m \u001b[0;34m+=\u001b[0m \u001b[0mstarcode_data\u001b[0m\u001b[0;34m[\u001b[0m\u001b[0mcode\u001b[0m\u001b[0;34m]\u001b[0m\u001b[0;34m\u001b[0m\u001b[0;34m\u001b[0m\u001b[0m\n\u001b[1;32m      4\u001b[0m \u001b[0mprint\u001b[0m\u001b[0;34m(\u001b[0m\u001b[0mstarcode_corrected\u001b[0m\u001b[0;34m)\u001b[0m\u001b[0;34m\u001b[0m\u001b[0;34m\u001b[0m\u001b[0m\n\u001b[0;32m----> 5\u001b[0;31m \u001b[0mprint\u001b[0m\u001b[0;34m(\u001b[0m\u001b[0mstarcode_data\u001b[0m\u001b[0;34m[\u001b[0m\u001b[0;34m'ACTGTCCTCCATCACC'\u001b[0m\u001b[0;34m]\u001b[0m\u001b[0;34m)\u001b[0m\u001b[0;34m\u001b[0m\u001b[0;34m\u001b[0m\u001b[0m\n\u001b[0m",
      "\u001b[0;31mKeyError\u001b[0m: 'ACTGTCCTCCATCACC'"
     ]
    }
   ],
   "source": [
    "starcode_corrected = 0\n",
    "for code in [code for code in starcode_clusters if code in whitelist_illumina]:\n",
    "    starcode_corrected += starcode_data[code]\n",
    "print(starcode_corrected)\n",
    "print(starcode_data['ACTGTCCTCCATCACC'])"
   ]
  },
  {
   "cell_type": "markdown",
   "metadata": {},
   "source": [
    "### Mehrtash method"
   ]
  },
  {
   "cell_type": "code",
   "execution_count": null,
   "metadata": {},
   "outputs": [],
   "source": [
    "print('Number of corrected barcodes (to Illumina whitelist): {:10,} ({:5.2f}%)'.format(int(data['corrected_mehrtash']), int(data['corrected_mehrtash']) / (int(data['barcode_in_10x_whitelist']) + int(data['barcode_not_in_any_whitelist'])) * 100))"
   ]
  },
  {
   "cell_type": "markdown",
   "metadata": {},
   "source": [
    "### Kiran method"
   ]
  },
  {
   "cell_type": "code",
   "execution_count": 53,
   "metadata": {},
   "outputs": [
    {
     "name": "stdout",
     "output_type": "stream",
     "text": [
      "Number of corrected barcodes (to Illumina whitelist):     13,766 ( 2.07%)\n"
     ]
    }
   ],
   "source": [
    "print('Number of corrected barcodes (to Illumina whitelist): {:10,} ({:5.2f}%)'.format(int(data['corrected_kiran']), int(data['corrected_kiran']) / (int(data['barcode_in_10x_whitelist']) + int(data['barcode_not_in_any_whitelist'])) * 100))"
   ]
  },
  {
   "cell_type": "markdown",
   "metadata": {},
   "source": [
    "# ONT"
   ]
  },
  {
   "cell_type": "code",
   "execution_count": 77,
   "metadata": {},
   "outputs": [],
   "source": [
    "data = read_rg_stats('results/ont/bam1_sw_rg_stats.tsv')['all']\n",
    "barcode_histogram = read_barcode_stats('results/ont/bam1_sw_barcode_stats.tsv')\n",
    "whitelist_10x = read_barcodes('/Users/mgatzen/files/bam/10x_tool/barcodes/3M-february-2018.txt')\n",
    "whitelist_illumina = read_barcodes('/Users/mgatzen/files/bam/10x_tool/barcodes/ont/samp1.ont.tsv')\n",
    "starcode_data = read_starcode_clusters('results/ont/bam1_sw_starcode.tsv')"
   ]
  },
  {
   "cell_type": "code",
   "execution_count": 78,
   "metadata": {},
   "outputs": [
    {
     "name": "stdout",
     "output_type": "stream",
     "text": [
      "Adapters found:                        1,953,035\n",
      "Barcodes in 10x + Illumina whitelist:  1,418,346 (72.62%)\n",
      "Barcodes in 10x whitelist:               158,087 ( 8.09%)\n",
      "Barcodes in no whitelist:                376,602 (19.28%)\n",
      "\n",
      "Number of unique barcodes:               235,802\n",
      "Unique barcodes in 10x + Illumina:         8,740 ( 3.71%)\n",
      "Unique barcodes in 10x:                   58,280 (24.72%)\n",
      "Unique barcodes not in any:              168,782 (71.58%)\n"
     ]
    }
   ],
   "source": [
    "adapter_found = int(data['adapter_found'])\n",
    "barcodes_in_10x_and_illumina = int(data['barcode_in_10x_and_illumina_whitelist'])\n",
    "barcodes_in_10x = int(data['barcode_in_10x_whitelist'])\n",
    "barcodes_not_in_any = int(data['barcode_not_in_any_whitelist'])\n",
    "\n",
    "unique_barcodes = set(barcode_histogram.keys())\n",
    "unique_barcodes_in_10x_and_illumina = set()\n",
    "unique_barcodes_in_10x = set()\n",
    "unique_barcodes_not_in_any = set()\n",
    "\n",
    "for barcode in unique_barcodes:\n",
    "    if barcode in whitelist_10x:\n",
    "        if barcode in whitelist_illumina:\n",
    "            unique_barcodes_in_10x_and_illumina.add(barcode)\n",
    "        else:\n",
    "            unique_barcodes_in_10x.add(barcode)\n",
    "    else:\n",
    "        unique_barcodes_not_in_any.add(barcode)\n",
    "\n",
    "\n",
    "print('Adapters found:                       {:10,}'.format(adapter_found))\n",
    "print('Barcodes in 10x + Illumina whitelist: {:10,} ({:5.2f}%)'.format(barcodes_in_10x_and_illumina, barcodes_in_10x_and_illumina / adapter_found * 100))\n",
    "print('Barcodes in 10x whitelist:            {:10,} ({:5.2f}%)'.format(barcodes_in_10x, barcodes_in_10x / adapter_found * 100))\n",
    "print('Barcodes in no whitelist:             {:10,} ({:5.2f}%)'.format(barcodes_not_in_any, barcodes_not_in_any / adapter_found * 100))\n",
    "print()\n",
    "print('Number of unique barcodes:            {:10,}'.format(len(unique_barcodes)))\n",
    "print('Unique barcodes in 10x + Illumina:    {:10,} ({:5.2f}%)'.format(len(unique_barcodes_in_10x_and_illumina), len(unique_barcodes_in_10x_and_illumina) / len(unique_barcodes) * 100))\n",
    "print('Unique barcodes in 10x:               {:10,} ({:5.2f}%)'.format(len(unique_barcodes_in_10x), len(unique_barcodes_in_10x) / len(unique_barcodes) * 100))\n",
    "print('Unique barcodes not in any:           {:10,} ({:5.2f}%)'.format(len(unique_barcodes_not_in_any), len(unique_barcodes_not_in_any) / len(unique_barcodes) * 100))"
   ]
  },
  {
   "cell_type": "markdown",
   "metadata": {},
   "source": [
    "### Starcode"
   ]
  },
  {
   "cell_type": "code",
   "execution_count": 79,
   "metadata": {},
   "outputs": [
    {
     "name": "stdout",
     "output_type": "stream",
     "text": [
      "Clusters in starcode: 168,740\n",
      "Illumina clusters covered by starcode:      8,595 (98.34%)\n",
      "Illumina clusters not in starcode:            145 ( 1.66%)\n",
      "Starcode clusters covered by Illumina:      8,595 ( 5.09%)\n",
      "Starcode clusters not in Illumina:        160,145 (94.91%)\n"
     ]
    }
   ],
   "source": [
    "starcode_clusters = set(starcode_data.keys())\n",
    "illumina_in_starcode = [barcode for barcode in whitelist_illumina if barcode in starcode_clusters]\n",
    "illumina_not_in_starcode = [barcode for barcode in whitelist_illumina if barcode not in starcode_clusters]\n",
    "starcode_in_illumina = [barcode for barcode in starcode_clusters if barcode in whitelist_illumina]\n",
    "starcode_not_in_illumina = [barcode for barcode in starcode_clusters if barcode not in whitelist_illumina]\n",
    "\n",
    "\n",
    "print('Clusters in starcode: {:,}'.format(len(starcode_clusters)))\n",
    "print('Illumina clusters covered by starcode: {:10,} ({:5.2f}%)'.format(len(illumina_in_starcode), len(illumina_in_starcode) / len(whitelist_illumina) * 100))\n",
    "print('Illumina clusters not in starcode:     {:10,} ({:5.2f}%)'.format(len(illumina_not_in_starcode), len(illumina_not_in_starcode) / len(whitelist_illumina) * 100))\n",
    "print('Starcode clusters covered by Illumina: {:10,} ({:5.2f}%)'.format(len(starcode_in_illumina), len(starcode_in_illumina) / len(starcode_clusters) * 100))\n",
    "print('Starcode clusters not in Illumina:     {:10,} ({:5.2f}%)'.format(len(starcode_not_in_illumina), len(starcode_not_in_illumina) / len(starcode_clusters) * 100))"
   ]
  },
  {
   "cell_type": "code",
   "execution_count": 80,
   "metadata": {},
   "outputs": [
    {
     "name": "stdout",
     "output_type": "stream",
     "text": [
      "1640602\n",
      "1632\n"
     ]
    }
   ],
   "source": [
    "starcode_corrected = 0\n",
    "for code in [code for code in starcode_clusters if code in whitelist_illumina]:\n",
    "    starcode_corrected += starcode_data[code]\n",
    "print(starcode_corrected)\n",
    "print(starcode_data['ACTGTCCTCCATCACC'])"
   ]
  },
  {
   "cell_type": "markdown",
   "metadata": {},
   "source": [
    "### Mehrtash method"
   ]
  },
  {
   "cell_type": "code",
   "execution_count": 63,
   "metadata": {},
   "outputs": [
    {
     "name": "stdout",
     "output_type": "stream",
     "text": [
      "Number of corrected barcodes (to Illumina whitelist):     35,212 (10.63%)\n"
     ]
    }
   ],
   "source": [
    "print('Number of corrected barcodes (to Illumina whitelist): {:10,} ({:5.2f}%)'.format(int(data['corrected_mehrtash']), int(data['corrected_mehrtash']) / (int(data['barcode_in_10x_whitelist']) + int(data['barcode_not_in_any_whitelist'])) * 100))"
   ]
  },
  {
   "cell_type": "markdown",
   "metadata": {},
   "source": [
    "### Kiran method"
   ]
  },
  {
   "cell_type": "code",
   "execution_count": 64,
   "metadata": {},
   "outputs": [
    {
     "name": "stdout",
     "output_type": "stream",
     "text": [
      "Number of corrected barcodes (to Illumina whitelist):     31,461 ( 9.50%)\n"
     ]
    }
   ],
   "source": [
    "print('Number of corrected barcodes (to Illumina whitelist): {:10,} ({:5.2f}%)'.format(int(data['corrected_kiran']), int(data['corrected_kiran']) / (int(data['barcode_in_10x_whitelist']) + int(data['barcode_not_in_any_whitelist'])) * 100))"
   ]
  },
  {
   "cell_type": "code",
   "execution_count": null,
   "metadata": {},
   "outputs": [],
   "source": []
  }
 ],
 "metadata": {
  "kernelspec": {
   "display_name": "Python 3",
   "language": "python",
   "name": "python3"
  },
  "language_info": {
   "codemirror_mode": {
    "name": "ipython",
    "version": 3
   },
   "file_extension": ".py",
   "mimetype": "text/x-python",
   "name": "python",
   "nbconvert_exporter": "python",
   "pygments_lexer": "ipython3",
   "version": "3.7.3"
  }
 },
 "nbformat": 4,
 "nbformat_minor": 2
}
