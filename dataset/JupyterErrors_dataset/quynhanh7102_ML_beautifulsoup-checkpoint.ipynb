{
 "cells": [
  {
   "cell_type": "markdown",
   "metadata": {
    "ExecuteTime": {
     "end_time": "2019-11-27T22:13:59.701216Z",
     "start_time": "2019-11-27T22:13:59.685861Z"
    }
   },
   "source": [
    "# Web Scraping: BeautifulSoup\n",
    "_Collecting data from the internet and parsing it into meaningful (often tabular) form._\n",
    "\n",
    "### Docs\n",
    "\n",
    "- [BeautifulSoup documentation](https://www.crummy.com/software/BeautifulSoup/bs4/doc/)\n",
    "\n",
    "### Installation\n",
    "\n",
    "If not using the Metis kernel, please install the following libraries\n",
    "\n",
    "With conda:\n",
    "- `conda install beautifulsoup4 requests lxml html5lib`\n",
    "\n",
    "With pip:\n",
    "- `pip install beautifulsoup4 requests lxml html5lib`\n",
    "\n",
    "If you have installed everything correctly, you should now be able to import these libraries. (You may need to shutdown and restart this notebook for BeautifulSoup to recognize the `lxml` and `html5lib` parsers.)"
   ]
  },
  {
   "cell_type": "markdown",
   "metadata": {},
   "source": [
    "# Web Scraping: BeautifulSoup\n",
    "_Collecting data from the internet and parsing it into meaningful (often tabular) form._\n",
    "\n",
    "### Docs\n",
    "\n",
    "- [BeautifulSoup documentation](https://www.crummy.com/software/BeautifulSoup/bs4/doc/)\n",
    "\n",
    "### Installation\n",
    "\n",
    "If not using the Metis kernel, please install the following libraries\n",
    "\n",
    "With conda:\n",
    "- `conda install beautifulsoup4 requests lxml html5lib`\n",
    "\n",
    "With pip:\n",
    "- `pip install beautifulsoup4 requests lxml html5lib`\n",
    "\n",
    "If you have installed everything correctly, you should now be able to import these libraries. (You may need to shutdown and restart this notebook for BeautifulSoup to recognize the `lxml` and `html5lib` parsers.)"
   ]
  },
  {
   "cell_type": "code",
   "execution_count": 6,
   "metadata": {
    "ExecuteTime": {
     "end_time": "2019-11-27T22:13:59.707412Z",
     "start_time": "2019-11-27T22:13:59.687Z"
    }
   },
   "outputs": [],
   "source": [
    "from bs4 import BeautifulSoup\n",
    "import requests"
   ]
  },
  {
   "cell_type": "markdown",
   "metadata": {},
   "source": [
    "## What is BeautifulSoup?\n",
    "\n",
    "- Python library\n",
    "- **HTML parser**:  Interprets structure of HTML file \n",
    "- Does not actually get pages from the web.  Use `requests` library for that.\n",
    "\n",
    "<br>\n",
    "<img src=\"images/web_scraping_pipeline.png\" alt=\"Web Scraping Pipeline\" style=\"width: 650px;\"/>"
   ]
  },
  {
   "cell_type": "markdown",
   "metadata": {},
   "source": [
    "## Intro to HTML\n",
    "\n",
    "_Basic language used to create a webpage._\n",
    "\n",
    "- Tells browser what, where, and how to display text, images, and other media\n",
    "- Structured, hierarchical nature \n",
    "- Comprised of \"elements\" with properties"
   ]
  },
  {
   "cell_type": "markdown",
   "metadata": {},
   "source": [
    "Example HTML element\n",
    "```html\n",
    "<tag-name attr1=\"value of attr1\" attr2=\"value of attr2\" .... attrN=\"value of attrN\">\n",
    "    Inner text of the tag\n",
    "</tag-name>\n",
    "```"
   ]
  },
  {
   "cell_type": "markdown",
   "metadata": {},
   "source": [
    "### Tags,  `<tag-name>`\n",
    "\n",
    "- Elements are labeled with tags\n",
    "- Tells us what type of \"thing\" to render\n",
    "\n",
    "    \n",
    "| Tag | Use\n",
    "|---          | ---|\n",
    "|`h1`, `h2`, ..., `h6`| headers|\n",
    "|`p`| paragraphs |\n",
    "|`a`| anchors (e.g. links) |\n",
    "|`div`| divisions (or sections) of a page |\n",
    "|`img`| images |\n",
    "|`li` | list items |\n"
   ]
  },
  {
   "cell_type": "markdown",
   "metadata": {},
   "source": [
    "### Attributes, `attr1`\n",
    "\n",
    "- Special properties we want this tag to have\n",
    "- Typically appear as `attribute name = \"attribute value\"` pair\n",
    "\n",
    "| Attribute | Use | Notes\n",
    "|---   | ---       | ---|\n",
    "|`href` | hyperlink reference | Clicking this element directs user to value url|\n",
    "|`class`| style class | Many elements may have same class |\n",
    "|`id`| unique identifier | Only one element per id! |\n",
    "|`style`| extra element styling | Bad practice, use css instead |"
   ]
  },
  {
   "cell_type": "markdown",
   "metadata": {},
   "source": [
    "### Inner HTML Text\n",
    "\n",
    "- Text that appears between tags\n",
    "- Often the information we want to extract during web scraping"
   ]
  },
  {
   "cell_type": "markdown",
   "metadata": {},
   "source": [
    "### HTML Structure\n",
    "\n",
    "A full HTML document has a structure similar to this:\n",
    "\n",
    "```html\n",
    "<html> \n",
    "  <head> </head>\n",
    "  <body>\n",
    "     <h1>This is a header</h1>\n",
    "     <p style=\"color:red;\" id=\"learning_paragraph\">You are learning HTML</p>\n",
    "     <a href=\"www.google.com\">A link to Google</a>\n",
    "  </body>\n",
    "</html>\n",
    "```"
   ]
  },
  {
   "cell_type": "markdown",
   "metadata": {},
   "source": [
    "**QUESTIONS**\n",
    "> How many elements do we have within the HTML body?  What are their tags?"
   ]
  },
  {
   "cell_type": "markdown",
   "metadata": {},
   "source": [
    "> What is the inner HTML of the header element?"
   ]
  },
  {
   "cell_type": "markdown",
   "metadata": {},
   "source": [
    "> What attribute(s) does the paragraph have?  And the attribute value(s)?"
   ]
  },
  {
   "cell_type": "markdown",
   "metadata": {},
   "source": [
    "Saving this code as a .html file and opening it in a browser should yield:\n",
    "\n",
    "<br>\n",
    "<img src=\"images/example_html.png\" alt=\"Rendering of Example HTML\" style=\"width: 300px;\" align=\"left\"/>"
   ]
  },
  {
   "cell_type": "markdown",
   "metadata": {},
   "source": [
    "## Learn to Scrape with Dummy HTML\n",
    "\n",
    "Let's begin learning how to scrape by working with some dummy HTML, written below as a string."
   ]
  },
  {
   "cell_type": "code",
   "execution_count": 7,
   "metadata": {
    "ExecuteTime": {
     "end_time": "2019-11-27T22:13:59.821002Z",
     "start_time": "2019-11-27T22:13:59.815249Z"
    }
   },
   "outputs": [
    {
     "ename": "SyntaxError",
     "evalue": "invalid syntax (<ipython-input-7-8d5ca7b4d645>, line 2)",
     "output_type": "error",
     "traceback": [
      "\u001b[0;36m  File \u001b[0;32m\"<ipython-input-7-8d5ca7b4d645>\"\u001b[0;36m, line \u001b[0;32m2\u001b[0m\n\u001b[0;31m    <html>\u001b[0m\n\u001b[0m    ^\u001b[0m\n\u001b[0;31mSyntaxError\u001b[0m\u001b[0;31m:\u001b[0m invalid syntax\n"
     ]
    }
   ],
   "source": [
    "my_html = \"http://carsalesbase.com/us-car-sales-analysis-2019-brands/\"\n",
    "<html>\n",
    "\n",
    "<head>\n",
    "</head>\n",
    "\n",
    "<body>\n",
    "    <div style=\"border: 1px solid\">\n",
    "        There isn't much in this file, except a list of to-do items. \n",
    "        <ul>\n",
    "          <li>Make coffee</li>\n",
    "          <li>Sweep the floor</li>\n",
    "          <li>Go to the store</li>\n",
    "          <li>Write BeautifulSoup lecture</li>\n",
    "        </ul>\n",
    "    </div>\n",
    "</body>\n",
    "\n",
    "</html>\n",
    "\"\"\""
   ]
  },
  {
   "cell_type": "markdown",
   "metadata": {},
   "source": [
    "Let's take a look at this simple webpage."
   ]
  },
  {
   "cell_type": "code",
   "execution_count": 8,
   "metadata": {
    "ExecuteTime": {
     "end_time": "2019-11-27T22:13:59.848708Z",
     "start_time": "2019-11-27T22:13:59.827796Z"
    }
   },
   "outputs": [
    {
     "data": {
      "text/html": [
       "<!DOCTYPE html>\n",
       "<html lang=\"en-US\">\n",
       "<head >\n",
       "<meta charset=\"UTF-8\" />\n",
       "<meta name=\"viewport\" content=\"width=device-width, initial-scale=1\" />\n",
       "<title>US car sales analysis 2019 - brands - carsalesbase.com</title>\n",
       "<script type='text/javascript'>function ctSetCookie(c_name, value, def_value){document.cookie = c_name + '=' + escape(value) + '; path=/';}ctSetCookie('ct_checkjs', 'cfdea29cbe1a9c2300dc3a0996ad794d44b8a4833cb04387fa9f97440143dfaf', '0');</script>\n",
       "<!-- This site is optimized with the Yoast SEO plugin v12.9 - https://yoast.com/wordpress/plugins/seo/ -->\n",
       "<meta name=\"robots\" content=\"max-snippet:-1, max-image-preview:large, max-video-preview:-1\"/>\n",
       "<link rel=\"canonical\" href=\"http://carsalesbase.com/us-car-sales-analysis-2019-brands/\" />\n",
       "<meta property=\"og:locale\" content=\"en_US\" />\n",
       "<meta property=\"og:type\" content=\"article\" />\n",
       "<meta property=\"og:title\" content=\"US car sales analysis 2019 - brands - carsalesbase.com\" />\n",
       "<meta property=\"og:description\" content=\"A lot of analysts had predicted US car sales to dip below 17 million in 2019, but the market proved stronger than expected and has scored a fifth consecutive year above that symbolic 17 million mark, despite a 1.2% drop in sales. As has been the trend in recent years, sales of car models (sedans, &hellip;\" />\n",
       "<meta property=\"og:url\" content=\"http://carsalesbase.com/us-car-sales-analysis-2019-brands/\" />\n",
       "<meta property=\"og:site_name\" content=\"carsalesbase.com\" />\n",
       "<meta property=\"article:tag\" content=\"2019\" />\n",
       "<meta property=\"article:tag\" content=\"sales\" />\n",
       "<meta property=\"article:tag\" content=\"US\" />\n",
       "<meta property=\"article:section\" content=\"Car sales US\" />\n",
       "<meta property=\"article:published_time\" content=\"2020-01-09T20:39:49+00:00\" />\n",
       "<meta property=\"og:image\" content=\"http://carsalesbase.com/wp-content/uploads/2019/07/2019-ram-heavy-duty-lineup-min.jpg\" />\n",
       "<meta property=\"og:image:width\" content=\"800\" />\n",
       "<meta property=\"og:image:height\" content=\"323\" />\n",
       "<meta name=\"twitter:card\" content=\"summary\" />\n",
       "<meta name=\"twitter:description\" content=\"A lot of analysts had predicted US car sales to dip below 17 million in 2019, but the market proved stronger than expected and has scored a fifth consecutive year above that symbolic 17 million mark, despite a 1.2% drop in sales. As has been the trend in recent years, sales of car models (sedans, [&hellip;]\" />\n",
       "<meta name=\"twitter:title\" content=\"US car sales analysis 2019 - brands - carsalesbase.com\" />\n",
       "<meta name=\"twitter:image\" content=\"http://carsalesbase.com/wp-content/uploads/2019/07/2019-ram-heavy-duty-lineup-min.jpg\" />\n",
       "<script type='application/ld+json' class='yoast-schema-graph yoast-schema-graph--main'>{\"@context\":\"https://schema.org\",\"@graph\":[{\"@type\":\"Organization\",\"@id\":\"http://carsalesbase.com/#organization\",\"name\":\"Carsalesbase.com\",\"url\":\"http://carsalesbase.com/\",\"sameAs\":[],\"logo\":{\"@type\":\"ImageObject\",\"@id\":\"http://carsalesbase.com/#logo\",\"url\":\"http://carsalesbase.com/wp-content/uploads/2016/12/Carsalesbase-logo-black.png\",\"width\":613,\"height\":115,\"caption\":\"Carsalesbase.com\"},\"image\":{\"@id\":\"http://carsalesbase.com/#logo\"}},{\"@type\":\"WebSite\",\"@id\":\"http://carsalesbase.com/#website\",\"url\":\"http://carsalesbase.com/\",\"name\":\"carsalesbase.com\",\"description\":\"Automotive Industry analysis, opinions and data\",\"publisher\":{\"@id\":\"http://carsalesbase.com/#organization\"},\"potentialAction\":{\"@type\":\"SearchAction\",\"target\":\"http://carsalesbase.com/?s={search_term_string}\",\"query-input\":\"required name=search_term_string\"}},{\"@type\":\"ImageObject\",\"@id\":\"http://carsalesbase.com/us-car-sales-analysis-2019-brands/#primaryimage\",\"url\":\"http://carsalesbase.com/wp-content/uploads/2019/07/2019-ram-heavy-duty-lineup-min.jpg\",\"width\":800,\"height\":323},{\"@type\":\"WebPage\",\"@id\":\"http://carsalesbase.com/us-car-sales-analysis-2019-brands/#webpage\",\"url\":\"http://carsalesbase.com/us-car-sales-analysis-2019-brands/\",\"inLanguage\":\"en-US\",\"name\":\"US car sales analysis 2019 - brands - carsalesbase.com\",\"isPartOf\":{\"@id\":\"http://carsalesbase.com/#website\"},\"primaryImageOfPage\":{\"@id\":\"http://carsalesbase.com/us-car-sales-analysis-2019-brands/#primaryimage\"},\"datePublished\":\"2020-01-09T20:39:49+00:00\",\"dateModified\":\"2020-01-09T20:39:49+00:00\",\"breadcrumb\":{\"@id\":\"http://carsalesbase.com/us-car-sales-analysis-2019-brands/#breadcrumb\"}},{\"@type\":\"BreadcrumbList\",\"@id\":\"http://carsalesbase.com/us-car-sales-analysis-2019-brands/#breadcrumb\",\"itemListElement\":[{\"@type\":\"ListItem\",\"position\":1,\"item\":{\"@type\":\"WebPage\",\"@id\":\"http://carsalesbase.com/\",\"url\":\"http://carsalesbase.com/\",\"name\":\"Home\"}},{\"@type\":\"ListItem\",\"position\":2,\"item\":{\"@type\":\"WebPage\",\"@id\":\"http://carsalesbase.com/us-car-sales-analysis-2019-brands/\",\"url\":\"http://carsalesbase.com/us-car-sales-analysis-2019-brands/\",\"name\":\"US car sales analysis 2019 &#8211; brands\"}}]},{\"@type\":\"Article\",\"@id\":\"http://carsalesbase.com/us-car-sales-analysis-2019-brands/#article\",\"isPartOf\":{\"@id\":\"http://carsalesbase.com/us-car-sales-analysis-2019-brands/#webpage\"},\"author\":{\"@id\":\"http://carsalesbase.com/#/schema/person/b9b11fc5a87605bbccf35721d85af539\"},\"headline\":\"US car sales analysis 2019 &#8211; brands\",\"datePublished\":\"2020-01-09T20:39:49+00:00\",\"dateModified\":\"2020-01-09T20:39:49+00:00\",\"commentCount\":\"14\",\"mainEntityOfPage\":{\"@id\":\"http://carsalesbase.com/us-car-sales-analysis-2019-brands/#webpage\"},\"publisher\":{\"@id\":\"http://carsalesbase.com/#organization\"},\"image\":{\"@id\":\"http://carsalesbase.com/us-car-sales-analysis-2019-brands/#primaryimage\"},\"keywords\":\"2019,sales,US\",\"articleSection\":\"Car sales US\"},{\"@type\":[\"Person\"],\"@id\":\"http://carsalesbase.com/#/schema/person/b9b11fc5a87605bbccf35721d85af539\",\"name\":\"Bart Demandt\",\"description\":\"Bart is a 36-year old Dutchman who's always had a thing for cars, the automotive industry and statistics. He\\u2019s combined these passions by writing about them on CarSalesBase.com. His daily driver is an Alfa Romeo GT 3.2 V6 which he just can't seem to say goodbye to thanks to the mesmerizing exhaust note, despite approaching 300.000km which probably makes this the most experienced GT 3.2 in the world.\\r\\nYou can find all his articles <a href=\\\"http://left-lane.com/author/leftlane/\\\">Here</a>.\",\"sameAs\":[]}]}</script>\n",
       "<!-- / Yoast SEO plugin. -->\n",
       "\n",
       "<link rel='dns-prefetch' href='//www.gstatic.com' />\n",
       "<link rel='dns-prefetch' href='//fonts.googleapis.com' />\n",
       "<link rel='dns-prefetch' href='//s.w.org' />\n",
       "<link rel=\"alternate\" type=\"application/rss+xml\" title=\"carsalesbase.com &raquo; Feed\" href=\"http://carsalesbase.com/feed/\" />\n",
       "<link rel=\"alternate\" type=\"application/rss+xml\" title=\"carsalesbase.com &raquo; Comments Feed\" href=\"http://carsalesbase.com/comments/feed/\" />\n",
       "<link rel=\"alternate\" type=\"application/rss+xml\" title=\"carsalesbase.com &raquo; US car sales analysis 2019 &#8211; brands Comments Feed\" href=\"http://carsalesbase.com/us-car-sales-analysis-2019-brands/feed/\" />\n",
       "\t\t<script type=\"text/javascript\">\n",
       "\t\t\twindow._wpemojiSettings = {\"baseUrl\":\"https:\\/\\/s.w.org\\/images\\/core\\/emoji\\/12.0.0-1\\/72x72\\/\",\"ext\":\".png\",\"svgUrl\":\"https:\\/\\/s.w.org\\/images\\/core\\/emoji\\/12.0.0-1\\/svg\\/\",\"svgExt\":\".svg\",\"source\":{\"concatemoji\":\"http:\\/\\/carsalesbase.com\\/wp-includes\\/js\\/wp-emoji-release.min.js?ver=5.3.2\"}};\n",
       "\t\t\t!function(e,a,t){var r,n,o,i,p=a.createElement(\"canvas\"),s=p.getContext&&p.getContext(\"2d\");function c(e,t){var a=String.fromCharCode;s.clearRect(0,0,p.width,p.height),s.fillText(a.apply(this,e),0,0);var r=p.toDataURL();return s.clearRect(0,0,p.width,p.height),s.fillText(a.apply(this,t),0,0),r===p.toDataURL()}function l(e){if(!s||!s.fillText)return!1;switch(s.textBaseline=\"top\",s.font=\"600 32px Arial\",e){case\"flag\":return!c([127987,65039,8205,9895,65039],[127987,65039,8203,9895,65039])&&(!c([55356,56826,55356,56819],[55356,56826,8203,55356,56819])&&!c([55356,57332,56128,56423,56128,56418,56128,56421,56128,56430,56128,56423,56128,56447],[55356,57332,8203,56128,56423,8203,56128,56418,8203,56128,56421,8203,56128,56430,8203,56128,56423,8203,56128,56447]));case\"emoji\":return!c([55357,56424,55356,57342,8205,55358,56605,8205,55357,56424,55356,57340],[55357,56424,55356,57342,8203,55358,56605,8203,55357,56424,55356,57340])}return!1}function d(e){var t=a.createElement(\"script\");t.src=e,t.defer=t.type=\"text/javascript\",a.getElementsByTagName(\"head\")[0].appendChild(t)}for(i=Array(\"flag\",\"emoji\"),t.supports={everything:!0,everythingExceptFlag:!0},o=0;o<i.length;o++)t.supports[i[o]]=l(i[o]),t.supports.everything=t.supports.everything&&t.supports[i[o]],\"flag\"!==i[o]&&(t.supports.everythingExceptFlag=t.supports.everythingExceptFlag&&t.supports[i[o]]);t.supports.everythingExceptFlag=t.supports.everythingExceptFlag&&!t.supports.flag,t.DOMReady=!1,t.readyCallback=function(){t.DOMReady=!0},t.supports.everything||(n=function(){t.readyCallback()},a.addEventListener?(a.addEventListener(\"DOMContentLoaded\",n,!1),e.addEventListener(\"load\",n,!1)):(e.attachEvent(\"onload\",n),a.attachEvent(\"onreadystatechange\",function(){\"complete\"===a.readyState&&t.readyCallback()})),(r=t.source||{}).concatemoji?d(r.concatemoji):r.wpemoji&&r.twemoji&&(d(r.twemoji),d(r.wpemoji)))}(window,document,window._wpemojiSettings);\n",
       "\t\t</script>\n",
       "\t\t<style type=\"text/css\">\n",
       "img.wp-smiley,\n",
       "img.emoji {\n",
       "\tdisplay: inline !important;\n",
       "\tborder: none !important;\n",
       "\tbox-shadow: none !important;\n",
       "\theight: 1em !important;\n",
       "\twidth: 1em !important;\n",
       "\tmargin: 0 .07em !important;\n",
       "\tvertical-align: -0.1em !important;\n",
       "\tbackground: none !important;\n",
       "\tpadding: 0 !important;\n",
       "}\n",
       "</style>\n",
       "\t<link rel='stylesheet' id='dashicons-css'  href='http://carsalesbase.com/wp-includes/css/dashicons.min.css?ver=5.3.2' type='text/css' media='all' />\n",
       "<link rel='stylesheet' id='thickbox-css'  href='http://carsalesbase.com/wp-includes/js/thickbox/thickbox.css?ver=5.3.2' type='text/css' media='all' />\n",
       "<link rel='stylesheet' id='agency-pro-theme-css'  href='http://carsalesbase.com/wp-content/themes/CSB-theme/style.css?ver=3.1.3' type='text/css' media='all' />\n",
       "<link rel='stylesheet' id='wp-block-library-css'  href='http://carsalesbase.com/wp-includes/css/dist/block-library/style.min.css?ver=5.3.2' type='text/css' media='all' />\n",
       "<style id='wp-block-library-inline-css' type='text/css'>\n",
       ".has-text-align-justify{text-align:justify;}\n",
       "</style>\n",
       "<link rel='stylesheet' id='css-css'  href='http://carsalesbase.com/wp-content/plugins/car-sales-search/car-sales-search.css?ver=5.3.2' type='text/css' media='all' />\n",
       "<link rel='stylesheet' id='eic_public-css'  href='http://carsalesbase.com/wp-content/plugins/easy-image-collage/css/public.css?ver=1.13.0' type='text/css' media='screen' />\n",
       "<link rel='stylesheet' id='jetti-compare-style-css'  href='http://carsalesbase.com/wp-content/plugins/jetti-car-sales-compare/css/style.css?ver=5.3.2' type='text/css' media='all' />\n",
       "<link rel='stylesheet' id='jetti-car-sales-compare-css'  href='http://carsalesbase.com/wp-content/plugins/jetti-car-sales-compare/public/css/jetti-car-sales-compare-public.css?ver=1.0.0' type='text/css' media='all' />\n",
       "<link rel='stylesheet' id='wp-polls-css'  href='http://carsalesbase.com/wp-content/plugins/wp-polls/polls-css.css?ver=2.75.4' type='text/css' media='all' />\n",
       "<style id='wp-polls-inline-css' type='text/css'>\n",
       ".wp-polls .pollbar {\n",
       "\tmargin: 1px;\n",
       "\tfont-size: 6px;\n",
       "\tline-height: 8px;\n",
       "\theight: 8px;\n",
       "\tbackground-image: url('http://carsalesbase.com/wp-content/plugins/wp-polls/images/default/pollbg.gif');\n",
       "\tborder: 1px solid #c8c8c8;\n",
       "}\n",
       "\n",
       "</style>\n",
       "<link rel='stylesheet' id='google-fonts-css'  href='//fonts.googleapis.com/css?family=EB+Garamond%7CSpinnaker&#038;ver=3.1.3' type='text/css' media='all' />\n",
       "<!-- Inline jetpack_facebook_likebox -->\r\n",
       "<style id='jetpack_facebook_likebox-inline-css' type='text/css'>\n",
       ".widget_facebook_likebox {\n",
       "\toverflow: hidden;\n",
       "}\n",
       "\n",
       "</style>\n",
       "<link rel='stylesheet' id='social-logos-css'  href='http://carsalesbase.com/wp-content/plugins/jetpack/_inc/social-logos/social-logos.min.css?ver=1' type='text/css' media='all' />\n",
       "<link rel='stylesheet' id='jetpack_css-css'  href='http://carsalesbase.com/wp-content/plugins/jetpack/css/jetpack.css?ver=8.1' type='text/css' media='all' />\n",
       "<script type='text/javascript' src='http://carsalesbase.com/wp-includes/js/jquery/jquery.js?ver=1.12.4-wp'></script>\n",
       "<script type='text/javascript' src='http://carsalesbase.com/wp-includes/js/jquery/jquery-migrate.min.js?ver=1.4.1'></script>\n",
       "<script type='text/javascript'>\n",
       "/* <![CDATA[ */\n",
       "var ctPublic = {\"_ajax_nonce\":\"6075aeca2f\",\"_ajax_url\":\"http:\\/\\/carsalesbase.com\\/wp-admin\\/admin-ajax.php\"};\n",
       "/* ]]> */\n",
       "</script>\n",
       "<script type='text/javascript' src='http://carsalesbase.com/wp-content/plugins/cleantalk-spam-protect/js/apbct-public.min.js?ver=5.133'></script>\n",
       "<script type='text/javascript'>\n",
       "/* <![CDATA[ */\n",
       "var ctNocache = {\"ajaxurl\":\"http:\\/\\/carsalesbase.com\\/wp-admin\\/admin-ajax.php\",\"info_flag\":\"\",\"set_cookies_flag\":\"\",\"blog_home\":\"http:\\/\\/carsalesbase.com\\/\"};\n",
       "/* ]]> */\n",
       "</script>\n",
       "<script type='text/javascript' src='http://carsalesbase.com/wp-content/plugins/cleantalk-spam-protect/js/cleantalk_nocache.min.js?ver=5.133'></script>\n",
       "<script type='text/javascript'>\n",
       "/* <![CDATA[ */\n",
       "var ajax_object = {\"ajax_url\":\"http:\\/\\/carsalesbase.com\\/wp-admin\\/admin-ajax.php\"};\n",
       "var input_object = {\"input_data\":\"[]\"};\n",
       "var is_admin = {\"admin\":\"\"};\n",
       "/* ]]> */\n",
       "</script>\n",
       "<script type='text/javascript' src='http://carsalesbase.com/wp-content/plugins/jetti-car-sales-compare/js/chartComparison.js?ver=5.3.2'></script>\n",
       "<script type='text/javascript' src='https://www.gstatic.com/charts/loader.js?ver=5.3.2'></script>\n",
       "<script type='text/javascript' src='http://carsalesbase.com/wp-content/plugins/jetti-car-sales-compare/public/js/jetti-car-sales-compare-public.js?ver=1.0.0'></script>\n",
       "<script type='text/javascript' src='http://carsalesbase.com/wp-content/themes/CSB-theme/js/responsive-menu.js?ver=1.0.0'></script>\n",
       "<link rel='https://api.w.org/' href='http://carsalesbase.com/wp-json/' />\n",
       "<link rel=\"EditURI\" type=\"application/rsd+xml\" title=\"RSD\" href=\"http://carsalesbase.com/xmlrpc.php?rsd\" />\n",
       "<link rel=\"wlwmanifest\" type=\"application/wlwmanifest+xml\" href=\"http://carsalesbase.com/wp-includes/wlwmanifest.xml\" /> \n",
       "<meta name=\"generator\" content=\"WordPress 5.3.2\" />\n",
       "<link rel='shortlink' href='https://wp.me/p43z7O-enD' />\n",
       "<link rel=\"alternate\" type=\"application/json+oembed\" href=\"http://carsalesbase.com/wp-json/oembed/1.0/embed?url=http%3A%2F%2Fcarsalesbase.com%2Fus-car-sales-analysis-2019-brands%2F\" />\n",
       "<link rel=\"alternate\" type=\"text/xml+oembed\" href=\"http://carsalesbase.com/wp-json/oembed/1.0/embed?url=http%3A%2F%2Fcarsalesbase.com%2Fus-car-sales-analysis-2019-brands%2F&#038;format=xml\" />\n",
       "<style type=\"text/css\">.eic-image .eic-image-caption {bottom: 0;left: 0;right: 0;text-align: left;font-size: 12px;color: rgba(255,255,255,1);background-color: rgba(0,0,0,0.7);}</style> \n",
       "\t\t<style type=\"text/css\">\n",
       "\t\t\t.social-ring:after {\n",
       "\t\t\t\t clear: both;\n",
       "\t\t\t}\n",
       "\t\t\t\t   \n",
       "\t\t\t.social-ring:before,\n",
       "\t\t\t.social-ring:after {\n",
       "\t\t\t\t content: \"\";\n",
       "\t\t\t\t display: table;\n",
       "\t\t\t}\n",
       "\t\t\t\n",
       "\t\t\t.social-ring {\n",
       "\t\t\t\tmargin: 0 0 0.5em !important;\n",
       "\t\t\t\tpadding: 0 !important;\n",
       "\t\t\t\tline-height: 20px !important;\n",
       "\t\t\t\theight: auto;\n",
       "\t\t\t\tfont-size: 11px;\n",
       "\t\t\t}\n",
       "\t\t\t.social-ring-button {\n",
       "\t\t\t\tfloat: left !important;\n",
       "\t\t\t\t\t\t\t\theight: 30px;\n",
       "\t\t\t\t\t\t\t\tmargin: 0 5px 0 0 !important;\n",
       "\t\t\t\tpadding: 0 !important;\n",
       "\t\t\t}\n",
       "\t\t\t.social-ring .social-ring-button iframe {\n",
       "\t\t\t\tmax-width: none !important;\n",
       "\t\t\t}\n",
       "\t\t</style>\n",
       "\t<!-- <meta name=\"NextGEN\" version=\"3.2.23\" /> -->\n",
       "\r\n",
       "<link rel='dns-prefetch' href='//v0.wordpress.com'/>\r\n",
       "<link rel=\"pingback\" href=\"http://carsalesbase.com/xmlrpc.php\" />\n",
       "<link rel=\"stylesheet\" type=\"text/css\" href=\"//cdnjs.cloudflare.com/ajax/libs/cookieconsent2/3.0.3/cookieconsent.min.css\" />\r\n",
       "<script src=\"//cdnjs.cloudflare.com/ajax/libs/cookieconsent2/3.0.3/cookieconsent.min.js\"></script>\r\n",
       "<script>\r\n",
       "window.addEventListener(\"load\", function(){\r\n",
       "window.cookieconsent.initialise({\r\n",
       "  \"palette\": {\r\n",
       "    \"popup\": {\r\n",
       "      \"background\": \"#000\"\r\n",
       "    },\r\n",
       "    \"button\": {\r\n",
       "      \"background\": \"#f1d600\"\r\n",
       "    }\r\n",
       "  },\r\n",
       "  \"content\": {\r\n",
       "    \"message\": \"We use cookies to personalize your visit to our site. Cookies allow us and 3rd parties to track your internet behavior on our site. This allows us and 3rd parties to customize ads to your interests and allows you to share information on social media. By continuing to browse you agree to these terms.\"\r\n",
       "  }\r\n",
       "})});\r\n",
       "</script><!-- All in one Favicon 4.7 --><link rel=\"icon\" href=\"http://left-lane.com/wp-content/uploads/2014/03/Winding_road1.png\" type=\"image/png\"/>\n",
       "<style type=\"text/css\">\n",
       ".avatar {vertical-align:middle; margin-right:5px;}\n",
       ".credit {font-size: 50%;}\n",
       "</style>\n",
       "\t\t<style type=\"text/css\" id=\"sns_global_styles\">/* Tooltip container */\r\n",
       ".tooltip {\r\n",
       "    position: relative;\r\n",
       "    display: inline-block;\r\n",
       "}\r\n",
       "\r\n",
       "/* Tooltip text */\r\n",
       ".tooltip .tooltiptext {\r\n",
       "    visibility: hidden;\r\n",
       "    width: 120px;\r\n",
       "    background-color: #555;\r\n",
       "    color: #fff;\r\n",
       "    text-align: center;\r\n",
       "    padding: 5px 0;\r\n",
       "    border-radius: 6px;\r\n",
       "\r\n",
       "    /* Position the tooltip text */\r\n",
       "    position: absolute;\r\n",
       "    z-index: 1;\r\n",
       "    bottom: 125%;\r\n",
       "    left: 50%;\r\n",
       "    margin-left: -60px;\r\n",
       "\r\n",
       "    /* Fade in tooltip */\r\n",
       "    opacity: 0;\r\n",
       "    transition: opacity 0.3s;\r\n",
       "}\r\n",
       "\r\n",
       "/* Tooltip arrow */\r\n",
       ".tooltip .tooltiptext::after {\r\n",
       "    content: \"\";\r\n",
       "    position: absolute;\r\n",
       "    top: 100%;\r\n",
       "    left: 50%;\r\n",
       "    margin-left: -5px;\r\n",
       "    border-width: 5px;\r\n",
       "    border-style: solid;\r\n",
       "    border-color: #555 transparent transparent transparent;\r\n",
       "}\r\n",
       "\r\n",
       "/* Show the tooltip text when you mouse over the tooltip container */\r\n",
       ".tooltip:hover .tooltiptext {\r\n",
       "    visibility: visible;\r\n",
       "    opacity: 1;\r\n",
       "}</style><style type=\"text/css\" id=\"sns_styles\">table {\r\n",
       "  border-collapse: collapse;\r\n",
       "  border-style: hidden;\r\n",
       "}\r\n",
       "table th {\r\n",
       "    border-bottom: 1px solid black;\r\n",
       "    border-top: 1px solid black;\r\n",
       "    border-collapse: collapse;\r\n",
       "}\r\n",
       "table td {\r\n",
       "    border-bottom: 1px solid black;\r\n",
       "    border-top: 1px solid black;\r\n",
       "    border-collapse: collapse;\r\n",
       "}</style><link rel=\"icon\" href=\"http://carsalesbase.com/wp-content/uploads/2018/06/cropped-sign_carsalesbase-32x32.png\" sizes=\"32x32\" />\n",
       "<link rel=\"icon\" href=\"http://carsalesbase.com/wp-content/uploads/2018/06/cropped-sign_carsalesbase-192x192.png\" sizes=\"192x192\" />\n",
       "<link rel=\"apple-touch-icon-precomposed\" href=\"http://carsalesbase.com/wp-content/uploads/2018/06/cropped-sign_carsalesbase-180x180.png\" />\n",
       "<meta name=\"msapplication-TileImage\" content=\"http://carsalesbase.com/wp-content/uploads/2018/06/cropped-sign_carsalesbase-270x270.png\" />\n",
       "\t\t\t<style type=\"text/css\" id=\"wp-custom-css\">\n",
       "\t\t\t\t#logo{\n",
       "\t/* KW 8/23/18 width:100px; */\n",
       "\theight:35px; /* KW 8/23/18 */\n",
       "\tdisplay:inline-block; \n",
       "\tmargin-left: 20%; /* KW 8/23/18 */\n",
       "\tfloat: left;\n",
       "}\n",
       "\n",
       "#logoTxt{\n",
       "\t/* KW 8/23/18 width:60%; */\n",
       "\theight: 26px; /* KW 8/23/18 */\n",
       "\tdisplay: inline-block;\n",
       "  float: left;\n",
       "\t/* KW 8/23/18 margin:25px; */\n",
       "  margin-left: 20px; /* KW 8/23/18 */\n",
       "  margin-top: -7px; /* KW 8/23/18 */\n",
       "  filter: invert(100%);\n",
       "}\n",
       "\n",
       ".title-area{\n",
       "  /* KW 8/23/18 height: 140px; */\n",
       "\theight: 50px; /* KW 8/23/18 */\n",
       "\t/* KW 8/23/18 padding:20px */\n",
       "\tpadding:15px /* KW 8/23/18 */\n",
       "}\n",
       "\n",
       ".header-full-width .site-container, .site-container {\n",
       "  /* KW 8/23/18 padding-top: 140px; */\n",
       "    padding-top: 50px; /* KW 8/23/18 */\n",
       "}\n",
       "\n",
       "@media(max-width:768px){\n",
       "\t#logoTxt {\n",
       "    margin: 23px;\n",
       "    filter: invert(100%);\n",
       "    zoom: 0.8;\n",
       "}\n",
       "\t\n",
       "}\n",
       "\n",
       "@media(max-width:480px){\n",
       "\t#logoTxt {\n",
       "    display: inline-block;\n",
       "    float: left;\n",
       "    margin: 23px;\n",
       "    filter: invert(100%);\n",
       "    zoom: 0.3;\n",
       "}\n",
       "\t#logo {\n",
       "    width: 100px;\n",
       "    display: inline-block;\n",
       "    float: left;\n",
       "    zoom: 0.4;\n",
       "}\n",
       "\t.title-area{\n",
       "\theight: 100px;\n",
       "\tpadding:20px\n",
       "}\n",
       "\n",
       ".header-full-width .site-container, .site-container {\n",
       "    padding-top: 0;\n",
       "}\n",
       "\t\n",
       "}\t\t\t</style>\n",
       "\t\t</head>\n",
       "<body class=\"post-template-default single single-post postid-55281 single-format-standard header-full-width content-sidebar genesis-breadcrumbs-visible genesis-footer-widgets-visible agency-pro-blue\"><header class=\"site-header\"><div class=\"wrap\"><div class=\"title-area\"><p class=\"site-title\"><a href=\"http://carsalesbase.com/\">carsalesbase.com</a></p></div></div></header><div class=\"site-container\"><nav class=\"nav-primary\" aria-label=\"Main\"><div class=\"wrap\"><ul id=\"menu-top-menu\" class=\"menu genesis-nav-menu menu-primary\"><li id=\"menu-item-26700\" class=\"menu-item menu-item-type-custom menu-item-object-custom menu-item-home menu-item-26700\"><a href=\"http://carsalesbase.com/\"><span >Home</span></a></li>\n",
       "<li id=\"menu-item-4562\" class=\"menu-item menu-item-type-taxonomy menu-item-object-category menu-item-has-children menu-item-4562\"><a href=\"http://carsalesbase.com/category/car-sales-europe/car-sales-segments/\"><span >Europe sales</span></a>\n",
       "<ul class=\"sub-menu\">\n",
       "\t<li id=\"menu-item-4567\" class=\"menu-item menu-item-type-taxonomy menu-item-object-category menu-item-4567\"><a href=\"http://carsalesbase.com/category/car-sales-europe/car-sales-segments/minicar-segment/\"><span >Minicar segment</span></a></li>\n",
       "\t<li id=\"menu-item-4569\" class=\"menu-item menu-item-type-taxonomy menu-item-object-category menu-item-4569\"><a href=\"http://carsalesbase.com/category/car-sales-europe/car-sales-segments/subcompact-segment/\"><span >Subcompact car segment</span></a></li>\n",
       "\t<li id=\"menu-item-35525\" class=\"menu-item menu-item-type-taxonomy menu-item-object-category menu-item-35525\"><a href=\"http://carsalesbase.com/category/car-sales-europe/car-sales-segments/compact-segment/\"><span >Compact car segment</span></a></li>\n",
       "\t<li id=\"menu-item-4565\" class=\"menu-item menu-item-type-taxonomy menu-item-object-category menu-item-4565\"><a href=\"http://carsalesbase.com/category/car-sales-europe/car-sales-segments/midsize-segment/\"><span >Midsized car segment</span></a></li>\n",
       "\t<li id=\"menu-item-4568\" class=\"menu-item menu-item-type-taxonomy menu-item-object-category menu-item-4568\"><a href=\"http://carsalesbase.com/category/car-sales-europe/car-sales-segments/small-mpv-segment/\"><span >Small MPV segment</span></a></li>\n",
       "\t<li id=\"menu-item-4566\" class=\"menu-item menu-item-type-taxonomy menu-item-object-category menu-item-4566\"><a href=\"http://carsalesbase.com/category/car-sales-europe/car-sales-segments/midsized-mpv-segment/\"><span >Midsized MPV segment</span></a></li>\n",
       "\t<li id=\"menu-item-4564\" class=\"menu-item menu-item-type-taxonomy menu-item-object-category menu-item-4564\"><a href=\"http://carsalesbase.com/category/car-sales-europe/car-sales-segments/large-mpv-segment/\"><span >Large MPV segment</span></a></li>\n",
       "\t<li id=\"menu-item-4580\" class=\"menu-item menu-item-type-taxonomy menu-item-object-category menu-item-4580\"><a href=\"http://carsalesbase.com/category/car-sales-europe/car-sales-segments/small-suv-segment/\"><span >Small SUV segment</span></a></li>\n",
       "\t<li id=\"menu-item-4573\" class=\"menu-item menu-item-type-taxonomy menu-item-object-category menu-item-4573\"><a href=\"http://carsalesbase.com/category/car-sales-europe/car-sales-segments/midsized-suv-segment/\"><span >Midsized SUV segment</span></a></li>\n",
       "\t<li id=\"menu-item-4571\" class=\"menu-item menu-item-type-taxonomy menu-item-object-category menu-item-4571\"><a href=\"http://carsalesbase.com/category/car-sales-europe/car-sales-segments/large-suv-segment/\"><span >Large SUV segment</span></a></li>\n",
       "\t<li id=\"menu-item-12270\" class=\"menu-item menu-item-type-taxonomy menu-item-object-category menu-item-12270\"><a href=\"http://carsalesbase.com/category/car-sales-europe/car-sales-segments/ev-segment/\"><span >EV segment</span></a></li>\n",
       "\t<li id=\"menu-item-4575\" class=\"menu-item menu-item-type-taxonomy menu-item-object-category menu-item-4575\"><a href=\"http://carsalesbase.com/category/car-sales-europe/car-sales-segments/premium-compact-segment/\"><span >Premium compact car segment</span></a></li>\n",
       "\t<li id=\"menu-item-4579\" class=\"menu-item menu-item-type-taxonomy menu-item-object-category menu-item-4579\"><a href=\"http://carsalesbase.com/category/car-sales-europe/car-sales-segments/premium-midsize-segment/\"><span >Premium midsized car segment</span></a></li>\n",
       "\t<li id=\"menu-item-4577\" class=\"menu-item menu-item-type-taxonomy menu-item-object-category menu-item-4577\"><a href=\"http://carsalesbase.com/category/car-sales-europe/car-sales-segments/premium-large-car-segment/\"><span >Premium large car segment</span></a></li>\n",
       "\t<li id=\"menu-item-4572\" class=\"menu-item menu-item-type-taxonomy menu-item-object-category menu-item-4572\"><a href=\"http://carsalesbase.com/category/car-sales-europe/car-sales-segments/limousine-segment/\"><span >Limousine segment</span></a></li>\n",
       "\t<li id=\"menu-item-4576\" class=\"menu-item menu-item-type-taxonomy menu-item-object-category menu-item-4576\"><a href=\"http://carsalesbase.com/category/car-sales-europe/car-sales-segments/premium-compact-suv-segment/\"><span >Premium midsized and compact SUV segment</span></a></li>\n",
       "\t<li id=\"menu-item-4578\" class=\"menu-item menu-item-type-taxonomy menu-item-object-category menu-item-4578\"><a href=\"http://carsalesbase.com/category/car-sales-europe/car-sales-segments/premium-large-suv-segment/\"><span >Premium large SUV segment</span></a></li>\n",
       "\t<li id=\"menu-item-12269\" class=\"menu-item menu-item-type-taxonomy menu-item-object-category menu-item-12269\"><a href=\"http://carsalesbase.com/category/car-sales-europe/car-sales-segments/coupe-convertible-segment/\"><span >Coupe and Convertible segments</span></a></li>\n",
       "\t<li id=\"menu-item-4570\" class=\"menu-item menu-item-type-taxonomy menu-item-object-category menu-item-4570\"><a href=\"http://carsalesbase.com/category/car-sales-europe/car-sales-segments/exotic-car-segment/\"><span >Exotic car segment</span></a></li>\n",
       "\t<li id=\"menu-item-4574\" class=\"menu-item menu-item-type-taxonomy menu-item-object-category menu-item-4574\"><a href=\"http://carsalesbase.com/category/car-sales-europe/car-sales-segments/passenger-van-segment/\"><span >Passenger van segment</span></a></li>\n",
       "\t<li id=\"menu-item-36944\" class=\"menu-item menu-item-type-taxonomy menu-item-object-category menu-item-36944\"><a href=\"http://carsalesbase.com/category/car-sales-europe/car-sales-segments/lcv-sales/\"><span >LCV sales</span></a></li>\n",
       "</ul>\n",
       "</li>\n",
       "<li id=\"menu-item-26701\" class=\"menu-item menu-item-type-taxonomy menu-item-object-category current-post-ancestor current-menu-parent current-post-parent menu-item-has-children menu-item-26701\"><a href=\"http://carsalesbase.com/category/car-sales-us/\"><span >US sales</span></a>\n",
       "<ul class=\"sub-menu\">\n",
       "\t<li id=\"menu-item-29061\" class=\"menu-item menu-item-type-taxonomy menu-item-object-category menu-item-29061\"><a href=\"http://carsalesbase.com/category/car-sales-us/car-sales-segments-us/minicar-segment-us/\"><span >US Minicar segment</span></a></li>\n",
       "\t<li id=\"menu-item-29071\" class=\"menu-item menu-item-type-taxonomy menu-item-object-category menu-item-29071\"><a href=\"http://carsalesbase.com/category/car-sales-us/car-sales-segments-us/subcompact-segment-us/\"><span >US Subcompact car segment</span></a></li>\n",
       "\t<li id=\"menu-item-29051\" class=\"menu-item menu-item-type-taxonomy menu-item-object-category menu-item-29051\"><a href=\"http://carsalesbase.com/category/car-sales-us/car-sales-segments-us/compact-segment-us/\"><span >US Compact car segment</span></a></li>\n",
       "\t<li id=\"menu-item-29059\" class=\"menu-item menu-item-type-taxonomy menu-item-object-category menu-item-29059\"><a href=\"http://carsalesbase.com/category/car-sales-us/car-sales-segments-us/midsized-segment-us/\"><span >US Mid-sized car segment</span></a></li>\n",
       "\t<li id=\"menu-item-29055\" class=\"menu-item menu-item-type-taxonomy menu-item-object-category menu-item-29055\"><a href=\"http://carsalesbase.com/category/car-sales-us/car-sales-segments-us/large-segment-us/\"><span >US Large car segment</span></a></li>\n",
       "\t<li id=\"menu-item-29062\" class=\"menu-item menu-item-type-taxonomy menu-item-object-category menu-item-29062\"><a href=\"http://carsalesbase.com/category/car-sales-us/car-sales-segments-us/minivan-segment-us/\"><span >US Minivan segment</span></a></li>\n",
       "\t<li id=\"menu-item-29053\" class=\"menu-item menu-item-type-taxonomy menu-item-object-category menu-item-29053\"><a href=\"http://carsalesbase.com/category/car-sales-us/car-sales-segments-us/compact-suv-segment-us/\"><span >US Compact SUV segment</span></a></li>\n",
       "\t<li id=\"menu-item-29072\" class=\"menu-item menu-item-type-taxonomy menu-item-object-category menu-item-29072\"><a href=\"http://carsalesbase.com/category/car-sales-us/car-sales-segments-us/subcompact-suv-segment-us/\"><span >US Subcompact SUV segment</span></a></li>\n",
       "\t<li id=\"menu-item-29060\" class=\"menu-item menu-item-type-taxonomy menu-item-object-category menu-item-29060\"><a href=\"http://carsalesbase.com/category/car-sales-us/car-sales-segments-us/midsized-suv-segment-us/\"><span >US Mid-sized SUV segment</span></a></li>\n",
       "\t<li id=\"menu-item-29057\" class=\"menu-item menu-item-type-taxonomy menu-item-object-category menu-item-29057\"><a href=\"http://carsalesbase.com/category/car-sales-us/car-sales-segments-us/large-suv-segment-us/\"><span >US Large SUV segment</span></a></li>\n",
       "\t<li id=\"menu-item-29070\" class=\"menu-item menu-item-type-taxonomy menu-item-object-category menu-item-29070\"><a href=\"http://carsalesbase.com/category/car-sales-us/car-sales-segments-us/small-pickup-segment-us/\"><span >US Small pickup segment</span></a></li>\n",
       "\t<li id=\"menu-item-29063\" class=\"menu-item menu-item-type-taxonomy menu-item-object-category menu-item-29063\"><a href=\"http://carsalesbase.com/category/car-sales-us/car-sales-segments-us/pickup-segment-us/\"><span >US Pickup segment</span></a></li>\n",
       "\t<li id=\"menu-item-29064\" class=\"menu-item menu-item-type-taxonomy menu-item-object-category menu-item-29064\"><a href=\"http://carsalesbase.com/category/car-sales-us/car-sales-segments-us/premium-compact-segment-us/\"><span >US Premium compact car segment</span></a></li>\n",
       "\t<li id=\"menu-item-29068\" class=\"menu-item menu-item-type-taxonomy menu-item-object-category menu-item-29068\"><a href=\"http://carsalesbase.com/category/car-sales-us/car-sales-segments-us/premium-midsized-segment-us/\"><span >US Premium mid-sized car segment</span></a></li>\n",
       "\t<li id=\"menu-item-29066\" class=\"menu-item menu-item-type-taxonomy menu-item-object-category menu-item-29066\"><a href=\"http://carsalesbase.com/category/car-sales-us/car-sales-segments-us/premium-large-segment-us/\"><span >US Premium large car segment</span></a></li>\n",
       "\t<li id=\"menu-item-29058\" class=\"menu-item menu-item-type-taxonomy menu-item-object-category menu-item-29058\"><a href=\"http://carsalesbase.com/category/car-sales-us/car-sales-segments-us/limousine-segment-us/\"><span >US Limousine segment</span></a></li>\n",
       "\t<li id=\"menu-item-29065\" class=\"menu-item menu-item-type-taxonomy menu-item-object-category menu-item-29065\"><a href=\"http://carsalesbase.com/category/car-sales-us/car-sales-segments-us/premium-compact-suv-segment-us/\"><span >US Premium compact SUV segment</span></a></li>\n",
       "\t<li id=\"menu-item-29069\" class=\"menu-item menu-item-type-taxonomy menu-item-object-category menu-item-29069\"><a href=\"http://carsalesbase.com/category/car-sales-us/car-sales-segments-us/premium-midsized-suv-segment-us/\"><span >US Premium mid-sized SUV segment</span></a></li>\n",
       "\t<li id=\"menu-item-29067\" class=\"menu-item menu-item-type-taxonomy menu-item-object-category menu-item-29067\"><a href=\"http://carsalesbase.com/category/car-sales-us/car-sales-segments-us/premium-large-suv-segment-us/\"><span >US Premium large SUV segment</span></a></li>\n",
       "\t<li id=\"menu-item-29050\" class=\"menu-item menu-item-type-taxonomy menu-item-object-category menu-item-29050\"><a href=\"http://carsalesbase.com/category/car-sales-us/car-sales-segments-us/commercial-van-segment-us/\"><span >US Commercial van segment</span></a></li>\n",
       "\t<li id=\"menu-item-29049\" class=\"menu-item menu-item-type-taxonomy menu-item-object-category menu-item-29049\"><a href=\"http://carsalesbase.com/category/car-sales-us/car-sales-segments-us/ev-segment-us/\"><span >EV &#038; PHEV segment</span></a></li>\n",
       "\t<li id=\"menu-item-29052\" class=\"menu-item menu-item-type-taxonomy menu-item-object-category menu-item-29052\"><a href=\"http://carsalesbase.com/category/car-sales-us/car-sales-segments-us/compact-sportscar-segment-us/\"><span >Sports Car Compact segment</span></a></li>\n",
       "\t<li id=\"menu-item-29056\" class=\"menu-item menu-item-type-taxonomy menu-item-object-category menu-item-29056\"><a href=\"http://carsalesbase.com/category/car-sales-us/car-sales-segments-us/large-sportscar-segment-us/\"><span >Sports Car Large segment</span></a></li>\n",
       "\t<li id=\"menu-item-29054\" class=\"menu-item menu-item-type-taxonomy menu-item-object-category menu-item-29054\"><a href=\"http://carsalesbase.com/category/car-sales-us/car-sales-segments-us/exotic-car-segment-us/\"><span >US Exotic car segment</span></a></li>\n",
       "</ul>\n",
       "</li>\n",
       "<li id=\"menu-item-22405\" class=\"menu-item menu-item-type-post_type menu-item-object-page menu-item-has-children menu-item-22405\"><a href=\"http://carsalesbase.com/china-car-sales-data/\"><span >China sales</span></a>\n",
       "<ul class=\"sub-menu\">\n",
       "\t<li id=\"menu-item-31068\" class=\"menu-item menu-item-type-taxonomy menu-item-object-category menu-item-31068\"><a href=\"http://carsalesbase.com/category/car-sales-china/\"><span >China monthly reports</span></a></li>\n",
       "</ul>\n",
       "</li>\n",
       "<li id=\"menu-item-44201\" class=\"menu-item menu-item-type-post_type menu-item-object-page menu-item-44201\"><a href=\"http://carsalesbase.com/total-market-sales-country/\"><span >Countries</span></a></li>\n",
       "<li id=\"menu-item-47199\" class=\"menu-item menu-item-type-post_type menu-item-object-page menu-item-47199\"><a href=\"http://carsalesbase.com/car-sales-comparison/\"><span >Comparison tool</span></a></li>\n",
       "<li id=\"menu-item-12273\" class=\"menu-item menu-item-type-taxonomy menu-item-object-category menu-item-has-children menu-item-12273\"><a href=\"http://carsalesbase.com/category/fun-stuff/\"><span >Fun stuff</span></a>\n",
       "<ul class=\"sub-menu\">\n",
       "\t<li id=\"menu-item-38034\" class=\"menu-item menu-item-type-taxonomy menu-item-object-category menu-item-38034\"><a href=\"http://carsalesbase.com/category/fun-stuff/polls/\"><span >Polls</span></a></li>\n",
       "\t<li id=\"menu-item-29862\" class=\"menu-item menu-item-type-taxonomy menu-item-object-category menu-item-29862\"><a href=\"http://carsalesbase.com/category/fun-stuff/lookalike/\"><span >Look-a-like</span></a></li>\n",
       "</ul>\n",
       "</li>\n",
       "<li id=\"menu-item-31\" class=\"menu-item menu-item-type-taxonomy menu-item-object-category menu-item-31\"><a href=\"http://carsalesbase.com/category/opinion/\"><span >Opinion</span></a></li>\n",
       "<li id=\"menu-item-405\" class=\"menu-item menu-item-type-taxonomy menu-item-object-category menu-item-405\"><a href=\"http://carsalesbase.com/category/industry/\"><span >Industry</span></a></li>\n",
       "<li id=\"menu-item-12274\" class=\"menu-item menu-item-type-taxonomy menu-item-object-category menu-item-12274\"><a href=\"http://carsalesbase.com/category/news/\"><span >News</span></a></li>\n",
       "<li id=\"menu-item-19012\" class=\"menu-item menu-item-type-post_type menu-item-object-page menu-item-19012\"><a href=\"http://carsalesbase.com/about/\"><span >About</span></a></li>\n",
       "</ul></div></nav><div class=\"site-inner\"><script async src=\"//pagead2.googlesyndication.com/pagead/js/adsbygoogle.js\"></script>\r\n",
       "<!-- Leaderboard groot -->\r\n",
       "<ins class=\"adsbygoogle\"\r\n",
       "     style=\"display:inline-block;width:970px;height:90px\"\r\n",
       "     data-ad-client=\"ca-pub-9301392272469332\"\r\n",
       "     data-ad-slot=\"3132324795\"></ins>\r\n",
       "<script>\r\n",
       "(adsbygoogle = window.adsbygoogle || []).push({});\r\n",
       "</script><div class=\"content-sidebar-wrap\"><main class=\"content\"><div class=\"breadcrumb\"><span><span><a href=\"http://carsalesbase.com/\" >Home</a> » <strong class=\"breadcrumb_last\" aria-current=\"page\">US car sales analysis 2019 &#8211; brands</strong></span></span></div><article class=\"post-55281 post type-post status-publish format-standard has-post-thumbnail category-car-sales-us tag-2014 tag-sales tag-us entry\"><header class=\"entry-header\"><h1 class=\"entry-title\">US car sales analysis 2019 &#8211; brands</h1>\n",
       "<p class=\"entry-meta\"><time class=\"entry-time\">January 9, 2020</time> by <span class=\"entry-author\"><a href=\"http://carsalesbase.com/author/leftlane/\" class=\"entry-author-link\" rel=\"author\"><span class=\"entry-author-name\">Bart Demandt</span></a></span> <span class=\"entry-comments-link\"><a href=\"http://carsalesbase.com/us-car-sales-analysis-2019-brands/#comments\">14 Comments</a></span> </p></header><div class=\"entry-content\"><!-- Social Ring Buttons Start --><div class=\"social-ring\">\n",
       "<div class=\"social-ring-button\"><a rel=\"nofollow\" href=\"http://twitter.com/share\" lang=\"en\" data-url=\"http://carsalesbase.com/us-car-sales-analysis-2019-brands/\" data-text=\"US car sales analysis 2019 - brands\" data-count=\"horizontal\" class=\"sr-twitter-button twitter-share-button\"></a></div>\n",
       "<div class=\"social-ring-button\"><a href=\"https://www.facebook.com/sharer/sharer.php?s=100&p[url]=http://carsalesbase.com/us-car-sales-analysis-2019-brands/\" target=\"_blank\"\n",
       "\t\t\t\t\t\t\tonclick=\"window.open('https://www.facebook.com/sharer/sharer.php?s=100&p[url]=http://carsalesbase.com/us-car-sales-analysis-2019-brands/', 'newwindow', 'width=600, height=450'); return false;\" >\n",
       "\t\t\t\t\t\t\t<img style=\"display:block; background: none; padding: 0px; border:0px;\" src=\"http://carsalesbase.com/wp-content/plugins/wordpress-social-ring/includes/../admin/images/sr-fb-share.png\" alt=\"Share\" />\n",
       "\t\t\t\t\t\t</a></div>\n",
       "<div class=\"social-ring-button\"><fb:like href=\"http://carsalesbase.com/us-car-sales-analysis-2019-brands/\" showfaces=\"false\" layout=\"button_count\" action=\"like\"></fb:like></div>\n",
       "<div class=\"social-ring-button\"><div class=\"g-plusone\" data-href=\"http://carsalesbase.com/us-car-sales-analysis-2019-brands/\" data-size=\"medium\" ></div></div>\n",
       "<div class=\"social-ring-button\"><a rel=\"nofollow\" href=\"http://pinterest.com/pin/create/button/?url=http%3A%2F%2Fcarsalesbase.com%2Fus-car-sales-analysis-2019-brands%2F&media=http%3A%2F%2Fcarsalesbase.com%2Fwp-content%2Fuploads%2F2019%2F07%2F2019-ram-heavy-duty-lineup-min.jpg&description=US+car+sales+analysis+2019+-+brands\" class=\"pin-it-button\"count-layout=\"horizontal\"></a></div>\n",
       "<div class=\"social-ring-button\"><script src=\"//platform.linkedin.com/in.js\" type=\"text/javascript\"></script><script type=\"IN/Share\" data-url=\"http://carsalesbase.com/us-car-sales-analysis-2019-brands/\" data-counter=\"right\" ></script></div>\n",
       "</div><!-- Social Ring Buttons End -->\n",
       "<p><img class=\"aligncenter size-full wp-image-55956\" src=\"http://carsalesbase.com/wp-content/uploads/2020/01/US-car_sales_figures-2019.jpg?timestamp=1579617251\" alt=\"\" width=\"1200\" height=\"409\" srcset=\"http://carsalesbase.com/wp-content/uploads/2020/01/US-car_sales_figures-2019.jpg 1200w, http://carsalesbase.com/wp-content/uploads/2020/01/US-car_sales_figures-2019-400x136.jpg 400w, http://carsalesbase.com/wp-content/uploads/2020/01/US-car_sales_figures-2019-500x170.jpg 500w, http://carsalesbase.com/wp-content/uploads/2020/01/US-car_sales_figures-2019-768x262.jpg 768w\" sizes=\"(max-width: 1200px) 100vw, 1200px\" /></p>\n",
       "<p>A lot of analysts had predicted US car sales to dip below 17 million in 2019, but the market proved stronger than expected and has scored a fifth consecutive year above that symbolic 17 million mark, despite a 1.2% drop in sales. As has been the trend in recent years, sales of car models (sedans, hatchbacks, wagons, coupes and convertibles) declined, as they showed an 11.7% drop to a record low share of 27.8% of the total market, while truck sales (crossovers, SUVs, pickups, minivans and vans) were up 2.7% to a record 72.2% of the market. Japanese brands were the biggest losers at -2.9% but still hold 37.2% combined market share, the lowest it has been since 2015. American brands also struggled (-2.1%) to a share of 44.9% the third-ever lowest share after 2012 and 2017. European brands were up 1.2% to a share of 9.6%, the highest since 2013. Korean brands were the big winners in 2019, gaining 4.6% to a market share of 7.8%, the highest since 2016 but still a full percentage point below its peak in 2011.<span id=\"more-55281\"></span></p>\n",
       "<h2>2019 Manufacturers</h2>\n",
       "<p><img class=\"alignright size-medium wp-image-45134\" src=\"http://carsalesbase.com/wp-content/uploads/2017/04/Honda_CRV-2017-US-car-sales-statistics-400x267.png\" alt=\"Honda_CRV-2017-US-car-sales-statistics\" width=\"400\" height=\"267\" srcset=\"http://carsalesbase.com/wp-content/uploads/2017/04/Honda_CRV-2017-US-car-sales-statistics-400x267.png 400w, http://carsalesbase.com/wp-content/uploads/2017/04/Honda_CRV-2017-US-car-sales-statistics-500x333.png 500w, http://carsalesbase.com/wp-content/uploads/2017/04/Honda_CRV-2017-US-car-sales-statistics.png 600w\" sizes=\"(max-width: 400px) 100vw, 400px\" />Among manufacturers, General Motors loses 0.1 percentage point of market share to 16.9%, while Toyota Motor N.A. closes the gap to Ford Motor Company to less than 25,000 sales as the latter loses 0.2 percentage points of share, as both now have about 14% share of the US market. FCA US holds a stable 12.9% share, while American Honda surpasses Nissan-Mitsubishi as the latter loses 0.7 percentage points of share and is the biggest loser among manufacturers with a 9% decline in sales. Hyundai-Kia (including Genesis) gains half a percentage point. BMW of North America (including Mini and Rolls Royce) distances Mercedes-Benz USA (including Smart and M-B Vans) as the gap of just 573 sales of last year is now almost 4,000 sales. Biggest winner among manufacturers is Volvo Cars USA with a gain of over 10%.</p>\n",
       "<h3>2019 manufacturers ranking</h3>\n",
       "<table class=\"aligncenter\" style=\"border-collapse: collapse; width: 100%;\" width=\"100%\" cellspacing=\"0\" cellpadding=\"0\" border=\"1\">\n",
       "<colgroup>\n",
       "<col style=\"width: 18,75pt;\" width=\"25\">\n",
       "<col style=\"width: 79,50pt;\" width=\"106\">\n",
       "<col style=\"width: 51,00pt;\" width=\"68\" span=\"2\">\n",
       "<col style=\"width: 45,00pt;\" width=\"60\">\n",
       "<col style=\"width: 57,75pt;\" width=\"77\">\n",
       "<col style=\"width: 45,00pt;\" width=\"60\"> </colgroup>\n",
       "<tbody>\n",
       "<tr style=\"height: 15,00pt;\">\n",
       "<td class=\"et3\" style=\"height: 22px;\" width=\"25\" height=\"20\">&nbsp;</td>\n",
       "<td class=\"et6\" style=\"height: 22px;\" width=\"212\"><strong>Manufacturer</strong></td>\n",
       "<td class=\"et6\" style=\"text-align: right; height: 22px;\" width=\"68\" align=\"right\"><strong>2019</strong></td>\n",
       "<td class=\"et6\" style=\"text-align: right; height: 22px;\" width=\"68\" align=\"right\"><strong>2018</strong></td>\n",
       "<td class=\"et6\" style=\"text-align: right; height: 22px;\" width=\"60\"><strong>Change</strong></td>\n",
       "<td class=\"et6\" style=\"text-align: right; height: 22px;\" width=\"77\"><strong>2019 Share</strong></td>\n",
       "<td class=\"et6\" style=\"text-align: right; height: 22px;\" width=\"60\"><strong>2018 Share</strong></td>\n",
       "</tr>\n",
       "<tr style=\"height: 15,00pt;\">\n",
       "<td class=\"et3\" style=\"height: 22px;\" height=\"20\" align=\"right\">1</td>\n",
       "<td class=\"et3\" style=\"height: 22px;\">General Motors</td>\n",
       "<td class=\"et5\" style=\"text-align: right; height: 22px;\">2,886,904</td>\n",
       "<td class=\"et5\" style=\"text-align: right; height: 22px;\">2,954,037</td>\n",
       "<td class=\"et5\" style=\"text-align: right; height: 22px;\">-2.3%</td>\n",
       "<td class=\"et7\" style=\"text-align: right; height: 22px;\">16,9%</td>\n",
       "<td class=\"et7\" style=\"text-align: right; height: 22px;\">17,0%</td>\n",
       "</tr>\n",
       "<tr style=\"height: 15,00pt;\">\n",
       "<td class=\"et3\" style=\"height: 22px;\" height=\"20\" align=\"right\">2</td>\n",
       "<td class=\"et3\" style=\"height: 22px;\">Ford Motor Co.</td>\n",
       "<td class=\"et5\" style=\"text-align: right; height: 22px;\">2,406,188</td>\n",
       "<td class=\"et5\" style=\"text-align: right; height: 22px;\">2,485,222</td>\n",
       "<td class=\"et5\" style=\"text-align: right; height: 22px;\">-3.2%</td>\n",
       "<td class=\"et7\" style=\"text-align: right; height: 22px;\">14,1%</td>\n",
       "<td class=\"et7\" style=\"text-align: right; height: 22px;\">14,3%</td>\n",
       "</tr>\n",
       "<tr style=\"height: 15,00pt;\">\n",
       "<td class=\"et3\" style=\"height: 22px;\" height=\"20\" align=\"right\">3</td>\n",
       "<td class=\"et3\" style=\"height: 22px;\">Toyota Motor N.A.</td>\n",
       "<td class=\"et5\" style=\"text-align: right; height: 22px;\">2,383,304</td>\n",
       "<td class=\"et5\" style=\"text-align: right; height: 22px;\">2,426,507</td>\n",
       "<td class=\"et5\" style=\"text-align: right; height: 22px;\">-1.8%</td>\n",
       "<td class=\"et7\" style=\"text-align: right; height: 22px;\">14,0%</td>\n",
       "<td class=\"et7\" style=\"text-align: right; height: 22px;\">14,0%</td>\n",
       "</tr>\n",
       "<tr style=\"height: 15,00pt;\">\n",
       "<td class=\"et3\" style=\"height: 22px;\" height=\"20\" align=\"right\">4</td>\n",
       "<td class=\"et3\" style=\"height: 22px;\">FCA US</td>\n",
       "<td class=\"et5\" style=\"text-align: right; height: 22px;\">2,203,663</td>\n",
       "<td class=\"et5\" style=\"text-align: right; height: 22px;\">2,235,204</td>\n",
       "<td class=\"et5\" style=\"text-align: right; height: 22px;\">-1.4%</td>\n",
       "<td class=\"et7\" style=\"text-align: right; height: 22px;\">12,9%</td>\n",
       "<td class=\"et7\" style=\"text-align: right; height: 22px;\">12,9%</td>\n",
       "</tr>\n",
       "<tr style=\"height: 15,00pt;\">\n",
       "<td class=\"et3\" style=\"height: 22px;\" height=\"20\" align=\"right\">5</td>\n",
       "<td class=\"et3\" style=\"height: 22px;\">American Honda</td>\n",
       "<td class=\"et5\" style=\"text-align: right; height: 22px;\">1,608,170</td>\n",
       "<td class=\"et5\" style=\"text-align: right; height: 22px;\">1,604,828</td>\n",
       "<td class=\"et5\" style=\"text-align: right; height: 22px;\">0.2%</td>\n",
       "<td class=\"et7\" style=\"text-align: right; height: 22px;\">9,4%</td>\n",
       "<td class=\"et7\" style=\"text-align: right; height: 22px;\">9,3%</td>\n",
       "</tr>\n",
       "<tr style=\"height: 15,00pt;\">\n",
       "<td class=\"et3\" style=\"height: 22px;\" height=\"20\" align=\"right\">6</td>\n",
       "<td class=\"et3\" style=\"height: 22px;\">Nissan-Mitsubishi</td>\n",
       "<td class=\"et5\" style=\"text-align: right; height: 22px;\">1,466,727</td>\n",
       "<td class=\"et5\" style=\"text-align: right; height: 22px;\">1,611,951</td>\n",
       "<td class=\"et5\" style=\"text-align: right; height: 22px;\">-9.0%</td>\n",
       "<td class=\"et7\" style=\"text-align: right; height: 22px;\">8,6%</td>\n",
       "<td class=\"et7\" style=\"text-align: right; height: 22px;\">9,3%</td>\n",
       "</tr>\n",
       "<tr style=\"height: 15,00pt;\">\n",
       "<td class=\"et3\" style=\"height: 22px;\" height=\"20\" align=\"right\">7</td>\n",
       "<td class=\"et3\" style=\"height: 22px;\">Hyundai-Kia</td>\n",
       "<td class=\"et5\" style=\"text-align: right; height: 22px;\">1,325,342</td>\n",
       "<td class=\"et5\" style=\"text-align: right; height: 22px;\">1,267,620</td>\n",
       "<td class=\"et5\" style=\"text-align: right; height: 22px;\">4.6%</td>\n",
       "<td class=\"et7\" style=\"text-align: right; height: 22px;\">7,8%</td>\n",
       "<td class=\"et7\" style=\"text-align: right; height: 22px;\">7,3%</td>\n",
       "</tr>\n",
       "<tr style=\"height: 15,00pt;\">\n",
       "<td class=\"et3\" style=\"height: 22px;\" height=\"20\" align=\"right\">8</td>\n",
       "<td class=\"et3\" style=\"height: 22px;\">Subaru of America</td>\n",
       "<td class=\"et8\" style=\"text-align: right; height: 22px;\">700,117</td>\n",
       "<td class=\"et8\" style=\"text-align: right; height: 22px;\">680,135</td>\n",
       "<td class=\"et5\" style=\"text-align: right; height: 22px;\">2.9%</td>\n",
       "<td class=\"et7\" style=\"text-align: right; height: 22px;\">4,1%</td>\n",
       "<td class=\"et7\" style=\"text-align: right; height: 22px;\">3,9%</td>\n",
       "</tr>\n",
       "<tr style=\"height: 15,00pt;\">\n",
       "<td class=\"et3\" style=\"height: 22px;\" height=\"20\" align=\"right\">9</td>\n",
       "<td class=\"et3\" style=\"height: 22px;\">VW Group of America</td>\n",
       "<td class=\"et8\" style=\"text-align: right; height: 22px;\">653,813</td>\n",
       "<td class=\"et8\" style=\"text-align: right; height: 22px;\">638,254</td>\n",
       "<td class=\"et5\" style=\"text-align: right; height: 22px;\">2.4%</td>\n",
       "<td class=\"et7\" style=\"text-align: right; height: 22px;\">3,8%</td>\n",
       "<td class=\"et7\" style=\"text-align: right; height: 22px;\">3,7%</td>\n",
       "</tr>\n",
       "<tr style=\"height: 15,00pt;\">\n",
       "<td class=\"et3\" style=\"height: 22px;\" height=\"20\" align=\"right\">10</td>\n",
       "<td class=\"et3\" style=\"height: 22px;\">BMW of N.A.</td>\n",
       "<td class=\"et8\" style=\"text-align: right; height: 22px;\">362,238</td>\n",
       "<td class=\"et8\" style=\"text-align: right; height: 22px;\">355,993</td>\n",
       "<td class=\"et5\" style=\"text-align: right; height: 22px;\">1.8%</td>\n",
       "<td class=\"et7\" style=\"text-align: right; height: 22px;\">2,1%</td>\n",
       "<td class=\"et7\" style=\"text-align: right; height: 22px;\">2,1%</td>\n",
       "</tr>\n",
       "<tr style=\"height: 15,00pt;\">\n",
       "<td class=\"et3\" style=\"height: 22px;\" height=\"20\" align=\"right\">11</td>\n",
       "<td class=\"et3\" style=\"height: 22px;\">Mercedes-Benz USA</td>\n",
       "<td class=\"et8\" style=\"text-align: right; height: 22px;\">358,409</td>\n",
       "<td class=\"et8\" style=\"text-align: right; height: 22px;\">355,420</td>\n",
       "<td class=\"et5\" style=\"text-align: right; height: 22px;\">0.8%</td>\n",
       "<td class=\"et7\" style=\"text-align: right; height: 22px;\">2,1%</td>\n",
       "<td class=\"et7\" style=\"text-align: right; height: 22px;\">2,1%</td>\n",
       "</tr>\n",
       "<tr style=\"height: 15,00pt;\">\n",
       "<td class=\"et3\" style=\"height: 22px;\" height=\"20\" align=\"right\">12</td>\n",
       "<td class=\"et3\" style=\"height: 22px;\">Mazda N.A.</td>\n",
       "<td class=\"et8\" style=\"text-align: right; height: 22px;\">278,552</td>\n",
       "<td class=\"et8\" style=\"text-align: right; height: 22px;\">300,325</td>\n",
       "<td class=\"et5\" style=\"text-align: right; height: 22px;\">-7.2%</td>\n",
       "<td class=\"et7\" style=\"text-align: right; height: 22px;\">1,6%</td>\n",
       "<td class=\"et7\" style=\"text-align: right; height: 22px;\">1,7%</td>\n",
       "</tr>\n",
       "<tr style=\"height: 15,00pt;\">\n",
       "<td class=\"et3\" style=\"height: 22px;\" height=\"20\" align=\"right\">13</td>\n",
       "<td class=\"et3\" style=\"height: 22px;\">Tesla Motors</td>\n",
       "<td class=\"et8\" style=\"text-align: right; height: 22px;\">192,250</td>\n",
       "<td class=\"et8\" style=\"text-align: right; height: 22px;\">191,627</td>\n",
       "<td class=\"et5\" style=\"text-align: right; height: 22px;\">0.3%</td>\n",
       "<td class=\"et7\" style=\"text-align: right; height: 22px;\">1,1%</td>\n",
       "<td class=\"et7\" style=\"text-align: right; height: 22px;\">1,1%</td>\n",
       "</tr>\n",
       "<tr style=\"height: 15,00pt;\">\n",
       "<td class=\"et3\" style=\"height: 22px;\" height=\"20\" align=\"right\">14</td>\n",
       "<td class=\"et3\" style=\"height: 22px;\">Jaguar Land Rover N.A.</td>\n",
       "<td class=\"et8\" style=\"text-align: right; height: 22px;\">125,787</td>\n",
       "<td class=\"et8\" style=\"text-align: right; height: 22px;\">122,626</td>\n",
       "<td class=\"et5\" style=\"text-align: right; height: 22px;\">2.6%</td>\n",
       "<td class=\"et7\" style=\"text-align: right; height: 22px;\">0,7%</td>\n",
       "<td class=\"et7\" style=\"text-align: right; height: 22px;\">0,7%</td>\n",
       "</tr>\n",
       "<tr style=\"height: 15,00pt;\">\n",
       "<td class=\"et3\" style=\"height: 22px;\" height=\"20\" align=\"right\">15</td>\n",
       "<td class=\"et3\" style=\"height: 22px;\">Volvo Cars USA</td>\n",
       "<td class=\"et8\" style=\"text-align: right; height: 22px;\">108,234</td>\n",
       "<td class=\"et8\" style=\"text-align: right; height: 22px;\">98,263</td>\n",
       "<td class=\"et5\" style=\"text-align: right; height: 22px;\">10.1%</td>\n",
       "<td class=\"et7\" style=\"text-align: right; height: 22px;\">0,6%</td>\n",
       "<td class=\"et7\" style=\"text-align: right; height: 22px;\">0,6%</td>\n",
       "</tr>\n",
       "</tbody>\n",
       "</table>\n",
       "<h2>2019 Brands</h2>\n",
       "<ul>\n",
       "<li><img class=\"alignright size-medium wp-image-50430\" src=\"http://carsalesbase.com/wp-content/uploads/2018/07/Subaru_Ascent-US-car-sales-statistics-400x267.jpg?timestamp=1579617251\" alt=\"Subaru_Ascent-US-car-sales-statistics\" width=\"400\" height=\"267\" srcset=\"http://carsalesbase.com/wp-content/uploads/2018/07/Subaru_Ascent-US-car-sales-statistics-400x267.jpg 400w, http://carsalesbase.com/wp-content/uploads/2018/07/Subaru_Ascent-US-car-sales-statistics-768x512.jpg 768w, http://carsalesbase.com/wp-content/uploads/2018/07/Subaru_Ascent-US-car-sales-statistics-500x333.jpg 500w, http://carsalesbase.com/wp-content/uploads/2018/07/Subaru_Ascent-US-car-sales-statistics.jpg 800w\" sizes=\"(max-width: 400px) 100vw, 400px\" />Honda is the only brand in the top-6 to improve thanks to a 0.3% gain, with Nissan as the biggest loser and Toyota as the least unfortunate of the losers. As a result, Toyota consolidates its #2 spot by expanding the gap to Chevrolet to more than 125,000 sales, while decreasing the gap to leader Ford to just over 200,000 sales. This is the 10th consecutive year Ford is on top of the brands ranking.</li>\n",
       "<li>Jeep is down 5.1% on its record year of 2018 and even dips just over 6,000 sales below 2017, its second-best year ever.</li>\n",
       "<li>RAM jumps 2 places past Subaru and Hyundai as it is the biggest winner in the brands top-30. Both RAM and Subaru score record sales, both crossing the 700,000 sales mark for the first time. Hyundai is below that mark for the third consecutive year after spending 2012-2016 above it. Back to Subaru and RAM for a moment: the Japanese brand has now smashed its annual US sales record for 11 consecutive year, while the American truck brand had also never crossed the 600,000 sales mark before.</li>\n",
       "<li>GMC enjoys its second-best ever sales volume, after teh 581,000 it sold in 2004.</li>\n",
       "<li>Volkswagen reclaims its position as the most popular German brand by leapfrogging Mercedes-Benz. VW also held this position from 2009 to 2014 and until 2004.</li>\n",
       "<li>When looking at luxury brands, BMW takes the crown back from Mercedes-Benz (excl. vans, which are not luxury vehicles), for the first time since 2015. Luxury brand #3 Lexus last held the first place in 2010. Audi has been one of the fastest growing luxury brand in the US in recent years, but its growth has stalled in 2019, keeping a gap of 100,000 sales to its German rivals. Cacillac closes the gap to Acura to just over 1,000 sales, while Infiniti is the biggest loser among luxury brands with a 21.1% drop in sales. It now has advantage of just 5,500 sales to Lincoln and 9,500 to Volvo.</li>\n",
       "</ul>\n",
       "<p><img class=\"aligncenter size-full wp-image-55958\" src=\"http://carsalesbase.com/wp-content/uploads/2020/01/USA-car_sales_figures-2019.jpg?timestamp=1579617251\" alt=\"\" width=\"1100\" height=\"414\" srcset=\"http://carsalesbase.com/wp-content/uploads/2020/01/USA-car_sales_figures-2019.jpg 1100w, http://carsalesbase.com/wp-content/uploads/2020/01/USA-car_sales_figures-2019-400x151.jpg 400w, http://carsalesbase.com/wp-content/uploads/2020/01/USA-car_sales_figures-2019-500x188.jpg 500w, http://carsalesbase.com/wp-content/uploads/2020/01/USA-car_sales_figures-2019-768x289.jpg 768w\" sizes=\"(max-width: 1100px) 100vw, 1100px\" /></p>\n",
       "<ul>\n",
       "<li>Among the smaller luxury brands, Genesis is finally gaining some traction, although I can&#8217;t believe they could be satisfied with the sales volume of its best seller G70 sports sedan. At least the brand now moves ahead of Alfa Romeo which is already in decline in its second full year on the market. Genesis still has to show a 50% growth rate before it can overtake Jaguar, and it will need some crossovers to achieve that. Jaguar&#8217;s dependence on crossovers peaked at over 85% in December 2019 as its sedans are struggling to sell in relevant numbers, especially the XF which was even outsold by the aging XJ sedan in all quarters except for the Q1.</li>\n",
       "<li>Mazda struggles with a 7.2% decline and drops one spot below Lexus, while Chrysler, now down to 2 nameplates, is the biggest loser in the top-30 and drops 2 places behind Acura and Cadillac.</li>\n",
       "<li>Small cars fall out of favor with Americans, which means brands like Mini and Fiat continue to struggle, with the former dropping another 17.4% to the same level as 2003 and 2004, its first two full years of sales in the US, when it was still just a one-model brand. The Italian brand drops by an even more worrying 40.7% to its lowest annual sales volume in the US since its relaunch in 2011. None of its four nameplates sells more than an average of 300 cars per month, and the brand has become so irrelevant in the US market that a potential withdrawal cannot be ignored. Smart has already withdrawn from the US market this year, as its strategy of becoming an EV-only brand has failed.</li>\n",
       "</ul>\n",
       "<h3>2019 brands ranking</h3>\n",
       "<table class=\"aligncenter\" style=\"border-collapse: collapse; width: 100%;\" width=\"100%\" cellspacing=\"0\" cellpadding=\"0\" border=\"1\">\n",
       "<colgroup>\n",
       "<col style=\"width: 18,75pt;\" width=\"25\">\n",
       "<col style=\"width: 79,50pt;\" width=\"106\">\n",
       "<col style=\"width: 51,00pt;\" width=\"68\" span=\"2\">\n",
       "<col style=\"width: 45,00pt;\" width=\"60\">\n",
       "<col style=\"width: 57,75pt;\" width=\"77\">\n",
       "<col style=\"width: 45,00pt;\" width=\"60\">\n",
       "<col style=\"width: 45,00pt;\" width=\"60\"> </colgroup>\n",
       "<tbody>\n",
       "<tr style=\"height: 15.00pt;\">\n",
       "<td class=\"et8\" style=\"height: 44px;\" width=\"25\" height=\"20\">&nbsp;</td>\n",
       "<td class=\"et6\" style=\"height: 44px;\" width=\"150\"><strong>Brand</strong></td>\n",
       "<td class=\"et6\" style=\"text-align: right; height: 44px;\" width=\"68\" align=\"right\"><strong>2019</strong></td>\n",
       "<td class=\"et6\" style=\"text-align: right; height: 44px;\" width=\"68\" align=\"right\"><strong>2018</strong></td>\n",
       "<td class=\"et6\" style=\"text-align: right; height: 44px;\" width=\"60\"><strong>Change</strong></td>\n",
       "<td class=\"et9\" style=\"text-align: right; height: 44px;\" width=\"77\"><strong>Ranking Δ</strong></td>\n",
       "<td class=\"et6\" style=\"text-align: right; height: 44px;\" width=\"60\"><strong>2019-Q4</strong></td>\n",
       "<td class=\"et6\" style=\"text-align: right; height: 44px;\" width=\"60\"><strong>Change</strong></td>\n",
       "</tr>\n",
       "<tr style=\"height: 15.00pt;\">\n",
       "<td class=\"et7\" style=\"height: 22px;\" height=\"20\" align=\"right\">1</td>\n",
       "<td class=\"et7\" style=\"height: 22px;\">Ford</td>\n",
       "<td class=\"et4\" style=\"text-align: right; height: 22px;\" align=\"right\">2,293,984</td>\n",
       "<td class=\"et4\" style=\"text-align: right; height: 22px;\" align=\"right\">2,381,635</td>\n",
       "<td class=\"et12\" style=\"text-align: right; height: 22px;\" align=\"right\">-3.7%</td>\n",
       "<td class=\"et5\" style=\"text-align: right; height: 22px;\">&nbsp;</td>\n",
       "<td class=\"et4\" style=\"text-align: right; height: 22px;\" align=\"right\">565,373</td>\n",
       "<td class=\"et12\" style=\"text-align: right; height: 22px;\" align=\"right\">-2.2%</td>\n",
       "</tr>\n",
       "<tr style=\"height: 15.00pt;\">\n",
       "<td class=\"et7\" style=\"height: 22px;\" height=\"20\" align=\"right\">2</td>\n",
       "<td class=\"et7\" style=\"height: 22px;\">Toyota</td>\n",
       "<td class=\"et4\" style=\"text-align: right; height: 22px;\" align=\"right\">2,085,186</td>\n",
       "<td class=\"et4\" style=\"text-align: right; height: 22px;\" align=\"right\">2,128,201</td>\n",
       "<td class=\"et12\" style=\"text-align: right; height: 22px;\" align=\"right\">-2.0%</td>\n",
       "<td class=\"et5\" style=\"text-align: right; height: 22px;\">&nbsp;</td>\n",
       "<td class=\"et4\" style=\"text-align: right; height: 22px;\" align=\"right\">515,185</td>\n",
       "<td class=\"et12\" style=\"text-align: right; height: 22px;\" align=\"right\">-0.5%</td>\n",
       "</tr>\n",
       "<tr style=\"height: 15.00pt;\">\n",
       "<td class=\"et7\" style=\"height: 22px;\" height=\"20\" align=\"right\">3</td>\n",
       "<td class=\"et7\" style=\"height: 22px;\">Chevrolet</td>\n",
       "<td class=\"et4\" style=\"text-align: right; height: 22px;\" align=\"right\">1,958,783</td>\n",
       "<td class=\"et4\" style=\"text-align: right; height: 22px;\" align=\"right\">2,036,023</td>\n",
       "<td class=\"et12\" style=\"text-align: right; height: 22px;\" align=\"right\">-3.8%</td>\n",
       "<td class=\"et5\" style=\"text-align: right; height: 22px;\">&nbsp;</td>\n",
       "<td class=\"et4\" style=\"text-align: right; height: 22px;\" align=\"right\">499,403</td>\n",
       "<td class=\"et12\" style=\"text-align: right; height: 22px;\" align=\"right\">-6.1%</td>\n",
       "</tr>\n",
       "<tr style=\"height: 15.00pt;\">\n",
       "<td class=\"et7\" style=\"height: 22px;\" height=\"20\" align=\"right\">4</td>\n",
       "<td class=\"et7\" style=\"height: 22px;\">Honda</td>\n",
       "<td class=\"et4\" style=\"text-align: right; height: 22px;\" align=\"right\">1,450,785</td>\n",
       "<td class=\"et4\" style=\"text-align: right; height: 22px;\" align=\"right\">1,445,894</td>\n",
       "<td class=\"et12\" style=\"text-align: right; height: 22px;\" align=\"right\">-0.4%</td>\n",
       "<td class=\"et5\" style=\"text-align: right; height: 22px;\">&nbsp;</td>\n",
       "<td class=\"et4\" style=\"text-align: right; height: 22px;\" align=\"right\">347,389</td>\n",
       "<td class=\"et12\" style=\"text-align: right; height: 22px;\" align=\"right\">-1.7%</td>\n",
       "</tr>\n",
       "<tr style=\"height: 15.00pt;\">\n",
       "<td class=\"et7\" style=\"height: 22px;\" height=\"20\" align=\"right\">5</td>\n",
       "<td class=\"et7\" style=\"height: 22px;\">Nissan</td>\n",
       "<td class=\"et4\" style=\"text-align: right; height: 22px;\" align=\"right\">1,227,973</td>\n",
       "<td class=\"et4\" style=\"text-align: right; height: 22px;\" align=\"right\">1,344,597</td>\n",
       "<td class=\"et12\" style=\"text-align: right; height: 22px;\" align=\"right\">-8.7%</td>\n",
       "<td class=\"et5\" style=\"text-align: right; height: 22px;\">&nbsp;</td>\n",
       "<td class=\"et4\" style=\"text-align: right; height: 22px;\" align=\"right\">271,517</td>\n",
       "<td class=\"et12\" style=\"text-align: right; height: 22px;\" align=\"right\">-16.5%</td>\n",
       "</tr>\n",
       "<tr style=\"height: 15.00pt;\">\n",
       "<td class=\"et7\" style=\"height: 22px;\" height=\"20\" align=\"right\">6</td>\n",
       "<td class=\"et7\" style=\"height: 22px;\">Jeep</td>\n",
       "<td class=\"et4\" style=\"text-align: right; height: 22px;\" align=\"right\">923,291</td>\n",
       "<td class=\"et4\" style=\"text-align: right; height: 22px;\" align=\"right\">973,227</td>\n",
       "<td class=\"et12\" style=\"text-align: right; height: 22px;\" align=\"right\">-5.1%</td>\n",
       "<td class=\"et5\" style=\"text-align: right; height: 22px;\">&nbsp;</td>\n",
       "<td class=\"et4\" style=\"text-align: right; height: 22px;\" align=\"right\">221,536</td>\n",
       "<td class=\"et12\" style=\"text-align: right; height: 22px;\" align=\"right\">-2.4%</td>\n",
       "</tr>\n",
       "<tr style=\"height: 15.00pt;\">\n",
       "<td class=\"et7\" style=\"height: 22px;\" height=\"20\" align=\"right\">7</td>\n",
       "<td class=\"et7\" style=\"height: 22px;\">Ram</td>\n",
       "<td class=\"et4\" style=\"text-align: right; height: 22px;\" align=\"right\">703,023</td>\n",
       "<td class=\"et4\" style=\"text-align: right; height: 22px;\" align=\"right\">597,368</td>\n",
       "<td class=\"et12\" style=\"text-align: right; height: 22px;\" align=\"right\">17.7%</td>\n",
       "<td class=\"et5\" style=\"text-align: right; height: 22px;\">-2</td>\n",
       "<td class=\"et4\" style=\"text-align: right; height: 22px;\" align=\"right\">190,655</td>\n",
       "<td class=\"et12\" style=\"text-align: right; height: 22px;\" align=\"right\">5.5%</td>\n",
       "</tr>\n",
       "<tr style=\"height: 15.00pt;\">\n",
       "<td class=\"et7\" style=\"height: 22px;\" height=\"20\" align=\"right\">8</td>\n",
       "<td class=\"et7\" style=\"height: 22px;\">Subaru</td>\n",
       "<td class=\"et4\" style=\"text-align: right; height: 22px;\" align=\"right\">700,117</td>\n",
       "<td class=\"et4\" style=\"text-align: right; height: 22px;\" align=\"right\">680,135</td>\n",
       "<td class=\"et12\" style=\"text-align: right; height: 22px;\" align=\"right\">2.9%</td>\n",
       "<td class=\"et5\" style=\"text-align: right; height: 22px;\">+1</td>\n",
       "<td class=\"et4\" style=\"text-align: right; height: 22px;\" align=\"right\">174,788</td>\n",
       "<td class=\"et12\" style=\"text-align: right; height: 22px;\" align=\"right\">-1.1%</td>\n",
       "</tr>\n",
       "<tr style=\"height: 15.00pt;\">\n",
       "<td class=\"et7\" style=\"height: 22px;\" height=\"20\" align=\"right\">9</td>\n",
       "<td class=\"et7\" style=\"height: 22px;\">Hyundai</td>\n",
       "<td class=\"et4\" style=\"text-align: right; height: 22px;\" align=\"right\">688,771</td>\n",
       "<td class=\"et4\" style=\"text-align: right; height: 22px;\" align=\"right\">667,635</td>\n",
       "<td class=\"et12\" style=\"text-align: right; height: 22px;\" align=\"right\">3.2%</td>\n",
       "<td class=\"et5\" style=\"text-align: right; height: 22px;\">+1</td>\n",
       "<td class=\"et4\" style=\"text-align: right; height: 22px;\" align=\"right\">182,415</td>\n",
       "<td class=\"et12\" style=\"text-align: right; height: 22px;\" align=\"right\">4.3%</td>\n",
       "</tr>\n",
       "<tr style=\"height: 15.00pt;\">\n",
       "<td class=\"et7\" style=\"height: 22px;\" height=\"20\" align=\"right\">10</td>\n",
       "<td class=\"et7\" style=\"height: 22px;\">Kia</td>\n",
       "<td class=\"et4\" style=\"text-align: right; height: 22px;\" align=\"right\">615,338</td>\n",
       "<td class=\"et4\" style=\"text-align: right; height: 22px;\" align=\"right\">589,673</td>\n",
       "<td class=\"et12\" style=\"text-align: right; height: 22px;\" align=\"right\">4.4%</td>\n",
       "<td class=\"et5\" style=\"text-align: right; height: 22px;\">&nbsp;</td>\n",
       "<td class=\"et4\" style=\"text-align: right; height: 22px;\" align=\"right\">151,740</td>\n",
       "<td class=\"et12\" style=\"text-align: right; height: 22px;\" align=\"right\">10.3%</td>\n",
       "</tr>\n",
       "<tr style=\"height: 15.00pt;\">\n",
       "<td class=\"et7\" style=\"height: 22px;\" height=\"20\" align=\"right\">11</td>\n",
       "<td class=\"et7\" style=\"height: 22px;\">GMC</td>\n",
       "<td class=\"et4\" style=\"text-align: right; height: 22px;\" align=\"right\">564,946</td>\n",
       "<td class=\"et4\" style=\"text-align: right; height: 22px;\" align=\"right\">556,449</td>\n",
       "<td class=\"et12\" style=\"text-align: right; height: 22px;\" align=\"right\">1.5%</td>\n",
       "<td class=\"et5\" style=\"text-align: right; height: 22px;\">&nbsp;</td>\n",
       "<td class=\"et4\" style=\"text-align: right; height: 22px;\" align=\"right\">146,880</td>\n",
       "<td class=\"et12\" style=\"text-align: right; height: 22px;\" align=\"right\">-8.5%</td>\n",
       "</tr>\n",
       "<tr style=\"height: 15.00pt;\">\n",
       "<td class=\"et7\" style=\"height: 22px;\" height=\"20\" align=\"right\">12</td>\n",
       "<td class=\"et7\" style=\"height: 22px;\">Dodge</td>\n",
       "<td class=\"et4\" style=\"text-align: right; height: 22px;\" align=\"right\">422,886</td>\n",
       "<td class=\"et4\" style=\"text-align: right; height: 22px;\" align=\"right\">459,324</td>\n",
       "<td class=\"et12\" style=\"text-align: right; height: 22px;\" align=\"right\">-7.9%</td>\n",
       "<td class=\"et5\" style=\"text-align: right; height: 22px;\">&nbsp;</td>\n",
       "<td class=\"et4\" style=\"text-align: right; height: 22px;\" align=\"right\">90,641</td>\n",
       "<td class=\"et12\" style=\"text-align: right; height: 22px;\" align=\"right\">-9.0%</td>\n",
       "</tr>\n",
       "<tr style=\"height: 15.00pt;\">\n",
       "<td class=\"et7\" style=\"height: 22px;\" height=\"20\" align=\"right\">13</td>\n",
       "<td class=\"et7\" style=\"height: 22px;\">Volkswagen</td>\n",
       "<td class=\"et4\" style=\"text-align: right; height: 22px;\" align=\"right\">363,322</td>\n",
       "<td class=\"et4\" style=\"text-align: right; height: 22px;\" align=\"right\">354,064</td>\n",
       "<td class=\"et12\" style=\"text-align: right; height: 22px;\" align=\"right\">2.6%</td>\n",
       "<td class=\"et5\" style=\"text-align: right; height: 22px;\">-1</td>\n",
       "<td class=\"et4\" style=\"text-align: right; height: 22px;\" align=\"right\">85,167</td>\n",
       "<td class=\"et12\" style=\"text-align: right; height: 22px;\" align=\"right\">-3.0%</td>\n",
       "</tr>\n",
       "<tr style=\"height: 15.00pt;\">\n",
       "<td class=\"et7\" style=\"height: 22px;\" height=\"20\" align=\"right\">14</td>\n",
       "<td class=\"et7\" style=\"height: 22px;\">Mercedes-Benz</td>\n",
       "<td class=\"et4\" style=\"text-align: right; height: 22px;\" align=\"right\">357,729</td>\n",
       "<td class=\"et4\" style=\"text-align: right; height: 22px;\" align=\"right\">354,144</td>\n",
       "<td class=\"et12\" style=\"text-align: right; height: 22px;\" align=\"right\">1.0%</td>\n",
       "<td class=\"et5\" style=\"text-align: right; height: 22px;\">+1</td>\n",
       "<td class=\"et4\" style=\"text-align: right; height: 22px;\" align=\"right\">104,672</td>\n",
       "<td class=\"et12\" style=\"text-align: right; height: 22px;\" align=\"right\">3.9%</td>\n",
       "</tr>\n",
       "<tr style=\"height: 15.00pt;\">\n",
       "<td class=\"et7\" style=\"height: 22px;\" height=\"20\" align=\"right\">15</td>\n",
       "<td class=\"et7\" style=\"height: 22px;\">BMW</td>\n",
       "<td class=\"et4\" style=\"text-align: right; height: 22px;\" align=\"right\">324,826</td>\n",
       "<td class=\"et4\" style=\"text-align: right; height: 22px;\" align=\"right\">311,014</td>\n",
       "<td class=\"et12\" style=\"text-align: right; height: 22px;\" align=\"right\">4.4%</td>\n",
       "<td class=\"et5\" style=\"text-align: right; height: 22px;\">&nbsp;</td>\n",
       "<td class=\"et4\" style=\"text-align: right; height: 22px;\" align=\"right\">92,399</td>\n",
       "<td class=\"et12\" style=\"text-align: right; height: 22px;\" align=\"right\">7.5%</td>\n",
       "</tr>\n",
       "<tr style=\"height: 15.00pt;\">\n",
       "<td class=\"et7\" style=\"height: 22px;\" height=\"20\" align=\"right\">16</td>\n",
       "<td class=\"et7\" style=\"height: 22px;\">Lexus</td>\n",
       "<td class=\"et4\" style=\"text-align: right; height: 22px;\" align=\"right\">298,114</td>\n",
       "<td class=\"et4\" style=\"text-align: right; height: 22px;\" align=\"right\">298,302</td>\n",
       "<td class=\"et12\" style=\"text-align: right; height: 22px;\" align=\"right\">-0.1%</td>\n",
       "<td class=\"et5\" style=\"text-align: right; height: 22px;\">-1</td>\n",
       "<td class=\"et4\" style=\"text-align: right; height: 22px;\" align=\"right\">88,561</td>\n",
       "<td class=\"et12\" style=\"text-align: right; height: 22px;\" align=\"right\">4.6%</td>\n",
       "</tr>\n",
       "<tr style=\"height: 12.75pt;\">\n",
       "<td class=\"et7\" style=\"height: 22px;\" height=\"17\" align=\"right\">17</td>\n",
       "<td class=\"et7\" style=\"height: 22px;\">Mazda</td>\n",
       "<td class=\"et4\" style=\"text-align: right; height: 22px;\" align=\"right\">278,552</td>\n",
       "<td class=\"et4\" style=\"text-align: right; height: 22px;\" align=\"right\">300,325</td>\n",
       "<td class=\"et12\" style=\"text-align: right; height: 22px;\" align=\"right\">-7.2%</td>\n",
       "<td class=\"et5\" style=\"text-align: right; height: 22px;\">+1</td>\n",
       "<td class=\"et4\" style=\"text-align: right; height: 22px;\" align=\"right\">70,385</td>\n",
       "<td class=\"et12\" style=\"text-align: right; height: 22px;\" align=\"right\">7.9%</td>\n",
       "</tr>\n",
       "<tr style=\"height: 15.00pt;\">\n",
       "<td class=\"et7\" style=\"height: 22px;\" height=\"20\" align=\"right\">18</td>\n",
       "<td class=\"et7\" style=\"height: 22px;\">Audi</td>\n",
       "<td class=\"et4\" style=\"text-align: right; height: 22px;\" align=\"right\">224,111</td>\n",
       "<td class=\"et4\" style=\"text-align: right; height: 22px;\" align=\"right\">223,323</td>\n",
       "<td class=\"et12\" style=\"text-align: right; height: 22px;\" align=\"right\">0.4%</td>\n",
       "<td class=\"et5\" style=\"text-align: right; height: 22px;\">&nbsp;</td>\n",
       "<td class=\"et4\" style=\"text-align: right; height: 22px;\" align=\"right\">65,640</td>\n",
       "<td class=\"et12\" style=\"text-align: right; height: 22px;\" align=\"right\">17.4%</td>\n",
       "</tr>\n",
       "<tr style=\"height: 15.00pt;\">\n",
       "<td class=\"et7\" style=\"height: 22px;\" height=\"20\" align=\"right\">19</td>\n",
       "<td class=\"et7\" style=\"height: 22px;\">Buick</td>\n",
       "<td class=\"et4\" style=\"text-align: right; height: 22px;\" align=\"right\">206,929</td>\n",
       "<td class=\"et4\" style=\"text-align: right; height: 22px;\" align=\"right\">206,863</td>\n",
       "<td class=\"et12\" style=\"text-align: right; height: 22px;\" align=\"right\">0.0%</td>\n",
       "<td class=\"et5\" style=\"text-align: right; height: 22px;\">&nbsp;</td>\n",
       "<td class=\"et4\" style=\"text-align: right; height: 22px;\" align=\"right\">49,074</td>\n",
       "<td class=\"et12\" style=\"text-align: right; height: 22px;\" align=\"right\">-4.3%</td>\n",
       "</tr>\n",
       "<tr style=\"height: 15.00pt;\">\n",
       "<td class=\"et7\" style=\"height: 22px;\" height=\"20\" align=\"right\">20</td>\n",
       "<td class=\"et7\" style=\"height: 22px;\">Tesla</td>\n",
       "<td class=\"et4\" style=\"text-align: right; height: 22px;\" align=\"right\">192,250</td>\n",
       "<td class=\"et4\" style=\"text-align: right; height: 22px;\" align=\"right\">191,627</td>\n",
       "<td class=\"et12\" style=\"text-align: right; height: 22px;\" align=\"right\">0.3%</td>\n",
       "<td class=\"et5\" style=\"text-align: right; height: 22px;\">&nbsp;</td>\n",
       "<td class=\"et4\" style=\"text-align: right; height: 22px;\" align=\"right\">56,525</td>\n",
       "<td class=\"et12\" style=\"text-align: right; height: 22px;\" align=\"right\">-27.1%</td>\n",
       "</tr>\n",
       "<tr style=\"height: 15.00pt;\">\n",
       "<td class=\"et7\" style=\"height: 22px;\" height=\"20\" align=\"right\">21</td>\n",
       "<td class=\"et7\" style=\"height: 22px;\">Acura</td>\n",
       "<td class=\"et4\" style=\"text-align: right; height: 22px;\" align=\"right\">157,385</td>\n",
       "<td class=\"et4\" style=\"text-align: right; height: 22px;\" align=\"right\">158,934</td>\n",
       "<td class=\"et12\" style=\"text-align: right; height: 22px;\" align=\"right\">-1.0%</td>\n",
       "<td class=\"et5\" style=\"text-align: right; height: 22px;\">-1</td>\n",
       "<td class=\"et4\" style=\"text-align: right; height: 22px;\" align=\"right\">44,572</td>\n",
       "<td class=\"et12\" style=\"text-align: right; height: 22px;\" align=\"right\">0.3%</td>\n",
       "</tr>\n",
       "<tr style=\"height: 15.00pt;\">\n",
       "<td class=\"et7\" style=\"height: 22px;\" height=\"20\" align=\"right\">22</td>\n",
       "<td class=\"et7\" style=\"height: 22px;\">Cadillac</td>\n",
       "<td class=\"et4\" style=\"text-align: right; height: 22px;\" align=\"right\">156,246</td>\n",
       "<td class=\"et4\" style=\"text-align: right; height: 22px;\" align=\"right\">154,702</td>\n",
       "<td class=\"et12\" style=\"text-align: right; height: 22px;\" align=\"right\">1.0%</td>\n",
       "<td class=\"et5\" style=\"text-align: right; height: 22px;\">-1</td>\n",
       "<td class=\"et4\" style=\"text-align: right; height: 22px;\" align=\"right\">40,552</td>\n",
       "<td class=\"et12\" style=\"text-align: right; height: 22px;\" align=\"right\">-2.2%</td>\n",
       "</tr>\n",
       "<tr style=\"height: 15.00pt;\">\n",
       "<td class=\"et7\" style=\"height: 22px;\" height=\"20\" align=\"right\">23</td>\n",
       "<td class=\"et7\" style=\"height: 22px;\">Chrysler</td>\n",
       "<td class=\"et4\" style=\"text-align: right; height: 22px;\" align=\"right\">126,971</td>\n",
       "<td class=\"et4\" style=\"text-align: right; height: 22px;\" align=\"right\">165,964</td>\n",
       "<td class=\"et12\" style=\"text-align: right; height: 22px;\" align=\"right\">-23.5%</td>\n",
       "<td class=\"et5\" style=\"text-align: right; height: 22px;\">+2</td>\n",
       "<td class=\"et4\" style=\"text-align: right; height: 22px;\" align=\"right\">33,005</td>\n",
       "<td class=\"et12\" style=\"text-align: right; height: 22px;\" align=\"right\">-15.0%</td>\n",
       "</tr>\n",
       "<tr style=\"height: 15.00pt;\">\n",
       "<td class=\"et7\" style=\"height: 22px;\" height=\"20\" align=\"right\">24</td>\n",
       "<td class=\"et7\" style=\"height: 22px;\">Mitsubishi</td>\n",
       "<td class=\"et4\" style=\"text-align: right; height: 22px;\" align=\"right\">121,046</td>\n",
       "<td class=\"et4\" style=\"text-align: right; height: 22px;\" align=\"right\">118,074</td>\n",
       "<td class=\"et12\" style=\"text-align: right; height: 22px;\" align=\"right\">2.5%</td>\n",
       "<td class=\"et5\" style=\"text-align: right; height: 22px;\">-1</td>\n",
       "<td class=\"et4\" style=\"text-align: right; height: 22px;\" align=\"right\">25,475</td>\n",
       "<td class=\"et12\" style=\"text-align: right; height: 22px;\" align=\"right\">3.2%</td>\n",
       "</tr>\n",
       "<tr style=\"height: 15.00pt;\">\n",
       "<td class=\"et7\" style=\"height: 22px;\" height=\"20\" align=\"right\">25</td>\n",
       "<td class=\"et7\" style=\"height: 22px;\">Infiniti</td>\n",
       "<td class=\"et4\" style=\"text-align: right; height: 22px;\" align=\"right\">117,708</td>\n",
       "<td class=\"et4\" style=\"text-align: right; height: 22px;\" align=\"right\">149,280</td>\n",
       "<td class=\"et12\" style=\"text-align: right; height: 22px;\" align=\"right\">-21.1%</td>\n",
       "<td class=\"et5\" style=\"text-align: right; height: 22px;\">+1</td>\n",
       "<td class=\"et4\" style=\"text-align: right; height: 22px;\" align=\"right\">29,774</td>\n",
       "<td class=\"et12\" style=\"text-align: right; height: 22px;\" align=\"right\">-32.4%</td>\n",
       "</tr>\n",
       "<tr style=\"height: 15.00pt;\">\n",
       "<td class=\"et7\" style=\"height: 22px;\" height=\"20\" align=\"right\">26</td>\n",
       "<td class=\"et7\" style=\"height: 22px;\">Lincoln</td>\n",
       "<td class=\"et4\" style=\"text-align: right; height: 22px;\" align=\"right\">112,204</td>\n",
       "<td class=\"et4\" style=\"text-align: right; height: 22px;\" align=\"right\">103,587</td>\n",
       "<td class=\"et12\" style=\"text-align: right; height: 22px;\" align=\"right\">8.3%</td>\n",
       "<td class=\"et5\" style=\"text-align: right; height: 22px;\">&nbsp;</td>\n",
       "<td class=\"et4\" style=\"text-align: right; height: 22px;\" align=\"right\">33,355</td>\n",
       "<td class=\"et12\" style=\"text-align: right; height: 22px;\" align=\"right\">17.8%</td>\n",
       "</tr>\n",
       "<tr style=\"height: 15.00pt;\">\n",
       "<td class=\"et7\" style=\"height: 22px;\" height=\"20\" align=\"right\">27</td>\n",
       "<td class=\"et7\" style=\"height: 22px;\">Volvo</td>\n",
       "<td class=\"et4\" style=\"text-align: right; height: 22px;\" align=\"right\">108,234</td>\n",
       "<td class=\"et4\" style=\"text-align: right; height: 22px;\" align=\"right\">98,263</td>\n",
       "<td class=\"et12\" style=\"text-align: right; height: 22px;\" align=\"right\">10.1%</td>\n",
       "<td class=\"et5\" style=\"text-align: right; height: 22px;\">&nbsp;</td>\n",
       "<td class=\"et4\" style=\"text-align: right; height: 22px;\" align=\"right\">30,802</td>\n",
       "<td class=\"et12\" style=\"text-align: right; height: 22px;\" align=\"right\">26.6%</td>\n",
       "</tr>\n",
       "<tr style=\"height: 15.00pt;\">\n",
       "<td class=\"et7\" style=\"height: 22px;\" height=\"20\" align=\"right\">28</td>\n",
       "<td class=\"et7\" style=\"height: 22px;\">Land Rover</td>\n",
       "<td class=\"et4\" style=\"text-align: right; height: 22px;\" align=\"right\">94,736</td>\n",
       "<td class=\"et4\" style=\"text-align: right; height: 22px;\" align=\"right\">92,143</td>\n",
       "<td class=\"et12\" style=\"text-align: right; height: 22px;\" align=\"right\">2.8%</td>\n",
       "<td class=\"et5\" style=\"text-align: right; height: 22px;\">&nbsp;</td>\n",
       "<td class=\"et4\" style=\"text-align: right; height: 22px;\" align=\"right\">28,097</td>\n",
       "<td class=\"et12\" style=\"text-align: right; height: 22px;\" align=\"right\">4.0%</td>\n",
       "</tr>\n",
       "<tr style=\"height: 15.00pt;\">\n",
       "<td class=\"et7\" style=\"height: 22px;\" height=\"20\" align=\"right\">29</td>\n",
       "<td class=\"et7\" style=\"height: 22px;\">Porsche</td>\n",
       "<td class=\"et4\" style=\"text-align: right; height: 22px;\" align=\"right\">61,568</td>\n",
       "<td class=\"et4\" style=\"text-align: right; height: 22px;\" align=\"right\">57,202</td>\n",
       "<td class=\"et12\" style=\"text-align: right; height: 22px;\" align=\"right\">7.6%</td>\n",
       "<td class=\"et5\" style=\"text-align: right; height: 22px;\">&nbsp;</td>\n",
       "<td class=\"et4\" style=\"text-align: right; height: 22px;\" align=\"right\">16,506</td>\n",
       "<td class=\"et12\" style=\"text-align: right; height: 22px;\" align=\"right\">13.2%</td>\n",
       "</tr>\n",
       "<tr style=\"height: 15.00pt;\">\n",
       "<td class=\"et7\" style=\"height: 22px;\" height=\"20\" align=\"right\">30</td>\n",
       "<td class=\"et7\" style=\"height: 22px;\">Mini</td>\n",
       "<td class=\"et4\" style=\"text-align: right; height: 22px;\" align=\"right\">36,092</td>\n",
       "<td class=\"et4\" style=\"text-align: right; height: 22px;\" align=\"right\">43,684</td>\n",
       "<td class=\"et12\" style=\"text-align: right; height: 22px;\" align=\"right\">-17.4%</td>\n",
       "<td class=\"et5\" style=\"text-align: right; height: 22px;\">&nbsp;</td>\n",
       "<td class=\"et4\" style=\"text-align: right; height: 22px;\" align=\"right\">8,339</td>\n",
       "<td class=\"et12\" style=\"text-align: right; height: 22px;\" align=\"right\">-12.1%</td>\n",
       "</tr>\n",
       "<tr style=\"height: 15.00pt;\">\n",
       "<td class=\"et7\" style=\"height: 22px;\" height=\"20\" align=\"right\">31</td>\n",
       "<td class=\"et7\" style=\"height: 22px;\">Jaguar</td>\n",
       "<td class=\"et4\" style=\"text-align: right; height: 22px;\" align=\"right\">31,051</td>\n",
       "<td class=\"et4\" style=\"text-align: right; height: 22px;\" align=\"right\">30,483</td>\n",
       "<td class=\"et12\" style=\"text-align: right; height: 22px;\" align=\"right\">1.9%</td>\n",
       "<td class=\"et5\" style=\"text-align: right; height: 22px;\">&nbsp;</td>\n",
       "<td class=\"et4\" style=\"text-align: right; height: 22px;\" align=\"right\">8,619</td>\n",
       "<td class=\"et12\" style=\"text-align: right; height: 22px;\" align=\"right\">-7.4%</td>\n",
       "</tr>\n",
       "<tr style=\"height: 15.00pt;\">\n",
       "<td class=\"et7\" style=\"height: 22px;\" height=\"20\" align=\"right\">32</td>\n",
       "<td class=\"et7\" style=\"height: 22px;\">Genesis</td>\n",
       "<td class=\"et4\" style=\"text-align: right; height: 22px;\" align=\"right\">21,233</td>\n",
       "<td class=\"et4\" style=\"text-align: right; height: 22px;\" align=\"right\">10,312</td>\n",
       "<td class=\"et12\" style=\"text-align: right; height: 22px;\" align=\"right\">105.9%</td>\n",
       "<td class=\"et5\" style=\"text-align: right; height: 22px;\">-2</td>\n",
       "<td class=\"et4\" style=\"text-align: right; height: 22px;\" align=\"right\">6,327</td>\n",
       "<td class=\"et12\" style=\"text-align: right; height: 22px;\" align=\"right\">351.0%</td>\n",
       "</tr>\n",
       "<tr style=\"height: 12.75pt;\">\n",
       "<td class=\"et7\" style=\"height: 22px;\" height=\"17\" align=\"right\">33</td>\n",
       "<td class=\"et7\" style=\"height: 22px;\">Alfa Romeo</td>\n",
       "<td class=\"et4\" style=\"text-align: right; height: 22px;\" align=\"right\">18,292</td>\n",
       "<td class=\"et4\" style=\"text-align: right; height: 22px;\" align=\"right\">23,800</td>\n",
       "<td class=\"et12\" style=\"text-align: right; height: 22px;\" align=\"right\">-23.1%</td>\n",
       "<td class=\"et5\" style=\"text-align: right; height: 22px;\">+1</td>\n",
       "<td class=\"et4\" style=\"text-align: right; height: 22px;\" align=\"right\">4,945</td>\n",
       "<td class=\"et12\" style=\"text-align: right; height: 22px;\" align=\"right\">-12.3%</td>\n",
       "</tr>\n",
       "<tr style=\"height: 15.00pt;\">\n",
       "<td class=\"et7\" style=\"height: 22px;\" height=\"20\" align=\"right\">34</td>\n",
       "<td class=\"et7\" style=\"height: 22px;\">Fiat</td>\n",
       "<td class=\"et4\" style=\"text-align: right; height: 22px;\" align=\"right\">9,200</td>\n",
       "<td class=\"et4\" style=\"text-align: right; height: 22px;\" align=\"right\">15,521</td>\n",
       "<td class=\"et12\" style=\"text-align: right; height: 22px;\" align=\"right\">-40.7%</td>\n",
       "<td class=\"et5\" style=\"text-align: right; height: 22px;\">+1</td>\n",
       "<td class=\"et4\" style=\"text-align: right; height: 22px;\" align=\"right\">1,737</td>\n",
       "<td class=\"et12\" style=\"text-align: right; height: 22px;\" align=\"right\">-49.5%</td>\n",
       "</tr>\n",
       "<tr style=\"height: 15.00pt;\">\n",
       "<td class=\"et7\" style=\"height: 22px;\" height=\"20\" align=\"right\">35</td>\n",
       "<td class=\"et7\" style=\"height: 22px;\">Smart</td>\n",
       "<td class=\"et4\" style=\"text-align: right; height: 22px;\" align=\"right\">680</td>\n",
       "<td class=\"et4\" style=\"text-align: right; height: 22px;\" align=\"right\">1,276</td>\n",
       "<td class=\"et12\" style=\"text-align: right; height: 22px;\" align=\"right\">-46.7%</td>\n",
       "<td class=\"et5\" style=\"text-align: right; height: 22px;\">&nbsp;</td>\n",
       "<td class=\"et4\" style=\"text-align: right; height: 22px;\" align=\"right\">0</td>\n",
       "<td class=\"et12\" style=\"text-align: right; height: 22px;\" align=\"right\">-100.0%</td>\n",
       "</tr>\n",
       "<tr style=\"height: 15.00pt;\">\n",
       "<td class=\"et7\" style=\"height: 22px;\" height=\"20\" align=\"right\">36</td>\n",
       "<td class=\"et7\" style=\"height: 22px;\">Scion</td>\n",
       "<td class=\"et4\" style=\"text-align: right; height: 22px;\" align=\"right\">4</td>\n",
       "<td class=\"et4\" style=\"text-align: right; height: 22px;\" align=\"right\">4</td>\n",
       "<td class=\"et12\" style=\"text-align: right; height: 22px;\" align=\"right\">0.0%</td>\n",
       "<td class=\"et5\" style=\"text-align: right; height: 22px;\">&nbsp;</td>\n",
       "<td class=\"et4\" style=\"text-align: right; height: 22px;\" align=\"right\">0</td>\n",
       "<td class=\"et12\" style=\"text-align: right; height: 22px;\" align=\"right\">-100.0%</td>\n",
       "</tr>\n",
       "</tbody>\n",
       "</table>\n",
       "<p>&nbsp;</p>\n",
       "<div class=\"sharedaddy sd-sharing-enabled\"><div class=\"robots-nocontent sd-block sd-social sd-social-official sd-sharing\"><h3 class=\"sd-title\">Like this? Please share:</h3><div class=\"sd-content\"><ul><li class=\"share-facebook\"><div class=\"fb-share-button\" data-href=\"http://carsalesbase.com/us-car-sales-analysis-2019-brands/\" data-layout=\"button_count\"></div></li><li class=\"share-twitter\"><a href=\"https://twitter.com/share\" class=\"twitter-share-button\" data-url=\"http://carsalesbase.com/us-car-sales-analysis-2019-brands/\" data-text=\"US car sales analysis 2019 - brands\" data-via=\"carsalesbase\" >Tweet</a></li><li class=\"share-pinterest\"><div class=\"pinterest_button\"><a href=\"https://www.pinterest.com/pin/create/button/?url=http%3A%2F%2Fcarsalesbase.com%2Fus-car-sales-analysis-2019-brands%2F&#038;media=http%3A%2F%2Fcarsalesbase.com%2Fwp-content%2Fuploads%2F2019%2F07%2F2019-ram-heavy-duty-lineup-min.jpg&#038;description=US%20car%20sales%20analysis%202019%20-%20brands\" data-pin-do=\"buttonPin\" data-pin-config=\"beside\"><img src=\"//assets.pinterest.com/images/pidgets/pinit_fg_en_rect_gray_20.png\" title=\"\" alt=\"\" /></a></div></li><li class=\"share-linkedin\"><div class=\"linkedin_button\"><script type=\"in/share\" data-url=\"http://carsalesbase.com/us-car-sales-analysis-2019-brands/\" data-counter=\"right\"></script></div></li><li class=\"share-end\"></li></ul></div></div></div><!--<rdf:RDF xmlns:rdf=\"http://www.w3.org/1999/02/22-rdf-syntax-ns#\"\n",
       "\t\t\txmlns:dc=\"http://purl.org/dc/elements/1.1/\"\n",
       "\t\t\txmlns:trackback=\"http://madskills.com/public/xml/rss/module/trackback/\">\n",
       "\t\t<rdf:Description rdf:about=\"http://carsalesbase.com/us-car-sales-analysis-2019-brands/\"\n",
       "    dc:identifier=\"http://carsalesbase.com/us-car-sales-analysis-2019-brands/\"\n",
       "    dc:title=\"US car sales analysis 2019 &#8211; brands\"\n",
       "    trackback:ping=\"http://carsalesbase.com/us-car-sales-analysis-2019-brands/trackback/\" />\n",
       "</rdf:RDF>-->\n",
       "</div><footer class=\"entry-footer\"><p class=\"entry-meta\"><span class=\"entry-categories\"><a href=\"http://carsalesbase.com/category/car-sales-us/\" rel=\"category tag\">Car sales US</a></span> <span class=\"entry-tags\"><a href=\"http://carsalesbase.com/tag/2019/\" rel=\"tag\">2019</a>, <a href=\"http://carsalesbase.com/tag/sales/\" rel=\"tag\">sales</a>, <a href=\"http://carsalesbase.com/tag/us/\" rel=\"tag\">US</a></span></p></footer></article><section class=\"author-box\"><h4 class=\"author-box-title\">About <span itemprop=\"name\">Bart Demandt</span></h4><div class=\"author-box-content\" itemprop=\"description\"><p>Bart is a 36-year old Dutchman who's always had a thing for cars, the automotive industry and statistics. He’s combined these passions by writing about them on CarSalesBase.com. His daily driver is an Alfa Romeo GT 3.2 V6 which he just can't seem to say goodbye to thanks to the mesmerizing exhaust note, despite approaching 300.000km which probably makes this the most experienced GT 3.2 in the world.<br />\n",
       "You can find all his articles <a href=\"http://left-lane.com/author/leftlane/\">Here</a>.</p>\n",
       "</div></section><script async src=\"//pagead2.googlesyndication.com/pagead/js/adsbygoogle.js\"></script>\r\n",
       "<!-- Banner groot -->\r\n",
       "<ins class=\"adsbygoogle\"\r\n",
       "     style=\"display:inline-block;width:728px;height:90px\"\r\n",
       "     data-ad-client=\"ca-pub-9301392272469332\"\r\n",
       "     data-ad-slot=\"7208011007\"></ins>\r\n",
       "<script>\r\n",
       "(adsbygoogle = window.adsbygoogle || []).push({});\r\n",
       "</script>\r\n",
       "\r\n",
       "<script async src=\"//pagead2.googlesyndication.com/pagead/js/adsbygoogle.js\"></script>\r\n",
       "<!-- Matched content -->\r\n",
       "<ins class=\"adsbygoogle\"\r\n",
       "     style=\"display:block\"\r\n",
       "     data-ad-client=\"ca-pub-9301392272469332\"\r\n",
       "     data-ad-slot=\"3213935808\"\r\n",
       "     data-ad-format=\"autorelaxed\"></ins>\r\n",
       "<script>\r\n",
       "(adsbygoogle = window.adsbygoogle || []).push({});\r\n",
       "</script><div class=\"entry-comments\" id=\"comments\"><h3>Comments</h3><ol class=\"comment-list\">\n",
       "\t<li class=\"comment even thread-even depth-1\" id=\"comment-174196\">\n",
       "\t<article id=\"article-comment-174196\">\n",
       "\n",
       "\t\t\n",
       "\t\t<header class=\"comment-header\">\n",
       "\t\t\t<p class=\"comment-author\">\n",
       "\t\t\t\t<span class=\"comment-author-name\">Madurko</span> <span class=\"says\">says</span>\t\t\t</p>\n",
       "\n",
       "\t\t\t<p class=\"comment-meta\"><time class=\"comment-time\"><a class=\"comment-time-link\" href=\"http://carsalesbase.com/us-car-sales-analysis-2019-brands/#comment-174196\">January 10, 2020 at 08:55</a></time></p>\t\t</header>\n",
       "\n",
       "\t\t<div class=\"comment-content\">\n",
       "\t\t\t\n",
       "\t\t\t<p>Jeep and RAM are the only two brands that make money for FCA, not only in USA, but in the whole world. In Europe Fiat is going from bad to worse, Lancia, Alfa and other brands do not sell enough to make any difference, so if Jeep continue loosing sales and they will, FCA is in big trouble. Now, considering the fact that their new partner PSA has declining sales on global basis for 2019 of all its brands Peugeot, Citroen, Opel and DS, no matter they claim profit, situation doesn&#8217;t look any good for the new huge company. If a financial crisis happens in 2020, as many experts predict, than people will stop buying huge expensive pick-ups and SUVs and Chrysler will have nothing to offer! Fiat is almost dead for deacdes, Fiat has always been low quality manufacturer, who sells cheap small cars to poor people in Europe and South America or has been selling technologies to Russians during Cold war to produce Lada and Polski Fiat, so if Chrysler wants to survive, they need to separate as fast as possible and to focus on USA, Canada and Mexico for a while, and after they develop some quality products to try to sell in China. North American and Chinese market make together about 60% of all annual car sales in the world. Selling well there is more than enough!</p>\n",
       "\t\t</div>\n",
       "\n",
       "\t\t<div class=\"comment-reply\"><a rel='nofollow' class='comment-reply-link' href='#comment-174196' data-commentid=\"174196\" data-postid=\"55281\" data-belowelement=\"article-comment-174196\" data-respondelement=\"respond\" aria-label='Reply to Madurko'>Reply</a></div>\n",
       "\t\t\n",
       "\t</article>\n",
       "\t<ul class=\"children\">\n",
       "\n",
       "\t<li class=\"comment odd alt depth-2\" id=\"comment-174475\">\n",
       "\t<article id=\"article-comment-174475\">\n",
       "\n",
       "\t\t\n",
       "\t\t<header class=\"comment-header\">\n",
       "\t\t\t<p class=\"comment-author\">\n",
       "\t\t\t\t<span class=\"comment-author-name\">RickM</span> <span class=\"says\">says</span>\t\t\t</p>\n",
       "\n",
       "\t\t\t<p class=\"comment-meta\"><time class=\"comment-time\"><a class=\"comment-time-link\" href=\"http://carsalesbase.com/us-car-sales-analysis-2019-brands/#comment-174475\">January 12, 2020 at 12:17</a></time></p>\t\t</header>\n",
       "\n",
       "\t\t<div class=\"comment-content\">\n",
       "\t\t\t\n",
       "\t\t\t<p>No doubt, here&#8217;s a Automotive Consultant at work.;) Chill Madurko, PSA might have lost huge volumes in China, Iran and Argentina and Opel lost 20% volume in Q4 2019 due to the termination of 3 models, the Group will &#8211; once again &#8211; beat all competitors bar FCA NA when it reports its 2019 Financial Results in March 2020.</p>\n",
       "\t\t</div>\n",
       "\n",
       "\t\t<div class=\"comment-reply\"><a rel='nofollow' class='comment-reply-link' href='#comment-174475' data-commentid=\"174475\" data-postid=\"55281\" data-belowelement=\"article-comment-174475\" data-respondelement=\"respond\" aria-label='Reply to RickM'>Reply</a></div>\n",
       "\t\t\n",
       "\t</article>\n",
       "\t</li><!-- #comment-## -->\n",
       "</ul><!-- .children -->\n",
       "</li><!-- #comment-## -->\n",
       "\n",
       "\t<li class=\"comment even thread-odd thread-alt depth-1\" id=\"comment-174253\">\n",
       "\t<article id=\"article-comment-174253\">\n",
       "\n",
       "\t\t\n",
       "\t\t<header class=\"comment-header\">\n",
       "\t\t\t<p class=\"comment-author\">\n",
       "\t\t\t\t<span class=\"comment-author-name\">Sam</span> <span class=\"says\">says</span>\t\t\t</p>\n",
       "\n",
       "\t\t\t<p class=\"comment-meta\"><time class=\"comment-time\"><a class=\"comment-time-link\" href=\"http://carsalesbase.com/us-car-sales-analysis-2019-brands/#comment-174253\">January 10, 2020 at 16:53</a></time></p>\t\t</header>\n",
       "\n",
       "\t\t<div class=\"comment-content\">\n",
       "\t\t\t\n",
       "\t\t\t<p>Go Scion!</p>\n",
       "\t\t</div>\n",
       "\n",
       "\t\t<div class=\"comment-reply\"><a rel='nofollow' class='comment-reply-link' href='#comment-174253' data-commentid=\"174253\" data-postid=\"55281\" data-belowelement=\"article-comment-174253\" data-respondelement=\"respond\" aria-label='Reply to Sam'>Reply</a></div>\n",
       "\t\t\n",
       "\t</article>\n",
       "\t<ul class=\"children\">\n",
       "\n",
       "\t<li class=\"comment odd alt depth-2\" id=\"comment-174299\">\n",
       "\t<article id=\"article-comment-174299\">\n",
       "\n",
       "\t\t\n",
       "\t\t<header class=\"comment-header\">\n",
       "\t\t\t<p class=\"comment-author\">\n",
       "\t\t\t\t<span class=\"comment-author-name\">VJAM</span> <span class=\"says\">says</span>\t\t\t</p>\n",
       "\n",
       "\t\t\t<p class=\"comment-meta\"><time class=\"comment-time\"><a class=\"comment-time-link\" href=\"http://carsalesbase.com/us-car-sales-analysis-2019-brands/#comment-174299\">January 11, 2020 at 01:35</a></time></p>\t\t</header>\n",
       "\n",
       "\t\t<div class=\"comment-content\">\n",
       "\t\t\t\n",
       "\t\t\t<p>I thought the same, maybe next year they can sell 5 cars!! 😀</p>\n",
       "\t\t</div>\n",
       "\n",
       "\t\t<div class=\"comment-reply\"><a rel='nofollow' class='comment-reply-link' href='#comment-174299' data-commentid=\"174299\" data-postid=\"55281\" data-belowelement=\"article-comment-174299\" data-respondelement=\"respond\" aria-label='Reply to VJAM'>Reply</a></div>\n",
       "\t\t\n",
       "\t</article>\n",
       "\t<ul class=\"children\">\n",
       "\n",
       "\t<li class=\"comment even depth-3\" id=\"comment-174480\">\n",
       "\t<article id=\"article-comment-174480\">\n",
       "\n",
       "\t\t\n",
       "\t\t<header class=\"comment-header\">\n",
       "\t\t\t<p class=\"comment-author\">\n",
       "\t\t\t\t<span class=\"comment-author-name\">RickM</span> <span class=\"says\">says</span>\t\t\t</p>\n",
       "\n",
       "\t\t\t<p class=\"comment-meta\"><time class=\"comment-time\"><a class=\"comment-time-link\" href=\"http://carsalesbase.com/us-car-sales-analysis-2019-brands/#comment-174480\">January 12, 2020 at 12:32</a></time></p>\t\t</header>\n",
       "\n",
       "\t\t<div class=\"comment-content\">\n",
       "\t\t\t\n",
       "\t\t\t<p>Sam &amp; VJAM, an outlandish humorous duo! Go present the 2020 Grammy Awards.</p>\n",
       "\t\t</div>\n",
       "\n",
       "\t\t\n",
       "\t\t\n",
       "\t</article>\n",
       "\t</li><!-- #comment-## -->\n",
       "</ul><!-- .children -->\n",
       "</li><!-- #comment-## -->\n",
       "</ul><!-- .children -->\n",
       "</li><!-- #comment-## -->\n",
       "\n",
       "\t<li class=\"comment odd alt thread-even depth-1\" id=\"comment-174276\">\n",
       "\t<article id=\"article-comment-174276\">\n",
       "\n",
       "\t\t\n",
       "\t\t<header class=\"comment-header\">\n",
       "\t\t\t<p class=\"comment-author\">\n",
       "\t\t\t\t<span class=\"comment-author-name\">Sam</span> <span class=\"says\">says</span>\t\t\t</p>\n",
       "\n",
       "\t\t\t<p class=\"comment-meta\"><time class=\"comment-time\"><a class=\"comment-time-link\" href=\"http://carsalesbase.com/us-car-sales-analysis-2019-brands/#comment-174276\">January 10, 2020 at 20:55</a></time></p>\t\t</header>\n",
       "\n",
       "\t\t<div class=\"comment-content\">\n",
       "\t\t\t\n",
       "\t\t\t<p>FYI: There is an error in the code for the European car sales analysis November 2019 article, so it cannot be opened.</p>\n",
       "\t\t</div>\n",
       "\n",
       "\t\t<div class=\"comment-reply\"><a rel='nofollow' class='comment-reply-link' href='#comment-174276' data-commentid=\"174276\" data-postid=\"55281\" data-belowelement=\"article-comment-174276\" data-respondelement=\"respond\" aria-label='Reply to Sam'>Reply</a></div>\n",
       "\t\t\n",
       "\t</article>\n",
       "\t</li><!-- #comment-## -->\n",
       "\n",
       "\t<li class=\"comment even thread-odd thread-alt depth-1\" id=\"comment-174278\">\n",
       "\t<article id=\"article-comment-174278\">\n",
       "\n",
       "\t\t\n",
       "\t\t<header class=\"comment-header\">\n",
       "\t\t\t<p class=\"comment-author\">\n",
       "\t\t\t\t<span class=\"comment-author-name\">Easy Driver</span> <span class=\"says\">says</span>\t\t\t</p>\n",
       "\n",
       "\t\t\t<p class=\"comment-meta\"><time class=\"comment-time\"><a class=\"comment-time-link\" href=\"http://carsalesbase.com/us-car-sales-analysis-2019-brands/#comment-174278\">January 10, 2020 at 21:22</a></time></p>\t\t</header>\n",
       "\n",
       "\t\t<div class=\"comment-content\">\n",
       "\t\t\t\n",
       "\t\t\t<p>Where is Maserati?</p>\n",
       "\t\t</div>\n",
       "\n",
       "\t\t<div class=\"comment-reply\"><a rel='nofollow' class='comment-reply-link' href='#comment-174278' data-commentid=\"174278\" data-postid=\"55281\" data-belowelement=\"article-comment-174278\" data-respondelement=\"respond\" aria-label='Reply to Easy Driver'>Reply</a></div>\n",
       "\t\t\n",
       "\t</article>\n",
       "\t</li><!-- #comment-## -->\n",
       "\n",
       "\t<li class=\"comment odd alt thread-even depth-1\" id=\"comment-174292\">\n",
       "\t<article id=\"article-comment-174292\">\n",
       "\n",
       "\t\t\n",
       "\t\t<header class=\"comment-header\">\n",
       "\t\t\t<p class=\"comment-author\">\n",
       "\t\t\t\t<span class=\"comment-author-name\">Losange</span> <span class=\"says\">says</span>\t\t\t</p>\n",
       "\n",
       "\t\t\t<p class=\"comment-meta\"><time class=\"comment-time\"><a class=\"comment-time-link\" href=\"http://carsalesbase.com/us-car-sales-analysis-2019-brands/#comment-174292\">January 11, 2020 at 00:33</a></time></p>\t\t</header>\n",
       "\n",
       "\t\t<div class=\"comment-content\">\n",
       "\t\t\t\n",
       "\t\t\t<p>I&#8217;m not a fan of Subaru, but their performance amazes me. Outselling VW of America as a company and at brand level the distance between them is even greater. It&#8217;s like Americans live in a different world&#8230; 😉<br />\n",
       ".<br />\n",
       "VW being the best selling German brand is nothing special. They should be, because the others are luxury brands, but Mercedes and BMW are almost able to sell the same amount of cars. So let&#8217;s be honest, VW does a crappy job in America compared with mainstream competitors like Hyundai-Kia and the Japanese armada.<br />\n",
       ".<br />\n",
       "FCA should really reposition themselves in the US. Sometimes you have to accept things don&#8217;t work like offering Alfa Romeo (i.e. fancy schmancy sports cars) and Fiat (i.e. small cars) to Americans.</p>\n",
       "\t\t</div>\n",
       "\n",
       "\t\t<div class=\"comment-reply\"><a rel='nofollow' class='comment-reply-link' href='#comment-174292' data-commentid=\"174292\" data-postid=\"55281\" data-belowelement=\"article-comment-174292\" data-respondelement=\"respond\" aria-label='Reply to Losange'>Reply</a></div>\n",
       "\t\t\n",
       "\t</article>\n",
       "\t<ul class=\"children\">\n",
       "\n",
       "\t<li class=\"comment even depth-2\" id=\"comment-174478\">\n",
       "\t<article id=\"article-comment-174478\">\n",
       "\n",
       "\t\t\n",
       "\t\t<header class=\"comment-header\">\n",
       "\t\t\t<p class=\"comment-author\">\n",
       "\t\t\t\t<span class=\"comment-author-name\">RickM</span> <span class=\"says\">says</span>\t\t\t</p>\n",
       "\n",
       "\t\t\t<p class=\"comment-meta\"><time class=\"comment-time\"><a class=\"comment-time-link\" href=\"http://carsalesbase.com/us-car-sales-analysis-2019-brands/#comment-174478\">January 12, 2020 at 12:27</a></time></p>\t\t</header>\n",
       "\n",
       "\t\t<div class=\"comment-content\">\n",
       "\t\t\t\n",
       "\t\t\t<p>Modest Subaru, with a mere 3 model line up and NO truck, outsells the notoriously bragging Wolfsburg outfit&#8217;s line-up with 12 models 2:1. Whats more, for decades VW  NA was a loss-making operation. As it likely is today &#8230;. No so flourishing Subaru NA.</p>\n",
       "\t\t</div>\n",
       "\n",
       "\t\t<div class=\"comment-reply\"><a rel='nofollow' class='comment-reply-link' href='#comment-174478' data-commentid=\"174478\" data-postid=\"55281\" data-belowelement=\"article-comment-174478\" data-respondelement=\"respond\" aria-label='Reply to RickM'>Reply</a></div>\n",
       "\t\t\n",
       "\t</article>\n",
       "\t</li><!-- #comment-## -->\n",
       "</ul><!-- .children -->\n",
       "</li><!-- #comment-## -->\n",
       "\n",
       "\t<li class=\"comment odd alt thread-odd thread-alt depth-1\" id=\"comment-174300\">\n",
       "\t<article id=\"article-comment-174300\">\n",
       "\n",
       "\t\t\n",
       "\t\t<header class=\"comment-header\">\n",
       "\t\t\t<p class=\"comment-author\">\n",
       "\t\t\t\t<span class=\"comment-author-name\">VJAM</span> <span class=\"says\">says</span>\t\t\t</p>\n",
       "\n",
       "\t\t\t<p class=\"comment-meta\"><time class=\"comment-time\"><a class=\"comment-time-link\" href=\"http://carsalesbase.com/us-car-sales-analysis-2019-brands/#comment-174300\">January 11, 2020 at 02:00</a></time></p>\t\t</header>\n",
       "\n",
       "\t\t<div class=\"comment-content\">\n",
       "\t\t\t\n",
       "\t\t\t<p>I would love to see Dodge, Chrysler, Peugeot, Fiat, Opel and Citroën in all segments, in every market, but that&#8217;s completely impossible. They all more or less compete for the same costumers, so they&#8217;ll need to set up priorities in each market and, unlike Tavares, I think some brands should be dropped.<br />\n",
       "In the US, and the world, Chrysler doesn&#8217;t mean much anymore and all efforts should be made to rescue Dodge who seem to have a better brand recognition.<br />\n",
       "The European brands should stay focused in Europe and Latin America, while trying to renew their image in China.<br />\n",
       "The most important thing to do first though, is bringing new product to the FCA brands, and if needed, use some models already being sold some where else but not in the US (been thinking a Dodge Avenger based on the current Pug 508 would be sweet&#8230;). And invest heavely on electrification</p>\n",
       "\t\t</div>\n",
       "\n",
       "\t\t<div class=\"comment-reply\"><a rel='nofollow' class='comment-reply-link' href='#comment-174300' data-commentid=\"174300\" data-postid=\"55281\" data-belowelement=\"article-comment-174300\" data-respondelement=\"respond\" aria-label='Reply to VJAM'>Reply</a></div>\n",
       "\t\t\n",
       "\t</article>\n",
       "\t<ul class=\"children\">\n",
       "\n",
       "\t<li class=\"comment even depth-2\" id=\"comment-174389\">\n",
       "\t<article id=\"article-comment-174389\">\n",
       "\n",
       "\t\t\n",
       "\t\t<header class=\"comment-header\">\n",
       "\t\t\t<p class=\"comment-author\">\n",
       "\t\t\t\t<span class=\"comment-author-name\">Losange</span> <span class=\"says\">says</span>\t\t\t</p>\n",
       "\n",
       "\t\t\t<p class=\"comment-meta\"><time class=\"comment-time\"><a class=\"comment-time-link\" href=\"http://carsalesbase.com/us-car-sales-analysis-2019-brands/#comment-174389\">January 11, 2020 at 18:13</a></time></p>\t\t</header>\n",
       "\n",
       "\t\t<div class=\"comment-content\">\n",
       "\t\t\t\n",
       "\t\t\t<p>Last year, Carlos Tavares stated Peugeot will return to the North American market within three to four years. 2026 was their target, but the acquisition of Opel helps them getting to know the American specifications faster. I think Chrysler will be replaced by Peugeot in the long run.</p>\n",
       "\t\t</div>\n",
       "\n",
       "\t\t<div class=\"comment-reply\"><a rel='nofollow' class='comment-reply-link' href='#comment-174389' data-commentid=\"174389\" data-postid=\"55281\" data-belowelement=\"article-comment-174389\" data-respondelement=\"respond\" aria-label='Reply to Losange'>Reply</a></div>\n",
       "\t\t\n",
       "\t</article>\n",
       "\t<ul class=\"children\">\n",
       "\n",
       "\t<li class=\"comment odd alt depth-3\" id=\"comment-175332\">\n",
       "\t<article id=\"article-comment-175332\">\n",
       "\n",
       "\t\t\n",
       "\t\t<header class=\"comment-header\">\n",
       "\t\t\t<p class=\"comment-author\">\n",
       "\t\t\t\t<span class=\"comment-author-name\">RickM</span> <span class=\"says\">says</span>\t\t\t</p>\n",
       "\n",
       "\t\t\t<p class=\"comment-meta\"><time class=\"comment-time\"><a class=\"comment-time-link\" href=\"http://carsalesbase.com/us-car-sales-analysis-2019-brands/#comment-175332\">January 20, 2020 at 10:24</a></time></p>\t\t</header>\n",
       "\n",
       "\t\t<div class=\"comment-content\">\n",
       "\t\t\t\n",
       "\t\t\t<p>&#8221; I think Chrysler will be replaced by Peugeot in the long run&#8221;. HIGH-ly unlikely. A household name in the USA vs some unknown and difficult to pronounce Gallic car builder &#8211; the average Yank would turn its back.</p>\n",
       "\t\t</div>\n",
       "\n",
       "\t\t\n",
       "\t\t\n",
       "\t</article>\n",
       "\t</li><!-- #comment-## -->\n",
       "</ul><!-- .children -->\n",
       "</li><!-- #comment-## -->\n",
       "</ul><!-- .children -->\n",
       "</li><!-- #comment-## -->\n",
       "\n",
       "\t<li class=\"comment even thread-even depth-1\" id=\"comment-174531\">\n",
       "\t<article id=\"article-comment-174531\">\n",
       "\n",
       "\t\t\n",
       "\t\t<header class=\"comment-header\">\n",
       "\t\t\t<p class=\"comment-author\">\n",
       "\t\t\t\t<span class=\"comment-author-name\">Pedro Evandro Montini</span> <span class=\"says\">says</span>\t\t\t</p>\n",
       "\n",
       "\t\t\t<p class=\"comment-meta\"><time class=\"comment-time\"><a class=\"comment-time-link\" href=\"http://carsalesbase.com/us-car-sales-analysis-2019-brands/#comment-174531\">January 13, 2020 at 03:59</a></time></p>\t\t</header>\n",
       "\n",
       "\t\t<div class=\"comment-content\">\n",
       "\t\t\t\n",
       "\t\t\t<p>Que desastre a Alfa! Que pena!</p>\n",
       "\t\t</div>\n",
       "\n",
       "\t\t<div class=\"comment-reply\"><a rel='nofollow' class='comment-reply-link' href='#comment-174531' data-commentid=\"174531\" data-postid=\"55281\" data-belowelement=\"article-comment-174531\" data-respondelement=\"respond\" aria-label='Reply to Pedro Evandro Montini'>Reply</a></div>\n",
       "\t\t\n",
       "\t</article>\n",
       "\t</li><!-- #comment-## -->\n",
       "\n",
       "\t<li class=\"comment odd alt thread-odd thread-alt depth-1\" id=\"comment-175379\">\n",
       "\t<article id=\"article-comment-175379\">\n",
       "\n",
       "\t\t\n",
       "\t\t<header class=\"comment-header\">\n",
       "\t\t\t<p class=\"comment-author\">\n",
       "\t\t\t\t<span class=\"comment-author-name\">Losange</span> <span class=\"says\">says</span>\t\t\t</p>\n",
       "\n",
       "\t\t\t<p class=\"comment-meta\"><time class=\"comment-time\"><a class=\"comment-time-link\" href=\"http://carsalesbase.com/us-car-sales-analysis-2019-brands/#comment-175379\">January 20, 2020 at 22:13</a></time></p>\t\t</header>\n",
       "\n",
       "\t\t<div class=\"comment-content\">\n",
       "\t\t\t\n",
       "\t\t\t<p>@RickM<br />\n",
       ".<br />\n",
       "Perhaps you&#8217;re right, but looking at the performance of Chrysler throughout the most recent years and their current line-up, I can see FCA pulling the plug. American brands leaving the American market isn&#8217;t that unusual. Chrysler should be way above Acura, Cadillac, Lincoln, Infiniti and Lexus, but they&#8217;re not.</p>\n",
       "\t\t</div>\n",
       "\n",
       "\t\t<div class=\"comment-reply\"><a rel='nofollow' class='comment-reply-link' href='#comment-175379' data-commentid=\"175379\" data-postid=\"55281\" data-belowelement=\"article-comment-175379\" data-respondelement=\"respond\" aria-label='Reply to Losange'>Reply</a></div>\n",
       "\t\t\n",
       "\t</article>\n",
       "\t</li><!-- #comment-## -->\n",
       "</ol></div>\t<div id=\"respond\" class=\"comment-respond\">\n",
       "\t\t<h3 id=\"reply-title\" class=\"comment-reply-title\">Let me know what you think of this article. Thanks! <small><a rel=\"nofollow\" id=\"cancel-comment-reply-link\" href=\"/us-car-sales-analysis-2019-brands/#respond\" style=\"display:none;\">Cancel reply</a></small></h3><form action=\"http://carsalesbase.com/wp-comments-post.php\" method=\"post\" id=\"commentform\" class=\"comment-form\" novalidate><p class=\"comment-notes\"><span id=\"email-notes\">Your email address will not be published.</span> Required fields are marked <span class=\"required\">*</span></p><p class=\"comment-form-comment\"><label for=\"comment\">Comment</label> <textarea id=\"comment\" name=\"comment\" cols=\"45\" rows=\"8\" maxlength=\"65525\" required=\"required\"></textarea></p><p class=\"comment-form-author\"><label for=\"author\">Name <span class=\"required\">*</span></label> <input id=\"author\" name=\"author\" type=\"text\" value=\"\" size=\"30\" maxlength=\"245\" required='required' /></p>\n",
       "<p class=\"comment-form-email\"><label for=\"email\">Email <span class=\"required\">*</span></label> <input id=\"email\" name=\"email\" type=\"email\" value=\"\" size=\"30\" maxlength=\"100\" aria-describedby=\"email-notes\" required='required' /></p>\n",
       "<p class=\"comment-form-url\"><label for=\"url\">Website</label> <input id=\"url\" name=\"url\" type=\"url\" value=\"\" size=\"30\" maxlength=\"200\" /></p>\n",
       "<p class=\"comment-subscription-form\"><input type=\"checkbox\" name=\"subscribe_comments\" id=\"subscribe_comments\" value=\"subscribe\" style=\"width: auto; -moz-appearance: checkbox; -webkit-appearance: checkbox;\" /> <label class=\"subscribe-label\" id=\"subscribe-label\" for=\"subscribe_comments\">Notify me of follow-up comments by email.</label></p><p class=\"comment-subscription-form\"><input type=\"checkbox\" name=\"subscribe_blog\" id=\"subscribe_blog\" value=\"subscribe\" style=\"width: auto; -moz-appearance: checkbox; -webkit-appearance: checkbox;\" /> <label class=\"subscribe-label\" id=\"subscribe-blog-label\" for=\"subscribe_blog\">Notify me of new posts by email.</label></p><p class=\"form-submit\"><input name=\"submit\" type=\"submit\" id=\"submit\" class=\"submit\" value=\"Post Comment\" /> <input type='hidden' name='comment_post_ID' value='55281' id='comment_post_ID' />\n",
       "<input type='hidden' name='comment_parent' id='comment_parent' value='0' />\n",
       "</p><input type='hidden' id='ct_checkjs_b4288d9c0ec0a1841b3b3728321e7088' name='ct_checkjs' value='0' /><script type='text/javascript'>window.addEventListener('load', function () {setTimeout(function(){                    apbct_sendAJAXRequest(                        {action: 'apbct_js_keys__get'},                        {callback: apbct_js_keys__set_input_value, input_name: 'ct_checkjs_b4288d9c0ec0a1841b3b3728321e7088'}                    );                }, 1000);});</script></form>\t</div><!-- #respond -->\n",
       "\t<script id=\"mNCC\" language=\"javascript\">\r\n",
       "    medianet_width = \"600\";\r\n",
       "    medianet_height = \"250\";\r\n",
       "    medianet_crid = \"957246221\";\r\n",
       "    medianet_versionId = \"3111299\"; \r\n",
       "  </script>\r\n",
       "<script src=\"//contextual.media.net/nmedianet.js?cid=8CUQT2NEU\"></script></main><aside class=\"sidebar sidebar-primary widget-area\" role=\"complementary\" aria-label=\"Primary Sidebar\"><section id=\"car_sales_search-2\" class=\"widget widget_car_sales_search\"><div class=\"widget-wrap\"><h4 class=\"widget-title widgettitle\">European car sales data</h4>\n",
       "\r\n",
       "\t\t<div class=\"car-sales-search-container\">\r\n",
       "\t\r\n",
       "\r\n",
       "\t\t\t<form role=\"search\" method=\"get\" class=\"search-form\" action=\"http://carsalesbase.com/\">\r\n",
       "\t<input type=\"hidden\" name=\"hide-value\" id=\"hide-value\" class=\"\" value=\"1\"></input>\r\n",
       "\t\r\n",
       "\t\t\t\t<select id=\"brand-option\" name=\"brand-option\" class=\"kelas1\">\r\n",
       " \r\n",
       "\t\t\t\t\t<option  value=\"0\">Select Brand</option> \r\n",
       "\t\r\n",
       "\r\n",
       "\t\t\t\t\t <option value=\"82\"> Group</option> <option value=\"17\">Alfa Romeo</option> <option value=\"1\">Alpina</option> <option value=\"249\">Alpine</option> <option value=\"2\">Aston Martin</option> <option value=\"67\">Audi</option> <option value=\"68\">Bentley</option> <option value=\"4\">BMW</option> <option value=\"259\">Borgward</option> <option value=\"8\">Brilliance</option> <option value=\"69\">Bugatti</option> <option value=\"27\">Cadillac</option> <option value=\"75\">Caterham</option> <option value=\"29\">Chevrolet USA</option> <option value=\"28\">Chevrolet-Daewoo</option> <option value=\"13\">Chrysler</option> <option value=\"48\">Citroën</option> <option value=\"54\">Dacia</option> <option value=\"63\">Daihatsu</option> <option value=\"14\">Dodge</option> <option value=\"12\">DR Motor</option> <option value=\"160\">DS</option> <option value=\"18\">Ferrari</option> <option value=\"19\">Fiat</option> <option value=\"87\">Fisker </option> <option value=\"24\">Ford</option> <option value=\"33\">Great Wall</option> <option value=\"34\">Honda</option> <option value=\"30\">Hummer</option> <option value=\"35\">Hyundai</option> <option value=\"51\">Infiniti</option> <option value=\"89\">Isuzu</option> <option value=\"60\">Jaguar</option> <option value=\"15\">Jeep</option> <option value=\"36\">Kia</option> <option value=\"3\">Lada</option> <option value=\"70\">Lamborghini</option> <option value=\"20\">Lancia</option> <option value=\"23\">Lancia-Chrysler</option> <option value=\"61\">Land Rover</option> <option value=\"85\">Landwind</option> <option value=\"64\">Lexus</option> <option value=\"45\">Lotus</option> <option value=\"83\">Mahindra</option> <option value=\"21\">Maserati</option> <option value=\"78\">Maybach</option> <option value=\"40\">Mazda</option> <option value=\"88\">McLaren</option> <option value=\"9\">Mercedes-Benz</option> <option value=\"41\">MG</option> <option value=\"5\">Mini</option> <option value=\"44\">Mitsubishi</option> <option value=\"84\">Morgan</option> <option value=\"52\">Nissan</option> <option value=\"31\">Opel/Vauxhall</option> <option value=\"47\">Perodua</option> <option value=\"49\">Peugeot</option> <option value=\"71\">Porsche</option> <option value=\"46\">Proton</option> <option value=\"91\">Qoros</option> <option value=\"55\">Renault</option> <option value=\"6\">Rolls Royce</option> <option value=\"42\">Rover</option> <option value=\"58\">Saab</option> <option value=\"90\">SAIC MG</option> <option value=\"72\">Seat</option> <option value=\"73\">Skoda</option> <option value=\"10\">Smart</option> <option value=\"38\">SSangYong</option> <option value=\"56\">Subaru</option> <option value=\"57\">Suzuki</option> <option value=\"62\">Tata</option> <option value=\"86\">Tesla</option> <option value=\"65\">Toyota</option> <option value=\"74\">Volkswagen</option> <option value=\"26\">Volvo</option>\r\n",
       "\t\t\t\t</select>\r\n",
       "\r\n",
       "\t\t\t\t\t\t\t\r\n",
       "\t\t\t\t<select id=\"model-option\" name=\"model-option\" class=\"kelas1\"> \r\n",
       " \r\n",
       "\t\t\t\t\t<option value=\"0\">Select Model</option>\r\n",
       "\t\r\n",
       "\t\t\t\t</select>\r\n",
       "\t\t\t\t\r\n",
       "\t\t\t\t<input type=\"submit\" name=\"css-go\" value=\"Go\"/>\t\t\t\t\r\n",
       "\r\n",
       "\t\t\t</form>\t\r\n",
       "\r\n",
       "\t\t</div>\r\n",
       "\r\n",
       "\t\t</div></section>\n",
       "<section id=\"car_sales_search-13\" class=\"widget widget_car_sales_search\"><div class=\"widget-wrap\"><h4 class=\"widget-title widgettitle\">US car sales data</h4>\n",
       "\r\n",
       "\t\t<div class=\"car-sales-search-container\">\r\n",
       "\t\r\n",
       "\r\n",
       "\t\t\t<form role=\"search\" method=\"get\" class=\"search-form\" action=\"http://carsalesbase.com/\">\r\n",
       "\t<input type=\"hidden\" name=\"hide-value\" id=\"hide-value\" class=\"\" value=\"3\"></input>\r\n",
       "\t\r\n",
       "\t\t\t\t<select id=\"brand-option\" name=\"brand-option\" class=\"kelas3\">\r\n",
       " \r\n",
       "\t\t\t\t\t<option  value=\"0\">Select Brand</option> \r\n",
       "\t\r\n",
       "\r\n",
       "\t\t\t\t\t <option value=\"163\">Acura</option> <option value=\"164\">Alfa Romeo</option> <option value=\"165\">Aston Martin</option> <option value=\"166\">Audi</option> <option value=\"167\">Bentley</option> <option value=\"168\">BMW</option> <option value=\"169\">Buick</option> <option value=\"170\">Cadillac</option> <option value=\"171\">Chevrolet</option> <option value=\"172\">Chrysler</option> <option value=\"221\">Daewoo</option> <option value=\"222\">Daihatsu</option> <option value=\"269\">DMC DeLorean</option> <option value=\"173\">Dodge</option> <option value=\"272\">Eagle / AMC</option> <option value=\"174\">Ferrari</option> <option value=\"175\">Fiat</option> <option value=\"176\">Ford</option> <option value=\"227\">Genesis</option> <option value=\"177\">GMC</option> <option value=\"178\">Honda</option> <option value=\"179\">Hummer </option> <option value=\"180\">Hyundai</option> <option value=\"181\">Infiniti</option> <option value=\"182\">Isuzu</option> <option value=\"183\">Jaguar</option> <option value=\"184\">Jeep</option> <option value=\"185\">Kia</option> <option value=\"186\">Lamborghini</option> <option value=\"218\">Lancia</option> <option value=\"187\">Land Rover</option> <option value=\"188\">Lexus</option> <option value=\"189\">Lincoln </option> <option value=\"190\">Lotus </option> <option value=\"191\">Maserati</option> <option value=\"192\">Maybach</option> <option value=\"193\">Mazda</option> <option value=\"245\">McLaren</option> <option value=\"194\">Mercedes-Benz</option> <option value=\"195\">Mercury</option> <option value=\"219\">MG</option> <option value=\"196\">Mini</option> <option value=\"197\">Mitsubishi</option> <option value=\"198\">Nissan</option> <option value=\"213\">Oldsmobile</option> <option value=\"240\">Peugeot</option> <option value=\"270\">Plymouth</option> <option value=\"199\">Pontiac</option> <option value=\"200\">Porsche</option> <option value=\"201\">RAM</option> <option value=\"202\">Rolls Royce</option> <option value=\"203\">Saab</option> <option value=\"204\">Saturn</option> <option value=\"205\">Scion</option> <option value=\"206\">Smart</option> <option value=\"220\">Sterling</option> <option value=\"207\">Subaru</option> <option value=\"208\">Suzuki</option> <option value=\"209\">Tesla</option> <option value=\"210\">Toyota</option> <option value=\"217\">Triumph</option> <option value=\"211\">Volkswagen</option> <option value=\"212\">Volvo</option> <option value=\"215\">Yugo</option>\r\n",
       "\t\t\t\t</select>\r\n",
       "\r\n",
       "\t\t\t\t\t\t\t\r\n",
       "\t\t\t\t<select id=\"model-option\" name=\"model-option\" class=\"kelas3\"> \r\n",
       " \r\n",
       "\t\t\t\t\t<option value=\"0\">Select Model</option>\r\n",
       "\t\r\n",
       "\t\t\t\t</select>\r\n",
       "\t\t\t\t\r\n",
       "\t\t\t\t<input type=\"submit\" name=\"css-go\" value=\"Go\"/>\t\t\t\t\r\n",
       "\r\n",
       "\t\t\t</form>\t\r\n",
       "\r\n",
       "\t\t</div>\r\n",
       "\r\n",
       "\t\t</div></section>\n",
       "<section id=\"car_sales_search-4\" class=\"widget widget_car_sales_search\"><div class=\"widget-wrap\"><h4 class=\"widget-title widgettitle\">Chinese car sales data</h4>\n",
       "\r\n",
       "\t\t<div class=\"car-sales-search-container\">\r\n",
       "\t\r\n",
       "\r\n",
       "\t\t\t<form role=\"search\" method=\"get\" class=\"search-form\" action=\"http://carsalesbase.com/\">\r\n",
       "\t<input type=\"hidden\" name=\"hide-value\" id=\"hide-value\" class=\"\" value=\"2\"></input>\r\n",
       "\t\r\n",
       "\t\t\t\t<select id=\"brand-option\" name=\"brand-option\" class=\"kelas2\">\r\n",
       " \r\n",
       "\t\t\t\t\t<option  value=\"0\">Select Brand</option> \r\n",
       "\t\r\n",
       "\r\n",
       "\t\t\t\t\t <option value=\"239\">Acura</option> <option value=\"251\">Arcfox</option> <option value=\"92\">Audi</option> <option value=\"94\">BAIC</option> <option value=\"93\">Baojun</option> <option value=\"241\">Bisu</option> <option value=\"95\">BMW</option> <option value=\"226\">Borgward</option> <option value=\"96\">Brilliance</option> <option value=\"97\">Buick</option> <option value=\"98\">BYD</option> <option value=\"99\">Cadillac</option> <option value=\"100\">Changan</option> <option value=\"102\">Changhe</option> <option value=\"103\">Chery</option> <option value=\"131\">Chery Karry</option> <option value=\"104\">Chevrolet</option> <option value=\"105\">Ciimo</option> <option value=\"106\">Citroën</option> <option value=\"258\">Cos</option> <option value=\"256\">Dearcc</option> <option value=\"107\">Denza</option> <option value=\"108\">Dongfeng</option> <option value=\"260\">Dorcen</option> <option value=\"109\">DS</option> <option value=\"162\">Enranger (Yingzhi)</option> <option value=\"135\">Everus</option> <option value=\"110\">FAW</option> <option value=\"111\">Fiat</option> <option value=\"112\">Ford</option> <option value=\"113\">Foton</option> <option value=\"114\">GAC</option> <option value=\"115\">Geely</option> <option value=\"268\">Geometry</option> <option value=\"116\">Gonow</option> <option value=\"117\">Great Wall</option> <option value=\"118\">Hafei</option> <option value=\"119\">Haima</option> <option value=\"230\">Hanteng</option> <option value=\"120\">Haval</option> <option value=\"121\">Hawtai</option> <option value=\"122\">Honda</option> <option value=\"123\">Huanghai</option> <option value=\"242\">Huansu</option> <option value=\"158\">Huasong</option> <option value=\"124\">Hyundai</option> <option value=\"125\">Infiniti</option> <option value=\"248\">Isuzu</option> <option value=\"126\">JAC</option> <option value=\"229\">Jaguar</option> <option value=\"214\">Jeep</option> <option value=\"261\">Jetour</option> <option value=\"271\">Jetta</option> <option value=\"127\">Jiangnan</option> <option value=\"128\">Jinbei</option> <option value=\"129\">JMC</option> <option value=\"130\">Jonway</option> <option value=\"132\">Kia</option> <option value=\"225\">Land Rover</option> <option value=\"133\">Landwind</option> <option value=\"101\">Leopaard</option> <option value=\"274\">Levdeo</option> <option value=\"134\">Lifan</option> <option value=\"247\">Lincoln</option> <option value=\"264\">Link Tour</option> <option value=\"136\">Luxgen</option> <option value=\"250\">Lynk & Co</option> <option value=\"138\">Mazda</option> <option value=\"139\">Mercedes-Benz</option> <option value=\"141\">Mitsubishi</option> <option value=\"223\">Nanjing Yuejin</option> <option value=\"266\">Neta</option> <option value=\"262\">Nio</option> <option value=\"142\">Nissan</option> <option value=\"263\">Ora</option> <option value=\"143\">Peugeot</option> <option value=\"216\">Qiteng</option> <option value=\"144\">Qoros</option> <option value=\"224\">Renault</option> <option value=\"137\">SAIC Maxus</option> <option value=\"140\">SAIC MG</option> <option value=\"145\">SAIC Roewe</option> <option value=\"275\">Sitech</option> <option value=\"146\">Skoda</option> <option value=\"273\">Sol</option> <option value=\"147\">Soueast</option> <option value=\"148\">Suzuki</option> <option value=\"228\">SWM Motor</option> <option value=\"149\">Toyota</option> <option value=\"253\">Traum</option> <option value=\"150\">Venucia</option> <option value=\"276\">VGV</option> <option value=\"151\">Volkswagen</option> <option value=\"152\">Volvo</option> <option value=\"267\">Weltmeister</option> <option value=\"246\">Wey</option> <option value=\"153\">Wuling</option> <option value=\"254\">Xpeng</option> <option value=\"154\">Yema</option> <option value=\"265\">YGM</option> <option value=\"155\">Youngman Lotus</option> <option value=\"255\">Yudo</option> <option value=\"244\">Zhidou</option> <option value=\"157\">Zhongxing ZX Auto</option> <option value=\"156\">Zotye</option>\r\n",
       "\t\t\t\t</select>\r\n",
       "\r\n",
       "\t\t\t\t\t\t\t\r\n",
       "\t\t\t\t<select id=\"model-option\" name=\"model-option\" class=\"kelas2\"> \r\n",
       " \r\n",
       "\t\t\t\t\t<option value=\"0\">Select Model</option>\r\n",
       "\t\r\n",
       "\t\t\t\t</select>\r\n",
       "\t\t\t\t\r\n",
       "\t\t\t\t<input type=\"submit\" name=\"css-go\" value=\"Go\"/>\t\t\t\t\r\n",
       "\r\n",
       "\t\t\t</form>\t\r\n",
       "\r\n",
       "\t\t</div>\r\n",
       "\r\n",
       "\t\t</div></section>\n",
       "<section id=\"car_sales_search-14\" class=\"widget widget_car_sales_search\"><div class=\"widget-wrap\"><h4 class=\"widget-title widgettitle\">Worldwide car sales data:</h4>\n",
       "\r\n",
       "\t\t<div class=\"car-sales-search-container\">\r\n",
       "\t\r\n",
       "\r\n",
       "\t\t\t<form role=\"search\" method=\"get\" class=\"search-form\" action=\"http://carsalesbase.com/\">\r\n",
       "\t<input type=\"hidden\" name=\"hide-value\" id=\"hide-value\" class=\"\" value=\"4\"></input>\r\n",
       "\t\r\n",
       "\t\t\t\t<select id=\"brand-option\" name=\"brand-option\" class=\"kelas4\">\r\n",
       "<option  value=\"0\">Select Continent</option> \r\n",
       "\t\r\n",
       "\r\n",
       "\t\t\t\t\t <option value=\"232\">Africa</option> <option value=\"236\">Asia Pacific</option> <option value=\"235\">Eurasia</option> <option value=\"231\">Europe</option> <option value=\"234\">India subcontinent</option> <option value=\"233\">Middle East</option> <option value=\"238\">North & Central America</option> <option value=\"237\">South America</option>\r\n",
       "\t\t\t\t</select>\r\n",
       "\r\n",
       "\t\t\t\t\t\t\t\r\n",
       "\t\t\t\t<select id=\"model-option\" name=\"model-option\" class=\"kelas4\"> \r\n",
       "<option value=\"0\">Select Country</option>\r\n",
       "\r\n",
       "\t\r\n",
       "\t\t\t\t</select>\r\n",
       "\t\t\t\t\r\n",
       "\t\t\t\t<input type=\"submit\" name=\"css-go\" value=\"Go\"/>\t\t\t\t\r\n",
       "\r\n",
       "\t\t\t</form>\t\r\n",
       "\r\n",
       "\t\t</div>\r\n",
       "\r\n",
       "\t\t</div></section>\n",
       "<section id=\"custom_html-3\" class=\"widget_text widget widget_custom_html\"><div class=\"widget_text widget-wrap\"><h4 class=\"widget-title widgettitle\">Comparison Tool</h4>\n",
       "<div class=\"textwidget custom-html-widget\">Compare sales by brand or model over time in chart or table format\r\n",
       "<a href=\"http://carsalesbase.com/car-sales-comparison\"><img src=\"http://carsalesbase.com/wp-content/uploads/2017/12/Screen-Shot-2017-12-30-at-11.47.36-PM-1-400x205.png\" alt=\"\" width=\"290\" class=\"aligncenter size-medium wp-image-48070\" /></a></div></div></section>\n",
       "<section id=\"paypal_donations-3\" class=\"widget widget_paypal_donations\"><div class=\"widget-wrap\"><p>Thank us for our work:</p>\n",
       "<!-- Begin PayPal Donations by https://www.tipsandtricks-hq.com/paypal-donations-widgets-plugin -->\n",
       "\n",
       "<form action=\"https://www.paypal.com/cgi-bin/webscr\" method=\"post\">\n",
       "    <div class=\"paypal-donations\">\n",
       "        <input type=\"hidden\" name=\"cmd\" value=\"_donations\" />\n",
       "        <input type=\"hidden\" name=\"bn\" value=\"TipsandTricks_SP\" />\n",
       "        <input type=\"hidden\" name=\"business\" value=\"SZR65RT82ZDZ8\" />\n",
       "        <input type=\"hidden\" name=\"rm\" value=\"0\" />\n",
       "        <input type=\"hidden\" name=\"currency_code\" value=\"EUR\" />\n",
       "        <input type=\"image\" style=\"cursor: pointer;\" src=\"https://www.paypal.com/en_US/i/btn/btn_donate_LG.gif\" name=\"submit\" alt=\"PayPal - The safer, easier way to pay online.\" />\n",
       "        <img alt=\"\" src=\"https://www.paypal.com/en_US/i/scr/pixel.gif\" width=\"1\" height=\"1\" />\n",
       "    </div>\n",
       "</form>\n",
       "<!-- End PayPal Donations -->\n",
       "</div></section>\n",
       "<section id=\"text-4\" class=\"widget widget_text\"><div class=\"widget-wrap\">\t\t\t<div class=\"textwidget\"> <script async src=\"//pagead2.googlesyndication.com/pagead/js/adsbygoogle.js\"></script>\r\n",
       "<!-- Zijbalk rechts breed -->\r\n",
       "<ins class=\"adsbygoogle\"\r\n",
       "     style=\"display:inline-block;width:160px;height:600px\"\r\n",
       "     data-ad-client=\"ca-pub-9301392272469332\"\r\n",
       "     data-ad-slot=\"4347005809\"></ins>\r\n",
       "<script>\r\n",
       "(adsbygoogle = window.adsbygoogle || []).push({});\r\n",
       "</script></div>\n",
       "\t\t</div></section>\n",
       "\t\t<section id=\"recent-posts-3\" class=\"widget widget_recent_entries\"><div class=\"widget-wrap\">\t\t<h4 class=\"widget-title widgettitle\">Recent Posts</h4>\n",
       "\t\t<ul>\n",
       "\t\t\t\t\t\t\t\t\t\t\t<li>\n",
       "\t\t\t\t\t<a href=\"http://carsalesbase.com/us-car-sales-analysis-2019-minicars/\">US car sales analysis 2019 &#8211; Minicars</a>\n",
       "\t\t\t\t\t\t\t\t\t</li>\n",
       "\t\t\t\t\t\t\t\t\t\t\t<li>\n",
       "\t\t\t\t\t<a href=\"http://carsalesbase.com/china-car-sales-analysis-2019-models/\">China car sales analysis 2019 &#8211; models</a>\n",
       "\t\t\t\t\t\t\t\t\t</li>\n",
       "\t\t\t\t\t\t\t\t\t\t\t<li>\n",
       "\t\t\t\t\t<a href=\"http://carsalesbase.com/china-car-sales-analysis-2019-brands/\">China car sales analysis 2019 &#8211; brands</a>\n",
       "\t\t\t\t\t\t\t\t\t</li>\n",
       "\t\t\t\t\t\t\t\t\t\t\t<li>\n",
       "\t\t\t\t\t<a href=\"http://carsalesbase.com/us-car-sales-analysis-2019-brands/\" aria-current=\"page\">US car sales analysis 2019 &#8211; brands</a>\n",
       "\t\t\t\t\t\t\t\t\t</li>\n",
       "\t\t\t\t\t\t\t\t\t\t\t<li>\n",
       "\t\t\t\t\t<a href=\"http://carsalesbase.com/european-car-sales-analysis-november-2019/\">European car sales analysis November 2019</a>\n",
       "\t\t\t\t\t\t\t\t\t</li>\n",
       "\t\t\t\t\t\t\t\t\t\t\t<li>\n",
       "\t\t\t\t\t<a href=\"http://carsalesbase.com/european-car-sales-analysis-october-2019/\">European car sales analysis October 2019</a>\n",
       "\t\t\t\t\t\t\t\t\t</li>\n",
       "\t\t\t\t\t\t\t\t\t\t\t<li>\n",
       "\t\t\t\t\t<a href=\"http://carsalesbase.com/european-sales-2019-q3-ev-phev-segments/\">European sales 2019-Q3 EV and PHEV segments</a>\n",
       "\t\t\t\t\t\t\t\t\t</li>\n",
       "\t\t\t\t\t\t\t\t\t\t\t<li>\n",
       "\t\t\t\t\t<a href=\"http://carsalesbase.com/european-sales-2019-q3-premium-large-suv-segment/\">European sales 2019-Q3 Premium Large SUV segment</a>\n",
       "\t\t\t\t\t\t\t\t\t</li>\n",
       "\t\t\t\t\t\t\t\t\t\t\t<li>\n",
       "\t\t\t\t\t<a href=\"http://carsalesbase.com/european-sales-2019-q3-premium-midsized-compact-suv-segments/\">European sales 2019-Q3 Premium Midsized and Compact SUV segments</a>\n",
       "\t\t\t\t\t\t\t\t\t</li>\n",
       "\t\t\t\t\t\t\t\t\t\t\t<li>\n",
       "\t\t\t\t\t<a href=\"http://carsalesbase.com/european-sales-2019-q3-limousine-segment/\">European sales 2019-Q3 Limousine segment</a>\n",
       "\t\t\t\t\t\t\t\t\t</li>\n",
       "\t\t\t\t\t\t\t\t\t\t\t<li>\n",
       "\t\t\t\t\t<a href=\"http://carsalesbase.com/european-sales-2019-q3-premium-large-segment/\">European sales 2019-Q3 Premium Large segment</a>\n",
       "\t\t\t\t\t\t\t\t\t</li>\n",
       "\t\t\t\t\t\t\t\t\t\t\t<li>\n",
       "\t\t\t\t\t<a href=\"http://carsalesbase.com/european-sales-2019-q3-premium-midsized-segment/\">European sales 2019-Q3 Premium Midsized segment</a>\n",
       "\t\t\t\t\t\t\t\t\t</li>\n",
       "\t\t\t\t\t\t\t\t\t\t\t<li>\n",
       "\t\t\t\t\t<a href=\"http://carsalesbase.com/european-sales-2019-q3-premium-compact-segment/\">European sales 2019-Q3 Premium Compact segment</a>\n",
       "\t\t\t\t\t\t\t\t\t</li>\n",
       "\t\t\t\t\t\t\t\t\t\t\t<li>\n",
       "\t\t\t\t\t<a href=\"http://carsalesbase.com/european-sales-2019-q3-large-suv-segment/\">European sales 2019-Q3 large SUV segment</a>\n",
       "\t\t\t\t\t\t\t\t\t</li>\n",
       "\t\t\t\t\t\t\t\t\t\t\t<li>\n",
       "\t\t\t\t\t<a href=\"http://carsalesbase.com/european-sales-2019-q3-compact-midsized-crossover-segments/\">European sales 2019-Q3 compact &#038; midsized crossover segments</a>\n",
       "\t\t\t\t\t\t\t\t\t</li>\n",
       "\t\t\t\t\t\t\t\t\t\t\t<li>\n",
       "\t\t\t\t\t<a href=\"http://carsalesbase.com/european-sales-2019-q3-small-crossover-segment/\">European sales 2019-Q3 small crossover segment</a>\n",
       "\t\t\t\t\t\t\t\t\t</li>\n",
       "\t\t\t\t\t\t\t\t\t\t\t<li>\n",
       "\t\t\t\t\t<a href=\"http://carsalesbase.com/european-sales-2019-q3-large-mpv-segment/\">European sales 2019-Q3 large MPV segment</a>\n",
       "\t\t\t\t\t\t\t\t\t</li>\n",
       "\t\t\t\t\t\t\t\t\t\t\t<li>\n",
       "\t\t\t\t\t<a href=\"http://carsalesbase.com/european-sales-2019-q3-midsized-mpv-segment/\">European sales 2019-Q3 midsized MPV segment</a>\n",
       "\t\t\t\t\t\t\t\t\t</li>\n",
       "\t\t\t\t\t\t\t\t\t\t\t<li>\n",
       "\t\t\t\t\t<a href=\"http://carsalesbase.com/european-sales-2019-q3-midsized-car-segment/\">European sales 2019-Q3 Midsized car segment</a>\n",
       "\t\t\t\t\t\t\t\t\t</li>\n",
       "\t\t\t\t\t\t\t\t\t\t\t<li>\n",
       "\t\t\t\t\t<a href=\"http://carsalesbase.com/european-sales-2019-q3-compact-car-segment/\">European sales 2019-Q3 Compact car segment</a>\n",
       "\t\t\t\t\t\t\t\t\t</li>\n",
       "\t\t\t\t\t</ul>\n",
       "\t\t</div></section>\n",
       "<section id=\"facebook-likebox-2\" class=\"widget widget_facebook_likebox\"><div class=\"widget-wrap\"><h4 class=\"widget-title widgettitle\"><a href=\"https://www.facebook.com/carsalesbase\">Follow Carsalesbase.com</a></h4>\n",
       "\t\t<div id=\"fb-root\"></div>\n",
       "\t\t<div class=\"fb-page\" data-href=\"https://www.facebook.com/carsalesbase\" data-width=\"340\"  data-height=\"580\" data-hide-cover=\"false\" data-show-facepile=\"true\" data-tabs=\"timeline\">\n",
       "\t\t<div class=\"fb-xfbml-parse-ignore\"><blockquote cite=\"https://www.facebook.com/carsalesbase\"><a href=\"https://www.facebook.com/carsalesbase\">Follow Carsalesbase.com</a></blockquote></div>\n",
       "\t\t</div>\n",
       "\t\t</div></section>\n",
       "</aside></div></div><div class=\"footer-widgets\"><div class=\"wrap\"><div class=\"widget-area footer-widgets-1 footer-widget-area\"><section id=\"archives-5\" class=\"widget widget_archive\"><div class=\"widget-wrap\"><h4 class=\"widget-title widgettitle\">Archives</h4>\n",
       "\t\t<ul>\n",
       "\t\t\t\t<li><a href='http://carsalesbase.com/2020/01/'>January 2020</a></li>\n",
       "\t<li><a href='http://carsalesbase.com/2019/12/'>December 2019</a></li>\n",
       "\t<li><a href='http://carsalesbase.com/2019/11/'>November 2019</a></li>\n",
       "\t<li><a href='http://carsalesbase.com/2019/10/'>October 2019</a></li>\n",
       "\t<li><a href='http://carsalesbase.com/2019/09/'>September 2019</a></li>\n",
       "\t<li><a href='http://carsalesbase.com/2019/08/'>August 2019</a></li>\n",
       "\t<li><a href='http://carsalesbase.com/2019/07/'>July 2019</a></li>\n",
       "\t<li><a href='http://carsalesbase.com/2019/06/'>June 2019</a></li>\n",
       "\t<li><a href='http://carsalesbase.com/2019/05/'>May 2019</a></li>\n",
       "\t<li><a href='http://carsalesbase.com/2019/04/'>April 2019</a></li>\n",
       "\t<li><a href='http://carsalesbase.com/2019/03/'>March 2019</a></li>\n",
       "\t<li><a href='http://carsalesbase.com/2019/02/'>February 2019</a></li>\n",
       "\t<li><a href='http://carsalesbase.com/2019/01/'>January 2019</a></li>\n",
       "\t<li><a href='http://carsalesbase.com/2018/12/'>December 2018</a></li>\n",
       "\t<li><a href='http://carsalesbase.com/2018/11/'>November 2018</a></li>\n",
       "\t<li><a href='http://carsalesbase.com/2018/10/'>October 2018</a></li>\n",
       "\t<li><a href='http://carsalesbase.com/2018/09/'>September 2018</a></li>\n",
       "\t<li><a href='http://carsalesbase.com/2018/08/'>August 2018</a></li>\n",
       "\t<li><a href='http://carsalesbase.com/2018/07/'>July 2018</a></li>\n",
       "\t<li><a href='http://carsalesbase.com/2018/06/'>June 2018</a></li>\n",
       "\t<li><a href='http://carsalesbase.com/2018/05/'>May 2018</a></li>\n",
       "\t<li><a href='http://carsalesbase.com/2018/04/'>April 2018</a></li>\n",
       "\t<li><a href='http://carsalesbase.com/2018/03/'>March 2018</a></li>\n",
       "\t<li><a href='http://carsalesbase.com/2018/02/'>February 2018</a></li>\n",
       "\t<li><a href='http://carsalesbase.com/2018/01/'>January 2018</a></li>\n",
       "\t<li><a href='http://carsalesbase.com/2017/12/'>December 2017</a></li>\n",
       "\t<li><a href='http://carsalesbase.com/2017/11/'>November 2017</a></li>\n",
       "\t<li><a href='http://carsalesbase.com/2017/10/'>October 2017</a></li>\n",
       "\t<li><a href='http://carsalesbase.com/2017/09/'>September 2017</a></li>\n",
       "\t<li><a href='http://carsalesbase.com/2017/08/'>August 2017</a></li>\n",
       "\t<li><a href='http://carsalesbase.com/2017/07/'>July 2017</a></li>\n",
       "\t<li><a href='http://carsalesbase.com/2017/06/'>June 2017</a></li>\n",
       "\t<li><a href='http://carsalesbase.com/2017/05/'>May 2017</a></li>\n",
       "\t<li><a href='http://carsalesbase.com/2017/04/'>April 2017</a></li>\n",
       "\t<li><a href='http://carsalesbase.com/2017/03/'>March 2017</a></li>\n",
       "\t<li><a href='http://carsalesbase.com/2017/02/'>February 2017</a></li>\n",
       "\t<li><a href='http://carsalesbase.com/2017/01/'>January 2017</a></li>\n",
       "\t<li><a href='http://carsalesbase.com/2016/12/'>December 2016</a></li>\n",
       "\t<li><a href='http://carsalesbase.com/2016/11/'>November 2016</a></li>\n",
       "\t<li><a href='http://carsalesbase.com/2016/10/'>October 2016</a></li>\n",
       "\t<li><a href='http://carsalesbase.com/2016/09/'>September 2016</a></li>\n",
       "\t<li><a href='http://carsalesbase.com/2016/08/'>August 2016</a></li>\n",
       "\t<li><a href='http://carsalesbase.com/2016/07/'>July 2016</a></li>\n",
       "\t<li><a href='http://carsalesbase.com/2016/06/'>June 2016</a></li>\n",
       "\t<li><a href='http://carsalesbase.com/2016/05/'>May 2016</a></li>\n",
       "\t<li><a href='http://carsalesbase.com/2016/04/'>April 2016</a></li>\n",
       "\t<li><a href='http://carsalesbase.com/2016/03/'>March 2016</a></li>\n",
       "\t<li><a href='http://carsalesbase.com/2016/02/'>February 2016</a></li>\n",
       "\t<li><a href='http://carsalesbase.com/2016/01/'>January 2016</a></li>\n",
       "\t<li><a href='http://carsalesbase.com/2015/12/'>December 2015</a></li>\n",
       "\t<li><a href='http://carsalesbase.com/2015/11/'>November 2015</a></li>\n",
       "\t<li><a href='http://carsalesbase.com/2015/10/'>October 2015</a></li>\n",
       "\t<li><a href='http://carsalesbase.com/2015/09/'>September 2015</a></li>\n",
       "\t<li><a href='http://carsalesbase.com/2015/08/'>August 2015</a></li>\n",
       "\t<li><a href='http://carsalesbase.com/2015/07/'>July 2015</a></li>\n",
       "\t<li><a href='http://carsalesbase.com/2015/06/'>June 2015</a></li>\n",
       "\t<li><a href='http://carsalesbase.com/2015/05/'>May 2015</a></li>\n",
       "\t<li><a href='http://carsalesbase.com/2015/04/'>April 2015</a></li>\n",
       "\t<li><a href='http://carsalesbase.com/2015/03/'>March 2015</a></li>\n",
       "\t<li><a href='http://carsalesbase.com/2015/02/'>February 2015</a></li>\n",
       "\t<li><a href='http://carsalesbase.com/2015/01/'>January 2015</a></li>\n",
       "\t<li><a href='http://carsalesbase.com/2014/12/'>December 2014</a></li>\n",
       "\t<li><a href='http://carsalesbase.com/2014/11/'>November 2014</a></li>\n",
       "\t<li><a href='http://carsalesbase.com/2014/10/'>October 2014</a></li>\n",
       "\t<li><a href='http://carsalesbase.com/2014/09/'>September 2014</a></li>\n",
       "\t<li><a href='http://carsalesbase.com/2014/08/'>August 2014</a></li>\n",
       "\t<li><a href='http://carsalesbase.com/2014/07/'>July 2014</a></li>\n",
       "\t<li><a href='http://carsalesbase.com/2014/06/'>June 2014</a></li>\n",
       "\t<li><a href='http://carsalesbase.com/2014/05/'>May 2014</a></li>\n",
       "\t<li><a href='http://carsalesbase.com/2014/04/'>April 2014</a></li>\n",
       "\t<li><a href='http://carsalesbase.com/2014/03/'>March 2014</a></li>\n",
       "\t<li><a href='http://carsalesbase.com/2014/02/'>February 2014</a></li>\n",
       "\t<li><a href='http://carsalesbase.com/2014/01/'>January 2014</a></li>\n",
       "\t<li><a href='http://carsalesbase.com/2013/12/'>December 2013</a></li>\n",
       "\t<li><a href='http://carsalesbase.com/2013/11/'>November 2013</a></li>\n",
       "\t\t</ul>\n",
       "\t\t\t</div></section>\n",
       "</div><div class=\"widget-area footer-widgets-2 footer-widget-area\"><section id=\"categories-3\" class=\"widget widget_categories\"><div class=\"widget-wrap\"><h4 class=\"widget-title widgettitle\">Categories:</h4>\n",
       "\t\t<ul>\n",
       "\t\t\t\t<li class=\"cat-item cat-item-1023\"><a href=\"http://carsalesbase.com/category/auto-shows/\">Auto Shows</a>\n",
       "</li>\n",
       "\t<li class=\"cat-item cat-item-1073\"><a href=\"http://carsalesbase.com/category/car-sales-china/\">Car sales China</a>\n",
       "</li>\n",
       "\t<li class=\"cat-item cat-item-2\"><a href=\"http://carsalesbase.com/category/car-sales-europe/\">Car sales Europe</a>\n",
       "</li>\n",
       "\t<li class=\"cat-item cat-item-1128\"><a href=\"http://carsalesbase.com/category/car-sales-us/\">Car sales US</a>\n",
       "</li>\n",
       "\t<li class=\"cat-item cat-item-403\"><a href=\"http://carsalesbase.com/category/car-sales-europe/car-sales-segments/compact-segment/\" title=\"Car sales statistics for the compact car segment in Europe, updated every quarter.\">Compact car segment</a>\n",
       "</li>\n",
       "\t<li class=\"cat-item cat-item-492\"><a href=\"http://carsalesbase.com/category/car-sales-europe/car-sales-segments/coupe-convertible-segment/\" title=\"Car sales statistics for the coupe and convertible segments in Europe, updated every half year.\">Coupe and convertible segment</a>\n",
       "</li>\n",
       "\t<li class=\"cat-item cat-item-586\"><a href=\"http://carsalesbase.com/category/car-sales-europe/car-sales-segments/ev-segment/\" title=\"Car sales statistics for Electric Vehicles in Europe, updated every half.\">EV segment</a>\n",
       "</li>\n",
       "\t<li class=\"cat-item cat-item-418\"><a href=\"http://carsalesbase.com/category/car-sales-europe/car-sales-segments/exotic-car-segment/\" title=\"Car sales statistics for the exotic car segment in Europe, updated every quarter.\">Exotic car segment</a>\n",
       "</li>\n",
       "\t<li class=\"cat-item cat-item-6\"><a href=\"http://carsalesbase.com/category/fun-stuff/\">Fun stuff</a>\n",
       "</li>\n",
       "\t<li class=\"cat-item cat-item-4\"><a href=\"http://carsalesbase.com/category/industry/\">Industry</a>\n",
       "</li>\n",
       "\t<li class=\"cat-item cat-item-1508\"><a href=\"http://carsalesbase.com/category/street-scenes/\">International Street Scenes</a>\n",
       "</li>\n",
       "\t<li class=\"cat-item cat-item-407\"><a href=\"http://carsalesbase.com/category/car-sales-europe/car-sales-segments/large-mpv-segment/\" title=\"Car sales statistics for the large MPV segment segment in Europe, updated every quarter.\">Large MPV segment</a>\n",
       "</li>\n",
       "\t<li class=\"cat-item cat-item-411\"><a href=\"http://carsalesbase.com/category/car-sales-europe/car-sales-segments/large-suv-segment/\" title=\"Car sales statistics for the large SUV / crossover segment in Europe, updated every quarter.\">Large SUV segment</a>\n",
       "</li>\n",
       "\t<li class=\"cat-item cat-item-1561\"><a href=\"http://carsalesbase.com/category/car-sales-europe/car-sales-segments/lcv-sales/\" title=\"Car sales statistics for light commercial vehicles in Europe, updated every year.\">LCV sales</a>\n",
       "</li>\n",
       "\t<li class=\"cat-item cat-item-415\"><a href=\"http://carsalesbase.com/category/car-sales-europe/car-sales-segments/limousine-segment/\" title=\"Car sales statistics for the limousine segment in Europe, updated every quarter.\">Limousine segment</a>\n",
       "</li>\n",
       "\t<li class=\"cat-item cat-item-1265\"><a href=\"http://carsalesbase.com/category/fun-stuff/lookalike/\">Look-a-like</a>\n",
       "</li>\n",
       "\t<li class=\"cat-item cat-item-404\"><a href=\"http://carsalesbase.com/category/car-sales-europe/car-sales-segments/midsize-segment/\" title=\"Car sales statistics for the midsized car segment in Europe, updated every quarter.\">Midsized car segment</a>\n",
       "</li>\n",
       "\t<li class=\"cat-item cat-item-406\"><a href=\"http://carsalesbase.com/category/car-sales-europe/car-sales-segments/midsized-mpv-segment/\" title=\"Car sales statistics for the midsized MPV segment segment in Europe, updated every quarter.\">Midsized MPV segment</a>\n",
       "</li>\n",
       "\t<li class=\"cat-item cat-item-410\"><a href=\"http://carsalesbase.com/category/car-sales-europe/car-sales-segments/midsized-suv-segment/\" title=\"Car sales statistics for the midsized SUV / crossover segment segment in Europe, updated every quarter.\">Midsized SUV segment</a>\n",
       "</li>\n",
       "\t<li class=\"cat-item cat-item-401\"><a href=\"http://carsalesbase.com/category/car-sales-europe/car-sales-segments/minicar-segment/\" title=\"Car sales statistics for the minicar segment in Europe, updated every quarter.\">Minicar segment</a>\n",
       "</li>\n",
       "\t<li class=\"cat-item cat-item-5\"><a href=\"http://carsalesbase.com/category/news/\">News</a>\n",
       "</li>\n",
       "\t<li class=\"cat-item cat-item-3\"><a href=\"http://carsalesbase.com/category/opinion/\">Opinion</a>\n",
       "</li>\n",
       "\t<li class=\"cat-item cat-item-419\"><a href=\"http://carsalesbase.com/category/car-sales-europe/car-sales-segments/passenger-van-segment/\" title=\"Car sales statistics for the passenger van segment segment in Europe, updated every quarter.\">Passenger van segment</a>\n",
       "</li>\n",
       "\t<li class=\"cat-item cat-item-1579\"><a href=\"http://carsalesbase.com/category/fun-stuff/polls/\">Polls</a>\n",
       "</li>\n",
       "\t<li class=\"cat-item cat-item-412\"><a href=\"http://carsalesbase.com/category/car-sales-europe/car-sales-segments/premium-compact-segment/\" title=\"Car sales statistics for the premium compact car segment in Europe, updated every quarter.\">Premium compact car segment</a>\n",
       "</li>\n",
       "\t<li class=\"cat-item cat-item-414\"><a href=\"http://carsalesbase.com/category/car-sales-europe/car-sales-segments/premium-large-car-segment/\" title=\"Car sales statistics for the premium large car segment in Europe, updated every quarter.\">Premium large car segment</a>\n",
       "</li>\n",
       "\t<li class=\"cat-item cat-item-417\"><a href=\"http://carsalesbase.com/category/car-sales-europe/car-sales-segments/premium-large-suv-segment/\" title=\"Car sales statistics for the premium large SUV / crossover segment in Europe, updated every quarter.\">Premium large SUV segment</a>\n",
       "</li>\n",
       "\t<li class=\"cat-item cat-item-416\"><a href=\"http://carsalesbase.com/category/car-sales-europe/car-sales-segments/premium-compact-suv-segment/\" title=\"Car sales statistics for the premium midsized and compact SUV / crossover segment in Europe, updated every quarter.\">Premium midsized and compact SUV segment</a>\n",
       "</li>\n",
       "\t<li class=\"cat-item cat-item-413\"><a href=\"http://carsalesbase.com/category/car-sales-europe/car-sales-segments/premium-midsize-segment/\" title=\"Car sales statistics for the premium midsized car segment in Europe, updated every quarter.\">Premium midsized car segment</a>\n",
       "</li>\n",
       "\t<li class=\"cat-item cat-item-427\"><a href=\"http://carsalesbase.com/category/reviews/\">Reviews</a>\n",
       "</li>\n",
       "\t<li class=\"cat-item cat-item-405\"><a href=\"http://carsalesbase.com/category/car-sales-europe/car-sales-segments/small-mpv-segment/\" title=\"Car sales statistics for the small MPV segment in Europe, updated every quarter.\">Small MPV segment</a>\n",
       "</li>\n",
       "\t<li class=\"cat-item cat-item-409\"><a href=\"http://carsalesbase.com/category/car-sales-europe/car-sales-segments/small-suv-segment/\" title=\"Car sales statistics for the small SUV / crossover segment segment in Europe, updated every quarter.\">Small SUV segment</a>\n",
       "</li>\n",
       "\t<li class=\"cat-item cat-item-402\"><a href=\"http://carsalesbase.com/category/car-sales-europe/car-sales-segments/subcompact-segment/\" title=\"Car sales statistics for the subcompact car segment in Europe, updated every quarter.\">Subcompact car segment</a>\n",
       "</li>\n",
       "\t<li class=\"cat-item cat-item-1\"><a href=\"http://carsalesbase.com/category/uncategorized/\">Uncategorized</a>\n",
       "</li>\n",
       "\t<li class=\"cat-item cat-item-1248\"><a href=\"http://carsalesbase.com/category/car-sales-us/car-sales-segments-us/ev-segment-us/\" title=\"Car sales statistics for the EV and alternative power car segment in the US, updated every quarter.\">US Alternative power segment</a>\n",
       "</li>\n",
       "\t<li class=\"cat-item cat-item-1244\"><a href=\"http://carsalesbase.com/category/car-sales-us/car-sales-segments-us/commercial-van-segment-us/\" title=\"Car sales statistics for the commercial van segment in the US, updated every quarter.\">US Commercial van segment</a>\n",
       "</li>\n",
       "\t<li class=\"cat-item cat-item-1225\"><a href=\"http://carsalesbase.com/category/car-sales-us/car-sales-segments-us/compact-segment-us/\" title=\"Car sales statistics for the compact car segment in the US, updated every quarter.\">US Compact car segment</a>\n",
       "</li>\n",
       "\t<li class=\"cat-item cat-item-1246\"><a href=\"http://carsalesbase.com/category/car-sales-us/car-sales-segments-us/compact-sportscar-segment-us/\" title=\"Car sales statistics for the compact sports car segment in the US, updated every quarter.\">US Compact sports car segment</a>\n",
       "</li>\n",
       "\t<li class=\"cat-item cat-item-1236\"><a href=\"http://carsalesbase.com/category/car-sales-us/car-sales-segments-us/compact-suv-segment-us/\" title=\"Car sales statistics for the compact SUV / crossover segment in the US, updated every quarter.\">US Compact SUV segment</a>\n",
       "</li>\n",
       "\t<li class=\"cat-item cat-item-1247\"><a href=\"http://carsalesbase.com/category/car-sales-us/car-sales-segments-us/exotic-car-segment-us/\" title=\"Car sales statistics for the exotic car segment in the US, updated every quarter.\">US Exotic car segment</a>\n",
       "</li>\n",
       "\t<li class=\"cat-item cat-item-1227\"><a href=\"http://carsalesbase.com/category/car-sales-us/car-sales-segments-us/large-segment-us/\" title=\"Car sales statistics for the large car segment in the US, updated every quarter.\">US Large car segment</a>\n",
       "</li>\n",
       "\t<li class=\"cat-item cat-item-1245\"><a href=\"http://carsalesbase.com/category/car-sales-us/car-sales-segments-us/large-sportscar-segment-us/\" title=\"Car sales statistics for the large sports car segment in the US, updated every quarter.\">US Large sports car segment</a>\n",
       "</li>\n",
       "\t<li class=\"cat-item cat-item-1238\"><a href=\"http://carsalesbase.com/category/car-sales-us/car-sales-segments-us/large-suv-segment-us/\" title=\"Car sales statistics for the large SUV segment in the US, updated every quarter.\">US Large SUV segment</a>\n",
       "</li>\n",
       "\t<li class=\"cat-item cat-item-1234\"><a href=\"http://carsalesbase.com/category/car-sales-us/car-sales-segments-us/limousine-segment-us/\" title=\"Car sales statistics for the limousine segment in the US, updated every quarter.\">US Limousine segment</a>\n",
       "</li>\n",
       "\t<li class=\"cat-item cat-item-1226\"><a href=\"http://carsalesbase.com/category/car-sales-us/car-sales-segments-us/midsized-segment-us/\" title=\"Car sales statistics for the mid-sized car segment in the US, updated every quarter.\">US Mid-sized car segment</a>\n",
       "</li>\n",
       "\t<li class=\"cat-item cat-item-1237\"><a href=\"http://carsalesbase.com/category/car-sales-us/car-sales-segments-us/midsized-suv-segment-us/\" title=\"Car sales statistics for the mid-sized SUV / crossover segment in the US, updated every quarter.\">US Mid-sized SUV segment</a>\n",
       "</li>\n",
       "\t<li class=\"cat-item cat-item-1229\"><a href=\"http://carsalesbase.com/category/car-sales-us/car-sales-segments-us/minicar-segment-us/\" title=\"Car sales statistics for the minicar segment in the US, updated every quarter.\">US Minicar segment</a>\n",
       "</li>\n",
       "\t<li class=\"cat-item cat-item-1230\"><a href=\"http://carsalesbase.com/category/car-sales-us/car-sales-segments-us/minivan-segment-us/\" title=\"Car sales statistics for the minivan segment in the US, updated every quarter.\">US Minivan segment</a>\n",
       "</li>\n",
       "\t<li class=\"cat-item cat-item-1242\"><a href=\"http://carsalesbase.com/category/car-sales-us/car-sales-segments-us/pickup-segment-us/\" title=\"Car sales statistics for the full-sized pickup truck segment in the US, updated every quarter.\">US Pickup segment</a>\n",
       "</li>\n",
       "\t<li class=\"cat-item cat-item-1231\"><a href=\"http://carsalesbase.com/category/car-sales-us/car-sales-segments-us/premium-compact-segment-us/\" title=\"Car sales statistics for the premium compact car segment in the US, updated every quarter.\">US Premium compact car segment</a>\n",
       "</li>\n",
       "\t<li class=\"cat-item cat-item-1239\"><a href=\"http://carsalesbase.com/category/car-sales-us/car-sales-segments-us/premium-compact-suv-segment-us/\" title=\"Car sales statistics for the premium compact SUV / crossover segment in the US, updated every quarter.\">US Premium compact SUV segment</a>\n",
       "</li>\n",
       "\t<li class=\"cat-item cat-item-1233\"><a href=\"http://carsalesbase.com/category/car-sales-us/car-sales-segments-us/premium-large-segment-us/\" title=\"Car sales statistics for the premium large car segment in the US, updated every quarter.\">US Premium large car segment</a>\n",
       "</li>\n",
       "\t<li class=\"cat-item cat-item-1241\"><a href=\"http://carsalesbase.com/category/car-sales-us/car-sales-segments-us/premium-large-suv-segment-us/\" title=\"Car sales statistics for the premium large SUV segment in the US, updated every quarter.\">US Premium large SUV segment</a>\n",
       "</li>\n",
       "\t<li class=\"cat-item cat-item-1232\"><a href=\"http://carsalesbase.com/category/car-sales-us/car-sales-segments-us/premium-midsized-segment-us/\" title=\"Car sales statistics for the premium mid-sized car segment in the US, updated every quarter.\">US Premium mid-sized car segment</a>\n",
       "</li>\n",
       "\t<li class=\"cat-item cat-item-1240\"><a href=\"http://carsalesbase.com/category/car-sales-us/car-sales-segments-us/premium-midsized-suv-segment-us/\" title=\"Car sales statistics for the premium mid-sized SUV / crossover segment in the US, updated every quarter.\">US Premium mid-sized SUV segment</a>\n",
       "</li>\n",
       "\t<li class=\"cat-item cat-item-1243\"><a href=\"http://carsalesbase.com/category/car-sales-us/car-sales-segments-us/small-pickup-segment-us/\" title=\"Car sales statistics for the small pickup truck segment in the US, updated every quarter.\">US Small pickup segment</a>\n",
       "</li>\n",
       "\t<li class=\"cat-item cat-item-1228\"><a href=\"http://carsalesbase.com/category/car-sales-us/car-sales-segments-us/subcompact-segment-us/\" title=\"Car sales statistics for the subcompact car segment in the US, updated every quarter.\">US Subcompact car segment</a>\n",
       "</li>\n",
       "\t<li class=\"cat-item cat-item-1235\"><a href=\"http://carsalesbase.com/category/car-sales-us/car-sales-segments-us/subcompact-suv-segment-us/\" title=\"Car sales statistics for the subcompact SUV / crossover segment in the US, updated every quarter.\">US Subcompact SUV segment</a>\n",
       "</li>\n",
       "\t\t</ul>\n",
       "\t\t\t</div></section>\n",
       "</div><div class=\"widget-area footer-widgets-3 footer-widget-area\">\t\t<section id=\"authors-2\" class=\"widget widget_authors\"><div class=\"widget-wrap\">\t\t\t<h4 class=\"widget-title widgettitle\">Authors</h4>\n",
       "\t\t\t<ul><li><a href=\"http://carsalesbase.com/author/leftlane/\" title=\"Posts by Bart Demandt\">Bart Demandt</a> </li>\n",
       "<li><a href=\"http://carsalesbase.com/author/colman-murphy/\" title=\"Posts by Colman Murphy\">Colman Murphy</a> </li>\n",
       "<li><a href=\"http://carsalesbase.com/author/jean-philippe-launberg/\" title=\"Posts by Jean-Philippe Launberg\">Jean-Philippe Launberg</a> </li>\n",
       "<li><a href=\"http://carsalesbase.com/author/john-mcharris/\" title=\"Posts by John McHarris\">John McHarris</a> </li>\n",
       "<li><a href=\"http://carsalesbase.com/author/john-v-ryan-pe/\" title=\"Posts by John V. Ryan, PE\">John V. Ryan, PE</a> </li>\n",
       "<li><a href=\"http://carsalesbase.com/author/krzysztof-wozniak/\" title=\"Posts by Krzysztof Wozniak\">Krzysztof Wozniak</a> </li>\n",
       "<li><a href=\"http://carsalesbase.com/author/rutger/\" title=\"Posts by Rutger Van der Maar\">Rutger Van der Maar</a> </li>\n",
       "</ul>\t\t\t\t\t</div></section>\n",
       "\t</div></div></div><footer class=\"site-footer\"><div class=\"wrap\"><p>Copyright &#x000A9;&nbsp;2020 · <a href=\"http://my.studiopress.com/themes/agency/\">CSB Theme</a> on <a href=\"https://www.studiopress.com/\">Genesis Framework</a> · <a href=\"https://wordpress.org/\">WordPress</a> · <a rel=\"nofollow\" href=\"http://carsalesbase.com/wp-login.php\">Log in</a></p></div></footer></div><!-- ngg_resource_manager_marker --><script type='text/javascript'>\n",
       "/* <![CDATA[ */\n",
       "var thickboxL10n = {\"next\":\"Next >\",\"prev\":\"< Prev\",\"image\":\"Image\",\"of\":\"of\",\"close\":\"Close\",\"noiframes\":\"This feature requires inline frames. You have iframes disabled or your browser does not support them.\",\"loadingAnimation\":\"http:\\/\\/carsalesbase.com\\/wp-includes\\/js\\/thickbox\\/loadingAnimation.gif\"};\n",
       "/* ]]> */\n",
       "</script>\n",
       "<script type='text/javascript' src='http://carsalesbase.com/wp-includes/js/thickbox/thickbox.js?ver=3.1-20121105'></script>\n",
       "<script type='text/javascript' src='http://carsalesbase.com/wp-content/plugins/car-sales-search/car-sales-search.js?ver=1.0.0'></script>\n",
       "<script type='text/javascript' src='http://carsalesbase.com/wp-admin/admin-ajax.php?nonce=dbc8203f4a&#038;action=css_model_action&#038;ver=1.0.0'></script>\n",
       "<script type='text/javascript'>\n",
       "/* <![CDATA[ */\n",
       "var eic_public = {\"responsive_breakpoint\":\"300\",\"responsive_layout\":\"\"};\n",
       "/* ]]> */\n",
       "</script>\n",
       "<script type='text/javascript' src='http://carsalesbase.com/wp-content/plugins/easy-image-collage/js/public.js?ver=1.13.0'></script>\n",
       "<script type='text/javascript'>\n",
       "/* <![CDATA[ */\n",
       "var pollsL10n = {\"ajax_url\":\"http:\\/\\/carsalesbase.com\\/wp-admin\\/admin-ajax.php\",\"text_wait\":\"Your last request is still being processed. Please wait a while ...\",\"text_valid\":\"Please choose a valid poll answer.\",\"text_multiple\":\"Maximum number of choices allowed: \",\"show_loading\":\"1\",\"show_fading\":\"1\"};\n",
       "/* ]]> */\n",
       "</script>\n",
       "<script type='text/javascript' src='http://carsalesbase.com/wp-content/plugins/wp-polls/polls-js.js?ver=2.75.4'></script>\n",
       "<script type='text/javascript' src='http://carsalesbase.com/wp-includes/js/comment-reply.min.js?ver=5.3.2'></script>\n",
       "<script type='text/javascript'>\n",
       "/* <![CDATA[ */\n",
       "var jpfbembed = {\"appid\":\"249643311490\",\"locale\":\"en_US\"};\n",
       "/* ]]> */\n",
       "</script>\n",
       "<script type='text/javascript' src='http://carsalesbase.com/wp-content/plugins/jetpack/_inc/build/facebook-embed.min.js'></script>\n",
       "<script type='text/javascript' src='http://carsalesbase.com/wp-includes/js/wp-embed.min.js?ver=5.3.2'></script>\n",
       "<script type='text/javascript'>\n",
       "/* <![CDATA[ */\n",
       "var sharing_js_options = {\"lang\":\"en\",\"counts\":\"1\",\"is_stats_active\":\"1\"};\n",
       "/* ]]> */\n",
       "</script>\n",
       "<script type='text/javascript' src='http://carsalesbase.com/wp-content/plugins/jetpack/_inc/build/sharedaddy/sharing.min.js?ver=8.1'></script>\n",
       "<script type='text/javascript'>\n",
       "var windowOpen;\n",
       "\t\t\tjQuery( document.body ).on( 'click', 'a.share-facebook', function() {\n",
       "\t\t\t\t// If there's another sharing window open, close it.\n",
       "\t\t\t\tif ( 'undefined' !== typeof windowOpen ) {\n",
       "\t\t\t\t\twindowOpen.close();\n",
       "\t\t\t\t}\n",
       "\t\t\t\twindowOpen = window.open( jQuery( this ).attr( 'href' ), 'wpcomfacebook', 'menubar=1,resizable=1,width=600,height=400' );\n",
       "\t\t\t\treturn false;\n",
       "\t\t\t});\n",
       "</script>\n",
       "  <!-- VigLink: http://viglink.com -->\n",
       "  <script type=\"text/javascript\">\n",
       "    var vglnk = { key: '7104c887d5378a76c06aebb462687ac5' };\n",
       "\n",
       "    (function(d, t) {\n",
       "      var s = d.createElement(t); s.type = 'text/javascript'; s.async = true;\n",
       "      s.src = '//cdn.viglink.com/api/vglnk.js?key=' + vglnk.key;\n",
       "      var r = d.getElementsByTagName(t)[0]; r.parentNode.insertBefore(s, r);\n",
       "    }(document, 'script'));\n",
       "  </script>\n",
       "  <!-- end VigLink -->\n",
       "\t\t\t<!-- Social Ring JS Start -->\n",
       "\t\t\t<script type='text/javascript' src='http://platform.twitter.com/widgets.js'></script><div id=\"fb-root\"></div><script src=\"http://connect.facebook.net/en_US/all.js#xfbml=1\"></script><script type=\"text/javascript\">\n",
       "\t\t\t\t\t\t\t\twindow.___gcfg = {\n",
       "\t\t\t\t\t\t\t\t  lang: 'en-US'\n",
       "\t\t\t\t\t\t\t\t};\n",
       "\t\t\t\t\t\t\t\t(function() {\n",
       "\t\t\t\t\t\t\t\t\tvar po = document.createElement('script'); po.type = 'text/javascript'; po.async = true;\n",
       "\t\t\t\t\t\t\t\t\tpo.src = 'https://apis.google.com/js/plusone.js';\n",
       "\t\t\t\t\t\t\t\t\tvar s = document.getElementsByTagName('script')[0]; s.parentNode.insertBefore(po, s);\n",
       "\t\t\t\t\t\t\t\t})();\n",
       "\t\t\t\t\t\t\t</script>\n",
       "\t\t\t\t\t\t\t<script type='text/javascript' src='https://apis.google.com/js/plusone.js'></script><script type=\"text/javascript\" src=\"http://assets.pinterest.com/js/pinit.js\"></script>\t\t<!-- Social Ring JS End -->\n",
       "\t<script>\r\n",
       "jQuery(document).ready(function($){\r\n",
       "$(\".site-title a\").html(\"<img src='http://carsalesbase.com/wp-content/uploads/2018/06/sign_carsalesbase.png' id='logo'/><img src='http://carsalesbase.com/wp-content/uploads/2018/06/main_logo_carsalesbase.png' id='logoTxt'/>\")\r\n",
       "\r\n",
       "})\r\n",
       "\r\n",
       "</script><script type=\"text/javascript\">\r\n",
       "  var vglnk = { key: '7104c887d5378a76c06aebb462687ac5' };\r\n",
       "\r\n",
       "  (function(d, t) {\r\n",
       "    var s = d.createElement(t); s.type = 'text/javascript'; s.async = true;\r\n",
       "    s.src = '//cdn.viglink.com/api/vglnk.js';\r\n",
       "    var r = d.getElementsByTagName(t)[0]; r.parentNode.insertBefore(s, r);\r\n",
       "  }(document, 'script'));\r\n",
       "</script>\r\n",
       "<script type=\"text/javascript\">\r\n",
       "    // OMNISEND-SNIPPET-SOURCE-CODE-V1\r\n",
       "    window.soundest = window.soundest || [];\r\n",
       "    soundest.push([\"accountID\", \"5b910b86597ed708a40809d1\"]);\r\n",
       "    !function(){var e=document.createElement(\"script\");e.type=\"text/javascript\",e.async=!0,e.src=\"https://omnisrc.com/inshop/launcher.js\";var t=document.getElementsByTagName(\"script\")[0];t.parentNode.insertBefore(e,t)}();\r\n",
       "</script>\n",
       "\t<script type=\"text/javascript\">\n",
       "\t\twindow.WPCOM_sharing_counts = {\"http:\\/\\/carsalesbase.com\\/us-car-sales-analysis-2019-brands\\/\":55281};\n",
       "\t</script>\n",
       "\t\t\t\t<div id=\"fb-root\"></div>\n",
       "\t\t\t<script>(function(d, s, id) { var js, fjs = d.getElementsByTagName(s)[0]; if (d.getElementById(id)) return; js = d.createElement(s); js.id = id; js.src = 'https://connect.facebook.net/en_US/sdk.js#xfbml=1&appId=249643311490&version=v2.3'; fjs.parentNode.insertBefore(js, fjs); }(document, 'script', 'facebook-jssdk'));</script>\n",
       "\t\t\t<script>\n",
       "\t\t\tjQuery( document.body ).on( 'post-load', function() {\n",
       "\t\t\t\tif ( 'undefined' !== typeof FB ) {\n",
       "\t\t\t\t\tFB.XFBML.parse();\n",
       "\t\t\t\t}\n",
       "\t\t\t} );\n",
       "\t\t\t</script>\n",
       "\t\t\t\t\t\t<script>!function(d,s,id){var js,fjs=d.getElementsByTagName(s)[0],p=/^http:/.test(d.location)?'http':'https';if(!d.getElementById(id)){js=d.createElement(s);js.id=id;js.src=p+'://platform.twitter.com/widgets.js';fjs.parentNode.insertBefore(js,fjs);}}(document, 'script', 'twitter-wjs');</script>\n",
       "\t\t\t\t\t\t\t\t<script type=\"text/javascript\">\n",
       "\t\t\t\t// Pinterest shared resources\n",
       "\t\t\t\tvar s = document.createElement(\"script\");\n",
       "\t\t\t\ts.type = \"text/javascript\";\n",
       "\t\t\t\ts.async = true;\n",
       "\t\t\t\ts.setAttribute('data-pin-hover', true);\t\t\t\ts.src = window.location.protocol + \"//assets.pinterest.com/js/pinit.js\";\n",
       "\t\t\t\tvar x = document.getElementsByTagName(\"script\")[0];\n",
       "\t\t\t\tx.parentNode.insertBefore(s, x);\n",
       "\t\t\t\t// if 'Pin it' button has 'counts' make container wider\n",
       "\t\t\t\tjQuery(window).load( function(){ jQuery( 'li.share-pinterest a span:visible' ).closest( '.share-pinterest' ).width( '80px' ); } );\n",
       "\t\t\t</script>\n",
       "\t\t<script type=\"text/javascript\">\n",
       "\t\t\tjQuery( document ).ready( function() {\n",
       "\t\t\t\tjQuery.getScript( 'https://platform.linkedin.com/in.js?async=true', function success() {\n",
       "\t\t\t\t\tIN.init();\n",
       "\t\t\t\t});\n",
       "\t\t\t});\n",
       "\t\t\tjQuery( document.body ).on( 'post-load', function() {\n",
       "\t\t\t\tif ( typeof IN != 'undefined' )\n",
       "\t\t\t\t\tIN.parse();\n",
       "\t\t\t});\n",
       "\t\t\t</script><script type='text/javascript' src='https://stats.wp.com/e-202004.js' async='async' defer='defer'></script>\n",
       "<script type='text/javascript'>\n",
       "\t_stq = window._stq || [];\n",
       "\t_stq.push([ 'view', {v:'ext',j:'1:8.1',blog:'59955352',post:'55281',tz:'1',srv:'carsalesbase.com'} ]);\n",
       "\t_stq.push([ 'clickTrackerInit', '59955352', '55281' ]);\n",
       "</script>\n",
       "</body></html>\n"
      ],
      "text/plain": [
       "<IPython.core.display.HTML object>"
      ]
     },
     "metadata": {},
     "output_type": "display_data"
    }
   ],
   "source": [
    "from IPython.core.display import display, HTML\n",
    "display(HTML('http://carsalesbase.com/us-car-sales-analysis-2019-brands/'))     # make sure Jupyter knows to display it as HTML"
   ]
  },
  {
   "cell_type": "markdown",
   "metadata": {},
   "source": [
    "If we want to grab the four items on our to-do list and analyze them, we can use Beautiful Soup!"
   ]
  },
  {
   "cell_type": "code",
   "execution_count": 9,
   "metadata": {
    "ExecuteTime": {
     "end_time": "2019-11-27T22:14:00.019396Z",
     "start_time": "2019-11-27T22:13:59.855376Z"
    }
   },
   "outputs": [
    {
     "ename": "NameError",
     "evalue": "name 'my_html' is not defined",
     "output_type": "error",
     "traceback": [
      "\u001b[0;31m---------------------------------------------------------------------------\u001b[0m",
      "\u001b[0;31mNameError\u001b[0m                                 Traceback (most recent call last)",
      "\u001b[0;32m<ipython-input-9-04d69db24dc8>\u001b[0m in \u001b[0;36m<module>\u001b[0;34m\u001b[0m\n\u001b[0;32m----> 1\u001b[0;31m \u001b[0msoup\u001b[0m \u001b[0;34m=\u001b[0m \u001b[0mBeautifulSoup\u001b[0m\u001b[0;34m(\u001b[0m\u001b[0mmy_html\u001b[0m\u001b[0;34m,\u001b[0m \u001b[0;34m\"html5lib\"\u001b[0m\u001b[0;34m)\u001b[0m\u001b[0;34m\u001b[0m\u001b[0;34m\u001b[0m\u001b[0m\n\u001b[0m",
      "\u001b[0;31mNameError\u001b[0m: name 'my_html' is not defined"
     ]
    }
   ],
   "source": [
    "soup = BeautifulSoup(my_html, \"html5lib\")"
   ]
  },
  {
   "cell_type": "markdown",
   "metadata": {},
   "source": [
    "Simply looking at `soup` isn't very useful -- it's just our HTML repeated back to us."
   ]
  },
  {
   "cell_type": "code",
   "execution_count": null,
   "metadata": {
    "ExecuteTime": {
     "end_time": "2019-11-27T22:14:00.035544Z",
     "start_time": "2019-11-27T22:13:59.799Z"
    }
   },
   "outputs": [],
   "source": [
    "soup"
   ]
  },
  {
   "cell_type": "markdown",
   "metadata": {},
   "source": [
    "### `.find()`\n",
    "\n",
    "But Beautiful Soup also knows how to navigate this HTML.  We can use the `find` command to get to a specific element."
   ]
  },
  {
   "cell_type": "code",
   "execution_count": 6,
   "metadata": {
    "ExecuteTime": {
     "end_time": "2019-11-27T22:14:00.041074Z",
     "start_time": "2019-11-27T22:13:59.809Z"
    }
   },
   "outputs": [
    {
     "data": {
      "text/plain": [
       "<li>Make coffee</li>"
      ]
     },
     "execution_count": 6,
     "metadata": {},
     "output_type": "execute_result"
    }
   ],
   "source": [
    "soup.find('li')  #Grabs the first element tagged as li"
   ]
  },
  {
   "cell_type": "code",
   "execution_count": 7,
   "metadata": {
    "ExecuteTime": {
     "end_time": "2019-11-27T22:14:00.044534Z",
     "start_time": "2019-11-27T22:13:59.812Z"
    }
   },
   "outputs": [
    {
     "data": {
      "text/plain": [
       "bs4.element.Tag"
      ]
     },
     "execution_count": 7,
     "metadata": {},
     "output_type": "execute_result"
    }
   ],
   "source": [
    "type(soup.find('li'))"
   ]
  },
  {
   "cell_type": "markdown",
   "metadata": {},
   "source": [
    "`find` returns a tagged element, but we can go further and just select this element's inner HTML text."
   ]
  },
  {
   "cell_type": "code",
   "execution_count": 8,
   "metadata": {
    "ExecuteTime": {
     "end_time": "2019-11-27T22:14:00.052156Z",
     "start_time": "2019-11-27T22:13:59.823Z"
    }
   },
   "outputs": [
    {
     "data": {
      "text/plain": [
       "'Make coffee'"
      ]
     },
     "execution_count": 8,
     "metadata": {},
     "output_type": "execute_result"
    }
   ],
   "source": [
    "soup.find('li').text"
   ]
  },
  {
   "cell_type": "code",
   "execution_count": 9,
   "metadata": {
    "ExecuteTime": {
     "end_time": "2019-11-27T22:14:00.058112Z",
     "start_time": "2019-11-27T22:13:59.827Z"
    }
   },
   "outputs": [
    {
     "data": {
      "text/plain": [
       "str"
      ]
     },
     "execution_count": 9,
     "metadata": {},
     "output_type": "execute_result"
    }
   ],
   "source": [
    "type(soup.find('li').text)"
   ]
  },
  {
   "cell_type": "markdown",
   "metadata": {},
   "source": [
    "### `.find_all()`\n",
    "\n",
    "Instead of selecting just one of our list items, we can get all of them by using `find_all`.  \n",
    "\n",
    "This method looks for all instances matching our criteria on the entire HTML and gives us back a list."
   ]
  },
  {
   "cell_type": "code",
   "execution_count": 10,
   "metadata": {
    "ExecuteTime": {
     "end_time": "2019-11-27T22:14:00.061610Z",
     "start_time": "2019-11-27T22:13:59.840Z"
    }
   },
   "outputs": [
    {
     "data": {
      "text/plain": [
       "[<li>Make coffee</li>,\n",
       " <li>Sweep the floor</li>,\n",
       " <li>Go to the store</li>,\n",
       " <li>Write BeautifulSoup lecture</li>]"
      ]
     },
     "execution_count": 10,
     "metadata": {},
     "output_type": "execute_result"
    }
   ],
   "source": [
    "soup.find_all('li')"
   ]
  },
  {
   "cell_type": "markdown",
   "metadata": {},
   "source": [
    "To analyze our to-do list, we probably just want the text from each tagged element.  How can we do that?\n",
    "\n",
    "One approach is to loop through the list and apply `.text` to each element:"
   ]
  },
  {
   "cell_type": "code",
   "execution_count": 11,
   "metadata": {
    "ExecuteTime": {
     "end_time": "2019-11-27T22:14:00.070490Z",
     "start_time": "2019-11-27T22:13:59.850Z"
    }
   },
   "outputs": [
    {
     "name": "stdout",
     "output_type": "stream",
     "text": [
      "['Make coffee', 'Sweep the floor', 'Go to the store', 'Write BeautifulSoup lecture']\n"
     ]
    }
   ],
   "source": [
    "todos=[]\n",
    "\n",
    "for element in soup.find_all('li'):\n",
    "    todos.append(element.text)\n",
    "    \n",
    "print(todos)"
   ]
  },
  {
   "cell_type": "markdown",
   "metadata": {},
   "source": [
    "Or we could use a list comprehension:"
   ]
  },
  {
   "cell_type": "code",
   "execution_count": 12,
   "metadata": {
    "ExecuteTime": {
     "end_time": "2019-11-27T22:14:00.074419Z",
     "start_time": "2019-11-27T22:13:59.860Z"
    }
   },
   "outputs": [
    {
     "data": {
      "text/plain": [
       "['Make coffee',\n",
       " 'Sweep the floor',\n",
       " 'Go to the store',\n",
       " 'Write BeautifulSoup lecture']"
      ]
     },
     "execution_count": 12,
     "metadata": {},
     "output_type": "execute_result"
    }
   ],
   "source": [
    "todos=[element.text for element in soup.find_all('li')]\n",
    "\n",
    "todos"
   ]
  },
  {
   "cell_type": "markdown",
   "metadata": {},
   "source": [
    "Now we have a clean list of strings, ready for analysis!"
   ]
  },
  {
   "cell_type": "markdown",
   "metadata": {},
   "source": [
    "## Scrape Select Items on a Test Webpage\n",
    "\n",
    "Now on to a more complicated example.  Take a look at `test_webpage/page.html`.  Let's try to grab all of the article links, like the ones for Starbucks and Bitcoin.\n",
    "\n",
    "First get the HTML and then parse it with BeautifulSoup."
   ]
  },
  {
   "cell_type": "code",
   "execution_count": 13,
   "metadata": {
    "ExecuteTime": {
     "end_time": "2019-11-27T22:14:00.081007Z",
     "start_time": "2019-11-27T22:13:59.876Z"
    }
   },
   "outputs": [],
   "source": [
    "with open('test_webpage/page.html') as page:\n",
    "    test_html = page.read()\n",
    "soup = BeautifulSoup(test_html, 'lxml')"
   ]
  },
  {
   "cell_type": "markdown",
   "metadata": {},
   "source": [
    "Links show up as `a` tags.  Let's just try to grab all of them."
   ]
  },
  {
   "cell_type": "code",
   "execution_count": 14,
   "metadata": {
    "ExecuteTime": {
     "end_time": "2019-11-27T22:14:00.087609Z",
     "start_time": "2019-11-27T22:13:59.885Z"
    }
   },
   "outputs": [
    {
     "data": {
      "text/plain": [
       "[<a href=\"sports.html\">Sports</a>,\n",
       " <a href=\"entertainment.html\">Entertainment</a>,\n",
       " <a href=\"technology.html\">Technology</a>,\n",
       " <a href=\"http://starbucks.com/drinks/unicorn.html\">unicorn frappaccino</a>,\n",
       " <a href=\"https://finance.yahoo.com/quote/BTC-USD/\">Bitcoin</a>,\n",
       " <a href=\"https://en.wikipedia.org/wiki/Cryptocurrency\">cryptocurrency</a>,\n",
       " <a href=\"negative.html\">negative</a>,\n",
       " <a href=\"https://en.wikipedia.org/wiki/Fake_news\">\"fake news\"</a>]"
      ]
     },
     "execution_count": 14,
     "metadata": {},
     "output_type": "execute_result"
    }
   ],
   "source": [
    "soup.find_all('a')"
   ]
  },
  {
   "cell_type": "markdown",
   "metadata": {},
   "source": [
    "Uh oh!  Looks like there are some links on the sidebar and in the footer, too.  We want only the ones in the articles so we'll need a better strategy.\n",
    "\n",
    "Digging into the source code, it turns out that each of the articles live within a `div` labeled with the class `article`.  Let's try to get those.\n",
    "\n",
    "### `class_` and `id_` \n",
    "The `find` and `find_all` methods take optional attribute arguments so you can filter down to elements with specific attributes like classes and ids."
   ]
  },
  {
   "cell_type": "code",
   "execution_count": 15,
   "metadata": {
    "ExecuteTime": {
     "end_time": "2019-11-27T22:14:00.096632Z",
     "start_time": "2019-11-27T22:13:59.895Z"
    }
   },
   "outputs": [
    {
     "data": {
      "text/plain": [
       "[<div class=\"article\">\n",
       " <div class=\"title\">New drink released today</div>\n",
       " <div class=\"summary\">\n",
       "         Starbucks is releasing a new drink today called the <a href=\"http://starbucks.com/drinks/unicorn.html\">unicorn frappaccino</a>.\n",
       "       </div>\n",
       " </div>, <div class=\"article\">\n",
       " <div class=\"title\">Bitcoin crashes</div>\n",
       " <div class=\"summary\">\n",
       " <a href=\"https://finance.yahoo.com/quote/BTC-USD/\">Bitcoin</a> dropped 200% today becoming the first <a href=\"https://en.wikipedia.org/wiki/Cryptocurrency\">cryptocurrency</a> with <a href=\"negative.html\">negative</a> value!\n",
       "       </div>\n",
       " </div>]"
      ]
     },
     "execution_count": 15,
     "metadata": {},
     "output_type": "execute_result"
    }
   ],
   "source": [
    "soup.find_all('div', class_='article')"
   ]
  },
  {
   "cell_type": "markdown",
   "metadata": {},
   "source": [
    "There are our articles!  \n",
    "\n",
    "Each of these `div` elements are also soup objects, so we can now query these `div`s to drill down further to just the links."
   ]
  },
  {
   "cell_type": "code",
   "execution_count": 16,
   "metadata": {
    "ExecuteTime": {
     "end_time": "2019-11-27T22:14:00.102526Z",
     "start_time": "2019-11-27T22:13:59.902Z"
    }
   },
   "outputs": [
    {
     "name": "stdout",
     "output_type": "stream",
     "text": [
      "<a href=\"http://starbucks.com/drinks/unicorn.html\">unicorn frappaccino</a>\n",
      "<a href=\"https://finance.yahoo.com/quote/BTC-USD/\">Bitcoin</a>\n",
      "<a href=\"https://en.wikipedia.org/wiki/Cryptocurrency\">cryptocurrency</a>\n",
      "<a href=\"negative.html\">negative</a>\n"
     ]
    }
   ],
   "source": [
    "for div in soup.find_all('div', class_='article'):\n",
    "    for link in div.find_all('a'):\n",
    "        print(link)"
   ]
  },
  {
   "cell_type": "markdown",
   "metadata": {},
   "source": [
    "Excellent!  What if we want to print out the link text and the url it points to?\n",
    "\n",
    "\n",
    "### `.get()`\n",
    "The `get` method allows you access to any attribute of the element."
   ]
  },
  {
   "cell_type": "code",
   "execution_count": 17,
   "metadata": {
    "ExecuteTime": {
     "end_time": "2019-11-27T22:14:00.107695Z",
     "start_time": "2019-11-27T22:13:59.912Z"
    }
   },
   "outputs": [
    {
     "name": "stdout",
     "output_type": "stream",
     "text": [
      "unicorn frappaccino  ---> http://starbucks.com/drinks/unicorn.html\n",
      "Bitcoin              ---> https://finance.yahoo.com/quote/BTC-USD/\n",
      "cryptocurrency       ---> https://en.wikipedia.org/wiki/Cryptocurrency\n",
      "negative             ---> negative.html\n"
     ]
    }
   ],
   "source": [
    "for div in soup.find_all('div', class_='article'):\n",
    "    for link in div.find_all('a'):\n",
    "        print(f'{link.text:20s} ---> {link.get(\"href\")}')"
   ]
  },
  {
   "cell_type": "markdown",
   "metadata": {},
   "source": [
    "## Scrape the Web\n",
    "\n",
    "So far we've used BeautifulSoup to parse our own HTML strings and files.  Now let's scrape Box Office Mojo.\n",
    "\n",
    "First let's take a look at some source code for _The Big Lebowski_.\n",
    "\n",
    "- Navigate to https://www.boxofficemojo.com/title/tt0118715/ in your browser, preferably Chrome\n",
    "- Right click and select \"Inspect\"\n",
    "- Alternatively, you can \"View Page Source\"\n",
    "\n",
    "To retrieve the HTML for this webpage, we will use `requests`.\n",
    "\n",
    "### `requests`\n",
    "\n",
    "The `requests` library allows us to grab information from the web.  There are two common types of requests:\n",
    "- `get` -- simply requests information, akin to putting a url in your browser\n",
    "- `post` -- sends information to the website, for example, writing an email\n",
    "\n",
    "We will be using `get` to retrieve a page's HTML."
   ]
  },
  {
   "cell_type": "code",
   "execution_count": 18,
   "metadata": {
    "ExecuteTime": {
     "end_time": "2019-11-27T22:14:00.114605Z",
     "start_time": "2019-11-27T22:13:59.922Z"
    }
   },
   "outputs": [],
   "source": [
    "url = 'https://www.boxofficemojo.com/title/tt0118715/' \n",
    "\n",
    "response = requests.get(url)"
   ]
  },
  {
   "cell_type": "markdown",
   "metadata": {},
   "source": [
    "The response we got back is an object that gives us access to:\n",
    "- `response.text` -- the returned HTML (if any)\n",
    "- `response.json` -- the returned JSON (if any), typical for APIs\n",
    "- `response.status_code` -- a [code](https://en.wikipedia.org/wiki/List_of_HTTP_status_codes) to tell you if your request was successful or if an error occurred, 2XX indicates success while 404 means not found"
   ]
  },
  {
   "cell_type": "code",
   "execution_count": 19,
   "metadata": {
    "ExecuteTime": {
     "end_time": "2019-11-27T22:14:00.118688Z",
     "start_time": "2019-11-27T22:13:59.930Z"
    }
   },
   "outputs": [
    {
     "data": {
      "text/plain": [
       "200"
      ]
     },
     "execution_count": 19,
     "metadata": {},
     "output_type": "execute_result"
    }
   ],
   "source": [
    "response.status_code  #200 = success!"
   ]
  },
  {
   "cell_type": "code",
   "execution_count": 20,
   "metadata": {
    "ExecuteTime": {
     "end_time": "2019-11-27T22:14:00.122124Z",
     "start_time": "2019-11-27T22:13:59.933Z"
    }
   },
   "outputs": [
    {
     "data": {
      "text/plain": [
       "'<!doctype html><html class=\"a-no-js\" data-19ax5a9jf=\"dingo\"><head><script>var aPageStart = (new Date()).getTime();</script><meta charset=\"utf-8\"/><meta name=\"viewport\" content=\"width=device-width, initial-scale=1.0\" />\\n                <meta charset=\"utf-8\" />\\n            <title dir=\"ltr\">The Big Lebowski - Box Office Mojo</title><meta content=\"The Big Lebowski\" name=\"title\" />\\n            <meta content=\"Box Office Mojo\" property=\"og:site_name\" />\\n            <meta name=\"format-detection\" content=\"telephone=no\" />\\n            <link href=\"https://m.media-amazon.com/images/G/01/boxofficemojo/v2/favicon._CB448965889_.ico\" type=\"image/x-icon\" rel=\"icon\" />\\n            <link rel=\"stylesheet\" href=\"https://images-na.ssl-images-amazon.com/images/I/51tax7M48-L._RC|516fcOUE-HL.css,01evdoiemkL.css,01K+Ps1DeEL.css,31pdJv9iSzL.css,01VszOUTO6L.css,11UGC+GXOPL.css,21LK7jaicML.css,11L58Qpo0GL.css,21kyTi1FabL.css,01ruG+gDPFL.css,01YhS3Cs-hL.css,21GwE3cR-yL.css,019SHZnt8RL.css,01wAWQRgXzL.css,21bWcRJYNI'"
      ]
     },
     "execution_count": 20,
     "metadata": {},
     "output_type": "execute_result"
    }
   ],
   "source": [
    "response.text[:1000]  #First 1000 characters of the HTML"
   ]
  },
  {
   "cell_type": "code",
   "execution_count": 21,
   "metadata": {
    "ExecuteTime": {
     "end_time": "2019-11-27T22:14:00.125966Z",
     "start_time": "2019-11-27T22:13:59.935Z"
    }
   },
   "outputs": [],
   "source": [
    "page = response.text"
   ]
  },
  {
   "cell_type": "markdown",
   "metadata": {},
   "source": [
    "### `BeautifulSoup` Basics\n",
    "\n",
    "Now that we have the HTML, let's learn its structure by parsing with BeautifulSoup."
   ]
  },
  {
   "cell_type": "code",
   "execution_count": 22,
   "metadata": {
    "ExecuteTime": {
     "end_time": "2019-11-27T22:14:00.133008Z",
     "start_time": "2019-11-27T22:13:59.945Z"
    }
   },
   "outputs": [],
   "source": [
    "soup = BeautifulSoup(page, \"lxml\")"
   ]
  },
  {
   "cell_type": "code",
   "execution_count": 23,
   "metadata": {
    "ExecuteTime": {
     "end_time": "2019-11-27T22:14:00.137230Z",
     "start_time": "2019-11-27T22:13:59.947Z"
    }
   },
   "outputs": [
    {
     "name": "stdout",
     "output_type": "stream",
     "text": [
      "<!DOCTYPE html>\n",
      "<html class=\"a-no-js\" data-19ax5a9jf=\"dingo\"><head><script>var aPageStart = (new Date()).getTime();</script><meta charset=\"utf-8\"/><meta content=\"width=device-width, initial-scale=1.0\" name=\"viewport\"/>\n",
      "<meta charset=\"utf-8\"/>\n",
      "<title dir=\"ltr\">The Big Lebowski - Box Office Mojo</title><meta content=\"The Big Lebowski\" name=\"title\"/>\n",
      "<meta content=\"Box Office Mojo\" property=\"og:site_name\"/>\n",
      "<meta content=\"telephone=no\" name=\"format-detection\"/>\n",
      "<link href=\"https://m.media-amazon.com/images/G/01/boxofficemojo/v2/favicon._CB448965889_.ico\" rel=\"icon\" type=\"image/x-icon\"/>\n",
      "<link href=\"https://images-na.ssl-images-amazon.com/images/I/51tax7M48-L._RC|516fcOUE-HL.css,01evdoiemkL.css,01K+Ps1DeEL.css,31pdJv9iSzL.css,01VszOUTO6L.css,11UGC+GXOPL.css,21LK7jaicML.css,11L58Qpo0GL.css,21kyTi1FabL.css,01ruG+gDPFL.css,01YhS3Cs-hL.css,21GwE3cR-yL.css,019SHZnt8RL.css,01wAWQRgXzL.css,21bWcRJYNIL.css,11WgRxUdJRL.css,01dU8+SPlFL.css,11ocrgKoE-L.css,01SHjPML6tL.css,111-D2qRjiL.css,01QrWuRrZ-L.css,310Imb6LqFL.css,01piEq-AdwL.css,11Z1a0FxSIL.css,01cbS3UK11L.css,21mOLw+nYYL.css,01L8Y-JFEhL.css_.css?AUIClients/AmazonUI#us.not-trident\" rel=\"stylesheet\"/>\n",
      "<link href=\"https://images-na.ssl-images-amazon.com/images/I/41lXlS9Z5UL.css?AUIClients/IMDbMojoSiteAssets\" rel=\"stylesheet\"/>\n",
      "<script>\n",
      "(function(f,h,Q,A){function G(a){v&&v.tag&&v.tag(q(\":\",\"aui\",a))}function x(a,b){v&&v.count&&v.count(\"aui:\"+a,0===b?0:b||(v.count(\"aui:\"+a)||0)+1)}function l(a){try{return a.test(navigator.userAgent)}catch(b){return!1}}function y(a,b,c){a.addEventListener?a.addEventListener(b,c,!1):a.attachEvent&&a.attachEvent(\"on\"+b,c)}function q(a,b,c,e){b=b&&c?b+a+c:b||c;return e?q(a,b,e):b}function H(a,b,c){try{Object.defineProperty(a,b,{value:c,writable:!1})}catch(e){a[b]=c}return c}function ta(a,b){var c=a.length,\n",
      "e=c,g=function(){e--||(R.push(b),S||(setTimeout(T,0),S=!0))};for(g();c--;)ca[a[c]]?g():(B[a[c]]=B[a[c]]||[]).push(g)}function ua(a,b,c,e,g){var d=h.createElement(a?\"script\":\"link\");y(d,\"error\",e);g&&y(d,\"load\",g);a?(d.type=\"text/javascript\",d.async=!0,c&&/AUIClients|images[/]I/.test(b)&&d.setAttribute(\"crossorigin\",\"anonymous\"),d.src=b):(d.rel=\"stylesheet\",d.href=b);h.getElementsByTagName(\"head\")[0].appendChild(d)}function da(a,b){function c(c,e){function g(){ua(b,c,h,function(b){!I&&h?(h=!1,x(\"resource_retry\"),\n",
      "g()):(x(\"resource_error\"),a.log(\"Asset failed to load: \"+c,I?\"WARN\":A));b&&b.stopPropagation?b.stopPropagation():f.event&&(f.event.cancelBubble=!0)},e)}if(ea[c])return!1;ea[c]=!0;x(\"resource_count\");var h=!0;return!g()}if(b){var e=0,g=0;c.andConfirm=function(a,b){return c(a,function(){e++;b&&b.apply(this,arguments)})};c.confirm=function(){g++};c.getCsriCounters=function(){return{reqs:e,full:g}}}return c}function va(a,b,c){for(var e={name:a,guard:function(c){return b.guardFatal(a,c)},logError:function(c,\n",
      "d,e){b.logError(c,d,e,a)}},g=[],d=0;d<c.length;d++)J.hasOwnProperty(c[d])&&(g[d]=U.hasOwnProperty(c[d])?U[c[d]](J[c[d]],e):J[c[d]]);return g}function C(a,b,c,e,g){return function(d,h){function m(){var a=null;e?a=h:\"function\"===typeof h&&(p.start=D(),a=h.apply(f,va(d,k,l)),p.end=D());if(b){J[d]=a;a=d;for(ca[a]=!0;(B[a]||[]).length;)B[a].shift()();delete B[a]}p.done=!0}var k=g||this;\"function\"===typeof d&&(h=d,d=A);b&&(d=d?d.replace(fa,\"\"):\"__NONAME__\",V.hasOwnProperty(d)&&k.error(q(\", reregistered by \",\n",
      "q(\" by \",d+\" already registered\",V[d]),k.attribution),d),V[d]=k.attribution);for(var l=[],n=0;n<a.length;n++)l[n]=a[n].replace(fa,\"\");var p=ga[d||\"anon\"+ ++wa]={depend:l,registered:D(),namespace:k.namespace};c?m():ta(l,k.guardFatal(d,m));return{decorate:function(a){U[d]=k.guardFatal(d,a)}}}}function ha(a){return function(){var b=Array.prototype.slice.call(arguments);return{execute:C(b,!1,a,!1,this),register:C(b,!0,a,!1,this)}}}function W(a,b){return function(c,e){e||(e=c,c=A);var g=this.attribution;\n",
      "return function(){z.push(b||{attribution:g,name:c,logLevel:a});var d=e.apply(this,arguments);z.pop();return d}}}function K(a,b){this.load={js:da(this,!0),css:da(this)};H(this,\"namespace\",b);H(this,\"attribution\",a)}function ia(){h.body?p.trigger(\"a-bodyBegin\"):setTimeout(ia,20)}function E(a,b){a.className=X(a,b)+\" \"+b}function X(a,b){return(\" \"+a.className+\" \").split(\" \"+b+\" \").join(\" \").replace(/^ | $/g,\"\")}function ja(a){try{return a()}catch(b){return!1}}function L(){if(M){var a={w:f.innerWidth||\n",
      "m.clientWidth,h:f.innerHeight||m.clientHeight};5<Math.abs(a.w-Y.w)||50<a.h-Y.h?(Y=a,N=4,(a=k.mobile||k.tablet?450<a.w&&a.w>a.h:1250<=a.w)?E(m,\"a-ws\"):m.className=X(m,\"a-ws\")):0<N&&(N--,ka=setTimeout(L,16))}}function xa(a){(M=a===A?!M:!!a)&&L()}function ya(){return M}function r(a,b){return\"sw:\"+(b||\"\")+\":\"+a+\":\"}function la(){ma.forEach(function(a){G(a)})}function n(a){ma.push(a)}function na(a,b,c,e){if(c){b=l(/Chrome/i)&&!l(/Edge/i)&&!l(/OPR/i)&&!a.capabilities.isAmazonApp&&!l(new RegExp(Z+\"bwv\"+\n",
      "Z+\"b\"));var g=r(e,\"browser\"),d=r(e,\"prod_mshop\"),f=r(e,\"beta_mshop\");!a.capabilities.isAmazonApp&&c.browser&&b&&(n(g+\"supported\"),c.browser.action(g,e));!b&&c.browser&&n(g+\"unsupported\");c.prodMshop&&n(d+\"unsupported\");c.betaMshop&&n(f+\"unsupported\")}}\"use strict\";var O=Q.now=Q.now||function(){return+new Q},D=function(a){return a&&a.now?a.now.bind(a):O}(f.performance),za=D(),t=f.AmazonUIPageJS||f.P;if(t&&t.when&&t.register)throw Error(\"A copy of P has already been loaded on this page.\");var v=f.ue;\n",
      "G();G(\"aui_build_date:3.19.8-2020-01-09\");var R=[],S=!1,T;T=function(){for(var a=setTimeout(T,0),b=O();R.length;)if(R.shift()(),50<O()-b)return;clearTimeout(a);S=!1};var ca={},B={},ea={},I=!1;y(f,\"beforeunload\",function(){I=!0;setTimeout(function(){I=!1},1E4)});var fa=/^prv:/,V={},J={},U={},ga={},wa=0,Z=String.fromCharCode(92),F,z=[],oa=f.onerror;f.onerror=function(a,b,c,e,g){g&&\"object\"===typeof g||(g=Error(a,b,c),g.columnNumber=e,g.stack=b||c||e?q(Z,g.message,\"at \"+q(\":\",b,c,e)):A);var d=z.pop()||\n",
      "{};g.attribution=q(\":\",g.attribution||d.attribution,d.name);g.logLevel=d.logLevel;g.attribution&&console&&console.log&&console.log([g.logLevel||\"ERROR\",a,\"thrown by\",g.attribution].join(\" \"));z=[];oa&&(d=[].slice.call(arguments),d[4]=g,oa.apply(f,d))};K.prototype={logError:function(a,b,c,e){b={message:b,logLevel:c||\"ERROR\",attribution:q(\":\",this.attribution,e)};if(f.ueLogError)return f.ueLogError(a||b,a?b:null),!0;console&&console.error&&(console.log(b),console.error(a));return!1},error:function(a,\n",
      "b,c,e){a=Error(q(\":\",e,a,c));a.attribution=q(\":\",this.attribution,b);throw a;},guardError:W(),guardFatal:W(\"FATAL\"),guardCurrent:function(a){var b=z[z.length-1];return b?W(b.logLevel,b).call(this,a):a},log:function(a,b,c){return this.logError(null,a,b,c)},declare:C([],!0,!0,!0),register:C([],!0),execute:C([]),AUI_BUILD_DATE:\"3.19.8-2020-01-09\",when:ha(),now:ha(!0),trigger:function(a,b,c){var e=O();this.declare(a,{data:b,pageElapsedTime:e-(f.aPageStart||NaN),triggerTime:e});c&&c.instrument&&F.when(\"prv:a-logTrigger\").execute(function(b){b(a)})},\n",
      "handleTriggers:function(){this.log(\"handleTriggers deprecated\")},attributeErrors:function(a){return new K(a)},_namespace:function(a,b){return new K(a,b)}};var p=H(f,\"AmazonUIPageJS\",new K);F=p._namespace(\"PageJS\",\"AmazonUI\");F.declare(\"prv:p-debug\",ga);p.declare(\"p-recorder-events\",[]);p.declare(\"p-recorder-stop\",function(){});H(f,\"P\",p);ia();if(h.addEventListener){var pa;h.addEventListener(\"DOMContentLoaded\",pa=function(){p.trigger(\"a-domready\");h.removeEventListener(\"DOMContentLoaded\",pa,!1)},!1)}var m=\n",
      "h.documentElement,aa=function(){var a=[\"O\",\"ms\",\"Moz\",\"Webkit\"],b=h.createElement(\"div\");return{testGradients:function(){b.style.cssText=\"background-image:-webkit-gradient(linear,left top,right bottom,from(#1E4),to(white));background-image:-webkit-linear-gradient(left top,#1E4,white);background-image:linear-gradient(left top,#1E4,white);\";return~b.style.backgroundImage.indexOf(\"gradient\")},test:function(c){var e=c.charAt(0).toUpperCase()+c.substr(1);c=(a.join(e+\" \")+e+\" \"+c).split(\" \");for(e=c.length;e--;)if(\"\"===\n",
      "b.style[c[e]])return!0;return!1},testTransform3d:function(){var a=!1;f.matchMedia&&(a=f.matchMedia(\"(-webkit-transform-3d)\").matches);return a}}}(),t=m.className,qa=/(^| )a-mobile( |$)/.test(t),ra=/(^| )a-tablet( |$)/.test(t),k={audio:function(){return!!h.createElement(\"audio\").canPlayType},video:function(){return!!h.createElement(\"video\").canPlayType},canvas:function(){return!!h.createElement(\"canvas\").getContext},svg:function(){return!!h.createElementNS&&!!h.createElementNS(\"http://www.w3.org/2000/svg\",\n",
      "\"svg\").createSVGRect},offline:function(){return navigator.hasOwnProperty&&navigator.hasOwnProperty(\"onLine\")&&navigator.onLine},dragDrop:function(){return\"draggable\"in h.createElement(\"span\")},geolocation:function(){return!!navigator.geolocation},history:function(){return!(!f.history||!f.history.pushState)},webworker:function(){return!!f.Worker},autofocus:function(){return\"autofocus\"in h.createElement(\"input\")},inputPlaceholder:function(){return\"placeholder\"in h.createElement(\"input\")},textareaPlaceholder:function(){return\"placeholder\"in\n",
      "h.createElement(\"textarea\")},localStorage:function(){return\"localStorage\"in f&&null!==f.localStorage},orientation:function(){return\"orientation\"in f},touch:function(){return\"ontouchend\"in h},gradients:function(){return aa.testGradients()},hires:function(){var a=f.devicePixelRatio&&1.5<=f.devicePixelRatio||f.matchMedia&&f.matchMedia(\"(min-resolution:144dpi)\").matches;x(\"hiRes\"+(qa?\"Mobile\":ra?\"Tablet\":\"Desktop\"),a?1:0);return a},transform3d:function(){return aa.testTransform3d()},touchScrolling:function(){return l(/Windowshop|android|OS ([5-9]|[1-9][0-9]+)(_[0-9]{1,2})+ like Mac OS X|Chrome|Silk|Firefox|Trident.+?; Touch/i)},\n",
      "ios:function(){return l(/OS [1-9][0-9]*(_[0-9]*)+ like Mac OS X/i)&&!l(/trident|Edge/i)},android:function(){return l(/android.([1-9]|[L-Z])/i)&&!l(/trident|Edge/i)},mobile:function(){return qa},tablet:function(){return ra},rtl:function(){return\"rtl\"===m.dir}},u;for(u in k)k.hasOwnProperty(u)&&(k[u]=ja(k[u]));for(var ba=\"textShadow textStroke boxShadow borderRadius borderImage opacity transform transition\".split(\" \"),P=0;P<ba.length;P++)k[ba[P]]=ja(function(){return aa.test(ba[P])});var M=!0,ka=0,\n",
      "Y={w:0,h:0},N=4;L();y(f,\"resize\",function(){clearTimeout(ka);N=4;L()});var sa={getItem:function(a){try{return f.localStorage.getItem(a)}catch(b){}},setItem:function(a,b){try{return f.localStorage.setItem(a,b)}catch(c){}}};m.className=X(m,\"a-no-js\");E(m,\"a-js\");!l(/OS [1-8](_[0-9]*)+ like Mac OS X/i)||f.navigator.standalone||l(/safari/i)||E(m,\"a-ember\");t=[];for(u in k)k.hasOwnProperty(u)&&k[u]&&t.push(\"a-\"+u.replace(/([A-Z])/g,function(a){return\"-\"+a.toLowerCase()}));E(m,t.join(\" \"));m.setAttribute(\"data-aui-build-date\",\n",
      "\"3.19.8-2020-01-09\");p.register(\"p-detect\",function(){return{capabilities:k,localStorage:k.localStorage&&sa,toggleResponsiveGrid:xa,responsiveGridEnabled:ya}});l(/UCBrowser/i)||k.localStorage&&E(m,sa.getItem(\"a-font-class\"));p.declare(\"a-event-revised-handling\",!1);var w;try{w=navigator.serviceWorker}catch(a){G(\"sw:nav_err\")}w&&(y(w,\"message\",function(a){a&&a.data&&x(a.data.k,a.data.v)}),w.controller&&w.controller.postMessage(\"MSG-RDY\"));var ma=[];(function(a){var b=a.reg,c=a.unreg;w&&w.getRegistrations?\n",
      "(F.when(\"A\",\"a-util\").execute(function(a,b){na(a,b,c,\"unregister\")}),y(f,\"load\",function(){F.when(\"A\",\"a-util\").execute(function(a,c){na(a,c,b,\"register\");la()})})):(b&&(b.browser&&n(r(\"register\",\"browser\")+\"unsupported\"),b.prodMshop&&n(r(\"register\",\"prod_mshop\")+\"unsupported\"),b.betaMshop&&n(r(\"register\",\"beta_mshop\")+\"unsupported\")),c&&(c.browser&&n(r(\"unregister\",\"browser\")+\"unsupported\"),c.prodMshop&&n(r(\"unregister\",\"prod_mshop\")+\"unsupported\"),c.betaMshop&&n(r(\"unregister\",\"beta_mshop\")+\"unsupported\")),\n",
      "la())})({reg:{},unreg:{}});p.declare(\"a-fix-event-off\",!1);x(\"pagejs:pkgExecTime\",D()-za)})(window,document,Date);\n",
      "  (window.AmazonUIPageJS ? AmazonUIPageJS : P).load.js('https://images-na.ssl-images-amazon.com/images/I/61-6nKPKyWL._RC|11-BZEJ8lnL.js,61GQ9IdK7HL.js,21Of0-9HPCL.js,012FVc3131L.js,119KAWlHU6L.js,51CF7BmbF2L.js,11AHlQhPRjL.js,016iHgpF74L.js,11aNYFFS5hL.js,116tgw9TSaL.js,211-p4GRUCL.js,01PoLXBDXWL.js,6131jEFdnAL.js,01ezj5Rkz1L.js,11BOgvnnntL.js,31UWuPgtTtL.js,01rpauTep4L.js,01iyxuSGj4L.js,01OTNfCf5oL.js_.js?AUIClients/AmazonUI');\n",
      "  (window.AmazonUIPageJS ? AmazonUIPageJS : P).load.js('https://images-na.ssl-images-amazon.com/images/I/51voyzpfdCL.js?AUIClients/IMDbMojoSiteAssets');\n",
      "</script>\n",
      "</head><body class=\"mojo-page-id-tt a-m-us a-aui_157141-c a-aui_158613-c a-aui_72554-c a-aui_dropdown_187959-c a-aui_pci_risk_banner_210084-c a-aui_perf_130093-c a-aui_tnr_v2_180836-c a-aui_ux_145937-c\" id=\"body\"><div id=\"a-page\"><script data-a-state='{\"key\":\"a-wlab-states\"}' type=\"a-state\">{}</script><div class=\"a-section a-spacing-none mojo-navigation mojo-header mojo-flex mojo-flex-h\"><div class=\"a-section mojo-logo\"><a class=\"a-link-normal\" href=\"/?ref_=bo_nb_tt_mojologo\"></a></div><div class=\"a-section a-spacing-none mojo-nav-elements mojo-flex mojo-flex-h mojo-flex-1\"><div class=\"a-section a-spacing-none mojo-search-bar mojo-flex mojo-flex-h\"><div class=\"a-section a-spacing-none mojo-search\"><form action=\"/search\">\n",
      "<input id=\"mojo-search-text-input\" name=\"q\" placeholder=\"Search for Titles\" required=\"true\" type=\"search\"/>\n",
      "<input class=\"mojo-inline-button\" id=\"mojo-search-button\" type=\"submit\" value=\"\"/>\n",
      "</form>\n",
      "</div></div><div class=\"a-section a-spacing-none mojo-mobile-options\"><span class=\"a-declarative\" data-a-popover='{\"closeButton\":\"false\",\"inlineContent\":\"\\u003cspan class=\\\"a-size-medium\\\"&gt;\\u003ca href=\\\"https://pro.imdb.com/?ref_=mojo_nb_tt_pro&amp;amp;rf=mojo_nb_tt_pro\\\" class=\\\"a-touch-link a-box a-touch-link-noborder\\\"&gt;\\u003cdiv class=\\\"a-box-inner\\\"&gt;\\u003ci class=\\\"a-icon a-icon-touch-link\\\"&gt;\\u003c\\/i&gt;IMDbPro\\u003c\\/div&gt;\\u003c\\/a&gt;\\u003ca href=\\\"https://www.facebook.com/BoxOfficeMojo/\\\" class=\\\"a-touch-link a-box a-touch-link-noborder\\\"&gt;\\u003cdiv class=\\\"a-box-inner\\\"&gt;\\u003ci class=\\\"a-icon a-icon-touch-link\\\"&gt;\\u003c\\/i&gt;Facebook\\u003c\\/div&gt;\\u003c\\/a&gt;\\u003ca href=\\\"https://twitter.com/boxofficemojo\\\" class=\\\"a-touch-link a-box a-touch-link-noborder\\\"&gt;\\u003cdiv class=\\\"a-box-inner\\\"&gt;\\u003ci class=\\\"a-icon a-icon-touch-link\\\"&gt;\\u003c\\/i&gt;Twitter\\u003c\\/div&gt;\\u003c\\/a&gt;\\u003ca href=\\\"https://help.imdb.com/article/imdbpro/industry-research/box-office-mojo-by-imdbpro-faq/GCWTV4MQKGWRAUAP?ref_=mojo_ftr_help\\\" class=\\\"a-touch-link a-box a-touch-link-noborder\\\"&gt;\\u003cdiv class=\\\"a-box-inner\\\"&gt;\\u003ci class=\\\"a-icon a-icon-touch-link\\\"&gt;\\u003c\\/i&gt;Help\\u003c\\/div&gt;\\u003c\\/a&gt;\\u003c\\/span&gt;\"}' data-action=\"a-popover\"><a class=\"a-popover-trigger a-declarative\" href=\"javascript:void(0)\"><span class=\"mobile-menu-popover-trigger\"></span>\n",
      "<i class=\"a-icon a-icon-popover\"></i></a></span></div><div class=\"a-section a-spacing-none mojo-options mojo-flex\"><div class=\"a-popover-preload\" id=\"a-popover-mojoRollover\"><a class=\"a-link-normal mojo-rollover-image\" href=\"https://pro.imdb.com/login/ap?u=%2Flogin%2Flwa&amp;imdbPageAction=signUp&amp;ref_=mojo_nb_tt_rollover&amp;rf=mojo_nb_tt_rollover\"><img alt=\"\" src=\"https://m.media-amazon.com/images/G/01/IMDbPro/images/MI_121919_NYNY2020_Engagement_rollover_2x._CB1578336809_.png\"/></a></div><span class=\"a-declarative\" data-a-popover='{\"padding\":\"none\",\"closeButton\":\"false\",\"dataStrategy\":\"preload\",\"name\":\"mojoRollover\",\"width\":\"500\",\"position\":\"triggerBottom\",\"height\":\"200\"}' data-action=\"a-popover\"><a class=\"a-popover-trigger a-declarative\" href=\"javascript:void(0)\"><span class=\"imdb-pro-logo\"></span><i class=\"a-icon a-icon-popover\"></i></a></span><span class=\"mojo-logo-delimiter\"></span><a class=\"a-link-normal mojo-fb-logo\" href=\"https://www.facebook.com/BoxOfficeMojo/\" rel=\"noopener\" target=\"_blank\"></a><a class=\"a-link-normal mojo-tw-logo\" href=\"https://twitter.com/boxofficemojo\" rel=\"noopener\" target=\"_blank\"></a></div></div><div class=\"a-section a-spacing-none mojo-link-bar mojo-flex mojo-flex-h\"><div class=\"a-section a-spacing-none mojo-tab-container\"><a class=\"a-size-medium a-link-normal mojo-navigation-tab\" href=\"/date/?ref_=bo_nb_tt_tab\">Domestic</a><a class=\"a-size-medium a-link-normal mojo-navigation-tab\" href=\"/intl/?ref_=bo_nb_tt_tab\">International</a><a class=\"a-size-medium a-link-normal mojo-navigation-tab\" href=\"/year/world/?ref_=bo_nb_tt_tab\">Worldwide</a><a class=\"a-size-medium a-link-normal mojo-navigation-tab\" href=\"/calendar/?ref_=bo_nb_tt_tab\">Calendar</a><a class=\"a-size-medium a-link-normal mojo-navigation-tab\" href=\"/charts/overall/?ref_=bo_nb_tt_tab\">All Time</a><a class=\"a-size-medium a-link-normal mojo-navigation-tab\" href=\"/showdown/?ref_=bo_nb_tt_tab\">Showdowns</a><a class=\"a-size-medium a-link-normal mojo-navigation-tab\" href=\"/news/?ref_=bo_nb_tt_tab\">News</a></div></div></div><main>\n",
      "<div class=\"a-section mojo-body aok-relative\"><div class=\"a-section a-spacing-none mojo-summary\"><div class=\"a-section mojo-heading-summary\"><div class=\"a-fixed-left-grid\"><div class=\"a-fixed-left-grid-inner\" style=\"padding-left:107px\"><div class=\"a-fixed-left-grid-col a-col-left\" style=\"width:107px;margin-left:-107px;float:left;\"><img alt=\"\" data-a-hires=\"https://m.media-amazon.com/images/M/MV5BMTQ0NjUzMDMyOF5BMl5BanBnXkFtZTgwODA1OTU0MDE@._V1_SY278_CR1,0,184,278_.jpg\" height=\"139\" src=\"https://m.media-amazon.com/images/M/MV5BMTQ0NjUzMDMyOF5BMl5BanBnXkFtZTgwODA1OTU0MDE@._V1_SY139_CR0,0,92,139_.jpg\" width=\"92\"/></div><div class=\"a-fixed-left-grid-col a-col-right\" style=\"padding-left:0%;float:left;\"><div class=\"a-section a-spacing-none\"><h1 class=\"a-size-extra-large\">The Big Lebowski<span class=\"a-size-large a-color-secondary\"> (1998)</span></h1><span class=\"a-size-medium\">Jeff \"The Dude\" Lebowski, mistaken for a millionaire of the same name, seeks restitution for his ruined rug and enlists his bowling buddies to help get it.</span></div></div></div></div></div><div class=\"a-section mojo-heading-pro-cta aok-float-right\">\n",
      "<div class=\"a-box\"><div class=\"a-box-inner\">\n",
      "<span class=\"imdb-pro-colored-logo\"></span>\n",
      "<br/>\n",
      "<a class=\"a-link-normal\" href=\"https://pro.imdb.com/title/tt0118715/cast?ref_=mojo_tt_cta_cast&amp;rf=mojo_tt_cta_cast\" rel=\"noopener\" target=\"_blank\">Cast information</a>\n",
      "<br/>\n",
      "<a class=\"a-link-normal\" href=\"https://pro.imdb.com/title/tt0118715/filmmakers?ref_=mojo_tt_cta_crew&amp;rf=mojo_tt_cta_crew\" rel=\"noopener\" target=\"_blank\">Crew information</a>\n",
      "<br/>\n",
      "<a class=\"a-link-normal\" href=\"https://pro.imdb.com/title/tt0118715/companycredits?ref_=mojo_tt_cta_co&amp;rf=mojo_tt_cta_co\" rel=\"noopener\" target=\"_blank\">Company information</a>\n",
      "<br/>\n",
      "<a class=\"a-link-normal\" href=\"https://pro.imdb.com/title/tt0118715/news?ref_=mojo_tt_cta_news&amp;rf=mojo_tt_cta_news\" rel=\"noopener\" target=\"_blank\">News</a>\n",
      "<br/>\n",
      "<a class=\"a-link-normal\" href=\"https://pro.imdb.com/title/tt0118715/boxoffice?ref_=mojo_tt_cta_bo&amp;rf=mojo_tt_cta_bo\" rel=\"noopener\" target=\"_blank\">Box office</a>\n",
      "<br/>\n",
      "<div class=\"a-popover-preload\" id=\"a-popover-genrePopover\">\n",
      "<a class=\"a-link-normal\" href=\"https://pro.imdb.com/boxoffice/genre/sg3739152641?ref_=mojo_tt_cta_genre&amp;rf=mojo_tt_cta_genre\" rel=\"noopener\" target=\"_blank\">Slacker</a>\n",
      "<br/>\n",
      "<a class=\"a-link-normal\" href=\"https://pro.imdb.com/boxoffice/genre/sg2178806017?ref_=mojo_tt_cta_genre&amp;rf=mojo_tt_cta_genre\" rel=\"noopener\" target=\"_blank\">Black Comedy</a>\n",
      "</div>\n",
      "<span class=\"a-declarative\" data-a-popover='{\"closeButton\":\"false\",\"dataStrategy\":\"preload\",\"name\":\"genrePopover\"}' data-action=\"a-popover\">\n",
      "<a class=\"a-popover-trigger a-declarative\" href=\"javascript:void(0)\">\n",
      "<span>\n",
      "                        Genre keyword rankings\n",
      "                    </span>\n",
      "<i class=\"a-icon a-icon-popover\"></i></a>\n",
      "</span>\n",
      "</div></div></div></div><div class=\"a-section mojo-title-release-refiner\"><div class=\"a-section a-spacing-none mojo-title-release-refiner-option\" id=\"title-summary-refiner\"><a class=\"a-link-normal mojo-title-link refiner-display-highlight\" href=\"/title/tt0118715/?ref_=bo_tt_ti\"><img height=\"18\" src=\"https://m.media-amazon.com/images/G/01/boxofficemojo/ic_summary_m._CB523235890_.png\" width=\"21\"/><span class=\"mojo-hidden-from-mobile\"> Title Summary</span></a></div><div class=\"a-section a-spacing-none mojo-title-release-refiner-option\" id=\"release-group-refiner\"><div class=\"a-section a-spacing-none mojo-dropdown-clear\"><form action=\"\" autocomplete=\"off\" class=\"a-spacing-none\" method=\"post\"><span class=\"a-dropdown-container\"><select autocomplete=\"off\" class=\"a-native-dropdown\" id=\"releasegroup-picker-navSelector\" name=\"releasegroup-picker-navSelector\" tabindex=\"-1\"><option value=\"/title/tt0118715/\">All Releases</option><option value=\"/releasegroup/gr3312079365/\">Original Release</option><option value=\"/releasegroup/gr3664400901/\">2018 Re-release</option></select><span class=\"a-button a-button-dropdown refiner-display-highlight\" data-a-class=\"refiner-display-highlight\" tabindex=\"-1\"><span class=\"a-button-inner\"><span aria-hidden=\"true\" class=\"a-button-text a-declarative\" data-action=\"a-dropdown-button\" role=\"button\" tabindex=\"0\"><span class=\"a-dropdown-prompt\"></span></span><i class=\"a-icon a-icon-dropdown\"></i></span></span></span></form></div></div></div><div class=\"a-section a-spacing-none mojo-gutter mojo-summary-table\"><div class=\"a-section a-spacing-none mojo-performance-summary\">\n",
      "<div class=\"a-section a-spacing-none mojo-performance-summary-table\">\n",
      "<h2 class=\"a-size-large a-text-bold\">\n",
      "                All Releases\n",
      "            </h2>\n",
      "<div class=\"a-section a-spacing-none\">\n",
      "<span class=\"a-size-small\">\n",
      "                        \n",
      "                            \n",
      "                                Domestic (<span class=\"percent\">38.6%</span>)\n",
      "                            \n",
      "                            \n",
      "                        \n",
      "                    </span>\n",
      "<br/>\n",
      "<span class=\"a-size-medium a-text-bold\">\n",
      "<span class=\"money\">$18,034,458</span>\n",
      "</span>\n",
      "</div>\n",
      "<div class=\"a-section a-spacing-none\">\n",
      "<span class=\"a-size-small\">\n",
      "                        \n",
      "                            \n",
      "                                International (<span class=\"percent\">61.4%</span>)\n",
      "                            \n",
      "                            \n",
      "                        \n",
      "                    </span>\n",
      "<br/>\n",
      "<span class=\"a-size-medium a-text-bold\">\n",
      "<span class=\"money\">$28,701,011</span>\n",
      "</span>\n",
      "</div>\n",
      "<div class=\"a-section a-spacing-none\">\n",
      "<span class=\"a-size-small\">\n",
      "                        \n",
      "                            \n",
      "                                Worldwide \n",
      "                            \n",
      "                            \n",
      "                        \n",
      "                    </span>\n",
      "<br/>\n",
      "<span class=\"a-size-medium a-text-bold\">\n",
      "<span class=\"money\">$46,735,469</span>\n",
      "</span>\n",
      "</div>\n",
      "</div>\n",
      "</div><div class=\"a-section a-spacing-top-base mojo-mobile-title-summary-pro-cta\">\n",
      "<div class=\"a-box\"><div class=\"a-box-inner\">\n",
      "<span class=\"imdb-pro-colored-logo\"></span>\n",
      "<br/>\n",
      "<a class=\"a-link-normal\" href=\"https://pro.imdb.com/title/tt0118715/cast?ref_=mojo_tt_cta_cast&amp;rf=mojo_tt_cta_cast\" rel=\"noopener\" target=\"_blank\">Cast information</a>\n",
      "<br/>\n",
      "<a class=\"a-link-normal\" href=\"https://pro.imdb.com/title/tt0118715/filmmakers?ref_=mojo_tt_cta_crew&amp;rf=mojo_tt_cta_crew\" rel=\"noopener\" target=\"_blank\">Crew information</a>\n",
      "<br/>\n",
      "<a class=\"a-link-normal\" href=\"https://pro.imdb.com/title/tt0118715/companycredits?ref_=mojo_tt_cta_co&amp;rf=mojo_tt_cta_co\" rel=\"noopener\" target=\"_blank\">Company information</a>\n",
      "<br/>\n",
      "<a class=\"a-link-normal\" href=\"https://pro.imdb.com/title/tt0118715/news?ref_=mojo_tt_cta_news&amp;rf=mojo_tt_cta_news\" rel=\"noopener\" target=\"_blank\">News</a>\n",
      "<br/>\n",
      "<a class=\"a-link-normal\" href=\"https://pro.imdb.com/title/tt0118715/boxoffice?ref_=mojo_tt_cta_bo&amp;rf=mojo_tt_cta_bo\" rel=\"noopener\" target=\"_blank\">Box office</a>\n",
      "<br/>\n",
      "<div class=\"a-popover-preload\" id=\"a-popover-genrePopover\">\n",
      "<a class=\"a-link-normal\" href=\"https://pro.imdb.com/boxoffice/genre/sg3739152641?ref_=mojo_tt_cta_genre&amp;rf=mojo_tt_cta_genre\" rel=\"noopener\" target=\"_blank\">Slacker</a>\n",
      "<br/>\n",
      "<a class=\"a-link-normal\" href=\"https://pro.imdb.com/boxoffice/genre/sg2178806017?ref_=mojo_tt_cta_genre&amp;rf=mojo_tt_cta_genre\" rel=\"noopener\" target=\"_blank\">Black Comedy</a>\n",
      "</div>\n",
      "<span class=\"a-declarative\" data-a-popover='{\"closeButton\":\"false\",\"dataStrategy\":\"preload\",\"name\":\"genrePopover\"}' data-action=\"a-popover\">\n",
      "<a class=\"a-popover-trigger a-declarative\" href=\"javascript:void(0)\">\n",
      "<span>\n",
      "                        Genre keyword rankings\n",
      "                    </span>\n",
      "<i class=\"a-icon a-icon-popover\"></i></a>\n",
      "</span>\n",
      "</div></div></div><div class=\"a-section a-spacing-none a-spacing-top-base mojo-discloser-button mojo-discloser with-icon mojo-hidden-from-widescreen\" data-target=\".mojo-summary-values\" id=\"mojo-summary-details-discloser\"><span>\n",
      "                Summary Details\n",
      "            </span></div><div class=\"a-section a-spacing-none mojo-summary-values mojo-hidden-from-mobile\"><div class=\"a-section a-spacing-none\"><span>Domestic Distributor</span><span>Gramercy Pictures (I)<br/><a class=\"a-size-small a-link-normal\" href=\"https://pro.imdb.com/company/co0018555/boxoffice/?ref_=mojo_tt_su&amp;rf=mojo_tt_su\" rel=\"noopener\" target=\"_blank\">See full company information<svg class=\"mojo-new-window-svg\" viewbox=\"0 0 32 32\" xmlns=\"http://www.w3.org/2000/svg\">\n",
      "<path d=\"M24,15.57251l3,3V23.5A3.50424,3.50424,0,0,1,23.5,27H8.5A3.50424,3.50424,0,0,1,5,23.5V8.5A3.50424,3.50424,0,0,1,8.5,5h4.92755l3,3H8.5a.50641.50641,0,0,0-.5.5v15a.50641.50641,0,0,0,.5.5h15a.50641.50641,0,0,0,.5-.5ZM19.81952,8.56372,12.8844,17.75a.49989.49989,0,0,0,.04547.65479l.66534.66528a.49983.49983,0,0,0,.65479.04553l9.18628-6.93518,2.12579,2.12585a.5.5,0,0,0,.84741-.27526l1.48273-9.35108a.50006.50006,0,0,0-.57214-.57214L17.969,5.59058a.5.5,0,0,0-.27526.84741Z\"></path>\n",
      "</svg></a></span></div><div class=\"a-section a-spacing-none\"><span>Domestic Opening</span><span><a class=\"a-link-normal\" href=\"/release/rl239568385/weekend?ref_=bo_tt_gr#table\"><span class=\"money\">$5,533,844</span></a></span></div><div class=\"a-section a-spacing-none\"><span>Earliest Release Date</span><span>March 6, 1998\n",
      "            (Domestic)</span></div><div class=\"a-section a-spacing-none\"><span>MPAA</span><span>R</span></div><div class=\"a-section a-spacing-none\"><span>Running Time</span><span>1 hr 57 min</span></div><div class=\"a-section a-spacing-none\"><span>Genres</span><span>Comedy\n",
      "    \n",
      "        Crime\n",
      "    \n",
      "        Sport</span></div><div class=\"a-section a-spacing-none\"><span>\n",
      "                        IMDbPro\n",
      "                    </span><span><a class=\"a-link-normal\" href=\"https://pro.imdb.com/title/tt0118715?ref_=mojo_tt_summary&amp;rf=mojo_tt_summary\" rel=\"noopener\" target=\"_blank\">See more details at IMDbPro<svg class=\"mojo-new-window-svg\" viewbox=\"0 0 32 32\" xmlns=\"http://www.w3.org/2000/svg\">\n",
      "<path d=\"M24,15.57251l3,3V23.5A3.50424,3.50424,0,0,1,23.5,27H8.5A3.50424,3.50424,0,0,1,5,23.5V8.5A3.50424,3.50424,0,0,1,8.5,5h4.92755l3,3H8.5a.50641.50641,0,0,0-.5.5v15a.50641.50641,0,0,0,.5.5h15a.50641.50641,0,0,0,.5-.5ZM19.81952,8.56372,12.8844,17.75a.49989.49989,0,0,0,.04547.65479l.66534.66528a.49983.49983,0,0,0,.65479.04553l9.18628-6.93518,2.12579,2.12585a.5.5,0,0,0,.84741-.27526l1.48273-9.35108a.50006.50006,0,0,0-.57214-.57214L17.969,5.59058a.5.5,0,0,0-.27526.84741Z\"></path>\n",
      "</svg></a></span></div></div></div><div class=\"mojo-link-bar-internal mojo-flex mojo-flex-h\" id=\"tabs\">\n",
      "<div class=\"mojo-tab-container\">\n",
      "<a class=\"a-size-base a-link-normal mojo-navigation-tab mojo-navigation-tab-active\" href=\"/title/tt0118715/?ref_=bo_tt_tab#tabs\">Releases</a><a class=\"a-size-base a-link-normal mojo-navigation-tab\" href=\"/title/tt0118715/credits/?ref_=bo_tt_tab#tabs\">Cast and Crew</a><div class=\"a-section mojo-disabled-tab\">All-Time Rankings</div><a class=\"a-size-base a-link-normal mojo-navigation-tab\" href=\"/title/tt0118715/news/?ref_=bo_tt_tab#tabs\">Related Stories</a><a class=\"a-size-base a-link-normal mojo-navigation-tab\" href=\"/title/tt0118715/similar/?ref_=bo_tt_tab#tabs\">Similar Movies</a></div>\n",
      "</div>\n",
      "<div class=\"a-section a-spacing-none a-spacing-top-base\"><div class=\"a-section mojo-gutter\"><div class=\"a-section mojo-h-scroll\"><table class=\"a-bordered a-horizontal-stripes a-size-base-plus\"><tr><th>Release Group</th><th>Rollout</th><th>Markets</th><th class=\"a-text-right\">Domestic</th><th class=\"a-text-right\">International</th><th class=\"a-text-right\">Worldwide</th></tr><tr><td class=\"a-align-center\"><a class=\"a-link-normal\" href=\"/releasegroup/gr3312079365/?ref_=bo_tt_gr_1\">Original Release</a></td><td class=\"a-align-center\">March 6, 1998</td><td class=\"a-align-center\"><a class=\"a-link-normal\" href=\"/release/rl239568385/?ref_=bo_tt_gr_1\">Domestic</a></td><td class=\"a-text-right a-align-center\"><span class=\"money\">$17,451,873</span></td><td class=\"a-text-right a-align-center\"><span class=\"money\">$28,690,764</span></td><td class=\"a-text-right a-align-center\"><span class=\"money\">$46,142,637</span></td></tr><tr><td class=\"a-align-center\"><a class=\"a-link-normal\" href=\"/releasegroup/gr3664400901/?ref_=bo_tt_gr_2\">2018 Re-release</a></td><td class=\"a-align-center\">August 5-September 21, 2018</td><td class=\"a-align-center\"><a class=\"a-link-normal\" href=\"/releasegroup/gr3664400901/?ref_=bo_tt_gr_2\">Domestic, EMEA</a></td><td class=\"a-text-right a-align-center\"><span class=\"money\">$582,585</span></td><td class=\"a-text-right a-align-center\"><span class=\"money\">$10,247</span></td><td class=\"a-text-right a-align-center\"><span class=\"money\">$592,832</span></td></tr></table></div></div></div></div></main>\n",
      "<div class=\"a-section a-spacing-none mojo-navigation-frame\"><div class=\"a-section a-spacing-none mojo-navigation mojo-footer\"><a class=\"a-link-normal imdb-pro-logo\" href=\"https://pro.imdb.com/?ref_=mojo_ft_tt_prologo&amp;rf=mojo_ft_tt_prologo\"></a><p>\n",
      "            Latest Updates:\n",
      "            <a class=\"a-link-normal\" href=\"/news/?ref_=bo_ft_tt_news\">News</a> |\n",
      "            <a class=\"a-link-normal\" href=\"/daily/?ref_=bo_ft_tt_daily\">Daily</a> |\n",
      "            <a class=\"a-link-normal\" href=\"/weekend/?ref_=bo_ft_tt_weekend\">Weekend</a> |\n",
      "            <a class=\"a-link-normal\" href=\"/charts/?ref_=bo_ft_tt_charts\">All Time</a> |\n",
      "            <a class=\"a-link-normal\" href=\"/intl/?ref_=bo_ft_tt_intl\">International</a> |\n",
      "            <a class=\"a-link-normal\" href=\"/showdown/?ref_=bo_ft_tt_showdown\">Showdowns</a></p><p><a class=\"a-link-normal\" href=\"https://help.imdb.com/article/imdbpro/industry-research/box-office-mojo-by-imdbpro-faq/GCWTV4MQKGWRAUAP?ref_=mojo_ftr_help\" rel=\"noopener\" target=\"_blank\">Help</a></p><p>\n",
      "            BoxOfficeMojo.com by IMDbPro - an\n",
      "            <a class=\"a-link-normal\" href=\"http://www.imdb.com/\" rel=\"noopener\" target=\"_blank\">IMDb</a>\n",
      "            company.\n",
      "        </p><p>\n",
      "            © IMDb.com, Inc. or its affiliates. All rights reserved.\n",
      "            Box Office Mojo and IMDb are trademarks or registered trademarks of IMDb.com, Inc. or its affiliates.\n",
      "            <a class=\"a-link-normal\" href=\"/conditions/?ref_=bo_ft_tt_conditions\">Conditions of Use</a>\n",
      "             and\n",
      "             <a class=\"a-link-normal\" href=\"/privacy/?ref_=bo_ft_tt_privacy\">Privacy Policy</a>\n",
      "            under which this service is provided to you.\n",
      "        </p></div></div></div></body></html>\n"
     ]
    }
   ],
   "source": [
    "print(soup)"
   ]
  },
  {
   "cell_type": "markdown",
   "metadata": {},
   "source": [
    "The `prettify` method turns the soup into a nicely formatted Unicode string with one tag on each line for readability."
   ]
  },
  {
   "cell_type": "code",
   "execution_count": 24,
   "metadata": {
    "ExecuteTime": {
     "end_time": "2019-11-27T22:14:00.143509Z",
     "start_time": "2019-11-27T22:13:59.955Z"
    }
   },
   "outputs": [
    {
     "name": "stdout",
     "output_type": "stream",
     "text": [
      "<!DOCTYPE html>\n",
      "<html class=\"a-no-js\" data-19ax5a9jf=\"dingo\">\n",
      " <head>\n",
      "  <script>\n",
      "   var aPageStart = (new Date()).getTime();\n",
      "  </script>\n",
      "  <meta charset=\"utf-8\"/>\n",
      "  <meta content=\"width=device-width, initial-scale=1.0\" name=\"viewport\"/>\n",
      "  <meta charset=\"utf-8\"/>\n",
      "  <title dir=\"ltr\">\n",
      "   The Big Lebowski - Box Office Mojo\n",
      "  </title>\n",
      "  <meta content=\"The Big Lebowski\" name=\"title\"/>\n",
      "  <meta content=\"Box Office Mojo\" property=\"og:site_name\"/>\n",
      "  <meta content=\"telephone=no\" name=\"format-detection\"/>\n",
      "  <link href=\"https://m.media-amazon.com/images/G/01/boxofficemojo/v2/favicon._CB448965889_.ico\" rel=\"icon\" type=\"image/x-icon\"/>\n",
      "  <link href=\"https://images-na.ssl-images-amazon.com/images/I/51tax7M48-L._RC|516fcOUE-HL.css,01evdoiemkL.css,01K+Ps1DeEL.css,31pdJv9iSzL.css,01VszOUTO6L.css,11UGC+GXOPL.css,21LK7jaicML.css,11L58Qpo0GL.css,21kyTi1FabL.css,01ruG+gDPFL.css,01YhS3Cs-hL.css,21GwE3cR-yL.css,019SHZnt8RL.css,01wAWQRgXzL.css,21bWcRJYNIL.css,11WgRxUdJRL.css,01dU8+SPlFL.css,11ocrgKoE-L.css,01SHjPML6tL.css,111-D2qRjiL.css,01QrWuRrZ-L.css,310Imb6LqFL.css,01piEq-AdwL.css,11Z1a0FxSIL.css,01cbS3UK11L.css,21mOLw+nYYL.css,01L8Y-JFEhL.css_.css?AUIClients/AmazonUI#us.not-trident\" rel=\"stylesheet\"/>\n",
      "  <link href=\"https://images-na.ssl-images-amazon.com/images/I/41lXlS9Z5UL.css?AUIClients/IMDbMojoSiteAssets\" rel=\"stylesheet\"/>\n",
      "  <script>\n",
      "   (function(f,h,Q,A){function G(a){v&&v.tag&&v.tag(q(\":\",\"aui\",a))}function x(a,b){v&&v.count&&v.count(\"aui:\"+a,0===b?0:b||(v.count(\"aui:\"+a)||0)+1)}function l(a){try{return a.test(navigator.userAgent)}catch(b){return!1}}function y(a,b,c){a.addEventListener?a.addEventListener(b,c,!1):a.attachEvent&&a.attachEvent(\"on\"+b,c)}function q(a,b,c,e){b=b&&c?b+a+c:b||c;return e?q(a,b,e):b}function H(a,b,c){try{Object.defineProperty(a,b,{value:c,writable:!1})}catch(e){a[b]=c}return c}function ta(a,b){var c=a.length,\n",
      "e=c,g=function(){e--||(R.push(b),S||(setTimeout(T,0),S=!0))};for(g();c--;)ca[a[c]]?g():(B[a[c]]=B[a[c]]||[]).push(g)}function ua(a,b,c,e,g){var d=h.createElement(a?\"script\":\"link\");y(d,\"error\",e);g&&y(d,\"load\",g);a?(d.type=\"text/javascript\",d.async=!0,c&&/AUIClients|images[/]I/.test(b)&&d.setAttribute(\"crossorigin\",\"anonymous\"),d.src=b):(d.rel=\"stylesheet\",d.href=b);h.getElementsByTagName(\"head\")[0].appendChild(d)}function da(a,b){function c(c,e){function g(){ua(b,c,h,function(b){!I&&h?(h=!1,x(\"resource_retry\"),\n",
      "g()):(x(\"resource_error\"),a.log(\"Asset failed to load: \"+c,I?\"WARN\":A));b&&b.stopPropagation?b.stopPropagation():f.event&&(f.event.cancelBubble=!0)},e)}if(ea[c])return!1;ea[c]=!0;x(\"resource_count\");var h=!0;return!g()}if(b){var e=0,g=0;c.andConfirm=function(a,b){return c(a,function(){e++;b&&b.apply(this,arguments)})};c.confirm=function(){g++};c.getCsriCounters=function(){return{reqs:e,full:g}}}return c}function va(a,b,c){for(var e={name:a,guard:function(c){return b.guardFatal(a,c)},logError:function(c,\n",
      "d,e){b.logError(c,d,e,a)}},g=[],d=0;d<c.length;d++)J.hasOwnProperty(c[d])&&(g[d]=U.hasOwnProperty(c[d])?U[c[d]](J[c[d]],e):J[c[d]]);return g}function C(a,b,c,e,g){return function(d,h){function m(){var a=null;e?a=h:\"function\"===typeof h&&(p.start=D(),a=h.apply(f,va(d,k,l)),p.end=D());if(b){J[d]=a;a=d;for(ca[a]=!0;(B[a]||[]).length;)B[a].shift()();delete B[a]}p.done=!0}var k=g||this;\"function\"===typeof d&&(h=d,d=A);b&&(d=d?d.replace(fa,\"\"):\"__NONAME__\",V.hasOwnProperty(d)&&k.error(q(\", reregistered by \",\n",
      "q(\" by \",d+\" already registered\",V[d]),k.attribution),d),V[d]=k.attribution);for(var l=[],n=0;n<a.length;n++)l[n]=a[n].replace(fa,\"\");var p=ga[d||\"anon\"+ ++wa]={depend:l,registered:D(),namespace:k.namespace};c?m():ta(l,k.guardFatal(d,m));return{decorate:function(a){U[d]=k.guardFatal(d,a)}}}}function ha(a){return function(){var b=Array.prototype.slice.call(arguments);return{execute:C(b,!1,a,!1,this),register:C(b,!0,a,!1,this)}}}function W(a,b){return function(c,e){e||(e=c,c=A);var g=this.attribution;\n",
      "return function(){z.push(b||{attribution:g,name:c,logLevel:a});var d=e.apply(this,arguments);z.pop();return d}}}function K(a,b){this.load={js:da(this,!0),css:da(this)};H(this,\"namespace\",b);H(this,\"attribution\",a)}function ia(){h.body?p.trigger(\"a-bodyBegin\"):setTimeout(ia,20)}function E(a,b){a.className=X(a,b)+\" \"+b}function X(a,b){return(\" \"+a.className+\" \").split(\" \"+b+\" \").join(\" \").replace(/^ | $/g,\"\")}function ja(a){try{return a()}catch(b){return!1}}function L(){if(M){var a={w:f.innerWidth||\n",
      "m.clientWidth,h:f.innerHeight||m.clientHeight};5<Math.abs(a.w-Y.w)||50<a.h-Y.h?(Y=a,N=4,(a=k.mobile||k.tablet?450<a.w&&a.w>a.h:1250<=a.w)?E(m,\"a-ws\"):m.className=X(m,\"a-ws\")):0<N&&(N--,ka=setTimeout(L,16))}}function xa(a){(M=a===A?!M:!!a)&&L()}function ya(){return M}function r(a,b){return\"sw:\"+(b||\"\")+\":\"+a+\":\"}function la(){ma.forEach(function(a){G(a)})}function n(a){ma.push(a)}function na(a,b,c,e){if(c){b=l(/Chrome/i)&&!l(/Edge/i)&&!l(/OPR/i)&&!a.capabilities.isAmazonApp&&!l(new RegExp(Z+\"bwv\"+\n",
      "Z+\"b\"));var g=r(e,\"browser\"),d=r(e,\"prod_mshop\"),f=r(e,\"beta_mshop\");!a.capabilities.isAmazonApp&&c.browser&&b&&(n(g+\"supported\"),c.browser.action(g,e));!b&&c.browser&&n(g+\"unsupported\");c.prodMshop&&n(d+\"unsupported\");c.betaMshop&&n(f+\"unsupported\")}}\"use strict\";var O=Q.now=Q.now||function(){return+new Q},D=function(a){return a&&a.now?a.now.bind(a):O}(f.performance),za=D(),t=f.AmazonUIPageJS||f.P;if(t&&t.when&&t.register)throw Error(\"A copy of P has already been loaded on this page.\");var v=f.ue;\n",
      "G();G(\"aui_build_date:3.19.8-2020-01-09\");var R=[],S=!1,T;T=function(){for(var a=setTimeout(T,0),b=O();R.length;)if(R.shift()(),50<O()-b)return;clearTimeout(a);S=!1};var ca={},B={},ea={},I=!1;y(f,\"beforeunload\",function(){I=!0;setTimeout(function(){I=!1},1E4)});var fa=/^prv:/,V={},J={},U={},ga={},wa=0,Z=String.fromCharCode(92),F,z=[],oa=f.onerror;f.onerror=function(a,b,c,e,g){g&&\"object\"===typeof g||(g=Error(a,b,c),g.columnNumber=e,g.stack=b||c||e?q(Z,g.message,\"at \"+q(\":\",b,c,e)):A);var d=z.pop()||\n",
      "{};g.attribution=q(\":\",g.attribution||d.attribution,d.name);g.logLevel=d.logLevel;g.attribution&&console&&console.log&&console.log([g.logLevel||\"ERROR\",a,\"thrown by\",g.attribution].join(\" \"));z=[];oa&&(d=[].slice.call(arguments),d[4]=g,oa.apply(f,d))};K.prototype={logError:function(a,b,c,e){b={message:b,logLevel:c||\"ERROR\",attribution:q(\":\",this.attribution,e)};if(f.ueLogError)return f.ueLogError(a||b,a?b:null),!0;console&&console.error&&(console.log(b),console.error(a));return!1},error:function(a,\n",
      "b,c,e){a=Error(q(\":\",e,a,c));a.attribution=q(\":\",this.attribution,b);throw a;},guardError:W(),guardFatal:W(\"FATAL\"),guardCurrent:function(a){var b=z[z.length-1];return b?W(b.logLevel,b).call(this,a):a},log:function(a,b,c){return this.logError(null,a,b,c)},declare:C([],!0,!0,!0),register:C([],!0),execute:C([]),AUI_BUILD_DATE:\"3.19.8-2020-01-09\",when:ha(),now:ha(!0),trigger:function(a,b,c){var e=O();this.declare(a,{data:b,pageElapsedTime:e-(f.aPageStart||NaN),triggerTime:e});c&&c.instrument&&F.when(\"prv:a-logTrigger\").execute(function(b){b(a)})},\n",
      "handleTriggers:function(){this.log(\"handleTriggers deprecated\")},attributeErrors:function(a){return new K(a)},_namespace:function(a,b){return new K(a,b)}};var p=H(f,\"AmazonUIPageJS\",new K);F=p._namespace(\"PageJS\",\"AmazonUI\");F.declare(\"prv:p-debug\",ga);p.declare(\"p-recorder-events\",[]);p.declare(\"p-recorder-stop\",function(){});H(f,\"P\",p);ia();if(h.addEventListener){var pa;h.addEventListener(\"DOMContentLoaded\",pa=function(){p.trigger(\"a-domready\");h.removeEventListener(\"DOMContentLoaded\",pa,!1)},!1)}var m=\n",
      "h.documentElement,aa=function(){var a=[\"O\",\"ms\",\"Moz\",\"Webkit\"],b=h.createElement(\"div\");return{testGradients:function(){b.style.cssText=\"background-image:-webkit-gradient(linear,left top,right bottom,from(#1E4),to(white));background-image:-webkit-linear-gradient(left top,#1E4,white);background-image:linear-gradient(left top,#1E4,white);\";return~b.style.backgroundImage.indexOf(\"gradient\")},test:function(c){var e=c.charAt(0).toUpperCase()+c.substr(1);c=(a.join(e+\" \")+e+\" \"+c).split(\" \");for(e=c.length;e--;)if(\"\"===\n",
      "b.style[c[e]])return!0;return!1},testTransform3d:function(){var a=!1;f.matchMedia&&(a=f.matchMedia(\"(-webkit-transform-3d)\").matches);return a}}}(),t=m.className,qa=/(^| )a-mobile( |$)/.test(t),ra=/(^| )a-tablet( |$)/.test(t),k={audio:function(){return!!h.createElement(\"audio\").canPlayType},video:function(){return!!h.createElement(\"video\").canPlayType},canvas:function(){return!!h.createElement(\"canvas\").getContext},svg:function(){return!!h.createElementNS&&!!h.createElementNS(\"http://www.w3.org/2000/svg\",\n",
      "\"svg\").createSVGRect},offline:function(){return navigator.hasOwnProperty&&navigator.hasOwnProperty(\"onLine\")&&navigator.onLine},dragDrop:function(){return\"draggable\"in h.createElement(\"span\")},geolocation:function(){return!!navigator.geolocation},history:function(){return!(!f.history||!f.history.pushState)},webworker:function(){return!!f.Worker},autofocus:function(){return\"autofocus\"in h.createElement(\"input\")},inputPlaceholder:function(){return\"placeholder\"in h.createElement(\"input\")},textareaPlaceholder:function(){return\"placeholder\"in\n",
      "h.createElement(\"textarea\")},localStorage:function(){return\"localStorage\"in f&&null!==f.localStorage},orientation:function(){return\"orientation\"in f},touch:function(){return\"ontouchend\"in h},gradients:function(){return aa.testGradients()},hires:function(){var a=f.devicePixelRatio&&1.5<=f.devicePixelRatio||f.matchMedia&&f.matchMedia(\"(min-resolution:144dpi)\").matches;x(\"hiRes\"+(qa?\"Mobile\":ra?\"Tablet\":\"Desktop\"),a?1:0);return a},transform3d:function(){return aa.testTransform3d()},touchScrolling:function(){return l(/Windowshop|android|OS ([5-9]|[1-9][0-9]+)(_[0-9]{1,2})+ like Mac OS X|Chrome|Silk|Firefox|Trident.+?; Touch/i)},\n",
      "ios:function(){return l(/OS [1-9][0-9]*(_[0-9]*)+ like Mac OS X/i)&&!l(/trident|Edge/i)},android:function(){return l(/android.([1-9]|[L-Z])/i)&&!l(/trident|Edge/i)},mobile:function(){return qa},tablet:function(){return ra},rtl:function(){return\"rtl\"===m.dir}},u;for(u in k)k.hasOwnProperty(u)&&(k[u]=ja(k[u]));for(var ba=\"textShadow textStroke boxShadow borderRadius borderImage opacity transform transition\".split(\" \"),P=0;P<ba.length;P++)k[ba[P]]=ja(function(){return aa.test(ba[P])});var M=!0,ka=0,\n",
      "Y={w:0,h:0},N=4;L();y(f,\"resize\",function(){clearTimeout(ka);N=4;L()});var sa={getItem:function(a){try{return f.localStorage.getItem(a)}catch(b){}},setItem:function(a,b){try{return f.localStorage.setItem(a,b)}catch(c){}}};m.className=X(m,\"a-no-js\");E(m,\"a-js\");!l(/OS [1-8](_[0-9]*)+ like Mac OS X/i)||f.navigator.standalone||l(/safari/i)||E(m,\"a-ember\");t=[];for(u in k)k.hasOwnProperty(u)&&k[u]&&t.push(\"a-\"+u.replace(/([A-Z])/g,function(a){return\"-\"+a.toLowerCase()}));E(m,t.join(\" \"));m.setAttribute(\"data-aui-build-date\",\n",
      "\"3.19.8-2020-01-09\");p.register(\"p-detect\",function(){return{capabilities:k,localStorage:k.localStorage&&sa,toggleResponsiveGrid:xa,responsiveGridEnabled:ya}});l(/UCBrowser/i)||k.localStorage&&E(m,sa.getItem(\"a-font-class\"));p.declare(\"a-event-revised-handling\",!1);var w;try{w=navigator.serviceWorker}catch(a){G(\"sw:nav_err\")}w&&(y(w,\"message\",function(a){a&&a.data&&x(a.data.k,a.data.v)}),w.controller&&w.controller.postMessage(\"MSG-RDY\"));var ma=[];(function(a){var b=a.reg,c=a.unreg;w&&w.getRegistrations?\n",
      "(F.when(\"A\",\"a-util\").execute(function(a,b){na(a,b,c,\"unregister\")}),y(f,\"load\",function(){F.when(\"A\",\"a-util\").execute(function(a,c){na(a,c,b,\"register\");la()})})):(b&&(b.browser&&n(r(\"register\",\"browser\")+\"unsupported\"),b.prodMshop&&n(r(\"register\",\"prod_mshop\")+\"unsupported\"),b.betaMshop&&n(r(\"register\",\"beta_mshop\")+\"unsupported\")),c&&(c.browser&&n(r(\"unregister\",\"browser\")+\"unsupported\"),c.prodMshop&&n(r(\"unregister\",\"prod_mshop\")+\"unsupported\"),c.betaMshop&&n(r(\"unregister\",\"beta_mshop\")+\"unsupported\")),\n",
      "la())})({reg:{},unreg:{}});p.declare(\"a-fix-event-off\",!1);x(\"pagejs:pkgExecTime\",D()-za)})(window,document,Date);\n",
      "  (window.AmazonUIPageJS ? AmazonUIPageJS : P).load.js('https://images-na.ssl-images-amazon.com/images/I/61-6nKPKyWL._RC|11-BZEJ8lnL.js,61GQ9IdK7HL.js,21Of0-9HPCL.js,012FVc3131L.js,119KAWlHU6L.js,51CF7BmbF2L.js,11AHlQhPRjL.js,016iHgpF74L.js,11aNYFFS5hL.js,116tgw9TSaL.js,211-p4GRUCL.js,01PoLXBDXWL.js,6131jEFdnAL.js,01ezj5Rkz1L.js,11BOgvnnntL.js,31UWuPgtTtL.js,01rpauTep4L.js,01iyxuSGj4L.js,01OTNfCf5oL.js_.js?AUIClients/AmazonUI');\n",
      "  (window.AmazonUIPageJS ? AmazonUIPageJS : P).load.js('https://images-na.ssl-images-amazon.com/images/I/51voyzpfdCL.js?AUIClients/IMDbMojoSiteAssets');\n",
      "  </script>\n",
      " </head>\n",
      " <body class=\"mojo-page-id-tt a-m-us a-aui_157141-c a-aui_158613-c a-aui_72554-c a-aui_dropdown_187959-c a-aui_pci_risk_banner_210084-c a-aui_perf_130093-c a-aui_tnr_v2_180836-c a-aui_ux_145937-c\" id=\"body\">\n",
      "  <div id=\"a-page\">\n",
      "   <script data-a-state='{\"key\":\"a-wlab-states\"}' type=\"a-state\">\n",
      "    {}\n",
      "   </script>\n",
      "   <div class=\"a-section a-spacing-none mojo-navigation mojo-header mojo-flex mojo-flex-h\">\n",
      "    <div class=\"a-section mojo-logo\">\n",
      "     <a class=\"a-link-normal\" href=\"/?ref_=bo_nb_tt_mojologo\">\n",
      "     </a>\n",
      "    </div>\n",
      "    <div class=\"a-section a-spacing-none mojo-nav-elements mojo-flex mojo-flex-h mojo-flex-1\">\n",
      "     <div class=\"a-section a-spacing-none mojo-search-bar mojo-flex mojo-flex-h\">\n",
      "      <div class=\"a-section a-spacing-none mojo-search\">\n",
      "       <form action=\"/search\">\n",
      "        <input id=\"mojo-search-text-input\" name=\"q\" placeholder=\"Search for Titles\" required=\"true\" type=\"search\"/>\n",
      "        <input class=\"mojo-inline-button\" id=\"mojo-search-button\" type=\"submit\" value=\"\"/>\n",
      "       </form>\n",
      "      </div>\n",
      "     </div>\n",
      "     <div class=\"a-section a-spacing-none mojo-mobile-options\">\n",
      "      <span class=\"a-declarative\" data-a-popover='{\"closeButton\":\"false\",\"inlineContent\":\"\\u003cspan class=\\\"a-size-medium\\\"&gt;\\u003ca href=\\\"https://pro.imdb.com/?ref_=mojo_nb_tt_pro&amp;amp;rf=mojo_nb_tt_pro\\\" class=\\\"a-touch-link a-box a-touch-link-noborder\\\"&gt;\\u003cdiv class=\\\"a-box-inner\\\"&gt;\\u003ci class=\\\"a-icon a-icon-touch-link\\\"&gt;\\u003c\\/i&gt;IMDbPro\\u003c\\/div&gt;\\u003c\\/a&gt;\\u003ca href=\\\"https://www.facebook.com/BoxOfficeMojo/\\\" class=\\\"a-touch-link a-box a-touch-link-noborder\\\"&gt;\\u003cdiv class=\\\"a-box-inner\\\"&gt;\\u003ci class=\\\"a-icon a-icon-touch-link\\\"&gt;\\u003c\\/i&gt;Facebook\\u003c\\/div&gt;\\u003c\\/a&gt;\\u003ca href=\\\"https://twitter.com/boxofficemojo\\\" class=\\\"a-touch-link a-box a-touch-link-noborder\\\"&gt;\\u003cdiv class=\\\"a-box-inner\\\"&gt;\\u003ci class=\\\"a-icon a-icon-touch-link\\\"&gt;\\u003c\\/i&gt;Twitter\\u003c\\/div&gt;\\u003c\\/a&gt;\\u003ca href=\\\"https://help.imdb.com/article/imdbpro/industry-research/box-office-mojo-by-imdbpro-faq/GCWTV4MQKGWRAUAP?ref_=mojo_ftr_help\\\" class=\\\"a-touch-link a-box a-touch-link-noborder\\\"&gt;\\u003cdiv class=\\\"a-box-inner\\\"&gt;\\u003ci class=\\\"a-icon a-icon-touch-link\\\"&gt;\\u003c\\/i&gt;Help\\u003c\\/div&gt;\\u003c\\/a&gt;\\u003c\\/span&gt;\"}' data-action=\"a-popover\">\n",
      "       <a class=\"a-popover-trigger a-declarative\" href=\"javascript:void(0)\">\n",
      "        <span class=\"mobile-menu-popover-trigger\">\n",
      "        </span>\n",
      "        <i class=\"a-icon a-icon-popover\">\n",
      "        </i>\n",
      "       </a>\n",
      "      </span>\n",
      "     </div>\n",
      "     <div class=\"a-section a-spacing-none mojo-options mojo-flex\">\n",
      "      <div class=\"a-popover-preload\" id=\"a-popover-mojoRollover\">\n",
      "       <a class=\"a-link-normal mojo-rollover-image\" href=\"https://pro.imdb.com/login/ap?u=%2Flogin%2Flwa&amp;imdbPageAction=signUp&amp;ref_=mojo_nb_tt_rollover&amp;rf=mojo_nb_tt_rollover\">\n",
      "        <img alt=\"\" src=\"https://m.media-amazon.com/images/G/01/IMDbPro/images/MI_121919_NYNY2020_Engagement_rollover_2x._CB1578336809_.png\"/>\n",
      "       </a>\n",
      "      </div>\n",
      "      <span class=\"a-declarative\" data-a-popover='{\"padding\":\"none\",\"closeButton\":\"false\",\"dataStrategy\":\"preload\",\"name\":\"mojoRollover\",\"width\":\"500\",\"position\":\"triggerBottom\",\"height\":\"200\"}' data-action=\"a-popover\">\n",
      "       <a class=\"a-popover-trigger a-declarative\" href=\"javascript:void(0)\">\n",
      "        <span class=\"imdb-pro-logo\">\n",
      "        </span>\n",
      "        <i class=\"a-icon a-icon-popover\">\n",
      "        </i>\n",
      "       </a>\n",
      "      </span>\n",
      "      <span class=\"mojo-logo-delimiter\">\n",
      "      </span>\n",
      "      <a class=\"a-link-normal mojo-fb-logo\" href=\"https://www.facebook.com/BoxOfficeMojo/\" rel=\"noopener\" target=\"_blank\">\n",
      "      </a>\n",
      "      <a class=\"a-link-normal mojo-tw-logo\" href=\"https://twitter.com/boxofficemojo\" rel=\"noopener\" target=\"_blank\">\n",
      "      </a>\n",
      "     </div>\n",
      "    </div>\n",
      "    <div class=\"a-section a-spacing-none mojo-link-bar mojo-flex mojo-flex-h\">\n",
      "     <div class=\"a-section a-spacing-none mojo-tab-container\">\n",
      "      <a class=\"a-size-medium a-link-normal mojo-navigation-tab\" href=\"/date/?ref_=bo_nb_tt_tab\">\n",
      "       Domestic\n",
      "      </a>\n",
      "      <a class=\"a-size-medium a-link-normal mojo-navigation-tab\" href=\"/intl/?ref_=bo_nb_tt_tab\">\n",
      "       International\n",
      "      </a>\n",
      "      <a class=\"a-size-medium a-link-normal mojo-navigation-tab\" href=\"/year/world/?ref_=bo_nb_tt_tab\">\n",
      "       Worldwide\n",
      "      </a>\n",
      "      <a class=\"a-size-medium a-link-normal mojo-navigation-tab\" href=\"/calendar/?ref_=bo_nb_tt_tab\">\n",
      "       Calendar\n",
      "      </a>\n",
      "      <a class=\"a-size-medium a-link-normal mojo-navigation-tab\" href=\"/charts/overall/?ref_=bo_nb_tt_tab\">\n",
      "       All Time\n",
      "      </a>\n",
      "      <a class=\"a-size-medium a-link-normal mojo-navigation-tab\" href=\"/showdown/?ref_=bo_nb_tt_tab\">\n",
      "       Showdowns\n",
      "      </a>\n",
      "      <a class=\"a-size-medium a-link-normal mojo-navigation-tab\" href=\"/news/?ref_=bo_nb_tt_tab\">\n",
      "       News\n",
      "      </a>\n",
      "     </div>\n",
      "    </div>\n",
      "   </div>\n",
      "   <main>\n",
      "    <div class=\"a-section mojo-body aok-relative\">\n",
      "     <div class=\"a-section a-spacing-none mojo-summary\">\n",
      "      <div class=\"a-section mojo-heading-summary\">\n",
      "       <div class=\"a-fixed-left-grid\">\n",
      "        <div class=\"a-fixed-left-grid-inner\" style=\"padding-left:107px\">\n",
      "         <div class=\"a-fixed-left-grid-col a-col-left\" style=\"width:107px;margin-left:-107px;float:left;\">\n",
      "          <img alt=\"\" data-a-hires=\"https://m.media-amazon.com/images/M/MV5BMTQ0NjUzMDMyOF5BMl5BanBnXkFtZTgwODA1OTU0MDE@._V1_SY278_CR1,0,184,278_.jpg\" height=\"139\" src=\"https://m.media-amazon.com/images/M/MV5BMTQ0NjUzMDMyOF5BMl5BanBnXkFtZTgwODA1OTU0MDE@._V1_SY139_CR0,0,92,139_.jpg\" width=\"92\"/>\n",
      "         </div>\n",
      "         <div class=\"a-fixed-left-grid-col a-col-right\" style=\"padding-left:0%;float:left;\">\n",
      "          <div class=\"a-section a-spacing-none\">\n",
      "           <h1 class=\"a-size-extra-large\">\n",
      "            The Big Lebowski\n",
      "            <span class=\"a-size-large a-color-secondary\">\n",
      "             (1998)\n",
      "            </span>\n",
      "           </h1>\n",
      "           <span class=\"a-size-medium\">\n",
      "            Jeff \"The Dude\" Lebowski, mistaken for a millionaire of the same name, seeks restitution for his ruined rug and enlists his bowling buddies to help get it.\n",
      "           </span>\n",
      "          </div>\n",
      "         </div>\n",
      "        </div>\n",
      "       </div>\n",
      "      </div>\n",
      "      <div class=\"a-section mojo-heading-pro-cta aok-float-right\">\n",
      "       <div class=\"a-box\">\n",
      "        <div class=\"a-box-inner\">\n",
      "         <span class=\"imdb-pro-colored-logo\">\n",
      "         </span>\n",
      "         <br/>\n",
      "         <a class=\"a-link-normal\" href=\"https://pro.imdb.com/title/tt0118715/cast?ref_=mojo_tt_cta_cast&amp;rf=mojo_tt_cta_cast\" rel=\"noopener\" target=\"_blank\">\n",
      "          Cast information\n",
      "         </a>\n",
      "         <br/>\n",
      "         <a class=\"a-link-normal\" href=\"https://pro.imdb.com/title/tt0118715/filmmakers?ref_=mojo_tt_cta_crew&amp;rf=mojo_tt_cta_crew\" rel=\"noopener\" target=\"_blank\">\n",
      "          Crew information\n",
      "         </a>\n",
      "         <br/>\n",
      "         <a class=\"a-link-normal\" href=\"https://pro.imdb.com/title/tt0118715/companycredits?ref_=mojo_tt_cta_co&amp;rf=mojo_tt_cta_co\" rel=\"noopener\" target=\"_blank\">\n",
      "          Company information\n",
      "         </a>\n",
      "         <br/>\n",
      "         <a class=\"a-link-normal\" href=\"https://pro.imdb.com/title/tt0118715/news?ref_=mojo_tt_cta_news&amp;rf=mojo_tt_cta_news\" rel=\"noopener\" target=\"_blank\">\n",
      "          News\n",
      "         </a>\n",
      "         <br/>\n",
      "         <a class=\"a-link-normal\" href=\"https://pro.imdb.com/title/tt0118715/boxoffice?ref_=mojo_tt_cta_bo&amp;rf=mojo_tt_cta_bo\" rel=\"noopener\" target=\"_blank\">\n",
      "          Box office\n",
      "         </a>\n",
      "         <br/>\n",
      "         <div class=\"a-popover-preload\" id=\"a-popover-genrePopover\">\n",
      "          <a class=\"a-link-normal\" href=\"https://pro.imdb.com/boxoffice/genre/sg3739152641?ref_=mojo_tt_cta_genre&amp;rf=mojo_tt_cta_genre\" rel=\"noopener\" target=\"_blank\">\n",
      "           Slacker\n",
      "          </a>\n",
      "          <br/>\n",
      "          <a class=\"a-link-normal\" href=\"https://pro.imdb.com/boxoffice/genre/sg2178806017?ref_=mojo_tt_cta_genre&amp;rf=mojo_tt_cta_genre\" rel=\"noopener\" target=\"_blank\">\n",
      "           Black Comedy\n",
      "          </a>\n",
      "         </div>\n",
      "         <span class=\"a-declarative\" data-a-popover='{\"closeButton\":\"false\",\"dataStrategy\":\"preload\",\"name\":\"genrePopover\"}' data-action=\"a-popover\">\n",
      "          <a class=\"a-popover-trigger a-declarative\" href=\"javascript:void(0)\">\n",
      "           <span>\n",
      "            Genre keyword rankings\n",
      "           </span>\n",
      "           <i class=\"a-icon a-icon-popover\">\n",
      "           </i>\n",
      "          </a>\n",
      "         </span>\n",
      "        </div>\n",
      "       </div>\n",
      "      </div>\n",
      "     </div>\n",
      "     <div class=\"a-section mojo-title-release-refiner\">\n",
      "      <div class=\"a-section a-spacing-none mojo-title-release-refiner-option\" id=\"title-summary-refiner\">\n",
      "       <a class=\"a-link-normal mojo-title-link refiner-display-highlight\" href=\"/title/tt0118715/?ref_=bo_tt_ti\">\n",
      "        <img height=\"18\" src=\"https://m.media-amazon.com/images/G/01/boxofficemojo/ic_summary_m._CB523235890_.png\" width=\"21\"/>\n",
      "        <span class=\"mojo-hidden-from-mobile\">\n",
      "         Title Summary\n",
      "        </span>\n",
      "       </a>\n",
      "      </div>\n",
      "      <div class=\"a-section a-spacing-none mojo-title-release-refiner-option\" id=\"release-group-refiner\">\n",
      "       <div class=\"a-section a-spacing-none mojo-dropdown-clear\">\n",
      "        <form action=\"\" autocomplete=\"off\" class=\"a-spacing-none\" method=\"post\">\n",
      "         <span class=\"a-dropdown-container\">\n",
      "          <select autocomplete=\"off\" class=\"a-native-dropdown\" id=\"releasegroup-picker-navSelector\" name=\"releasegroup-picker-navSelector\" tabindex=\"-1\">\n",
      "           <option value=\"/title/tt0118715/\">\n",
      "            All Releases\n",
      "           </option>\n",
      "           <option value=\"/releasegroup/gr3312079365/\">\n",
      "            Original Release\n",
      "           </option>\n",
      "           <option value=\"/releasegroup/gr3664400901/\">\n",
      "            2018 Re-release\n",
      "           </option>\n",
      "          </select>\n",
      "          <span class=\"a-button a-button-dropdown refiner-display-highlight\" data-a-class=\"refiner-display-highlight\" tabindex=\"-1\">\n",
      "           <span class=\"a-button-inner\">\n",
      "            <span aria-hidden=\"true\" class=\"a-button-text a-declarative\" data-action=\"a-dropdown-button\" role=\"button\" tabindex=\"0\">\n",
      "             <span class=\"a-dropdown-prompt\">\n",
      "             </span>\n",
      "            </span>\n",
      "            <i class=\"a-icon a-icon-dropdown\">\n",
      "            </i>\n",
      "           </span>\n",
      "          </span>\n",
      "         </span>\n",
      "        </form>\n",
      "       </div>\n",
      "      </div>\n",
      "     </div>\n",
      "     <div class=\"a-section a-spacing-none mojo-gutter mojo-summary-table\">\n",
      "      <div class=\"a-section a-spacing-none mojo-performance-summary\">\n",
      "       <div class=\"a-section a-spacing-none mojo-performance-summary-table\">\n",
      "        <h2 class=\"a-size-large a-text-bold\">\n",
      "         All Releases\n",
      "        </h2>\n",
      "        <div class=\"a-section a-spacing-none\">\n",
      "         <span class=\"a-size-small\">\n",
      "          Domestic (\n",
      "          <span class=\"percent\">\n",
      "           38.6%\n",
      "          </span>\n",
      "          )\n",
      "         </span>\n",
      "         <br/>\n",
      "         <span class=\"a-size-medium a-text-bold\">\n",
      "          <span class=\"money\">\n",
      "           $18,034,458\n",
      "          </span>\n",
      "         </span>\n",
      "        </div>\n",
      "        <div class=\"a-section a-spacing-none\">\n",
      "         <span class=\"a-size-small\">\n",
      "          International (\n",
      "          <span class=\"percent\">\n",
      "           61.4%\n",
      "          </span>\n",
      "          )\n",
      "         </span>\n",
      "         <br/>\n",
      "         <span class=\"a-size-medium a-text-bold\">\n",
      "          <span class=\"money\">\n",
      "           $28,701,011\n",
      "          </span>\n",
      "         </span>\n",
      "        </div>\n",
      "        <div class=\"a-section a-spacing-none\">\n",
      "         <span class=\"a-size-small\">\n",
      "          Worldwide\n",
      "         </span>\n",
      "         <br/>\n",
      "         <span class=\"a-size-medium a-text-bold\">\n",
      "          <span class=\"money\">\n",
      "           $46,735,469\n",
      "          </span>\n",
      "         </span>\n",
      "        </div>\n",
      "       </div>\n",
      "      </div>\n",
      "      <div class=\"a-section a-spacing-top-base mojo-mobile-title-summary-pro-cta\">\n",
      "       <div class=\"a-box\">\n",
      "        <div class=\"a-box-inner\">\n",
      "         <span class=\"imdb-pro-colored-logo\">\n",
      "         </span>\n",
      "         <br/>\n",
      "         <a class=\"a-link-normal\" href=\"https://pro.imdb.com/title/tt0118715/cast?ref_=mojo_tt_cta_cast&amp;rf=mojo_tt_cta_cast\" rel=\"noopener\" target=\"_blank\">\n",
      "          Cast information\n",
      "         </a>\n",
      "         <br/>\n",
      "         <a class=\"a-link-normal\" href=\"https://pro.imdb.com/title/tt0118715/filmmakers?ref_=mojo_tt_cta_crew&amp;rf=mojo_tt_cta_crew\" rel=\"noopener\" target=\"_blank\">\n",
      "          Crew information\n",
      "         </a>\n",
      "         <br/>\n",
      "         <a class=\"a-link-normal\" href=\"https://pro.imdb.com/title/tt0118715/companycredits?ref_=mojo_tt_cta_co&amp;rf=mojo_tt_cta_co\" rel=\"noopener\" target=\"_blank\">\n",
      "          Company information\n",
      "         </a>\n",
      "         <br/>\n",
      "         <a class=\"a-link-normal\" href=\"https://pro.imdb.com/title/tt0118715/news?ref_=mojo_tt_cta_news&amp;rf=mojo_tt_cta_news\" rel=\"noopener\" target=\"_blank\">\n",
      "          News\n",
      "         </a>\n",
      "         <br/>\n",
      "         <a class=\"a-link-normal\" href=\"https://pro.imdb.com/title/tt0118715/boxoffice?ref_=mojo_tt_cta_bo&amp;rf=mojo_tt_cta_bo\" rel=\"noopener\" target=\"_blank\">\n",
      "          Box office\n",
      "         </a>\n",
      "         <br/>\n",
      "         <div class=\"a-popover-preload\" id=\"a-popover-genrePopover\">\n",
      "          <a class=\"a-link-normal\" href=\"https://pro.imdb.com/boxoffice/genre/sg3739152641?ref_=mojo_tt_cta_genre&amp;rf=mojo_tt_cta_genre\" rel=\"noopener\" target=\"_blank\">\n",
      "           Slacker\n",
      "          </a>\n",
      "          <br/>\n",
      "          <a class=\"a-link-normal\" href=\"https://pro.imdb.com/boxoffice/genre/sg2178806017?ref_=mojo_tt_cta_genre&amp;rf=mojo_tt_cta_genre\" rel=\"noopener\" target=\"_blank\">\n",
      "           Black Comedy\n",
      "          </a>\n",
      "         </div>\n",
      "         <span class=\"a-declarative\" data-a-popover='{\"closeButton\":\"false\",\"dataStrategy\":\"preload\",\"name\":\"genrePopover\"}' data-action=\"a-popover\">\n",
      "          <a class=\"a-popover-trigger a-declarative\" href=\"javascript:void(0)\">\n",
      "           <span>\n",
      "            Genre keyword rankings\n",
      "           </span>\n",
      "           <i class=\"a-icon a-icon-popover\">\n",
      "           </i>\n",
      "          </a>\n",
      "         </span>\n",
      "        </div>\n",
      "       </div>\n",
      "      </div>\n",
      "      <div class=\"a-section a-spacing-none a-spacing-top-base mojo-discloser-button mojo-discloser with-icon mojo-hidden-from-widescreen\" data-target=\".mojo-summary-values\" id=\"mojo-summary-details-discloser\">\n",
      "       <span>\n",
      "        Summary Details\n",
      "       </span>\n",
      "      </div>\n",
      "      <div class=\"a-section a-spacing-none mojo-summary-values mojo-hidden-from-mobile\">\n",
      "       <div class=\"a-section a-spacing-none\">\n",
      "        <span>\n",
      "         Domestic Distributor\n",
      "        </span>\n",
      "        <span>\n",
      "         Gramercy Pictures (I)\n",
      "         <br/>\n",
      "         <a class=\"a-size-small a-link-normal\" href=\"https://pro.imdb.com/company/co0018555/boxoffice/?ref_=mojo_tt_su&amp;rf=mojo_tt_su\" rel=\"noopener\" target=\"_blank\">\n",
      "          See full company information\n",
      "          <svg class=\"mojo-new-window-svg\" viewbox=\"0 0 32 32\" xmlns=\"http://www.w3.org/2000/svg\">\n",
      "           <path d=\"M24,15.57251l3,3V23.5A3.50424,3.50424,0,0,1,23.5,27H8.5A3.50424,3.50424,0,0,1,5,23.5V8.5A3.50424,3.50424,0,0,1,8.5,5h4.92755l3,3H8.5a.50641.50641,0,0,0-.5.5v15a.50641.50641,0,0,0,.5.5h15a.50641.50641,0,0,0,.5-.5ZM19.81952,8.56372,12.8844,17.75a.49989.49989,0,0,0,.04547.65479l.66534.66528a.49983.49983,0,0,0,.65479.04553l9.18628-6.93518,2.12579,2.12585a.5.5,0,0,0,.84741-.27526l1.48273-9.35108a.50006.50006,0,0,0-.57214-.57214L17.969,5.59058a.5.5,0,0,0-.27526.84741Z\">\n",
      "           </path>\n",
      "          </svg>\n",
      "         </a>\n",
      "        </span>\n",
      "       </div>\n",
      "       <div class=\"a-section a-spacing-none\">\n",
      "        <span>\n",
      "         Domestic Opening\n",
      "        </span>\n",
      "        <span>\n",
      "         <a class=\"a-link-normal\" href=\"/release/rl239568385/weekend?ref_=bo_tt_gr#table\">\n",
      "          <span class=\"money\">\n",
      "           $5,533,844\n",
      "          </span>\n",
      "         </a>\n",
      "        </span>\n",
      "       </div>\n",
      "       <div class=\"a-section a-spacing-none\">\n",
      "        <span>\n",
      "         Earliest Release Date\n",
      "        </span>\n",
      "        <span>\n",
      "         March 6, 1998\n",
      "            (Domestic)\n",
      "        </span>\n",
      "       </div>\n",
      "       <div class=\"a-section a-spacing-none\">\n",
      "        <span>\n",
      "         MPAA\n",
      "        </span>\n",
      "        <span>\n",
      "         R\n",
      "        </span>\n",
      "       </div>\n",
      "       <div class=\"a-section a-spacing-none\">\n",
      "        <span>\n",
      "         Running Time\n",
      "        </span>\n",
      "        <span>\n",
      "         1 hr 57 min\n",
      "        </span>\n",
      "       </div>\n",
      "       <div class=\"a-section a-spacing-none\">\n",
      "        <span>\n",
      "         Genres\n",
      "        </span>\n",
      "        <span>\n",
      "         Comedy\n",
      "    \n",
      "        Crime\n",
      "    \n",
      "        Sport\n",
      "        </span>\n",
      "       </div>\n",
      "       <div class=\"a-section a-spacing-none\">\n",
      "        <span>\n",
      "         IMDbPro\n",
      "        </span>\n",
      "        <span>\n",
      "         <a class=\"a-link-normal\" href=\"https://pro.imdb.com/title/tt0118715?ref_=mojo_tt_summary&amp;rf=mojo_tt_summary\" rel=\"noopener\" target=\"_blank\">\n",
      "          See more details at IMDbPro\n",
      "          <svg class=\"mojo-new-window-svg\" viewbox=\"0 0 32 32\" xmlns=\"http://www.w3.org/2000/svg\">\n",
      "           <path d=\"M24,15.57251l3,3V23.5A3.50424,3.50424,0,0,1,23.5,27H8.5A3.50424,3.50424,0,0,1,5,23.5V8.5A3.50424,3.50424,0,0,1,8.5,5h4.92755l3,3H8.5a.50641.50641,0,0,0-.5.5v15a.50641.50641,0,0,0,.5.5h15a.50641.50641,0,0,0,.5-.5ZM19.81952,8.56372,12.8844,17.75a.49989.49989,0,0,0,.04547.65479l.66534.66528a.49983.49983,0,0,0,.65479.04553l9.18628-6.93518,2.12579,2.12585a.5.5,0,0,0,.84741-.27526l1.48273-9.35108a.50006.50006,0,0,0-.57214-.57214L17.969,5.59058a.5.5,0,0,0-.27526.84741Z\">\n",
      "           </path>\n",
      "          </svg>\n",
      "         </a>\n",
      "        </span>\n",
      "       </div>\n",
      "      </div>\n",
      "     </div>\n",
      "     <div class=\"mojo-link-bar-internal mojo-flex mojo-flex-h\" id=\"tabs\">\n",
      "      <div class=\"mojo-tab-container\">\n",
      "       <a class=\"a-size-base a-link-normal mojo-navigation-tab mojo-navigation-tab-active\" href=\"/title/tt0118715/?ref_=bo_tt_tab#tabs\">\n",
      "        Releases\n",
      "       </a>\n",
      "       <a class=\"a-size-base a-link-normal mojo-navigation-tab\" href=\"/title/tt0118715/credits/?ref_=bo_tt_tab#tabs\">\n",
      "        Cast and Crew\n",
      "       </a>\n",
      "       <div class=\"a-section mojo-disabled-tab\">\n",
      "        All-Time Rankings\n",
      "       </div>\n",
      "       <a class=\"a-size-base a-link-normal mojo-navigation-tab\" href=\"/title/tt0118715/news/?ref_=bo_tt_tab#tabs\">\n",
      "        Related Stories\n",
      "       </a>\n",
      "       <a class=\"a-size-base a-link-normal mojo-navigation-tab\" href=\"/title/tt0118715/similar/?ref_=bo_tt_tab#tabs\">\n",
      "        Similar Movies\n",
      "       </a>\n",
      "      </div>\n",
      "     </div>\n",
      "     <div class=\"a-section a-spacing-none a-spacing-top-base\">\n",
      "      <div class=\"a-section mojo-gutter\">\n",
      "       <div class=\"a-section mojo-h-scroll\">\n",
      "        <table class=\"a-bordered a-horizontal-stripes a-size-base-plus\">\n",
      "         <tr>\n",
      "          <th>\n",
      "           Release Group\n",
      "          </th>\n",
      "          <th>\n",
      "           Rollout\n",
      "          </th>\n",
      "          <th>\n",
      "           Markets\n",
      "          </th>\n",
      "          <th class=\"a-text-right\">\n",
      "           Domestic\n",
      "          </th>\n",
      "          <th class=\"a-text-right\">\n",
      "           International\n",
      "          </th>\n",
      "          <th class=\"a-text-right\">\n",
      "           Worldwide\n",
      "          </th>\n",
      "         </tr>\n",
      "         <tr>\n",
      "          <td class=\"a-align-center\">\n",
      "           <a class=\"a-link-normal\" href=\"/releasegroup/gr3312079365/?ref_=bo_tt_gr_1\">\n",
      "            Original Release\n",
      "           </a>\n",
      "          </td>\n",
      "          <td class=\"a-align-center\">\n",
      "           March 6, 1998\n",
      "          </td>\n",
      "          <td class=\"a-align-center\">\n",
      "           <a class=\"a-link-normal\" href=\"/release/rl239568385/?ref_=bo_tt_gr_1\">\n",
      "            Domestic\n",
      "           </a>\n",
      "          </td>\n",
      "          <td class=\"a-text-right a-align-center\">\n",
      "           <span class=\"money\">\n",
      "            $17,451,873\n",
      "           </span>\n",
      "          </td>\n",
      "          <td class=\"a-text-right a-align-center\">\n",
      "           <span class=\"money\">\n",
      "            $28,690,764\n",
      "           </span>\n",
      "          </td>\n",
      "          <td class=\"a-text-right a-align-center\">\n",
      "           <span class=\"money\">\n",
      "            $46,142,637\n",
      "           </span>\n",
      "          </td>\n",
      "         </tr>\n",
      "         <tr>\n",
      "          <td class=\"a-align-center\">\n",
      "           <a class=\"a-link-normal\" href=\"/releasegroup/gr3664400901/?ref_=bo_tt_gr_2\">\n",
      "            2018 Re-release\n",
      "           </a>\n",
      "          </td>\n",
      "          <td class=\"a-align-center\">\n",
      "           August 5-September 21, 2018\n",
      "          </td>\n",
      "          <td class=\"a-align-center\">\n",
      "           <a class=\"a-link-normal\" href=\"/releasegroup/gr3664400901/?ref_=bo_tt_gr_2\">\n",
      "            Domestic, EMEA\n",
      "           </a>\n",
      "          </td>\n",
      "          <td class=\"a-text-right a-align-center\">\n",
      "           <span class=\"money\">\n",
      "            $582,585\n",
      "           </span>\n",
      "          </td>\n",
      "          <td class=\"a-text-right a-align-center\">\n",
      "           <span class=\"money\">\n",
      "            $10,247\n",
      "           </span>\n",
      "          </td>\n",
      "          <td class=\"a-text-right a-align-center\">\n",
      "           <span class=\"money\">\n",
      "            $592,832\n",
      "           </span>\n",
      "          </td>\n",
      "         </tr>\n",
      "        </table>\n",
      "       </div>\n",
      "      </div>\n",
      "     </div>\n",
      "    </div>\n",
      "   </main>\n",
      "   <div class=\"a-section a-spacing-none mojo-navigation-frame\">\n",
      "    <div class=\"a-section a-spacing-none mojo-navigation mojo-footer\">\n",
      "     <a class=\"a-link-normal imdb-pro-logo\" href=\"https://pro.imdb.com/?ref_=mojo_ft_tt_prologo&amp;rf=mojo_ft_tt_prologo\">\n",
      "     </a>\n",
      "     <p>\n",
      "      Latest Updates:\n",
      "      <a class=\"a-link-normal\" href=\"/news/?ref_=bo_ft_tt_news\">\n",
      "       News\n",
      "      </a>\n",
      "      |\n",
      "      <a class=\"a-link-normal\" href=\"/daily/?ref_=bo_ft_tt_daily\">\n",
      "       Daily\n",
      "      </a>\n",
      "      |\n",
      "      <a class=\"a-link-normal\" href=\"/weekend/?ref_=bo_ft_tt_weekend\">\n",
      "       Weekend\n",
      "      </a>\n",
      "      |\n",
      "      <a class=\"a-link-normal\" href=\"/charts/?ref_=bo_ft_tt_charts\">\n",
      "       All Time\n",
      "      </a>\n",
      "      |\n",
      "      <a class=\"a-link-normal\" href=\"/intl/?ref_=bo_ft_tt_intl\">\n",
      "       International\n",
      "      </a>\n",
      "      |\n",
      "      <a class=\"a-link-normal\" href=\"/showdown/?ref_=bo_ft_tt_showdown\">\n",
      "       Showdowns\n",
      "      </a>\n",
      "     </p>\n",
      "     <p>\n",
      "      <a class=\"a-link-normal\" href=\"https://help.imdb.com/article/imdbpro/industry-research/box-office-mojo-by-imdbpro-faq/GCWTV4MQKGWRAUAP?ref_=mojo_ftr_help\" rel=\"noopener\" target=\"_blank\">\n",
      "       Help\n",
      "      </a>\n",
      "     </p>\n",
      "     <p>\n",
      "      BoxOfficeMojo.com by IMDbPro - an\n",
      "      <a class=\"a-link-normal\" href=\"http://www.imdb.com/\" rel=\"noopener\" target=\"_blank\">\n",
      "       IMDb\n",
      "      </a>\n",
      "      company.\n",
      "     </p>\n",
      "     <p>\n",
      "      © IMDb.com, Inc. or its affiliates. All rights reserved.\n",
      "            Box Office Mojo and IMDb are trademarks or registered trademarks of IMDb.com, Inc. or its affiliates.\n",
      "      <a class=\"a-link-normal\" href=\"/conditions/?ref_=bo_ft_tt_conditions\">\n",
      "       Conditions of Use\n",
      "      </a>\n",
      "      and\n",
      "      <a class=\"a-link-normal\" href=\"/privacy/?ref_=bo_ft_tt_privacy\">\n",
      "       Privacy Policy\n",
      "      </a>\n",
      "      under which this service is provided to you.\n",
      "     </p>\n",
      "    </div>\n",
      "   </div>\n",
      "  </div>\n",
      " </body>\n",
      "</html>\n"
     ]
    }
   ],
   "source": [
    "print(soup.prettify())"
   ]
  },
  {
   "cell_type": "markdown",
   "metadata": {},
   "source": [
    "**QUESTIONS**\n",
    "\n",
    "> Select the first link on the page."
   ]
  },
  {
   "cell_type": "code",
   "execution_count": null,
   "metadata": {},
   "outputs": [],
   "source": []
  },
  {
   "cell_type": "markdown",
   "metadata": {},
   "source": [
    "> Now select the LAST link on the page.  Can you get the text and the URL associated with this link?"
   ]
  },
  {
   "cell_type": "code",
   "execution_count": null,
   "metadata": {},
   "outputs": [],
   "source": []
  },
  {
   "cell_type": "code",
   "execution_count": null,
   "metadata": {},
   "outputs": [],
   "source": []
  },
  {
   "cell_type": "code",
   "execution_count": null,
   "metadata": {},
   "outputs": [],
   "source": []
  },
  {
   "cell_type": "markdown",
   "metadata": {},
   "source": [
    "Remember `find` gets only one match, but `find_all` retrieves all matches in a list."
   ]
  },
  {
   "cell_type": "code",
   "execution_count": 25,
   "metadata": {
    "ExecuteTime": {
     "end_time": "2019-11-27T22:14:00.147863Z",
     "start_time": "2019-11-27T22:13:59.986Z"
    }
   },
   "outputs": [
    {
     "name": "stdout",
     "output_type": "stream",
     "text": [
      "<a class=\"a-link-normal\" href=\"/?ref_=bo_nb_tt_mojologo\"></a> \n",
      "\n",
      "<a class=\"a-popover-trigger a-declarative\" href=\"javascript:void(0)\"><span class=\"mobile-menu-popover-trigger\"></span>\n",
      "<i class=\"a-icon a-icon-popover\"></i></a> \n",
      "\n",
      "<a class=\"a-link-normal mojo-rollover-image\" href=\"https://pro.imdb.com/login/ap?u=%2Flogin%2Flwa&amp;imdbPageAction=signUp&amp;ref_=mojo_nb_tt_rollover&amp;rf=mojo_nb_tt_rollover\"><img alt=\"\" src=\"https://m.media-amazon.com/images/G/01/IMDbPro/images/MI_121919_NYNY2020_Engagement_rollover_2x._CB1578336809_.png\"/></a> \n",
      "\n",
      "<a class=\"a-popover-trigger a-declarative\" href=\"javascript:void(0)\"><span class=\"imdb-pro-logo\"></span><i class=\"a-icon a-icon-popover\"></i></a> \n",
      "\n",
      "<a class=\"a-link-normal mojo-fb-logo\" href=\"https://www.facebook.com/BoxOfficeMojo/\" rel=\"noopener\" target=\"_blank\"></a> \n",
      "\n"
     ]
    }
   ],
   "source": [
    "for link in soup.find_all('a')[:5]:\n",
    "    print(link, '\\n')"
   ]
  },
  {
   "cell_type": "markdown",
   "metadata": {},
   "source": [
    "And you can match only those with a specific `id` or `class` if you'd like.  Here are all the elements labeled with the \"mojo-navigtaion-tab\" class."
   ]
  },
  {
   "cell_type": "code",
   "execution_count": 26,
   "metadata": {
    "ExecuteTime": {
     "end_time": "2019-11-27T22:14:00.151470Z",
     "start_time": "2019-11-27T22:13:59.997Z"
    }
   },
   "outputs": [
    {
     "name": "stdout",
     "output_type": "stream",
     "text": [
      "<a class=\"a-size-medium a-link-normal mojo-navigation-tab\" href=\"/date/?ref_=bo_nb_tt_tab\">\n",
      " Domestic\n",
      "</a>\n",
      "\n",
      "<a class=\"a-size-medium a-link-normal mojo-navigation-tab\" href=\"/intl/?ref_=bo_nb_tt_tab\">\n",
      " International\n",
      "</a>\n",
      "\n",
      "<a class=\"a-size-medium a-link-normal mojo-navigation-tab\" href=\"/year/world/?ref_=bo_nb_tt_tab\">\n",
      " Worldwide\n",
      "</a>\n",
      "\n",
      "<a class=\"a-size-medium a-link-normal mojo-navigation-tab\" href=\"/calendar/?ref_=bo_nb_tt_tab\">\n",
      " Calendar\n",
      "</a>\n",
      "\n",
      "<a class=\"a-size-medium a-link-normal mojo-navigation-tab\" href=\"/charts/overall/?ref_=bo_nb_tt_tab\">\n",
      " All Time\n",
      "</a>\n",
      "\n",
      "<a class=\"a-size-medium a-link-normal mojo-navigation-tab\" href=\"/showdown/?ref_=bo_nb_tt_tab\">\n",
      " Showdowns\n",
      "</a>\n",
      "\n",
      "<a class=\"a-size-medium a-link-normal mojo-navigation-tab\" href=\"/news/?ref_=bo_nb_tt_tab\">\n",
      " News\n",
      "</a>\n",
      "<a class=\"a-size-base a-link-normal mojo-navigation-tab mojo-navigation-tab-active\" href=\"/title/tt0118715/?ref_=bo_tt_tab#tabs\">\n",
      " Releases\n",
      "</a>\n",
      "\n",
      "<a class=\"a-size-base a-link-normal mojo-navigation-tab\" href=\"/title/tt0118715/credits/?ref_=bo_tt_tab#tabs\">\n",
      " Cast and Crew\n",
      "</a>\n",
      "\n",
      "<a class=\"a-size-base a-link-normal mojo-navigation-tab\" href=\"/title/tt0118715/news/?ref_=bo_tt_tab#tabs\">\n",
      " Related Stories\n",
      "</a>\n",
      "\n",
      "<a class=\"a-size-base a-link-normal mojo-navigation-tab\" href=\"/title/tt0118715/similar/?ref_=bo_tt_tab#tabs\">\n",
      " Similar Movies\n",
      "</a>\n"
     ]
    }
   ],
   "source": [
    "for element in soup.find_all(class_='mojo-navigation-tab'):\n",
    "    print(element.prettify())"
   ]
  },
  {
   "cell_type": "markdown",
   "metadata": {},
   "source": [
    "It's important to remember `find` and `find_all` return BeautifulSoup elements. You can continue searching these elements, thus chaining commands together.\n",
    "\n",
    "Basic earnings information can be found in the `div` with the \"mojo-performance-summary-table\" class.  Let's extract the domestic gross from this element.\n",
    "\n",
    "<br>\n",
    "<img src=\"images/biglebow_table.png\" alt=\"Big Lebowski Table\" style=\"width: 500px;\"/>"
   ]
  },
  {
   "cell_type": "code",
   "execution_count": 27,
   "metadata": {
    "ExecuteTime": {
     "end_time": "2019-11-27T22:14:00.154547Z",
     "start_time": "2019-11-27T22:14:00.007Z"
    }
   },
   "outputs": [
    {
     "name": "stdout",
     "output_type": "stream",
     "text": [
      "<div class=\"a-section a-spacing-none mojo-performance-summary-table\">\n",
      " <h2 class=\"a-size-large a-text-bold\">\n",
      "  All Releases\n",
      " </h2>\n",
      " <div class=\"a-section a-spacing-none\">\n",
      "  <span class=\"a-size-small\">\n",
      "   Domestic (\n",
      "   <span class=\"percent\">\n",
      "    38.6%\n",
      "   </span>\n",
      "   )\n",
      "  </span>\n",
      "  <br/>\n",
      "  <span class=\"a-size-medium a-text-bold\">\n",
      "   <span class=\"money\">\n",
      "    $18,034,458\n",
      "   </span>\n",
      "  </span>\n",
      " </div>\n",
      " <div class=\"a-section a-spacing-none\">\n",
      "  <span class=\"a-size-small\">\n",
      "   International (\n",
      "   <span class=\"percent\">\n",
      "    61.4%\n",
      "   </span>\n",
      "   )\n",
      "  </span>\n",
      "  <br/>\n",
      "  <span class=\"a-size-medium a-text-bold\">\n",
      "   <span class=\"money\">\n",
      "    $28,701,011\n",
      "   </span>\n",
      "  </span>\n",
      " </div>\n",
      " <div class=\"a-section a-spacing-none\">\n",
      "  <span class=\"a-size-small\">\n",
      "   Worldwide\n",
      "  </span>\n",
      "  <br/>\n",
      "  <span class=\"a-size-medium a-text-bold\">\n",
      "   <span class=\"money\">\n",
      "    $46,735,469\n",
      "   </span>\n",
      "  </span>\n",
      " </div>\n",
      "</div>\n",
      "\n"
     ]
    }
   ],
   "source": [
    "print(soup.find(class_='mojo-performance-summary-table').prettify())"
   ]
  },
  {
   "cell_type": "code",
   "execution_count": 28,
   "metadata": {
    "ExecuteTime": {
     "end_time": "2019-11-27T22:14:00.158500Z",
     "start_time": "2019-11-27T22:14:00.010Z"
    }
   },
   "outputs": [
    {
     "data": {
      "text/plain": [
       "[<span class=\"money\">$18,034,458</span>,\n",
       " <span class=\"money\">$28,701,011</span>,\n",
       " <span class=\"money\">$46,735,469</span>]"
      ]
     },
     "execution_count": 28,
     "metadata": {},
     "output_type": "execute_result"
    }
   ],
   "source": [
    "soup.find(class_='mojo-performance-summary-table').find_all('span', class_='money')"
   ]
  },
  {
   "cell_type": "markdown",
   "metadata": {},
   "source": [
    "Text needs to be extracted from one element at a time.  To get the domestic gross:"
   ]
  },
  {
   "cell_type": "code",
   "execution_count": 29,
   "metadata": {
    "ExecuteTime": {
     "end_time": "2019-11-27T22:14:00.283698Z",
     "start_time": "2019-11-27T22:14:00.266844Z"
    }
   },
   "outputs": [
    {
     "data": {
      "text/plain": [
       "'$18,034,458'"
      ]
     },
     "execution_count": 29,
     "metadata": {},
     "output_type": "execute_result"
    }
   ],
   "source": [
    "soup.find(class_='mojo-performance-summary-table').find_all('span', class_='money')[0].text"
   ]
  },
  {
   "cell_type": "markdown",
   "metadata": {},
   "source": [
    "You can also find using an `id`; remember id should be unique to just one element."
   ]
  },
  {
   "cell_type": "code",
   "execution_count": 30,
   "metadata": {
    "ExecuteTime": {
     "end_time": "2019-11-27T22:14:00.293048Z",
     "start_time": "2019-11-27T22:14:00.039Z"
    },
    "scrolled": true
   },
   "outputs": [
    {
     "name": "stdout",
     "output_type": "stream",
     "text": [
      "<div class=\"mojo-link-bar-internal mojo-flex mojo-flex-h\" id=\"tabs\">\n",
      " <div class=\"mojo-tab-container\">\n",
      "  <a class=\"a-size-base a-link-normal mojo-navigation-tab mojo-navigation-tab-active\" href=\"/title/tt0118715/?ref_=bo_tt_tab#tabs\">\n",
      "   Releases\n",
      "  </a>\n",
      "  <a class=\"a-size-base a-link-normal mojo-navigation-tab\" href=\"/title/tt0118715/credits/?ref_=bo_tt_tab#tabs\">\n",
      "   Cast and Crew\n",
      "  </a>\n",
      "  <div class=\"a-section mojo-disabled-tab\">\n",
      "   All-Time Rankings\n",
      "  </div>\n",
      "  <a class=\"a-size-base a-link-normal mojo-navigation-tab\" href=\"/title/tt0118715/news/?ref_=bo_tt_tab#tabs\">\n",
      "   Related Stories\n",
      "  </a>\n",
      "  <a class=\"a-size-base a-link-normal mojo-navigation-tab\" href=\"/title/tt0118715/similar/?ref_=bo_tt_tab#tabs\">\n",
      "   Similar Movies\n",
      "  </a>\n",
      " </div>\n",
      "</div>\n",
      "\n"
     ]
    }
   ],
   "source": [
    "print(soup.find(id='tabs').prettify())"
   ]
  },
  {
   "cell_type": "markdown",
   "metadata": {},
   "source": [
    "### Web Scraping Pipeline\n",
    "\n",
    "Now that we have the basics, let's practice web scraping.  **The main goal of web scraping is to extract data by taking advantage of a site's consistent format.**  That is, the code you write for one page on a website can hopefully be used on multiple pages to gather more information automatically.\n",
    "\n",
    "Let's create code to get the following information for the movies on Box Office Mojo:\n",
    "- Movie title\n",
    "- Domestic gross\n",
    "- Runtime\n",
    "- MPAA rating\n",
    "- Release date"
   ]
  },
  {
   "cell_type": "markdown",
   "metadata": {},
   "source": [
    "#### Movie Title"
   ]
  },
  {
   "cell_type": "code",
   "execution_count": 31,
   "metadata": {
    "ExecuteTime": {
     "end_time": "2019-11-27T22:14:00.299455Z",
     "start_time": "2019-11-27T22:14:00.065Z"
    }
   },
   "outputs": [
    {
     "data": {
      "text/plain": [
       "<title dir=\"ltr\">The Big Lebowski - Box Office Mojo</title>"
      ]
     },
     "execution_count": 31,
     "metadata": {},
     "output_type": "execute_result"
    }
   ],
   "source": [
    "soup.find('title')"
   ]
  },
  {
   "cell_type": "code",
   "execution_count": 32,
   "metadata": {
    "ExecuteTime": {
     "end_time": "2019-11-27T22:14:00.303669Z",
     "start_time": "2019-11-27T22:14:00.069Z"
    }
   },
   "outputs": [
    {
     "data": {
      "text/plain": [
       "'The Big Lebowski - Box Office Mojo'"
      ]
     },
     "execution_count": 32,
     "metadata": {},
     "output_type": "execute_result"
    }
   ],
   "source": [
    "title_string = soup.find('title').text\n",
    "\n",
    "title_string"
   ]
  },
  {
   "cell_type": "code",
   "execution_count": 33,
   "metadata": {
    "ExecuteTime": {
     "end_time": "2019-11-27T22:14:00.306661Z",
     "start_time": "2019-11-27T22:14:00.073Z"
    }
   },
   "outputs": [
    {
     "data": {
      "text/plain": [
       "['The Big Lebowski ', ' Box Office Mojo']"
      ]
     },
     "execution_count": 33,
     "metadata": {},
     "output_type": "execute_result"
    }
   ],
   "source": [
    "title_string.split('-')"
   ]
  },
  {
   "cell_type": "code",
   "execution_count": 34,
   "metadata": {
    "ExecuteTime": {
     "end_time": "2019-11-27T22:14:00.308637Z",
     "start_time": "2019-11-27T22:14:00.078Z"
    }
   },
   "outputs": [
    {
     "data": {
      "text/plain": [
       "'The Big Lebowski'"
      ]
     },
     "execution_count": 34,
     "metadata": {},
     "output_type": "execute_result"
    }
   ],
   "source": [
    "title = title_string.split('-')[0].strip()\n",
    "\n",
    "title"
   ]
  },
  {
   "cell_type": "markdown",
   "metadata": {},
   "source": [
    "#### Domestic Gross: \n",
    "\n",
    "As we saw previously, the domestic gross can be found in a `span` within the \"mojo-performance-summary-table\" `div`."
   ]
  },
  {
   "cell_type": "code",
   "execution_count": 35,
   "metadata": {
    "ExecuteTime": {
     "end_time": "2019-11-27T22:14:00.311354Z",
     "start_time": "2019-11-27T22:14:00.093Z"
    }
   },
   "outputs": [
    {
     "data": {
      "text/plain": [
       "'$18,034,458'"
      ]
     },
     "execution_count": 35,
     "metadata": {},
     "output_type": "execute_result"
    }
   ],
   "source": [
    "dtg = soup.find(class_='mojo-performance-summary-table').find_all('span', class_='money')[0].text\n",
    "dtg"
   ]
  },
  {
   "cell_type": "markdown",
   "metadata": {},
   "source": [
    "The remainder of the information lives in this neighboring `div`."
   ]
  },
  {
   "cell_type": "markdown",
   "metadata": {},
   "source": [
    "<img src=\"images/biglebow_info.png\" alt=\"Big Lebowski Information\" style=\"width: 500px;\"/>"
   ]
  },
  {
   "cell_type": "markdown",
   "metadata": {},
   "source": [
    "#### Runtime: `.findNext()`\n",
    "\n",
    "Sometimes you can find the information you are looking for by using text matching.  But note this must be an exact match!"
   ]
  },
  {
   "cell_type": "code",
   "execution_count": 36,
   "metadata": {
    "ExecuteTime": {
     "end_time": "2019-11-27T22:14:00.316173Z",
     "start_time": "2019-11-27T22:14:00.145Z"
    }
   },
   "outputs": [],
   "source": [
    "soup.find(text='Run')  #does not match"
   ]
  },
  {
   "cell_type": "code",
   "execution_count": 37,
   "metadata": {
    "ExecuteTime": {
     "end_time": "2019-11-27T22:14:00.320001Z",
     "start_time": "2019-11-27T22:14:00.162Z"
    }
   },
   "outputs": [
    {
     "data": {
      "text/plain": [
       "'Running Time'"
      ]
     },
     "execution_count": 37,
     "metadata": {},
     "output_type": "execute_result"
    }
   ],
   "source": [
    "soup.find(text='Running Time')  "
   ]
  },
  {
   "cell_type": "markdown",
   "metadata": {},
   "source": [
    "Alternatively, we could use [regular expressions](https://docs.python.org/3/library/re.html)."
   ]
  },
  {
   "cell_type": "code",
   "execution_count": 38,
   "metadata": {
    "ExecuteTime": {
     "end_time": "2019-11-27T22:14:00.324016Z",
     "start_time": "2019-11-27T22:14:00.179Z"
    }
   },
   "outputs": [
    {
     "data": {
      "text/plain": [
       "'Running Time'"
      ]
     },
     "execution_count": 38,
     "metadata": {},
     "output_type": "execute_result"
    }
   ],
   "source": [
    "import re\n",
    "runtime_regex = re.compile('Run')\n",
    "soup.find(text=runtime_regex)"
   ]
  },
  {
   "cell_type": "code",
   "execution_count": 39,
   "metadata": {
    "ExecuteTime": {
     "end_time": "2019-11-27T22:14:00.327979Z",
     "start_time": "2019-11-27T22:14:00.182Z"
    }
   },
   "outputs": [
    {
     "name": "stdout",
     "output_type": "stream",
     "text": [
      "Running Time\n"
     ]
    }
   ],
   "source": [
    "rt_string = soup.find(text=re.compile('Run'))\n",
    "print(rt_string)"
   ]
  },
  {
   "cell_type": "code",
   "execution_count": 40,
   "metadata": {
    "ExecuteTime": {
     "end_time": "2019-11-27T22:14:00.332583Z",
     "start_time": "2019-11-27T22:14:00.188Z"
    }
   },
   "outputs": [
    {
     "data": {
      "text/plain": [
       "bs4.element.NavigableString"
      ]
     },
     "execution_count": 40,
     "metadata": {},
     "output_type": "execute_result"
    }
   ],
   "source": [
    "type(rt_string)"
   ]
  },
  {
   "cell_type": "markdown",
   "metadata": {},
   "source": [
    "The string we found is still a Beautiful Soup element. This means we can use it to navigate to the next element in the HTML, which is a `span` containing the actual runtime."
   ]
  },
  {
   "cell_type": "code",
   "execution_count": 41,
   "metadata": {
    "ExecuteTime": {
     "end_time": "2019-11-27T22:14:00.338179Z",
     "start_time": "2019-11-27T22:14:00.206Z"
    }
   },
   "outputs": [
    {
     "data": {
      "text/plain": [
       "<span>1 hr 57 min</span>"
      ]
     },
     "execution_count": 41,
     "metadata": {},
     "output_type": "execute_result"
    }
   ],
   "source": [
    "rt_string.findNext()"
   ]
  },
  {
   "cell_type": "markdown",
   "metadata": {},
   "source": [
    "The `.findNext()` method can be incredibly useful when the information you want to find doesn't have a obvious tag, class, id, etc.\n",
    "\n",
    "Let's clean this value up into usable data."
   ]
  },
  {
   "cell_type": "code",
   "execution_count": 42,
   "metadata": {
    "ExecuteTime": {
     "end_time": "2019-11-27T22:14:00.341525Z",
     "start_time": "2019-11-27T22:14:00.218Z"
    }
   },
   "outputs": [
    {
     "name": "stdout",
     "output_type": "stream",
     "text": [
      "117\n"
     ]
    }
   ],
   "source": [
    "rt = rt_string.findNext().text\n",
    "rt = rt.split()\n",
    "minutes = int(rt[0])*60 + int(rt[2])\n",
    "print(minutes)"
   ]
  },
  {
   "cell_type": "markdown",
   "metadata": {},
   "source": [
    "#### MPAA Rating, Release Date\n",
    "\n",
    "_**STEP 1:** Create function to grab values_ \n",
    "\n",
    "The text matching method can also help us get runtime, rating, and release date, so let's make a reuable function."
   ]
  },
  {
   "cell_type": "code",
   "execution_count": 43,
   "metadata": {
    "ExecuteTime": {
     "end_time": "2019-11-27T22:14:00.345291Z",
     "start_time": "2019-11-27T22:14:00.232Z"
    }
   },
   "outputs": [],
   "source": [
    "def get_movie_value(soup, field_name):\n",
    "    \n",
    "    '''Grab a value from Box Office Mojo HTML\n",
    "    \n",
    "    Takes a string attribute of a movie on the page and returns the string in\n",
    "    the next sibling object (the value for that attribute) or None if nothing is found.\n",
    "    '''\n",
    "    \n",
    "    obj = soup.find(text=re.compile(field_name))\n",
    "    \n",
    "    if not obj: \n",
    "        return None\n",
    "    \n",
    "    # this works for most of the values\n",
    "    next_element = obj.findNext()\n",
    "    \n",
    "    if next_element:\n",
    "        return next_element.text \n",
    "    else:\n",
    "        return None"
   ]
  },
  {
   "cell_type": "code",
   "execution_count": 44,
   "metadata": {
    "ExecuteTime": {
     "end_time": "2019-11-27T22:14:00.350096Z",
     "start_time": "2019-11-27T22:14:00.238Z"
    }
   },
   "outputs": [
    {
     "name": "stdout",
     "output_type": "stream",
     "text": [
      "1 hr 57 min\n"
     ]
    }
   ],
   "source": [
    "# runtime\n",
    "runtime = get_movie_value(soup,'Run')\n",
    "print(runtime)"
   ]
  },
  {
   "cell_type": "code",
   "execution_count": 45,
   "metadata": {
    "ExecuteTime": {
     "end_time": "2019-11-27T22:14:00.354712Z",
     "start_time": "2019-11-27T22:14:00.241Z"
    }
   },
   "outputs": [
    {
     "name": "stdout",
     "output_type": "stream",
     "text": [
      "R\n"
     ]
    }
   ],
   "source": [
    "# rating\n",
    "rating = get_movie_value(soup,'MPAA')\n",
    "print(rating)"
   ]
  },
  {
   "cell_type": "code",
   "execution_count": 46,
   "metadata": {
    "ExecuteTime": {
     "end_time": "2019-11-27T22:14:00.359269Z",
     "start_time": "2019-11-27T22:14:00.247Z"
    }
   },
   "outputs": [
    {
     "name": "stdout",
     "output_type": "stream",
     "text": [
      "March 6, 1998\n",
      "            (Domestic)\n"
     ]
    }
   ],
   "source": [
    "release_date = get_movie_value(soup,'Release Date')\n",
    "print(release_date)"
   ]
  },
  {
   "cell_type": "code",
   "execution_count": 47,
   "metadata": {
    "ExecuteTime": {
     "end_time": "2019-11-27T22:14:00.364377Z",
     "start_time": "2019-11-27T22:14:00.252Z"
    }
   },
   "outputs": [
    {
     "name": "stdout",
     "output_type": "stream",
     "text": [
      "March 6, 1998\n"
     ]
    }
   ],
   "source": [
    "release_date = release_date.split('\\n')[0]  #Select the only the date\n",
    "print(release_date)"
   ]
  },
  {
   "cell_type": "markdown",
   "metadata": {},
   "source": [
    "_**STEP 2:** Create helper functions to parse strings into appropriate data types_\n",
    "\n",
    "The returned values all need a bit of formatting before we can work with this data.  Here are a few helper functions."
   ]
  },
  {
   "cell_type": "code",
   "execution_count": 49,
   "metadata": {
    "ExecuteTime": {
     "end_time": "2019-11-27T22:14:00.368832Z",
     "start_time": "2019-11-27T22:14:00.265Z"
    }
   },
   "outputs": [],
   "source": [
    "import dateutil.parser\n",
    "\n",
    "def money_to_int(moneystring):\n",
    "    moneystring = moneystring.replace('$', '').replace(',', '')\n",
    "    return int(moneystring)\n",
    "\n",
    "def runtime_to_minutes(runtimestring):\n",
    "    runtime = runtimestring.split()\n",
    "    try:\n",
    "        minutes = int(runtime[0])*60 + int(runtime[2])\n",
    "        return minutes\n",
    "    except:\n",
    "        return None\n",
    "\n",
    "def to_date(datestring):\n",
    "    date = dateutil.parser.parse(datestring)\n",
    "    return date"
   ]
  },
  {
   "cell_type": "markdown",
   "metadata": {},
   "source": [
    "_**STEP 3:** Apply these conversions_\n",
    "\n",
    "Let's get these values again and format them all in one swoop. (Note: Rating is already correct as a string.)"
   ]
  },
  {
   "cell_type": "code",
   "execution_count": 50,
   "metadata": {
    "ExecuteTime": {
     "end_time": "2019-11-27T22:14:00.494218Z",
     "start_time": "2019-11-27T22:14:00.479650Z"
    }
   },
   "outputs": [],
   "source": [
    "raw_domestic_total_gross = dtg\n",
    "domestic_total_gross = money_to_int(raw_domestic_total_gross)\n",
    "\n",
    "raw_runtime = get_movie_value(soup,'Running')\n",
    "runtime = runtime_to_minutes(raw_runtime)\n",
    "\n",
    "raw_release_date = get_movie_value(soup,'Release Date').split('\\n')[0]\n",
    "release_date = to_date(raw_release_date)"
   ]
  },
  {
   "cell_type": "markdown",
   "metadata": {},
   "source": [
    "#### Put Results in Dictionary\n",
    "\n",
    "Now that we have results for all five quantities, we can store them in a dictionary."
   ]
  },
  {
   "cell_type": "code",
   "execution_count": 51,
   "metadata": {
    "ExecuteTime": {
     "end_time": "2019-11-27T22:14:00.497551Z",
     "start_time": "2019-11-27T22:14:00.305Z"
    }
   },
   "outputs": [
    {
     "data": {
      "text/plain": [
       "[{'movie title': 'The Big Lebowski',\n",
       "  'domestic total gross': 18034458,\n",
       "  'runtime (mins)': 117,\n",
       "  'rating': 'R',\n",
       "  'release date': datetime.datetime(1998, 3, 6, 0, 0)}]"
      ]
     },
     "execution_count": 51,
     "metadata": {},
     "output_type": "execute_result"
    }
   ],
   "source": [
    "headers = ['movie title', 'domestic total gross',\n",
    "           'runtime (mins)', 'rating', 'release date']\n",
    "\n",
    "movie_data = []\n",
    "movie_dict = dict(zip(headers, [title,\n",
    "                                domestic_total_gross,\n",
    "                                runtime,\n",
    "                                rating, \n",
    "                                release_date]))\n",
    "\n",
    "movie_data.append(movie_dict)\n",
    "movie_data"
   ]
  },
  {
   "cell_type": "markdown",
   "metadata": {},
   "source": [
    "**QUESTION**\n",
    "\n",
    "> Why might we want to store these data in a dictionary?  Why did we put the dictionary in a list?"
   ]
  },
  {
   "cell_type": "markdown",
   "metadata": {},
   "source": [
    "### Scraping Tables\n",
    "\n",
    "Let's take a look at the [top G-rated movies](https://www.boxofficemojo.com/chart/mpaa_title_lifetime_gross/?by_mpaa=G) of Box Office Mojo.  How could we pull all the data from this main page?\n",
    "\n",
    "First request the HTML and parse it with Beautiful Soup."
   ]
  },
  {
   "cell_type": "code",
   "execution_count": 52,
   "metadata": {
    "ExecuteTime": {
     "end_time": "2019-11-27T22:14:00.500634Z",
     "start_time": "2019-11-27T22:14:00.326Z"
    }
   },
   "outputs": [],
   "source": [
    "url = 'https://www.boxofficemojo.com/chart/mpaa_title_lifetime_gross/?by_mpaa=G'\n",
    "\n",
    "response = requests.get(url)\n",
    "page = response.text\n",
    "\n",
    "soup = BeautifulSoup(page,\"lxml\")"
   ]
  },
  {
   "cell_type": "markdown",
   "metadata": {},
   "source": [
    "Now find the main table; its the only `table` on the page."
   ]
  },
  {
   "cell_type": "code",
   "execution_count": 53,
   "metadata": {
    "ExecuteTime": {
     "end_time": "2019-11-27T22:14:00.504625Z",
     "start_time": "2019-11-27T22:14:00.339Z"
    }
   },
   "outputs": [
    {
     "data": {
      "text/plain": [
       "<table class=\"a-bordered a-horizontal-stripes a-size-base a-span12 mojo-body-table mojo-table-annotated\"><tr><th class=\"a-text-left mojo-field-type-title a-nowrap\"><span title=\"Title\">Title</span>\n",
       "</th><th class=\"a-text-right mojo-field-type-rank a-nowrap\"><span title=\"Rank\">Rank</span>\n",
       "</th><th class=\"a-text-right mojo-field-type-money a-nowrap\"><span title=\"Lifetime Gross\">Lifetime Gross</span>\n",
       "</th><th class=\"a-text-right mojo-field-type-rank a-nowrap\"><span title=\"Overall Rank\">Overall Rank</span>\n",
       "</th><th class=\"a-text-left mojo-field-type-year a-nowrap\"><span title=\"Year\">Year</span>\n",
       "</th></tr><tr><td class=\"a-text-left mojo-header-column mojo-truncate mojo-field-type-title\"><a class=\"a-link-normal\" href=\"/title/tt1979376/?ref_=bo_cso_table_1\">Toy Story 4</a></td><td class=\"a-text-right mojo-field-type-rank\">1</td><td class=\"a-text-right mojo-field-type-money\">$434,038,008</td><td class=\"a-text-right mojo-field-type-rank\">24</td><td class=\"a-text-left mojo-field-type-year\"><a class=\"a-link-normal\" href=\"/year/2019/?ref_=bo_cso_table_1\">2019</a></td></tr><tr><td class=\"a-text-left mojo-header-column mojo-truncate mojo-field-type-title\"><a class=\"a-link-normal\" href=\"/title/tt0110357/?ref_=bo_cso_table_2\">The Lion King</a></td><td class=\"a-text-right mojo-field-type-rank\">2</td><td class=\"a-text-right mojo-field-type-money\">$422,783,777</td><td class=\"a-text-right mojo-field-type-rank\">28</td><td class=\"a-text-left mojo-field-type-year\"><a class=\"a-link-normal\" href=\"/year/1994/?ref_=bo_cso_table_2\">1994</a></td></tr><tr><td class=\"a-text-left mojo-header-column mojo-truncate mojo-field-type-title\"><a class=\"a-link-normal\" href=\"/title/tt0435761/?ref_=bo_cso_table_3\">Toy Story 3</a></td><td class=\"a-text-right mojo-field-type-rank\">3</td><td class=\"a-text-right mojo-field-type-money\">$415,004,880</td><td class=\"a-text-right mojo-field-type-rank\">30</td><td class=\"a-text-left mojo-field-type-year\"><a class=\"a-link-normal\" href=\"/year/2010/?ref_=bo_cso_table_3\">2010</a></td></tr><tr><td class=\"a-text-left mojo-header-column mojo-truncate mojo-field-type-title\"><a class=\"a-link-normal\" href=\"/title/tt0266543/?ref_=bo_cso_table_4\">Finding Nemo</a></td><td class=\"a-text-right mojo-field-type-rank\">4</td><td class=\"a-text-right mojo-field-type-money\">$380,843,261</td><td class=\"a-text-right mojo-field-type-rank\">43</td><td class=\"a-text-left mojo-field-type-year\"><a class=\"a-link-normal\" href=\"/year/2003/?ref_=bo_cso_table_4\">2003</a></td></tr><tr><td class=\"a-text-left mojo-header-column mojo-truncate mojo-field-type-title\"><a class=\"a-link-normal\" href=\"/title/tt0198781/?ref_=bo_cso_table_5\">Monsters, Inc.</a></td><td class=\"a-text-right mojo-field-type-rank\">5</td><td class=\"a-text-right mojo-field-type-money\">$289,916,256</td><td class=\"a-text-right mojo-field-type-rank\">100</td><td class=\"a-text-left mojo-field-type-year\"><a class=\"a-link-normal\" href=\"/year/2001/?ref_=bo_cso_table_5\">2001</a></td></tr><tr><td class=\"a-text-left mojo-header-column mojo-truncate mojo-field-type-title\"><a class=\"a-link-normal\" href=\"/title/tt1453405/?ref_=bo_cso_table_6\">Monsters University</a></td><td class=\"a-text-right mojo-field-type-rank\">6</td><td class=\"a-text-right mojo-field-type-money\">$268,492,764</td><td class=\"a-text-right mojo-field-type-rank\">110</td><td class=\"a-text-left mojo-field-type-year\"><a class=\"a-link-normal\" href=\"/year/2013/?ref_=bo_cso_table_6\">2013</a></td></tr><tr><td class=\"a-text-left mojo-header-column mojo-truncate mojo-field-type-title\"><a class=\"a-link-normal\" href=\"/title/tt0120363/?ref_=bo_cso_table_7\">Toy Story 2</a></td><td class=\"a-text-right mojo-field-type-rank\">7</td><td class=\"a-text-right mojo-field-type-money\">$245,852,179</td><td class=\"a-text-right mojo-field-type-rank\">134</td><td class=\"a-text-left mojo-field-type-year\"><a class=\"a-link-normal\" href=\"/year/1999/?ref_=bo_cso_table_7\">1999</a></td></tr><tr><td class=\"a-text-left mojo-header-column mojo-truncate mojo-field-type-title\"><a class=\"a-link-normal\" href=\"/title/tt0317219/?ref_=bo_cso_table_8\">Cars</a></td><td class=\"a-text-right mojo-field-type-rank\">8</td><td class=\"a-text-right mojo-field-type-money\">$244,082,982</td><td class=\"a-text-right mojo-field-type-rank\">136</td><td class=\"a-text-left mojo-field-type-year\"><a class=\"a-link-normal\" href=\"/year/2006/?ref_=bo_cso_table_8\">2006</a></td></tr><tr><td class=\"a-text-left mojo-header-column mojo-truncate mojo-field-type-title\"><a class=\"a-link-normal\" href=\"/title/tt0910970/?ref_=bo_cso_table_9\">WALL·E</a></td><td class=\"a-text-right mojo-field-type-rank\">9</td><td class=\"a-text-right mojo-field-type-money\">$223,808,164</td><td class=\"a-text-right mojo-field-type-rank\">165</td><td class=\"a-text-left mojo-field-type-year\"><a class=\"a-link-normal\" href=\"/year/2008/?ref_=bo_cso_table_9\">2008</a></td></tr><tr><td class=\"a-text-left mojo-header-column mojo-truncate mojo-field-type-title\"><a class=\"a-link-normal\" href=\"/title/tt0114709/?ref_=bo_cso_table_10\">Toy Story</a></td><td class=\"a-text-right mojo-field-type-rank\">10</td><td class=\"a-text-right mojo-field-type-money\">$222,498,679</td><td class=\"a-text-right mojo-field-type-rank\">167</td><td class=\"a-text-left mojo-field-type-year\"><a class=\"a-link-normal\" href=\"/year/1995/?ref_=bo_cso_table_10\">1995</a></td></tr><tr><td class=\"a-text-left mojo-header-column mojo-truncate mojo-field-type-title\"><a class=\"a-link-normal\" href=\"/title/tt0101414/?ref_=bo_cso_table_11\">Beauty and the Beast</a></td><td class=\"a-text-right mojo-field-type-rank\">11</td><td class=\"a-text-right mojo-field-type-money\">$218,967,620</td><td class=\"a-text-right mojo-field-type-rank\">172</td><td class=\"a-text-left mojo-field-type-year\"><a class=\"a-link-normal\" href=\"/year/1991/?ref_=bo_cso_table_11\">1991</a></td></tr><tr><td class=\"a-text-left mojo-header-column mojo-truncate mojo-field-type-title\"><a class=\"a-link-normal\" href=\"/title/tt0103639/?ref_=bo_cso_table_12\">Aladdin</a></td><td class=\"a-text-right mojo-field-type-rank\">12</td><td class=\"a-text-right mojo-field-type-money\">$217,350,219</td><td class=\"a-text-right mojo-field-type-rank\">178</td><td class=\"a-text-left mojo-field-type-year\"><a class=\"a-link-normal\" href=\"/year/1992/?ref_=bo_cso_table_12\">1992</a></td></tr><tr><td class=\"a-text-left mojo-header-column mojo-truncate mojo-field-type-title\"><a class=\"a-link-normal\" href=\"/title/tt0382932/?ref_=bo_cso_table_13\">Ratatouille</a></td><td class=\"a-text-right mojo-field-type-rank\">13</td><td class=\"a-text-right mojo-field-type-money\">$206,445,654</td><td class=\"a-text-right mojo-field-type-rank\">203</td><td class=\"a-text-left mojo-field-type-year\"><a class=\"a-link-normal\" href=\"/year/2007/?ref_=bo_cso_table_13\">2007</a></td></tr><tr><td class=\"a-text-left mojo-header-column mojo-truncate mojo-field-type-title\"><a class=\"a-link-normal\" href=\"/title/tt0031381/?ref_=bo_cso_table_14\">Gone with the Wind</a></td><td class=\"a-text-right mojo-field-type-rank\">14</td><td class=\"a-text-right mojo-field-type-money\">$200,852,579</td><td class=\"a-text-right mojo-field-type-rank\">213</td><td class=\"a-text-left mojo-field-type-year\">1939</td></tr><tr><td class=\"a-text-left mojo-header-column mojo-truncate mojo-field-type-title\"><a class=\"a-link-normal\" href=\"/title/tt1216475/?ref_=bo_cso_table_15\">Cars 2</a></td><td class=\"a-text-right mojo-field-type-rank\">15</td><td class=\"a-text-right mojo-field-type-money\">$191,452,396</td><td class=\"a-text-right mojo-field-type-rank\">229</td><td class=\"a-text-left mojo-field-type-year\"><a class=\"a-link-normal\" href=\"/year/2011/?ref_=bo_cso_table_15\">2011</a></td></tr><tr><td class=\"a-text-left mojo-header-column mojo-truncate mojo-field-type-title\"><a class=\"a-link-normal\" href=\"/title/tt0338348/?ref_=bo_cso_table_16\">The Polar Express</a></td><td class=\"a-text-right mojo-field-type-rank\">16</td><td class=\"a-text-right mojo-field-type-money\">$187,224,490</td><td class=\"a-text-right mojo-field-type-rank\">238</td><td class=\"a-text-left mojo-field-type-year\"><a class=\"a-link-normal\" href=\"/year/2004/?ref_=bo_cso_table_16\">2004</a></td></tr><tr><td class=\"a-text-left mojo-header-column mojo-truncate mojo-field-type-title\"><a class=\"a-link-normal\" href=\"/title/tt0029583/?ref_=bo_cso_table_17\">Snow White and the Seven Dwarfs</a></td><td class=\"a-text-right mojo-field-type-rank\">17</td><td class=\"a-text-right mojo-field-type-money\">$184,925,486</td><td class=\"a-text-right mojo-field-type-rank\">243</td><td class=\"a-text-left mojo-field-type-year\">1937</td></tr><tr><td class=\"a-text-left mojo-header-column mojo-truncate mojo-field-type-title\"><a class=\"a-link-normal\" href=\"/title/tt0120855/?ref_=bo_cso_table_18\">Tarzan</a></td><td class=\"a-text-right mojo-field-type-rank\">18</td><td class=\"a-text-right mojo-field-type-money\">$171,091,819</td><td class=\"a-text-right mojo-field-type-rank\">296</td><td class=\"a-text-left mojo-field-type-year\"><a class=\"a-link-normal\" href=\"/year/1999/?ref_=bo_cso_table_18\">1999</a></td></tr><tr><td class=\"a-text-left mojo-header-column mojo-truncate mojo-field-type-title\"><a class=\"a-link-normal\" href=\"/title/tt0120623/?ref_=bo_cso_table_19\">A Bug's Life</a></td><td class=\"a-text-right mojo-field-type-rank\">19</td><td class=\"a-text-right mojo-field-type-money\">$162,798,565</td><td class=\"a-text-right mojo-field-type-rank\">325</td><td class=\"a-text-left mojo-field-type-year\"><a class=\"a-link-normal\" href=\"/year/1998/?ref_=bo_cso_table_19\">1998</a></td></tr><tr><td class=\"a-text-left mojo-header-column mojo-truncate mojo-field-type-title\"><a class=\"a-link-normal\" href=\"/title/tt0059742/?ref_=bo_cso_table_20\">The Sound of Music</a></td><td class=\"a-text-right mojo-field-type-rank\">20</td><td class=\"a-text-right mojo-field-type-money\">$159,287,539</td><td class=\"a-text-right mojo-field-type-rank\">337</td><td class=\"a-text-left mojo-field-type-year\">1965</td></tr><tr><td class=\"a-text-left mojo-header-column mojo-truncate mojo-field-type-title\"><a class=\"a-link-normal\" href=\"/title/tt0451079/?ref_=bo_cso_table_21\">Horton Hears a Who!</a></td><td class=\"a-text-right mojo-field-type-rank\">21</td><td class=\"a-text-right mojo-field-type-money\">$154,529,439</td><td class=\"a-text-right mojo-field-type-rank\">355</td><td class=\"a-text-left mojo-field-type-year\"><a class=\"a-link-normal\" href=\"/year/2008/?ref_=bo_cso_table_21\">2008</a></td></tr><tr><td class=\"a-text-left mojo-header-column mojo-truncate mojo-field-type-title\"><a class=\"a-link-normal\" href=\"/title/tt3606752/?ref_=bo_cso_table_22\">Cars 3</a></td><td class=\"a-text-right mojo-field-type-rank\">22</td><td class=\"a-text-right mojo-field-type-money\">$152,901,115</td><td class=\"a-text-right mojo-field-type-rank\">362</td><td class=\"a-text-left mojo-field-type-year\"><a class=\"a-link-normal\" href=\"/year/2017/?ref_=bo_cso_table_22\">2017</a></td></tr><tr><td class=\"a-text-left mojo-header-column mojo-truncate mojo-field-type-title\"><a class=\"a-link-normal\" href=\"/title/tt0055254/?ref_=bo_cso_table_23\">One Hundred and One Dalmatians</a></td><td class=\"a-text-right mojo-field-type-rank\">23</td><td class=\"a-text-right mojo-field-type-money\">$144,880,014</td><td class=\"a-text-right mojo-field-type-rank\">392</td><td class=\"a-text-left mojo-field-type-year\">1961</td></tr><tr><td class=\"a-text-left mojo-header-column mojo-truncate mojo-field-type-title\"><a class=\"a-link-normal\" href=\"/title/tt0061852/?ref_=bo_cso_table_24\">The Jungle Book</a></td><td class=\"a-text-right mojo-field-type-rank\">24</td><td class=\"a-text-right mojo-field-type-money\">$141,843,612</td><td class=\"a-text-right mojo-field-type-rank\">407</td><td class=\"a-text-left mojo-field-type-year\">1967</td></tr><tr><td class=\"a-text-left mojo-header-column mojo-truncate mojo-field-type-title\"><a class=\"a-link-normal\" href=\"/title/tt0114148/?ref_=bo_cso_table_25\">Pocahontas</a></td><td class=\"a-text-right mojo-field-type-rank\">25</td><td class=\"a-text-right mojo-field-type-money\">$141,579,773</td><td class=\"a-text-right mojo-field-type-rank\">410</td><td class=\"a-text-left mojo-field-type-year\"><a class=\"a-link-normal\" href=\"/year/1995/?ref_=bo_cso_table_25\">1995</a></td></tr><tr><td class=\"a-text-left mojo-header-column mojo-truncate mojo-field-type-title\"><a class=\"a-link-normal\" href=\"/title/tt0304669/?ref_=bo_cso_table_26\">The Santa Clause 2</a></td><td class=\"a-text-right mojo-field-type-rank\">26</td><td class=\"a-text-right mojo-field-type-money\">$139,236,327</td><td class=\"a-text-right mojo-field-type-rank\">426</td><td class=\"a-text-left mojo-field-type-year\"><a class=\"a-link-normal\" href=\"/year/2002/?ref_=bo_cso_table_26\">2002</a></td></tr><tr><td class=\"a-text-left mojo-header-column mojo-truncate mojo-field-type-title\"><a class=\"a-link-normal\" href=\"/title/tt0115433/?ref_=bo_cso_table_27\">101 Dalmatians</a></td><td class=\"a-text-right mojo-field-type-rank\">27</td><td class=\"a-text-right mojo-field-type-money\">$136,189,294</td><td class=\"a-text-right mojo-field-type-rank\">442</td><td class=\"a-text-left mojo-field-type-year\"><a class=\"a-link-normal\" href=\"/year/1996/?ref_=bo_cso_table_27\">1996</a></td></tr><tr><td class=\"a-text-left mojo-header-column mojo-truncate mojo-field-type-title\"><a class=\"a-link-normal\" href=\"/title/tt0371606/?ref_=bo_cso_table_28\">Chicken Little</a></td><td class=\"a-text-right mojo-field-type-rank\">28</td><td class=\"a-text-right mojo-field-type-money\">$135,386,665</td><td class=\"a-text-right mojo-field-type-rank\">445</td><td class=\"a-text-left mojo-field-type-year\"><a class=\"a-link-normal\" href=\"/year/2005/?ref_=bo_cso_table_28\">2005</a></td></tr><tr><td class=\"a-text-left mojo-header-column mojo-truncate mojo-field-type-title\"><a class=\"a-link-normal\" href=\"/title/tt1615918/?ref_=bo_cso_table_29\">Alvin and the Chipmunks: Chipwrecked</a></td><td class=\"a-text-right mojo-field-type-rank\">29</td><td class=\"a-text-right mojo-field-type-money\">$133,110,742</td><td class=\"a-text-right mojo-field-type-rank\">461</td><td class=\"a-text-left mojo-field-type-year\"><a class=\"a-link-normal\" href=\"/year/2011/?ref_=bo_cso_table_29\">2011</a></td></tr><tr><td class=\"a-text-left mojo-header-column mojo-truncate mojo-field-type-title\"><a class=\"a-link-normal\" href=\"/title/tt2357291/?ref_=bo_cso_table_30\">Rio 2</a></td><td class=\"a-text-right mojo-field-type-rank\">30</td><td class=\"a-text-right mojo-field-type-money\">$131,538,435</td><td class=\"a-text-right mojo-field-type-rank\">471</td><td class=\"a-text-left mojo-field-type-year\"><a class=\"a-link-normal\" href=\"/year/2014/?ref_=bo_cso_table_30\">2014</a></td></tr><tr><td class=\"a-text-left mojo-header-column mojo-truncate mojo-field-type-title\"><a class=\"a-link-normal\" href=\"/title/tt2452042/?ref_=bo_cso_table_31\">The Peanuts Movie</a></td><td class=\"a-text-right mojo-field-type-rank\">31</td><td class=\"a-text-right mojo-field-type-money\">$130,178,411</td><td class=\"a-text-right mojo-field-type-rank\">479</td><td class=\"a-text-left mojo-field-type-year\"><a class=\"a-link-normal\" href=\"/year/2015/?ref_=bo_cso_table_31\">2015</a></td></tr><tr><td class=\"a-text-left mojo-header-column mojo-truncate mojo-field-type-title\"><a class=\"a-link-normal\" href=\"/title/tt0120762/?ref_=bo_cso_table_32\">Mulan</a></td><td class=\"a-text-right mojo-field-type-rank\">32</td><td class=\"a-text-right mojo-field-type-money\">$120,620,254</td><td class=\"a-text-right mojo-field-type-rank\">546</td><td class=\"a-text-left mojo-field-type-year\"><a class=\"a-link-normal\" href=\"/year/1998/?ref_=bo_cso_table_32\">1998</a></td></tr><tr><td class=\"a-text-left mojo-header-column mojo-truncate mojo-field-type-title\"><a class=\"a-link-normal\" href=\"/title/tt0097757/?ref_=bo_cso_table_33\">The Little Mermaid</a></td><td class=\"a-text-right mojo-field-type-rank\">33</td><td class=\"a-text-right mojo-field-type-money\">$111,543,479</td><td class=\"a-text-right mojo-field-type-rank\">622</td><td class=\"a-text-left mojo-field-type-year\"><a class=\"a-link-normal\" href=\"/year/1989/?ref_=bo_cso_table_33\">1989</a></td></tr><tr><td class=\"a-text-left mojo-header-column mojo-truncate mojo-field-type-title\"><a class=\"a-link-normal\" href=\"/title/tt0247638/?ref_=bo_cso_table_34\">The Princess Diaries</a></td><td class=\"a-text-right mojo-field-type-rank\">34</td><td class=\"a-text-right mojo-field-type-money\">$108,248,956</td><td class=\"a-text-right mojo-field-type-rank\">649</td><td class=\"a-text-left mojo-field-type-year\"><a class=\"a-link-normal\" href=\"/year/2001/?ref_=bo_cso_table_34\">2001</a></td></tr><tr><td class=\"a-text-left mojo-header-column mojo-truncate mojo-field-type-title\"><a class=\"a-link-normal\" href=\"/title/tt0120630/?ref_=bo_cso_table_35\">Chicken Run</a></td><td class=\"a-text-right mojo-field-type-rank\">35</td><td class=\"a-text-right mojo-field-type-money\">$106,834,564</td><td class=\"a-text-right mojo-field-type-rank\">663</td><td class=\"a-text-left mojo-field-type-year\"><a class=\"a-link-normal\" href=\"/year/2000/?ref_=bo_cso_table_35\">2000</a></td></tr><tr><td class=\"a-text-left mojo-header-column mojo-truncate mojo-field-type-title\"><a class=\"a-link-normal\" href=\"/title/tt0780521/?ref_=bo_cso_table_36\">The Princess and the Frog</a></td><td class=\"a-text-right mojo-field-type-rank\">36</td><td class=\"a-text-right mojo-field-type-money\">$104,400,899</td><td class=\"a-text-right mojo-field-type-rank\">684</td><td class=\"a-text-left mojo-field-type-year\"><a class=\"a-link-normal\" href=\"/year/2009/?ref_=bo_cso_table_36\">2009</a></td></tr><tr><td class=\"a-text-left mojo-header-column mojo-truncate mojo-field-type-title\"><a class=\"a-link-normal\" href=\"/title/tt0058331/?ref_=bo_cso_table_37\">Mary Poppins</a></td><td class=\"a-text-right mojo-field-type-rank\">37</td><td class=\"a-text-right mojo-field-type-money\">$102,272,727</td><td class=\"a-text-right mojo-field-type-rank\">710</td><td class=\"a-text-left mojo-field-type-year\">1964</td></tr><tr><td class=\"a-text-left mojo-header-column mojo-truncate mojo-field-type-title\"><a class=\"a-link-normal\" href=\"/title/tt0034492/?ref_=bo_cso_table_38\">Bambi</a></td><td class=\"a-text-right mojo-field-type-rank\">38</td><td class=\"a-text-right mojo-field-type-money\">$102,247,150</td><td class=\"a-text-right mojo-field-type-rank\">711</td><td class=\"a-text-left mojo-field-type-year\">1942</td></tr><tr><td class=\"a-text-left mojo-header-column mojo-truncate mojo-field-type-title\"><a class=\"a-link-normal\" href=\"/title/tt0134067/?ref_=bo_cso_table_39\">The Rugrats Movie</a></td><td class=\"a-text-right mojo-field-type-rank\">39</td><td class=\"a-text-right mojo-field-type-money\">$100,494,675</td><td class=\"a-text-right mojo-field-type-rank\">741</td><td class=\"a-text-left mojo-field-type-year\"><a class=\"a-link-normal\" href=\"/year/1998/?ref_=bo_cso_table_39\">1998</a></td></tr><tr><td class=\"a-text-left mojo-header-column mojo-truncate mojo-field-type-title\"><a class=\"a-link-normal\" href=\"/title/tt0065377/?ref_=bo_cso_table_40\">Airport</a></td><td class=\"a-text-right mojo-field-type-rank\">40</td><td class=\"a-text-right mojo-field-type-money\">$100,489,151</td><td class=\"a-text-right mojo-field-type-rank\">743</td><td class=\"a-text-left mojo-field-type-year\">1970</td></tr><tr><td class=\"a-text-left mojo-header-column mojo-truncate mojo-field-type-title\"><a class=\"a-link-normal\" href=\"/title/tt0116583/?ref_=bo_cso_table_41\">The Hunchback of Notre Dame</a></td><td class=\"a-text-right mojo-field-type-rank\">41</td><td class=\"a-text-right mojo-field-type-money\">$100,138,851</td><td class=\"a-text-right mojo-field-type-rank\">755</td><td class=\"a-text-left mojo-field-type-year\"><a class=\"a-link-normal\" href=\"/year/1996/?ref_=bo_cso_table_41\">1996</a></td></tr><tr><td class=\"a-text-left mojo-header-column mojo-truncate mojo-field-type-title\"><a class=\"a-link-normal\" href=\"/title/tt0377981/?ref_=bo_cso_table_42\">Gnomeo &amp; Juliet</a></td><td class=\"a-text-right mojo-field-type-rank\">42</td><td class=\"a-text-right mojo-field-type-money\">$99,967,670</td><td class=\"a-text-right mojo-field-type-rank\">761</td><td class=\"a-text-left mojo-field-type-year\"><a class=\"a-link-normal\" href=\"/year/2011/?ref_=bo_cso_table_42\">2011</a></td></tr><tr><td class=\"a-text-left mojo-header-column mojo-truncate mojo-field-type-title\"><a class=\"a-link-normal\" href=\"/title/tt0119282/?ref_=bo_cso_table_43\">Hercules</a></td><td class=\"a-text-right mojo-field-type-rank\">43</td><td class=\"a-text-right mojo-field-type-money\">$99,112,101</td><td class=\"a-text-right mojo-field-type-rank\">763</td><td class=\"a-text-left mojo-field-type-year\"><a class=\"a-link-normal\" href=\"/year/1997/?ref_=bo_cso_table_43\">1997</a></td></tr><tr><td class=\"a-text-left mojo-header-column mojo-truncate mojo-field-type-title\"><a class=\"a-link-normal\" href=\"/title/tt0396555/?ref_=bo_cso_table_44\">Meet the Robinsons</a></td><td class=\"a-text-right mojo-field-type-rank\">44</td><td class=\"a-text-right mojo-field-type-money\">$97,822,171</td><td class=\"a-text-right mojo-field-type-rank\">768</td><td class=\"a-text-left mojo-field-type-year\"><a class=\"a-link-normal\" href=\"/year/2007/?ref_=bo_cso_table_44\">2007</a></td></tr><tr><td class=\"a-text-left mojo-header-column mojo-truncate mojo-field-type-title\"><a class=\"a-link-normal\" href=\"/title/tt0368933/?ref_=bo_cso_table_45\">The Princess Diaries 2: Royal Engagement</a></td><td class=\"a-text-right mojo-field-type-rank\">45</td><td class=\"a-text-right mojo-field-type-money\">$95,170,481</td><td class=\"a-text-right mojo-field-type-rank\">788</td><td class=\"a-text-left mojo-field-type-year\"><a class=\"a-link-normal\" href=\"/year/2004/?ref_=bo_cso_table_45\">2004</a></td></tr><tr><td class=\"a-text-left mojo-header-column mojo-truncate mojo-field-type-title\"><a class=\"a-link-normal\" href=\"/title/tt0048280/?ref_=bo_cso_table_46\">Lady and the Tramp</a></td><td class=\"a-text-right mojo-field-type-rank\">46</td><td class=\"a-text-right mojo-field-type-money\">$93,602,326</td><td class=\"a-text-right mojo-field-type-rank\">803</td><td class=\"a-text-left mojo-field-type-year\">1955</td></tr><tr><td class=\"a-text-left mojo-header-column mojo-truncate mojo-field-type-title\"><a class=\"a-link-normal\" href=\"/title/tt0042332/?ref_=bo_cso_table_47\">Cinderella</a></td><td class=\"a-text-right mojo-field-type-rank\">47</td><td class=\"a-text-right mojo-field-type-money\">$93,141,149</td><td class=\"a-text-right mojo-field-type-rank\">811</td><td class=\"a-text-left mojo-field-type-year\">1950</td></tr><tr><td class=\"a-text-left mojo-header-column mojo-truncate mojo-field-type-title\"><a class=\"a-link-normal\" href=\"/title/tt0962726/?ref_=bo_cso_table_48\">High School Musical 3: Senior Year</a></td><td class=\"a-text-right mojo-field-type-rank\">48</td><td class=\"a-text-right mojo-field-type-money\">$90,559,416</td><td class=\"a-text-right mojo-field-type-rank\">839</td><td class=\"a-text-left mojo-field-type-year\"><a class=\"a-link-normal\" href=\"/year/2008/?ref_=bo_cso_table_48\">2008</a></td></tr><tr><td class=\"a-text-left mojo-header-column mojo-truncate mojo-field-type-title\"><a class=\"a-link-normal\" href=\"/title/tt0120917/?ref_=bo_cso_table_49\">The Emperor's New Groove</a></td><td class=\"a-text-right mojo-field-type-rank\">49</td><td class=\"a-text-right mojo-field-type-money\">$89,302,687</td><td class=\"a-text-right mojo-field-type-rank\">852</td><td class=\"a-text-left mojo-field-type-year\"><a class=\"a-link-normal\" href=\"/year/2000/?ref_=bo_cso_table_49\">2000</a></td></tr><tr><td class=\"a-text-left mojo-header-column mojo-truncate mojo-field-type-title\"><a class=\"a-link-normal\" href=\"/title/tt0046183/?ref_=bo_cso_table_50\">Peter Pan</a></td><td class=\"a-text-right mojo-field-type-rank\">50</td><td class=\"a-text-right mojo-field-type-money\">$87,404,651</td><td class=\"a-text-right mojo-field-type-rank\">869</td><td class=\"a-text-left mojo-field-type-year\">1953</td></tr><tr><td class=\"a-text-left mojo-header-column mojo-truncate mojo-field-type-title\"><a class=\"a-link-normal\" href=\"/title/tt0190641/?ref_=bo_cso_table_51\">Gekijô-ban poketto monsutâ - Myûtsû no gyakushû</a></td><td class=\"a-text-right mojo-field-type-rank\">51</td><td class=\"a-text-right mojo-field-type-money\">$85,744,662</td><td class=\"a-text-right mojo-field-type-rank\">890</td><td class=\"a-text-left mojo-field-type-year\"><a class=\"a-link-normal\" href=\"/year/1999/?ref_=bo_cso_table_51\">1999</a></td></tr><tr><td class=\"a-text-left mojo-header-column mojo-truncate mojo-field-type-title\"><a class=\"a-link-normal\" href=\"/title/tt0328880/?ref_=bo_cso_table_52\">Brother Bear</a></td><td class=\"a-text-right mojo-field-type-rank\">52</td><td class=\"a-text-right mojo-field-type-money\">$85,336,277</td><td class=\"a-text-right mojo-field-type-rank\">895</td><td class=\"a-text-left mojo-field-type-year\"><a class=\"a-link-normal\" href=\"/year/2003/?ref_=bo_cso_table_52\">2003</a></td></tr><tr><td class=\"a-text-left mojo-header-column mojo-truncate mojo-field-type-title\"><a class=\"a-link-normal\" href=\"/title/tt0452681/?ref_=bo_cso_table_53\">The Santa Clause 3: The Escape Clause</a></td><td class=\"a-text-right mojo-field-type-rank\">53</td><td class=\"a-text-right mojo-field-type-money\">$84,500,122</td><td class=\"a-text-right mojo-field-type-rank\">909</td><td class=\"a-text-left mojo-field-type-year\"><a class=\"a-link-normal\" href=\"/year/2006/?ref_=bo_cso_table_53\">2006</a></td></tr><tr><td class=\"a-text-left mojo-header-column mojo-truncate mojo-field-type-title\"><a class=\"a-link-normal\" href=\"/title/tt0032910/?ref_=bo_cso_table_54\">Pinocchio</a></td><td class=\"a-text-right mojo-field-type-rank\">54</td><td class=\"a-text-right mojo-field-type-money\">$84,254,167</td><td class=\"a-text-right mojo-field-type-rank\">913</td><td class=\"a-text-left mojo-field-type-year\">1940</td></tr><tr><td class=\"a-text-left mojo-header-column mojo-truncate mojo-field-type-title\"><a class=\"a-link-normal\" href=\"/title/tt0413895/?ref_=bo_cso_table_55\">Charlotte's Web</a></td><td class=\"a-text-right mojo-field-type-rank\">55</td><td class=\"a-text-right mojo-field-type-money\">$82,985,708</td><td class=\"a-text-right mojo-field-type-rank\">938</td><td class=\"a-text-left mojo-field-type-year\"><a class=\"a-link-normal\" href=\"/year/2006/?ref_=bo_cso_table_55\">2006</a></td></tr><tr><td class=\"a-text-left mojo-header-column mojo-truncate mojo-field-type-title\"><a class=\"a-link-normal\" href=\"/title/tt0079945/?ref_=bo_cso_table_56\">Star Trek: The Motion Picture</a></td><td class=\"a-text-right mojo-field-type-rank\">56</td><td class=\"a-text-right mojo-field-type-money\">$82,604,699</td><td class=\"a-text-right mojo-field-type-rank\">943</td><td class=\"a-text-left mojo-field-type-year\"><a class=\"a-link-normal\" href=\"/year/1979/?ref_=bo_cso_table_56\">1979</a></td></tr><tr><td class=\"a-text-left mojo-header-column mojo-truncate mojo-field-type-title\"><a class=\"a-link-normal\" href=\"/title/tt0268397/?ref_=bo_cso_table_57\">Jimmy Neutron: Boy Genius</a></td><td class=\"a-text-right mojo-field-type-rank\">57</td><td class=\"a-text-right mojo-field-type-money\">$80,936,232</td><td class=\"a-text-right mojo-field-type-rank\">973</td><td class=\"a-text-left mojo-field-type-year\"><a class=\"a-link-normal\" href=\"/year/2001/?ref_=bo_cso_table_57\">2001</a></td></tr><tr><td class=\"a-text-left mojo-header-column mojo-truncate mojo-field-type-title\"><a class=\"a-link-normal\" href=\"/title/tt1114677/?ref_=bo_cso_table_58\">Hannah Montana: The Movie</a></td><td class=\"a-text-right mojo-field-type-rank\">58</td><td class=\"a-text-right mojo-field-type-money\">$79,576,189</td><td class=\"a-text-right mojo-field-type-rank\">1,000</td><td class=\"a-text-left mojo-field-type-year\"><a class=\"a-link-normal\" href=\"/year/2009/?ref_=bo_cso_table_58\">2009</a></td></tr><tr><td class=\"a-text-left mojo-header-column mojo-truncate mojo-field-type-title\"><a class=\"a-link-normal\" href=\"/title/tt0428803/?ref_=bo_cso_table_59\">La marche de l'empereur</a></td><td class=\"a-text-right mojo-field-type-rank\">59</td><td class=\"a-text-right mojo-field-type-money\">$77,437,223</td><td class=\"a-text-right mojo-field-type-rank\">1,026</td><td class=\"a-text-left mojo-field-type-year\"><a class=\"a-link-normal\" href=\"/year/2005/?ref_=bo_cso_table_59\">2005</a></td></tr><tr><td class=\"a-text-left mojo-header-column mojo-truncate mojo-field-type-title\"><a class=\"a-link-normal\" href=\"/title/tt0213203/?ref_=bo_cso_table_60\">Rugrats in Paris: The Movie - Rugrats II</a></td><td class=\"a-text-right mojo-field-type-rank\">60</td><td class=\"a-text-right mojo-field-type-money\">$76,507,756</td><td class=\"a-text-right mojo-field-type-rank\">1,038</td><td class=\"a-text-left mojo-field-type-year\"><a class=\"a-link-normal\" href=\"/year/2000/?ref_=bo_cso_table_60\">2000</a></td></tr><tr><td class=\"a-text-left mojo-header-column mojo-truncate mojo-field-type-title\"><a class=\"a-link-normal\" href=\"/title/tt0032455/?ref_=bo_cso_table_61\">Fantasia</a></td><td class=\"a-text-right mojo-field-type-rank\">61</td><td class=\"a-text-right mojo-field-type-money\">$76,408,097</td><td class=\"a-text-right mojo-field-type-rank\">1,041</td><td class=\"a-text-left mojo-field-type-year\">1941</td></tr><tr><td class=\"a-text-left mojo-header-column mojo-truncate mojo-field-type-title\"><a class=\"a-link-normal\" href=\"/title/tt0265662/?ref_=bo_cso_table_62\">The Rookie</a></td><td class=\"a-text-right mojo-field-type-rank\">62</td><td class=\"a-text-right mojo-field-type-money\">$75,600,072</td><td class=\"a-text-right mojo-field-type-rank\">1,063</td><td class=\"a-text-left mojo-field-type-year\"><a class=\"a-link-normal\" href=\"/year/2002/?ref_=bo_cso_table_62\">2002</a></td></tr><tr><td class=\"a-text-left mojo-header-column mojo-truncate mojo-field-type-title\"><a class=\"a-link-normal\" href=\"/title/tt0052618/?ref_=bo_cso_table_63\">Ben-Hur</a></td><td class=\"a-text-right mojo-field-type-rank\">63</td><td class=\"a-text-right mojo-field-type-money\">$74,422,622</td><td class=\"a-text-right mojo-field-type-rank\">1,082</td><td class=\"a-text-left mojo-field-type-year\">1959</td></tr><tr><td class=\"a-text-left mojo-header-column mojo-truncate mojo-field-type-title\"><a class=\"a-link-normal\" href=\"/title/tt0095776/?ref_=bo_cso_table_64\">Oliver &amp; Company</a></td><td class=\"a-text-right mojo-field-type-rank\">64</td><td class=\"a-text-right mojo-field-type-money\">$74,151,346</td><td class=\"a-text-right mojo-field-type-rank\">1,089</td><td class=\"a-text-left mojo-field-type-year\"><a class=\"a-link-normal\" href=\"/year/1988/?ref_=bo_cso_table_64\">1988</a></td></tr><tr><td class=\"a-text-left mojo-header-column mojo-truncate mojo-field-type-title\"><a class=\"a-link-normal\" href=\"/title/tt0166813/?ref_=bo_cso_table_65\">Spirit: Stallion of the Cimarron</a></td><td class=\"a-text-right mojo-field-type-rank\">65</td><td class=\"a-text-right mojo-field-type-money\">$73,280,117</td><td class=\"a-text-right mojo-field-type-rank\">1,101</td><td class=\"a-text-left mojo-field-type-year\"><a class=\"a-link-normal\" href=\"/year/2002/?ref_=bo_cso_table_65\">2002</a></td></tr><tr><td class=\"a-text-left mojo-header-column mojo-truncate mojo-field-type-title\"><a class=\"a-link-normal\" href=\"/title/tt1702443/?ref_=bo_cso_table_66\">Justin Bieber: Never Say Never</a></td><td class=\"a-text-right mojo-field-type-rank\">66</td><td class=\"a-text-right mojo-field-type-money\">$73,013,910</td><td class=\"a-text-right mojo-field-type-rank\">1,110</td><td class=\"a-text-left mojo-field-type-year\"><a class=\"a-link-normal\" href=\"/year/2011/?ref_=bo_cso_table_66\">2011</a></td></tr><tr><td class=\"a-text-left mojo-header-column mojo-truncate mojo-field-type-title\"><a class=\"a-link-normal\" href=\"/title/tt0058385/?ref_=bo_cso_table_67\">My Fair Lady</a></td><td class=\"a-text-right mojo-field-type-rank\">67</td><td class=\"a-text-right mojo-field-type-money\">$72,560,711</td><td class=\"a-text-right mojo-field-type-rank\">1,118</td><td class=\"a-text-left mojo-field-type-year\">1964</td></tr><tr><td class=\"a-text-left mojo-header-column mojo-truncate mojo-field-type-title\"><a class=\"a-link-normal\" href=\"/title/tt0076618/?ref_=bo_cso_table_68\">The Rescuers</a></td><td class=\"a-text-right mojo-field-type-rank\">68</td><td class=\"a-text-right mojo-field-type-money\">$71,215,869</td><td class=\"a-text-right mojo-field-type-rank\">1,146</td><td class=\"a-text-left mojo-field-type-year\"><a class=\"a-link-normal\" href=\"/year/1977/?ref_=bo_cso_table_68\">1977</a></td></tr><tr><td class=\"a-text-left mojo-header-column mojo-truncate mojo-field-type-title\"><a class=\"a-link-normal\" href=\"/title/tt0211181/?ref_=bo_cso_table_69\">102 Dalmatians</a></td><td class=\"a-text-right mojo-field-type-rank\">69</td><td class=\"a-text-right mojo-field-type-money\">$66,957,026</td><td class=\"a-text-right mojo-field-type-rank\">1,235</td><td class=\"a-text-left mojo-field-type-year\"><a class=\"a-link-normal\" href=\"/year/2000/?ref_=bo_cso_table_69\">2000</a></td></tr><tr><td class=\"a-text-left mojo-header-column mojo-truncate mojo-field-type-title\"><a class=\"a-link-normal\" href=\"/title/tt0400497/?ref_=bo_cso_table_70\">Herbie Fully Loaded</a></td><td class=\"a-text-right mojo-field-type-rank\">70</td><td class=\"a-text-right mojo-field-type-money\">$66,023,816</td><td class=\"a-text-right mojo-field-type-rank\">1,257</td><td class=\"a-text-left mojo-field-type-year\"><a class=\"a-link-normal\" href=\"/year/2005/?ref_=bo_cso_table_70\">2005</a></td></tr><tr><td class=\"a-text-left mojo-header-column mojo-truncate mojo-field-type-title\"><a class=\"a-link-normal\" href=\"/title/tt0069495/?ref_=bo_cso_table_71\">What's Up, Doc?</a></td><td class=\"a-text-right mojo-field-type-rank\">71</td><td class=\"a-text-right mojo-field-type-money\">$66,000,000</td><td class=\"a-text-right mojo-field-type-rank\">1,259</td><td class=\"a-text-left mojo-field-type-year\">1972</td></tr><tr><td class=\"a-text-left mojo-header-column mojo-truncate mojo-field-type-title\"><a class=\"a-link-normal\" href=\"/title/tt0079588/?ref_=bo_cso_table_72\">The Muppet Movie</a></td><td class=\"a-text-right mojo-field-type-rank\">72</td><td class=\"a-text-right mojo-field-type-money\">$65,810,475</td><td class=\"a-text-right mojo-field-type-rank\">1,263</td><td class=\"a-text-left mojo-field-type-year\"><a class=\"a-link-normal\" href=\"/year/1979/?ref_=bo_cso_table_72\">1979</a></td></tr><tr><td class=\"a-text-left mojo-header-column mojo-truncate mojo-field-type-title\"><a class=\"a-link-normal\" href=\"/title/tt0049833/?ref_=bo_cso_table_73\">The Ten Commandments</a></td><td class=\"a-text-right mojo-field-type-rank\">73</td><td class=\"a-text-right mojo-field-type-money\">$65,500,000</td><td class=\"a-text-right mojo-field-type-rank\">1,270</td><td class=\"a-text-left mojo-field-type-year\">1956</td></tr><tr><td class=\"a-text-left mojo-header-column mojo-truncate mojo-field-type-title\"><a class=\"a-link-normal\" href=\"/title/tt1127884/?ref_=bo_cso_table_74\">Hannah Montana and Miley Cyrus: Best of Both Worlds Concert</a></td><td class=\"a-text-right mojo-field-type-rank\">74</td><td class=\"a-text-right mojo-field-type-money\">$65,281,781</td><td class=\"a-text-right mojo-field-type-rank\">1,274</td><td class=\"a-text-left mojo-field-type-year\"><a class=\"a-link-normal\" href=\"/year/2008/?ref_=bo_cso_table_74\">2008</a></td></tr><tr><td class=\"a-text-left mojo-header-column mojo-truncate mojo-field-type-title\"><a class=\"a-link-normal\" href=\"/title/tt0112431/?ref_=bo_cso_table_75\">Babe</a></td><td class=\"a-text-right mojo-field-type-rank\">75</td><td class=\"a-text-right mojo-field-type-money\">$63,658,910</td><td class=\"a-text-right mojo-field-type-rank\">1,320</td><td class=\"a-text-left mojo-field-type-year\"><a class=\"a-link-normal\" href=\"/year/1995/?ref_=bo_cso_table_75\">1995</a></td></tr><tr><td class=\"a-text-left mojo-header-column mojo-truncate mojo-field-type-title\"><a class=\"a-link-normal\" href=\"/title/tt0082406/?ref_=bo_cso_table_76\">The Fox and the Hound</a></td><td class=\"a-text-right mojo-field-type-rank\">76</td><td class=\"a-text-right mojo-field-type-money\">$63,456,988</td><td class=\"a-text-right mojo-field-type-rank\">1,324</td><td class=\"a-text-left mojo-field-type-year\"><a class=\"a-link-normal\" href=\"/year/1981/?ref_=bo_cso_table_76\">1981</a></td></tr><tr><td class=\"a-text-left mojo-header-column mojo-truncate mojo-field-type-title\"><a class=\"a-link-normal\" href=\"/title/tt0120910/?ref_=bo_cso_table_77\">Fantasia 2000</a></td><td class=\"a-text-right mojo-field-type-rank\">77</td><td class=\"a-text-right mojo-field-type-money\">$60,655,420</td><td class=\"a-text-right mojo-field-type-rank\">1,383</td><td class=\"a-text-left mojo-field-type-year\"><a class=\"a-link-normal\" href=\"/year/2000/?ref_=bo_cso_table_77\">2000</a></td></tr><tr><td class=\"a-text-left mojo-header-column mojo-truncate mojo-field-type-title\"><a class=\"a-link-normal\" href=\"/title/tt0062622/?ref_=bo_cso_table_78\">2001: A Space Odyssey</a></td><td class=\"a-text-right mojo-field-type-rank\">78</td><td class=\"a-text-right mojo-field-type-money\">$60,541,301</td><td class=\"a-text-right mojo-field-type-rank\">1,386</td><td class=\"a-text-left mojo-field-type-year\">1968</td></tr><tr><td class=\"a-text-left mojo-header-column mojo-truncate mojo-field-type-title\"><a class=\"a-link-normal\" href=\"/title/tt0118617/?ref_=bo_cso_table_79\">Anastasia</a></td><td class=\"a-text-right mojo-field-type-rank\">79</td><td class=\"a-text-right mojo-field-type-money\">$58,406,347</td><td class=\"a-text-right mojo-field-type-rank\">1,450</td><td class=\"a-text-left mojo-field-type-year\"><a class=\"a-link-normal\" href=\"/year/1997/?ref_=bo_cso_table_79\">1997</a></td></tr><tr><td class=\"a-text-left mojo-header-column mojo-truncate mojo-field-type-title\"><a class=\"a-link-normal\" href=\"/title/tt0381971/?ref_=bo_cso_table_80\">Curious George</a></td><td class=\"a-text-right mojo-field-type-rank\">80</td><td class=\"a-text-right mojo-field-type-money\">$58,360,760</td><td class=\"a-text-right mojo-field-type-rank\">1,452</td><td class=\"a-text-left mojo-field-type-year\"><a class=\"a-link-normal\" href=\"/year/2006/?ref_=bo_cso_table_80\">2006</a></td></tr><tr><td class=\"a-text-left mojo-header-column mojo-truncate mojo-field-type-title\"><a class=\"a-link-normal\" href=\"/title/tt0056937/?ref_=bo_cso_table_81\">Cleopatra</a></td><td class=\"a-text-right mojo-field-type-rank\">81</td><td class=\"a-text-right mojo-field-type-money\">$57,777,778</td><td class=\"a-text-right mojo-field-type-rank\">1,470</td><td class=\"a-text-left mojo-field-type-year\">1963</td></tr><tr><td class=\"a-text-left mojo-header-column mojo-truncate mojo-field-type-title\"><a class=\"a-link-normal\" href=\"/title/tt0312004/?ref_=bo_cso_table_82\">The Curse of the Were-Rabbit</a></td><td class=\"a-text-right mojo-field-type-rank\">82</td><td class=\"a-text-right mojo-field-type-money\">$56,110,897</td><td class=\"a-text-right mojo-field-type-rank\">1,528</td><td class=\"a-text-left mojo-field-type-year\"><a class=\"a-link-normal\" href=\"/year/2005/?ref_=bo_cso_table_82\">2005</a></td></tr><tr><td class=\"a-text-left mojo-header-column mojo-truncate mojo-field-type-title\"><a class=\"a-link-normal\" href=\"/title/tt1433813/?ref_=bo_cso_table_83\">Hubble 3D</a></td><td class=\"a-text-right mojo-field-type-rank\">83</td><td class=\"a-text-right mojo-field-type-money\">$52,507,086</td><td class=\"a-text-right mojo-field-type-rank\">1,639</td><td class=\"a-text-left mojo-field-type-year\"><a class=\"a-link-normal\" href=\"/year/2010/?ref_=bo_cso_table_83\">2010</a></td></tr><tr><td class=\"a-text-left mojo-header-column mojo-truncate mojo-field-type-title\"><a class=\"a-link-normal\" href=\"/title/tt0062994/?ref_=bo_cso_table_84\">Funny Girl</a></td><td class=\"a-text-right mojo-field-type-rank\">84</td><td class=\"a-text-right mojo-field-type-money\">$52,223,306</td><td class=\"a-text-right mojo-field-type-rank\">1,648</td><td class=\"a-text-left mojo-field-type-year\">1968</td></tr><tr><td class=\"a-text-left mojo-header-column mojo-truncate mojo-field-type-title\"><a class=\"a-link-normal\" href=\"/title/tt0053285/?ref_=bo_cso_table_85\">Sleeping Beauty</a></td><td class=\"a-text-right mojo-field-type-rank\">85</td><td class=\"a-text-right mojo-field-type-money\">$51,600,000</td><td class=\"a-text-right mojo-field-type-rank\">1,675</td><td class=\"a-text-left mojo-field-type-year\">1959</td></tr><tr><td class=\"a-text-left mojo-header-column mojo-truncate mojo-field-type-title\"><a class=\"a-link-normal\" href=\"/title/tt0420238/?ref_=bo_cso_table_86\">The Tale of Despereaux</a></td><td class=\"a-text-right mojo-field-type-rank\">86</td><td class=\"a-text-right mojo-field-type-money\">$50,877,145</td><td class=\"a-text-right mojo-field-type-rank\">1,700</td><td class=\"a-text-left mojo-field-type-year\"><a class=\"a-link-normal\" href=\"/year/2008/?ref_=bo_cso_table_86\">2008</a></td></tr><tr><td class=\"a-text-left mojo-header-column mojo-truncate mojo-field-type-title\"><a class=\"a-link-normal\" href=\"/title/tt0280030/?ref_=bo_cso_table_87\">Return to Never Land</a></td><td class=\"a-text-right mojo-field-type-rank\">87</td><td class=\"a-text-right mojo-field-type-money\">$48,430,258</td><td class=\"a-text-right mojo-field-type-rank\">1,784</td><td class=\"a-text-left mojo-field-type-year\"><a class=\"a-link-normal\" href=\"/year/2002/?ref_=bo_cso_table_87\">2002</a></td></tr><tr><td class=\"a-text-left mojo-header-column mojo-truncate mojo-field-type-title\"><a class=\"a-link-normal\" href=\"/title/tt0095489/?ref_=bo_cso_table_88\">The Land Before Time</a></td><td class=\"a-text-right mojo-field-type-rank\">88</td><td class=\"a-text-right mojo-field-type-money\">$48,092,846</td><td class=\"a-text-right mojo-field-type-rank\">1,797</td><td class=\"a-text-left mojo-field-type-year\"><a class=\"a-link-normal\" href=\"/year/1988/?ref_=bo_cso_table_88\">1988</a></td></tr><tr><td class=\"a-text-left mojo-header-column mojo-truncate mojo-field-type-title\"><a class=\"a-link-normal\" href=\"/title/tt0283426/?ref_=bo_cso_table_89\">The Jungle Book 2</a></td><td class=\"a-text-right mojo-field-type-rank\">89</td><td class=\"a-text-right mojo-field-type-money\">$47,901,582</td><td class=\"a-text-right mojo-field-type-rank\">1,807</td><td class=\"a-text-left mojo-field-type-year\"><a class=\"a-link-normal\" href=\"/year/2003/?ref_=bo_cso_table_89\">2003</a></td></tr><tr><td class=\"a-text-left mojo-header-column mojo-truncate mojo-field-type-title\"><a class=\"a-link-normal\" href=\"/title/tt0090633/?ref_=bo_cso_table_90\">An American Tail</a></td><td class=\"a-text-right mojo-field-type-rank\">90</td><td class=\"a-text-right mojo-field-type-money\">$47,483,002</td><td class=\"a-text-right mojo-field-type-rank\">1,821</td><td class=\"a-text-left mojo-field-type-year\"><a class=\"a-link-normal\" href=\"/year/1986/?ref_=bo_cso_table_90\">1986</a></td></tr><tr><td class=\"a-text-left mojo-header-column mojo-truncate mojo-field-type-title\"><a class=\"a-link-normal\" href=\"/title/tt0424942/?ref_=bo_cso_table_91\">Deep Sea</a></td><td class=\"a-text-right mojo-field-type-rank\">91</td><td class=\"a-text-right mojo-field-type-money\">$46,405,110</td><td class=\"a-text-right mojo-field-type-rank\">1,867</td><td class=\"a-text-left mojo-field-type-year\"><a class=\"a-link-normal\" href=\"/year/2006/?ref_=bo_cso_table_91\">2006</a></td></tr><tr><td class=\"a-text-left mojo-header-column mojo-truncate mojo-field-type-title\"><a class=\"a-link-normal\" href=\"/title/tt0057193/?ref_=bo_cso_table_92\">It's a Mad Mad Mad Mad World</a></td><td class=\"a-text-right mojo-field-type-rank\">92</td><td class=\"a-text-right mojo-field-type-money\">$46,332,858</td><td class=\"a-text-right mojo-field-type-rank\">1,870</td><td class=\"a-text-left mojo-field-type-year\">1963</td></tr><tr><td class=\"a-text-left mojo-header-column mojo-truncate mojo-field-type-title\"><a class=\"a-link-normal\" href=\"/title/tt0997047/?ref_=bo_cso_table_93\">College Road Trip</a></td><td class=\"a-text-right mojo-field-type-rank\">93</td><td class=\"a-text-right mojo-field-type-money\">$45,610,425</td><td class=\"a-text-right mojo-field-type-rank\">1,891</td><td class=\"a-text-left mojo-field-type-year\"><a class=\"a-link-normal\" href=\"/year/2008/?ref_=bo_cso_table_93\">2008</a></td></tr><tr><td class=\"a-text-left mojo-header-column mojo-truncate mojo-field-type-title\"><a class=\"a-link-normal\" href=\"/title/tt0220099/?ref_=bo_cso_table_94\">The Tigger Movie</a></td><td class=\"a-text-right mojo-field-type-rank\">94</td><td class=\"a-text-right mojo-field-type-money\">$45,554,533</td><td class=\"a-text-right mojo-field-type-rank\">1,893</td><td class=\"a-text-left mojo-field-type-year\"><a class=\"a-link-normal\" href=\"/year/2000/?ref_=bo_cso_table_94\">2000</a></td></tr><tr><td class=\"a-text-left mojo-header-column mojo-truncate mojo-field-type-title\"><a class=\"a-link-normal\" href=\"/title/tt0063374/?ref_=bo_cso_table_95\">The Odd Couple</a></td><td class=\"a-text-right mojo-field-type-rank\">95</td><td class=\"a-text-right mojo-field-type-money\">$44,527,234</td><td class=\"a-text-right mojo-field-type-rank\">1,940</td><td class=\"a-text-left mojo-field-type-year\">1968</td></tr><tr><td class=\"a-text-left mojo-header-column mojo-truncate mojo-field-type-title\"><a class=\"a-link-normal\" href=\"/title/tt0210234/?ref_=bo_cso_table_96\">Gekijô-ban poketto monsutâ: Maboroshi no pokemon: Rugia bakutan</a></td><td class=\"a-text-right mojo-field-type-rank\">96</td><td class=\"a-text-right mojo-field-type-money\">$43,758,684</td><td class=\"a-text-right mojo-field-type-rank\">1,972</td><td class=\"a-text-left mojo-field-type-year\"><a class=\"a-link-normal\" href=\"/year/2000/?ref_=bo_cso_table_96\">2000</a></td></tr><tr><td class=\"a-text-left mojo-header-column mojo-truncate mojo-field-type-title\"><a class=\"a-link-normal\" href=\"/title/tt0048960/?ref_=bo_cso_table_97\">Around the World in 80 Days</a></td><td class=\"a-text-right mojo-field-type-rank\">97</td><td class=\"a-text-right mojo-field-type-money\">$42,000,000</td><td class=\"a-text-right mojo-field-type-rank\">2,051</td><td class=\"a-text-left mojo-field-type-year\">1956</td></tr><tr><td class=\"a-text-left mojo-header-column mojo-truncate mojo-field-type-title\"><a class=\"a-link-normal\" href=\"/title/tt0072081/?ref_=bo_cso_table_98\">The Return of the Pink Panther</a></td><td class=\"a-text-right mojo-field-type-rank\">98</td><td class=\"a-text-right mojo-field-type-money\">$41,833,347</td><td class=\"a-text-right mojo-field-type-rank\">2,057</td><td class=\"a-text-left mojo-field-type-year\">1975</td></tr><tr><td class=\"a-text-left mojo-header-column mojo-truncate mojo-field-type-title\"><a class=\"a-link-normal\" href=\"/title/tt0107131/?ref_=bo_cso_table_99\">Homeward Bound: The Incredible Journey</a></td><td class=\"a-text-right mojo-field-type-rank\">99</td><td class=\"a-text-right mojo-field-type-money\">$41,833,324</td><td class=\"a-text-right mojo-field-type-rank\">2,058</td><td class=\"a-text-left mojo-field-type-year\"><a class=\"a-link-normal\" href=\"/year/1993/?ref_=bo_cso_table_99\">1993</a></td></tr><tr><td class=\"a-text-left mojo-header-column mojo-truncate mojo-field-type-title\"><a class=\"a-link-normal\" href=\"/title/tt0054357/?ref_=bo_cso_table_100\">Swiss Family Robinson</a></td><td class=\"a-text-right mojo-field-type-rank\">100</td><td class=\"a-text-right mojo-field-type-money\">$40,356,000</td><td class=\"a-text-right mojo-field-type-rank\">2,128</td><td class=\"a-text-left mojo-field-type-year\">1960</td></tr><tr><td class=\"a-text-left mojo-header-column mojo-truncate mojo-field-type-title\"><a class=\"a-link-normal\" href=\"/title/tt0076538/?ref_=bo_cso_table_101\">Pete's Dragon</a></td><td class=\"a-text-right mojo-field-type-rank\">101</td><td class=\"a-text-right mojo-field-type-money\">$39,588,000</td><td class=\"a-text-right mojo-field-type-rank\">2,164</td><td class=\"a-text-left mojo-field-type-year\"><a class=\"a-link-normal\" href=\"/year/1977/?ref_=bo_cso_table_101\">1977</a></td></tr><tr><td class=\"a-text-left mojo-header-column mojo-truncate mojo-field-type-title\"><a class=\"a-link-normal\" href=\"/title/tt0071206/?ref_=bo_cso_table_102\">Benji</a></td><td class=\"a-text-right mojo-field-type-rank\">102</td><td class=\"a-text-right mojo-field-type-money\">$39,552,000</td><td class=\"a-text-right mojo-field-type-rank\">2,167</td><td class=\"a-text-left mojo-field-type-year\">1974</td></tr><tr><td class=\"a-text-left mojo-header-column mojo-truncate mojo-field-type-title\"><a class=\"a-link-normal\" href=\"/title/tt0091149/?ref_=bo_cso_table_103\">The Great Mouse Detective</a></td><td class=\"a-text-right mojo-field-type-rank\">103</td><td class=\"a-text-right mojo-field-type-money\">$38,625,550</td><td class=\"a-text-right mojo-field-type-rank\">2,211</td><td class=\"a-text-left mojo-field-type-year\"><a class=\"a-link-normal\" href=\"/year/1986/?ref_=bo_cso_table_103\">1986</a></td></tr><tr><td class=\"a-text-left mojo-header-column mojo-truncate mojo-field-type-title\"><a class=\"a-link-normal\" href=\"/title/tt0071607/?ref_=bo_cso_table_104\">Herbie Rides Again</a></td><td class=\"a-text-right mojo-field-type-rank\">104</td><td class=\"a-text-right mojo-field-type-money\">$38,229,000</td><td class=\"a-text-right mojo-field-type-rank\">2,235</td><td class=\"a-text-left mojo-field-type-year\">1974</td></tr><tr><td class=\"a-text-left mojo-header-column mojo-truncate mojo-field-type-title\"><a class=\"a-link-normal\" href=\"/title/tt0078872/?ref_=bo_cso_table_105\">The Black Stallion</a></td><td class=\"a-text-right mojo-field-type-rank\">105</td><td class=\"a-text-right mojo-field-type-money\">$37,799,643</td><td class=\"a-text-right mojo-field-type-rank\">2,265</td><td class=\"a-text-left mojo-field-type-year\"><a class=\"a-link-normal\" href=\"/year/1979/?ref_=bo_cso_table_105\">1979</a></td></tr><tr><td class=\"a-text-left mojo-header-column mojo-truncate mojo-field-type-title\"><a class=\"a-link-normal\" href=\"/title/tt0038969/?ref_=bo_cso_table_106\">Song of the South</a></td><td class=\"a-text-right mojo-field-type-rank\">106</td><td class=\"a-text-right mojo-field-type-money\">$37,459,346</td><td class=\"a-text-right mojo-field-type-rank\">2,286</td><td class=\"a-text-left mojo-field-type-year\"><a class=\"a-link-normal\" href=\"/year/1980/?ref_=bo_cso_table_106\">1980</a></td></tr><tr><td class=\"a-text-left mojo-header-column mojo-truncate mojo-field-type-title\"><a class=\"a-link-normal\" href=\"/title/tt0405469/?ref_=bo_cso_table_107\">The Wild</a></td><td class=\"a-text-right mojo-field-type-rank\">107</td><td class=\"a-text-right mojo-field-type-money\">$37,384,046</td><td class=\"a-text-right mojo-field-type-rank\">2,290</td><td class=\"a-text-left mojo-field-type-year\"><a class=\"a-link-normal\" href=\"/year/2006/?ref_=bo_cso_table_107\">2006</a></td></tr><tr><td class=\"a-text-left mojo-header-column mojo-truncate mojo-field-type-title\"><a class=\"a-link-normal\" href=\"/title/tt0072653/?ref_=bo_cso_table_108\">The Apple Dumpling Gang</a></td><td class=\"a-text-right mojo-field-type-rank\">108</td><td class=\"a-text-right mojo-field-type-money\">$36,853,000</td><td class=\"a-text-right mojo-field-type-rank\">2,317</td><td class=\"a-text-left mojo-field-type-year\">1975</td></tr><tr><td class=\"a-text-left mojo-header-column mojo-truncate mojo-field-type-title\"><a class=\"a-link-normal\" href=\"/title/tt0265632/?ref_=bo_cso_table_109\">Recess: School's Out</a></td><td class=\"a-text-right mojo-field-type-rank\">109</td><td class=\"a-text-right mojo-field-type-money\">$36,706,141</td><td class=\"a-text-right mojo-field-type-rank\">2,328</td><td class=\"a-text-left mojo-field-type-year\"><a class=\"a-link-normal\" href=\"/year/2001/?ref_=bo_cso_table_109\">2001</a></td></tr><tr><td class=\"a-text-left mojo-header-column mojo-truncate mojo-field-type-title\"><a class=\"a-link-normal\" href=\"/title/tt1020876/?ref_=bo_cso_table_110\">Under the Sea 3D</a></td><td class=\"a-text-right mojo-field-type-rank\">110</td><td class=\"a-text-right mojo-field-type-money\">$36,230,170</td><td class=\"a-text-right mojo-field-type-rank\">2,359</td><td class=\"a-text-left mojo-field-type-year\"><a class=\"a-link-normal\" href=\"/year/2009/?ref_=bo_cso_table_110\">2009</a></td></tr><tr><td class=\"a-text-left mojo-header-column mojo-truncate mojo-field-type-title\"><a class=\"a-link-normal\" href=\"/title/tt0065421/?ref_=bo_cso_table_111\">The AristoCats</a></td><td class=\"a-text-right mojo-field-type-rank\">111</td><td class=\"a-text-right mojo-field-type-money\">$35,452,658</td><td class=\"a-text-right mojo-field-type-rank\">2,396</td><td class=\"a-text-left mojo-field-type-year\"><a class=\"a-link-normal\" href=\"/year/1980/?ref_=bo_cso_table_111\">1980</a></td></tr><tr><td class=\"a-text-left mojo-header-column mojo-truncate mojo-field-type-title\"><a class=\"a-link-normal\" href=\"/title/tt0113198/?ref_=bo_cso_table_112\">A Goofy Movie</a></td><td class=\"a-text-right mojo-field-type-rank\">112</td><td class=\"a-text-right mojo-field-type-money\">$35,348,597</td><td class=\"a-text-right mojo-field-type-rank\">2,407</td><td class=\"a-text-left mojo-field-type-year\"><a class=\"a-link-normal\" href=\"/year/1995/?ref_=bo_cso_table_112\">1995</a></td></tr><tr><td class=\"a-text-left mojo-header-column mojo-truncate mojo-field-type-title\"><a class=\"a-link-normal\" href=\"/title/tt0117110/?ref_=bo_cso_table_113\">Muppet Treasure Island</a></td><td class=\"a-text-right mojo-field-type-rank\">113</td><td class=\"a-text-right mojo-field-type-money\">$34,327,391</td><td class=\"a-text-right mojo-field-type-rank\">2,471</td><td class=\"a-text-left mojo-field-type-year\"><a class=\"a-link-normal\" href=\"/year/1996/?ref_=bo_cso_table_113\">1996</a></td></tr><tr><td class=\"a-text-left mojo-header-column mojo-truncate mojo-field-type-title\"><a class=\"a-link-normal\" href=\"/title/tt0453451/?ref_=bo_cso_table_114\">Mr. Bean's Holiday</a></td><td class=\"a-text-right mojo-field-type-rank\">114</td><td class=\"a-text-right mojo-field-type-money\">$33,302,167</td><td class=\"a-text-right mojo-field-type-rank\">2,530</td><td class=\"a-text-left mojo-field-type-year\"><a class=\"a-link-normal\" href=\"/year/2007/?ref_=bo_cso_table_114\">2007</a></td></tr><tr><td class=\"a-text-left mojo-header-column mojo-truncate mojo-field-type-title\"><a class=\"a-link-normal\" href=\"/title/tt0116552/?ref_=bo_cso_table_115\">Homeward Bound II: Lost in San Francisco</a></td><td class=\"a-text-right mojo-field-type-rank\">115</td><td class=\"a-text-right mojo-field-type-money\">$32,772,492</td><td class=\"a-text-right mojo-field-type-rank\">2,558</td><td class=\"a-text-left mojo-field-type-year\"><a class=\"a-link-normal\" href=\"/year/1996/?ref_=bo_cso_table_115\">1996</a></td></tr><tr><td class=\"a-text-left mojo-header-column mojo-truncate mojo-field-type-title\"><a class=\"a-link-normal\" href=\"/title/tt0063442/?ref_=bo_cso_table_116\">Planet of the Apes</a></td><td class=\"a-text-right mojo-field-type-rank\">116</td><td class=\"a-text-right mojo-field-type-money\">$32,589,624</td><td class=\"a-text-right mojo-field-type-rank\">2,575</td><td class=\"a-text-left mojo-field-type-year\">1968</td></tr><tr><td class=\"a-text-left mojo-header-column mojo-truncate mojo-field-type-title\"><a class=\"a-link-normal\" href=\"/title/tt0457419/?ref_=bo_cso_table_117\">Mr. Magorium's Wonder Emporium</a></td><td class=\"a-text-right mojo-field-type-rank\">117</td><td class=\"a-text-right mojo-field-type-money\">$32,061,555</td><td class=\"a-text-right mojo-field-type-rank\">2,614</td><td class=\"a-text-left mojo-field-type-year\"><a class=\"a-link-normal\" href=\"/year/2007/?ref_=bo_cso_table_117\">2007</a></td></tr><tr><td class=\"a-text-left mojo-header-column mojo-truncate mojo-field-type-title\"><a class=\"a-link-normal\" href=\"/title/tt0393597/?ref_=bo_cso_table_118\">Earth</a></td><td class=\"a-text-right mojo-field-type-rank\">118</td><td class=\"a-text-right mojo-field-type-money\">$32,011,576</td><td class=\"a-text-right mojo-field-type-rank\">2,619</td><td class=\"a-text-left mojo-field-type-year\"><a class=\"a-link-normal\" href=\"/year/2009/?ref_=bo_cso_table_118\">2009</a></td></tr><tr><td class=\"a-text-left mojo-header-column mojo-truncate mojo-field-type-title\"><a class=\"a-link-normal\" href=\"/title/tt0082474/?ref_=bo_cso_table_119\">The Great Muppet Caper</a></td><td class=\"a-text-right mojo-field-type-rank\">119</td><td class=\"a-text-right mojo-field-type-money\">$31,206,251</td><td class=\"a-text-right mojo-field-type-rank\">2,672</td><td class=\"a-text-left mojo-field-type-year\"><a class=\"a-link-normal\" href=\"/year/1981/?ref_=bo_cso_table_119\">1981</a></td></tr><tr><td class=\"a-text-left mojo-header-column mojo-truncate mojo-field-type-title\"><a class=\"a-link-normal\" href=\"/title/tt0108071/?ref_=bo_cso_table_120\">The Secret Garden</a></td><td class=\"a-text-right mojo-field-type-rank\">120</td><td class=\"a-text-right mojo-field-type-money\">$31,181,347</td><td class=\"a-text-right mojo-field-type-rank\">2,676</td><td class=\"a-text-left mojo-field-type-year\"><a class=\"a-link-normal\" href=\"/year/1993/?ref_=bo_cso_table_120\">1993</a></td></tr><tr><td class=\"a-text-left mojo-header-column mojo-truncate mojo-field-type-title\"><a class=\"a-link-normal\" href=\"/title/tt0482603/?ref_=bo_cso_table_121\">Space Chimps</a></td><td class=\"a-text-right mojo-field-type-rank\">121</td><td class=\"a-text-right mojo-field-type-money\">$30,105,968</td><td class=\"a-text-right mojo-field-type-rank\">2,754</td><td class=\"a-text-left mojo-field-type-year\"><a class=\"a-link-normal\" href=\"/year/2008/?ref_=bo_cso_table_121\">2008</a></td></tr><tr><td class=\"a-text-left mojo-header-column mojo-truncate mojo-field-type-title\"><a class=\"a-link-normal\" href=\"/title/tt0076137/?ref_=bo_cso_table_122\">Herbie Goes to Monte Carlo</a></td><td class=\"a-text-right mojo-field-type-rank\">122</td><td class=\"a-text-right mojo-field-type-money\">$29,000,000</td><td class=\"a-text-right mojo-field-type-rank\">2,814</td><td class=\"a-text-left mojo-field-type-year\"><a class=\"a-link-normal\" href=\"/year/1977/?ref_=bo_cso_table_122\">1977</a></td></tr><tr><td class=\"a-text-left mojo-header-column mojo-truncate mojo-field-type-title\"><a class=\"a-link-normal\" href=\"/title/tt1222815/?ref_=bo_cso_table_123\">Chimpanzee</a></td><td class=\"a-text-right mojo-field-type-rank\">123</td><td class=\"a-text-right mojo-field-type-money\">$28,972,764</td><td class=\"a-text-right mojo-field-type-rank\">2,815</td><td class=\"a-text-left mojo-field-type-year\"><a class=\"a-link-normal\" href=\"/year/2012/?ref_=bo_cso_table_123\">2012</a></td></tr><tr><td class=\"a-text-left mojo-header-column mojo-truncate mojo-field-type-title\"><a class=\"a-link-normal\" href=\"/title/tt0100477/?ref_=bo_cso_table_124\">The Rescuers Down Under</a></td><td class=\"a-text-right mojo-field-type-rank\">124</td><td class=\"a-text-right mojo-field-type-money\">$27,931,461</td><td class=\"a-text-right mojo-field-type-rank\">2,875</td><td class=\"a-text-left mojo-field-type-year\"><a class=\"a-link-normal\" href=\"/year/1990/?ref_=bo_cso_table_124\">1990</a></td></tr><tr><td class=\"a-text-left mojo-header-column mojo-truncate mojo-field-type-title\"><a class=\"a-link-normal\" href=\"/title/tt0104940/?ref_=bo_cso_table_125\">The Muppet Christmas Carol</a></td><td class=\"a-text-right mojo-field-type-rank\">125</td><td class=\"a-text-right mojo-field-type-money\">$27,281,507</td><td class=\"a-text-right mojo-field-type-rank\">2,914</td><td class=\"a-text-left mojo-field-type-year\"><a class=\"a-link-normal\" href=\"/year/1992/?ref_=bo_cso_table_125\">1992</a></td></tr><tr><td class=\"a-text-left mojo-header-column mojo-truncate mojo-field-type-title\"><a class=\"a-link-normal\" href=\"/title/tt0096787/?ref_=bo_cso_table_126\">All Dogs Go to Heaven</a></td><td class=\"a-text-right mojo-field-type-rank\">126</td><td class=\"a-text-right mojo-field-type-money\">$27,100,027</td><td class=\"a-text-right mojo-field-type-rank\">2,925</td><td class=\"a-text-left mojo-field-type-year\"><a class=\"a-link-normal\" href=\"/year/1989/?ref_=bo_cso_table_126\">1989</a></td></tr><tr><td class=\"a-text-left mojo-header-column mojo-truncate mojo-field-type-title\"><a class=\"a-link-normal\" href=\"/title/tt0072272/?ref_=bo_cso_table_127\">That's Entertainment!</a></td><td class=\"a-text-right mojo-field-type-rank\">127</td><td class=\"a-text-right mojo-field-type-money\">$26,890,200</td><td class=\"a-text-right mojo-field-type-rank\">2,939</td><td class=\"a-text-left mojo-field-type-year\">1974</td></tr><tr><td class=\"a-text-left mojo-header-column mojo-truncate mojo-field-type-title\"><a class=\"a-link-normal\" href=\"/title/tt1449283/?ref_=bo_cso_table_128\">Winnie the Pooh</a></td><td class=\"a-text-right mojo-field-type-rank\">128</td><td class=\"a-text-right mojo-field-type-money\">$26,692,846</td><td class=\"a-text-right mojo-field-type-rank\">2,956</td><td class=\"a-text-left mojo-field-type-year\"><a class=\"a-link-normal\" href=\"/year/2011/?ref_=bo_cso_table_128\">2011</a></td></tr><tr><td class=\"a-text-left mojo-header-column mojo-truncate mojo-field-type-title\"><a class=\"a-link-normal\" href=\"/title/tt0493949/?ref_=bo_cso_table_129\">Ramona and Beezus</a></td><td class=\"a-text-right mojo-field-type-rank\">129</td><td class=\"a-text-right mojo-field-type-money\">$26,167,002</td><td class=\"a-text-right mojo-field-type-rank\">2,993</td><td class=\"a-text-left mojo-field-type-year\"><a class=\"a-link-normal\" href=\"/year/2010/?ref_=bo_cso_table_129\">2010</a></td></tr><tr><td class=\"a-text-left mojo-header-column mojo-truncate mojo-field-type-title\"><a class=\"a-link-normal\" href=\"/title/tt0076054/?ref_=bo_cso_table_130\">Freaky Friday</a></td><td class=\"a-text-right mojo-field-type-rank\">130</td><td class=\"a-text-right mojo-field-type-money\">$25,942,000</td><td class=\"a-text-right mojo-field-type-rank\">3,006</td><td class=\"a-text-left mojo-field-type-year\"><a class=\"a-link-normal\" href=\"/year/1977/?ref_=bo_cso_table_130\">1977</a></td></tr><tr><td class=\"a-text-left mojo-header-column mojo-truncate mojo-field-type-title\"><a class=\"a-link-normal\" href=\"/title/tt1680059/?ref_=bo_cso_table_131\">Born to Be Wild</a></td><td class=\"a-text-right mojo-field-type-rank\">131</td><td class=\"a-text-right mojo-field-type-money\">$25,926,665</td><td class=\"a-text-right mojo-field-type-rank\">3,011</td><td class=\"a-text-left mojo-field-type-year\"><a class=\"a-link-normal\" href=\"/year/2011/?ref_=bo_cso_table_131\">2011</a></td></tr><tr><td class=\"a-text-left mojo-header-column mojo-truncate mojo-field-type-title\"><a class=\"a-link-normal\" href=\"/title/tt0298388/?ref_=bo_cso_table_132\">Jonah: A VeggieTales Movie</a></td><td class=\"a-text-right mojo-field-type-rank\">132</td><td class=\"a-text-right mojo-field-type-money\">$25,581,229</td><td class=\"a-text-right mojo-field-type-rank\">3,043</td><td class=\"a-text-left mojo-field-type-year\"><a class=\"a-link-normal\" href=\"/year/2002/?ref_=bo_cso_table_132\">2002</a></td></tr><tr><td class=\"a-text-left mojo-header-column mojo-truncate mojo-field-type-title\"><a class=\"a-link-normal\" href=\"/title/tt0087755/?ref_=bo_cso_table_133\">The Muppets Take Manhattan</a></td><td class=\"a-text-right mojo-field-type-rank\">133</td><td class=\"a-text-right mojo-field-type-money\">$25,534,703</td><td class=\"a-text-right mojo-field-type-rank\">3,048</td><td class=\"a-text-left mojo-field-type-year\"><a class=\"a-link-normal\" href=\"/year/1984/?ref_=bo_cso_table_133\">1984</a></td></tr><tr><td class=\"a-text-left mojo-header-column mojo-truncate mojo-field-type-title\"><a class=\"a-link-normal\" href=\"/title/tt0032138/?ref_=bo_cso_table_134\">The Wizard of Oz</a></td><td class=\"a-text-right mojo-field-type-rank\">134</td><td class=\"a-text-right mojo-field-type-money\">$24,790,250</td><td class=\"a-text-right mojo-field-type-rank\">3,116</td><td class=\"a-text-left mojo-field-type-year\">1939</td></tr><tr><td class=\"a-text-left mojo-header-column mojo-truncate mojo-field-type-title\"><a class=\"a-link-normal\" href=\"/title/tt0104254/?ref_=bo_cso_table_135\">FernGully: The Last Rainforest</a></td><td class=\"a-text-right mojo-field-type-rank\">135</td><td class=\"a-text-right mojo-field-type-money\">$24,650,296</td><td class=\"a-text-right mojo-field-type-rank\">3,128</td><td class=\"a-text-left mojo-field-type-year\"><a class=\"a-link-normal\" href=\"/year/1992/?ref_=bo_cso_table_135\">1992</a></td></tr><tr><td class=\"a-text-left mojo-header-column mojo-truncate mojo-field-type-title\"><a class=\"a-link-normal\" href=\"/title/tt0396652/?ref_=bo_cso_table_136\">Ice Princess</a></td><td class=\"a-text-right mojo-field-type-rank\">136</td><td class=\"a-text-right mojo-field-type-money\">$24,402,491</td><td class=\"a-text-right mojo-field-type-rank\">3,143</td><td class=\"a-text-left mojo-field-type-year\"><a class=\"a-link-normal\" href=\"/year/2005/?ref_=bo_cso_table_136\">2005</a></td></tr><tr><td class=\"a-text-left mojo-header-column mojo-truncate mojo-field-type-title\"><a class=\"a-link-normal\" href=\"/title/tt0323642/?ref_=bo_cso_table_137\">Piglet's Big Movie</a></td><td class=\"a-text-right mojo-field-type-rank\">137</td><td class=\"a-text-right mojo-field-type-money\">$23,103,423</td><td class=\"a-text-right mojo-field-type-rank\">3,227</td><td class=\"a-text-left mojo-field-type-year\"><a class=\"a-link-normal\" href=\"/year/2003/?ref_=bo_cso_table_137\">2003</a></td></tr><tr><td class=\"a-text-left mojo-header-column mojo-truncate mojo-field-type-title\"><a class=\"a-link-normal\" href=\"/title/tt0088885/?ref_=bo_cso_table_138\">The Care Bears Movie</a></td><td class=\"a-text-right mojo-field-type-rank\">138</td><td class=\"a-text-right mojo-field-type-money\">$22,934,622</td><td class=\"a-text-right mojo-field-type-rank\">3,240</td><td class=\"a-text-left mojo-field-type-year\"><a class=\"a-link-normal\" href=\"/year/1985/?ref_=bo_cso_table_138\">1985</a></td></tr><tr><td class=\"a-text-left mojo-header-column mojo-truncate mojo-field-type-title\"><a class=\"a-link-normal\" href=\"/title/tt0120800/?ref_=bo_cso_table_139\">Quest for Camelot</a></td><td class=\"a-text-right mojo-field-type-rank\">139</td><td class=\"a-text-right mojo-field-type-money\">$22,510,798</td><td class=\"a-text-right mojo-field-type-rank\">3,276</td><td class=\"a-text-left mojo-field-type-year\"><a class=\"a-link-normal\" href=\"/year/1998/?ref_=bo_cso_table_139\">1998</a></td></tr><tr><td class=\"a-text-left mojo-header-column mojo-truncate mojo-field-type-title\"><a class=\"a-link-normal\" href=\"/title/tt0092638/?ref_=bo_cso_table_140\">Benji the Hunted</a></td><td class=\"a-text-right mojo-field-type-rank\">140</td><td class=\"a-text-right mojo-field-type-money\">$22,257,624</td><td class=\"a-text-right mojo-field-type-rank\">3,298</td><td class=\"a-text-left mojo-field-type-year\"><a class=\"a-link-normal\" href=\"/year/1987/?ref_=bo_cso_table_140\">1987</a></td></tr><tr><td class=\"a-text-left mojo-header-column mojo-truncate mojo-field-type-title\"><a class=\"a-link-normal\" href=\"/title/tt0101329/?ref_=bo_cso_table_141\">An American Tail: Fievel Goes West</a></td><td class=\"a-text-right mojo-field-type-rank\">141</td><td class=\"a-text-right mojo-field-type-money\">$22,166,041</td><td class=\"a-text-right mojo-field-type-rank\">3,309</td><td class=\"a-text-left mojo-field-type-year\"><a class=\"a-link-normal\" href=\"/year/1991/?ref_=bo_cso_table_141\">1991</a></td></tr><tr><td class=\"a-text-left mojo-header-column mojo-truncate mojo-field-type-title\"><a class=\"a-link-normal\" href=\"/title/tt0074599/?ref_=bo_cso_table_142\">Gus</a></td><td class=\"a-text-right mojo-field-type-rank\">142</td><td class=\"a-text-right mojo-field-type-money\">$21,873,000</td><td class=\"a-text-right mojo-field-type-rank\">3,327</td><td class=\"a-text-left mojo-field-type-year\">1976</td></tr><tr><td class=\"a-text-left mojo-header-column mojo-truncate mojo-field-type-title\"><a class=\"a-link-normal\" href=\"/title/tt0078504/?ref_=bo_cso_table_143\">The Wiz</a></td><td class=\"a-text-right mojo-field-type-rank\">143</td><td class=\"a-text-right mojo-field-type-money\">$21,049,053</td><td class=\"a-text-right mojo-field-type-rank\">3,421</td><td class=\"a-text-left mojo-field-type-year\"><a class=\"a-link-normal\" href=\"/year/1978/?ref_=bo_cso_table_143\">1978</a></td></tr><tr><td class=\"a-text-left mojo-header-column mojo-truncate mojo-field-type-title\"><a class=\"a-link-normal\" href=\"/title/tt0078790/?ref_=bo_cso_table_144\">The Apple Dumpling Gang Rides Again</a></td><td class=\"a-text-right mojo-field-type-rank\">144</td><td class=\"a-text-right mojo-field-type-money\">$20,931,111</td><td class=\"a-text-right mojo-field-type-rank\">3,437</td><td class=\"a-text-left mojo-field-type-year\"><a class=\"a-link-normal\" href=\"/year/1979/?ref_=bo_cso_table_144\">1979</a></td></tr><tr><td class=\"a-text-left mojo-header-column mojo-truncate mojo-field-type-title\"><a class=\"a-link-normal\" href=\"/title/tt0099878/?ref_=bo_cso_table_145\">Jetsons: The Movie</a></td><td class=\"a-text-right mojo-field-type-rank\">145</td><td class=\"a-text-right mojo-field-type-money\">$20,305,841</td><td class=\"a-text-right mojo-field-type-rank\">3,495</td><td class=\"a-text-left mojo-field-type-year\"><a class=\"a-link-normal\" href=\"/year/1990/?ref_=bo_cso_table_145\">1990</a></td></tr><tr><td class=\"a-text-left mojo-header-column mojo-truncate mojo-field-type-title\"><a class=\"a-link-normal\" href=\"/title/tt0072951/?ref_=bo_cso_table_146\">Escape to Witch Mountain</a></td><td class=\"a-text-right mojo-field-type-rank\">146</td><td class=\"a-text-right mojo-field-type-money\">$20,000,000</td><td class=\"a-text-right mojo-field-type-rank\">3,537</td><td class=\"a-text-left mojo-field-type-year\">1975</td></tr><tr><td class=\"a-text-left mojo-header-column mojo-truncate mojo-field-type-title\"><a class=\"a-link-normal\" href=\"/title/tt1568921/?ref_=bo_cso_table_147\">Kari-gurashi no Arietti</a></td><td class=\"a-text-right mojo-field-type-rank\">147</td><td class=\"a-text-right mojo-field-type-money\">$19,587,032</td><td class=\"a-text-right mojo-field-type-rank\">3,571</td><td class=\"a-text-left mojo-field-type-year\"><a class=\"a-link-normal\" href=\"/year/2012/?ref_=bo_cso_table_147\">2012</a></td></tr><tr><td class=\"a-text-left mojo-header-column mojo-truncate mojo-field-type-title\"><a class=\"a-link-normal\" href=\"/title/tt0361089/?ref_=bo_cso_table_148\">Valiant</a></td><td class=\"a-text-right mojo-field-type-rank\">148</td><td class=\"a-text-right mojo-field-type-money\">$19,478,106</td><td class=\"a-text-right mojo-field-type-rank\">3,579</td><td class=\"a-text-left mojo-field-type-year\"><a class=\"a-link-normal\" href=\"/year/2005/?ref_=bo_cso_table_148\">2005</a></td></tr><tr><td class=\"a-text-left mojo-header-column mojo-truncate mojo-field-type-title\"><a class=\"a-link-normal\" href=\"/title/tt0187819/?ref_=bo_cso_table_149\">Doug's 1st Movie</a></td><td class=\"a-text-right mojo-field-type-rank\">149</td><td class=\"a-text-right mojo-field-type-money\">$19,440,089</td><td class=\"a-text-right mojo-field-type-rank\">3,584</td><td class=\"a-text-left mojo-field-type-year\"><a class=\"a-link-normal\" href=\"/year/1999/?ref_=bo_cso_table_149\">1999</a></td></tr><tr><td class=\"a-text-left mojo-header-column mojo-truncate mojo-field-type-title\"><a class=\"a-link-normal\" href=\"/title/tt0765128/?ref_=bo_cso_table_150\">Océans</a></td><td class=\"a-text-right mojo-field-type-rank\">150</td><td class=\"a-text-right mojo-field-type-money\">$19,422,319</td><td class=\"a-text-right mojo-field-type-rank\">3,586</td><td class=\"a-text-left mojo-field-type-year\"><a class=\"a-link-normal\" href=\"/year/2010/?ref_=bo_cso_table_150\">2010</a></td></tr><tr><td class=\"a-text-left mojo-header-column mojo-truncate mojo-field-type-title\"><a class=\"a-link-normal\" href=\"/title/tt1229827/?ref_=bo_cso_table_151\">Jonas Brothers: The 3D Concert Experience</a></td><td class=\"a-text-right mojo-field-type-rank\">151</td><td class=\"a-text-right mojo-field-type-money\">$19,162,740</td><td class=\"a-text-right mojo-field-type-rank\">3,608</td><td class=\"a-text-left mojo-field-type-year\"><a class=\"a-link-normal\" href=\"/year/2009/?ref_=bo_cso_table_151\">2009</a></td></tr><tr><td class=\"a-text-left mojo-header-column mojo-truncate mojo-field-type-title\"><a class=\"a-link-normal\" href=\"/title/tt0065462/?ref_=bo_cso_table_152\">Beneath the Planet of the Apes</a></td><td class=\"a-text-right mojo-field-type-rank\">152</td><td class=\"a-text-right mojo-field-type-money\">$18,999,718</td><td class=\"a-text-right mojo-field-type-rank\">3,624</td><td class=\"a-text-left mojo-field-type-year\">1970</td></tr><tr><td class=\"a-text-left mojo-header-column mojo-truncate mojo-field-type-title\"><a class=\"a-link-normal\" href=\"/title/tt0120327/?ref_=bo_cso_table_153\">Thrill Ride: The Science of Fun</a></td><td class=\"a-text-right mojo-field-type-rank\">153</td><td class=\"a-text-right mojo-field-type-money\">$18,798,590</td><td class=\"a-text-right mojo-field-type-rank\">3,643</td><td class=\"a-text-left mojo-field-type-year\"><a class=\"a-link-normal\" href=\"/year/1997/?ref_=bo_cso_table_153\">1997</a></td></tr><tr><td class=\"a-text-left mojo-header-column mojo-truncate mojo-field-type-title\"><a class=\"a-link-normal\" href=\"/title/tt0098115/?ref_=bo_cso_table_154\">Prancer</a></td><td class=\"a-text-right mojo-field-type-rank\">154</td><td class=\"a-text-right mojo-field-type-money\">$18,587,135</td><td class=\"a-text-right mojo-field-type-rank\">3,670</td><td class=\"a-text-left mojo-field-type-year\"><a class=\"a-link-normal\" href=\"/year/1989/?ref_=bo_cso_table_154\">1989</a></td></tr><tr><td class=\"a-text-left mojo-header-column mojo-truncate mojo-field-type-title\"><a class=\"a-link-normal\" href=\"/title/tt0099472/?ref_=bo_cso_table_155\">DuckTales the Movie: Treasure of the Lost Lamp</a></td><td class=\"a-text-right mojo-field-type-rank\">155</td><td class=\"a-text-right mojo-field-type-money\">$18,115,724</td><td class=\"a-text-right mojo-field-type-rank\">3,710</td><td class=\"a-text-left mojo-field-type-year\"><a class=\"a-link-normal\" href=\"/year/1990/?ref_=bo_cso_table_155\">1990</a></td></tr><tr><td class=\"a-text-left mojo-header-column mojo-truncate mojo-field-type-title\"><a class=\"a-link-normal\" href=\"/title/tt0407121/?ref_=bo_cso_table_156\">Pooh's Heffalump Movie</a></td><td class=\"a-text-right mojo-field-type-rank\">156</td><td class=\"a-text-right mojo-field-type-money\">$18,098,433</td><td class=\"a-text-right mojo-field-type-rank\">3,711</td><td class=\"a-text-left mojo-field-type-year\"><a class=\"a-link-normal\" href=\"/year/2005/?ref_=bo_cso_table_156\">2005</a></td></tr><tr><td class=\"a-text-left mojo-header-column mojo-truncate mojo-field-type-title\"><a class=\"a-link-normal\" href=\"/title/tt0080861/?ref_=bo_cso_table_157\">Herbie Goes Bananas</a></td><td class=\"a-text-right mojo-field-type-rank\">157</td><td class=\"a-text-right mojo-field-type-money\">$18,000,000</td><td class=\"a-text-right mojo-field-type-rank\">3,718</td><td class=\"a-text-left mojo-field-type-year\"><a class=\"a-link-normal\" href=\"/year/1980/?ref_=bo_cso_table_157\">1980</a></td></tr><tr><td class=\"a-text-left mojo-header-column mojo-truncate mojo-field-type-title\"><a class=\"a-link-normal\" href=\"/title/tt2458776/?ref_=bo_cso_table_158\">Bears</a></td><td class=\"a-text-right mojo-field-type-rank\">158</td><td class=\"a-text-right mojo-field-type-money\">$17,780,194</td><td class=\"a-text-right mojo-field-type-rank\">3,741</td><td class=\"a-text-left mojo-field-type-year\"><a class=\"a-link-normal\" href=\"/year/2014/?ref_=bo_cso_table_158\">2014</a></td></tr><tr><td class=\"a-text-left mojo-header-column mojo-truncate mojo-field-type-title\"><a class=\"a-link-normal\" href=\"/title/tt0076044/?ref_=bo_cso_table_159\">For the Love of Benji</a></td><td class=\"a-text-right mojo-field-type-rank\">159</td><td class=\"a-text-right mojo-field-type-money\">$17,732,000</td><td class=\"a-text-right mojo-field-type-rank\">3,750</td><td class=\"a-text-left mojo-field-type-year\"><a class=\"a-link-normal\" href=\"/year/1977/?ref_=bo_cso_table_159\">1977</a></td></tr><tr><td class=\"a-text-left mojo-header-column mojo-truncate mojo-field-type-title\"><a class=\"a-link-normal\" href=\"/title/tt0846308/?ref_=bo_cso_table_160\">Kit Kittredge: An American Girl</a></td><td class=\"a-text-right mojo-field-type-rank\">160</td><td class=\"a-text-right mojo-field-type-money\">$17,657,973</td><td class=\"a-text-right mojo-field-type-rank\">3,756</td><td class=\"a-text-left mojo-field-type-year\"><a class=\"a-link-normal\" href=\"/year/2008/?ref_=bo_cso_table_160\">2008</a></td></tr><tr><td class=\"a-text-left mojo-header-column mojo-truncate mojo-field-type-title\"><a class=\"a-link-normal\" href=\"/title/tt0235679/?ref_=bo_cso_table_161\">Gekijô-ban poketto monsutâ: Kesshô-tô no teiô</a></td><td class=\"a-text-right mojo-field-type-rank\">161</td><td class=\"a-text-right mojo-field-type-money\">$17,052,128</td><td class=\"a-text-right mojo-field-type-rank\">3,843</td><td class=\"a-text-left mojo-field-type-year\"><a class=\"a-link-normal\" href=\"/year/2001/?ref_=bo_cso_table_161\">2001</a></td></tr><tr><td class=\"a-text-left mojo-header-column mojo-truncate mojo-field-type-title\"><a class=\"a-link-normal\" href=\"/title/tt0297144/?ref_=bo_cso_table_162\">Ghosts of the Abyss</a></td><td class=\"a-text-right mojo-field-type-rank\">162</td><td class=\"a-text-right mojo-field-type-money\">$17,040,871</td><td class=\"a-text-right mojo-field-type-rank\">3,845</td><td class=\"a-text-left mojo-field-type-year\"><a class=\"a-link-normal\" href=\"/year/2003/?ref_=bo_cso_table_162\">2003</a></td></tr><tr><td class=\"a-text-left mojo-header-column mojo-truncate mojo-field-type-title\"><a class=\"a-link-normal\" href=\"/title/tt0276033/?ref_=bo_cso_table_163\">The Country Bears</a></td><td class=\"a-text-right mojo-field-type-rank\">163</td><td class=\"a-text-right mojo-field-type-money\">$16,990,825</td><td class=\"a-text-right mojo-field-type-rank\">3,854</td><td class=\"a-text-left mojo-field-type-year\"><a class=\"a-link-normal\" href=\"/year/2002/?ref_=bo_cso_table_163\">2002</a></td></tr><tr><td class=\"a-text-left mojo-header-column mojo-truncate mojo-field-type-title\"><a class=\"a-link-normal\" href=\"/title/tt0158811/?ref_=bo_cso_table_164\">Muppets from Space</a></td><td class=\"a-text-right mojo-field-type-rank\">164</td><td class=\"a-text-right mojo-field-type-money\">$16,625,807</td><td class=\"a-text-right mojo-field-type-rank\">3,891</td><td class=\"a-text-left mojo-field-type-year\"><a class=\"a-link-normal\" href=\"/year/1999/?ref_=bo_cso_table_164\">1999</a></td></tr><tr><td class=\"a-text-left mojo-header-column mojo-truncate mojo-field-type-title\"><a class=\"a-link-normal\" href=\"/title/tt3660770/?ref_=bo_cso_table_165\">Monkey Kingdom</a></td><td class=\"a-text-right mojo-field-type-rank\">165</td><td class=\"a-text-right mojo-field-type-money\">$16,432,322</td><td class=\"a-text-right mojo-field-type-rank\">3,907</td><td class=\"a-text-left mojo-field-type-year\"><a class=\"a-link-normal\" href=\"/year/2015/?ref_=bo_cso_table_165\">2015</a></td></tr><tr><td class=\"a-text-left mojo-header-column mojo-truncate mojo-field-type-title\"><a class=\"a-link-normal\" href=\"/title/tt0078158/?ref_=bo_cso_table_166\">Return from Witch Mountain</a></td><td class=\"a-text-right mojo-field-type-rank\">166</td><td class=\"a-text-right mojo-field-type-money\">$16,393,000</td><td class=\"a-text-right mojo-field-type-rank\">3,910</td><td class=\"a-text-left mojo-field-type-year\"><a class=\"a-link-normal\" href=\"/year/1978/?ref_=bo_cso_table_166\">1978</a></td></tr><tr><td class=\"a-text-left mojo-header-column mojo-truncate mojo-field-type-title\"><a class=\"a-link-normal\" href=\"/title/tt0112286/?ref_=bo_cso_table_167\">Across the Sea of Time</a></td><td class=\"a-text-right mojo-field-type-rank\">167</td><td class=\"a-text-right mojo-field-type-money\">$16,015,639</td><td class=\"a-text-right mojo-field-type-rank\">3,962</td><td class=\"a-text-left mojo-field-type-year\"><a class=\"a-link-normal\" href=\"/year/1995/?ref_=bo_cso_table_167\">1995</a></td></tr><tr><td class=\"a-text-left mojo-header-column mojo-truncate mojo-field-type-title\"><a class=\"a-link-normal\" href=\"/title/tt0205461/?ref_=bo_cso_table_168\">Thomas and the Magic Railroad</a></td><td class=\"a-text-right mojo-field-type-rank\">168</td><td class=\"a-text-right mojo-field-type-money\">$15,933,506</td><td class=\"a-text-right mojo-field-type-rank\">3,975</td><td class=\"a-text-left mojo-field-type-year\"><a class=\"a-link-normal\" href=\"/year/2000/?ref_=bo_cso_table_168\">2000</a></td></tr><tr><td class=\"a-text-left mojo-header-column mojo-truncate mojo-field-type-title\"><a class=\"a-link-normal\" href=\"/title/tt0876563/?ref_=bo_cso_table_169\">Gake no ue no Ponyo</a></td><td class=\"a-text-right mojo-field-type-rank\">169</td><td class=\"a-text-right mojo-field-type-money\">$15,743,471</td><td class=\"a-text-right mojo-field-type-rank\">3,990</td><td class=\"a-text-left mojo-field-type-year\"><a class=\"a-link-normal\" href=\"/year/2009/?ref_=bo_cso_table_169\">2009</a></td></tr><tr><td class=\"a-text-left mojo-header-column mojo-truncate mojo-field-type-title\"><a class=\"a-link-normal\" href=\"/title/tt0213749/?ref_=bo_cso_table_170\">Cirque du Soleil: Journey of Man</a></td><td class=\"a-text-right mojo-field-type-rank\">170</td><td class=\"a-text-right mojo-field-type-money\">$15,627,434</td><td class=\"a-text-right mojo-field-type-rank\">4,005</td><td class=\"a-text-left mojo-field-type-year\"><a class=\"a-link-normal\" href=\"/year/2000/?ref_=bo_cso_table_170\">2000</a></td></tr><tr><td class=\"a-text-left mojo-header-column mojo-truncate mojo-field-type-title\"><a class=\"a-link-normal\" href=\"/title/tt2800050/?ref_=bo_cso_table_171\">A Beautiful Planet</a></td><td class=\"a-text-right mojo-field-type-rank\">171</td><td class=\"a-text-right mojo-field-type-money\">$15,603,514</td><td class=\"a-text-right mojo-field-type-rank\">4,008</td><td class=\"a-text-left mojo-field-type-year\"><a class=\"a-link-normal\" href=\"/year/2016/?ref_=bo_cso_table_171\">2016</a></td></tr><tr><td class=\"a-text-left mojo-header-column mojo-truncate mojo-field-type-title\"><a class=\"a-link-normal\" href=\"/title/tt1223236/?ref_=bo_cso_table_172\">African Cats</a></td><td class=\"a-text-right mojo-field-type-rank\">172</td><td class=\"a-text-right mojo-field-type-money\">$15,428,747</td><td class=\"a-text-right mojo-field-type-rank\">4,034</td><td class=\"a-text-left mojo-field-type-year\"><a class=\"a-link-normal\" href=\"/year/2011/?ref_=bo_cso_table_172\">2011</a></td></tr><tr><td class=\"a-text-left mojo-header-column mojo-truncate mojo-field-type-title\"><a class=\"a-link-normal\" href=\"/title/tt0115472/?ref_=bo_cso_table_173\">The Adventures of Pinocchio</a></td><td class=\"a-text-right mojo-field-type-rank\">173</td><td class=\"a-text-right mojo-field-type-money\">$15,094,530</td><td class=\"a-text-right mojo-field-type-rank\">4,068</td><td class=\"a-text-left mojo-field-type-year\"><a class=\"a-link-normal\" href=\"/year/1996/?ref_=bo_cso_table_173\">1996</a></td></tr><tr><td class=\"a-text-left mojo-header-column mojo-truncate mojo-field-type-title\"><a class=\"a-link-normal\" href=\"/title/tt0114952/?ref_=bo_cso_table_174\">Wings of Courage</a></td><td class=\"a-text-right mojo-field-type-rank\">174</td><td class=\"a-text-right mojo-field-type-money\">$15,054,636</td><td class=\"a-text-right mojo-field-type-rank\">4,075</td><td class=\"a-text-left mojo-field-type-year\"><a class=\"a-link-normal\" href=\"/year/1995/?ref_=bo_cso_table_174\">1995</a></td></tr><tr><td class=\"a-text-left mojo-header-column mojo-truncate mojo-field-type-title\"><a class=\"a-link-normal\" href=\"/title/tt0101301/?ref_=bo_cso_table_175\">All I Want for Christmas</a></td><td class=\"a-text-right mojo-field-type-rank\">175</td><td class=\"a-text-right mojo-field-type-money\">$14,812,144</td><td class=\"a-text-right mojo-field-type-rank\">4,113</td><td class=\"a-text-left mojo-field-type-year\"><a class=\"a-link-normal\" href=\"/year/1991/?ref_=bo_cso_table_175\">1991</a></td></tr><tr><td class=\"a-text-left mojo-header-column mojo-truncate mojo-field-type-title\"><a class=\"a-link-normal\" href=\"/title/tt0084649/?ref_=bo_cso_table_176\">The Secret of NIMH</a></td><td class=\"a-text-right mojo-field-type-rank\">176</td><td class=\"a-text-right mojo-field-type-money\">$14,665,733</td><td class=\"a-text-right mojo-field-type-rank\">4,136</td><td class=\"a-text-left mojo-field-type-year\"><a class=\"a-link-normal\" href=\"/year/1982/?ref_=bo_cso_table_176\">1982</a></td></tr><tr><td class=\"a-text-left mojo-header-column mojo-truncate mojo-field-type-title\"><a class=\"a-link-normal\" href=\"/title/tt2073128/?ref_=bo_cso_table_177\">To the Arctic 3D</a></td><td class=\"a-text-right mojo-field-type-rank\">177</td><td class=\"a-text-right mojo-field-type-money\">$14,554,597</td><td class=\"a-text-right mojo-field-type-rank\">4,149</td><td class=\"a-text-left mojo-field-type-year\"><a class=\"a-link-normal\" href=\"/year/2012/?ref_=bo_cso_table_177\">2012</a></td></tr><tr><td class=\"a-text-left mojo-header-column mojo-truncate mojo-field-type-title\"><a class=\"a-link-normal\" href=\"/title/tt0430779/?ref_=bo_cso_table_178\">Everyone's Hero</a></td><td class=\"a-text-right mojo-field-type-rank\">178</td><td class=\"a-text-right mojo-field-type-money\">$14,523,101</td><td class=\"a-text-right mojo-field-type-rank\">4,153</td><td class=\"a-text-left mojo-field-type-year\"><a class=\"a-link-normal\" href=\"/year/2006/?ref_=bo_cso_table_178\">2006</a></td></tr><tr><td class=\"a-text-left mojo-header-column mojo-truncate mojo-field-type-title\"><a class=\"a-link-normal\" href=\"/title/tt0066181/?ref_=bo_cso_table_179\">On a Clear Day You Can See Forever</a></td><td class=\"a-text-right mojo-field-type-rank\">179</td><td class=\"a-text-right mojo-field-type-money\">$14,000,000</td><td class=\"a-text-right mojo-field-type-rank\">4,235</td><td class=\"a-text-left mojo-field-type-year\">1970</td></tr><tr><td class=\"a-text-left mojo-header-column mojo-truncate mojo-field-type-title\"><a class=\"a-link-normal\" href=\"/title/tt0089994/?ref_=bo_cso_table_180\">Follow That Bird</a></td><td class=\"a-text-right mojo-field-type-rank\">180</td><td class=\"a-text-right mojo-field-type-money\">$13,961,370</td><td class=\"a-text-right mojo-field-type-rank\">4,242</td><td class=\"a-text-left mojo-field-type-year\"><a class=\"a-link-normal\" href=\"/year/1985/?ref_=bo_cso_table_180\">1985</a></td></tr><tr><td class=\"a-text-left mojo-header-column mojo-truncate mojo-field-type-title\"><a class=\"a-link-normal\" href=\"/title/tt4629266/?ref_=bo_cso_table_181\">Born in China</a></td><td class=\"a-text-right mojo-field-type-rank\">181</td><td class=\"a-text-right mojo-field-type-money\">$13,873,211</td><td class=\"a-text-right mojo-field-type-rank\">4,251</td><td class=\"a-text-left mojo-field-type-year\"><a class=\"a-link-normal\" href=\"/year/2017/?ref_=bo_cso_table_181\">2017</a></td></tr><tr><td class=\"a-text-left mojo-header-column mojo-truncate mojo-field-type-title\"><a class=\"a-link-normal\" href=\"/title/tt0486321/?ref_=bo_cso_table_182\">Fly Me to the Moon</a></td><td class=\"a-text-right mojo-field-type-rank\">182</td><td class=\"a-text-right mojo-field-type-money\">$13,816,982</td><td class=\"a-text-right mojo-field-type-rank\">4,259</td><td class=\"a-text-left mojo-field-type-year\"><a class=\"a-link-normal\" href=\"/year/2008/?ref_=bo_cso_table_182\">2008</a></td></tr><tr><td class=\"a-text-left mojo-header-column mojo-truncate mojo-field-type-title\"><a class=\"a-link-normal\" href=\"/title/tt0089731/?ref_=bo_cso_table_183\">One Magic Christmas</a></td><td class=\"a-text-right mojo-field-type-rank\">183</td><td class=\"a-text-right mojo-field-type-money\">$13,677,222</td><td class=\"a-text-right mojo-field-type-rank\">4,276</td><td class=\"a-text-left mojo-field-type-year\"><a class=\"a-link-normal\" href=\"/year/1985/?ref_=bo_cso_table_183\">1985</a></td></tr><tr><td class=\"a-text-left mojo-header-column mojo-truncate mojo-field-type-title\"><a class=\"a-link-normal\" href=\"/title/tt0110763/?ref_=bo_cso_table_184\">The Pagemaster</a></td><td class=\"a-text-right mojo-field-type-rank\">184</td><td class=\"a-text-right mojo-field-type-money\">$13,670,688</td><td class=\"a-text-right mojo-field-type-rank\">4,278</td><td class=\"a-text-left mojo-field-type-year\"><a class=\"a-link-normal\" href=\"/year/1994/?ref_=bo_cso_table_184\">1994</a></td></tr><tr><td class=\"a-text-left mojo-header-column mojo-truncate mojo-field-type-title\"><a class=\"a-link-normal\" href=\"/title/tt0097050/?ref_=bo_cso_table_185\">Koneko monogatari</a></td><td class=\"a-text-right mojo-field-type-rank\">185</td><td class=\"a-text-right mojo-field-type-money\">$13,299,749</td><td class=\"a-text-right mojo-field-type-rank\">4,322</td><td class=\"a-text-left mojo-field-type-year\"><a class=\"a-link-normal\" href=\"/year/1989/?ref_=bo_cso_table_185\">1989</a></td></tr><tr><td class=\"a-text-left mojo-header-column mojo-truncate mojo-field-type-title\"><a class=\"a-link-normal\" href=\"/title/tt0475998/?ref_=bo_cso_table_186\">The Pirates Who Don't Do Anything: A VeggieTales Movie</a></td><td class=\"a-text-right mojo-field-type-rank\">186</td><td class=\"a-text-right mojo-field-type-money\">$12,981,269</td><td class=\"a-text-right mojo-field-type-rank\">4,375</td><td class=\"a-text-left mojo-field-type-year\"><a class=\"a-link-normal\" href=\"/year/2008/?ref_=bo_cso_table_186\">2008</a></td></tr><tr><td class=\"a-text-left mojo-header-column mojo-truncate mojo-field-type-title\"><a class=\"a-link-normal\" href=\"/title/tt0067065/?ref_=bo_cso_table_187\">Escape from the Planet of the Apes</a></td><td class=\"a-text-right mojo-field-type-rank\">187</td><td class=\"a-text-right mojo-field-type-money\">$12,348,905</td><td class=\"a-text-right mojo-field-type-rank\">4,460</td><td class=\"a-text-left mojo-field-type-year\">1971</td></tr><tr><td class=\"a-text-left mojo-header-column mojo-truncate mojo-field-type-title\"><a class=\"a-link-normal\" href=\"/title/tt0120598/?ref_=bo_cso_table_188\">Barney's Great Adventure</a></td><td class=\"a-text-right mojo-field-type-rank\">188</td><td class=\"a-text-right mojo-field-type-money\">$12,218,638</td><td class=\"a-text-right mojo-field-type-rank\">4,481</td><td class=\"a-text-left mojo-field-type-year\"><a class=\"a-link-normal\" href=\"/year/1998/?ref_=bo_cso_table_188\">1998</a></td></tr><tr><td class=\"a-text-left mojo-header-column mojo-truncate mojo-field-type-title\"><a class=\"a-link-normal\" href=\"/title/tt0057546/?ref_=bo_cso_table_189\">The Sword in the Stone</a></td><td class=\"a-text-right mojo-field-type-rank\">189</td><td class=\"a-text-right mojo-field-type-money\">$12,000,000</td><td class=\"a-text-right mojo-field-type-rank\">4,509</td><td class=\"a-text-left mojo-field-type-year\"><a class=\"a-link-normal\" href=\"/year/1983/?ref_=bo_cso_table_189\">1983</a></td></tr><tr><td class=\"a-text-left mojo-header-column mojo-truncate mojo-field-type-title\"><a class=\"a-link-normal\" href=\"/title/tt0160429/?ref_=bo_cso_table_190\">The King and I</a></td><td class=\"a-text-right mojo-field-type-rank\">190</td><td class=\"a-text-right mojo-field-type-money\">$11,993,021</td><td class=\"a-text-right mojo-field-type-rank\">4,512</td><td class=\"a-text-left mojo-field-type-year\"><a class=\"a-link-normal\" href=\"/year/1999/?ref_=bo_cso_table_190\">1999</a></td></tr><tr><td class=\"a-text-left mojo-header-column mojo-truncate mojo-field-type-title\"><a class=\"a-link-normal\" href=\"/title/tt0301727/?ref_=bo_cso_table_191\">Le peuple migrateur</a></td><td class=\"a-text-right mojo-field-type-rank\">191</td><td class=\"a-text-right mojo-field-type-money\">$11,689,053</td><td class=\"a-text-right mojo-field-type-rank\">4,545</td><td class=\"a-text-left mojo-field-type-year\"><a class=\"a-link-normal\" href=\"/year/2002/?ref_=bo_cso_table_191\">2002</a></td></tr><tr><td class=\"a-text-left mojo-header-column mojo-truncate mojo-field-type-title\"><a class=\"a-link-normal\" href=\"/title/tt0159421/?ref_=bo_cso_table_192\">The Adventures of Elmo in Grouchland</a></td><td class=\"a-text-right mojo-field-type-rank\">192</td><td class=\"a-text-right mojo-field-type-money\">$11,683,047</td><td class=\"a-text-right mojo-field-type-rank\">4,547</td><td class=\"a-text-left mojo-field-type-year\"><a class=\"a-link-normal\" href=\"/year/1999/?ref_=bo_cso_table_192\">1999</a></td></tr><tr><td class=\"a-text-left mojo-header-column mojo-truncate mojo-field-type-title\"><a class=\"a-link-normal\" href=\"/title/tt0102802/?ref_=bo_cso_table_193\">Rock-A-Doodle</a></td><td class=\"a-text-right mojo-field-type-rank\">193</td><td class=\"a-text-right mojo-field-type-money\">$11,657,385</td><td class=\"a-text-right mojo-field-type-rank\">4,551</td><td class=\"a-text-left mojo-field-type-year\"><a class=\"a-link-normal\" href=\"/year/1992/?ref_=bo_cso_table_193\">1992</a></td></tr><tr><td class=\"a-text-left mojo-header-column mojo-truncate mojo-field-type-title\"><a class=\"a-link-normal\" href=\"/title/tt0111419/?ref_=bo_cso_table_194\">Thumbelina</a></td><td class=\"a-text-right mojo-field-type-rank\">194</td><td class=\"a-text-right mojo-field-type-money\">$11,373,501</td><td class=\"a-text-right mojo-field-type-rank\">4,595</td><td class=\"a-text-left mojo-field-type-year\"><a class=\"a-link-normal\" href=\"/year/1994/?ref_=bo_cso_table_194\">1994</a></td></tr><tr><td class=\"a-text-left mojo-header-column mojo-truncate mojo-field-type-title\"><a class=\"a-link-normal\" href=\"/title/tt0112453/?ref_=bo_cso_table_195\">Balto</a></td><td class=\"a-text-right mojo-field-type-rank\">195</td><td class=\"a-text-right mojo-field-type-money\">$11,348,324</td><td class=\"a-text-right mojo-field-type-rank\">4,599</td><td class=\"a-text-left mojo-field-type-year\"><a class=\"a-link-normal\" href=\"/year/1995/?ref_=bo_cso_table_195\">1995</a></td></tr><tr><td class=\"a-text-left mojo-header-column mojo-truncate mojo-field-type-title\"><a class=\"a-link-normal\" href=\"/title/tt3231010/?ref_=bo_cso_table_196\">Island of Lemurs: Madagascar</a></td><td class=\"a-text-right mojo-field-type-rank\">196</td><td class=\"a-text-right mojo-field-type-money\">$11,269,209</td><td class=\"a-text-right mojo-field-type-rank\">4,613</td><td class=\"a-text-left mojo-field-type-year\"><a class=\"a-link-normal\" href=\"/year/2014/?ref_=bo_cso_table_196\">2014</a></td></tr><tr><td class=\"a-text-left mojo-header-column mojo-truncate mojo-field-type-title\"><a class=\"a-link-normal\" href=\"/title/tt0074539/?ref_=bo_cso_table_197\">La flûte à six schtroumpfs</a></td><td class=\"a-text-right mojo-field-type-rank\">197</td><td class=\"a-text-right mojo-field-type-money\">$11,234,220</td><td class=\"a-text-right mojo-field-type-rank\">4,619</td><td class=\"a-text-left mojo-field-type-year\"><a class=\"a-link-normal\" href=\"/year/1983/?ref_=bo_cso_table_197\">1983</a></td></tr><tr><td class=\"a-text-left mojo-header-column mojo-truncate mojo-field-type-title\"><a class=\"a-link-normal\" href=\"/title/tt0081031/?ref_=bo_cso_table_198\">The Last Flight of Noah's Ark</a></td><td class=\"a-text-right mojo-field-type-rank\">198</td><td class=\"a-text-right mojo-field-type-money\">$11,000,000</td><td class=\"a-text-right mojo-field-type-rank\">4,652</td><td class=\"a-text-left mojo-field-type-year\"><a class=\"a-link-normal\" href=\"/year/1980/?ref_=bo_cso_table_198\">1980</a></td></tr><tr><td class=\"a-text-left mojo-header-column mojo-truncate mojo-field-type-title\"><a class=\"a-link-normal\" href=\"/title/tt0436595/?ref_=bo_cso_table_199\">Roving Mars</a></td><td class=\"a-text-right mojo-field-type-rank\">199</td><td class=\"a-text-right mojo-field-type-money\">$10,407,978</td><td class=\"a-text-right mojo-field-type-rank\">4,746</td><td class=\"a-text-left mojo-field-type-year\"><a class=\"a-link-normal\" href=\"/year/2006/?ref_=bo_cso_table_199\">2006</a></td></tr><tr><td class=\"a-text-left mojo-header-column mojo-truncate mojo-field-type-title\"><a class=\"a-link-normal\" href=\"/title/tt0067093/?ref_=bo_cso_table_200\">Fiddler on the Roof</a></td><td class=\"a-text-right mojo-field-type-rank\">200</td><td class=\"a-text-right mojo-field-type-money\">$10,404,330</td><td class=\"a-text-right mojo-field-type-rank\">4,748</td><td class=\"a-text-left mojo-field-type-year\">1971</td></tr></table>"
      ]
     },
     "execution_count": 53,
     "metadata": {},
     "output_type": "execute_result"
    }
   ],
   "source": [
    "table = soup.find('table')\n",
    "table"
   ]
  },
  {
   "cell_type": "code",
   "execution_count": 54,
   "metadata": {
    "ExecuteTime": {
     "end_time": "2019-11-27T22:14:00.507480Z",
     "start_time": "2019-11-27T22:14:00.343Z"
    }
   },
   "outputs": [],
   "source": [
    "rows = [row for row in table.find_all('tr')]  # tr tag is for rows"
   ]
  },
  {
   "cell_type": "markdown",
   "metadata": {},
   "source": [
    "Each row contains the information we want but requires more parsing."
   ]
  },
  {
   "cell_type": "code",
   "execution_count": 55,
   "metadata": {
    "ExecuteTime": {
     "end_time": "2019-11-27T22:14:00.511185Z",
     "start_time": "2019-11-27T22:14:00.353Z"
    }
   },
   "outputs": [
    {
     "data": {
      "text/plain": [
       "<tr><td class=\"a-text-left mojo-header-column mojo-truncate mojo-field-type-title\"><a class=\"a-link-normal\" href=\"/title/tt1979376/?ref_=bo_cso_table_1\">Toy Story 4</a></td><td class=\"a-text-right mojo-field-type-rank\">1</td><td class=\"a-text-right mojo-field-type-money\">$434,038,008</td><td class=\"a-text-right mojo-field-type-rank\">24</td><td class=\"a-text-left mojo-field-type-year\"><a class=\"a-link-normal\" href=\"/year/2019/?ref_=bo_cso_table_1\">2019</a></td></tr>"
      ]
     },
     "execution_count": 55,
     "metadata": {},
     "output_type": "execute_result"
    }
   ],
   "source": [
    "rows[1]"
   ]
  },
  {
   "cell_type": "markdown",
   "metadata": {},
   "source": [
    "Remember: you can chain methods together to look for information!"
   ]
  },
  {
   "cell_type": "code",
   "execution_count": 56,
   "metadata": {
    "ExecuteTime": {
     "end_time": "2019-11-27T22:14:00.513681Z",
     "start_time": "2019-11-27T22:14:00.363Z"
    }
   },
   "outputs": [
    {
     "data": {
      "text/plain": [
       "'/title/tt1979376/?ref_=bo_cso_table_1'"
      ]
     },
     "execution_count": 56,
     "metadata": {},
     "output_type": "execute_result"
    }
   ],
   "source": [
    "rows[1].find_all('td')[0].find('a')['href']"
   ]
  },
  {
   "cell_type": "markdown",
   "metadata": {},
   "source": [
    "Now grab data for the first 5 movies with a loop."
   ]
  },
  {
   "cell_type": "code",
   "execution_count": 57,
   "metadata": {
    "ExecuteTime": {
     "end_time": "2019-11-27T22:14:00.515464Z",
     "start_time": "2019-11-27T22:14:00.373Z"
    }
   },
   "outputs": [
    {
     "data": {
      "text/plain": [
       "{'Toy Story 4': ['/title/tt1979376/?ref_=bo_cso_table_1',\n",
       "  'Toy Story 4',\n",
       "  '1',\n",
       "  '$434,038,008',\n",
       "  '24',\n",
       "  '2019'],\n",
       " 'The Lion King': ['/title/tt0110357/?ref_=bo_cso_table_2',\n",
       "  'The Lion King',\n",
       "  '2',\n",
       "  '$422,783,777',\n",
       "  '28',\n",
       "  '1994'],\n",
       " 'Toy Story 3': ['/title/tt0435761/?ref_=bo_cso_table_3',\n",
       "  'Toy Story 3',\n",
       "  '3',\n",
       "  '$415,004,880',\n",
       "  '30',\n",
       "  '2010'],\n",
       " 'Finding Nemo': ['/title/tt0266543/?ref_=bo_cso_table_4',\n",
       "  'Finding Nemo',\n",
       "  '4',\n",
       "  '$380,843,261',\n",
       "  '43',\n",
       "  '2003'],\n",
       " 'Monsters, Inc.': ['/title/tt0198781/?ref_=bo_cso_table_5',\n",
       "  'Monsters, Inc.',\n",
       "  '5',\n",
       "  '$289,916,256',\n",
       "  '100',\n",
       "  '2001']}"
      ]
     },
     "execution_count": 57,
     "metadata": {},
     "output_type": "execute_result"
    }
   ],
   "source": [
    "movies = {}\n",
    "\n",
    "for row in rows[1:6]:\n",
    "    items = row.find_all('td')\n",
    "    link = items[0].find('a')\n",
    "    title, url = link.text, link['href']\n",
    "    movies[title] = [url] + [i.text for i in items]\n",
    "    \n",
    "movies"
   ]
  },
  {
   "cell_type": "markdown",
   "metadata": {},
   "source": [
    "## Recap\n",
    "\n",
    "- Beautiful Soup is a powerful HTML parser\n",
    "- You can locate one element with `.find()` or all matching elements with `.find_all()`\n",
    "- To select specific elements, you can filter by tags like `class` or `id` \n",
    "- You can also find items using text matching and `.findNext()`, `.findNextSibling()`, `.findChild()`, etc.\n",
    "\n",
    "### Limitations\n",
    "Beautiful Soup has its limitations though.  For example, we can't use Beautiful Soup if a page:\n",
    "- Requires us to input a password\n",
    "- Reveals information we want only when we interact with it\n",
    "- Generates dynamically (with JavaScript) rather than statically serving HTML\n",
    "\n",
    "For these situations we need a different tool, like **Selenium** -- coming soon!"
   ]
  },
  {
   "cell_type": "code",
   "execution_count": null,
   "metadata": {},
   "outputs": [],
   "source": []
  }
 ],
 "metadata": {
  "kernelspec": {
   "display_name": "Python [conda env:metis] *",
   "language": "python",
   "name": "conda-env-metis-py"
  },
  "language_info": {
   "codemirror_mode": {
    "name": "ipython",
    "version": 3
   },
   "file_extension": ".py",
   "mimetype": "text/x-python",
   "name": "python",
   "nbconvert_exporter": "python",
   "pygments_lexer": "ipython3",
   "version": "3.7.4"
  }
 },
 "nbformat": 4,
 "nbformat_minor": 2
}
