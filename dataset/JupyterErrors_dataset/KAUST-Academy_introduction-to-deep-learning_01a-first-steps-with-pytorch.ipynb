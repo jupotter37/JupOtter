{
 "cells": [
  {
   "cell_type": "code",
   "execution_count": 1,
   "metadata": {
    "id": "OGfmkOP9AObM"
   },
   "outputs": [],
   "source": [
    "import numpy as np\n",
    "import torch"
   ]
  },
  {
   "cell_type": "code",
   "execution_count": null,
   "metadata": {
    "id": "Kbl1SwbXLa7c"
   },
   "outputs": [],
   "source": [
    "torch.__version__"
   ]
  },
  {
   "cell_type": "markdown",
   "metadata": {
    "id": "H6FyA4Q3APPm"
   },
   "source": [
    "# First steps with PyTorch\n",
    "\n",
    "Follow along as I live code my way through chapter 12 of [*Machine Learning with Scikit-Learn and PyTorch*](https://github.com/rasbt/machine-learning-book)!"
   ]
  },
  {
   "cell_type": "code",
   "execution_count": 2,
   "metadata": {
    "id": "mdlW2IIhAYtX"
   },
   "outputs": [],
   "source": [
    "a = [1, 4.5, 6.0, 3.33, 2 / 3]"
   ]
  },
  {
   "cell_type": "code",
   "execution_count": null,
   "metadata": {
    "id": "ZnZo1kfqKrTF"
   },
   "outputs": [],
   "source": [
    "np.array?"
   ]
  },
  {
   "cell_type": "code",
   "execution_count": 14,
   "metadata": {
    "id": "p1jAqbuhAfXS"
   },
   "outputs": [],
   "source": [
    "b = np.array(a, dtype=np.float32)"
   ]
  },
  {
   "cell_type": "code",
   "execution_count": 15,
   "metadata": {
    "colab": {
     "base_uri": "https://localhost:8080/"
    },
    "id": "wmA19GY3Akw2",
    "outputId": "6005add1-c511-4716-edcf-460ead35a930"
   },
   "outputs": [
    {
     "data": {
      "text/plain": [
       "array([1.       , 4.5      , 6.       , 3.33     , 0.6666667],\n",
       "      dtype=float32)"
      ]
     },
     "execution_count": 15,
     "metadata": {},
     "output_type": "execute_result"
    }
   ],
   "source": [
    "b"
   ]
  },
  {
   "cell_type": "code",
   "execution_count": null,
   "metadata": {
    "id": "nUp8Lt18Ku2I"
   },
   "outputs": [],
   "source": [
    "torch.tensor?"
   ]
  },
  {
   "cell_type": "code",
   "execution_count": 16,
   "metadata": {
    "id": "zeXG2SO9Alud"
   },
   "outputs": [],
   "source": [
    "t_a = torch.tensor(a, dtype=torch.float32)"
   ]
  },
  {
   "cell_type": "code",
   "execution_count": 17,
   "metadata": {
    "colab": {
     "base_uri": "https://localhost:8080/"
    },
    "id": "SaxfxOu9AucH",
    "outputId": "4716c30b-20c6-4fb9-9074-e8aec7cb2760"
   },
   "outputs": [
    {
     "data": {
      "text/plain": [
       "tensor([1.0000, 4.5000, 6.0000, 3.3300, 0.6667])"
      ]
     },
     "execution_count": 17,
     "metadata": {},
     "output_type": "execute_result"
    }
   ],
   "source": [
    "t_a"
   ]
  },
  {
   "cell_type": "code",
   "execution_count": null,
   "metadata": {
    "id": "hG4udvr9KxUM"
   },
   "outputs": [],
   "source": [
    "torch.from_numpy?"
   ]
  },
  {
   "cell_type": "code",
   "execution_count": 18,
   "metadata": {
    "id": "UdBuW_RNAvJF"
   },
   "outputs": [],
   "source": [
    "t_b = torch.from_numpy(b)"
   ]
  },
  {
   "cell_type": "code",
   "execution_count": 19,
   "metadata": {
    "colab": {
     "base_uri": "https://localhost:8080/"
    },
    "id": "BsXdGUTKBKsC",
    "outputId": "b86ea790-9ee7-4205-c3b6-227b09cf0343"
   },
   "outputs": [
    {
     "data": {
      "text/plain": [
       "tensor([1.0000, 4.5000, 6.0000, 3.3300, 0.6667])"
      ]
     },
     "execution_count": 19,
     "metadata": {},
     "output_type": "execute_result"
    }
   ],
   "source": [
    "t_b"
   ]
  },
  {
   "cell_type": "code",
   "execution_count": null,
   "metadata": {
    "id": "9Rm9CIXrKzmb"
   },
   "outputs": [],
   "source": [
    "torch.ones?"
   ]
  },
  {
   "cell_type": "code",
   "execution_count": 22,
   "metadata": {
    "id": "a2PCDn22BLEl"
   },
   "outputs": [],
   "source": [
    "c = torch.ones(2, 3)"
   ]
  },
  {
   "cell_type": "code",
   "execution_count": 24,
   "metadata": {
    "colab": {
     "base_uri": "https://localhost:8080/"
    },
    "id": "AeQxAglwBnZO",
    "outputId": "65327ac1-b392-4bb2-9173-bfc74cbe2db8"
   },
   "outputs": [
    {
     "data": {
      "text/plain": [
       "tensor([[1., 1., 1.],\n",
       "        [1., 1., 1.]])"
      ]
     },
     "execution_count": 24,
     "metadata": {},
     "output_type": "execute_result"
    }
   ],
   "source": [
    "c"
   ]
  },
  {
   "cell_type": "code",
   "execution_count": 23,
   "metadata": {
    "colab": {
     "base_uri": "https://localhost:8080/"
    },
    "id": "y-9cLSBGBfG3",
    "outputId": "d39b3e90-35d9-4a79-d610-978b5274f8aa"
   },
   "outputs": [
    {
     "data": {
      "text/plain": [
       "torch.Size([2, 3])"
      ]
     },
     "execution_count": 23,
     "metadata": {},
     "output_type": "execute_result"
    }
   ],
   "source": [
    "c.shape"
   ]
  },
  {
   "cell_type": "code",
   "execution_count": null,
   "metadata": {
    "id": "kzKc6TLlBxSP"
   },
   "outputs": [],
   "source": [
    "torch.rand?"
   ]
  },
  {
   "cell_type": "code",
   "execution_count": null,
   "metadata": {
    "id": "KzHouP2LLElw"
   },
   "outputs": [],
   "source": [
    "torch.manual_seed?"
   ]
  },
  {
   "cell_type": "code",
   "execution_count": 25,
   "metadata": {
    "id": "LvRNyKgqBmXc"
   },
   "outputs": [],
   "source": [
    "d = torch.rand(2, 3)"
   ]
  },
  {
   "cell_type": "code",
   "execution_count": 26,
   "metadata": {
    "colab": {
     "base_uri": "https://localhost:8080/"
    },
    "id": "1jfs49c1Bulu",
    "outputId": "aecbc325-33a5-475c-ede2-5fd51a86c4e9"
   },
   "outputs": [
    {
     "data": {
      "text/plain": [
       "tensor([[0.7496, 0.7024, 0.0408],\n",
       "        [0.8834, 0.9521, 0.6744]])"
      ]
     },
     "execution_count": 26,
     "metadata": {},
     "output_type": "execute_result"
    }
   ],
   "source": [
    "d"
   ]
  },
  {
   "cell_type": "markdown",
   "metadata": {
    "id": "9ZNY-YXsB2Cq"
   },
   "source": [
    "## Manipulating the type and shape of tensors"
   ]
  },
  {
   "cell_type": "code",
   "execution_count": 27,
   "metadata": {
    "colab": {
     "base_uri": "https://localhost:8080/"
    },
    "id": "M-EQDW-UBu0g",
    "outputId": "1546a7f6-a26f-4a24-e668-dcab8d29352e"
   },
   "outputs": [
    {
     "data": {
      "text/plain": [
       "tensor([1, 4, 6, 3, 0])"
      ]
     },
     "execution_count": 27,
     "metadata": {},
     "output_type": "execute_result"
    }
   ],
   "source": [
    "t_a.to(torch.int64)"
   ]
  },
  {
   "cell_type": "code",
   "execution_count": 28,
   "metadata": {
    "colab": {
     "base_uri": "https://localhost:8080/"
    },
    "id": "T5gXLIuDCBZ3",
    "outputId": "73243462-d54e-43dc-8848-cb3b995fbaba"
   },
   "outputs": [
    {
     "data": {
      "text/plain": [
       "tensor([1.0000, 4.5000, 6.0000, 3.3300, 0.6667])"
      ]
     },
     "execution_count": 28,
     "metadata": {},
     "output_type": "execute_result"
    }
   ],
   "source": [
    "t_a"
   ]
  },
  {
   "cell_type": "code",
   "execution_count": 29,
   "metadata": {
    "colab": {
     "base_uri": "https://localhost:8080/"
    },
    "id": "i79A2zspCCZo",
    "outputId": "3dfe9449-16e2-4ae7-d7d6-c526e3ad2d77"
   },
   "outputs": [
    {
     "data": {
      "text/plain": [
       "tensor([[0.4490, 0.2584, 0.0780],\n",
       "        [0.5300, 0.2313, 0.2962]])"
      ]
     },
     "execution_count": 29,
     "metadata": {},
     "output_type": "execute_result"
    }
   ],
   "source": [
    "e = torch.rand(2, 3)\n",
    "e"
   ]
  },
  {
   "cell_type": "code",
   "execution_count": null,
   "metadata": {
    "id": "ETHqHOINDYkv"
   },
   "outputs": [],
   "source": [
    "torch.transpose?"
   ]
  },
  {
   "cell_type": "code",
   "execution_count": 31,
   "metadata": {
    "id": "q9P_DZCbCLVF"
   },
   "outputs": [],
   "source": [
    "e_t = torch.transpose(e, 0, 1)"
   ]
  },
  {
   "cell_type": "code",
   "execution_count": 32,
   "metadata": {
    "colab": {
     "base_uri": "https://localhost:8080/"
    },
    "id": "499cwI90CRKN",
    "outputId": "8cb90e8b-f1a6-43c9-84cd-07b010c0198f"
   },
   "outputs": [
    {
     "data": {
      "text/plain": [
       "tensor([[0.4490, 0.5300],\n",
       "        [0.2584, 0.2313],\n",
       "        [0.0780, 0.2962]])"
      ]
     },
     "execution_count": 32,
     "metadata": {},
     "output_type": "execute_result"
    }
   ],
   "source": [
    "e_t"
   ]
  },
  {
   "cell_type": "code",
   "execution_count": 39,
   "metadata": {
    "colab": {
     "base_uri": "https://localhost:8080/"
    },
    "id": "Zje1Mc_fDot2",
    "outputId": "28a651b3-9cde-46ec-8a3c-7e4fa15a709f"
   },
   "outputs": [
    {
     "data": {
      "text/plain": [
       "tensor([[0.4490, 0.5300],\n",
       "        [0.2584, 0.2313],\n",
       "        [0.0780, 0.2962]])"
      ]
     },
     "execution_count": 39,
     "metadata": {},
     "output_type": "execute_result"
    }
   ],
   "source": [
    "e.transpose(0, 1)"
   ]
  },
  {
   "cell_type": "code",
   "execution_count": 35,
   "metadata": {
    "colab": {
     "base_uri": "https://localhost:8080/"
    },
    "id": "qegP5VRRCdjR",
    "outputId": "53ef7004-dc9d-425c-e7da-d42ffe3100df"
   },
   "outputs": [
    {
     "data": {
      "text/plain": [
       "tensor([0.8371, 0.0672, 0.6873, 0.2110, 0.6358, 0.3508, 0.2168, 0.5029, 0.4843,\n",
       "        0.5116, 0.2024, 0.9747, 0.2964, 0.5956, 0.3181, 0.9539, 0.1753, 0.2507,\n",
       "        0.0677, 0.7462, 0.2386, 0.2159, 0.1508, 0.2510, 0.6150, 0.9866, 0.0064,\n",
       "        0.2209, 0.2317, 0.7072, 0.8961, 0.1990, 0.3097, 0.7888, 0.3396, 0.4539,\n",
       "        0.6686, 0.4744, 0.9785, 0.7249])"
      ]
     },
     "execution_count": 35,
     "metadata": {},
     "output_type": "execute_result"
    }
   ],
   "source": [
    "f = torch.rand(40)\n",
    "f"
   ]
  },
  {
   "cell_type": "code",
   "execution_count": 37,
   "metadata": {
    "id": "X1-ksTbZDafX"
   },
   "outputs": [],
   "source": [
    "torch.reshape?"
   ]
  },
  {
   "cell_type": "code",
   "execution_count": 38,
   "metadata": {
    "colab": {
     "base_uri": "https://localhost:8080/"
    },
    "id": "rZp29agjDkKs",
    "outputId": "357e41fc-608c-4d5d-cdf0-35b0e5f848e9"
   },
   "outputs": [
    {
     "data": {
      "text/plain": [
       "tensor([[0.8371, 0.0672, 0.6873, 0.2110, 0.6358, 0.3508, 0.2168, 0.5029],\n",
       "        [0.4843, 0.5116, 0.2024, 0.9747, 0.2964, 0.5956, 0.3181, 0.9539],\n",
       "        [0.1753, 0.2507, 0.0677, 0.7462, 0.2386, 0.2159, 0.1508, 0.2510],\n",
       "        [0.6150, 0.9866, 0.0064, 0.2209, 0.2317, 0.7072, 0.8961, 0.1990],\n",
       "        [0.3097, 0.7888, 0.3396, 0.4539, 0.6686, 0.4744, 0.9785, 0.7249]])"
      ]
     },
     "execution_count": 38,
     "metadata": {},
     "output_type": "execute_result"
    }
   ],
   "source": [
    "torch.reshape(f, (5, 8))"
   ]
  },
  {
   "cell_type": "code",
   "execution_count": 36,
   "metadata": {
    "colab": {
     "base_uri": "https://localhost:8080/"
    },
    "id": "VuE2kvhjDMGl",
    "outputId": "31538f6b-f8a4-438c-cead-a93947fa8e7a"
   },
   "outputs": [
    {
     "data": {
      "text/plain": [
       "tensor([[0.8371, 0.0672, 0.6873, 0.2110, 0.6358, 0.3508, 0.2168, 0.5029],\n",
       "        [0.4843, 0.5116, 0.2024, 0.9747, 0.2964, 0.5956, 0.3181, 0.9539],\n",
       "        [0.1753, 0.2507, 0.0677, 0.7462, 0.2386, 0.2159, 0.1508, 0.2510],\n",
       "        [0.6150, 0.9866, 0.0064, 0.2209, 0.2317, 0.7072, 0.8961, 0.1990],\n",
       "        [0.3097, 0.7888, 0.3396, 0.4539, 0.6686, 0.4744, 0.9785, 0.7249]])"
      ]
     },
     "execution_count": 36,
     "metadata": {},
     "output_type": "execute_result"
    }
   ],
   "source": [
    "f.reshape(5, 8)"
   ]
  },
  {
   "cell_type": "code",
   "execution_count": 40,
   "metadata": {
    "colab": {
     "base_uri": "https://localhost:8080/"
    },
    "id": "GT_ZTS1IDP_T",
    "outputId": "f586bdd5-8f2a-4703-c250-8bd54dbbfa6e"
   },
   "outputs": [
    {
     "data": {
      "text/plain": [
       "tensor([[[[[0.1973, 0.0514, 0.4273, 0.5294, 0.4435],\n",
       "           [0.5994, 0.5222, 0.5144, 0.6194, 0.7200],\n",
       "           [0.8643, 0.6407, 0.5361, 0.9361, 0.2588],\n",
       "           [0.7083, 0.0184, 0.4278, 0.8650, 0.9236]]],\n",
       "\n",
       "\n",
       "         [[[0.3274, 0.5968, 0.3151, 0.5437, 0.3140],\n",
       "           [0.8752, 0.5365, 0.0156, 0.7385, 0.6914],\n",
       "           [0.8447, 0.9882, 0.2469, 0.7298, 0.8151],\n",
       "           [0.0271, 0.0761, 0.9519, 0.6246, 0.5269]]]]])"
      ]
     },
     "execution_count": 40,
     "metadata": {},
     "output_type": "execute_result"
    }
   ],
   "source": [
    "g = torch.rand(1, 2, 1, 4, 5)\n",
    "g"
   ]
  },
  {
   "cell_type": "code",
   "execution_count": 41,
   "metadata": {
    "colab": {
     "base_uri": "https://localhost:8080/"
    },
    "id": "t_ghiYWBEWID",
    "outputId": "0ddc595d-ec0e-4394-9e28-5044d6bb0b11"
   },
   "outputs": [
    {
     "data": {
      "text/plain": [
       "torch.Size([1, 2, 1, 4, 5])"
      ]
     },
     "execution_count": 41,
     "metadata": {},
     "output_type": "execute_result"
    }
   ],
   "source": [
    "g.shape"
   ]
  },
  {
   "cell_type": "code",
   "execution_count": 43,
   "metadata": {
    "id": "FBNMmGpeEXlx"
   },
   "outputs": [],
   "source": [
    "h = torch.squeeze(g, 2)"
   ]
  },
  {
   "cell_type": "code",
   "execution_count": 44,
   "metadata": {
    "colab": {
     "base_uri": "https://localhost:8080/"
    },
    "id": "yyRrVwqxEa3t",
    "outputId": "896d47b1-b977-4e45-ac86-2d656d7daab0"
   },
   "outputs": [
    {
     "data": {
      "text/plain": [
       "torch.Size([1, 2, 4, 5])"
      ]
     },
     "execution_count": 44,
     "metadata": {},
     "output_type": "execute_result"
    }
   ],
   "source": [
    "h.shape"
   ]
  },
  {
   "cell_type": "code",
   "execution_count": 45,
   "metadata": {
    "id": "1yugBA3NEeA5"
   },
   "outputs": [],
   "source": [
    "j = h.squeeze(0)"
   ]
  },
  {
   "cell_type": "code",
   "execution_count": 46,
   "metadata": {
    "colab": {
     "base_uri": "https://localhost:8080/"
    },
    "id": "x7jX1yfkEkvn",
    "outputId": "0455424e-20a9-484b-cd00-7c81e3a2a1bd"
   },
   "outputs": [
    {
     "data": {
      "text/plain": [
       "torch.Size([2, 4, 5])"
      ]
     },
     "execution_count": 46,
     "metadata": {},
     "output_type": "execute_result"
    }
   ],
   "source": [
    "j.shape"
   ]
  },
  {
   "cell_type": "markdown",
   "metadata": {
    "id": "xdRWgSB9EqHT"
   },
   "source": [
    "## Applying mathematical operators to tensors"
   ]
  },
  {
   "cell_type": "code",
   "execution_count": 48,
   "metadata": {
    "id": "vZj_lCHIElfj"
   },
   "outputs": [],
   "source": [
    "prng = torch.manual_seed(1234)"
   ]
  },
  {
   "cell_type": "code",
   "execution_count": 51,
   "metadata": {
    "id": "17SjE9wuK6OJ"
   },
   "outputs": [],
   "source": [
    "t1 = 2 * torch.rand(5, 2, generator=prng) - 1"
   ]
  },
  {
   "cell_type": "code",
   "execution_count": 52,
   "metadata": {
    "colab": {
     "base_uri": "https://localhost:8080/"
    },
    "id": "_-8R-zRtLDwr",
    "outputId": "d5953d7a-198a-4aa8-a9d3-d1589ec40992"
   },
   "outputs": [
    {
     "data": {
      "text/plain": [
       "tensor([[-0.9420, -0.1962],\n",
       "        [-0.4803, -0.2667],\n",
       "        [-0.8834,  0.4013],\n",
       "        [-0.8964, -0.0637],\n",
       "        [ 0.3476, -0.3371]])"
      ]
     },
     "execution_count": 52,
     "metadata": {},
     "output_type": "execute_result"
    }
   ],
   "source": [
    "t1"
   ]
  },
  {
   "cell_type": "code",
   "execution_count": 54,
   "metadata": {
    "id": "tU3phLRYLS3x"
   },
   "outputs": [],
   "source": [
    "t2 = torch.normal(mean=0, std=1, size=(5,2), generator=prng)"
   ]
  },
  {
   "cell_type": "code",
   "execution_count": 55,
   "metadata": {
    "colab": {
     "base_uri": "https://localhost:8080/"
    },
    "id": "0l4JhVnLLgNe",
    "outputId": "ec7c0b25-1ab5-4512-f0b4-d8cfed51aee3"
   },
   "outputs": [
    {
     "data": {
      "text/plain": [
       "tensor([[-0.0821,  0.6607],\n",
       "        [ 0.0785,  0.7884],\n",
       "        [ 1.5385, -0.9757],\n",
       "        [ 1.5769,  0.3840],\n",
       "        [-0.6039, -0.5240]])"
      ]
     },
     "execution_count": 55,
     "metadata": {},
     "output_type": "execute_result"
    }
   ],
   "source": [
    "t2"
   ]
  },
  {
   "cell_type": "code",
   "execution_count": 56,
   "metadata": {
    "colab": {
     "base_uri": "https://localhost:8080/"
    },
    "id": "952L7xuELlz3",
    "outputId": "d55616fe-90a6-40c9-de60-965c52dc725e"
   },
   "outputs": [
    {
     "data": {
      "text/plain": [
       "tensor([[ 0.0773, -0.1296],\n",
       "        [-0.0377, -0.2103],\n",
       "        [-1.3591, -0.3916],\n",
       "        [-1.4136, -0.0245],\n",
       "        [-0.2099,  0.1766]])"
      ]
     },
     "execution_count": 56,
     "metadata": {},
     "output_type": "execute_result"
    }
   ],
   "source": [
    "torch.multiply(t1, t2)"
   ]
  },
  {
   "cell_type": "code",
   "execution_count": 57,
   "metadata": {
    "colab": {
     "base_uri": "https://localhost:8080/"
    },
    "id": "BuR2vd3ELrWy",
    "outputId": "991c031b-e83e-476e-a229-f392e2f7e02b"
   },
   "outputs": [
    {
     "data": {
      "text/plain": [
       "tensor([[ 0.0773, -0.1296],\n",
       "        [-0.0377, -0.2103],\n",
       "        [-1.3591, -0.3916],\n",
       "        [-1.4136, -0.0245],\n",
       "        [-0.2099,  0.1766]])"
      ]
     },
     "execution_count": 57,
     "metadata": {},
     "output_type": "execute_result"
    }
   ],
   "source": [
    "t1.multiply(t2)"
   ]
  },
  {
   "cell_type": "code",
   "execution_count": 58,
   "metadata": {
    "colab": {
     "base_uri": "https://localhost:8080/"
    },
    "id": "n8jtVhtiLuEG",
    "outputId": "b1426963-82b5-4196-887a-6b505106dbde"
   },
   "outputs": [
    {
     "data": {
      "text/plain": [
       "tensor([[ 0.0773, -0.1296],\n",
       "        [-0.0377, -0.2103],\n",
       "        [-1.3591, -0.3916],\n",
       "        [-1.4136, -0.0245],\n",
       "        [-0.2099,  0.1766]])"
      ]
     },
     "execution_count": 58,
     "metadata": {},
     "output_type": "execute_result"
    }
   ],
   "source": [
    "t1 * t2"
   ]
  },
  {
   "cell_type": "code",
   "execution_count": 110,
   "metadata": {
    "colab": {
     "base_uri": "https://localhost:8080/"
    },
    "id": "hJ6dCMP4LwWl",
    "outputId": "467bd193-3773-4556-e668-799e6f656040"
   },
   "outputs": [
    {
     "data": {
      "text/plain": [
       "tensor([-0.5709, -0.0925])"
      ]
     },
     "execution_count": 110,
     "metadata": {},
     "output_type": "execute_result"
    }
   ],
   "source": [
    "torch.mean(t1, dim=0)"
   ]
  },
  {
   "cell_type": "code",
   "execution_count": 108,
   "metadata": {
    "colab": {
     "base_uri": "https://localhost:8080/"
    },
    "id": "qoKCQeBEL2H1",
    "outputId": "1db42a95-743b-4cf5-f28f-27b929ed4b53"
   },
   "outputs": [
    {
     "data": {
      "text/plain": [
       "tensor([0.5274, 0.1510, 0.9084, 0.5888, 0.4841])"
      ]
     },
     "execution_count": 108,
     "metadata": {},
     "output_type": "execute_result"
    }
   ],
   "source": [
    "torch.std(t1, dim=1)"
   ]
  },
  {
   "cell_type": "code",
   "execution_count": 111,
   "metadata": {
    "colab": {
     "base_uri": "https://localhost:8080/"
    },
    "id": "O1i0KFM6L40H",
    "outputId": "49294fc1-6590-4350-94af-581c7098f646"
   },
   "outputs": [
    {
     "data": {
      "text/plain": [
       "tensor([-2.8545, -0.4624])"
      ]
     },
     "execution_count": 111,
     "metadata": {},
     "output_type": "execute_result"
    }
   ],
   "source": [
    "torch.sum(t1, dim=0)"
   ]
  },
  {
   "cell_type": "code",
   "execution_count": 112,
   "metadata": {
    "colab": {
     "base_uri": "https://localhost:8080/"
    },
    "id": "KBdmo0CDMADA",
    "outputId": "c997080a-fdb2-4650-864a-4d5c333999eb"
   },
   "outputs": [
    {
     "data": {
      "text/plain": [
       "tensor([-2.8545, -0.4624])"
      ]
     },
     "execution_count": 112,
     "metadata": {},
     "output_type": "execute_result"
    }
   ],
   "source": [
    "t1.sum(dim=0)"
   ]
  },
  {
   "cell_type": "code",
   "execution_count": 65,
   "metadata": {
    "colab": {
     "base_uri": "https://localhost:8080/"
    },
    "id": "dukogPK3MDTt",
    "outputId": "7c402309-4fef-44e2-eb61-e835b3632d85"
   },
   "outputs": [
    {
     "data": {
      "text/plain": [
       "tensor([[-0.0523, -0.2286, -1.2579, -1.5609,  0.6717],\n",
       "        [-0.1368, -0.2480, -0.4787, -0.8598,  0.4298],\n",
       "        [ 0.3376,  0.2471, -1.7507, -1.2390,  0.3232],\n",
       "        [ 0.0315, -0.1206, -1.3170, -1.4380,  0.5747],\n",
       "        [-0.2512, -0.2385,  0.8637,  0.4187, -0.0333]])"
      ]
     },
     "execution_count": 65,
     "metadata": {},
     "output_type": "execute_result"
    }
   ],
   "source": [
    "torch.matmul(t1, t2.transpose(0, 1))"
   ]
  },
  {
   "cell_type": "code",
   "execution_count": 67,
   "metadata": {
    "colab": {
     "base_uri": "https://localhost:8080/"
    },
    "id": "q6M6ZF4NMXXT",
    "outputId": "f24e7271-b727-4013-ebf7-ea8b59ccc355"
   },
   "outputs": [
    {
     "data": {
      "text/plain": [
       "tensor([[-0.0523, -0.2286, -1.2579, -1.5609,  0.6717],\n",
       "        [-0.1368, -0.2480, -0.4787, -0.8598,  0.4298],\n",
       "        [ 0.3376,  0.2471, -1.7507, -1.2390,  0.3232],\n",
       "        [ 0.0315, -0.1206, -1.3170, -1.4380,  0.5747],\n",
       "        [-0.2512, -0.2385,  0.8637,  0.4187, -0.0333]])"
      ]
     },
     "execution_count": 67,
     "metadata": {},
     "output_type": "execute_result"
    }
   ],
   "source": [
    "torch.matmul(t1, t2.T)"
   ]
  },
  {
   "cell_type": "code",
   "execution_count": 66,
   "metadata": {
    "colab": {
     "base_uri": "https://localhost:8080/"
    },
    "id": "8xNxOgAYMLXg",
    "outputId": "0c899bd9-eb6e-4483-af21-27ef90bdd48a"
   },
   "outputs": [
    {
     "data": {
      "text/plain": [
       "tensor([[-0.0523, -0.2286, -1.2579, -1.5609,  0.6717],\n",
       "        [-0.1368, -0.2480, -0.4787, -0.8598,  0.4298],\n",
       "        [ 0.3376,  0.2471, -1.7507, -1.2390,  0.3232],\n",
       "        [ 0.0315, -0.1206, -1.3170, -1.4380,  0.5747],\n",
       "        [-0.2512, -0.2385,  0.8637,  0.4187, -0.0333]])"
      ]
     },
     "execution_count": 66,
     "metadata": {},
     "output_type": "execute_result"
    }
   ],
   "source": [
    "t1 @ t2.T"
   ]
  },
  {
   "cell_type": "code",
   "execution_count": 69,
   "metadata": {
    "colab": {
     "base_uri": "https://localhost:8080/"
    },
    "id": "SUesoSlBNDsS",
    "outputId": "1982917e-b470-4d2b-ef41-e819ffda0795"
   },
   "outputs": [
    {
     "data": {
      "text/plain": [
       "tensor([[-2.9430, -0.6655],\n",
       "        [ 0.7156, -0.5793]])"
      ]
     },
     "execution_count": 69,
     "metadata": {},
     "output_type": "execute_result"
    }
   ],
   "source": [
    "t1.T @ t2"
   ]
  },
  {
   "cell_type": "code",
   "execution_count": 68,
   "metadata": {
    "colab": {
     "base_uri": "https://localhost:8080/",
     "height": 166
    },
    "id": "OsKUbA63MSAp",
    "outputId": "f84cfa75-cf44-4c71-86f5-1ba72fcc6607"
   },
   "outputs": [
    {
     "ename": "RuntimeError",
     "evalue": "ignored",
     "output_type": "error",
     "traceback": [
      "\u001b[0;31m---------------------------------------------------------------------------\u001b[0m",
      "\u001b[0;31mRuntimeError\u001b[0m                              Traceback (most recent call last)",
      "\u001b[0;32m<ipython-input-68-46dd7a2594e9>\u001b[0m in \u001b[0;36m<module>\u001b[0;34m\u001b[0m\n\u001b[0;32m----> 1\u001b[0;31m \u001b[0mtorch\u001b[0m\u001b[0;34m.\u001b[0m\u001b[0mdot\u001b[0m\u001b[0;34m(\u001b[0m\u001b[0mt1\u001b[0m\u001b[0;34m,\u001b[0m \u001b[0mt2\u001b[0m\u001b[0;34m.\u001b[0m\u001b[0mT\u001b[0m\u001b[0;34m)\u001b[0m\u001b[0;34m\u001b[0m\u001b[0;34m\u001b[0m\u001b[0m\n\u001b[0m",
      "\u001b[0;31mRuntimeError\u001b[0m: 1D tensors expected, but got 2D and 2D tensors"
     ]
    }
   ],
   "source": [
    "torch.dot(t1, t2.T)"
   ]
  },
  {
   "cell_type": "code",
   "execution_count": 70,
   "metadata": {
    "id": "nMcvCIWUMsa6"
   },
   "outputs": [],
   "source": [
    "torch.linalg.norm?"
   ]
  },
  {
   "cell_type": "code",
   "execution_count": 72,
   "metadata": {
    "colab": {
     "base_uri": "https://localhost:8080/"
    },
    "id": "9KJaUHPLNNLk",
    "outputId": "85043edd-462c-48f2-a1e3-44d4a718c1b8"
   },
   "outputs": [
    {
     "data": {
      "text/plain": [
       "tensor([2.2872, 1.5596])"
      ]
     },
     "execution_count": 72,
     "metadata": {},
     "output_type": "execute_result"
    }
   ],
   "source": [
    "torch.linalg.norm(t2, ord=2, dim=0)"
   ]
  },
  {
   "cell_type": "code",
   "execution_count": 106,
   "metadata": {
    "colab": {
     "base_uri": "https://localhost:8080/"
    },
    "id": "2O9pP68QNT2a",
    "outputId": "11e9d2ab-2c1c-4bf9-87cd-9279abccac7e"
   },
   "outputs": [
    {
     "data": {
      "text/plain": [
       "tensor([2.2872, 1.5596])"
      ]
     },
     "execution_count": 106,
     "metadata": {},
     "output_type": "execute_result"
    }
   ],
   "source": [
    "torch.sqrt(torch.sum(t2**2, dim=0))"
   ]
  },
  {
   "cell_type": "markdown",
   "metadata": {
    "id": "tY1ZXN4QNqNi"
   },
   "source": [
    "## Chunk, split, stack, and concatenate tensors"
   ]
  },
  {
   "cell_type": "code",
   "execution_count": 76,
   "metadata": {
    "id": "eoSpcJIYNo5C"
   },
   "outputs": [],
   "source": [
    "prng = torch.manual_seed(42)"
   ]
  },
  {
   "cell_type": "code",
   "execution_count": 82,
   "metadata": {
    "colab": {
     "base_uri": "https://localhost:8080/"
    },
    "id": "q6JJkoevNeGh",
    "outputId": "208425e6-9117-4322-9069-38924d13f8f2"
   },
   "outputs": [
    {
     "data": {
      "text/plain": [
       "tensor([[0.6343, 0.3644, 0.7104],\n",
       "        [0.9464, 0.7890, 0.2814],\n",
       "        [0.7886, 0.5895, 0.7539],\n",
       "        [0.1952, 0.0050, 0.3068],\n",
       "        [0.1165, 0.9103, 0.6440],\n",
       "        [0.7071, 0.6581, 0.4913],\n",
       "        [0.8913, 0.1447, 0.5315],\n",
       "        [0.1587, 0.6542, 0.3278],\n",
       "        [0.6532, 0.3958, 0.9147],\n",
       "        [0.2036, 0.2018, 0.2018]])"
      ]
     },
     "execution_count": 82,
     "metadata": {},
     "output_type": "execute_result"
    }
   ],
   "source": [
    "t = torch.rand(10, 3, generator=prng)\n",
    "t"
   ]
  },
  {
   "cell_type": "code",
   "execution_count": 83,
   "metadata": {
    "id": "jFm5TS96Ov_m"
   },
   "outputs": [],
   "source": [
    "torch.chunk?"
   ]
  },
  {
   "cell_type": "code",
   "execution_count": 85,
   "metadata": {
    "id": "f4vkGdC6OdRR"
   },
   "outputs": [],
   "source": [
    "batches = torch.chunk(t, 3, dim=0)"
   ]
  },
  {
   "cell_type": "code",
   "execution_count": 86,
   "metadata": {
    "colab": {
     "base_uri": "https://localhost:8080/"
    },
    "id": "01YlNfMHOx3P",
    "outputId": "348ad23a-97bd-4b6a-df93-971cea58dab8"
   },
   "outputs": [
    {
     "name": "stdout",
     "output_type": "stream",
     "text": [
      "tensor([[0.6343, 0.3644, 0.7104],\n",
      "        [0.9464, 0.7890, 0.2814],\n",
      "        [0.7886, 0.5895, 0.7539],\n",
      "        [0.1952, 0.0050, 0.3068]])\n",
      "tensor([[0.1165, 0.9103, 0.6440],\n",
      "        [0.7071, 0.6581, 0.4913],\n",
      "        [0.8913, 0.1447, 0.5315],\n",
      "        [0.1587, 0.6542, 0.3278]])\n",
      "tensor([[0.6532, 0.3958, 0.9147],\n",
      "        [0.2036, 0.2018, 0.2018]])\n"
     ]
    }
   ],
   "source": [
    "for i, batch in enumerate(batches):\n",
    "    print(batch)"
   ]
  },
  {
   "cell_type": "code",
   "execution_count": 88,
   "metadata": {
    "colab": {
     "base_uri": "https://localhost:8080/"
    },
    "id": "R0l3SkJuO2Qc",
    "outputId": "a6b1e7bb-1fb5-4b2b-b191-de6b1529c39b"
   },
   "outputs": [
    {
     "name": "stdout",
     "output_type": "stream",
     "text": [
      "tensor([[0.6343],\n",
      "        [0.9464],\n",
      "        [0.7886],\n",
      "        [0.1952],\n",
      "        [0.1165],\n",
      "        [0.7071],\n",
      "        [0.8913],\n",
      "        [0.1587],\n",
      "        [0.6532],\n",
      "        [0.2036]])\n",
      "tensor([[0.3644],\n",
      "        [0.7890],\n",
      "        [0.5895],\n",
      "        [0.0050],\n",
      "        [0.9103],\n",
      "        [0.6581],\n",
      "        [0.1447],\n",
      "        [0.6542],\n",
      "        [0.3958],\n",
      "        [0.2018]])\n",
      "tensor([[0.7104],\n",
      "        [0.2814],\n",
      "        [0.7539],\n",
      "        [0.3068],\n",
      "        [0.6440],\n",
      "        [0.4913],\n",
      "        [0.5315],\n",
      "        [0.3278],\n",
      "        [0.9147],\n",
      "        [0.2018]])\n"
     ]
    }
   ],
   "source": [
    "features = torch.chunk(t, 3, dim=1)\n",
    "\n",
    "for j, feature in enumerate(features):\n",
    "    print(feature)"
   ]
  },
  {
   "cell_type": "code",
   "execution_count": 92,
   "metadata": {
    "id": "nB9tkkwXPamt"
   },
   "outputs": [],
   "source": [
    "splits = torch.split(t, split_size_or_sections=[4, 4, 2], dim=0)"
   ]
  },
  {
   "cell_type": "code",
   "execution_count": 94,
   "metadata": {
    "colab": {
     "base_uri": "https://localhost:8080/"
    },
    "id": "NEHzPIvKP1BV",
    "outputId": "99529c6d-bbff-49bb-d1a7-2529699c67a9"
   },
   "outputs": [
    {
     "name": "stdout",
     "output_type": "stream",
     "text": [
      "tensor([[0.6343, 0.3644, 0.7104],\n",
      "        [0.9464, 0.7890, 0.2814],\n",
      "        [0.7886, 0.5895, 0.7539],\n",
      "        [0.1952, 0.0050, 0.3068]])\n",
      "tensor([[0.1165, 0.9103, 0.6440],\n",
      "        [0.7071, 0.6581, 0.4913],\n",
      "        [0.8913, 0.1447, 0.5315],\n",
      "        [0.1587, 0.6542, 0.3278]])\n",
      "tensor([[0.6532, 0.3958, 0.9147],\n",
      "        [0.2036, 0.2018, 0.2018]])\n"
     ]
    }
   ],
   "source": [
    "for i, split in enumerate(splits):\n",
    "    print(split)"
   ]
  },
  {
   "cell_type": "code",
   "execution_count": 97,
   "metadata": {
    "id": "BvTPS5ywSBoU"
   },
   "outputs": [],
   "source": [
    "torch.stack?"
   ]
  },
  {
   "cell_type": "code",
   "execution_count": 96,
   "metadata": {
    "id": "s1rzqPW-QGO1"
   },
   "outputs": [],
   "source": [
    "a = torch.zeros(5)\n",
    "b = torch.ones(5)"
   ]
  },
  {
   "cell_type": "code",
   "execution_count": 98,
   "metadata": {
    "colab": {
     "base_uri": "https://localhost:8080/"
    },
    "id": "3XZ-PR6nSE2k",
    "outputId": "2a6b5af0-0ebd-4bcd-a750-d822122a74f5"
   },
   "outputs": [
    {
     "data": {
      "text/plain": [
       "tensor([[0., 0., 0., 0., 0.],\n",
       "        [1., 1., 1., 1., 1.]])"
      ]
     },
     "execution_count": 98,
     "metadata": {},
     "output_type": "execute_result"
    }
   ],
   "source": [
    "torch.stack([a, b], dim=0)"
   ]
  },
  {
   "cell_type": "code",
   "execution_count": 99,
   "metadata": {
    "colab": {
     "base_uri": "https://localhost:8080/"
    },
    "id": "7wuXE_SiSKaK",
    "outputId": "2a9e0f8f-5bcc-48ee-a1dc-84c75b67cfb6"
   },
   "outputs": [
    {
     "data": {
      "text/plain": [
       "tensor([[0., 1.],\n",
       "        [0., 1.],\n",
       "        [0., 1.],\n",
       "        [0., 1.],\n",
       "        [0., 1.]])"
      ]
     },
     "execution_count": 99,
     "metadata": {},
     "output_type": "execute_result"
    }
   ],
   "source": [
    "torch.stack([a, b], dim=1)"
   ]
  },
  {
   "cell_type": "code",
   "execution_count": 101,
   "metadata": {
    "id": "C-SdnjjcSNvN"
   },
   "outputs": [],
   "source": [
    "torch.cat?"
   ]
  },
  {
   "cell_type": "code",
   "execution_count": 104,
   "metadata": {
    "colab": {
     "base_uri": "https://localhost:8080/"
    },
    "id": "jf9VYZbfSTNm",
    "outputId": "316bf197-d21e-4c87-a28f-ccb8bedc3092"
   },
   "outputs": [
    {
     "data": {
      "text/plain": [
       "tensor([0., 0., 0., 0., 0., 1., 1., 1., 1., 1.])"
      ]
     },
     "execution_count": 104,
     "metadata": {},
     "output_type": "execute_result"
    }
   ],
   "source": [
    "torch.cat([a, b], dim=0)"
   ]
  },
  {
   "cell_type": "code",
   "execution_count": 105,
   "metadata": {
    "colab": {
     "base_uri": "https://localhost:8080/",
     "height": 166
    },
    "id": "eIsICrIQSZkJ",
    "outputId": "eadd1bea-e700-419c-aba6-7637c629cb39"
   },
   "outputs": [
    {
     "ename": "IndexError",
     "evalue": "ignored",
     "output_type": "error",
     "traceback": [
      "\u001b[0;31m---------------------------------------------------------------------------\u001b[0m",
      "\u001b[0;31mIndexError\u001b[0m                                Traceback (most recent call last)",
      "\u001b[0;32m<ipython-input-105-84337beb2704>\u001b[0m in \u001b[0;36m<module>\u001b[0;34m\u001b[0m\n\u001b[0;32m----> 1\u001b[0;31m \u001b[0mtorch\u001b[0m\u001b[0;34m.\u001b[0m\u001b[0mcat\u001b[0m\u001b[0;34m(\u001b[0m\u001b[0;34m[\u001b[0m\u001b[0ma\u001b[0m\u001b[0;34m,\u001b[0m\u001b[0mb\u001b[0m\u001b[0;34m]\u001b[0m\u001b[0;34m,\u001b[0m \u001b[0mdim\u001b[0m\u001b[0;34m=\u001b[0m\u001b[0;36m1\u001b[0m\u001b[0;34m)\u001b[0m\u001b[0;34m\u001b[0m\u001b[0;34m\u001b[0m\u001b[0m\n\u001b[0m",
      "\u001b[0;31mIndexError\u001b[0m: Dimension out of range (expected to be in range of [-1, 0], but got 1)"
     ]
    }
   ],
   "source": [
    "torch.cat([a, b], dim=1)"
   ]
  },
  {
   "cell_type": "code",
   "execution_count": null,
   "metadata": {
    "id": "-HujfdBtSiaQ"
   },
   "outputs": [],
   "source": []
  }
 ],
 "metadata": {
  "colab": {
   "provenance": []
  },
  "kernelspec": {
   "display_name": "Python 3 (ipykernel)",
   "language": "python",
   "name": "python3"
  },
  "language_info": {
   "codemirror_mode": {
    "name": "ipython",
    "version": 3
   },
   "file_extension": ".py",
   "mimetype": "text/x-python",
   "name": "python",
   "nbconvert_exporter": "python",
   "pygments_lexer": "ipython3",
   "version": "3.10.6"
  }
 },
 "nbformat": 4,
 "nbformat_minor": 4
}
