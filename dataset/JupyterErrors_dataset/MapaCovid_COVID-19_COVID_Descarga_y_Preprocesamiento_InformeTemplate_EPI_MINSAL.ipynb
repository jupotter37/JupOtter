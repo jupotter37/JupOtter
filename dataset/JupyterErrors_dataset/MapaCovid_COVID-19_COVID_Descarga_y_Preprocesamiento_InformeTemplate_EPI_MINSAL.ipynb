{
 "cells": [
  {
   "cell_type": "code",
   "execution_count": 1,
   "metadata": {
    "colab": {},
    "colab_type": "code",
    "id": "axaR9kUn1JsT"
   },
   "outputs": [],
   "source": [
    "#Documento adaptado de https://github.com/Stepp1 y https://github.com/estebaniglesias \n",
    "#por https://github.com/DiazSalinas\n",
    "\n",
    "import subprocess\n",
    "import shlex\n",
    "import requests"
   ]
  },
  {
   "cell_type": "code",
   "execution_count": 2,
   "metadata": {
    "colab": {
     "base_uri": "https://localhost:8080/",
     "height": 139
    },
    "colab_type": "code",
    "id": "KSrxIdU-1Jse",
    "outputId": "1d2dfc50-5f6d-41b4-b530-cba81f25a76b"
   },
   "outputs": [],
   "source": [
    "!pip install tabula-py \n",
    "#Sólo una vez"
   ]
  },
  {
   "cell_type": "markdown",
   "metadata": {
    "colab_type": "text",
    "id": "2VvbUqfD1Jso"
   },
   "source": [
    "### Eliminamos descargas anteriores"
   ]
  },
  {
   "cell_type": "code",
   "execution_count": 2,
   "metadata": {
    "colab": {},
    "colab_type": "code",
    "id": "YFCxsryX1Jsp"
   },
   "outputs": [],
   "source": [
    "!rm *pdf"
   ]
  },
  {
   "cell_type": "markdown",
   "metadata": {
    "colab_type": "text",
    "id": "9U-6lYT51Jsx"
   },
   "source": [
    "### Obtenemos las urls de los informes (EPI y Generales)"
   ]
  },
  {
   "cell_type": "code",
   "execution_count": 3,
   "metadata": {
    "colab": {},
    "colab_type": "code",
    "id": "QUQYguv71Jsy",
    "scrolled": false
   },
   "outputs": [],
   "source": [
    "response = subprocess.check_output(shlex.split('curl --request GET https://www.gob.cl/coronavirus/cifrasoficiales/'))\n",
    "\n",
    "#print(response)\n",
    "url_reporte = []\n",
    "url_informe_epi = []\n",
    "for line in response.decode().splitlines():\n",
    "    if \"Reporte_Covid19.pdf\" in line:\n",
    "        url = line.strip().split('https://')[1].split(\"\\\"\")[0]\n",
    "        \n",
    "        url_reporte.append(url)\n",
    "        \n",
    "    #El informe a veces está en minúsculas    \n",
    "    elif \"INFORME_EP\" in line:\n",
    "        \n",
    "        test = line.strip()\n",
    "        test = test.split('https://')[1].split(\"\\\"\")[0]\n",
    "        url_informe_epi.append(test)\n",
    "    elif \"Informe_EPI\" in line:\n",
    "        \n",
    "        test = line.strip()\n",
    "        test = test.split('https://')[1].split(\"\\\"\")[0]\n",
    "        url_informe_epi.append(test)\n",
    "        \n",
    "        "
   ]
  },
  {
   "cell_type": "code",
   "execution_count": 4,
   "metadata": {},
   "outputs": [
    {
     "data": {
      "text/plain": [
       "['cdn.digital.gob.cl/public_files/Campa%C3%B1as/Corona-Virus/Reportes/INFORME_EPI_COVID19_20200313.pdf',\n",
       " 'cdn.digital.gob.cl/public_files/Campa%C3%B1as/Corona-Virus/Reportes/INFORME_EP_COVID19_20200410.pdf',\n",
       " 'cdn.digital.gob.cl/public_files/Campa%C3%B1as/Corona-Virus/Reportes/INFORME_EP_COVID19_20200408.pdf',\n",
       " 'cdn.digital.gob.cl/public_files/Campa%C3%B1as/Corona-Virus/Reportes/INFORME_EP_COVID19_20200406.pdf',\n",
       " 'www.minsal.cl/wp-content/uploads/2020/04/Informe_EPI_03_04_2020.pdf',\n",
       " 'cdn.digital.gob.cl/public_files/Campa%C3%B1as/Corona-Virus/Reportes/INFORME_EPI_COVID19_20200401v2.pdf',\n",
       " 'cdn.digital.gob.cl/public_files/Campa%C3%B1as/Corona-Virus/Reportes/INFORME_EPI_COVID19_20200330.pdf']"
      ]
     },
     "execution_count": 4,
     "metadata": {},
     "output_type": "execute_result"
    }
   ],
   "source": [
    "url_informe_epi"
   ]
  },
  {
   "cell_type": "markdown",
   "metadata": {
    "colab_type": "text",
    "id": "i3FOkesv1Js4"
   },
   "source": [
    "#### Double Check"
   ]
  },
  {
   "cell_type": "code",
   "execution_count": 5,
   "metadata": {
    "colab": {
     "base_uri": "https://localhost:8080/",
     "height": 121
    },
    "colab_type": "code",
    "id": "WcxOyl_21Js5",
    "outputId": "5a994739-d722-451d-c8fc-3e678f3e0022"
   },
   "outputs": [
    {
     "data": {
      "text/plain": [
       "['cdn.digital.gob.cl/public_files/Campa%C3%B1as/Corona-Virus/Reportes/14.04.2020_Reporte_Covid19.pdf',\n",
       " 'cdn.digital.gob.cl/public_files/Campa%C3%B1as/Corona-Virus/Reportes/13.04.2020_Reporte_Covid19.pdf',\n",
       " 'cdn.digital.gob.cl/public_files/Campa%C3%B1as/Corona-Virus/Reportes/12.04.2020_Reporte_Covid19.pdf',\n",
       " 'cdn.digital.gob.cl/public_files/Campa%C3%B1as/Corona-Virus/Reportes/11.04.2020_Reporte_Covid19.pdf',\n",
       " 'cdn.digital.gob.cl/public_files/Campa%C3%B1as/Corona-Virus/Reportes/10.04.2020_Reporte_Covid19.pdf',\n",
       " 'cdn.digital.gob.cl/public_files/Campa%C3%B1as/Corona-Virus/Reportes/08.04.2020_Reporte_Covid19.pdf',\n",
       " 'cdn.digital.gob.cl/public_files/Campa%C3%B1as/Corona-Virus/Reportes/07.04.2020_Reporte_Covid19.pdf',\n",
       " 'cdn.digital.gob.cl/public_files/Campa%C3%B1as/Corona-Virus/Reportes/06.04.2020_Reporte_Covid19.pdf',\n",
       " 'cdn.digital.gob.cl/public_files/Campa%C3%B1as/Corona-Virus/Reportes/05.04.2020_Reporte_Covid19.pdf',\n",
       " 'cdn.digital.gob.cl/public_files/Campa%C3%B1as/Corona-Virus/Reportes/04.04.2020_Reporte_Covid19.pdf',\n",
       " 'cdn.digital.gob.cl/public_files/Campa%C3%B1as/Corona-Virus/Reportes/03.04.2020_Reporte_Covid19.pdf',\n",
       " 'cdn.digital.gob.cl/public_files/Campa%C3%B1as/Corona-Virus/Reportes/02.04.2020_Reporte_Covid19.pdf',\n",
       " 'cdn.digital.gob.cl/public_files/Campa%C3%B1as/Corona-Virus/Reportes/01.04.2020_Reporte_Covid19.pdf']"
      ]
     },
     "execution_count": 5,
     "metadata": {},
     "output_type": "execute_result"
    }
   ],
   "source": [
    "url_reporte"
   ]
  },
  {
   "cell_type": "code",
   "execution_count": 6,
   "metadata": {
    "colab": {
     "base_uri": "https://localhost:8080/",
     "height": 52
    },
    "colab_type": "code",
    "id": "6lHUgKgX1JtB",
    "outputId": "4fea3818-be0b-4e06-fe03-718a9ab286a0"
   },
   "outputs": [
    {
     "data": {
      "text/plain": [
       "['cdn.digital.gob.cl/public_files/Campa%C3%B1as/Corona-Virus/Reportes/INFORME_EPI_COVID19_20200313.pdf',\n",
       " 'cdn.digital.gob.cl/public_files/Campa%C3%B1as/Corona-Virus/Reportes/INFORME_EP_COVID19_20200410.pdf',\n",
       " 'cdn.digital.gob.cl/public_files/Campa%C3%B1as/Corona-Virus/Reportes/INFORME_EP_COVID19_20200408.pdf',\n",
       " 'cdn.digital.gob.cl/public_files/Campa%C3%B1as/Corona-Virus/Reportes/INFORME_EP_COVID19_20200406.pdf',\n",
       " 'www.minsal.cl/wp-content/uploads/2020/04/Informe_EPI_03_04_2020.pdf',\n",
       " 'cdn.digital.gob.cl/public_files/Campa%C3%B1as/Corona-Virus/Reportes/INFORME_EPI_COVID19_20200401v2.pdf',\n",
       " 'cdn.digital.gob.cl/public_files/Campa%C3%B1as/Corona-Virus/Reportes/INFORME_EPI_COVID19_20200330.pdf']"
      ]
     },
     "execution_count": 6,
     "metadata": {},
     "output_type": "execute_result"
    }
   ],
   "source": [
    "url_informe_epi"
   ]
  },
  {
   "cell_type": "markdown",
   "metadata": {
    "colab_type": "text",
    "id": "n1ERe-V91JtH"
   },
   "source": [
    "# Descarga Informes"
   ]
  },
  {
   "cell_type": "code",
   "execution_count": 7,
   "metadata": {
    "colab": {},
    "colab_type": "code",
    "id": "ybDpazU11JtI"
   },
   "outputs": [],
   "source": [
    "#for url in set(url_reporte):\n",
    "#    subprocess.check_output(shlex.split(\"wget \"+ url))"
   ]
  },
  {
   "cell_type": "code",
   "execution_count": 8,
   "metadata": {
    "colab": {},
    "colab_type": "code",
    "id": "cQDbiH2e1JtM"
   },
   "outputs": [
    {
     "ename": "CalledProcessError",
     "evalue": "Command '['wget', 'www.minsal.cl/wp-content/uploads/2020/04/Informe_EPI_03_04_2020.pdf']' returned non-zero exit status 5.",
     "output_type": "error",
     "traceback": [
      "\u001b[0;31m---------------------------------------------------------------------------\u001b[0m",
      "\u001b[0;31mCalledProcessError\u001b[0m                        Traceback (most recent call last)",
      "\u001b[0;32m<ipython-input-8-d2b6b0fc3ebf>\u001b[0m in \u001b[0;36m<module>\u001b[0;34m\u001b[0m\n\u001b[1;32m      1\u001b[0m \u001b[0;32mfor\u001b[0m \u001b[0murl\u001b[0m \u001b[0;32min\u001b[0m \u001b[0mset\u001b[0m\u001b[0;34m(\u001b[0m\u001b[0murl_informe_epi\u001b[0m\u001b[0;34m)\u001b[0m\u001b[0;34m:\u001b[0m\u001b[0;34m\u001b[0m\u001b[0;34m\u001b[0m\u001b[0m\n\u001b[0;32m----> 2\u001b[0;31m     \u001b[0msubprocess\u001b[0m\u001b[0;34m.\u001b[0m\u001b[0mcheck_output\u001b[0m\u001b[0;34m(\u001b[0m\u001b[0mshlex\u001b[0m\u001b[0;34m.\u001b[0m\u001b[0msplit\u001b[0m\u001b[0;34m(\u001b[0m\u001b[0;34m\"wget \"\u001b[0m\u001b[0;34m+\u001b[0m \u001b[0murl\u001b[0m\u001b[0;34m)\u001b[0m\u001b[0;34m)\u001b[0m\u001b[0;34m\u001b[0m\u001b[0;34m\u001b[0m\u001b[0m\n\u001b[0m",
      "\u001b[0;32m/opt/anaconda3/lib/python3.7/subprocess.py\u001b[0m in \u001b[0;36mcheck_output\u001b[0;34m(timeout, *popenargs, **kwargs)\u001b[0m\n\u001b[1;32m    409\u001b[0m \u001b[0;34m\u001b[0m\u001b[0m\n\u001b[1;32m    410\u001b[0m     return run(*popenargs, stdout=PIPE, timeout=timeout, check=True,\n\u001b[0;32m--> 411\u001b[0;31m                **kwargs).stdout\n\u001b[0m\u001b[1;32m    412\u001b[0m \u001b[0;34m\u001b[0m\u001b[0m\n\u001b[1;32m    413\u001b[0m \u001b[0;34m\u001b[0m\u001b[0m\n",
      "\u001b[0;32m/opt/anaconda3/lib/python3.7/subprocess.py\u001b[0m in \u001b[0;36mrun\u001b[0;34m(input, capture_output, timeout, check, *popenargs, **kwargs)\u001b[0m\n\u001b[1;32m    510\u001b[0m         \u001b[0;32mif\u001b[0m \u001b[0mcheck\u001b[0m \u001b[0;32mand\u001b[0m \u001b[0mretcode\u001b[0m\u001b[0;34m:\u001b[0m\u001b[0;34m\u001b[0m\u001b[0;34m\u001b[0m\u001b[0m\n\u001b[1;32m    511\u001b[0m             raise CalledProcessError(retcode, process.args,\n\u001b[0;32m--> 512\u001b[0;31m                                      output=stdout, stderr=stderr)\n\u001b[0m\u001b[1;32m    513\u001b[0m     \u001b[0;32mreturn\u001b[0m \u001b[0mCompletedProcess\u001b[0m\u001b[0;34m(\u001b[0m\u001b[0mprocess\u001b[0m\u001b[0;34m.\u001b[0m\u001b[0margs\u001b[0m\u001b[0;34m,\u001b[0m \u001b[0mretcode\u001b[0m\u001b[0;34m,\u001b[0m \u001b[0mstdout\u001b[0m\u001b[0;34m,\u001b[0m \u001b[0mstderr\u001b[0m\u001b[0;34m)\u001b[0m\u001b[0;34m\u001b[0m\u001b[0;34m\u001b[0m\u001b[0m\n\u001b[1;32m    514\u001b[0m \u001b[0;34m\u001b[0m\u001b[0m\n",
      "\u001b[0;31mCalledProcessError\u001b[0m: Command '['wget', 'www.minsal.cl/wp-content/uploads/2020/04/Informe_EPI_03_04_2020.pdf']' returned non-zero exit status 5."
     ]
    }
   ],
   "source": [
    "for url in set(url_informe_epi):\n",
    "    subprocess.check_output(shlex.split(\"wget \"+ url))"
   ]
  },
  {
   "cell_type": "markdown",
   "metadata": {
    "colab_type": "text",
    "id": "n1ERe-V91JtH"
   },
   "source": [
    "### Revisar que archivos esten efectivamente descargados"
   ]
  },
  {
   "cell_type": "code",
   "execution_count": 9,
   "metadata": {
    "colab": {
     "base_uri": "https://localhost:8080/",
     "height": 86
    },
    "colab_type": "code",
    "id": "DdNpSunC1JtR",
    "outputId": "6bd5f434-0c3c-4870-c925-8ae5e74ecee2",
    "scrolled": true
   },
   "outputs": [
    {
     "name": "stdout",
     "output_type": "stream",
     "text": [
      "COVID_Descarga_y_Preprocesamiento_InformeTemplate_EPI_MINSAL.ipynb\r\n",
      "COVID_Descarga_y_Preprocesamiento_Informes_EPI_MINSAL.ipynb\r\n",
      "INFORME_EPI_COVID19_20200313.pdf\r\n",
      "INFORME_EPI_COVID19_20200330.pdf\r\n",
      "INFORME_EPI_COVID19_20200401v2.pdf\r\n",
      "INFORME_EPI_COVID19_20200401v2.pdf.1\r\n",
      "INFORME_EP_COVID19_20200406.pdf\r\n",
      "INFORME_EP_COVID19_20200408.pdf\r\n",
      "INFORME_EP_COVID19_20200410.pdf\r\n",
      "INFORME_EP_COVID19_20200410.tabula-template.json\r\n"
     ]
    }
   ],
   "source": [
    "!ls"
   ]
  },
  {
   "cell_type": "markdown",
   "metadata": {
    "colab_type": "text",
    "id": "n1ERe-V91JtH"
   },
   "source": [
    "### Renombrar para armar estandarizacion a la ultima fecha 10-04-2020"
   ]
  },
  {
   "cell_type": "code",
   "execution_count": 1,
   "metadata": {
    "colab": {},
    "colab_type": "code",
    "id": "0jzUypNc1JtW"
   },
   "outputs": [
    {
     "ename": "FileNotFoundError",
     "evalue": "[Errno 2] No such file or directory: 'INFORME_EPI_COVID19_20200401v2.pdf' -> 'INFORME_EPI_COVID19_20200401.pdf'",
     "output_type": "error",
     "traceback": [
      "\u001b[0;31m---------------------------------------------------------------------------\u001b[0m",
      "\u001b[0;31mFileNotFoundError\u001b[0m                         Traceback (most recent call last)",
      "\u001b[0;32m<ipython-input-1-5fe752c74deb>\u001b[0m in \u001b[0;36m<module>\u001b[0;34m\u001b[0m\n\u001b[1;32m      1\u001b[0m \u001b[0;31m#Renombrar para armar estandarizacion a la ultima fecha 10-04-2020\u001b[0m\u001b[0;34m\u001b[0m\u001b[0;34m\u001b[0m\u001b[0;34m\u001b[0m\u001b[0m\n\u001b[1;32m      2\u001b[0m \u001b[0;32mimport\u001b[0m \u001b[0mos\u001b[0m\u001b[0;34m\u001b[0m\u001b[0;34m\u001b[0m\u001b[0m\n\u001b[0;32m----> 3\u001b[0;31m \u001b[0mos\u001b[0m\u001b[0;34m.\u001b[0m\u001b[0mrename\u001b[0m\u001b[0;34m(\u001b[0m\u001b[0;34mr'INFORME_EPI_COVID19_20200401v2.pdf'\u001b[0m\u001b[0;34m,\u001b[0m\u001b[0;34mr'INFORME_EPI_COVID19_20200401.pdf'\u001b[0m\u001b[0;34m)\u001b[0m\u001b[0;34m\u001b[0m\u001b[0;34m\u001b[0m\u001b[0m\n\u001b[0m\u001b[1;32m      4\u001b[0m \u001b[0mos\u001b[0m\u001b[0;34m.\u001b[0m\u001b[0mrename\u001b[0m\u001b[0;34m(\u001b[0m\u001b[0;34mr'Informe_EPI_03_04_2020.pdf'\u001b[0m\u001b[0;34m,\u001b[0m\u001b[0;34mr'INFORME_EPI_COVID19_03042020.pdf'\u001b[0m\u001b[0;34m)\u001b[0m\u001b[0;34m\u001b[0m\u001b[0;34m\u001b[0m\u001b[0m\n",
      "\u001b[0;31mFileNotFoundError\u001b[0m: [Errno 2] No such file or directory: 'INFORME_EPI_COVID19_20200401v2.pdf' -> 'INFORME_EPI_COVID19_20200401.pdf'"
     ]
    }
   ],
   "source": [
    "#Renombrar para armar estandarizacion a la ultima fecha 10-04-2020\n",
    "import os\n",
    "os.rename(r'INFORME_EPI_COVID19_20200401v2.pdf',r'INFORME_EPI_COVID19_20200401.pdf')\n",
    "os.rename(r'Informe_EPI_03_04_2020.pdf',r'INFORME_EPI_COVID19_03042020.pdf')"
   ]
  },
  {
   "cell_type": "code",
   "execution_count": 10,
   "metadata": {},
   "outputs": [
    {
     "name": "stdout",
     "output_type": "stream",
     "text": [
      "COVID_Descarga_y_Preprocesamiento_InformeTemplate_EPI_MINSAL.ipynb\r\n",
      "COVID_Descarga_y_Preprocesamiento_Informes_EPI_MINSAL.ipynb\r\n",
      "INFORME_EPI_COVID19_20200313(1).pdf\r\n",
      "INFORME_EPI_COVID19_20200313.pdf\r\n",
      "INFORME_EPI_COVID19_20200330.pdf\r\n",
      "INFORME_EPI_COVID19_20200401v2.pdf\r\n",
      "INFORME_EPI_COVID19_20200401v2.pdf.1\r\n",
      "INFORME_EP_COVID19_20200406.pdf\r\n",
      "INFORME_EP_COVID19_20200408.pdf\r\n",
      "INFORME_EP_COVID19_20200410.pdf\r\n",
      "INFORME_EP_COVID19_20200410.tabula-template.json\r\n"
     ]
    }
   ],
   "source": [
    "!ls"
   ]
  },
  {
   "cell_type": "markdown",
   "metadata": {
    "colab_type": "text",
    "id": "n1ERe-V91JtH"
   },
   "source": [
    "### Importamos Tabula y aplicamos una seleccion template JSON al ultimo archivo del 10-04-2020"
   ]
  },
  {
   "cell_type": "code",
   "execution_count": 4,
   "metadata": {
    "colab": {
     "base_uri": "https://localhost:8080/",
     "height": 173
    },
    "colab_type": "code",
    "id": "JZgeTj9M1Jtc",
    "outputId": "f5c449d6-1781-4d9e-cfc2-07831d324ca3"
   },
   "outputs": [],
   "source": [
    "import tabula\n",
    "              "
   ]
  },
  {
   "cell_type": "code",
   "execution_count": 5,
   "metadata": {},
   "outputs": [
    {
     "name": "stderr",
     "output_type": "stream",
     "text": [
      "Got stderr: Apr 12, 2020 9:43:48 PM org.apache.pdfbox.pdmodel.font.PDCIDFontType2 <init>\n",
      "INFO: OpenType Layout tables used in font ABCDEE+Calibri,Bold are not implemented in PDFBox and will be ignored\n",
      "\n",
      "Got stderr: Apr 12, 2020 9:43:51 PM org.apache.pdfbox.pdmodel.font.PDCIDFontType2 <init>\n",
      "INFO: OpenType Layout tables used in font ABCDEE+Calibri,Bold are not implemented in PDFBox and will be ignored\n",
      "\n",
      "Got stderr: Apr 12, 2020 9:43:53 PM org.apache.pdfbox.pdmodel.font.PDCIDFontType2 <init>\n",
      "INFO: OpenType Layout tables used in font ABCDEE+Calibri,Bold are not implemented in PDFBox and will be ignored\n",
      "\n",
      "Got stderr: Apr 12, 2020 9:43:56 PM org.apache.pdfbox.pdmodel.font.PDCIDFontType2 <init>\n",
      "INFO: OpenType Layout tables used in font ABCDEE+Calibri,Bold are not implemented in PDFBox and will be ignored\n",
      "\n",
      "Got stderr: Apr 12, 2020 9:43:59 PM org.apache.pdfbox.pdmodel.font.PDCIDFontType2 <init>\n",
      "INFO: OpenType Layout tables used in font ABCDEE+Calibri,Bold are not implemented in PDFBox and will be ignored\n",
      "\n",
      "Got stderr: Apr 12, 2020 9:44:02 PM org.apache.pdfbox.pdmodel.font.PDCIDFontType2 <init>\n",
      "INFO: OpenType Layout tables used in font ABCDEE+Calibri,Bold are not implemented in PDFBox and will be ignored\n",
      "\n",
      "Got stderr: Apr 12, 2020 9:44:06 PM org.apache.pdfbox.pdmodel.font.PDCIDFontType2 <init>\n",
      "INFO: OpenType Layout tables used in font ABCDEE+Calibri,Bold are not implemented in PDFBox and will be ignored\n",
      "\n",
      "Got stderr: Apr 12, 2020 9:44:11 PM org.apache.pdfbox.pdmodel.font.PDCIDFontType2 <init>\n",
      "INFO: OpenType Layout tables used in font ABCDEE+Cambria,Bold are not implemented in PDFBox and will be ignored\n",
      "Apr 12, 2020 9:44:11 PM org.apache.pdfbox.pdmodel.font.PDCIDFontType2 <init>\n",
      "INFO: OpenType Layout tables used in font ABCDEE+Calibri,Bold are not implemented in PDFBox and will be ignored\n",
      "\n",
      "Got stderr: Apr 12, 2020 9:44:13 PM org.apache.pdfbox.pdmodel.font.PDCIDFontType2 <init>\n",
      "INFO: OpenType Layout tables used in font ABCDEE+Calibri,Bold are not implemented in PDFBox and will be ignored\n",
      "\n",
      "Got stderr: Apr 12, 2020 9:44:16 PM org.apache.pdfbox.pdmodel.font.PDCIDFontType2 <init>\n",
      "INFO: OpenType Layout tables used in font ABCDEE+Calibri,Bold are not implemented in PDFBox and will be ignored\n",
      "\n",
      "Got stderr: Apr 12, 2020 9:44:19 PM org.apache.pdfbox.pdmodel.font.PDCIDFontType2 <init>\n",
      "INFO: OpenType Layout tables used in font ABCDEE+Calibri,Bold are not implemented in PDFBox and will be ignored\n",
      "\n",
      "Got stderr: Apr 12, 2020 9:44:22 PM org.apache.pdfbox.pdmodel.font.PDCIDFontType2 <init>\n",
      "INFO: OpenType Layout tables used in font ABCDEE+Calibri,Bold are not implemented in PDFBox and will be ignored\n",
      "\n",
      "Got stderr: Apr 12, 2020 9:44:25 PM org.apache.pdfbox.pdmodel.font.PDCIDFontType2 <init>\n",
      "INFO: OpenType Layout tables used in font ABCDEE+Calibri,Bold are not implemented in PDFBox and will be ignored\n",
      "\n",
      "Got stderr: Apr 12, 2020 9:44:28 PM org.apache.pdfbox.pdmodel.font.PDCIDFontType2 <init>\n",
      "INFO: OpenType Layout tables used in font ABCDEE+Calibri,Bold are not implemented in PDFBox and will be ignored\n",
      "\n",
      "Got stderr: Apr 12, 2020 9:44:31 PM org.apache.pdfbox.pdmodel.font.PDCIDFontType2 <init>\n",
      "INFO: OpenType Layout tables used in font ABCDEE+Calibri,Bold are not implemented in PDFBox and will be ignored\n",
      "\n",
      "Got stderr: Apr 12, 2020 9:44:34 PM org.apache.pdfbox.pdmodel.font.PDCIDFontType2 <init>\n",
      "INFO: OpenType Layout tables used in font ABCDEE+Calibri,Bold are not implemented in PDFBox and will be ignored\n",
      "\n"
     ]
    }
   ],
   "source": [
    "df = tabula.read_pdf_with_template(\"INFORME_EPI_COVID19_20200313.pdf\", \"INFORME_EP_COVID19_20200410.tabula-template.json\")\n"
   ]
  },
  {
   "cell_type": "markdown",
   "metadata": {
    "colab_type": "text",
    "id": "n1ERe-V91JtH"
   },
   "source": [
    "### Revisamos que esten las 17 Tablas"
   ]
  },
  {
   "cell_type": "code",
   "execution_count": 7,
   "metadata": {},
   "outputs": [
    {
     "data": {
      "text/plain": [
       "[           Arica  247.552 87 35,1\n",
       " 0      Camarones    1.233  -  0,0\n",
       " 1  General Lagos  810.000  -  0,0\n",
       " 2          Putre    2.515  -  0,0,\n",
       "   Alto Hospicio  129.999  10   7,7\n",
       " 0        Camiña    1.375   -   0,0\n",
       " 1      Colchane    1.583   -   0,0\n",
       " 2         Huara    3.000   -   0,0\n",
       " 3       Iquique  223.463  18   8,1\n",
       " 4          Pica    5.958   5  83,9\n",
       " 5  Pozo Almonte   17.395   -  11,5,\n",
       "             Antofagasta  425.725  82  19,3\n",
       " 0                Calama  190.336  13   6,8\n",
       " 1           María Elena    6.814   -   0,0\n",
       " 2            Mejillones   14.776   6  40,6\n",
       " 3               Ollagüe  287.000   -   0,0\n",
       " 4  San Pedro de Atacama   10.434   4  38,3\n",
       " 5          Sierra Gorda    1.746   -   0,0\n",
       " 6                Taltal   13.657   -  22,0\n",
       " 7             Tocopilla   28.079   -   7,1,\n",
       "     Alto del Carmen    5.729  -   0,0\n",
       " 0           Caldera   19.426  -   0,0\n",
       " 1          Chañaral   13.164  -   0,0\n",
       " 2           Copiapó  171.766  8   4,7\n",
       " 3  Diego de Almagro   14.358  -   7,0\n",
       " 4          Freirina    7.681  -   0,0\n",
       " 5            Huasco   11.264  -   0,0\n",
       " 6   Tierra Amarilla   14.312  4  27,9\n",
       " 7          Vallenar   57.009  -   0,0,\n",
       "        Andacollo   11.791   -   0,0\n",
       " 0         Canela    9.546   -   0,0\n",
       " 1     Combarbalá   13.884   -   0,0\n",
       " 2       Coquimbo  256.735  21   8,2\n",
       " 3        Illapel   32.801  13  39,6\n",
       " 4     La Higuera    4.450   -   0,0\n",
       " 5      La Serena  249.656  12   4,8\n",
       " 6      Los Vilos   23.374   -   4,3\n",
       " 7   Monte Patria   32.527   -   0,0\n",
       " 8         Ovalle  121.269   8   6,6\n",
       " 9       Paiguano    4.675   -   0,0\n",
       " 10     Punitaqui   12.165   -   0,0\n",
       " 11   Río Hurtado    4.372   -  22,9\n",
       " 12     Salamanca   29.110   5  17,2\n",
       " 13        Vicuña   29.741   -   0,0,\n",
       "          Algarrobo     15.174    8  52,7\n",
       " 0          Cabildo     20.663    -   0,0\n",
       " 1           Calera     53.591    9  16,8\n",
       " 2      Calle Larga     16.482    -  12,1\n",
       " 3        Cartagena     25.357    -   0,0\n",
       " 4       Casablanca     29.170    -   6,9\n",
       " 5           Catemu     15.213    -   0,0\n",
       " 6           Concón     45.889    -   6,5\n",
       " 7        El Quisco     17.742    -   5,6\n",
       " 8          El Tabo     14.338    -  13,9\n",
       " 9         Hijuelas     19.099    -   0,0\n",
       " 10  Isla de Pascua      8.277    6  72,5\n",
       " 11  Juan Fernández      1.033    -   0,0\n",
       " 12         La Cruz     25.321    -   7,9\n",
       " 13        La Ligua     37.739    -   5,3\n",
       " 14         Limache     49.931    7  14,0\n",
       " 15        Llaillay     26.533    -   7,5\n",
       " 16       Los Andes     68.093    6   8,8\n",
       " 17         Nogales     23.490    -   0,0\n",
       " 18           Olmué     19.266    -   0,0\n",
       " 19       Panquehue      7.633    -   0,0\n",
       " 20          Papudo      6.201    -   0,0\n",
       " 21         Petorca     10.558    5  47,4\n",
       " 22      Puchuncaví     20.071    -   0,0\n",
       " 23        Putaendo     17.645    -   5,7\n",
       " 24        Quillota     97.572   13  13,3\n",
       " 25         Quilpué    167.085   18  10,8\n",
       " 26        Quintero     36.135    4  11,1\n",
       " 27       Rinconada     11.263    -  17,8\n",
       " 28     San Antonio     96.761   13  13,4\n",
       " 29     San Esteban     20.643    -   0,0\n",
       " 30      San Felipe     83.494    6   7,2\n",
       " 31     Santa María     16.367    -  12,2\n",
       " 32   Santo Domingo     11.934    5  41,9\n",
       " 33      Valparaíso    315.732   39  12,4\n",
       " 34   Villa Alemana    139.310   12   8,6\n",
       " 35    Viña del Mar    361.371   69  19,1\n",
       " 36        Zapallar      7.994    -   0,0\n",
       " 37           Total  1.960.170  241  12,3,\n",
       "                   Alhué    7.405    -   0,0\n",
       " 0                  Buin  109.641   29  26,4\n",
       " 1       Calera de Tango   28.525    8  28,0\n",
       " 2             Cerrillos   88.956   21  23,6\n",
       " 3           Cerro Navia  142.465   42  29,5\n",
       " 4                Colina  180.353   66  36,6\n",
       " 5              Conchalí  139.195   47  33,8\n",
       " 6              Curacaví   36.430   10  27,4\n",
       " 7             El Bosque  172.000   64  37,2\n",
       " 8              El Monte   40.014    9  22,5\n",
       " 9      Estación Central  206.792   61  29,5\n",
       " 10           Huechuraba  112.528   38  33,8\n",
       " 11        Independencia  142.065   37  26,0\n",
       " 12        Isla de Maipo   40.171   10  24,9\n",
       " 13          La Cisterna  100.434   34  33,9\n",
       " 14           La Florida  402.433  126  31,3\n",
       " 15            La Granja  122.557   36  29,4\n",
       " 16           La Pintana  189.335   39  20,6\n",
       " 17             La Reina  100.252   52  51,9\n",
       " 18                Lampa  126.898   26  20,5\n",
       " 19           Las Condes  330.759  281  85,0\n",
       " 20         Lo Barnechea  124.076  110  88,7\n",
       " 21            Lo Espejo  103.865   34  32,7\n",
       " 22             Lo Prado  104.403   35  33,5\n",
       " 23                Macul  134.635   43  31,9\n",
       " 24                Maipú  578.605  167  28,9\n",
       " 25          María Pinto   14.926    -   0,0\n",
       " 26            Melipilla  141.612   16  11,3\n",
       " 27                Ñuñoa  250.192  155  62,0\n",
       " 28        Padre Hurtado   74.188   20  27,0\n",
       " 29                Paine   82.766    7   8,5\n",
       " 30  Pedro Aguirre Cerda  107.803   36  33,4\n",
       " 31             Peñaflor  101.058   20  19,8\n",
       " 32            Peñalolén  266.798   98  36,7,\n",
       "                Pirque   30.433    9   29,6\n",
       " 0         Providencia  157.749  129   81,8\n",
       " 1            Pudahuel  253.139   67   26,5\n",
       " 2         Puente Alto  645.909  239   37,0\n",
       " 3           Quilicura  254.694   79   31,0\n",
       " 4       Quinta Normal  136.368   69   50,6\n",
       " 5            Recoleta  190.075   61   32,1\n",
       " 6               Renca  160.847   28   17,4\n",
       " 7        San Bernardo  334.836  117   34,9\n",
       " 8         San Joaquín  103.485   52   50,2\n",
       " 9   San José de Maipo   18.644    4   21,5\n",
       " 10         San Miguel  133.059   69   51,9\n",
       " 11          San Pedro   11.953    -    0,0\n",
       " 12          San Ramón   86.510   18   20,8\n",
       " 13           Santiago  503.147  321   63,8\n",
       " 14          Talagante   81.838   18   22,0\n",
       " 15             Tiltil   21.477    4   18,6\n",
       " 16           Vitacura   96.774  119  123,0,\n",
       "               Chépica   15.925   -   0,0\n",
       " 0         Chimbarongo   37.696   -   5,3\n",
       " 1             Codegua   14.096   -   0,0\n",
       " 2              Coinco    7.831   -   0,0\n",
       " 3            Coltauco   21.263   -   0,0\n",
       " 4             Doñihue   22.700   -   0,0\n",
       " 5            Graneros   36.504   -   0,0\n",
       " 6         La Estrella    3.114   -   0,0\n",
       " 7          Las Cabras   26.749   -   0,0\n",
       " 8            Litueche    6.765   -   0,0\n",
       " 9               Lolol    7.289   -   0,0\n",
       " 10            Machalí   59.913   8  13,4\n",
       " 11             Malloa   14.163   -   0,0\n",
       " 12          Marchihue    7.632   -   0,0\n",
       " 13           Mostazal   27.462   -   0,0\n",
       " 14           Nancagua   19.141   -   0,0\n",
       " 15            Navidad    6.904   -   0,0\n",
       " 16             Olivar   14.624   -  20,5\n",
       " 17           Palmilla   13.299   -   0,0\n",
       " 18          Paredones    6.349   -   0,0\n",
       " 19          Peralillo   11.848   -   0,0\n",
       " 20              Peumo   14.952   -   6,7\n",
       " 21         Pichidegua   20.743   -   0,0\n",
       " 22          Pichilemu   17.882   -   0,0\n",
       " 23           Placilla    9.164   -  10,9\n",
       " 24           Pumanque    3.531   -   0,0\n",
       " 25  Quinta de Tilcoco   13.877   -  14,4\n",
       " 26           Rancagua  265.211  15   5,7\n",
       " 27              Rengo   63.710   -   1,6\n",
       " 28           Requínoa   30.371   -   3,3\n",
       " 29       San Fernando   78.642   4   5,1\n",
       " 30        San Vicente   50.617   4   7,9\n",
       " 31         Santa Cruz   41.096   -   4,9,\n",
       "           Cauquenes   44.143   4   9,1\n",
       " 0            Chanco    9.331   -   0,0\n",
       " 1            Colbún   22.565   5  22,2\n",
       " 2      Constitución   50.348   5   9,9\n",
       " 3           Curepto    9.426   -  31,8\n",
       " 4            Curicó  163.626  17  10,4\n",
       " 5         Empedrado    4.206   -   0,0\n",
       " 6           Hualañé   10.222   -   0,0\n",
       " 7          Licantén    6.989   -   0,0\n",
       " 8           Linares  101.073  13  12,9\n",
       " 9           Longaví   32.810   -   6,1\n",
       " 10            Maule   60.000   -   5,0\n",
       " 11           Molina   49.800   -   6,0\n",
       " 12           Parral   44.544   5  11,2\n",
       " 13          Pelarco    9.083   -   0,0\n",
       " 14         Pelluhue    8.092   -  12,4\n",
       " 15         Pencahue    8.601   -   0,0\n",
       " 16            Rauco   11.248   -  17,8\n",
       " 17           Retiro   21.071   -   0,0\n",
       " 18        Río Claro   14.753   -  20,3\n",
       " 19          Romeral   16.170   -  18,6\n",
       " 20  Sagrada Familia   19.469   -   5,1\n",
       " 21     San Clemente   46.292   -   0,0\n",
       " 22       San Javier   49.451   8  16,2\n",
       " 23       San Rafael    9.959   -  10,0\n",
       " 24            Talca  236.724  51  21,5\n",
       " 25             Teno   30.850   -   3,2\n",
       " 26        Vichuquén    4.381   -   0,0\n",
       " 27     Villa Alegre   17.512   -   0,0\n",
       " 28    Yerbas Buenas   19.200   -   0,0,\n",
       "             Bulnes   22.607   48  212,3\n",
       " 0          Chillán  198.624  342  172,2\n",
       " 1    Chillán Viejo   33.827   40  118,2\n",
       " 2       Cobquecura    5.275    -    0,0\n",
       " 3          Coelemu   16.845    4   23,7\n",
       " 4         Coihueco   28.375    8   28,2\n",
       " 5        El Carmen   12.334    -   24,3\n",
       " 6           Ninhue    5.414    -   18,5\n",
       " 7           Ñiquén   11.567    -   17,3\n",
       " 8           Pemuco    8.639    -   34,7\n",
       " 9            Pinto   11.880   10   84,2\n",
       " 10      Portezuelo    4.940    -    0,0\n",
       " 11         Quillón   18.777   22  117,2\n",
       " 12        Quirihue   12.192    4   32,8\n",
       " 13         Ránquil    6.261    9  143,7\n",
       " 14      San Carlos   56.252   29   51,6\n",
       " 15      San Fabián    4.654    6  128,9\n",
       " 16     San Ignacio   16.624    6   36,1\n",
       " 17     San Nicolás   12.172   12   98,6\n",
       " 18        Treguaco    5.696    -    0,0\n",
       " 19          Yungay   18.596   38  204,3\n",
       " 20  Por determinar        -    2      -,\n",
       "             Alto Biobío    6.775    -   0,0\n",
       " 0                Antuco    4.306    -   0,0\n",
       " 1                Arauco   38.679    6  15,5\n",
       " 2               Cabrero   30.725    4  13,0\n",
       " 3                Cañete   37.003    -   0,0\n",
       " 4           Chiguayante   91.180   40  43,9\n",
       " 5            Concepción  238.092   81  34,0\n",
       " 6              Contulmo    6.330  NaN   0,0\n",
       " 7               Coronel  125.829   18  14,3\n",
       " 8           Curanilahue   33.892    -   3,0\n",
       " 9               Florida   11.841    -  16,9\n",
       " 10              Hualpén   97.273   83  85,3\n",
       " 11              Hualqui   26.201    7  26,7\n",
       " 12                 Laja   23.873    5  20,9\n",
       " 13                 Lebu   27.100    -   0,0\n",
       " 14           Los Álamos   22.524    -   0,0\n",
       " 15          Los Ángeles  218.515   22  10,1\n",
       " 16                 Lota   45.750    -   2,2\n",
       " 17              Mulchén   31.041    5  16,1\n",
       " 18           Nacimiento   27.944    5  17,9\n",
       " 19              Negrete   10.429    -  19,2\n",
       " 20                Penco   49.865    5  10,0\n",
       " 21              Quilaco    4.179    -   0,0\n",
       " 22             Quilleco   10.032    -   0,0\n",
       " 23  San Pedro de la Paz  145.906   73  50,0\n",
       " 24          San Rosendo    3.611    -   0,0\n",
       " 25        Santa Bárbara   14.592    -  13,7\n",
       " 26          Santa Juana   14.779    -   0,0\n",
       " 27           Talcahuano  158.345   46  29,1\n",
       " 28                Tirúa   11.019    4  36,3\n",
       " 29                 Tomé   58.729   30  51,1\n",
       " 30              Tucapel   15.205    -   6,6\n",
       " 31               Yumbel   22.132    5  22,6\n",
       " 32       Por determinar        -   26     -,\n",
       "               Angol   56.058   24   42,8\n",
       " 0           Carahue   25.486    6   23,5\n",
       " 1          Cholchol   12.341    4   32,4\n",
       " 2        Collipulli   26.148    -    0,0\n",
       " 3             Cunco   18.055    5   27,7\n",
       " 4        Curacautín   18.178    5   27,5\n",
       " 5        Curarrehue    7.802    4   51,3\n",
       " 6           Ercilla    8.458    -   23,6\n",
       " 7            Freire   25.446    5   19,6\n",
       " 8         Galvarino   12.633    -   15,8\n",
       " 9            Gorbea   15.148   10   66,0\n",
       " 10          Lautaro   40.746   19   46,6\n",
       " 11         Loncoche   24.739    6   24,3\n",
       " 12        Lonquimay   11.049    -    0,0\n",
       " 13       Los Sauces    7.517    -    0,0\n",
       " 14           Lumaco   10.050    -    0,0\n",
       " 15        Melipeuco    6.265    -    0,0\n",
       " 16   Nueva Imperial   33.777   22   65,1\n",
       " 17  Padre Las Casas   82.110   49   59,7\n",
       " 18        Perquenco    7.223    -   27,7\n",
       " 19       Pitrufquén   26.096   12   46,0\n",
       " 20            Pucón   29.782    5   16,8\n",
       " 21            Purén   12.188    -   16,4\n",
       " 22          Renaico   10.833    -    9,2\n",
       " 23         Saavedra   12.793    -    7,8\n",
       " 24           Temuco  302.931  443  146,2\n",
       " 25  Teodoro Schmidt   15.786    4   25,3\n",
       " 26           Toltén   10.055    7   69,6\n",
       " 27         Traiguén   19.314    -    5,2\n",
       " 28         Victoria   35.467   15   42,3\n",
       " 29           Vilcún   30.766   20   65,0\n",
       " 30       Villarrica   59.103   15   25,4\n",
       " 31   Por determinar        -   21      -,\n",
       "          Corral    5.447   -   0,0\n",
       " 0       Futrono   15.261   5  32,8\n",
       " 1      La Unión   39.538  18  45,5\n",
       " 2    Lago Ranco   10.292   -  19,4\n",
       " 3         Lanco   17.652   -  11,3\n",
       " 4     Los Lagos   20.518   -   0,0\n",
       " 5         Máfil    7.389   -  13,5\n",
       " 6     Mariquina   23.250   8  34,4\n",
       " 7      Paillaco   20.798   -   4,8\n",
       " 8   Panguipulli   35.991   -   0,0\n",
       " 9     Río Bueno   32.925   5  15,2\n",
       " 10     Valdivia  176.774  82  46,4,\n",
       "                    Ancud   42.458    -    7,1\n",
       " 0                Calbuco   36.744    5   13,6\n",
       " 1                 Castro   47.607    7   14,7\n",
       " 2                Chaitén    5.020    -   19,9\n",
       " 3                Chonchi   16.013    -    0,0\n",
       " 4                Cochamó    4.006    -    0,0\n",
       " 5        Curaco de Vélez    4.066    -    0,0\n",
       " 6               Dalcahue   15.069    -    0,0\n",
       " 7                 Fresia   12.656    -    0,0\n",
       " 8              Frutillar   20.223    -   14,8\n",
       " 9              Futaleufú    2.806    -    0,0\n",
       " 10             Hualaihué    9.525    -   31,5\n",
       " 11            Llanquihue   18.621    -    0,0\n",
       " 12           Los Muermos   17.817    -    5,6\n",
       " 13               Maullín   14.894    -    6,7\n",
       " 14                Osorno  173.410  220  126,9\n",
       " 15                Palena    1.827    -    0,0\n",
       " 16          Puerto Montt  269.398   39   14,5\n",
       " 17          Puerto Octay    9.192    -   10,9\n",
       " 18          Puerto Varas   48.620    -    6,2\n",
       " 19             Puqueldón    4.201    -    0,0\n",
       " 20             Purranque   21.080   16   75,9\n",
       " 21               Puyehue   11.787    -   17,0\n",
       " 22               Queilén    5.543    -    0,0\n",
       " 23               Quellón   29.309    -    0,0\n",
       " 24               Quemchi    8.783    -    0,0\n",
       " 25              Quinchao    8.298    -   12,1\n",
       " 26             Río Negro   14.275    -   14,0\n",
       " 27  San Juan de la Costa    7.639   11  144,0\n",
       " 28             San Pablo   10.553    6   56,9\n",
       " 29        Por determinar        -   24      -,\n",
       "          Aisén   25.002  4   16,0\n",
       " 0  Chile Chico    5.121  -   19,5\n",
       " 1       Cisnes    5.828  -    0,0\n",
       " 2     Cochrane    3.685  -    0,0\n",
       " 3    Coyhaique   61.210  -    1,6\n",
       " 4    Guaitecas    1.599  -    0,0\n",
       " 5   Lago Verde  920.000  -    0,0\n",
       " 6    O'Higgins  661.000  -    0,0\n",
       " 7   Río Ibáñez    2.699  -    0,0\n",
       " 8       Tortel  572.000  -  174,8,\n",
       "            Antártica      137    -    0,0\n",
       " 0     Cabo de Hornos    1.983   13  655,6\n",
       " 1      Laguna Blanca      264    -    0,0\n",
       " 2            Natales   23.782    6   25,2\n",
       " 3           Porvenir    7.323    -   41,0\n",
       " 4          Primavera      694    -    0,0\n",
       " 5       Punta Arenas  141.984  299  210,6\n",
       " 6          Río Verde      211    -    0,0\n",
       " 7       San Gregorio      681    -    0,0\n",
       " 8           Timaukel      282    -    0,0\n",
       " 9   Torres del Paine    1.021    -    0,0\n",
       " 10    Por determinar        -   10      -]"
      ]
     },
     "execution_count": 7,
     "metadata": {},
     "output_type": "execute_result"
    }
   ],
   "source": [
    "df"
   ]
  },
  {
   "cell_type": "code",
   "execution_count": 36,
   "metadata": {},
   "outputs": [],
   "source": [
    "comunas={}\n",
    "for idx, dff in enumerate(df):\n",
    "    key = 'tabla_' + str(idx + 1)\n",
    "    comunas[key]=dff\n",
    "    comunas[key].rename(columns=lambda x: x.replace(',', '.'), inplace=True)\n",
    "    comunas[key].iloc[:,-1] = comunas[key].iloc[:,-1].str.replace(',', '.')"
   ]
  },
  {
   "cell_type": "markdown",
   "metadata": {
    "colab_type": "text",
    "id": "n1ERe-V91JtH"
   },
   "source": [
    "### Output a csv"
   ]
  },
  {
   "cell_type": "code",
   "execution_count": 37,
   "metadata": {},
   "outputs": [],
   "source": [
    "for key, tabla in comunas.items():\n",
    "    comunas[key].to_csv(\"2020-04-10-InformeDiarioComunas-COVID19\"+\".csv\", mode='a', header=True,index=False,encoding=\"utf-16\")\n",
    "    #print(key, tabla.columns)"
   ]
  },
  {
   "cell_type": "code",
   "execution_count": null,
   "metadata": {},
   "outputs": [],
   "source": []
  }
 ],
 "metadata": {
  "colab": {
   "collapsed_sections": [],
   "name": "COVID - Descarga y Preprocesamiento Informes EPI MINSAL.ipynb",
   "provenance": [],
   "toc_visible": true
  },
  "kernelspec": {
   "display_name": "Python 3",
   "language": "python",
   "name": "python3"
  },
  "language_info": {
   "codemirror_mode": {
    "name": "ipython",
    "version": 3
   },
   "file_extension": ".py",
   "mimetype": "text/x-python",
   "name": "python",
   "nbconvert_exporter": "python",
   "pygments_lexer": "ipython3",
   "version": "3.7.6"
  }
 },
 "nbformat": 4,
 "nbformat_minor": 1
}
