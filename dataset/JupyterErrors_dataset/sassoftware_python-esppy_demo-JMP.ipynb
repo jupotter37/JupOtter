{
 "cells": [
  {
   "cell_type": "markdown",
   "metadata": {},
   "source": [
    "# How to Score JMP Models in ESP"
   ]
  },
  {
   "cell_type": "markdown",
   "metadata": {},
   "source": [
    "## 0. Setting Environment Variables\n",
    "\n",
    "JMP can export its models to Python scripts, which SAS Event Stream Processing can run with the help of SAS Micro Analytic Service (MAS). In order to enable Python running in MAS, you must set the following two environment variables on the system where you run your ESP server.\n",
    "\n",
    "<code>export MAS_PYPATH=<*pathto*>/python</code>\n",
    "\n",
    "<code>export MAS_M2PATH=/opt/sas/viya/home/SASFoundation/misc/embscoreeng/mas2py.py</code>\n",
    "\n",
    "This example uses the following supporting files:\n",
    "* mnist_input_data.py\n",
    "* mnist_jmp_test_red.csv\n",
    "* In the MNIST_data directory: \n",
    " * t10k-images-idx3-ubyte.gz\n",
    " * t10k-labels-idx1-ubyte.gz\n",
    " * train-images-idx3-ubyte.gz\n",
    " * train-labels-idx1-ubyte.gz\n",
    "* In the demo_models/JMP directory: NN20_20red.py, NN40_40.py, NN50_50.py, NN60_60.py, NN100_100.py, and the contents of the \\_pycache\\_ subdirectory\n",
    "* The contents of the \\_pycache\\_ subdirectory\n",
    "\n",
    "Ensure that you specify the correct paths to these referenced files throughout the notebook."
   ]
  },
  {
   "cell_type": "code",
   "execution_count": 1,
   "metadata": {},
   "outputs": [],
   "source": [
    "import sys\n",
    "sys.path.append(\"<pathto>python-esppy\") # This is unique for each user"
   ]
  },
  {
   "cell_type": "markdown",
   "metadata": {},
   "source": [
    "## 1. Loading Data"
   ]
  },
  {
   "cell_type": "markdown",
   "metadata": {},
   "source": [
    "Begin by importing the mnist_input_data training data. This data contains 60,000 training examples and 10,000 examples of handwritten digits. \n",
    "\n",
    "You split this data into two distinct data sets: test_images and test_labels. Later, you use these two data sets to build a model that analyzes the image data. "
   ]
  },
  {
   "cell_type": "code",
   "execution_count": 2,
   "metadata": {},
   "outputs": [
    {
     "ename": "FileNotFoundError",
     "evalue": "[Errno 2] No such file or directory: '<path>/MNIST_data/'",
     "output_type": "error",
     "traceback": [
      "\u001b[0;31m---------------------------------------------------------------------------\u001b[0m",
      "\u001b[0;31mFileNotFoundError\u001b[0m                         Traceback (most recent call last)",
      "\u001b[0;32m<ipython-input-2-3160480aa4c9>\u001b[0m in \u001b[0;36m<module>\u001b[0;34m()\u001b[0m\n\u001b[1;32m      1\u001b[0m \u001b[0;32mimport\u001b[0m \u001b[0mmnist_input_data\u001b[0m\u001b[0;34m\u001b[0m\u001b[0m\n\u001b[0;32m----> 2\u001b[0;31m \u001b[0mmnist\u001b[0m \u001b[0;34m=\u001b[0m \u001b[0mmnist_input_data\u001b[0m\u001b[0;34m.\u001b[0m\u001b[0mread_data_sets\u001b[0m\u001b[0;34m(\u001b[0m\u001b[0;34m\"<path>/MNIST_data/\"\u001b[0m\u001b[0;34m,\u001b[0m \u001b[0mone_hot\u001b[0m\u001b[0;34m=\u001b[0m\u001b[0;32mTrue\u001b[0m\u001b[0;34m)\u001b[0m\u001b[0;34m\u001b[0m\u001b[0m\n\u001b[0m\u001b[1;32m      3\u001b[0m \u001b[0mtest_images\u001b[0m \u001b[0;34m=\u001b[0m \u001b[0mmnist\u001b[0m\u001b[0;34m.\u001b[0m\u001b[0mtest\u001b[0m\u001b[0;34m.\u001b[0m\u001b[0mimages\u001b[0m\u001b[0;34m\u001b[0m\u001b[0m\n\u001b[1;32m      4\u001b[0m \u001b[0mtest_labels\u001b[0m \u001b[0;34m=\u001b[0m \u001b[0mmnist\u001b[0m\u001b[0;34m.\u001b[0m\u001b[0mtest\u001b[0m\u001b[0;34m.\u001b[0m\u001b[0mlabels\u001b[0m\u001b[0;34m\u001b[0m\u001b[0m\n",
      "\u001b[0;32m/net/ge.unx.sas.com/vol/vol110/u11/deholm/anaconda3/bin/1esppy_helper_demo/esppy_helper_demo/mnist_input_data.py\u001b[0m in \u001b[0;36mread_data_sets\u001b[0;34m(train_dir, fake_data, one_hot)\u001b[0m\n\u001b[1;32m    183\u001b[0m     \u001b[0;32mreturn\u001b[0m \u001b[0mdata_sets\u001b[0m\u001b[0;34m\u001b[0m\u001b[0m\n\u001b[1;32m    184\u001b[0m \u001b[0;34m\u001b[0m\u001b[0m\n\u001b[0;32m--> 185\u001b[0;31m   \u001b[0mlocal_file\u001b[0m \u001b[0;34m=\u001b[0m \u001b[0mmaybe_download\u001b[0m\u001b[0;34m(\u001b[0m\u001b[0mTRAIN_IMAGES\u001b[0m\u001b[0;34m,\u001b[0m \u001b[0mtrain_dir\u001b[0m\u001b[0;34m)\u001b[0m\u001b[0;34m\u001b[0m\u001b[0m\n\u001b[0m\u001b[1;32m    186\u001b[0m   \u001b[0mtrain_images\u001b[0m \u001b[0;34m=\u001b[0m \u001b[0mextract_images\u001b[0m\u001b[0;34m(\u001b[0m\u001b[0mlocal_file\u001b[0m\u001b[0;34m)\u001b[0m\u001b[0;34m\u001b[0m\u001b[0m\n\u001b[1;32m    187\u001b[0m \u001b[0;34m\u001b[0m\u001b[0m\n",
      "\u001b[0;32m/net/ge.unx.sas.com/vol/vol110/u11/deholm/anaconda3/bin/1esppy_helper_demo/esppy_helper_demo/mnist_input_data.py\u001b[0m in \u001b[0;36mmaybe_download\u001b[0;34m(filename, work_directory)\u001b[0m\n\u001b[1;32m     38\u001b[0m   \u001b[0;34m\"\"\"Download the data from Yann's website, unless it's already here.\"\"\"\u001b[0m\u001b[0;34m\u001b[0m\u001b[0m\n\u001b[1;32m     39\u001b[0m   \u001b[0;32mif\u001b[0m \u001b[0;32mnot\u001b[0m \u001b[0mos\u001b[0m\u001b[0;34m.\u001b[0m\u001b[0mpath\u001b[0m\u001b[0;34m.\u001b[0m\u001b[0mexists\u001b[0m\u001b[0;34m(\u001b[0m\u001b[0mwork_directory\u001b[0m\u001b[0;34m)\u001b[0m\u001b[0;34m:\u001b[0m\u001b[0;34m\u001b[0m\u001b[0m\n\u001b[0;32m---> 40\u001b[0;31m     \u001b[0mos\u001b[0m\u001b[0;34m.\u001b[0m\u001b[0mmkdir\u001b[0m\u001b[0;34m(\u001b[0m\u001b[0mwork_directory\u001b[0m\u001b[0;34m)\u001b[0m\u001b[0;34m\u001b[0m\u001b[0m\n\u001b[0m\u001b[1;32m     41\u001b[0m   \u001b[0mfilepath\u001b[0m \u001b[0;34m=\u001b[0m \u001b[0mos\u001b[0m\u001b[0;34m.\u001b[0m\u001b[0mpath\u001b[0m\u001b[0;34m.\u001b[0m\u001b[0mjoin\u001b[0m\u001b[0;34m(\u001b[0m\u001b[0mwork_directory\u001b[0m\u001b[0;34m,\u001b[0m \u001b[0mfilename\u001b[0m\u001b[0;34m)\u001b[0m\u001b[0;34m\u001b[0m\u001b[0m\n\u001b[1;32m     42\u001b[0m   \u001b[0;32mif\u001b[0m \u001b[0;32mnot\u001b[0m \u001b[0mos\u001b[0m\u001b[0;34m.\u001b[0m\u001b[0mpath\u001b[0m\u001b[0;34m.\u001b[0m\u001b[0mexists\u001b[0m\u001b[0;34m(\u001b[0m\u001b[0mfilepath\u001b[0m\u001b[0;34m)\u001b[0m\u001b[0;34m:\u001b[0m\u001b[0;34m\u001b[0m\u001b[0m\n",
      "\u001b[0;31mFileNotFoundError\u001b[0m: [Errno 2] No such file or directory: '<path>/MNIST_data/'"
     ]
    }
   ],
   "source": [
    "import mnist_input_data\n",
    "mnist = mnist_input_data.read_data_sets(\"<path>/MNIST_data/\", one_hot=True)\n",
    "test_images = mnist.test.images\n",
    "test_labels = mnist.test.labels"
   ]
  },
  {
   "cell_type": "markdown",
   "metadata": {},
   "source": [
    "## 2. Creating Demo Project"
   ]
  },
  {
   "cell_type": "markdown",
   "metadata": {},
   "source": [
    "To create a SAS Event Stream Processing project, you first need to import the esppy library. \n",
    "\n",
    "Ensure that you have the latest version of SAS Event Stream Processing on your machine by running <code>git pull</code> in the ESP directory on your system. (The earliest version that you can use is 6.1.)\n",
    "\n",
    "You then run <code>esppy.ESP</code> to establish a conncetion with your ESP server. You must specify a host and port to successfully establish a server connection."
   ]
  },
  {
   "cell_type": "code",
   "execution_count": null,
   "metadata": {},
   "outputs": [],
   "source": [
    "import esppy"
   ]
  },
  {
   "cell_type": "code",
   "execution_count": null,
   "metadata": {},
   "outputs": [],
   "source": [
    "esp = esppy.ESP('http://<host>:<port>')"
   ]
  },
  {
   "cell_type": "markdown",
   "metadata": {},
   "source": [
    "You create a SAS Event Stream Processing project by running <code>esp.create_project(*project*)</code>. Here, you specify *esp_mnist* as your project and name it proj. "
   ]
  },
  {
   "cell_type": "code",
   "execution_count": null,
   "metadata": {},
   "outputs": [],
   "source": [
    "proj = esp.create_project('esp_mnist')"
   ]
  },
  {
   "cell_type": "markdown",
   "metadata": {},
   "source": [
    "Now you create a schema. A schema is used to ensure that the data types you want processed in your model match the type of data contained in the data set that you loaded from *mnist_input_data*.\n",
    "\n",
    "The schema you define sets an id in the format of *v(number)*, where *(number)* ranges from 1 to 255, and the string *double*."
   ]
  },
  {
   "cell_type": "code",
   "execution_count": null,
   "metadata": {},
   "outputs": [],
   "source": [
    "schema = ['id*:int64']\n",
    "for i in range(255):\n",
    "    schema.append('v{}'.format(i+1)+':'+'double')\n",
    "schema.append('digit:string')\n",
    "schema = tuple(schema)"
   ]
  },
  {
   "cell_type": "markdown",
   "metadata": {},
   "source": [
    "You use this schema to feed the data you downloaded from *mninst_input_data* into a Source window you name *JMP_src*.The schema examines the data and formats it correctly for Python to interpret.  "
   ]
  },
  {
   "cell_type": "code",
   "execution_count": null,
   "metadata": {},
   "outputs": [],
   "source": [
    "JMP_src = esp.SourceWindow(schema=schema, index_type='empty', insert_only=True)\n",
    "proj.windows['w_data1'] = JMP_src"
   ]
  },
  {
   "cell_type": "markdown",
   "metadata": {},
   "source": [
    "Here, you read in a previously defined model, *JMP_NN* and name it *JMP_model_file*. \n",
    "\n",
    "You define a Calculate window and name it *JMP_win*. The Calculate window is where the analytical part of the model is run. Data from the Source window flows into the Calculate window, is analyzed and creates an output event.\n",
    "\n",
    "You must specify the **path** to the Python file that contains the model."
   ]
  },
  {
   "cell_type": "code",
   "execution_count": null,
   "metadata": {},
   "outputs": [],
   "source": [
    "JMP_model_file = '<path>/NN60_60.py'\n",
    "JMP_win = esp.CalculateWindow.JMPHelper(copy_vars = ('digit:string'))\n",
    "JMP_win.add_model_info(model_name='JMP_NN', \n",
    "                       model_file=JMP_model_file, source='w_data1')"
   ]
  },
  {
   "cell_type": "markdown",
   "metadata": {},
   "source": [
    "An edge is used to connect two windows. In this case, you use an edge with the role of data to connect the *JMP_src* data window to *JMP_win*. For more information on using edges, see [Edge Roles](https://go.documentation.sas.com/?cdcId=espcdc&cdcVersion=6.1&docsetId=espan&docsetTarget=p0v2sood1298h8n10tvox93xh2tb.htm)."
   ]
  },
  {
   "cell_type": "code",
   "execution_count": null,
   "metadata": {},
   "outputs": [],
   "source": [
    "proj.windows[\"w_JMP\"] = JMP_win\n",
    "\n",
    "JMP_src.add_target(JMP_win, role='data')"
   ]
  },
  {
   "cell_type": "markdown",
   "metadata": {},
   "source": [
    "You create a Calculate window which runs calculations to determine the models fit statistics, commonly referred to as FitStat. You use <code>esp.calculate.FitStat</code> and name this calculate window *JMP_fitstat*. You must specify several parameters such as, <code>schema</code>, <code>classLabels</code> and <code>windowLength</code>. You also must map the inputs and outputs. For more information on Fitstat windows, see [Computing Fit Statistics for Scored Results](https://go.documentation.sas.com/?cdcId=espcdc&cdcVersion=6.1&docsetId=espan&docsetTarget=p1k5j3rok1x59on15i884xa66ajq.htm&locale=e)."
   ]
  },
  {
   "cell_type": "code",
   "execution_count": null,
   "metadata": {},
   "outputs": [],
   "source": [
    "JMP_fitstat = esp.calculate.FitStat(schema=('id*:int64','mceOut:double'),\n",
    "                                      classLabels='0,1,2,3,4,5,6,7,8,9',\n",
    "                                      windowLength=100)\n",
    "\n",
    "inputs = tuple(['Probability__digit_{}__:double'.format(i) for i in range(10)])\n",
    "\n",
    "JMP_fitstat.set_inputs(inputs=inputs, \n",
    "                         response=('digit:string'))\n",
    "JMP_fitstat.set_outputs(mceOut='mceOut:double')"
   ]
  },
  {
   "cell_type": "markdown",
   "metadata": {},
   "source": [
    "Here, you use an edge to connect the *JMP_win* window to *JMP_fitstat* with the role of data. "
   ]
  },
  {
   "cell_type": "code",
   "execution_count": null,
   "metadata": {},
   "outputs": [],
   "source": [
    "proj.windows['w_JMP_fitstat'] = JMP_fitstat\n",
    "\n",
    "JMP_win.add_target(JMP_fitstat, role='data')"
   ]
  },
  {
   "cell_type": "markdown",
   "metadata": {},
   "source": [
    "Here you print your XML file for you to view. This is an optional step and is not necessary to ensure the model runs correctly."
   ]
  },
  {
   "cell_type": "code",
   "execution_count": null,
   "metadata": {},
   "outputs": [],
   "source": [
    "print(proj.to_xml(pretty=True))"
   ]
  },
  {
   "cell_type": "markdown",
   "metadata": {},
   "source": [
    "## 3. Loading the Project into ESP"
   ]
  },
  {
   "cell_type": "markdown",
   "metadata": {},
   "source": [
    "You load your project to the ESP server using <code>esp.load_project</code>."
   ]
  },
  {
   "cell_type": "code",
   "execution_count": null,
   "metadata": {},
   "outputs": [],
   "source": [
    "esp.load_project(proj)"
   ]
  },
  {
   "cell_type": "markdown",
   "metadata": {},
   "source": [
    "## 4. Publishing Data and Subscribing to Results"
   ]
  },
  {
   "cell_type": "markdown",
   "metadata": {},
   "source": [
    "To view results, you must subscribe to the JMP windows and dataframes you have created. "
   ]
  },
  {
   "cell_type": "code",
   "execution_count": null,
   "metadata": {},
   "outputs": [],
   "source": [
    "JMP_win.subscribe()\n",
    "JMP_src.subscribe()"
   ]
  },
  {
   "cell_type": "markdown",
   "metadata": {},
   "source": [
    "To read the data now contained in a csv, you must import the pandas library. "
   ]
  },
  {
   "cell_type": "code",
   "execution_count": null,
   "metadata": {},
   "outputs": [],
   "source": [
    "import pandas as pd"
   ]
  },
  {
   "cell_type": "markdown",
   "metadata": {},
   "source": [
    "Start a new thread to continuously read in and publish data to your notebook. \n",
    "\n",
    "First you define your new thread as *publish_thread*, and provide the necessary arguments to create this thread. These arguments include the data that you will be reading in which you use <code>pd.read_csv</code> and name *mnist_jmp_test_red*.\n",
    "\n",
    "You also must specify how to publish the results, which you do by providing arguments to <code>window.publish_events</code>. Here, you tell this thread to publish the first 500 lines every 50 milliseconds, with a maximum of 10 events per second."
   ]
  },
  {
   "cell_type": "code",
   "execution_count": null,
   "metadata": {},
   "outputs": [],
   "source": [
    "def publish_thread(window):\n",
    "    mnist_jmp_test_red = pd.read_csv('./mnist_jmp_test_red.csv')\n",
    "    window.publish_events(mnist_jmp_test_red.head(500), pause=50, rate=10)\n",
    "    \n",
    "from threading import Thread\n",
    "thread = Thread(target = publish_thread, args = (JMP_src, ))\n",
    "thread.start()"
   ]
  },
  {
   "cell_type": "markdown",
   "metadata": {},
   "source": [
    "You can use the <code>.tail</code> argument to print rows of the *JMP_src* and *JMP_win* dataframes that you have created to your screen. By default, <code>.tail</code> prints the last 5 rows."
   ]
  },
  {
   "cell_type": "code",
   "execution_count": null,
   "metadata": {},
   "outputs": [],
   "source": [
    "JMP_src.tail()"
   ]
  },
  {
   "cell_type": "code",
   "execution_count": null,
   "metadata": {},
   "outputs": [],
   "source": [
    "JMP_win.tail()"
   ]
  },
  {
   "cell_type": "markdown",
   "metadata": {},
   "source": [
    "## 5. Displaying Results"
   ]
  },
  {
   "cell_type": "markdown",
   "metadata": {},
   "source": [
    "Use the matplotlib.pyplot library to print images of the hand drawn digits from the mnist data set to the screen. To use this library, you must first import it."
   ]
  },
  {
   "cell_type": "code",
   "execution_count": null,
   "metadata": {},
   "outputs": [],
   "source": [
    "import matplotlib.pyplot as plt"
   ]
  },
  {
   "cell_type": "markdown",
   "metadata": {},
   "source": [
    "The following block of code creates two images working from the bottom of the dataframe that you created earlier. The first image shows a correct prediction from your model, while the second image shows an incorrect predicition. There are several pieces of this block of code that are important to understand.\n",
    "\n",
    "First, <code>%matplotlib inline</code> allows for images to be displayed in the Jupyter Notebook. This line must be included to view the two graphs you create.\n",
    "\n",
    "Second, you use <code>fig.add_subplot</code> to describe how you would like your plots to be arranged and what index you want to specify. For example, <code>ax1 = fig.add_subplot(121)</code> dictates the there are 1 row and 2 columns for the two plots you are creating, while the first graph is given an index of 1.\n",
    "\n",
    "Third, you create two conditional if statements that separate the correct from image identifications from the incorrect identifications. "
   ]
  },
  {
   "cell_type": "code",
   "execution_count": null,
   "metadata": {},
   "outputs": [],
   "source": [
    "%matplotlib inline\n",
    "\n",
    "fig = plt.figure(figsize=(7,3), dpi=80)\n",
    "plt.tight_layout()\n",
    "\n",
    "ax1 = fig.add_subplot(121)\n",
    "ax2 = fig.add_subplot(122)\n",
    "fig.canvas.draw()\n",
    "\n",
    "n = len(JMP_win)\n",
    "tmp = JMP_win[:n]\n",
    "\n",
    "index = tmp[tmp['Most_Likely_digit'] == tmp['digit']].tail(1).index.values\n",
    "correct_id = index[0] if len(index) > 0 else None\n",
    "\n",
    "index = tmp[tmp['Most_Likely_digit'] != tmp['digit']].tail(1).index.values\n",
    "incorrect_id = index[0] if len(index) > 0 else None\n",
    "\n",
    "if correct_id is not None:\n",
    "    ax1.clear() \n",
    "    ax1.imshow(test_images[correct_id].reshape(28,28), cmap='gray', interpolation='nearest')\n",
    "    ax1.set_title(\"JMP Correct Prediction: {}\".format(JMP_win.loc[correct_id][10]), fontsize=10)\n",
    "        \n",
    "if incorrect_id is not None:\n",
    "    ax2.clear() \n",
    "    ax2.imshow(test_images[incorrect_id].reshape(28,28), cmap='gray', interpolation='nearest')\n",
    "    ax2.set_title(\"JMP Incorrect Prediction: {}\".format(JMP_win.loc[incorrect_id][10]), fontsize=10)"
   ]
  },
  {
   "cell_type": "markdown",
   "metadata": {},
   "source": [
    "## 6. Cleanup"
   ]
  },
  {
   "cell_type": "markdown",
   "metadata": {},
   "source": [
    "Finally, it is a good practice to clean up your work space. Here, you unsubscribe to *JMP_win* and *JMP_src* and delete the project and shutdown your esp server."
   ]
  },
  {
   "cell_type": "code",
   "execution_count": null,
   "metadata": {},
   "outputs": [],
   "source": [
    "JMP_win.unsubscribe()\n",
    "JMP_src.unsubscribe()\n",
    "\n",
    "esp.delete_project(\"esp_mnist\")"
   ]
  },
  {
   "cell_type": "markdown",
   "metadata": {},
   "source": [
    "After you finish running your esp project, you might wish to shutdown your ESP server. Uncomment the code below and run <code>esp.shutdown()</code> to shutdown your server."
   ]
  },
  {
   "cell_type": "code",
   "execution_count": null,
   "metadata": {},
   "outputs": [],
   "source": [
    "#esp.shutdown()"
   ]
  },
  {
   "cell_type": "code",
   "execution_count": null,
   "metadata": {},
   "outputs": [],
   "source": []
  }
 ],
 "metadata": {
  "kernelspec": {
   "display_name": "Python 3",
   "language": "python",
   "name": "python3"
  },
  "language_info": {
   "codemirror_mode": {
    "name": "ipython",
    "version": 3
   },
   "file_extension": ".py",
   "mimetype": "text/x-python",
   "name": "python",
   "nbconvert_exporter": "python",
   "pygments_lexer": "ipython3",
   "version": "3.7.3"
  }
 },
 "nbformat": 4,
 "nbformat_minor": 2
}
