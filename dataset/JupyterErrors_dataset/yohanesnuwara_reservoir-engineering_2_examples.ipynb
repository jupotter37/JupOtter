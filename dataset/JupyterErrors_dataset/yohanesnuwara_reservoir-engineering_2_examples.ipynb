{
  "nbformat": 4,
  "nbformat_minor": 0,
  "metadata": {
    "colab": {
      "name": "2_examples.ipynb",
      "provenance": [],
      "collapsed_sections": [],
      "toc_visible": true,
      "authorship_tag": "ABX9TyPqE8787e3T54DifGBScUjv",
      "include_colab_link": true
    },
    "kernelspec": {
      "name": "python3",
      "display_name": "Python 3"
    }
  },
  "cells": [
    {
      "cell_type": "markdown",
      "metadata": {
        "id": "view-in-github",
        "colab_type": "text"
      },
      "source": [
        "<a href=\"https://colab.research.google.com/github/yohanesnuwara/reservoir-engineering/blob/master/Unit%202%20Review%20of%20Rock%20and%20Fluid%20Properties/notebook/2_examples.ipynb\" target=\"_parent\"><img src=\"https://colab.research.google.com/assets/colab-badge.svg\" alt=\"Open In Colab\"/></a>"
      ]
    },
    {
      "cell_type": "markdown",
      "metadata": {
        "id": "t8W1DJSH0mQi",
        "colab_type": "text"
      },
      "source": [
        "# **Unit 2. Review of Rock and Fluid Properties (Examples)**"
      ]
    },
    {
      "cell_type": "code",
      "metadata": {
        "id": "Ytqki01a1PEg",
        "colab_type": "code",
        "colab": {}
      },
      "source": [
        "import numpy as np\n",
        "import matplotlib.pyplot as plt\n",
        "import pandas as pd"
      ],
      "execution_count": 0,
      "outputs": []
    },
    {
      "cell_type": "code",
      "metadata": {
        "id": "MhgVvf27yhK4",
        "colab_type": "code",
        "outputId": "73e20c65-de32-459e-9a5e-2b7a86e7fa58",
        "colab": {
          "base_uri": "https://localhost:8080/",
          "height": 122
        }
      },
      "source": [
        "!git clone https://github.com/yohanesnuwara/reservoir-engineering"
      ],
      "execution_count": 2,
      "outputs": [
        {
          "output_type": "stream",
          "text": [
            "Cloning into 'reservoir-engineering'...\n",
            "remote: Enumerating objects: 97, done.\u001b[K\n",
            "remote: Counting objects:   1% (1/97)\u001b[K\rremote: Counting objects:   2% (2/97)\u001b[K\rremote: Counting objects:   3% (3/97)\u001b[K\rremote: Counting objects:   4% (4/97)\u001b[K\rremote: Counting objects:   5% (5/97)\u001b[K\rremote: Counting objects:   6% (6/97)\u001b[K\rremote: Counting objects:   7% (7/97)\u001b[K\rremote: Counting objects:   8% (8/97)\u001b[K\rremote: Counting objects:   9% (9/97)\u001b[K\rremote: Counting objects:  10% (10/97)\u001b[K\rremote: Counting objects:  11% (11/97)\u001b[K\rremote: Counting objects:  12% (12/97)\u001b[K\rremote: Counting objects:  13% (13/97)\u001b[K\rremote: Counting objects:  14% (14/97)\u001b[K\rremote: Counting objects:  15% (15/97)\u001b[K\rremote: Counting objects:  16% (16/97)\u001b[K\rremote: Counting objects:  17% (17/97)\u001b[K\rremote: Counting objects:  18% (18/97)\u001b[K\rremote: Counting objects:  19% (19/97)\u001b[K\rremote: Counting objects:  20% (20/97)\u001b[K\rremote: Counting objects:  21% (21/97)\u001b[K\rremote: Counting objects:  22% (22/97)\u001b[K\rremote: Counting objects:  23% (23/97)\u001b[K\rremote: Counting objects:  24% (24/97)\u001b[K\rremote: Counting objects:  25% (25/97)\u001b[K\rremote: Counting objects:  26% (26/97)\u001b[K\rremote: Counting objects:  27% (27/97)\u001b[K\rremote: Counting objects:  28% (28/97)\u001b[K\rremote: Counting objects:  29% (29/97)\u001b[K\rremote: Counting objects:  30% (30/97)\u001b[K\rremote: Counting objects:  31% (31/97)\u001b[K\rremote: Counting objects:  32% (32/97)\u001b[K\rremote: Counting objects:  34% (33/97)\u001b[K\rremote: Counting objects:  35% (34/97)\u001b[K\rremote: Counting objects:  36% (35/97)\u001b[K\rremote: Counting objects:  37% (36/97)\u001b[K\rremote: Counting objects:  38% (37/97)\u001b[K\rremote: Counting objects:  39% (38/97)\u001b[K\rremote: Counting objects:  40% (39/97)\u001b[K\rremote: Counting objects:  41% (40/97)\u001b[K\rremote: Counting objects:  42% (41/97)\u001b[K\rremote: Counting objects:  43% (42/97)\u001b[K\rremote: Counting objects:  44% (43/97)\u001b[K\rremote: Counting objects:  45% (44/97)\u001b[K\rremote: Counting objects:  46% (45/97)\u001b[K\rremote: Counting objects:  47% (46/97)\u001b[K\rremote: Counting objects:  48% (47/97)\u001b[K\rremote: Counting objects:  49% (48/97)\u001b[K\rremote: Counting objects:  50% (49/97)\u001b[K\rremote: Counting objects:  51% (50/97)\u001b[K\rremote: Counting objects:  52% (51/97)\u001b[K\rremote: Counting objects:  53% (52/97)\u001b[K\rremote: Counting objects:  54% (53/97)\u001b[K\rremote: Counting objects:  55% (54/97)\u001b[K\rremote: Counting objects:  56% (55/97)\u001b[K\rremote: Counting objects:  57% (56/97)\u001b[K\rremote: Counting objects:  58% (57/97)\u001b[K\rremote: Counting objects:  59% (58/97)\u001b[K\rremote: Counting objects:  60% (59/97)\u001b[K\rremote: Counting objects:  61% (60/97)\u001b[K\rremote: Counting objects:  62% (61/97)\u001b[K\rremote: Counting objects:  63% (62/97)\u001b[K\rremote: Counting objects:  64% (63/97)\u001b[K\rremote: Counting objects:  65% (64/97)\u001b[K\rremote: Counting objects:  67% (65/97)\u001b[K\rremote: Counting objects:  68% (66/97)\u001b[K\rremote: Counting objects:  69% (67/97)\u001b[K\rremote: Counting objects:  70% (68/97)\u001b[K\rremote: Counting objects:  71% (69/97)\u001b[K\rremote: Counting objects:  72% (70/97)\u001b[K\rremote: Counting objects:  73% (71/97)\u001b[K\rremote: Counting objects:  74% (72/97)\u001b[K\rremote: Counting objects:  75% (73/97)\u001b[K\rremote: Counting objects:  76% (74/97)\u001b[K\rremote: Counting objects:  77% (75/97)\u001b[K\rremote: Counting objects:  78% (76/97)\u001b[K\rremote: Counting objects:  79% (77/97)\u001b[K\rremote: Counting objects:  80% (78/97)\u001b[K\rremote: Counting objects:  81% (79/97)\u001b[K\rremote: Counting objects:  82% (80/97)\u001b[K\rremote: Counting objects:  83% (81/97)\u001b[K\rremote: Counting objects:  84% (82/97)\u001b[K\rremote: Counting objects:  85% (83/97)\u001b[K\rremote: Counting objects:  86% (84/97)\u001b[K\rremote: Counting objects:  87% (85/97)\u001b[K\rremote: Counting objects:  88% (86/97)\u001b[K\rremote: Counting objects:  89% (87/97)\u001b[K\rremote: Counting objects:  90% (88/97)\u001b[K\rremote: Counting objects:  91% (89/97)\u001b[K\rremote: Counting objects:  92% (90/97)\u001b[K\rremote: Counting objects:  93% (91/97)\u001b[K\rremote: Counting objects:  94% (92/97)\u001b[K\rremote: Counting objects:  95% (93/97)\u001b[K\rremote: Counting objects:  96% (94/97)\u001b[K\rremote: Counting objects:  97% (95/97)\u001b[K\rremote: Counting objects:  98% (96/97)\u001b[K\rremote: Counting objects: 100% (97/97)\u001b[K\rremote: Counting objects: 100% (97/97), done.\u001b[K\n",
            "remote: Compressing objects:   1% (1/88)\u001b[K\rremote: Compressing objects:   2% (2/88)\u001b[K\rremote: Compressing objects:   3% (3/88)\u001b[K\rremote: Compressing objects:   4% (4/88)\u001b[K\rremote: Compressing objects:   5% (5/88)\u001b[K\rremote: Compressing objects:   6% (6/88)\u001b[K\rremote: Compressing objects:   7% (7/88)\u001b[K\rremote: Compressing objects:   9% (8/88)\u001b[K\rremote: Compressing objects:  10% (9/88)\u001b[K\rremote: Compressing objects:  11% (10/88)\u001b[K\rremote: Compressing objects:  12% (11/88)\u001b[K\rremote: Compressing objects:  13% (12/88)\u001b[K\rremote: Compressing objects:  14% (13/88)\u001b[K\rremote: Compressing objects:  15% (14/88)\u001b[K\rremote: Compressing objects:  17% (15/88)\u001b[K\rremote: Compressing objects:  18% (16/88)\u001b[K\rremote: Compressing objects:  19% (17/88)\u001b[K\rremote: Compressing objects:  20% (18/88)\u001b[K\rremote: Compressing objects:  21% (19/88)\u001b[K\rremote: Compressing objects:  22% (20/88)\u001b[K\rremote: Compressing objects:  23% (21/88)\u001b[K\rremote: Compressing objects:  25% (22/88)\u001b[K\rremote: Compressing objects:  26% (23/88)\u001b[K\rremote: Compressing objects:  27% (24/88)\u001b[K\rremote: Compressing objects:  28% (25/88)\u001b[K\rremote: Compressing objects:  29% (26/88)\u001b[K\rremote: Compressing objects:  30% (27/88)\u001b[K\rremote: Compressing objects:  31% (28/88)\u001b[K\rremote: Compressing objects:  32% (29/88)\u001b[K\rremote: Compressing objects:  34% (30/88)\u001b[K\rremote: Compressing objects:  35% (31/88)\u001b[K\rremote: Compressing objects:  36% (32/88)\u001b[K\rremote: Compressing objects:  37% (33/88)\u001b[K\rremote: Compressing objects:  38% (34/88)\u001b[K\rremote: Compressing objects:  39% (35/88)\u001b[K\rremote: Compressing objects:  40% (36/88)\u001b[K\rremote: Compressing objects:  42% (37/88)\u001b[K\rremote: Compressing objects:  43% (38/88)\u001b[K\rremote: Compressing objects:  44% (39/88)\u001b[K\rremote: Compressing objects:  45% (40/88)\u001b[K\rremote: Compressing objects:  46% (41/88)\u001b[K\rremote: Compressing objects:  47% (42/88)\u001b[K\rremote: Compressing objects:  48% (43/88)\u001b[K\rremote: Compressing objects:  50% (44/88)\u001b[K\rremote: Compressing objects:  51% (45/88)\u001b[K\rremote: Compressing objects:  52% (46/88)\u001b[K\rremote: Compressing objects:  53% (47/88)\u001b[K\rremote: Compressing objects:  54% (48/88)\u001b[K\rremote: Compressing objects:  55% (49/88)\u001b[K\rremote: Compressing objects:  56% (50/88)\u001b[K\rremote: Compressing objects:  57% (51/88)\u001b[K\rremote: Compressing objects:  59% (52/88)\u001b[K\rremote: Compressing objects:  60% (53/88)\u001b[K\rremote: Compressing objects:  61% (54/88)\u001b[K\rremote: Compressing objects:  62% (55/88)\u001b[K\rremote: Compressing objects:  63% (56/88)\u001b[K\rremote: Compressing objects:  64% (57/88)\u001b[K\rremote: Compressing objects:  65% (58/88)\u001b[K\rremote: Compressing objects:  67% (59/88)\u001b[K\rremote: Compressing objects:  68% (60/88)\u001b[K\rremote: Compressing objects:  69% (61/88)\u001b[K\rremote: Compressing objects:  70% (62/88)\u001b[K\rremote: Compressing objects:  71% (63/88)\u001b[K\rremote: Compressing objects:  72% (64/88)\u001b[K\rremote: Compressing objects:  73% (65/88)\u001b[K\rremote: Compressing objects:  75% (66/88)\u001b[K\rremote: Compressing objects:  76% (67/88)\u001b[K\rremote: Compressing objects:  77% (68/88)\u001b[K\rremote: Compressing objects:  78% (69/88)\u001b[K\rremote: Compressing objects:  79% (70/88)\u001b[K\rremote: Compressing objects:  80% (71/88)\u001b[K\rremote: Compressing objects:  81% (72/88)\u001b[K\rremote: Compressing objects:  82% (73/88)\u001b[K\rremote: Compressing objects:  84% (74/88)\u001b[K\rremote: Compressing objects:  85% (75/88)\u001b[K\rremote: Compressing objects:  86% (76/88)\u001b[K\rremote: Compressing objects:  87% (77/88)\u001b[K\rremote: Compressing objects:  88% (78/88)\u001b[K\rremote: Compressing objects:  89% (79/88)\u001b[K\rremote: Compressing objects:  90% (80/88)\u001b[K\rremote: Compressing objects:  92% (81/88)\u001b[K\rremote: Compressing objects:  93% (82/88)\u001b[K\rremote: Compressing objects:  94% (83/88)\u001b[K\rremote: Compressing objects:  95% (84/88)\u001b[K\rremote: Compressing objects:  96% (85/88)\u001b[K\rremote: Compressing objects:  97% (86/88)\u001b[K\rremote: Compressing objects:  98% (87/88)\u001b[K\rremote: Compressing objects: 100% (88/88)\u001b[K\rremote: Compressing objects: 100% (88/88), done.\u001b[K\n",
            "Unpacking objects:   1% (1/97)   \rUnpacking objects:   2% (2/97)   \rUnpacking objects:   3% (3/97)   \rUnpacking objects:   4% (4/97)   \rUnpacking objects:   5% (5/97)   \rUnpacking objects:   6% (6/97)   \rUnpacking objects:   7% (7/97)   \rUnpacking objects:   8% (8/97)   \rUnpacking objects:   9% (9/97)   \rUnpacking objects:  10% (10/97)   \rUnpacking objects:  11% (11/97)   \rUnpacking objects:  12% (12/97)   \rUnpacking objects:  13% (13/97)   \rUnpacking objects:  14% (14/97)   \rUnpacking objects:  15% (15/97)   \rUnpacking objects:  16% (16/97)   \rUnpacking objects:  17% (17/97)   \rUnpacking objects:  18% (18/97)   \rUnpacking objects:  19% (19/97)   \rUnpacking objects:  20% (20/97)   \rUnpacking objects:  21% (21/97)   \rUnpacking objects:  22% (22/97)   \rUnpacking objects:  23% (23/97)   \rUnpacking objects:  24% (24/97)   \rUnpacking objects:  25% (25/97)   \rUnpacking objects:  26% (26/97)   \rUnpacking objects:  27% (27/97)   \rUnpacking objects:  28% (28/97)   \rUnpacking objects:  29% (29/97)   \rUnpacking objects:  30% (30/97)   \rUnpacking objects:  31% (31/97)   \rUnpacking objects:  32% (32/97)   \rUnpacking objects:  34% (33/97)   \rUnpacking objects:  35% (34/97)   \rUnpacking objects:  36% (35/97)   \rUnpacking objects:  37% (36/97)   \rUnpacking objects:  38% (37/97)   \rUnpacking objects:  39% (38/97)   \rUnpacking objects:  40% (39/97)   \rUnpacking objects:  41% (40/97)   \rUnpacking objects:  42% (41/97)   \rUnpacking objects:  43% (42/97)   \rUnpacking objects:  44% (43/97)   \rUnpacking objects:  45% (44/97)   \rremote: Total 97 (delta 36), reused 0 (delta 0), pack-reused 0\u001b[K\n",
            "Unpacking objects:  46% (45/97)   \rUnpacking objects:  47% (46/97)   \rUnpacking objects:  48% (47/97)   \rUnpacking objects:  49% (48/97)   \rUnpacking objects:  50% (49/97)   \rUnpacking objects:  51% (50/97)   \rUnpacking objects:  52% (51/97)   \rUnpacking objects:  53% (52/97)   \rUnpacking objects:  54% (53/97)   \rUnpacking objects:  55% (54/97)   \rUnpacking objects:  56% (55/97)   \rUnpacking objects:  57% (56/97)   \rUnpacking objects:  58% (57/97)   \rUnpacking objects:  59% (58/97)   \rUnpacking objects:  60% (59/97)   \rUnpacking objects:  61% (60/97)   \rUnpacking objects:  62% (61/97)   \rUnpacking objects:  63% (62/97)   \rUnpacking objects:  64% (63/97)   \rUnpacking objects:  65% (64/97)   \rUnpacking objects:  67% (65/97)   \rUnpacking objects:  68% (66/97)   \rUnpacking objects:  69% (67/97)   \rUnpacking objects:  70% (68/97)   \rUnpacking objects:  71% (69/97)   \rUnpacking objects:  72% (70/97)   \rUnpacking objects:  73% (71/97)   \rUnpacking objects:  74% (72/97)   \rUnpacking objects:  75% (73/97)   \rUnpacking objects:  76% (74/97)   \rUnpacking objects:  77% (75/97)   \rUnpacking objects:  78% (76/97)   \rUnpacking objects:  79% (77/97)   \rUnpacking objects:  80% (78/97)   \rUnpacking objects:  81% (79/97)   \rUnpacking objects:  82% (80/97)   \rUnpacking objects:  83% (81/97)   \rUnpacking objects:  84% (82/97)   \rUnpacking objects:  85% (83/97)   \rUnpacking objects:  86% (84/97)   \rUnpacking objects:  87% (85/97)   \rUnpacking objects:  88% (86/97)   \rUnpacking objects:  89% (87/97)   \rUnpacking objects:  90% (88/97)   \rUnpacking objects:  91% (89/97)   \rUnpacking objects:  92% (90/97)   \rUnpacking objects:  93% (91/97)   \rUnpacking objects:  94% (92/97)   \rUnpacking objects:  95% (93/97)   \rUnpacking objects:  96% (94/97)   \rUnpacking objects:  97% (95/97)   \rUnpacking objects:  98% (96/97)   \rUnpacking objects: 100% (97/97)   \rUnpacking objects: 100% (97/97), done.\n"
          ],
          "name": "stdout"
        }
      ]
    },
    {
      "cell_type": "markdown",
      "metadata": {
        "id": "-WWYvGPR01nM",
        "colab_type": "text"
      },
      "source": [
        "# Example 2.2 Relative Permeability Calculations from Steady-State Tests"
      ]
    },
    {
      "cell_type": "code",
      "metadata": {
        "id": "2Locsuy64M_C",
        "colab_type": "code",
        "outputId": "9ff8645b-8d2e-4b81-90fc-69803a2adc44",
        "colab": {
          "base_uri": "https://localhost:8080/",
          "height": 343
        }
      },
      "source": [
        "flowrate = pd.read_csv('/content/reservoir-engineering/Unit 2 Review of Rock and Fluid Properties/data/Table 2.2-Flow Rates for Example 2.2.csv')\n",
        "flowrate"
      ],
      "execution_count": 0,
      "outputs": [
        {
          "output_type": "execute_result",
          "data": {
            "text/html": [
              "<div>\n",
              "<style scoped>\n",
              "    .dataframe tbody tr th:only-of-type {\n",
              "        vertical-align: middle;\n",
              "    }\n",
              "\n",
              "    .dataframe tbody tr th {\n",
              "        vertical-align: top;\n",
              "    }\n",
              "\n",
              "    .dataframe thead th {\n",
              "        text-align: right;\n",
              "    }\n",
              "</style>\n",
              "<table border=\"1\" class=\"dataframe\">\n",
              "  <thead>\n",
              "    <tr style=\"text-align: right;\">\n",
              "      <th></th>\n",
              "      <th>Sw</th>\n",
              "      <th>qo</th>\n",
              "      <th>qw</th>\n",
              "    </tr>\n",
              "  </thead>\n",
              "  <tbody>\n",
              "    <tr>\n",
              "      <th>0</th>\n",
              "      <td>0.00</td>\n",
              "      <td>0.0600</td>\n",
              "      <td>0.000</td>\n",
              "    </tr>\n",
              "    <tr>\n",
              "      <th>1</th>\n",
              "      <td>0.20</td>\n",
              "      <td>0.0420</td>\n",
              "      <td>0.000</td>\n",
              "    </tr>\n",
              "    <tr>\n",
              "      <th>2</th>\n",
              "      <td>0.30</td>\n",
              "      <td>0.0300</td>\n",
              "      <td>0.010</td>\n",
              "    </tr>\n",
              "    <tr>\n",
              "      <th>3</th>\n",
              "      <td>0.40</td>\n",
              "      <td>0.0200</td>\n",
              "      <td>0.020</td>\n",
              "    </tr>\n",
              "    <tr>\n",
              "      <th>4</th>\n",
              "      <td>0.50</td>\n",
              "      <td>0.0130</td>\n",
              "      <td>0.035</td>\n",
              "    </tr>\n",
              "    <tr>\n",
              "      <th>5</th>\n",
              "      <td>0.60</td>\n",
              "      <td>0.0075</td>\n",
              "      <td>0.051</td>\n",
              "    </tr>\n",
              "    <tr>\n",
              "      <th>6</th>\n",
              "      <td>0.70</td>\n",
              "      <td>0.0040</td>\n",
              "      <td>0.068</td>\n",
              "    </tr>\n",
              "    <tr>\n",
              "      <th>7</th>\n",
              "      <td>0.80</td>\n",
              "      <td>0.0010</td>\n",
              "      <td>0.085</td>\n",
              "    </tr>\n",
              "    <tr>\n",
              "      <th>8</th>\n",
              "      <td>0.85</td>\n",
              "      <td>0.0000</td>\n",
              "      <td>0.096</td>\n",
              "    </tr>\n",
              "    <tr>\n",
              "      <th>9</th>\n",
              "      <td>1.00</td>\n",
              "      <td>0.0000</td>\n",
              "      <td>0.250</td>\n",
              "    </tr>\n",
              "  </tbody>\n",
              "</table>\n",
              "</div>"
            ],
            "text/plain": [
              "     Sw      qo     qw\n",
              "0  0.00  0.0600  0.000\n",
              "1  0.20  0.0420  0.000\n",
              "2  0.30  0.0300  0.010\n",
              "3  0.40  0.0200  0.020\n",
              "4  0.50  0.0130  0.035\n",
              "5  0.60  0.0075  0.051\n",
              "6  0.70  0.0040  0.068\n",
              "7  0.80  0.0010  0.085\n",
              "8  0.85  0.0000  0.096\n",
              "9  1.00  0.0000  0.250"
            ]
          },
          "metadata": {
            "tags": []
          },
          "execution_count": 3
        }
      ]
    },
    {
      "cell_type": "code",
      "metadata": {
        "id": "4fx_1kmM5tBK",
        "colab_type": "code",
        "outputId": "b42a7e0c-26f2-4751-bb16-4f02172970be",
        "colab": {
          "base_uri": "https://localhost:8080/",
          "height": 313
        }
      },
      "source": [
        "# plot data\n",
        "p1 = plt.plot(flowrate.Sw, flowrate.qo)\n",
        "p2 = plt.plot(flowrate.Sw, flowrate.qw)\n",
        "plt.xlabel(\"Sw\"); plt.ylabel(\"q_oil, q_water (cm3/s)\")\n",
        "plt.legend((p1[0], p2[0]), ('q_oil', 'q_water'))\n",
        "plt.title(\"Flow Rates\")"
      ],
      "execution_count": 0,
      "outputs": [
        {
          "output_type": "execute_result",
          "data": {
            "text/plain": [
              "Text(0.5, 1.0, 'Flow Rates')"
            ]
          },
          "metadata": {
            "tags": []
          },
          "execution_count": 4
        },
        {
          "output_type": "display_data",
          "data": {
            "image/png": "[encoded data removed]",
            "text/plain": [
              "<Figure size 432x288 with 1 Axes>"
            ]
          },
          "metadata": {
            "tags": []
          }
        }
      ]
    },
    {
      "cell_type": "code",
      "metadata": {
        "id": "i2Rv1Wl77sxn",
        "colab_type": "code",
        "outputId": "18dbd806-ceb8-4ab3-90cf-db42e6622485",
        "colab": {
          "base_uri": "https://localhost:8080/",
          "height": 313
        }
      },
      "source": [
        "\"Question 1. calculate relative permeabilities of oil and water\"\n",
        "kr_o = flowrate.qo / flowrate.qo[0] #qo per q0 at Sw=0\n",
        "kr_w = flowrate.qw / flowrate.qw[9] #qw per qw at Sw=1\n",
        "\n",
        "# plot result\n",
        "p1 = plt.plot(flowrate.Sw, kr_o)\n",
        "p2 = plt.plot(flowrate.Sw, kr_w)\n",
        "plt.xlabel(\"Sw\"); plt.ylabel(\"kr_o, kr_w (unitless)\")\n",
        "plt.legend((p1[0], p2[0]), ('kr_o', 'kr_w'))\n",
        "plt.title(\"Relative Permeabilities\")"
      ],
      "execution_count": 0,
      "outputs": [
        {
          "output_type": "execute_result",
          "data": {
            "text/plain": [
              "Text(0.5, 1.0, 'Relative Permeabilities')"
            ]
          },
          "metadata": {
            "tags": []
          },
          "execution_count": 5
        },
        {
          "output_type": "display_data",
          "data": {
            "image/png": "[encoded data removed]",
            "text/plain": [
              "<Figure size 432x288 with 1 Axes>"
            ]
          },
          "metadata": {
            "tags": []
          }
        }
      ]
    },
    {
      "cell_type": "code",
      "metadata": {
        "id": "m8-aCQN79sOR",
        "colab_type": "code",
        "outputId": "def8c723-f470-45b3-f8e7-684a628b3fb6",
        "colab": {
          "base_uri": "https://localhost:8080/",
          "height": 313
        }
      },
      "source": [
        "\"Question 2. calculate the phase permeabilities of oil and water\"\n",
        "\n",
        "#known\n",
        "mu_oil = 5 #oil viscosity, cP\n",
        "mu_water = 1.2 #water viscosity, cP\n",
        "core_length = 12 #cm\n",
        "dP = -2.5 #negative because of pressure drop, atm\n",
        "core_area = 5 #cm2\n",
        "\n",
        "# so in this case, Darcy units are used (refer to Table 2.1), the unit of k will be in Darcy \n",
        "# use q = -k*A/mu*dp/dx, negative sign because pressure drop\n",
        "\n",
        "k_o = -(flowrate.qo * mu_oil / core_area) / (dP / core_length)\n",
        "k_w = -(flowrate.qw * mu_water / core_area) / (dP / core_length)\n",
        "\n",
        "# plot result\n",
        "p1 = plt.plot(flowrate.Sw, k_o)\n",
        "p2 = plt.plot(flowrate.Sw, k_w)\n",
        "plt.xlabel(\"Sw\"); plt.ylabel(\"k_o, k_w (unitless)\")\n",
        "plt.legend((p1[0], p2[0]), ('k_o', 'k_w'))\n",
        "plt.title(\"Phase Permeabilities\")"
      ],
      "execution_count": 0,
      "outputs": [
        {
          "output_type": "execute_result",
          "data": {
            "text/plain": [
              "Text(0.5, 1.0, 'Phase Permeabilities')"
            ]
          },
          "metadata": {
            "tags": []
          },
          "execution_count": 6
        },
        {
          "output_type": "display_data",
          "data": {
            "image/png": "[encoded data removed]",
            "text/plain": [
              "<Figure size 432x288 with 1 Axes>"
            ]
          },
          "metadata": {
            "tags": []
          }
        }
      ]
    },
    {
      "cell_type": "markdown",
      "metadata": {
        "id": "ngIFsqPyUrQ-",
        "colab_type": "text"
      },
      "source": [
        "# Example 2.3 Calculation of Leverett J Function (Capillary Pressure)"
      ]
    },
    {
      "cell_type": "code",
      "metadata": {
        "id": "F-rdJ1GWU1Sr",
        "colab_type": "code",
        "outputId": "7c5b8585-9a0f-46ab-b300-a92f329b43e7",
        "colab": {
          "base_uri": "https://localhost:8080/",
          "height": 195
        }
      },
      "source": [
        "\"Question. calculate Leverett J function for different sets of core\"\n",
        "\n",
        "# known\n",
        "sigma = 72 # interfacial tension, in dyne/cm\n",
        "theta = 45 # angle of wettability\n",
        "\n",
        "# data: four sets of core from same reservoir, each has k and porosity (Table 2.5)\n",
        "# capillary pressure in psi\n",
        "capilar = pd.read_csv('/content/reservoir-engineering/Unit 2 Review of Rock and Fluid Properties/data/Table 2.3-Capillary Pressure Sets for Example 2.3.csv')\n",
        "capilar.head()\n",
        "\n",
        "# Pc_1: capillary pressure of core 1, at 1 md and poro 0.08\n",
        "# Pc_2: capillary pressure of core 2, at 15 md and poro 0.11\n",
        "# Pc_3: capillary pressure of core 3, at 100 md and poro 0.15\n",
        "# Pc_4: capillary pressure of core 4, at 500 md and poro 0.22"
      ],
      "execution_count": 0,
      "outputs": [
        {
          "output_type": "execute_result",
          "data": {
            "text/html": [
              "<div>\n",
              "<style scoped>\n",
              "    .dataframe tbody tr th:only-of-type {\n",
              "        vertical-align: middle;\n",
              "    }\n",
              "\n",
              "    .dataframe tbody tr th {\n",
              "        vertical-align: top;\n",
              "    }\n",
              "\n",
              "    .dataframe thead th {\n",
              "        text-align: right;\n",
              "    }\n",
              "</style>\n",
              "<table border=\"1\" class=\"dataframe\">\n",
              "  <thead>\n",
              "    <tr style=\"text-align: right;\">\n",
              "      <th></th>\n",
              "      <th>sw</th>\n",
              "      <th>Pc_1</th>\n",
              "      <th>Pc_2</th>\n",
              "      <th>Pc_3</th>\n",
              "      <th>Pc_4</th>\n",
              "    </tr>\n",
              "  </thead>\n",
              "  <tbody>\n",
              "    <tr>\n",
              "      <th>0</th>\n",
              "      <td>15.0</td>\n",
              "      <td>93.59</td>\n",
              "      <td>28.34</td>\n",
              "      <td>12.82</td>\n",
              "      <td>6.94</td>\n",
              "    </tr>\n",
              "    <tr>\n",
              "      <th>1</th>\n",
              "      <td>16.0</td>\n",
              "      <td>66.48</td>\n",
              "      <td>20.13</td>\n",
              "      <td>9.10</td>\n",
              "      <td>4.93</td>\n",
              "    </tr>\n",
              "    <tr>\n",
              "      <th>2</th>\n",
              "      <td>17.0</td>\n",
              "      <td>46.54</td>\n",
              "      <td>14.09</td>\n",
              "      <td>6.37</td>\n",
              "      <td>3.45</td>\n",
              "    </tr>\n",
              "    <tr>\n",
              "      <th>3</th>\n",
              "      <td>18.0</td>\n",
              "      <td>39.89</td>\n",
              "      <td>12.08</td>\n",
              "      <td>5.46</td>\n",
              "      <td>2.96</td>\n",
              "    </tr>\n",
              "    <tr>\n",
              "      <th>4</th>\n",
              "      <td>19.0</td>\n",
              "      <td>33.24</td>\n",
              "      <td>10.06</td>\n",
              "      <td>4.55</td>\n",
              "      <td>2.47</td>\n",
              "    </tr>\n",
              "  </tbody>\n",
              "</table>\n",
              "</div>"
            ],
            "text/plain": [
              "     sw   Pc_1   Pc_2   Pc_3  Pc_4\n",
              "0  15.0  93.59  28.34  12.82  6.94\n",
              "1  16.0  66.48  20.13   9.10  4.93\n",
              "2  17.0  46.54  14.09   6.37  3.45\n",
              "3  18.0  39.89  12.08   5.46  2.96\n",
              "4  19.0  33.24  10.06   4.55  2.47"
            ]
          },
          "metadata": {
            "tags": []
          },
          "execution_count": 7
        }
      ]
    },
    {
      "cell_type": "code",
      "metadata": {
        "id": "XtnOjAd7Zts6",
        "colab_type": "code",
        "colab": {}
      },
      "source": [
        "\"units are not coherent, convert units to psi, cm2\"\n",
        "\n",
        "sigma = 72 * (1/68947.57) # from dyne/cm convert to psi/cm, 1 psi = 68947.57 dyne/cm2\n",
        "\n",
        "# Pc in data is already in psi, correct.\n",
        "\n",
        "# permeability must be in unit cm2 to match with sigma dyne/cm\n",
        "k_1 = (1 / 1000) * (0.98689233 * 1E-08) # permeability of core 1, 1 darcy = 100 md = 0.98689233 micro.m2 = ... * 1E-08 cm2\n",
        "k_2 = (15 / 1000) * (0.98689233 * 1E-08)\n",
        "k_3 = (100 / 1000) * (0.98689233 * 1E-08)\n",
        "k_4 = (500 / 1000) * (0.98689233 * 1E-08)\n",
        "\n",
        "poro_1 = 0.08 # porosity of core 1\n",
        "poro_2 = 0.11\n",
        "poro_3 = 0.15\n",
        "poro_4 = 0.22"
      ],
      "execution_count": 0,
      "outputs": []
    },
    {
      "cell_type": "code",
      "metadata": {
        "id": "8FG-gTDNycJe",
        "colab_type": "code",
        "outputId": "9067f909-3742-4eb1-91e8-88d275509911",
        "colab": {
          "base_uri": "https://localhost:8080/",
          "height": 195
        }
      },
      "source": [
        "J_1 = (capilar.Pc_1 / (sigma * np.cos(np.deg2rad(theta)))) * np.sqrt(k_1 / poro_1)\n",
        "J_2 = (capilar.Pc_2 / (sigma * np.cos(np.deg2rad(theta)))) * np.sqrt(k_2 / poro_2)\n",
        "J_3 = (capilar.Pc_3 / (sigma * np.cos(np.deg2rad(theta)))) * np.sqrt(k_3 / poro_3)\n",
        "J_4 = (capilar.Pc_4 / (sigma * np.cos(np.deg2rad(theta)))) * np.sqrt(k_4 / poro_4)\n",
        "J = pd.DataFrame({\"Sw\":capilar.sw, \"Leverett_1\":J_1, \"Leverett_2\":J_2, \"Leverett_3\":J_3, \"Leverett_4\":J_4})\n",
        "J.head()"
      ],
      "execution_count": 0,
      "outputs": [
        {
          "output_type": "execute_result",
          "data": {
            "text/html": [
              "<div>\n",
              "<style scoped>\n",
              "    .dataframe tbody tr th:only-of-type {\n",
              "        vertical-align: middle;\n",
              "    }\n",
              "\n",
              "    .dataframe tbody tr th {\n",
              "        vertical-align: top;\n",
              "    }\n",
              "\n",
              "    .dataframe thead th {\n",
              "        text-align: right;\n",
              "    }\n",
              "</style>\n",
              "<table border=\"1\" class=\"dataframe\">\n",
              "  <thead>\n",
              "    <tr style=\"text-align: right;\">\n",
              "      <th></th>\n",
              "      <th>Sw</th>\n",
              "      <th>Leverett_1</th>\n",
              "      <th>Leverett_2</th>\n",
              "      <th>Leverett_3</th>\n",
              "      <th>Leverett_4</th>\n",
              "    </tr>\n",
              "  </thead>\n",
              "  <tbody>\n",
              "    <tr>\n",
              "      <th>0</th>\n",
              "      <td>15.0</td>\n",
              "      <td>1.407735</td>\n",
              "      <td>1.407944</td>\n",
              "      <td>1.408247</td>\n",
              "      <td>1.407568</td>\n",
              "    </tr>\n",
              "    <tr>\n",
              "      <th>1</th>\n",
              "      <td>16.0</td>\n",
              "      <td>0.999959</td>\n",
              "      <td>1.000068</td>\n",
              "      <td>0.999614</td>\n",
              "      <td>0.999901</td>\n",
              "    </tr>\n",
              "    <tr>\n",
              "      <th>2</th>\n",
              "      <td>17.0</td>\n",
              "      <td>0.700032</td>\n",
              "      <td>0.699998</td>\n",
              "      <td>0.699729</td>\n",
              "      <td>0.699728</td>\n",
              "    </tr>\n",
              "    <tr>\n",
              "      <th>3</th>\n",
              "      <td>18.0</td>\n",
              "      <td>0.600006</td>\n",
              "      <td>0.600140</td>\n",
              "      <td>0.599768</td>\n",
              "      <td>0.600346</td>\n",
              "    </tr>\n",
              "    <tr>\n",
              "      <th>4</th>\n",
              "      <td>19.0</td>\n",
              "      <td>0.499980</td>\n",
              "      <td>0.499785</td>\n",
              "      <td>0.499807</td>\n",
              "      <td>0.500965</td>\n",
              "    </tr>\n",
              "  </tbody>\n",
              "</table>\n",
              "</div>"
            ],
            "text/plain": [
              "     Sw  Leverett_1  Leverett_2  Leverett_3  Leverett_4\n",
              "0  15.0    1.407735    1.407944    1.408247    1.407568\n",
              "1  16.0    0.999959    1.000068    0.999614    0.999901\n",
              "2  17.0    0.700032    0.699998    0.699729    0.699728\n",
              "3  18.0    0.600006    0.600140    0.599768    0.600346\n",
              "4  19.0    0.499980    0.499785    0.499807    0.500965"
            ]
          },
          "metadata": {
            "tags": []
          },
          "execution_count": 9
        }
      ]
    },
    {
      "cell_type": "code",
      "metadata": {
        "id": "k5mDi7zC4Fsj",
        "colab_type": "code",
        "outputId": "fe5707e6-367d-4fd5-e339-4ab678e63c66",
        "colab": {
          "base_uri": "https://localhost:8080/",
          "height": 313
        }
      },
      "source": [
        "# plot Leverett function result\n",
        "p1 = plt.plot(J[['Sw']], J[['Leverett_1']])\n",
        "p2 = plt.plot(J[['Sw']], J[['Leverett_2']])\n",
        "p3 = plt.plot(J[['Sw']], J[['Leverett_3']])\n",
        "p4 = plt.plot(J[['Sw']], J[['Leverett_4']])\n",
        "plt.xlabel(\"Sw\"); plt.ylabel(\"J-Function (unitless)\")\n",
        "plt.legend((p1[0], p2[0], p3[0], p4[0]), ('1 md, porosity 0.08', '15 md, porosity 0.11', '100 md, porosity 0.15', '500 md, porosity 0.22'))\n",
        "plt.title(\"Leverett J-Function\")"
      ],
      "execution_count": 0,
      "outputs": [
        {
          "output_type": "execute_result",
          "data": {
            "text/plain": [
              "Text(0.5, 1.0, 'Leverett J-Function')"
            ]
          },
          "metadata": {
            "tags": []
          },
          "execution_count": 10
        },
        {
          "output_type": "display_data",
          "data": {
            "image/png": "[encoded data removed]",
            "text/plain": [
              "<Figure size 432x288 with 1 Axes>"
            ]
          },
          "metadata": {
            "tags": []
          }
        }
      ]
    },
    {
      "cell_type": "markdown",
      "metadata": {
        "id": "iM07l8QmB8Mv",
        "colab_type": "text"
      },
      "source": [
        "# Example 2.4 Calculation of Z Factor for Sour Gas"
      ]
    },
    {
      "cell_type": "markdown",
      "metadata": {
        "id": "QXMIYH-0TWB0",
        "colab_type": "text"
      },
      "source": [
        "The resulted T_pr and P_pr (pseudoreduced) will be traced using Standing-Katz graph to find the z factor\n",
        "\n",
        "![Standing-Katz EOS](https://petrowiki.org/images/thumb/7/76/Vol1_Page_225_Image_0001.png/708px-Vol1_Page_225_Image_0001.png)"
      ]
    },
    {
      "cell_type": "code",
      "metadata": {
        "id": "VY88StmMNzeM",
        "colab_type": "code",
        "outputId": "087c7e58-0465-48f9-e3b6-89ec25440856",
        "colab": {
          "base_uri": "https://localhost:8080/",
          "height": 87
        }
      },
      "source": [
        "\"Question. calculate z factor for the sour gas\"\n",
        "# known\n",
        "pressure = 2010 # in psia\n",
        "temp = 75 # in deg F\n",
        "sg = 0.7 # specific gravity\n",
        "x_h2s = 0.07 # mole fraction\n",
        "x_co2 = 0.1\n",
        "\n",
        "temp = temp + 459.67 # convert to Rankine\n",
        "\n",
        "# calculate pseudocritical properties (Sutton, valid for 0.57<sg<1.68)\n",
        "P_pc = 756.8 - (131.07 * sg) - (3.6 * sg**2)\n",
        "T_pc = 169.2 + (349.50 * sg) - (74 * sg**2) # in Rankine\n",
        "\n",
        "# calculate adjustment to pseudocritical properties for sour gas (Wiechert-Aziz, valid for x_co2<0.544 and x_h2s<0.738)\n",
        "e = (120 * (((x_h2s + x_co2)**0.9) - ((x_h2s + x_co2)**1.6))) + (15 * (x_h2s**0.5 - x_h2s**4))\n",
        "T_pc_corr = T_pc - e # corrected T_pc\n",
        "P_pc_corr = (P_pc * T_pc_corr) / (T_pc - x_h2s * e * (1-x_h2s))\n",
        "\n",
        "# calculate pseudoreduced properties\n",
        "P_pr = pressure / P_pc_corr\n",
        "T_pr = temp / T_pc_corr\n",
        "\n",
        "print(\"Gas pseudocritical temperature: \",T_pc_corr, \"deg Rankine\")\n",
        "print(\"Gas pseudocritical pressure: \",P_pc_corr, \"psia\")\n",
        "print(\"Gas pseudoreduced temperature: \",T_pr)\n",
        "print(\"Gas pseudoreduced pressure: \",P_pr)"
      ],
      "execution_count": 0,
      "outputs": [
        {
          "output_type": "stream",
          "text": [
            "Gas pseudocritical temperature:  356.31219397078127 deg Rankine\n",
            "Gas pseudocritical pressure:  628.2143047814683 psia\n",
            "Gas pseudoreduced temperature:  1.5005661019949397\n",
            "Gas pseudoreduced pressure:  3.1995450990234966\n"
          ],
          "name": "stdout"
        }
      ]
    },
    {
      "cell_type": "code",
      "metadata": {
        "id": "EoxMCR5YMw9Q",
        "colab_type": "code",
        "outputId": "78ad6e91-b975-4bad-e4ed-373d01d5d60c",
        "colab": {
          "base_uri": "https://localhost:8080/",
          "height": 34
        }
      },
      "source": [
        "# find z factor from tracing Standing-Katz graph\n",
        "z = 0.772 # according to book\n",
        "print(\"Gas compressibility factor from Standing graph: \",z)"
      ],
      "execution_count": 0,
      "outputs": [
        {
          "output_type": "stream",
          "text": [
            "Gas compressibility factor from Standing graph:  0.772\n"
          ],
          "name": "stdout"
        }
      ]
    },
    {
      "cell_type": "markdown",
      "metadata": {
        "id": "8cvud6S1Tefh",
        "colab_type": "text"
      },
      "source": [
        "# Example 2.5 Properties of Natural Gas\n",
        "\n",
        "<div>\n",
        "<img src=\"https://user-images.githubusercontent.com/51282928/74208479-42ff2e00-4cb6-11ea-8fba-b9e15e1b53b3.PNG\" width=\"400\"/>\n",
        "</div>"
      ]
    },
    {
      "cell_type": "code",
      "metadata": {
        "id": "-qHbjJ5_LYrk",
        "colab_type": "code",
        "outputId": "71d793a2-8008-4e52-b168-b8c953e2d864",
        "colab": {
          "base_uri": "https://localhost:8080/",
          "height": 34
        }
      },
      "source": [
        "\"Question 1. calculate density\"\n",
        "\n",
        "# known: similar gas (P,T,X) like Example 2.4, P in psia, T in Rankine\n",
        "\n",
        "R = 10.732 # gas constant in (ft3*psi)/(lb-mol*R), see gas constants above\n",
        "rhogas = (28.97 * sg * pressure) / (z * R * temp)\n",
        "print(\"Gas density: \",rhogas, \"lbm/ft3\")"
      ],
      "execution_count": 0,
      "outputs": [
        {
          "output_type": "stream",
          "text": [
            "Gas density:  9.201503836047605 lbm/ft3\n"
          ],
          "name": "stdout"
        }
      ]
    },
    {
      "cell_type": "code",
      "metadata": {
        "id": "vuuQocb3PogD",
        "colab_type": "code",
        "outputId": "b9b0dd0d-ca0c-495c-bb1d-e4ab9dbc6f4b",
        "colab": {
          "base_uri": "https://localhost:8080/",
          "height": 34
        }
      },
      "source": [
        "\"Question 2. calculate gas volume factor (FVF or Bg)\"\n",
        "\n",
        "Bg = 0.0282793 * z * temp / pressure\n",
        "\n",
        "print(\"Gas volume factor: \",Bg, \"res ft3/scf\")"
      ],
      "execution_count": 0,
      "outputs": [
        {
          "output_type": "stream",
          "text": [
            "Gas volume factor:  0.005807319428622887 res ft3/scf\n"
          ],
          "name": "stdout"
        }
      ]
    },
    {
      "cell_type": "markdown",
      "metadata": {
        "id": "qBIoxjjQW3zw",
        "colab_type": "text"
      },
      "source": [
        "**Fig 2.12 Viscosity of natural gas at 1 atm (Carr et al)**\n",
        "\n",
        "<div>\n",
        "<img src=\"https://petrowiki.org/images/thumb/8/86/Vol1_Page_238_Image_0001.png/1200px-Vol1_Page_238_Image_0001.png\" width=\"500\"/>\n",
        "</div>\n",
        "\n",
        "**Fig 2.14 Viscosity ratio vs pseudoreduced temperature (Carr et al)**\n",
        "\n",
        "<div>\n",
        "<img src=\"https://petrowiki.org/images/thumb/f/fa/Vol1_Page_240_Image_0001.png/516px-Vol1_Page_240_Image_0001.png\" width=\"300\"/>\n",
        "</div>"
      ]
    },
    {
      "cell_type": "code",
      "metadata": {
        "colab_type": "code",
        "outputId": "b697f59d-1cb2-46ed-cded-f2a1bd8a5bed",
        "id": "LdIwN14jUibL",
        "colab": {
          "base_uri": "https://localhost:8080/",
          "height": 52
        }
      },
      "source": [
        "\"Question 3. calculate viscosity \"\n",
        "\n",
        "# according to book: use Carr et al\n",
        "Mg = 28.97 * sg\n",
        "# viscosity is traced using Fig 2.12 graph, also the corrections of h2s and co2\n",
        "mu_ga = 0.0102 # in centipoise\n",
        "mu_h2s_corr = 0.0002 # h2s corrector\n",
        "mu_co2_corr = 0.0005 \n",
        "mu_ga_corr = mu_ga + mu_h2s_corr + mu_co2_corr\n",
        "\n",
        "mu_ratio = 1.55 # viscosity ratio traced from Fig 2.14 graph\n",
        "mu_carr = mu_ga_corr * mu_ratio\n",
        "\n",
        "# alternative to book: use Lee et al\n",
        "K = ((0.00094 + 2E-06)*(temp**1.5)) / (209 + 19*Mg + temp)\n",
        "rhogas_lee = rhogas * 0.0160185 # lbm/ft3 converted to gas density unit of Lee et al (g/cm3)\n",
        "x = 3.5 + (986 / temp) + (0.01 * Mg)\n",
        "y = 2.4 - 0.2*x\n",
        "\n",
        "mu_lee = K * np.exp(x * (rhogas_lee**y))\n",
        "\n",
        "print(\"Gas viscosity using Carr et al: \",mu_carr,\"cP\")\n",
        "print(\"Gas viscosity using Lee et al: \",mu_lee,\"cP\")"
      ],
      "execution_count": 0,
      "outputs": [
        {
          "output_type": "stream",
          "text": [
            "Gas viscosity using Carr et al:  0.016895000000000004 cP\n",
            "Gas viscosity using Lee et al:  0.01648326802386323 cP\n"
          ],
          "name": "stdout"
        }
      ]
    },
    {
      "cell_type": "markdown",
      "metadata": {
        "id": "RiWXaqg8cK31",
        "colab_type": "text"
      },
      "source": [
        "**Fig 2.10 Pseudoreduced compressibility chart (c_pr*T_pr) (Trube and Mattar)**\n",
        "\n",
        "<div>\n",
        "<img src=\"https://petrowiki.org/images/thumb/2/25/Vol1_Page_236_Image_0001.png/636px-Vol1_Page_236_Image_0001.png\" width=\"300\"/>\n",
        "</div>"
      ]
    },
    {
      "cell_type": "code",
      "metadata": {
        "colab_type": "code",
        "outputId": "90fd3762-f581-49d2-e63f-c137d4c12e4b",
        "id": "x36YEStnkOIK",
        "colab": {
          "base_uri": "https://localhost:8080/",
          "height": 52
        }
      },
      "source": [
        "\"Question 4. calculate isothermal compressibility\"\n",
        "\n",
        "# find pseudoreduced (c_pr*T_pr) from Fig 2.10 graph (Trube and Mattar), T_pr, P_pr has been solved previously (Example 2.4)\n",
        "\n",
        "trube_factor = 0.5 # is c_pr*T_pr\n",
        "c_pr_graphical = trube_factor / T_pr\n",
        "cgas_graphical = c_pr_graphical / P_pc_corr # pseudocritical pressure (P_pc_corr) has been solved previously (Example 2.4)\n",
        "\n",
        "# alternative: use Mattar et al analytical solution\n",
        "rho_pr = (0.27 * P_pr) / (z * T_pr)\n",
        "\n",
        "a1 = 0.3265; a2 = -1.0700; a3 = -0.5339; a4 = 0.01569; a5 = -0.05165; a6 = 0.5475\n",
        "a7 = -0.7361; a8 = 0.1844; a9 = 0.1056; a10 = 0.6134; a11 = 0.7210\n",
        "\n",
        "do = ((a1 + (a2/T_pr) + (a3/T_pr**3) +(a4/T_pr**4) + (a5/T_pr**5)) * rho_pr) + \\\n",
        "     (2 * ((a6 + (a7/T_pr) + (a8/T_pr**2))) * rho_pr**2) - \\\n",
        "     (5 * a9 * (((a7/T_pr) + (a8/T_pr**2))) * rho_pr**4) + (1 + (a11 * rho_pr**2) - (a11 * rho_pr**2)**2) \\\n",
        "     * ((2 * a10 * rho_pr / T_pr**3)*np.exp(-a11 * rho_pr**2))\n",
        "\n",
        "c_pr_analytical = (1 / P_pr) - ((0.27 / (z**2 * T_pr)) * (do / (1 + ((rho_pr / z) * do))))\n",
        "cgas_analytical = c_pr_analytical / P_pc_corr\n",
        "\n",
        "print(\"Gas isothermal compressibility at 1 atm using Trube and Mattar: \",cgas_graphical,\"psi^-1\")\n",
        "print(\"Gas isothermal compressibility at 1 atm using Mattar analytical: \",cgas_analytical,\"psi^-1\")"
      ],
      "execution_count": 0,
      "outputs": [
        {
          "output_type": "stream",
          "text": [
            "Gas isothermal compressibility at 1 atm using Trube and Mattar:  0.0005304043187384391 psi^-1\n",
            "Gas isothermal compressibility at 1 atm using Mattar analytical:  0.00048026851516057723 psi^-1\n"
          ],
          "name": "stdout"
        }
      ]
    },
    {
      "cell_type": "markdown",
      "metadata": {
        "id": "guwvSjhR130t",
        "colab_type": "text"
      },
      "source": [
        "# Example 2.6 Calculation of Bubblepoint Pressure of Oil"
      ]
    },
    {
      "cell_type": "code",
      "metadata": {
        "id": "eDwHb9tL193d",
        "colab_type": "code",
        "outputId": "57e7eb1e-2c07-45fa-df3a-566d6881b00b",
        "colab": {
          "base_uri": "https://localhost:8080/",
          "height": 52
        }
      },
      "source": [
        "# Question. calculate bubblepoint pressure using Standing and Vasquez-Beggs\n",
        "\n",
        "#known\n",
        "Rsb = 500 # gas-oil ratio AT and ABOVE BUBBLEPOINT pressure, in scf/STB\n",
        "temp2 = 220 # reservoir temperature, in deg F\n",
        "sg2 = 0.8\n",
        "api = 30 # specific gravity of oil, deg API\n",
        "\n",
        "# using Standing\n",
        "x_gas = (0.00091*temp2) - (0.0125*api) # mole fraction of gas\n",
        "P_bubble_standing = 18 * ((Rsb / sg2)**0.83) * (10**x_gas)\n",
        "\n",
        "# using Vazquez-Beggs (more accurate than Standing)\n",
        "\n",
        "# c1, c2, c3 coefficient from Vazquez-Beggs\n",
        "if api <=30:\n",
        "  c1 = 0.0362\n",
        "  c2 = 1.0937\n",
        "  c3 = 25.7240\n",
        "if api > 30:\n",
        "  c1 = 0.0178\n",
        "  c2 = 1.187\n",
        "  c3 = 23.9310\n",
        "\n",
        "P_bubble_vaz = (Rsb / (c1 * sg2 * np.exp((c3 * api)/(temp2 + 459.67))))**(1 / c2) # convert temp to Rankine\n",
        "\n",
        "print(\"Bubblepoint pressure of oil using Standing: \",P_bubble_standing,\"psi\")\n",
        "print(\"Bubblepoint pressure of oil using Vazquez-Beggs (more accurate): \",P_bubble_vaz,\"psi\")"
      ],
      "execution_count": 0,
      "outputs": [
        {
          "output_type": "stream",
          "text": [
            "Bubblepoint pressure of oil using Standing:  2517.983729536601 psi\n",
            "Bubblepoint pressure of oil using Vazquez-Beggs (more accurate):  2650.3067919543523 psi\n"
          ],
          "name": "stdout"
        }
      ]
    },
    {
      "cell_type": "markdown",
      "metadata": {
        "id": "GjF01ee082Yv",
        "colab_type": "text"
      },
      "source": [
        "# Example 2.7 Calculation of Oil Properties"
      ]
    },
    {
      "cell_type": "code",
      "metadata": {
        "id": "lcUfSBWN89I2",
        "colab_type": "code",
        "outputId": "542922f9-95d9-4cdd-a5d8-626451d4d97c",
        "colab": {
          "base_uri": "https://localhost:8080/",
          "height": 195
        }
      },
      "source": [
        "\"Question 1. calculate oil isothermal compressibility\"\n",
        "\n",
        "from math import e\n",
        "\n",
        "# known: properties of oil are like Example 2.6 with temperature = temp2, sg2, api, Rsb\n",
        "\n",
        "pressure2 = np.arange(100, 5100, 100)\n",
        "# pressure2 = 3000\n",
        "P_bubble = P_bubble_vaz # the oil has bubblepoint pressure which has been solved previously (Example 2.6)\n",
        "\n",
        "# oil isothermal compressibility\n",
        "\n",
        "coil_array = []\n",
        "\n",
        "for i in range(len(pressure2)):\n",
        "  if pressure2[i] < P_bubble:\n",
        "    # use McCain\n",
        "    ln_coil = -7.573 - (1.45 * np.log(pressure2[i])) - (0.383 * np.log(P_bubble)) + (1.402 * np.log(temp2)) + (0.256 * np.log(api)) + (0.449 * np.log(Rsb))  \n",
        "    coil = np.exp(ln_coil)\n",
        "  if pressure2[i] >= P_bubble:\n",
        "    # use Vazquez-Beggs\n",
        "    coil = ((5 * Rsb) + (17.2 * temp2) - (1180 * sg2) + (12.61 * api) - 1433) / (1E+05 * pressure2[i])\n",
        "  coil_array.append(float(coil))\n",
        "\n",
        "coil_df = pd.DataFrame({\"pressure(psia)\": pressure2, \"compressibility(psi^-1)\": coil_array})\n",
        "pd.options.display.float_format = '{:.2E}'.format # convert into exponential form\n",
        "coil_df.head()"
      ],
      "execution_count": 0,
      "outputs": [
        {
          "output_type": "execute_result",
          "data": {
            "text/html": [
              "<div>\n",
              "<style scoped>\n",
              "    .dataframe tbody tr th:only-of-type {\n",
              "        vertical-align: middle;\n",
              "    }\n",
              "\n",
              "    .dataframe tbody tr th {\n",
              "        vertical-align: top;\n",
              "    }\n",
              "\n",
              "    .dataframe thead th {\n",
              "        text-align: right;\n",
              "    }\n",
              "</style>\n",
              "<table border=\"1\" class=\"dataframe\">\n",
              "  <thead>\n",
              "    <tr style=\"text-align: right;\">\n",
              "      <th></th>\n",
              "      <th>pressure(psia)</th>\n",
              "      <th>compressibility(psi^-1)</th>\n",
              "    </tr>\n",
              "  </thead>\n",
              "  <tbody>\n",
              "    <tr>\n",
              "      <th>0</th>\n",
              "      <td>100</td>\n",
              "      <td>2.37E-03</td>\n",
              "    </tr>\n",
              "    <tr>\n",
              "      <th>1</th>\n",
              "      <td>200</td>\n",
              "      <td>8.66E-04</td>\n",
              "    </tr>\n",
              "    <tr>\n",
              "      <th>2</th>\n",
              "      <td>300</td>\n",
              "      <td>4.81E-04</td>\n",
              "    </tr>\n",
              "    <tr>\n",
              "      <th>3</th>\n",
              "      <td>400</td>\n",
              "      <td>3.17E-04</td>\n",
              "    </tr>\n",
              "    <tr>\n",
              "      <th>4</th>\n",
              "      <td>500</td>\n",
              "      <td>2.29E-04</td>\n",
              "    </tr>\n",
              "  </tbody>\n",
              "</table>\n",
              "</div>"
            ],
            "text/plain": [
              "   pressure(psia)  compressibility(psi^-1)\n",
              "0             100                 2.37E-03\n",
              "1             200                 8.66E-04\n",
              "2             300                 4.81E-04\n",
              "3             400                 3.17E-04\n",
              "4             500                 2.29E-04"
            ]
          },
          "metadata": {
            "tags": []
          },
          "execution_count": 18
        }
      ]
    },
    {
      "cell_type": "code",
      "metadata": {
        "id": "O_AnWrNmALqj",
        "colab_type": "code",
        "outputId": "f63dfdb9-e723-445d-b5ec-a9761836021a",
        "colab": {
          "base_uri": "https://localhost:8080/",
          "height": 195
        }
      },
      "source": [
        "\"Question 2. calculate gas-oil ratio (Rs)\"\n",
        "\n",
        "# gas-oil ratio\n",
        "\n",
        "Rs_array = []\n",
        "\n",
        "for i in range(len(pressure2)):\n",
        "  if pressure2[i] < P_bubble:\n",
        "    Rsc = (pressure2[i]**c2) * c1 * sg2 * np.exp((c3 * api) / (temp2 + 459.67)) # gas-oil ratio at any pressure BELOW BUBBLEPOINT using Vazquez-Beggs\n",
        "    Rs = Rsc\n",
        "  if pressure2[i] >= P_bubble:\n",
        "    Rs = Rsb\n",
        "  Rs_array.append(float(Rs))\n",
        "\n",
        "Rs_df = pd.DataFrame({\"pressure(psia)\": pressure2, \"Gas-oil ratio(scf/STB)\": Rs_array})\n",
        "props = pd.merge(coil_df, Rs_df, on='pressure(psia)') # merge the result with previous dataframe\n",
        "props.head()"
      ],
      "execution_count": 0,
      "outputs": [
        {
          "output_type": "execute_result",
          "data": {
            "text/html": [
              "<div>\n",
              "<style scoped>\n",
              "    .dataframe tbody tr th:only-of-type {\n",
              "        vertical-align: middle;\n",
              "    }\n",
              "\n",
              "    .dataframe tbody tr th {\n",
              "        vertical-align: top;\n",
              "    }\n",
              "\n",
              "    .dataframe thead th {\n",
              "        text-align: right;\n",
              "    }\n",
              "</style>\n",
              "<table border=\"1\" class=\"dataframe\">\n",
              "  <thead>\n",
              "    <tr style=\"text-align: right;\">\n",
              "      <th></th>\n",
              "      <th>pressure(psia)</th>\n",
              "      <th>compressibility(psi^-1)</th>\n",
              "      <th>Gas-oil ratio(scf/STB)</th>\n",
              "    </tr>\n",
              "  </thead>\n",
              "  <tbody>\n",
              "    <tr>\n",
              "      <th>0</th>\n",
              "      <td>100</td>\n",
              "      <td>2.37E-03</td>\n",
              "      <td>1.39E+01</td>\n",
              "    </tr>\n",
              "    <tr>\n",
              "      <th>1</th>\n",
              "      <td>200</td>\n",
              "      <td>8.66E-04</td>\n",
              "      <td>2.96E+01</td>\n",
              "    </tr>\n",
              "    <tr>\n",
              "      <th>2</th>\n",
              "      <td>300</td>\n",
              "      <td>4.81E-04</td>\n",
              "      <td>4.61E+01</td>\n",
              "    </tr>\n",
              "    <tr>\n",
              "      <th>3</th>\n",
              "      <td>400</td>\n",
              "      <td>3.17E-04</td>\n",
              "      <td>6.32E+01</td>\n",
              "    </tr>\n",
              "    <tr>\n",
              "      <th>4</th>\n",
              "      <td>500</td>\n",
              "      <td>2.29E-04</td>\n",
              "      <td>8.07E+01</td>\n",
              "    </tr>\n",
              "  </tbody>\n",
              "</table>\n",
              "</div>"
            ],
            "text/plain": [
              "   pressure(psia)  compressibility(psi^-1)  Gas-oil ratio(scf/STB)\n",
              "0             100                 2.37E-03                1.39E+01\n",
              "1             200                 8.66E-04                2.96E+01\n",
              "2             300                 4.81E-04                4.61E+01\n",
              "3             400                 3.17E-04                6.32E+01\n",
              "4             500                 2.29E-04                8.07E+01"
            ]
          },
          "metadata": {
            "tags": []
          },
          "execution_count": 19
        }
      ]
    },
    {
      "cell_type": "code",
      "metadata": {
        "id": "Qd7QsCVyo37w",
        "colab_type": "code",
        "outputId": "c9a10bde-136c-413b-e222-c36ea9fbdc83",
        "colab": {
          "base_uri": "https://localhost:8080/",
          "height": 195
        }
      },
      "source": [
        "\"Question 3. calculate oil formation volume factor (FVF)\"\n",
        "\n",
        "# FVF of oil at bubblepoint pressure using Levitan-Murtha\n",
        "so = 141.5 / (api + 131.5)\n",
        "Bo_bubble = 1 + ((0.0005 * Rsb) * ((sg2 / so)**0.25)) + ((0.0004*(temp2- 60)) / (so * sg2)) # temp in def F\n",
        "\n",
        "Bo_array = []\n",
        "\n",
        "for i in range(len(pressure2)):\n",
        "  if pressure2[i] < P_bubble: # use Vazquez-Beggs\n",
        "    if api <= 30:\n",
        "      # use Vazquez-Beggs \n",
        "      c4 = 4.677E-4\n",
        "      c5 = 1.751E-5\n",
        "      c6 = -1.811E-8\n",
        "    if api <= 30:\n",
        "      c4 = 4.670E-4\n",
        "      c5 = 1.100E-5\n",
        "      c6 = 1.337E-9\n",
        "    Rsc = (pressure2[i]**c2) * c1 * sg2 * np.exp((c3 * api) / (temp2 + 459.67))\n",
        "    Bo = 1 + (c4 * Rsc) + (c5 * (temp2 - 60) * (api / sg2)) + (c6 * Rsc *(temp2 - 60) * (api / sg2)) # temp in deg F\n",
        "  if pressure2[i] == P_bubble:\n",
        "    # use Levitan-Murtha\n",
        "    Bo = Bo_bubble\n",
        "  if pressure2[i] > P_bubble:\n",
        "    # use Levitan-Murtha\n",
        "    coil = ((5 * Rsb) + (17.2 * temp2) - (1180 * sg2) + (12.61 * api) - 1433) / (1E+05 * pressure2[i])\n",
        "    Bo = Bo_bubble * np.exp(coil * (P_bubble - pressure2[i]))\n",
        "  Bo_array.append(float(Bo))\n",
        "\n",
        "Bo_df = pd.DataFrame({\"pressure(psia)\": pressure2, \"formation-volume-factor(RB/STB)\": Bo_array})\n",
        "props = pd.merge(Bo_df, props, on='pressure(psia)') # merge the result with previous dataframe\n",
        "props.head()"
      ],
      "execution_count": 0,
      "outputs": [
        {
          "output_type": "execute_result",
          "data": {
            "text/html": [
              "<div>\n",
              "<style scoped>\n",
              "    .dataframe tbody tr th:only-of-type {\n",
              "        vertical-align: middle;\n",
              "    }\n",
              "\n",
              "    .dataframe tbody tr th {\n",
              "        vertical-align: top;\n",
              "    }\n",
              "\n",
              "    .dataframe thead th {\n",
              "        text-align: right;\n",
              "    }\n",
              "</style>\n",
              "<table border=\"1\" class=\"dataframe\">\n",
              "  <thead>\n",
              "    <tr style=\"text-align: right;\">\n",
              "      <th></th>\n",
              "      <th>pressure(psia)</th>\n",
              "      <th>formation-volume-factor(RB/STB)</th>\n",
              "      <th>compressibility(psi^-1)</th>\n",
              "      <th>Gas-oil ratio(scf/STB)</th>\n",
              "    </tr>\n",
              "  </thead>\n",
              "  <tbody>\n",
              "    <tr>\n",
              "      <th>0</th>\n",
              "      <td>100</td>\n",
              "      <td>1.07E+00</td>\n",
              "      <td>2.37E-03</td>\n",
              "      <td>1.39E+01</td>\n",
              "    </tr>\n",
              "    <tr>\n",
              "      <th>1</th>\n",
              "      <td>200</td>\n",
              "      <td>1.08E+00</td>\n",
              "      <td>8.66E-04</td>\n",
              "      <td>2.96E+01</td>\n",
              "    </tr>\n",
              "    <tr>\n",
              "      <th>2</th>\n",
              "      <td>300</td>\n",
              "      <td>1.09E+00</td>\n",
              "      <td>4.81E-04</td>\n",
              "      <td>4.61E+01</td>\n",
              "    </tr>\n",
              "    <tr>\n",
              "      <th>3</th>\n",
              "      <td>400</td>\n",
              "      <td>1.10E+00</td>\n",
              "      <td>3.17E-04</td>\n",
              "      <td>6.32E+01</td>\n",
              "    </tr>\n",
              "    <tr>\n",
              "      <th>4</th>\n",
              "      <td>500</td>\n",
              "      <td>1.10E+00</td>\n",
              "      <td>2.29E-04</td>\n",
              "      <td>8.07E+01</td>\n",
              "    </tr>\n",
              "  </tbody>\n",
              "</table>\n",
              "</div>"
            ],
            "text/plain": [
              "   pressure(psia)  ...  Gas-oil ratio(scf/STB)\n",
              "0             100  ...                1.39E+01\n",
              "1             200  ...                2.96E+01\n",
              "2             300  ...                4.61E+01\n",
              "3             400  ...                6.32E+01\n",
              "4             500  ...                8.07E+01\n",
              "\n",
              "[5 rows x 4 columns]"
            ]
          },
          "metadata": {
            "tags": []
          },
          "execution_count": 20
        }
      ]
    },
    {
      "cell_type": "code",
      "metadata": {
        "id": "2Z9HQO7gAevj",
        "colab_type": "code",
        "outputId": "803e2e05-00eb-4ef0-bc0a-b0a4c76619be",
        "colab": {
          "base_uri": "https://localhost:8080/",
          "height": 1000
        }
      },
      "source": [
        "\"Question 4. calculate oil viscosity\"\n",
        "\n",
        "mu_oil_array = []\n",
        "\n",
        "for i in range(len(pressure2)):\n",
        "  if pressure2[i] <= P_bubble:\n",
        "    # use Beggs and Robinson\n",
        "    # valid for: 0 < pressure < 5250 psig, 70 < temp < 295 F, 20 < Rs < 2070 scf/STB, 16 < api < 58 API \n",
        "    x = (temp2**(-1.163)) * np.exp(6.9824 - (0.04658 * api))\n",
        "    mu_dead_oil = 10**x - 1\n",
        "    Rs = (pressure2[i]**c2) * c1 * sg2 * np.exp((c3 * api) / (temp2 + 459.67)) # gas-oil ratio at any pressure BELOW BUBBLEPOINT using Vazquez-Beggs\n",
        "    a = 10.715 * ((Rs + 100)**(-0.515))\n",
        "    b = 5.44 * ((Rs + 150)**(-0.338))\n",
        "    mu_live_oil = a * (mu_dead_oil**b)\n",
        "  if pressure2[i] > P_bubble:\n",
        "    # use Vazquez and Beggs\n",
        "    # valid for: 126 < pressure < 9500 psig, 9.3 < Rs < 2199 scf/STB, 15.3 < api < 59.5 API, 0.511 < sg < 1.351 \n",
        "\n",
        "    # compute oil viscosity at bubblepoint first\n",
        "    x_bubble = (temp2**(-1.163)) * np.exp(6.9824 - (0.04658 * api))\n",
        "    mu_dead_oil_bubble = 10**x_bubble - 1\n",
        "    Rsb = (P_bubble**c2) * c1 * sg2 * np.exp((c3 * api) / (temp2 + 459.67)) # gas-oil ratio at any pressure BELOW BUBBLEPOINT using Vazquez-Beggs\n",
        "    a_bubble = 10.715 * ((Rsb + 100)**(-0.515))\n",
        "    b_bubble = 5.44 * ((Rsb + 150)**(-0.338))\n",
        "    mu_live_oil_bubble = a_bubble * (mu_dead_oil**b_bubble)\n",
        "\n",
        "    m = 2.6 * (pressure2[i]**1.187) * np.exp(-11.513 - (8.98E-05 * pressure2[i]))\n",
        "    mu_live_oil = mu_live_oil_bubble * ((pressure2[i] / P_bubble)**m)\n",
        "  mu_oil_array.append(float(mu_live_oil))\n",
        "\n",
        "mu_oil_df = pd.DataFrame({\"pressure(psia)\":pressure2, \"viscosity (cP)\": mu_oil_array})\n",
        "props = pd.merge(mu_oil_df, props, on='pressure(psia)') # merge the result with previous dataframe\n",
        "props # complete"
      ],
      "execution_count": 0,
      "outputs": [
        {
          "output_type": "execute_result",
          "data": {
            "text/html": [
              "<div>\n",
              "<style scoped>\n",
              "    .dataframe tbody tr th:only-of-type {\n",
              "        vertical-align: middle;\n",
              "    }\n",
              "\n",
              "    .dataframe tbody tr th {\n",
              "        vertical-align: top;\n",
              "    }\n",
              "\n",
              "    .dataframe thead th {\n",
              "        text-align: right;\n",
              "    }\n",
              "</style>\n",
              "<table border=\"1\" class=\"dataframe\">\n",
              "  <thead>\n",
              "    <tr style=\"text-align: right;\">\n",
              "      <th></th>\n",
              "      <th>pressure(psia)</th>\n",
              "      <th>viscosity (cP)</th>\n",
              "      <th>formation-volume-factor(RB/STB)</th>\n",
              "      <th>compressibility(psi^-1)</th>\n",
              "      <th>Gas-oil ratio(scf/STB)</th>\n",
              "    </tr>\n",
              "  </thead>\n",
              "  <tbody>\n",
              "    <tr>\n",
              "      <th>0</th>\n",
              "      <td>100</td>\n",
              "      <td>1.99E+00</td>\n",
              "      <td>1.07E+00</td>\n",
              "      <td>2.37E-03</td>\n",
              "      <td>1.39E+01</td>\n",
              "    </tr>\n",
              "    <tr>\n",
              "      <th>1</th>\n",
              "      <td>200</td>\n",
              "      <td>1.82E+00</td>\n",
              "      <td>1.08E+00</td>\n",
              "      <td>8.66E-04</td>\n",
              "      <td>2.96E+01</td>\n",
              "    </tr>\n",
              "    <tr>\n",
              "      <th>2</th>\n",
              "      <td>300</td>\n",
              "      <td>1.68E+00</td>\n",
              "      <td>1.09E+00</td>\n",
              "      <td>4.81E-04</td>\n",
              "      <td>4.61E+01</td>\n",
              "    </tr>\n",
              "    <tr>\n",
              "      <th>3</th>\n",
              "      <td>400</td>\n",
              "      <td>1.55E+00</td>\n",
              "      <td>1.10E+00</td>\n",
              "      <td>3.17E-04</td>\n",
              "      <td>6.32E+01</td>\n",
              "    </tr>\n",
              "    <tr>\n",
              "      <th>4</th>\n",
              "      <td>500</td>\n",
              "      <td>1.45E+00</td>\n",
              "      <td>1.10E+00</td>\n",
              "      <td>2.29E-04</td>\n",
              "      <td>8.07E+01</td>\n",
              "    </tr>\n",
              "    <tr>\n",
              "      <th>5</th>\n",
              "      <td>600</td>\n",
              "      <td>1.36E+00</td>\n",
              "      <td>1.11E+00</td>\n",
              "      <td>1.76E-04</td>\n",
              "      <td>9.85E+01</td>\n",
              "    </tr>\n",
              "    <tr>\n",
              "      <th>6</th>\n",
              "      <td>700</td>\n",
              "      <td>1.28E+00</td>\n",
              "      <td>1.12E+00</td>\n",
              "      <td>1.41E-04</td>\n",
              "      <td>1.17E+02</td>\n",
              "    </tr>\n",
              "    <tr>\n",
              "      <th>7</th>\n",
              "      <td>800</td>\n",
              "      <td>1.21E+00</td>\n",
              "      <td>1.13E+00</td>\n",
              "      <td>1.16E-04</td>\n",
              "      <td>1.35E+02</td>\n",
              "    </tr>\n",
              "    <tr>\n",
              "      <th>8</th>\n",
              "      <td>900</td>\n",
              "      <td>1.15E+00</td>\n",
              "      <td>1.14E+00</td>\n",
              "      <td>9.78E-05</td>\n",
              "      <td>1.53E+02</td>\n",
              "    </tr>\n",
              "    <tr>\n",
              "      <th>9</th>\n",
              "      <td>1000</td>\n",
              "      <td>1.09E+00</td>\n",
              "      <td>1.15E+00</td>\n",
              "      <td>8.40E-05</td>\n",
              "      <td>1.72E+02</td>\n",
              "    </tr>\n",
              "    <tr>\n",
              "      <th>10</th>\n",
              "      <td>1100</td>\n",
              "      <td>1.04E+00</td>\n",
              "      <td>1.16E+00</td>\n",
              "      <td>7.31E-05</td>\n",
              "      <td>1.91E+02</td>\n",
              "    </tr>\n",
              "    <tr>\n",
              "      <th>11</th>\n",
              "      <td>1200</td>\n",
              "      <td>9.97E-01</td>\n",
              "      <td>1.17E+00</td>\n",
              "      <td>6.44E-05</td>\n",
              "      <td>2.10E+02</td>\n",
              "    </tr>\n",
              "    <tr>\n",
              "      <th>12</th>\n",
              "      <td>1300</td>\n",
              "      <td>9.57E-01</td>\n",
              "      <td>1.17E+00</td>\n",
              "      <td>5.74E-05</td>\n",
              "      <td>2.29E+02</td>\n",
              "    </tr>\n",
              "    <tr>\n",
              "      <th>13</th>\n",
              "      <td>1400</td>\n",
              "      <td>9.21E-01</td>\n",
              "      <td>1.18E+00</td>\n",
              "      <td>5.15E-05</td>\n",
              "      <td>2.49E+02</td>\n",
              "    </tr>\n",
              "    <tr>\n",
              "      <th>14</th>\n",
              "      <td>1500</td>\n",
              "      <td>8.87E-01</td>\n",
              "      <td>1.19E+00</td>\n",
              "      <td>4.66E-05</td>\n",
              "      <td>2.68E+02</td>\n",
              "    </tr>\n",
              "    <tr>\n",
              "      <th>15</th>\n",
              "      <td>1600</td>\n",
              "      <td>8.57E-01</td>\n",
              "      <td>1.20E+00</td>\n",
              "      <td>4.25E-05</td>\n",
              "      <td>2.88E+02</td>\n",
              "    </tr>\n",
              "    <tr>\n",
              "      <th>16</th>\n",
              "      <td>1700</td>\n",
              "      <td>8.28E-01</td>\n",
              "      <td>1.21E+00</td>\n",
              "      <td>3.89E-05</td>\n",
              "      <td>3.08E+02</td>\n",
              "    </tr>\n",
              "    <tr>\n",
              "      <th>17</th>\n",
              "      <td>1800</td>\n",
              "      <td>8.02E-01</td>\n",
              "      <td>1.22E+00</td>\n",
              "      <td>3.58E-05</td>\n",
              "      <td>3.27E+02</td>\n",
              "    </tr>\n",
              "    <tr>\n",
              "      <th>18</th>\n",
              "      <td>1900</td>\n",
              "      <td>7.78E-01</td>\n",
              "      <td>1.23E+00</td>\n",
              "      <td>3.31E-05</td>\n",
              "      <td>3.47E+02</td>\n",
              "    </tr>\n",
              "    <tr>\n",
              "      <th>19</th>\n",
              "      <td>2000</td>\n",
              "      <td>7.55E-01</td>\n",
              "      <td>1.24E+00</td>\n",
              "      <td>3.07E-05</td>\n",
              "      <td>3.67E+02</td>\n",
              "    </tr>\n",
              "    <tr>\n",
              "      <th>20</th>\n",
              "      <td>2100</td>\n",
              "      <td>7.34E-01</td>\n",
              "      <td>1.25E+00</td>\n",
              "      <td>2.86E-05</td>\n",
              "      <td>3.88E+02</td>\n",
              "    </tr>\n",
              "    <tr>\n",
              "      <th>21</th>\n",
              "      <td>2200</td>\n",
              "      <td>7.14E-01</td>\n",
              "      <td>1.26E+00</td>\n",
              "      <td>2.68E-05</td>\n",
              "      <td>4.08E+02</td>\n",
              "    </tr>\n",
              "    <tr>\n",
              "      <th>22</th>\n",
              "      <td>2300</td>\n",
              "      <td>6.96E-01</td>\n",
              "      <td>1.27E+00</td>\n",
              "      <td>2.51E-05</td>\n",
              "      <td>4.28E+02</td>\n",
              "    </tr>\n",
              "    <tr>\n",
              "      <th>23</th>\n",
              "      <td>2400</td>\n",
              "      <td>6.79E-01</td>\n",
              "      <td>1.28E+00</td>\n",
              "      <td>2.36E-05</td>\n",
              "      <td>4.49E+02</td>\n",
              "    </tr>\n",
              "    <tr>\n",
              "      <th>24</th>\n",
              "      <td>2500</td>\n",
              "      <td>6.62E-01</td>\n",
              "      <td>1.29E+00</td>\n",
              "      <td>2.22E-05</td>\n",
              "      <td>4.69E+02</td>\n",
              "    </tr>\n",
              "    <tr>\n",
              "      <th>25</th>\n",
              "      <td>2600</td>\n",
              "      <td>6.47E-01</td>\n",
              "      <td>1.30E+00</td>\n",
              "      <td>2.10E-05</td>\n",
              "      <td>4.90E+02</td>\n",
              "    </tr>\n",
              "    <tr>\n",
              "      <th>26</th>\n",
              "      <td>2700</td>\n",
              "      <td>6.42E-01</td>\n",
              "      <td>1.33E+00</td>\n",
              "      <td>1.59E-05</td>\n",
              "      <td>5.00E+02</td>\n",
              "    </tr>\n",
              "    <tr>\n",
              "      <th>27</th>\n",
              "      <td>2800</td>\n",
              "      <td>6.48E-01</td>\n",
              "      <td>1.33E+00</td>\n",
              "      <td>1.53E-05</td>\n",
              "      <td>5.00E+02</td>\n",
              "    </tr>\n",
              "    <tr>\n",
              "      <th>28</th>\n",
              "      <td>2900</td>\n",
              "      <td>6.54E-01</td>\n",
              "      <td>1.33E+00</td>\n",
              "      <td>1.48E-05</td>\n",
              "      <td>5.00E+02</td>\n",
              "    </tr>\n",
              "    <tr>\n",
              "      <th>29</th>\n",
              "      <td>3000</td>\n",
              "      <td>6.61E-01</td>\n",
              "      <td>1.33E+00</td>\n",
              "      <td>1.43E-05</td>\n",
              "      <td>5.00E+02</td>\n",
              "    </tr>\n",
              "    <tr>\n",
              "      <th>30</th>\n",
              "      <td>3100</td>\n",
              "      <td>6.67E-01</td>\n",
              "      <td>1.33E+00</td>\n",
              "      <td>1.38E-05</td>\n",
              "      <td>5.00E+02</td>\n",
              "    </tr>\n",
              "    <tr>\n",
              "      <th>31</th>\n",
              "      <td>3200</td>\n",
              "      <td>6.74E-01</td>\n",
              "      <td>1.33E+00</td>\n",
              "      <td>1.34E-05</td>\n",
              "      <td>5.00E+02</td>\n",
              "    </tr>\n",
              "    <tr>\n",
              "      <th>32</th>\n",
              "      <td>3300</td>\n",
              "      <td>6.81E-01</td>\n",
              "      <td>1.32E+00</td>\n",
              "      <td>1.30E-05</td>\n",
              "      <td>5.00E+02</td>\n",
              "    </tr>\n",
              "    <tr>\n",
              "      <th>33</th>\n",
              "      <td>3400</td>\n",
              "      <td>6.89E-01</td>\n",
              "      <td>1.32E+00</td>\n",
              "      <td>1.26E-05</td>\n",
              "      <td>5.00E+02</td>\n",
              "    </tr>\n",
              "    <tr>\n",
              "      <th>34</th>\n",
              "      <td>3500</td>\n",
              "      <td>6.96E-01</td>\n",
              "      <td>1.32E+00</td>\n",
              "      <td>1.22E-05</td>\n",
              "      <td>5.00E+02</td>\n",
              "    </tr>\n",
              "    <tr>\n",
              "      <th>35</th>\n",
              "      <td>3600</td>\n",
              "      <td>7.04E-01</td>\n",
              "      <td>1.32E+00</td>\n",
              "      <td>1.19E-05</td>\n",
              "      <td>5.00E+02</td>\n",
              "    </tr>\n",
              "    <tr>\n",
              "      <th>36</th>\n",
              "      <td>3700</td>\n",
              "      <td>7.11E-01</td>\n",
              "      <td>1.32E+00</td>\n",
              "      <td>1.16E-05</td>\n",
              "      <td>5.00E+02</td>\n",
              "    </tr>\n",
              "    <tr>\n",
              "      <th>37</th>\n",
              "      <td>3800</td>\n",
              "      <td>7.20E-01</td>\n",
              "      <td>1.32E+00</td>\n",
              "      <td>1.13E-05</td>\n",
              "      <td>5.00E+02</td>\n",
              "    </tr>\n",
              "    <tr>\n",
              "      <th>38</th>\n",
              "      <td>3900</td>\n",
              "      <td>7.28E-01</td>\n",
              "      <td>1.32E+00</td>\n",
              "      <td>1.10E-05</td>\n",
              "      <td>5.00E+02</td>\n",
              "    </tr>\n",
              "    <tr>\n",
              "      <th>39</th>\n",
              "      <td>4000</td>\n",
              "      <td>7.36E-01</td>\n",
              "      <td>1.32E+00</td>\n",
              "      <td>1.07E-05</td>\n",
              "      <td>5.00E+02</td>\n",
              "    </tr>\n",
              "    <tr>\n",
              "      <th>40</th>\n",
              "      <td>4100</td>\n",
              "      <td>7.45E-01</td>\n",
              "      <td>1.32E+00</td>\n",
              "      <td>1.05E-05</td>\n",
              "      <td>5.00E+02</td>\n",
              "    </tr>\n",
              "    <tr>\n",
              "      <th>41</th>\n",
              "      <td>4200</td>\n",
              "      <td>7.53E-01</td>\n",
              "      <td>1.31E+00</td>\n",
              "      <td>1.02E-05</td>\n",
              "      <td>5.00E+02</td>\n",
              "    </tr>\n",
              "    <tr>\n",
              "      <th>42</th>\n",
              "      <td>4300</td>\n",
              "      <td>7.62E-01</td>\n",
              "      <td>1.31E+00</td>\n",
              "      <td>9.97E-06</td>\n",
              "      <td>5.00E+02</td>\n",
              "    </tr>\n",
              "    <tr>\n",
              "      <th>43</th>\n",
              "      <td>4400</td>\n",
              "      <td>7.71E-01</td>\n",
              "      <td>1.31E+00</td>\n",
              "      <td>9.74E-06</td>\n",
              "      <td>5.00E+02</td>\n",
              "    </tr>\n",
              "    <tr>\n",
              "      <th>44</th>\n",
              "      <td>4500</td>\n",
              "      <td>7.80E-01</td>\n",
              "      <td>1.31E+00</td>\n",
              "      <td>9.52E-06</td>\n",
              "      <td>5.00E+02</td>\n",
              "    </tr>\n",
              "    <tr>\n",
              "      <th>45</th>\n",
              "      <td>4600</td>\n",
              "      <td>7.90E-01</td>\n",
              "      <td>1.31E+00</td>\n",
              "      <td>9.32E-06</td>\n",
              "      <td>5.00E+02</td>\n",
              "    </tr>\n",
              "    <tr>\n",
              "      <th>46</th>\n",
              "      <td>4700</td>\n",
              "      <td>7.99E-01</td>\n",
              "      <td>1.31E+00</td>\n",
              "      <td>9.12E-06</td>\n",
              "      <td>5.00E+02</td>\n",
              "    </tr>\n",
              "    <tr>\n",
              "      <th>47</th>\n",
              "      <td>4800</td>\n",
              "      <td>8.09E-01</td>\n",
              "      <td>1.31E+00</td>\n",
              "      <td>8.93E-06</td>\n",
              "      <td>5.00E+02</td>\n",
              "    </tr>\n",
              "    <tr>\n",
              "      <th>48</th>\n",
              "      <td>4900</td>\n",
              "      <td>8.18E-01</td>\n",
              "      <td>1.31E+00</td>\n",
              "      <td>8.75E-06</td>\n",
              "      <td>5.00E+02</td>\n",
              "    </tr>\n",
              "    <tr>\n",
              "      <th>49</th>\n",
              "      <td>5000</td>\n",
              "      <td>8.28E-01</td>\n",
              "      <td>1.31E+00</td>\n",
              "      <td>8.57E-06</td>\n",
              "      <td>5.00E+02</td>\n",
              "    </tr>\n",
              "  </tbody>\n",
              "</table>\n",
              "</div>"
            ],
            "text/plain": [
              "    pressure(psia)  ...  Gas-oil ratio(scf/STB)\n",
              "0              100  ...                1.39E+01\n",
              "1              200  ...                2.96E+01\n",
              "2              300  ...                4.61E+01\n",
              "3              400  ...                6.32E+01\n",
              "4              500  ...                8.07E+01\n",
              "5              600  ...                9.85E+01\n",
              "6              700  ...                1.17E+02\n",
              "7              800  ...                1.35E+02\n",
              "8              900  ...                1.53E+02\n",
              "9             1000  ...                1.72E+02\n",
              "10            1100  ...                1.91E+02\n",
              "11            1200  ...                2.10E+02\n",
              "12            1300  ...                2.29E+02\n",
              "13            1400  ...                2.49E+02\n",
              "14            1500  ...                2.68E+02\n",
              "15            1600  ...                2.88E+02\n",
              "16            1700  ...                3.08E+02\n",
              "17            1800  ...                3.27E+02\n",
              "18            1900  ...                3.47E+02\n",
              "19            2000  ...                3.67E+02\n",
              "20            2100  ...                3.88E+02\n",
              "21            2200  ...                4.08E+02\n",
              "22            2300  ...                4.28E+02\n",
              "23            2400  ...                4.49E+02\n",
              "24            2500  ...                4.69E+02\n",
              "25            2600  ...                4.90E+02\n",
              "26            2700  ...                5.00E+02\n",
              "27            2800  ...                5.00E+02\n",
              "28            2900  ...                5.00E+02\n",
              "29            3000  ...                5.00E+02\n",
              "30            3100  ...                5.00E+02\n",
              "31            3200  ...                5.00E+02\n",
              "32            3300  ...                5.00E+02\n",
              "33            3400  ...                5.00E+02\n",
              "34            3500  ...                5.00E+02\n",
              "35            3600  ...                5.00E+02\n",
              "36            3700  ...                5.00E+02\n",
              "37            3800  ...                5.00E+02\n",
              "38            3900  ...                5.00E+02\n",
              "39            4000  ...                5.00E+02\n",
              "40            4100  ...                5.00E+02\n",
              "41            4200  ...                5.00E+02\n",
              "42            4300  ...                5.00E+02\n",
              "43            4400  ...                5.00E+02\n",
              "44            4500  ...                5.00E+02\n",
              "45            4600  ...                5.00E+02\n",
              "46            4700  ...                5.00E+02\n",
              "47            4800  ...                5.00E+02\n",
              "48            4900  ...                5.00E+02\n",
              "49            5000  ...                5.00E+02\n",
              "\n",
              "[50 rows x 5 columns]"
            ]
          },
          "metadata": {
            "tags": []
          },
          "execution_count": 21
        }
      ]
    },
    {
      "cell_type": "code",
      "metadata": {
        "id": "YJF0GIQALBAj",
        "colab_type": "code",
        "outputId": "6093db92-1c2a-4a67-84da-4a9883bbea2a",
        "colab": {
          "base_uri": "https://localhost:8080/",
          "height": 641
        }
      },
      "source": [
        "\"Plotting Result\"\n",
        "\n",
        "fig, ax = plt.subplots(2, 2, figsize=(15,10))\n",
        "\n",
        "ax[0, 0].plot(props[['pressure(psia)']], props[['compressibility(psi^-1)']], 'r') #row=0, col=0\n",
        "ax[0, 0].set_title('Oil Compressibility', size = 15)\n",
        "ax[0, 0].set_xlabel(\"Pressure (psia)\")\n",
        "ax[0, 0].set_ylabel(\"Compressibility (psi^-1)\")\n",
        "ax[1, 0].plot(props[['pressure(psia)']], props[['Gas-oil ratio(scf/STB)']], 'b') #row=1, col=0\n",
        "ax[1, 0].set_title('Gas-oil Ratio', size = 15)\n",
        "ax[1, 0].set_xlabel(\"Pressure (psia)\")\n",
        "ax[1, 0].set_ylabel(\"Gas-oil ratio (scf/STB)\")\n",
        "ax[0, 1].plot(props[['pressure(psia)']], props[['formation-volume-factor(RB/STB)']], 'g') #row=0, col=1\n",
        "ax[0, 1].set_title('Formation Volume Factor', size = 15)\n",
        "ax[0, 1].set_xlabel(\"Pressure (psia)\")\n",
        "ax[0, 1].set_ylabel(\"Formation Volume Factor (RB/STB)\")\n",
        "ax[1, 1].plot(props[['pressure(psia)']], props[['viscosity (cP)']], 'k') #row=1, col=1\n",
        "ax[1, 1].set_title('Viscosity', size = 15)\n",
        "ax[1, 1].set_xlabel(\"Pressure (psia)\")\n",
        "ax[1, 1].set_ylabel(\"Viscosity (cP)\")"
      ],
      "execution_count": 0,
      "outputs": [
        {
          "output_type": "execute_result",
          "data": {
            "text/plain": [
              "Text(0, 0.5, 'Viscosity (cP)')"
            ]
          },
          "metadata": {
            "tags": []
          },
          "execution_count": 22
        },
        {
          "output_type": "display_data",
          "data": {
            "image/png": "[encoded data removed]",
            "text/plain": [
              "<Figure size 1080x720 with 4 Axes>"
            ]
          },
          "metadata": {
            "tags": []
          }
        }
      ]
    },
    {
      "cell_type": "markdown",
      "metadata": {
        "id": "-tblGcWeZa7q",
        "colab_type": "text"
      },
      "source": [
        "# Example 2.8 Oil PVT Analysis\n",
        "\n",
        "Data is given in csv format, Table 2.10 (measurement data from DL test) and Table 2.11 (from CCE test). Another is given, Table 2.12 (from Separator Flash Anaysis), as figure see below. \n",
        "\n",
        "***Fig 2.16 PVT analysis graph***\n",
        "<div>\n",
        "<img src=\"https://user-images.githubusercontent.com/51282928/74302584-9a220300-4d89-11ea-9f80-b23f3a92407b.jpg\" width=\"500\"/>\n",
        "</div>\n",
        "\n",
        "<div>\n",
        "<img src=\"https://user-images.githubusercontent.com/51282928/74302125-ec622480-4d87-11ea-8468-b185c6b106c4.jpg\" width=\"500\"/>\n",
        "</div>\n",
        "\n",
        "From **Fig 2.16** we can see that **bubblepoint pressure** (`P_bubble`) is 2620 psi because at that point, gas-oil ratio (`Rs`) reaches maximum and constant. The **bubblepoint FVF** (`Bofb`) is determined from Separator Flash Analysis in Table 2.12. `Bofb` is **1474 RB/STB**, as the smallest value (oil shrinks the least). The **bubblepoint gas-oil ratio** (`Rsfb`) is **768 scf/STB**. \n"
      ]
    },
    {
      "cell_type": "code",
      "metadata": {
        "id": "-SHI1DMtocr2",
        "colab_type": "code",
        "colab": {}
      },
      "source": [
        "P_bubble2 = 2620\n",
        "Bofb = 1474\n",
        "Rsfb = 768"
      ],
      "execution_count": 0,
      "outputs": []
    },
    {
      "cell_type": "code",
      "metadata": {
        "id": "rBbzmLSOaI5c",
        "colab_type": "code",
        "colab": {}
      },
      "source": [
        "# load and convert csv to dataframe\n",
        "\n",
        "DL_test = pd.read_csv('/content/reservoir-engineering/Unit 2 Review of Rock and Fluid Properties/data/Table 2.10-PVT Data from DL Test for Example 2.8.csv')\n",
        "DL_test = DL_test.set_axis(['pressure', 'Rsd', 'Bod', 'Btd', 'rhooil', 'z', 'NAN'], axis=1, inplace=False) # rename columns\n",
        "CCE_test = pd.read_csv('/content/reservoir-engineering/Unit 2 Review of Rock and Fluid Properties/data/Table 2.11-PVT Data from CCS Test for Example 2.8.csv')\n",
        "CCE_test = CCE_test.set_axis(['pressure', 'Vr'], axis=1, inplace=False)"
      ],
      "execution_count": 0,
      "outputs": []
    },
    {
      "cell_type": "code",
      "metadata": {
        "id": "LRHLAZXyjyNh",
        "colab_type": "code",
        "outputId": "914091d7-dfd6-4531-835c-4a14728bcf68",
        "colab": {
          "base_uri": "https://localhost:8080/",
          "height": 195
        }
      },
      "source": [
        "DL_test.head() # Table 2.10, measurement data from DL test"
      ],
      "execution_count": 0,
      "outputs": [
        {
          "output_type": "execute_result",
          "data": {
            "text/html": [
              "<div>\n",
              "<style scoped>\n",
              "    .dataframe tbody tr th:only-of-type {\n",
              "        vertical-align: middle;\n",
              "    }\n",
              "\n",
              "    .dataframe tbody tr th {\n",
              "        vertical-align: top;\n",
              "    }\n",
              "\n",
              "    .dataframe thead th {\n",
              "        text-align: right;\n",
              "    }\n",
              "</style>\n",
              "<table border=\"1\" class=\"dataframe\">\n",
              "  <thead>\n",
              "    <tr style=\"text-align: right;\">\n",
              "      <th></th>\n",
              "      <th>pressure</th>\n",
              "      <th>Rsd</th>\n",
              "      <th>Bod</th>\n",
              "      <th>Btd</th>\n",
              "      <th>rhooil</th>\n",
              "      <th>z</th>\n",
              "      <th>NAN</th>\n",
              "    </tr>\n",
              "  </thead>\n",
              "  <tbody>\n",
              "    <tr>\n",
              "      <th>0</th>\n",
              "      <td>2.62E+03</td>\n",
              "      <td>8.54E+02</td>\n",
              "      <td>1.600</td>\n",
              "      <td>1.60E+00</td>\n",
              "      <td>6.56E-01</td>\n",
              "      <td>8.40E-01</td>\n",
              "      <td>NAN</td>\n",
              "    </tr>\n",
              "    <tr>\n",
              "      <th>1</th>\n",
              "      <td>2.35E+03</td>\n",
              "      <td>7.63E+02</td>\n",
              "      <td>1.554</td>\n",
              "      <td>1.67E+00</td>\n",
              "      <td>6.65E-01</td>\n",
              "      <td>8.45E-01</td>\n",
              "      <td>NAN</td>\n",
              "    </tr>\n",
              "    <tr>\n",
              "      <th>2</th>\n",
              "      <td>2.10E+03</td>\n",
              "      <td>6.85E+02</td>\n",
              "      <td>1.515</td>\n",
              "      <td>1.75E+00</td>\n",
              "      <td>6.73E-01</td>\n",
              "      <td>8.51E-01</td>\n",
              "      <td>NAN</td>\n",
              "    </tr>\n",
              "    <tr>\n",
              "      <th>3</th>\n",
              "      <td>1.85E+03</td>\n",
              "      <td>6.12E+02</td>\n",
              "      <td>1.478</td>\n",
              "      <td>1.86E+00</td>\n",
              "      <td>6.81E-01</td>\n",
              "      <td>8.60E-01</td>\n",
              "      <td>NAN</td>\n",
              "    </tr>\n",
              "    <tr>\n",
              "      <th>4</th>\n",
              "      <td>1.60E+03</td>\n",
              "      <td>5.43E+02</td>\n",
              "      <td>1.444</td>\n",
              "      <td>2.02E+00</td>\n",
              "      <td>6.89E-01</td>\n",
              "      <td>8.72E-01</td>\n",
              "      <td>NAN</td>\n",
              "    </tr>\n",
              "  </tbody>\n",
              "</table>\n",
              "</div>"
            ],
            "text/plain": [
              "   pressure      Rsd    Bod      Btd   rhooil        z  NAN\n",
              "0  2.62E+03 8.54E+02  1.600 1.60E+00 6.56E-01 8.40E-01  NAN\n",
              "1  2.35E+03 7.63E+02  1.554 1.67E+00 6.65E-01 8.45E-01  NAN\n",
              "2  2.10E+03 6.85E+02  1.515 1.75E+00 6.73E-01 8.51E-01  NAN\n",
              "3  1.85E+03 6.12E+02  1.478 1.86E+00 6.81E-01 8.60E-01  NAN\n",
              "4  1.60E+03 5.43E+02  1.444 2.02E+00 6.89E-01 8.72E-01  NAN"
            ]
          },
          "metadata": {
            "tags": []
          },
          "execution_count": 73
        }
      ]
    },
    {
      "cell_type": "code",
      "metadata": {
        "id": "Q8lKnUjxbdgm",
        "colab_type": "code",
        "outputId": "3f090510-562c-4507-8a34-753969da8e4c",
        "colab": {
          "base_uri": "https://localhost:8080/",
          "height": 195
        }
      },
      "source": [
        "CCE_test.head() # Table 2.11, measurement data from CCE test"
      ],
      "execution_count": 0,
      "outputs": [
        {
          "output_type": "execute_result",
          "data": {
            "text/html": [
              "<div>\n",
              "<style scoped>\n",
              "    .dataframe tbody tr th:only-of-type {\n",
              "        vertical-align: middle;\n",
              "    }\n",
              "\n",
              "    .dataframe tbody tr th {\n",
              "        vertical-align: top;\n",
              "    }\n",
              "\n",
              "    .dataframe thead th {\n",
              "        text-align: right;\n",
              "    }\n",
              "</style>\n",
              "<table border=\"1\" class=\"dataframe\">\n",
              "  <thead>\n",
              "    <tr style=\"text-align: right;\">\n",
              "      <th></th>\n",
              "      <th>pressure</th>\n",
              "      <th>Vr</th>\n",
              "    </tr>\n",
              "  </thead>\n",
              "  <tbody>\n",
              "    <tr>\n",
              "      <th>0</th>\n",
              "      <td>5000</td>\n",
              "      <td>9.64E-01</td>\n",
              "    </tr>\n",
              "    <tr>\n",
              "      <th>1</th>\n",
              "      <td>4500</td>\n",
              "      <td>9.70E-01</td>\n",
              "    </tr>\n",
              "    <tr>\n",
              "      <th>2</th>\n",
              "      <td>4100</td>\n",
              "      <td>9.76E-01</td>\n",
              "    </tr>\n",
              "    <tr>\n",
              "      <th>3</th>\n",
              "      <td>4000</td>\n",
              "      <td>9.77E-01</td>\n",
              "    </tr>\n",
              "    <tr>\n",
              "      <th>4</th>\n",
              "      <td>3500</td>\n",
              "      <td>9.85E-01</td>\n",
              "    </tr>\n",
              "  </tbody>\n",
              "</table>\n",
              "</div>"
            ],
            "text/plain": [
              "   pressure       Vr\n",
              "0      5000 9.64E-01\n",
              "1      4500 9.70E-01\n",
              "2      4100 9.76E-01\n",
              "3      4000 9.77E-01\n",
              "4      3500 9.85E-01"
            ]
          },
          "metadata": {
            "tags": []
          },
          "execution_count": 74
        }
      ]
    },
    {
      "cell_type": "code",
      "metadata": {
        "id": "hzbAxm1upsPC",
        "colab_type": "code",
        "outputId": "5f49e022-d485-4a86-a199-c2c79ea2c985",
        "colab": {
          "base_uri": "https://localhost:8080/",
          "height": 561
        }
      },
      "source": [
        "# Question 1. calculate oil FVF (Bo)\n",
        "\n",
        "pressure3 = CCE_test.pressure\n",
        "Vr = CCE_test.Vr\n",
        "Pbubble = CCE_test.loc[CCE_test['pressure'] == P_bubble2]\n",
        "Pbubble = np.array(Pbubble.pressure)\n",
        "\n",
        "# Bo_array = []\n",
        "coil_array = []\n",
        "\n",
        "for i in range(len(pressure3)):\n",
        "  # if pressure3[i] >= P_bubble2:\n",
        "\n",
        "  #calculate Rs\n",
        "  Bo = Vr[i] * Bofb\n",
        "  Rs = Rsfb \n",
        "\n",
        "  # coil = -(1/Bo) * ((Bo-Boi)/(pressure3[i]-Pi))\n",
        "  # define Pi\n",
        "  # Pi = CCE_test['pressure'].shift(1)[CCE_test['pressure'] == pressure3[i]].values[0]\n",
        "  Pi = pressure3[i + 1]\n",
        "  # Vri = CCE_test.loc[CCE_test['pressure'] == Pi]\n",
        "  # Vri = np.array(Vri.Vr)\n",
        "  Vri = Vr[i+1]\n",
        "\n",
        "  # define Boi\n",
        "  Boi = Vri * Bofb  \n",
        "\n",
        "  # calculate coil\n",
        "  coil = -(1/Bo) * ((Bo - Boi) / (pressure3[i] - Pi))\n",
        "  coil = np.array(coil)\n",
        "  coil_array.append(float(coil))\n",
        "coil_array"
      ],
      "execution_count": 149,
      "outputs": [
        {
          "output_type": "error",
          "ename": "KeyError",
          "evalue": "ignored",
          "traceback": [
            "\u001b[0;31m---------------------------------------------------------------------------\u001b[0m",
            "\u001b[0;31mKeyError\u001b[0m                                  Traceback (most recent call last)",
            "\u001b[0;32m<ipython-input-149-991d07cd5ff4>\u001b[0m in \u001b[0;36m<module>\u001b[0;34m()\u001b[0m\n\u001b[1;32m     18\u001b[0m   \u001b[0;31m# define Pi\u001b[0m\u001b[0;34m\u001b[0m\u001b[0;34m\u001b[0m\u001b[0;34m\u001b[0m\u001b[0m\n\u001b[1;32m     19\u001b[0m   \u001b[0;31m# Pi = CCE_test['pressure'].shift(1)[CCE_test['pressure'] == pressure3[i]].values[0]\u001b[0m\u001b[0;34m\u001b[0m\u001b[0;34m\u001b[0m\u001b[0;34m\u001b[0m\u001b[0m\n\u001b[0;32m---> 20\u001b[0;31m   \u001b[0mPi\u001b[0m \u001b[0;34m=\u001b[0m \u001b[0mpressure3\u001b[0m\u001b[0;34m[\u001b[0m\u001b[0mi\u001b[0m \u001b[0;34m+\u001b[0m \u001b[0;36m1\u001b[0m\u001b[0;34m]\u001b[0m\u001b[0;34m\u001b[0m\u001b[0;34m\u001b[0m\u001b[0m\n\u001b[0m\u001b[1;32m     21\u001b[0m   \u001b[0;31m# Vri = CCE_test.loc[CCE_test['pressure'] == Pi]\u001b[0m\u001b[0;34m\u001b[0m\u001b[0;34m\u001b[0m\u001b[0;34m\u001b[0m\u001b[0m\n\u001b[1;32m     22\u001b[0m   \u001b[0;31m# Vri = np.array(Vri.Vr)\u001b[0m\u001b[0;34m\u001b[0m\u001b[0;34m\u001b[0m\u001b[0;34m\u001b[0m\u001b[0m\n",
            "\u001b[0;32m/usr/local/lib/python3.6/dist-packages/pandas/core/series.py\u001b[0m in \u001b[0;36m__getitem__\u001b[0;34m(self, key)\u001b[0m\n\u001b[1;32m   1069\u001b[0m         \u001b[0mkey\u001b[0m \u001b[0;34m=\u001b[0m \u001b[0mcom\u001b[0m\u001b[0;34m.\u001b[0m\u001b[0mapply_if_callable\u001b[0m\u001b[0;34m(\u001b[0m\u001b[0mkey\u001b[0m\u001b[0;34m,\u001b[0m \u001b[0mself\u001b[0m\u001b[0;34m)\u001b[0m\u001b[0;34m\u001b[0m\u001b[0;34m\u001b[0m\u001b[0m\n\u001b[1;32m   1070\u001b[0m         \u001b[0;32mtry\u001b[0m\u001b[0;34m:\u001b[0m\u001b[0;34m\u001b[0m\u001b[0;34m\u001b[0m\u001b[0m\n\u001b[0;32m-> 1071\u001b[0;31m             \u001b[0mresult\u001b[0m \u001b[0;34m=\u001b[0m \u001b[0mself\u001b[0m\u001b[0;34m.\u001b[0m\u001b[0mindex\u001b[0m\u001b[0;34m.\u001b[0m\u001b[0mget_value\u001b[0m\u001b[0;34m(\u001b[0m\u001b[0mself\u001b[0m\u001b[0;34m,\u001b[0m \u001b[0mkey\u001b[0m\u001b[0;34m)\u001b[0m\u001b[0;34m\u001b[0m\u001b[0;34m\u001b[0m\u001b[0m\n\u001b[0m\u001b[1;32m   1072\u001b[0m \u001b[0;34m\u001b[0m\u001b[0m\n\u001b[1;32m   1073\u001b[0m             \u001b[0;32mif\u001b[0m \u001b[0;32mnot\u001b[0m \u001b[0mis_scalar\u001b[0m\u001b[0;34m(\u001b[0m\u001b[0mresult\u001b[0m\u001b[0;34m)\u001b[0m\u001b[0;34m:\u001b[0m\u001b[0;34m\u001b[0m\u001b[0;34m\u001b[0m\u001b[0m\n",
            "\u001b[0;32m/usr/local/lib/python3.6/dist-packages/pandas/core/indexes/base.py\u001b[0m in \u001b[0;36mget_value\u001b[0;34m(self, series, key)\u001b[0m\n\u001b[1;32m   4728\u001b[0m         \u001b[0mk\u001b[0m \u001b[0;34m=\u001b[0m \u001b[0mself\u001b[0m\u001b[0;34m.\u001b[0m\u001b[0m_convert_scalar_indexer\u001b[0m\u001b[0;34m(\u001b[0m\u001b[0mk\u001b[0m\u001b[0;34m,\u001b[0m \u001b[0mkind\u001b[0m\u001b[0;34m=\u001b[0m\u001b[0;34m\"getitem\"\u001b[0m\u001b[0;34m)\u001b[0m\u001b[0;34m\u001b[0m\u001b[0;34m\u001b[0m\u001b[0m\n\u001b[1;32m   4729\u001b[0m         \u001b[0;32mtry\u001b[0m\u001b[0;34m:\u001b[0m\u001b[0;34m\u001b[0m\u001b[0;34m\u001b[0m\u001b[0m\n\u001b[0;32m-> 4730\u001b[0;31m             \u001b[0;32mreturn\u001b[0m \u001b[0mself\u001b[0m\u001b[0;34m.\u001b[0m\u001b[0m_engine\u001b[0m\u001b[0;34m.\u001b[0m\u001b[0mget_value\u001b[0m\u001b[0;34m(\u001b[0m\u001b[0ms\u001b[0m\u001b[0;34m,\u001b[0m \u001b[0mk\u001b[0m\u001b[0;34m,\u001b[0m \u001b[0mtz\u001b[0m\u001b[0;34m=\u001b[0m\u001b[0mgetattr\u001b[0m\u001b[0;34m(\u001b[0m\u001b[0mseries\u001b[0m\u001b[0;34m.\u001b[0m\u001b[0mdtype\u001b[0m\u001b[0;34m,\u001b[0m \u001b[0;34m\"tz\"\u001b[0m\u001b[0;34m,\u001b[0m \u001b[0;32mNone\u001b[0m\u001b[0;34m)\u001b[0m\u001b[0;34m)\u001b[0m\u001b[0;34m\u001b[0m\u001b[0;34m\u001b[0m\u001b[0m\n\u001b[0m\u001b[1;32m   4731\u001b[0m         \u001b[0;32mexcept\u001b[0m \u001b[0mKeyError\u001b[0m \u001b[0;32mas\u001b[0m \u001b[0me1\u001b[0m\u001b[0;34m:\u001b[0m\u001b[0;34m\u001b[0m\u001b[0;34m\u001b[0m\u001b[0m\n\u001b[1;32m   4732\u001b[0m             \u001b[0;32mif\u001b[0m \u001b[0mlen\u001b[0m\u001b[0;34m(\u001b[0m\u001b[0mself\u001b[0m\u001b[0;34m)\u001b[0m \u001b[0;34m>\u001b[0m \u001b[0;36m0\u001b[0m \u001b[0;32mand\u001b[0m \u001b[0;34m(\u001b[0m\u001b[0mself\u001b[0m\u001b[0;34m.\u001b[0m\u001b[0mholds_integer\u001b[0m\u001b[0;34m(\u001b[0m\u001b[0;34m)\u001b[0m \u001b[0;32mor\u001b[0m \u001b[0mself\u001b[0m\u001b[0;34m.\u001b[0m\u001b[0mis_boolean\u001b[0m\u001b[0;34m(\u001b[0m\u001b[0;34m)\u001b[0m\u001b[0;34m)\u001b[0m\u001b[0;34m:\u001b[0m\u001b[0;34m\u001b[0m\u001b[0;34m\u001b[0m\u001b[0m\n",
            "\u001b[0;32mpandas/_libs/index.pyx\u001b[0m in \u001b[0;36mpandas._libs.index.IndexEngine.get_value\u001b[0;34m()\u001b[0m\n",
            "\u001b[0;32mpandas/_libs/index.pyx\u001b[0m in \u001b[0;36mpandas._libs.index.IndexEngine.get_value\u001b[0;34m()\u001b[0m\n",
            "\u001b[0;32mpandas/_libs/index.pyx\u001b[0m in \u001b[0;36mpandas._libs.index.IndexEngine.get_loc\u001b[0;34m()\u001b[0m\n",
            "\u001b[0;32mpandas/_libs/hashtable_class_helper.pxi\u001b[0m in \u001b[0;36mpandas._libs.hashtable.Int64HashTable.get_item\u001b[0;34m()\u001b[0m\n",
            "\u001b[0;32mpandas/_libs/hashtable_class_helper.pxi\u001b[0m in \u001b[0;36mpandas._libs.hashtable.Int64HashTable.get_item\u001b[0;34m()\u001b[0m\n",
            "\u001b[0;31mKeyError\u001b[0m: 24"
          ]
        }
      ]
    },
    {
      "cell_type": "markdown",
      "metadata": {
        "id": "KsJR-IEWsrH5",
        "colab_type": "text"
      },
      "source": [
        "# ***"
      ]
    },
    {
      "cell_type": "code",
      "metadata": {
        "id": "wDMHxfbprluO",
        "colab_type": "code",
        "outputId": "d6bd115c-040b-4a9f-8617-5a1262916888",
        "colab": {
          "base_uri": "https://localhost:8080/",
          "height": 34
        }
      },
      "source": [
        "\"convert dataframe to numpy\"\n",
        "cce = CCE_test.to_numpy()\n",
        "cce[:, 0]\n",
        "cce[0, :]"
      ],
      "execution_count": 0,
      "outputs": [
        {
          "output_type": "execute_result",
          "data": {
            "text/plain": [
              "array([5.000e+03, 9.639e-01])"
            ]
          },
          "metadata": {
            "tags": []
          },
          "execution_count": 80
        }
      ]
    },
    {
      "cell_type": "code",
      "metadata": {
        "id": "SwrCL96hxuLt",
        "colab_type": "code",
        "colab": {
          "base_uri": "https://localhost:8080/",
          "height": 34
        },
        "outputId": "012bff1c-9c58-4dff-99ac-4366831f0466"
      },
      "source": [
        "\"Print the next line in panda dataframe\"\n",
        "\n",
        "d = {'a':['Question1','Answer1','Question2','Answer2','Question3','Answer3']}\n",
        "df = pd.DataFrame(d)\n",
        "# print(df)\n",
        "# print(df['a'].shift(1)[df['a'] == 'Question2'].values[0]) # shift(-1) means shift 1 row AFTER, shift(1) means shift 1 row BEFORE\n",
        "\n",
        "CCE_test['pressure'].shift(1)[CCE_test['pressure'] == 2700].values[0]"
      ],
      "execution_count": 110,
      "outputs": [
        {
          "output_type": "execute_result",
          "data": {
            "text/plain": [
              "2800.0"
            ]
          },
          "metadata": {
            "tags": []
          },
          "execution_count": 110
        }
      ]
    },
    {
      "cell_type": "code",
      "metadata": {
        "id": "4MwKdJbHsteF",
        "colab_type": "code",
        "outputId": "3bc070bd-9732-4962-8962-2f2d9a338791",
        "colab": {
          "base_uri": "https://localhost:8080/",
          "height": 34
        }
      },
      "source": [
        "a = np.array([1, 2, 3])\n",
        "b = np.array([1, 2, 3])\n",
        "\n",
        "import itertools\n",
        "\n",
        "c_arr = []\n",
        "\n",
        "# for i, j in itertools.product(range(len(a)), range(len(b))):\n",
        "#     c = a[i] + b[j]\n",
        "#     c_arr.append(float(c))\n",
        "# # c_arr\n",
        "\n",
        "[a[i]*b[i] for i in range(len(a))] # elementwise operation"
      ],
      "execution_count": 94,
      "outputs": [
        {
          "output_type": "execute_result",
          "data": {
            "text/plain": [
              "[1, 4, 9]"
            ]
          },
          "metadata": {
            "tags": []
          },
          "execution_count": 94
        }
      ]
    },
    {
      "cell_type": "code",
      "metadata": {
        "id": "XbLSKQM1jBBK",
        "colab_type": "code",
        "outputId": "ba2475f2-baf2-4505-eb65-8647153da04e",
        "colab": {
          "base_uri": "https://localhost:8080/",
          "height": 195
        }
      },
      "source": [
        "df4 = CCE_test.set_axis(['pressure', 'vr'], axis=1, inplace=False)\n",
        "df4.head()"
      ],
      "execution_count": 0,
      "outputs": [
        {
          "output_type": "execute_result",
          "data": {
            "text/html": [
              "<div>\n",
              "<style scoped>\n",
              "    .dataframe tbody tr th:only-of-type {\n",
              "        vertical-align: middle;\n",
              "    }\n",
              "\n",
              "    .dataframe tbody tr th {\n",
              "        vertical-align: top;\n",
              "    }\n",
              "\n",
              "    .dataframe thead th {\n",
              "        text-align: right;\n",
              "    }\n",
              "</style>\n",
              "<table border=\"1\" class=\"dataframe\">\n",
              "  <thead>\n",
              "    <tr style=\"text-align: right;\">\n",
              "      <th></th>\n",
              "      <th>pressure</th>\n",
              "      <th>vr</th>\n",
              "    </tr>\n",
              "  </thead>\n",
              "  <tbody>\n",
              "    <tr>\n",
              "      <th>0</th>\n",
              "      <td>5000</td>\n",
              "      <td>9.64E-01</td>\n",
              "    </tr>\n",
              "    <tr>\n",
              "      <th>1</th>\n",
              "      <td>4500</td>\n",
              "      <td>9.70E-01</td>\n",
              "    </tr>\n",
              "    <tr>\n",
              "      <th>2</th>\n",
              "      <td>4100</td>\n",
              "      <td>9.76E-01</td>\n",
              "    </tr>\n",
              "    <tr>\n",
              "      <th>3</th>\n",
              "      <td>4000</td>\n",
              "      <td>9.77E-01</td>\n",
              "    </tr>\n",
              "    <tr>\n",
              "      <th>4</th>\n",
              "      <td>3500</td>\n",
              "      <td>9.85E-01</td>\n",
              "    </tr>\n",
              "  </tbody>\n",
              "</table>\n",
              "</div>"
            ],
            "text/plain": [
              "   pressure       vr\n",
              "0      5000 9.64E-01\n",
              "1      4500 9.70E-01\n",
              "2      4100 9.76E-01\n",
              "3      4000 9.77E-01\n",
              "4      3500 9.85E-01"
            ]
          },
          "metadata": {
            "tags": []
          },
          "execution_count": 81
        }
      ]
    },
    {
      "cell_type": "code",
      "metadata": {
        "id": "DqYWG_25hkvl",
        "colab_type": "code",
        "outputId": "d29558e2-1215-46a5-93e0-49a8f48191ef",
        "colab": {
          "base_uri": "https://localhost:8080/",
          "height": 77
        }
      },
      "source": [
        "df = CCE_test.loc[CCE_test['Pressure (psig)'] == 4000]\n",
        "df"
      ],
      "execution_count": 0,
      "outputs": [
        {
          "output_type": "execute_result",
          "data": {
            "text/html": [
              "<div>\n",
              "<style scoped>\n",
              "    .dataframe tbody tr th:only-of-type {\n",
              "        vertical-align: middle;\n",
              "    }\n",
              "\n",
              "    .dataframe tbody tr th {\n",
              "        vertical-align: top;\n",
              "    }\n",
              "\n",
              "    .dataframe thead th {\n",
              "        text-align: right;\n",
              "    }\n",
              "</style>\n",
              "<table border=\"1\" class=\"dataframe\">\n",
              "  <thead>\n",
              "    <tr style=\"text-align: right;\">\n",
              "      <th></th>\n",
              "      <th>Pressure (psig)</th>\n",
              "      <th>Vr</th>\n",
              "    </tr>\n",
              "  </thead>\n",
              "  <tbody>\n",
              "    <tr>\n",
              "      <th>3</th>\n",
              "      <td>4000</td>\n",
              "      <td>9.77E-01</td>\n",
              "    </tr>\n",
              "  </tbody>\n",
              "</table>\n",
              "</div>"
            ],
            "text/plain": [
              "   Pressure (psig)       Vr\n",
              "3             4000 9.77E-01"
            ]
          },
          "metadata": {
            "tags": []
          },
          "execution_count": 59
        }
      ]
    },
    {
      "cell_type": "code",
      "metadata": {
        "id": "L7Jtr-kNikLs",
        "colab_type": "code",
        "outputId": "a8f94b44-71cd-4a6e-9119-64d6431123c9",
        "colab": {
          "base_uri": "https://localhost:8080/",
          "height": 34
        }
      },
      "source": [
        "df2 = df.Vr * 10\n",
        "df3 = np.array(df2)\n",
        "df3"
      ],
      "execution_count": 0,
      "outputs": [
        {
          "output_type": "execute_result",
          "data": {
            "text/plain": [
              "array([9.77])"
            ]
          },
          "metadata": {
            "tags": []
          },
          "execution_count": 62
        }
      ]
    },
    {
      "cell_type": "markdown",
      "metadata": {
        "id": "DC6yJbm-bckj",
        "colab_type": "text"
      },
      "source": [
        "# Dranchuk and Abou-Kassem EOS for Z Factor Calculation"
      ]
    },
    {
      "cell_type": "code",
      "metadata": {
        "id": "6umLI0vtipMV",
        "colab_type": "code",
        "outputId": "71b75081-e09e-45ed-b794-4ba6c989bc1b",
        "colab": {
          "base_uri": "https://localhost:8080/",
          "height": 52
        }
      },
      "source": [
        "# T_pr, P_pr from Example 2.4 (run first, Example 2.4)\n",
        "\n",
        "from scipy.optimize import fsolve # non-linear solver\n",
        "\n",
        "a1 = 0.3265; a2 = -1.0700; a3 = -0.5339; a4 = 0.01569; a5 = -0.05165; a6 = 0.5475\n",
        "a7 = -0.7361; a8 = 0.1844; a9 = 0.1056; a10 = 0.6134; a11 = 0.7210\n",
        "\n",
        "def f(y):\n",
        "  rho_pr, z = y\n",
        "  c1 = a1 + (a2/T_pr) + (a3/(T_pr**3))+ (a4/(T_pr**4))+ (a5/(T_pr**5))\n",
        "  c2 = a6 + (a7/T_pr) + (a8/(T_pr**2))\n",
        "  c3 = a9*((a7/T_pr) + (a8/(T_pr**2)))\n",
        "  c4 = (a10)*(1+(a11*(rho_pr**2)))*((rho_pr**2)/(T_pr**3))*(np.exp(-a11*(rho_pr**2)))\n",
        "\n",
        "  f1 = z + (c3*(rho_pr**5)) - (c2*(rho_pr**2)) - (c1*(rho_pr**1)) - c4 - 1\n",
        "  f2 = rho_pr - ((0.27 * P_pr) / (z * T_pr))\n",
        "  return[f1, f2]\n",
        "\n",
        "solve = fsolve(f, [1, 1]) # initial guess\n",
        "\n",
        "print(\"Gas Pseudoreduced Density using Drancuk-Abou Kassem EOS: \",solve[0])\n",
        "print(\"Gas compressibility factor using Drancuk-Abou Kassem EOS: \",solve[1])"
      ],
      "execution_count": 0,
      "outputs": [
        {
          "output_type": "stream",
          "text": [
            "Gas Pseudoreduced Density using Drancuk-Abou Kassem EOS:  0.744691155606479\n",
            "Gas compressibility factor using Drancuk-Abou Kassem EOS:  0.7730732979223308\n"
          ],
          "name": "stdout"
        }
      ]
    }
  ]
}