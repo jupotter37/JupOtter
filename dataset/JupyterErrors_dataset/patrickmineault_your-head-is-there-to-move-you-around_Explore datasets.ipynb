{
 "cells": [
  {
   "cell_type": "code",
   "execution_count": 50,
   "metadata": {},
   "outputs": [],
   "source": [
    "import sys\n",
    "sys.path.append('../')\n",
    "\n",
    "from loaders import pvc4\n",
    "\n",
    "loader = pvc4.PVC4('../data/crcns-pvc4', \n",
    "                   nt=32, \n",
    "                   nx=64,\n",
    "                   ny=64,\n",
    "                   split='train',\n",
    "                   )"
   ]
  },
  {
   "cell_type": "code",
   "execution_count": 51,
   "metadata": {},
   "outputs": [],
   "source": [
    "import collections\n",
    "segments_per = collections.defaultdict(int)\n",
    "repeats_per = collections.defaultdict(int)\n",
    "for tgt in loader.sequence:\n",
    "    segments_per[tgt['cellnum']] += 1"
   ]
  },
  {
   "cell_type": "code",
   "execution_count": 52,
   "metadata": {},
   "outputs": [
    {
     "data": {
      "text/plain": [
       "defaultdict(int,\n",
       "            {0: 234,\n",
       "             1: 482,\n",
       "             2: 786,\n",
       "             3: 403,\n",
       "             4: 403,\n",
       "             5: 423,\n",
       "             6: 151,\n",
       "             7: 117,\n",
       "             8: 336,\n",
       "             9: 635,\n",
       "             10: 403,\n",
       "             11: 468,\n",
       "             12: 585,\n",
       "             13: 336,\n",
       "             14: 501,\n",
       "             15: 106,\n",
       "             16: 468,\n",
       "             17: 208,\n",
       "             18: 151,\n",
       "             19: 151,\n",
       "             20: 151,\n",
       "             21: 151,\n",
       "             22: 140,\n",
       "             23: 289,\n",
       "             24: 151})"
      ]
     },
     "execution_count": 52,
     "metadata": {},
     "output_type": "execute_result"
    }
   ],
   "source": [
    "segments_per"
   ]
  },
  {
   "cell_type": "code",
   "execution_count": 55,
   "metadata": {},
   "outputs": [
    {
     "ename": "TypeError",
     "evalue": "list_nodes() missing 1 required positional argument: 'where'",
     "output_type": "error",
     "traceback": [
      "\u001b[0;31m---------------------------------------------------------------------------\u001b[0m",
      "\u001b[0;31mTypeError\u001b[0m                                 Traceback (most recent call last)",
      "\u001b[0;32m<ipython-input-55-b940c383524d>\u001b[0m in \u001b[0;36m<module>\u001b[0;34m\u001b[0m\n\u001b[1;32m      2\u001b[0m \u001b[0;34m\u001b[0m\u001b[0m\n\u001b[1;32m      3\u001b[0m \u001b[0mf\u001b[0m \u001b[0;34m=\u001b[0m \u001b[0mtables\u001b[0m\u001b[0;34m.\u001b[0m\u001b[0mopen_file\u001b[0m\u001b[0;34m(\u001b[0m\u001b[0;34m'/mnt/d/Downloads/ct0006_arg0466d_128.mat'\u001b[0m\u001b[0;34m,\u001b[0m \u001b[0;34m'r'\u001b[0m\u001b[0;34m)\u001b[0m\u001b[0;34m\u001b[0m\u001b[0;34m\u001b[0m\u001b[0m\n\u001b[0;32m----> 4\u001b[0;31m \u001b[0mf\u001b[0m\u001b[0;34m.\u001b[0m\u001b[0mlist_nodes\u001b[0m\u001b[0;34m(\u001b[0m\u001b[0;34m)\u001b[0m\u001b[0;34m\u001b[0m\u001b[0;34m\u001b[0m\u001b[0m\n\u001b[0m",
      "\u001b[0;31mTypeError\u001b[0m: list_nodes() missing 1 required positional argument: 'where'"
     ]
    }
   ],
   "source": [
    "import tables\n",
    "\n",
    "f = tables.open_file('/mnt/d/Downloads/ct0006_arg0466d_128.mat', 'r')\n",
    "f.list_nodes('/')"
   ]
  },
  {
   "cell_type": "code",
   "execution_count": 57,
   "metadata": {},
   "outputs": [
    {
     "data": {
      "text/plain": [
       "258.8235294117647"
      ]
     },
     "execution_count": 57,
     "metadata": {},
     "output_type": "execute_result"
    }
   ],
   "source": [
    "22000/85"
   ]
  },
  {
   "cell_type": "code",
   "execution_count": 56,
   "metadata": {},
   "outputs": [
    {
     "name": "stderr",
     "output_type": "stream",
     "text": [
      "/home/pmin/anaconda3/envs/py3/lib/python3.8/site-packages/tables/attributeset.py:308: DataTypeWarning: Unsupported type for attribute 'MATLAB_fields' in node 'ranges'. Offending HDF5 class: 9\n",
      "  value = self._g_getattr(self._v_node, name)\n"
     ]
    },
    {
     "data": {
      "text/plain": [
       "[/cellid (Array(5, 1)) ''\n",
       "   atom := UInt16Atom(shape=(), dflt=0)\n",
       "   maindim := 0\n",
       "   flavor := 'numpy'\n",
       "   byteorder := 'little'\n",
       "   chunkshape := None,\n",
       " /psths (EArray(1, 22000), zlib(3)) ''\n",
       "   atom := Float32Atom(shape=(), dflt=0.0)\n",
       "   maindim := 0\n",
       "   flavor := 'numpy'\n",
       "   byteorder := 'little'\n",
       "   chunkshape := (1, 11000),\n",
       " /ranges (Group) ''\n",
       "   children := ['crange' (EArray), 'nrange' (Array), 'trange' (Array), 'vrange' (CArray)],\n",
       " /rawStims (EArray(22000, 128, 128), zlib(3)) ''\n",
       "   atom := UInt8Atom(shape=(), dflt=0)\n",
       "   maindim := 0\n",
       "   flavor := 'numpy'\n",
       "   byteorder := 'irrelevant'\n",
       "   chunkshape := (4, 128, 128)]"
      ]
     },
     "execution_count": 56,
     "metadata": {},
     "output_type": "execute_result"
    }
   ],
   "source": [
    "f.list_nodes('/rawStims')"
   ]
  },
  {
   "cell_type": "code",
   "execution_count": 98,
   "metadata": {},
   "outputs": [
    {
     "data": {
      "text/plain": [
       "258.8235294117647"
      ]
     },
     "execution_count": 98,
     "metadata": {},
     "output_type": "execute_result"
    }
   ],
   "source": [
    "22000/85"
   ]
  },
  {
   "cell_type": "code",
   "execution_count": 59,
   "metadata": {},
   "outputs": [],
   "source": [
    "X = f.get_node('/rawStims')[:]"
   ]
  },
  {
   "cell_type": "code",
   "execution_count": 97,
   "metadata": {},
   "outputs": [
    {
     "data": {
      "text/html": [
       "<video width=\"288\" height=\"288\" controls autoplay loop>\n",
       "  <source type=\"video/mp4\" src=\"data:video/mp4;base64,AAAAIGZ0eXBNNFYgAAACAE00ViBpc29taXNvMmF2YzEAAAAIZnJlZQAABJhtZGF0AAACoAYF//+c\n",
       "3EXpvebZSLeWLNgg2SPu73gyNjQgLSBjb3JlIDE1MiAtIEguMjY0L01QRUctNCBBVkMgY29kZWMg\n",
       "LSBDb3B5bGVmdCAyMDAzLTIwMTcgLSBodHRwOi8vd3d3LnZpZGVvbGFuLm9yZy94MjY0Lmh0bWwg\n",
       "LSBvcHRpb25zOiBjYWJhYz0xIHJlZj0zIGRlYmxvY2s9MTowOjAgYW5hbHlzZT0weDM6MHgxMTMg\n",
       "bWU9aGV4IHN1Ym1lPTcgcHN5PTEgcHN5X3JkPTEuMDA6MC4wMCBtaXhlZF9yZWY9MSBtZV9yYW5n\n",
       "ZT0xNiBjaHJvbWFfbWU9MSB0cmVsbGlzPTEgOHg4ZGN0PTEgY3FtPTAgZGVhZHpvbmU9MjEsMTEg\n",
       "ZmFzdF9wc2tpcD0xIGNocm9tYV9xcF9vZmZzZXQ9LTIgdGhyZWFkcz05IGxvb2thaGVhZF90aHJl\n",
       "YWRzPTEgc2xpY2VkX3RocmVhZHM9MCBucj0wIGRlY2ltYXRlPTEgaW50ZXJsYWNlZD0wIGJsdXJh\n",
       "eV9jb21wYXQ9MCBjb25zdHJhaW5lZF9pbnRyYT0wIGJmcmFtZXM9MyBiX3B5cmFtaWQ9MiBiX2Fk\n",
       "YXB0PTEgYl9iaWFzPTAgZGlyZWN0PTEgd2VpZ2h0Yj0xIG9wZW5fZ29wPTAgd2VpZ2h0cD0yIGtl\n",
       "eWludD0yNTAga2V5aW50X21pbj0xMCBzY2VuZWN1dD00MCBpbnRyYV9yZWZyZXNoPTAgcmNfbG9v\n",
       "a2FoZWFkPTQwIHJjPWNyZiBtYnRyZWU9MSBjcmY9MjMuMCBxY29tcD0wLjYwIHFwbWluPTAgcXBt\n",
       "YXg9NjkgcXBzdGVwPTQgaXBfcmF0aW89MS40MCBhcT0xOjEuMDAAgAAAAIJliIQAEf/+94gfMstp\n",
       "+TrXchHnrS6tH1DuRnFepL3+Ia+qEqq2x0xNXDwXKUmuBo4f+YAbZkV6knMirNrXQvHnvKZIf0KP\n",
       "2VCDVSr4T14NcTsXH6yJ0WpKDYGXVAufShibYZtkmtNAATwD67Qu0FxvcAj4rGgxOmQWn102ZBAB\n",
       "Og+ZAAAAIEGaJGxBH/61Kqq2bmXs2DqrNakRSFrXG8MNtqmWAMWAAAAAF0GeQniHfwLq0tl3+qeM\n",
       "buL8n6pVAPmBAAAAFwGeYXRDfwPmujO0EfI5GDXdlM7RlgPmAAAACgGeY2pDfwAAK2EAAAATQZpo\n",
       "SahBaJlMCCP//rUqgAAHrQAAAAxBnoZFESw7/wAAHhEAAAAKAZ6ldEN/AAArYQAAAAoBnqdqQ38A\n",
       "ACtgAAAAE0GarEmoQWyZTAgh//6qVQAAD1gAAAAMQZ7KRRUsO/8AAB4RAAAACgGe6XRDfwAAK2AA\n",
       "AAAKAZ7rakN/AAArYAAAABNBmvBJqEFsmUwIf//+qZYAADwhAAAADEGfDkUVLDv/AAAeEQAAAAoB\n",
       "ny10Q38AACthAAAACgGfL2pDfwAAK2AAAAATQZszSahBbJlMCG///qeEAAB3QAAAAAxBn1FFFSw3\n",
       "/wAAK2EAAAAKAZ9yakN/AAArYAAABBptb292AAAAbG12aGQAAAAAAAAAAAAAAAAAAAPoAAAH0AAB\n",
       "AAABAAAAAAAAAAAAAAAAAQAAAAAAAAAAAAAAAAAAAAEAAAAAAAAAAAAAAAAAAEAAAAAAAAAAAAAA\n",
       "AAAAAAAAAAAAAAAAAAAAAAAAAAACAAADRHRyYWsAAABcdGtoZAAAAAMAAAAAAAAAAAAAAAEAAAAA\n",
       "AAAH0AAAAAAAAAAAAAAAAAAAAAAAAQAAAAAAAAAAAAAAAAAAAAEAAAAAAAAAAAAAAAAAAEAAAAAB\n",
       "IAAAASAAAAAAACRlZHRzAAAAHGVsc3QAAAAAAAAAAQAAB9AAAAgAAAEAAAAAArxtZGlhAAAAIG1k\n",
       "aGQAAAAAAAAAAAAAAAAAACgAAABQAFXEAAAAAAAtaGRscgAAAAAAAAAAdmlkZQAAAAAAAAAAAAAA\n",
       "AFZpZGVvSGFuZGxlcgAAAAJnbWluZgAAABR2bWhkAAAAAQAAAAAAAAAAAAAAJGRpbmYAAAAcZHJl\n",
       "ZgAAAAAAAAABAAAADHVybCAAAAABAAACJ3N0YmwAAAC3c3RzZAAAAAAAAAABAAAAp2F2YzEAAAAA\n",
       "AAAAAQAAAAAAAAAAAAAAAAAAAAABIAEgAEgAAABIAAAAAAAAAAEAAAAAAAAAAAAAAAAAAAAAAAAA\n",
       "AAAAAAAAAAAAAAAAAAAY//8AAAA1YXZjQwFkAAz/4QAYZ2QADKzZQSCWhAAAAwAEAAADAFA8UKZY\n",
       "AQAGaOvjyyLA/fj4AAAAABx1dWlka2hA8l8kT8W6OaUbzwMj8wAAAAAAAAAYc3R0cwAAAAAAAAAB\n",
       "AAAAFAAABAAAAAAUc3RzcwAAAAAAAAABAAAAAQAAAKhjdHRzAAAAAAAAABMAAAABAAAIAAAAAAEA\n",
       "ABQAAAAAAQAACAAAAAABAAAAAAAAAAEAAAQAAAAAAQAAFAAAAAABAAAIAAAAAAEAAAAAAAAAAQAA\n",
       "BAAAAAABAAAUAAAAAAEAAAgAAAAAAQAAAAAAAAABAAAEAAAAAAEAABQAAAAAAQAACAAAAAABAAAA\n",
       "AAAAAAEAAAQAAAAAAQAAEAAAAAACAAAEAAAAABxzdHNjAAAAAAAAAAEAAAABAAAAFAAAAAEAAABk\n",
       "c3RzegAAAAAAAAAAAAAAFAAAAyoAAAAkAAAAGwAAABsAAAAOAAAAFwAAABAAAAAOAAAADgAAABcA\n",
       "AAAQAAAADgAAAA4AAAAXAAAAEAAAAA4AAAAOAAAAFwAAABAAAAAOAAAAFHN0Y28AAAAAAAAAAQAA\n",
       "ADAAAABidWR0YQAAAFptZXRhAAAAAAAAACFoZGxyAAAAAAAAAABtZGlyYXBwbAAAAAAAAAAAAAAA\n",
       "AC1pbHN0AAAAJal0b28AAAAdZGF0YQAAAAEAAAAATGF2ZjU4LjQ1LjEwMA==\n",
       "\">\n",
       "  Your browser does not support the video tag.\n",
       "</video>"
      ],
      "text/plain": [
       "<IPython.core.display.HTML object>"
      ]
     },
     "execution_count": 97,
     "metadata": {},
     "output_type": "execute_result"
    }
   ],
   "source": [
    "import matplotlib.pyplot as plt\n",
    "\n",
    "from matplotlib import animation\n",
    "from IPython.display import HTML\n",
    "\n",
    "def get_anim(result, norm=False):\n",
    "    fig = plt.figure(figsize=(4, 4))\n",
    "    ax = plt.gca()\n",
    "    im = plt.imshow([[0]], cmap='gray')\n",
    "    plt.axis('off')\n",
    "    nt = result.shape[2]\n",
    "\n",
    "    def drawframe(n):\n",
    "        if n >= nt:\n",
    "            n = nt - 1\n",
    "        else:\n",
    "            im.set_data(result[:, :, n])\n",
    "        if norm:\n",
    "            im.set_clim(rg)\n",
    "        return (im)\n",
    "\n",
    "    # blit=True re-draws only the parts that have changed.\n",
    "    anim = animation.FuncAnimation(fig, drawframe, frames=nt*2, interval=100, blit=False)\n",
    "    plt.close()\n",
    "    return anim\n",
    "\n",
    "#anim = get_anim(data['wconv'][:, :, :, 1], norm=True).to_html5_video()\n",
    "#HTML(anim)\n",
    "\n",
    "HTML(get_anim(X[:10, :, :].transpose((1, 2, 0)), norm=False).to_html5_video())"
   ]
  },
  {
   "cell_type": "code",
   "execution_count": 95,
   "metadata": {},
   "outputs": [
    {
     "data": {
      "text/plain": [
       "<matplotlib.image.AxesImage at 0x7fd784dc6f40>"
      ]
     },
     "execution_count": 95,
     "metadata": {},
     "output_type": "execute_result"
    },
    {
     "data": {
      "image/png": "[encoded data removed]",
      "text/plain": [
       "<Figure size 432x288 with 1 Axes>"
      ]
     },
     "metadata": {
      "needs_background": "light"
     },
     "output_type": "display_data"
    }
   ],
   "source": [
    "plt.imshow(X[101, :, :], cmap='gray')"
   ]
  },
  {
   "cell_type": "code",
   "execution_count": 76,
   "metadata": {},
   "outputs": [
    {
     "data": {
      "text/plain": [
       "(128, 128, 100)"
      ]
     },
     "execution_count": 76,
     "metadata": {},
     "output_type": "execute_result"
    }
   ],
   "source": [
    "X[:100, :, :].transpose((1, 2, 0)).shape"
   ]
  },
  {
   "cell_type": "code",
   "execution_count": 70,
   "metadata": {},
   "outputs": [
    {
     "data": {
      "text/plain": [
       "dtype('uint8')"
      ]
     },
     "execution_count": 70,
     "metadata": {},
     "output_type": "execute_result"
    }
   ],
   "source": [
    "X.dtype"
   ]
  },
  {
   "cell_type": "code",
   "execution_count": 10,
   "metadata": {},
   "outputs": [],
   "source": [
    "import tables\n",
    "\n",
    "h5f = tables.open_file('../data/crcns-ringach-data/derived/movies.h5', 'r')\n"
   ]
  },
  {
   "cell_type": "code",
   "execution_count": 14,
   "metadata": {},
   "outputs": [
    {
     "data": {
      "text/plain": [
       "924"
      ]
     },
     "execution_count": 14,
     "metadata": {},
     "output_type": "execute_result"
    }
   ],
   "source": [
    "len(h5f.get_node('/movie000_000'))"
   ]
  },
  {
   "cell_type": "code",
   "execution_count": 22,
   "metadata": {},
   "outputs": [
    {
     "data": {
      "text/plain": [
       "1231.8378666666667"
      ]
     },
     "execution_count": 22,
     "metadata": {},
     "output_type": "execute_result"
    }
   ],
   "source": [
    "(len(loader) * 32) / 30 / 250"
   ]
  },
  {
   "cell_type": "code",
   "execution_count": 35,
   "metadata": {},
   "outputs": [],
   "source": [
    "import collections\n",
    "segments_per = collections.defaultdict(int)\n",
    "repeats_per = collections.defaultdict(int)\n",
    "for tgt in loader.sequence:\n",
    "    segments_per[tgt['abs_electrode_num']] += 1\n",
    "    mat_file = loader.mat_files[tgt['key']]\n",
    "    batch = mat_file['pepANA']['listOfResults'][tgt['result']]\n",
    "    repeats_per[tgt['abs_electrode_num']] += (batch['noRepeats'])"
   ]
  },
  {
   "cell_type": "code",
   "execution_count": 36,
   "metadata": {},
   "outputs": [
    {
     "data": {
      "text/plain": [
       "defaultdict(int,\n",
       "            {0: 2677,\n",
       "             1: 2677,\n",
       "             2: 2677,\n",
       "             3: 2677,\n",
       "             4: 2677,\n",
       "             5: 2677,\n",
       "             6: 2677,\n",
       "             7: 2677,\n",
       "             8: 2677,\n",
       "             9: 2677,\n",
       "             10: 2677,\n",
       "             11: 2677,\n",
       "             12: 2677,\n",
       "             13: 2677,\n",
       "             14: 2677,\n",
       "             15: 2677,\n",
       "             16: 2677,\n",
       "             17: 2677,\n",
       "             18: 2677,\n",
       "             19: 2677,\n",
       "             20: 2677,\n",
       "             21: 2677,\n",
       "             22: 2677,\n",
       "             23: 2677,\n",
       "             24: 2677,\n",
       "             25: 2677,\n",
       "             26: 2677,\n",
       "             27: 2677,\n",
       "             28: 2677,\n",
       "             29: 2677,\n",
       "             30: 2677,\n",
       "             31: 2677,\n",
       "             32: 2677,\n",
       "             33: 2677,\n",
       "             34: 2677,\n",
       "             35: 2677,\n",
       "             36: 2677,\n",
       "             37: 2677,\n",
       "             38: 2677,\n",
       "             39: 2677,\n",
       "             40: 2677,\n",
       "             41: 2677,\n",
       "             42: 2677,\n",
       "             43: 2677,\n",
       "             44: 2677,\n",
       "             45: 2677,\n",
       "             46: 2677,\n",
       "             47: 2677,\n",
       "             48: 2677,\n",
       "             49: 2677,\n",
       "             50: 2677,\n",
       "             51: 2677,\n",
       "             52: 2677,\n",
       "             53: 2677,\n",
       "             54: 2677,\n",
       "             55: 2677,\n",
       "             56: 2677,\n",
       "             57: 2677,\n",
       "             58: 2677,\n",
       "             59: 2677,\n",
       "             60: 2677,\n",
       "             61: 2677,\n",
       "             62: 2677,\n",
       "             63: 2677,\n",
       "             64: 2677,\n",
       "             65: 2677,\n",
       "             66: 2677,\n",
       "             67: 2677,\n",
       "             68: 2677,\n",
       "             69: 2677,\n",
       "             70: 2677,\n",
       "             71: 2677,\n",
       "             72: 2677,\n",
       "             73: 2677,\n",
       "             74: 2677,\n",
       "             75: 2677,\n",
       "             76: 2677,\n",
       "             77: 2677,\n",
       "             78: 2677,\n",
       "             79: 2677,\n",
       "             80: 2677,\n",
       "             81: 2677,\n",
       "             82: 2677,\n",
       "             83: 2677,\n",
       "             84: 2677,\n",
       "             85: 2677,\n",
       "             86: 2677,\n",
       "             87: 2677,\n",
       "             88: 2677,\n",
       "             89: 2677,\n",
       "             90: 2677,\n",
       "             91: 2677,\n",
       "             92: 2677,\n",
       "             93: 2677,\n",
       "             94: 2677,\n",
       "             95: 2677,\n",
       "             96: 2677,\n",
       "             97: 2677,\n",
       "             98: 2677,\n",
       "             99: 2677,\n",
       "             100: 2677,\n",
       "             101: 2677,\n",
       "             102: 2677,\n",
       "             103: 2677,\n",
       "             104: 4480,\n",
       "             105: 4480,\n",
       "             106: 4480,\n",
       "             107: 4480,\n",
       "             108: 4480,\n",
       "             109: 4480,\n",
       "             110: 4480,\n",
       "             111: 4480,\n",
       "             112: 4480,\n",
       "             113: 4480,\n",
       "             114: 4480,\n",
       "             115: 4480,\n",
       "             116: 4480,\n",
       "             117: 4480,\n",
       "             118: 4480,\n",
       "             119: 4480,\n",
       "             120: 4480,\n",
       "             121: 4480,\n",
       "             122: 4480,\n",
       "             123: 4480,\n",
       "             124: 4480,\n",
       "             125: 4480,\n",
       "             126: 4480})"
      ]
     },
     "execution_count": 36,
     "metadata": {},
     "output_type": "execute_result"
    }
   ],
   "source": [
    "repeats_per"
   ]
  },
  {
   "cell_type": "code",
   "execution_count": 31,
   "metadata": {},
   "outputs": [
    {
     "data": {
      "text/plain": [
       "2855.4666666666667"
      ]
     },
     "execution_count": 31,
     "metadata": {},
     "output_type": "execute_result"
    }
   ],
   "source": [
    "2677*32/30"
   ]
  },
  {
   "cell_type": "markdown",
   "metadata": {},
   "source": [
    "segments_per"
   ]
  },
  {
   "cell_type": "code",
   "execution_count": 20,
   "metadata": {},
   "outputs": [
    {
     "data": {
      "text/plain": [
       "<matplotlib.image.AxesImage at 0x1e64467fa90>"
      ]
     },
     "execution_count": 20,
     "metadata": {},
     "output_type": "execute_result"
    },
    {
     "data": {
      "image/png": "[encoded data removed]",
      "text/plain": [
       "<Figure size 432x288 with 1 Axes>"
      ]
     },
     "metadata": {
      "needs_background": "light"
     },
     "output_type": "display_data"
    }
   ],
   "source": [
    "import matplotlib.pyplot as plt\n",
    "\n",
    "data['mov'].shape\n",
    "plt.imshow(data['mov'][:, :, 0])"
   ]
  },
  {
   "cell_type": "code",
   "execution_count": 37,
   "metadata": {},
   "outputs": [
    {
     "data": {
      "text/plain": [
       "{'__header__': b'MATLAB 5.0 MAT-file, Platform: GLNX86, Created on: Thu Jan 31 15:33:41 2008',\n",
       " '__version__': '1.0',\n",
       " '__globals__': [],\n",
       " 'celldata': {'id': [866, 867, 869, 868],\n",
       "  'cellid': ['r0211A', 'r0211A', 'r0211A', 'r0211A'],\n",
       "  'masterid': [105, 105, 105, 105],\n",
       "  'rawid': [363, 364, 366, 365],\n",
       "  'celldataid': [356, 357, 359, 358],\n",
       "  'runclassid': [0, 0, 0, 0],\n",
       "  'path': ['/auto/k5/david/data/R211A/',\n",
       "   '/auto/k5/david/data/R211A/',\n",
       "   '/auto/k5/david/data/R211A/',\n",
       "   '/auto/k5/david/data/R211A/'],\n",
       "  'resplen': [3475, 3475, 707, 3475],\n",
       "  'repcount': [1, 1, 20, 1],\n",
       "  'respfile': ['R211A.review.andros.24_pix.50sec.1.all.d-.psth.neg_flag',\n",
       "   'R211A.review.clown.24_pix.50sec.1.all.d-.psth.neg_flag',\n",
       "   'R211A.review.patamonks.24_pix.10sec.1.all.d-.psth.neg_flag',\n",
       "   'R211A.review.patamonks.24_pix.50sec.1.all.d-.psth.neg_flag'],\n",
       "  'respvarname': ['R211A', 'R211A', 'R211A', 'R211A'],\n",
       "  'respfiletype': [1, 1, 1, 1],\n",
       "  'nosync': [0, 0, 0, 0],\n",
       "  'respfilefmt': ['14ms PSTH', '14ms PSTH', '14ms PSTH', '14ms PSTH'],\n",
       "  'respfmtcode': [0, 0, 0, 0],\n",
       "  'stimfile': ['test.review.andros.24_pix.50sec.imsm',\n",
       "   'test.review.clown.24_pix.50sec.imsm',\n",
       "   'test.review.patamonks.24_pix.10sec.imsm',\n",
       "   'test.review.patamonks.24_pix.50sec.imsm'],\n",
       "  'stimfiletype': [1, 1, 1, 1],\n",
       "  'stimiconside': ['96,96', '96,96', '96,96', '96,96'],\n",
       "  'stimfilecrf': [4, 4, 4, 4],\n",
       "  'stimwindowsize': [96, 96, 96, 96],\n",
       "  'stimfilefmt': ['pixel', 'pixel', 'pixel', 'pixel'],\n",
       "  'stimfmtcode': [0, 0, 0, 0],\n",
       "  'addedby': ['david', 'david', 'david', 'david'],\n",
       "  'info': ['dbcrap.m - from tCellFile',\n",
       "   'dbcrap.m - from tCellFile',\n",
       "   'dbcrap.m - from tCellFile',\n",
       "   'dbcrap.m - from tCellFile'],\n",
       "  'lastmod': ['2004-09-20 11:51:16',\n",
       "   '2004-09-20 11:51:16',\n",
       "   '2004-09-20 11:51:16',\n",
       "   '2004-09-20 11:51:16'],\n",
       "  'stimpath': ['/auto/k5/david/data/R211A/',\n",
       "   '/auto/k5/david/data/R211A/',\n",
       "   '/auto/k5/david/data/R211A/',\n",
       "   '/auto/k5/david/data/R211A/'],\n",
       "  'stimspeedid': [72, 72, 72, 72],\n",
       "  'spikes': [680, 476, 103, 920],\n",
       "  'a_state': [array([], shape=(0, 0), dtype=uint8),\n",
       "   array([], shape=(0, 0), dtype=uint8),\n",
       "   array([], shape=(0, 0), dtype=uint8),\n",
       "   array([], shape=(0, 0), dtype=uint8)],\n",
       "  'singleid': [105, 105, 105, 105],\n",
       "  'singlerawid': [1488, 1489, 1491, 1490],\n",
       "  'area': ['V1', 'V1', 'V1', 'V1'],\n",
       "  'bad': [0, 0, 0, 0],\n",
       "  'rawstimfile': ['test.review.andros.24_pix.50sec.imsm',\n",
       "   'test.review.clown.24_pix.50sec.imsm',\n",
       "   'test.review.patamonks.24_pix.10sec.imsm',\n",
       "   'test.review.patamonks.24_pix.50sec.imsm'],\n",
       "  'well': [12, 12, 12, 12]}}"
      ]
     },
     "execution_count": 37,
     "metadata": {},
     "output_type": "execute_result"
    }
   ],
   "source": [
    "from loaders import utils\n",
    "\n",
    "dataset = 'data/crcns-pvc4/Nat/r0211A/r0211A_summary_file.mat'\n",
    "#data = scipy.io.loadmat(dataset)\n",
    "utils.load_mat_as_dict(dataset)"
   ]
  },
  {
   "cell_type": "code",
   "execution_count": 1,
   "metadata": {},
   "outputs": [],
   "source": [
    "from loaders import pvc4\n",
    "data = pvc4._loadimfile(\n",
    "            'data/crcns-pvc4/Nat/r0208D/test.review.mountlake.30_pix.2sizes.imsm')"
   ]
  },
  {
   "cell_type": "code",
   "execution_count": 36,
   "metadata": {},
   "outputs": [
    {
     "data": {
      "text/plain": [
       "44.67577160493827"
      ]
     },
     "execution_count": 36,
     "metadata": {},
     "output_type": "execute_result"
    },
    {
     "data": {
      "image/png": "[encoded data removed]",
      "text/plain": [
       "<Figure size 432x288 with 2 Axes>"
      ]
     },
     "metadata": {
      "needs_background": "light"
     },
     "output_type": "display_data"
    }
   ],
   "source": [
    "import matplotlib.pyplot as plt\n",
    "plt.imshow(data[0, ::-1, :], clim=[20, 255])\n",
    "plt.colorbar()\n",
    "\n",
    "data.mean()"
   ]
  }
 ],
 "metadata": {
  "kernelspec": {
   "display_name": "Python 3",
   "language": "python",
   "name": "python3"
  },
  "language_info": {
   "codemirror_mode": {
    "name": "ipython",
    "version": 3
   },
   "file_extension": ".py",
   "mimetype": "text/x-python",
   "name": "python",
   "nbconvert_exporter": "python",
   "pygments_lexer": "ipython3",
   "version": "3.8.5"
  }
 },
 "nbformat": 4,
 "nbformat_minor": 4
}
