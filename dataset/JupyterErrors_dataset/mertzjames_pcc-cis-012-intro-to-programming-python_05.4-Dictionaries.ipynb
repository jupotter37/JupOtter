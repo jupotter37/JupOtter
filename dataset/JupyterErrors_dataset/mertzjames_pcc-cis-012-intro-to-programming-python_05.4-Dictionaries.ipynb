{
 "cells": [
  {
   "cell_type": "markdown",
   "metadata": {
    "slideshow": {
     "slide_type": "slide"
    }
   },
   "source": [
    "## Dictionaries\n",
    "\n",
    "![](https://media.giphy.com/media/l2Je66zG6mAAZxgqI/giphy.gif)"
   ]
  },
  {
   "cell_type": "markdown",
   "metadata": {
    "slideshow": {
     "slide_type": "subslide"
    }
   },
   "source": [
    "## Dictionaries\n",
    "\n",
    "- Another storage container similar to lists and tuples.\n",
    "- Values are as key:value pairs.\n",
    "- Are created using the curly brackets or `dict` constructor.\n",
    "- Dictionaries are mutable.\n",
    "- Dictionary keys MUST be immutable (int, float, str, bool, tuple).\n",
    "- Order is NOT guaranteed (especially older Python versions). "
   ]
  },
  {
   "cell_type": "code",
   "execution_count": 54,
   "metadata": {
    "slideshow": {
     "slide_type": "subslide"
    }
   },
   "outputs": [
    {
     "name": "stdout",
     "output_type": "stream",
     "text": [
      "{'Pikachu': 'electric', 'Bulbasaur': 'grass', 'Charmander': 'fire'}\n"
     ]
    }
   ],
   "source": [
    "pokemon_types = {\n",
    "    # notice the colon that separates the key (Pikachu) to the\n",
    "    # value (electric)\n",
    "    'Pikachu': 'electric',\n",
    "    'Bulbasaur': 'grass',\n",
    "    'Charmander': 'fire'\n",
    "}\n",
    "print(pokemon_types)"
   ]
  },
  {
   "cell_type": "code",
   "execution_count": 55,
   "metadata": {
    "slideshow": {
     "slide_type": "subslide"
    }
   },
   "outputs": [
    {
     "name": "stdout",
     "output_type": "stream",
     "text": [
      "{'Pikachu': 'electric', 'Bulbasaur': 'grass', 'Charmander': 'fire'}\n"
     ]
    }
   ],
   "source": [
    "# you can also create dictionaries from a list or tuple of \n",
    "# tuple pairs, where the first entry in the pair is the key\n",
    "# and the second is the value\n",
    "pokemon_type_pairs = (\n",
    "    ('Pikachu', 'electric'),\n",
    "    ('Bulbasaur', 'grass'),\n",
    "    ('Charmander', 'fire')\n",
    ")\n",
    "pokemon_types = dict(pokemon_type_pairs)\n",
    "print(pokemon_types)"
   ]
  },
  {
   "cell_type": "code",
   "execution_count": 56,
   "metadata": {
    "slideshow": {
     "slide_type": "subslide"
    }
   },
   "outputs": [
    {
     "name": "stdout",
     "output_type": "stream",
     "text": [
      "electric\n"
     ]
    }
   ],
   "source": [
    "# To access values, you pass in the key like you would\n",
    "# an index to a tuple, string, or list\n",
    "print(pokemon_types['Pikachu'])"
   ]
  },
  {
   "cell_type": "code",
   "execution_count": 57,
   "metadata": {
    "slideshow": {
     "slide_type": "subslide"
    }
   },
   "outputs": [
    {
     "name": "stdout",
     "output_type": "stream",
     "text": [
      "fire\n"
     ]
    }
   ],
   "source": [
    "# you can also use the .get() dictionary method to access\n",
    "# the value\n",
    "print(pokemon_types.get('Charmander'))"
   ]
  },
  {
   "cell_type": "code",
   "execution_count": 58,
   "metadata": {
    "slideshow": {
     "slide_type": "subslide"
    }
   },
   "outputs": [
    {
     "ename": "KeyError",
     "evalue": "'Mew'",
     "output_type": "error",
     "traceback": [
      "\u001b[0;31m---------------------------------------------------------------------------\u001b[0m",
      "\u001b[0;31mKeyError\u001b[0m                                  Traceback (most recent call last)",
      "\u001b[0;32m<ipython-input-58-3ee89942f152>\u001b[0m in \u001b[0;36m<module>\u001b[0;34m\u001b[0m\n\u001b[1;32m      1\u001b[0m \u001b[0;31m# be careful when trying to access a key that hasn't\u001b[0m\u001b[0;34m\u001b[0m\u001b[0;34m\u001b[0m\u001b[0;34m\u001b[0m\u001b[0m\n\u001b[1;32m      2\u001b[0m \u001b[0;31m# been defined yet:\u001b[0m\u001b[0;34m\u001b[0m\u001b[0;34m\u001b[0m\u001b[0;34m\u001b[0m\u001b[0m\n\u001b[0;32m----> 3\u001b[0;31m \u001b[0mprint\u001b[0m\u001b[0;34m(\u001b[0m\u001b[0mpokemon_types\u001b[0m\u001b[0;34m[\u001b[0m\u001b[0;34m'Mew'\u001b[0m\u001b[0;34m]\u001b[0m\u001b[0;34m)\u001b[0m\u001b[0;34m\u001b[0m\u001b[0;34m\u001b[0m\u001b[0m\n\u001b[0m",
      "\u001b[0;31mKeyError\u001b[0m: 'Mew'"
     ]
    }
   ],
   "source": [
    "# be careful when trying to access a key that hasn't\n",
    "# been defined yet:\n",
    "print(pokemon_types['Mew'])"
   ]
  },
  {
   "cell_type": "code",
   "execution_count": 59,
   "metadata": {
    "slideshow": {
     "slide_type": "subslide"
    }
   },
   "outputs": [
    {
     "name": "stdout",
     "output_type": "stream",
     "text": [
      "False\n"
     ]
    }
   ],
   "source": [
    "# You can check to see if the key is in the dictionary\n",
    "# by using the `in` operator.\n",
    "print('Mew' in pokemon_types)"
   ]
  },
  {
   "cell_type": "code",
   "execution_count": 60,
   "metadata": {
    "slideshow": {
     "slide_type": "subslide"
    }
   },
   "outputs": [
    {
     "name": "stdout",
     "output_type": "stream",
     "text": [
      "None\n"
     ]
    }
   ],
   "source": [
    "# You can also safely use the .get() method without\n",
    "# raising an error, but then what do we get?\n",
    "print(pokemon_types.get('Mew'))"
   ]
  },
  {
   "cell_type": "markdown",
   "metadata": {
    "slideshow": {
     "slide_type": "subslide"
    }
   },
   "source": [
    "### Sidebar: The `None` constant\n",
    "\n",
    "\"None is frequently used to represent the absence of a value, as when default arguments are not passed to a function.\""
   ]
  },
  {
   "cell_type": "code",
   "execution_count": 61,
   "metadata": {
    "slideshow": {
     "slide_type": "subslide"
    }
   },
   "outputs": [
    {
     "data": {
      "text/plain": [
       "NoneType"
      ]
     },
     "execution_count": 61,
     "metadata": {},
     "output_type": "execute_result"
    }
   ],
   "source": [
    "# None is actually a completely different\n",
    "# Data Type.\n",
    "type(None)"
   ]
  },
  {
   "cell_type": "code",
   "execution_count": 62,
   "metadata": {
    "slideshow": {
     "slide_type": "subslide"
    }
   },
   "outputs": [
    {
     "name": "stdout",
     "output_type": "stream",
     "text": [
      "None\n"
     ]
    }
   ],
   "source": [
    "print(None)"
   ]
  },
  {
   "cell_type": "code",
   "execution_count": 63,
   "metadata": {
    "slideshow": {
     "slide_type": "subslide"
    }
   },
   "outputs": [
    {
     "name": "stdout",
     "output_type": "stream",
     "text": [
      "Unknown\n"
     ]
    }
   ],
   "source": [
    "# You can also pass a second argument to .get()\n",
    "# as a default value to return if the key isn't found.\n",
    "print(pokemon_types.get('Mew', 'Unknown'))"
   ]
  },
  {
   "cell_type": "code",
   "execution_count": 64,
   "metadata": {
    "slideshow": {
     "slide_type": "subslide"
    }
   },
   "outputs": [
    {
     "name": "stdout",
     "output_type": "stream",
     "text": [
      "{'Pikachu': 'electric', 'Bulbasaur': 'grass', 'Charmander': 'fire', 'Mew': 'mystery'}\n"
     ]
    }
   ],
   "source": [
    "# Adding a new key, value pair is pretty easy\n",
    "pokemon_types['Mew'] = 'mystery'\n",
    "print(pokemon_types)"
   ]
  },
  {
   "cell_type": "code",
   "execution_count": 65,
   "metadata": {
    "slideshow": {
     "slide_type": "subslide"
    }
   },
   "outputs": [
    {
     "name": "stdout",
     "output_type": "stream",
     "text": [
      "{'Pikachu': 'electric', 'Bulbasaur': 'grass', 'Charmander': 'fire', 'Mew': 'psychic'}\n"
     ]
    }
   ],
   "source": [
    "# You can also change the value of a previously added key\n",
    "pokemon_types['Mew'] = 'psychic'\n",
    "print(pokemon_types)"
   ]
  },
  {
   "cell_type": "code",
   "execution_count": 66,
   "metadata": {
    "slideshow": {
     "slide_type": "subslide"
    }
   },
   "outputs": [
    {
     "name": "stdout",
     "output_type": "stream",
     "text": [
      "{'Pikachu': 'electric', 'Bulbasaur': 'grass', 'Charmander': 'fire', 'Mew': 'psychic', 'squirtel': 'water'}\n"
     ]
    }
   ],
   "source": [
    "# Ok let's add squirtel to the pokemon_types\n",
    "pokemon_types['squirtel'] = 'water'\n",
    "print(pokemon_types)\n",
    "\n",
    "# Shoot, I messed up and mis-spelled squirtle\n",
    "# How do I remove the key, value pair?"
   ]
  },
  {
   "cell_type": "code",
   "execution_count": 67,
   "metadata": {
    "slideshow": {
     "slide_type": "subslide"
    }
   },
   "outputs": [
    {
     "name": "stdout",
     "output_type": "stream",
     "text": [
      "{'Pikachu': 'electric', 'Bulbasaur': 'grass', 'Charmander': 'fire', 'Mew': 'psychic', 'squirtel': None}\n"
     ]
    }
   ],
   "source": [
    "# Let's try setting the value to None!\n",
    "pokemon_types['squirtel'] = None\n",
    "print(pokemon_types)"
   ]
  },
  {
   "cell_type": "code",
   "execution_count": 68,
   "metadata": {
    "slideshow": {
     "slide_type": "subslide"
    }
   },
   "outputs": [
    {
     "name": "stdout",
     "output_type": "stream",
     "text": [
      "{'Pikachu': 'electric', 'Bulbasaur': 'grass', 'Charmander': 'fire', 'Mew': 'psychic'}\n"
     ]
    }
   ],
   "source": [
    "# The correct way to remove a key, value pair is to use the del builtin\n",
    "del pokemon_types['squirtel']\n",
    "print(pokemon_types)"
   ]
  },
  {
   "cell_type": "code",
   "execution_count": 69,
   "metadata": {
    "slideshow": {
     "slide_type": "subslide"
    }
   },
   "outputs": [
    {
     "name": "stdout",
     "output_type": "stream",
     "text": [
      "{'Pikachu': 'electric', 'Bulbasaur': 'grass', 'Charmander': 'fire', 'Mew': 'psychic', 'Squirtle': 'water'}\n"
     ]
    }
   ],
   "source": [
    "# And now we properly add Squirtle\n",
    "pokemon_types['Squirtle'] = 'water'\n",
    "print(pokemon_types)"
   ]
  },
  {
   "cell_type": "code",
   "execution_count": 70,
   "metadata": {
    "slideshow": {
     "slide_type": "subslide"
    }
   },
   "outputs": [
    {
     "name": "stdout",
     "output_type": "stream",
     "text": [
      "Pikachu\n",
      "Bulbasaur\n",
      "Charmander\n",
      "Mew\n",
      "Squirtle\n"
     ]
    }
   ],
   "source": [
    "# We can iterate over a dictionary, but the iteration is actually\n",
    "# over the keys and not the values.\n",
    "for key in pokemon_types:\n",
    "    print(key)"
   ]
  },
  {
   "cell_type": "code",
   "execution_count": 71,
   "metadata": {
    "slideshow": {
     "slide_type": "subslide"
    }
   },
   "outputs": [
    {
     "name": "stdout",
     "output_type": "stream",
     "text": [
      "Pikachu is of type electric\n",
      "Bulbasaur is of type grass\n",
      "Charmander is of type fire\n",
      "Mew is of type psychic\n",
      "Squirtle is of type water\n"
     ]
    }
   ],
   "source": [
    "# To access the value, you'll need to grab it from the dictionary\n",
    "for monster in pokemon_types:\n",
    "    poke_type = pokemon_types[monster]\n",
    "    print(f'{monster} is of type {poke_type}')"
   ]
  },
  {
   "cell_type": "code",
   "execution_count": 72,
   "metadata": {
    "slideshow": {
     "slide_type": "subslide"
    }
   },
   "outputs": [
    {
     "name": "stdout",
     "output_type": "stream",
     "text": [
      "Pikachu is of type electric\n",
      "Bulbasaur is of type grass\n",
      "Charmander is of type fire\n",
      "Mew is of type psychic\n",
      "Squirtle is of type water\n"
     ]
    }
   ],
   "source": [
    "# OR you can use the .items() method which returns a tuple of (key, value)\n",
    "for monster, poke_type in pokemon_types.items():\n",
    "    print(f'{monster} is of type {poke_type}')"
   ]
  },
  {
   "cell_type": "code",
   "execution_count": 73,
   "metadata": {
    "slideshow": {
     "slide_type": "subslide"
    }
   },
   "outputs": [
    {
     "name": "stdout",
     "output_type": "stream",
     "text": [
      "{25: {'name': 'Pikachu', 'type': 'electric'}, 1: {'name': 'Bulbasaur', 'type': 'grass'}, 4: {'name': 'Charmander', 'type': 'fire'}}\n"
     ]
    }
   ],
   "source": [
    "# you can also create nested dictionaries.  Let's \n",
    "# try it out by creating a REAL pokedex.  The outer\n",
    "# dictionary will have a key of int representing the\n",
    "# pokemon number.  The value of that key will be another\n",
    "# dictionary with string keys 'name' and 'type' that\n",
    "# have values for the pokemon name and type.\n",
    "pokedex = {\n",
    "    25: {\n",
    "        'name': 'Pikachu',\n",
    "        'type': 'electric'\n",
    "    },\n",
    "    1: {\n",
    "        'name': 'Bulbasaur',\n",
    "        'type': 'grass'\n",
    "    },\n",
    "    4: {\n",
    "        'name': 'Charmander',\n",
    "        'type': 'fire'\n",
    "    } \n",
    "}\n",
    "print(pokedex)"
   ]
  },
  {
   "cell_type": "code",
   "execution_count": 74,
   "metadata": {
    "slideshow": {
     "slide_type": "subslide"
    }
   },
   "outputs": [
    {
     "data": {
      "text/plain": [
       "'Pikachu'"
      ]
     },
     "execution_count": 74,
     "metadata": {},
     "output_type": "execute_result"
    }
   ],
   "source": [
    "# To access a specific key value pair within the nested \n",
    "# dictionary, you use two key accessors.\n",
    "pokedex[25]['name']"
   ]
  },
  {
   "cell_type": "markdown",
   "metadata": {
    "slideshow": {
     "slide_type": "subslide"
    }
   },
   "source": [
    "### In-Class Exercises\n",
    "\n",
    "- Create an **empty** dictionary called `pokedex`.\n",
    "- Add the following key, value pairs to the dictionary:\n",
    "    ```\n",
    "    'Venosaur': ['Grass', 'Poisen']\n",
    "    'Charizard': ['Fire', 'Flying']\n",
    "    'Blastoise': ['Water']\n",
    "    ```\n",
    "- Remove 'Blastoise' from the dictionary."
   ]
  },
  {
   "cell_type": "code",
   "execution_count": null,
   "metadata": {},
   "outputs": [],
   "source": []
  }
 ],
 "metadata": {
  "kernelspec": {
   "display_name": "Python 3",
   "language": "python",
   "name": "python3"
  },
  "language_info": {
   "codemirror_mode": {
    "name": "ipython",
    "version": 3
   },
   "file_extension": ".py",
   "mimetype": "text/x-python",
   "name": "python",
   "nbconvert_exporter": "python",
   "pygments_lexer": "ipython3",
   "version": "3.8.3"
  }
 },
 "nbformat": 4,
 "nbformat_minor": 4
}
