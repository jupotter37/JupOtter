{
 "cells": [
  {
   "cell_type": "markdown",
   "metadata": {},
   "source": [
    "Set things up"
   ]
  },
  {
   "cell_type": "code",
   "execution_count": 1,
   "metadata": {
    "collapsed": true
   },
   "outputs": [],
   "source": [
    "import numpy as np\n",
    "import tensorflow as tf\n",
    "\n",
    "from nn_policy import FeedForwardCritic\n",
    "from nn_policy import FeedForwardPolicy\n",
    "from rllab.envs.mujoco.half_cheetah_env import HalfCheetahEnv\n",
    "from rllab.exploration_strategies.ou_strategy import OUStrategy\n",
    "from sandbox.rocky.tf.algos.ddpg import DDPG as ShaneDDPG\n",
    "from sandbox.rocky.tf.envs.base import TfEnv\n",
    "from sandbox.rocky.tf.policies.deterministic_mlp_policy import \\\n",
    "    DeterministicMLPPolicy\n",
    "from sandbox.rocky.tf.q_functions.continuous_mlp_q_function import \\\n",
    "    ContinuousMLPQFunction\n",
    "\n",
    "from ddpg import DDPG as MyDDPG\n",
    "from testing_utils import are_np_arrays_equal"
   ]
  },
  {
   "cell_type": "code",
   "execution_count": 2,
   "metadata": {
    "collapsed": false
   },
   "outputs": [],
   "source": [
    "env = TfEnv(HalfCheetahEnv())\n",
    "action_dim = env.action_dim\n",
    "obs_dim = env.observation_space.low.shape[0]\n",
    "\n",
    "batch_size = 2\n",
    "rewards = np.random.rand(batch_size)\n",
    "terminals = (np.random.rand(batch_size) > 0.5).astype(np.int)\n",
    "obs = np.random.rand(batch_size, obs_dim)\n",
    "actions = np.random.rand(batch_size, action_dim)\n",
    "next_obs = np.random.rand(batch_size, obs_dim)\n",
    "\n",
    "ddpg_params = dict(\n",
    "    batch_size=64,\n",
    "    n_epochs=0,\n",
    "    epoch_length=0,\n",
    "    eval_samples=0,\n",
    "    discount=0.99,\n",
    "    qf_learning_rate=1e-3,\n",
    "    policy_learning_rate=1e-4,\n",
    "    soft_target_tau=0.001,\n",
    "    replay_pool_size=1000000,\n",
    "    min_pool_size=1000,\n",
    "    scale_reward=0.1,\n",
    ")\n",
    "discount = ddpg_params['discount']"
   ]
  },
  {
   "cell_type": "markdown",
   "metadata": {},
   "source": [
    "Create my stuff"
   ]
  },
  {
   "cell_type": "code",
   "execution_count": 3,
   "metadata": {
    "collapsed": false
   },
   "outputs": [],
   "source": [
    "sess1  tf.Session()\n",
    "with sess1.as_default():\n",
    "    es = OUStrategy(env_spec=env.spec)\n",
    "    ddpg_params['Q_weight_decay'] = 0.\n",
    "    qf_params = dict(\n",
    "        embedded_hidden_sizes=(100, ),\n",
    "        observation_hidden_sizes=(100, ),\n",
    "        hidden_nonlinearity=tf.nn.relu,\n",
    "    )\n",
    "    policy_params = dict(\n",
    "        observation_hidden_sizes=(100, 100),\n",
    "        hidden_nonlinearity=tf.nn.relu,\n",
    "        output_nonlinearity=tf.nn.tanh,\n",
    "    )\n",
    "    qf = FeedForwardCritic(\n",
    "        \"critic\",\n",
    "        env.observation_space.flat_dim,\n",
    "        env.action_space.flat_dim,\n",
    "        **qf_params\n",
    "    )\n",
    "    policy = FeedForwardPolicy(\n",
    "        \"actor\",\n",
    "        env.observation_space.flat_dim,\n",
    "        env.action_space.flat_dim,\n",
    "        **policy_params\n",
    "    )\n",
    "    my_algo = MyDDPG(\n",
    "        env,\n",
    "        es,\n",
    "        policy,\n",
    "        qf,\n",
    "        **ddpg_params\n",
    "    )"
   ]
  },
  {
   "cell_type": "code",
   "execution_count": 5,
   "metadata": {
    "collapsed": false
   },
   "outputs": [
    {
     "ename": "NameError",
     "evalue": "name 'ddpg' is not defined",
     "output_type": "error",
     "traceback": [
      "\u001b[0;31m---------------------------------------------------------------------------\u001b[0m",
      "\u001b[0;31mNameError\u001b[0m                                 Traceback (most recent call last)",
      "\u001b[0;32m<ipython-input-5-3d39c33945a5>\u001b[0m in \u001b[0;36m<module>\u001b[0;34m()\u001b[0m\n\u001b[1;32m     14\u001b[0m         \u001b[0mhidden_sizes\u001b[0m\u001b[0;34m=\u001b[0m\u001b[0;34m(\u001b[0m\u001b[0;36m100\u001b[0m\u001b[0;34m,\u001b[0m \u001b[0;36m100\u001b[0m\u001b[0;34m)\u001b[0m\u001b[0;34m,\u001b[0m\u001b[0;34m\u001b[0m\u001b[0m\n\u001b[1;32m     15\u001b[0m     )\n\u001b[0;32m---> 16\u001b[0;31m     \u001b[0mddpg\u001b[0m\u001b[0;34m.\u001b[0m\u001b[0mpop\u001b[0m\u001b[0;34m(\u001b[0m\u001b[0;34m'Q_weight_decay'\u001b[0m\u001b[0;34m)\u001b[0m\u001b[0;34m\u001b[0m\u001b[0m\n\u001b[0m\u001b[1;32m     17\u001b[0m     shane_algo = ShaneDDPG(\n\u001b[1;32m     18\u001b[0m         \u001b[0menv\u001b[0m\u001b[0;34m,\u001b[0m\u001b[0;34m\u001b[0m\u001b[0m\n",
      "\u001b[0;31mNameError\u001b[0m: name 'ddpg' is not defined"
     ]
    }
   ],
   "source": [
    "sess_shane = tf.Session()\n",
    "with sess_shane.as_default():\n",
    "    es = OUStrategy(env_spec=env.spec)\n",
    "    policy = DeterministicMLPPolicy(\n",
    "        name=\"init_policy\",\n",
    "        env_spec=env.spec,\n",
    "        hidden_sizes=(100, 100),\n",
    "        hidden_nonlinearity=tf.nn.relu,\n",
    "        output_nonlinearity=tf.nn.tanh,\n",
    "    )\n",
    "    qf = ContinuousMLPQFunction(\n",
    "        name=\"qf\",\n",
    "        env_spec=env.spec,\n",
    "        hidden_sizes=(100, 100),\n",
    "    )\n",
    "    ddpg.pop('Q_weight_decay')\n",
    "    shane_algo = ShaneDDPG(\n",
    "        env,\n",
    "        policy,\n",
    "        qf,\n",
    "        es,\n",
    "        **ddpg_params\n",
    "    )\n",
    "    sess.run(tf.initialize_all_variables())\n",
    "    shane_algo.init_opt()\n",
    "    # This initializes the optimizer parameters\n",
    "    sess.run(tf.initialize_all_variables())"
   ]
  },
  {
   "cell_type": "code",
   "execution_count": 4,
   "metadata": {
    "collapsed": false
   },
   "outputs": [],
   "source": [
    "shane_policy = shane_algo.policy\n",
    "shane_qf = shane_algo.qf\n",
    "shane_policy_param_values = shane_policy.flat_to_params(\n",
    "    shane_policy.get_param_values()\n",
    ")\n",
    "shane_qf_param_values = shane_qf.flat_to_params(\n",
    "    shane_qf.get_param_values()\n",
    ")\n",
    "f_train_policy = shane_algo.opt_info['f_train_policy']\n",
    "f_train_qf = shane_algo.opt_info['f_train_qf']\n",
    "target_qf = shane_algo.opt_info[\"target_qf\"]\n",
    "target_policy = shane_algo.opt_info[\"target_policy\"]\n",
    "next_actions, _ = target_policy.get_actions(next_obs)\n",
    "next_qvals = target_qf.get_qval(next_obs, next_actions)\n",
    "\n",
    "ys = rewards + (1. - terminals) * discount * next_qvals\n",
    "# qf_loss, qval, _ = f_train_qf(ys, obs, actions)\n",
    "# policy_surr, _ = f_train_policy(obs)"
   ]
  },
  {
   "cell_type": "code",
   "execution_count": null,
   "metadata": {
    "collapsed": true
   },
   "outputs": [],
   "source": [
    "my_algo.actor.set_param_values(shane_policy_param_values)\n",
    "my_algo.target_actor.set_param_values(shane_policy_param_values)\n",
    "my_algo.critic.set_param_values(shane_qf_param_values)\n",
    "my_algo.target_critic.set_param_values(shane_qf_param_values)\n",
    "feed_dict = my_algo._update_feed_dict(rewards, terminals, obs,\n",
    "                                      actions, next_obs)"
   ]
  },
  {
   "cell_type": "code",
   "execution_count": 9,
   "metadata": {
    "collapsed": false
   },
   "outputs": [],
   "source": [
    "my_ys = sess.run(my_algo.ys, feed_dict=feed_dict).flatten()\n",
    "actor_loss = sess.run(\n",
    "    my_algo.actor_surrogate_loss,\n",
    "    feed_dict=feed_dict)\n",
    "critic_loss = sess.run(\n",
    "    my_algo.actor_surrogate_loss,\n",
    "    feed_dict=feed_dict)\n",
    "critic_output = sess.run(\n",
    "    my_algo.critic.output,\n",
    "    feed_dict=feed_dict).flatten()"
   ]
  },
  {
   "cell_type": "code",
   "execution_count": 6,
   "metadata": {
    "collapsed": false
   },
   "outputs": [
    {
     "name": "stdout",
     "output_type": "stream",
     "text": [
      "False\n",
      "False\n",
      "[[ 0.10921419  0.09765881 -0.03137018 ..., -0.02751763  0.22333932\n",
      "   0.02181816]\n",
      " [-0.17966431 -0.18096715 -0.17333549 ...,  0.1443533  -0.0943089\n",
      "   0.02416623]\n",
      " [ 0.11363882  0.15522802  0.12664583 ..., -0.22307341  0.12125483\n",
      "  -0.08646591]\n",
      " ..., \n",
      " [-0.06120278 -0.1051338  -0.12680353 ...,  0.17530295  0.16245732\n",
      "   0.13607773]\n",
      " [-0.05959937 -0.22201149 -0.21675102 ...,  0.17212844  0.05435613\n",
      "  -0.21109346]\n",
      " [-0.00831135 -0.16856278  0.04452699 ..., -0.05924542  0.0239968\n",
      "   0.1407443 ]]\n",
      "[[-0.19854721  0.02298436 -0.04613249 ..., -0.00690316  0.06697407\n",
      "  -0.17650957]\n",
      " [ 0.17003807  0.08754197  0.08480752 ..., -0.17002124 -0.0353867\n",
      "   0.19973361]\n",
      " [-0.06235437 -0.07145138  0.14938217 ...,  0.12414679 -0.00750153\n",
      "   0.07396972]\n",
      " ..., \n",
      " [-0.08707686 -0.12958983  0.21109462 ...,  0.06713736  0.13400322\n",
      "  -0.14379099]\n",
      " [-0.11963328  0.11264029  0.01875345 ..., -0.1142823  -0.16798946\n",
      "  -0.04623538]\n",
      " [-0.10833817  0.13236687 -0.16835923 ...,  0.0404802   0.0754824\n",
      "   0.08693308]]\n"
     ]
    }
   ],
   "source": [
    "# Check params didn't change\n",
    "shane_policy_param_values_new = shane_policy.flat_to_params(\n",
    "    shane_policy.get_param_values()\n",
    ")\n",
    "shane_qf_param_values_new = shane_qf.flat_to_params(\n",
    "    shane_qf.get_param_values()\n",
    ")\n",
    "print(all((a==b).all() for a, b in zip(shane_qf_param_values_new, shane_qf_param_values)))\n",
    "print(all((a==b).all() for a, b in zip(shane_policy_param_values_new, shane_policy_param_values)))\n",
    "print(shane_qf_param_values_new[0])\n",
    "print(shane_qf_param_values[0])"
   ]
  },
  {
   "cell_type": "markdown",
   "metadata": {},
   "source": [
    "Check params didn't change"
   ]
  },
  {
   "cell_type": "code",
   "execution_count": 7,
   "metadata": {
    "collapsed": false
   },
   "outputs": [
    {
     "name": "stdout",
     "output_type": "stream",
     "text": [
      "False\n",
      "True\n",
      "True\n",
      "False\n",
      "[(20, 100), (100,), (106, 100), (100,), (100, 1), (1,)]\n",
      "(2,)\n",
      "(2,)\n",
      "(2,)\n",
      "[-0.28969401 -0.26044056]\n",
      "[ 0.38071227  0.14097965]\n",
      "[-0.289694  -0.2604406]\n"
     ]
    }
   ],
   "source": [
    "critic = my_algo.critic\n",
    "actor = my_algo.actor\n",
    "\n",
    "print(all((a==b).all() for a, b in zip(critic.get_param_values(), shane_qf_param_values)))\n",
    "print(all((a==b).all() for a, b in zip(actor.get_param_values(), shane_policy_param_values)))\n",
    "\n",
    "\n",
    "my_critic_out = sess.run(\n",
    "    critic.output,\n",
    "    feed_dict={\n",
    "        critic.actions_placeholder: actions,\n",
    "        critic.observations_placeholder: obs,\n",
    "    }).flatten()\n",
    "shane_critic = shane_algo.qf\n",
    "shane_critic_out = shane_critic.get_qval(next_obs, next_actions)\n",
    "# print(my_critic_out)\n",
    "# print(shane_critic_out)\n",
    "# print(shane_critic._output_layer.input_layer.nonlinearity)\n",
    "print([a.shape for a in shane_qf_param_values])\n",
    "W1, b1, W2, b2, W3, b3 = shane_qf_param_values\n",
    "output = np.matmul(obs, W1) + b1\n",
    "output = np.maximum(output, 0)\n",
    "output = np.hstack((output, actions))\n",
    "output = np.matmul(output, W2) + b2\n",
    "output = np.maximum(output, 0)\n",
    "output = np.matmul(output, W3) + b3\n",
    "output = output.flatten()\n",
    "\n",
    "\n",
    "print(my_critic_out.shape)\n",
    "print(shane_critic_out.shape)\n",
    "print(output.shape)\n",
    "\n",
    "print(my_critic_out)\n",
    "print(shane_critic_out)\n",
    "print(output)"
   ]
  },
  {
   "cell_type": "code",
   "execution_count": 12,
   "metadata": {
    "collapsed": false
   },
   "outputs": [
    {
     "name": "stdout",
     "output_type": "stream",
     "text": [
      "[[ 0.18006641 -0.19114682 -0.17156905 ..., -0.08719799 -0.02502914\n",
      "   0.030267  ]\n",
      " [ 0.14154136  0.16746089 -0.01075949 ..., -0.04649469 -0.13204986\n",
      "  -0.08563615]\n",
      " [-0.03190383  0.14813185  0.1691182  ..., -0.12389179 -0.0197947\n",
      "  -0.0118479 ]\n",
      " ..., \n",
      " [ 0.16140383 -0.15739915 -0.1783531  ..., -0.10120998  0.12150282\n",
      "  -0.13049315]\n",
      " [ 0.19560936 -0.22234261 -0.15613042 ..., -0.17660858  0.03528771\n",
      "   0.16670644]\n",
      " [-0.06725742 -0.01214127  0.16213682 ..., -0.12453543 -0.16090882\n",
      "  -0.08211282]]\n",
      "[ 0.  0.  0.  0.  0.  0.  0.  0.  0.  0.  0.  0.  0.  0.  0.  0.  0.  0.\n",
      "  0.  0.  0.  0.  0.  0.  0.  0.  0.  0.  0.  0.  0.  0.  0.  0.  0.  0.\n",
      "  0.  0.  0.  0.  0.  0.  0.  0.  0.  0.  0.  0.  0.  0.  0.  0.  0.  0.\n",
      "  0.  0.  0.  0.  0.  0.  0.  0.  0.  0.  0.  0.  0.  0.  0.  0.  0.  0.\n",
      "  0.  0.  0.  0.  0.  0.  0.  0.  0.  0.  0.  0.  0.  0.  0.  0.  0.  0.\n",
      "  0.  0.  0.  0.  0.  0.  0.  0.  0.  0.]\n"
     ]
    }
   ],
   "source": [
    "print(W1)\n",
    "print(b1)"
   ]
  },
  {
   "cell_type": "code",
   "execution_count": 14,
   "metadata": {
    "collapsed": false
   },
   "outputs": [
    {
     "name": "stdout",
     "output_type": "stream",
     "text": [
      "[[ 0.11715043 -0.01768987  0.15925303 ...,  0.07064421  0.03645761\n",
      "   0.16479751]\n",
      " [ 0.10044381  0.02719294 -0.16904333 ..., -0.11369165  0.01187196\n",
      "   0.09673491]\n",
      " [-0.03212716 -0.15086609 -0.08499511 ..., -0.10084184  0.06693818\n",
      "  -0.06268194]\n",
      " ..., \n",
      " [ 0.09487638 -0.01168025 -0.02640516 ...,  0.09314603 -0.16379729\n",
      "   0.08736303]\n",
      " [-0.07443461  0.02360873  0.06644437 ...,  0.11957365 -0.134672\n",
      "  -0.01987462]\n",
      " [-0.14258642  0.05320536 -0.11457152 ..., -0.16631398 -0.14329247\n",
      "   0.00755855]]\n",
      "[ 0.  0.  0.  0.  0.  0.  0.  0.  0.  0.  0.  0.  0.  0.  0.  0.  0.  0.\n",
      "  0.  0.  0.  0.  0.  0.  0.  0.  0.  0.  0.  0.  0.  0.  0.  0.  0.  0.\n",
      "  0.  0.  0.  0.  0.  0.  0.  0.  0.  0.  0.  0.  0.  0.  0.  0.  0.  0.\n",
      "  0.  0.  0.  0.  0.  0.  0.  0.  0.  0.  0.  0.  0.  0.  0.  0.  0.  0.\n",
      "  0.  0.  0.  0.  0.  0.  0.  0.  0.  0.  0.  0.  0.  0.  0.  0.  0.  0.\n",
      "  0.  0.  0.  0.  0.  0.  0.  0.  0.  0.]\n"
     ]
    }
   ],
   "source": [
    "print(W2)\n",
    "print(b2)"
   ]
  },
  {
   "cell_type": "code",
   "execution_count": 15,
   "metadata": {
    "collapsed": false
   },
   "outputs": [
    {
     "name": "stdout",
     "output_type": "stream",
     "text": [
      "[[-0.09496497]\n",
      " [ 0.02086809]\n",
      " [ 0.02640805]\n",
      " [ 0.0055166 ]\n",
      " [ 0.09683746]\n",
      " [-0.10159475]\n",
      " [ 0.14121649]\n",
      " [ 0.03647819]\n",
      " [-0.04363871]\n",
      " [ 0.09008625]\n",
      " [ 0.20288092]\n",
      " [ 0.10421315]\n",
      " [ 0.14983174]\n",
      " [ 0.1653336 ]\n",
      " [ 0.17695239]\n",
      " [-0.03653538]\n",
      " [-0.16007495]\n",
      " [ 0.14253625]\n",
      " [-0.04394285]\n",
      " [-0.17573562]\n",
      " [-0.23238011]\n",
      " [ 0.10677379]\n",
      " [-0.03567053]\n",
      " [ 0.16729721]\n",
      " [-0.19013867]\n",
      " [ 0.23726842]\n",
      " [-0.20066203]\n",
      " [-0.03206511]\n",
      " [-0.00955209]\n",
      " [ 0.18400922]\n",
      " [-0.15858348]\n",
      " [-0.09610504]\n",
      " [ 0.1731275 ]\n",
      " [ 0.08832544]\n",
      " [-0.09939101]\n",
      " [ 0.10766405]\n",
      " [-0.18003237]\n",
      " [-0.16474082]\n",
      " [ 0.09337634]\n",
      " [ 0.06137091]\n",
      " [ 0.08485803]\n",
      " [ 0.12888962]\n",
      " [-0.1710934 ]\n",
      " [-0.14716667]\n",
      " [-0.09536344]\n",
      " [ 0.07462418]\n",
      " [-0.0192439 ]\n",
      " [-0.04157276]\n",
      " [ 0.13935924]\n",
      " [ 0.1240854 ]\n",
      " [ 0.09136358]\n",
      " [-0.14306489]\n",
      " [-0.06212461]\n",
      " [-0.0628694 ]\n",
      " [-0.1938062 ]\n",
      " [ 0.18955332]\n",
      " [-0.05474287]\n",
      " [ 0.19348317]\n",
      " [ 0.13769644]\n",
      " [ 0.15709323]\n",
      " [ 0.13692456]\n",
      " [-0.19098249]\n",
      " [-0.22752208]\n",
      " [ 0.17719397]\n",
      " [-0.00713232]\n",
      " [-0.19903697]\n",
      " [-0.04470672]\n",
      " [-0.12447479]\n",
      " [ 0.0354324 ]\n",
      " [ 0.00704694]\n",
      " [-0.14229944]\n",
      " [-0.05393235]\n",
      " [ 0.11280897]\n",
      " [-0.02886885]\n",
      " [ 0.14587459]\n",
      " [-0.20507663]\n",
      " [ 0.11810145]\n",
      " [-0.14953566]\n",
      " [-0.02967654]\n",
      " [-0.23692633]\n",
      " [-0.10209107]\n",
      " [-0.24079853]\n",
      " [-0.09806325]\n",
      " [-0.21899307]\n",
      " [ 0.05866283]\n",
      " [-0.05207966]\n",
      " [-0.19307099]\n",
      " [ 0.03485209]\n",
      " [ 0.17460048]\n",
      " [-0.03008558]\n",
      " [-0.11890234]\n",
      " [ 0.24347541]\n",
      " [ 0.20765412]\n",
      " [ 0.21064019]\n",
      " [-0.22887029]\n",
      " [-0.00947417]\n",
      " [ 0.21662891]\n",
      " [-0.15506227]\n",
      " [-0.09551086]\n",
      " [-0.14498213]]\n",
      "[ 0.]\n"
     ]
    }
   ],
   "source": [
    "print(W3)\n",
    "print(b3)"
   ]
  },
  {
   "cell_type": "code",
   "execution_count": null,
   "metadata": {
    "collapsed": false
   },
   "outputs": [],
   "source": [
    "same_locations = abs(my_ys - ys) < 0.001\n",
    "diff_locations = abs(my_ys - ys) > 1e-3\n",
    "\n",
    "print(ys)\n",
    "print(my_ys)\n",
    "print(rewards)\n",
    "\n",
    "print(same_locations == terminals)"
   ]
  },
  {
   "cell_type": "code",
   "execution_count": 12,
   "metadata": {
    "collapsed": false
   },
   "outputs": [
    {
     "name": "stdout",
     "output_type": "stream",
     "text": [
      "True\n",
      "True\n",
      "[ 0.08043291  0.15407091  0.04160417  0.25431705 -0.01546162  0.12317318\n",
      "  0.08870779  0.0034778   0.11139356  0.02977742  0.09610271  0.04143379\n",
      "  0.14590845  0.30310166 -0.03043694  0.29100132  0.24680986  0.14942929\n",
      "  0.19308668  0.21655881  0.05423871  0.28347656  0.23354399  0.1701221\n",
      "  0.00468823  0.28256524  0.33678555  0.00583877  0.18574598  0.19084638\n",
      " -0.06781723  0.1096947 ]\n",
      "[-0.41515172 -0.47687221 -0.3862282  -0.37483859 -0.36577362 -0.35058931\n",
      " -0.55418265 -0.28721622 -0.36617911 -0.39964348 -0.35683811 -0.25585258\n",
      " -0.42136523 -0.33881104 -0.30203792 -0.31551418 -0.20384291 -0.39162099\n",
      " -0.20989272 -0.38798833 -0.4832077  -0.47076946 -0.39890233 -0.33049214\n",
      " -0.32134044 -0.37559023 -0.43229294 -0.44028047 -0.39340836 -0.28017768\n",
      " -0.23092277 -0.41609758]\n"
     ]
    }
   ],
   "source": [
    "print(critic_output)\n",
    "print(next_qvals)"
   ]
  },
  {
   "cell_type": "code",
   "execution_count": 5,
   "metadata": {
    "collapsed": false,
    "scrolled": true
   },
   "outputs": [
    {
     "name": "stdout",
     "output_type": "stream",
     "text": [
      "foo\n"
     ]
    },
    {
     "ename": "NameError",
     "evalue": "name 'my_ys' is not defined",
     "output_type": "error",
     "traceback": [
      "\u001b[0;31m---------------------------------------------------------------------------\u001b[0m",
      "\u001b[0;31mNameError\u001b[0m                                 Traceback (most recent call last)",
      "\u001b[0;32m<ipython-input-5-46bbd805bd19>\u001b[0m in \u001b[0;36m<module>\u001b[0;34m()\u001b[0m\n\u001b[1;32m      1\u001b[0m \u001b[0mprint\u001b[0m\u001b[0;34m(\u001b[0m\u001b[0;34m\"foo\"\u001b[0m\u001b[0;34m)\u001b[0m\u001b[0;34m\u001b[0m\u001b[0m\n\u001b[1;32m      2\u001b[0m print(are_np_arrays_equal(\n\u001b[0;32m----> 3\u001b[0;31m     \u001b[0mmy_ys\u001b[0m\u001b[0;34m,\u001b[0m\u001b[0;34m\u001b[0m\u001b[0m\n\u001b[0m\u001b[1;32m      4\u001b[0m     \u001b[0mys\u001b[0m\u001b[0;34m\u001b[0m\u001b[0m\n\u001b[1;32m      5\u001b[0m ))\n",
      "\u001b[0;31mNameError\u001b[0m: name 'my_ys' is not defined"
     ]
    }
   ],
   "source": [
    "    print(\"foo\")\n",
    "    print(are_np_arrays_equal(\n",
    "        my_ys,\n",
    "        ys\n",
    "    ))\n",
    "    print(are_np_arrays_equal(\n",
    "        actor_loss,\n",
    "        policy_surr\n",
    "    ))\n",
    "    print(are_np_arrays_equal(\n",
    "        qf_loss,\n",
    "        critic_loss\n",
    "    ))"
   ]
  },
  {
   "cell_type": "code",
   "execution_count": null,
   "metadata": {
    "collapsed": true
   },
   "outputs": [],
   "source": [
    "sess.close()"
   ]
  }
 ],
 "metadata": {
  "kernelspec": {
   "display_name": "Python 3",
   "language": "python",
   "name": "python3"
  },
  "language_info": {
   "codemirror_mode": {
    "name": "ipython",
    "version": 3
   },
   "file_extension": ".py",
   "mimetype": "text/x-python",
   "name": "python",
   "nbconvert_exporter": "python",
   "pygments_lexer": "ipython3",
   "version": "3.5.2"
  },
  "widgets": {
   "state": {},
   "version": "1.1.2"
  }
 },
 "nbformat": 4,
 "nbformat_minor": 1
}
