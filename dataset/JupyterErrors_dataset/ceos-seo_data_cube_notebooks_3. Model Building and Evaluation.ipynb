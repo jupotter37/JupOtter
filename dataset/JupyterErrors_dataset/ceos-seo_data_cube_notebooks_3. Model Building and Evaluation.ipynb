{
 "cells": [
  {
   "cell_type": "markdown",
   "metadata": {},
   "source": [
    "# Model Building and Evaluation"
   ]
  },
  {
   "cell_type": "markdown",
   "metadata": {},
   "source": [
    "- Load the engineered features and split into training and testing datasets\n",
    "- Search for the best parameters for the RandomForestClassifier\n",
    "- Display the results of the fitted classifier\n",
    "- Export the classifier for use elsewhere"
   ]
  },
  {
   "cell_type": "markdown",
   "metadata": {},
   "source": [
    "---\n",
    "# Code\n",
    "## Import Necessary Tools and Libraries"
   ]
  },
  {
   "cell_type": "code",
   "execution_count": 1,
   "metadata": {
    "collapsed": true,
    "execution": {
     "iopub.execute_input": "2020-09-28T16:17:55.500183Z",
     "iopub.status.busy": "2020-09-28T16:17:55.499751Z",
     "iopub.status.idle": "2020-09-28T16:17:56.546399Z",
     "shell.execute_reply": "2020-09-28T16:17:56.545405Z"
    }
   },
   "outputs": [
    {
     "ename": "ImportError",
     "evalue": "cannot import name 'joblib'",
     "output_type": "error",
     "traceback": [
      "\u001b[0;31m---------------------------------------------------------------------------\u001b[0m",
      "\u001b[0;31mImportError\u001b[0m                               Traceback (most recent call last)",
      "\u001b[0;32m<ipython-input-1-72a0c9552383>\u001b[0m in \u001b[0;36m<module>\u001b[0;34m\u001b[0m\n\u001b[1;32m     11\u001b[0m \u001b[0;32mfrom\u001b[0m \u001b[0mpprint\u001b[0m \u001b[0;32mimport\u001b[0m \u001b[0mpprint\u001b[0m\u001b[0;34m\u001b[0m\u001b[0;34m\u001b[0m\u001b[0m\n\u001b[1;32m     12\u001b[0m \u001b[0;32mfrom\u001b[0m \u001b[0msklearn\u001b[0m\u001b[0;34m.\u001b[0m\u001b[0mensemble\u001b[0m \u001b[0;32mimport\u001b[0m \u001b[0mRandomForestClassifier\u001b[0m\u001b[0;34m\u001b[0m\u001b[0;34m\u001b[0m\u001b[0m\n\u001b[0;32m---> 13\u001b[0;31m \u001b[0;32mfrom\u001b[0m \u001b[0msklearn\u001b[0m\u001b[0;34m.\u001b[0m\u001b[0mexternals\u001b[0m \u001b[0;32mimport\u001b[0m \u001b[0mjoblib\u001b[0m\u001b[0;34m\u001b[0m\u001b[0;34m\u001b[0m\u001b[0m\n\u001b[0m\u001b[1;32m     14\u001b[0m \u001b[0;32mfrom\u001b[0m \u001b[0msklearn\u001b[0m\u001b[0;34m.\u001b[0m\u001b[0mmetrics\u001b[0m \u001b[0;32mimport\u001b[0m \u001b[0mconfusion_matrix\u001b[0m\u001b[0;34m\u001b[0m\u001b[0;34m\u001b[0m\u001b[0m\n\u001b[1;32m     15\u001b[0m \u001b[0;32mfrom\u001b[0m \u001b[0msklearn\u001b[0m\u001b[0;34m.\u001b[0m\u001b[0mmetrics\u001b[0m \u001b[0;32mimport\u001b[0m \u001b[0mf1_score\u001b[0m\u001b[0;34m\u001b[0m\u001b[0;34m\u001b[0m\u001b[0m\n",
      "\u001b[0;31mImportError\u001b[0m: cannot import name 'joblib'"
     ]
    }
   ],
   "source": [
    "import sys\n",
    "import os\n",
    "sys.path.append(os.environ.get('NOTEBOOK_ROOT'))\n",
    "\n",
    "import datetime\n",
    "import itertools\n",
    "import matplotlib.pyplot as plt\n",
    "import numpy as np\n",
    "import pandas as pd \n",
    "\n",
    "from pprint import pprint\n",
    "from sklearn.ensemble import RandomForestClassifier\n",
    "from sklearn.externals import joblib\n",
    "from sklearn.metrics import confusion_matrix\n",
    "from sklearn.metrics import f1_score\n",
    "from sklearn.model_selection import GridSearchCV\n",
    "from sklearn.model_selection import RandomizedSearchCV\n",
    "from sklearn.model_selection import train_test_split"
   ]
  },
  {
   "cell_type": "markdown",
   "metadata": {},
   "source": [
    "## Import Data\n",
    "Import the features list that we exported in the previous notebook."
   ]
  },
  {
   "cell_type": "code",
   "execution_count": 2,
   "metadata": {
    "collapsed": true
   },
   "outputs": [],
   "source": [
    "def get_features(path='engineered_features.csv'):\n",
    "    \"\"\"Gets and formats the engineered features from a CSV file.\n",
    "    \n",
    "    Args:\n",
    "        path (string): The path of the CSV file.\n",
    "        \n",
    "    Returns:\n",
    "        A dictionary with the features list and the labels list for the features.\n",
    "    \"\"\"\n",
    "    data = pd.read_csv(path)    \n",
    "    column_names = list(data)    \n",
    "    \n",
    "    FEATURES = ['red','green','blue','nir','swir1','swir2', \n",
    "                'NDVI',\n",
    "                'NDVI_coeff_var',\n",
    "                'PNDVI',\n",
    "                'NBR',\n",
    "                'NBR2',\n",
    "                'NDWI_2',\n",
    "                'SCI',\n",
    "                'CVI',\n",
    "                'CCCI',\n",
    "                'bs','pv','npv'\n",
    "               ]\n",
    "    \n",
    "    LABEL = [\"LandUse\"]\n",
    "    \n",
    "    features = data[FEATURES]\n",
    "    labels = data[LABEL]\n",
    "    return {'features': features, 'labels': labels}"
   ]
  },
  {
   "cell_type": "markdown",
   "metadata": {},
   "source": [
    "## Split the Features\n",
    "Split the given features and labels into training and testing sets."
   ]
  },
  {
   "cell_type": "code",
   "execution_count": 3,
   "metadata": {
    "collapsed": true
   },
   "outputs": [],
   "source": [
    "def split_features(feature_set):\n",
    "    \"\"\"Splits the features and labels into training and test sets.\n",
    "    \n",
    "    Args:\n",
    "        feature_set (dict): A dictionary of the features list and the labels. Needs a features and labels key.\n",
    "    \n",
    "    Returns:\n",
    "        A dictionary of the training and testing sets.\n",
    "    \"\"\"\n",
    "    features = feature_set['features']\n",
    "    labels = feature_set['labels']\n",
    "    \n",
    "    X_train, X_test, y_train, y_test = train_test_split(\n",
    "        features.values, labels.values.reshape(len(features))\n",
    "    )\n",
    "    return {'X_train': X_train, 'X_test': X_test, 'y_train': y_train, 'y_test': y_test}"
   ]
  },
  {
   "cell_type": "markdown",
   "metadata": {},
   "source": [
    "## Search Functions\n",
    "Functions for running a `GridSearchCV` and `RandomizedSearchCV` with specific search parameters over a `RandomForestClassifier`."
   ]
  },
  {
   "cell_type": "code",
   "execution_count": 4,
   "metadata": {
    "collapsed": true
   },
   "outputs": [],
   "source": [
    "def grid_search(feature_set):\n",
    "    \"\"\"Performs a grid search over a RandomForestClassifier.\n",
    "    \n",
    "    Args:\n",
    "        feature_set (dict): The split feature set to run the search with. Needs a X_train and y_train key.\n",
    "    \n",
    "    Returns:\n",
    "        The best estimated RandomForestClassifier object.\n",
    "    \"\"\"\n",
    "    X_train = feature_set['X_train']\n",
    "    y_train = feature_set['y_train']\n",
    "    \n",
    "    rf = RandomForestClassifier(random_state = 42)\n",
    "    \n",
    "    search_params = {'criterion': ['gini', 'entropy'],\n",
    "                     'max_depth': [10, 20, 30, 40, 50, 60, 70, 80, 90, 100, None],\n",
    "                     'min_samples_leaf': [1, 2, 4],\n",
    "                     'min_samples_split': [2, 5, 10],\n",
    "                     'n_estimators': [100, 200, 400, 600, 800, 1000, 1200, 1400, 1600, 1800, 2000]\n",
    "                    }\n",
    "\n",
    "    grid_search = GridSearchCV(estimator=rf,\n",
    "                               param_grid=search_params, \n",
    "                               cv=3,\n",
    "                               n_jobs=-1,\n",
    "                               verbose=0\n",
    "                              )\n",
    "    \n",
    "    grid_search.fit(X_train, y_train)\n",
    "    return grid_search.best_estimator_\n",
    "\n",
    "def random_search(feature_set, n_iter):\n",
    "    \"\"\"Performs a grid search over a RandomForestClassifier.\n",
    "    \n",
    "    Args:\n",
    "        feature_set (dict): The split feature set to run the search with. Needs a X_train and y_train key.\n",
    "        n_iter (int): The number of iterations to search over.\n",
    "    \n",
    "    Returns:\n",
    "        The best estimated RandomForestClassifier object.\n",
    "    \"\"\"\n",
    "    X_train = feature_set['X_train']\n",
    "    y_train = feature_set['y_train']\n",
    "    \n",
    "    rf = RandomForestClassifier(random_state = 42)\n",
    "    \n",
    "    search_params = {'criterion': ['gini', 'entropy'],\n",
    "                     'max_depth': [10, 20, 30, 40, 50, 60, 70, 80, 90, 100, None],\n",
    "                     'min_samples_leaf': [1, 2, 4],\n",
    "                     'min_samples_split': [2, 5, 10],\n",
    "                     'n_estimators': [100, 190, 280, 370, 460, 550, 640, 730, 820, 910, 1000]\n",
    "                    }\n",
    "\n",
    "    random_search = RandomizedSearchCV(estimator=rf,\n",
    "                                       param_distributions=search_params,\n",
    "                                       n_iter=n_iter,\n",
    "                                       cv=3,\n",
    "                                       n_jobs=-1,\n",
    "                                       verbose=0\n",
    "                                      )\n",
    "    \n",
    "    random_search.fit(X_train, y_train)\n",
    "    return random_search.best_estimator_"
   ]
  },
  {
   "cell_type": "markdown",
   "metadata": {},
   "source": [
    "## Display\n",
    "### Importances Plot\n",
    "This will display the important features as determined by the classifier."
   ]
  },
  {
   "cell_type": "code",
   "execution_count": 5,
   "metadata": {
    "collapsed": true
   },
   "outputs": [],
   "source": [
    "def importances_plot(rf, X):\n",
    "    \"\"\"Plots the important features of a RandomForestClassifier.\n",
    "    \n",
    "    Args:\n",
    "        rf (RandomForestClassifier): The classifier object to plot the feature importances for.\n",
    "        X: The values of the features used.\n",
    "\n",
    "    Citiation:\n",
    "    https://scikit-learn.org/stable/auto_examples/ensemble/plot_forest_importances.html\n",
    "    \"\"\"\n",
    "    FEATURES = ['red','green','blue','nir','swir1','swir2', \n",
    "                'NDVI',\n",
    "                'NDVI_coeff_var',\n",
    "                'PNDVI',\n",
    "                'NBR',\n",
    "                'NBR2',\n",
    "                'NDWI_2',\n",
    "                'SCI',\n",
    "                'CVI',\n",
    "                'CCCI',\n",
    "                'bs','pv','npv'\n",
    "               ]\n",
    "    \n",
    "    importances = rf.feature_importances_\n",
    "    std = np.std([tree.feature_importances_ for tree in rf.estimators_],\n",
    "                axis=0)\n",
    "    indices = np.argsort(importances)[::-1]\n",
    "\n",
    "    plt.figure()\n",
    "    plt.title(\"Feature importances\")\n",
    "    plt.bar(range(X.shape[1]),\n",
    "            importances[indices],\n",
    "            color=\"r\",\n",
    "            yerr=std[indices],\n",
    "            align=\"center\"\n",
    "           )\n",
    "    plt.xticks(range(X.shape[1]), indices)\n",
    "    plt.xlim([-1, X.shape[1]])\n",
    "    plt.show()\n",
    "    \n",
    "    print(\"Feature ranking:\")\n",
    "\n",
    "    for f in range(X.shape[1]):\n",
    "        print(\"%d. Feature %d (%s): %f\" % (f+1, indices[f], FEATURES[indices[f]], importances[indices[f]]))"
   ]
  },
  {
   "cell_type": "markdown",
   "metadata": {},
   "source": [
    "### Print Scores\n",
    "We will display the mean accuracy and F1 scores for the classifier as tested against our test sets."
   ]
  },
  {
   "cell_type": "code",
   "execution_count": 6,
   "metadata": {
    "collapsed": true
   },
   "outputs": [],
   "source": [
    "def print_scores(rf, feature_set, y_pred):\n",
    "    \"\"\"Prints the mean accuracy and F1 scores\n",
    "    \n",
    "    Args:\n",
    "        rf (RandomForestClassifier): The fitted classifier.\n",
    "        feature_set (dict): The dictionary with the testing data. Should have X_test and y_test keys.\n",
    "        y_pred: The results of a prediction with y_test data.\n",
    "    \"\"\"\n",
    "    X_test = feature_set['X_test']\n",
    "    y_test = feature_set['y_test']\n",
    "    \n",
    "    mean_accuracy = rf.score(X_test, y_test)\n",
    "\n",
    "    print(\"The mean accuracy of the model: %f\" % mean_accuracy)\n",
    "    \n",
    "    labels=[\"Forest\",\"Prairie\",\"Summercrops\",\"Naturalgrassland\", \"Misc\"]\n",
    "    labels.sort()\n",
    "\n",
    "\n",
    "    f1_result = f1_score(y_test, y_pred, labels=labels, average=None)\n",
    "    print(\"The F1 scores of the model:\")\n",
    "    for f in range(len(labels)):\n",
    "        print('\\t%s: %f' % (labels[f], f1_result[f]))"
   ]
  },
  {
   "cell_type": "markdown",
   "metadata": {},
   "source": [
    "### Plot a Confusion Matrix\n",
    "We will plot a confusion matrix which will give us an intuitive visualization of the classifier's performance."
   ]
  },
  {
   "cell_type": "code",
   "execution_count": 7,
   "metadata": {
    "collapsed": true
   },
   "outputs": [],
   "source": [
    "class ConfusionMatrix:\n",
    "    \"\"\"A ConfusionMatrix object for displaying confusion matrices.\n",
    "    \n",
    "    Attributes:\n",
    "        cnf_matrix: A calculated confusion matrix from the input variables.\n",
    "        classes: The list of classes to plot.\n",
    "    \"\"\"\n",
    "    def __init__(self, y_test, y_pred, classes):\n",
    "        \"\"\"Initializes the object with the given parameters.\n",
    "        \n",
    "        Args:\n",
    "            y_test: The true test labels.\n",
    "            y_pred: The predicted test labels.\n",
    "            classes: A list of the unique labels in the data.\n",
    "        \"\"\"\n",
    "        self.cnf_matrix = self.compute_confusion_matrix(y_test, y_pred)\n",
    "        classes.sort()\n",
    "        self.classes = classes\n",
    "    \n",
    "    def plot_confusion_matrix(self, normalize=False, title='Confusion matrix', cmap=plt.cm.Blues):\n",
    "        \"\"\"Plots a confusion matrix.\n",
    "        \n",
    "        Args:\n",
    "            normalize: Indicator for whether the matrix should be normalized or not.\n",
    "            title: The title for the confusion matrix.\n",
    "            cmap: The cmap that the confusion matrix will use for coloring.\n",
    "            \n",
    "        Returns:\n",
    "            The plotted confusion matrix.\n",
    "        \n",
    "        Citiation:\n",
    "        https://scikit-learn.org/stable/auto_examples/model_selection/plot_confusion_matrix.html\n",
    "        ---------\n",
    "        This function prints and plots the confusion matrix.\n",
    "        Normalization can be applied by setting `normalize=True`.\n",
    "        \"\"\"\n",
    "        cm = self.cnf_matrix\n",
    "        classes = self.classes\n",
    "        \n",
    "        if normalize:\n",
    "            cm = cm.astype('float') / cm.sum(axis=1)[:, np.newaxis]\n",
    "            print(\"Normalized confusion matrix\")\n",
    "        else:\n",
    "            print('Confusion matrix, without normalization')\n",
    "\n",
    "        print(cm)\n",
    "\n",
    "        plt.imshow(cm, interpolation='nearest', cmap=cmap)\n",
    "        plt.title(title)\n",
    "        plt.colorbar()\n",
    "        tick_marks = np.arange(len(classes))\n",
    "        plt.xticks(tick_marks, classes, rotation=45)\n",
    "        plt.yticks(tick_marks, classes)\n",
    "\n",
    "        fmt = '.2f' if normalize else 'd'\n",
    "        thresh = cm.max() / 2.\n",
    "        for i, j in itertools.product(range(cm.shape[0]), range(cm.shape[1])):\n",
    "            plt.text(j, i, format(cm[i, j], fmt),\n",
    "                     horizontalalignment=\"center\",\n",
    "                     color=\"white\" if cm[i, j] > thresh else \"black\")\n",
    "\n",
    "        plt.ylabel('True label')\n",
    "        plt.xlabel('Predicted label')\n",
    "        plt.tight_layout()\n",
    "        \n",
    "        return plt.show()\n",
    "\n",
    "    def compute_confusion_matrix(self, y_test, y_pred):\n",
    "        \"\"\"Computes the confusion matrix.\n",
    "        \n",
    "        Args:\n",
    "            y_test: The true test labels.\n",
    "            y_pred: The predicted test labels.\n",
    "            \n",
    "        Returns:\n",
    "            A computed confusion matrix.\n",
    "        \"\"\"\n",
    "        # Compute confusion matrix\n",
    "        cnf_matrix = confusion_matrix(y_test, y_pred)\n",
    "        np.set_printoptions(precision=2)\n",
    "        return cnf_matrix"
   ]
  },
  {
   "cell_type": "markdown",
   "metadata": {},
   "source": [
    "## Export Model\n",
    "A function to export the model."
   ]
  },
  {
   "cell_type": "code",
   "execution_count": 8,
   "metadata": {
    "collapsed": true
   },
   "outputs": [],
   "source": [
    "def export_rf(model, path=None):\n",
    "    \"\"\"Exports a RandomForestClassifier.\n",
    "    \n",
    "    Args:\n",
    "        model (RandomForestClassifier): The RandomForestClassifier to export.\n",
    "        path (string): An optional path to export the model to.\n",
    "    \"\"\"\n",
    "    if(path is None):\n",
    "        time = datetime.datetime.now().strftime(\"%Y%m%d%H_%M\")\n",
    "        path = \"./classifiers/models/random_forest_{creation_time}.model\".format(creation_time = time)\n",
    "        \n",
    "    joblib.dump(rf, path)\n",
    "    print('Model saved as: %s' % path)"
   ]
  },
  {
   "cell_type": "markdown",
   "metadata": {},
   "source": [
    "---\n",
    "\n",
    "# Results\n",
    "\n",
    "## Import Data"
   ]
  },
  {
   "cell_type": "code",
   "execution_count": 9,
   "metadata": {
    "collapsed": true,
    "scrolled": true
   },
   "outputs": [],
   "source": [
    "feature_set = get_features()\n",
    "features = feature_set['features']\n",
    "labels = feature_set['labels']"
   ]
  },
  {
   "cell_type": "code",
   "execution_count": 10,
   "metadata": {
    "collapsed": true,
    "scrolled": true
   },
   "outputs": [],
   "source": [
    "ndvi_coeff_var = feature_set['features']['NDVI_coeff_var']"
   ]
  },
  {
   "cell_type": "markdown",
   "metadata": {},
   "source": [
    "## Split Data into Training and Testing Sets"
   ]
  },
  {
   "cell_type": "code",
   "execution_count": 11,
   "metadata": {
    "scrolled": true
   },
   "outputs": [
    {
     "data": {
      "text/plain": [
       "{'X_test': array([[715., 714., 354., ...,  16.,  61.,  19.],\n",
       "        [850., 705., 398., ...,  14.,  48.,  34.],\n",
       "        [567., 706., 308., ...,  14.,  78.,   2.],\n",
       "        ...,\n",
       "        [645., 663., 403., ...,   6.,  60.,  30.],\n",
       "        [547., 658., 387., ...,   9.,  77.,   9.],\n",
       "        [781., 766., 381., ...,   8.,  65.,  24.]]),\n",
       " 'X_train': array([[654., 735., 452., ...,   2.,  56.,  40.],\n",
       "        [659., 773., 413., ...,   8.,  73.,  15.],\n",
       "        [589., 774., 343., ...,  17.,  80.,   0.],\n",
       "        ...,\n",
       "        [758., 721., 414., ...,   6.,  58.,  32.],\n",
       "        [621., 687., 341., ...,  10.,  73.,  13.],\n",
       "        [765., 692., 398., ...,  13.,  66.,  15.]]),\n",
       " 'y_test': array(['Prairie', 'Summercrops', 'Naturalgrassland', 'Misc',\n",
       "        'Naturalgrassland', 'Summercrops', 'Summercrops',\n",
       "        'Naturalgrassland', 'Naturalgrassland', 'Summercrops',\n",
       "        'Naturalgrassland', 'Misc', 'Prairie', 'Naturalgrassland',\n",
       "        'Prairie', 'Summercrops', 'Summercrops', 'Naturalgrassland',\n",
       "        'Misc', 'Naturalgrassland', 'Naturalgrassland', 'Summercrops',\n",
       "        'Summercrops', 'Naturalgrassland', 'Summercrops', 'Summercrops',\n",
       "        'Summercrops', 'Summercrops', 'Naturalgrassland', 'Prairie',\n",
       "        'Misc', 'Naturalgrassland', 'Naturalgrassland', 'Prairie',\n",
       "        'Naturalgrassland', 'Summercrops', 'Naturalgrassland',\n",
       "        'Naturalgrassland', 'Naturalgrassland', 'Prairie', 'Summercrops',\n",
       "        'Prairie', 'Summercrops', 'Naturalgrassland', 'Summercrops',\n",
       "        'Summercrops', 'Forest', 'Prairie', 'Naturalgrassland',\n",
       "        'Naturalgrassland', 'Prairie', 'Summercrops', 'Forest',\n",
       "        'Naturalgrassland', 'Naturalgrassland', 'Summercrops',\n",
       "        'Naturalgrassland', 'Prairie', 'Naturalgrassland',\n",
       "        'Naturalgrassland', 'Naturalgrassland', 'Prairie', 'Summercrops',\n",
       "        'Naturalgrassland', 'Summercrops', 'Naturalgrassland',\n",
       "        'Summercrops', 'Prairie', 'Summercrops', 'Summercrops',\n",
       "        'Naturalgrassland', 'Naturalgrassland', 'Naturalgrassland',\n",
       "        'Naturalgrassland', 'Prairie', 'Summercrops', 'Naturalgrassland',\n",
       "        'Summercrops', 'Summercrops', 'Summercrops', 'Summercrops',\n",
       "        'Summercrops', 'Naturalgrassland', 'Summercrops', 'Summercrops',\n",
       "        'Summercrops', 'Summercrops', 'Misc', 'Naturalgrassland',\n",
       "        'Naturalgrassland', 'Naturalgrassland', 'Naturalgrassland',\n",
       "        'Naturalgrassland', 'Misc', 'Naturalgrassland', 'Summercrops',\n",
       "        'Summercrops', 'Forest', 'Naturalgrassland', 'Summercrops',\n",
       "        'Summercrops', 'Summercrops', 'Naturalgrassland', 'Prairie',\n",
       "        'Prairie', 'Naturalgrassland'], dtype=object),\n",
       " 'y_train': array(['Prairie', 'Naturalgrassland', 'Summercrops', 'Prairie',\n",
       "        'Naturalgrassland', 'Prairie', 'Naturalgrassland', 'Summercrops',\n",
       "        'Prairie', 'Naturalgrassland', 'Prairie', 'Prairie', 'Summercrops',\n",
       "        'Summercrops', 'Naturalgrassland', 'Summercrops',\n",
       "        'Naturalgrassland', 'Naturalgrassland', 'Prairie',\n",
       "        'Naturalgrassland', 'Naturalgrassland', 'Prairie', 'Summercrops',\n",
       "        'Naturalgrassland', 'Summercrops', 'Naturalgrassland',\n",
       "        'Naturalgrassland', 'Summercrops', 'Naturalgrassland',\n",
       "        'Naturalgrassland', 'Naturalgrassland', 'Summercrops',\n",
       "        'Summercrops', 'Summercrops', 'Naturalgrassland', 'Forest',\n",
       "        'Naturalgrassland', 'Summercrops', 'Naturalgrassland',\n",
       "        'Naturalgrassland', 'Summercrops', 'Summercrops', 'Forest',\n",
       "        'Summercrops', 'Naturalgrassland', 'Prairie', 'Prairie',\n",
       "        'Naturalgrassland', 'Summercrops', 'Prairie', 'Naturalgrassland',\n",
       "        'Naturalgrassland', 'Naturalgrassland', 'Forest',\n",
       "        'Naturalgrassland', 'Summercrops', 'Summercrops',\n",
       "        'Naturalgrassland', 'Summercrops', 'Naturalgrassland', 'Prairie',\n",
       "        'Forest', 'Naturalgrassland', 'Naturalgrassland',\n",
       "        'Naturalgrassland', 'Naturalgrassland', 'Misc', 'Naturalgrassland',\n",
       "        'Naturalgrassland', 'Forest', 'Naturalgrassland',\n",
       "        'Naturalgrassland', 'Summercrops', 'Naturalgrassland',\n",
       "        'Naturalgrassland', 'Misc', 'Summercrops', 'Naturalgrassland',\n",
       "        'Prairie', 'Summercrops', 'Forest', 'Summercrops', 'Summercrops',\n",
       "        'Prairie', 'Misc', 'Naturalgrassland', 'Naturalgrassland',\n",
       "        'Naturalgrassland', 'Summercrops', 'Naturalgrassland',\n",
       "        'Naturalgrassland', 'Summercrops', 'Naturalgrassland',\n",
       "        'Naturalgrassland', 'Summercrops', 'Naturalgrassland', 'Forest',\n",
       "        'Prairie', 'Naturalgrassland', 'Naturalgrassland',\n",
       "        'Naturalgrassland', 'Naturalgrassland', 'Summercrops',\n",
       "        'Naturalgrassland', 'Forest', 'Summercrops', 'Naturalgrassland',\n",
       "        'Naturalgrassland', 'Naturalgrassland', 'Naturalgrassland',\n",
       "        'Summercrops', 'Naturalgrassland', 'Naturalgrassland',\n",
       "        'Summercrops', 'Summercrops', 'Summercrops', 'Naturalgrassland',\n",
       "        'Naturalgrassland', 'Naturalgrassland', 'Summercrops',\n",
       "        'Naturalgrassland', 'Summercrops', 'Summercrops', 'Summercrops',\n",
       "        'Misc', 'Naturalgrassland', 'Naturalgrassland', 'Naturalgrassland',\n",
       "        'Naturalgrassland', 'Summercrops', 'Prairie', 'Prairie',\n",
       "        'Naturalgrassland', 'Prairie', 'Naturalgrassland', 'Summercrops',\n",
       "        'Forest', 'Summercrops', 'Prairie', 'Naturalgrassland',\n",
       "        'Naturalgrassland', 'Summercrops', 'Naturalgrassland',\n",
       "        'Summercrops', 'Misc', 'Summercrops', 'Naturalgrassland',\n",
       "        'Prairie', 'Summercrops', 'Prairie', 'Naturalgrassland',\n",
       "        'Summercrops', 'Summercrops', 'Naturalgrassland', 'Prairie',\n",
       "        'Naturalgrassland', 'Naturalgrassland', 'Naturalgrassland',\n",
       "        'Summercrops', 'Naturalgrassland', 'Summercrops',\n",
       "        'Naturalgrassland', 'Prairie', 'Summercrops', 'Naturalgrassland',\n",
       "        'Summercrops', 'Summercrops', 'Prairie', 'Naturalgrassland',\n",
       "        'Summercrops', 'Naturalgrassland', 'Summercrops', 'Forest',\n",
       "        'Summercrops', 'Prairie', 'Misc', 'Naturalgrassland',\n",
       "        'Summercrops', 'Summercrops', 'Forest', 'Naturalgrassland',\n",
       "        'Summercrops', 'Summercrops', 'Naturalgrassland', 'Summercrops',\n",
       "        'Prairie', 'Summercrops', 'Naturalgrassland', 'Forest',\n",
       "        'Summercrops', 'Misc', 'Summercrops', 'Naturalgrassland',\n",
       "        'Prairie', 'Naturalgrassland', 'Naturalgrassland', 'Summercrops',\n",
       "        'Forest', 'Misc', 'Prairie', 'Naturalgrassland',\n",
       "        'Naturalgrassland', 'Summercrops', 'Summercrops', 'Prairie',\n",
       "        'Naturalgrassland', 'Summercrops', 'Forest', 'Naturalgrassland',\n",
       "        'Summercrops', 'Naturalgrassland', 'Prairie', 'Naturalgrassland',\n",
       "        'Naturalgrassland', 'Summercrops', 'Summercrops',\n",
       "        'Naturalgrassland', 'Summercrops', 'Summercrops', 'Prairie',\n",
       "        'Summercrops', 'Prairie', 'Naturalgrassland', 'Summercrops',\n",
       "        'Prairie', 'Summercrops', 'Naturalgrassland', 'Summercrops',\n",
       "        'Prairie', 'Naturalgrassland', 'Summercrops', 'Naturalgrassland',\n",
       "        'Summercrops', 'Prairie', 'Summercrops', 'Summercrops',\n",
       "        'Summercrops', 'Summercrops', 'Prairie', 'Naturalgrassland',\n",
       "        'Summercrops', 'Prairie', 'Naturalgrassland', 'Naturalgrassland',\n",
       "        'Naturalgrassland', 'Summercrops', 'Summercrops', 'Summercrops',\n",
       "        'Misc', 'Naturalgrassland', 'Prairie', 'Prairie', 'Misc',\n",
       "        'Naturalgrassland', 'Prairie', 'Summercrops', 'Summercrops',\n",
       "        'Naturalgrassland', 'Summercrops', 'Naturalgrassland',\n",
       "        'Summercrops', 'Prairie', 'Naturalgrassland', 'Forest',\n",
       "        'Naturalgrassland', 'Prairie', 'Forest', 'Summercrops',\n",
       "        'Naturalgrassland', 'Naturalgrassland', 'Naturalgrassland',\n",
       "        'Naturalgrassland', 'Summercrops', 'Summercrops', 'Summercrops',\n",
       "        'Naturalgrassland', 'Naturalgrassland', 'Summercrops', 'Misc',\n",
       "        'Summercrops', 'Naturalgrassland', 'Naturalgrassland',\n",
       "        'Naturalgrassland', 'Summercrops', 'Summercrops', 'Summercrops',\n",
       "        'Summercrops', 'Summercrops', 'Summercrops', 'Summercrops',\n",
       "        'Naturalgrassland', 'Prairie', 'Summercrops', 'Naturalgrassland',\n",
       "        'Summercrops', 'Naturalgrassland', 'Summercrops',\n",
       "        'Naturalgrassland', 'Prairie', 'Naturalgrassland', 'Summercrops',\n",
       "        'Forest', 'Naturalgrassland', 'Naturalgrassland',\n",
       "        'Naturalgrassland', 'Forest', 'Misc', 'Summercrops', 'Forest',\n",
       "        'Naturalgrassland', 'Summercrops', 'Naturalgrassland',\n",
       "        'Summercrops', 'Summercrops', 'Naturalgrassland',\n",
       "        'Naturalgrassland', 'Naturalgrassland', 'Summercrops'],\n",
       "       dtype=object)}"
      ]
     },
     "execution_count": 11,
     "metadata": {},
     "output_type": "execute_result"
    }
   ],
   "source": [
    "feature_set = split_features(feature_set)\n",
    "feature_set"
   ]
  },
  {
   "cell_type": "markdown",
   "metadata": {},
   "source": [
    "## Grid Search\n",
    "Very slow (typically takes 1h 20m), and the results are about the same as a randomized search. You can uncomment to use it for yourself."
   ]
  },
  {
   "cell_type": "code",
   "execution_count": 12,
   "metadata": {
    "collapsed": true
   },
   "outputs": [],
   "source": [
    "#rf = grid_search(feature_set)\n",
    "#rf"
   ]
  },
  {
   "cell_type": "markdown",
   "metadata": {},
   "source": [
    "## Random Search\n",
    "Faster than Grid Search (takes about 2m for 50 iterations)"
   ]
  },
  {
   "cell_type": "code",
   "execution_count": 13,
   "metadata": {
    "scrolled": true
   },
   "outputs": [
    {
     "data": {
      "text/plain": [
       "RandomForestClassifier(bootstrap=True, class_weight=None, criterion='entropy',\n",
       "            max_depth=80, max_features='auto', max_leaf_nodes=None,\n",
       "            min_impurity_split=1e-07, min_samples_leaf=1,\n",
       "            min_samples_split=10, min_weight_fraction_leaf=0.0,\n",
       "            n_estimators=640, n_jobs=1, oob_score=False, random_state=42,\n",
       "            verbose=0, warm_start=False)"
      ]
     },
     "execution_count": 13,
     "metadata": {},
     "output_type": "execute_result"
    }
   ],
   "source": [
    "rf = random_search(feature_set, 100)\n",
    "rf"
   ]
  },
  {
   "cell_type": "markdown",
   "metadata": {},
   "source": [
    "## Show Important Features"
   ]
  },
  {
   "cell_type": "code",
   "execution_count": 14,
   "metadata": {},
   "outputs": [
    {
     "data": {
      "image/png": "[encoded data removed]",
      "text/plain": [
       "<Figure size 432x288 with 1 Axes>"
      ]
     },
     "metadata": {},
     "output_type": "display_data"
    },
    {
     "name": "stdout",
     "output_type": "stream",
     "text": [
      "Feature ranking:\n",
      "1. Feature 7 (NDVI_coeff_var): 0.247345\n",
      "2. Feature 4 (swir1): 0.073099\n",
      "3. Feature 10 (NBR2): 0.070139\n",
      "4. Feature 1 (green): 0.066232\n",
      "5. Feature 2 (blue): 0.052126\n",
      "6. Feature 11 (NDWI_2): 0.047934\n",
      "7. Feature 5 (swir2): 0.047238\n",
      "8. Feature 0 (red): 0.044805\n",
      "9. Feature 13 (CVI): 0.041045\n",
      "10. Feature 8 (PNDVI): 0.040615\n",
      "11. Feature 6 (NDVI): 0.040113\n",
      "12. Feature 14 (CCCI): 0.037198\n",
      "13. Feature 9 (NBR): 0.034427\n",
      "14. Feature 15 (bs): 0.034157\n",
      "15. Feature 16 (pv): 0.033251\n",
      "16. Feature 12 (SCI): 0.032977\n",
      "17. Feature 3 (nir): 0.030660\n",
      "18. Feature 17 (npv): 0.026640\n"
     ]
    }
   ],
   "source": [
    "importances_plot(rf, features.values)"
   ]
  },
  {
   "cell_type": "markdown",
   "metadata": {},
   "source": [
    "## Print Scores\n",
    "The mean accuracy show us the fraction of correct predictions.\n",
    "\n",
    "The F1 score shows us the weighted harmonic mean of precision and recall. \n",
    "\n",
    "Precision is $\\frac{true\\_positives}{true\\_positives + false\\_positives}$ \n",
    "\n",
    "Recall is $\\frac{true\\_positives}{true\\_positives + false\\_negatives}$"
   ]
  },
  {
   "cell_type": "code",
   "execution_count": 15,
   "metadata": {},
   "outputs": [
    {
     "name": "stdout",
     "output_type": "stream",
     "text": [
      "The mean accuracy of the model: 0.698113\n",
      "The F1 scores of the model:\n",
      "\tForest: 0.666667\n",
      "\tMisc: 0.500000\n",
      "\tNaturalgrassland: 0.847059\n",
      "\tPrairie: 0.222222\n",
      "\tSummercrops: 0.673684\n"
     ]
    }
   ],
   "source": [
    "y_pred = rf.predict(feature_set['X_test'])\n",
    "\n",
    "print_scores(rf, feature_set, y_pred)"
   ]
  },
  {
   "cell_type": "markdown",
   "metadata": {},
   "source": [
    "## Show Confusion Matrix"
   ]
  },
  {
   "cell_type": "code",
   "execution_count": 16,
   "metadata": {
    "scrolled": false
   },
   "outputs": [
    {
     "name": "stdout",
     "output_type": "stream",
     "text": [
      "Confusion matrix, without normalization\n",
      "[[ 2  0  0  0  1]\n",
      " [ 1  2  0  0  3]\n",
      " [ 0  0 36  0  7]\n",
      " [ 0  0  0  2 13]\n",
      " [ 0  0  6  1 32]]\n"
     ]
    },
    {
     "data": {
      "image/png": "[encoded data removed]",
      "text/plain": [
       "<Figure size 720x576 with 2 Axes>"
      ]
     },
     "metadata": {},
     "output_type": "display_data"
    },
    {
     "name": "stdout",
     "output_type": "stream",
     "text": [
      "Normalized confusion matrix\n",
      "[[0.67 0.   0.   0.   0.33]\n",
      " [0.17 0.33 0.   0.   0.5 ]\n",
      " [0.   0.   0.84 0.   0.16]\n",
      " [0.   0.   0.   0.13 0.87]\n",
      " [0.   0.   0.15 0.03 0.82]]\n"
     ]
    },
    {
     "data": {
      "image/png": "[encoded data removed]",
      "text/plain": [
       "<Figure size 720x576 with 2 Axes>"
      ]
     },
     "metadata": {},
     "output_type": "display_data"
    }
   ],
   "source": [
    "classes = ['Forest',\n",
    "           'Misc',\n",
    "           'Naturalgrassland',\n",
    "           'Prairie',\n",
    "           'Summercrops'\n",
    "          ]\n",
    "\n",
    "cm = ConfusionMatrix(feature_set['y_test'], y_pred, classes)\n",
    "\n",
    "plt.figure(figsize=(10, 8))\n",
    "cm.plot_confusion_matrix(title='Confusion matrix, without normalization')\n",
    "\n",
    "plt.figure(figsize=(10, 8))\n",
    "cm.plot_confusion_matrix(normalize=True, title='Normalized confusion matrix')"
   ]
  },
  {
   "cell_type": "markdown",
   "metadata": {},
   "source": [
    "---\n",
    "# Export Model for Later Use\n",
    "\n",
    "We will export the model as a binary file. This will allow us to use the model we've generated for classification of new data elsewhere."
   ]
  },
  {
   "cell_type": "code",
   "execution_count": 17,
   "metadata": {},
   "outputs": [
    {
     "name": "stdout",
     "output_type": "stream",
     "text": [
      "Model saved as: ./classifiers/models/random_forest_2019030521_02.model\n"
     ]
    }
   ],
   "source": [
    "export_rf(rf)"
   ]
  }
 ],
 "metadata": {
  "kernelspec": {
   "display_name": "Python 3",
   "language": "python",
   "name": "python3"
  },
  "language_info": {
   "codemirror_mode": {
    "name": "ipython",
    "version": 3
   },
   "file_extension": ".py",
   "mimetype": "text/x-python",
   "name": "python",
   "nbconvert_exporter": "python",
   "pygments_lexer": "ipython3",
   "version": "3.6.9"
  }
 },
 "nbformat": 4,
 "nbformat_minor": 2
}
