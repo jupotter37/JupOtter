{
 "cells": [
  {
   "cell_type": "markdown",
   "metadata": {},
   "source": [
    "# Tahoe Healthcare\n",
    "## How to reduce readmissions to each hospital\n",
    "- The goal of this case is exploratory data analysis to understand what factors are the biggest indicator or readmissions. This way, instead of rolling out 'Care Tracker' to every patient ( which costs `$1,200` per patient), only the groups of patients most at risk of being re-admitted will be enrolled into the Care Tracker program.\n",
    "- The first section will be some basic exploratory data analysis to understand the makeup of the patient data.\n",
    "- The second section will look into clustering from both a manegerial and statistical perspective.\n",
    "- The third second will work on fitting different supervised marchine learning classification models (based on RMSE) to predict readmission.\n",
    "- The fourth section will outline the most important variables to predict readmission, total money saved, as well as recommendations to Tahoe Healthcare."
   ]
  },
  {
   "cell_type": "markdown",
   "metadata": {},
   "source": [
    "## Exploratory data analysis"
   ]
  },
  {
   "cell_type": "code",
   "execution_count": 3,
   "metadata": {
    "collapsed": false
   },
   "outputs": [
    {
     "name": "stdout",
     "output_type": "stream",
     "text": [
      "Populating the interactive namespace from numpy and matplotlib\n"
     ]
    },
    {
     "name": "stderr",
     "output_type": "stream",
     "text": [
      "/Users/jonathanhilgart/anaconda/lib/python3.5/site-packages/IPython/core/magics/pylab.py:161: UserWarning: pylab import has clobbered these variables: ['product']\n",
      "`%matplotlib` prevents importing * from pylab and numpy\n",
      "  \"\\n`%matplotlib` prevents importing * from pylab and numpy\"\n"
     ]
    }
   ],
   "source": [
    "import pandas as pd\n",
    "import numpy as np\n",
    "import seaborn as sns\n",
    "from itertools import product\n",
    "from collections import defaultdict\n",
    "from sklearn.cluster import KMeans\n",
    "from sklearn.metrics import silhouette_score\n",
    "from sklearn.ensemble import RandomForestClassifier\n",
    "from model_testing import Model_Testing_Regression\n",
    "from scipy.spatial.distance import euclidean\n",
    "from sklearn.metrics import r2_score\n",
    "from sklearn.linear_model import LogisticRegression\n",
    "from sklearn.model_selection import train_test_split\n",
    "from sklearn.metrics import accuracy_score\n",
    "from sklearn.metrics import roc_curve, auc, confusion_matrix\n",
    "from  sklearn.ensemble import GradientBoostingClassifier\n",
    "from sklearn.svm import SVC\n",
    "from sklearn.model_selection import GridSearchCV\n",
    "from operator import itemgetter\n",
    "from sklearn.preprocessing import StandardScaler\n",
    "%pylab inline"
   ]
  },
  {
   "cell_type": "code",
   "execution_count": 4,
   "metadata": {
    "collapsed": true
   },
   "outputs": [],
   "source": [
    "tahoe_df = pd.read_csv('Final Project Data_Case.csv')\n"
   ]
  },
  {
   "cell_type": "code",
   "execution_count": 5,
   "metadata": {
    "collapsed": false
   },
   "outputs": [
    {
     "data": {
      "text/html": [
       "<div>\n",
       "<table border=\"1\" class=\"dataframe\">\n",
       "  <thead>\n",
       "    <tr style=\"text-align: right;\">\n",
       "      <th></th>\n",
       "      <th>﻿age</th>\n",
       "      <th>female</th>\n",
       "      <th>flu_season</th>\n",
       "      <th>ed_admit</th>\n",
       "      <th>severity score</th>\n",
       "      <th>comorbidity score</th>\n",
       "      <th>readmit30</th>\n",
       "    </tr>\n",
       "  </thead>\n",
       "  <tbody>\n",
       "    <tr>\n",
       "      <th>4377</th>\n",
       "      <td>88</td>\n",
       "      <td>1</td>\n",
       "      <td>0</td>\n",
       "      <td>1</td>\n",
       "      <td>34</td>\n",
       "      <td>94</td>\n",
       "      <td>0</td>\n",
       "    </tr>\n",
       "    <tr>\n",
       "      <th>4378</th>\n",
       "      <td>98</td>\n",
       "      <td>0</td>\n",
       "      <td>0</td>\n",
       "      <td>1</td>\n",
       "      <td>51</td>\n",
       "      <td>136</td>\n",
       "      <td>0</td>\n",
       "    </tr>\n",
       "    <tr>\n",
       "      <th>4379</th>\n",
       "      <td>84</td>\n",
       "      <td>1</td>\n",
       "      <td>0</td>\n",
       "      <td>1</td>\n",
       "      <td>10</td>\n",
       "      <td>32</td>\n",
       "      <td>0</td>\n",
       "    </tr>\n",
       "    <tr>\n",
       "      <th>4380</th>\n",
       "      <td>67</td>\n",
       "      <td>1</td>\n",
       "      <td>1</td>\n",
       "      <td>1</td>\n",
       "      <td>10</td>\n",
       "      <td>73</td>\n",
       "      <td>0</td>\n",
       "    </tr>\n",
       "    <tr>\n",
       "      <th>4381</th>\n",
       "      <td>79</td>\n",
       "      <td>1</td>\n",
       "      <td>0</td>\n",
       "      <td>1</td>\n",
       "      <td>20</td>\n",
       "      <td>92</td>\n",
       "      <td>0</td>\n",
       "    </tr>\n",
       "  </tbody>\n",
       "</table>\n",
       "</div>"
      ],
      "text/plain": [
       "      ﻿age  female  flu_season  ed_admit  severity score  comorbidity score  \\\n",
       "4377    88       1           0         1              34                 94   \n",
       "4378    98       0           0         1              51                136   \n",
       "4379    84       1           0         1              10                 32   \n",
       "4380    67       1           1         1              10                 73   \n",
       "4381    79       1           0         1              20                 92   \n",
       "\n",
       "      readmit30  \n",
       "4377          0  \n",
       "4378          0  \n",
       "4379          0  \n",
       "4380          0  \n",
       "4381          0  "
      ]
     },
     "execution_count": 5,
     "metadata": {},
     "output_type": "execute_result"
    }
   ],
   "source": [
    "tahoe_df.tail()"
   ]
  },
  {
   "cell_type": "markdown",
   "metadata": {},
   "source": [
    "- Rename the columns to make them easier to work with\n"
   ]
  },
  {
   "cell_type": "code",
   "execution_count": 6,
   "metadata": {
    "collapsed": false
   },
   "outputs": [],
   "source": [
    "tahoe_df['age']=tahoe_df['﻿age']\n",
    "tahoe_df['severity_score']=tahoe_df['severity score']\n",
    "tahoe_df['comorbidity_score'] = tahoe_df['comorbidity score']\n",
    "tahoe_df.drop(['﻿age','severity score','comorbidity score'],axis=1,inplace=True)"
   ]
  },
  {
   "cell_type": "code",
   "execution_count": 7,
   "metadata": {
    "collapsed": false
   },
   "outputs": [
    {
     "name": "stdout",
     "output_type": "stream",
     "text": [
      "<class 'pandas.core.frame.DataFrame'>\n",
      "RangeIndex: 4382 entries, 0 to 4381\n",
      "Data columns (total 7 columns):\n",
      "female               4382 non-null int64\n",
      "flu_season           4382 non-null int64\n",
      "ed_admit             4382 non-null int64\n",
      "readmit30            4382 non-null int64\n",
      "age                  4382 non-null int64\n",
      "severity_score       4382 non-null int64\n",
      "comorbidity_score    4382 non-null int64\n",
      "dtypes: int64(7)\n",
      "memory usage: 239.7 KB\n"
     ]
    }
   ],
   "source": [
    "tahoe_df.info()"
   ]
  },
  {
   "cell_type": "code",
   "execution_count": 8,
   "metadata": {
    "collapsed": true
   },
   "outputs": [],
   "source": [
    "# 4,382 patient records"
   ]
  },
  {
   "cell_type": "code",
   "execution_count": 9,
   "metadata": {
    "collapsed": false
   },
   "outputs": [
    {
     "data": {
      "text/html": [
       "<div>\n",
       "<table border=\"1\" class=\"dataframe\">\n",
       "  <thead>\n",
       "    <tr style=\"text-align: right;\">\n",
       "      <th></th>\n",
       "      <th>female</th>\n",
       "      <th>flu_season</th>\n",
       "      <th>ed_admit</th>\n",
       "      <th>readmit30</th>\n",
       "      <th>age</th>\n",
       "      <th>severity_score</th>\n",
       "      <th>comorbidity_score</th>\n",
       "    </tr>\n",
       "  </thead>\n",
       "  <tbody>\n",
       "    <tr>\n",
       "      <th>count</th>\n",
       "      <td>4382.000000</td>\n",
       "      <td>4382.000000</td>\n",
       "      <td>4382.000000</td>\n",
       "      <td>4382.000000</td>\n",
       "      <td>4382.000000</td>\n",
       "      <td>4382.000000</td>\n",
       "      <td>4382.000000</td>\n",
       "    </tr>\n",
       "    <tr>\n",
       "      <th>mean</th>\n",
       "      <td>0.469192</td>\n",
       "      <td>0.408033</td>\n",
       "      <td>0.809220</td>\n",
       "      <td>0.227750</td>\n",
       "      <td>76.847330</td>\n",
       "      <td>22.353263</td>\n",
       "      <td>94.735509</td>\n",
       "    </tr>\n",
       "    <tr>\n",
       "      <th>std</th>\n",
       "      <td>0.499107</td>\n",
       "      <td>0.491525</td>\n",
       "      <td>0.392961</td>\n",
       "      <td>0.419428</td>\n",
       "      <td>7.904949</td>\n",
       "      <td>18.005320</td>\n",
       "      <td>57.145155</td>\n",
       "    </tr>\n",
       "    <tr>\n",
       "      <th>min</th>\n",
       "      <td>0.000000</td>\n",
       "      <td>0.000000</td>\n",
       "      <td>0.000000</td>\n",
       "      <td>0.000000</td>\n",
       "      <td>65.000000</td>\n",
       "      <td>1.000000</td>\n",
       "      <td>1.000000</td>\n",
       "    </tr>\n",
       "    <tr>\n",
       "      <th>25%</th>\n",
       "      <td>0.000000</td>\n",
       "      <td>0.000000</td>\n",
       "      <td>1.000000</td>\n",
       "      <td>0.000000</td>\n",
       "      <td>70.000000</td>\n",
       "      <td>8.000000</td>\n",
       "      <td>51.000000</td>\n",
       "    </tr>\n",
       "    <tr>\n",
       "      <th>50%</th>\n",
       "      <td>0.000000</td>\n",
       "      <td>0.000000</td>\n",
       "      <td>1.000000</td>\n",
       "      <td>0.000000</td>\n",
       "      <td>76.000000</td>\n",
       "      <td>19.000000</td>\n",
       "      <td>86.000000</td>\n",
       "    </tr>\n",
       "    <tr>\n",
       "      <th>75%</th>\n",
       "      <td>1.000000</td>\n",
       "      <td>1.000000</td>\n",
       "      <td>1.000000</td>\n",
       "      <td>0.000000</td>\n",
       "      <td>82.000000</td>\n",
       "      <td>32.000000</td>\n",
       "      <td>131.000000</td>\n",
       "    </tr>\n",
       "    <tr>\n",
       "      <th>max</th>\n",
       "      <td>1.000000</td>\n",
       "      <td>1.000000</td>\n",
       "      <td>1.000000</td>\n",
       "      <td>1.000000</td>\n",
       "      <td>105.000000</td>\n",
       "      <td>112.000000</td>\n",
       "      <td>322.000000</td>\n",
       "    </tr>\n",
       "  </tbody>\n",
       "</table>\n",
       "</div>"
      ],
      "text/plain": [
       "            female   flu_season     ed_admit    readmit30          age  \\\n",
       "count  4382.000000  4382.000000  4382.000000  4382.000000  4382.000000   \n",
       "mean      0.469192     0.408033     0.809220     0.227750    76.847330   \n",
       "std       0.499107     0.491525     0.392961     0.419428     7.904949   \n",
       "min       0.000000     0.000000     0.000000     0.000000    65.000000   \n",
       "25%       0.000000     0.000000     1.000000     0.000000    70.000000   \n",
       "50%       0.000000     0.000000     1.000000     0.000000    76.000000   \n",
       "75%       1.000000     1.000000     1.000000     0.000000    82.000000   \n",
       "max       1.000000     1.000000     1.000000     1.000000   105.000000   \n",
       "\n",
       "       severity_score  comorbidity_score  \n",
       "count     4382.000000        4382.000000  \n",
       "mean        22.353263          94.735509  \n",
       "std         18.005320          57.145155  \n",
       "min          1.000000           1.000000  \n",
       "25%          8.000000          51.000000  \n",
       "50%         19.000000          86.000000  \n",
       "75%         32.000000         131.000000  \n",
       "max        112.000000         322.000000  "
      ]
     },
     "execution_count": 9,
     "metadata": {},
     "output_type": "execute_result"
    }
   ],
   "source": [
    "tahoe_df.describe()"
   ]
  },
  {
   "cell_type": "markdown",
   "metadata": {},
   "source": [
    "- Age varies from 65 to 105\n",
    "- Slightly more males\n",
    "- More admits outside of flue season, \n",
    "- Majority are emergency room admits\n",
    "- Most admits have fairly high severity score and comordibity score\n",
    "- About 23% readmit after 30 days"
   ]
  },
  {
   "cell_type": "code",
   "execution_count": 10,
   "metadata": {
    "collapsed": false
   },
   "outputs": [
    {
     "data": {
      "text/html": [
       "<div>\n",
       "<table border=\"1\" class=\"dataframe\">\n",
       "  <thead>\n",
       "    <tr style=\"text-align: right;\">\n",
       "      <th></th>\n",
       "      <th>female</th>\n",
       "      <th>flu_season</th>\n",
       "      <th>ed_admit</th>\n",
       "      <th>readmit30</th>\n",
       "      <th>age</th>\n",
       "      <th>severity_score</th>\n",
       "      <th>comorbidity_score</th>\n",
       "    </tr>\n",
       "  </thead>\n",
       "  <tbody>\n",
       "    <tr>\n",
       "      <th>female</th>\n",
       "      <td>1.000000</td>\n",
       "      <td>0.014966</td>\n",
       "      <td>0.122485</td>\n",
       "      <td>0.042248</td>\n",
       "      <td>0.149257</td>\n",
       "      <td>0.095394</td>\n",
       "      <td>0.005320</td>\n",
       "    </tr>\n",
       "    <tr>\n",
       "      <th>flu_season</th>\n",
       "      <td>0.014966</td>\n",
       "      <td>1.000000</td>\n",
       "      <td>-0.012863</td>\n",
       "      <td>0.121551</td>\n",
       "      <td>-0.011575</td>\n",
       "      <td>0.003079</td>\n",
       "      <td>-0.012914</td>\n",
       "    </tr>\n",
       "    <tr>\n",
       "      <th>ed_admit</th>\n",
       "      <td>0.122485</td>\n",
       "      <td>-0.012863</td>\n",
       "      <td>1.000000</td>\n",
       "      <td>0.054564</td>\n",
       "      <td>0.139642</td>\n",
       "      <td>0.335556</td>\n",
       "      <td>0.030971</td>\n",
       "    </tr>\n",
       "    <tr>\n",
       "      <th>readmit30</th>\n",
       "      <td>0.042248</td>\n",
       "      <td>0.121551</td>\n",
       "      <td>0.054564</td>\n",
       "      <td>1.000000</td>\n",
       "      <td>0.102466</td>\n",
       "      <td>0.250942</td>\n",
       "      <td>0.383048</td>\n",
       "    </tr>\n",
       "    <tr>\n",
       "      <th>age</th>\n",
       "      <td>0.149257</td>\n",
       "      <td>-0.011575</td>\n",
       "      <td>0.139642</td>\n",
       "      <td>0.102466</td>\n",
       "      <td>1.000000</td>\n",
       "      <td>0.281042</td>\n",
       "      <td>0.161160</td>\n",
       "    </tr>\n",
       "    <tr>\n",
       "      <th>severity_score</th>\n",
       "      <td>0.095394</td>\n",
       "      <td>0.003079</td>\n",
       "      <td>0.335556</td>\n",
       "      <td>0.250942</td>\n",
       "      <td>0.281042</td>\n",
       "      <td>1.000000</td>\n",
       "      <td>0.196759</td>\n",
       "    </tr>\n",
       "    <tr>\n",
       "      <th>comorbidity_score</th>\n",
       "      <td>0.005320</td>\n",
       "      <td>-0.012914</td>\n",
       "      <td>0.030971</td>\n",
       "      <td>0.383048</td>\n",
       "      <td>0.161160</td>\n",
       "      <td>0.196759</td>\n",
       "      <td>1.000000</td>\n",
       "    </tr>\n",
       "  </tbody>\n",
       "</table>\n",
       "</div>"
      ],
      "text/plain": [
       "                     female  flu_season  ed_admit  readmit30       age  \\\n",
       "female             1.000000    0.014966  0.122485   0.042248  0.149257   \n",
       "flu_season         0.014966    1.000000 -0.012863   0.121551 -0.011575   \n",
       "ed_admit           0.122485   -0.012863  1.000000   0.054564  0.139642   \n",
       "readmit30          0.042248    0.121551  0.054564   1.000000  0.102466   \n",
       "age                0.149257   -0.011575  0.139642   0.102466  1.000000   \n",
       "severity_score     0.095394    0.003079  0.335556   0.250942  0.281042   \n",
       "comorbidity_score  0.005320   -0.012914  0.030971   0.383048  0.161160   \n",
       "\n",
       "                   severity_score  comorbidity_score  \n",
       "female                   0.095394           0.005320  \n",
       "flu_season               0.003079          -0.012914  \n",
       "ed_admit                 0.335556           0.030971  \n",
       "readmit30                0.250942           0.383048  \n",
       "age                      0.281042           0.161160  \n",
       "severity_score           1.000000           0.196759  \n",
       "comorbidity_score        0.196759           1.000000  "
      ]
     },
     "execution_count": 10,
     "metadata": {},
     "output_type": "execute_result"
    }
   ],
   "source": [
    "tahoe_corr_matrix = tahoe_df.corr()\n",
    "tahoe_corr_matrix"
   ]
  },
  {
   "cell_type": "code",
   "execution_count": 11,
   "metadata": {
    "collapsed": false
   },
   "outputs": [
    {
     "data": {
      "image/png": "[encoded data removed]",
      "text/plain": [
       "<matplotlib.figure.Figure at 0x1156a27f0>"
      ]
     },
     "metadata": {},
     "output_type": "display_data"
    }
   ],
   "source": [
    "sns.heatmap(tahoe_corr_matrix);"
   ]
  },
  {
   "cell_type": "markdown",
   "metadata": {},
   "source": [
    "- Interested in correlations with readmit30\n",
    "    - High correlation with comorbidty score, severity score, and to a lesser extend flu season and age\n",
    "- Next, plot the distributions of these variables"
   ]
  },
  {
   "cell_type": "code",
   "execution_count": 12,
   "metadata": {
    "collapsed": false
   },
   "outputs": [
    {
     "name": "stderr",
     "output_type": "stream",
     "text": [
      "/Users/jonathanhilgart/anaconda/lib/python3.5/site-packages/statsmodels/nonparametric/kdetools.py:20: VisibleDeprecationWarning: using a non-integer number instead of an integer will result in an error in the future\n",
      "  y = X[:m/2+1] + np.r_[0,X[m/2+1:],0]*1j\n"
     ]
    },
    {
     "data": {
      "image/png": "[encoded data removed]",
      "text/plain": [
       "<matplotlib.figure.Figure at 0x117f67518>"
      ]
     },
     "metadata": {},
     "output_type": "display_data"
    }
   ],
   "source": [
    "sns.distplot(tahoe_df.loc[:,'age']);"
   ]
  },
  {
   "cell_type": "code",
   "execution_count": 13,
   "metadata": {
    "collapsed": false
   },
   "outputs": [
    {
     "name": "stderr",
     "output_type": "stream",
     "text": [
      "/Users/jonathanhilgart/anaconda/lib/python3.5/site-packages/statsmodels/nonparametric/kdetools.py:20: VisibleDeprecationWarning: using a non-integer number instead of an integer will result in an error in the future\n",
      "  y = X[:m/2+1] + np.r_[0,X[m/2+1:],0]*1j\n"
     ]
    },
    {
     "data": {
      "image/png": "[encoded data removed]",
      "text/plain": [
       "<matplotlib.figure.Figure at 0x1188473c8>"
      ]
     },
     "metadata": {},
     "output_type": "display_data"
    }
   ],
   "source": [
    "sns.distplot(tahoe_df.loc[:,'female']);"
   ]
  },
  {
   "cell_type": "code",
   "execution_count": 14,
   "metadata": {
    "collapsed": false
   },
   "outputs": [
    {
     "name": "stderr",
     "output_type": "stream",
     "text": [
      "/Users/jonathanhilgart/anaconda/lib/python3.5/site-packages/statsmodels/nonparametric/kdetools.py:20: VisibleDeprecationWarning: using a non-integer number instead of an integer will result in an error in the future\n",
      "  y = X[:m/2+1] + np.r_[0,X[m/2+1:],0]*1j\n"
     ]
    },
    {
     "data": {
      "image/png": "[encoded data removed]",
      "text/plain": [
       "<matplotlib.figure.Figure at 0x117fb8a58>"
      ]
     },
     "metadata": {},
     "output_type": "display_data"
    }
   ],
   "source": [
    "sns.distplot(tahoe_df.loc[:,'flu_season']);"
   ]
  },
  {
   "cell_type": "code",
   "execution_count": 15,
   "metadata": {
    "collapsed": false
   },
   "outputs": [
    {
     "name": "stderr",
     "output_type": "stream",
     "text": [
      "/Users/jonathanhilgart/anaconda/lib/python3.5/site-packages/statsmodels/nonparametric/kdetools.py:20: VisibleDeprecationWarning: using a non-integer number instead of an integer will result in an error in the future\n",
      "  y = X[:m/2+1] + np.r_[0,X[m/2+1:],0]*1j\n"
     ]
    },
    {
     "data": {
      "image/png": "[encoded data removed]",
      "text/plain": [
       "<matplotlib.figure.Figure at 0x118a16e10>"
      ]
     },
     "metadata": {},
     "output_type": "display_data"
    }
   ],
   "source": [
    "sns.distplot(tahoe_df.loc[:,'ed_admit']);"
   ]
  },
  {
   "cell_type": "code",
   "execution_count": 16,
   "metadata": {
    "collapsed": false
   },
   "outputs": [
    {
     "name": "stderr",
     "output_type": "stream",
     "text": [
      "/Users/jonathanhilgart/anaconda/lib/python3.5/site-packages/statsmodels/nonparametric/kdetools.py:20: VisibleDeprecationWarning: using a non-integer number instead of an integer will result in an error in the future\n",
      "  y = X[:m/2+1] + np.r_[0,X[m/2+1:],0]*1j\n"
     ]
    },
    {
     "data": {
      "image/png": "[encoded data removed]",
      "text/plain": [
       "<matplotlib.figure.Figure at 0x118d27630>"
      ]
     },
     "metadata": {},
     "output_type": "display_data"
    }
   ],
   "source": [
    "sns.distplot(tahoe_df.loc[:,'severity_score']);"
   ]
  },
  {
   "cell_type": "code",
   "execution_count": 17,
   "metadata": {
    "collapsed": false
   },
   "outputs": [
    {
     "name": "stderr",
     "output_type": "stream",
     "text": [
      "/Users/jonathanhilgart/anaconda/lib/python3.5/site-packages/statsmodels/nonparametric/kdetools.py:20: VisibleDeprecationWarning: using a non-integer number instead of an integer will result in an error in the future\n",
      "  y = X[:m/2+1] + np.r_[0,X[m/2+1:],0]*1j\n"
     ]
    },
    {
     "data": {
      "image/png": "[encoded data removed]",
      "text/plain": [
       "<matplotlib.figure.Figure at 0x1189d3898>"
      ]
     },
     "metadata": {},
     "output_type": "display_data"
    }
   ],
   "source": [
    "sns.distplot(tahoe_df.loc[:,'comorbidity_score']);"
   ]
  },
  {
   "cell_type": "markdown",
   "metadata": {},
   "source": [
    "## Cluster the patients\n",
    "- First, managerial clustering\n",
    "    - Cluster on the percentiles of comorbidty score, severity score, and flu season. There are four quartiles for each of the first two varaibles (and two for the second for a total of 32 `bclusters\n",
    "- Second, statistical clustering\n",
    "    - K-means will be used on all of the varaibles to determine the optimal clustering strategy"
   ]
  },
  {
   "cell_type": "code",
   "execution_count": 18,
   "metadata": {
    "collapsed": false
   },
   "outputs": [],
   "source": [
    "tahoe_quartiles = tahoe_df.describe()"
   ]
  },
  {
   "cell_type": "code",
   "execution_count": 19,
   "metadata": {
    "collapsed": false
   },
   "outputs": [],
   "source": [
    "severity_score_quartiles = [i for i in tahoe_quartiles['severity_score'].iloc[4:7]]\n",
    "severity_score_quartiles.append(33) ## to account for last quartile\n",
    "comorbidity_score_quartiles = [i for i in tahoe_quartiles['comorbidity_score'].iloc[4:7]]\n",
    "comorbidity_score_quartiles.append(132)## to account for last quartile\n",
    "flu_season=[.1,.9] # greater than or less than this (i.e. 0 or 1)"
   ]
  },
  {
   "cell_type": "code",
   "execution_count": 20,
   "metadata": {
    "collapsed": false
   },
   "outputs": [
    {
     "data": {
      "text/html": [
       "<div>\n",
       "<table border=\"1\" class=\"dataframe\">\n",
       "  <thead>\n",
       "    <tr style=\"text-align: right;\">\n",
       "      <th></th>\n",
       "      <th>severity_score</th>\n",
       "      <th>comorbidity_score</th>\n",
       "      <th>flu_season</th>\n",
       "    </tr>\n",
       "  </thead>\n",
       "  <tbody>\n",
       "    <tr>\n",
       "      <th>count</th>\n",
       "      <td>4382.000000</td>\n",
       "      <td>4382.000000</td>\n",
       "      <td>4382.000000</td>\n",
       "    </tr>\n",
       "    <tr>\n",
       "      <th>mean</th>\n",
       "      <td>22.353263</td>\n",
       "      <td>94.735509</td>\n",
       "      <td>0.408033</td>\n",
       "    </tr>\n",
       "    <tr>\n",
       "      <th>std</th>\n",
       "      <td>18.005320</td>\n",
       "      <td>57.145155</td>\n",
       "      <td>0.491525</td>\n",
       "    </tr>\n",
       "    <tr>\n",
       "      <th>min</th>\n",
       "      <td>1.000000</td>\n",
       "      <td>1.000000</td>\n",
       "      <td>0.000000</td>\n",
       "    </tr>\n",
       "    <tr>\n",
       "      <th>25%</th>\n",
       "      <td>8.000000</td>\n",
       "      <td>51.000000</td>\n",
       "      <td>0.000000</td>\n",
       "    </tr>\n",
       "    <tr>\n",
       "      <th>50%</th>\n",
       "      <td>19.000000</td>\n",
       "      <td>86.000000</td>\n",
       "      <td>0.000000</td>\n",
       "    </tr>\n",
       "    <tr>\n",
       "      <th>75%</th>\n",
       "      <td>32.000000</td>\n",
       "      <td>131.000000</td>\n",
       "      <td>1.000000</td>\n",
       "    </tr>\n",
       "    <tr>\n",
       "      <th>max</th>\n",
       "      <td>112.000000</td>\n",
       "      <td>322.000000</td>\n",
       "      <td>1.000000</td>\n",
       "    </tr>\n",
       "  </tbody>\n",
       "</table>\n",
       "</div>"
      ],
      "text/plain": [
       "       severity_score  comorbidity_score   flu_season\n",
       "count     4382.000000        4382.000000  4382.000000\n",
       "mean        22.353263          94.735509     0.408033\n",
       "std         18.005320          57.145155     0.491525\n",
       "min          1.000000           1.000000     0.000000\n",
       "25%          8.000000          51.000000     0.000000\n",
       "50%         19.000000          86.000000     0.000000\n",
       "75%         32.000000         131.000000     1.000000\n",
       "max        112.000000         322.000000     1.000000"
      ]
     },
     "execution_count": 20,
     "metadata": {},
     "output_type": "execute_result"
    }
   ],
   "source": [
    "tahoe_quartiles.loc[:,('severity_score','comorbidity_score','flu_season')]"
   ]
  },
  {
   "cell_type": "code",
   "execution_count": 21,
   "metadata": {
    "collapsed": false
   },
   "outputs": [
    {
     "data": {
      "text/html": [
       "<div>\n",
       "<table border=\"1\" class=\"dataframe\">\n",
       "  <thead>\n",
       "    <tr style=\"text-align: right;\">\n",
       "      <th></th>\n",
       "      <th>female</th>\n",
       "      <th>flu_season</th>\n",
       "      <th>ed_admit</th>\n",
       "      <th>readmit30</th>\n",
       "      <th>age</th>\n",
       "      <th>severity_score</th>\n",
       "      <th>comorbidity_score</th>\n",
       "    </tr>\n",
       "  </thead>\n",
       "  <tbody>\n",
       "    <tr>\n",
       "      <th>0</th>\n",
       "      <td>1</td>\n",
       "      <td>1</td>\n",
       "      <td>1</td>\n",
       "      <td>0</td>\n",
       "      <td>100</td>\n",
       "      <td>38</td>\n",
       "      <td>112</td>\n",
       "    </tr>\n",
       "    <tr>\n",
       "      <th>1</th>\n",
       "      <td>1</td>\n",
       "      <td>0</td>\n",
       "      <td>1</td>\n",
       "      <td>1</td>\n",
       "      <td>83</td>\n",
       "      <td>8</td>\n",
       "      <td>109</td>\n",
       "    </tr>\n",
       "    <tr>\n",
       "      <th>2</th>\n",
       "      <td>0</td>\n",
       "      <td>1</td>\n",
       "      <td>0</td>\n",
       "      <td>0</td>\n",
       "      <td>74</td>\n",
       "      <td>1</td>\n",
       "      <td>80</td>\n",
       "    </tr>\n",
       "    <tr>\n",
       "      <th>3</th>\n",
       "      <td>1</td>\n",
       "      <td>1</td>\n",
       "      <td>1</td>\n",
       "      <td>0</td>\n",
       "      <td>66</td>\n",
       "      <td>25</td>\n",
       "      <td>4</td>\n",
       "    </tr>\n",
       "    <tr>\n",
       "      <th>4</th>\n",
       "      <td>1</td>\n",
       "      <td>1</td>\n",
       "      <td>1</td>\n",
       "      <td>0</td>\n",
       "      <td>68</td>\n",
       "      <td>25</td>\n",
       "      <td>32</td>\n",
       "    </tr>\n",
       "  </tbody>\n",
       "</table>\n",
       "</div>"
      ],
      "text/plain": [
       "   female  flu_season  ed_admit  readmit30  age  severity_score  \\\n",
       "0       1           1         1          0  100              38   \n",
       "1       1           0         1          1   83               8   \n",
       "2       0           1         0          0   74               1   \n",
       "3       1           1         1          0   66              25   \n",
       "4       1           1         1          0   68              25   \n",
       "\n",
       "   comorbidity_score  \n",
       "0                112  \n",
       "1                109  \n",
       "2                 80  \n",
       "3                  4  \n",
       "4                 32  "
      ]
     },
     "execution_count": 21,
     "metadata": {},
     "output_type": "execute_result"
    }
   ],
   "source": [
    "tahoe_df.head()"
   ]
  },
  {
   "cell_type": "code",
   "execution_count": 22,
   "metadata": {
    "collapsed": false
   },
   "outputs": [],
   "source": [
    "tahoe_df['severity_quantile'] = pd.qcut(tahoe_df['severity_score'], 4, labels=False)\n",
    "tahoe_df['comorbidity_quantile'] = pd.qcut(tahoe_df['comorbidity_score'], 4, labels=False)\n"
   ]
  },
  {
   "cell_type": "code",
   "execution_count": 23,
   "metadata": {
    "collapsed": false
   },
   "outputs": [
    {
     "data": {
      "text/plain": [
       "[8.0, 19.0, 32.0, 33]"
      ]
     },
     "execution_count": 23,
     "metadata": {},
     "output_type": "execute_result"
    }
   ],
   "source": [
    "severity_score_quartiles"
   ]
  },
  {
   "cell_type": "code",
   "execution_count": 24,
   "metadata": {
    "collapsed": false
   },
   "outputs": [
    {
     "data": {
      "text/plain": [
       "[51.0, 86.0, 131.0, 132]"
      ]
     },
     "execution_count": 24,
     "metadata": {},
     "output_type": "execute_result"
    }
   ],
   "source": [
    "comorbidity_score_quartiles "
   ]
  },
  {
   "cell_type": "code",
   "execution_count": 25,
   "metadata": {
    "collapsed": false
   },
   "outputs": [],
   "source": [
    "def assign_managerial_clusters(input_dataframe):\n",
    "    \"\"\"Assign managerial clusters given the severity socre, comorbidty score, and fluseason indicator.\n",
    "    This assumes that the input dataframe already has indicators for the bins for each columns\"\"\"\n",
    "    count = 1\n",
    "    df = input_dataframe.copy()\n",
    "    list_of_df = []\n",
    "    count = 0\n",
    "    df['managerial_cluster']=np.nan\n",
    "    final_df = pd.DataFrame(columns = ['female', 'flu_season', 'ed_admit', 'readmit30', 'age',\n",
    "       'severity_score', 'comorbidity_score', 'severity_quantile',\n",
    "       'comorbidity_quantile','managerial_cluster'])\n",
    "    count = 0\n",
    "    row_of_assignments = []\n",
    "    cluster_assignments =defaultdict(int)\n",
    "    for comordibty_q in range(4):\n",
    "        for severity_q in range(4):\n",
    "            for flu_h in range(2):\n",
    "                cluster =  df[(df['comorbidity_quantile'] == comordibty_q) & \\\n",
    "                        (df['severity_quantile'] == severity_q) &\\\n",
    "                        (df['flu_season'] == flu_h)]\n",
    "                cluster['managerial_cluster'] = count\n",
    "                final_df = pd.concat([final_df,cluster]) ## add to a final DF\n",
    "                cluster_assignments[comordibty_q,severity_q,flu_h]=count\n",
    "\n",
    "                count +=1      \n",
    "    return final_df,cluster_assignments\n",
    "        \n",
    "            \n",
    "    \n",
    "    \n",
    "    \n",
    "                "
   ]
  },
  {
   "cell_type": "code",
   "execution_count": 26,
   "metadata": {
    "collapsed": false
   },
   "outputs": [
    {
     "name": "stderr",
     "output_type": "stream",
     "text": [
      "/Users/jonathanhilgart/anaconda/lib/python3.5/site-packages/ipykernel/__main__.py:19: SettingWithCopyWarning: \n",
      "A value is trying to be set on a copy of a slice from a DataFrame.\n",
      "Try using .loc[row_indexer,col_indexer] = value instead\n",
      "\n",
      "See the caveats in the documentation: http://pandas.pydata.org/pandas-docs/stable/indexing.html#indexing-view-versus-copy\n"
     ]
    }
   ],
   "source": [
    "tahoe_mang_cluster_df, custer_assignments = assign_managerial_clusters(tahoe_df)"
   ]
  },
  {
   "cell_type": "markdown",
   "metadata": {},
   "source": [
    "- Next, determine the probability of re-admittance per managerial cluster"
   ]
  },
  {
   "cell_type": "code",
   "execution_count": 27,
   "metadata": {
    "collapsed": false
   },
   "outputs": [],
   "source": [
    "## total number of readmission per managerial cluster\n",
    "readmission_per_cluster = tahoe_mang_cluster_df.groupby(['managerial_cluster'])['readmit30'].sum().reset_index()"
   ]
  },
  {
   "cell_type": "code",
   "execution_count": 28,
   "metadata": {
    "collapsed": false
   },
   "outputs": [
    {
     "data": {
      "text/html": [
       "<div>\n",
       "<table border=\"1\" class=\"dataframe\">\n",
       "  <thead>\n",
       "    <tr style=\"text-align: right;\">\n",
       "      <th></th>\n",
       "      <th>managerial_cluster</th>\n",
       "      <th>readmit30</th>\n",
       "    </tr>\n",
       "  </thead>\n",
       "  <tbody>\n",
       "    <tr>\n",
       "      <th>0</th>\n",
       "      <td>0.0</td>\n",
       "      <td>2.0</td>\n",
       "    </tr>\n",
       "    <tr>\n",
       "      <th>1</th>\n",
       "      <td>1.0</td>\n",
       "      <td>15.0</td>\n",
       "    </tr>\n",
       "    <tr>\n",
       "      <th>2</th>\n",
       "      <td>2.0</td>\n",
       "      <td>5.0</td>\n",
       "    </tr>\n",
       "    <tr>\n",
       "      <th>3</th>\n",
       "      <td>3.0</td>\n",
       "      <td>12.0</td>\n",
       "    </tr>\n",
       "    <tr>\n",
       "      <th>4</th>\n",
       "      <td>4.0</td>\n",
       "      <td>10.0</td>\n",
       "    </tr>\n",
       "  </tbody>\n",
       "</table>\n",
       "</div>"
      ],
      "text/plain": [
       "   managerial_cluster  readmit30\n",
       "0                 0.0        2.0\n",
       "1                 1.0       15.0\n",
       "2                 2.0        5.0\n",
       "3                 3.0       12.0\n",
       "4                 4.0       10.0"
      ]
     },
     "execution_count": 28,
     "metadata": {},
     "output_type": "execute_result"
    }
   ],
   "source": [
    "readmission_per_cluster.head()"
   ]
  },
  {
   "cell_type": "code",
   "execution_count": 29,
   "metadata": {
    "collapsed": false
   },
   "outputs": [],
   "source": [
    "# divide by the total number to get the probability of re-admission per cluster\n",
    "\n",
    "patients_per_cluster = tahoe_mang_cluster_df.groupby(['managerial_cluster'])['readmit30'].count().reset_index()\n"
   ]
  },
  {
   "cell_type": "code",
   "execution_count": 30,
   "metadata": {
    "collapsed": false
   },
   "outputs": [],
   "source": [
    "## probability of readmission per cluster\n",
    "probability_readmission_per_cluster = (readmission_per_cluster.readmit30/patients_per_cluster.readmit30).reset_index()\n",
    "#sorted_probability_readmission_per_cluster = probability_readmission_per_cluster.sort_values(ascending=False).reset_index()\n",
    "probability_readmission_per_cluster['probability_of_readmit'] =probability_readmission_per_cluster['readmit30'] "
   ]
  },
  {
   "cell_type": "code",
   "execution_count": 31,
   "metadata": {
    "collapsed": false
   },
   "outputs": [],
   "source": [
    "probability_readmission_per_cluster['managerial_cluster']=probability_readmission_per_cluster['index']"
   ]
  },
  {
   "cell_type": "code",
   "execution_count": 32,
   "metadata": {
    "collapsed": false
   },
   "outputs": [],
   "source": [
    "probability_readmission_per_cluster['patients_per_cluster']=patients_per_cluster['readmit30']\n",
    "probability_readmission_per_cluster['readmit_per_cluster'] = readmission_per_cluster['readmit30']"
   ]
  },
  {
   "cell_type": "code",
   "execution_count": 33,
   "metadata": {
    "collapsed": false
   },
   "outputs": [],
   "source": [
    "# sort by top readmit clusters\n",
    "probability_readmission_per_cluster.sort_values('probability_of_readmit',ascending=False,inplace=True)"
   ]
  },
  {
   "cell_type": "code",
   "execution_count": 34,
   "metadata": {
    "collapsed": true
   },
   "outputs": [],
   "source": [
    "### add in the probability of readmit with caretracker (lowers it by 40%)\n",
    "probability_readmission_per_cluster['probability_readmit_caretracker'] = \\\n",
    "probability_readmission_per_cluster.probability_of_readmit*.6"
   ]
  },
  {
   "cell_type": "markdown",
   "metadata": {},
   "source": [
    "- Next, determine the cost of adding Care Tracker per cluster per person in each cluster\n"
   ]
  },
  {
   "cell_type": "code",
   "execution_count": 35,
   "metadata": {
    "collapsed": true
   },
   "outputs": [],
   "source": [
    "def find_minimum_cost(dataframe_input,cost_of_readmit=8000,cost_of_caretracker=1200):\n",
    "    \"\"\"find the minimum combination between using the caretracker for each person in a cluster, or the cost\n",
    "    of readmission $8k per person in that cluter.\n",
    "    \n",
    "    The formula is  The Cost of readmittance * Number of patients who have be readmitted  , compared to\n",
    "    \n",
    "    The probability of readmittance given that a patient is using care tracker, \n",
    "    times the number of patients in that cluster, time the cost of readmittance, plus the cost of care tracker times\n",
    "    the number of patients in that cluster\n",
    "    \"\"\"\n",
    "    dataframe_i = dataframe_input.copy()\n",
    "    list_of_options = []\n",
    "    min_cost_per_option = []\n",
    "    alternative_cost = []\n",
    "    \n",
    "    for idx, row in dataframe_i.iterrows():\n",
    "        if (row['probability_readmit_caretracker'] *row['patients_per_cluster'] * cost_of_readmit + \\\n",
    "            cost_of_caretracker *row['patients_per_cluster'])   \\\n",
    "            < (cost_of_readmit *row['readmit_per_cluster']):\n",
    "            \n",
    "            list_of_options.append(1) ## assign to caretracker program\n",
    "            min_cost_per_option.append(row['probability_readmit_caretracker']\\\n",
    "                                       *row['patients_per_cluster'] * cost_of_readmit + \\\n",
    "                                        cost_of_caretracker *row['patients_per_cluster'])\n",
    "            alternative_cost.append(cost_of_readmit *row['probability_readmit_caretracker']\\\n",
    "                                       *row['patients_per_cluster'])\n",
    "        else:\n",
    "            list_of_options.append(0) ## don't assign to caretracker program\n",
    "            min_cost_per_option.append(cost_of_readmit *row['readmit_per_cluster'])\n",
    "            alternative_cost.append(row['probability_readmit_caretracker']\\\n",
    "                                       *row['patients_per_cluster'] * cost_of_readmit + \\\n",
    "                                        cost_of_caretracker *row['patients_per_cluster'])\n",
    "        \n",
    "    dataframe_i['min_cost']=min_cost_per_option\n",
    "    dataframe_i['option']=list_of_options # 1 = assign to caretracker 0 = don't assign to caretracker\n",
    "    dataframe_i['alternative_cost'] = alternative_cost\n",
    "    return dataframe_i     \n",
    "    \n",
    "    "
   ]
  },
  {
   "cell_type": "code",
   "execution_count": 36,
   "metadata": {
    "collapsed": false
   },
   "outputs": [],
   "source": [
    "min_cost_tahoe_prob_df = find_minimum_cost(probability_readmission_per_cluster)"
   ]
  },
  {
   "cell_type": "code",
   "execution_count": 37,
   "metadata": {
    "collapsed": true
   },
   "outputs": [],
   "source": [
    "# This is the cost of assigning everyone to care tracker\n",
    "min_cost_tahoe_prob_df['care_tracker_cost_cluster'] = \\\n",
    "    min_cost_tahoe_prob_df['patients_per_cluster']*1200 + \\\n",
    "    min_cost_tahoe_prob_df['probability_readmit_caretracker']*min_cost_tahoe_prob_df['patients_per_cluster']*8000\n",
    "\n",
    "    # This is the cost of assigning no one to care tracker\n",
    "min_cost_tahoe_prob_df['readmit_cost_cluster'] = \\\n",
    "    min_cost_tahoe_prob_df['readmit_per_cluster']*8000 "
   ]
  },
  {
   "cell_type": "code",
   "execution_count": 38,
   "metadata": {
    "collapsed": false
   },
   "outputs": [],
   "source": [
    "# Find the savings per cluster"
   ]
  },
  {
   "cell_type": "code",
   "execution_count": 39,
   "metadata": {
    "collapsed": false
   },
   "outputs": [],
   "source": [
    "savings_over_readmit= sum(min_cost_tahoe_prob_df.readmit_cost_cluster -min_cost_tahoe_prob_df.min_cost )\n",
    "savings_over_care_tracker = sum(min_cost_tahoe_prob_df.care_tracker_cost_cluster-min_cost_tahoe_prob_df.min_cost )\n",
    "total_cost_caretracker = sum(min_cost_tahoe_prob_df.care_tracker_cost_cluster)\n",
    "total_cost_readmitt_no_caretracker = sum(min_cost_tahoe_prob_df.readmit_cost_cluster)\n",
    "managerial_min_cost = sum(min_cost_tahoe_prob_df.min_cost )"
   ]
  },
  {
   "cell_type": "code",
   "execution_count": 40,
   "metadata": {
    "collapsed": false
   },
   "outputs": [
    {
     "name": "stdout",
     "output_type": "stream",
     "text": [
      "Tahoe will save           426,400.00 compared to not assigning anyone to care tracker\n",
      "Tahoe will save         2,491,200.00 compared to assigning everyone to care tracker\n",
      "The total cost of assigning everyone to caretracker is        10,048,800.00\n",
      "The total cost of assigning noone to caretracker         7,984,000.00\n",
      "The total cost of using maangerial clusters and assigning to caretracker from there is         7,557,600.00\n",
      "The baseline probability of re-admittance is 22.77%\n",
      "The baseline of no readmittance is 77.23%\n"
     ]
    }
   ],
   "source": [
    "print(\"Tahoe will save {:20,.2f} compared to not assigning anyone to care tracker\".format(savings_over_readmit))\n",
    "print(\"Tahoe will save {:20,.2f} compared to assigning everyone to care tracker\".format(savings_over_care_tracker))\n",
    "baseline_readmittance =  sum(min_cost_tahoe_prob_df.readmit_per_cluster)/sum(min_cost_tahoe_prob_df.patients_per_cluster)\n",
    "baseline_noreadmittance = 1-baseline_readmittance\n",
    "print(\"The total cost of assigning everyone to caretracker is {:20,.2f}\".format(total_cost_caretracker))\n",
    "print(\"The total cost of assigning noone to caretracker {:20,.2f}\".format(total_cost_readmitt_no_caretracker ))\n",
    "print(\"The total cost of using maangerial clusters and assigning to caretracker from there is {:20,.2f}\".format(managerial_min_cost))\n",
    "print(\"The baseline probability of re-admittance is {:.2%}\".format(\n",
    "        sum(min_cost_tahoe_prob_df.readmit_per_cluster)/sum(min_cost_tahoe_prob_df.patients_per_cluster)))\n",
    "print(\"The baseline of no readmittance is {:.2%}\".format(baseline_noreadmittance))"
   ]
  },
  {
   "cell_type": "markdown",
   "metadata": {},
   "source": [
    "- Graph the probability of readmission per cluster"
   ]
  },
  {
   "cell_type": "code",
   "execution_count": 41,
   "metadata": {
    "collapsed": false
   },
   "outputs": [],
   "source": [
    "mang_cluster_and_prob_readmit = tahoe_mang_cluster_df.groupby('managerial_cluster')['readmit30'].mean().reset_index()\n",
    "mang_cluster_and_prob_readmit['probability_of_readmission']=mang_cluster_and_prob_readmit['readmit30']"
   ]
  },
  {
   "cell_type": "code",
   "execution_count": 42,
   "metadata": {
    "collapsed": false
   },
   "outputs": [],
   "source": [
    "mang_cluster_and_prob_readmit=mang_cluster_and_prob_readmit.sort_values('probability_of_readmission',ascending=False)"
   ]
  },
  {
   "cell_type": "code",
   "execution_count": 43,
   "metadata": {
    "collapsed": false
   },
   "outputs": [
    {
     "data": {
      "text/plain": [
       "<matplotlib.axes._subplots.AxesSubplot at 0x118b33b70>"
      ]
     },
     "execution_count": 43,
     "metadata": {},
     "output_type": "execute_result"
    },
    {
     "data": {
      "image/png": "[encoded data removed]",
      "text/plain": [
       "<matplotlib.figure.Figure at 0x118b338d0>"
      ]
     },
     "metadata": {},
     "output_type": "display_data"
    }
   ],
   "source": [
    "plt.figure(figsize=(12,5))\n",
    "plt.title('Readmission per patient quantile')\n",
    "sns.barplot(x=mang_cluster_and_prob_readmit.managerial_cluster, y=mang_cluster_and_prob_readmit.probability_of_readmission)"
   ]
  },
  {
   "cell_type": "code",
   "execution_count": 192,
   "metadata": {
    "collapsed": false
   },
   "outputs": [
    {
     "data": {
      "text/html": [
       "<div>\n",
       "<table border=\"1\" class=\"dataframe\">\n",
       "  <thead>\n",
       "    <tr style=\"text-align: right;\">\n",
       "      <th></th>\n",
       "      <th>index</th>\n",
       "      <th>readmit30</th>\n",
       "      <th>probability_of_readmit</th>\n",
       "      <th>managerial_cluster</th>\n",
       "      <th>patients_per_cluster</th>\n",
       "      <th>readmit_per_cluster</th>\n",
       "      <th>probability_readmit_caretracker</th>\n",
       "      <th>min_cost</th>\n",
       "      <th>option</th>\n",
       "      <th>alternative_cost</th>\n",
       "      <th>care_tracker_cost_cluster</th>\n",
       "      <th>readmit_cost_cluster</th>\n",
       "    </tr>\n",
       "  </thead>\n",
       "  <tbody>\n",
       "    <tr>\n",
       "      <th>31</th>\n",
       "      <td>31</td>\n",
       "      <td>0.717791</td>\n",
       "      <td>0.717791</td>\n",
       "      <td>31</td>\n",
       "      <td>163</td>\n",
       "      <td>117.0</td>\n",
       "      <td>0.430675</td>\n",
       "      <td>757200.0</td>\n",
       "      <td>1</td>\n",
       "      <td>561600.0</td>\n",
       "      <td>757200.0</td>\n",
       "      <td>936000.0</td>\n",
       "    </tr>\n",
       "    <tr>\n",
       "      <th>29</th>\n",
       "      <td>29</td>\n",
       "      <td>0.543103</td>\n",
       "      <td>0.543103</td>\n",
       "      <td>29</td>\n",
       "      <td>116</td>\n",
       "      <td>63.0</td>\n",
       "      <td>0.325862</td>\n",
       "      <td>441600.0</td>\n",
       "      <td>1</td>\n",
       "      <td>302400.0</td>\n",
       "      <td>441600.0</td>\n",
       "      <td>504000.0</td>\n",
       "    </tr>\n",
       "    <tr>\n",
       "      <th>25</th>\n",
       "      <td>25</td>\n",
       "      <td>0.533333</td>\n",
       "      <td>0.533333</td>\n",
       "      <td>25</td>\n",
       "      <td>75</td>\n",
       "      <td>40.0</td>\n",
       "      <td>0.320000</td>\n",
       "      <td>282000.0</td>\n",
       "      <td>1</td>\n",
       "      <td>192000.0</td>\n",
       "      <td>282000.0</td>\n",
       "      <td>320000.0</td>\n",
       "    </tr>\n",
       "    <tr>\n",
       "      <th>27</th>\n",
       "      <td>27</td>\n",
       "      <td>0.511628</td>\n",
       "      <td>0.511628</td>\n",
       "      <td>27</td>\n",
       "      <td>86</td>\n",
       "      <td>44.0</td>\n",
       "      <td>0.306977</td>\n",
       "      <td>314400.0</td>\n",
       "      <td>1</td>\n",
       "      <td>211200.0</td>\n",
       "      <td>314400.0</td>\n",
       "      <td>352000.0</td>\n",
       "    </tr>\n",
       "    <tr>\n",
       "      <th>30</th>\n",
       "      <td>30</td>\n",
       "      <td>0.502041</td>\n",
       "      <td>0.502041</td>\n",
       "      <td>30</td>\n",
       "      <td>245</td>\n",
       "      <td>123.0</td>\n",
       "      <td>0.301224</td>\n",
       "      <td>884400.0</td>\n",
       "      <td>1</td>\n",
       "      <td>590400.0</td>\n",
       "      <td>884400.0</td>\n",
       "      <td>984000.0</td>\n",
       "    </tr>\n",
       "  </tbody>\n",
       "</table>\n",
       "</div>"
      ],
      "text/plain": [
       "    index  readmit30  probability_of_readmit  managerial_cluster  \\\n",
       "31     31   0.717791                0.717791                  31   \n",
       "29     29   0.543103                0.543103                  29   \n",
       "25     25   0.533333                0.533333                  25   \n",
       "27     27   0.511628                0.511628                  27   \n",
       "30     30   0.502041                0.502041                  30   \n",
       "\n",
       "    patients_per_cluster  readmit_per_cluster  \\\n",
       "31                   163                117.0   \n",
       "29                   116                 63.0   \n",
       "25                    75                 40.0   \n",
       "27                    86                 44.0   \n",
       "30                   245                123.0   \n",
       "\n",
       "    probability_readmit_caretracker  min_cost  option  alternative_cost  \\\n",
       "31                         0.430675  757200.0       1          561600.0   \n",
       "29                         0.325862  441600.0       1          302400.0   \n",
       "25                         0.320000  282000.0       1          192000.0   \n",
       "27                         0.306977  314400.0       1          211200.0   \n",
       "30                         0.301224  884400.0       1          590400.0   \n",
       "\n",
       "    care_tracker_cost_cluster  readmit_cost_cluster  \n",
       "31                   757200.0              936000.0  \n",
       "29                   441600.0              504000.0  \n",
       "25                   282000.0              320000.0  \n",
       "27                   314400.0              352000.0  \n",
       "30                   884400.0              984000.0  "
      ]
     },
     "execution_count": 192,
     "metadata": {},
     "output_type": "execute_result"
    }
   ],
   "source": [
    "min_cost_tahoe_prob_df.head()"
   ]
  },
  {
   "cell_type": "code",
   "execution_count": 195,
   "metadata": {
    "collapsed": false
   },
   "outputs": [
    {
     "data": {
      "text/plain": [
       "1920000.0"
      ]
     },
     "execution_count": 195,
     "metadata": {},
     "output_type": "execute_result"
    }
   ],
   "source": [
    "sum(min_cost_tahoe_prob_df [(min_cost_tahoe_prob_df.managerial_cluster>=0) &\n",
    "                           (min_cost_tahoe_prob_df.managerial_cluster<=15)]['readmit_per_cluster'])*8000"
   ]
  },
  {
   "cell_type": "code",
   "execution_count": 165,
   "metadata": {
    "collapsed": false
   },
   "outputs": [],
   "source": [
    "cluster_one = sum(min_cost_tahoe_prob_df [min_cost_tahoe_prob_df.managerial_cluster==0]['patients_per_cluster'])*8000*.02"
   ]
  },
  {
   "cell_type": "code",
   "execution_count": 166,
   "metadata": {
    "collapsed": false
   },
   "outputs": [],
   "source": [
    "cluster_two = sum(min_cost_tahoe_prob_df [min_cost_tahoe_prob_df.managerial_cluster==1]['patients_per_cluster'])*8000*.1"
   ]
  },
  {
   "cell_type": "code",
   "execution_count": 167,
   "metadata": {
    "collapsed": false
   },
   "outputs": [],
   "source": [
    "cluster_three = sum(min_cost_tahoe_prob_df [min_cost_tahoe_prob_df.managerial_cluster==2]['patients_per_cluster'])*8000*.05"
   ]
  },
  {
   "cell_type": "code",
   "execution_count": 168,
   "metadata": {
    "collapsed": true
   },
   "outputs": [],
   "source": [
    "cluster_four = sum(min_cost_tahoe_prob_df [min_cost_tahoe_prob_df.managerial_cluster==3]['patients_per_cluster'])*8000*.1"
   ]
  },
  {
   "cell_type": "code",
   "execution_count": 170,
   "metadata": {
    "collapsed": false
   },
   "outputs": [],
   "source": [
    "cluster_five = sum(min_cost_tahoe_prob_df [min_cost_tahoe_prob_df.managerial_cluster==4]['patients_per_cluster'])*8000*.08"
   ]
  },
  {
   "cell_type": "code",
   "execution_count": 171,
   "metadata": {
    "collapsed": true
   },
   "outputs": [],
   "source": [
    "cluster_six = sum(min_cost_tahoe_prob_df [min_cost_tahoe_prob_df.managerial_cluster==5]['patients_per_cluster'])*8000*.11"
   ]
  },
  {
   "cell_type": "code",
   "execution_count": 174,
   "metadata": {
    "collapsed": true
   },
   "outputs": [],
   "source": [
    "cluster_seven = sum(min_cost_tahoe_prob_df [min_cost_tahoe_prob_df.managerial_cluster==6]['patients_per_cluster'])*8000*.11"
   ]
  },
  {
   "cell_type": "code",
   "execution_count": 173,
   "metadata": {
    "collapsed": true
   },
   "outputs": [],
   "source": [
    "cluster_nine =\\\n",
    "sum(min_cost_tahoe_prob_df [min_cost_tahoe_prob_df.managerial_cluster==8]['patients_per_cluster'])*8000*.09"
   ]
  },
  {
   "cell_type": "code",
   "execution_count": 175,
   "metadata": {
    "collapsed": true
   },
   "outputs": [],
   "source": [
    "cluster_ten =\\\n",
    "sum(min_cost_tahoe_prob_df [min_cost_tahoe_prob_df.managerial_cluster==9]['patients_per_cluster'])*8000*.085"
   ]
  },
  {
   "cell_type": "code",
   "execution_count": 176,
   "metadata": {
    "collapsed": true
   },
   "outputs": [],
   "source": [
    "cluster_eleven =\\\n",
    "sum(min_cost_tahoe_prob_df [min_cost_tahoe_prob_df.managerial_cluster==10]['patients_per_cluster'])*8000*.08"
   ]
  },
  {
   "cell_type": "code",
   "execution_count": 177,
   "metadata": {
    "collapsed": true
   },
   "outputs": [],
   "source": [
    "cluster_twelve =\\\n",
    "sum(min_cost_tahoe_prob_df [min_cost_tahoe_prob_df.managerial_cluster==11]['patients_per_cluster'])*8000*.18"
   ]
  },
  {
   "cell_type": "code",
   "execution_count": 178,
   "metadata": {
    "collapsed": true
   },
   "outputs": [],
   "source": [
    "cluster_thirteen =\\\n",
    "sum(min_cost_tahoe_prob_df [min_cost_tahoe_prob_df.managerial_cluster==12]['patients_per_cluster'])*8000*.12"
   ]
  },
  {
   "cell_type": "code",
   "execution_count": 181,
   "metadata": {
    "collapsed": true
   },
   "outputs": [],
   "source": [
    "cluster_fourteen =\\\n",
    "sum(min_cost_tahoe_prob_df [min_cost_tahoe_prob_df.managerial_cluster==13]['patients_per_cluster'])*8000*.18"
   ]
  },
  {
   "cell_type": "code",
   "execution_count": 180,
   "metadata": {
    "collapsed": true
   },
   "outputs": [],
   "source": [
    "cluster_eight =\\\n",
    "sum(min_cost_tahoe_prob_df [min_cost_tahoe_prob_df.managerial_cluster==7]['patients_per_cluster'])*8000*.21"
   ]
  },
  {
   "cell_type": "code",
   "execution_count": 183,
   "metadata": {
    "collapsed": true
   },
   "outputs": [],
   "source": [
    "cluster_fifteen =\\\n",
    "sum(min_cost_tahoe_prob_df [min_cost_tahoe_prob_df.managerial_cluster==14]['patients_per_cluster'])*8000*.23"
   ]
  },
  {
   "cell_type": "code",
   "execution_count": 182,
   "metadata": {
    "collapsed": true
   },
   "outputs": [],
   "source": [
    "cluster_sixteen=\\\n",
    "sum(min_cost_tahoe_prob_df [min_cost_tahoe_prob_df.managerial_cluster==14]['patients_per_cluster'])*8000*.3"
   ]
  },
  {
   "cell_type": "code",
   "execution_count": 188,
   "metadata": {
    "collapsed": false
   },
   "outputs": [
    {
     "name": "stdout",
     "output_type": "stream",
     "text": [
      "Expected cost for first 16 cluster 1800840.0\n"
     ]
    }
   ],
   "source": [
    "print(\"Expected cost for first 16 cluster {}\".format(sum([cluster_one,cluster_two,cluster_three,\\\n",
    "                                                          cluster_four,cluster_five,\\\n",
    "                                                          cluster_six,\\\n",
    "                                                          cluster_seven,\\\n",
    "                                                          cluster_eight,\\\n",
    "   cluster_nine,cluster_ten,cluster_eleven,cluster_twelve,cluster_thirteen,cluster_fourteen,cluster_fifteen])))"
   ]
  },
  {
   "cell_type": "code",
   "execution_count": null,
   "metadata": {
    "collapsed": true
   },
   "outputs": [],
   "source": []
  },
  {
   "cell_type": "code",
   "execution_count": null,
   "metadata": {
    "collapsed": true
   },
   "outputs": [],
   "source": []
  },
  {
   "cell_type": "code",
   "execution_count": 44,
   "metadata": {
    "collapsed": false
   },
   "outputs": [
    {
     "data": {
      "text/plain": [
       "<matplotlib.text.Text at 0x118a1ffd0>"
      ]
     },
     "execution_count": 44,
     "metadata": {},
     "output_type": "execute_result"
    },
    {
     "data": {
      "image/png": "[encoded data removed]",
      "text/plain": [
       "<matplotlib.figure.Figure at 0x118b336d8>"
      ]
     },
     "metadata": {},
     "output_type": "display_data"
    }
   ],
   "source": [
    "fig = sns.barplot(x=['everyone caretracker','no one caretracker','managerial decision rule'],\\\n",
    "           y=[total_cost_caretracker,total_cost_readmitt_no_caretracker,managerial_min_cost])\n",
    "fig.get_yaxis().set_major_formatter(\n",
    "    matplotlib.ticker.FuncFormatter(lambda x, p: format(int(x), ',')))\n",
    "plt.title('Cost Comparison')\n",
    "plt.ylabel(\"Dollars\")"
   ]
  },
  {
   "cell_type": "code",
   "execution_count": 45,
   "metadata": {
    "collapsed": false
   },
   "outputs": [
    {
     "data": {
      "text/plain": [
       "850"
      ]
     },
     "execution_count": 45,
     "metadata": {},
     "output_type": "execute_result"
    }
   ],
   "source": [
    "# How many patients to assign to caretracker\n",
    "sum(min_cost_tahoe_prob_df[min_cost_tahoe_prob_df.option==1]['patients_per_cluster'])"
   ]
  },
  {
   "cell_type": "markdown",
   "metadata": {},
   "source": [
    "### Following the advice from managerial clustering on which segments to assign to care tracker, we would save `$2,491,200` compared to assigning everyone to  care tracker and will save `$426,000` compared to not assigning anyone to care tracker.\n",
    "- This is assuming our sample of patients represents the entire population of patients\n",
    "- Managerial is typically easier for businesses to implement compared to an algorithm\n",
    "- However, some risks inlude the fact the this is a static model that does not evolve over time.\n",
    "\n",
    "\n",
    "> We should assign segments, 31,29,25,27,30, and 28 to care tracker\n",
    "- 31: comorbidity_score above 131, severity_score above 32, in flu season\n",
    "- 29: comorbidity_score above 131, severity_score 19-32, in flu season\n",
    "- 25: comorbidity_score above 131, severity_score below 8, in flu season\n",
    "- 27: comorbidity_score above 131, severity_score 8 to 19, in flu season\n",
    "- 30: comorbidity_score above 131, severity_score above 32, not in flu season\n",
    "- 28: comorbidity_score above 131, severity_score 19-32, not in flu season"
   ]
  },
  {
   "cell_type": "markdown",
   "metadata": {},
   "source": [
    "# Next, investigate statistical clustering and machine learning to determine the best option.\n",
    "- Start with k-means\n",
    "    - To find the ideal number of clusters, run a silhouette score model on different cluster sizes\n",
    "    - Don't cluster on readmit rate, we don't know this when a patient comes in\n",
    "- Then, investigate a couple supervised classification models"
   ]
  },
  {
   "cell_type": "code",
   "execution_count": 46,
   "metadata": {
    "collapsed": true
   },
   "outputs": [],
   "source": [
    "def euclidean_distance(a,b):\n",
    "    \"\"\"Expects numpy array and returns the euclidan distance between them\"\"\"\n",
    "    return sqrt(sum((a-b)**2))"
   ]
  },
  {
   "cell_type": "code",
   "execution_count": 47,
   "metadata": {
    "collapsed": false
   },
   "outputs": [
    {
     "data": {
      "text/html": [
       "<div>\n",
       "<table border=\"1\" class=\"dataframe\">\n",
       "  <thead>\n",
       "    <tr style=\"text-align: right;\">\n",
       "      <th></th>\n",
       "      <th>female</th>\n",
       "      <th>flu_season</th>\n",
       "      <th>ed_admit</th>\n",
       "      <th>readmit30</th>\n",
       "      <th>age</th>\n",
       "    </tr>\n",
       "  </thead>\n",
       "  <tbody>\n",
       "    <tr>\n",
       "      <th>0</th>\n",
       "      <td>1</td>\n",
       "      <td>1</td>\n",
       "      <td>1</td>\n",
       "      <td>0</td>\n",
       "      <td>100</td>\n",
       "    </tr>\n",
       "    <tr>\n",
       "      <th>1</th>\n",
       "      <td>1</td>\n",
       "      <td>0</td>\n",
       "      <td>1</td>\n",
       "      <td>1</td>\n",
       "      <td>83</td>\n",
       "    </tr>\n",
       "    <tr>\n",
       "      <th>2</th>\n",
       "      <td>0</td>\n",
       "      <td>1</td>\n",
       "      <td>0</td>\n",
       "      <td>0</td>\n",
       "      <td>74</td>\n",
       "    </tr>\n",
       "    <tr>\n",
       "      <th>3</th>\n",
       "      <td>1</td>\n",
       "      <td>1</td>\n",
       "      <td>1</td>\n",
       "      <td>0</td>\n",
       "      <td>66</td>\n",
       "    </tr>\n",
       "    <tr>\n",
       "      <th>4</th>\n",
       "      <td>1</td>\n",
       "      <td>1</td>\n",
       "      <td>1</td>\n",
       "      <td>0</td>\n",
       "      <td>68</td>\n",
       "    </tr>\n",
       "  </tbody>\n",
       "</table>\n",
       "</div>"
      ],
      "text/plain": [
       "   female  flu_season  ed_admit  readmit30  age\n",
       "0       1           1         1          0  100\n",
       "1       1           0         1          1   83\n",
       "2       0           1         0          0   74\n",
       "3       1           1         1          0   66\n",
       "4       1           1         1          0   68"
      ]
     },
     "execution_count": 47,
     "metadata": {},
     "output_type": "execute_result"
    }
   ],
   "source": [
    "clustering_df = tahoe_df.iloc[:,:5]\n",
    "clustering_df.head()"
   ]
  },
  {
   "cell_type": "code",
   "execution_count": 48,
   "metadata": {
    "collapsed": true
   },
   "outputs": [],
   "source": [
    "\n",
    "def sample_silhouette_score(dataframe_input,max_cluster_size=100):\n",
    "    \"\"\"Run a three fold CV on 10,000 samples from the dataframe to determine the ideal number of clusters.\n",
    "    Output is the ideal number of clusters of 3 CV folds with 10k samples.\"\"\"\n",
    "    silhouette_score_l = []\n",
    "    predicted_labels = defaultdict(list)\n",
    "    for clusters in range(2,max_cluster_size):\n",
    "        knn_classifier = KMeans(clusters)\n",
    "        silhouette_scores_for_this_cluster = []\n",
    "        fit_knn = knn_classifier.fit(dataframe_input)\n",
    "        predicted_labels[clusters]=fit_knn.labels_\n",
    "        predicted_lab = fit_knn.labels_\n",
    "        silhouette_score_l.append(silhouette_score(X=dataframe_input,labels=predicted_lab))\n",
    "        print('Finished iteration {}'.format(clusters))\n",
    "    number_of_clusters = [i for i in range(2,max_cluster_size)]\n",
    "    plt.plot([i for i in range(2,max_cluster_size)],silhouette_score_l)\n",
    "    plt.title('Ideal Number of Clusters')\n",
    "    plt.ylabel('Silhouette score')\n",
    "    plt.xlabel('Number of clusters')\n",
    "    print('The best number of clusters is {}'.format(number_of_clusters[np.argmax(np.array(silhouette_score_l))]))\n",
    "    return predicted_labels[number_of_clusters[np.argmax(np.array(silhouette_score_l))]]\n",
    "    "
   ]
  },
  {
   "cell_type": "code",
   "execution_count": 434,
   "metadata": {
    "collapsed": false
   },
   "outputs": [
    {
     "name": "stdout",
     "output_type": "stream",
     "text": [
      "Finished iteration 2\n",
      "Finished iteration 3\n",
      "Finished iteration 4\n",
      "Finished iteration 5\n",
      "Finished iteration 6\n",
      "Finished iteration 7\n",
      "Finished iteration 8\n",
      "Finished iteration 9\n",
      "Finished iteration 10\n",
      "Finished iteration 11\n",
      "Finished iteration 12\n",
      "Finished iteration 13\n",
      "Finished iteration 14\n",
      "Finished iteration 15\n",
      "Finished iteration 16\n",
      "Finished iteration 17\n",
      "Finished iteration 18\n",
      "Finished iteration 19\n",
      "Finished iteration 20\n",
      "Finished iteration 21\n",
      "Finished iteration 22\n",
      "Finished iteration 23\n",
      "Finished iteration 24\n",
      "Finished iteration 25\n",
      "Finished iteration 26\n",
      "Finished iteration 27\n",
      "Finished iteration 28\n",
      "Finished iteration 29\n",
      "Finished iteration 30\n",
      "Finished iteration 31\n",
      "Finished iteration 32\n",
      "Finished iteration 33\n",
      "Finished iteration 34\n",
      "Finished iteration 35\n",
      "Finished iteration 36\n",
      "Finished iteration 37\n",
      "Finished iteration 38\n",
      "Finished iteration 39\n",
      "Finished iteration 40\n",
      "Finished iteration 41\n",
      "Finished iteration 42\n",
      "Finished iteration 43\n",
      "Finished iteration 44\n",
      "Finished iteration 45\n",
      "Finished iteration 46\n",
      "Finished iteration 47\n",
      "Finished iteration 48\n",
      "Finished iteration 49\n",
      "Finished iteration 50\n",
      "Finished iteration 51\n",
      "Finished iteration 52\n",
      "Finished iteration 53\n",
      "Finished iteration 54\n",
      "Finished iteration 55\n",
      "Finished iteration 56\n",
      "Finished iteration 57\n",
      "Finished iteration 58\n",
      "Finished iteration 59\n",
      "Finished iteration 60\n",
      "Finished iteration 61\n",
      "Finished iteration 62\n",
      "Finished iteration 63\n",
      "Finished iteration 64\n",
      "Finished iteration 65\n",
      "Finished iteration 66\n",
      "Finished iteration 67\n",
      "Finished iteration 68\n",
      "Finished iteration 69\n",
      "Finished iteration 70\n",
      "Finished iteration 71\n",
      "Finished iteration 72\n",
      "Finished iteration 73\n",
      "Finished iteration 74\n",
      "Finished iteration 75\n",
      "Finished iteration 76\n",
      "Finished iteration 77\n",
      "Finished iteration 78\n",
      "Finished iteration 79\n",
      "Finished iteration 80\n",
      "Finished iteration 81\n",
      "Finished iteration 82\n",
      "Finished iteration 83\n",
      "Finished iteration 84\n",
      "Finished iteration 85\n",
      "Finished iteration 86\n",
      "Finished iteration 87\n",
      "Finished iteration 88\n",
      "Finished iteration 89\n",
      "Finished iteration 90\n",
      "Finished iteration 91\n",
      "Finished iteration 92\n",
      "Finished iteration 93\n",
      "Finished iteration 94\n",
      "Finished iteration 95\n",
      "Finished iteration 96\n",
      "Finished iteration 97\n",
      "Finished iteration 98\n",
      "Finished iteration 99\n",
      "The best number of clusters is 2\n"
     ]
    },
    {
     "data": {
      "image/png": "[encoded data removed]",
      "text/plain": [
       "<matplotlib.figure.Figure at 0x1043baf28>"
      ]
     },
     "metadata": {},
     "output_type": "display_data"
    }
   ],
   "source": [
    "clustered_labels = sample_silhouette_score(clustering_df)"
   ]
  },
  {
   "cell_type": "markdown",
   "metadata": {},
   "source": [
    "##### The ideal number of clusters is two, which means that there is not a lot of difference in the people being clustered. We will skip the clustering here and move onto a machine learning algorithm\n",
    "- Test random forest\n",
    "- Logistic regression\n",
    "- Gradient Boosting\n",
    "- SVMs\n",
    "\n",
    "\n"
   ]
  },
  {
   "cell_type": "code",
   "execution_count": 49,
   "metadata": {
    "collapsed": false
   },
   "outputs": [],
   "source": [
    "admitted_df =tahoe_df[tahoe_df.readmit30==1]\n"
   ]
  },
  {
   "cell_type": "code",
   "execution_count": 50,
   "metadata": {
    "collapsed": true
   },
   "outputs": [],
   "source": [
    "not_admitted_df = tahoe_df[tahoe_df.readmit30==0]"
   ]
  },
  {
   "cell_type": "code",
   "execution_count": 51,
   "metadata": {
    "collapsed": false
   },
   "outputs": [
    {
     "data": {
      "text/plain": [
       "998"
      ]
     },
     "execution_count": 51,
     "metadata": {},
     "output_type": "execute_result"
    }
   ],
   "source": [
    "len(admitted_df)"
   ]
  },
  {
   "cell_type": "markdown",
   "metadata": {},
   "source": [
    "### Build a random forest model"
   ]
  },
  {
   "cell_type": "code",
   "execution_count": 52,
   "metadata": {
    "collapsed": true
   },
   "outputs": [],
   "source": [
    "# not balanced\n",
    "tahoe_X = tahoe_df.loc[:,('female', 'flu_season', 'ed_admit',  'age',\\\n",
    "       'severity_score', 'comorbidity_score')]\n",
    "tahoe_y = tahoe_df.loc[:,'readmit30']\n",
    "tahoe_X_labels = ['female', 'flu_season', 'ed_admit', 'age',\n",
    "       'severity_score', 'comorbidity_score']\n",
    "tahoe_y_labels = 'readmit30'"
   ]
  },
  {
   "cell_type": "code",
   "execution_count": 53,
   "metadata": {
    "collapsed": true
   },
   "outputs": [],
   "source": [
    "X_train_rf, X_test_rf, y_train_rf, y_test_rf = train_test_split(tahoe_X,tahoe_y,random_state=42)"
   ]
  },
  {
   "cell_type": "code",
   "execution_count": 54,
   "metadata": {
    "collapsed": true
   },
   "outputs": [],
   "source": [
    "rf_params = {'n_estimators':[i for i in range(100,500,50)],'max_depth':[i for i in range(1,5)]}"
   ]
  },
  {
   "cell_type": "code",
   "execution_count": 55,
   "metadata": {
    "collapsed": false
   },
   "outputs": [],
   "source": [
    "rf_grid = GridSearchCV( RandomForestClassifier(),rf_params)"
   ]
  },
  {
   "cell_type": "code",
   "execution_count": 56,
   "metadata": {
    "collapsed": false
   },
   "outputs": [
    {
     "data": {
      "text/plain": [
       "GridSearchCV(cv=None, error_score='raise',\n",
       "       estimator=RandomForestClassifier(bootstrap=True, class_weight=None, criterion='gini',\n",
       "            max_depth=None, max_features='auto', max_leaf_nodes=None,\n",
       "            min_impurity_split=1e-07, min_samples_leaf=1,\n",
       "            min_samples_split=2, min_weight_fraction_leaf=0.0,\n",
       "            n_estimators=10, n_jobs=1, oob_score=False, random_state=None,\n",
       "            verbose=0, warm_start=False),\n",
       "       fit_params={}, iid=True, n_jobs=1,\n",
       "       param_grid={'n_estimators': [100, 150, 200, 250, 300, 350, 400, 450], 'max_depth': [1, 2, 3, 4]},\n",
       "       pre_dispatch='2*n_jobs', refit=True, return_train_score=True,\n",
       "       scoring=None, verbose=0)"
      ]
     },
     "execution_count": 56,
     "metadata": {},
     "output_type": "execute_result"
    }
   ],
   "source": [
    "rf_grid.fit(X_train_rf,y_train_rf)"
   ]
  },
  {
   "cell_type": "code",
   "execution_count": 57,
   "metadata": {
    "collapsed": true
   },
   "outputs": [],
   "source": [
    "# Create RF model\n",
    "best_rf_model = rf_grid.best_estimator_"
   ]
  },
  {
   "cell_type": "code",
   "execution_count": 58,
   "metadata": {
    "collapsed": false
   },
   "outputs": [
    {
     "name": "stdout",
     "output_type": "stream",
     "text": [
      "Best RF RMSE :0.4689248457363985\n",
      "\n",
      "Best RF R^2 score :19.64%\n",
      "\n",
      "Best accuracy score 78.01%\n",
      "[('Feature:', 'comorbidity_score', 'Importance:', 0.60334951115337243), ('Feature:', 'severity_score', 'Importance:', 0.24792139410724132), ('Feature:', 'flu_season', 'Importance:', 0.070846953778592431), ('Feature:', 'age', 'Importance:', 0.062665083276477462), ('Feature:', 'female', 'Importance:', 0.0082572764188916566), ('Feature:', 'ed_admit', 'Importance:', 0.0069597812654245998)]\n"
     ]
    }
   ],
   "source": [
    "# Best random forest\n",
    "best_rf_model.fit( X_train_rf, y_train_rf)\n",
    "\n",
    "# compute the metrics on this model\n",
    "best_rf_rmse =euclidean(y_test_rf,best_rf_model.predict(X_test_rf))/sqrt(len(y_test_rf))\n",
    "print('Best RF RMSE :{}'.format(best_rf_rmse ))\n",
    "print()\n",
    "best_rf_r2 =abs(r2_score(y_test_rf,best_rf_model.predict(X_test_rf)))\n",
    "print('Best RF R^2 score :{:.2%}'.format(best_rf_r2))\n",
    "print()\n",
    "rf_accuracy_score = accuracy_score(y_test_rf,best_rf_model.predict(X_test_rf))\n",
    "print(\"Best accuracy score {:.2%}\".format(rf_accuracy_score))\n",
    "feature_weights_rf = best_rf_model.feature_importances_[np.argsort(best_rf_model.feature_importances_)[::-1]]\n",
    "# print(regression_tahoe_readmit.x_labels) \n",
    "feature_names_rf = np.array(tahoe_X.columns)[np.argsort(best_rf_model.feature_importances_)[::-1]]\n",
    "\n",
    "print([('Feature:',i,'Importance:',f)\\\n",
    "for f,i in zip(best_rf_model.feature_importances_[np.argsort(best_rf_model.feature_importances_)[::-1]],\\\n",
    "                        np.array(tahoe_X.columns)[np.argsort(best_rf_model.feature_importances_)[::-1]])])"
   ]
  },
  {
   "cell_type": "code",
   "execution_count": 274,
   "metadata": {
    "collapsed": false
   },
   "outputs": [],
   "source": [
    "fpr_rf,tpr_rf,threshold_rf = roc_curve(y_test_rf, [_[1] for _ in best_rf_model.predict_proba(X_test_rf)])"
   ]
  },
  {
   "cell_type": "code",
   "execution_count": 61,
   "metadata": {
    "collapsed": false
   },
   "outputs": [],
   "source": [
    "auc_rf = auc(fpr_rf,tpr_rf)"
   ]
  },
  {
   "cell_type": "markdown",
   "metadata": {},
   "source": [
    "## Next, try logistic classification"
   ]
  },
  {
   "cell_type": "code",
   "execution_count": 62,
   "metadata": {
    "collapsed": true
   },
   "outputs": [],
   "source": [
    "scaler = StandardScaler()"
   ]
  },
  {
   "cell_type": "code",
   "execution_count": 63,
   "metadata": {
    "collapsed": false
   },
   "outputs": [],
   "source": [
    "logistic_params = {'penalty':['l1','l2'],'C':[i for i in np.linspace(.3,1,100)],\\\n",
    "                                              'max_iter':[i for i in range(5,50,5)]}"
   ]
  },
  {
   "cell_type": "code",
   "execution_count": 64,
   "metadata": {
    "collapsed": true
   },
   "outputs": [],
   "source": [
    "log_model = LogisticRegression()"
   ]
  },
  {
   "cell_type": "code",
   "execution_count": 124,
   "metadata": {
    "collapsed": false
   },
   "outputs": [],
   "source": [
    "logistic_m = GridSearchCV(LogisticRegression() ,logistic_params )\n",
    "log_model=  GridSearchCV(LogisticRegression() ,logistic_params )"
   ]
  },
  {
   "cell_type": "code",
   "execution_count": 66,
   "metadata": {
    "collapsed": false
   },
   "outputs": [],
   "source": [
    "X_train_log, X_test_log, y_train_log, y_test_log = train_test_split(np.array(tahoe_X.values.astype(float)),\n",
    "                                                                    np.array(tahoe_y.values.astype(float)),random_state=42)"
   ]
  },
  {
   "cell_type": "code",
   "execution_count": 67,
   "metadata": {
    "collapsed": false
   },
   "outputs": [],
   "source": [
    "# scale features to compute variable importance\n",
    "scaled_x_train = scaler.fit_transform(X_train_log)\n",
    "scaled_x_test = scaler.fit_transform(X_test_log)\n",
    "\n"
   ]
  },
  {
   "cell_type": "code",
   "execution_count": 145,
   "metadata": {
    "collapsed": false
   },
   "outputs": [
    {
     "data": {
      "text/plain": [
       "GridSearchCV(cv=None, error_score='raise',\n",
       "       estimator=LogisticRegression(C=1.0, class_weight=None, dual=False, fit_intercept=True,\n",
       "          intercept_scaling=1, max_iter=100, multi_class='ovr', n_jobs=1,\n",
       "          penalty='l2', random_state=None, solver='liblinear', tol=0.0001,\n",
       "          verbose=0, warm_start=False),\n",
       "       fit_params={}, iid=True, n_jobs=1,\n",
       "       param_grid={'penalty': ['l1', 'l2'], 'max_iter': [5, 10, 15, 20, 25, 30, 35, 40, 45], 'C': [0.29999999999999999, 0.30707070707070705, 0.31414141414141411, 0.32121212121212117, 0.32828282828282829, 0.33535353535353535, 0.34242424242424241, 0.34949494949494947, 0.35656565656565653, 0.36363636363636365...464646453, 0.97171717171717176, 0.97878787878787876, 0.98585858585858577, 0.99292929292929277, 1.0]},\n",
       "       pre_dispatch='2*n_jobs', refit=True, return_train_score=True,\n",
       "       scoring=None, verbose=0)"
      ]
     },
     "execution_count": 145,
     "metadata": {},
     "output_type": "execute_result"
    }
   ],
   "source": [
    "logistic_m.fit(scaled_x_train,y_train_log)"
   ]
  },
  {
   "cell_type": "code",
   "execution_count": 125,
   "metadata": {
    "collapsed": false
   },
   "outputs": [
    {
     "data": {
      "text/plain": [
       "GridSearchCV(cv=None, error_score='raise',\n",
       "       estimator=LogisticRegression(C=1.0, class_weight=None, dual=False, fit_intercept=True,\n",
       "          intercept_scaling=1, max_iter=100, multi_class='ovr', n_jobs=1,\n",
       "          penalty='l2', random_state=None, solver='liblinear', tol=0.0001,\n",
       "          verbose=0, warm_start=False),\n",
       "       fit_params={}, iid=True, n_jobs=1,\n",
       "       param_grid={'penalty': ['l1', 'l2'], 'max_iter': [5, 10, 15, 20, 25, 30, 35, 40, 45], 'C': [0.29999999999999999, 0.30707070707070705, 0.31414141414141411, 0.32121212121212117, 0.32828282828282829, 0.33535353535353535, 0.34242424242424241, 0.34949494949494947, 0.35656565656565653, 0.36363636363636365...464646453, 0.97171717171717176, 0.97878787878787876, 0.98585858585858577, 0.99292929292929277, 1.0]},\n",
       "       pre_dispatch='2*n_jobs', refit=True, return_train_score=True,\n",
       "       scoring=None, verbose=0)"
      ]
     },
     "execution_count": 125,
     "metadata": {},
     "output_type": "execute_result"
    }
   ],
   "source": [
    "log_model.fit(X_train_log,y_train_log )"
   ]
  },
  {
   "cell_type": "code",
   "execution_count": 69,
   "metadata": {
    "collapsed": false
   },
   "outputs": [
    {
     "data": {
      "text/plain": [
       "LogisticRegression(C=0.36363636363636365, class_weight=None, dual=False,\n",
       "          fit_intercept=True, intercept_scaling=1, max_iter=5,\n",
       "          multi_class='ovr', n_jobs=1, penalty='l1', random_state=None,\n",
       "          solver='liblinear', tol=0.0001, verbose=0, warm_start=False)"
      ]
     },
     "execution_count": 69,
     "metadata": {},
     "output_type": "execute_result"
    }
   ],
   "source": [
    "logistic_m.best_estimator_"
   ]
  },
  {
   "cell_type": "code",
   "execution_count": 280,
   "metadata": {
    "collapsed": false
   },
   "outputs": [],
   "source": [
    "# return the best estimator\n",
    "logistic_model = log_model.best_estimator_"
   ]
  },
  {
   "cell_type": "code",
   "execution_count": 146,
   "metadata": {
    "collapsed": true
   },
   "outputs": [],
   "source": [
    "# scaled coefficients\n",
    "log_m = logistic_m.best_estimator_"
   ]
  },
  {
   "cell_type": "code",
   "execution_count": 147,
   "metadata": {
    "collapsed": false
   },
   "outputs": [
    {
     "name": "stdout",
     "output_type": "stream",
     "text": [
      "Best logistic RMSE :0.45409732388778046\n",
      "\n",
      "Best logistic R^2 score :12.19%\n",
      "\n",
      "Best logistic accuracy 79.4%\n",
      "[('Feature:', 'comorbidity_score', 'Importance:', 0.015933619382016952), ('Feature:', 'severity_score', 'Importance:', 0.027699241849915127), ('Feature:', 'flu_season', 'Importance:', 0.70037753566829231), ('Feature:', 'female', 'Importance:', 0.20281877112100571), ('Feature:', 'age', 'Importance:', 0.10556936248567193), ('Feature:', 'ed_admit', 'Importance:', 0.0098562878230878843)]\n"
     ]
    }
   ],
   "source": [
    "best_logistic_rmse =euclidean(y_test_log,logistic_model.predict(X_test_log))/sqrt(len(y_test_log))\n",
    "print('Best logistic RMSE :{}'.format(best_logistic_rmse))\n",
    "print()\n",
    "best_logistic_r2 = abs(r2_score(y_test_log,logistic_model.predict(X_test_log)))\n",
    "print('Best logistic R^2 score :{:.2%}'.format(best_logistic_r2))\n",
    "print()\n",
    "accuracy_score_log = accuracy_score(y_test_log,logistic_model.predict(X_test_log))\n",
    "print(\"Best logistic accuracy {:.1%}\".format(accuracy_score_log))\n",
    "\n",
    "feature_weights_logistic = abs(logistic_model.coef_)[0][np.argsort(abs(log_m.coef_))[0][::-1]]\n",
    "feature_names_logistic = np.array(tahoe_X.columns)[np.argsort(log_m.coef_)[0][::-1]]\n",
    "\n",
    "print([('Feature:',i,'Importance:',f)\\\n",
    "    for f,i in zip(feature_weights_logistic ,\\\n",
    "                        feature_names_logistic)])"
   ]
  },
  {
   "cell_type": "code",
   "execution_count": 282,
   "metadata": {
    "collapsed": false
   },
   "outputs": [],
   "source": [
    "fpr_log,tpr_log,threshold = roc_curve(y_test_log, [_[1] for _ in logistic_model.predict_proba(X_test_log)])\n"
   ]
  },
  {
   "cell_type": "code",
   "execution_count": 74,
   "metadata": {
    "collapsed": false
   },
   "outputs": [],
   "source": [
    "#area under the curve for the ROC curve\n",
    "auc_log = auc(fpr_log,tpr_log)"
   ]
  },
  {
   "cell_type": "markdown",
   "metadata": {},
   "source": [
    "# Try gradient boosting as well"
   ]
  },
  {
   "cell_type": "code",
   "execution_count": 75,
   "metadata": {
    "collapsed": false
   },
   "outputs": [],
   "source": [
    "g_boost_params = {'max_depth':[i for i in range(1,5)],'n_estimators':[i for i in range(50,500,50)],\\\n",
    "                               'loss':['deviance','exponential']}"
   ]
  },
  {
   "cell_type": "code",
   "execution_count": 76,
   "metadata": {
    "collapsed": true
   },
   "outputs": [],
   "source": [
    "X_train_gb, X_test_gb, y_train_gb, y_test_gb = train_test_split(tahoe_X,tahoe_y,random_state=42)"
   ]
  },
  {
   "cell_type": "code",
   "execution_count": 77,
   "metadata": {
    "collapsed": true
   },
   "outputs": [],
   "source": [
    "grid_gb = GridSearchCV(GradientBoostingClassifier(),g_boost_params)"
   ]
  },
  {
   "cell_type": "code",
   "execution_count": 78,
   "metadata": {
    "collapsed": false
   },
   "outputs": [
    {
     "data": {
      "text/plain": [
       "GridSearchCV(cv=None, error_score='raise',\n",
       "       estimator=GradientBoostingClassifier(criterion='friedman_mse', init=None,\n",
       "              learning_rate=0.1, loss='deviance', max_depth=3,\n",
       "              max_features=None, max_leaf_nodes=None,\n",
       "              min_impurity_split=1e-07, min_samples_leaf=1,\n",
       "              min_samples_split=2, min_weight_fraction_leaf=0.0,\n",
       "              n_estimators=100, presort='auto', random_state=None,\n",
       "              subsample=1.0, verbose=0, warm_start=False),\n",
       "       fit_params={}, iid=True, n_jobs=1,\n",
       "       param_grid={'n_estimators': [50, 100, 150, 200, 250, 300, 350, 400, 450], 'loss': ['deviance', 'exponential'], 'max_depth': [1, 2, 3, 4]},\n",
       "       pre_dispatch='2*n_jobs', refit=True, return_train_score=True,\n",
       "       scoring=None, verbose=0)"
      ]
     },
     "execution_count": 78,
     "metadata": {},
     "output_type": "execute_result"
    }
   ],
   "source": [
    "grid_gb.fit(X_train_gb,y_train_gb)"
   ]
  },
  {
   "cell_type": "code",
   "execution_count": 79,
   "metadata": {
    "collapsed": false
   },
   "outputs": [
    {
     "data": {
      "text/plain": [
       "GradientBoostingClassifier(criterion='friedman_mse', init=None,\n",
       "              learning_rate=0.1, loss='deviance', max_depth=1,\n",
       "              max_features=None, max_leaf_nodes=None,\n",
       "              min_impurity_split=1e-07, min_samples_leaf=1,\n",
       "              min_samples_split=2, min_weight_fraction_leaf=0.0,\n",
       "              n_estimators=200, presort='auto', random_state=None,\n",
       "              subsample=1.0, verbose=0, warm_start=False)"
      ]
     },
     "execution_count": 79,
     "metadata": {},
     "output_type": "execute_result"
    }
   ],
   "source": [
    "grid_gb.best_estimator_"
   ]
  },
  {
   "cell_type": "code",
   "execution_count": 80,
   "metadata": {
    "collapsed": true
   },
   "outputs": [],
   "source": [
    "GBoostModel = grid_gb.best_estimator_"
   ]
  },
  {
   "cell_type": "code",
   "execution_count": 81,
   "metadata": {
    "collapsed": false
   },
   "outputs": [
    {
     "name": "stdout",
     "output_type": "stream",
     "text": [
      "Best gb RMSE :0.46008567910421677\n",
      "\n",
      "Best gb R^2 score :15.17%\n",
      "\n",
      "Best gb accuracy 78.8%\n",
      "[('Feature:', 'comorbidity_score', 'Importance:', 0.48499999999999999), ('Feature:', 'severity_score', 'Importance:', 0.33500000000000002), ('Feature:', 'flu_season', 'Importance:', 0.12), ('Feature:', 'age', 'Importance:', 0.044999999999999998), ('Feature:', 'female', 'Importance:', 0.014999999999999999), ('Feature:', 'ed_admit', 'Importance:', 0.0)]\n"
     ]
    }
   ],
   "source": [
    "best_gb_rmse =euclidean(y_test_gb,GBoostModel.predict(X_test_gb))/sqrt(len(y_test_gb))\n",
    "print('Best gb RMSE :{}'.format(best_gb_rmse))\n",
    "print()\n",
    "best_gb_r2 = abs(r2_score(y_test_gb,GBoostModel.predict(X_test_gb)))\n",
    "print('Best gb R^2 score :{:.2%}'.format(best_gb_r2))\n",
    "print()\n",
    "accuracy_score_gb = accuracy_score(y_test_gb,GBoostModel.predict(X_test_gb))\n",
    "print(\"Best gb accuracy {:.1%}\".format(accuracy_score_gb))\n",
    "\n",
    "feature_weights_gb = GBoostModel.feature_importances_[np.argsort(GBoostModel.feature_importances_)[::-1]]\n",
    "feature_names_gb = np.array(tahoe_X.columns)[np.argsort(GBoostModel.feature_importances_)[::-1]]\n",
    "\n",
    "print([('Feature:',i,'Importance:',f)\\\n",
    "    for f,i in zip(feature_weights_gb ,\\\n",
    "                        feature_names_gb)])"
   ]
  },
  {
   "cell_type": "code",
   "execution_count": 258,
   "metadata": {
    "collapsed": false
   },
   "outputs": [
    {
     "data": {
      "text/plain": [
       "array([[ 0.93315796,  0.06684204],\n",
       "       [ 0.78973654,  0.21026346],\n",
       "       [ 0.29366914,  0.70633086],\n",
       "       ..., \n",
       "       [ 0.9092566 ,  0.0907434 ],\n",
       "       [ 0.9371162 ,  0.0628838 ],\n",
       "       [ 0.48121444,  0.51878556]])"
      ]
     },
     "execution_count": 258,
     "metadata": {},
     "output_type": "execute_result"
    }
   ],
   "source": [
    "GBoostModel.predict_proba(X_test_gb)"
   ]
  },
  {
   "cell_type": "code",
   "execution_count": 256,
   "metadata": {
    "collapsed": false
   },
   "outputs": [
    {
     "data": {
      "text/plain": [
       "array([0, 1])"
      ]
     },
     "execution_count": 256,
     "metadata": {},
     "output_type": "execute_result"
    }
   ],
   "source": [
    "GBoostModel.classes_"
   ]
  },
  {
   "cell_type": "code",
   "execution_count": 278,
   "metadata": {
    "collapsed": false
   },
   "outputs": [],
   "source": [
    "fpr_gb,tpr_gb,threshold = roc_curve(np.array(y_test_gb), [_[1] for _ in GBoostModel.predict_proba(X_test_gb)])"
   ]
  },
  {
   "cell_type": "code",
   "execution_count": 83,
   "metadata": {
    "collapsed": false
   },
   "outputs": [],
   "source": [
    "auc_gb= auc(fpr_gb,tpr_gb)"
   ]
  },
  {
   "cell_type": "markdown",
   "metadata": {},
   "source": [
    "# Finally, use support vector machines to predict readmission\n"
   ]
  },
  {
   "cell_type": "code",
   "execution_count": 84,
   "metadata": {
    "collapsed": true
   },
   "outputs": [],
   "source": [
    "svm_model = SVC(probability=True)"
   ]
  },
  {
   "cell_type": "code",
   "execution_count": 85,
   "metadata": {
    "collapsed": false
   },
   "outputs": [],
   "source": [
    "params_svm ={'C':[i for i in np.linspace(.0000001,2,10)],'gamma':[i for i in np.linspace(.0001,2,10)]}"
   ]
  },
  {
   "cell_type": "code",
   "execution_count": 86,
   "metadata": {
    "collapsed": false
   },
   "outputs": [],
   "source": [
    "best_svm_model = GridSearchCV(svm_model,params_svm)"
   ]
  },
  {
   "cell_type": "code",
   "execution_count": 87,
   "metadata": {
    "collapsed": true
   },
   "outputs": [],
   "source": [
    "X_train_svm, X_test_svm, y_train_svm, y_test_svm = train_test_split(tahoe_X,tahoe_y,random_state=42)"
   ]
  },
  {
   "cell_type": "code",
   "execution_count": 88,
   "metadata": {
    "collapsed": false
   },
   "outputs": [],
   "source": [
    "svm_m = best_svm_model.fit(X_train_svm,y_train_svm)"
   ]
  },
  {
   "cell_type": "code",
   "execution_count": 89,
   "metadata": {
    "collapsed": false
   },
   "outputs": [],
   "source": [
    "svm_model = svm_m.best_estimator_"
   ]
  },
  {
   "cell_type": "code",
   "execution_count": 90,
   "metadata": {
    "collapsed": false
   },
   "outputs": [
    {
     "data": {
      "text/plain": [
       "SVC(C=0.66666673333333326, cache_size=200, class_weight=None, coef0=0.0,\n",
       "  decision_function_shape=None, degree=3, gamma=0.0001, kernel='rbf',\n",
       "  max_iter=-1, probability=True, random_state=None, shrinking=True,\n",
       "  tol=0.001, verbose=False)"
      ]
     },
     "execution_count": 90,
     "metadata": {},
     "output_type": "execute_result"
    }
   ],
   "source": [
    " svm_m.best_estimator_"
   ]
  },
  {
   "cell_type": "code",
   "execution_count": 91,
   "metadata": {
    "collapsed": false
   },
   "outputs": [
    {
     "name": "stdout",
     "output_type": "stream",
     "text": [
      "Best svm RMSE :0.4728003235885118\n",
      "\n",
      "Best svm R^2 score :21.62%\n",
      "\n",
      "Best svm accuracy 77.6%\n"
     ]
    }
   ],
   "source": [
    "#compute SVM metrics\n",
    "best_svm_rmse =euclidean(y_test_svm,svm_model.predict(X_test_svm))/sqrt(len(y_test_svm))\n",
    "print('Best svm RMSE :{}'.format(best_svm_rmse))\n",
    "print()\n",
    "best_svm_r2 = abs(r2_score(y_test_svm,svm_model.predict(X_test_svm)))\n",
    "print('Best svm R^2 score :{:.2%}'.format(best_svm_r2))\n",
    "print()\n",
    "accuracy_score_svm = accuracy_score(y_test_svm,svm_model.predict(X_test_svm))\n",
    "print(\"Best svm accuracy {:.1%}\".format(accuracy_score_svm))\n"
   ]
  },
  {
   "cell_type": "code",
   "execution_count": 254,
   "metadata": {
    "collapsed": false
   },
   "outputs": [
    {
     "data": {
      "text/plain": [
       "array([[ 0.83059416,  0.16940584],\n",
       "       [ 0.83634872,  0.16365128],\n",
       "       [ 0.4123274 ,  0.5876726 ],\n",
       "       ..., \n",
       "       [ 0.83119239,  0.16880761],\n",
       "       [ 0.82996345,  0.17003655],\n",
       "       [ 0.35781656,  0.64218344]])"
      ]
     },
     "execution_count": 254,
     "metadata": {},
     "output_type": "execute_result"
    }
   ],
   "source": [
    " best_svm_model.predict_proba(X_test_gb)"
   ]
  },
  {
   "cell_type": "code",
   "execution_count": 277,
   "metadata": {
    "collapsed": false
   },
   "outputs": [],
   "source": [
    "fpr_svm,tpr_svm,threshold_svm = roc_curve(y_test_svm,[_[1] for _ in best_svm_model.predict_proba(X_test_svm)],pos_label=1)"
   ]
  },
  {
   "cell_type": "code",
   "execution_count": 93,
   "metadata": {
    "collapsed": true
   },
   "outputs": [],
   "source": [
    "auc_svm = auc(fpr_svm,tpr_svm)"
   ]
  },
  {
   "cell_type": "code",
   "execution_count": 276,
   "metadata": {
    "collapsed": false
   },
   "outputs": [
    {
     "name": "stdout",
     "output_type": "stream",
     "text": [
      "The area under the curve for logistic 0.7891271854334632, random forest 0.7851707582208534, gradient boosting 0.7877434550231, svm 0.674218679228191\n"
     ]
    }
   ],
   "source": [
    "print(\"The area under the curve for logistic {}, random forest {}, gradient boosting {}, svm {}\".format(\n",
    "    auc_log,auc_rf,auc_gb,auc_svm))"
   ]
  },
  {
   "cell_type": "markdown",
   "metadata": {},
   "source": [
    "## Compare each model using a ROC curve"
   ]
  },
  {
   "cell_type": "code",
   "execution_count": 95,
   "metadata": {
    "collapsed": true
   },
   "outputs": [],
   "source": [
    "# baseline for ROC curve\n",
    "baseline_x = [ i for i in np.linspace(0,1,100)]\n",
    "baseline_y = [ i for i in np.linspace(0,1,100)]"
   ]
  },
  {
   "cell_type": "code",
   "execution_count": 283,
   "metadata": {
    "collapsed": false
   },
   "outputs": [
    {
     "data": {
      "text/plain": [
       "<matplotlib.legend.Legend at 0x11d0ba080>"
      ]
     },
     "execution_count": 283,
     "metadata": {},
     "output_type": "execute_result"
    },
    {
     "data": {
      "image/png": "[encoded data removed]",
      "text/plain": [
       "<matplotlib.figure.Figure at 0x11d442080>"
      ]
     },
     "metadata": {},
     "output_type": "display_data"
    }
   ],
   "source": [
    "plt.figure(figsize=(10,5))\n",
    "plt.plot(fpr_log,tpr_log, label='LOG',color='yellow')\n",
    "plt.plot(fpr_rf,tpr_rf, label = 'RF')\n",
    "plt.plot(fpr_gb,tpr_gb,label='GB')\n",
    "plt.plot(fpr_svm,tpr_svm, label = 'SVM')\n",
    "\n",
    "plt.plot(baseline_x,baseline_y,label='BASELINE',linestyle='dashed')\n",
    "plt.title(\"ROC curve foreadmissions\")\n",
    "plt.ylabel(\"True Positive Rate\")\n",
    "plt.xlabel(\"False Postiive Rate\")\n",
    "plt.legend()"
   ]
  },
  {
   "cell_type": "markdown",
   "metadata": {},
   "source": [
    "- Based upon this, use the Logistic Classification model\n",
    "- Run each row through the model, and generate a probability of readmittance\n",
    "- From this probability, determine where the threshold is to minimize cost\n"
   ]
  },
  {
   "cell_type": "code",
   "execution_count": 106,
   "metadata": {
    "collapsed": false
   },
   "outputs": [
    {
     "data": {
      "text/plain": [
       "4379.0"
      ]
     },
     "execution_count": 106,
     "metadata": {},
     "output_type": "execute_result"
    }
   ],
   "source": [
    "## only 465 positive cases from the default logistic regression (however, this does not distinguish between false\n",
    "## positive and true positive)\n",
    "sum(logistic_model.predict(tahoe_X))"
   ]
  },
  {
   "cell_type": "code",
   "execution_count": 107,
   "metadata": {
    "collapsed": false
   },
   "outputs": [
    {
     "data": {
      "text/plain": [
       "998"
      ]
     },
     "execution_count": 107,
     "metadata": {},
     "output_type": "execute_result"
    }
   ],
   "source": [
    "# almost one thousand positive in reality\n",
    "sum(tahoe_y)\n"
   ]
  },
  {
   "cell_type": "markdown",
   "metadata": {
    "collapsed": true
   },
   "source": [
    "### Create a confusion matrix to understand th tp,fp,tn,fn for logistic regression\n",
    "- Compare the deafult threshold of .50 to the optimal threshold of .34 to see where patients are placed"
   ]
  },
  {
   "cell_type": "code",
   "execution_count": 128,
   "metadata": {
    "collapsed": false
   },
   "outputs": [],
   "source": [
    "## 00 is true negatives\n",
    "## false negative 10\n",
    "# true positive 1,1\n",
    "# false postiive 0,1\n",
    "log_confusion_matrix = confusion_matrix(tahoe_y , logistic_model.predict(tahoe_X))"
   ]
  },
  {
   "cell_type": "code",
   "execution_count": 190,
   "metadata": {
    "collapsed": false
   },
   "outputs": [
    {
     "data": {
      "text/plain": [
       "8356000"
      ]
     },
     "execution_count": 190,
     "metadata": {},
     "output_type": "execute_result"
    }
   ],
   "source": [
    "310*8000+310*1200+688*8000"
   ]
  },
  {
   "cell_type": "code",
   "execution_count": 129,
   "metadata": {
    "collapsed": false
   },
   "outputs": [
    {
     "data": {
      "text/plain": [
       "array([[3229,  155],\n",
       "       [ 688,  310]])"
      ]
     },
     "execution_count": 129,
     "metadata": {},
     "output_type": "execute_result"
    }
   ],
   "source": [
    "log_confusion_matrix "
   ]
  },
  {
   "cell_type": "code",
   "execution_count": 130,
   "metadata": {
    "collapsed": false
   },
   "outputs": [
    {
     "data": {
      "text/plain": [
       "<matplotlib.text.Text at 0x115a11828>"
      ]
     },
     "execution_count": 130,
     "metadata": {},
     "output_type": "execute_result"
    },
    {
     "data": {
      "image/png": "[encoded data removed]",
      "text/plain": [
       "<matplotlib.figure.Figure at 0x118fdc6d8>"
      ]
     },
     "metadata": {},
     "output_type": "display_data"
    }
   ],
   "source": [
    "sns.heatmap(log_confusion_matrix);\n",
    "plt.xlabel(\"predicted\")\n",
    "plt.ylabel(\"actual\")"
   ]
  },
  {
   "cell_type": "markdown",
   "metadata": {
    "collapsed": true
   },
   "source": [
    "- Lot of True Negatives (0,0)\n",
    "- Also, a lot of false negatives (cases where the person was readmitted but we perdicted that there were not going to be readmitted. This means we are conservative in our guessing readmittance.\n",
    "    - Adjust threshold to reduce the false negatives\n",
    " "
   ]
  },
  {
   "cell_type": "code",
   "execution_count": 137,
   "metadata": {
    "collapsed": false
   },
   "outputs": [],
   "source": [
    "#logsitic_predictions_df['prob_readmit']=prob_readmit \n",
    "#logsitic_predictions_df['prob_noreadmit']=prob_noreadmit\n"
   ]
  },
  {
   "cell_type": "code",
   "execution_count": 138,
   "metadata": {
    "collapsed": true
   },
   "outputs": [],
   "source": [
    "#prob_readmit_per_managerial_cluster = min_cost_tahoe_prob_df.loc[:,('managerial_cluster',\"probability_of_readmit\")]"
   ]
  },
  {
   "cell_type": "code",
   "execution_count": 139,
   "metadata": {
    "collapsed": false
   },
   "outputs": [],
   "source": [
    "#prob_readmit_per_managerial_cluster.head()"
   ]
  },
  {
   "cell_type": "markdown",
   "metadata": {},
   "source": [
    "## Next, combine this probability or readmit from logistic, with the probability of readmission per cluster from the managerial clusters"
   ]
  },
  {
   "cell_type": "code",
   "execution_count": 131,
   "metadata": {
    "collapsed": false
   },
   "outputs": [],
   "source": [
    "combo_df = tahoe_mang_cluster_df.join(prob_readmit_per_managerial_cluster,on='managerial_cluster',lsuffix='m_clust')"
   ]
  },
  {
   "cell_type": "code",
   "execution_count": 132,
   "metadata": {
    "collapsed": false
   },
   "outputs": [],
   "source": [
    "combo_df.drop('managerial_clusterm_clust',axis=1,inplace=True)\n"
   ]
  },
  {
   "cell_type": "code",
   "execution_count": 133,
   "metadata": {
    "collapsed": false
   },
   "outputs": [
    {
     "data": {
      "text/plain": [
       "array([[ 0.9714598 ,  0.0285402 ],\n",
       "       [ 0.96592333,  0.03407667],\n",
       "       [ 0.96311018,  0.03688982],\n",
       "       ..., \n",
       "       [ 0.50902559,  0.49097441],\n",
       "       [ 0.11558681,  0.88441319],\n",
       "       [ 0.21720495,  0.78279505]])"
      ]
     },
     "execution_count": 133,
     "metadata": {},
     "output_type": "execute_result"
    }
   ],
   "source": [
    "logistic_model.predict_proba(combo_df.loc[:,('female','flu_season','ed_admit',\n",
    "                                    'age','severity_score','comorbidity_score')])"
   ]
  },
  {
   "cell_type": "code",
   "execution_count": 134,
   "metadata": {
    "collapsed": false
   },
   "outputs": [],
   "source": [
    "prob_noreadmit, prob_readmit = zip(*logistic_model.predict_proba(combo_df.loc[:,('female','flu_season','ed_admit',\n",
    "                                    'age','severity_score','comorbidity_score')]))"
   ]
  },
  {
   "cell_type": "code",
   "execution_count": 135,
   "metadata": {
    "collapsed": true
   },
   "outputs": [],
   "source": [
    "combo_df['prob_readmit_logistic']=prob_readmit \n",
    "combo_df['prob_noreadmit_logistic']=prob_noreadmit\n",
    "combo_df['logistic_prediction']=logistic_model.predict(combo_df.loc[:,('female','flu_season','ed_admit',\n",
    "                                    'age','severity_score','comorbidity_score')])\n"
   ]
  },
  {
   "cell_type": "code",
   "execution_count": 136,
   "metadata": {
    "collapsed": false
   },
   "outputs": [
    {
     "data": {
      "text/html": [
       "<div>\n",
       "<table border=\"1\" class=\"dataframe\">\n",
       "  <thead>\n",
       "    <tr style=\"text-align: right;\">\n",
       "      <th></th>\n",
       "      <th>female</th>\n",
       "      <th>flu_season</th>\n",
       "      <th>ed_admit</th>\n",
       "      <th>readmit30</th>\n",
       "      <th>age</th>\n",
       "      <th>severity_score</th>\n",
       "      <th>comorbidity_score</th>\n",
       "      <th>severity_quantile</th>\n",
       "      <th>comorbidity_quantile</th>\n",
       "      <th>managerial_cluster</th>\n",
       "      <th>probability_of_readmit</th>\n",
       "      <th>prob_readmit_logistic</th>\n",
       "      <th>prob_noreadmit_logistic</th>\n",
       "      <th>logistic_prediction</th>\n",
       "    </tr>\n",
       "  </thead>\n",
       "  <tbody>\n",
       "    <tr>\n",
       "      <th>4144</th>\n",
       "      <td>1.0</td>\n",
       "      <td>1.0</td>\n",
       "      <td>1.0</td>\n",
       "      <td>1.0</td>\n",
       "      <td>66.0</td>\n",
       "      <td>43.0</td>\n",
       "      <td>210.0</td>\n",
       "      <td>3.0</td>\n",
       "      <td>3.0</td>\n",
       "      <td>31</td>\n",
       "      <td>0.717791</td>\n",
       "      <td>0.803125</td>\n",
       "      <td>0.196875</td>\n",
       "      <td>1.0</td>\n",
       "    </tr>\n",
       "    <tr>\n",
       "      <th>4267</th>\n",
       "      <td>1.0</td>\n",
       "      <td>1.0</td>\n",
       "      <td>1.0</td>\n",
       "      <td>1.0</td>\n",
       "      <td>73.0</td>\n",
       "      <td>33.0</td>\n",
       "      <td>192.0</td>\n",
       "      <td>3.0</td>\n",
       "      <td>3.0</td>\n",
       "      <td>31</td>\n",
       "      <td>0.717791</td>\n",
       "      <td>0.684202</td>\n",
       "      <td>0.315798</td>\n",
       "      <td>1.0</td>\n",
       "    </tr>\n",
       "    <tr>\n",
       "      <th>4289</th>\n",
       "      <td>0.0</td>\n",
       "      <td>1.0</td>\n",
       "      <td>1.0</td>\n",
       "      <td>0.0</td>\n",
       "      <td>76.0</td>\n",
       "      <td>38.0</td>\n",
       "      <td>141.0</td>\n",
       "      <td>3.0</td>\n",
       "      <td>3.0</td>\n",
       "      <td>31</td>\n",
       "      <td>0.717791</td>\n",
       "      <td>0.490974</td>\n",
       "      <td>0.509026</td>\n",
       "      <td>0.0</td>\n",
       "    </tr>\n",
       "    <tr>\n",
       "      <th>4291</th>\n",
       "      <td>0.0</td>\n",
       "      <td>1.0</td>\n",
       "      <td>1.0</td>\n",
       "      <td>0.0</td>\n",
       "      <td>87.0</td>\n",
       "      <td>100.0</td>\n",
       "      <td>170.0</td>\n",
       "      <td>3.0</td>\n",
       "      <td>3.0</td>\n",
       "      <td>31</td>\n",
       "      <td>0.717791</td>\n",
       "      <td>0.884413</td>\n",
       "      <td>0.115587</td>\n",
       "      <td>1.0</td>\n",
       "    </tr>\n",
       "    <tr>\n",
       "      <th>4298</th>\n",
       "      <td>0.0</td>\n",
       "      <td>1.0</td>\n",
       "      <td>1.0</td>\n",
       "      <td>1.0</td>\n",
       "      <td>89.0</td>\n",
       "      <td>58.0</td>\n",
       "      <td>197.0</td>\n",
       "      <td>3.0</td>\n",
       "      <td>3.0</td>\n",
       "      <td>31</td>\n",
       "      <td>0.717791</td>\n",
       "      <td>0.782795</td>\n",
       "      <td>0.217205</td>\n",
       "      <td>1.0</td>\n",
       "    </tr>\n",
       "  </tbody>\n",
       "</table>\n",
       "</div>"
      ],
      "text/plain": [
       "      female  flu_season  ed_admit  readmit30   age  severity_score  \\\n",
       "4144     1.0         1.0       1.0        1.0  66.0            43.0   \n",
       "4267     1.0         1.0       1.0        1.0  73.0            33.0   \n",
       "4289     0.0         1.0       1.0        0.0  76.0            38.0   \n",
       "4291     0.0         1.0       1.0        0.0  87.0           100.0   \n",
       "4298     0.0         1.0       1.0        1.0  89.0            58.0   \n",
       "\n",
       "      comorbidity_score  severity_quantile  comorbidity_quantile  \\\n",
       "4144              210.0                3.0                   3.0   \n",
       "4267              192.0                3.0                   3.0   \n",
       "4289              141.0                3.0                   3.0   \n",
       "4291              170.0                3.0                   3.0   \n",
       "4298              197.0                3.0                   3.0   \n",
       "\n",
       "      managerial_cluster  probability_of_readmit  prob_readmit_logistic  \\\n",
       "4144                  31                0.717791               0.803125   \n",
       "4267                  31                0.717791               0.684202   \n",
       "4289                  31                0.717791               0.490974   \n",
       "4291                  31                0.717791               0.884413   \n",
       "4298                  31                0.717791               0.782795   \n",
       "\n",
       "      prob_noreadmit_logistic  logistic_prediction  \n",
       "4144                 0.196875                  1.0  \n",
       "4267                 0.315798                  1.0  \n",
       "4289                 0.509026                  0.0  \n",
       "4291                 0.115587                  1.0  \n",
       "4298                 0.217205                  1.0  "
      ]
     },
     "execution_count": 136,
     "metadata": {},
     "output_type": "execute_result"
    }
   ],
   "source": [
    "combo_df.tail()"
   ]
  },
  {
   "cell_type": "markdown",
   "metadata": {},
   "source": [
    "### Current threshold is at .50, find the number that maximizes the number of true positives and true negatives (and minimizes cost)\n",
    "- This will help compensate for the uneven number of people in each case\n"
   ]
  },
  {
   "cell_type": "code",
   "execution_count": 211,
   "metadata": {
    "collapsed": false
   },
   "outputs": [],
   "source": [
    "def find_threshold(dataframe_i,caretracker_cost=1200,readmit_cost=8000):\n",
    "    \"\"\"Find the best threshold that minimizes cost for logistic classification.\n",
    "    \n",
    "    The formula is  The Cost of readmittance * Number of patients who have be readmitted  , compared to\n",
    "    \n",
    "    The probability of readmittance given that a patient is using care tracker, \n",
    "    times the number of patients in that cluster, time the cost of readmittance, plus the cost of care tracker times\n",
    "    the number of patients in that cluster.\n",
    "    \n",
    "    Returnsa list of tuples containing each threshold and the cost of that threshold\n",
    "    \"\"\"\n",
    "    dataframe_i = dataframe_i.copy()\n",
    "    cost_per_threshold =[]\n",
    "    list_of_thresholds = [i for i in np.linspace(.01,.99,60)]\n",
    "    for threshold in list_of_thresholds:\n",
    "        default_threshold = .5\n",
    "        print(threshold,'current threshold')\n",
    "        ## check if the probability prediction by logistic is greater than our threshold\n",
    "        dataframe_i['predicted_outcome'] = dataframe_i.prob_readmit_logistic > threshold\n",
    "        #dataframe_i['predicted_outcome_logistic'] = dataframe_i.prob_readmit_logistic > deafult_threshold\n",
    "        expected_current_cost = 0\n",
    "        ## based upon this threshold, go through each row and determine the cost of that patient\n",
    "        for idx, row in dataframe_i.iterrows():\n",
    "            if row['predicted_outcome']==1 and row['readmit30']==1:\n",
    "                expected_current_cost += caretracker_cost + .6*readmit_cost\n",
    "                ## caretracker lowers the chance of being readmitted by 40%\n",
    "                ## our prediction was correct here\n",
    "                #print(row)\n",
    "            elif  row['predicted_outcome']==1 and row['readmit30']==0:\n",
    "                ## our algo was wrong\n",
    "                expected_current_cost += caretracker_cost \n",
    "            elif row['predicted_outcome']==0 and row['readmit30']==1:\n",
    "                ### our algo was wrong, false negative\n",
    "                expected_current_cost +=readmit_cost\n",
    "            elif row['predicted_outcome']==0 and row['readmit30']==0:\n",
    "                ## true negative does not add any cost to us\n",
    "                continue\n",
    "        cost_per_threshold.append((threshold,expected_current_cost))\n",
    "    # get the default cost of logistic \n",
    "    expected_default_cost = 0\n",
    "    default_threshold = .5\n",
    "    default_cost_per_threshold = []\n",
    "    for idx, row in dataframe_i.iterrows():\n",
    "        if row['logistic_prediction']==1 and row['readmit30']==1:\n",
    "                expected_default_cost += caretracker_cost + .6*readmit_cost\n",
    "                ## caretracker lowers the chance of being readmitted by 40%\n",
    "                ## our prediction was correct here\n",
    "                #print(row)\n",
    "        elif  row['logistic_prediction']==1 and row['readmit30']==0:\n",
    "                ## our algo was wrong\n",
    "            expected_default_cost += caretracker_cost\n",
    "        elif row['logistic_prediction']==0 and row['readmit30']==1:\n",
    "                ### our algo was wrong, false negative\n",
    "            expected_default_cost +=readmit_cost\n",
    "        elif row['logistic_prediction']==0 and row['readmit30']==0:\n",
    "                ## true negative does not add any cost to us\n",
    "            continue\n",
    "    default_cost_per_threshold.append(([i for i in np.linspace(.01,.99,80)],\\\n",
    "                                       [expected_default_cost for _ in range(len(dataframe_i))])  )  \n",
    "    return cost_per_threshold,default_cost_per_threshold\n",
    "    \n",
    "\n",
    "    "
   ]
  },
  {
   "cell_type": "code",
   "execution_count": 212,
   "metadata": {
    "collapsed": false
   },
   "outputs": [
    {
     "data": {
      "text/html": [
       "<div>\n",
       "<table border=\"1\" class=\"dataframe\">\n",
       "  <thead>\n",
       "    <tr style=\"text-align: right;\">\n",
       "      <th></th>\n",
       "      <th>female</th>\n",
       "      <th>flu_season</th>\n",
       "      <th>ed_admit</th>\n",
       "      <th>readmit30</th>\n",
       "      <th>age</th>\n",
       "      <th>severity_score</th>\n",
       "      <th>comorbidity_score</th>\n",
       "      <th>severity_quantile</th>\n",
       "      <th>comorbidity_quantile</th>\n",
       "      <th>managerial_cluster</th>\n",
       "      <th>probability_of_readmit</th>\n",
       "      <th>prob_readmit_logistic</th>\n",
       "      <th>prob_noreadmit_logistic</th>\n",
       "      <th>logistic_prediction</th>\n",
       "    </tr>\n",
       "  </thead>\n",
       "  <tbody>\n",
       "    <tr>\n",
       "      <th>11</th>\n",
       "      <td>0.0</td>\n",
       "      <td>0.0</td>\n",
       "      <td>0.0</td>\n",
       "      <td>0.0</td>\n",
       "      <td>72.0</td>\n",
       "      <td>5.0</td>\n",
       "      <td>8.0</td>\n",
       "      <td>0.0</td>\n",
       "      <td>0.0</td>\n",
       "      <td>0</td>\n",
       "      <td>0.01005</td>\n",
       "      <td>0.028540</td>\n",
       "      <td>0.971460</td>\n",
       "      <td>0.0</td>\n",
       "    </tr>\n",
       "    <tr>\n",
       "      <th>15</th>\n",
       "      <td>1.0</td>\n",
       "      <td>0.0</td>\n",
       "      <td>0.0</td>\n",
       "      <td>0.0</td>\n",
       "      <td>82.0</td>\n",
       "      <td>1.0</td>\n",
       "      <td>26.0</td>\n",
       "      <td>0.0</td>\n",
       "      <td>0.0</td>\n",
       "      <td>0</td>\n",
       "      <td>0.01005</td>\n",
       "      <td>0.034077</td>\n",
       "      <td>0.965923</td>\n",
       "      <td>0.0</td>\n",
       "    </tr>\n",
       "    <tr>\n",
       "      <th>25</th>\n",
       "      <td>0.0</td>\n",
       "      <td>0.0</td>\n",
       "      <td>1.0</td>\n",
       "      <td>0.0</td>\n",
       "      <td>65.0</td>\n",
       "      <td>1.0</td>\n",
       "      <td>40.0</td>\n",
       "      <td>0.0</td>\n",
       "      <td>0.0</td>\n",
       "      <td>0</td>\n",
       "      <td>0.01005</td>\n",
       "      <td>0.036890</td>\n",
       "      <td>0.963110</td>\n",
       "      <td>0.0</td>\n",
       "    </tr>\n",
       "    <tr>\n",
       "      <th>28</th>\n",
       "      <td>1.0</td>\n",
       "      <td>0.0</td>\n",
       "      <td>1.0</td>\n",
       "      <td>0.0</td>\n",
       "      <td>82.0</td>\n",
       "      <td>3.0</td>\n",
       "      <td>36.0</td>\n",
       "      <td>0.0</td>\n",
       "      <td>0.0</td>\n",
       "      <td>0</td>\n",
       "      <td>0.01005</td>\n",
       "      <td>0.034471</td>\n",
       "      <td>0.965529</td>\n",
       "      <td>0.0</td>\n",
       "    </tr>\n",
       "    <tr>\n",
       "      <th>31</th>\n",
       "      <td>0.0</td>\n",
       "      <td>0.0</td>\n",
       "      <td>1.0</td>\n",
       "      <td>0.0</td>\n",
       "      <td>68.0</td>\n",
       "      <td>3.0</td>\n",
       "      <td>19.0</td>\n",
       "      <td>0.0</td>\n",
       "      <td>0.0</td>\n",
       "      <td>0</td>\n",
       "      <td>0.01005</td>\n",
       "      <td>0.027358</td>\n",
       "      <td>0.972642</td>\n",
       "      <td>0.0</td>\n",
       "    </tr>\n",
       "  </tbody>\n",
       "</table>\n",
       "</div>"
      ],
      "text/plain": [
       "    female  flu_season  ed_admit  readmit30   age  severity_score  \\\n",
       "11     0.0         0.0       0.0        0.0  72.0             5.0   \n",
       "15     1.0         0.0       0.0        0.0  82.0             1.0   \n",
       "25     0.0         0.0       1.0        0.0  65.0             1.0   \n",
       "28     1.0         0.0       1.0        0.0  82.0             3.0   \n",
       "31     0.0         0.0       1.0        0.0  68.0             3.0   \n",
       "\n",
       "    comorbidity_score  severity_quantile  comorbidity_quantile  \\\n",
       "11                8.0                0.0                   0.0   \n",
       "15               26.0                0.0                   0.0   \n",
       "25               40.0                0.0                   0.0   \n",
       "28               36.0                0.0                   0.0   \n",
       "31               19.0                0.0                   0.0   \n",
       "\n",
       "    managerial_cluster  probability_of_readmit  prob_readmit_logistic  \\\n",
       "11                   0                 0.01005               0.028540   \n",
       "15                   0                 0.01005               0.034077   \n",
       "25                   0                 0.01005               0.036890   \n",
       "28                   0                 0.01005               0.034471   \n",
       "31                   0                 0.01005               0.027358   \n",
       "\n",
       "    prob_noreadmit_logistic  logistic_prediction  \n",
       "11                 0.971460                  0.0  \n",
       "15                 0.965923                  0.0  \n",
       "25                 0.963110                  0.0  \n",
       "28                 0.965529                  0.0  \n",
       "31                 0.972642                  0.0  "
      ]
     },
     "execution_count": 212,
     "metadata": {},
     "output_type": "execute_result"
    }
   ],
   "source": [
    "combo_df.head()"
   ]
  },
  {
   "cell_type": "code",
   "execution_count": 213,
   "metadata": {
    "collapsed": false
   },
   "outputs": [
    {
     "name": "stdout",
     "output_type": "stream",
     "text": [
      "0.01 current threshold\n",
      "0.0266101694915 current threshold\n",
      "0.0432203389831 current threshold\n",
      "0.0598305084746 current threshold\n",
      "0.0764406779661 current threshold\n",
      "0.0930508474576 current threshold\n",
      "0.109661016949 current threshold\n",
      "0.126271186441 current threshold\n",
      "0.142881355932 current threshold\n",
      "0.159491525424 current threshold\n",
      "0.176101694915 current threshold\n",
      "0.192711864407 current threshold\n",
      "0.209322033898 current threshold\n",
      "0.22593220339 current threshold\n",
      "0.242542372881 current threshold\n",
      "0.259152542373 current threshold\n",
      "0.275762711864 current threshold\n",
      "0.292372881356 current threshold\n",
      "0.308983050847 current threshold\n",
      "0.325593220339 current threshold\n",
      "0.342203389831 current threshold\n",
      "0.358813559322 current threshold\n",
      "0.375423728814 current threshold\n",
      "0.392033898305 current threshold\n",
      "0.408644067797 current threshold\n",
      "0.425254237288 current threshold\n",
      "0.44186440678 current threshold\n",
      "0.458474576271 current threshold\n",
      "0.475084745763 current threshold\n",
      "0.491694915254 current threshold\n",
      "0.508305084746 current threshold\n",
      "0.524915254237 current threshold\n",
      "0.541525423729 current threshold\n",
      "0.55813559322 current threshold\n",
      "0.574745762712 current threshold\n",
      "0.591355932203 current threshold\n",
      "0.607966101695 current threshold\n",
      "0.624576271186 current threshold\n",
      "0.641186440678 current threshold\n",
      "0.657796610169 current threshold\n",
      "0.674406779661 current threshold\n",
      "0.691016949153 current threshold\n",
      "0.707627118644 current threshold\n",
      "0.724237288136 current threshold\n",
      "0.740847457627 current threshold\n",
      "0.757457627119 current threshold\n",
      "0.77406779661 current threshold\n",
      "0.790677966102 current threshold\n",
      "0.807288135593 current threshold\n",
      "0.823898305085 current threshold\n",
      "0.840508474576 current threshold\n",
      "0.857118644068 current threshold\n",
      "0.873728813559 current threshold\n",
      "0.890338983051 current threshold\n",
      "0.906949152542 current threshold\n",
      "0.923559322034 current threshold\n",
      "0.940169491525 current threshold\n",
      "0.956779661017 current threshold\n",
      "0.973389830508 current threshold\n",
      "0.99 current threshold\n"
     ]
    }
   ],
   "source": [
    "best_thresholds, default_threshold = find_threshold(combo_df)"
   ]
  },
  {
   "cell_type": "code",
   "execution_count": 234,
   "metadata": {
    "collapsed": false
   },
   "outputs": [
    {
     "ename": "AttributeError",
     "evalue": "'list' object has no attribute 'get_yaxis'",
     "output_type": "error",
     "traceback": [
      "\u001b[0;31m---------------------------------------------------------------------------\u001b[0m",
      "\u001b[0;31mAttributeError\u001b[0m                            Traceback (most recent call last)",
      "\u001b[0;32m<ipython-input-234-bc9a775f9ccc>\u001b[0m in \u001b[0;36m<module>\u001b[0;34m()\u001b[0m\n\u001b[1;32m      4\u001b[0m \u001b[0mplt\u001b[0m\u001b[0;34m.\u001b[0m\u001b[0mxlabel\u001b[0m\u001b[0;34m(\u001b[0m\u001b[0;34m'Prob. of readmission threshold'\u001b[0m\u001b[0;34m)\u001b[0m\u001b[0;34m\u001b[0m\u001b[0m\n\u001b[1;32m      5\u001b[0m \u001b[0mplt\u001b[0m\u001b[0;34m.\u001b[0m\u001b[0mtitle\u001b[0m\u001b[0;34m(\u001b[0m\u001b[0;34m\"Optimal Threshold vs. Default Treshold - Logistic Classification\"\u001b[0m\u001b[0;34m)\u001b[0m\u001b[0;34m;\u001b[0m\u001b[0;34m\u001b[0m\u001b[0m\n\u001b[0;32m----> 6\u001b[0;31m f.get_yaxis().set_major_formatter(\n\u001b[0m\u001b[1;32m      7\u001b[0m     matplotlib.ticker.FuncFormatter(lambda x, p: format(int(x), ',')))\n",
      "\u001b[0;31mAttributeError\u001b[0m: 'list' object has no attribute 'get_yaxis'"
     ]
    },
    {
     "data": {
      "image/png": "[encoded data removed]",
      "text/plain": [
       "<matplotlib.figure.Figure at 0x118a520b8>"
      ]
     },
     "metadata": {},
     "output_type": "display_data"
    }
   ],
   "source": [
    "plt.plot(*zip(*best_thresholds))\n",
    "f = plt.plot(default_threshold[0][0],[default_threshold[0][1][0] for _ in np.linspace(.01,99,80)])\n",
    "plt.ylabel('Total cost MM')\n",
    "plt.xlabel('Prob. of readmission threshold')\n",
    "plt.title(\"Optimal Threshold vs. Default Treshold - Logistic Classification\");\n",
    "f.get_yaxis().set_major_formatter(\n",
    "    matplotlib.ticker.FuncFormatter(lambda x, p: format(int(x), ',')))"
   ]
  },
  {
   "cell_type": "code",
   "execution_count": 218,
   "metadata": {
    "collapsed": false
   },
   "outputs": [],
   "source": [
    "\n",
    "min_threshold, min_cost_optimal_threshold = min(best_thresholds, key=itemgetter(1))"
   ]
  },
  {
   "cell_type": "code",
   "execution_count": 219,
   "metadata": {
    "collapsed": false
   },
   "outputs": [
    {
     "data": {
      "text/plain": [
       "0.34220338983050846"
      ]
     },
     "execution_count": 219,
     "metadata": {},
     "output_type": "execute_result"
    }
   ],
   "source": [
    "min_threshold"
   ]
  },
  {
   "cell_type": "code",
   "execution_count": 220,
   "metadata": {
    "collapsed": false
   },
   "outputs": [
    {
     "data": {
      "text/plain": [
       "7492400.0"
      ]
     },
     "execution_count": 220,
     "metadata": {},
     "output_type": "execute_result"
    }
   ],
   "source": [
    "min_cost_optimal_threshold"
   ]
  },
  {
   "cell_type": "code",
   "execution_count": 202,
   "metadata": {
    "collapsed": false
   },
   "outputs": [
    {
     "data": {
      "text/plain": [
       "array([[3229,  155],\n",
       "       [ 688,  310]])"
      ]
     },
     "execution_count": 202,
     "metadata": {},
     "output_type": "execute_result"
    }
   ],
   "source": [
    "log_confusion_matrix "
   ]
  },
  {
   "cell_type": "code",
   "execution_count": 308,
   "metadata": {
    "collapsed": false
   },
   "outputs": [
    {
     "data": {
      "text/plain": [
       "array([[3260,  124],\n",
       "       [ 968,   30]])"
      ]
     },
     "execution_count": 308,
     "metadata": {},
     "output_type": "execute_result"
    }
   ],
   "source": [
    "top_threshold_matrix "
   ]
  },
  {
   "cell_type": "code",
   "execution_count": 210,
   "metadata": {
    "collapsed": false
   },
   "outputs": [
    {
     "data": {
      "text/html": [
       "<div>\n",
       "<table border=\"1\" class=\"dataframe\">\n",
       "  <thead>\n",
       "    <tr style=\"text-align: right;\">\n",
       "      <th></th>\n",
       "      <th>female</th>\n",
       "      <th>flu_season</th>\n",
       "      <th>ed_admit</th>\n",
       "      <th>readmit30</th>\n",
       "      <th>age</th>\n",
       "      <th>severity_score</th>\n",
       "      <th>comorbidity_score</th>\n",
       "      <th>severity_quantile</th>\n",
       "      <th>comorbidity_quantile</th>\n",
       "      <th>managerial_cluster</th>\n",
       "      <th>probability_of_readmit</th>\n",
       "      <th>prob_readmit_logistic</th>\n",
       "      <th>prob_noreadmit_logistic</th>\n",
       "      <th>logistic_prediction</th>\n",
       "    </tr>\n",
       "  </thead>\n",
       "  <tbody>\n",
       "    <tr>\n",
       "      <th>11</th>\n",
       "      <td>0.0</td>\n",
       "      <td>0.0</td>\n",
       "      <td>0.0</td>\n",
       "      <td>0.0</td>\n",
       "      <td>72.0</td>\n",
       "      <td>5.0</td>\n",
       "      <td>8.0</td>\n",
       "      <td>0.0</td>\n",
       "      <td>0.0</td>\n",
       "      <td>0</td>\n",
       "      <td>0.01005</td>\n",
       "      <td>0.028540</td>\n",
       "      <td>0.971460</td>\n",
       "      <td>0.0</td>\n",
       "    </tr>\n",
       "    <tr>\n",
       "      <th>15</th>\n",
       "      <td>1.0</td>\n",
       "      <td>0.0</td>\n",
       "      <td>0.0</td>\n",
       "      <td>0.0</td>\n",
       "      <td>82.0</td>\n",
       "      <td>1.0</td>\n",
       "      <td>26.0</td>\n",
       "      <td>0.0</td>\n",
       "      <td>0.0</td>\n",
       "      <td>0</td>\n",
       "      <td>0.01005</td>\n",
       "      <td>0.034077</td>\n",
       "      <td>0.965923</td>\n",
       "      <td>0.0</td>\n",
       "    </tr>\n",
       "    <tr>\n",
       "      <th>25</th>\n",
       "      <td>0.0</td>\n",
       "      <td>0.0</td>\n",
       "      <td>1.0</td>\n",
       "      <td>0.0</td>\n",
       "      <td>65.0</td>\n",
       "      <td>1.0</td>\n",
       "      <td>40.0</td>\n",
       "      <td>0.0</td>\n",
       "      <td>0.0</td>\n",
       "      <td>0</td>\n",
       "      <td>0.01005</td>\n",
       "      <td>0.036890</td>\n",
       "      <td>0.963110</td>\n",
       "      <td>0.0</td>\n",
       "    </tr>\n",
       "    <tr>\n",
       "      <th>28</th>\n",
       "      <td>1.0</td>\n",
       "      <td>0.0</td>\n",
       "      <td>1.0</td>\n",
       "      <td>0.0</td>\n",
       "      <td>82.0</td>\n",
       "      <td>3.0</td>\n",
       "      <td>36.0</td>\n",
       "      <td>0.0</td>\n",
       "      <td>0.0</td>\n",
       "      <td>0</td>\n",
       "      <td>0.01005</td>\n",
       "      <td>0.034471</td>\n",
       "      <td>0.965529</td>\n",
       "      <td>0.0</td>\n",
       "    </tr>\n",
       "    <tr>\n",
       "      <th>31</th>\n",
       "      <td>0.0</td>\n",
       "      <td>0.0</td>\n",
       "      <td>1.0</td>\n",
       "      <td>0.0</td>\n",
       "      <td>68.0</td>\n",
       "      <td>3.0</td>\n",
       "      <td>19.0</td>\n",
       "      <td>0.0</td>\n",
       "      <td>0.0</td>\n",
       "      <td>0</td>\n",
       "      <td>0.01005</td>\n",
       "      <td>0.027358</td>\n",
       "      <td>0.972642</td>\n",
       "      <td>0.0</td>\n",
       "    </tr>\n",
       "  </tbody>\n",
       "</table>\n",
       "</div>"
      ],
      "text/plain": [
       "    female  flu_season  ed_admit  readmit30   age  severity_score  \\\n",
       "11     0.0         0.0       0.0        0.0  72.0             5.0   \n",
       "15     1.0         0.0       0.0        0.0  82.0             1.0   \n",
       "25     0.0         0.0       1.0        0.0  65.0             1.0   \n",
       "28     1.0         0.0       1.0        0.0  82.0             3.0   \n",
       "31     0.0         0.0       1.0        0.0  68.0             3.0   \n",
       "\n",
       "    comorbidity_score  severity_quantile  comorbidity_quantile  \\\n",
       "11                8.0                0.0                   0.0   \n",
       "15               26.0                0.0                   0.0   \n",
       "25               40.0                0.0                   0.0   \n",
       "28               36.0                0.0                   0.0   \n",
       "31               19.0                0.0                   0.0   \n",
       "\n",
       "    managerial_cluster  probability_of_readmit  prob_readmit_logistic  \\\n",
       "11                   0                 0.01005               0.028540   \n",
       "15                   0                 0.01005               0.034077   \n",
       "25                   0                 0.01005               0.036890   \n",
       "28                   0                 0.01005               0.034471   \n",
       "31                   0                 0.01005               0.027358   \n",
       "\n",
       "    prob_noreadmit_logistic  logistic_prediction  \n",
       "11                 0.971460                  0.0  \n",
       "15                 0.965923                  0.0  \n",
       "25                 0.963110                  0.0  \n",
       "28                 0.965529                  0.0  \n",
       "31                 0.972642                  0.0  "
      ]
     },
     "execution_count": 210,
     "metadata": {},
     "output_type": "execute_result"
    }
   ],
   "source": [
    "combo_df.head()"
   ]
  },
  {
   "cell_type": "code",
   "execution_count": 226,
   "metadata": {
    "collapsed": true
   },
   "outputs": [],
   "source": [
    "combo_df['new_threshold(.34)_prediction']=combo_df['prob_readmit_logistic']>.34"
   ]
  },
  {
   "cell_type": "code",
   "execution_count": 227,
   "metadata": {
    "collapsed": false
   },
   "outputs": [],
   "source": [
    "top_threshold_matrix = confusion_matrix(tahoe_y, combo_df['new_threshold(.34)_prediction'])"
   ]
  },
  {
   "cell_type": "code",
   "execution_count": 228,
   "metadata": {
    "collapsed": false
   },
   "outputs": [
    {
     "data": {
      "text/plain": [
       "array([[2657,  727],\n",
       "       [ 788,  210]])"
      ]
     },
     "execution_count": 228,
     "metadata": {},
     "output_type": "execute_result"
    }
   ],
   "source": [
    "top_threshold_matrix "
   ]
  },
  {
   "cell_type": "code",
   "execution_count": 229,
   "metadata": {
    "collapsed": false
   },
   "outputs": [
    {
     "data": {
      "text/plain": [
       "array([[3229,  155],\n",
       "       [ 688,  310]])"
      ]
     },
     "execution_count": 229,
     "metadata": {},
     "output_type": "execute_result"
    }
   ],
   "source": [
    "log_confusion_matrix"
   ]
  },
  {
   "cell_type": "code",
   "execution_count": 232,
   "metadata": {
    "collapsed": false
   },
   "outputs": [
    {
     "data": {
      "text/plain": [
       "<matplotlib.text.Text at 0x11871efd0>"
      ]
     },
     "execution_count": 232,
     "metadata": {},
     "output_type": "execute_result"
    },
    {
     "data": {
      "image/png": "[encoded data removed]",
      "text/plain": [
       "<matplotlib.figure.Figure at 0x11874ed68>"
      ]
     },
     "metadata": {},
     "output_type": "display_data"
    }
   ],
   "source": [
    "sns.heatmap(top_threshold_matrix);\n",
    "plt.xlabel(\"predicted\")\n",
    "plt.ylabel(\"actual\")\n",
    "plt.title('Confusion Matrix with .34 threshold')"
   ]
  },
  {
   "cell_type": "code",
   "execution_count": 231,
   "metadata": {
    "collapsed": false
   },
   "outputs": [
    {
     "data": {
      "text/plain": [
       "<matplotlib.text.Text at 0x11d93c208>"
      ]
     },
     "execution_count": 231,
     "metadata": {},
     "output_type": "execute_result"
    },
    {
     "data": {
      "image/png": "[encoded data removed]",
      "text/plain": [
       "<matplotlib.figure.Figure at 0x11dd6aef0>"
      ]
     },
     "metadata": {},
     "output_type": "display_data"
    }
   ],
   "source": [
    "sns.heatmap(log_confusion_matrix,annot_kws=True);\n",
    "plt.xlabel(\"predicted\")\n",
    "plt.ylabel(\"actual\")\n",
    "plt.title('Confusion matrix with default(.50) threshold')"
   ]
  },
  {
   "cell_type": "markdown",
   "metadata": {},
   "source": [
    "#### The number of true positives decreased while the number of false negatives increased. Let us explore why\n",
    "- Cost of true positive is caretracker_cost (`$1,200`) +  $.6*$readmit_cost(`$8,000`)\n",
    "- Cost of false negative is  readmit_cost(`$8,000`)\n",
    "- Therefore, only want to assign people to caretracker if you are VERY sure they will be readmitted. We are willing to accept more flase negatives since they are generally less expensive. \n",
    "- Find where the cross over threshold is"
   ]
  },
  {
   "cell_type": "code",
   "execution_count": 505,
   "metadata": {
    "collapsed": false
   },
   "outputs": [
    {
     "data": {
      "text/plain": [
       "1600.0"
      ]
     },
     "execution_count": 505,
     "metadata": {},
     "output_type": "execute_result"
    }
   ],
   "source": [
    "1200+.05*8000"
   ]
  },
  {
   "cell_type": "code",
   "execution_count": 506,
   "metadata": {
    "collapsed": false
   },
   "outputs": [
    {
     "data": {
      "text/html": [
       "<div>\n",
       "<table border=\"1\" class=\"dataframe\">\n",
       "  <thead>\n",
       "    <tr style=\"text-align: right;\">\n",
       "      <th></th>\n",
       "      <th>female</th>\n",
       "      <th>flu_season</th>\n",
       "      <th>ed_admit</th>\n",
       "      <th>readmit30</th>\n",
       "      <th>age</th>\n",
       "      <th>severity_score</th>\n",
       "      <th>comorbidity_score</th>\n",
       "      <th>severity_quantile</th>\n",
       "      <th>comorbidity_quantile</th>\n",
       "      <th>probability_of_readmit</th>\n",
       "      <th>prob_readmit_logistic</th>\n",
       "      <th>prob_noreadmit_logistic</th>\n",
       "      <th>new_threshold(.69)_prediction</th>\n",
       "      <th>logistic_prediction</th>\n",
       "    </tr>\n",
       "  </thead>\n",
       "  <tbody>\n",
       "    <tr>\n",
       "      <th>11</th>\n",
       "      <td>0.0</td>\n",
       "      <td>0.0</td>\n",
       "      <td>0.0</td>\n",
       "      <td>0.0</td>\n",
       "      <td>72.0</td>\n",
       "      <td>5.0</td>\n",
       "      <td>8.0</td>\n",
       "      <td>0.0</td>\n",
       "      <td>0.0</td>\n",
       "      <td>0.01005</td>\n",
       "      <td>0.029244</td>\n",
       "      <td>0.970756</td>\n",
       "      <td>False</td>\n",
       "      <td>0</td>\n",
       "    </tr>\n",
       "    <tr>\n",
       "      <th>15</th>\n",
       "      <td>1.0</td>\n",
       "      <td>0.0</td>\n",
       "      <td>0.0</td>\n",
       "      <td>0.0</td>\n",
       "      <td>82.0</td>\n",
       "      <td>1.0</td>\n",
       "      <td>26.0</td>\n",
       "      <td>0.0</td>\n",
       "      <td>0.0</td>\n",
       "      <td>0.01005</td>\n",
       "      <td>0.035307</td>\n",
       "      <td>0.964693</td>\n",
       "      <td>False</td>\n",
       "      <td>0</td>\n",
       "    </tr>\n",
       "    <tr>\n",
       "      <th>25</th>\n",
       "      <td>0.0</td>\n",
       "      <td>0.0</td>\n",
       "      <td>1.0</td>\n",
       "      <td>0.0</td>\n",
       "      <td>65.0</td>\n",
       "      <td>1.0</td>\n",
       "      <td>40.0</td>\n",
       "      <td>0.0</td>\n",
       "      <td>0.0</td>\n",
       "      <td>0.01005</td>\n",
       "      <td>0.036745</td>\n",
       "      <td>0.963255</td>\n",
       "      <td>False</td>\n",
       "      <td>0</td>\n",
       "    </tr>\n",
       "    <tr>\n",
       "      <th>28</th>\n",
       "      <td>1.0</td>\n",
       "      <td>0.0</td>\n",
       "      <td>1.0</td>\n",
       "      <td>0.0</td>\n",
       "      <td>82.0</td>\n",
       "      <td>3.0</td>\n",
       "      <td>36.0</td>\n",
       "      <td>0.0</td>\n",
       "      <td>0.0</td>\n",
       "      <td>0.01005</td>\n",
       "      <td>0.034833</td>\n",
       "      <td>0.965167</td>\n",
       "      <td>False</td>\n",
       "      <td>0</td>\n",
       "    </tr>\n",
       "    <tr>\n",
       "      <th>31</th>\n",
       "      <td>0.0</td>\n",
       "      <td>0.0</td>\n",
       "      <td>1.0</td>\n",
       "      <td>0.0</td>\n",
       "      <td>68.0</td>\n",
       "      <td>3.0</td>\n",
       "      <td>19.0</td>\n",
       "      <td>0.0</td>\n",
       "      <td>0.0</td>\n",
       "      <td>0.01005</td>\n",
       "      <td>0.027307</td>\n",
       "      <td>0.972693</td>\n",
       "      <td>False</td>\n",
       "      <td>0</td>\n",
       "    </tr>\n",
       "  </tbody>\n",
       "</table>\n",
       "</div>"
      ],
      "text/plain": [
       "    female  flu_season  ed_admit  readmit30   age  severity_score  \\\n",
       "11     0.0         0.0       0.0        0.0  72.0             5.0   \n",
       "15     1.0         0.0       0.0        0.0  82.0             1.0   \n",
       "25     0.0         0.0       1.0        0.0  65.0             1.0   \n",
       "28     1.0         0.0       1.0        0.0  82.0             3.0   \n",
       "31     0.0         0.0       1.0        0.0  68.0             3.0   \n",
       "\n",
       "    comorbidity_score  severity_quantile  comorbidity_quantile  \\\n",
       "11                8.0                0.0                   0.0   \n",
       "15               26.0                0.0                   0.0   \n",
       "25               40.0                0.0                   0.0   \n",
       "28               36.0                0.0                   0.0   \n",
       "31               19.0                0.0                   0.0   \n",
       "\n",
       "    probability_of_readmit  prob_readmit_logistic  prob_noreadmit_logistic  \\\n",
       "11                 0.01005               0.029244                 0.970756   \n",
       "15                 0.01005               0.035307                 0.964693   \n",
       "25                 0.01005               0.036745                 0.963255   \n",
       "28                 0.01005               0.034833                 0.965167   \n",
       "31                 0.01005               0.027307                 0.972693   \n",
       "\n",
       "   new_threshold(.69)_prediction  logistic_prediction  \n",
       "11                         False                    0  \n",
       "15                         False                    0  \n",
       "25                         False                    0  \n",
       "28                         False                    0  \n",
       "31                         False                    0  "
      ]
     },
     "execution_count": 506,
     "metadata": {},
     "output_type": "execute_result"
    }
   ],
   "source": [
    "combo_df.head()"
   ]
  },
  {
   "cell_type": "code",
   "execution_count": 239,
   "metadata": {
    "collapsed": false
   },
   "outputs": [],
   "source": [
    "combo_df['new_threshold(.69)_prediction']=combo_df['prob_readmit_logistic']>.69\n",
    "default_cost_logistic = default_threshold[0][1][0]\n"
   ]
  },
  {
   "cell_type": "code",
   "execution_count": 240,
   "metadata": {
    "collapsed": false
   },
   "outputs": [
    {
     "data": {
      "text/plain": [
       "7550000.0"
      ]
     },
     "execution_count": 240,
     "metadata": {},
     "output_type": "execute_result"
    }
   ],
   "source": [
    "default_cost_logistic"
   ]
  },
  {
   "cell_type": "code",
   "execution_count": 241,
   "metadata": {
    "collapsed": false
   },
   "outputs": [
    {
     "name": "stdout",
     "output_type": "stream",
     "text": [
      "The total ACTUAL cost of assigning everyone to caretracker is        10,048,800.00\n",
      "The total ACTUAL cost of assigning noone to caretracker         7,984,000.00\n",
      "The total EXPECTED cost of using managerial clusters and assigning to caretracker from there is         7,557,600.00\n",
      "The EXPECTED cost of using logistic with the default threshold         7,550,000.00\n",
      "The EXPECTED cost of using logistic with the optimal (.34) threshold         7,492,400.00\n",
      "The savings of using the optimal logistic model is           491,600.00\n"
     ]
    }
   ],
   "source": [
    "print(\"The total ACTUAL cost of assigning everyone to caretracker is {:20,.2f}\".format(total_cost_caretracker))\n",
    "print(\"The total ACTUAL cost of assigning noone to caretracker {:20,.2f}\".format(total_cost_readmitt_no_caretracker ))\n",
    "print(\"The total EXPECTED cost of using managerial clusters and assigning to caretracker from there is {:20,.2f}\".format(managerial_min_cost))\n",
    "\n",
    "print(\"The EXPECTED cost of using logistic with the default threshold {:20,.2f}\".format(default_cost_logistic))\n",
    "print(\"The EXPECTED cost of using logistic with the optimal (.34) threshold {:20,.2f}\".format(min_cost_optimal_threshold ))\n",
    "print(\"The savings of using the optimal logistic model is {:20,.2f}\".format(total_cost_readmitt_no_caretracker-min_cost_optimal_threshold))"
   ]
  },
  {
   "cell_type": "markdown",
   "metadata": {},
   "source": [
    "- Plot all of the costs against eachother"
   ]
  },
  {
   "cell_type": "code",
   "execution_count": 242,
   "metadata": {
    "collapsed": false
   },
   "outputs": [
    {
     "data": {
      "text/plain": [
       "<matplotlib.text.Text at 0x11cb84320>"
      ]
     },
     "execution_count": 242,
     "metadata": {},
     "output_type": "execute_result"
    },
    {
     "data": {
      "image/png": "[encoded data removed]",
      "text/plain": [
       "<matplotlib.figure.Figure at 0x11cba92b0>"
      ]
     },
     "metadata": {},
     "output_type": "display_data"
    }
   ],
   "source": [
    "plt.figure(figsize=(10,5))\n",
    "fig = sns.barplot(x=['everyone caretracker','no one caretracker','managerial decision rule',\\\n",
    "                     'default logistic','optimal logistic'],\\\n",
    "           y=[total_cost_caretracker,total_cost_readmitt_no_caretracker,managerial_min_cost, \n",
    "             default_cost_logistic,min_cost_optimal_threshold ],ci='.9')\n",
    "fig.get_yaxis().set_major_formatter(\n",
    "    matplotlib.ticker.FuncFormatter(lambda x, p: format(int(x), ',')))\n",
    "plt.title('Cost Comparison')\n",
    "plt.ylabel(\"Dollars\")\n"
   ]
  },
  {
   "cell_type": "code",
   "execution_count": 780,
   "metadata": {
    "collapsed": false
   },
   "outputs": [
    {
     "data": {
      "text/plain": [
       "'        3,477,335.96 -        2,318,223.97 '"
      ]
     },
     "execution_count": 780,
     "metadata": {},
     "output_type": "execute_result"
    }
   ],
   "source": [
    "# Error range for optimal logistic given that accuracy is only 80%\n",
    "\"{:20,.2f} -{:20,.2f} \".format(min_cost_optimal_threshold*.2+min_cost_optimal_threshold, \\\n",
    "                              min_cost_optimal_threshold-min_cost_optimal_threshold*.2,)"
   ]
  },
  {
   "cell_type": "markdown",
   "metadata": {},
   "source": [
    "### Finally, compre the number of people enrolled in caretracker across policies"
   ]
  },
  {
   "cell_type": "code",
   "execution_count": 244,
   "metadata": {
    "collapsed": false
   },
   "outputs": [
    {
     "data": {
      "text/plain": [
       "<matplotlib.text.Text at 0x11e6bd198>"
      ]
     },
     "execution_count": 244,
     "metadata": {},
     "output_type": "execute_result"
    },
    {
     "data": {
      "image/png": "[encoded data removed]",
      "text/plain": [
       "<matplotlib.figure.Figure at 0x11e697eb8>"
      ]
     },
     "metadata": {},
     "output_type": "display_data"
    }
   ],
   "source": [
    "plt.figure(figsize=(10,5))\n",
    "sns.barplot(x=['everyone caretracker','managerial decision rule',\\\n",
    "                     'default logistic','optimal logistic'],\n",
    "            y=[4382,850,465,937])\n",
    "plt.title('Caretracker Enrollment across Policies')\n",
    "plt.ylabel('Number of patients')"
   ]
  },
  {
   "cell_type": "markdown",
   "metadata": {},
   "source": [
    "### Recommendation\n",
    "- Even though the 'optimal' threshold for logistic regression will save 8k over the default logistic regression, it is too sensitive to cluster probabilities\n",
    "    - Given that we have a very small sample size, these probabilities are bound to  change\n",
    "- The recommendation is to use the default logistic regression, which assigns 310 people to caretracker (vs. 210 for the optimal logistic)\n",
    "    - Still have savings of $.48 MM"
   ]
  },
  {
   "cell_type": "code",
   "execution_count": null,
   "metadata": {
    "collapsed": true
   },
   "outputs": [],
   "source": []
  }
 ],
 "metadata": {
  "anaconda-cloud": {},
  "kernelspec": {
   "display_name": "Python [default]",
   "language": "python",
   "name": "python3"
  },
  "language_info": {
   "codemirror_mode": {
    "name": "ipython",
    "version": 3
   },
   "file_extension": ".py",
   "mimetype": "text/x-python",
   "name": "python",
   "nbconvert_exporter": "python",
   "pygments_lexer": "ipython3",
   "version": "3.5.2"
  }
 },
 "nbformat": 4,
 "nbformat_minor": 1
}
