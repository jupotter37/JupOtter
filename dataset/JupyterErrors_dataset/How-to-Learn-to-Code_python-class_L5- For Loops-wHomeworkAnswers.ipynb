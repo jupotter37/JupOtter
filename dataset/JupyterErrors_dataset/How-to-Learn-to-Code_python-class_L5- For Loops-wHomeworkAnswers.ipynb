{
 "cells": [
  {
   "cell_type": "code",
   "execution_count": 30,
   "metadata": {},
   "outputs": [],
   "source": [
    "#Go over previous class homework -- List review self contained"
   ]
  },
  {
   "cell_type": "markdown",
   "metadata": {},
   "source": [
    "# For Loops\n",
    "Loops are coding structures that repeat the same portion of code multiple times. For Loops define how many times to repeat the code in the beginning. While loops repeats the code until a conditional statement has been met. Since we haven’t gone over conditional statements yet, today’s lesson will only focus on for loops. \n",
    "\n",
    "In python the basic loop structure is seen below: "
   ]
  },
  {
   "cell_type": "code",
   "execution_count": 38,
   "metadata": {},
   "outputs": [
    {
     "name": "stdout",
     "output_type": "stream",
     "text": [
      "1\n",
      "3\n",
      "5\n",
      "7\n",
      "10\n",
      "22\n",
      "1\n",
      "2\n",
      "3\n",
      "4\n",
      "5\n"
     ]
    }
   ],
   "source": [
    "values = [1,3,5,7,10,22,1,2,3,4,5]\n",
    "\n",
    "for i in values:\n",
    "    print(i)\n"
   ]
  },
  {
   "cell_type": "markdown",
   "metadata": {},
   "source": [
    "‘i' is a new variable we declare, this will keep track of our iterations. Every for statement ends with a ‘:’. Underneath the for statement is code, indented over by one tab, that will repeat for every iteration. In this example we want print our variable ‘i’ every iteration.\n",
    "\n",
    "For loops are especially useful for iterating through the items in a list. The iterating variable cycles through each element of the list. \n",
    "\n",
    "We can iterate through values by using range, which is a generator. Generators are types of iterators, functions that iterate through something and return certain values:"
   ]
  },
  {
   "cell_type": "code",
   "execution_count": 10,
   "metadata": {},
   "outputs": [
    {
     "name": "stdout",
     "output_type": "stream",
     "text": [
      "range(0, 5)\n"
     ]
    }
   ],
   "source": [
    "print(range(5))"
   ]
  },
  {
   "cell_type": "markdown",
   "metadata": {},
   "source": [
    "Note that range(5) does not return a list as you may expect, such as [0,1,2,3,4]. This is because by calling range(5), you would return 0, 1, 2, 3, 4, and 5, but print here is printing out the generator range(0,5), we can access the values returned using a for loop. Just be aware of this, in reality you should easily be able to use generators/iterators such as range with for loops:"
   ]
  },
  {
   "cell_type": "code",
   "execution_count": 11,
   "metadata": {},
   "outputs": [
    {
     "name": "stdout",
     "output_type": "stream",
     "text": [
      "0\n",
      "1\n",
      "2\n",
      "3\n",
      "4\n"
     ]
    }
   ],
   "source": [
    "for i in range(5):\n",
    "    print(i)"
   ]
  },
  {
   "cell_type": "markdown",
   "metadata": {},
   "source": [
    "# Quick tangents: casting and string formatting\n",
    "Casting can be used to assign variables to a different type if valid:"
   ]
  },
  {
   "cell_type": "code",
   "execution_count": 12,
   "metadata": {},
   "outputs": [],
   "source": [
    "a = '123'\n",
    "b = 'This is a string'\n",
    "c = '123.15'\n",
    "d = 100"
   ]
  },
  {
   "cell_type": "code",
   "execution_count": 13,
   "metadata": {},
   "outputs": [
    {
     "data": {
      "text/plain": [
       "123"
      ]
     },
     "execution_count": 13,
     "metadata": {},
     "output_type": "execute_result"
    }
   ],
   "source": [
    "int(a)"
   ]
  },
  {
   "cell_type": "code",
   "execution_count": 14,
   "metadata": {},
   "outputs": [
    {
     "ename": "ValueError",
     "evalue": "invalid literal for int() with base 10: 'This is a string'",
     "output_type": "error",
     "traceback": [
      "\u001b[0;31m---------------------------------------------------------------------------\u001b[0m",
      "\u001b[0;31mValueError\u001b[0m                                Traceback (most recent call last)",
      "\u001b[0;32m<ipython-input-14-07ae29993d50>\u001b[0m in \u001b[0;36m<module>\u001b[0;34m()\u001b[0m\n\u001b[0;32m----> 1\u001b[0;31m \u001b[0mint\u001b[0m\u001b[0;34m(\u001b[0m\u001b[0mb\u001b[0m\u001b[0;34m)\u001b[0m\u001b[0;34m\u001b[0m\u001b[0m\n\u001b[0m",
      "\u001b[0;31mValueError\u001b[0m: invalid literal for int() with base 10: 'This is a string'"
     ]
    }
   ],
   "source": [
    "int(b)"
   ]
  },
  {
   "cell_type": "code",
   "execution_count": 15,
   "metadata": {},
   "outputs": [
    {
     "ename": "ValueError",
     "evalue": "invalid literal for int() with base 10: '123.15'",
     "output_type": "error",
     "traceback": [
      "\u001b[0;31m---------------------------------------------------------------------------\u001b[0m",
      "\u001b[0;31mValueError\u001b[0m                                Traceback (most recent call last)",
      "\u001b[0;32m<ipython-input-15-089eb950f64f>\u001b[0m in \u001b[0;36m<module>\u001b[0;34m()\u001b[0m\n\u001b[0;32m----> 1\u001b[0;31m \u001b[0mint\u001b[0m\u001b[0;34m(\u001b[0m\u001b[0mc\u001b[0m\u001b[0;34m)\u001b[0m\u001b[0;34m\u001b[0m\u001b[0m\n\u001b[0m",
      "\u001b[0;31mValueError\u001b[0m: invalid literal for int() with base 10: '123.15'"
     ]
    }
   ],
   "source": [
    "int(c)"
   ]
  },
  {
   "cell_type": "code",
   "execution_count": 19,
   "metadata": {},
   "outputs": [
    {
     "data": {
      "text/plain": [
       "123.15"
      ]
     },
     "execution_count": 19,
     "metadata": {},
     "output_type": "execute_result"
    }
   ],
   "source": [
    "float(c)"
   ]
  },
  {
   "cell_type": "code",
   "execution_count": 18,
   "metadata": {},
   "outputs": [
    {
     "data": {
      "text/plain": [
       "'100'"
      ]
     },
     "execution_count": 18,
     "metadata": {},
     "output_type": "execute_result"
    }
   ],
   "source": [
    "str(d)"
   ]
  },
  {
   "cell_type": "markdown",
   "metadata": {},
   "source": [
    "String formatting is a way to substitute variables into a string, this is done by adding {} within a string where you want the variable placed and calling YourString.format(YourVariable/s):"
   ]
  },
  {
   "cell_type": "code",
   "execution_count": 39,
   "metadata": {},
   "outputs": [
    {
     "name": "stdout",
     "output_type": "stream",
     "text": [
      "We have 12 apples and 2 oranges for 14 fruit in total.\n"
     ]
    }
   ],
   "source": [
    "apples = 12\n",
    "oranges = 2\n",
    "string = \"We have {} apples and {} oranges for {} fruit in total.\"\n",
    "string = string.format(apples, oranges, apples+oranges)\n",
    "print(string)"
   ]
  },
  {
   "cell_type": "markdown",
   "metadata": {},
   "source": [
    "# Now back to for loops:\n",
    "\n",
    "Let's use what we have learned to print out a string saying The value at index X is Y for the list we created earlier:"
   ]
  },
  {
   "cell_type": "code",
   "execution_count": 32,
   "metadata": {},
   "outputs": [
    {
     "name": "stdout",
     "output_type": "stream",
     "text": [
      "The value at index  0  is  1\n",
      "The value at index  1  is  3\n",
      "The value at index  2  is  5\n",
      "The value at index  3  is  7\n",
      "The value at index  4  is  10\n",
      "The value at index  5  is  22\n",
      "The value at index  6  is  1\n",
      "The value at index  7  is  2\n",
      "The value at index  8  is  3\n",
      "The value at index  9  is  4\n",
      "The value at index  10  is  5\n"
     ]
    }
   ],
   "source": [
    "#bad way: split print line using ,\n",
    "\n",
    "for i in range(0,len(values)):\n",
    "    print(\"The value at index \", i , \" is \" , values[i]) "
   ]
  },
  {
   "cell_type": "code",
   "execution_count": 33,
   "metadata": {},
   "outputs": [
    {
     "name": "stdout",
     "output_type": "stream",
     "text": [
      "The value at index 0 is 1\n",
      "The value at index 1 is 3\n",
      "The value at index 2 is 5\n",
      "The value at index 3 is 7\n",
      "The value at index 4 is 10\n",
      "The value at index 5 is 22\n",
      "The value at index 6 is 1\n",
      "The value at index 7 is 2\n",
      "The value at index 8 is 3\n",
      "The value at index 9 is 4\n",
      "The value at index 10 is 5\n"
     ]
    }
   ],
   "source": [
    "#better way: create a string using casting on each variable\n",
    "for i in range(0,len(values)):\n",
    "    print(\"The value at index \"+ str(i) + \" is \" + str(values[i]))"
   ]
  },
  {
   "cell_type": "code",
   "execution_count": 34,
   "metadata": {},
   "outputs": [
    {
     "name": "stdout",
     "output_type": "stream",
     "text": [
      "The value at index 0 is 1\n",
      "The value at index 1 is 3\n",
      "The value at index 2 is 5\n",
      "The value at index 3 is 7\n",
      "The value at index 4 is 10\n",
      "The value at index 5 is 22\n",
      "The value at index 6 is 1\n",
      "The value at index 7 is 2\n",
      "The value at index 8 is 3\n",
      "The value at index 9 is 4\n",
      "The value at index 10 is 5\n"
     ]
    }
   ],
   "source": [
    "#best way: use string formatting \n",
    "for i in range(0,len(values)):\n",
    "    print(\"The value at index {} is {}\".format(i, values[i]))"
   ]
  },
  {
   "cell_type": "markdown",
   "metadata": {},
   "source": [
    "For loops are useful for doing calculations:"
   ]
  },
  {
   "cell_type": "code",
   "execution_count": 37,
   "metadata": {},
   "outputs": [
    {
     "name": "stdout",
     "output_type": "stream",
     "text": [
      "0*5 = 0\n",
      "1*5 = 5\n",
      "2*5 = 10\n",
      "3*5 = 15\n",
      "4*5 = 20\n"
     ]
    }
   ],
   "source": [
    "for i in range(5):\n",
    "    calculation = i*5\n",
    "    print(\"{}*5 = {}\".format(i, calculation))"
   ]
  },
  {
   "cell_type": "code",
   "execution_count": 44,
   "metadata": {},
   "outputs": [
    {
     "name": "stdout",
     "output_type": "stream",
     "text": [
      "We have 12 apples and 2 oranges for 14 fruit in total."
     ]
    }
   ],
   "source": [
    "for letter in string:\n",
    "    print(letter)\n",
    "#     print(letter, end = '')"
   ]
  },
  {
   "cell_type": "markdown",
   "metadata": {},
   "source": [
    "# Arrays/matrices and nested loops:\n",
    "A lot of data you will work with is in the shapes of arrays/matrices, where you have several rows and columns in a data set, these can be iterated through using nested loops:"
   ]
  },
  {
   "cell_type": "code",
   "execution_count": 48,
   "metadata": {},
   "outputs": [
    {
     "name": "stdout",
     "output_type": "stream",
     "text": [
      "[[1, 2, 3], [4, 5, 6], [7, 8, 9]]\n"
     ]
    }
   ],
   "source": [
    "row1 = [1,2,3]\n",
    "row2 = [4,5,6]\n",
    "row3 = [7,8,9]\n",
    "mat = [row1,row2,row3]\n",
    "print(mat)"
   ]
  },
  {
   "cell_type": "code",
   "execution_count": 88,
   "metadata": {},
   "outputs": [
    {
     "name": "stdout",
     "output_type": "stream",
     "text": [
      "[1, 2, 3]\n",
      "[4, 5, 6]\n",
      "[7, 8, 9]\n"
     ]
    }
   ],
   "source": [
    "#print out each row of our matrix\n",
    "for row in mat:\n",
    "    print(row)"
   ]
  },
  {
   "cell_type": "code",
   "execution_count": 50,
   "metadata": {},
   "outputs": [
    {
     "name": "stdout",
     "output_type": "stream",
     "text": [
      "1\n",
      "2\n",
      "3\n",
      "4\n",
      "5\n",
      "6\n",
      "7\n",
      "8\n",
      "9\n"
     ]
    }
   ],
   "source": [
    "#print out each value in our matrix\n",
    "for row in mat:\n",
    "    for i in row:\n",
    "        print(i)"
   ]
  },
  {
   "cell_type": "code",
   "execution_count": 68,
   "metadata": {},
   "outputs": [
    {
     "name": "stdout",
     "output_type": "stream",
     "text": [
      "3\n",
      "6\n",
      "9\n",
      "The third column is [3, 6, 9]\n"
     ]
    }
   ],
   "source": [
    "#print out the 3rd column\n",
    "\n",
    "for row in mat:\n",
    "    print(row[2])\n",
    "    \n",
    "col3_string = \"The third column is {}\"\n",
    "col3_list = []\n",
    "for row in mat:\n",
    "    col3_list.append(row[2])\n",
    "print(col3_string.format(col3_list))\n",
    "    \n"
   ]
  },
  {
   "cell_type": "code",
   "execution_count": 89,
   "metadata": {},
   "outputs": [
    {
     "name": "stdout",
     "output_type": "stream",
     "text": [
      "2.0\n",
      "5.0\n",
      "8.0\n"
     ]
    }
   ],
   "source": [
    "#print out the mean of each row\n",
    "for row in mat:\n",
    "    sum_row = 0\n",
    "    for i in row:\n",
    "        sum_row += i\n",
    "    print(sum_row/len(row))\n",
    "    "
   ]
  },
  {
   "cell_type": "markdown",
   "metadata": {},
   "source": [
    "# Iterating Files using For Loops\n",
    "For loops can be used to iterate through all the lines of a file. Download the PDACGeneExpression.csv file.  This is an abbreviated file downloaded from the TCGA database. It contains normalized gene expression values for patients with pancreatic cancer. Open the file and read in the first line."
   ]
  },
  {
   "cell_type": "code",
   "execution_count": 77,
   "metadata": {},
   "outputs": [
    {
     "name": "stdout",
     "output_type": "stream",
     "text": [
      "Hugo_Symbol,JAAB101,JAAB401,JAAB601,JAAB801,JAABA01,JAABE01,JAABF01,JAABH01,JAABI01,JAABK01\n",
      "\n"
     ]
    }
   ],
   "source": [
    "file = open('PDACGeneExpression.csv','r')\n",
    "header = file.readline()\n",
    "file.close()\n",
    "print(header)\n"
   ]
  },
  {
   "cell_type": "markdown",
   "metadata": {},
   "source": [
    "You should see from the line output that this file is in the comma separated value format. Split the ‘head’ variable using comma’s as the separator and save it as a variable."
   ]
  },
  {
   "cell_type": "code",
   "execution_count": 78,
   "metadata": {},
   "outputs": [
    {
     "name": "stdout",
     "output_type": "stream",
     "text": [
      "['Hugo_Symbol', 'JAAB101', 'JAAB401', 'JAAB601', 'JAAB801', 'JAABA01', 'JAABE01', 'JAABF01', 'JAABH01', 'JAABI01', 'JAABK01']\n"
     ]
    }
   ],
   "source": [
    "header = header.replace('\\n','')\n",
    "header = header.split(',')\n",
    "print(header)"
   ]
  },
  {
   "cell_type": "code",
   "execution_count": 85,
   "metadata": {},
   "outputs": [
    {
     "name": "stdout",
     "output_type": "stream",
     "text": [
      "For patent 1 the gene expression for gene S100A5 is 0.822784869582219.\n",
      "For patent 1 the gene expression for gene NHLH1 is 0.394702796775243.\n",
      "For patent 1 the gene expression for gene RRS1 is 0.251006686303772.\n",
      "For patent 1 the gene expression for gene C6orf168 is 0.699903413245089.\n",
      "For patent 1 the gene expression for gene C3orf39 is 0.611252664782601.\n",
      "For patent 1 the gene expression for gene MMACHC is 0.596787574192.\n",
      "For patent 1 the gene expression for gene MRPS18C is 0.0529750433840126.\n",
      "For patent 1 the gene expression for gene TMEM186 is 0.9550460317666.\n",
      "For patent 1 the gene expression for gene MED13 is 0.0550268866226761.\n"
     ]
    }
   ],
   "source": [
    "file = open('PDACGeneExpression.csv','r')\n",
    "\n",
    "Genes = []\n",
    "Patient1 = []\n",
    "dataLines = file.readlines()\n",
    "for csv_line in dataLines:\n",
    "    csv_line = csv_line.replace('\\n','')\n",
    "    split_line = csv_line.split(',')\n",
    "    Genes.append(split_line[0])\n",
    "    Patient1.append(split_line[1])\n",
    "\n",
    "for i in range(1,10):\n",
    "    string = \"For patent 1 the gene expression for gene {} is {}.\"\n",
    "    string = string.format(Genes[i], Patient1[i])\n",
    "    print(string)\n",
    "\n",
    "file.close()"
   ]
  },
  {
   "cell_type": "code",
   "execution_count": 7,
   "metadata": {
    "scrolled": false
   },
   "outputs": [],
   "source": [
    "file1 = open('channel1.csv','r')\n",
    "file2 = open('channel2.csv','r')\n",
    "\n",
    "ch1 = []\n",
    "dataLines = file1.readlines()\n",
    "for csv_line in dataLines:\n",
    "    csv_line = csv_line.replace('\\n','')\n",
    "    split_line = csv_line.split(',')\n",
    "    row = []\n",
    "    for value in split_line:\n",
    "        row.append(eval(value))\n",
    "    ch1.append(row)\n",
    "    \n",
    "ch2 = []\n",
    "dataLines = file2.readlines()\n",
    "for csv_line in dataLines:\n",
    "    csv_line = csv_line.replace('\\n','')\n",
    "    split_line = csv_line.split(',')\n",
    "    row = []\n",
    "    for value in split_line:\n",
    "        row.append(float(value))\n",
    "    ch2.append(row)\n",
    "\n",
    "file1.close()\n",
    "file2.close()\n",
    "\n"
   ]
  },
  {
   "cell_type": "code",
   "execution_count": 8,
   "metadata": {},
   "outputs": [
    {
     "name": "stdout",
     "output_type": "stream",
     "text": [
      "Sum of channel 1 is 16494.792156867, Sum of channel 2 is 23153.494117651986.\n"
     ]
    }
   ],
   "source": [
    "sum1 = 0\n",
    "max1 = 0\n",
    "for row in ch1:\n",
    "    for val in row:\n",
    "        sum1 += val\n",
    "\n",
    "sum2 = 0\n",
    "for row in ch2:\n",
    "    for val in row:\n",
    "        sum2 += val\n",
    "        \n",
    "print('Sum of channel 1 is {}, Sum of channel 2 is {}.'.format(sum1,sum2))\n"
   ]
  },
  {
   "cell_type": "code",
   "execution_count": null,
   "metadata": {},
   "outputs": [],
   "source": []
  }
 ],
 "metadata": {
  "kernelspec": {
   "display_name": "Python 3",
   "language": "python",
   "name": "python3"
  },
  "language_info": {
   "codemirror_mode": {
    "name": "ipython",
    "version": 3
   },
   "file_extension": ".py",
   "mimetype": "text/x-python",
   "name": "python",
   "nbconvert_exporter": "python",
   "pygments_lexer": "ipython3",
   "version": "3.6.5"
  }
 },
 "nbformat": 4,
 "nbformat_minor": 2
}
