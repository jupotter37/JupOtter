{
 "cells": [
  {
   "cell_type": "code",
   "execution_count": 13,
   "metadata": {},
   "outputs": [],
   "source": [
    "import dask.array as da\n",
    "from datetime import datetime\n",
    "import numpy as np\n",
    "\n",
    "import sys\n",
    "sys.path.append('/uufs/chpc.utah.edu/common/home/u0553130/pyBKB_v2')\n",
    "\n",
    "from BB_HRRR.HRRR_Pando import get_hrrr_variable"
   ]
  },
  {
   "cell_type": "code",
   "execution_count": 5,
   "metadata": {},
   "outputs": [
    {
     "name": "stdout",
     "output_type": "stream",
     "text": [
      " >> Dowloading tempfile: ./temp_hrrr_2018070300_f00_TMP.grib2\n",
      "Oh, good, you requested a date that should be on Pando.\n",
      "GRIB2 File: https://pando-rgw01.chpc.utah.edu/hrrr/sfc/20180703/hrrr.t00z.wrfsfcf00.grib2\n",
      " .idx File: https://pando-rgw01.chpc.utah.edu/hrrr/sfc/20180703/hrrr.t00z.wrfsfcf00.grib2.idx\n",
      "\n",
      " >> Matched a variable:  54:33965373:d=2018070300:TMP:2 m above ground:anl:\n",
      " >> Byte Range: 33965373 35273686\n"
     ]
    }
   ],
   "source": [
    "H = get_hrrr_variable(datetime(2018, 7, 3), 'TMP:2 m')"
   ]
  },
  {
   "cell_type": "code",
   "execution_count": 7,
   "metadata": {},
   "outputs": [
    {
     "data": {
      "text/plain": [
       "array([[295.43802, 295.43802, 295.43802, ..., 301.50052, 301.50052,\n",
       "        301.43802],\n",
       "       [295.37552, 295.37552, 295.37552, ..., 301.50052, 301.43802,\n",
       "        301.43802],\n",
       "       [295.31302, 295.31302, 295.31302, ..., 301.50052, 301.43802,\n",
       "        301.37552],\n",
       "       ...,\n",
       "       [285.50052, 285.50052, 285.50052, ..., 284.25052, 284.25052,\n",
       "        284.25052],\n",
       "       [285.50052, 285.50052, 285.56302, ..., 284.18802, 284.18802,\n",
       "        284.18802],\n",
       "       [285.50052, 285.50052, 285.50052, ..., 284.18802, 284.18802,\n",
       "        284.18802]], dtype=float32)"
      ]
     },
     "execution_count": 7,
     "metadata": {},
     "output_type": "execute_result"
    }
   ],
   "source": [
    "H['value']"
   ]
  },
  {
   "cell_type": "code",
   "execution_count": 25,
   "metadata": {},
   "outputs": [
    {
     "ename": "TypeError",
     "evalue": "from_array() missing 1 required positional argument: 'chunks'",
     "output_type": "error",
     "traceback": [
      "\u001b[0;31m---------------------------------------------------------------------------\u001b[0m",
      "\u001b[0;31mTypeError\u001b[0m                                 Traceback (most recent call last)",
      "\u001b[0;32m<ipython-input-25-5ed6e1e4e041>\u001b[0m in \u001b[0;36m<module>\u001b[0;34m()\u001b[0m\n\u001b[0;32m----> 1\u001b[0;31m \u001b[0mx\u001b[0m \u001b[0;34m=\u001b[0m \u001b[0mda\u001b[0m\u001b[0;34m.\u001b[0m\u001b[0mfrom_array\u001b[0m\u001b[0;34m(\u001b[0m\u001b[0mH\u001b[0m\u001b[0;34m[\u001b[0m\u001b[0;34m'value'\u001b[0m\u001b[0;34m]\u001b[0m\u001b[0;34m[\u001b[0m\u001b[0;36m0\u001b[0m\u001b[0;34m]\u001b[0m\u001b[0;34m)\u001b[0m\u001b[0;34m\u001b[0m\u001b[0m\n\u001b[0m\u001b[1;32m      2\u001b[0m \u001b[0mda\u001b[0m\u001b[0;34m.\u001b[0m\u001b[0mpercentile\u001b[0m\u001b[0;34m(\u001b[0m\u001b[0mx\u001b[0m\u001b[0;34m,\u001b[0m \u001b[0;34m[\u001b[0m\u001b[0;36m0\u001b[0m\u001b[0;34m,\u001b[0m\u001b[0;36m1\u001b[0m\u001b[0;34m,\u001b[0m\u001b[0;36m2\u001b[0m\u001b[0;34m,\u001b[0m\u001b[0;36m3\u001b[0m\u001b[0;34m,\u001b[0m\u001b[0;36m50\u001b[0m\u001b[0;34m,\u001b[0m\u001b[0;36m95\u001b[0m\u001b[0;34m,\u001b[0m\u001b[0;36m96\u001b[0m\u001b[0;34m,\u001b[0m\u001b[0;36m97\u001b[0m\u001b[0;34m,\u001b[0m\u001b[0;36m98\u001b[0m\u001b[0;34m,\u001b[0m\u001b[0;36m100\u001b[0m\u001b[0;34m]\u001b[0m\u001b[0;34m)\u001b[0m\u001b[0;34m\u001b[0m\u001b[0m\n",
      "\u001b[0;31mTypeError\u001b[0m: from_array() missing 1 required positional argument: 'chunks'"
     ]
    }
   ],
   "source": [
    "x = da.from_array(H['value'][0])\n",
    "da.percentile(x, [0,1,2,3,50,95,96,97,98,100])"
   ]
  },
  {
   "cell_type": "code",
   "execution_count": 21,
   "metadata": {},
   "outputs": [
    {
     "data": {
      "text/plain": [
       "(1799,)"
      ]
     },
     "execution_count": 21,
     "metadata": {},
     "output_type": "execute_result"
    }
   ],
   "source": [
    "np.shape(H['value'][0])"
   ]
  }
 ],
 "metadata": {
  "kernelspec": {
   "display_name": "Python 3",
   "language": "python",
   "name": "python3"
  },
  "language_info": {
   "codemirror_mode": {
    "name": "ipython",
    "version": 3
   },
   "file_extension": ".py",
   "mimetype": "text/x-python",
   "name": "python",
   "nbconvert_exporter": "python",
   "pygments_lexer": "ipython3",
   "version": "3.6.5"
  }
 },
 "nbformat": 4,
 "nbformat_minor": 2
}
