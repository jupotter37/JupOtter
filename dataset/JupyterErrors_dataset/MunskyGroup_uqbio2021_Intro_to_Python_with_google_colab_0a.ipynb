{
  "nbformat": 4,
  "nbformat_minor": 0,
  "metadata": {
    "colab": {
      "name": "Intro to Python with google colab 0a",
      "provenance": [],
      "toc_visible": true,
      "authorship_tag": "ABX9TyOHVR+6MWPR8xcy5SZ0qc5z",
      "include_colab_link": true
    },
    "kernelspec": {
      "name": "python3",
      "display_name": "Python 3"
    },
    "language_info": {
      "name": "python"
    }
  },
  "cells": [
    {
      "cell_type": "markdown",
      "metadata": {
        "id": "view-in-github",
        "colab_type": "text"
      },
      "source": [
        "<a href=\"https://colab.research.google.com/github/MunskyGroup/uqbio2021/blob/main/module_0/Intro_to_Python_with_google_colab_0a.ipynb\" target=\"_parent\"><img src=\"https://colab.research.google.com/assets/colab-badge.svg\" alt=\"Open In Colab\"/></a>"
      ]
    },
    {
      "cell_type": "markdown",
      "metadata": {
        "id": "9_w6sI7q3SUT"
      },
      "source": [
        "# Intro to Python: Types, Arithmetic Operations, Iterables, and Containers\n",
        "\n",
        "----------\n",
        "## Qbio Summer School 2021\n",
        "\n",
        "--------------\n",
        "```\n",
        "Instructor: Will Raymond\n",
        "Author: Will Raymond\n",
        "Contact Info: wsraymon@rams.colostate.edu\n",
        "\n",
        "Copyright (c) 2021 Dr. Brian Munsky. Colorado State University.\n",
        "Licensed under MIT License.\n",
        "```\n",
        "\n",
        "\n",
        "\n",
        "## Welcome! \n",
        "\n",
        "**What is Python?**\n",
        "\n",
        "Python is an interpreted, high-level programming language available and widly used throughout the world in a myriad of applications.\n",
        "\n",
        "**Why Python?**\n",
        "\n",
        "Python is ubiquitous in the sciences and data sciences; Particularly prevelant in machine learning applications. Its open source, free, highly modular, and for beginniner programmers -- Highly readable! \n",
        "\n",
        "**Where are we?**\n",
        "\n",
        "What we are in at the moment is called a google colab interactive notebook, think of it as a word document where you can run code in each cell if you wish. In the background is something called a kernel (computer) that is running all this code on Google's machines.\n",
        "\n",
        "take a look at the computer specs if you wish:"
      ]
    },
    {
      "cell_type": "code",
      "metadata": {
        "colab": {
          "base_uri": "https://localhost:8080/"
        },
        "id": "FhNQK9FDFkTE",
        "outputId": "2dc0970f-554d-46b4-b646-6513b9629988"
      },
      "source": [
        "!df -h \n",
        "!cat /proc/cpuinfo"
      ],
      "execution_count": null,
      "outputs": [
        {
          "output_type": "stream",
          "text": [
            "Filesystem      Size  Used Avail Use% Mounted on\n",
            "overlay         108G   39G   70G  36% /\n",
            "tmpfs            64M     0   64M   0% /dev\n",
            "tmpfs           6.4G     0  6.4G   0% /sys/fs/cgroup\n",
            "shm             5.9G     0  5.9G   0% /dev/shm\n",
            "tmpfs           6.4G   24K  6.4G   1% /var/colab\n",
            "/dev/sda1       114G   41G   74G  36% /etc/hosts\n",
            "tmpfs           6.4G     0  6.4G   0% /proc/acpi\n",
            "tmpfs           6.4G     0  6.4G   0% /proc/scsi\n",
            "tmpfs           6.4G     0  6.4G   0% /sys/firmware\n",
            "processor\t: 0\n",
            "vendor_id\t: GenuineIntel\n",
            "cpu family\t: 6\n",
            "model\t\t: 85\n",
            "model name\t: Intel(R) Xeon(R) CPU @ 2.00GHz\n",
            "stepping\t: 3\n",
            "microcode\t: 0x1\n",
            "cpu MHz\t\t: 1999.999\n",
            "cache size\t: 39424 KB\n",
            "physical id\t: 0\n",
            "siblings\t: 2\n",
            "core id\t\t: 0\n",
            "cpu cores\t: 1\n",
            "apicid\t\t: 0\n",
            "initial apicid\t: 0\n",
            "fpu\t\t: yes\n",
            "fpu_exception\t: yes\n",
            "cpuid level\t: 13\n",
            "wp\t\t: yes\n",
            "flags\t\t: fpu vme de pse tsc msr pae mce cx8 apic sep mtrr pge mca cmov pat pse36 clflush mmx fxsr sse sse2 ss ht syscall nx pdpe1gb rdtscp lm constant_tsc rep_good nopl xtopology nonstop_tsc cpuid tsc_known_freq pni pclmulqdq ssse3 fma cx16 pcid sse4_1 sse4_2 x2apic movbe popcnt aes xsave avx f16c rdrand hypervisor lahf_lm abm 3dnowprefetch invpcid_single ssbd ibrs ibpb stibp fsgsbase tsc_adjust bmi1 hle avx2 smep bmi2 erms invpcid rtm mpx avx512f avx512dq rdseed adx smap clflushopt clwb avx512cd avx512bw avx512vl xsaveopt xsavec xgetbv1 xsaves arat md_clear arch_capabilities\n",
            "bugs\t\t: cpu_meltdown spectre_v1 spectre_v2 spec_store_bypass l1tf mds swapgs taa\n",
            "bogomips\t: 3999.99\n",
            "clflush size\t: 64\n",
            "cache_alignment\t: 64\n",
            "address sizes\t: 46 bits physical, 48 bits virtual\n",
            "power management:\n",
            "\n",
            "processor\t: 1\n",
            "vendor_id\t: GenuineIntel\n",
            "cpu family\t: 6\n",
            "model\t\t: 85\n",
            "model name\t: Intel(R) Xeon(R) CPU @ 2.00GHz\n",
            "stepping\t: 3\n",
            "microcode\t: 0x1\n",
            "cpu MHz\t\t: 1999.999\n",
            "cache size\t: 39424 KB\n",
            "physical id\t: 0\n",
            "siblings\t: 2\n",
            "core id\t\t: 0\n",
            "cpu cores\t: 1\n",
            "apicid\t\t: 1\n",
            "initial apicid\t: 1\n",
            "fpu\t\t: yes\n",
            "fpu_exception\t: yes\n",
            "cpuid level\t: 13\n",
            "wp\t\t: yes\n",
            "flags\t\t: fpu vme de pse tsc msr pae mce cx8 apic sep mtrr pge mca cmov pat pse36 clflush mmx fxsr sse sse2 ss ht syscall nx pdpe1gb rdtscp lm constant_tsc rep_good nopl xtopology nonstop_tsc cpuid tsc_known_freq pni pclmulqdq ssse3 fma cx16 pcid sse4_1 sse4_2 x2apic movbe popcnt aes xsave avx f16c rdrand hypervisor lahf_lm abm 3dnowprefetch invpcid_single ssbd ibrs ibpb stibp fsgsbase tsc_adjust bmi1 hle avx2 smep bmi2 erms invpcid rtm mpx avx512f avx512dq rdseed adx smap clflushopt clwb avx512cd avx512bw avx512vl xsaveopt xsavec xgetbv1 xsaves arat md_clear arch_capabilities\n",
            "bugs\t\t: cpu_meltdown spectre_v1 spectre_v2 spec_store_bypass l1tf mds swapgs taa\n",
            "bogomips\t: 3999.99\n",
            "clflush size\t: 64\n",
            "cache_alignment\t: 64\n",
            "address sizes\t: 46 bits physical, 48 bits virtual\n",
            "power management:\n",
            "\n"
          ],
          "name": "stdout"
        }
      ]
    },
    {
      "cell_type": "code",
      "metadata": {
        "colab": {
          "base_uri": "https://localhost:8080/"
        },
        "id": "2BGhyd-G248l",
        "outputId": "32710b7d-84fa-46bc-e3d5-e7b4b0828185"
      },
      "source": [
        "!python --version"
      ],
      "execution_count": null,
      "outputs": [
        {
          "output_type": "stream",
          "text": [
            "Python 3.7.10\n"
          ],
          "name": "stdout"
        }
      ]
    },
    {
      "cell_type": "markdown",
      "metadata": {
        "id": "X6LPpAI7G_p-"
      },
      "source": [
        "Python is dynamically typed: meaning when you define something here, say ```x = 1 ```, python automatically assigns the variable x as an integer type, where as if you type something like ``` x= \"string\"``` python will dynamically assign the variable x as a string type."
      ]
    },
    {
      "cell_type": "code",
      "metadata": {
        "colab": {
          "base_uri": "https://localhost:8080/"
        },
        "id": "yvHQrAds3RaX",
        "outputId": "6383bbb1-f6db-4a2f-a98a-c3a37152d662"
      },
      "source": [
        "x = 1\n",
        "print(type(x))\n",
        "x = \"string\"\n",
        "print(type(x))"
      ],
      "execution_count": null,
      "outputs": [
        {
          "output_type": "stream",
          "text": [
            "<class 'int'>\n",
            "<class 'str'>\n"
          ],
          "name": "stdout"
        }
      ]
    },
    {
      "cell_type": "markdown",
      "metadata": {
        "id": "9qOdsCkQHKci"
      },
      "source": [
        "### Common Built in types\n",
        "\n",
        "single object types\n",
        "\n",
        "| Type    | Description | Example\n",
        "| ----------- | ----------- | ------------ |\n",
        "| int      | integer,  values -x to x based on your system      | x = 1 |\n",
        "| bool | boolean, true or false|  x = True |\n",
        "| str   | string of text, defined by ```'this is a string'  ```      | x = 'hello'  |\n",
        "| float | floating point integer like 3.1415 | x = 3.145  |\n",
        "| complex | a complex number like 3 + -3j | x = 3 + 3j |\n",
        "\n",
        "multiobject types\n",
        "\n",
        "| Type    | Description | Example\n",
        "| ----------- | ----------- | ----------- |\n",
        "| list      | an mutable (changable) container of objects    | ```x = [1,2,3,'4']``` |\n",
        "| tuple   | a immutable container of objects    | ```x = (1,2,3,'4')```  |\n",
        "| set | an unordered list type that only keeps unique objects| ```x = set([1,2,3,'4'])``` |\n",
        "| dict | a container with a key object that labels a value object |``` x = {'key1':1, 'key2':'2'}```  |\n"
      ]
    },
    {
      "cell_type": "markdown",
      "metadata": {
        "id": "d9lcbt0bNWw2"
      },
      "source": [
        "## Simple Arithmetic Operations\n"
      ]
    },
    {
      "cell_type": "code",
      "metadata": {
        "colab": {
          "base_uri": "https://localhost:8080/"
        },
        "id": "ay-ZXpFuL3R5",
        "outputId": "50cf80fa-2090-44ff-bf81-0012c1b24e15"
      },
      "source": [
        "x = 5\n",
        "y = 2\n",
        "\n",
        "print('x plus y = %f'%(x + y))\n",
        "print('x minus y = %f'%(x - y))\n",
        "print('y minus x = %f'%(y-x))\n",
        "\n",
        "print('x times y = %f'%(x * y))\n",
        "print('x divided y = %f'%(x / y))\n",
        "print('y to the power x = %f'%(y**x))\n",
        "print('x floor division by y = %f'%(x // y))\n",
        "\n",
        "print('x modulo y = %f'%(x % y))\n",
        "print('x bitwise or y = %f'%(x | y))\n",
        "print('x bitwise xor y = %f'%(x ^ y))\n",
        "print('y bitwise and x = %f'%(y&x))\n",
        "print('x bitwise lshift y = %f'%(x << y))\n",
        "print('x bitwise rshift y = %f'%(x >> y))\n"
      ],
      "execution_count": null,
      "outputs": [
        {
          "output_type": "stream",
          "text": [
            "x plus y = 7.000000\n",
            "x minus y = 3.000000\n",
            "y minus x = -3.000000\n",
            "x times y = 10.000000\n",
            "x divided y = 2.500000\n",
            "y to the power x = 32.000000\n",
            "x floor division by y = 2.000000\n",
            "x modulo y = 1.000000\n",
            "x bitwise or y = 7.000000\n",
            "x bitwise xor y = 7.000000\n",
            "y bitwise and x = 0.000000\n",
            "x bitwise lshift y = 20.000000\n",
            "x bitwise rshift y = 1.000000\n"
          ],
          "name": "stdout"
        }
      ]
    },
    {
      "cell_type": "markdown",
      "metadata": {
        "id": "IHrd_MTej3Ui"
      },
      "source": [
        "## Strings\n",
        "\n",
        "A string is denoted by single or double quotes ('text' or \"text\") in Python. Python has some built in convience methods for handling strings or large blocks of text.\n",
        "\n",
        "``` test_string = 'im a test string'```\n",
        "\n",
        "| Method    | Description | Example\n",
        "| ----------- | ----------- | ------------ |\n",
        "| .split()      | splits a string by blank spaces or by a given character, | ```test_string.split() = ['im','a','test','string']``` |\n",
        "| .join() | joins an iterable with the string | ```','.join(['1','2','3']) = '1,2,3'``` |\n",
        "| list(string)   | splits a string by individual characters into a list   | ```list(test_string) = ['t','e','s'... 'n','g']```  |\n",
        "| str1 + str2 | appends str2 onto str1| ```test_string + ' and more' = 'im a test string and more'```|\n",
        "| .index() | returns the first index of a matching character | ```test_string.index('t') = 5``` |\n",
        "| .upper() | returns the uppercase of a string | ```test_string.upper() = 'IM A TEST STRING'``` |\n",
        "| .lower() | returns the lowercase version of the string | ```test_string.upper() = 'im a test string'``` |\n",
        "\n",
        "-----\n",
        "\n",
        "more complex handling of strings and matching is handled via ``re`` regular expressions (regex). [Heres the documentation on regex](https://docs.python.org/3/howto/regex.html) if you are inclined.\n"
      ]
    },
    {
      "cell_type": "code",
      "metadata": {
        "colab": {
          "base_uri": "https://localhost:8080/"
        },
        "id": "LuXW9e_-ktyS",
        "outputId": "63a26e85-6888-4ee7-ff46-c728f3e4305f"
      },
      "source": [
        "test_string = 'im a test string'\n",
        "print(test_string.split()) #split based on spaces\n",
        "print(test_string.split('t')) #split based on letter t\n",
        "\n",
        "comma_string = ','.join(['1','2','3']) #join this list of strings by a comma ','\n",
        "print(comma_string)\n",
        "\n",
        "individual_characters = list(test_string)  #split the string into individual characters\n",
        "print(individual_characters)\n",
        "\n",
        "newstr = test_string + ' and more' #append a string onto a string\n",
        "print(newstr)\n",
        "print('the index of the first t in the string is:')\n",
        "print(test_string.index('t'))  #get the index of the first t\n",
        "\n",
        "\n",
        "uppercase_string = test_string.upper()\n",
        "print(uppercase_string) # uppercase string\n"
      ],
      "execution_count": null,
      "outputs": [
        {
          "output_type": "stream",
          "text": [
            "['im', 'a', 'test', 'string']\n",
            "['im a ', 'es', ' s', 'ring']\n",
            "1,2,3\n",
            "['i', 'm', ' ', 'a', ' ', 't', 'e', 's', 't', ' ', 's', 't', 'r', 'i', 'n', 'g']\n",
            "im a test string and more\n",
            "the index of the first t in the string is:\n",
            "5\n",
            "IM A TEST STRING\n"
          ],
          "name": "stdout"
        }
      ]
    },
    {
      "cell_type": "markdown",
      "metadata": {
        "id": "p-P6pIzsrSUE"
      },
      "source": [
        "## Iterable objects"
      ]
    },
    {
      "cell_type": "code",
      "metadata": {
        "colab": {
          "base_uri": "https://localhost:8080/",
          "height": 248
        },
        "id": "IkHfm4cTrSFY",
        "outputId": "b87fdb0f-2ad6-4dad-fa7b-9849f2fec85f"
      },
      "source": [
        "example_list = ['1', 2, 4]\n",
        "example_tuple = (4,15,'3')\n",
        "\n",
        "print(example_list[0])\n",
        "print(example_tuple[0])\n",
        "\n",
        "## We can change the list contents, but not a tuples:\n",
        "example_list[0] = 33\n",
        "print(example_list[0])\n",
        "\n",
        "example_tuple[0] = 33  #this throws an error saying the tuple does not support item assignment"
      ],
      "execution_count": null,
      "outputs": [
        {
          "output_type": "stream",
          "text": [
            "1\n",
            "4\n",
            "33\n"
          ],
          "name": "stdout"
        },
        {
          "output_type": "error",
          "ename": "TypeError",
          "evalue": "ignored",
          "traceback": [
            "\u001b[0;31m---------------------------------------------------------------------------\u001b[0m",
            "\u001b[0;31mTypeError\u001b[0m                                 Traceback (most recent call last)",
            "\u001b[0;32m<ipython-input-3-d6d88aca697e>\u001b[0m in \u001b[0;36m<module>\u001b[0;34m()\u001b[0m\n\u001b[1;32m      9\u001b[0m \u001b[0mprint\u001b[0m\u001b[0;34m(\u001b[0m\u001b[0mexample_list\u001b[0m\u001b[0;34m[\u001b[0m\u001b[0;36m0\u001b[0m\u001b[0;34m]\u001b[0m\u001b[0;34m)\u001b[0m\u001b[0;34m\u001b[0m\u001b[0;34m\u001b[0m\u001b[0m\n\u001b[1;32m     10\u001b[0m \u001b[0;34m\u001b[0m\u001b[0m\n\u001b[0;32m---> 11\u001b[0;31m \u001b[0mexample_tuple\u001b[0m\u001b[0;34m[\u001b[0m\u001b[0;36m0\u001b[0m\u001b[0;34m]\u001b[0m \u001b[0;34m=\u001b[0m \u001b[0;36m33\u001b[0m\u001b[0;34m\u001b[0m\u001b[0;34m\u001b[0m\u001b[0m\n\u001b[0m",
            "\u001b[0;31mTypeError\u001b[0m: 'tuple' object does not support item assignment"
          ]
        }
      ]
    },
    {
      "cell_type": "code",
      "metadata": {
        "colab": {
          "base_uri": "https://localhost:8080/"
        },
        "id": "-WfBkWrnr_eL",
        "outputId": "df3cdc63-c937-4386-f28e-2bf1e9970684"
      },
      "source": [
        "print(dir(list)) #what attributes (including functions) does a list object have?\n",
        "\n",
        "print([x for x in dir(list) if '__' not in x] ) #what functions (excluding internal functions, denoted by __xx__) does a list object have?\n",
        "\n",
        "print([x for x in dir(tuple) if '__' not in x] ) #what functions (excluding internal functions, denoted by __xx__) does a list object have?"
      ],
      "execution_count": null,
      "outputs": [
        {
          "output_type": "stream",
          "text": [
            "['__add__', '__class__', '__contains__', '__delattr__', '__delitem__', '__dir__', '__doc__', '__eq__', '__format__', '__ge__', '__getattribute__', '__getitem__', '__gt__', '__hash__', '__iadd__', '__imul__', '__init__', '__init_subclass__', '__iter__', '__le__', '__len__', '__lt__', '__mul__', '__ne__', '__new__', '__reduce__', '__reduce_ex__', '__repr__', '__reversed__', '__rmul__', '__setattr__', '__setitem__', '__sizeof__', '__str__', '__subclasshook__', 'append', 'clear', 'copy', 'count', 'extend', 'index', 'insert', 'pop', 'remove', 'reverse', 'sort']\n",
            "['append', 'clear', 'copy', 'count', 'extend', 'index', 'insert', 'pop', 'remove', 'reverse', 'sort']\n",
            "['count', 'index']\n"
          ],
          "name": "stdout"
        }
      ]
    },
    {
      "cell_type": "markdown",
      "metadata": {
        "id": "u2gM5HaCgBrp"
      },
      "source": [
        "### built in list() commands\n",
        "\n",
        "| Command    | Description | Example\n",
        "| ----------- | ----------- | ------------ |\n",
        "| append      | add an element to the end of a list | example_list.append(1) |\n",
        "| clear | delete everything in the list| example_list.clear()  |\n",
        "| copy   | returns a copy (shallow copy) of the list     | example_list.copy()  |\n",
        "| extend | appends multiple items (iterable) to the end of the list |example_list.extend([1,2,3,4]) |\n",
        "| index | returns the index of the first matching value | example_list.index(3) |\n",
        "| insert | inserts an object at the given index | example_list(index, object)|\n",
        "| pop | deletes the object at index and returns it | example_list.pop(3) |\n",
        "| remove | deletes the object at given index and returns None | example_list.remove(3) |\n",
        "| reverse | returns a reversed list | example_list.reverse() |\n",
        "|  sort | sorts a list with a key or defaults aphabetical or numerical | example_list.sort() |\n",
        "\n",
        "\n",
        "Lists also support + / * operations for combining or duplicating lists:\n",
        "\n",
        "``` \n",
        "[0,] + [1,2,3,4] = [0,1,2,3,4]\n",
        "[0,] * 3 = [0,0,0,]\n",
        " ```\n"
      ]
    },
    {
      "cell_type": "code",
      "metadata": {
        "colab": {
          "base_uri": "https://localhost:8080/"
        },
        "id": "pvmG_PEac7LX",
        "outputId": "2086d8f6-9bca-40dd-eabb-f3f87821e361"
      },
      "source": [
        "example_list = [0,1,2,3,4,5]\n",
        "print('list before appending: %s'% str(example_list))\n",
        "example_list.append(6)\n",
        "print('list after appending: %s'% str(example_list))\n",
        "\n",
        "example_list = [0,1,2,3,4,5]\n",
        "print('list before extending: %s'% str(example_list))\n",
        "example_list.extend([6,7,8])\n",
        "print('list after extending: %s'% str(example_list))\n",
        "\n",
        "\n",
        "example_list = [0,1,2,3,4,5]\n",
        "print('list before clearing: %s'% str(example_list))\n",
        "example_list.clear()\n",
        "print('list after clearing: %s'% str(example_list))\n",
        "\n",
        "example_list = [0,1,2,3,4,5]\n",
        "number_of_5s = example_list.count(5)\n",
        "print('list: %s'% str(example_list))\n",
        "print('how many 5s are in the list? %s'% str(number_of_5s))\n",
        "\n"
      ],
      "execution_count": null,
      "outputs": [
        {
          "output_type": "stream",
          "text": [
            "list before appending: [0, 1, 2, 3, 4, 5]\n",
            "list after appending: [0, 1, 2, 3, 4, 5, 6]\n",
            "list before extending: [0, 1, 2, 3, 4, 5]\n",
            "list after extending: [0, 1, 2, 3, 4, 5, 6, 7, 8]\n",
            "list before clearing: [0, 1, 2, 3, 4, 5]\n",
            "list after clearing: []\n",
            "list: [0, 1, 2, 3, 4, 5]\n",
            "how many 5s are in the list? 1\n"
          ],
          "name": "stdout"
        }
      ]
    },
    {
      "cell_type": "markdown",
      "metadata": {
        "id": "aRNeMrkiukcW"
      },
      "source": [
        "## Slicing and Indexing\n",
        "\n",
        "With the introduction of strings we now need to go over the concept of slicing and indexing within python as its relevant to both strings and iterable objects.\n",
        "\n",
        "```test_string = 'hello im a string to slice'```\n",
        "\n",
        "Slicing and indexing works as follows:\n",
        "\n",
        "``` iterable[x:y:z] ```\n",
        "\n",
        "return every zth element in range x to y\n",
        "\n",
        "**indexing starts at zero!!**\n",
        "\n",
        "**reverse indexing starts at -1**\n",
        "\n",
        "You can also leave out some of the elements if you are starting from the front or back:\n",
        "\n",
        "| Example    | Equivelant to | Description | \n",
        "| ----------- | ----------- | ------------ |\n",
        "| ```iterable[5]``` | ```iterable[5:6:1]```      | get the 5th element |\n",
        "| ```iterable[0]``` | ```iterable[0:1:1]```      | get the first element |\n",
        "| ```iterable[-1]``` | ```iterable[-1:-2:-1]```      | get the last element |\n",
        "| ```iterable[:5]``` | ```iterable[0:5:1]```      | get the first 5 elements |\n",
        "| ```iterable[::5]``` | ```iterable[0:-1:5]```      | get every 5th element starting at index 0 of the whole iterable |\n",
        "| ```iterable[3::-1]``` | ```iterable[3:-1:-1]```      | get all elements past index 3 and reverse them |\n",
        "\n",
        "\n",
        "And slicing can also be used to reverse or get elements from the back of an iterable:\n",
        "\n",
        "```iterable[:-3]``` would return the last 3 elements of the iterable\n",
        "\n"
      ]
    },
    {
      "cell_type": "code",
      "metadata": {
        "colab": {
          "base_uri": "https://localhost:8080/"
        },
        "id": "LEWFrrKtu4GC",
        "outputId": "56ace546-e88d-40d8-fe6b-e153d1c5db84"
      },
      "source": [
        "test_string = 'hello im a string to slice'\n",
        "\n",
        "first_element = test_string[0]\n",
        "print(first_element)\n",
        "\n",
        "third_element = test_string[2]\n",
        "print(third_element)\n",
        "\n",
        "first5_elements = test_string[0:5]\n",
        "print(first5_elements)\n",
        "\n",
        "removed_the_last_3_elements = test_string[0:-3]\n",
        "print(removed_the_last_3_elements)\n",
        "\n",
        "reversed_string = test_string[::-1] #reversed string\n",
        "print(reversed_string) \n",
        "\n",
        "sliced_string = test_string[::2] #get every 2nd element starting at index 0\n",
        "print(sliced_string) \n",
        "\n",
        "iterable = test_string  #examples of equivalent indexing\n",
        "print('%s == %s'% (iterable[2],iterable[2:3:1]))\n",
        "print('%s == %s'% (iterable[-1],iterable[-1:-2:-1]))\n",
        "print('%s == %s'% (iterable[:5],iterable[0:5:1]))"
      ],
      "execution_count": null,
      "outputs": [
        {
          "output_type": "stream",
          "text": [
            "h\n",
            "l\n",
            "hello\n",
            "hello im a string to sl\n",
            "ecils ot gnirts a mi olleh\n",
            "hloi  tigt lc\n",
            "l == l\n",
            "e == e\n",
            "hello == hello\n"
          ],
          "name": "stdout"
        }
      ]
    },
    {
      "cell_type": "markdown",
      "metadata": {
        "id": "JRMngmRXnK0W"
      },
      "source": [
        "## Dictionaries \n",
        "\n",
        "Dictionaries provide a nonordered method to store information with an object key and are denoted by curly brackets in python with pairs of keys and values seperated by a colon \":\"\n",
        "\n",
        "Dictionaries cannot be sliced over, since they are unordered\n",
        "\n",
        "```\n",
        "example_dict = {'key1': 0, 1:'1'}\n",
        "```"
      ]
    },
    {
      "cell_type": "code",
      "metadata": {
        "colab": {
          "base_uri": "https://localhost:8080/"
        },
        "id": "MXHTUAEQckc4",
        "outputId": "e4c79ddf-7074-4dad-f73e-413608ec101a"
      },
      "source": [
        "example_dict = {'key1': 0, 1:'1'}  #\n",
        "print(example_dict.keys())\n",
        "print(example_dict.values())\n"
      ],
      "execution_count": null,
      "outputs": [
        {
          "output_type": "stream",
          "text": [
            "dict_keys(['key1', 1])\n",
            "dict_values([0, '1'])\n"
          ],
          "name": "stdout"
        }
      ]
    },
    {
      "cell_type": "code",
      "metadata": {
        "colab": {
          "base_uri": "https://localhost:8080/"
        },
        "id": "Ixn83rOXkTY0",
        "outputId": "569ba80d-6199-447e-e6e0-f6106f202f33"
      },
      "source": [
        "example_dict['newkey'] = 'newvalue'  #adding a new value to a dictionary\n",
        "\n",
        "print(example_dict)"
      ],
      "execution_count": null,
      "outputs": [
        {
          "output_type": "stream",
          "text": [
            "{'key1': 0, 1: '1', 'newkey': 'newvalue'}\n"
          ],
          "name": "stdout"
        }
      ]
    },
    {
      "cell_type": "code",
      "metadata": {
        "colab": {
          "base_uri": "https://localhost:8080/"
        },
        "id": "7CrCvIqtdHYa",
        "outputId": "7f0d35b5-d03b-4dd2-ea71-383332c0e8ae"
      },
      "source": [
        "example_dict['newkey2'] = 'newvalue2'  \n",
        "#using the same key will just overwrite what is in that value, not add a new value\n",
        "example_dict['newkey2'] = 'overwritten' \n",
        "print(example_dict)"
      ],
      "execution_count": null,
      "outputs": [
        {
          "output_type": "stream",
          "text": [
            "{'key1': 0, 1: '1', 'newkey': 'newvalue', 'newkey2': 'overwritten'}\n"
          ],
          "name": "stdout"
        }
      ]
    },
    {
      "cell_type": "markdown",
      "metadata": {
        "id": "5Iyb78mYnMho"
      },
      "source": [
        "## Sets\n",
        "\n",
        "Sets are a useful way to compare the objects stored within containers, comparisions such as an intersection of objects within two containers. Sets are denoted by curly brackets without any key value pairs like a dictionary.\n",
        "\n",
        "```\n",
        "example_set = {1,2,3}\n",
        "```"
      ]
    },
    {
      "cell_type": "code",
      "metadata": {
        "colab": {
          "base_uri": "https://localhost:8080/"
        },
        "id": "vbDRIYKyihJL",
        "outputId": "5c71d964-8763-453c-a8da-92e2844a4a6d"
      },
      "source": [
        "set1 = {\"a\",\"b\",\"c\"}\n",
        "set2 = {\"a\",\"c\",\"2\"}\n",
        "\n",
        "print(set1.intersection(set2))\n",
        "\n",
        "print([x for x in dir(set) if '__' not in x] ) #what methods does the type \"set\" have?"
      ],
      "execution_count": null,
      "outputs": [
        {
          "output_type": "stream",
          "text": [
            "{'a', 'c'}\n",
            "['add', 'clear', 'copy', 'difference', 'difference_update', 'discard', 'intersection', 'intersection_update', 'isdisjoint', 'issubset', 'issuperset', 'pop', 'remove', 'symmetric_difference', 'symmetric_difference_update', 'union', 'update']\n"
          ],
          "name": "stdout"
        }
      ]
    },
    {
      "cell_type": "code",
      "metadata": {
        "colab": {
          "base_uri": "https://localhost:8080/"
        },
        "id": "5cZHQS6oi_vz",
        "outputId": "bf16647a-5af2-46dd-8040-8e15ece5c11a"
      },
      "source": [
        "list_with_duplicates = [1,2,3,4,5,6,6,6,6,7,7,7,8,9,10,10]\n",
        "unique_list = list(set(list_with_duplicates))#convert the list to a set and back to remove duplicates\n",
        "print(unique_list) "
      ],
      "execution_count": null,
      "outputs": [
        {
          "output_type": "stream",
          "text": [
            "[1, 2, 3, 4, 5, 6, 7, 8, 9, 10]\n"
          ],
          "name": "stdout"
        }
      ]
    },
    {
      "cell_type": "markdown",
      "metadata": {
        "id": "j_SWDCYXYxao"
      },
      "source": [
        "## Example Questions"
      ]
    },
    {
      "cell_type": "code",
      "metadata": {
        "colab": {
          "base_uri": "https://localhost:8080/"
        },
        "id": "uv0DGMPUDw0b",
        "outputId": "80f40cf6-6880-4084-a5b4-6a3c5381f242"
      },
      "source": [
        "#@markdown Get all integers out of this string and into a list\n",
        "str_with_ints = \"1,3,51,4124.0,124,31\"\n",
        "\n",
        "result = [1]# Answer\n",
        "\n",
        "print([\"Incorrect\", \"Correct\"][result == [1,2,51,4124,124,31]])\n"
      ],
      "execution_count": 14,
      "outputs": [
        {
          "output_type": "stream",
          "text": [
            "Incorrect\n"
          ],
          "name": "stdout"
        }
      ]
    },
    {
      "cell_type": "code",
      "metadata": {
        "colab": {
          "base_uri": "https://localhost:8080/"
        },
        "id": "DHe0HibgFPub",
        "outputId": "bca2c158-84c9-4389-b75a-7b4a066aef3d"
      },
      "source": [
        "#@markdown Whats the average of this list?\n",
        "some_numbers = [1,2,-3,14,56,122,198,2]\n",
        "\n",
        "result = 0# Answer\n",
        "\n",
        "print([\"Incorrect\", \"Correct\"][result == 49])"
      ],
      "execution_count": 17,
      "outputs": [
        {
          "output_type": "stream",
          "text": [
            "Incorrect\n"
          ],
          "name": "stdout"
        }
      ]
    },
    {
      "cell_type": "code",
      "metadata": {
        "colab": {
          "base_uri": "https://localhost:8080/"
        },
        "id": "Hr0SE2-_Ez1o",
        "outputId": "3967fa66-400d-491f-cc45-db2963ae4234"
      },
      "source": [
        "#@markdown Get whats the last number in this list? get it by slicing the string\n",
        "str_with_ints = \"1,3,51,4124.0,124,31\"\n",
        "\n",
        "result = [1]# Answer\n",
        "\n",
        "print([\"Incorrect\", \"Correct\"][result == \"31\"])\n"
      ],
      "execution_count": 15,
      "outputs": [
        {
          "output_type": "stream",
          "text": [
            "Incorrect\n"
          ],
          "name": "stdout"
        }
      ]
    },
    {
      "cell_type": "code",
      "metadata": {
        "colab": {
          "base_uri": "https://localhost:8080/",
          "height": 384
        },
        "id": "6JCuOwfLGUdS",
        "outputId": "37b37686-c013-4355-bbcc-7cdb4b1c4a61"
      },
      "source": [
        "#@markdown make a dictionary in the format {Name: (Name,Age)}\n",
        "\n",
        "keys = [\"name\", \"age\"]\n",
        "names = [\"Will\",\"Sarah\",\"Jim\"]\n",
        "ages = [27, 35, 20]\n",
        "\n",
        "name_dict = {}\n",
        "\n",
        "try:\n",
        "  print([\"Incorrect\", \"Correct\"][name_dict[\"Will\"][1] == 27])\n",
        "except:\n",
        "  print(\"Incorrect, Error:\")\n",
        "  print([\"Incorrect\", \"Correct\"][name_dict[\"Will\"][1] == 27])\n"
      ],
      "execution_count": 21,
      "outputs": [
        {
          "output_type": "stream",
          "text": [
            "Incorrect, Error:\n"
          ],
          "name": "stdout"
        },
        {
          "output_type": "error",
          "ename": "KeyError",
          "evalue": "ignored",
          "traceback": [
            "\u001b[0;31m---------------------------------------------------------------------------\u001b[0m",
            "\u001b[0;31mKeyError\u001b[0m                                  Traceback (most recent call last)",
            "\u001b[0;32m<ipython-input-21-1b3e34b8c93f>\u001b[0m in \u001b[0;36m<module>\u001b[0;34m()\u001b[0m\n\u001b[1;32m      9\u001b[0m \u001b[0;32mtry\u001b[0m\u001b[0;34m:\u001b[0m\u001b[0;34m\u001b[0m\u001b[0;34m\u001b[0m\u001b[0m\n\u001b[0;32m---> 10\u001b[0;31m   \u001b[0mprint\u001b[0m\u001b[0;34m(\u001b[0m\u001b[0;34m[\u001b[0m\u001b[0;34m\"Incorrect\"\u001b[0m\u001b[0;34m,\u001b[0m \u001b[0;34m\"Correct\"\u001b[0m\u001b[0;34m]\u001b[0m\u001b[0;34m[\u001b[0m\u001b[0mname_dict\u001b[0m\u001b[0;34m[\u001b[0m\u001b[0;34m\"Will\"\u001b[0m\u001b[0;34m]\u001b[0m\u001b[0;34m[\u001b[0m\u001b[0;36m1\u001b[0m\u001b[0;34m]\u001b[0m \u001b[0;34m==\u001b[0m \u001b[0;36m27\u001b[0m\u001b[0;34m]\u001b[0m\u001b[0;34m)\u001b[0m\u001b[0;34m\u001b[0m\u001b[0;34m\u001b[0m\u001b[0m\n\u001b[0m\u001b[1;32m     11\u001b[0m \u001b[0;32mexcept\u001b[0m\u001b[0;34m:\u001b[0m\u001b[0;34m\u001b[0m\u001b[0;34m\u001b[0m\u001b[0m\n",
            "\u001b[0;31mKeyError\u001b[0m: 'Will'",
            "\nDuring handling of the above exception, another exception occurred:\n",
            "\u001b[0;31mKeyError\u001b[0m                                  Traceback (most recent call last)",
            "\u001b[0;32m<ipython-input-21-1b3e34b8c93f>\u001b[0m in \u001b[0;36m<module>\u001b[0;34m()\u001b[0m\n\u001b[1;32m     11\u001b[0m \u001b[0;32mexcept\u001b[0m\u001b[0;34m:\u001b[0m\u001b[0;34m\u001b[0m\u001b[0;34m\u001b[0m\u001b[0m\n\u001b[1;32m     12\u001b[0m   \u001b[0mprint\u001b[0m\u001b[0;34m(\u001b[0m\u001b[0;34m\"Incorrect, Error:\"\u001b[0m\u001b[0;34m)\u001b[0m\u001b[0;34m\u001b[0m\u001b[0;34m\u001b[0m\u001b[0m\n\u001b[0;32m---> 13\u001b[0;31m   \u001b[0mprint\u001b[0m\u001b[0;34m(\u001b[0m\u001b[0;34m[\u001b[0m\u001b[0;34m\"Incorrect\"\u001b[0m\u001b[0;34m,\u001b[0m \u001b[0;34m\"Correct\"\u001b[0m\u001b[0;34m]\u001b[0m\u001b[0;34m[\u001b[0m\u001b[0mname_dict\u001b[0m\u001b[0;34m[\u001b[0m\u001b[0;34m\"Will\"\u001b[0m\u001b[0;34m]\u001b[0m\u001b[0;34m[\u001b[0m\u001b[0;36m1\u001b[0m\u001b[0;34m]\u001b[0m \u001b[0;34m==\u001b[0m \u001b[0;36m27\u001b[0m\u001b[0;34m]\u001b[0m\u001b[0;34m)\u001b[0m\u001b[0;34m\u001b[0m\u001b[0;34m\u001b[0m\u001b[0m\n\u001b[0m",
            "\u001b[0;31mKeyError\u001b[0m: 'Will'"
          ]
        }
      ]
    }
  ]
}