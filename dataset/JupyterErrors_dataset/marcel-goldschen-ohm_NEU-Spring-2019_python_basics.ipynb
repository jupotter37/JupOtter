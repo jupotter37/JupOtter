{
 "cells": [
  {
   "cell_type": "markdown",
   "metadata": {},
   "source": [
    "# Python basics tutorial\n",
    "* This tutotial is for Python version 3.x, although most of it should also be valid for older versions 2.x\n",
    "* Author: Marcel Goldschen-Ohm"
   ]
  },
  {
   "cell_type": "markdown",
   "metadata": {},
   "source": [
    "## Files\n",
    "* **.ipynb**: Jupyter notebook files (e.g. this is what you're looking at now)\n",
    "* **.py**:    Python files (we'll use these in a different environement such as PyCharm)"
   ]
  },
  {
   "cell_type": "markdown",
   "metadata": {},
   "source": [
    "## PEP8 Code Syle Conventions\n",
    "* You should endevour to adhere to these coding style conventions as much as possible, but don't fret so long as your code is very understandable."
   ]
  },
  {
   "cell_type": "markdown",
   "metadata": {},
   "source": [
    "## Comments\n",
    "* Use these *A LOT*, otherwise not only will no one else know what your code means, but you won't remember either a month later!"
   ]
  },
  {
   "cell_type": "code",
   "execution_count": 3,
   "metadata": {},
   "outputs": [
    {
     "name": "stdout",
     "output_type": "stream",
     "text": [
      "hi\n",
      "Hello\n"
     ]
    }
   ],
   "source": [
    "\"\"\"\n",
    "This is a multi-line comment:\n",
    "Press Shift-Enter to\n",
    "run this cell.\n",
    "\"\"\"\n",
    "# Display a message. (This is a single line comment.)\n",
    "print(\"hi\")\n",
    "print(\"Hello\")  # Say hello. (This is a comment that follows a line of code.)"
   ]
  },
  {
   "cell_type": "markdown",
   "metadata": {},
   "source": [
    "## Getting HELP\n",
    "* Of course, the internet is also a good place."
   ]
  },
  {
   "cell_type": "code",
   "execution_count": 17,
   "metadata": {},
   "outputs": [
    {
     "name": "stdout",
     "output_type": "stream",
     "text": [
      "Help on built-in function print in module builtins:\n",
      "\n",
      "print(...)\n",
      "    print(value, ..., sep=' ', end='\\n', file=sys.stdout, flush=False)\n",
      "    \n",
      "    Prints the values to a stream, or to sys.stdout by default.\n",
      "    Optional keyword arguments:\n",
      "    file:  a file-like object (stream); defaults to the current sys.stdout.\n",
      "    sep:   string inserted between values, default a space.\n",
      "    end:   string appended after the last value, default a newline.\n",
      "    flush: whether to forcibly flush the stream.\n",
      "\n"
     ]
    }
   ],
   "source": [
    "help(print)"
   ]
  },
  {
   "cell_type": "markdown",
   "metadata": {},
   "source": [
    "## Variables\n",
    "* Variable names must begin with a letter, but thereafter can contain letters, numbers and underscores.\n",
    "* Variable names should be informative.\n",
    "* !!! ONLY use cryptic variable names like 'x', 'a', 'i' in cases where it is VERY obvious what they mean. *I break that rule for this tutorial, but when we get to some real code examples of actual problems later on, I will endevour to not abuse this.*"
   ]
  },
  {
   "cell_type": "code",
   "execution_count": 4,
   "metadata": {},
   "outputs": [],
   "source": [
    "x = 3\n",
    "y = 5\n",
    "y = \"hi\"\n",
    "my_v6_55 = 82.01"
   ]
  },
  {
   "cell_type": "code",
   "execution_count": 7,
   "metadata": {},
   "outputs": [
    {
     "data": {
      "text/plain": [
       "(3, 'hi', 82.01)"
      ]
     },
     "execution_count": 7,
     "metadata": {},
     "output_type": "execute_result"
    }
   ],
   "source": [
    "x, y, my_v6_55"
   ]
  },
  {
   "cell_type": "markdown",
   "metadata": {},
   "source": [
    "## Data Types\n",
    "* Data types are inferred based on their value."
   ]
  },
  {
   "cell_type": "code",
   "execution_count": 3,
   "metadata": {},
   "outputs": [
    {
     "name": "stdout",
     "output_type": "stream",
     "text": [
      "type of x = <class 'float'>\n",
      "type of y = <class 'float'>\n",
      "type of z = <class 'int'>\n",
      "type of b = <class 'bool'>\n",
      "type of na = <class 'NoneType'>\n"
     ]
    }
   ],
   "source": [
    "x = 1 + 3.5  # float\n",
    "y = 1 + 3.0  # float\n",
    "z = 1 + 3  # integer\n",
    "b = False  # bool\n",
    "na = None  # nothing\n",
    "\n",
    "print(\"type of x =\", type(x))\n",
    "print(\"type of y =\", type(y))\n",
    "print(\"type of z =\", type(z))\n",
    "print(\"type of b =\", type(b))\n",
    "print(\"type of na =\", type(na))"
   ]
  },
  {
   "cell_type": "markdown",
   "metadata": {},
   "source": [
    "## Basic Operations"
   ]
  },
  {
   "cell_type": "code",
   "execution_count": 4,
   "metadata": {},
   "outputs": [
    {
     "name": "stdout",
     "output_type": "stream",
     "text": [
      "2 + 3 = 5\n",
      "2 - 3 = -1\n",
      "2 * 3 = 6\n",
      "2 / 3 = 0.6666666666666666\n",
      "2**3 = 8\n",
      "8 % 3 = 2\n"
     ]
    }
   ],
   "source": [
    "print(\"2 + 3 =\", 2 + 3)  # add\n",
    "print(\"2 - 3 =\", 2 - 3)  # subtract\n",
    "print(\"2 * 3 =\", 2 * 3)  # multiply\n",
    "print(\"2 / 3 =\", 2 / 3)  # divide\n",
    "print(\"2**3 =\", 2**3)  # 2 to the 3rd power\n",
    "print(\"8 % 3 =\", 8 % 3)  # modulus (remainder)"
   ]
  },
  {
   "cell_type": "code",
   "execution_count": 9,
   "metadata": {},
   "outputs": [
    {
     "ename": "TypeError",
     "evalue": "can only concatenate str (not \"int\") to str",
     "output_type": "error",
     "traceback": [
      "\u001b[0;31m---------------------------------------------------------------------------\u001b[0m",
      "\u001b[0;31mTypeError\u001b[0m                                 Traceback (most recent call last)",
      "\u001b[0;32m<ipython-input-9-76257eac0bd9>\u001b[0m in \u001b[0;36m<module>\u001b[0;34m\u001b[0m\n\u001b[1;32m      1\u001b[0m \u001b[0;31m# Can't do operations with incompatible types\u001b[0m\u001b[0;34m\u001b[0m\u001b[0;34m\u001b[0m\u001b[0;34m\u001b[0m\u001b[0m\n\u001b[0;32m----> 2\u001b[0;31m \u001b[0;34m\"1\"\u001b[0m \u001b[0;34m+\u001b[0m \u001b[0;36m3\u001b[0m\u001b[0;34m\u001b[0m\u001b[0;34m\u001b[0m\u001b[0m\n\u001b[0m",
      "\u001b[0;31mTypeError\u001b[0m: can only concatenate str (not \"int\") to str"
     ]
    }
   ],
   "source": [
    "# Can't do operations with incompatible types\n",
    "\"1\" + 3"
   ]
  },
  {
   "cell_type": "markdown",
   "metadata": {},
   "source": [
    "## Lists\n",
    "* Array of pretty much anything."
   ]
  },
  {
   "cell_type": "code",
   "execution_count": 22,
   "metadata": {},
   "outputs": [
    {
     "data": {
      "text/plain": [
       "(7, 0)"
      ]
     },
     "execution_count": 22,
     "metadata": {},
     "output_type": "execute_result"
    }
   ],
   "source": [
    "a = [1, 2, 3.0, 4.5, \"hello\", True, ['a', 'b', 'c']]\n",
    "an_empty_list = []\n",
    "\n",
    "len(a), len(an_empty_list)  # number of elements in the list (i.e. list length)"
   ]
  },
  {
   "cell_type": "markdown",
   "metadata": {},
   "source": [
    "## List indexing\n",
    "* !!! First index is 0, NOT 1\n",
    "\n",
    "In some sane languages like MATLAB and Julia, the first index is 1 as it should be. Sigh."
   ]
  },
  {
   "cell_type": "code",
   "execution_count": 11,
   "metadata": {},
   "outputs": [
    {
     "name": "stdout",
     "output_type": "stream",
     "text": [
      "[1, 2, 3.0, 4.5, 'hello', True, ['a', 'b', 'c']]\n",
      "\n",
      "1\n",
      "2\n",
      "True\n",
      "['a', 'b', 'c']\n",
      "c\n",
      "True\n"
     ]
    }
   ],
   "source": [
    "a = [1, 2, 3.0, 4.5, \"hello\", True, ['a', 'b', 'c']]\n",
    "print(a)\n",
    "print()\n",
    "print(a[0])  # 1st element\n",
    "print(a[1])  # 2nd element\n",
    "print(a[-2])  # 2nd to last element\n",
    "print(a[-1])  # last element\n",
    "print(a[-1][2])  # 3rd element of the array that is the last element\n",
    "print(a[-2])"
   ]
  },
  {
   "cell_type": "code",
   "execution_count": 10,
   "metadata": {},
   "outputs": [
    {
     "name": "stdout",
     "output_type": "stream",
     "text": [
      "[1, 2, False, 4.5, 'hello', True, ['a', 'b', 'c']]\n"
     ]
    }
   ],
   "source": [
    "a[2] = False  # set 3rd element\n",
    "print(a)"
   ]
  },
  {
   "cell_type": "markdown",
   "metadata": {},
   "source": [
    "## Index ranges\n",
    "* [start:stop]\n",
    "* [start:stop:step]\n",
    "* !!! The range does NOT include stop.\n",
    "* Omitting start or stop assumes a range from first or through last element, respectivley."
   ]
  },
  {
   "cell_type": "code",
   "execution_count": 30,
   "metadata": {},
   "outputs": [
    {
     "name": "stdout",
     "output_type": "stream",
     "text": [
      "[2, False, 4.5]\n",
      "[2, False, 4.5, 'hello', True, ['a', 'b', 'c']]\n",
      "[1, 2, False, 4.5]\n",
      "[1, 2, False, 4.5, 'hello', True, ['a', 'b', 'c']]\n",
      "[2, 4.5]\n"
     ]
    }
   ],
   "source": [
    "print(a[1:4])  # start at index 1 and stop at index 4  <== !!! does NOT include index 4\n",
    "print(a[1:])  # start at index 1 and go to end\n",
    "print(a[:4])  # start at beginning (index 0) and stop at index 4\n",
    "print(a[:])  # start at beginning (index 0) and go to end\n",
    "print(a[1:4:2])  # start at index 1 and stop at index 4, step by 2"
   ]
  },
  {
   "cell_type": "markdown",
   "metadata": {},
   "source": [
    "## Growing/Shrinking a list"
   ]
  },
  {
   "cell_type": "code",
   "execution_count": 14,
   "metadata": {},
   "outputs": [
    {
     "name": "stdout",
     "output_type": "stream",
     "text": [
      "[1, 2, 3.0, 4.5, 'hello', True, ['a', 'b', 'c']]\n",
      "[1, 2, 3.0, 4.5, 'hello', True, ['a', 'b', 'c'], 38, [40, 50, 60], 40, 50, 60, 1, 2]\n",
      "[1, 3.0, 4.5, True, ['a', 'b', 'c'], 38, [40, 50, 60], 40, 2]\n"
     ]
    }
   ],
   "source": [
    "a = [1, 2, 3.0, 4.5, \"hello\", True, ['a', 'b', 'c']]\n",
    "print(a)\n",
    "a.append(38)\n",
    "a.append([40, 50, 60])\n",
    "a.extend([40, 50, 60])\n",
    "a = a + [1, 2]\n",
    "print(a)\n",
    "a.pop(4)  # removes the 5th element\n",
    "a.remove(2)  # remove the first value of 2 in the list\n",
    "del a[-4:-1]  # removes the 4th through 2nd to last elements\n",
    "print(a)"
   ]
  },
  {
   "cell_type": "markdown",
   "metadata": {},
   "source": [
    "## Mutable vs Immutable objects\n",
    "* mutable = containers that can change (e.g. list, set, dict)\n",
    "* immutable = values that can't be changed (e.g. number, string, tuple)"
   ]
  },
  {
   "cell_type": "markdown",
   "metadata": {},
   "source": [
    "## Copy vs Reference\n",
    "* Immutable objects are copied\n",
    "* Mutable objects are passed by reference"
   ]
  },
  {
   "cell_type": "code",
   "execution_count": 15,
   "metadata": {},
   "outputs": [
    {
     "data": {
      "text/plain": [
       "3"
      ]
     },
     "execution_count": 15,
     "metadata": {},
     "output_type": "execute_result"
    }
   ],
   "source": [
    "x = 3\n",
    "y = x\n",
    "x = 2\n",
    "y"
   ]
  },
  {
   "cell_type": "code",
   "execution_count": 16,
   "metadata": {},
   "outputs": [
    {
     "data": {
      "text/plain": [
       "[1, 100, 3]"
      ]
     },
     "execution_count": 16,
     "metadata": {},
     "output_type": "execute_result"
    }
   ],
   "source": [
    "a = [1, 2, 3]\n",
    "b = a\n",
    "a[1] = 100\n",
    "b"
   ]
  },
  {
   "cell_type": "markdown",
   "metadata": {},
   "source": [
    "## copy"
   ]
  },
  {
   "cell_type": "code",
   "execution_count": 13,
   "metadata": {},
   "outputs": [
    {
     "data": {
      "text/plain": [
       "[1, 2, 3]"
      ]
     },
     "execution_count": 13,
     "metadata": {},
     "output_type": "execute_result"
    }
   ],
   "source": [
    "import copy  # import copy module\n",
    "a = [1, 2, 3]\n",
    "b = copy.copy(a)\n",
    "a[1] = 100\n",
    "b"
   ]
  },
  {
   "cell_type": "code",
   "execution_count": 138,
   "metadata": {},
   "outputs": [
    {
     "data": {
      "text/plain": [
       "[[1, 2, 3], [4, 100, 6]]"
      ]
     },
     "execution_count": 138,
     "metadata": {},
     "output_type": "execute_result"
    }
   ],
   "source": [
    "# copy does a shallow copy (nested containers are NOT copied)\n",
    "a = [[1, 2, 3], [4, 5, 6]]\n",
    "b = copy.copy(a)\n",
    "a[1][1] = 100\n",
    "b"
   ]
  },
  {
   "cell_type": "markdown",
   "metadata": {},
   "source": [
    "## deepcopy"
   ]
  },
  {
   "cell_type": "code",
   "execution_count": 14,
   "metadata": {},
   "outputs": [
    {
     "data": {
      "text/plain": [
       "([[1, 2, 3], [4, 5, 6]], [[1, 2, 3], [4, 100, 6]])"
      ]
     },
     "execution_count": 14,
     "metadata": {},
     "output_type": "execute_result"
    }
   ],
   "source": [
    "# deepcopy copies everything including all levels of nested containers\n",
    "a = [[1, 2, 3], [4, 5, 6]]\n",
    "b = copy.deepcopy(a)\n",
    "a[1][1] = 100\n",
    "b, a"
   ]
  },
  {
   "cell_type": "markdown",
   "metadata": {},
   "source": [
    "# Strings\n",
    "A list of chars."
   ]
  },
  {
   "cell_type": "code",
   "execution_count": 32,
   "metadata": {},
   "outputs": [
    {
     "name": "stdout",
     "output_type": "stream",
     "text": [
      "e\n",
      "o\n"
     ]
    }
   ],
   "source": [
    "a_str = \"Hello\"\n",
    "print(a_str[1])\n",
    "print(a_str[-1])"
   ]
  },
  {
   "cell_type": "markdown",
   "metadata": {},
   "source": [
    "# Tuples\n",
    "* A collection of any kind of objects.\n",
    "* Items can be accessed by index just like lists.\n",
    "* Tuples are immutable, they can't be changed, umm..., unless the item in the tuple is itself a mutable container like a list."
   ]
  },
  {
   "cell_type": "code",
   "execution_count": 21,
   "metadata": {},
   "outputs": [
    {
     "data": {
      "text/plain": [
       "1"
      ]
     },
     "execution_count": 21,
     "metadata": {},
     "output_type": "execute_result"
    }
   ],
   "source": [
    "tup = (1, True, 3.5, [1, 2, 3])\n",
    "tup[0]  # 1st item"
   ]
  },
  {
   "cell_type": "code",
   "execution_count": 22,
   "metadata": {},
   "outputs": [
    {
     "ename": "TypeError",
     "evalue": "'tuple' object does not support item assignment",
     "output_type": "error",
     "traceback": [
      "\u001b[0;31m---------------------------------------------------------------------------\u001b[0m",
      "\u001b[0;31mTypeError\u001b[0m                                 Traceback (most recent call last)",
      "\u001b[0;32m<ipython-input-22-e43219f491f0>\u001b[0m in \u001b[0;36m<module>\u001b[0;34m\u001b[0m\n\u001b[1;32m      1\u001b[0m \u001b[0;31m# Tuples can't change, they're immutable\u001b[0m\u001b[0;34m\u001b[0m\u001b[0;34m\u001b[0m\u001b[0;34m\u001b[0m\u001b[0m\n\u001b[1;32m      2\u001b[0m \u001b[0mtup\u001b[0m \u001b[0;34m=\u001b[0m \u001b[0;34m(\u001b[0m\u001b[0;36m1\u001b[0m\u001b[0;34m,\u001b[0m \u001b[0;32mTrue\u001b[0m\u001b[0;34m,\u001b[0m \u001b[0;36m3.5\u001b[0m\u001b[0;34m,\u001b[0m \u001b[0;34m[\u001b[0m\u001b[0;36m1\u001b[0m\u001b[0;34m,\u001b[0m \u001b[0;36m2\u001b[0m\u001b[0;34m,\u001b[0m \u001b[0;36m3\u001b[0m\u001b[0;34m]\u001b[0m\u001b[0;34m)\u001b[0m\u001b[0;34m\u001b[0m\u001b[0;34m\u001b[0m\u001b[0m\n\u001b[0;32m----> 3\u001b[0;31m \u001b[0mtup\u001b[0m\u001b[0;34m[\u001b[0m\u001b[0;36m0\u001b[0m\u001b[0;34m]\u001b[0m \u001b[0;34m=\u001b[0m \u001b[0;36m2\u001b[0m\u001b[0;34m\u001b[0m\u001b[0;34m\u001b[0m\u001b[0m\n\u001b[0m",
      "\u001b[0;31mTypeError\u001b[0m: 'tuple' object does not support item assignment"
     ]
    }
   ],
   "source": [
    "# Tuples can't change, they're immutable\n",
    "tup = (1, True, 3.5, [1, 2, 3])\n",
    "tup[0] = 2"
   ]
  },
  {
   "cell_type": "code",
   "execution_count": 23,
   "metadata": {},
   "outputs": [
    {
     "name": "stdout",
     "output_type": "stream",
     "text": [
      "(1, True, 3.5, [1, 2, 3])\n",
      "(1, True, 3.5, [100, 2, 3])\n"
     ]
    }
   ],
   "source": [
    "# But mutable objects like lists inside tuples can change!\n",
    "tup = (1, True, 3.5, [1, 2, 3])\n",
    "print(tup)\n",
    "tup[-1][0] = 100\n",
    "print(tup)"
   ]
  },
  {
   "cell_type": "markdown",
   "metadata": {},
   "source": [
    "## Dictionaries\n",
    "* Collection of (key, value) pairs.\n",
    "* Values accessed by key instead of by index."
   ]
  },
  {
   "cell_type": "code",
   "execution_count": 76,
   "metadata": {},
   "outputs": [
    {
     "name": "stdout",
     "output_type": "stream",
     "text": [
      "apples are Green\n",
      "bananas are Yellow\n",
      "lettuce is Green\n",
      "The RGB values for gray are [0.5, 0.5, 0.5]\n",
      "\n",
      "dict_keys(['apple', 'banana', 'lettuce', 'gray_RGB', 'strawberry'])\n",
      "dict_values(['Green', 'Yellow', 'Green', [0.5, 0.5, 0.5], 'Red'])\n"
     ]
    }
   ],
   "source": [
    "colors = {\"apple\": \"Red\", \"banana\": \"Yellow\", \"lettuce\": \"Green\", \"gray_RGB\": [0.5, 0.5, 0.5]}\n",
    "colors[\"apple\"] = \"Green\"\n",
    "colors[\"strawberry\"] = \"Red\"\n",
    "print(\"apples are\", colors[\"apple\"])\n",
    "print(\"bananas are\", colors[\"banana\"])\n",
    "print(\"lettuce is\", colors[\"lettuce\"])\n",
    "print(\"The RGB values for gray are\", colors[\"gray_RGB\"])\n",
    "print()\n",
    "print(colors.keys())\n",
    "print(colors.values())"
   ]
  },
  {
   "cell_type": "markdown",
   "metadata": {},
   "source": [
    "## Conditionals"
   ]
  },
  {
   "cell_type": "code",
   "execution_count": 40,
   "metadata": {},
   "outputs": [
    {
     "name": "stdout",
     "output_type": "stream",
     "text": [
      "1 == 1 is True\n",
      "1.0 == 1 is True\n",
      "1.5 == 1 is  False\n",
      "1.5 != 1 is  True\n",
      "3 < 5.5 is  True\n",
      "-1 > 2 is  False\n",
      "7 <= 7.1 is  True\n",
      "7 >= 7 is True\n",
      "(7 == 7) == False is False\n",
      "not (7 == 7) is False\n"
     ]
    }
   ],
   "source": [
    "print(\"1 == 1 is\", 1 == 1)\n",
    "print(\"1.0 == 1 is\", 1.0 == 1)\n",
    "print(\"1.5 == 1 is \", 1.5 == 1)\n",
    "print(\"1.5 != 1 is \", 1.5 != 1)\n",
    "print(\"3 < 5.5 is \", 3 < 5.5)\n",
    "print(\"-1 > 2 is \", -1 > 2)\n",
    "print(\"7 <= 7.1 is \", 7 <= 7.1)\n",
    "print(\"7 >= 7 is\", 7 >= 7)\n",
    "print(\"(7 == 7) == False is\", (7 == 7) == False)\n",
    "print(\"not (7 == 7) is\", not (7 == 7))"
   ]
  },
  {
   "cell_type": "markdown",
   "metadata": {},
   "source": [
    "## Logical AND, OR"
   ]
  },
  {
   "cell_type": "code",
   "execution_count": 41,
   "metadata": {},
   "outputs": [
    {
     "name": "stdout",
     "output_type": "stream",
     "text": [
      "(1 == 1) and (2 == 2) is True\n",
      "(1 == 1) and (1 == 2) is False\n",
      "(1 == 1) or (1 == 2) is True\n",
      "(1 == 0) or (1 == 2) is False\n"
     ]
    }
   ],
   "source": [
    "print(\"(1 == 1) and (2 == 2) is\", (1 == 1) and (2 == 2))\n",
    "print(\"(1 == 1) and (1 == 2) is\", (1 == 1) and (1 == 2))\n",
    "print(\"(1 == 1) or (1 == 2) is\", (1 == 1) or (1 == 2))\n",
    "print(\"(1 == 0) or (1 == 2) is\", (1 == 0) or (1 == 2))"
   ]
  },
  {
   "cell_type": "markdown",
   "metadata": {},
   "source": [
    "## if statements"
   ]
  },
  {
   "cell_type": "code",
   "execution_count": 1,
   "metadata": {},
   "outputs": [],
   "source": [
    "x = 3\n",
    "if x > 5:\n",
    "    print(\"x < 5\")\n",
    "    y = 3\n",
    "    if False:\n",
    "        print(\"stuffg\")\n",
    "    z = 7\n",
    "z = 4"
   ]
  },
  {
   "cell_type": "code",
   "execution_count": 43,
   "metadata": {},
   "outputs": [
    {
     "name": "stdout",
     "output_type": "stream",
     "text": [
      "x < 5\n"
     ]
    }
   ],
   "source": [
    "if x >= 5:\n",
    "    print(\"x >= 5\")\n",
    "else:\n",
    "    print(\"x < 5\")"
   ]
  },
  {
   "cell_type": "code",
   "execution_count": 54,
   "metadata": {},
   "outputs": [
    {
     "name": "stdout",
     "output_type": "stream",
     "text": [
      "x <= 3\n"
     ]
    }
   ],
   "source": [
    "if x >= 5:\n",
    "    print(\"x >= 5\")\n",
    "elif x < 5 and x > 3:\n",
    "    print(\"3 < x < 5\")\n",
    "else:\n",
    "    print(\"x <= 3\")"
   ]
  },
  {
   "cell_type": "markdown",
   "metadata": {},
   "source": [
    "## for loops"
   ]
  },
  {
   "cell_type": "code",
   "execution_count": 4,
   "metadata": {},
   "outputs": [
    {
     "name": "stdout",
     "output_type": "stream",
     "text": [
      "1\n",
      "2\n",
      "3.0\n",
      "4.5\n",
      "hello\n",
      "True\n",
      "['a', 'b', 'c']\n"
     ]
    }
   ],
   "source": [
    "arr = [1, 2, 3.0, 4.5, \"hello\", True, ['a', 'b', 'c']]\n",
    "\n",
    "for i in arr:\n",
    "    print(i)"
   ]
  },
  {
   "cell_type": "code",
   "execution_count": 46,
   "metadata": {},
   "outputs": [
    {
     "name": "stdout",
     "output_type": "stream",
     "text": [
      "0 1\n",
      "1 2\n",
      "2 3.0\n",
      "3 4.5\n",
      "4 hello\n",
      "5 True\n",
      "6 ['a', 'b', 'c']\n"
     ]
    }
   ],
   "source": [
    "# Loop over both indexes and values\n",
    "for (index, item) in enumerate(arr):\n",
    "    print(index, item)"
   ]
  },
  {
   "cell_type": "code",
   "execution_count": 47,
   "metadata": {},
   "outputs": [
    {
     "name": "stdout",
     "output_type": "stream",
     "text": [
      "0 1\n",
      "1 2\n",
      "2 3.0\n",
      "3 4.5\n",
      "4 hello\n",
      "5 True\n",
      "6 ['a', 'b', 'c']\n"
     ]
    }
   ],
   "source": [
    "# range(start, stop)\n",
    "for index in range(0, len(arr)):\n",
    "    print(index, arr[index])"
   ]
  },
  {
   "cell_type": "code",
   "execution_count": 2,
   "metadata": {},
   "outputs": [
    {
     "name": "stdout",
     "output_type": "stream",
     "text": [
      "10\n",
      "13\n",
      "16\n",
      "19\n"
     ]
    }
   ],
   "source": [
    "# Every 3rd number from 10-19.\n",
    "import time\n",
    "for i in range(10, 20, 3):\n",
    "    print(i)\n",
    "    time.sleep(1)  # sleep for 1 sec, notice that the output is asynchronous"
   ]
  },
  {
   "cell_type": "markdown",
   "metadata": {},
   "source": [
    "## while loops"
   ]
  },
  {
   "cell_type": "code",
   "execution_count": 49,
   "metadata": {},
   "outputs": [
    {
     "name": "stdout",
     "output_type": "stream",
     "text": [
      "6\n",
      "7\n",
      "8\n",
      "9\n",
      "10\n"
     ]
    }
   ],
   "source": [
    "n = 6\n",
    "while n <= 10:\n",
    "    print(n)\n",
    "    n += 1"
   ]
  },
  {
   "cell_type": "markdown",
   "metadata": {},
   "source": [
    "## Exiting a loop"
   ]
  },
  {
   "cell_type": "code",
   "execution_count": 56,
   "metadata": {},
   "outputs": [
    {
     "name": "stdout",
     "output_type": "stream",
     "text": [
      "1\n",
      "2\n",
      "3\n"
     ]
    }
   ],
   "source": [
    "for n in range(1, 6):\n",
    "    if n == 4:\n",
    "        break\n",
    "    print(n)"
   ]
  },
  {
   "cell_type": "markdown",
   "metadata": {},
   "source": [
    "## Skipping to the next loop iteration"
   ]
  },
  {
   "cell_type": "code",
   "execution_count": 51,
   "metadata": {},
   "outputs": [
    {
     "name": "stdout",
     "output_type": "stream",
     "text": [
      "3\n",
      "4\n",
      "5\n"
     ]
    }
   ],
   "source": [
    "for n in range(1, 6):\n",
    "    if n < 3:\n",
    "        continue\n",
    "    print(n)"
   ]
  },
  {
   "cell_type": "markdown",
   "metadata": {},
   "source": [
    "## Iterate a dictionary's (key, value) pairs"
   ]
  },
  {
   "cell_type": "code",
   "execution_count": 5,
   "metadata": {},
   "outputs": [
    {
     "name": "stdout",
     "output_type": "stream",
     "text": [
      "apple : Red\n",
      "banana : Yellow\n",
      "lettuce : Green\n",
      "gray_RGB : [0.5, 0.5, 0.5]\n"
     ]
    }
   ],
   "source": [
    "colors = {\"apple\": \"Red\", \"banana\": \"Yellow\", \"lettuce\": \"Green\", \"gray_RGB\": [0.5, 0.5, 0.5]}\n",
    "\n",
    "for (key, value) in colors.items():\n",
    "    print(key, \":\", value)"
   ]
  },
  {
   "cell_type": "markdown",
   "metadata": {},
   "source": [
    "## Save pickled data\n",
    "* pickle saves data in binary format"
   ]
  },
  {
   "cell_type": "code",
   "execution_count": 6,
   "metadata": {},
   "outputs": [
    {
     "data": {
      "text/plain": [
       "['Some',\n",
       " 'data',\n",
       " 3.5,\n",
       " True,\n",
       " [1, 2, 3.0, 4.5, 'hello', True, ['a', 'b', 'c']],\n",
       " {'apple': 'Red',\n",
       "  'banana': 'Yellow',\n",
       "  'lettuce': 'Green',\n",
       "  'gray_RGB': [0.5, 0.5, 0.5]}]"
      ]
     },
     "execution_count": 6,
     "metadata": {},
     "output_type": "execute_result"
    }
   ],
   "source": [
    "import pickle  # get the pickle module\n",
    "\n",
    "data = [\"Some\", \"data\", 3.5, True, arr, colors]\n",
    "\n",
    "# Save data to file\n",
    "with open(\"my_data.dat\", \"wb\") as f:  # open file for binary writing\n",
    "    pickle.dump(data, f)\n",
    "\n",
    "data"
   ]
  },
  {
   "cell_type": "markdown",
   "metadata": {},
   "source": [
    "## Load pickled data\n",
    "* !!! WARNING !!! This is unsecure! But if you or someone you trust pickled the data, then it should be no problem. However, I would NOT unpickle some unknown data you downloaded. It might break your computer."
   ]
  },
  {
   "cell_type": "code",
   "execution_count": 79,
   "metadata": {},
   "outputs": [
    {
     "data": {
      "text/plain": [
       "['Some',\n",
       " 'data',\n",
       " 3.5,\n",
       " True,\n",
       " [1, 2, 3.0, 4.5, 'hello', True, ['a', 'b', 'c']],\n",
       " {'apple': 'Green',\n",
       "  'banana': 'Yellow',\n",
       "  'lettuce': 'Green',\n",
       "  'gray_RGB': [0.5, 0.5, 0.5],\n",
       "  'strawberry': 'Red'}]"
      ]
     },
     "execution_count": 79,
     "metadata": {},
     "output_type": "execute_result"
    }
   ],
   "source": [
    "# Load data from file\n",
    "with open(\"my_data.dat\", \"rb\") as f:  # open file for binary reading\n",
    "    newdata = pickle.load(f)\n",
    "\n",
    "newdata"
   ]
  },
  {
   "cell_type": "markdown",
   "metadata": {},
   "source": [
    "## Functions"
   ]
  },
  {
   "cell_type": "code",
   "execution_count": 7,
   "metadata": {},
   "outputs": [],
   "source": [
    "def say_hi(name):\n",
    "    print(\"Hi\", name)"
   ]
  },
  {
   "cell_type": "code",
   "execution_count": 29,
   "metadata": {},
   "outputs": [
    {
     "name": "stdout",
     "output_type": "stream",
     "text": [
      "Hi Tim\n"
     ]
    }
   ],
   "source": [
    "say_hi(\"Tim\")"
   ]
  },
  {
   "cell_type": "code",
   "execution_count": 30,
   "metadata": {},
   "outputs": [
    {
     "ename": "NameError",
     "evalue": "name 'add_numbers' is not defined",
     "output_type": "error",
     "traceback": [
      "\u001b[0;31m---------------------------------------------------------------------------\u001b[0m",
      "\u001b[0;31mNameError\u001b[0m                                 Traceback (most recent call last)",
      "\u001b[0;32m<ipython-input-30-45cbffb1cb69>\u001b[0m in \u001b[0;36m<module>\u001b[0;34m\u001b[0m\n\u001b[0;32m----> 1\u001b[0;31m \u001b[0madd_numbers\u001b[0m\u001b[0;34m(\u001b[0m\u001b[0;36m3\u001b[0m\u001b[0;34m,\u001b[0m \u001b[0;36m4.5\u001b[0m\u001b[0;34m)\u001b[0m\u001b[0;34m\u001b[0m\u001b[0;34m\u001b[0m\u001b[0m\n\u001b[0m",
      "\u001b[0;31mNameError\u001b[0m: name 'add_numbers' is not defined"
     ]
    }
   ],
   "source": [
    "add_numbers(3, 4.5)"
   ]
  },
  {
   "cell_type": "code",
   "execution_count": 80,
   "metadata": {},
   "outputs": [],
   "source": [
    "def add_numbers(x, y):\n",
    "    return x + y"
   ]
  },
  {
   "cell_type": "code",
   "execution_count": 81,
   "metadata": {},
   "outputs": [
    {
     "data": {
      "text/plain": [
       "7.5"
      ]
     },
     "execution_count": 81,
     "metadata": {},
     "output_type": "execute_result"
    }
   ],
   "source": [
    "add_numbers(3, 4.5)"
   ]
  },
  {
   "cell_type": "code",
   "execution_count": 104,
   "metadata": {},
   "outputs": [],
   "source": [
    "def get_sub_and_prod(x, y=2):\n",
    "    sub = x - y\n",
    "    prod = x * y\n",
    "    return sub, prod"
   ]
  },
  {
   "cell_type": "code",
   "execution_count": 105,
   "metadata": {},
   "outputs": [
    {
     "data": {
      "text/plain": [
       "(-1, 6)"
      ]
     },
     "execution_count": 105,
     "metadata": {},
     "output_type": "execute_result"
    }
   ],
   "source": [
    "s, p = get_sub_and_prod(2, 3)\n",
    "s, p"
   ]
  },
  {
   "cell_type": "markdown",
   "metadata": {},
   "source": [
    "## Default and named function arguments"
   ]
  },
  {
   "cell_type": "code",
   "execution_count": 106,
   "metadata": {},
   "outputs": [
    {
     "data": {
      "text/plain": [
       "(0, 4)"
      ]
     },
     "execution_count": 106,
     "metadata": {},
     "output_type": "execute_result"
    }
   ],
   "source": [
    "s, p = get_sub_and_prod(2)\n",
    "s, p"
   ]
  },
  {
   "cell_type": "code",
   "execution_count": 107,
   "metadata": {},
   "outputs": [
    {
     "data": {
      "text/plain": [
       "(-1, 6)"
      ]
     },
     "execution_count": 107,
     "metadata": {},
     "output_type": "execute_result"
    }
   ],
   "source": [
    "s, p = get_sub_and_prod(x=2, y=3)\n",
    "s, p"
   ]
  },
  {
   "cell_type": "code",
   "execution_count": 108,
   "metadata": {},
   "outputs": [
    {
     "data": {
      "text/plain": [
       "(-1, 6)"
      ]
     },
     "execution_count": 108,
     "metadata": {},
     "output_type": "execute_result"
    }
   ],
   "source": [
    "s, p = get_sub_and_prod(y=3, x=2)\n",
    "s, p"
   ]
  },
  {
   "cell_type": "markdown",
   "metadata": {},
   "source": [
    "## Variable scope"
   ]
  },
  {
   "cell_type": "code",
   "execution_count": 8,
   "metadata": {},
   "outputs": [
    {
     "data": {
      "text/plain": [
       "3"
      ]
     },
     "execution_count": 8,
     "metadata": {},
     "output_type": "execute_result"
    }
   ],
   "source": [
    "x = 3\n",
    "\n",
    "def myfunc(x):\n",
    "    x = 2\n",
    "\n",
    "myfunc(x)\n",
    "\n",
    "x"
   ]
  },
  {
   "cell_type": "code",
   "execution_count": 8,
   "metadata": {},
   "outputs": [
    {
     "ename": "NameError",
     "evalue": "name 'yy' is not defined",
     "output_type": "error",
     "traceback": [
      "\u001b[0;31m---------------------------------------------------------------------------\u001b[0m",
      "\u001b[0;31mNameError\u001b[0m                                 Traceback (most recent call last)",
      "\u001b[0;32m<ipython-input-8-6daa41ef554c>\u001b[0m in \u001b[0;36m<module>\u001b[0;34m\u001b[0m\n\u001b[0;32m----> 1\u001b[0;31m \u001b[0myy\u001b[0m\u001b[0;34m\u001b[0m\u001b[0;34m\u001b[0m\u001b[0m\n\u001b[0m",
      "\u001b[0;31mNameError\u001b[0m: name 'yy' is not defined"
     ]
    }
   ],
   "source": [
    "yy"
   ]
  },
  {
   "cell_type": "markdown",
   "metadata": {},
   "source": [
    "## Immutable args are copied, whereas mutable args are passed by reference"
   ]
  },
  {
   "cell_type": "code",
   "execution_count": 9,
   "metadata": {},
   "outputs": [
    {
     "data": {
      "text/plain": [
       "[1, 100, 3]"
      ]
     },
     "execution_count": 9,
     "metadata": {},
     "output_type": "execute_result"
    }
   ],
   "source": [
    "a = [1, 2, 3]\n",
    "\n",
    "def myarrayfunc(arr):\n",
    "    arr[1] = 100\n",
    "\n",
    "myarrayfunc(a)\n",
    "a"
   ]
  },
  {
   "cell_type": "markdown",
   "metadata": {},
   "source": [
    "## List comprehensions"
   ]
  },
  {
   "cell_type": "code",
   "execution_count": 94,
   "metadata": {},
   "outputs": [
    {
     "data": {
      "text/plain": [
       "[0, 1, 4, 9, 16, 25, 36, 49, 64, 81]"
      ]
     },
     "execution_count": 94,
     "metadata": {},
     "output_type": "execute_result"
    }
   ],
   "source": [
    "[x**2 for x in range(10)]  # range(stop) == range(0, stop)"
   ]
  },
  {
   "cell_type": "code",
   "execution_count": 96,
   "metadata": {},
   "outputs": [
    {
     "data": {
      "text/plain": [
       "[1, 2, 4, 8, 16, 32, 64, 128, 256, 512, 1024, 2048, 4096]"
      ]
     },
     "execution_count": 96,
     "metadata": {},
     "output_type": "execute_result"
    }
   ],
   "source": [
    "S = [2**i for i in range(13)]\n",
    "S"
   ]
  },
  {
   "cell_type": "code",
   "execution_count": 98,
   "metadata": {},
   "outputs": [
    {
     "data": {
      "text/plain": [
       "[1, 2, 4, 8, 16, 32, 64]"
      ]
     },
     "execution_count": 98,
     "metadata": {},
     "output_type": "execute_result"
    }
   ],
   "source": [
    "[x for x in S if x < 128]"
   ]
  },
  {
   "cell_type": "markdown",
   "metadata": {},
   "source": [
    "## Classes"
   ]
  },
  {
   "cell_type": "code",
   "execution_count": 118,
   "metadata": {},
   "outputs": [],
   "source": [
    "class Animal:\n",
    "    \"\"\"\n",
    "    An animal with some number of legs.\n",
    "    \"\"\"\n",
    "    \n",
    "    def __init__(self, num_legs=0):\n",
    "        # initialize the class\n",
    "        self.num_legs = num_legs  # member variables self.xxx\n",
    "    \n",
    "    def run_away(self):\n",
    "        num_legs = 6\n",
    "        if self.num_legs > 0:\n",
    "            print(\"Running away...\")\n",
    "        else:\n",
    "            print(\"Slithering away...\")"
   ]
  },
  {
   "cell_type": "code",
   "execution_count": 121,
   "metadata": {},
   "outputs": [
    {
     "name": "stdout",
     "output_type": "stream",
     "text": [
      "Slithering away...\n",
      "Slithering away...\n",
      "Running away...\n"
     ]
    },
    {
     "data": {
      "text/plain": [
       "(0, 0, 4)"
      ]
     },
     "execution_count": 121,
     "metadata": {},
     "output_type": "execute_result"
    }
   ],
   "source": [
    "larva = Animal()\n",
    "snake = Animal(num_legs=0)\n",
    "cat = Animal(4)\n",
    "\n",
    "larva.run_away()\n",
    "snake.run_away()\n",
    "cat.run_away()\n",
    "\n",
    "larva.num_legs, snake.num_legs, cat.num_legs"
   ]
  },
  {
   "cell_type": "markdown",
   "metadata": {},
   "source": [
    "# Package management with Anaconda\n",
    "In the shell:\n",
    "\n",
    "    > conda --help\n",
    "    > conda list\n",
    "    > conda install somepackage\n",
    "\n",
    "Or via the Environements tab in Anaconda Navigator."
   ]
  }
 ],
 "metadata": {
  "kernelspec": {
   "display_name": "Python 3",
   "language": "python",
   "name": "python3"
  },
  "language_info": {
   "codemirror_mode": {
    "name": "ipython",
    "version": 3
   },
   "file_extension": ".py",
   "mimetype": "text/x-python",
   "name": "python",
   "nbconvert_exporter": "python",
   "pygments_lexer": "ipython3",
   "version": "3.7.1"
  }
 },
 "nbformat": 4,
 "nbformat_minor": 2
}
