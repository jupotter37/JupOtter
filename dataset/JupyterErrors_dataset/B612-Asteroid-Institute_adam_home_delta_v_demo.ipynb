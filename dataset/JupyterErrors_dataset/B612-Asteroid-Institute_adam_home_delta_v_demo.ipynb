{
 "cells": [
  {
   "cell_type": "markdown",
   "metadata": {},
   "source": [
    "## This notebook demonstrates how to propagate an orbit back in time, then compute a state transition matrix on the forward propagation"
   ]
  },
  {
   "cell_type": "code",
   "execution_count": 3,
   "metadata": {},
   "outputs": [],
   "source": [
    "import adam\n",
    "import sys, os\n",
    "import datetime\n",
    "import numpy as np\n",
    "import numpy.testing as npt\n",
    "import pandas as pd"
   ]
  },
  {
   "cell_type": "markdown",
   "metadata": {},
   "source": [
    "This sets up a Service which uses the given token and URL to provide authorized access through the server through several wrapped modules. It also creates a project for you to work in that will be used for the rest of the notebook. Be sure to run service.teardown() when finished. \n",
    "\n",
    "If you don't have a config, see config_demo to get one."
   ]
  },
  {
   "cell_type": "code",
   "execution_count": 5,
   "metadata": {},
   "outputs": [
    {
     "name": "stdout",
     "output_type": "stream",
     "text": [
      "[0.574937] Setup\n"
     ]
    },
    {
     "data": {
      "text/plain": [
       "True"
      ]
     },
     "execution_count": 5,
     "metadata": {},
     "output_type": "execute_result"
    }
   ],
   "source": [
    "cm = adam.ConfigManager()\n",
    "cm.set_default_env('dev')\n",
    "\n",
    "service = adam.Service.from_config(cm.get_config())\n",
    "service.setup()"
   ]
  },
  {
   "cell_type": "code",
   "execution_count": 6,
   "metadata": {},
   "outputs": [
    {
     "name": "stdout",
     "output_type": "stream",
     "text": [
      "Set up project with uuid 7ee19d92-f6f5-4e2c-a56c-468e568e8870\n",
      "[1.383377] Create a new working project under project de77f430-7a4f-407c-93c1-a99cc4cd2909\n"
     ]
    }
   ],
   "source": [
    "working_project = service.new_working_project()"
   ]
  },
  {
   "cell_type": "markdown",
   "metadata": {},
   "source": [
    "### Definitions\n",
    "\n",
    "Following are definitions of all the parameters we would like to use, including regarding the asteroid, its location, and the times we want to use in our propagations."
   ]
  },
  {
   "cell_type": "code",
   "execution_count": 7,
   "metadata": {},
   "outputs": [],
   "source": [
    "asteroid_params = {\n",
    "    'mass': 500.5,              # object mass\n",
    "    'solar_rad_area': 25.2,     # object solar radiation area (m^2)\n",
    "    'solar_rad_coeff': 1.2,     # object solar radiation coefficient\n",
    "    'drag_area': 33.3,          # object drag area (m^2)\n",
    "    'drag_coeff': 2.5,          # object drag coefficient\n",
    "    'object_name': 'KillerAsteroid'\n",
    "}\n",
    "\n",
    "initial_state_vector = [1.9614856544727500000e7,\n",
    "                        1.4843205548512800000e8,\n",
    "                        5.5892860024181600000e7,\n",
    "                        -28.4909386978969000000,\n",
    "                        -5.3762767683990300000,\n",
    "                        2.5848941723961300000]\n",
    "\n",
    "propagation_time = 50 * 365 * 24 * 60 * 60  # 50 years in seconds.\n",
    "\n",
    "now = datetime.datetime(2018, 2, 21, 0, 0, 0, 123456)\n",
    "fifty_years_ago = now - datetime.timedelta(seconds=propagation_time)"
   ]
  },
  {
   "cell_type": "markdown",
   "metadata": {},
   "source": [
    "### Backwards propagation\n",
    "\n",
    "This creates and runs a propagation backwards 50 years from now."
   ]
  },
  {
   "cell_type": "code",
   "execution_count": 8,
   "metadata": {},
   "outputs": [
    {
     "name": "stdout",
     "output_type": "stream",
     "text": [
      "[0.975908] Submitting 1 runs.\n",
      "[17.057464] Running.\n",
      "[2.918979] Retrieving propagation results.\n",
      "Finished backwards propagation in state COMPLETED\n",
      "State vector fifty years ago: [-105079893.82460001, 55761751.36629, 39539057.706580006, -14.97306425914, -31.30823875332, -9.959259069193001]\n"
     ]
    }
   ],
   "source": [
    "backwards_propagation = adam.Batch(\n",
    "    adam.PropagationParams(\n",
    "        {\n",
    "            'start_time': now.isoformat() + 'Z',\n",
    "            'end_time': fifty_years_ago.isoformat() + 'Z',\n",
    "            'step_size': 0,  # Use adaptive step size.\n",
    "            'project_uuid': working_project.get_uuid(),\n",
    "        }\n",
    "    ), adam.OpmParams(\n",
    "        dict(\n",
    "            asteroid_params, **{\n",
    "            'epoch': now.isoformat() + 'Z',\n",
    "            'state_vector': initial_state_vector,\n",
    "        })\n",
    "    )\n",
    ")\n",
    "\n",
    "batch_run_manager = adam.BatchRunManager(service.get_batches_module(), [backwards_propagation])\n",
    "batch_run_manager.run();\n",
    "\n",
    "# Should be 'COMPLETED'.\n",
    "print('Finished backwards propagation in state %s' % (backwards_propagation.get_calc_state()))\n",
    "state_vector_fifty_years_ago = backwards_propagation.get_results().get_end_state_vector()\n",
    "print('State vector fifty years ago: %s' % state_vector_fifty_years_ago)"
   ]
  },
  {
   "cell_type": "markdown",
   "metadata": {},
   "source": [
    "TODO(laura): This is actually not true because python notebooks do not run cells simultaneously. There are ways to make this work. Do it.\n",
    "\n",
    "In case you're curious, you can run the following to get the state of your runs (in this case only backwards_propagation) while running."
   ]
  },
  {
   "cell_type": "code",
   "execution_count": 9,
   "metadata": {},
   "outputs": [
    {
     "data": {
      "text/html": [
       "<style  type=\"text/css\" >\n",
       "</style><table id=\"T_5a11f3a8_1aeb_11eb_a870_acde48001122\" ><thead>    <tr>        <th class=\"col_heading level0 col0\" >Task</th>        <th class=\"col_heading level0 col1\" >Status</th>    </tr></thead><tbody>\n",
       "                <tr>\n",
       "                                <td id=\"T_5a11f3a8_1aeb_11eb_a870_acde48001122row0_col0\" class=\"data row0 col0\" >PENDING</td>\n",
       "                        <td id=\"T_5a11f3a8_1aeb_11eb_a870_acde48001122row0_col1\" class=\"data row0 col1\" >0</td>\n",
       "            </tr>\n",
       "            <tr>\n",
       "                                <td id=\"T_5a11f3a8_1aeb_11eb_a870_acde48001122row1_col0\" class=\"data row1 col0\" >RUNNING</td>\n",
       "                        <td id=\"T_5a11f3a8_1aeb_11eb_a870_acde48001122row1_col1\" class=\"data row1 col1\" >0</td>\n",
       "            </tr>\n",
       "            <tr>\n",
       "                                <td id=\"T_5a11f3a8_1aeb_11eb_a870_acde48001122row2_col0\" class=\"data row2 col0\" >COMPLETED</td>\n",
       "                        <td id=\"T_5a11f3a8_1aeb_11eb_a870_acde48001122row2_col1\" class=\"data row2 col1\" >1</td>\n",
       "            </tr>\n",
       "            <tr>\n",
       "                                <td id=\"T_5a11f3a8_1aeb_11eb_a870_acde48001122row3_col0\" class=\"data row3 col0\" >FAILED</td>\n",
       "                        <td id=\"T_5a11f3a8_1aeb_11eb_a870_acde48001122row3_col1\" class=\"data row3 col1\" >0</td>\n",
       "            </tr>\n",
       "    </tbody></table>"
      ],
      "text/plain": [
       "<pandas.io.formats.style.Styler at 0x7fdbc1a93bb0>"
      ]
     },
     "execution_count": 9,
     "metadata": {},
     "output_type": "execute_result"
    }
   ],
   "source": [
    "status = batch_run_manager.get_latest_statuses()\n",
    "status_counts = [[s, len(status[s])] for s in status]\n",
    "df = pd.DataFrame(status_counts, columns=['Task', 'Status'])\n",
    "df.style.hide_index()"
   ]
  },
  {
   "cell_type": "markdown",
   "metadata": {},
   "source": [
    "### STM calculation\n",
    "\n",
    "Now that we know where this asteroid was 50 years ago, let's propagate forward using the STM module to compute a state transition matrix that we can use in our delta-V calculations."
   ]
  },
  {
   "cell_type": "code",
   "execution_count": 10,
   "metadata": {},
   "outputs": [
    {
     "name": "stdout",
     "output_type": "stream",
     "text": [
      "[0.76482] Submitting 13 runs.\n",
      "[53.442117] Running.\n",
      "[14.670358] Retrieving propagation results.\n"
     ]
    },
    {
     "ename": "AssertionError",
     "evalue": "\nNot equal to tolerance rtol=0, atol=0.001\n\nMismatched elements: 3 / 3 (100%)\nMax absolute difference: 2678752.6002275\nMax relative difference: inf\n x: array([-2678752.600228,  -650883.233728,   184046.432238])\n y: array([0, 0, 0])",
     "output_type": "error",
     "traceback": [
      "\u001b[0;31m---------------------------------------------------------------------------\u001b[0m",
      "\u001b[0;31mAssertionError\u001b[0m                            Traceback (most recent call last)",
      "\u001b[0;32m<ipython-input-10-679d0682c9fd>\u001b[0m in \u001b[0;36m<module>\u001b[0;34m\u001b[0m\n\u001b[1;32m     20\u001b[0m \u001b[0;31m# We should have ended up quite close to the same position and velocity at which it started. Validate that.\u001b[0m\u001b[0;34m\u001b[0m\u001b[0;34m\u001b[0m\u001b[0;34m\u001b[0m\u001b[0m\n\u001b[1;32m     21\u001b[0m \u001b[0mdifference\u001b[0m \u001b[0;34m=\u001b[0m \u001b[0mnp\u001b[0m\u001b[0;34m.\u001b[0m\u001b[0msubtract\u001b[0m\u001b[0;34m(\u001b[0m\u001b[0mnow_state_vector\u001b[0m\u001b[0;34m,\u001b[0m \u001b[0minitial_state_vector\u001b[0m\u001b[0;34m)\u001b[0m\u001b[0;34m\u001b[0m\u001b[0;34m\u001b[0m\u001b[0m\n\u001b[0;32m---> 22\u001b[0;31m \u001b[0mnpt\u001b[0m\u001b[0;34m.\u001b[0m\u001b[0massert_allclose\u001b[0m\u001b[0;34m(\u001b[0m\u001b[0mdifference\u001b[0m\u001b[0;34m[\u001b[0m\u001b[0;36m0\u001b[0m\u001b[0;34m:\u001b[0m\u001b[0;36m3\u001b[0m\u001b[0;34m]\u001b[0m\u001b[0;34m,\u001b[0m \u001b[0;34m[\u001b[0m\u001b[0;36m0\u001b[0m\u001b[0;34m,\u001b[0m \u001b[0;36m0\u001b[0m\u001b[0;34m,\u001b[0m \u001b[0;36m0\u001b[0m\u001b[0;34m]\u001b[0m\u001b[0;34m,\u001b[0m \u001b[0mrtol\u001b[0m\u001b[0;34m=\u001b[0m\u001b[0;36m0\u001b[0m\u001b[0;34m,\u001b[0m \u001b[0matol\u001b[0m\u001b[0;34m=\u001b[0m\u001b[0;36m1e-3\u001b[0m\u001b[0;34m)\u001b[0m    \u001b[0;31m# Allow 1m of change in position\u001b[0m\u001b[0;34m\u001b[0m\u001b[0;34m\u001b[0m\u001b[0m\n\u001b[0m\u001b[1;32m     23\u001b[0m \u001b[0mnpt\u001b[0m\u001b[0;34m.\u001b[0m\u001b[0massert_allclose\u001b[0m\u001b[0;34m(\u001b[0m\u001b[0mdifference\u001b[0m\u001b[0;34m[\u001b[0m\u001b[0;36m3\u001b[0m\u001b[0;34m:\u001b[0m\u001b[0;36m6\u001b[0m\u001b[0;34m]\u001b[0m\u001b[0;34m,\u001b[0m \u001b[0;34m[\u001b[0m\u001b[0;36m0\u001b[0m\u001b[0;34m,\u001b[0m \u001b[0;36m0\u001b[0m\u001b[0;34m,\u001b[0m \u001b[0;36m0\u001b[0m\u001b[0;34m]\u001b[0m\u001b[0;34m,\u001b[0m \u001b[0mrtol\u001b[0m\u001b[0;34m=\u001b[0m\u001b[0;36m0\u001b[0m\u001b[0;34m,\u001b[0m \u001b[0matol\u001b[0m\u001b[0;34m=\u001b[0m\u001b[0;36m1e-10\u001b[0m\u001b[0;34m)\u001b[0m   \u001b[0;31m# But only a tiny change in velocity\u001b[0m\u001b[0;34m\u001b[0m\u001b[0;34m\u001b[0m\u001b[0m\n\u001b[1;32m     24\u001b[0m \u001b[0;34m\u001b[0m\u001b[0m\n",
      "    \u001b[0;31m[... skipping hidden 2 frame]\u001b[0m\n",
      "\u001b[0;31mAssertionError\u001b[0m: \nNot equal to tolerance rtol=0, atol=0.001\n\nMismatched elements: 3 / 3 (100%)\nMax absolute difference: 2678752.6002275\nMax relative difference: inf\n x: array([-2678752.600228,  -650883.233728,   184046.432238])\n y: array([0, 0, 0])"
     ]
    }
   ],
   "source": [
    "forwards_propagation_params = adam.PropagationParams(\n",
    "    {\n",
    "        'start_time': fifty_years_ago.isoformat() + 'Z',\n",
    "        'end_time': now.isoformat() + 'Z',\n",
    "        'step_size': 0,  # Use adaptive step size.\n",
    "        'project_uuid': working_project.get_uuid(),\n",
    "    }\n",
    ")\n",
    "\n",
    "forwards_opm_params = adam.OpmParams(\n",
    "    dict(asteroid_params, **{\n",
    "    'epoch': fifty_years_ago.isoformat() + 'Z',\n",
    "    'state_vector': state_vector_fifty_years_ago,  # This will be nudged to compute the STM.\n",
    "    })\n",
    ")\n",
    "\n",
    "stm_propagator = adam.StmPropagationModule(service.get_batches_module())\n",
    "now_state_vector, stm = stm_propagator.run_stm_propagation(forwards_propagation_params, forwards_opm_params)\n",
    "\n",
    "# We should have ended up quite close to the same position and velocity at which it started. Validate that.\n",
    "difference = np.subtract(now_state_vector, initial_state_vector)\n",
    "npt.assert_allclose(difference[0:3], [0, 0, 0], rtol=0, atol=1e-3)    # Allow 1m of change in position\n",
    "npt.assert_allclose(difference[3:6], [0, 0, 0], rtol=0, atol=1e-10)   # But only a tiny change in velocity\n",
    "\n",
    "# Now we have the state transition matrix!\n",
    "print(\"State transition matrix:\")\n",
    "print(stm)"
   ]
  },
  {
   "cell_type": "markdown",
   "metadata": {},
   "source": [
    "### Now what?\n",
    "\n",
    "Now that we have the state transition matrix, how do we compute delta-Vs? What should happen now? TODO(hackathon)"
   ]
  },
  {
   "cell_type": "code",
   "execution_count": 11,
   "metadata": {},
   "outputs": [
    {
     "name": "stdout",
     "output_type": "stream",
     "text": [
      "Cleaning up working project 7ee19d92-f6f5-4e2c-a56c-468e568e8870...\n",
      "[1.852966] Teardown\n"
     ]
    }
   ],
   "source": [
    "# Cleans up working project and any batches and runs that were made within that project.\n",
    "service.teardown()"
   ]
  }
 ],
 "metadata": {
  "kernelspec": {
   "display_name": "Python 3",
   "language": "python",
   "name": "python3"
  },
  "language_info": {
   "codemirror_mode": {
    "name": "ipython",
    "version": 3
   },
   "file_extension": ".py",
   "mimetype": "text/x-python",
   "name": "python",
   "nbconvert_exporter": "python",
   "pygments_lexer": "ipython3",
   "version": "3.9.2"
  }
 },
 "nbformat": 4,
 "nbformat_minor": 2
}
