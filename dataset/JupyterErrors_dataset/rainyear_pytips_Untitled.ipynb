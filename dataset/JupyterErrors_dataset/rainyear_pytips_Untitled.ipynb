{
 "cells": [
  {
   "cell_type": "code",
   "execution_count": 307,
   "metadata": {
    "collapsed": true
   },
   "outputs": [],
   "source": [
    "def who(obj):\n",
    "    print(id(obj), obj)\n",
    "class A:\n",
    "    def m(self):\n",
    "        print(\"A's m()\")\n",
    "class AA:\n",
    "    pass\n",
    "class B(A):\n",
    "    def __init__(self):\n",
    "        who(super())\n",
    "        who(super(self.__class__, self))\n",
    "        who(super(B))\n",
    "        who(super(B, self))\n",
    "        who(super(A, B))\n",
    "        \n",
    "class C(A):\n",
    "    def __init__(self):\n",
    "        print(super())\n",
    "        print(super(B))\n",
    "        print(super(A, C))\n",
    "class D(B, C):\n",
    "    def __init__(self):\n",
    "        print(super().__mro__)\n",
    "        print(super(D).mro())\n",
    "        print(super(A, B, D).mro())"
   ]
  },
  {
   "cell_type": "code",
   "execution_count": 312,
   "metadata": {
    "collapsed": false
   },
   "outputs": [
    {
     "name": "stdout",
     "output_type": "stream",
     "text": [
      "4460835848 <super: <class 'B'>, <B object>>\n",
      "4460835848 <super: <class 'B'>, <B object>>\n",
      "4460835848 <super: <class 'B'>, NULL>\n",
      "4460835848 <super: <class 'B'>, <B object>>\n",
      "4460835848 <super: <class 'A'>, <B object>>\n"
     ]
    },
    {
     "ename": "TypeError",
     "evalue": "must be type, not B",
     "output_type": "error",
     "traceback": [
      "\u001b[0;31m---------------------------------------------------------------------------\u001b[0m",
      "\u001b[0;31mTypeError\u001b[0m                                 Traceback (most recent call last)",
      "\u001b[0;32m<ipython-input-312-15d04bac6017>\u001b[0m in \u001b[0;36m<module>\u001b[0;34m()\u001b[0m\n\u001b[1;32m      1\u001b[0m \u001b[0mb\u001b[0m \u001b[0;34m=\u001b[0m \u001b[0mB\u001b[0m\u001b[0;34m(\u001b[0m\u001b[0;34m)\u001b[0m\u001b[0;34m\u001b[0m\u001b[0m\n\u001b[0;32m----> 2\u001b[0;31m \u001b[0mdir\u001b[0m\u001b[0;34m(\u001b[0m\u001b[0msuper\u001b[0m\u001b[0;34m(\u001b[0m\u001b[0mb\u001b[0m\u001b[0;34m)\u001b[0m\u001b[0;34m.\u001b[0m\u001b[0mm\u001b[0m\u001b[0;34m(\u001b[0m\u001b[0;34m)\u001b[0m\u001b[0;34m)\u001b[0m\u001b[0;34m\u001b[0m\u001b[0m\n\u001b[0m\u001b[1;32m      3\u001b[0m \u001b[0;31m# who(super(A))\u001b[0m\u001b[0;34m\u001b[0m\u001b[0;34m\u001b[0m\u001b[0m\n\u001b[1;32m      4\u001b[0m \u001b[0;31m# who(super(B))\u001b[0m\u001b[0;34m\u001b[0m\u001b[0;34m\u001b[0m\u001b[0m\n",
      "\u001b[0;31mTypeError\u001b[0m: must be type, not B"
     ]
    }
   ],
   "source": [
    "b = B()\n",
    "dir(super(b).m())\n",
    "# who(super(A))\n",
    "# who(super(B))"
   ]
  },
  {
   "cell_type": "code",
   "execution_count": 295,
   "metadata": {
    "collapsed": true
   },
   "outputs": [],
   "source": [
    "class E:\n",
    "    def __init__(self):\n",
    "        pass\n",
    "    def run(self):\n",
    "        print(\"run\")"
   ]
  },
  {
   "cell_type": "code",
   "execution_count": 296,
   "metadata": {
    "collapsed": false
   },
   "outputs": [
    {
     "name": "stdout",
     "output_type": "stream",
     "text": [
      "run\n",
      "run\n"
     ]
    }
   ],
   "source": [
    "e = E()\n",
    "e.run()\n",
    "E.run(e)"
   ]
  },
  {
   "cell_type": "code",
   "execution_count": 297,
   "metadata": {
    "collapsed": false
   },
   "outputs": [
    {
     "data": {
      "text/plain": [
       "(__main__.D, __main__.B, __main__.C, __main__.A, object)"
      ]
     },
     "execution_count": 297,
     "metadata": {},
     "output_type": "execute_result"
    }
   ],
   "source": [
    "D.__mro__"
   ]
  },
  {
   "cell_type": "code",
   "execution_count": 298,
   "metadata": {
    "collapsed": false
   },
   "outputs": [
    {
     "name": "stdout",
     "output_type": "stream",
     "text": [
      "super() -> same as super(__class__, <first argument>)\n",
      "super(type) -> unbound super object\n",
      "super(type, obj) -> bound super object; requires isinstance(obj, type)\n",
      "super(type, type2) -> bound super object; requires issubclass(type2, type)\n",
      "Typical use to call a cooperative superclass method:\n",
      "class C(B):\n",
      "    def meth(self, arg):\n",
      "        super().meth(arg)\n",
      "This works for class methods too:\n",
      "class C(B):\n",
      "    @classmethod\n",
      "    def cmeth(cls, arg):\n",
      "        super().cmeth(arg)\n",
      "\n"
     ]
    }
   ],
   "source": [
    "print(super.__doc__)"
   ]
  },
  {
   "cell_type": "code",
   "execution_count": 299,
   "metadata": {
    "collapsed": false
   },
   "outputs": [
    {
     "data": {
      "text/plain": [
       "type"
      ]
     },
     "execution_count": 299,
     "metadata": {},
     "output_type": "execute_result"
    }
   ],
   "source": [
    "type(super)"
   ]
  },
  {
   "cell_type": "code",
   "execution_count": 327,
   "metadata": {
    "collapsed": true
   },
   "outputs": [],
   "source": [
    "class A:\n",
    "    def method(self):\n",
    "        who(self)\n",
    "        print(\"A.method\")\n",
    "class B(A):\n",
    "    def method(self):\n",
    "        who(self)\n",
    "        print(\"B.method\")\n",
    "class C(B):\n",
    "    __mro__ = ()\n",
    "    def mro():\n",
    "        return []\n",
    "class D(C):\n",
    "    def __init__(self):\n",
    "        super(D, self).method()\n",
    "        super(B, self).method()\n",
    "    def mro():\n",
    "        return []\n",
    "        \n",
    "#         who(super(C, self).method)\n",
    "#         who(super(C, D).method)\n",
    "#         who(super(B, D).method)"
   ]
  },
  {
   "cell_type": "code",
   "execution_count": 328,
   "metadata": {
    "collapsed": false
   },
   "outputs": [
    {
     "name": "stdout",
     "output_type": "stream",
     "text": [
      "4462125464 <__main__.D object at 0x109f6a198>\n",
      "B.method\n",
      "4462125464 <__main__.D object at 0x109f6a198>\n",
      "A.method\n",
      "4462125464 <__main__.D object at 0x109f6a198>\n",
      "B.method\n"
     ]
    },
    {
     "data": {
      "text/plain": [
       "(__main__.C, __main__.B, __main__.A, object)"
      ]
     },
     "execution_count": 328,
     "metadata": {},
     "output_type": "execute_result"
    }
   ],
   "source": [
    "d = D()\n",
    "d.method()\n",
    "C.__mro__"
   ]
  },
  {
   "cell_type": "code",
   "execution_count": 306,
   "metadata": {
    "collapsed": false
   },
   "outputs": [
    {
     "data": {
      "text/plain": [
       "<super: __main__.A, None>"
      ]
     },
     "execution_count": 306,
     "metadata": {},
     "output_type": "execute_result"
    }
   ],
   "source": [
    "super(A)"
   ]
  },
  {
   "cell_type": "code",
   "execution_count": 303,
   "metadata": {
    "collapsed": false
   },
   "outputs": [
    {
     "name": "stdout",
     "output_type": "stream",
     "text": [
      "140632463716184 <class 'type'>\n",
      "140632463708392 <class 'type'>\n",
      "4461129344 <class '__main__.Y'>\n"
     ]
    }
   ],
   "source": [
    "class X:\n",
    "    pass\n",
    "class Y:\n",
    "    def __init__(self):\n",
    "        pass\n",
    "who(X)\n",
    "who(Y)\n",
    "who(Y())"
   ]
  },
  {
   "cell_type": "code",
   "execution_count": 372,
   "metadata": {
    "collapsed": true
   },
   "outputs": [],
   "source": [
    "class M(type):\n",
    "    def __new__(metacls, cls, bases, classdict):\n",
    "        return super().__new__(metacls, cls, bases, classdict)\n",
    "    def mro(cls):\n",
    "        return [object]"
   ]
  },
  {
   "cell_type": "code",
   "execution_count": 373,
   "metadata": {
    "collapsed": false
   },
   "outputs": [],
   "source": [
    "class N(metaclass=M):\n",
    "    def method(self):\n",
    "        print(\"N's method\")\n",
    "class O(N):\n",
    "    def method(self):\n",
    "        print(\"O's method\")"
   ]
  },
  {
   "cell_type": "code",
   "execution_count": 374,
   "metadata": {
    "collapsed": false
   },
   "outputs": [
    {
     "data": {
      "text/plain": [
       "[object]"
      ]
     },
     "execution_count": 374,
     "metadata": {},
     "output_type": "execute_result"
    }
   ],
   "source": [
    "O.mro()"
   ]
  },
  {
   "cell_type": "code",
   "execution_count": 377,
   "metadata": {
    "collapsed": false
   },
   "outputs": [
    {
     "data": {
      "text/plain": [
       "'O'"
      ]
     },
     "execution_count": 377,
     "metadata": {},
     "output_type": "execute_result"
    }
   ],
   "source": [
    "o = O()\n",
    "O.__name__"
   ]
  },
  {
   "cell_type": "code",
   "execution_count": null,
   "metadata": {
    "collapsed": true
   },
   "outputs": [],
   "source": []
  }
 ],
 "metadata": {
  "kernelspec": {
   "display_name": "Python 3",
   "language": "python",
   "name": "python3"
  },
  "language_info": {
   "codemirror_mode": {
    "name": "ipython",
    "version": 3
   },
   "file_extension": ".py",
   "mimetype": "text/x-python",
   "name": "python",
   "nbconvert_exporter": "python",
   "pygments_lexer": "ipython3",
   "version": "3.5.0"
  }
 },
 "nbformat": 4,
 "nbformat_minor": 0
}
