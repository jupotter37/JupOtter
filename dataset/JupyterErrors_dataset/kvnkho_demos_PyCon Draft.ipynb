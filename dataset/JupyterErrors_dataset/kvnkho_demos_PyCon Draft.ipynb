{
 "cells": [
  {
   "cell_type": "code",
   "execution_count": 1,
   "id": "9d79999c",
   "metadata": {},
   "outputs": [
    {
     "name": "stderr",
     "output_type": "stream",
     "text": [
      "WARNING:root:'PYARROW_IGNORE_TIMEZONE' environment variable was not set. It is required to set this environment variable to '1' in both driver and executor sides if you use pyarrow>=2.0.0. pandas-on-Spark will set it for you but it does not work if there is a Spark context already launched.\n"
     ]
    }
   ],
   "source": [
    "import pandas as pd\n",
    "import numpy as np\n",
    "\n",
    "import os\n",
    "os.environ[\"MODIN_ENGINE\"] = \"ray\"\n",
    "\n",
    "import pyspark.pandas as spd\n",
    "import dask.dataframe as dd\n",
    "import modin.pandas as mpd\n",
    "\n",
    "from time import sleep"
   ]
  },
  {
   "cell_type": "code",
   "execution_count": 2,
   "id": "0f25cf81",
   "metadata": {},
   "outputs": [
    {
     "data": {
      "text/plain": [
       "RayContext(dashboard_url='', python_version='3.8.13', ray_version='1.12.0', ray_commit='f18fc31c7562990955556899090f8e8656b48d2d', address_info={'node_ip_address': '127.0.0.1', 'raylet_ip_address': '127.0.0.1', 'redis_address': None, 'object_store_address': '/tmp/ray/session_2022-04-20_11-13-03_883263_3365/sockets/plasma_store', 'raylet_socket_name': '/tmp/ray/session_2022-04-20_11-13-03_883263_3365/sockets/raylet', 'webui_url': '', 'session_dir': '/tmp/ray/session_2022-04-20_11-13-03_883263_3365', 'metrics_export_port': 62342, 'gcs_address': '127.0.0.1:63194', 'address': '127.0.0.1:63194', 'node_id': '4ecf78ca128dd49611ddaaa893699e7ad6b52dfa16939bc2ddef8e59'})"
      ]
     },
     "execution_count": 2,
     "metadata": {},
     "output_type": "execute_result"
    }
   ],
   "source": [
    "import ray\n",
    "ray.init()"
   ]
  },
  {
   "cell_type": "markdown",
   "id": "3297437c",
   "metadata": {},
   "source": [
    "## Partitions\n",
    "\n",
    "### Ideal Partitioning Strategy\n",
    "![Partitioning](https://blog.scottlogic.com/mdebeneducci/assets/Ideal-Partitioning.png)\n",
    "### Skewed Partitions\n",
    "![Skewed Partitions](https://blog.scottlogic.com/mdebeneducci/assets/Skewed-Partitions.png)\n",
    "### Inefficient Scheduling\n",
    "![Inefficient Scheduling](https://blog.scottlogic.com/mdebeneducci/assets/Inefficient-Scheduling.png)\n",
    "### Data Shuffling\n",
    "![Shuffle](https://blog.scottlogic.com/mdebeneducci/assets/Shuffle-Diagram.png)"
   ]
  },
  {
   "cell_type": "markdown",
   "id": "097855fe",
   "metadata": {},
   "source": [
    "## Creation"
   ]
  },
  {
   "cell_type": "code",
   "execution_count": 169,
   "id": "3858b2e4",
   "metadata": {},
   "outputs": [],
   "source": [
    "n = 100000"
   ]
  },
  {
   "cell_type": "code",
   "execution_count": 170,
   "id": "bc4ba728",
   "metadata": {},
   "outputs": [],
   "source": [
    "df = pd.DataFrame({\"cat\": np.random.choice([\"a\",\"b\",\"c\",\"d\"], size=n), \n",
    "                   \"cat2\": np.random.choice([\"z\",\"y\",\"x\",\"w\"], size=n), \n",
    "                   \"value1\": np.random.random(n),\n",
    "                   \"value2\": np.random.randint(1,10,n)})"
   ]
  },
  {
   "cell_type": "code",
   "execution_count": 171,
   "id": "1b21ee7f",
   "metadata": {},
   "outputs": [
    {
     "name": "stdout",
     "output_type": "stream",
     "text": [
      "CPU times: user 37.2 ms, sys: 6.62 ms, total: 43.9 ms\n",
      "Wall time: 37.7 ms\n"
     ]
    },
    {
     "name": "stderr",
     "output_type": "stream",
     "text": [
      "UserWarning: Distributing <class 'pandas.core.frame.DataFrame'> object. This may take some time.\n"
     ]
    }
   ],
   "source": [
    "%%time\n",
    "mdf = mpd.DataFrame(df)"
   ]
  },
  {
   "cell_type": "code",
   "execution_count": 6,
   "id": "8a6033aa",
   "metadata": {},
   "outputs": [
    {
     "name": "stderr",
     "output_type": "stream",
     "text": [
      "Using Spark's default log4j profile: org/apache/spark/log4j-defaults.properties\n",
      "Setting default log level to \"WARN\".\n",
      "To adjust logging level use sc.setLogLevel(newLevel). For SparkR, use setLogLevel(newLevel).\n",
      "22/04/20 11:13:22 WARN NativeCodeLoader: Unable to load native-hadoop library for your platform... using builtin-java classes where applicable\n"
     ]
    },
    {
     "name": "stdout",
     "output_type": "stream",
     "text": [
      "CPU times: user 784 ms, sys: 117 ms, total: 901 ms\n",
      "Wall time: 24.7 s\n"
     ]
    }
   ],
   "source": [
    "%%time\n",
    "kdf = spd.from_pandas(df)"
   ]
  },
  {
   "cell_type": "code",
   "execution_count": 31,
   "id": "8417e024",
   "metadata": {},
   "outputs": [
    {
     "name": "stdout",
     "output_type": "stream",
     "text": [
      "CPU times: user 23.3 ms, sys: 1.85 ms, total: 25.2 ms\n",
      "Wall time: 23 ms\n"
     ]
    }
   ],
   "source": [
    "%%time\n",
    "ddf = dd.from_pandas(df, npartitions=4)"
   ]
  },
  {
   "cell_type": "markdown",
   "id": "48303bee",
   "metadata": {},
   "source": [
    "## Simple Groupby"
   ]
  },
  {
   "cell_type": "code",
   "execution_count": 8,
   "id": "8e10f2c7",
   "metadata": {},
   "outputs": [
    {
     "name": "stdout",
     "output_type": "stream",
     "text": [
      "CPU times: user 6.88 ms, sys: 2.72 ms, total: 9.6 ms\n",
      "Wall time: 17.9 ms\n"
     ]
    },
    {
     "data": {
      "text/html": [
       "<div>\n",
       "<style scoped>\n",
       "    .dataframe tbody tr th:only-of-type {\n",
       "        vertical-align: middle;\n",
       "    }\n",
       "\n",
       "    .dataframe tbody tr th {\n",
       "        vertical-align: top;\n",
       "    }\n",
       "\n",
       "    .dataframe thead th {\n",
       "        text-align: right;\n",
       "    }\n",
       "</style>\n",
       "<table border=\"1\" class=\"dataframe\">\n",
       "  <thead>\n",
       "    <tr style=\"text-align: right;\">\n",
       "      <th></th>\n",
       "      <th>cat</th>\n",
       "      <th>value1</th>\n",
       "    </tr>\n",
       "  </thead>\n",
       "  <tbody>\n",
       "    <tr>\n",
       "      <th>0</th>\n",
       "      <td>a</td>\n",
       "      <td>0.999986</td>\n",
       "    </tr>\n",
       "    <tr>\n",
       "      <th>1</th>\n",
       "      <td>b</td>\n",
       "      <td>0.999762</td>\n",
       "    </tr>\n",
       "    <tr>\n",
       "      <th>2</th>\n",
       "      <td>c</td>\n",
       "      <td>0.999943</td>\n",
       "    </tr>\n",
       "    <tr>\n",
       "      <th>3</th>\n",
       "      <td>d</td>\n",
       "      <td>0.999972</td>\n",
       "    </tr>\n",
       "  </tbody>\n",
       "</table>\n",
       "</div>"
      ],
      "text/plain": [
       "  cat    value1\n",
       "0   a  0.999986\n",
       "1   b  0.999762\n",
       "2   c  0.999943\n",
       "3   d  0.999972"
      ]
     },
     "execution_count": 8,
     "metadata": {},
     "output_type": "execute_result"
    }
   ],
   "source": [
    "%%time\n",
    "df.groupby(\"cat\")[\"value1\"].max().reset_index()"
   ]
  },
  {
   "cell_type": "code",
   "execution_count": 9,
   "id": "6d7274c2",
   "metadata": {},
   "outputs": [
    {
     "name": "stdout",
     "output_type": "stream",
     "text": [
      "CPU times: user 62.8 ms, sys: 18.6 ms, total: 81.4 ms\n",
      "Wall time: 214 ms\n"
     ]
    },
    {
     "data": {
      "text/html": [
       "<div>\n",
       "<style scoped>\n",
       "    .dataframe tbody tr th:only-of-type {\n",
       "        vertical-align: middle;\n",
       "    }\n",
       "\n",
       "    .dataframe tbody tr th {\n",
       "        vertical-align: top;\n",
       "    }\n",
       "\n",
       "    .dataframe thead th {\n",
       "        text-align: right;\n",
       "    }\n",
       "</style>\n",
       "<table border=\"1\" class=\"dataframe\">\n",
       "  <thead>\n",
       "    <tr style=\"text-align: right;\">\n",
       "      <th></th>\n",
       "      <th>cat</th>\n",
       "      <th>value1</th>\n",
       "    </tr>\n",
       "  </thead>\n",
       "  <tbody>\n",
       "    <tr>\n",
       "      <th>0</th>\n",
       "      <td>a</td>\n",
       "      <td>0.999986</td>\n",
       "    </tr>\n",
       "    <tr>\n",
       "      <th>1</th>\n",
       "      <td>b</td>\n",
       "      <td>0.999762</td>\n",
       "    </tr>\n",
       "    <tr>\n",
       "      <th>2</th>\n",
       "      <td>c</td>\n",
       "      <td>0.999943</td>\n",
       "    </tr>\n",
       "    <tr>\n",
       "      <th>3</th>\n",
       "      <td>d</td>\n",
       "      <td>0.999972</td>\n",
       "    </tr>\n",
       "  </tbody>\n",
       "</table>\n",
       "</div>"
      ],
      "text/plain": [
       "  cat    value1\n",
       "0   a  0.999986\n",
       "1   b  0.999762\n",
       "2   c  0.999943\n",
       "3   d  0.999972"
      ]
     },
     "execution_count": 9,
     "metadata": {},
     "output_type": "execute_result"
    }
   ],
   "source": [
    "%%time\n",
    "mdf.groupby(\"cat\")[\"value1\"].max().reset_index()"
   ]
  },
  {
   "cell_type": "code",
   "execution_count": 10,
   "id": "5e55f56b",
   "metadata": {},
   "outputs": [
    {
     "name": "stdout",
     "output_type": "stream",
     "text": [
      "CPU times: user 21.2 ms, sys: 6.51 ms, total: 27.8 ms\n",
      "Wall time: 833 ms\n"
     ]
    },
    {
     "name": "stderr",
     "output_type": "stream",
     "text": [
      "22/04/20 11:13:35 WARN WindowExec: No Partition Defined for Window operation! Moving all data to a single partition, this can cause serious performance degradation.\n",
      "22/04/20 11:13:35 WARN WindowExec: No Partition Defined for Window operation! Moving all data to a single partition, this can cause serious performance degradation.\n",
      "22/04/20 11:13:40 WARN WindowExec: No Partition Defined for Window operation! Moving all data to a single partition, this can cause serious performance degradation.\n",
      "22/04/20 11:13:40 WARN WindowExec: No Partition Defined for Window operation! Moving all data to a single partition, this can cause serious performance degradation.\n",
      "                                                                                \r"
     ]
    },
    {
     "data": {
      "text/html": [
       "<div>\n",
       "<style scoped>\n",
       "    .dataframe tbody tr th:only-of-type {\n",
       "        vertical-align: middle;\n",
       "    }\n",
       "\n",
       "    .dataframe tbody tr th {\n",
       "        vertical-align: top;\n",
       "    }\n",
       "\n",
       "    .dataframe thead th {\n",
       "        text-align: right;\n",
       "    }\n",
       "</style>\n",
       "<table border=\"1\" class=\"dataframe\">\n",
       "  <thead>\n",
       "    <tr style=\"text-align: right;\">\n",
       "      <th></th>\n",
       "      <th>cat</th>\n",
       "      <th>value1</th>\n",
       "    </tr>\n",
       "  </thead>\n",
       "  <tbody>\n",
       "    <tr>\n",
       "      <th>0</th>\n",
       "      <td>d</td>\n",
       "      <td>0.999972</td>\n",
       "    </tr>\n",
       "    <tr>\n",
       "      <th>1</th>\n",
       "      <td>c</td>\n",
       "      <td>0.999943</td>\n",
       "    </tr>\n",
       "    <tr>\n",
       "      <th>2</th>\n",
       "      <td>b</td>\n",
       "      <td>0.999762</td>\n",
       "    </tr>\n",
       "    <tr>\n",
       "      <th>3</th>\n",
       "      <td>a</td>\n",
       "      <td>0.999986</td>\n",
       "    </tr>\n",
       "  </tbody>\n",
       "</table>\n",
       "</div>"
      ],
      "text/plain": [
       "  cat    value1\n",
       "0   d  0.999972\n",
       "1   c  0.999943\n",
       "2   b  0.999762\n",
       "3   a  0.999986"
      ]
     },
     "execution_count": 10,
     "metadata": {},
     "output_type": "execute_result"
    }
   ],
   "source": [
    "%%time\n",
    "kdf.groupby(\"cat\")[\"value1\"].max().reset_index()"
   ]
  },
  {
   "cell_type": "code",
   "execution_count": 11,
   "id": "e057908b",
   "metadata": {},
   "outputs": [
    {
     "name": "stdout",
     "output_type": "stream",
     "text": [
      "CPU times: user 2 µs, sys: 0 ns, total: 2 µs\n",
      "Wall time: 2.86 µs\n"
     ]
    },
    {
     "data": {
      "text/plain": [
       "cat\n",
       "a    0.999986\n",
       "b    0.999762\n",
       "c    0.999943\n",
       "d    0.999972\n",
       "Name: value1, dtype: float64"
      ]
     },
     "execution_count": 11,
     "metadata": {},
     "output_type": "execute_result"
    }
   ],
   "source": [
    "%time\n",
    "ddf.groupby(\"cat\")[\"value1\"].max().compute()"
   ]
  },
  {
   "cell_type": "markdown",
   "id": "fa050348",
   "metadata": {},
   "source": [
    "## Complicated Groupby"
   ]
  },
  {
   "cell_type": "code",
   "execution_count": null,
   "id": "6e5ccf30",
   "metadata": {},
   "outputs": [],
   "source": [
    "def _test1():\n",
    "    gp = df.groupby([\"a\",\"b\",\"d\"])[\"c\"]\n",
    "    print(self.to_local((gp.max()-gp.min()).mean()))\n",
    "\n",
    "def _test2():\n",
    "    gp = df.groupby([\"a\",\"b\",\"d\"]).agg({'c':[\"min\", \"max\"]})\n",
    "    print(self.to_local((gp[(\"c\",\"max\")]-gp[(\"c\",\"min\")]).mean()))"
   ]
  },
  {
   "cell_type": "markdown",
   "id": "a9633c3d",
   "metadata": {},
   "source": [
    "## Accessing Records"
   ]
  },
  {
   "cell_type": "markdown",
   "id": "c41a530f",
   "metadata": {},
   "source": [
    "## Schema"
   ]
  },
  {
   "cell_type": "code",
   "execution_count": 133,
   "id": "96eb48da",
   "metadata": {},
   "outputs": [
    {
     "name": "stdout",
     "output_type": "stream",
     "text": [
      "<class 'pandas.core.frame.DataFrame'>\n",
      "RangeIndex: 100000 entries, 0 to 99999\n",
      "Data columns (total 4 columns):\n",
      " #   Column  Non-Null Count   Dtype  \n",
      "---  ------  --------------   -----  \n",
      " 0   cat     100000 non-null  object \n",
      " 1   cat2    100000 non-null  object \n",
      " 2   value1  100000 non-null  float64\n",
      " 3   value2  100000 non-null  int64  \n",
      "dtypes: float64(1), int64(1), object(2)\n",
      "memory usage: 3.1+ MB\n"
     ]
    }
   ],
   "source": [
    "df.info()"
   ]
  },
  {
   "cell_type": "code",
   "execution_count": 134,
   "id": "0f779075",
   "metadata": {},
   "outputs": [],
   "source": [
    "def add_col(df):\n",
    "    if df[\"cat\"].iloc[0] == \"c\":\n",
    "        return df.assign(value2=None)\n",
    "    else:\n",
    "        return df"
   ]
  },
  {
   "cell_type": "code",
   "execution_count": 135,
   "id": "5537d811",
   "metadata": {},
   "outputs": [
    {
     "data": {
      "text/html": [
       "<div>\n",
       "<style scoped>\n",
       "    .dataframe tbody tr th:only-of-type {\n",
       "        vertical-align: middle;\n",
       "    }\n",
       "\n",
       "    .dataframe tbody tr th {\n",
       "        vertical-align: top;\n",
       "    }\n",
       "\n",
       "    .dataframe thead th {\n",
       "        text-align: right;\n",
       "    }\n",
       "</style>\n",
       "<table border=\"1\" class=\"dataframe\">\n",
       "  <thead>\n",
       "    <tr style=\"text-align: right;\">\n",
       "      <th></th>\n",
       "      <th>cat</th>\n",
       "      <th>cat2</th>\n",
       "      <th>value1</th>\n",
       "      <th>value2</th>\n",
       "    </tr>\n",
       "  </thead>\n",
       "  <tbody>\n",
       "    <tr>\n",
       "      <th>0</th>\n",
       "      <td>c</td>\n",
       "      <td>y</td>\n",
       "      <td>0.938560</td>\n",
       "      <td>None</td>\n",
       "    </tr>\n",
       "    <tr>\n",
       "      <th>1</th>\n",
       "      <td>d</td>\n",
       "      <td>w</td>\n",
       "      <td>0.137667</td>\n",
       "      <td>8</td>\n",
       "    </tr>\n",
       "    <tr>\n",
       "      <th>2</th>\n",
       "      <td>d</td>\n",
       "      <td>y</td>\n",
       "      <td>0.146884</td>\n",
       "      <td>8</td>\n",
       "    </tr>\n",
       "    <tr>\n",
       "      <th>3</th>\n",
       "      <td>a</td>\n",
       "      <td>w</td>\n",
       "      <td>0.591771</td>\n",
       "      <td>5</td>\n",
       "    </tr>\n",
       "    <tr>\n",
       "      <th>4</th>\n",
       "      <td>c</td>\n",
       "      <td>w</td>\n",
       "      <td>0.987334</td>\n",
       "      <td>None</td>\n",
       "    </tr>\n",
       "    <tr>\n",
       "      <th>...</th>\n",
       "      <td>...</td>\n",
       "      <td>...</td>\n",
       "      <td>...</td>\n",
       "      <td>...</td>\n",
       "    </tr>\n",
       "    <tr>\n",
       "      <th>99995</th>\n",
       "      <td>a</td>\n",
       "      <td>x</td>\n",
       "      <td>0.696163</td>\n",
       "      <td>9</td>\n",
       "    </tr>\n",
       "    <tr>\n",
       "      <th>99996</th>\n",
       "      <td>d</td>\n",
       "      <td>z</td>\n",
       "      <td>0.008613</td>\n",
       "      <td>8</td>\n",
       "    </tr>\n",
       "    <tr>\n",
       "      <th>99997</th>\n",
       "      <td>c</td>\n",
       "      <td>y</td>\n",
       "      <td>0.161956</td>\n",
       "      <td>None</td>\n",
       "    </tr>\n",
       "    <tr>\n",
       "      <th>99998</th>\n",
       "      <td>c</td>\n",
       "      <td>w</td>\n",
       "      <td>0.906369</td>\n",
       "      <td>None</td>\n",
       "    </tr>\n",
       "    <tr>\n",
       "      <th>99999</th>\n",
       "      <td>d</td>\n",
       "      <td>w</td>\n",
       "      <td>0.940473</td>\n",
       "      <td>9</td>\n",
       "    </tr>\n",
       "  </tbody>\n",
       "</table>\n",
       "<p>100000 rows × 4 columns</p>\n",
       "</div>"
      ],
      "text/plain": [
       "      cat cat2    value1 value2\n",
       "0       c    y  0.938560   None\n",
       "1       d    w  0.137667      8\n",
       "2       d    y  0.146884      8\n",
       "3       a    w  0.591771      5\n",
       "4       c    w  0.987334   None\n",
       "...    ..  ...       ...    ...\n",
       "99995   a    x  0.696163      9\n",
       "99996   d    z  0.008613      8\n",
       "99997   c    y  0.161956   None\n",
       "99998   c    w  0.906369   None\n",
       "99999   d    w  0.940473      9\n",
       "\n",
       "[100000 rows x 4 columns]"
      ]
     },
     "execution_count": 135,
     "metadata": {},
     "output_type": "execute_result"
    }
   ],
   "source": [
    "df.groupby(\"cat\").apply(add_col)"
   ]
  },
  {
   "cell_type": "code",
   "execution_count": 136,
   "id": "0d8a5b7c",
   "metadata": {},
   "outputs": [
    {
     "data": {
      "text/plain": [
       "cat        object\n",
       "cat2       object\n",
       "value1    float64\n",
       "value2     object\n",
       "dtype: object"
      ]
     },
     "execution_count": 136,
     "metadata": {},
     "output_type": "execute_result"
    }
   ],
   "source": [
    "df.groupby(\"cat\").apply(add_col).dtypes"
   ]
  },
  {
   "cell_type": "markdown",
   "id": "548bc31e",
   "metadata": {},
   "source": [
    "**Dask**"
   ]
  },
  {
   "cell_type": "code",
   "execution_count": 137,
   "id": "3e60198b",
   "metadata": {},
   "outputs": [
    {
     "name": "stderr",
     "output_type": "stream",
     "text": [
      "UserWarning: `meta` is not specified, inferred from partial data. Please provide `meta` if the result is unexpected.\n",
      "  Before: .apply(func)\n",
      "  After:  .apply(func, meta={'x': 'f8', 'y': 'f8'}) for dataframe result\n",
      "  or:     .apply(func, meta=('x', 'f8'))            for series result\n"
     ]
    },
    {
     "data": {
      "text/plain": [
       "cat        object\n",
       "cat2       object\n",
       "value1    float64\n",
       "value2      int64\n",
       "dtype: object"
      ]
     },
     "execution_count": 137,
     "metadata": {},
     "output_type": "execute_result"
    }
   ],
   "source": [
    "ddf.groupby(\"cat\").apply(add_col).dtypes"
   ]
  },
  {
   "cell_type": "markdown",
   "id": "c4444eae",
   "metadata": {},
   "source": [
    "https://stackoverflow.com/a/54596197/11163214"
   ]
  },
  {
   "cell_type": "code",
   "execution_count": 138,
   "id": "6711b0cf",
   "metadata": {},
   "outputs": [],
   "source": [
    "ddf = dd.from_pandas(df, npartitions=4)"
   ]
  },
  {
   "cell_type": "code",
   "execution_count": 111,
   "id": "e03c3260",
   "metadata": {},
   "outputs": [],
   "source": [
    "def add_col_2(df):\n",
    "    print(df[\"cat\"])\n",
    "    if df[\"cat\"].iloc[0] == \"c\":\n",
    "        return df.assign(value2=None)\n",
    "    else:\n",
    "        return df"
   ]
  },
  {
   "cell_type": "code",
   "execution_count": 146,
   "id": "6e65b8e3",
   "metadata": {},
   "outputs": [
    {
     "name": "stdout",
     "output_type": "stream",
     "text": [
      "0    foo\n",
      "1    foo\n",
      "Name: cat, dtype: object\n"
     ]
    },
    {
     "name": "stderr",
     "output_type": "stream",
     "text": [
      "UserWarning: `meta` is not specified, inferred from partial data. Please provide `meta` if the result is unexpected.\n",
      "  Before: .apply(func)\n",
      "  After:  .apply(func, meta={'x': 'f8', 'y': 'f8'}) for dataframe result\n",
      "  or:     .apply(func, meta=('x', 'f8'))            for series result\n"
     ]
    },
    {
     "data": {
      "text/plain": [
       "cat        object\n",
       "cat2       object\n",
       "value1    float64\n",
       "value2      int64\n",
       "dtype: object"
      ]
     },
     "execution_count": 146,
     "metadata": {},
     "output_type": "execute_result"
    }
   ],
   "source": [
    "ddf.groupby(\"cat\").apply(add_col_2).dtypes"
   ]
  },
  {
   "cell_type": "code",
   "execution_count": 142,
   "id": "1a9a690d",
   "metadata": {},
   "outputs": [],
   "source": [
    "ddf = dd.from_pandas(df, npartitions=2)"
   ]
  },
  {
   "cell_type": "code",
   "execution_count": 156,
   "id": "37bdc8b4",
   "metadata": {},
   "outputs": [],
   "source": [
    "def add_col_3(df):\n",
    "    if df[\"cat\"].iloc[0] == \"c\":\n",
    "        sleep(5)\n",
    "        return df.assign(value3=\"a\")\n",
    "    return df.assign(value3=2)"
   ]
  },
  {
   "cell_type": "code",
   "execution_count": 157,
   "id": "db9e3a64",
   "metadata": {
    "scrolled": true
   },
   "outputs": [
    {
     "name": "stdout",
     "output_type": "stream",
     "text": [
      "CPU times: user 24.6 ms, sys: 1.96 ms, total: 26.5 ms\n",
      "Wall time: 25.1 ms\n"
     ]
    },
    {
     "name": "stderr",
     "output_type": "stream",
     "text": [
      "UserWarning: `meta` is not specified, inferred from partial data. Please provide `meta` if the result is unexpected.\n",
      "  Before: .apply(func)\n",
      "  After:  .apply(func, meta={'x': 'f8', 'y': 'f8'}) for dataframe result\n",
      "  or:     .apply(func, meta=('x', 'f8'))            for series result\n"
     ]
    },
    {
     "data": {
      "text/plain": [
       "cat        object\n",
       "cat2       object\n",
       "value1    float64\n",
       "value2      int64\n",
       "value3      int64\n",
       "dtype: object"
      ]
     },
     "execution_count": 157,
     "metadata": {},
     "output_type": "execute_result"
    }
   ],
   "source": [
    "%%time\n",
    "ddf.groupby(\"cat\").apply(add_col_3).dtypes"
   ]
  },
  {
   "cell_type": "code",
   "execution_count": 159,
   "id": "ad268d32",
   "metadata": {},
   "outputs": [
    {
     "name": "stderr",
     "output_type": "stream",
     "text": [
      "UserWarning: `meta` is not specified, inferred from partial data. Please provide `meta` if the result is unexpected.\n",
      "  Before: .apply(func)\n",
      "  After:  .apply(func, meta={'x': 'f8', 'y': 'f8'}) for dataframe result\n",
      "  or:     .apply(func, meta=('x', 'f8'))            for series result\n"
     ]
    },
    {
     "name": "stdout",
     "output_type": "stream",
     "text": [
      "CPU times: user 164 ms, sys: 23.6 ms, total: 187 ms\n",
      "Wall time: 5.13 s\n"
     ]
    },
    {
     "data": {
      "text/plain": [
       "cat        object\n",
       "cat2       object\n",
       "value1    float64\n",
       "value2      int64\n",
       "value3     object\n",
       "dtype: object"
      ]
     },
     "execution_count": 159,
     "metadata": {},
     "output_type": "execute_result"
    }
   ],
   "source": [
    "%%time\n",
    "ddf.groupby(\"cat\").apply(add_col_3).compute()"
   ]
  },
  {
   "cell_type": "markdown",
   "id": "fd5190f2",
   "metadata": {},
   "source": [
    "## Sort and Top"
   ]
  },
  {
   "cell_type": "markdown",
   "id": "db27d48b",
   "metadata": {},
   "source": [
    "**Sort values and head**"
   ]
  },
  {
   "cell_type": "code",
   "execution_count": 185,
   "id": "5aa6949d",
   "metadata": {
    "scrolled": true
   },
   "outputs": [
    {
     "name": "stdout",
     "output_type": "stream",
     "text": [
      "CPU times: user 28.6 ms, sys: 3.26 ms, total: 31.8 ms\n",
      "Wall time: 28.6 ms\n"
     ]
    },
    {
     "data": {
      "text/html": [
       "<div>\n",
       "<style scoped>\n",
       "    .dataframe tbody tr th:only-of-type {\n",
       "        vertical-align: middle;\n",
       "    }\n",
       "\n",
       "    .dataframe tbody tr th {\n",
       "        vertical-align: top;\n",
       "    }\n",
       "\n",
       "    .dataframe thead th {\n",
       "        text-align: right;\n",
       "    }\n",
       "</style>\n",
       "<table border=\"1\" class=\"dataframe\">\n",
       "  <thead>\n",
       "    <tr style=\"text-align: right;\">\n",
       "      <th></th>\n",
       "      <th>cat</th>\n",
       "      <th>cat2</th>\n",
       "      <th>value1</th>\n",
       "      <th>value2</th>\n",
       "    </tr>\n",
       "  </thead>\n",
       "  <tbody>\n",
       "    <tr>\n",
       "      <th>5441</th>\n",
       "      <td>d</td>\n",
       "      <td>w</td>\n",
       "      <td>0.999995</td>\n",
       "      <td>8</td>\n",
       "    </tr>\n",
       "    <tr>\n",
       "      <th>37740</th>\n",
       "      <td>c</td>\n",
       "      <td>y</td>\n",
       "      <td>0.999994</td>\n",
       "      <td>2</td>\n",
       "    </tr>\n",
       "    <tr>\n",
       "      <th>24114</th>\n",
       "      <td>c</td>\n",
       "      <td>y</td>\n",
       "      <td>0.999992</td>\n",
       "      <td>2</td>\n",
       "    </tr>\n",
       "    <tr>\n",
       "      <th>50414</th>\n",
       "      <td>c</td>\n",
       "      <td>x</td>\n",
       "      <td>0.999970</td>\n",
       "      <td>7</td>\n",
       "    </tr>\n",
       "    <tr>\n",
       "      <th>65478</th>\n",
       "      <td>c</td>\n",
       "      <td>w</td>\n",
       "      <td>0.999964</td>\n",
       "      <td>3</td>\n",
       "    </tr>\n",
       "  </tbody>\n",
       "</table>\n",
       "</div>"
      ],
      "text/plain": [
       "      cat cat2    value1  value2\n",
       "5441    d    w  0.999995       8\n",
       "37740   c    y  0.999994       2\n",
       "24114   c    y  0.999992       2\n",
       "50414   c    x  0.999970       7\n",
       "65478   c    w  0.999964       3"
      ]
     },
     "execution_count": 185,
     "metadata": {},
     "output_type": "execute_result"
    }
   ],
   "source": [
    "%%time\n",
    "df.sort_values(\"value1\", ascending=False).head(5)"
   ]
  },
  {
   "cell_type": "code",
   "execution_count": 186,
   "id": "a33f5d60",
   "metadata": {},
   "outputs": [
    {
     "name": "stdout",
     "output_type": "stream",
     "text": [
      "CPU times: user 69.3 ms, sys: 11.1 ms, total: 80.3 ms\n",
      "Wall time: 121 ms\n"
     ]
    },
    {
     "name": "stderr",
     "output_type": "stream",
     "text": [
      "UserWarning: sort_values defaulting to pandas implementation.\n"
     ]
    },
    {
     "data": {
      "text/html": [
       "<div>\n",
       "<style scoped>\n",
       "    .dataframe tbody tr th:only-of-type {\n",
       "        vertical-align: middle;\n",
       "    }\n",
       "\n",
       "    .dataframe tbody tr th {\n",
       "        vertical-align: top;\n",
       "    }\n",
       "\n",
       "    .dataframe thead th {\n",
       "        text-align: right;\n",
       "    }\n",
       "</style>\n",
       "<table border=\"1\" class=\"dataframe\">\n",
       "  <thead>\n",
       "    <tr style=\"text-align: right;\">\n",
       "      <th></th>\n",
       "      <th>cat</th>\n",
       "      <th>cat2</th>\n",
       "      <th>value1</th>\n",
       "      <th>value2</th>\n",
       "    </tr>\n",
       "  </thead>\n",
       "  <tbody>\n",
       "    <tr>\n",
       "      <th>5441</th>\n",
       "      <td>d</td>\n",
       "      <td>w</td>\n",
       "      <td>0.999995</td>\n",
       "      <td>8</td>\n",
       "    </tr>\n",
       "    <tr>\n",
       "      <th>37740</th>\n",
       "      <td>c</td>\n",
       "      <td>y</td>\n",
       "      <td>0.999994</td>\n",
       "      <td>2</td>\n",
       "    </tr>\n",
       "    <tr>\n",
       "      <th>24114</th>\n",
       "      <td>c</td>\n",
       "      <td>y</td>\n",
       "      <td>0.999992</td>\n",
       "      <td>2</td>\n",
       "    </tr>\n",
       "    <tr>\n",
       "      <th>50414</th>\n",
       "      <td>c</td>\n",
       "      <td>x</td>\n",
       "      <td>0.999970</td>\n",
       "      <td>7</td>\n",
       "    </tr>\n",
       "    <tr>\n",
       "      <th>65478</th>\n",
       "      <td>c</td>\n",
       "      <td>w</td>\n",
       "      <td>0.999964</td>\n",
       "      <td>3</td>\n",
       "    </tr>\n",
       "  </tbody>\n",
       "</table>\n",
       "</div>"
      ],
      "text/plain": [
       "      cat cat2    value1  value2\n",
       "5441    d    w  0.999995       8\n",
       "37740   c    y  0.999994       2\n",
       "24114   c    y  0.999992       2\n",
       "50414   c    x  0.999970       7\n",
       "65478   c    w  0.999964       3"
      ]
     },
     "execution_count": 186,
     "metadata": {},
     "output_type": "execute_result"
    }
   ],
   "source": [
    "%%time\n",
    "mdf.sort_values(\"value1\", ascending=False).head(5)"
   ]
  },
  {
   "cell_type": "code",
   "execution_count": 187,
   "id": "9b2f175a",
   "metadata": {},
   "outputs": [
    {
     "name": "stdout",
     "output_type": "stream",
     "text": [
      "CPU times: user 10.3 ms, sys: 3.79 ms, total: 14.1 ms\n",
      "Wall time: 381 ms\n"
     ]
    },
    {
     "name": "stderr",
     "output_type": "stream",
     "text": [
      "\r",
      "[Stage 3:>                                                          (0 + 8) / 8]\r",
      "\r",
      "                                                                                \r"
     ]
    },
    {
     "data": {
      "text/html": [
       "<div>\n",
       "<style scoped>\n",
       "    .dataframe tbody tr th:only-of-type {\n",
       "        vertical-align: middle;\n",
       "    }\n",
       "\n",
       "    .dataframe tbody tr th {\n",
       "        vertical-align: top;\n",
       "    }\n",
       "\n",
       "    .dataframe thead th {\n",
       "        text-align: right;\n",
       "    }\n",
       "</style>\n",
       "<table border=\"1\" class=\"dataframe\">\n",
       "  <thead>\n",
       "    <tr style=\"text-align: right;\">\n",
       "      <th></th>\n",
       "      <th>cat</th>\n",
       "      <th>cat2</th>\n",
       "      <th>value1</th>\n",
       "      <th>value2</th>\n",
       "    </tr>\n",
       "  </thead>\n",
       "  <tbody>\n",
       "    <tr>\n",
       "      <th>81855</th>\n",
       "      <td>a</td>\n",
       "      <td>y</td>\n",
       "      <td>0.999986</td>\n",
       "      <td>3</td>\n",
       "    </tr>\n",
       "    <tr>\n",
       "      <th>17215</th>\n",
       "      <td>a</td>\n",
       "      <td>z</td>\n",
       "      <td>0.999985</td>\n",
       "      <td>9</td>\n",
       "    </tr>\n",
       "    <tr>\n",
       "      <th>98971</th>\n",
       "      <td>d</td>\n",
       "      <td>x</td>\n",
       "      <td>0.999972</td>\n",
       "      <td>6</td>\n",
       "    </tr>\n",
       "    <tr>\n",
       "      <th>11381</th>\n",
       "      <td>a</td>\n",
       "      <td>w</td>\n",
       "      <td>0.999967</td>\n",
       "      <td>1</td>\n",
       "    </tr>\n",
       "    <tr>\n",
       "      <th>25879</th>\n",
       "      <td>d</td>\n",
       "      <td>w</td>\n",
       "      <td>0.999945</td>\n",
       "      <td>5</td>\n",
       "    </tr>\n",
       "  </tbody>\n",
       "</table>\n",
       "</div>"
      ],
      "text/plain": [
       "      cat cat2    value1  value2\n",
       "81855   a    y  0.999986       3\n",
       "17215   a    z  0.999985       9\n",
       "98971   d    x  0.999972       6\n",
       "11381   a    w  0.999967       1\n",
       "25879   d    w  0.999945       5"
      ]
     },
     "execution_count": 187,
     "metadata": {},
     "output_type": "execute_result"
    }
   ],
   "source": [
    "%%time\n",
    "kdf.sort_values(\"value1\", ascending=False).head(5)"
   ]
  },
  {
   "cell_type": "code",
   "execution_count": 188,
   "id": "06e14e95",
   "metadata": {},
   "outputs": [
    {
     "name": "stdout",
     "output_type": "stream",
     "text": [
      "CPU times: user 87.8 ms, sys: 17.8 ms, total: 106 ms\n",
      "Wall time: 96.3 ms\n"
     ]
    },
    {
     "data": {
      "text/html": [
       "<div>\n",
       "<style scoped>\n",
       "    .dataframe tbody tr th:only-of-type {\n",
       "        vertical-align: middle;\n",
       "    }\n",
       "\n",
       "    .dataframe tbody tr th {\n",
       "        vertical-align: top;\n",
       "    }\n",
       "\n",
       "    .dataframe thead th {\n",
       "        text-align: right;\n",
       "    }\n",
       "</style>\n",
       "<table border=\"1\" class=\"dataframe\">\n",
       "  <thead>\n",
       "    <tr style=\"text-align: right;\">\n",
       "      <th></th>\n",
       "      <th>cat</th>\n",
       "      <th>cat2</th>\n",
       "      <th>value1</th>\n",
       "      <th>value2</th>\n",
       "    </tr>\n",
       "  </thead>\n",
       "  <tbody>\n",
       "    <tr>\n",
       "      <th>9135</th>\n",
       "      <td>b</td>\n",
       "      <td>w</td>\n",
       "      <td>0.999996</td>\n",
       "      <td>7</td>\n",
       "    </tr>\n",
       "    <tr>\n",
       "      <th>73093</th>\n",
       "      <td>d</td>\n",
       "      <td>x</td>\n",
       "      <td>0.999992</td>\n",
       "      <td>2</td>\n",
       "    </tr>\n",
       "    <tr>\n",
       "      <th>86690</th>\n",
       "      <td>c</td>\n",
       "      <td>x</td>\n",
       "      <td>0.999951</td>\n",
       "      <td>2</td>\n",
       "    </tr>\n",
       "    <tr>\n",
       "      <th>3629</th>\n",
       "      <td>d</td>\n",
       "      <td>x</td>\n",
       "      <td>0.999941</td>\n",
       "      <td>7</td>\n",
       "    </tr>\n",
       "    <tr>\n",
       "      <th>46830</th>\n",
       "      <td>b</td>\n",
       "      <td>y</td>\n",
       "      <td>0.999920</td>\n",
       "      <td>9</td>\n",
       "    </tr>\n",
       "  </tbody>\n",
       "</table>\n",
       "</div>"
      ],
      "text/plain": [
       "      cat cat2    value1  value2\n",
       "9135    b    w  0.999996       7\n",
       "73093   d    x  0.999992       2\n",
       "86690   c    x  0.999951       2\n",
       "3629    d    x  0.999941       7\n",
       "46830   b    y  0.999920       9"
      ]
     },
     "execution_count": 188,
     "metadata": {},
     "output_type": "execute_result"
    }
   ],
   "source": [
    "%%time\n",
    "ddf.sort_values(\"value1\", ascending=False).head(5)"
   ]
  },
  {
   "cell_type": "markdown",
   "id": "5fddb946",
   "metadata": {},
   "source": [
    "**nlargest**"
   ]
  },
  {
   "cell_type": "code",
   "execution_count": 194,
   "id": "d9dda0d8",
   "metadata": {},
   "outputs": [
    {
     "name": "stdout",
     "output_type": "stream",
     "text": [
      "CPU times: user 9.17 ms, sys: 2.69 ms, total: 11.9 ms\n",
      "Wall time: 10.6 ms\n"
     ]
    },
    {
     "data": {
      "text/html": [
       "<div>\n",
       "<style scoped>\n",
       "    .dataframe tbody tr th:only-of-type {\n",
       "        vertical-align: middle;\n",
       "    }\n",
       "\n",
       "    .dataframe tbody tr th {\n",
       "        vertical-align: top;\n",
       "    }\n",
       "\n",
       "    .dataframe thead th {\n",
       "        text-align: right;\n",
       "    }\n",
       "</style>\n",
       "<table border=\"1\" class=\"dataframe\">\n",
       "  <thead>\n",
       "    <tr style=\"text-align: right;\">\n",
       "      <th></th>\n",
       "      <th>cat</th>\n",
       "      <th>cat2</th>\n",
       "      <th>value1</th>\n",
       "      <th>value2</th>\n",
       "    </tr>\n",
       "  </thead>\n",
       "  <tbody>\n",
       "    <tr>\n",
       "      <th>5441</th>\n",
       "      <td>d</td>\n",
       "      <td>w</td>\n",
       "      <td>0.999995</td>\n",
       "      <td>8</td>\n",
       "    </tr>\n",
       "    <tr>\n",
       "      <th>37740</th>\n",
       "      <td>c</td>\n",
       "      <td>y</td>\n",
       "      <td>0.999994</td>\n",
       "      <td>2</td>\n",
       "    </tr>\n",
       "    <tr>\n",
       "      <th>24114</th>\n",
       "      <td>c</td>\n",
       "      <td>y</td>\n",
       "      <td>0.999992</td>\n",
       "      <td>2</td>\n",
       "    </tr>\n",
       "    <tr>\n",
       "      <th>50414</th>\n",
       "      <td>c</td>\n",
       "      <td>x</td>\n",
       "      <td>0.999970</td>\n",
       "      <td>7</td>\n",
       "    </tr>\n",
       "    <tr>\n",
       "      <th>65478</th>\n",
       "      <td>c</td>\n",
       "      <td>w</td>\n",
       "      <td>0.999964</td>\n",
       "      <td>3</td>\n",
       "    </tr>\n",
       "  </tbody>\n",
       "</table>\n",
       "</div>"
      ],
      "text/plain": [
       "      cat cat2    value1  value2\n",
       "5441    d    w  0.999995       8\n",
       "37740   c    y  0.999994       2\n",
       "24114   c    y  0.999992       2\n",
       "50414   c    x  0.999970       7\n",
       "65478   c    w  0.999964       3"
      ]
     },
     "execution_count": 194,
     "metadata": {},
     "output_type": "execute_result"
    }
   ],
   "source": [
    "%%time\n",
    "df.nlargest(5,columns=[\"value1\"])"
   ]
  },
  {
   "cell_type": "code",
   "execution_count": 195,
   "id": "d55096a5",
   "metadata": {},
   "outputs": [
    {
     "name": "stdout",
     "output_type": "stream",
     "text": [
      "CPU times: user 26.7 ms, sys: 6.48 ms, total: 33.2 ms\n",
      "Wall time: 52 ms\n"
     ]
    },
    {
     "data": {
      "text/html": [
       "<div>\n",
       "<style scoped>\n",
       "    .dataframe tbody tr th:only-of-type {\n",
       "        vertical-align: middle;\n",
       "    }\n",
       "\n",
       "    .dataframe tbody tr th {\n",
       "        vertical-align: top;\n",
       "    }\n",
       "\n",
       "    .dataframe thead th {\n",
       "        text-align: right;\n",
       "    }\n",
       "</style>\n",
       "<table border=\"1\" class=\"dataframe\">\n",
       "  <thead>\n",
       "    <tr style=\"text-align: right;\">\n",
       "      <th></th>\n",
       "      <th>cat</th>\n",
       "      <th>cat2</th>\n",
       "      <th>value1</th>\n",
       "      <th>value2</th>\n",
       "    </tr>\n",
       "  </thead>\n",
       "  <tbody>\n",
       "    <tr>\n",
       "      <th>5441</th>\n",
       "      <td>d</td>\n",
       "      <td>w</td>\n",
       "      <td>0.999995</td>\n",
       "      <td>8</td>\n",
       "    </tr>\n",
       "    <tr>\n",
       "      <th>37740</th>\n",
       "      <td>c</td>\n",
       "      <td>y</td>\n",
       "      <td>0.999994</td>\n",
       "      <td>2</td>\n",
       "    </tr>\n",
       "    <tr>\n",
       "      <th>24114</th>\n",
       "      <td>c</td>\n",
       "      <td>y</td>\n",
       "      <td>0.999992</td>\n",
       "      <td>2</td>\n",
       "    </tr>\n",
       "    <tr>\n",
       "      <th>50414</th>\n",
       "      <td>c</td>\n",
       "      <td>x</td>\n",
       "      <td>0.999970</td>\n",
       "      <td>7</td>\n",
       "    </tr>\n",
       "    <tr>\n",
       "      <th>65478</th>\n",
       "      <td>c</td>\n",
       "      <td>w</td>\n",
       "      <td>0.999964</td>\n",
       "      <td>3</td>\n",
       "    </tr>\n",
       "  </tbody>\n",
       "</table>\n",
       "</div>"
      ],
      "text/plain": [
       "      cat cat2    value1  value2\n",
       "5441    d    w  0.999995       8\n",
       "37740   c    y  0.999994       2\n",
       "24114   c    y  0.999992       2\n",
       "50414   c    x  0.999970       7\n",
       "65478   c    w  0.999964       3"
      ]
     },
     "execution_count": 195,
     "metadata": {},
     "output_type": "execute_result"
    }
   ],
   "source": [
    "%%time\n",
    "mdf.nlargest(5,columns=[\"value1\"])"
   ]
  },
  {
   "cell_type": "code",
   "execution_count": 196,
   "id": "fae168fc",
   "metadata": {},
   "outputs": [
    {
     "name": "stdout",
     "output_type": "stream",
     "text": [
      "CPU times: user 8.84 ms, sys: 2.71 ms, total: 11.5 ms\n",
      "Wall time: 179 ms\n"
     ]
    },
    {
     "data": {
      "text/html": [
       "<div>\n",
       "<style scoped>\n",
       "    .dataframe tbody tr th:only-of-type {\n",
       "        vertical-align: middle;\n",
       "    }\n",
       "\n",
       "    .dataframe tbody tr th {\n",
       "        vertical-align: top;\n",
       "    }\n",
       "\n",
       "    .dataframe thead th {\n",
       "        text-align: right;\n",
       "    }\n",
       "</style>\n",
       "<table border=\"1\" class=\"dataframe\">\n",
       "  <thead>\n",
       "    <tr style=\"text-align: right;\">\n",
       "      <th></th>\n",
       "      <th>cat</th>\n",
       "      <th>cat2</th>\n",
       "      <th>value1</th>\n",
       "      <th>value2</th>\n",
       "    </tr>\n",
       "  </thead>\n",
       "  <tbody>\n",
       "    <tr>\n",
       "      <th>81855</th>\n",
       "      <td>a</td>\n",
       "      <td>y</td>\n",
       "      <td>0.999986</td>\n",
       "      <td>3</td>\n",
       "    </tr>\n",
       "    <tr>\n",
       "      <th>17215</th>\n",
       "      <td>a</td>\n",
       "      <td>z</td>\n",
       "      <td>0.999985</td>\n",
       "      <td>9</td>\n",
       "    </tr>\n",
       "    <tr>\n",
       "      <th>98971</th>\n",
       "      <td>d</td>\n",
       "      <td>x</td>\n",
       "      <td>0.999972</td>\n",
       "      <td>6</td>\n",
       "    </tr>\n",
       "    <tr>\n",
       "      <th>11381</th>\n",
       "      <td>a</td>\n",
       "      <td>w</td>\n",
       "      <td>0.999967</td>\n",
       "      <td>1</td>\n",
       "    </tr>\n",
       "    <tr>\n",
       "      <th>25879</th>\n",
       "      <td>d</td>\n",
       "      <td>w</td>\n",
       "      <td>0.999945</td>\n",
       "      <td>5</td>\n",
       "    </tr>\n",
       "  </tbody>\n",
       "</table>\n",
       "</div>"
      ],
      "text/plain": [
       "      cat cat2    value1  value2\n",
       "81855   a    y  0.999986       3\n",
       "17215   a    z  0.999985       9\n",
       "98971   d    x  0.999972       6\n",
       "11381   a    w  0.999967       1\n",
       "25879   d    w  0.999945       5"
      ]
     },
     "execution_count": 196,
     "metadata": {},
     "output_type": "execute_result"
    }
   ],
   "source": [
    "%%time\n",
    "kdf.nlargest(5,columns=[\"value1\"])"
   ]
  },
  {
   "cell_type": "code",
   "execution_count": 198,
   "id": "be042437",
   "metadata": {},
   "outputs": [
    {
     "name": "stdout",
     "output_type": "stream",
     "text": [
      "CPU times: user 24.3 ms, sys: 3.97 ms, total: 28.2 ms\n",
      "Wall time: 22.6 ms\n"
     ]
    },
    {
     "data": {
      "text/html": [
       "<div>\n",
       "<style scoped>\n",
       "    .dataframe tbody tr th:only-of-type {\n",
       "        vertical-align: middle;\n",
       "    }\n",
       "\n",
       "    .dataframe tbody tr th {\n",
       "        vertical-align: top;\n",
       "    }\n",
       "\n",
       "    .dataframe thead th {\n",
       "        text-align: right;\n",
       "    }\n",
       "</style>\n",
       "<table border=\"1\" class=\"dataframe\">\n",
       "  <thead>\n",
       "    <tr style=\"text-align: right;\">\n",
       "      <th></th>\n",
       "      <th>cat</th>\n",
       "      <th>cat2</th>\n",
       "      <th>value1</th>\n",
       "      <th>value2</th>\n",
       "    </tr>\n",
       "  </thead>\n",
       "  <tbody>\n",
       "    <tr>\n",
       "      <th>9135</th>\n",
       "      <td>b</td>\n",
       "      <td>w</td>\n",
       "      <td>0.999996</td>\n",
       "      <td>7</td>\n",
       "    </tr>\n",
       "    <tr>\n",
       "      <th>73093</th>\n",
       "      <td>d</td>\n",
       "      <td>x</td>\n",
       "      <td>0.999992</td>\n",
       "      <td>2</td>\n",
       "    </tr>\n",
       "    <tr>\n",
       "      <th>86690</th>\n",
       "      <td>c</td>\n",
       "      <td>x</td>\n",
       "      <td>0.999951</td>\n",
       "      <td>2</td>\n",
       "    </tr>\n",
       "    <tr>\n",
       "      <th>3629</th>\n",
       "      <td>d</td>\n",
       "      <td>x</td>\n",
       "      <td>0.999941</td>\n",
       "      <td>7</td>\n",
       "    </tr>\n",
       "    <tr>\n",
       "      <th>46830</th>\n",
       "      <td>b</td>\n",
       "      <td>y</td>\n",
       "      <td>0.999920</td>\n",
       "      <td>9</td>\n",
       "    </tr>\n",
       "  </tbody>\n",
       "</table>\n",
       "</div>"
      ],
      "text/plain": [
       "      cat cat2    value1  value2\n",
       "9135    b    w  0.999996       7\n",
       "73093   d    x  0.999992       2\n",
       "86690   c    x  0.999951       2\n",
       "3629    d    x  0.999941       7\n",
       "46830   b    y  0.999920       9"
      ]
     },
     "execution_count": 198,
     "metadata": {},
     "output_type": "execute_result"
    }
   ],
   "source": [
    "%%time\n",
    "ddf.nlargest(5,columns=[\"value1\"]).compute()"
   ]
  },
  {
   "cell_type": "markdown",
   "id": "859c8edc",
   "metadata": {},
   "source": [
    "**sort_values but drop the top**"
   ]
  },
  {
   "cell_type": "code",
   "execution_count": 200,
   "id": "53e1c439",
   "metadata": {},
   "outputs": [
    {
     "name": "stdout",
     "output_type": "stream",
     "text": [
      "CPU times: user 22.1 ms, sys: 2.2 ms, total: 24.3 ms\n",
      "Wall time: 22.7 ms\n"
     ]
    },
    {
     "data": {
      "text/html": [
       "<div>\n",
       "<style scoped>\n",
       "    .dataframe tbody tr th:only-of-type {\n",
       "        vertical-align: middle;\n",
       "    }\n",
       "\n",
       "    .dataframe tbody tr th {\n",
       "        vertical-align: top;\n",
       "    }\n",
       "\n",
       "    .dataframe thead th {\n",
       "        text-align: right;\n",
       "    }\n",
       "</style>\n",
       "<table border=\"1\" class=\"dataframe\">\n",
       "  <thead>\n",
       "    <tr style=\"text-align: right;\">\n",
       "      <th></th>\n",
       "      <th>cat</th>\n",
       "      <th>cat2</th>\n",
       "      <th>value1</th>\n",
       "      <th>value2</th>\n",
       "    </tr>\n",
       "  </thead>\n",
       "  <tbody>\n",
       "    <tr>\n",
       "      <th>97601</th>\n",
       "      <td>c</td>\n",
       "      <td>x</td>\n",
       "      <td>0.999947</td>\n",
       "      <td>8</td>\n",
       "    </tr>\n",
       "    <tr>\n",
       "      <th>75682</th>\n",
       "      <td>d</td>\n",
       "      <td>w</td>\n",
       "      <td>0.999937</td>\n",
       "      <td>2</td>\n",
       "    </tr>\n",
       "    <tr>\n",
       "      <th>41421</th>\n",
       "      <td>c</td>\n",
       "      <td>x</td>\n",
       "      <td>0.999928</td>\n",
       "      <td>9</td>\n",
       "    </tr>\n",
       "    <tr>\n",
       "      <th>40270</th>\n",
       "      <td>d</td>\n",
       "      <td>z</td>\n",
       "      <td>0.999925</td>\n",
       "      <td>7</td>\n",
       "    </tr>\n",
       "    <tr>\n",
       "      <th>80337</th>\n",
       "      <td>a</td>\n",
       "      <td>x</td>\n",
       "      <td>0.999925</td>\n",
       "      <td>9</td>\n",
       "    </tr>\n",
       "  </tbody>\n",
       "</table>\n",
       "</div>"
      ],
      "text/plain": [
       "      cat cat2    value1  value2\n",
       "97601   c    x  0.999947       8\n",
       "75682   d    w  0.999937       2\n",
       "41421   c    x  0.999928       9\n",
       "40270   d    z  0.999925       7\n",
       "80337   a    x  0.999925       9"
      ]
     },
     "execution_count": 200,
     "metadata": {},
     "output_type": "execute_result"
    }
   ],
   "source": [
    "%%time\n",
    "df.sort_values(\"value1\", ascending=False).iloc[5:10]"
   ]
  },
  {
   "cell_type": "code",
   "execution_count": 201,
   "id": "9477313a",
   "metadata": {},
   "outputs": [
    {
     "name": "stdout",
     "output_type": "stream",
     "text": [
      "CPU times: user 68.1 ms, sys: 11.7 ms, total: 79.8 ms\n",
      "Wall time: 118 ms\n"
     ]
    },
    {
     "name": "stderr",
     "output_type": "stream",
     "text": [
      "UserWarning: sort_values defaulting to pandas implementation.\n"
     ]
    },
    {
     "data": {
      "text/html": [
       "<div>\n",
       "<style scoped>\n",
       "    .dataframe tbody tr th:only-of-type {\n",
       "        vertical-align: middle;\n",
       "    }\n",
       "\n",
       "    .dataframe tbody tr th {\n",
       "        vertical-align: top;\n",
       "    }\n",
       "\n",
       "    .dataframe thead th {\n",
       "        text-align: right;\n",
       "    }\n",
       "</style>\n",
       "<table border=\"1\" class=\"dataframe\">\n",
       "  <thead>\n",
       "    <tr style=\"text-align: right;\">\n",
       "      <th></th>\n",
       "      <th>cat</th>\n",
       "      <th>cat2</th>\n",
       "      <th>value1</th>\n",
       "      <th>value2</th>\n",
       "    </tr>\n",
       "  </thead>\n",
       "  <tbody>\n",
       "    <tr>\n",
       "      <th>97601</th>\n",
       "      <td>c</td>\n",
       "      <td>x</td>\n",
       "      <td>0.999947</td>\n",
       "      <td>8</td>\n",
       "    </tr>\n",
       "    <tr>\n",
       "      <th>75682</th>\n",
       "      <td>d</td>\n",
       "      <td>w</td>\n",
       "      <td>0.999937</td>\n",
       "      <td>2</td>\n",
       "    </tr>\n",
       "    <tr>\n",
       "      <th>41421</th>\n",
       "      <td>c</td>\n",
       "      <td>x</td>\n",
       "      <td>0.999928</td>\n",
       "      <td>9</td>\n",
       "    </tr>\n",
       "    <tr>\n",
       "      <th>40270</th>\n",
       "      <td>d</td>\n",
       "      <td>z</td>\n",
       "      <td>0.999925</td>\n",
       "      <td>7</td>\n",
       "    </tr>\n",
       "    <tr>\n",
       "      <th>80337</th>\n",
       "      <td>a</td>\n",
       "      <td>x</td>\n",
       "      <td>0.999925</td>\n",
       "      <td>9</td>\n",
       "    </tr>\n",
       "  </tbody>\n",
       "</table>\n",
       "</div>"
      ],
      "text/plain": [
       "      cat cat2    value1  value2\n",
       "97601   c    x  0.999947       8\n",
       "75682   d    w  0.999937       2\n",
       "41421   c    x  0.999928       9\n",
       "40270   d    z  0.999925       7\n",
       "80337   a    x  0.999925       9"
      ]
     },
     "execution_count": 201,
     "metadata": {},
     "output_type": "execute_result"
    }
   ],
   "source": [
    "%%time\n",
    "mdf.sort_values(\"value1\", ascending=False).iloc[5:10]"
   ]
  },
  {
   "cell_type": "code",
   "execution_count": 202,
   "id": "1c9d3d87",
   "metadata": {},
   "outputs": [
    {
     "name": "stdout",
     "output_type": "stream",
     "text": [
      "CPU times: user 14 ms, sys: 4.31 ms, total: 18.3 ms\n",
      "Wall time: 416 ms\n"
     ]
    },
    {
     "name": "stderr",
     "output_type": "stream",
     "text": [
      "                                                                                \r"
     ]
    },
    {
     "data": {
      "text/html": [
       "<div>\n",
       "<style scoped>\n",
       "    .dataframe tbody tr th:only-of-type {\n",
       "        vertical-align: middle;\n",
       "    }\n",
       "\n",
       "    .dataframe tbody tr th {\n",
       "        vertical-align: top;\n",
       "    }\n",
       "\n",
       "    .dataframe thead th {\n",
       "        text-align: right;\n",
       "    }\n",
       "</style>\n",
       "<table border=\"1\" class=\"dataframe\">\n",
       "  <thead>\n",
       "    <tr style=\"text-align: right;\">\n",
       "      <th></th>\n",
       "      <th>cat</th>\n",
       "      <th>cat2</th>\n",
       "      <th>value1</th>\n",
       "      <th>value2</th>\n",
       "    </tr>\n",
       "  </thead>\n",
       "  <tbody>\n",
       "    <tr>\n",
       "      <th>17264</th>\n",
       "      <td>c</td>\n",
       "      <td>x</td>\n",
       "      <td>0.999943</td>\n",
       "      <td>1</td>\n",
       "    </tr>\n",
       "    <tr>\n",
       "      <th>99276</th>\n",
       "      <td>a</td>\n",
       "      <td>y</td>\n",
       "      <td>0.999929</td>\n",
       "      <td>4</td>\n",
       "    </tr>\n",
       "    <tr>\n",
       "      <th>7234</th>\n",
       "      <td>d</td>\n",
       "      <td>w</td>\n",
       "      <td>0.999928</td>\n",
       "      <td>4</td>\n",
       "    </tr>\n",
       "    <tr>\n",
       "      <th>91397</th>\n",
       "      <td>a</td>\n",
       "      <td>y</td>\n",
       "      <td>0.999926</td>\n",
       "      <td>7</td>\n",
       "    </tr>\n",
       "    <tr>\n",
       "      <th>17364</th>\n",
       "      <td>c</td>\n",
       "      <td>y</td>\n",
       "      <td>0.999922</td>\n",
       "      <td>2</td>\n",
       "    </tr>\n",
       "  </tbody>\n",
       "</table>\n",
       "</div>"
      ],
      "text/plain": [
       "      cat cat2    value1  value2\n",
       "17264   c    x  0.999943       1\n",
       "99276   a    y  0.999929       4\n",
       "7234    d    w  0.999928       4\n",
       "91397   a    y  0.999926       7\n",
       "17364   c    y  0.999922       2"
      ]
     },
     "execution_count": 202,
     "metadata": {},
     "output_type": "execute_result"
    }
   ],
   "source": [
    "%%time\n",
    "kdf.sort_values(\"value1\", ascending=False).iloc[5:10]"
   ]
  },
  {
   "cell_type": "code",
   "execution_count": 204,
   "id": "1489374a",
   "metadata": {},
   "outputs": [
    {
     "ename": "NotImplementedError",
     "evalue": "'DataFrame.iloc' only supports selecting columns. It must be used like 'df.iloc[:, column_indexer]'.",
     "output_type": "error",
     "traceback": [
      "\u001b[0;31m---------------------------------------------------------------------------\u001b[0m",
      "\u001b[0;31mNotImplementedError\u001b[0m                       Traceback (most recent call last)",
      "File \u001b[0;32m<timed eval>:1\u001b[0m, in \u001b[0;36m<module>\u001b[0;34m\u001b[0m\n",
      "File \u001b[0;32m/opt/miniconda3/envs/fugue-tutorials/lib/python3.8/site-packages/dask/dataframe/indexing.py:53\u001b[0m, in \u001b[0;36m_iLocIndexer.__getitem__\u001b[0;34m(self, key)\u001b[0m\n\u001b[1;32m     48\u001b[0m msg \u001b[38;5;241m=\u001b[39m (\n\u001b[1;32m     49\u001b[0m     \u001b[38;5;124m\"\u001b[39m\u001b[38;5;124m'\u001b[39m\u001b[38;5;124mDataFrame.iloc\u001b[39m\u001b[38;5;124m'\u001b[39m\u001b[38;5;124m only supports selecting columns. \u001b[39m\u001b[38;5;124m\"\u001b[39m\n\u001b[1;32m     50\u001b[0m     \u001b[38;5;124m\"\u001b[39m\u001b[38;5;124mIt must be used like \u001b[39m\u001b[38;5;124m'\u001b[39m\u001b[38;5;124mdf.iloc[:, column_indexer]\u001b[39m\u001b[38;5;124m'\u001b[39m\u001b[38;5;124m.\u001b[39m\u001b[38;5;124m\"\u001b[39m\n\u001b[1;32m     51\u001b[0m )\n\u001b[1;32m     52\u001b[0m \u001b[38;5;28;01mif\u001b[39;00m \u001b[38;5;129;01mnot\u001b[39;00m \u001b[38;5;28misinstance\u001b[39m(key, \u001b[38;5;28mtuple\u001b[39m):\n\u001b[0;32m---> 53\u001b[0m     \u001b[38;5;28;01mraise\u001b[39;00m \u001b[38;5;167;01mNotImplementedError\u001b[39;00m(msg)\n\u001b[1;32m     55\u001b[0m \u001b[38;5;28;01mif\u001b[39;00m \u001b[38;5;28mlen\u001b[39m(key) \u001b[38;5;241m>\u001b[39m \u001b[38;5;241m2\u001b[39m:\n\u001b[1;32m     56\u001b[0m     \u001b[38;5;28;01mraise\u001b[39;00m \u001b[38;5;167;01mValueError\u001b[39;00m(\u001b[38;5;124m\"\u001b[39m\u001b[38;5;124mToo many indexers\u001b[39m\u001b[38;5;124m\"\u001b[39m)\n",
      "\u001b[0;31mNotImplementedError\u001b[0m: 'DataFrame.iloc' only supports selecting columns. It must be used like 'df.iloc[:, column_indexer]'."
     ]
    }
   ],
   "source": [
    "%%time\n",
    "ddf.sort_values(\"value1\", ascending=False).iloc[5:10]"
   ]
  },
  {
   "cell_type": "markdown",
   "id": "37e32e07",
   "metadata": {},
   "source": [
    "## "
   ]
  }
 ],
 "metadata": {
  "kernelspec": {
   "display_name": "Python 3 (ipykernel)",
   "language": "python",
   "name": "python3"
  },
  "language_info": {
   "codemirror_mode": {
    "name": "ipython",
    "version": 3
   },
   "file_extension": ".py",
   "mimetype": "text/x-python",
   "name": "python",
   "nbconvert_exporter": "python",
   "pygments_lexer": "ipython3",
   "version": "3.8.13"
  }
 },
 "nbformat": 4,
 "nbformat_minor": 5
}
