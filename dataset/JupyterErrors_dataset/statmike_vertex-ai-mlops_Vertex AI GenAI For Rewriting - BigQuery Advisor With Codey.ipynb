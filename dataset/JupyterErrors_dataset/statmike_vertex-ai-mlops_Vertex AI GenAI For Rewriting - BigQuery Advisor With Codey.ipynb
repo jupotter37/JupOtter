{
 "cells": [
  {
   "cell_type": "markdown",
   "id": "09b530e8-0f73-4995-bf7a-61e77b6eb804",
   "metadata": {},
   "source": [
    "![ga4](https://www.google-analytics.com/collect?v=2&tid=G-6VDTYWLKX6&cid=1&en=page_view&sid=1&dl=statmike%2Fvertex-ai-mlops%2FApplied+GenAI&dt=Vertex+AI+GenAI+For+Rewriting+-+BigQuery+Advisor+With+Codey.ipynb)\n",
    "\n",
    "# BigQuery Advisor - Using LLMs to Understand And Rewrite Queries\n",
    "\n",
    "**Rewriting Is A Summarization Task**\n",
    "\n",
    "A form of summarization is rewriting.  The summary task is to take an input and regenerate it with instructions:\n",
    "- make this shorter\n",
    "- make this more readable\n",
    "- make this more efficient (code)\n",
    "\n",
    "When the language is code this can be very helpful to rewrite code in a more efficient way for understanding or computation.  \n",
    "\n",
    "**LLMs For Code - Vertex AI Codey**\n",
    "\n",
    "Vertex AI Generative AI has a series of models known as [Vertex AI Codey APIs](https://cloud.google.com/vertex-ai/docs/generative-ai/code/code-models-overview).  The are fit for purpose LLMs:\n",
    "- `code-bison`\n",
    "    - Generate code from language description\n",
    "    - Generate unitest for code\n",
    "    - Fix code sample\n",
    "    - optimize code\n",
    "    - translate code\n",
    "- `codechat-bison`\n",
    "    - Generate code documentation with comments\n",
    "    - Generate release notes\n",
    "    - And similar to `code-bison` can also help with: generation, unit test, fixing, optimiation, and translation\n",
    "- `code-gecko`\n",
    "    - autocomplete a section of code that is started\n",
    "\n",
    "**BigQuery SQL**\n",
    "\n",
    "A popular language for code is SQL.  The language of BigQuery is GoogleSQL - ([read more here](https://cloud.google.com/bigquery/docs/introduction-sql)).  An awesome feature of BigQuery is the [Information Schema](https://cloud.google.com/bigquery/docs/introduction-sql).  The jobs resource type information schema can be viewed from the perspective of a [project](https://cloud.google.com/bigquery/docs/information-schema-jobs), [user](https://cloud.google.com/bigquery/docs/information-schema-jobs-by-user), [folder](https://cloud.google.com/bigquery/docs/information-schema-jobs-by-folder), or [organization](https://cloud.google.com/bigquery/docs/information-schema-jobs-by-organization).  Within these views there are rows for each job submitted with information like:\n",
    "- `creation_time`, `start_time`, `end_time` - when the job was submitted, started, and finished\n",
    "- `total_bytes_processed` - how many bytes of data were processed\n",
    "- `total_slot_ms` - the slot usage in milliseconds over the entire run time\n",
    "- `job_id` - a unique id for the job\n",
    "- `job_type` - QUERY, LOAD, EXTRACT, COPY, NULL (internal jobs for materialized view refresh, ...)\n",
    "- `query` - The text of the jobs SQL\n",
    "\n",
    "**BigQuery ML For Direct Access to Vertex AI LLMs**\n",
    "\n",
    "BigQuery ML is SQL for doing ML tasks directly inside of BigQuery.  One of the statments is [`CREATE MODEL ...`](https://cloud.google.com/bigquery/docs/reference/standard-sql/bigqueryml-syntax-create) which can train a model, import a model, and connect to a remote model. A Remote model can be a model hosted at a Vertex AI Prediction Endpoint (using `OPTIONS(ENDPOINT = '')`) or a remote service (using `OPTIONS(REMOTE_SERVICE_TYPE = '')`).  These [remote service types](https://cloud.google.com/bigquery/docs/reference/standard-sql/bigqueryml-syntax-create-remote-model#remote_service_type) include some Vertex AI Generative AI Foundational models.\n",
    "\n",
    "**Building A BigQuery Advisor**\n",
    "\n",
    "This notebook builds a BigQuery Advisor for me, a user of BigQuery.  The flow built out below is:\n",
    "\n",
    "- Use BigQuery `INFORMATION_SCHEMA.JOBS_BY_USER` view to find unique SQL queries I have submitted and filter by signs of need for efficieny like run time, resources used, and length of query syntax.\n",
    "- Use BigQuery ML to connect to Vertex AI Codey APIs directly inside of BigQuery\n",
    "- Use ML.GENERATE_TEXT to connect to Vertex AI LLMs to describe and attempt to rewrite any potentially inefficient queries\n",
    "- USE Vertex AI SDK to connect direction to Vertex AI Codey APIs and generate a better rewrite of inefficient queries\n",
    "\n",
    "**REQUIREMENTS**\n",
    "\n",
    "This notebook will examine BigQuery queries run by the user in the specified Google Cloud Project over the last 365 days.  If the authenticated user does not have any queries in the project or region it will return null results.\n"
   ]
  },
  {
   "cell_type": "markdown",
   "id": "bf93df11-2e8d-4f2a-8aa4-a4395a80ecd3",
   "metadata": {
    "id": "od_UkDpvRmgD",
    "tags": []
   },
   "source": [
    "---\n",
    "## Colab Setup\n",
    "\n",
    "To run this notebook in Colab click [![Open In Colab](https://colab.research.google.com/assets/colab-badge.svg)](https://colab.research.google.com/github/statmike/vertex-ai-mlops/blob/main/Applied%20GenAI/Vertex%20AI%20GenAI%20For%20Rewriting%20-%20BigQuery%20Advisor%20With%20Codey.ipynb) and run the cells in this section.  Otherwise, skip this section.\n",
    "\n",
    "This cell will authenticate to GCP (follow prompts in the popup)."
   ]
  },
  {
   "cell_type": "code",
   "execution_count": 1,
   "id": "85b96128-61e4-4858-be69-cabedae6ba5d",
   "metadata": {
    "executionInfo": {
     "elapsed": 195,
     "status": "ok",
     "timestamp": 1683726184843,
     "user": {
      "displayName": "Mike Henderson",
      "userId": "07691629187611687318"
     },
     "user_tz": 240
    },
    "id": "8UO9FnqyKBlF"
   },
   "outputs": [],
   "source": [
    "PROJECT_ID = 'statmike-mlops-349915' # replace with project ID"
   ]
  },
  {
   "cell_type": "code",
   "execution_count": 2,
   "id": "f0bff400-5dcc-4e82-84be-9cff8787be68",
   "metadata": {
    "colab": {
     "base_uri": "https://localhost:8080/"
    },
    "executionInfo": {
     "elapsed": 68869,
     "status": "ok",
     "timestamp": 1683726253709,
     "user": {
      "displayName": "Mike Henderson",
      "userId": "07691629187611687318"
     },
     "user_tz": 240
    },
    "id": "N98-KK7LRkjm",
    "outputId": "09ec5008-0def-4e1a-c349-c598ee752f78"
   },
   "outputs": [],
   "source": [
    "try:\n",
    "    import google.colab\n",
    "    from google.colab import auth\n",
    "    auth.authenticate_user()\n",
    "    !gcloud config set project {PROJECT_ID}\n",
    "except Exception:\n",
    "    pass"
   ]
  },
  {
   "cell_type": "markdown",
   "id": "2eb51352-f9fd-4059-a8b3-0870be04b850",
   "metadata": {},
   "source": [
    "---\n",
    "## Installs and API Enablement\n",
    "\n",
    "The clients packages may need installing in this environment. "
   ]
  },
  {
   "cell_type": "markdown",
   "id": "e6ba7878-cf58-4f9a-8ca9-8728d49bfc3e",
   "metadata": {},
   "source": [
    "### Installs (If Needed)"
   ]
  },
  {
   "cell_type": "code",
   "execution_count": null,
   "id": "4e820c9e-08d6-4310-9723-440270e64503",
   "metadata": {},
   "outputs": [],
   "source": [
    "# tuples of (import name, install name)\n",
    "packages = [\n",
    "    ('google.cloud.aiplatform', 'google-cloud-aiplatform')\n",
    "]\n",
    "\n",
    "import importlib\n",
    "install = False\n",
    "for package in packages:\n",
    "    if not importlib.util.find_spec(package[0]):\n",
    "        print(f'installing package {package[1]}')\n",
    "        install = True\n",
    "        !pip install {package[1]} -U -q --user"
   ]
  },
  {
   "cell_type": "markdown",
   "id": "6b242ba1-83be-4d01-a121-51533e8873d7",
   "metadata": {},
   "source": [
    "### API Enablement"
   ]
  },
  {
   "cell_type": "code",
   "execution_count": 79,
   "id": "0f837d3f-ab96-436f-bfe7-798e6a6a0fb7",
   "metadata": {},
   "outputs": [],
   "source": [
    "!gcloud services enable aiplatform.googleapis.com\n",
    "!gcloud services enable bigqueryconnection.googleapis.com"
   ]
  },
  {
   "cell_type": "markdown",
   "id": "3e79be94-52d6-4dbe-ae4d-651aa2786d46",
   "metadata": {},
   "source": [
    "### Restart Kernel (If Installs Occured)\n",
    "\n",
    "After a kernel restart the code submission can start with the next cell after this one."
   ]
  },
  {
   "cell_type": "code",
   "execution_count": null,
   "id": "55e58caf-9647-49a5-8835-4eda7e142461",
   "metadata": {},
   "outputs": [],
   "source": [
    "if install:\n",
    "    import IPython\n",
    "    app = IPython.Application.instance()\n",
    "    app.kernel.do_shutdown(True)"
   ]
  },
  {
   "cell_type": "markdown",
   "id": "08a03ade-06e7-4eae-816c-db9d192fca8c",
   "metadata": {},
   "source": [
    "---\n",
    "## Setup"
   ]
  },
  {
   "cell_type": "code",
   "execution_count": 1,
   "id": "8939e38c-b65e-458b-9258-57de95444428",
   "metadata": {},
   "outputs": [
    {
     "data": {
      "text/plain": [
       "'statmike-mlops-349915'"
      ]
     },
     "execution_count": 1,
     "metadata": {},
     "output_type": "execute_result"
    }
   ],
   "source": [
    "project = !gcloud config get-value project\n",
    "PROJECT_ID = project[0]\n",
    "PROJECT_ID"
   ]
  },
  {
   "cell_type": "code",
   "execution_count": 2,
   "id": "df527846-b5fa-4176-8c7e-a28ad63d7442",
   "metadata": {},
   "outputs": [],
   "source": [
    "REGION = 'us-central1'\n",
    "SERIES = 'applied-genai'\n",
    "EXPERIMENT = 'bq-advisor'\n",
    "\n",
    "# change the following if the GCS bucket has a different name than the PROJECT_ID\n",
    "GCS_BUCKET = PROJECT_ID"
   ]
  },
  {
   "cell_type": "code",
   "execution_count": 3,
   "id": "ef8cb16a-6bee-4b9c-8317-f7ce5dfb9708",
   "metadata": {},
   "outputs": [],
   "source": [
    "# make this the BQ Project / Dataset / Table prefix to store results\n",
    "BQ_PROJECT = PROJECT_ID\n",
    "BQ_DATASET = SERIES.replace('-', '_')\n",
    "BQ_TABLE = EXPERIMENT\n",
    "BQ_REGION = REGION[0:2] # subset to first two characters for multi-region"
   ]
  },
  {
   "cell_type": "code",
   "execution_count": 4,
   "id": "91009282-13b6-4058-965b-fe3eb5ac0ee1",
   "metadata": {},
   "outputs": [],
   "source": [
    "import json\n",
    "from google.cloud import bigquery\n",
    "from google.cloud import bigquery_connection_v1 as bq_connection\n",
    "import vertexai.language_models"
   ]
  },
  {
   "cell_type": "code",
   "execution_count": 5,
   "id": "7dfcb7bd-5880-4a0e-90b2-7b0b29c0fd82",
   "metadata": {},
   "outputs": [],
   "source": [
    "bq = bigquery.Client(project = PROJECT_ID)\n",
    "vertexai.init(project = PROJECT_ID, location = REGION)"
   ]
  },
  {
   "cell_type": "markdown",
   "id": "7032c01e-a594-4cc2-86e7-8885ab2bde79",
   "metadata": {},
   "source": [
    "---\n",
    "## BigQuery Information Schema\n",
    "\n",
    "Review jobs by user with [INFORMATION_SCHEMA.JOBS_BY_USER](https://cloud.google.com/bigquery/docs/information-schema-jobs-by-user)"
   ]
  },
  {
   "cell_type": "code",
   "execution_count": 6,
   "id": "ebf40a6d-b380-41a8-acdc-9d5e8b030ec6",
   "metadata": {},
   "outputs": [
    {
     "name": "stdout",
     "output_type": "stream",
     "text": [
      "The Current User is:\n",
      " 1026793852137-compute@developer.gserviceaccount.com\n"
     ]
    }
   ],
   "source": [
    "CURRENT_USER = !gcloud config list --format='value(core.account)'\n",
    "print(\"The Current User is:\\n\", f\"{CURRENT_USER[0]}\")"
   ]
  },
  {
   "cell_type": "markdown",
   "id": "57fe46e7-b9a7-4fb4-8e97-c70b738e141f",
   "metadata": {},
   "source": [
    "### Find Longest Queries\n",
    "\n",
    "Not by time, but by syntax length!\n",
    "\n",
    "This Query:\n",
    "- Shows 10 queries with most characters\n",
    "- For Current User\n",
    "- In Current Project\n",
    "- For Datasets in Regions defined in BQ_REGION\n",
    "- Started and Completed in the last 365 Days"
   ]
  },
  {
   "cell_type": "code",
   "execution_count": 7,
   "id": "dd9ba893-d11e-4510-a94b-5319ebffb8e0",
   "metadata": {},
   "outputs": [
    {
     "data": {
      "text/html": [
       "<div>\n",
       "<style scoped>\n",
       "    .dataframe tbody tr th:only-of-type {\n",
       "        vertical-align: middle;\n",
       "    }\n",
       "\n",
       "    .dataframe tbody tr th {\n",
       "        vertical-align: top;\n",
       "    }\n",
       "\n",
       "    .dataframe thead th {\n",
       "        text-align: right;\n",
       "    }\n",
       "</style>\n",
       "<table border=\"1\" class=\"dataframe\">\n",
       "  <thead>\n",
       "    <tr style=\"text-align: right;\">\n",
       "      <th></th>\n",
       "      <th>query</th>\n",
       "      <th>n_runs</th>\n",
       "      <th>avg_bytes_processed</th>\n",
       "      <th>avg_duration_seconds</th>\n",
       "    </tr>\n",
       "  </thead>\n",
       "  <tbody>\n",
       "    <tr>\n",
       "      <th>0</th>\n",
       "      <td>\\n        SELECT 'Central Park North &amp; Adam Cl...</td>\n",
       "      <td>2</td>\n",
       "      <td>223933.5</td>\n",
       "      <td>1.0</td>\n",
       "    </tr>\n",
       "    <tr>\n",
       "      <th>1</th>\n",
       "      <td>\\nCREATE OR REPLACE TABLE `statmike-mlops-3499...</td>\n",
       "      <td>2</td>\n",
       "      <td>0.0</td>\n",
       "      <td>3.0</td>\n",
       "    </tr>\n",
       "    <tr>\n",
       "      <th>2</th>\n",
       "      <td>\\nCREATE OR REPLACE TABLE `statmike-mlops-3499...</td>\n",
       "      <td>1</td>\n",
       "      <td>0.0</td>\n",
       "      <td>3.0</td>\n",
       "    </tr>\n",
       "    <tr>\n",
       "      <th>3</th>\n",
       "      <td>\\nCREATE OR REPLACE TABLE `statmike-mlops-3499...</td>\n",
       "      <td>1</td>\n",
       "      <td>0.0</td>\n",
       "      <td>3.0</td>\n",
       "    </tr>\n",
       "    <tr>\n",
       "      <th>4</th>\n",
       "      <td>\\nCREATE OR REPLACE TABLE `statmike-mlops-3499...</td>\n",
       "      <td>1</td>\n",
       "      <td>0.0</td>\n",
       "      <td>2.0</td>\n",
       "    </tr>\n",
       "    <tr>\n",
       "      <th>5</th>\n",
       "      <td>\\nCREATE OR REPLACE TABLE `statmike-mlops-3499...</td>\n",
       "      <td>1</td>\n",
       "      <td>0.0</td>\n",
       "      <td>4.0</td>\n",
       "    </tr>\n",
       "    <tr>\n",
       "      <th>6</th>\n",
       "      <td>\\nCREATE OR REPLACE TABLE `statmike-mlops-3499...</td>\n",
       "      <td>1</td>\n",
       "      <td>0.0</td>\n",
       "      <td>3.0</td>\n",
       "    </tr>\n",
       "    <tr>\n",
       "      <th>7</th>\n",
       "      <td>\\nCREATE OR REPLACE TABLE `statmike-mlops-3499...</td>\n",
       "      <td>1</td>\n",
       "      <td>0.0</td>\n",
       "      <td>3.0</td>\n",
       "    </tr>\n",
       "    <tr>\n",
       "      <th>8</th>\n",
       "      <td>\\nCREATE OR REPLACE TABLE `statmike-mlops-3499...</td>\n",
       "      <td>1</td>\n",
       "      <td>0.0</td>\n",
       "      <td>3.0</td>\n",
       "    </tr>\n",
       "    <tr>\n",
       "      <th>9</th>\n",
       "      <td>\\nCREATE OR REPLACE TABLE `statmike-mlops-3499...</td>\n",
       "      <td>1</td>\n",
       "      <td>0.0</td>\n",
       "      <td>3.0</td>\n",
       "    </tr>\n",
       "  </tbody>\n",
       "</table>\n",
       "</div>"
      ],
      "text/plain": [
       "                                               query  n_runs  \\\n",
       "0  \\n        SELECT 'Central Park North & Adam Cl...       2   \n",
       "1  \\nCREATE OR REPLACE TABLE `statmike-mlops-3499...       2   \n",
       "2  \\nCREATE OR REPLACE TABLE `statmike-mlops-3499...       1   \n",
       "3  \\nCREATE OR REPLACE TABLE `statmike-mlops-3499...       1   \n",
       "4  \\nCREATE OR REPLACE TABLE `statmike-mlops-3499...       1   \n",
       "5  \\nCREATE OR REPLACE TABLE `statmike-mlops-3499...       1   \n",
       "6  \\nCREATE OR REPLACE TABLE `statmike-mlops-3499...       1   \n",
       "7  \\nCREATE OR REPLACE TABLE `statmike-mlops-3499...       1   \n",
       "8  \\nCREATE OR REPLACE TABLE `statmike-mlops-3499...       1   \n",
       "9  \\nCREATE OR REPLACE TABLE `statmike-mlops-3499...       1   \n",
       "\n",
       "   avg_bytes_processed  avg_duration_seconds  \n",
       "0             223933.5                   1.0  \n",
       "1                  0.0                   3.0  \n",
       "2                  0.0                   3.0  \n",
       "3                  0.0                   3.0  \n",
       "4                  0.0                   2.0  \n",
       "5                  0.0                   4.0  \n",
       "6                  0.0                   3.0  \n",
       "7                  0.0                   3.0  \n",
       "8                  0.0                   3.0  \n",
       "9                  0.0                   3.0  "
      ]
     },
     "execution_count": 7,
     "metadata": {},
     "output_type": "execute_result"
    }
   ],
   "source": [
    "query = f\"\"\"\n",
    "SELECT\n",
    "    query,\n",
    "    count(job_id) as n_runs,\n",
    "    avg(total_bytes_processed) as avg_bytes_processed,\n",
    "    avg(TIMESTAMP_DIFF(end_time, start_time, SECOND)) as avg_duration_seconds\n",
    "\n",
    "FROM `{BQ_PROJECT}.region-{BQ_REGION}.INFORMATION_SCHEMA.JOBS_BY_USER`\n",
    "WHERE \n",
    "    state = \"DONE\"\n",
    "    AND statement_type != 'SCRIPT'\n",
    "    AND TIMESTAMP_TRUNC(creation_time, day) >= TIMESTAMP_ADD(TIMESTAMP_TRUNC(CURRENT_TIMESTAMP(), day), INTERVAL -365 day)\n",
    "GROUP BY query\n",
    "ORDER BY CHAR_LENGTH(query) DESC\n",
    "LIMIT 10\n",
    "\"\"\"\n",
    "results = bq.query(query = query).to_dataframe()\n",
    "results"
   ]
  },
  {
   "cell_type": "markdown",
   "id": "369a0401-e4e3-450a-b0e1-2ccc7d3d8cd1",
   "metadata": {},
   "source": [
    "Review the longest query:"
   ]
  },
  {
   "cell_type": "code",
   "execution_count": 8,
   "id": "951452f5-93fb-464e-8fe8-5db5b22a4795",
   "metadata": {},
   "outputs": [
    {
     "name": "stdout",
     "output_type": "stream",
     "text": [
      "This query is 7345 charcters long.  Here are the first 500 characters:\n",
      "\n",
      "\n",
      "\n",
      " \n",
      "        SELECT 'Central Park North & Adam Clayton Powell Blvd' as start_station_name, *\n",
      "        FROM ML.EVALUATE(\n",
      "            MODEL `statmike-mlops-349915.applied_forecasting.forecasting-data_prepped_arimaplusxreg_1`,\n",
      "            (\n",
      "                SELECT starttime, num_trips,\n",
      "                    avg_tripduration, pct_subscriber, ratio_gender\n",
      "                FROM `statmike-mlops-349915.applied_forecasting.forecasting-data_prepped`\n",
      "                WHERE splits = 'TEST'\n",
      "                    AND sta\n"
     ]
    }
   ],
   "source": [
    "print(f\"This query is {len(results['query'][0])} charcters long.  Here are the first 500 characters:\\n\\n\\n\\n\", results['query'][0][0:500])"
   ]
  },
  {
   "cell_type": "markdown",
   "id": "b6ad2ca7-c437-4ade-9eb6-b6b39cb1cf69",
   "metadata": {},
   "source": [
    "### Create Table With Longest Queries"
   ]
  },
  {
   "cell_type": "markdown",
   "id": "963d20f2-2810-4ec6-a1a7-592d5c9d3cf2",
   "metadata": {},
   "source": [
    "Create Dataset (if new):"
   ]
  },
  {
   "cell_type": "code",
   "execution_count": 9,
   "id": "6f7baa6f-194b-40a1-9b3f-d02bb95f3be2",
   "metadata": {},
   "outputs": [],
   "source": [
    "# create/link to dataset\n",
    "ds = bigquery.DatasetReference(BQ_PROJECT, BQ_DATASET)\n",
    "ds.location = BQ_REGION\n",
    "ds.labels = {'series': f'{SERIES}'}\n",
    "ds = bq.create_dataset(dataset = ds, exists_ok = True) "
   ]
  },
  {
   "cell_type": "markdown",
   "id": "656b62e8-f4dd-4a5e-b47d-86263305cd15",
   "metadata": {},
   "source": [
    "Create Table in Dataset with Results:"
   ]
  },
  {
   "cell_type": "code",
   "execution_count": 10,
   "id": "a3e9e1b4-30df-4824-9e4c-e1f4c2ba1add",
   "metadata": {},
   "outputs": [
    {
     "data": {
      "text/plain": [
       "'DONE'"
      ]
     },
     "execution_count": 10,
     "metadata": {},
     "output_type": "execute_result"
    }
   ],
   "source": [
    "job = bq.query(query = f\"CREATE OR REPLACE TABLE `{BQ_PROJECT}.{BQ_DATASET}.{BQ_TABLE}` AS\\n\" + query)\n",
    "job.result()\n",
    "job.state"
   ]
  },
  {
   "cell_type": "markdown",
   "id": "d0a5d844-6ce0-4194-a5a4-4fde03f6fc73",
   "metadata": {},
   "source": [
    "Retrieve results from table.  These should match since its the same query saved as a table:"
   ]
  },
  {
   "cell_type": "code",
   "execution_count": 11,
   "id": "bee2a1af-ff24-48bb-8092-b51b78a7b682",
   "metadata": {},
   "outputs": [
    {
     "data": {
      "text/html": [
       "<div>\n",
       "<style scoped>\n",
       "    .dataframe tbody tr th:only-of-type {\n",
       "        vertical-align: middle;\n",
       "    }\n",
       "\n",
       "    .dataframe tbody tr th {\n",
       "        vertical-align: top;\n",
       "    }\n",
       "\n",
       "    .dataframe thead th {\n",
       "        text-align: right;\n",
       "    }\n",
       "</style>\n",
       "<table border=\"1\" class=\"dataframe\">\n",
       "  <thead>\n",
       "    <tr style=\"text-align: right;\">\n",
       "      <th></th>\n",
       "      <th>query</th>\n",
       "      <th>n_runs</th>\n",
       "      <th>avg_bytes_processed</th>\n",
       "      <th>avg_duration_seconds</th>\n",
       "    </tr>\n",
       "  </thead>\n",
       "  <tbody>\n",
       "    <tr>\n",
       "      <th>0</th>\n",
       "      <td>\\n        SELECT 'Central Park North &amp; Adam Cl...</td>\n",
       "      <td>2</td>\n",
       "      <td>223933.5</td>\n",
       "      <td>1.0</td>\n",
       "    </tr>\n",
       "    <tr>\n",
       "      <th>1</th>\n",
       "      <td>\\nCREATE OR REPLACE TABLE `statmike-mlops-3499...</td>\n",
       "      <td>2</td>\n",
       "      <td>0.0</td>\n",
       "      <td>3.0</td>\n",
       "    </tr>\n",
       "    <tr>\n",
       "      <th>2</th>\n",
       "      <td>\\nCREATE OR REPLACE TABLE `statmike-mlops-3499...</td>\n",
       "      <td>1</td>\n",
       "      <td>0.0</td>\n",
       "      <td>3.0</td>\n",
       "    </tr>\n",
       "    <tr>\n",
       "      <th>3</th>\n",
       "      <td>\\nCREATE OR REPLACE TABLE `statmike-mlops-3499...</td>\n",
       "      <td>1</td>\n",
       "      <td>0.0</td>\n",
       "      <td>3.0</td>\n",
       "    </tr>\n",
       "    <tr>\n",
       "      <th>4</th>\n",
       "      <td>\\nCREATE OR REPLACE TABLE `statmike-mlops-3499...</td>\n",
       "      <td>1</td>\n",
       "      <td>0.0</td>\n",
       "      <td>2.0</td>\n",
       "    </tr>\n",
       "    <tr>\n",
       "      <th>5</th>\n",
       "      <td>\\nCREATE OR REPLACE TABLE `statmike-mlops-3499...</td>\n",
       "      <td>1</td>\n",
       "      <td>0.0</td>\n",
       "      <td>4.0</td>\n",
       "    </tr>\n",
       "    <tr>\n",
       "      <th>6</th>\n",
       "      <td>\\nCREATE OR REPLACE TABLE `statmike-mlops-3499...</td>\n",
       "      <td>1</td>\n",
       "      <td>0.0</td>\n",
       "      <td>3.0</td>\n",
       "    </tr>\n",
       "    <tr>\n",
       "      <th>7</th>\n",
       "      <td>\\nCREATE OR REPLACE TABLE `statmike-mlops-3499...</td>\n",
       "      <td>1</td>\n",
       "      <td>0.0</td>\n",
       "      <td>3.0</td>\n",
       "    </tr>\n",
       "    <tr>\n",
       "      <th>8</th>\n",
       "      <td>\\nCREATE OR REPLACE TABLE `statmike-mlops-3499...</td>\n",
       "      <td>1</td>\n",
       "      <td>0.0</td>\n",
       "      <td>3.0</td>\n",
       "    </tr>\n",
       "    <tr>\n",
       "      <th>9</th>\n",
       "      <td>\\nCREATE OR REPLACE TABLE `statmike-mlops-3499...</td>\n",
       "      <td>1</td>\n",
       "      <td>0.0</td>\n",
       "      <td>3.0</td>\n",
       "    </tr>\n",
       "  </tbody>\n",
       "</table>\n",
       "</div>"
      ],
      "text/plain": [
       "                                               query  n_runs  \\\n",
       "0  \\n        SELECT 'Central Park North & Adam Cl...       2   \n",
       "1  \\nCREATE OR REPLACE TABLE `statmike-mlops-3499...       2   \n",
       "2  \\nCREATE OR REPLACE TABLE `statmike-mlops-3499...       1   \n",
       "3  \\nCREATE OR REPLACE TABLE `statmike-mlops-3499...       1   \n",
       "4  \\nCREATE OR REPLACE TABLE `statmike-mlops-3499...       1   \n",
       "5  \\nCREATE OR REPLACE TABLE `statmike-mlops-3499...       1   \n",
       "6  \\nCREATE OR REPLACE TABLE `statmike-mlops-3499...       1   \n",
       "7  \\nCREATE OR REPLACE TABLE `statmike-mlops-3499...       1   \n",
       "8  \\nCREATE OR REPLACE TABLE `statmike-mlops-3499...       1   \n",
       "9  \\nCREATE OR REPLACE TABLE `statmike-mlops-3499...       1   \n",
       "\n",
       "   avg_bytes_processed  avg_duration_seconds  \n",
       "0             223933.5                   1.0  \n",
       "1                  0.0                   3.0  \n",
       "2                  0.0                   3.0  \n",
       "3                  0.0                   3.0  \n",
       "4                  0.0                   2.0  \n",
       "5                  0.0                   4.0  \n",
       "6                  0.0                   3.0  \n",
       "7                  0.0                   3.0  \n",
       "8                  0.0                   3.0  \n",
       "9                  0.0                   3.0  "
      ]
     },
     "execution_count": 11,
     "metadata": {},
     "output_type": "execute_result"
    }
   ],
   "source": [
    "results = bq.query(f'SELECT * FROM `{BQ_PROJECT}.{BQ_DATASET}.{BQ_TABLE}`').to_dataframe()\n",
    "results"
   ]
  },
  {
   "cell_type": "markdown",
   "id": "c9d0a4e9-2668-4549-9a0b-34e9e11d20e7",
   "metadata": {},
   "source": [
    "---\n",
    "## BigQuery ML: Connect To Vertex AI LLMs with ML.GENERATE_TEXT\n",
    "\n",
    "BigQuery ML can `Create Model`s that are actually connections to Remote Models. [Reference](https://cloud.google.com/bigquery/docs/reference/standard-sql/bigqueryml-syntax-create-remote-model)\n",
    "\n",
    "Using the `REMOTE_SERVICE_TYPE = \"CLOUD_AI_LARGE_LANGUAGE_MODEL_V1\"` option will link to LLMs in Vertex AI!"
   ]
  },
  {
   "cell_type": "markdown",
   "id": "27153ae4-3ed4-4175-86d5-129aa5b4be87",
   "metadata": {},
   "source": [
    "### Connection Requirement\n",
    "\n",
    "To make a remote connection using BigQuery ML, BigQuery uses a CLOUD_RESOURCE connection. [Reference](https://cloud.google.com/bigquery/docs/reference/standard-sql/bigqueryml-syntax-create-remote-model#connection)"
   ]
  },
  {
   "cell_type": "markdown",
   "id": "5d8e242d-0f90-453a-9127-6b927ebfc9c5",
   "metadata": {},
   "source": [
    "Create a new connection with type `CLOUD_RESOURCE`: First, check for existing connection."
   ]
  },
  {
   "cell_type": "code",
   "execution_count": 67,
   "id": "4a8b1c98-70d5-4dbd-9601-2b3a7b88ca4b",
   "metadata": {},
   "outputs": [
    {
     "name": "stdout",
     "output_type": "stream",
     "text": [
      "Created new connection with service account: bqcx-1026793852137-a2ne@gcp-sa-bigquery-condel.iam.gserviceaccount.com\n"
     ]
    }
   ],
   "source": [
    "try:\n",
    "    response = bq_connection.ConnectionServiceClient().get_connection(\n",
    "            request = bq_connection.GetConnectionRequest(\n",
    "                name = f\"projects/{BQ_PROJECT}/locations/{BQ_REGION}/connections/{SERIES}_{EXPERIMENT}\"\n",
    "            )\n",
    "    )\n",
    "    print(f'Found existing connection with service account: {response.cloud_resource.service_account_id}')\n",
    "    service_account = response.cloud_resource.service_account_id\n",
    "except Exception:\n",
    "    request = bq_connection.CreateConnectionRequest(\n",
    "        {\n",
    "            \"parent\": f\"projects/{BQ_PROJECT}/locations/{BQ_REGION}\",\n",
    "            \"connection_id\": f\"{SERIES}_{EXPERIMENT}\",\n",
    "            \"connection\": bq_connection.types.Connection(\n",
    "                {\n",
    "                    \"friendly_name\": f\"{SERIES}_{EXPERIMENT}\",\n",
    "                    \"cloud_resource\": bq_connection.CloudResourceProperties({})\n",
    "                }\n",
    "            )\n",
    "        }\n",
    "    )\n",
    "    response = bq_connection.ConnectionServiceClient().create_connection(request)\n",
    "    print(f'Created new connection with service account: {response.cloud_resource.service_account_id}')\n",
    "    service_account = response.cloud_resource.service_account_id"
   ]
  },
  {
   "cell_type": "markdown",
   "id": "302b5e81-e917-47e7-a63f-65a6da1eaf70",
   "metadata": {},
   "source": [
    "Assign the service account the Vertex AI User role:"
   ]
  },
  {
   "cell_type": "code",
   "execution_count": 62,
   "id": "ab6ac976-90d3-4242-9d5d-ab0336aee7d0",
   "metadata": {
    "scrolled": true,
    "tags": []
   },
   "outputs": [
    {
     "name": "stdout",
     "output_type": "stream",
     "text": [
      "Updated IAM policy for project [statmike-mlops-349915].\n",
      "bindings:\n",
      "- members:\n",
      "  - serviceAccount:service-1026793852137@gcp-sa-aiplatform-cc.iam.gserviceaccount.com\n",
      "  role: roles/aiplatform.customCodeServiceAgent\n",
      "- members:\n",
      "  - serviceAccount:service-1026793852137@gcp-sa-aiplatform.iam.gserviceaccount.com\n",
      "  role: roles/aiplatform.serviceAgent\n",
      "- members:\n",
      "  - serviceAccount:bqcx-1026793852137-dyw1@gcp-sa-bigquery-condel.iam.gserviceaccount.com\n",
      "  - serviceAccount:bqcx-1026793852137-zfly@gcp-sa-bigquery-condel.iam.gserviceaccount.com\n",
      "  role: roles/aiplatform.user\n",
      "- members:\n",
      "  - serviceAccount:service-1026793852137@gcp-sa-artifactregistry.iam.gserviceaccount.com\n",
      "  role: roles/artifactregistry.serviceAgent\n",
      "- members:\n",
      "  - serviceAccount:1026793852137-compute@developer.gserviceaccount.com\n",
      "  role: roles/bigquery.admin\n",
      "- members:\n",
      "  - serviceAccount:1026793852137@cloudservices.gserviceaccount.com\n",
      "  role: roles/bigquery.dataOwner\n",
      "- members:\n",
      "  - serviceAccount:1026793852137@cloudbuild.gserviceaccount.com\n",
      "  role: roles/cloudbuild.builds.builder\n",
      "- members:\n",
      "  - serviceAccount:service-1026793852137@gcp-sa-cloudbuild.iam.gserviceaccount.com\n",
      "  role: roles/cloudbuild.serviceAgent\n",
      "- members:\n",
      "  - serviceAccount:service-1026793852137@gcf-admin-robot.iam.gserviceaccount.com\n",
      "  role: roles/cloudfunctions.serviceAgent\n",
      "- members:\n",
      "  - serviceAccount:service-1026793852137@gcp-sa-cloudscheduler.iam.gserviceaccount.com\n",
      "  role: roles/cloudscheduler.serviceAgent\n",
      "- members:\n",
      "  - serviceAccount:service-1026793852137@compute-system.iam.gserviceaccount.com\n",
      "  role: roles/compute.serviceAgent\n",
      "- members:\n",
      "  - serviceAccount:service-1026793852137@containerregistry.iam.gserviceaccount.com\n",
      "  role: roles/containerregistry.ServiceAgent\n",
      "- members:\n",
      "  - serviceAccount:service-1026793852137@dataflow-service-producer-prod.iam.gserviceaccount.com\n",
      "  role: roles/dataflow.serviceAgent\n",
      "- members:\n",
      "  - serviceAccount:service-1026793852137@dlp-api.iam.gserviceaccount.com\n",
      "  role: roles/dlp.serviceAgent\n",
      "- members:\n",
      "  - serviceAccount:service-1026793852137@gcp-sa-prod-dai-core.iam.gserviceaccount.com\n",
      "  role: roles/documentaicore.serviceAgent\n",
      "- members:\n",
      "  - serviceAccount:1026793852137@cloudservices.gserviceaccount.com\n",
      "  role: roles/editor\n",
      "- members:\n",
      "  - serviceAccount:service-1026793852137@gcp-sa-networkmanagement.iam.gserviceaccount.com\n",
      "  role: roles/networkmanagement.serviceAgent\n",
      "- members:\n",
      "  - serviceAccount:service-1026793852137@gcp-sa-notebooks.iam.gserviceaccount.com\n",
      "  role: roles/notebooks.serviceAgent\n",
      "- members:\n",
      "  - serviceAccount:1026793852137-compute@developer.gserviceaccount.com\n",
      "  - serviceAccount:1026793852137@cloudservices.gserviceaccount.com\n",
      "  - user:admin@statmike.altostrat.com\n",
      "  role: roles/owner\n",
      "- members:\n",
      "  - serviceAccount:service-1026793852137@gcp-sa-pubsub.iam.gserviceaccount.com\n",
      "  role: roles/pubsub.serviceAgent\n",
      "- members:\n",
      "  - serviceAccount:1026793852137-compute@developer.gserviceaccount.com\n",
      "  role: roles/run.admin\n",
      "- members:\n",
      "  - serviceAccount:service-1026793852137@serverless-robot-prod.iam.gserviceaccount.com\n",
      "  role: roles/run.serviceAgent\n",
      "- members:\n",
      "  - serviceAccount:service-1026793852137@service-networking.iam.gserviceaccount.com\n",
      "  role: roles/servicenetworking.serviceAgent\n",
      "- members:\n",
      "  - serviceAccount:service-1026793852137@gcp-sa-speech.iam.gserviceaccount.com\n",
      "  role: roles/speech.serviceAgent\n",
      "- members:\n",
      "  - serviceAccount:1026793852137-compute@developer.gserviceaccount.com\n",
      "  role: roles/storage.objectAdmin\n",
      "- members:\n",
      "  - serviceAccount:service-1026793852137@gcp-sa-workstations.iam.gserviceaccount.com\n",
      "  role: roles/workstations.serviceAgent\n",
      "etag: BwYENrLCsFw=\n",
      "version: 1\n"
     ]
    }
   ],
   "source": [
    "!gcloud projects add-iam-policy-binding {BQ_PROJECT} --member=serviceAccount:{service_account} --role=roles/aiplatform.user"
   ]
  },
  {
   "cell_type": "markdown",
   "id": "97d1acd6-d18f-4f70-b1b4-2ae15f00e71c",
   "metadata": {},
   "source": [
    "### Create The Remote Model In BigQuery"
   ]
  },
  {
   "cell_type": "code",
   "execution_count": 63,
   "id": "19810467-0f5f-4343-9910-3c1ce224afa3",
   "metadata": {},
   "outputs": [
    {
     "data": {
      "text/plain": [
       "'DONE'"
      ]
     },
     "execution_count": 63,
     "metadata": {},
     "output_type": "execute_result"
    }
   ],
   "source": [
    "# Create Remote Model In BigQuery\n",
    "query = f\"\"\"\n",
    "CREATE OR REPLACE MODEL `{BQ_PROJECT}.{BQ_DATASET}.{BQ_TABLE}_MODEL`\n",
    "    REMOTE WITH CONNECTION `{BQ_PROJECT}.{BQ_REGION}.{SERIES}_{EXPERIMENT}`\n",
    "    OPTIONS(REMOTE_SERVICE_TYPE = 'CLOUD_AI_LARGE_LANGUAGE_MODEL_V1')\n",
    "\"\"\"\n",
    "job = bq.query(query = query)\n",
    "job.result()\n",
    "job.state"
   ]
  },
  {
   "cell_type": "markdown",
   "id": "966e411f-942d-46c9-9962-caa1fb5d2e57",
   "metadata": {},
   "source": [
    "---\n",
    "## Annotate and Rewrite Queries\n",
    "\n",
    "Use [ML.GENERATE_TEXT](https://cloud.google.com/bigquery/docs/reference/standard-sql/bigqueryml-syntax-generate-text) to annotate and rewrite queries!\n",
    "\n",
    "**NOTE** Currently, this directly links to [`text-bison`](https://cloud.google.com/vertex-ai/docs/generative-ai/model-reference/text) and the model is not selectable for changing to one of the other [Vertex AI foundational models](https://cloud.google.com/vertex-ai/docs/generative-ai/learn/models)."
   ]
  },
  {
   "cell_type": "markdown",
   "id": "328ce661-07d2-403c-8fb4-4912a7a55c92",
   "metadata": {},
   "source": [
    "### Describe The Longest Query"
   ]
  },
  {
   "cell_type": "code",
   "execution_count": 79,
   "id": "c8426951-c746-409e-9946-f185d31d1da4",
   "metadata": {},
   "outputs": [
    {
     "data": {
      "text/html": [
       "<div>\n",
       "<style scoped>\n",
       "    .dataframe tbody tr th:only-of-type {\n",
       "        vertical-align: middle;\n",
       "    }\n",
       "\n",
       "    .dataframe tbody tr th {\n",
       "        vertical-align: top;\n",
       "    }\n",
       "\n",
       "    .dataframe thead th {\n",
       "        text-align: right;\n",
       "    }\n",
       "</style>\n",
       "<table border=\"1\" class=\"dataframe\">\n",
       "  <thead>\n",
       "    <tr style=\"text-align: right;\">\n",
       "      <th></th>\n",
       "      <th>ml_generate_text_llm_result</th>\n",
       "      <th>ml_generate_text_rai_result</th>\n",
       "      <th>ml_generate_text_status</th>\n",
       "      <th>prompt</th>\n",
       "    </tr>\n",
       "  </thead>\n",
       "  <tbody>\n",
       "    <tr>\n",
       "      <th>0</th>\n",
       "      <td>The given Google SQL query uses the ML.EVALUA...</td>\n",
       "      <td>{\"blocked\":false,\"categories\":[],\"scores\":[]}</td>\n",
       "      <td></td>\n",
       "      <td>Describe the operation of the following Google...</td>\n",
       "    </tr>\n",
       "  </tbody>\n",
       "</table>\n",
       "</div>"
      ],
      "text/plain": [
       "                         ml_generate_text_llm_result  \\\n",
       "0   The given Google SQL query uses the ML.EVALUA...   \n",
       "\n",
       "                     ml_generate_text_rai_result ml_generate_text_status  \\\n",
       "0  {\"blocked\":false,\"categories\":[],\"scores\":[]}                           \n",
       "\n",
       "                                              prompt  \n",
       "0  Describe the operation of the following Google...  "
      ]
     },
     "execution_count": 79,
     "metadata": {},
     "output_type": "execute_result"
    }
   ],
   "source": [
    "query = f\"\"\"\n",
    "SELECT *\n",
    "FROM ML.GENERATE_TEXT(\n",
    "    MODEL `{BQ_PROJECT}.{BQ_DATASET}.{BQ_TABLE}_MODEL`,\n",
    "    (\n",
    "        SELECT CONCAT('Describe the operation of the following Google SQL query:', query) AS prompt\n",
    "        FROM `{BQ_PROJECT}.{BQ_DATASET}.{BQ_TABLE}`\n",
    "        LIMIT 1\n",
    "    ),\n",
    "    STRUCT(500 AS max_output_tokens, TRUE AS flatten_json_output)\n",
    ")\n",
    "\"\"\"\n",
    "describe = bq.query(query = query).to_dataframe()\n",
    "describe"
   ]
  },
  {
   "cell_type": "code",
   "execution_count": 80,
   "id": "acce0948-7d4f-4cfa-8600-78f2f75316dd",
   "metadata": {},
   "outputs": [
    {
     "name": "stdout",
     "output_type": "stream",
     "text": [
      " The given Google SQL query uses the ML.EVALUATE function to evaluate multiple ARIMA+XREG models on a test dataset. The query is structured as a series of UNION ALL statements, which combine the results of each model evaluation into a single result set.\n",
      "\n",
      "The ML.EVALUATE function takes three arguments:\n",
      "\n",
      "- The model to be evaluated, specified as a MODEL clause.\n",
      "- The data to be used for evaluation, specified as a subquery.\n",
      "- A STRUCT clause that specifies the evaluation options. In this case, the perform_aggregation option is set to TRUE, which indicates that the model should be evaluated on aggregated data.\n",
      "\n",
      "The subquery used in the ML.EVALUATE function selects the following features from the forecasting-data_prepped table:\n",
      "\n",
      "- starttime: The start time of the trip.\n",
      "- num_trips: The number of trips.\n",
      "- avg_tripduration: The average trip duration.\n",
      "- pct_subscriber: The percentage of trips made by subscribers.\n",
      "- ratio_gender: The ratio of male to female riders.\n",
      "\n",
      "The query then uses the start_station_name column to group the data by start station and evaluate the model separately for each station. The results of each evaluation are then combined into a single result set using the UNION ALL operator.\n",
      "\n",
      "The output of the query is a table that contains the following columns:\n",
      "\n",
      "- start_station_name: The name of the start station.\n",
      "- model_name: The name of the model that was evaluated.\n",
      "- starttime: The start time of the trip.\n",
      "- num_trips: The number of trips.\n",
      "- avg_tripduration: The average trip duration.\n",
      "- pct_subscriber: The percentage of trips made by subscribers.\n",
      "- ratio_gender: The ratio of male to female riders.\n",
      "- forecast_num_trips: The forecasted number of trips.\n",
      "- forecast_avg_tripduration: The forecasted average trip duration.\n",
      "- forecast_pct_subscriber: The forecasted percentage of trips made by subscribers.\n",
      "- forecast_ratio_gender: The forecasted ratio of male to female riders.\n"
     ]
    }
   ],
   "source": [
    "print(describe['ml_generate_text_llm_result'][0])"
   ]
  },
  {
   "cell_type": "markdown",
   "id": "f13987d3-97c9-44f3-b7d4-2568e6f94da3",
   "metadata": {},
   "source": [
    "## Rewrite The Longest Query"
   ]
  },
  {
   "cell_type": "code",
   "execution_count": 136,
   "id": "31f31de6-3d12-4e2d-b593-5f396da39b51",
   "metadata": {},
   "outputs": [
    {
     "data": {
      "text/html": [
       "<div>\n",
       "<style scoped>\n",
       "    .dataframe tbody tr th:only-of-type {\n",
       "        vertical-align: middle;\n",
       "    }\n",
       "\n",
       "    .dataframe tbody tr th {\n",
       "        vertical-align: top;\n",
       "    }\n",
       "\n",
       "    .dataframe thead th {\n",
       "        text-align: right;\n",
       "    }\n",
       "</style>\n",
       "<table border=\"1\" class=\"dataframe\">\n",
       "  <thead>\n",
       "    <tr style=\"text-align: right;\">\n",
       "      <th></th>\n",
       "      <th>ml_generate_text_llm_result</th>\n",
       "      <th>ml_generate_text_rai_result</th>\n",
       "      <th>ml_generate_text_status</th>\n",
       "      <th>prompt</th>\n",
       "    </tr>\n",
       "  </thead>\n",
       "  <tbody>\n",
       "    <tr>\n",
       "      <th>0</th>\n",
       "      <td>```sql\\n    SELECT start_station_name, *\\n   ...</td>\n",
       "      <td>{\"blocked\":false,\"categories\":[],\"scores\":[]}</td>\n",
       "      <td></td>\n",
       "      <td>Rewrite the following BigQuery GoogleSQL query...</td>\n",
       "    </tr>\n",
       "  </tbody>\n",
       "</table>\n",
       "</div>"
      ],
      "text/plain": [
       "                         ml_generate_text_llm_result  \\\n",
       "0   ```sql\\n    SELECT start_station_name, *\\n   ...   \n",
       "\n",
       "                     ml_generate_text_rai_result ml_generate_text_status  \\\n",
       "0  {\"blocked\":false,\"categories\":[],\"scores\":[]}                           \n",
       "\n",
       "                                              prompt  \n",
       "0  Rewrite the following BigQuery GoogleSQL query...  "
      ]
     },
     "execution_count": 136,
     "metadata": {},
     "output_type": "execute_result"
    }
   ],
   "source": [
    "query = f\"\"\"\n",
    "SELECT *\n",
    "FROM ML.GENERATE_TEXT(\n",
    "    MODEL `{BQ_PROJECT}.{BQ_DATASET}.{BQ_TABLE}_MODEL`,\n",
    "    (\n",
    "        SELECT CONCAT('Rewrite the following BigQuery GoogleSQL query to be as short as possible. query:', query) AS prompt\n",
    "        FROM `{BQ_PROJECT}.{BQ_DATASET}.{BQ_TABLE}`\n",
    "    LIMIT 1\n",
    "    ),\n",
    "    STRUCT(1000 AS max_output_tokens, TRUE AS flatten_json_output)\n",
    ")\n",
    "\"\"\"\n",
    "rewrite = bq.query(query = query).to_dataframe()\n",
    "rewrite"
   ]
  },
  {
   "cell_type": "code",
   "execution_count": 138,
   "id": "cbf0d9df-356d-4b8e-af04-9c836c4129f7",
   "metadata": {},
   "outputs": [
    {
     "name": "stdout",
     "output_type": "stream",
     "text": [
      " ```sql\n",
      "    SELECT start_station_name, *\n",
      "    FROM ML.EVALUATE(\n",
      "        MODEL `statmike-mlops-349915.applied_forecasting.forecasting-data_prepped_arimaplusxreg_*`,\n",
      "        (\n",
      "            SELECT starttime, num_trips,\n",
      "                avg_tripduration, pct_subscriber, ratio_gender\n",
      "            FROM `statmike-mlops-349915.applied_forecasting.forecasting-data_prepped`\n",
      "            WHERE splits = 'TEST'\n",
      "                AND start_station_name = 'Central Park S & 6 Ave'\n",
      "        ),\n",
      "        STRUCT(TRUE AS perform_aggregation)\n",
      "    )\n",
      "```\n"
     ]
    }
   ],
   "source": [
    "print(rewrite['ml_generate_text_llm_result'][0])"
   ]
  },
  {
   "cell_type": "code",
   "execution_count": 145,
   "id": "52c8592a-7d33-4ca7-98f9-8394f96aee89",
   "metadata": {},
   "outputs": [
    {
     "name": "stdout",
     "output_type": "stream",
     "text": [
      "\n",
      "        SELECT 'Central Park North & Adam Clayton Powell Blvd' as start_station_name, *\n",
      "        FROM ML.EVALUATE(\n",
      "            MODEL `statmike-mlops-349915.applied_forecasting.forecasting-data_prepped_arimaplusxreg_1`,\n",
      "            (\n",
      "                SELECT starttime, num_trips,\n",
      "                    avg_tripduration, pct_subscriber, ratio_gender\n",
      "                FROM `statmike-mlops-349915.applied_forecasting.forecasting-data_prepped`\n",
      "                WHERE splits = 'TEST'\n",
      "                    AND start_station_name = 'Central Park S & 6 Ave'\n",
      "            ),\n",
      "            STRUCT(TRUE AS perform_aggregation)\n",
      "        )\n",
      "    UNION ALL\n",
      "        SELECT 'Central Park S & 6 Ave' as start_station_name, *\n",
      "        FROM ML.EVALUATE(\n",
      "            MODEL `statmike-mlops-349915.applied_forecasting.forecasting-data_prepped_arimaplusxreg_2`,\n",
      "            (\n",
      "                SELECT starttime, num_trips,\n",
      "                    avg_tripduration, pct_subscriber, ratio_gender\n",
      "                FROM `statmike-mlops-349915.applied_forecasting.forecasting-data_prepped`\n",
      "                WHERE splits = 'TEST'\n",
      "                    AND start_station_name = 'Central Park S & 6 Ave'\n",
      "            ),\n",
      "            STRUCT(TRUE AS perform_aggregation)\n",
      "        )\n",
      "    UNION ALL\n",
      "        SELECT 'Central Park W & W 96 St' as start_station_name, *\n",
      "        FROM ML.EVALUATE(\n",
      "            MODEL `statmike-mlops-349915.applied_forecasting.forecasting-data_prepped_arimaplusxreg_3`,\n",
      "            (\n",
      "                SELECT starttime, num_trips,\n",
      "                    avg_tripduration, pct_subscriber, ratio_gender\n",
      "                FROM `statmike-mlops-349915.applied_forecasting.forecasting-data_prepped`\n",
      "                WHERE splits = 'TEST'\n",
      "                    AND start_station_name = 'Central Park S & 6 Ave'\n",
      "            ),\n",
      "            STRUCT(TRUE AS perform_aggregation)\n",
      "        )\n",
      "    UNION ALL\n",
      "        SELECT 'Central Park West & W 100 St' as start_station_name, *\n",
      "        FROM ML.EVALUATE(\n",
      "            MODEL `statmike-mlops-349915.applied_forecasting.forecasting-data_prepped_arimaplusxreg_4`,\n",
      "            (\n",
      "                SELECT starttime, num_trips,\n",
      "                    avg_tripduration, pct_subscriber, ratio_gender\n",
      "                FROM `statmike-mlops-349915.applied_forecasting.forecasting-data_prepped`\n",
      "                WHERE splits = 'TEST'\n",
      "                    AND start_station_name = 'Central Park S & 6 Ave'\n",
      "            ),\n",
      "            STRUCT(TRUE AS perform_aggregation)\n",
      "        )\n",
      "    UNION ALL\n",
      "        SELECT 'Central Park West & W 102 St' as start_station_name, *\n",
      "        FROM ML.EVALUATE(\n",
      "            MODEL `statmike-mlops-349915.applied_forecasting.forecasting-data_prepped_arimaplusxreg_5`,\n",
      "            (\n",
      "                SELECT starttime, num_trips,\n",
      "                    avg_tripduration, pct_subscriber, ratio_gender\n",
      "                FROM `statmike-mlops-349915.applied_forecasting.forecasting-data_prepped`\n",
      "                WHERE splits = 'TEST'\n",
      "                    AND start_station_name = 'Central Park S & 6 Ave'\n",
      "            ),\n",
      "            STRUCT(TRUE AS perform_aggregation)\n",
      "        )\n",
      "    UNION ALL\n",
      "        SELECT 'Central Park West & W 68 St' as start_station_name, *\n",
      "        FROM ML.EVALUATE(\n",
      "            MODEL `statmike-mlops-349915.applied_forecasting.forecasting-data_prepped_arimaplusxreg_6`,\n",
      "            (\n",
      "                SELECT starttime, num_trips,\n",
      "                    avg_tripduration, pct_subscriber, ratio_gender\n",
      "                FROM `statmike-mlops-349915.applied_forecasting.forecasting-data_prepped`\n",
      "                WHERE splits = 'TEST'\n",
      "                    AND start_station_name = 'Central Park S & 6 Ave'\n",
      "            ),\n",
      "            STRUCT(TRUE AS perform_aggregation)\n",
      "        )\n",
      "    UNION ALL\n",
      "        SELECT 'Central Park West & W 72 St' as start_station_name, *\n",
      "        FROM ML.EVALUATE(\n",
      "            MODEL `statmike-mlops-349915.applied_forecasting.forecasting-data_prepped_arimaplusxreg_7`,\n",
      "            (\n",
      "                SELECT starttime, num_trips,\n",
      "                    avg_tripduration, pct_subscriber, ratio_gender\n",
      "                FROM `statmike-mlops-349915.applied_forecasting.forecasting-data_prepped`\n",
      "                WHERE splits = 'TEST'\n",
      "                    AND start_station_name = 'Central Park S & 6 Ave'\n",
      "            ),\n",
      "            STRUCT(TRUE AS perform_aggregation)\n",
      "        )\n",
      "    UNION ALL\n",
      "        SELECT 'Central Park West & W 76 St' as start_station_name, *\n",
      "        FROM ML.EVALUATE(\n",
      "            MODEL `statmike-mlops-349915.applied_forecasting.forecasting-data_prepped_arimaplusxreg_8`,\n",
      "            (\n",
      "                SELECT starttime, num_trips,\n",
      "                    avg_tripduration, pct_subscriber, ratio_gender\n",
      "                FROM `statmike-mlops-349915.applied_forecasting.forecasting-data_prepped`\n",
      "                WHERE splits = 'TEST'\n",
      "                    AND start_station_name = 'Central Park S & 6 Ave'\n",
      "            ),\n",
      "            STRUCT(TRUE AS perform_aggregation)\n",
      "        )\n",
      "    UNION ALL\n",
      "        SELECT 'Central Park West & W 85 St' as start_station_name, *\n",
      "        FROM ML.EVALUATE(\n",
      "            MODEL `statmike-mlops-349915.applied_forecasting.forecasting-data_prepped_arimaplusxreg_9`,\n",
      "            (\n",
      "                SELECT starttime, num_trips,\n",
      "                    avg_tripduration, pct_subscriber, ratio_gender\n",
      "                FROM `statmike-mlops-349915.applied_forecasting.forecasting-data_prepped`\n",
      "                WHERE splits = 'TEST'\n",
      "                    AND start_station_name = 'Central Park S & 6 Ave'\n",
      "            ),\n",
      "            STRUCT(TRUE AS perform_aggregation)\n",
      "        )\n",
      "    UNION ALL\n",
      "        SELECT 'Grand Army Plaza & Central Park S' as start_station_name, *\n",
      "        FROM ML.EVALUATE(\n",
      "            MODEL `statmike-mlops-349915.applied_forecasting.forecasting-data_prepped_arimaplusxreg_10`,\n",
      "            (\n",
      "                SELECT starttime, num_trips,\n",
      "                    avg_tripduration, pct_subscriber, ratio_gender\n",
      "                FROM `statmike-mlops-349915.applied_forecasting.forecasting-data_prepped`\n",
      "                WHERE splits = 'TEST'\n",
      "                    AND start_station_name = 'Central Park S & 6 Ave'\n",
      "            ),\n",
      "            STRUCT(TRUE AS perform_aggregation)\n",
      "        )\n",
      "    UNION ALL\n",
      "        SELECT 'W 106 St & Central Park West' as start_station_name, *\n",
      "        FROM ML.EVALUATE(\n",
      "            MODEL `statmike-mlops-349915.applied_forecasting.forecasting-data_prepped_arimaplusxreg_11`,\n",
      "            (\n",
      "                SELECT starttime, num_trips,\n",
      "                    avg_tripduration, pct_subscriber, ratio_gender\n",
      "                FROM `statmike-mlops-349915.applied_forecasting.forecasting-data_prepped`\n",
      "                WHERE splits = 'TEST'\n",
      "                    AND start_station_name = 'Central Park S & 6 Ave'\n",
      "            ),\n",
      "            STRUCT(TRUE AS perform_aggregation)\n",
      "        )\n",
      "    UNION ALL\n",
      "        SELECT 'W 82 St & Central Park West' as start_station_name, *\n",
      "        FROM ML.EVALUATE(\n",
      "            MODEL `statmike-mlops-349915.applied_forecasting.forecasting-data_prepped_arimaplusxreg_12`,\n",
      "            (\n",
      "                SELECT starttime, num_trips,\n",
      "                    avg_tripduration, pct_subscriber, ratio_gender\n",
      "                FROM `statmike-mlops-349915.applied_forecasting.forecasting-data_prepped`\n",
      "                WHERE splits = 'TEST'\n",
      "                    AND start_station_name = 'Central Park S & 6 Ave'\n",
      "            ),\n",
      "            STRUCT(TRUE AS perform_aggregation)\n",
      "        )\n",
      "    \n"
     ]
    }
   ],
   "source": [
    "print(results['query'][0])"
   ]
  },
  {
   "cell_type": "markdown",
   "id": "84113a16-8c66-454a-af22-740a1aab6f31",
   "metadata": {},
   "source": [
    "### Try Running The Revised Query\n",
    "\n",
    "As Long as the referenced object still exist and the query is not overwriting an object, give the syntax a try:"
   ]
  },
  {
   "cell_type": "code",
   "execution_count": 146,
   "id": "0e3e313a-de07-4df1-8762-cdc8c431cf0c",
   "metadata": {},
   "outputs": [
    {
     "name": "stdout",
     "output_type": "stream",
     "text": [
      "    SELECT start_station_name, *\n",
      "    FROM ML.EVALUATE(\n",
      "        MODEL `statmike-mlops-349915.applied_forecasting.forecasting-data_prepped_arimaplusxreg_*`,\n",
      "        (\n",
      "            SELECT starttime, num_trips,\n",
      "                avg_tripduration, pct_subscriber, ratio_gender\n",
      "            FROM `statmike-mlops-349915.applied_forecasting.forecasting-data_prepped`\n",
      "            WHERE splits = 'TEST'\n",
      "                AND start_station_name = 'Central Park S & 6 Ave'\n",
      "        ),\n",
      "        STRUCT(TRUE AS perform_aggregation)\n",
      "    )\n"
     ]
    }
   ],
   "source": [
    "# remove the first and last line\n",
    "rewrite_query = '\\n'.join(rewrite['ml_generate_text_llm_result'][0].split('\\n')[1:-1])\n",
    "print(rewrite_query)"
   ]
  },
  {
   "cell_type": "code",
   "execution_count": 147,
   "id": "015726ca-1399-41d2-902c-97d8207cc6b7",
   "metadata": {
    "scrolled": true,
    "tags": []
   },
   "outputs": [
    {
     "ename": "BadRequest",
     "evalue": "400 Model not found: `statmike-mlops-349915.applied_forecasting.forecasting-data_prepped_arimaplusxreg_*` at [3:15]\n\nLocation: US\nJob ID: d5b06d30-aaa0-4be3-aa72-8cff91b05249\n",
     "output_type": "error",
     "traceback": [
      "\u001b[0;31m---------------------------------------------------------------------------\u001b[0m",
      "\u001b[0;31mBadRequest\u001b[0m                                Traceback (most recent call last)",
      "\u001b[0;32m/var/tmp/ipykernel_3378/1139543718.py\u001b[0m in \u001b[0;36m<module>\u001b[0;34m\u001b[0m\n\u001b[0;32m----> 1\u001b[0;31m \u001b[0mbq\u001b[0m\u001b[0;34m.\u001b[0m\u001b[0mquery\u001b[0m\u001b[0;34m(\u001b[0m\u001b[0mrewrite_query\u001b[0m\u001b[0;34m)\u001b[0m\u001b[0;34m.\u001b[0m\u001b[0mto_dataframe\u001b[0m\u001b[0;34m(\u001b[0m\u001b[0;34m)\u001b[0m\u001b[0;34m\u001b[0m\u001b[0;34m\u001b[0m\u001b[0m\n\u001b[0m",
      "\u001b[0;32m/opt/conda/lib/python3.7/site-packages/google/cloud/bigquery/job/query.py\u001b[0m in \u001b[0;36mto_dataframe\u001b[0;34m(self, bqstorage_client, dtypes, progress_bar_type, create_bqstorage_client, max_results, geography_as_object)\u001b[0m\n\u001b[1;32m   1685\u001b[0m                 \u001b[0;34m:\u001b[0m\u001b[0mmod\u001b[0m\u001b[0;34m:\u001b[0m\u001b[0;31m`\u001b[0m\u001b[0mshapely\u001b[0m\u001b[0;31m`\u001b[0m \u001b[0mlibrary\u001b[0m \u001b[0mcannot\u001b[0m \u001b[0mbe\u001b[0m \u001b[0mimported\u001b[0m\u001b[0;34m.\u001b[0m\u001b[0;34m\u001b[0m\u001b[0;34m\u001b[0m\u001b[0m\n\u001b[1;32m   1686\u001b[0m         \"\"\"\n\u001b[0;32m-> 1687\u001b[0;31m         \u001b[0mquery_result\u001b[0m \u001b[0;34m=\u001b[0m \u001b[0mwait_for_query\u001b[0m\u001b[0;34m(\u001b[0m\u001b[0mself\u001b[0m\u001b[0;34m,\u001b[0m \u001b[0mprogress_bar_type\u001b[0m\u001b[0;34m,\u001b[0m \u001b[0mmax_results\u001b[0m\u001b[0;34m=\u001b[0m\u001b[0mmax_results\u001b[0m\u001b[0;34m)\u001b[0m\u001b[0;34m\u001b[0m\u001b[0;34m\u001b[0m\u001b[0m\n\u001b[0m\u001b[1;32m   1688\u001b[0m         return query_result.to_dataframe(\n\u001b[1;32m   1689\u001b[0m             \u001b[0mbqstorage_client\u001b[0m\u001b[0;34m=\u001b[0m\u001b[0mbqstorage_client\u001b[0m\u001b[0;34m,\u001b[0m\u001b[0;34m\u001b[0m\u001b[0;34m\u001b[0m\u001b[0m\n",
      "\u001b[0;32m/opt/conda/lib/python3.7/site-packages/google/cloud/bigquery/_tqdm_helpers.py\u001b[0m in \u001b[0;36mwait_for_query\u001b[0;34m(query_job, progress_bar_type, max_results)\u001b[0m\n\u001b[1;32m    102\u001b[0m     )\n\u001b[1;32m    103\u001b[0m     \u001b[0;32mif\u001b[0m \u001b[0mprogress_bar\u001b[0m \u001b[0;32mis\u001b[0m \u001b[0;32mNone\u001b[0m\u001b[0;34m:\u001b[0m\u001b[0;34m\u001b[0m\u001b[0;34m\u001b[0m\u001b[0m\n\u001b[0;32m--> 104\u001b[0;31m         \u001b[0;32mreturn\u001b[0m \u001b[0mquery_job\u001b[0m\u001b[0;34m.\u001b[0m\u001b[0mresult\u001b[0m\u001b[0;34m(\u001b[0m\u001b[0mmax_results\u001b[0m\u001b[0;34m=\u001b[0m\u001b[0mmax_results\u001b[0m\u001b[0;34m)\u001b[0m\u001b[0;34m\u001b[0m\u001b[0;34m\u001b[0m\u001b[0m\n\u001b[0m\u001b[1;32m    105\u001b[0m \u001b[0;34m\u001b[0m\u001b[0m\n\u001b[1;32m    106\u001b[0m     \u001b[0mi\u001b[0m \u001b[0;34m=\u001b[0m \u001b[0;36m0\u001b[0m\u001b[0;34m\u001b[0m\u001b[0;34m\u001b[0m\u001b[0m\n",
      "\u001b[0;32m/opt/conda/lib/python3.7/site-packages/google/cloud/bigquery/job/query.py\u001b[0m in \u001b[0;36mresult\u001b[0;34m(self, page_size, max_results, retry, timeout, start_index, job_retry)\u001b[0m\n\u001b[1;32m   1497\u001b[0m                 \u001b[0mdo_get_result\u001b[0m \u001b[0;34m=\u001b[0m \u001b[0mjob_retry\u001b[0m\u001b[0;34m(\u001b[0m\u001b[0mdo_get_result\u001b[0m\u001b[0;34m)\u001b[0m\u001b[0;34m\u001b[0m\u001b[0;34m\u001b[0m\u001b[0m\n\u001b[1;32m   1498\u001b[0m \u001b[0;34m\u001b[0m\u001b[0m\n\u001b[0;32m-> 1499\u001b[0;31m             \u001b[0mdo_get_result\u001b[0m\u001b[0;34m(\u001b[0m\u001b[0;34m)\u001b[0m\u001b[0;34m\u001b[0m\u001b[0;34m\u001b[0m\u001b[0m\n\u001b[0m\u001b[1;32m   1500\u001b[0m \u001b[0;34m\u001b[0m\u001b[0m\n\u001b[1;32m   1501\u001b[0m         \u001b[0;32mexcept\u001b[0m \u001b[0mexceptions\u001b[0m\u001b[0;34m.\u001b[0m\u001b[0mGoogleAPICallError\u001b[0m \u001b[0;32mas\u001b[0m \u001b[0mexc\u001b[0m\u001b[0;34m:\u001b[0m\u001b[0;34m\u001b[0m\u001b[0;34m\u001b[0m\u001b[0m\n",
      "\u001b[0;32m/opt/conda/lib/python3.7/site-packages/google/api_core/retry.py\u001b[0m in \u001b[0;36mretry_wrapped_func\u001b[0;34m(*args, **kwargs)\u001b[0m\n\u001b[1;32m    352\u001b[0m                 \u001b[0msleep_generator\u001b[0m\u001b[0;34m,\u001b[0m\u001b[0;34m\u001b[0m\u001b[0;34m\u001b[0m\u001b[0m\n\u001b[1;32m    353\u001b[0m                 \u001b[0mself\u001b[0m\u001b[0;34m.\u001b[0m\u001b[0m_timeout\u001b[0m\u001b[0;34m,\u001b[0m\u001b[0;34m\u001b[0m\u001b[0;34m\u001b[0m\u001b[0m\n\u001b[0;32m--> 354\u001b[0;31m                 \u001b[0mon_error\u001b[0m\u001b[0;34m=\u001b[0m\u001b[0mon_error\u001b[0m\u001b[0;34m,\u001b[0m\u001b[0;34m\u001b[0m\u001b[0;34m\u001b[0m\u001b[0m\n\u001b[0m\u001b[1;32m    355\u001b[0m             )\n\u001b[1;32m    356\u001b[0m \u001b[0;34m\u001b[0m\u001b[0m\n",
      "\u001b[0;32m/opt/conda/lib/python3.7/site-packages/google/api_core/retry.py\u001b[0m in \u001b[0;36mretry_target\u001b[0;34m(target, predicate, sleep_generator, timeout, on_error, **kwargs)\u001b[0m\n\u001b[1;32m    189\u001b[0m     \u001b[0;32mfor\u001b[0m \u001b[0msleep\u001b[0m \u001b[0;32min\u001b[0m \u001b[0msleep_generator\u001b[0m\u001b[0;34m:\u001b[0m\u001b[0;34m\u001b[0m\u001b[0;34m\u001b[0m\u001b[0m\n\u001b[1;32m    190\u001b[0m         \u001b[0;32mtry\u001b[0m\u001b[0;34m:\u001b[0m\u001b[0;34m\u001b[0m\u001b[0;34m\u001b[0m\u001b[0m\n\u001b[0;32m--> 191\u001b[0;31m             \u001b[0;32mreturn\u001b[0m \u001b[0mtarget\u001b[0m\u001b[0;34m(\u001b[0m\u001b[0;34m)\u001b[0m\u001b[0;34m\u001b[0m\u001b[0;34m\u001b[0m\u001b[0m\n\u001b[0m\u001b[1;32m    192\u001b[0m \u001b[0;34m\u001b[0m\u001b[0m\n\u001b[1;32m    193\u001b[0m         \u001b[0;31m# pylint: disable=broad-except\u001b[0m\u001b[0;34m\u001b[0m\u001b[0;34m\u001b[0m\u001b[0;34m\u001b[0m\u001b[0m\n",
      "\u001b[0;32m/opt/conda/lib/python3.7/site-packages/google/cloud/bigquery/job/query.py\u001b[0m in \u001b[0;36mdo_get_result\u001b[0;34m()\u001b[0m\n\u001b[1;32m   1487\u001b[0m                     \u001b[0mself\u001b[0m\u001b[0;34m.\u001b[0m\u001b[0m_job_retry\u001b[0m \u001b[0;34m=\u001b[0m \u001b[0mjob_retry\u001b[0m\u001b[0;34m\u001b[0m\u001b[0;34m\u001b[0m\u001b[0m\n\u001b[1;32m   1488\u001b[0m \u001b[0;34m\u001b[0m\u001b[0m\n\u001b[0;32m-> 1489\u001b[0;31m                 \u001b[0msuper\u001b[0m\u001b[0;34m(\u001b[0m\u001b[0mQueryJob\u001b[0m\u001b[0;34m,\u001b[0m \u001b[0mself\u001b[0m\u001b[0;34m)\u001b[0m\u001b[0;34m.\u001b[0m\u001b[0mresult\u001b[0m\u001b[0;34m(\u001b[0m\u001b[0mretry\u001b[0m\u001b[0;34m=\u001b[0m\u001b[0mretry\u001b[0m\u001b[0;34m,\u001b[0m \u001b[0mtimeout\u001b[0m\u001b[0;34m=\u001b[0m\u001b[0mtimeout\u001b[0m\u001b[0;34m)\u001b[0m\u001b[0;34m\u001b[0m\u001b[0;34m\u001b[0m\u001b[0m\n\u001b[0m\u001b[1;32m   1490\u001b[0m \u001b[0;34m\u001b[0m\u001b[0m\n\u001b[1;32m   1491\u001b[0m                 \u001b[0;31m# Since the job could already be \"done\" (e.g. got a finished job\u001b[0m\u001b[0;34m\u001b[0m\u001b[0;34m\u001b[0m\u001b[0;34m\u001b[0m\u001b[0m\n",
      "\u001b[0;32m/opt/conda/lib/python3.7/site-packages/google/cloud/bigquery/job/base.py\u001b[0m in \u001b[0;36mresult\u001b[0;34m(self, retry, timeout)\u001b[0m\n\u001b[1;32m    726\u001b[0m \u001b[0;34m\u001b[0m\u001b[0m\n\u001b[1;32m    727\u001b[0m         \u001b[0mkwargs\u001b[0m \u001b[0;34m=\u001b[0m \u001b[0;34m{\u001b[0m\u001b[0;34m}\u001b[0m \u001b[0;32mif\u001b[0m \u001b[0mretry\u001b[0m \u001b[0;32mis\u001b[0m \u001b[0mDEFAULT_RETRY\u001b[0m \u001b[0;32melse\u001b[0m \u001b[0;34m{\u001b[0m\u001b[0;34m\"retry\"\u001b[0m\u001b[0;34m:\u001b[0m \u001b[0mretry\u001b[0m\u001b[0;34m}\u001b[0m\u001b[0;34m\u001b[0m\u001b[0;34m\u001b[0m\u001b[0m\n\u001b[0;32m--> 728\u001b[0;31m         \u001b[0;32mreturn\u001b[0m \u001b[0msuper\u001b[0m\u001b[0;34m(\u001b[0m\u001b[0m_AsyncJob\u001b[0m\u001b[0;34m,\u001b[0m \u001b[0mself\u001b[0m\u001b[0;34m)\u001b[0m\u001b[0;34m.\u001b[0m\u001b[0mresult\u001b[0m\u001b[0;34m(\u001b[0m\u001b[0mtimeout\u001b[0m\u001b[0;34m=\u001b[0m\u001b[0mtimeout\u001b[0m\u001b[0;34m,\u001b[0m \u001b[0;34m**\u001b[0m\u001b[0mkwargs\u001b[0m\u001b[0;34m)\u001b[0m\u001b[0;34m\u001b[0m\u001b[0;34m\u001b[0m\u001b[0m\n\u001b[0m\u001b[1;32m    729\u001b[0m \u001b[0;34m\u001b[0m\u001b[0m\n\u001b[1;32m    730\u001b[0m     \u001b[0;32mdef\u001b[0m \u001b[0mcancelled\u001b[0m\u001b[0;34m(\u001b[0m\u001b[0mself\u001b[0m\u001b[0;34m)\u001b[0m\u001b[0;34m:\u001b[0m\u001b[0;34m\u001b[0m\u001b[0;34m\u001b[0m\u001b[0m\n",
      "\u001b[0;32m/opt/conda/lib/python3.7/site-packages/google/api_core/future/polling.py\u001b[0m in \u001b[0;36mresult\u001b[0;34m(self, timeout, retry, polling)\u001b[0m\n\u001b[1;32m    259\u001b[0m             \u001b[0;31m# pylint: disable=raising-bad-type\u001b[0m\u001b[0;34m\u001b[0m\u001b[0;34m\u001b[0m\u001b[0;34m\u001b[0m\u001b[0m\n\u001b[1;32m    260\u001b[0m             \u001b[0;31m# Pylint doesn't recognize that this is valid in this case.\u001b[0m\u001b[0;34m\u001b[0m\u001b[0;34m\u001b[0m\u001b[0;34m\u001b[0m\u001b[0m\n\u001b[0;32m--> 261\u001b[0;31m             \u001b[0;32mraise\u001b[0m \u001b[0mself\u001b[0m\u001b[0;34m.\u001b[0m\u001b[0m_exception\u001b[0m\u001b[0;34m\u001b[0m\u001b[0;34m\u001b[0m\u001b[0m\n\u001b[0m\u001b[1;32m    262\u001b[0m \u001b[0;34m\u001b[0m\u001b[0m\n\u001b[1;32m    263\u001b[0m         \u001b[0;32mreturn\u001b[0m \u001b[0mself\u001b[0m\u001b[0;34m.\u001b[0m\u001b[0m_result\u001b[0m\u001b[0;34m\u001b[0m\u001b[0;34m\u001b[0m\u001b[0m\n",
      "\u001b[0;31mBadRequest\u001b[0m: 400 Model not found: `statmike-mlops-349915.applied_forecasting.forecasting-data_prepped_arimaplusxreg_*` at [3:15]\n\nLocation: US\nJob ID: d5b06d30-aaa0-4be3-aa72-8cff91b05249\n"
     ]
    }
   ],
   "source": [
    "bq.query(rewrite_query).to_dataframe()"
   ]
  },
  {
   "cell_type": "markdown",
   "id": "0b100060-dcf0-4f75-ac6a-07ee9d246446",
   "metadata": {},
   "source": [
    "The query does not run successfully.  It properly uses a wildcard but the objects are models rather than tables. A different LLM, one focused on code, is probably better at this rewrite step.  Let's try Vertex AI Codey API's!"
   ]
  },
  {
   "cell_type": "markdown",
   "id": "6a3a641b-cd4f-4be3-9aee-6929adb3e710",
   "metadata": {},
   "source": [
    "---\n",
    "## Vertex AI Codey APIs\n",
    "\n",
    "CodeGenerationModel [Guide](https://cloud.google.com/vertex-ai/docs/generative-ai/code/code-generation-prompts), [API](https://cloud.google.com/python/docs/reference/aiplatform/latest/vertexai.language_models.CodeGenerationModel)"
   ]
  },
  {
   "cell_type": "code",
   "execution_count": 15,
   "id": "6260164c-4cab-418c-bd19-7963f8db74fc",
   "metadata": {},
   "outputs": [],
   "source": [
    "codegen_model = vertexai.language_models.CodeGenerationModel.from_pretrained('code-bison@latest')"
   ]
  },
  {
   "cell_type": "code",
   "execution_count": 27,
   "id": "d34582bb-1fce-433a-a299-cb66e48b2c1e",
   "metadata": {},
   "outputs": [
    {
     "name": "stdout",
     "output_type": "stream",
     "text": [
      "```\n",
      "WITH base_subquery AS (\n",
      "  SELECT starttime, num_trips, avg_tripduration, pct_subscriber, ratio_gender\n",
      "  FROM `statmike-mlops-349915.applied_forecasting.forecasting-data_prepped`\n",
      "  WHERE splits = 'TEST'\n",
      "    AND start_station_name = 'Central Park S & 6 Ave'\n",
      ")\n",
      "SELECT\n",
      "  'Central Park North & Adam Clayton Powell Blvd' AS start_station_name,\n",
      "  *\n",
      "FROM ML.EVALUATE(\n",
      "  MODEL `statmike-mlops-349915.applied_forecasting.forecasting-data_prepped_arimaplusxreg_1`,\n",
      "  TABLE base_subquery,\n",
      "  STRUCT(TRUE AS perform_aggregation)\n",
      ")\n",
      "\n",
      "UNION ALL\n",
      "\n",
      "SELECT\n",
      "  'Central Park S & 6 Ave' AS start_station_name,\n",
      "  *\n",
      "FROM ML.EVALUATE(\n",
      "  MODEL `statmike-mlops-349915.applied_forecasting.forecasting-data_prepped_arimaplusxreg_2`,\n",
      "  TABLE base_subquery,\n",
      "  STRUCT(TRUE AS perform_aggregation)\n",
      ")\n",
      "\n",
      "UNION ALL\n",
      "\n",
      "SELECT\n",
      "  'Central Park W & W 96 St' AS start_station_name,\n",
      "  *\n",
      "FROM ML.EVALUATE(\n",
      "  MODEL `statmike-mlops-349915.applied_forecasting.forecasting-data_prepped_arimaplusxreg_3`,\n",
      "  TABLE base_subquery,\n",
      "  STRUCT(TRUE AS perform_aggregation)\n",
      ")\n",
      "\n",
      "UNION ALL\n",
      "\n",
      "SELECT\n",
      "  'Central Park West & W 100 St' AS start_station_name,\n",
      "  *\n",
      "FROM ML.EVALUATE(\n",
      "  MODEL `statmike-mlops-349915.applied_forecasting.forecasting-data_prepped_arimaplusxreg_4`,\n",
      "  TABLE base_subquery,\n",
      "  STRUCT(TRUE AS perform_aggregation)\n",
      ")\n",
      "\n",
      "UNION ALL\n",
      "\n",
      "SELECT\n",
      "  'Central Park West & W 102 St' AS start_station_name,\n",
      "  *\n",
      "FROM ML.EVALUATE(\n",
      "  MODEL `statmike-mlops-349915.applied_forecasting.forecasting-data_prepped_arimaplusxreg_5`,\n",
      "  TABLE base_subquery,\n",
      "  STRUCT(TRUE AS perform_aggregation)\n",
      ")\n",
      "\n",
      "UNION ALL\n",
      "\n",
      "SELECT\n",
      "  'Central Park West & W 68 St' AS start_station_name,\n",
      "  *\n",
      "FROM ML.EVALUATE(\n",
      "  MODEL `statmike-mlops-349915.applied_forecasting.forecasting-data_prepped_arimaplusxreg_6`,\n",
      "  TABLE base_subquery,\n",
      "  STRUCT(TRUE AS perform_aggregation)\n",
      ")\n",
      "\n",
      "UNION ALL\n",
      "\n",
      "SELECT\n",
      "  'Central Park West & W 72 St' AS start_station_name,\n",
      "  *\n",
      "FROM ML.EVALUATE(\n",
      "  MODEL `statmike-mlops-349915.applied_forecasting.forecasting-data_prepped_arimaplusxreg_7`,\n",
      "  TABLE base_subquery,\n",
      "  STRUCT(TRUE AS perform_aggregation)\n",
      ")\n",
      "\n",
      "UNION ALL\n",
      "\n",
      "SELECT\n",
      "  'Central Park West & W 76 St' AS start_station_name,\n",
      "  *\n",
      "FROM ML.EVALUATE(\n",
      "  MODEL `statmike-mlops-349915.applied_forecasting.forecasting-data_prepped_arimaplusxreg_8`,\n",
      "  TABLE base_subquery,\n",
      "  STRUCT(TRUE AS perform_aggregation)\n",
      ")\n",
      "\n",
      "UNION ALL\n",
      "\n",
      "SELECT\n",
      "  'Central Park West & W 85 St' AS start_station_name,\n",
      "  *\n",
      "FROM ML.EVALUATE(\n",
      "  MODEL `statmike-mlops-349915.applied_forecasting.forecasting-data_prepped_arimaplusxreg_9`,\n",
      "  TABLE base_subquery,\n",
      "  STRUCT(TRUE AS perform_aggregation)\n",
      ")\n",
      "\n",
      "UNION ALL\n",
      "\n",
      "SELECT\n",
      "  'Grand Army Plaza & Central Park S' AS start_station_name,\n",
      "  *\n",
      "FROM ML.EVALUATE(\n",
      "  MODEL `statmike-mlops-349915.applied_forecasting.forecasting-data_prepped_arimaplusxreg_10`,\n",
      "  TABLE base_subquery,\n",
      "  STRUCT(TRUE AS perform_aggregation)\n",
      ")\n",
      "\n",
      "UNION ALL\n",
      "\n",
      "SELECT\n",
      "  'W 106 St & Central Park West' AS start_station_name,\n",
      "  *\n",
      "FROM ML.EVALUATE(\n",
      "  MODEL `statmike-mlops-349915.applied_forecasting.forecasting-data_prepped_arimaplusxreg_11`,\n",
      "  TABLE base_subquery,\n",
      "  STRUCT(TRUE AS perform_aggregation)\n",
      ")\n",
      "\n",
      "UNION ALL\n",
      "\n",
      "SELECT\n",
      "  'W 82 St & Central Park West' AS start_station_name,\n",
      "  *\n",
      "FROM ML.EVALUATE(\n",
      "  MODEL `statmike-mlops-349915.applied_forecasting.forecasting-data_prepped_arimaplusxreg_12`,\n",
      "  TABLE base_subquery,\n",
      "  STRUCT(TRUE AS perform_aggregation)\n",
      ")\n",
      "```\n"
     ]
    }
   ],
   "source": [
    "rewrite_codey = codegen_model.predict(f\"Rewrite the following query for BigQuery with GoogleSQL and optimize for length. When working the BigQuery ML functions make sure to use the TABLE keyword to refer tables as subqueries and note the BQML function dont use wildcards.:\\n {results['query'][0]}\", max_output_tokens = 2000).text\n",
    "print(rewrite_codey)"
   ]
  },
  {
   "cell_type": "code",
   "execution_count": 28,
   "id": "cb2ae8b8-36b2-4862-ae5d-b059f9874aa7",
   "metadata": {},
   "outputs": [
    {
     "data": {
      "text/html": [
       "<div>\n",
       "<style scoped>\n",
       "    .dataframe tbody tr th:only-of-type {\n",
       "        vertical-align: middle;\n",
       "    }\n",
       "\n",
       "    .dataframe tbody tr th {\n",
       "        vertical-align: top;\n",
       "    }\n",
       "\n",
       "    .dataframe thead th {\n",
       "        text-align: right;\n",
       "    }\n",
       "</style>\n",
       "<table border=\"1\" class=\"dataframe\">\n",
       "  <thead>\n",
       "    <tr style=\"text-align: right;\">\n",
       "      <th></th>\n",
       "      <th>start_station_name</th>\n",
       "      <th>mean_absolute_error</th>\n",
       "      <th>mean_squared_error</th>\n",
       "      <th>root_mean_squared_error</th>\n",
       "      <th>mean_absolute_percentage_error</th>\n",
       "      <th>symmetric_mean_absolute_percentage_error</th>\n",
       "    </tr>\n",
       "  </thead>\n",
       "  <tbody>\n",
       "    <tr>\n",
       "      <th>0</th>\n",
       "      <td>Grand Army Plaza &amp; Central Park S</td>\n",
       "      <td>119.004419</td>\n",
       "      <td>19427.657590</td>\n",
       "      <td>139.383132</td>\n",
       "      <td>41.644377</td>\n",
       "      <td>41.804210</td>\n",
       "    </tr>\n",
       "    <tr>\n",
       "      <th>1</th>\n",
       "      <td>Central Park West &amp; W 68 St</td>\n",
       "      <td>154.101324</td>\n",
       "      <td>33857.047915</td>\n",
       "      <td>184.002848</td>\n",
       "      <td>48.928761</td>\n",
       "      <td>56.025046</td>\n",
       "    </tr>\n",
       "    <tr>\n",
       "      <th>2</th>\n",
       "      <td>W 82 St &amp; Central Park West</td>\n",
       "      <td>238.753145</td>\n",
       "      <td>72013.375008</td>\n",
       "      <td>268.353079</td>\n",
       "      <td>67.112579</td>\n",
       "      <td>105.230112</td>\n",
       "    </tr>\n",
       "    <tr>\n",
       "      <th>3</th>\n",
       "      <td>Central Park West &amp; W 72 St</td>\n",
       "      <td>121.883951</td>\n",
       "      <td>22554.630553</td>\n",
       "      <td>150.181991</td>\n",
       "      <td>41.739618</td>\n",
       "      <td>42.696262</td>\n",
       "    </tr>\n",
       "    <tr>\n",
       "      <th>4</th>\n",
       "      <td>Central Park West &amp; W 102 St</td>\n",
       "      <td>260.029256</td>\n",
       "      <td>83697.364612</td>\n",
       "      <td>289.304968</td>\n",
       "      <td>74.224959</td>\n",
       "      <td>122.457784</td>\n",
       "    </tr>\n",
       "    <tr>\n",
       "      <th>5</th>\n",
       "      <td>Central Park W &amp; W 96 St</td>\n",
       "      <td>202.442318</td>\n",
       "      <td>53031.090207</td>\n",
       "      <td>230.284802</td>\n",
       "      <td>56.376148</td>\n",
       "      <td>81.270972</td>\n",
       "    </tr>\n",
       "    <tr>\n",
       "      <th>6</th>\n",
       "      <td>Central Park West &amp; W 100 St</td>\n",
       "      <td>257.895012</td>\n",
       "      <td>83302.784732</td>\n",
       "      <td>288.622218</td>\n",
       "      <td>72.864692</td>\n",
       "      <td>119.704992</td>\n",
       "    </tr>\n",
       "    <tr>\n",
       "      <th>7</th>\n",
       "      <td>Central Park West &amp; W 76 St</td>\n",
       "      <td>214.290854</td>\n",
       "      <td>57026.501450</td>\n",
       "      <td>238.802222</td>\n",
       "      <td>62.764186</td>\n",
       "      <td>90.689374</td>\n",
       "    </tr>\n",
       "    <tr>\n",
       "      <th>8</th>\n",
       "      <td>Central Park S &amp; 6 Ave</td>\n",
       "      <td>84.885617</td>\n",
       "      <td>12792.523379</td>\n",
       "      <td>113.104038</td>\n",
       "      <td>36.419940</td>\n",
       "      <td>31.547787</td>\n",
       "    </tr>\n",
       "    <tr>\n",
       "      <th>9</th>\n",
       "      <td>Central Park North &amp; Adam Clayton Powell Blvd</td>\n",
       "      <td>200.693028</td>\n",
       "      <td>47953.942385</td>\n",
       "      <td>218.983886</td>\n",
       "      <td>64.146976</td>\n",
       "      <td>93.515945</td>\n",
       "    </tr>\n",
       "    <tr>\n",
       "      <th>10</th>\n",
       "      <td>Central Park West &amp; W 85 St</td>\n",
       "      <td>171.290795</td>\n",
       "      <td>40369.753440</td>\n",
       "      <td>200.922257</td>\n",
       "      <td>47.732383</td>\n",
       "      <td>63.836655</td>\n",
       "    </tr>\n",
       "    <tr>\n",
       "      <th>11</th>\n",
       "      <td>W 106 St &amp; Central Park West</td>\n",
       "      <td>241.481703</td>\n",
       "      <td>73739.378699</td>\n",
       "      <td>271.549956</td>\n",
       "      <td>68.005365</td>\n",
       "      <td>107.471750</td>\n",
       "    </tr>\n",
       "  </tbody>\n",
       "</table>\n",
       "</div>"
      ],
      "text/plain": [
       "                               start_station_name  mean_absolute_error  \\\n",
       "0               Grand Army Plaza & Central Park S           119.004419   \n",
       "1                     Central Park West & W 68 St           154.101324   \n",
       "2                     W 82 St & Central Park West           238.753145   \n",
       "3                     Central Park West & W 72 St           121.883951   \n",
       "4                    Central Park West & W 102 St           260.029256   \n",
       "5                        Central Park W & W 96 St           202.442318   \n",
       "6                    Central Park West & W 100 St           257.895012   \n",
       "7                     Central Park West & W 76 St           214.290854   \n",
       "8                          Central Park S & 6 Ave            84.885617   \n",
       "9   Central Park North & Adam Clayton Powell Blvd           200.693028   \n",
       "10                    Central Park West & W 85 St           171.290795   \n",
       "11                   W 106 St & Central Park West           241.481703   \n",
       "\n",
       "    mean_squared_error  root_mean_squared_error  \\\n",
       "0         19427.657590               139.383132   \n",
       "1         33857.047915               184.002848   \n",
       "2         72013.375008               268.353079   \n",
       "3         22554.630553               150.181991   \n",
       "4         83697.364612               289.304968   \n",
       "5         53031.090207               230.284802   \n",
       "6         83302.784732               288.622218   \n",
       "7         57026.501450               238.802222   \n",
       "8         12792.523379               113.104038   \n",
       "9         47953.942385               218.983886   \n",
       "10        40369.753440               200.922257   \n",
       "11        73739.378699               271.549956   \n",
       "\n",
       "    mean_absolute_percentage_error  symmetric_mean_absolute_percentage_error  \n",
       "0                        41.644377                                 41.804210  \n",
       "1                        48.928761                                 56.025046  \n",
       "2                        67.112579                                105.230112  \n",
       "3                        41.739618                                 42.696262  \n",
       "4                        74.224959                                122.457784  \n",
       "5                        56.376148                                 81.270972  \n",
       "6                        72.864692                                119.704992  \n",
       "7                        62.764186                                 90.689374  \n",
       "8                        36.419940                                 31.547787  \n",
       "9                        64.146976                                 93.515945  \n",
       "10                       47.732383                                 63.836655  \n",
       "11                       68.005365                                107.471750  "
      ]
     },
     "execution_count": 28,
     "metadata": {},
     "output_type": "execute_result"
    }
   ],
   "source": [
    "bq.query('\\n'.join(rewrite_codey.split('\\n')[1:-1])).to_dataframe()"
   ]
  },
  {
   "cell_type": "markdown",
   "id": "68ee06b6-4574-4aa2-b602-95012da25d33",
   "metadata": {},
   "source": [
    "## Compare the Query Lengths"
   ]
  },
  {
   "cell_type": "code",
   "execution_count": 32,
   "id": "cef46c05-a51c-4a3e-9ef6-615049558e89",
   "metadata": {},
   "outputs": [
    {
     "name": "stdout",
     "output_type": "stream",
     "text": [
      "The Codey rewrite is 3311 characters.  Compared to the orignal with 7345 characters this is a 55% reduction is length.\n"
     ]
    }
   ],
   "source": [
    "print(f\"\"\"The Codey rewrite is {len(rewrite_codey)} characters.  Compared to the orignal with {len(results['query'][0])} characters this is a {1 - len(rewrite_codey) / len(results['query'][0]):.0%} reduction is length.\"\"\")"
   ]
  }
 ],
 "metadata": {
  "environment": {
   "kernel": "python3",
   "name": "tf2-gpu.2-12.m110",
   "type": "gcloud",
   "uri": "gcr.io/deeplearning-platform-release/tf2-gpu.2-12:m110"
  },
  "kernelspec": {
   "display_name": "Python 3",
   "language": "python",
   "name": "python3"
  },
  "language_info": {
   "codemirror_mode": {
    "name": "ipython",
    "version": 3
   },
   "file_extension": ".py",
   "mimetype": "text/x-python",
   "name": "python",
   "nbconvert_exporter": "python",
   "pygments_lexer": "ipython3",
   "version": "3.10.12"
  }
 },
 "nbformat": 4,
 "nbformat_minor": 5
}
