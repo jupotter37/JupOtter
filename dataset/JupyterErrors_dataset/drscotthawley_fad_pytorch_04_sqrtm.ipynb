{
 "cells": [
  {
   "cell_type": "code",
   "execution_count": null,
   "metadata": {},
   "outputs": [
    {
     "name": "stdout",
     "output_type": "stream",
     "text": [
      "The autoreload extension is already loaded. To reload it, use:\n",
      "  %reload_ext autoreload\n"
     ]
    }
   ],
   "source": [
    "#| hide\n",
    "%load_ext autoreload\n",
    "%autoreload 2"
   ]
  },
  {
   "cell_type": "markdown",
   "metadata": {},
   "source": [
    "# sqrtm\n",
    "\n",
    "> Methods for computing sqrt of a matrix"
   ]
  },
  {
   "cell_type": "code",
   "execution_count": null,
   "metadata": {},
   "outputs": [],
   "source": [
    "#| default_exp sqrtm"
   ]
  },
  {
   "cell_type": "code",
   "execution_count": null,
   "metadata": {},
   "outputs": [],
   "source": [
    "#| hide\n",
    "from nbdev.showdoc import *"
   ]
  },
  {
   "cell_type": "code",
   "execution_count": null,
   "metadata": {},
   "outputs": [],
   "source": [
    "#| export\n",
    "import torch\n",
    "from torch.autograd import Function, Variable"
   ]
  },
  {
   "cell_type": "markdown",
   "metadata": {},
   "source": [
    "## Steve Li's method"
   ]
  },
  {
   "cell_type": "code",
   "execution_count": null,
   "metadata": {},
   "outputs": [],
   "source": [
    "#| export\n",
    "\n",
    "use_li = True  # come back and turn this on if you want to see/use the full code\n",
    "\n",
    "if use_li:      # lighten the load of imports since we won't use li's in production\n",
    "    import numpy as np\n",
    "    import scipy.linalg"
   ]
  },
  {
   "cell_type": "code",
   "execution_count": null,
   "metadata": {},
   "outputs": [],
   "source": [
    "#| export\n",
    "class MatrixSquareRoot_li(Function):\n",
    "    \"\"\"\n",
    "    From https://github.com/steveli/pytorch-sqrtm/blob/master/sqrtm.py, which sadly does not install as a package.  LICENSE included below\n",
    "    Square root of a positive definite matrix.\n",
    "\n",
    "    NOTE: matrix square root is not differentiable for matrices with\n",
    "          zero eigenvalues.\n",
    "    \"\"\"\n",
    "    @staticmethod\n",
    "    def forward(ctx, input):\n",
    "        m = input.detach().cpu().numpy().astype(np.float_)  # SHH: note how this immediately switches to CPU & numpy :-( \n",
    "        sqrtm = torch.from_numpy(scipy.linalg.sqrtm(m).real).to(input)\n",
    "        ctx.save_for_backward(sqrtm)\n",
    "        return sqrtm\n",
    "\n",
    "    @staticmethod\n",
    "    def backward(ctx, grad_output):\n",
    "        grad_input = None\n",
    "        if ctx.needs_input_grad[0]:\n",
    "            sqrtm, = ctx.saved_tensors\n",
    "            sqrtm = sqrtm.data.cpu().numpy().astype(np.float_)\n",
    "            gm = grad_output.data.cpu().numpy().astype(np.float_)\n",
    "\n",
    "            # Given a positive semi-definite matrix X,\n",
    "            # since X = X^{1/2}X^{1/2}, we can compute the gradient of the\n",
    "            # matrix square root dX^{1/2} by solving the Sylvester equation:\n",
    "            # dX = (d(X^{1/2})X^{1/2} + X^{1/2}(dX^{1/2}).\n",
    "            grad_sqrtm = scipy.linalg.solve_sylvester(sqrtm, sqrtm, gm)\n",
    "\n",
    "            grad_input = torch.from_numpy(grad_sqrtm).to(grad_output)\n",
    "        return grad_input\n",
    "\n",
    "\n",
    "sqrtm_li = MatrixSquareRoot_li.apply\n",
    "\n",
    "\n",
    "LICENCE_LI = \"\"\"\n",
    "MIT License\n",
    "\n",
    "Copyright (c) 2022 Steven Cheng-Xian Li\n",
    "\n",
    "Permission is hereby granted, free of charge, to any person obtaining a copy\n",
    "of this software and associated documentation files (the \"Software\"), to deal\n",
    "in the Software without restriction, including without limitation the rights\n",
    "to use, copy, modify, merge, publish, distribute, sublicense, and/or sell\n",
    "copies of the Software, and to permit persons to whom the Software is\n",
    "furnished to do so, subject to the following conditions:\n",
    "\n",
    "The above copyright notice and this permission notice shall be included in all\n",
    "copies or substantial portions of the Software.\n",
    "\n",
    "THE SOFTWARE IS PROVIDED \"AS IS\", WITHOUT WARRANTY OF ANY KIND, EXPRESS OR\n",
    "IMPLIED, INCLUDING BUT NOT LIMITED TO THE WARRANTIES OF MERCHANTABILITY,\n",
    "FITNESS FOR A PARTICULAR PURPOSE AND NONINFRINGEMENT. IN NO EVENT SHALL THE\n",
    "AUTHORS OR COPYRIGHT HOLDERS BE LIABLE FOR ANY CLAIM, DAMAGES OR OTHER\n",
    "LIABILITY, WHETHER IN AN ACTION OF CONTRACT, TORT OR OTHERWISE, ARISING FROM,\n",
    "OUT OF OR IN CONNECTION WITH THE SOFTWARE OR THE USE OR OTHER DEALINGS IN THE\n",
    "SOFTWARE.\n",
    "\"\"\""
   ]
  },
  {
   "cell_type": "markdown",
   "metadata": {},
   "source": [
    "Steve Li's test code for the above:\n"
   ]
  },
  {
   "cell_type": "code",
   "execution_count": null,
   "metadata": {},
   "outputs": [],
   "source": [
    "#| eval: false \n",
    "from torch.autograd import gradcheck"
   ]
  },
  {
   "cell_type": "code",
   "execution_count": null,
   "metadata": {},
   "outputs": [
    {
     "name": "stdout",
     "output_type": "stream",
     "text": [
      "sq =\n",
      " tensor([[ 2.6360e+01, -5.2896e-01,  4.6020e-01,  ...,  4.6385e-01,\n",
      "         -2.5534e-01,  3.3804e-01],\n",
      "        [-5.2896e-01,  2.5773e+01, -7.2415e-01,  ..., -2.6621e-02,\n",
      "          3.0918e-01, -7.8089e-02],\n",
      "        [ 4.6020e-01, -7.2415e-01,  2.5863e+01,  ..., -5.2346e-01,\n",
      "          1.4617e-01, -2.5943e-01],\n",
      "        ...,\n",
      "        [ 4.6385e-01, -2.6621e-02, -5.2346e-01,  ...,  2.6959e+01,\n",
      "          3.6158e-01, -4.6653e-01],\n",
      "        [-2.5534e-01,  3.0918e-01,  1.4617e-01,  ...,  3.6158e-01,\n",
      "          2.6692e+01, -4.4417e-01],\n",
      "        [ 3.3804e-01, -7.8089e-02, -2.5943e-01,  ..., -4.6653e-01,\n",
      "         -4.4417e-01,  2.8916e+01]], dtype=torch.float64)\n"
     ]
    }
   ],
   "source": [
    "#| eval: false \n",
    "if use_li:\n",
    "    k = torch.randn(1000, 1000).double()\n",
    "    # Create a positive definite matrix\n",
    "    pd_mat = (k.t().matmul(k)).requires_grad_()\n",
    "    with torch.no_grad():\n",
    "        sq = sqrtm_li(pd_mat)\n",
    "    print(\"sq =\\n\",sq)\n",
    "    #print(\"Running gradcheck...\")\n",
    "    #test = gradcheck(sqrtm_li, (pd_mat,))\n",
    "    #print(test)"
   ]
  },
  {
   "cell_type": "markdown",
   "metadata": {},
   "source": [
    "## Subhransu Maji's method(s)\n",
    "\n",
    "From https://github.com/msubhransu/matrix-sqrt"
   ]
  },
  {
   "cell_type": "code",
   "execution_count": null,
   "metadata": {},
   "outputs": [],
   "source": [
    "#| export\n",
    "\n",
    "# Compute error\n",
    "def compute_error(A, sA):\n",
    "    normA = torch.sqrt(torch.sum(torch.sum(A * A, dim=1),dim=1))\n",
    "    error = A - torch.bmm(sA, sA)\n",
    "    error = torch.sqrt((error * error).sum(dim=1).sum(dim=1)) / normA\n",
    "    return torch.mean(error)\n",
    "\n",
    "\n",
    "def sqrt_newton_schulz_autograd(A, \n",
    "                                numIters=20, # found experimentally by SHH, comparing w/ Li's method\n",
    "                                calc_error=False,):\n",
    "    \"\"\"Modified from from https://people.cs.umass.edu/~smaji/projects/matrix-sqrt/\n",
    "    \"The drawback of the autograd approach [i.e., this approach] is that a naive implementation stores all the intermediate results. \n",
    "    Thus the memory overhead scales linearly with the number of iterations which is problematic for large matrices.\"\n",
    "    \"\"\"\n",
    "    if len(A.data.shape) < 3: A = A.unsqueeze(0)\n",
    "    batchSize, dim1, dim2 = A.data.shape\n",
    "    assert dim1==dim2\n",
    "    dim, dtype, device = dim1, A.dtype, A.device\n",
    "    normA = A.mul(A).sum(dim=1).sum(dim=1).sqrt()\n",
    "    Y = A.div(normA.view(batchSize, 1, 1).expand_as(A));\n",
    "    I = Variable(torch.eye(dim,dim, device=device).view(1, dim, dim).\n",
    "                 repeat(batchSize,1,1).type(dtype),requires_grad=False)\n",
    "    Z = Variable(torch.eye(dim,dim, device=device).view(1, dim, dim).\n",
    "                 repeat(batchSize,1,1).type(dtype),requires_grad=False)\n",
    "\n",
    "    for i in range(numIters):\n",
    "        T = 0.5*(3.0*I - Z.bmm(Y))\n",
    "        Y = Y.bmm(T)\n",
    "        Z = T.bmm(Z)\n",
    "    \n",
    "    sA = Y*torch.sqrt(normA).view(batchSize, 1, 1).expand_as(A)\n",
    "    if calc_error:\n",
    "        error = compute_error(A, sA)\n",
    "        return sA, error\n",
    "    return sA\n",
    "\n",
    "\n",
    "def sqrt_newton_schulz(A,               # matrix to be sqrt-ified\n",
    "                       numIters=20,      # numIters=7 found via experimentation\n",
    "                       calc_error=False, # setting False disables Maji's error reporting\n",
    "                      ):\n",
    "    \"\"\"\n",
    "    Sqrt of matrix via Newton-Schulz algorithm\n",
    "    Modified from https://github.com/msubhransu/matrix-sqrt/blob/cc2289a3ed7042b8dbacd53ce8a34da1f814ed2f/matrix_sqrt.py#LL72C1-L87C19\n",
    "    # Forward via Newton-Schulz iterations (non autograd version)\n",
    "    # Seems to be slighlty faster and has much lower memory overhead\n",
    "    \n",
    "    ... Original code didn't preserve device, had no batch dim checking -SHH\n",
    "    \"\"\"\n",
    "    while len(A.data.shape) < 3:  # needs a batch dimension\n",
    "        A = A.unsqueeze(0)\n",
    "    batchSize, dim1, dim2 = A.data.shape\n",
    "    assert dim1==dim2\n",
    "    dim, dtype, device = dim1, A.dtype, A.device\n",
    "    normA = A.mul(A).sum(dim=1).sum(dim=1).sqrt()\n",
    "    Y = A.div(normA.view(batchSize, 1, 1).expand_as(A));\n",
    "    I = torch.eye(dim,dim, device=device, dtype=dtype).view(1, dim, dim).repeat(batchSize,1,1)\n",
    "    Z = torch.eye(dim,dim, device=device, dtype=dtype).view(1, dim, dim).repeat(batchSize,1,1)\n",
    "    for i in range(numIters):\n",
    "        T = 0.5*(3.0*I - Z.bmm(Y))\n",
    "        Y = Y.bmm(T)\n",
    "        Z = T.bmm(Z)\n",
    "        \n",
    "    sA = Y*torch.sqrt(normA).view(batchSize, 1, 1).expand_as(A)\n",
    "    if calc_error: \n",
    "        error = compute_error(A, sA)\n",
    "        return sA, error\n",
    "    else:\n",
    "        return sA\n",
    "\n",
    "    \n",
    "\"\"\" \n",
    "# Only used if backprop needed, which it isn't for FAD.  Leaving it here anyway. -SHH\n",
    "def lyap_newton_schulz(z, dldz, numIters, dtype):\n",
    "    # Backward via iterative Lyapunov solver.\n",
    "    batchSize = z.shape[0]\n",
    "    dim = z.shape[1]\n",
    "    normz = z.mul(z).sum(dim=1).sum(dim=1).sqrt()\n",
    "    a = z.div(normz.view(batchSize, 1, 1).expand_as(z))\n",
    "    I = torch.eye(dim,dim).view(1, dim, dim).repeat(batchSize,1,1).type(dtype)\n",
    "    q = dldz.div(normz.view(batchSize, 1, 1).expand_as(z))\n",
    "    for i in range(numIters):\n",
    "        q = 0.5*(q.bmm(3.0*I - a.bmm(a)) - a.transpose(1, 2).bmm(a.transpose(1,2).bmm(q) - q.bmm(a)) )\n",
    "        a = 0.5*a.bmm(3.0*I - a.bmm(a))\n",
    "    dlda = 0.5*q\n",
    "    return dlda\n",
    "\"\"\"\n",
    "\n",
    "\n",
    "LICENCE_SM = \"\"\"\n",
    "MIT License\n",
    "\n",
    "Copyright (c) 2017 Subhransu Maji\n",
    "\n",
    "Permission is hereby granted, free of charge, to any person obtaining a copy\n",
    "of this software and associated documentation files (the \"Software\"), to deal\n",
    "in the Software without restriction, including without limitation the rights\n",
    "to use, copy, modify, merge, publish, distribute, sublicense, and/or sell\n",
    "copies of the Software, and to permit persons to whom the Software is\n",
    "furnished to do so, subject to the following conditions:\n",
    "\n",
    "The above copyright notice and this permission notice shall be included in all\n",
    "copies or substantial portions of the Software.\n",
    "\n",
    "THE SOFTWARE IS PROVIDED \"AS IS\", WITHOUT WARRANTY OF ANY KIND, EXPRESS OR\n",
    "IMPLIED, INCLUDING BUT NOT LIMITED TO THE WARRANTIES OF MERCHANTABILITY,\n",
    "FITNESS FOR A PARTICULAR PURPOSE AND NONINFRINGEMENT. IN NO EVENT SHALL THE\n",
    "AUTHORS OR COPYRIGHT HOLDERS BE LIABLE FOR ANY CLAIM, DAMAGES OR OTHER\n",
    "LIABILITY, WHETHER IN AN ACTION OF CONTRACT, TORT OR OTHERWISE, ARISING FROM,\n",
    "OUT OF OR IN CONNECTION WITH THE SOFTWARE OR THE USE OR OTHER DEALINGS IN THE\n",
    "SOFTWARE.\n",
    "\"\"\""
   ]
  },
  {
   "cell_type": "markdown",
   "metadata": {},
   "source": [
    "## Error tests"
   ]
  },
  {
   "cell_type": "code",
   "execution_count": null,
   "metadata": {},
   "outputs": [
    {
     "name": "stdout",
     "output_type": "stream",
     "text": [
      "sa1 =\n",
      " tensor([[[ 2.6360e+01, -5.2896e-01,  4.6021e-01,  ...,  4.6384e-01,\n",
      "          -2.5535e-01,  3.3805e-01],\n",
      "         [-5.2896e-01,  2.5773e+01, -7.2415e-01,  ..., -2.6632e-02,\n",
      "           3.0917e-01, -7.8092e-02],\n",
      "         [ 4.6021e-01, -7.2415e-01,  2.5863e+01,  ..., -5.2344e-01,\n",
      "           1.4618e-01, -2.5943e-01],\n",
      "         ...,\n",
      "         [ 4.6384e-01, -2.6632e-02, -5.2344e-01,  ...,  2.6959e+01,\n",
      "           3.6150e-01, -4.6653e-01],\n",
      "         [-2.5535e-01,  3.0917e-01,  1.4618e-01,  ...,  3.6150e-01,\n",
      "           2.6692e+01, -4.4418e-01],\n",
      "         [ 3.3805e-01, -7.8092e-02, -2.5943e-01,  ..., -4.6653e-01,\n",
      "          -4.4418e-01,  2.8916e+01]]], dtype=torch.float64,\n",
      "       grad_fn=<MulBackward0>)\n",
      "error = 4.759428080865442e-08\n"
     ]
    }
   ],
   "source": [
    "#| eval: false \n",
    "sa1, error = sqrt_newton_schulz_autograd( pd_mat.unsqueeze(0), numIters=20, calc_error=True ) \n",
    "print(\"sa1 =\\n\",sa1)\n",
    "print(\"error =\",error.detach().item())"
   ]
  },
  {
   "cell_type": "code",
   "execution_count": null,
   "metadata": {},
   "outputs": [
    {
     "name": "stdout",
     "output_type": "stream",
     "text": [
      "sa2 =\n",
      " tensor([[[ 2.6360e+01, -5.2896e-01,  4.6021e-01,  ...,  4.6384e-01,\n",
      "          -2.5535e-01,  3.3805e-01],\n",
      "         [-5.2896e-01,  2.5773e+01, -7.2415e-01,  ..., -2.6632e-02,\n",
      "           3.0917e-01, -7.8092e-02],\n",
      "         [ 4.6021e-01, -7.2415e-01,  2.5863e+01,  ..., -5.2344e-01,\n",
      "           1.4618e-01, -2.5943e-01],\n",
      "         ...,\n",
      "         [ 4.6384e-01, -2.6632e-02, -5.2344e-01,  ...,  2.6959e+01,\n",
      "           3.6150e-01, -4.6653e-01],\n",
      "         [-2.5535e-01,  3.0917e-01,  1.4618e-01,  ...,  3.6150e-01,\n",
      "           2.6692e+01, -4.4418e-01],\n",
      "         [ 3.3805e-01, -7.8092e-02, -2.5943e-01,  ..., -4.6653e-01,\n",
      "          -4.4418e-01,  2.8916e+01]]], dtype=torch.float64,\n",
      "       grad_fn=<MulBackward0>)\n",
      "error = 4.759428080865442e-08\n"
     ]
    }
   ],
   "source": [
    "#| eval: false \n",
    "sa2, error = sqrt_newton_schulz( pd_mat.unsqueeze(0), numIters=20, calc_error=True ) \n",
    "print(\"sa2 =\\n\",sa2)\n",
    "print(\"error =\",error.detach().item())"
   ]
  },
  {
   "cell_type": "code",
   "execution_count": null,
   "metadata": {},
   "outputs": [
    {
     "name": "stdout",
     "output_type": "stream",
     "text": [
      "diff = \n",
      " tensor([[[-3.7835e-05,  3.8437e-07,  8.7208e-06,  ..., -1.2816e-05,\n",
      "          -1.8744e-05,  1.3386e-05],\n",
      "         [ 3.8437e-07, -1.9896e-06,  2.2977e-06,  ..., -1.1004e-05,\n",
      "          -1.0735e-05, -3.3250e-06],\n",
      "         [ 8.7208e-06,  2.2977e-06, -7.5329e-06,  ...,  2.2518e-05,\n",
      "           1.9394e-05, -3.9655e-06],\n",
      "         ...,\n",
      "         [-1.2816e-05, -1.1004e-05,  2.2518e-05,  ..., -8.1416e-05,\n",
      "          -7.1274e-05, -1.4799e-06],\n",
      "         [-1.8744e-05, -1.0735e-05,  1.9394e-05,  ..., -7.1274e-05,\n",
      "          -8.0163e-05, -1.6137e-05],\n",
      "         [ 1.3386e-05, -3.3250e-06, -3.9655e-06,  ..., -1.4799e-06,\n",
      "          -1.6137e-05, -2.6324e-05]]], dtype=torch.float64,\n",
      "       grad_fn=<SubBackward0>)\n"
     ]
    }
   ],
   "source": [
    "#| eval: false \n",
    "if use_li:\n",
    "    diff = sa1 - sq\n",
    "    print(\"diff = \\n\",diff) "
   ]
  },
  {
   "cell_type": "code",
   "execution_count": null,
   "metadata": {},
   "outputs": [
    {
     "name": "stdout",
     "output_type": "stream",
     "text": [
      "diff = \n",
      " tensor([[[-3.7835e-05,  3.8437e-07,  8.7208e-06,  ..., -1.2816e-05,\n",
      "          -1.8744e-05,  1.3386e-05],\n",
      "         [ 3.8437e-07, -1.9896e-06,  2.2977e-06,  ..., -1.1004e-05,\n",
      "          -1.0735e-05, -3.3250e-06],\n",
      "         [ 8.7208e-06,  2.2977e-06, -7.5329e-06,  ...,  2.2518e-05,\n",
      "           1.9394e-05, -3.9655e-06],\n",
      "         ...,\n",
      "         [-1.2816e-05, -1.1004e-05,  2.2518e-05,  ..., -8.1416e-05,\n",
      "          -7.1274e-05, -1.4799e-06],\n",
      "         [-1.8744e-05, -1.0735e-05,  1.9394e-05,  ..., -7.1274e-05,\n",
      "          -8.0163e-05, -1.6137e-05],\n",
      "         [ 1.3386e-05, -3.3250e-06, -3.9655e-06,  ..., -1.4799e-06,\n",
      "          -1.6137e-05, -2.6324e-05]]], dtype=torch.float64,\n",
      "       grad_fn=<SubBackward0>)\n"
     ]
    }
   ],
   "source": [
    "#| eval: false \n",
    "if use_li:\n",
    "    diff = sa2 - sq\n",
    "    print(\"diff = \\n\",diff) "
   ]
  },
  {
   "cell_type": "markdown",
   "metadata": {},
   "source": [
    "## Speed & device tests"
   ]
  },
  {
   "cell_type": "code",
   "execution_count": null,
   "metadata": {},
   "outputs": [],
   "source": [
    "#| eval: false \n",
    "from aeiou.core import get_device"
   ]
  },
  {
   "cell_type": "code",
   "execution_count": null,
   "metadata": {},
   "outputs": [
    {
     "name": "stdout",
     "output_type": "stream",
     "text": [
      "device =  cuda\n"
     ]
    }
   ],
   "source": [
    "#| eval: false \n",
    "device = get_device()\n",
    "print('device = ',device)\n",
    "n,m = 1000, 1000\n",
    "with torch.no_grad(): \n",
    "    k = torch.randn(n, m, device=device)\n",
    "    pd_mat2 = (k.t().matmul(k)) # Create a positive definite matrix, no grad"
   ]
  },
  {
   "cell_type": "code",
   "execution_count": null,
   "metadata": {},
   "outputs": [],
   "source": [
    "#| eval: false \n",
    "# %%timeit\n",
    "if use_li:\n",
    "    sq2 = sqrtm_li(pd_mat2)"
   ]
  },
  {
   "cell_type": "markdown",
   "metadata": {},
   "source": [
    "Result of `%%timeit`:\n",
    "\n",
    "`1.12 s ± 191 ms per loop (mean ± std. dev. of 7 runs, 1 loop each)`"
   ]
  },
  {
   "cell_type": "code",
   "execution_count": null,
   "metadata": {},
   "outputs": [
    {
     "ename": "NameError",
     "evalue": "name 'sq2' is not defined",
     "output_type": "error",
     "traceback": [
      "\u001b[0;31m---------------------------------------------------------------------------\u001b[0m",
      "\u001b[0;31mNameError\u001b[0m                                 Traceback (most recent call last)",
      "Cell \u001b[0;32mIn[1], line 2\u001b[0m\n\u001b[1;32m      1\u001b[0m \u001b[38;5;66;03m#| eval: false \u001b[39;00m\n\u001b[0;32m----> 2\u001b[0m \u001b[38;5;28mprint\u001b[39m(\u001b[43msq2\u001b[49m)\n",
      "\u001b[0;31mNameError\u001b[0m: name 'sq2' is not defined"
     ]
    }
   ],
   "source": [
    "#| eval: false \n",
    "print(sq2)"
   ]
  },
  {
   "cell_type": "code",
   "execution_count": null,
   "metadata": {},
   "outputs": [],
   "source": [
    "#| eval: false \n",
    "# %%timeit\n",
    "sq3 = sqrt_newton_schulz(pd_mat2.unsqueeze(0), numIters=20)[0]"
   ]
  },
  {
   "cell_type": "markdown",
   "metadata": {},
   "source": [
    "Result of `%%timeit`:\n",
    "\n",
    "`8.8 ms ± 23.1 µs per loop (mean ± std. dev. of 7 runs, 100 loops each)`"
   ]
  },
  {
   "cell_type": "markdown",
   "metadata": {},
   "source": [
    "## Wrapper around our method of choice:\n",
    "TLDR, we'll use Maji's Newton-Schulz method.  Newton-Schulz is an approximate iterative method rather than an exact matrix sqrt, however, with 7 iterations the error is below 1e-5, (presumably significantly) lower than other errors in the problem.  "
   ]
  },
  {
   "cell_type": "code",
   "execution_count": null,
   "metadata": {},
   "outputs": [],
   "source": [
    "#|export \n",
    "def sqrtm(A, method='maji', numIters=20):\n",
    "    \"wrapper function for matrix sqrt algorithm of choice. Also we'll turn off all gradients\"\n",
    "    with torch.no_grad():\n",
    "        if method=='maji':\n",
    "            return sqrt_newton_schulz(A, numIters=numIters, calc_error=False).squeeze()  # get rid of any useless batch dimensions\n",
    "        elif method=='li': \n",
    "            return sqrtm_li(A)\n",
    "        else:\n",
    "            raise ValueError(f\"Invalid method: {method}\") "
   ]
  },
  {
   "cell_type": "code",
   "execution_count": null,
   "metadata": {},
   "outputs": [
    {
     "data": {
      "text/plain": [
       "tensor([[ 1.9073e-06,  1.5616e-05,  9.0003e-06,  ..., -8.9407e-07,\n",
       "         -3.7104e-05,  6.7353e-06],\n",
       "        [ 1.9193e-05, -6.1035e-05, -4.7386e-06,  ...,  7.8678e-06,\n",
       "          2.9802e-05, -5.8711e-06],\n",
       "        [ 7.5698e-06, -5.4836e-06, -3.8147e-05,  ...,  2.0236e-05,\n",
       "          1.6876e-06, -2.9024e-05],\n",
       "        ...,\n",
       "        [-3.3975e-06,  3.6955e-06,  2.2471e-05,  ..., -1.1444e-05,\n",
       "          3.6955e-06,  1.2971e-05],\n",
       "        [-3.6355e-05,  2.5883e-05,  7.5437e-06,  ...,  9.4771e-06,\n",
       "         -6.8665e-05,  6.7949e-06],\n",
       "        [ 4.2319e-06, -1.3113e-05, -2.6686e-05,  ...,  9.9763e-06,\n",
       "          1.1921e-05,  5.7220e-06]], device='cuda:0')"
      ]
     },
     "execution_count": null,
     "metadata": {},
     "output_type": "execute_result"
    }
   ],
   "source": [
    "#| eval: false  \n",
    "sqrtm(pd_mat2, method='maji') - sqrtm(pd_mat2, method='li') "
   ]
  },
  {
   "cell_type": "code",
   "execution_count": null,
   "metadata": {},
   "outputs": [],
   "source": [
    "#| hide\n",
    "import nbdev; nbdev.nbdev_export()"
   ]
  },
  {
   "cell_type": "code",
   "execution_count": null,
   "metadata": {},
   "outputs": [],
   "source": []
  }
 ],
 "metadata": {
  "kernelspec": {
   "display_name": "aa",
   "language": "python",
   "name": "aa"
  }
 },
 "nbformat": 4,
 "nbformat_minor": 4
}
