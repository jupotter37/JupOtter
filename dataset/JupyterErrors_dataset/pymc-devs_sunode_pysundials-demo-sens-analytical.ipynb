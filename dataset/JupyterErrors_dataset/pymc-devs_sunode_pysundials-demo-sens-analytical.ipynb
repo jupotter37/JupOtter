{
 "cells": [
  {
   "cell_type": "code",
   "execution_count": 1,
   "metadata": {},
   "outputs": [],
   "source": [
    "import os\n",
    "import numpy as np\n",
    "import numba\n",
    "import numba.cffi_support\n",
    "import importlib\n",
    "import sunode\n",
    "from sunode import lambdify\n",
    "import sympy as sy\n",
    "import matplotlib.pyplot as plt"
   ]
  },
  {
   "cell_type": "code",
   "execution_count": 2,
   "metadata": {},
   "outputs": [],
   "source": [
    "state_dtype = np.dtype([('X', (np.float64, ())), ('S', (np.float64, ()))], align=True)\n",
    "state_ndtype = numba.from_dtype(state_dtype)"
   ]
  },
  {
   "cell_type": "code",
   "execution_count": 3,
   "metadata": {},
   "outputs": [
    {
     "data": {
      "text/plain": [
       "((0.4, 0.5), (0.02,))"
      ]
     },
     "execution_count": 3,
     "metadata": {},
     "output_type": "execute_result"
    }
   ],
   "source": [
    "user_dtype = np.dtype(\n",
    "    [\n",
    "        ('deriv_params', [\n",
    "            ('mu_max', (np.float64, ())),\n",
    "            ('Y_XS', (np.float64, ())),\n",
    "        ]),\n",
    "        ('params', [\n",
    "            ('K_S', (np.float64, ())),\n",
    "        ]),\n",
    "    ],\n",
    "    align=True\n",
    ")\n",
    "user_ndtype = numba.from_dtype(user_dtype)\n",
    "user_ndtype\n",
    "\n",
    "user_ndtype_p = numba.types.CPointer(user_ndtype)\n",
    "user_data = np.zeros((1,), dtype=user_dtype)[0]\n",
    "user_data['deriv_params']['mu_max'] = 0.4\n",
    "user_data['deriv_params']['Y_XS'] = 0.5\n",
    "user_data['params']['K_S'] = 0.02\n",
    "user_data"
   ]
  },
  {
   "cell_type": "code",
   "execution_count": 4,
   "metadata": {},
   "outputs": [],
   "source": [
    "# log scale\n",
    "@numba.njit\n",
    "def rhs(out_state, t, state, deriv_params, params, section):\n",
    "    mu_max = deriv_params.mu_max\n",
    "    Y_XS = deriv_params.Y_XS\n",
    "    K_S = params.K_S\n",
    "\n",
    "    dXdt = mu_max / (np.exp(state.S) + K_S)\n",
    "    out_state.S = -1 / Y_XS * dXdt * np.exp(state.X)\n",
    "    out_state.X = dXdt * np.exp(state.S)\n",
    "    return 0"
   ]
  },
  {
   "cell_type": "code",
   "execution_count": 5,
   "metadata": {},
   "outputs": [],
   "source": [
    "@numba.njit\n",
    "def rhs(out_state, t, state, deriv_params, params, section):\n",
    "    mu_max = deriv_params.mu_max\n",
    "    Y_XS = deriv_params.Y_XS\n",
    "    K_S = params.K_S\n",
    "\n",
    "    dXdt = mu_max * state.X * state.S / (state.S + K_S)\n",
    "    out_state.S = -1 / Y_XS * dXdt\n",
    "    out_state.X = dXdt\n",
    "    return 0"
   ]
  },
  {
   "cell_type": "code",
   "execution_count": 6,
   "metadata": {},
   "outputs": [],
   "source": [
    "def sympy_func(t, state, grad_params, params, section):\n",
    "    S = state['S']\n",
    "    X = state['X']\n",
    "\n",
    "    return {\n",
    "        'S': 0,\n",
    "        'X': 0,\n",
    "    }"
   ]
  },
  {
   "cell_type": "code",
   "execution_count": 7,
   "metadata": {},
   "outputs": [],
   "source": [
    "def make_numba(sympy_func, arg_dtypes, out_dtypes):\n",
    "    ..."
   ]
  },
  {
   "cell_type": "code",
   "execution_count": 8,
   "metadata": {},
   "outputs": [
    {
     "ename": "NameError",
     "evalue": "name 'solver' is not defined",
     "output_type": "error",
     "traceback": [
      "\u001b[0;31m---------------------------------------------------------------------------\u001b[0m",
      "\u001b[0;31mNameError\u001b[0m                                 Traceback (most recent call last)",
      "\u001b[0;32m<ipython-input-8-92054d896bcd>\u001b[0m in \u001b[0;36m<module>\u001b[0;34m\u001b[0m\n\u001b[1;32m      1\u001b[0m (\n\u001b[0;32m----> 2\u001b[0;31m     \u001b[0msolver\u001b[0m\u001b[0;34m(\u001b[0m\u001b[0;34m)\u001b[0m\u001b[0;34m\u001b[0m\u001b[0;34m\u001b[0m\u001b[0m\n\u001b[0m\u001b[1;32m      3\u001b[0m     .coords({\n\u001b[1;32m      4\u001b[0m         \u001b[0;34m'time'\u001b[0m\u001b[0;34m:\u001b[0m \u001b[0mnp\u001b[0m\u001b[0;34m.\u001b[0m\u001b[0mlinspace\u001b[0m\u001b[0;34m(\u001b[0m\u001b[0;36m0\u001b[0m\u001b[0;34m,\u001b[0m \u001b[0;36m10\u001b[0m\u001b[0;34m)\u001b[0m\u001b[0;34m\u001b[0m\u001b[0;34m\u001b[0m\u001b[0m\n\u001b[1;32m      5\u001b[0m     })\n",
      "\u001b[0;31mNameError\u001b[0m: name 'solver' is not defined"
     ]
    }
   ],
   "source": [
    "(\n",
    "    solver()\n",
    "    .coords({\n",
    "        'time': np.linspace(0, 10)\n",
    "    })\n",
    "    .states({\n",
    "        'S': (),\n",
    "        'X': (),\n",
    "    })\n",
    "    .deriv_params({\n",
    "        'mu_max': (),\n",
    "        'Y_XS': (),\n",
    "    })\n",
    "    .params({\n",
    "        'K_S': (),\n",
    "    })\n",
    "    .rhs(numba_rhs, backend='numba')\n",
    ")"
   ]
  },
  {
   "cell_type": "code",
   "execution_count": 9,
   "metadata": {},
   "outputs": [],
   "source": [
    "ffi = sunode._cvodes.ffi\n",
    "lib = sunode._cvodes.lib"
   ]
  },
  {
   "cell_type": "code",
   "execution_count": 10,
   "metadata": {},
   "outputs": [],
   "source": [
    "numba.cffi_support.register_module(sunode._cvodes)\n",
    "numba.cffi_support.register_type(\n",
    "    ffi.typeof('N_Vector').item,\n",
    "    numba.types.Opaque('N_Vector'))\n",
    "numba.cffi_support.register_type(\n",
    "    ffi.typeof('SUNMatrix').item,\n",
    "    numba.types.Opaque('SUNMatrix'))"
   ]
  },
  {
   "cell_type": "code",
   "execution_count": 11,
   "metadata": {},
   "outputs": [],
   "source": [
    "ndim = 2\n",
    "y0 = sunode.empty_vector(ndim)\n",
    "y0.data[:] = 0"
   ]
  },
  {
   "cell_type": "code",
   "execution_count": 12,
   "metadata": {},
   "outputs": [],
   "source": [
    "abstol = sunode.empty_vector(ndim)\n",
    "abstol.data[:] = [1e-8, 1e-8]\n",
    "reltol = 1e-8"
   ]
  },
  {
   "cell_type": "code",
   "execution_count": 13,
   "metadata": {},
   "outputs": [],
   "source": [
    "ode = lib.CVodeCreate(lib.CV_BDF)\n",
    "#ode = lib.CVodeCreate(lib.CV_ADAMS)"
   ]
  },
  {
   "cell_type": "code",
   "execution_count": 14,
   "metadata": {},
   "outputs": [],
   "source": [
    "user_data_p = ffi.cast('void *', ffi.addressof(ffi.from_buffer(user_data.data)))"
   ]
  },
  {
   "cell_type": "code",
   "execution_count": 15,
   "metadata": {},
   "outputs": [],
   "source": [
    "N_VGetArrayPointer_Serial = lib.N_VGetArrayPointer_Serial\n",
    "\n",
    "func_type = numba.cffi_support.map_type(ffi.typeof('CVRhsFn'))\n",
    "func_type = func_type.return_type(*(func_type.args[:-1] + (user_ndtype_p,)))\n",
    "func_type\n",
    "\n",
    "@numba.cfunc(func_type)\n",
    "def rhs_wrapper(t, y_, out_, user_data_):\n",
    "    y_ptr = N_VGetArrayPointer_Serial(y_)\n",
    "    out_ptr = N_VGetArrayPointer_Serial(out_)\n",
    "    y = numba.carray(y_ptr, (ndim,))\n",
    "    out = numba.carray(out_ptr, (ndim,))\n",
    "    \n",
    "    y = y.view(state_dtype)[0]\n",
    "    out = out.view(state_dtype)[0]\n",
    "    \n",
    "    user_data = numba.carray(user_data_, (1,))[0]\n",
    "    #grad_vars = user_data.grad_vars\n",
    "    #p = user_data.p\n",
    "    section = 0\n",
    "    \n",
    "    return rhs(out, t, y, user_data.deriv_params, user_data.params, section)\n",
    "    #return rhs(t, y, out, user_data)"
   ]
  },
  {
   "cell_type": "code",
   "execution_count": 16,
   "metadata": {},
   "outputs": [
    {
     "name": "stdout",
     "output_type": "stream",
     "text": [
      "0\n"
     ]
    },
    {
     "data": {
      "text/plain": [
       "0"
      ]
     },
     "execution_count": 16,
     "metadata": {},
     "output_type": "execute_result"
    }
   ],
   "source": [
    "print(lib.CVodeInit(ode, rhs_wrapper.cffi, 0, y0.c_ptr))\n",
    "#lib.CVodeSVtolerances(ode, reltol, abstol.c_ptr)\n",
    "lib.CVodeSStolerances(ode, 1e-8, 1e-8)"
   ]
  },
  {
   "cell_type": "code",
   "execution_count": 17,
   "metadata": {},
   "outputs": [],
   "source": [
    "A = lib.SUNDenseMatrix(ndim, ndim)"
   ]
  },
  {
   "cell_type": "code",
   "execution_count": 18,
   "metadata": {},
   "outputs": [],
   "source": [
    "linsolver = lib.SUNLinSol_Dense(y0.c_ptr, A)"
   ]
  },
  {
   "cell_type": "code",
   "execution_count": 19,
   "metadata": {},
   "outputs": [
    {
     "data": {
      "text/plain": [
       "0"
      ]
     },
     "execution_count": 19,
     "metadata": {},
     "output_type": "execute_result"
    }
   ],
   "source": [
    "lib.CVodeSetLinearSolver(ode, linsolver, A)"
   ]
  },
  {
   "cell_type": "code",
   "execution_count": 20,
   "metadata": {},
   "outputs": [],
   "source": [
    "#lib.CVodeSetJacFn(ode, Jac.cffi)"
   ]
  },
  {
   "cell_type": "code",
   "execution_count": 21,
   "metadata": {},
   "outputs": [
    {
     "data": {
      "text/plain": [
       "0"
      ]
     },
     "execution_count": 21,
     "metadata": {},
     "output_type": "execute_result"
    }
   ],
   "source": [
    "lib.CVodeSetUserData(ode, user_data_p)"
   ]
  },
  {
   "cell_type": "code",
   "execution_count": 22,
   "metadata": {},
   "outputs": [],
   "source": [
    "nparam = 2"
   ]
  },
  {
   "cell_type": "code",
   "execution_count": 23,
   "metadata": {},
   "outputs": [],
   "source": [
    "yS = lib.N_VCloneVectorArray(nparam, y0.c_ptr)"
   ]
  },
  {
   "cell_type": "code",
   "execution_count": 24,
   "metadata": {},
   "outputs": [
    {
     "data": {
      "text/plain": [
       "array([[0., 0.],\n",
       "       [0., 0.]])"
      ]
     },
     "execution_count": 24,
     "metadata": {},
     "output_type": "execute_result"
    }
   ],
   "source": [
    "vecs = [sunode.basic.Vector(yS[i]) for i in range(nparam)]\n",
    "for vec in vecs:\n",
    "    vec.data[:] = 0\n",
    "np.array([vec.data for vec in vecs])"
   ]
  },
  {
   "cell_type": "code",
   "execution_count": 188,
   "metadata": {},
   "outputs": [],
   "source": [
    "func_type = numba.cffi_support.map_type(ffi.typeof('CVSensRhsFn'))\n",
    "args = list(func_type.args)\n",
    "args[-3] = user_ndtype_p\n",
    "func_type = func_type.return_type(*args)\n",
    "func_type\n",
    "\n",
    "@numba.cfunc(func_type)\n",
    "def sens_rhs(n_params, t, y_, ydot_, yS_, out_, user_data_, tmp1_, tmp2_):\n",
    "    y_ptr = N_VGetArrayPointer_Serial(y_)\n",
    "    y = numba.carray(y_ptr, (ndim,))\n",
    "    y_dot_ptr = N_VGetArrayPointer_Serial(ydot_)\n",
    "    ydot = numba.carray(y_dot_ptr, (ndim,))\n",
    "    \n",
    "    out = []\n",
    "    for i in range(n_params):\n",
    "        out_i_ptr = N_VGetArrayPointer_Serial(out_[i])\n",
    "        out_i = numba.carray(out_i_ptr, (ndim,))\n",
    "        out.append(out_i)\n",
    "\n",
    "    yS = []\n",
    "    for i in range(n_params):\n",
    "        yS_i_ptr = N_VGetArrayPointer_Serial(yS_[i])\n",
    "        yS_i = numba.carray(yS_i_ptr, (ndim,))\n",
    "        yS.append(yS_i)\n",
    "        \n",
    "    user_data = numba.carray(user_data_, (1,))[0]\n",
    "    p = user_data.p\n",
    "    \n",
    "    df_dp = df_dp_comp((), p.reshape((-1, 1)), y.reshape((-1, 1)))\n",
    "\n",
    "    for i in range(n_params):\n",
    "        s = yS[i]\n",
    "        ySdot = out[i]\n",
    "\n",
    "        jacobian_prod(t, s, y, None, ySdot, user_data)\n",
    "        ySdot[:] += df_dp[:, i]\n",
    "    \n",
    "    return 0"
   ]
  },
  {
   "cell_type": "code",
   "execution_count": 25,
   "metadata": {},
   "outputs": [],
   "source": [
    "#assert 0 == lib.CVodeSensInit(ode, nparam, lib.CV_STAGGERED, sens_rhs.cffi, yS)\n",
    "\n",
    "#assert 0 == lib.CVodeSensInit(ode, nparam, lib.CV_STAGGERED, ffi.cast('void*', 0), yS)\n",
    "#assert 0 == lib.CVodeSensEEtolerances(ode)\n",
    "#assert 0 == lib.CVodeSetSensErrCon(ode, 1)"
   ]
  },
  {
   "cell_type": "code",
   "execution_count": 26,
   "metadata": {},
   "outputs": [],
   "source": [
    "#pbar = np.ones(nparam)\n",
    "#NULL_D = ffi.cast('double *', 0)\n",
    "#NULL_I = ffi.cast('int *', 0)\n",
    "#pbar_p = ffi.cast('double *', ffi.addressof(ffi.from_buffer(pbar.data)))\n",
    "#p = ffi.cast('double *', ffi.addressof(ffi.from_buffer(user_data['deriv_params'])))"
   ]
  },
  {
   "cell_type": "code",
   "execution_count": 27,
   "metadata": {},
   "outputs": [],
   "source": [
    "#lib.CVodeSetSensParams(ode, p, pbar_p, NULL_I)"
   ]
  },
  {
   "cell_type": "code",
   "execution_count": 28,
   "metadata": {},
   "outputs": [],
   "source": [
    "time_p = ffi.new('double*')\n",
    "time_p[0] = 0."
   ]
  },
  {
   "cell_type": "code",
   "execution_count": 42,
   "metadata": {},
   "outputs": [],
   "source": [
    "tvals = np.linspace(0, 20, 200)\n",
    "y_vals = []\n",
    "sens_vals = []\n",
    "\n",
    "#user_data['p'][...] = [0.4, 0.02, 0.5]"
   ]
  },
  {
   "cell_type": "code",
   "execution_count": 43,
   "metadata": {},
   "outputs": [],
   "source": [
    "#start = np.log([0.05, 20])\n",
    "start = np.array([0.05, 20])\n",
    "y_vals = np.empty((len(tvals), len(start)))"
   ]
  },
  {
   "cell_type": "code",
   "execution_count": 44,
   "metadata": {},
   "outputs": [],
   "source": [
    "#%%timeit\n",
    "CVodeReInit = lib.CVodeReInit\n",
    "CVode = lib.CVode\n",
    "CVodeGetSens = lib.CVodeGetSens\n",
    "y0_ptr = y0.c_ptr\n",
    "y0_data = y0.data\n",
    "sens_data = tuple(vec.data for vec in vecs)\n",
    "\n",
    "@numba.njit()\n",
    "def solve(ode, y0_ptr, time_p, y0_data, start, t0, y_vals):\n",
    "    #y_vals.clear()\n",
    "    #sens_vals.clear()\n",
    "\n",
    "    y0_data[:] = start\n",
    "    #y0.data[:] = np.log(y0.data)\n",
    "    #for vec in vecs:\n",
    "    #    vec.data[:] = 0\n",
    "    #current_time[0] = t0\n",
    "\n",
    "    CVodeReInit(ode, t0, y0_ptr)\n",
    "    for i, t in enumerate(tvals):\n",
    "        retval = -1\n",
    "        while retval == -1:\n",
    "            retval = CVode(ode, t, y0_ptr, time_p, lib.CV_NORMAL)\n",
    "        #y_vals.append(y0_data.copy())\n",
    "        y_vals[i, :] = y0_data\n",
    "        CVodeGetSens(ode, time_p, yS)\n",
    "        for \n",
    "        #sens_vals.append(np.array([vec.data.copy() for vec in vecs]).T)\n",
    "\n",
    "solve(ode, y0_ptr, time_p, y0_data, start, 0., y_vals)"
   ]
  },
  {
   "cell_type": "code",
   "execution_count": 58,
   "metadata": {},
   "outputs": [],
   "source": [
    "import xarray as xr\n",
    "import pandas as pd"
   ]
  },
  {
   "cell_type": "code",
   "execution_count": 54,
   "metadata": {},
   "outputs": [
    {
     "name": "stdout",
     "output_type": "stream",
     "text": [
      "12.6 µs ± 37.5 ns per loop (mean ± std. dev. of 7 runs, 100000 loops each)\n"
     ]
    }
   ],
   "source": [
    "%timeit xr.DataArray(y_vals)"
   ]
  },
  {
   "cell_type": "code",
   "execution_count": 70,
   "metadata": {},
   "outputs": [],
   "source": [
    "data = y_vals.view(state_dtype)[:, 0]"
   ]
  },
  {
   "cell_type": "code",
   "execution_count": 80,
   "metadata": {},
   "outputs": [
    {
     "name": "stdout",
     "output_type": "stream",
     "text": [
      "255 µs ± 465 ns per loop (mean ± std. dev. of 7 runs, 1000 loops each)\n"
     ]
    }
   ],
   "source": [
    "%timeit pd.DataFrame.from_records(y_vals.view(state_dtype)[:, 0])"
   ]
  },
  {
   "cell_type": "code",
   "execution_count": 88,
   "metadata": {},
   "outputs": [
    {
     "data": {
      "text/plain": [
       "dict_keys(['X', 'S'])"
      ]
     },
     "execution_count": 88,
     "metadata": {},
     "output_type": "execute_result"
    }
   ],
   "source": [
    "state_dtype.fields.keys()"
   ]
  },
  {
   "cell_type": "code",
   "execution_count": 105,
   "metadata": {},
   "outputs": [],
   "source": [
    "state_dtype['X'].fields"
   ]
  },
  {
   "cell_type": "code",
   "execution_count": 101,
   "metadata": {},
   "outputs": [
    {
     "data": {
      "text/plain": [
       "[<matplotlib.lines.Line2D at 0x7f610d9b5b70>]"
      ]
     },
     "execution_count": 101,
     "metadata": {},
     "output_type": "execute_result"
    },
    {
     "data": {
      "image/png": "[encoded data removed]",
      "text/plain": [
       "<Figure size 432x288 with 1 Axes>"
      ]
     },
     "metadata": {
      "needs_background": "light"
     },
     "output_type": "display_data"
    }
   ],
   "source": [
    "data_xr = xr.Dataset({name: (('time'), data[name]) for name in state_dtype.fields})\n",
    "xr.Dataset({name: (('time'), data[name]) for name in state_dtype.fields}).X.plot.line()\n",
    "xr.Dataset({name: (('time'), data[name]) for name in state_dtype.fields}).S.plot.line()"
   ]
  },
  {
   "cell_type": "code",
   "execution_count": 108,
   "metadata": {},
   "outputs": [
    {
     "data": {
      "text/plain": [
       "<matplotlib.axes._subplots.AxesSubplot at 0x7f610d829b70>"
      ]
     },
     "execution_count": 108,
     "metadata": {},
     "output_type": "execute_result"
    },
    {
     "data": {
      "image/png": "[encoded data removed]",
      "text/plain": [
       "<Figure size 432x288 with 1 Axes>"
      ]
     },
     "metadata": {
      "needs_background": "light"
     },
     "output_type": "display_data"
    }
   ],
   "source": [
    "data_xr.to_dataframe().plot()"
   ]
  },
  {
   "cell_type": "code",
   "execution_count": 103,
   "metadata": {},
   "outputs": [
    {
     "data": {
      "text/plain": [
       "<xarray.Dataset>\n",
       "Dimensions:  (time: 2000)\n",
       "Dimensions without coordinates: time\n",
       "Data variables:\n",
       "    X        (time) float64 0.05 0.0502 0.0504 0.0506 ... 10.05 10.05 10.05\n",
       "    S        (time) float64 20.0 20.0 20.0 ... -8.184e-18 -8.18e-18 -8.176e-18"
      ]
     },
     "execution_count": 103,
     "metadata": {},
     "output_type": "execute_result"
    }
   ],
   "source": [
    "data_xr"
   ]
  },
  {
   "cell_type": "code",
   "execution_count": 89,
   "metadata": {},
   "outputs": [
    {
     "name": "stdout",
     "output_type": "stream",
     "text": [
      "228 µs ± 1.09 µs per loop (mean ± std. dev. of 7 runs, 1000 loops each)\n"
     ]
    }
   ],
   "source": [
    "%timeit xr.Dataset({name: data[name] for name in state_dtype.fields})"
   ]
  },
  {
   "cell_type": "code",
   "execution_count": 78,
   "metadata": {},
   "outputs": [
    {
     "name": "stdout",
     "output_type": "stream",
     "text": [
      " "
     ]
    },
    {
     "data": {
      "text/plain": [
       "         2827003 function calls (2773003 primitive calls) in 1.715 seconds\n",
       "\n",
       "   Ordered by: internal time\n",
       "\n",
       "   ncalls  tottime  percall  cumtime  percall filename:lineno(function)\n",
       "   369000    0.082    0.000    0.127    0.000 {built-in method builtins.isinstance}\n",
       "   118000    0.064    0.000    0.064    0.000 {built-in method builtins.hasattr}\n",
       "     4000    0.046    0.000    0.305    0.000 alignment.py:340(deep_align)\n",
       "     7000    0.039    0.000    0.256    0.000 merge.py:227(collect_variables_and_indexes)\n",
       "     4000    0.033    0.000    0.865    0.000 merge.py:490(merge_core)\n",
       "175000/133000    0.032    0.000    0.044    0.000 {built-in method builtins.len}\n",
       "15000/11000    0.031    0.000    0.128    0.000 {built-in method numpy.array}\n",
       "    28000    0.029    0.000    0.034    0.000 typing.py:806(__new__)\n",
       "    62000    0.028    0.000    0.040    0.000 <frozen importlib._bootstrap>:416(parent)\n",
       "     4000    0.026    0.000    0.161    0.000 alignment.py:61(align)\n",
       "    80000    0.021    0.000    0.029    0.000 generic.py:7(_check)\n",
       "     4000    0.020    0.000    0.094    0.000 merge.py:320(determine_coords)\n",
       "     3000    0.019    0.000    0.828    0.000 merge.py:828(dataset_update_method)\n",
       "55000/53000    0.019    0.000    0.021    0.000 common.py:251(__setattr__)\n",
       "     6000    0.018    0.000    0.122    0.000 variable.py:65(as_variable)\n",
       "    72000    0.018    0.000    0.074    0.000 <frozen importlib._bootstrap>:1009(_handle_fromlist)\n",
       "     1000    0.018    0.000    0.141    0.000 managers.py:1726(form_blocks)\n",
       "     4000    0.018    0.000    0.071    0.000 variable.py:2235(assert_unique_multiindex_level_names)\n",
       "   136000    0.017    0.000    0.024    0.000 {built-in method builtins.getattr}\n",
       "     4000    0.017    0.000    0.037    0.000 merge.py:358(coerce_pandas_values)\n",
       "    11000    0.016    0.000    0.058    0.000 variable.py:166(as_compatible_data)\n",
       "     9000    0.015    0.000    0.039    0.000 _dtype.py:319(_name_get)\n",
       "     7000    0.015    0.000    0.024    0.000 merge.py:153(merge_collected)\n",
       "     6000    0.015    0.000    0.034    0.000 utils.py:66(_maybe_cast_to_cftimeindex)\n",
       "    48000    0.014    0.000    0.014    0.000 {built-in method _abc._abc_instancecheck}\n",
       "        1    0.013    0.013    1.715    1.715 <string>:1(<module>)\n",
       "    26000    0.013    0.000    0.043    0.000 utils.py:489(ndim)\n",
       "     1000    0.013    0.000    0.032    0.000 {pandas._libs.lib.clean_index_list}\n",
       "     3000    0.013    0.000    0.858    0.000 dataset.py:3411(update)\n",
       "    16000    0.013    0.000    0.034    0.000 common.py:1743(is_extension_array_dtype)\n",
       "     1000    0.013    0.000    0.033    0.000 managers.py:216(_rebuild_blknos_and_blklocs)\n",
       "     4000    0.013    0.000    0.030    0.000 numpy_.py:39(__init__)\n",
       "     4000    0.012    0.000    0.022    0.000 dataset.py:164(calculate_dimensions)\n",
       "     4000    0.012    0.000    0.081    0.000 base.py:831(array)\n",
       "     1000    0.012    0.000    0.082    0.000 base.py:277(__new__)\n",
       "     6000    0.012    0.000    0.038    0.000 dataset.py:867(_replace)\n",
       "    62000    0.012    0.000    0.012    0.000 {method 'rpartition' of 'str' objects}\n",
       "     5000    0.011    0.000    0.055    0.000 base.py:1390(set_names)\n",
       "    11000    0.011    0.000    0.097    0.000 variable.py:284(__init__)\n",
       "    48000    0.011    0.000    0.025    0.000 abc.py:137(__instancecheck__)\n",
       "     1000    0.011    0.000    0.019    0.000 managers.py:1854(_stack_arrays)\n",
       "    16000    0.011    0.000    0.016    0.000 dtypes.py:83(find)\n",
       "    64000    0.010    0.000    0.010    0.000 {built-in method builtins.issubclass}\n",
       "     4000    0.010    0.000    0.010    0.000 {built-in method numpy.empty}\n",
       "    36000    0.010    0.000    0.014    0.000 range.py:652(__len__)\n",
       "    11000    0.010    0.000    0.029    0.000 variable.py:482(_parse_dimensions)\n",
       "     6000    0.010    0.000    0.015    0.000 range.py:148(_simple_new)\n",
       "    42000    0.010    0.000    0.010    0.000 {built-in method __new__ of type object at 0x556de02cf3c0}\n",
       "    28000    0.010    0.000    0.029    0.000 variable.py:317(shape)\n",
       "    17000    0.010    0.000    0.018    0.000 {pandas._libs.lib.is_list_like}\n",
       "    17000    0.010    0.000    0.044    0.000 base.py:231(is_dtype)\n",
       "     6000    0.009    0.000    0.017    0.000 generic.py:5181(__setattr__)\n",
       "     9000    0.009    0.000    0.024    0.000 numerictypes.py:365(issubdtype)\n",
       "    18000    0.009    0.000    0.014    0.000 numerictypes.py:293(issubclass_)\n",
       "     2000    0.009    0.000    0.035    0.000 managers.py:971(iget)\n",
       "     9000    0.009    0.000    0.017    0.000 common.py:1886(_is_dtype_type)\n",
       "     3000    0.008    0.000    0.068    0.000 blocks.py:3195(get_block_type)\n",
       "     4000    0.008    0.000    0.037    0.000 coordinates.py:205(variables)\n",
       "     1000    0.008    0.000    0.034    0.000 dataset.py:1140(_construct_dataarray)\n",
       "     5000    0.008    0.000    0.076    0.000 variable.py:2085(to_index)\n",
       "    78000    0.008    0.000    0.008    0.000 {method 'items' of 'dict' objects}\n",
       "     9000    0.008    0.000    0.018    0.000 dataset.py:548(variables)\n",
       "     2000    0.007    0.000    0.042    0.000 construction.py:630(sanitize_array)\n",
       "    15000    0.007    0.000    0.012    0.000 _collections_abc.py:742(__iter__)\n",
       "     1000    0.007    0.000    1.221    0.001 dataset.py:4340(from_dataframe)\n",
       "     3000    0.007    0.000    0.027    0.000 blocks.py:120(__init__)\n",
       "     1000    0.007    0.000    0.011    0.000 {pandas._libs.lib.infer_dtype}\n",
       "    24000    0.007    0.000    0.023    0.000 indexing.py:1369(shape)\n",
       "     3000    0.006    0.000    0.088    0.000 dataset.py:970(copy)\n",
       "     4000    0.006    0.000    0.121    0.000 merge.py:391(_get_priority_vars_and_indexes)\n",
       "    10000    0.006    0.000    0.006    0.000 range.py:342(dtype)\n",
       "     1000    0.006    0.000    0.024    0.000 construction.py:331(extract_index)\n",
       "     4000    0.006    0.000    0.009    0.000 base.py:4262(__getitem__)\n",
       "     3000    0.006    0.000    0.014    0.000 dataset.py:831(_construct_direct)\n",
       "     4000    0.006    0.000    0.034    0.000 indexing.py:1339(__init__)\n",
       "     7000    0.006    0.000    0.041    0.000 {method 'update' of 'set' objects}\n",
       "     9000    0.006    0.000    0.009    0.000 copy.py:66(copy)\n",
       "     5000    0.006    0.000    0.014    0.000 base.py:1358(_set_names)\n",
       "     3000    0.006    0.000    0.006    0.000 __init__.py:426(_asdict)\n",
       "     4000    0.006    0.000    0.042    0.000 variable.py:1955(__init__)\n",
       "     6000    0.006    0.000    0.006    0.000 generic.py:5162(__getattr__)\n",
       "     4000    0.006    0.000    0.006    0.000 {method 'get_loc' of 'pandas._libs.index.IndexEngine' objects}\n",
       "    17000    0.006    0.000    0.010    0.000 utils.py:235(is_dict_like)\n",
       "     1000    0.006    0.000    0.835    0.001 dataset.py:4327(_set_numpy_data_from_dataframe)\n",
       "     2000    0.006    0.000    0.013    0.000 version.py:307(parse)\n",
       "    11000    0.006    0.000    0.008    0.000 merge.py:145(_assert_compat_valid)\n",
       "     2000    0.005    0.000    0.013    0.000 cast.py:866(maybe_castable)\n",
       "     1000    0.005    0.000    0.428    0.000 frame.py:1511(from_records)\n",
       "     3000    0.005    0.000    0.059    0.000 blocks.py:3241(make_block)\n",
       "     3000    0.005    0.000    0.017    0.000 merge.py:248(append_all)\n",
       "     8000    0.005    0.000    0.122    0.000 base.py:5707(ensure_index)\n",
       "    42000    0.005    0.000    0.005    0.000 variable.py:472(dims)\n",
       "     4000    0.005    0.000    0.014    0.000 coordinates.py:208(<dictcomp>)\n",
       "     3000    0.005    0.000    0.015    0.000 blocks.py:243(mgr_locs)\n",
       "     4000    0.005    0.000    0.036    0.000 numpy_.py:122(__init__)\n",
       "     8000    0.005    0.000    0.007    0.000 dataset.py:1339(indexes)\n",
       "     2000    0.005    0.000    0.005    0.000 {method 'split' of 're.Pattern' objects}\n",
       "     2000    0.005    0.000    0.099    0.000 series.py:886(__array__)\n",
       "     5000    0.005    0.000    0.018    0.000 range.py:410(_shallow_copy)\n",
       "     7000    0.005    0.000    0.044    0.000 coordinates.py:61(__iter__)\n",
       "     1000    0.005    0.000    0.005    0.000 {method 'reduce' of 'numpy.ufunc' objects}\n",
       "     2000    0.005    0.000    0.008    0.000 <frozen importlib._bootstrap>:157(_get_module_lock)\n",
       "     2000    0.005    0.000    0.099    0.000 generic.py:3265(_get_item_cache)\n",
       "    45000    0.005    0.000    0.005    0.000 {method 'append' of 'list' objects}\n",
       "     1000    0.005    0.000    0.013    0.000 {method 'format' of 'str' objects}\n",
       "     6000    0.005    0.000    0.013    0.000 dataset.py:1354(data_vars)\n",
       "     9000    0.005    0.000    0.008    0.000 merge.py:244(append)\n",
       "18000/16000    0.005    0.000    0.009    0.000 {built-in method builtins.iter}\n",
       "     1000    0.005    0.000    0.010    0.000 construction.py:440(to_arrays)\n",
       "     2000    0.005    0.000    0.042    0.000 variable.py:2028(copy)\n",
       "     1000    0.005    0.000    0.086    0.000 dataset.py:436(__init__)\n",
       "     1000    0.005    0.000    0.013    0.000 base.py:1803(is_unique)\n",
       "     1000    0.005    0.000    0.068    0.000 managers.py:1837(_multi_blockify)\n",
       "14000/10000    0.005    0.000    0.127    0.000 _asarray.py:16(asarray)\n",
       "     3000    0.004    0.000    0.125    0.000 frame.py:832(items)\n",
       "    11000    0.004    0.000    0.026    0.000 variable.py:146(_maybe_wrap_data)\n",
       "     2000    0.004    0.000    0.006    0.000 managers.py:1470(__init__)\n",
       "     2000    0.004    0.000    0.024    0.000 series.py:194(__init__)\n",
       "     3000    0.004    0.000    0.864    0.000 dataset.py:1240(__setitem__)\n",
       "     3000    0.004    0.000    0.011    0.000 managers.py:167(shape)\n",
       "     2000    0.004    0.000    0.049    0.000 managers.py:942(get)\n",
       "     4000    0.004    0.000    0.015    0.000 dtypes.py:1092(is_dtype)\n",
       "     3000    0.004    0.000    0.004    0.000 generic.py:162(__init__)\n",
       "     1000    0.004    0.000    0.024    0.000 <frozen importlib._bootstrap>:978(_find_and_load)\n",
       "     3000    0.004    0.000    0.009    0.000 common.py:255(is_sparse)\n",
       "     4000    0.004    0.000    0.010    0.000 dataset.py:1347(coords)\n",
       "     4000    0.004    0.000    0.054    0.000 _collections_abc.py:760(__iter__)\n",
       "     8000    0.004    0.000    0.061    0.000 {built-in method builtins.all}\n",
       "     2000    0.004    0.000    0.010    0.000 dataset.py:583(dims)\n",
       "     2000    0.004    0.000    0.004    0.000 {built-in method numpy.arange}\n",
       "     1000    0.004    0.000    0.009    0.000 range.py:83(__new__)\n",
       "     2000    0.004    0.000    0.038    0.000 frame.py:3444(_box_item_values)\n",
       "     1000    0.004    0.000    0.009    0.000 _asarray.py:223(require)\n",
       "    23000    0.004    0.000    0.004    0.000 {method 'get' of 'dict' objects}\n",
       "    13000    0.004    0.000    0.010    0.000 utils.py:386(__iter__)\n",
       "     9000    0.004    0.000    0.005    0.000 common.py:1850(_get_dtype)\n",
       "     6000    0.004    0.000    0.039    0.000 utils.py:84(safe_cast_to_index)\n",
       "     4000    0.003    0.000    0.006    0.000 common.py:1203(is_datetime64_ns_dtype)\n",
       "     1000    0.003    0.000    0.066    0.000 managers.py:126(__init__)\n",
       "     2000    0.003    0.000    0.004    0.000 <frozen importlib._bootstrap>:78(acquire)\n",
       "     2000    0.003    0.000    0.027    0.000 frame.py:3451(_box_col_values)\n",
       "     1000    0.003    0.000    0.047    0.000 _optional.py:52(import_optional_dependency)\n",
       "     2000    0.003    0.000    0.004    0.000 {method 'view' of 'numpy.ndarray' objects}\n",
       "     1000    0.003    0.000    0.021    0.000 base.py:1185(__iter__)\n",
       "     6000    0.003    0.000    0.003    0.000 dataset.py:350(__iter__)\n",
       "    11000    0.003    0.000    0.011    0.000 alignment.py:359(is_alignable)\n",
       "     1000    0.003    0.000    0.211    0.000 managers.py:1691(create_block_manager_from_arrays)\n",
       "     4000    0.003    0.000    0.013    0.000 dtypes.py:912(is_dtype)\n",
       "     2000    0.003    0.000    0.003    0.000 {method 'reshape' of 'numpy.ndarray' objects}\n",
       "     1000    0.003    0.000    0.006    0.000 frame.py:397(__init__)\n",
       "    12000    0.003    0.000    0.057    0.000 alignment.py:418(<genexpr>)\n",
       "     1000    0.003    0.000    0.007    0.000 cast.py:1239(construct_1d_object_array_from_listlike)\n",
       "     7000    0.003    0.000    0.004    0.000 _collections_abc.py:676(items)\n",
       "     1000    0.003    0.000    0.010    0.000 managers.py:340(_verify_integrity)\n",
       "     2000    0.003    0.000    0.023    0.000 variable.py:451(to_index_variable)\n",
       "     1000    0.003    0.000    0.008    0.000 _dtype.py:46(__str__)\n",
       "     7000    0.003    0.000    0.003    0.000 base.py:700(_reset_identity)\n",
       "     1000    0.003    0.000    0.078    0.000 merge.py:450(merge_data_and_coords)\n",
       "     3000    0.003    0.000    0.003    0.000 alignment.py:20(_get_joiner)\n",
       "     4000    0.003    0.000    0.003    0.000 dataset.py:172(<setcomp>)\n",
       "     5000    0.003    0.000    0.004    0.000 common.py:2020(pandas_dtype)\n",
       "     2000    0.003    0.000    0.005    0.000 series.py:453(name)\n",
       "     2000    0.003    0.000    0.018    0.000 blocks.py:267(make_block_same_class)\n",
       "     1000    0.003    0.000    0.047    0.000 construction.py:300(_homogenize)\n",
       "     4000    0.003    0.000    0.008    0.000 base.py:2888(get_loc)\n",
       "    11000    0.003    0.000    0.003    0.000 utils.py:392(__contains__)\n",
       "     4000    0.003    0.000    0.004    0.000 managers.py:1585(internal_values)\n",
       "     7000    0.002    0.000    0.004    0.000 inference.py:386(is_hashable)\n",
       "     3000    0.002    0.000    0.050    0.000 dataset.py:1064(<dictcomp>)\n",
       "     2000    0.002    0.000    0.003    0.000 <frozen importlib._bootstrap>:103(release)\n",
       "     2000    0.002    0.000    0.004    0.000 series.py:416(_set_axis)\n",
       "     1000    0.002    0.000    0.005    0.000 base.py:569(_simple_new)\n",
       "     5000    0.002    0.000    0.014    0.000 common.py:678(is_categorical_dtype)\n",
       "     1000    0.002    0.000    0.285    0.000 construction.py:69(arrays_to_mgr)\n",
       "     5000    0.002    0.000    0.016    0.000 common.py:539(is_datetime64tz_dtype)\n",
       "     8000    0.002    0.000    0.002    0.000 dataset.py:352(<genexpr>)\n",
       "    15000    0.002    0.000    0.002    0.000 utils.py:380(__init__)\n",
       "     3000    0.002    0.000    0.049    0.000 variable.py:2103(level_names)\n",
       "     2000    0.002    0.000    0.010    0.000 common.py:508(is_datetime64_dtype)\n",
       "     1000    0.002    0.000    1.271    0.001 generic.py:2831(to_xarray)\n",
       "     2000    0.002    0.000    0.002    0.000 _internal.py:865(npy_ctypes_check)\n",
       "     4000    0.002    0.000    0.006    0.000 series.py:559(_values)\n",
       "     5000    0.002    0.000    0.017    0.000 common.py:642(is_interval_dtype)\n",
       "     1000    0.002    0.000    0.007    0.000 common.py:240(asarray_tuplesafe)\n",
       "     1000    0.002    0.000    0.012    0.000 base.py:5801(default_index)\n",
       "     1000    0.002    0.000    0.017    0.000 managers.py:654(_consolidate_check)\n",
       "     1000    0.002    0.000    0.004    0.000 dataarray.py:277(__init__)\n",
       "     4000    0.002    0.000    0.004    0.000 common.py:1825(_is_dtype)\n",
       "     2000    0.002    0.000    0.002    0.000 blocks.py:369(iget)\n",
       "     6000    0.002    0.000    0.003    0.000 base.py:723(__len__)\n",
       "     4000    0.002    0.000    0.006    0.000 common.py:1253(is_timedelta64_ns_dtype)\n",
       "     5000    0.002    0.000    0.003    0.000 variable.py:2121(name)\n",
       "     3000    0.002    0.000    0.003    0.000 _collections_abc.py:657(get)\n",
       "     9000    0.002    0.000    0.007    0.000 managers.py:169(<genexpr>)\n",
       "     2000    0.002    0.000    0.002    0.000 version.py:312(<listcomp>)\n",
       "    10000    0.002    0.000    0.002    0.000 _collections_abc.py:698(__init__)\n",
       "     1000    0.002    0.000    0.008    0.000 base.py:710(_engine)\n",
       "     1000    0.002    0.000    0.006    0.000 variable.py:797(copy)\n",
       "     2000    0.002    0.000    0.003    0.000 <frozen importlib._bootstrap>:176(cb)\n",
       "     2000    0.002    0.000    0.002    0.000 <frozen importlib._bootstrap>:58(__init__)\n",
       "     9000    0.002    0.000    0.002    0.000 {method 'setdefault' of 'dict' objects}\n",
       "     2000    0.002    0.000    0.015    0.000 indexing.py:1418(copy)\n",
       "     2000    0.002    0.000    0.005    0.000 generic.py:3279(_set_as_cached)\n",
       "     3000    0.002    0.000    0.005    0.000 {built-in method builtins.any}\n",
       "     7000    0.002    0.000    0.003    0.000 common.py:211(<lambda>)\n",
       "    10000    0.002    0.000    0.002    0.000 utils.py:383(__getitem__)\n",
       "     4000    0.002    0.000    0.015    0.000 common.py:608(is_period_dtype)\n",
       "     7000    0.002    0.000    0.002    0.000 common.py:209(classes)\n",
       "     2000    0.002    0.000    0.002    0.000 {built-in method builtins.sorted}\n",
       "     2000    0.002    0.000    0.007    0.000 common.py:577(is_timedelta64_dtype)\n",
       "     3000    0.002    0.000    0.012    0.000 dataset.py:1203(__iter__)\n",
       "     7000    0.002    0.000    0.002    0.000 indexes.py:35(__getitem__)\n",
       "     2000    0.002    0.000    0.004    0.000 common.py:225(is_object_dtype)\n",
       "     6000    0.002    0.000    0.002    0.000 merge.py:187(<listcomp>)\n",
       "     4000    0.002    0.000    0.003    0.000 alignment.py:284(<genexpr>)\n",
       "     3000    0.002    0.000    0.014    0.000 common.py:357(is_categorical)\n",
       "     8000    0.002    0.000    0.002    0.000 coordinates.py:197(_names)\n",
       "     2000    0.002    0.000    0.002    0.000 {method 'fill' of 'numpy.ndarray' objects}\n",
       "     2000    0.002    0.000    0.002    0.000 dataset.py:579(encoding)\n",
       "     3000    0.001    0.000    0.002    0.000 _collections_abc.py:680(values)\n",
       "     2000    0.001    0.000    0.004    0.000 managers.py:1857(_asarray_compat)\n",
       "     2000    0.001    0.000    0.003    0.000 series.py:460(name)\n",
       "     4000    0.001    0.000    0.002    0.000 common.py:150(cast_scalar_indexer)\n",
       "     2000    0.001    0.000    0.003    0.000 missing.py:128(_isna_new)\n",
       "     8000    0.001    0.000    0.001    0.000 indexes.py:16(__init__)\n",
       "     1000    0.001    0.000    0.036    0.000 dataset.py:1225(__getitem__)\n",
       "     4000    0.001    0.000    0.003    0.000 <string>:1(__new__)\n",
       "     8000    0.001    0.000    0.001    0.000 {pandas._libs.lib.is_scalar}\n",
       "     1000    0.001    0.000    0.006    0.000 version.py:331(_cmp)\n",
       "     1000    0.001    0.000    0.006    0.000 common.py:1619(is_bool_dtype)\n",
       "     5000    0.001    0.000    0.001    0.000 managers.py:236(items)\n",
       "     2000    0.001    0.000    0.015    0.000 construction.py:759(_try_cast)\n",
       "     2000    0.001    0.000    0.003    0.000 numpy_.py:165(__array__)\n",
       "     2000    0.001    0.000    0.002    0.000 common.py:180(ensure_python_int)\n",
       "     7000    0.001    0.000    0.001    0.000 {method 'copy' of 'dict' objects}\n",
       "     1000    0.001    0.000    0.027    0.000 __init__.py:109(import_module)\n",
       "     3000    0.001    0.000    0.001    0.000 blocks.py:131(_check_ndim)\n",
       "     8000    0.001    0.000    0.001    0.000 {built-in method builtins.hash}\n",
       "     3000    0.001    0.000    0.002    0.000 merge.py:80(unique_variable)\n",
       "     1000    0.001    0.000    0.014    0.000 blocks.py:347(ftype)\n",
       "     4000    0.001    0.000    0.001    0.000 {method 'intersection' of 'set' objects}\n",
       "     2000    0.001    0.000    0.001    0.000 range.py:467(equals)\n",
       "     2000    0.001    0.000    0.005    0.000 arrays.py:7(extract_array)\n",
       "     9000    0.001    0.000    0.001    0.000 {method 'values' of 'dict' objects}\n",
       "     1000    0.001    0.000    0.015    0.000 common.py:814(is_datetimelike)\n",
       "     3000    0.001    0.000    0.002    0.000 indexes.py:29(__len__)\n",
       "     4000    0.001    0.000    0.001    0.000 managers.py:1523(_block)\n",
       "     1000    0.001    0.000    0.001    0.000 _asarray.py:300(<setcomp>)\n",
       "     6000    0.001    0.000    0.001    0.000 dataset.py:347(__init__)\n",
       "     1000    0.001    0.000    0.001    0.000 construction.py:483(<listcomp>)\n",
       "     3000    0.001    0.000    0.001    0.000 {method 'copy' of 'set' objects}\n",
       "     5000    0.001    0.000    0.001    0.000 blocks.py:239(mgr_locs)\n",
       "     1000    0.001    0.000    0.008    0.000 <frozen importlib._bootstrap>:147(__enter__)\n",
       "     2000    0.001    0.000    0.003    0.000 utils.py:423(__iter__)\n",
       "     1000    0.001    0.000    0.002    0.000 managers.py:132(<listcomp>)\n",
       "     1000    0.001    0.000    0.002    0.000 common.py:1006(is_signed_integer_dtype)\n",
       "     1000    0.001    0.000    0.001    0.000 generic.py:185(_init_mgr)\n",
       "     2000    0.001    0.000    0.002    0.000 inference.py:120(is_iterator)\n",
       "     1000    0.001    0.000    0.007    0.000 version.py:51(__lt__)\n",
       "     2000    0.001    0.000    0.014    0.000 version.py:302(__init__)\n",
       "     1000    0.001    0.000    0.006    0.000 base.py:1012(_ndarray_values)\n",
       "     4000    0.001    0.000    0.001    0.000 coordinates.py:194(__init__)\n",
       "     1000    0.001    0.000    0.006    0.000 <frozen importlib._bootstrap>:194(_lock_unlock_module)\n",
       "     4000    0.001    0.000    0.001    0.000 variable.py:2257(<listcomp>)\n",
       "     1000    0.001    0.000    0.026    0.000 <frozen importlib._bootstrap>:994(_gcd_import)\n",
       "     2000    0.001    0.000    0.001    0.000 dataset.py:571(encoding)\n",
       "     2000    0.001    0.000    0.001    0.000 utils.py:288(is_valid_numpy_dtype)\n",
       "     2000    0.001    0.000    0.001    0.000 series.py:443(_set_subtyp)\n",
       "     1000    0.001    0.000    0.006    0.000 {method 'any' of 'numpy.ndarray' objects}\n",
       "     2000    0.001    0.000    0.003    0.000 missing.py:48(isna)\n",
       "     1000    0.001    0.000    0.002    0.000 common.py:1585(is_float_dtype)\n",
       "     1000    0.001    0.000    0.002    0.000 common.py:1063(is_unsigned_integer_dtype)\n",
       "     1000    0.001    0.000    0.015    0.000 managers.py:655(<listcomp>)\n",
       "     2000    0.001    0.000    0.001    0.000 managers.py:171(ndim)\n",
       "     2000    0.001    0.000    0.001    0.000 {built-in method pandas._libs.missing.checknull}\n",
       "     2000    0.001    0.000    0.001    0.000 managers.py:342(<genexpr>)\n",
       "     5000    0.001    0.000    0.001    0.000 base.py:1524(nlevels)\n",
       "     1000    0.001    0.000    0.002    0.000 {built-in method builtins.sum}\n",
       "     4000    0.001    0.000    0.001    0.000 blocks.py:207(internal_values)\n",
       "     1000    0.001    0.000    0.009    0.000 common.py:1163(is_datetime64_any_dtype)\n",
       "     4000    0.001    0.000    0.001    0.000 {pandas._libs.lib.is_float}\n",
       "     1000    0.001    0.000    0.001    0.000 base.py:681(is_)\n",
       "     4000    0.001    0.000    0.001    0.000 {built-in method _imp.acquire_lock}\n",
       "     4000    0.001    0.000    0.001    0.000 base.py:3923(_values)\n",
       "     4000    0.001    0.000    0.001    0.000 {built-in method _thread.allocate_lock}\n",
       "     5000    0.001    0.000    0.001    0.000 copy.py:111(_copy_immutable)\n",
       "     5000    0.001    0.000    0.001    0.000 variable.py:2079(to_index_variable)\n",
       "     1000    0.001    0.000    0.001    0.000 base.py:3901(values)\n",
       "     1000    0.001    0.000    0.001    0.000 generic.py:510(ndim)\n",
       "     4000    0.001    0.000    0.001    0.000 common.py:1281(<lambda>)\n",
       "     1000    0.001    0.000    0.001    0.000 <frozen importlib._bootstrap>:929(_sanity_check)\n",
       "     1000    0.001    0.000    0.001    0.000 merge.py:460(_extract_indexes_from_coords)\n",
       "     1000    0.001    0.000    0.001    0.000 managers.py:935(_consolidate_inplace)\n",
       "     3000    0.001    0.000    0.001    0.000 merge.py:215(<listcomp>)\n",
       "     1000    0.001    0.000    0.001    0.000 managers.py:1863(_shape_compat)\n",
       "     3000    0.001    0.000    0.001    0.000 {method 'add' of 'set' objects}\n",
       "     1000    0.001    0.000    0.001    0.000 _internal.py:470(_view_is_safe)\n",
       "     2000    0.001    0.000    0.001    0.000 common.py:219(<lambda>)\n",
       "     2000    0.001    0.000    0.001    0.000 utils.py:411(__init__)\n",
       "     4000    0.001    0.000    0.001    0.000 {built-in method _imp.release_lock}\n",
       "     3000    0.000    0.000    0.000    0.000 utils.py:36(_check_inplace)\n",
       "     1000    0.000    0.000    0.000    0.000 common.py:185(_all_none)\n",
       "     1000    0.000    0.000    0.001    0.000 base.py:4377(equals)\n",
       "     2000    0.000    0.000    0.000    0.000 managers.py:1841(<lambda>)\n",
       "     1000    0.000    0.000    0.002    0.000 <frozen importlib._bootstrap>:151(__exit__)\n",
       "     4000    0.000    0.000    0.000    0.000 {built-in method _thread.get_ident}\n",
       "     1000    0.000    0.000    0.006    0.000 _methods.py:44(_any)\n",
       "     2000    0.000    0.000    0.000    0.000 alignment.py:328(<dictcomp>)\n",
       "     2000    0.000    0.000    0.000    0.000 indexes.py:32(__contains__)\n",
       "     2000    0.000    0.000    0.000    0.000 common.py:214(classes_and_not_datetimelike)\n",
       "     1000    0.000    0.000    0.000    0.000 dataset.py:1162(<dictcomp>)\n",
       "     1000    0.000    0.000    0.001    0.000 _optional.py:41(_get_version)\n",
       "     1000    0.000    0.000    0.001    0.000 utils.py:587(hashable)\n",
       "     1000    0.000    0.000    0.000    0.000 <frozen importlib._bootstrap>:143(__init__)\n",
       "     1000    0.000    0.000    0.000    0.000 blocks.py:339(shape)\n",
       "     1000    0.000    0.000    0.000    0.000 {method 'startswith' of 'str' objects}\n",
       "     1000    0.000    0.000    0.000    0.000 merge.py:468(assert_valid_explicit_coords)\n",
       "     1000    0.000    0.000    0.000    0.000 {method 'upper' of 'str' objects}\n",
       "     1000    0.000    0.000    0.000    0.000 base.py:747(dtype)\n",
       "     1000    0.000    0.000    0.001    0.000 range.py:658(size)\n",
       "     2000    0.000    0.000    0.000    0.000 numeric.py:134(is_all_dates)\n",
       "     1000    0.000    0.000    0.000    0.000 managers.py:646(is_consolidated)\n",
       "     1000    0.000    0.000    0.000    0.000 {method 'extend' of 'list' objects}\n",
       "     1000    0.000    0.000    0.000    0.000 blocks.py:343(dtype)\n",
       "     1000    0.000    0.000    0.000    0.000 range.py:170(_validate_dtype)\n",
       "     1000    0.000    0.000    0.000    0.000 {method 'keys' of 'dict' objects}\n",
       "     1000    0.000    0.000    0.000    0.000 base.py:717(<lambda>)\n",
       "        1    0.000    0.000    1.715    1.715 {built-in method builtins.exec}\n",
       "        1    0.000    0.000    0.000    0.000 {method 'disable' of '_lsprof.Profiler' objects}"
      ]
     },
     "metadata": {},
     "output_type": "display_data"
    }
   ],
   "source": [
    "%%prun -stime\n",
    "for _ in range(1000):\n",
    "    pd.DataFrame.from_records(y_vals.view(state_dtype)[:, 0]).to_xarray()"
   ]
  },
  {
   "cell_type": "code",
   "execution_count": 61,
   "metadata": {},
   "outputs": [
    {
     "data": {
      "text/plain": [
       "array([((0.4, 0.5), (0.02,))],\n",
       "      dtype={'names':['deriv_params','params'], 'formats':[[('mu_max', '<f8'), ('Y_XS', '<f8')],[('K_S', '<f8')]], 'offsets':[0,16], 'itemsize':24, 'aligned':True})"
      ]
     },
     "execution_count": 61,
     "metadata": {},
     "output_type": "execute_result"
    }
   ],
   "source": [
    "user_data.reshape((1,))"
   ]
  },
  {
   "cell_type": "code",
   "execution_count": 46,
   "metadata": {},
   "outputs": [
    {
     "data": {
      "text/plain": [
       "[<matplotlib.lines.Line2D at 0x7f6115096198>]"
      ]
     },
     "execution_count": 46,
     "metadata": {},
     "output_type": "execute_result"
    },
    {
     "data": {
      "image/png": "[encoded data removed]",
      "text/plain": [
       "<Figure size 432x288 with 1 Axes>"
      ]
     },
     "metadata": {
      "needs_background": "light"
     },
     "output_type": "display_data"
    }
   ],
   "source": [
    "plt.plot(tvals, y_vals[:, 0])\n",
    "plt.plot(tvals, y_vals[:, 1])"
   ]
  },
  {
   "cell_type": "code",
   "execution_count": 30,
   "metadata": {},
   "outputs": [
    {
     "data": {
      "text/plain": [
       "[<matplotlib.lines.Line2D at 0x7fbb10da17f0>]"
      ]
     },
     "execution_count": 30,
     "metadata": {},
     "output_type": "execute_result"
    },
    {
     "data": {
      "image/png": "[encoded data removed]",
      "text/plain": [
       "<Figure size 432x288 with 1 Axes>"
      ]
     },
     "metadata": {
      "needs_background": "light"
     },
     "output_type": "display_data"
    }
   ],
   "source": [
    "plt.plot(tvals, np.exp(np.array(y_vals)[:, 0]))\n",
    "plt.plot(tvals, np.exp(np.array(y_vals)[:, 1]))"
   ]
  },
  {
   "cell_type": "code",
   "execution_count": 31,
   "metadata": {},
   "outputs": [
    {
     "ename": "IndexError",
     "evalue": "too many indices for array",
     "output_type": "error",
     "traceback": [
      "\u001b[0;31m---------------------------------------------------------------------------\u001b[0m",
      "\u001b[0;31mIndexError\u001b[0m                                Traceback (most recent call last)",
      "\u001b[0;32m<ipython-input-31-da5157cf271f>\u001b[0m in \u001b[0;36m<module>\u001b[0;34m\u001b[0m\n\u001b[0;32m----> 1\u001b[0;31m \u001b[0mplt\u001b[0m\u001b[0;34m.\u001b[0m\u001b[0mplot\u001b[0m\u001b[0;34m(\u001b[0m\u001b[0mtvals\u001b[0m\u001b[0;34m,\u001b[0m \u001b[0mnp\u001b[0m\u001b[0;34m.\u001b[0m\u001b[0marray\u001b[0m\u001b[0;34m(\u001b[0m\u001b[0msens_vals\u001b[0m\u001b[0;34m)\u001b[0m\u001b[0;34m[\u001b[0m\u001b[0;34m:\u001b[0m\u001b[0;34m,\u001b[0m \u001b[0;36m0\u001b[0m\u001b[0;34m,\u001b[0m \u001b[0;36m0\u001b[0m\u001b[0;34m]\u001b[0m\u001b[0;34m)\u001b[0m\u001b[0;34m\u001b[0m\u001b[0;34m\u001b[0m\u001b[0m\n\u001b[0m\u001b[1;32m      2\u001b[0m \u001b[0mplt\u001b[0m\u001b[0;34m.\u001b[0m\u001b[0mplot\u001b[0m\u001b[0;34m(\u001b[0m\u001b[0mtvals\u001b[0m\u001b[0;34m,\u001b[0m \u001b[0mnp\u001b[0m\u001b[0;34m.\u001b[0m\u001b[0marray\u001b[0m\u001b[0;34m(\u001b[0m\u001b[0msens_vals\u001b[0m\u001b[0;34m)\u001b[0m\u001b[0;34m[\u001b[0m\u001b[0;34m:\u001b[0m\u001b[0;34m,\u001b[0m \u001b[0;36m0\u001b[0m\u001b[0;34m,\u001b[0m \u001b[0;36m1\u001b[0m\u001b[0;34m]\u001b[0m\u001b[0;34m)\u001b[0m\u001b[0;34m\u001b[0m\u001b[0;34m\u001b[0m\u001b[0m\n\u001b[1;32m      3\u001b[0m \u001b[0mplt\u001b[0m\u001b[0;34m.\u001b[0m\u001b[0mplot\u001b[0m\u001b[0;34m(\u001b[0m\u001b[0mtvals\u001b[0m\u001b[0;34m,\u001b[0m \u001b[0mnp\u001b[0m\u001b[0;34m.\u001b[0m\u001b[0marray\u001b[0m\u001b[0;34m(\u001b[0m\u001b[0msens_vals\u001b[0m\u001b[0;34m)\u001b[0m\u001b[0;34m[\u001b[0m\u001b[0;34m:\u001b[0m\u001b[0;34m,\u001b[0m \u001b[0;36m0\u001b[0m\u001b[0;34m,\u001b[0m \u001b[0;36m2\u001b[0m\u001b[0;34m]\u001b[0m\u001b[0;34m)\u001b[0m\u001b[0;34m\u001b[0m\u001b[0;34m\u001b[0m\u001b[0m\n",
      "\u001b[0;31mIndexError\u001b[0m: too many indices for array"
     ]
    }
   ],
   "source": [
    "plt.plot(tvals, np.array(sens_vals)[:, 0, 0])\n",
    "plt.plot(tvals, np.array(sens_vals)[:, 0, 1])\n",
    "plt.plot(tvals, np.array(sens_vals)[:, 0, 2])"
   ]
  },
  {
   "cell_type": "code",
   "execution_count": 97,
   "metadata": {},
   "outputs": [
    {
     "data": {
      "text/plain": [
       "[<matplotlib.lines.Line2D at 0x7f9589932630>]"
      ]
     },
     "execution_count": 97,
     "metadata": {},
     "output_type": "execute_result"
    },
    {
     "data": {
      "image/png": "[encoded data removed]",
      "text/plain": [
       "<Figure size 432x288 with 1 Axes>"
      ]
     },
     "metadata": {
      "needs_background": "light"
     },
     "output_type": "display_data"
    }
   ],
   "source": [
    "plt.plot(tvals, np.array(sens_vals)[:, 1, 0])\n",
    "plt.plot(tvals, np.array(sens_vals)[:, 1, 1])\n",
    "plt.plot(tvals, np.array(sens_vals)[:, 1, 2])"
   ]
  },
  {
   "cell_type": "code",
   "execution_count": 98,
   "metadata": {},
   "outputs": [],
   "source": [
    "num_evals_p = ffi.new('long*')\n",
    "num_evals_p[0] = 0"
   ]
  },
  {
   "cell_type": "code",
   "execution_count": 99,
   "metadata": {},
   "outputs": [
    {
     "data": {
      "text/plain": [
       "331"
      ]
     },
     "execution_count": 99,
     "metadata": {},
     "output_type": "execute_result"
    }
   ],
   "source": [
    "lib.CVodeGetNumRhsEvals(ode, num_evals_p)\n",
    "num_evals_p[0]"
   ]
  },
  {
   "cell_type": "code",
   "execution_count": 100,
   "metadata": {},
   "outputs": [
    {
     "data": {
      "text/plain": [
       "158"
      ]
     },
     "execution_count": 100,
     "metadata": {},
     "output_type": "execute_result"
    }
   ],
   "source": [
    "lib.CVodeGetNumSteps(ode, num_evals_p)\n",
    "num_evals_p[0]"
   ]
  },
  {
   "cell_type": "code",
   "execution_count": 101,
   "metadata": {},
   "outputs": [
    {
     "data": {
      "text/plain": [
       "10.0"
      ]
     },
     "execution_count": 101,
     "metadata": {},
     "output_type": "execute_result"
    }
   ],
   "source": [
    "time_p[0]"
   ]
  },
  {
   "cell_type": "code",
   "execution_count": 102,
   "metadata": {},
   "outputs": [],
   "source": [
    "from scipy import integrate"
   ]
  },
  {
   "cell_type": "code",
   "execution_count": 103,
   "metadata": {},
   "outputs": [],
   "source": [
    "def rhs_(t, y):\n",
    "    out = np.empty_like(y)\n",
    "    assert rhs(t, y, out, user_data) == 0\n",
    "    return out"
   ]
  },
  {
   "cell_type": "code",
   "execution_count": 104,
   "metadata": {},
   "outputs": [],
   "source": [
    "def jac_(t, y):\n",
    "    out = np.empty((ndim, ndim))\n",
    "    assert jacobian(t, y, None, out, user_data) == 0\n",
    "    return out"
   ]
  },
  {
   "cell_type": "code",
   "execution_count": 105,
   "metadata": {},
   "outputs": [],
   "source": [
    "from scipy import integrate"
   ]
  },
  {
   "cell_type": "code",
   "execution_count": 106,
   "metadata": {},
   "outputs": [
    {
     "name": "stdout",
     "output_type": "stream",
     "text": [
      "46.6 ms ± 185 µs per loop (mean ± std. dev. of 7 runs, 10 loops each)\n"
     ]
    }
   ],
   "source": [
    "%%timeit\n",
    "out = integrate.solve_ivp(\n",
    "    rhs_,\n",
    "    jac=jac_,\n",
    "    t_span=(0, tvals.max()),\n",
    "    t_eval=tvals, y0=np.array([0.5, 0.6]), method='BDF',\n",
    "    rtol=reltol, atol=abstol.data.copy())"
   ]
  },
  {
   "cell_type": "code",
   "execution_count": 107,
   "metadata": {},
   "outputs": [],
   "source": [
    "out = integrate.solve_ivp(\n",
    "    rhs_,\n",
    "    jac=jac_,\n",
    "    t_span=(0, tvals.max()),\n",
    "    t_eval=tvals, y0=np.array([0.5, 0.6]), method='BDF',\n",
    "    rtol=reltol, atol=abstol.data.copy())"
   ]
  },
  {
   "cell_type": "code",
   "execution_count": 108,
   "metadata": {},
   "outputs": [
    {
     "data": {
      "text/plain": [
       "[<matplotlib.lines.Line2D at 0x7f95890abeb8>]"
      ]
     },
     "execution_count": 108,
     "metadata": {},
     "output_type": "execute_result"
    },
    {
     "data": {
      "image/png": "[encoded data removed]",
      "text/plain": [
       "<Figure size 432x288 with 1 Axes>"
      ]
     },
     "metadata": {
      "needs_background": "light"
     },
     "output_type": "display_data"
    }
   ],
   "source": [
    "plt.plot(tvals, out.y[0, :])\n",
    "plt.plot(tvals, out.y[1, :])\n",
    "\n",
    "plt.plot(tvals, np.array(y_vals)[:, 0], '.-.')\n",
    "plt.plot(tvals, np.array(y_vals)[:, 1], '.-.')"
   ]
  },
  {
   "cell_type": "code",
   "execution_count": 71,
   "metadata": {},
   "outputs": [
    {
     "data": {
      "text/plain": [
       "  message: 'The solver successfully reached the end of the integration interval.'\n",
       "     nfev: 414\n",
       "     njev: 1\n",
       "      nlu: 36\n",
       "      sol: None\n",
       "   status: 0\n",
       "  success: True\n",
       "        t: array([ 0.        ,  0.20408163,  0.40816327,  0.6122449 ,  0.81632653,\n",
       "        1.02040816,  1.2244898 ,  1.42857143,  1.63265306,  1.83673469,\n",
       "        2.04081633,  2.24489796,  2.44897959,  2.65306122,  2.85714286,\n",
       "        3.06122449,  3.26530612,  3.46938776,  3.67346939,  3.87755102,\n",
       "        4.08163265,  4.28571429,  4.48979592,  4.69387755,  4.89795918,\n",
       "        5.10204082,  5.30612245,  5.51020408,  5.71428571,  5.91836735,\n",
       "        6.12244898,  6.32653061,  6.53061224,  6.73469388,  6.93877551,\n",
       "        7.14285714,  7.34693878,  7.55102041,  7.75510204,  7.95918367,\n",
       "        8.16326531,  8.36734694,  8.57142857,  8.7755102 ,  8.97959184,\n",
       "        9.18367347,  9.3877551 ,  9.59183673,  9.79591837, 10.        ])\n",
       " t_events: None\n",
       "        y: array([[ 0.5       ,  0.59330775,  0.6558635 ,  0.68691887,  0.68730437,\n",
       "         0.65901042,  0.60470768,  0.52735582,  0.42997359,  0.31557878,\n",
       "         0.18726967,  0.04840153, -0.09720291, -0.24508888, -0.39014637,\n",
       "        -0.52681342, -0.64953166, -0.75337261, -0.83465121, -0.89132052,\n",
       "        -0.92303038, -0.93087671, -0.91697523, -0.88401334, -0.83488646,\n",
       "        -0.77245968, -0.69944732, -0.61838069, -0.53163038, -0.44145466,\n",
       "        -0.35005157, -0.25959857, -0.172268  , -0.09021141, -0.01551158,\n",
       "         0.0498925 ,  0.10429556,  0.14631476,  0.17496078,  0.18967952,\n",
       "         0.19036044,  0.17731603,  0.15124244,  0.11317357,  0.06443882,\n",
       "         0.0066299 , -0.05842347, -0.12867506, -0.20189037, -0.27569338],\n",
       "       [ 0.6       ,  0.24269343, -0.10330376, -0.42727928, -0.71978789,\n",
       "        -0.97303477, -1.18103599, -1.33959005, -1.44613273, -1.49955428,\n",
       "        -1.5000435 , -1.44900144, -1.34904174, -1.20406567, -1.0193672 ,\n",
       "        -0.80169251, -0.55916445, -0.30100268, -0.03703116,  0.22295627,\n",
       "         0.4698444 ,  0.69572922,  0.89425338,  1.06073041,  1.19209685,\n",
       "         1.28675424,  1.3443617 ,  1.36562446,  1.35210615,  1.30607714,\n",
       "         1.23040031,  1.12844806,  1.0040396 ,  0.86138545,  0.70502601,\n",
       "         0.53975302,  0.37050806,  0.20225772,  0.03985218, -0.11212185,\n",
       "        -0.24948055, -0.36856378, -0.4663299 , -0.54042293, -0.5892147 ,\n",
       "        -0.61182775, -0.60814451, -0.57880707, -0.52520765, -0.44946602]])"
      ]
     },
     "execution_count": 71,
     "metadata": {},
     "output_type": "execute_result"
    }
   ],
   "source": [
    "out"
   ]
  },
  {
   "cell_type": "code",
   "execution_count": null,
   "metadata": {},
   "outputs": [],
   "source": []
  },
  {
   "cell_type": "code",
   "execution_count": null,
   "metadata": {},
   "outputs": [],
   "source": []
  }
 ],
 "metadata": {
  "kernelspec": {
   "display_name": "Python 3",
   "language": "python",
   "name": "python3"
  },
  "language_info": {
   "codemirror_mode": {
    "name": "ipython",
    "version": 3
   },
   "file_extension": ".py",
   "mimetype": "text/x-python",
   "name": "python",
   "nbconvert_exporter": "python",
   "pygments_lexer": "ipython3",
   "version": "3.7.3"
  }
 },
 "nbformat": 4,
 "nbformat_minor": 4
}
