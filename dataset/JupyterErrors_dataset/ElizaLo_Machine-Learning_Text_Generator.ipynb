{
  "nbformat": 4,
  "nbformat_minor": 0,
  "metadata": {
    "colab": {
      "name": "Text Generator.ipynb",
      "version": "0.3.2",
      "provenance": [],
      "include_colab_link": true
    },
    "kernelspec": {
      "name": "python3",
      "display_name": "Python 3"
    },
    "accelerator": "GPU"
  },
  "cells": [
    {
      "cell_type": "markdown",
      "metadata": {
        "id": "view-in-github",
        "colab_type": "text"
      },
      "source": [
        "<a href=\"https://colab.research.google.com/github/ElizaLo/ML-using-Jupiter-Notebook-and-Google-Colab/blob/master/Text%20Generator/Text_Generator.ipynb\" target=\"_parent\"><img src=\"https://colab.research.google.com/assets/colab-badge.svg\" alt=\"Open In Colab\"/></a>"
      ]
    },
    {
      "metadata": {
        "id": "AlGl1p_LMK6e",
        "colab_type": "text"
      },
      "cell_type": "markdown",
      "source": [
        "# ** Neural Network for generating text based on training txt file**"
      ]
    },
    {
      "metadata": {
        "id": "Wvqydb3MqCZJ",
        "colab_type": "code",
        "colab": {}
      },
      "cell_type": "code",
      "source": [
        "import os\n",
        "import sys\n",
        "import keras\n",
        "import numpy as np\n",
        "import string"
      ],
      "execution_count": 0,
      "outputs": []
    },
    {
      "metadata": {
        "id": "VI-K9QzxqfrE",
        "colab_type": "code",
        "colab": {}
      },
      "cell_type": "code",
      "source": [
        "from google.colab import drive"
      ],
      "execution_count": 0,
      "outputs": []
    },
    {
      "metadata": {
        "id": "YZdNaMD6qmJm",
        "colab_type": "code",
        "outputId": "f36a11cc-9f61-401c-9c2e-f2c0a83c27d8",
        "colab": {
          "base_uri": "https://localhost:8080/",
          "height": 191
        }
      },
      "cell_type": "code",
      "source": [
        "drive.mount('/content/drive')"
      ],
      "execution_count": 0,
      "outputs": [
        {
          "output_type": "stream",
          "text": [
            "Go to this URL in a browser: https://accounts.google.com/o/oauth2/auth?client_id=947318989803-6bn6qk8qdgf4n4g3pfee6491hc0brc4i.apps.googleusercontent.com&redirect_uri=urn%3Aietf%3Awg%3Aoauth%3A2.0%3Aoob&scope=email%20https%3A%2F%2Fwww.googleapis.com%2Fauth%2Fdocs.test%20https%3A%2F%2Fwww.googleapis.com%2Fauth%2Fdrive%20https%3A%2F%2Fwww.googleapis.com%2Fauth%2Fdrive.photos.readonly%20https%3A%2F%2Fwww.googleapis.com%2Fauth%2Fpeopleapi.readonly&response_type=code\n",
            "\n",
            "Enter your authorization code:\n",
            "··········\n",
            "Mounted at /content/drive\n"
          ],
          "name": "stdout"
        }
      ]
    },
    {
      "metadata": {
        "id": "-77YEV1Mq1xa",
        "colab_type": "code",
        "colab": {}
      },
      "cell_type": "code",
      "source": [
        "os.chdir(\"drive/My Drive/ML Practice/Text Generator\")"
      ],
      "execution_count": 0,
      "outputs": []
    },
    {
      "metadata": {
        "id": "69W4F47sMZdn",
        "colab_type": "text"
      },
      "cell_type": "markdown",
      "source": [
        "##  List of chars to be treated as separate tokens in the dictionary"
      ]
    },
    {
      "metadata": {
        "id": "XVAq7FzFqCZQ",
        "colab_type": "code",
        "outputId": "2cdf7938-dd88-443d-8ecd-392059617903",
        "colab": {
          "base_uri": "https://localhost:8080/",
          "height": 34
        }
      },
      "cell_type": "code",
      "source": [
        "string.punctuation"
      ],
      "execution_count": 0,
      "outputs": [
        {
          "output_type": "execute_result",
          "data": {
            "text/plain": [
              "'!\"#$%&\\'()*+,-./:;<=>?@[\\\\]^_`{|}~'"
            ]
          },
          "metadata": {
            "tags": []
          },
          "execution_count": 6
        }
      ]
    },
    {
      "metadata": {
        "id": "ReCryGqvqCZb",
        "colab_type": "code",
        "colab": {}
      },
      "cell_type": "code",
      "source": [
        "chars = string.punctuation"
      ],
      "execution_count": 0,
      "outputs": []
    },
    {
      "metadata": {
        "id": "IGgK3c_6qCZg",
        "colab_type": "code",
        "colab": {}
      },
      "cell_type": "code",
      "source": [
        "chars = chars.replace(\"`\", \"\")"
      ],
      "execution_count": 0,
      "outputs": []
    },
    {
      "metadata": {
        "id": "LjjaAkGnqCZn",
        "colab_type": "code",
        "colab": {}
      },
      "cell_type": "code",
      "source": [
        "chars = chars.replace(\"'\", \"\")"
      ],
      "execution_count": 0,
      "outputs": []
    },
    {
      "metadata": {
        "id": "X6vc7q88qCZw",
        "colab_type": "code",
        "colab": {}
      },
      "cell_type": "code",
      "source": [
        "f = open(\"alice_in_wonderland.txt\")\n",
        "alice = f.read()\n",
        "f.close()"
      ],
      "execution_count": 0,
      "outputs": []
    },
    {
      "metadata": {
        "id": "A7CSwxHBqCZ2",
        "colab_type": "code",
        "outputId": "1df8bcb0-ca52-4ec7-9b7f-5764a2b44c3b",
        "colab": {
          "base_uri": "https://localhost:8080/",
          "height": 34
        }
      },
      "cell_type": "code",
      "source": [
        "len(alice)"
      ],
      "execution_count": 0,
      "outputs": [
        {
          "output_type": "execute_result",
          "data": {
            "text/plain": [
              "148574"
            ]
          },
          "metadata": {
            "tags": []
          },
          "execution_count": 11
        }
      ]
    },
    {
      "metadata": {
        "id": "Rqj-veQ4qCZ9",
        "colab_type": "text"
      },
      "cell_type": "markdown",
      "source": [
        "## Replace ' and  `"
      ]
    },
    {
      "metadata": {
        "id": "5Yccu7xvqCZ-",
        "colab_type": "code",
        "colab": {}
      },
      "cell_type": "code",
      "source": [
        "alice = alice.replace(\" '\", '\"')\n",
        "alice = alice.replace(\"' \", '\"')\n",
        "alice = alice.replace(\" `\", '\"')\n",
        "alice = alice.replace(\"` \", '\"')"
      ],
      "execution_count": 0,
      "outputs": []
    },
    {
      "metadata": {
        "id": "LNA2eBWBqCaE",
        "colab_type": "code",
        "outputId": "c005280a-29f1-480c-a0be-fd4027496647",
        "colab": {
          "base_uri": "https://localhost:8080/",
          "height": 74
        }
      },
      "cell_type": "code",
      "source": [
        "alice[:1500]"
      ],
      "execution_count": 0,
      "outputs": [
        {
          "output_type": "execute_result",
          "data": {
            "text/plain": [
              "'Alice\\'s Adventures in Wonderland\\n\\n                ALICE\\'S ADVENTURES IN WONDERLAND\\n\\n                          Lewis Carroll\\n\\n               THE MILLENNIUM FULCRUM EDITION 3.0\\n\\n\\n\\n\\n                            CHAPTER I\\n\\n                      Down the Rabbit-Hole\\n\\n\\n  Alice was beginning to get very tired of sitting by her sister\\non the bank, and of having nothing to do:  once or twice she had\\npeeped into the book her sister was reading, but it had no\\npictures or conversations in it,\"and what is the use of a book,\\'\\nthought Alice\"without pictures or conversation?\\'\\n\\n  So she was considering in her own mind (as well as she could,\\nfor the hot day made her feel very sleepy and stupid), whether\\nthe pleasure of making a daisy-chain would be worth the trouble\\nof getting up and picking the daisies, when suddenly a White\\nRabbit with pink eyes ran close by her.\\n\\n  There was nothing so VERY remarkable in that; nor did Alice\\nthink it so VERY much out of the way to hear the Rabbit say to\\nitself,\"Oh dear!  Oh dear!  I shall be late!\" (when she thought\\nit over afterwards, it occurred to her that she ought to have\\nwondered at this, but at the time it all seemed quite natural);\\nbut when the Rabbit actually TOOK A WATCH OUT OF ITS WAISTCOAT-\\nPOCKET, and looked at it, and then hurried on, Alice started to\\nher feet, for it flashed across her mind that she had never\\nbefore seen a rabbit with either a waistcoat-pocket, or a watch to\\ntake out of it, and burning with curiosity, she ran across the\\nfield a'"
            ]
          },
          "metadata": {
            "tags": []
          },
          "execution_count": 13
        }
      ]
    },
    {
      "metadata": {
        "id": "u1pWxFYOqCaM",
        "colab_type": "code",
        "colab": {}
      },
      "cell_type": "code",
      "source": [
        "import re"
      ],
      "execution_count": 0,
      "outputs": []
    },
    {
      "metadata": {
        "id": "RgRRmhtzMkEO",
        "colab_type": "text"
      },
      "cell_type": "markdown",
      "source": [
        "## The text initially is given row by row separated by \\n symbol, paragraphs are separated by multiple \\n symbols. Replacing multiple \\n with unique qwerty word, deleting all \\n tokens, replacing qwerty back to \\n"
      ]
    },
    {
      "metadata": {
        "id": "Dk9oCc8-qCaR",
        "colab_type": "code",
        "colab": {}
      },
      "cell_type": "code",
      "source": [
        "s = \"\\n\\n\""
      ],
      "execution_count": 0,
      "outputs": []
    },
    {
      "metadata": {
        "id": "jAK-qDgaqCaU",
        "colab_type": "code",
        "colab": {}
      },
      "cell_type": "code",
      "source": [
        "s = re.sub(\"\\n\\n+\", \"a\", s) #какое-то количество \\n"
      ],
      "execution_count": 0,
      "outputs": []
    },
    {
      "metadata": {
        "id": "0uMeKD75qCaX",
        "colab_type": "code",
        "outputId": "ab6766ad-cfd7-492f-9301-1a9b3a08e6f9",
        "colab": {
          "base_uri": "https://localhost:8080/",
          "height": 34
        }
      },
      "cell_type": "code",
      "source": [
        "s"
      ],
      "execution_count": 0,
      "outputs": [
        {
          "output_type": "execute_result",
          "data": {
            "text/plain": [
              "'a'"
            ]
          },
          "metadata": {
            "tags": []
          },
          "execution_count": 17
        }
      ]
    },
    {
      "metadata": {
        "id": "KNYApz-RqCab",
        "colab_type": "code",
        "colab": {}
      },
      "cell_type": "code",
      "source": [
        "alice = re.sub(\"\\n\\n+\", \"qwerty\", alice) "
      ],
      "execution_count": 0,
      "outputs": []
    },
    {
      "metadata": {
        "id": "mqEOh0VVqCae",
        "colab_type": "code",
        "outputId": "e01d4f3c-6a46-49af-a7fc-49bee3b792e9",
        "colab": {
          "base_uri": "https://localhost:8080/",
          "height": 74
        }
      },
      "cell_type": "code",
      "source": [
        "alice[:1500]"
      ],
      "execution_count": 0,
      "outputs": [
        {
          "output_type": "execute_result",
          "data": {
            "text/plain": [
              "'Alice\\'s Adventures in Wonderlandqwerty                ALICE\\'S ADVENTURES IN WONDERLANDqwerty                          Lewis Carrollqwerty               THE MILLENNIUM FULCRUM EDITION 3.0qwerty                            CHAPTER Iqwerty                      Down the Rabbit-Holeqwerty  Alice was beginning to get very tired of sitting by her sister\\non the bank, and of having nothing to do:  once or twice she had\\npeeped into the book her sister was reading, but it had no\\npictures or conversations in it,\"and what is the use of a book,\\'\\nthought Alice\"without pictures or conversation?\\'qwerty  So she was considering in her own mind (as well as she could,\\nfor the hot day made her feel very sleepy and stupid), whether\\nthe pleasure of making a daisy-chain would be worth the trouble\\nof getting up and picking the daisies, when suddenly a White\\nRabbit with pink eyes ran close by her.qwerty  There was nothing so VERY remarkable in that; nor did Alice\\nthink it so VERY much out of the way to hear the Rabbit say to\\nitself,\"Oh dear!  Oh dear!  I shall be late!\" (when she thought\\nit over afterwards, it occurred to her that she ought to have\\nwondered at this, but at the time it all seemed quite natural);\\nbut when the Rabbit actually TOOK A WATCH OUT OF ITS WAISTCOAT-\\nPOCKET, and looked at it, and then hurried on, Alice started to\\nher feet, for it flashed across her mind that she had never\\nbefore seen a rabbit with either a waistcoat-pocket, or a watch to\\ntake out of it, and burning with curiosity'"
            ]
          },
          "metadata": {
            "tags": []
          },
          "execution_count": 19
        }
      ]
    },
    {
      "metadata": {
        "id": "8iArKAebqCaj",
        "colab_type": "code",
        "colab": {}
      },
      "cell_type": "code",
      "source": [
        "alice = alice.replace(\"\\n\", \" \")"
      ],
      "execution_count": 0,
      "outputs": []
    },
    {
      "metadata": {
        "id": "oJKJYAaUqCam",
        "colab_type": "code",
        "outputId": "a07ea4c5-53a2-4098-d4b9-d9de89b99fe7",
        "colab": {
          "base_uri": "https://localhost:8080/",
          "height": 74
        }
      },
      "cell_type": "code",
      "source": [
        "alice[:1500]"
      ],
      "execution_count": 0,
      "outputs": [
        {
          "output_type": "execute_result",
          "data": {
            "text/plain": [
              "'Alice\\'s Adventures in Wonderlandqwerty                ALICE\\'S ADVENTURES IN WONDERLANDqwerty                          Lewis Carrollqwerty               THE MILLENNIUM FULCRUM EDITION 3.0qwerty                            CHAPTER Iqwerty                      Down the Rabbit-Holeqwerty  Alice was beginning to get very tired of sitting by her sister on the bank, and of having nothing to do:  once or twice she had peeped into the book her sister was reading, but it had no pictures or conversations in it,\"and what is the use of a book,\\' thought Alice\"without pictures or conversation?\\'qwerty  So she was considering in her own mind (as well as she could, for the hot day made her feel very sleepy and stupid), whether the pleasure of making a daisy-chain would be worth the trouble of getting up and picking the daisies, when suddenly a White Rabbit with pink eyes ran close by her.qwerty  There was nothing so VERY remarkable in that; nor did Alice think it so VERY much out of the way to hear the Rabbit say to itself,\"Oh dear!  Oh dear!  I shall be late!\" (when she thought it over afterwards, it occurred to her that she ought to have wondered at this, but at the time it all seemed quite natural); but when the Rabbit actually TOOK A WATCH OUT OF ITS WAISTCOAT- POCKET, and looked at it, and then hurried on, Alice started to her feet, for it flashed across her mind that she had never before seen a rabbit with either a waistcoat-pocket, or a watch to take out of it, and burning with curiosity'"
            ]
          },
          "metadata": {
            "tags": []
          },
          "execution_count": 21
        }
      ]
    },
    {
      "metadata": {
        "id": "29lDMakXqCaq",
        "colab_type": "code",
        "colab": {}
      },
      "cell_type": "code",
      "source": [
        "alice = alice.replace(\"qwety\", \"\\n\")"
      ],
      "execution_count": 0,
      "outputs": []
    },
    {
      "metadata": {
        "id": "1GgKvy-5qCat",
        "colab_type": "code",
        "outputId": "b2dfda69-4210-443a-aaf1-ba0f3dfcf820",
        "colab": {
          "base_uri": "https://localhost:8080/",
          "height": 74
        }
      },
      "cell_type": "code",
      "source": [
        "print(alice[:1500])"
      ],
      "execution_count": 0,
      "outputs": [
        {
          "output_type": "stream",
          "text": [
            "Alice's Adventures in Wonderlandqwerty                ALICE'S ADVENTURES IN WONDERLANDqwerty                          Lewis Carrollqwerty               THE MILLENNIUM FULCRUM EDITION 3.0qwerty                            CHAPTER Iqwerty                      Down the Rabbit-Holeqwerty  Alice was beginning to get very tired of sitting by her sister on the bank, and of having nothing to do:  once or twice she had peeped into the book her sister was reading, but it had no pictures or conversations in it,\"and what is the use of a book,' thought Alice\"without pictures or conversation?'qwerty  So she was considering in her own mind (as well as she could, for the hot day made her feel very sleepy and stupid), whether the pleasure of making a daisy-chain would be worth the trouble of getting up and picking the daisies, when suddenly a White Rabbit with pink eyes ran close by her.qwerty  There was nothing so VERY remarkable in that; nor did Alice think it so VERY much out of the way to hear the Rabbit say to itself,\"Oh dear!  Oh dear!  I shall be late!\" (when she thought it over afterwards, it occurred to her that she ought to have wondered at this, but at the time it all seemed quite natural); but when the Rabbit actually TOOK A WATCH OUT OF ITS WAISTCOAT- POCKET, and looked at it, and then hurried on, Alice started to her feet, for it flashed across her mind that she had never before seen a rabbit with either a waistcoat-pocket, or a watch to take out of it, and burning with curiosity\n"
          ],
          "name": "stdout"
        }
      ]
    },
    {
      "metadata": {
        "id": "YrOEDDGTqCax",
        "colab_type": "code",
        "colab": {}
      },
      "cell_type": "code",
      "source": [
        "alice = alice.replace(\" '\", '\"')\n",
        "alice = alice.replace(\"' \", '\"')\n",
        "alice = alice.replace(\" `\", '\"')\n",
        "alice = alice.replace(\"` \", '\"')"
      ],
      "execution_count": 0,
      "outputs": []
    },
    {
      "metadata": {
        "id": "nkLu_ER9MskR",
        "colab_type": "text"
      },
      "cell_type": "markdown",
      "source": [
        "## Separating punctuation symbols by \" \" from both sides to make them separate words"
      ]
    },
    {
      "metadata": {
        "id": "9_XUJnTZqCaz",
        "colab_type": "code",
        "colab": {}
      },
      "cell_type": "code",
      "source": [
        "for c in chars:\n",
        "    alice = alice.replace(c,\" \"+c+\" \")"
      ],
      "execution_count": 0,
      "outputs": []
    },
    {
      "metadata": {
        "id": "7NEKs59BqCa1",
        "colab_type": "code",
        "colab": {}
      },
      "cell_type": "code",
      "source": [
        "alice = alice.replace(\"\\t\", \" \")"
      ],
      "execution_count": 0,
      "outputs": []
    },
    {
      "metadata": {
        "id": "V5B8UxHfqCa4",
        "colab_type": "code",
        "colab": {}
      },
      "cell_type": "code",
      "source": [
        "alice = alice.replace(\"*\", \" \")"
      ],
      "execution_count": 0,
      "outputs": []
    },
    {
      "metadata": {
        "id": "1Z1McFJ7qCa6",
        "colab_type": "code",
        "colab": {}
      },
      "cell_type": "code",
      "source": [
        "f = open(\"alice_formatted.txt\", \"w\")\n",
        "f.write(alice)\n",
        "f.close()"
      ],
      "execution_count": 0,
      "outputs": []
    },
    {
      "metadata": {
        "id": "HYouRmeSqCa8",
        "colab_type": "code",
        "outputId": "09f8259c-e960-47e4-cb4d-139d4c2aa42a",
        "colab": {
          "base_uri": "https://localhost:8080/",
          "height": 74
        }
      },
      "cell_type": "code",
      "source": [
        "print(alice)"
      ],
      "execution_count": 0,
      "outputs": [
        {
          "output_type": "stream",
          "text": [
            "Alice's Adventures in Wonderlandqwerty                ALICE'S ADVENTURES IN WONDERLANDqwerty                          Lewis Carrollqwerty               THE MILLENNIUM FULCRUM EDITION 3 . 0qwerty                            CHAPTER Iqwerty                      Down the Rabbit - Holeqwerty  Alice was beginning to get very tired of sitting by her sister on the bank ,  and of having nothing to do :   once or twice she had peeped into the book her sister was reading ,  but it had no pictures or conversations in it ,  \" and what is the use of a book ,  \" thought Alice \" without pictures or conversation ? 'qwerty  So she was considering in her own mind  ( as well as she could ,  for the hot day made her feel very sleepy and stupid )  ,  whether the pleasure of making a daisy - chain would be worth the trouble of getting up and picking the daisies ,  when suddenly a White Rabbit with pink eyes ran close by her . qwerty  There was nothing so VERY remarkable in that ;  nor did Alice think it so VERY much out of the way to hear the Rabbit say to itself ,  \" Oh dear !   Oh dear !   I shall be late !  \"   ( when she thought it over afterwards ,  it occurred to her that she ought to have wondered at this ,  but at the time it all seemed quite natural )  ;  but when the Rabbit actually TOOK A WATCH OUT OF ITS WAISTCOAT -  POCKET ,  and looked at it ,  and then hurried on ,  Alice started to her feet ,  for it flashed across her mind that she had never before seen a rabbit with either a waistcoat - pocket ,  or a watch to take out of it ,  and burning with curiosity ,  she ran across the field after it ,  and fortunately was just in time to see it pop down a large rabbit - hole under the hedge . qwerty  In another moment down went Alice after it ,  never once considering how in the world she was to get out again . qwerty  The rabbit - hole went straight on like a tunnel for some way ,  and then dipped suddenly down ,  so suddenly that Alice had not a moment to think about stopping herself before she found herself falling down a very deep well . qwerty  Either the well was very deep ,  or she fell very slowly ,  for she had plenty of time as she went down to look about her and to wonder what was going to happen next .   First ,  she tried to look down and make out what she was coming to ,  but it was too dark to see anything ;  then she looked at the sides of the well ,  and noticed that they were filled with cupboards and book - shelves ;  here and there she saw maps and pictures hung upon pegs .   She took down a jar from one of the shelves as she passed ;  it was labelled \" ORANGE MARMALADE' ,  but to her great disappointment it was empty :   she did not like to drop the jar for fear of killing somebody ,  so managed to put it into one of the cupboards as she fell past it . qwerty  \" Well !  \" thought Alice to herself ,  \" after such a fall as this ,  I shall think nothing of tumbling down stairs !   How brave they'll all think me at home !   Why ,  I wouldn't say anything about it ,  even if I fell off the top of the house !  \"  ( Which was very likely true .  ) qwerty  Down ,  down ,  down .   Would the fall NEVER come to an end !   \" I wonder how many miles I've fallen by this time ?  \" she said aloud .  \" I must be getting somewhere near the centre of the earth .   Let me see :   that would be four thousand miles down ,  I think -  -  \"  ( for ,  you see ,  Alice had learnt several things of this sort in her lessons in the schoolroom ,  and though this was not a VERY good opportunity for showing off her knowledge ,  as there was no one to listen to her ,  still it was good practice to say it over )  \"  -  - yes ,  that's about the right distance -  - but then I wonder what Latitude or Longitude I've got to ?  \"   ( Alice had no idea what Latitude was ,  or Longitude either ,  but thought they were nice grand words to say .  ) qwerty  Presently she began again .   \" I wonder if I shall fall right THROUGH the earth !   How funny it'll seem to come out among the people that walk with their heads downward !   The Antipathies ,  I think -  -  \"  ( she was rather glad there WAS no one listening ,  this time ,  as it didn't sound at all the right word )  \"  -  - but I shall have to ask them what the name of the country is ,  you know .  Please ,  Ma'am ,  is this New Zealand or Australia ?  \"  ( and she tried to curtsey as she spoke -  - fancy CURTSEYING as you're falling through the air !   Do you think you could manage it ?  )   \" And what an ignorant little girl she'll think me for asking !   No ,  it'll never do to ask :   perhaps I shall see it written up somewhere . 'qwerty  Down ,  down ,  down .   There was nothing else to do ,  so Alice soon began talking again .   \" Dinah'll miss me very much to - night ,  I should think !  \"   ( Dinah was the cat .  )   \" I hope they'll remember her saucer of milk at tea - time .   Dinah my dear !   I wish you were down here with me !   There are no mice in the air ,  I'm afraid ,  but you might catch a bat ,  and that's very like a mouse ,  you know .  But do cats eat bats ,  I wonder ?  \"  And here Alice began to get rather sleepy ,  and went on saying to herself ,  in a dreamy sort of way ,  \" Do cats eat bats ?   Do cats eat bats ?  \" and sometimes ,  \" Do bats eat cats ?  \" for ,  you see ,  as she couldn't answer either question ,  it didn't much matter which way she put it .   She felt that she was dozing off ,  and had just begun to dream that she was walking hand in hand with Dinah ,  and saying to her very earnestly ,  \" Now ,  Dinah ,  tell me the truth :   did you ever eat a bat ?  \" when suddenly ,  thump !  thump !  down she came upon a heap of sticks and dry leaves ,  and the fall was over . qwerty  Alice was not a bit hurt ,  and she jumped up on to her feet in a moment :   she looked up ,  but it was all dark overhead ;  before her was another long passage ,  and the White Rabbit was still in sight ,  hurrying down it .   There was not a moment to be lost :  away went Alice like the wind ,  and was just in time to hear it say ,  as it turned a corner ,  \" Oh my ears and whiskers ,  how late it's getting !  \"  She was close behind it when she turned the corner ,  but the Rabbit was no longer to be seen :   she found herself in a long ,  low hall ,  which was lit up by a row of lamps hanging from the roof . qwerty  There were doors all round the hall ,  but they were all locked ;  and when Alice had been all the way down one side and up the other ,  trying every door ,  she walked sadly down the middle ,  wondering how she was ever to get out again . qwerty  Suddenly she came upon a little three - legged table ,  all made of solid glass ;  there was nothing on it except a tiny golden key ,  and Alice's first thought was that it might belong to one of the doors of the hall ;  but ,  alas !  either the locks were too large ,  or the key was too small ,  but at any rate it would not open any of them .   However ,  on the second time round ,  she came upon a low curtain she had not noticed before ,  and behind it was a little door about fifteen inches high :   she tried the little golden key in the lock ,  and to her great delight it fitted ! qwerty  Alice opened the door and found that it led into a small passage ,  not much larger than a rat - hole :   she knelt down and looked along the passage into the loveliest garden you ever saw .  How she longed to get out of that dark hall ,  and wander about among those beds of bright flowers and those cool fountains ,  but she could not even get her head through the doorway ;  \" and even if my head would go through ,  \" thought poor Alice ,  \" it would be of very little use without my shoulders .   Oh ,  how I wish I could shut up like a telescope !   I think I could ,  if I only know how to begin .  \"  For ,  you see ,  so many out - of - the - way things had happened lately ,  that Alice had begun to think that very few things indeed were really impossible . qwerty  There seemed to be no use in waiting by the little door ,  so she went back to the table ,  half hoping she might find another key on it ,  or at any rate a book of rules for shutting people up like telescopes :   this time she found a little bottle on it ,   ( `which certainly was not here before ,  \" said Alice ,  )  and round the neck of the bottle was a paper label ,  with the words \" DRINK ME \" beautifully printed on it in large letters . qwerty  It was all very well to say \" Drink me ,  \" but the wise little Alice was not going to do THAT in a hurry .   \" No ,  I'll look first ,  \" she said ,  \" and see whether it's marked  \" poison \"  or not' ;  for she had read several nice little histories about children who had got burnt ,  and eaten up by wild beasts and other unpleasant things ,  all because they WOULD not remember the simple rules their friends had taught them :   such as ,  that a red - hot poker will burn you if you hold it too long ;  and that if you cut your finger VERY deeply with a knife ,  it usually bleeds ;  and she had never forgotten that ,  if you drink much from a bottle marked \" poison ,  \" it is almost certain to disagree with you ,  sooner or later . qwerty  However ,  this bottle was NOT marked \" poison ,  \" so Alice ventured to taste it ,  and finding it very nice ,   ( it had ,  in fact ,  a sort of mixed flavour of cherry - tart ,  custard ,  pine - apple ,  roast turkey ,  toffee ,  and hot buttered toast ,  )  she very soon finished it off . qwerty                                                                    qwerty                                                              qwerty                                                                    qwerty  \" What a curious feeling !  \" said Alice ;  \" I must be shutting up like a telescope . 'qwerty  And so it was indeed :   she was now only ten inches high ,  and her face brightened up at the thought that she was now the right size for going through the little door into that lovely garden .  First ,  however ,  she waited for a few minutes to see if she was going to shrink any further :   she felt a little nervous about this ;  \" for it might end ,  you know ,  \" said Alice to herself ,  \" in my going out altogether ,  like a candle .   I wonder what I should be like then ?  \"  And she tried to fancy what the flame of a candle is like after the candle is blown out ,  for she could not remember ever having seen such a thing . qwerty  After a while ,  finding that nothing more happened ,  she decided on going into the garden at once ;  but ,  alas for poor Alice !  when she got to the door ,  she found she had forgotten the little golden key ,  and when she went back to the table for it ,  she found she could not possibly reach it :   she could see it quite plainly through the glass ,  and she tried her best to climb up one of the legs of the table ,  but it was too slippery ;  and when she had tired herself out with trying ,  the poor little thing sat down and cried . qwerty  \" Come ,  there's no use in crying like that !  \" said Alice to herself ,  rather sharply ;  \" I advise you to leave off this minute !  \" She generally gave herself very good advice ,   ( though she very seldom followed it )  ,  and sometimes she scolded herself so severely as to bring tears into her eyes ;  and once she remembered trying to box her own ears for having cheated herself in a game of croquet she was playing against herself ,  for this curious child was very fond of pretending to be two people .   \" But it's no use now ,  \" thought poor Alice ,  \" to pretend to be two people !   Why ,  there's hardly enough of me left to make ONE respectable person ! 'qwerty  Soon her eye fell on a little glass box that was lying under the table :   she opened it ,  and found in it a very small cake ,  on which the words \" EAT ME \" were beautifully marked in currants .  \" Well ,  I'll eat it ,  \" said Alice ,  \" and if it makes me grow larger ,  I can reach the key ;  and if it makes me grow smaller ,  I can creep under the door ;  so either way I'll get into the garden ,  and I don't care which happens ! 'qwerty  She ate a little bit ,  and said anxiously to herself ,  \" Which way ?   Which way ? ' ,  holding her hand on the top of her head to feel which way it was growing ,  and she was quite surprised to find that she remained the same size :   to be sure ,  this generally happens when one eats cake ,  but Alice had got so much into the way of expecting nothing but out - of - the - way things to happen ,  that it seemed quite dull and stupid for life to go on in the common way . qwerty  So she set to work ,  and very soon finished off the cake . qwerty                                                                    qwerty                                                              qwerty                                                                    qwerty                           CHAPTER IIqwerty                        The Pool of Tearsqwerty  \" Curiouser and curiouser !  \" cried Alice  ( she was so much surprised ,  that for the moment she quite forgot how to speak good English )  ;  \" now I'm opening out like the largest telescope that ever was !   Good - bye ,  feet !  \"  ( for when she looked down at her feet ,  they seemed to be almost out of sight ,  they were getting so far off )  .   \" Oh ,  my poor little feet ,  I wonder who will put on your shoes and stockings for you now ,  dears ?   I'm sure  _ I _  shan't be able !   I shall be a great deal too far off to trouble myself about you :   you must manage the best way you can ;   -  - but I must be kind to them ,  \" thought Alice ,  \" or perhaps they won't walk the way I want to go !   Let me see :   I'll give them a new pair of boots every Christmas . 'qwerty  And she went on planning to herself how she would manage it .  \" They must go by the carrier ,  \" she thought ;  \" and how funny it'll seem ,  sending presents to one's own feet !   And how odd the directions will look ! qwerty            ALICE'S RIGHT FOOT ,  ESQ .                  HEARTHRUG ,                      NEAR THE FENDER ,                           ( WITH ALICE'S LOVE )  . qwertyOh dear ,  what nonsense I'm talking ! 'qwerty  Just then her head struck against the roof of the hall :   in fact she was now more than nine feet high ,  and she at once took up the little golden key and hurried off to the garden door . qwerty  Poor Alice !   It was as much as she could do ,  lying down on one side ,  to look through into the garden with one eye ;  but to get through was more hopeless than ever :   she sat down and began to cry again . qwerty  \" You ought to be ashamed of yourself ,  \" said Alice ,  \" a great girl like you ,  \"  ( she might well say this )  ,  \" to go on crying in this way !   Stop this moment ,  I tell you !  \"  But she went on all the same ,  shedding gallons of tears ,  until there was a large pool all round her ,  about four inches deep and reaching half down the hall . qwerty  After a time she heard a little pattering of feet in the distance ,  and she hastily dried her eyes to see what was coming .  It was the White Rabbit returning ,  splendidly dressed ,  with a pair of white kid gloves in one hand and a large fan in the other :   he came trotting along in a great hurry ,  muttering to himself as he came ,  \" Oh !  the Duchess ,  the Duchess !  Oh !  won't she be savage if I've kept her waiting !  \"  Alice felt so desperate that she was ready to ask help of any one ;  so ,  when the Rabbit came near her ,  she began ,  in a low ,  timid voice ,  \" If you please ,  sir -  -  \"  The Rabbit started violently ,  dropped the white kid gloves and the fan ,  and skurried away into the darkness as hard as he could go . qwerty  Alice took up the fan and gloves ,  and ,  as the hall was very hot ,  she kept fanning herself all the time she went on talking :  \" Dear ,  dear !   How queer everything is to - day !   And yesterday things went on just as usual .   I wonder if I've been changed in the night ?   Let me think :   was I the same when I got up this morning ?   I almost think I can remember feeling a little different .   But if I'm not the same ,  the next question is ,  Who in the world am I ?   Ah ,  THAT'S the great puzzle !  \"  And she began thinking over all the children she knew that were of the same age as herself ,  to see if she could have been changed for any of them . qwerty  \" I'm sure I'm not Ada ,  \" she said ,  \" for her hair goes in such long ringlets ,  and mine doesn't go in ringlets at all ;  and I'm sure I can't be Mabel ,  for I know all sorts of things ,  and she ,  oh !  she knows such a very little !   Besides ,  SHE'S she ,  and I'm I ,  and -  - oh dear ,  how puzzling it all is !   I'll try if I know all the things I used to know .   Let me see :   four times five is twelve ,  and four times six is thirteen ,  and four times seven is -  - oh dear !  I shall never get to twenty at that rate !   However ,  the Multiplication Table doesn't signify :   let's try Geography .  London is the capital of Paris ,  and Paris is the capital of Rome ,  and Rome -  - no ,  THAT'S all wrong ,  I'm certain !   I must have been changed for Mabel !   I'll try and say  \" How doth the little -  -  \"  \" and she crossed her hands on her lap as if she were saying lessons ,  and began to repeat it ,  but her voice sounded hoarse and strange ,  and the words did not come the same as they used to do :  -  - qwerty            \" How doth the little crocodile               Improve his shining tail ,              And pour the waters of the Nile               On every golden scale ! qwerty            \" How cheerfully he seems to grin ,                How neatly spread his claws ,              And welcome little fishes in               With gently smiling jaws ! 'qwerty  \" I'm sure those are not the right words ,  \" said poor Alice ,  and her eyes filled with tears again as she went on ,  \" I must be Mabel after all ,  and I shall have to go and live in that poky little house ,  and have next to no toys to play with ,  and oh !  ever so many lessons to learn !   No ,  I've made up my mind about it ;  if I'm Mabel ,  I'll stay down here !   It'll be no use their putting their heads down and saying  \" Come up again ,  dear !  \"   I shall only look up and say  \" Who am I then ?   Tell me that first ,  and then ,  if I like being that person ,  I'll come up :   if not ,  I'll stay down here till I'm somebody else \"  -  - but ,  oh dear !  \" cried Alice ,  with a sudden burst of tears ,  \" I do wish they WOULD put their heads down !   I am so VERY tired of being all alone here ! 'qwerty  As she said this she looked down at her hands ,  and was surprised to see that she had put on one of the Rabbit's little white kid gloves while she was talking .   \" How CAN I have done that ?  \" she thought .   \" I must be growing small again .  \"  She got up and went to the table to measure herself by it ,  and found that ,  as nearly as she could guess ,  she was now about two feet high ,  and was going on shrinking rapidly :   she soon found out that the cause of this was the fan she was holding ,  and she dropped it hastily ,  just in time to avoid shrinking away altogether . qwerty`That WAS a narrow escape !  \" said Alice ,  a good deal frightened at the sudden change ,  but very glad to find herself still in existence ;  \" and now for the garden !  \" and she ran with all speed back to the little door :   but ,  alas !  the little door was shut again ,  and the little golden key was lying on the glass table as before ,  \" and things are worse than ever ,  \" thought the poor child ,  \" for I never was so small as this before ,  never !   And I declare it's too bad ,  that it is ! 'qwerty  As she said these words her foot slipped ,  and in another moment ,  splash !  she was up to her chin in salt water .   Her first idea was that she had somehow fallen into the sea ,  \" and in that case I can go back by railway ,  \" she said to herself .    ( Alice had been to the seaside once in her life ,  and had come to the general conclusion ,  that wherever you go to on the English coast you find a number of bathing machines in the sea ,  some children digging in the sand with wooden spades ,  then a row of lodging houses ,  and behind them a railway station .  )   However ,  she soon made out that she was in the pool of tears which she had wept when she was nine feet high . qwerty  \" I wish I hadn't cried so much !  \" said Alice ,  as she swam about ,  trying to find her way out .   \" I shall be punished for it now ,  I suppose ,  by being drowned in my own tears !   That WILL be a queer thing ,  to be sure !   However ,  everything is queer to - day . 'qwerty  Just then she heard something splashing about in the pool a little way off ,  and she swam nearer to make out what it was :   at first she thought it must be a walrus or hippopotamus ,  but then she remembered how small she was now ,  and she soon made out that it was only a mouse that had slipped in like herself . qwerty  \" Would it be of any use ,  now ,  \" thought Alice ,  \" to speak to this mouse ?   Everything is so out - of - the - way down here ,  that I should think very likely it can talk :   at any rate ,  there's no harm in trying .  \"  So she began :   \" O Mouse ,  do you know the way out of this pool ?   I am very tired of swimming about here ,  O Mouse !  \"  ( Alice thought this must be the right way of speaking to a mouse :  she had never done such a thing before ,  but she remembered having seen in her brother's Latin Grammar ,  \" A mouse -  - of a mouse -  - to a mouse -  - a mouse -  - O mouse ! ' )   The Mouse looked at her rather inquisitively ,  and seemed to her to wink with one of its little eyes ,  but it said nothing . qwerty  \" Perhaps it doesn't understand English ,  \" thought Alice ;  \" I daresay it's a French mouse ,  come over with William the Conqueror .  \"   ( For ,  with all her knowledge of history ,  Alice had no very clear notion how long ago anything had happened .  )   So she began again :   \" Ou est ma chatte ?  \" which was the first sentence in her French lesson - book .   The Mouse gave a sudden leap out of the water ,  and seemed to quiver all over with fright .   \" Oh ,  I beg your pardon !  \" cried Alice hastily ,  afraid that she had hurt the poor animal's feelings .   \" I quite forgot you didn't like cats . 'qwerty  \" Not like cats !  \" cried the Mouse ,  in a shrill ,  passionate voice .   \" Would YOU like cats if you were me ? 'qwerty  \" Well ,  perhaps not ,  \" said Alice in a soothing tone :   \" don't be angry about it .   And yet I wish I could show you our cat Dinah :  I think you'd take a fancy to cats if you could only see her .  She is such a dear quiet thing ,  \" Alice went on ,  half to herself ,  as she swam lazily about in the pool ,  \" and she sits purring so nicely by the fire ,  licking her paws and washing her face -  - and she is such a nice soft thing to nurse -  - and she's such a capital one for catching mice -  - oh ,  I beg your pardon !  \" cried Alice again ,  for this time the Mouse was bristling all over ,  and she felt certain it must be really offended .   \" We won't talk about her any more if you'd rather not . 'qwerty  \" We indeed !  \" cried the Mouse ,  who was trembling down to the end of his tail .   \" As if I would talk on such a subject !   Our family always HATED cats :   nasty ,  low ,  vulgar things !   Don't let me hear the name again ! 'qwerty  \" I won't indeed !  \" said Alice ,  in a great hurry to change the subject of conversation .   \" Are you -  - are you fond -  - of -  - of dogs ?  \" The Mouse did not answer ,  so Alice went on eagerly :   \" There is such a nice little dog near our house I should like to show you !  A little bright - eyed terrier ,  you know ,  with oh ,  such long curly brown hair !   And it'll fetch things when you throw them ,  and it'll sit up and beg for its dinner ,  and all sorts of things -  - I can't remember half of them -  - and it belongs to a farmer ,  you know ,  and he says it's so useful ,  it's worth a hundred pounds !  He says it kills all the rats and -  - oh dear !  \" cried Alice in a sorrowful tone ,  \" I'm afraid I've offended it again !  \"  For the Mouse was swimming away from her as hard as it could go ,  and making quite a commotion in the pool as it went . qwerty  So she called softly after it ,  \" Mouse dear !   Do come back again ,  and we won't talk about cats or dogs either ,  if you don't like them !  \"  When the Mouse heard this ,  it turned round and swam slowly back to her :   its face was quite pale  ( with passion ,  Alice thought )  ,  and it said in a low trembling voice ,  \" Let us get to the shore ,  and then I'll tell you my history ,  and you'll understand why it is I hate cats and dogs . 'qwerty  It was high time to go ,  for the pool was getting quite crowded with the birds and animals that had fallen into it :   there were a Duck and a Dodo ,  a Lory and an Eaglet ,  and several other curious creatures .   Alice led the way ,  and the whole party swam to the shore . qwerty                           CHAPTER IIIqwerty                  A Caucus - Race and a Long Taleqwerty  They were indeed a queer - looking party that assembled on the bank -  - the birds with draggled feathers ,  the animals with their fur clinging close to them ,  and all dripping wet ,  cross ,  and uncomfortable . qwerty  The first question of course was ,  how to get dry again :   they had a consultation about this ,  and after a few minutes it seemed quite natural to Alice to find herself talking familiarly with them ,  as if she had known them all her life .   Indeed ,  she had quite a long argument with the Lory ,  who at last turned sulky ,  and would only say ,  \" I am older than you ,  and must know better' ;  and this Alice would not allow without knowing how old it was ,  and ,  as the Lory positively refused to tell its age ,  there was no more to be said . qwerty  At last the Mouse ,  who seemed to be a person of authority among them ,  called out ,  \" Sit down ,  all of you ,  and listen to me !   I'LL soon make you dry enough !  \"  They all sat down at once ,  in a large ring ,  with the Mouse in the middle .   Alice kept her eyes anxiously fixed on it ,  for she felt sure she would catch a bad cold if she did not get dry very soon . qwerty  \" Ahem !  \" said the Mouse with an important air ,  \" are you all ready ?  This is the driest thing I know .   Silence all round ,  if you please !   \" William the Conqueror ,  whose cause was favoured by the pope ,  was soon submitted to by the English ,  who wanted leaders ,  and had been of late much accustomed to usurpation and conquest .   Edwin and Morcar ,  the earls of Mercia and Northumbria -  -  \" 'qwerty  \" Ugh !  \" said the Lory ,  with a shiver . qwerty  \" I beg your pardon !  \" said the Mouse ,  frowning ,  but very politely :   \" Did you speak ? 'qwerty  \" Not I !  \" said the Lory hastily . qwerty  \" I thought you did ,  \" said the Mouse .   \"  -  - I proceed .    \" Edwin and Morcar ,  the earls of Mercia and Northumbria ,  declared for him :  and even Stigand ,  the patriotic archbishop of Canterbury ,  found it advisable -  -  \" 'qwerty  \" Found WHAT ?  \" said the Duck . qwerty  \" Found IT ,  \" the Mouse replied rather crossly :   \" of course you know what  \" it \"  means . 'qwerty  \" I know what  \" it \"  means well enough ,  when I find a thing ,  \" said the Duck :   \" it's generally a frog or a worm .   The question is ,  what did the archbishop find ? 'qwerty  The Mouse did not notice this question ,  but hurriedly went on ,  \"  \"  -  - found it advisable to go with Edgar Atheling to meet William and offer him the crown .   William's conduct at first was moderate .   But the insolence of his Normans -  -  \"   How are you getting on now ,  my dear ?  \" it continued ,  turning to Alice as it spoke . qwerty  \" As wet as ever ,  \" said Alice in a melancholy tone :   \" it doesn't seem to dry me at all . 'qwerty  \" In that case ,  \" said the Dodo solemnly ,  rising to its feet ,  \" I move that the meeting adjourn ,  for the immediate adoption of more energetic remedies -  - 'qwerty  \" Speak English !  \" said the Eaglet .   \" I don't know the meaning of half those long words ,  and ,  what's more ,  I don't believe you do either !  \"  And the Eaglet bent down its head to hide a smile :  some of the other birds tittered audibly . qwerty  \" What I was going to say ,  \" said the Dodo in an offended tone ,  \" was ,  that the best thing to get us dry would be a Caucus - race . 'qwerty  \" What IS a Caucus - race ?  \" said Alice ;  not that she wanted much to know ,  but the Dodo had paused as if it thought that SOMEBODY ought to speak ,  and no one else seemed inclined to say anything . qwerty  \" Why ,  \" said the Dodo ,  \" the best way to explain it is to do it .  \"  ( And ,  as you might like to try the thing yourself ,  some winter day ,  I will tell you how the Dodo managed it .  ) qwerty  First it marked out a race - course ,  in a sort of circle ,   ( `the exact shape doesn't matter ,  \" it said ,  )  and then all the party were placed along the course ,  here and there .   There was no \" One ,  two ,  three ,  and away ,  \" but they began running when they liked ,  and left off when they liked ,  so that it was not easy to know when the race was over .   However ,  when they had been running half an hour or so ,  and were quite dry again ,  the Dodo suddenly called out \" The race is over !  \" and they all crowded round it ,  panting ,  and asking ,  \" But who has won ? 'qwerty  This question the Dodo could not answer without a great deal of thought ,  and it sat for a long time with one finger pressed upon its forehead  ( the position in which you usually see Shakespeare ,  in the pictures of him )  ,  while the rest waited in silence .   At last the Dodo said ,  \" EVERYBODY has won ,  and all must have prizes . 'qwerty  \" But who is to give the prizes ?  \" quite a chorus of voices asked . qwerty  \" Why ,  SHE ,  of course ,  \" said the Dodo ,  pointing to Alice with one finger ;  and the whole party at once crowded round her ,  calling out in a confused way ,  \" Prizes !  Prizes ! 'qwerty  Alice had no idea what to do ,  and in despair she put her hand in her pocket ,  and pulled out a box of comfits ,   ( luckily the salt water had not got into it )  ,  and handed them round as prizes .  There was exactly one a - piece all round . qwerty  \" But she must have a prize herself ,  you know ,  \" said the Mouse . qwerty  \" Of course ,  \" the Dodo replied very gravely .   \" What else have you got in your pocket ?  \" he went on ,  turning to Alice . qwerty  \" Only a thimble ,  \" said Alice sadly . qwerty  \" Hand it over here ,  \" said the Dodo . qwerty  Then they all crowded round her once more ,  while the Dodo solemnly presented the thimble ,  saying \" We beg your acceptance of this elegant thimble' ;  and ,  when it had finished this short speech ,  they all cheered . qwerty  Alice thought the whole thing very absurd ,  but they all looked so grave that she did not dare to laugh ;  and ,  as she could not think of anything to say ,  she simply bowed ,  and took the thimble ,  looking as solemn as she could . qwerty  The next thing was to eat the comfits :   this caused some noise and confusion ,  as the large birds complained that they could not taste theirs ,  and the small ones choked and had to be patted on the back .   However ,  it was over at last ,  and they sat down again in a ring ,  and begged the Mouse to tell them something more . qwerty  \" You promised to tell me your history ,  you know ,  \" said Alice ,  \" and why it is you hate -  - C and D ,  \" she added in a whisper ,  half afraid that it would be offended again . qwerty  \" Mine is a long and a sad tale !  \" said the Mouse ,  turning to Alice ,  and sighing . qwerty  \" It IS a long tail ,  certainly ,  \" said Alice ,  looking down with wonder at the Mouse's tail ;  \" but why do you call it sad ?  \"  And she kept on puzzling about it while the Mouse was speaking ,  so that her idea of the tale was something like this :  -  - qwerty                    \" Fury said to a                    mouse ,  That he                  met in the                house ,               \" Let us               both go to                 law :   I will                   prosecute                     YOU .    -  - Come ,                         I'll take no                         denial ;  We                      must have a                  trial :   For               really this            morning I've           nothing          to do .  \"             Said the              mouse to the                cur ,   \" Such                  a trial ,                     dear Sir ,                           With                      no jury                   or judge ,                  would be               wasting              our               breath .  \"                  \" I'll be                  judge ,  I'll                    be jury ,  \"                           Said                     cunning                       old Fury :                        \" I'll                       try the                          whole                           cause ,                               and                         condemn                        you                       to                        death .  \" 'qwerty  \" You are not attending !  \" said the Mouse to Alice severely .  \" What are you thinking of ? 'qwerty  \" I beg your pardon ,  \" said Alice very humbly :   \" you had got to the fifth bend ,  I think ? 'qwerty  \" I had NOT !  \" cried the Mouse ,  sharply and very angrily . qwerty  \" A knot !  \" said Alice ,  always ready to make herself useful ,  and looking anxiously about her .   \" Oh ,  do let me help to undo it ! 'qwerty  \" I shall do nothing of the sort ,  \" said the Mouse ,  getting up and walking away .   \" You insult me by talking such nonsense ! 'qwerty  \" I didn't mean it !  \" pleaded poor Alice .   \" But you're so easily offended ,  you know ! 'qwerty  The Mouse only growled in reply . qwerty  \" Please come back and finish your story !  \" Alice called after it ;  and the others all joined in chorus ,  \" Yes ,  please do !  \" but the Mouse only shook its head impatiently ,  and walked a little quicker . qwerty  \" What a pity it wouldn't stay !  \" sighed the Lory ,  as soon as it was quite out of sight ;  and an old Crab took the opportunity of saying to her daughter \" Ah ,  my dear !   Let this be a lesson to you never to lose YOUR temper !  \"  \" Hold your tongue ,  Ma !  \" said the young Crab ,  a little snappishly .   \" You're enough to try the patience of an oyster ! 'qwerty  \" I wish I had our Dinah here ,  I know I do !  \" said Alice aloud ,  addressing nobody in particular .   \" She'd soon fetch it back ! 'qwerty  \" And who is Dinah ,  if I might venture to ask the question ?  \" said the Lory . qwerty  Alice replied eagerly ,  for she was always ready to talk about her pet :   \" Dinah's our cat .   And she's such a capital one for catching mice you can't think !   And oh ,  I wish you could see her after the birds !   Why ,  she'll eat a little bird as soon as look at it ! 'qwerty  This speech caused a remarkable sensation among the party .  Some of the birds hurried off at once :   one old Magpie began wrapping itself up very carefully ,  remarking ,  \" I really must be getting home ;  the night - air doesn't suit my throat !  \" and a Canary called out in a trembling voice to its children ,  \" Come away ,  my dears !   It's high time you were all in bed !  \"  On various pretexts they all moved off ,  and Alice was soon left alone . qwerty  \" I wish I hadn't mentioned Dinah !  \" she said to herself in a melancholy tone .   \" Nobody seems to like her ,  down here ,  and I'm sure she's the best cat in the world !   Oh ,  my dear Dinah !   I wonder if I shall ever see you any more !  \"  And here poor Alice began to cry again ,  for she felt very lonely and low - spirited .  In a little while ,  however ,  she again heard a little pattering of footsteps in the distance ,  and she looked up eagerly ,  half hoping that the Mouse had changed his mind ,  and was coming back to finish his story . qwerty                           CHAPTER IVqwerty                The Rabbit Sends in a Little Billqwerty  It was the White Rabbit ,  trotting slowly back again ,  and looking anxiously about as it went ,  as if it had lost something ;  and she heard it muttering to itself \" The Duchess !   The Duchess !  Oh my dear paws !   Oh my fur and whiskers !   She'll get me executed ,  as sure as ferrets are ferrets !   Where CAN I have dropped them ,  I wonder ?  \"  Alice guessed in a moment that it was looking for the fan and the pair of white kid gloves ,  and she very good - naturedly began hunting about for them ,  but they were nowhere to be seen -  - everything seemed to have changed since her swim in the pool ,  and the great hall ,  with the glass table and the little door ,  had vanished completely . qwerty  Very soon the Rabbit noticed Alice ,  as she went hunting about ,  and called out to her in an angry tone ,  \" Why ,  Mary Ann ,  what ARE you doing out here ?   Run home this moment ,  and fetch me a pair of gloves and a fan !   Quick ,  now !  \"  And Alice was so much frightened that she ran off at once in the direction it pointed to ,  without trying to explain the mistake it had made . qwerty  \" He took me for his housemaid ,  \" she said to herself as she ran .  \" How surprised he'll be when he finds out who I am !   But I'd better take him his fan and gloves -  - that is ,  if I can find them .  \" As she said this ,  she came upon a neat little house ,  on the door of which was a bright brass plate with the name \" W .  RABBIT \" engraved upon it .   She went in without knocking ,  and hurried upstairs ,  in great fear lest she should meet the real Mary Ann ,  and be turned out of the house before she had found the fan and gloves . qwerty  \" How queer it seems ,  \" Alice said to herself ,  \" to be going messages for a rabbit !   I suppose Dinah'll be sending me on messages next !  \"  And she began fancying the sort of thing that would happen :   \"  \" Miss Alice !   Come here directly ,  and get ready for your walk !  \"   \" Coming in a minute ,  nurse !   But I've got to see that the mouse doesn't get out .  \"   Only I don't think ,  \" Alice went on ,  \" that they'd let Dinah stop in the house if it began ordering people about like that ! 'qwerty  By this time she had found her way into a tidy little room with a table in the window ,  and on it  ( as she had hoped )  a fan and two or three pairs of tiny white kid gloves :   she took up the fan and a pair of the gloves ,  and was just going to leave the room ,  when her eye fell upon a little bottle that stood near the looking -  glass .   There was no label this time with the words \" DRINK ME ,  \" but nevertheless she uncorked it and put it to her lips .   \" I know SOMETHING interesting is sure to happen ,  \" she said to herself ,  \" whenever I eat or drink anything ;  so I'll just see what this bottle does .   I do hope it'll make me grow large again ,  for really I'm quite tired of being such a tiny little thing ! 'qwerty  It did so indeed ,  and much sooner than she had expected :  before she had drunk half the bottle ,  she found her head pressing against the ceiling ,  and had to stoop to save her neck from being broken .   She hastily put down the bottle ,  saying to herself \" That's quite enough -  - I hope I shan't grow any more -  - As it is ,  I can't get out at the door -  - I do wish I hadn't drunk quite so much ! 'qwerty  Alas !  it was too late to wish that !   She went on growing ,  and growing ,  and very soon had to kneel down on the floor :   in another minute there was not even room for this ,  and she tried the effect of lying down with one elbow against the door ,  and the other arm curled round her head .   Still she went on growing ,  and ,  as a last resource ,  she put one arm out of the window ,  and one foot up the chimney ,  and said to herself \" Now I can do no more ,  whatever happens .   What WILL become of me ? 'qwerty  Luckily for Alice ,  the little magic bottle had now had its full effect ,  and she grew no larger :   still it was very uncomfortable ,  and ,  as there seemed to be no sort of chance of her ever getting out of the room again ,  no wonder she felt unhappy . qwerty  \" It was much pleasanter at home ,  \" thought poor Alice ,  \" when one wasn't always growing larger and smaller ,  and being ordered about by mice and rabbits .   I almost wish I hadn't gone down that rabbit - hole -  - and yet -  - and yet -  - it's rather curious ,  you know ,  this sort of life !   I do wonder what CAN have happened to me !  When I used to read fairy - tales ,  I fancied that kind of thing never happened ,  and now here I am in the middle of one !   There ought to be a book written about me ,  that there ought !   And when I grow up ,  I'll write one -  - but I'm grown up now ,  \" she added in a sorrowful tone ;  \" at least there's no room to grow up any more HERE . 'qwerty  \" But then ,  \" thought Alice ,  \" shall I NEVER get any older than I am now ?   That'll be a comfort ,  one way -  - never to be an old woman -  -  but then -  - always to have lessons to learn !   Oh ,  I shouldn't like THAT ! 'qwerty  \" Oh ,  you foolish Alice !  \" she answered herself .   \" How can you learn lessons in here ?   Why ,  there's hardly room for YOU ,  and no room at all for any lesson - books ! 'qwerty  And so she went on ,  taking first one side and then the other ,  and making quite a conversation of it altogether ;  but after a few minutes she heard a voice outside ,  and stopped to listen . qwerty  \" Mary Ann !   Mary Ann !  \" said the voice .   \" Fetch me my gloves this moment !  \"  Then came a little pattering of feet on the stairs .   Alice knew it was the Rabbit coming to look for her ,  and she trembled till she shook the house ,  quite forgetting that she was now about a thousand times as large as the Rabbit ,  and had no reason to be afraid of it . qwerty  Presently the Rabbit came up to the door ,  and tried to open it ;  but ,  as the door opened inwards ,  and Alice's elbow was pressed hard against it ,  that attempt proved a failure .   Alice heard it say to itself \" Then I'll go round and get in at the window . 'qwerty  \" THAT you won't \" thought Alice ,  and ,  after waiting till she fancied she heard the Rabbit just under the window ,  she suddenly spread out her hand ,  and made a snatch in the air .   She did not get hold of anything ,  but she heard a little shriek and a fall ,  and a crash of broken glass ,  from which she concluded that it was just possible it had fallen into a cucumber - frame ,  or something of the sort . qwerty  Next came an angry voice -  - the Rabbit's -  - `Pat !  Pat !   Where are you ?  \"  And then a voice she had never heard before ,  \" Sure then I'm here !   Digging for apples ,  yer honour ! 'qwerty  \" Digging for apples ,  indeed !  \" said the Rabbit angrily .   \" Here !  Come and help me out of THIS !  \"   ( Sounds of more broken glass .  ) qwerty  \" Now tell me ,  Pat ,  what's that in the window ? 'qwerty  \" Sure ,  it's an arm ,  yer honour !  \"   ( He pronounced it \" arrum . ' ) qwerty  \" An arm ,  you goose !    Who ever saw one that size ?   Why ,  it fills the whole window ! 'qwerty  \" Sure ,  it does ,  yer honour :   but it's an arm for all that . 'qwerty  \" Well ,  it's got no business there ,  at any rate :   go and take it away ! 'qwerty  There was a long silence after this ,  and Alice could only hear whispers now and then ;  such as ,  \" Sure ,  I don't like it ,  yer honour ,  at all ,  at all !  \"  \" Do as I tell you ,  you coward !  \" and at last she spread out her hand again ,  and made another snatch in the air .   This time there were TWO little shrieks ,  and more sounds of broken glass .   \" What a number of cucumber - frames there must be !  \" thought Alice .   \" I wonder what they'll do next !   As for pulling me out of the window ,  I only wish they COULD !   I'm sure I don't want to stay in here any longer ! 'qwerty  She waited for some time without hearing anything more :   at last came a rumbling of little cartwheels ,  and the sound of a good many voices all talking together :   she made out the words :  \" Where's the other ladder ?  -  - Why ,  I hadn't to bring but one ;  Bill's got the other -  - Bill !  fetch it here ,  lad !  -  - Here ,  put \" em up at this corner -  - No ,  tie \" em together first -  - they don't reach half high enough yet -  - Oh !  they'll do well enough ;  don't be particular -  -  Here ,  Bill !  catch hold of this rope -  - Will the roof bear ?  -  - Mind that loose slate -  - Oh ,  it's coming down !   Heads below !  \"  ( a loud crash )  -  - `Now ,  who did that ?  -  - It was Bill ,  I fancy -  - Who's to go down the chimney ?  -  - Nay ,  I shan't !  YOU do it !  -  - That I won't ,  then !  -  - Bill's to go down -  - Here ,  Bill !  the master says you're to go down the chimney ! 'qwerty  \" Oh !  So Bill's got to come down the chimney ,  has he ?  \" said Alice to herself .   \" Shy ,  they seem to put everything upon Bill !  I wouldn't be in Bill's place for a good deal :   this fireplace is narrow ,  to be sure ;  but I THINK I can kick a little ! 'qwerty  She drew her foot as far down the chimney as she could ,  and waited till she heard a little animal  ( she couldn't guess of what sort it was )  scratching and scrambling about in the chimney close above her :   then ,  saying to herself \" This is Bill ,  \" she gave one sharp kick ,  and waited to see what would happen next . qwerty  The first thing she heard was a general chorus of \" There goes Bill !  \" then the Rabbit's voice along -  - `Catch him ,  you by the hedge !  \" then silence ,  and then another confusion of voices -  - `Hold up his head -  - Brandy now -  - Don't choke him -  - How was it ,  old fellow ?  What happened to you ?   Tell us all about it ! 'qwerty  Last came a little feeble ,  squeaking voice ,   ( `That's Bill ,  \" thought Alice ,  )  \" Well ,  I hardly know -  - No more ,  thank ye ;  I'm better now -  - but I'm a deal too flustered to tell you -  - all I know is ,  something comes at me like a Jack - in - the - box ,  and up I goes like a sky - rocket ! 'qwerty  \" So you did ,  old fellow !  \" said the others . qwerty  \" We must burn the house down !  \" said the Rabbit's voice ;  and Alice called out as loud as she could ,  \" If you do .   I'll set Dinah at you ! 'qwerty  There was a dead silence instantly ,  and Alice thought to herself ,  \" I wonder what they WILL do next !   If they had any sense ,  they'd take the roof off .  \"  After a minute or two ,  they began moving about again ,  and Alice heard the Rabbit say ,  \" A barrowful will do ,  to begin with . 'qwerty  \" A barrowful of WHAT ?  \" thought Alice ;  but she had not long to doubt ,  for the next moment a shower of little pebbles came rattling in at the window ,  and some of them hit her in the face .  \" I'll put a stop to this ,  \" she said to herself ,  and shouted out ,  \" You'd better not do that again !  \" which produced another dead silence . qwerty  Alice noticed with some surprise that the pebbles were all turning into little cakes as they lay on the floor ,  and a bright idea came into her head .   \" If I eat one of these cakes ,  \" she thought ,  \" it's sure to make SOME change in my size ;  and as it can't possibly make me larger ,  it must make me smaller ,  I suppose . 'qwerty  So she swallowed one of the cakes ,  and was delighted to find that she began shrinking directly .   As soon as she was small enough to get through the door ,  she ran out of the house ,  and found quite a crowd of little animals and birds waiting outside .  The poor little Lizard ,  Bill ,  was in the middle ,  being held up by two guinea - pigs ,  who were giving it something out of a bottle .  They all made a rush at Alice the moment she appeared ;  but she ran off as hard as she could ,  and soon found herself safe in a thick wood . qwerty  \" The first thing I've got to do ,  \" said Alice to herself ,  as she wandered about in the wood ,  \" is to grow to my right size again ;  and the second thing is to find my way into that lovely garden .  I think that will be the best plan . 'qwerty  It sounded an excellent plan ,  no doubt ,  and very neatly and simply arranged ;  the only difficulty was ,  that she had not the smallest idea how to set about it ;  and while she was peering about anxiously among the trees ,  a little sharp bark just over her head made her look up in a great hurry . qwerty  An enormous puppy was looking down at her with large round eyes ,  and feebly stretching out one paw ,  trying to touch her .  \" Poor little thing !  \" said Alice ,  in a coaxing tone ,  and she tried hard to whistle to it ;  but she was terribly frightened all the time at the thought that it might be hungry ,  in which case it would be very likely to eat her up in spite of all her coaxing . qwerty  Hardly knowing what she did ,  she picked up a little bit of stick ,  and held it out to the puppy ;  whereupon the puppy jumped into the air off all its feet at once ,  with a yelp of delight ,  and rushed at the stick ,  and made believe to worry it ;  then Alice dodged behind a great thistle ,  to keep herself from being run over ;  and the moment she appeared on the other side ,  the puppy made another rush at the stick ,  and tumbled head over heels in its hurry to get hold of it ;  then Alice ,  thinking it was very like having a game of play with a cart - horse ,  and expecting every moment to be trampled under its feet ,  ran round the thistle again ;  then the puppy began a series of short charges at the stick ,  running a very little way forwards each time and a long way back ,  and barking hoarsely all the while ,  till at last it sat down a good way off ,  panting ,  with its tongue hanging out of its mouth ,  and its great eyes half shut . qwerty  This seemed to Alice a good opportunity for making her escape ;  so she set off at once ,  and ran till she was quite tired and out of breath ,  and till the puppy's bark sounded quite faint in the distance . qwerty  \" And yet what a dear little puppy it was !  \" said Alice ,  as she leant against a buttercup to rest herself ,  and fanned herself with one of the leaves :   \" I should have liked teaching it tricks very much ,  if -  - if I'd only been the right size to do it !   Oh dear !   I'd nearly forgotten that I've got to grow up again !   Let me see -  - how IS it to be managed ?   I suppose I ought to eat or drink something or other ;  but the great question is ,  what ? 'qwerty  The great question certainly was ,  what ?   Alice looked all round her at the flowers and the blades of grass ,  but she did not see anything that looked like the right thing to eat or drink under the circumstances .   There was a large mushroom growing near her ,  about the same height as herself ;  and when she had looked under it ,  and on both sides of it ,  and behind it ,  it occurred to her that she might as well look and see what was on the top of it . qwerty  She stretched herself up on tiptoe ,  and peeped over the edge of the mushroom ,  and her eyes immediately met those of a large caterpillar ,  that was sitting on the top with its arms folded ,  quietly smoking a long hookah ,  and taking not the smallest notice of her or of anything else . qwerty                            CHAPTER Vqwerty                    Advice from a Caterpillarqwerty  The Caterpillar and Alice looked at each other for some time in silence :   at last the Caterpillar took the hookah out of its mouth ,  and addressed her in a languid ,  sleepy voice . qwerty  \" Who are YOU ?  \" said the Caterpillar . qwerty  This was not an encouraging opening for a conversation .   Alice replied ,  rather shyly ,  \" I -  - I hardly know ,  sir ,  just at present -  -  at least I know who I WAS when I got up this morning ,  but I think I must have been changed several times since then . 'qwerty  \" What do you mean by that ?  \" said the Caterpillar sternly .  \" Explain yourself ! 'qwerty  \" I can't explain MYSELF ,  I'm afraid ,  sir \" said Alice ,  \" because I'm not myself ,  you see . 'qwerty  \" I don't see ,  \" said the Caterpillar . qwerty  \" I'm afraid I can't put it more clearly ,  \" Alice replied very politely ,  \" for I can't understand it myself to begin with ;  and being so many different sizes in a day is very confusing . 'qwerty  \" It isn't ,  \" said the Caterpillar . qwerty  \" Well ,  perhaps you haven't found it so yet ,  \" said Alice ;  \" but when you have to turn into a chrysalis -  - you will some day ,  you know -  - and then after that into a butterfly ,  I should think you'll feel it a little queer ,  won't you ? 'qwerty  \" Not a bit ,  \" said the Caterpillar . qwerty  \" Well ,  perhaps your feelings may be different ,  \" said Alice ;  \" all I know is ,  it would feel very queer to ME . 'qwerty  \" You !  \" said the Caterpillar contemptuously .   \" Who are YOU ? 'qwerty  Which brought them back again to the beginning of the conversation .   Alice felt a little irritated at the Caterpillar's making such VERY short remarks ,  and she drew herself up and said ,  very gravely ,  \" I think ,  you ought to tell me who YOU are ,  first . 'qwerty  \" Why ?  \" said the Caterpillar . qwerty  Here was another puzzling question ;  and as Alice could not think of any good reason ,  and as the Caterpillar seemed to be in a VERY unpleasant state of mind ,  she turned away . qwerty  \" Come back !  \" the Caterpillar called after her .   \" I've something important to say ! 'qwerty  This sounded promising ,  certainly :   Alice turned and came back again . qwerty  \" Keep your temper ,  \" said the Caterpillar . qwerty  \" Is that all ?  \" said Alice ,  swallowing down her anger as well as she could . qwerty  \" No ,  \" said the Caterpillar . qwerty  Alice thought she might as well wait ,  as she had nothing else to do ,  and perhaps after all it might tell her something worth hearing .   For some minutes it puffed away without speaking ,  but at last it unfolded its arms ,  took the hookah out of its mouth again ,  and said ,  \" So you think you're changed ,  do you ? 'qwerty  \" I'm afraid I am ,  sir ,  \" said Alice ;  \" I can't remember things as I used -  - and I don't keep the same size for ten minutes together ! 'qwerty  \" Can't remember WHAT things ?  \" said the Caterpillar . qwerty  \" Well ,  I've tried to say  \" HOW DOTH THE LITTLE BUSY BEE ,  \"  but it all came different !  \" Alice replied in a very melancholy voice . qwerty  \" Repeat ,   \" YOU ARE OLD ,  FATHER WILLIAM ,  \"  \" said the Caterpillar . qwerty  Alice folded her hands ,  and began :  -  - qwerty    \" You are old ,  Father William ,  \" the young man said ,        \" And your hair has become very white ;      And yet you incessantly stand on your head -  -        Do you think ,  at your age ,  it is right ? 'qwerty    \" In my youth ,  \" Father William replied to his son ,        \" I feared it might injure the brain ;      But ,  now that I'm perfectly sure I have none ,        Why ,  I do it again and again . 'qwerty    \" You are old ,  \" said the youth ,  \" as I mentioned before ,        And have grown most uncommonly fat ;      Yet you turned a back - somersault in at the door -  -        Pray ,  what is the reason of that ? 'qwerty    \" In my youth ,  \" said the sage ,  as he shook his grey locks ,        \" I kept all my limbs very supple     By the use of this ointment -  - one shilling the box -  -        Allow me to sell you a couple ? 'qwerty    \" You are old ,  \" said the youth ,  \" and your jaws are too weak       For anything tougher than suet ;      Yet you finished the goose ,  with the bones and the beak -  -        Pray how did you manage to do it ? 'qwerty    \" In my youth ,  \" said his father ,  \" I took to the law ,        And argued each case with my wife ;      And the muscular strength ,  which it gave to my jaw ,        Has lasted the rest of my life . 'qwerty    \" You are old ,  \" said the youth ,  \" one would hardly suppose       That your eye was as steady as ever ;      Yet you balanced an eel on the end of your nose -  -        What made you so awfully clever ? 'qwerty    \" I have answered three questions ,  and that is enough ,  \"       Said his father ;  \" don't give yourself airs !      Do you think I can listen all day to such stuff ?        Be off ,  or I'll kick you down stairs ! 'qwerty  \" That is not said right ,  \" said the Caterpillar . qwerty  \" Not QUITE right ,  I'm afraid ,  \" said Alice ,  timidly ;  \" some of the words have got altered . 'qwerty  \" It is wrong from beginning to end ,  \" said the Caterpillar decidedly ,  and there was silence for some minutes . qwerty  The Caterpillar was the first to speak . qwerty  \" What size do you want to be ?  \" it asked . qwerty  \" Oh ,  I'm not particular as to size ,  \" Alice hastily replied ;  \" only one doesn't like changing so often ,  you know . 'qwerty  \" I DON'T know ,  \" said the Caterpillar . qwerty  Alice said nothing :   she had never been so much contradicted in her life before ,  and she felt that she was losing her temper . qwerty  \" Are you content now ?  \" said the Caterpillar . qwerty  \" Well ,  I should like to be a LITTLE larger ,  sir ,  if you wouldn't mind ,  \" said Alice :   \" three inches is such a wretched height to be . 'qwerty  \" It is a very good height indeed !  \" said the Caterpillar angrily ,  rearing itself upright as it spoke  ( it was exactly three inches high )  . qwerty  \" But I'm not used to it !  \" pleaded poor Alice in a piteous tone .  And she thought of herself ,  \" I wish the creatures wouldn't be so easily offended ! 'qwerty  \" You'll get used to it in time ,  \" said the Caterpillar ;  and it put the hookah into its mouth and began smoking again . qwerty  This time Alice waited patiently until it chose to speak again .  In a minute or two the Caterpillar took the hookah out of its mouth and yawned once or twice ,  and shook itself .   Then it got down off the mushroom ,  and crawled away in the grass ,  merely remarking as it went ,  \" One side will make you grow taller ,  and the other side will make you grow shorter . 'qwerty  \" One side of WHAT ?   The other side of WHAT ?  \" thought Alice to herself . qwerty  \" Of the mushroom ,  \" said the Caterpillar ,  just as if she had asked it aloud ;  and in another moment it was out of sight . qwerty  Alice remained looking thoughtfully at the mushroom for a minute ,  trying to make out which were the two sides of it ;  and as it was perfectly round ,  she found this a very difficult question .  However ,  at last she stretched her arms round it as far as they would go ,  and broke off a bit of the edge with each hand . qwerty  \" And now which is which ?  \" she said to herself ,  and nibbled a little of the right - hand bit to try the effect :   the next moment she felt a violent blow underneath her chin :   it had struck her foot ! qwerty  She was a good deal frightened by this very sudden change ,  but she felt that there was no time to be lost ,  as she was shrinking rapidly ;  so she set to work at once to eat some of the other bit .  Her chin was pressed so closely against her foot ,  that there was hardly room to open her mouth ;  but she did it at last ,  and managed to swallow a morsel of the lefthand bit . qwerty                                                                    qwerty                                                              qwerty                                                                    qwerty  \" Come ,  my head's free at last !  \" said Alice in a tone of delight ,  which changed into alarm in another moment ,  when she found that her shoulders were nowhere to be found :   all she could see ,  when she looked down ,  was an immense length of neck ,  which seemed to rise like a stalk out of a sea of green leaves that lay far below her . qwerty  \" What CAN all that green stuff be ?  \" said Alice .   \" And where HAVE my shoulders got to ?   And oh ,  my poor hands ,  how is it I can't see you ?  \"  She was moving them about as she spoke ,  but no result seemed to follow ,  except a little shaking among the distant green leaves . qwerty  As there seemed to be no chance of getting her hands up to her head ,  she tried to get her head down to them ,  and was delighted to find that her neck would bend about easily in any direction ,  like a serpent .   She had just succeeded in curving it down into a graceful zigzag ,  and was going to dive in among the leaves ,  which she found to be nothing but the tops of the trees under which she had been wandering ,  when a sharp hiss made her draw back in a hurry :   a large pigeon had flown into her face ,  and was beating her violently with its wings . qwerty  \" Serpent !  \" screamed the Pigeon . qwerty  \" I'm NOT a serpent !  \" said Alice indignantly .   \" Let me alone ! 'qwerty  \" Serpent ,  I say again !  \" repeated the Pigeon ,  but in a more subdued tone ,  and added with a kind of sob ,  \" I've tried every way ,  and nothing seems to suit them ! 'qwerty  \" I haven't the least idea what you're talking about ,  \" said Alice . qwerty  \" I've tried the roots of trees ,  and I've tried banks ,  and I've tried hedges ,  \" the Pigeon went on ,  without attending to her ;  \" but those serpents !   There's no pleasing them ! 'qwerty  Alice was more and more puzzled ,  but she thought there was no use in saying anything more till the Pigeon had finished . qwerty  \" As if it wasn't trouble enough hatching the eggs ,  \" said the Pigeon ;  \" but I must be on the look - out for serpents night and day !   Why ,  I haven't had a wink of sleep these three weeks ! 'qwerty  \" I'm very sorry you've been annoyed ,  \" said Alice ,  who was beginning to see its meaning . qwerty  \" And just as I'd taken the highest tree in the wood ,  \" continued the Pigeon ,  raising its voice to a shriek ,  \" and just as I was thinking I should be free of them at last ,  they must needs come wriggling down from the sky !   Ugh ,  Serpent ! 'qwerty  \" But I'm NOT a serpent ,  I tell you !  \" said Alice .   \" I'm a -  - I'm a -  - 'qwerty  \" Well !   WHAT are you ?  \" said the Pigeon .   \" I can see you're trying to invent something ! 'qwerty  \" I -  - I'm a little girl ,  \" said Alice ,  rather doubtfully ,  as she remembered the number of changes she had gone through that day . qwerty  \" A likely story indeed !  \" said the Pigeon in a tone of the deepest contempt .   \" I've seen a good many little girls in my time ,  but never ONE with such a neck as that !   No ,  no !   You're a serpent ;  and there's no use denying it .   I suppose you'll be telling me next that you never tasted an egg ! 'qwerty  \" I HAVE tasted eggs ,  certainly ,  \" said Alice ,  who was a very truthful child ;  \" but little girls eat eggs quite as much as serpents do ,  you know . 'qwerty  \" I don't believe it ,  \" said the Pigeon ;  \" but if they do ,  why then they're a kind of serpent ,  that's all I can say . 'qwerty  This was such a new idea to Alice ,  that she was quite silent for a minute or two ,  which gave the Pigeon the opportunity of adding ,  \" You're looking for eggs ,  I know THAT well enough ;  and what does it matter to me whether you're a little girl or a serpent ? 'qwerty  \" It matters a good deal to ME ,  \" said Alice hastily ;  \" but I'm not looking for eggs ,  as it happens ;  and if I was ,  I shouldn't want YOURS :   I don't like them raw . 'qwerty  \" Well ,  be off ,  then !  \" said the Pigeon in a sulky tone ,  as it settled down again into its nest .   Alice crouched down among the trees as well as she could ,  for her neck kept getting entangled among the branches ,  and every now and then she had to stop and untwist it .   After a while she remembered that she still held the pieces of mushroom in her hands ,  and she set to work very carefully ,  nibbling first at one and then at the other ,  and growing sometimes taller and sometimes shorter ,  until she had succeeded in bringing herself down to her usual height . qwerty  It was so long since she had been anything near the right size ,  that it felt quite strange at first ;  but she got used to it in a few minutes ,  and began talking to herself ,  as usual .   \" Come ,  there's half my plan done now !   How puzzling all these changes are !   I'm never sure what I'm going to be ,  from one minute to another !   However ,  I've got back to my right size :   the next thing is ,  to get into that beautiful garden -  - how IS that to be done ,  I wonder ?  \"  As she said this ,  she came suddenly upon an open place ,  with a little house in it about four feet high .  \" Whoever lives there ,  \" thought Alice ,  \" it'll never do to come upon them THIS size :   why ,  I should frighten them out of their wits !  \"  So she began nibbling at the righthand bit again ,  and did not venture to go near the house till she had brought herself down to nine inches high . qwerty                           CHAPTER VIqwerty                         Pig and Pepperqwerty  For a minute or two she stood looking at the house ,  and wondering what to do next ,  when suddenly a footman in livery came running out of the wood -  -  ( she considered him to be a footman because he was in livery :   otherwise ,  judging by his face only ,  she would have called him a fish )  -  - and rapped loudly at the door with his knuckles .   It was opened by another footman in livery ,  with a round face ,  and large eyes like a frog ;  and both footmen ,  Alice noticed ,  had powdered hair that curled all over their heads .   She felt very curious to know what it was all about ,  and crept a little way out of the wood to listen . qwerty  The Fish - Footman began by producing from under his arm a great letter ,  nearly as large as himself ,  and this he handed over to the other ,  saying ,  in a solemn tone ,  \" For the Duchess .   An invitation from the Queen to play croquet .  \"  The Frog - Footman repeated ,  in the same solemn tone ,  only changing the order of the words a little ,  \" From the Queen .   An invitation for the Duchess to play croquet . 'qwerty  Then they both bowed low ,  and their curls got entangled together . qwerty  Alice laughed so much at this ,  that she had to run back into the wood for fear of their hearing her ;  and when she next peeped out the Fish - Footman was gone ,  and the other was sitting on the ground near the door ,  staring stupidly up into the sky . qwerty  Alice went timidly up to the door ,  and knocked . qwerty  \" There's no sort of use in knocking ,  \" said the Footman ,  \" and that for two reasons .   First ,  because I'm on the same side of the door as you are ;  secondly ,  because they're making such a noise inside ,  no one could possibly hear you .  \"  And certainly there was a most extraordinary noise going on within -  - a constant howling and sneezing ,  and every now and then a great crash ,  as if a dish or kettle had been broken to pieces . qwerty  \" Please ,  then ,  \" said Alice ,  \" how am I to get in ? 'qwerty  \" There might be some sense in your knocking ,  \" the Footman went on without attending to her ,  \" if we had the door between us .   For instance ,  if you were INSIDE ,  you might knock ,  and I could let you out ,  you know .  \"  He was looking up into the sky all the time he was speaking ,  and this Alice thought decidedly uncivil .   \" But perhaps he can't help it ,  \" she said to herself ;  \" his eyes are so VERY nearly at the top of his head .   But at any rate he might answer questions .  -  - How am I to get in ?  \" she repeated ,  aloud . qwerty  \" I shall sit here ,  \" the Footman remarked ,  \" till tomorrow -  - 'qwerty  At this moment the door of the house opened ,  and a large plate came skimming out ,  straight at the Footman's head :   it just grazed his nose ,  and broke to pieces against one of the trees behind him . qwerty  \"  -  - or next day ,  maybe ,  \" the Footman continued in the same tone ,  exactly as if nothing had happened . qwerty  \" How am I to get in ?  \" asked Alice again ,  in a louder tone . qwerty  \" ARE you to get in at all ?  \" said the Footman .   \" That's the first question ,  you know . 'qwerty  It was ,  no doubt :   only Alice did not like to be told so .  \" It's really dreadful ,  \" she muttered to herself ,  \" the way all the creatures argue .   It's enough to drive one crazy ! 'qwerty  The Footman seemed to think this a good opportunity for repeating his remark ,  with variations .   \" I shall sit here ,  \" he said ,  \" on and off ,  for days and days . 'qwerty  \" But what am I to do ?  \" said Alice . qwerty  \" Anything you like ,  \" said the Footman ,  and began whistling . qwerty  \" Oh ,  there's no use in talking to him ,  \" said Alice desperately :  \" he's perfectly idiotic !  \"  And she opened the door and went in . qwerty  The door led right into a large kitchen ,  which was full of smoke from one end to the other :   the Duchess was sitting on a three - legged stool in the middle ,  nursing a baby ;  the cook was leaning over the fire ,  stirring a large cauldron which seemed to be full of soup . qwerty  \" There's certainly too much pepper in that soup !  \" Alice said to herself ,  as well as she could for sneezing . qwerty  There was certainly too much of it in the air .   Even the Duchess sneezed occasionally ;  and as for the baby ,  it was sneezing and howling alternately without a moment's pause .   The only things in the kitchen that did not sneeze ,  were the cook ,  and a large cat which was sitting on the hearth and grinning from ear to ear . qwerty  \" Please would you tell me ,  \" said Alice ,  a little timidly ,  for she was not quite sure whether it was good manners for her to speak first ,  \" why your cat grins like that ? 'qwerty  \" It's a Cheshire cat ,  \" said the Duchess ,  \" and that's why .   Pig ! 'qwerty  She said the last word with such sudden violence that Alice quite jumped ;  but she saw in another moment that it was addressed to the baby ,  and not to her ,  so she took courage ,  and went on again :  -  - qwerty  \" I didn't know that Cheshire cats always grinned ;  in fact ,  I didn't know that cats COULD grin . 'qwerty  \" They all can ,  \" said the Duchess ;  \" and most of \" em do . 'qwerty  \" I don't know of any that do ,  \" Alice said very politely ,  feeling quite pleased to have got into a conversation . qwerty  \" You don't know much ,  \" said the Duchess ;  \" and that's a fact . 'qwerty  Alice did not at all like the tone of this remark ,  and thought it would be as well to introduce some other subject of conversation .   While she was trying to fix on one ,  the cook took the cauldron of soup off the fire ,  and at once set to work throwing everything within her reach at the Duchess and the baby  -  - the fire - irons came first ;  then followed a shower of saucepans ,  plates ,  and dishes .   The Duchess took no notice of them even when they hit her ;  and the baby was howling so much already ,  that it was quite impossible to say whether the blows hurt it or not . qwerty  \" Oh ,  PLEASE mind what you're doing !  \" cried Alice ,  jumping up and down in an agony of terror .   \" Oh ,  there goes his PRECIOUS nose' ;  as an unusually large saucepan flew close by it ,  and very nearly carried it off . qwerty  \" If everybody minded their own business ,  \" the Duchess said in a hoarse growl ,  \" the world would go round a deal faster than it does . 'qwerty  \" Which would NOT be an advantage ,  \" said Alice ,  who felt very glad to get an opportunity of showing off a little of her knowledge .   \" Just think of what work it would make with the day and night !   You see the earth takes twenty - four hours to turn round on its axis -  - 'qwerty  \" Talking of axes ,  \" said the Duchess ,  \" chop off her head ! 'qwerty  Alice glanced rather anxiously at the cook ,  to see if she meant to take the hint ;  but the cook was busily stirring the soup ,  and seemed not to be listening ,  so she went on again :   \" Twenty - four hours ,  I THINK ;  or is it twelve ?   I -  - 'qwerty  \" Oh ,  don't bother ME ,  \" said the Duchess ;  \" I never could abide figures !  \"  And with that she began nursing her child again ,  singing a sort of lullaby to it as she did so ,  and giving it a violent shake at the end of every line : qwerty        \" Speak roughly to your little boy ,            And beat him when he sneezes :          He only does it to annoy ,            Because he knows it teases . 'qwerty                    CHORUS . qwerty     ( In which the cook and the baby joined )  :  -  - qwerty                \" Wow !  wow !  wow ! 'qwerty  While the Duchess sang the second verse of the song ,  she kept tossing the baby violently up and down ,  and the poor little thing howled so ,  that Alice could hardly hear the words :  -  - qwerty        \" I speak severely to my boy ,            I beat him when he sneezes ;          For he can thoroughly enjoy           The pepper when he pleases ! 'qwerty                    CHORUS . qwerty                \" Wow !  wow !  wow ! 'qwerty  \" Here !  you may nurse it a bit ,  if you like !  \" the Duchess said to Alice ,  flinging the baby at her as she spoke .   \" I must go and get ready to play croquet with the Queen ,  \" and she hurried out of the room .   The cook threw a frying - pan after her as she went out ,  but it just missed her . qwerty  Alice caught the baby with some difficulty ,  as it was a queer -  shaped little creature ,  and held out its arms and legs in all directions ,  \" just like a star - fish ,  \" thought Alice .   The poor little thing was snorting like a steam - engine when she caught it ,  and kept doubling itself up and straightening itself out again ,  so that altogether ,  for the first minute or two ,  it was as much as she could do to hold it . qwerty  As soon as she had made out the proper way of nursing it ,   ( which was to twist it up into a sort of knot ,  and then keep tight hold of its right ear and left foot ,  so as to prevent its undoing itself ,  )  she carried it out into the open air .   \" IF I don't take this child away with me ,  \" thought Alice ,  \" they're sure to kill it in a day or two :   wouldn't it be murder to leave it behind ?  \"  She said the last words out loud ,  and the little thing grunted in reply  ( it had left off sneezing by this time )  .   \" Don't grunt ,  \" said Alice ;  \" that's not at all a proper way of expressing yourself . 'qwerty  The baby grunted again ,  and Alice looked very anxiously into its face to see what was the matter with it .   There could be no doubt that it had a VERY turn - up nose ,  much more like a snout than a real nose ;  also its eyes were getting extremely small for a baby :   altogether Alice did not like the look of the thing at all .   \" But perhaps it was only sobbing ,  \" she thought ,  and looked into its eyes again ,  to see if there were any tears . qwerty  No ,  there were no tears .   \" If you're going to turn into a pig ,  my dear ,  \" said Alice ,  seriously ,  \" I'll have nothing more to do with you .   Mind now !  \"  The poor little thing sobbed again  ( or grunted ,  it was impossible to say which )  ,  and they went on for some while in silence . qwerty  Alice was just beginning to think to herself ,  \" Now ,  what am I to do with this creature when I get it home ?  \" when it grunted again ,  so violently ,  that she looked down into its face in some alarm .   This time there could be NO mistake about it :   it was neither more nor less than a pig ,  and she felt that it would be quite absurd for her to carry it further . qwerty  So she set the little creature down ,  and felt quite relieved to see it trot away quietly into the wood .   \" If it had grown up ,  \" she said to herself ,  \" it would have made a dreadfully ugly child :  but it makes rather a handsome pig ,  I think .  \"  And she began thinking over other children she knew ,  who might do very well as pigs ,  and was just saying to herself ,  \" if one only knew the right way to change them -  -  \" when she was a little startled by seeing the Cheshire Cat sitting on a bough of a tree a few yards off . qwerty  The Cat only grinned when it saw Alice .   It looked good -  natured ,  she thought :   still it had VERY long claws and a great many teeth ,  so she felt that it ought to be treated with respect . qwerty  \" Cheshire Puss ,  \" she began ,  rather timidly ,  as she did not at all know whether it would like the name :   however ,  it only grinned a little wider .   \" Come ,  it's pleased so far ,  \" thought Alice ,  and she went on .   \" Would you tell me ,  please ,  which way I ought to go from here ? 'qwerty  \" That depends a good deal on where you want to get to ,  \" said the Cat . qwerty  \" I don't much care where -  -  \" said Alice . qwerty  \" Then it doesn't matter which way you go ,  \" said the Cat . qwerty  \"  -  - so long as I get SOMEWHERE ,  \" Alice added as an explanation . qwerty  \" Oh ,  you're sure to do that ,  \" said the Cat ,  \" if you only walk long enough . 'qwerty  Alice felt that this could not be denied ,  so she tried another question .   \" What sort of people live about here ? 'qwerty  \" In THAT direction ,  \" the Cat said ,  waving its right paw round ,  \" lives a Hatter :   and in THAT direction ,  \" waving the other paw ,  \" lives a March Hare .   Visit either you like :   they're both mad . 'qwerty  \" But I don't want to go among mad people ,  \" Alice remarked . qwerty  \" Oh ,  you can't help that ,  \" said the Cat :   \" we're all mad here .  I'm mad .   You're mad . 'qwerty  \" How do you know I'm mad ?  \" said Alice . qwerty  \" You must be ,  \" said the Cat ,  \" or you wouldn't have come here . 'qwerty  Alice didn't think that proved it at all ;  however ,  she went on \" And how do you know that you're mad ? 'qwerty  \" To begin with ,  \" said the Cat ,  \" a dog's not mad .   You grant that ? 'qwerty  \" I suppose so ,  \" said Alice . qwerty  \" Well ,  then ,  \" the Cat went on ,  \" you see ,  a dog growls when it's angry ,  and wags its tail when it's pleased .   Now I growl when I'm pleased ,  and wag my tail when I'm angry .   Therefore I'm mad . 'qwerty  \" I call it purring ,  not growling ,  \" said Alice . qwerty  \" Call it what you like ,  \" said the Cat .   \" Do you play croquet with the Queen to - day ? 'qwerty  \" I should like it very much ,  \" said Alice ,  \" but I haven't been invited yet . 'qwerty  \" You'll see me there ,  \" said the Cat ,  and vanished . qwerty  Alice was not much surprised at this ,  she was getting so used to queer things happening .   While she was looking at the place where it had been ,  it suddenly appeared again . qwerty  \" By - the - bye ,  what became of the baby ?  \" said the Cat .   \" I'd nearly forgotten to ask . 'qwerty  \" It turned into a pig ,  \" Alice quietly said ,  just as if it had come back in a natural way . qwerty  \" I thought it would ,  \" said the Cat ,  and vanished again . qwerty  Alice waited a little ,  half expecting to see it again ,  but it did not appear ,  and after a minute or two she walked on in the direction in which the March Hare was said to live .   \" I've seen hatters before ,  \" she said to herself ;  \" the March Hare will be much the most interesting ,  and perhaps as this is May it won't be raving mad -  - at least not so mad as it was in March .  \"  As she said this ,  she looked up ,  and there was the Cat again ,  sitting on a branch of a tree . qwerty  \" Did you say pig ,  or fig ?  \" said the Cat . qwerty  \" I said pig ,  \" replied Alice ;  \" and I wish you wouldn't keep appearing and vanishing so suddenly :   you make one quite giddy . 'qwerty  \" All right ,  \" said the Cat ;  and this time it vanished quite slowly ,  beginning with the end of the tail ,  and ending with the grin ,  which remained some time after the rest of it had gone . qwerty  \" Well !   I've often seen a cat without a grin ,  \" thought Alice ;  \" but a grin without a cat !   It's the most curious thing I ever saw in my life ! 'qwerty  She had not gone much farther before she came in sight of the house of the March Hare :   she thought it must be the right house ,  because the chimneys were shaped like ears and the roof was thatched with fur .   It was so large a house ,  that she did not like to go nearer till she had nibbled some more of the lefthand bit of mushroom ,  and raised herself to about two feet high :   even then she walked up towards it rather timidly ,  saying to herself \" Suppose it should be raving mad after all !   I almost wish I'd gone to see the Hatter instead ! 'qwerty                           CHAPTER VIIqwerty                         A Mad Tea - Partyqwerty  There was a table set out under a tree in front of the house ,  and the March Hare and the Hatter were having tea at it :   a Dormouse was sitting between them ,  fast asleep ,  and the other two were using it as a cushion ,  resting their elbows on it ,  and talking over its head .   \" Very uncomfortable for the Dormouse ,  \" thought Alice ;  \" only ,  as it's asleep ,  I suppose it doesn't mind . 'qwerty  The table was a large one ,  but the three were all crowded together at one corner of it :   \" No room !   No room !  \" they cried out when they saw Alice coming .   \" There's PLENTY of room !  \" said Alice indignantly ,  and she sat down in a large arm - chair at one end of the table . qwerty  \" Have some wine ,  \" the March Hare said in an encouraging tone . qwerty  Alice looked all round the table ,  but there was nothing on it but tea .   \" I don't see any wine ,  \" she remarked . qwerty  \" There isn't any ,  \" said the March Hare . qwerty  \" Then it wasn't very civil of you to offer it ,  \" said Alice angrily . qwerty  \" It wasn't very civil of you to sit down without being invited ,  \" said the March Hare . qwerty  \" I didn't know it was YOUR table ,  \" said Alice ;  \" it's laid for a great many more than three . 'qwerty  \" Your hair wants cutting ,  \" said the Hatter .   He had been looking at Alice for some time with great curiosity ,  and this was his first speech . qwerty  \" You should learn not to make personal remarks ,  \" Alice said with some severity ;  \" it's very rude . 'qwerty  The Hatter opened his eyes very wide on hearing this ;  but all he SAID was ,  \" Why is a raven like a writing - desk ? 'qwerty  \" Come ,  we shall have some fun now !  \" thought Alice .   \" I'm glad they've begun asking riddles .  -  - I believe I can guess that ,  \" she added aloud . qwerty  \" Do you mean that you think you can find out the answer to it ?  \" said the March Hare . qwerty  \" Exactly so ,  \" said Alice . qwerty  \" Then you should say what you mean ,  \" the March Hare went on . qwerty  \" I do ,  \" Alice hastily replied ;  \" at least -  - at least I mean what I say -  - that's the same thing ,  you know . 'qwerty  \" Not the same thing a bit !  \" said the Hatter .   \" You might just as well say that  \" I see what I eat \"  is the same thing as  \" I eat what I see \"  ! 'qwerty  \" You might just as well say ,  \" added the March Hare ,  \" that  \" I like what I get \"  is the same thing as  \" I get what I like \"  ! 'qwerty  \" You might just as well say ,  \" added the Dormouse ,  who seemed to be talking in his sleep ,  \" that  \" I breathe when I sleep \"  is the same thing as  \" I sleep when I breathe \"  ! 'qwerty  \" It IS the same thing with you ,  \" said the Hatter ,  and here the conversation dropped ,  and the party sat silent for a minute ,  while Alice thought over all she could remember about ravens and writing - desks ,  which wasn't much . qwerty  The Hatter was the first to break the silence .   \" What day of the month is it ?  \" he said ,  turning to Alice :   he had taken his watch out of his pocket ,  and was looking at it uneasily ,  shaking it every now and then ,  and holding it to his ear . qwerty  Alice considered a little ,  and then said \" The fourth . 'qwerty  \" Two days wrong !  \" sighed the Hatter .   \" I told you butter wouldn't suit the works !  \" he added looking angrily at the March Hare . qwerty  \" It was the BEST butter ,  \" the March Hare meekly replied . qwerty  \" Yes ,  but some crumbs must have got in as well ,  \" the Hatter grumbled :   \" you shouldn't have put it in with the bread - knife . 'qwerty  The March Hare took the watch and looked at it gloomily :   then he dipped it into his cup of tea ,  and looked at it again :   but he could think of nothing better to say than his first remark ,  \" It was the BEST butter ,  you know . 'qwerty  Alice had been looking over his shoulder with some curiosity .  \" What a funny watch !  \" she remarked .   \" It tells the day of the month ,  and doesn't tell what o'clock it is ! 'qwerty  \" Why should it ?  \" muttered the Hatter .   \" Does YOUR watch tell you what year it is ? 'qwerty  \" Of course not ,  \" Alice replied very readily :   \" but that's because it stays the same year for such a long time together . 'qwerty  \" Which is just the case with MINE ,  \" said the Hatter . qwerty  Alice felt dreadfully puzzled .   The Hatter's remark seemed to have no sort of meaning in it ,  and yet it was certainly English .  \" I don't quite understand you ,  \" she said ,  as politely as she could . qwerty  \" The Dormouse is asleep again ,  \" said the Hatter ,  and he poured a little hot tea upon its nose . qwerty  The Dormouse shook its head impatiently ,  and said ,  without opening its eyes ,  \" Of course ,  of course ;  just what I was going to remark myself . 'qwerty  \" Have you guessed the riddle yet ?  \" the Hatter said ,  turning to Alice again . qwerty  \" No ,  I give it up ,  \" Alice replied :   \" what's the answer ? 'qwerty  \" I haven't the slightest idea ,  \" said the Hatter . qwerty  \" Nor I ,  \" said the March Hare . qwerty  Alice sighed wearily .   \" I think you might do something better with the time ,  \" she said ,  \" than waste it in asking riddles that have no answers . 'qwerty  \" If you knew Time as well as I do ,  \" said the Hatter ,  \" you wouldn't talk about wasting IT .   It's HIM . 'qwerty  \" I don't know what you mean ,  \" said Alice . qwerty  \" Of course you don't !  \" the Hatter said ,  tossing his head contemptuously .   \" I dare say you never even spoke to Time ! 'qwerty  \" Perhaps not ,  \" Alice cautiously replied :   \" but I know I have to beat time when I learn music . 'qwerty  \" Ah !  that accounts for it ,  \" said the Hatter .   \" He won't stand beating .   Now ,  if you only kept on good terms with him ,  he'd do almost anything you liked with the clock .   For instance ,  suppose it were nine o'clock in the morning ,  just time to begin lessons :  you'd only have to whisper a hint to Time ,  and round goes the clock in a twinkling !   Half - past one ,  time for dinner ! 'qwerty   ( `I only wish it was ,  \" the March Hare said to itself in a whisper .  ) qwerty  \" That would be grand ,  certainly ,  \" said Alice thoughtfully :  \" but then -  - I shouldn't be hungry for it ,  you know . 'qwerty  \" Not at first ,  perhaps ,  \" said the Hatter :   \" but you could keep it to half - past one as long as you liked . 'qwerty  \" Is that the way YOU manage ?  \" Alice asked . qwerty  The Hatter shook his head mournfully .   \" Not I !  \" he replied .  \" We quarrelled last March -  - just before HE went mad ,  you know -  -  \"  ( pointing with his tea spoon at the March Hare ,  )  \"  -  - it was at the great concert given by the Queen of Hearts ,  and I had to singqwerty             \" Twinkle ,  twinkle ,  little bat !              How I wonder what you're at !  \" qwertyYou know the song ,  perhaps ? 'qwerty  \" I've heard something like it ,  \" said Alice . qwerty  \" It goes on ,  you know ,  \" the Hatter continued ,  \" in this way :  -  - qwerty             \" Up above the world you fly ,              Like a tea - tray in the sky .                      Twinkle ,  twinkle -  -  \" 'qwertyHere the Dormouse shook itself ,  and began singing in its sleep \" Twinkle ,  twinkle ,  twinkle ,  twinkle -  -  \" and went on so long that they had to pinch it to make it stop . qwerty  \" Well ,  I'd hardly finished the first verse ,  \" said the Hatter ,  \" when the Queen jumped up and bawled out ,   \" He's murdering the time !   Off with his head !  \" 'qwerty  \" How dreadfully savage !  \" exclaimed Alice . qwerty  \" And ever since that ,  \" the Hatter went on in a mournful tone ,  \" he won't do a thing I ask !   It's always six o'clock now . 'qwerty  A bright idea came into Alice's head .   \" Is that the reason so many tea - things are put out here ?  \" she asked . qwerty  \" Yes ,  that's it ,  \" said the Hatter with a sigh :   \" it's always tea - time ,  and we've no time to wash the things between whiles . 'qwerty  \" Then you keep moving round ,  I suppose ?  \" said Alice . qwerty  \" Exactly so ,  \" said the Hatter :   \" as the things get used up . 'qwerty  \" But what happens when you come to the beginning again ?  \" Alice ventured to ask . qwerty  \" Suppose we change the subject ,  \" the March Hare interrupted ,  yawning .   \" I'm getting tired of this .   I vote the young lady tells us a story . 'qwerty  \" I'm afraid I don't know one ,  \" said Alice ,  rather alarmed at the proposal . qwerty  \" Then the Dormouse shall !  \" they both cried .   \" Wake up ,  Dormouse !  \"  And they pinched it on both sides at once . qwerty  The Dormouse slowly opened his eyes .   \" I wasn't asleep ,  \" he said in a hoarse ,  feeble voice :   \" I heard every word you fellows were saying . 'qwerty  \" Tell us a story !  \" said the March Hare . qwerty  \" Yes ,  please do !  \" pleaded Alice . qwerty  \" And be quick about it ,  \" added the Hatter ,  \" or you'll be asleep again before it's done . 'qwerty  \" Once upon a time there were three little sisters ,  \" the Dormouse began in a great hurry ;  \" and their names were Elsie ,  Lacie ,  and Tillie ;  and they lived at the bottom of a well -  - 'qwerty  \" What did they live on ?  \" said Alice ,  who always took a great interest in questions of eating and drinking . qwerty  \" They lived on treacle ,  \" said the Dormouse ,  after thinking a minute or two . qwerty  \" They couldn't have done that ,  you know ,  \" Alice gently remarked ;  \" they'd have been ill . 'qwerty  \" So they were ,  \" said the Dormouse ;  \" VERY ill . 'qwerty  Alice tried to fancy to herself what such an extraordinary ways of living would be like ,  but it puzzled her too much ,  so she went on :   \" But why did they live at the bottom of a well ? 'qwerty  \" Take some more tea ,  \" the March Hare said to Alice ,  very earnestly . qwerty  \" I've had nothing yet ,  \" Alice replied in an offended tone ,  \" so I can't take more . 'qwerty  \" You mean you can't take LESS ,  \" said the Hatter :   \" it's very easy to take MORE than nothing . 'qwerty  \" Nobody asked YOUR opinion ,  \" said Alice . qwerty  \" Who's making personal remarks now ?  \" the Hatter asked triumphantly . qwerty  Alice did not quite know what to say to this :   so she helped herself to some tea and bread - and - butter ,  and then turned to the Dormouse ,  and repeated her question .   \" Why did they live at the bottom of a well ? 'qwerty  The Dormouse again took a minute or two to think about it ,  and then said ,  \" It was a treacle - well . 'qwerty  \" There's no such thing !  \"  Alice was beginning very angrily ,  but the Hatter and the March Hare went \" Sh !  sh !  \" and the Dormouse sulkily remarked ,  \" If you can't be civil ,  you'd better finish the story for yourself . 'qwerty  \" No ,  please go on !  \" Alice said very humbly ;  \" I won't interrupt again .   I dare say there may be ONE . 'qwerty  \" One ,  indeed !  \" said the Dormouse indignantly .   However ,  he consented to go on .   \" And so these three little sisters -  - they were learning to draw ,  you know -  - 'qwerty  \" What did they draw ?  \" said Alice ,  quite forgetting her promise . qwerty  \" Treacle ,  \" said the Dormouse ,  without considering at all this time . qwerty  \" I want a clean cup ,  \" interrupted the Hatter :   \" let's all move one place on . 'qwerty  He moved on as he spoke ,  and the Dormouse followed him :   the March Hare moved into the Dormouse's place ,  and Alice rather unwillingly took the place of the March Hare .   The Hatter was the only one who got any advantage from the change :   and Alice was a good deal worse off than before ,  as the March Hare had just upset the milk - jug into his plate . qwerty  Alice did not wish to offend the Dormouse again ,  so she began very cautiously :   \" But I don't understand .   Where did they draw the treacle from ? 'qwerty  \" You can draw water out of a water - well ,  \" said the Hatter ;  \" so I should think you could draw treacle out of a treacle - well -  - eh ,  stupid ? 'qwerty  \" But they were IN the well ,  \" Alice said to the Dormouse ,  not choosing to notice this last remark . qwerty  \" Of course they were' ,  said the Dormouse ;  \"  -  - well in . 'qwerty  This answer so confused poor Alice ,  that she let the Dormouse go on for some time without interrupting it . qwerty  \" They were learning to draw ,  \" the Dormouse went on ,  yawning and rubbing its eyes ,  for it was getting very sleepy ;  \" and they drew all manner of things -  - everything that begins with an M -  - 'qwerty  \" Why with an M ?  \" said Alice . qwerty  \" Why not ?  \" said the March Hare . qwerty  Alice was silent . qwerty  The Dormouse had closed its eyes by this time ,  and was going off into a doze ;  but ,  on being pinched by the Hatter ,  it woke up again with a little shriek ,  and went on :   \"  -  - that begins with an M ,  such as mouse - traps ,  and the moon ,  and memory ,  and muchness -  -  you know you say things are  \" much of a muchness \"  -  - did you ever see such a thing as a drawing of a muchness ? 'qwerty  \" Really ,  now you ask me ,  \" said Alice ,  very much confused ,  \" I don't think -  - 'qwerty  \" Then you shouldn't talk ,  \" said the Hatter . qwerty  This piece of rudeness was more than Alice could bear :   she got up in great disgust ,  and walked off ;  the Dormouse fell asleep instantly ,  and neither of the others took the least notice of her going ,  though she looked back once or twice ,  half hoping that they would call after her :   the last time she saw them ,  they were trying to put the Dormouse into the teapot . qwerty  \" At any rate I'll never go THERE again !  \" said Alice as she picked her way through the wood .   \" It's the stupidest tea - party I ever was at in all my life ! 'qwerty  Just as she said this ,  she noticed that one of the trees had a door leading right into it .   \" That's very curious !  \" she thought .  \" But everything's curious today .   I think I may as well go in at once .  \" And in she went . qwerty  Once more she found herself in the long hall ,  and close to the little glass table .   \" Now ,  I'll manage better this time ,  \" she said to herself ,  and began by taking the little golden key ,  and unlocking the door that led into the garden .   Then she went to work nibbling at the mushroom  ( she had kept a piece of it in her pocket )  till she was about a foot high :   then she walked down the little passage :   and THEN -  - she found herself at last in the beautiful garden ,  among the bright flower - beds and the cool fountains . qwerty                          CHAPTER VIIIqwerty                   The Queen's Croquet - Groundqwerty  A large rose - tree stood near the entrance of the garden :   the roses growing on it were white ,  but there were three gardeners at it ,  busily painting them red .   Alice thought this a very curious thing ,  and she went nearer to watch them ,  and just as she came up to them she heard one of them say ,  \" Look out now ,  Five !   Don't go splashing paint over me like that ! 'qwerty  \" I couldn't help it ,  \" said Five ,  in a sulky tone ;  \" Seven jogged my elbow . 'qwerty  On which Seven looked up and said ,  \" That's right ,  Five !   Always lay the blame on others ! 'qwerty  \" YOU'D better not talk !  \" said Five .   \" I heard the Queen say only yesterday you deserved to be beheaded ! 'qwerty  \" What for ?  \" said the one who had spoken first . qwerty  \" That's none of YOUR business ,  Two !  \" said Seven . qwerty  \" Yes ,  it IS his business !  \" said Five ,  \" and I'll tell him -  - it was for bringing the cook tulip - roots instead of onions . 'qwerty  Seven flung down his brush ,  and had just begun \" Well ,  of all the unjust things -  -  \" when his eye chanced to fall upon Alice ,  as she stood watching them ,  and he checked himself suddenly :   the others looked round also ,  and all of them bowed low . qwerty  \" Would you tell me ,  \" said Alice ,  a little timidly ,  \" why you are painting those roses ? 'qwerty  Five and Seven said nothing ,  but looked at Two .   Two began in a low voice ,  \" Why the fact is ,  you see ,  Miss ,  this here ought to have been a RED rose - tree ,  and we put a white one in by mistake ;  and if the Queen was to find it out ,  we should all have our heads cut off ,  you know .   So you see ,  Miss ,  we're doing our best ,  afore she comes ,  to -  -  \"  At this moment Five ,  who had been anxiously looking across the garden ,  called out \" The Queen !   The Queen !  \" and the three gardeners instantly threw themselves flat upon their faces .   There was a sound of many footsteps ,  and Alice looked round ,  eager to see the Queen . qwerty  First came ten soldiers carrying clubs ;  these were all shaped like the three gardeners ,  oblong and flat ,  with their hands and feet at the corners :   next the ten courtiers ;  these were ornamented all over with diamonds ,  and walked two and two ,  as the soldiers did .   After these came the royal children ;  there were ten of them ,  and the little dears came jumping merrily along hand in hand ,  in couples :   they were all ornamented with hearts .   Next came the guests ,  mostly Kings and Queens ,  and among them Alice recognised the White Rabbit :   it was talking in a hurried nervous manner ,  smiling at everything that was said ,  and went by without noticing her .   Then followed the Knave of Hearts ,  carrying the King's crown on a crimson velvet cushion ;  and ,  last of all this grand procession ,  came THE KING AND QUEEN OF HEARTS . qwerty  Alice was rather doubtful whether she ought not to lie down on her face like the three gardeners ,  but she could not remember ever having heard of such a rule at processions ;  \" and besides ,  what would be the use of a procession ,  \" thought she ,  \" if people had all to lie down upon their faces ,  so that they couldn't see it ?  \" So she stood still where she was ,  and waited . qwerty  When the procession came opposite to Alice ,  they all stopped and looked at her ,  and the Queen said severely \" Who is this ?  \" She said it to the Knave of Hearts ,  who only bowed and smiled in reply . qwerty  \" Idiot !  \" said the Queen ,  tossing her head impatiently ;  and ,  turning to Alice ,  she went on ,  \" What's your name ,  child ? 'qwerty  \" My name is Alice ,  so please your Majesty ,  \" said Alice very politely ;  but she added ,  to herself ,  \" Why ,  they're only a pack of cards ,  after all .   I needn't be afraid of them ! 'qwerty  \" And who are THESE ?  \" said the Queen ,  pointing to the three gardeners who were lying round the rosetree ;  for ,  you see ,  as they were lying on their faces ,  and the pattern on their backs was the same as the rest of the pack ,  she could not tell whether they were gardeners ,  or soldiers ,  or courtiers ,  or three of her own children . qwerty  \" How should I know ?  \" said Alice ,  surprised at her own courage .  \" It's no business of MINE . 'qwerty  The Queen turned crimson with fury ,  and ,  after glaring at her for a moment like a wild beast ,  screamed \" Off with her head !  Off -  - 'qwerty  \" Nonsense !  \" said Alice ,  very loudly and decidedly ,  and the Queen was silent . qwerty  The King laid his hand upon her arm ,  and timidly said \" Consider ,  my dear :   she is only a child ! 'qwerty  The Queen turned angrily away from him ,  and said to the Knave \" Turn them over ! 'qwerty  The Knave did so ,  very carefully ,  with one foot . qwerty  \" Get up !  \" said the Queen ,  in a shrill ,  loud voice ,  and the three gardeners instantly jumped up ,  and began bowing to the King ,  the Queen ,  the royal children ,  and everybody else . qwerty  \" Leave off that !  \" screamed the Queen .   \" You make me giddy .  \" And then ,  turning to the rose - tree ,  she went on ,  \" What HAVE you been doing here ? 'qwerty  \" May it please your Majesty ,  \" said Two ,  in a very humble tone ,  going down on one knee as he spoke ,  \" we were trying -  - 'qwerty  \" I see !  \" said the Queen ,  who had meanwhile been examining the roses .   \" Off with their heads !  \" and the procession moved on ,  three of the soldiers remaining behind to execute the unfortunate gardeners ,  who ran to Alice for protection . qwerty  \" You shan't be beheaded !  \" said Alice ,  and she put them into a large flower - pot that stood near .   The three soldiers wandered about for a minute or two ,  looking for them ,  and then quietly marched off after the others . qwerty  \" Are their heads off ?  \" shouted the Queen . qwerty  \" Their heads are gone ,  if it please your Majesty !  \" the soldiers shouted in reply . qwerty  \" That's right !  \" shouted the Queen .   \" Can you play croquet ? 'qwerty  The soldiers were silent ,  and looked at Alice ,  as the question was evidently meant for her . qwerty  \" Yes !  \" shouted Alice . qwerty  \" Come on ,  then !  \" roared the Queen ,  and Alice joined the procession ,  wondering very much what would happen next . qwerty  \" It's -  - it's a very fine day !  \" said a timid voice at her side .  She was walking by the White Rabbit ,  who was peeping anxiously into her face . qwerty  \" Very ,  \" said Alice :   \"  -  - where's the Duchess ? 'qwerty  \" Hush !   Hush !  \" said the Rabbit in a low ,  hurried tone .   He looked anxiously over his shoulder as he spoke ,  and then raised himself upon tiptoe ,  put his mouth close to her ear ,  and whispered \" She's under sentence of execution . 'qwerty  \" What for ?  \" said Alice . qwerty  \" Did you say  \" What a pity !  \"  ?  \" the Rabbit asked . qwerty  \" No ,  I didn't ,  \" said Alice :   \" I don't think it's at all a pity .  I said  \" What for ?  \" 'qwerty  \" She boxed the Queen's ears -  -  \" the Rabbit began .   Alice gave a little scream of laughter .   \" Oh ,  hush !  \" the Rabbit whispered in a frightened tone .   \" The Queen will hear you !   You see ,  she came rather late ,  and the Queen said -  - 'qwerty  \" Get to your places !  \" shouted the Queen in a voice of thunder ,  and people began running about in all directions ,  tumbling up against each other ;  however ,  they got settled down in a minute or two ,  and the game began .   Alice thought she had never seen such a curious croquet - ground in her life ;  it was all ridges and furrows ;  the balls were live hedgehogs ,  the mallets live flamingoes ,  and the soldiers had to double themselves up and to stand on their hands and feet ,  to make the arches . qwerty  The chief difficulty Alice found at first was in managing her flamingo :   she succeeded in getting its body tucked away ,  comfortably enough ,  under her arm ,  with its legs hanging down ,  but generally ,  just as she had got its neck nicely straightened out ,  and was going to give the hedgehog a blow with its head ,  it WOULD twist itself round and look up in her face ,  with such a puzzled expression that she could not help bursting out laughing :  and when she had got its head down ,  and was going to begin again ,  it was very provoking to find that the hedgehog had unrolled itself ,  and was in the act of crawling away :   besides all this ,  there was generally a ridge or furrow in the way wherever she wanted to send the hedgehog to ,  and ,  as the doubled - up soldiers were always getting up and walking off to other parts of the ground ,  Alice soon came to the conclusion that it was a very difficult game indeed . qwerty  The players all played at once without waiting for turns ,  quarrelling all the while ,  and fighting for the hedgehogs ;  and in a very short time the Queen was in a furious passion ,  and went stamping about ,  and shouting \" Off with his head !  \" or \" Off with her head !  \" about once in a minute . qwerty  Alice began to feel very uneasy :   to be sure ,  she had not as yet had any dispute with the Queen ,  but she knew that it might happen any minute ,  \" and then ,  \" thought she ,  \" what would become of me ?   They're dreadfully fond of beheading people here ;  the great wonder is ,  that there's any one left alive ! 'qwerty  She was looking about for some way of escape ,  and wondering whether she could get away without being seen ,  when she noticed a curious appearance in the air :   it puzzled her very much at first ,  but ,  after watching it a minute or two ,  she made it out to be a grin ,  and she said to herself \" It's the Cheshire Cat :   now I shall have somebody to talk to . 'qwerty  \" How are you getting on ?  \" said the Cat ,  as soon as there was mouth enough for it to speak with . qwerty  Alice waited till the eyes appeared ,  and then nodded .   \" It's no use speaking to it ,  \" she thought ,  \" till its ears have come ,  or at least one of them .  \"  In another minute the whole head appeared ,  and then Alice put down her flamingo ,  and began an account of the game ,  feeling very glad she had someone to listen to her .   The Cat seemed to think that there was enough of it now in sight ,  and no more of it appeared . qwerty  \" I don't think they play at all fairly ,  \" Alice began ,  in rather a complaining tone ,  \" and they all quarrel so dreadfully one can't hear oneself speak -  - and they don't seem to have any rules in particular ;  at least ,  if there are ,  nobody attends to them -  - and you've no idea how confusing it is all the things being alive ;  for instance ,  there's the arch I've got to go through next walking about at the other end of the ground -  - and I should have croqueted the Queen's hedgehog just now ,  only it ran away when it saw mine coming ! 'qwerty  \" How do you like the Queen ?  \" said the Cat in a low voice . qwerty  \" Not at all ,  \" said Alice :   \" she's so extremely -  -  \"  Just then she noticed that the Queen was close behind her ,  listening :   so she went on ,  \"  -  - likely to win ,  that it's hardly worth while finishing the game . 'qwerty  The Queen smiled and passed on . qwerty  \" Who ARE you talking to ?  \" said the King ,  going up to Alice ,  and looking at the Cat's head with great curiosity . qwerty  \" It's a friend of mine -  - a Cheshire Cat ,  \" said Alice :   \" allow me to introduce it . 'qwerty  \" I don't like the look of it at all ,  \" said the King :  \" however ,  it may kiss my hand if it likes . 'qwerty  \" I'd rather not ,  \" the Cat remarked . qwerty  \" Don't be impertinent ,  \" said the King ,  \" and don't look at me like that !  \"  He got behind Alice as he spoke . qwerty  \" A cat may look at a king ,  \" said Alice .   \" I've read that in some book ,  but I don't remember where . 'qwerty  \" Well ,  it must be removed ,  \" said the King very decidedly ,  and he called the Queen ,  who was passing at the moment ,  \" My dear !   I wish you would have this cat removed ! 'qwerty  The Queen had only one way of settling all difficulties ,  great or small .   \" Off with his head !  \" she said ,  without even looking round . qwerty  \" I'll fetch the executioner myself ,  \" said the King eagerly ,  and he hurried off . qwerty  Alice thought she might as well go back ,  and see how the game was going on ,  as she heard the Queen's voice in the distance ,  screaming with passion .   She had already heard her sentence three of the players to be executed for having missed their turns ,  and she did not like the look of things at all ,  as the game was in such confusion that she never knew whether it was her turn or not .   So she went in search of her hedgehog . qwerty  The hedgehog was engaged in a fight with another hedgehog ,  which seemed to Alice an excellent opportunity for croqueting one of them with the other :   the only difficulty was ,  that her flamingo was gone across to the other side of the garden ,  where Alice could see it trying in a helpless sort of way to fly up into a tree . qwerty  By the time she had caught the flamingo and brought it back ,  the fight was over ,  and both the hedgehogs were out of sight :  \" but it doesn't matter much ,  \" thought Alice ,  \" as all the arches are gone from this side of the ground .  \"  So she tucked it away under her arm ,  that it might not escape again ,  and went back for a little more conversation with her friend . qwerty  When she got back to the Cheshire Cat ,  she was surprised to find quite a large crowd collected round it :   there was a dispute going on between the executioner ,  the King ,  and the Queen ,  who were all talking at once ,  while all the rest were quite silent ,  and looked very uncomfortable . qwerty  The moment Alice appeared ,  she was appealed to by all three to settle the question ,  and they repeated their arguments to her ,  though ,  as they all spoke at once ,  she found it very hard indeed to make out exactly what they said . qwerty  The executioner's argument was ,  that you couldn't cut off a head unless there was a body to cut it off from :   that he had never had to do such a thing before ,  and he wasn't going to begin at HIS time of life . qwerty  The King's argument was ,  that anything that had a head could be beheaded ,  and that you weren't to talk nonsense . qwerty  The Queen's argument was ,  that if something wasn't done about it in less than no time she'd have everybody executed ,  all round .   ( It was this last remark that had made the whole party look so grave and anxious .  ) qwerty  Alice could think of nothing else to say but \" It belongs to the Duchess :   you'd better ask HER about it . 'qwerty  \" She's in prison ,  \" the Queen said to the executioner :   \" fetch her here .  \"  And the executioner went off like an arrow . qwerty   The Cat's head began fading away the moment he was gone ,  and ,  by the time he had come back with the Duchess ,  it had entirely disappeared ;  so the King and the executioner ran wildly up and down looking for it ,  while the rest of the party went back to the game . qwerty                           CHAPTER IXqwerty                     The Mock Turtle's Storyqwerty  \" You can't think how glad I am to see you again ,  you dear old thing !  \" said the Duchess ,  as she tucked her arm affectionately into Alice's ,  and they walked off together . qwerty  Alice was very glad to find her in such a pleasant temper ,  and thought to herself that perhaps it was only the pepper that had made her so savage when they met in the kitchen . qwerty  \" When I'M a Duchess ,  \" she said to herself ,   ( not in a very hopeful tone though )  ,  \" I won't have any pepper in my kitchen AT ALL .   Soup does very well without -  - Maybe it's always pepper that makes people hot - tempered ,  \" she went on ,  very much pleased at having found out a new kind of rule ,  \" and vinegar that makes them sour -  - and camomile that makes them bitter -  - and -  - and barley - sugar and such things that make children sweet - tempered .   I only wish people knew that :   then they wouldn't be so stingy about it ,  you know -  - 'qwerty  She had quite forgotten the Duchess by this time ,  and was a little startled when she heard her voice close to her ear .  \" You're thinking about something ,  my dear ,  and that makes you forget to talk .   I can't tell you just now what the moral of that is ,  but I shall remember it in a bit . 'qwerty  \" Perhaps it hasn't one ,  \" Alice ventured to remark . qwerty  \" Tut ,  tut ,  child !  \" said the Duchess .   \" Everything's got a moral ,  if only you can find it .  \"  And she squeezed herself up closer to Alice's side as she spoke . qwerty  Alice did not much like keeping so close to her :   first ,  because the Duchess was VERY ugly ;  and secondly ,  because she was exactly the right height to rest her chin upon Alice's shoulder ,  and it was an uncomfortably sharp chin .   However ,  she did not like to be rude ,  so she bore it as well as she could . qwerty  \" The game's going on rather better now ,  \" she said ,  by way of keeping up the conversation a little . qwerty  \" 'Tis so ,  \" said the Duchess :   \" and the moral of that is -  -  \" Oh ,  \" tis love ,  \" tis love ,  that makes the world go round !  \" 'qwerty  \" Somebody said ,  \" Alice whispered ,  \" that it's done by everybody minding their own business ! 'qwerty  \" Ah ,  well !   It means much the same thing ,  \" said the Duchess ,  digging her sharp little chin into Alice's shoulder as she added ,  \" and the moral of THAT is -  -  \" Take care of the sense ,  and the sounds will take care of themselves .  \" 'qwerty  \" How fond she is of finding morals in things !  \" Alice thought to herself . qwerty  \" I dare say you're wondering why I don't put my arm round your waist ,  \" the Duchess said after a pause :   \" the reason is ,  that I'm doubtful about the temper of your flamingo .   Shall I try the experiment ? 'qwerty  \" HE might bite ,  \" Alice cautiously replied ,  not feeling at all anxious to have the experiment tried . qwerty  \" Very true ,  \" said the Duchess :   \" flamingoes and mustard both bite .   And the moral of that is -  -  \" Birds of a feather flock together .  \" 'qwerty  \" Only mustard isn't a bird ,  \" Alice remarked . qwerty  \" Right ,  as usual ,  \" said the Duchess :   \" what a clear way you have of putting things ! 'qwerty  \" It's a mineral ,  I THINK ,  \" said Alice . qwerty  \" Of course it is ,  \" said the Duchess ,  who seemed ready to agree to everything that Alice said ;  \" there's a large mustard - mine near here .   And the moral of that is -  -  \" The more there is of mine ,  the less there is of yours .  \" 'qwerty  \" Oh ,  I know !  \" exclaimed Alice ,  who had not attended to this last remark ,  \" it's a vegetable .   It doesn't look like one ,  but it is . 'qwerty  \" I quite agree with you ,  \" said the Duchess ;  \" and the moral of that is -  -  \" Be what you would seem to be \"  -  - or if you'd like it put more simply -  -  \" Never imagine yourself not to be otherwise than what it might appear to others that what you were or might have been was not otherwise than what you had been would have appeared to them to be otherwise .  \" 'qwerty  \" I think I should understand that better ,  \" Alice said very politely ,  \" if I had it written down :   but I can't quite follow it as you say it . 'qwerty  \" That's nothing to what I could say if I chose ,  \" the Duchess replied ,  in a pleased tone . qwerty  \" Pray don't trouble yourself to say it any longer than that ,  \" said Alice . qwerty  \" Oh ,  don't talk about trouble !  \" said the Duchess .   \" I make you a present of everything I've said as yet . 'qwerty  \" A cheap sort of present !  \" thought Alice .   \" I'm glad they don't give birthday presents like that !  \"  But she did not venture to say it out loud . qwerty  \" Thinking again ?  \" the Duchess asked ,  with another dig of her sharp little chin . qwerty  \" I've a right to think ,  \" said Alice sharply ,  for she was beginning to feel a little worried . qwerty  \" Just about as much right ,  \" said the Duchess ,  \" as pigs have to fly ;  and the m -  - 'qwerty  But here ,  to Alice's great surprise ,  the Duchess's voice died away ,  even in the middle of her favourite word \" moral ,  \" and the arm that was linked into hers began to tremble .   Alice looked up ,  and there stood the Queen in front of them ,  with her arms folded ,  frowning like a thunderstorm . qwerty  \" A fine day ,  your Majesty !  \" the Duchess began in a low ,  weak voice . qwerty  \" Now ,  I give you fair warning ,  \" shouted the Queen ,  stamping on the ground as she spoke ;  \" either you or your head must be off ,  and that in about half no time !   Take your choice ! 'qwerty  The Duchess took her choice ,  and was gone in a moment . qwerty  \" Let's go on with the game ,  \" the Queen said to Alice ;  and Alice was too much frightened to say a word ,  but slowly followed her back to the croquet - ground . qwerty  The other guests had taken advantage of the Queen's absence ,  and were resting in the shade :   however ,  the moment they saw her ,  they hurried back to the game ,  the Queen merely remarking that a moment's delay would cost them their lives . qwerty  All the time they were playing the Queen never left off quarrelling with the other players ,  and shouting \" Off with his head !  \" or \" Off with her head !  \"  Those whom she sentenced were taken into custody by the soldiers ,  who of course had to leave off being arches to do this ,  so that by the end of half an hour or so there were no arches left ,  and all the players ,  except the King ,  the Queen ,  and Alice ,  were in custody and under sentence of execution . qwerty  Then the Queen left off ,  quite out of breath ,  and said to Alice ,  \" Have you seen the Mock Turtle yet ? 'qwerty  \" No ,  \" said Alice .   \" I don't even know what a Mock Turtle is . 'qwerty  \" It's the thing Mock Turtle Soup is made from ,  \" said the Queen . qwerty  \" I never saw one ,  or heard of one ,  \" said Alice . qwerty  \" Come on ,  then ,  \" said the Queen ,  \" and he shall tell you his history , 'qwerty  As they walked off together ,  Alice heard the King say in a low voice ,  to the company generally ,  \" You are all pardoned .  \"  \" Come ,  THAT'S a good thing !  \" she said to herself ,  for she had felt quite unhappy at the number of executions the Queen had ordered . qwerty  They very soon came upon a Gryphon ,  lying fast asleep in the sun .    ( IF you don't know what a Gryphon is ,  look at the picture .  )  \" Up ,  lazy thing !  \" said the Queen ,  \" and take this young lady to see the Mock Turtle ,  and to hear his history .   I must go back and see after some executions I have ordered' ;  and she walked off ,  leaving Alice alone with the Gryphon .   Alice did not quite like the look of the creature ,  but on the whole she thought it would be quite as safe to stay with it as to go after that savage Queen :   so she waited . qwerty  The Gryphon sat up and rubbed its eyes :   then it watched the Queen till she was out of sight :   then it chuckled .   \" What fun !  \" said the Gryphon ,  half to itself ,  half to Alice . qwerty  \" What IS the fun ?  \" said Alice . qwerty  \" Why ,  SHE ,  \" said the Gryphon .   \" It's all her fancy ,  that :   they never executes nobody ,  you know .   Come on ! 'qwerty  \" Everybody says  \" come on !  \"  here ,  \" thought Alice ,  as she went slowly after it :   \" I never was so ordered about in all my life ,  never ! 'qwerty  They had not gone far before they saw the Mock Turtle in the distance ,  sitting sad and lonely on a little ledge of rock ,  and ,  as they came nearer ,  Alice could hear him sighing as if his heart would break .   She pitied him deeply .   \" What is his sorrow ?  \" she asked the Gryphon ,  and the Gryphon answered ,  very nearly in the same words as before ,  \" It's all his fancy ,  that :   he hasn't got no sorrow ,  you know .   Come on ! 'qwerty  So they went up to the Mock Turtle ,  who looked at them with large eyes full of tears ,  but said nothing . qwerty  \" This here young lady ,  \" said the Gryphon ,  \" she wants for to know your history ,  she do . 'qwerty  \" I'll tell it her ,  \" said the Mock Turtle in a deep ,  hollow tone :   \" sit down ,  both of you ,  and don't speak a word till I've finished . 'qwerty  So they sat down ,  and nobody spoke for some minutes .   Alice thought to herself ,  \" I don't see how he can EVEN finish ,  if he doesn't begin .  \"  But she waited patiently . qwerty  \" Once ,  \" said the Mock Turtle at last ,  with a deep sigh ,  \" I was a real Turtle . 'qwerty  These words were followed by a very long silence ,  broken only by an occasional exclamation of \" Hjckrrh !  \" from the Gryphon ,  and the constant heavy sobbing of the Mock Turtle .   Alice was very nearly getting up and saying ,  \" Thank you ,  sir ,  for your interesting story ,  \" but she could not help thinking there MUST be more to come ,  so she sat still and said nothing . qwerty  \" When we were little ,  \" the Mock Turtle went on at last ,  more calmly ,  though still sobbing a little now and then ,  \" we went to school in the sea .   The master was an old Turtle -  - we used to call him Tortoise -  - 'qwerty  \" Why did you call him Tortoise ,  if he wasn't one ?  \" Alice asked . qwerty  \" We called him Tortoise because he taught us ,  \" said the Mock Turtle angrily :   \" really you are very dull ! 'qwerty  \" You ought to be ashamed of yourself for asking such a simple question ,  \" added the Gryphon ;  and then they both sat silent and looked at poor Alice ,  who felt ready to sink into the earth .   At last the Gryphon said to the Mock Turtle ,  \" Drive on ,  old fellow !  Don't be all day about it !  \" and he went on in these words : qwerty  \" Yes ,  we went to school in the sea ,  though you mayn't believe it -  - 'qwerty  \" I never said I didn't !  \" interrupted Alice . qwerty  \" You did ,  \" said the Mock Turtle . qwerty  \" Hold your tongue !  \" added the Gryphon ,  before Alice could speak again .   The Mock Turtle went on . qwerty  \" We had the best of educations -  - in fact ,  we went to school every day -  - 'qwerty  \" I'VE been to a day - school ,  too ,  \" said Alice ;  \" you needn't be so proud as all that . 'qwerty  \" With extras ?  \" asked the Mock Turtle a little anxiously . qwerty  \" Yes ,  \" said Alice ,  \" we learned French and music . 'qwerty  \" And washing ?  \" said the Mock Turtle . qwerty  \" Certainly not !  \" said Alice indignantly . qwerty  \" Ah !  then yours wasn't a really good school ,  \" said the Mock Turtle in a tone of great relief .   \" Now at OURS they had at the end of the bill ,   \" French ,  music ,  AND WASHING -  - extra .  \" 'qwerty  \" You couldn't have wanted it much ,  \" said Alice ;  \" living at the bottom of the sea . 'qwerty  \" I couldn't afford to learn it .  \" said the Mock Turtle with a sigh .   \" I only took the regular course . 'qwerty  \" What was that ?  \" inquired Alice . qwerty  \" Reeling and Writhing ,  of course ,  to begin with ,  \" the Mock Turtle replied ;  \" and then the different branches of Arithmetic -  -  Ambition ,  Distraction ,  Uglification ,  and Derision . 'qwerty  \" I never heard of  \" Uglification ,  \"  \" Alice ventured to say .   \" What is it ? 'qwerty  The Gryphon lifted up both its paws in surprise .   \" What !   Never heard of uglifying !  \" it exclaimed .   \" You know what to beautify is ,  I suppose ? 'qwerty  \" Yes ,  \" said Alice doubtfully :   \" it means -  - to -  - make -  - anything -  - prettier . 'qwerty  \" Well ,  then ,  \" the Gryphon went on ,  \" if you don't know what to uglify is ,  you ARE a simpleton . 'qwerty  Alice did not feel encouraged to ask any more questions about it ,  so she turned to the Mock Turtle ,  and said \" What else had you to learn ? 'qwerty  \" Well ,  there was Mystery ,  \" the Mock Turtle replied ,  counting off the subjects on his flappers ,  \"  -  - Mystery ,  ancient and modern ,  with Seaography :   then Drawling -  - the Drawling - master was an old conger - eel ,  that used to come once a week :   HE taught us Drawling ,  Stretching ,  and Fainting in Coils . 'qwerty  \" What was THAT like ?  \" said Alice . qwerty  \" Well ,  I can't show it you myself ,  \" the Mock Turtle said :   \" I'm too stiff .   And the Gryphon never learnt it . 'qwerty  \" Hadn't time ,  \" said the Gryphon :   \" I went to the Classics master ,  though .   He was an old crab ,  HE was . 'qwerty  \" I never went to him ,  \" the Mock Turtle said with a sigh :   \" he taught Laughing and Grief ,  they used to say . 'qwerty  \" So he did ,  so he did ,  \" said the Gryphon ,  sighing in his turn ;  and both creatures hid their faces in their paws . qwerty  \" And how many hours a day did you do lessons ?  \" said Alice ,  in a hurry to change the subject . qwerty  \" Ten hours the first day ,  \" said the Mock Turtle :  \" nine the next ,  and so on . 'qwerty  \" What a curious plan !  \" exclaimed Alice . qwerty  \" That's the reason they're called lessons ,  \" the Gryphon remarked :   \" because they lessen from day to day . 'qwerty  This was quite a new idea to Alice ,  and she thought it over a little before she made her next remark .   \" Then the eleventh day must have been a holiday ? 'qwerty  \" Of course it was ,  \" said the Mock Turtle . qwerty  \" And how did you manage on the twelfth ?  \" Alice went on eagerly . qwerty  \" That's enough about lessons ,  \" the Gryphon interrupted in a very decided tone :   \" tell her something about the games now . 'qwerty                            CHAPTER Xqwerty                      The Lobster Quadrilleqwerty  The Mock Turtle sighed deeply ,  and drew the back of one flapper across his eyes .   He looked at Alice ,  and tried to speak ,  but for a minute or two sobs choked his voice .   \" Same as if he had a bone in his throat ,  \" said the Gryphon :   and it set to work shaking him and punching him in the back .   At last the Mock Turtle recovered his voice ,  and ,  with tears running down his cheeks ,  he went on again :  -  - qwerty  \" You may not have lived much under the sea -  -  \"  ( `I haven't ,  \" said Alice )  -  -  \" and perhaps you were never even introduced to a lobster -  -  \"  ( Alice began to say \" I once tasted -  -  \" but checked herself hastily ,  and said \" No ,  never' )  \"  -  - so you can have no idea what a delightful thing a Lobster Quadrille is ! 'qwerty  \" No ,  indeed ,  \" said Alice .   \" What sort of a dance is it ? 'qwerty  \" Why ,  \" said the Gryphon ,  \" you first form into a line along the sea - shore -  - 'qwerty  \" Two lines !  \" cried the Mock Turtle .   \" Seals ,  turtles ,  salmon ,  and so on ;  then ,  when you've cleared all the jelly - fish out of the way -  - 'qwerty  \" THAT generally takes some time ,  \" interrupted the Gryphon . qwerty  \"  -  - you advance twice -  - 'qwerty  \" Each with a lobster as a partner !  \" cried the Gryphon . qwerty  \" Of course ,  \" the Mock Turtle said :   \" advance twice ,  set to partners -  - 'qwerty  \"  -  - change lobsters ,  and retire in same order ,  \" continued the Gryphon . qwerty  \" Then ,  you know ,  \" the Mock Turtle went on ,  \" you throw the -  - 'qwerty  \" The lobsters !  \" shouted the Gryphon ,  with a bound into the air . qwerty  \"  -  - as far out to sea as you can -  - 'qwerty  \" Swim after them !  \" screamed the Gryphon . qwerty  \" Turn a somersault in the sea !  \" cried the Mock Turtle ,  capering wildly about . qwerty  \" Change lobsters again !  \" yelled the Gryphon at the top of its voice . qwerty  \" Back to land again ,  and that's all the first figure ,  \" said the Mock Turtle ,  suddenly dropping his voice ;  and the two creatures ,  who had been jumping about like mad things all this time ,  sat down again very sadly and quietly ,  and looked at Alice . qwerty  \" It must be a very pretty dance ,  \" said Alice timidly . qwerty  \" Would you like to see a little of it ?  \" said the Mock Turtle . qwerty  \" Very much indeed ,  \" said Alice . qwerty  \" Come ,  let's try the first figure !  \" said the Mock Turtle to the Gryphon .   \" We can do without lobsters ,  you know .   Which shall sing ? 'qwerty  \" Oh ,  YOU sing ,  \" said the Gryphon .   \" I've forgotten the words . 'qwerty  So they began solemnly dancing round and round Alice ,  every now and then treading on her toes when they passed too close ,  and waving their forepaws to mark the time ,  while the Mock Turtle sang this ,  very slowly and sadly :  -  - qwerty` \" Will you walk a little faster ?  \"  said a whiting to a snail .   \" There's a porpoise close behind us ,  and he's treading on my  tail .  See how eagerly the lobsters and the turtles all advance !  They are waiting on the shingle -  - will you come and join the dance ? qwertyWill you ,  won't you ,  will you ,  won't you ,  will you join the dance ?  Will you ,  won't you ,  will you ,  won't you ,  won't you join the dance ? qwerty \" You can really have no notion how delightful it will be When they take us up and throw us ,  with the lobsters ,  out to                                                       sea !  \"  But the snail replied  \" Too far ,  too far !  \"  and gave a look                                                        askance -  -  Said he thanked the whiting kindly ,  but he would not join the    dance .      Would not ,  could not ,  would not ,  could not ,  would not join         the dance .      Would not ,  could not ,  would not ,  could not ,  could not join         the dance . qwerty` \" What matters it how far we go ?  \"  his scaly friend replied .   \" There is another shore ,  you know ,  upon the other side .  The further off from England the nearer is to France -  -  Then turn not pale ,  beloved snail ,  but come and join the dance . qwerty    Will you ,  won't you ,  will you ,  won't you ,  will you join the          dance ?      Will you ,  won't you ,  will you ,  won't you ,  won't you join the          dance ?  \" 'qwerty  \" Thank you ,  it's a very interesting dance to watch ,  \" said Alice ,  feeling very glad that it was over at last :   \" and I do so like that curious song about the whiting ! 'qwerty  \" Oh ,  as to the whiting ,  \" said the Mock Turtle ,  \" they -  - you've seen them ,  of course ? 'qwerty  \" Yes ,  \" said Alice ,  \" I've often seen them at dinn -  -  \" she checked herself hastily . qwerty  \" I don't know where Dinn may be ,  \" said the Mock Turtle ,  \" but if you've seen them so often ,  of course you know what they're like . 'qwerty  \" I believe so ,  \" Alice replied thoughtfully .   \" They have their tails in their mouths -  - and they're all over crumbs . 'qwerty  \" You're wrong about the crumbs ,  \" said the Mock Turtle :  \" crumbs would all wash off in the sea .   But they HAVE their tails in their mouths ;  and the reason is -  -  \" here the Mock Turtle yawned and shut his eyes .  -  - `Tell her about the reason and all that ,  \" he said to the Gryphon . qwerty  \" The reason is ,  \" said the Gryphon ,  \" that they WOULD go with the lobsters to the dance .   So they got thrown out to sea .   So they had to fall a long way .   So they got their tails fast in their mouths .   So they couldn't get them out again .   That's all . 'qwerty  \" Thank you ,  \" said Alice ,  \" it's very interesting .   I never knew so much about a whiting before . 'qwerty  \" I can tell you more than that ,  if you like ,  \" said the Gryphon .   \" Do you know why it's called a whiting ? 'qwerty  \" I never thought about it ,  \" said Alice .   \" Why ? 'qwerty  \" IT DOES THE BOOTS AND SHOES .  \" the Gryphon replied very solemnly . qwerty  Alice was thoroughly puzzled .   \" Does the boots and shoes !  \" she repeated in a wondering tone . qwerty  \" Why ,  what are YOUR shoes done with ?  \" said the Gryphon .   \" I mean ,  what makes them so shiny ? 'qwerty  Alice looked down at them ,  and considered a little before she gave her answer .   \" They're done with blacking ,  I believe . 'qwerty  \" Boots and shoes under the sea ,  \" the Gryphon went on in a deep voice ,  \" are done with a whiting .   Now you know . 'qwerty  \" And what are they made of ?  \" Alice asked in a tone of great curiosity . qwerty  \" Soles and eels ,  of course ,  \" the Gryphon replied rather impatiently :   \" any shrimp could have told you that . 'qwerty  \" If I'd been the whiting ,  \" said Alice ,  whose thoughts were still running on the song ,  \" I'd have said to the porpoise ,   \" Keep back ,  please :   we don't want YOU with us !  \" 'qwerty  \" They were obliged to have him with them ,  \" the Mock Turtle said :   \" no wise fish would go anywhere without a porpoise . 'qwerty  \" Wouldn't it really ?  \" said Alice in a tone of great surprise . qwerty  \" Of course not ,  \" said the Mock Turtle :   \" why ,  if a fish came to ME ,  and told me he was going a journey ,  I should say  \" With what porpoise ?  \" 'qwerty  \" Don't you mean  \" purpose \"  ?  \" said Alice . qwerty  \" I mean what I say ,  \" the Mock Turtle replied in an offended tone .   And the Gryphon added \" Come ,  let's hear some of YOUR adventures . 'qwerty  \" I could tell you my adventures -  - beginning from this morning ,  \" said Alice a little timidly :   \" but it's no use going back to yesterday ,  because I was a different person then . 'qwerty  \" Explain all that ,  \" said the Mock Turtle . qwerty  \" No ,  no !   The adventures first ,  \" said the Gryphon in an impatient tone :   \" explanations take such a dreadful time . 'qwerty  So Alice began telling them her adventures from the time when she first saw the White Rabbit .   She was a little nervous about it just at first ,  the two creatures got so close to her ,  one on each side ,  and opened their eyes and mouths so VERY wide ,  but she gained courage as she went on .   Her listeners were perfectly quiet till she got to the part about her repeating \" YOU ARE OLD ,  FATHER WILLIAM ,  \" to the Caterpillar ,  and the words all coming different ,  and then the Mock Turtle drew a long breath ,  and said \" That's very curious . 'qwerty  \" It's all about as curious as it can be ,  \" said the Gryphon . qwerty  \" It all came different !  \" the Mock Turtle repeated thoughtfully .   \" I should like to hear her try and repeat something now .   Tell her to begin .  \"  He looked at the Gryphon as if he thought it had some kind of authority over Alice . qwerty  \" Stand up and repeat  \" 'TIS THE VOICE OF THE SLUGGARD ,  \"  \" said the Gryphon . qwerty  \" How the creatures order one about ,  and make one repeat lessons !  \" thought Alice ;  \" I might as well be at school at once .  \" However ,  she got up ,  and began to repeat it ,  but her head was so full of the Lobster Quadrille ,  that she hardly knew what she was saying ,  and the words came very queer indeed :  -  - qwerty    \" 'Tis the voice of the Lobster ;  I heard him declare ,       \" You have baked me too brown ,  I must sugar my hair .  \"      As a duck with its eyelids ,  so he with his nose     Trims his belt and his buttons ,  and turns out his toes . 'qwerty               [ later editions continued as follows     When the sands are all dry ,  he is gay as a lark ,      And will talk in contemptuous tones of the Shark ,      But ,  when the tide rises and sharks are around ,      His voice has a timid and tremulous sound .  ] qwerty  \" That's different from what I used to say when I was a child ,  \" said the Gryphon . qwerty  \" Well ,  I never heard it before ,  \" said the Mock Turtle ;  \" but it sounds uncommon nonsense . 'qwerty  Alice said nothing ;  she had sat down with her face in her hands ,  wondering if anything would EVER happen in a natural way again . qwerty  \" I should like to have it explained ,  \" said the Mock Turtle . qwerty  \" She can't explain it ,  \" said the Gryphon hastily .   \" Go on with the next verse . 'qwerty  \" But about his toes ?  \" the Mock Turtle persisted .   \" How COULD he turn them out with his nose ,  you know ? 'qwerty  \" It's the first position in dancing .  \" Alice said ;  but was dreadfully puzzled by the whole thing ,  and longed to change the subject . qwerty  \" Go on with the next verse ,  \" the Gryphon repeated impatiently :  \" it begins  \" I passed by his garden .  \" 'qwerty  Alice did not dare to disobey ,  though she felt sure it would all come wrong ,  and she went on in a trembling voice :  -  - qwerty    \" I passed by his garden ,  and marked ,  with one eye ,      How the Owl and the Panther were sharing a pie -  - 'qwerty         [ later editions continued as follows     The Panther took pie - crust ,  and gravy ,  and meat ,      While the Owl had the dish as its share of the treat .      When the pie was all finished ,  the Owl ,  as a boon ,      Was kindly permitted to pocket the spoon :      While the Panther received knife and fork with a growl ,      And concluded the banquet -  -  ] qwerty  \" What IS the use of repeating all that stuff ,  \" the Mock Turtle interrupted ,  \" if you don't explain it as you go on ?   It's by far the most confusing thing I ever heard ! 'qwerty  \" Yes ,  I think you'd better leave off ,  \" said the Gryphon :   and Alice was only too glad to do so . qwerty  \" Shall we try another figure of the Lobster Quadrille ?  \" the Gryphon went on .   \" Or would you like the Mock Turtle to sing you a song ? 'qwerty  \" Oh ,  a song ,  please ,  if the Mock Turtle would be so kind ,  \" Alice replied ,  so eagerly that the Gryphon said ,  in a rather offended tone ,  \" Hm !   No accounting for tastes !   Sing her  \" Turtle Soup ,  \"  will you ,  old fellow ? 'qwerty  The Mock Turtle sighed deeply ,  and began ,  in a voice sometimes choked with sobs ,  to sing this :  -  - qwerty    \" Beautiful Soup ,  so rich and green ,      Waiting in a hot tureen !      Who for such dainties would not stoop ?      Soup of the evening ,  beautiful Soup !      Soup of the evening ,  beautiful Soup !          Beau -  - ootiful Soo -  - oop !          Beau -  - ootiful Soo -  - oop !      Soo -  - oop of the e -  - e -  - evening ,          Beautiful ,  beautiful Soup ! qwerty    \" Beautiful Soup !   Who cares for fish ,      Game ,  or any other dish ?      Who would not give all else for two     Pennyworth only of beautiful Soup ?      Pennyworth only of beautiful Soup ?          Beau -  - ootiful Soo -  - oop !          Beau -  - ootiful Soo -  - oop !      Soo -  - oop of the e -  - e -  - evening ,          Beautiful ,  beauti -  - FUL SOUP ! 'qwerty  \" Chorus again !  \" cried the Gryphon ,  and the Mock Turtle had just begun to repeat it ,  when a cry of \" The trial's beginning !  \" was heard in the distance . qwerty  \" Come on !  \" cried the Gryphon ,  and ,  taking Alice by the hand ,  it hurried off ,  without waiting for the end of the song . qwerty  \" What trial is it ?  \" Alice panted as she ran ;  but the Gryphon only answered \" Come on !  \" and ran the faster ,  while more and more faintly came ,  carried on the breeze that followed them ,  the melancholy words :  -  - qwerty    \" Soo -  - oop of the e -  - e -  - evening ,          Beautiful ,  beautiful Soup ! 'qwerty                           CHAPTER XIqwerty                      Who Stole the Tarts ? qwerty  The King and Queen of Hearts were seated on their throne when they arrived ,  with a great crowd assembled about them -  - all sorts of little birds and beasts ,  as well as the whole pack of cards :  the Knave was standing before them ,  in chains ,  with a soldier on each side to guard him ;  and near the King was the White Rabbit ,  with a trumpet in one hand ,  and a scroll of parchment in the other .   In the very middle of the court was a table ,  with a large dish of tarts upon it :   they looked so good ,  that it made Alice quite hungry to look at them -  - `I wish they'd get the trial done ,  \" she thought ,  \" and hand round the refreshments !  \"  But there seemed to be no chance of this ,  so she began looking at everything about her ,  to pass away the time . qwerty  Alice had never been in a court of justice before ,  but she had read about them in books ,  and she was quite pleased to find that she knew the name of nearly everything there .   \" That's the judge ,  \" she said to herself ,  \" because of his great wig . 'qwerty  The judge ,  by the way ,  was the King ;  and as he wore his crown over the wig ,   ( look at the frontispiece if you want to see how he did it ,  )  he did not look at all comfortable ,  and it was certainly not becoming . qwerty  \" And that's the jury - box ,  \" thought Alice ,  \" and those twelve creatures ,  \"  ( she was obliged to say \" creatures ,  \" you see ,  because some of them were animals ,  and some were birds ,  )  \" I suppose they are the jurors .  \"  She said this last word two or three times over to herself ,  being rather proud of it :   for she thought ,  and rightly too ,  that very few little girls of her age knew the meaning of it at all .   However ,  \" jury - men \" would have done just as well . qwerty  The twelve jurors were all writing very busily on slates .  \" What are they doing ?  \"  Alice whispered to the Gryphon .   \" They can't have anything to put down yet ,  before the trial's begun . 'qwerty  \" They're putting down their names ,  \" the Gryphon whispered in reply ,  \" for fear they should forget them before the end of the trial . 'qwerty  \" Stupid things !  \" Alice began in a loud ,  indignant voice ,  but she stopped hastily ,  for the White Rabbit cried out ,  \" Silence in the court !  \" and the King put on his spectacles and looked anxiously round ,  to make out who was talking . qwerty  Alice could see ,  as well as if she were looking over their shoulders ,  that all the jurors were writing down \" stupid things !  \" on their slates ,  and she could even make out that one of them didn't know how to spell \" stupid ,  \" and that he had to ask his neighbour to tell him .   \" A nice muddle their slates'll be in before the trial's over !  \" thought Alice . qwerty  One of the jurors had a pencil that squeaked .   This of course ,  Alice could not stand ,  and she went round the court and got behind him ,  and very soon found an opportunity of taking it away .   She did it so quickly that the poor little juror  ( it was Bill ,  the Lizard )  could not make out at all what had become of it ;  so ,  after hunting all about for it ,  he was obliged to write with one finger for the rest of the day ;  and this was of very little use ,  as it left no mark on the slate . qwerty  \" Herald ,  read the accusation !  \" said the King . qwerty  On this the White Rabbit blew three blasts on the trumpet ,  and then unrolled the parchment scroll ,  and read as follows :  -  - qwerty    \" The Queen of Hearts ,  she made some tarts ,            All on a summer day :        The Knave of Hearts ,  he stole those tarts ,            And took them quite away ! 'qwerty  \" Consider your verdict ,  \" the King said to the jury . qwerty  \" Not yet ,  not yet !  \" the Rabbit hastily interrupted .   \" There's a great deal to come before that ! 'qwerty  \" Call the first witness ,  \" said the King ;  and the White Rabbit blew three blasts on the trumpet ,  and called out ,  \" First witness ! 'qwerty  The first witness was the Hatter .   He came in with a teacup in one hand and a piece of bread - and - butter in the other .   \" I beg pardon ,  your Majesty ,  \" he began ,  \" for bringing these in :   but I hadn't quite finished my tea when I was sent for . 'qwerty  \" You ought to have finished ,  \" said the King .   \" When did you begin ? 'qwerty  The Hatter looked at the March Hare ,  who had followed him into the court ,  arm - in - arm with the Dormouse .   \" Fourteenth of March ,  I think it was ,  \" he said . qwerty  \" Fifteenth ,  \" said the March Hare . qwerty  \" Sixteenth ,  \" added the Dormouse . qwerty  \" Write that down ,  \" the King said to the jury ,  and the jury eagerly wrote down all three dates on their slates ,  and then added them up ,  and reduced the answer to shillings and pence . qwerty  \" Take off your hat ,  \" the King said to the Hatter . qwerty  \" It isn't mine ,  \" said the Hatter . qwerty  \" Stolen !  \" the King exclaimed ,  turning to the jury ,  who instantly made a memorandum of the fact . qwerty  \" I keep them to sell ,  \" the Hatter added as an explanation ;  \" I've none of my own .   I'm a hatter . 'qwerty  Here the Queen put on her spectacles ,  and began staring at the Hatter ,  who turned pale and fidgeted . qwerty  \" Give your evidence ,  \" said the King ;  \" and don't be nervous ,  or I'll have you executed on the spot . 'qwerty  This did not seem to encourage the witness at all :   he kept shifting from one foot to the other ,  looking uneasily at the Queen ,  and in his confusion he bit a large piece out of his teacup instead of the bread - and - butter . qwerty  Just at this moment Alice felt a very curious sensation ,  which puzzled her a good deal until she made out what it was :   she was beginning to grow larger again ,  and she thought at first she would get up and leave the court ;  but on second thoughts she decided to remain where she was as long as there was room for her . qwerty  \" I wish you wouldn't squeeze so .  \" said the Dormouse ,  who was sitting next to her .   \" I can hardly breathe . 'qwerty  \" I can't help it ,  \" said Alice very meekly :   \" I'm growing . 'qwerty  \" You've no right to grow here ,  \" said the Dormouse . qwerty  \" Don't talk nonsense ,  \" said Alice more boldly :   \" you know you're growing too . 'qwerty  \" Yes ,  but I grow at a reasonable pace ,  \" said the Dormouse :  \" not in that ridiculous fashion .  \"  And he got up very sulkily and crossed over to the other side of the court . qwerty  All this time the Queen had never left off staring at the Hatter ,  and ,  just as the Dormouse crossed the court ,  she said to one of the officers of the court ,  \" Bring me the list of the singers in the last concert !  \" on which the wretched Hatter trembled so ,  that he shook both his shoes off . qwerty  \" Give your evidence ,  \" the King repeated angrily ,  \" or I'll have you executed ,  whether you're nervous or not . 'qwerty  \" I'm a poor man ,  your Majesty ,  \" the Hatter began ,  in a trembling voice ,  \"  -  - and I hadn't begun my tea -  - not above a week or so -  - and what with the bread - and - butter getting so thin -  - and the twinkling of the tea -  - 'qwerty  \" The twinkling of the what ?  \" said the King . qwerty  \" It began with the tea ,  \" the Hatter replied . qwerty  \" Of course twinkling begins with a T !  \" said the King sharply .  \" Do you take me for a dunce ?   Go on ! 'qwerty  \" I'm a poor man ,  \" the Hatter went on ,  \" and most things twinkled after that -  - only the March Hare said -  - 'qwerty  \" I didn't !  \" the March Hare interrupted in a great hurry . qwerty  \" You did !  \" said the Hatter . qwerty  \" I deny it !  \" said the March Hare . qwerty  \" He denies it ,  \" said the King :   \" leave out that part . 'qwerty  \" Well ,  at any rate ,  the Dormouse said -  -  \" the Hatter went on ,  looking anxiously round to see if he would deny it too :   but the Dormouse denied nothing ,  being fast asleep . qwerty  \" After that ,  \" continued the Hatter ,  \" I cut some more bread -  and - butter -  - 'qwerty  \" But what did the Dormouse say ?  \" one of the jury asked . qwerty  \" That I can't remember ,  \" said the Hatter . qwerty  \" You MUST remember ,  \" remarked the King ,  \" or I'll have you executed . 'qwerty  The miserable Hatter dropped his teacup and bread - and - butter ,  and went down on one knee .   \" I'm a poor man ,  your Majesty ,  \" he began . qwerty  \" You're a very poor speaker ,  \" said the King . qwerty  Here one of the guinea - pigs cheered ,  and was immediately suppressed by the officers of the court .    ( As that is rather a hard word ,  I will just explain to you how it was done .   They had a large canvas bag ,  which tied up at the mouth with strings :  into this they slipped the guinea - pig ,  head first ,  and then sat upon it .  ) qwerty  \" I'm glad I've seen that done ,  \" thought Alice .   \" I've so often read in the newspapers ,  at the end of trials ,   \" There was some attempts at applause ,  which was immediately suppressed by the officers of the court ,  \"  and I never understood what it meant till now . 'qwerty  \" If that's all you know about it ,  you may stand down ,  \" continued the King . qwerty  \" I can't go no lower ,  \" said the Hatter :   \" I'm on the floor ,  as it is . 'qwerty  \" Then you may SIT down ,  \" the King replied . qwerty  Here the other guinea - pig cheered ,  and was suppressed . qwerty  \" Come ,  that finished the guinea - pigs !  \" thought Alice .   \" Now we shall get on better . 'qwerty  \" I'd rather finish my tea ,  \" said the Hatter ,  with an anxious look at the Queen ,  who was reading the list of singers . qwerty  \" You may go ,  \" said the King ,  and the Hatter hurriedly left the court ,  without even waiting to put his shoes on . qwerty  \"  -  - and just take his head off outside ,  \" the Queen added to one of the officers :   but the Hatter was out of sight before the officer could get to the door . qwerty  \" Call the next witness !  \" said the King . qwerty  The next witness was the Duchess's cook .   She carried the pepper - box in her hand ,  and Alice guessed who it was ,  even before she got into the court ,  by the way the people near the door began sneezing all at once . qwerty  \" Give your evidence ,  \" said the King . qwerty  \" Shan't ,  \" said the cook . qwerty  The King looked anxiously at the White Rabbit ,  who said in a low voice ,  \" Your Majesty must cross - examine THIS witness . 'qwerty  \" Well ,  if I must ,  I must ,  \" the King said ,  with a melancholy air ,  and ,  after folding his arms and frowning at the cook till his eyes were nearly out of sight ,  he said in a deep voice ,  \" What are tarts made of ? 'qwerty  \" Pepper ,  mostly ,  \" said the cook . qwerty  \" Treacle ,  \" said a sleepy voice behind her . qwerty  \" Collar that Dormouse ,  \" the Queen shrieked out .   \" Behead that Dormouse !   Turn that Dormouse out of court !   Suppress him !   Pinch him !   Off with his whiskers ! 'qwerty  For some minutes the whole court was in confusion ,  getting the Dormouse turned out ,  and ,  by the time they had settled down again ,  the cook had disappeared . qwerty  \" Never mind !  \" said the King ,  with an air of great relief .  \" Call the next witness .  \"  And he added in an undertone to the Queen ,  \" Really ,  my dear ,  YOU must cross - examine the next witness .  It quite makes my forehead ache ! 'qwerty  Alice watched the White Rabbit as he fumbled over the list ,  feeling very curious to see what the next witness would be like ,  \"  -  - for they haven't got much evidence YET ,  \" she said to herself .  Imagine her surprise ,  when the White Rabbit read out ,  at the top of his shrill little voice ,  the name \" Alice ! 'qwerty                           CHAPTER XIIqwerty                        Alice's Evidenceqwerty  \" Here !  \" cried Alice ,  quite forgetting in the flurry of the moment how large she had grown in the last few minutes ,  and she jumped up in such a hurry that she tipped over the jury - box with the edge of her skirt ,  upsetting all the jurymen on to the heads of the crowd below ,  and there they lay sprawling about ,  reminding her very much of a globe of goldfish she had accidentally upset the week before . qwerty  \" Oh ,  I BEG your pardon !  \" she exclaimed in a tone of great dismay ,  and began picking them up again as quickly as she could ,  for the accident of the goldfish kept running in her head ,  and she had a vague sort of idea that they must be collected at once and put back into the jury - box ,  or they would die . qwerty  \" The trial cannot proceed ,  \" said the King in a very grave voice ,  \" until all the jurymen are back in their proper places -  -  ALL ,  \" he repeated with great emphasis ,  looking hard at Alice as he said do . qwerty  Alice looked at the jury - box ,  and saw that ,  in her haste ,  she had put the Lizard in head downwards ,  and the poor little thing was waving its tail about in a melancholy way ,  being quite unable to move .   She soon got it out again ,  and put it right ;  \" not that it signifies much ,  \" she said to herself ;  \" I should think it would be QUITE as much use in the trial one way up as the other . 'qwerty  As soon as the jury had a little recovered from the shock of being upset ,  and their slates and pencils had been found and handed back to them ,  they set to work very diligently to write out a history of the accident ,  all except the Lizard ,  who seemed too much overcome to do anything but sit with its mouth open ,  gazing up into the roof of the court . qwerty  \" What do you know about this business ?  \" the King said to Alice . qwerty  \" Nothing ,  \" said Alice . qwerty  \" Nothing WHATEVER ?  \" persisted the King . qwerty  \" Nothing whatever ,  \" said Alice . qwerty  \" That's very important ,  \" the King said ,  turning to the jury .  They were just beginning to write this down on their slates ,  when the White Rabbit interrupted :   \" UNimportant ,  your Majesty means ,  of course ,  \" he said in a very respectful tone ,  but frowning and making faces at him as he spoke . qwerty  \" UNimportant ,  of course ,  I meant ,  \" the King hastily said ,  and went on to himself in an undertone ,  \" important -  - unimportant -  -  unimportant -  - important -  -  \" as if he were trying which word sounded best . qwerty  Some of the jury wrote it down \" important ,  \" and some \" unimportant .  \"  Alice could see this ,  as she was near enough to look over their slates ;  \" but it doesn't matter a bit ,  \" she thought to herself . qwerty  At this moment the King ,  who had been for some time busily writing in his note - book ,  cackled out \" Silence !  \" and read out from his book ,  \" Rule Forty - two .   ALL PERSONS MORE THAN A MILE HIGH TO LEAVE THE COURT . 'qwerty  Everybody looked at Alice . qwerty  \" I'M not a mile high ,  \" said Alice . qwerty  \" You are ,  \" said the King . qwerty  \" Nearly two miles high ,  \" added the Queen . qwerty  \" Well ,  I shan't go ,  at any rate ,  \" said Alice :   \" besides ,  that's not a regular rule :   you invented it just now . 'qwerty  \" It's the oldest rule in the book ,  \" said the King . qwerty  \" Then it ought to be Number One ,  \" said Alice . qwerty  The King turned pale ,  and shut his note - book hastily .  \" Consider your verdict ,  \" he said to the jury ,  in a low ,  trembling voice . qwerty  \" There's more evidence to come yet ,  please your Majesty ,  \" said the White Rabbit ,  jumping up in a great hurry ;  \" this paper has just been picked up . 'qwerty  \" What's in it ?  \" said the Queen . qwerty  \" I haven't opened it yet ,  \" said the White Rabbit ,  \" but it seems to be a letter ,  written by the prisoner to -  - to somebody . 'qwerty  \" It must have been that ,  \" said the King ,  \" unless it was written to nobody ,  which isn't usual ,  you know . 'qwerty  \" Who is it directed to ?  \" said one of the jurymen . qwerty  \" It isn't directed at all ,  \" said the White Rabbit ;  \" in fact ,  there's nothing written on the OUTSIDE .  \"  He unfolded the paper as he spoke ,  and added \" It isn't a letter ,  after all :   it's a set of verses . 'qwerty  \" Are they in the prisoner's handwriting ?  \" asked another of the jurymen . qwerty  \" No ,  they're not ,  \" said the White Rabbit ,  \" and that's the queerest thing about it .  \"   ( The jury all looked puzzled .  ) qwerty  \" He must have imitated somebody else's hand ,  \" said the King .   ( The jury all brightened up again .  ) qwerty  \" Please your Majesty ,  \" said the Knave ,  \" I didn't write it ,  and they can't prove I did :   there's no name signed at the end . 'qwerty  \" If you didn't sign it ,  \" said the King ,  \" that only makes the matter worse .   You MUST have meant some mischief ,  or else you'd have signed your name like an honest man . 'qwerty  There was a general clapping of hands at this :   it was the first really clever thing the King had said that day . qwerty  \" That PROVES his guilt ,  \" said the Queen . qwerty  \" It proves nothing of the sort !  \" said Alice .   \" Why ,  you don't even know what they're about ! 'qwerty  \" Read them ,  \" said the King . qwerty  The White Rabbit put on his spectacles .   \" Where shall I begin ,  please your Majesty ?  \" he asked . qwerty  \" Begin at the beginning ,  \" the King said gravely ,  \" and go on till you come to the end :   then stop . 'qwerty  These were the verses the White Rabbit read :  -  - qwerty        \" They told me you had been to her ,            And mentioned me to him :          She gave me a good character ,            But said I could not swim . qwerty        He sent them word I had not gone            ( We know it to be true )  :          If she should push the matter on ,            What would become of you ? qwerty        I gave her one ,  they gave him two ,            You gave us three or more ;          They all returned from him to you ,            Though they were mine before . qwerty        If I or she should chance to be           Involved in this affair ,          He trusts to you to set them free ,            Exactly as we were . qwerty        My notion was that you had been            ( Before she had this fit )          An obstacle that came between           Him ,  and ourselves ,  and it . qwerty        Don't let him know she liked them best ,            For this must ever be         A secret ,  kept from all the rest ,            Between yourself and me . 'qwerty  \" That's the most important piece of evidence we've heard yet ,  \" said the King ,  rubbing his hands ;  \" so now let the jury -  - 'qwerty  \" If any one of them can explain it ,  \" said Alice ,   ( she had grown so large in the last few minutes that she wasn't a bit afraid of interrupting him ,  )  \" I'll give him sixpence .    _ I _  don't believe there's an atom of meaning in it . 'qwerty  The jury all wrote down on their slates ,  \" SHE doesn't believe there's an atom of meaning in it ,  \" but none of them attempted to explain the paper . qwerty  \" If there's no meaning in it ,  \" said the King ,  \" that saves a world of trouble ,  you know ,  as we needn't try to find any .   And yet I don't know ,  \" he went on ,  spreading out the verses on his knee ,  and looking at them with one eye ;  \" I seem to see some meaning in them ,  after all .    \"  -  - SAID I COULD NOT SWIM -  -  \"  you can't swim ,  can you ?  \" he added ,  turning to the Knave . qwerty  The Knave shook his head sadly .   \" Do I look like it ?  \" he said .   ( Which he certainly did NOT ,  being made entirely of cardboard .  ) qwerty  \" All right ,  so far ,  \" said the King ,  and he went on muttering over the verses to himself :   \"  \" WE KNOW IT TO BE TRUE -  -  \"  that's the jury ,  of course -  -   \" I GAVE HER ONE ,  THEY GAVE HIM TWO -  -  \"  why ,  that must be what he did with the tarts ,  you know -  - 'qwerty  \" But ,  it goes on  \" THEY ALL RETURNED FROM HIM TO YOU ,  \"  \" said Alice . qwerty  \" Why ,  there they are !  \" said the King triumphantly ,  pointing to the tarts on the table .   \" Nothing can be clearer than THAT .  Then again -  -  \" BEFORE SHE HAD THIS FIT -  -  \"   you never had fits ,  my dear ,  I think ?  \" he said to the Queen . qwerty  \" Never !  \" said the Queen furiously ,  throwing an inkstand at the Lizard as she spoke .    ( The unfortunate little Bill had left off writing on his slate with one finger ,  as he found it made no mark ;  but he now hastily began again ,  using the ink ,  that was trickling down his face ,  as long as it lasted .  ) qwerty  \" Then the words don't FIT you ,  \" said the King ,  looking round the court with a smile .   There was a dead silence . qwerty  \" It's a pun !  \" the King added in an offended tone ,  and everybody laughed ,  \" Let the jury consider their verdict ,  \" the King said ,  for about the twentieth time that day . qwerty  \" No ,  no !  \" said the Queen .   \" Sentence first -  - verdict afterwards . 'qwerty  \" Stuff and nonsense !  \" said Alice loudly .   \" The idea of having the sentence first ! 'qwerty  \" Hold your tongue !  \" said the Queen ,  turning purple . qwerty  \" I won't !  \" said Alice . qwerty  \" Off with her head !  \" the Queen shouted at the top of her voice .  Nobody moved . qwerty  \" Who cares for you ?  \" said Alice ,   ( she had grown to her full size by this time .  )   \" You're nothing but a pack of cards ! 'qwerty  At this the whole pack rose up into the air ,  and came flying down upon her :   she gave a little scream ,  half of fright and half of anger ,  and tried to beat them off ,  and found herself lying on the bank ,  with her head in the lap of her sister ,  who was gently brushing away some dead leaves that had fluttered down from the trees upon her face . qwerty  \" Wake up ,  Alice dear !  \" said her sister ;  \" Why ,  what a long sleep you've had ! 'qwerty  \" Oh ,  I've had such a curious dream !  \" said Alice ,  and she told her sister ,  as well as she could remember them ,  all these strange Adventures of hers that you have just been reading about ;  and when she had finished ,  her sister kissed her ,  and said ,  \" It WAS a curious dream ,  dear ,  certainly :   but now run in to your tea ;  it's getting late .  \"  So Alice got up and ran off ,  thinking while she ran ,  as well she might ,  what a wonderful dream it had been . qwerty  But her sister sat still just as she left her ,  leaning her head on her hand ,  watching the setting sun ,  and thinking of little Alice and all her wonderful Adventures ,  till she too began dreaming after a fashion ,  and this was her dream :  -  - qwerty  First ,  she dreamed of little Alice herself ,  and once again the tiny hands were clasped upon her knee ,  and the bright eager eyes were looking up into hers -  - she could hear the very tones of her voice ,  and see that queer little toss of her head to keep back the wandering hair that WOULD always get into her eyes -  - and still as she listened ,  or seemed to listen ,  the whole place around her became alive the strange creatures of her little sister's dream . qwerty  The long grass rustled at her feet as the White Rabbit hurried by -  - the frightened Mouse splashed his way through the neighbouring pool -  - she could hear the rattle of the teacups as the March Hare and his friends shared their never - ending meal ,  and the shrill voice of the Queen ordering off her unfortunate guests to execution -  - once more the pig - baby was sneezing on the Duchess's knee ,  while plates and dishes crashed around it -  - once more the shriek of the Gryphon ,  the squeaking of the Lizard's slate - pencil ,  and the choking of the suppressed guinea - pigs ,  filled the air ,  mixed up with the distant sobs of the miserable Mock Turtle . qwerty  So she sat on ,  with closed eyes ,  and half believed herself in Wonderland ,  though she knew she had but to open them again ,  and all would change to dull reality -  - the grass would be only rustling in the wind ,  and the pool rippling to the waving of the reeds -  - the rattling teacups would change to tinkling sheep -  bells ,  and the Queen's shrill cries to the voice of the shepherd boy -  - and the sneeze of the baby ,  the shriek of the Gryphon ,  and all the other queer noises ,  would change  ( she knew )  to the confused clamour of the busy farm - yard -  - while the lowing of the cattle in the distance would take the place of the Mock Turtle's heavy sobs . qwerty  Lastly ,  she pictured to herself how this same little sister of hers would ,  in the after - time ,  be herself a grown woman ;  and how she would keep ,  through all her riper years ,  the simple and loving heart of her childhood :   and how she would gather about her other little children ,  and make THEIR eyes bright and eager with many a strange tale ,  perhaps even with the dream of Wonderland of long ago :   and how she would feel with all their simple sorrows ,  and find a pleasure in all their simple joys ,  remembering her own child - life ,  and the happy summer days . qwerty                             THE END\n"
          ],
          "name": "stdout"
        }
      ]
    },
    {
      "metadata": {
        "id": "4BdlXnRiqCbB",
        "colab_type": "code",
        "colab": {}
      },
      "cell_type": "code",
      "source": [
        "alice = alice.lower()"
      ],
      "execution_count": 0,
      "outputs": []
    },
    {
      "metadata": {
        "id": "cRgtk9vhqCbD",
        "colab_type": "code",
        "colab": {}
      },
      "cell_type": "code",
      "source": [
        "alice_words = alice.split()"
      ],
      "execution_count": 0,
      "outputs": []
    },
    {
      "metadata": {
        "id": "f_KF34jfqCbF",
        "colab_type": "code",
        "outputId": "c1cefd77-c3b6-47d0-c727-192d8c1683f9",
        "colab": {
          "base_uri": "https://localhost:8080/",
          "height": 1717
        }
      },
      "cell_type": "code",
      "source": [
        "alice_words[:100]"
      ],
      "execution_count": 0,
      "outputs": [
        {
          "output_type": "execute_result",
          "data": {
            "text/plain": [
              "[\"alice's\",\n",
              " 'adventures',\n",
              " 'in',\n",
              " 'wonderlandqwerty',\n",
              " \"alice's\",\n",
              " 'adventures',\n",
              " 'in',\n",
              " 'wonderlandqwerty',\n",
              " 'lewis',\n",
              " 'carrollqwerty',\n",
              " 'the',\n",
              " 'millennium',\n",
              " 'fulcrum',\n",
              " 'edition',\n",
              " '3',\n",
              " '.',\n",
              " '0qwerty',\n",
              " 'chapter',\n",
              " 'iqwerty',\n",
              " 'down',\n",
              " 'the',\n",
              " 'rabbit',\n",
              " '-',\n",
              " 'holeqwerty',\n",
              " 'alice',\n",
              " 'was',\n",
              " 'beginning',\n",
              " 'to',\n",
              " 'get',\n",
              " 'very',\n",
              " 'tired',\n",
              " 'of',\n",
              " 'sitting',\n",
              " 'by',\n",
              " 'her',\n",
              " 'sister',\n",
              " 'on',\n",
              " 'the',\n",
              " 'bank',\n",
              " ',',\n",
              " 'and',\n",
              " 'of',\n",
              " 'having',\n",
              " 'nothing',\n",
              " 'to',\n",
              " 'do',\n",
              " ':',\n",
              " 'once',\n",
              " 'or',\n",
              " 'twice',\n",
              " 'she',\n",
              " 'had',\n",
              " 'peeped',\n",
              " 'into',\n",
              " 'the',\n",
              " 'book',\n",
              " 'her',\n",
              " 'sister',\n",
              " 'was',\n",
              " 'reading',\n",
              " ',',\n",
              " 'but',\n",
              " 'it',\n",
              " 'had',\n",
              " 'no',\n",
              " 'pictures',\n",
              " 'or',\n",
              " 'conversations',\n",
              " 'in',\n",
              " 'it',\n",
              " ',',\n",
              " '\"',\n",
              " 'and',\n",
              " 'what',\n",
              " 'is',\n",
              " 'the',\n",
              " 'use',\n",
              " 'of',\n",
              " 'a',\n",
              " 'book',\n",
              " ',',\n",
              " '\"',\n",
              " 'thought',\n",
              " 'alice',\n",
              " '\"',\n",
              " 'without',\n",
              " 'pictures',\n",
              " 'or',\n",
              " 'conversation',\n",
              " '?',\n",
              " \"'qwerty\",\n",
              " 'so',\n",
              " 'she',\n",
              " 'was',\n",
              " 'considering',\n",
              " 'in',\n",
              " 'her',\n",
              " 'own',\n",
              " 'mind',\n",
              " '(']"
            ]
          },
          "metadata": {
            "tags": []
          },
          "execution_count": 32
        }
      ]
    },
    {
      "metadata": {
        "id": "mw2x2kg-qCbH",
        "colab_type": "code",
        "outputId": "736effce-5959-4dc5-cbe7-bf782eff5d1a",
        "colab": {
          "base_uri": "https://localhost:8080/",
          "height": 34
        }
      },
      "cell_type": "code",
      "source": [
        "len(alice_words)"
      ],
      "execution_count": 0,
      "outputs": [
        {
          "output_type": "execute_result",
          "data": {
            "text/plain": [
              "34724"
            ]
          },
          "metadata": {
            "tags": []
          },
          "execution_count": 33
        }
      ]
    },
    {
      "metadata": {
        "id": "mS1pNJMYqCbK",
        "colab_type": "code",
        "colab": {}
      },
      "cell_type": "code",
      "source": [
        "vocab = set(alice_words)"
      ],
      "execution_count": 0,
      "outputs": []
    },
    {
      "metadata": {
        "id": "977ottKOqCbM",
        "colab_type": "code",
        "outputId": "d25bb9fa-c4cd-4732-b0f0-ad4139c2c8c4",
        "colab": {
          "base_uri": "https://localhost:8080/",
          "height": 34
        }
      },
      "cell_type": "code",
      "source": [
        "len(vocab)"
      ],
      "execution_count": 0,
      "outputs": [
        {
          "output_type": "execute_result",
          "data": {
            "text/plain": [
              "2687"
            ]
          },
          "metadata": {
            "tags": []
          },
          "execution_count": 35
        }
      ]
    },
    {
      "metadata": {
        "id": "upeZp39tMyKj",
        "colab_type": "text"
      },
      "cell_type": "markdown",
      "source": [
        "## Dictionaries for converting index to word and back"
      ]
    },
    {
      "metadata": {
        "id": "EfA7HAoFqCbO",
        "colab_type": "code",
        "colab": {}
      },
      "cell_type": "code",
      "source": [
        "index_to_word = {i: word for i, word in enumerate(vocab)}"
      ],
      "execution_count": 0,
      "outputs": []
    },
    {
      "metadata": {
        "id": "-nUTXShdqCbQ",
        "colab_type": "code",
        "outputId": "c2b94063-7c47-481a-9f1a-4876ae54334a",
        "colab": {
          "base_uri": "https://localhost:8080/",
          "height": 17034
        }
      },
      "cell_type": "code",
      "source": [
        "index_to_word "
      ],
      "execution_count": 0,
      "outputs": [
        {
          "output_type": "execute_result",
          "data": {
            "text/plain": [
              "{0: 'may',\n",
              " 1: 'knock',\n",
              " 2: 'speed',\n",
              " 3: 'denial',\n",
              " 4: 'week',\n",
              " 5: 'cheated',\n",
              " 6: 'join',\n",
              " 7: 'impossible',\n",
              " 8: 'such',\n",
              " 9: 'both',\n",
              " 10: 'chimneys',\n",
              " 11: 'bringing',\n",
              " 12: 'fading',\n",
              " 13: \"bill's\",\n",
              " 14: 'pop',\n",
              " 15: 'listen',\n",
              " 16: 'soon',\n",
              " 17: 'afore',\n",
              " 18: 'uglify',\n",
              " 19: 'through',\n",
              " 20: 'witness',\n",
              " 21: 'in',\n",
              " 22: 'hair',\n",
              " 23: 'barley',\n",
              " 24: 'sharing',\n",
              " 25: 'dodged',\n",
              " 26: 'funny',\n",
              " 27: 'blasts',\n",
              " 28: 'mine',\n",
              " 29: 'being',\n",
              " 30: '`which',\n",
              " 31: 'wild',\n",
              " 32: 'conquest',\n",
              " 33: 'partner',\n",
              " 34: 'going',\n",
              " 35: 'edge',\n",
              " 36: 'timidly',\n",
              " 37: 'darkness',\n",
              " 38: 'fur',\n",
              " 39: 'lines',\n",
              " 40: 'mournful',\n",
              " 41: 'qwertywill',\n",
              " 42: 'unpleasant',\n",
              " 43: 'wrapping',\n",
              " 44: 'heels',\n",
              " 45: 'sobs',\n",
              " 46: 'beheaded',\n",
              " 47: 'crust',\n",
              " 48: 'bright',\n",
              " 49: 'it',\n",
              " 50: 'ten',\n",
              " 51: 'mock',\n",
              " 52: 'answers',\n",
              " 53: 'flame',\n",
              " 54: 'growling',\n",
              " 55: 'right',\n",
              " 56: 'certainly',\n",
              " 57: 'newspapers',\n",
              " 58: \"couldn't\",\n",
              " 59: 'hearts',\n",
              " 60: 'near',\n",
              " 61: 'sheep',\n",
              " 62: 'appeared',\n",
              " 63: 'produced',\n",
              " 64: 'draggled',\n",
              " 65: 'suppose',\n",
              " 66: 'fire',\n",
              " 67: 'paused',\n",
              " 68: 'leap',\n",
              " 69: 'incessantly',\n",
              " 70: 'dogs',\n",
              " 71: 'them',\n",
              " 72: 'poker',\n",
              " 73: 'dates',\n",
              " 74: 'jogged',\n",
              " 75: 'wasting',\n",
              " 76: 'singing',\n",
              " 77: 'hold',\n",
              " 78: 'doubt',\n",
              " 79: 'reasons',\n",
              " 80: 'crossly',\n",
              " 81: 'avoid',\n",
              " 82: 'plainly',\n",
              " 83: 'vague',\n",
              " 84: '`now',\n",
              " 85: 'hid',\n",
              " 86: 'follows',\n",
              " 87: 'morning',\n",
              " 88: 'ground',\n",
              " 89: 'golden',\n",
              " 90: 'french',\n",
              " 91: 'happy',\n",
              " 92: 'elsie',\n",
              " 93: 'conger',\n",
              " 94: \"you're\",\n",
              " 95: \"hadn't\",\n",
              " 96: 'knocked',\n",
              " 97: 'officers',\n",
              " 98: 'garden',\n",
              " 99: 'names',\n",
              " 100: 'beloved',\n",
              " 101: 'lefthand',\n",
              " 102: 'heavy',\n",
              " 103: 'english',\n",
              " 104: 'narrow',\n",
              " 105: 'crawled',\n",
              " 106: 'invitation',\n",
              " 107: 'draw',\n",
              " 108: 'each',\n",
              " 109: 'party',\n",
              " 110: 'quicker',\n",
              " 111: 'downward',\n",
              " 112: 'certain',\n",
              " 113: 'gently',\n",
              " 114: 'pass',\n",
              " 115: 'hurt',\n",
              " 116: ',',\n",
              " 117: 'has',\n",
              " 118: 'attending',\n",
              " 119: 'rudeness',\n",
              " 120: 'handwriting',\n",
              " 121: 'that',\n",
              " 122: 'drunk',\n",
              " 123: 'shrieked',\n",
              " 124: 'knew',\n",
              " 125: 'opportunity',\n",
              " 126: 'noises',\n",
              " 127: 'curiouser',\n",
              " 128: 'fifteenth',\n",
              " 129: 'fun',\n",
              " 130: 'truth',\n",
              " 131: 'snorting',\n",
              " 132: 'bristling',\n",
              " 133: 'burst',\n",
              " 134: 'ootiful',\n",
              " 135: 'fourth',\n",
              " 136: 'followed',\n",
              " 137: 'sorrows',\n",
              " 138: 'true',\n",
              " 139: 'waiting',\n",
              " 140: 'excellent',\n",
              " 141: 'missed',\n",
              " 142: 'tight',\n",
              " 143: 'dance',\n",
              " 144: 'peeping',\n",
              " 145: 'deny',\n",
              " 146: 'ways',\n",
              " 147: 'belong',\n",
              " 148: 'trial',\n",
              " 149: 'fills',\n",
              " 150: 'helpless',\n",
              " 151: 'speech',\n",
              " 152: 'led',\n",
              " 153: 'play',\n",
              " 154: 'explanations',\n",
              " 155: 'can',\n",
              " 156: 'cares',\n",
              " 157: 'writhing',\n",
              " 158: 'neighbouring',\n",
              " 159: 'said',\n",
              " 160: 'capital',\n",
              " 161: 'shape',\n",
              " 162: 'advance',\n",
              " 163: 'c',\n",
              " 164: 'and',\n",
              " 165: 'live',\n",
              " 166: \"that'll\",\n",
              " 167: 'flying',\n",
              " 168: 'muttering',\n",
              " 169: 'speaker',\n",
              " 170: 'advisable',\n",
              " 171: 'joys',\n",
              " 172: 'tulip',\n",
              " 173: 'france',\n",
              " 174: 'rubbed',\n",
              " 175: 'long',\n",
              " 176: 'came',\n",
              " 177: 'taleqwerty',\n",
              " 178: 'serpents',\n",
              " 179: 'started',\n",
              " 180: 'listened',\n",
              " 181: 'shoulders',\n",
              " 182: 'nay',\n",
              " 183: 'quarrel',\n",
              " 184: 'name',\n",
              " 185: 'somehow',\n",
              " 186: 'splendidly',\n",
              " 187: 'grand',\n",
              " 188: 'chance',\n",
              " 189: 'steady',\n",
              " 190: 'daisy',\n",
              " 191: 'push',\n",
              " 192: 'agony',\n",
              " 193: 'partners',\n",
              " 194: 'placed',\n",
              " 195: 'grins',\n",
              " 196: 'encouraged',\n",
              " 197: 'saucepans',\n",
              " 198: 'since',\n",
              " 199: 'trampled',\n",
              " 200: 'caucus',\n",
              " 201: 'dive',\n",
              " 202: 'telescopes',\n",
              " 203: 'laughing',\n",
              " 204: 'miss',\n",
              " 205: 'flung',\n",
              " 206: 'stairs',\n",
              " 207: 'punching',\n",
              " 208: 'sitting',\n",
              " 209: 'antipathies',\n",
              " 210: 'natured',\n",
              " 211: 'tail',\n",
              " 212: 'secondly',\n",
              " 213: 'delay',\n",
              " 214: 'die',\n",
              " 215: 'dinah',\n",
              " 216: 'ignorant',\n",
              " 217: 'histories',\n",
              " 218: 'repeating',\n",
              " 219: 'you',\n",
              " 220: 'branch',\n",
              " 221: 'toss',\n",
              " 222: 'sizes',\n",
              " 223: 'earth',\n",
              " 224: 'written',\n",
              " 225: 'wrote',\n",
              " 226: 'pronounced',\n",
              " 227: 'afraid',\n",
              " 228: 'driest',\n",
              " 229: \"o'clock\",\n",
              " 230: 'birds',\n",
              " 231: 'dispute',\n",
              " 232: 'sluggard',\n",
              " 233: 'tiny',\n",
              " 234: 'nose',\n",
              " 235: 'powdered',\n",
              " 236: 'dipped',\n",
              " 237: 'show',\n",
              " 238: 'addressing',\n",
              " 239: 'dreamed',\n",
              " 240: 'overcome',\n",
              " 241: 'rippling',\n",
              " 242: 'ravens',\n",
              " 243: 'louder',\n",
              " 244: 'twice',\n",
              " 245: 'across',\n",
              " 246: 'chains',\n",
              " 247: 'little',\n",
              " 248: 'hard',\n",
              " 249: \"animal's\",\n",
              " 250: 'nodded',\n",
              " 251: 'orange',\n",
              " 252: 'distraction',\n",
              " 253: 'taught',\n",
              " 254: 'meaning',\n",
              " 255: 'tops',\n",
              " 256: 'crimson',\n",
              " 257: 'sleepy',\n",
              " 258: 'ahem',\n",
              " 259: 'flat',\n",
              " 260: 'save',\n",
              " 261: 'askance',\n",
              " 262: 'purpose',\n",
              " 263: 'stopped',\n",
              " 264: 'none',\n",
              " 265: 'touch',\n",
              " 266: 'effect',\n",
              " 267: 'longer',\n",
              " 268: 'plates',\n",
              " 269: 'presents',\n",
              " 270: 'anxiously',\n",
              " 271: 'give',\n",
              " 272: 'drew',\n",
              " 273: 'raised',\n",
              " 274: 'irons',\n",
              " 275: 'difficulties',\n",
              " 276: 'oop',\n",
              " 277: 'gave',\n",
              " 278: 'arm',\n",
              " 279: 'minute',\n",
              " 280: 'heart',\n",
              " 281: 'clapping',\n",
              " 282: 'signifies',\n",
              " 283: 'lacie',\n",
              " 284: 'pretend',\n",
              " 285: 'pepperqwerty',\n",
              " 286: 'invited',\n",
              " 287: 'somewhere',\n",
              " 288: 'woke',\n",
              " 289: 'sits',\n",
              " 290: 'appear',\n",
              " 291: 'fat',\n",
              " 292: 'shedding',\n",
              " 293: 'generally',\n",
              " 294: 'water',\n",
              " 295: 'daresay',\n",
              " 296: 'accounts',\n",
              " 297: 'position',\n",
              " 298: 'would',\n",
              " 299: 'grammar',\n",
              " 300: 'wanted',\n",
              " 301: 'denying',\n",
              " 302: 'ran',\n",
              " 303: 'mark',\n",
              " 304: 'players',\n",
              " 305: 'prosecute',\n",
              " 306: 'singers',\n",
              " 307: 'hardly',\n",
              " 308: 'accident',\n",
              " 309: 'houses',\n",
              " 310: 'tide',\n",
              " 311: 'letters',\n",
              " 312: 'read',\n",
              " 313: 'ful',\n",
              " 314: 'altogether',\n",
              " 315: 'regular',\n",
              " 316: 'declared',\n",
              " 317: 'bag',\n",
              " 318: 'might',\n",
              " 319: 'now',\n",
              " 320: 'kind',\n",
              " 321: 'instantly',\n",
              " 322: 'pink',\n",
              " 323: 'many',\n",
              " 324: 'left',\n",
              " 325: 'candle',\n",
              " 326: 'dear',\n",
              " 327: 'sand',\n",
              " 328: 'brightened',\n",
              " 329: \"cat's\",\n",
              " 330: 'stupidly',\n",
              " 331: 'vulgar',\n",
              " 332: 'held',\n",
              " 333: 'justice',\n",
              " 334: 'proceed',\n",
              " 335: 'uncorked',\n",
              " 336: 'snail',\n",
              " 337: 'bones',\n",
              " 338: 'feebly',\n",
              " 339: 'faces',\n",
              " 340: 'believed',\n",
              " 341: 'throat',\n",
              " 342: 'top',\n",
              " 343: 'hole',\n",
              " 344: 'poison',\n",
              " 345: 'extras',\n",
              " 346: 'cries',\n",
              " 347: 'tell',\n",
              " 348: 'quiver',\n",
              " 349: 'cakes',\n",
              " 350: \"haven't\",\n",
              " 351: 'shut',\n",
              " 352: 'evidently',\n",
              " 353: \"never'\",\n",
              " 354: 'managed',\n",
              " 355: 'furiously',\n",
              " 356: 'dropping',\n",
              " 357: 'caught',\n",
              " 358: 'not',\n",
              " 359: 'yourself',\n",
              " 360: 'ridges',\n",
              " 361: 'already',\n",
              " 362: 'helped',\n",
              " 363: 'flew',\n",
              " 364: 'awfully',\n",
              " 365: 'rapped',\n",
              " 366: 'parts',\n",
              " 367: 'leaning',\n",
              " 368: 'treacle',\n",
              " 369: 'sage',\n",
              " 370: 'everybody',\n",
              " 371: 'received',\n",
              " 372: 'ink',\n",
              " 373: 'hoarsely',\n",
              " 374: '`i',\n",
              " 375: 'wonder',\n",
              " 376: 'shook',\n",
              " 377: '-',\n",
              " 378: 'twentieth',\n",
              " 379: 'dreadfully',\n",
              " 380: 'red',\n",
              " 381: 'breeze',\n",
              " 382: 'promise',\n",
              " 383: 'earnestly',\n",
              " 384: 'telling',\n",
              " 385: 'abide',\n",
              " 386: 'its',\n",
              " 387: 'needs',\n",
              " 388: 'perfectly',\n",
              " 389: 'bawled',\n",
              " 390: 'trembled',\n",
              " 391: 'though',\n",
              " 392: 'vanishing',\n",
              " 393: 'sharp',\n",
              " 394: 'watched',\n",
              " 395: 'cheap',\n",
              " 396: 'manage',\n",
              " 397: 'sorrow',\n",
              " 398: 'farther',\n",
              " 399: 'showing',\n",
              " 400: 'butterfly',\n",
              " 401: 'few',\n",
              " 402: 'changes',\n",
              " 403: 'declare',\n",
              " 404: 'quickly',\n",
              " 405: 'suet',\n",
              " 406: 'together',\n",
              " 407: 'steam',\n",
              " 408: 'puzzling',\n",
              " 409: 'burnt',\n",
              " 410: 'mind',\n",
              " 411: 'sounds',\n",
              " 412: 'extremely',\n",
              " 413: 'buttons',\n",
              " 414: 'stole',\n",
              " 415: 'thump',\n",
              " 416: 'gone',\n",
              " 417: 'leaves',\n",
              " 418: 'learning',\n",
              " 419: 'simpleton',\n",
              " 420: 'opinion',\n",
              " 421: 'plan',\n",
              " 422: 'drowned',\n",
              " 423: 'frontispiece',\n",
              " 424: 'unhappy',\n",
              " 425: 'book',\n",
              " 426: 'paint',\n",
              " 427: 'doth',\n",
              " 428: 'seemed',\n",
              " 429: 'remark',\n",
              " 430: 'contemptuous',\n",
              " 431: 'natural',\n",
              " 432: 'guard',\n",
              " 433: 'queerest',\n",
              " 434: 'rabbit',\n",
              " 435: 'addressed',\n",
              " 436: 'times',\n",
              " 437: 'mad',\n",
              " 438: 'wept',\n",
              " 439: 'sleep',\n",
              " 440: 'whistle',\n",
              " 441: 'sing',\n",
              " 442: 'persisted',\n",
              " 443: 'footman',\n",
              " 444: 'almost',\n",
              " 445: 'possibly',\n",
              " 446: 'indignant',\n",
              " 447: 'but',\n",
              " 448: \"prisoner's\",\n",
              " 449: 'finger',\n",
              " 450: 'neither',\n",
              " 451: 'prisoner',\n",
              " 452: 'skimming',\n",
              " 453: 'crumbs',\n",
              " 454: 'concert',\n",
              " 455: 'panting',\n",
              " 456: 'instance',\n",
              " 457: 'circle',\n",
              " 458: 'knife',\n",
              " 459: 'experiment',\n",
              " 460: 'cats',\n",
              " 461: 'bottle',\n",
              " 462: 'tray',\n",
              " 463: 'matter',\n",
              " 464: 'tumbling',\n",
              " 465: 'anxious',\n",
              " 466: 'middle',\n",
              " 467: 'pale',\n",
              " 468: 'evidence',\n",
              " 469: 'jug',\n",
              " 470: 'wits',\n",
              " 471: 'sign',\n",
              " 472: 'falling',\n",
              " 473: 'carry',\n",
              " 474: 'waited',\n",
              " 475: 'beating',\n",
              " 476: 'obliged',\n",
              " 477: \"she's\",\n",
              " 478: 'fetch',\n",
              " 479: 'flapper',\n",
              " 480: 'with',\n",
              " 481: 'remarks',\n",
              " 482: 'ours',\n",
              " 483: 'handsome',\n",
              " 484: 'promising',\n",
              " 485: 'turning',\n",
              " 486: 'mentioned',\n",
              " 487: 'yours',\n",
              " 488: 'sneezing',\n",
              " 489: 'fitted',\n",
              " 490: 'went',\n",
              " 491: 'beds',\n",
              " 492: 'called',\n",
              " 493: 'keep',\n",
              " 494: 'hatching',\n",
              " 495: 'ear',\n",
              " 496: 'nice',\n",
              " 497: 'rate',\n",
              " 498: 'lest',\n",
              " 499: 'hat',\n",
              " 500: 'authority',\n",
              " 501: 'involved',\n",
              " 502: 'milk',\n",
              " 503: 'forehead',\n",
              " 504: 'tea',\n",
              " 505: 'glanced',\n",
              " 506: 'aloud',\n",
              " 507: 'tortoise',\n",
              " 508: 'guilt',\n",
              " 509: 'atom',\n",
              " 510: 'millennium',\n",
              " 511: 'hers',\n",
              " 512: 'partyqwerty',\n",
              " 513: 'several',\n",
              " 514: 'talk',\n",
              " 515: 'above',\n",
              " 516: 'anger',\n",
              " 517: 'bye',\n",
              " 518: 'pardoned',\n",
              " 519: 'elegant',\n",
              " 520: 'account',\n",
              " 521: 'returned',\n",
              " 522: 'leave',\n",
              " 523: 'state',\n",
              " 524: \"wouldn't\",\n",
              " 525: 'boon',\n",
              " 526: 'irritated',\n",
              " 527: 'moral',\n",
              " 528: 'finishing',\n",
              " 529: 'dreaming',\n",
              " 530: 'banquet',\n",
              " 531: \"caterpillar's\",\n",
              " 532: 'so',\n",
              " 533: 'patiently',\n",
              " 534: 'fits',\n",
              " 535: 'enjoy',\n",
              " 536: 'imitated',\n",
              " 537: 'grief',\n",
              " 538: 'consultation',\n",
              " 539: 'learnt',\n",
              " 540: 'boots',\n",
              " 541: 'grant',\n",
              " 542: 'begins',\n",
              " 543: 'please',\n",
              " 544: 'death',\n",
              " 545: 'bite',\n",
              " 546: 'thank',\n",
              " 547: 'confusing',\n",
              " 548: 'blew',\n",
              " 549: 'est',\n",
              " 550: \"slates'll\",\n",
              " 551: 'violence',\n",
              " 552: 'upright',\n",
              " 553: 'muttered',\n",
              " 554: 'less',\n",
              " 555: 'stretched',\n",
              " 556: 'grazed',\n",
              " 557: 'girls',\n",
              " 558: 'bough',\n",
              " 559: 'mean',\n",
              " 560: 'series',\n",
              " 561: 'strength',\n",
              " 562: 'hurry',\n",
              " 563: 'odd',\n",
              " 564: 'tut',\n",
              " 565: 'royal',\n",
              " 566: 'scream',\n",
              " 567: 'hoped',\n",
              " 568: 'whatever',\n",
              " 569: 'shrink',\n",
              " 570: 'feet',\n",
              " 571: 'dead',\n",
              " 572: 'most',\n",
              " 573: 'trying',\n",
              " 574: 'fly',\n",
              " 575: 'see',\n",
              " 576: 'lower',\n",
              " 577: 'tumbled',\n",
              " 578: 'execution',\n",
              " 579: 'upstairs',\n",
              " 580: 'laid',\n",
              " 581: 'signify',\n",
              " 582: 'am',\n",
              " 583: 'thought',\n",
              " 584: 'proved',\n",
              " 585: 'men',\n",
              " 586: 'be',\n",
              " 587: 'cry',\n",
              " 588: 'arguments',\n",
              " 589: 'outside',\n",
              " 590: 'kissed',\n",
              " 591: 'knuckles',\n",
              " 592: 'dinner',\n",
              " 593: \"i'd\",\n",
              " 594: 'pretty',\n",
              " 595: 'crossed',\n",
              " 596: 'dormouse',\n",
              " 597: 'youth',\n",
              " 598: 'month',\n",
              " 599: 'remarkable',\n",
              " 600: '`tell',\n",
              " 601: 'giddy',\n",
              " 602: 'smile',\n",
              " 603: 'throw',\n",
              " 604: 'cheered',\n",
              " 605: 'entangled',\n",
              " 606: 'kneel',\n",
              " 607: \"we're\",\n",
              " 608: 'solid',\n",
              " 609: 'getting',\n",
              " 610: 'holding',\n",
              " 611: 'paper',\n",
              " 612: 'bee',\n",
              " 613: 'spoon',\n",
              " 614: 'school',\n",
              " 615: 'scale',\n",
              " 616: 'wooden',\n",
              " 617: 'hung',\n",
              " 618: 'life',\n",
              " 619: 'expression',\n",
              " 620: 'plate',\n",
              " 621: 'downwards',\n",
              " 622: 'encourage',\n",
              " 623: 'hopeless',\n",
              " 624: 'purple',\n",
              " 625: 'another',\n",
              " 626: 'jar',\n",
              " 627: \"shan't\",\n",
              " 628: 'knows',\n",
              " 629: 'hurriedly',\n",
              " 630: 'gravely',\n",
              " 631: 'fairy',\n",
              " 632: 'otherwise',\n",
              " 633: \"`that's\",\n",
              " 634: 'exclaimed',\n",
              " 635: 'let',\n",
              " 636: 'nasty',\n",
              " 637: 'labelled',\n",
              " 638: 'mustard',\n",
              " 639: 'introduce',\n",
              " 640: 'without',\n",
              " 641: 'burning',\n",
              " 642: 'burn',\n",
              " 643: 'case',\n",
              " 644: 'squeezed',\n",
              " 645: 'appearing',\n",
              " 646: 'appealed',\n",
              " 647: 'some',\n",
              " 648: \"everything's\",\n",
              " 649: 'thirteen',\n",
              " 650: 'rubbing',\n",
              " 651: 'rush',\n",
              " 652: 'rightly',\n",
              " 653: 'directly',\n",
              " 654: 'engine',\n",
              " 655: 'bound',\n",
              " 656: 'ma',\n",
              " 657: 'rich',\n",
              " 658: 'move',\n",
              " 659: 'struck',\n",
              " 660: 'if',\n",
              " 661: 'spoke',\n",
              " 662: 'wants',\n",
              " 663: 'song',\n",
              " 664: \"turtle's\",\n",
              " 665: ')',\n",
              " 666: 'likes',\n",
              " 667: 'sorrowful',\n",
              " 668: 'sweet',\n",
              " 669: 'becoming',\n",
              " 670: 'character',\n",
              " 671: 'undertone',\n",
              " 672: 'saw',\n",
              " 673: 'list',\n",
              " 674: \"'qwertyhere\",\n",
              " 675: \"thimble'\",\n",
              " 676: 'wonderlandqwerty',\n",
              " 677: 'chain',\n",
              " 678: 'carrollqwerty',\n",
              " 679: 'neat',\n",
              " 680: 'twelfth',\n",
              " 681: 'ourselves',\n",
              " 682: \"there's\",\n",
              " 683: 'triumphantly',\n",
              " 684: 'couples',\n",
              " 685: 'sending',\n",
              " 686: 'hope',\n",
              " 687: 'shillings',\n",
              " 688: 'whispered',\n",
              " 689: 'set',\n",
              " 690: \"he'd\",\n",
              " 691: 'swam',\n",
              " 692: 'memorandum',\n",
              " 693: 'pope',\n",
              " 694: 'star',\n",
              " 695: 'still',\n",
              " 696: 'fair',\n",
              " 697: 'hedges',\n",
              " 698: 'however',\n",
              " 699: 'comfits',\n",
              " 700: 'doze',\n",
              " 701: 'shore',\n",
              " 702: 'stamping',\n",
              " 703: 'puzzled',\n",
              " 704: 'interest',\n",
              " 705: 'pleasure',\n",
              " 706: 'sun',\n",
              " 707: 'kills',\n",
              " 708: 'ashamed',\n",
              " 709: 'pictures',\n",
              " 710: 'raving',\n",
              " 711: 'from',\n",
              " 712: 'salt',\n",
              " 713: 'baby',\n",
              " 714: 'belt',\n",
              " 715: 'mushroom',\n",
              " 716: 'lasted',\n",
              " 717: 'flurry',\n",
              " 718: 'understood',\n",
              " 719: 'patriotic',\n",
              " 720: 'eye',\n",
              " 721: 'raven',\n",
              " 722: 'sight',\n",
              " 723: 'locks',\n",
              " 724: 'jumped',\n",
              " 725: 'hearthrug',\n",
              " 726: 'untwist',\n",
              " 727: 'poky',\n",
              " 728: 'sadly',\n",
              " 729: 'could',\n",
              " 730: 'prevent',\n",
              " 731: 'sorry',\n",
              " 732: 'severity',\n",
              " 733: 'teacups',\n",
              " 734: \"game's\",\n",
              " 735: 'glad',\n",
              " 736: 'themselves',\n",
              " 737: 'ixqwerty',\n",
              " 738: 'flavour',\n",
              " 739: \"'tis\",\n",
              " 740: 'nile',\n",
              " 741: 'custard',\n",
              " 742: 'sharply',\n",
              " 743: 'know',\n",
              " 744: 'curtsey',\n",
              " 745: \"were'\",\n",
              " 746: 'threw',\n",
              " 747: \"dinah'll\",\n",
              " 748: 'punished',\n",
              " 749: 'grow',\n",
              " 750: 'proud',\n",
              " 751: \"i'm\",\n",
              " 752: 'minutes',\n",
              " 753: 'gallons',\n",
              " 754: 'precious',\n",
              " 755: 'tinkling',\n",
              " 756: 'cook',\n",
              " 757: 'merely',\n",
              " 758: 'rattle',\n",
              " 759: 'number',\n",
              " 760: 'worth',\n",
              " 761: 'stoop',\n",
              " 762: 'drawling',\n",
              " 763: 'house',\n",
              " 764: 'drinking',\n",
              " 765: 'full',\n",
              " 766: 'days',\n",
              " 767: '[',\n",
              " 768: 'fortunately',\n",
              " 769: 'ask',\n",
              " 770: 'producing',\n",
              " 771: 'become',\n",
              " 772: 'protection',\n",
              " 773: 'multiplication',\n",
              " 774: 'lives',\n",
              " 775: 'crowd',\n",
              " 776: 'we',\n",
              " 777: 'execute',\n",
              " 778: 'sob',\n",
              " 779: 'corner',\n",
              " 780: 'custody',\n",
              " 781: 'she',\n",
              " 782: 'coward',\n",
              " 783: 'favoured',\n",
              " 784: 'presented',\n",
              " 785: 'or',\n",
              " 786: 'put',\n",
              " 787: 'bowed',\n",
              " 788: 'billqwerty',\n",
              " 789: 'mary',\n",
              " 790: 'unfortunate',\n",
              " 791: 'supple',\n",
              " 792: 'tricks',\n",
              " 793: 'muscular',\n",
              " 794: 'idiot',\n",
              " 795: 'beginning',\n",
              " 796: 'over',\n",
              " 797: 'airs',\n",
              " 798: 'swallow',\n",
              " 799: 'forget',\n",
              " 800: 'screaming',\n",
              " 801: 'hanging',\n",
              " 802: 'usual',\n",
              " 803: 'door',\n",
              " 804: 'busy',\n",
              " 805: 'beau',\n",
              " 806: 'smallest',\n",
              " 807: 'remembered',\n",
              " 808: 'find',\n",
              " 809: 'raw',\n",
              " 810: 'other',\n",
              " 811: 'guinea',\n",
              " 812: 'graceful',\n",
              " 813: 'condemn',\n",
              " 814: 'frowning',\n",
              " 815: 'disagree',\n",
              " 816: 'emphasis',\n",
              " 817: 'normans',\n",
              " 818: 'dozing',\n",
              " 819: 'catching',\n",
              " 820: 'broke',\n",
              " 821: 'deal',\n",
              " 822: \"they're\",\n",
              " 823: 'splashed',\n",
              " 824: 'tells',\n",
              " 825: 'shaking',\n",
              " 826: 'feather',\n",
              " 827: 'very',\n",
              " 828: 'curiosity',\n",
              " 829: 'tart',\n",
              " 830: 'bill',\n",
              " 831: 'pence',\n",
              " 832: 'breathe',\n",
              " 833: 'linked',\n",
              " 834: 'chrysalis',\n",
              " 835: 'beautify',\n",
              " 836: 'throwing',\n",
              " 837: 'argued',\n",
              " 838: 'teapot',\n",
              " 839: 'choke',\n",
              " 840: 'unwillingly',\n",
              " 841: 'filled',\n",
              " 842: 'hide',\n",
              " 843: 'william',\n",
              " 844: 'shakespeare',\n",
              " 845: 'rules',\n",
              " 846: \"he'll\",\n",
              " 847: 'rome',\n",
              " 848: 'removed',\n",
              " 849: 'zigzag',\n",
              " 850: 'year',\n",
              " 851: 'desks',\n",
              " 852: 'twenty',\n",
              " 853: 'content',\n",
              " 854: 'good',\n",
              " 855: 'shoes',\n",
              " 856: 'thistle',\n",
              " 857: \"moment's\",\n",
              " 858: 'met',\n",
              " 859: 'stolen',\n",
              " 860: 'fireplace',\n",
              " 861: 'looked',\n",
              " 862: 'fancied',\n",
              " 863: 'remained',\n",
              " 864: 'hedgehog',\n",
              " 865: 'seven',\n",
              " 866: 'friends',\n",
              " 867: 'w',\n",
              " 868: 'piece',\n",
              " 869: 'accustomed',\n",
              " 870: 'table',\n",
              " 871: 'brushing',\n",
              " 872: 'ridge',\n",
              " 873: 'sides',\n",
              " 874: 'frog',\n",
              " 875: 'books',\n",
              " 876: 'surprise',\n",
              " 877: 'twinkle',\n",
              " 878: 'chose',\n",
              " 879: 'throne',\n",
              " 880: 'modern',\n",
              " 881: 'sky',\n",
              " 882: 'dishes',\n",
              " 883: 'head',\n",
              " 884: \"lizard's\",\n",
              " 885: 'mischief',\n",
              " 886: 'riper',\n",
              " 887: 'chop',\n",
              " 888: 'judge',\n",
              " 889: 'england',\n",
              " 890: 'roughly',\n",
              " 891: 'tale',\n",
              " 892: 'respectful',\n",
              " 893: 'uncommon',\n",
              " 894: 'yet',\n",
              " 895: 'scaly',\n",
              " 896: 'told',\n",
              " 897: 'editions',\n",
              " 898: 'hopeful',\n",
              " 899: 'hush',\n",
              " 900: 'buttercup',\n",
              " 901: 'treated',\n",
              " 902: 'chuckled',\n",
              " 903: 'jelly',\n",
              " 904: 'unable',\n",
              " 905: 'argue',\n",
              " 906: 'checked',\n",
              " 907: 'splashing',\n",
              " 908: 'old',\n",
              " 909: 'cautiously',\n",
              " 910: 'arithmetic',\n",
              " 911: 'curled',\n",
              " 912: 'charges',\n",
              " 913: 'refreshments',\n",
              " 914: 'ordering',\n",
              " 915: 'stand',\n",
              " 916: \"they'll\",\n",
              " 917: 'sentenced',\n",
              " 918: 'goldfish',\n",
              " 919: 'em',\n",
              " 920: 'close',\n",
              " 921: 'as',\n",
              " 922: 'kindly',\n",
              " 923: 'weak',\n",
              " 924: 'dodo',\n",
              " 925: 'noise',\n",
              " 926: 'wig',\n",
              " 927: 'attempt',\n",
              " 928: 'wet',\n",
              " 929: \"not'\",\n",
              " 930: 'added',\n",
              " 931: 'claws',\n",
              " 932: 'rose',\n",
              " 933: 'trumpet',\n",
              " 934: 'barrowful',\n",
              " 935: 'sink',\n",
              " 936: 'pebbles',\n",
              " 937: \"one's\",\n",
              " 938: 'ordered',\n",
              " 939: 'shyly',\n",
              " 940: 'yer',\n",
              " 941: 'speak',\n",
              " 942: 'considering',\n",
              " 943: 'pretending',\n",
              " 944: 'qwertyyou',\n",
              " 945: 'had',\n",
              " 946: 'soles',\n",
              " 947: 'tongue',\n",
              " 948: 'distant',\n",
              " 949: 'sends',\n",
              " 950: 'double',\n",
              " 951: 'angrily',\n",
              " 952: 'whenever',\n",
              " 953: \"'qwerty\",\n",
              " 954: 'venture',\n",
              " 955: \"queen's\",\n",
              " 956: 'sulky',\n",
              " 957: 'length',\n",
              " 958: 'oldest',\n",
              " 959: 'tie',\n",
              " 960: 'bit',\n",
              " 961: 'promised',\n",
              " 962: 'immense',\n",
              " 963: 'gardeners',\n",
              " 964: 'bat',\n",
              " 965: 'around',\n",
              " 966: 'blown',\n",
              " 967: 'soldiers',\n",
              " 968: 'sobbed',\n",
              " 969: 'd',\n",
              " 970: 'follow',\n",
              " 971: 'were',\n",
              " 972: 'wore',\n",
              " 973: 'exactly',\n",
              " 974: 'bursting',\n",
              " 975: 'tarts',\n",
              " 976: 'violent',\n",
              " 977: 'latitude',\n",
              " 978: 'ventured',\n",
              " 979: 'he',\n",
              " 980: 'attended',\n",
              " 981: \"you'd\",\n",
              " 982: 'pigeon',\n",
              " 983: 'lady',\n",
              " 984: 'shiver',\n",
              " 985: 'breath',\n",
              " 986: 'ago',\n",
              " 987: 'edwin',\n",
              " 988: 'playing',\n",
              " 989: 'laugh',\n",
              " 990: 'birthday',\n",
              " 991: 'kettle',\n",
              " 992: 'side',\n",
              " 993: 'clock',\n",
              " 994: 'insult',\n",
              " 995: 'relief',\n",
              " 996: 'jurymen',\n",
              " 997: 'suppress',\n",
              " 998: 'knowing',\n",
              " 999: 'making',\n",
              " ...}"
            ]
          },
          "metadata": {
            "tags": []
          },
          "execution_count": 37
        }
      ]
    },
    {
      "metadata": {
        "id": "ZnWstIe_qCbT",
        "colab_type": "code",
        "colab": {}
      },
      "cell_type": "code",
      "source": [
        "word_to_index = {word: i for i, word in index_to_word.items()}"
      ],
      "execution_count": 0,
      "outputs": []
    },
    {
      "metadata": {
        "id": "b0Oe9HY7qCbW",
        "colab_type": "code",
        "outputId": "cccd77bc-f382-4078-9580-f4791976d55c",
        "colab": {
          "base_uri": "https://localhost:8080/",
          "height": 17034
        }
      },
      "cell_type": "code",
      "source": [
        "word_to_index"
      ],
      "execution_count": 0,
      "outputs": [
        {
          "output_type": "execute_result",
          "data": {
            "text/plain": [
              "{'may': 0,\n",
              " 'knock': 1,\n",
              " 'speed': 2,\n",
              " 'denial': 3,\n",
              " 'week': 4,\n",
              " 'cheated': 5,\n",
              " 'join': 6,\n",
              " 'impossible': 7,\n",
              " 'such': 8,\n",
              " 'both': 9,\n",
              " 'chimneys': 10,\n",
              " 'bringing': 11,\n",
              " 'fading': 12,\n",
              " \"bill's\": 13,\n",
              " 'pop': 14,\n",
              " 'listen': 15,\n",
              " 'soon': 16,\n",
              " 'afore': 17,\n",
              " 'uglify': 18,\n",
              " 'through': 19,\n",
              " 'witness': 20,\n",
              " 'in': 21,\n",
              " 'hair': 22,\n",
              " 'barley': 23,\n",
              " 'sharing': 24,\n",
              " 'dodged': 25,\n",
              " 'funny': 26,\n",
              " 'blasts': 27,\n",
              " 'mine': 28,\n",
              " 'being': 29,\n",
              " '`which': 30,\n",
              " 'wild': 31,\n",
              " 'conquest': 32,\n",
              " 'partner': 33,\n",
              " 'going': 34,\n",
              " 'edge': 35,\n",
              " 'timidly': 36,\n",
              " 'darkness': 37,\n",
              " 'fur': 38,\n",
              " 'lines': 39,\n",
              " 'mournful': 40,\n",
              " 'qwertywill': 41,\n",
              " 'unpleasant': 42,\n",
              " 'wrapping': 43,\n",
              " 'heels': 44,\n",
              " 'sobs': 45,\n",
              " 'beheaded': 46,\n",
              " 'crust': 47,\n",
              " 'bright': 48,\n",
              " 'it': 49,\n",
              " 'ten': 50,\n",
              " 'mock': 51,\n",
              " 'answers': 52,\n",
              " 'flame': 53,\n",
              " 'growling': 54,\n",
              " 'right': 55,\n",
              " 'certainly': 56,\n",
              " 'newspapers': 57,\n",
              " \"couldn't\": 58,\n",
              " 'hearts': 59,\n",
              " 'near': 60,\n",
              " 'sheep': 61,\n",
              " 'appeared': 62,\n",
              " 'produced': 63,\n",
              " 'draggled': 64,\n",
              " 'suppose': 65,\n",
              " 'fire': 66,\n",
              " 'paused': 67,\n",
              " 'leap': 68,\n",
              " 'incessantly': 69,\n",
              " 'dogs': 70,\n",
              " 'them': 71,\n",
              " 'poker': 72,\n",
              " 'dates': 73,\n",
              " 'jogged': 74,\n",
              " 'wasting': 75,\n",
              " 'singing': 76,\n",
              " 'hold': 77,\n",
              " 'doubt': 78,\n",
              " 'reasons': 79,\n",
              " 'crossly': 80,\n",
              " 'avoid': 81,\n",
              " 'plainly': 82,\n",
              " 'vague': 83,\n",
              " '`now': 84,\n",
              " 'hid': 85,\n",
              " 'follows': 86,\n",
              " 'morning': 87,\n",
              " 'ground': 88,\n",
              " 'golden': 89,\n",
              " 'french': 90,\n",
              " 'happy': 91,\n",
              " 'elsie': 92,\n",
              " 'conger': 93,\n",
              " \"you're\": 94,\n",
              " \"hadn't\": 95,\n",
              " 'knocked': 96,\n",
              " 'officers': 97,\n",
              " 'garden': 98,\n",
              " 'names': 99,\n",
              " 'beloved': 100,\n",
              " 'lefthand': 101,\n",
              " 'heavy': 102,\n",
              " 'english': 103,\n",
              " 'narrow': 104,\n",
              " 'crawled': 105,\n",
              " 'invitation': 106,\n",
              " 'draw': 107,\n",
              " 'each': 108,\n",
              " 'party': 109,\n",
              " 'quicker': 110,\n",
              " 'downward': 111,\n",
              " 'certain': 112,\n",
              " 'gently': 113,\n",
              " 'pass': 114,\n",
              " 'hurt': 115,\n",
              " ',': 116,\n",
              " 'has': 117,\n",
              " 'attending': 118,\n",
              " 'rudeness': 119,\n",
              " 'handwriting': 120,\n",
              " 'that': 121,\n",
              " 'drunk': 122,\n",
              " 'shrieked': 123,\n",
              " 'knew': 124,\n",
              " 'opportunity': 125,\n",
              " 'noises': 126,\n",
              " 'curiouser': 127,\n",
              " 'fifteenth': 128,\n",
              " 'fun': 129,\n",
              " 'truth': 130,\n",
              " 'snorting': 131,\n",
              " 'bristling': 132,\n",
              " 'burst': 133,\n",
              " 'ootiful': 134,\n",
              " 'fourth': 135,\n",
              " 'followed': 136,\n",
              " 'sorrows': 137,\n",
              " 'true': 138,\n",
              " 'waiting': 139,\n",
              " 'excellent': 140,\n",
              " 'missed': 141,\n",
              " 'tight': 142,\n",
              " 'dance': 143,\n",
              " 'peeping': 144,\n",
              " 'deny': 145,\n",
              " 'ways': 146,\n",
              " 'belong': 147,\n",
              " 'trial': 148,\n",
              " 'fills': 149,\n",
              " 'helpless': 150,\n",
              " 'speech': 151,\n",
              " 'led': 152,\n",
              " 'play': 153,\n",
              " 'explanations': 154,\n",
              " 'can': 155,\n",
              " 'cares': 156,\n",
              " 'writhing': 157,\n",
              " 'neighbouring': 158,\n",
              " 'said': 159,\n",
              " 'capital': 160,\n",
              " 'shape': 161,\n",
              " 'advance': 162,\n",
              " 'c': 163,\n",
              " 'and': 164,\n",
              " 'live': 165,\n",
              " \"that'll\": 166,\n",
              " 'flying': 167,\n",
              " 'muttering': 168,\n",
              " 'speaker': 169,\n",
              " 'advisable': 170,\n",
              " 'joys': 171,\n",
              " 'tulip': 172,\n",
              " 'france': 173,\n",
              " 'rubbed': 174,\n",
              " 'long': 175,\n",
              " 'came': 176,\n",
              " 'taleqwerty': 177,\n",
              " 'serpents': 178,\n",
              " 'started': 179,\n",
              " 'listened': 180,\n",
              " 'shoulders': 181,\n",
              " 'nay': 182,\n",
              " 'quarrel': 183,\n",
              " 'name': 184,\n",
              " 'somehow': 185,\n",
              " 'splendidly': 186,\n",
              " 'grand': 187,\n",
              " 'chance': 188,\n",
              " 'steady': 189,\n",
              " 'daisy': 190,\n",
              " 'push': 191,\n",
              " 'agony': 192,\n",
              " 'partners': 193,\n",
              " 'placed': 194,\n",
              " 'grins': 195,\n",
              " 'encouraged': 196,\n",
              " 'saucepans': 197,\n",
              " 'since': 198,\n",
              " 'trampled': 199,\n",
              " 'caucus': 200,\n",
              " 'dive': 201,\n",
              " 'telescopes': 202,\n",
              " 'laughing': 203,\n",
              " 'miss': 204,\n",
              " 'flung': 205,\n",
              " 'stairs': 206,\n",
              " 'punching': 207,\n",
              " 'sitting': 208,\n",
              " 'antipathies': 209,\n",
              " 'natured': 210,\n",
              " 'tail': 211,\n",
              " 'secondly': 212,\n",
              " 'delay': 213,\n",
              " 'die': 214,\n",
              " 'dinah': 215,\n",
              " 'ignorant': 216,\n",
              " 'histories': 217,\n",
              " 'repeating': 218,\n",
              " 'you': 219,\n",
              " 'branch': 220,\n",
              " 'toss': 221,\n",
              " 'sizes': 222,\n",
              " 'earth': 223,\n",
              " 'written': 224,\n",
              " 'wrote': 225,\n",
              " 'pronounced': 226,\n",
              " 'afraid': 227,\n",
              " 'driest': 228,\n",
              " \"o'clock\": 229,\n",
              " 'birds': 230,\n",
              " 'dispute': 231,\n",
              " 'sluggard': 232,\n",
              " 'tiny': 233,\n",
              " 'nose': 234,\n",
              " 'powdered': 235,\n",
              " 'dipped': 236,\n",
              " 'show': 237,\n",
              " 'addressing': 238,\n",
              " 'dreamed': 239,\n",
              " 'overcome': 240,\n",
              " 'rippling': 241,\n",
              " 'ravens': 242,\n",
              " 'louder': 243,\n",
              " 'twice': 244,\n",
              " 'across': 245,\n",
              " 'chains': 246,\n",
              " 'little': 247,\n",
              " 'hard': 248,\n",
              " \"animal's\": 249,\n",
              " 'nodded': 250,\n",
              " 'orange': 251,\n",
              " 'distraction': 252,\n",
              " 'taught': 253,\n",
              " 'meaning': 254,\n",
              " 'tops': 255,\n",
              " 'crimson': 256,\n",
              " 'sleepy': 257,\n",
              " 'ahem': 258,\n",
              " 'flat': 259,\n",
              " 'save': 260,\n",
              " 'askance': 261,\n",
              " 'purpose': 262,\n",
              " 'stopped': 263,\n",
              " 'none': 264,\n",
              " 'touch': 265,\n",
              " 'effect': 266,\n",
              " 'longer': 267,\n",
              " 'plates': 268,\n",
              " 'presents': 269,\n",
              " 'anxiously': 270,\n",
              " 'give': 271,\n",
              " 'drew': 272,\n",
              " 'raised': 273,\n",
              " 'irons': 274,\n",
              " 'difficulties': 275,\n",
              " 'oop': 276,\n",
              " 'gave': 277,\n",
              " 'arm': 278,\n",
              " 'minute': 279,\n",
              " 'heart': 280,\n",
              " 'clapping': 281,\n",
              " 'signifies': 282,\n",
              " 'lacie': 283,\n",
              " 'pretend': 284,\n",
              " 'pepperqwerty': 285,\n",
              " 'invited': 286,\n",
              " 'somewhere': 287,\n",
              " 'woke': 288,\n",
              " 'sits': 289,\n",
              " 'appear': 290,\n",
              " 'fat': 291,\n",
              " 'shedding': 292,\n",
              " 'generally': 293,\n",
              " 'water': 294,\n",
              " 'daresay': 295,\n",
              " 'accounts': 296,\n",
              " 'position': 297,\n",
              " 'would': 298,\n",
              " 'grammar': 299,\n",
              " 'wanted': 300,\n",
              " 'denying': 301,\n",
              " 'ran': 302,\n",
              " 'mark': 303,\n",
              " 'players': 304,\n",
              " 'prosecute': 305,\n",
              " 'singers': 306,\n",
              " 'hardly': 307,\n",
              " 'accident': 308,\n",
              " 'houses': 309,\n",
              " 'tide': 310,\n",
              " 'letters': 311,\n",
              " 'read': 312,\n",
              " 'ful': 313,\n",
              " 'altogether': 314,\n",
              " 'regular': 315,\n",
              " 'declared': 316,\n",
              " 'bag': 317,\n",
              " 'might': 318,\n",
              " 'now': 319,\n",
              " 'kind': 320,\n",
              " 'instantly': 321,\n",
              " 'pink': 322,\n",
              " 'many': 323,\n",
              " 'left': 324,\n",
              " 'candle': 325,\n",
              " 'dear': 326,\n",
              " 'sand': 327,\n",
              " 'brightened': 328,\n",
              " \"cat's\": 329,\n",
              " 'stupidly': 330,\n",
              " 'vulgar': 331,\n",
              " 'held': 332,\n",
              " 'justice': 333,\n",
              " 'proceed': 334,\n",
              " 'uncorked': 335,\n",
              " 'snail': 336,\n",
              " 'bones': 337,\n",
              " 'feebly': 338,\n",
              " 'faces': 339,\n",
              " 'believed': 340,\n",
              " 'throat': 341,\n",
              " 'top': 342,\n",
              " 'hole': 343,\n",
              " 'poison': 344,\n",
              " 'extras': 345,\n",
              " 'cries': 346,\n",
              " 'tell': 347,\n",
              " 'quiver': 348,\n",
              " 'cakes': 349,\n",
              " \"haven't\": 350,\n",
              " 'shut': 351,\n",
              " 'evidently': 352,\n",
              " \"never'\": 353,\n",
              " 'managed': 354,\n",
              " 'furiously': 355,\n",
              " 'dropping': 356,\n",
              " 'caught': 357,\n",
              " 'not': 358,\n",
              " 'yourself': 359,\n",
              " 'ridges': 360,\n",
              " 'already': 361,\n",
              " 'helped': 362,\n",
              " 'flew': 363,\n",
              " 'awfully': 364,\n",
              " 'rapped': 365,\n",
              " 'parts': 366,\n",
              " 'leaning': 367,\n",
              " 'treacle': 368,\n",
              " 'sage': 369,\n",
              " 'everybody': 370,\n",
              " 'received': 371,\n",
              " 'ink': 372,\n",
              " 'hoarsely': 373,\n",
              " '`i': 374,\n",
              " 'wonder': 375,\n",
              " 'shook': 376,\n",
              " '-': 377,\n",
              " 'twentieth': 378,\n",
              " 'dreadfully': 379,\n",
              " 'red': 380,\n",
              " 'breeze': 381,\n",
              " 'promise': 382,\n",
              " 'earnestly': 383,\n",
              " 'telling': 384,\n",
              " 'abide': 385,\n",
              " 'its': 386,\n",
              " 'needs': 387,\n",
              " 'perfectly': 388,\n",
              " 'bawled': 389,\n",
              " 'trembled': 390,\n",
              " 'though': 391,\n",
              " 'vanishing': 392,\n",
              " 'sharp': 393,\n",
              " 'watched': 394,\n",
              " 'cheap': 395,\n",
              " 'manage': 396,\n",
              " 'sorrow': 397,\n",
              " 'farther': 398,\n",
              " 'showing': 399,\n",
              " 'butterfly': 400,\n",
              " 'few': 401,\n",
              " 'changes': 402,\n",
              " 'declare': 403,\n",
              " 'quickly': 404,\n",
              " 'suet': 405,\n",
              " 'together': 406,\n",
              " 'steam': 407,\n",
              " 'puzzling': 408,\n",
              " 'burnt': 409,\n",
              " 'mind': 410,\n",
              " 'sounds': 411,\n",
              " 'extremely': 412,\n",
              " 'buttons': 413,\n",
              " 'stole': 414,\n",
              " 'thump': 415,\n",
              " 'gone': 416,\n",
              " 'leaves': 417,\n",
              " 'learning': 418,\n",
              " 'simpleton': 419,\n",
              " 'opinion': 420,\n",
              " 'plan': 421,\n",
              " 'drowned': 422,\n",
              " 'frontispiece': 423,\n",
              " 'unhappy': 424,\n",
              " 'book': 425,\n",
              " 'paint': 426,\n",
              " 'doth': 427,\n",
              " 'seemed': 428,\n",
              " 'remark': 429,\n",
              " 'contemptuous': 430,\n",
              " 'natural': 431,\n",
              " 'guard': 432,\n",
              " 'queerest': 433,\n",
              " 'rabbit': 434,\n",
              " 'addressed': 435,\n",
              " 'times': 436,\n",
              " 'mad': 437,\n",
              " 'wept': 438,\n",
              " 'sleep': 439,\n",
              " 'whistle': 440,\n",
              " 'sing': 441,\n",
              " 'persisted': 442,\n",
              " 'footman': 443,\n",
              " 'almost': 444,\n",
              " 'possibly': 445,\n",
              " 'indignant': 446,\n",
              " 'but': 447,\n",
              " \"prisoner's\": 448,\n",
              " 'finger': 449,\n",
              " 'neither': 450,\n",
              " 'prisoner': 451,\n",
              " 'skimming': 452,\n",
              " 'crumbs': 453,\n",
              " 'concert': 454,\n",
              " 'panting': 455,\n",
              " 'instance': 456,\n",
              " 'circle': 457,\n",
              " 'knife': 458,\n",
              " 'experiment': 459,\n",
              " 'cats': 460,\n",
              " 'bottle': 461,\n",
              " 'tray': 462,\n",
              " 'matter': 463,\n",
              " 'tumbling': 464,\n",
              " 'anxious': 465,\n",
              " 'middle': 466,\n",
              " 'pale': 467,\n",
              " 'evidence': 468,\n",
              " 'jug': 469,\n",
              " 'wits': 470,\n",
              " 'sign': 471,\n",
              " 'falling': 472,\n",
              " 'carry': 473,\n",
              " 'waited': 474,\n",
              " 'beating': 475,\n",
              " 'obliged': 476,\n",
              " \"she's\": 477,\n",
              " 'fetch': 478,\n",
              " 'flapper': 479,\n",
              " 'with': 480,\n",
              " 'remarks': 481,\n",
              " 'ours': 482,\n",
              " 'handsome': 483,\n",
              " 'promising': 484,\n",
              " 'turning': 485,\n",
              " 'mentioned': 486,\n",
              " 'yours': 487,\n",
              " 'sneezing': 488,\n",
              " 'fitted': 489,\n",
              " 'went': 490,\n",
              " 'beds': 491,\n",
              " 'called': 492,\n",
              " 'keep': 493,\n",
              " 'hatching': 494,\n",
              " 'ear': 495,\n",
              " 'nice': 496,\n",
              " 'rate': 497,\n",
              " 'lest': 498,\n",
              " 'hat': 499,\n",
              " 'authority': 500,\n",
              " 'involved': 501,\n",
              " 'milk': 502,\n",
              " 'forehead': 503,\n",
              " 'tea': 504,\n",
              " 'glanced': 505,\n",
              " 'aloud': 506,\n",
              " 'tortoise': 507,\n",
              " 'guilt': 508,\n",
              " 'atom': 509,\n",
              " 'millennium': 510,\n",
              " 'hers': 511,\n",
              " 'partyqwerty': 512,\n",
              " 'several': 513,\n",
              " 'talk': 514,\n",
              " 'above': 515,\n",
              " 'anger': 516,\n",
              " 'bye': 517,\n",
              " 'pardoned': 518,\n",
              " 'elegant': 519,\n",
              " 'account': 520,\n",
              " 'returned': 521,\n",
              " 'leave': 522,\n",
              " 'state': 523,\n",
              " \"wouldn't\": 524,\n",
              " 'boon': 525,\n",
              " 'irritated': 526,\n",
              " 'moral': 527,\n",
              " 'finishing': 528,\n",
              " 'dreaming': 529,\n",
              " 'banquet': 530,\n",
              " \"caterpillar's\": 531,\n",
              " 'so': 532,\n",
              " 'patiently': 533,\n",
              " 'fits': 534,\n",
              " 'enjoy': 535,\n",
              " 'imitated': 536,\n",
              " 'grief': 537,\n",
              " 'consultation': 538,\n",
              " 'learnt': 539,\n",
              " 'boots': 540,\n",
              " 'grant': 541,\n",
              " 'begins': 542,\n",
              " 'please': 543,\n",
              " 'death': 544,\n",
              " 'bite': 545,\n",
              " 'thank': 546,\n",
              " 'confusing': 547,\n",
              " 'blew': 548,\n",
              " 'est': 549,\n",
              " \"slates'll\": 550,\n",
              " 'violence': 551,\n",
              " 'upright': 552,\n",
              " 'muttered': 553,\n",
              " 'less': 554,\n",
              " 'stretched': 555,\n",
              " 'grazed': 556,\n",
              " 'girls': 557,\n",
              " 'bough': 558,\n",
              " 'mean': 559,\n",
              " 'series': 560,\n",
              " 'strength': 561,\n",
              " 'hurry': 562,\n",
              " 'odd': 563,\n",
              " 'tut': 564,\n",
              " 'royal': 565,\n",
              " 'scream': 566,\n",
              " 'hoped': 567,\n",
              " 'whatever': 568,\n",
              " 'shrink': 569,\n",
              " 'feet': 570,\n",
              " 'dead': 571,\n",
              " 'most': 572,\n",
              " 'trying': 573,\n",
              " 'fly': 574,\n",
              " 'see': 575,\n",
              " 'lower': 576,\n",
              " 'tumbled': 577,\n",
              " 'execution': 578,\n",
              " 'upstairs': 579,\n",
              " 'laid': 580,\n",
              " 'signify': 581,\n",
              " 'am': 582,\n",
              " 'thought': 583,\n",
              " 'proved': 584,\n",
              " 'men': 585,\n",
              " 'be': 586,\n",
              " 'cry': 587,\n",
              " 'arguments': 588,\n",
              " 'outside': 589,\n",
              " 'kissed': 590,\n",
              " 'knuckles': 591,\n",
              " 'dinner': 592,\n",
              " \"i'd\": 593,\n",
              " 'pretty': 594,\n",
              " 'crossed': 595,\n",
              " 'dormouse': 596,\n",
              " 'youth': 597,\n",
              " 'month': 598,\n",
              " 'remarkable': 599,\n",
              " '`tell': 600,\n",
              " 'giddy': 601,\n",
              " 'smile': 602,\n",
              " 'throw': 603,\n",
              " 'cheered': 604,\n",
              " 'entangled': 605,\n",
              " 'kneel': 606,\n",
              " \"we're\": 607,\n",
              " 'solid': 608,\n",
              " 'getting': 609,\n",
              " 'holding': 610,\n",
              " 'paper': 611,\n",
              " 'bee': 612,\n",
              " 'spoon': 613,\n",
              " 'school': 614,\n",
              " 'scale': 615,\n",
              " 'wooden': 616,\n",
              " 'hung': 617,\n",
              " 'life': 618,\n",
              " 'expression': 619,\n",
              " 'plate': 620,\n",
              " 'downwards': 621,\n",
              " 'encourage': 622,\n",
              " 'hopeless': 623,\n",
              " 'purple': 624,\n",
              " 'another': 625,\n",
              " 'jar': 626,\n",
              " \"shan't\": 627,\n",
              " 'knows': 628,\n",
              " 'hurriedly': 629,\n",
              " 'gravely': 630,\n",
              " 'fairy': 631,\n",
              " 'otherwise': 632,\n",
              " \"`that's\": 633,\n",
              " 'exclaimed': 634,\n",
              " 'let': 635,\n",
              " 'nasty': 636,\n",
              " 'labelled': 637,\n",
              " 'mustard': 638,\n",
              " 'introduce': 639,\n",
              " 'without': 640,\n",
              " 'burning': 641,\n",
              " 'burn': 642,\n",
              " 'case': 643,\n",
              " 'squeezed': 644,\n",
              " 'appearing': 645,\n",
              " 'appealed': 646,\n",
              " 'some': 647,\n",
              " \"everything's\": 648,\n",
              " 'thirteen': 649,\n",
              " 'rubbing': 650,\n",
              " 'rush': 651,\n",
              " 'rightly': 652,\n",
              " 'directly': 653,\n",
              " 'engine': 654,\n",
              " 'bound': 655,\n",
              " 'ma': 656,\n",
              " 'rich': 657,\n",
              " 'move': 658,\n",
              " 'struck': 659,\n",
              " 'if': 660,\n",
              " 'spoke': 661,\n",
              " 'wants': 662,\n",
              " 'song': 663,\n",
              " \"turtle's\": 664,\n",
              " ')': 665,\n",
              " 'likes': 666,\n",
              " 'sorrowful': 667,\n",
              " 'sweet': 668,\n",
              " 'becoming': 669,\n",
              " 'character': 670,\n",
              " 'undertone': 671,\n",
              " 'saw': 672,\n",
              " 'list': 673,\n",
              " \"'qwertyhere\": 674,\n",
              " \"thimble'\": 675,\n",
              " 'wonderlandqwerty': 676,\n",
              " 'chain': 677,\n",
              " 'carrollqwerty': 678,\n",
              " 'neat': 679,\n",
              " 'twelfth': 680,\n",
              " 'ourselves': 681,\n",
              " \"there's\": 682,\n",
              " 'triumphantly': 683,\n",
              " 'couples': 684,\n",
              " 'sending': 685,\n",
              " 'hope': 686,\n",
              " 'shillings': 687,\n",
              " 'whispered': 688,\n",
              " 'set': 689,\n",
              " \"he'd\": 690,\n",
              " 'swam': 691,\n",
              " 'memorandum': 692,\n",
              " 'pope': 693,\n",
              " 'star': 694,\n",
              " 'still': 695,\n",
              " 'fair': 696,\n",
              " 'hedges': 697,\n",
              " 'however': 698,\n",
              " 'comfits': 699,\n",
              " 'doze': 700,\n",
              " 'shore': 701,\n",
              " 'stamping': 702,\n",
              " 'puzzled': 703,\n",
              " 'interest': 704,\n",
              " 'pleasure': 705,\n",
              " 'sun': 706,\n",
              " 'kills': 707,\n",
              " 'ashamed': 708,\n",
              " 'pictures': 709,\n",
              " 'raving': 710,\n",
              " 'from': 711,\n",
              " 'salt': 712,\n",
              " 'baby': 713,\n",
              " 'belt': 714,\n",
              " 'mushroom': 715,\n",
              " 'lasted': 716,\n",
              " 'flurry': 717,\n",
              " 'understood': 718,\n",
              " 'patriotic': 719,\n",
              " 'eye': 720,\n",
              " 'raven': 721,\n",
              " 'sight': 722,\n",
              " 'locks': 723,\n",
              " 'jumped': 724,\n",
              " 'hearthrug': 725,\n",
              " 'untwist': 726,\n",
              " 'poky': 727,\n",
              " 'sadly': 728,\n",
              " 'could': 729,\n",
              " 'prevent': 730,\n",
              " 'sorry': 731,\n",
              " 'severity': 732,\n",
              " 'teacups': 733,\n",
              " \"game's\": 734,\n",
              " 'glad': 735,\n",
              " 'themselves': 736,\n",
              " 'ixqwerty': 737,\n",
              " 'flavour': 738,\n",
              " \"'tis\": 739,\n",
              " 'nile': 740,\n",
              " 'custard': 741,\n",
              " 'sharply': 742,\n",
              " 'know': 743,\n",
              " 'curtsey': 744,\n",
              " \"were'\": 745,\n",
              " 'threw': 746,\n",
              " \"dinah'll\": 747,\n",
              " 'punished': 748,\n",
              " 'grow': 749,\n",
              " 'proud': 750,\n",
              " \"i'm\": 751,\n",
              " 'minutes': 752,\n",
              " 'gallons': 753,\n",
              " 'precious': 754,\n",
              " 'tinkling': 755,\n",
              " 'cook': 756,\n",
              " 'merely': 757,\n",
              " 'rattle': 758,\n",
              " 'number': 759,\n",
              " 'worth': 760,\n",
              " 'stoop': 761,\n",
              " 'drawling': 762,\n",
              " 'house': 763,\n",
              " 'drinking': 764,\n",
              " 'full': 765,\n",
              " 'days': 766,\n",
              " '[': 767,\n",
              " 'fortunately': 768,\n",
              " 'ask': 769,\n",
              " 'producing': 770,\n",
              " 'become': 771,\n",
              " 'protection': 772,\n",
              " 'multiplication': 773,\n",
              " 'lives': 774,\n",
              " 'crowd': 775,\n",
              " 'we': 776,\n",
              " 'execute': 777,\n",
              " 'sob': 778,\n",
              " 'corner': 779,\n",
              " 'custody': 780,\n",
              " 'she': 781,\n",
              " 'coward': 782,\n",
              " 'favoured': 783,\n",
              " 'presented': 784,\n",
              " 'or': 785,\n",
              " 'put': 786,\n",
              " 'bowed': 787,\n",
              " 'billqwerty': 788,\n",
              " 'mary': 789,\n",
              " 'unfortunate': 790,\n",
              " 'supple': 791,\n",
              " 'tricks': 792,\n",
              " 'muscular': 793,\n",
              " 'idiot': 794,\n",
              " 'beginning': 795,\n",
              " 'over': 796,\n",
              " 'airs': 797,\n",
              " 'swallow': 798,\n",
              " 'forget': 799,\n",
              " 'screaming': 800,\n",
              " 'hanging': 801,\n",
              " 'usual': 802,\n",
              " 'door': 803,\n",
              " 'busy': 804,\n",
              " 'beau': 805,\n",
              " 'smallest': 806,\n",
              " 'remembered': 807,\n",
              " 'find': 808,\n",
              " 'raw': 809,\n",
              " 'other': 810,\n",
              " 'guinea': 811,\n",
              " 'graceful': 812,\n",
              " 'condemn': 813,\n",
              " 'frowning': 814,\n",
              " 'disagree': 815,\n",
              " 'emphasis': 816,\n",
              " 'normans': 817,\n",
              " 'dozing': 818,\n",
              " 'catching': 819,\n",
              " 'broke': 820,\n",
              " 'deal': 821,\n",
              " \"they're\": 822,\n",
              " 'splashed': 823,\n",
              " 'tells': 824,\n",
              " 'shaking': 825,\n",
              " 'feather': 826,\n",
              " 'very': 827,\n",
              " 'curiosity': 828,\n",
              " 'tart': 829,\n",
              " 'bill': 830,\n",
              " 'pence': 831,\n",
              " 'breathe': 832,\n",
              " 'linked': 833,\n",
              " 'chrysalis': 834,\n",
              " 'beautify': 835,\n",
              " 'throwing': 836,\n",
              " 'argued': 837,\n",
              " 'teapot': 838,\n",
              " 'choke': 839,\n",
              " 'unwillingly': 840,\n",
              " 'filled': 841,\n",
              " 'hide': 842,\n",
              " 'william': 843,\n",
              " 'shakespeare': 844,\n",
              " 'rules': 845,\n",
              " \"he'll\": 846,\n",
              " 'rome': 847,\n",
              " 'removed': 848,\n",
              " 'zigzag': 849,\n",
              " 'year': 850,\n",
              " 'desks': 851,\n",
              " 'twenty': 852,\n",
              " 'content': 853,\n",
              " 'good': 854,\n",
              " 'shoes': 855,\n",
              " 'thistle': 856,\n",
              " \"moment's\": 857,\n",
              " 'met': 858,\n",
              " 'stolen': 859,\n",
              " 'fireplace': 860,\n",
              " 'looked': 861,\n",
              " 'fancied': 862,\n",
              " 'remained': 863,\n",
              " 'hedgehog': 864,\n",
              " 'seven': 865,\n",
              " 'friends': 866,\n",
              " 'w': 867,\n",
              " 'piece': 868,\n",
              " 'accustomed': 869,\n",
              " 'table': 870,\n",
              " 'brushing': 871,\n",
              " 'ridge': 872,\n",
              " 'sides': 873,\n",
              " 'frog': 874,\n",
              " 'books': 875,\n",
              " 'surprise': 876,\n",
              " 'twinkle': 877,\n",
              " 'chose': 878,\n",
              " 'throne': 879,\n",
              " 'modern': 880,\n",
              " 'sky': 881,\n",
              " 'dishes': 882,\n",
              " 'head': 883,\n",
              " \"lizard's\": 884,\n",
              " 'mischief': 885,\n",
              " 'riper': 886,\n",
              " 'chop': 887,\n",
              " 'judge': 888,\n",
              " 'england': 889,\n",
              " 'roughly': 890,\n",
              " 'tale': 891,\n",
              " 'respectful': 892,\n",
              " 'uncommon': 893,\n",
              " 'yet': 894,\n",
              " 'scaly': 895,\n",
              " 'told': 896,\n",
              " 'editions': 897,\n",
              " 'hopeful': 898,\n",
              " 'hush': 899,\n",
              " 'buttercup': 900,\n",
              " 'treated': 901,\n",
              " 'chuckled': 902,\n",
              " 'jelly': 903,\n",
              " 'unable': 904,\n",
              " 'argue': 905,\n",
              " 'checked': 906,\n",
              " 'splashing': 907,\n",
              " 'old': 908,\n",
              " 'cautiously': 909,\n",
              " 'arithmetic': 910,\n",
              " 'curled': 911,\n",
              " 'charges': 912,\n",
              " 'refreshments': 913,\n",
              " 'ordering': 914,\n",
              " 'stand': 915,\n",
              " \"they'll\": 916,\n",
              " 'sentenced': 917,\n",
              " 'goldfish': 918,\n",
              " 'em': 919,\n",
              " 'close': 920,\n",
              " 'as': 921,\n",
              " 'kindly': 922,\n",
              " 'weak': 923,\n",
              " 'dodo': 924,\n",
              " 'noise': 925,\n",
              " 'wig': 926,\n",
              " 'attempt': 927,\n",
              " 'wet': 928,\n",
              " \"not'\": 929,\n",
              " 'added': 930,\n",
              " 'claws': 931,\n",
              " 'rose': 932,\n",
              " 'trumpet': 933,\n",
              " 'barrowful': 934,\n",
              " 'sink': 935,\n",
              " 'pebbles': 936,\n",
              " \"one's\": 937,\n",
              " 'ordered': 938,\n",
              " 'shyly': 939,\n",
              " 'yer': 940,\n",
              " 'speak': 941,\n",
              " 'considering': 942,\n",
              " 'pretending': 943,\n",
              " 'qwertyyou': 944,\n",
              " 'had': 945,\n",
              " 'soles': 946,\n",
              " 'tongue': 947,\n",
              " 'distant': 948,\n",
              " 'sends': 949,\n",
              " 'double': 950,\n",
              " 'angrily': 951,\n",
              " 'whenever': 952,\n",
              " \"'qwerty\": 953,\n",
              " 'venture': 954,\n",
              " \"queen's\": 955,\n",
              " 'sulky': 956,\n",
              " 'length': 957,\n",
              " 'oldest': 958,\n",
              " 'tie': 959,\n",
              " 'bit': 960,\n",
              " 'promised': 961,\n",
              " 'immense': 962,\n",
              " 'gardeners': 963,\n",
              " 'bat': 964,\n",
              " 'around': 965,\n",
              " 'blown': 966,\n",
              " 'soldiers': 967,\n",
              " 'sobbed': 968,\n",
              " 'd': 969,\n",
              " 'follow': 970,\n",
              " 'were': 971,\n",
              " 'wore': 972,\n",
              " 'exactly': 973,\n",
              " 'bursting': 974,\n",
              " 'tarts': 975,\n",
              " 'violent': 976,\n",
              " 'latitude': 977,\n",
              " 'ventured': 978,\n",
              " 'he': 979,\n",
              " 'attended': 980,\n",
              " \"you'd\": 981,\n",
              " 'pigeon': 982,\n",
              " 'lady': 983,\n",
              " 'shiver': 984,\n",
              " 'breath': 985,\n",
              " 'ago': 986,\n",
              " 'edwin': 987,\n",
              " 'playing': 988,\n",
              " 'laugh': 989,\n",
              " 'birthday': 990,\n",
              " 'kettle': 991,\n",
              " 'side': 992,\n",
              " 'clock': 993,\n",
              " 'insult': 994,\n",
              " 'relief': 995,\n",
              " 'jurymen': 996,\n",
              " 'suppress': 997,\n",
              " 'knowing': 998,\n",
              " 'making': 999,\n",
              " ...}"
            ]
          },
          "metadata": {
            "tags": []
          },
          "execution_count": 39
        }
      ]
    },
    {
      "metadata": {
        "id": "LGNoVxqiM49t",
        "colab_type": "text"
      },
      "cell_type": "markdown",
      "source": [
        "## Function changes input text to the form ready to feed into next stage of preprocessing"
      ]
    },
    {
      "metadata": {
        "id": "MGI719znqCbZ",
        "colab_type": "code",
        "colab": {}
      },
      "cell_type": "code",
      "source": [
        "def normalize(s):\n",
        "    chars = string.punctuation\n",
        "    for c in chars:\n",
        "        s = s.replace(c,\" \"+c+\" \")\n",
        "    s = s.lower()\n",
        "    return s  "
      ],
      "execution_count": 0,
      "outputs": []
    },
    {
      "metadata": {
        "id": "O5HsRB8aqCbb",
        "colab_type": "code",
        "outputId": "072371cd-eb5c-4b0d-f7b5-768cabbde6a9",
        "colab": {
          "base_uri": "https://localhost:8080/",
          "height": 34
        }
      },
      "cell_type": "code",
      "source": [
        "normalize(\" irfvjj; dd:kDJJRRJ\")"
      ],
      "execution_count": 0,
      "outputs": [
        {
          "output_type": "execute_result",
          "data": {
            "text/plain": [
              "' irfvjj ;  dd : kdjjrrj'"
            ]
          },
          "metadata": {
            "tags": []
          },
          "execution_count": 41
        }
      ]
    },
    {
      "metadata": {
        "id": "21BG4Y7nM8i6",
        "colab_type": "text"
      },
      "cell_type": "markdown",
      "source": [
        "## Function accept checks if given list of words is inside dictionary"
      ]
    },
    {
      "metadata": {
        "id": "mD4MftgnqCbe",
        "colab_type": "code",
        "colab": {}
      },
      "cell_type": "code",
      "source": [
        "def accept(words):\n",
        "    for word in words:\n",
        "        if(not word in vocab):\n",
        "            return False\n",
        "    return True"
      ],
      "execution_count": 0,
      "outputs": []
    },
    {
      "metadata": {
        "id": "R_I1QMdJNAwF",
        "colab_type": "text"
      },
      "cell_type": "markdown",
      "source": [
        "## Converting input text to numpy array of indices"
      ]
    },
    {
      "metadata": {
        "id": "DxivrF8RqCbg",
        "colab_type": "code",
        "colab": {}
      },
      "cell_type": "code",
      "source": [
        "def text_to_index(s):\n",
        "    s = normalize(s)\n",
        "    s_words = s.split()\n",
        "    if (not accept(s_words)):\n",
        "        print(\"Error\")\n",
        "        return \"\"\n",
        "    return np.array([word_to_index[word] for word in s_words])"
      ],
      "execution_count": 0,
      "outputs": []
    },
    {
      "metadata": {
        "id": "TgkffCJDNFFI",
        "colab_type": "text"
      },
      "cell_type": "markdown",
      "source": [
        "## Function converts list of words to numpy array of indices"
      ]
    },
    {
      "metadata": {
        "id": "VfbZQEi9qCbi",
        "colab_type": "code",
        "colab": {}
      },
      "cell_type": "code",
      "source": [
        "def word_list_to_index(s_words):\n",
        "    if (not accept(s_words)):\n",
        "        print(\"Error\")\n",
        "        return \"\"\n",
        "    return np.array([word_to_index[word] for word in s_words])"
      ],
      "execution_count": 0,
      "outputs": []
    },
    {
      "metadata": {
        "id": "Fwg0rudmNIrf",
        "colab_type": "text"
      },
      "cell_type": "markdown",
      "source": [
        "## Function converts numpy array of indices back to text"
      ]
    },
    {
      "metadata": {
        "id": "wQrn8D9aqCbk",
        "colab_type": "code",
        "colab": {}
      },
      "cell_type": "code",
      "source": [
        "def index_to_text(inds):\n",
        "    s = \"\"\n",
        "    for i in range(inds.shape[0]):\n",
        "        s += index_to_word[inds[i]] + \" \"\n",
        "    return s"
      ],
      "execution_count": 0,
      "outputs": []
    },
    {
      "metadata": {
        "id": "5vjF7AHoqCbm",
        "colab_type": "code",
        "outputId": "b98c5757-a3c6-4e99-a352-85a78f03b78e",
        "colab": {
          "base_uri": "https://localhost:8080/",
          "height": 34
        }
      },
      "cell_type": "code",
      "source": [
        "index_to_text(text_to_index(\"Alice , ? land\"))"
      ],
      "execution_count": 0,
      "outputs": [
        {
          "output_type": "execute_result",
          "data": {
            "text/plain": [
              "'alice , ? land '"
            ]
          },
          "metadata": {
            "tags": []
          },
          "execution_count": 46
        }
      ]
    },
    {
      "metadata": {
        "id": "jo3bkuAQqCbo",
        "colab_type": "code",
        "outputId": "b0785586-68bc-4b6e-b92f-cfe343aa1233",
        "colab": {
          "base_uri": "https://localhost:8080/",
          "height": 74
        }
      },
      "cell_type": "code",
      "source": [
        "alice"
      ],
      "execution_count": 0,
      "outputs": [
        {
          "output_type": "execute_result",
          "data": {
            "text/plain": [
              "'alice\\'s adventures in wonderlandqwerty                alice\\'s adventures in wonderlandqwerty                          lewis carrollqwerty               the millennium fulcrum edition 3 . 0qwerty                            chapter iqwerty                      down the rabbit - holeqwerty  alice was beginning to get very tired of sitting by her sister on the bank ,  and of having nothing to do :   once or twice she had peeped into the book her sister was reading ,  but it had no pictures or conversations in it ,  \" and what is the use of a book ,  \" thought alice \" without pictures or conversation ? \\'qwerty  so she was considering in her own mind  ( as well as she could ,  for the hot day made her feel very sleepy and stupid )  ,  whether the pleasure of making a daisy - chain would be worth the trouble of getting up and picking the daisies ,  when suddenly a white rabbit with pink eyes ran close by her . qwerty  there was nothing so very remarkable in that ;  nor did alice think it so very much out of the way to hear the rabbit say to itself ,  \" oh dear !   oh dear !   i shall be late !  \"   ( when she thought it over afterwards ,  it occurred to her that she ought to have wondered at this ,  but at the time it all seemed quite natural )  ;  but when the rabbit actually took a watch out of its waistcoat -  pocket ,  and looked at it ,  and then hurried on ,  alice started to her feet ,  for it flashed across her mind that she had never before seen a rabbit with either a waistcoat - pocket ,  or a watch to take out of it ,  and burning with curiosity ,  she ran across the field after it ,  and fortunately was just in time to see it pop down a large rabbit - hole under the hedge . qwerty  in another moment down went alice after it ,  never once considering how in the world she was to get out again . qwerty  the rabbit - hole went straight on like a tunnel for some way ,  and then dipped suddenly down ,  so suddenly that alice had not a moment to think about stopping herself before she found herself falling down a very deep well . qwerty  either the well was very deep ,  or she fell very slowly ,  for she had plenty of time as she went down to look about her and to wonder what was going to happen next .   first ,  she tried to look down and make out what she was coming to ,  but it was too dark to see anything ;  then she looked at the sides of the well ,  and noticed that they were filled with cupboards and book - shelves ;  here and there she saw maps and pictures hung upon pegs .   she took down a jar from one of the shelves as she passed ;  it was labelled \" orange marmalade\\' ,  but to her great disappointment it was empty :   she did not like to drop the jar for fear of killing somebody ,  so managed to put it into one of the cupboards as she fell past it . qwerty  \" well !  \" thought alice to herself ,  \" after such a fall as this ,  i shall think nothing of tumbling down stairs !   how brave they\\'ll all think me at home !   why ,  i wouldn\\'t say anything about it ,  even if i fell off the top of the house !  \"  ( which was very likely true .  ) qwerty  down ,  down ,  down .   would the fall never come to an end !   \" i wonder how many miles i\\'ve fallen by this time ?  \" she said aloud .  \" i must be getting somewhere near the centre of the earth .   let me see :   that would be four thousand miles down ,  i think -  -  \"  ( for ,  you see ,  alice had learnt several things of this sort in her lessons in the schoolroom ,  and though this was not a very good opportunity for showing off her knowledge ,  as there was no one to listen to her ,  still it was good practice to say it over )  \"  -  - yes ,  that\\'s about the right distance -  - but then i wonder what latitude or longitude i\\'ve got to ?  \"   ( alice had no idea what latitude was ,  or longitude either ,  but thought they were nice grand words to say .  ) qwerty  presently she began again .   \" i wonder if i shall fall right through the earth !   how funny it\\'ll seem to come out among the people that walk with their heads downward !   the antipathies ,  i think -  -  \"  ( she was rather glad there was no one listening ,  this time ,  as it didn\\'t sound at all the right word )  \"  -  - but i shall have to ask them what the name of the country is ,  you know .  please ,  ma\\'am ,  is this new zealand or australia ?  \"  ( and she tried to curtsey as she spoke -  - fancy curtseying as you\\'re falling through the air !   do you think you could manage it ?  )   \" and what an ignorant little girl she\\'ll think me for asking !   no ,  it\\'ll never do to ask :   perhaps i shall see it written up somewhere . \\'qwerty  down ,  down ,  down .   there was nothing else to do ,  so alice soon began talking again .   \" dinah\\'ll miss me very much to - night ,  i should think !  \"   ( dinah was the cat .  )   \" i hope they\\'ll remember her saucer of milk at tea - time .   dinah my dear !   i wish you were down here with me !   there are no mice in the air ,  i\\'m afraid ,  but you might catch a bat ,  and that\\'s very like a mouse ,  you know .  but do cats eat bats ,  i wonder ?  \"  and here alice began to get rather sleepy ,  and went on saying to herself ,  in a dreamy sort of way ,  \" do cats eat bats ?   do cats eat bats ?  \" and sometimes ,  \" do bats eat cats ?  \" for ,  you see ,  as she couldn\\'t answer either question ,  it didn\\'t much matter which way she put it .   she felt that she was dozing off ,  and had just begun to dream that she was walking hand in hand with dinah ,  and saying to her very earnestly ,  \" now ,  dinah ,  tell me the truth :   did you ever eat a bat ?  \" when suddenly ,  thump !  thump !  down she came upon a heap of sticks and dry leaves ,  and the fall was over . qwerty  alice was not a bit hurt ,  and she jumped up on to her feet in a moment :   she looked up ,  but it was all dark overhead ;  before her was another long passage ,  and the white rabbit was still in sight ,  hurrying down it .   there was not a moment to be lost :  away went alice like the wind ,  and was just in time to hear it say ,  as it turned a corner ,  \" oh my ears and whiskers ,  how late it\\'s getting !  \"  she was close behind it when she turned the corner ,  but the rabbit was no longer to be seen :   she found herself in a long ,  low hall ,  which was lit up by a row of lamps hanging from the roof . qwerty  there were doors all round the hall ,  but they were all locked ;  and when alice had been all the way down one side and up the other ,  trying every door ,  she walked sadly down the middle ,  wondering how she was ever to get out again . qwerty  suddenly she came upon a little three - legged table ,  all made of solid glass ;  there was nothing on it except a tiny golden key ,  and alice\\'s first thought was that it might belong to one of the doors of the hall ;  but ,  alas !  either the locks were too large ,  or the key was too small ,  but at any rate it would not open any of them .   however ,  on the second time round ,  she came upon a low curtain she had not noticed before ,  and behind it was a little door about fifteen inches high :   she tried the little golden key in the lock ,  and to her great delight it fitted ! qwerty  alice opened the door and found that it led into a small passage ,  not much larger than a rat - hole :   she knelt down and looked along the passage into the loveliest garden you ever saw .  how she longed to get out of that dark hall ,  and wander about among those beds of bright flowers and those cool fountains ,  but she could not even get her head through the doorway ;  \" and even if my head would go through ,  \" thought poor alice ,  \" it would be of very little use without my shoulders .   oh ,  how i wish i could shut up like a telescope !   i think i could ,  if i only know how to begin .  \"  for ,  you see ,  so many out - of - the - way things had happened lately ,  that alice had begun to think that very few things indeed were really impossible . qwerty  there seemed to be no use in waiting by the little door ,  so she went back to the table ,  half hoping she might find another key on it ,  or at any rate a book of rules for shutting people up like telescopes :   this time she found a little bottle on it ,   ( `which certainly was not here before ,  \" said alice ,  )  and round the neck of the bottle was a paper label ,  with the words \" drink me \" beautifully printed on it in large letters . qwerty  it was all very well to say \" drink me ,  \" but the wise little alice was not going to do that in a hurry .   \" no ,  i\\'ll look first ,  \" she said ,  \" and see whether it\\'s marked  \" poison \"  or not\\' ;  for she had read several nice little histories about children who had got burnt ,  and eaten up by wild beasts and other unpleasant things ,  all because they would not remember the simple rules their friends had taught them :   such as ,  that a red - hot poker will burn you if you hold it too long ;  and that if you cut your finger very deeply with a knife ,  it usually bleeds ;  and she had never forgotten that ,  if you drink much from a bottle marked \" poison ,  \" it is almost certain to disagree with you ,  sooner or later . qwerty  however ,  this bottle was not marked \" poison ,  \" so alice ventured to taste it ,  and finding it very nice ,   ( it had ,  in fact ,  a sort of mixed flavour of cherry - tart ,  custard ,  pine - apple ,  roast turkey ,  toffee ,  and hot buttered toast ,  )  she very soon finished it off . qwerty                                                                    qwerty                                                              qwerty                                                                    qwerty  \" what a curious feeling !  \" said alice ;  \" i must be shutting up like a telescope . \\'qwerty  and so it was indeed :   she was now only ten inches high ,  and her face brightened up at the thought that she was now the right size for going through the little door into that lovely garden .  first ,  however ,  she waited for a few minutes to see if she was going to shrink any further :   she felt a little nervous about this ;  \" for it might end ,  you know ,  \" said alice to herself ,  \" in my going out altogether ,  like a candle .   i wonder what i should be like then ?  \"  and she tried to fancy what the flame of a candle is like after the candle is blown out ,  for she could not remember ever having seen such a thing . qwerty  after a while ,  finding that nothing more happened ,  she decided on going into the garden at once ;  but ,  alas for poor alice !  when she got to the door ,  she found she had forgotten the little golden key ,  and when she went back to the table for it ,  she found she could not possibly reach it :   she could see it quite plainly through the glass ,  and she tried her best to climb up one of the legs of the table ,  but it was too slippery ;  and when she had tired herself out with trying ,  the poor little thing sat down and cried . qwerty  \" come ,  there\\'s no use in crying like that !  \" said alice to herself ,  rather sharply ;  \" i advise you to leave off this minute !  \" she generally gave herself very good advice ,   ( though she very seldom followed it )  ,  and sometimes she scolded herself so severely as to bring tears into her eyes ;  and once she remembered trying to box her own ears for having cheated herself in a game of croquet she was playing against herself ,  for this curious child was very fond of pretending to be two people .   \" but it\\'s no use now ,  \" thought poor alice ,  \" to pretend to be two people !   why ,  there\\'s hardly enough of me left to make one respectable person ! \\'qwerty  soon her eye fell on a little glass box that was lying under the table :   she opened it ,  and found in it a very small cake ,  on which the words \" eat me \" were beautifully marked in currants .  \" well ,  i\\'ll eat it ,  \" said alice ,  \" and if it makes me grow larger ,  i can reach the key ;  and if it makes me grow smaller ,  i can creep under the door ;  so either way i\\'ll get into the garden ,  and i don\\'t care which happens ! \\'qwerty  she ate a little bit ,  and said anxiously to herself ,  \" which way ?   which way ? \\' ,  holding her hand on the top of her head to feel which way it was growing ,  and she was quite surprised to find that she remained the same size :   to be sure ,  this generally happens when one eats cake ,  but alice had got so much into the way of expecting nothing but out - of - the - way things to happen ,  that it seemed quite dull and stupid for life to go on in the common way . qwerty  so she set to work ,  and very soon finished off the cake . qwerty                                                                    qwerty                                                              qwerty                                                                    qwerty                           chapter iiqwerty                        the pool of tearsqwerty  \" curiouser and curiouser !  \" cried alice  ( she was so much surprised ,  that for the moment she quite forgot how to speak good english )  ;  \" now i\\'m opening out like the largest telescope that ever was !   good - bye ,  feet !  \"  ( for when she looked down at her feet ,  they seemed to be almost out of sight ,  they were getting so far off )  .   \" oh ,  my poor little feet ,  i wonder who will put on your shoes and stockings for you now ,  dears ?   i\\'m sure  _ i _  shan\\'t be able !   i shall be a great deal too far off to trouble myself about you :   you must manage the best way you can ;   -  - but i must be kind to them ,  \" thought alice ,  \" or perhaps they won\\'t walk the way i want to go !   let me see :   i\\'ll give them a new pair of boots every christmas . \\'qwerty  and she went on planning to herself how she would manage it .  \" they must go by the carrier ,  \" she thought ;  \" and how funny it\\'ll seem ,  sending presents to one\\'s own feet !   and how odd the directions will look ! qwerty            alice\\'s right foot ,  esq .                  hearthrug ,                      near the fender ,                           ( with alice\\'s love )  . qwertyoh dear ,  what nonsense i\\'m talking ! \\'qwerty  just then her head struck against the roof of the hall :   in fact she was now more than nine feet high ,  and she at once took up the little golden key and hurried off to the garden door . qwerty  poor alice !   it was as much as she could do ,  lying down on one side ,  to look through into the garden with one eye ;  but to get through was more hopeless than ever :   she sat down and began to cry again . qwerty  \" you ought to be ashamed of yourself ,  \" said alice ,  \" a great girl like you ,  \"  ( she might well say this )  ,  \" to go on crying in this way !   stop this moment ,  i tell you !  \"  but she went on all the same ,  shedding gallons of tears ,  until there was a large pool all round her ,  about four inches deep and reaching half down the hall . qwerty  after a time she heard a little pattering of feet in the distance ,  and she hastily dried her eyes to see what was coming .  it was the white rabbit returning ,  splendidly dressed ,  with a pair of white kid gloves in one hand and a large fan in the other :   he came trotting along in a great hurry ,  muttering to himself as he came ,  \" oh !  the duchess ,  the duchess !  oh !  won\\'t she be savage if i\\'ve kept her waiting !  \"  alice felt so desperate that she was ready to ask help of any one ;  so ,  when the rabbit came near her ,  she began ,  in a low ,  timid voice ,  \" if you please ,  sir -  -  \"  the rabbit started violently ,  dropped the white kid gloves and the fan ,  and skurried away into the darkness as hard as he could go . qwerty  alice took up the fan and gloves ,  and ,  as the hall was very hot ,  she kept fanning herself all the time she went on talking :  \" dear ,  dear !   how queer everything is to - day !   and yesterday things went on just as usual .   i wonder if i\\'ve been changed in the night ?   let me think :   was i the same when i got up this morning ?   i almost think i can remember feeling a little different .   but if i\\'m not the same ,  the next question is ,  who in the world am i ?   ah ,  that\\'s the great puzzle !  \"  and she began thinking over all the children she knew that were of the same age as herself ,  to see if she could have been changed for any of them . qwerty  \" i\\'m sure i\\'m not ada ,  \" she said ,  \" for her hair goes in such long ringlets ,  and mine doesn\\'t go in ringlets at all ;  and i\\'m sure i can\\'t be mabel ,  for i know all sorts of things ,  and she ,  oh !  she knows such a very little !   besides ,  she\\'s she ,  and i\\'m i ,  and -  - oh dear ,  how puzzling it all is !   i\\'ll try if i know all the things i used to know .   let me see :   four times five is twelve ,  and four times six is thirteen ,  and four times seven is -  - oh dear !  i shall never get to twenty at that rate !   however ,  the multiplication table doesn\\'t signify :   let\\'s try geography .  london is the capital of paris ,  and paris is the capital of rome ,  and rome -  - no ,  that\\'s all wrong ,  i\\'m certain !   i must have been changed for mabel !   i\\'ll try and say  \" how doth the little -  -  \"  \" and she crossed her hands on her lap as if she were saying lessons ,  and began to repeat it ,  but her voice sounded hoarse and strange ,  and the words did not come the same as they used to do :  -  - qwerty            \" how doth the little crocodile               improve his shining tail ,              and pour the waters of the nile               on every golden scale ! qwerty            \" how cheerfully he seems to grin ,                how neatly spread his claws ,              and welcome little fishes in               with gently smiling jaws ! \\'qwerty  \" i\\'m sure those are not the right words ,  \" said poor alice ,  and her eyes filled with tears again as she went on ,  \" i must be mabel after all ,  and i shall have to go and live in that poky little house ,  and have next to no toys to play with ,  and oh !  ever so many lessons to learn !   no ,  i\\'ve made up my mind about it ;  if i\\'m mabel ,  i\\'ll stay down here !   it\\'ll be no use their putting their heads down and saying  \" come up again ,  dear !  \"   i shall only look up and say  \" who am i then ?   tell me that first ,  and then ,  if i like being that person ,  i\\'ll come up :   if not ,  i\\'ll stay down here till i\\'m somebody else \"  -  - but ,  oh dear !  \" cried alice ,  with a sudden burst of tears ,  \" i do wish they would put their heads down !   i am so very tired of being all alone here ! \\'qwerty  as she said this she looked down at her hands ,  and was surprised to see that she had put on one of the rabbit\\'s little white kid gloves while she was talking .   \" how can i have done that ?  \" she thought .   \" i must be growing small again .  \"  she got up and went to the table to measure herself by it ,  and found that ,  as nearly as she could guess ,  she was now about two feet high ,  and was going on shrinking rapidly :   she soon found out that the cause of this was the fan she was holding ,  and she dropped it hastily ,  just in time to avoid shrinking away altogether . qwerty`that was a narrow escape !  \" said alice ,  a good deal frightened at the sudden change ,  but very glad to find herself still in existence ;  \" and now for the garden !  \" and she ran with all speed back to the little door :   but ,  alas !  the little door was shut again ,  and the little golden key was lying on the glass table as before ,  \" and things are worse than ever ,  \" thought the poor child ,  \" for i never was so small as this before ,  never !   and i declare it\\'s too bad ,  that it is ! \\'qwerty  as she said these words her foot slipped ,  and in another moment ,  splash !  she was up to her chin in salt water .   her first idea was that she had somehow fallen into the sea ,  \" and in that case i can go back by railway ,  \" she said to herself .    ( alice had been to the seaside once in her life ,  and had come to the general conclusion ,  that wherever you go to on the english coast you find a number of bathing machines in the sea ,  some children digging in the sand with wooden spades ,  then a row of lodging houses ,  and behind them a railway station .  )   however ,  she soon made out that she was in the pool of tears which she had wept when she was nine feet high . qwerty  \" i wish i hadn\\'t cried so much !  \" said alice ,  as she swam about ,  trying to find her way out .   \" i shall be punished for it now ,  i suppose ,  by being drowned in my own tears !   that will be a queer thing ,  to be sure !   however ,  everything is queer to - day . \\'qwerty  just then she heard something splashing about in the pool a little way off ,  and she swam nearer to make out what it was :   at first she thought it must be a walrus or hippopotamus ,  but then she remembered how small she was now ,  and she soon made out that it was only a mouse that had slipped in like herself . qwerty  \" would it be of any use ,  now ,  \" thought alice ,  \" to speak to this mouse ?   everything is so out - of - the - way down here ,  that i should think very likely it can talk :   at any rate ,  there\\'s no harm in trying .  \"  so she began :   \" o mouse ,  do you know the way out of this pool ?   i am very tired of swimming about here ,  o mouse !  \"  ( alice thought this must be the right way of speaking to a mouse :  she had never done such a thing before ,  but she remembered having seen in her brother\\'s latin grammar ,  \" a mouse -  - of a mouse -  - to a mouse -  - a mouse -  - o mouse ! \\' )   the mouse looked at her rather inquisitively ,  and seemed to her to wink with one of its little eyes ,  but it said nothing . qwerty  \" perhaps it doesn\\'t understand english ,  \" thought alice ;  \" i daresay it\\'s a french mouse ,  come over with william the conqueror .  \"   ( for ,  with all her knowledge of history ,  alice had no very clear notion how long ago anything had happened .  )   so she began again :   \" ou est ma chatte ?  \" which was the first sentence in her french lesson - book .   the mouse gave a sudden leap out of the water ,  and seemed to quiver all over with fright .   \" oh ,  i beg your pardon !  \" cried alice hastily ,  afraid that she had hurt the poor animal\\'s feelings .   \" i quite forgot you didn\\'t like cats . \\'qwerty  \" not like cats !  \" cried the mouse ,  in a shrill ,  passionate voice .   \" would you like cats if you were me ? \\'qwerty  \" well ,  perhaps not ,  \" said alice in a soothing tone :   \" don\\'t be angry about it .   and yet i wish i could show you our cat dinah :  i think you\\'d take a fancy to cats if you could only see her .  she is such a dear quiet thing ,  \" alice went on ,  half to herself ,  as she swam lazily about in the pool ,  \" and she sits purring so nicely by the fire ,  licking her paws and washing her face -  - and she is such a nice soft thing to nurse -  - and she\\'s such a capital one for catching mice -  - oh ,  i beg your pardon !  \" cried alice again ,  for this time the mouse was bristling all over ,  and she felt certain it must be really offended .   \" we won\\'t talk about her any more if you\\'d rather not . \\'qwerty  \" we indeed !  \" cried the mouse ,  who was trembling down to the end of his tail .   \" as if i would talk on such a subject !   our family always hated cats :   nasty ,  low ,  vulgar things !   don\\'t let me hear the name again ! \\'qwerty  \" i won\\'t indeed !  \" said alice ,  in a great hurry to change the subject of conversation .   \" are you -  - are you fond -  - of -  - of dogs ?  \" the mouse did not answer ,  so alice went on eagerly :   \" there is such a nice little dog near our house i should like to show you !  a little bright - eyed terrier ,  you know ,  with oh ,  such long curly brown hair !   and it\\'ll fetch things when you throw them ,  and it\\'ll sit up and beg for its dinner ,  and all sorts of things -  - i can\\'t remember half of them -  - and it belongs to a farmer ,  you know ,  and he says it\\'s so useful ,  it\\'s worth a hundred pounds !  he says it kills all the rats and -  - oh dear !  \" cried alice in a sorrowful tone ,  \" i\\'m afraid i\\'ve offended it again !  \"  for the mouse was swimming away from her as hard as it could go ,  and making quite a commotion in the pool as it went . qwerty  so she called softly after it ,  \" mouse dear !   do come back again ,  and we won\\'t talk about cats or dogs either ,  if you don\\'t like them !  \"  when the mouse heard this ,  it turned round and swam slowly back to her :   its face was quite pale  ( with passion ,  alice thought )  ,  and it said in a low trembling voice ,  \" let us get to the shore ,  and then i\\'ll tell you my history ,  and you\\'ll understand why it is i hate cats and dogs . \\'qwerty  it was high time to go ,  for the pool was getting quite crowded with the birds and animals that had fallen into it :   there were a duck and a dodo ,  a lory and an eaglet ,  and several other curious creatures .   alice led the way ,  and the whole party swam to the shore . qwerty                           chapter iiiqwerty                  a caucus - race and a long taleqwerty  they were indeed a queer - looking party that assembled on the bank -  - the birds with draggled feathers ,  the animals with their fur clinging close to them ,  and all dripping wet ,  cross ,  and uncomfortable . qwerty  the first question of course was ,  how to get dry again :   they had a consultation about this ,  and after a few minutes it seemed quite natural to alice to find herself talking familiarly with them ,  as if she had known them all her life .   indeed ,  she had quite a long argument with the lory ,  who at last turned sulky ,  and would only say ,  \" i am older than you ,  and must know better\\' ;  and this alice would not allow without knowing how old it was ,  and ,  as the lory positively refused to tell its age ,  there was no more to be said . qwerty  at last the mouse ,  who seemed to be a person of authority among them ,  called out ,  \" sit down ,  all of you ,  and listen to me !   i\\'ll soon make you dry enough !  \"  they all sat down at once ,  in a large ring ,  with the mouse in the middle .   alice kept her eyes anxiously fixed on it ,  for she felt sure she would catch a bad cold if she did not get dry very soon . qwerty  \" ahem !  \" said the mouse with an important air ,  \" are you all ready ?  this is the driest thing i know .   silence all round ,  if you please !   \" william the conqueror ,  whose cause was favoured by the pope ,  was soon submitted to by the english ,  who wanted leaders ,  and had been of late much accustomed to usurpation and conquest .   edwin and morcar ,  the earls of mercia and northumbria -  -  \" \\'qwerty  \" ugh !  \" said the lory ,  with a shiver . qwerty  \" i beg your pardon !  \" said the mouse ,  frowning ,  but very politely :   \" did you speak ? \\'qwerty  \" not i !  \" said the lory hastily . qwerty  \" i thought you did ,  \" said the mouse .   \"  -  - i proceed .    \" edwin and morcar ,  the earls of mercia and northumbria ,  declared for him :  and even stigand ,  the patriotic archbishop of canterbury ,  found it advisable -  -  \" \\'qwerty  \" found what ?  \" said the duck . qwerty  \" found it ,  \" the mouse replied rather crossly :   \" of course you know what  \" it \"  means . \\'qwerty  \" i know what  \" it \"  means well enough ,  when i find a thing ,  \" said the duck :   \" it\\'s generally a frog or a worm .   the question is ,  what did the archbishop find ? \\'qwerty  the mouse did not notice this question ,  but hurriedly went on ,  \"  \"  -  - found it advisable to go with edgar atheling to meet william and offer him the crown .   william\\'s conduct at first was moderate .   but the insolence of his normans -  -  \"   how are you getting on now ,  my dear ?  \" it continued ,  turning to alice as it spoke . qwerty  \" as wet as ever ,  \" said alice in a melancholy tone :   \" it doesn\\'t seem to dry me at all . \\'qwerty  \" in that case ,  \" said the dodo solemnly ,  rising to its feet ,  \" i move that the meeting adjourn ,  for the immediate adoption of more energetic remedies -  - \\'qwerty  \" speak english !  \" said the eaglet .   \" i don\\'t know the meaning of half those long words ,  and ,  what\\'s more ,  i don\\'t believe you do either !  \"  and the eaglet bent down its head to hide a smile :  some of the other birds tittered audibly . qwerty  \" what i was going to say ,  \" said the dodo in an offended tone ,  \" was ,  that the best thing to get us dry would be a caucus - race . \\'qwerty  \" what is a caucus - race ?  \" said alice ;  not that she wanted much to know ,  but the dodo had paused as if it thought that somebody ought to speak ,  and no one else seemed inclined to say anything . qwerty  \" why ,  \" said the dodo ,  \" the best way to explain it is to do it .  \"  ( and ,  as you might like to try the thing yourself ,  some winter day ,  i will tell you how the dodo managed it .  ) qwerty  first it marked out a race - course ,  in a sort of circle ,   ( `the exact shape doesn\\'t matter ,  \" it said ,  )  and then all the party were placed along the course ,  here and there .   there was no \" one ,  two ,  three ,  and away ,  \" but they began running when they liked ,  and left off when they liked ,  so that it was not easy to know when the race was over .   however ,  when they had been running half an hour or so ,  and were quite dry again ,  the dodo suddenly called out \" the race is over !  \" and they all crowded round it ,  panting ,  and asking ,  \" but who has won ? \\'qwerty  this question the dodo could not answer without a great deal of thought ,  and it sat for a long time with one finger pressed upon its forehead  ( the position in which you usually see shakespeare ,  in the pictures of him )  ,  while the rest waited in silence .   at last the dodo said ,  \" everybody has won ,  and all must have prizes . \\'qwerty  \" but who is to give the prizes ?  \" quite a chorus of voices asked . qwerty  \" why ,  she ,  of course ,  \" said the dodo ,  pointing to alice with one finger ;  and the whole party at once crowded round her ,  calling out in a confused way ,  \" prizes !  prizes ! \\'qwerty  alice had no idea what to do ,  and in despair she put her hand in her pocket ,  and pulled out a box of comfits ,   ( luckily the salt water had not got into it )  ,  and handed them round as prizes .  there was exactly one a - piece all round . qwerty  \" but she must have a prize herself ,  you know ,  \" said the mouse . qwerty  \" of course ,  \" the dodo replied very gravely .   \" what else have you got in your pocket ?  \" he went on ,  turning to alice . qwerty  \" only a thimble ,  \" said alice sadly . qwerty  \" hand it over here ,  \" said the dodo . qwerty  then they all crowded round her once more ,  while the dodo solemnly presented the thimble ,  saying \" we beg your acceptance of this elegant thimble\\' ;  and ,  when it had finished this short speech ,  they all cheered . qwerty  alice thought the whole thing very absurd ,  but they all looked so grave that she did not dare to laugh ;  and ,  as she could not think of anything to say ,  she simply bowed ,  and took the thimble ,  looking as solemn as she could . qwerty  the next thing was to eat the comfits :   this caused some noise and confusion ,  as the large birds complained that they could not taste theirs ,  and the small ones choked and had to be patted on the back .   however ,  it was over at last ,  and they sat down again in a ring ,  and begged the mouse to tell them something more . qwerty  \" you promised to tell me your history ,  you know ,  \" said alice ,  \" and why it is you hate -  - c and d ,  \" she added in a whisper ,  half afraid that it would be offended again . qwerty  \" mine is a long and a sad tale !  \" said the mouse ,  turning to alice ,  and sighing . qwerty  \" it is a long tail ,  certainly ,  \" said alice ,  looking down with wonder at the mouse\\'s tail ;  \" but why do you call it sad ?  \"  and she kept on puzzling about it while the mouse was speaking ,  so that her idea of the tale was something like this :  -  - qwerty                    \" fury said to a                    mouse ,  that he                  met in the                house ,               \" let us               both go to                 law :   i will                   prosecute                     you .    -  - come ,                         i\\'ll take no                         denial ;  we                      must have a                  trial :   for               really this            morning i\\'ve           nothing          to do .  \"             said the              mouse to the                cur ,   \" such                  a trial ,                     dear sir ,                           with                      no jury                   or judge ,                  would be               wasting              our               breath .  \"                  \" i\\'ll be                  judge ,  i\\'ll                    be jury ,  \"                           said                     cunning                       old fury :                        \" i\\'ll                       try the                          whole                           cause ,                               and                         condemn                        you                       to                        death .  \" \\'qwerty  \" you are not attending !  \" said the mouse to alice severely .  \" what are you thinking of ? \\'qwerty  \" i beg your pardon ,  \" said alice very humbly :   \" you had got to the fifth bend ,  i think ? \\'qwerty  \" i had not !  \" cried the mouse ,  sharply and very angrily . qwerty  \" a knot !  \" said alice ,  always ready to make herself useful ,  and looking anxiously about her .   \" oh ,  do let me help to undo it ! \\'qwerty  \" i shall do nothing of the sort ,  \" said the mouse ,  getting up and walking away .   \" you insult me by talking such nonsense ! \\'qwerty  \" i didn\\'t mean it !  \" pleaded poor alice .   \" but you\\'re so easily offended ,  you know ! \\'qwerty  the mouse only growled in reply . qwerty  \" please come back and finish your story !  \" alice called after it ;  and the others all joined in chorus ,  \" yes ,  please do !  \" but the mouse only shook its head impatiently ,  and walked a little quicker . qwerty  \" what a pity it wouldn\\'t stay !  \" sighed the lory ,  as soon as it was quite out of sight ;  and an old crab took the opportunity of saying to her daughter \" ah ,  my dear !   let this be a lesson to you never to lose your temper !  \"  \" hold your tongue ,  ma !  \" said the young crab ,  a little snappishly .   \" you\\'re enough to try the patience of an oyster ! \\'qwerty  \" i wish i had our dinah here ,  i know i do !  \" said alice aloud ,  addressing nobody in particular .   \" she\\'d soon fetch it back ! \\'qwerty  \" and who is dinah ,  if i might venture to ask the question ?  \" said the lory . qwerty  alice replied eagerly ,  for she was always ready to talk about her pet :   \" dinah\\'s our cat .   and she\\'s such a capital one for catching mice you can\\'t think !   and oh ,  i wish you could see her after the birds !   why ,  she\\'ll eat a little bird as soon as look at it ! \\'qwerty  this speech caused a remarkable sensation among the party .  some of the birds hurried off at once :   one old magpie began wrapping itself up very carefully ,  remarking ,  \" i really must be getting home ;  the night - air doesn\\'t suit my throat !  \" and a canary called out in a trembling voice to its children ,  \" come away ,  my dears !   it\\'s high time you were all in bed !  \"  on various pretexts they all moved off ,  and alice was soon left alone . qwerty  \" i wish i hadn\\'t mentioned dinah !  \" she said to herself in a melancholy tone .   \" nobody seems to like her ,  down here ,  and i\\'m sure she\\'s the best cat in the world !   oh ,  my dear dinah !   i wonder if i shall ever see you any more !  \"  and here poor alice began to cry again ,  for she felt very lonely and low - spirited .  in a little while ,  however ,  she again heard a little pattering of footsteps in the distance ,  and she looked up eagerly ,  half hoping that the mouse had changed his mind ,  and was coming back to finish his story . qwerty                           chapter ivqwerty                the rabbit sends in a little billqwerty  it was the white rabbit ,  trotting slowly back again ,  and looking anxiously about as it went ,  as if it had lost something ;  and she heard it muttering to itself \" the duchess !   the duchess !  oh my dear paws !   oh my fur and whiskers !   she\\'ll get me executed ,  as sure as ferrets are ferrets !   where can i have dropped them ,  i wonder ?  \"  alice guessed in a moment that it was looking for the fan and the pair of white kid gloves ,  and she very good - naturedly began hunting about for them ,  but they were nowhere to be seen -  - everything seemed to have changed since her swim in the pool ,  and the great hall ,  with the glass table and the little door ,  had vanished completely . qwerty  very soon the rabbit noticed alice ,  as she went hunting about ,  and called out to her in an angry tone ,  \" why ,  mary ann ,  what are you doing out here ?   run home this moment ,  and fetch me a pair of gloves and a fan !   quick ,  now !  \"  and alice was so much frightened that she ran off at once in the direction it pointed to ,  without trying to explain the mistake it had made . qwerty  \" he took me for his housemaid ,  \" she said to herself as she ran .  \" how surprised he\\'ll be when he finds out who i am !   but i\\'d better take him his fan and gloves -  - that is ,  if i can find them .  \" as she said this ,  she came upon a neat little house ,  on the door of which was a bright brass plate with the name \" w .  rabbit \" engraved upon it .   she went in without knocking ,  and hurried upstairs ,  in great fear lest she should meet the real mary ann ,  and be turned out of the house before she had found the fan and gloves . qwerty  \" how queer it seems ,  \" alice said to herself ,  \" to be going messages for a rabbit !   i suppose dinah\\'ll be sending me on messages next !  \"  and she began fancying the sort of thing that would happen :   \"  \" miss alice !   come here directly ,  and get ready for your walk !  \"   \" coming in a minute ,  nurse !   but i\\'ve got to see that the mouse doesn\\'t get out .  \"   only i don\\'t think ,  \" alice went on ,  \" that they\\'d let dinah stop in the house if it began ordering people about like that ! \\'qwerty  by this time she had found her way into a tidy little room with a table in the window ,  and on it  ( as she had hoped )  a fan and two or three pairs of tiny white kid gloves :   she took up the fan and a pair of the gloves ,  and was just going to leave the room ,  when her eye fell upon a little bottle that stood near the looking -  glass .   there was no label this time with the words \" drink me ,  \" but nevertheless she uncorked it and put it to her lips .   \" i know something interesting is sure to happen ,  \" she said to herself ,  \" whenever i eat or drink anything ;  so i\\'ll just see what this bottle does .   i do hope it\\'ll make me grow large again ,  for really i\\'m quite tired of being such a tiny little thing ! \\'qwerty  it did so indeed ,  and much sooner than she had expected :  before she had drunk half the bottle ,  she found her head pressing against the ceiling ,  and had to stoop to save her neck from being broken .   she hastily put down the bottle ,  saying to herself \" that\\'s quite enough -  - i hope i shan\\'t grow any more -  - as it is ,  i can\\'t get out at the door -  - i do wish i hadn\\'t drunk quite so much ! \\'qwerty  alas !  it was too late to wish that !   she went on growing ,  and growing ,  and very soon had to kneel down on the floor :   in another minute there was not even room for this ,  and she tried the effect of lying down with one elbow against the door ,  and the other arm curled round her head .   still she went on growing ,  and ,  as a last resource ,  she put one arm out of the window ,  and one foot up the chimney ,  and said to herself \" now i can do no more ,  whatever happens .   what will become of me ? \\'qwerty  luckily for alice ,  the little magic bottle had now had its full effect ,  and she grew no larger :   still it was very uncomfortable ,  and ,  as there seemed to be no sort of chance of her ever getting out of the room again ,  no wonder she felt unhappy . qwerty  \" it was much pleasanter at home ,  \" thought poor alice ,  \" when one wasn\\'t always growing larger and smaller ,  and being ordered about by mice and rabbits .   i almost wish i hadn\\'t gone down that rabbit - hole -  - and yet -  - and yet -  - it\\'s rather curious ,  you know ,  this sort of life !   i do wonder what can have happened to me !  when i used to read fairy - tales ,  i fancied that kind of thing never happened ,  and now here i am in the middle of one !   there ought to be a book written about me ,  that there ought !   and when i grow up ,  i\\'ll write one -  - but i\\'m grown up now ,  \" she added in a sorrowful tone ;  \" at least there\\'s no room to grow up any more here . \\'qwerty  \" but then ,  \" thought alice ,  \" shall i never get any older than i am now ?   that\\'ll be a comfort ,  one way -  - never to be an old woman -  -  but then -  - always to have lessons to learn !   oh ,  i shouldn\\'t like that ! \\'qwerty  \" oh ,  you foolish alice !  \" she answered herself .   \" how can you learn lessons in here ?   why ,  there\\'s hardly room for you ,  and no room at all for any lesson - books ! \\'qwerty  and so she went on ,  taking first one side and then the other ,  and making quite a conversation of it altogether ;  but after a few minutes she heard a voice outside ,  and stopped to listen . qwerty  \" mary ann !   mary ann !  \" said the voice .   \" fetch me my gloves this moment !  \"  then came a little pattering of feet on the stairs .   alice knew it was the rabbit coming to look for her ,  and she trembled till she shook the house ,  quite forgetting that she was now about a thousand times as large as the rabbit ,  and had no reason to be afraid of it . qwerty  presently the rabbit came up to the door ,  and tried to open it ;  but ,  as the door opened inwards ,  and alice\\'s elbow was pressed hard against it ,  that attempt proved a failure .   alice heard it say to itself \" then i\\'ll go round and get in at the window . \\'qwerty  \" that you won\\'t \" thought alice ,  and ,  after waiting till she fancied she heard the rabbit just under the window ,  she suddenly spread out her hand ,  and made a snatch in the air .   she did not get hold of anything ,  but she heard a little shriek and a fall ,  and a crash of broken glass ,  from which she concluded that it was just possible it had fallen into a cucumber - frame ,  or something of the sort . qwerty  next came an angry voice -  - the rabbit\\'s -  - `pat !  pat !   where are you ?  \"  and then a voice she had never heard before ,  \" sure then i\\'m here !   digging for apples ,  yer honour ! \\'qwerty  \" digging for apples ,  indeed !  \" said the rabbit angrily .   \" here !  come and help me out of this !  \"   ( sounds of more broken glass .  ) qwerty  \" now tell me ,  pat ,  what\\'s that in the window ? \\'qwerty  \" sure ,  it\\'s an arm ,  yer honour !  \"   ( he pronounced it \" arrum . \\' ) qwerty  \" an arm ,  you goose !    who ever saw one that size ?   why ,  it fills the whole window ! \\'qwerty  \" sure ,  it does ,  yer honour :   but it\\'s an arm for all that . \\'qwerty  \" well ,  it\\'s got no business there ,  at any rate :   go and take it away ! \\'qwerty  there was a long silence after this ,  and alice could only hear whispers now and then ;  such as ,  \" sure ,  i don\\'t like it ,  yer honour ,  at all ,  at all !  \"  \" do as i tell you ,  you coward !  \" and at last she spread out her hand again ,  and made another snatch in the air .   this time there were two little shrieks ,  and more sounds of broken glass .   \" what a number of cucumber - frames there must be !  \" thought alice .   \" i wonder what they\\'ll do next !   as for pulling me out of the window ,  i only wish they could !   i\\'m sure i don\\'t want to stay in here any longer ! \\'qwerty  she waited for some time without hearing anything more :   at last came a rumbling of little cartwheels ,  and the sound of a good many voices all talking together :   she made out the words :  \" where\\'s the other ladder ?  -  - why ,  i hadn\\'t to bring but one ;  bill\\'s got the other -  - bill !  fetch it here ,  lad !  -  - here ,  put \" em up at this corner -  - no ,  tie \" em together first -  - they don\\'t reach half high enough yet -  - oh !  they\\'ll do well enough ;  don\\'t be particular -  -  here ,  bill !  catch hold of this rope -  - will the roof bear ?  -  - mind that loose slate -  - oh ,  it\\'s coming down !   heads below !  \"  ( a loud crash )  -  - `now ,  who did that ?  -  - it was bill ,  i fancy -  - who\\'s to go down the chimney ?  -  - nay ,  i shan\\'t !  you do it !  -  - that i won\\'t ,  then !  -  - bill\\'s to go down -  - here ,  bill !  the master says you\\'re to go down the chimney ! \\'qwerty  \" oh !  so bill\\'s got to come down the chimney ,  has he ?  \" said alice to herself .   \" shy ,  they seem to put everything upon bill !  i wouldn\\'t be in bill\\'s place for a good deal :   this fireplace is narrow ,  to be sure ;  but i think i can kick a little ! \\'qwerty  she drew her foot as far down the chimney as she could ,  and waited till she heard a little animal  ( she couldn\\'t guess of what sort it was )  scratching and scrambling about in the chimney close above her :   then ,  saying to herself \" this is bill ,  \" she gave one sharp kick ,  and waited to see what would happen next . qwerty  the first thing she heard was a general chorus of \" there goes bill !  \" then the rabbit\\'s voice along -  - `catch him ,  you by the hedge !  \" then silence ,  and then another confusion of voices -  - `hold up his head -  - brandy now -  - don\\'t choke him -  - how was it ,  old fellow ?  what happened to you ?   tell us all about it ! \\'qwerty  last came a little feeble ,  squeaking voice ,   ( `that\\'s bill ,  \" thought alice ,  )  \" well ,  i hardly know -  - no more ,  thank ye ;  i\\'m better now -  - but i\\'m a deal too flustered to tell you -  - all i know is ,  something comes at me like a jack - in - the - box ,  and up i goes like a sky - rocket ! \\'qwerty  \" so you did ,  old fellow !  \" said the others . qwerty  \" we must burn the house down !  \" said the rabbit\\'s voice ;  and alice called out as loud as she could ,  \" if you do .   i\\'ll set dinah at you ! \\'qwerty  there was a dead silence instantly ,  and alice thought to herself ,  \" i wonder what they will do next !   if they had any sense ,  they\\'d take the roof off .  \"  after a minute or two ,  they began moving about again ,  and alice heard the rabbit say ,  \" a barrowful will do ,  to begin with . \\'qwerty  \" a barrowful of what ?  \" thought alice ;  but she had not long to doubt ,  for the next moment a shower of little pebbles came rattling in at the window ,  and some of them hit her in the face .  \" i\\'ll put a stop to this ,  \" she said to herself ,  and shouted out ,  \" you\\'d better not do that again !  \" which produced another dead silence . qwerty  alice noticed with some surprise that the pebbles were all turning into little cakes as they lay on the floor ,  and a bright idea came into her head .   \" if i eat one of these cakes ,  \" she thought ,  \" it\\'s sure to make some change in my size ;  and as it can\\'t possibly make me larger ,  it must make me smaller ,  i suppose . \\'qwerty  so she swallowed one of the cakes ,  and was delighted to find that she began shrinking directly .   as soon as she was small enough to get through the door ,  she ran out of the house ,  and found quite a crowd of little animals and birds waiting outside .  the poor little lizard ,  bill ,  was in the middle ,  being held up by two guinea - pigs ,  who were giving it something out of a bottle .  they all made a rush at alice the moment she appeared ;  but she ran off as hard as she could ,  and soon found herself safe in a thick wood . qwerty  \" the first thing i\\'ve got to do ,  \" said alice to herself ,  as she wandered about in the wood ,  \" is to grow to my right size again ;  and the second thing is to find my way into that lovely garden .  i think that will be the best plan . \\'qwerty  it sounded an excellent plan ,  no doubt ,  and very neatly and simply arranged ;  the only difficulty was ,  that she had not the smallest idea how to set about it ;  and while she was peering about anxiously among the trees ,  a little sharp bark just over her head made her look up in a great hurry . qwerty  an enormous puppy was looking down at her with large round eyes ,  and feebly stretching out one paw ,  trying to touch her .  \" poor little thing !  \" said alice ,  in a coaxing tone ,  and she tried hard to whistle to it ;  but she was terribly frightened all the time at the thought that it might be hungry ,  in which case it would be very likely to eat her up in spite of all her coaxing . qwerty  hardly knowing what she did ,  she picked up a little bit of stick ,  and held it out to the puppy ;  whereupon the puppy jumped into the air off all its feet at once ,  with a yelp of delight ,  and rushed at the stick ,  and made believe to worry it ;  then alice dodged behind a great thistle ,  to keep herself from being run over ;  and the moment she appeared on the other side ,  the puppy made another rush at the stick ,  and tumbled head over heels in its hurry to get hold of it ;  then alice ,  thinking it was very like having a game of play with a cart - horse ,  and expecting every moment to be trampled under its feet ,  ran round the thistle again ;  then the puppy began a series of short charges at the stick ,  running a very little way forwards each time and a long way back ,  and barking hoarsely all the while ,  till at last it sat down a good way off ,  panting ,  with its tongue hanging out of its mouth ,  and its great eyes half shut . qwerty  this seemed to alice a good opportunity for making her escape ;  so she set off at once ,  and ran till she was quite tired and out of breath ,  and till the puppy\\'s bark sounded quite faint in the distance . qwerty  \" and yet what a dear little puppy it was !  \" said alice ,  as she leant against a buttercup to rest herself ,  and fanned herself with one of the leaves :   \" i should have liked teaching it tricks very much ,  if -  - if i\\'d only been the right size to do it !   oh dear !   i\\'d nearly forgotten that i\\'ve got to grow up again !   let me see -  - how is it to be managed ?   i suppose i ought to eat or drink something or other ;  but the great question is ,  what ? \\'qwerty  the great question certainly was ,  what ?   alice looked all round her at the flowers and the blades of grass ,  but she did not see anything that looked like the right thing to eat or drink under the circumstances .   there was a large mushroom growing near her ,  about the same height as herself ;  and when she had looked under it ,  and on both sides of it ,  and behind it ,  it occurred to her that she might as well look and see what was on the top of it . qwerty  she stretched herself up on tiptoe ,  and peeped over the edge of the mushroom ,  and her eyes immediately met those of a large caterpillar ,  that was sitting on the top with its arms folded ,  quietly smoking a long hookah ,  and taking not the smallest notice of her or of anything else . qwerty                            chapter vqwerty                    advice from a caterpillarqwerty  the caterpillar and alice looked at each other for some time in silence :   at last the caterpillar took the hookah out of its mouth ,  and addressed her in a languid ,  sleepy voice . qwerty  \" who are you ?  \" said the caterpillar . qwerty  this was not an encouraging opening for a conversation .   alice replied ,  rather shyly ,  \" i -  - i hardly know ,  sir ,  just at present -  -  at least i know who i was when i got up this morning ,  but i think i must have been changed several times since then . \\'qwerty  \" what do you mean by that ?  \" said the caterpillar sternly .  \" explain yourself ! \\'qwerty  \" i can\\'t explain myself ,  i\\'m afraid ,  sir \" said alice ,  \" because i\\'m not myself ,  you see . \\'qwerty  \" i don\\'t see ,  \" said the caterpillar . qwerty  \" i\\'m afraid i can\\'t put it more clearly ,  \" alice replied very politely ,  \" for i can\\'t understand it myself to begin with ;  and being so many different sizes in a day is very confusing . \\'qwerty  \" it isn\\'t ,  \" said the caterpillar . qwerty  \" well ,  perhaps you haven\\'t found it so yet ,  \" said alice ;  \" but when you have to turn into a chrysalis -  - you will some day ,  you know -  - and then after that into a butterfly ,  i should think you\\'ll feel it a little queer ,  won\\'t you ? \\'qwerty  \" not a bit ,  \" said the caterpillar . qwerty  \" well ,  perhaps your feelings may be different ,  \" said alice ;  \" all i know is ,  it would feel very queer to me . \\'qwerty  \" you !  \" said the caterpillar contemptuously .   \" who are you ? \\'qwerty  which brought them back again to the beginning of the conversation .   alice felt a little irritated at the caterpillar\\'s making such very short remarks ,  and she drew herself up and said ,  very gravely ,  \" i think ,  you ought to tell me who you are ,  first . \\'qwerty  \" why ?  \" said the caterpillar . qwerty  here was another puzzling question ;  and as alice could not think of any good reason ,  and as the caterpillar seemed to be in a very unpleasant state of mind ,  she turned away . qwerty  \" come back !  \" the caterpillar called after her .   \" i\\'ve something important to say ! \\'qwerty  this sounded promising ,  certainly :   alice turned and came back again . qwerty  \" keep your temper ,  \" said the caterpillar . qwerty  \" is that all ?  \" said alice ,  swallowing down her anger as well as she could . qwerty  \" no ,  \" said the caterpillar . qwerty  alice thought she might as well wait ,  as she had nothing else to do ,  and perhaps after all it might tell her something worth hearing .   for some minutes it puffed away without speaking ,  but at last it unfolded its arms ,  took the hookah out of its mouth again ,  and said ,  \" so you think you\\'re changed ,  do you ? \\'qwerty  \" i\\'m afraid i am ,  sir ,  \" said alice ;  \" i can\\'t remember things as i used -  - and i don\\'t keep the same size for ten minutes together ! \\'qwerty  \" can\\'t remember what things ?  \" said the caterpillar . qwerty  \" well ,  i\\'ve tried to say  \" how doth the little busy bee ,  \"  but it all came different !  \" alice replied in a very melancholy voice . qwerty  \" repeat ,   \" you are old ,  father william ,  \"  \" said the caterpillar . qwerty  alice folded her hands ,  and began :  -  - qwerty    \" you are old ,  father william ,  \" the young man said ,        \" and your hair has become very white ;      and yet you incessantly stand on your head -  -        do you think ,  at your age ,  it is right ? \\'qwerty    \" in my youth ,  \" father william replied to his son ,        \" i feared it might injure the brain ;      but ,  now that i\\'m perfectly sure i have none ,        why ,  i do it again and again . \\'qwerty    \" you are old ,  \" said the youth ,  \" as i mentioned before ,        and have grown most uncommonly fat ;      yet you turned a back - somersault in at the door -  -        pray ,  what is the reason of that ? \\'qwerty    \" in my youth ,  \" said the sage ,  as he shook his grey locks ,        \" i kept all my limbs very supple     by the use of this ointment -  - one shilling the box -  -        allow me to sell you a couple ? \\'qwerty    \" you are old ,  \" said the youth ,  \" and your jaws are too weak       for anything tougher than suet ;      yet you finished the goose ,  with the bones and the beak -  -        pray how did you manage to do it ? \\'qwerty    \" in my youth ,  \" said his father ,  \" i took to the law ,        and argued each case with my wife ;      and the muscular strength ,  which it gave to my jaw ,        has lasted the rest of my life . \\'qwerty    \" you are old ,  \" said the youth ,  \" one would hardly suppose       that your eye was as steady as ever ;      yet you balanced an eel on the end of your nose -  -        what made you so awfully clever ? \\'qwerty    \" i have answered three questions ,  and that is enough ,  \"       said his father ;  \" don\\'t give yourself airs !      do you think i can listen all day to such stuff ?        be off ,  or i\\'ll kick you down stairs ! \\'qwerty  \" that is not said right ,  \" said the caterpillar . qwerty  \" not quite right ,  i\\'m afraid ,  \" said alice ,  timidly ;  \" some of the words have got altered . \\'qwerty  \" it is wrong from beginning to end ,  \" said the caterpillar decidedly ,  and there was silence for some minutes . qwerty  the caterpillar was the first to speak . qwerty  \" what size do you want to be ?  \" it asked . qwerty  \" oh ,  i\\'m not particular as to size ,  \" alice hastily replied ;  \" only one doesn\\'t like changing so often ,  you know . \\'qwerty  \" i don\\'t know ,  \" said the caterpillar . qwerty  alice said nothing :   she had never been so much contradicted in her life before ,  and she felt that she was losing her temper . qwerty  \" are you content now ?  \" said the caterpillar . qwerty  \" well ,  i should like to be a little larger ,  sir ,  if you wouldn\\'t mind ,  \" said alice :   \" three inches is such a wretched height to be . \\'qwerty  \" it is a very good height indeed !  \" said the caterpillar angrily ,  rearing itself upright as it spoke  ( it was exactly three inches high )  . qwerty  \" but i\\'m not used to it !  \" pleaded poor alice in a piteous tone .  and she thought of herself ,  \" i wish the creatures wouldn\\'t be so easily offended ! \\'qwerty  \" you\\'ll get used to it in time ,  \" said the caterpillar ;  and it put the hookah into its mouth and began smoking again . qwerty  this time alice waited patiently until it chose to speak again .  in a minute or two the caterpillar took the hookah out of its mouth and yawned once or twice ,  and shook itself .   then it got down off the mushroom ,  and crawled away in the grass ,  merely remarking as it went ,  \" one side will make you grow taller ,  and the other side will make you grow shorter . \\'qwerty  \" one side of what ?   the other side of what ?  \" thought alice to herself . qwerty  \" of the mushroom ,  \" said the caterpillar ,  just as if she had asked it aloud ;  and in another moment it was out of sight . qwerty  alice remained looking thoughtfully at the mushroom for a minute ,  trying to make out which were the two sides of it ;  and as it was perfectly round ,  she found this a very difficult question .  however ,  at last she stretched her arms round it as far as they would go ,  and broke off a bit of the edge with each hand . qwerty  \" and now which is which ?  \" she said to herself ,  and nibbled a little of the right - hand bit to try the effect :   the next moment she felt a violent blow underneath her chin :   it had struck her foot ! qwerty  she was a good deal frightened by this very sudden change ,  but she felt that there was no time to be lost ,  as she was shrinking rapidly ;  so she set to work at once to eat some of the other bit .  her chin was pressed so closely against her foot ,  that there was hardly room to open her mouth ;  but she did it at last ,  and managed to swallow a morsel of the lefthand bit . qwerty                                                                    qwerty                                                              qwerty                                                                    qwerty  \" come ,  my head\\'s free at last !  \" said alice in a tone of delight ,  which changed into alarm in another moment ,  when she found that her shoulders were nowhere to be found :   all she could see ,  when she looked down ,  was an immense length of neck ,  which seemed to rise like a stalk out of a sea of green leaves that lay far below her . qwerty  \" what can all that green stuff be ?  \" said alice .   \" and where have my shoulders got to ?   and oh ,  my poor hands ,  how is it i can\\'t see you ?  \"  she was moving them about as she spoke ,  but no result seemed to follow ,  except a little shaking among the distant green leaves . qwerty  as there seemed to be no chance of getting her hands up to her head ,  she tried to get her head down to them ,  and was delighted to find that her neck would bend about easily in any direction ,  like a serpent .   she had just succeeded in curving it down into a graceful zigzag ,  and was going to dive in among the leaves ,  which she found to be nothing but the tops of the trees under which she had been wandering ,  when a sharp hiss made her draw back in a hurry :   a large pigeon had flown into her face ,  and was beating her violently with its wings . qwerty  \" serpent !  \" screamed the pigeon . qwerty  \" i\\'m not a serpent !  \" said alice indignantly .   \" let me alone ! \\'qwerty  \" serpent ,  i say again !  \" repeated the pigeon ,  but in a more subdued tone ,  and added with a kind of sob ,  \" i\\'ve tried every way ,  and nothing seems to suit them ! \\'qwerty  \" i haven\\'t the least idea what you\\'re talking about ,  \" said alice . qwerty  \" i\\'ve tried the roots of trees ,  and i\\'ve tried banks ,  and i\\'ve tried hedges ,  \" the pigeon went on ,  without attending to her ;  \" but those serpents !   there\\'s no pleasing them ! \\'qwerty  alice was more and more puzzled ,  but she thought there was no use in saying anything more till the pigeon had finished . qwerty  \" as if it wasn\\'t trouble enough hatching the eggs ,  \" said the pigeon ;  \" but i must be on the look - out for serpents night and day !   why ,  i haven\\'t had a wink of sleep these three weeks ! \\'qwerty  \" i\\'m very sorry you\\'ve been annoyed ,  \" said alice ,  who was beginning to see its meaning . qwerty  \" and just as i\\'d taken the highest tree in the wood ,  \" continued the pigeon ,  raising its voice to a shriek ,  \" and just as i was thinking i should be free of them at last ,  they must needs come wriggling down from the sky !   ugh ,  serpent ! \\'qwerty  \" but i\\'m not a serpent ,  i tell you !  \" said alice .   \" i\\'m a -  - i\\'m a -  - \\'qwerty  \" well !   what are you ?  \" said the pigeon .   \" i can see you\\'re trying to invent something ! \\'qwerty  \" i -  - i\\'m a little girl ,  \" said alice ,  rather doubtfully ,  as she remembered the number of changes she had gone through that day . qwerty  \" a likely story indeed !  \" said the pigeon in a tone of the deepest contempt .   \" i\\'ve seen a good many little girls in my time ,  but never one with such a neck as that !   no ,  no !   you\\'re a serpent ;  and there\\'s no use denying it .   i suppose you\\'ll be telling me next that you never tasted an egg ! \\'qwerty  \" i have tasted eggs ,  certainly ,  \" said alice ,  who was a very truthful child ;  \" but little girls eat eggs quite as much as serpents do ,  you know . \\'qwerty  \" i don\\'t believe it ,  \" said the pigeon ;  \" but if they do ,  why then they\\'re a kind of serpent ,  that\\'s all i can say . \\'qwerty  this was such a new idea to alice ,  that she was quite silent for a minute or two ,  which gave the pigeon the opportunity of adding ,  \" you\\'re looking for eggs ,  i know that well enough ;  and what does it matter to me whether you\\'re a little girl or a serpent ? \\'qwerty  \" it matters a good deal to me ,  \" said alice hastily ;  \" but i\\'m not looking for eggs ,  as it happens ;  and if i was ,  i shouldn\\'t want yours :   i don\\'t like them raw . \\'qwerty  \" well ,  be off ,  then !  \" said the pigeon in a sulky tone ,  as it settled down again into its nest .   alice crouched down among the trees as well as she could ,  for her neck kept getting entangled among the branches ,  and every now and then she had to stop and untwist it .   after a while she remembered that she still held the pieces of mushroom in her hands ,  and she set to work very carefully ,  nibbling first at one and then at the other ,  and growing sometimes taller and sometimes shorter ,  until she had succeeded in bringing herself down to her usual height . qwerty  it was so long since she had been anything near the right size ,  that it felt quite strange at first ;  but she got used to it in a few minutes ,  and began talking to herself ,  as usual .   \" come ,  there\\'s half my plan done now !   how puzzling all these changes are !   i\\'m never sure what i\\'m going to be ,  from one minute to another !   however ,  i\\'ve got back to my right size :   the next thing is ,  to get into that beautiful garden -  - how is that to be done ,  i wonder ?  \"  as she said this ,  she came suddenly upon an open place ,  with a little house in it about four feet high .  \" whoever lives there ,  \" thought alice ,  \" it\\'ll never do to come upon them this size :   why ,  i should frighten them out of their wits !  \"  so she began nibbling at the righthand bit again ,  and did not venture to go near the house till she had brought herself down to nine inches high . qwerty                           chapter viqwerty                         pig and pepperqwerty  for a minute or two she stood looking at the house ,  and wondering what to do next ,  when suddenly a footman in livery came running out of the wood -  -  ( she considered him to be a footman because he was in livery :   otherwise ,  judging by his face only ,  she would have called him a fish )  -  - and rapped loudly at the door with his knuckles .   it was opened by another footman in livery ,  with a round face ,  and large eyes like a frog ;  and both footmen ,  alice noticed ,  had powdered hair that curled all over their heads .   she felt very curious to know what it was all about ,  and crept a little way out of the wood to listen . qwerty  the fish - footman began by producing from under his arm a great letter ,  nearly as large as himself ,  and this he handed over to the other ,  saying ,  in a solemn tone ,  \" for the duchess .   an invitation from the queen to play croquet .  \"  the frog - footman repeated ,  in the same solemn tone ,  only changing the order of the words a little ,  \" from the queen .   an invitation for the duchess to play croquet . \\'qwerty  then they both bowed low ,  and their curls got entangled together . qwerty  alice laughed so much at this ,  that she had to run back into the wood for fear of their hearing her ;  and when she next peeped out the fish - footman was gone ,  and the other was sitting on the ground near the door ,  staring stupidly up into the sky . qwerty  alice went timidly up to the door ,  and knocked . qwerty  \" there\\'s no sort of use in knocking ,  \" said the footman ,  \" and that for two reasons .   first ,  because i\\'m on the same side of the door as you are ;  secondly ,  because they\\'re making such a noise inside ,  no one could possibly hear you .  \"  and certainly there was a most extraordinary noise going on within -  - a constant howling and sneezing ,  and every now and then a great crash ,  as if a dish or kettle had been broken to pieces . qwerty  \" please ,  then ,  \" said alice ,  \" how am i to get in ? \\'qwerty  \" there might be some sense in your knocking ,  \" the footman went on without attending to her ,  \" if we had the door between us .   for instance ,  if you were inside ,  you might knock ,  and i could let you out ,  you know .  \"  he was looking up into the sky all the time he was speaking ,  and this alice thought decidedly uncivil .   \" but perhaps he can\\'t help it ,  \" she said to herself ;  \" his eyes are so very nearly at the top of his head .   but at any rate he might answer questions .  -  - how am i to get in ?  \" she repeated ,  aloud . qwerty  \" i shall sit here ,  \" the footman remarked ,  \" till tomorrow -  - \\'qwerty  at this moment the door of the house opened ,  and a large plate came skimming out ,  straight at the footman\\'s head :   it just grazed his nose ,  and broke to pieces against one of the trees behind him . qwerty  \"  -  - or next day ,  maybe ,  \" the footman continued in the same tone ,  exactly as if nothing had happened . qwerty  \" how am i to get in ?  \" asked alice again ,  in a louder tone . qwerty  \" are you to get in at all ?  \" said the footman .   \" that\\'s the first question ,  you know . \\'qwerty  it was ,  no doubt :   only alice did not like to be told so .  \" it\\'s really dreadful ,  \" she muttered to herself ,  \" the way all the creatures argue .   it\\'s enough to drive one crazy ! \\'qwerty  the footman seemed to think this a good opportunity for repeating his remark ,  with variations .   \" i shall sit here ,  \" he said ,  \" on and off ,  for days and days . \\'qwerty  \" but what am i to do ?  \" said alice . qwerty  \" anything you like ,  \" said the footman ,  and began whistling . qwerty  \" oh ,  there\\'s no use in talking to him ,  \" said alice desperately :  \" he\\'s perfectly idiotic !  \"  and she opened the door and went in . qwerty  the door led right into a large kitchen ,  which was full of smoke from one end to the other :   the duchess was sitting on a three - legged stool in the middle ,  nursing a baby ;  the cook was leaning over the fire ,  stirring a large cauldron which seemed to be full of soup . qwerty  \" there\\'s certainly too much pepper in that soup !  \" alice said to herself ,  as well as she could for sneezing . qwerty  there was certainly too much of it in the air .   even the duchess sneezed occasionally ;  and as for the baby ,  it was sneezing and howling alternately without a moment\\'s pause .   the only things in the kitchen that did not sneeze ,  were the cook ,  and a large cat which was sitting on the hearth and grinning from ear to ear . qwerty  \" please would you tell me ,  \" said alice ,  a little timidly ,  for she was not quite sure whether it was good manners for her to speak first ,  \" why your cat grins like that ? \\'qwerty  \" it\\'s a cheshire cat ,  \" said the duchess ,  \" and that\\'s why .   pig ! \\'qwerty  she said the last word with such sudden violence that alice quite jumped ;  but she saw in another moment that it was addressed to the baby ,  and not to her ,  so she took courage ,  and went on again :  -  - qwerty  \" i didn\\'t know that cheshire cats always grinned ;  in fact ,  i didn\\'t know that cats could grin . \\'qwerty  \" they all can ,  \" said the duchess ;  \" and most of \" em do . \\'qwerty  \" i don\\'t know of any that do ,  \" alice said very politely ,  feeling quite pleased to have got into a conversation . qwerty  \" you don\\'t know much ,  \" said the duchess ;  \" and that\\'s a fact . \\'qwerty  alice did not at all like the tone of this remark ,  and thought it would be as well to introduce some other subject of conversation .   while she was trying to fix on one ,  the cook took the cauldron of soup off the fire ,  and at once set to work throwing everything within her reach at the duchess and the baby  -  - the fire - irons came first ;  then followed a shower of saucepans ,  plates ,  and dishes .   the duchess took no notice of them even when they hit her ;  and the baby was howling so much already ,  that it was quite impossible to say whether the blows hurt it or not . qwerty  \" oh ,  please mind what you\\'re doing !  \" cried alice ,  jumping up and down in an agony of terror .   \" oh ,  there goes his precious nose\\' ;  as an unusually large saucepan flew close by it ,  and very nearly carried it off . qwerty  \" if everybody minded their own business ,  \" the duchess said in a hoarse growl ,  \" the world would go round a deal faster than it does . \\'qwerty  \" which would not be an advantage ,  \" said alice ,  who felt very glad to get an opportunity of showing off a little of her knowledge .   \" just think of what work it would make with the day and night !   you see the earth takes twenty - four hours to turn round on its axis -  - \\'qwerty  \" talking of axes ,  \" said the duchess ,  \" chop off her head ! \\'qwerty  alice glanced rather anxiously at the cook ,  to see if she meant to take the hint ;  but the cook was busily stirring the soup ,  and seemed not to be listening ,  so she went on again :   \" twenty - four hours ,  i think ;  or is it twelve ?   i -  - \\'qwerty  \" oh ,  don\\'t bother me ,  \" said the duchess ;  \" i never could abide figures !  \"  and with that she began nursing her child again ,  singing a sort of lullaby to it as she did so ,  and giving it a violent shake at the end of every line : qwerty        \" speak roughly to your little boy ,            and beat him when he sneezes :          he only does it to annoy ,            because he knows it teases . \\'qwerty                    chorus . qwerty     ( in which the cook and the baby joined )  :  -  - qwerty                \" wow !  wow !  wow ! \\'qwerty  while the duchess sang the second verse of the song ,  she kept tossing the baby violently up and down ,  and the poor little thing howled so ,  that alice could hardly hear the words :  -  - qwerty        \" i speak severely to my boy ,            i beat him when he sneezes ;          for he can thoroughly enjoy           the pepper when he pleases ! \\'qwerty                    chorus . qwerty                \" wow !  wow !  wow ! \\'qwerty  \" here !  you may nurse it a bit ,  if you like !  \" the duchess said to alice ,  flinging the baby at her as she spoke .   \" i must go and get ready to play croquet with the queen ,  \" and she hurried out of the room .   the cook threw a frying - pan after her as she went out ,  but it just missed her . qwerty  alice caught the baby with some difficulty ,  as it was a queer -  shaped little creature ,  and held out its arms and legs in all directions ,  \" just like a star - fish ,  \" thought alice .   the poor little thing was snorting like a steam - engine when she caught it ,  and kept doubling itself up and straightening itself out again ,  so that altogether ,  for the first minute or two ,  it was as much as she could do to hold it . qwerty  as soon as she had made out the proper way of nursing it ,   ( which was to twist it up into a sort of knot ,  and then keep tight hold of its right ear and left foot ,  so as to prevent its undoing itself ,  )  she carried it out into the open air .   \" if i don\\'t take this child away with me ,  \" thought alice ,  \" they\\'re sure to kill it in a day or two :   wouldn\\'t it be murder to leave it behind ?  \"  she said the last words out loud ,  and the little thing grunted in reply  ( it had left off sneezing by this time )  .   \" don\\'t grunt ,  \" said alice ;  \" that\\'s not at all a proper way of expressing yourself . \\'qwerty  the baby grunted again ,  and alice looked very anxiously into its face to see what was the matter with it .   there could be no doubt that it had a very turn - up nose ,  much more like a snout than a real nose ;  also its eyes were getting extremely small for a baby :   altogether alice did not like the look of the thing at all .   \" but perhaps it was only sobbing ,  \" she thought ,  and looked into its eyes again ,  to see if there were any tears . qwerty  no ,  there were no tears .   \" if you\\'re going to turn into a pig ,  my dear ,  \" said alice ,  seriously ,  \" i\\'ll have nothing more to do with you .   mind now !  \"  the poor little thing sobbed again  ( or grunted ,  it was impossible to say which )  ,  and they went on for some while in silence . qwerty  alice was just beginning to think to herself ,  \" now ,  what am i to do with this creature when i get it home ?  \" when it grunted again ,  so violently ,  that she looked down into its face in some alarm .   this time there could be no mistake about it :   it was neither more nor less than a pig ,  and she felt that it would be quite absurd for her to carry it further . qwerty  so she set the little creature down ,  and felt quite relieved to see it trot away quietly into the wood .   \" if it had grown up ,  \" she said to herself ,  \" it would have made a dreadfully ugly child :  but it makes rather a handsome pig ,  i think .  \"  and she began thinking over other children she knew ,  who might do very well as pigs ,  and was just saying to herself ,  \" if one only knew the right way to change them -  -  \" when she was a little startled by seeing the cheshire cat sitting on a bough of a tree a few yards off . qwerty  the cat only grinned when it saw alice .   it looked good -  natured ,  she thought :   still it had very long claws and a great many teeth ,  so she felt that it ought to be treated with respect . qwerty  \" cheshire puss ,  \" she began ,  rather timidly ,  as she did not at all know whether it would like the name :   however ,  it only grinned a little wider .   \" come ,  it\\'s pleased so far ,  \" thought alice ,  and she went on .   \" would you tell me ,  please ,  which way i ought to go from here ? \\'qwerty  \" that depends a good deal on where you want to get to ,  \" said the cat . qwerty  \" i don\\'t much care where -  -  \" said alice . qwerty  \" then it doesn\\'t matter which way you go ,  \" said the cat . qwerty  \"  -  - so long as i get somewhere ,  \" alice added as an explanation . qwerty  \" oh ,  you\\'re sure to do that ,  \" said the cat ,  \" if you only walk long enough . \\'qwerty  alice felt that this could not be denied ,  so she tried another question .   \" what sort of people live about here ? \\'qwerty  \" in that direction ,  \" the cat said ,  waving its right paw round ,  \" lives a hatter :   and in that direction ,  \" waving the other paw ,  \" lives a march hare .   visit either you like :   they\\'re both mad . \\'qwerty  \" but i don\\'t want to go among mad people ,  \" alice remarked . qwerty  \" oh ,  you can\\'t help that ,  \" said the cat :   \" we\\'re all mad here .  i\\'m mad .   you\\'re mad . \\'qwerty  \" how do you know i\\'m mad ?  \" said alice . qwerty  \" you must be ,  \" said the cat ,  \" or you wouldn\\'t have come here . \\'qwerty  alice didn\\'t think that proved it at all ;  however ,  she went on \" and how do you know that you\\'re mad ? \\'qwerty  \" to begin with ,  \" said the cat ,  \" a dog\\'s not mad .   you grant that ? \\'qwerty  \" i suppose so ,  \" said alice . qwerty  \" well ,  then ,  \" the cat went on ,  \" you see ,  a dog growls when it\\'s angry ,  and wags its tail when it\\'s pleased .   now i growl when i\\'m pleased ,  and wag my tail when i\\'m angry .   therefore i\\'m mad . \\'qwerty  \" i call it purring ,  not growling ,  \" said alice . qwerty  \" call it what you like ,  \" said the cat .   \" do you play croquet with the queen to - day ? \\'qwerty  \" i should like it very much ,  \" said alice ,  \" but i haven\\'t been invited yet . \\'qwerty  \" you\\'ll see me there ,  \" said the cat ,  and vanished . qwerty  alice was not much surprised at this ,  she was getting so used to queer things happening .   while she was looking at the place where it had been ,  it suddenly appeared again . qwerty  \" by - the - bye ,  what became of the baby ?  \" said the cat .   \" i\\'d nearly forgotten to ask . \\'qwerty  \" it turned into a pig ,  \" alice quietly said ,  just as if it had come back in a natural way . qwerty  \" i thought it would ,  \" said the cat ,  and vanished again . qwerty  alice waited a little ,  half expecting to see it again ,  but it did not appear ,  and after a minute or two she walked on in the direction in which the march hare was said to live .   \" i\\'ve seen hatters before ,  \" she said to herself ;  \" the march hare will be much the most interesting ,  and perhaps as this is may it won\\'t be raving mad -  - at least not so mad as it was in march .  \"  as she said this ,  she looked up ,  and there was the cat again ,  sitting on a branch of a tree . qwerty  \" did you say pig ,  or fig ?  \" said the cat . qwerty  \" i said pig ,  \" replied alice ;  \" and i wish you wouldn\\'t keep appearing and vanishing so suddenly :   you make one quite giddy . \\'qwerty  \" all right ,  \" said the cat ;  and this time it vanished quite slowly ,  beginning with the end of the tail ,  and ending with the grin ,  which remained some time after the rest of it had gone . qwerty  \" well !   i\\'ve often seen a cat without a grin ,  \" thought alice ;  \" but a grin without a cat !   it\\'s the most curious thing i ever saw in my life ! \\'qwerty  she had not gone much farther before she came in sight of the house of the march hare :   she thought it must be the right house ,  because the chimneys were shaped like ears and the roof was thatched with fur .   it was so large a house ,  that she did not like to go nearer till she had nibbled some more of the lefthand bit of mushroom ,  and raised herself to about two feet high :   even then she walked up towards it rather timidly ,  saying to herself \" suppose it should be raving mad after all !   i almost wish i\\'d gone to see the hatter instead ! \\'qwerty                           chapter viiqwerty                         a mad tea - partyqwerty  there was a table set out under a tree in front of the house ,  and the march hare and the hatter were having tea at it :   a dormouse was sitting between them ,  fast asleep ,  and the other two were using it as a cushion ,  resting their elbows on it ,  and talking over its head .   \" very uncomfortable for the dormouse ,  \" thought alice ;  \" only ,  as it\\'s asleep ,  i suppose it doesn\\'t mind . \\'qwerty  the table was a large one ,  but the three were all crowded together at one corner of it :   \" no room !   no room !  \" they cried out when they saw alice coming .   \" there\\'s plenty of room !  \" said alice indignantly ,  and she sat down in a large arm - chair at one end of the table . qwerty  \" have some wine ,  \" the march hare said in an encouraging tone . qwerty  alice looked all round the table ,  but there was nothing on it but tea .   \" i don\\'t see any wine ,  \" she remarked . qwerty  \" there isn\\'t any ,  \" said the march hare . qwerty  \" then it wasn\\'t very civil of you to offer it ,  \" said alice angrily . qwerty  \" it wasn\\'t very civil of you to sit down without being invited ,  \" said the march hare . qwerty  \" i didn\\'t know it was your table ,  \" said alice ;  \" it\\'s laid for a great many more than three . \\'qwerty  \" your hair wants cutting ,  \" said the hatter .   he had been looking at alice for some time with great curiosity ,  and this was his first speech . qwerty  \" you should learn not to make personal remarks ,  \" alice said with some severity ;  \" it\\'s very rude . \\'qwerty  the hatter opened his eyes very wide on hearing this ;  but all he said was ,  \" why is a raven like a writing - desk ? \\'qwerty  \" come ,  we shall have some fun now !  \" thought alice .   \" i\\'m glad they\\'ve begun asking riddles .  -  - i believe i can guess that ,  \" she added aloud . qwerty  \" do you mean that you think you can find out the answer to it ?  \" said the march hare . qwerty  \" exactly so ,  \" said alice . qwerty  \" then you should say what you mean ,  \" the march hare went on . qwerty  \" i do ,  \" alice hastily replied ;  \" at least -  - at least i mean what i say -  - that\\'s the same thing ,  you know . \\'qwerty  \" not the same thing a bit !  \" said the hatter .   \" you might just as well say that  \" i see what i eat \"  is the same thing as  \" i eat what i see \"  ! \\'qwerty  \" you might just as well say ,  \" added the march hare ,  \" that  \" i like what i get \"  is the same thing as  \" i get what i like \"  ! \\'qwerty  \" you might just as well say ,  \" added the dormouse ,  who seemed to be talking in his sleep ,  \" that  \" i breathe when i sleep \"  is the same thing as  \" i sleep when i breathe \"  ! \\'qwerty  \" it is the same thing with you ,  \" said the hatter ,  and here the conversation dropped ,  and the party sat silent for a minute ,  while alice thought over all she could remember about ravens and writing - desks ,  which wasn\\'t much . qwerty  the hatter was the first to break the silence .   \" what day of the month is it ?  \" he said ,  turning to alice :   he had taken his watch out of his pocket ,  and was looking at it uneasily ,  shaking it every now and then ,  and holding it to his ear . qwerty  alice considered a little ,  and then said \" the fourth . \\'qwerty  \" two days wrong !  \" sighed the hatter .   \" i told you butter wouldn\\'t suit the works !  \" he added looking angrily at the march hare . qwerty  \" it was the best butter ,  \" the march hare meekly replied . qwerty  \" yes ,  but some crumbs must have got in as well ,  \" the hatter grumbled :   \" you shouldn\\'t have put it in with the bread - knife . \\'qwerty  the march hare took the watch and looked at it gloomily :   then he dipped it into his cup of tea ,  and looked at it again :   but he could think of nothing better to say than his first remark ,  \" it was the best butter ,  you know . \\'qwerty  alice had been looking over his shoulder with some curiosity .  \" what a funny watch !  \" she remarked .   \" it tells the day of the month ,  and doesn\\'t tell what o\\'clock it is ! \\'qwerty  \" why should it ?  \" muttered the hatter .   \" does your watch tell you what year it is ? \\'qwerty  \" of course not ,  \" alice replied very readily :   \" but that\\'s because it stays the same year for such a long time together . \\'qwerty  \" which is just the case with mine ,  \" said the hatter . qwerty  alice felt dreadfully puzzled .   the hatter\\'s remark seemed to have no sort of meaning in it ,  and yet it was certainly english .  \" i don\\'t quite understand you ,  \" she said ,  as politely as she could . qwerty  \" the dormouse is asleep again ,  \" said the hatter ,  and he poured a little hot tea upon its nose . qwerty  the dormouse shook its head impatiently ,  and said ,  without opening its eyes ,  \" of course ,  of course ;  just what i was going to remark myself . \\'qwerty  \" have you guessed the riddle yet ?  \" the hatter said ,  turning to alice again . qwerty  \" no ,  i give it up ,  \" alice replied :   \" what\\'s the answer ? \\'qwerty  \" i haven\\'t the slightest idea ,  \" said the hatter . qwerty  \" nor i ,  \" said the march hare . qwerty  alice sighed wearily .   \" i think you might do something better with the time ,  \" she said ,  \" than waste it in asking riddles that have no answers . \\'qwerty  \" if you knew time as well as i do ,  \" said the hatter ,  \" you wouldn\\'t talk about wasting it .   it\\'s him . \\'qwerty  \" i don\\'t know what you mean ,  \" said alice . qwerty  \" of course you don\\'t !  \" the hatter said ,  tossing his head contemptuously .   \" i dare say you never even spoke to time ! \\'qwerty  \" perhaps not ,  \" alice cautiously replied :   \" but i know i have to beat time when i learn music . \\'qwerty  \" ah !  that accounts for it ,  \" said the hatter .   \" he won\\'t stand beating .   now ,  if you only kept on good terms with him ,  he\\'d do almost anything you liked with the clock .   for instance ,  suppose it were nine o\\'clock in the morning ,  just time to begin lessons :  you\\'d only have to whisper a hint to time ,  and round goes the clock in a twinkling !   half - past one ,  time for dinner ! \\'qwerty   ( `i only wish it was ,  \" the march hare said to itself in a whisper .  ) qwerty  \" that would be grand ,  certainly ,  \" said alice thoughtfully :  \" but then -  - i shouldn\\'t be hungry for it ,  you know . \\'qwerty  \" not at first ,  perhaps ,  \" said the hatter :   \" but you could keep it to half - past one as long as you liked . \\'qwerty  \" is that the way you manage ?  \" alice asked . qwerty  the hatter shook his head mournfully .   \" not i !  \" he replied .  \" we quarrelled last march -  - just before he went mad ,  you know -  -  \"  ( pointing with his tea spoon at the march hare ,  )  \"  -  - it was at the great concert given by the queen of hearts ,  and i had to singqwerty             \" twinkle ,  twinkle ,  little bat !              how i wonder what you\\'re at !  \" qwertyyou know the song ,  perhaps ? \\'qwerty  \" i\\'ve heard something like it ,  \" said alice . qwerty  \" it goes on ,  you know ,  \" the hatter continued ,  \" in this way :  -  - qwerty             \" up above the world you fly ,              like a tea - tray in the sky .                      twinkle ,  twinkle -  -  \" \\'qwertyhere the dormouse shook itself ,  and began singing in its sleep \" twinkle ,  twinkle ,  twinkle ,  twinkle -  -  \" and went on so long that they had to pinch it to make it stop . qwerty  \" well ,  i\\'d hardly finished the first verse ,  \" said the hatter ,  \" when the queen jumped up and bawled out ,   \" he\\'s murdering the time !   off with his head !  \" \\'qwerty  \" how dreadfully savage !  \" exclaimed alice . qwerty  \" and ever since that ,  \" the hatter went on in a mournful tone ,  \" he won\\'t do a thing i ask !   it\\'s always six o\\'clock now . \\'qwerty  a bright idea came into alice\\'s head .   \" is that the reason so many tea - things are put out here ?  \" she asked . qwerty  \" yes ,  that\\'s it ,  \" said the hatter with a sigh :   \" it\\'s always tea - time ,  and we\\'ve no time to wash the things between whiles . \\'qwerty  \" then you keep moving round ,  i suppose ?  \" said alice . qwerty  \" exactly so ,  \" said the hatter :   \" as the things get used up . \\'qwerty  \" but what happens when you come to the beginning again ?  \" alice ventured to ask . qwerty  \" suppose we change the subject ,  \" the march hare interrupted ,  yawning .   \" i\\'m getting tired of this .   i vote the young lady tells us a story . \\'qwerty  \" i\\'m afraid i don\\'t know one ,  \" said alice ,  rather alarmed at the proposal . qwerty  \" then the dormouse shall !  \" they both cried .   \" wake up ,  dormouse !  \"  and they pinched it on both sides at once . qwerty  the dormouse slowly opened his eyes .   \" i wasn\\'t asleep ,  \" he said in a hoarse ,  feeble voice :   \" i heard every word you fellows were saying . \\'qwerty  \" tell us a story !  \" said the march hare . qwerty  \" yes ,  please do !  \" pleaded alice . qwerty  \" and be quick about it ,  \" added the hatter ,  \" or you\\'ll be asleep again before it\\'s done . \\'qwerty  \" once upon a time there were three little sisters ,  \" the dormouse began in a great hurry ;  \" and their names were elsie ,  lacie ,  and tillie ;  and they lived at the bottom of a well -  - \\'qwerty  \" what did they live on ?  \" said alice ,  who always took a great interest in questions of eating and drinking . qwerty  \" they lived on treacle ,  \" said the dormouse ,  after thinking a minute or two . qwerty  \" they couldn\\'t have done that ,  you know ,  \" alice gently remarked ;  \" they\\'d have been ill . \\'qwerty  \" so they were ,  \" said the dormouse ;  \" very ill . \\'qwerty  alice tried to fancy to herself what such an extraordinary ways of living would be like ,  but it puzzled her too much ,  so she went on :   \" but why did they live at the bottom of a well ? \\'qwerty  \" take some more tea ,  \" the march hare said to alice ,  very earnestly . qwerty  \" i\\'ve had nothing yet ,  \" alice replied in an offended tone ,  \" so i can\\'t take more . \\'qwerty  \" you mean you can\\'t take less ,  \" said the hatter :   \" it\\'s very easy to take more than nothing . \\'qwerty  \" nobody asked your opinion ,  \" said alice . qwerty  \" who\\'s making personal remarks now ?  \" the hatter asked triumphantly . qwerty  alice did not quite know what to say to this :   so she helped herself to some tea and bread - and - butter ,  and then turned to the dormouse ,  and repeated her question .   \" why did they live at the bottom of a well ? \\'qwerty  the dormouse again took a minute or two to think about it ,  and then said ,  \" it was a treacle - well . \\'qwerty  \" there\\'s no such thing !  \"  alice was beginning very angrily ,  but the hatter and the march hare went \" sh !  sh !  \" and the dormouse sulkily remarked ,  \" if you can\\'t be civil ,  you\\'d better finish the story for yourself . \\'qwerty  \" no ,  please go on !  \" alice said very humbly ;  \" i won\\'t interrupt again .   i dare say there may be one . \\'qwerty  \" one ,  indeed !  \" said the dormouse indignantly .   however ,  he consented to go on .   \" and so these three little sisters -  - they were learning to draw ,  you know -  - \\'qwerty  \" what did they draw ?  \" said alice ,  quite forgetting her promise . qwerty  \" treacle ,  \" said the dormouse ,  without considering at all this time . qwerty  \" i want a clean cup ,  \" interrupted the hatter :   \" let\\'s all move one place on . \\'qwerty  he moved on as he spoke ,  and the dormouse followed him :   the march hare moved into the dormouse\\'s place ,  and alice rather unwillingly took the place of the march hare .   the hatter was the only one who got any advantage from the change :   and alice was a good deal worse off than before ,  as the march hare had just upset the milk - jug into his plate . qwerty  alice did not wish to offend the dormouse again ,  so she began very cautiously :   \" but i don\\'t understand .   where did they draw the treacle from ? \\'qwerty  \" you can draw water out of a water - well ,  \" said the hatter ;  \" so i should think you could draw treacle out of a treacle - well -  - eh ,  stupid ? \\'qwerty  \" but they were in the well ,  \" alice said to the dormouse ,  not choosing to notice this last remark . qwerty  \" of course they were\\' ,  said the dormouse ;  \"  -  - well in . \\'qwerty  this answer so confused poor alice ,  that she let the dormouse go on for some time without interrupting it . qwerty  \" they were learning to draw ,  \" the dormouse went on ,  yawning and rubbing its eyes ,  for it was getting very sleepy ;  \" and they drew all manner of things -  - everything that begins with an m -  - \\'qwerty  \" why with an m ?  \" said alice . qwerty  \" why not ?  \" said the march hare . qwerty  alice was silent . qwerty  the dormouse had closed its eyes by this time ,  and was going off into a doze ;  but ,  on being pinched by the hatter ,  it woke up again with a little shriek ,  and went on :   \"  -  - that begins with an m ,  such as mouse - traps ,  and the moon ,  and memory ,  and muchness -  -  you know you say things are  \" much of a muchness \"  -  - did you ever see such a thing as a drawing of a muchness ? \\'qwerty  \" really ,  now you ask me ,  \" said alice ,  very much confused ,  \" i don\\'t think -  - \\'qwerty  \" then you shouldn\\'t talk ,  \" said the hatter . qwerty  this piece of rudeness was more than alice could bear :   she got up in great disgust ,  and walked off ;  the dormouse fell asleep instantly ,  and neither of the others took the least notice of her going ,  though she looked back once or twice ,  half hoping that they would call after her :   the last time she saw them ,  they were trying to put the dormouse into the teapot . qwerty  \" at any rate i\\'ll never go there again !  \" said alice as she picked her way through the wood .   \" it\\'s the stupidest tea - party i ever was at in all my life ! \\'qwerty  just as she said this ,  she noticed that one of the trees had a door leading right into it .   \" that\\'s very curious !  \" she thought .  \" but everything\\'s curious today .   i think i may as well go in at once .  \" and in she went . qwerty  once more she found herself in the long hall ,  and close to the little glass table .   \" now ,  i\\'ll manage better this time ,  \" she said to herself ,  and began by taking the little golden key ,  and unlocking the door that led into the garden .   then she went to work nibbling at the mushroom  ( she had kept a piece of it in her pocket )  till she was about a foot high :   then she walked down the little passage :   and then -  - she found herself at last in the beautiful garden ,  among the bright flower - beds and the cool fountains . qwerty                          chapter viiiqwerty                   the queen\\'s croquet - groundqwerty  a large rose - tree stood near the entrance of the garden :   the roses growing on it were white ,  but there were three gardeners at it ,  busily painting them red .   alice thought this a very curious thing ,  and she went nearer to watch them ,  and just as she came up to them she heard one of them say ,  \" look out now ,  five !   don\\'t go splashing paint over me like that ! \\'qwerty  \" i couldn\\'t help it ,  \" said five ,  in a sulky tone ;  \" seven jogged my elbow . \\'qwerty  on which seven looked up and said ,  \" that\\'s right ,  five !   always lay the blame on others ! \\'qwerty  \" you\\'d better not talk !  \" said five .   \" i heard the queen say only yesterday you deserved to be beheaded ! \\'qwerty  \" what for ?  \" said the one who had spoken first . qwerty  \" that\\'s none of your business ,  two !  \" said seven . qwerty  \" yes ,  it is his business !  \" said five ,  \" and i\\'ll tell him -  - it was for bringing the cook tulip - roots instead of onions . \\'qwerty  seven flung down his brush ,  and had just begun \" well ,  of all the unjust things -  -  \" when his eye chanced to fall upon alice ,  as she stood watching them ,  and he checked himself suddenly :   the others looked round also ,  and all of them bowed low . qwerty  \" would you tell me ,  \" said alice ,  a little timidly ,  \" why you are painting those roses ? \\'qwerty  five and seven said nothing ,  but looked at two .   two began in a low voice ,  \" why the fact is ,  you see ,  miss ,  this here ought to have been a red rose - tree ,  and we put a white one in by mistake ;  and if the queen was to find it out ,  we should all have our heads cut off ,  you know .   so you see ,  miss ,  we\\'re doing our best ,  afore she comes ,  to -  -  \"  at this moment five ,  who had been anxiously looking across the garden ,  called out \" the queen !   the queen !  \" and the three gardeners instantly threw themselves flat upon their faces .   there was a sound of many footsteps ,  and alice looked round ,  eager to see the queen . qwerty  first came ten soldiers carrying clubs ;  these were all shaped like the three gardeners ,  oblong and flat ,  with their hands and feet at the corners :   next the ten courtiers ;  these were ornamented all over with diamonds ,  and walked two and two ,  as the soldiers did .   after these came the royal children ;  there were ten of them ,  and the little dears came jumping merrily along hand in hand ,  in couples :   they were all ornamented with hearts .   next came the guests ,  mostly kings and queens ,  and among them alice recognised the white rabbit :   it was talking in a hurried nervous manner ,  smiling at everything that was said ,  and went by without noticing her .   then followed the knave of hearts ,  carrying the king\\'s crown on a crimson velvet cushion ;  and ,  last of all this grand procession ,  came the king and queen of hearts . qwerty  alice was rather doubtful whether she ought not to lie down on her face like the three gardeners ,  but she could not remember ever having heard of such a rule at processions ;  \" and besides ,  what would be the use of a procession ,  \" thought she ,  \" if people had all to lie down upon their faces ,  so that they couldn\\'t see it ?  \" so she stood still where she was ,  and waited . qwerty  when the procession came opposite to alice ,  they all stopped and looked at her ,  and the queen said severely \" who is this ?  \" she said it to the knave of hearts ,  who only bowed and smiled in reply . qwerty  \" idiot !  \" said the queen ,  tossing her head impatiently ;  and ,  turning to alice ,  she went on ,  \" what\\'s your name ,  child ? \\'qwerty  \" my name is alice ,  so please your majesty ,  \" said alice very politely ;  but she added ,  to herself ,  \" why ,  they\\'re only a pack of cards ,  after all .   i needn\\'t be afraid of them ! \\'qwerty  \" and who are these ?  \" said the queen ,  pointing to the three gardeners who were lying round the rosetree ;  for ,  you see ,  as they were lying on their faces ,  and the pattern on their backs was the same as the rest of the pack ,  she could not tell whether they were gardeners ,  or soldiers ,  or courtiers ,  or three of her own children . qwerty  \" how should i know ?  \" said alice ,  surprised at her own courage .  \" it\\'s no business of mine . \\'qwerty  the queen turned crimson with fury ,  and ,  after glaring at her for a moment like a wild beast ,  screamed \" off with her head !  off -  - \\'qwerty  \" nonsense !  \" said alice ,  very loudly and decidedly ,  and the queen was silent . qwerty  the king laid his hand upon her arm ,  and timidly said \" consider ,  my dear :   she is only a child ! \\'qwerty  the queen turned angrily away from him ,  and said to the knave \" turn them over ! \\'qwerty  the knave did so ,  very carefully ,  with one foot . qwerty  \" get up !  \" said the queen ,  in a shrill ,  loud voice ,  and the three gardeners instantly jumped up ,  and began bowing to the king ,  the queen ,  the royal children ,  and everybody else . qwerty  \" leave off that !  \" screamed the queen .   \" you make me giddy .  \" and then ,  turning to the rose - tree ,  she went on ,  \" what have you been doing here ? \\'qwerty  \" may it please your majesty ,  \" said two ,  in a very humble tone ,  going down on one knee as he spoke ,  \" we were trying -  - \\'qwerty  \" i see !  \" said the queen ,  who had meanwhile been examining the roses .   \" off with their heads !  \" and the procession moved on ,  three of the soldiers remaining behind to execute the unfortunate gardeners ,  who ran to alice for protection . qwerty  \" you shan\\'t be beheaded !  \" said alice ,  and she put them into a large flower - pot that stood near .   the three soldiers wandered about for a minute or two ,  looking for them ,  and then quietly marched off after the others . qwerty  \" are their heads off ?  \" shouted the queen . qwerty  \" their heads are gone ,  if it please your majesty !  \" the soldiers shouted in reply . qwerty  \" that\\'s right !  \" shouted the queen .   \" can you play croquet ? \\'qwerty  the soldiers were silent ,  and looked at alice ,  as the question was evidently meant for her . qwerty  \" yes !  \" shouted alice . qwerty  \" come on ,  then !  \" roared the queen ,  and alice joined the procession ,  wondering very much what would happen next . qwerty  \" it\\'s -  - it\\'s a very fine day !  \" said a timid voice at her side .  she was walking by the white rabbit ,  who was peeping anxiously into her face . qwerty  \" very ,  \" said alice :   \"  -  - where\\'s the duchess ? \\'qwerty  \" hush !   hush !  \" said the rabbit in a low ,  hurried tone .   he looked anxiously over his shoulder as he spoke ,  and then raised himself upon tiptoe ,  put his mouth close to her ear ,  and whispered \" she\\'s under sentence of execution . \\'qwerty  \" what for ?  \" said alice . qwerty  \" did you say  \" what a pity !  \"  ?  \" the rabbit asked . qwerty  \" no ,  i didn\\'t ,  \" said alice :   \" i don\\'t think it\\'s at all a pity .  i said  \" what for ?  \" \\'qwerty  \" she boxed the queen\\'s ears -  -  \" the rabbit began .   alice gave a little scream of laughter .   \" oh ,  hush !  \" the rabbit whispered in a frightened tone .   \" the queen will hear you !   you see ,  she came rather late ,  and the queen said -  - \\'qwerty  \" get to your places !  \" shouted the queen in a voice of thunder ,  and people began running about in all directions ,  tumbling up against each other ;  however ,  they got settled down in a minute or two ,  and the game began .   alice thought she had never seen such a curious croquet - ground in her life ;  it was all ridges and furrows ;  the balls were live hedgehogs ,  the mallets live flamingoes ,  and the soldiers had to double themselves up and to stand on their hands and feet ,  to make the arches . qwerty  the chief difficulty alice found at first was in managing her flamingo :   she succeeded in getting its body tucked away ,  comfortably enough ,  under her arm ,  with its legs hanging down ,  but generally ,  just as she had got its neck nicely straightened out ,  and was going to give the hedgehog a blow with its head ,  it would twist itself round and look up in her face ,  with such a puzzled expression that she could not help bursting out laughing :  and when she had got its head down ,  and was going to begin again ,  it was very provoking to find that the hedgehog had unrolled itself ,  and was in the act of crawling away :   besides all this ,  there was generally a ridge or furrow in the way wherever she wanted to send the hedgehog to ,  and ,  as the doubled - up soldiers were always getting up and walking off to other parts of the ground ,  alice soon came to the conclusion that it was a very difficult game indeed . qwerty  the players all played at once without waiting for turns ,  quarrelling all the while ,  and fighting for the hedgehogs ;  and in a very short time the queen was in a furious passion ,  and went stamping about ,  and shouting \" off with his head !  \" or \" off with her head !  \" about once in a minute . qwerty  alice began to feel very uneasy :   to be sure ,  she had not as yet had any dispute with the queen ,  but she knew that it might happen any minute ,  \" and then ,  \" thought she ,  \" what would become of me ?   they\\'re dreadfully fond of beheading people here ;  the great wonder is ,  that there\\'s any one left alive ! \\'qwerty  she was looking about for some way of escape ,  and wondering whether she could get away without being seen ,  when she noticed a curious appearance in the air :   it puzzled her very much at first ,  but ,  after watching it a minute or two ,  she made it out to be a grin ,  and she said to herself \" it\\'s the cheshire cat :   now i shall have somebody to talk to . \\'qwerty  \" how are you getting on ?  \" said the cat ,  as soon as there was mouth enough for it to speak with . qwerty  alice waited till the eyes appeared ,  and then nodded .   \" it\\'s no use speaking to it ,  \" she thought ,  \" till its ears have come ,  or at least one of them .  \"  in another minute the whole head appeared ,  and then alice put down her flamingo ,  and began an account of the game ,  feeling very glad she had someone to listen to her .   the cat seemed to think that there was enough of it now in sight ,  and no more of it appeared . qwerty  \" i don\\'t think they play at all fairly ,  \" alice began ,  in rather a complaining tone ,  \" and they all quarrel so dreadfully one can\\'t hear oneself speak -  - and they don\\'t seem to have any rules in particular ;  at least ,  if there are ,  nobody attends to them -  - and you\\'ve no idea how confusing it is all the things being alive ;  for instance ,  there\\'s the arch i\\'ve got to go through next walking about at the other end of the ground -  - and i should have croqueted the queen\\'s hedgehog just now ,  only it ran away when it saw mine coming ! \\'qwerty  \" how do you like the queen ?  \" said the cat in a low voice . qwerty  \" not at all ,  \" said alice :   \" she\\'s so extremely -  -  \"  just then she noticed that the queen was close behind her ,  listening :   so she went on ,  \"  -  - likely to win ,  that it\\'s hardly worth while finishing the game . \\'qwerty  the queen smiled and passed on . qwerty  \" who are you talking to ?  \" said the king ,  going up to alice ,  and looking at the cat\\'s head with great curiosity . qwerty  \" it\\'s a friend of mine -  - a cheshire cat ,  \" said alice :   \" allow me to introduce it . \\'qwerty  \" i don\\'t like the look of it at all ,  \" said the king :  \" however ,  it may kiss my hand if it likes . \\'qwerty  \" i\\'d rather not ,  \" the cat remarked . qwerty  \" don\\'t be impertinent ,  \" said the king ,  \" and don\\'t look at me like that !  \"  he got behind alice as he spoke . qwerty  \" a cat may look at a king ,  \" said alice .   \" i\\'ve read that in some book ,  but i don\\'t remember where . \\'qwerty  \" well ,  it must be removed ,  \" said the king very decidedly ,  and he called the queen ,  who was passing at the moment ,  \" my dear !   i wish you would have this cat removed ! \\'qwerty  the queen had only one way of settling all difficulties ,  great or small .   \" off with his head !  \" she said ,  without even looking round . qwerty  \" i\\'ll fetch the executioner myself ,  \" said the king eagerly ,  and he hurried off . qwerty  alice thought she might as well go back ,  and see how the game was going on ,  as she heard the queen\\'s voice in the distance ,  screaming with passion .   she had already heard her sentence three of the players to be executed for having missed their turns ,  and she did not like the look of things at all ,  as the game was in such confusion that she never knew whether it was her turn or not .   so she went in search of her hedgehog . qwerty  the hedgehog was engaged in a fight with another hedgehog ,  which seemed to alice an excellent opportunity for croqueting one of them with the other :   the only difficulty was ,  that her flamingo was gone across to the other side of the garden ,  where alice could see it trying in a helpless sort of way to fly up into a tree . qwerty  by the time she had caught the flamingo and brought it back ,  the fight was over ,  and both the hedgehogs were out of sight :  \" but it doesn\\'t matter much ,  \" thought alice ,  \" as all the arches are gone from this side of the ground .  \"  so she tucked it away under her arm ,  that it might not escape again ,  and went back for a little more conversation with her friend . qwerty  when she got back to the cheshire cat ,  she was surprised to find quite a large crowd collected round it :   there was a dispute going on between the executioner ,  the king ,  and the queen ,  who were all talking at once ,  while all the rest were quite silent ,  and looked very uncomfortable . qwerty  the moment alice appeared ,  she was appealed to by all three to settle the question ,  and they repeated their arguments to her ,  though ,  as they all spoke at once ,  she found it very hard indeed to make out exactly what they said . qwerty  the executioner\\'s argument was ,  that you couldn\\'t cut off a head unless there was a body to cut it off from :   that he had never had to do such a thing before ,  and he wasn\\'t going to begin at his time of life . qwerty  the king\\'s argument was ,  that anything that had a head could be beheaded ,  and that you weren\\'t to talk nonsense . qwerty  the queen\\'s argument was ,  that if something wasn\\'t done about it in less than no time she\\'d have everybody executed ,  all round .   ( it was this last remark that had made the whole party look so grave and anxious .  ) qwerty  alice could think of nothing else to say but \" it belongs to the duchess :   you\\'d better ask her about it . \\'qwerty  \" she\\'s in prison ,  \" the queen said to the executioner :   \" fetch her here .  \"  and the executioner went off like an arrow . qwerty   the cat\\'s head began fading away the moment he was gone ,  and ,  by the time he had come back with the duchess ,  it had entirely disappeared ;  so the king and the executioner ran wildly up and down looking for it ,  while the rest of the party went back to the game . qwerty                           chapter ixqwerty                     the mock turtle\\'s storyqwerty  \" you can\\'t think how glad i am to see you again ,  you dear old thing !  \" said the duchess ,  as she tucked her arm affectionately into alice\\'s ,  and they walked off together . qwerty  alice was very glad to find her in such a pleasant temper ,  and thought to herself that perhaps it was only the pepper that had made her so savage when they met in the kitchen . qwerty  \" when i\\'m a duchess ,  \" she said to herself ,   ( not in a very hopeful tone though )  ,  \" i won\\'t have any pepper in my kitchen at all .   soup does very well without -  - maybe it\\'s always pepper that makes people hot - tempered ,  \" she went on ,  very much pleased at having found out a new kind of rule ,  \" and vinegar that makes them sour -  - and camomile that makes them bitter -  - and -  - and barley - sugar and such things that make children sweet - tempered .   i only wish people knew that :   then they wouldn\\'t be so stingy about it ,  you know -  - \\'qwerty  she had quite forgotten the duchess by this time ,  and was a little startled when she heard her voice close to her ear .  \" you\\'re thinking about something ,  my dear ,  and that makes you forget to talk .   i can\\'t tell you just now what the moral of that is ,  but i shall remember it in a bit . \\'qwerty  \" perhaps it hasn\\'t one ,  \" alice ventured to remark . qwerty  \" tut ,  tut ,  child !  \" said the duchess .   \" everything\\'s got a moral ,  if only you can find it .  \"  and she squeezed herself up closer to alice\\'s side as she spoke . qwerty  alice did not much like keeping so close to her :   first ,  because the duchess was very ugly ;  and secondly ,  because she was exactly the right height to rest her chin upon alice\\'s shoulder ,  and it was an uncomfortably sharp chin .   however ,  she did not like to be rude ,  so she bore it as well as she could . qwerty  \" the game\\'s going on rather better now ,  \" she said ,  by way of keeping up the conversation a little . qwerty  \" \\'tis so ,  \" said the duchess :   \" and the moral of that is -  -  \" oh ,  \" tis love ,  \" tis love ,  that makes the world go round !  \" \\'qwerty  \" somebody said ,  \" alice whispered ,  \" that it\\'s done by everybody minding their own business ! \\'qwerty  \" ah ,  well !   it means much the same thing ,  \" said the duchess ,  digging her sharp little chin into alice\\'s shoulder as she added ,  \" and the moral of that is -  -  \" take care of the sense ,  and the sounds will take care of themselves .  \" \\'qwerty  \" how fond she is of finding morals in things !  \" alice thought to herself . qwerty  \" i dare say you\\'re wondering why i don\\'t put my arm round your waist ,  \" the duchess said after a pause :   \" the reason is ,  that i\\'m doubtful about the temper of your flamingo .   shall i try the experiment ? \\'qwerty  \" he might bite ,  \" alice cautiously replied ,  not feeling at all anxious to have the experiment tried . qwerty  \" very true ,  \" said the duchess :   \" flamingoes and mustard both bite .   and the moral of that is -  -  \" birds of a feather flock together .  \" \\'qwerty  \" only mustard isn\\'t a bird ,  \" alice remarked . qwerty  \" right ,  as usual ,  \" said the duchess :   \" what a clear way you have of putting things ! \\'qwerty  \" it\\'s a mineral ,  i think ,  \" said alice . qwerty  \" of course it is ,  \" said the duchess ,  who seemed ready to agree to everything that alice said ;  \" there\\'s a large mustard - mine near here .   and the moral of that is -  -  \" the more there is of mine ,  the less there is of yours .  \" \\'qwerty  \" oh ,  i know !  \" exclaimed alice ,  who had not attended to this last remark ,  \" it\\'s a vegetable .   it doesn\\'t look like one ,  but it is . \\'qwerty  \" i quite agree with you ,  \" said the duchess ;  \" and the moral of that is -  -  \" be what you would seem to be \"  -  - or if you\\'d like it put more simply -  -  \" never imagine yourself not to be otherwise than what it might appear to others that what you were or might have been was not otherwise than what you had been would have appeared to them to be otherwise .  \" \\'qwerty  \" i think i should understand that better ,  \" alice said very politely ,  \" if i had it written down :   but i can\\'t quite follow it as you say it . \\'qwerty  \" that\\'s nothing to what i could say if i chose ,  \" the duchess replied ,  in a pleased tone . qwerty  \" pray don\\'t trouble yourself to say it any longer than that ,  \" said alice . qwerty  \" oh ,  don\\'t talk about trouble !  \" said the duchess .   \" i make you a present of everything i\\'ve said as yet . \\'qwerty  \" a cheap sort of present !  \" thought alice .   \" i\\'m glad they don\\'t give birthday presents like that !  \"  but she did not venture to say it out loud . qwerty  \" thinking again ?  \" the duchess asked ,  with another dig of her sharp little chin . qwerty  \" i\\'ve a right to think ,  \" said alice sharply ,  for she was beginning to feel a little worried . qwerty  \" just about as much right ,  \" said the duchess ,  \" as pigs have to fly ;  and the m -  - \\'qwerty  but here ,  to alice\\'s great surprise ,  the duchess\\'s voice died away ,  even in the middle of her favourite word \" moral ,  \" and the arm that was linked into hers began to tremble .   alice looked up ,  and there stood the queen in front of them ,  with her arms folded ,  frowning like a thunderstorm . qwerty  \" a fine day ,  your majesty !  \" the duchess began in a low ,  weak voice . qwerty  \" now ,  i give you fair warning ,  \" shouted the queen ,  stamping on the ground as she spoke ;  \" either you or your head must be off ,  and that in about half no time !   take your choice ! \\'qwerty  the duchess took her choice ,  and was gone in a moment . qwerty  \" let\\'s go on with the game ,  \" the queen said to alice ;  and alice was too much frightened to say a word ,  but slowly followed her back to the croquet - ground . qwerty  the other guests had taken advantage of the queen\\'s absence ,  and were resting in the shade :   however ,  the moment they saw her ,  they hurried back to the game ,  the queen merely remarking that a moment\\'s delay would cost them their lives . qwerty  all the time they were playing the queen never left off quarrelling with the other players ,  and shouting \" off with his head !  \" or \" off with her head !  \"  those whom she sentenced were taken into custody by the soldiers ,  who of course had to leave off being arches to do this ,  so that by the end of half an hour or so there were no arches left ,  and all the players ,  except the king ,  the queen ,  and alice ,  were in custody and under sentence of execution . qwerty  then the queen left off ,  quite out of breath ,  and said to alice ,  \" have you seen the mock turtle yet ? \\'qwerty  \" no ,  \" said alice .   \" i don\\'t even know what a mock turtle is . \\'qwerty  \" it\\'s the thing mock turtle soup is made from ,  \" said the queen . qwerty  \" i never saw one ,  or heard of one ,  \" said alice . qwerty  \" come on ,  then ,  \" said the queen ,  \" and he shall tell you his history , \\'qwerty  as they walked off together ,  alice heard the king say in a low voice ,  to the company generally ,  \" you are all pardoned .  \"  \" come ,  that\\'s a good thing !  \" she said to herself ,  for she had felt quite unhappy at the number of executions the queen had ordered . qwerty  they very soon came upon a gryphon ,  lying fast asleep in the sun .    ( if you don\\'t know what a gryphon is ,  look at the picture .  )  \" up ,  lazy thing !  \" said the queen ,  \" and take this young lady to see the mock turtle ,  and to hear his history .   i must go back and see after some executions i have ordered\\' ;  and she walked off ,  leaving alice alone with the gryphon .   alice did not quite like the look of the creature ,  but on the whole she thought it would be quite as safe to stay with it as to go after that savage queen :   so she waited . qwerty  the gryphon sat up and rubbed its eyes :   then it watched the queen till she was out of sight :   then it chuckled .   \" what fun !  \" said the gryphon ,  half to itself ,  half to alice . qwerty  \" what is the fun ?  \" said alice . qwerty  \" why ,  she ,  \" said the gryphon .   \" it\\'s all her fancy ,  that :   they never executes nobody ,  you know .   come on ! \\'qwerty  \" everybody says  \" come on !  \"  here ,  \" thought alice ,  as she went slowly after it :   \" i never was so ordered about in all my life ,  never ! \\'qwerty  they had not gone far before they saw the mock turtle in the distance ,  sitting sad and lonely on a little ledge of rock ,  and ,  as they came nearer ,  alice could hear him sighing as if his heart would break .   she pitied him deeply .   \" what is his sorrow ?  \" she asked the gryphon ,  and the gryphon answered ,  very nearly in the same words as before ,  \" it\\'s all his fancy ,  that :   he hasn\\'t got no sorrow ,  you know .   come on ! \\'qwerty  so they went up to the mock turtle ,  who looked at them with large eyes full of tears ,  but said nothing . qwerty  \" this here young lady ,  \" said the gryphon ,  \" she wants for to know your history ,  she do . \\'qwerty  \" i\\'ll tell it her ,  \" said the mock turtle in a deep ,  hollow tone :   \" sit down ,  both of you ,  and don\\'t speak a word till i\\'ve finished . \\'qwerty  so they sat down ,  and nobody spoke for some minutes .   alice thought to herself ,  \" i don\\'t see how he can even finish ,  if he doesn\\'t begin .  \"  but she waited patiently . qwerty  \" once ,  \" said the mock turtle at last ,  with a deep sigh ,  \" i was a real turtle . \\'qwerty  these words were followed by a very long silence ,  broken only by an occasional exclamation of \" hjckrrh !  \" from the gryphon ,  and the constant heavy sobbing of the mock turtle .   alice was very nearly getting up and saying ,  \" thank you ,  sir ,  for your interesting story ,  \" but she could not help thinking there must be more to come ,  so she sat still and said nothing . qwerty  \" when we were little ,  \" the mock turtle went on at last ,  more calmly ,  though still sobbing a little now and then ,  \" we went to school in the sea .   the master was an old turtle -  - we used to call him tortoise -  - \\'qwerty  \" why did you call him tortoise ,  if he wasn\\'t one ?  \" alice asked . qwerty  \" we called him tortoise because he taught us ,  \" said the mock turtle angrily :   \" really you are very dull ! \\'qwerty  \" you ought to be ashamed of yourself for asking such a simple question ,  \" added the gryphon ;  and then they both sat silent and looked at poor alice ,  who felt ready to sink into the earth .   at last the gryphon said to the mock turtle ,  \" drive on ,  old fellow !  don\\'t be all day about it !  \" and he went on in these words : qwerty  \" yes ,  we went to school in the sea ,  though you mayn\\'t believe it -  - \\'qwerty  \" i never said i didn\\'t !  \" interrupted alice . qwerty  \" you did ,  \" said the mock turtle . qwerty  \" hold your tongue !  \" added the gryphon ,  before alice could speak again .   the mock turtle went on . qwerty  \" we had the best of educations -  - in fact ,  we went to school every day -  - \\'qwerty  \" i\\'ve been to a day - school ,  too ,  \" said alice ;  \" you needn\\'t be so proud as all that . \\'qwerty  \" with extras ?  \" asked the mock turtle a little anxiously . qwerty  \" yes ,  \" said alice ,  \" we learned french and music . \\'qwerty  \" and washing ?  \" said the mock turtle . qwerty  \" certainly not !  \" said alice indignantly . qwerty  \" ah !  then yours wasn\\'t a really good school ,  \" said the mock turtle in a tone of great relief .   \" now at ours they had at the end of the bill ,   \" french ,  music ,  and washing -  - extra .  \" \\'qwerty  \" you couldn\\'t have wanted it much ,  \" said alice ;  \" living at the bottom of the sea . \\'qwerty  \" i couldn\\'t afford to learn it .  \" said the mock turtle with a sigh .   \" i only took the regular course . \\'qwerty  \" what was that ?  \" inquired alice . qwerty  \" reeling and writhing ,  of course ,  to begin with ,  \" the mock turtle replied ;  \" and then the different branches of arithmetic -  -  ambition ,  distraction ,  uglification ,  and derision . \\'qwerty  \" i never heard of  \" uglification ,  \"  \" alice ventured to say .   \" what is it ? \\'qwerty  the gryphon lifted up both its paws in surprise .   \" what !   never heard of uglifying !  \" it exclaimed .   \" you know what to beautify is ,  i suppose ? \\'qwerty  \" yes ,  \" said alice doubtfully :   \" it means -  - to -  - make -  - anything -  - prettier . \\'qwerty  \" well ,  then ,  \" the gryphon went on ,  \" if you don\\'t know what to uglify is ,  you are a simpleton . \\'qwerty  alice did not feel encouraged to ask any more questions about it ,  so she turned to the mock turtle ,  and said \" what else had you to learn ? \\'qwerty  \" well ,  there was mystery ,  \" the mock turtle replied ,  counting off the subjects on his flappers ,  \"  -  - mystery ,  ancient and modern ,  with seaography :   then drawling -  - the drawling - master was an old conger - eel ,  that used to come once a week :   he taught us drawling ,  stretching ,  and fainting in coils . \\'qwerty  \" what was that like ?  \" said alice . qwerty  \" well ,  i can\\'t show it you myself ,  \" the mock turtle said :   \" i\\'m too stiff .   and the gryphon never learnt it . \\'qwerty  \" hadn\\'t time ,  \" said the gryphon :   \" i went to the classics master ,  though .   he was an old crab ,  he was . \\'qwerty  \" i never went to him ,  \" the mock turtle said with a sigh :   \" he taught laughing and grief ,  they used to say . \\'qwerty  \" so he did ,  so he did ,  \" said the gryphon ,  sighing in his turn ;  and both creatures hid their faces in their paws . qwerty  \" and how many hours a day did you do lessons ?  \" said alice ,  in a hurry to change the subject . qwerty  \" ten hours the first day ,  \" said the mock turtle :  \" nine the next ,  and so on . \\'qwerty  \" what a curious plan !  \" exclaimed alice . qwerty  \" that\\'s the reason they\\'re called lessons ,  \" the gryphon remarked :   \" because they lessen from day to day . \\'qwerty  this was quite a new idea to alice ,  and she thought it over a little before she made her next remark .   \" then the eleventh day must have been a holiday ? \\'qwerty  \" of course it was ,  \" said the mock turtle . qwerty  \" and how did you manage on the twelfth ?  \" alice went on eagerly . qwerty  \" that\\'s enough about lessons ,  \" the gryphon interrupted in a very decided tone :   \" tell her something about the games now . \\'qwerty                            chapter xqwerty                      the lobster quadrilleqwerty  the mock turtle sighed deeply ,  and drew the back of one flapper across his eyes .   he looked at alice ,  and tried to speak ,  but for a minute or two sobs choked his voice .   \" same as if he had a bone in his throat ,  \" said the gryphon :   and it set to work shaking him and punching him in the back .   at last the mock turtle recovered his voice ,  and ,  with tears running down his cheeks ,  he went on again :  -  - qwerty  \" you may not have lived much under the sea -  -  \"  ( `i haven\\'t ,  \" said alice )  -  -  \" and perhaps you were never even introduced to a lobster -  -  \"  ( alice began to say \" i once tasted -  -  \" but checked herself hastily ,  and said \" no ,  never\\' )  \"  -  - so you can have no idea what a delightful thing a lobster quadrille is ! \\'qwerty  \" no ,  indeed ,  \" said alice .   \" what sort of a dance is it ? \\'qwerty  \" why ,  \" said the gryphon ,  \" you first form into a line along the sea - shore -  - \\'qwerty  \" two lines !  \" cried the mock turtle .   \" seals ,  turtles ,  salmon ,  and so on ;  then ,  when you\\'ve cleared all the jelly - fish out of the way -  - \\'qwerty  \" that generally takes some time ,  \" interrupted the gryphon . qwerty  \"  -  - you advance twice -  - \\'qwerty  \" each with a lobster as a partner !  \" cried the gryphon . qwerty  \" of course ,  \" the mock turtle said :   \" advance twice ,  set to partners -  - \\'qwerty  \"  -  - change lobsters ,  and retire in same order ,  \" continued the gryphon . qwerty  \" then ,  you know ,  \" the mock turtle went on ,  \" you throw the -  - \\'qwerty  \" the lobsters !  \" shouted the gryphon ,  with a bound into the air . qwerty  \"  -  - as far out to sea as you can -  - \\'qwerty  \" swim after them !  \" screamed the gryphon . qwerty  \" turn a somersault in the sea !  \" cried the mock turtle ,  capering wildly about . qwerty  \" change lobsters again !  \" yelled the gryphon at the top of its voice . qwerty  \" back to land again ,  and that\\'s all the first figure ,  \" said the mock turtle ,  suddenly dropping his voice ;  and the two creatures ,  who had been jumping about like mad things all this time ,  sat down again very sadly and quietly ,  and looked at alice . qwerty  \" it must be a very pretty dance ,  \" said alice timidly . qwerty  \" would you like to see a little of it ?  \" said the mock turtle . qwerty  \" very much indeed ,  \" said alice . qwerty  \" come ,  let\\'s try the first figure !  \" said the mock turtle to the gryphon .   \" we can do without lobsters ,  you know .   which shall sing ? \\'qwerty  \" oh ,  you sing ,  \" said the gryphon .   \" i\\'ve forgotten the words . \\'qwerty  so they began solemnly dancing round and round alice ,  every now and then treading on her toes when they passed too close ,  and waving their forepaws to mark the time ,  while the mock turtle sang this ,  very slowly and sadly :  -  - qwerty` \" will you walk a little faster ?  \"  said a whiting to a snail .   \" there\\'s a porpoise close behind us ,  and he\\'s treading on my  tail .  see how eagerly the lobsters and the turtles all advance !  they are waiting on the shingle -  - will you come and join the dance ? qwertywill you ,  won\\'t you ,  will you ,  won\\'t you ,  will you join the dance ?  will you ,  won\\'t you ,  will you ,  won\\'t you ,  won\\'t you join the dance ? qwerty \" you can really have no notion how delightful it will be when they take us up and throw us ,  with the lobsters ,  out to                                                       sea !  \"  but the snail replied  \" too far ,  too far !  \"  and gave a look                                                        askance -  -  said he thanked the whiting kindly ,  but he would not join the    dance .      would not ,  could not ,  would not ,  could not ,  would not join         the dance .      would not ,  could not ,  would not ,  could not ,  could not join         the dance . qwerty` \" what matters it how far we go ?  \"  his scaly friend replied .   \" there is another shore ,  you know ,  upon the other side .  the further off from england the nearer is to france -  -  then turn not pale ,  beloved snail ,  but come and join the dance . qwerty    will you ,  won\\'t you ,  will you ,  won\\'t you ,  will you join the          dance ?      will you ,  won\\'t you ,  will you ,  won\\'t you ,  won\\'t you join the          dance ?  \" \\'qwerty  \" thank you ,  it\\'s a very interesting dance to watch ,  \" said alice ,  feeling very glad that it was over at last :   \" and i do so like that curious song about the whiting ! \\'qwerty  \" oh ,  as to the whiting ,  \" said the mock turtle ,  \" they -  - you\\'ve seen them ,  of course ? \\'qwerty  \" yes ,  \" said alice ,  \" i\\'ve often seen them at dinn -  -  \" she checked herself hastily . qwerty  \" i don\\'t know where dinn may be ,  \" said the mock turtle ,  \" but if you\\'ve seen them so often ,  of course you know what they\\'re like . \\'qwerty  \" i believe so ,  \" alice replied thoughtfully .   \" they have their tails in their mouths -  - and they\\'re all over crumbs . \\'qwerty  \" you\\'re wrong about the crumbs ,  \" said the mock turtle :  \" crumbs would all wash off in the sea .   but they have their tails in their mouths ;  and the reason is -  -  \" here the mock turtle yawned and shut his eyes .  -  - `tell her about the reason and all that ,  \" he said to the gryphon . qwerty  \" the reason is ,  \" said the gryphon ,  \" that they would go with the lobsters to the dance .   so they got thrown out to sea .   so they had to fall a long way .   so they got their tails fast in their mouths .   so they couldn\\'t get them out again .   that\\'s all . \\'qwerty  \" thank you ,  \" said alice ,  \" it\\'s very interesting .   i never knew so much about a whiting before . \\'qwerty  \" i can tell you more than that ,  if you like ,  \" said the gryphon .   \" do you know why it\\'s called a whiting ? \\'qwerty  \" i never thought about it ,  \" said alice .   \" why ? \\'qwerty  \" it does the boots and shoes .  \" the gryphon replied very solemnly . qwerty  alice was thoroughly puzzled .   \" does the boots and shoes !  \" she repeated in a wondering tone . qwerty  \" why ,  what are your shoes done with ?  \" said the gryphon .   \" i mean ,  what makes them so shiny ? \\'qwerty  alice looked down at them ,  and considered a little before she gave her answer .   \" they\\'re done with blacking ,  i believe . \\'qwerty  \" boots and shoes under the sea ,  \" the gryphon went on in a deep voice ,  \" are done with a whiting .   now you know . \\'qwerty  \" and what are they made of ?  \" alice asked in a tone of great curiosity . qwerty  \" soles and eels ,  of course ,  \" the gryphon replied rather impatiently :   \" any shrimp could have told you that . \\'qwerty  \" if i\\'d been the whiting ,  \" said alice ,  whose thoughts were still running on the song ,  \" i\\'d have said to the porpoise ,   \" keep back ,  please :   we don\\'t want you with us !  \" \\'qwerty  \" they were obliged to have him with them ,  \" the mock turtle said :   \" no wise fish would go anywhere without a porpoise . \\'qwerty  \" wouldn\\'t it really ?  \" said alice in a tone of great surprise . qwerty  \" of course not ,  \" said the mock turtle :   \" why ,  if a fish came to me ,  and told me he was going a journey ,  i should say  \" with what porpoise ?  \" \\'qwerty  \" don\\'t you mean  \" purpose \"  ?  \" said alice . qwerty  \" i mean what i say ,  \" the mock turtle replied in an offended tone .   and the gryphon added \" come ,  let\\'s hear some of your adventures . \\'qwerty  \" i could tell you my adventures -  - beginning from this morning ,  \" said alice a little timidly :   \" but it\\'s no use going back to yesterday ,  because i was a different person then . \\'qwerty  \" explain all that ,  \" said the mock turtle . qwerty  \" no ,  no !   the adventures first ,  \" said the gryphon in an impatient tone :   \" explanations take such a dreadful time . \\'qwerty  so alice began telling them her adventures from the time when she first saw the white rabbit .   she was a little nervous about it just at first ,  the two creatures got so close to her ,  one on each side ,  and opened their eyes and mouths so very wide ,  but she gained courage as she went on .   her listeners were perfectly quiet till she got to the part about her repeating \" you are old ,  father william ,  \" to the caterpillar ,  and the words all coming different ,  and then the mock turtle drew a long breath ,  and said \" that\\'s very curious . \\'qwerty  \" it\\'s all about as curious as it can be ,  \" said the gryphon . qwerty  \" it all came different !  \" the mock turtle repeated thoughtfully .   \" i should like to hear her try and repeat something now .   tell her to begin .  \"  he looked at the gryphon as if he thought it had some kind of authority over alice . qwerty  \" stand up and repeat  \" \\'tis the voice of the sluggard ,  \"  \" said the gryphon . qwerty  \" how the creatures order one about ,  and make one repeat lessons !  \" thought alice ;  \" i might as well be at school at once .  \" however ,  she got up ,  and began to repeat it ,  but her head was so full of the lobster quadrille ,  that she hardly knew what she was saying ,  and the words came very queer indeed :  -  - qwerty    \" \\'tis the voice of the lobster ;  i heard him declare ,       \" you have baked me too brown ,  i must sugar my hair .  \"      as a duck with its eyelids ,  so he with his nose     trims his belt and his buttons ,  and turns out his toes . \\'qwerty               [ later editions continued as follows     when the sands are all dry ,  he is gay as a lark ,      and will talk in contemptuous tones of the shark ,      but ,  when the tide rises and sharks are around ,      his voice has a timid and tremulous sound .  ] qwerty  \" that\\'s different from what i used to say when i was a child ,  \" said the gryphon . qwerty  \" well ,  i never heard it before ,  \" said the mock turtle ;  \" but it sounds uncommon nonsense . \\'qwerty  alice said nothing ;  she had sat down with her face in her hands ,  wondering if anything would ever happen in a natural way again . qwerty  \" i should like to have it explained ,  \" said the mock turtle . qwerty  \" she can\\'t explain it ,  \" said the gryphon hastily .   \" go on with the next verse . \\'qwerty  \" but about his toes ?  \" the mock turtle persisted .   \" how could he turn them out with his nose ,  you know ? \\'qwerty  \" it\\'s the first position in dancing .  \" alice said ;  but was dreadfully puzzled by the whole thing ,  and longed to change the subject . qwerty  \" go on with the next verse ,  \" the gryphon repeated impatiently :  \" it begins  \" i passed by his garden .  \" \\'qwerty  alice did not dare to disobey ,  though she felt sure it would all come wrong ,  and she went on in a trembling voice :  -  - qwerty    \" i passed by his garden ,  and marked ,  with one eye ,      how the owl and the panther were sharing a pie -  - \\'qwerty         [ later editions continued as follows     the panther took pie - crust ,  and gravy ,  and meat ,      while the owl had the dish as its share of the treat .      when the pie was all finished ,  the owl ,  as a boon ,      was kindly permitted to pocket the spoon :      while the panther received knife and fork with a growl ,      and concluded the banquet -  -  ] qwerty  \" what is the use of repeating all that stuff ,  \" the mock turtle interrupted ,  \" if you don\\'t explain it as you go on ?   it\\'s by far the most confusing thing i ever heard ! \\'qwerty  \" yes ,  i think you\\'d better leave off ,  \" said the gryphon :   and alice was only too glad to do so . qwerty  \" shall we try another figure of the lobster quadrille ?  \" the gryphon went on .   \" or would you like the mock turtle to sing you a song ? \\'qwerty  \" oh ,  a song ,  please ,  if the mock turtle would be so kind ,  \" alice replied ,  so eagerly that the gryphon said ,  in a rather offended tone ,  \" hm !   no accounting for tastes !   sing her  \" turtle soup ,  \"  will you ,  old fellow ? \\'qwerty  the mock turtle sighed deeply ,  and began ,  in a voice sometimes choked with sobs ,  to sing this :  -  - qwerty    \" beautiful soup ,  so rich and green ,      waiting in a hot tureen !      who for such dainties would not stoop ?      soup of the evening ,  beautiful soup !      soup of the evening ,  beautiful soup !          beau -  - ootiful soo -  - oop !          beau -  - ootiful soo -  - oop !      soo -  - oop of the e -  - e -  - evening ,          beautiful ,  beautiful soup ! qwerty    \" beautiful soup !   who cares for fish ,      game ,  or any other dish ?      who would not give all else for two     pennyworth only of beautiful soup ?      pennyworth only of beautiful soup ?          beau -  - ootiful soo -  - oop !          beau -  - ootiful soo -  - oop !      soo -  - oop of the e -  - e -  - evening ,          beautiful ,  beauti -  - ful soup ! \\'qwerty  \" chorus again !  \" cried the gryphon ,  and the mock turtle had just begun to repeat it ,  when a cry of \" the trial\\'s beginning !  \" was heard in the distance . qwerty  \" come on !  \" cried the gryphon ,  and ,  taking alice by the hand ,  it hurried off ,  without waiting for the end of the song . qwerty  \" what trial is it ?  \" alice panted as she ran ;  but the gryphon only answered \" come on !  \" and ran the faster ,  while more and more faintly came ,  carried on the breeze that followed them ,  the melancholy words :  -  - qwerty    \" soo -  - oop of the e -  - e -  - evening ,          beautiful ,  beautiful soup ! \\'qwerty                           chapter xiqwerty                      who stole the tarts ? qwerty  the king and queen of hearts were seated on their throne when they arrived ,  with a great crowd assembled about them -  - all sorts of little birds and beasts ,  as well as the whole pack of cards :  the knave was standing before them ,  in chains ,  with a soldier on each side to guard him ;  and near the king was the white rabbit ,  with a trumpet in one hand ,  and a scroll of parchment in the other .   in the very middle of the court was a table ,  with a large dish of tarts upon it :   they looked so good ,  that it made alice quite hungry to look at them -  - `i wish they\\'d get the trial done ,  \" she thought ,  \" and hand round the refreshments !  \"  but there seemed to be no chance of this ,  so she began looking at everything about her ,  to pass away the time . qwerty  alice had never been in a court of justice before ,  but she had read about them in books ,  and she was quite pleased to find that she knew the name of nearly everything there .   \" that\\'s the judge ,  \" she said to herself ,  \" because of his great wig . \\'qwerty  the judge ,  by the way ,  was the king ;  and as he wore his crown over the wig ,   ( look at the frontispiece if you want to see how he did it ,  )  he did not look at all comfortable ,  and it was certainly not becoming . qwerty  \" and that\\'s the jury - box ,  \" thought alice ,  \" and those twelve creatures ,  \"  ( she was obliged to say \" creatures ,  \" you see ,  because some of them were animals ,  and some were birds ,  )  \" i suppose they are the jurors .  \"  she said this last word two or three times over to herself ,  being rather proud of it :   for she thought ,  and rightly too ,  that very few little girls of her age knew the meaning of it at all .   however ,  \" jury - men \" would have done just as well . qwerty  the twelve jurors were all writing very busily on slates .  \" what are they doing ?  \"  alice whispered to the gryphon .   \" they can\\'t have anything to put down yet ,  before the trial\\'s begun . \\'qwerty  \" they\\'re putting down their names ,  \" the gryphon whispered in reply ,  \" for fear they should forget them before the end of the trial . \\'qwerty  \" stupid things !  \" alice began in a loud ,  indignant voice ,  but she stopped hastily ,  for the white rabbit cried out ,  \" silence in the court !  \" and the king put on his spectacles and looked anxiously round ,  to make out who was talking . qwerty  alice could see ,  as well as if she were looking over their shoulders ,  that all the jurors were writing down \" stupid things !  \" on their slates ,  and she could even make out that one of them didn\\'t know how to spell \" stupid ,  \" and that he had to ask his neighbour to tell him .   \" a nice muddle their slates\\'ll be in before the trial\\'s over !  \" thought alice . qwerty  one of the jurors had a pencil that squeaked .   this of course ,  alice could not stand ,  and she went round the court and got behind him ,  and very soon found an opportunity of taking it away .   she did it so quickly that the poor little juror  ( it was bill ,  the lizard )  could not make out at all what had become of it ;  so ,  after hunting all about for it ,  he was obliged to write with one finger for the rest of the day ;  and this was of very little use ,  as it left no mark on the slate . qwerty  \" herald ,  read the accusation !  \" said the king . qwerty  on this the white rabbit blew three blasts on the trumpet ,  and then unrolled the parchment scroll ,  and read as follows :  -  - qwerty    \" the queen of hearts ,  she made some tarts ,            all on a summer day :        the knave of hearts ,  he stole those tarts ,            and took them quite away ! \\'qwerty  \" consider your verdict ,  \" the king said to the jury . qwerty  \" not yet ,  not yet !  \" the rabbit hastily interrupted .   \" there\\'s a great deal to come before that ! \\'qwerty  \" call the first witness ,  \" said the king ;  and the white rabbit blew three blasts on the trumpet ,  and called out ,  \" first witness ! \\'qwerty  the first witness was the hatter .   he came in with a teacup in one hand and a piece of bread - and - butter in the other .   \" i beg pardon ,  your majesty ,  \" he began ,  \" for bringing these in :   but i hadn\\'t quite finished my tea when i was sent for . \\'qwerty  \" you ought to have finished ,  \" said the king .   \" when did you begin ? \\'qwerty  the hatter looked at the march hare ,  who had followed him into the court ,  arm - in - arm with the dormouse .   \" fourteenth of march ,  i think it was ,  \" he said . qwerty  \" fifteenth ,  \" said the march hare . qwerty  \" sixteenth ,  \" added the dormouse . qwerty  \" write that down ,  \" the king said to the jury ,  and the jury eagerly wrote down all three dates on their slates ,  and then added them up ,  and reduced the answer to shillings and pence . qwerty  \" take off your hat ,  \" the king said to the hatter . qwerty  \" it isn\\'t mine ,  \" said the hatter . qwerty  \" stolen !  \" the king exclaimed ,  turning to the jury ,  who instantly made a memorandum of the fact . qwerty  \" i keep them to sell ,  \" the hatter added as an explanation ;  \" i\\'ve none of my own .   i\\'m a hatter . \\'qwerty  here the queen put on her spectacles ,  and began staring at the hatter ,  who turned pale and fidgeted . qwerty  \" give your evidence ,  \" said the king ;  \" and don\\'t be nervous ,  or i\\'ll have you executed on the spot . \\'qwerty  this did not seem to encourage the witness at all :   he kept shifting from one foot to the other ,  looking uneasily at the queen ,  and in his confusion he bit a large piece out of his teacup instead of the bread - and - butter . qwerty  just at this moment alice felt a very curious sensation ,  which puzzled her a good deal until she made out what it was :   she was beginning to grow larger again ,  and she thought at first she would get up and leave the court ;  but on second thoughts she decided to remain where she was as long as there was room for her . qwerty  \" i wish you wouldn\\'t squeeze so .  \" said the dormouse ,  who was sitting next to her .   \" i can hardly breathe . \\'qwerty  \" i can\\'t help it ,  \" said alice very meekly :   \" i\\'m growing . \\'qwerty  \" you\\'ve no right to grow here ,  \" said the dormouse . qwerty  \" don\\'t talk nonsense ,  \" said alice more boldly :   \" you know you\\'re growing too . \\'qwerty  \" yes ,  but i grow at a reasonable pace ,  \" said the dormouse :  \" not in that ridiculous fashion .  \"  and he got up very sulkily and crossed over to the other side of the court . qwerty  all this time the queen had never left off staring at the hatter ,  and ,  just as the dormouse crossed the court ,  she said to one of the officers of the court ,  \" bring me the list of the singers in the last concert !  \" on which the wretched hatter trembled so ,  that he shook both his shoes off . qwerty  \" give your evidence ,  \" the king repeated angrily ,  \" or i\\'ll have you executed ,  whether you\\'re nervous or not . \\'qwerty  \" i\\'m a poor man ,  your majesty ,  \" the hatter began ,  in a trembling voice ,  \"  -  - and i hadn\\'t begun my tea -  - not above a week or so -  - and what with the bread - and - butter getting so thin -  - and the twinkling of the tea -  - \\'qwerty  \" the twinkling of the what ?  \" said the king . qwerty  \" it began with the tea ,  \" the hatter replied . qwerty  \" of course twinkling begins with a t !  \" said the king sharply .  \" do you take me for a dunce ?   go on ! \\'qwerty  \" i\\'m a poor man ,  \" the hatter went on ,  \" and most things twinkled after that -  - only the march hare said -  - \\'qwerty  \" i didn\\'t !  \" the march hare interrupted in a great hurry . qwerty  \" you did !  \" said the hatter . qwerty  \" i deny it !  \" said the march hare . qwerty  \" he denies it ,  \" said the king :   \" leave out that part . \\'qwerty  \" well ,  at any rate ,  the dormouse said -  -  \" the hatter went on ,  looking anxiously round to see if he would deny it too :   but the dormouse denied nothing ,  being fast asleep . qwerty  \" after that ,  \" continued the hatter ,  \" i cut some more bread -  and - butter -  - \\'qwerty  \" but what did the dormouse say ?  \" one of the jury asked . qwerty  \" that i can\\'t remember ,  \" said the hatter . qwerty  \" you must remember ,  \" remarked the king ,  \" or i\\'ll have you executed . \\'qwerty  the miserable hatter dropped his teacup and bread - and - butter ,  and went down on one knee .   \" i\\'m a poor man ,  your majesty ,  \" he began . qwerty  \" you\\'re a very poor speaker ,  \" said the king . qwerty  here one of the guinea - pigs cheered ,  and was immediately suppressed by the officers of the court .    ( as that is rather a hard word ,  i will just explain to you how it was done .   they had a large canvas bag ,  which tied up at the mouth with strings :  into this they slipped the guinea - pig ,  head first ,  and then sat upon it .  ) qwerty  \" i\\'m glad i\\'ve seen that done ,  \" thought alice .   \" i\\'ve so often read in the newspapers ,  at the end of trials ,   \" there was some attempts at applause ,  which was immediately suppressed by the officers of the court ,  \"  and i never understood what it meant till now . \\'qwerty  \" if that\\'s all you know about it ,  you may stand down ,  \" continued the king . qwerty  \" i can\\'t go no lower ,  \" said the hatter :   \" i\\'m on the floor ,  as it is . \\'qwerty  \" then you may sit down ,  \" the king replied . qwerty  here the other guinea - pig cheered ,  and was suppressed . qwerty  \" come ,  that finished the guinea - pigs !  \" thought alice .   \" now we shall get on better . \\'qwerty  \" i\\'d rather finish my tea ,  \" said the hatter ,  with an anxious look at the queen ,  who was reading the list of singers . qwerty  \" you may go ,  \" said the king ,  and the hatter hurriedly left the court ,  without even waiting to put his shoes on . qwerty  \"  -  - and just take his head off outside ,  \" the queen added to one of the officers :   but the hatter was out of sight before the officer could get to the door . qwerty  \" call the next witness !  \" said the king . qwerty  the next witness was the duchess\\'s cook .   she carried the pepper - box in her hand ,  and alice guessed who it was ,  even before she got into the court ,  by the way the people near the door began sneezing all at once . qwerty  \" give your evidence ,  \" said the king . qwerty  \" shan\\'t ,  \" said the cook . qwerty  the king looked anxiously at the white rabbit ,  who said in a low voice ,  \" your majesty must cross - examine this witness . \\'qwerty  \" well ,  if i must ,  i must ,  \" the king said ,  with a melancholy air ,  and ,  after folding his arms and frowning at the cook till his eyes were nearly out of sight ,  he said in a deep voice ,  \" what are tarts made of ? \\'qwerty  \" pepper ,  mostly ,  \" said the cook . qwerty  \" treacle ,  \" said a sleepy voice behind her . qwerty  \" collar that dormouse ,  \" the queen shrieked out .   \" behead that dormouse !   turn that dormouse out of court !   suppress him !   pinch him !   off with his whiskers ! \\'qwerty  for some minutes the whole court was in confusion ,  getting the dormouse turned out ,  and ,  by the time they had settled down again ,  the cook had disappeared . qwerty  \" never mind !  \" said the king ,  with an air of great relief .  \" call the next witness .  \"  and he added in an undertone to the queen ,  \" really ,  my dear ,  you must cross - examine the next witness .  it quite makes my forehead ache ! \\'qwerty  alice watched the white rabbit as he fumbled over the list ,  feeling very curious to see what the next witness would be like ,  \"  -  - for they haven\\'t got much evidence yet ,  \" she said to herself .  imagine her surprise ,  when the white rabbit read out ,  at the top of his shrill little voice ,  the name \" alice ! \\'qwerty                           chapter xiiqwerty                        alice\\'s evidenceqwerty  \" here !  \" cried alice ,  quite forgetting in the flurry of the moment how large she had grown in the last few minutes ,  and she jumped up in such a hurry that she tipped over the jury - box with the edge of her skirt ,  upsetting all the jurymen on to the heads of the crowd below ,  and there they lay sprawling about ,  reminding her very much of a globe of goldfish she had accidentally upset the week before . qwerty  \" oh ,  i beg your pardon !  \" she exclaimed in a tone of great dismay ,  and began picking them up again as quickly as she could ,  for the accident of the goldfish kept running in her head ,  and she had a vague sort of idea that they must be collected at once and put back into the jury - box ,  or they would die . qwerty  \" the trial cannot proceed ,  \" said the king in a very grave voice ,  \" until all the jurymen are back in their proper places -  -  all ,  \" he repeated with great emphasis ,  looking hard at alice as he said do . qwerty  alice looked at the jury - box ,  and saw that ,  in her haste ,  she had put the lizard in head downwards ,  and the poor little thing was waving its tail about in a melancholy way ,  being quite unable to move .   she soon got it out again ,  and put it right ;  \" not that it signifies much ,  \" she said to herself ;  \" i should think it would be quite as much use in the trial one way up as the other . \\'qwerty  as soon as the jury had a little recovered from the shock of being upset ,  and their slates and pencils had been found and handed back to them ,  they set to work very diligently to write out a history of the accident ,  all except the lizard ,  who seemed too much overcome to do anything but sit with its mouth open ,  gazing up into the roof of the court . qwerty  \" what do you know about this business ?  \" the king said to alice . qwerty  \" nothing ,  \" said alice . qwerty  \" nothing whatever ?  \" persisted the king . qwerty  \" nothing whatever ,  \" said alice . qwerty  \" that\\'s very important ,  \" the king said ,  turning to the jury .  they were just beginning to write this down on their slates ,  when the white rabbit interrupted :   \" unimportant ,  your majesty means ,  of course ,  \" he said in a very respectful tone ,  but frowning and making faces at him as he spoke . qwerty  \" unimportant ,  of course ,  i meant ,  \" the king hastily said ,  and went on to himself in an undertone ,  \" important -  - unimportant -  -  unimportant -  - important -  -  \" as if he were trying which word sounded best . qwerty  some of the jury wrote it down \" important ,  \" and some \" unimportant .  \"  alice could see this ,  as she was near enough to look over their slates ;  \" but it doesn\\'t matter a bit ,  \" she thought to herself . qwerty  at this moment the king ,  who had been for some time busily writing in his note - book ,  cackled out \" silence !  \" and read out from his book ,  \" rule forty - two .   all persons more than a mile high to leave the court . \\'qwerty  everybody looked at alice . qwerty  \" i\\'m not a mile high ,  \" said alice . qwerty  \" you are ,  \" said the king . qwerty  \" nearly two miles high ,  \" added the queen . qwerty  \" well ,  i shan\\'t go ,  at any rate ,  \" said alice :   \" besides ,  that\\'s not a regular rule :   you invented it just now . \\'qwerty  \" it\\'s the oldest rule in the book ,  \" said the king . qwerty  \" then it ought to be number one ,  \" said alice . qwerty  the king turned pale ,  and shut his note - book hastily .  \" consider your verdict ,  \" he said to the jury ,  in a low ,  trembling voice . qwerty  \" there\\'s more evidence to come yet ,  please your majesty ,  \" said the white rabbit ,  jumping up in a great hurry ;  \" this paper has just been picked up . \\'qwerty  \" what\\'s in it ?  \" said the queen . qwerty  \" i haven\\'t opened it yet ,  \" said the white rabbit ,  \" but it seems to be a letter ,  written by the prisoner to -  - to somebody . \\'qwerty  \" it must have been that ,  \" said the king ,  \" unless it was written to nobody ,  which isn\\'t usual ,  you know . \\'qwerty  \" who is it directed to ?  \" said one of the jurymen . qwerty  \" it isn\\'t directed at all ,  \" said the white rabbit ;  \" in fact ,  there\\'s nothing written on the outside .  \"  he unfolded the paper as he spoke ,  and added \" it isn\\'t a letter ,  after all :   it\\'s a set of verses . \\'qwerty  \" are they in the prisoner\\'s handwriting ?  \" asked another of the jurymen . qwerty  \" no ,  they\\'re not ,  \" said the white rabbit ,  \" and that\\'s the queerest thing about it .  \"   ( the jury all looked puzzled .  ) qwerty  \" he must have imitated somebody else\\'s hand ,  \" said the king .   ( the jury all brightened up again .  ) qwerty  \" please your majesty ,  \" said the knave ,  \" i didn\\'t write it ,  and they can\\'t prove i did :   there\\'s no name signed at the end . \\'qwerty  \" if you didn\\'t sign it ,  \" said the king ,  \" that only makes the matter worse .   you must have meant some mischief ,  or else you\\'d have signed your name like an honest man . \\'qwerty  there was a general clapping of hands at this :   it was the first really clever thing the king had said that day . qwerty  \" that proves his guilt ,  \" said the queen . qwerty  \" it proves nothing of the sort !  \" said alice .   \" why ,  you don\\'t even know what they\\'re about ! \\'qwerty  \" read them ,  \" said the king . qwerty  the white rabbit put on his spectacles .   \" where shall i begin ,  please your majesty ?  \" he asked . qwerty  \" begin at the beginning ,  \" the king said gravely ,  \" and go on till you come to the end :   then stop . \\'qwerty  these were the verses the white rabbit read :  -  - qwerty        \" they told me you had been to her ,            and mentioned me to him :          she gave me a good character ,            but said i could not swim . qwerty        he sent them word i had not gone            ( we know it to be true )  :          if she should push the matter on ,            what would become of you ? qwerty        i gave her one ,  they gave him two ,            you gave us three or more ;          they all returned from him to you ,            though they were mine before . qwerty        if i or she should chance to be           involved in this affair ,          he trusts to you to set them free ,            exactly as we were . qwerty        my notion was that you had been            ( before she had this fit )          an obstacle that came between           him ,  and ourselves ,  and it . qwerty        don\\'t let him know she liked them best ,            for this must ever be         a secret ,  kept from all the rest ,            between yourself and me . \\'qwerty  \" that\\'s the most important piece of evidence we\\'ve heard yet ,  \" said the king ,  rubbing his hands ;  \" so now let the jury -  - \\'qwerty  \" if any one of them can explain it ,  \" said alice ,   ( she had grown so large in the last few minutes that she wasn\\'t a bit afraid of interrupting him ,  )  \" i\\'ll give him sixpence .    _ i _  don\\'t believe there\\'s an atom of meaning in it . \\'qwerty  the jury all wrote down on their slates ,  \" she doesn\\'t believe there\\'s an atom of meaning in it ,  \" but none of them attempted to explain the paper . qwerty  \" if there\\'s no meaning in it ,  \" said the king ,  \" that saves a world of trouble ,  you know ,  as we needn\\'t try to find any .   and yet i don\\'t know ,  \" he went on ,  spreading out the verses on his knee ,  and looking at them with one eye ;  \" i seem to see some meaning in them ,  after all .    \"  -  - said i could not swim -  -  \"  you can\\'t swim ,  can you ?  \" he added ,  turning to the knave . qwerty  the knave shook his head sadly .   \" do i look like it ?  \" he said .   ( which he certainly did not ,  being made entirely of cardboard .  ) qwerty  \" all right ,  so far ,  \" said the king ,  and he went on muttering over the verses to himself :   \"  \" we know it to be true -  -  \"  that\\'s the jury ,  of course -  -   \" i gave her one ,  they gave him two -  -  \"  why ,  that must be what he did with the tarts ,  you know -  - \\'qwerty  \" but ,  it goes on  \" they all returned from him to you ,  \"  \" said alice . qwerty  \" why ,  there they are !  \" said the king triumphantly ,  pointing to the tarts on the table .   \" nothing can be clearer than that .  then again -  -  \" before she had this fit -  -  \"   you never had fits ,  my dear ,  i think ?  \" he said to the queen . qwerty  \" never !  \" said the queen furiously ,  throwing an inkstand at the lizard as she spoke .    ( the unfortunate little bill had left off writing on his slate with one finger ,  as he found it made no mark ;  but he now hastily began again ,  using the ink ,  that was trickling down his face ,  as long as it lasted .  ) qwerty  \" then the words don\\'t fit you ,  \" said the king ,  looking round the court with a smile .   there was a dead silence . qwerty  \" it\\'s a pun !  \" the king added in an offended tone ,  and everybody laughed ,  \" let the jury consider their verdict ,  \" the king said ,  for about the twentieth time that day . qwerty  \" no ,  no !  \" said the queen .   \" sentence first -  - verdict afterwards . \\'qwerty  \" stuff and nonsense !  \" said alice loudly .   \" the idea of having the sentence first ! \\'qwerty  \" hold your tongue !  \" said the queen ,  turning purple . qwerty  \" i won\\'t !  \" said alice . qwerty  \" off with her head !  \" the queen shouted at the top of her voice .  nobody moved . qwerty  \" who cares for you ?  \" said alice ,   ( she had grown to her full size by this time .  )   \" you\\'re nothing but a pack of cards ! \\'qwerty  at this the whole pack rose up into the air ,  and came flying down upon her :   she gave a little scream ,  half of fright and half of anger ,  and tried to beat them off ,  and found herself lying on the bank ,  with her head in the lap of her sister ,  who was gently brushing away some dead leaves that had fluttered down from the trees upon her face . qwerty  \" wake up ,  alice dear !  \" said her sister ;  \" why ,  what a long sleep you\\'ve had ! \\'qwerty  \" oh ,  i\\'ve had such a curious dream !  \" said alice ,  and she told her sister ,  as well as she could remember them ,  all these strange adventures of hers that you have just been reading about ;  and when she had finished ,  her sister kissed her ,  and said ,  \" it was a curious dream ,  dear ,  certainly :   but now run in to your tea ;  it\\'s getting late .  \"  so alice got up and ran off ,  thinking while she ran ,  as well she might ,  what a wonderful dream it had been . qwerty  but her sister sat still just as she left her ,  leaning her head on her hand ,  watching the setting sun ,  and thinking of little alice and all her wonderful adventures ,  till she too began dreaming after a fashion ,  and this was her dream :  -  - qwerty  first ,  she dreamed of little alice herself ,  and once again the tiny hands were clasped upon her knee ,  and the bright eager eyes were looking up into hers -  - she could hear the very tones of her voice ,  and see that queer little toss of her head to keep back the wandering hair that would always get into her eyes -  - and still as she listened ,  or seemed to listen ,  the whole place around her became alive the strange creatures of her little sister\\'s dream . qwerty  the long grass rustled at her feet as the white rabbit hurried by -  - the frightened mouse splashed his way through the neighbouring pool -  - she could hear the rattle of the teacups as the march hare and his friends shared their never - ending meal ,  and the shrill voice of the queen ordering off her unfortunate guests to execution -  - once more the pig - baby was sneezing on the duchess\\'s knee ,  while plates and dishes crashed around it -  - once more the shriek of the gryphon ,  the squeaking of the lizard\\'s slate - pencil ,  and the choking of the suppressed guinea - pigs ,  filled the air ,  mixed up with the distant sobs of the miserable mock turtle . qwerty  so she sat on ,  with closed eyes ,  and half believed herself in wonderland ,  though she knew she had but to open them again ,  and all would change to dull reality -  - the grass would be only rustling in the wind ,  and the pool rippling to the waving of the reeds -  - the rattling teacups would change to tinkling sheep -  bells ,  and the queen\\'s shrill cries to the voice of the shepherd boy -  - and the sneeze of the baby ,  the shriek of the gryphon ,  and all the other queer noises ,  would change  ( she knew )  to the confused clamour of the busy farm - yard -  - while the lowing of the cattle in the distance would take the place of the mock turtle\\'s heavy sobs . qwerty  lastly ,  she pictured to herself how this same little sister of hers would ,  in the after - time ,  be herself a grown woman ;  and how she would keep ,  through all her riper years ,  the simple and loving heart of her childhood :   and how she would gather about her other little children ,  and make their eyes bright and eager with many a strange tale ,  perhaps even with the dream of wonderland of long ago :   and how she would feel with all their simple sorrows ,  and find a pleasure in all their simple joys ,  remembering her own child - life ,  and the happy summer days . qwerty                             the end'"
            ]
          },
          "metadata": {
            "tags": []
          },
          "execution_count": 47
        }
      ]
    },
    {
      "metadata": {
        "id": "GOO8NEAdqCbq",
        "colab_type": "code",
        "colab": {}
      },
      "cell_type": "code",
      "source": [
        "alice_ind = word_list_to_index(alice_words)"
      ],
      "execution_count": 0,
      "outputs": []
    },
    {
      "metadata": {
        "id": "b07wP89KNM-E",
        "colab_type": "text"
      },
      "cell_type": "markdown",
      "source": [
        "## Creating training set: input - sequence of 20 words, output - 21-th word"
      ]
    },
    {
      "metadata": {
        "id": "WGA1PaO3qCbr",
        "colab_type": "code",
        "colab": {}
      },
      "cell_type": "code",
      "source": [
        "sequence_len = 20\n",
        "train_x = []\n",
        "train_y = []\n",
        "\n",
        "for i in range(alice_ind.shape[0] - sequence_len - 1):\n",
        "    train_x.append(alice_ind[i:i+sequence_len])\n",
        "    train_y.append(alice_ind[i+sequence_len])\n",
        "\n",
        "train_x = np.array(train_x)\n",
        "train_y = np.array(train_y)"
      ],
      "execution_count": 0,
      "outputs": []
    },
    {
      "metadata": {
        "id": "U4QZbpkuPFuw",
        "colab_type": "code",
        "outputId": "33f95186-b529-4bf6-aa5c-95a329fbb243",
        "colab": {
          "base_uri": "https://localhost:8080/",
          "height": 34
        }
      },
      "cell_type": "code",
      "source": [
        "train_x.shape"
      ],
      "execution_count": 0,
      "outputs": [
        {
          "output_type": "execute_result",
          "data": {
            "text/plain": [
              "(34703, 20)"
            ]
          },
          "metadata": {
            "tags": []
          },
          "execution_count": 53
        }
      ]
    },
    {
      "metadata": {
        "id": "htaTj6_uqCbs",
        "colab_type": "code",
        "outputId": "b9b50e82-d361-4221-e44d-555f8983e61f",
        "colab": {
          "base_uri": "https://localhost:8080/",
          "height": 34
        }
      },
      "cell_type": "code",
      "source": [
        "train_y.shape"
      ],
      "execution_count": 0,
      "outputs": [
        {
          "output_type": "execute_result",
          "data": {
            "text/plain": [
              "(34703,)"
            ]
          },
          "metadata": {
            "tags": []
          },
          "execution_count": 50
        }
      ]
    },
    {
      "metadata": {
        "id": "8zfPZmGjPBF4",
        "colab_type": "code",
        "outputId": "4b41f156-baef-42f8-841c-fed09cb62fea",
        "colab": {
          "base_uri": "https://localhost:8080/",
          "height": 34
        }
      },
      "cell_type": "code",
      "source": [
        "index_to_text(train_x[46])"
      ],
      "execution_count": 0,
      "outputs": [
        {
          "output_type": "execute_result",
          "data": {
            "text/plain": [
              "': once or twice she had peeped into the book her sister was reading , but it had no pictures '"
            ]
          },
          "metadata": {
            "tags": []
          },
          "execution_count": 52
        }
      ]
    },
    {
      "metadata": {
        "id": "NrZyyLDPPIgx",
        "colab_type": "code",
        "outputId": "6b6eb5fc-cbe9-4426-e12c-84c3e831816a",
        "colab": {
          "base_uri": "https://localhost:8080/",
          "height": 34
        }
      },
      "cell_type": "code",
      "source": [
        "index_to_text(np.array([train_y[45]]))"
      ],
      "execution_count": 0,
      "outputs": [
        {
          "output_type": "execute_result",
          "data": {
            "text/plain": [
              "'pictures '"
            ]
          },
          "metadata": {
            "tags": []
          },
          "execution_count": 54
        }
      ]
    },
    {
      "metadata": {
        "id": "4g-hlgOINTAI",
        "colab_type": "text"
      },
      "cell_type": "markdown",
      "source": [
        "## Building RNN: embedding layer followed by 2 LSTM layers placed on top of each other, followed by Dense layer with softmax predicting next word in the sequence"
      ]
    },
    {
      "metadata": {
        "id": "LbHsr9pNqCbt",
        "colab_type": "code",
        "colab": {}
      },
      "cell_type": "code",
      "source": [
        "from keras.layers import LSTM, Dense, Embedding, CuDNNLSTM"
      ],
      "execution_count": 0,
      "outputs": []
    },
    {
      "metadata": {
        "id": "__LnKRStqCbv",
        "colab_type": "code",
        "colab": {}
      },
      "cell_type": "code",
      "source": [
        "model = keras.Sequential()\n",
        "model.add(Embedding(len(vocab), 30))\n",
        "model.add(CuDNNLSTM(64, return_sequences = True))\n",
        "model.add(CuDNNLSTM(128, return_sequences = False))\n",
        "model.add(Dense(len(vocab), activation = \"softmax\"))"
      ],
      "execution_count": 0,
      "outputs": []
    },
    {
      "metadata": {
        "id": "ZSKhDLdHqCbx",
        "colab_type": "code",
        "outputId": "4f14441c-239f-4701-e763-c610e28ebfa3",
        "colab": {
          "base_uri": "https://localhost:8080/",
          "height": 272
        }
      },
      "cell_type": "code",
      "source": [
        "model.summary()"
      ],
      "execution_count": 0,
      "outputs": [
        {
          "output_type": "stream",
          "text": [
            "_________________________________________________________________\n",
            "Layer (type)                 Output Shape              Param #   \n",
            "=================================================================\n",
            "embedding_1 (Embedding)      (None, None, 30)          80610     \n",
            "_________________________________________________________________\n",
            "cu_dnnlstm_1 (CuDNNLSTM)     (None, None, 64)          24576     \n",
            "_________________________________________________________________\n",
            "cu_dnnlstm_2 (CuDNNLSTM)     (None, 128)               99328     \n",
            "_________________________________________________________________\n",
            "dense_1 (Dense)              (None, 2687)              346623    \n",
            "=================================================================\n",
            "Total params: 551,137\n",
            "Trainable params: 551,137\n",
            "Non-trainable params: 0\n",
            "_________________________________________________________________\n"
          ],
          "name": "stdout"
        }
      ]
    },
    {
      "metadata": {
        "id": "lV0s0ueqs0zs",
        "colab_type": "code",
        "colab": {}
      },
      "cell_type": "code",
      "source": [
        "model.compile(optimizer=keras.optimizers.Adam(), \n",
        "              loss = keras.losses.sparse_categorical_crossentropy, \n",
        "              metrics=['accuracy'])"
      ],
      "execution_count": 0,
      "outputs": []
    },
    {
      "metadata": {
        "id": "GswNMP2gqCbz",
        "colab_type": "code",
        "outputId": "40cfcd9d-573b-4cd3-e7f9-45961dec97d9",
        "colab": {
          "base_uri": "https://localhost:8080/",
          "height": 714
        }
      },
      "cell_type": "code",
      "source": [
        "model.fit(train_x, train_y, batch_size = 32, epochs = 20)"
      ],
      "execution_count": 0,
      "outputs": [
        {
          "output_type": "stream",
          "text": [
            "Epoch 1/20\n",
            "34703/34703 [==============================] - 22s 631us/step - loss: 5.6814 - acc: 0.0914\n",
            "Epoch 2/20\n",
            "34703/34703 [==============================] - 18s 506us/step - loss: 5.1724 - acc: 0.1306\n",
            "Epoch 3/20\n",
            "34703/34703 [==============================] - 18s 507us/step - loss: 4.9184 - acc: 0.1545\n",
            "Epoch 4/20\n",
            "34703/34703 [==============================] - 18s 506us/step - loss: 4.7158 - acc: 0.1736\n",
            "Epoch 5/20\n",
            "34703/34703 [==============================] - 18s 506us/step - loss: 4.5603 - acc: 0.1885\n",
            "Epoch 6/20\n",
            "34703/34703 [==============================] - 18s 506us/step - loss: 4.4287 - acc: 0.1954\n",
            "Epoch 7/20\n",
            "34703/34703 [==============================] - 18s 507us/step - loss: 4.3088 - acc: 0.2027\n",
            "Epoch 8/20\n",
            "34703/34703 [==============================] - 18s 514us/step - loss: 4.1985 - acc: 0.2116\n",
            "Epoch 9/20\n",
            "34703/34703 [==============================] - 18s 508us/step - loss: 4.0949 - acc: 0.2192\n",
            "Epoch 10/20\n",
            "34703/34703 [==============================] - 18s 512us/step - loss: 3.9942 - acc: 0.2256\n",
            "Epoch 11/20\n",
            "34703/34703 [==============================] - 18s 505us/step - loss: 3.8956 - acc: 0.2323\n",
            "Epoch 12/20\n",
            "34703/34703 [==============================] - 18s 504us/step - loss: 3.8064 - acc: 0.2384\n",
            "Epoch 13/20\n",
            "34703/34703 [==============================] - 18s 504us/step - loss: 3.7206 - acc: 0.2421\n",
            "Epoch 14/20\n",
            "34703/34703 [==============================] - 18s 505us/step - loss: 3.6424 - acc: 0.2472\n",
            "Epoch 15/20\n",
            "34703/34703 [==============================] - 18s 506us/step - loss: 3.5693 - acc: 0.2521\n",
            "Epoch 16/20\n",
            "34703/34703 [==============================] - 18s 508us/step - loss: 3.4963 - acc: 0.2599\n",
            "Epoch 17/20\n",
            "34703/34703 [==============================] - 18s 506us/step - loss: 3.4285 - acc: 0.2645\n",
            "Epoch 18/20\n",
            "34703/34703 [==============================] - 18s 507us/step - loss: 3.3649 - acc: 0.2692\n",
            "Epoch 19/20\n",
            "34703/34703 [==============================] - 18s 507us/step - loss: 3.3040 - acc: 0.2754\n",
            "Epoch 20/20\n",
            "34703/34703 [==============================] - 18s 507us/step - loss: 3.2446 - acc: 0.2822\n"
          ],
          "name": "stdout"
        },
        {
          "output_type": "execute_result",
          "data": {
            "text/plain": [
              "<keras.callbacks.History at 0x7fa7abcd2908>"
            ]
          },
          "metadata": {
            "tags": []
          },
          "execution_count": 59
        }
      ]
    },
    {
      "metadata": {
        "id": "JRhUyuuFNdL3",
        "colab_type": "text"
      },
      "cell_type": "markdown",
      "source": [
        "## model_new has the same structure and weights as model, except it is stateful - so its hidden state is not reseted after each call of predict function. This allows to make text predictions of arbitrary length updating hidden state word by word"
      ]
    },
    {
      "metadata": {
        "id": "_pBsutK5u0gD",
        "colab_type": "code",
        "colab": {}
      },
      "cell_type": "code",
      "source": [
        "model_new = keras.Sequential()\n",
        "model_new.add(Embedding(len(vocab), 30, batch_input_shape = (1, 1)))\n",
        "model_new.add(CuDNNLSTM(64, return_sequences = True, stateful = True))\n",
        "model_new.add(CuDNNLSTM(128, return_sequences = False, stateful = True))\n",
        "model_new.add(Dense(len(vocab), activation = \"softmax\"))"
      ],
      "execution_count": 0,
      "outputs": []
    },
    {
      "metadata": {
        "id": "4tBFqrfdvUdh",
        "colab_type": "code",
        "colab": {}
      },
      "cell_type": "code",
      "source": [
        "model_new.set_weights(model.get_weights())"
      ],
      "execution_count": 0,
      "outputs": []
    },
    {
      "metadata": {
        "id": "vS3863yANisa",
        "colab_type": "text"
      },
      "cell_type": "markdown",
      "source": [
        "## Function predict takes input string and number of words to be predicted as parameters and produces next words using trained model. It chooses most probable word at each step."
      ]
    },
    {
      "metadata": {
        "id": "97fgSC8Ds1qo",
        "colab_type": "code",
        "colab": {}
      },
      "cell_type": "code",
      "source": [
        "def predict(s, numWords):\n",
        "  s_return = s\n",
        "  s_ind = text_to_index(s)\n",
        "  model_new.reset_states()\n",
        "  \n",
        "  for i in range(s_ind.shape[0]):\n",
        "    pred = model_new.predict_on_batch(np.array(s_ind[i]).reshape(1,1))\n",
        "    \n",
        "  for i in range(numWords):\n",
        "    next_word_ind = np.argmax(pred)\n",
        "    s_return += \" \" + index_to_word[next_word_ind]\n",
        "    pred = model_new.predict_on_batch(np.array(next_word_ind).reshape(1,1))\n",
        "  return s_return"
      ],
      "execution_count": 0,
      "outputs": []
    },
    {
      "metadata": {
        "id": "I6fifa_ANmnm",
        "colab_type": "text"
      },
      "cell_type": "markdown",
      "source": [
        "## Function predictRandom chooses predicted words randomly according to computed probabilities. Parameter conf allows to control certainty in making predictions: big conf converts process to argmax, low conf is equivalent to choosing words with uniform probability."
      ]
    },
    {
      "metadata": {
        "id": "eLi6HzyG8wq-",
        "colab_type": "code",
        "colab": {}
      },
      "cell_type": "code",
      "source": [
        "def predictRandom(s, numWords, conf = 1):\n",
        "  s_return = s\n",
        "  s_ind = text_to_index(s)\n",
        "  model_new.reset_states()\n",
        "  \n",
        "  for i in range(s_ind.shape[0]):\n",
        "    pred = model_new.predict_on_batch(np.array(s_ind[i]).reshape(1,1))\n",
        "    \n",
        "  for i in range(numWords):\n",
        "    pred_new = np.power(pred[0], conf)\n",
        "    pred_new = pred_new / np.sum(pred_new)\n",
        "    \n",
        "    next_word_ind = np.random.choice(np.arange(len(vocab)), p = pred_new)\n",
        "    \n",
        "    s_return += \" \" + index_to_word[next_word_ind]\n",
        "    pred = model_new.predict_on_batch(np.array(next_word_ind).reshape(1,1))\n",
        "  return s_return"
      ],
      "execution_count": 0,
      "outputs": []
    },
    {
      "metadata": {
        "id": "gVlqGrO0xzbU",
        "colab_type": "code",
        "outputId": "0153e855-1bb4-4e8d-b907-16cbb5db0936",
        "colab": {
          "base_uri": "https://localhost:8080/",
          "height": 34
        }
      },
      "cell_type": "code",
      "source": [
        "predictRandom(\"Sense of life be\", 15, 2)"
      ],
      "execution_count": 0,
      "outputs": [
        {
          "output_type": "execute_result",
          "data": {
            "text/plain": [
              "'Sense of life be , when what , \" thought the mouse : \" i don\\'t know you could'"
            ]
          },
          "metadata": {
            "tags": []
          },
          "execution_count": 64
        }
      ]
    },
    {
      "metadata": {
        "id": "CBJGqQSINs9x",
        "colab_type": "text"
      },
      "cell_type": "markdown",
      "source": [
        "## Here we visualize learned 30-dimentional embeddings with TSNE procedure, that fits 2-dimensional manifold and gives us 2-dimensional representation of embeddings that can be plotted."
      ]
    },
    {
      "metadata": {
        "id": "pl7u9X6px3OM",
        "colab_type": "code",
        "colab": {}
      },
      "cell_type": "code",
      "source": [
        "from sklearn.manifold import TSNE"
      ],
      "execution_count": 0,
      "outputs": []
    },
    {
      "metadata": {
        "id": "JIxk5pz4Awc7",
        "colab_type": "code",
        "colab": {}
      },
      "cell_type": "code",
      "source": [
        "embeddings = model.get_weights()[0]"
      ],
      "execution_count": 0,
      "outputs": []
    },
    {
      "metadata": {
        "id": "QR5EXApmBKSW",
        "colab_type": "code",
        "outputId": "2cc04c8d-80c4-476c-aa9d-66d007d3ec0e",
        "colab": {
          "base_uri": "https://localhost:8080/",
          "height": 34
        }
      },
      "cell_type": "code",
      "source": [
        "embeddings.shape"
      ],
      "execution_count": 0,
      "outputs": [
        {
          "output_type": "execute_result",
          "data": {
            "text/plain": [
              "(2687, 30)"
            ]
          },
          "metadata": {
            "tags": []
          },
          "execution_count": 67
        }
      ]
    },
    {
      "metadata": {
        "id": "Bd8hzcVRBPqC",
        "colab_type": "code",
        "colab": {}
      },
      "cell_type": "code",
      "source": [
        "tsne = TSNE()"
      ],
      "execution_count": 0,
      "outputs": []
    },
    {
      "metadata": {
        "id": "qm2JoAW3BTdd",
        "colab_type": "code",
        "colab": {}
      },
      "cell_type": "code",
      "source": [
        "plane_embs = tsne.fit_transform(embeddings)"
      ],
      "execution_count": 0,
      "outputs": []
    },
    {
      "metadata": {
        "id": "hUWSKBNlB5yn",
        "colab_type": "code",
        "outputId": "e4b4ab82-2790-44ec-d22e-5a082683b39b",
        "colab": {
          "base_uri": "https://localhost:8080/",
          "height": 34
        }
      },
      "cell_type": "code",
      "source": [
        "plane_embs.shape"
      ],
      "execution_count": 0,
      "outputs": [
        {
          "output_type": "execute_result",
          "data": {
            "text/plain": [
              "(2687, 2)"
            ]
          },
          "metadata": {
            "tags": []
          },
          "execution_count": 70
        }
      ]
    },
    {
      "metadata": {
        "id": "BXWqAU8POA5s",
        "colab_type": "text"
      },
      "cell_type": "markdown",
      "source": [
        "## Normalizing embeddings to be inside [0,1] interval"
      ]
    },
    {
      "metadata": {
        "id": "ODo5Ra7_E2eC",
        "colab_type": "code",
        "colab": {}
      },
      "cell_type": "code",
      "source": [
        "plane_embs[:,0] = (plane_embs[:, 0] + 60)/120\n",
        "plane_embs[:,1] = (plane_embs[:, 1] + 60)/120"
      ],
      "execution_count": 0,
      "outputs": []
    },
    {
      "metadata": {
        "id": "x8vlSUWnOGRz",
        "colab_type": "code",
        "colab": {}
      },
      "cell_type": "code",
      "source": [
        "import matplotlib.pyplot as plt"
      ],
      "execution_count": 0,
      "outputs": []
    },
    {
      "metadata": {
        "id": "4duN33PnOIcE",
        "colab_type": "code",
        "outputId": "2db6c4af-eb7c-403b-c1c7-2669748b8674",
        "colab": {
          "base_uri": "https://localhost:8080/",
          "height": 364
        }
      },
      "cell_type": "code",
      "source": [
        "plt.scatter(plane_embs[:,0], plane_embs[:,1])"
      ],
      "execution_count": 0,
      "outputs": [
        {
          "output_type": "execute_result",
          "data": {
            "text/plain": [
              "<matplotlib.collections.PathCollection at 0x7fa7a1d09dd8>"
            ]
          },
          "metadata": {
            "tags": []
          },
          "execution_count": 73
        },
        {
          "output_type": "display_data",
          "data": {
            "image/png": "[encoded data removed]",
            "text/plain": [
              "<matplotlib.figure.Figure at 0x7fa7a30ba668>"
            ]
          },
          "metadata": {
            "tags": []
          }
        }
      ]
    },
    {
      "metadata": {
        "id": "aR8u0lKwONPJ",
        "colab_type": "text"
      },
      "cell_type": "markdown",
      "source": [
        "## Plotting 2-dimensinal representations of words on plane"
      ]
    },
    {
      "metadata": {
        "id": "y-m_giHVOKXV",
        "colab_type": "code",
        "colab": {}
      },
      "cell_type": "code",
      "source": [
        "import pylab "
      ],
      "execution_count": 0,
      "outputs": []
    },
    {
      "metadata": {
        "id": "IvsWjn1xOQoV",
        "colab_type": "code",
        "outputId": "66ae8dc6-668f-4b6b-851c-30f6c8676293",
        "colab": {
          "base_uri": "https://localhost:8080/",
          "height": 266
        }
      },
      "cell_type": "code",
      "source": [
        "pylab.figure(figsize = (100,100))\n",
        "for i in range(plane_embs.shape[0]):\n",
        "  #print(i)\n",
        "  #print(plane_embs[i])\n",
        "  pylab.annotate(ind_to_word[i], (plane_embs[i][0], plane_embs[i][1]))\n",
        "pylab.savefig(\"emb.jpg\")"
      ],
      "execution_count": 0,
      "outputs": [
        {
          "output_type": "stream",
          "text": [
            "0\n",
            "[0.6018483  0.08515672]\n"
          ],
          "name": "stdout"
        },
        {
          "output_type": "error",
          "ename": "NameError",
          "evalue": "ignored",
          "traceback": [
            "\u001b[0;31m---------------------------------------------------------------------------\u001b[0m",
            "\u001b[0;31mNameError\u001b[0m                                 Traceback (most recent call last)",
            "\u001b[0;32m<ipython-input-76-65d92fa547e5>\u001b[0m in \u001b[0;36m<module>\u001b[0;34m()\u001b[0m\n\u001b[1;32m      3\u001b[0m   \u001b[0mprint\u001b[0m\u001b[0;34m(\u001b[0m\u001b[0mi\u001b[0m\u001b[0;34m)\u001b[0m\u001b[0;34m\u001b[0m\u001b[0;34m\u001b[0m\u001b[0m\n\u001b[1;32m      4\u001b[0m   \u001b[0mprint\u001b[0m\u001b[0;34m(\u001b[0m\u001b[0mplane_embs\u001b[0m\u001b[0;34m[\u001b[0m\u001b[0mi\u001b[0m\u001b[0;34m]\u001b[0m\u001b[0;34m)\u001b[0m\u001b[0;34m\u001b[0m\u001b[0;34m\u001b[0m\u001b[0m\n\u001b[0;32m----> 5\u001b[0;31m   \u001b[0mpylab\u001b[0m\u001b[0;34m.\u001b[0m\u001b[0mannotate\u001b[0m\u001b[0;34m(\u001b[0m\u001b[0mind_to_word\u001b[0m\u001b[0;34m[\u001b[0m\u001b[0mi\u001b[0m\u001b[0;34m]\u001b[0m\u001b[0;34m,\u001b[0m \u001b[0;34m(\u001b[0m\u001b[0mplane_embs\u001b[0m\u001b[0;34m[\u001b[0m\u001b[0mi\u001b[0m\u001b[0;34m]\u001b[0m\u001b[0;34m[\u001b[0m\u001b[0;36m0\u001b[0m\u001b[0;34m]\u001b[0m\u001b[0;34m,\u001b[0m \u001b[0mplane_embs\u001b[0m\u001b[0;34m[\u001b[0m\u001b[0mi\u001b[0m\u001b[0;34m]\u001b[0m\u001b[0;34m[\u001b[0m\u001b[0;36m1\u001b[0m\u001b[0;34m]\u001b[0m\u001b[0;34m)\u001b[0m\u001b[0;34m)\u001b[0m\u001b[0;34m\u001b[0m\u001b[0;34m\u001b[0m\u001b[0m\n\u001b[0m\u001b[1;32m      6\u001b[0m \u001b[0mpylab\u001b[0m\u001b[0;34m.\u001b[0m\u001b[0msavefig\u001b[0m\u001b[0;34m(\u001b[0m\u001b[0;34m\"emb.jpg\"\u001b[0m\u001b[0;34m)\u001b[0m\u001b[0;34m\u001b[0m\u001b[0;34m\u001b[0m\u001b[0m\n",
            "\u001b[0;31mNameError\u001b[0m: name 'ind_to_word' is not defined"
          ]
        },
        {
          "output_type": "display_data",
          "data": {
            "text/plain": [
              "<matplotlib.figure.Figure at 0x7fa7a1c8fe80>"
            ]
          },
          "metadata": {
            "tags": []
          }
        }
      ]
    }
  ]
}